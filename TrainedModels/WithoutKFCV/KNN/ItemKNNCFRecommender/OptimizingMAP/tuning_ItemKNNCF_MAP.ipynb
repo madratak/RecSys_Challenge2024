{
 "cells": [
  {
   "cell_type": "markdown",
   "id": "71987d90",
   "metadata": {
    "papermill": {
     "duration": 0.006118,
     "end_time": "2024-11-29T16:11:59.427102",
     "exception": false,
     "start_time": "2024-11-29T16:11:59.420984",
     "status": "completed"
    },
    "tags": []
   },
   "source": [
    "# Set connection with GitHub"
   ]
  },
  {
   "cell_type": "code",
   "execution_count": 1,
   "id": "6c5eb78e",
   "metadata": {
    "execution": {
     "iopub.execute_input": "2024-11-29T16:11:59.440065Z",
     "iopub.status.busy": "2024-11-29T16:11:59.439536Z",
     "iopub.status.idle": "2024-11-29T16:11:59.446338Z",
     "shell.execute_reply": "2024-11-29T16:11:59.445017Z"
    },
    "papermill": {
     "duration": 0.017038,
     "end_time": "2024-11-29T16:11:59.449743",
     "exception": false,
     "start_time": "2024-11-29T16:11:59.432705",
     "status": "completed"
    },
    "tags": []
   },
   "outputs": [],
   "source": [
    "# ! cd /kaggle/working && rm -rf RECsys_Challenge2024"
   ]
  },
  {
   "cell_type": "code",
   "execution_count": 2,
   "id": "0908ab6f",
   "metadata": {
    "_cell_guid": "b1076dfc-b9ad-4769-8c92-a6c4dae69d19",
    "_uuid": "8f2839f25d086af736a60e9eeb907d3b93b6e0e5",
    "execution": {
     "iopub.execute_input": "2024-11-29T16:11:59.462797Z",
     "iopub.status.busy": "2024-11-29T16:11:59.462373Z",
     "iopub.status.idle": "2024-11-29T16:12:10.332617Z",
     "shell.execute_reply": "2024-11-29T16:12:10.331026Z"
    },
    "papermill": {
     "duration": 10.879739,
     "end_time": "2024-11-29T16:12:10.335358",
     "exception": false,
     "start_time": "2024-11-29T16:11:59.455619",
     "status": "completed"
    },
    "tags": []
   },
   "outputs": [
    {
     "name": "stdout",
     "output_type": "stream",
     "text": [
      "Cloning into 'RECsys_Challenge2024'...\r\n",
      "remote: Enumerating objects: 2945, done.\u001b[K\r\n",
      "remote: Counting objects: 100% (418/418), done.\u001b[K\r\n",
      "remote: Compressing objects: 100% (189/189), done.\u001b[K\r\n",
      "remote: Total 2945 (delta 204), reused 376 (delta 180), pack-reused 2527 (from 1)\u001b[K\r\n",
      "Receiving objects: 100% (2945/2945), 152.72 MiB | 22.44 MiB/s, done.\r\n",
      "Resolving deltas: 100% (1723/1723), done.\r\n"
     ]
    }
   ],
   "source": [
    "from kaggle_secrets import UserSecretsClient\n",
    "\n",
    "token = UserSecretsClient().get_secret(\"Token\")\n",
    "\n",
    "! git clone https://{token}@github.com/madratak/RECsys_Challenge2024.git"
   ]
  },
  {
   "cell_type": "code",
   "execution_count": 3,
   "id": "bea7c813",
   "metadata": {
    "execution": {
     "iopub.execute_input": "2024-11-29T16:12:10.356681Z",
     "iopub.status.busy": "2024-11-29T16:12:10.356153Z",
     "iopub.status.idle": "2024-11-29T16:12:22.866006Z",
     "shell.execute_reply": "2024-11-29T16:12:22.864724Z"
    },
    "papermill": {
     "duration": 12.523379,
     "end_time": "2024-11-29T16:12:22.868719",
     "exception": false,
     "start_time": "2024-11-29T16:12:10.345340",
     "status": "completed"
    },
    "tags": []
   },
   "outputs": [
    {
     "name": "stdout",
     "output_type": "stream",
     "text": [
      "Collecting PyGithub\r\n",
      "  Downloading PyGithub-2.5.0-py3-none-any.whl.metadata (3.9 kB)\r\n",
      "Requirement already satisfied: requests in /opt/conda/lib/python3.10/site-packages (2.32.3)\r\n",
      "Collecting pynacl>=1.4.0 (from PyGithub)\r\n",
      "  Downloading PyNaCl-1.5.0-cp36-abi3-manylinux_2_17_x86_64.manylinux2014_x86_64.manylinux_2_24_x86_64.whl.metadata (8.6 kB)\r\n",
      "Requirement already satisfied: pyjwt>=2.4.0 in /opt/conda/lib/python3.10/site-packages (from pyjwt[crypto]>=2.4.0->PyGithub) (2.8.0)\r\n",
      "Requirement already satisfied: typing-extensions>=4.0.0 in /opt/conda/lib/python3.10/site-packages (from PyGithub) (4.12.2)\r\n",
      "Requirement already satisfied: urllib3>=1.26.0 in /opt/conda/lib/python3.10/site-packages (from PyGithub) (1.26.18)\r\n",
      "Requirement already satisfied: Deprecated in /opt/conda/lib/python3.10/site-packages (from PyGithub) (1.2.14)\r\n",
      "Requirement already satisfied: charset-normalizer<4,>=2 in /opt/conda/lib/python3.10/site-packages (from requests) (3.3.2)\r\n",
      "Requirement already satisfied: idna<4,>=2.5 in /opt/conda/lib/python3.10/site-packages (from requests) (3.7)\r\n",
      "Requirement already satisfied: certifi>=2017.4.17 in /opt/conda/lib/python3.10/site-packages (from requests) (2024.8.30)\r\n",
      "Requirement already satisfied: cryptography>=3.4.0 in /opt/conda/lib/python3.10/site-packages (from pyjwt[crypto]>=2.4.0->PyGithub) (42.0.8)\r\n",
      "Requirement already satisfied: cffi>=1.4.1 in /opt/conda/lib/python3.10/site-packages (from pynacl>=1.4.0->PyGithub) (1.16.0)\r\n",
      "Requirement already satisfied: wrapt<2,>=1.10 in /opt/conda/lib/python3.10/site-packages (from Deprecated->PyGithub) (1.16.0)\r\n",
      "Requirement already satisfied: pycparser in /opt/conda/lib/python3.10/site-packages (from cffi>=1.4.1->pynacl>=1.4.0->PyGithub) (2.22)\r\n",
      "Downloading PyGithub-2.5.0-py3-none-any.whl (375 kB)\r\n",
      "\u001b[2K   \u001b[90m━━━━━━━━━━━━━━━━━━━━━━━━━━━━━━━━━━━━━━━━\u001b[0m \u001b[32m375.9/375.9 kB\u001b[0m \u001b[31m11.5 MB/s\u001b[0m eta \u001b[36m0:00:00\u001b[0m\r\n",
      "\u001b[?25hDownloading PyNaCl-1.5.0-cp36-abi3-manylinux_2_17_x86_64.manylinux2014_x86_64.manylinux_2_24_x86_64.whl (856 kB)\r\n",
      "\u001b[2K   \u001b[90m━━━━━━━━━━━━━━━━━━━━━━━━━━━━━━━━━━━━━━━━\u001b[0m \u001b[32m856.7/856.7 kB\u001b[0m \u001b[31m32.0 MB/s\u001b[0m eta \u001b[36m0:00:00\u001b[0m\r\n",
      "\u001b[?25hInstalling collected packages: pynacl, PyGithub\r\n",
      "Successfully installed PyGithub-2.5.0 pynacl-1.5.0\r\n"
     ]
    }
   ],
   "source": [
    "! pip install PyGithub requests"
   ]
  },
  {
   "cell_type": "code",
   "execution_count": 4,
   "id": "7586ecff",
   "metadata": {
    "_kg_hide-input": false,
    "execution": {
     "iopub.execute_input": "2024-11-29T16:12:22.889791Z",
     "iopub.status.busy": "2024-11-29T16:12:22.889374Z",
     "iopub.status.idle": "2024-11-29T16:14:57.857278Z",
     "shell.execute_reply": "2024-11-29T16:14:57.855746Z"
    },
    "papermill": {
     "duration": 154.981211,
     "end_time": "2024-11-29T16:14:57.860137",
     "exception": false,
     "start_time": "2024-11-29T16:12:22.878926",
     "status": "completed"
    },
    "tags": []
   },
   "outputs": [
    {
     "name": "stdout",
     "output_type": "stream",
     "text": [
      "/kaggle/working/RECsys_Challenge2024\n",
      "run_compile_all_cython: Found 11 Cython files in 5 folders...\r\n",
      "run_compile_all_cython: All files will be compiled using your current python environment: '/opt/conda/bin/python'\r\n",
      "Compiling [1/11]: MatrixFactorization_Cython_Epoch.pyx... \r\n",
      "In file included from \u001b[01m\u001b[K/opt/conda/lib/python3.10/site-packages/numpy/core/include/numpy/ndarraytypes.h:1929\u001b[m\u001b[K,\r\n",
      "                 from \u001b[01m\u001b[K/opt/conda/lib/python3.10/site-packages/numpy/core/include/numpy/ndarrayobject.h:12\u001b[m\u001b[K,\r\n",
      "                 from \u001b[01m\u001b[K/opt/conda/lib/python3.10/site-packages/numpy/core/include/numpy/arrayobject.h:5\u001b[m\u001b[K,\r\n",
      "                 from \u001b[01m\u001b[KMatrixFactorization_Cython_Epoch.c:1252\u001b[m\u001b[K:\r\n",
      "\u001b[01m\u001b[K/opt/conda/lib/python3.10/site-packages/numpy/core/include/numpy/npy_1_7_deprecated_api.h:17:2:\u001b[m\u001b[K \u001b[01;35m\u001b[Kwarning: \u001b[m\u001b[K#warning \"Using deprecated NumPy API, disable it with \" \"#define NPY_NO_DEPRECATED_API NPY_1_7_API_VERSION\" [\u001b[01;35m\u001b[K-Wcpp\u001b[m\u001b[K]\r\n",
      "   17 | #\u001b[01;35m\u001b[Kwarning\u001b[m\u001b[K \"Using deprecated NumPy API, disable it with \" \\\r\n",
      "      |  \u001b[01;35m\u001b[K^~~~~~~\u001b[m\u001b[K\r\n",
      "\u001b[01m\u001b[KMatrixFactorization_Cython_Epoch.c:\u001b[m\u001b[K In function '\u001b[01m\u001b[K__pyx_pf_32MatrixFactorization_Cython_Epoch_32MatrixFactorization_Cython_Epoch_10epochIteration_Cython_ASY_SVD_SGD\u001b[m\u001b[K':\r\n",
      "\u001b[01m\u001b[KMatrixFactorization_Cython_Epoch.c:26255:9:\u001b[m\u001b[K \u001b[01;35m\u001b[Kwarning: \u001b[m\u001b[K'\u001b[01m\u001b[K__pyx_v_end_pos_seen_items\u001b[m\u001b[K' may be used uninitialized in this function [\u001b[01;35m\u001b[K-Wmaybe-uninitialized\u001b[m\u001b[K]\r\n",
      "26255 |         \u001b[01;35m\u001b[Kfor\u001b[m\u001b[K (__pyx_t_21 = __pyx_v_start_pos_seen_items; __pyx_t_21 < __pyx_t_20; __pyx_t_21+=1) {\r\n",
      "      |         \u001b[01;35m\u001b[K^~~\u001b[m\u001b[K\r\n",
      "\u001b[01m\u001b[KMatrixFactorization_Cython_Epoch.c:26255:9:\u001b[m\u001b[K \u001b[01;35m\u001b[Kwarning: \u001b[m\u001b[K'\u001b[01m\u001b[K__pyx_v_start_pos_seen_items\u001b[m\u001b[K' may be used uninitialized in this function [\u001b[01;35m\u001b[K-Wmaybe-uninitialized\u001b[m\u001b[K]\r\n",
      "/opt/conda/lib/python3.10/site-packages/Cython/Compiler/Main.py:381: FutureWarning: Cython directive 'language_level' not set, using '3str' for now (Py3). This has changed from earlier releases! File: /kaggle/working/RECsys_Challenge2024/Recommenders/MatrixFactorization/Cython/MatrixFactorization_Cython_Epoch.pyx\r\n",
      "  tree = Parsing.p_module(s, pxd, full_module_name)\r\n",
      "Compiling [1/11]: MatrixFactorization_Cython_Epoch.pyx... PASS\r\n",
      "\r\n",
      "Compiling [2/11]: MatrixFactorizationImpressions_Cython_Epoch.pyx... \r\n",
      "In file included from \u001b[01m\u001b[K/opt/conda/lib/python3.10/site-packages/numpy/core/include/numpy/ndarraytypes.h:1929\u001b[m\u001b[K,\r\n",
      "                 from \u001b[01m\u001b[K/opt/conda/lib/python3.10/site-packages/numpy/core/include/numpy/ndarrayobject.h:12\u001b[m\u001b[K,\r\n",
      "                 from \u001b[01m\u001b[K/opt/conda/lib/python3.10/site-packages/numpy/core/include/numpy/arrayobject.h:5\u001b[m\u001b[K,\r\n",
      "                 from \u001b[01m\u001b[KMatrixFactorizationImpressions_Cython_Epoch.c:1252\u001b[m\u001b[K:\r\n",
      "\u001b[01m\u001b[K/opt/conda/lib/python3.10/site-packages/numpy/core/include/numpy/npy_1_7_deprecated_api.h:17:2:\u001b[m\u001b[K \u001b[01;35m\u001b[Kwarning: \u001b[m\u001b[K#warning \"Using deprecated NumPy API, disable it with \" \"#define NPY_NO_DEPRECATED_API NPY_1_7_API_VERSION\" [\u001b[01;35m\u001b[K-Wcpp\u001b[m\u001b[K]\r\n",
      "   17 | #\u001b[01;35m\u001b[Kwarning\u001b[m\u001b[K \"Using deprecated NumPy API, disable it with \" \\\r\n",
      "      |  \u001b[01;35m\u001b[K^~~~~~~\u001b[m\u001b[K\r\n",
      "\u001b[01m\u001b[KMatrixFactorizationImpressions_Cython_Epoch.c:\u001b[m\u001b[K In function '\u001b[01m\u001b[K__pyx_f_43MatrixFactorizationImpressions_Cython_Epoch_32MatrixFactorization_Cython_Epoch_sampleBPR_Cython\u001b[m\u001b[K':\r\n",
      "\u001b[01m\u001b[KMatrixFactorizationImpressions_Cython_Epoch.c:30351:17:\u001b[m\u001b[K \u001b[01;35m\u001b[Kwarning: \u001b[m\u001b[K'\u001b[01m\u001b[K__pyx_v_start_pos_impression_items\u001b[m\u001b[K' may be used uninitialized in this function [\u001b[01;35m\u001b[K-Wmaybe-uninitialized\u001b[m\u001b[K]\r\n",
      "30351 |       \u001b[01;35m\u001b[K__pyx_t_4 = (__pyx_v_start_pos_impression_items + __pyx_v_index)\u001b[m\u001b[K;\r\n",
      "      |       \u001b[01;35m\u001b[K~~~~~~~~~~^~~~~~~~~~~~~~~~~~~~~~~~~~~~~~~~~~~~~~~~~~~~~~~~~~~~~~\u001b[m\u001b[K\r\n",
      "\u001b[01m\u001b[KMatrixFactorizationImpressions_Cython_Epoch.c:\u001b[m\u001b[K In function '\u001b[01m\u001b[K__pyx_pf_43MatrixFactorizationImpressions_Cython_Epoch_32MatrixFactorization_Cython_Epoch_10epochIteration_Cython_ASY_SVD_SGD\u001b[m\u001b[K':\r\n",
      "\u001b[01m\u001b[KMatrixFactorizationImpressions_Cython_Epoch.c:26111:7:\u001b[m\u001b[K \u001b[01;35m\u001b[Kwarning: \u001b[m\u001b[K'\u001b[01m\u001b[K__pyx_v_end_pos_seen_items\u001b[m\u001b[K' may be used uninitialized in this function [\u001b[01;35m\u001b[K-Wmaybe-uninitialized\u001b[m\u001b[K]\r\n",
      "26111 |       \u001b[01;35m\u001b[Kfor\u001b[m\u001b[K (__pyx_t_21 = __pyx_v_start_pos_seen_items; __pyx_t_21 < __pyx_t_20; __pyx_t_21+=1) {\r\n",
      "      |       \u001b[01;35m\u001b[K^~~\u001b[m\u001b[K\r\n",
      "\u001b[01m\u001b[KMatrixFactorizationImpressions_Cython_Epoch.c:26111:7:\u001b[m\u001b[K \u001b[01;35m\u001b[Kwarning: \u001b[m\u001b[K'\u001b[01m\u001b[K__pyx_v_start_pos_seen_items\u001b[m\u001b[K' may be used uninitialized in this function [\u001b[01;35m\u001b[K-Wmaybe-uninitialized\u001b[m\u001b[K]\r\n",
      "/opt/conda/lib/python3.10/site-packages/Cython/Compiler/Main.py:381: FutureWarning: Cython directive 'language_level' not set, using '3str' for now (Py3). This has changed from earlier releases! File: /kaggle/working/RECsys_Challenge2024/Recommenders/MatrixFactorization/Cython/MatrixFactorizationImpressions_Cython_Epoch.pyx\r\n",
      "  tree = Parsing.p_module(s, pxd, full_module_name)\r\n",
      "Compiling [2/11]: MatrixFactorizationImpressions_Cython_Epoch.pyx... PASS\r\n",
      "\r\n",
      "Compiling [3/11]: Compute_Similarity_Cython.pyx... \r\n",
      "warning: Compute_Similarity_Cython.pyx:21:0: The 'IF' statement is deprecated and will be removed in a future Cython version. Consider using runtime conditions or C macros instead. See https://github.com/cython/cython/issues/4310\r\n",
      "In file included from \u001b[01m\u001b[K/opt/conda/lib/python3.10/site-packages/numpy/core/include/numpy/ndarraytypes.h:1929\u001b[m\u001b[K,\r\n",
      "                 from \u001b[01m\u001b[K/opt/conda/lib/python3.10/site-packages/numpy/core/include/numpy/ndarrayobject.h:12\u001b[m\u001b[K,\r\n",
      "                 from \u001b[01m\u001b[K/opt/conda/lib/python3.10/site-packages/numpy/core/include/numpy/arrayobject.h:5\u001b[m\u001b[K,\r\n",
      "                 from \u001b[01m\u001b[KCompute_Similarity_Cython.c:1252\u001b[m\u001b[K:\r\n",
      "\u001b[01m\u001b[K/opt/conda/lib/python3.10/site-packages/numpy/core/include/numpy/npy_1_7_deprecated_api.h:17:2:\u001b[m\u001b[K \u001b[01;35m\u001b[Kwarning: \u001b[m\u001b[K#warning \"Using deprecated NumPy API, disable it with \" \"#define NPY_NO_DEPRECATED_API NPY_1_7_API_VERSION\" [\u001b[01;35m\u001b[K-Wcpp\u001b[m\u001b[K]\r\n",
      "   17 | #\u001b[01;35m\u001b[Kwarning\u001b[m\u001b[K \"Using deprecated NumPy API, disable it with \" \\\r\n",
      "      |  \u001b[01;35m\u001b[K^~~~~~~\u001b[m\u001b[K\r\n",
      "/opt/conda/lib/python3.10/site-packages/Cython/Compiler/Main.py:381: FutureWarning: Cython directive 'language_level' not set, using '3str' for now (Py3). This has changed from earlier releases! File: /kaggle/working/RECsys_Challenge2024/Recommenders/Similarity/Cython/Compute_Similarity_Cython.pyx\r\n",
      "  tree = Parsing.p_module(s, pxd, full_module_name)\r\n",
      "warning: Compute_Similarity_Cython.pyx:21:0: The 'IF' statement is deprecated and will be removed in a future Cython version. Consider using runtime conditions or C macros instead. See https://github.com/cython/cython/issues/4310\r\n",
      "Compiling [3/11]: Compute_Similarity_Cython.pyx... PASS\r\n",
      "\r\n",
      "Compiling [4/11]: Sparse_Matrix_Tree_CSR.pyx... \r\n",
      "warning: Sparse_Matrix_Tree_CSR.pyx:132:34: Non-trivial type declarators in shared declaration (e.g. mix of pointers and values). Each pointer declaration should be on its own line.\r\n",
      "warning: Sparse_Matrix_Tree_CSR.pyx:132:66: Non-trivial type declarators in shared declaration (e.g. mix of pointers and values). Each pointer declaration should be on its own line.\r\n",
      "warning: Sparse_Matrix_Tree_CSR.pyx:343:35: Non-trivial type declarators in shared declaration (e.g. mix of pointers and values). Each pointer declaration should be on its own line.\r\n",
      "warning: Sparse_Matrix_Tree_CSR.pyx:343:52: Non-trivial type declarators in shared declaration (e.g. mix of pointers and values). Each pointer declaration should be on its own line.\r\n",
      "warning: Sparse_Matrix_Tree_CSR.pyx:442:35: Non-trivial type declarators in shared declaration (e.g. mix of pointers and values). Each pointer declaration should be on its own line.\r\n",
      "warning: Sparse_Matrix_Tree_CSR.pyx:442:53: Non-trivial type declarators in shared declaration (e.g. mix of pointers and values). Each pointer declaration should be on its own line.\r\n",
      "warning: Sparse_Matrix_Tree_CSR.pyx:442:69: Non-trivial type declarators in shared declaration (e.g. mix of pointers and values). Each pointer declaration should be on its own line.\r\n",
      "warning: Sparse_Matrix_Tree_CSR.pyx:577:35: Non-trivial type declarators in shared declaration (e.g. mix of pointers and values). Each pointer declaration should be on its own line.\r\n",
      "warning: Sparse_Matrix_Tree_CSR.pyx:577:42: Non-trivial type declarators in shared declaration (e.g. mix of pointers and values). Each pointer declaration should be on its own line.\r\n",
      "warning: Sparse_Matrix_Tree_CSR.pyx:578:35: Non-trivial type declarators in shared declaration (e.g. mix of pointers and values). Each pointer declaration should be on its own line.\r\n",
      "warning: Sparse_Matrix_Tree_CSR.pyx:578:53: Non-trivial type declarators in shared declaration (e.g. mix of pointers and values). Each pointer declaration should be on its own line.\r\n",
      "\r\n",
      "Error compiling Cython file:\r\n",
      "------------------------------------------------------------\r\n",
      "...\r\n",
      "            vector_pointer_to_list_elements[index].head = current_element\r\n",
      "            current_element = current_element.higher\r\n",
      "\r\n",
      "\r\n",
      "        # Sort array elements on their data field\r\n",
      "        qsort(vector_pointer_to_list_elements, list_length, sizeof(head_pointer_tree_s), compare_struct_on_data)\r\n",
      "                                                                                         ^\r\n",
      "------------------------------------------------------------\r\n",
      "\r\n",
      "Sparse_Matrix_Tree_CSR.pyx:516:89: Cannot assign type 'int (const void *, const void *) except? -1' to 'int (*)(const_void *, const_void *) noexcept'. Exception values are incompatible. Suggest adding 'noexcept' to the type of 'compare_struct_on_data'.\r\n",
      "\r\n",
      "Error compiling Cython file:\r\n",
      "------------------------------------------------------------\r\n",
      "...\r\n",
      "        # Sort array elements on their data field\r\n",
      "        qsort(vector_pointer_to_list_elements, list_length, sizeof(head_pointer_tree_s), compare_struct_on_data)\r\n",
      "\r\n",
      "        # Sort only the TopK according to their column field\r\n",
      "        # Sort is from lower to higher, therefore the elements to be considered are from len-topK to len\r\n",
      "        qsort(&vector_pointer_to_list_elements[list_length-TopK], TopK, sizeof(head_pointer_tree_s), compare_struct_on_column)\r\n",
      "                                                                                                     ^\r\n",
      "------------------------------------------------------------\r\n",
      "\r\n",
      "Sparse_Matrix_Tree_CSR.pyx:520:101: Cannot assign type 'int (const void *, const void *) except? -1' to 'int (*)(const_void *, const_void *) noexcept'. Exception values are incompatible. Suggest adding 'noexcept' to the type of 'compare_struct_on_column'.\r\n",
      "Traceback (most recent call last):\r\n",
      "  File \"/kaggle/working/RECsys_Challenge2024/CythonCompiler/compile_script.py\", line 48, in <module>\r\n",
      "    setup(\r\n",
      "  File \"/opt/conda/lib/python3.10/site-packages/setuptools/__init__.py\", line 103, in setup\r\n",
      "    return distutils.core.setup(**attrs)\r\n",
      "  File \"/opt/conda/lib/python3.10/site-packages/setuptools/_distutils/core.py\", line 184, in setup\r\n",
      "    return run_commands(dist)\r\n",
      "  File \"/opt/conda/lib/python3.10/site-packages/setuptools/_distutils/core.py\", line 200, in run_commands\r\n",
      "    dist.run_commands()\r\n",
      "  File \"/opt/conda/lib/python3.10/site-packages/setuptools/_distutils/dist.py\", line 969, in run_commands\r\n",
      "    self.run_command(cmd)\r\n",
      "  File \"/opt/conda/lib/python3.10/site-packages/setuptools/dist.py\", line 968, in run_command\r\n",
      "    super().run_command(command)\r\n",
      "  File \"/opt/conda/lib/python3.10/site-packages/setuptools/_distutils/dist.py\", line 988, in run_command\r\n",
      "    cmd_obj.run()\r\n",
      "  File \"/opt/conda/lib/python3.10/site-packages/setuptools/_distutils/command/build_ext.py\", line 359, in run\r\n",
      "    self.build_extensions()\r\n",
      "  File \"/opt/conda/lib/python3.10/site-packages/setuptools/_distutils/command/build_ext.py\", line 479, in build_extensions\r\n",
      "    self._build_extensions_serial()\r\n",
      "  File \"/opt/conda/lib/python3.10/site-packages/setuptools/_distutils/command/build_ext.py\", line 505, in _build_extensions_serial\r\n",
      "    self.build_extension(ext)\r\n",
      "  File \"/opt/conda/lib/python3.10/site-packages/Cython/Distutils/build_ext.py\", line 130, in build_extension\r\n",
      "    new_ext = cythonize(\r\n",
      "  File \"/opt/conda/lib/python3.10/site-packages/Cython/Build/Dependencies.py\", line 1154, in cythonize\r\n",
      "    cythonize_one(*args)\r\n",
      "  File \"/opt/conda/lib/python3.10/site-packages/Cython/Build/Dependencies.py\", line 1321, in cythonize_one\r\n",
      "    raise CompileError(None, pyx_file)\r\n",
      "Cython.Compiler.Errors.CompileError: Sparse_Matrix_Tree_CSR.pyx\r\n",
      "Traceback (most recent call last):\r\n",
      "  File \"/kaggle/working/RECsys_Challenge2024/run_compile_all_cython.py\", line 60, in <module>\r\n",
      "    run_compile_subprocess(file_path, [file_name])\r\n",
      "  File \"/kaggle/working/RECsys_Challenge2024/CythonCompiler/run_compile_subprocess.py\", line 51, in run_compile_subprocess\r\n",
      "    raise exc\r\n",
      "  File \"/kaggle/working/RECsys_Challenge2024/CythonCompiler/run_compile_subprocess.py\", line 32, in run_compile_subprocess\r\n",
      "    output = subprocess.check_output(' '.join(command),\r\n",
      "  File \"/opt/conda/lib/python3.10/subprocess.py\", line 421, in check_output\r\n",
      "    return run(*popenargs, stdout=PIPE, timeout=timeout, check=True,\r\n",
      "  File \"/opt/conda/lib/python3.10/subprocess.py\", line 526, in run\r\n",
      "    raise CalledProcessError(retcode, process.args,\r\n",
      "subprocess.CalledProcessError: Command '/opt/conda/bin/python /kaggle/working/RECsys_Challenge2024/CythonCompiler/compile_script.py Sparse_Matrix_Tree_CSR.pyx build_ext --inplace' returned non-zero exit status 1.\r\n",
      "Compiling [4/11]: Sparse_Matrix_Tree_CSR.pyx... FAIL: Command '/opt/conda/bin/python /kaggle/working/RECsys_Challenge2024/CythonCompiler/compile_script.py Sparse_Matrix_Tree_CSR.pyx build_ext --inplace' returned non-zero exit status 1.\r\n",
      "\r\n",
      "Compiling [5/11]: Triangular_Matrix.pyx... \r\n",
      "warning: Triangular_Matrix.pyx:22:0: The 'IF' statement is deprecated and will be removed in a future Cython version. Consider using runtime conditions or C macros instead. See https://github.com/cython/cython/issues/4310\r\n",
      "In file included from \u001b[01m\u001b[K/opt/conda/lib/python3.10/site-packages/numpy/core/include/numpy/ndarraytypes.h:1929\u001b[m\u001b[K,\r\n",
      "                 from \u001b[01m\u001b[K/opt/conda/lib/python3.10/site-packages/numpy/core/include/numpy/ndarrayobject.h:12\u001b[m\u001b[K,\r\n",
      "                 from \u001b[01m\u001b[K/opt/conda/lib/python3.10/site-packages/numpy/core/include/numpy/arrayobject.h:5\u001b[m\u001b[K,\r\n",
      "                 from \u001b[01m\u001b[KTriangular_Matrix.c:1252\u001b[m\u001b[K:\r\n",
      "\u001b[01m\u001b[K/opt/conda/lib/python3.10/site-packages/numpy/core/include/numpy/npy_1_7_deprecated_api.h:17:2:\u001b[m\u001b[K \u001b[01;35m\u001b[Kwarning: \u001b[m\u001b[K#warning \"Using deprecated NumPy API, disable it with \" \"#define NPY_NO_DEPRECATED_API NPY_1_7_API_VERSION\" [\u001b[01;35m\u001b[K-Wcpp\u001b[m\u001b[K]\r\n",
      "   17 | #\u001b[01;35m\u001b[Kwarning\u001b[m\u001b[K \"Using deprecated NumPy API, disable it with \" \\\r\n",
      "      |  \u001b[01;35m\u001b[K^~~~~~~\u001b[m\u001b[K\r\n",
      "/opt/conda/lib/python3.10/site-packages/Cython/Compiler/Main.py:381: FutureWarning: Cython directive 'language_level' not set, using '3str' for now (Py3). This has changed from earlier releases! File: /kaggle/working/RECsys_Challenge2024/Recommenders/SLIM/Cython/Triangular_Matrix.pyx\r\n",
      "  tree = Parsing.p_module(s, pxd, full_module_name)\r\n",
      "warning: Triangular_Matrix.pyx:22:0: The 'IF' statement is deprecated and will be removed in a future Cython version. Consider using runtime conditions or C macros instead. See https://github.com/cython/cython/issues/4310\r\n",
      "Compiling [5/11]: Triangular_Matrix.pyx... PASS\r\n",
      "\r\n",
      "Compiling [6/11]: SLIM_BPR_Cython_Epoch.pyx... \r\n",
      "warning: SLIM_BPR_Cython_Epoch.pyx:24:0: The 'IF' statement is deprecated and will be removed in a future Cython version. Consider using runtime conditions or C macros instead. See https://github.com/cython/cython/issues/4310\r\n",
      "warning: SLIM_BPR_Cython_Epoch.pyx:632:34: Non-trivial type declarators in shared declaration (e.g. mix of pointers and values). Each pointer declaration should be on its own line.\r\n",
      "warning: SLIM_BPR_Cython_Epoch.pyx:632:66: Non-trivial type declarators in shared declaration (e.g. mix of pointers and values). Each pointer declaration should be on its own line.\r\n",
      "warning: SLIM_BPR_Cython_Epoch.pyx:817:35: Non-trivial type declarators in shared declaration (e.g. mix of pointers and values). Each pointer declaration should be on its own line.\r\n",
      "warning: SLIM_BPR_Cython_Epoch.pyx:817:52: Non-trivial type declarators in shared declaration (e.g. mix of pointers and values). Each pointer declaration should be on its own line.\r\n",
      "warning: SLIM_BPR_Cython_Epoch.pyx:916:35: Non-trivial type declarators in shared declaration (e.g. mix of pointers and values). Each pointer declaration should be on its own line.\r\n",
      "warning: SLIM_BPR_Cython_Epoch.pyx:916:53: Non-trivial type declarators in shared declaration (e.g. mix of pointers and values). Each pointer declaration should be on its own line.\r\n",
      "warning: SLIM_BPR_Cython_Epoch.pyx:916:69: Non-trivial type declarators in shared declaration (e.g. mix of pointers and values). Each pointer declaration should be on its own line.\r\n",
      "warning: SLIM_BPR_Cython_Epoch.pyx:1051:35: Non-trivial type declarators in shared declaration (e.g. mix of pointers and values). Each pointer declaration should be on its own line.\r\n",
      "warning: SLIM_BPR_Cython_Epoch.pyx:1051:42: Non-trivial type declarators in shared declaration (e.g. mix of pointers and values). Each pointer declaration should be on its own line.\r\n",
      "warning: SLIM_BPR_Cython_Epoch.pyx:1052:35: Non-trivial type declarators in shared declaration (e.g. mix of pointers and values). Each pointer declaration should be on its own line.\r\n",
      "warning: SLIM_BPR_Cython_Epoch.pyx:1052:53: Non-trivial type declarators in shared declaration (e.g. mix of pointers and values). Each pointer declaration should be on its own line.\r\n",
      "\r\n",
      "Error compiling Cython file:\r\n",
      "------------------------------------------------------------\r\n",
      "...\r\n",
      "            vector_pointer_to_list_elements[index].head = current_element\r\n",
      "            current_element = current_element.higher\r\n",
      "\r\n",
      "\r\n",
      "        # Sort array elements on their data field\r\n",
      "        qsort(vector_pointer_to_list_elements, list_length, sizeof(head_pointer_tree_s), compare_struct_on_data)\r\n",
      "                                                                                         ^\r\n",
      "------------------------------------------------------------\r\n",
      "\r\n",
      "SLIM_BPR_Cython_Epoch.pyx:990:89: Cannot assign type 'int (const void *, const void *) except? -1' to 'int (*)(const_void *, const_void *) noexcept'. Exception values are incompatible. Suggest adding 'noexcept' to the type of 'compare_struct_on_data'.\r\n",
      "\r\n",
      "Error compiling Cython file:\r\n",
      "------------------------------------------------------------\r\n",
      "...\r\n",
      "        # Sort array elements on their data field\r\n",
      "        qsort(vector_pointer_to_list_elements, list_length, sizeof(head_pointer_tree_s), compare_struct_on_data)\r\n",
      "\r\n",
      "        # Sort only the TopK according to their column field\r\n",
      "        # Sort is from lower to higher, therefore the elements to be considered are from len-topK to len\r\n",
      "        qsort(&vector_pointer_to_list_elements[list_length-TopK], TopK, sizeof(head_pointer_tree_s), compare_struct_on_column)\r\n",
      "                                                                                                     ^\r\n",
      "------------------------------------------------------------\r\n",
      "\r\n",
      "SLIM_BPR_Cython_Epoch.pyx:994:101: Cannot assign type 'int (const void *, const void *) except? -1' to 'int (*)(const_void *, const_void *) noexcept'. Exception values are incompatible. Suggest adding 'noexcept' to the type of 'compare_struct_on_column'.\r\n",
      "Traceback (most recent call last):\r\n",
      "  File \"/kaggle/working/RECsys_Challenge2024/CythonCompiler/compile_script.py\", line 48, in <module>\r\n",
      "    setup(\r\n",
      "  File \"/opt/conda/lib/python3.10/site-packages/setuptools/__init__.py\", line 103, in setup\r\n",
      "    return distutils.core.setup(**attrs)\r\n",
      "  File \"/opt/conda/lib/python3.10/site-packages/setuptools/_distutils/core.py\", line 184, in setup\r\n",
      "    return run_commands(dist)\r\n",
      "  File \"/opt/conda/lib/python3.10/site-packages/setuptools/_distutils/core.py\", line 200, in run_commands\r\n",
      "    dist.run_commands()\r\n",
      "  File \"/opt/conda/lib/python3.10/site-packages/setuptools/_distutils/dist.py\", line 969, in run_commands\r\n",
      "    self.run_command(cmd)\r\n",
      "  File \"/opt/conda/lib/python3.10/site-packages/setuptools/dist.py\", line 968, in run_command\r\n",
      "    super().run_command(command)\r\n",
      "  File \"/opt/conda/lib/python3.10/site-packages/setuptools/_distutils/dist.py\", line 988, in run_command\r\n",
      "    cmd_obj.run()\r\n",
      "  File \"/opt/conda/lib/python3.10/site-packages/setuptools/_distutils/command/build_ext.py\", line 359, in run\r\n",
      "    self.build_extensions()\r\n",
      "  File \"/opt/conda/lib/python3.10/site-packages/setuptools/_distutils/command/build_ext.py\", line 479, in build_extensions\r\n",
      "    self._build_extensions_serial()\r\n",
      "  File \"/opt/conda/lib/python3.10/site-packages/setuptools/_distutils/command/build_ext.py\", line 505, in _build_extensions_serial\r\n",
      "    self.build_extension(ext)\r\n",
      "  File \"/opt/conda/lib/python3.10/site-packages/Cython/Distutils/build_ext.py\", line 130, in build_extension\r\n",
      "    new_ext = cythonize(\r\n",
      "  File \"/opt/conda/lib/python3.10/site-packages/Cython/Build/Dependencies.py\", line 1154, in cythonize\r\n",
      "    cythonize_one(*args)\r\n",
      "  File \"/opt/conda/lib/python3.10/site-packages/Cython/Build/Dependencies.py\", line 1321, in cythonize_one\r\n",
      "    raise CompileError(None, pyx_file)\r\n",
      "Cython.Compiler.Errors.CompileError: SLIM_BPR_Cython_Epoch.pyx\r\n",
      "Traceback (most recent call last):\r\n",
      "  File \"/kaggle/working/RECsys_Challenge2024/run_compile_all_cython.py\", line 60, in <module>\r\n",
      "    run_compile_subprocess(file_path, [file_name])\r\n",
      "  File \"/kaggle/working/RECsys_Challenge2024/CythonCompiler/run_compile_subprocess.py\", line 51, in run_compile_subprocess\r\n",
      "    raise exc\r\n",
      "  File \"/kaggle/working/RECsys_Challenge2024/CythonCompiler/run_compile_subprocess.py\", line 32, in run_compile_subprocess\r\n",
      "    output = subprocess.check_output(' '.join(command),\r\n",
      "  File \"/opt/conda/lib/python3.10/subprocess.py\", line 421, in check_output\r\n",
      "    return run(*popenargs, stdout=PIPE, timeout=timeout, check=True,\r\n",
      "  File \"/opt/conda/lib/python3.10/subprocess.py\", line 526, in run\r\n",
      "    raise CalledProcessError(retcode, process.args,\r\n",
      "subprocess.CalledProcessError: Command '/opt/conda/bin/python /kaggle/working/RECsys_Challenge2024/CythonCompiler/compile_script.py SLIM_BPR_Cython_Epoch.pyx build_ext --inplace' returned non-zero exit status 1.\r\n",
      "Compiling [6/11]: SLIM_BPR_Cython_Epoch.pyx... FAIL: Command '/opt/conda/bin/python /kaggle/working/RECsys_Challenge2024/CythonCompiler/compile_script.py SLIM_BPR_Cython_Epoch.pyx build_ext --inplace' returned non-zero exit status 1.\r\n",
      "\r\n",
      "Compiling [7/11]: HP3_Similarity_Cython_SGD.pyx... \r\n",
      "performance hint: HP3_Similarity_Cython_SGD.pyx:113:40: Index should be typed for more efficient access\r\n",
      "performance hint: HP3_Similarity_Cython_SGD.pyx:114:40: Index should be typed for more efficient access\r\n",
      "In file included from \u001b[01m\u001b[K/opt/conda/lib/python3.10/site-packages/numpy/core/include/numpy/ndarraytypes.h:1929\u001b[m\u001b[K,\r\n",
      "                 from \u001b[01m\u001b[K/opt/conda/lib/python3.10/site-packages/numpy/core/include/numpy/ndarrayobject.h:12\u001b[m\u001b[K,\r\n",
      "                 from \u001b[01m\u001b[K/opt/conda/lib/python3.10/site-packages/numpy/core/include/numpy/arrayobject.h:5\u001b[m\u001b[K,\r\n",
      "                 from \u001b[01m\u001b[KHP3_Similarity_Cython_SGD.c:1252\u001b[m\u001b[K:\r\n",
      "\u001b[01m\u001b[K/opt/conda/lib/python3.10/site-packages/numpy/core/include/numpy/npy_1_7_deprecated_api.h:17:2:\u001b[m\u001b[K \u001b[01;35m\u001b[Kwarning: \u001b[m\u001b[K#warning \"Using deprecated NumPy API, disable it with \" \"#define NPY_NO_DEPRECATED_API NPY_1_7_API_VERSION\" [\u001b[01;35m\u001b[K-Wcpp\u001b[m\u001b[K]\r\n",
      "   17 | #\u001b[01;35m\u001b[Kwarning\u001b[m\u001b[K \"Using deprecated NumPy API, disable it with \" \\\r\n",
      "      |  \u001b[01;35m\u001b[K^~~~~~~\u001b[m\u001b[K\r\n",
      "\u001b[01m\u001b[KHP3_Similarity_Cython_SGD.c:\u001b[m\u001b[K In function '\u001b[01m\u001b[K__pyx_pf_25HP3_Similarity_Cython_SGD_25HP3_Similarity_Cython_SGD_4fit\u001b[m\u001b[K':\r\n",
      "\u001b[01m\u001b[KHP3_Similarity_Cython_SGD.c:23631:55:\u001b[m\u001b[K \u001b[01;35m\u001b[Kwarning: \u001b[m\u001b[K'\u001b[01m\u001b[K__pyx_v_sample_num\u001b[m\u001b[K' may be used uninitialized in this function [\u001b[01;35m\u001b[K-Wmaybe-uninitialized\u001b[m\u001b[K]\r\n",
      "23631 |   __pyx_t_1 = PyFloat_FromDouble((__pyx_v_cum_loss / \u001b[01;35m\u001b[K((double)__pyx_v_sample_num)\u001b[m\u001b[K)); if (unlikely(!__pyx_t_1)) __PYX_ERR(0, 291, __pyx_L1_error)\r\n",
      "      |                                                      \u001b[01;35m\u001b[K~^~~~~~~~~~~~~~~~~~~~~~~~~~~\u001b[m\u001b[K\r\n",
      "/opt/conda/lib/python3.10/site-packages/Cython/Compiler/Main.py:381: FutureWarning: Cython directive 'language_level' not set, using '3str' for now (Py3). This has changed from earlier releases! File: /kaggle/working/RECsys_Challenge2024/Recommenders/FeatureWeighting/Cython/HP3_Similarity_Cython_SGD.pyx\r\n",
      "  tree = Parsing.p_module(s, pxd, full_module_name)\r\n",
      "performance hint: HP3_Similarity_Cython_SGD.pyx:113:40: Index should be typed for more efficient access\r\n",
      "performance hint: HP3_Similarity_Cython_SGD.pyx:114:40: Index should be typed for more efficient access\r\n",
      "Compiling [7/11]: HP3_Similarity_Cython_SGD.pyx... PASS\r\n",
      "\r\n",
      "Compiling [8/11]: FBSM_Rating_Cython_SGD.pyx... \r\n",
      "In file included from \u001b[01m\u001b[K/opt/conda/lib/python3.10/site-packages/numpy/core/include/numpy/ndarraytypes.h:1929\u001b[m\u001b[K,\r\n",
      "                 from \u001b[01m\u001b[K/opt/conda/lib/python3.10/site-packages/numpy/core/include/numpy/ndarrayobject.h:12\u001b[m\u001b[K,\r\n",
      "                 from \u001b[01m\u001b[K/opt/conda/lib/python3.10/site-packages/numpy/core/include/numpy/arrayobject.h:5\u001b[m\u001b[K,\r\n",
      "                 from \u001b[01m\u001b[KFBSM_Rating_Cython_SGD.c:1252\u001b[m\u001b[K:\r\n",
      "\u001b[01m\u001b[K/opt/conda/lib/python3.10/site-packages/numpy/core/include/numpy/npy_1_7_deprecated_api.h:17:2:\u001b[m\u001b[K \u001b[01;35m\u001b[Kwarning: \u001b[m\u001b[K#warning \"Using deprecated NumPy API, disable it with \" \"#define NPY_NO_DEPRECATED_API NPY_1_7_API_VERSION\" [\u001b[01;35m\u001b[K-Wcpp\u001b[m\u001b[K]\r\n",
      "   17 | #\u001b[01;35m\u001b[Kwarning\u001b[m\u001b[K \"Using deprecated NumPy API, disable it with \" \\\r\n",
      "      |  \u001b[01;35m\u001b[K^~~~~~~\u001b[m\u001b[K\r\n",
      "\u001b[01m\u001b[KFBSM_Rating_Cython_SGD.c:\u001b[m\u001b[K In function '\u001b[01m\u001b[K__pyx_pf_22FBSM_Rating_Cython_SGD_22FBSM_Rating_Cython_SGD_2fit\u001b[m\u001b[K':\r\n",
      "\u001b[01m\u001b[KFBSM_Rating_Cython_SGD.c:26607:55:\u001b[m\u001b[K \u001b[01;35m\u001b[Kwarning: \u001b[m\u001b[K'\u001b[01m\u001b[K__pyx_v_num_sample\u001b[m\u001b[K' may be used uninitialized in this function [\u001b[01;35m\u001b[K-Wmaybe-uninitialized\u001b[m\u001b[K]\r\n",
      "26607 |   __pyx_t_5 = PyFloat_FromDouble((__pyx_v_cum_loss / \u001b[01;35m\u001b[K((double)__pyx_v_num_sample)\u001b[m\u001b[K)); if (unlikely(!__pyx_t_5)) __PYX_ERR(0, 551, __pyx_L1_error)\r\n",
      "      |                                                      \u001b[01;35m\u001b[K~^~~~~~~~~~~~~~~~~~~~~~~~~~~\u001b[m\u001b[K\r\n",
      "/opt/conda/lib/python3.10/site-packages/Cython/Compiler/Main.py:381: FutureWarning: Cython directive 'language_level' not set, using '3str' for now (Py3). This has changed from earlier releases! File: /kaggle/working/RECsys_Challenge2024/Recommenders/FeatureWeighting/Cython/FBSM_Rating_Cython_SGD.pyx\r\n",
      "  tree = Parsing.p_module(s, pxd, full_module_name)\r\n",
      "Compiling [8/11]: FBSM_Rating_Cython_SGD.pyx... PASS\r\n",
      "\r\n",
      "Compiling [9/11]: CFW_DVV_Similarity_Cython_SGD.pyx... \r\n",
      "In file included from \u001b[01m\u001b[K/opt/conda/lib/python3.10/site-packages/numpy/core/include/numpy/ndarraytypes.h:1929\u001b[m\u001b[K,\r\n",
      "                 from \u001b[01m\u001b[K/opt/conda/lib/python3.10/site-packages/numpy/core/include/numpy/ndarrayobject.h:12\u001b[m\u001b[K,\r\n",
      "                 from \u001b[01m\u001b[K/opt/conda/lib/python3.10/site-packages/numpy/core/include/numpy/arrayobject.h:5\u001b[m\u001b[K,\r\n",
      "                 from \u001b[01m\u001b[KCFW_DVV_Similarity_Cython_SGD.c:1252\u001b[m\u001b[K:\r\n",
      "\u001b[01m\u001b[K/opt/conda/lib/python3.10/site-packages/numpy/core/include/numpy/npy_1_7_deprecated_api.h:17:2:\u001b[m\u001b[K \u001b[01;35m\u001b[Kwarning: \u001b[m\u001b[K#warning \"Using deprecated NumPy API, disable it with \" \"#define NPY_NO_DEPRECATED_API NPY_1_7_API_VERSION\" [\u001b[01;35m\u001b[K-Wcpp\u001b[m\u001b[K]\r\n",
      "   17 | #\u001b[01;35m\u001b[Kwarning\u001b[m\u001b[K \"Using deprecated NumPy API, disable it with \" \\\r\n",
      "      |  \u001b[01;35m\u001b[K^~~~~~~\u001b[m\u001b[K\r\n",
      "/opt/conda/lib/python3.10/site-packages/Cython/Compiler/Main.py:381: FutureWarning: Cython directive 'language_level' not set, using '3str' for now (Py3). This has changed from earlier releases! File: /kaggle/working/RECsys_Challenge2024/Recommenders/FeatureWeighting/Cython/CFW_DVV_Similarity_Cython_SGD.pyx\r\n",
      "  tree = Parsing.p_module(s, pxd, full_module_name)\r\n",
      "Compiling [9/11]: CFW_DVV_Similarity_Cython_SGD.pyx... PASS\r\n",
      "\r\n",
      "Compiling [10/11]: CFW_D_Similarity_Cython_SGD.pyx... \r\n",
      "In file included from \u001b[01m\u001b[K/opt/conda/lib/python3.10/site-packages/numpy/core/include/numpy/ndarraytypes.h:1929\u001b[m\u001b[K,\r\n",
      "                 from \u001b[01m\u001b[K/opt/conda/lib/python3.10/site-packages/numpy/core/include/numpy/ndarrayobject.h:12\u001b[m\u001b[K,\r\n",
      "                 from \u001b[01m\u001b[K/opt/conda/lib/python3.10/site-packages/numpy/core/include/numpy/arrayobject.h:5\u001b[m\u001b[K,\r\n",
      "                 from \u001b[01m\u001b[KCFW_D_Similarity_Cython_SGD.c:1252\u001b[m\u001b[K:\r\n",
      "\u001b[01m\u001b[K/opt/conda/lib/python3.10/site-packages/numpy/core/include/numpy/npy_1_7_deprecated_api.h:17:2:\u001b[m\u001b[K \u001b[01;35m\u001b[Kwarning: \u001b[m\u001b[K#warning \"Using deprecated NumPy API, disable it with \" \"#define NPY_NO_DEPRECATED_API NPY_1_7_API_VERSION\" [\u001b[01;35m\u001b[K-Wcpp\u001b[m\u001b[K]\r\n",
      "   17 | #\u001b[01;35m\u001b[Kwarning\u001b[m\u001b[K \"Using deprecated NumPy API, disable it with \" \\\r\n",
      "      |  \u001b[01;35m\u001b[K^~~~~~~\u001b[m\u001b[K\r\n",
      "\u001b[01m\u001b[KCFW_D_Similarity_Cython_SGD.c:\u001b[m\u001b[K In function '\u001b[01m\u001b[K__pyx_pf_27CFW_D_Similarity_Cython_SGD_27CFW_D_Similarity_Cython_SGD_6fit\u001b[m\u001b[K':\r\n",
      "\u001b[01m\u001b[KCFW_D_Similarity_Cython_SGD.c:23373:55:\u001b[m\u001b[K \u001b[01;35m\u001b[Kwarning: \u001b[m\u001b[K'\u001b[01m\u001b[K__pyx_v_sample_num\u001b[m\u001b[K' may be used uninitialized in this function [\u001b[01;35m\u001b[K-Wmaybe-uninitialized\u001b[m\u001b[K]\r\n",
      "23373 |   __pyx_t_3 = PyFloat_FromDouble((__pyx_v_cum_loss / \u001b[01;35m\u001b[K((double)__pyx_v_sample_num)\u001b[m\u001b[K)); if (unlikely(!__pyx_t_3)) __PYX_ERR(0, 290, __pyx_L1_error)\r\n",
      "      |                                                      \u001b[01;35m\u001b[K~^~~~~~~~~~~~~~~~~~~~~~~~~~~\u001b[m\u001b[K\r\n",
      "/opt/conda/lib/python3.10/site-packages/Cython/Compiler/Main.py:381: FutureWarning: Cython directive 'language_level' not set, using '3str' for now (Py3). This has changed from earlier releases! File: /kaggle/working/RECsys_Challenge2024/Recommenders/FeatureWeighting/Cython/CFW_D_Similarity_Cython_SGD.pyx\r\n",
      "  tree = Parsing.p_module(s, pxd, full_module_name)\r\n",
      "Compiling [10/11]: CFW_D_Similarity_Cython_SGD.pyx... PASS\r\n",
      "\r\n",
      "Compiling [11/11]: DataIterator.pyx... \r\n",
      "In file included from \u001b[01m\u001b[K/opt/conda/lib/python3.10/site-packages/numpy/core/include/numpy/ndarraytypes.h:1929\u001b[m\u001b[K,\r\n",
      "                 from \u001b[01m\u001b[K/opt/conda/lib/python3.10/site-packages/numpy/core/include/numpy/ndarrayobject.h:12\u001b[m\u001b[K,\r\n",
      "                 from \u001b[01m\u001b[K/opt/conda/lib/python3.10/site-packages/numpy/core/include/numpy/arrayobject.h:5\u001b[m\u001b[K,\r\n",
      "                 from \u001b[01m\u001b[KDataIterator.c:1252\u001b[m\u001b[K:\r\n",
      "\u001b[01m\u001b[K/opt/conda/lib/python3.10/site-packages/numpy/core/include/numpy/npy_1_7_deprecated_api.h:17:2:\u001b[m\u001b[K \u001b[01;35m\u001b[Kwarning: \u001b[m\u001b[K#warning \"Using deprecated NumPy API, disable it with \" \"#define NPY_NO_DEPRECATED_API NPY_1_7_API_VERSION\" [\u001b[01;35m\u001b[K-Wcpp\u001b[m\u001b[K]\r\n",
      "   17 | #\u001b[01;35m\u001b[Kwarning\u001b[m\u001b[K \"Using deprecated NumPy API, disable it with \" \\\r\n",
      "      |  \u001b[01;35m\u001b[K^~~~~~~\u001b[m\u001b[K\r\n",
      "\u001b[01m\u001b[KDataIterator.c:\u001b[m\u001b[K In function '\u001b[01m\u001b[K__pyx_pf_12DataIterator_30InteractionAndNegativeIterator_6__next__\u001b[m\u001b[K':\r\n",
      "\u001b[01m\u001b[KDataIterator.c:25495:22:\u001b[m\u001b[K \u001b[01;35m\u001b[Kwarning: \u001b[m\u001b[K'\u001b[01m\u001b[K__pyx_v_i_batch\u001b[m\u001b[K' may be used uninitialized in this function [\u001b[01;35m\u001b[K-Wmaybe-uninitialized\u001b[m\u001b[K]\r\n",
      "25495 |     (__pyx_v_i_batch \u001b[01;35m\u001b[K+\u001b[m\u001b[K 1),\r\n",
      "      |                      \u001b[01;35m\u001b[K^\u001b[m\u001b[K\r\n",
      "\u001b[01m\u001b[KDataIterator.c:\u001b[m\u001b[K In function '\u001b[01m\u001b[K__pyx_pf_12DataIterator_11BPRIterator_6__next__\u001b[m\u001b[K':\r\n",
      "\u001b[01m\u001b[KDataIterator.c:23054:22:\u001b[m\u001b[K \u001b[01;35m\u001b[Kwarning: \u001b[m\u001b[K'\u001b[01m\u001b[K__pyx_v_i_batch\u001b[m\u001b[K' may be used uninitialized in this function [\u001b[01;35m\u001b[K-Wmaybe-uninitialized\u001b[m\u001b[K]\r\n",
      "23054 |     (__pyx_v_i_batch \u001b[01;35m\u001b[K+\u001b[m\u001b[K 1),\r\n",
      "      |                      \u001b[01;35m\u001b[K^\u001b[m\u001b[K\r\n",
      "\u001b[01m\u001b[KDataIterator.c:\u001b[m\u001b[K In function '\u001b[01m\u001b[K__pyx_pf_12DataIterator_19InteractionIterator_6__next__\u001b[m\u001b[K':\r\n",
      "\u001b[01m\u001b[KDataIterator.c:20937:22:\u001b[m\u001b[K \u001b[01;35m\u001b[Kwarning: \u001b[m\u001b[K'\u001b[01m\u001b[K__pyx_v_i_batch\u001b[m\u001b[K' may be used uninitialized in this function [\u001b[01;35m\u001b[K-Wmaybe-uninitialized\u001b[m\u001b[K]\r\n",
      "20937 |     (__pyx_v_i_batch \u001b[01;35m\u001b[K+\u001b[m\u001b[K 1),\r\n",
      "      |                      \u001b[01;35m\u001b[K^\u001b[m\u001b[K\r\n",
      "/opt/conda/lib/python3.10/site-packages/Cython/Compiler/Main.py:381: FutureWarning: Cython directive 'language_level' not set, using '3str' for now (Py3). This has changed from earlier releases! File: /kaggle/working/RECsys_Challenge2024/Utils/PyTorch/Cython/DataIterator.pyx\r\n",
      "  tree = Parsing.p_module(s, pxd, full_module_name)\r\n",
      "Compiling [11/11]: DataIterator.pyx... PASS\r\n",
      "\r\n",
      "run_compile_all_cython: Compilation finished. FAILS 2/11.\r\n",
      "Compilation log can be found here: './result_experiments/run_compile_all_cython.txt'\r\n"
     ]
    }
   ],
   "source": [
    "%cd /kaggle/working/RECsys_Challenge2024 \n",
    "! python run_compile_all_cython.py"
   ]
  },
  {
   "cell_type": "code",
   "execution_count": 5,
   "id": "7017d52a",
   "metadata": {
    "execution": {
     "iopub.execute_input": "2024-11-29T16:14:57.887400Z",
     "iopub.status.busy": "2024-11-29T16:14:57.887006Z",
     "iopub.status.idle": "2024-11-29T16:14:59.619120Z",
     "shell.execute_reply": "2024-11-29T16:14:59.618049Z"
    },
    "papermill": {
     "duration": 1.74836,
     "end_time": "2024-11-29T16:14:59.621539",
     "exception": false,
     "start_time": "2024-11-29T16:14:57.873179",
     "status": "completed"
    },
    "tags": []
   },
   "outputs": [],
   "source": [
    "from Utils.notebookFunctions import *\n",
    "import numpy as np\n",
    "import pandas as pd\n",
    "import scipy.sparse as sps\n",
    "import time\n",
    "import shutil\n",
    "import optuna\n",
    "import json\n",
    "import os\n",
    "from Utils.seconds_to_biggest_unit import seconds_to_biggest_unit\n",
    "\n",
    "\n",
    "K_PATH = '/kaggle/working/RECsys_Challenge2024'\n",
    "GH_PATH = 'TrainedModels/WithoutKFCV/SingleRecommenders'\n",
    "\n",
    "np.random.seed(42)"
   ]
  },
  {
   "cell_type": "markdown",
   "id": "c50f4214",
   "metadata": {
    "papermill": {
     "duration": 0.011936,
     "end_time": "2024-11-29T16:14:59.646198",
     "exception": false,
     "start_time": "2024-11-29T16:14:59.634262",
     "status": "completed"
    },
    "tags": []
   },
   "source": [
    "## Import the repository **RECsys_Challenge2024**"
   ]
  },
  {
   "cell_type": "code",
   "execution_count": 6,
   "id": "83dc6825",
   "metadata": {
    "execution": {
     "iopub.execute_input": "2024-11-29T16:14:59.672402Z",
     "iopub.status.busy": "2024-11-29T16:14:59.671843Z",
     "iopub.status.idle": "2024-11-29T16:14:59.942188Z",
     "shell.execute_reply": "2024-11-29T16:14:59.940982Z"
    },
    "papermill": {
     "duration": 0.286296,
     "end_time": "2024-11-29T16:14:59.944613",
     "exception": false,
     "start_time": "2024-11-29T16:14:59.658317",
     "status": "completed"
    },
    "tags": []
   },
   "outputs": [
    {
     "name": "stdout",
     "output_type": "stream",
     "text": [
      "Repository 'RECsys_Challenge2024' found.\n"
     ]
    }
   ],
   "source": [
    "repo = get_repo_from_github(token)"
   ]
  },
  {
   "cell_type": "code",
   "execution_count": 7,
   "id": "aa24f540",
   "metadata": {
    "execution": {
     "iopub.execute_input": "2024-11-29T16:14:59.972309Z",
     "iopub.status.busy": "2024-11-29T16:14:59.971905Z",
     "iopub.status.idle": "2024-11-29T16:14:59.977253Z",
     "shell.execute_reply": "2024-11-29T16:14:59.976244Z"
    },
    "papermill": {
     "duration": 0.022039,
     "end_time": "2024-11-29T16:14:59.979388",
     "exception": false,
     "start_time": "2024-11-29T16:14:59.957349",
     "status": "completed"
    },
    "tags": []
   },
   "outputs": [],
   "source": [
    "config = {\n",
    "    'model': 'ItemKNNCF',\n",
    "    'tune_parameters': True,\n",
    "    'database_path': '/kaggle/working/history_ItemKNNCF.db',\n",
    "    'copy_prev_best_params': False,\n",
    "    'tune_best_params': True,\n",
    "    'save_github': True\n",
    "}"
   ]
  },
  {
   "cell_type": "markdown",
   "id": "79335812",
   "metadata": {
    "papermill": {
     "duration": 0.012196,
     "end_time": "2024-11-29T16:15:00.004438",
     "exception": false,
     "start_time": "2024-11-29T16:14:59.992242",
     "status": "completed"
    },
    "tags": []
   },
   "source": [
    "Import the database where previous tuning trials have been saved."
   ]
  },
  {
   "cell_type": "code",
   "execution_count": 8,
   "id": "7988d0a9",
   "metadata": {
    "execution": {
     "iopub.execute_input": "2024-11-29T16:15:00.031455Z",
     "iopub.status.busy": "2024-11-29T16:15:00.031070Z",
     "iopub.status.idle": "2024-11-29T16:15:00.037704Z",
     "shell.execute_reply": "2024-11-29T16:15:00.036704Z"
    },
    "papermill": {
     "duration": 0.023213,
     "end_time": "2024-11-29T16:15:00.039956",
     "exception": false,
     "start_time": "2024-11-29T16:15:00.016743",
     "status": "completed"
    },
    "tags": []
   },
   "outputs": [],
   "source": [
    "try:\n",
    "    shutil.copyfile(\n",
    "        f'{K_PATH}/{GH_PATH}/{config[\"model\"]}Recommender/history_{config[\"model\"]}.db', \n",
    "        config['database_path']\n",
    "    )\n",
    "except FileNotFoundError:\n",
    "    pass # if not present optuna will create it"
   ]
  },
  {
   "cell_type": "markdown",
   "id": "de1ee046",
   "metadata": {
    "papermill": {
     "duration": 0.012037,
     "end_time": "2024-11-29T16:15:00.064438",
     "exception": false,
     "start_time": "2024-11-29T16:15:00.052401",
     "status": "completed"
    },
    "tags": []
   },
   "source": [
    "# Construction of URM and ICM matrices"
   ]
  },
  {
   "cell_type": "code",
   "execution_count": 9,
   "id": "79d90ffe",
   "metadata": {
    "execution": {
     "iopub.execute_input": "2024-11-29T16:15:00.095013Z",
     "iopub.status.busy": "2024-11-29T16:15:00.094568Z",
     "iopub.status.idle": "2024-11-29T16:15:00.894270Z",
     "shell.execute_reply": "2024-11-29T16:15:00.893131Z"
    },
    "papermill": {
     "duration": 0.818197,
     "end_time": "2024-11-29T16:15:00.896527",
     "exception": false,
     "start_time": "2024-11-29T16:15:00.078330",
     "status": "completed"
    },
    "tags": []
   },
   "outputs": [
    {
     "data": {
      "text/plain": [
       "<Compressed Sparse Row sparse matrix of dtype 'float64'\n",
       "\twith 1764607 stored elements and shape (35736, 38121)>"
      ]
     },
     "execution_count": 9,
     "metadata": {},
     "output_type": "execute_result"
    }
   ],
   "source": [
    "URM_all_dataframe = pd.read_csv(\"/kaggle/input/recommender-system-2024-challenge-polimi/data_train.csv\")\n",
    "\n",
    "n_users = len(URM_all_dataframe[\"user_id\"].unique())\n",
    "n_items = len(URM_all_dataframe[\"item_id\"].unique())\n",
    "\n",
    "URM_all = sps.csr_matrix((URM_all_dataframe[\"data\"].values, \n",
    "                          (URM_all_dataframe[\"user_id\"].values, URM_all_dataframe[\"item_id\"].values)),\n",
    "                        shape = (n_users, n_items))\n",
    "\n",
    "URM_all"
   ]
  },
  {
   "cell_type": "code",
   "execution_count": 10,
   "id": "9bf39275",
   "metadata": {
    "execution": {
     "iopub.execute_input": "2024-11-29T16:15:00.924474Z",
     "iopub.status.busy": "2024-11-29T16:15:00.924102Z",
     "iopub.status.idle": "2024-11-29T16:15:02.163306Z",
     "shell.execute_reply": "2024-11-29T16:15:02.161416Z"
    },
    "papermill": {
     "duration": 1.256614,
     "end_time": "2024-11-29T16:15:02.166556",
     "exception": false,
     "start_time": "2024-11-29T16:15:00.909942",
     "status": "completed"
    },
    "tags": []
   },
   "outputs": [
    {
     "data": {
      "text/plain": [
       "<Compressed Sparse Row sparse matrix of dtype 'float64'\n",
       "\twith 2940040 stored elements and shape (38121, 94331)>"
      ]
     },
     "execution_count": 10,
     "metadata": {},
     "output_type": "execute_result"
    }
   ],
   "source": [
    "ICM_dataframe = pd.read_csv(\"/kaggle/input/recommender-system-2024-challenge-polimi/data_ICM_metadata.csv\")\n",
    "\n",
    "n_items = len(ICM_dataframe[\"item_id\"].unique())\n",
    "n_features = len(ICM_dataframe[\"feature_id\"].unique())\n",
    "\n",
    "ICM_all = sps.csr_matrix((ICM_dataframe[\"data\"].values, \n",
    "                          (ICM_dataframe[\"item_id\"].values, ICM_dataframe[\"feature_id\"].values)),\n",
    "                        shape = (n_items, n_features))\n",
    "\n",
    "ICM_all"
   ]
  },
  {
   "cell_type": "markdown",
   "id": "1d216cc3",
   "metadata": {
    "papermill": {
     "duration": 0.01502,
     "end_time": "2024-11-29T16:15:02.198145",
     "exception": false,
     "start_time": "2024-11-29T16:15:02.183125",
     "status": "completed"
    },
    "tags": []
   },
   "source": [
    "# Training"
   ]
  },
  {
   "cell_type": "code",
   "execution_count": 11,
   "id": "e3981a8d",
   "metadata": {
    "execution": {
     "iopub.execute_input": "2024-11-29T16:15:02.228941Z",
     "iopub.status.busy": "2024-11-29T16:15:02.228517Z",
     "iopub.status.idle": "2024-11-29T16:15:05.266059Z",
     "shell.execute_reply": "2024-11-29T16:15:05.264550Z"
    },
    "papermill": {
     "duration": 3.057268,
     "end_time": "2024-11-29T16:15:05.269297",
     "exception": false,
     "start_time": "2024-11-29T16:15:02.212029",
     "status": "completed"
    },
    "tags": []
   },
   "outputs": [
    {
     "name": "stdout",
     "output_type": "stream",
     "text": [
      "Warning: 141 (0.39 %) of 35736 users have no sampled items\n",
      "EvaluatorHoldout: Ignoring 141 ( 0.4%) Users that have less than 1 test interactions\n"
     ]
    }
   ],
   "source": [
    "from Evaluation.Evaluator import EvaluatorHoldout\n",
    "from Data_manager.split_functions.split_train_validation_random_holdout import split_train_in_two_percentage_global_sample\n",
    "\n",
    "URM_train, URM_validation = split_train_in_two_percentage_global_sample(URM_all, train_percentage = 0.80)\n",
    "\n",
    "evaluator_validation = EvaluatorHoldout(URM_validation, cutoff_list=[10])"
   ]
  },
  {
   "cell_type": "code",
   "execution_count": 12,
   "id": "3dab6cd2",
   "metadata": {
    "execution": {
     "iopub.execute_input": "2024-11-29T16:15:05.299133Z",
     "iopub.status.busy": "2024-11-29T16:15:05.298697Z",
     "iopub.status.idle": "2024-11-29T16:15:05.318359Z",
     "shell.execute_reply": "2024-11-29T16:15:05.317154Z"
    },
    "papermill": {
     "duration": 0.038933,
     "end_time": "2024-11-29T16:15:05.321090",
     "exception": false,
     "start_time": "2024-11-29T16:15:05.282157",
     "status": "completed"
    },
    "tags": []
   },
   "outputs": [],
   "source": [
    "from Recommenders.KNN.ItemKNNCFRecommender import ItemKNNCFRecommender\n",
    "\n",
    "def objective_function_ItemKNNCF(optuna_trial):\n",
    "    \n",
    "    recommender_instance = ItemKNNCFRecommender(URM_train)\n",
    "    similarity = optuna_trial.suggest_categorical(\"similarity\", ['cosine', 'dice', 'jaccard', 'asymmetric', 'tversky', 'euclidean'])\n",
    "    \n",
    "    full_hyperp = {\"similarity\": similarity,\n",
    "                   \"topK\": optuna_trial.suggest_int(\"topK\", 0, 750),\n",
    "                   \"shrink\": optuna_trial.suggest_int(\"shrink\", 0, 1000),\n",
    "                   'feature_weighting': optuna_trial.suggest_categorical('feature_weighting', [\"BM25\", \"TF-IDF\", \"none\"])\n",
    "                  }\n",
    "    \n",
    "    if similarity == \"asymmetric\":\n",
    "        full_hyperp[\"asymmetric_alpha\"] = optuna_trial.suggest_float(\"asymmetric_alpha\", 0, 2, log=False)\n",
    "        full_hyperp[\"normalize\"] = True     \n",
    "\n",
    "    elif similarity == \"tversky\":\n",
    "        full_hyperp[\"tversky_alpha\"] = optuna_trial.suggest_float(\"tversky_alpha\", 0, 2, log=False)\n",
    "        full_hyperp[\"tversky_beta\"] = optuna_trial.suggest_float(\"tversky_beta\", 0, 2, log=False)\n",
    "        full_hyperp[\"normalize\"] = True \n",
    "\n",
    "    elif similarity == \"euclidean\":\n",
    "        full_hyperp[\"normalize_avg_row\"] = optuna_trial.suggest_categorical(\"normalize_avg_row\", [True, False])\n",
    "        full_hyperp[\"similarity_from_distance_mode\"] = optuna_trial.suggest_categorical(\"similarity_from_distance_mode\", [\"lin\", \"log\", \"exp\"])\n",
    "        full_hyperp[\"normalize\"] = optuna_trial.suggest_categorical(\"normalize\", [True, False])\n",
    "        \n",
    "    \n",
    "    recommender_instance.fit(**full_hyperp)\n",
    "    \n",
    "    result_df, _ = evaluator_validation.evaluateRecommender(recommender_instance)\n",
    "    \n",
    "    return result_df.loc[10][\"MAP\"]"
   ]
  },
  {
   "cell_type": "code",
   "execution_count": 13,
   "id": "a530c021",
   "metadata": {
    "_kg_hide-output": true,
    "execution": {
     "iopub.execute_input": "2024-11-29T16:15:05.352682Z",
     "iopub.status.busy": "2024-11-29T16:15:05.352328Z",
     "iopub.status.idle": "2024-11-29T18:55:43.569001Z",
     "shell.execute_reply": "2024-11-29T18:55:43.567829Z"
    },
    "papermill": {
     "duration": 9638.23428,
     "end_time": "2024-11-29T18:55:43.571375",
     "exception": false,
     "start_time": "2024-11-29T16:15:05.337095",
     "status": "completed"
    },
    "tags": []
   },
   "outputs": [
    {
     "name": "stderr",
     "output_type": "stream",
     "text": [
      "[I 2024-11-29 16:15:07,181] Using an existing study with name 'hyperparameters_tuning_ItemKNNCF' instead of creating a new one.\n"
     ]
    },
    {
     "name": "stdout",
     "output_type": "stream",
     "text": [
      "Similarity column 38121 (100.0%), 2580.29 column/sec. Elapsed time 14.77 sec\n",
      "EvaluatorHoldout: Processed 35595 (100.0%) in 52.78 sec. Users per second: 674\n"
     ]
    },
    {
     "name": "stderr",
     "output_type": "stream",
     "text": [
      "[I 2024-11-29 16:16:16,548] Trial 600 finished with value: 0.04389856899823021 and parameters: {'similarity': 'cosine', 'topK': 695, 'shrink': 229, 'feature_weighting': 'TF-IDF'}. Best is trial 388 with value: 0.05027369636809012.\n"
     ]
    },
    {
     "name": "stdout",
     "output_type": "stream",
     "text": [
      "Similarity column 38121 (100.0%), 3603.78 column/sec. Elapsed time 10.58 sec\n",
      "EvaluatorHoldout: Processed 35595 (100.0%) in 25.33 sec. Users per second: 1405\n"
     ]
    },
    {
     "name": "stderr",
     "output_type": "stream",
     "text": [
      "[I 2024-11-29 16:16:52,897] Trial 601 finished with value: 0.00028209999175022335 and parameters: {'similarity': 'cosine', 'topK': 0, 'shrink': 310, 'feature_weighting': 'TF-IDF'}. Best is trial 388 with value: 0.05027369636809012.\n"
     ]
    },
    {
     "name": "stdout",
     "output_type": "stream",
     "text": [
      "Similarity column 38121 (100.0%), 467.14 column/sec. Elapsed time 1.36 min\n",
      "EvaluatorHoldout: Processed 35595 (100.0%) in 27.09 sec. Users per second: 1314\n"
     ]
    },
    {
     "name": "stderr",
     "output_type": "stream",
     "text": [
      "[I 2024-11-29 16:18:42,033] Trial 602 finished with value: 0.028555019320084404 and parameters: {'similarity': 'euclidean', 'topK': 14, 'shrink': 830, 'feature_weighting': 'TF-IDF', 'normalize_avg_row': False, 'similarity_from_distance_mode': 'lin', 'normalize': False}. Best is trial 388 with value: 0.05027369636809012.\n"
     ]
    },
    {
     "name": "stdout",
     "output_type": "stream",
     "text": [
      "Similarity column 38121 (100.0%), 2829.60 column/sec. Elapsed time 13.47 sec\n",
      "EvaluatorHoldout: Processed 35595 (100.0%) in 33.39 sec. Users per second: 1066\n"
     ]
    },
    {
     "name": "stderr",
     "output_type": "stream",
     "text": [
      "[I 2024-11-29 16:19:29,416] Trial 603 finished with value: 0.04854322548422667 and parameters: {'similarity': 'cosine', 'topK': 27, 'shrink': 464, 'feature_weighting': 'TF-IDF'}. Best is trial 388 with value: 0.05027369636809012.\n"
     ]
    },
    {
     "name": "stdout",
     "output_type": "stream",
     "text": [
      "Similarity column 38121 (100.0%), 2776.53 column/sec. Elapsed time 13.73 sec\n",
      "EvaluatorHoldout: Processed 35595 (100.0%) in 32.26 sec. Users per second: 1104\n"
     ]
    },
    {
     "name": "stderr",
     "output_type": "stream",
     "text": [
      "[I 2024-11-29 16:20:15,857] Trial 604 finished with value: 0.04960889036046897 and parameters: {'similarity': 'cosine', 'topK': 14, 'shrink': 510, 'feature_weighting': 'TF-IDF'}. Best is trial 388 with value: 0.05027369636809012.\n"
     ]
    },
    {
     "name": "stdout",
     "output_type": "stream",
     "text": [
      "Similarity column 38121 (100.0%), 2828.20 column/sec. Elapsed time 13.48 sec\n",
      "EvaluatorHoldout: Processed 35595 (100.0%) in 35.41 sec. Users per second: 1005\n"
     ]
    },
    {
     "name": "stderr",
     "output_type": "stream",
     "text": [
      "[I 2024-11-29 16:21:05,270] Trial 605 finished with value: 0.047381241123127256 and parameters: {'similarity': 'cosine', 'topK': 50, 'shrink': 847, 'feature_weighting': 'TF-IDF'}. Best is trial 388 with value: 0.05027369636809012.\n"
     ]
    },
    {
     "name": "stdout",
     "output_type": "stream",
     "text": [
      "Similarity column 38121 (100.0%), 2773.71 column/sec. Elapsed time 13.74 sec\n",
      "EvaluatorHoldout: Processed 35595 (100.0%) in 34.37 sec. Users per second: 1036\n"
     ]
    },
    {
     "name": "stderr",
     "output_type": "stream",
     "text": [
      "[I 2024-11-29 16:21:53,905] Trial 606 finished with value: 0.04824231711694638 and parameters: {'similarity': 'cosine', 'topK': 31, 'shrink': 781, 'feature_weighting': 'TF-IDF'}. Best is trial 388 with value: 0.05027369636809012.\n"
     ]
    },
    {
     "name": "stdout",
     "output_type": "stream",
     "text": [
      "Similarity column 38121 (100.0%), 2781.10 column/sec. Elapsed time 13.71 sec\n",
      "EvaluatorHoldout: Processed 35595 (100.0%) in 33.79 sec. Users per second: 1053\n"
     ]
    },
    {
     "name": "stderr",
     "output_type": "stream",
     "text": [
      "[I 2024-11-29 16:22:41,889] Trial 607 finished with value: 0.04959689696920893 and parameters: {'similarity': 'cosine', 'topK': 14, 'shrink': 297, 'feature_weighting': 'TF-IDF'}. Best is trial 388 with value: 0.05027369636809012.\n"
     ]
    },
    {
     "name": "stdout",
     "output_type": "stream",
     "text": [
      "Similarity column 38121 (100.0%), 2730.40 column/sec. Elapsed time 13.96 sec\n",
      "EvaluatorHoldout: Processed 35595 (100.0%) in 35.12 sec. Users per second: 1014\n"
     ]
    },
    {
     "name": "stderr",
     "output_type": "stream",
     "text": [
      "[I 2024-11-29 16:23:31,510] Trial 608 finished with value: 0.04851073920226701 and parameters: {'similarity': 'cosine', 'topK': 26, 'shrink': 758, 'feature_weighting': 'TF-IDF'}. Best is trial 388 with value: 0.05027369636809012.\n"
     ]
    },
    {
     "name": "stdout",
     "output_type": "stream",
     "text": [
      "Similarity column 38121 (100.0%), 2809.19 column/sec. Elapsed time 13.57 sec\n",
      "EvaluatorHoldout: Processed 35595 (100.0%) in 31.80 sec. Users per second: 1119\n"
     ]
    },
    {
     "name": "stderr",
     "output_type": "stream",
     "text": [
      "[I 2024-11-29 16:24:17,329] Trial 609 finished with value: 0.04967772359681166 and parameters: {'similarity': 'cosine', 'topK': 13, 'shrink': 323, 'feature_weighting': 'TF-IDF'}. Best is trial 388 with value: 0.05027369636809012.\n"
     ]
    },
    {
     "name": "stdout",
     "output_type": "stream",
     "text": [
      "Similarity column 38121 (100.0%), 3598.05 column/sec. Elapsed time 10.59 sec\n",
      "EvaluatorHoldout: Processed 35595 (100.0%) in 25.06 sec. Users per second: 1420\n"
     ]
    },
    {
     "name": "stderr",
     "output_type": "stream",
     "text": [
      "[I 2024-11-29 16:24:53,425] Trial 610 finished with value: 0.00028209999175022335 and parameters: {'similarity': 'cosine', 'topK': 0, 'shrink': 350, 'feature_weighting': 'TF-IDF'}. Best is trial 388 with value: 0.05027369636809012.\n"
     ]
    },
    {
     "name": "stdout",
     "output_type": "stream",
     "text": [
      "Similarity column 38121 (100.0%), 2818.00 column/sec. Elapsed time 13.53 sec\n",
      "EvaluatorHoldout: Processed 35595 (100.0%) in 34.26 sec. Users per second: 1039\n"
     ]
    },
    {
     "name": "stderr",
     "output_type": "stream",
     "text": [
      "[I 2024-11-29 16:25:41,726] Trial 611 finished with value: 0.047722971391111084 and parameters: {'similarity': 'cosine', 'topK': 43, 'shrink': 278, 'feature_weighting': 'TF-IDF'}. Best is trial 388 with value: 0.05027369636809012.\n"
     ]
    },
    {
     "name": "stdout",
     "output_type": "stream",
     "text": [
      "Similarity column 38121 (100.0%), 2822.53 column/sec. Elapsed time 13.51 sec\n",
      "EvaluatorHoldout: Processed 35595 (100.0%) in 34.75 sec. Users per second: 1024\n"
     ]
    },
    {
     "name": "stderr",
     "output_type": "stream",
     "text": [
      "[I 2024-11-29 16:26:30,494] Trial 612 finished with value: 0.04865533771686146 and parameters: {'similarity': 'cosine', 'topK': 24, 'shrink': 819, 'feature_weighting': 'TF-IDF'}. Best is trial 388 with value: 0.05027369636809012.\n"
     ]
    },
    {
     "name": "stdout",
     "output_type": "stream",
     "text": [
      "Similarity column 38121 (100.0%), 3276.53 column/sec. Elapsed time 11.63 sec\n",
      "EvaluatorHoldout: Processed 35595 (100.0%) in 24.88 sec. Users per second: 1431\n"
     ]
    },
    {
     "name": "stderr",
     "output_type": "stream",
     "text": [
      "[I 2024-11-29 16:27:07,667] Trial 613 finished with value: 0.00028209999175022335 and parameters: {'similarity': 'tversky', 'topK': 0, 'shrink': 432, 'feature_weighting': 'TF-IDF', 'tversky_alpha': 1.0533374609043644, 'tversky_beta': 1.756816677190116}. Best is trial 388 with value: 0.05027369636809012.\n"
     ]
    },
    {
     "name": "stdout",
     "output_type": "stream",
     "text": [
      "Similarity column 38121 (100.0%), 2856.85 column/sec. Elapsed time 13.34 sec\n",
      "EvaluatorHoldout: Processed 35595 (100.0%) in 34.26 sec. Users per second: 1039\n"
     ]
    },
    {
     "name": "stderr",
     "output_type": "stream",
     "text": [
      "[I 2024-11-29 16:27:55,755] Trial 614 finished with value: 0.04798310356590802 and parameters: {'similarity': 'cosine', 'topK': 34, 'shrink': 872, 'feature_weighting': 'TF-IDF'}. Best is trial 388 with value: 0.05027369636809012.\n"
     ]
    },
    {
     "name": "stdout",
     "output_type": "stream",
     "text": [
      "Similarity column 38121 (100.0%), 2831.54 column/sec. Elapsed time 13.46 sec\n",
      "EvaluatorHoldout: Processed 35595 (100.0%) in 32.03 sec. Users per second: 1111\n"
     ]
    },
    {
     "name": "stderr",
     "output_type": "stream",
     "text": [
      "[I 2024-11-29 16:28:41,706] Trial 615 finished with value: 0.04958225473079902 and parameters: {'similarity': 'cosine', 'topK': 14, 'shrink': 554, 'feature_weighting': 'TF-IDF'}. Best is trial 388 with value: 0.05027369636809012.\n"
     ]
    },
    {
     "name": "stdout",
     "output_type": "stream",
     "text": [
      "Similarity column 38121 (100.0%), 2845.56 column/sec. Elapsed time 13.40 sec\n",
      "EvaluatorHoldout: Processed 35595 (100.0%) in 34.56 sec. Users per second: 1030\n"
     ]
    },
    {
     "name": "stderr",
     "output_type": "stream",
     "text": [
      "[I 2024-11-29 16:29:30,182] Trial 616 finished with value: 0.047666746934760404 and parameters: {'similarity': 'cosine', 'topK': 48, 'shrink': 372, 'feature_weighting': 'TF-IDF'}. Best is trial 388 with value: 0.05027369636809012.\n"
     ]
    },
    {
     "name": "stdout",
     "output_type": "stream",
     "text": [
      "Similarity column 38121 (100.0%), 2755.25 column/sec. Elapsed time 13.84 sec\n",
      "EvaluatorHoldout: Processed 35595 (100.0%) in 34.06 sec. Users per second: 1045\n"
     ]
    },
    {
     "name": "stderr",
     "output_type": "stream",
     "text": [
      "[I 2024-11-29 16:30:18,453] Trial 617 finished with value: 0.03916964996421232 and parameters: {'similarity': 'cosine', 'topK': 15, 'shrink': 488, 'feature_weighting': 'none'}. Best is trial 388 with value: 0.05027369636809012.\n"
     ]
    },
    {
     "name": "stdout",
     "output_type": "stream",
     "text": [
      "Similarity column 38121 (100.0%), 2782.28 column/sec. Elapsed time 13.70 sec\n",
      "EvaluatorHoldout: Processed 35595 (100.0%) in 32.74 sec. Users per second: 1087\n"
     ]
    },
    {
     "name": "stderr",
     "output_type": "stream",
     "text": [
      "[I 2024-11-29 16:31:05,419] Trial 618 finished with value: 0.05005008840638668 and parameters: {'similarity': 'asymmetric', 'topK': 33, 'shrink': 334, 'feature_weighting': 'TF-IDF', 'asymmetric_alpha': 0.1771919397398527}. Best is trial 388 with value: 0.05027369636809012.\n"
     ]
    },
    {
     "name": "stdout",
     "output_type": "stream",
     "text": [
      "Similarity column 38121 (100.0%), 2819.81 column/sec. Elapsed time 13.52 sec\n",
      "EvaluatorHoldout: Processed 35595 (100.0%) in 36.03 sec. Users per second: 988\n"
     ]
    },
    {
     "name": "stderr",
     "output_type": "stream",
     "text": [
      "[I 2024-11-29 16:31:55,656] Trial 619 finished with value: 0.04214939341846043 and parameters: {'similarity': 'dice', 'topK': 36, 'shrink': 341, 'feature_weighting': 'TF-IDF'}. Best is trial 388 with value: 0.05027369636809012.\n"
     ]
    },
    {
     "name": "stdout",
     "output_type": "stream",
     "text": [
      "Similarity column 38121 (100.0%), 2760.56 column/sec. Elapsed time 13.81 sec\n",
      "EvaluatorHoldout: Processed 35595 (100.0%) in 32.77 sec. Users per second: 1086\n"
     ]
    },
    {
     "name": "stderr",
     "output_type": "stream",
     "text": [
      "[I 2024-11-29 16:32:42,736] Trial 620 finished with value: 0.04323230924621437 and parameters: {'similarity': 'asymmetric', 'topK': 25, 'shrink': 319, 'feature_weighting': 'BM25', 'asymmetric_alpha': 0.1936474916199513}. Best is trial 388 with value: 0.05027369636809012.\n"
     ]
    },
    {
     "name": "stdout",
     "output_type": "stream",
     "text": [
      "Similarity column 38121 (100.0%), 2753.13 column/sec. Elapsed time 13.85 sec\n",
      "EvaluatorHoldout: Processed 35595 (100.0%) in 33.53 sec. Users per second: 1062\n"
     ]
    },
    {
     "name": "stderr",
     "output_type": "stream",
     "text": [
      "[I 2024-11-29 16:33:30,591] Trial 621 finished with value: 0.04807125577205463 and parameters: {'similarity': 'asymmetric', 'topK': 23, 'shrink': 297, 'feature_weighting': 'TF-IDF', 'asymmetric_alpha': 0.5447953219140159}. Best is trial 388 with value: 0.05027369636809012.\n"
     ]
    },
    {
     "name": "stdout",
     "output_type": "stream",
     "text": [
      "Similarity column 38121 (100.0%), 2812.42 column/sec. Elapsed time 13.55 sec\n",
      "EvaluatorHoldout: Processed 35595 (100.0%) in 32.17 sec. Users per second: 1106\n"
     ]
    },
    {
     "name": "stderr",
     "output_type": "stream",
     "text": [
      "[I 2024-11-29 16:34:16,794] Trial 622 finished with value: 0.04863054267921352 and parameters: {'similarity': 'asymmetric', 'topK': 11, 'shrink': 356, 'feature_weighting': 'TF-IDF', 'asymmetric_alpha': 0.5785931746166357}. Best is trial 388 with value: 0.05027369636809012.\n"
     ]
    },
    {
     "name": "stdout",
     "output_type": "stream",
     "text": [
      "Similarity column 38121 (100.0%), 2748.87 column/sec. Elapsed time 13.87 sec\n",
      "EvaluatorHoldout: Processed 35595 (100.0%) in 34.29 sec. Users per second: 1038\n"
     ]
    },
    {
     "name": "stderr",
     "output_type": "stream",
     "text": [
      "[I 2024-11-29 16:35:05,493] Trial 623 finished with value: 0.04909820132575966 and parameters: {'similarity': 'asymmetric', 'topK': 50, 'shrink': 333, 'feature_weighting': 'TF-IDF', 'asymmetric_alpha': 0.128873333341954}. Best is trial 388 with value: 0.05027369636809012.\n"
     ]
    },
    {
     "name": "stdout",
     "output_type": "stream",
     "text": [
      "Similarity column 38121 (100.0%), 2767.10 column/sec. Elapsed time 13.78 sec\n",
      "EvaluatorHoldout: Processed 35595 (100.0%) in 38.65 sec. Users per second: 921\n"
     ]
    },
    {
     "name": "stderr",
     "output_type": "stream",
     "text": [
      "[I 2024-11-29 16:35:58,489] Trial 624 finished with value: 0.03843068961442184 and parameters: {'similarity': 'asymmetric', 'topK': 35, 'shrink': 388, 'feature_weighting': 'TF-IDF', 'asymmetric_alpha': 0.8968374105893532}. Best is trial 388 with value: 0.05027369636809012.\n"
     ]
    },
    {
     "name": "stdout",
     "output_type": "stream",
     "text": [
      "Similarity column 38121 (100.0%), 3466.31 column/sec. Elapsed time 11.00 sec\n",
      "EvaluatorHoldout: Processed 35595 (100.0%) in 25.74 sec. Users per second: 1383\n"
     ]
    },
    {
     "name": "stderr",
     "output_type": "stream",
     "text": [
      "[I 2024-11-29 16:36:35,716] Trial 625 finished with value: 0.00028209999175022335 and parameters: {'similarity': 'asymmetric', 'topK': 0, 'shrink': 304, 'feature_weighting': 'TF-IDF', 'asymmetric_alpha': 1.3991795963322415}. Best is trial 388 with value: 0.05027369636809012.\n"
     ]
    },
    {
     "name": "stdout",
     "output_type": "stream",
     "text": [
      "Similarity column 38121 (100.0%), 3499.17 column/sec. Elapsed time 10.89 sec\n",
      "EvaluatorHoldout: Processed 35595 (100.0%) in 26.30 sec. Users per second: 1353\n"
     ]
    },
    {
     "name": "stderr",
     "output_type": "stream",
     "text": [
      "[I 2024-11-29 16:37:13,389] Trial 626 finished with value: 0.00028209999175022335 and parameters: {'similarity': 'asymmetric', 'topK': 0, 'shrink': 329, 'feature_weighting': 'TF-IDF', 'asymmetric_alpha': 0.7992957502756227}. Best is trial 388 with value: 0.05027369636809012.\n"
     ]
    },
    {
     "name": "stdout",
     "output_type": "stream",
     "text": [
      "Similarity column 38121 (100.0%), 2825.76 column/sec. Elapsed time 13.49 sec\n",
      "EvaluatorHoldout: Processed 35595 (100.0%) in 35.76 sec. Users per second: 995\n"
     ]
    },
    {
     "name": "stderr",
     "output_type": "stream",
     "text": [
      "[I 2024-11-29 16:38:03,119] Trial 627 finished with value: 0.02155155664363378 and parameters: {'similarity': 'asymmetric', 'topK': 16, 'shrink': 2, 'feature_weighting': 'TF-IDF', 'asymmetric_alpha': 1.1275955130080937}. Best is trial 388 with value: 0.05027369636809012.\n"
     ]
    },
    {
     "name": "stdout",
     "output_type": "stream",
     "text": [
      "Similarity column 38121 (100.0%), 2763.33 column/sec. Elapsed time 13.80 sec\n",
      "EvaluatorHoldout: Processed 35595 (100.0%) in 33.28 sec. Users per second: 1070\n"
     ]
    },
    {
     "name": "stderr",
     "output_type": "stream",
     "text": [
      "[I 2024-11-29 16:38:50,706] Trial 628 finished with value: 0.04860902302579345 and parameters: {'similarity': 'asymmetric', 'topK': 28, 'shrink': 360, 'feature_weighting': 'TF-IDF', 'asymmetric_alpha': 0.4912574039792585}. Best is trial 388 with value: 0.05027369636809012.\n"
     ]
    },
    {
     "name": "stdout",
     "output_type": "stream",
     "text": [
      "Similarity column 38121 (100.0%), 2764.72 column/sec. Elapsed time 13.79 sec\n",
      "EvaluatorHoldout: Processed 35595 (100.0%) in 41.57 sec. Users per second: 856\n"
     ]
    },
    {
     "name": "stderr",
     "output_type": "stream",
     "text": [
      "[I 2024-11-29 16:39:46,748] Trial 629 finished with value: 0.0435604206940052 and parameters: {'similarity': 'asymmetric', 'topK': 167, 'shrink': 281, 'feature_weighting': 'TF-IDF', 'asymmetric_alpha': 0.6525051909644364}. Best is trial 388 with value: 0.05027369636809012.\n"
     ]
    },
    {
     "name": "stdout",
     "output_type": "stream",
     "text": [
      "Similarity column 38121 (100.0%), 2713.70 column/sec. Elapsed time 14.05 sec\n",
      "EvaluatorHoldout: Processed 35595 (100.0%) in 31.62 sec. Users per second: 1126\n"
     ]
    },
    {
     "name": "stderr",
     "output_type": "stream",
     "text": [
      "[I 2024-11-29 16:40:32,930] Trial 630 finished with value: 0.052626311881683006 and parameters: {'similarity': 'asymmetric', 'topK': 12, 'shrink': 261, 'feature_weighting': 'TF-IDF', 'asymmetric_alpha': 0.13501284497186555}. Best is trial 630 with value: 0.052626311881683006.\n"
     ]
    },
    {
     "name": "stdout",
     "output_type": "stream",
     "text": [
      "Similarity column 38121 (100.0%), 2769.87 column/sec. Elapsed time 13.76 sec\n",
      "EvaluatorHoldout: Processed 35595 (100.0%) in 32.53 sec. Users per second: 1094\n"
     ]
    },
    {
     "name": "stderr",
     "output_type": "stream",
     "text": [
      "[I 2024-11-29 16:41:19,794] Trial 631 finished with value: 0.049724551111822966 and parameters: {'similarity': 'asymmetric', 'topK': 38, 'shrink': 251, 'feature_weighting': 'TF-IDF', 'asymmetric_alpha': 0.059773424208678524}. Best is trial 630 with value: 0.052626311881683006.\n"
     ]
    },
    {
     "name": "stdout",
     "output_type": "stream",
     "text": [
      "Similarity column 38121 (100.0%), 2795.31 column/sec. Elapsed time 13.64 sec\n",
      "EvaluatorHoldout: Processed 35595 (100.0%) in 31.23 sec. Users per second: 1140\n"
     ]
    },
    {
     "name": "stderr",
     "output_type": "stream",
     "text": [
      "[I 2024-11-29 16:42:05,164] Trial 632 finished with value: 0.051818006586441236 and parameters: {'similarity': 'asymmetric', 'topK': 14, 'shrink': 267, 'feature_weighting': 'TF-IDF', 'asymmetric_alpha': 0.2983655905400797}. Best is trial 630 with value: 0.052626311881683006.\n"
     ]
    },
    {
     "name": "stdout",
     "output_type": "stream",
     "text": [
      "Similarity column 38121 (100.0%), 2769.62 column/sec. Elapsed time 13.76 sec\n",
      "EvaluatorHoldout: Processed 35595 (100.0%) in 33.07 sec. Users per second: 1076\n"
     ]
    },
    {
     "name": "stderr",
     "output_type": "stream",
     "text": [
      "[I 2024-11-29 16:42:52,500] Trial 633 finished with value: 0.050701238804271125 and parameters: {'similarity': 'asymmetric', 'topK': 24, 'shrink': 240, 'feature_weighting': 'TF-IDF', 'asymmetric_alpha': 0.26845638920054954}. Best is trial 630 with value: 0.052626311881683006.\n"
     ]
    },
    {
     "name": "stdout",
     "output_type": "stream",
     "text": [
      "Similarity column 38121 (100.0%), 2742.85 column/sec. Elapsed time 13.90 sec\n",
      "EvaluatorHoldout: Processed 35595 (100.0%) in 33.98 sec. Users per second: 1048\n"
     ]
    },
    {
     "name": "stderr",
     "output_type": "stream",
     "text": [
      "[I 2024-11-29 16:43:40,915] Trial 634 finished with value: 0.048644753476609986 and parameters: {'similarity': 'asymmetric', 'topK': 53, 'shrink': 242, 'feature_weighting': 'TF-IDF', 'asymmetric_alpha': 0.2802250528120267}. Best is trial 630 with value: 0.052626311881683006.\n"
     ]
    },
    {
     "name": "stdout",
     "output_type": "stream",
     "text": [
      "Similarity column 38121 (100.0%), 2764.55 column/sec. Elapsed time 13.79 sec\n",
      "EvaluatorHoldout: Processed 35595 (100.0%) in 34.05 sec. Users per second: 1045\n"
     ]
    },
    {
     "name": "stderr",
     "output_type": "stream",
     "text": [
      "[I 2024-11-29 16:44:29,289] Trial 635 finished with value: 0.04935915847820435 and parameters: {'similarity': 'asymmetric', 'topK': 44, 'shrink': 238, 'feature_weighting': 'TF-IDF', 'asymmetric_alpha': 0.15872977091285156}. Best is trial 630 with value: 0.052626311881683006.\n"
     ]
    },
    {
     "name": "stdout",
     "output_type": "stream",
     "text": [
      "Similarity column 38121 (100.0%), 2728.57 column/sec. Elapsed time 13.97 sec\n",
      "EvaluatorHoldout: Processed 35595 (100.0%) in 31.85 sec. Users per second: 1118\n"
     ]
    },
    {
     "name": "stderr",
     "output_type": "stream",
     "text": [
      "[I 2024-11-29 16:45:15,645] Trial 636 finished with value: 0.050350607696370994 and parameters: {'similarity': 'asymmetric', 'topK': 27, 'shrink': 199, 'feature_weighting': 'TF-IDF', 'asymmetric_alpha': 0.004457726600672562}. Best is trial 630 with value: 0.052626311881683006.\n"
     ]
    },
    {
     "name": "stdout",
     "output_type": "stream",
     "text": [
      "Similarity column 38121 (100.0%), 2754.49 column/sec. Elapsed time 13.84 sec\n",
      "EvaluatorHoldout: Processed 35595 (100.0%) in 32.58 sec. Users per second: 1092\n"
     ]
    },
    {
     "name": "stderr",
     "output_type": "stream",
     "text": [
      "[I 2024-11-29 16:46:02,570] Trial 637 finished with value: 0.04968248059630106 and parameters: {'similarity': 'asymmetric', 'topK': 38, 'shrink': 182, 'feature_weighting': 'TF-IDF', 'asymmetric_alpha': 0.07723297392949911}. Best is trial 630 with value: 0.052626311881683006.\n"
     ]
    },
    {
     "name": "stdout",
     "output_type": "stream",
     "text": [
      "Similarity column 38121 (100.0%), 2752.33 column/sec. Elapsed time 13.85 sec\n",
      "EvaluatorHoldout: Processed 35595 (100.0%) in 34.58 sec. Users per second: 1029\n"
     ]
    },
    {
     "name": "stderr",
     "output_type": "stream",
     "text": [
      "[I 2024-11-29 16:46:51,540] Trial 638 finished with value: 0.04838935488977447 and parameters: {'similarity': 'asymmetric', 'topK': 55, 'shrink': 215, 'feature_weighting': 'TF-IDF', 'asymmetric_alpha': 0.3430717979148779}. Best is trial 630 with value: 0.052626311881683006.\n"
     ]
    },
    {
     "name": "stdout",
     "output_type": "stream",
     "text": [
      "Similarity column 38121 (100.0%), 2730.13 column/sec. Elapsed time 13.96 sec\n",
      "EvaluatorHoldout: Processed 35595 (100.0%) in 31.91 sec. Users per second: 1115\n"
     ]
    },
    {
     "name": "stderr",
     "output_type": "stream",
     "text": [
      "[I 2024-11-29 16:47:37,920] Trial 639 finished with value: 0.050117765559188246 and parameters: {'similarity': 'asymmetric', 'topK': 27, 'shrink': 167, 'feature_weighting': 'TF-IDF', 'asymmetric_alpha': 0.0016675586451599667}. Best is trial 630 with value: 0.052626311881683006.\n"
     ]
    },
    {
     "name": "stdout",
     "output_type": "stream",
     "text": [
      "Similarity column 38121 (100.0%), 2765.38 column/sec. Elapsed time 13.79 sec\n",
      "EvaluatorHoldout: Processed 35595 (100.0%) in 33.34 sec. Users per second: 1068\n"
     ]
    },
    {
     "name": "stderr",
     "output_type": "stream",
     "text": [
      "[I 2024-11-29 16:48:25,615] Trial 640 finished with value: 0.04871343732510851 and parameters: {'similarity': 'asymmetric', 'topK': 53, 'shrink': 185, 'feature_weighting': 'TF-IDF', 'asymmetric_alpha': 0.012552676122997306}. Best is trial 630 with value: 0.052626311881683006.\n"
     ]
    },
    {
     "name": "stdout",
     "output_type": "stream",
     "text": [
      "Similarity column 38121 (100.0%), 2771.49 column/sec. Elapsed time 13.75 sec\n",
      "EvaluatorHoldout: Processed 35595 (100.0%) in 32.27 sec. Users per second: 1103\n"
     ]
    },
    {
     "name": "stderr",
     "output_type": "stream",
     "text": [
      "[I 2024-11-29 16:49:12,161] Trial 641 finished with value: 0.050382748379585715 and parameters: {'similarity': 'asymmetric', 'topK': 29, 'shrink': 165, 'feature_weighting': 'TF-IDF', 'asymmetric_alpha': 0.2178535686756}. Best is trial 630 with value: 0.052626311881683006.\n"
     ]
    },
    {
     "name": "stdout",
     "output_type": "stream",
     "text": [
      "Similarity column 38121 (100.0%), 2775.31 column/sec. Elapsed time 13.74 sec\n",
      "EvaluatorHoldout: Processed 35595 (100.0%) in 32.90 sec. Users per second: 1082\n"
     ]
    },
    {
     "name": "stderr",
     "output_type": "stream",
     "text": [
      "[I 2024-11-29 16:49:59,350] Trial 642 finished with value: 0.04935872146301822 and parameters: {'similarity': 'asymmetric', 'topK': 43, 'shrink': 166, 'feature_weighting': 'TF-IDF', 'asymmetric_alpha': 0.22685683238147947}. Best is trial 630 with value: 0.052626311881683006.\n"
     ]
    },
    {
     "name": "stdout",
     "output_type": "stream",
     "text": [
      "Similarity column 38121 (100.0%), 2712.02 column/sec. Elapsed time 14.06 sec\n",
      "EvaluatorHoldout: Processed 35595 (100.0%) in 36.54 sec. Users per second: 974\n"
     ]
    },
    {
     "name": "stderr",
     "output_type": "stream",
     "text": [
      "[I 2024-11-29 16:50:50,393] Trial 643 finished with value: 0.04104200251060634 and parameters: {'similarity': 'asymmetric', 'topK': 56, 'shrink': 148, 'feature_weighting': 'none', 'asymmetric_alpha': 0.14136065268188025}. Best is trial 630 with value: 0.052626311881683006.\n"
     ]
    },
    {
     "name": "stdout",
     "output_type": "stream",
     "text": [
      "Similarity column 38121 (100.0%), 2786.67 column/sec. Elapsed time 13.68 sec\n",
      "EvaluatorHoldout: Processed 35595 (100.0%) in 33.33 sec. Users per second: 1068\n"
     ]
    },
    {
     "name": "stderr",
     "output_type": "stream",
     "text": [
      "[I 2024-11-29 16:51:37,917] Trial 644 finished with value: 0.0486698127300722 and parameters: {'similarity': 'asymmetric', 'topK': 33, 'shrink': 198, 'feature_weighting': 'TF-IDF', 'asymmetric_alpha': 0.44256095533999984}. Best is trial 630 with value: 0.052626311881683006.\n"
     ]
    },
    {
     "name": "stdout",
     "output_type": "stream",
     "text": [
      "Similarity column 38121 (100.0%), 2707.13 column/sec. Elapsed time 14.08 sec\n",
      "EvaluatorHoldout: Processed 35595 (100.0%) in 39.59 sec. Users per second: 899\n"
     ]
    },
    {
     "name": "stderr",
     "output_type": "stream",
     "text": [
      "[I 2024-11-29 16:52:32,331] Trial 645 finished with value: 0.04561238759679369 and parameters: {'similarity': 'asymmetric', 'topK': 196, 'shrink': 165, 'feature_weighting': 'TF-IDF', 'asymmetric_alpha': 0.2948908033350282}. Best is trial 630 with value: 0.052626311881683006.\n"
     ]
    },
    {
     "name": "stdout",
     "output_type": "stream",
     "text": [
      "Similarity column 38121 (100.0%), 2687.39 column/sec. Elapsed time 14.19 sec\n",
      "EvaluatorHoldout: Processed 35595 (100.0%) in 33.52 sec. Users per second: 1062\n"
     ]
    },
    {
     "name": "stderr",
     "output_type": "stream",
     "text": [
      "[I 2024-11-29 16:53:20,564] Trial 646 finished with value: 0.050531984606361414 and parameters: {'similarity': 'asymmetric', 'topK': 28, 'shrink': 215, 'feature_weighting': 'TF-IDF', 'asymmetric_alpha': 0.08785352047883076}. Best is trial 630 with value: 0.052626311881683006.\n"
     ]
    },
    {
     "name": "stdout",
     "output_type": "stream",
     "text": [
      "Similarity column 38121 (100.0%), 2659.49 column/sec. Elapsed time 14.33 sec\n",
      "EvaluatorHoldout: Processed 35595 (100.0%) in 36.47 sec. Users per second: 976\n"
     ]
    },
    {
     "name": "stderr",
     "output_type": "stream",
     "text": [
      "[I 2024-11-29 16:54:11,947] Trial 647 finished with value: 0.04216271123329563 and parameters: {'similarity': 'asymmetric', 'topK': 50, 'shrink': 143, 'feature_weighting': 'BM25', 'asymmetric_alpha': 0.06645048079981311}. Best is trial 630 with value: 0.052626311881683006.\n"
     ]
    },
    {
     "name": "stdout",
     "output_type": "stream",
     "text": [
      "Similarity column 38121 (100.0%), 2770.48 column/sec. Elapsed time 13.76 sec\n",
      "EvaluatorHoldout: Processed 35595 (100.0%) in 32.27 sec. Users per second: 1103\n"
     ]
    },
    {
     "name": "stderr",
     "output_type": "stream",
     "text": [
      "[I 2024-11-29 16:54:58,502] Trial 648 finished with value: 0.04985676715786119 and parameters: {'similarity': 'asymmetric', 'topK': 33, 'shrink': 208, 'feature_weighting': 'TF-IDF', 'asymmetric_alpha': 0.01066316888481863}. Best is trial 630 with value: 0.052626311881683006.\n"
     ]
    },
    {
     "name": "stdout",
     "output_type": "stream",
     "text": [
      "Similarity column 38121 (100.0%), 2735.53 column/sec. Elapsed time 13.94 sec\n",
      "EvaluatorHoldout: Processed 35595 (100.0%) in 33.58 sec. Users per second: 1060\n"
     ]
    },
    {
     "name": "stderr",
     "output_type": "stream",
     "text": [
      "[I 2024-11-29 16:55:46,563] Trial 649 finished with value: 0.04886868362552955 and parameters: {'similarity': 'asymmetric', 'topK': 56, 'shrink': 214, 'feature_weighting': 'TF-IDF', 'asymmetric_alpha': 0.11800842182719576}. Best is trial 630 with value: 0.052626311881683006.\n"
     ]
    },
    {
     "name": "stdout",
     "output_type": "stream",
     "text": [
      "Similarity column 38121 (100.0%), 2808.59 column/sec. Elapsed time 13.57 sec\n",
      "EvaluatorHoldout: Processed 35595 (100.0%) in 32.27 sec. Users per second: 1103\n"
     ]
    },
    {
     "name": "stderr",
     "output_type": "stream",
     "text": [
      "[I 2024-11-29 16:56:32,906] Trial 650 finished with value: 0.05049392192143782 and parameters: {'similarity': 'asymmetric', 'topK': 28, 'shrink': 177, 'feature_weighting': 'TF-IDF', 'asymmetric_alpha': 0.2377169940776137}. Best is trial 630 with value: 0.052626311881683006.\n"
     ]
    },
    {
     "name": "stdout",
     "output_type": "stream",
     "text": [
      "Similarity column 38121 (100.0%), 2752.42 column/sec. Elapsed time 13.85 sec\n",
      "EvaluatorHoldout: Processed 35595 (100.0%) in 33.00 sec. Users per second: 1079\n"
     ]
    },
    {
     "name": "stderr",
     "output_type": "stream",
     "text": [
      "[I 2024-11-29 16:57:20,280] Trial 651 finished with value: 0.049520055875511386 and parameters: {'similarity': 'asymmetric', 'topK': 40, 'shrink': 176, 'feature_weighting': 'TF-IDF', 'asymmetric_alpha': 0.22788273270081813}. Best is trial 630 with value: 0.052626311881683006.\n"
     ]
    },
    {
     "name": "stdout",
     "output_type": "stream",
     "text": [
      "Similarity column 38121 (100.0%), 2768.96 column/sec. Elapsed time 13.77 sec\n",
      "EvaluatorHoldout: Processed 35595 (100.0%) in 34.62 sec. Users per second: 1028\n"
     ]
    },
    {
     "name": "stderr",
     "output_type": "stream",
     "text": [
      "[I 2024-11-29 16:58:09,227] Trial 652 finished with value: 0.04821242839974197 and parameters: {'similarity': 'asymmetric', 'topK': 53, 'shrink': 151, 'feature_weighting': 'TF-IDF', 'asymmetric_alpha': 0.3933211680035842}. Best is trial 630 with value: 0.052626311881683006.\n"
     ]
    },
    {
     "name": "stdout",
     "output_type": "stream",
     "text": [
      "Similarity column 38121 (100.0%), 2742.63 column/sec. Elapsed time 13.90 sec\n",
      "EvaluatorHoldout: Processed 35595 (100.0%) in 32.40 sec. Users per second: 1099\n"
     ]
    },
    {
     "name": "stderr",
     "output_type": "stream",
     "text": [
      "[I 2024-11-29 16:58:56,055] Trial 653 finished with value: 0.050332921959342684 and parameters: {'similarity': 'asymmetric', 'topK': 28, 'shrink': 179, 'feature_weighting': 'TF-IDF', 'asymmetric_alpha': 0.27436969807564826}. Best is trial 630 with value: 0.052626311881683006.\n"
     ]
    },
    {
     "name": "stdout",
     "output_type": "stream",
     "text": [
      "Similarity column 38121 (100.0%), 2672.96 column/sec. Elapsed time 14.26 sec\n",
      "EvaluatorHoldout: Processed 35595 (100.0%) in 44.57 sec. Users per second: 799\n"
     ]
    },
    {
     "name": "stderr",
     "output_type": "stream",
     "text": [
      "[I 2024-11-29 16:59:56,059] Trial 654 finished with value: 0.0429333395764058 and parameters: {'similarity': 'asymmetric', 'topK': 462, 'shrink': 186, 'feature_weighting': 'TF-IDF', 'asymmetric_alpha': 0.2590532332731519}. Best is trial 630 with value: 0.052626311881683006.\n"
     ]
    },
    {
     "name": "stdout",
     "output_type": "stream",
     "text": [
      "Similarity column 38121 (100.0%), 2730.67 column/sec. Elapsed time 13.96 sec\n",
      "EvaluatorHoldout: Processed 35595 (100.0%) in 32.98 sec. Users per second: 1079\n"
     ]
    },
    {
     "name": "stderr",
     "output_type": "stream",
     "text": [
      "[I 2024-11-29 17:00:43,538] Trial 655 finished with value: 0.04957152333237289 and parameters: {'similarity': 'asymmetric', 'topK': 40, 'shrink': 129, 'feature_weighting': 'TF-IDF', 'asymmetric_alpha': 0.18629330253539853}. Best is trial 630 with value: 0.052626311881683006.\n"
     ]
    },
    {
     "name": "stdout",
     "output_type": "stream",
     "text": [
      "Similarity column 38121 (100.0%), 2756.59 column/sec. Elapsed time 13.83 sec\n",
      "EvaluatorHoldout: Processed 35595 (100.0%) in 33.39 sec. Users per second: 1066\n"
     ]
    },
    {
     "name": "stderr",
     "output_type": "stream",
     "text": [
      "[I 2024-11-29 17:01:31,322] Trial 656 finished with value: 0.04897957734388234 and parameters: {'similarity': 'asymmetric', 'topK': 53, 'shrink': 212, 'feature_weighting': 'TF-IDF', 'asymmetric_alpha': 0.1118626982804009}. Best is trial 630 with value: 0.052626311881683006.\n"
     ]
    },
    {
     "name": "stdout",
     "output_type": "stream",
     "text": [
      "Similarity column 38121 (100.0%), 2793.62 column/sec. Elapsed time 13.65 sec\n",
      "EvaluatorHoldout: Processed 35595 (100.0%) in 32.98 sec. Users per second: 1079\n"
     ]
    },
    {
     "name": "stderr",
     "output_type": "stream",
     "text": [
      "[I 2024-11-29 17:02:18,476] Trial 657 finished with value: 0.04971099360753635 and parameters: {'similarity': 'asymmetric', 'topK': 30, 'shrink': 159, 'feature_weighting': 'TF-IDF', 'asymmetric_alpha': 0.3233991747391102}. Best is trial 630 with value: 0.052626311881683006.\n"
     ]
    },
    {
     "name": "stdout",
     "output_type": "stream",
     "text": [
      "Similarity column 38121 (100.0%), 2767.77 column/sec. Elapsed time 13.77 sec\n",
      "EvaluatorHoldout: Processed 35595 (100.0%) in 32.60 sec. Users per second: 1092\n"
     ]
    },
    {
     "name": "stderr",
     "output_type": "stream",
     "text": [
      "[I 2024-11-29 17:03:05,355] Trial 658 finished with value: 0.050223083989411756 and parameters: {'similarity': 'asymmetric', 'topK': 31, 'shrink': 190, 'feature_weighting': 'TF-IDF', 'asymmetric_alpha': 0.07055215384875929}. Best is trial 630 with value: 0.052626311881683006.\n"
     ]
    },
    {
     "name": "stdout",
     "output_type": "stream",
     "text": [
      "Similarity column 38121 (100.0%), 2768.19 column/sec. Elapsed time 13.77 sec\n",
      "EvaluatorHoldout: Processed 35595 (100.0%) in 31.98 sec. Users per second: 1113\n"
     ]
    },
    {
     "name": "stderr",
     "output_type": "stream",
     "text": [
      "[I 2024-11-29 17:03:51,620] Trial 659 finished with value: 0.05050528097177756 and parameters: {'similarity': 'asymmetric', 'topK': 28, 'shrink': 194, 'feature_weighting': 'TF-IDF', 'asymmetric_alpha': 0.0743874045240169}. Best is trial 630 with value: 0.052626311881683006.\n"
     ]
    },
    {
     "name": "stdout",
     "output_type": "stream",
     "text": [
      "Similarity column 38121 (100.0%), 2740.57 column/sec. Elapsed time 13.91 sec\n",
      "EvaluatorHoldout: Processed 35595 (100.0%) in 33.75 sec. Users per second: 1055\n"
     ]
    },
    {
     "name": "stderr",
     "output_type": "stream",
     "text": [
      "[I 2024-11-29 17:04:39,831] Trial 660 finished with value: 0.04859295825835886 and parameters: {'similarity': 'asymmetric', 'topK': 55, 'shrink': 177, 'feature_weighting': 'TF-IDF', 'asymmetric_alpha': 0.007018019692669006}. Best is trial 630 with value: 0.052626311881683006.\n"
     ]
    },
    {
     "name": "stdout",
     "output_type": "stream",
     "text": [
      "Similarity column 38121 (100.0%), 2713.01 column/sec. Elapsed time 14.05 sec\n",
      "EvaluatorHoldout: Processed 35595 (100.0%) in 32.74 sec. Users per second: 1087\n"
     ]
    },
    {
     "name": "stderr",
     "output_type": "stream",
     "text": [
      "[I 2024-11-29 17:05:27,185] Trial 661 finished with value: 0.04955309288579242 and parameters: {'similarity': 'asymmetric', 'topK': 40, 'shrink': 190, 'feature_weighting': 'TF-IDF', 'asymmetric_alpha': 0.07354266690917954}. Best is trial 630 with value: 0.052626311881683006.\n"
     ]
    },
    {
     "name": "stdout",
     "output_type": "stream",
     "text": [
      "Similarity column 38121 (100.0%), 2763.15 column/sec. Elapsed time 13.80 sec\n",
      "EvaluatorHoldout: Processed 35595 (100.0%) in 33.83 sec. Users per second: 1052\n"
     ]
    },
    {
     "name": "stderr",
     "output_type": "stream",
     "text": [
      "[I 2024-11-29 17:06:15,359] Trial 662 finished with value: 0.04878033186397923 and parameters: {'similarity': 'asymmetric', 'topK': 59, 'shrink': 199, 'feature_weighting': 'TF-IDF', 'asymmetric_alpha': 0.17857817547139626}. Best is trial 630 with value: 0.052626311881683006.\n"
     ]
    },
    {
     "name": "stdout",
     "output_type": "stream",
     "text": [
      "Similarity column 38121 (100.0%), 2629.44 column/sec. Elapsed time 14.50 sec\n",
      "EvaluatorHoldout: Processed 35595 (100.0%) in 46.82 sec. Users per second: 760\n"
     ]
    },
    {
     "name": "stderr",
     "output_type": "stream",
     "text": [
      "[I 2024-11-29 17:07:17,992] Trial 663 finished with value: 0.04018903805376467 and parameters: {'similarity': 'asymmetric', 'topK': 582, 'shrink': 103, 'feature_weighting': 'TF-IDF', 'asymmetric_alpha': 0.09139879677815935}. Best is trial 630 with value: 0.052626311881683006.\n"
     ]
    },
    {
     "name": "stdout",
     "output_type": "stream",
     "text": [
      "Similarity column 38121 (100.0%), 2807.07 column/sec. Elapsed time 13.58 sec\n",
      "EvaluatorHoldout: Processed 35595 (100.0%) in 32.41 sec. Users per second: 1098\n"
     ]
    },
    {
     "name": "stderr",
     "output_type": "stream",
     "text": [
      "[I 2024-11-29 17:08:04,532] Trial 664 finished with value: 0.050654360006865476 and parameters: {'similarity': 'asymmetric', 'topK': 26, 'shrink': 228, 'feature_weighting': 'TF-IDF', 'asymmetric_alpha': 0.24446602188958355}. Best is trial 630 with value: 0.052626311881683006.\n"
     ]
    },
    {
     "name": "stdout",
     "output_type": "stream",
     "text": [
      "Similarity column 38121 (100.0%), 2743.54 column/sec. Elapsed time 13.89 sec\n",
      "EvaluatorHoldout: Processed 35595 (100.0%) in 33.31 sec. Users per second: 1069\n"
     ]
    },
    {
     "name": "stderr",
     "output_type": "stream",
     "text": [
      "[I 2024-11-29 17:08:52,278] Trial 665 finished with value: 0.049312421264800434 and parameters: {'similarity': 'asymmetric', 'topK': 43, 'shrink': 217, 'feature_weighting': 'TF-IDF', 'asymmetric_alpha': 0.24552380579793773}. Best is trial 630 with value: 0.052626311881683006.\n"
     ]
    },
    {
     "name": "stdout",
     "output_type": "stream",
     "text": [
      "Similarity column 38121 (100.0%), 2781.18 column/sec. Elapsed time 13.71 sec\n",
      "EvaluatorHoldout: Processed 35595 (100.0%) in 34.34 sec. Users per second: 1037\n"
     ]
    },
    {
     "name": "stderr",
     "output_type": "stream",
     "text": [
      "[I 2024-11-29 17:09:40,853] Trial 666 finished with value: 0.04981851160654202 and parameters: {'similarity': 'asymmetric', 'topK': 27, 'shrink': 232, 'feature_weighting': 'TF-IDF', 'asymmetric_alpha': 0.3685194934063585}. Best is trial 630 with value: 0.052626311881683006.\n"
     ]
    },
    {
     "name": "stdout",
     "output_type": "stream",
     "text": [
      "Similarity column 38121 (100.0%), 2680.42 column/sec. Elapsed time 14.22 sec\n",
      "EvaluatorHoldout: Processed 35595 (100.0%) in 36.19 sec. Users per second: 984\n"
     ]
    },
    {
     "name": "stderr",
     "output_type": "stream",
     "text": [
      "[I 2024-11-29 17:10:31,691] Trial 667 finished with value: 0.04202984746832023 and parameters: {'similarity': 'asymmetric', 'topK': 24, 'shrink': 217, 'feature_weighting': 'none', 'asymmetric_alpha': 0.45051784183377436}. Best is trial 630 with value: 0.052626311881683006.\n"
     ]
    },
    {
     "name": "stdout",
     "output_type": "stream",
     "text": [
      "Similarity column 38121 (100.0%), 2689.89 column/sec. Elapsed time 14.17 sec\n",
      "EvaluatorHoldout: Processed 35595 (100.0%) in 33.39 sec. Users per second: 1066\n"
     ]
    },
    {
     "name": "stderr",
     "output_type": "stream",
     "text": [
      "[I 2024-11-29 17:11:19,807] Trial 668 finished with value: 0.04930680584262383 and parameters: {'similarity': 'asymmetric', 'topK': 42, 'shrink': 194, 'feature_weighting': 'TF-IDF', 'asymmetric_alpha': 0.2794214479069711}. Best is trial 630 with value: 0.052626311881683006.\n"
     ]
    },
    {
     "name": "stdout",
     "output_type": "stream",
     "text": [
      "Similarity column 38121 (100.0%), 2705.79 column/sec. Elapsed time 14.09 sec\n",
      "EvaluatorHoldout: Processed 35595 (100.0%) in 41.11 sec. Users per second: 866\n"
     ]
    },
    {
     "name": "stderr",
     "output_type": "stream",
     "text": [
      "[I 2024-11-29 17:12:15,963] Trial 669 finished with value: 0.04290557796373045 and parameters: {'similarity': 'asymmetric', 'topK': 338, 'shrink': 230, 'feature_weighting': 'TF-IDF', 'asymmetric_alpha': 0.16089605604353707}. Best is trial 630 with value: 0.052626311881683006.\n"
     ]
    },
    {
     "name": "stdout",
     "output_type": "stream",
     "text": [
      "Similarity column 38121 (100.0%), 2779.86 column/sec. Elapsed time 13.71 sec\n",
      "EvaluatorHoldout: Processed 35595 (100.0%) in 32.00 sec. Users per second: 1112\n"
     ]
    },
    {
     "name": "stderr",
     "output_type": "stream",
     "text": [
      "[I 2024-11-29 17:13:02,201] Trial 670 finished with value: 0.05074642082332579 and parameters: {'similarity': 'asymmetric', 'topK': 26, 'shrink': 201, 'feature_weighting': 'TF-IDF', 'asymmetric_alpha': 0.20774292263450927}. Best is trial 630 with value: 0.052626311881683006.\n"
     ]
    },
    {
     "name": "stdout",
     "output_type": "stream",
     "text": [
      "Similarity column 38121 (100.0%), 2765.22 column/sec. Elapsed time 13.79 sec\n",
      "EvaluatorHoldout: Processed 35595 (100.0%) in 34.17 sec. Users per second: 1042\n"
     ]
    },
    {
     "name": "stderr",
     "output_type": "stream",
     "text": [
      "[I 2024-11-29 17:13:50,729] Trial 671 finished with value: 0.048619498012248206 and parameters: {'similarity': 'asymmetric', 'topK': 61, 'shrink': 197, 'feature_weighting': 'TF-IDF', 'asymmetric_alpha': 0.21136941767020018}. Best is trial 630 with value: 0.052626311881683006.\n"
     ]
    },
    {
     "name": "stdout",
     "output_type": "stream",
     "text": [
      "Similarity column 38121 (100.0%), 2777.79 column/sec. Elapsed time 13.72 sec\n",
      "EvaluatorHoldout: Processed 35595 (100.0%) in 34.04 sec. Users per second: 1046\n"
     ]
    },
    {
     "name": "stderr",
     "output_type": "stream",
     "text": [
      "[I 2024-11-29 17:14:39,037] Trial 672 finished with value: 0.04230157169390076 and parameters: {'similarity': 'asymmetric', 'topK': 47, 'shrink': 218, 'feature_weighting': 'BM25', 'asymmetric_alpha': 0.3128165578208588}. Best is trial 630 with value: 0.052626311881683006.\n"
     ]
    },
    {
     "name": "stdout",
     "output_type": "stream",
     "text": [
      "Similarity column 38121 (100.0%), 2757.51 column/sec. Elapsed time 13.82 sec\n",
      "EvaluatorHoldout: Processed 35595 (100.0%) in 32.14 sec. Users per second: 1108\n"
     ]
    },
    {
     "name": "stderr",
     "output_type": "stream",
     "text": [
      "[I 2024-11-29 17:15:25,520] Trial 673 finished with value: 0.05067727097393988 and parameters: {'similarity': 'asymmetric', 'topK': 26, 'shrink': 142, 'feature_weighting': 'TF-IDF', 'asymmetric_alpha': 0.1068262589885233}. Best is trial 630 with value: 0.052626311881683006.\n"
     ]
    },
    {
     "name": "stdout",
     "output_type": "stream",
     "text": [
      "Similarity column 38121 (100.0%), 2760.62 column/sec. Elapsed time 13.81 sec\n",
      "EvaluatorHoldout: Processed 35595 (100.0%) in 33.52 sec. Users per second: 1062\n"
     ]
    },
    {
     "name": "stderr",
     "output_type": "stream",
     "text": [
      "[I 2024-11-29 17:16:13,388] Trial 674 finished with value: 0.04874336729119517 and parameters: {'similarity': 'asymmetric', 'topK': 61, 'shrink': 132, 'feature_weighting': 'TF-IDF', 'asymmetric_alpha': 0.11718746448390396}. Best is trial 630 with value: 0.052626311881683006.\n"
     ]
    },
    {
     "name": "stdout",
     "output_type": "stream",
     "text": [
      "Similarity column 38121 (100.0%), 2728.79 column/sec. Elapsed time 13.97 sec\n",
      "EvaluatorHoldout: Processed 35595 (100.0%) in 37.90 sec. Users per second: 939\n"
     ]
    },
    {
     "name": "stderr",
     "output_type": "stream",
     "text": [
      "[I 2024-11-29 17:17:06,040] Trial 675 finished with value: 0.04389597477797906 and parameters: {'similarity': 'asymmetric', 'topK': 223, 'shrink': 170, 'feature_weighting': 'TF-IDF', 'asymmetric_alpha': 0.05378320618392016}. Best is trial 630 with value: 0.052626311881683006.\n"
     ]
    },
    {
     "name": "stdout",
     "output_type": "stream",
     "text": [
      "Similarity column 38121 (100.0%), 2762.02 column/sec. Elapsed time 13.80 sec\n",
      "EvaluatorHoldout: Processed 35595 (100.0%) in 33.24 sec. Users per second: 1071\n"
     ]
    },
    {
     "name": "stderr",
     "output_type": "stream",
     "text": [
      "[I 2024-11-29 17:17:53,669] Trial 676 finished with value: 0.049692916563542765 and parameters: {'similarity': 'asymmetric', 'topK': 38, 'shrink': 112, 'feature_weighting': 'TF-IDF', 'asymmetric_alpha': 0.15635261952686735}. Best is trial 630 with value: 0.052626311881683006.\n"
     ]
    },
    {
     "name": "stdout",
     "output_type": "stream",
     "text": [
      "Similarity column 38121 (100.0%), 2778.31 column/sec. Elapsed time 13.72 sec\n",
      "EvaluatorHoldout: Processed 35595 (100.0%) in 35.65 sec. Users per second: 998\n"
     ]
    },
    {
     "name": "stderr",
     "output_type": "stream",
     "text": [
      "[I 2024-11-29 17:18:43,583] Trial 677 finished with value: 0.04851328659946238 and parameters: {'similarity': 'asymmetric', 'topK': 66, 'shrink': 185, 'feature_weighting': 'TF-IDF', 'asymmetric_alpha': 0.21325483760313038}. Best is trial 630 with value: 0.052626311881683006.\n"
     ]
    },
    {
     "name": "stdout",
     "output_type": "stream",
     "text": [
      "Similarity column 38121 (100.0%), 2768.24 column/sec. Elapsed time 13.77 sec\n",
      "EvaluatorHoldout: Processed 35595 (100.0%) in 32.27 sec. Users per second: 1103\n"
     ]
    },
    {
     "name": "stderr",
     "output_type": "stream",
     "text": [
      "[I 2024-11-29 17:19:30,129] Trial 678 finished with value: 0.05040179978907181 and parameters: {'similarity': 'asymmetric', 'topK': 28, 'shrink': 162, 'feature_weighting': 'TF-IDF', 'asymmetric_alpha': 0.056406339000068854}. Best is trial 630 with value: 0.052626311881683006.\n"
     ]
    },
    {
     "name": "stdout",
     "output_type": "stream",
     "text": [
      "Similarity column 38121 (100.0%), 2783.78 column/sec. Elapsed time 13.69 sec\n",
      "EvaluatorHoldout: Processed 35595 (100.0%) in 32.99 sec. Users per second: 1079\n"
     ]
    },
    {
     "name": "stderr",
     "output_type": "stream",
     "text": [
      "[I 2024-11-29 17:20:17,336] Trial 679 finished with value: 0.04930206445081966 and parameters: {'similarity': 'asymmetric', 'topK': 47, 'shrink': 146, 'feature_weighting': 'TF-IDF', 'asymmetric_alpha': 0.08311448441892136}. Best is trial 630 with value: 0.052626311881683006.\n"
     ]
    },
    {
     "name": "stdout",
     "output_type": "stream",
     "text": [
      "Similarity column 38121 (100.0%), 2780.60 column/sec. Elapsed time 13.71 sec\n",
      "EvaluatorHoldout: Processed 35595 (100.0%) in 32.37 sec. Users per second: 1100\n"
     ]
    },
    {
     "name": "stderr",
     "output_type": "stream",
     "text": [
      "[I 2024-11-29 17:21:03,925] Trial 680 finished with value: 0.05027335857318814 and parameters: {'similarity': 'asymmetric', 'topK': 31, 'shrink': 154, 'feature_weighting': 'TF-IDF', 'asymmetric_alpha': 0.13769561758250728}. Best is trial 630 with value: 0.052626311881683006.\n"
     ]
    },
    {
     "name": "stdout",
     "output_type": "stream",
     "text": [
      "Similarity column 38121 (100.0%), 2767.36 column/sec. Elapsed time 13.78 sec\n",
      "EvaluatorHoldout: Processed 35595 (100.0%) in 33.93 sec. Users per second: 1049\n"
     ]
    },
    {
     "name": "stderr",
     "output_type": "stream",
     "text": [
      "[I 2024-11-29 17:21:52,181] Trial 681 finished with value: 0.04875147102433077 and parameters: {'similarity': 'asymmetric', 'topK': 53, 'shrink': 160, 'feature_weighting': 'TF-IDF', 'asymmetric_alpha': 0.26355497105872183}. Best is trial 630 with value: 0.052626311881683006.\n"
     ]
    },
    {
     "name": "stdout",
     "output_type": "stream",
     "text": [
      "Similarity column 38121 (100.0%), 2753.25 column/sec. Elapsed time 13.85 sec\n",
      "EvaluatorHoldout: Processed 35595 (100.0%) in 33.16 sec. Users per second: 1074\n"
     ]
    },
    {
     "name": "stderr",
     "output_type": "stream",
     "text": [
      "[I 2024-11-29 17:22:39,742] Trial 682 finished with value: 0.04979257609303768 and parameters: {'similarity': 'asymmetric', 'topK': 37, 'shrink': 130, 'feature_weighting': 'TF-IDF', 'asymmetric_alpha': 0.13070396519237662}. Best is trial 630 with value: 0.052626311881683006.\n"
     ]
    },
    {
     "name": "stdout",
     "output_type": "stream",
     "text": [
      "Similarity column 38121 (100.0%), 2670.72 column/sec. Elapsed time 14.27 sec\n",
      "EvaluatorHoldout: Processed 35595 (100.0%) in 38.07 sec. Users per second: 935\n"
     ]
    },
    {
     "name": "stderr",
     "output_type": "stream",
     "text": [
      "[I 2024-11-29 17:23:32,711] Trial 683 finished with value: 0.048305456892686324 and parameters: {'similarity': 'asymmetric', 'topK': 74, 'shrink': 148, 'feature_weighting': 'TF-IDF', 'asymmetric_alpha': 0.186462847549961}. Best is trial 630 with value: 0.052626311881683006.\n"
     ]
    },
    {
     "name": "stdout",
     "output_type": "stream",
     "text": [
      "Similarity column 38121 (100.0%), 2679.71 column/sec. Elapsed time 14.23 sec\n",
      "EvaluatorHoldout: Processed 35595 (100.0%) in 32.66 sec. Users per second: 1090\n"
     ]
    },
    {
     "name": "stderr",
     "output_type": "stream",
     "text": [
      "[I 2024-11-29 17:24:20,183] Trial 684 finished with value: 0.05006376742765132 and parameters: {'similarity': 'asymmetric', 'topK': 31, 'shrink': 172, 'feature_weighting': 'TF-IDF', 'asymmetric_alpha': 0.05297217889329621}. Best is trial 630 with value: 0.052626311881683006.\n"
     ]
    },
    {
     "name": "stdout",
     "output_type": "stream",
     "text": [
      "Similarity column 38121 (100.0%), 2755.57 column/sec. Elapsed time 13.83 sec\n",
      "EvaluatorHoldout: Processed 35595 (100.0%) in 32.86 sec. Users per second: 1083\n"
     ]
    },
    {
     "name": "stderr",
     "output_type": "stream",
     "text": [
      "[I 2024-11-29 17:25:07,384] Trial 685 finished with value: 0.04973240623682948 and parameters: {'similarity': 'asymmetric', 'topK': 27, 'shrink': 209, 'feature_weighting': 'TF-IDF', 'asymmetric_alpha': 0.377067077472253}. Best is trial 630 with value: 0.052626311881683006.\n"
     ]
    },
    {
     "name": "stdout",
     "output_type": "stream",
     "text": [
      "Similarity column 38121 (100.0%), 2755.98 column/sec. Elapsed time 13.83 sec\n",
      "EvaluatorHoldout: Processed 35595 (100.0%) in 33.04 sec. Users per second: 1077\n"
     ]
    },
    {
     "name": "stderr",
     "output_type": "stream",
     "text": [
      "[I 2024-11-29 17:25:54,815] Trial 686 finished with value: 0.048935301685405275 and parameters: {'similarity': 'asymmetric', 'topK': 52, 'shrink': 76, 'feature_weighting': 'TF-IDF', 'asymmetric_alpha': 0.1431713272233008}. Best is trial 630 with value: 0.052626311881683006.\n"
     ]
    },
    {
     "name": "stdout",
     "output_type": "stream",
     "text": [
      "Similarity column 38121 (100.0%), 2778.28 column/sec. Elapsed time 13.72 sec\n",
      "EvaluatorHoldout: Processed 35595 (100.0%) in 33.50 sec. Users per second: 1063\n"
     ]
    },
    {
     "name": "stderr",
     "output_type": "stream",
     "text": [
      "[I 2024-11-29 17:26:42,532] Trial 687 finished with value: 0.050451072136489666 and parameters: {'similarity': 'asymmetric', 'topK': 24, 'shrink': 232, 'feature_weighting': 'TF-IDF', 'asymmetric_alpha': 0.31269935895259016}. Best is trial 630 with value: 0.052626311881683006.\n"
     ]
    },
    {
     "name": "stdout",
     "output_type": "stream",
     "text": [
      "Similarity column 38121 (100.0%), 2754.31 column/sec. Elapsed time 13.84 sec\n",
      "EvaluatorHoldout: Processed 35595 (100.0%) in 34.73 sec. Users per second: 1025\n"
     ]
    },
    {
     "name": "stderr",
     "output_type": "stream",
     "text": [
      "[I 2024-11-29 17:27:31,683] Trial 688 finished with value: 0.047868196442783555 and parameters: {'similarity': 'asymmetric', 'topK': 71, 'shrink': 230, 'feature_weighting': 'TF-IDF', 'asymmetric_alpha': 0.3160516496213571}. Best is trial 630 with value: 0.052626311881683006.\n"
     ]
    },
    {
     "name": "stdout",
     "output_type": "stream",
     "text": [
      "Similarity column 38121 (100.0%), 2764.59 column/sec. Elapsed time 13.79 sec\n",
      "EvaluatorHoldout: Processed 35595 (100.0%) in 33.42 sec. Users per second: 1065\n"
     ]
    },
    {
     "name": "stderr",
     "output_type": "stream",
     "text": [
      "[I 2024-11-29 17:28:19,449] Trial 689 finished with value: 0.04921817648724349 and parameters: {'similarity': 'asymmetric', 'topK': 45, 'shrink': 236, 'feature_weighting': 'TF-IDF', 'asymmetric_alpha': 0.23640912958085847}. Best is trial 630 with value: 0.052626311881683006.\n"
     ]
    },
    {
     "name": "stdout",
     "output_type": "stream",
     "text": [
      "Similarity column 38121 (100.0%), 2822.27 column/sec. Elapsed time 13.51 sec\n",
      "EvaluatorHoldout: Processed 35595 (100.0%) in 32.14 sec. Users per second: 1108\n"
     ]
    },
    {
     "name": "stderr",
     "output_type": "stream",
     "text": [
      "[I 2024-11-29 17:29:05,634] Trial 690 finished with value: 0.05045702981290688 and parameters: {'similarity': 'asymmetric', 'topK': 27, 'shrink': 197, 'feature_weighting': 'TF-IDF', 'asymmetric_alpha': 0.27758805616278265}. Best is trial 630 with value: 0.052626311881683006.\n"
     ]
    },
    {
     "name": "stdout",
     "output_type": "stream",
     "text": [
      "Similarity column 38121 (100.0%), 2737.87 column/sec. Elapsed time 13.92 sec\n",
      "EvaluatorHoldout: Processed 35595 (100.0%) in 36.47 sec. Users per second: 976\n"
     ]
    },
    {
     "name": "stderr",
     "output_type": "stream",
     "text": [
      "[I 2024-11-29 17:29:56,465] Trial 691 finished with value: 0.03996983034446027 and parameters: {'similarity': 'asymmetric', 'topK': 60, 'shrink': 201, 'feature_weighting': 'none', 'asymmetric_alpha': 0.201801059013492}. Best is trial 630 with value: 0.052626311881683006.\n"
     ]
    },
    {
     "name": "stdout",
     "output_type": "stream",
     "text": [
      "Similarity column 38121 (100.0%), 2765.11 column/sec. Elapsed time 13.79 sec\n",
      "EvaluatorHoldout: Processed 35595 (100.0%) in 33.23 sec. Users per second: 1071\n"
     ]
    },
    {
     "name": "stderr",
     "output_type": "stream",
     "text": [
      "[I 2024-11-29 17:30:44,002] Trial 692 finished with value: 0.04939456005279679 and parameters: {'similarity': 'asymmetric', 'topK': 41, 'shrink': 177, 'feature_weighting': 'TF-IDF', 'asymmetric_alpha': 0.2722596857735606}. Best is trial 630 with value: 0.052626311881683006.\n"
     ]
    },
    {
     "name": "stdout",
     "output_type": "stream",
     "text": [
      "Similarity column 38121 (100.0%), 2748.41 column/sec. Elapsed time 13.87 sec\n",
      "EvaluatorHoldout: Processed 35595 (100.0%) in 33.88 sec. Users per second: 1051\n"
     ]
    },
    {
     "name": "stderr",
     "output_type": "stream",
     "text": [
      "[I 2024-11-29 17:31:32,307] Trial 693 finished with value: 0.048479631970780486 and parameters: {'similarity': 'asymmetric', 'topK': 51, 'shrink': 152, 'feature_weighting': 'TF-IDF', 'asymmetric_alpha': 0.35625449515377855}. Best is trial 630 with value: 0.052626311881683006.\n"
     ]
    },
    {
     "name": "stdout",
     "output_type": "stream",
     "text": [
      "Similarity column 38121 (100.0%), 2789.93 column/sec. Elapsed time 13.66 sec\n",
      "EvaluatorHoldout: Processed 35595 (100.0%) in 33.42 sec. Users per second: 1065\n"
     ]
    },
    {
     "name": "stderr",
     "output_type": "stream",
     "text": [
      "[I 2024-11-29 17:32:19,912] Trial 694 finished with value: 0.04298440234828629 and parameters: {'similarity': 'asymmetric', 'topK': 28, 'shrink': 123, 'feature_weighting': 'BM25', 'asymmetric_alpha': 0.11770487798727919}. Best is trial 630 with value: 0.052626311881683006.\n"
     ]
    },
    {
     "name": "stdout",
     "output_type": "stream",
     "text": [
      "Similarity column 38121 (100.0%), 2777.79 column/sec. Elapsed time 13.72 sec\n",
      "EvaluatorHoldout: Processed 35595 (100.0%) in 35.17 sec. Users per second: 1012\n"
     ]
    },
    {
     "name": "stderr",
     "output_type": "stream",
     "text": [
      "[I 2024-11-29 17:33:09,383] Trial 695 finished with value: 0.04808909535626575 and parameters: {'similarity': 'asymmetric', 'topK': 69, 'shrink': 201, 'feature_weighting': 'TF-IDF', 'asymmetric_alpha': 0.30161278065811054}. Best is trial 630 with value: 0.052626311881683006.\n"
     ]
    },
    {
     "name": "stdout",
     "output_type": "stream",
     "text": [
      "Similarity column 38121 (100.0%), 2786.16 column/sec. Elapsed time 13.68 sec\n",
      "EvaluatorHoldout: Processed 35595 (100.0%) in 32.94 sec. Users per second: 1081\n"
     ]
    },
    {
     "name": "stderr",
     "output_type": "stream",
     "text": [
      "[I 2024-11-29 17:33:56,541] Trial 696 finished with value: 0.04953953872601 and parameters: {'similarity': 'asymmetric', 'topK': 40, 'shrink': 242, 'feature_weighting': 'TF-IDF', 'asymmetric_alpha': 0.18866347117717083}. Best is trial 630 with value: 0.052626311881683006.\n"
     ]
    },
    {
     "name": "stdout",
     "output_type": "stream",
     "text": [
      "Similarity column 38121 (100.0%), 2789.68 column/sec. Elapsed time 13.67 sec\n",
      "EvaluatorHoldout: Processed 35595 (100.0%) in 31.85 sec. Users per second: 1117\n"
     ]
    },
    {
     "name": "stderr",
     "output_type": "stream",
     "text": [
      "[I 2024-11-29 17:34:42,557] Trial 697 finished with value: 0.05049344811670836 and parameters: {'similarity': 'asymmetric', 'topK': 27, 'shrink': 221, 'feature_weighting': 'TF-IDF', 'asymmetric_alpha': 0.04041891528211196}. Best is trial 630 with value: 0.052626311881683006.\n"
     ]
    },
    {
     "name": "stdout",
     "output_type": "stream",
     "text": [
      "Similarity column 38121 (100.0%), 2807.83 column/sec. Elapsed time 13.58 sec\n",
      "EvaluatorHoldout: Processed 35595 (100.0%) in 32.89 sec. Users per second: 1082\n"
     ]
    },
    {
     "name": "stderr",
     "output_type": "stream",
     "text": [
      "[I 2024-11-29 17:35:29,550] Trial 698 finished with value: 0.04903639377743721 and parameters: {'similarity': 'asymmetric', 'topK': 48, 'shrink': 226, 'feature_weighting': 'TF-IDF', 'asymmetric_alpha': 0.02975942140882149}. Best is trial 630 with value: 0.052626311881683006.\n"
     ]
    },
    {
     "name": "stdout",
     "output_type": "stream",
     "text": [
      "Similarity column 38121 (100.0%), 2742.69 column/sec. Elapsed time 13.90 sec\n",
      "EvaluatorHoldout: Processed 35595 (100.0%) in 34.27 sec. Users per second: 1039\n"
     ]
    },
    {
     "name": "stderr",
     "output_type": "stream",
     "text": [
      "[I 2024-11-29 17:36:18,282] Trial 699 finished with value: 0.04827893386131705 and parameters: {'similarity': 'asymmetric', 'topK': 75, 'shrink': 214, 'feature_weighting': 'TF-IDF', 'asymmetric_alpha': 0.10948565103964578}. Best is trial 630 with value: 0.052626311881683006.\n"
     ]
    },
    {
     "name": "stdout",
     "output_type": "stream",
     "text": [
      "Similarity column 38121 (100.0%), 2814.92 column/sec. Elapsed time 13.54 sec\n",
      "EvaluatorHoldout: Processed 35595 (100.0%) in 33.00 sec. Users per second: 1079\n"
     ]
    },
    {
     "name": "stderr",
     "output_type": "stream",
     "text": [
      "[I 2024-11-29 17:37:05,333] Trial 700 finished with value: 0.050523480647583045 and parameters: {'similarity': 'asymmetric', 'topK': 27, 'shrink': 181, 'feature_weighting': 'TF-IDF', 'asymmetric_alpha': 0.24261048425755619}. Best is trial 630 with value: 0.052626311881683006.\n"
     ]
    },
    {
     "name": "stdout",
     "output_type": "stream",
     "text": [
      "Similarity column 38121 (100.0%), 2746.09 column/sec. Elapsed time 13.88 sec\n",
      "EvaluatorHoldout: Processed 35595 (100.0%) in 33.24 sec. Users per second: 1071\n"
     ]
    },
    {
     "name": "stderr",
     "output_type": "stream",
     "text": [
      "[I 2024-11-29 17:37:52,989] Trial 701 finished with value: 0.04909075645990791 and parameters: {'similarity': 'asymmetric', 'topK': 50, 'shrink': 157, 'feature_weighting': 'TF-IDF', 'asymmetric_alpha': 0.1472665254414467}. Best is trial 630 with value: 0.052626311881683006.\n"
     ]
    },
    {
     "name": "stdout",
     "output_type": "stream",
     "text": [
      "Similarity column 38121 (100.0%), 2809.42 column/sec. Elapsed time 13.57 sec\n",
      "EvaluatorHoldout: Processed 35595 (100.0%) in 32.86 sec. Users per second: 1083\n"
     ]
    },
    {
     "name": "stderr",
     "output_type": "stream",
     "text": [
      "[I 2024-11-29 17:38:39,930] Trial 702 finished with value: 0.05005293569410536 and parameters: {'similarity': 'asymmetric', 'topK': 33, 'shrink': 179, 'feature_weighting': 'TF-IDF', 'asymmetric_alpha': 0.23717230052045488}. Best is trial 630 with value: 0.052626311881683006.\n"
     ]
    },
    {
     "name": "stdout",
     "output_type": "stream",
     "text": [
      "Similarity column 38121 (100.0%), 2759.77 column/sec. Elapsed time 13.81 sec\n",
      "EvaluatorHoldout: Processed 35595 (100.0%) in 34.04 sec. Users per second: 1046\n"
     ]
    },
    {
     "name": "stderr",
     "output_type": "stream",
     "text": [
      "[I 2024-11-29 17:39:28,346] Trial 703 finished with value: 0.04814246249138601 and parameters: {'similarity': 'asymmetric', 'topK': 68, 'shrink': 195, 'feature_weighting': 'TF-IDF', 'asymmetric_alpha': 0.037935920188454486}. Best is trial 630 with value: 0.052626311881683006.\n"
     ]
    },
    {
     "name": "stdout",
     "output_type": "stream",
     "text": [
      "Similarity column 38121 (100.0%), 2798.15 column/sec. Elapsed time 13.62 sec\n",
      "EvaluatorHoldout: Processed 35595 (100.0%) in 33.94 sec. Users per second: 1049\n"
     ]
    },
    {
     "name": "stderr",
     "output_type": "stream",
     "text": [
      "[I 2024-11-29 17:40:16,444] Trial 704 finished with value: 0.048638511517354995 and parameters: {'similarity': 'asymmetric', 'topK': 39, 'shrink': 224, 'feature_weighting': 'TF-IDF', 'asymmetric_alpha': 0.42214749646197564}. Best is trial 630 with value: 0.052626311881683006.\n"
     ]
    },
    {
     "name": "stdout",
     "output_type": "stream",
     "text": [
      "Similarity column 38121 (100.0%), 2743.43 column/sec. Elapsed time 13.90 sec\n",
      "EvaluatorHoldout: Processed 35595 (100.0%) in 34.37 sec. Users per second: 1036\n"
     ]
    },
    {
     "name": "stderr",
     "output_type": "stream",
     "text": [
      "[I 2024-11-29 17:41:05,264] Trial 705 finished with value: 0.04855058004847117 and parameters: {'similarity': 'asymmetric', 'topK': 58, 'shrink': 250, 'feature_weighting': 'TF-IDF', 'asymmetric_alpha': 0.25742588735172867}. Best is trial 630 with value: 0.052626311881683006.\n"
     ]
    },
    {
     "name": "stdout",
     "output_type": "stream",
     "text": [
      "Similarity column 38121 (100.0%), 2758.81 column/sec. Elapsed time 13.82 sec\n",
      "EvaluatorHoldout: Processed 35595 (100.0%) in 32.31 sec. Users per second: 1102\n"
     ]
    },
    {
     "name": "stderr",
     "output_type": "stream",
     "text": [
      "[I 2024-11-29 17:41:51,924] Trial 706 finished with value: 0.05053528340211674 and parameters: {'similarity': 'asymmetric', 'topK': 28, 'shrink': 140, 'feature_weighting': 'TF-IDF', 'asymmetric_alpha': 0.18576632499063378}. Best is trial 630 with value: 0.052626311881683006.\n"
     ]
    },
    {
     "name": "stdout",
     "output_type": "stream",
     "text": [
      "Similarity column 38121 (100.0%), 2775.91 column/sec. Elapsed time 13.73 sec\n",
      "EvaluatorHoldout: Processed 35595 (100.0%) in 34.42 sec. Users per second: 1034\n"
     ]
    },
    {
     "name": "stderr",
     "output_type": "stream",
     "text": [
      "[I 2024-11-29 17:42:40,641] Trial 707 finished with value: 0.048840976639752884 and parameters: {'similarity': 'asymmetric', 'topK': 57, 'shrink': 107, 'feature_weighting': 'TF-IDF', 'asymmetric_alpha': 0.09226553568264083}. Best is trial 630 with value: 0.052626311881683006.\n"
     ]
    },
    {
     "name": "stdout",
     "output_type": "stream",
     "text": [
      "Similarity column 38121 (100.0%), 2799.52 column/sec. Elapsed time 13.62 sec\n",
      "EvaluatorHoldout: Processed 35595 (100.0%) in 32.60 sec. Users per second: 1092\n"
     ]
    },
    {
     "name": "stderr",
     "output_type": "stream",
     "text": [
      "[I 2024-11-29 17:43:27,403] Trial 708 finished with value: 0.04965451608371814 and parameters: {'similarity': 'asymmetric', 'topK': 40, 'shrink': 144, 'feature_weighting': 'TF-IDF', 'asymmetric_alpha': 0.16946380830478205}. Best is trial 630 with value: 0.052626311881683006.\n"
     ]
    },
    {
     "name": "stdout",
     "output_type": "stream",
     "text": [
      "Similarity column 38121 (100.0%), 2673.72 column/sec. Elapsed time 14.26 sec\n",
      "EvaluatorHoldout: Processed 35595 (100.0%) in 43.58 sec. Users per second: 817\n"
     ]
    },
    {
     "name": "stderr",
     "output_type": "stream",
     "text": [
      "[I 2024-11-29 17:44:26,255] Trial 709 finished with value: 0.04386794003081227 and parameters: {'similarity': 'asymmetric', 'topK': 381, 'shrink': 169, 'feature_weighting': 'TF-IDF', 'asymmetric_alpha': 0.29075922684677746}. Best is trial 630 with value: 0.052626311881683006.\n"
     ]
    },
    {
     "name": "stdout",
     "output_type": "stream",
     "text": [
      "Similarity column 38121 (100.0%), 2749.14 column/sec. Elapsed time 13.87 sec\n",
      "EvaluatorHoldout: Processed 35595 (100.0%) in 33.85 sec. Users per second: 1051\n"
     ]
    },
    {
     "name": "stderr",
     "output_type": "stream",
     "text": [
      "[I 2024-11-29 17:45:14,483] Trial 710 finished with value: 0.05000953741050483 and parameters: {'similarity': 'asymmetric', 'topK': 27, 'shrink': 134, 'feature_weighting': 'TF-IDF', 'asymmetric_alpha': 0.3344446059968865}. Best is trial 630 with value: 0.052626311881683006.\n"
     ]
    },
    {
     "name": "stdout",
     "output_type": "stream",
     "text": [
      "Similarity column 38121 (100.0%), 2758.64 column/sec. Elapsed time 13.82 sec\n",
      "EvaluatorHoldout: Processed 35595 (100.0%) in 33.31 sec. Users per second: 1069\n"
     ]
    },
    {
     "name": "stderr",
     "output_type": "stream",
     "text": [
      "[I 2024-11-29 17:46:02,153] Trial 711 finished with value: 0.04936362004650911 and parameters: {'similarity': 'asymmetric', 'topK': 44, 'shrink': 198, 'feature_weighting': 'TF-IDF', 'asymmetric_alpha': 0.228150210922993}. Best is trial 630 with value: 0.052626311881683006.\n"
     ]
    },
    {
     "name": "stdout",
     "output_type": "stream",
     "text": [
      "Similarity column 38121 (100.0%), 2754.94 column/sec. Elapsed time 13.84 sec\n",
      "EvaluatorHoldout: Processed 35595 (100.0%) in 34.93 sec. Users per second: 1019\n"
     ]
    },
    {
     "name": "stderr",
     "output_type": "stream",
     "text": [
      "[I 2024-11-29 17:46:51,498] Trial 712 finished with value: 0.04796297299647297 and parameters: {'similarity': 'asymmetric', 'topK': 76, 'shrink': 176, 'feature_weighting': 'TF-IDF', 'asymmetric_alpha': 0.04226395351320558}. Best is trial 630 with value: 0.052626311881683006.\n"
     ]
    },
    {
     "name": "stdout",
     "output_type": "stream",
     "text": [
      "Similarity column 38121 (100.0%), 2817.51 column/sec. Elapsed time 13.53 sec\n",
      "EvaluatorHoldout: Processed 35595 (100.0%) in 32.25 sec. Users per second: 1104\n"
     ]
    },
    {
     "name": "stderr",
     "output_type": "stream",
     "text": [
      "[I 2024-11-29 17:47:37,786] Trial 713 finished with value: 0.050312121374277076 and parameters: {'similarity': 'asymmetric', 'topK': 31, 'shrink': 155, 'feature_weighting': 'TF-IDF', 'asymmetric_alpha': 0.19629234739073614}. Best is trial 630 with value: 0.052626311881683006.\n"
     ]
    },
    {
     "name": "stdout",
     "output_type": "stream",
     "text": [
      "Similarity column 38121 (100.0%), 2781.90 column/sec. Elapsed time 13.70 sec\n",
      "EvaluatorHoldout: Processed 35595 (100.0%) in 34.59 sec. Users per second: 1029\n"
     ]
    },
    {
     "name": "stderr",
     "output_type": "stream",
     "text": [
      "[I 2024-11-29 17:48:26,635] Trial 714 finished with value: 0.04875038963471155 and parameters: {'similarity': 'asymmetric', 'topK': 58, 'shrink': 157, 'feature_weighting': 'TF-IDF', 'asymmetric_alpha': 0.20992479383059912}. Best is trial 630 with value: 0.052626311881683006.\n"
     ]
    },
    {
     "name": "stdout",
     "output_type": "stream",
     "text": [
      "Similarity column 38121 (100.0%), 2717.87 column/sec. Elapsed time 14.03 sec\n",
      "EvaluatorHoldout: Processed 35595 (100.0%) in 40.03 sec. Users per second: 889\n"
     ]
    },
    {
     "name": "stderr",
     "output_type": "stream",
     "text": [
      "[I 2024-11-29 17:49:21,811] Trial 715 finished with value: 0.043696731527745745 and parameters: {'similarity': 'asymmetric', 'topK': 305, 'shrink': 85, 'feature_weighting': 'TF-IDF', 'asymmetric_alpha': 0.15347951187854644}. Best is trial 630 with value: 0.052626311881683006.\n"
     ]
    },
    {
     "name": "stdout",
     "output_type": "stream",
     "text": [
      "Similarity column 38121 (100.0%), 2766.39 column/sec. Elapsed time 13.78 sec\n",
      "EvaluatorHoldout: Processed 35595 (100.0%) in 35.59 sec. Users per second: 1000\n"
     ]
    },
    {
     "name": "stderr",
     "output_type": "stream",
     "text": [
      "[I 2024-11-29 17:50:11,616] Trial 716 finished with value: 0.041868994664399535 and parameters: {'similarity': 'asymmetric', 'topK': 53, 'shrink': 119, 'feature_weighting': 'none', 'asymmetric_alpha': 0.08702671580349174}. Best is trial 630 with value: 0.052626311881683006.\n"
     ]
    },
    {
     "name": "stdout",
     "output_type": "stream",
     "text": [
      "Similarity column 38121 (100.0%), 2757.17 column/sec. Elapsed time 13.83 sec\n",
      "EvaluatorHoldout: Processed 35595 (100.0%) in 32.65 sec. Users per second: 1090\n"
     ]
    },
    {
     "name": "stderr",
     "output_type": "stream",
     "text": [
      "[I 2024-11-29 17:50:58,641] Trial 717 finished with value: 0.04999856855229645 and parameters: {'similarity': 'asymmetric', 'topK': 35, 'shrink': 183, 'feature_weighting': 'TF-IDF', 'asymmetric_alpha': 0.19163812406001177}. Best is trial 630 with value: 0.052626311881683006.\n"
     ]
    },
    {
     "name": "stdout",
     "output_type": "stream",
     "text": [
      "Similarity column 38121 (100.0%), 2763.31 column/sec. Elapsed time 13.80 sec\n",
      "EvaluatorHoldout: Processed 35595 (100.0%) in 35.03 sec. Users per second: 1016\n"
     ]
    },
    {
     "name": "stderr",
     "output_type": "stream",
     "text": [
      "[I 2024-11-29 17:51:48,032] Trial 718 finished with value: 0.04199068109708506 and parameters: {'similarity': 'asymmetric', 'topK': 69, 'shrink': 136, 'feature_weighting': 'BM25', 'asymmetric_alpha': 0.25510213862728554}. Best is trial 630 with value: 0.052626311881683006.\n"
     ]
    },
    {
     "name": "stdout",
     "output_type": "stream",
     "text": [
      "Similarity column 38121 (100.0%), 2780.25 column/sec. Elapsed time 13.71 sec\n",
      "EvaluatorHoldout: Processed 35595 (100.0%) in 32.59 sec. Users per second: 1092\n"
     ]
    },
    {
     "name": "stderr",
     "output_type": "stream",
     "text": [
      "[I 2024-11-29 17:52:34,868] Trial 719 finished with value: 0.049273162362288424 and parameters: {'similarity': 'asymmetric', 'topK': 41, 'shrink': 213, 'feature_weighting': 'TF-IDF', 'asymmetric_alpha': 0.007335010910420901}. Best is trial 630 with value: 0.052626311881683006.\n"
     ]
    },
    {
     "name": "stdout",
     "output_type": "stream",
     "text": [
      "Similarity column 38121 (100.0%), 2755.72 column/sec. Elapsed time 13.83 sec\n",
      "EvaluatorHoldout: Processed 35595 (100.0%) in 32.11 sec. Users per second: 1109\n"
     ]
    },
    {
     "name": "stderr",
     "output_type": "stream",
     "text": [
      "[I 2024-11-29 17:53:21,332] Trial 720 finished with value: 0.050481992075753504 and parameters: {'similarity': 'asymmetric', 'topK': 29, 'shrink': 160, 'feature_weighting': 'TF-IDF', 'asymmetric_alpha': 0.12554116598930534}. Best is trial 630 with value: 0.052626311881683006.\n"
     ]
    },
    {
     "name": "stdout",
     "output_type": "stream",
     "text": [
      "Similarity column 38121 (100.0%), 2759.61 column/sec. Elapsed time 13.81 sec\n",
      "EvaluatorHoldout: Processed 35595 (100.0%) in 33.83 sec. Users per second: 1052\n"
     ]
    },
    {
     "name": "stderr",
     "output_type": "stream",
     "text": [
      "[I 2024-11-29 17:54:09,526] Trial 721 finished with value: 0.04898709021464862 and parameters: {'similarity': 'asymmetric', 'topK': 54, 'shrink': 157, 'feature_weighting': 'TF-IDF', 'asymmetric_alpha': 0.11870389979865041}. Best is trial 630 with value: 0.052626311881683006.\n"
     ]
    },
    {
     "name": "stdout",
     "output_type": "stream",
     "text": [
      "Similarity column 38121 (100.0%), 2804.56 column/sec. Elapsed time 13.59 sec\n",
      "EvaluatorHoldout: Processed 35595 (100.0%) in 32.03 sec. Users per second: 1111\n"
     ]
    },
    {
     "name": "stderr",
     "output_type": "stream",
     "text": [
      "[I 2024-11-29 17:54:55,670] Trial 722 finished with value: 0.05033109920467511 and parameters: {'similarity': 'asymmetric', 'topK': 30, 'shrink': 167, 'feature_weighting': 'TF-IDF', 'asymmetric_alpha': 0.16169438061844324}. Best is trial 630 with value: 0.052626311881683006.\n"
     ]
    },
    {
     "name": "stdout",
     "output_type": "stream",
     "text": [
      "Similarity column 38121 (100.0%), 2778.13 column/sec. Elapsed time 13.72 sec\n",
      "EvaluatorHoldout: Processed 35595 (100.0%) in 34.27 sec. Users per second: 1039\n"
     ]
    },
    {
     "name": "stderr",
     "output_type": "stream",
     "text": [
      "[I 2024-11-29 17:55:44,250] Trial 723 finished with value: 0.0483887294675308 and parameters: {'similarity': 'asymmetric', 'topK': 70, 'shrink': 163, 'feature_weighting': 'TF-IDF', 'asymmetric_alpha': 0.17332617903608996}. Best is trial 630 with value: 0.052626311881683006.\n"
     ]
    },
    {
     "name": "stdout",
     "output_type": "stream",
     "text": [
      "Similarity column 38121 (100.0%), 2772.78 column/sec. Elapsed time 13.75 sec\n",
      "EvaluatorHoldout: Processed 35595 (100.0%) in 33.04 sec. Users per second: 1077\n"
     ]
    },
    {
     "name": "stderr",
     "output_type": "stream",
     "text": [
      "[I 2024-11-29 17:56:31,600] Trial 724 finished with value: 0.04894501969912661 and parameters: {'similarity': 'asymmetric', 'topK': 56, 'shrink': 111, 'feature_weighting': 'TF-IDF', 'asymmetric_alpha': 0.09519286906257982}. Best is trial 630 with value: 0.052626311881683006.\n"
     ]
    },
    {
     "name": "stdout",
     "output_type": "stream",
     "text": [
      "Similarity column 38121 (100.0%), 2780.13 column/sec. Elapsed time 13.71 sec\n",
      "EvaluatorHoldout: Processed 35595 (100.0%) in 32.62 sec. Users per second: 1091\n"
     ]
    },
    {
     "name": "stderr",
     "output_type": "stream",
     "text": [
      "[I 2024-11-29 17:57:18,446] Trial 725 finished with value: 0.04962143782455451 and parameters: {'similarity': 'asymmetric', 'topK': 41, 'shrink': 140, 'feature_weighting': 'TF-IDF', 'asymmetric_alpha': 0.13686573390427095}. Best is trial 630 with value: 0.052626311881683006.\n"
     ]
    },
    {
     "name": "stdout",
     "output_type": "stream",
     "text": [
      "Similarity column 38121 (100.0%), 2745.97 column/sec. Elapsed time 13.88 sec\n",
      "EvaluatorHoldout: Processed 35595 (100.0%) in 32.72 sec. Users per second: 1088\n"
     ]
    },
    {
     "name": "stderr",
     "output_type": "stream",
     "text": [
      "[I 2024-11-29 17:58:05,588] Trial 726 finished with value: 0.05030388274614801 and parameters: {'similarity': 'asymmetric', 'topK': 30, 'shrink': 189, 'feature_weighting': 'TF-IDF', 'asymmetric_alpha': 0.23029236258335273}. Best is trial 630 with value: 0.052626311881683006.\n"
     ]
    },
    {
     "name": "stdout",
     "output_type": "stream",
     "text": [
      "Similarity column 38121 (100.0%), 2641.32 column/sec. Elapsed time 14.43 sec\n",
      "EvaluatorHoldout: Processed 35595 (100.0%) in 46.90 sec. Users per second: 759\n"
     ]
    },
    {
     "name": "stderr",
     "output_type": "stream",
     "text": [
      "[I 2024-11-29 17:59:08,276] Trial 727 finished with value: 0.04278980572891068 and parameters: {'similarity': 'asymmetric', 'topK': 542, 'shrink': 190, 'feature_weighting': 'TF-IDF', 'asymmetric_alpha': 0.28367750945500636}. Best is trial 630 with value: 0.052626311881683006.\n"
     ]
    },
    {
     "name": "stdout",
     "output_type": "stream",
     "text": [
      "Similarity column 38121 (100.0%), 2790.03 column/sec. Elapsed time 13.66 sec\n",
      "EvaluatorHoldout: Processed 35595 (100.0%) in 34.42 sec. Users per second: 1034\n"
     ]
    },
    {
     "name": "stderr",
     "output_type": "stream",
     "text": [
      "[I 2024-11-29 17:59:56,952] Trial 728 finished with value: 0.048247994969864164 and parameters: {'similarity': 'asymmetric', 'topK': 72, 'shrink': 173, 'feature_weighting': 'TF-IDF', 'asymmetric_alpha': 0.22662907845048963}. Best is trial 630 with value: 0.052626311881683006.\n"
     ]
    },
    {
     "name": "stdout",
     "output_type": "stream",
     "text": [
      "Similarity column 38121 (100.0%), 2705.46 column/sec. Elapsed time 14.09 sec\n",
      "EvaluatorHoldout: Processed 35595 (100.0%) in 34.14 sec. Users per second: 1043\n"
     ]
    },
    {
     "name": "stderr",
     "output_type": "stream",
     "text": [
      "[I 2024-11-29 18:00:45,728] Trial 729 finished with value: 0.04931036662452433 and parameters: {'similarity': 'asymmetric', 'topK': 44, 'shrink': 198, 'feature_weighting': 'TF-IDF', 'asymmetric_alpha': 0.20394059555712457}. Best is trial 630 with value: 0.052626311881683006.\n"
     ]
    },
    {
     "name": "stdout",
     "output_type": "stream",
     "text": [
      "Similarity column 38121 (100.0%), 2751.78 column/sec. Elapsed time 13.85 sec\n",
      "EvaluatorHoldout: Processed 35595 (100.0%) in 33.37 sec. Users per second: 1067\n"
     ]
    },
    {
     "name": "stderr",
     "output_type": "stream",
     "text": [
      "[I 2024-11-29 18:01:33,516] Trial 730 finished with value: 0.048743714004774175 and parameters: {'similarity': 'asymmetric', 'topK': 57, 'shrink': 149, 'feature_weighting': 'TF-IDF', 'asymmetric_alpha': 0.06186736326402838}. Best is trial 630 with value: 0.052626311881683006.\n"
     ]
    },
    {
     "name": "stdout",
     "output_type": "stream",
     "text": [
      "Similarity column 38121 (100.0%), 2772.64 column/sec. Elapsed time 13.75 sec\n",
      "EvaluatorHoldout: Processed 35595 (100.0%) in 32.33 sec. Users per second: 1101\n"
     ]
    },
    {
     "name": "stderr",
     "output_type": "stream",
     "text": [
      "[I 2024-11-29 18:02:20,102] Trial 731 finished with value: 0.05012226280220206 and parameters: {'similarity': 'asymmetric', 'topK': 33, 'shrink': 207, 'feature_weighting': 'TF-IDF', 'asymmetric_alpha': 0.1609466022698858}. Best is trial 630 with value: 0.052626311881683006.\n"
     ]
    },
    {
     "name": "stdout",
     "output_type": "stream",
     "text": [
      "Similarity column 38121 (100.0%), 2791.14 column/sec. Elapsed time 13.66 sec\n",
      "EvaluatorHoldout: Processed 35595 (100.0%) in 33.87 sec. Users per second: 1051\n"
     ]
    },
    {
     "name": "stderr",
     "output_type": "stream",
     "text": [
      "[I 2024-11-29 18:03:08,197] Trial 732 finished with value: 0.04859237965917093 and parameters: {'similarity': 'asymmetric', 'topK': 58, 'shrink': 178, 'feature_weighting': 'TF-IDF', 'asymmetric_alpha': 0.2584595512279591}. Best is trial 630 with value: 0.052626311881683006.\n"
     ]
    },
    {
     "name": "stdout",
     "output_type": "stream",
     "text": [
      "Similarity column 38121 (100.0%), 2769.93 column/sec. Elapsed time 13.76 sec\n",
      "EvaluatorHoldout: Processed 35595 (100.0%) in 33.44 sec. Users per second: 1064\n"
     ]
    },
    {
     "name": "stderr",
     "output_type": "stream",
     "text": [
      "[I 2024-11-29 18:03:55,964] Trial 733 finished with value: 0.04882491410198775 and parameters: {'similarity': 'asymmetric', 'topK': 47, 'shrink': 225, 'feature_weighting': 'TF-IDF', 'asymmetric_alpha': 0.32036915979650177}. Best is trial 630 with value: 0.052626311881683006.\n"
     ]
    },
    {
     "name": "stdout",
     "output_type": "stream",
     "text": [
      "Similarity column 38121 (100.0%), 2807.58 column/sec. Elapsed time 13.58 sec\n",
      "EvaluatorHoldout: Processed 35595 (100.0%) in 32.10 sec. Users per second: 1109\n"
     ]
    },
    {
     "name": "stderr",
     "output_type": "stream",
     "text": [
      "[I 2024-11-29 18:04:42,170] Trial 734 finished with value: 0.05037390216656764 and parameters: {'similarity': 'asymmetric', 'topK': 29, 'shrink': 163, 'feature_weighting': 'TF-IDF', 'asymmetric_alpha': 0.20587554474092817}. Best is trial 630 with value: 0.052626311881683006.\n"
     ]
    },
    {
     "name": "stdout",
     "output_type": "stream",
     "text": [
      "Similarity column 38121 (100.0%), 2758.94 column/sec. Elapsed time 13.82 sec\n",
      "EvaluatorHoldout: Processed 35595 (100.0%) in 34.41 sec. Users per second: 1034\n"
     ]
    },
    {
     "name": "stderr",
     "output_type": "stream",
     "text": [
      "[I 2024-11-29 18:05:30,995] Trial 735 finished with value: 0.04821405048417079 and parameters: {'similarity': 'asymmetric', 'topK': 78, 'shrink': 163, 'feature_weighting': 'TF-IDF', 'asymmetric_alpha': 0.20478375164652823}. Best is trial 630 with value: 0.052626311881683006.\n"
     ]
    },
    {
     "name": "stdout",
     "output_type": "stream",
     "text": [
      "Similarity column 38121 (100.0%), 2747.28 column/sec. Elapsed time 13.88 sec\n",
      "EvaluatorHoldout: Processed 35595 (100.0%) in 34.35 sec. Users per second: 1036\n"
     ]
    },
    {
     "name": "stderr",
     "output_type": "stream",
     "text": [
      "[I 2024-11-29 18:06:19,815] Trial 736 finished with value: 0.04854059112992764 and parameters: {'similarity': 'asymmetric', 'topK': 65, 'shrink': 128, 'feature_weighting': 'TF-IDF', 'asymmetric_alpha': 0.12442670051050894}. Best is trial 630 with value: 0.052626311881683006.\n"
     ]
    },
    {
     "name": "stdout",
     "output_type": "stream",
     "text": [
      "Similarity column 38121 (100.0%), 2725.78 column/sec. Elapsed time 13.99 sec\n",
      "EvaluatorHoldout: Processed 35595 (100.0%) in 33.18 sec. Users per second: 1073\n"
     ]
    },
    {
     "name": "stderr",
     "output_type": "stream",
     "text": [
      "[I 2024-11-29 18:07:07,592] Trial 737 finished with value: 0.04946756834493704 and parameters: {'similarity': 'asymmetric', 'topK': 42, 'shrink': 192, 'feature_weighting': 'TF-IDF', 'asymmetric_alpha': 0.24034611840964037}. Best is trial 630 with value: 0.052626311881683006.\n"
     ]
    },
    {
     "name": "stdout",
     "output_type": "stream",
     "text": [
      "Similarity column 38121 (100.0%), 2778.17 column/sec. Elapsed time 13.72 sec\n",
      "EvaluatorHoldout: Processed 35595 (100.0%) in 32.14 sec. Users per second: 1107\n"
     ]
    },
    {
     "name": "stderr",
     "output_type": "stream",
     "text": [
      "[I 2024-11-29 18:07:53,988] Trial 738 finished with value: 0.05033209809652946 and parameters: {'similarity': 'asymmetric', 'topK': 30, 'shrink': 145, 'feature_weighting': 'TF-IDF', 'asymmetric_alpha': 0.1719791152087626}. Best is trial 630 with value: 0.052626311881683006.\n"
     ]
    },
    {
     "name": "stdout",
     "output_type": "stream",
     "text": [
      "Similarity column 38121 (100.0%), 2648.21 column/sec. Elapsed time 14.40 sec\n",
      "EvaluatorHoldout: Processed 35595 (100.0%) in 45.60 sec. Users per second: 781\n"
     ]
    },
    {
     "name": "stderr",
     "output_type": "stream",
     "text": [
      "[I 2024-11-29 18:08:55,214] Trial 739 finished with value: 0.04311356151768967 and parameters: {'similarity': 'asymmetric', 'topK': 502, 'shrink': 114, 'feature_weighting': 'TF-IDF', 'asymmetric_alpha': 0.2782226514945159}. Best is trial 630 with value: 0.052626311881683006.\n"
     ]
    },
    {
     "name": "stdout",
     "output_type": "stream",
     "text": [
      "Similarity column 38121 (100.0%), 2736.59 column/sec. Elapsed time 13.93 sec\n",
      "EvaluatorHoldout: Processed 35595 (100.0%) in 36.64 sec. Users per second: 971\n"
     ]
    },
    {
     "name": "stderr",
     "output_type": "stream",
     "text": [
      "[I 2024-11-29 18:09:46,244] Trial 740 finished with value: 0.04104574389572121 and parameters: {'similarity': 'asymmetric', 'topK': 49, 'shrink': 178, 'feature_weighting': 'none', 'asymmetric_alpha': 0.17800732296350247}. Best is trial 630 with value: 0.052626311881683006.\n"
     ]
    },
    {
     "name": "stdout",
     "output_type": "stream",
     "text": [
      "Similarity column 38121 (100.0%), 2790.70 column/sec. Elapsed time 13.66 sec\n",
      "EvaluatorHoldout: Processed 35595 (100.0%) in 32.17 sec. Users per second: 1106\n"
     ]
    },
    {
     "name": "stderr",
     "output_type": "stream",
     "text": [
      "[I 2024-11-29 18:10:32,604] Trial 741 finished with value: 0.050255572501040825 and parameters: {'similarity': 'asymmetric', 'topK': 28, 'shrink': 135, 'feature_weighting': 'TF-IDF', 'asymmetric_alpha': 0.04969738831178794}. Best is trial 630 with value: 0.052626311881683006.\n"
     ]
    },
    {
     "name": "stdout",
     "output_type": "stream",
     "text": [
      "Similarity column 38121 (100.0%), 2696.79 column/sec. Elapsed time 14.14 sec\n",
      "EvaluatorHoldout: Processed 35595 (100.0%) in 34.15 sec. Users per second: 1042\n"
     ]
    },
    {
     "name": "stderr",
     "output_type": "stream",
     "text": [
      "[I 2024-11-29 18:11:21,426] Trial 742 finished with value: 0.042754507833941566 and parameters: {'similarity': 'asymmetric', 'topK': 35, 'shrink': 208, 'feature_weighting': 'BM25', 'asymmetric_alpha': 0.08562809405594761}. Best is trial 630 with value: 0.052626311881683006.\n"
     ]
    },
    {
     "name": "stdout",
     "output_type": "stream",
     "text": [
      "Similarity column 38121 (100.0%), 2804.70 column/sec. Elapsed time 13.59 sec\n",
      "EvaluatorHoldout: Processed 35595 (100.0%) in 33.17 sec. Users per second: 1073\n"
     ]
    },
    {
     "name": "stderr",
     "output_type": "stream",
     "text": [
      "[I 2024-11-29 18:12:08,723] Trial 743 finished with value: 0.048862861958941024 and parameters: {'similarity': 'asymmetric', 'topK': 51, 'shrink': 60, 'feature_weighting': 'TF-IDF', 'asymmetric_alpha': 0.2123682375957396}. Best is trial 630 with value: 0.052626311881683006.\n"
     ]
    },
    {
     "name": "stdout",
     "output_type": "stream",
     "text": [
      "Similarity column 38121 (100.0%), 2780.72 column/sec. Elapsed time 13.71 sec\n",
      "EvaluatorHoldout: Processed 35595 (100.0%) in 32.22 sec. Users per second: 1105\n"
     ]
    },
    {
     "name": "stderr",
     "output_type": "stream",
     "text": [
      "[I 2024-11-29 18:12:55,195] Trial 744 finished with value: 0.05017601344044504 and parameters: {'similarity': 'asymmetric', 'topK': 28, 'shrink': 167, 'feature_weighting': 'TF-IDF', 'asymmetric_alpha': 0.2953945216448226}. Best is trial 630 with value: 0.052626311881683006.\n"
     ]
    },
    {
     "name": "stdout",
     "output_type": "stream",
     "text": [
      "Similarity column 38121 (100.0%), 2775.81 column/sec. Elapsed time 13.73 sec\n",
      "EvaluatorHoldout: Processed 35595 (100.0%) in 34.27 sec. Users per second: 1039\n"
     ]
    },
    {
     "name": "stderr",
     "output_type": "stream",
     "text": [
      "[I 2024-11-29 18:13:43,776] Trial 745 finished with value: 0.04823507738067171 and parameters: {'similarity': 'asymmetric', 'topK': 60, 'shrink': 193, 'feature_weighting': 'TF-IDF', 'asymmetric_alpha': 0.3413678455243918}. Best is trial 630 with value: 0.052626311881683006.\n"
     ]
    },
    {
     "name": "stdout",
     "output_type": "stream",
     "text": [
      "Similarity column 38121 (100.0%), 2799.23 column/sec. Elapsed time 13.62 sec\n",
      "EvaluatorHoldout: Processed 35595 (100.0%) in 32.07 sec. Users per second: 1110\n"
     ]
    },
    {
     "name": "stderr",
     "output_type": "stream",
     "text": [
      "[I 2024-11-29 18:14:29,964] Trial 746 finished with value: 0.050528034747164864 and parameters: {'similarity': 'asymmetric', 'topK': 28, 'shrink': 225, 'feature_weighting': 'TF-IDF', 'asymmetric_alpha': 0.16197431359509265}. Best is trial 630 with value: 0.052626311881683006.\n"
     ]
    },
    {
     "name": "stdout",
     "output_type": "stream",
     "text": [
      "Similarity column 38121 (100.0%), 2778.68 column/sec. Elapsed time 13.72 sec\n",
      "EvaluatorHoldout: Processed 35595 (100.0%) in 34.60 sec. Users per second: 1029\n"
     ]
    },
    {
     "name": "stderr",
     "output_type": "stream",
     "text": [
      "[I 2024-11-29 18:15:18,867] Trial 747 finished with value: 0.04824195256601335 and parameters: {'similarity': 'asymmetric', 'topK': 75, 'shrink': 220, 'feature_weighting': 'TF-IDF', 'asymmetric_alpha': 0.15932108533426462}. Best is trial 630 with value: 0.052626311881683006.\n"
     ]
    },
    {
     "name": "stdout",
     "output_type": "stream",
     "text": [
      "Similarity column 38121 (100.0%), 2783.23 column/sec. Elapsed time 13.70 sec\n",
      "EvaluatorHoldout: Processed 35595 (100.0%) in 33.36 sec. Users per second: 1067\n"
     ]
    },
    {
     "name": "stderr",
     "output_type": "stream",
     "text": [
      "[I 2024-11-29 18:16:06,472] Trial 748 finished with value: 0.049099874692582826 and parameters: {'similarity': 'asymmetric', 'topK': 46, 'shrink': 145, 'feature_weighting': 'TF-IDF', 'asymmetric_alpha': 0.24281299519086497}. Best is trial 630 with value: 0.052626311881683006.\n"
     ]
    },
    {
     "name": "stdout",
     "output_type": "stream",
     "text": [
      "Similarity column 38121 (100.0%), 2788.99 column/sec. Elapsed time 13.67 sec\n",
      "EvaluatorHoldout: Processed 35595 (100.0%) in 32.88 sec. Users per second: 1083\n"
     ]
    },
    {
     "name": "stderr",
     "output_type": "stream",
     "text": [
      "[I 2024-11-29 18:16:53,557] Trial 749 finished with value: 0.0499284889308049 and parameters: {'similarity': 'asymmetric', 'topK': 37, 'shrink': 236, 'feature_weighting': 'TF-IDF', 'asymmetric_alpha': 0.11969095141425162}. Best is trial 630 with value: 0.052626311881683006.\n"
     ]
    },
    {
     "name": "stdout",
     "output_type": "stream",
     "text": [
      "Similarity column 38121 (100.0%), 2783.80 column/sec. Elapsed time 13.69 sec\n",
      "EvaluatorHoldout: Processed 35595 (100.0%) in 33.88 sec. Users per second: 1051\n"
     ]
    },
    {
     "name": "stderr",
     "output_type": "stream",
     "text": [
      "[I 2024-11-29 18:17:41,698] Trial 750 finished with value: 0.04883171347857208 and parameters: {'similarity': 'asymmetric', 'topK': 57, 'shrink': 185, 'feature_weighting': 'TF-IDF', 'asymmetric_alpha': 0.18323486047529886}. Best is trial 630 with value: 0.052626311881683006.\n"
     ]
    },
    {
     "name": "stdout",
     "output_type": "stream",
     "text": [
      "Similarity column 38121 (100.0%), 2802.46 column/sec. Elapsed time 13.60 sec\n",
      "EvaluatorHoldout: Processed 35595 (100.0%) in 32.06 sec. Users per second: 1110\n"
     ]
    },
    {
     "name": "stderr",
     "output_type": "stream",
     "text": [
      "[I 2024-11-29 18:18:27,887] Trial 751 finished with value: 0.04999275580438512 and parameters: {'similarity': 'asymmetric', 'topK': 29, 'shrink': 96, 'feature_weighting': 'TF-IDF', 'asymmetric_alpha': 0.03338497515938522}. Best is trial 630 with value: 0.052626311881683006.\n"
     ]
    },
    {
     "name": "stdout",
     "output_type": "stream",
     "text": [
      "Similarity column 38121 (100.0%), 2793.95 column/sec. Elapsed time 13.64 sec\n",
      "EvaluatorHoldout: Processed 35595 (100.0%) in 43.34 sec. Users per second: 821\n"
     ]
    },
    {
     "name": "stderr",
     "output_type": "stream",
     "text": [
      "[I 2024-11-29 18:19:25,408] Trial 752 finished with value: 0.01402994668860692 and parameters: {'similarity': 'asymmetric', 'topK': 46, 'shrink': 209, 'feature_weighting': 'TF-IDF', 'asymmetric_alpha': 1.6508204395759425}. Best is trial 630 with value: 0.052626311881683006.\n"
     ]
    },
    {
     "name": "stdout",
     "output_type": "stream",
     "text": [
      "Similarity column 38121 (100.0%), 2706.93 column/sec. Elapsed time 14.08 sec\n",
      "EvaluatorHoldout: Processed 35595 (100.0%) in 34.53 sec. Users per second: 1031\n"
     ]
    },
    {
     "name": "stderr",
     "output_type": "stream",
     "text": [
      "[I 2024-11-29 18:20:14,606] Trial 753 finished with value: 0.048532729315913285 and parameters: {'similarity': 'asymmetric', 'topK': 65, 'shrink': 163, 'feature_weighting': 'TF-IDF', 'asymmetric_alpha': 0.22663206111842849}. Best is trial 630 with value: 0.052626311881683006.\n"
     ]
    },
    {
     "name": "stdout",
     "output_type": "stream",
     "text": [
      "Similarity column 38121 (100.0%), 2786.16 column/sec. Elapsed time 13.68 sec\n",
      "EvaluatorHoldout: Processed 35595 (100.0%) in 32.06 sec. Users per second: 1110\n"
     ]
    },
    {
     "name": "stderr",
     "output_type": "stream",
     "text": [
      "[I 2024-11-29 18:21:00,848] Trial 754 finished with value: 0.05059691815106729 and parameters: {'similarity': 'asymmetric', 'topK': 27, 'shrink': 180, 'feature_weighting': 'TF-IDF', 'asymmetric_alpha': 0.0939848506868876}. Best is trial 630 with value: 0.052626311881683006.\n"
     ]
    },
    {
     "name": "stdout",
     "output_type": "stream",
     "text": [
      "Similarity column 38121 (100.0%), 2767.09 column/sec. Elapsed time 13.78 sec\n",
      "EvaluatorHoldout: Processed 35595 (100.0%) in 32.16 sec. Users per second: 1107\n"
     ]
    },
    {
     "name": "stderr",
     "output_type": "stream",
     "text": [
      "[I 2024-11-29 18:21:47,302] Trial 755 finished with value: 0.05036702475155742 and parameters: {'similarity': 'asymmetric', 'topK': 29, 'shrink': 138, 'feature_weighting': 'TF-IDF', 'asymmetric_alpha': 0.10260079422201178}. Best is trial 630 with value: 0.052626311881683006.\n"
     ]
    },
    {
     "name": "stdout",
     "output_type": "stream",
     "text": [
      "Similarity column 38121 (100.0%), 2793.53 column/sec. Elapsed time 13.65 sec\n",
      "EvaluatorHoldout: Processed 35595 (100.0%) in 33.03 sec. Users per second: 1078\n"
     ]
    },
    {
     "name": "stderr",
     "output_type": "stream",
     "text": [
      "[I 2024-11-29 18:22:34,505] Trial 756 finished with value: 0.049366850837350526 and parameters: {'similarity': 'asymmetric', 'topK': 43, 'shrink': 121, 'feature_weighting': 'TF-IDF', 'asymmetric_alpha': 0.06736865614287044}. Best is trial 630 with value: 0.052626311881683006.\n"
     ]
    },
    {
     "name": "stdout",
     "output_type": "stream",
     "text": [
      "Similarity column 38121 (100.0%), 2711.32 column/sec. Elapsed time 14.06 sec\n",
      "EvaluatorHoldout: Processed 35595 (100.0%) in 32.01 sec. Users per second: 1112\n"
     ]
    },
    {
     "name": "stderr",
     "output_type": "stream",
     "text": [
      "[I 2024-11-29 18:23:21,093] Trial 757 finished with value: 0.05067575479880408 and parameters: {'similarity': 'asymmetric', 'topK': 27, 'shrink': 234, 'feature_weighting': 'TF-IDF', 'asymmetric_alpha': 0.1005680980414426}. Best is trial 630 with value: 0.052626311881683006.\n"
     ]
    },
    {
     "name": "stdout",
     "output_type": "stream",
     "text": [
      "Similarity column 38121 (100.0%), 2798.54 column/sec. Elapsed time 13.62 sec\n",
      "EvaluatorHoldout: Processed 35595 (100.0%) in 31.81 sec. Users per second: 1119\n"
     ]
    },
    {
     "name": "stderr",
     "output_type": "stream",
     "text": [
      "[I 2024-11-29 18:24:07,095] Trial 758 finished with value: 0.05088757561365922 and parameters: {'similarity': 'asymmetric', 'topK': 25, 'shrink': 237, 'feature_weighting': 'TF-IDF', 'asymmetric_alpha': 0.09100323020402293}. Best is trial 630 with value: 0.052626311881683006.\n"
     ]
    },
    {
     "name": "stdout",
     "output_type": "stream",
     "text": [
      "Similarity column 38121 (100.0%), 2775.52 column/sec. Elapsed time 13.73 sec\n",
      "EvaluatorHoldout: Processed 35595 (100.0%) in 31.82 sec. Users per second: 1119\n"
     ]
    },
    {
     "name": "stderr",
     "output_type": "stream",
     "text": [
      "[I 2024-11-29 18:24:53,193] Trial 759 finished with value: 0.050511639988671454 and parameters: {'similarity': 'asymmetric', 'topK': 26, 'shrink': 240, 'feature_weighting': 'TF-IDF', 'asymmetric_alpha': 0.013627329217418976}. Best is trial 630 with value: 0.052626311881683006.\n"
     ]
    },
    {
     "name": "stdout",
     "output_type": "stream",
     "text": [
      "Similarity column 38121 (100.0%), 2582.37 column/sec. Elapsed time 14.76 sec\n",
      "EvaluatorHoldout: Processed 35595 (100.0%) in 46.62 sec. Users per second: 764\n"
     ]
    },
    {
     "name": "stderr",
     "output_type": "stream",
     "text": [
      "[I 2024-11-29 18:25:56,123] Trial 760 finished with value: 0.03784772138943917 and parameters: {'similarity': 'asymmetric', 'topK': 615, 'shrink': 253, 'feature_weighting': 'TF-IDF', 'asymmetric_alpha': 0.005554738322219227}. Best is trial 630 with value: 0.052626311881683006.\n"
     ]
    },
    {
     "name": "stdout",
     "output_type": "stream",
     "text": [
      "Similarity column 38121 (100.0%), 2788.07 column/sec. Elapsed time 13.67 sec\n",
      "EvaluatorHoldout: Processed 35595 (100.0%) in 33.01 sec. Users per second: 1078\n"
     ]
    },
    {
     "name": "stderr",
     "output_type": "stream",
     "text": [
      "[I 2024-11-29 18:26:43,387] Trial 761 finished with value: 0.049307909528936315 and parameters: {'similarity': 'asymmetric', 'topK': 46, 'shrink': 242, 'feature_weighting': 'TF-IDF', 'asymmetric_alpha': 0.09040132727817887}. Best is trial 630 with value: 0.052626311881683006.\n"
     ]
    },
    {
     "name": "stdout",
     "output_type": "stream",
     "text": [
      "Similarity column 38121 (100.0%), 2756.02 column/sec. Elapsed time 13.83 sec\n",
      "EvaluatorHoldout: Processed 35595 (100.0%) in 33.82 sec. Users per second: 1052\n"
     ]
    },
    {
     "name": "stderr",
     "output_type": "stream",
     "text": [
      "[I 2024-11-29 18:27:31,459] Trial 762 finished with value: 0.041829744680564766 and parameters: {'similarity': 'asymmetric', 'topK': 23, 'shrink': 232, 'feature_weighting': 'none', 'asymmetric_alpha': 0.04800223862103027}. Best is trial 630 with value: 0.052626311881683006.\n"
     ]
    },
    {
     "name": "stdout",
     "output_type": "stream",
     "text": [
      "Similarity column 38121 (100.0%), 2795.02 column/sec. Elapsed time 13.64 sec\n",
      "EvaluatorHoldout: Processed 35595 (100.0%) in 31.78 sec. Users per second: 1120\n"
     ]
    },
    {
     "name": "stderr",
     "output_type": "stream",
     "text": [
      "[I 2024-11-29 18:28:17,436] Trial 763 finished with value: 0.05116914271444215 and parameters: {'similarity': 'asymmetric', 'topK': 23, 'shrink': 224, 'feature_weighting': 'TF-IDF', 'asymmetric_alpha': 0.09868259134839633}. Best is trial 630 with value: 0.052626311881683006.\n"
     ]
    },
    {
     "name": "stdout",
     "output_type": "stream",
     "text": [
      "Similarity column 38121 (100.0%), 2798.82 column/sec. Elapsed time 13.62 sec\n",
      "EvaluatorHoldout: Processed 35595 (100.0%) in 31.54 sec. Users per second: 1129\n"
     ]
    },
    {
     "name": "stderr",
     "output_type": "stream",
     "text": [
      "[I 2024-11-29 18:29:03,107] Trial 764 finished with value: 0.0511316530545336 and parameters: {'similarity': 'asymmetric', 'topK': 23, 'shrink': 245, 'feature_weighting': 'TF-IDF', 'asymmetric_alpha': 0.10122184550483014}. Best is trial 630 with value: 0.052626311881683006.\n"
     ]
    },
    {
     "name": "stdout",
     "output_type": "stream",
     "text": [
      "Similarity column 38121 (100.0%), 2727.56 column/sec. Elapsed time 13.98 sec\n",
      "EvaluatorHoldout: Processed 35595 (100.0%) in 34.44 sec. Users per second: 1033\n"
     ]
    },
    {
     "name": "stderr",
     "output_type": "stream",
     "text": [
      "[I 2024-11-29 18:29:52,095] Trial 765 finished with value: 0.04207480763527811 and parameters: {'similarity': 'asymmetric', 'topK': 55, 'shrink': 250, 'feature_weighting': 'BM25', 'asymmetric_alpha': 0.11756905300616527}. Best is trial 630 with value: 0.052626311881683006.\n"
     ]
    },
    {
     "name": "stdout",
     "output_type": "stream",
     "text": [
      "Similarity column 38121 (100.0%), 2779.99 column/sec. Elapsed time 13.71 sec\n",
      "EvaluatorHoldout: Processed 35595 (100.0%) in 31.62 sec. Users per second: 1126\n"
     ]
    },
    {
     "name": "stderr",
     "output_type": "stream",
     "text": [
      "[I 2024-11-29 18:30:37,952] Trial 766 finished with value: 0.05098036887649011 and parameters: {'similarity': 'asymmetric', 'topK': 23, 'shrink': 227, 'feature_weighting': 'TF-IDF', 'asymmetric_alpha': 0.05276302095251712}. Best is trial 630 with value: 0.052626311881683006.\n"
     ]
    },
    {
     "name": "stdout",
     "output_type": "stream",
     "text": [
      "Similarity column 38121 (100.0%), 2707.90 column/sec. Elapsed time 14.08 sec\n",
      "EvaluatorHoldout: Processed 35595 (100.0%) in 38.73 sec. Users per second: 919\n"
     ]
    },
    {
     "name": "stderr",
     "output_type": "stream",
     "text": [
      "[I 2024-11-29 18:31:31,565] Trial 767 finished with value: 0.04363133867116011 and parameters: {'similarity': 'asymmetric', 'topK': 229, 'shrink': 234, 'feature_weighting': 'TF-IDF', 'asymmetric_alpha': 0.06784222716070379}. Best is trial 630 with value: 0.052626311881683006.\n"
     ]
    },
    {
     "name": "stdout",
     "output_type": "stream",
     "text": [
      "Similarity column 38121 (100.0%), 2735.58 column/sec. Elapsed time 13.94 sec\n",
      "EvaluatorHoldout: Processed 35595 (100.0%) in 32.34 sec. Users per second: 1101\n"
     ]
    },
    {
     "name": "stderr",
     "output_type": "stream",
     "text": [
      "[I 2024-11-29 18:32:18,365] Trial 768 finished with value: 0.051032160750237504 and parameters: {'similarity': 'asymmetric', 'topK': 22, 'shrink': 226, 'feature_weighting': 'TF-IDF', 'asymmetric_alpha': 0.03455876853348051}. Best is trial 630 with value: 0.052626311881683006.\n"
     ]
    },
    {
     "name": "stdout",
     "output_type": "stream",
     "text": [
      "Similarity column 38121 (100.0%), 2725.92 column/sec. Elapsed time 13.98 sec\n",
      "EvaluatorHoldout: Processed 35595 (100.0%) in 32.33 sec. Users per second: 1101\n"
     ]
    },
    {
     "name": "stderr",
     "output_type": "stream",
     "text": [
      "[I 2024-11-29 18:33:05,239] Trial 769 finished with value: 0.051236910168851235 and parameters: {'similarity': 'asymmetric', 'topK': 21, 'shrink': 254, 'feature_weighting': 'TF-IDF', 'asymmetric_alpha': 0.044041588313984456}. Best is trial 630 with value: 0.052626311881683006.\n"
     ]
    },
    {
     "name": "stdout",
     "output_type": "stream",
     "text": [
      "Similarity column 38121 (100.0%), 2768.27 column/sec. Elapsed time 13.77 sec\n",
      "EvaluatorHoldout: Processed 35595 (100.0%) in 31.29 sec. Users per second: 1138\n"
     ]
    },
    {
     "name": "stderr",
     "output_type": "stream",
     "text": [
      "[I 2024-11-29 18:33:50,873] Trial 770 finished with value: 0.05110989148199264 and parameters: {'similarity': 'asymmetric', 'topK': 21, 'shrink': 247, 'feature_weighting': 'TF-IDF', 'asymmetric_alpha': 0.00497139833542265}. Best is trial 630 with value: 0.052626311881683006.\n"
     ]
    },
    {
     "name": "stdout",
     "output_type": "stream",
     "text": [
      "Similarity column 38121 (100.0%), 2792.46 column/sec. Elapsed time 13.65 sec\n",
      "EvaluatorHoldout: Processed 35595 (100.0%) in 31.19 sec. Users per second: 1141\n"
     ]
    },
    {
     "name": "stderr",
     "output_type": "stream",
     "text": [
      "[I 2024-11-29 18:34:36,217] Trial 771 finished with value: 0.050973673179529166 and parameters: {'similarity': 'asymmetric', 'topK': 22, 'shrink': 253, 'feature_weighting': 'TF-IDF', 'asymmetric_alpha': 0.011742211356413332}. Best is trial 630 with value: 0.052626311881683006.\n"
     ]
    },
    {
     "name": "stdout",
     "output_type": "stream",
     "text": [
      "Similarity column 38121 (100.0%), 2808.71 column/sec. Elapsed time 13.57 sec\n",
      "EvaluatorHoldout: Processed 35595 (100.0%) in 30.92 sec. Users per second: 1151\n"
     ]
    },
    {
     "name": "stderr",
     "output_type": "stream",
     "text": [
      "[I 2024-11-29 18:35:21,228] Trial 772 finished with value: 0.0513741496598623 and parameters: {'similarity': 'asymmetric', 'topK': 19, 'shrink': 255, 'feature_weighting': 'TF-IDF', 'asymmetric_alpha': 0.015306737173545314}. Best is trial 630 with value: 0.052626311881683006.\n"
     ]
    },
    {
     "name": "stdout",
     "output_type": "stream",
     "text": [
      "Similarity column 38121 (100.0%), 2786.21 column/sec. Elapsed time 13.68 sec\n",
      "EvaluatorHoldout: Processed 35595 (100.0%) in 31.38 sec. Users per second: 1134\n"
     ]
    },
    {
     "name": "stderr",
     "output_type": "stream",
     "text": [
      "[I 2024-11-29 18:36:06,801] Trial 773 finished with value: 0.05118378718252129 and parameters: {'similarity': 'asymmetric', 'topK': 20, 'shrink': 250, 'feature_weighting': 'TF-IDF', 'asymmetric_alpha': 0.011389984405105386}. Best is trial 630 with value: 0.052626311881683006.\n"
     ]
    },
    {
     "name": "stdout",
     "output_type": "stream",
     "text": [
      "Similarity column 38121 (100.0%), 2802.05 column/sec. Elapsed time 13.60 sec\n",
      "EvaluatorHoldout: Processed 35595 (100.0%) in 31.10 sec. Users per second: 1144\n"
     ]
    },
    {
     "name": "stderr",
     "output_type": "stream",
     "text": [
      "[I 2024-11-29 18:36:52,006] Trial 774 finished with value: 0.05128140433492136 and parameters: {'similarity': 'asymmetric', 'topK': 19, 'shrink': 251, 'feature_weighting': 'TF-IDF', 'asymmetric_alpha': 0.005270705789642214}. Best is trial 630 with value: 0.052626311881683006.\n"
     ]
    },
    {
     "name": "stdout",
     "output_type": "stream",
     "text": [
      "Similarity column 38121 (100.0%), 2789.66 column/sec. Elapsed time 13.67 sec\n",
      "EvaluatorHoldout: Processed 35595 (100.0%) in 31.38 sec. Users per second: 1134\n"
     ]
    },
    {
     "name": "stderr",
     "output_type": "stream",
     "text": [
      "[I 2024-11-29 18:37:37,540] Trial 775 finished with value: 0.05139488112517869 and parameters: {'similarity': 'asymmetric', 'topK': 19, 'shrink': 256, 'feature_weighting': 'TF-IDF', 'asymmetric_alpha': 0.02272805337484103}. Best is trial 630 with value: 0.052626311881683006.\n"
     ]
    },
    {
     "name": "stdout",
     "output_type": "stream",
     "text": [
      "Similarity column 38121 (100.0%), 2786.64 column/sec. Elapsed time 13.68 sec\n",
      "EvaluatorHoldout: Processed 35595 (100.0%) in 30.97 sec. Users per second: 1149\n"
     ]
    },
    {
     "name": "stderr",
     "output_type": "stream",
     "text": [
      "[I 2024-11-29 18:38:22,707] Trial 776 finished with value: 0.05133242362824997 and parameters: {'similarity': 'asymmetric', 'topK': 19, 'shrink': 258, 'feature_weighting': 'TF-IDF', 'asymmetric_alpha': 0.004992291652935937}. Best is trial 630 with value: 0.052626311881683006.\n"
     ]
    },
    {
     "name": "stdout",
     "output_type": "stream",
     "text": [
      "Similarity column 38121 (100.0%), 2630.06 column/sec. Elapsed time 14.49 sec\n",
      "EvaluatorHoldout: Processed 35595 (100.0%) in 48.34 sec. Users per second: 736\n"
     ]
    },
    {
     "name": "stderr",
     "output_type": "stream",
     "text": [
      "[I 2024-11-29 18:39:27,133] Trial 777 finished with value: 0.036949336338926345 and parameters: {'similarity': 'asymmetric', 'topK': 712, 'shrink': 260, 'feature_weighting': 'TF-IDF', 'asymmetric_alpha': 0.0025332236130857014}. Best is trial 630 with value: 0.052626311881683006.\n"
     ]
    },
    {
     "name": "stdout",
     "output_type": "stream",
     "text": [
      "Similarity column 38121 (100.0%), 2656.41 column/sec. Elapsed time 14.35 sec\n",
      "EvaluatorHoldout: Processed 35595 (100.0%) in 42.41 sec. Users per second: 839\n"
     ]
    },
    {
     "name": "stderr",
     "output_type": "stream",
     "text": [
      "[I 2024-11-29 18:40:24,996] Trial 778 finished with value: 0.03998725743984765 and parameters: {'similarity': 'asymmetric', 'topK': 419, 'shrink': 259, 'feature_weighting': 'TF-IDF', 'asymmetric_alpha': 0.0023189294345021473}. Best is trial 630 with value: 0.052626311881683006.\n"
     ]
    },
    {
     "name": "stdout",
     "output_type": "stream",
     "text": [
      "Similarity column 38121 (100.0%), 2807.87 column/sec. Elapsed time 13.58 sec\n",
      "EvaluatorHoldout: Processed 35595 (100.0%) in 30.79 sec. Users per second: 1156\n"
     ]
    },
    {
     "name": "stderr",
     "output_type": "stream",
     "text": [
      "[I 2024-11-29 18:41:09,847] Trial 779 finished with value: 0.05157995148239397 and parameters: {'similarity': 'asymmetric', 'topK': 18, 'shrink': 262, 'feature_weighting': 'TF-IDF', 'asymmetric_alpha': 0.04454797274198512}. Best is trial 630 with value: 0.052626311881683006.\n"
     ]
    },
    {
     "name": "stdout",
     "output_type": "stream",
     "text": [
      "Similarity column 38121 (100.0%), 2762.88 column/sec. Elapsed time 13.80 sec\n",
      "EvaluatorHoldout: Processed 35595 (100.0%) in 31.78 sec. Users per second: 1120\n"
     ]
    },
    {
     "name": "stderr",
     "output_type": "stream",
     "text": [
      "[I 2024-11-29 18:41:55,925] Trial 780 finished with value: 0.051697421610399405 and parameters: {'similarity': 'asymmetric', 'topK': 17, 'shrink': 260, 'feature_weighting': 'TF-IDF', 'asymmetric_alpha': 0.04004600707499617}. Best is trial 630 with value: 0.052626311881683006.\n"
     ]
    },
    {
     "name": "stdout",
     "output_type": "stream",
     "text": [
      "Similarity column 38121 (100.0%), 2776.72 column/sec. Elapsed time 13.73 sec\n",
      "EvaluatorHoldout: Processed 35595 (100.0%) in 31.21 sec. Users per second: 1141\n"
     ]
    },
    {
     "name": "stderr",
     "output_type": "stream",
     "text": [
      "[I 2024-11-29 18:42:41,364] Trial 781 finished with value: 0.05182694310106681 and parameters: {'similarity': 'asymmetric', 'topK': 16, 'shrink': 254, 'feature_weighting': 'TF-IDF', 'asymmetric_alpha': 0.047639576109900446}. Best is trial 630 with value: 0.052626311881683006.\n"
     ]
    },
    {
     "name": "stdout",
     "output_type": "stream",
     "text": [
      "Similarity column 38121 (100.0%), 2731.85 column/sec. Elapsed time 13.95 sec\n",
      "EvaluatorHoldout: Processed 35595 (100.0%) in 31.12 sec. Users per second: 1144\n"
     ]
    },
    {
     "name": "stderr",
     "output_type": "stream",
     "text": [
      "[I 2024-11-29 18:43:26,920] Trial 782 finished with value: 0.05174920122096507 and parameters: {'similarity': 'asymmetric', 'topK': 16, 'shrink': 266, 'feature_weighting': 'TF-IDF', 'asymmetric_alpha': 0.02577211516510772}. Best is trial 630 with value: 0.052626311881683006.\n"
     ]
    },
    {
     "name": "stdout",
     "output_type": "stream",
     "text": [
      "Similarity column 38121 (100.0%), 2781.32 column/sec. Elapsed time 13.71 sec\n",
      "EvaluatorHoldout: Processed 35595 (100.0%) in 31.33 sec. Users per second: 1136\n"
     ]
    },
    {
     "name": "stderr",
     "output_type": "stream",
     "text": [
      "[I 2024-11-29 18:44:12,459] Trial 783 finished with value: 0.05175721465249298 and parameters: {'similarity': 'asymmetric', 'topK': 16, 'shrink': 253, 'feature_weighting': 'TF-IDF', 'asymmetric_alpha': 0.03750381451218793}. Best is trial 630 with value: 0.052626311881683006.\n"
     ]
    },
    {
     "name": "stdout",
     "output_type": "stream",
     "text": [
      "Similarity column 38121 (100.0%), 2752.37 column/sec. Elapsed time 13.85 sec\n",
      "EvaluatorHoldout: Processed 35595 (100.0%) in 30.98 sec. Users per second: 1149\n"
     ]
    },
    {
     "name": "stderr",
     "output_type": "stream",
     "text": [
      "[I 2024-11-29 18:44:57,821] Trial 784 finished with value: 0.051679706887670054 and parameters: {'similarity': 'asymmetric', 'topK': 17, 'shrink': 262, 'feature_weighting': 'TF-IDF', 'asymmetric_alpha': 0.03675287015703947}. Best is trial 630 with value: 0.052626311881683006.\n"
     ]
    },
    {
     "name": "stdout",
     "output_type": "stream",
     "text": [
      "Similarity column 38121 (100.0%), 2704.32 column/sec. Elapsed time 14.10 sec\n",
      "EvaluatorHoldout: Processed 35595 (100.0%) in 32.99 sec. Users per second: 1079\n"
     ]
    },
    {
     "name": "stderr",
     "output_type": "stream",
     "text": [
      "[I 2024-11-29 18:45:45,307] Trial 785 finished with value: 0.04200877151909436 and parameters: {'similarity': 'asymmetric', 'topK': 15, 'shrink': 263, 'feature_weighting': 'none', 'asymmetric_alpha': 0.03266315832597945}. Best is trial 630 with value: 0.052626311881683006.\n"
     ]
    },
    {
     "name": "stdout",
     "output_type": "stream",
     "text": [
      "Similarity column 38121 (100.0%), 2786.15 column/sec. Elapsed time 13.68 sec\n",
      "EvaluatorHoldout: Processed 35595 (100.0%) in 30.97 sec. Users per second: 1149\n"
     ]
    },
    {
     "name": "stderr",
     "output_type": "stream",
     "text": [
      "[I 2024-11-29 18:46:30,455] Trial 786 finished with value: 0.051847131641904194 and parameters: {'similarity': 'asymmetric', 'topK': 15, 'shrink': 258, 'feature_weighting': 'TF-IDF', 'asymmetric_alpha': 0.001526382071995066}. Best is trial 630 with value: 0.052626311881683006.\n"
     ]
    },
    {
     "name": "stdout",
     "output_type": "stream",
     "text": [
      "Similarity column 38121 (100.0%), 2734.95 column/sec. Elapsed time 13.94 sec\n",
      "EvaluatorHoldout: Processed 35595 (100.0%) in 30.71 sec. Users per second: 1159\n"
     ]
    },
    {
     "name": "stderr",
     "output_type": "stream",
     "text": [
      "[I 2024-11-29 18:47:15,584] Trial 787 finished with value: 0.05232414152156927 and parameters: {'similarity': 'asymmetric', 'topK': 12, 'shrink': 264, 'feature_weighting': 'TF-IDF', 'asymmetric_alpha': 0.0012493441092589356}. Best is trial 630 with value: 0.052626311881683006.\n"
     ]
    },
    {
     "name": "stdout",
     "output_type": "stream",
     "text": [
      "Similarity column 38121 (100.0%), 2820.80 column/sec. Elapsed time 13.51 sec\n",
      "EvaluatorHoldout: Processed 35595 (100.0%) in 31.27 sec. Users per second: 1138\n"
     ]
    },
    {
     "name": "stderr",
     "output_type": "stream",
     "text": [
      "[I 2024-11-29 18:48:00,852] Trial 788 finished with value: 0.04413143566177556 and parameters: {'similarity': 'asymmetric', 'topK': 13, 'shrink': 262, 'feature_weighting': 'BM25', 'asymmetric_alpha': 0.038168174486187895}. Best is trial 630 with value: 0.052626311881683006.\n"
     ]
    },
    {
     "name": "stdout",
     "output_type": "stream",
     "text": [
      "Similarity column 38121 (100.0%), 2782.97 column/sec. Elapsed time 13.70 sec\n",
      "EvaluatorHoldout: Processed 35595 (100.0%) in 30.56 sec. Users per second: 1165\n"
     ]
    },
    {
     "name": "stderr",
     "output_type": "stream",
     "text": [
      "[I 2024-11-29 18:48:45,600] Trial 789 finished with value: 0.052011984472580854 and parameters: {'similarity': 'asymmetric', 'topK': 14, 'shrink': 259, 'feature_weighting': 'TF-IDF', 'asymmetric_alpha': 0.00396093430429378}. Best is trial 630 with value: 0.052626311881683006.\n"
     ]
    },
    {
     "name": "stdout",
     "output_type": "stream",
     "text": [
      "Similarity column 38121 (100.0%), 2802.11 column/sec. Elapsed time 13.60 sec\n",
      "EvaluatorHoldout: Processed 35595 (100.0%) in 30.17 sec. Users per second: 1180\n"
     ]
    },
    {
     "name": "stderr",
     "output_type": "stream",
     "text": [
      "[I 2024-11-29 18:49:29,853] Trial 790 finished with value: 0.052282497987721846 and parameters: {'similarity': 'asymmetric', 'topK': 12, 'shrink': 259, 'feature_weighting': 'TF-IDF', 'asymmetric_alpha': 0.0002808743127065}. Best is trial 630 with value: 0.052626311881683006.\n"
     ]
    },
    {
     "name": "stdout",
     "output_type": "stream",
     "text": [
      "Similarity column 38121 (100.0%), 2808.26 column/sec. Elapsed time 13.57 sec\n",
      "EvaluatorHoldout: Processed 35595 (100.0%) in 30.05 sec. Users per second: 1185\n"
     ]
    },
    {
     "name": "stderr",
     "output_type": "stream",
     "text": [
      "[I 2024-11-29 18:50:13,967] Trial 791 finished with value: 0.05229262737543238 and parameters: {'similarity': 'asymmetric', 'topK': 12, 'shrink': 259, 'feature_weighting': 'TF-IDF', 'asymmetric_alpha': 0.001105704501711758}. Best is trial 630 with value: 0.052626311881683006.\n"
     ]
    },
    {
     "name": "stdout",
     "output_type": "stream",
     "text": [
      "Similarity column 38121 (100.0%), 3528.48 column/sec. Elapsed time 10.80 sec\n",
      "EvaluatorHoldout: Processed 35595 (100.0%) in 24.91 sec. Users per second: 1429\n"
     ]
    },
    {
     "name": "stderr",
     "output_type": "stream",
     "text": [
      "[I 2024-11-29 18:50:50,148] Trial 792 finished with value: 0.00028209999175022335 and parameters: {'similarity': 'asymmetric', 'topK': 0, 'shrink': 262, 'feature_weighting': 'TF-IDF', 'asymmetric_alpha': 0.014263207539558004}. Best is trial 630 with value: 0.052626311881683006.\n"
     ]
    },
    {
     "name": "stdout",
     "output_type": "stream",
     "text": [
      "Similarity column 38121 (100.0%), 3614.95 column/sec. Elapsed time 10.55 sec\n",
      "EvaluatorHoldout: Processed 35595 (100.0%) in 25.11 sec. Users per second: 1417\n"
     ]
    },
    {
     "name": "stderr",
     "output_type": "stream",
     "text": [
      "[I 2024-11-29 18:51:26,276] Trial 793 finished with value: 0.00028209999175022335 and parameters: {'similarity': 'asymmetric', 'topK': 0, 'shrink': 270, 'feature_weighting': 'TF-IDF', 'asymmetric_alpha': 0.041634929503622124}. Best is trial 630 with value: 0.052626311881683006.\n"
     ]
    },
    {
     "name": "stdout",
     "output_type": "stream",
     "text": [
      "Similarity column 38121 (100.0%), 2794.29 column/sec. Elapsed time 13.64 sec\n",
      "EvaluatorHoldout: Processed 35595 (100.0%) in 31.04 sec. Users per second: 1147\n"
     ]
    },
    {
     "name": "stderr",
     "output_type": "stream",
     "text": [
      "[I 2024-11-29 18:52:11,437] Trial 794 finished with value: 0.05202095108774209 and parameters: {'similarity': 'asymmetric', 'topK': 14, 'shrink': 260, 'feature_weighting': 'TF-IDF', 'asymmetric_alpha': 0.0027419043923775574}. Best is trial 630 with value: 0.052626311881683006.\n"
     ]
    },
    {
     "name": "stdout",
     "output_type": "stream",
     "text": [
      "Similarity column 38121 (100.0%), 2776.12 column/sec. Elapsed time 13.73 sec\n",
      "EvaluatorHoldout: Processed 35595 (100.0%) in 30.63 sec. Users per second: 1162\n"
     ]
    },
    {
     "name": "stderr",
     "output_type": "stream",
     "text": [
      "[I 2024-11-29 18:52:56,299] Trial 795 finished with value: 0.05220703482966248 and parameters: {'similarity': 'asymmetric', 'topK': 14, 'shrink': 260, 'feature_weighting': 'TF-IDF', 'asymmetric_alpha': 0.0443495679424946}. Best is trial 630 with value: 0.052626311881683006.\n"
     ]
    },
    {
     "name": "stdout",
     "output_type": "stream",
     "text": [
      "Similarity column 38121 (100.0%), 2696.79 column/sec. Elapsed time 14.14 sec\n",
      "EvaluatorHoldout: Processed 35595 (100.0%) in 32.11 sec. Users per second: 1108\n"
     ]
    },
    {
     "name": "stderr",
     "output_type": "stream",
     "text": [
      "[I 2024-11-29 18:53:43,038] Trial 796 finished with value: 0.0523269230340431 and parameters: {'similarity': 'asymmetric', 'topK': 12, 'shrink': 268, 'feature_weighting': 'TF-IDF', 'asymmetric_alpha': 0.0018320714315946235}. Best is trial 630 with value: 0.052626311881683006.\n"
     ]
    },
    {
     "name": "stdout",
     "output_type": "stream",
     "text": [
      "Similarity column 38121 (100.0%), 2779.06 column/sec. Elapsed time 13.72 sec\n",
      "EvaluatorHoldout: Processed 35595 (100.0%) in 30.90 sec. Users per second: 1152\n"
     ]
    },
    {
     "name": "stderr",
     "output_type": "stream",
     "text": [
      "[I 2024-11-29 18:54:28,212] Trial 797 finished with value: 0.05282907577976931 and parameters: {'similarity': 'asymmetric', 'topK': 10, 'shrink': 267, 'feature_weighting': 'TF-IDF', 'asymmetric_alpha': 0.01724601422160838}. Best is trial 797 with value: 0.05282907577976931.\n"
     ]
    },
    {
     "name": "stdout",
     "output_type": "stream",
     "text": [
      "Similarity column 38121 (100.0%), 3261.41 column/sec. Elapsed time 11.69 sec\n",
      "EvaluatorHoldout: Processed 35595 (100.0%) in 27.21 sec. Users per second: 1308\n"
     ]
    },
    {
     "name": "stderr",
     "output_type": "stream",
     "text": [
      "[I 2024-11-29 18:55:07,578] Trial 798 finished with value: 0.04475008194034522 and parameters: {'similarity': 'asymmetric', 'topK': 1, 'shrink': 266, 'feature_weighting': 'TF-IDF', 'asymmetric_alpha': 0.004449692074534129}. Best is trial 797 with value: 0.05282907577976931.\n"
     ]
    },
    {
     "name": "stdout",
     "output_type": "stream",
     "text": [
      "Similarity column 38121 (100.0%), 3595.18 column/sec. Elapsed time 10.60 sec\n",
      "EvaluatorHoldout: Processed 35595 (100.0%) in 24.92 sec. Users per second: 1429\n"
     ]
    },
    {
     "name": "stderr",
     "output_type": "stream",
     "text": [
      "[I 2024-11-29 18:55:43,564] Trial 799 finished with value: 0.00028209999175022335 and parameters: {'similarity': 'asymmetric', 'topK': 0, 'shrink': 263, 'feature_weighting': 'TF-IDF', 'asymmetric_alpha': 0.05519979256985032}. Best is trial 797 with value: 0.05282907577976931.\n"
     ]
    }
   ],
   "source": [
    "if config['tune_parameters']:\n",
    "    \n",
    "    optuna_study = optuna.create_study(direction='maximize', study_name=f'hyperparameters_tuning_{config[\"model\"]}',\n",
    "                                storage=f'sqlite:///{config[\"database_path\"]}', load_if_exists=True)\n",
    "\n",
    "    optuna_study.optimize(objective_function_ItemKNNCF, n_trials=200)"
   ]
  },
  {
   "cell_type": "markdown",
   "id": "ff7cd2f3",
   "metadata": {
    "papermill": {
     "duration": 0.045756,
     "end_time": "2024-11-29T18:55:43.661778",
     "exception": false,
     "start_time": "2024-11-29T18:55:43.616022",
     "status": "completed"
    },
    "tags": []
   },
   "source": [
    "## Some optuna visualizations on recommender parameters"
   ]
  },
  {
   "cell_type": "code",
   "execution_count": 14,
   "id": "48c25b82",
   "metadata": {
    "execution": {
     "iopub.execute_input": "2024-11-29T18:55:43.753701Z",
     "iopub.status.busy": "2024-11-29T18:55:43.753175Z",
     "iopub.status.idle": "2024-11-29T18:55:46.519013Z",
     "shell.execute_reply": "2024-11-29T18:55:46.517825Z"
    },
    "papermill": {
     "duration": 2.816093,
     "end_time": "2024-11-29T18:55:46.522527",
     "exception": false,
     "start_time": "2024-11-29T18:55:43.706434",
     "status": "completed"
    },
    "tags": []
   },
   "outputs": [
    {
     "data": {
      "text/html": [
       "        <script type=\"text/javascript\">\n",
       "        window.PlotlyConfig = {MathJaxConfig: 'local'};\n",
       "        if (window.MathJax && window.MathJax.Hub && window.MathJax.Hub.Config) {window.MathJax.Hub.Config({SVG: {font: \"STIX-Web\"}});}\n",
       "        if (typeof require !== 'undefined') {\n",
       "        require.undef(\"plotly\");\n",
       "        requirejs.config({\n",
       "            paths: {\n",
       "                'plotly': ['https://cdn.plot.ly/plotly-2.32.0.min']\n",
       "            }\n",
       "        });\n",
       "        require(['plotly'], function(Plotly) {\n",
       "            window._Plotly = Plotly;\n",
       "        });\n",
       "        }\n",
       "        </script>\n",
       "        "
      ]
     },
     "metadata": {},
     "output_type": "display_data"
    },
    {
     "data": {
      "text/html": [
       "<div>                            <div id=\"0ef93933-58b5-4645-81bd-6c3de4c78087\" class=\"plotly-graph-div\" style=\"height:525px; width:3000px;\"></div>            <script type=\"text/javascript\">                require([\"plotly\"], function(Plotly) {                    window.PLOTLYENV=window.PLOTLYENV || {};                                    if (document.getElementById(\"0ef93933-58b5-4645-81bd-6c3de4c78087\")) {                    Plotly.newPlot(                        \"0ef93933-58b5-4645-81bd-6c3de4c78087\",                        [{\"marker\":{\"color\":[2,3,7,35,39,49,78,97,128,160,199,249,277,306,335,369,397,424,453,480,511,535,563,592,618,620,621,622,623,624,625,626,627,628,629,630,631,632,633,634,635,636,637,638,639,640,641,642,643,644,645,646,647,648,649,650,651,652,653,654,655,656,657,658,659,660,661,662,663,664,665,666,667,668,669,670,671,672,673,674,675,676,677,678,679,680,681,682,683,684,685,686,687,688,689,690,691,692,693,694,695,696,697,698,699,700,701,702,703,704,705,706,707,708,709,710,711,712,713,714,715,716,717,718,719,720,721,722,723,724,725,726,727,728,729,730,731,732,733,734,735,736,737,738,739,740,741,742,743,744,745,746,747,748,749,750,751,752,753,754,755,756,757,758,759,760,761,762,763,764,765,766,767,768,769,770,771,772,773,774,775,776,777,778,779,780,781,782,783,784,785,786,787,788,789,790,791,792,793,794,795,796,797,798,799],\"colorbar\":{\"title\":{\"text\":\"Trial\"},\"x\":1.0,\"xpad\":40},\"colorscale\":[[0.0,\"rgb(247,251,255)\"],[0.125,\"rgb(222,235,247)\"],[0.25,\"rgb(198,219,239)\"],[0.375,\"rgb(158,202,225)\"],[0.5,\"rgb(107,174,214)\"],[0.625,\"rgb(66,146,198)\"],[0.75,\"rgb(33,113,181)\"],[0.875,\"rgb(8,81,156)\"],[1.0,\"rgb(8,48,107)\"]],\"line\":{\"color\":\"Grey\",\"width\":0.5},\"showscale\":true},\"mode\":\"markers\",\"name\":\"Feasible Trial\",\"showlegend\":false,\"x\":[0.7191418693824498,1.4910434152658711,1.5846022966325468,0.012635744304884788,1.996733777536354,0.005100603760291422,0.7343048266037115,1.1114106433854172,0.4284210498398733,1.9468879395865366,1.2559896952128466,0.32236043097524303,0.7368488854786798,1.6216612744076107,0.9633293491534307,1.3409404229581403,0.37571053596827864,1.7804198585633895,0.9971200759670609,0.5631786828819325,0.22825560149612345,1.8065286949536488,1.192926468115317,0.8655923467192206,0.1771919397398527,0.1936474916199513,0.5447953219140159,0.5785931746166357,0.128873333341954,0.8968374105893532,1.3991795963322415,0.7992957502756227,1.1275955130080937,0.4912574039792585,0.6525051909644364,0.13501284497186555,0.059773424208678524,0.2983655905400797,0.26845638920054954,0.2802250528120267,0.15872977091285156,0.004457726600672562,0.07723297392949911,0.3430717979148779,0.0016675586451599667,0.012552676122997306,0.2178535686756,0.22685683238147947,0.14136065268188025,0.44256095533999984,0.2948908033350282,0.08785352047883076,0.06645048079981311,0.01066316888481863,0.11800842182719576,0.2377169940776137,0.22788273270081813,0.3933211680035842,0.27436969807564826,0.2590532332731519,0.18629330253539853,0.1118626982804009,0.3233991747391102,0.07055215384875929,0.0743874045240169,0.007018019692669006,0.07354266690917954,0.17857817547139626,0.09139879677815935,0.24446602188958355,0.24552380579793773,0.3685194934063585,0.45051784183377436,0.2794214479069711,0.16089605604353707,0.20774292263450927,0.21136941767020018,0.3128165578208588,0.1068262589885233,0.11718746448390396,0.05378320618392016,0.15635261952686735,0.21325483760313038,0.056406339000068854,0.08311448441892136,0.13769561758250728,0.26355497105872183,0.13070396519237662,0.186462847549961,0.05297217889329621,0.377067077472253,0.1431713272233008,0.31269935895259016,0.3160516496213571,0.23640912958085847,0.27758805616278265,0.201801059013492,0.2722596857735606,0.35625449515377855,0.11770487798727919,0.30161278065811054,0.18866347117717083,0.04041891528211196,0.02975942140882149,0.10948565103964578,0.24261048425755619,0.1472665254414467,0.23717230052045488,0.037935920188454486,0.42214749646197564,0.25742588735172867,0.18576632499063378,0.09226553568264083,0.16946380830478205,0.29075922684677746,0.3344446059968865,0.228150210922993,0.04226395351320558,0.19629234739073614,0.20992479383059912,0.15347951187854644,0.08702671580349174,0.19163812406001177,0.25510213862728554,0.007335010910420901,0.12554116598930534,0.11870389979865041,0.16169438061844324,0.17332617903608996,0.09519286906257982,0.13686573390427095,0.23029236258335273,0.28367750945500636,0.22662907845048963,0.20394059555712457,0.06186736326402838,0.1609466022698858,0.2584595512279591,0.32036915979650177,0.20587554474092817,0.20478375164652823,0.12442670051050894,0.24034611840964037,0.1719791152087626,0.2782226514945159,0.17800732296350247,0.04969738831178794,0.08562809405594761,0.2123682375957396,0.2953945216448226,0.3413678455243918,0.16197431359509265,0.15932108533426462,0.24281299519086497,0.11969095141425162,0.18323486047529886,0.03338497515938522,1.6508204395759425,0.22663206111842849,0.0939848506868876,0.10260079422201178,0.06736865614287044,0.1005680980414426,0.09100323020402293,0.013627329217418976,0.005554738322219227,0.09040132727817887,0.04800223862103027,0.09868259134839633,0.10122184550483014,0.11756905300616527,0.05276302095251712,0.06784222716070379,0.03455876853348051,0.044041588313984456,0.00497139833542265,0.011742211356413332,0.015306737173545314,0.011389984405105386,0.005270705789642214,0.02272805337484103,0.004992291652935937,0.0025332236130857014,0.0023189294345021473,0.04454797274198512,0.04004600707499617,0.047639576109900446,0.02577211516510772,0.03750381451218793,0.03675287015703947,0.03266315832597945,0.001526382071995066,0.0012493441092589356,0.038168174486187895,0.00396093430429378,0.0002808743127065,0.001105704501711758,0.014263207539558004,0.041634929503622124,0.0027419043923775574,0.0443495679424946,0.0018320714315946235,0.01724601422160838,0.004449692074534129,0.05519979256985032],\"y\":[0.03659388580079572,0.03654694011331058,0.03454623442297158,0.04092732838792521,0.011591760925937264,0.041887212177560584,0.04178191938853411,0.034041091690690126,0.04705453436700623,0.020721504268701677,0.032028948911586114,0.0487287150192735,0.04286203475162412,0.01991731605785529,0.039861042548778335,0.02150385955758865,0.047252773151212145,0.014529632305233074,0.038064981482594996,0.04841987906273442,0.04451252516739061,0.01577179891950238,0.00028209999175022335,0.03911443108872375,0.05005008840638668,0.04323230924621437,0.04807125577205463,0.04863054267921352,0.04909820132575966,0.03843068961442184,0.00028209999175022335,0.00028209999175022335,0.02155155664363378,0.04860902302579345,0.0435604206940052,0.052626311881683006,0.049724551111822966,0.051818006586441236,0.050701238804271125,0.048644753476609986,0.04935915847820435,0.050350607696370994,0.04968248059630106,0.04838935488977447,0.050117765559188246,0.04871343732510851,0.050382748379585715,0.04935872146301822,0.04104200251060634,0.0486698127300722,0.04561238759679369,0.050531984606361414,0.04216271123329563,0.04985676715786119,0.04886868362552955,0.05049392192143782,0.049520055875511386,0.04821242839974197,0.050332921959342684,0.0429333395764058,0.04957152333237289,0.04897957734388234,0.04971099360753635,0.050223083989411756,0.05050528097177756,0.04859295825835886,0.04955309288579242,0.04878033186397923,0.04018903805376467,0.050654360006865476,0.049312421264800434,0.04981851160654202,0.04202984746832023,0.04930680584262383,0.04290557796373045,0.05074642082332579,0.048619498012248206,0.04230157169390076,0.05067727097393988,0.04874336729119517,0.04389597477797906,0.049692916563542765,0.04851328659946238,0.05040179978907181,0.04930206445081966,0.05027335857318814,0.04875147102433077,0.04979257609303768,0.048305456892686324,0.05006376742765132,0.04973240623682948,0.048935301685405275,0.050451072136489666,0.047868196442783555,0.04921817648724349,0.05045702981290688,0.03996983034446027,0.04939456005279679,0.048479631970780486,0.04298440234828629,0.04808909535626575,0.04953953872601,0.05049344811670836,0.04903639377743721,0.04827893386131705,0.050523480647583045,0.04909075645990791,0.05005293569410536,0.04814246249138601,0.048638511517354995,0.04855058004847117,0.05053528340211674,0.048840976639752884,0.04965451608371814,0.04386794003081227,0.05000953741050483,0.04936362004650911,0.04796297299647297,0.050312121374277076,0.04875038963471155,0.043696731527745745,0.041868994664399535,0.04999856855229645,0.04199068109708506,0.049273162362288424,0.050481992075753504,0.04898709021464862,0.05033109920467511,0.0483887294675308,0.04894501969912661,0.04962143782455451,0.05030388274614801,0.04278980572891068,0.048247994969864164,0.04931036662452433,0.048743714004774175,0.05012226280220206,0.04859237965917093,0.04882491410198775,0.05037390216656764,0.04821405048417079,0.04854059112992764,0.04946756834493704,0.05033209809652946,0.04311356151768967,0.04104574389572121,0.050255572501040825,0.042754507833941566,0.048862861958941024,0.05017601344044504,0.04823507738067171,0.050528034747164864,0.04824195256601335,0.049099874692582826,0.0499284889308049,0.04883171347857208,0.04999275580438512,0.01402994668860692,0.048532729315913285,0.05059691815106729,0.05036702475155742,0.049366850837350526,0.05067575479880408,0.05088757561365922,0.050511639988671454,0.03784772138943917,0.049307909528936315,0.041829744680564766,0.05116914271444215,0.0511316530545336,0.04207480763527811,0.05098036887649011,0.04363133867116011,0.051032160750237504,0.051236910168851235,0.05110989148199264,0.050973673179529166,0.0513741496598623,0.05118378718252129,0.05128140433492136,0.05139488112517869,0.05133242362824997,0.036949336338926345,0.03998725743984765,0.05157995148239397,0.051697421610399405,0.05182694310106681,0.05174920122096507,0.05175721465249298,0.051679706887670054,0.04200877151909436,0.051847131641904194,0.05232414152156927,0.04413143566177556,0.052011984472580854,0.052282497987721846,0.05229262737543238,0.00028209999175022335,0.00028209999175022335,0.05202095108774209,0.05220703482966248,0.0523269230340431,0.05282907577976931,0.04475008194034522,0.00028209999175022335],\"type\":\"scatter\",\"xaxis\":\"x\",\"yaxis\":\"y\"},{\"marker\":{\"color\":[0,1,2,3,4,5,6,7,8,9,10,11,12,13,14,15,16,17,18,19,20,21,22,23,24,25,26,27,28,29,30,31,32,33,34,35,36,37,38,39,40,41,42,43,44,45,46,47,48,49,50,51,52,53,54,55,56,57,58,59,60,61,62,63,64,65,66,67,68,69,70,71,72,73,74,75,76,77,78,79,80,81,82,83,84,85,86,87,88,89,90,91,92,93,94,95,96,97,98,99,100,101,102,103,104,105,106,107,108,109,110,111,112,113,114,115,116,117,118,119,120,121,122,123,124,125,126,127,128,129,130,131,132,133,134,135,136,137,138,139,140,141,142,143,144,145,146,147,148,149,150,151,152,153,154,155,156,157,158,159,160,161,162,163,164,165,166,167,168,169,170,171,172,173,174,175,176,177,178,179,180,181,182,183,184,185,186,187,188,189,190,191,192,193,194,195,196,197,198,199,200,201,202,203,204,205,206,207,208,209,210,211,212,213,214,215,216,217,218,219,220,221,222,223,224,225,226,227,228,229,230,231,232,233,234,235,236,237,238,239,240,241,242,243,244,245,246,247,248,249,250,251,252,253,254,255,256,257,258,259,260,261,262,263,264,265,266,267,268,269,270,271,272,273,274,275,276,277,278,279,280,281,282,283,284,285,286,287,288,289,290,291,292,293,294,295,296,297,298,299,300,301,302,303,304,305,306,307,308,309,310,311,312,313,314,315,316,317,318,319,320,321,322,323,324,325,326,327,328,329,330,331,332,333,334,335,336,337,338,339,340,341,342,343,344,345,346,347,348,349,350,351,352,353,354,355,356,357,358,359,360,361,362,363,364,365,366,367,368,369,370,371,372,373,374,375,376,377,378,379,380,381,382,383,384,385,386,387,388,389,390,391,392,393,394,395,396,397,398,399,400,401,402,403,404,405,406,407,408,409,410,411,412,413,414,415,416,417,418,419,420,421,422,423,424,425,426,427,428,429,430,431,432,433,434,435,436,437,438,439,440,441,442,443,444,445,446,447,448,449,450,451,452,453,454,455,456,457,458,459,460,461,462,463,464,465,466,467,468,469,470,471,472,473,474,475,476,477,478,479,480,481,482,483,484,485,486,487,488,489,490,491,492,493,494,495,496,497,498,499,500,501,502,503,504,505,506,507,508,509,510,511,512,513,514,515,516,517,518,519,520,521,522,523,524,525,526,527,528,529,530,531,532,533,534,535,536,537,538,539,540,541,542,543,544,545,546,547,548,549,550,551,552,553,554,555,556,557,558,559,560,561,562,563,564,565,566,567,568,569,570,571,572,573,574,575,576,577,578,579,580,581,582,583,584,585,586,587,588,589,590,591,592,593,594,595,596,597,598,599,600,601,602,603,604,605,606,607,608,609,610,611,612,613,614,615,616,617,618,619,620,621,622,623,624,625,626,627,628,629,630,631,632,633,634,635,636,637,638,639,640,641,642,643,644,645,646,647,648,649,650,651,652,653,654,655,656,657,658,659,660,661,662,663,664,665,666,667,668,669,670,671,672,673,674,675,676,677,678,679,680,681,682,683,684,685,686,687,688,689,690,691,692,693,694,695,696,697,698,699,700,701,702,703,704,705,706,707,708,709,710,711,712,713,714,715,716,717,718,719,720,721,722,723,724,725,726,727,728,729,730,731,732,733,734,735,736,737,738,739,740,741,742,743,744,745,746,747,748,749,750,751,752,753,754,755,756,757,758,759,760,761,762,763,764,765,766,767,768,769,770,771,772,773,774,775,776,777,778,779,780,781,782,783,784,785,786,787,788,789,790,791,792,793,794,795,796,797,798,799],\"colorbar\":{\"title\":{\"text\":\"Trial\"},\"x\":1.0,\"xpad\":40},\"colorscale\":[[0.0,\"rgb(247,251,255)\"],[0.125,\"rgb(222,235,247)\"],[0.25,\"rgb(198,219,239)\"],[0.375,\"rgb(158,202,225)\"],[0.5,\"rgb(107,174,214)\"],[0.625,\"rgb(66,146,198)\"],[0.75,\"rgb(33,113,181)\"],[0.875,\"rgb(8,81,156)\"],[1.0,\"rgb(8,48,107)\"]],\"line\":{\"color\":\"Grey\",\"width\":0.5},\"showscale\":false},\"mode\":\"markers\",\"name\":\"Feasible Trial\",\"showlegend\":false,\"x\":[\"BM25\",\"none\",\"none\",\"BM25\",\"BM25\",\"TF-IDF\",\"none\",\"none\",\"TF-IDF\",\"BM25\",\"TF-IDF\",\"TF-IDF\",\"TF-IDF\",\"TF-IDF\",\"TF-IDF\",\"TF-IDF\",\"TF-IDF\",\"TF-IDF\",\"TF-IDF\",\"TF-IDF\",\"TF-IDF\",\"TF-IDF\",\"TF-IDF\",\"TF-IDF\",\"TF-IDF\",\"TF-IDF\",\"TF-IDF\",\"TF-IDF\",\"none\",\"BM25\",\"BM25\",\"TF-IDF\",\"TF-IDF\",\"TF-IDF\",\"none\",\"TF-IDF\",\"TF-IDF\",\"BM25\",\"none\",\"TF-IDF\",\"TF-IDF\",\"TF-IDF\",\"TF-IDF\",\"TF-IDF\",\"TF-IDF\",\"TF-IDF\",\"none\",\"BM25\",\"TF-IDF\",\"TF-IDF\",\"TF-IDF\",\"TF-IDF\",\"TF-IDF\",\"TF-IDF\",\"TF-IDF\",\"TF-IDF\",\"TF-IDF\",\"TF-IDF\",\"TF-IDF\",\"TF-IDF\",\"none\",\"TF-IDF\",\"TF-IDF\",\"TF-IDF\",\"TF-IDF\",\"TF-IDF\",\"TF-IDF\",\"BM25\",\"TF-IDF\",\"TF-IDF\",\"TF-IDF\",\"TF-IDF\",\"TF-IDF\",\"TF-IDF\",\"TF-IDF\",\"TF-IDF\",\"TF-IDF\",\"TF-IDF\",\"BM25\",\"TF-IDF\",\"none\",\"TF-IDF\",\"TF-IDF\",\"TF-IDF\",\"TF-IDF\",\"TF-IDF\",\"TF-IDF\",\"TF-IDF\",\"TF-IDF\",\"TF-IDF\",\"TF-IDF\",\"TF-IDF\",\"TF-IDF\",\"TF-IDF\",\"TF-IDF\",\"TF-IDF\",\"TF-IDF\",\"TF-IDF\",\"none\",\"BM25\",\"TF-IDF\",\"TF-IDF\",\"TF-IDF\",\"TF-IDF\",\"TF-IDF\",\"TF-IDF\",\"TF-IDF\",\"TF-IDF\",\"TF-IDF\",\"TF-IDF\",\"TF-IDF\",\"TF-IDF\",\"TF-IDF\",\"TF-IDF\",\"TF-IDF\",\"TF-IDF\",\"TF-IDF\",\"TF-IDF\",\"TF-IDF\",\"none\",\"BM25\",\"TF-IDF\",\"TF-IDF\",\"TF-IDF\",\"TF-IDF\",\"TF-IDF\",\"TF-IDF\",\"TF-IDF\",\"TF-IDF\",\"TF-IDF\",\"TF-IDF\",\"TF-IDF\",\"TF-IDF\",\"TF-IDF\",\"TF-IDF\",\"TF-IDF\",\"TF-IDF\",\"TF-IDF\",\"TF-IDF\",\"TF-IDF\",\"TF-IDF\",\"TF-IDF\",\"TF-IDF\",\"TF-IDF\",\"TF-IDF\",\"TF-IDF\",\"TF-IDF\",\"none\",\"TF-IDF\",\"BM25\",\"TF-IDF\",\"TF-IDF\",\"TF-IDF\",\"TF-IDF\",\"TF-IDF\",\"TF-IDF\",\"TF-IDF\",\"TF-IDF\",\"TF-IDF\",\"TF-IDF\",\"TF-IDF\",\"TF-IDF\",\"TF-IDF\",\"TF-IDF\",\"TF-IDF\",\"TF-IDF\",\"TF-IDF\",\"TF-IDF\",\"TF-IDF\",\"TF-IDF\",\"TF-IDF\",\"TF-IDF\",\"TF-IDF\",\"TF-IDF\",\"TF-IDF\",\"TF-IDF\",\"TF-IDF\",\"TF-IDF\",\"none\",\"TF-IDF\",\"TF-IDF\",\"TF-IDF\",\"TF-IDF\",\"TF-IDF\",\"TF-IDF\",\"BM25\",\"TF-IDF\",\"TF-IDF\",\"TF-IDF\",\"TF-IDF\",\"TF-IDF\",\"TF-IDF\",\"TF-IDF\",\"TF-IDF\",\"TF-IDF\",\"TF-IDF\",\"TF-IDF\",\"TF-IDF\",\"TF-IDF\",\"TF-IDF\",\"TF-IDF\",\"TF-IDF\",\"TF-IDF\",\"TF-IDF\",\"TF-IDF\",\"TF-IDF\",\"TF-IDF\",\"TF-IDF\",\"TF-IDF\",\"TF-IDF\",\"TF-IDF\",\"TF-IDF\",\"TF-IDF\",\"TF-IDF\",\"TF-IDF\",\"TF-IDF\",\"TF-IDF\",\"TF-IDF\",\"none\",\"TF-IDF\",\"BM25\",\"TF-IDF\",\"TF-IDF\",\"TF-IDF\",\"TF-IDF\",\"TF-IDF\",\"TF-IDF\",\"TF-IDF\",\"TF-IDF\",\"TF-IDF\",\"TF-IDF\",\"TF-IDF\",\"TF-IDF\",\"TF-IDF\",\"TF-IDF\",\"TF-IDF\",\"TF-IDF\",\"TF-IDF\",\"TF-IDF\",\"TF-IDF\",\"TF-IDF\",\"TF-IDF\",\"TF-IDF\",\"TF-IDF\",\"TF-IDF\",\"TF-IDF\",\"TF-IDF\",\"TF-IDF\",\"TF-IDF\",\"TF-IDF\",\"TF-IDF\",\"TF-IDF\",\"TF-IDF\",\"TF-IDF\",\"TF-IDF\",\"none\",\"TF-IDF\",\"BM25\",\"TF-IDF\",\"TF-IDF\",\"TF-IDF\",\"TF-IDF\",\"TF-IDF\",\"TF-IDF\",\"TF-IDF\",\"TF-IDF\",\"TF-IDF\",\"TF-IDF\",\"TF-IDF\",\"TF-IDF\",\"TF-IDF\",\"TF-IDF\",\"TF-IDF\",\"TF-IDF\",\"TF-IDF\",\"TF-IDF\",\"TF-IDF\",\"TF-IDF\",\"none\",\"BM25\",\"TF-IDF\",\"TF-IDF\",\"TF-IDF\",\"TF-IDF\",\"TF-IDF\",\"TF-IDF\",\"TF-IDF\",\"TF-IDF\",\"TF-IDF\",\"TF-IDF\",\"TF-IDF\",\"TF-IDF\",\"TF-IDF\",\"TF-IDF\",\"TF-IDF\",\"TF-IDF\",\"TF-IDF\",\"TF-IDF\",\"TF-IDF\",\"TF-IDF\",\"none\",\"TF-IDF\",\"BM25\",\"TF-IDF\",\"TF-IDF\",\"TF-IDF\",\"TF-IDF\",\"TF-IDF\",\"TF-IDF\",\"TF-IDF\",\"TF-IDF\",\"TF-IDF\",\"TF-IDF\",\"TF-IDF\",\"TF-IDF\",\"TF-IDF\",\"TF-IDF\",\"TF-IDF\",\"TF-IDF\",\"TF-IDF\",\"TF-IDF\",\"TF-IDF\",\"TF-IDF\",\"TF-IDF\",\"none\",\"BM25\",\"TF-IDF\",\"TF-IDF\",\"TF-IDF\",\"TF-IDF\",\"TF-IDF\",\"TF-IDF\",\"TF-IDF\",\"TF-IDF\",\"TF-IDF\",\"TF-IDF\",\"TF-IDF\",\"TF-IDF\",\"TF-IDF\",\"TF-IDF\",\"TF-IDF\",\"TF-IDF\",\"TF-IDF\",\"TF-IDF\",\"TF-IDF\",\"TF-IDF\",\"TF-IDF\",\"TF-IDF\",\"TF-IDF\",\"BM25\",\"none\",\"TF-IDF\",\"TF-IDF\",\"TF-IDF\",\"TF-IDF\",\"TF-IDF\",\"TF-IDF\",\"TF-IDF\",\"TF-IDF\",\"TF-IDF\",\"TF-IDF\",\"TF-IDF\",\"TF-IDF\",\"TF-IDF\",\"TF-IDF\",\"TF-IDF\",\"TF-IDF\",\"TF-IDF\",\"TF-IDF\",\"TF-IDF\",\"TF-IDF\",\"none\",\"TF-IDF\",\"TF-IDF\",\"BM25\",\"TF-IDF\",\"TF-IDF\",\"TF-IDF\",\"TF-IDF\",\"TF-IDF\",\"TF-IDF\",\"TF-IDF\",\"TF-IDF\",\"TF-IDF\",\"TF-IDF\",\"TF-IDF\",\"TF-IDF\",\"TF-IDF\",\"TF-IDF\",\"TF-IDF\",\"TF-IDF\",\"TF-IDF\",\"TF-IDF\",\"TF-IDF\",\"TF-IDF\",\"TF-IDF\",\"none\",\"TF-IDF\",\"TF-IDF\",\"BM25\",\"TF-IDF\",\"TF-IDF\",\"TF-IDF\",\"TF-IDF\",\"TF-IDF\",\"TF-IDF\",\"TF-IDF\",\"TF-IDF\",\"TF-IDF\",\"TF-IDF\",\"TF-IDF\",\"TF-IDF\",\"TF-IDF\",\"TF-IDF\",\"TF-IDF\",\"TF-IDF\",\"TF-IDF\",\"TF-IDF\",\"TF-IDF\",\"TF-IDF\",\"none\",\"BM25\",\"TF-IDF\",\"TF-IDF\",\"TF-IDF\",\"TF-IDF\",\"TF-IDF\",\"TF-IDF\",\"TF-IDF\",\"TF-IDF\",\"TF-IDF\",\"TF-IDF\",\"TF-IDF\",\"TF-IDF\",\"TF-IDF\",\"TF-IDF\",\"TF-IDF\",\"TF-IDF\",\"TF-IDF\",\"TF-IDF\",\"TF-IDF\",\"none\",\"TF-IDF\",\"BM25\",\"TF-IDF\",\"TF-IDF\",\"TF-IDF\",\"TF-IDF\",\"TF-IDF\",\"TF-IDF\",\"TF-IDF\",\"TF-IDF\",\"TF-IDF\",\"TF-IDF\",\"TF-IDF\",\"TF-IDF\",\"TF-IDF\",\"TF-IDF\",\"TF-IDF\",\"TF-IDF\",\"TF-IDF\",\"TF-IDF\",\"TF-IDF\",\"TF-IDF\",\"none\",\"BM25\",\"TF-IDF\",\"TF-IDF\",\"TF-IDF\",\"TF-IDF\",\"TF-IDF\",\"TF-IDF\",\"TF-IDF\",\"TF-IDF\",\"TF-IDF\",\"TF-IDF\",\"TF-IDF\",\"TF-IDF\",\"TF-IDF\",\"TF-IDF\",\"TF-IDF\",\"TF-IDF\",\"TF-IDF\",\"TF-IDF\",\"TF-IDF\",\"none\",\"TF-IDF\",\"BM25\",\"TF-IDF\",\"TF-IDF\",\"TF-IDF\",\"TF-IDF\",\"TF-IDF\",\"TF-IDF\",\"TF-IDF\",\"TF-IDF\",\"TF-IDF\",\"TF-IDF\",\"TF-IDF\",\"TF-IDF\",\"TF-IDF\",\"TF-IDF\",\"TF-IDF\",\"TF-IDF\",\"TF-IDF\",\"TF-IDF\",\"TF-IDF\",\"none\",\"TF-IDF\",\"BM25\",\"TF-IDF\",\"TF-IDF\",\"TF-IDF\",\"TF-IDF\",\"TF-IDF\",\"TF-IDF\",\"TF-IDF\",\"TF-IDF\",\"TF-IDF\",\"TF-IDF\",\"TF-IDF\",\"TF-IDF\",\"TF-IDF\",\"TF-IDF\",\"TF-IDF\",\"TF-IDF\",\"TF-IDF\",\"TF-IDF\",\"TF-IDF\",\"none\",\"TF-IDF\",\"BM25\",\"TF-IDF\",\"TF-IDF\",\"TF-IDF\",\"TF-IDF\",\"TF-IDF\",\"TF-IDF\",\"TF-IDF\",\"TF-IDF\",\"TF-IDF\",\"TF-IDF\",\"TF-IDF\",\"TF-IDF\",\"TF-IDF\",\"TF-IDF\",\"TF-IDF\",\"TF-IDF\",\"TF-IDF\",\"TF-IDF\",\"TF-IDF\",\"TF-IDF\",\"BM25\",\"none\",\"TF-IDF\",\"TF-IDF\",\"TF-IDF\",\"TF-IDF\",\"TF-IDF\",\"TF-IDF\",\"TF-IDF\",\"TF-IDF\",\"TF-IDF\",\"TF-IDF\",\"TF-IDF\",\"TF-IDF\",\"TF-IDF\",\"TF-IDF\",\"TF-IDF\",\"TF-IDF\",\"TF-IDF\",\"TF-IDF\",\"TF-IDF\",\"TF-IDF\",\"none\",\"TF-IDF\",\"TF-IDF\",\"TF-IDF\",\"BM25\",\"TF-IDF\",\"TF-IDF\",\"TF-IDF\",\"TF-IDF\",\"TF-IDF\",\"TF-IDF\",\"TF-IDF\",\"TF-IDF\",\"TF-IDF\",\"TF-IDF\",\"TF-IDF\",\"TF-IDF\",\"TF-IDF\",\"TF-IDF\",\"TF-IDF\",\"TF-IDF\",\"none\",\"TF-IDF\",\"BM25\",\"TF-IDF\",\"TF-IDF\",\"TF-IDF\",\"TF-IDF\",\"TF-IDF\",\"TF-IDF\",\"TF-IDF\",\"TF-IDF\",\"TF-IDF\",\"TF-IDF\",\"TF-IDF\",\"TF-IDF\",\"TF-IDF\",\"TF-IDF\",\"TF-IDF\",\"TF-IDF\",\"TF-IDF\",\"TF-IDF\",\"TF-IDF\",\"none\",\"TF-IDF\",\"TF-IDF\",\"BM25\",\"TF-IDF\",\"TF-IDF\",\"TF-IDF\",\"TF-IDF\",\"TF-IDF\",\"TF-IDF\",\"TF-IDF\",\"TF-IDF\",\"TF-IDF\",\"TF-IDF\",\"TF-IDF\",\"TF-IDF\",\"TF-IDF\",\"TF-IDF\",\"TF-IDF\",\"TF-IDF\",\"TF-IDF\",\"TF-IDF\",\"TF-IDF\",\"TF-IDF\",\"TF-IDF\",\"TF-IDF\",\"none\",\"TF-IDF\",\"TF-IDF\",\"TF-IDF\",\"BM25\",\"TF-IDF\",\"TF-IDF\",\"TF-IDF\",\"TF-IDF\",\"TF-IDF\",\"TF-IDF\",\"TF-IDF\",\"TF-IDF\",\"TF-IDF\",\"TF-IDF\",\"TF-IDF\",\"TF-IDF\",\"TF-IDF\",\"TF-IDF\",\"TF-IDF\",\"TF-IDF\",\"TF-IDF\",\"TF-IDF\",\"TF-IDF\",\"none\",\"TF-IDF\",\"TF-IDF\",\"TF-IDF\",\"TF-IDF\",\"BM25\",\"TF-IDF\",\"TF-IDF\",\"TF-IDF\",\"TF-IDF\",\"TF-IDF\",\"TF-IDF\",\"TF-IDF\",\"TF-IDF\",\"TF-IDF\",\"TF-IDF\",\"TF-IDF\",\"TF-IDF\",\"TF-IDF\",\"TF-IDF\",\"TF-IDF\",\"TF-IDF\",\"TF-IDF\",\"TF-IDF\",\"none\",\"TF-IDF\",\"TF-IDF\",\"BM25\",\"TF-IDF\",\"TF-IDF\",\"TF-IDF\",\"TF-IDF\",\"TF-IDF\",\"TF-IDF\",\"TF-IDF\",\"TF-IDF\",\"TF-IDF\",\"TF-IDF\",\"TF-IDF\",\"TF-IDF\",\"TF-IDF\",\"TF-IDF\",\"TF-IDF\",\"TF-IDF\",\"TF-IDF\",\"TF-IDF\",\"TF-IDF\",\"TF-IDF\",\"TF-IDF\",\"none\",\"TF-IDF\",\"BM25\",\"TF-IDF\",\"TF-IDF\",\"TF-IDF\",\"TF-IDF\",\"TF-IDF\",\"TF-IDF\",\"TF-IDF\",\"TF-IDF\",\"TF-IDF\",\"TF-IDF\",\"TF-IDF\",\"TF-IDF\",\"TF-IDF\",\"TF-IDF\",\"TF-IDF\",\"TF-IDF\",\"TF-IDF\",\"TF-IDF\",\"TF-IDF\",\"TF-IDF\",\"TF-IDF\",\"none\",\"TF-IDF\",\"BM25\",\"TF-IDF\",\"TF-IDF\",\"TF-IDF\",\"TF-IDF\",\"TF-IDF\",\"TF-IDF\",\"TF-IDF\",\"TF-IDF\",\"TF-IDF\",\"TF-IDF\",\"TF-IDF\",\"TF-IDF\",\"TF-IDF\",\"TF-IDF\",\"TF-IDF\",\"TF-IDF\",\"TF-IDF\",\"TF-IDF\",\"TF-IDF\",\"none\",\"TF-IDF\",\"TF-IDF\",\"BM25\",\"TF-IDF\",\"TF-IDF\",\"TF-IDF\",\"TF-IDF\",\"TF-IDF\",\"TF-IDF\",\"TF-IDF\",\"TF-IDF\",\"TF-IDF\",\"TF-IDF\",\"TF-IDF\",\"TF-IDF\",\"TF-IDF\",\"TF-IDF\",\"TF-IDF\",\"TF-IDF\",\"TF-IDF\",\"TF-IDF\",\"TF-IDF\",\"none\",\"TF-IDF\",\"TF-IDF\",\"BM25\",\"TF-IDF\",\"TF-IDF\",\"TF-IDF\",\"TF-IDF\",\"TF-IDF\",\"TF-IDF\",\"TF-IDF\",\"TF-IDF\",\"TF-IDF\",\"TF-IDF\",\"TF-IDF\"],\"y\":[0.03693410769748605,0.02950565890072772,0.03659388580079572,0.03654694011331058,0.03780927185688956,0.0394110428832288,0.024006979979799066,0.03454623442297158,0.03826173976637384,0.036433943816791194,0.041522422669492146,0.04131477022142686,0.04362394620253716,0.043617225979213074,0.04339865261082951,0.043702796228289695,0.04360893160935133,0.0432735570137575,0.043445371986879006,0.043007080314916686,0.016478841553009393,0.04360525822915029,0.04371697358064655,0.04376835296556982,0.043749756408625315,0.04333191637848008,0.0436234556752871,0.04380381028189539,0.03640595812234979,0.01400613716479738,0.03822558567838665,0.04387137483639633,0.04385864230975724,0.04390049654735531,0.03476588918097434,0.04092732838792521,0.044148636445727155,0.03706749431991632,0.03209564835439163,0.011591760925937264,0.04357808078983646,0.04379978461394221,0.04385834576373801,0.04407368276710715,0.02664175345654471,0.04409705304606093,0.03395454150194877,0.041960781231533836,0.043791258358471294,0.041887212177560584,0.044148536110607775,0.04427531956735329,0.04416902788647253,0.04425917118731959,0.04423339732484115,0.04454130908344809,0.034599044140762536,0.0351619341935386,0.04498923069719356,0.04564349259861089,0.026123542632391486,0.04501886188759169,0.045815864989061414,0.04582322401264476,0.04585618744383831,0.04589327910777384,0.046648907350549156,0.04147025286679578,0.047004881860969336,0.040136277388698786,0.03795062174328781,0.047033718174255966,0.04706022225343587,0.04662457385444997,0.04730033980160257,0.04710087246960237,0.03733892311431149,0.04712724834279667,0.04178191938853411,0.0470467204908823,0.03729530186377906,0.046471053318080775,0.04728495396847546,0.04843907986006404,0.04769853867472737,0.028051728328171495,0.049890490906291725,0.04603569477610609,0.047727137528231385,0.0478646300867101,0.04929765973908228,0.048944583798775025,0.04811644002077834,0.04928062283582542,0.036526392595712706,0.04619822652102311,0.0495917932561403,0.034041091690690126,0.037363637883864154,0.04376502518411324,0.038940388675954084,0.04990843528496086,0.04621956780089785,0.04537196792843485,0.04208870516413552,0.04815071003819207,0.045927074205622864,0.0491778763291599,0.049169851749285315,0.026130944019691776,0.04959505637718693,0.049204049302446054,0.04653824440297099,0.04923222228911028,0.049630018706923754,0.049163671105936585,0.04598442464497911,0.04659938639500214,0.03889954670822616,0.03753201470689754,0.041501527323481016,0.04994933299442155,0.04731299317498052,0.04958215774018373,0.0469154576284774,0.04958890471953923,0.038527291152447664,0.04628601640590519,0.04705453436700623,0.03853470703259859,0.04300299890523063,0.04934406919109634,0.047456965152496595,0.04936614291734233,0.046291718785185655,0.04691905074058289,0.04990779314019738,0.04750510482790124,0.04557724243417271,0.027839313306443386,0.045828794841435455,0.049178870761675396,0.04990601943825513,0.047479724502057466,0.047791412205653895,0.04639345190714603,0.04994261946010584,0.03555692011317694,0.04965573348316518,0.041714290173622895,0.04768739590231192,0.04937826005524956,0.04735551631337386,0.04955581085269061,0.049890490906291725,0.036165744698402495,0.04775906193352281,0.0461564882262297,0.04676283118950449,0.038704727121919094,0.020721504268701677,0.04266998218494037,0.049368361438313337,0.049891370510837627,0.047042289023113325,0.04769802362111488,0.03691360142877094,0.049847380250033324,0.04706535829670938,0.047753553535473406,0.046548871006939496,0.049369569919083554,0.04769689540844034,0.04211797626293863,0.04985111606097521,0.049833714606784874,0.04704128009774709,0.03216165771454326,0.03513438997362186,0.049599267107693364,0.042075960374315144,0.047679371322437436,0.047767542480773,0.04961234634791127,0.04704922775403017,0.04429842340082375,0.04235441820123484,0.04706412751924592,0.04647413026173918,0.047812290829145336,0.04783566556743799,0.04986886980291764,0.049604045289041235,0.04706217767342759,0.047862567642591385,0.04067031886500772,0.04984269348512744,0.046984877267850875,0.0476645573994904,0.032028948911586114,0.046223529923275414,0.04784513162852644,0.0496052058319212,0.047072919105365825,0.04982159969854696,0.03855078406321408,0.04959879664746728,0.037138225004848154,0.04989037384865253,0.04726728606880146,0.04983274470063162,0.04770897575680381,0.04949320731242169,0.047869821871716546,0.04699137229457346,0.04794841214099339,0.049839740288116004,0.04983492308755505,0.03564598202440494,0.04654776174645384,0.03401599899218879,0.047679371322437436,0.049876711549908144,0.0498932412033952,0.04781848930984878,0.043576516676809916,0.04960045329177033,0.0469845718031542,0.04783291638516917,0.04699631212694691,0.04960773316209277,0.049891370510837627,0.049839740288116004,0.042753741942530905,0.04778610224817374,0.04771773501271849,0.047227781902664294,0.04790619446729666,0.049922257005061546,0.047126517011260284,0.03752938815644112,0.04798966994204884,0.04958462152477983,0.04781723735052673,0.049841190688007284,0.04720709837523838,0.04794431623845675,0.04959987246291307,0.046775688577625436,0.0487287150192735,0.03921865363647783,0.04654642171519377,0.04991914550152862,0.04716087510061216,0.03869163450368519,0.03726155358898585,0.046845421485537664,0.04442570853316567,0.047282264987277965,0.046554255658341676,0.04781072448644982,0.0497992662158258,0.03184703799579367,0.04713369766129812,0.04617743262496576,0.04984070350526126,0.048027089367374085,0.04667624644088867,0.047160021137263454,0.04984681168435722,0.04793105305052016,0.04699879374889738,0.035521332361196284,0.04793104078733903,0.04454054319203769,0.04985138027678925,0.046743104190215726,0.04286203475162412,0.03732658969848043,0.04774713877684623,0.04992362602202267,0.036958753347289916,0.04665704118422019,0.0478389844302174,0.0479255413079667,0.04616927872427092,0.04700468565006971,0.047823019997902276,0.048008279877009404,0.02786422094239185,0.04937769817858145,0.04656114310686431,0.04961626499173696,0.04711250353959838,0.047818091313875516,0.047909463162516375,0.050162974334274815,0.04714728861062439,0.04783431215816197,0.04353304927346051,0.041301690981208984,0.04646627290706358,0.042093668408037015,0.050059829831635996,0.05017742928046168,0.04675033277814398,0.01991731605785529,0.04188282864768165,0.04728393389476257,0.044369952307371646,0.04048520279957126,0.04992678211894203,0.0467714611245989,0.04600632891635682,0.047480200536456595,0.050232338231915176,0.04725691030263145,0.047917116502449786,0.027957140181538873,0.0480567762995051,0.04711755262576847,0.049686207488565406,0.048049530989057065,0.04653595118807746,0.04169842719126168,0.04200254070818617,0.04806544302414315,0.0499307397819809,0.046850165107011156,0.04264243462051979,0.047939016314488304,0.03830173891909947,0.04300625756693852,0.04803477169300822,0.04992604967257115,0.039861042548778335,0.03829865194192891,0.0459246204545387,0.04782007237506429,0.03867653964240434,0.046904817646493076,0.04482561198848429,0.050234773030810226,0.0499758002840579,0.04791684671246223,0.047185257649436416,0.05023720114069726,0.04792758479989635,0.0279084743041758,0.04248813369988957,0.03890101494547179,0.048208082774242086,0.0502402490986546,0.04678151804805659,0.050244874547654264,0.04619565013812629,0.04731299763431907,0.048155151539473424,0.04814683821742212,0.035079569094106415,0.04999021844070141,0.04702152188308767,0.050186830681139945,0.047824749106458266,0.04670318084624698,0.04986284189191714,0.043199344700185785,0.0452460807987548,0.04732027861947637,0.02150385955758865,0.03808101169015483,0.039461509218566324,0.05024410977107824,0.04421671939834431,0.040711889934602265,0.046260912559056684,0.04732151051177439,0.047946819042265956,0.028006635495888783,0.047983650949725724,0.05026688472832435,0.047252597007336285,0.043308226141979135,0.043912482134772904,0.04999271232583328,0.050256474402279865,0.04784084062992422,0.04664311021032273,0.05027369636809012,0.04706450656302998,0.03648499432549027,0.04733004903042649,0.04822117204797194,0.04315358408194302,0.05024410977107824,0.050242880108449496,0.04075289020885151,0.047252773151212145,0.04293838531807183,0.041376904416304566,0.04895781019716825,0.034788033141803586,0.04185713059396017,0.04878155706726952,0.00028209999175022335,0.048597933765441303,0.0487910521140591,0.00028209999175022335,0.04882828759166541,0.00028209999175022335,0.028506588672833684,0.04881006227466208,0.04885276490143535,0.0487750408586884,0.041791421124331526,0.04860345442667228,0.00028209999175022335,0.00028209999175022335,0.04874261812230436,0.041512108219228315,0.00028209999175022335,0.04298627081117441,0.04499553174268527,0.00028209999175022335,0.014529632305233074,0.04871506386887579,0.00028209999175022335,0.04872931145581623,0.04864581368437048,0.00028209999175022335,0.04885928556935519,0.04874426584793011,0.00028209999175022335,0.048823106955005774,0.04883078482130113,0.04877147227294537,0.040976274088788144,0.00028209999175022335,0.04885410047335713,0.048751817737909375,0.00028209999175022335,0.04014466540467225,0.048799792417784864,0.00028209999175022335,0.04893435184627561,0.048665007792692436,0.00028209999175022335,0.04859417342813724,0.04882810698845047,0.04511204980189243,0.04509610766627008,0.00028209999175022335,0.00028209999175022335,0.038064981482594996,0.042910652691097624,0.00028209999175022335,0.04265200436123149,0.04880828188371183,0.04404566028312178,0.048800561653699226,0.04879377676996519,0.00028209999175022335,0.04893460937308202,0.04889354778292603,0.00028209999175022335,0.04321814527187332,0.04446097521276453,0.0490939259348427,0.04886683411483058,0.00028209999175022335,0.00028209999175022335,0.04903386979176919,0.00028209999175022335,0.04867334118176733,0.034494375659144934,0.04924621011957545,0.04930018149508038,0.048607454453428296,0.00028209999175022335,0.00028209999175022335,0.04841987906273442,0.04858919569138523,0.04267829104765305,0.00028209999175022335,0.039325401284734024,0.04087593451015122,0.048603843503968014,0.04293730281361824,0.04773155673281921,0.00028209999175022335,0.04929693286688461,0.04471223553334623,0.034200931109905894,0.04918416288180113,0.047654230686045435,0.00028209999175022335,0.04849309805862525,0.04948125294037464,0.04941583555742689,0.047599735338250355,0.00028209999175022335,0.048489839396917395,0.049406298146920054,0.042158245205651784,0.04827348566433931,0.047596452150179956,0.00028209999175022335,0.040494266405347965,0.04325721019315453,0.0412346370209819,0.04934878605653808,0.04451252516739061,0.04959732952505643,0.00028209999175022335,0.047590941522461065,0.048341058022682945,0.04940803394448374,0.04956472618545775,0.00028209999175022335,0.028335109264944706,0.04828541551002376,0.0495127269524639,0.04756424011754668,0.00028209999175022335,0.049441751003907033,0.04829822830475835,0.04760112999640838,0.00028209999175022335,0.04921266697435913,0.03858161035636673,0.04956969611836693,0.04905556893356988,0.04755193122807794,0.04958797494743398,0.04950411373988958,0.01577179891950238,0.00028209999175022335,0.047688533033664084,0.04961715017045649,0.04818482620842294,0.00028209999175022335,0.04919396896746053,0.04826015893082719,0.00028209999175022335,0.04765343692376816,0.04932080928077356,0.04831929867981105,0.04421155659903911,0.03876327377886464,0.048228187702480066,0.00028209999175022335,0.0493105873617864,0.04205334372359111,0.038777900409588735,0.04848251270353919,0.04982875582222217,0.04829151254077328,0.04398139340954174,0.04095023378082638,0.00028209999175022335,0.049566543365951704,0.04843801853746874,0.0491689520777156,0.00028209999175022335,0.04773450324082276,0.041523389231141586,0.04917590864598698,0.042786055425118166,0.04916852844054531,0.00028209999175022335,0.047877797398866065,0.00028209999175022335,0.048313802544942906,0.049451958430043595,0.03759886019304348,0.02829481245136515,0.04769446729855308,0.04915264985049877,0.00028209999175022335,0.04846619598347187,0.049175167280938806,0.0478032573239045,0.00028209999175022335,0.04511283464549178,0.04948785499122454,0.04819976945219049,0.031686913178905665,0.047631124622905384,0.00028209999175022335,0.04481447924958075,0.04950422187885134,0.04822362802872529,0.03911443108872375,0.04316793423367208,0.049351859655692554,0.04240938066475178,0.00028209999175022335,0.043069676051343264,0.04460478553925493,0.047653878398293034,0.04389856899823021,0.00028209999175022335,0.028555019320084404,0.04854322548422667,0.04960889036046897,0.047381241123127256,0.04824231711694638,0.04959689696920893,0.04851073920226701,0.04967772359681166,0.00028209999175022335,0.047722971391111084,0.04865533771686146,0.00028209999175022335,0.04798310356590802,0.04958225473079902,0.047666746934760404,0.03916964996421232,0.05005008840638668,0.04214939341846043,0.04323230924621437,0.04807125577205463,0.04863054267921352,0.04909820132575966,0.03843068961442184,0.00028209999175022335,0.00028209999175022335,0.02155155664363378,0.04860902302579345,0.0435604206940052,0.052626311881683006,0.049724551111822966,0.051818006586441236,0.050701238804271125,0.048644753476609986,0.04935915847820435,0.050350607696370994,0.04968248059630106,0.04838935488977447,0.050117765559188246,0.04871343732510851,0.050382748379585715,0.04935872146301822,0.04104200251060634,0.0486698127300722,0.04561238759679369,0.050531984606361414,0.04216271123329563,0.04985676715786119,0.04886868362552955,0.05049392192143782,0.049520055875511386,0.04821242839974197,0.050332921959342684,0.0429333395764058,0.04957152333237289,0.04897957734388234,0.04971099360753635,0.050223083989411756,0.05050528097177756,0.04859295825835886,0.04955309288579242,0.04878033186397923,0.04018903805376467,0.050654360006865476,0.049312421264800434,0.04981851160654202,0.04202984746832023,0.04930680584262383,0.04290557796373045,0.05074642082332579,0.048619498012248206,0.04230157169390076,0.05067727097393988,0.04874336729119517,0.04389597477797906,0.049692916563542765,0.04851328659946238,0.05040179978907181,0.04930206445081966,0.05027335857318814,0.04875147102433077,0.04979257609303768,0.048305456892686324,0.05006376742765132,0.04973240623682948,0.048935301685405275,0.050451072136489666,0.047868196442783555,0.04921817648724349,0.05045702981290688,0.03996983034446027,0.04939456005279679,0.048479631970780486,0.04298440234828629,0.04808909535626575,0.04953953872601,0.05049344811670836,0.04903639377743721,0.04827893386131705,0.050523480647583045,0.04909075645990791,0.05005293569410536,0.04814246249138601,0.048638511517354995,0.04855058004847117,0.05053528340211674,0.048840976639752884,0.04965451608371814,0.04386794003081227,0.05000953741050483,0.04936362004650911,0.04796297299647297,0.050312121374277076,0.04875038963471155,0.043696731527745745,0.041868994664399535,0.04999856855229645,0.04199068109708506,0.049273162362288424,0.050481992075753504,0.04898709021464862,0.05033109920467511,0.0483887294675308,0.04894501969912661,0.04962143782455451,0.05030388274614801,0.04278980572891068,0.048247994969864164,0.04931036662452433,0.048743714004774175,0.05012226280220206,0.04859237965917093,0.04882491410198775,0.05037390216656764,0.04821405048417079,0.04854059112992764,0.04946756834493704,0.05033209809652946,0.04311356151768967,0.04104574389572121,0.050255572501040825,0.042754507833941566,0.048862861958941024,0.05017601344044504,0.04823507738067171,0.050528034747164864,0.04824195256601335,0.049099874692582826,0.0499284889308049,0.04883171347857208,0.04999275580438512,0.01402994668860692,0.048532729315913285,0.05059691815106729,0.05036702475155742,0.049366850837350526,0.05067575479880408,0.05088757561365922,0.050511639988671454,0.03784772138943917,0.049307909528936315,0.041829744680564766,0.05116914271444215,0.0511316530545336,0.04207480763527811,0.05098036887649011,0.04363133867116011,0.051032160750237504,0.051236910168851235,0.05110989148199264,0.050973673179529166,0.0513741496598623,0.05118378718252129,0.05128140433492136,0.05139488112517869,0.05133242362824997,0.036949336338926345,0.03998725743984765,0.05157995148239397,0.051697421610399405,0.05182694310106681,0.05174920122096507,0.05175721465249298,0.051679706887670054,0.04200877151909436,0.051847131641904194,0.05232414152156927,0.04413143566177556,0.052011984472580854,0.052282497987721846,0.05229262737543238,0.00028209999175022335,0.00028209999175022335,0.05202095108774209,0.05220703482966248,0.0523269230340431,0.05282907577976931,0.04475008194034522,0.00028209999175022335],\"type\":\"scatter\",\"xaxis\":\"x2\",\"yaxis\":\"y2\"},{\"marker\":{\"color\":[6,20,29,44,60,85,109,139,177,220,262,289,318,348,378,410,436,464,492,519,548,575,602],\"colorbar\":{\"title\":{\"text\":\"Trial\"},\"x\":1.0,\"xpad\":40},\"colorscale\":[[0.0,\"rgb(247,251,255)\"],[0.125,\"rgb(222,235,247)\"],[0.25,\"rgb(198,219,239)\"],[0.375,\"rgb(158,202,225)\"],[0.5,\"rgb(107,174,214)\"],[0.625,\"rgb(66,146,198)\"],[0.75,\"rgb(33,113,181)\"],[0.875,\"rgb(8,81,156)\"],[1.0,\"rgb(8,48,107)\"]],\"line\":{\"color\":\"Grey\",\"width\":0.5},\"showscale\":false},\"mode\":\"markers\",\"name\":\"Feasible Trial\",\"showlegend\":false,\"x\":[false,true,true,false,true,false,true,false,true,false,true,false,true,false,true,false,true,false,true,false,true,false,false],\"y\":[0.024006979979799066,0.016478841553009393,0.01400613716479738,0.02664175345654471,0.026123542632391486,0.028051728328171495,0.026130944019691776,0.027839313306443386,0.03216165771454326,0.03401599899218879,0.03184703799579367,0.02786422094239185,0.027957140181538873,0.0279084743041758,0.028006635495888783,0.028506588672833684,0.040976274088788144,0.00028209999175022335,0.034200931109905894,0.028335109264944706,0.03876327377886464,0.02829481245136515,0.028555019320084404],\"type\":\"scatter\",\"xaxis\":\"x3\",\"yaxis\":\"y3\"},{\"marker\":{\"color\":[6,20,29,44,60,85,109,139,177,220,262,289,318,348,378,410,436,464,492,519,548,575,602],\"colorbar\":{\"title\":{\"text\":\"Trial\"},\"x\":1.0,\"xpad\":40},\"colorscale\":[[0.0,\"rgb(247,251,255)\"],[0.125,\"rgb(222,235,247)\"],[0.25,\"rgb(198,219,239)\"],[0.375,\"rgb(158,202,225)\"],[0.5,\"rgb(107,174,214)\"],[0.625,\"rgb(66,146,198)\"],[0.75,\"rgb(33,113,181)\"],[0.875,\"rgb(8,81,156)\"],[1.0,\"rgb(8,48,107)\"]],\"line\":{\"color\":\"Grey\",\"width\":0.5},\"showscale\":false},\"mode\":\"markers\",\"name\":\"Feasible Trial\",\"showlegend\":false,\"x\":[true,false,false,true,false,true,true,false,true,false,false,true,false,true,false,true,false,true,false,true,false,true,false],\"y\":[0.024006979979799066,0.016478841553009393,0.01400613716479738,0.02664175345654471,0.026123542632391486,0.028051728328171495,0.026130944019691776,0.027839313306443386,0.03216165771454326,0.03401599899218879,0.03184703799579367,0.02786422094239185,0.027957140181538873,0.0279084743041758,0.028006635495888783,0.028506588672833684,0.040976274088788144,0.00028209999175022335,0.034200931109905894,0.028335109264944706,0.03876327377886464,0.02829481245136515,0.028555019320084404],\"type\":\"scatter\",\"xaxis\":\"x4\",\"yaxis\":\"y4\"},{\"marker\":{\"color\":[0,1,2,3,4,5,6,7,8,9,10,11,12,13,14,15,16,17,18,19,20,21,22,23,24,25,26,27,28,29,30,31,32,33,34,35,36,37,38,39,40,41,42,43,44,45,46,47,48,49,50,51,52,53,54,55,56,57,58,59,60,61,62,63,64,65,66,67,68,69,70,71,72,73,74,75,76,77,78,79,80,81,82,83,84,85,86,87,88,89,90,91,92,93,94,95,96,97,98,99,100,101,102,103,104,105,106,107,108,109,110,111,112,113,114,115,116,117,118,119,120,121,122,123,124,125,126,127,128,129,130,131,132,133,134,135,136,137,138,139,140,141,142,143,144,145,146,147,148,149,150,151,152,153,154,155,156,157,158,159,160,161,162,163,164,165,166,167,168,169,170,171,172,173,174,175,176,177,178,179,180,181,182,183,184,185,186,187,188,189,190,191,192,193,194,195,196,197,198,199,200,201,202,203,204,205,206,207,208,209,210,211,212,213,214,215,216,217,218,219,220,221,222,223,224,225,226,227,228,229,230,231,232,233,234,235,236,237,238,239,240,241,242,243,244,245,246,247,248,249,250,251,252,253,254,255,256,257,258,259,260,261,262,263,264,265,266,267,268,269,270,271,272,273,274,275,276,277,278,279,280,281,282,283,284,285,286,287,288,289,290,291,292,293,294,295,296,297,298,299,300,301,302,303,304,305,306,307,308,309,310,311,312,313,314,315,316,317,318,319,320,321,322,323,324,325,326,327,328,329,330,331,332,333,334,335,336,337,338,339,340,341,342,343,344,345,346,347,348,349,350,351,352,353,354,355,356,357,358,359,360,361,362,363,364,365,366,367,368,369,370,371,372,373,374,375,376,377,378,379,380,381,382,383,384,385,386,387,388,389,390,391,392,393,394,395,396,397,398,399,400,401,402,403,404,405,406,407,408,409,410,411,412,413,414,415,416,417,418,419,420,421,422,423,424,425,426,427,428,429,430,431,432,433,434,435,436,437,438,439,440,441,442,443,444,445,446,447,448,449,450,451,452,453,454,455,456,457,458,459,460,461,462,463,464,465,466,467,468,469,470,471,472,473,474,475,476,477,478,479,480,481,482,483,484,485,486,487,488,489,490,491,492,493,494,495,496,497,498,499,500,501,502,503,504,505,506,507,508,509,510,511,512,513,514,515,516,517,518,519,520,521,522,523,524,525,526,527,528,529,530,531,532,533,534,535,536,537,538,539,540,541,542,543,544,545,546,547,548,549,550,551,552,553,554,555,556,557,558,559,560,561,562,563,564,565,566,567,568,569,570,571,572,573,574,575,576,577,578,579,580,581,582,583,584,585,586,587,588,589,590,591,592,593,594,595,596,597,598,599,600,601,602,603,604,605,606,607,608,609,610,611,612,613,614,615,616,617,618,619,620,621,622,623,624,625,626,627,628,629,630,631,632,633,634,635,636,637,638,639,640,641,642,643,644,645,646,647,648,649,650,651,652,653,654,655,656,657,658,659,660,661,662,663,664,665,666,667,668,669,670,671,672,673,674,675,676,677,678,679,680,681,682,683,684,685,686,687,688,689,690,691,692,693,694,695,696,697,698,699,700,701,702,703,704,705,706,707,708,709,710,711,712,713,714,715,716,717,718,719,720,721,722,723,724,725,726,727,728,729,730,731,732,733,734,735,736,737,738,739,740,741,742,743,744,745,746,747,748,749,750,751,752,753,754,755,756,757,758,759,760,761,762,763,764,765,766,767,768,769,770,771,772,773,774,775,776,777,778,779,780,781,782,783,784,785,786,787,788,789,790,791,792,793,794,795,796,797,798,799],\"colorbar\":{\"title\":{\"text\":\"Trial\"},\"x\":1.0,\"xpad\":40},\"colorscale\":[[0.0,\"rgb(247,251,255)\"],[0.125,\"rgb(222,235,247)\"],[0.25,\"rgb(198,219,239)\"],[0.375,\"rgb(158,202,225)\"],[0.5,\"rgb(107,174,214)\"],[0.625,\"rgb(66,146,198)\"],[0.75,\"rgb(33,113,181)\"],[0.875,\"rgb(8,81,156)\"],[1.0,\"rgb(8,48,107)\"]],\"line\":{\"color\":\"Grey\",\"width\":0.5},\"showscale\":false},\"mode\":\"markers\",\"name\":\"Feasible Trial\",\"showlegend\":false,\"x\":[896,500,323,446,438,165,410,803,546,614,13,51,1,36,222,132,171,227,685,335,116,9,97,280,295,293,250,371,375,561,974,292,274,358,475,378,363,500,428,205,333,372,407,436,541,467,620,461,709,524,588,589,594,599,605,609,669,778,631,752,772,647,636,711,729,849,849,854,729,723,852,735,927,950,967,977,971,931,935,907,906,941,997,995,992,999,892,896,912,995,993,996,992,998,877,962,978,990,883,917,954,817,979,821,999,877,826,875,870,879,800,819,800,824,763,789,794,825,765,833,792,862,754,863,853,865,808,891,859,837,920,870,947,812,819,839,814,689,767,897,805,861,813,777,805,747,848,931,848,845,785,865,865,899,892,899,838,890,919,852,810,873,885,902,907,893,838,937,940,919,863,887,960,903,938,942,947,938,908,966,960,924,975,957,963,949,937,975,923,830,850,907,919,932,960,916,940,938,973,915,940,887,959,955,954,949,911,915,893,889,932,930,966,902,948,878,926,928,932,899,877,924,906,898,896,847,908,871,886,933,904,902,926,887,858,925,905,841,873,875,917,891,859,822,936,942,938,906,924,887,944,915,871,900,875,925,164,942,878,906,926,974,859,894,952,921,566,904,873,918,885,840,903,924,861,914,892,398,912,828,876,870,31,849,886,870,905,816,857,886,842,915,887,915,873,795,487,550,826,495,514,501,861,476,521,834,449,469,478,531,504,805,487,808,95,459,438,453,461,424,413,787,459,347,241,494,435,843,821,770,476,842,688,657,804,789,795,806,843,522,851,820,392,748,743,830,390,711,402,312,351,361,318,276,291,271,313,384,284,381,306,292,568,323,261,314,348,535,582,296,771,427,302,336,244,292,569,229,329,298,365,405,394,370,336,348,341,320,334,360,374,328,345,314,302,303,303,330,259,364,281,301,338,356,283,314,377,326,514,270,302,388,345,322,407,361,475,547,300,262,418,337,448,628,283,314,356,494,333,387,373,289,310,523,480,339,460,432,604,304,259,355,505,212,338,279,319,377,401,304,367,544,246,729,323,290,344,436,393,488,273,757,466,328,350,519,413,307,661,580,367,288,325,442,305,387,485,352,560,271,506,330,373,802,232,294,313,783,469,416,699,259,533,830,350,843,335,448,288,322,398,355,299,373,814,317,498,339,271,425,851,678,457,774,740,307,640,383,340,834,513,481,365,284,309,858,256,325,815,538,358,195,793,292,415,343,608,388,463,861,324,832,273,360,495,293,758,436,398,340,848,305,248,558,315,524,802,376,722,332,282,480,829,80,354,451,866,314,780,411,507,329,269,364,815,296,850,582,473,387,868,339,318,365,439,837,294,536,805,348,492,254,128,278,866,316,398,419,376,340,229,310,830,464,510,847,781,297,758,323,350,278,819,432,872,554,372,488,334,341,319,297,356,333,388,304,329,2,360,281,261,251,267,240,242,238,199,182,215,167,185,165,166,148,198,165,215,143,208,214,177,176,151,179,186,129,212,159,190,194,177,190,199,103,228,217,232,217,194,230,201,197,218,142,132,170,112,185,162,146,154,160,130,148,172,209,76,232,230,236,197,201,177,152,123,201,242,221,226,214,181,157,179,195,224,250,140,107,144,169,134,198,176,155,157,85,119,183,136,213,160,157,167,163,111,140,189,190,173,198,149,207,178,225,163,163,128,192,145,114,178,135,208,60,167,193,225,220,145,236,185,96,209,163,180,138,121,234,237,240,253,242,232,224,245,250,227,234,226,254,247,253,255,250,251,256,258,260,259,262,260,254,266,253,262,263,258,264,262,259,259,259,262,270,260,260,268,267,266,263],\"y\":[0.03693410769748605,0.02950565890072772,0.03659388580079572,0.03654694011331058,0.03780927185688956,0.0394110428832288,0.024006979979799066,0.03454623442297158,0.03826173976637384,0.036433943816791194,0.041522422669492146,0.04131477022142686,0.04362394620253716,0.043617225979213074,0.04339865261082951,0.043702796228289695,0.04360893160935133,0.0432735570137575,0.043445371986879006,0.043007080314916686,0.016478841553009393,0.04360525822915029,0.04371697358064655,0.04376835296556982,0.043749756408625315,0.04333191637848008,0.0436234556752871,0.04380381028189539,0.03640595812234979,0.01400613716479738,0.03822558567838665,0.04387137483639633,0.04385864230975724,0.04390049654735531,0.03476588918097434,0.04092732838792521,0.044148636445727155,0.03706749431991632,0.03209564835439163,0.011591760925937264,0.04357808078983646,0.04379978461394221,0.04385834576373801,0.04407368276710715,0.02664175345654471,0.04409705304606093,0.03395454150194877,0.041960781231533836,0.043791258358471294,0.041887212177560584,0.044148536110607775,0.04427531956735329,0.04416902788647253,0.04425917118731959,0.04423339732484115,0.04454130908344809,0.034599044140762536,0.0351619341935386,0.04498923069719356,0.04564349259861089,0.026123542632391486,0.04501886188759169,0.045815864989061414,0.04582322401264476,0.04585618744383831,0.04589327910777384,0.046648907350549156,0.04147025286679578,0.047004881860969336,0.040136277388698786,0.03795062174328781,0.047033718174255966,0.04706022225343587,0.04662457385444997,0.04730033980160257,0.04710087246960237,0.03733892311431149,0.04712724834279667,0.04178191938853411,0.0470467204908823,0.03729530186377906,0.046471053318080775,0.04728495396847546,0.04843907986006404,0.04769853867472737,0.028051728328171495,0.049890490906291725,0.04603569477610609,0.047727137528231385,0.0478646300867101,0.04929765973908228,0.048944583798775025,0.04811644002077834,0.04928062283582542,0.036526392595712706,0.04619822652102311,0.0495917932561403,0.034041091690690126,0.037363637883864154,0.04376502518411324,0.038940388675954084,0.04990843528496086,0.04621956780089785,0.04537196792843485,0.04208870516413552,0.04815071003819207,0.045927074205622864,0.0491778763291599,0.049169851749285315,0.026130944019691776,0.04959505637718693,0.049204049302446054,0.04653824440297099,0.04923222228911028,0.049630018706923754,0.049163671105936585,0.04598442464497911,0.04659938639500214,0.03889954670822616,0.03753201470689754,0.041501527323481016,0.04994933299442155,0.04731299317498052,0.04958215774018373,0.0469154576284774,0.04958890471953923,0.038527291152447664,0.04628601640590519,0.04705453436700623,0.03853470703259859,0.04300299890523063,0.04934406919109634,0.047456965152496595,0.04936614291734233,0.046291718785185655,0.04691905074058289,0.04990779314019738,0.04750510482790124,0.04557724243417271,0.027839313306443386,0.045828794841435455,0.049178870761675396,0.04990601943825513,0.047479724502057466,0.047791412205653895,0.04639345190714603,0.04994261946010584,0.03555692011317694,0.04965573348316518,0.041714290173622895,0.04768739590231192,0.04937826005524956,0.04735551631337386,0.04955581085269061,0.049890490906291725,0.036165744698402495,0.04775906193352281,0.0461564882262297,0.04676283118950449,0.038704727121919094,0.020721504268701677,0.04266998218494037,0.049368361438313337,0.049891370510837627,0.047042289023113325,0.04769802362111488,0.03691360142877094,0.049847380250033324,0.04706535829670938,0.047753553535473406,0.046548871006939496,0.049369569919083554,0.04769689540844034,0.04211797626293863,0.04985111606097521,0.049833714606784874,0.04704128009774709,0.03216165771454326,0.03513438997362186,0.049599267107693364,0.042075960374315144,0.047679371322437436,0.047767542480773,0.04961234634791127,0.04704922775403017,0.04429842340082375,0.04235441820123484,0.04706412751924592,0.04647413026173918,0.047812290829145336,0.04783566556743799,0.04986886980291764,0.049604045289041235,0.04706217767342759,0.047862567642591385,0.04067031886500772,0.04984269348512744,0.046984877267850875,0.0476645573994904,0.032028948911586114,0.046223529923275414,0.04784513162852644,0.0496052058319212,0.047072919105365825,0.04982159969854696,0.03855078406321408,0.04959879664746728,0.037138225004848154,0.04989037384865253,0.04726728606880146,0.04983274470063162,0.04770897575680381,0.04949320731242169,0.047869821871716546,0.04699137229457346,0.04794841214099339,0.049839740288116004,0.04983492308755505,0.03564598202440494,0.04654776174645384,0.03401599899218879,0.047679371322437436,0.049876711549908144,0.0498932412033952,0.04781848930984878,0.043576516676809916,0.04960045329177033,0.0469845718031542,0.04783291638516917,0.04699631212694691,0.04960773316209277,0.049891370510837627,0.049839740288116004,0.042753741942530905,0.04778610224817374,0.04771773501271849,0.047227781902664294,0.04790619446729666,0.049922257005061546,0.047126517011260284,0.03752938815644112,0.04798966994204884,0.04958462152477983,0.04781723735052673,0.049841190688007284,0.04720709837523838,0.04794431623845675,0.04959987246291307,0.046775688577625436,0.0487287150192735,0.03921865363647783,0.04654642171519377,0.04991914550152862,0.04716087510061216,0.03869163450368519,0.03726155358898585,0.046845421485537664,0.04442570853316567,0.047282264987277965,0.046554255658341676,0.04781072448644982,0.0497992662158258,0.03184703799579367,0.04713369766129812,0.04617743262496576,0.04984070350526126,0.048027089367374085,0.04667624644088867,0.047160021137263454,0.04984681168435722,0.04793105305052016,0.04699879374889738,0.035521332361196284,0.04793104078733903,0.04454054319203769,0.04985138027678925,0.046743104190215726,0.04286203475162412,0.03732658969848043,0.04774713877684623,0.04992362602202267,0.036958753347289916,0.04665704118422019,0.0478389844302174,0.0479255413079667,0.04616927872427092,0.04700468565006971,0.047823019997902276,0.048008279877009404,0.02786422094239185,0.04937769817858145,0.04656114310686431,0.04961626499173696,0.04711250353959838,0.047818091313875516,0.047909463162516375,0.050162974334274815,0.04714728861062439,0.04783431215816197,0.04353304927346051,0.041301690981208984,0.04646627290706358,0.042093668408037015,0.050059829831635996,0.05017742928046168,0.04675033277814398,0.01991731605785529,0.04188282864768165,0.04728393389476257,0.044369952307371646,0.04048520279957126,0.04992678211894203,0.0467714611245989,0.04600632891635682,0.047480200536456595,0.050232338231915176,0.04725691030263145,0.047917116502449786,0.027957140181538873,0.0480567762995051,0.04711755262576847,0.049686207488565406,0.048049530989057065,0.04653595118807746,0.04169842719126168,0.04200254070818617,0.04806544302414315,0.0499307397819809,0.046850165107011156,0.04264243462051979,0.047939016314488304,0.03830173891909947,0.04300625756693852,0.04803477169300822,0.04992604967257115,0.039861042548778335,0.03829865194192891,0.0459246204545387,0.04782007237506429,0.03867653964240434,0.046904817646493076,0.04482561198848429,0.050234773030810226,0.0499758002840579,0.04791684671246223,0.047185257649436416,0.05023720114069726,0.04792758479989635,0.0279084743041758,0.04248813369988957,0.03890101494547179,0.048208082774242086,0.0502402490986546,0.04678151804805659,0.050244874547654264,0.04619565013812629,0.04731299763431907,0.048155151539473424,0.04814683821742212,0.035079569094106415,0.04999021844070141,0.04702152188308767,0.050186830681139945,0.047824749106458266,0.04670318084624698,0.04986284189191714,0.043199344700185785,0.0452460807987548,0.04732027861947637,0.02150385955758865,0.03808101169015483,0.039461509218566324,0.05024410977107824,0.04421671939834431,0.040711889934602265,0.046260912559056684,0.04732151051177439,0.047946819042265956,0.028006635495888783,0.047983650949725724,0.05026688472832435,0.047252597007336285,0.043308226141979135,0.043912482134772904,0.04999271232583328,0.050256474402279865,0.04784084062992422,0.04664311021032273,0.05027369636809012,0.04706450656302998,0.03648499432549027,0.04733004903042649,0.04822117204797194,0.04315358408194302,0.05024410977107824,0.050242880108449496,0.04075289020885151,0.047252773151212145,0.04293838531807183,0.041376904416304566,0.04895781019716825,0.034788033141803586,0.04185713059396017,0.04878155706726952,0.00028209999175022335,0.048597933765441303,0.0487910521140591,0.00028209999175022335,0.04882828759166541,0.00028209999175022335,0.028506588672833684,0.04881006227466208,0.04885276490143535,0.0487750408586884,0.041791421124331526,0.04860345442667228,0.00028209999175022335,0.00028209999175022335,0.04874261812230436,0.041512108219228315,0.00028209999175022335,0.04298627081117441,0.04499553174268527,0.00028209999175022335,0.014529632305233074,0.04871506386887579,0.00028209999175022335,0.04872931145581623,0.04864581368437048,0.00028209999175022335,0.04885928556935519,0.04874426584793011,0.00028209999175022335,0.048823106955005774,0.04883078482130113,0.04877147227294537,0.040976274088788144,0.00028209999175022335,0.04885410047335713,0.048751817737909375,0.00028209999175022335,0.04014466540467225,0.048799792417784864,0.00028209999175022335,0.04893435184627561,0.048665007792692436,0.00028209999175022335,0.04859417342813724,0.04882810698845047,0.04511204980189243,0.04509610766627008,0.00028209999175022335,0.00028209999175022335,0.038064981482594996,0.042910652691097624,0.00028209999175022335,0.04265200436123149,0.04880828188371183,0.04404566028312178,0.048800561653699226,0.04879377676996519,0.00028209999175022335,0.04893460937308202,0.04889354778292603,0.00028209999175022335,0.04321814527187332,0.04446097521276453,0.0490939259348427,0.04886683411483058,0.00028209999175022335,0.00028209999175022335,0.04903386979176919,0.00028209999175022335,0.04867334118176733,0.034494375659144934,0.04924621011957545,0.04930018149508038,0.048607454453428296,0.00028209999175022335,0.00028209999175022335,0.04841987906273442,0.04858919569138523,0.04267829104765305,0.00028209999175022335,0.039325401284734024,0.04087593451015122,0.048603843503968014,0.04293730281361824,0.04773155673281921,0.00028209999175022335,0.04929693286688461,0.04471223553334623,0.034200931109905894,0.04918416288180113,0.047654230686045435,0.00028209999175022335,0.04849309805862525,0.04948125294037464,0.04941583555742689,0.047599735338250355,0.00028209999175022335,0.048489839396917395,0.049406298146920054,0.042158245205651784,0.04827348566433931,0.047596452150179956,0.00028209999175022335,0.040494266405347965,0.04325721019315453,0.0412346370209819,0.04934878605653808,0.04451252516739061,0.04959732952505643,0.00028209999175022335,0.047590941522461065,0.048341058022682945,0.04940803394448374,0.04956472618545775,0.00028209999175022335,0.028335109264944706,0.04828541551002376,0.0495127269524639,0.04756424011754668,0.00028209999175022335,0.049441751003907033,0.04829822830475835,0.04760112999640838,0.00028209999175022335,0.04921266697435913,0.03858161035636673,0.04956969611836693,0.04905556893356988,0.04755193122807794,0.04958797494743398,0.04950411373988958,0.01577179891950238,0.00028209999175022335,0.047688533033664084,0.04961715017045649,0.04818482620842294,0.00028209999175022335,0.04919396896746053,0.04826015893082719,0.00028209999175022335,0.04765343692376816,0.04932080928077356,0.04831929867981105,0.04421155659903911,0.03876327377886464,0.048228187702480066,0.00028209999175022335,0.0493105873617864,0.04205334372359111,0.038777900409588735,0.04848251270353919,0.04982875582222217,0.04829151254077328,0.04398139340954174,0.04095023378082638,0.00028209999175022335,0.049566543365951704,0.04843801853746874,0.0491689520777156,0.00028209999175022335,0.04773450324082276,0.041523389231141586,0.04917590864598698,0.042786055425118166,0.04916852844054531,0.00028209999175022335,0.047877797398866065,0.00028209999175022335,0.048313802544942906,0.049451958430043595,0.03759886019304348,0.02829481245136515,0.04769446729855308,0.04915264985049877,0.00028209999175022335,0.04846619598347187,0.049175167280938806,0.0478032573239045,0.00028209999175022335,0.04511283464549178,0.04948785499122454,0.04819976945219049,0.031686913178905665,0.047631124622905384,0.00028209999175022335,0.04481447924958075,0.04950422187885134,0.04822362802872529,0.03911443108872375,0.04316793423367208,0.049351859655692554,0.04240938066475178,0.00028209999175022335,0.043069676051343264,0.04460478553925493,0.047653878398293034,0.04389856899823021,0.00028209999175022335,0.028555019320084404,0.04854322548422667,0.04960889036046897,0.047381241123127256,0.04824231711694638,0.04959689696920893,0.04851073920226701,0.04967772359681166,0.00028209999175022335,0.047722971391111084,0.04865533771686146,0.00028209999175022335,0.04798310356590802,0.04958225473079902,0.047666746934760404,0.03916964996421232,0.05005008840638668,0.04214939341846043,0.04323230924621437,0.04807125577205463,0.04863054267921352,0.04909820132575966,0.03843068961442184,0.00028209999175022335,0.00028209999175022335,0.02155155664363378,0.04860902302579345,0.0435604206940052,0.052626311881683006,0.049724551111822966,0.051818006586441236,0.050701238804271125,0.048644753476609986,0.04935915847820435,0.050350607696370994,0.04968248059630106,0.04838935488977447,0.050117765559188246,0.04871343732510851,0.050382748379585715,0.04935872146301822,0.04104200251060634,0.0486698127300722,0.04561238759679369,0.050531984606361414,0.04216271123329563,0.04985676715786119,0.04886868362552955,0.05049392192143782,0.049520055875511386,0.04821242839974197,0.050332921959342684,0.0429333395764058,0.04957152333237289,0.04897957734388234,0.04971099360753635,0.050223083989411756,0.05050528097177756,0.04859295825835886,0.04955309288579242,0.04878033186397923,0.04018903805376467,0.050654360006865476,0.049312421264800434,0.04981851160654202,0.04202984746832023,0.04930680584262383,0.04290557796373045,0.05074642082332579,0.048619498012248206,0.04230157169390076,0.05067727097393988,0.04874336729119517,0.04389597477797906,0.049692916563542765,0.04851328659946238,0.05040179978907181,0.04930206445081966,0.05027335857318814,0.04875147102433077,0.04979257609303768,0.048305456892686324,0.05006376742765132,0.04973240623682948,0.048935301685405275,0.050451072136489666,0.047868196442783555,0.04921817648724349,0.05045702981290688,0.03996983034446027,0.04939456005279679,0.048479631970780486,0.04298440234828629,0.04808909535626575,0.04953953872601,0.05049344811670836,0.04903639377743721,0.04827893386131705,0.050523480647583045,0.04909075645990791,0.05005293569410536,0.04814246249138601,0.048638511517354995,0.04855058004847117,0.05053528340211674,0.048840976639752884,0.04965451608371814,0.04386794003081227,0.05000953741050483,0.04936362004650911,0.04796297299647297,0.050312121374277076,0.04875038963471155,0.043696731527745745,0.041868994664399535,0.04999856855229645,0.04199068109708506,0.049273162362288424,0.050481992075753504,0.04898709021464862,0.05033109920467511,0.0483887294675308,0.04894501969912661,0.04962143782455451,0.05030388274614801,0.04278980572891068,0.048247994969864164,0.04931036662452433,0.048743714004774175,0.05012226280220206,0.04859237965917093,0.04882491410198775,0.05037390216656764,0.04821405048417079,0.04854059112992764,0.04946756834493704,0.05033209809652946,0.04311356151768967,0.04104574389572121,0.050255572501040825,0.042754507833941566,0.048862861958941024,0.05017601344044504,0.04823507738067171,0.050528034747164864,0.04824195256601335,0.049099874692582826,0.0499284889308049,0.04883171347857208,0.04999275580438512,0.01402994668860692,0.048532729315913285,0.05059691815106729,0.05036702475155742,0.049366850837350526,0.05067575479880408,0.05088757561365922,0.050511639988671454,0.03784772138943917,0.049307909528936315,0.041829744680564766,0.05116914271444215,0.0511316530545336,0.04207480763527811,0.05098036887649011,0.04363133867116011,0.051032160750237504,0.051236910168851235,0.05110989148199264,0.050973673179529166,0.0513741496598623,0.05118378718252129,0.05128140433492136,0.05139488112517869,0.05133242362824997,0.036949336338926345,0.03998725743984765,0.05157995148239397,0.051697421610399405,0.05182694310106681,0.05174920122096507,0.05175721465249298,0.051679706887670054,0.04200877151909436,0.051847131641904194,0.05232414152156927,0.04413143566177556,0.052011984472580854,0.052282497987721846,0.05229262737543238,0.00028209999175022335,0.00028209999175022335,0.05202095108774209,0.05220703482966248,0.0523269230340431,0.05282907577976931,0.04475008194034522,0.00028209999175022335],\"type\":\"scatter\",\"xaxis\":\"x5\",\"yaxis\":\"y5\"},{\"marker\":{\"color\":[0,1,2,3,4,5,6,7,8,9,10,11,12,13,14,15,16,17,18,19,20,21,22,23,24,25,26,27,28,29,30,31,32,33,34,35,36,37,38,39,40,41,42,43,44,45,46,47,48,49,50,51,52,53,54,55,56,57,58,59,60,61,62,63,64,65,66,67,68,69,70,71,72,73,74,75,76,77,78,79,80,81,82,83,84,85,86,87,88,89,90,91,92,93,94,95,96,97,98,99,100,101,102,103,104,105,106,107,108,109,110,111,112,113,114,115,116,117,118,119,120,121,122,123,124,125,126,127,128,129,130,131,132,133,134,135,136,137,138,139,140,141,142,143,144,145,146,147,148,149,150,151,152,153,154,155,156,157,158,159,160,161,162,163,164,165,166,167,168,169,170,171,172,173,174,175,176,177,178,179,180,181,182,183,184,185,186,187,188,189,190,191,192,193,194,195,196,197,198,199,200,201,202,203,204,205,206,207,208,209,210,211,212,213,214,215,216,217,218,219,220,221,222,223,224,225,226,227,228,229,230,231,232,233,234,235,236,237,238,239,240,241,242,243,244,245,246,247,248,249,250,251,252,253,254,255,256,257,258,259,260,261,262,263,264,265,266,267,268,269,270,271,272,273,274,275,276,277,278,279,280,281,282,283,284,285,286,287,288,289,290,291,292,293,294,295,296,297,298,299,300,301,302,303,304,305,306,307,308,309,310,311,312,313,314,315,316,317,318,319,320,321,322,323,324,325,326,327,328,329,330,331,332,333,334,335,336,337,338,339,340,341,342,343,344,345,346,347,348,349,350,351,352,353,354,355,356,357,358,359,360,361,362,363,364,365,366,367,368,369,370,371,372,373,374,375,376,377,378,379,380,381,382,383,384,385,386,387,388,389,390,391,392,393,394,395,396,397,398,399,400,401,402,403,404,405,406,407,408,409,410,411,412,413,414,415,416,417,418,419,420,421,422,423,424,425,426,427,428,429,430,431,432,433,434,435,436,437,438,439,440,441,442,443,444,445,446,447,448,449,450,451,452,453,454,455,456,457,458,459,460,461,462,463,464,465,466,467,468,469,470,471,472,473,474,475,476,477,478,479,480,481,482,483,484,485,486,487,488,489,490,491,492,493,494,495,496,497,498,499,500,501,502,503,504,505,506,507,508,509,510,511,512,513,514,515,516,517,518,519,520,521,522,523,524,525,526,527,528,529,530,531,532,533,534,535,536,537,538,539,540,541,542,543,544,545,546,547,548,549,550,551,552,553,554,555,556,557,558,559,560,561,562,563,564,565,566,567,568,569,570,571,572,573,574,575,576,577,578,579,580,581,582,583,584,585,586,587,588,589,590,591,592,593,594,595,596,597,598,599,600,601,602,603,604,605,606,607,608,609,610,611,612,613,614,615,616,617,618,619,620,621,622,623,624,625,626,627,628,629,630,631,632,633,634,635,636,637,638,639,640,641,642,643,644,645,646,647,648,649,650,651,652,653,654,655,656,657,658,659,660,661,662,663,664,665,666,667,668,669,670,671,672,673,674,675,676,677,678,679,680,681,682,683,684,685,686,687,688,689,690,691,692,693,694,695,696,697,698,699,700,701,702,703,704,705,706,707,708,709,710,711,712,713,714,715,716,717,718,719,720,721,722,723,724,725,726,727,728,729,730,731,732,733,734,735,736,737,738,739,740,741,742,743,744,745,746,747,748,749,750,751,752,753,754,755,756,757,758,759,760,761,762,763,764,765,766,767,768,769,770,771,772,773,774,775,776,777,778,779,780,781,782,783,784,785,786,787,788,789,790,791,792,793,794,795,796,797,798,799],\"colorbar\":{\"title\":{\"text\":\"Trial\"},\"x\":1.0,\"xpad\":40},\"colorscale\":[[0.0,\"rgb(247,251,255)\"],[0.125,\"rgb(222,235,247)\"],[0.25,\"rgb(198,219,239)\"],[0.375,\"rgb(158,202,225)\"],[0.5,\"rgb(107,174,214)\"],[0.625,\"rgb(66,146,198)\"],[0.75,\"rgb(33,113,181)\"],[0.875,\"rgb(8,81,156)\"],[1.0,\"rgb(8,48,107)\"]],\"line\":{\"color\":\"Grey\",\"width\":0.5},\"showscale\":false},\"mode\":\"markers\",\"name\":\"Feasible Trial\",\"showlegend\":false,\"x\":[\"jaccard\",\"tversky\",\"asymmetric\",\"asymmetric\",\"dice\",\"dice\",\"euclidean\",\"asymmetric\",\"dice\",\"tversky\",\"dice\",\"dice\",\"cosine\",\"cosine\",\"cosine\",\"cosine\",\"cosine\",\"cosine\",\"cosine\",\"jaccard\",\"euclidean\",\"cosine\",\"cosine\",\"cosine\",\"cosine\",\"cosine\",\"cosine\",\"cosine\",\"jaccard\",\"euclidean\",\"tversky\",\"cosine\",\"cosine\",\"cosine\",\"jaccard\",\"asymmetric\",\"cosine\",\"tversky\",\"cosine\",\"asymmetric\",\"cosine\",\"cosine\",\"cosine\",\"cosine\",\"euclidean\",\"cosine\",\"dice\",\"tversky\",\"cosine\",\"asymmetric\",\"cosine\",\"cosine\",\"cosine\",\"cosine\",\"cosine\",\"cosine\",\"dice\",\"jaccard\",\"cosine\",\"cosine\",\"euclidean\",\"cosine\",\"cosine\",\"cosine\",\"cosine\",\"cosine\",\"cosine\",\"cosine\",\"cosine\",\"dice\",\"tversky\",\"cosine\",\"cosine\",\"cosine\",\"cosine\",\"cosine\",\"jaccard\",\"cosine\",\"asymmetric\",\"cosine\",\"cosine\",\"cosine\",\"cosine\",\"cosine\",\"cosine\",\"euclidean\",\"cosine\",\"cosine\",\"cosine\",\"cosine\",\"cosine\",\"cosine\",\"cosine\",\"cosine\",\"tversky\",\"cosine\",\"cosine\",\"asymmetric\",\"cosine\",\"jaccard\",\"dice\",\"cosine\",\"cosine\",\"cosine\",\"cosine\",\"cosine\",\"cosine\",\"cosine\",\"cosine\",\"euclidean\",\"cosine\",\"cosine\",\"cosine\",\"cosine\",\"cosine\",\"cosine\",\"cosine\",\"cosine\",\"tversky\",\"cosine\",\"cosine\",\"cosine\",\"cosine\",\"cosine\",\"cosine\",\"cosine\",\"dice\",\"cosine\",\"asymmetric\",\"jaccard\",\"cosine\",\"cosine\",\"cosine\",\"cosine\",\"cosine\",\"cosine\",\"cosine\",\"cosine\",\"cosine\",\"euclidean\",\"cosine\",\"cosine\",\"cosine\",\"cosine\",\"cosine\",\"cosine\",\"cosine\",\"cosine\",\"cosine\",\"cosine\",\"cosine\",\"cosine\",\"cosine\",\"cosine\",\"cosine\",\"tversky\",\"cosine\",\"cosine\",\"cosine\",\"dice\",\"asymmetric\",\"cosine\",\"cosine\",\"cosine\",\"cosine\",\"cosine\",\"jaccard\",\"cosine\",\"cosine\",\"cosine\",\"cosine\",\"cosine\",\"cosine\",\"cosine\",\"cosine\",\"cosine\",\"cosine\",\"euclidean\",\"cosine\",\"cosine\",\"cosine\",\"cosine\",\"cosine\",\"cosine\",\"cosine\",\"cosine\",\"cosine\",\"cosine\",\"cosine\",\"cosine\",\"cosine\",\"cosine\",\"cosine\",\"cosine\",\"cosine\",\"tversky\",\"cosine\",\"cosine\",\"cosine\",\"asymmetric\",\"cosine\",\"cosine\",\"cosine\",\"cosine\",\"cosine\",\"dice\",\"cosine\",\"jaccard\",\"cosine\",\"cosine\",\"cosine\",\"cosine\",\"cosine\",\"cosine\",\"cosine\",\"cosine\",\"cosine\",\"cosine\",\"cosine\",\"cosine\",\"euclidean\",\"cosine\",\"cosine\",\"cosine\",\"cosine\",\"cosine\",\"cosine\",\"cosine\",\"cosine\",\"cosine\",\"cosine\",\"cosine\",\"cosine\",\"cosine\",\"cosine\",\"cosine\",\"cosine\",\"cosine\",\"cosine\",\"cosine\",\"tversky\",\"cosine\",\"cosine\",\"cosine\",\"cosine\",\"cosine\",\"cosine\",\"cosine\",\"cosine\",\"asymmetric\",\"dice\",\"cosine\",\"cosine\",\"cosine\",\"jaccard\",\"cosine\",\"cosine\",\"cosine\",\"cosine\",\"cosine\",\"cosine\",\"cosine\",\"euclidean\",\"cosine\",\"cosine\",\"cosine\",\"cosine\",\"cosine\",\"cosine\",\"cosine\",\"cosine\",\"cosine\",\"tversky\",\"cosine\",\"cosine\",\"cosine\",\"cosine\",\"asymmetric\",\"cosine\",\"dice\",\"cosine\",\"jaccard\",\"cosine\",\"cosine\",\"cosine\",\"cosine\",\"cosine\",\"cosine\",\"cosine\",\"euclidean\",\"cosine\",\"cosine\",\"cosine\",\"cosine\",\"cosine\",\"cosine\",\"cosine\",\"cosine\",\"cosine\",\"cosine\",\"tversky\",\"cosine\",\"cosine\",\"cosine\",\"cosine\",\"cosine\",\"asymmetric\",\"dice\",\"cosine\",\"cosine\",\"jaccard\",\"cosine\",\"cosine\",\"cosine\",\"cosine\",\"cosine\",\"cosine\",\"cosine\",\"euclidean\",\"cosine\",\"cosine\",\"cosine\",\"cosine\",\"cosine\",\"cosine\",\"cosine\",\"cosine\",\"cosine\",\"cosine\",\"cosine\",\"cosine\",\"tversky\",\"cosine\",\"cosine\",\"cosine\",\"asymmetric\",\"dice\",\"cosine\",\"cosine\",\"jaccard\",\"cosine\",\"cosine\",\"cosine\",\"cosine\",\"cosine\",\"cosine\",\"cosine\",\"cosine\",\"euclidean\",\"cosine\",\"cosine\",\"cosine\",\"cosine\",\"cosine\",\"cosine\",\"cosine\",\"cosine\",\"cosine\",\"cosine\",\"tversky\",\"cosine\",\"cosine\",\"cosine\",\"cosine\",\"cosine\",\"cosine\",\"dice\",\"cosine\",\"cosine\",\"asymmetric\",\"jaccard\",\"cosine\",\"cosine\",\"cosine\",\"cosine\",\"cosine\",\"cosine\",\"cosine\",\"euclidean\",\"cosine\",\"cosine\",\"cosine\",\"cosine\",\"cosine\",\"cosine\",\"cosine\",\"cosine\",\"cosine\",\"cosine\",\"cosine\",\"tversky\",\"cosine\",\"cosine\",\"cosine\",\"cosine\",\"cosine\",\"cosine\",\"asymmetric\",\"dice\",\"cosine\",\"cosine\",\"jaccard\",\"cosine\",\"cosine\",\"cosine\",\"cosine\",\"cosine\",\"cosine\",\"cosine\",\"cosine\",\"euclidean\",\"cosine\",\"cosine\",\"cosine\",\"cosine\",\"cosine\",\"cosine\",\"cosine\",\"cosine\",\"tversky\",\"cosine\",\"cosine\",\"cosine\",\"cosine\",\"asymmetric\",\"cosine\",\"dice\",\"cosine\",\"cosine\",\"jaccard\",\"cosine\",\"cosine\",\"cosine\",\"cosine\",\"cosine\",\"cosine\",\"euclidean\",\"cosine\",\"cosine\",\"cosine\",\"cosine\",\"cosine\",\"cosine\",\"cosine\",\"cosine\",\"cosine\",\"cosine\",\"cosine\",\"cosine\",\"tversky\",\"cosine\",\"cosine\",\"cosine\",\"asymmetric\",\"dice\",\"cosine\",\"jaccard\",\"cosine\",\"cosine\",\"cosine\",\"cosine\",\"cosine\",\"cosine\",\"cosine\",\"euclidean\",\"cosine\",\"cosine\",\"cosine\",\"cosine\",\"cosine\",\"cosine\",\"cosine\",\"cosine\",\"cosine\",\"tversky\",\"cosine\",\"cosine\",\"cosine\",\"cosine\",\"cosine\",\"asymmetric\",\"cosine\",\"dice\",\"cosine\",\"jaccard\",\"cosine\",\"cosine\",\"cosine\",\"cosine\",\"cosine\",\"cosine\",\"cosine\",\"euclidean\",\"cosine\",\"cosine\",\"cosine\",\"cosine\",\"cosine\",\"cosine\",\"cosine\",\"cosine\",\"cosine\",\"cosine\",\"tversky\",\"cosine\",\"cosine\",\"cosine\",\"cosine\",\"dice\",\"cosine\",\"cosine\",\"asymmetric\",\"cosine\",\"cosine\",\"cosine\",\"cosine\",\"cosine\",\"cosine\",\"jaccard\",\"euclidean\",\"cosine\",\"cosine\",\"cosine\",\"cosine\",\"cosine\",\"cosine\",\"cosine\",\"cosine\",\"cosine\",\"cosine\",\"cosine\",\"tversky\",\"cosine\",\"cosine\",\"cosine\",\"asymmetric\",\"dice\",\"cosine\",\"cosine\",\"cosine\",\"jaccard\",\"cosine\",\"cosine\",\"cosine\",\"cosine\",\"cosine\",\"cosine\",\"cosine\",\"euclidean\",\"cosine\",\"cosine\",\"cosine\",\"cosine\",\"cosine\",\"cosine\",\"cosine\",\"cosine\",\"cosine\",\"tversky\",\"cosine\",\"cosine\",\"cosine\",\"cosine\",\"asymmetric\",\"cosine\",\"dice\",\"cosine\",\"jaccard\",\"cosine\",\"cosine\",\"cosine\",\"cosine\",\"cosine\",\"cosine\",\"cosine\",\"euclidean\",\"cosine\",\"cosine\",\"cosine\",\"cosine\",\"cosine\",\"cosine\",\"cosine\",\"cosine\",\"cosine\",\"cosine\",\"tversky\",\"cosine\",\"cosine\",\"cosine\",\"cosine\",\"cosine\",\"asymmetric\",\"dice\",\"cosine\",\"jaccard\",\"cosine\",\"cosine\",\"cosine\",\"cosine\",\"cosine\",\"cosine\",\"euclidean\",\"cosine\",\"cosine\",\"cosine\",\"cosine\",\"cosine\",\"cosine\",\"cosine\",\"cosine\",\"cosine\",\"cosine\",\"tversky\",\"cosine\",\"cosine\",\"cosine\",\"cosine\",\"asymmetric\",\"dice\",\"asymmetric\",\"asymmetric\",\"asymmetric\",\"asymmetric\",\"asymmetric\",\"asymmetric\",\"asymmetric\",\"asymmetric\",\"asymmetric\",\"asymmetric\",\"asymmetric\",\"asymmetric\",\"asymmetric\",\"asymmetric\",\"asymmetric\",\"asymmetric\",\"asymmetric\",\"asymmetric\",\"asymmetric\",\"asymmetric\",\"asymmetric\",\"asymmetric\",\"asymmetric\",\"asymmetric\",\"asymmetric\",\"asymmetric\",\"asymmetric\",\"asymmetric\",\"asymmetric\",\"asymmetric\",\"asymmetric\",\"asymmetric\",\"asymmetric\",\"asymmetric\",\"asymmetric\",\"asymmetric\",\"asymmetric\",\"asymmetric\",\"asymmetric\",\"asymmetric\",\"asymmetric\",\"asymmetric\",\"asymmetric\",\"asymmetric\",\"asymmetric\",\"asymmetric\",\"asymmetric\",\"asymmetric\",\"asymmetric\",\"asymmetric\",\"asymmetric\",\"asymmetric\",\"asymmetric\",\"asymmetric\",\"asymmetric\",\"asymmetric\",\"asymmetric\",\"asymmetric\",\"asymmetric\",\"asymmetric\",\"asymmetric\",\"asymmetric\",\"asymmetric\",\"asymmetric\",\"asymmetric\",\"asymmetric\",\"asymmetric\",\"asymmetric\",\"asymmetric\",\"asymmetric\",\"asymmetric\",\"asymmetric\",\"asymmetric\",\"asymmetric\",\"asymmetric\",\"asymmetric\",\"asymmetric\",\"asymmetric\",\"asymmetric\",\"asymmetric\",\"asymmetric\",\"asymmetric\",\"asymmetric\",\"asymmetric\",\"asymmetric\",\"asymmetric\",\"asymmetric\",\"asymmetric\",\"asymmetric\",\"asymmetric\",\"asymmetric\",\"asymmetric\",\"asymmetric\",\"asymmetric\",\"asymmetric\",\"asymmetric\",\"asymmetric\",\"asymmetric\",\"asymmetric\",\"asymmetric\",\"asymmetric\",\"asymmetric\",\"asymmetric\",\"asymmetric\",\"asymmetric\",\"asymmetric\",\"asymmetric\",\"asymmetric\",\"asymmetric\",\"asymmetric\",\"asymmetric\",\"asymmetric\",\"asymmetric\",\"asymmetric\",\"asymmetric\",\"asymmetric\",\"asymmetric\",\"asymmetric\",\"asymmetric\",\"asymmetric\",\"asymmetric\",\"asymmetric\",\"asymmetric\",\"asymmetric\",\"asymmetric\",\"asymmetric\",\"asymmetric\",\"asymmetric\",\"asymmetric\",\"asymmetric\",\"asymmetric\",\"asymmetric\",\"asymmetric\",\"asymmetric\",\"asymmetric\",\"asymmetric\",\"asymmetric\",\"asymmetric\",\"asymmetric\",\"asymmetric\",\"asymmetric\",\"asymmetric\",\"asymmetric\",\"asymmetric\",\"asymmetric\",\"asymmetric\",\"asymmetric\",\"asymmetric\",\"asymmetric\",\"asymmetric\",\"asymmetric\",\"asymmetric\",\"asymmetric\",\"asymmetric\",\"asymmetric\",\"asymmetric\",\"asymmetric\",\"asymmetric\",\"asymmetric\",\"asymmetric\",\"asymmetric\",\"asymmetric\",\"asymmetric\",\"asymmetric\",\"asymmetric\",\"asymmetric\",\"asymmetric\",\"asymmetric\",\"asymmetric\",\"asymmetric\",\"asymmetric\",\"asymmetric\",\"asymmetric\",\"asymmetric\",\"asymmetric\",\"asymmetric\",\"asymmetric\",\"asymmetric\",\"asymmetric\",\"asymmetric\"],\"y\":[0.03693410769748605,0.02950565890072772,0.03659388580079572,0.03654694011331058,0.03780927185688956,0.0394110428832288,0.024006979979799066,0.03454623442297158,0.03826173976637384,0.036433943816791194,0.041522422669492146,0.04131477022142686,0.04362394620253716,0.043617225979213074,0.04339865261082951,0.043702796228289695,0.04360893160935133,0.0432735570137575,0.043445371986879006,0.043007080314916686,0.016478841553009393,0.04360525822915029,0.04371697358064655,0.04376835296556982,0.043749756408625315,0.04333191637848008,0.0436234556752871,0.04380381028189539,0.03640595812234979,0.01400613716479738,0.03822558567838665,0.04387137483639633,0.04385864230975724,0.04390049654735531,0.03476588918097434,0.04092732838792521,0.044148636445727155,0.03706749431991632,0.03209564835439163,0.011591760925937264,0.04357808078983646,0.04379978461394221,0.04385834576373801,0.04407368276710715,0.02664175345654471,0.04409705304606093,0.03395454150194877,0.041960781231533836,0.043791258358471294,0.041887212177560584,0.044148536110607775,0.04427531956735329,0.04416902788647253,0.04425917118731959,0.04423339732484115,0.04454130908344809,0.034599044140762536,0.0351619341935386,0.04498923069719356,0.04564349259861089,0.026123542632391486,0.04501886188759169,0.045815864989061414,0.04582322401264476,0.04585618744383831,0.04589327910777384,0.046648907350549156,0.04147025286679578,0.047004881860969336,0.040136277388698786,0.03795062174328781,0.047033718174255966,0.04706022225343587,0.04662457385444997,0.04730033980160257,0.04710087246960237,0.03733892311431149,0.04712724834279667,0.04178191938853411,0.0470467204908823,0.03729530186377906,0.046471053318080775,0.04728495396847546,0.04843907986006404,0.04769853867472737,0.028051728328171495,0.049890490906291725,0.04603569477610609,0.047727137528231385,0.0478646300867101,0.04929765973908228,0.048944583798775025,0.04811644002077834,0.04928062283582542,0.036526392595712706,0.04619822652102311,0.0495917932561403,0.034041091690690126,0.037363637883864154,0.04376502518411324,0.038940388675954084,0.04990843528496086,0.04621956780089785,0.04537196792843485,0.04208870516413552,0.04815071003819207,0.045927074205622864,0.0491778763291599,0.049169851749285315,0.026130944019691776,0.04959505637718693,0.049204049302446054,0.04653824440297099,0.04923222228911028,0.049630018706923754,0.049163671105936585,0.04598442464497911,0.04659938639500214,0.03889954670822616,0.03753201470689754,0.041501527323481016,0.04994933299442155,0.04731299317498052,0.04958215774018373,0.0469154576284774,0.04958890471953923,0.038527291152447664,0.04628601640590519,0.04705453436700623,0.03853470703259859,0.04300299890523063,0.04934406919109634,0.047456965152496595,0.04936614291734233,0.046291718785185655,0.04691905074058289,0.04990779314019738,0.04750510482790124,0.04557724243417271,0.027839313306443386,0.045828794841435455,0.049178870761675396,0.04990601943825513,0.047479724502057466,0.047791412205653895,0.04639345190714603,0.04994261946010584,0.03555692011317694,0.04965573348316518,0.041714290173622895,0.04768739590231192,0.04937826005524956,0.04735551631337386,0.04955581085269061,0.049890490906291725,0.036165744698402495,0.04775906193352281,0.0461564882262297,0.04676283118950449,0.038704727121919094,0.020721504268701677,0.04266998218494037,0.049368361438313337,0.049891370510837627,0.047042289023113325,0.04769802362111488,0.03691360142877094,0.049847380250033324,0.04706535829670938,0.047753553535473406,0.046548871006939496,0.049369569919083554,0.04769689540844034,0.04211797626293863,0.04985111606097521,0.049833714606784874,0.04704128009774709,0.03216165771454326,0.03513438997362186,0.049599267107693364,0.042075960374315144,0.047679371322437436,0.047767542480773,0.04961234634791127,0.04704922775403017,0.04429842340082375,0.04235441820123484,0.04706412751924592,0.04647413026173918,0.047812290829145336,0.04783566556743799,0.04986886980291764,0.049604045289041235,0.04706217767342759,0.047862567642591385,0.04067031886500772,0.04984269348512744,0.046984877267850875,0.0476645573994904,0.032028948911586114,0.046223529923275414,0.04784513162852644,0.0496052058319212,0.047072919105365825,0.04982159969854696,0.03855078406321408,0.04959879664746728,0.037138225004848154,0.04989037384865253,0.04726728606880146,0.04983274470063162,0.04770897575680381,0.04949320731242169,0.047869821871716546,0.04699137229457346,0.04794841214099339,0.049839740288116004,0.04983492308755505,0.03564598202440494,0.04654776174645384,0.03401599899218879,0.047679371322437436,0.049876711549908144,0.0498932412033952,0.04781848930984878,0.043576516676809916,0.04960045329177033,0.0469845718031542,0.04783291638516917,0.04699631212694691,0.04960773316209277,0.049891370510837627,0.049839740288116004,0.042753741942530905,0.04778610224817374,0.04771773501271849,0.047227781902664294,0.04790619446729666,0.049922257005061546,0.047126517011260284,0.03752938815644112,0.04798966994204884,0.04958462152477983,0.04781723735052673,0.049841190688007284,0.04720709837523838,0.04794431623845675,0.04959987246291307,0.046775688577625436,0.0487287150192735,0.03921865363647783,0.04654642171519377,0.04991914550152862,0.04716087510061216,0.03869163450368519,0.03726155358898585,0.046845421485537664,0.04442570853316567,0.047282264987277965,0.046554255658341676,0.04781072448644982,0.0497992662158258,0.03184703799579367,0.04713369766129812,0.04617743262496576,0.04984070350526126,0.048027089367374085,0.04667624644088867,0.047160021137263454,0.04984681168435722,0.04793105305052016,0.04699879374889738,0.035521332361196284,0.04793104078733903,0.04454054319203769,0.04985138027678925,0.046743104190215726,0.04286203475162412,0.03732658969848043,0.04774713877684623,0.04992362602202267,0.036958753347289916,0.04665704118422019,0.0478389844302174,0.0479255413079667,0.04616927872427092,0.04700468565006971,0.047823019997902276,0.048008279877009404,0.02786422094239185,0.04937769817858145,0.04656114310686431,0.04961626499173696,0.04711250353959838,0.047818091313875516,0.047909463162516375,0.050162974334274815,0.04714728861062439,0.04783431215816197,0.04353304927346051,0.041301690981208984,0.04646627290706358,0.042093668408037015,0.050059829831635996,0.05017742928046168,0.04675033277814398,0.01991731605785529,0.04188282864768165,0.04728393389476257,0.044369952307371646,0.04048520279957126,0.04992678211894203,0.0467714611245989,0.04600632891635682,0.047480200536456595,0.050232338231915176,0.04725691030263145,0.047917116502449786,0.027957140181538873,0.0480567762995051,0.04711755262576847,0.049686207488565406,0.048049530989057065,0.04653595118807746,0.04169842719126168,0.04200254070818617,0.04806544302414315,0.0499307397819809,0.046850165107011156,0.04264243462051979,0.047939016314488304,0.03830173891909947,0.04300625756693852,0.04803477169300822,0.04992604967257115,0.039861042548778335,0.03829865194192891,0.0459246204545387,0.04782007237506429,0.03867653964240434,0.046904817646493076,0.04482561198848429,0.050234773030810226,0.0499758002840579,0.04791684671246223,0.047185257649436416,0.05023720114069726,0.04792758479989635,0.0279084743041758,0.04248813369988957,0.03890101494547179,0.048208082774242086,0.0502402490986546,0.04678151804805659,0.050244874547654264,0.04619565013812629,0.04731299763431907,0.048155151539473424,0.04814683821742212,0.035079569094106415,0.04999021844070141,0.04702152188308767,0.050186830681139945,0.047824749106458266,0.04670318084624698,0.04986284189191714,0.043199344700185785,0.0452460807987548,0.04732027861947637,0.02150385955758865,0.03808101169015483,0.039461509218566324,0.05024410977107824,0.04421671939834431,0.040711889934602265,0.046260912559056684,0.04732151051177439,0.047946819042265956,0.028006635495888783,0.047983650949725724,0.05026688472832435,0.047252597007336285,0.043308226141979135,0.043912482134772904,0.04999271232583328,0.050256474402279865,0.04784084062992422,0.04664311021032273,0.05027369636809012,0.04706450656302998,0.03648499432549027,0.04733004903042649,0.04822117204797194,0.04315358408194302,0.05024410977107824,0.050242880108449496,0.04075289020885151,0.047252773151212145,0.04293838531807183,0.041376904416304566,0.04895781019716825,0.034788033141803586,0.04185713059396017,0.04878155706726952,0.00028209999175022335,0.048597933765441303,0.0487910521140591,0.00028209999175022335,0.04882828759166541,0.00028209999175022335,0.028506588672833684,0.04881006227466208,0.04885276490143535,0.0487750408586884,0.041791421124331526,0.04860345442667228,0.00028209999175022335,0.00028209999175022335,0.04874261812230436,0.041512108219228315,0.00028209999175022335,0.04298627081117441,0.04499553174268527,0.00028209999175022335,0.014529632305233074,0.04871506386887579,0.00028209999175022335,0.04872931145581623,0.04864581368437048,0.00028209999175022335,0.04885928556935519,0.04874426584793011,0.00028209999175022335,0.048823106955005774,0.04883078482130113,0.04877147227294537,0.040976274088788144,0.00028209999175022335,0.04885410047335713,0.048751817737909375,0.00028209999175022335,0.04014466540467225,0.048799792417784864,0.00028209999175022335,0.04893435184627561,0.048665007792692436,0.00028209999175022335,0.04859417342813724,0.04882810698845047,0.04511204980189243,0.04509610766627008,0.00028209999175022335,0.00028209999175022335,0.038064981482594996,0.042910652691097624,0.00028209999175022335,0.04265200436123149,0.04880828188371183,0.04404566028312178,0.048800561653699226,0.04879377676996519,0.00028209999175022335,0.04893460937308202,0.04889354778292603,0.00028209999175022335,0.04321814527187332,0.04446097521276453,0.0490939259348427,0.04886683411483058,0.00028209999175022335,0.00028209999175022335,0.04903386979176919,0.00028209999175022335,0.04867334118176733,0.034494375659144934,0.04924621011957545,0.04930018149508038,0.048607454453428296,0.00028209999175022335,0.00028209999175022335,0.04841987906273442,0.04858919569138523,0.04267829104765305,0.00028209999175022335,0.039325401284734024,0.04087593451015122,0.048603843503968014,0.04293730281361824,0.04773155673281921,0.00028209999175022335,0.04929693286688461,0.04471223553334623,0.034200931109905894,0.04918416288180113,0.047654230686045435,0.00028209999175022335,0.04849309805862525,0.04948125294037464,0.04941583555742689,0.047599735338250355,0.00028209999175022335,0.048489839396917395,0.049406298146920054,0.042158245205651784,0.04827348566433931,0.047596452150179956,0.00028209999175022335,0.040494266405347965,0.04325721019315453,0.0412346370209819,0.04934878605653808,0.04451252516739061,0.04959732952505643,0.00028209999175022335,0.047590941522461065,0.048341058022682945,0.04940803394448374,0.04956472618545775,0.00028209999175022335,0.028335109264944706,0.04828541551002376,0.0495127269524639,0.04756424011754668,0.00028209999175022335,0.049441751003907033,0.04829822830475835,0.04760112999640838,0.00028209999175022335,0.04921266697435913,0.03858161035636673,0.04956969611836693,0.04905556893356988,0.04755193122807794,0.04958797494743398,0.04950411373988958,0.01577179891950238,0.00028209999175022335,0.047688533033664084,0.04961715017045649,0.04818482620842294,0.00028209999175022335,0.04919396896746053,0.04826015893082719,0.00028209999175022335,0.04765343692376816,0.04932080928077356,0.04831929867981105,0.04421155659903911,0.03876327377886464,0.048228187702480066,0.00028209999175022335,0.0493105873617864,0.04205334372359111,0.038777900409588735,0.04848251270353919,0.04982875582222217,0.04829151254077328,0.04398139340954174,0.04095023378082638,0.00028209999175022335,0.049566543365951704,0.04843801853746874,0.0491689520777156,0.00028209999175022335,0.04773450324082276,0.041523389231141586,0.04917590864598698,0.042786055425118166,0.04916852844054531,0.00028209999175022335,0.047877797398866065,0.00028209999175022335,0.048313802544942906,0.049451958430043595,0.03759886019304348,0.02829481245136515,0.04769446729855308,0.04915264985049877,0.00028209999175022335,0.04846619598347187,0.049175167280938806,0.0478032573239045,0.00028209999175022335,0.04511283464549178,0.04948785499122454,0.04819976945219049,0.031686913178905665,0.047631124622905384,0.00028209999175022335,0.04481447924958075,0.04950422187885134,0.04822362802872529,0.03911443108872375,0.04316793423367208,0.049351859655692554,0.04240938066475178,0.00028209999175022335,0.043069676051343264,0.04460478553925493,0.047653878398293034,0.04389856899823021,0.00028209999175022335,0.028555019320084404,0.04854322548422667,0.04960889036046897,0.047381241123127256,0.04824231711694638,0.04959689696920893,0.04851073920226701,0.04967772359681166,0.00028209999175022335,0.047722971391111084,0.04865533771686146,0.00028209999175022335,0.04798310356590802,0.04958225473079902,0.047666746934760404,0.03916964996421232,0.05005008840638668,0.04214939341846043,0.04323230924621437,0.04807125577205463,0.04863054267921352,0.04909820132575966,0.03843068961442184,0.00028209999175022335,0.00028209999175022335,0.02155155664363378,0.04860902302579345,0.0435604206940052,0.052626311881683006,0.049724551111822966,0.051818006586441236,0.050701238804271125,0.048644753476609986,0.04935915847820435,0.050350607696370994,0.04968248059630106,0.04838935488977447,0.050117765559188246,0.04871343732510851,0.050382748379585715,0.04935872146301822,0.04104200251060634,0.0486698127300722,0.04561238759679369,0.050531984606361414,0.04216271123329563,0.04985676715786119,0.04886868362552955,0.05049392192143782,0.049520055875511386,0.04821242839974197,0.050332921959342684,0.0429333395764058,0.04957152333237289,0.04897957734388234,0.04971099360753635,0.050223083989411756,0.05050528097177756,0.04859295825835886,0.04955309288579242,0.04878033186397923,0.04018903805376467,0.050654360006865476,0.049312421264800434,0.04981851160654202,0.04202984746832023,0.04930680584262383,0.04290557796373045,0.05074642082332579,0.048619498012248206,0.04230157169390076,0.05067727097393988,0.04874336729119517,0.04389597477797906,0.049692916563542765,0.04851328659946238,0.05040179978907181,0.04930206445081966,0.05027335857318814,0.04875147102433077,0.04979257609303768,0.048305456892686324,0.05006376742765132,0.04973240623682948,0.048935301685405275,0.050451072136489666,0.047868196442783555,0.04921817648724349,0.05045702981290688,0.03996983034446027,0.04939456005279679,0.048479631970780486,0.04298440234828629,0.04808909535626575,0.04953953872601,0.05049344811670836,0.04903639377743721,0.04827893386131705,0.050523480647583045,0.04909075645990791,0.05005293569410536,0.04814246249138601,0.048638511517354995,0.04855058004847117,0.05053528340211674,0.048840976639752884,0.04965451608371814,0.04386794003081227,0.05000953741050483,0.04936362004650911,0.04796297299647297,0.050312121374277076,0.04875038963471155,0.043696731527745745,0.041868994664399535,0.04999856855229645,0.04199068109708506,0.049273162362288424,0.050481992075753504,0.04898709021464862,0.05033109920467511,0.0483887294675308,0.04894501969912661,0.04962143782455451,0.05030388274614801,0.04278980572891068,0.048247994969864164,0.04931036662452433,0.048743714004774175,0.05012226280220206,0.04859237965917093,0.04882491410198775,0.05037390216656764,0.04821405048417079,0.04854059112992764,0.04946756834493704,0.05033209809652946,0.04311356151768967,0.04104574389572121,0.050255572501040825,0.042754507833941566,0.048862861958941024,0.05017601344044504,0.04823507738067171,0.050528034747164864,0.04824195256601335,0.049099874692582826,0.0499284889308049,0.04883171347857208,0.04999275580438512,0.01402994668860692,0.048532729315913285,0.05059691815106729,0.05036702475155742,0.049366850837350526,0.05067575479880408,0.05088757561365922,0.050511639988671454,0.03784772138943917,0.049307909528936315,0.041829744680564766,0.05116914271444215,0.0511316530545336,0.04207480763527811,0.05098036887649011,0.04363133867116011,0.051032160750237504,0.051236910168851235,0.05110989148199264,0.050973673179529166,0.0513741496598623,0.05118378718252129,0.05128140433492136,0.05139488112517869,0.05133242362824997,0.036949336338926345,0.03998725743984765,0.05157995148239397,0.051697421610399405,0.05182694310106681,0.05174920122096507,0.05175721465249298,0.051679706887670054,0.04200877151909436,0.051847131641904194,0.05232414152156927,0.04413143566177556,0.052011984472580854,0.052282497987721846,0.05229262737543238,0.00028209999175022335,0.00028209999175022335,0.05202095108774209,0.05220703482966248,0.0523269230340431,0.05282907577976931,0.04475008194034522,0.00028209999175022335],\"type\":\"scatter\",\"xaxis\":\"x6\",\"yaxis\":\"y6\"},{\"marker\":{\"color\":[6,20,29,44,60,85,109,139,177,220,262,289,318,348,378,410,436,464,492,519,548,575,602],\"colorbar\":{\"title\":{\"text\":\"Trial\"},\"x\":1.0,\"xpad\":40},\"colorscale\":[[0.0,\"rgb(247,251,255)\"],[0.125,\"rgb(222,235,247)\"],[0.25,\"rgb(198,219,239)\"],[0.375,\"rgb(158,202,225)\"],[0.5,\"rgb(107,174,214)\"],[0.625,\"rgb(66,146,198)\"],[0.75,\"rgb(33,113,181)\"],[0.875,\"rgb(8,81,156)\"],[1.0,\"rgb(8,48,107)\"]],\"line\":{\"color\":\"Grey\",\"width\":0.5},\"showscale\":false},\"mode\":\"markers\",\"name\":\"Feasible Trial\",\"showlegend\":false,\"x\":[\"exp\",\"lin\",\"log\",\"log\",\"lin\",\"exp\",\"log\",\"lin\",\"exp\",\"lin\",\"exp\",\"log\",\"exp\",\"log\",\"lin\",\"lin\",\"exp\",\"log\",\"exp\",\"lin\",\"log\",\"log\",\"lin\"],\"y\":[0.024006979979799066,0.016478841553009393,0.01400613716479738,0.02664175345654471,0.026123542632391486,0.028051728328171495,0.026130944019691776,0.027839313306443386,0.03216165771454326,0.03401599899218879,0.03184703799579367,0.02786422094239185,0.027957140181538873,0.0279084743041758,0.028006635495888783,0.028506588672833684,0.040976274088788144,0.00028209999175022335,0.034200931109905894,0.028335109264944706,0.03876327377886464,0.02829481245136515,0.028555019320084404],\"type\":\"scatter\",\"xaxis\":\"x7\",\"yaxis\":\"y7\"},{\"marker\":{\"color\":[0,1,2,3,4,5,6,7,8,9,10,11,12,13,14,15,16,17,18,19,20,21,22,23,24,25,26,27,28,29,30,31,32,33,34,35,36,37,38,39,40,41,42,43,44,45,46,47,48,49,50,51,52,53,54,55,56,57,58,59,60,61,62,63,64,65,66,67,68,69,70,71,72,73,74,75,76,77,78,79,80,81,82,83,84,85,86,87,88,89,90,91,92,93,94,95,96,97,98,99,100,101,102,103,104,105,106,107,108,109,110,111,112,113,114,115,116,117,118,119,120,121,122,123,124,125,126,127,128,129,130,131,132,133,134,135,136,137,138,139,140,141,142,143,144,145,146,147,148,149,150,151,152,153,154,155,156,157,158,159,160,161,162,163,164,165,166,167,168,169,170,171,172,173,174,175,176,177,178,179,180,181,182,183,184,185,186,187,188,189,190,191,192,193,194,195,196,197,198,199,200,201,202,203,204,205,206,207,208,209,210,211,212,213,214,215,216,217,218,219,220,221,222,223,224,225,226,227,228,229,230,231,232,233,234,235,236,237,238,239,240,241,242,243,244,245,246,247,248,249,250,251,252,253,254,255,256,257,258,259,260,261,262,263,264,265,266,267,268,269,270,271,272,273,274,275,276,277,278,279,280,281,282,283,284,285,286,287,288,289,290,291,292,293,294,295,296,297,298,299,300,301,302,303,304,305,306,307,308,309,310,311,312,313,314,315,316,317,318,319,320,321,322,323,324,325,326,327,328,329,330,331,332,333,334,335,336,337,338,339,340,341,342,343,344,345,346,347,348,349,350,351,352,353,354,355,356,357,358,359,360,361,362,363,364,365,366,367,368,369,370,371,372,373,374,375,376,377,378,379,380,381,382,383,384,385,386,387,388,389,390,391,392,393,394,395,396,397,398,399,400,401,402,403,404,405,406,407,408,409,410,411,412,413,414,415,416,417,418,419,420,421,422,423,424,425,426,427,428,429,430,431,432,433,434,435,436,437,438,439,440,441,442,443,444,445,446,447,448,449,450,451,452,453,454,455,456,457,458,459,460,461,462,463,464,465,466,467,468,469,470,471,472,473,474,475,476,477,478,479,480,481,482,483,484,485,486,487,488,489,490,491,492,493,494,495,496,497,498,499,500,501,502,503,504,505,506,507,508,509,510,511,512,513,514,515,516,517,518,519,520,521,522,523,524,525,526,527,528,529,530,531,532,533,534,535,536,537,538,539,540,541,542,543,544,545,546,547,548,549,550,551,552,553,554,555,556,557,558,559,560,561,562,563,564,565,566,567,568,569,570,571,572,573,574,575,576,577,578,579,580,581,582,583,584,585,586,587,588,589,590,591,592,593,594,595,596,597,598,599,600,601,602,603,604,605,606,607,608,609,610,611,612,613,614,615,616,617,618,619,620,621,622,623,624,625,626,627,628,629,630,631,632,633,634,635,636,637,638,639,640,641,642,643,644,645,646,647,648,649,650,651,652,653,654,655,656,657,658,659,660,661,662,663,664,665,666,667,668,669,670,671,672,673,674,675,676,677,678,679,680,681,682,683,684,685,686,687,688,689,690,691,692,693,694,695,696,697,698,699,700,701,702,703,704,705,706,707,708,709,710,711,712,713,714,715,716,717,718,719,720,721,722,723,724,725,726,727,728,729,730,731,732,733,734,735,736,737,738,739,740,741,742,743,744,745,746,747,748,749,750,751,752,753,754,755,756,757,758,759,760,761,762,763,764,765,766,767,768,769,770,771,772,773,774,775,776,777,778,779,780,781,782,783,784,785,786,787,788,789,790,791,792,793,794,795,796,797,798,799],\"colorbar\":{\"title\":{\"text\":\"Trial\"},\"x\":1.0,\"xpad\":40},\"colorscale\":[[0.0,\"rgb(247,251,255)\"],[0.125,\"rgb(222,235,247)\"],[0.25,\"rgb(198,219,239)\"],[0.375,\"rgb(158,202,225)\"],[0.5,\"rgb(107,174,214)\"],[0.625,\"rgb(66,146,198)\"],[0.75,\"rgb(33,113,181)\"],[0.875,\"rgb(8,81,156)\"],[1.0,\"rgb(8,48,107)\"]],\"line\":{\"color\":\"Grey\",\"width\":0.5},\"showscale\":false},\"mode\":\"markers\",\"name\":\"Feasible Trial\",\"showlegend\":false,\"x\":[677,1482,241,1000,851,410,1465,349,123,1365,539,494,592,658,1085,776,862,1188,758,12,951,621,690,777,785,1168,899,741,477,1028,788,697,716,690,650,332,556,405,547,217,921,735,698,574,437,563,547,331,581,244,497,477,493,485,485,402,389,241,276,184,110,289,172,169,164,153,90,135,78,18,173,71,65,87,52,63,71,63,68,68,23,97,52,25,41,45,10,127,45,36,13,18,31,14,16,116,11,209,11,131,31,10,109,204,1334,31,144,15,15,104,12,16,98,17,12,15,142,94,90,10,134,10,54,12,78,12,54,107,80,49,822,14,48,13,118,79,10,51,191,76,156,16,10,50,43,114,10,69,11,92,46,13,52,12,10,78,43,122,83,41,12,1082,13,10,69,45,109,10,64,41,94,13,42,1492,10,10,66,41,84,11,1412,44,38,11,66,11,1234,64,100,39,39,10,11,68,37,11,10,71,42,10,107,39,11,64,10,38,11,85,10,54,10,42,12,40,71,35,10,10,65,94,43,44,10,10,41,624,11,73,37,71,11,10,10,961,42,43,60,36,10,63,12,34,12,39,10,60,35,11,80,39,11,93,10,61,38,11,67,10,53,92,38,10,43,62,118,10,38,89,62,10,35,73,41,36,357,10,84,59,10,40,10,96,59,40,36,122,71,39,34,68,13,95,11,63,39,36,10,69,38,878,12,111,61,11,10,87,46,10,60,447,40,10,93,136,38,10,61,43,83,37,68,11,36,105,10,61,36,10,83,1230,39,61,1030,36,10,10,64,143,39,106,77,286,10,10,39,61,10,39,91,36,59,34,10,82,10,118,58,35,35,729,11,69,10,41,90,12,10,241,57,38,72,10,10,519,820,114,58,36,83,37,10,60,1125,669,11,10,39,99,10,66,1442,56,33,1320,10,10,10,89,41,150,2,1,1,23,0,25,23,0,23,0,20,23,22,23,1,27,0,0,23,24,0,24,306,0,25,24,0,25,25,0,22,23,0,24,22,23,1,0,23,23,0,23,24,0,21,24,0,27,23,22,265,0,0,22,23,0,24,23,598,22,23,0,21,22,0,22,453,20,22,0,0,20,0,25,402,18,18,27,0,0,17,27,13,0,323,18,25,28,48,0,17,376,30,16,49,0,29,16,15,49,0,29,16,30,29,49,0,15,30,215,14,185,14,0,48,30,15,14,0,29,31,15,50,0,15,29,48,0,16,31,14,29,49,14,15,30,0,48,14,31,0,16,31,0,49,17,28,518,16,32,0,17,45,14,29,12,30,642,50,0,14,29,15,0,47,30,15,32,15,0,45,0,30,15,15,30,45,19,0,29,15,42,0,263,16,31,562,49,0,355,15,30,13,31,14,38,0,24,418,48,695,0,14,27,14,50,31,14,26,13,0,43,24,0,34,14,48,15,33,36,25,23,11,50,35,0,0,16,28,167,12,38,14,24,53,44,27,38,55,27,53,29,43,56,33,196,28,50,33,56,28,40,53,28,462,40,53,30,31,28,55,40,59,582,26,43,27,24,42,338,26,61,47,26,61,223,38,66,28,47,31,53,37,74,31,27,52,24,71,45,27,60,41,51,28,69,40,27,48,75,27,50,33,68,39,58,28,57,40,381,27,44,76,31,58,305,53,35,69,41,29,54,30,70,56,41,30,542,72,44,57,33,58,47,29,78,65,42,30,502,49,28,35,51,28,60,28,75,46,37,57,29,46,65,27,29,43,27,25,26,615,46,23,23,23,55,23,229,22,21,21,22,19,20,19,19,19,712,419,18,17,16,16,16,17,15,15,12,13,14,12,12,0,0,14,14,12,10,1,0],\"y\":[0.03693410769748605,0.02950565890072772,0.03659388580079572,0.03654694011331058,0.03780927185688956,0.0394110428832288,0.024006979979799066,0.03454623442297158,0.03826173976637384,0.036433943816791194,0.041522422669492146,0.04131477022142686,0.04362394620253716,0.043617225979213074,0.04339865261082951,0.043702796228289695,0.04360893160935133,0.0432735570137575,0.043445371986879006,0.043007080314916686,0.016478841553009393,0.04360525822915029,0.04371697358064655,0.04376835296556982,0.043749756408625315,0.04333191637848008,0.0436234556752871,0.04380381028189539,0.03640595812234979,0.01400613716479738,0.03822558567838665,0.04387137483639633,0.04385864230975724,0.04390049654735531,0.03476588918097434,0.04092732838792521,0.044148636445727155,0.03706749431991632,0.03209564835439163,0.011591760925937264,0.04357808078983646,0.04379978461394221,0.04385834576373801,0.04407368276710715,0.02664175345654471,0.04409705304606093,0.03395454150194877,0.041960781231533836,0.043791258358471294,0.041887212177560584,0.044148536110607775,0.04427531956735329,0.04416902788647253,0.04425917118731959,0.04423339732484115,0.04454130908344809,0.034599044140762536,0.0351619341935386,0.04498923069719356,0.04564349259861089,0.026123542632391486,0.04501886188759169,0.045815864989061414,0.04582322401264476,0.04585618744383831,0.04589327910777384,0.046648907350549156,0.04147025286679578,0.047004881860969336,0.040136277388698786,0.03795062174328781,0.047033718174255966,0.04706022225343587,0.04662457385444997,0.04730033980160257,0.04710087246960237,0.03733892311431149,0.04712724834279667,0.04178191938853411,0.0470467204908823,0.03729530186377906,0.046471053318080775,0.04728495396847546,0.04843907986006404,0.04769853867472737,0.028051728328171495,0.049890490906291725,0.04603569477610609,0.047727137528231385,0.0478646300867101,0.04929765973908228,0.048944583798775025,0.04811644002077834,0.04928062283582542,0.036526392595712706,0.04619822652102311,0.0495917932561403,0.034041091690690126,0.037363637883864154,0.04376502518411324,0.038940388675954084,0.04990843528496086,0.04621956780089785,0.04537196792843485,0.04208870516413552,0.04815071003819207,0.045927074205622864,0.0491778763291599,0.049169851749285315,0.026130944019691776,0.04959505637718693,0.049204049302446054,0.04653824440297099,0.04923222228911028,0.049630018706923754,0.049163671105936585,0.04598442464497911,0.04659938639500214,0.03889954670822616,0.03753201470689754,0.041501527323481016,0.04994933299442155,0.04731299317498052,0.04958215774018373,0.0469154576284774,0.04958890471953923,0.038527291152447664,0.04628601640590519,0.04705453436700623,0.03853470703259859,0.04300299890523063,0.04934406919109634,0.047456965152496595,0.04936614291734233,0.046291718785185655,0.04691905074058289,0.04990779314019738,0.04750510482790124,0.04557724243417271,0.027839313306443386,0.045828794841435455,0.049178870761675396,0.04990601943825513,0.047479724502057466,0.047791412205653895,0.04639345190714603,0.04994261946010584,0.03555692011317694,0.04965573348316518,0.041714290173622895,0.04768739590231192,0.04937826005524956,0.04735551631337386,0.04955581085269061,0.049890490906291725,0.036165744698402495,0.04775906193352281,0.0461564882262297,0.04676283118950449,0.038704727121919094,0.020721504268701677,0.04266998218494037,0.049368361438313337,0.049891370510837627,0.047042289023113325,0.04769802362111488,0.03691360142877094,0.049847380250033324,0.04706535829670938,0.047753553535473406,0.046548871006939496,0.049369569919083554,0.04769689540844034,0.04211797626293863,0.04985111606097521,0.049833714606784874,0.04704128009774709,0.03216165771454326,0.03513438997362186,0.049599267107693364,0.042075960374315144,0.047679371322437436,0.047767542480773,0.04961234634791127,0.04704922775403017,0.04429842340082375,0.04235441820123484,0.04706412751924592,0.04647413026173918,0.047812290829145336,0.04783566556743799,0.04986886980291764,0.049604045289041235,0.04706217767342759,0.047862567642591385,0.04067031886500772,0.04984269348512744,0.046984877267850875,0.0476645573994904,0.032028948911586114,0.046223529923275414,0.04784513162852644,0.0496052058319212,0.047072919105365825,0.04982159969854696,0.03855078406321408,0.04959879664746728,0.037138225004848154,0.04989037384865253,0.04726728606880146,0.04983274470063162,0.04770897575680381,0.04949320731242169,0.047869821871716546,0.04699137229457346,0.04794841214099339,0.049839740288116004,0.04983492308755505,0.03564598202440494,0.04654776174645384,0.03401599899218879,0.047679371322437436,0.049876711549908144,0.0498932412033952,0.04781848930984878,0.043576516676809916,0.04960045329177033,0.0469845718031542,0.04783291638516917,0.04699631212694691,0.04960773316209277,0.049891370510837627,0.049839740288116004,0.042753741942530905,0.04778610224817374,0.04771773501271849,0.047227781902664294,0.04790619446729666,0.049922257005061546,0.047126517011260284,0.03752938815644112,0.04798966994204884,0.04958462152477983,0.04781723735052673,0.049841190688007284,0.04720709837523838,0.04794431623845675,0.04959987246291307,0.046775688577625436,0.0487287150192735,0.03921865363647783,0.04654642171519377,0.04991914550152862,0.04716087510061216,0.03869163450368519,0.03726155358898585,0.046845421485537664,0.04442570853316567,0.047282264987277965,0.046554255658341676,0.04781072448644982,0.0497992662158258,0.03184703799579367,0.04713369766129812,0.04617743262496576,0.04984070350526126,0.048027089367374085,0.04667624644088867,0.047160021137263454,0.04984681168435722,0.04793105305052016,0.04699879374889738,0.035521332361196284,0.04793104078733903,0.04454054319203769,0.04985138027678925,0.046743104190215726,0.04286203475162412,0.03732658969848043,0.04774713877684623,0.04992362602202267,0.036958753347289916,0.04665704118422019,0.0478389844302174,0.0479255413079667,0.04616927872427092,0.04700468565006971,0.047823019997902276,0.048008279877009404,0.02786422094239185,0.04937769817858145,0.04656114310686431,0.04961626499173696,0.04711250353959838,0.047818091313875516,0.047909463162516375,0.050162974334274815,0.04714728861062439,0.04783431215816197,0.04353304927346051,0.041301690981208984,0.04646627290706358,0.042093668408037015,0.050059829831635996,0.05017742928046168,0.04675033277814398,0.01991731605785529,0.04188282864768165,0.04728393389476257,0.044369952307371646,0.04048520279957126,0.04992678211894203,0.0467714611245989,0.04600632891635682,0.047480200536456595,0.050232338231915176,0.04725691030263145,0.047917116502449786,0.027957140181538873,0.0480567762995051,0.04711755262576847,0.049686207488565406,0.048049530989057065,0.04653595118807746,0.04169842719126168,0.04200254070818617,0.04806544302414315,0.0499307397819809,0.046850165107011156,0.04264243462051979,0.047939016314488304,0.03830173891909947,0.04300625756693852,0.04803477169300822,0.04992604967257115,0.039861042548778335,0.03829865194192891,0.0459246204545387,0.04782007237506429,0.03867653964240434,0.046904817646493076,0.04482561198848429,0.050234773030810226,0.0499758002840579,0.04791684671246223,0.047185257649436416,0.05023720114069726,0.04792758479989635,0.0279084743041758,0.04248813369988957,0.03890101494547179,0.048208082774242086,0.0502402490986546,0.04678151804805659,0.050244874547654264,0.04619565013812629,0.04731299763431907,0.048155151539473424,0.04814683821742212,0.035079569094106415,0.04999021844070141,0.04702152188308767,0.050186830681139945,0.047824749106458266,0.04670318084624698,0.04986284189191714,0.043199344700185785,0.0452460807987548,0.04732027861947637,0.02150385955758865,0.03808101169015483,0.039461509218566324,0.05024410977107824,0.04421671939834431,0.040711889934602265,0.046260912559056684,0.04732151051177439,0.047946819042265956,0.028006635495888783,0.047983650949725724,0.05026688472832435,0.047252597007336285,0.043308226141979135,0.043912482134772904,0.04999271232583328,0.050256474402279865,0.04784084062992422,0.04664311021032273,0.05027369636809012,0.04706450656302998,0.03648499432549027,0.04733004903042649,0.04822117204797194,0.04315358408194302,0.05024410977107824,0.050242880108449496,0.04075289020885151,0.047252773151212145,0.04293838531807183,0.041376904416304566,0.04895781019716825,0.034788033141803586,0.04185713059396017,0.04878155706726952,0.00028209999175022335,0.048597933765441303,0.0487910521140591,0.00028209999175022335,0.04882828759166541,0.00028209999175022335,0.028506588672833684,0.04881006227466208,0.04885276490143535,0.0487750408586884,0.041791421124331526,0.04860345442667228,0.00028209999175022335,0.00028209999175022335,0.04874261812230436,0.041512108219228315,0.00028209999175022335,0.04298627081117441,0.04499553174268527,0.00028209999175022335,0.014529632305233074,0.04871506386887579,0.00028209999175022335,0.04872931145581623,0.04864581368437048,0.00028209999175022335,0.04885928556935519,0.04874426584793011,0.00028209999175022335,0.048823106955005774,0.04883078482130113,0.04877147227294537,0.040976274088788144,0.00028209999175022335,0.04885410047335713,0.048751817737909375,0.00028209999175022335,0.04014466540467225,0.048799792417784864,0.00028209999175022335,0.04893435184627561,0.048665007792692436,0.00028209999175022335,0.04859417342813724,0.04882810698845047,0.04511204980189243,0.04509610766627008,0.00028209999175022335,0.00028209999175022335,0.038064981482594996,0.042910652691097624,0.00028209999175022335,0.04265200436123149,0.04880828188371183,0.04404566028312178,0.048800561653699226,0.04879377676996519,0.00028209999175022335,0.04893460937308202,0.04889354778292603,0.00028209999175022335,0.04321814527187332,0.04446097521276453,0.0490939259348427,0.04886683411483058,0.00028209999175022335,0.00028209999175022335,0.04903386979176919,0.00028209999175022335,0.04867334118176733,0.034494375659144934,0.04924621011957545,0.04930018149508038,0.048607454453428296,0.00028209999175022335,0.00028209999175022335,0.04841987906273442,0.04858919569138523,0.04267829104765305,0.00028209999175022335,0.039325401284734024,0.04087593451015122,0.048603843503968014,0.04293730281361824,0.04773155673281921,0.00028209999175022335,0.04929693286688461,0.04471223553334623,0.034200931109905894,0.04918416288180113,0.047654230686045435,0.00028209999175022335,0.04849309805862525,0.04948125294037464,0.04941583555742689,0.047599735338250355,0.00028209999175022335,0.048489839396917395,0.049406298146920054,0.042158245205651784,0.04827348566433931,0.047596452150179956,0.00028209999175022335,0.040494266405347965,0.04325721019315453,0.0412346370209819,0.04934878605653808,0.04451252516739061,0.04959732952505643,0.00028209999175022335,0.047590941522461065,0.048341058022682945,0.04940803394448374,0.04956472618545775,0.00028209999175022335,0.028335109264944706,0.04828541551002376,0.0495127269524639,0.04756424011754668,0.00028209999175022335,0.049441751003907033,0.04829822830475835,0.04760112999640838,0.00028209999175022335,0.04921266697435913,0.03858161035636673,0.04956969611836693,0.04905556893356988,0.04755193122807794,0.04958797494743398,0.04950411373988958,0.01577179891950238,0.00028209999175022335,0.047688533033664084,0.04961715017045649,0.04818482620842294,0.00028209999175022335,0.04919396896746053,0.04826015893082719,0.00028209999175022335,0.04765343692376816,0.04932080928077356,0.04831929867981105,0.04421155659903911,0.03876327377886464,0.048228187702480066,0.00028209999175022335,0.0493105873617864,0.04205334372359111,0.038777900409588735,0.04848251270353919,0.04982875582222217,0.04829151254077328,0.04398139340954174,0.04095023378082638,0.00028209999175022335,0.049566543365951704,0.04843801853746874,0.0491689520777156,0.00028209999175022335,0.04773450324082276,0.041523389231141586,0.04917590864598698,0.042786055425118166,0.04916852844054531,0.00028209999175022335,0.047877797398866065,0.00028209999175022335,0.048313802544942906,0.049451958430043595,0.03759886019304348,0.02829481245136515,0.04769446729855308,0.04915264985049877,0.00028209999175022335,0.04846619598347187,0.049175167280938806,0.0478032573239045,0.00028209999175022335,0.04511283464549178,0.04948785499122454,0.04819976945219049,0.031686913178905665,0.047631124622905384,0.00028209999175022335,0.04481447924958075,0.04950422187885134,0.04822362802872529,0.03911443108872375,0.04316793423367208,0.049351859655692554,0.04240938066475178,0.00028209999175022335,0.043069676051343264,0.04460478553925493,0.047653878398293034,0.04389856899823021,0.00028209999175022335,0.028555019320084404,0.04854322548422667,0.04960889036046897,0.047381241123127256,0.04824231711694638,0.04959689696920893,0.04851073920226701,0.04967772359681166,0.00028209999175022335,0.047722971391111084,0.04865533771686146,0.00028209999175022335,0.04798310356590802,0.04958225473079902,0.047666746934760404,0.03916964996421232,0.05005008840638668,0.04214939341846043,0.04323230924621437,0.04807125577205463,0.04863054267921352,0.04909820132575966,0.03843068961442184,0.00028209999175022335,0.00028209999175022335,0.02155155664363378,0.04860902302579345,0.0435604206940052,0.052626311881683006,0.049724551111822966,0.051818006586441236,0.050701238804271125,0.048644753476609986,0.04935915847820435,0.050350607696370994,0.04968248059630106,0.04838935488977447,0.050117765559188246,0.04871343732510851,0.050382748379585715,0.04935872146301822,0.04104200251060634,0.0486698127300722,0.04561238759679369,0.050531984606361414,0.04216271123329563,0.04985676715786119,0.04886868362552955,0.05049392192143782,0.049520055875511386,0.04821242839974197,0.050332921959342684,0.0429333395764058,0.04957152333237289,0.04897957734388234,0.04971099360753635,0.050223083989411756,0.05050528097177756,0.04859295825835886,0.04955309288579242,0.04878033186397923,0.04018903805376467,0.050654360006865476,0.049312421264800434,0.04981851160654202,0.04202984746832023,0.04930680584262383,0.04290557796373045,0.05074642082332579,0.048619498012248206,0.04230157169390076,0.05067727097393988,0.04874336729119517,0.04389597477797906,0.049692916563542765,0.04851328659946238,0.05040179978907181,0.04930206445081966,0.05027335857318814,0.04875147102433077,0.04979257609303768,0.048305456892686324,0.05006376742765132,0.04973240623682948,0.048935301685405275,0.050451072136489666,0.047868196442783555,0.04921817648724349,0.05045702981290688,0.03996983034446027,0.04939456005279679,0.048479631970780486,0.04298440234828629,0.04808909535626575,0.04953953872601,0.05049344811670836,0.04903639377743721,0.04827893386131705,0.050523480647583045,0.04909075645990791,0.05005293569410536,0.04814246249138601,0.048638511517354995,0.04855058004847117,0.05053528340211674,0.048840976639752884,0.04965451608371814,0.04386794003081227,0.05000953741050483,0.04936362004650911,0.04796297299647297,0.050312121374277076,0.04875038963471155,0.043696731527745745,0.041868994664399535,0.04999856855229645,0.04199068109708506,0.049273162362288424,0.050481992075753504,0.04898709021464862,0.05033109920467511,0.0483887294675308,0.04894501969912661,0.04962143782455451,0.05030388274614801,0.04278980572891068,0.048247994969864164,0.04931036662452433,0.048743714004774175,0.05012226280220206,0.04859237965917093,0.04882491410198775,0.05037390216656764,0.04821405048417079,0.04854059112992764,0.04946756834493704,0.05033209809652946,0.04311356151768967,0.04104574389572121,0.050255572501040825,0.042754507833941566,0.048862861958941024,0.05017601344044504,0.04823507738067171,0.050528034747164864,0.04824195256601335,0.049099874692582826,0.0499284889308049,0.04883171347857208,0.04999275580438512,0.01402994668860692,0.048532729315913285,0.05059691815106729,0.05036702475155742,0.049366850837350526,0.05067575479880408,0.05088757561365922,0.050511639988671454,0.03784772138943917,0.049307909528936315,0.041829744680564766,0.05116914271444215,0.0511316530545336,0.04207480763527811,0.05098036887649011,0.04363133867116011,0.051032160750237504,0.051236910168851235,0.05110989148199264,0.050973673179529166,0.0513741496598623,0.05118378718252129,0.05128140433492136,0.05139488112517869,0.05133242362824997,0.036949336338926345,0.03998725743984765,0.05157995148239397,0.051697421610399405,0.05182694310106681,0.05174920122096507,0.05175721465249298,0.051679706887670054,0.04200877151909436,0.051847131641904194,0.05232414152156927,0.04413143566177556,0.052011984472580854,0.052282497987721846,0.05229262737543238,0.00028209999175022335,0.00028209999175022335,0.05202095108774209,0.05220703482966248,0.0523269230340431,0.05282907577976931,0.04475008194034522,0.00028209999175022335],\"type\":\"scatter\",\"xaxis\":\"x8\",\"yaxis\":\"y8\"},{\"marker\":{\"color\":[1,9,30,37,47,70,94,118,155,195,240,272,300,331,359,390,419,449,474,503,531,558,586,613],\"colorbar\":{\"title\":{\"text\":\"Trial\"},\"x\":1.0,\"xpad\":40},\"colorscale\":[[0.0,\"rgb(247,251,255)\"],[0.125,\"rgb(222,235,247)\"],[0.25,\"rgb(198,219,239)\"],[0.375,\"rgb(158,202,225)\"],[0.5,\"rgb(107,174,214)\"],[0.625,\"rgb(66,146,198)\"],[0.75,\"rgb(33,113,181)\"],[0.875,\"rgb(8,81,156)\"],[1.0,\"rgb(8,48,107)\"]],\"line\":{\"color\":\"Grey\",\"width\":0.5},\"showscale\":false},\"mode\":\"markers\",\"name\":\"Feasible Trial\",\"showlegend\":false,\"x\":[0.32270059557383357,1.2303564826790012,1.9478721458151993,0.13265596871599628,1.1272377819295536,1.9697540471760904,0.68328175705964,1.5034034722282184,0.6994420243962102,1.539836993078731,0.6871436320493574,0.02482438887548466,0.4188810514047818,1.524283550828847,0.8643136869944861,1.690110589670352,1.2131331281357889,0.9486931698424705,0.372034135192737,1.3566726138440257,0.5051956003050774,1.791910591256225,0.2621902142143995,1.0533374609043644],\"y\":[0.02950565890072772,0.036433943816791194,0.03822558567838665,0.03706749431991632,0.041960781231533836,0.03795062174328781,0.036526392595712706,0.03889954670822616,0.036165744698402495,0.04067031886500772,0.03752938815644112,0.035521332361196284,0.041301690981208984,0.03830173891909947,0.035079569094106415,0.03648499432549027,0.041512108219228315,0.04511204980189243,0.034494375659144934,0.042158245205651784,0.04905556893356988,0.04095023378082638,0.031686913178905665,0.00028209999175022335],\"type\":\"scatter\",\"xaxis\":\"x9\",\"yaxis\":\"y9\"},{\"marker\":{\"color\":[1,9,30,37,47,70,94,118,155,195,240,272,300,331,359,390,419,449,474,503,531,558,586,613],\"colorbar\":{\"title\":{\"text\":\"Trial\"},\"x\":1.0,\"xpad\":40},\"colorscale\":[[0.0,\"rgb(247,251,255)\"],[0.125,\"rgb(222,235,247)\"],[0.25,\"rgb(198,219,239)\"],[0.375,\"rgb(158,202,225)\"],[0.5,\"rgb(107,174,214)\"],[0.625,\"rgb(66,146,198)\"],[0.75,\"rgb(33,113,181)\"],[0.875,\"rgb(8,81,156)\"],[1.0,\"rgb(8,48,107)\"]],\"line\":{\"color\":\"Grey\",\"width\":0.5},\"showscale\":false},\"mode\":\"markers\",\"name\":\"Feasible Trial\",\"showlegend\":false,\"x\":[1.755974280134404,0.08973139198772029,0.5442079468381121,1.9603667862892429,1.3051907215920802,0.9700403752320141,0.0024468586884378585,1.284385729850481,0.6051450396956476,1.5646358305346668,0.4548823816200258,0.8153567477413055,1.2946150095193443,0.34119954779799766,1.536676355051346,0.8262428946276577,0.27934768997721426,1.9729712539023916,1.0600866111332425,0.7293730271329065,1.0759397584780637,1.6490267604238833,0.2451427565611093,1.756816677190116],\"y\":[0.02950565890072772,0.036433943816791194,0.03822558567838665,0.03706749431991632,0.041960781231533836,0.03795062174328781,0.036526392595712706,0.03889954670822616,0.036165744698402495,0.04067031886500772,0.03752938815644112,0.035521332361196284,0.041301690981208984,0.03830173891909947,0.035079569094106415,0.03648499432549027,0.041512108219228315,0.04511204980189243,0.034494375659144934,0.042158245205651784,0.04905556893356988,0.04095023378082638,0.031686913178905665,0.00028209999175022335],\"type\":\"scatter\",\"xaxis\":\"x10\",\"yaxis\":\"y10\"}],                        {\"template\":{\"data\":{\"histogram2dcontour\":[{\"type\":\"histogram2dcontour\",\"colorbar\":{\"outlinewidth\":0,\"ticks\":\"\"},\"colorscale\":[[0.0,\"#0d0887\"],[0.1111111111111111,\"#46039f\"],[0.2222222222222222,\"#7201a8\"],[0.3333333333333333,\"#9c179e\"],[0.4444444444444444,\"#bd3786\"],[0.5555555555555556,\"#d8576b\"],[0.6666666666666666,\"#ed7953\"],[0.7777777777777778,\"#fb9f3a\"],[0.8888888888888888,\"#fdca26\"],[1.0,\"#f0f921\"]]}],\"choropleth\":[{\"type\":\"choropleth\",\"colorbar\":{\"outlinewidth\":0,\"ticks\":\"\"}}],\"histogram2d\":[{\"type\":\"histogram2d\",\"colorbar\":{\"outlinewidth\":0,\"ticks\":\"\"},\"colorscale\":[[0.0,\"#0d0887\"],[0.1111111111111111,\"#46039f\"],[0.2222222222222222,\"#7201a8\"],[0.3333333333333333,\"#9c179e\"],[0.4444444444444444,\"#bd3786\"],[0.5555555555555556,\"#d8576b\"],[0.6666666666666666,\"#ed7953\"],[0.7777777777777778,\"#fb9f3a\"],[0.8888888888888888,\"#fdca26\"],[1.0,\"#f0f921\"]]}],\"heatmap\":[{\"type\":\"heatmap\",\"colorbar\":{\"outlinewidth\":0,\"ticks\":\"\"},\"colorscale\":[[0.0,\"#0d0887\"],[0.1111111111111111,\"#46039f\"],[0.2222222222222222,\"#7201a8\"],[0.3333333333333333,\"#9c179e\"],[0.4444444444444444,\"#bd3786\"],[0.5555555555555556,\"#d8576b\"],[0.6666666666666666,\"#ed7953\"],[0.7777777777777778,\"#fb9f3a\"],[0.8888888888888888,\"#fdca26\"],[1.0,\"#f0f921\"]]}],\"heatmapgl\":[{\"type\":\"heatmapgl\",\"colorbar\":{\"outlinewidth\":0,\"ticks\":\"\"},\"colorscale\":[[0.0,\"#0d0887\"],[0.1111111111111111,\"#46039f\"],[0.2222222222222222,\"#7201a8\"],[0.3333333333333333,\"#9c179e\"],[0.4444444444444444,\"#bd3786\"],[0.5555555555555556,\"#d8576b\"],[0.6666666666666666,\"#ed7953\"],[0.7777777777777778,\"#fb9f3a\"],[0.8888888888888888,\"#fdca26\"],[1.0,\"#f0f921\"]]}],\"contourcarpet\":[{\"type\":\"contourcarpet\",\"colorbar\":{\"outlinewidth\":0,\"ticks\":\"\"}}],\"contour\":[{\"type\":\"contour\",\"colorbar\":{\"outlinewidth\":0,\"ticks\":\"\"},\"colorscale\":[[0.0,\"#0d0887\"],[0.1111111111111111,\"#46039f\"],[0.2222222222222222,\"#7201a8\"],[0.3333333333333333,\"#9c179e\"],[0.4444444444444444,\"#bd3786\"],[0.5555555555555556,\"#d8576b\"],[0.6666666666666666,\"#ed7953\"],[0.7777777777777778,\"#fb9f3a\"],[0.8888888888888888,\"#fdca26\"],[1.0,\"#f0f921\"]]}],\"surface\":[{\"type\":\"surface\",\"colorbar\":{\"outlinewidth\":0,\"ticks\":\"\"},\"colorscale\":[[0.0,\"#0d0887\"],[0.1111111111111111,\"#46039f\"],[0.2222222222222222,\"#7201a8\"],[0.3333333333333333,\"#9c179e\"],[0.4444444444444444,\"#bd3786\"],[0.5555555555555556,\"#d8576b\"],[0.6666666666666666,\"#ed7953\"],[0.7777777777777778,\"#fb9f3a\"],[0.8888888888888888,\"#fdca26\"],[1.0,\"#f0f921\"]]}],\"mesh3d\":[{\"type\":\"mesh3d\",\"colorbar\":{\"outlinewidth\":0,\"ticks\":\"\"}}],\"scatter\":[{\"fillpattern\":{\"fillmode\":\"overlay\",\"size\":10,\"solidity\":0.2},\"type\":\"scatter\"}],\"parcoords\":[{\"type\":\"parcoords\",\"line\":{\"colorbar\":{\"outlinewidth\":0,\"ticks\":\"\"}}}],\"scatterpolargl\":[{\"type\":\"scatterpolargl\",\"marker\":{\"colorbar\":{\"outlinewidth\":0,\"ticks\":\"\"}}}],\"bar\":[{\"error_x\":{\"color\":\"#2a3f5f\"},\"error_y\":{\"color\":\"#2a3f5f\"},\"marker\":{\"line\":{\"color\":\"#E5ECF6\",\"width\":0.5},\"pattern\":{\"fillmode\":\"overlay\",\"size\":10,\"solidity\":0.2}},\"type\":\"bar\"}],\"scattergeo\":[{\"type\":\"scattergeo\",\"marker\":{\"colorbar\":{\"outlinewidth\":0,\"ticks\":\"\"}}}],\"scatterpolar\":[{\"type\":\"scatterpolar\",\"marker\":{\"colorbar\":{\"outlinewidth\":0,\"ticks\":\"\"}}}],\"histogram\":[{\"marker\":{\"pattern\":{\"fillmode\":\"overlay\",\"size\":10,\"solidity\":0.2}},\"type\":\"histogram\"}],\"scattergl\":[{\"type\":\"scattergl\",\"marker\":{\"colorbar\":{\"outlinewidth\":0,\"ticks\":\"\"}}}],\"scatter3d\":[{\"type\":\"scatter3d\",\"line\":{\"colorbar\":{\"outlinewidth\":0,\"ticks\":\"\"}},\"marker\":{\"colorbar\":{\"outlinewidth\":0,\"ticks\":\"\"}}}],\"scattermapbox\":[{\"type\":\"scattermapbox\",\"marker\":{\"colorbar\":{\"outlinewidth\":0,\"ticks\":\"\"}}}],\"scatterternary\":[{\"type\":\"scatterternary\",\"marker\":{\"colorbar\":{\"outlinewidth\":0,\"ticks\":\"\"}}}],\"scattercarpet\":[{\"type\":\"scattercarpet\",\"marker\":{\"colorbar\":{\"outlinewidth\":0,\"ticks\":\"\"}}}],\"carpet\":[{\"aaxis\":{\"endlinecolor\":\"#2a3f5f\",\"gridcolor\":\"white\",\"linecolor\":\"white\",\"minorgridcolor\":\"white\",\"startlinecolor\":\"#2a3f5f\"},\"baxis\":{\"endlinecolor\":\"#2a3f5f\",\"gridcolor\":\"white\",\"linecolor\":\"white\",\"minorgridcolor\":\"white\",\"startlinecolor\":\"#2a3f5f\"},\"type\":\"carpet\"}],\"table\":[{\"cells\":{\"fill\":{\"color\":\"#EBF0F8\"},\"line\":{\"color\":\"white\"}},\"header\":{\"fill\":{\"color\":\"#C8D4E3\"},\"line\":{\"color\":\"white\"}},\"type\":\"table\"}],\"barpolar\":[{\"marker\":{\"line\":{\"color\":\"#E5ECF6\",\"width\":0.5},\"pattern\":{\"fillmode\":\"overlay\",\"size\":10,\"solidity\":0.2}},\"type\":\"barpolar\"}],\"pie\":[{\"automargin\":true,\"type\":\"pie\"}]},\"layout\":{\"autotypenumbers\":\"strict\",\"colorway\":[\"#636efa\",\"#EF553B\",\"#00cc96\",\"#ab63fa\",\"#FFA15A\",\"#19d3f3\",\"#FF6692\",\"#B6E880\",\"#FF97FF\",\"#FECB52\"],\"font\":{\"color\":\"#2a3f5f\"},\"hovermode\":\"closest\",\"hoverlabel\":{\"align\":\"left\"},\"paper_bgcolor\":\"white\",\"plot_bgcolor\":\"#E5ECF6\",\"polar\":{\"bgcolor\":\"#E5ECF6\",\"angularaxis\":{\"gridcolor\":\"white\",\"linecolor\":\"white\",\"ticks\":\"\"},\"radialaxis\":{\"gridcolor\":\"white\",\"linecolor\":\"white\",\"ticks\":\"\"}},\"ternary\":{\"bgcolor\":\"#E5ECF6\",\"aaxis\":{\"gridcolor\":\"white\",\"linecolor\":\"white\",\"ticks\":\"\"},\"baxis\":{\"gridcolor\":\"white\",\"linecolor\":\"white\",\"ticks\":\"\"},\"caxis\":{\"gridcolor\":\"white\",\"linecolor\":\"white\",\"ticks\":\"\"}},\"coloraxis\":{\"colorbar\":{\"outlinewidth\":0,\"ticks\":\"\"}},\"colorscale\":{\"sequential\":[[0.0,\"#0d0887\"],[0.1111111111111111,\"#46039f\"],[0.2222222222222222,\"#7201a8\"],[0.3333333333333333,\"#9c179e\"],[0.4444444444444444,\"#bd3786\"],[0.5555555555555556,\"#d8576b\"],[0.6666666666666666,\"#ed7953\"],[0.7777777777777778,\"#fb9f3a\"],[0.8888888888888888,\"#fdca26\"],[1.0,\"#f0f921\"]],\"sequentialminus\":[[0.0,\"#0d0887\"],[0.1111111111111111,\"#46039f\"],[0.2222222222222222,\"#7201a8\"],[0.3333333333333333,\"#9c179e\"],[0.4444444444444444,\"#bd3786\"],[0.5555555555555556,\"#d8576b\"],[0.6666666666666666,\"#ed7953\"],[0.7777777777777778,\"#fb9f3a\"],[0.8888888888888888,\"#fdca26\"],[1.0,\"#f0f921\"]],\"diverging\":[[0,\"#8e0152\"],[0.1,\"#c51b7d\"],[0.2,\"#de77ae\"],[0.3,\"#f1b6da\"],[0.4,\"#fde0ef\"],[0.5,\"#f7f7f7\"],[0.6,\"#e6f5d0\"],[0.7,\"#b8e186\"],[0.8,\"#7fbc41\"],[0.9,\"#4d9221\"],[1,\"#276419\"]]},\"xaxis\":{\"gridcolor\":\"white\",\"linecolor\":\"white\",\"ticks\":\"\",\"title\":{\"standoff\":15},\"zerolinecolor\":\"white\",\"automargin\":true,\"zerolinewidth\":2},\"yaxis\":{\"gridcolor\":\"white\",\"linecolor\":\"white\",\"ticks\":\"\",\"title\":{\"standoff\":15},\"zerolinecolor\":\"white\",\"automargin\":true,\"zerolinewidth\":2},\"scene\":{\"xaxis\":{\"backgroundcolor\":\"#E5ECF6\",\"gridcolor\":\"white\",\"linecolor\":\"white\",\"showbackground\":true,\"ticks\":\"\",\"zerolinecolor\":\"white\",\"gridwidth\":2},\"yaxis\":{\"backgroundcolor\":\"#E5ECF6\",\"gridcolor\":\"white\",\"linecolor\":\"white\",\"showbackground\":true,\"ticks\":\"\",\"zerolinecolor\":\"white\",\"gridwidth\":2},\"zaxis\":{\"backgroundcolor\":\"#E5ECF6\",\"gridcolor\":\"white\",\"linecolor\":\"white\",\"showbackground\":true,\"ticks\":\"\",\"zerolinecolor\":\"white\",\"gridwidth\":2}},\"shapedefaults\":{\"line\":{\"color\":\"#2a3f5f\"}},\"annotationdefaults\":{\"arrowcolor\":\"#2a3f5f\",\"arrowhead\":0,\"arrowwidth\":1},\"geo\":{\"bgcolor\":\"white\",\"landcolor\":\"#E5ECF6\",\"subunitcolor\":\"white\",\"showland\":true,\"showlakes\":true,\"lakecolor\":\"white\"},\"title\":{\"x\":0.05},\"mapbox\":{\"style\":\"light\"}}},\"xaxis\":{\"anchor\":\"y\",\"domain\":[0.0,0.082],\"title\":{\"text\":\"asymmetric_alpha\"}},\"yaxis\":{\"anchor\":\"x\",\"domain\":[0.0,1.0],\"title\":{\"text\":\"Objective Value\"}},\"xaxis2\":{\"anchor\":\"y2\",\"domain\":[0.10200000000000001,0.184],\"title\":{\"text\":\"feature_weighting\"},\"type\":\"category\",\"categoryorder\":\"array\",\"categoryarray\":[\"BM25\",\"TF-IDF\",\"none\"]},\"yaxis2\":{\"anchor\":\"x2\",\"domain\":[0.0,1.0],\"matches\":\"y\",\"showticklabels\":false},\"xaxis3\":{\"anchor\":\"y3\",\"domain\":[0.20400000000000001,0.28600000000000003],\"title\":{\"text\":\"normalize\"},\"type\":\"category\",\"categoryorder\":\"array\",\"categoryarray\":[true,false]},\"yaxis3\":{\"anchor\":\"x3\",\"domain\":[0.0,1.0],\"matches\":\"y\",\"showticklabels\":false},\"xaxis4\":{\"anchor\":\"y4\",\"domain\":[0.306,0.388],\"title\":{\"text\":\"normalize_avg_row\"},\"type\":\"category\",\"categoryorder\":\"array\",\"categoryarray\":[true,false]},\"yaxis4\":{\"anchor\":\"x4\",\"domain\":[0.0,1.0],\"matches\":\"y\",\"showticklabels\":false},\"xaxis5\":{\"anchor\":\"y5\",\"domain\":[0.40800000000000003,0.49000000000000005],\"title\":{\"text\":\"shrink\"}},\"yaxis5\":{\"anchor\":\"x5\",\"domain\":[0.0,1.0],\"matches\":\"y\",\"showticklabels\":false},\"xaxis6\":{\"anchor\":\"y6\",\"domain\":[0.51,0.592],\"title\":{\"text\":\"similarity\"},\"type\":\"category\",\"categoryorder\":\"array\",\"categoryarray\":[\"cosine\",\"dice\",\"jaccard\",\"asymmetric\",\"tversky\",\"euclidean\"]},\"yaxis6\":{\"anchor\":\"x6\",\"domain\":[0.0,1.0],\"matches\":\"y\",\"showticklabels\":false},\"xaxis7\":{\"anchor\":\"y7\",\"domain\":[0.6120000000000001,0.6940000000000001],\"title\":{\"text\":\"similarity_from_distance_mode\"},\"type\":\"category\",\"categoryorder\":\"array\",\"categoryarray\":[\"lin\",\"log\",\"exp\"]},\"yaxis7\":{\"anchor\":\"x7\",\"domain\":[0.0,1.0],\"matches\":\"y\",\"showticklabels\":false},\"xaxis8\":{\"anchor\":\"y8\",\"domain\":[0.7140000000000001,0.796],\"title\":{\"text\":\"topK\"}},\"yaxis8\":{\"anchor\":\"x8\",\"domain\":[0.0,1.0],\"matches\":\"y\",\"showticklabels\":false},\"xaxis9\":{\"anchor\":\"y9\",\"domain\":[0.8160000000000001,0.898],\"title\":{\"text\":\"tversky_alpha\"}},\"yaxis9\":{\"anchor\":\"x9\",\"domain\":[0.0,1.0],\"matches\":\"y\",\"showticklabels\":false},\"xaxis10\":{\"anchor\":\"y10\",\"domain\":[0.9179999999999999,0.9999999999999999],\"title\":{\"text\":\"tversky_beta\"}},\"yaxis10\":{\"anchor\":\"x10\",\"domain\":[0.0,1.0],\"matches\":\"y\",\"showticklabels\":false},\"title\":{\"text\":\"Slice Plot\"},\"width\":3000},                        {\"responsive\": true}                    ).then(function(){\n",
       "                            \n",
       "var gd = document.getElementById('0ef93933-58b5-4645-81bd-6c3de4c78087');\n",
       "var x = new MutationObserver(function (mutations, observer) {{\n",
       "        var display = window.getComputedStyle(gd).display;\n",
       "        if (!display || display === 'none') {{\n",
       "            console.log([gd, 'removed!']);\n",
       "            Plotly.purge(gd);\n",
       "            observer.disconnect();\n",
       "        }}\n",
       "}});\n",
       "\n",
       "// Listen for the removal of the full notebook cells\n",
       "var notebookContainer = gd.closest('#notebook-container');\n",
       "if (notebookContainer) {{\n",
       "    x.observe(notebookContainer, {childList: true});\n",
       "}}\n",
       "\n",
       "// Listen for the clearing of the current output cell\n",
       "var outputEl = gd.closest('.output');\n",
       "if (outputEl) {{\n",
       "    x.observe(outputEl, {childList: true});\n",
       "}}\n",
       "\n",
       "                        })                };                });            </script>        </div>"
      ]
     },
     "metadata": {},
     "output_type": "display_data"
    }
   ],
   "source": [
    "if not config['tune_parameters']:\n",
    "    optuna_study = optuna.load_study(study_name=f'hyperparameters_tuning_{config[\"model\"]}', storage=f'sqlite:///{config[\"database_path\"]}')\n",
    "    \n",
    "fig = optuna.visualization.plot_slice(optuna_study)\n",
    "fig.show()"
   ]
  },
  {
   "cell_type": "code",
   "execution_count": 15,
   "id": "f7081c0c",
   "metadata": {
    "execution": {
     "iopub.execute_input": "2024-11-29T18:55:46.617816Z",
     "iopub.status.busy": "2024-11-29T18:55:46.617363Z",
     "iopub.status.idle": "2024-11-29T18:55:55.174988Z",
     "shell.execute_reply": "2024-11-29T18:55:55.173733Z"
    },
    "papermill": {
     "duration": 8.608231,
     "end_time": "2024-11-29T18:55:55.177346",
     "exception": false,
     "start_time": "2024-11-29T18:55:46.569115",
     "status": "completed"
    },
    "tags": []
   },
   "outputs": [
    {
     "data": {
      "text/html": [
       "<div>                            <div id=\"50ad23e3-de64-4474-a4d0-7f1d39a3aca0\" class=\"plotly-graph-div\" style=\"height:525px; width:100%;\"></div>            <script type=\"text/javascript\">                require([\"plotly\"], function(Plotly) {                    window.PLOTLYENV=window.PLOTLYENV || {};                                    if (document.getElementById(\"50ad23e3-de64-4474-a4d0-7f1d39a3aca0\")) {                    Plotly.newPlot(                        \"50ad23e3-de64-4474-a4d0-7f1d39a3aca0\",                        [{\"cliponaxis\":false,\"hovertemplate\":[\"feature_weighting (CategoricalDistribution): 0.11060072272466435\\u003cextra\\u003e\\u003c\\u002fextra\\u003e\",\"shrink (IntDistribution): 0.3399559677207465\\u003cextra\\u003e\\u003c\\u002fextra\\u003e\",\"similarity (CategoricalDistribution): 0.5494433095545891\\u003cextra\\u003e\\u003c\\u002fextra\\u003e\"],\"name\":\"Objective Value\",\"orientation\":\"h\",\"text\":[\"0.11\",\"0.34\",\"0.55\"],\"textposition\":\"outside\",\"x\":[0.11060072272466435,0.3399559677207465,0.5494433095545891],\"y\":[\"feature_weighting\",\"shrink\",\"similarity\"],\"type\":\"bar\"}],                        {\"title\":{\"text\":\"Hyperparameter Importances\"},\"xaxis\":{\"title\":{\"text\":\"Hyperparameter Importance\"}},\"yaxis\":{\"title\":{\"text\":\"Hyperparameter\"}},\"template\":{\"data\":{\"histogram2dcontour\":[{\"type\":\"histogram2dcontour\",\"colorbar\":{\"outlinewidth\":0,\"ticks\":\"\"},\"colorscale\":[[0.0,\"#0d0887\"],[0.1111111111111111,\"#46039f\"],[0.2222222222222222,\"#7201a8\"],[0.3333333333333333,\"#9c179e\"],[0.4444444444444444,\"#bd3786\"],[0.5555555555555556,\"#d8576b\"],[0.6666666666666666,\"#ed7953\"],[0.7777777777777778,\"#fb9f3a\"],[0.8888888888888888,\"#fdca26\"],[1.0,\"#f0f921\"]]}],\"choropleth\":[{\"type\":\"choropleth\",\"colorbar\":{\"outlinewidth\":0,\"ticks\":\"\"}}],\"histogram2d\":[{\"type\":\"histogram2d\",\"colorbar\":{\"outlinewidth\":0,\"ticks\":\"\"},\"colorscale\":[[0.0,\"#0d0887\"],[0.1111111111111111,\"#46039f\"],[0.2222222222222222,\"#7201a8\"],[0.3333333333333333,\"#9c179e\"],[0.4444444444444444,\"#bd3786\"],[0.5555555555555556,\"#d8576b\"],[0.6666666666666666,\"#ed7953\"],[0.7777777777777778,\"#fb9f3a\"],[0.8888888888888888,\"#fdca26\"],[1.0,\"#f0f921\"]]}],\"heatmap\":[{\"type\":\"heatmap\",\"colorbar\":{\"outlinewidth\":0,\"ticks\":\"\"},\"colorscale\":[[0.0,\"#0d0887\"],[0.1111111111111111,\"#46039f\"],[0.2222222222222222,\"#7201a8\"],[0.3333333333333333,\"#9c179e\"],[0.4444444444444444,\"#bd3786\"],[0.5555555555555556,\"#d8576b\"],[0.6666666666666666,\"#ed7953\"],[0.7777777777777778,\"#fb9f3a\"],[0.8888888888888888,\"#fdca26\"],[1.0,\"#f0f921\"]]}],\"heatmapgl\":[{\"type\":\"heatmapgl\",\"colorbar\":{\"outlinewidth\":0,\"ticks\":\"\"},\"colorscale\":[[0.0,\"#0d0887\"],[0.1111111111111111,\"#46039f\"],[0.2222222222222222,\"#7201a8\"],[0.3333333333333333,\"#9c179e\"],[0.4444444444444444,\"#bd3786\"],[0.5555555555555556,\"#d8576b\"],[0.6666666666666666,\"#ed7953\"],[0.7777777777777778,\"#fb9f3a\"],[0.8888888888888888,\"#fdca26\"],[1.0,\"#f0f921\"]]}],\"contourcarpet\":[{\"type\":\"contourcarpet\",\"colorbar\":{\"outlinewidth\":0,\"ticks\":\"\"}}],\"contour\":[{\"type\":\"contour\",\"colorbar\":{\"outlinewidth\":0,\"ticks\":\"\"},\"colorscale\":[[0.0,\"#0d0887\"],[0.1111111111111111,\"#46039f\"],[0.2222222222222222,\"#7201a8\"],[0.3333333333333333,\"#9c179e\"],[0.4444444444444444,\"#bd3786\"],[0.5555555555555556,\"#d8576b\"],[0.6666666666666666,\"#ed7953\"],[0.7777777777777778,\"#fb9f3a\"],[0.8888888888888888,\"#fdca26\"],[1.0,\"#f0f921\"]]}],\"surface\":[{\"type\":\"surface\",\"colorbar\":{\"outlinewidth\":0,\"ticks\":\"\"},\"colorscale\":[[0.0,\"#0d0887\"],[0.1111111111111111,\"#46039f\"],[0.2222222222222222,\"#7201a8\"],[0.3333333333333333,\"#9c179e\"],[0.4444444444444444,\"#bd3786\"],[0.5555555555555556,\"#d8576b\"],[0.6666666666666666,\"#ed7953\"],[0.7777777777777778,\"#fb9f3a\"],[0.8888888888888888,\"#fdca26\"],[1.0,\"#f0f921\"]]}],\"mesh3d\":[{\"type\":\"mesh3d\",\"colorbar\":{\"outlinewidth\":0,\"ticks\":\"\"}}],\"scatter\":[{\"fillpattern\":{\"fillmode\":\"overlay\",\"size\":10,\"solidity\":0.2},\"type\":\"scatter\"}],\"parcoords\":[{\"type\":\"parcoords\",\"line\":{\"colorbar\":{\"outlinewidth\":0,\"ticks\":\"\"}}}],\"scatterpolargl\":[{\"type\":\"scatterpolargl\",\"marker\":{\"colorbar\":{\"outlinewidth\":0,\"ticks\":\"\"}}}],\"bar\":[{\"error_x\":{\"color\":\"#2a3f5f\"},\"error_y\":{\"color\":\"#2a3f5f\"},\"marker\":{\"line\":{\"color\":\"#E5ECF6\",\"width\":0.5},\"pattern\":{\"fillmode\":\"overlay\",\"size\":10,\"solidity\":0.2}},\"type\":\"bar\"}],\"scattergeo\":[{\"type\":\"scattergeo\",\"marker\":{\"colorbar\":{\"outlinewidth\":0,\"ticks\":\"\"}}}],\"scatterpolar\":[{\"type\":\"scatterpolar\",\"marker\":{\"colorbar\":{\"outlinewidth\":0,\"ticks\":\"\"}}}],\"histogram\":[{\"marker\":{\"pattern\":{\"fillmode\":\"overlay\",\"size\":10,\"solidity\":0.2}},\"type\":\"histogram\"}],\"scattergl\":[{\"type\":\"scattergl\",\"marker\":{\"colorbar\":{\"outlinewidth\":0,\"ticks\":\"\"}}}],\"scatter3d\":[{\"type\":\"scatter3d\",\"line\":{\"colorbar\":{\"outlinewidth\":0,\"ticks\":\"\"}},\"marker\":{\"colorbar\":{\"outlinewidth\":0,\"ticks\":\"\"}}}],\"scattermapbox\":[{\"type\":\"scattermapbox\",\"marker\":{\"colorbar\":{\"outlinewidth\":0,\"ticks\":\"\"}}}],\"scatterternary\":[{\"type\":\"scatterternary\",\"marker\":{\"colorbar\":{\"outlinewidth\":0,\"ticks\":\"\"}}}],\"scattercarpet\":[{\"type\":\"scattercarpet\",\"marker\":{\"colorbar\":{\"outlinewidth\":0,\"ticks\":\"\"}}}],\"carpet\":[{\"aaxis\":{\"endlinecolor\":\"#2a3f5f\",\"gridcolor\":\"white\",\"linecolor\":\"white\",\"minorgridcolor\":\"white\",\"startlinecolor\":\"#2a3f5f\"},\"baxis\":{\"endlinecolor\":\"#2a3f5f\",\"gridcolor\":\"white\",\"linecolor\":\"white\",\"minorgridcolor\":\"white\",\"startlinecolor\":\"#2a3f5f\"},\"type\":\"carpet\"}],\"table\":[{\"cells\":{\"fill\":{\"color\":\"#EBF0F8\"},\"line\":{\"color\":\"white\"}},\"header\":{\"fill\":{\"color\":\"#C8D4E3\"},\"line\":{\"color\":\"white\"}},\"type\":\"table\"}],\"barpolar\":[{\"marker\":{\"line\":{\"color\":\"#E5ECF6\",\"width\":0.5},\"pattern\":{\"fillmode\":\"overlay\",\"size\":10,\"solidity\":0.2}},\"type\":\"barpolar\"}],\"pie\":[{\"automargin\":true,\"type\":\"pie\"}]},\"layout\":{\"autotypenumbers\":\"strict\",\"colorway\":[\"#636efa\",\"#EF553B\",\"#00cc96\",\"#ab63fa\",\"#FFA15A\",\"#19d3f3\",\"#FF6692\",\"#B6E880\",\"#FF97FF\",\"#FECB52\"],\"font\":{\"color\":\"#2a3f5f\"},\"hovermode\":\"closest\",\"hoverlabel\":{\"align\":\"left\"},\"paper_bgcolor\":\"white\",\"plot_bgcolor\":\"#E5ECF6\",\"polar\":{\"bgcolor\":\"#E5ECF6\",\"angularaxis\":{\"gridcolor\":\"white\",\"linecolor\":\"white\",\"ticks\":\"\"},\"radialaxis\":{\"gridcolor\":\"white\",\"linecolor\":\"white\",\"ticks\":\"\"}},\"ternary\":{\"bgcolor\":\"#E5ECF6\",\"aaxis\":{\"gridcolor\":\"white\",\"linecolor\":\"white\",\"ticks\":\"\"},\"baxis\":{\"gridcolor\":\"white\",\"linecolor\":\"white\",\"ticks\":\"\"},\"caxis\":{\"gridcolor\":\"white\",\"linecolor\":\"white\",\"ticks\":\"\"}},\"coloraxis\":{\"colorbar\":{\"outlinewidth\":0,\"ticks\":\"\"}},\"colorscale\":{\"sequential\":[[0.0,\"#0d0887\"],[0.1111111111111111,\"#46039f\"],[0.2222222222222222,\"#7201a8\"],[0.3333333333333333,\"#9c179e\"],[0.4444444444444444,\"#bd3786\"],[0.5555555555555556,\"#d8576b\"],[0.6666666666666666,\"#ed7953\"],[0.7777777777777778,\"#fb9f3a\"],[0.8888888888888888,\"#fdca26\"],[1.0,\"#f0f921\"]],\"sequentialminus\":[[0.0,\"#0d0887\"],[0.1111111111111111,\"#46039f\"],[0.2222222222222222,\"#7201a8\"],[0.3333333333333333,\"#9c179e\"],[0.4444444444444444,\"#bd3786\"],[0.5555555555555556,\"#d8576b\"],[0.6666666666666666,\"#ed7953\"],[0.7777777777777778,\"#fb9f3a\"],[0.8888888888888888,\"#fdca26\"],[1.0,\"#f0f921\"]],\"diverging\":[[0,\"#8e0152\"],[0.1,\"#c51b7d\"],[0.2,\"#de77ae\"],[0.3,\"#f1b6da\"],[0.4,\"#fde0ef\"],[0.5,\"#f7f7f7\"],[0.6,\"#e6f5d0\"],[0.7,\"#b8e186\"],[0.8,\"#7fbc41\"],[0.9,\"#4d9221\"],[1,\"#276419\"]]},\"xaxis\":{\"gridcolor\":\"white\",\"linecolor\":\"white\",\"ticks\":\"\",\"title\":{\"standoff\":15},\"zerolinecolor\":\"white\",\"automargin\":true,\"zerolinewidth\":2},\"yaxis\":{\"gridcolor\":\"white\",\"linecolor\":\"white\",\"ticks\":\"\",\"title\":{\"standoff\":15},\"zerolinecolor\":\"white\",\"automargin\":true,\"zerolinewidth\":2},\"scene\":{\"xaxis\":{\"backgroundcolor\":\"#E5ECF6\",\"gridcolor\":\"white\",\"linecolor\":\"white\",\"showbackground\":true,\"ticks\":\"\",\"zerolinecolor\":\"white\",\"gridwidth\":2},\"yaxis\":{\"backgroundcolor\":\"#E5ECF6\",\"gridcolor\":\"white\",\"linecolor\":\"white\",\"showbackground\":true,\"ticks\":\"\",\"zerolinecolor\":\"white\",\"gridwidth\":2},\"zaxis\":{\"backgroundcolor\":\"#E5ECF6\",\"gridcolor\":\"white\",\"linecolor\":\"white\",\"showbackground\":true,\"ticks\":\"\",\"zerolinecolor\":\"white\",\"gridwidth\":2}},\"shapedefaults\":{\"line\":{\"color\":\"#2a3f5f\"}},\"annotationdefaults\":{\"arrowcolor\":\"#2a3f5f\",\"arrowhead\":0,\"arrowwidth\":1},\"geo\":{\"bgcolor\":\"white\",\"landcolor\":\"#E5ECF6\",\"subunitcolor\":\"white\",\"showland\":true,\"showlakes\":true,\"lakecolor\":\"white\"},\"title\":{\"x\":0.05},\"mapbox\":{\"style\":\"light\"}}}},                        {\"responsive\": true}                    ).then(function(){\n",
       "                            \n",
       "var gd = document.getElementById('50ad23e3-de64-4474-a4d0-7f1d39a3aca0');\n",
       "var x = new MutationObserver(function (mutations, observer) {{\n",
       "        var display = window.getComputedStyle(gd).display;\n",
       "        if (!display || display === 'none') {{\n",
       "            console.log([gd, 'removed!']);\n",
       "            Plotly.purge(gd);\n",
       "            observer.disconnect();\n",
       "        }}\n",
       "}});\n",
       "\n",
       "// Listen for the removal of the full notebook cells\n",
       "var notebookContainer = gd.closest('#notebook-container');\n",
       "if (notebookContainer) {{\n",
       "    x.observe(notebookContainer, {childList: true});\n",
       "}}\n",
       "\n",
       "// Listen for the clearing of the current output cell\n",
       "var outputEl = gd.closest('.output');\n",
       "if (outputEl) {{\n",
       "    x.observe(outputEl, {childList: true});\n",
       "}}\n",
       "\n",
       "                        })                };                });            </script>        </div>"
      ]
     },
     "metadata": {},
     "output_type": "display_data"
    }
   ],
   "source": [
    "if not config['tune_parameters']:\n",
    "    optuna_study = optuna.load_study(study_name=f'hyperparameters_tuning_{config[\"model\"]}', storage=f'sqlite:///{config[\"database_path\"]}')\n",
    "    \n",
    "fig = optuna.visualization.plot_param_importances(optuna_study)\n",
    "fig.show()"
   ]
  },
  {
   "cell_type": "markdown",
   "id": "56b3b31a",
   "metadata": {
    "papermill": {
     "duration": 0.047992,
     "end_time": "2024-11-29T18:55:55.272674",
     "exception": false,
     "start_time": "2024-11-29T18:55:55.224682",
     "status": "completed"
    },
    "tags": []
   },
   "source": [
    "## Let's train the recommender with best parameter values"
   ]
  },
  {
   "cell_type": "code",
   "execution_count": 16,
   "id": "5cf8b803",
   "metadata": {
    "execution": {
     "iopub.execute_input": "2024-11-29T18:55:55.368279Z",
     "iopub.status.busy": "2024-11-29T18:55:55.367901Z",
     "iopub.status.idle": "2024-11-29T18:56:11.189899Z",
     "shell.execute_reply": "2024-11-29T18:56:11.188865Z"
    },
    "papermill": {
     "duration": 15.872884,
     "end_time": "2024-11-29T18:56:11.192397",
     "exception": false,
     "start_time": "2024-11-29T18:55:55.319513",
     "status": "completed"
    },
    "tags": []
   },
   "outputs": [
    {
     "name": "stdout",
     "output_type": "stream",
     "text": [
      "Similarity column 38121 (100.0%), 2458.77 column/sec. Elapsed time 15.50 sec\n"
     ]
    }
   ],
   "source": [
    "if config['tune_best_params']:\n",
    "\n",
    "    if config['tune_parameters']:\n",
    "        best_params = optuna_study.best_trial.params\n",
    "    else: \n",
    "        with open(f'{K_PATH}/{GH_PATH}/{config[\"model\"]}Recommender/best_params_{config[\"model\"]}.json', 'r') as best_params_json:\n",
    "            best_params = json.load(best_params_json)\n",
    "\n",
    "    recommender_instance = ItemKNNCFRecommender(URM_train + URM_validation)\n",
    "    recommender_instance.fit(**best_params)"
   ]
  },
  {
   "cell_type": "markdown",
   "id": "a872ad72",
   "metadata": {
    "papermill": {
     "duration": 0.048787,
     "end_time": "2024-11-29T18:56:11.290431",
     "exception": false,
     "start_time": "2024-11-29T18:56:11.241644",
     "status": "completed"
    },
    "tags": []
   },
   "source": [
    "# Testing"
   ]
  },
  {
   "cell_type": "markdown",
   "id": "8008d716",
   "metadata": {
    "papermill": {
     "duration": 0.047071,
     "end_time": "2024-11-29T18:56:11.384853",
     "exception": false,
     "start_time": "2024-11-29T18:56:11.337782",
     "status": "completed"
    },
    "tags": []
   },
   "source": [
    "Create the recommendations for the submission. "
   ]
  },
  {
   "cell_type": "code",
   "execution_count": 17,
   "id": "304c686b",
   "metadata": {
    "execution": {
     "iopub.execute_input": "2024-11-29T18:56:11.481591Z",
     "iopub.status.busy": "2024-11-29T18:56:11.481236Z",
     "iopub.status.idle": "2024-11-29T18:56:30.386629Z",
     "shell.execute_reply": "2024-11-29T18:56:30.385472Z"
    },
    "papermill": {
     "duration": 18.957547,
     "end_time": "2024-11-29T18:56:30.389254",
     "exception": false,
     "start_time": "2024-11-29T18:56:11.431707",
     "status": "completed"
    },
    "tags": []
   },
   "outputs": [
    {
     "name": "stdout",
     "output_type": "stream",
     "text": [
      "Submission file saved as /kaggle/working/submission_ItemKNNCF.csv\n"
     ]
    }
   ],
   "source": [
    "if config['tune_best_params']:\n",
    "\n",
    "    data_target_users_test = pd.read_csv('/kaggle/input/recommender-system-2024-challenge-polimi/data_target_users_test.csv')\n",
    "    create_submission(data_target_users_test, recommender_instance, f'/kaggle/working/submission_{config[\"model\"]}.csv')"
   ]
  },
  {
   "cell_type": "markdown",
   "id": "6bb1c595",
   "metadata": {
    "execution": {
     "iopub.execute_input": "2024-11-14T00:04:16.877791Z",
     "iopub.status.busy": "2024-11-14T00:04:16.877275Z",
     "iopub.status.idle": "2024-11-14T00:04:16.883170Z",
     "shell.execute_reply": "2024-11-14T00:04:16.881889Z",
     "shell.execute_reply.started": "2024-11-14T00:04:16.877743Z"
    },
    "papermill": {
     "duration": 0.047532,
     "end_time": "2024-11-29T18:56:30.484572",
     "exception": false,
     "start_time": "2024-11-29T18:56:30.437040",
     "status": "completed"
    },
    "tags": []
   },
   "source": [
    "# Save Version on GitHub "
   ]
  },
  {
   "cell_type": "markdown",
   "id": "fd2b9af1",
   "metadata": {
    "papermill": {
     "duration": 0.047193,
     "end_time": "2024-11-29T18:56:30.580381",
     "exception": false,
     "start_time": "2024-11-29T18:56:30.533188",
     "status": "completed"
    },
    "tags": []
   },
   "source": [
    "Write or import a json file where best hyperparameters are saved. "
   ]
  },
  {
   "cell_type": "code",
   "execution_count": 18,
   "id": "df8019b8",
   "metadata": {
    "execution": {
     "iopub.execute_input": "2024-11-29T18:56:30.684633Z",
     "iopub.status.busy": "2024-11-29T18:56:30.683573Z",
     "iopub.status.idle": "2024-11-29T18:56:31.769050Z",
     "shell.execute_reply": "2024-11-29T18:56:31.767571Z"
    },
    "papermill": {
     "duration": 1.140149,
     "end_time": "2024-11-29T18:56:31.771502",
     "exception": false,
     "start_time": "2024-11-29T18:56:30.631353",
     "status": "completed"
    },
    "tags": []
   },
   "outputs": [
    {
     "name": "stdout",
     "output_type": "stream",
     "text": [
      "File 'TrainedModels/WithoutKFCV/SingleRecommenders/ItemKNNCFRecommender/best_params_ItemKNNCF.json' updated successfully.\n"
     ]
    }
   ],
   "source": [
    "if config['tune_parameters']:\n",
    "    with open(f'/kaggle/working/best_params_{config[\"model\"]}.json', 'w') as params_file:\n",
    "        json.dump(optuna_study.best_params, params_file)\n",
    "        \n",
    "    if config['save_github']:\n",
    "        upload_file(\n",
    "            f'/kaggle/working/best_params_{config[\"model\"]}.json', \n",
    "            f'{GH_PATH}/{config[\"model\"]}Recommender/best_params_{config[\"model\"]}.json', \n",
    "            f'{config[\"model\"]} tuning results (from kaggle notebook)',\n",
    "            repo\n",
    "        )\n",
    "elif config['copy_prev_best_params']:\n",
    "    shutil.copyfile(\n",
    "        f'{K_PATH}/{GH_PATH}/{config[\"model\"]}Recommender/'\\\n",
    "        f'best_params_{config[\"model\"]}.json', \n",
    "        f'/kaggle/working/best_params_{config[\"model\"]}.json'\n",
    "    )"
   ]
  },
  {
   "cell_type": "markdown",
   "id": "c7a90dc1",
   "metadata": {
    "papermill": {
     "duration": 0.047818,
     "end_time": "2024-11-29T18:56:31.870652",
     "exception": false,
     "start_time": "2024-11-29T18:56:31.822834",
     "status": "completed"
    },
    "tags": []
   },
   "source": [
    "Save the history of the tuned model."
   ]
  },
  {
   "cell_type": "code",
   "execution_count": 19,
   "id": "8f6daa9a",
   "metadata": {
    "execution": {
     "iopub.execute_input": "2024-11-29T18:56:31.968890Z",
     "iopub.status.busy": "2024-11-29T18:56:31.968478Z",
     "iopub.status.idle": "2024-11-29T18:56:33.581063Z",
     "shell.execute_reply": "2024-11-29T18:56:33.579849Z"
    },
    "papermill": {
     "duration": 1.6653,
     "end_time": "2024-11-29T18:56:33.583447",
     "exception": false,
     "start_time": "2024-11-29T18:56:31.918147",
     "status": "completed"
    },
    "tags": []
   },
   "outputs": [
    {
     "name": "stdout",
     "output_type": "stream",
     "text": [
      "File 'TrainedModels/WithoutKFCV/SingleRecommenders/ItemKNNCFRecommender/history_ItemKNNCF.db' updated successfully.\n"
     ]
    }
   ],
   "source": [
    "if config['save_github'] and config['tune_parameters']:\n",
    "    upload_file(\n",
    "        config['database_path'], \n",
    "        f'{GH_PATH}/{config[\"model\"]}Recommender/history_{config[\"model\"]}.db',\n",
    "        f'Tuning {config[\"model\"]} db updated results (from kaggle notebook)',\n",
    "        repo\n",
    "    )"
   ]
  },
  {
   "cell_type": "markdown",
   "id": "3d6258b2",
   "metadata": {
    "execution": {
     "iopub.execute_input": "2024-11-14T00:41:34.294243Z",
     "iopub.status.busy": "2024-11-14T00:41:34.293739Z",
     "iopub.status.idle": "2024-11-14T00:41:34.301478Z",
     "shell.execute_reply": "2024-11-14T00:41:34.299869Z",
     "shell.execute_reply.started": "2024-11-14T00:41:34.294186Z"
    },
    "papermill": {
     "duration": 0.049084,
     "end_time": "2024-11-29T18:56:33.680488",
     "exception": false,
     "start_time": "2024-11-29T18:56:33.631404",
     "status": "completed"
    },
    "tags": []
   },
   "source": [
    "Save the best trained model and its submission."
   ]
  },
  {
   "cell_type": "code",
   "execution_count": 20,
   "id": "b8d2af00",
   "metadata": {
    "execution": {
     "iopub.execute_input": "2024-11-29T18:56:33.779707Z",
     "iopub.status.busy": "2024-11-29T18:56:33.779287Z",
     "iopub.status.idle": "2024-11-29T18:56:35.875117Z",
     "shell.execute_reply": "2024-11-29T18:56:35.873919Z"
    },
    "papermill": {
     "duration": 2.148931,
     "end_time": "2024-11-29T18:56:35.877850",
     "exception": false,
     "start_time": "2024-11-29T18:56:33.728919",
     "status": "completed"
    },
    "tags": []
   },
   "outputs": [
    {
     "name": "stdout",
     "output_type": "stream",
     "text": [
      "File 'TrainedModels/WithoutKFCV/SingleRecommenders/ItemKNNCFRecommender/Submission/submission_ItemKNNCF.csv' updated successfully.\n"
     ]
    }
   ],
   "source": [
    "if config['save_github'] and config['tune_best_params']: \n",
    "    upload_file(\n",
    "                f'/kaggle/working/submission_{config[\"model\"]}.csv', \n",
    "                f'{GH_PATH}/{config[\"model\"]}Recommender/Submission/submission_{config[\"model\"]}.csv', \n",
    "                f'New {config[\"model\"]} submission (from kaggle notebook)',\n",
    "                repo\n",
    "            )"
   ]
  }
 ],
 "metadata": {
  "kaggle": {
   "accelerator": "none",
   "dataSources": [
    {
     "databundleVersionId": 9982103,
     "sourceId": 87439,
     "sourceType": "competition"
    }
   ],
   "dockerImageVersionId": 30786,
   "isGpuEnabled": false,
   "isInternetEnabled": true,
   "language": "python",
   "sourceType": "notebook"
  },
  "kernelspec": {
   "display_name": "Python 3",
   "language": "python",
   "name": "python3"
  },
  "language_info": {
   "codemirror_mode": {
    "name": "ipython",
    "version": 3
   },
   "file_extension": ".py",
   "mimetype": "text/x-python",
   "name": "python",
   "nbconvert_exporter": "python",
   "pygments_lexer": "ipython3",
   "version": "3.10.14"
  },
  "papermill": {
   "default_parameters": {},
   "duration": 9880.474241,
   "end_time": "2024-11-29T18:56:37.150429",
   "environment_variables": {},
   "exception": null,
   "input_path": "__notebook__.ipynb",
   "output_path": "__notebook__.ipynb",
   "parameters": {},
   "start_time": "2024-11-29T16:11:56.676188",
   "version": "2.6.0"
  }
 },
 "nbformat": 4,
 "nbformat_minor": 5
}
