{
 "cells": [
  {
   "cell_type": "markdown",
   "id": "c2921bb0",
   "metadata": {
    "papermill": {
     "duration": 0.006278,
     "end_time": "2024-12-16T12:15:21.934550",
     "exception": false,
     "start_time": "2024-12-16T12:15:21.928272",
     "status": "completed"
    },
    "tags": []
   },
   "source": [
    "# Set connection with GitHub"
   ]
  },
  {
   "cell_type": "code",
   "execution_count": 1,
   "id": "a2b24897",
   "metadata": {
    "execution": {
     "iopub.execute_input": "2024-12-16T12:15:21.947255Z",
     "iopub.status.busy": "2024-12-16T12:15:21.946824Z",
     "iopub.status.idle": "2024-12-16T12:15:21.952572Z",
     "shell.execute_reply": "2024-12-16T12:15:21.951438Z"
    },
    "papermill": {
     "duration": 0.014388,
     "end_time": "2024-12-16T12:15:21.954822",
     "exception": false,
     "start_time": "2024-12-16T12:15:21.940434",
     "status": "completed"
    },
    "tags": []
   },
   "outputs": [],
   "source": [
    "# ! cd /kaggle/working && rm -rf RECsys_Challenge2024"
   ]
  },
  {
   "cell_type": "code",
   "execution_count": 2,
   "id": "784e2584",
   "metadata": {
    "_cell_guid": "b1076dfc-b9ad-4769-8c92-a6c4dae69d19",
    "_uuid": "8f2839f25d086af736a60e9eeb907d3b93b6e0e5",
    "execution": {
     "iopub.execute_input": "2024-12-16T12:15:21.968081Z",
     "iopub.status.busy": "2024-12-16T12:15:21.967681Z",
     "iopub.status.idle": "2024-12-16T12:15:36.498457Z",
     "shell.execute_reply": "2024-12-16T12:15:36.497250Z"
    },
    "papermill": {
     "duration": 14.540976,
     "end_time": "2024-12-16T12:15:36.501159",
     "exception": false,
     "start_time": "2024-12-16T12:15:21.960183",
     "status": "completed"
    },
    "tags": []
   },
   "outputs": [
    {
     "name": "stdout",
     "output_type": "stream",
     "text": [
      "Cloning into 'RECsys_Challenge2024'...\r\n",
      "remote: Enumerating objects: 4251, done.\u001b[K\r\n",
      "remote: Counting objects: 100% (1724/1724), done.\u001b[K\r\n",
      "remote: Compressing objects: 100% (637/637), done.\u001b[K\r\n",
      "remote: Total 4251 (delta 918), reused 1560 (delta 841), pack-reused 2527 (from 1)\u001b[K\r\n",
      "Receiving objects: 100% (4251/4251), 171.96 MiB | 18.76 MiB/s, done.\r\n",
      "Resolving deltas: 100% (2437/2437), done.\r\n",
      "Updating files: 100% (395/395), done.\r\n"
     ]
    }
   ],
   "source": [
    "from kaggle_secrets import UserSecretsClient\n",
    "\n",
    "token = UserSecretsClient().get_secret(\"Token\")\n",
    "\n",
    "! git clone https://{token}@github.com/madratak/RECsys_Challenge2024.git"
   ]
  },
  {
   "cell_type": "code",
   "execution_count": 3,
   "id": "b82084cb",
   "metadata": {
    "execution": {
     "iopub.execute_input": "2024-12-16T12:15:36.522150Z",
     "iopub.status.busy": "2024-12-16T12:15:36.521094Z",
     "iopub.status.idle": "2024-12-16T12:15:48.884485Z",
     "shell.execute_reply": "2024-12-16T12:15:48.882812Z"
    },
    "papermill": {
     "duration": 12.377204,
     "end_time": "2024-12-16T12:15:48.888037",
     "exception": false,
     "start_time": "2024-12-16T12:15:36.510833",
     "status": "completed"
    },
    "tags": []
   },
   "outputs": [
    {
     "name": "stdout",
     "output_type": "stream",
     "text": [
      "Collecting PyGithub\r\n",
      "  Downloading PyGithub-2.5.0-py3-none-any.whl.metadata (3.9 kB)\r\n",
      "Requirement already satisfied: requests in /opt/conda/lib/python3.10/site-packages (2.32.3)\r\n",
      "Collecting pynacl>=1.4.0 (from PyGithub)\r\n",
      "  Downloading PyNaCl-1.5.0-cp36-abi3-manylinux_2_17_x86_64.manylinux2014_x86_64.manylinux_2_24_x86_64.whl.metadata (8.6 kB)\r\n",
      "Requirement already satisfied: pyjwt>=2.4.0 in /opt/conda/lib/python3.10/site-packages (from pyjwt[crypto]>=2.4.0->PyGithub) (2.8.0)\r\n",
      "Requirement already satisfied: typing-extensions>=4.0.0 in /opt/conda/lib/python3.10/site-packages (from PyGithub) (4.12.2)\r\n",
      "Requirement already satisfied: urllib3>=1.26.0 in /opt/conda/lib/python3.10/site-packages (from PyGithub) (1.26.18)\r\n",
      "Requirement already satisfied: Deprecated in /opt/conda/lib/python3.10/site-packages (from PyGithub) (1.2.14)\r\n",
      "Requirement already satisfied: charset-normalizer<4,>=2 in /opt/conda/lib/python3.10/site-packages (from requests) (3.3.2)\r\n",
      "Requirement already satisfied: idna<4,>=2.5 in /opt/conda/lib/python3.10/site-packages (from requests) (3.7)\r\n",
      "Requirement already satisfied: certifi>=2017.4.17 in /opt/conda/lib/python3.10/site-packages (from requests) (2024.6.2)\r\n",
      "Requirement already satisfied: cryptography>=3.4.0 in /opt/conda/lib/python3.10/site-packages (from pyjwt[crypto]>=2.4.0->PyGithub) (42.0.8)\r\n",
      "Requirement already satisfied: cffi>=1.4.1 in /opt/conda/lib/python3.10/site-packages (from pynacl>=1.4.0->PyGithub) (1.16.0)\r\n",
      "Requirement already satisfied: wrapt<2,>=1.10 in /opt/conda/lib/python3.10/site-packages (from Deprecated->PyGithub) (1.16.0)\r\n",
      "Requirement already satisfied: pycparser in /opt/conda/lib/python3.10/site-packages (from cffi>=1.4.1->pynacl>=1.4.0->PyGithub) (2.22)\r\n",
      "Downloading PyGithub-2.5.0-py3-none-any.whl (375 kB)\r\n",
      "\u001b[2K   \u001b[90m━━━━━━━━━━━━━━━━━━━━━━━━━━━━━━━━━━━━━━━━\u001b[0m \u001b[32m375.9/375.9 kB\u001b[0m \u001b[31m13.5 MB/s\u001b[0m eta \u001b[36m0:00:00\u001b[0m\r\n",
      "\u001b[?25hDownloading PyNaCl-1.5.0-cp36-abi3-manylinux_2_17_x86_64.manylinux2014_x86_64.manylinux_2_24_x86_64.whl (856 kB)\r\n",
      "\u001b[2K   \u001b[90m━━━━━━━━━━━━━━━━━━━━━━━━━━━━━━━━━━━━━━━━\u001b[0m \u001b[32m856.7/856.7 kB\u001b[0m \u001b[31m31.0 MB/s\u001b[0m eta \u001b[36m0:00:00\u001b[0m\r\n",
      "\u001b[?25hInstalling collected packages: pynacl, PyGithub\r\n",
      "Successfully installed PyGithub-2.5.0 pynacl-1.5.0\r\n"
     ]
    }
   ],
   "source": [
    "! pip install PyGithub requests"
   ]
  },
  {
   "cell_type": "code",
   "execution_count": 4,
   "id": "3f6b166b",
   "metadata": {
    "_kg_hide-input": false,
    "execution": {
     "iopub.execute_input": "2024-12-16T12:15:48.915173Z",
     "iopub.status.busy": "2024-12-16T12:15:48.914585Z",
     "iopub.status.idle": "2024-12-16T12:18:22.764302Z",
     "shell.execute_reply": "2024-12-16T12:18:22.763030Z"
    },
    "papermill": {
     "duration": 153.864624,
     "end_time": "2024-12-16T12:18:22.766951",
     "exception": false,
     "start_time": "2024-12-16T12:15:48.902327",
     "status": "completed"
    },
    "tags": []
   },
   "outputs": [
    {
     "name": "stdout",
     "output_type": "stream",
     "text": [
      "/kaggle/working/RECsys_Challenge2024\n",
      "run_compile_all_cython: Found 11 Cython files in 5 folders...\r\n",
      "run_compile_all_cython: All files will be compiled using your current python environment: '/opt/conda/bin/python'\r\n",
      "Compiling [1/11]: MatrixFactorization_Cython_Epoch.pyx... \r\n",
      "In file included from \u001b[01m\u001b[K/opt/conda/lib/python3.10/site-packages/numpy/core/include/numpy/ndarraytypes.h:1929\u001b[m\u001b[K,\r\n",
      "                 from \u001b[01m\u001b[K/opt/conda/lib/python3.10/site-packages/numpy/core/include/numpy/ndarrayobject.h:12\u001b[m\u001b[K,\r\n",
      "                 from \u001b[01m\u001b[K/opt/conda/lib/python3.10/site-packages/numpy/core/include/numpy/arrayobject.h:5\u001b[m\u001b[K,\r\n",
      "                 from \u001b[01m\u001b[KMatrixFactorization_Cython_Epoch.c:1252\u001b[m\u001b[K:\r\n",
      "\u001b[01m\u001b[K/opt/conda/lib/python3.10/site-packages/numpy/core/include/numpy/npy_1_7_deprecated_api.h:17:2:\u001b[m\u001b[K \u001b[01;35m\u001b[Kwarning: \u001b[m\u001b[K#warning \"Using deprecated NumPy API, disable it with \" \"#define NPY_NO_DEPRECATED_API NPY_1_7_API_VERSION\" [\u001b[01;35m\u001b[K-Wcpp\u001b[m\u001b[K]\r\n",
      "   17 | #\u001b[01;35m\u001b[Kwarning\u001b[m\u001b[K \"Using deprecated NumPy API, disable it with \" \\\r\n",
      "      |  \u001b[01;35m\u001b[K^~~~~~~\u001b[m\u001b[K\r\n",
      "\u001b[01m\u001b[KMatrixFactorization_Cython_Epoch.c:\u001b[m\u001b[K In function '\u001b[01m\u001b[K__pyx_pf_32MatrixFactorization_Cython_Epoch_32MatrixFactorization_Cython_Epoch_10epochIteration_Cython_ASY_SVD_SGD\u001b[m\u001b[K':\r\n",
      "\u001b[01m\u001b[KMatrixFactorization_Cython_Epoch.c:26255:9:\u001b[m\u001b[K \u001b[01;35m\u001b[Kwarning: \u001b[m\u001b[K'\u001b[01m\u001b[K__pyx_v_end_pos_seen_items\u001b[m\u001b[K' may be used uninitialized in this function [\u001b[01;35m\u001b[K-Wmaybe-uninitialized\u001b[m\u001b[K]\r\n",
      "26255 |         \u001b[01;35m\u001b[Kfor\u001b[m\u001b[K (__pyx_t_21 = __pyx_v_start_pos_seen_items; __pyx_t_21 < __pyx_t_20; __pyx_t_21+=1) {\r\n",
      "      |         \u001b[01;35m\u001b[K^~~\u001b[m\u001b[K\r\n",
      "\u001b[01m\u001b[KMatrixFactorization_Cython_Epoch.c:26255:9:\u001b[m\u001b[K \u001b[01;35m\u001b[Kwarning: \u001b[m\u001b[K'\u001b[01m\u001b[K__pyx_v_start_pos_seen_items\u001b[m\u001b[K' may be used uninitialized in this function [\u001b[01;35m\u001b[K-Wmaybe-uninitialized\u001b[m\u001b[K]\r\n",
      "/opt/conda/lib/python3.10/site-packages/Cython/Compiler/Main.py:381: FutureWarning: Cython directive 'language_level' not set, using '3str' for now (Py3). This has changed from earlier releases! File: /kaggle/working/RECsys_Challenge2024/Recommenders/MatrixFactorization/Cython/MatrixFactorization_Cython_Epoch.pyx\r\n",
      "  tree = Parsing.p_module(s, pxd, full_module_name)\r\n",
      "Compiling [1/11]: MatrixFactorization_Cython_Epoch.pyx... PASS\r\n",
      "\r\n",
      "Compiling [2/11]: MatrixFactorizationImpressions_Cython_Epoch.pyx... \r\n",
      "In file included from \u001b[01m\u001b[K/opt/conda/lib/python3.10/site-packages/numpy/core/include/numpy/ndarraytypes.h:1929\u001b[m\u001b[K,\r\n",
      "                 from \u001b[01m\u001b[K/opt/conda/lib/python3.10/site-packages/numpy/core/include/numpy/ndarrayobject.h:12\u001b[m\u001b[K,\r\n",
      "                 from \u001b[01m\u001b[K/opt/conda/lib/python3.10/site-packages/numpy/core/include/numpy/arrayobject.h:5\u001b[m\u001b[K,\r\n",
      "                 from \u001b[01m\u001b[KMatrixFactorizationImpressions_Cython_Epoch.c:1252\u001b[m\u001b[K:\r\n",
      "\u001b[01m\u001b[K/opt/conda/lib/python3.10/site-packages/numpy/core/include/numpy/npy_1_7_deprecated_api.h:17:2:\u001b[m\u001b[K \u001b[01;35m\u001b[Kwarning: \u001b[m\u001b[K#warning \"Using deprecated NumPy API, disable it with \" \"#define NPY_NO_DEPRECATED_API NPY_1_7_API_VERSION\" [\u001b[01;35m\u001b[K-Wcpp\u001b[m\u001b[K]\r\n",
      "   17 | #\u001b[01;35m\u001b[Kwarning\u001b[m\u001b[K \"Using deprecated NumPy API, disable it with \" \\\r\n",
      "      |  \u001b[01;35m\u001b[K^~~~~~~\u001b[m\u001b[K\r\n",
      "\u001b[01m\u001b[KMatrixFactorizationImpressions_Cython_Epoch.c:\u001b[m\u001b[K In function '\u001b[01m\u001b[K__pyx_f_43MatrixFactorizationImpressions_Cython_Epoch_32MatrixFactorization_Cython_Epoch_sampleBPR_Cython\u001b[m\u001b[K':\r\n",
      "\u001b[01m\u001b[KMatrixFactorizationImpressions_Cython_Epoch.c:30351:17:\u001b[m\u001b[K \u001b[01;35m\u001b[Kwarning: \u001b[m\u001b[K'\u001b[01m\u001b[K__pyx_v_start_pos_impression_items\u001b[m\u001b[K' may be used uninitialized in this function [\u001b[01;35m\u001b[K-Wmaybe-uninitialized\u001b[m\u001b[K]\r\n",
      "30351 |       \u001b[01;35m\u001b[K__pyx_t_4 = (__pyx_v_start_pos_impression_items + __pyx_v_index)\u001b[m\u001b[K;\r\n",
      "      |       \u001b[01;35m\u001b[K~~~~~~~~~~^~~~~~~~~~~~~~~~~~~~~~~~~~~~~~~~~~~~~~~~~~~~~~~~~~~~~~\u001b[m\u001b[K\r\n",
      "\u001b[01m\u001b[KMatrixFactorizationImpressions_Cython_Epoch.c:\u001b[m\u001b[K In function '\u001b[01m\u001b[K__pyx_pf_43MatrixFactorizationImpressions_Cython_Epoch_32MatrixFactorization_Cython_Epoch_10epochIteration_Cython_ASY_SVD_SGD\u001b[m\u001b[K':\r\n",
      "\u001b[01m\u001b[KMatrixFactorizationImpressions_Cython_Epoch.c:26111:7:\u001b[m\u001b[K \u001b[01;35m\u001b[Kwarning: \u001b[m\u001b[K'\u001b[01m\u001b[K__pyx_v_end_pos_seen_items\u001b[m\u001b[K' may be used uninitialized in this function [\u001b[01;35m\u001b[K-Wmaybe-uninitialized\u001b[m\u001b[K]\r\n",
      "26111 |       \u001b[01;35m\u001b[Kfor\u001b[m\u001b[K (__pyx_t_21 = __pyx_v_start_pos_seen_items; __pyx_t_21 < __pyx_t_20; __pyx_t_21+=1) {\r\n",
      "      |       \u001b[01;35m\u001b[K^~~\u001b[m\u001b[K\r\n",
      "\u001b[01m\u001b[KMatrixFactorizationImpressions_Cython_Epoch.c:26111:7:\u001b[m\u001b[K \u001b[01;35m\u001b[Kwarning: \u001b[m\u001b[K'\u001b[01m\u001b[K__pyx_v_start_pos_seen_items\u001b[m\u001b[K' may be used uninitialized in this function [\u001b[01;35m\u001b[K-Wmaybe-uninitialized\u001b[m\u001b[K]\r\n",
      "/opt/conda/lib/python3.10/site-packages/Cython/Compiler/Main.py:381: FutureWarning: Cython directive 'language_level' not set, using '3str' for now (Py3). This has changed from earlier releases! File: /kaggle/working/RECsys_Challenge2024/Recommenders/MatrixFactorization/Cython/MatrixFactorizationImpressions_Cython_Epoch.pyx\r\n",
      "  tree = Parsing.p_module(s, pxd, full_module_name)\r\n",
      "Compiling [2/11]: MatrixFactorizationImpressions_Cython_Epoch.pyx... PASS\r\n",
      "\r\n",
      "Compiling [3/11]: Compute_Similarity_Cython.pyx... \r\n",
      "warning: Compute_Similarity_Cython.pyx:21:0: The 'IF' statement is deprecated and will be removed in a future Cython version. Consider using runtime conditions or C macros instead. See https://github.com/cython/cython/issues/4310\r\n",
      "In file included from \u001b[01m\u001b[K/opt/conda/lib/python3.10/site-packages/numpy/core/include/numpy/ndarraytypes.h:1929\u001b[m\u001b[K,\r\n",
      "                 from \u001b[01m\u001b[K/opt/conda/lib/python3.10/site-packages/numpy/core/include/numpy/ndarrayobject.h:12\u001b[m\u001b[K,\r\n",
      "                 from \u001b[01m\u001b[K/opt/conda/lib/python3.10/site-packages/numpy/core/include/numpy/arrayobject.h:5\u001b[m\u001b[K,\r\n",
      "                 from \u001b[01m\u001b[KCompute_Similarity_Cython.c:1252\u001b[m\u001b[K:\r\n",
      "\u001b[01m\u001b[K/opt/conda/lib/python3.10/site-packages/numpy/core/include/numpy/npy_1_7_deprecated_api.h:17:2:\u001b[m\u001b[K \u001b[01;35m\u001b[Kwarning: \u001b[m\u001b[K#warning \"Using deprecated NumPy API, disable it with \" \"#define NPY_NO_DEPRECATED_API NPY_1_7_API_VERSION\" [\u001b[01;35m\u001b[K-Wcpp\u001b[m\u001b[K]\r\n",
      "   17 | #\u001b[01;35m\u001b[Kwarning\u001b[m\u001b[K \"Using deprecated NumPy API, disable it with \" \\\r\n",
      "      |  \u001b[01;35m\u001b[K^~~~~~~\u001b[m\u001b[K\r\n",
      "/opt/conda/lib/python3.10/site-packages/Cython/Compiler/Main.py:381: FutureWarning: Cython directive 'language_level' not set, using '3str' for now (Py3). This has changed from earlier releases! File: /kaggle/working/RECsys_Challenge2024/Recommenders/Similarity/Cython/Compute_Similarity_Cython.pyx\r\n",
      "  tree = Parsing.p_module(s, pxd, full_module_name)\r\n",
      "warning: Compute_Similarity_Cython.pyx:21:0: The 'IF' statement is deprecated and will be removed in a future Cython version. Consider using runtime conditions or C macros instead. See https://github.com/cython/cython/issues/4310\r\n",
      "Compiling [3/11]: Compute_Similarity_Cython.pyx... PASS\r\n",
      "\r\n",
      "Compiling [4/11]: Triangular_Matrix.pyx... \r\n",
      "warning: Triangular_Matrix.pyx:22:0: The 'IF' statement is deprecated and will be removed in a future Cython version. Consider using runtime conditions or C macros instead. See https://github.com/cython/cython/issues/4310\r\n",
      "In file included from \u001b[01m\u001b[K/opt/conda/lib/python3.10/site-packages/numpy/core/include/numpy/ndarraytypes.h:1929\u001b[m\u001b[K,\r\n",
      "                 from \u001b[01m\u001b[K/opt/conda/lib/python3.10/site-packages/numpy/core/include/numpy/ndarrayobject.h:12\u001b[m\u001b[K,\r\n",
      "                 from \u001b[01m\u001b[K/opt/conda/lib/python3.10/site-packages/numpy/core/include/numpy/arrayobject.h:5\u001b[m\u001b[K,\r\n",
      "                 from \u001b[01m\u001b[KTriangular_Matrix.c:1252\u001b[m\u001b[K:\r\n",
      "\u001b[01m\u001b[K/opt/conda/lib/python3.10/site-packages/numpy/core/include/numpy/npy_1_7_deprecated_api.h:17:2:\u001b[m\u001b[K \u001b[01;35m\u001b[Kwarning: \u001b[m\u001b[K#warning \"Using deprecated NumPy API, disable it with \" \"#define NPY_NO_DEPRECATED_API NPY_1_7_API_VERSION\" [\u001b[01;35m\u001b[K-Wcpp\u001b[m\u001b[K]\r\n",
      "   17 | #\u001b[01;35m\u001b[Kwarning\u001b[m\u001b[K \"Using deprecated NumPy API, disable it with \" \\\r\n",
      "      |  \u001b[01;35m\u001b[K^~~~~~~\u001b[m\u001b[K\r\n",
      "/opt/conda/lib/python3.10/site-packages/Cython/Compiler/Main.py:381: FutureWarning: Cython directive 'language_level' not set, using '3str' for now (Py3). This has changed from earlier releases! File: /kaggle/working/RECsys_Challenge2024/Recommenders/SLIM/Cython/Triangular_Matrix.pyx\r\n",
      "  tree = Parsing.p_module(s, pxd, full_module_name)\r\n",
      "warning: Triangular_Matrix.pyx:22:0: The 'IF' statement is deprecated and will be removed in a future Cython version. Consider using runtime conditions or C macros instead. See https://github.com/cython/cython/issues/4310\r\n",
      "Compiling [4/11]: Triangular_Matrix.pyx... PASS\r\n",
      "\r\n",
      "Compiling [5/11]: Sparse_Matrix_Tree_CSR.pyx... \r\n",
      "warning: Sparse_Matrix_Tree_CSR.pyx:132:34: Non-trivial type declarators in shared declaration (e.g. mix of pointers and values). Each pointer declaration should be on its own line.\r\n",
      "warning: Sparse_Matrix_Tree_CSR.pyx:132:66: Non-trivial type declarators in shared declaration (e.g. mix of pointers and values). Each pointer declaration should be on its own line.\r\n",
      "warning: Sparse_Matrix_Tree_CSR.pyx:343:35: Non-trivial type declarators in shared declaration (e.g. mix of pointers and values). Each pointer declaration should be on its own line.\r\n",
      "warning: Sparse_Matrix_Tree_CSR.pyx:343:52: Non-trivial type declarators in shared declaration (e.g. mix of pointers and values). Each pointer declaration should be on its own line.\r\n",
      "warning: Sparse_Matrix_Tree_CSR.pyx:442:35: Non-trivial type declarators in shared declaration (e.g. mix of pointers and values). Each pointer declaration should be on its own line.\r\n",
      "warning: Sparse_Matrix_Tree_CSR.pyx:442:53: Non-trivial type declarators in shared declaration (e.g. mix of pointers and values). Each pointer declaration should be on its own line.\r\n",
      "warning: Sparse_Matrix_Tree_CSR.pyx:442:69: Non-trivial type declarators in shared declaration (e.g. mix of pointers and values). Each pointer declaration should be on its own line.\r\n",
      "warning: Sparse_Matrix_Tree_CSR.pyx:577:35: Non-trivial type declarators in shared declaration (e.g. mix of pointers and values). Each pointer declaration should be on its own line.\r\n",
      "warning: Sparse_Matrix_Tree_CSR.pyx:577:42: Non-trivial type declarators in shared declaration (e.g. mix of pointers and values). Each pointer declaration should be on its own line.\r\n",
      "warning: Sparse_Matrix_Tree_CSR.pyx:578:35: Non-trivial type declarators in shared declaration (e.g. mix of pointers and values). Each pointer declaration should be on its own line.\r\n",
      "warning: Sparse_Matrix_Tree_CSR.pyx:578:53: Non-trivial type declarators in shared declaration (e.g. mix of pointers and values). Each pointer declaration should be on its own line.\r\n",
      "\r\n",
      "Error compiling Cython file:\r\n",
      "------------------------------------------------------------\r\n",
      "...\r\n",
      "            vector_pointer_to_list_elements[index].head = current_element\r\n",
      "            current_element = current_element.higher\r\n",
      "\r\n",
      "\r\n",
      "        # Sort array elements on their data field\r\n",
      "        qsort(vector_pointer_to_list_elements, list_length, sizeof(head_pointer_tree_s), compare_struct_on_data)\r\n",
      "                                                                                         ^\r\n",
      "------------------------------------------------------------\r\n",
      "\r\n",
      "Sparse_Matrix_Tree_CSR.pyx:516:89: Cannot assign type 'int (const void *, const void *) except? -1' to 'int (*)(const_void *, const_void *) noexcept'. Exception values are incompatible. Suggest adding 'noexcept' to the type of 'compare_struct_on_data'.\r\n",
      "\r\n",
      "Error compiling Cython file:\r\n",
      "------------------------------------------------------------\r\n",
      "...\r\n",
      "        # Sort array elements on their data field\r\n",
      "        qsort(vector_pointer_to_list_elements, list_length, sizeof(head_pointer_tree_s), compare_struct_on_data)\r\n",
      "\r\n",
      "        # Sort only the TopK according to their column field\r\n",
      "        # Sort is from lower to higher, therefore the elements to be considered are from len-topK to len\r\n",
      "        qsort(&vector_pointer_to_list_elements[list_length-TopK], TopK, sizeof(head_pointer_tree_s), compare_struct_on_column)\r\n",
      "                                                                                                     ^\r\n",
      "------------------------------------------------------------\r\n",
      "\r\n",
      "Sparse_Matrix_Tree_CSR.pyx:520:101: Cannot assign type 'int (const void *, const void *) except? -1' to 'int (*)(const_void *, const_void *) noexcept'. Exception values are incompatible. Suggest adding 'noexcept' to the type of 'compare_struct_on_column'.\r\n",
      "Traceback (most recent call last):\r\n",
      "  File \"/kaggle/working/RECsys_Challenge2024/CythonCompiler/compile_script.py\", line 48, in <module>\r\n",
      "    setup(\r\n",
      "  File \"/opt/conda/lib/python3.10/site-packages/setuptools/__init__.py\", line 103, in setup\r\n",
      "    return distutils.core.setup(**attrs)\r\n",
      "  File \"/opt/conda/lib/python3.10/site-packages/setuptools/_distutils/core.py\", line 184, in setup\r\n",
      "    return run_commands(dist)\r\n",
      "  File \"/opt/conda/lib/python3.10/site-packages/setuptools/_distutils/core.py\", line 200, in run_commands\r\n",
      "    dist.run_commands()\r\n",
      "  File \"/opt/conda/lib/python3.10/site-packages/setuptools/_distutils/dist.py\", line 969, in run_commands\r\n",
      "    self.run_command(cmd)\r\n",
      "  File \"/opt/conda/lib/python3.10/site-packages/setuptools/dist.py\", line 968, in run_command\r\n",
      "    super().run_command(command)\r\n",
      "  File \"/opt/conda/lib/python3.10/site-packages/setuptools/_distutils/dist.py\", line 988, in run_command\r\n",
      "    cmd_obj.run()\r\n",
      "  File \"/opt/conda/lib/python3.10/site-packages/setuptools/_distutils/command/build_ext.py\", line 359, in run\r\n",
      "    self.build_extensions()\r\n",
      "  File \"/opt/conda/lib/python3.10/site-packages/setuptools/_distutils/command/build_ext.py\", line 479, in build_extensions\r\n",
      "    self._build_extensions_serial()\r\n",
      "  File \"/opt/conda/lib/python3.10/site-packages/setuptools/_distutils/command/build_ext.py\", line 505, in _build_extensions_serial\r\n",
      "    self.build_extension(ext)\r\n",
      "  File \"/opt/conda/lib/python3.10/site-packages/Cython/Distutils/build_ext.py\", line 130, in build_extension\r\n",
      "    new_ext = cythonize(\r\n",
      "  File \"/opt/conda/lib/python3.10/site-packages/Cython/Build/Dependencies.py\", line 1154, in cythonize\r\n",
      "    cythonize_one(*args)\r\n",
      "  File \"/opt/conda/lib/python3.10/site-packages/Cython/Build/Dependencies.py\", line 1321, in cythonize_one\r\n",
      "    raise CompileError(None, pyx_file)\r\n",
      "Cython.Compiler.Errors.CompileError: Sparse_Matrix_Tree_CSR.pyx\r\n",
      "Traceback (most recent call last):\r\n",
      "  File \"/kaggle/working/RECsys_Challenge2024/run_compile_all_cython.py\", line 60, in <module>\r\n",
      "    run_compile_subprocess(file_path, [file_name])\r\n",
      "  File \"/kaggle/working/RECsys_Challenge2024/CythonCompiler/run_compile_subprocess.py\", line 51, in run_compile_subprocess\r\n",
      "    raise exc\r\n",
      "  File \"/kaggle/working/RECsys_Challenge2024/CythonCompiler/run_compile_subprocess.py\", line 32, in run_compile_subprocess\r\n",
      "    output = subprocess.check_output(' '.join(command),\r\n",
      "  File \"/opt/conda/lib/python3.10/subprocess.py\", line 421, in check_output\r\n",
      "    return run(*popenargs, stdout=PIPE, timeout=timeout, check=True,\r\n",
      "  File \"/opt/conda/lib/python3.10/subprocess.py\", line 526, in run\r\n",
      "    raise CalledProcessError(retcode, process.args,\r\n",
      "subprocess.CalledProcessError: Command '/opt/conda/bin/python /kaggle/working/RECsys_Challenge2024/CythonCompiler/compile_script.py Sparse_Matrix_Tree_CSR.pyx build_ext --inplace' returned non-zero exit status 1.\r\n",
      "Compiling [5/11]: Sparse_Matrix_Tree_CSR.pyx... FAIL: Command '/opt/conda/bin/python /kaggle/working/RECsys_Challenge2024/CythonCompiler/compile_script.py Sparse_Matrix_Tree_CSR.pyx build_ext --inplace' returned non-zero exit status 1.\r\n",
      "\r\n",
      "Compiling [6/11]: SLIM_BPR_Cython_Epoch.pyx... \r\n",
      "warning: SLIM_BPR_Cython_Epoch.pyx:24:0: The 'IF' statement is deprecated and will be removed in a future Cython version. Consider using runtime conditions or C macros instead. See https://github.com/cython/cython/issues/4310\r\n",
      "warning: SLIM_BPR_Cython_Epoch.pyx:632:34: Non-trivial type declarators in shared declaration (e.g. mix of pointers and values). Each pointer declaration should be on its own line.\r\n",
      "warning: SLIM_BPR_Cython_Epoch.pyx:632:66: Non-trivial type declarators in shared declaration (e.g. mix of pointers and values). Each pointer declaration should be on its own line.\r\n",
      "warning: SLIM_BPR_Cython_Epoch.pyx:817:35: Non-trivial type declarators in shared declaration (e.g. mix of pointers and values). Each pointer declaration should be on its own line.\r\n",
      "warning: SLIM_BPR_Cython_Epoch.pyx:817:52: Non-trivial type declarators in shared declaration (e.g. mix of pointers and values). Each pointer declaration should be on its own line.\r\n",
      "warning: SLIM_BPR_Cython_Epoch.pyx:916:35: Non-trivial type declarators in shared declaration (e.g. mix of pointers and values). Each pointer declaration should be on its own line.\r\n",
      "warning: SLIM_BPR_Cython_Epoch.pyx:916:53: Non-trivial type declarators in shared declaration (e.g. mix of pointers and values). Each pointer declaration should be on its own line.\r\n",
      "warning: SLIM_BPR_Cython_Epoch.pyx:916:69: Non-trivial type declarators in shared declaration (e.g. mix of pointers and values). Each pointer declaration should be on its own line.\r\n",
      "warning: SLIM_BPR_Cython_Epoch.pyx:1051:35: Non-trivial type declarators in shared declaration (e.g. mix of pointers and values). Each pointer declaration should be on its own line.\r\n",
      "warning: SLIM_BPR_Cython_Epoch.pyx:1051:42: Non-trivial type declarators in shared declaration (e.g. mix of pointers and values). Each pointer declaration should be on its own line.\r\n",
      "warning: SLIM_BPR_Cython_Epoch.pyx:1052:35: Non-trivial type declarators in shared declaration (e.g. mix of pointers and values). Each pointer declaration should be on its own line.\r\n",
      "warning: SLIM_BPR_Cython_Epoch.pyx:1052:53: Non-trivial type declarators in shared declaration (e.g. mix of pointers and values). Each pointer declaration should be on its own line.\r\n",
      "\r\n",
      "Error compiling Cython file:\r\n",
      "------------------------------------------------------------\r\n",
      "...\r\n",
      "            vector_pointer_to_list_elements[index].head = current_element\r\n",
      "            current_element = current_element.higher\r\n",
      "\r\n",
      "\r\n",
      "        # Sort array elements on their data field\r\n",
      "        qsort(vector_pointer_to_list_elements, list_length, sizeof(head_pointer_tree_s), compare_struct_on_data)\r\n",
      "                                                                                         ^\r\n",
      "------------------------------------------------------------\r\n",
      "\r\n",
      "SLIM_BPR_Cython_Epoch.pyx:990:89: Cannot assign type 'int (const void *, const void *) except? -1' to 'int (*)(const_void *, const_void *) noexcept'. Exception values are incompatible. Suggest adding 'noexcept' to the type of 'compare_struct_on_data'.\r\n",
      "\r\n",
      "Error compiling Cython file:\r\n",
      "------------------------------------------------------------\r\n",
      "...\r\n",
      "        # Sort array elements on their data field\r\n",
      "        qsort(vector_pointer_to_list_elements, list_length, sizeof(head_pointer_tree_s), compare_struct_on_data)\r\n",
      "\r\n",
      "        # Sort only the TopK according to their column field\r\n",
      "        # Sort is from lower to higher, therefore the elements to be considered are from len-topK to len\r\n",
      "        qsort(&vector_pointer_to_list_elements[list_length-TopK], TopK, sizeof(head_pointer_tree_s), compare_struct_on_column)\r\n",
      "                                                                                                     ^\r\n",
      "------------------------------------------------------------\r\n",
      "\r\n",
      "SLIM_BPR_Cython_Epoch.pyx:994:101: Cannot assign type 'int (const void *, const void *) except? -1' to 'int (*)(const_void *, const_void *) noexcept'. Exception values are incompatible. Suggest adding 'noexcept' to the type of 'compare_struct_on_column'.\r\n",
      "Traceback (most recent call last):\r\n",
      "  File \"/kaggle/working/RECsys_Challenge2024/CythonCompiler/compile_script.py\", line 48, in <module>\r\n",
      "    setup(\r\n",
      "  File \"/opt/conda/lib/python3.10/site-packages/setuptools/__init__.py\", line 103, in setup\r\n",
      "    return distutils.core.setup(**attrs)\r\n",
      "  File \"/opt/conda/lib/python3.10/site-packages/setuptools/_distutils/core.py\", line 184, in setup\r\n",
      "    return run_commands(dist)\r\n",
      "  File \"/opt/conda/lib/python3.10/site-packages/setuptools/_distutils/core.py\", line 200, in run_commands\r\n",
      "    dist.run_commands()\r\n",
      "  File \"/opt/conda/lib/python3.10/site-packages/setuptools/_distutils/dist.py\", line 969, in run_commands\r\n",
      "    self.run_command(cmd)\r\n",
      "  File \"/opt/conda/lib/python3.10/site-packages/setuptools/dist.py\", line 968, in run_command\r\n",
      "    super().run_command(command)\r\n",
      "  File \"/opt/conda/lib/python3.10/site-packages/setuptools/_distutils/dist.py\", line 988, in run_command\r\n",
      "    cmd_obj.run()\r\n",
      "  File \"/opt/conda/lib/python3.10/site-packages/setuptools/_distutils/command/build_ext.py\", line 359, in run\r\n",
      "    self.build_extensions()\r\n",
      "  File \"/opt/conda/lib/python3.10/site-packages/setuptools/_distutils/command/build_ext.py\", line 479, in build_extensions\r\n",
      "    self._build_extensions_serial()\r\n",
      "  File \"/opt/conda/lib/python3.10/site-packages/setuptools/_distutils/command/build_ext.py\", line 505, in _build_extensions_serial\r\n",
      "    self.build_extension(ext)\r\n",
      "  File \"/opt/conda/lib/python3.10/site-packages/Cython/Distutils/build_ext.py\", line 130, in build_extension\r\n",
      "    new_ext = cythonize(\r\n",
      "  File \"/opt/conda/lib/python3.10/site-packages/Cython/Build/Dependencies.py\", line 1154, in cythonize\r\n",
      "    cythonize_one(*args)\r\n",
      "  File \"/opt/conda/lib/python3.10/site-packages/Cython/Build/Dependencies.py\", line 1321, in cythonize_one\r\n",
      "    raise CompileError(None, pyx_file)\r\n",
      "Cython.Compiler.Errors.CompileError: SLIM_BPR_Cython_Epoch.pyx\r\n",
      "Traceback (most recent call last):\r\n",
      "  File \"/kaggle/working/RECsys_Challenge2024/run_compile_all_cython.py\", line 60, in <module>\r\n",
      "    run_compile_subprocess(file_path, [file_name])\r\n",
      "  File \"/kaggle/working/RECsys_Challenge2024/CythonCompiler/run_compile_subprocess.py\", line 51, in run_compile_subprocess\r\n",
      "    raise exc\r\n",
      "  File \"/kaggle/working/RECsys_Challenge2024/CythonCompiler/run_compile_subprocess.py\", line 32, in run_compile_subprocess\r\n",
      "    output = subprocess.check_output(' '.join(command),\r\n",
      "  File \"/opt/conda/lib/python3.10/subprocess.py\", line 421, in check_output\r\n",
      "    return run(*popenargs, stdout=PIPE, timeout=timeout, check=True,\r\n",
      "  File \"/opt/conda/lib/python3.10/subprocess.py\", line 526, in run\r\n",
      "    raise CalledProcessError(retcode, process.args,\r\n",
      "subprocess.CalledProcessError: Command '/opt/conda/bin/python /kaggle/working/RECsys_Challenge2024/CythonCompiler/compile_script.py SLIM_BPR_Cython_Epoch.pyx build_ext --inplace' returned non-zero exit status 1.\r\n",
      "Compiling [6/11]: SLIM_BPR_Cython_Epoch.pyx... FAIL: Command '/opt/conda/bin/python /kaggle/working/RECsys_Challenge2024/CythonCompiler/compile_script.py SLIM_BPR_Cython_Epoch.pyx build_ext --inplace' returned non-zero exit status 1.\r\n",
      "\r\n",
      "Compiling [7/11]: CFW_DVV_Similarity_Cython_SGD.pyx... \r\n",
      "In file included from \u001b[01m\u001b[K/opt/conda/lib/python3.10/site-packages/numpy/core/include/numpy/ndarraytypes.h:1929\u001b[m\u001b[K,\r\n",
      "                 from \u001b[01m\u001b[K/opt/conda/lib/python3.10/site-packages/numpy/core/include/numpy/ndarrayobject.h:12\u001b[m\u001b[K,\r\n",
      "                 from \u001b[01m\u001b[K/opt/conda/lib/python3.10/site-packages/numpy/core/include/numpy/arrayobject.h:5\u001b[m\u001b[K,\r\n",
      "                 from \u001b[01m\u001b[KCFW_DVV_Similarity_Cython_SGD.c:1252\u001b[m\u001b[K:\r\n",
      "\u001b[01m\u001b[K/opt/conda/lib/python3.10/site-packages/numpy/core/include/numpy/npy_1_7_deprecated_api.h:17:2:\u001b[m\u001b[K \u001b[01;35m\u001b[Kwarning: \u001b[m\u001b[K#warning \"Using deprecated NumPy API, disable it with \" \"#define NPY_NO_DEPRECATED_API NPY_1_7_API_VERSION\" [\u001b[01;35m\u001b[K-Wcpp\u001b[m\u001b[K]\r\n",
      "   17 | #\u001b[01;35m\u001b[Kwarning\u001b[m\u001b[K \"Using deprecated NumPy API, disable it with \" \\\r\n",
      "      |  \u001b[01;35m\u001b[K^~~~~~~\u001b[m\u001b[K\r\n",
      "/opt/conda/lib/python3.10/site-packages/Cython/Compiler/Main.py:381: FutureWarning: Cython directive 'language_level' not set, using '3str' for now (Py3). This has changed from earlier releases! File: /kaggle/working/RECsys_Challenge2024/Recommenders/FeatureWeighting/Cython/CFW_DVV_Similarity_Cython_SGD.pyx\r\n",
      "  tree = Parsing.p_module(s, pxd, full_module_name)\r\n",
      "Compiling [7/11]: CFW_DVV_Similarity_Cython_SGD.pyx... PASS\r\n",
      "\r\n",
      "Compiling [8/11]: CFW_D_Similarity_Cython_SGD.pyx... \r\n",
      "In file included from \u001b[01m\u001b[K/opt/conda/lib/python3.10/site-packages/numpy/core/include/numpy/ndarraytypes.h:1929\u001b[m\u001b[K,\r\n",
      "                 from \u001b[01m\u001b[K/opt/conda/lib/python3.10/site-packages/numpy/core/include/numpy/ndarrayobject.h:12\u001b[m\u001b[K,\r\n",
      "                 from \u001b[01m\u001b[K/opt/conda/lib/python3.10/site-packages/numpy/core/include/numpy/arrayobject.h:5\u001b[m\u001b[K,\r\n",
      "                 from \u001b[01m\u001b[KCFW_D_Similarity_Cython_SGD.c:1252\u001b[m\u001b[K:\r\n",
      "\u001b[01m\u001b[K/opt/conda/lib/python3.10/site-packages/numpy/core/include/numpy/npy_1_7_deprecated_api.h:17:2:\u001b[m\u001b[K \u001b[01;35m\u001b[Kwarning: \u001b[m\u001b[K#warning \"Using deprecated NumPy API, disable it with \" \"#define NPY_NO_DEPRECATED_API NPY_1_7_API_VERSION\" [\u001b[01;35m\u001b[K-Wcpp\u001b[m\u001b[K]\r\n",
      "   17 | #\u001b[01;35m\u001b[Kwarning\u001b[m\u001b[K \"Using deprecated NumPy API, disable it with \" \\\r\n",
      "      |  \u001b[01;35m\u001b[K^~~~~~~\u001b[m\u001b[K\r\n",
      "\u001b[01m\u001b[KCFW_D_Similarity_Cython_SGD.c:\u001b[m\u001b[K In function '\u001b[01m\u001b[K__pyx_pf_27CFW_D_Similarity_Cython_SGD_27CFW_D_Similarity_Cython_SGD_6fit\u001b[m\u001b[K':\r\n",
      "\u001b[01m\u001b[KCFW_D_Similarity_Cython_SGD.c:23373:55:\u001b[m\u001b[K \u001b[01;35m\u001b[Kwarning: \u001b[m\u001b[K'\u001b[01m\u001b[K__pyx_v_sample_num\u001b[m\u001b[K' may be used uninitialized in this function [\u001b[01;35m\u001b[K-Wmaybe-uninitialized\u001b[m\u001b[K]\r\n",
      "23373 |   __pyx_t_3 = PyFloat_FromDouble((__pyx_v_cum_loss / \u001b[01;35m\u001b[K((double)__pyx_v_sample_num)\u001b[m\u001b[K)); if (unlikely(!__pyx_t_3)) __PYX_ERR(0, 290, __pyx_L1_error)\r\n",
      "      |                                                      \u001b[01;35m\u001b[K~^~~~~~~~~~~~~~~~~~~~~~~~~~~\u001b[m\u001b[K\r\n",
      "/opt/conda/lib/python3.10/site-packages/Cython/Compiler/Main.py:381: FutureWarning: Cython directive 'language_level' not set, using '3str' for now (Py3). This has changed from earlier releases! File: /kaggle/working/RECsys_Challenge2024/Recommenders/FeatureWeighting/Cython/CFW_D_Similarity_Cython_SGD.pyx\r\n",
      "  tree = Parsing.p_module(s, pxd, full_module_name)\r\n",
      "Compiling [8/11]: CFW_D_Similarity_Cython_SGD.pyx... PASS\r\n",
      "\r\n",
      "Compiling [9/11]: FBSM_Rating_Cython_SGD.pyx... \r\n",
      "In file included from \u001b[01m\u001b[K/opt/conda/lib/python3.10/site-packages/numpy/core/include/numpy/ndarraytypes.h:1929\u001b[m\u001b[K,\r\n",
      "                 from \u001b[01m\u001b[K/opt/conda/lib/python3.10/site-packages/numpy/core/include/numpy/ndarrayobject.h:12\u001b[m\u001b[K,\r\n",
      "                 from \u001b[01m\u001b[K/opt/conda/lib/python3.10/site-packages/numpy/core/include/numpy/arrayobject.h:5\u001b[m\u001b[K,\r\n",
      "                 from \u001b[01m\u001b[KFBSM_Rating_Cython_SGD.c:1252\u001b[m\u001b[K:\r\n",
      "\u001b[01m\u001b[K/opt/conda/lib/python3.10/site-packages/numpy/core/include/numpy/npy_1_7_deprecated_api.h:17:2:\u001b[m\u001b[K \u001b[01;35m\u001b[Kwarning: \u001b[m\u001b[K#warning \"Using deprecated NumPy API, disable it with \" \"#define NPY_NO_DEPRECATED_API NPY_1_7_API_VERSION\" [\u001b[01;35m\u001b[K-Wcpp\u001b[m\u001b[K]\r\n",
      "   17 | #\u001b[01;35m\u001b[Kwarning\u001b[m\u001b[K \"Using deprecated NumPy API, disable it with \" \\\r\n",
      "      |  \u001b[01;35m\u001b[K^~~~~~~\u001b[m\u001b[K\r\n",
      "\u001b[01m\u001b[KFBSM_Rating_Cython_SGD.c:\u001b[m\u001b[K In function '\u001b[01m\u001b[K__pyx_pf_22FBSM_Rating_Cython_SGD_22FBSM_Rating_Cython_SGD_2fit\u001b[m\u001b[K':\r\n",
      "\u001b[01m\u001b[KFBSM_Rating_Cython_SGD.c:26607:55:\u001b[m\u001b[K \u001b[01;35m\u001b[Kwarning: \u001b[m\u001b[K'\u001b[01m\u001b[K__pyx_v_num_sample\u001b[m\u001b[K' may be used uninitialized in this function [\u001b[01;35m\u001b[K-Wmaybe-uninitialized\u001b[m\u001b[K]\r\n",
      "26607 |   __pyx_t_5 = PyFloat_FromDouble((__pyx_v_cum_loss / \u001b[01;35m\u001b[K((double)__pyx_v_num_sample)\u001b[m\u001b[K)); if (unlikely(!__pyx_t_5)) __PYX_ERR(0, 551, __pyx_L1_error)\r\n",
      "      |                                                      \u001b[01;35m\u001b[K~^~~~~~~~~~~~~~~~~~~~~~~~~~~\u001b[m\u001b[K\r\n",
      "/opt/conda/lib/python3.10/site-packages/Cython/Compiler/Main.py:381: FutureWarning: Cython directive 'language_level' not set, using '3str' for now (Py3). This has changed from earlier releases! File: /kaggle/working/RECsys_Challenge2024/Recommenders/FeatureWeighting/Cython/FBSM_Rating_Cython_SGD.pyx\r\n",
      "  tree = Parsing.p_module(s, pxd, full_module_name)\r\n",
      "Compiling [9/11]: FBSM_Rating_Cython_SGD.pyx... PASS\r\n",
      "\r\n",
      "Compiling [10/11]: HP3_Similarity_Cython_SGD.pyx... \r\n",
      "performance hint: HP3_Similarity_Cython_SGD.pyx:113:40: Index should be typed for more efficient access\r\n",
      "performance hint: HP3_Similarity_Cython_SGD.pyx:114:40: Index should be typed for more efficient access\r\n",
      "In file included from \u001b[01m\u001b[K/opt/conda/lib/python3.10/site-packages/numpy/core/include/numpy/ndarraytypes.h:1929\u001b[m\u001b[K,\r\n",
      "                 from \u001b[01m\u001b[K/opt/conda/lib/python3.10/site-packages/numpy/core/include/numpy/ndarrayobject.h:12\u001b[m\u001b[K,\r\n",
      "                 from \u001b[01m\u001b[K/opt/conda/lib/python3.10/site-packages/numpy/core/include/numpy/arrayobject.h:5\u001b[m\u001b[K,\r\n",
      "                 from \u001b[01m\u001b[KHP3_Similarity_Cython_SGD.c:1252\u001b[m\u001b[K:\r\n",
      "\u001b[01m\u001b[K/opt/conda/lib/python3.10/site-packages/numpy/core/include/numpy/npy_1_7_deprecated_api.h:17:2:\u001b[m\u001b[K \u001b[01;35m\u001b[Kwarning: \u001b[m\u001b[K#warning \"Using deprecated NumPy API, disable it with \" \"#define NPY_NO_DEPRECATED_API NPY_1_7_API_VERSION\" [\u001b[01;35m\u001b[K-Wcpp\u001b[m\u001b[K]\r\n",
      "   17 | #\u001b[01;35m\u001b[Kwarning\u001b[m\u001b[K \"Using deprecated NumPy API, disable it with \" \\\r\n",
      "      |  \u001b[01;35m\u001b[K^~~~~~~\u001b[m\u001b[K\r\n",
      "\u001b[01m\u001b[KHP3_Similarity_Cython_SGD.c:\u001b[m\u001b[K In function '\u001b[01m\u001b[K__pyx_pf_25HP3_Similarity_Cython_SGD_25HP3_Similarity_Cython_SGD_4fit\u001b[m\u001b[K':\r\n",
      "\u001b[01m\u001b[KHP3_Similarity_Cython_SGD.c:23631:55:\u001b[m\u001b[K \u001b[01;35m\u001b[Kwarning: \u001b[m\u001b[K'\u001b[01m\u001b[K__pyx_v_sample_num\u001b[m\u001b[K' may be used uninitialized in this function [\u001b[01;35m\u001b[K-Wmaybe-uninitialized\u001b[m\u001b[K]\r\n",
      "23631 |   __pyx_t_1 = PyFloat_FromDouble((__pyx_v_cum_loss / \u001b[01;35m\u001b[K((double)__pyx_v_sample_num)\u001b[m\u001b[K)); if (unlikely(!__pyx_t_1)) __PYX_ERR(0, 291, __pyx_L1_error)\r\n",
      "      |                                                      \u001b[01;35m\u001b[K~^~~~~~~~~~~~~~~~~~~~~~~~~~~\u001b[m\u001b[K\r\n",
      "/opt/conda/lib/python3.10/site-packages/Cython/Compiler/Main.py:381: FutureWarning: Cython directive 'language_level' not set, using '3str' for now (Py3). This has changed from earlier releases! File: /kaggle/working/RECsys_Challenge2024/Recommenders/FeatureWeighting/Cython/HP3_Similarity_Cython_SGD.pyx\r\n",
      "  tree = Parsing.p_module(s, pxd, full_module_name)\r\n",
      "performance hint: HP3_Similarity_Cython_SGD.pyx:113:40: Index should be typed for more efficient access\r\n",
      "performance hint: HP3_Similarity_Cython_SGD.pyx:114:40: Index should be typed for more efficient access\r\n",
      "Compiling [10/11]: HP3_Similarity_Cython_SGD.pyx... PASS\r\n",
      "\r\n",
      "Compiling [11/11]: DataIterator.pyx... \r\n",
      "In file included from \u001b[01m\u001b[K/opt/conda/lib/python3.10/site-packages/numpy/core/include/numpy/ndarraytypes.h:1929\u001b[m\u001b[K,\r\n",
      "                 from \u001b[01m\u001b[K/opt/conda/lib/python3.10/site-packages/numpy/core/include/numpy/ndarrayobject.h:12\u001b[m\u001b[K,\r\n",
      "                 from \u001b[01m\u001b[K/opt/conda/lib/python3.10/site-packages/numpy/core/include/numpy/arrayobject.h:5\u001b[m\u001b[K,\r\n",
      "                 from \u001b[01m\u001b[KDataIterator.c:1252\u001b[m\u001b[K:\r\n",
      "\u001b[01m\u001b[K/opt/conda/lib/python3.10/site-packages/numpy/core/include/numpy/npy_1_7_deprecated_api.h:17:2:\u001b[m\u001b[K \u001b[01;35m\u001b[Kwarning: \u001b[m\u001b[K#warning \"Using deprecated NumPy API, disable it with \" \"#define NPY_NO_DEPRECATED_API NPY_1_7_API_VERSION\" [\u001b[01;35m\u001b[K-Wcpp\u001b[m\u001b[K]\r\n",
      "   17 | #\u001b[01;35m\u001b[Kwarning\u001b[m\u001b[K \"Using deprecated NumPy API, disable it with \" \\\r\n",
      "      |  \u001b[01;35m\u001b[K^~~~~~~\u001b[m\u001b[K\r\n",
      "\u001b[01m\u001b[KDataIterator.c:\u001b[m\u001b[K In function '\u001b[01m\u001b[K__pyx_pf_12DataIterator_30InteractionAndNegativeIterator_6__next__\u001b[m\u001b[K':\r\n",
      "\u001b[01m\u001b[KDataIterator.c:25495:22:\u001b[m\u001b[K \u001b[01;35m\u001b[Kwarning: \u001b[m\u001b[K'\u001b[01m\u001b[K__pyx_v_i_batch\u001b[m\u001b[K' may be used uninitialized in this function [\u001b[01;35m\u001b[K-Wmaybe-uninitialized\u001b[m\u001b[K]\r\n",
      "25495 |     (__pyx_v_i_batch \u001b[01;35m\u001b[K+\u001b[m\u001b[K 1),\r\n",
      "      |                      \u001b[01;35m\u001b[K^\u001b[m\u001b[K\r\n",
      "\u001b[01m\u001b[KDataIterator.c:\u001b[m\u001b[K In function '\u001b[01m\u001b[K__pyx_pf_12DataIterator_11BPRIterator_6__next__\u001b[m\u001b[K':\r\n",
      "\u001b[01m\u001b[KDataIterator.c:23054:22:\u001b[m\u001b[K \u001b[01;35m\u001b[Kwarning: \u001b[m\u001b[K'\u001b[01m\u001b[K__pyx_v_i_batch\u001b[m\u001b[K' may be used uninitialized in this function [\u001b[01;35m\u001b[K-Wmaybe-uninitialized\u001b[m\u001b[K]\r\n",
      "23054 |     (__pyx_v_i_batch \u001b[01;35m\u001b[K+\u001b[m\u001b[K 1),\r\n",
      "      |                      \u001b[01;35m\u001b[K^\u001b[m\u001b[K\r\n",
      "\u001b[01m\u001b[KDataIterator.c:\u001b[m\u001b[K In function '\u001b[01m\u001b[K__pyx_pf_12DataIterator_19InteractionIterator_6__next__\u001b[m\u001b[K':\r\n",
      "\u001b[01m\u001b[KDataIterator.c:20937:22:\u001b[m\u001b[K \u001b[01;35m\u001b[Kwarning: \u001b[m\u001b[K'\u001b[01m\u001b[K__pyx_v_i_batch\u001b[m\u001b[K' may be used uninitialized in this function [\u001b[01;35m\u001b[K-Wmaybe-uninitialized\u001b[m\u001b[K]\r\n",
      "20937 |     (__pyx_v_i_batch \u001b[01;35m\u001b[K+\u001b[m\u001b[K 1),\r\n",
      "      |                      \u001b[01;35m\u001b[K^\u001b[m\u001b[K\r\n",
      "/opt/conda/lib/python3.10/site-packages/Cython/Compiler/Main.py:381: FutureWarning: Cython directive 'language_level' not set, using '3str' for now (Py3). This has changed from earlier releases! File: /kaggle/working/RECsys_Challenge2024/Utils/PyTorch/Cython/DataIterator.pyx\r\n",
      "  tree = Parsing.p_module(s, pxd, full_module_name)\r\n",
      "Compiling [11/11]: DataIterator.pyx... PASS\r\n",
      "\r\n",
      "run_compile_all_cython: Compilation finished. FAILS 2/11.\r\n",
      "Compilation log can be found here: './result_experiments/run_compile_all_cython.txt'\r\n"
     ]
    }
   ],
   "source": [
    "%cd /kaggle/working/RECsys_Challenge2024 \n",
    "! python run_compile_all_cython.py"
   ]
  },
  {
   "cell_type": "code",
   "execution_count": 5,
   "id": "55e019e3",
   "metadata": {
    "execution": {
     "iopub.execute_input": "2024-12-16T12:18:22.794035Z",
     "iopub.status.busy": "2024-12-16T12:18:22.793591Z",
     "iopub.status.idle": "2024-12-16T12:18:24.493139Z",
     "shell.execute_reply": "2024-12-16T12:18:24.491744Z"
    },
    "papermill": {
     "duration": 1.716026,
     "end_time": "2024-12-16T12:18:24.495604",
     "exception": false,
     "start_time": "2024-12-16T12:18:22.779578",
     "status": "completed"
    },
    "tags": []
   },
   "outputs": [],
   "source": [
    "from Utils.notebookFunctions import *\n",
    "import numpy as np\n",
    "import pandas as pd\n",
    "import scipy.sparse as sps\n",
    "import time\n",
    "import shutil\n",
    "import optuna\n",
    "import json\n",
    "import os\n",
    "from Utils.seconds_to_biggest_unit import seconds_to_biggest_unit\n",
    "\n",
    "\n",
    "K_PATH = '/kaggle/working/RECsys_Challenge2024'\n",
    "GH_PATH = 'TrainedModels/WithoutKFCV/KNN'\n",
    "\n",
    "np.random.seed(42)"
   ]
  },
  {
   "cell_type": "markdown",
   "id": "8e57abaa",
   "metadata": {
    "papermill": {
     "duration": 0.014285,
     "end_time": "2024-12-16T12:18:24.523384",
     "exception": false,
     "start_time": "2024-12-16T12:18:24.509099",
     "status": "completed"
    },
    "tags": []
   },
   "source": [
    "## Import the repository **RECsys_Challenge2024**"
   ]
  },
  {
   "cell_type": "code",
   "execution_count": 6,
   "id": "ee67b927",
   "metadata": {
    "execution": {
     "iopub.execute_input": "2024-12-16T12:18:24.550262Z",
     "iopub.status.busy": "2024-12-16T12:18:24.549661Z",
     "iopub.status.idle": "2024-12-16T12:18:24.975319Z",
     "shell.execute_reply": "2024-12-16T12:18:24.973777Z"
    },
    "papermill": {
     "duration": 0.44257,
     "end_time": "2024-12-16T12:18:24.978199",
     "exception": false,
     "start_time": "2024-12-16T12:18:24.535629",
     "status": "completed"
    },
    "tags": []
   },
   "outputs": [
    {
     "name": "stdout",
     "output_type": "stream",
     "text": [
      "Repository 'RECsys_Challenge2024' found.\n"
     ]
    }
   ],
   "source": [
    "repo = get_repo_from_github(token)"
   ]
  },
  {
   "cell_type": "code",
   "execution_count": 7,
   "id": "ca714227",
   "metadata": {
    "execution": {
     "iopub.execute_input": "2024-12-16T12:18:25.007680Z",
     "iopub.status.busy": "2024-12-16T12:18:25.007280Z",
     "iopub.status.idle": "2024-12-16T12:18:25.012560Z",
     "shell.execute_reply": "2024-12-16T12:18:25.011344Z"
    },
    "papermill": {
     "duration": 0.023491,
     "end_time": "2024-12-16T12:18:25.014791",
     "exception": false,
     "start_time": "2024-12-16T12:18:24.991300",
     "status": "completed"
    },
    "tags": []
   },
   "outputs": [],
   "source": [
    "config = {\n",
    "    'model': 'ItemKNNCF',\n",
    "    'metric': 'Recall',\n",
    "    'tune_parameters': True,\n",
    "    'database_path': '/kaggle/working/history_ItemKNNCF_Recall.db',\n",
    "    'copy_prev_best_params': False,\n",
    "    'tune_best_params': True,\n",
    "    'save_github': True\n",
    "}"
   ]
  },
  {
   "cell_type": "markdown",
   "id": "e84fcb3c",
   "metadata": {
    "papermill": {
     "duration": 0.012186,
     "end_time": "2024-12-16T12:18:25.039780",
     "exception": false,
     "start_time": "2024-12-16T12:18:25.027594",
     "status": "completed"
    },
    "tags": []
   },
   "source": [
    "Import the database where previous tuning trials have been saved."
   ]
  },
  {
   "cell_type": "code",
   "execution_count": 8,
   "id": "2f42fa85",
   "metadata": {
    "execution": {
     "iopub.execute_input": "2024-12-16T12:18:25.067659Z",
     "iopub.status.busy": "2024-12-16T12:18:25.067277Z",
     "iopub.status.idle": "2024-12-16T12:18:25.073748Z",
     "shell.execute_reply": "2024-12-16T12:18:25.072821Z"
    },
    "papermill": {
     "duration": 0.022884,
     "end_time": "2024-12-16T12:18:25.075881",
     "exception": false,
     "start_time": "2024-12-16T12:18:25.052997",
     "status": "completed"
    },
    "tags": []
   },
   "outputs": [],
   "source": [
    "try:\n",
    "    shutil.copyfile(\n",
    "        f'{K_PATH}/{GH_PATH}/{config[\"model\"]}Recommender/Optimizing{config[\"metric\"]}/history_{config[\"model\"]}_{config[\"metric\"]}.db', \n",
    "        config['database_path']\n",
    "    )\n",
    "except FileNotFoundError:\n",
    "    pass # if not present optuna will create it"
   ]
  },
  {
   "cell_type": "markdown",
   "id": "6ae41c46",
   "metadata": {
    "papermill": {
     "duration": 0.012147,
     "end_time": "2024-12-16T12:18:25.100745",
     "exception": false,
     "start_time": "2024-12-16T12:18:25.088598",
     "status": "completed"
    },
    "tags": []
   },
   "source": [
    "# Construction of URM and ICM matrices"
   ]
  },
  {
   "cell_type": "code",
   "execution_count": 9,
   "id": "a574b222",
   "metadata": {
    "execution": {
     "iopub.execute_input": "2024-12-16T12:18:25.127676Z",
     "iopub.status.busy": "2024-12-16T12:18:25.127269Z",
     "iopub.status.idle": "2024-12-16T12:18:25.924609Z",
     "shell.execute_reply": "2024-12-16T12:18:25.923529Z"
    },
    "papermill": {
     "duration": 0.813535,
     "end_time": "2024-12-16T12:18:25.927013",
     "exception": false,
     "start_time": "2024-12-16T12:18:25.113478",
     "status": "completed"
    },
    "tags": []
   },
   "outputs": [
    {
     "data": {
      "text/plain": [
       "<Compressed Sparse Row sparse matrix of dtype 'float64'\n",
       "\twith 1764607 stored elements and shape (35736, 38121)>"
      ]
     },
     "execution_count": 9,
     "metadata": {},
     "output_type": "execute_result"
    }
   ],
   "source": [
    "URM_all_dataframe = pd.read_csv(\"/kaggle/input/recommender-system-2024-challenge-polimi/data_train.csv\")\n",
    "\n",
    "n_users = len(URM_all_dataframe[\"user_id\"].unique())\n",
    "n_items = len(URM_all_dataframe[\"item_id\"].unique())\n",
    "\n",
    "URM_all = sps.csr_matrix((URM_all_dataframe[\"data\"].values, \n",
    "                          (URM_all_dataframe[\"user_id\"].values, URM_all_dataframe[\"item_id\"].values)),\n",
    "                        shape = (n_users, n_items))\n",
    "\n",
    "URM_all"
   ]
  },
  {
   "cell_type": "code",
   "execution_count": 10,
   "id": "4d7edb53",
   "metadata": {
    "execution": {
     "iopub.execute_input": "2024-12-16T12:18:25.955156Z",
     "iopub.status.busy": "2024-12-16T12:18:25.954207Z",
     "iopub.status.idle": "2024-12-16T12:18:27.141532Z",
     "shell.execute_reply": "2024-12-16T12:18:27.140491Z"
    },
    "papermill": {
     "duration": 1.203666,
     "end_time": "2024-12-16T12:18:27.144021",
     "exception": false,
     "start_time": "2024-12-16T12:18:25.940355",
     "status": "completed"
    },
    "tags": []
   },
   "outputs": [
    {
     "data": {
      "text/plain": [
       "<Compressed Sparse Row sparse matrix of dtype 'float64'\n",
       "\twith 2940040 stored elements and shape (38121, 94331)>"
      ]
     },
     "execution_count": 10,
     "metadata": {},
     "output_type": "execute_result"
    }
   ],
   "source": [
    "ICM_dataframe = pd.read_csv(\"/kaggle/input/recommender-system-2024-challenge-polimi/data_ICM_metadata.csv\")\n",
    "\n",
    "n_items = len(ICM_dataframe[\"item_id\"].unique())\n",
    "n_features = len(ICM_dataframe[\"feature_id\"].unique())\n",
    "\n",
    "ICM_all = sps.csr_matrix((ICM_dataframe[\"data\"].values, \n",
    "                          (ICM_dataframe[\"item_id\"].values, ICM_dataframe[\"feature_id\"].values)),\n",
    "                        shape = (n_items, n_features))\n",
    "\n",
    "ICM_all"
   ]
  },
  {
   "cell_type": "markdown",
   "id": "c1dfddec",
   "metadata": {
    "papermill": {
     "duration": 0.012518,
     "end_time": "2024-12-16T12:18:27.169665",
     "exception": false,
     "start_time": "2024-12-16T12:18:27.157147",
     "status": "completed"
    },
    "tags": []
   },
   "source": [
    "# Training"
   ]
  },
  {
   "cell_type": "code",
   "execution_count": 11,
   "id": "8959d535",
   "metadata": {
    "execution": {
     "iopub.execute_input": "2024-12-16T12:18:27.197356Z",
     "iopub.status.busy": "2024-12-16T12:18:27.196884Z",
     "iopub.status.idle": "2024-12-16T12:18:30.299324Z",
     "shell.execute_reply": "2024-12-16T12:18:30.297706Z"
    },
    "papermill": {
     "duration": 3.119082,
     "end_time": "2024-12-16T12:18:30.301798",
     "exception": false,
     "start_time": "2024-12-16T12:18:27.182716",
     "status": "completed"
    },
    "tags": []
   },
   "outputs": [
    {
     "name": "stdout",
     "output_type": "stream",
     "text": [
      "Warning: 141 (0.39 %) of 35736 users have no sampled items\n",
      "EvaluatorHoldout: Ignoring 141 ( 0.4%) Users that have less than 1 test interactions\n"
     ]
    }
   ],
   "source": [
    "from Evaluation.Evaluator import EvaluatorHoldout\n",
    "from Data_manager.split_functions.split_train_validation_random_holdout import split_train_in_two_percentage_global_sample\n",
    "\n",
    "URM_train, URM_validation = split_train_in_two_percentage_global_sample(URM_all, train_percentage = 0.80)\n",
    "\n",
    "evaluator_validation = EvaluatorHoldout(URM_validation, cutoff_list=[50])"
   ]
  },
  {
   "cell_type": "code",
   "execution_count": 12,
   "id": "9e3864b6",
   "metadata": {
    "execution": {
     "iopub.execute_input": "2024-12-16T12:18:30.332831Z",
     "iopub.status.busy": "2024-12-16T12:18:30.332367Z",
     "iopub.status.idle": "2024-12-16T12:18:30.353057Z",
     "shell.execute_reply": "2024-12-16T12:18:30.351872Z"
    },
    "papermill": {
     "duration": 0.038528,
     "end_time": "2024-12-16T12:18:30.355989",
     "exception": false,
     "start_time": "2024-12-16T12:18:30.317461",
     "status": "completed"
    },
    "tags": []
   },
   "outputs": [],
   "source": [
    "from Recommenders.KNN.ItemKNNCFRecommender import ItemKNNCFRecommender\n",
    "\n",
    "def objective_function_ItemKNNCF(optuna_trial):\n",
    "    \n",
    "    recommender_instance = ItemKNNCFRecommender(URM_train)\n",
    "    similarity = optuna_trial.suggest_categorical(\"similarity\", ['cosine', 'dice', 'jaccard', 'asymmetric', 'tversky', 'euclidean'])\n",
    "    \n",
    "    full_hyperp = {\"similarity\": similarity,\n",
    "                   \"topK\": optuna_trial.suggest_int(\"topK\", 0, 750),\n",
    "                   \"shrink\": optuna_trial.suggest_int(\"shrink\", 0, 1000),\n",
    "                   'feature_weighting': optuna_trial.suggest_categorical('feature_weighting', [\"BM25\", \"TF-IDF\", \"none\"])\n",
    "                  }\n",
    "    \n",
    "    if similarity == \"asymmetric\":\n",
    "        full_hyperp[\"asymmetric_alpha\"] = optuna_trial.suggest_float(\"asymmetric_alpha\", 0, 2, log=False)\n",
    "        full_hyperp[\"normalize\"] = True     \n",
    "\n",
    "    elif similarity == \"tversky\":\n",
    "        full_hyperp[\"tversky_alpha\"] = optuna_trial.suggest_float(\"tversky_alpha\", 0, 2, log=False)\n",
    "        full_hyperp[\"tversky_beta\"] = optuna_trial.suggest_float(\"tversky_beta\", 0, 2, log=False)\n",
    "        full_hyperp[\"normalize\"] = True \n",
    "\n",
    "    elif similarity == \"euclidean\":\n",
    "        full_hyperp[\"normalize_avg_row\"] = optuna_trial.suggest_categorical(\"normalize_avg_row\", [True, False])\n",
    "        full_hyperp[\"similarity_from_distance_mode\"] = optuna_trial.suggest_categorical(\"similarity_from_distance_mode\", [\"lin\", \"log\", \"exp\"])\n",
    "        full_hyperp[\"normalize\"] = optuna_trial.suggest_categorical(\"normalize\", [True, False])\n",
    "        \n",
    "    \n",
    "    recommender_instance.fit(**full_hyperp)\n",
    "    \n",
    "    result_df, _ = evaluator_validation.evaluateRecommender(recommender_instance)\n",
    "    \n",
    "    return result_df.loc[50, \"RECALL\"]"
   ]
  },
  {
   "cell_type": "code",
   "execution_count": 13,
   "id": "c50c0d9b",
   "metadata": {
    "_kg_hide-output": true,
    "execution": {
     "iopub.execute_input": "2024-12-16T12:18:30.384804Z",
     "iopub.status.busy": "2024-12-16T12:18:30.384381Z",
     "iopub.status.idle": "2024-12-16T13:50:30.235325Z",
     "shell.execute_reply": "2024-12-16T13:50:30.234032Z"
    },
    "papermill": {
     "duration": 5519.86819,
     "end_time": "2024-12-16T13:50:30.237676",
     "exception": false,
     "start_time": "2024-12-16T12:18:30.369486",
     "status": "completed"
    },
    "tags": []
   },
   "outputs": [
    {
     "name": "stderr",
     "output_type": "stream",
     "text": [
      "[I 2024-12-16 12:18:32,182] Using an existing study with name 'hyperparameters_tuning_ItemKNNCF_Recall' instead of creating a new one.\n"
     ]
    },
    {
     "name": "stdout",
     "output_type": "stream",
     "text": [
      "Similarity column 38121 (100.0%), 2589.83 column/sec. Elapsed time 14.72 sec\n",
      "EvaluatorHoldout: Processed 35595 (100.0%) in 36.55 sec. Users per second: 974\n"
     ]
    },
    {
     "name": "stderr",
     "output_type": "stream",
     "text": [
      "[I 2024-12-16 12:19:24,276] Trial 400 finished with value: 0.26275610750067996 and parameters: {'similarity': 'tversky', 'topK': 17, 'shrink': 238, 'feature_weighting': 'BM25', 'tversky_alpha': 0.10714713809847944, 'tversky_beta': 1.2564735093468256}. Best is trial 312 with value: 0.2627796224180537.\n"
     ]
    },
    {
     "name": "stdout",
     "output_type": "stream",
     "text": [
      "Similarity column 38121 (100.0%), 2603.18 column/sec. Elapsed time 14.64 sec\n",
      "EvaluatorHoldout: Processed 35595 (100.0%) in 37.29 sec. Users per second: 955\n"
     ]
    },
    {
     "name": "stderr",
     "output_type": "stream",
     "text": [
      "[I 2024-12-16 12:20:16,862] Trial 401 finished with value: 0.2618714262326493 and parameters: {'similarity': 'tversky', 'topK': 22, 'shrink': 181, 'feature_weighting': 'BM25', 'tversky_alpha': 0.06095114384328598, 'tversky_beta': 1.320952515227453}. Best is trial 312 with value: 0.2627796224180537.\n"
     ]
    },
    {
     "name": "stdout",
     "output_type": "stream",
     "text": [
      "Similarity column 38121 (100.0%), 2759.41 column/sec. Elapsed time 13.81 sec\n",
      "EvaluatorHoldout: Processed 35595 (100.0%) in 43.69 sec. Users per second: 815\n"
     ]
    },
    {
     "name": "stderr",
     "output_type": "stream",
     "text": [
      "[I 2024-12-16 12:21:14,740] Trial 402 finished with value: 0.201124874042736 and parameters: {'similarity': 'asymmetric', 'topK': 45, 'shrink': 179, 'feature_weighting': 'none', 'asymmetric_alpha': 1.6207186392641413}. Best is trial 312 with value: 0.2627796224180537.\n"
     ]
    },
    {
     "name": "stdout",
     "output_type": "stream",
     "text": [
      "Similarity column 38121 (100.0%), 2561.26 column/sec. Elapsed time 14.88 sec\n",
      "EvaluatorHoldout: Processed 35595 (100.0%) in 40.09 sec. Users per second: 888\n"
     ]
    },
    {
     "name": "stderr",
     "output_type": "stream",
     "text": [
      "[I 2024-12-16 12:22:10,447] Trial 403 finished with value: 0.25710108514083974 and parameters: {'similarity': 'tversky', 'topK': 63, 'shrink': 197, 'feature_weighting': 'BM25', 'tversky_alpha': 0.04960264284597339, 'tversky_beta': 1.3160719728417039}. Best is trial 312 with value: 0.2627796224180537.\n"
     ]
    },
    {
     "name": "stdout",
     "output_type": "stream",
     "text": [
      "Similarity column 38121 (100.0%), 2614.79 column/sec. Elapsed time 14.58 sec\n",
      "EvaluatorHoldout: Processed 35595 (100.0%) in 37.25 sec. Users per second: 956\n"
     ]
    },
    {
     "name": "stderr",
     "output_type": "stream",
     "text": [
      "[I 2024-12-16 12:23:02,942] Trial 404 finished with value: 0.2619659757745489 and parameters: {'similarity': 'tversky', 'topK': 29, 'shrink': 212, 'feature_weighting': 'BM25', 'tversky_alpha': 0.05676141022040157, 'tversky_beta': 1.3333179227573766}. Best is trial 312 with value: 0.2627796224180537.\n"
     ]
    },
    {
     "name": "stdout",
     "output_type": "stream",
     "text": [
      "Similarity column 38121 (100.0%), 2627.89 column/sec. Elapsed time 14.51 sec\n",
      "EvaluatorHoldout: Processed 35595 (100.0%) in 37.60 sec. Users per second: 947\n"
     ]
    },
    {
     "name": "stderr",
     "output_type": "stream",
     "text": [
      "[I 2024-12-16 12:23:55,698] Trial 405 finished with value: 0.2615256473469241 and parameters: {'similarity': 'tversky', 'topK': 35, 'shrink': 218, 'feature_weighting': 'BM25', 'tversky_alpha': 0.10819222846203597, 'tversky_beta': 1.2680235923097876}. Best is trial 312 with value: 0.2627796224180537.\n"
     ]
    },
    {
     "name": "stdout",
     "output_type": "stream",
     "text": [
      "Similarity column 38121 (100.0%), 2639.24 column/sec. Elapsed time 14.44 sec\n",
      "EvaluatorHoldout: Processed 35595 (100.0%) in 38.78 sec. Users per second: 918\n"
     ]
    },
    {
     "name": "stderr",
     "output_type": "stream",
     "text": [
      "[I 2024-12-16 12:24:49,592] Trial 406 finished with value: 0.25904023120500175 and parameters: {'similarity': 'tversky', 'topK': 48, 'shrink': 252, 'feature_weighting': 'BM25', 'tversky_alpha': 0.15698457988635373, 'tversky_beta': 1.196564728249695}. Best is trial 312 with value: 0.2627796224180537.\n"
     ]
    },
    {
     "name": "stdout",
     "output_type": "stream",
     "text": [
      "Similarity column 38121 (100.0%), 2624.14 column/sec. Elapsed time 14.53 sec\n",
      "EvaluatorHoldout: Processed 35595 (100.0%) in 37.25 sec. Users per second: 956\n"
     ]
    },
    {
     "name": "stderr",
     "output_type": "stream",
     "text": [
      "[I 2024-12-16 12:25:42,011] Trial 407 finished with value: 0.2620269398225331 and parameters: {'similarity': 'tversky', 'topK': 29, 'shrink': 208, 'feature_weighting': 'BM25', 'tversky_alpha': 0.03857760533543807, 'tversky_beta': 1.2680569580273011}. Best is trial 312 with value: 0.2627796224180537.\n"
     ]
    },
    {
     "name": "stdout",
     "output_type": "stream",
     "text": [
      "Similarity column 38121 (100.0%), 2608.81 column/sec. Elapsed time 14.61 sec\n",
      "EvaluatorHoldout: Processed 35595 (100.0%) in 40.72 sec. Users per second: 874\n"
     ]
    },
    {
     "name": "stderr",
     "output_type": "stream",
     "text": [
      "[I 2024-12-16 12:26:38,052] Trial 408 finished with value: 0.23521677086590548 and parameters: {'similarity': 'tversky', 'topK': 69, 'shrink': 209, 'feature_weighting': 'TF-IDF', 'tversky_alpha': 0.0007051656162889424, 'tversky_beta': 1.2479980697651707}. Best is trial 312 with value: 0.2627796224180537.\n"
     ]
    },
    {
     "name": "stdout",
     "output_type": "stream",
     "text": [
      "Similarity column 38121 (100.0%), 2789.72 column/sec. Elapsed time 13.66 sec\n",
      "EvaluatorHoldout: Processed 35595 (100.0%) in 37.47 sec. Users per second: 950\n"
     ]
    },
    {
     "name": "stderr",
     "output_type": "stream",
     "text": [
      "[I 2024-12-16 12:27:29,671] Trial 409 finished with value: 0.23191764524426378 and parameters: {'similarity': 'cosine', 'topK': 35, 'shrink': 219, 'feature_weighting': 'BM25'}. Best is trial 312 with value: 0.2627796224180537.\n"
     ]
    },
    {
     "name": "stdout",
     "output_type": "stream",
     "text": [
      "Similarity column 38121 (100.0%), 2573.05 column/sec. Elapsed time 14.82 sec\n",
      "EvaluatorHoldout: Processed 35595 (100.0%) in 35.69 sec. Users per second: 997\n"
     ]
    },
    {
     "name": "stderr",
     "output_type": "stream",
     "text": [
      "[I 2024-12-16 12:28:20,830] Trial 410 finished with value: 0.261435742312911 and parameters: {'similarity': 'tversky', 'topK': 13, 'shrink': 196, 'feature_weighting': 'BM25', 'tversky_alpha': 0.044433510794712715, 'tversky_beta': 1.3384062942827955}. Best is trial 312 with value: 0.2627796224180537.\n"
     ]
    },
    {
     "name": "stdout",
     "output_type": "stream",
     "text": [
      "Similarity column 38121 (100.0%), 2631.62 column/sec. Elapsed time 14.49 sec\n",
      "EvaluatorHoldout: Processed 35595 (100.0%) in 37.82 sec. Users per second: 941\n"
     ]
    },
    {
     "name": "stderr",
     "output_type": "stream",
     "text": [
      "[I 2024-12-16 12:29:13,771] Trial 411 finished with value: 0.2612035622658871 and parameters: {'similarity': 'tversky', 'topK': 33, 'shrink': 233, 'feature_weighting': 'BM25', 'tversky_alpha': 0.11690560938330652, 'tversky_beta': 1.2093543803398463}. Best is trial 312 with value: 0.2627796224180537.\n"
     ]
    },
    {
     "name": "stdout",
     "output_type": "stream",
     "text": [
      "Similarity column 38121 (100.0%), 2622.85 column/sec. Elapsed time 14.53 sec\n",
      "EvaluatorHoldout: Processed 35595 (100.0%) in 38.81 sec. Users per second: 917\n"
     ]
    },
    {
     "name": "stderr",
     "output_type": "stream",
     "text": [
      "[I 2024-12-16 12:30:07,824] Trial 412 finished with value: 0.2586346810955781 and parameters: {'similarity': 'tversky', 'topK': 54, 'shrink': 172, 'feature_weighting': 'BM25', 'tversky_alpha': 0.15440474401217477, 'tversky_beta': 1.2703229031459669}. Best is trial 312 with value: 0.2627796224180537.\n"
     ]
    },
    {
     "name": "stdout",
     "output_type": "stream",
     "text": [
      "Similarity column 38121 (100.0%), 2480.61 column/sec. Elapsed time 15.37 sec\n",
      "EvaluatorHoldout: Processed 35595 (100.0%) in 53.40 sec. Users per second: 667\n"
     ]
    },
    {
     "name": "stderr",
     "output_type": "stream",
     "text": [
      "[I 2024-12-16 12:31:17,932] Trial 413 finished with value: 0.23010692602085073 and parameters: {'similarity': 'tversky', 'topK': 521, 'shrink': 209, 'feature_weighting': 'BM25', 'tversky_alpha': 0.08338553188402865, 'tversky_beta': 1.1709214175615712}. Best is trial 312 with value: 0.2627796224180537.\n"
     ]
    },
    {
     "name": "stdout",
     "output_type": "stream",
     "text": [
      "Similarity column 38121 (100.0%), 2466.48 column/sec. Elapsed time 15.46 sec\n",
      "EvaluatorHoldout: Processed 35595 (100.0%) in 57.03 sec. Users per second: 624\n"
     ]
    },
    {
     "name": "stderr",
     "output_type": "stream",
     "text": [
      "[I 2024-12-16 12:32:32,046] Trial 414 finished with value: 0.22331558794958836 and parameters: {'similarity': 'tversky', 'topK': 703, 'shrink': 246, 'feature_weighting': 'BM25', 'tversky_alpha': 0.03299381992953983, 'tversky_beta': 1.235951707725429}. Best is trial 312 with value: 0.2627796224180537.\n"
     ]
    },
    {
     "name": "stdout",
     "output_type": "stream",
     "text": [
      "Similarity column 38121 (100.0%), 3696.73 column/sec. Elapsed time 10.31 sec\n",
      "EvaluatorHoldout: Processed 35595 (100.0%) in 27.60 sec. Users per second: 1290\n"
     ]
    },
    {
     "name": "stderr",
     "output_type": "stream",
     "text": [
      "[I 2024-12-16 12:33:10,599] Trial 415 finished with value: 0.005972113065949917 and parameters: {'similarity': 'jaccard', 'topK': 0, 'shrink': 226, 'feature_weighting': 'BM25'}. Best is trial 312 with value: 0.2627796224180537.\n"
     ]
    },
    {
     "name": "stdout",
     "output_type": "stream",
     "text": [
      "Similarity column 38121 (100.0%), 502.20 column/sec. Elapsed time 1.27 min\n",
      "EvaluatorHoldout: Processed 35595 (100.0%) in 35.18 sec. Users per second: 1012\n"
     ]
    },
    {
     "name": "stderr",
     "output_type": "stream",
     "text": [
      "[I 2024-12-16 12:35:02,081] Trial 416 finished with value: 0.18484457086032494 and parameters: {'similarity': 'euclidean', 'topK': 16, 'shrink': 183, 'feature_weighting': 'BM25', 'normalize_avg_row': True, 'similarity_from_distance_mode': 'lin', 'normalize': True}. Best is trial 312 with value: 0.2627796224180537.\n"
     ]
    },
    {
     "name": "stdout",
     "output_type": "stream",
     "text": [
      "Similarity column 38121 (100.0%), 2608.16 column/sec. Elapsed time 14.62 sec\n",
      "EvaluatorHoldout: Processed 35595 (100.0%) in 36.72 sec. Users per second: 969\n"
     ]
    },
    {
     "name": "stderr",
     "output_type": "stream",
     "text": [
      "[I 2024-12-16 12:35:54,072] Trial 417 finished with value: 0.2609533576868001 and parameters: {'similarity': 'tversky', 'topK': 28, 'shrink': 150, 'feature_weighting': 'BM25', 'tversky_alpha': 0.11737444990406282, 'tversky_beta': 1.3270009239172356}. Best is trial 312 with value: 0.2627796224180537.\n"
     ]
    },
    {
     "name": "stdout",
     "output_type": "stream",
     "text": [
      "Similarity column 38121 (100.0%), 2617.75 column/sec. Elapsed time 14.56 sec\n",
      "EvaluatorHoldout: Processed 35595 (100.0%) in 38.77 sec. Users per second: 918\n"
     ]
    },
    {
     "name": "stderr",
     "output_type": "stream",
     "text": [
      "[I 2024-12-16 12:36:48,059] Trial 418 finished with value: 0.2593520871754806 and parameters: {'similarity': 'tversky', 'topK': 46, 'shrink': 250, 'feature_weighting': 'BM25', 'tversky_alpha': 0.15613339595806425, 'tversky_beta': 1.2726219870919782}. Best is trial 312 with value: 0.2627796224180537.\n"
     ]
    },
    {
     "name": "stdout",
     "output_type": "stream",
     "text": [
      "Similarity column 38121 (100.0%), 2620.77 column/sec. Elapsed time 14.55 sec\n",
      "EvaluatorHoldout: Processed 35595 (100.0%) in 35.85 sec. Users per second: 993\n"
     ]
    },
    {
     "name": "stderr",
     "output_type": "stream",
     "text": [
      "[I 2024-12-16 12:37:39,093] Trial 419 finished with value: 0.26148037848223993 and parameters: {'similarity': 'tversky', 'topK': 14, 'shrink': 203, 'feature_weighting': 'BM25', 'tversky_alpha': 0.06752044807725029, 'tversky_beta': 1.1953675207975398}. Best is trial 312 with value: 0.2627796224180537.\n"
     ]
    },
    {
     "name": "stdout",
     "output_type": "stream",
     "text": [
      "Similarity column 38121 (100.0%), 3287.13 column/sec. Elapsed time 11.60 sec\n",
      "EvaluatorHoldout: Processed 35595 (100.0%) in 27.52 sec. Users per second: 1294\n"
     ]
    },
    {
     "name": "stderr",
     "output_type": "stream",
     "text": [
      "[I 2024-12-16 12:38:18,812] Trial 420 finished with value: 0.005972113065949917 and parameters: {'similarity': 'tversky', 'topK': 0, 'shrink': 229, 'feature_weighting': 'BM25', 'tversky_alpha': 0.0014897153135256334, 'tversky_beta': 1.3496593299011388}. Best is trial 312 with value: 0.2627796224180537.\n"
     ]
    },
    {
     "name": "stdout",
     "output_type": "stream",
     "text": [
      "Similarity column 38121 (100.0%), 2630.92 column/sec. Elapsed time 14.49 sec\n",
      "EvaluatorHoldout: Processed 35595 (100.0%) in 37.16 sec. Users per second: 958\n"
     ]
    },
    {
     "name": "stderr",
     "output_type": "stream",
     "text": [
      "[I 2024-12-16 12:39:11,134] Trial 421 finished with value: 0.26179536715677937 and parameters: {'similarity': 'tversky', 'topK': 25, 'shrink': 256, 'feature_weighting': 'BM25', 'tversky_alpha': 0.10495231671952415, 'tversky_beta': 1.232366313891266}. Best is trial 312 with value: 0.2627796224180537.\n"
     ]
    },
    {
     "name": "stdout",
     "output_type": "stream",
     "text": [
      "Similarity column 38121 (100.0%), 2875.17 column/sec. Elapsed time 13.26 sec\n",
      "EvaluatorHoldout: Processed 35595 (100.0%) in 38.75 sec. Users per second: 919\n"
     ]
    },
    {
     "name": "stderr",
     "output_type": "stream",
     "text": [
      "[I 2024-12-16 12:40:03,757] Trial 422 finished with value: 0.25643058777782013 and parameters: {'similarity': 'dice', 'topK': 38, 'shrink': 198, 'feature_weighting': 'BM25'}. Best is trial 312 with value: 0.2627796224180537.\n"
     ]
    },
    {
     "name": "stdout",
     "output_type": "stream",
     "text": [
      "Similarity column 38121 (100.0%), 2592.66 column/sec. Elapsed time 14.70 sec\n",
      "EvaluatorHoldout: Processed 35595 (100.0%) in 37.05 sec. Users per second: 961\n"
     ]
    },
    {
     "name": "stderr",
     "output_type": "stream",
     "text": [
      "[I 2024-12-16 12:40:56,168] Trial 423 finished with value: 0.2624178864872243 and parameters: {'similarity': 'tversky', 'topK': 16, 'shrink': 223, 'feature_weighting': 'BM25', 'tversky_alpha': 0.05655304229505628, 'tversky_beta': 1.2791103471767402}. Best is trial 312 with value: 0.2627796224180537.\n"
     ]
    },
    {
     "name": "stdout",
     "output_type": "stream",
     "text": [
      "Similarity column 38121 (100.0%), 2572.75 column/sec. Elapsed time 14.82 sec\n",
      "EvaluatorHoldout: Processed 35595 (100.0%) in 39.81 sec. Users per second: 894\n"
     ]
    },
    {
     "name": "stderr",
     "output_type": "stream",
     "text": [
      "[I 2024-12-16 12:41:51,498] Trial 424 finished with value: 0.25819858518975547 and parameters: {'similarity': 'tversky', 'topK': 55, 'shrink': 239, 'feature_weighting': 'BM25', 'tversky_alpha': 0.16417131465973184, 'tversky_beta': 1.2926052654505793}. Best is trial 312 with value: 0.2627796224180537.\n"
     ]
    },
    {
     "name": "stdout",
     "output_type": "stream",
     "text": [
      "Similarity column 38121 (100.0%), 2572.76 column/sec. Elapsed time 14.82 sec\n",
      "EvaluatorHoldout: Processed 35595 (100.0%) in 38.16 sec. Users per second: 933\n"
     ]
    },
    {
     "name": "stderr",
     "output_type": "stream",
     "text": [
      "[I 2024-12-16 12:42:45,013] Trial 425 finished with value: 0.24394674287844897 and parameters: {'similarity': 'tversky', 'topK': 29, 'shrink': 221, 'feature_weighting': 'none', 'tversky_alpha': 0.037091748999623614, 'tversky_beta': 1.3473899572391463}. Best is trial 312 with value: 0.2627796224180537.\n"
     ]
    },
    {
     "name": "stdout",
     "output_type": "stream",
     "text": [
      "Similarity column 38121 (100.0%), 2549.96 column/sec. Elapsed time 14.95 sec\n",
      "EvaluatorHoldout: Processed 35595 (100.0%) in 36.60 sec. Users per second: 973\n"
     ]
    },
    {
     "name": "stderr",
     "output_type": "stream",
     "text": [
      "[I 2024-12-16 12:43:37,219] Trial 426 finished with value: 0.2607403491312897 and parameters: {'similarity': 'tversky', 'topK': 12, 'shrink': 264, 'feature_weighting': 'BM25', 'tversky_alpha': 0.12786965608603523, 'tversky_beta': 1.278810450893323}. Best is trial 312 with value: 0.2627796224180537.\n"
     ]
    },
    {
     "name": "stdout",
     "output_type": "stream",
     "text": [
      "Similarity column 38121 (100.0%), 2582.92 column/sec. Elapsed time 14.76 sec\n",
      "EvaluatorHoldout: Processed 35595 (100.0%) in 39.83 sec. Users per second: 894\n"
     ]
    },
    {
     "name": "stderr",
     "output_type": "stream",
     "text": [
      "[I 2024-12-16 12:44:32,521] Trial 427 finished with value: 0.256296079289691 and parameters: {'similarity': 'tversky', 'topK': 72, 'shrink': 165, 'feature_weighting': 'BM25', 'tversky_alpha': 0.19373350734308414, 'tversky_beta': 1.3151114160880166}. Best is trial 312 with value: 0.2627796224180537.\n"
     ]
    },
    {
     "name": "stdout",
     "output_type": "stream",
     "text": [
      "Similarity column 38121 (100.0%), 2781.29 column/sec. Elapsed time 13.71 sec\n",
      "EvaluatorHoldout: Processed 35595 (100.0%) in 37.45 sec. Users per second: 950\n"
     ]
    },
    {
     "name": "stderr",
     "output_type": "stream",
     "text": [
      "[I 2024-12-16 12:45:24,159] Trial 428 finished with value: 0.23253074512444968 and parameters: {'similarity': 'asymmetric', 'topK': 45, 'shrink': 239, 'feature_weighting': 'BM25', 'asymmetric_alpha': 0.5399471319809531}. Best is trial 312 with value: 0.2627796224180537.\n"
     ]
    },
    {
     "name": "stdout",
     "output_type": "stream",
     "text": [
      "Similarity column 38121 (100.0%), 2613.15 column/sec. Elapsed time 14.59 sec\n",
      "EvaluatorHoldout: Processed 35595 (100.0%) in 35.53 sec. Users per second: 1002\n"
     ]
    },
    {
     "name": "stderr",
     "output_type": "stream",
     "text": [
      "[I 2024-12-16 12:46:14,942] Trial 429 finished with value: 0.23997731336792064 and parameters: {'similarity': 'tversky', 'topK': 24, 'shrink': 13, 'feature_weighting': 'BM25', 'tversky_alpha': 0.3046145880352984, 'tversky_beta': 1.199960039479974}. Best is trial 312 with value: 0.2627796224180537.\n"
     ]
    },
    {
     "name": "stdout",
     "output_type": "stream",
     "text": [
      "Similarity column 38121 (100.0%), 3321.09 column/sec. Elapsed time 11.48 sec\n",
      "EvaluatorHoldout: Processed 35595 (100.0%) in 27.72 sec. Users per second: 1284\n"
     ]
    },
    {
     "name": "stderr",
     "output_type": "stream",
     "text": [
      "[I 2024-12-16 12:46:54,812] Trial 430 finished with value: 0.005972113065949917 and parameters: {'similarity': 'tversky', 'topK': 0, 'shrink': 222, 'feature_weighting': 'BM25', 'tversky_alpha': 0.09372218755222089, 'tversky_beta': 1.269432874828072}. Best is trial 312 with value: 0.2627796224180537.\n"
     ]
    },
    {
     "name": "stdout",
     "output_type": "stream",
     "text": [
      "Similarity column 38121 (100.0%), 2614.15 column/sec. Elapsed time 14.58 sec\n",
      "EvaluatorHoldout: Processed 35595 (100.0%) in 37.99 sec. Users per second: 937\n"
     ]
    },
    {
     "name": "stderr",
     "output_type": "stream",
     "text": [
      "[I 2024-12-16 12:47:48,042] Trial 431 finished with value: 0.26077932752594174 and parameters: {'similarity': 'tversky', 'topK': 36, 'shrink': 260, 'feature_weighting': 'BM25', 'tversky_alpha': 0.033301636946555, 'tversky_beta': 1.1790110712246558}. Best is trial 312 with value: 0.2627796224180537.\n"
     ]
    },
    {
     "name": "stdout",
     "output_type": "stream",
     "text": [
      "Similarity column 38121 (100.0%), 2616.74 column/sec. Elapsed time 14.57 sec\n",
      "EvaluatorHoldout: Processed 35595 (100.0%) in 34.94 sec. Users per second: 1019\n"
     ]
    },
    {
     "name": "stderr",
     "output_type": "stream",
     "text": [
      "[I 2024-12-16 12:48:38,173] Trial 432 finished with value: 0.2611961105529899 and parameters: {'similarity': 'tversky', 'topK': 13, 'shrink': 74, 'feature_weighting': 'TF-IDF', 'tversky_alpha': 0.13627399237527998, 'tversky_beta': 1.3466862346331954}. Best is trial 312 with value: 0.2627796224180537.\n"
     ]
    },
    {
     "name": "stdout",
     "output_type": "stream",
     "text": [
      "Similarity column 38121 (100.0%), 2613.84 column/sec. Elapsed time 14.58 sec\n",
      "EvaluatorHoldout: Processed 35595 (100.0%) in 36.78 sec. Users per second: 968\n"
     ]
    },
    {
     "name": "stderr",
     "output_type": "stream",
     "text": [
      "[I 2024-12-16 12:49:30,201] Trial 433 finished with value: 0.2619109988511488 and parameters: {'similarity': 'tversky', 'topK': 24, 'shrink': 189, 'feature_weighting': 'BM25', 'tversky_alpha': 0.08367325970232574, 'tversky_beta': 1.2424093748534428}. Best is trial 312 with value: 0.2627796224180537.\n"
     ]
    },
    {
     "name": "stdout",
     "output_type": "stream",
     "text": [
      "Similarity column 38121 (100.0%), 2611.96 column/sec. Elapsed time 14.59 sec\n",
      "EvaluatorHoldout: Processed 35595 (100.0%) in 40.60 sec. Users per second: 877\n"
     ]
    },
    {
     "name": "stderr",
     "output_type": "stream",
     "text": [
      "[I 2024-12-16 12:50:26,120] Trial 434 finished with value: 0.2552650318883829 and parameters: {'similarity': 'tversky', 'topK': 84, 'shrink': 184, 'feature_weighting': 'BM25', 'tversky_alpha': 0.09396187732847526, 'tversky_beta': 1.23461136231767}. Best is trial 312 with value: 0.2627796224180537.\n"
     ]
    },
    {
     "name": "stdout",
     "output_type": "stream",
     "text": [
      "Similarity column 38121 (100.0%), 2599.26 column/sec. Elapsed time 14.67 sec\n",
      "EvaluatorHoldout: Processed 35595 (100.0%) in 38.95 sec. Users per second: 914\n"
     ]
    },
    {
     "name": "stderr",
     "output_type": "stream",
     "text": [
      "[I 2024-12-16 12:51:20,421] Trial 435 finished with value: 0.2575410461277898 and parameters: {'similarity': 'tversky', 'topK': 59, 'shrink': 137, 'feature_weighting': 'BM25', 'tversky_alpha': 0.19698091581927396, 'tversky_beta': 1.146246286211464}. Best is trial 312 with value: 0.2627796224180537.\n"
     ]
    },
    {
     "name": "stdout",
     "output_type": "stream",
     "text": [
      "Similarity column 38121 (100.0%), 2612.81 column/sec. Elapsed time 14.59 sec\n",
      "EvaluatorHoldout: Processed 35595 (100.0%) in 37.87 sec. Users per second: 940\n"
     ]
    },
    {
     "name": "stderr",
     "output_type": "stream",
     "text": [
      "[I 2024-12-16 12:52:13,565] Trial 436 finished with value: 0.26025225660889595 and parameters: {'similarity': 'tversky', 'topK': 42, 'shrink': 190, 'feature_weighting': 'BM25', 'tversky_alpha': 0.1311192806226537, 'tversky_beta': 1.250675659664746}. Best is trial 312 with value: 0.2627796224180537.\n"
     ]
    },
    {
     "name": "stdout",
     "output_type": "stream",
     "text": [
      "Similarity column 38121 (100.0%), 2638.05 column/sec. Elapsed time 14.45 sec\n",
      "EvaluatorHoldout: Processed 35595 (100.0%) in 36.97 sec. Users per second: 963\n"
     ]
    },
    {
     "name": "stderr",
     "output_type": "stream",
     "text": [
      "[I 2024-12-16 12:53:05,638] Trial 437 finished with value: 0.261417437711112 and parameters: {'similarity': 'tversky', 'topK': 27, 'shrink': 162, 'feature_weighting': 'BM25', 'tversky_alpha': 0.07197234778197922, 'tversky_beta': 1.293707155168567}. Best is trial 312 with value: 0.2627796224180537.\n"
     ]
    },
    {
     "name": "stdout",
     "output_type": "stream",
     "text": [
      "Similarity column 38121 (100.0%), 2835.06 column/sec. Elapsed time 13.45 sec\n",
      "EvaluatorHoldout: Processed 35595 (100.0%) in 36.42 sec. Users per second: 977\n"
     ]
    },
    {
     "name": "stderr",
     "output_type": "stream",
     "text": [
      "[I 2024-12-16 12:53:55,940] Trial 438 finished with value: 0.231323491617951 and parameters: {'similarity': 'cosine', 'topK': 30, 'shrink': 279, 'feature_weighting': 'BM25'}. Best is trial 312 with value: 0.2627796224180537.\n"
     ]
    },
    {
     "name": "stdout",
     "output_type": "stream",
     "text": [
      "Similarity column 38121 (100.0%), 2566.34 column/sec. Elapsed time 14.85 sec\n",
      "EvaluatorHoldout: Processed 35595 (100.0%) in 45.38 sec. Users per second: 784\n"
     ]
    },
    {
     "name": "stderr",
     "output_type": "stream",
     "text": [
      "[I 2024-12-16 12:54:57,014] Trial 439 finished with value: 0.24566620510400572 and parameters: {'similarity': 'tversky', 'topK': 191, 'shrink': 241, 'feature_weighting': 'BM25', 'tversky_alpha': 0.16975358908277222, 'tversky_beta': 1.2123011233987695}. Best is trial 312 with value: 0.2627796224180537.\n"
     ]
    },
    {
     "name": "stdout",
     "output_type": "stream",
     "text": [
      "Similarity column 38121 (100.0%), 2608.42 column/sec. Elapsed time 14.61 sec\n",
      "EvaluatorHoldout: Processed 35595 (100.0%) in 38.72 sec. Users per second: 919\n"
     ]
    },
    {
     "name": "stderr",
     "output_type": "stream",
     "text": [
      "[I 2024-12-16 12:55:51,058] Trial 440 finished with value: 0.2591601189717742 and parameters: {'similarity': 'tversky', 'topK': 49, 'shrink': 206, 'feature_weighting': 'BM25', 'tversky_alpha': 0.24729095906975596, 'tversky_beta': 1.2635765398173384}. Best is trial 312 with value: 0.2627796224180537.\n"
     ]
    },
    {
     "name": "stdout",
     "output_type": "stream",
     "text": [
      "Similarity column 38121 (100.0%), 2632.33 column/sec. Elapsed time 14.48 sec\n",
      "EvaluatorHoldout: Processed 35595 (100.0%) in 35.98 sec. Users per second: 989\n"
     ]
    },
    {
     "name": "stderr",
     "output_type": "stream",
     "text": [
      "[I 2024-12-16 12:56:42,151] Trial 441 finished with value: 0.2601505953459832 and parameters: {'similarity': 'tversky', 'topK': 11, 'shrink': 254, 'feature_weighting': 'BM25', 'tversky_alpha': 0.09465971370457511, 'tversky_beta': 1.2207585256754685}. Best is trial 312 with value: 0.2627796224180537.\n"
     ]
    },
    {
     "name": "stdout",
     "output_type": "stream",
     "text": [
      "Similarity column 38121 (100.0%), 3690.40 column/sec. Elapsed time 10.33 sec\n",
      "EvaluatorHoldout: Processed 35595 (100.0%) in 27.65 sec. Users per second: 1287\n"
     ]
    },
    {
     "name": "stderr",
     "output_type": "stream",
     "text": [
      "[I 2024-12-16 12:57:20,726] Trial 442 finished with value: 0.005972113065949917 and parameters: {'similarity': 'jaccard', 'topK': 0, 'shrink': 227, 'feature_weighting': 'BM25'}. Best is trial 312 with value: 0.2627796224180537.\n"
     ]
    },
    {
     "name": "stdout",
     "output_type": "stream",
     "text": [
      "Similarity column 38121 (100.0%), 2617.15 column/sec. Elapsed time 14.57 sec\n",
      "EvaluatorHoldout: Processed 35595 (100.0%) in 36.95 sec. Users per second: 963\n"
     ]
    },
    {
     "name": "stderr",
     "output_type": "stream",
     "text": [
      "[I 2024-12-16 12:58:12,878] Trial 443 finished with value: 0.26159628987195144 and parameters: {'similarity': 'tversky', 'topK': 24, 'shrink': 173, 'feature_weighting': 'BM25', 'tversky_alpha': 0.14642532949548592, 'tversky_beta': 1.1598424450229217}. Best is trial 312 with value: 0.2627796224180537.\n"
     ]
    },
    {
     "name": "stdout",
     "output_type": "stream",
     "text": [
      "Similarity column 38121 (100.0%), 448.46 column/sec. Elapsed time 1.42 min\n",
      "EvaluatorHoldout: Processed 35595 (100.0%) in 41.06 sec. Users per second: 867\n"
     ]
    },
    {
     "name": "stderr",
     "output_type": "stream",
     "text": [
      "[I 2024-12-16 13:00:19,340] Trial 444 finished with value: 0.14200618697640893 and parameters: {'similarity': 'euclidean', 'topK': 40, 'shrink': 281, 'feature_weighting': 'BM25', 'normalize_avg_row': True, 'similarity_from_distance_mode': 'log', 'normalize': False}. Best is trial 312 with value: 0.2627796224180537.\n"
     ]
    },
    {
     "name": "stdout",
     "output_type": "stream",
     "text": [
      "Similarity column 38121 (100.0%), 2603.24 column/sec. Elapsed time 14.64 sec\n",
      "EvaluatorHoldout: Processed 35595 (100.0%) in 37.19 sec. Users per second: 957\n"
     ]
    },
    {
     "name": "stderr",
     "output_type": "stream",
     "text": [
      "[I 2024-12-16 13:01:11,822] Trial 445 finished with value: 0.2622579914501702 and parameters: {'similarity': 'tversky', 'topK': 22, 'shrink': 253, 'feature_weighting': 'BM25', 'tversky_alpha': 0.20651519881802316, 'tversky_beta': 1.2924756027946114}. Best is trial 312 with value: 0.2627796224180537.\n"
     ]
    },
    {
     "name": "stdout",
     "output_type": "stream",
     "text": [
      "Similarity column 38121 (100.0%), 2445.63 column/sec. Elapsed time 15.59 sec\n",
      "EvaluatorHoldout: Processed 35595 (100.0%) in 56.30 sec. Users per second: 632\n"
     ]
    },
    {
     "name": "stderr",
     "output_type": "stream",
     "text": [
      "[I 2024-12-16 13:02:25,363] Trial 446 finished with value: 0.2281920825430983 and parameters: {'similarity': 'tversky', 'topK': 649, 'shrink': 266, 'feature_weighting': 'BM25', 'tversky_alpha': 0.21329448984535143, 'tversky_beta': 1.3183413257068541}. Best is trial 312 with value: 0.2627796224180537.\n"
     ]
    },
    {
     "name": "stdout",
     "output_type": "stream",
     "text": [
      "Similarity column 38121 (100.0%), 2565.96 column/sec. Elapsed time 14.86 sec\n",
      "EvaluatorHoldout: Processed 35595 (100.0%) in 40.51 sec. Users per second: 879\n"
     ]
    },
    {
     "name": "stderr",
     "output_type": "stream",
     "text": [
      "[I 2024-12-16 13:03:21,335] Trial 447 finished with value: 0.235973537458903 and parameters: {'similarity': 'tversky', 'topK': 62, 'shrink': 241, 'feature_weighting': 'none', 'tversky_alpha': 0.17797027129415954, 'tversky_beta': 1.3590839710472093}. Best is trial 312 with value: 0.2627796224180537.\n"
     ]
    },
    {
     "name": "stdout",
     "output_type": "stream",
     "text": [
      "Similarity column 38121 (100.0%), 2856.05 column/sec. Elapsed time 13.35 sec\n",
      "EvaluatorHoldout: Processed 35595 (100.0%) in 36.54 sec. Users per second: 974\n"
     ]
    },
    {
     "name": "stderr",
     "output_type": "stream",
     "text": [
      "[I 2024-12-16 13:04:11,840] Trial 448 finished with value: 0.2564973796792391 and parameters: {'similarity': 'dice', 'topK': 14, 'shrink': 251, 'feature_weighting': 'BM25'}. Best is trial 312 with value: 0.2627796224180537.\n"
     ]
    },
    {
     "name": "stdout",
     "output_type": "stream",
     "text": [
      "Similarity column 38121 (100.0%), 2614.01 column/sec. Elapsed time 14.58 sec\n",
      "EvaluatorHoldout: Processed 35595 (100.0%) in 38.43 sec. Users per second: 926\n"
     ]
    },
    {
     "name": "stderr",
     "output_type": "stream",
     "text": [
      "[I 2024-12-16 13:05:05,540] Trial 449 finished with value: 0.26075827569843774 and parameters: {'similarity': 'tversky', 'topK': 37, 'shrink': 284, 'feature_weighting': 'BM25', 'tversky_alpha': 0.2250330284197139, 'tversky_beta': 1.1909368651505265}. Best is trial 312 with value: 0.2627796224180537.\n"
     ]
    },
    {
     "name": "stdout",
     "output_type": "stream",
     "text": [
      "Similarity column 38121 (100.0%), 2622.31 column/sec. Elapsed time 14.54 sec\n",
      "EvaluatorHoldout: Processed 35595 (100.0%) in 36.83 sec. Users per second: 966\n"
     ]
    },
    {
     "name": "stderr",
     "output_type": "stream",
     "text": [
      "[I 2024-12-16 13:05:57,543] Trial 450 finished with value: 0.26206422661931617 and parameters: {'similarity': 'tversky', 'topK': 24, 'shrink': 220, 'feature_weighting': 'BM25', 'tversky_alpha': 0.1328663154962869, 'tversky_beta': 1.2536716290872643}. Best is trial 312 with value: 0.2627796224180537.\n"
     ]
    },
    {
     "name": "stdout",
     "output_type": "stream",
     "text": [
      "Similarity column 38121 (100.0%), 2604.63 column/sec. Elapsed time 14.64 sec\n",
      "EvaluatorHoldout: Processed 35595 (100.0%) in 39.25 sec. Users per second: 907\n"
     ]
    },
    {
     "name": "stderr",
     "output_type": "stream",
     "text": [
      "[I 2024-12-16 13:06:52,112] Trial 451 finished with value: 0.2590396362787962 and parameters: {'similarity': 'tversky', 'topK': 52, 'shrink': 230, 'feature_weighting': 'BM25', 'tversky_alpha': 0.15737621289898449, 'tversky_beta': 1.2919397717272376}. Best is trial 312 with value: 0.2627796224180537.\n"
     ]
    },
    {
     "name": "stdout",
     "output_type": "stream",
     "text": [
      "Similarity column 38121 (100.0%), 2598.19 column/sec. Elapsed time 14.67 sec\n",
      "EvaluatorHoldout: Processed 35595 (100.0%) in 35.84 sec. Users per second: 993\n"
     ]
    },
    {
     "name": "stderr",
     "output_type": "stream",
     "text": [
      "[I 2024-12-16 13:07:43,247] Trial 452 finished with value: 0.2602717813829644 and parameters: {'similarity': 'tversky', 'topK': 12, 'shrink': 265, 'feature_weighting': 'BM25', 'tversky_alpha': 0.292267276115885, 'tversky_beta': 1.2584815910723168}. Best is trial 312 with value: 0.2627796224180537.\n"
     ]
    },
    {
     "name": "stdout",
     "output_type": "stream",
     "text": [
      "Similarity column 38121 (100.0%), 3343.02 column/sec. Elapsed time 11.40 sec\n",
      "EvaluatorHoldout: Processed 35595 (100.0%) in 27.59 sec. Users per second: 1290\n"
     ]
    },
    {
     "name": "stderr",
     "output_type": "stream",
     "text": [
      "[I 2024-12-16 13:08:22,858] Trial 453 finished with value: 0.005972113065949917 and parameters: {'similarity': 'tversky', 'topK': 0, 'shrink': 214, 'feature_weighting': 'BM25', 'tversky_alpha': 0.1268213826489127, 'tversky_beta': 1.3218033177623962}. Best is trial 312 with value: 0.2627796224180537.\n"
     ]
    },
    {
     "name": "stdout",
     "output_type": "stream",
     "text": [
      "Similarity column 38121 (100.0%), 2623.52 column/sec. Elapsed time 14.53 sec\n",
      "EvaluatorHoldout: Processed 35595 (100.0%) in 38.04 sec. Users per second: 936\n"
     ]
    },
    {
     "name": "stderr",
     "output_type": "stream",
     "text": [
      "[I 2024-12-16 13:09:16,079] Trial 454 finished with value: 0.23938055666052888 and parameters: {'similarity': 'tversky', 'topK': 35, 'shrink': 239, 'feature_weighting': 'TF-IDF', 'tversky_alpha': 0.19651632198381155, 'tversky_beta': 1.18281795852487}. Best is trial 312 with value: 0.2627796224180537.\n"
     ]
    },
    {
     "name": "stdout",
     "output_type": "stream",
     "text": [
      "Similarity column 38121 (100.0%), 2620.62 column/sec. Elapsed time 14.55 sec\n",
      "EvaluatorHoldout: Processed 35595 (100.0%) in 37.08 sec. Users per second: 960\n"
     ]
    },
    {
     "name": "stderr",
     "output_type": "stream",
     "text": [
      "[I 2024-12-16 13:10:08,349] Trial 455 finished with value: 0.2620015051017264 and parameters: {'similarity': 'tversky', 'topK': 23, 'shrink': 257, 'feature_weighting': 'BM25', 'tversky_alpha': 0.13145104517351913, 'tversky_beta': 1.2235148029742646}. Best is trial 312 with value: 0.2627796224180537.\n"
     ]
    },
    {
     "name": "stdout",
     "output_type": "stream",
     "text": [
      "Similarity column 38121 (100.0%), 2516.67 column/sec. Elapsed time 15.15 sec\n",
      "EvaluatorHoldout: Processed 35595 (100.0%) in 49.73 sec. Users per second: 716\n"
     ]
    },
    {
     "name": "stderr",
     "output_type": "stream",
     "text": [
      "[I 2024-12-16 13:11:14,587] Trial 456 finished with value: 0.23589233908738283 and parameters: {'similarity': 'tversky', 'topK': 354, 'shrink': 260, 'feature_weighting': 'BM25', 'tversky_alpha': 0.11381686541483702, 'tversky_beta': 1.2299942481838901}. Best is trial 312 with value: 0.2627796224180537.\n"
     ]
    },
    {
     "name": "stdout",
     "output_type": "stream",
     "text": [
      "Similarity column 38121 (100.0%), 2773.94 column/sec. Elapsed time 13.74 sec\n",
      "EvaluatorHoldout: Processed 35595 (100.0%) in 39.07 sec. Users per second: 911\n"
     ]
    },
    {
     "name": "stderr",
     "output_type": "stream",
     "text": [
      "[I 2024-12-16 13:12:07,936] Trial 457 finished with value: 0.22942506482684802 and parameters: {'similarity': 'asymmetric', 'topK': 69, 'shrink': 295, 'feature_weighting': 'BM25', 'asymmetric_alpha': 1.0431683254034578}. Best is trial 312 with value: 0.2627796224180537.\n"
     ]
    },
    {
     "name": "stdout",
     "output_type": "stream",
     "text": [
      "Similarity column 38121 (100.0%), 2592.93 column/sec. Elapsed time 14.70 sec\n",
      "EvaluatorHoldout: Processed 35595 (100.0%) in 39.28 sec. Users per second: 906\n"
     ]
    },
    {
     "name": "stderr",
     "output_type": "stream",
     "text": [
      "[I 2024-12-16 13:13:02,653] Trial 458 finished with value: 0.25976238260094 and parameters: {'similarity': 'tversky', 'topK': 45, 'shrink': 247, 'feature_weighting': 'BM25', 'tversky_alpha': 0.24590625781850758, 'tversky_beta': 1.2838808527348826}. Best is trial 312 with value: 0.2627796224180537.\n"
     ]
    },
    {
     "name": "stdout",
     "output_type": "stream",
     "text": [
      "Similarity column 38121 (100.0%), 2629.77 column/sec. Elapsed time 14.50 sec\n",
      "EvaluatorHoldout: Processed 35595 (100.0%) in 37.14 sec. Users per second: 958\n"
     ]
    },
    {
     "name": "stderr",
     "output_type": "stream",
     "text": [
      "[I 2024-12-16 13:13:54,963] Trial 459 finished with value: 0.26192268658484064 and parameters: {'similarity': 'tversky', 'topK': 28, 'shrink': 273, 'feature_weighting': 'BM25', 'tversky_alpha': 0.061581765516474006, 'tversky_beta': 1.358495223447807}. Best is trial 312 with value: 0.2627796224180537.\n"
     ]
    },
    {
     "name": "stdout",
     "output_type": "stream",
     "text": [
      "Similarity column 38121 (100.0%), 2613.11 column/sec. Elapsed time 14.59 sec\n",
      "EvaluatorHoldout: Processed 35595 (100.0%) in 35.66 sec. Users per second: 998\n"
     ]
    },
    {
     "name": "stderr",
     "output_type": "stream",
     "text": [
      "[I 2024-12-16 13:14:45,839] Trial 460 finished with value: 0.26120495559864043 and parameters: {'similarity': 'tversky', 'topK': 13, 'shrink': 227, 'feature_weighting': 'BM25', 'tversky_alpha': 0.11849211663399413, 'tversky_beta': 1.1699428577471704}. Best is trial 312 with value: 0.2627796224180537.\n"
     ]
    },
    {
     "name": "stdout",
     "output_type": "stream",
     "text": [
      "Similarity column 38121 (100.0%), 2612.65 column/sec. Elapsed time 14.59 sec\n",
      "EvaluatorHoldout: Processed 35595 (100.0%) in 38.14 sec. Users per second: 933\n"
     ]
    },
    {
     "name": "stderr",
     "output_type": "stream",
     "text": [
      "[I 2024-12-16 13:15:39,229] Trial 461 finished with value: 0.26138868319338704 and parameters: {'similarity': 'tversky', 'topK': 34, 'shrink': 254, 'feature_weighting': 'BM25', 'tversky_alpha': 0.18590178908604849, 'tversky_beta': 1.224822689825164}. Best is trial 312 with value: 0.2627796224180537.\n"
     ]
    },
    {
     "name": "stdout",
     "output_type": "stream",
     "text": [
      "Similarity column 38121 (100.0%), 2528.25 column/sec. Elapsed time 15.08 sec\n",
      "EvaluatorHoldout: Processed 35595 (100.0%) in 50.59 sec. Users per second: 704\n"
     ]
    },
    {
     "name": "stderr",
     "output_type": "stream",
     "text": [
      "[I 2024-12-16 13:16:46,090] Trial 462 finished with value: 0.23369075413998988 and parameters: {'similarity': 'tversky', 'topK': 424, 'shrink': 210, 'feature_weighting': 'BM25', 'tversky_alpha': 0.06959158793912383, 'tversky_beta': 1.2524724008405423}. Best is trial 312 with value: 0.2627796224180537.\n"
     ]
    },
    {
     "name": "stdout",
     "output_type": "stream",
     "text": [
      "Similarity column 38121 (100.0%), 2613.88 column/sec. Elapsed time 14.58 sec\n",
      "EvaluatorHoldout: Processed 35595 (100.0%) in 39.16 sec. Users per second: 909\n"
     ]
    },
    {
     "name": "stderr",
     "output_type": "stream",
     "text": [
      "[I 2024-12-16 13:17:40,514] Trial 463 finished with value: 0.2591150621972057 and parameters: {'similarity': 'tversky', 'topK': 51, 'shrink': 234, 'feature_weighting': 'BM25', 'tversky_alpha': 0.1598794640708271, 'tversky_beta': 1.3125489559392327}. Best is trial 312 with value: 0.2627796224180537.\n"
     ]
    },
    {
     "name": "stdout",
     "output_type": "stream",
     "text": [
      "Similarity column 38121 (100.0%), 3323.10 column/sec. Elapsed time 11.47 sec\n",
      "EvaluatorHoldout: Processed 35595 (100.0%) in 27.79 sec. Users per second: 1281\n"
     ]
    },
    {
     "name": "stderr",
     "output_type": "stream",
     "text": [
      "[I 2024-12-16 13:18:20,414] Trial 464 finished with value: 0.005972113065949917 and parameters: {'similarity': 'tversky', 'topK': 0, 'shrink': 285, 'feature_weighting': 'BM25', 'tversky_alpha': 0.11129679760309824, 'tversky_beta': 1.1310676560540733}. Best is trial 312 with value: 0.2627796224180537.\n"
     ]
    },
    {
     "name": "stdout",
     "output_type": "stream",
     "text": [
      "Similarity column 38121 (100.0%), 2615.81 column/sec. Elapsed time 14.57 sec\n",
      "EvaluatorHoldout: Processed 35595 (100.0%) in 36.96 sec. Users per second: 963\n"
     ]
    },
    {
     "name": "stderr",
     "output_type": "stream",
     "text": [
      "[I 2024-12-16 13:19:12,595] Trial 465 finished with value: 0.26162162490055335 and parameters: {'similarity': 'tversky', 'topK': 25, 'shrink': 213, 'feature_weighting': 'BM25', 'tversky_alpha': 0.2107981328485634, 'tversky_beta': 1.2037164278455317}. Best is trial 312 with value: 0.2627796224180537.\n"
     ]
    },
    {
     "name": "stdout",
     "output_type": "stream",
     "text": [
      "Similarity column 38121 (100.0%), 2618.00 column/sec. Elapsed time 14.56 sec\n",
      "EvaluatorHoldout: Processed 35595 (100.0%) in 36.29 sec. Users per second: 981\n"
     ]
    },
    {
     "name": "stderr",
     "output_type": "stream",
     "text": [
      "[I 2024-12-16 13:20:04,074] Trial 466 finished with value: 0.25639878049041165 and parameters: {'similarity': 'tversky', 'topK': 17, 'shrink': 267, 'feature_weighting': 'BM25', 'tversky_alpha': 1.6331614702166266, 'tversky_beta': 1.2777865070866998}. Best is trial 312 with value: 0.2627796224180537.\n"
     ]
    },
    {
     "name": "stdout",
     "output_type": "stream",
     "text": [
      "Similarity column 38121 (100.0%), 2853.31 column/sec. Elapsed time 13.36 sec\n",
      "EvaluatorHoldout: Processed 35595 (100.0%) in 37.13 sec. Users per second: 959\n"
     ]
    },
    {
     "name": "stderr",
     "output_type": "stream",
     "text": [
      "[I 2024-12-16 13:20:55,028] Trial 467 finished with value: 0.2318250996613241 and parameters: {'similarity': 'cosine', 'topK': 37, 'shrink': 243, 'feature_weighting': 'BM25'}. Best is trial 312 with value: 0.2627796224180537.\n"
     ]
    },
    {
     "name": "stdout",
     "output_type": "stream",
     "text": [
      "Similarity column 38121 (100.0%), 2594.86 column/sec. Elapsed time 14.69 sec\n",
      "EvaluatorHoldout: Processed 35595 (100.0%) in 42.49 sec. Users per second: 838\n"
     ]
    },
    {
     "name": "stderr",
     "output_type": "stream",
     "text": [
      "[I 2024-12-16 13:21:53,019] Trial 468 finished with value: 0.251119351176042 and parameters: {'similarity': 'tversky', 'topK': 127, 'shrink': 223, 'feature_weighting': 'BM25', 'tversky_alpha': 0.05244057836529534, 'tversky_beta': 1.3445997836299854}. Best is trial 312 with value: 0.2627796224180537.\n"
     ]
    },
    {
     "name": "stdout",
     "output_type": "stream",
     "text": [
      "Similarity column 38121 (100.0%), 2609.74 column/sec. Elapsed time 14.61 sec\n",
      "EvaluatorHoldout: Processed 35595 (100.0%) in 39.60 sec. Users per second: 899\n"
     ]
    },
    {
     "name": "stderr",
     "output_type": "stream",
     "text": [
      "[I 2024-12-16 13:22:47,916] Trial 469 finished with value: 0.25726421323228565 and parameters: {'similarity': 'tversky', 'topK': 58, 'shrink': 295, 'feature_weighting': 'BM25', 'tversky_alpha': 0.14250695080486275, 'tversky_beta': 1.2642038623391199}. Best is trial 312 with value: 0.2627796224180537.\n"
     ]
    },
    {
     "name": "stdout",
     "output_type": "stream",
     "text": [
      "Similarity column 38121 (100.0%), 2620.21 column/sec. Elapsed time 14.55 sec\n",
      "EvaluatorHoldout: Processed 35595 (100.0%) in 35.69 sec. Users per second: 997\n"
     ]
    },
    {
     "name": "stderr",
     "output_type": "stream",
     "text": [
      "[I 2024-12-16 13:23:38,792] Trial 470 finished with value: 0.2601657735814791 and parameters: {'similarity': 'tversky', 'topK': 11, 'shrink': 256, 'feature_weighting': 'BM25', 'tversky_alpha': 0.09207602148258831, 'tversky_beta': 1.2086465041255339}. Best is trial 312 with value: 0.2627796224180537.\n"
     ]
    },
    {
     "name": "stdout",
     "output_type": "stream",
     "text": [
      "Similarity column 38121 (100.0%), 413.60 column/sec. Elapsed time 1.54 min\n",
      "EvaluatorHoldout: Processed 35595 (100.0%) in 38.96 sec. Users per second: 914\n"
     ]
    },
    {
     "name": "stderr",
     "output_type": "stream",
     "text": [
      "[I 2024-12-16 13:25:50,304] Trial 471 finished with value: 0.19724815915990151 and parameters: {'similarity': 'euclidean', 'topK': 76, 'shrink': 874, 'feature_weighting': 'none', 'normalize_avg_row': False, 'similarity_from_distance_mode': 'exp', 'normalize': True}. Best is trial 312 with value: 0.2627796224180537.\n"
     ]
    },
    {
     "name": "stdout",
     "output_type": "stream",
     "text": [
      "Similarity column 38121 (100.0%), 2813.19 column/sec. Elapsed time 13.55 sec\n",
      "EvaluatorHoldout: Processed 35595 (100.0%) in 37.66 sec. Users per second: 945\n"
     ]
    },
    {
     "name": "stderr",
     "output_type": "stream",
     "text": [
      "[I 2024-12-16 13:26:42,158] Trial 472 finished with value: 0.25763737848553864 and parameters: {'similarity': 'jaccard', 'topK': 27, 'shrink': 201, 'feature_weighting': 'BM25'}. Best is trial 312 with value: 0.2627796224180537.\n"
     ]
    },
    {
     "name": "stdout",
     "output_type": "stream",
     "text": [
      "Similarity column 38121 (100.0%), 2594.81 column/sec. Elapsed time 14.69 sec\n",
      "EvaluatorHoldout: Processed 35595 (100.0%) in 40.19 sec. Users per second: 886\n"
     ]
    },
    {
     "name": "stderr",
     "output_type": "stream",
     "text": [
      "[I 2024-12-16 13:27:37,760] Trial 473 finished with value: 0.25470302483807755 and parameters: {'similarity': 'tversky', 'topK': 46, 'shrink': 952, 'feature_weighting': 'BM25', 'tversky_alpha': 0.03739982176487093, 'tversky_beta': 1.3021993140173347}. Best is trial 312 with value: 0.2627796224180537.\n"
     ]
    },
    {
     "name": "stdout",
     "output_type": "stream",
     "text": [
      "Similarity column 38121 (100.0%), 2601.01 column/sec. Elapsed time 14.66 sec\n",
      "EvaluatorHoldout: Processed 35595 (100.0%) in 35.79 sec. Users per second: 994\n"
     ]
    },
    {
     "name": "stderr",
     "output_type": "stream",
     "text": [
      "[I 2024-12-16 13:28:28,821] Trial 474 finished with value: 0.261358724853733 and parameters: {'similarity': 'tversky', 'topK': 14, 'shrink': 232, 'feature_weighting': 'BM25', 'tversky_alpha': 0.18101820507923225, 'tversky_beta': 1.243834554874462}. Best is trial 312 with value: 0.2627796224180537.\n"
     ]
    },
    {
     "name": "stdout",
     "output_type": "stream",
     "text": [
      "Similarity column 38121 (100.0%), 2597.39 column/sec. Elapsed time 14.68 sec\n",
      "EvaluatorHoldout: Processed 35595 (100.0%) in 42.99 sec. Users per second: 828\n"
     ]
    },
    {
     "name": "stderr",
     "output_type": "stream",
     "text": [
      "[I 2024-12-16 13:29:27,240] Trial 475 finished with value: 0.2211817146623289 and parameters: {'similarity': 'tversky', 'topK': 101, 'shrink': 277, 'feature_weighting': 'TF-IDF', 'tversky_alpha': 0.26078800870818397, 'tversky_beta': 0.7287979959794011}. Best is trial 312 with value: 0.2627796224180537.\n"
     ]
    },
    {
     "name": "stdout",
     "output_type": "stream",
     "text": [
      "Similarity column 38121 (100.0%), 2595.83 column/sec. Elapsed time 14.69 sec\n",
      "EvaluatorHoldout: Processed 35595 (100.0%) in 38.26 sec. Users per second: 930\n"
     ]
    },
    {
     "name": "stderr",
     "output_type": "stream",
     "text": [
      "[I 2024-12-16 13:30:20,859] Trial 476 finished with value: 0.2611715087209362 and parameters: {'similarity': 'tversky', 'topK': 34, 'shrink': 247, 'feature_weighting': 'BM25', 'tversky_alpha': 0.11207200758889033, 'tversky_beta': 1.1505690255529355}. Best is trial 312 with value: 0.2627796224180537.\n"
     ]
    },
    {
     "name": "stdout",
     "output_type": "stream",
     "text": [
      "Similarity column 38121 (100.0%), 3795.92 column/sec. Elapsed time 10.04 sec\n",
      "EvaluatorHoldout: Processed 35595 (100.0%) in 27.39 sec. Users per second: 1299\n"
     ]
    },
    {
     "name": "stderr",
     "output_type": "stream",
     "text": [
      "[I 2024-12-16 13:30:58,858] Trial 477 finished with value: 0.005972113065949917 and parameters: {'similarity': 'dice', 'topK': 0, 'shrink': 209, 'feature_weighting': 'BM25'}. Best is trial 312 with value: 0.2627796224180537.\n"
     ]
    },
    {
     "name": "stdout",
     "output_type": "stream",
     "text": [
      "Similarity column 38121 (100.0%), 2617.07 column/sec. Elapsed time 14.57 sec\n",
      "EvaluatorHoldout: Processed 35595 (100.0%) in 36.84 sec. Users per second: 966\n"
     ]
    },
    {
     "name": "stderr",
     "output_type": "stream",
     "text": [
      "[I 2024-12-16 13:31:50,915] Trial 478 finished with value: 0.26228069274381777 and parameters: {'similarity': 'tversky', 'topK': 24, 'shrink': 228, 'feature_weighting': 'BM25', 'tversky_alpha': 0.06422404068969702, 'tversky_beta': 1.3546755384118243}. Best is trial 312 with value: 0.2627796224180537.\n"
     ]
    },
    {
     "name": "stdout",
     "output_type": "stream",
     "text": [
      "Similarity column 38121 (100.0%), 2619.65 column/sec. Elapsed time 14.55 sec\n",
      "EvaluatorHoldout: Processed 35595 (100.0%) in 38.53 sec. Users per second: 924\n"
     ]
    },
    {
     "name": "stderr",
     "output_type": "stream",
     "text": [
      "[I 2024-12-16 13:32:44,669] Trial 479 finished with value: 0.25959761560818345 and parameters: {'similarity': 'tversky', 'topK': 47, 'shrink': 196, 'feature_weighting': 'BM25', 'tversky_alpha': 0.046024659701066575, 'tversky_beta': 1.3596611600903148}. Best is trial 312 with value: 0.2627796224180537.\n"
     ]
    },
    {
     "name": "stdout",
     "output_type": "stream",
     "text": [
      "Similarity column 38121 (100.0%), 2619.79 column/sec. Elapsed time 14.55 sec\n",
      "EvaluatorHoldout: Processed 35595 (100.0%) in 37.15 sec. Users per second: 958\n"
     ]
    },
    {
     "name": "stderr",
     "output_type": "stream",
     "text": [
      "[I 2024-12-16 13:33:37,044] Trial 480 finished with value: 0.26174121494073405 and parameters: {'similarity': 'tversky', 'topK': 28, 'shrink': 222, 'feature_weighting': 'BM25', 'tversky_alpha': 0.16198646501582542, 'tversky_beta': 1.315731894777431}. Best is trial 312 with value: 0.2627796224180537.\n"
     ]
    },
    {
     "name": "stdout",
     "output_type": "stream",
     "text": [
      "Similarity column 38121 (100.0%), 2600.23 column/sec. Elapsed time 14.66 sec\n",
      "EvaluatorHoldout: Processed 35595 (100.0%) in 39.66 sec. Users per second: 897\n"
     ]
    },
    {
     "name": "stderr",
     "output_type": "stream",
     "text": [
      "[I 2024-12-16 13:34:32,061] Trial 481 finished with value: 0.2568850314209589 and parameters: {'similarity': 'tversky', 'topK': 65, 'shrink': 224, 'feature_weighting': 'BM25', 'tversky_alpha': 0.21090739589260657, 'tversky_beta': 1.3608015908859847}. Best is trial 312 with value: 0.2627796224180537.\n"
     ]
    },
    {
     "name": "stdout",
     "output_type": "stream",
     "text": [
      "Similarity column 38121 (100.0%), 2603.69 column/sec. Elapsed time 14.64 sec\n",
      "EvaluatorHoldout: Processed 35595 (100.0%) in 38.78 sec. Users per second: 918\n"
     ]
    },
    {
     "name": "stderr",
     "output_type": "stream",
     "text": [
      "[I 2024-12-16 13:35:26,147] Trial 482 finished with value: 0.2606561083115394 and parameters: {'similarity': 'tversky', 'topK': 41, 'shrink': 263, 'feature_weighting': 'BM25', 'tversky_alpha': 0.13310191857744125, 'tversky_beta': 1.290506281233777}. Best is trial 312 with value: 0.2627796224180537.\n"
     ]
    },
    {
     "name": "stdout",
     "output_type": "stream",
     "text": [
      "Similarity column 38121 (100.0%), 2584.84 column/sec. Elapsed time 14.75 sec\n",
      "EvaluatorHoldout: Processed 35595 (100.0%) in 37.23 sec. Users per second: 956\n"
     ]
    },
    {
     "name": "stderr",
     "output_type": "stream",
     "text": [
      "[I 2024-12-16 13:36:18,781] Trial 483 finished with value: 0.261909633169775 and parameters: {'similarity': 'tversky', 'topK': 26, 'shrink': 200, 'feature_weighting': 'BM25', 'tversky_alpha': 0.06831889260172201, 'tversky_beta': 1.3327170920785396}. Best is trial 312 with value: 0.2627796224180537.\n"
     ]
    },
    {
     "name": "stdout",
     "output_type": "stream",
     "text": [
      "Similarity column 38121 (100.0%), 2612.20 column/sec. Elapsed time 14.59 sec\n",
      "EvaluatorHoldout: Processed 35595 (100.0%) in 36.09 sec. Users per second: 986\n"
     ]
    },
    {
     "name": "stderr",
     "output_type": "stream",
     "text": [
      "[I 2024-12-16 13:37:10,103] Trial 484 finished with value: 0.26200501555339156 and parameters: {'similarity': 'tversky', 'topK': 15, 'shrink': 236, 'feature_weighting': 'BM25', 'tversky_alpha': 0.10592698675564688, 'tversky_beta': 1.2684154597714974}. Best is trial 312 with value: 0.2627796224180537.\n"
     ]
    },
    {
     "name": "stdout",
     "output_type": "stream",
     "text": [
      "Similarity column 38121 (100.0%), 2834.43 column/sec. Elapsed time 13.45 sec\n",
      "EvaluatorHoldout: Processed 35595 (100.0%) in 34.81 sec. Users per second: 1022\n"
     ]
    },
    {
     "name": "stderr",
     "output_type": "stream",
     "text": [
      "[I 2024-12-16 13:37:58,813] Trial 485 finished with value: 0.22032741954098328 and parameters: {'similarity': 'asymmetric', 'topK': 12, 'shrink': 273, 'feature_weighting': 'BM25', 'asymmetric_alpha': 1.7533305205363787}. Best is trial 312 with value: 0.2627796224180537.\n"
     ]
    },
    {
     "name": "stdout",
     "output_type": "stream",
     "text": [
      "Similarity column 38121 (100.0%), 2641.31 column/sec. Elapsed time 14.43 sec\n",
      "EvaluatorHoldout: Processed 35595 (100.0%) in 35.72 sec. Users per second: 997\n"
     ]
    },
    {
     "name": "stderr",
     "output_type": "stream",
     "text": [
      "[I 2024-12-16 13:38:49,641] Trial 486 finished with value: 0.2618240359072904 and parameters: {'similarity': 'tversky', 'topK': 14, 'shrink': 244, 'feature_weighting': 'BM25', 'tversky_alpha': 0.14083737237289184, 'tversky_beta': 1.2678373463853423}. Best is trial 312 with value: 0.2627796224180537.\n"
     ]
    },
    {
     "name": "stdout",
     "output_type": "stream",
     "text": [
      "Similarity column 38121 (100.0%), 2615.76 column/sec. Elapsed time 14.57 sec\n",
      "EvaluatorHoldout: Processed 35595 (100.0%) in 36.93 sec. Users per second: 964\n"
     ]
    },
    {
     "name": "stderr",
     "output_type": "stream",
     "text": [
      "[I 2024-12-16 13:39:41,780] Trial 487 finished with value: 0.26186373873496865 and parameters: {'similarity': 'tversky', 'topK': 22, 'shrink': 297, 'feature_weighting': 'BM25', 'tversky_alpha': 0.2307869459633782, 'tversky_beta': 1.2446531947152923}. Best is trial 312 with value: 0.2627796224180537.\n"
     ]
    },
    {
     "name": "stdout",
     "output_type": "stream",
     "text": [
      "Similarity column 38121 (100.0%), 3100.97 column/sec. Elapsed time 12.29 sec\n",
      "EvaluatorHoldout: Processed 35595 (100.0%) in 31.58 sec. Users per second: 1127\n"
     ]
    },
    {
     "name": "stderr",
     "output_type": "stream",
     "text": [
      "[I 2024-12-16 13:40:26,305] Trial 488 finished with value: 0.16478101311059565 and parameters: {'similarity': 'tversky', 'topK': 1, 'shrink': 235, 'feature_weighting': 'BM25', 'tversky_alpha': 0.10634389848313451, 'tversky_beta': 1.1724999862836494}. Best is trial 312 with value: 0.2627796224180537.\n"
     ]
    },
    {
     "name": "stdout",
     "output_type": "stream",
     "text": [
      "Similarity column 38121 (100.0%), 2519.76 column/sec. Elapsed time 15.13 sec\n",
      "EvaluatorHoldout: Processed 35595 (100.0%) in 46.48 sec. Users per second: 766\n"
     ]
    },
    {
     "name": "stderr",
     "output_type": "stream",
     "text": [
      "[I 2024-12-16 13:41:28,849] Trial 489 finished with value: 0.24323374715218737 and parameters: {'similarity': 'tversky', 'topK': 230, 'shrink': 259, 'feature_weighting': 'BM25', 'tversky_alpha': 0.1725602280640209, 'tversky_beta': 1.2830322989733745}. Best is trial 312 with value: 0.2627796224180537.\n"
     ]
    },
    {
     "name": "stdout",
     "output_type": "stream",
     "text": [
      "Similarity column 38121 (100.0%), 3330.76 column/sec. Elapsed time 11.45 sec\n",
      "EvaluatorHoldout: Processed 35595 (100.0%) in 27.74 sec. Users per second: 1283\n"
     ]
    },
    {
     "name": "stderr",
     "output_type": "stream",
     "text": [
      "[I 2024-12-16 13:42:08,674] Trial 490 finished with value: 0.005972113065949917 and parameters: {'similarity': 'tversky', 'topK': 0, 'shrink': 232, 'feature_weighting': 'BM25', 'tversky_alpha': 0.0996750506281258, 'tversky_beta': 1.2151360077259754}. Best is trial 312 with value: 0.2627796224180537.\n"
     ]
    },
    {
     "name": "stdout",
     "output_type": "stream",
     "text": [
      "Similarity column 38121 (100.0%), 2582.38 column/sec. Elapsed time 14.76 sec\n",
      "EvaluatorHoldout: Processed 35595 (100.0%) in 39.23 sec. Users per second: 907\n"
     ]
    },
    {
     "name": "stderr",
     "output_type": "stream",
     "text": [
      "[I 2024-12-16 13:43:03,376] Trial 491 finished with value: 0.2588232750999348 and parameters: {'similarity': 'tversky', 'topK': 48, 'shrink': 281, 'feature_weighting': 'BM25', 'tversky_alpha': 0.19823919219502503, 'tversky_beta': 1.107202019755325}. Best is trial 312 with value: 0.2627796224180537.\n"
     ]
    },
    {
     "name": "stdout",
     "output_type": "stream",
     "text": [
      "Similarity column 38121 (100.0%), 2587.86 column/sec. Elapsed time 14.73 sec\n",
      "EvaluatorHoldout: Processed 35595 (100.0%) in 37.99 sec. Users per second: 937\n"
     ]
    },
    {
     "name": "stderr",
     "output_type": "stream",
     "text": [
      "[I 2024-12-16 13:43:56,683] Trial 492 finished with value: 0.23951798475124816 and parameters: {'similarity': 'tversky', 'topK': 37, 'shrink': 254, 'feature_weighting': 'none', 'tversky_alpha': 0.1393377968105663, 'tversky_beta': 1.3007804640237715}. Best is trial 312 with value: 0.2627796224180537.\n"
     ]
    },
    {
     "name": "stdout",
     "output_type": "stream",
     "text": [
      "Similarity column 38121 (100.0%), 2574.47 column/sec. Elapsed time 14.81 sec\n",
      "EvaluatorHoldout: Processed 35595 (100.0%) in 37.01 sec. Users per second: 962\n"
     ]
    },
    {
     "name": "stderr",
     "output_type": "stream",
     "text": [
      "[I 2024-12-16 13:44:49,163] Trial 493 finished with value: 0.26189474873189905 and parameters: {'similarity': 'tversky', 'topK': 23, 'shrink': 213, 'feature_weighting': 'BM25', 'tversky_alpha': 0.03320200573709019, 'tversky_beta': 1.249745080289422}. Best is trial 312 with value: 0.2627796224180537.\n"
     ]
    },
    {
     "name": "stdout",
     "output_type": "stream",
     "text": [
      "Similarity column 38121 (100.0%), 2809.09 column/sec. Elapsed time 13.57 sec\n",
      "EvaluatorHoldout: Processed 35595 (100.0%) in 35.47 sec. Users per second: 1003\n"
     ]
    },
    {
     "name": "stderr",
     "output_type": "stream",
     "text": [
      "[I 2024-12-16 13:45:38,624] Trial 494 finished with value: 0.23047451652653117 and parameters: {'similarity': 'cosine', 'topK': 18, 'shrink': 187, 'feature_weighting': 'BM25'}. Best is trial 312 with value: 0.2627796224180537.\n"
     ]
    },
    {
     "name": "stdout",
     "output_type": "stream",
     "text": [
      "Similarity column 38121 (100.0%), 2631.15 column/sec. Elapsed time 14.49 sec\n",
      "EvaluatorHoldout: Processed 35595 (100.0%) in 39.43 sec. Users per second: 903\n"
     ]
    },
    {
     "name": "stderr",
     "output_type": "stream",
     "text": [
      "[I 2024-12-16 13:46:33,235] Trial 495 finished with value: 0.2577294600956793 and parameters: {'similarity': 'tversky', 'topK': 57, 'shrink': 269, 'feature_weighting': 'BM25', 'tversky_alpha': 0.26920004006178566, 'tversky_beta': 1.3657206931931891}. Best is trial 312 with value: 0.2627796224180537.\n"
     ]
    },
    {
     "name": "stdout",
     "output_type": "stream",
     "text": [
      "Similarity column 38121 (100.0%), 2600.03 column/sec. Elapsed time 14.66 sec\n",
      "EvaluatorHoldout: Processed 35595 (100.0%) in 38.11 sec. Users per second: 934\n"
     ]
    },
    {
     "name": "stderr",
     "output_type": "stream",
     "text": [
      "[I 2024-12-16 13:47:26,663] Trial 496 finished with value: 0.2611872693611949 and parameters: {'similarity': 'tversky', 'topK': 38, 'shrink': 231, 'feature_weighting': 'BM25', 'tversky_alpha': 0.08962629687207796, 'tversky_beta': 1.1855622952117981}. Best is trial 312 with value: 0.2627796224180537.\n"
     ]
    },
    {
     "name": "stdout",
     "output_type": "stream",
     "text": [
      "Similarity column 38121 (100.0%), 2536.89 column/sec. Elapsed time 15.03 sec\n",
      "EvaluatorHoldout: Processed 35595 (100.0%) in 47.01 sec. Users per second: 757\n"
     ]
    },
    {
     "name": "stderr",
     "output_type": "stream",
     "text": [
      "[I 2024-12-16 13:48:29,676] Trial 497 finished with value: 0.24156761386282768 and parameters: {'similarity': 'tversky', 'topK': 260, 'shrink': 250, 'feature_weighting': 'BM25', 'tversky_alpha': 0.1674990393210148, 'tversky_beta': 1.2618092643925902}. Best is trial 312 with value: 0.2627796224180537.\n"
     ]
    },
    {
     "name": "stdout",
     "output_type": "stream",
     "text": [
      "Similarity column 38121 (100.0%), 2501.57 column/sec. Elapsed time 15.24 sec\n",
      "EvaluatorHoldout: Processed 35595 (100.0%) in 53.41 sec. Users per second: 666\n"
     ]
    },
    {
     "name": "stderr",
     "output_type": "stream",
     "text": [
      "[I 2024-12-16 13:49:39,617] Trial 498 finished with value: 0.23008489341782692 and parameters: {'similarity': 'tversky', 'topK': 474, 'shrink': 222, 'feature_weighting': 'BM25', 'tversky_alpha': 0.13005954677090747, 'tversky_beta': 0.5848810867876356}. Best is trial 312 with value: 0.2627796224180537.\n"
     ]
    },
    {
     "name": "stdout",
     "output_type": "stream",
     "text": [
      "Similarity column 38121 (100.0%), 2770.61 column/sec. Elapsed time 13.76 sec\n",
      "EvaluatorHoldout: Processed 35595 (100.0%) in 36.24 sec. Users per second: 982\n"
     ]
    },
    {
     "name": "stderr",
     "output_type": "stream",
     "text": [
      "[I 2024-12-16 13:50:30,231] Trial 499 finished with value: 0.2571552224988509 and parameters: {'similarity': 'jaccard', 'topK': 12, 'shrink': 294, 'feature_weighting': 'BM25'}. Best is trial 312 with value: 0.2627796224180537.\n"
     ]
    }
   ],
   "source": [
    "if config['tune_parameters']:\n",
    "    \n",
    "    optuna_study = optuna.create_study(direction='maximize', study_name=f'hyperparameters_tuning_{config[\"model\"]}_{config[\"metric\"]}',\n",
    "                                storage=f'sqlite:///{config[\"database_path\"]}', load_if_exists=True)\n",
    "\n",
    "    optuna_study.optimize(objective_function_ItemKNNCF, n_trials=100)"
   ]
  },
  {
   "cell_type": "markdown",
   "id": "c127f49e",
   "metadata": {
    "papermill": {
     "duration": 0.028365,
     "end_time": "2024-12-16T13:50:30.296553",
     "exception": false,
     "start_time": "2024-12-16T13:50:30.268188",
     "status": "completed"
    },
    "tags": []
   },
   "source": [
    "## Some optuna visualizations on recommender parameters"
   ]
  },
  {
   "cell_type": "code",
   "execution_count": 14,
   "id": "c4a69c05",
   "metadata": {
    "execution": {
     "iopub.execute_input": "2024-12-16T13:50:30.355895Z",
     "iopub.status.busy": "2024-12-16T13:50:30.355331Z",
     "iopub.status.idle": "2024-12-16T13:50:33.054274Z",
     "shell.execute_reply": "2024-12-16T13:50:33.052979Z"
    },
    "papermill": {
     "duration": 2.73234,
     "end_time": "2024-12-16T13:50:33.057505",
     "exception": false,
     "start_time": "2024-12-16T13:50:30.325165",
     "status": "completed"
    },
    "tags": []
   },
   "outputs": [
    {
     "data": {
      "text/html": [
       "        <script type=\"text/javascript\">\n",
       "        window.PlotlyConfig = {MathJaxConfig: 'local'};\n",
       "        if (window.MathJax && window.MathJax.Hub && window.MathJax.Hub.Config) {window.MathJax.Hub.Config({SVG: {font: \"STIX-Web\"}});}\n",
       "        if (typeof require !== 'undefined') {\n",
       "        require.undef(\"plotly\");\n",
       "        requirejs.config({\n",
       "            paths: {\n",
       "                'plotly': ['https://cdn.plot.ly/plotly-2.32.0.min']\n",
       "            }\n",
       "        });\n",
       "        require(['plotly'], function(Plotly) {\n",
       "            window._Plotly = Plotly;\n",
       "        });\n",
       "        }\n",
       "        </script>\n",
       "        "
      ]
     },
     "metadata": {},
     "output_type": "display_data"
    },
    {
     "data": {
      "text/html": [
       "<div>                            <div id=\"726e90d3-f455-4a09-86dc-9481e05d0d9c\" class=\"plotly-graph-div\" style=\"height:525px; width:3000px;\"></div>            <script type=\"text/javascript\">                require([\"plotly\"], function(Plotly) {                    window.PLOTLYENV=window.PLOTLYENV || {};                                    if (document.getElementById(\"726e90d3-f455-4a09-86dc-9481e05d0d9c\")) {                    Plotly.newPlot(                        \"726e90d3-f455-4a09-86dc-9481e05d0d9c\",                        [{\"marker\":{\"color\":[1,9,25,35,66,76,97,130,159,206,252,280,311,341,371,402,428,457,485],\"colorbar\":{\"title\":{\"text\":\"Trial\"},\"x\":1.0,\"xpad\":40},\"colorscale\":[[0.0,\"rgb(247,251,255)\"],[0.125,\"rgb(222,235,247)\"],[0.25,\"rgb(198,219,239)\"],[0.375,\"rgb(158,202,225)\"],[0.5,\"rgb(107,174,214)\"],[0.625,\"rgb(66,146,198)\"],[0.75,\"rgb(33,113,181)\"],[0.875,\"rgb(8,81,156)\"],[1.0,\"rgb(8,48,107)\"]],\"line\":{\"color\":\"Grey\",\"width\":0.5},\"showscale\":true},\"mode\":\"markers\",\"name\":\"Feasible Trial\",\"showlegend\":false,\"x\":[1.4296680500385555,1.4339004479986015,0.1255403560146744,0.2781296126920134,1.982655177676202,0.7717956364887972,0.7818485415792257,1.9267074945073055,1.2671110392991398,0.5744171178775848,1.1191184167453316,1.7437501880321868,0.026349949279738327,0.4084382239398847,0.9223880046158849,1.6207186392641413,0.5399471319809531,1.0431683254034578,1.7533305205363787],\"y\":[0.2048052165338026,0.2033381428765505,0.23089483013446158,0.20299521649333416,0.22155624009697739,0.23208694021340112,0.005972113065949917,0.21879758365714372,0.1569471467674141,0.23286154476421725,0.2286243790520392,0.2217190604435997,0.22946188011081317,0.23031091030329767,0.22925125436279556,0.201124874042736,0.23253074512444968,0.22942506482684802,0.22032741954098328],\"type\":\"scatter\",\"xaxis\":\"x\",\"yaxis\":\"y\"},{\"marker\":{\"color\":[0,1,2,3,4,5,6,7,8,9,10,11,12,13,14,15,16,17,18,19,20,21,22,23,24,25,26,27,28,29,30,31,32,33,34,35,36,37,38,39,40,41,42,43,44,45,46,47,48,49,50,51,52,53,54,55,56,57,58,59,60,61,62,63,64,65,66,67,68,69,70,71,72,73,74,75,76,77,78,79,80,81,82,83,84,85,86,87,88,89,90,91,92,93,94,95,96,97,98,99,100,101,102,103,104,105,106,107,108,109,110,111,112,113,114,115,116,117,118,119,120,121,122,123,124,125,126,127,128,129,130,131,132,133,134,135,136,137,138,139,140,141,142,143,144,145,146,147,148,149,150,151,152,153,154,155,156,157,158,159,160,161,162,163,164,165,166,167,168,169,170,171,172,173,174,175,176,177,178,179,180,181,182,183,184,185,186,187,188,189,190,191,192,193,194,195,196,197,198,199,200,201,202,203,204,205,206,207,208,209,210,211,212,213,214,215,216,217,218,219,220,221,222,223,224,225,226,227,228,229,230,231,232,233,234,235,236,237,238,239,240,241,242,243,244,245,246,247,248,249,250,251,252,253,254,255,256,257,258,259,260,261,262,263,264,265,266,267,268,269,270,271,272,273,274,275,276,277,278,279,280,281,282,283,284,285,286,287,288,289,290,291,292,293,294,295,296,297,298,299,300,301,302,303,304,305,306,307,308,309,310,311,312,313,314,315,316,317,318,319,320,321,322,323,324,325,326,327,328,329,330,331,332,333,334,335,336,337,338,339,340,341,342,343,344,345,346,347,348,349,350,351,352,353,354,355,356,357,358,359,360,361,362,363,364,365,366,367,368,369,370,371,372,373,374,375,376,377,378,379,380,381,382,383,384,385,386,387,388,389,390,391,392,393,394,395,396,397,398,399,400,401,402,403,404,405,406,407,408,409,410,411,412,413,414,415,416,417,418,419,420,421,422,423,424,425,426,427,428,429,430,431,432,433,434,435,436,437,438,439,440,441,442,443,444,445,446,447,448,449,450,451,452,453,454,455,456,457,458,459,460,461,462,463,464,465,466,467,468,469,470,471,472,473,474,475,476,477,478,479,480,481,482,483,484,485,486,487,488,489,490,491,492,493,494,495,496,497,498,499],\"colorbar\":{\"title\":{\"text\":\"Trial\"},\"x\":1.0,\"xpad\":40},\"colorscale\":[[0.0,\"rgb(247,251,255)\"],[0.125,\"rgb(222,235,247)\"],[0.25,\"rgb(198,219,239)\"],[0.375,\"rgb(158,202,225)\"],[0.5,\"rgb(107,174,214)\"],[0.625,\"rgb(66,146,198)\"],[0.75,\"rgb(33,113,181)\"],[0.875,\"rgb(8,81,156)\"],[1.0,\"rgb(8,48,107)\"]],\"line\":{\"color\":\"Grey\",\"width\":0.5},\"showscale\":false},\"mode\":\"markers\",\"name\":\"Feasible Trial\",\"showlegend\":false,\"x\":[\"BM25\",\"none\",\"none\",\"BM25\",\"none\",\"BM25\",\"TF-IDF\",\"none\",\"BM25\",\"none\",\"TF-IDF\",\"BM25\",\"none\",\"BM25\",\"TF-IDF\",\"none\",\"BM25\",\"none\",\"BM25\",\"TF-IDF\",\"none\",\"BM25\",\"BM25\",\"BM25\",\"BM25\",\"BM25\",\"BM25\",\"BM25\",\"TF-IDF\",\"none\",\"BM25\",\"BM25\",\"BM25\",\"BM25\",\"BM25\",\"none\",\"BM25\",\"none\",\"BM25\",\"BM25\",\"none\",\"BM25\",\"BM25\",\"BM25\",\"BM25\",\"BM25\",\"BM25\",\"BM25\",\"BM25\",\"TF-IDF\",\"BM25\",\"BM25\",\"BM25\",\"BM25\",\"BM25\",\"BM25\",\"BM25\",\"BM25\",\"TF-IDF\",\"BM25\",\"BM25\",\"BM25\",\"BM25\",\"BM25\",\"BM25\",\"BM25\",\"BM25\",\"BM25\",\"TF-IDF\",\"BM25\",\"BM25\",\"BM25\",\"BM25\",\"BM25\",\"BM25\",\"BM25\",\"BM25\",\"BM25\",\"BM25\",\"BM25\",\"BM25\",\"BM25\",\"BM25\",\"BM25\",\"BM25\",\"BM25\",\"TF-IDF\",\"none\",\"BM25\",\"BM25\",\"BM25\",\"BM25\",\"BM25\",\"BM25\",\"BM25\",\"BM25\",\"BM25\",\"BM25\",\"BM25\",\"none\",\"BM25\",\"BM25\",\"BM25\",\"BM25\",\"BM25\",\"BM25\",\"BM25\",\"TF-IDF\",\"BM25\",\"BM25\",\"BM25\",\"BM25\",\"BM25\",\"BM25\",\"BM25\",\"BM25\",\"BM25\",\"BM25\",\"BM25\",\"BM25\",\"BM25\",\"BM25\",\"BM25\",\"BM25\",\"BM25\",\"BM25\",\"none\",\"BM25\",\"BM25\",\"TF-IDF\",\"BM25\",\"BM25\",\"BM25\",\"BM25\",\"BM25\",\"BM25\",\"BM25\",\"BM25\",\"BM25\",\"BM25\",\"BM25\",\"BM25\",\"BM25\",\"BM25\",\"BM25\",\"BM25\",\"BM25\",\"BM25\",\"BM25\",\"BM25\",\"none\",\"BM25\",\"BM25\",\"BM25\",\"BM25\",\"BM25\",\"BM25\",\"BM25\",\"BM25\",\"TF-IDF\",\"BM25\",\"BM25\",\"BM25\",\"BM25\",\"BM25\",\"BM25\",\"BM25\",\"BM25\",\"BM25\",\"BM25\",\"BM25\",\"BM25\",\"BM25\",\"BM25\",\"BM25\",\"BM25\",\"BM25\",\"BM25\",\"BM25\",\"BM25\",\"BM25\",\"BM25\",\"BM25\",\"BM25\",\"BM25\",\"BM25\",\"BM25\",\"BM25\",\"none\",\"BM25\",\"BM25\",\"BM25\",\"BM25\",\"BM25\",\"BM25\",\"BM25\",\"BM25\",\"TF-IDF\",\"BM25\",\"BM25\",\"BM25\",\"BM25\",\"BM25\",\"BM25\",\"BM25\",\"BM25\",\"BM25\",\"BM25\",\"BM25\",\"BM25\",\"BM25\",\"BM25\",\"BM25\",\"BM25\",\"BM25\",\"BM25\",\"BM25\",\"BM25\",\"BM25\",\"BM25\",\"BM25\",\"BM25\",\"BM25\",\"BM25\",\"BM25\",\"BM25\",\"BM25\",\"BM25\",\"BM25\",\"BM25\",\"none\",\"BM25\",\"BM25\",\"BM25\",\"BM25\",\"BM25\",\"BM25\",\"BM25\",\"TF-IDF\",\"BM25\",\"BM25\",\"BM25\",\"BM25\",\"BM25\",\"BM25\",\"BM25\",\"BM25\",\"BM25\",\"BM25\",\"BM25\",\"BM25\",\"BM25\",\"BM25\",\"BM25\",\"BM25\",\"BM25\",\"BM25\",\"BM25\",\"BM25\",\"BM25\",\"none\",\"BM25\",\"BM25\",\"BM25\",\"BM25\",\"BM25\",\"TF-IDF\",\"BM25\",\"BM25\",\"BM25\",\"BM25\",\"BM25\",\"BM25\",\"BM25\",\"BM25\",\"BM25\",\"BM25\",\"BM25\",\"BM25\",\"BM25\",\"BM25\",\"BM25\",\"BM25\",\"none\",\"BM25\",\"BM25\",\"BM25\",\"BM25\",\"BM25\",\"TF-IDF\",\"BM25\",\"BM25\",\"BM25\",\"BM25\",\"BM25\",\"BM25\",\"BM25\",\"BM25\",\"BM25\",\"BM25\",\"BM25\",\"BM25\",\"BM25\",\"BM25\",\"BM25\",\"BM25\",\"BM25\",\"none\",\"BM25\",\"BM25\",\"BM25\",\"BM25\",\"BM25\",\"TF-IDF\",\"BM25\",\"BM25\",\"BM25\",\"BM25\",\"BM25\",\"BM25\",\"BM25\",\"BM25\",\"BM25\",\"BM25\",\"BM25\",\"BM25\",\"BM25\",\"BM25\",\"BM25\",\"BM25\",\"BM25\",\"BM25\",\"none\",\"BM25\",\"BM25\",\"BM25\",\"BM25\",\"BM25\",\"BM25\",\"TF-IDF\",\"BM25\",\"BM25\",\"BM25\",\"BM25\",\"BM25\",\"BM25\",\"BM25\",\"BM25\",\"BM25\",\"BM25\",\"BM25\",\"BM25\",\"BM25\",\"BM25\",\"BM25\",\"BM25\",\"none\",\"BM25\",\"BM25\",\"BM25\",\"BM25\",\"BM25\",\"TF-IDF\",\"BM25\",\"BM25\",\"BM25\",\"BM25\",\"BM25\",\"BM25\",\"BM25\",\"BM25\",\"BM25\",\"BM25\",\"BM25\",\"BM25\",\"BM25\",\"BM25\",\"BM25\",\"BM25\",\"none\",\"BM25\",\"BM25\",\"BM25\",\"BM25\",\"BM25\",\"TF-IDF\",\"BM25\",\"BM25\",\"BM25\",\"BM25\",\"BM25\",\"BM25\",\"BM25\",\"BM25\",\"BM25\",\"BM25\",\"BM25\",\"BM25\",\"BM25\",\"BM25\",\"BM25\",\"BM25\",\"none\",\"BM25\",\"BM25\",\"BM25\",\"BM25\",\"BM25\",\"TF-IDF\",\"BM25\",\"BM25\",\"BM25\",\"BM25\",\"BM25\",\"BM25\",\"BM25\",\"BM25\",\"BM25\",\"BM25\",\"BM25\",\"BM25\",\"BM25\",\"BM25\",\"BM25\",\"BM25\",\"none\",\"BM25\",\"BM25\",\"BM25\",\"BM25\",\"BM25\",\"BM25\",\"TF-IDF\",\"BM25\",\"BM25\",\"BM25\",\"BM25\",\"BM25\",\"BM25\",\"BM25\",\"BM25\",\"BM25\",\"BM25\",\"BM25\",\"BM25\",\"BM25\",\"BM25\",\"none\",\"BM25\",\"BM25\",\"BM25\",\"BM25\",\"BM25\",\"BM25\",\"TF-IDF\",\"BM25\",\"BM25\",\"BM25\",\"BM25\",\"BM25\",\"BM25\",\"BM25\",\"BM25\",\"BM25\",\"BM25\",\"BM25\",\"BM25\",\"BM25\",\"BM25\",\"BM25\",\"BM25\",\"none\",\"BM25\",\"BM25\",\"BM25\",\"TF-IDF\",\"BM25\",\"BM25\",\"BM25\",\"BM25\",\"BM25\",\"BM25\",\"BM25\",\"BM25\",\"BM25\",\"BM25\",\"BM25\",\"BM25\",\"BM25\",\"BM25\",\"BM25\",\"BM25\",\"none\",\"BM25\",\"BM25\",\"BM25\",\"BM25\",\"BM25\",\"BM25\",\"BM25\"],\"y\":[0.24883102419854752,0.2048052165338026,0.20045905947750095,0.23813982644352788,0.2249260375444795,0.2460527265149479,0.22301093683409454,0.25793915581964366,0.16623485074472855,0.2033381428765505,0.21292302663928986,0.2550883870898774,0.2248411883847401,0.23581159729477302,0.22502030778539917,0.21507030179194195,0.16032518777799307,0.20850045877755025,0.2428025276063418,0.2087099846619746,0.24675556234080842,0.25047862336426113,0.005972113065949917,0.2525149565510491,0.2317832252769768,0.23089483013446158,0.1690201445659514,0.23134893157150702,0.2303180648451833,0.2193602867230644,0.22865970093589796,0.24992577345387793,0.21579702659274175,0.24695099456528696,0.2485592955511335,0.20299521649333416,0.2584825958015448,0.22748741309534543,0.2585371563676069,0.23471459439596584,0.23437777247853575,0.25839184067796556,0.25806619677621573,0.25808088760156217,0.2578734887648869,0.24540458088977618,0.2493103451121966,0.23915974980019952,0.25768872555061906,0.22402620194215955,0.2576992340167147,0.2584450904058766,0.2541088613401442,0.2555505231171274,0.2594277330765016,0.2515540172506094,0.24844373150493984,0.23031828053052997,0.22358125578884905,0.160212717432544,0.26122177131130103,0.1666399078412777,0.25643603165119366,0.25895582599124206,0.25853033860984626,0.2522098091603842,0.22155624009697739,0.2324897760972465,0.21967587832599667,0.11051524582684,0.23189131707523922,0.25869792979348866,0.25770415580727596,0.2565311897472542,0.2567000414889913,0.005972113065949917,0.23208694021340112,0.256756282531642,0.24913949541362465,0.2588894211014207,0.23186951892638938,0.25933620594197987,0.25880056394861556,0.005972113065949917,0.25850089349591,0.2531298372179634,0.2283585684451943,0.1849788248511184,0.25472033984179854,0.25459879377880135,0.23915685855634988,0.2581782000928051,0.2593110503008355,0.2569357346880202,0.2526829182926108,0.2599501459037148,0.25479524603676407,0.005972113065949917,0.25962270861155956,0.2245050372033208,0.2599291537354214,0.26029013493680425,0.2579517685718811,0.25919142131475703,0.25959963526029745,0.25937804036875073,0.2560942785990242,0.2366384882757645,0.23229708172150818,0.2562680199693005,0.25681177216387124,0.25843700714937046,0.26007482772739543,0.2599788288878327,0.258125998378277,0.2385522272122627,0.1841546291062185,0.25610522261904517,0.25681108233393724,0.2549625156215119,0.23601173714380505,0.25877219106523014,0.2590978036240306,0.2577665241573262,0.005972113065949917,0.25828767521791846,0.22634767882747858,0.2562033333543099,0.24122173112775205,0.22745701760512999,0.21879758365714372,0.2593893164539779,0.2588119089330265,0.25946806595268235,0.25703467854287493,0.25976180164159446,0.005972113065949917,0.23103343823044364,0.25424942760666436,0.25782438165552923,0.1522459930787535,0.2599101595433211,0.25991386557809965,0.25921796521369767,0.2576464931304054,0.25832363201646447,0.25972983091909563,0.25514969800362003,0.25841927458345104,0.25518307831023723,0.23264673256429796,0.259520937297518,0.25741390809317566,0.2606150658217604,0.2570498798428581,0.005972113065949917,0.26047533471264017,0.25886754305861026,0.26078878336888456,0.1569471467674141,0.005972113065949917,0.2599928093768028,0.26059850057476586,0.26058712713604043,0.2604171947830005,0.25994630957485493,0.2586918431805642,0.26038416938685294,0.26010643968558034,0.1667839982777743,0.25795460451049135,0.26037423572383317,0.2600941650811407,0.26011530374053127,0.25787218966065495,0.2602803669832016,0.2324850598727402,0.2600676086449453,0.2563421855070384,0.16670719611859136,0.2580460196929845,0.2600803764807627,0.2592924596439066,0.2602515028946105,0.260163911913785,0.2589906738630295,0.14901688754717468,0.26012459351743245,0.22763037504393327,0.25933699345776196,0.25560569184170207,0.26031952495206084,0.26041922366933634,0.2609592960782359,0.25913999057948894,0.005972113065949917,0.25799366345036934,0.23378378253202686,0.2591855964773485,0.25913375924018356,0.26048646819324367,0.2605318853081667,0.25961773659686876,0.2577411602538773,0.23277161436998806,0.2603773675235887,0.23286154476421725,0.25795574639726493,0.25930784924228784,0.2556380017845908,0.25908760383604656,0.26066377721183853,0.005972113065949917,0.260072014165277,0.26049584515291735,0.2574518504444048,0.2608050428486984,0.2596714681592966,0.26066379268594153,0.23183128321745225,0.2603462549376853,0.2605933947711368,0.2602736352945231,0.26055615173917746,0.25977904717891726,0.25779644990698924,0.2603137955053417,0.26049537769915876,0.2558597907262871,0.14316609954568243,0.005972113065949917,0.2604859692419064,0.2610453395439452,0.24611481349988326,0.2572246741196813,0.2605403489029751,0.2578144138778933,0.25577282633647686,0.24441337155529655,0.2302301586335768,0.25892145371383346,0.26084625835393477,0.2334198027812976,0.26093307036966423,0.2606042150648181,0.2592347344469719,0.2604589229056741,0.2566812112227377,0.2594593537967727,0.25951274904641686,0.26061062367951005,0.2563899209084062,0.2286243790520392,0.26038306676323414,0.25807205326087373,0.260753128542815,0.2587355851424237,0.25623232336515867,0.260392126278115,0.2589263367761928,0.24361107341054786,0.2609045190548793,0.22978594274528347,0.2606370808674709,0.26033439925735313,0.25287029270236744,0.23114329014691884,0.2579423158623631,0.005972113065949917,0.259288646721193,0.16092451448941092,0.25997614799128443,0.26093175175130057,0.2583555197210257,0.2567455765357519,0.2599914083179793,0.2378184045727266,0.2600349755136282,0.2587454166270343,0.258116624268461,0.2217190604435997,0.25947771872715397,0.26078746127750413,0.23834162680191354,0.25715216778819344,0.005972113065949917,0.26166975961089317,0.26200885013113334,0.24627699912775736,0.2453826850102242,0.2593173702262597,0.2309161762837899,0.26117639573222623,0.2611585169747843,0.16469687002150357,0.1852594804837617,0.24073320499816367,0.25978328117293137,0.26198698388485975,0.25985254212386144,0.2360804498143627,0.26177580037568643,0.005972113065949917,0.2622649958577045,0.26234437599930654,0.26241894023141876,0.2623658495143866,0.005972113065949917,0.2618409480924195,0.26198007329720024,0.2605240505338723,0.22946188011081317,0.2627796224180537,0.24528589716673307,0.16496795144283805,0.24301660951476778,0.2617957070453814,0.26140419412496596,0.005972113065949917,0.26121689661160397,0.2596579946584156,0.23019968480245404,0.2619870605083989,0.26189856161441094,0.005972113065949917,0.2613025579610756,0.005972113065949917,0.2585827919466985,0.2611065634950271,0.260488280866666,0.15619926230679576,0.25570351713695544,0.24206049990614126,0.2611617304174975,0.16565932096685687,0.26154838744047815,0.005972113065949917,0.26185756242325087,0.26206091681910443,0.24459245354208642,0.259927499183619,0.23031091030329767,0.21819001467345903,0.2619461961971327,0.2617431871681224,0.005972113065949917,0.26211499901317664,0.25940425471348716,0.2607860604297772,0.26190194392799054,0.2583276443838678,0.22986300765272757,0.23071494455539357,0.2595319306341642,0.26200932039471336,0.26208415315370015,0.26037428001947727,0.1425574827841472,0.005972113065949917,0.2566664114399765,0.2614662659965757,0.23176500048246382,0.248492414904789,0.2561535950047537,0.261337407314701,0.241013664610795,0.25753951094245026,0.2583843836511783,0.26187887557017775,0.25950314171976885,0.2608800925546993,0.22925125436279556,0.2601201944932387,0.2616923374433855,0.25734495342101293,0.16619497847955061,0.2605539494235269,0.2620211292017209,0.255722868962822,0.24176057236583215,0.25945351373093617,0.23083437105317808,0.2609576866495493,0.26204726967681846,0.2598886779118495,0.24736653998451158,0.005972113065949917,0.149331055861729,0.2622023586560702,0.26195762016907914,0.16632948242858206,0.005972113065949917,0.26073662704929107,0.24173388058052656,0.26245476199333995,0.26149658053590624,0.2618994003963394,0.257902181253462,0.005972113065949917,0.26144707487538366,0.26275610750067996,0.2618714262326493,0.201124874042736,0.25710108514083974,0.2619659757745489,0.2615256473469241,0.25904023120500175,0.2620269398225331,0.23521677086590548,0.23191764524426378,0.261435742312911,0.2612035622658871,0.2586346810955781,0.23010692602085073,0.22331558794958836,0.005972113065949917,0.18484457086032494,0.2609533576868001,0.2593520871754806,0.26148037848223993,0.005972113065949917,0.26179536715677937,0.25643058777782013,0.2624178864872243,0.25819858518975547,0.24394674287844897,0.2607403491312897,0.256296079289691,0.23253074512444968,0.23997731336792064,0.005972113065949917,0.26077932752594174,0.2611961105529899,0.2619109988511488,0.2552650318883829,0.2575410461277898,0.26025225660889595,0.261417437711112,0.231323491617951,0.24566620510400572,0.2591601189717742,0.2601505953459832,0.005972113065949917,0.26159628987195144,0.14200618697640893,0.2622579914501702,0.2281920825430983,0.235973537458903,0.2564973796792391,0.26075827569843774,0.26206422661931617,0.2590396362787962,0.2602717813829644,0.005972113065949917,0.23938055666052888,0.2620015051017264,0.23589233908738283,0.22942506482684802,0.25976238260094,0.26192268658484064,0.26120495559864043,0.26138868319338704,0.23369075413998988,0.2591150621972057,0.005972113065949917,0.26162162490055335,0.25639878049041165,0.2318250996613241,0.251119351176042,0.25726421323228565,0.2601657735814791,0.19724815915990151,0.25763737848553864,0.25470302483807755,0.261358724853733,0.2211817146623289,0.2611715087209362,0.005972113065949917,0.26228069274381777,0.25959761560818345,0.26174121494073405,0.2568850314209589,0.2606561083115394,0.261909633169775,0.26200501555339156,0.22032741954098328,0.2618240359072904,0.26186373873496865,0.16478101311059565,0.24323374715218737,0.005972113065949917,0.2588232750999348,0.23951798475124816,0.26189474873189905,0.23047451652653117,0.2577294600956793,0.2611872693611949,0.24156761386282768,0.23008489341782692,0.2571552224988509],\"type\":\"scatter\",\"xaxis\":\"x2\",\"yaxis\":\"y2\"},{\"marker\":{\"color\":[8,16,26,59,69,87,116,140,186,229,270,295,330,357,387,416,444,471],\"colorbar\":{\"title\":{\"text\":\"Trial\"},\"x\":1.0,\"xpad\":40},\"colorscale\":[[0.0,\"rgb(247,251,255)\"],[0.125,\"rgb(222,235,247)\"],[0.25,\"rgb(198,219,239)\"],[0.375,\"rgb(158,202,225)\"],[0.5,\"rgb(107,174,214)\"],[0.625,\"rgb(66,146,198)\"],[0.75,\"rgb(33,113,181)\"],[0.875,\"rgb(8,81,156)\"],[1.0,\"rgb(8,48,107)\"]],\"line\":{\"color\":\"Grey\",\"width\":0.5},\"showscale\":false},\"mode\":\"markers\",\"name\":\"Feasible Trial\",\"showlegend\":false,\"x\":[true,false,true,false,false,true,true,false,true,false,false,true,true,false,false,true,false,true],\"y\":[0.16623485074472855,0.16032518777799307,0.1690201445659514,0.160212717432544,0.11051524582684,0.1849788248511184,0.1841546291062185,0.1522459930787535,0.14901688754717468,0.14316609954568243,0.16092451448941092,0.1852594804837617,0.15619926230679576,0.1425574827841472,0.149331055861729,0.18484457086032494,0.14200618697640893,0.19724815915990151],\"type\":\"scatter\",\"xaxis\":\"x3\",\"yaxis\":\"y3\"},{\"marker\":{\"color\":[8,16,26,59,69,87,116,140,186,229,270,295,330,357,387,416,444,471],\"colorbar\":{\"title\":{\"text\":\"Trial\"},\"x\":1.0,\"xpad\":40},\"colorscale\":[[0.0,\"rgb(247,251,255)\"],[0.125,\"rgb(222,235,247)\"],[0.25,\"rgb(198,219,239)\"],[0.375,\"rgb(158,202,225)\"],[0.5,\"rgb(107,174,214)\"],[0.625,\"rgb(66,146,198)\"],[0.75,\"rgb(33,113,181)\"],[0.875,\"rgb(8,81,156)\"],[1.0,\"rgb(8,48,107)\"]],\"line\":{\"color\":\"Grey\",\"width\":0.5},\"showscale\":false},\"mode\":\"markers\",\"name\":\"Feasible Trial\",\"showlegend\":false,\"x\":[false,true,true,false,false,true,false,true,false,true,true,false,true,false,false,true,true,false],\"y\":[0.16623485074472855,0.16032518777799307,0.1690201445659514,0.160212717432544,0.11051524582684,0.1849788248511184,0.1841546291062185,0.1522459930787535,0.14901688754717468,0.14316609954568243,0.16092451448941092,0.1852594804837617,0.15619926230679576,0.1425574827841472,0.149331055861729,0.18484457086032494,0.14200618697640893,0.19724815915990151],\"type\":\"scatter\",\"xaxis\":\"x4\",\"yaxis\":\"y4\"},{\"marker\":{\"color\":[0,1,2,3,4,5,6,7,8,9,10,11,12,13,14,15,16,17,18,19,20,21,22,23,24,25,26,27,28,29,30,31,32,33,34,35,36,37,38,39,40,41,42,43,44,45,46,47,48,49,50,51,52,53,54,55,56,57,58,59,60,61,62,63,64,65,66,67,68,69,70,71,72,73,74,75,76,77,78,79,80,81,82,83,84,85,86,87,88,89,90,91,92,93,94,95,96,97,98,99,100,101,102,103,104,105,106,107,108,109,110,111,112,113,114,115,116,117,118,119,120,121,122,123,124,125,126,127,128,129,130,131,132,133,134,135,136,137,138,139,140,141,142,143,144,145,146,147,148,149,150,151,152,153,154,155,156,157,158,159,160,161,162,163,164,165,166,167,168,169,170,171,172,173,174,175,176,177,178,179,180,181,182,183,184,185,186,187,188,189,190,191,192,193,194,195,196,197,198,199,200,201,202,203,204,205,206,207,208,209,210,211,212,213,214,215,216,217,218,219,220,221,222,223,224,225,226,227,228,229,230,231,232,233,234,235,236,237,238,239,240,241,242,243,244,245,246,247,248,249,250,251,252,253,254,255,256,257,258,259,260,261,262,263,264,265,266,267,268,269,270,271,272,273,274,275,276,277,278,279,280,281,282,283,284,285,286,287,288,289,290,291,292,293,294,295,296,297,298,299,300,301,302,303,304,305,306,307,308,309,310,311,312,313,314,315,316,317,318,319,320,321,322,323,324,325,326,327,328,329,330,331,332,333,334,335,336,337,338,339,340,341,342,343,344,345,346,347,348,349,350,351,352,353,354,355,356,357,358,359,360,361,362,363,364,365,366,367,368,369,370,371,372,373,374,375,376,377,378,379,380,381,382,383,384,385,386,387,388,389,390,391,392,393,394,395,396,397,398,399,400,401,402,403,404,405,406,407,408,409,410,411,412,413,414,415,416,417,418,419,420,421,422,423,424,425,426,427,428,429,430,431,432,433,434,435,436,437,438,439,440,441,442,443,444,445,446,447,448,449,450,451,452,453,454,455,456,457,458,459,460,461,462,463,464,465,466,467,468,469,470,471,472,473,474,475,476,477,478,479,480,481,482,483,484,485,486,487,488,489,490,491,492,493,494,495,496,497,498,499],\"colorbar\":{\"title\":{\"text\":\"Trial\"},\"x\":1.0,\"xpad\":40},\"colorscale\":[[0.0,\"rgb(247,251,255)\"],[0.125,\"rgb(222,235,247)\"],[0.25,\"rgb(198,219,239)\"],[0.375,\"rgb(158,202,225)\"],[0.5,\"rgb(107,174,214)\"],[0.625,\"rgb(66,146,198)\"],[0.75,\"rgb(33,113,181)\"],[0.875,\"rgb(8,81,156)\"],[1.0,\"rgb(8,48,107)\"]],\"line\":{\"color\":\"Grey\",\"width\":0.5},\"showscale\":false},\"mode\":\"markers\",\"name\":\"Feasible Trial\",\"showlegend\":false,\"x\":[617,280,851,118,260,779,190,7,457,208,477,706,655,22,646,956,414,793,365,560,14,614,746,556,527,986,697,896,344,536,569,704,646,612,816,417,597,880,725,708,117,730,838,823,859,918,816,754,836,760,920,681,678,768,597,595,482,727,667,633,596,586,507,666,674,624,666,519,449,556,597,727,640,699,721,677,801,786,543,574,579,619,612,624,742,650,561,490,609,453,693,747,729,635,659,718,769,716,534,575,514,533,528,546,399,380,313,394,431,368,241,475,517,508,500,462,395,523,438,495,346,542,510,549,470,396,562,531,416,508,300,513,591,488,470,483,487,441,377,520,426,497,488,460,500,491,337,521,567,344,537,483,477,445,443,412,455,446,464,425,473,490,459,461,458,463,457,454,457,454,412,434,438,439,420,437,440,404,435,392,407,456,453,423,435,425,368,431,431,459,437,400,384,382,383,368,410,390,356,422,434,438,409,466,385,426,426,116,442,405,423,451,442,471,394,400,375,327,360,365,376,358,316,359,364,377,345,344,302,337,350,349,287,290,273,253,311,261,224,321,215,236,205,362,353,247,355,339,163,353,331,275,331,355,295,324,323,239,354,283,327,367,315,372,379,255,363,339,301,384,372,335,360,394,362,318,368,262,283,389,343,374,306,301,328,189,303,275,296,265,280,224,242,240,228,315,199,237,286,276,176,296,297,256,275,244,241,264,236,246,243,219,235,244,253,230,272,267,272,202,145,194,251,206,212,241,211,260,244,244,227,185,272,245,254,209,206,238,227,223,172,205,247,151,229,147,189,187,132,167,109,160,191,167,213,222,71,218,215,267,183,183,159,209,138,179,224,98,276,196,284,227,264,168,164,281,202,225,230,257,226,262,288,232,234,149,197,126,252,245,255,276,257,243,215,214,216,211,194,225,238,181,179,197,212,218,252,208,209,219,196,233,172,209,246,226,183,150,250,203,229,256,198,223,239,221,264,165,239,13,222,260,74,189,184,137,190,162,279,241,206,254,227,173,281,253,266,241,251,284,220,230,265,214,239,257,260,295,247,273,227,254,210,234,285,213,267,243,223,295,256,874,201,952,232,277,247,209,228,196,222,224,263,200,236,273,244,297,235,259,232,281,254,213,187,269,231,250,222,294],\"y\":[0.24883102419854752,0.2048052165338026,0.20045905947750095,0.23813982644352788,0.2249260375444795,0.2460527265149479,0.22301093683409454,0.25793915581964366,0.16623485074472855,0.2033381428765505,0.21292302663928986,0.2550883870898774,0.2248411883847401,0.23581159729477302,0.22502030778539917,0.21507030179194195,0.16032518777799307,0.20850045877755025,0.2428025276063418,0.2087099846619746,0.24675556234080842,0.25047862336426113,0.005972113065949917,0.2525149565510491,0.2317832252769768,0.23089483013446158,0.1690201445659514,0.23134893157150702,0.2303180648451833,0.2193602867230644,0.22865970093589796,0.24992577345387793,0.21579702659274175,0.24695099456528696,0.2485592955511335,0.20299521649333416,0.2584825958015448,0.22748741309534543,0.2585371563676069,0.23471459439596584,0.23437777247853575,0.25839184067796556,0.25806619677621573,0.25808088760156217,0.2578734887648869,0.24540458088977618,0.2493103451121966,0.23915974980019952,0.25768872555061906,0.22402620194215955,0.2576992340167147,0.2584450904058766,0.2541088613401442,0.2555505231171274,0.2594277330765016,0.2515540172506094,0.24844373150493984,0.23031828053052997,0.22358125578884905,0.160212717432544,0.26122177131130103,0.1666399078412777,0.25643603165119366,0.25895582599124206,0.25853033860984626,0.2522098091603842,0.22155624009697739,0.2324897760972465,0.21967587832599667,0.11051524582684,0.23189131707523922,0.25869792979348866,0.25770415580727596,0.2565311897472542,0.2567000414889913,0.005972113065949917,0.23208694021340112,0.256756282531642,0.24913949541362465,0.2588894211014207,0.23186951892638938,0.25933620594197987,0.25880056394861556,0.005972113065949917,0.25850089349591,0.2531298372179634,0.2283585684451943,0.1849788248511184,0.25472033984179854,0.25459879377880135,0.23915685855634988,0.2581782000928051,0.2593110503008355,0.2569357346880202,0.2526829182926108,0.2599501459037148,0.25479524603676407,0.005972113065949917,0.25962270861155956,0.2245050372033208,0.2599291537354214,0.26029013493680425,0.2579517685718811,0.25919142131475703,0.25959963526029745,0.25937804036875073,0.2560942785990242,0.2366384882757645,0.23229708172150818,0.2562680199693005,0.25681177216387124,0.25843700714937046,0.26007482772739543,0.2599788288878327,0.258125998378277,0.2385522272122627,0.1841546291062185,0.25610522261904517,0.25681108233393724,0.2549625156215119,0.23601173714380505,0.25877219106523014,0.2590978036240306,0.2577665241573262,0.005972113065949917,0.25828767521791846,0.22634767882747858,0.2562033333543099,0.24122173112775205,0.22745701760512999,0.21879758365714372,0.2593893164539779,0.2588119089330265,0.25946806595268235,0.25703467854287493,0.25976180164159446,0.005972113065949917,0.23103343823044364,0.25424942760666436,0.25782438165552923,0.1522459930787535,0.2599101595433211,0.25991386557809965,0.25921796521369767,0.2576464931304054,0.25832363201646447,0.25972983091909563,0.25514969800362003,0.25841927458345104,0.25518307831023723,0.23264673256429796,0.259520937297518,0.25741390809317566,0.2606150658217604,0.2570498798428581,0.005972113065949917,0.26047533471264017,0.25886754305861026,0.26078878336888456,0.1569471467674141,0.005972113065949917,0.2599928093768028,0.26059850057476586,0.26058712713604043,0.2604171947830005,0.25994630957485493,0.2586918431805642,0.26038416938685294,0.26010643968558034,0.1667839982777743,0.25795460451049135,0.26037423572383317,0.2600941650811407,0.26011530374053127,0.25787218966065495,0.2602803669832016,0.2324850598727402,0.2600676086449453,0.2563421855070384,0.16670719611859136,0.2580460196929845,0.2600803764807627,0.2592924596439066,0.2602515028946105,0.260163911913785,0.2589906738630295,0.14901688754717468,0.26012459351743245,0.22763037504393327,0.25933699345776196,0.25560569184170207,0.26031952495206084,0.26041922366933634,0.2609592960782359,0.25913999057948894,0.005972113065949917,0.25799366345036934,0.23378378253202686,0.2591855964773485,0.25913375924018356,0.26048646819324367,0.2605318853081667,0.25961773659686876,0.2577411602538773,0.23277161436998806,0.2603773675235887,0.23286154476421725,0.25795574639726493,0.25930784924228784,0.2556380017845908,0.25908760383604656,0.26066377721183853,0.005972113065949917,0.260072014165277,0.26049584515291735,0.2574518504444048,0.2608050428486984,0.2596714681592966,0.26066379268594153,0.23183128321745225,0.2603462549376853,0.2605933947711368,0.2602736352945231,0.26055615173917746,0.25977904717891726,0.25779644990698924,0.2603137955053417,0.26049537769915876,0.2558597907262871,0.14316609954568243,0.005972113065949917,0.2604859692419064,0.2610453395439452,0.24611481349988326,0.2572246741196813,0.2605403489029751,0.2578144138778933,0.25577282633647686,0.24441337155529655,0.2302301586335768,0.25892145371383346,0.26084625835393477,0.2334198027812976,0.26093307036966423,0.2606042150648181,0.2592347344469719,0.2604589229056741,0.2566812112227377,0.2594593537967727,0.25951274904641686,0.26061062367951005,0.2563899209084062,0.2286243790520392,0.26038306676323414,0.25807205326087373,0.260753128542815,0.2587355851424237,0.25623232336515867,0.260392126278115,0.2589263367761928,0.24361107341054786,0.2609045190548793,0.22978594274528347,0.2606370808674709,0.26033439925735313,0.25287029270236744,0.23114329014691884,0.2579423158623631,0.005972113065949917,0.259288646721193,0.16092451448941092,0.25997614799128443,0.26093175175130057,0.2583555197210257,0.2567455765357519,0.2599914083179793,0.2378184045727266,0.2600349755136282,0.2587454166270343,0.258116624268461,0.2217190604435997,0.25947771872715397,0.26078746127750413,0.23834162680191354,0.25715216778819344,0.005972113065949917,0.26166975961089317,0.26200885013113334,0.24627699912775736,0.2453826850102242,0.2593173702262597,0.2309161762837899,0.26117639573222623,0.2611585169747843,0.16469687002150357,0.1852594804837617,0.24073320499816367,0.25978328117293137,0.26198698388485975,0.25985254212386144,0.2360804498143627,0.26177580037568643,0.005972113065949917,0.2622649958577045,0.26234437599930654,0.26241894023141876,0.2623658495143866,0.005972113065949917,0.2618409480924195,0.26198007329720024,0.2605240505338723,0.22946188011081317,0.2627796224180537,0.24528589716673307,0.16496795144283805,0.24301660951476778,0.2617957070453814,0.26140419412496596,0.005972113065949917,0.26121689661160397,0.2596579946584156,0.23019968480245404,0.2619870605083989,0.26189856161441094,0.005972113065949917,0.2613025579610756,0.005972113065949917,0.2585827919466985,0.2611065634950271,0.260488280866666,0.15619926230679576,0.25570351713695544,0.24206049990614126,0.2611617304174975,0.16565932096685687,0.26154838744047815,0.005972113065949917,0.26185756242325087,0.26206091681910443,0.24459245354208642,0.259927499183619,0.23031091030329767,0.21819001467345903,0.2619461961971327,0.2617431871681224,0.005972113065949917,0.26211499901317664,0.25940425471348716,0.2607860604297772,0.26190194392799054,0.2583276443838678,0.22986300765272757,0.23071494455539357,0.2595319306341642,0.26200932039471336,0.26208415315370015,0.26037428001947727,0.1425574827841472,0.005972113065949917,0.2566664114399765,0.2614662659965757,0.23176500048246382,0.248492414904789,0.2561535950047537,0.261337407314701,0.241013664610795,0.25753951094245026,0.2583843836511783,0.26187887557017775,0.25950314171976885,0.2608800925546993,0.22925125436279556,0.2601201944932387,0.2616923374433855,0.25734495342101293,0.16619497847955061,0.2605539494235269,0.2620211292017209,0.255722868962822,0.24176057236583215,0.25945351373093617,0.23083437105317808,0.2609576866495493,0.26204726967681846,0.2598886779118495,0.24736653998451158,0.005972113065949917,0.149331055861729,0.2622023586560702,0.26195762016907914,0.16632948242858206,0.005972113065949917,0.26073662704929107,0.24173388058052656,0.26245476199333995,0.26149658053590624,0.2618994003963394,0.257902181253462,0.005972113065949917,0.26144707487538366,0.26275610750067996,0.2618714262326493,0.201124874042736,0.25710108514083974,0.2619659757745489,0.2615256473469241,0.25904023120500175,0.2620269398225331,0.23521677086590548,0.23191764524426378,0.261435742312911,0.2612035622658871,0.2586346810955781,0.23010692602085073,0.22331558794958836,0.005972113065949917,0.18484457086032494,0.2609533576868001,0.2593520871754806,0.26148037848223993,0.005972113065949917,0.26179536715677937,0.25643058777782013,0.2624178864872243,0.25819858518975547,0.24394674287844897,0.2607403491312897,0.256296079289691,0.23253074512444968,0.23997731336792064,0.005972113065949917,0.26077932752594174,0.2611961105529899,0.2619109988511488,0.2552650318883829,0.2575410461277898,0.26025225660889595,0.261417437711112,0.231323491617951,0.24566620510400572,0.2591601189717742,0.2601505953459832,0.005972113065949917,0.26159628987195144,0.14200618697640893,0.2622579914501702,0.2281920825430983,0.235973537458903,0.2564973796792391,0.26075827569843774,0.26206422661931617,0.2590396362787962,0.2602717813829644,0.005972113065949917,0.23938055666052888,0.2620015051017264,0.23589233908738283,0.22942506482684802,0.25976238260094,0.26192268658484064,0.26120495559864043,0.26138868319338704,0.23369075413998988,0.2591150621972057,0.005972113065949917,0.26162162490055335,0.25639878049041165,0.2318250996613241,0.251119351176042,0.25726421323228565,0.2601657735814791,0.19724815915990151,0.25763737848553864,0.25470302483807755,0.261358724853733,0.2211817146623289,0.2611715087209362,0.005972113065949917,0.26228069274381777,0.25959761560818345,0.26174121494073405,0.2568850314209589,0.2606561083115394,0.261909633169775,0.26200501555339156,0.22032741954098328,0.2618240359072904,0.26186373873496865,0.16478101311059565,0.24323374715218737,0.005972113065949917,0.2588232750999348,0.23951798475124816,0.26189474873189905,0.23047451652653117,0.2577294600956793,0.2611872693611949,0.24156761386282768,0.23008489341782692,0.2571552224988509],\"type\":\"scatter\",\"xaxis\":\"x5\",\"yaxis\":\"y5\"},{\"marker\":{\"color\":[0,1,2,3,4,5,6,7,8,9,10,11,12,13,14,15,16,17,18,19,20,21,22,23,24,25,26,27,28,29,30,31,32,33,34,35,36,37,38,39,40,41,42,43,44,45,46,47,48,49,50,51,52,53,54,55,56,57,58,59,60,61,62,63,64,65,66,67,68,69,70,71,72,73,74,75,76,77,78,79,80,81,82,83,84,85,86,87,88,89,90,91,92,93,94,95,96,97,98,99,100,101,102,103,104,105,106,107,108,109,110,111,112,113,114,115,116,117,118,119,120,121,122,123,124,125,126,127,128,129,130,131,132,133,134,135,136,137,138,139,140,141,142,143,144,145,146,147,148,149,150,151,152,153,154,155,156,157,158,159,160,161,162,163,164,165,166,167,168,169,170,171,172,173,174,175,176,177,178,179,180,181,182,183,184,185,186,187,188,189,190,191,192,193,194,195,196,197,198,199,200,201,202,203,204,205,206,207,208,209,210,211,212,213,214,215,216,217,218,219,220,221,222,223,224,225,226,227,228,229,230,231,232,233,234,235,236,237,238,239,240,241,242,243,244,245,246,247,248,249,250,251,252,253,254,255,256,257,258,259,260,261,262,263,264,265,266,267,268,269,270,271,272,273,274,275,276,277,278,279,280,281,282,283,284,285,286,287,288,289,290,291,292,293,294,295,296,297,298,299,300,301,302,303,304,305,306,307,308,309,310,311,312,313,314,315,316,317,318,319,320,321,322,323,324,325,326,327,328,329,330,331,332,333,334,335,336,337,338,339,340,341,342,343,344,345,346,347,348,349,350,351,352,353,354,355,356,357,358,359,360,361,362,363,364,365,366,367,368,369,370,371,372,373,374,375,376,377,378,379,380,381,382,383,384,385,386,387,388,389,390,391,392,393,394,395,396,397,398,399,400,401,402,403,404,405,406,407,408,409,410,411,412,413,414,415,416,417,418,419,420,421,422,423,424,425,426,427,428,429,430,431,432,433,434,435,436,437,438,439,440,441,442,443,444,445,446,447,448,449,450,451,452,453,454,455,456,457,458,459,460,461,462,463,464,465,466,467,468,469,470,471,472,473,474,475,476,477,478,479,480,481,482,483,484,485,486,487,488,489,490,491,492,493,494,495,496,497,498,499],\"colorbar\":{\"title\":{\"text\":\"Trial\"},\"x\":1.0,\"xpad\":40},\"colorscale\":[[0.0,\"rgb(247,251,255)\"],[0.125,\"rgb(222,235,247)\"],[0.25,\"rgb(198,219,239)\"],[0.375,\"rgb(158,202,225)\"],[0.5,\"rgb(107,174,214)\"],[0.625,\"rgb(66,146,198)\"],[0.75,\"rgb(33,113,181)\"],[0.875,\"rgb(8,81,156)\"],[1.0,\"rgb(8,48,107)\"]],\"line\":{\"color\":\"Grey\",\"width\":0.5},\"showscale\":false},\"mode\":\"markers\",\"name\":\"Feasible Trial\",\"showlegend\":false,\"x\":[\"dice\",\"asymmetric\",\"tversky\",\"dice\",\"cosine\",\"dice\",\"tversky\",\"jaccard\",\"euclidean\",\"asymmetric\",\"jaccard\",\"jaccard\",\"jaccard\",\"jaccard\",\"jaccard\",\"jaccard\",\"euclidean\",\"cosine\",\"jaccard\",\"jaccard\",\"jaccard\",\"dice\",\"dice\",\"dice\",\"cosine\",\"asymmetric\",\"euclidean\",\"tversky\",\"dice\",\"dice\",\"jaccard\",\"dice\",\"dice\",\"dice\",\"dice\",\"asymmetric\",\"tversky\",\"tversky\",\"tversky\",\"tversky\",\"tversky\",\"tversky\",\"tversky\",\"tversky\",\"tversky\",\"tversky\",\"tversky\",\"tversky\",\"tversky\",\"tversky\",\"tversky\",\"tversky\",\"tversky\",\"tversky\",\"tversky\",\"tversky\",\"tversky\",\"cosine\",\"tversky\",\"euclidean\",\"tversky\",\"tversky\",\"tversky\",\"tversky\",\"tversky\",\"tversky\",\"asymmetric\",\"cosine\",\"tversky\",\"euclidean\",\"tversky\",\"tversky\",\"tversky\",\"tversky\",\"tversky\",\"tversky\",\"asymmetric\",\"tversky\",\"tversky\",\"tversky\",\"cosine\",\"tversky\",\"tversky\",\"tversky\",\"tversky\",\"tversky\",\"tversky\",\"euclidean\",\"tversky\",\"tversky\",\"jaccard\",\"tversky\",\"tversky\",\"tversky\",\"tversky\",\"tversky\",\"tversky\",\"asymmetric\",\"tversky\",\"tversky\",\"tversky\",\"tversky\",\"tversky\",\"tversky\",\"tversky\",\"tversky\",\"tversky\",\"tversky\",\"cosine\",\"tversky\",\"jaccard\",\"tversky\",\"tversky\",\"tversky\",\"tversky\",\"tversky\",\"euclidean\",\"tversky\",\"dice\",\"tversky\",\"tversky\",\"tversky\",\"tversky\",\"tversky\",\"tversky\",\"tversky\",\"tversky\",\"tversky\",\"tversky\",\"tversky\",\"asymmetric\",\"tversky\",\"tversky\",\"tversky\",\"tversky\",\"tversky\",\"tversky\",\"cosine\",\"tversky\",\"tversky\",\"euclidean\",\"tversky\",\"tversky\",\"tversky\",\"tversky\",\"tversky\",\"tversky\",\"jaccard\",\"dice\",\"tversky\",\"tversky\",\"tversky\",\"tversky\",\"tversky\",\"tversky\",\"tversky\",\"tversky\",\"tversky\",\"tversky\",\"asymmetric\",\"tversky\",\"tversky\",\"tversky\",\"tversky\",\"tversky\",\"tversky\",\"tversky\",\"tversky\",\"tversky\",\"tversky\",\"tversky\",\"tversky\",\"tversky\",\"tversky\",\"tversky\",\"tversky\",\"cosine\",\"tversky\",\"tversky\",\"tversky\",\"jaccard\",\"tversky\",\"tversky\",\"tversky\",\"tversky\",\"tversky\",\"euclidean\",\"tversky\",\"dice\",\"tversky\",\"tversky\",\"tversky\",\"tversky\",\"tversky\",\"tversky\",\"tversky\",\"tversky\",\"tversky\",\"tversky\",\"tversky\",\"tversky\",\"tversky\",\"tversky\",\"tversky\",\"tversky\",\"tversky\",\"asymmetric\",\"tversky\",\"tversky\",\"tversky\",\"tversky\",\"tversky\",\"tversky\",\"tversky\",\"tversky\",\"tversky\",\"tversky\",\"tversky\",\"tversky\",\"cosine\",\"tversky\",\"tversky\",\"tversky\",\"tversky\",\"tversky\",\"tversky\",\"tversky\",\"tversky\",\"tversky\",\"euclidean\",\"jaccard\",\"tversky\",\"tversky\",\"tversky\",\"tversky\",\"tversky\",\"tversky\",\"dice\",\"tversky\",\"tversky\",\"tversky\",\"tversky\",\"tversky\",\"tversky\",\"tversky\",\"tversky\",\"tversky\",\"tversky\",\"tversky\",\"tversky\",\"tversky\",\"tversky\",\"asymmetric\",\"tversky\",\"tversky\",\"tversky\",\"tversky\",\"tversky\",\"tversky\",\"tversky\",\"tversky\",\"tversky\",\"cosine\",\"tversky\",\"tversky\",\"tversky\",\"jaccard\",\"tversky\",\"tversky\",\"tversky\",\"euclidean\",\"tversky\",\"tversky\",\"dice\",\"tversky\",\"tversky\",\"tversky\",\"tversky\",\"tversky\",\"tversky\",\"asymmetric\",\"tversky\",\"tversky\",\"tversky\",\"tversky\",\"tversky\",\"tversky\",\"tversky\",\"tversky\",\"tversky\",\"tversky\",\"cosine\",\"tversky\",\"tversky\",\"tversky\",\"euclidean\",\"jaccard\",\"tversky\",\"tversky\",\"tversky\",\"dice\",\"tversky\",\"tversky\",\"tversky\",\"tversky\",\"tversky\",\"tversky\",\"tversky\",\"tversky\",\"tversky\",\"tversky\",\"asymmetric\",\"tversky\",\"tversky\",\"tversky\",\"tversky\",\"tversky\",\"tversky\",\"tversky\",\"tversky\",\"tversky\",\"cosine\",\"tversky\",\"tversky\",\"tversky\",\"tversky\",\"tversky\",\"jaccard\",\"tversky\",\"tversky\",\"euclidean\",\"dice\",\"tversky\",\"tversky\",\"tversky\",\"tversky\",\"tversky\",\"tversky\",\"tversky\",\"tversky\",\"tversky\",\"asymmetric\",\"tversky\",\"tversky\",\"tversky\",\"tversky\",\"tversky\",\"tversky\",\"tversky\",\"tversky\",\"tversky\",\"tversky\",\"cosine\",\"tversky\",\"tversky\",\"tversky\",\"tversky\",\"euclidean\",\"tversky\",\"jaccard\",\"tversky\",\"tversky\",\"tversky\",\"dice\",\"tversky\",\"tversky\",\"tversky\",\"tversky\",\"tversky\",\"tversky\",\"tversky\",\"asymmetric\",\"tversky\",\"tversky\",\"tversky\",\"tversky\",\"tversky\",\"tversky\",\"tversky\",\"tversky\",\"tversky\",\"cosine\",\"tversky\",\"tversky\",\"tversky\",\"jaccard\",\"tversky\",\"euclidean\",\"tversky\",\"tversky\",\"dice\",\"tversky\",\"tversky\",\"tversky\",\"tversky\",\"tversky\",\"tversky\",\"tversky\",\"tversky\",\"tversky\",\"tversky\",\"tversky\",\"asymmetric\",\"tversky\",\"tversky\",\"tversky\",\"tversky\",\"tversky\",\"tversky\",\"cosine\",\"tversky\",\"tversky\",\"tversky\",\"tversky\",\"tversky\",\"jaccard\",\"euclidean\",\"tversky\",\"tversky\",\"tversky\",\"tversky\",\"tversky\",\"dice\",\"tversky\",\"tversky\",\"tversky\",\"tversky\",\"tversky\",\"asymmetric\",\"tversky\",\"tversky\",\"tversky\",\"tversky\",\"tversky\",\"tversky\",\"tversky\",\"tversky\",\"tversky\",\"cosine\",\"tversky\",\"tversky\",\"tversky\",\"jaccard\",\"tversky\",\"euclidean\",\"tversky\",\"tversky\",\"tversky\",\"dice\",\"tversky\",\"tversky\",\"tversky\",\"tversky\",\"tversky\",\"tversky\",\"tversky\",\"tversky\",\"asymmetric\",\"tversky\",\"tversky\",\"tversky\",\"tversky\",\"tversky\",\"tversky\",\"tversky\",\"tversky\",\"tversky\",\"cosine\",\"tversky\",\"tversky\",\"tversky\",\"euclidean\",\"jaccard\",\"tversky\",\"tversky\",\"tversky\",\"tversky\",\"dice\",\"tversky\",\"tversky\",\"tversky\",\"tversky\",\"tversky\",\"tversky\",\"tversky\",\"asymmetric\",\"tversky\",\"tversky\",\"tversky\",\"tversky\",\"tversky\",\"tversky\",\"tversky\",\"tversky\",\"cosine\",\"tversky\",\"tversky\",\"tversky\",\"tversky\",\"jaccard\"],\"y\":[0.24883102419854752,0.2048052165338026,0.20045905947750095,0.23813982644352788,0.2249260375444795,0.2460527265149479,0.22301093683409454,0.25793915581964366,0.16623485074472855,0.2033381428765505,0.21292302663928986,0.2550883870898774,0.2248411883847401,0.23581159729477302,0.22502030778539917,0.21507030179194195,0.16032518777799307,0.20850045877755025,0.2428025276063418,0.2087099846619746,0.24675556234080842,0.25047862336426113,0.005972113065949917,0.2525149565510491,0.2317832252769768,0.23089483013446158,0.1690201445659514,0.23134893157150702,0.2303180648451833,0.2193602867230644,0.22865970093589796,0.24992577345387793,0.21579702659274175,0.24695099456528696,0.2485592955511335,0.20299521649333416,0.2584825958015448,0.22748741309534543,0.2585371563676069,0.23471459439596584,0.23437777247853575,0.25839184067796556,0.25806619677621573,0.25808088760156217,0.2578734887648869,0.24540458088977618,0.2493103451121966,0.23915974980019952,0.25768872555061906,0.22402620194215955,0.2576992340167147,0.2584450904058766,0.2541088613401442,0.2555505231171274,0.2594277330765016,0.2515540172506094,0.24844373150493984,0.23031828053052997,0.22358125578884905,0.160212717432544,0.26122177131130103,0.1666399078412777,0.25643603165119366,0.25895582599124206,0.25853033860984626,0.2522098091603842,0.22155624009697739,0.2324897760972465,0.21967587832599667,0.11051524582684,0.23189131707523922,0.25869792979348866,0.25770415580727596,0.2565311897472542,0.2567000414889913,0.005972113065949917,0.23208694021340112,0.256756282531642,0.24913949541362465,0.2588894211014207,0.23186951892638938,0.25933620594197987,0.25880056394861556,0.005972113065949917,0.25850089349591,0.2531298372179634,0.2283585684451943,0.1849788248511184,0.25472033984179854,0.25459879377880135,0.23915685855634988,0.2581782000928051,0.2593110503008355,0.2569357346880202,0.2526829182926108,0.2599501459037148,0.25479524603676407,0.005972113065949917,0.25962270861155956,0.2245050372033208,0.2599291537354214,0.26029013493680425,0.2579517685718811,0.25919142131475703,0.25959963526029745,0.25937804036875073,0.2560942785990242,0.2366384882757645,0.23229708172150818,0.2562680199693005,0.25681177216387124,0.25843700714937046,0.26007482772739543,0.2599788288878327,0.258125998378277,0.2385522272122627,0.1841546291062185,0.25610522261904517,0.25681108233393724,0.2549625156215119,0.23601173714380505,0.25877219106523014,0.2590978036240306,0.2577665241573262,0.005972113065949917,0.25828767521791846,0.22634767882747858,0.2562033333543099,0.24122173112775205,0.22745701760512999,0.21879758365714372,0.2593893164539779,0.2588119089330265,0.25946806595268235,0.25703467854287493,0.25976180164159446,0.005972113065949917,0.23103343823044364,0.25424942760666436,0.25782438165552923,0.1522459930787535,0.2599101595433211,0.25991386557809965,0.25921796521369767,0.2576464931304054,0.25832363201646447,0.25972983091909563,0.25514969800362003,0.25841927458345104,0.25518307831023723,0.23264673256429796,0.259520937297518,0.25741390809317566,0.2606150658217604,0.2570498798428581,0.005972113065949917,0.26047533471264017,0.25886754305861026,0.26078878336888456,0.1569471467674141,0.005972113065949917,0.2599928093768028,0.26059850057476586,0.26058712713604043,0.2604171947830005,0.25994630957485493,0.2586918431805642,0.26038416938685294,0.26010643968558034,0.1667839982777743,0.25795460451049135,0.26037423572383317,0.2600941650811407,0.26011530374053127,0.25787218966065495,0.2602803669832016,0.2324850598727402,0.2600676086449453,0.2563421855070384,0.16670719611859136,0.2580460196929845,0.2600803764807627,0.2592924596439066,0.2602515028946105,0.260163911913785,0.2589906738630295,0.14901688754717468,0.26012459351743245,0.22763037504393327,0.25933699345776196,0.25560569184170207,0.26031952495206084,0.26041922366933634,0.2609592960782359,0.25913999057948894,0.005972113065949917,0.25799366345036934,0.23378378253202686,0.2591855964773485,0.25913375924018356,0.26048646819324367,0.2605318853081667,0.25961773659686876,0.2577411602538773,0.23277161436998806,0.2603773675235887,0.23286154476421725,0.25795574639726493,0.25930784924228784,0.2556380017845908,0.25908760383604656,0.26066377721183853,0.005972113065949917,0.260072014165277,0.26049584515291735,0.2574518504444048,0.2608050428486984,0.2596714681592966,0.26066379268594153,0.23183128321745225,0.2603462549376853,0.2605933947711368,0.2602736352945231,0.26055615173917746,0.25977904717891726,0.25779644990698924,0.2603137955053417,0.26049537769915876,0.2558597907262871,0.14316609954568243,0.005972113065949917,0.2604859692419064,0.2610453395439452,0.24611481349988326,0.2572246741196813,0.2605403489029751,0.2578144138778933,0.25577282633647686,0.24441337155529655,0.2302301586335768,0.25892145371383346,0.26084625835393477,0.2334198027812976,0.26093307036966423,0.2606042150648181,0.2592347344469719,0.2604589229056741,0.2566812112227377,0.2594593537967727,0.25951274904641686,0.26061062367951005,0.2563899209084062,0.2286243790520392,0.26038306676323414,0.25807205326087373,0.260753128542815,0.2587355851424237,0.25623232336515867,0.260392126278115,0.2589263367761928,0.24361107341054786,0.2609045190548793,0.22978594274528347,0.2606370808674709,0.26033439925735313,0.25287029270236744,0.23114329014691884,0.2579423158623631,0.005972113065949917,0.259288646721193,0.16092451448941092,0.25997614799128443,0.26093175175130057,0.2583555197210257,0.2567455765357519,0.2599914083179793,0.2378184045727266,0.2600349755136282,0.2587454166270343,0.258116624268461,0.2217190604435997,0.25947771872715397,0.26078746127750413,0.23834162680191354,0.25715216778819344,0.005972113065949917,0.26166975961089317,0.26200885013113334,0.24627699912775736,0.2453826850102242,0.2593173702262597,0.2309161762837899,0.26117639573222623,0.2611585169747843,0.16469687002150357,0.1852594804837617,0.24073320499816367,0.25978328117293137,0.26198698388485975,0.25985254212386144,0.2360804498143627,0.26177580037568643,0.005972113065949917,0.2622649958577045,0.26234437599930654,0.26241894023141876,0.2623658495143866,0.005972113065949917,0.2618409480924195,0.26198007329720024,0.2605240505338723,0.22946188011081317,0.2627796224180537,0.24528589716673307,0.16496795144283805,0.24301660951476778,0.2617957070453814,0.26140419412496596,0.005972113065949917,0.26121689661160397,0.2596579946584156,0.23019968480245404,0.2619870605083989,0.26189856161441094,0.005972113065949917,0.2613025579610756,0.005972113065949917,0.2585827919466985,0.2611065634950271,0.260488280866666,0.15619926230679576,0.25570351713695544,0.24206049990614126,0.2611617304174975,0.16565932096685687,0.26154838744047815,0.005972113065949917,0.26185756242325087,0.26206091681910443,0.24459245354208642,0.259927499183619,0.23031091030329767,0.21819001467345903,0.2619461961971327,0.2617431871681224,0.005972113065949917,0.26211499901317664,0.25940425471348716,0.2607860604297772,0.26190194392799054,0.2583276443838678,0.22986300765272757,0.23071494455539357,0.2595319306341642,0.26200932039471336,0.26208415315370015,0.26037428001947727,0.1425574827841472,0.005972113065949917,0.2566664114399765,0.2614662659965757,0.23176500048246382,0.248492414904789,0.2561535950047537,0.261337407314701,0.241013664610795,0.25753951094245026,0.2583843836511783,0.26187887557017775,0.25950314171976885,0.2608800925546993,0.22925125436279556,0.2601201944932387,0.2616923374433855,0.25734495342101293,0.16619497847955061,0.2605539494235269,0.2620211292017209,0.255722868962822,0.24176057236583215,0.25945351373093617,0.23083437105317808,0.2609576866495493,0.26204726967681846,0.2598886779118495,0.24736653998451158,0.005972113065949917,0.149331055861729,0.2622023586560702,0.26195762016907914,0.16632948242858206,0.005972113065949917,0.26073662704929107,0.24173388058052656,0.26245476199333995,0.26149658053590624,0.2618994003963394,0.257902181253462,0.005972113065949917,0.26144707487538366,0.26275610750067996,0.2618714262326493,0.201124874042736,0.25710108514083974,0.2619659757745489,0.2615256473469241,0.25904023120500175,0.2620269398225331,0.23521677086590548,0.23191764524426378,0.261435742312911,0.2612035622658871,0.2586346810955781,0.23010692602085073,0.22331558794958836,0.005972113065949917,0.18484457086032494,0.2609533576868001,0.2593520871754806,0.26148037848223993,0.005972113065949917,0.26179536715677937,0.25643058777782013,0.2624178864872243,0.25819858518975547,0.24394674287844897,0.2607403491312897,0.256296079289691,0.23253074512444968,0.23997731336792064,0.005972113065949917,0.26077932752594174,0.2611961105529899,0.2619109988511488,0.2552650318883829,0.2575410461277898,0.26025225660889595,0.261417437711112,0.231323491617951,0.24566620510400572,0.2591601189717742,0.2601505953459832,0.005972113065949917,0.26159628987195144,0.14200618697640893,0.2622579914501702,0.2281920825430983,0.235973537458903,0.2564973796792391,0.26075827569843774,0.26206422661931617,0.2590396362787962,0.2602717813829644,0.005972113065949917,0.23938055666052888,0.2620015051017264,0.23589233908738283,0.22942506482684802,0.25976238260094,0.26192268658484064,0.26120495559864043,0.26138868319338704,0.23369075413998988,0.2591150621972057,0.005972113065949917,0.26162162490055335,0.25639878049041165,0.2318250996613241,0.251119351176042,0.25726421323228565,0.2601657735814791,0.19724815915990151,0.25763737848553864,0.25470302483807755,0.261358724853733,0.2211817146623289,0.2611715087209362,0.005972113065949917,0.26228069274381777,0.25959761560818345,0.26174121494073405,0.2568850314209589,0.2606561083115394,0.261909633169775,0.26200501555339156,0.22032741954098328,0.2618240359072904,0.26186373873496865,0.16478101311059565,0.24323374715218737,0.005972113065949917,0.2588232750999348,0.23951798475124816,0.26189474873189905,0.23047451652653117,0.2577294600956793,0.2611872693611949,0.24156761386282768,0.23008489341782692,0.2571552224988509],\"type\":\"scatter\",\"xaxis\":\"x6\",\"yaxis\":\"y6\"},{\"marker\":{\"color\":[8,16,26,59,69,87,116,140,186,229,270,295,330,357,387,416,444,471],\"colorbar\":{\"title\":{\"text\":\"Trial\"},\"x\":1.0,\"xpad\":40},\"colorscale\":[[0.0,\"rgb(247,251,255)\"],[0.125,\"rgb(222,235,247)\"],[0.25,\"rgb(198,219,239)\"],[0.375,\"rgb(158,202,225)\"],[0.5,\"rgb(107,174,214)\"],[0.625,\"rgb(66,146,198)\"],[0.75,\"rgb(33,113,181)\"],[0.875,\"rgb(8,81,156)\"],[1.0,\"rgb(8,48,107)\"]],\"line\":{\"color\":\"Grey\",\"width\":0.5},\"showscale\":false},\"mode\":\"markers\",\"name\":\"Feasible Trial\",\"showlegend\":false,\"x\":[\"lin\",\"exp\",\"log\",\"log\",\"exp\",\"lin\",\"lin\",\"exp\",\"log\",\"lin\",\"exp\",\"log\",\"exp\",\"log\",\"lin\",\"lin\",\"log\",\"exp\"],\"y\":[0.16623485074472855,0.16032518777799307,0.1690201445659514,0.160212717432544,0.11051524582684,0.1849788248511184,0.1841546291062185,0.1522459930787535,0.14901688754717468,0.14316609954568243,0.16092451448941092,0.1852594804837617,0.15619926230679576,0.1425574827841472,0.149331055861729,0.18484457086032494,0.14200618697640893,0.19724815915990151],\"type\":\"scatter\",\"xaxis\":\"x7\",\"yaxis\":\"y7\"},{\"marker\":{\"color\":[0,1,2,3,4,5,6,7,8,9,10,11,12,13,14,15,16,17,18,19,20,21,22,23,24,25,26,27,28,29,30,31,32,33,34,35,36,37,38,39,40,41,42,43,44,45,46,47,48,49,50,51,52,53,54,55,56,57,58,59,60,61,62,63,64,65,66,67,68,69,70,71,72,73,74,75,76,77,78,79,80,81,82,83,84,85,86,87,88,89,90,91,92,93,94,95,96,97,98,99,100,101,102,103,104,105,106,107,108,109,110,111,112,113,114,115,116,117,118,119,120,121,122,123,124,125,126,127,128,129,130,131,132,133,134,135,136,137,138,139,140,141,142,143,144,145,146,147,148,149,150,151,152,153,154,155,156,157,158,159,160,161,162,163,164,165,166,167,168,169,170,171,172,173,174,175,176,177,178,179,180,181,182,183,184,185,186,187,188,189,190,191,192,193,194,195,196,197,198,199,200,201,202,203,204,205,206,207,208,209,210,211,212,213,214,215,216,217,218,219,220,221,222,223,224,225,226,227,228,229,230,231,232,233,234,235,236,237,238,239,240,241,242,243,244,245,246,247,248,249,250,251,252,253,254,255,256,257,258,259,260,261,262,263,264,265,266,267,268,269,270,271,272,273,274,275,276,277,278,279,280,281,282,283,284,285,286,287,288,289,290,291,292,293,294,295,296,297,298,299,300,301,302,303,304,305,306,307,308,309,310,311,312,313,314,315,316,317,318,319,320,321,322,323,324,325,326,327,328,329,330,331,332,333,334,335,336,337,338,339,340,341,342,343,344,345,346,347,348,349,350,351,352,353,354,355,356,357,358,359,360,361,362,363,364,365,366,367,368,369,370,371,372,373,374,375,376,377,378,379,380,381,382,383,384,385,386,387,388,389,390,391,392,393,394,395,396,397,398,399,400,401,402,403,404,405,406,407,408,409,410,411,412,413,414,415,416,417,418,419,420,421,422,423,424,425,426,427,428,429,430,431,432,433,434,435,436,437,438,439,440,441,442,443,444,445,446,447,448,449,450,451,452,453,454,455,456,457,458,459,460,461,462,463,464,465,466,467,468,469,470,471,472,473,474,475,476,477,478,479,480,481,482,483,484,485,486,487,488,489,490,491,492,493,494,495,496,497,498,499],\"colorbar\":{\"title\":{\"text\":\"Trial\"},\"x\":1.0,\"xpad\":40},\"colorscale\":[[0.0,\"rgb(247,251,255)\"],[0.125,\"rgb(222,235,247)\"],[0.25,\"rgb(198,219,239)\"],[0.375,\"rgb(158,202,225)\"],[0.5,\"rgb(107,174,214)\"],[0.625,\"rgb(66,146,198)\"],[0.75,\"rgb(33,113,181)\"],[0.875,\"rgb(8,81,156)\"],[1.0,\"rgb(8,48,107)\"]],\"line\":{\"color\":\"Grey\",\"width\":0.5},\"showscale\":false},\"mode\":\"markers\",\"name\":\"Feasible Trial\",\"showlegend\":false,\"x\":[124,365,552,498,47,153,728,20,199,569,315,8,12,261,12,80,222,114,289,415,181,106,0,81,68,67,151,245,57,129,728,102,2,159,115,391,39,41,41,630,439,35,39,39,44,194,147,341,37,90,34,28,72,46,19,134,174,18,89,221,20,1,66,21,20,107,23,678,72,90,509,24,16,56,11,0,131,57,98,21,60,18,23,0,22,78,23,119,57,81,296,28,16,45,51,18,72,0,31,101,16,20,50,34,34,39,67,36,84,9,49,13,32,37,52,461,37,69,11,87,605,36,33,9,0,53,30,67,346,113,43,30,15,30,62,22,0,29,95,50,73,18,24,29,49,14,39,63,27,83,44,38,10,22,59,0,20,43,17,13,0,25,22,22,19,16,12,20,19,1,55,19,20,19,50,18,259,25,60,1,44,24,32,23,21,14,1,24,43,15,66,25,24,20,12,0,53,28,42,13,27,26,36,49,542,27,405,30,42,72,11,24,0,31,24,57,29,42,30,53,36,35,37,33,41,56,30,33,76,42,0,33,32,211,60,36,9,49,31,747,13,38,677,30,38,49,39,65,40,47,33,66,36,34,55,32,49,77,34,51,8,28,13,28,32,66,29,54,0,43,304,14,28,21,64,12,377,41,25,50,86,11,29,38,60,0,26,20,172,12,46,25,13,13,1,16,443,11,15,11,3,21,0,22,17,17,18,0,14,14,11,486,17,12,1,239,16,14,0,13,11,15,14,15,0,14,0,19,14,13,334,15,14,13,1,14,0,15,15,14,11,16,2,17,19,0,22,49,22,22,45,564,24,43,21,25,25,41,0,52,25,606,28,41,26,277,60,40,24,50,27,26,42,24,58,1,37,20,72,24,46,26,38,15,10,15,0,54,22,14,1,0,39,149,20,36,15,56,0,34,17,22,45,63,29,35,48,29,69,35,13,33,54,521,703,0,16,28,46,14,0,25,38,16,55,29,12,72,45,24,0,36,13,24,84,59,42,27,30,191,49,11,0,24,40,22,649,62,14,37,24,52,12,0,35,23,354,69,45,28,13,34,424,51,0,25,17,37,127,58,11,76,27,46,14,101,34,0,24,47,28,65,41,26,15,12,14,22,1,230,0,48,37,23,18,57,38,260,474,12],\"y\":[0.24883102419854752,0.2048052165338026,0.20045905947750095,0.23813982644352788,0.2249260375444795,0.2460527265149479,0.22301093683409454,0.25793915581964366,0.16623485074472855,0.2033381428765505,0.21292302663928986,0.2550883870898774,0.2248411883847401,0.23581159729477302,0.22502030778539917,0.21507030179194195,0.16032518777799307,0.20850045877755025,0.2428025276063418,0.2087099846619746,0.24675556234080842,0.25047862336426113,0.005972113065949917,0.2525149565510491,0.2317832252769768,0.23089483013446158,0.1690201445659514,0.23134893157150702,0.2303180648451833,0.2193602867230644,0.22865970093589796,0.24992577345387793,0.21579702659274175,0.24695099456528696,0.2485592955511335,0.20299521649333416,0.2584825958015448,0.22748741309534543,0.2585371563676069,0.23471459439596584,0.23437777247853575,0.25839184067796556,0.25806619677621573,0.25808088760156217,0.2578734887648869,0.24540458088977618,0.2493103451121966,0.23915974980019952,0.25768872555061906,0.22402620194215955,0.2576992340167147,0.2584450904058766,0.2541088613401442,0.2555505231171274,0.2594277330765016,0.2515540172506094,0.24844373150493984,0.23031828053052997,0.22358125578884905,0.160212717432544,0.26122177131130103,0.1666399078412777,0.25643603165119366,0.25895582599124206,0.25853033860984626,0.2522098091603842,0.22155624009697739,0.2324897760972465,0.21967587832599667,0.11051524582684,0.23189131707523922,0.25869792979348866,0.25770415580727596,0.2565311897472542,0.2567000414889913,0.005972113065949917,0.23208694021340112,0.256756282531642,0.24913949541362465,0.2588894211014207,0.23186951892638938,0.25933620594197987,0.25880056394861556,0.005972113065949917,0.25850089349591,0.2531298372179634,0.2283585684451943,0.1849788248511184,0.25472033984179854,0.25459879377880135,0.23915685855634988,0.2581782000928051,0.2593110503008355,0.2569357346880202,0.2526829182926108,0.2599501459037148,0.25479524603676407,0.005972113065949917,0.25962270861155956,0.2245050372033208,0.2599291537354214,0.26029013493680425,0.2579517685718811,0.25919142131475703,0.25959963526029745,0.25937804036875073,0.2560942785990242,0.2366384882757645,0.23229708172150818,0.2562680199693005,0.25681177216387124,0.25843700714937046,0.26007482772739543,0.2599788288878327,0.258125998378277,0.2385522272122627,0.1841546291062185,0.25610522261904517,0.25681108233393724,0.2549625156215119,0.23601173714380505,0.25877219106523014,0.2590978036240306,0.2577665241573262,0.005972113065949917,0.25828767521791846,0.22634767882747858,0.2562033333543099,0.24122173112775205,0.22745701760512999,0.21879758365714372,0.2593893164539779,0.2588119089330265,0.25946806595268235,0.25703467854287493,0.25976180164159446,0.005972113065949917,0.23103343823044364,0.25424942760666436,0.25782438165552923,0.1522459930787535,0.2599101595433211,0.25991386557809965,0.25921796521369767,0.2576464931304054,0.25832363201646447,0.25972983091909563,0.25514969800362003,0.25841927458345104,0.25518307831023723,0.23264673256429796,0.259520937297518,0.25741390809317566,0.2606150658217604,0.2570498798428581,0.005972113065949917,0.26047533471264017,0.25886754305861026,0.26078878336888456,0.1569471467674141,0.005972113065949917,0.2599928093768028,0.26059850057476586,0.26058712713604043,0.2604171947830005,0.25994630957485493,0.2586918431805642,0.26038416938685294,0.26010643968558034,0.1667839982777743,0.25795460451049135,0.26037423572383317,0.2600941650811407,0.26011530374053127,0.25787218966065495,0.2602803669832016,0.2324850598727402,0.2600676086449453,0.2563421855070384,0.16670719611859136,0.2580460196929845,0.2600803764807627,0.2592924596439066,0.2602515028946105,0.260163911913785,0.2589906738630295,0.14901688754717468,0.26012459351743245,0.22763037504393327,0.25933699345776196,0.25560569184170207,0.26031952495206084,0.26041922366933634,0.2609592960782359,0.25913999057948894,0.005972113065949917,0.25799366345036934,0.23378378253202686,0.2591855964773485,0.25913375924018356,0.26048646819324367,0.2605318853081667,0.25961773659686876,0.2577411602538773,0.23277161436998806,0.2603773675235887,0.23286154476421725,0.25795574639726493,0.25930784924228784,0.2556380017845908,0.25908760383604656,0.26066377721183853,0.005972113065949917,0.260072014165277,0.26049584515291735,0.2574518504444048,0.2608050428486984,0.2596714681592966,0.26066379268594153,0.23183128321745225,0.2603462549376853,0.2605933947711368,0.2602736352945231,0.26055615173917746,0.25977904717891726,0.25779644990698924,0.2603137955053417,0.26049537769915876,0.2558597907262871,0.14316609954568243,0.005972113065949917,0.2604859692419064,0.2610453395439452,0.24611481349988326,0.2572246741196813,0.2605403489029751,0.2578144138778933,0.25577282633647686,0.24441337155529655,0.2302301586335768,0.25892145371383346,0.26084625835393477,0.2334198027812976,0.26093307036966423,0.2606042150648181,0.2592347344469719,0.2604589229056741,0.2566812112227377,0.2594593537967727,0.25951274904641686,0.26061062367951005,0.2563899209084062,0.2286243790520392,0.26038306676323414,0.25807205326087373,0.260753128542815,0.2587355851424237,0.25623232336515867,0.260392126278115,0.2589263367761928,0.24361107341054786,0.2609045190548793,0.22978594274528347,0.2606370808674709,0.26033439925735313,0.25287029270236744,0.23114329014691884,0.2579423158623631,0.005972113065949917,0.259288646721193,0.16092451448941092,0.25997614799128443,0.26093175175130057,0.2583555197210257,0.2567455765357519,0.2599914083179793,0.2378184045727266,0.2600349755136282,0.2587454166270343,0.258116624268461,0.2217190604435997,0.25947771872715397,0.26078746127750413,0.23834162680191354,0.25715216778819344,0.005972113065949917,0.26166975961089317,0.26200885013113334,0.24627699912775736,0.2453826850102242,0.2593173702262597,0.2309161762837899,0.26117639573222623,0.2611585169747843,0.16469687002150357,0.1852594804837617,0.24073320499816367,0.25978328117293137,0.26198698388485975,0.25985254212386144,0.2360804498143627,0.26177580037568643,0.005972113065949917,0.2622649958577045,0.26234437599930654,0.26241894023141876,0.2623658495143866,0.005972113065949917,0.2618409480924195,0.26198007329720024,0.2605240505338723,0.22946188011081317,0.2627796224180537,0.24528589716673307,0.16496795144283805,0.24301660951476778,0.2617957070453814,0.26140419412496596,0.005972113065949917,0.26121689661160397,0.2596579946584156,0.23019968480245404,0.2619870605083989,0.26189856161441094,0.005972113065949917,0.2613025579610756,0.005972113065949917,0.2585827919466985,0.2611065634950271,0.260488280866666,0.15619926230679576,0.25570351713695544,0.24206049990614126,0.2611617304174975,0.16565932096685687,0.26154838744047815,0.005972113065949917,0.26185756242325087,0.26206091681910443,0.24459245354208642,0.259927499183619,0.23031091030329767,0.21819001467345903,0.2619461961971327,0.2617431871681224,0.005972113065949917,0.26211499901317664,0.25940425471348716,0.2607860604297772,0.26190194392799054,0.2583276443838678,0.22986300765272757,0.23071494455539357,0.2595319306341642,0.26200932039471336,0.26208415315370015,0.26037428001947727,0.1425574827841472,0.005972113065949917,0.2566664114399765,0.2614662659965757,0.23176500048246382,0.248492414904789,0.2561535950047537,0.261337407314701,0.241013664610795,0.25753951094245026,0.2583843836511783,0.26187887557017775,0.25950314171976885,0.2608800925546993,0.22925125436279556,0.2601201944932387,0.2616923374433855,0.25734495342101293,0.16619497847955061,0.2605539494235269,0.2620211292017209,0.255722868962822,0.24176057236583215,0.25945351373093617,0.23083437105317808,0.2609576866495493,0.26204726967681846,0.2598886779118495,0.24736653998451158,0.005972113065949917,0.149331055861729,0.2622023586560702,0.26195762016907914,0.16632948242858206,0.005972113065949917,0.26073662704929107,0.24173388058052656,0.26245476199333995,0.26149658053590624,0.2618994003963394,0.257902181253462,0.005972113065949917,0.26144707487538366,0.26275610750067996,0.2618714262326493,0.201124874042736,0.25710108514083974,0.2619659757745489,0.2615256473469241,0.25904023120500175,0.2620269398225331,0.23521677086590548,0.23191764524426378,0.261435742312911,0.2612035622658871,0.2586346810955781,0.23010692602085073,0.22331558794958836,0.005972113065949917,0.18484457086032494,0.2609533576868001,0.2593520871754806,0.26148037848223993,0.005972113065949917,0.26179536715677937,0.25643058777782013,0.2624178864872243,0.25819858518975547,0.24394674287844897,0.2607403491312897,0.256296079289691,0.23253074512444968,0.23997731336792064,0.005972113065949917,0.26077932752594174,0.2611961105529899,0.2619109988511488,0.2552650318883829,0.2575410461277898,0.26025225660889595,0.261417437711112,0.231323491617951,0.24566620510400572,0.2591601189717742,0.2601505953459832,0.005972113065949917,0.26159628987195144,0.14200618697640893,0.2622579914501702,0.2281920825430983,0.235973537458903,0.2564973796792391,0.26075827569843774,0.26206422661931617,0.2590396362787962,0.2602717813829644,0.005972113065949917,0.23938055666052888,0.2620015051017264,0.23589233908738283,0.22942506482684802,0.25976238260094,0.26192268658484064,0.26120495559864043,0.26138868319338704,0.23369075413998988,0.2591150621972057,0.005972113065949917,0.26162162490055335,0.25639878049041165,0.2318250996613241,0.251119351176042,0.25726421323228565,0.2601657735814791,0.19724815915990151,0.25763737848553864,0.25470302483807755,0.261358724853733,0.2211817146623289,0.2611715087209362,0.005972113065949917,0.26228069274381777,0.25959761560818345,0.26174121494073405,0.2568850314209589,0.2606561083115394,0.261909633169775,0.26200501555339156,0.22032741954098328,0.2618240359072904,0.26186373873496865,0.16478101311059565,0.24323374715218737,0.005972113065949917,0.2588232750999348,0.23951798475124816,0.26189474873189905,0.23047451652653117,0.2577294600956793,0.2611872693611949,0.24156761386282768,0.23008489341782692,0.2571552224988509],\"type\":\"scatter\",\"xaxis\":\"x8\",\"yaxis\":\"y8\"},{\"marker\":{\"color\":[2,6,27,36,37,38,39,40,41,42,43,44,45,46,47,48,49,50,51,52,53,54,55,56,58,60,61,62,63,64,65,68,70,71,72,73,74,75,77,78,79,81,82,83,84,85,86,88,89,91,92,93,94,95,96,98,99,100,101,102,103,104,105,106,107,109,111,112,113,114,115,117,119,120,121,122,123,124,125,126,127,128,129,131,132,133,134,135,136,138,139,141,142,143,144,145,146,149,150,151,152,153,154,155,156,157,158,160,161,162,163,164,165,166,167,168,169,170,171,172,173,174,175,177,178,179,181,182,183,184,185,187,189,190,191,192,193,194,195,196,197,198,199,200,201,202,203,204,205,207,208,209,210,211,212,213,214,215,216,217,218,220,221,222,223,224,225,226,227,228,231,232,233,234,235,236,238,239,240,241,242,243,244,245,246,247,248,249,250,251,253,254,255,256,257,258,259,260,261,263,264,265,267,268,269,271,272,274,275,276,277,278,279,281,282,283,284,285,286,287,288,289,290,292,293,294,297,298,299,301,302,303,304,305,306,307,308,309,310,312,313,314,315,316,317,318,319,320,322,323,324,325,326,328,329,332,333,334,335,336,337,338,339,340,342,343,344,345,346,347,348,349,350,351,353,354,355,356,358,360,361,362,364,365,366,367,368,369,370,372,373,374,375,376,377,378,379,380,382,383,384,386,388,389,391,392,393,394,395,396,397,398,399,400,401,403,404,405,406,407,408,410,411,412,413,414,417,418,419,420,421,423,424,425,426,427,429,430,431,432,433,434,435,436,437,439,440,441,443,445,446,447,449,450,451,452,453,454,455,456,458,459,460,461,462,463,464,465,466,468,469,470,473,474,475,476,478,479,480,481,482,483,484,486,487,488,489,490,491,492,493,495,496,497,498],\"colorbar\":{\"title\":{\"text\":\"Trial\"},\"x\":1.0,\"xpad\":40},\"colorscale\":[[0.0,\"rgb(247,251,255)\"],[0.125,\"rgb(222,235,247)\"],[0.25,\"rgb(198,219,239)\"],[0.375,\"rgb(158,202,225)\"],[0.5,\"rgb(107,174,214)\"],[0.625,\"rgb(66,146,198)\"],[0.75,\"rgb(33,113,181)\"],[0.875,\"rgb(8,81,156)\"],[1.0,\"rgb(8,48,107)\"]],\"line\":{\"color\":\"Grey\",\"width\":0.5},\"showscale\":false},\"mode\":\"markers\",\"name\":\"Feasible Trial\",\"showlegend\":false,\"x\":[0.898107689034152,1.4703106996865838,0.029390172520747715,1.8640899017414585,1.9782375307425613,1.9590940770396925,1.96186001011105,1.3979046281581042,1.5129442101142567,1.6145942667221729,1.6685966558060723,1.6697262549459093,1.6638419017601564,1.739547147134279,1.2290453873931724,1.8174300949236601,1.5509252963944542,1.9909721173649844,1.17616634609505,1.0756066738804062,1.2890107740020988,1.758647314359866,1.8233868789448149,0.8354254218303072,1.818633184191623,0.5600279846135435,0.533218268943882,0.4556566074615352,1.8176790277955122,1.8512005945046697,1.8634658461483922,0.4123295173863289,0.6528676719091108,1.8756914044451551,1.8372355561211986,1.9142566165551027,1.7863488800865601,0.14108423301063971,1.9497178491437033,1.732613526111564,0.9365322199762032,0.9079566520751756,0.8788237920717203,0.8831500200254006,0.7612262494660932,0.9523226415296976,1.0195858796038326,0.7074676191702569,0.8184956835374881,0.7471180241082518,0.590691611210463,0.6055869747035344,0.3770861967382622,0.9554504653222764,1.1005915513460447,0.9984718331849038,0.9530973398365205,1.0325890988741067,1.047819081642112,1.0345133781990692,1.1144788270125086,1.1360075033515624,1.1596803222551033,1.1432096145611619,1.2762574539849576,1.402467741787405,1.1607904044457984,1.059810747597727,1.0687308608618133,1.0448135535468535,1.2274125868744004,0.9812544155974587,1.2091145300242039,1.0641730261533735,1.1207622763764933,1.302611973573861,1.0171038475232428,1.0724542608323717,0.5081351853575582,0.2788113068825524,0.9053705161455352,0.9856897320180867,1.1316226797024906,1.3263995487629796,1.3510671893177066,1.1984010864117338,1.1977016712801407,1.5248477091961297,1.5821710299006262,1.2497361604408617,1.460968012207865,1.1863418016245433,1.1735752668196664,1.363593845336043,1.186010801844169,1.488741553511281,1.0936255270132336,1.086459812767382,1.318885427015861,1.1506445159852419,1.2615711489944945,1.0036163443852513,1.0064403407552276,1.062806753641543,0.9535536258184687,0.9472709495204732,0.8493957143918907,0.8449262820439105,1.10114405696234,0.9769678314759572,0.9845779049755954,0.9876986342845159,0.9306416209183641,0.9363719722006094,0.848744769421726,0.9699647053318917,0.8608152414216405,0.7705594942337481,0.8063206629856152,0.9076021042709458,0.8032628538541607,0.8197506530167343,0.8887892941980544,0.7952529008720972,0.7946134586999005,0.7130866582271126,0.8770382518806094,0.8659762375769399,0.9128016130252236,0.8712180602637238,0.8977325671521766,0.795499794243763,0.8966581598394953,0.9917918592770417,0.6700922174618857,0.7306928688659513,0.6428083755605243,0.6516212280988919,0.7071985589276673,0.6613045516152815,0.594474412534449,0.7550012140695616,0.8311569878233811,0.552695246802542,0.5527482205326838,0.6963128887710565,0.5653428890841508,0.5188999717905933,0.614308716842136,0.6079338453081208,0.486065436180664,0.6595038016396593,0.5448276616949015,0.4569981722821066,0.4295723410868667,0.47433326241257706,0.7360862483519182,0.3675810567449923,0.6408394526575978,0.6402420128517486,0.619467307940156,0.5584833078981796,0.5640591284948943,0.5627032830816898,0.6329766481260748,0.5984412939710457,0.6115220442047832,0.7292627412862452,0.6944863156609954,0.6668701329498838,0.7292418720533806,0.5471489031325524,0.5350246790609364,0.5666949671795313,0.6343915077982386,0.691824075109671,0.6312330353915123,0.6241106558710174,0.7342975402876021,0.5024660689746787,0.5036261072122714,0.4485497208163646,0.45249932402752285,0.43686837213852436,0.5065318510402589,0.3683576379329113,0.4107181333234542,0.463124939154017,0.5163537569415811,0.5343707967314058,0.48232622527436914,0.514498470935334,0.5859283078939512,0.5800932711485964,0.31410439688542113,0.5089419548344656,0.4510787422395112,0.5631945302478969,0.5910661750693739,0.5843252527975223,0.5832448849933012,0.6372221008339246,0.5915837839894592,0.5416274700167125,0.630169348691964,0.6830377141493098,0.39107015279210944,0.3770601359471497,0.41289341996762496,0.4599295138794177,0.5237143477777889,0.33505996996472925,0.5774417414989441,0.4784956602826234,0.6135626311958026,0.6167684393897467,0.6577393590077529,0.60960249421601,0.23883785940857277,0.21511529098447377,0.08900391972466526,0.17432277402620044,0.542877526575335,0.19190868289781884,0.19478242419172972,0.21789571283611758,0.25190197941058273,0.1454291595551524,0.1299830574656923,0.22027502726794285,0.23083388472478575,0.18125339646592215,0.1745587699794623,0.15681665128332833,0.17993488517277703,0.18955308887398664,0.09378577806903492,0.06870215091938682,0.09581875371835619,0.08242179825800577,0.001994688465429967,0.054660491169505915,0.14300669295672475,0.18762872942362535,0.16982556489576098,0.17248735893509665,0.12934141966802484,0.12043855528059386,0.07130375937940239,0.06126060742882955,0.05822140494206268,0.1972502206141482,0.27349834262566985,0.18068724041587791,0.20896235895076773,0.16963631397617354,0.06982295755923247,0.0836449674823405,0.13862552115331253,0.1421262569733662,0.11788437141807355,0.05357454245514742,0.028365195266393986,0.10871049410671933,0.05594383736061559,0.15232916665437055,0.1478984920463898,0.15066875721016987,0.0966279464739558,0.12362536683956249,0.2376483940079333,0.0029454888143112534,0.015150062253300067,0.09924613196643603,0.04596501706219149,0.14104621604090153,0.15280660981716535,0.1467689946299328,0.09074118977772906,0.2669191427234491,0.2786212059702733,0.24119272943828457,0.03263161848897054,0.10383367090856473,0.14801097384269118,0.00016918859039505296,0.07343440655048947,0.06077500829050925,0.08432672244090507,0.2202380709645025,0.12889654734401929,0.12446521753208428,0.06810106051884313,0.11467627929489568,0.16578701830060888,0.1698582185103789,0.03275752154471945,0.09644244795218757,0.2091258829313033,0.06380016077198145,0.060107771690505823,0.025194044739224875,0.1459198544992233,0.08183194095460321,0.08204351642696436,0.037827216059941826,0.1836681425544008,0.07715795658043681,0.09108193427261459,0.012517725796138107,0.009108623971742384,0.06079060250466663,0.006039293699870875,0.10714713809847944,0.06095114384328598,0.04960264284597339,0.05676141022040157,0.10819222846203597,0.15698457988635373,0.03857760533543807,0.0007051656162889424,0.044433510794712715,0.11690560938330652,0.15440474401217477,0.08338553188402865,0.03299381992953983,0.11737444990406282,0.15613339595806425,0.06752044807725029,0.0014897153135256334,0.10495231671952415,0.05655304229505628,0.16417131465973184,0.037091748999623614,0.12786965608603523,0.19373350734308414,0.3046145880352984,0.09372218755222089,0.033301636946555,0.13627399237527998,0.08367325970232574,0.09396187732847526,0.19698091581927396,0.1311192806226537,0.07197234778197922,0.16975358908277222,0.24729095906975596,0.09465971370457511,0.14642532949548592,0.20651519881802316,0.21329448984535143,0.17797027129415954,0.2250330284197139,0.1328663154962869,0.15737621289898449,0.292267276115885,0.1268213826489127,0.19651632198381155,0.13145104517351913,0.11381686541483702,0.24590625781850758,0.061581765516474006,0.11849211663399413,0.18590178908604849,0.06959158793912383,0.1598794640708271,0.11129679760309824,0.2107981328485634,1.6331614702166266,0.05244057836529534,0.14250695080486275,0.09207602148258831,0.03739982176487093,0.18101820507923225,0.26078800870818397,0.11207200758889033,0.06422404068969702,0.046024659701066575,0.16198646501582542,0.21090739589260657,0.13310191857744125,0.06831889260172201,0.10592698675564688,0.14083737237289184,0.2307869459633782,0.10634389848313451,0.1725602280640209,0.0996750506281258,0.19823919219502503,0.1393377968105663,0.03320200573709019,0.26920004006178566,0.08962629687207796,0.1674990393210148,0.13005954677090747],\"y\":[0.20045905947750095,0.22301093683409454,0.23134893157150702,0.2584825958015448,0.22748741309534543,0.2585371563676069,0.23471459439596584,0.23437777247853575,0.25839184067796556,0.25806619677621573,0.25808088760156217,0.2578734887648869,0.24540458088977618,0.2493103451121966,0.23915974980019952,0.25768872555061906,0.22402620194215955,0.2576992340167147,0.2584450904058766,0.2541088613401442,0.2555505231171274,0.2594277330765016,0.2515540172506094,0.24844373150493984,0.22358125578884905,0.26122177131130103,0.1666399078412777,0.25643603165119366,0.25895582599124206,0.25853033860984626,0.2522098091603842,0.21967587832599667,0.23189131707523922,0.25869792979348866,0.25770415580727596,0.2565311897472542,0.2567000414889913,0.005972113065949917,0.256756282531642,0.24913949541362465,0.2588894211014207,0.25933620594197987,0.25880056394861556,0.005972113065949917,0.25850089349591,0.2531298372179634,0.2283585684451943,0.25472033984179854,0.25459879377880135,0.2581782000928051,0.2593110503008355,0.2569357346880202,0.2526829182926108,0.2599501459037148,0.25479524603676407,0.25962270861155956,0.2245050372033208,0.2599291537354214,0.26029013493680425,0.2579517685718811,0.25919142131475703,0.25959963526029745,0.25937804036875073,0.2560942785990242,0.2366384882757645,0.2562680199693005,0.25843700714937046,0.26007482772739543,0.2599788288878327,0.258125998378277,0.2385522272122627,0.25610522261904517,0.2549625156215119,0.23601173714380505,0.25877219106523014,0.2590978036240306,0.2577665241573262,0.005972113065949917,0.25828767521791846,0.22634767882747858,0.2562033333543099,0.24122173112775205,0.22745701760512999,0.2593893164539779,0.2588119089330265,0.25946806595268235,0.25703467854287493,0.25976180164159446,0.005972113065949917,0.25424942760666436,0.25782438165552923,0.2599101595433211,0.25991386557809965,0.25921796521369767,0.2576464931304054,0.25832363201646447,0.25972983091909563,0.25518307831023723,0.23264673256429796,0.259520937297518,0.25741390809317566,0.2606150658217604,0.2570498798428581,0.005972113065949917,0.26047533471264017,0.25886754305861026,0.26078878336888456,0.005972113065949917,0.2599928093768028,0.26059850057476586,0.26058712713604043,0.2604171947830005,0.25994630957485493,0.2586918431805642,0.26038416938685294,0.26010643968558034,0.1667839982777743,0.25795460451049135,0.26037423572383317,0.2600941650811407,0.26011530374053127,0.25787218966065495,0.2602803669832016,0.2600676086449453,0.2563421855070384,0.16670719611859136,0.2600803764807627,0.2592924596439066,0.2602515028946105,0.260163911913785,0.2589906738630295,0.26012459351743245,0.25933699345776196,0.25560569184170207,0.26031952495206084,0.26041922366933634,0.2609592960782359,0.25913999057948894,0.005972113065949917,0.25799366345036934,0.23378378253202686,0.2591855964773485,0.25913375924018356,0.26048646819324367,0.2605318853081667,0.25961773659686876,0.2577411602538773,0.23277161436998806,0.2603773675235887,0.25795574639726493,0.25930784924228784,0.2556380017845908,0.25908760383604656,0.26066377721183853,0.005972113065949917,0.260072014165277,0.26049584515291735,0.2574518504444048,0.2608050428486984,0.2596714681592966,0.26066379268594153,0.2603462549376853,0.2605933947711368,0.2602736352945231,0.26055615173917746,0.25977904717891726,0.25779644990698924,0.2603137955053417,0.26049537769915876,0.2558597907262871,0.2604859692419064,0.2610453395439452,0.24611481349988326,0.2572246741196813,0.2605403489029751,0.2578144138778933,0.24441337155529655,0.2302301586335768,0.25892145371383346,0.26084625835393477,0.2334198027812976,0.26093307036966423,0.2606042150648181,0.2592347344469719,0.2604589229056741,0.2566812112227377,0.2594593537967727,0.25951274904641686,0.26061062367951005,0.2563899209084062,0.26038306676323414,0.25807205326087373,0.260753128542815,0.2587355851424237,0.25623232336515867,0.260392126278115,0.2589263367761928,0.24361107341054786,0.2609045190548793,0.2606370808674709,0.26033439925735313,0.25287029270236744,0.2579423158623631,0.005972113065949917,0.259288646721193,0.25997614799128443,0.26093175175130057,0.2567455765357519,0.2599914083179793,0.2378184045727266,0.2600349755136282,0.2587454166270343,0.258116624268461,0.25947771872715397,0.26078746127750413,0.23834162680191354,0.25715216778819344,0.005972113065949917,0.26166975961089317,0.26200885013113334,0.24627699912775736,0.2453826850102242,0.2593173702262597,0.26117639573222623,0.2611585169747843,0.16469687002150357,0.25978328117293137,0.26198698388485975,0.25985254212386144,0.26177580037568643,0.005972113065949917,0.2622649958577045,0.26234437599930654,0.26241894023141876,0.2623658495143866,0.005972113065949917,0.2618409480924195,0.26198007329720024,0.2605240505338723,0.2627796224180537,0.24528589716673307,0.16496795144283805,0.24301660951476778,0.2617957070453814,0.26140419412496596,0.005972113065949917,0.26121689661160397,0.2596579946584156,0.2619870605083989,0.26189856161441094,0.005972113065949917,0.2613025579610756,0.005972113065949917,0.2611065634950271,0.260488280866666,0.24206049990614126,0.2611617304174975,0.16565932096685687,0.26154838744047815,0.005972113065949917,0.26185756242325087,0.26206091681910443,0.24459245354208642,0.259927499183619,0.21819001467345903,0.2619461961971327,0.2617431871681224,0.005972113065949917,0.26211499901317664,0.25940425471348716,0.2607860604297772,0.26190194392799054,0.2583276443838678,0.22986300765272757,0.2595319306341642,0.26200932039471336,0.26208415315370015,0.26037428001947727,0.005972113065949917,0.2614662659965757,0.23176500048246382,0.248492414904789,0.261337407314701,0.241013664610795,0.25753951094245026,0.2583843836511783,0.26187887557017775,0.25950314171976885,0.2608800925546993,0.2601201944932387,0.2616923374433855,0.25734495342101293,0.16619497847955061,0.2605539494235269,0.2620211292017209,0.255722868962822,0.24176057236583215,0.25945351373093617,0.2609576866495493,0.26204726967681846,0.2598886779118495,0.005972113065949917,0.2622023586560702,0.26195762016907914,0.005972113065949917,0.26073662704929107,0.24173388058052656,0.26245476199333995,0.26149658053590624,0.2618994003963394,0.257902181253462,0.005972113065949917,0.26144707487538366,0.26275610750067996,0.2618714262326493,0.25710108514083974,0.2619659757745489,0.2615256473469241,0.25904023120500175,0.2620269398225331,0.23521677086590548,0.261435742312911,0.2612035622658871,0.2586346810955781,0.23010692602085073,0.22331558794958836,0.2609533576868001,0.2593520871754806,0.26148037848223993,0.005972113065949917,0.26179536715677937,0.2624178864872243,0.25819858518975547,0.24394674287844897,0.2607403491312897,0.256296079289691,0.23997731336792064,0.005972113065949917,0.26077932752594174,0.2611961105529899,0.2619109988511488,0.2552650318883829,0.2575410461277898,0.26025225660889595,0.261417437711112,0.24566620510400572,0.2591601189717742,0.2601505953459832,0.26159628987195144,0.2622579914501702,0.2281920825430983,0.235973537458903,0.26075827569843774,0.26206422661931617,0.2590396362787962,0.2602717813829644,0.005972113065949917,0.23938055666052888,0.2620015051017264,0.23589233908738283,0.25976238260094,0.26192268658484064,0.26120495559864043,0.26138868319338704,0.23369075413998988,0.2591150621972057,0.005972113065949917,0.26162162490055335,0.25639878049041165,0.251119351176042,0.25726421323228565,0.2601657735814791,0.25470302483807755,0.261358724853733,0.2211817146623289,0.2611715087209362,0.26228069274381777,0.25959761560818345,0.26174121494073405,0.2568850314209589,0.2606561083115394,0.261909633169775,0.26200501555339156,0.2618240359072904,0.26186373873496865,0.16478101311059565,0.24323374715218737,0.005972113065949917,0.2588232750999348,0.23951798475124816,0.26189474873189905,0.2577294600956793,0.2611872693611949,0.24156761386282768,0.23008489341782692],\"type\":\"scatter\",\"xaxis\":\"x9\",\"yaxis\":\"y9\"},{\"marker\":{\"color\":[2,6,27,36,37,38,39,40,41,42,43,44,45,46,47,48,49,50,51,52,53,54,55,56,58,60,61,62,63,64,65,68,70,71,72,73,74,75,77,78,79,81,82,83,84,85,86,88,89,91,92,93,94,95,96,98,99,100,101,102,103,104,105,106,107,109,111,112,113,114,115,117,119,120,121,122,123,124,125,126,127,128,129,131,132,133,134,135,136,138,139,141,142,143,144,145,146,149,150,151,152,153,154,155,156,157,158,160,161,162,163,164,165,166,167,168,169,170,171,172,173,174,175,177,178,179,181,182,183,184,185,187,189,190,191,192,193,194,195,196,197,198,199,200,201,202,203,204,205,207,208,209,210,211,212,213,214,215,216,217,218,220,221,222,223,224,225,226,227,228,231,232,233,234,235,236,238,239,240,241,242,243,244,245,246,247,248,249,250,251,253,254,255,256,257,258,259,260,261,263,264,265,267,268,269,271,272,274,275,276,277,278,279,281,282,283,284,285,286,287,288,289,290,292,293,294,297,298,299,301,302,303,304,305,306,307,308,309,310,312,313,314,315,316,317,318,319,320,322,323,324,325,326,328,329,332,333,334,335,336,337,338,339,340,342,343,344,345,346,347,348,349,350,351,353,354,355,356,358,360,361,362,364,365,366,367,368,369,370,372,373,374,375,376,377,378,379,380,382,383,384,386,388,389,391,392,393,394,395,396,397,398,399,400,401,403,404,405,406,407,408,410,411,412,413,414,417,418,419,420,421,423,424,425,426,427,429,430,431,432,433,434,435,436,437,439,440,441,443,445,446,447,449,450,451,452,453,454,455,456,458,459,460,461,462,463,464,465,466,468,469,470,473,474,475,476,478,479,480,481,482,483,484,486,487,488,489,490,491,492,493,495,496,497,498],\"colorbar\":{\"title\":{\"text\":\"Trial\"},\"x\":1.0,\"xpad\":40},\"colorscale\":[[0.0,\"rgb(247,251,255)\"],[0.125,\"rgb(222,235,247)\"],[0.25,\"rgb(198,219,239)\"],[0.375,\"rgb(158,202,225)\"],[0.5,\"rgb(107,174,214)\"],[0.625,\"rgb(66,146,198)\"],[0.75,\"rgb(33,113,181)\"],[0.875,\"rgb(8,81,156)\"],[1.0,\"rgb(8,48,107)\"]],\"line\":{\"color\":\"Grey\",\"width\":0.5},\"showscale\":false},\"mode\":\"markers\",\"name\":\"Feasible Trial\",\"showlegend\":false,\"x\":[1.2474948134492394,0.9827439638199904,0.18942634517672663,1.8655608905776793,1.9674791243589953,1.8249473324743153,1.980443118232068,1.483832024518339,1.5910170467378344,1.6128672259644303,1.6541827936976876,1.6797557137240917,1.6532813256840293,1.6886488301264309,1.7659415267187106,1.3544953784846152,1.8032303613909841,1.5053873565903115,1.0867667662488796,0.9446195923876132,0.6357000386794033,1.9100445218547764,1.9018726733812799,1.9927121095000822,1.2318375910000072,1.809532309563199,1.8280055115155704,1.8219228965405263,1.5385343754188998,1.518143065896094,1.4071852001458607,0.7756515046949886,1.8395593084661317,1.5349268917392496,1.1574615737460707,1.5111929029118836,1.3333865664589952,1.7504481596188182,1.8772092961747295,0.10285525114959704,1.0622152853898255,1.108005204624844,0.9016194703358991,0.8132050647402702,1.0185797181213294,0.890919426905242,1.2170719841882973,0.6765622805591996,1.541168127268064,1.0260788058194312,1.0652821761327425,1.129629799380678,0.35928320299168126,1.4124529344040944,1.3866580027322883,1.6959718369938188,1.7305500517153716,1.604816486869371,1.5926853813239026,1.6041780525071616,1.6576958076272286,1.664256733687234,1.667655521439942,1.6881888362588704,1.6105949037838636,1.7335315546017622,1.6480941649437437,1.9251998939986894,1.9306002367362196,1.9442471233671597,1.9259067705441237,1.7906199453779612,1.8894162019210956,1.9941276060320732,1.4466709742213424,1.710489259618615,1.7992971126471209,1.6524090393029134,1.8770434356172245,1.3066492830375505,1.778886037741329,1.5743393901632088,1.851471162506278,1.7118958327880955,1.4619196990932941,1.6671927280136527,1.9317227246472215,1.753227531795023,1.7490767143637154,1.69495447520632,1.8147718883701396,1.5969734954370052,1.5858128435623389,1.5862873625994098,1.576960123589565,1.6257608247164799,1.6940672432290478,1.7191268254209917,1.8467344131889305,1.6891198604751474,1.7675880916986604,1.5534181822145634,1.5473930066379376,1.6544371414672447,1.6191137960612463,1.5134985305200688,1.6210251562520464,1.6151563375684672,1.5611775717387713,1.4807939352535917,1.4814328464247937,1.5510849776323343,1.474697665556375,1.4520511321628309,1.4145431740972962,1.3924439049990127,1.4020198882394703,1.4847290217421785,1.4297776434375407,1.30587728743806,1.2969976992566603,1.3012491613106967,1.4260029392184694,1.3568820309235747,1.2641263230641817,1.366932305775402,1.4194061749367548,1.4227817404338845,1.3537982534108866,1.343366981223827,1.3349613791264774,1.368419315282226,1.2047317394264185,1.2978208541691467,1.3815633209605438,1.431258161148281,1.4276193408631013,1.3806888846817318,1.5105275873778465,1.4340236862428473,1.340411826237311,1.2718887294999954,1.4943486142679938,1.3856151541627084,1.3752788624825134,1.3663358073754357,1.3978451459092152,1.454165077928618,1.3961016475018344,1.46961214525144,1.3497295099968512,1.5345016709096146,1.4321183283921926,1.3869588524440617,1.3935233402153913,1.497358232699617,1.4311584780697897,1.4353823397886958,1.468920900210061,1.5325100347467533,1.4696344360418403,1.469220210054536,1.4853945975756493,1.46735660691767,1.4895013787793854,1.4779331739663508,1.5170392130796617,1.5478636040872769,1.501839161395634,1.4995640776440997,1.560524189818162,1.4542002833410403,1.4569827149662489,1.5500697419751417,1.4601734083457578,1.5012392613977643,1.4323676107356065,1.5703169137792272,1.420690151064243,1.4748805870334343,1.523319498678256,1.478760202486325,1.4861675712301154,1.48773369246977,1.5434185979337645,1.5592915731278227,1.513976259672736,1.626643948210894,1.47033683484505,1.4749126758744402,1.4653693813325475,1.5251500869193284,1.4460179143589413,1.4948705850948867,1.5936314430490865,1.4567603177688075,1.5465304368876267,1.4821045149222514,1.5180482220410898,1.4491643608086477,1.4459884379657022,0.2749776529389274,1.3987324056178345,1.5034243525816564,1.4536206635819493,1.5081129108197868,1.4245367362603258,1.425409211260029,1.403415495141469,1.4657786045767571,1.4483986292070483,0.4839692765296768,1.3942078013182893,1.4884511230092452,1.4276185719214265,1.4390825856071703,1.5154328959564198,1.4739182699810618,1.4176423504034452,1.3391805504578538,1.3283223077226178,1.375105838624068,1.3974069842602714,1.3477992617367704,1.341297349339851,1.2301230250638389,1.3261108387181213,1.2710089135482017,1.1862075291793672,1.2883012731193733,1.3288522302797774,1.3144863060100058,1.2379368730353641,1.2662411382694367,1.289241257340143,1.2705096027955607,1.2425017118938881,1.231051757993132,1.2651450714885122,1.2780251065915171,1.2307470068764848,1.1791069534003968,1.2702748802761712,1.1415652117416923,1.245350475649043,1.1385217336167839,1.243834159043106,1.2113651812061705,1.2513465736068414,1.2339470673076065,1.2462579121288462,1.1659787272203015,1.1489524353094749,1.0734578841190676,1.083770597653328,1.2009166760907324,1.0076863678414345,1.0090320464916347,1.0496521833201045,0.9429176741717534,1.0741746882491583,1.1037517231863931,1.1023249693309227,1.0526540993971987,1.1304891947679883,1.0410518891997254,0.9588427147055112,0.9722241507917945,1.0245650533994344,1.1806939938618988,1.2422020959080897,1.283452280285982,1.1682483513043116,1.0392913558401036,0.9071846980409546,1.284355174667943,1.2984034451420106,1.2931016226460488,1.2893325911421232,1.121786873087915,1.0880495137364834,1.225419490745482,0.9768162265087075,1.1262262477168365,1.2794425165820047,1.2165494721383372,1.2939782057989033,1.2957570501622677,1.0313190965149195,1.29739116101582,1.109266103564759,1.0566288091657323,0.9335971938507537,0.8570350587130717,1.1975081587359298,1.2100283521980393,1.2669574609838248,1.1867111960506378,1.3038738579154663,1.2531861510011284,1.2515466705684324,1.1539335110812012,1.2215133872778121,1.214901089275174,1.209391318783885,1.2491009310987133,0.015865129054078997,1.2757568279290168,1.218748243032509,1.3198493210899478,1.3090305360592505,1.2632038955356517,1.3100059956561072,1.2564735093468256,1.320952515227453,1.3160719728417039,1.3333179227573766,1.2680235923097876,1.196564728249695,1.2680569580273011,1.2479980697651707,1.3384062942827955,1.2093543803398463,1.2703229031459669,1.1709214175615712,1.235951707725429,1.3270009239172356,1.2726219870919782,1.1953675207975398,1.3496593299011388,1.232366313891266,1.2791103471767402,1.2926052654505793,1.3473899572391463,1.278810450893323,1.3151114160880166,1.199960039479974,1.269432874828072,1.1790110712246558,1.3466862346331954,1.2424093748534428,1.23461136231767,1.146246286211464,1.250675659664746,1.293707155168567,1.2123011233987695,1.2635765398173384,1.2207585256754685,1.1598424450229217,1.2924756027946114,1.3183413257068541,1.3590839710472093,1.1909368651505265,1.2536716290872643,1.2919397717272376,1.2584815910723168,1.3218033177623962,1.18281795852487,1.2235148029742646,1.2299942481838901,1.2838808527348826,1.358495223447807,1.1699428577471704,1.224822689825164,1.2524724008405423,1.3125489559392327,1.1310676560540733,1.2037164278455317,1.2777865070866998,1.3445997836299854,1.2642038623391199,1.2086465041255339,1.3021993140173347,1.243834554874462,0.7287979959794011,1.1505690255529355,1.3546755384118243,1.3596611600903148,1.315731894777431,1.3608015908859847,1.290506281233777,1.3327170920785396,1.2684154597714974,1.2678373463853423,1.2446531947152923,1.1724999862836494,1.2830322989733745,1.2151360077259754,1.107202019755325,1.3007804640237715,1.249745080289422,1.3657206931931891,1.1855622952117981,1.2618092643925902,0.5848810867876356],\"y\":[0.20045905947750095,0.22301093683409454,0.23134893157150702,0.2584825958015448,0.22748741309534543,0.2585371563676069,0.23471459439596584,0.23437777247853575,0.25839184067796556,0.25806619677621573,0.25808088760156217,0.2578734887648869,0.24540458088977618,0.2493103451121966,0.23915974980019952,0.25768872555061906,0.22402620194215955,0.2576992340167147,0.2584450904058766,0.2541088613401442,0.2555505231171274,0.2594277330765016,0.2515540172506094,0.24844373150493984,0.22358125578884905,0.26122177131130103,0.1666399078412777,0.25643603165119366,0.25895582599124206,0.25853033860984626,0.2522098091603842,0.21967587832599667,0.23189131707523922,0.25869792979348866,0.25770415580727596,0.2565311897472542,0.2567000414889913,0.005972113065949917,0.256756282531642,0.24913949541362465,0.2588894211014207,0.25933620594197987,0.25880056394861556,0.005972113065949917,0.25850089349591,0.2531298372179634,0.2283585684451943,0.25472033984179854,0.25459879377880135,0.2581782000928051,0.2593110503008355,0.2569357346880202,0.2526829182926108,0.2599501459037148,0.25479524603676407,0.25962270861155956,0.2245050372033208,0.2599291537354214,0.26029013493680425,0.2579517685718811,0.25919142131475703,0.25959963526029745,0.25937804036875073,0.2560942785990242,0.2366384882757645,0.2562680199693005,0.25843700714937046,0.26007482772739543,0.2599788288878327,0.258125998378277,0.2385522272122627,0.25610522261904517,0.2549625156215119,0.23601173714380505,0.25877219106523014,0.2590978036240306,0.2577665241573262,0.005972113065949917,0.25828767521791846,0.22634767882747858,0.2562033333543099,0.24122173112775205,0.22745701760512999,0.2593893164539779,0.2588119089330265,0.25946806595268235,0.25703467854287493,0.25976180164159446,0.005972113065949917,0.25424942760666436,0.25782438165552923,0.2599101595433211,0.25991386557809965,0.25921796521369767,0.2576464931304054,0.25832363201646447,0.25972983091909563,0.25518307831023723,0.23264673256429796,0.259520937297518,0.25741390809317566,0.2606150658217604,0.2570498798428581,0.005972113065949917,0.26047533471264017,0.25886754305861026,0.26078878336888456,0.005972113065949917,0.2599928093768028,0.26059850057476586,0.26058712713604043,0.2604171947830005,0.25994630957485493,0.2586918431805642,0.26038416938685294,0.26010643968558034,0.1667839982777743,0.25795460451049135,0.26037423572383317,0.2600941650811407,0.26011530374053127,0.25787218966065495,0.2602803669832016,0.2600676086449453,0.2563421855070384,0.16670719611859136,0.2600803764807627,0.2592924596439066,0.2602515028946105,0.260163911913785,0.2589906738630295,0.26012459351743245,0.25933699345776196,0.25560569184170207,0.26031952495206084,0.26041922366933634,0.2609592960782359,0.25913999057948894,0.005972113065949917,0.25799366345036934,0.23378378253202686,0.2591855964773485,0.25913375924018356,0.26048646819324367,0.2605318853081667,0.25961773659686876,0.2577411602538773,0.23277161436998806,0.2603773675235887,0.25795574639726493,0.25930784924228784,0.2556380017845908,0.25908760383604656,0.26066377721183853,0.005972113065949917,0.260072014165277,0.26049584515291735,0.2574518504444048,0.2608050428486984,0.2596714681592966,0.26066379268594153,0.2603462549376853,0.2605933947711368,0.2602736352945231,0.26055615173917746,0.25977904717891726,0.25779644990698924,0.2603137955053417,0.26049537769915876,0.2558597907262871,0.2604859692419064,0.2610453395439452,0.24611481349988326,0.2572246741196813,0.2605403489029751,0.2578144138778933,0.24441337155529655,0.2302301586335768,0.25892145371383346,0.26084625835393477,0.2334198027812976,0.26093307036966423,0.2606042150648181,0.2592347344469719,0.2604589229056741,0.2566812112227377,0.2594593537967727,0.25951274904641686,0.26061062367951005,0.2563899209084062,0.26038306676323414,0.25807205326087373,0.260753128542815,0.2587355851424237,0.25623232336515867,0.260392126278115,0.2589263367761928,0.24361107341054786,0.2609045190548793,0.2606370808674709,0.26033439925735313,0.25287029270236744,0.2579423158623631,0.005972113065949917,0.259288646721193,0.25997614799128443,0.26093175175130057,0.2567455765357519,0.2599914083179793,0.2378184045727266,0.2600349755136282,0.2587454166270343,0.258116624268461,0.25947771872715397,0.26078746127750413,0.23834162680191354,0.25715216778819344,0.005972113065949917,0.26166975961089317,0.26200885013113334,0.24627699912775736,0.2453826850102242,0.2593173702262597,0.26117639573222623,0.2611585169747843,0.16469687002150357,0.25978328117293137,0.26198698388485975,0.25985254212386144,0.26177580037568643,0.005972113065949917,0.2622649958577045,0.26234437599930654,0.26241894023141876,0.2623658495143866,0.005972113065949917,0.2618409480924195,0.26198007329720024,0.2605240505338723,0.2627796224180537,0.24528589716673307,0.16496795144283805,0.24301660951476778,0.2617957070453814,0.26140419412496596,0.005972113065949917,0.26121689661160397,0.2596579946584156,0.2619870605083989,0.26189856161441094,0.005972113065949917,0.2613025579610756,0.005972113065949917,0.2611065634950271,0.260488280866666,0.24206049990614126,0.2611617304174975,0.16565932096685687,0.26154838744047815,0.005972113065949917,0.26185756242325087,0.26206091681910443,0.24459245354208642,0.259927499183619,0.21819001467345903,0.2619461961971327,0.2617431871681224,0.005972113065949917,0.26211499901317664,0.25940425471348716,0.2607860604297772,0.26190194392799054,0.2583276443838678,0.22986300765272757,0.2595319306341642,0.26200932039471336,0.26208415315370015,0.26037428001947727,0.005972113065949917,0.2614662659965757,0.23176500048246382,0.248492414904789,0.261337407314701,0.241013664610795,0.25753951094245026,0.2583843836511783,0.26187887557017775,0.25950314171976885,0.2608800925546993,0.2601201944932387,0.2616923374433855,0.25734495342101293,0.16619497847955061,0.2605539494235269,0.2620211292017209,0.255722868962822,0.24176057236583215,0.25945351373093617,0.2609576866495493,0.26204726967681846,0.2598886779118495,0.005972113065949917,0.2622023586560702,0.26195762016907914,0.005972113065949917,0.26073662704929107,0.24173388058052656,0.26245476199333995,0.26149658053590624,0.2618994003963394,0.257902181253462,0.005972113065949917,0.26144707487538366,0.26275610750067996,0.2618714262326493,0.25710108514083974,0.2619659757745489,0.2615256473469241,0.25904023120500175,0.2620269398225331,0.23521677086590548,0.261435742312911,0.2612035622658871,0.2586346810955781,0.23010692602085073,0.22331558794958836,0.2609533576868001,0.2593520871754806,0.26148037848223993,0.005972113065949917,0.26179536715677937,0.2624178864872243,0.25819858518975547,0.24394674287844897,0.2607403491312897,0.256296079289691,0.23997731336792064,0.005972113065949917,0.26077932752594174,0.2611961105529899,0.2619109988511488,0.2552650318883829,0.2575410461277898,0.26025225660889595,0.261417437711112,0.24566620510400572,0.2591601189717742,0.2601505953459832,0.26159628987195144,0.2622579914501702,0.2281920825430983,0.235973537458903,0.26075827569843774,0.26206422661931617,0.2590396362787962,0.2602717813829644,0.005972113065949917,0.23938055666052888,0.2620015051017264,0.23589233908738283,0.25976238260094,0.26192268658484064,0.26120495559864043,0.26138868319338704,0.23369075413998988,0.2591150621972057,0.005972113065949917,0.26162162490055335,0.25639878049041165,0.251119351176042,0.25726421323228565,0.2601657735814791,0.25470302483807755,0.261358724853733,0.2211817146623289,0.2611715087209362,0.26228069274381777,0.25959761560818345,0.26174121494073405,0.2568850314209589,0.2606561083115394,0.261909633169775,0.26200501555339156,0.2618240359072904,0.26186373873496865,0.16478101311059565,0.24323374715218737,0.005972113065949917,0.2588232750999348,0.23951798475124816,0.26189474873189905,0.2577294600956793,0.2611872693611949,0.24156761386282768,0.23008489341782692],\"type\":\"scatter\",\"xaxis\":\"x10\",\"yaxis\":\"y10\"}],                        {\"template\":{\"data\":{\"histogram2dcontour\":[{\"type\":\"histogram2dcontour\",\"colorbar\":{\"outlinewidth\":0,\"ticks\":\"\"},\"colorscale\":[[0.0,\"#0d0887\"],[0.1111111111111111,\"#46039f\"],[0.2222222222222222,\"#7201a8\"],[0.3333333333333333,\"#9c179e\"],[0.4444444444444444,\"#bd3786\"],[0.5555555555555556,\"#d8576b\"],[0.6666666666666666,\"#ed7953\"],[0.7777777777777778,\"#fb9f3a\"],[0.8888888888888888,\"#fdca26\"],[1.0,\"#f0f921\"]]}],\"choropleth\":[{\"type\":\"choropleth\",\"colorbar\":{\"outlinewidth\":0,\"ticks\":\"\"}}],\"histogram2d\":[{\"type\":\"histogram2d\",\"colorbar\":{\"outlinewidth\":0,\"ticks\":\"\"},\"colorscale\":[[0.0,\"#0d0887\"],[0.1111111111111111,\"#46039f\"],[0.2222222222222222,\"#7201a8\"],[0.3333333333333333,\"#9c179e\"],[0.4444444444444444,\"#bd3786\"],[0.5555555555555556,\"#d8576b\"],[0.6666666666666666,\"#ed7953\"],[0.7777777777777778,\"#fb9f3a\"],[0.8888888888888888,\"#fdca26\"],[1.0,\"#f0f921\"]]}],\"heatmap\":[{\"type\":\"heatmap\",\"colorbar\":{\"outlinewidth\":0,\"ticks\":\"\"},\"colorscale\":[[0.0,\"#0d0887\"],[0.1111111111111111,\"#46039f\"],[0.2222222222222222,\"#7201a8\"],[0.3333333333333333,\"#9c179e\"],[0.4444444444444444,\"#bd3786\"],[0.5555555555555556,\"#d8576b\"],[0.6666666666666666,\"#ed7953\"],[0.7777777777777778,\"#fb9f3a\"],[0.8888888888888888,\"#fdca26\"],[1.0,\"#f0f921\"]]}],\"heatmapgl\":[{\"type\":\"heatmapgl\",\"colorbar\":{\"outlinewidth\":0,\"ticks\":\"\"},\"colorscale\":[[0.0,\"#0d0887\"],[0.1111111111111111,\"#46039f\"],[0.2222222222222222,\"#7201a8\"],[0.3333333333333333,\"#9c179e\"],[0.4444444444444444,\"#bd3786\"],[0.5555555555555556,\"#d8576b\"],[0.6666666666666666,\"#ed7953\"],[0.7777777777777778,\"#fb9f3a\"],[0.8888888888888888,\"#fdca26\"],[1.0,\"#f0f921\"]]}],\"contourcarpet\":[{\"type\":\"contourcarpet\",\"colorbar\":{\"outlinewidth\":0,\"ticks\":\"\"}}],\"contour\":[{\"type\":\"contour\",\"colorbar\":{\"outlinewidth\":0,\"ticks\":\"\"},\"colorscale\":[[0.0,\"#0d0887\"],[0.1111111111111111,\"#46039f\"],[0.2222222222222222,\"#7201a8\"],[0.3333333333333333,\"#9c179e\"],[0.4444444444444444,\"#bd3786\"],[0.5555555555555556,\"#d8576b\"],[0.6666666666666666,\"#ed7953\"],[0.7777777777777778,\"#fb9f3a\"],[0.8888888888888888,\"#fdca26\"],[1.0,\"#f0f921\"]]}],\"surface\":[{\"type\":\"surface\",\"colorbar\":{\"outlinewidth\":0,\"ticks\":\"\"},\"colorscale\":[[0.0,\"#0d0887\"],[0.1111111111111111,\"#46039f\"],[0.2222222222222222,\"#7201a8\"],[0.3333333333333333,\"#9c179e\"],[0.4444444444444444,\"#bd3786\"],[0.5555555555555556,\"#d8576b\"],[0.6666666666666666,\"#ed7953\"],[0.7777777777777778,\"#fb9f3a\"],[0.8888888888888888,\"#fdca26\"],[1.0,\"#f0f921\"]]}],\"mesh3d\":[{\"type\":\"mesh3d\",\"colorbar\":{\"outlinewidth\":0,\"ticks\":\"\"}}],\"scatter\":[{\"fillpattern\":{\"fillmode\":\"overlay\",\"size\":10,\"solidity\":0.2},\"type\":\"scatter\"}],\"parcoords\":[{\"type\":\"parcoords\",\"line\":{\"colorbar\":{\"outlinewidth\":0,\"ticks\":\"\"}}}],\"scatterpolargl\":[{\"type\":\"scatterpolargl\",\"marker\":{\"colorbar\":{\"outlinewidth\":0,\"ticks\":\"\"}}}],\"bar\":[{\"error_x\":{\"color\":\"#2a3f5f\"},\"error_y\":{\"color\":\"#2a3f5f\"},\"marker\":{\"line\":{\"color\":\"#E5ECF6\",\"width\":0.5},\"pattern\":{\"fillmode\":\"overlay\",\"size\":10,\"solidity\":0.2}},\"type\":\"bar\"}],\"scattergeo\":[{\"type\":\"scattergeo\",\"marker\":{\"colorbar\":{\"outlinewidth\":0,\"ticks\":\"\"}}}],\"scatterpolar\":[{\"type\":\"scatterpolar\",\"marker\":{\"colorbar\":{\"outlinewidth\":0,\"ticks\":\"\"}}}],\"histogram\":[{\"marker\":{\"pattern\":{\"fillmode\":\"overlay\",\"size\":10,\"solidity\":0.2}},\"type\":\"histogram\"}],\"scattergl\":[{\"type\":\"scattergl\",\"marker\":{\"colorbar\":{\"outlinewidth\":0,\"ticks\":\"\"}}}],\"scatter3d\":[{\"type\":\"scatter3d\",\"line\":{\"colorbar\":{\"outlinewidth\":0,\"ticks\":\"\"}},\"marker\":{\"colorbar\":{\"outlinewidth\":0,\"ticks\":\"\"}}}],\"scattermapbox\":[{\"type\":\"scattermapbox\",\"marker\":{\"colorbar\":{\"outlinewidth\":0,\"ticks\":\"\"}}}],\"scatterternary\":[{\"type\":\"scatterternary\",\"marker\":{\"colorbar\":{\"outlinewidth\":0,\"ticks\":\"\"}}}],\"scattercarpet\":[{\"type\":\"scattercarpet\",\"marker\":{\"colorbar\":{\"outlinewidth\":0,\"ticks\":\"\"}}}],\"carpet\":[{\"aaxis\":{\"endlinecolor\":\"#2a3f5f\",\"gridcolor\":\"white\",\"linecolor\":\"white\",\"minorgridcolor\":\"white\",\"startlinecolor\":\"#2a3f5f\"},\"baxis\":{\"endlinecolor\":\"#2a3f5f\",\"gridcolor\":\"white\",\"linecolor\":\"white\",\"minorgridcolor\":\"white\",\"startlinecolor\":\"#2a3f5f\"},\"type\":\"carpet\"}],\"table\":[{\"cells\":{\"fill\":{\"color\":\"#EBF0F8\"},\"line\":{\"color\":\"white\"}},\"header\":{\"fill\":{\"color\":\"#C8D4E3\"},\"line\":{\"color\":\"white\"}},\"type\":\"table\"}],\"barpolar\":[{\"marker\":{\"line\":{\"color\":\"#E5ECF6\",\"width\":0.5},\"pattern\":{\"fillmode\":\"overlay\",\"size\":10,\"solidity\":0.2}},\"type\":\"barpolar\"}],\"pie\":[{\"automargin\":true,\"type\":\"pie\"}]},\"layout\":{\"autotypenumbers\":\"strict\",\"colorway\":[\"#636efa\",\"#EF553B\",\"#00cc96\",\"#ab63fa\",\"#FFA15A\",\"#19d3f3\",\"#FF6692\",\"#B6E880\",\"#FF97FF\",\"#FECB52\"],\"font\":{\"color\":\"#2a3f5f\"},\"hovermode\":\"closest\",\"hoverlabel\":{\"align\":\"left\"},\"paper_bgcolor\":\"white\",\"plot_bgcolor\":\"#E5ECF6\",\"polar\":{\"bgcolor\":\"#E5ECF6\",\"angularaxis\":{\"gridcolor\":\"white\",\"linecolor\":\"white\",\"ticks\":\"\"},\"radialaxis\":{\"gridcolor\":\"white\",\"linecolor\":\"white\",\"ticks\":\"\"}},\"ternary\":{\"bgcolor\":\"#E5ECF6\",\"aaxis\":{\"gridcolor\":\"white\",\"linecolor\":\"white\",\"ticks\":\"\"},\"baxis\":{\"gridcolor\":\"white\",\"linecolor\":\"white\",\"ticks\":\"\"},\"caxis\":{\"gridcolor\":\"white\",\"linecolor\":\"white\",\"ticks\":\"\"}},\"coloraxis\":{\"colorbar\":{\"outlinewidth\":0,\"ticks\":\"\"}},\"colorscale\":{\"sequential\":[[0.0,\"#0d0887\"],[0.1111111111111111,\"#46039f\"],[0.2222222222222222,\"#7201a8\"],[0.3333333333333333,\"#9c179e\"],[0.4444444444444444,\"#bd3786\"],[0.5555555555555556,\"#d8576b\"],[0.6666666666666666,\"#ed7953\"],[0.7777777777777778,\"#fb9f3a\"],[0.8888888888888888,\"#fdca26\"],[1.0,\"#f0f921\"]],\"sequentialminus\":[[0.0,\"#0d0887\"],[0.1111111111111111,\"#46039f\"],[0.2222222222222222,\"#7201a8\"],[0.3333333333333333,\"#9c179e\"],[0.4444444444444444,\"#bd3786\"],[0.5555555555555556,\"#d8576b\"],[0.6666666666666666,\"#ed7953\"],[0.7777777777777778,\"#fb9f3a\"],[0.8888888888888888,\"#fdca26\"],[1.0,\"#f0f921\"]],\"diverging\":[[0,\"#8e0152\"],[0.1,\"#c51b7d\"],[0.2,\"#de77ae\"],[0.3,\"#f1b6da\"],[0.4,\"#fde0ef\"],[0.5,\"#f7f7f7\"],[0.6,\"#e6f5d0\"],[0.7,\"#b8e186\"],[0.8,\"#7fbc41\"],[0.9,\"#4d9221\"],[1,\"#276419\"]]},\"xaxis\":{\"gridcolor\":\"white\",\"linecolor\":\"white\",\"ticks\":\"\",\"title\":{\"standoff\":15},\"zerolinecolor\":\"white\",\"automargin\":true,\"zerolinewidth\":2},\"yaxis\":{\"gridcolor\":\"white\",\"linecolor\":\"white\",\"ticks\":\"\",\"title\":{\"standoff\":15},\"zerolinecolor\":\"white\",\"automargin\":true,\"zerolinewidth\":2},\"scene\":{\"xaxis\":{\"backgroundcolor\":\"#E5ECF6\",\"gridcolor\":\"white\",\"linecolor\":\"white\",\"showbackground\":true,\"ticks\":\"\",\"zerolinecolor\":\"white\",\"gridwidth\":2},\"yaxis\":{\"backgroundcolor\":\"#E5ECF6\",\"gridcolor\":\"white\",\"linecolor\":\"white\",\"showbackground\":true,\"ticks\":\"\",\"zerolinecolor\":\"white\",\"gridwidth\":2},\"zaxis\":{\"backgroundcolor\":\"#E5ECF6\",\"gridcolor\":\"white\",\"linecolor\":\"white\",\"showbackground\":true,\"ticks\":\"\",\"zerolinecolor\":\"white\",\"gridwidth\":2}},\"shapedefaults\":{\"line\":{\"color\":\"#2a3f5f\"}},\"annotationdefaults\":{\"arrowcolor\":\"#2a3f5f\",\"arrowhead\":0,\"arrowwidth\":1},\"geo\":{\"bgcolor\":\"white\",\"landcolor\":\"#E5ECF6\",\"subunitcolor\":\"white\",\"showland\":true,\"showlakes\":true,\"lakecolor\":\"white\"},\"title\":{\"x\":0.05},\"mapbox\":{\"style\":\"light\"}}},\"xaxis\":{\"anchor\":\"y\",\"domain\":[0.0,0.082],\"title\":{\"text\":\"asymmetric_alpha\"}},\"yaxis\":{\"anchor\":\"x\",\"domain\":[0.0,1.0],\"title\":{\"text\":\"Objective Value\"}},\"xaxis2\":{\"anchor\":\"y2\",\"domain\":[0.10200000000000001,0.184],\"title\":{\"text\":\"feature_weighting\"},\"type\":\"category\",\"categoryorder\":\"array\",\"categoryarray\":[\"BM25\",\"TF-IDF\",\"none\"]},\"yaxis2\":{\"anchor\":\"x2\",\"domain\":[0.0,1.0],\"matches\":\"y\",\"showticklabels\":false},\"xaxis3\":{\"anchor\":\"y3\",\"domain\":[0.20400000000000001,0.28600000000000003],\"title\":{\"text\":\"normalize\"},\"type\":\"category\",\"categoryorder\":\"array\",\"categoryarray\":[true,false]},\"yaxis3\":{\"anchor\":\"x3\",\"domain\":[0.0,1.0],\"matches\":\"y\",\"showticklabels\":false},\"xaxis4\":{\"anchor\":\"y4\",\"domain\":[0.306,0.388],\"title\":{\"text\":\"normalize_avg_row\"},\"type\":\"category\",\"categoryorder\":\"array\",\"categoryarray\":[true,false]},\"yaxis4\":{\"anchor\":\"x4\",\"domain\":[0.0,1.0],\"matches\":\"y\",\"showticklabels\":false},\"xaxis5\":{\"anchor\":\"y5\",\"domain\":[0.40800000000000003,0.49000000000000005],\"title\":{\"text\":\"shrink\"}},\"yaxis5\":{\"anchor\":\"x5\",\"domain\":[0.0,1.0],\"matches\":\"y\",\"showticklabels\":false},\"xaxis6\":{\"anchor\":\"y6\",\"domain\":[0.51,0.592],\"title\":{\"text\":\"similarity\"},\"type\":\"category\",\"categoryorder\":\"array\",\"categoryarray\":[\"cosine\",\"dice\",\"jaccard\",\"asymmetric\",\"tversky\",\"euclidean\"]},\"yaxis6\":{\"anchor\":\"x6\",\"domain\":[0.0,1.0],\"matches\":\"y\",\"showticklabels\":false},\"xaxis7\":{\"anchor\":\"y7\",\"domain\":[0.6120000000000001,0.6940000000000001],\"title\":{\"text\":\"similarity_from_distance_mode\"},\"type\":\"category\",\"categoryorder\":\"array\",\"categoryarray\":[\"lin\",\"log\",\"exp\"]},\"yaxis7\":{\"anchor\":\"x7\",\"domain\":[0.0,1.0],\"matches\":\"y\",\"showticklabels\":false},\"xaxis8\":{\"anchor\":\"y8\",\"domain\":[0.7140000000000001,0.796],\"title\":{\"text\":\"topK\"}},\"yaxis8\":{\"anchor\":\"x8\",\"domain\":[0.0,1.0],\"matches\":\"y\",\"showticklabels\":false},\"xaxis9\":{\"anchor\":\"y9\",\"domain\":[0.8160000000000001,0.898],\"title\":{\"text\":\"tversky_alpha\"}},\"yaxis9\":{\"anchor\":\"x9\",\"domain\":[0.0,1.0],\"matches\":\"y\",\"showticklabels\":false},\"xaxis10\":{\"anchor\":\"y10\",\"domain\":[0.9179999999999999,0.9999999999999999],\"title\":{\"text\":\"tversky_beta\"}},\"yaxis10\":{\"anchor\":\"x10\",\"domain\":[0.0,1.0],\"matches\":\"y\",\"showticklabels\":false},\"title\":{\"text\":\"Slice Plot\"},\"width\":3000},                        {\"responsive\": true}                    ).then(function(){\n",
       "                            \n",
       "var gd = document.getElementById('726e90d3-f455-4a09-86dc-9481e05d0d9c');\n",
       "var x = new MutationObserver(function (mutations, observer) {{\n",
       "        var display = window.getComputedStyle(gd).display;\n",
       "        if (!display || display === 'none') {{\n",
       "            console.log([gd, 'removed!']);\n",
       "            Plotly.purge(gd);\n",
       "            observer.disconnect();\n",
       "        }}\n",
       "}});\n",
       "\n",
       "// Listen for the removal of the full notebook cells\n",
       "var notebookContainer = gd.closest('#notebook-container');\n",
       "if (notebookContainer) {{\n",
       "    x.observe(notebookContainer, {childList: true});\n",
       "}}\n",
       "\n",
       "// Listen for the clearing of the current output cell\n",
       "var outputEl = gd.closest('.output');\n",
       "if (outputEl) {{\n",
       "    x.observe(outputEl, {childList: true});\n",
       "}}\n",
       "\n",
       "                        })                };                });            </script>        </div>"
      ]
     },
     "metadata": {},
     "output_type": "display_data"
    }
   ],
   "source": [
    "if not config['tune_parameters']:\n",
    "    optuna_study = optuna.load_study(study_name=f'hyperparameters_tuning_{config[\"model\"]}_{config[\"metric\"]}', storage=f'sqlite:///{config[\"database_path\"]}')\n",
    "    \n",
    "fig = optuna.visualization.plot_slice(optuna_study)\n",
    "fig.show()"
   ]
  },
  {
   "cell_type": "code",
   "execution_count": 15,
   "id": "6165ce38",
   "metadata": {
    "execution": {
     "iopub.execute_input": "2024-12-16T13:50:33.120271Z",
     "iopub.status.busy": "2024-12-16T13:50:33.119868Z",
     "iopub.status.idle": "2024-12-16T13:50:43.381474Z",
     "shell.execute_reply": "2024-12-16T13:50:43.380393Z"
    },
    "papermill": {
     "duration": 10.295933,
     "end_time": "2024-12-16T13:50:43.384106",
     "exception": false,
     "start_time": "2024-12-16T13:50:33.088173",
     "status": "completed"
    },
    "tags": []
   },
   "outputs": [
    {
     "data": {
      "text/html": [
       "<div>                            <div id=\"80fa2aec-e14d-4b50-989a-ae569bd4b41f\" class=\"plotly-graph-div\" style=\"height:525px; width:100%;\"></div>            <script type=\"text/javascript\">                require([\"plotly\"], function(Plotly) {                    window.PLOTLYENV=window.PLOTLYENV || {};                                    if (document.getElementById(\"80fa2aec-e14d-4b50-989a-ae569bd4b41f\")) {                    Plotly.newPlot(                        \"80fa2aec-e14d-4b50-989a-ae569bd4b41f\",                        [{\"cliponaxis\":false,\"hovertemplate\":[\"shrink (IntDistribution): 0.018720315233797077\\u003cextra\\u003e\\u003c\\u002fextra\\u003e\",\"topK (IntDistribution): 0.04466336750645774\\u003cextra\\u003e\\u003c\\u002fextra\\u003e\",\"feature_weighting (CategoricalDistribution): 0.06223955467663147\\u003cextra\\u003e\\u003c\\u002fextra\\u003e\",\"similarity (CategoricalDistribution): 0.8743767625831137\\u003cextra\\u003e\\u003c\\u002fextra\\u003e\"],\"name\":\"Objective Value\",\"orientation\":\"h\",\"text\":[\"0.02\",\"0.04\",\"0.06\",\"0.87\"],\"textposition\":\"outside\",\"x\":[0.018720315233797077,0.04466336750645774,0.06223955467663147,0.8743767625831137],\"y\":[\"shrink\",\"topK\",\"feature_weighting\",\"similarity\"],\"type\":\"bar\"}],                        {\"title\":{\"text\":\"Hyperparameter Importances\"},\"xaxis\":{\"title\":{\"text\":\"Hyperparameter Importance\"}},\"yaxis\":{\"title\":{\"text\":\"Hyperparameter\"}},\"template\":{\"data\":{\"histogram2dcontour\":[{\"type\":\"histogram2dcontour\",\"colorbar\":{\"outlinewidth\":0,\"ticks\":\"\"},\"colorscale\":[[0.0,\"#0d0887\"],[0.1111111111111111,\"#46039f\"],[0.2222222222222222,\"#7201a8\"],[0.3333333333333333,\"#9c179e\"],[0.4444444444444444,\"#bd3786\"],[0.5555555555555556,\"#d8576b\"],[0.6666666666666666,\"#ed7953\"],[0.7777777777777778,\"#fb9f3a\"],[0.8888888888888888,\"#fdca26\"],[1.0,\"#f0f921\"]]}],\"choropleth\":[{\"type\":\"choropleth\",\"colorbar\":{\"outlinewidth\":0,\"ticks\":\"\"}}],\"histogram2d\":[{\"type\":\"histogram2d\",\"colorbar\":{\"outlinewidth\":0,\"ticks\":\"\"},\"colorscale\":[[0.0,\"#0d0887\"],[0.1111111111111111,\"#46039f\"],[0.2222222222222222,\"#7201a8\"],[0.3333333333333333,\"#9c179e\"],[0.4444444444444444,\"#bd3786\"],[0.5555555555555556,\"#d8576b\"],[0.6666666666666666,\"#ed7953\"],[0.7777777777777778,\"#fb9f3a\"],[0.8888888888888888,\"#fdca26\"],[1.0,\"#f0f921\"]]}],\"heatmap\":[{\"type\":\"heatmap\",\"colorbar\":{\"outlinewidth\":0,\"ticks\":\"\"},\"colorscale\":[[0.0,\"#0d0887\"],[0.1111111111111111,\"#46039f\"],[0.2222222222222222,\"#7201a8\"],[0.3333333333333333,\"#9c179e\"],[0.4444444444444444,\"#bd3786\"],[0.5555555555555556,\"#d8576b\"],[0.6666666666666666,\"#ed7953\"],[0.7777777777777778,\"#fb9f3a\"],[0.8888888888888888,\"#fdca26\"],[1.0,\"#f0f921\"]]}],\"heatmapgl\":[{\"type\":\"heatmapgl\",\"colorbar\":{\"outlinewidth\":0,\"ticks\":\"\"},\"colorscale\":[[0.0,\"#0d0887\"],[0.1111111111111111,\"#46039f\"],[0.2222222222222222,\"#7201a8\"],[0.3333333333333333,\"#9c179e\"],[0.4444444444444444,\"#bd3786\"],[0.5555555555555556,\"#d8576b\"],[0.6666666666666666,\"#ed7953\"],[0.7777777777777778,\"#fb9f3a\"],[0.8888888888888888,\"#fdca26\"],[1.0,\"#f0f921\"]]}],\"contourcarpet\":[{\"type\":\"contourcarpet\",\"colorbar\":{\"outlinewidth\":0,\"ticks\":\"\"}}],\"contour\":[{\"type\":\"contour\",\"colorbar\":{\"outlinewidth\":0,\"ticks\":\"\"},\"colorscale\":[[0.0,\"#0d0887\"],[0.1111111111111111,\"#46039f\"],[0.2222222222222222,\"#7201a8\"],[0.3333333333333333,\"#9c179e\"],[0.4444444444444444,\"#bd3786\"],[0.5555555555555556,\"#d8576b\"],[0.6666666666666666,\"#ed7953\"],[0.7777777777777778,\"#fb9f3a\"],[0.8888888888888888,\"#fdca26\"],[1.0,\"#f0f921\"]]}],\"surface\":[{\"type\":\"surface\",\"colorbar\":{\"outlinewidth\":0,\"ticks\":\"\"},\"colorscale\":[[0.0,\"#0d0887\"],[0.1111111111111111,\"#46039f\"],[0.2222222222222222,\"#7201a8\"],[0.3333333333333333,\"#9c179e\"],[0.4444444444444444,\"#bd3786\"],[0.5555555555555556,\"#d8576b\"],[0.6666666666666666,\"#ed7953\"],[0.7777777777777778,\"#fb9f3a\"],[0.8888888888888888,\"#fdca26\"],[1.0,\"#f0f921\"]]}],\"mesh3d\":[{\"type\":\"mesh3d\",\"colorbar\":{\"outlinewidth\":0,\"ticks\":\"\"}}],\"scatter\":[{\"fillpattern\":{\"fillmode\":\"overlay\",\"size\":10,\"solidity\":0.2},\"type\":\"scatter\"}],\"parcoords\":[{\"type\":\"parcoords\",\"line\":{\"colorbar\":{\"outlinewidth\":0,\"ticks\":\"\"}}}],\"scatterpolargl\":[{\"type\":\"scatterpolargl\",\"marker\":{\"colorbar\":{\"outlinewidth\":0,\"ticks\":\"\"}}}],\"bar\":[{\"error_x\":{\"color\":\"#2a3f5f\"},\"error_y\":{\"color\":\"#2a3f5f\"},\"marker\":{\"line\":{\"color\":\"#E5ECF6\",\"width\":0.5},\"pattern\":{\"fillmode\":\"overlay\",\"size\":10,\"solidity\":0.2}},\"type\":\"bar\"}],\"scattergeo\":[{\"type\":\"scattergeo\",\"marker\":{\"colorbar\":{\"outlinewidth\":0,\"ticks\":\"\"}}}],\"scatterpolar\":[{\"type\":\"scatterpolar\",\"marker\":{\"colorbar\":{\"outlinewidth\":0,\"ticks\":\"\"}}}],\"histogram\":[{\"marker\":{\"pattern\":{\"fillmode\":\"overlay\",\"size\":10,\"solidity\":0.2}},\"type\":\"histogram\"}],\"scattergl\":[{\"type\":\"scattergl\",\"marker\":{\"colorbar\":{\"outlinewidth\":0,\"ticks\":\"\"}}}],\"scatter3d\":[{\"type\":\"scatter3d\",\"line\":{\"colorbar\":{\"outlinewidth\":0,\"ticks\":\"\"}},\"marker\":{\"colorbar\":{\"outlinewidth\":0,\"ticks\":\"\"}}}],\"scattermapbox\":[{\"type\":\"scattermapbox\",\"marker\":{\"colorbar\":{\"outlinewidth\":0,\"ticks\":\"\"}}}],\"scatterternary\":[{\"type\":\"scatterternary\",\"marker\":{\"colorbar\":{\"outlinewidth\":0,\"ticks\":\"\"}}}],\"scattercarpet\":[{\"type\":\"scattercarpet\",\"marker\":{\"colorbar\":{\"outlinewidth\":0,\"ticks\":\"\"}}}],\"carpet\":[{\"aaxis\":{\"endlinecolor\":\"#2a3f5f\",\"gridcolor\":\"white\",\"linecolor\":\"white\",\"minorgridcolor\":\"white\",\"startlinecolor\":\"#2a3f5f\"},\"baxis\":{\"endlinecolor\":\"#2a3f5f\",\"gridcolor\":\"white\",\"linecolor\":\"white\",\"minorgridcolor\":\"white\",\"startlinecolor\":\"#2a3f5f\"},\"type\":\"carpet\"}],\"table\":[{\"cells\":{\"fill\":{\"color\":\"#EBF0F8\"},\"line\":{\"color\":\"white\"}},\"header\":{\"fill\":{\"color\":\"#C8D4E3\"},\"line\":{\"color\":\"white\"}},\"type\":\"table\"}],\"barpolar\":[{\"marker\":{\"line\":{\"color\":\"#E5ECF6\",\"width\":0.5},\"pattern\":{\"fillmode\":\"overlay\",\"size\":10,\"solidity\":0.2}},\"type\":\"barpolar\"}],\"pie\":[{\"automargin\":true,\"type\":\"pie\"}]},\"layout\":{\"autotypenumbers\":\"strict\",\"colorway\":[\"#636efa\",\"#EF553B\",\"#00cc96\",\"#ab63fa\",\"#FFA15A\",\"#19d3f3\",\"#FF6692\",\"#B6E880\",\"#FF97FF\",\"#FECB52\"],\"font\":{\"color\":\"#2a3f5f\"},\"hovermode\":\"closest\",\"hoverlabel\":{\"align\":\"left\"},\"paper_bgcolor\":\"white\",\"plot_bgcolor\":\"#E5ECF6\",\"polar\":{\"bgcolor\":\"#E5ECF6\",\"angularaxis\":{\"gridcolor\":\"white\",\"linecolor\":\"white\",\"ticks\":\"\"},\"radialaxis\":{\"gridcolor\":\"white\",\"linecolor\":\"white\",\"ticks\":\"\"}},\"ternary\":{\"bgcolor\":\"#E5ECF6\",\"aaxis\":{\"gridcolor\":\"white\",\"linecolor\":\"white\",\"ticks\":\"\"},\"baxis\":{\"gridcolor\":\"white\",\"linecolor\":\"white\",\"ticks\":\"\"},\"caxis\":{\"gridcolor\":\"white\",\"linecolor\":\"white\",\"ticks\":\"\"}},\"coloraxis\":{\"colorbar\":{\"outlinewidth\":0,\"ticks\":\"\"}},\"colorscale\":{\"sequential\":[[0.0,\"#0d0887\"],[0.1111111111111111,\"#46039f\"],[0.2222222222222222,\"#7201a8\"],[0.3333333333333333,\"#9c179e\"],[0.4444444444444444,\"#bd3786\"],[0.5555555555555556,\"#d8576b\"],[0.6666666666666666,\"#ed7953\"],[0.7777777777777778,\"#fb9f3a\"],[0.8888888888888888,\"#fdca26\"],[1.0,\"#f0f921\"]],\"sequentialminus\":[[0.0,\"#0d0887\"],[0.1111111111111111,\"#46039f\"],[0.2222222222222222,\"#7201a8\"],[0.3333333333333333,\"#9c179e\"],[0.4444444444444444,\"#bd3786\"],[0.5555555555555556,\"#d8576b\"],[0.6666666666666666,\"#ed7953\"],[0.7777777777777778,\"#fb9f3a\"],[0.8888888888888888,\"#fdca26\"],[1.0,\"#f0f921\"]],\"diverging\":[[0,\"#8e0152\"],[0.1,\"#c51b7d\"],[0.2,\"#de77ae\"],[0.3,\"#f1b6da\"],[0.4,\"#fde0ef\"],[0.5,\"#f7f7f7\"],[0.6,\"#e6f5d0\"],[0.7,\"#b8e186\"],[0.8,\"#7fbc41\"],[0.9,\"#4d9221\"],[1,\"#276419\"]]},\"xaxis\":{\"gridcolor\":\"white\",\"linecolor\":\"white\",\"ticks\":\"\",\"title\":{\"standoff\":15},\"zerolinecolor\":\"white\",\"automargin\":true,\"zerolinewidth\":2},\"yaxis\":{\"gridcolor\":\"white\",\"linecolor\":\"white\",\"ticks\":\"\",\"title\":{\"standoff\":15},\"zerolinecolor\":\"white\",\"automargin\":true,\"zerolinewidth\":2},\"scene\":{\"xaxis\":{\"backgroundcolor\":\"#E5ECF6\",\"gridcolor\":\"white\",\"linecolor\":\"white\",\"showbackground\":true,\"ticks\":\"\",\"zerolinecolor\":\"white\",\"gridwidth\":2},\"yaxis\":{\"backgroundcolor\":\"#E5ECF6\",\"gridcolor\":\"white\",\"linecolor\":\"white\",\"showbackground\":true,\"ticks\":\"\",\"zerolinecolor\":\"white\",\"gridwidth\":2},\"zaxis\":{\"backgroundcolor\":\"#E5ECF6\",\"gridcolor\":\"white\",\"linecolor\":\"white\",\"showbackground\":true,\"ticks\":\"\",\"zerolinecolor\":\"white\",\"gridwidth\":2}},\"shapedefaults\":{\"line\":{\"color\":\"#2a3f5f\"}},\"annotationdefaults\":{\"arrowcolor\":\"#2a3f5f\",\"arrowhead\":0,\"arrowwidth\":1},\"geo\":{\"bgcolor\":\"white\",\"landcolor\":\"#E5ECF6\",\"subunitcolor\":\"white\",\"showland\":true,\"showlakes\":true,\"lakecolor\":\"white\"},\"title\":{\"x\":0.05},\"mapbox\":{\"style\":\"light\"}}}},                        {\"responsive\": true}                    ).then(function(){\n",
       "                            \n",
       "var gd = document.getElementById('80fa2aec-e14d-4b50-989a-ae569bd4b41f');\n",
       "var x = new MutationObserver(function (mutations, observer) {{\n",
       "        var display = window.getComputedStyle(gd).display;\n",
       "        if (!display || display === 'none') {{\n",
       "            console.log([gd, 'removed!']);\n",
       "            Plotly.purge(gd);\n",
       "            observer.disconnect();\n",
       "        }}\n",
       "}});\n",
       "\n",
       "// Listen for the removal of the full notebook cells\n",
       "var notebookContainer = gd.closest('#notebook-container');\n",
       "if (notebookContainer) {{\n",
       "    x.observe(notebookContainer, {childList: true});\n",
       "}}\n",
       "\n",
       "// Listen for the clearing of the current output cell\n",
       "var outputEl = gd.closest('.output');\n",
       "if (outputEl) {{\n",
       "    x.observe(outputEl, {childList: true});\n",
       "}}\n",
       "\n",
       "                        })                };                });            </script>        </div>"
      ]
     },
     "metadata": {},
     "output_type": "display_data"
    }
   ],
   "source": [
    "if not config['tune_parameters']:\n",
    "    optuna_study = optuna.load_study(study_name=f'hyperparameters_tuning_{config[\"model\"]}_{config[\"metric\"]}', storage=f'sqlite:///{config[\"database_path\"]}')\n",
    "    \n",
    "fig = optuna.visualization.plot_param_importances(optuna_study)\n",
    "fig.show()"
   ]
  },
  {
   "cell_type": "markdown",
   "id": "a16fb17d",
   "metadata": {
    "papermill": {
     "duration": 0.031963,
     "end_time": "2024-12-16T13:50:43.447524",
     "exception": false,
     "start_time": "2024-12-16T13:50:43.415561",
     "status": "completed"
    },
    "tags": []
   },
   "source": [
    "## Let's train the recommender with best parameter values"
   ]
  },
  {
   "cell_type": "code",
   "execution_count": 16,
   "id": "8178805f",
   "metadata": {
    "execution": {
     "iopub.execute_input": "2024-12-16T13:50:43.510730Z",
     "iopub.status.busy": "2024-12-16T13:50:43.510351Z",
     "iopub.status.idle": "2024-12-16T13:51:00.377016Z",
     "shell.execute_reply": "2024-12-16T13:51:00.375667Z"
    },
    "papermill": {
     "duration": 16.901315,
     "end_time": "2024-12-16T13:51:00.379773",
     "exception": false,
     "start_time": "2024-12-16T13:50:43.478458",
     "status": "completed"
    },
    "tags": []
   },
   "outputs": [
    {
     "name": "stdout",
     "output_type": "stream",
     "text": [
      "Similarity column 38121 (100.0%), 2334.44 column/sec. Elapsed time 16.33 sec\n"
     ]
    }
   ],
   "source": [
    "if config['tune_best_params']:\n",
    "\n",
    "    if config['tune_parameters']:\n",
    "        best_params = optuna_study.best_trial.params\n",
    "    else: \n",
    "        with open(f'{K_PATH}/{GH_PATH}/{config[\"model\"]}Recommender/Optimizing{config[\"metric\"]}/best_params_{config[\"model\"]}_{config[\"metric\"]}.json', 'r') as best_params_json:\n",
    "            best_params = json.load(best_params_json)\n",
    "\n",
    "    recommender_instance = ItemKNNCFRecommender(URM_train + URM_validation)\n",
    "    recommender_instance.fit(**best_params)"
   ]
  },
  {
   "cell_type": "markdown",
   "id": "5164f9b6",
   "metadata": {
    "papermill": {
     "duration": 0.030531,
     "end_time": "2024-12-16T13:51:00.441749",
     "exception": false,
     "start_time": "2024-12-16T13:51:00.411218",
     "status": "completed"
    },
    "tags": []
   },
   "source": [
    "# Testing"
   ]
  },
  {
   "cell_type": "markdown",
   "id": "6ce5a9d5",
   "metadata": {
    "papermill": {
     "duration": 0.030725,
     "end_time": "2024-12-16T13:51:00.503043",
     "exception": false,
     "start_time": "2024-12-16T13:51:00.472318",
     "status": "completed"
    },
    "tags": []
   },
   "source": [
    "Create the recommendations for the submission. "
   ]
  },
  {
   "cell_type": "code",
   "execution_count": 17,
   "id": "33b9bb61",
   "metadata": {
    "execution": {
     "iopub.execute_input": "2024-12-16T13:51:00.568529Z",
     "iopub.status.busy": "2024-12-16T13:51:00.568136Z",
     "iopub.status.idle": "2024-12-16T13:51:22.463514Z",
     "shell.execute_reply": "2024-12-16T13:51:22.462133Z"
    },
    "papermill": {
     "duration": 21.934571,
     "end_time": "2024-12-16T13:51:22.469472",
     "exception": false,
     "start_time": "2024-12-16T13:51:00.534901",
     "status": "completed"
    },
    "tags": []
   },
   "outputs": [
    {
     "name": "stdout",
     "output_type": "stream",
     "text": [
      "Submission file saved as /kaggle/working/submission_ItemKNNCF_Recall.csv\n"
     ]
    }
   ],
   "source": [
    "if config['tune_best_params']:\n",
    "\n",
    "    data_target_users_test = pd.read_csv('/kaggle/input/recommender-system-2024-challenge-polimi/data_target_users_test.csv')\n",
    "    create_submission(data_target_users_test, recommender_instance, f'/kaggle/working/submission_{config[\"model\"]}_{config[\"metric\"]}.csv')"
   ]
  },
  {
   "cell_type": "markdown",
   "id": "5da1e90c",
   "metadata": {
    "execution": {
     "iopub.execute_input": "2024-11-14T00:04:16.877791Z",
     "iopub.status.busy": "2024-11-14T00:04:16.877275Z",
     "iopub.status.idle": "2024-11-14T00:04:16.883170Z",
     "shell.execute_reply": "2024-11-14T00:04:16.881889Z",
     "shell.execute_reply.started": "2024-11-14T00:04:16.877743Z"
    },
    "papermill": {
     "duration": 0.037008,
     "end_time": "2024-12-16T13:51:22.548454",
     "exception": false,
     "start_time": "2024-12-16T13:51:22.511446",
     "status": "completed"
    },
    "tags": []
   },
   "source": [
    "# Save Version on GitHub "
   ]
  },
  {
   "cell_type": "markdown",
   "id": "0601db1a",
   "metadata": {
    "papermill": {
     "duration": 0.036657,
     "end_time": "2024-12-16T13:51:22.620663",
     "exception": false,
     "start_time": "2024-12-16T13:51:22.584006",
     "status": "completed"
    },
    "tags": []
   },
   "source": [
    "Write or import a json file where best hyperparameters are saved. "
   ]
  },
  {
   "cell_type": "code",
   "execution_count": 18,
   "id": "b2000076",
   "metadata": {
    "execution": {
     "iopub.execute_input": "2024-12-16T13:51:22.696262Z",
     "iopub.status.busy": "2024-12-16T13:51:22.695824Z",
     "iopub.status.idle": "2024-12-16T13:51:24.069980Z",
     "shell.execute_reply": "2024-12-16T13:51:24.068664Z"
    },
    "papermill": {
     "duration": 1.415133,
     "end_time": "2024-12-16T13:51:24.072542",
     "exception": false,
     "start_time": "2024-12-16T13:51:22.657409",
     "status": "completed"
    },
    "tags": []
   },
   "outputs": [
    {
     "name": "stdout",
     "output_type": "stream",
     "text": [
      "File 'TrainedModels/WithoutKFCV/KNN/ItemKNNCFRecommender/OptimizingRecall/best_params_ItemKNNCF_Recall.json' updated successfully.\n"
     ]
    }
   ],
   "source": [
    "if config['tune_parameters']:\n",
    "    with open(f'/kaggle/working/best_params_{config[\"model\"]}_{config[\"metric\"]}.json', 'w') as params_file:\n",
    "        json.dump(optuna_study.best_params, params_file)\n",
    "        \n",
    "    if config['save_github']:\n",
    "        upload_file(\n",
    "            f'/kaggle/working/best_params_{config[\"model\"]}_{config[\"metric\"]}.json', \n",
    "            f'{GH_PATH}/{config[\"model\"]}Recommender/Optimizing{config[\"metric\"]}/best_params_{config[\"model\"]}_{config[\"metric\"]}.json', \n",
    "            f'{config[\"model\"]}_{config[\"metric\"]} tuning results (from kaggle notebook)',\n",
    "            repo\n",
    "        )\n",
    "elif config['copy_prev_best_params']:\n",
    "    shutil.copyfile(\n",
    "        f'{K_PATH}/{GH_PATH}/{config[\"model\"]}Recommender/Optimizing{config[\"metric\"]}/'\\\n",
    "        f'best_params_{config[\"model\"]}_{config[\"metric\"]}.json', \n",
    "        f'/kaggle/working/best_params_{config[\"model\"]}_{config[\"metric\"]}.json'\n",
    "    )"
   ]
  },
  {
   "cell_type": "markdown",
   "id": "746b9434",
   "metadata": {
    "papermill": {
     "duration": 0.036415,
     "end_time": "2024-12-16T13:51:24.147265",
     "exception": false,
     "start_time": "2024-12-16T13:51:24.110850",
     "status": "completed"
    },
    "tags": []
   },
   "source": [
    "Save the history of the tuned model."
   ]
  },
  {
   "cell_type": "code",
   "execution_count": 19,
   "id": "68708615",
   "metadata": {
    "execution": {
     "iopub.execute_input": "2024-12-16T13:51:24.223121Z",
     "iopub.status.busy": "2024-12-16T13:51:24.222697Z",
     "iopub.status.idle": "2024-12-16T13:51:26.802061Z",
     "shell.execute_reply": "2024-12-16T13:51:26.800756Z"
    },
    "papermill": {
     "duration": 2.620987,
     "end_time": "2024-12-16T13:51:26.805452",
     "exception": false,
     "start_time": "2024-12-16T13:51:24.184465",
     "status": "completed"
    },
    "tags": []
   },
   "outputs": [
    {
     "name": "stdout",
     "output_type": "stream",
     "text": [
      "File 'TrainedModels/WithoutKFCV/KNN/ItemKNNCFRecommender/OptimizingRecall/history_ItemKNNCF_Recall.db' updated successfully.\n"
     ]
    }
   ],
   "source": [
    "if config['save_github'] and config['tune_parameters']:\n",
    "    upload_file(\n",
    "        config['database_path'], \n",
    "        f'{GH_PATH}/{config[\"model\"]}Recommender/Optimizing{config[\"metric\"]}/history_{config[\"model\"]}_{config[\"metric\"]}.db',\n",
    "        f'Tuning {config[\"model\"]}_{config[\"metric\"]} db updated results (from kaggle notebook)',\n",
    "        repo\n",
    "    )"
   ]
  },
  {
   "cell_type": "markdown",
   "id": "11036952",
   "metadata": {
    "execution": {
     "iopub.execute_input": "2024-11-14T00:41:34.294243Z",
     "iopub.status.busy": "2024-11-14T00:41:34.293739Z",
     "iopub.status.idle": "2024-11-14T00:41:34.301478Z",
     "shell.execute_reply": "2024-11-14T00:41:34.299869Z",
     "shell.execute_reply.started": "2024-11-14T00:41:34.294186Z"
    },
    "papermill": {
     "duration": 0.031475,
     "end_time": "2024-12-16T13:51:26.869730",
     "exception": false,
     "start_time": "2024-12-16T13:51:26.838255",
     "status": "completed"
    },
    "tags": []
   },
   "source": [
    "Save the best trained model and its submission."
   ]
  },
  {
   "cell_type": "code",
   "execution_count": 20,
   "id": "5fbacc43",
   "metadata": {
    "execution": {
     "iopub.execute_input": "2024-12-16T13:51:26.936310Z",
     "iopub.status.busy": "2024-12-16T13:51:26.935798Z",
     "iopub.status.idle": "2024-12-16T13:51:30.034435Z",
     "shell.execute_reply": "2024-12-16T13:51:30.033047Z"
    },
    "papermill": {
     "duration": 3.135797,
     "end_time": "2024-12-16T13:51:30.036975",
     "exception": false,
     "start_time": "2024-12-16T13:51:26.901178",
     "status": "completed"
    },
    "tags": []
   },
   "outputs": [
    {
     "name": "stdout",
     "output_type": "stream",
     "text": [
      "File 'TrainedModels/WithoutKFCV/KNN/ItemKNNCFRecommender/OptimizingRecall/Submission/submission_ItemKNNCF_Recall.csv' updated successfully.\n"
     ]
    }
   ],
   "source": [
    "if config['save_github'] and config['tune_best_params']: \n",
    "    upload_file(\n",
    "                f'/kaggle/working/submission_{config[\"model\"]}_{config[\"metric\"]}.csv', \n",
    "                f'{GH_PATH}/{config[\"model\"]}Recommender/Optimizing{config[\"metric\"]}/Submission/submission_{config[\"model\"]}_{config[\"metric\"]}.csv', \n",
    "                f'New {config[\"model\"]}_{config[\"metric\"]} submission (from kaggle notebook)',\n",
    "                repo\n",
    "            )"
   ]
  }
 ],
 "metadata": {
  "kaggle": {
   "accelerator": "none",
   "dataSources": [
    {
     "databundleVersionId": 9982103,
     "sourceId": 87439,
     "sourceType": "competition"
    }
   ],
   "dockerImageVersionId": 30804,
   "isGpuEnabled": false,
   "isInternetEnabled": true,
   "language": "python",
   "sourceType": "notebook"
  },
  "kernelspec": {
   "display_name": "Python 3",
   "language": "python",
   "name": "python3"
  },
  "language_info": {
   "codemirror_mode": {
    "name": "ipython",
    "version": 3
   },
   "file_extension": ".py",
   "mimetype": "text/x-python",
   "name": "python",
   "nbconvert_exporter": "python",
   "pygments_lexer": "ipython3",
   "version": "3.10.14"
  },
  "papermill": {
   "default_parameters": {},
   "duration": 5772.385213,
   "end_time": "2024-12-16T13:51:31.500779",
   "environment_variables": {},
   "exception": null,
   "input_path": "__notebook__.ipynb",
   "output_path": "__notebook__.ipynb",
   "parameters": {},
   "start_time": "2024-12-16T12:15:19.115566",
   "version": "2.6.0"
  }
 },
 "nbformat": 4,
 "nbformat_minor": 5
}
