{
 "cells": [
  {
   "cell_type": "markdown",
   "id": "d3c6dcac",
   "metadata": {
    "papermill": {
     "duration": 0.006617,
     "end_time": "2024-12-16T12:38:50.584066",
     "exception": false,
     "start_time": "2024-12-16T12:38:50.577449",
     "status": "completed"
    },
    "tags": []
   },
   "source": [
    "# Set connection with GitHub"
   ]
  },
  {
   "cell_type": "code",
   "execution_count": 1,
   "id": "9ed8860b",
   "metadata": {
    "execution": {
     "iopub.execute_input": "2024-12-16T12:38:50.597767Z",
     "iopub.status.busy": "2024-12-16T12:38:50.597376Z",
     "iopub.status.idle": "2024-12-16T12:38:50.603256Z",
     "shell.execute_reply": "2024-12-16T12:38:50.602123Z"
    },
    "papermill": {
     "duration": 0.015431,
     "end_time": "2024-12-16T12:38:50.605622",
     "exception": false,
     "start_time": "2024-12-16T12:38:50.590191",
     "status": "completed"
    },
    "tags": []
   },
   "outputs": [],
   "source": [
    "# ! cd /kaggle/working && rm -rf RECsys_Challenge2024"
   ]
  },
  {
   "cell_type": "code",
   "execution_count": 2,
   "id": "134fa728",
   "metadata": {
    "_cell_guid": "b1076dfc-b9ad-4769-8c92-a6c4dae69d19",
    "_uuid": "8f2839f25d086af736a60e9eeb907d3b93b6e0e5",
    "execution": {
     "iopub.execute_input": "2024-12-16T12:38:50.620970Z",
     "iopub.status.busy": "2024-12-16T12:38:50.620571Z",
     "iopub.status.idle": "2024-12-16T12:39:01.357387Z",
     "shell.execute_reply": "2024-12-16T12:39:01.356039Z"
    },
    "papermill": {
     "duration": 10.748341,
     "end_time": "2024-12-16T12:39:01.359989",
     "exception": false,
     "start_time": "2024-12-16T12:38:50.611648",
     "status": "completed"
    },
    "tags": []
   },
   "outputs": [
    {
     "name": "stdout",
     "output_type": "stream",
     "text": [
      "Cloning into 'RECsys_Challenge2024'...\r\n",
      "remote: Enumerating objects: 4251, done.\u001b[K\r\n",
      "remote: Counting objects: 100% (1724/1724), done.\u001b[K\r\n",
      "remote: Compressing objects: 100% (637/637), done.\u001b[K\r\n",
      "remote: Total 4251 (delta 918), reused 1560 (delta 841), pack-reused 2527 (from 1)\u001b[K\r\n",
      "Receiving objects: 100% (4251/4251), 171.96 MiB | 29.40 MiB/s, done.\r\n",
      "Resolving deltas: 100% (2437/2437), done.\r\n",
      "Updating files: 100% (395/395), done.\r\n"
     ]
    }
   ],
   "source": [
    "from kaggle_secrets import UserSecretsClient\n",
    "\n",
    "token = UserSecretsClient().get_secret(\"Token\")\n",
    "\n",
    "! git clone https://{token}@github.com/madratak/RECsys_Challenge2024.git"
   ]
  },
  {
   "cell_type": "code",
   "execution_count": 3,
   "id": "8dc10d6a",
   "metadata": {
    "execution": {
     "iopub.execute_input": "2024-12-16T12:39:01.380593Z",
     "iopub.status.busy": "2024-12-16T12:39:01.380212Z",
     "iopub.status.idle": "2024-12-16T12:39:14.218854Z",
     "shell.execute_reply": "2024-12-16T12:39:14.217447Z"
    },
    "papermill": {
     "duration": 12.852244,
     "end_time": "2024-12-16T12:39:14.221811",
     "exception": false,
     "start_time": "2024-12-16T12:39:01.369567",
     "status": "completed"
    },
    "tags": []
   },
   "outputs": [
    {
     "name": "stdout",
     "output_type": "stream",
     "text": [
      "Collecting PyGithub\r\n",
      "  Downloading PyGithub-2.5.0-py3-none-any.whl.metadata (3.9 kB)\r\n",
      "Requirement already satisfied: requests in /opt/conda/lib/python3.10/site-packages (2.32.3)\r\n",
      "Collecting pynacl>=1.4.0 (from PyGithub)\r\n",
      "  Downloading PyNaCl-1.5.0-cp36-abi3-manylinux_2_17_x86_64.manylinux2014_x86_64.manylinux_2_24_x86_64.whl.metadata (8.6 kB)\r\n",
      "Requirement already satisfied: pyjwt>=2.4.0 in /opt/conda/lib/python3.10/site-packages (from pyjwt[crypto]>=2.4.0->PyGithub) (2.8.0)\r\n",
      "Requirement already satisfied: typing-extensions>=4.0.0 in /opt/conda/lib/python3.10/site-packages (from PyGithub) (4.12.2)\r\n",
      "Requirement already satisfied: urllib3>=1.26.0 in /opt/conda/lib/python3.10/site-packages (from PyGithub) (1.26.18)\r\n",
      "Requirement already satisfied: Deprecated in /opt/conda/lib/python3.10/site-packages (from PyGithub) (1.2.14)\r\n",
      "Requirement already satisfied: charset-normalizer<4,>=2 in /opt/conda/lib/python3.10/site-packages (from requests) (3.3.2)\r\n",
      "Requirement already satisfied: idna<4,>=2.5 in /opt/conda/lib/python3.10/site-packages (from requests) (3.7)\r\n",
      "Requirement already satisfied: certifi>=2017.4.17 in /opt/conda/lib/python3.10/site-packages (from requests) (2024.6.2)\r\n",
      "Requirement already satisfied: cryptography>=3.4.0 in /opt/conda/lib/python3.10/site-packages (from pyjwt[crypto]>=2.4.0->PyGithub) (42.0.8)\r\n",
      "Requirement already satisfied: cffi>=1.4.1 in /opt/conda/lib/python3.10/site-packages (from pynacl>=1.4.0->PyGithub) (1.16.0)\r\n",
      "Requirement already satisfied: wrapt<2,>=1.10 in /opt/conda/lib/python3.10/site-packages (from Deprecated->PyGithub) (1.16.0)\r\n",
      "Requirement already satisfied: pycparser in /opt/conda/lib/python3.10/site-packages (from cffi>=1.4.1->pynacl>=1.4.0->PyGithub) (2.22)\r\n",
      "Downloading PyGithub-2.5.0-py3-none-any.whl (375 kB)\r\n",
      "\u001b[2K   \u001b[90m━━━━━━━━━━━━━━━━━━━━━━━━━━━━━━━━━━━━━━━━\u001b[0m \u001b[32m375.9/375.9 kB\u001b[0m \u001b[31m8.9 MB/s\u001b[0m eta \u001b[36m0:00:00\u001b[0m\r\n",
      "\u001b[?25hDownloading PyNaCl-1.5.0-cp36-abi3-manylinux_2_17_x86_64.manylinux2014_x86_64.manylinux_2_24_x86_64.whl (856 kB)\r\n",
      "\u001b[2K   \u001b[90m━━━━━━━━━━━━━━━━━━━━━━━━━━━━━━━━━━━━━━━━\u001b[0m \u001b[32m856.7/856.7 kB\u001b[0m \u001b[31m31.5 MB/s\u001b[0m eta \u001b[36m0:00:00\u001b[0m\r\n",
      "\u001b[?25hInstalling collected packages: pynacl, PyGithub\r\n",
      "Successfully installed PyGithub-2.5.0 pynacl-1.5.0\r\n"
     ]
    }
   ],
   "source": [
    "! pip install PyGithub requests"
   ]
  },
  {
   "cell_type": "code",
   "execution_count": 4,
   "id": "a8577fe9",
   "metadata": {
    "_kg_hide-input": false,
    "execution": {
     "iopub.execute_input": "2024-12-16T12:39:14.243877Z",
     "iopub.status.busy": "2024-12-16T12:39:14.243440Z",
     "iopub.status.idle": "2024-12-16T12:41:50.114046Z",
     "shell.execute_reply": "2024-12-16T12:41:50.112849Z"
    },
    "papermill": {
     "duration": 155.884666,
     "end_time": "2024-12-16T12:41:50.116643",
     "exception": false,
     "start_time": "2024-12-16T12:39:14.231977",
     "status": "completed"
    },
    "tags": []
   },
   "outputs": [
    {
     "name": "stdout",
     "output_type": "stream",
     "text": [
      "/kaggle/working/RECsys_Challenge2024\n",
      "run_compile_all_cython: Found 11 Cython files in 5 folders...\r\n",
      "run_compile_all_cython: All files will be compiled using your current python environment: '/opt/conda/bin/python'\r\n",
      "Compiling [1/11]: MatrixFactorizationImpressions_Cython_Epoch.pyx... \r\n",
      "In file included from \u001b[01m\u001b[K/opt/conda/lib/python3.10/site-packages/numpy/core/include/numpy/ndarraytypes.h:1929\u001b[m\u001b[K,\r\n",
      "                 from \u001b[01m\u001b[K/opt/conda/lib/python3.10/site-packages/numpy/core/include/numpy/ndarrayobject.h:12\u001b[m\u001b[K,\r\n",
      "                 from \u001b[01m\u001b[K/opt/conda/lib/python3.10/site-packages/numpy/core/include/numpy/arrayobject.h:5\u001b[m\u001b[K,\r\n",
      "                 from \u001b[01m\u001b[KMatrixFactorizationImpressions_Cython_Epoch.c:1252\u001b[m\u001b[K:\r\n",
      "\u001b[01m\u001b[K/opt/conda/lib/python3.10/site-packages/numpy/core/include/numpy/npy_1_7_deprecated_api.h:17:2:\u001b[m\u001b[K \u001b[01;35m\u001b[Kwarning: \u001b[m\u001b[K#warning \"Using deprecated NumPy API, disable it with \" \"#define NPY_NO_DEPRECATED_API NPY_1_7_API_VERSION\" [\u001b[01;35m\u001b[K-Wcpp\u001b[m\u001b[K]\r\n",
      "   17 | #\u001b[01;35m\u001b[Kwarning\u001b[m\u001b[K \"Using deprecated NumPy API, disable it with \" \\\r\n",
      "      |  \u001b[01;35m\u001b[K^~~~~~~\u001b[m\u001b[K\r\n",
      "\u001b[01m\u001b[KMatrixFactorizationImpressions_Cython_Epoch.c:\u001b[m\u001b[K In function '\u001b[01m\u001b[K__pyx_f_43MatrixFactorizationImpressions_Cython_Epoch_32MatrixFactorization_Cython_Epoch_sampleBPR_Cython\u001b[m\u001b[K':\r\n",
      "\u001b[01m\u001b[KMatrixFactorizationImpressions_Cython_Epoch.c:30351:17:\u001b[m\u001b[K \u001b[01;35m\u001b[Kwarning: \u001b[m\u001b[K'\u001b[01m\u001b[K__pyx_v_start_pos_impression_items\u001b[m\u001b[K' may be used uninitialized in this function [\u001b[01;35m\u001b[K-Wmaybe-uninitialized\u001b[m\u001b[K]\r\n",
      "30351 |       \u001b[01;35m\u001b[K__pyx_t_4 = (__pyx_v_start_pos_impression_items + __pyx_v_index)\u001b[m\u001b[K;\r\n",
      "      |       \u001b[01;35m\u001b[K~~~~~~~~~~^~~~~~~~~~~~~~~~~~~~~~~~~~~~~~~~~~~~~~~~~~~~~~~~~~~~~~\u001b[m\u001b[K\r\n",
      "\u001b[01m\u001b[KMatrixFactorizationImpressions_Cython_Epoch.c:\u001b[m\u001b[K In function '\u001b[01m\u001b[K__pyx_pf_43MatrixFactorizationImpressions_Cython_Epoch_32MatrixFactorization_Cython_Epoch_10epochIteration_Cython_ASY_SVD_SGD\u001b[m\u001b[K':\r\n",
      "\u001b[01m\u001b[KMatrixFactorizationImpressions_Cython_Epoch.c:26111:7:\u001b[m\u001b[K \u001b[01;35m\u001b[Kwarning: \u001b[m\u001b[K'\u001b[01m\u001b[K__pyx_v_end_pos_seen_items\u001b[m\u001b[K' may be used uninitialized in this function [\u001b[01;35m\u001b[K-Wmaybe-uninitialized\u001b[m\u001b[K]\r\n",
      "26111 |       \u001b[01;35m\u001b[Kfor\u001b[m\u001b[K (__pyx_t_21 = __pyx_v_start_pos_seen_items; __pyx_t_21 < __pyx_t_20; __pyx_t_21+=1) {\r\n",
      "      |       \u001b[01;35m\u001b[K^~~\u001b[m\u001b[K\r\n",
      "\u001b[01m\u001b[KMatrixFactorizationImpressions_Cython_Epoch.c:26111:7:\u001b[m\u001b[K \u001b[01;35m\u001b[Kwarning: \u001b[m\u001b[K'\u001b[01m\u001b[K__pyx_v_start_pos_seen_items\u001b[m\u001b[K' may be used uninitialized in this function [\u001b[01;35m\u001b[K-Wmaybe-uninitialized\u001b[m\u001b[K]\r\n",
      "/opt/conda/lib/python3.10/site-packages/Cython/Compiler/Main.py:381: FutureWarning: Cython directive 'language_level' not set, using '3str' for now (Py3). This has changed from earlier releases! File: /kaggle/working/RECsys_Challenge2024/Recommenders/MatrixFactorization/Cython/MatrixFactorizationImpressions_Cython_Epoch.pyx\r\n",
      "  tree = Parsing.p_module(s, pxd, full_module_name)\r\n",
      "Compiling [1/11]: MatrixFactorizationImpressions_Cython_Epoch.pyx... PASS\r\n",
      "\r\n",
      "Compiling [2/11]: MatrixFactorization_Cython_Epoch.pyx... \r\n",
      "In file included from \u001b[01m\u001b[K/opt/conda/lib/python3.10/site-packages/numpy/core/include/numpy/ndarraytypes.h:1929\u001b[m\u001b[K,\r\n",
      "                 from \u001b[01m\u001b[K/opt/conda/lib/python3.10/site-packages/numpy/core/include/numpy/ndarrayobject.h:12\u001b[m\u001b[K,\r\n",
      "                 from \u001b[01m\u001b[K/opt/conda/lib/python3.10/site-packages/numpy/core/include/numpy/arrayobject.h:5\u001b[m\u001b[K,\r\n",
      "                 from \u001b[01m\u001b[KMatrixFactorization_Cython_Epoch.c:1252\u001b[m\u001b[K:\r\n",
      "\u001b[01m\u001b[K/opt/conda/lib/python3.10/site-packages/numpy/core/include/numpy/npy_1_7_deprecated_api.h:17:2:\u001b[m\u001b[K \u001b[01;35m\u001b[Kwarning: \u001b[m\u001b[K#warning \"Using deprecated NumPy API, disable it with \" \"#define NPY_NO_DEPRECATED_API NPY_1_7_API_VERSION\" [\u001b[01;35m\u001b[K-Wcpp\u001b[m\u001b[K]\r\n",
      "   17 | #\u001b[01;35m\u001b[Kwarning\u001b[m\u001b[K \"Using deprecated NumPy API, disable it with \" \\\r\n",
      "      |  \u001b[01;35m\u001b[K^~~~~~~\u001b[m\u001b[K\r\n",
      "\u001b[01m\u001b[KMatrixFactorization_Cython_Epoch.c:\u001b[m\u001b[K In function '\u001b[01m\u001b[K__pyx_pf_32MatrixFactorization_Cython_Epoch_32MatrixFactorization_Cython_Epoch_10epochIteration_Cython_ASY_SVD_SGD\u001b[m\u001b[K':\r\n",
      "\u001b[01m\u001b[KMatrixFactorization_Cython_Epoch.c:26255:9:\u001b[m\u001b[K \u001b[01;35m\u001b[Kwarning: \u001b[m\u001b[K'\u001b[01m\u001b[K__pyx_v_end_pos_seen_items\u001b[m\u001b[K' may be used uninitialized in this function [\u001b[01;35m\u001b[K-Wmaybe-uninitialized\u001b[m\u001b[K]\r\n",
      "26255 |         \u001b[01;35m\u001b[Kfor\u001b[m\u001b[K (__pyx_t_21 = __pyx_v_start_pos_seen_items; __pyx_t_21 < __pyx_t_20; __pyx_t_21+=1) {\r\n",
      "      |         \u001b[01;35m\u001b[K^~~\u001b[m\u001b[K\r\n",
      "\u001b[01m\u001b[KMatrixFactorization_Cython_Epoch.c:26255:9:\u001b[m\u001b[K \u001b[01;35m\u001b[Kwarning: \u001b[m\u001b[K'\u001b[01m\u001b[K__pyx_v_start_pos_seen_items\u001b[m\u001b[K' may be used uninitialized in this function [\u001b[01;35m\u001b[K-Wmaybe-uninitialized\u001b[m\u001b[K]\r\n",
      "/opt/conda/lib/python3.10/site-packages/Cython/Compiler/Main.py:381: FutureWarning: Cython directive 'language_level' not set, using '3str' for now (Py3). This has changed from earlier releases! File: /kaggle/working/RECsys_Challenge2024/Recommenders/MatrixFactorization/Cython/MatrixFactorization_Cython_Epoch.pyx\r\n",
      "  tree = Parsing.p_module(s, pxd, full_module_name)\r\n",
      "Compiling [2/11]: MatrixFactorization_Cython_Epoch.pyx... PASS\r\n",
      "\r\n",
      "Compiling [3/11]: Compute_Similarity_Cython.pyx... \r\n",
      "warning: Compute_Similarity_Cython.pyx:21:0: The 'IF' statement is deprecated and will be removed in a future Cython version. Consider using runtime conditions or C macros instead. See https://github.com/cython/cython/issues/4310\r\n",
      "In file included from \u001b[01m\u001b[K/opt/conda/lib/python3.10/site-packages/numpy/core/include/numpy/ndarraytypes.h:1929\u001b[m\u001b[K,\r\n",
      "                 from \u001b[01m\u001b[K/opt/conda/lib/python3.10/site-packages/numpy/core/include/numpy/ndarrayobject.h:12\u001b[m\u001b[K,\r\n",
      "                 from \u001b[01m\u001b[K/opt/conda/lib/python3.10/site-packages/numpy/core/include/numpy/arrayobject.h:5\u001b[m\u001b[K,\r\n",
      "                 from \u001b[01m\u001b[KCompute_Similarity_Cython.c:1252\u001b[m\u001b[K:\r\n",
      "\u001b[01m\u001b[K/opt/conda/lib/python3.10/site-packages/numpy/core/include/numpy/npy_1_7_deprecated_api.h:17:2:\u001b[m\u001b[K \u001b[01;35m\u001b[Kwarning: \u001b[m\u001b[K#warning \"Using deprecated NumPy API, disable it with \" \"#define NPY_NO_DEPRECATED_API NPY_1_7_API_VERSION\" [\u001b[01;35m\u001b[K-Wcpp\u001b[m\u001b[K]\r\n",
      "   17 | #\u001b[01;35m\u001b[Kwarning\u001b[m\u001b[K \"Using deprecated NumPy API, disable it with \" \\\r\n",
      "      |  \u001b[01;35m\u001b[K^~~~~~~\u001b[m\u001b[K\r\n",
      "/opt/conda/lib/python3.10/site-packages/Cython/Compiler/Main.py:381: FutureWarning: Cython directive 'language_level' not set, using '3str' for now (Py3). This has changed from earlier releases! File: /kaggle/working/RECsys_Challenge2024/Recommenders/Similarity/Cython/Compute_Similarity_Cython.pyx\r\n",
      "  tree = Parsing.p_module(s, pxd, full_module_name)\r\n",
      "warning: Compute_Similarity_Cython.pyx:21:0: The 'IF' statement is deprecated and will be removed in a future Cython version. Consider using runtime conditions or C macros instead. See https://github.com/cython/cython/issues/4310\r\n",
      "Compiling [3/11]: Compute_Similarity_Cython.pyx... PASS\r\n",
      "\r\n",
      "Compiling [4/11]: Sparse_Matrix_Tree_CSR.pyx... \r\n",
      "warning: Sparse_Matrix_Tree_CSR.pyx:132:34: Non-trivial type declarators in shared declaration (e.g. mix of pointers and values). Each pointer declaration should be on its own line.\r\n",
      "warning: Sparse_Matrix_Tree_CSR.pyx:132:66: Non-trivial type declarators in shared declaration (e.g. mix of pointers and values). Each pointer declaration should be on its own line.\r\n",
      "warning: Sparse_Matrix_Tree_CSR.pyx:343:35: Non-trivial type declarators in shared declaration (e.g. mix of pointers and values). Each pointer declaration should be on its own line.\r\n",
      "warning: Sparse_Matrix_Tree_CSR.pyx:343:52: Non-trivial type declarators in shared declaration (e.g. mix of pointers and values). Each pointer declaration should be on its own line.\r\n",
      "warning: Sparse_Matrix_Tree_CSR.pyx:442:35: Non-trivial type declarators in shared declaration (e.g. mix of pointers and values). Each pointer declaration should be on its own line.\r\n",
      "warning: Sparse_Matrix_Tree_CSR.pyx:442:53: Non-trivial type declarators in shared declaration (e.g. mix of pointers and values). Each pointer declaration should be on its own line.\r\n",
      "warning: Sparse_Matrix_Tree_CSR.pyx:442:69: Non-trivial type declarators in shared declaration (e.g. mix of pointers and values). Each pointer declaration should be on its own line.\r\n",
      "warning: Sparse_Matrix_Tree_CSR.pyx:577:35: Non-trivial type declarators in shared declaration (e.g. mix of pointers and values). Each pointer declaration should be on its own line.\r\n",
      "warning: Sparse_Matrix_Tree_CSR.pyx:577:42: Non-trivial type declarators in shared declaration (e.g. mix of pointers and values). Each pointer declaration should be on its own line.\r\n",
      "warning: Sparse_Matrix_Tree_CSR.pyx:578:35: Non-trivial type declarators in shared declaration (e.g. mix of pointers and values). Each pointer declaration should be on its own line.\r\n",
      "warning: Sparse_Matrix_Tree_CSR.pyx:578:53: Non-trivial type declarators in shared declaration (e.g. mix of pointers and values). Each pointer declaration should be on its own line.\r\n",
      "\r\n",
      "Error compiling Cython file:\r\n",
      "------------------------------------------------------------\r\n",
      "...\r\n",
      "            vector_pointer_to_list_elements[index].head = current_element\r\n",
      "            current_element = current_element.higher\r\n",
      "\r\n",
      "\r\n",
      "        # Sort array elements on their data field\r\n",
      "        qsort(vector_pointer_to_list_elements, list_length, sizeof(head_pointer_tree_s), compare_struct_on_data)\r\n",
      "                                                                                         ^\r\n",
      "------------------------------------------------------------\r\n",
      "\r\n",
      "Sparse_Matrix_Tree_CSR.pyx:516:89: Cannot assign type 'int (const void *, const void *) except? -1' to 'int (*)(const_void *, const_void *) noexcept'. Exception values are incompatible. Suggest adding 'noexcept' to the type of 'compare_struct_on_data'.\r\n",
      "\r\n",
      "Error compiling Cython file:\r\n",
      "------------------------------------------------------------\r\n",
      "...\r\n",
      "        # Sort array elements on their data field\r\n",
      "        qsort(vector_pointer_to_list_elements, list_length, sizeof(head_pointer_tree_s), compare_struct_on_data)\r\n",
      "\r\n",
      "        # Sort only the TopK according to their column field\r\n",
      "        # Sort is from lower to higher, therefore the elements to be considered are from len-topK to len\r\n",
      "        qsort(&vector_pointer_to_list_elements[list_length-TopK], TopK, sizeof(head_pointer_tree_s), compare_struct_on_column)\r\n",
      "                                                                                                     ^\r\n",
      "------------------------------------------------------------\r\n",
      "\r\n",
      "Sparse_Matrix_Tree_CSR.pyx:520:101: Cannot assign type 'int (const void *, const void *) except? -1' to 'int (*)(const_void *, const_void *) noexcept'. Exception values are incompatible. Suggest adding 'noexcept' to the type of 'compare_struct_on_column'.\r\n",
      "Traceback (most recent call last):\r\n",
      "  File \"/kaggle/working/RECsys_Challenge2024/CythonCompiler/compile_script.py\", line 48, in <module>\r\n",
      "    setup(\r\n",
      "  File \"/opt/conda/lib/python3.10/site-packages/setuptools/__init__.py\", line 103, in setup\r\n",
      "    return distutils.core.setup(**attrs)\r\n",
      "  File \"/opt/conda/lib/python3.10/site-packages/setuptools/_distutils/core.py\", line 184, in setup\r\n",
      "    return run_commands(dist)\r\n",
      "  File \"/opt/conda/lib/python3.10/site-packages/setuptools/_distutils/core.py\", line 200, in run_commands\r\n",
      "    dist.run_commands()\r\n",
      "  File \"/opt/conda/lib/python3.10/site-packages/setuptools/_distutils/dist.py\", line 969, in run_commands\r\n",
      "    self.run_command(cmd)\r\n",
      "  File \"/opt/conda/lib/python3.10/site-packages/setuptools/dist.py\", line 968, in run_command\r\n",
      "    super().run_command(command)\r\n",
      "  File \"/opt/conda/lib/python3.10/site-packages/setuptools/_distutils/dist.py\", line 988, in run_command\r\n",
      "    cmd_obj.run()\r\n",
      "  File \"/opt/conda/lib/python3.10/site-packages/setuptools/_distutils/command/build_ext.py\", line 359, in run\r\n",
      "    self.build_extensions()\r\n",
      "  File \"/opt/conda/lib/python3.10/site-packages/setuptools/_distutils/command/build_ext.py\", line 479, in build_extensions\r\n",
      "    self._build_extensions_serial()\r\n",
      "  File \"/opt/conda/lib/python3.10/site-packages/setuptools/_distutils/command/build_ext.py\", line 505, in _build_extensions_serial\r\n",
      "    self.build_extension(ext)\r\n",
      "  File \"/opt/conda/lib/python3.10/site-packages/Cython/Distutils/build_ext.py\", line 130, in build_extension\r\n",
      "    new_ext = cythonize(\r\n",
      "  File \"/opt/conda/lib/python3.10/site-packages/Cython/Build/Dependencies.py\", line 1154, in cythonize\r\n",
      "    cythonize_one(*args)\r\n",
      "  File \"/opt/conda/lib/python3.10/site-packages/Cython/Build/Dependencies.py\", line 1321, in cythonize_one\r\n",
      "    raise CompileError(None, pyx_file)\r\n",
      "Cython.Compiler.Errors.CompileError: Sparse_Matrix_Tree_CSR.pyx\r\n",
      "Traceback (most recent call last):\r\n",
      "  File \"/kaggle/working/RECsys_Challenge2024/run_compile_all_cython.py\", line 60, in <module>\r\n",
      "    run_compile_subprocess(file_path, [file_name])\r\n",
      "  File \"/kaggle/working/RECsys_Challenge2024/CythonCompiler/run_compile_subprocess.py\", line 51, in run_compile_subprocess\r\n",
      "    raise exc\r\n",
      "  File \"/kaggle/working/RECsys_Challenge2024/CythonCompiler/run_compile_subprocess.py\", line 32, in run_compile_subprocess\r\n",
      "    output = subprocess.check_output(' '.join(command),\r\n",
      "  File \"/opt/conda/lib/python3.10/subprocess.py\", line 421, in check_output\r\n",
      "    return run(*popenargs, stdout=PIPE, timeout=timeout, check=True,\r\n",
      "  File \"/opt/conda/lib/python3.10/subprocess.py\", line 526, in run\r\n",
      "    raise CalledProcessError(retcode, process.args,\r\n",
      "subprocess.CalledProcessError: Command '/opt/conda/bin/python /kaggle/working/RECsys_Challenge2024/CythonCompiler/compile_script.py Sparse_Matrix_Tree_CSR.pyx build_ext --inplace' returned non-zero exit status 1.\r\n",
      "Compiling [4/11]: Sparse_Matrix_Tree_CSR.pyx... FAIL: Command '/opt/conda/bin/python /kaggle/working/RECsys_Challenge2024/CythonCompiler/compile_script.py Sparse_Matrix_Tree_CSR.pyx build_ext --inplace' returned non-zero exit status 1.\r\n",
      "\r\n",
      "Compiling [5/11]: Triangular_Matrix.pyx... \r\n",
      "warning: Triangular_Matrix.pyx:22:0: The 'IF' statement is deprecated and will be removed in a future Cython version. Consider using runtime conditions or C macros instead. See https://github.com/cython/cython/issues/4310\r\n",
      "In file included from \u001b[01m\u001b[K/opt/conda/lib/python3.10/site-packages/numpy/core/include/numpy/ndarraytypes.h:1929\u001b[m\u001b[K,\r\n",
      "                 from \u001b[01m\u001b[K/opt/conda/lib/python3.10/site-packages/numpy/core/include/numpy/ndarrayobject.h:12\u001b[m\u001b[K,\r\n",
      "                 from \u001b[01m\u001b[K/opt/conda/lib/python3.10/site-packages/numpy/core/include/numpy/arrayobject.h:5\u001b[m\u001b[K,\r\n",
      "                 from \u001b[01m\u001b[KTriangular_Matrix.c:1252\u001b[m\u001b[K:\r\n",
      "\u001b[01m\u001b[K/opt/conda/lib/python3.10/site-packages/numpy/core/include/numpy/npy_1_7_deprecated_api.h:17:2:\u001b[m\u001b[K \u001b[01;35m\u001b[Kwarning: \u001b[m\u001b[K#warning \"Using deprecated NumPy API, disable it with \" \"#define NPY_NO_DEPRECATED_API NPY_1_7_API_VERSION\" [\u001b[01;35m\u001b[K-Wcpp\u001b[m\u001b[K]\r\n",
      "   17 | #\u001b[01;35m\u001b[Kwarning\u001b[m\u001b[K \"Using deprecated NumPy API, disable it with \" \\\r\n",
      "      |  \u001b[01;35m\u001b[K^~~~~~~\u001b[m\u001b[K\r\n",
      "/opt/conda/lib/python3.10/site-packages/Cython/Compiler/Main.py:381: FutureWarning: Cython directive 'language_level' not set, using '3str' for now (Py3). This has changed from earlier releases! File: /kaggle/working/RECsys_Challenge2024/Recommenders/SLIM/Cython/Triangular_Matrix.pyx\r\n",
      "  tree = Parsing.p_module(s, pxd, full_module_name)\r\n",
      "warning: Triangular_Matrix.pyx:22:0: The 'IF' statement is deprecated and will be removed in a future Cython version. Consider using runtime conditions or C macros instead. See https://github.com/cython/cython/issues/4310\r\n",
      "Compiling [5/11]: Triangular_Matrix.pyx... PASS\r\n",
      "\r\n",
      "Compiling [6/11]: SLIM_BPR_Cython_Epoch.pyx... \r\n",
      "warning: SLIM_BPR_Cython_Epoch.pyx:24:0: The 'IF' statement is deprecated and will be removed in a future Cython version. Consider using runtime conditions or C macros instead. See https://github.com/cython/cython/issues/4310\r\n",
      "warning: SLIM_BPR_Cython_Epoch.pyx:632:34: Non-trivial type declarators in shared declaration (e.g. mix of pointers and values). Each pointer declaration should be on its own line.\r\n",
      "warning: SLIM_BPR_Cython_Epoch.pyx:632:66: Non-trivial type declarators in shared declaration (e.g. mix of pointers and values). Each pointer declaration should be on its own line.\r\n",
      "warning: SLIM_BPR_Cython_Epoch.pyx:817:35: Non-trivial type declarators in shared declaration (e.g. mix of pointers and values). Each pointer declaration should be on its own line.\r\n",
      "warning: SLIM_BPR_Cython_Epoch.pyx:817:52: Non-trivial type declarators in shared declaration (e.g. mix of pointers and values). Each pointer declaration should be on its own line.\r\n",
      "warning: SLIM_BPR_Cython_Epoch.pyx:916:35: Non-trivial type declarators in shared declaration (e.g. mix of pointers and values). Each pointer declaration should be on its own line.\r\n",
      "warning: SLIM_BPR_Cython_Epoch.pyx:916:53: Non-trivial type declarators in shared declaration (e.g. mix of pointers and values). Each pointer declaration should be on its own line.\r\n",
      "warning: SLIM_BPR_Cython_Epoch.pyx:916:69: Non-trivial type declarators in shared declaration (e.g. mix of pointers and values). Each pointer declaration should be on its own line.\r\n",
      "warning: SLIM_BPR_Cython_Epoch.pyx:1051:35: Non-trivial type declarators in shared declaration (e.g. mix of pointers and values). Each pointer declaration should be on its own line.\r\n",
      "warning: SLIM_BPR_Cython_Epoch.pyx:1051:42: Non-trivial type declarators in shared declaration (e.g. mix of pointers and values). Each pointer declaration should be on its own line.\r\n",
      "warning: SLIM_BPR_Cython_Epoch.pyx:1052:35: Non-trivial type declarators in shared declaration (e.g. mix of pointers and values). Each pointer declaration should be on its own line.\r\n",
      "warning: SLIM_BPR_Cython_Epoch.pyx:1052:53: Non-trivial type declarators in shared declaration (e.g. mix of pointers and values). Each pointer declaration should be on its own line.\r\n",
      "\r\n",
      "Error compiling Cython file:\r\n",
      "------------------------------------------------------------\r\n",
      "...\r\n",
      "            vector_pointer_to_list_elements[index].head = current_element\r\n",
      "            current_element = current_element.higher\r\n",
      "\r\n",
      "\r\n",
      "        # Sort array elements on their data field\r\n",
      "        qsort(vector_pointer_to_list_elements, list_length, sizeof(head_pointer_tree_s), compare_struct_on_data)\r\n",
      "                                                                                         ^\r\n",
      "------------------------------------------------------------\r\n",
      "\r\n",
      "SLIM_BPR_Cython_Epoch.pyx:990:89: Cannot assign type 'int (const void *, const void *) except? -1' to 'int (*)(const_void *, const_void *) noexcept'. Exception values are incompatible. Suggest adding 'noexcept' to the type of 'compare_struct_on_data'.\r\n",
      "\r\n",
      "Error compiling Cython file:\r\n",
      "------------------------------------------------------------\r\n",
      "...\r\n",
      "        # Sort array elements on their data field\r\n",
      "        qsort(vector_pointer_to_list_elements, list_length, sizeof(head_pointer_tree_s), compare_struct_on_data)\r\n",
      "\r\n",
      "        # Sort only the TopK according to their column field\r\n",
      "        # Sort is from lower to higher, therefore the elements to be considered are from len-topK to len\r\n",
      "        qsort(&vector_pointer_to_list_elements[list_length-TopK], TopK, sizeof(head_pointer_tree_s), compare_struct_on_column)\r\n",
      "                                                                                                     ^\r\n",
      "------------------------------------------------------------\r\n",
      "\r\n",
      "SLIM_BPR_Cython_Epoch.pyx:994:101: Cannot assign type 'int (const void *, const void *) except? -1' to 'int (*)(const_void *, const_void *) noexcept'. Exception values are incompatible. Suggest adding 'noexcept' to the type of 'compare_struct_on_column'.\r\n",
      "Traceback (most recent call last):\r\n",
      "  File \"/kaggle/working/RECsys_Challenge2024/CythonCompiler/compile_script.py\", line 48, in <module>\r\n",
      "    setup(\r\n",
      "  File \"/opt/conda/lib/python3.10/site-packages/setuptools/__init__.py\", line 103, in setup\r\n",
      "    return distutils.core.setup(**attrs)\r\n",
      "  File \"/opt/conda/lib/python3.10/site-packages/setuptools/_distutils/core.py\", line 184, in setup\r\n",
      "    return run_commands(dist)\r\n",
      "  File \"/opt/conda/lib/python3.10/site-packages/setuptools/_distutils/core.py\", line 200, in run_commands\r\n",
      "    dist.run_commands()\r\n",
      "  File \"/opt/conda/lib/python3.10/site-packages/setuptools/_distutils/dist.py\", line 969, in run_commands\r\n",
      "    self.run_command(cmd)\r\n",
      "  File \"/opt/conda/lib/python3.10/site-packages/setuptools/dist.py\", line 968, in run_command\r\n",
      "    super().run_command(command)\r\n",
      "  File \"/opt/conda/lib/python3.10/site-packages/setuptools/_distutils/dist.py\", line 988, in run_command\r\n",
      "    cmd_obj.run()\r\n",
      "  File \"/opt/conda/lib/python3.10/site-packages/setuptools/_distutils/command/build_ext.py\", line 359, in run\r\n",
      "    self.build_extensions()\r\n",
      "  File \"/opt/conda/lib/python3.10/site-packages/setuptools/_distutils/command/build_ext.py\", line 479, in build_extensions\r\n",
      "    self._build_extensions_serial()\r\n",
      "  File \"/opt/conda/lib/python3.10/site-packages/setuptools/_distutils/command/build_ext.py\", line 505, in _build_extensions_serial\r\n",
      "    self.build_extension(ext)\r\n",
      "  File \"/opt/conda/lib/python3.10/site-packages/Cython/Distutils/build_ext.py\", line 130, in build_extension\r\n",
      "    new_ext = cythonize(\r\n",
      "  File \"/opt/conda/lib/python3.10/site-packages/Cython/Build/Dependencies.py\", line 1154, in cythonize\r\n",
      "    cythonize_one(*args)\r\n",
      "  File \"/opt/conda/lib/python3.10/site-packages/Cython/Build/Dependencies.py\", line 1321, in cythonize_one\r\n",
      "    raise CompileError(None, pyx_file)\r\n",
      "Cython.Compiler.Errors.CompileError: SLIM_BPR_Cython_Epoch.pyx\r\n",
      "Traceback (most recent call last):\r\n",
      "  File \"/kaggle/working/RECsys_Challenge2024/run_compile_all_cython.py\", line 60, in <module>\r\n",
      "    run_compile_subprocess(file_path, [file_name])\r\n",
      "  File \"/kaggle/working/RECsys_Challenge2024/CythonCompiler/run_compile_subprocess.py\", line 51, in run_compile_subprocess\r\n",
      "    raise exc\r\n",
      "  File \"/kaggle/working/RECsys_Challenge2024/CythonCompiler/run_compile_subprocess.py\", line 32, in run_compile_subprocess\r\n",
      "    output = subprocess.check_output(' '.join(command),\r\n",
      "  File \"/opt/conda/lib/python3.10/subprocess.py\", line 421, in check_output\r\n",
      "    return run(*popenargs, stdout=PIPE, timeout=timeout, check=True,\r\n",
      "  File \"/opt/conda/lib/python3.10/subprocess.py\", line 526, in run\r\n",
      "    raise CalledProcessError(retcode, process.args,\r\n",
      "subprocess.CalledProcessError: Command '/opt/conda/bin/python /kaggle/working/RECsys_Challenge2024/CythonCompiler/compile_script.py SLIM_BPR_Cython_Epoch.pyx build_ext --inplace' returned non-zero exit status 1.\r\n",
      "Compiling [6/11]: SLIM_BPR_Cython_Epoch.pyx... FAIL: Command '/opt/conda/bin/python /kaggle/working/RECsys_Challenge2024/CythonCompiler/compile_script.py SLIM_BPR_Cython_Epoch.pyx build_ext --inplace' returned non-zero exit status 1.\r\n",
      "\r\n",
      "Compiling [7/11]: CFW_DVV_Similarity_Cython_SGD.pyx... \r\n",
      "In file included from \u001b[01m\u001b[K/opt/conda/lib/python3.10/site-packages/numpy/core/include/numpy/ndarraytypes.h:1929\u001b[m\u001b[K,\r\n",
      "                 from \u001b[01m\u001b[K/opt/conda/lib/python3.10/site-packages/numpy/core/include/numpy/ndarrayobject.h:12\u001b[m\u001b[K,\r\n",
      "                 from \u001b[01m\u001b[K/opt/conda/lib/python3.10/site-packages/numpy/core/include/numpy/arrayobject.h:5\u001b[m\u001b[K,\r\n",
      "                 from \u001b[01m\u001b[KCFW_DVV_Similarity_Cython_SGD.c:1252\u001b[m\u001b[K:\r\n",
      "\u001b[01m\u001b[K/opt/conda/lib/python3.10/site-packages/numpy/core/include/numpy/npy_1_7_deprecated_api.h:17:2:\u001b[m\u001b[K \u001b[01;35m\u001b[Kwarning: \u001b[m\u001b[K#warning \"Using deprecated NumPy API, disable it with \" \"#define NPY_NO_DEPRECATED_API NPY_1_7_API_VERSION\" [\u001b[01;35m\u001b[K-Wcpp\u001b[m\u001b[K]\r\n",
      "   17 | #\u001b[01;35m\u001b[Kwarning\u001b[m\u001b[K \"Using deprecated NumPy API, disable it with \" \\\r\n",
      "      |  \u001b[01;35m\u001b[K^~~~~~~\u001b[m\u001b[K\r\n",
      "/opt/conda/lib/python3.10/site-packages/Cython/Compiler/Main.py:381: FutureWarning: Cython directive 'language_level' not set, using '3str' for now (Py3). This has changed from earlier releases! File: /kaggle/working/RECsys_Challenge2024/Recommenders/FeatureWeighting/Cython/CFW_DVV_Similarity_Cython_SGD.pyx\r\n",
      "  tree = Parsing.p_module(s, pxd, full_module_name)\r\n",
      "Compiling [7/11]: CFW_DVV_Similarity_Cython_SGD.pyx... PASS\r\n",
      "\r\n",
      "Compiling [8/11]: CFW_D_Similarity_Cython_SGD.pyx... \r\n",
      "In file included from \u001b[01m\u001b[K/opt/conda/lib/python3.10/site-packages/numpy/core/include/numpy/ndarraytypes.h:1929\u001b[m\u001b[K,\r\n",
      "                 from \u001b[01m\u001b[K/opt/conda/lib/python3.10/site-packages/numpy/core/include/numpy/ndarrayobject.h:12\u001b[m\u001b[K,\r\n",
      "                 from \u001b[01m\u001b[K/opt/conda/lib/python3.10/site-packages/numpy/core/include/numpy/arrayobject.h:5\u001b[m\u001b[K,\r\n",
      "                 from \u001b[01m\u001b[KCFW_D_Similarity_Cython_SGD.c:1252\u001b[m\u001b[K:\r\n",
      "\u001b[01m\u001b[K/opt/conda/lib/python3.10/site-packages/numpy/core/include/numpy/npy_1_7_deprecated_api.h:17:2:\u001b[m\u001b[K \u001b[01;35m\u001b[Kwarning: \u001b[m\u001b[K#warning \"Using deprecated NumPy API, disable it with \" \"#define NPY_NO_DEPRECATED_API NPY_1_7_API_VERSION\" [\u001b[01;35m\u001b[K-Wcpp\u001b[m\u001b[K]\r\n",
      "   17 | #\u001b[01;35m\u001b[Kwarning\u001b[m\u001b[K \"Using deprecated NumPy API, disable it with \" \\\r\n",
      "      |  \u001b[01;35m\u001b[K^~~~~~~\u001b[m\u001b[K\r\n",
      "\u001b[01m\u001b[KCFW_D_Similarity_Cython_SGD.c:\u001b[m\u001b[K In function '\u001b[01m\u001b[K__pyx_pf_27CFW_D_Similarity_Cython_SGD_27CFW_D_Similarity_Cython_SGD_6fit\u001b[m\u001b[K':\r\n",
      "\u001b[01m\u001b[KCFW_D_Similarity_Cython_SGD.c:23373:55:\u001b[m\u001b[K \u001b[01;35m\u001b[Kwarning: \u001b[m\u001b[K'\u001b[01m\u001b[K__pyx_v_sample_num\u001b[m\u001b[K' may be used uninitialized in this function [\u001b[01;35m\u001b[K-Wmaybe-uninitialized\u001b[m\u001b[K]\r\n",
      "23373 |   __pyx_t_3 = PyFloat_FromDouble((__pyx_v_cum_loss / \u001b[01;35m\u001b[K((double)__pyx_v_sample_num)\u001b[m\u001b[K)); if (unlikely(!__pyx_t_3)) __PYX_ERR(0, 290, __pyx_L1_error)\r\n",
      "      |                                                      \u001b[01;35m\u001b[K~^~~~~~~~~~~~~~~~~~~~~~~~~~~\u001b[m\u001b[K\r\n",
      "/opt/conda/lib/python3.10/site-packages/Cython/Compiler/Main.py:381: FutureWarning: Cython directive 'language_level' not set, using '3str' for now (Py3). This has changed from earlier releases! File: /kaggle/working/RECsys_Challenge2024/Recommenders/FeatureWeighting/Cython/CFW_D_Similarity_Cython_SGD.pyx\r\n",
      "  tree = Parsing.p_module(s, pxd, full_module_name)\r\n",
      "Compiling [8/11]: CFW_D_Similarity_Cython_SGD.pyx... PASS\r\n",
      "\r\n",
      "Compiling [9/11]: HP3_Similarity_Cython_SGD.pyx... \r\n",
      "performance hint: HP3_Similarity_Cython_SGD.pyx:113:40: Index should be typed for more efficient access\r\n",
      "performance hint: HP3_Similarity_Cython_SGD.pyx:114:40: Index should be typed for more efficient access\r\n",
      "In file included from \u001b[01m\u001b[K/opt/conda/lib/python3.10/site-packages/numpy/core/include/numpy/ndarraytypes.h:1929\u001b[m\u001b[K,\r\n",
      "                 from \u001b[01m\u001b[K/opt/conda/lib/python3.10/site-packages/numpy/core/include/numpy/ndarrayobject.h:12\u001b[m\u001b[K,\r\n",
      "                 from \u001b[01m\u001b[K/opt/conda/lib/python3.10/site-packages/numpy/core/include/numpy/arrayobject.h:5\u001b[m\u001b[K,\r\n",
      "                 from \u001b[01m\u001b[KHP3_Similarity_Cython_SGD.c:1252\u001b[m\u001b[K:\r\n",
      "\u001b[01m\u001b[K/opt/conda/lib/python3.10/site-packages/numpy/core/include/numpy/npy_1_7_deprecated_api.h:17:2:\u001b[m\u001b[K \u001b[01;35m\u001b[Kwarning: \u001b[m\u001b[K#warning \"Using deprecated NumPy API, disable it with \" \"#define NPY_NO_DEPRECATED_API NPY_1_7_API_VERSION\" [\u001b[01;35m\u001b[K-Wcpp\u001b[m\u001b[K]\r\n",
      "   17 | #\u001b[01;35m\u001b[Kwarning\u001b[m\u001b[K \"Using deprecated NumPy API, disable it with \" \\\r\n",
      "      |  \u001b[01;35m\u001b[K^~~~~~~\u001b[m\u001b[K\r\n",
      "\u001b[01m\u001b[KHP3_Similarity_Cython_SGD.c:\u001b[m\u001b[K In function '\u001b[01m\u001b[K__pyx_pf_25HP3_Similarity_Cython_SGD_25HP3_Similarity_Cython_SGD_4fit\u001b[m\u001b[K':\r\n",
      "\u001b[01m\u001b[KHP3_Similarity_Cython_SGD.c:23631:55:\u001b[m\u001b[K \u001b[01;35m\u001b[Kwarning: \u001b[m\u001b[K'\u001b[01m\u001b[K__pyx_v_sample_num\u001b[m\u001b[K' may be used uninitialized in this function [\u001b[01;35m\u001b[K-Wmaybe-uninitialized\u001b[m\u001b[K]\r\n",
      "23631 |   __pyx_t_1 = PyFloat_FromDouble((__pyx_v_cum_loss / \u001b[01;35m\u001b[K((double)__pyx_v_sample_num)\u001b[m\u001b[K)); if (unlikely(!__pyx_t_1)) __PYX_ERR(0, 291, __pyx_L1_error)\r\n",
      "      |                                                      \u001b[01;35m\u001b[K~^~~~~~~~~~~~~~~~~~~~~~~~~~~\u001b[m\u001b[K\r\n",
      "/opt/conda/lib/python3.10/site-packages/Cython/Compiler/Main.py:381: FutureWarning: Cython directive 'language_level' not set, using '3str' for now (Py3). This has changed from earlier releases! File: /kaggle/working/RECsys_Challenge2024/Recommenders/FeatureWeighting/Cython/HP3_Similarity_Cython_SGD.pyx\r\n",
      "  tree = Parsing.p_module(s, pxd, full_module_name)\r\n",
      "performance hint: HP3_Similarity_Cython_SGD.pyx:113:40: Index should be typed for more efficient access\r\n",
      "performance hint: HP3_Similarity_Cython_SGD.pyx:114:40: Index should be typed for more efficient access\r\n",
      "Compiling [9/11]: HP3_Similarity_Cython_SGD.pyx... PASS\r\n",
      "\r\n",
      "Compiling [10/11]: FBSM_Rating_Cython_SGD.pyx... \r\n",
      "In file included from \u001b[01m\u001b[K/opt/conda/lib/python3.10/site-packages/numpy/core/include/numpy/ndarraytypes.h:1929\u001b[m\u001b[K,\r\n",
      "                 from \u001b[01m\u001b[K/opt/conda/lib/python3.10/site-packages/numpy/core/include/numpy/ndarrayobject.h:12\u001b[m\u001b[K,\r\n",
      "                 from \u001b[01m\u001b[K/opt/conda/lib/python3.10/site-packages/numpy/core/include/numpy/arrayobject.h:5\u001b[m\u001b[K,\r\n",
      "                 from \u001b[01m\u001b[KFBSM_Rating_Cython_SGD.c:1252\u001b[m\u001b[K:\r\n",
      "\u001b[01m\u001b[K/opt/conda/lib/python3.10/site-packages/numpy/core/include/numpy/npy_1_7_deprecated_api.h:17:2:\u001b[m\u001b[K \u001b[01;35m\u001b[Kwarning: \u001b[m\u001b[K#warning \"Using deprecated NumPy API, disable it with \" \"#define NPY_NO_DEPRECATED_API NPY_1_7_API_VERSION\" [\u001b[01;35m\u001b[K-Wcpp\u001b[m\u001b[K]\r\n",
      "   17 | #\u001b[01;35m\u001b[Kwarning\u001b[m\u001b[K \"Using deprecated NumPy API, disable it with \" \\\r\n",
      "      |  \u001b[01;35m\u001b[K^~~~~~~\u001b[m\u001b[K\r\n",
      "\u001b[01m\u001b[KFBSM_Rating_Cython_SGD.c:\u001b[m\u001b[K In function '\u001b[01m\u001b[K__pyx_pf_22FBSM_Rating_Cython_SGD_22FBSM_Rating_Cython_SGD_2fit\u001b[m\u001b[K':\r\n",
      "\u001b[01m\u001b[KFBSM_Rating_Cython_SGD.c:26607:55:\u001b[m\u001b[K \u001b[01;35m\u001b[Kwarning: \u001b[m\u001b[K'\u001b[01m\u001b[K__pyx_v_num_sample\u001b[m\u001b[K' may be used uninitialized in this function [\u001b[01;35m\u001b[K-Wmaybe-uninitialized\u001b[m\u001b[K]\r\n",
      "26607 |   __pyx_t_5 = PyFloat_FromDouble((__pyx_v_cum_loss / \u001b[01;35m\u001b[K((double)__pyx_v_num_sample)\u001b[m\u001b[K)); if (unlikely(!__pyx_t_5)) __PYX_ERR(0, 551, __pyx_L1_error)\r\n",
      "      |                                                      \u001b[01;35m\u001b[K~^~~~~~~~~~~~~~~~~~~~~~~~~~~\u001b[m\u001b[K\r\n",
      "/opt/conda/lib/python3.10/site-packages/Cython/Compiler/Main.py:381: FutureWarning: Cython directive 'language_level' not set, using '3str' for now (Py3). This has changed from earlier releases! File: /kaggle/working/RECsys_Challenge2024/Recommenders/FeatureWeighting/Cython/FBSM_Rating_Cython_SGD.pyx\r\n",
      "  tree = Parsing.p_module(s, pxd, full_module_name)\r\n",
      "Compiling [10/11]: FBSM_Rating_Cython_SGD.pyx... PASS\r\n",
      "\r\n",
      "Compiling [11/11]: DataIterator.pyx... \r\n",
      "In file included from \u001b[01m\u001b[K/opt/conda/lib/python3.10/site-packages/numpy/core/include/numpy/ndarraytypes.h:1929\u001b[m\u001b[K,\r\n",
      "                 from \u001b[01m\u001b[K/opt/conda/lib/python3.10/site-packages/numpy/core/include/numpy/ndarrayobject.h:12\u001b[m\u001b[K,\r\n",
      "                 from \u001b[01m\u001b[K/opt/conda/lib/python3.10/site-packages/numpy/core/include/numpy/arrayobject.h:5\u001b[m\u001b[K,\r\n",
      "                 from \u001b[01m\u001b[KDataIterator.c:1252\u001b[m\u001b[K:\r\n",
      "\u001b[01m\u001b[K/opt/conda/lib/python3.10/site-packages/numpy/core/include/numpy/npy_1_7_deprecated_api.h:17:2:\u001b[m\u001b[K \u001b[01;35m\u001b[Kwarning: \u001b[m\u001b[K#warning \"Using deprecated NumPy API, disable it with \" \"#define NPY_NO_DEPRECATED_API NPY_1_7_API_VERSION\" [\u001b[01;35m\u001b[K-Wcpp\u001b[m\u001b[K]\r\n",
      "   17 | #\u001b[01;35m\u001b[Kwarning\u001b[m\u001b[K \"Using deprecated NumPy API, disable it with \" \\\r\n",
      "      |  \u001b[01;35m\u001b[K^~~~~~~\u001b[m\u001b[K\r\n",
      "\u001b[01m\u001b[KDataIterator.c:\u001b[m\u001b[K In function '\u001b[01m\u001b[K__pyx_pf_12DataIterator_30InteractionAndNegativeIterator_6__next__\u001b[m\u001b[K':\r\n",
      "\u001b[01m\u001b[KDataIterator.c:25495:22:\u001b[m\u001b[K \u001b[01;35m\u001b[Kwarning: \u001b[m\u001b[K'\u001b[01m\u001b[K__pyx_v_i_batch\u001b[m\u001b[K' may be used uninitialized in this function [\u001b[01;35m\u001b[K-Wmaybe-uninitialized\u001b[m\u001b[K]\r\n",
      "25495 |     (__pyx_v_i_batch \u001b[01;35m\u001b[K+\u001b[m\u001b[K 1),\r\n",
      "      |                      \u001b[01;35m\u001b[K^\u001b[m\u001b[K\r\n",
      "\u001b[01m\u001b[KDataIterator.c:\u001b[m\u001b[K In function '\u001b[01m\u001b[K__pyx_pf_12DataIterator_11BPRIterator_6__next__\u001b[m\u001b[K':\r\n",
      "\u001b[01m\u001b[KDataIterator.c:23054:22:\u001b[m\u001b[K \u001b[01;35m\u001b[Kwarning: \u001b[m\u001b[K'\u001b[01m\u001b[K__pyx_v_i_batch\u001b[m\u001b[K' may be used uninitialized in this function [\u001b[01;35m\u001b[K-Wmaybe-uninitialized\u001b[m\u001b[K]\r\n",
      "23054 |     (__pyx_v_i_batch \u001b[01;35m\u001b[K+\u001b[m\u001b[K 1),\r\n",
      "      |                      \u001b[01;35m\u001b[K^\u001b[m\u001b[K\r\n",
      "\u001b[01m\u001b[KDataIterator.c:\u001b[m\u001b[K In function '\u001b[01m\u001b[K__pyx_pf_12DataIterator_19InteractionIterator_6__next__\u001b[m\u001b[K':\r\n",
      "\u001b[01m\u001b[KDataIterator.c:20937:22:\u001b[m\u001b[K \u001b[01;35m\u001b[Kwarning: \u001b[m\u001b[K'\u001b[01m\u001b[K__pyx_v_i_batch\u001b[m\u001b[K' may be used uninitialized in this function [\u001b[01;35m\u001b[K-Wmaybe-uninitialized\u001b[m\u001b[K]\r\n",
      "20937 |     (__pyx_v_i_batch \u001b[01;35m\u001b[K+\u001b[m\u001b[K 1),\r\n",
      "      |                      \u001b[01;35m\u001b[K^\u001b[m\u001b[K\r\n",
      "/opt/conda/lib/python3.10/site-packages/Cython/Compiler/Main.py:381: FutureWarning: Cython directive 'language_level' not set, using '3str' for now (Py3). This has changed from earlier releases! File: /kaggle/working/RECsys_Challenge2024/Utils/PyTorch/Cython/DataIterator.pyx\r\n",
      "  tree = Parsing.p_module(s, pxd, full_module_name)\r\n",
      "Compiling [11/11]: DataIterator.pyx... PASS\r\n",
      "\r\n",
      "run_compile_all_cython: Compilation finished. FAILS 2/11.\r\n",
      "Compilation log can be found here: './result_experiments/run_compile_all_cython.txt'\r\n"
     ]
    }
   ],
   "source": [
    "%cd /kaggle/working/RECsys_Challenge2024 \n",
    "! python run_compile_all_cython.py"
   ]
  },
  {
   "cell_type": "code",
   "execution_count": 5,
   "id": "bf253ede",
   "metadata": {
    "execution": {
     "iopub.execute_input": "2024-12-16T12:41:50.145327Z",
     "iopub.status.busy": "2024-12-16T12:41:50.144412Z",
     "iopub.status.idle": "2024-12-16T12:41:51.961367Z",
     "shell.execute_reply": "2024-12-16T12:41:51.960093Z"
    },
    "papermill": {
     "duration": 1.834143,
     "end_time": "2024-12-16T12:41:51.963965",
     "exception": false,
     "start_time": "2024-12-16T12:41:50.129822",
     "status": "completed"
    },
    "tags": []
   },
   "outputs": [],
   "source": [
    "from Utils.notebookFunctions import *\n",
    "import numpy as np\n",
    "import pandas as pd\n",
    "import scipy.sparse as sps\n",
    "import time\n",
    "import shutil\n",
    "import optuna\n",
    "import json\n",
    "import os\n",
    "from Utils.seconds_to_biggest_unit import seconds_to_biggest_unit\n",
    "\n",
    "\n",
    "K_PATH = '/kaggle/working/RECsys_Challenge2024'\n",
    "GH_PATH = 'TrainedModels/WithoutKFCV/SLIM'\n",
    "\n",
    "np.random.seed(42)"
   ]
  },
  {
   "cell_type": "markdown",
   "id": "d669543c",
   "metadata": {
    "papermill": {
     "duration": 0.012752,
     "end_time": "2024-12-16T12:41:51.989783",
     "exception": false,
     "start_time": "2024-12-16T12:41:51.977031",
     "status": "completed"
    },
    "tags": []
   },
   "source": [
    "## Import the repository"
   ]
  },
  {
   "cell_type": "code",
   "execution_count": 6,
   "id": "57133b25",
   "metadata": {
    "execution": {
     "iopub.execute_input": "2024-12-16T12:41:52.018402Z",
     "iopub.status.busy": "2024-12-16T12:41:52.017006Z",
     "iopub.status.idle": "2024-12-16T12:41:52.288494Z",
     "shell.execute_reply": "2024-12-16T12:41:52.287340Z"
    },
    "papermill": {
     "duration": 0.28787,
     "end_time": "2024-12-16T12:41:52.290722",
     "exception": false,
     "start_time": "2024-12-16T12:41:52.002852",
     "status": "completed"
    },
    "tags": []
   },
   "outputs": [
    {
     "name": "stdout",
     "output_type": "stream",
     "text": [
      "Repository 'RECsys_Challenge2024' found.\n"
     ]
    }
   ],
   "source": [
    "repo = get_repo_from_github(token)"
   ]
  },
  {
   "cell_type": "code",
   "execution_count": 7,
   "id": "1777b1f5",
   "metadata": {
    "execution": {
     "iopub.execute_input": "2024-12-16T12:41:52.319695Z",
     "iopub.status.busy": "2024-12-16T12:41:52.319321Z",
     "iopub.status.idle": "2024-12-16T12:41:52.324820Z",
     "shell.execute_reply": "2024-12-16T12:41:52.323540Z"
    },
    "papermill": {
     "duration": 0.022789,
     "end_time": "2024-12-16T12:41:52.326884",
     "exception": false,
     "start_time": "2024-12-16T12:41:52.304095",
     "status": "completed"
    },
    "tags": []
   },
   "outputs": [],
   "source": [
    "config = {\n",
    "    'model': 'SLIM_BPR',\n",
    "    'metric': 'MAP',\n",
    "    'tune_parameters': True,\n",
    "    'database_path': '/kaggle/working/history_SLIM_BPR_MAP.db',\n",
    "    'copy_prev_best_params': False,\n",
    "    'tune_best_params': True,\n",
    "    'save_github': True\n",
    "}"
   ]
  },
  {
   "cell_type": "markdown",
   "id": "070d62f1",
   "metadata": {
    "papermill": {
     "duration": 0.012295,
     "end_time": "2024-12-16T12:41:52.352082",
     "exception": false,
     "start_time": "2024-12-16T12:41:52.339787",
     "status": "completed"
    },
    "tags": []
   },
   "source": [
    "Import the database where previous tuning trials have been saved."
   ]
  },
  {
   "cell_type": "code",
   "execution_count": 8,
   "id": "1d7b897d",
   "metadata": {
    "execution": {
     "iopub.execute_input": "2024-12-16T12:41:52.380301Z",
     "iopub.status.busy": "2024-12-16T12:41:52.379881Z",
     "iopub.status.idle": "2024-12-16T12:41:52.386014Z",
     "shell.execute_reply": "2024-12-16T12:41:52.384990Z"
    },
    "papermill": {
     "duration": 0.023463,
     "end_time": "2024-12-16T12:41:52.388370",
     "exception": false,
     "start_time": "2024-12-16T12:41:52.364907",
     "status": "completed"
    },
    "tags": []
   },
   "outputs": [],
   "source": [
    "try:\n",
    "    shutil.copyfile(\n",
    "        f'{K_PATH}/{GH_PATH}/{config[\"model\"]}_Recommender/Optimizing{config[\"metric\"]}/history_{config[\"model\"]}_{config[\"metric\"]}.db', \n",
    "        config['database_path']\n",
    "    )\n",
    "except FileNotFoundError:\n",
    "    pass # if not present optuna will create it"
   ]
  },
  {
   "cell_type": "markdown",
   "id": "c402c27d",
   "metadata": {
    "papermill": {
     "duration": 0.012793,
     "end_time": "2024-12-16T12:41:52.414530",
     "exception": false,
     "start_time": "2024-12-16T12:41:52.401737",
     "status": "completed"
    },
    "tags": []
   },
   "source": [
    "# Construction of URM and ICM matrices"
   ]
  },
  {
   "cell_type": "code",
   "execution_count": 9,
   "id": "d3949864",
   "metadata": {
    "execution": {
     "iopub.execute_input": "2024-12-16T12:41:52.442300Z",
     "iopub.status.busy": "2024-12-16T12:41:52.441892Z",
     "iopub.status.idle": "2024-12-16T12:41:53.279806Z",
     "shell.execute_reply": "2024-12-16T12:41:53.278558Z"
    },
    "papermill": {
     "duration": 0.854781,
     "end_time": "2024-12-16T12:41:53.282350",
     "exception": false,
     "start_time": "2024-12-16T12:41:52.427569",
     "status": "completed"
    },
    "tags": []
   },
   "outputs": [
    {
     "data": {
      "text/plain": [
       "<Compressed Sparse Row sparse matrix of dtype 'float64'\n",
       "\twith 1764607 stored elements and shape (35736, 38121)>"
      ]
     },
     "execution_count": 9,
     "metadata": {},
     "output_type": "execute_result"
    }
   ],
   "source": [
    "URM_all_dataframe = pd.read_csv(\"/kaggle/input/recommender-system-2024-challenge-polimi/data_train.csv\")\n",
    "\n",
    "n_users = len(URM_all_dataframe[\"user_id\"].unique())\n",
    "n_items = len(URM_all_dataframe[\"item_id\"].unique())\n",
    "\n",
    "URM_all = sps.csr_matrix((URM_all_dataframe[\"data\"].values, \n",
    "                          (URM_all_dataframe[\"user_id\"].values, URM_all_dataframe[\"item_id\"].values)),\n",
    "                        shape = (n_users, n_items))\n",
    "\n",
    "URM_all"
   ]
  },
  {
   "cell_type": "code",
   "execution_count": 10,
   "id": "61a21716",
   "metadata": {
    "execution": {
     "iopub.execute_input": "2024-12-16T12:41:53.311797Z",
     "iopub.status.busy": "2024-12-16T12:41:53.311410Z",
     "iopub.status.idle": "2024-12-16T12:41:54.619437Z",
     "shell.execute_reply": "2024-12-16T12:41:54.618270Z"
    },
    "papermill": {
     "duration": 1.325021,
     "end_time": "2024-12-16T12:41:54.621837",
     "exception": false,
     "start_time": "2024-12-16T12:41:53.296816",
     "status": "completed"
    },
    "tags": []
   },
   "outputs": [
    {
     "data": {
      "text/plain": [
       "<Compressed Sparse Row sparse matrix of dtype 'float64'\n",
       "\twith 2940040 stored elements and shape (38121, 94331)>"
      ]
     },
     "execution_count": 10,
     "metadata": {},
     "output_type": "execute_result"
    }
   ],
   "source": [
    "ICM_dataframe = pd.read_csv(\"/kaggle/input/recommender-system-2024-challenge-polimi/data_ICM_metadata.csv\")\n",
    "\n",
    "n_items = len(ICM_dataframe[\"item_id\"].unique())\n",
    "n_features = len(ICM_dataframe[\"feature_id\"].unique())\n",
    "\n",
    "ICM_all = sps.csr_matrix((ICM_dataframe[\"data\"].values, \n",
    "                          (ICM_dataframe[\"item_id\"].values, ICM_dataframe[\"feature_id\"].values)),\n",
    "                        shape = (n_items, n_features))\n",
    "\n",
    "ICM_all"
   ]
  },
  {
   "cell_type": "markdown",
   "id": "ab86842b",
   "metadata": {
    "papermill": {
     "duration": 0.012756,
     "end_time": "2024-12-16T12:41:54.647984",
     "exception": false,
     "start_time": "2024-12-16T12:41:54.635228",
     "status": "completed"
    },
    "tags": []
   },
   "source": [
    "# Training"
   ]
  },
  {
   "cell_type": "code",
   "execution_count": 11,
   "id": "85f765f3",
   "metadata": {
    "execution": {
     "iopub.execute_input": "2024-12-16T12:41:54.675646Z",
     "iopub.status.busy": "2024-12-16T12:41:54.675255Z",
     "iopub.status.idle": "2024-12-16T12:41:57.714794Z",
     "shell.execute_reply": "2024-12-16T12:41:57.713387Z"
    },
    "papermill": {
     "duration": 3.056022,
     "end_time": "2024-12-16T12:41:57.717198",
     "exception": false,
     "start_time": "2024-12-16T12:41:54.661176",
     "status": "completed"
    },
    "tags": []
   },
   "outputs": [
    {
     "name": "stdout",
     "output_type": "stream",
     "text": [
      "Warning: 141 (0.39 %) of 35736 users have no sampled items\n",
      "EvaluatorHoldout: Ignoring 141 ( 0.4%) Users that have less than 1 test interactions\n"
     ]
    }
   ],
   "source": [
    "from Evaluation.Evaluator import EvaluatorHoldout\n",
    "from Data_manager.split_functions.split_train_validation_random_holdout import split_train_in_two_percentage_global_sample\n",
    "\n",
    "URM_train, URM_validation = split_train_in_two_percentage_global_sample(URM_all, train_percentage = 0.80)\n",
    "\n",
    "evaluator_validation = EvaluatorHoldout(URM_validation, cutoff_list=[10])"
   ]
  },
  {
   "cell_type": "code",
   "execution_count": 12,
   "id": "3f1d822f",
   "metadata": {
    "execution": {
     "iopub.execute_input": "2024-12-16T12:41:57.747841Z",
     "iopub.status.busy": "2024-12-16T12:41:57.747462Z",
     "iopub.status.idle": "2024-12-16T12:41:57.762698Z",
     "shell.execute_reply": "2024-12-16T12:41:57.761504Z"
    },
    "papermill": {
     "duration": 0.035317,
     "end_time": "2024-12-16T12:41:57.766092",
     "exception": false,
     "start_time": "2024-12-16T12:41:57.730775",
     "status": "completed"
    },
    "tags": []
   },
   "outputs": [],
   "source": [
    "from Recommenders.SLIM.SLIM_BPR_Python import SLIM_BPR_Python\n",
    "\n",
    "def objective_function_slim_bpr(optuna_trial):\n",
    "\n",
    "    recommender_instance = SLIM_BPR_Python(URM_train)\n",
    "\n",
    "    full_hyperp = {\n",
    "                    \"topK\": optuna_trial.suggest_int(\"topK\", 0, 500),\n",
    "                    \"epochs\": optuna_trial.suggest_int(\"epochs\", 1, 50),\n",
    "                    \"lambda_i\": optuna_trial.suggest_float(\"lambda_i\", 1e-5, 1e-1, log=True),\n",
    "                    \"lambda_j\": optuna_trial.suggest_float(\"lambda_j\", 1e-5, 1e-1, log=True),\n",
    "                    \"learning_rate\": optuna_trial.suggest_float(\"learning_rate\", 1e-4, 1e-1, log=True)\n",
    "                }\n",
    "\n",
    "    recommender_instance.fit(**full_hyperp)\n",
    "\n",
    "    result_df, _ = evaluator_validation.evaluateRecommender(recommender_instance)\n",
    "\n",
    "    return result_df.loc[10][\"MAP\"]"
   ]
  },
  {
   "cell_type": "code",
   "execution_count": 13,
   "id": "a3ce45ce",
   "metadata": {
    "_kg_hide-output": true,
    "execution": {
     "iopub.execute_input": "2024-12-16T12:41:57.796446Z",
     "iopub.status.busy": "2024-12-16T12:41:57.795041Z",
     "iopub.status.idle": "2024-12-16T13:50:15.420860Z",
     "shell.execute_reply": "2024-12-16T13:50:15.419126Z"
    },
    "papermill": {
     "duration": 4097.644358,
     "end_time": "2024-12-16T13:50:15.424080",
     "exception": false,
     "start_time": "2024-12-16T12:41:57.779722",
     "status": "completed"
    },
    "tags": []
   },
   "outputs": [
    {
     "name": "stderr",
     "output_type": "stream",
     "text": [
      "[I 2024-12-16 12:41:59,599] Using an existing study with name 'hyperparameters_tuning_SLIM_BPR_MAP' instead of creating a new one.\n"
     ]
    },
    {
     "name": "stdout",
     "output_type": "stream",
     "text": [
      "Epoch 1, Iteration 35736 in 11.31 seconds. Samples per second 3158.94\n",
      "Epoch 2, Iteration 35736 in 7.89 seconds. Samples per second 4527.63\n",
      "Epoch 3, Iteration 35736 in 6.20 seconds. Samples per second 5766.67\n",
      "Epoch 4, Iteration 35736 in 5.23 seconds. Samples per second 6835.93\n",
      "Epoch 5, Iteration 35736 in 4.61 seconds. Samples per second 7749.21\n",
      "Epoch 6, Iteration 35736 in 4.22 seconds. Samples per second 8468.61\n",
      "Epoch 7, Iteration 35736 in 3.82 seconds. Samples per second 9348.17\n",
      "Epoch 8, Iteration 35736 in 3.69 seconds. Samples per second 9681.78\n",
      "Epoch 9, Iteration 35736 in 3.49 seconds. Samples per second 10252.78\n",
      "Epoch 10, Iteration 35736 in 3.34 seconds. Samples per second 10712.95\n",
      "Epoch 11, Iteration 35736 in 3.36 seconds. Samples per second 10642.16\n",
      "Epoch 12, Iteration 35736 in 3.22 seconds. Samples per second 11096.58\n",
      "Epoch 13, Iteration 35736 in 3.15 seconds. Samples per second 11359.71\n",
      "Epoch 14, Iteration 35736 in 3.25 seconds. Samples per second 10987.29\n",
      "Epoch 15, Iteration 35736 in 3.21 seconds. Samples per second 11132.56\n",
      "Epoch 16, Iteration 35736 in 3.10 seconds. Samples per second 11523.41\n",
      "Epoch 17, Iteration 35736 in 3.04 seconds. Samples per second 11752.17\n",
      "Epoch 18, Iteration 35736 in 3.10 seconds. Samples per second 11525.62\n",
      "Epoch 19, Iteration 35736 in 3.03 seconds. Samples per second 11786.45\n",
      "Epoch 20, Iteration 35736 in 3.02 seconds. Samples per second 11834.16\n",
      "Epoch 21, Iteration 35736 in 3.04 seconds. Samples per second 11756.96\n",
      "Epoch 22, Iteration 35736 in 3.02 seconds. Samples per second 11845.77\n",
      "Epoch 23, Iteration 35736 in 3.04 seconds. Samples per second 11762.88\n",
      "Epoch 24, Iteration 35736 in 3.00 seconds. Samples per second 11914.38\n",
      "Epoch 25, Iteration 35736 in 3.17 seconds. Samples per second 11275.67\n",
      "Epoch 26, Iteration 35736 in 3.02 seconds. Samples per second 11816.90\n",
      "Epoch 27, Iteration 35736 in 3.09 seconds. Samples per second 11559.00\n",
      "Epoch 28, Iteration 35736 in 3.03 seconds. Samples per second 11804.65\n",
      "Epoch 29, Iteration 35736 in 3.02 seconds. Samples per second 11831.16\n",
      "Epoch 30, Iteration 35736 in 3.02 seconds. Samples per second 11826.59\n",
      "Epoch 31, Iteration 35736 in 3.05 seconds. Samples per second 11720.40\n",
      "Epoch 32, Iteration 35736 in 2.99 seconds. Samples per second 11945.35\n",
      "Epoch 33, Iteration 35736 in 2.98 seconds. Samples per second 11981.54\n",
      "Epoch 34, Iteration 35736 in 2.98 seconds. Samples per second 11991.07\n",
      "Train completed in 2.13 minutes\n",
      "EvaluatorHoldout: Processed 35595 (100.0%) in 48.13 sec. Users per second: 740\n"
     ]
    },
    {
     "name": "stderr",
     "output_type": "stream",
     "text": [
      "[I 2024-12-16 12:46:53,631] Trial 100 finished with value: 0.03209099837902933 and parameters: {'topK': 258, 'epochs': 34, 'lambda_i': 0.09618816669745978, 'lambda_j': 1.4094463989441331e-05, 'learning_rate': 0.0465101829513746}. Best is trial 98 with value: 0.040251465450157724.\n"
     ]
    },
    {
     "name": "stdout",
     "output_type": "stream",
     "text": [
      "Epoch 1, Iteration 35736 in 17.24 seconds. Samples per second 2073.25\n",
      "Epoch 2, Iteration 35736 in 16.47 seconds. Samples per second 2169.34\n",
      "Epoch 3, Iteration 35736 in 8.38 seconds. Samples per second 4262.06\n",
      "Epoch 4, Iteration 35736 in 6.78 seconds. Samples per second 5269.67\n",
      "Epoch 5, Iteration 35736 in 5.78 seconds. Samples per second 6182.23\n",
      "Epoch 6, Iteration 35736 in 5.08 seconds. Samples per second 7033.25\n",
      "Epoch 7, Iteration 35736 in 4.52 seconds. Samples per second 7904.17\n",
      "Epoch 8, Iteration 35736 in 4.21 seconds. Samples per second 8489.50\n",
      "Epoch 9, Iteration 35736 in 3.86 seconds. Samples per second 9250.87\n",
      "Epoch 10, Iteration 35736 in 3.73 seconds. Samples per second 9569.02\n",
      "Epoch 11, Iteration 35736 in 3.52 seconds. Samples per second 10162.45\n",
      "Epoch 12, Iteration 35736 in 3.47 seconds. Samples per second 10298.10\n",
      "Epoch 13, Iteration 35736 in 3.34 seconds. Samples per second 10683.49\n",
      "Epoch 14, Iteration 35736 in 3.38 seconds. Samples per second 10563.42\n",
      "Epoch 15, Iteration 35736 in 3.28 seconds. Samples per second 10899.53\n",
      "Epoch 16, Iteration 35736 in 3.23 seconds. Samples per second 11046.69\n",
      "Epoch 17, Iteration 35736 in 3.17 seconds. Samples per second 11276.80\n",
      "Epoch 18, Iteration 35736 in 3.21 seconds. Samples per second 11124.52\n",
      "Epoch 19, Iteration 35736 in 3.15 seconds. Samples per second 11338.21\n",
      "Epoch 20, Iteration 35736 in 3.13 seconds. Samples per second 11412.84\n",
      "Epoch 21, Iteration 35736 in 3.12 seconds. Samples per second 11442.40\n",
      "Epoch 22, Iteration 35736 in 3.16 seconds. Samples per second 11319.39\n",
      "Epoch 23, Iteration 35736 in 3.12 seconds. Samples per second 11466.00\n",
      "Epoch 24, Iteration 35736 in 3.12 seconds. Samples per second 11438.64\n",
      "Epoch 25, Iteration 35736 in 3.17 seconds. Samples per second 11274.31\n",
      "Epoch 26, Iteration 35736 in 3.05 seconds. Samples per second 11712.35\n",
      "Epoch 27, Iteration 35736 in 3.06 seconds. Samples per second 11695.74\n",
      "Epoch 28, Iteration 35736 in 3.12 seconds. Samples per second 11456.76\n",
      "Epoch 29, Iteration 35736 in 3.11 seconds. Samples per second 11484.32\n",
      "Train completed in 2.28 minutes\n",
      "EvaluatorHoldout: Processed 35595 (100.0%) in 33.74 sec. Users per second: 1055\n"
     ]
    },
    {
     "name": "stderr",
     "output_type": "stream",
     "text": [
      "[I 2024-12-16 12:53:38,411] Trial 101 finished with value: 0.040003929792171274 and parameters: {'topK': 10, 'epochs': 29, 'lambda_i': 0.05480373728893908, 'lambda_j': 0.0001997566172648345, 'learning_rate': 0.08588879753841518}. Best is trial 98 with value: 0.040251465450157724.\n"
     ]
    },
    {
     "name": "stdout",
     "output_type": "stream",
     "text": [
      "Epoch 1, Iteration 35736 in 12.05 seconds. Samples per second 2966.14\n",
      "Epoch 2, Iteration 35736 in 8.65 seconds. Samples per second 4130.93\n",
      "Epoch 3, Iteration 35736 in 6.89 seconds. Samples per second 5186.85\n",
      "Epoch 4, Iteration 35736 in 5.77 seconds. Samples per second 6189.26\n",
      "Epoch 5, Iteration 35736 in 5.00 seconds. Samples per second 7152.83\n",
      "Epoch 6, Iteration 35736 in 4.49 seconds. Samples per second 7952.07\n",
      "Epoch 7, Iteration 35736 in 4.08 seconds. Samples per second 8753.26\n",
      "Epoch 8, Iteration 35736 in 3.90 seconds. Samples per second 9163.55\n",
      "Epoch 9, Iteration 35736 in 3.69 seconds. Samples per second 9678.53\n",
      "Epoch 10, Iteration 35736 in 3.61 seconds. Samples per second 9910.46\n",
      "Epoch 11, Iteration 35736 in 3.46 seconds. Samples per second 10317.65\n",
      "Epoch 12, Iteration 35736 in 3.52 seconds. Samples per second 10162.04\n",
      "Epoch 13, Iteration 35736 in 3.42 seconds. Samples per second 10442.84\n",
      "Epoch 14, Iteration 35736 in 3.33 seconds. Samples per second 10741.28\n",
      "Epoch 15, Iteration 35736 in 3.28 seconds. Samples per second 10903.63\n",
      "Epoch 16, Iteration 35736 in 3.21 seconds. Samples per second 11125.81\n",
      "Epoch 17, Iteration 35736 in 3.20 seconds. Samples per second 11152.08\n",
      "Epoch 18, Iteration 35736 in 3.22 seconds. Samples per second 11110.67\n",
      "Epoch 19, Iteration 35736 in 3.21 seconds. Samples per second 11121.28\n",
      "Epoch 20, Iteration 35736 in 3.17 seconds. Samples per second 11271.09\n",
      "Epoch 21, Iteration 35736 in 3.27 seconds. Samples per second 10919.86\n",
      "Epoch 22, Iteration 35736 in 3.46 seconds. Samples per second 10316.22\n",
      "Epoch 23, Iteration 35736 in 3.33 seconds. Samples per second 10734.87\n",
      "Epoch 24, Iteration 35736 in 3.23 seconds. Samples per second 11051.90\n",
      "Epoch 25, Iteration 35736 in 3.17 seconds. Samples per second 11260.76\n",
      "Epoch 26, Iteration 35736 in 3.16 seconds. Samples per second 11301.35\n",
      "Epoch 27, Iteration 35736 in 3.10 seconds. Samples per second 11543.77\n",
      "Epoch 28, Iteration 35736 in 3.12 seconds. Samples per second 11453.16\n",
      "Epoch 29, Iteration 35736 in 3.14 seconds. Samples per second 11366.70\n",
      "Train completed in 2.00 minutes\n",
      "EvaluatorHoldout: Processed 35595 (100.0%) in 34.98 sec. Users per second: 1018\n"
     ]
    },
    {
     "name": "stderr",
     "output_type": "stream",
     "text": [
      "[I 2024-12-16 13:00:25,230] Trial 102 finished with value: 0.039801831450376066 and parameters: {'topK': 13, 'epochs': 29, 'lambda_i': 0.0694379641882813, 'lambda_j': 1.825467392282596e-05, 'learning_rate': 0.08362110418404013}. Best is trial 98 with value: 0.040251465450157724.\n"
     ]
    },
    {
     "name": "stdout",
     "output_type": "stream",
     "text": [
      "Epoch 1, Iteration 35736 in 11.52 seconds. Samples per second 3101.49\n",
      "Epoch 2, Iteration 35736 in 7.53 seconds. Samples per second 4742.71\n",
      "Epoch 3, Iteration 35736 in 6.03 seconds. Samples per second 5927.97\n",
      "Epoch 4, Iteration 35736 in 5.19 seconds. Samples per second 6884.69\n",
      "Epoch 5, Iteration 35736 in 4.55 seconds. Samples per second 7862.32\n",
      "Epoch 6, Iteration 35736 in 4.42 seconds. Samples per second 8092.55\n",
      "Epoch 7, Iteration 35736 in 3.97 seconds. Samples per second 8995.23\n",
      "Epoch 8, Iteration 35736 in 3.80 seconds. Samples per second 9400.48\n",
      "Epoch 9, Iteration 35736 in 3.75 seconds. Samples per second 9517.13\n",
      "Epoch 10, Iteration 35736 in 3.66 seconds. Samples per second 9757.82\n",
      "Epoch 11, Iteration 35736 in 3.50 seconds. Samples per second 10215.82\n",
      "Epoch 12, Iteration 35736 in 3.44 seconds. Samples per second 10384.70\n",
      "Epoch 13, Iteration 35736 in 3.29 seconds. Samples per second 10862.98\n",
      "Epoch 14, Iteration 35736 in 3.30 seconds. Samples per second 10833.81\n",
      "Epoch 15, Iteration 35736 in 3.22 seconds. Samples per second 11109.62\n",
      "Epoch 16, Iteration 35736 in 3.17 seconds. Samples per second 11259.44\n",
      "Epoch 17, Iteration 35736 in 3.30 seconds. Samples per second 10814.90\n",
      "Epoch 18, Iteration 35736 in 3.35 seconds. Samples per second 10671.82\n",
      "Epoch 19, Iteration 35736 in 3.25 seconds. Samples per second 10992.58\n",
      "Epoch 20, Iteration 35736 in 3.13 seconds. Samples per second 11400.20\n",
      "Epoch 21, Iteration 35736 in 3.14 seconds. Samples per second 11373.94\n",
      "Epoch 22, Iteration 35736 in 3.23 seconds. Samples per second 11073.70\n",
      "Epoch 23, Iteration 35736 in 3.12 seconds. Samples per second 11459.19\n",
      "Epoch 24, Iteration 35736 in 3.21 seconds. Samples per second 11117.97\n",
      "Epoch 25, Iteration 35736 in 3.17 seconds. Samples per second 11270.35\n",
      "Epoch 26, Iteration 35736 in 3.15 seconds. Samples per second 11333.76\n",
      "Epoch 27, Iteration 35736 in 3.13 seconds. Samples per second 11425.99\n",
      "Epoch 28, Iteration 35736 in 3.17 seconds. Samples per second 11277.29\n",
      "Epoch 29, Iteration 35736 in 3.16 seconds. Samples per second 11313.58\n",
      "Epoch 30, Iteration 35736 in 3.12 seconds. Samples per second 11468.28\n",
      "Epoch 31, Iteration 35736 in 3.18 seconds. Samples per second 11254.38\n",
      "Epoch 32, Iteration 35736 in 3.08 seconds. Samples per second 11609.47\n",
      "Train completed in 2.09 minutes\n",
      "EvaluatorHoldout: Processed 35595 (100.0%) in 33.61 sec. Users per second: 1059\n"
     ]
    },
    {
     "name": "stderr",
     "output_type": "stream",
     "text": [
      "[I 2024-12-16 13:07:23,191] Trial 103 finished with value: 0.0397519927669514 and parameters: {'topK': 9, 'epochs': 32, 'lambda_i': 0.05461075454975078, 'lambda_j': 1.4566116196914038e-05, 'learning_rate': 0.0661247201411608}. Best is trial 98 with value: 0.040251465450157724.\n"
     ]
    },
    {
     "name": "stdout",
     "output_type": "stream",
     "text": [
      "Epoch 1, Iteration 35736 in 10.49 seconds. Samples per second 3407.08\n",
      "Epoch 2, Iteration 35736 in 7.58 seconds. Samples per second 4715.11\n",
      "Epoch 3, Iteration 35736 in 6.24 seconds. Samples per second 5730.25\n",
      "Epoch 4, Iteration 35736 in 5.37 seconds. Samples per second 6654.58\n",
      "Epoch 5, Iteration 35736 in 4.72 seconds. Samples per second 7573.31\n",
      "Epoch 6, Iteration 35736 in 4.21 seconds. Samples per second 8484.59\n",
      "Epoch 7, Iteration 35736 in 3.90 seconds. Samples per second 9168.28\n",
      "Epoch 8, Iteration 35736 in 3.71 seconds. Samples per second 9620.55\n",
      "Epoch 9, Iteration 35736 in 3.51 seconds. Samples per second 10183.03\n",
      "Epoch 10, Iteration 35736 in 3.49 seconds. Samples per second 10248.88\n",
      "Epoch 11, Iteration 35736 in 3.41 seconds. Samples per second 10494.27\n",
      "Epoch 12, Iteration 35736 in 3.43 seconds. Samples per second 10413.74\n",
      "Epoch 13, Iteration 35736 in 3.35 seconds. Samples per second 10663.82\n",
      "Epoch 14, Iteration 35736 in 3.26 seconds. Samples per second 10950.64\n",
      "Epoch 15, Iteration 35736 in 3.21 seconds. Samples per second 11141.65\n",
      "Epoch 16, Iteration 35736 in 3.14 seconds. Samples per second 11364.22\n",
      "Epoch 17, Iteration 35736 in 3.13 seconds. Samples per second 11403.51\n",
      "Epoch 18, Iteration 35736 in 3.15 seconds. Samples per second 11340.63\n",
      "Epoch 19, Iteration 35736 in 3.12 seconds. Samples per second 11438.64\n",
      "Epoch 20, Iteration 35736 in 3.20 seconds. Samples per second 11177.31\n",
      "Epoch 21, Iteration 35736 in 3.07 seconds. Samples per second 11628.74\n",
      "Epoch 22, Iteration 35736 in 3.23 seconds. Samples per second 11063.25\n",
      "Epoch 23, Iteration 35736 in 3.19 seconds. Samples per second 11208.37\n",
      "Epoch 24, Iteration 35736 in 3.10 seconds. Samples per second 11521.96\n",
      "Epoch 25, Iteration 35736 in 3.09 seconds. Samples per second 11578.45\n",
      "Epoch 26, Iteration 35736 in 3.11 seconds. Samples per second 11486.98\n",
      "Epoch 27, Iteration 35736 in 3.19 seconds. Samples per second 11219.70\n",
      "Epoch 28, Iteration 35736 in 3.19 seconds. Samples per second 11212.55\n",
      "Epoch 29, Iteration 35736 in 3.27 seconds. Samples per second 10933.18\n",
      "Epoch 30, Iteration 35736 in 3.38 seconds. Samples per second 10572.31\n",
      "Epoch 31, Iteration 35736 in 3.25 seconds. Samples per second 11000.87\n",
      "Epoch 32, Iteration 35736 in 3.31 seconds. Samples per second 10802.02\n",
      "Train completed in 2.07 minutes\n",
      "EvaluatorHoldout: Processed 35595 (100.0%) in 33.39 sec. Users per second: 1066\n"
     ]
    },
    {
     "name": "stderr",
     "output_type": "stream",
     "text": [
      "[I 2024-12-16 13:14:06,424] Trial 104 finished with value: 0.0397985259656123 and parameters: {'topK': 8, 'epochs': 32, 'lambda_i': 0.054769710219132954, 'lambda_j': 1.567920051047592e-05, 'learning_rate': 0.0650567896754302}. Best is trial 98 with value: 0.040251465450157724.\n"
     ]
    },
    {
     "name": "stdout",
     "output_type": "stream",
     "text": [
      "Epoch 1, Iteration 35736 in 10.45 seconds. Samples per second 3419.99\n",
      "Epoch 2, Iteration 35736 in 7.45 seconds. Samples per second 4794.06\n",
      "Epoch 3, Iteration 35736 in 5.97 seconds. Samples per second 5982.57\n",
      "Epoch 4, Iteration 35736 in 5.06 seconds. Samples per second 7068.19\n",
      "Epoch 5, Iteration 35736 in 4.50 seconds. Samples per second 7947.65\n",
      "Epoch 6, Iteration 35736 in 4.31 seconds. Samples per second 8285.32\n",
      "Epoch 7, Iteration 35736 in 3.89 seconds. Samples per second 9179.68\n",
      "Epoch 8, Iteration 35736 in 3.81 seconds. Samples per second 9374.06\n",
      "Epoch 9, Iteration 35736 in 5.04 seconds. Samples per second 7094.86\n",
      "Epoch 10, Iteration 35736 in 3.62 seconds. Samples per second 9862.60\n",
      "Epoch 11, Iteration 35736 in 3.52 seconds. Samples per second 10165.39\n",
      "Epoch 12, Iteration 35736 in 9.11 seconds. Samples per second 3921.61\n",
      "Epoch 13, Iteration 35736 in 6.02 seconds. Samples per second 5938.99\n",
      "Epoch 14, Iteration 35736 in 3.67 seconds. Samples per second 9742.49\n",
      "Epoch 15, Iteration 35736 in 3.50 seconds. Samples per second 10198.97\n",
      "Epoch 16, Iteration 35736 in 3.43 seconds. Samples per second 10403.81\n",
      "Epoch 17, Iteration 35736 in 3.33 seconds. Samples per second 10732.18\n",
      "Epoch 18, Iteration 35736 in 3.26 seconds. Samples per second 10962.88\n",
      "Epoch 19, Iteration 35736 in 3.23 seconds. Samples per second 11080.03\n",
      "Epoch 20, Iteration 35736 in 3.23 seconds. Samples per second 11068.86\n",
      "Epoch 21, Iteration 35736 in 3.22 seconds. Samples per second 11095.60\n",
      "Epoch 22, Iteration 35736 in 3.35 seconds. Samples per second 10651.89\n",
      "Epoch 23, Iteration 35736 in 3.11 seconds. Samples per second 11508.89\n",
      "Epoch 24, Iteration 35736 in 3.13 seconds. Samples per second 11430.97\n",
      "Epoch 25, Iteration 35736 in 3.21 seconds. Samples per second 11131.84\n",
      "Epoch 26, Iteration 35736 in 3.17 seconds. Samples per second 11280.46\n",
      "Epoch 27, Iteration 35736 in 3.10 seconds. Samples per second 11529.82\n",
      "Epoch 28, Iteration 35736 in 3.15 seconds. Samples per second 11353.05\n",
      "Epoch 29, Iteration 35736 in 3.10 seconds. Samples per second 11531.72\n",
      "Epoch 30, Iteration 35736 in 3.06 seconds. Samples per second 11675.54\n",
      "Epoch 31, Iteration 35736 in 3.12 seconds. Samples per second 11446.85\n",
      "Epoch 32, Iteration 35736 in 3.22 seconds. Samples per second 11098.41\n",
      "Epoch 33, Iteration 35736 in 3.02 seconds. Samples per second 11835.48\n",
      "Epoch 34, Iteration 35736 in 3.04 seconds. Samples per second 11744.00\n",
      "Epoch 35, Iteration 35736 in 2.98 seconds. Samples per second 11991.66\n",
      "Train completed in 2.39 minutes\n",
      "EvaluatorHoldout: Processed 35595 (100.0%) in 33.71 sec. Users per second: 1056\n"
     ]
    },
    {
     "name": "stderr",
     "output_type": "stream",
     "text": [
      "[I 2024-12-16 13:21:13,054] Trial 105 finished with value: 0.039890688232026926 and parameters: {'topK': 7, 'epochs': 35, 'lambda_i': 0.054813343680909524, 'lambda_j': 1.7503080113904803e-05, 'learning_rate': 0.061432099811390965}. Best is trial 98 with value: 0.040251465450157724.\n"
     ]
    },
    {
     "name": "stdout",
     "output_type": "stream",
     "text": [
      "Epoch 1, Iteration 35736 in 10.34 seconds. Samples per second 3456.25\n",
      "Epoch 2, Iteration 35736 in 7.69 seconds. Samples per second 4645.26\n",
      "Epoch 3, Iteration 35736 in 6.05 seconds. Samples per second 5908.11\n",
      "Epoch 4, Iteration 35736 in 5.17 seconds. Samples per second 6918.70\n",
      "Epoch 5, Iteration 35736 in 4.59 seconds. Samples per second 7789.48\n",
      "Epoch 6, Iteration 35736 in 4.18 seconds. Samples per second 8556.86\n",
      "Epoch 7, Iteration 35736 in 3.83 seconds. Samples per second 9329.37\n",
      "Epoch 8, Iteration 35736 in 3.75 seconds. Samples per second 9517.81\n",
      "Epoch 9, Iteration 35736 in 3.53 seconds. Samples per second 10135.71\n",
      "Epoch 10, Iteration 35736 in 3.56 seconds. Samples per second 10044.10\n",
      "Epoch 11, Iteration 35736 in 3.42 seconds. Samples per second 10458.09\n",
      "Epoch 12, Iteration 35736 in 3.30 seconds. Samples per second 10820.97\n",
      "Epoch 13, Iteration 35736 in 3.32 seconds. Samples per second 10776.18\n",
      "Epoch 14, Iteration 35736 in 3.24 seconds. Samples per second 11027.74\n",
      "Epoch 15, Iteration 35736 in 3.16 seconds. Samples per second 11315.16\n",
      "Epoch 16, Iteration 35736 in 3.17 seconds. Samples per second 11281.49\n",
      "Epoch 17, Iteration 35736 in 3.16 seconds. Samples per second 11304.58\n",
      "Epoch 18, Iteration 35736 in 3.13 seconds. Samples per second 11400.48\n",
      "Epoch 19, Iteration 35736 in 3.08 seconds. Samples per second 11601.76\n",
      "Epoch 20, Iteration 35736 in 3.21 seconds. Samples per second 11135.63\n",
      "Epoch 21, Iteration 35736 in 3.17 seconds. Samples per second 11282.55\n",
      "Epoch 22, Iteration 35736 in 3.21 seconds. Samples per second 11136.98\n",
      "Epoch 23, Iteration 35736 in 3.20 seconds. Samples per second 11170.87\n",
      "Epoch 24, Iteration 35736 in 3.09 seconds. Samples per second 11565.81\n",
      "Epoch 25, Iteration 35736 in 3.15 seconds. Samples per second 11336.71\n",
      "Epoch 26, Iteration 35736 in 3.10 seconds. Samples per second 11509.77\n",
      "Epoch 27, Iteration 35736 in 3.09 seconds. Samples per second 11581.73\n",
      "Epoch 28, Iteration 35736 in 3.06 seconds. Samples per second 11678.09\n",
      "Epoch 29, Iteration 35736 in 3.05 seconds. Samples per second 11705.88\n",
      "Epoch 30, Iteration 35736 in 3.16 seconds. Samples per second 11305.94\n",
      "Epoch 31, Iteration 35736 in 3.11 seconds. Samples per second 11500.62\n",
      "Epoch 32, Iteration 35736 in 3.27 seconds. Samples per second 10939.86\n",
      "Epoch 33, Iteration 35736 in 3.39 seconds. Samples per second 10554.31\n",
      "Epoch 34, Iteration 35736 in 3.27 seconds. Samples per second 10941.48\n",
      "Epoch 35, Iteration 35736 in 3.20 seconds. Samples per second 11175.69\n",
      "Train completed in 2.21 minutes\n",
      "EvaluatorHoldout: Processed 35595 (100.0%) in 33.57 sec. Users per second: 1060\n"
     ]
    },
    {
     "name": "stderr",
     "output_type": "stream",
     "text": [
      "[I 2024-12-16 13:28:24,398] Trial 106 finished with value: 0.03961602864679026 and parameters: {'topK': 6, 'epochs': 35, 'lambda_i': 0.09860812359043748, 'lambda_j': 1.710027399643863e-05, 'learning_rate': 0.05159466785248036}. Best is trial 98 with value: 0.040251465450157724.\n"
     ]
    },
    {
     "name": "stdout",
     "output_type": "stream",
     "text": [
      "Epoch 1, Iteration 35736 in 10.37 seconds. Samples per second 3444.89\n",
      "Epoch 2, Iteration 35736 in 7.44 seconds. Samples per second 4804.36\n",
      "Epoch 3, Iteration 35736 in 6.10 seconds. Samples per second 5854.40\n",
      "Epoch 4, Iteration 35736 in 5.06 seconds. Samples per second 7057.81\n",
      "Epoch 5, Iteration 35736 in 4.73 seconds. Samples per second 7554.88\n",
      "Epoch 6, Iteration 35736 in 4.13 seconds. Samples per second 8650.16\n",
      "Epoch 7, Iteration 35736 in 3.79 seconds. Samples per second 9429.54\n",
      "Epoch 8, Iteration 35736 in 3.69 seconds. Samples per second 9688.85\n",
      "Epoch 9, Iteration 35736 in 3.53 seconds. Samples per second 10125.45\n",
      "Epoch 10, Iteration 35736 in 3.58 seconds. Samples per second 9978.97\n",
      "Epoch 11, Iteration 35736 in 3.61 seconds. Samples per second 9899.56\n",
      "Epoch 12, Iteration 35736 in 3.42 seconds. Samples per second 10456.67\n",
      "Epoch 13, Iteration 35736 in 3.37 seconds. Samples per second 10611.15\n",
      "Epoch 14, Iteration 35736 in 3.29 seconds. Samples per second 10856.44\n",
      "Epoch 15, Iteration 35736 in 3.22 seconds. Samples per second 11085.30\n",
      "Epoch 16, Iteration 35736 in 3.20 seconds. Samples per second 11159.87\n",
      "Epoch 17, Iteration 35736 in 3.23 seconds. Samples per second 11053.81\n",
      "Epoch 18, Iteration 35736 in 3.18 seconds. Samples per second 11221.25\n",
      "Epoch 19, Iteration 35736 in 3.22 seconds. Samples per second 11104.92\n",
      "Epoch 20, Iteration 35736 in 3.15 seconds. Samples per second 11345.28\n",
      "Epoch 21, Iteration 35736 in 3.14 seconds. Samples per second 11393.83\n",
      "Epoch 22, Iteration 35736 in 3.11 seconds. Samples per second 11503.75\n",
      "Epoch 23, Iteration 35736 in 3.16 seconds. Samples per second 11291.92\n",
      "Epoch 24, Iteration 35736 in 3.16 seconds. Samples per second 11306.45\n",
      "Epoch 25, Iteration 35736 in 3.15 seconds. Samples per second 11335.97\n",
      "Epoch 26, Iteration 35736 in 3.18 seconds. Samples per second 11245.24\n",
      "Epoch 27, Iteration 35736 in 3.10 seconds. Samples per second 11524.68\n",
      "Epoch 28, Iteration 35736 in 3.07 seconds. Samples per second 11649.00\n",
      "Epoch 29, Iteration 35736 in 3.09 seconds. Samples per second 11564.10\n",
      "Epoch 30, Iteration 35736 in 3.07 seconds. Samples per second 11639.60\n",
      "Epoch 31, Iteration 35736 in 3.06 seconds. Samples per second 11669.13\n",
      "Epoch 32, Iteration 35736 in 3.07 seconds. Samples per second 11625.98\n",
      "Epoch 33, Iteration 35736 in 3.07 seconds. Samples per second 11638.94\n",
      "Epoch 34, Iteration 35736 in 3.08 seconds. Samples per second 11584.23\n",
      "Epoch 35, Iteration 35736 in 3.04 seconds. Samples per second 11744.13\n",
      "Train completed in 2.20 minutes\n",
      "EvaluatorHoldout: Processed 35595 (100.0%) in 34.04 sec. Users per second: 1046\n"
     ]
    },
    {
     "name": "stderr",
     "output_type": "stream",
     "text": [
      "[I 2024-12-16 13:35:35,944] Trial 107 finished with value: 0.03966284501345459 and parameters: {'topK': 6, 'epochs': 35, 'lambda_i': 0.05969159732578023, 'lambda_j': 1.4761611530692492e-05, 'learning_rate': 0.058195060469660075}. Best is trial 98 with value: 0.040251465450157724.\n"
     ]
    },
    {
     "name": "stdout",
     "output_type": "stream",
     "text": [
      "Epoch 1, Iteration 35736 in 10.41 seconds. Samples per second 3433.85\n",
      "Epoch 2, Iteration 35736 in 7.61 seconds. Samples per second 4694.32\n",
      "Epoch 3, Iteration 35736 in 6.21 seconds. Samples per second 5750.40\n",
      "Epoch 4, Iteration 35736 in 5.17 seconds. Samples per second 6914.54\n",
      "Epoch 5, Iteration 35736 in 4.57 seconds. Samples per second 7822.75\n",
      "Epoch 6, Iteration 35736 in 4.11 seconds. Samples per second 8693.12\n",
      "Epoch 7, Iteration 35736 in 3.88 seconds. Samples per second 9203.59\n",
      "Epoch 8, Iteration 35736 in 3.75 seconds. Samples per second 9534.15\n",
      "Epoch 9, Iteration 35736 in 3.55 seconds. Samples per second 10068.85\n",
      "Epoch 10, Iteration 35736 in 3.45 seconds. Samples per second 10364.20\n",
      "Epoch 11, Iteration 35736 in 3.30 seconds. Samples per second 10821.57\n",
      "Epoch 12, Iteration 35736 in 3.23 seconds. Samples per second 11080.56\n",
      "Epoch 13, Iteration 35736 in 3.26 seconds. Samples per second 10969.52\n",
      "Epoch 14, Iteration 35736 in 3.19 seconds. Samples per second 11185.36\n",
      "Epoch 15, Iteration 35736 in 3.14 seconds. Samples per second 11381.38\n",
      "Epoch 16, Iteration 35736 in 3.22 seconds. Samples per second 11090.76\n",
      "Epoch 17, Iteration 35736 in 3.21 seconds. Samples per second 11115.42\n",
      "Epoch 18, Iteration 35736 in 3.12 seconds. Samples per second 11464.04\n",
      "Epoch 19, Iteration 35736 in 3.11 seconds. Samples per second 11495.27\n",
      "Epoch 20, Iteration 35736 in 3.12 seconds. Samples per second 11445.19\n",
      "Epoch 21, Iteration 35736 in 3.08 seconds. Samples per second 11610.12\n",
      "Epoch 22, Iteration 35736 in 3.09 seconds. Samples per second 11568.49\n",
      "Epoch 23, Iteration 35736 in 3.05 seconds. Samples per second 11728.13\n",
      "Epoch 24, Iteration 35736 in 3.12 seconds. Samples per second 11472.03\n",
      "Epoch 25, Iteration 35736 in 3.22 seconds. Samples per second 11096.52\n",
      "Epoch 26, Iteration 35736 in 3.32 seconds. Samples per second 10763.97\n",
      "Epoch 27, Iteration 35736 in 3.31 seconds. Samples per second 10798.84\n",
      "Epoch 28, Iteration 35736 in 3.18 seconds. Samples per second 11237.96\n",
      "Epoch 29, Iteration 35736 in 3.13 seconds. Samples per second 11423.75\n",
      "Epoch 30, Iteration 35736 in 3.06 seconds. Samples per second 11678.93\n",
      "Epoch 31, Iteration 35736 in 3.13 seconds. Samples per second 11411.09\n",
      "Epoch 32, Iteration 35736 in 3.13 seconds. Samples per second 11426.64\n",
      "Epoch 33, Iteration 35736 in 3.13 seconds. Samples per second 11411.41\n",
      "Epoch 34, Iteration 35736 in 3.10 seconds. Samples per second 11527.67\n",
      "Epoch 35, Iteration 35736 in 3.18 seconds. Samples per second 11232.92\n",
      "Epoch 36, Iteration 35736 in 3.11 seconds. Samples per second 11474.33\n",
      "Train completed in 2.25 minutes\n",
      "EvaluatorHoldout: Processed 35595 (100.0%) in 25.39 sec. Users per second: 1402\n"
     ]
    },
    {
     "name": "stderr",
     "output_type": "stream",
     "text": [
      "[I 2024-12-16 13:42:35,460] Trial 108 finished with value: 0.00028209999175022335 and parameters: {'topK': 0, 'epochs': 36, 'lambda_i': 0.07256460747172962, 'lambda_j': 1.4777453819430153e-05, 'learning_rate': 0.0032414251232474696}. Best is trial 98 with value: 0.040251465450157724.\n"
     ]
    },
    {
     "name": "stdout",
     "output_type": "stream",
     "text": [
      "Epoch 1, Iteration 35736 in 10.44 seconds. Samples per second 3423.91\n",
      "Epoch 2, Iteration 35736 in 7.58 seconds. Samples per second 4711.42\n",
      "Epoch 3, Iteration 35736 in 6.07 seconds. Samples per second 5886.24\n",
      "Epoch 4, Iteration 35736 in 5.15 seconds. Samples per second 6935.33\n",
      "Epoch 5, Iteration 35736 in 4.67 seconds. Samples per second 7645.79\n",
      "Epoch 6, Iteration 35736 in 4.24 seconds. Samples per second 8435.23\n",
      "Epoch 7, Iteration 35736 in 4.16 seconds. Samples per second 8597.74\n",
      "Epoch 8, Iteration 35736 in 5.47 seconds. Samples per second 6527.18\n",
      "Epoch 9, Iteration 35736 in 4.17 seconds. Samples per second 8576.40\n",
      "Epoch 10, Iteration 35736 in 3.87 seconds. Samples per second 9229.74\n",
      "Epoch 11, Iteration 35736 in 3.70 seconds. Samples per second 9653.25\n",
      "Epoch 12, Iteration 35736 in 3.55 seconds. Samples per second 10076.17\n",
      "Epoch 13, Iteration 35736 in 3.66 seconds. Samples per second 9761.09\n",
      "Epoch 14, Iteration 35736 in 3.43 seconds. Samples per second 10425.58\n",
      "Epoch 15, Iteration 35736 in 3.42 seconds. Samples per second 10462.05\n",
      "Epoch 16, Iteration 35736 in 3.38 seconds. Samples per second 10581.87\n",
      "Epoch 17, Iteration 35736 in 3.28 seconds. Samples per second 10890.23\n",
      "Epoch 18, Iteration 35736 in 3.31 seconds. Samples per second 10788.04\n",
      "Epoch 19, Iteration 35736 in 3.22 seconds. Samples per second 11099.43\n",
      "Epoch 20, Iteration 35736 in 3.24 seconds. Samples per second 11031.56\n",
      "Epoch 21, Iteration 35736 in 3.23 seconds. Samples per second 11050.24\n",
      "Epoch 22, Iteration 35736 in 3.28 seconds. Samples per second 10903.79\n",
      "Epoch 23, Iteration 35736 in 3.26 seconds. Samples per second 10959.53\n",
      "Epoch 24, Iteration 35736 in 3.19 seconds. Samples per second 11218.70\n",
      "Epoch 25, Iteration 35736 in 3.09 seconds. Samples per second 11565.01\n",
      "Epoch 26, Iteration 35736 in 3.22 seconds. Samples per second 11114.26\n",
      "Epoch 27, Iteration 35736 in 3.13 seconds. Samples per second 11421.45\n",
      "Epoch 28, Iteration 35736 in 3.07 seconds. Samples per second 11647.89\n",
      "Epoch 29, Iteration 35736 in 3.04 seconds. Samples per second 11748.39\n",
      "Epoch 30, Iteration 35736 in 3.08 seconds. Samples per second 11607.70\n",
      "Epoch 31, Iteration 35736 in 3.07 seconds. Samples per second 11638.35\n",
      "Epoch 32, Iteration 35736 in 3.14 seconds. Samples per second 11391.80\n",
      "Epoch 33, Iteration 35736 in 3.33 seconds. Samples per second 10726.97\n",
      "Epoch 34, Iteration 35736 in 3.11 seconds. Samples per second 11501.07\n",
      "Epoch 35, Iteration 35736 in 3.09 seconds. Samples per second 11579.99\n",
      "Epoch 36, Iteration 35736 in 3.10 seconds. Samples per second 11520.77\n",
      "Epoch 37, Iteration 35736 in 3.16 seconds. Samples per second 11317.89\n",
      "Epoch 38, Iteration 35736 in 3.14 seconds. Samples per second 11382.00\n",
      "Epoch 39, Iteration 35736 in 3.06 seconds. Samples per second 11671.40\n",
      "Train completed in 2.50 minutes\n",
      "EvaluatorHoldout: Processed 35595 (100.0%) in 34.05 sec. Users per second: 1045\n"
     ]
    },
    {
     "name": "stderr",
     "output_type": "stream",
     "text": [
      "[I 2024-12-16 13:50:15,415] Trial 109 finished with value: 0.04014887390550975 and parameters: {'topK': 6, 'epochs': 39, 'lambda_i': 0.05984158427466074, 'lambda_j': 1.0299885316637721e-05, 'learning_rate': 0.05830013768602782}. Best is trial 98 with value: 0.040251465450157724.\n"
     ]
    }
   ],
   "source": [
    "if config['tune_parameters']:\n",
    "    \n",
    "    optuna_study = optuna.create_study(direction='maximize', study_name=f'hyperparameters_tuning_{config[\"model\"]}_{config[\"metric\"]}',\n",
    "                                storage=f'sqlite:///{config[\"database_path\"]}', load_if_exists=True)\n",
    "\n",
    "    optuna_study.optimize(objective_function_slim_bpr, n_trials=10)"
   ]
  },
  {
   "cell_type": "markdown",
   "id": "a39c196c",
   "metadata": {
    "papermill": {
     "duration": 0.031829,
     "end_time": "2024-12-16T13:50:15.491013",
     "exception": false,
     "start_time": "2024-12-16T13:50:15.459184",
     "status": "completed"
    },
    "tags": []
   },
   "source": [
    "## Some optuna visualizations on recommender parameters"
   ]
  },
  {
   "cell_type": "code",
   "execution_count": 14,
   "id": "fc975210",
   "metadata": {
    "execution": {
     "iopub.execute_input": "2024-12-16T13:50:15.557628Z",
     "iopub.status.busy": "2024-12-16T13:50:15.557182Z",
     "iopub.status.idle": "2024-12-16T13:50:18.408624Z",
     "shell.execute_reply": "2024-12-16T13:50:18.406919Z"
    },
    "papermill": {
     "duration": 2.887796,
     "end_time": "2024-12-16T13:50:18.411433",
     "exception": false,
     "start_time": "2024-12-16T13:50:15.523637",
     "status": "completed"
    },
    "tags": []
   },
   "outputs": [
    {
     "data": {
      "text/html": [
       "        <script type=\"text/javascript\">\n",
       "        window.PlotlyConfig = {MathJaxConfig: 'local'};\n",
       "        if (window.MathJax && window.MathJax.Hub && window.MathJax.Hub.Config) {window.MathJax.Hub.Config({SVG: {font: \"STIX-Web\"}});}\n",
       "        if (typeof require !== 'undefined') {\n",
       "        require.undef(\"plotly\");\n",
       "        requirejs.config({\n",
       "            paths: {\n",
       "                'plotly': ['https://cdn.plot.ly/plotly-2.32.0.min']\n",
       "            }\n",
       "        });\n",
       "        require(['plotly'], function(Plotly) {\n",
       "            window._Plotly = Plotly;\n",
       "        });\n",
       "        }\n",
       "        </script>\n",
       "        "
      ]
     },
     "metadata": {},
     "output_type": "display_data"
    },
    {
     "data": {
      "text/html": [
       "<div>                            <div id=\"de056d39-6d73-48b8-8ce4-a6ad0fac2f00\" class=\"plotly-graph-div\" style=\"height:525px; width:1500px;\"></div>            <script type=\"text/javascript\">                require([\"plotly\"], function(Plotly) {                    window.PLOTLYENV=window.PLOTLYENV || {};                                    if (document.getElementById(\"de056d39-6d73-48b8-8ce4-a6ad0fac2f00\")) {                    Plotly.newPlot(                        \"de056d39-6d73-48b8-8ce4-a6ad0fac2f00\",                        [{\"marker\":{\"color\":[0,1,2,3,4,5,6,7,8,9,10,11,12,13,14,15,16,17,18,19,20,21,22,23,24,25,26,27,28,29,30,31,32,33,34,35,36,37,38,39,40,41,42,43,44,45,46,47,48,49,50,51,52,53,54,55,56,57,58,59,60,61,62,63,64,65,66,67,68,69,70,71,72,73,74,75,76,77,78,79,80,81,82,83,84,85,86,87,88,89,90,91,92,93,94,95,96,97,98,99,100,101,102,103,104,105,106,107,108,109],\"colorbar\":{\"title\":{\"text\":\"Trial\"},\"x\":1.0,\"xpad\":40},\"colorscale\":[[0.0,\"rgb(247,251,255)\"],[0.125,\"rgb(222,235,247)\"],[0.25,\"rgb(198,219,239)\"],[0.375,\"rgb(158,202,225)\"],[0.5,\"rgb(107,174,214)\"],[0.625,\"rgb(66,146,198)\"],[0.75,\"rgb(33,113,181)\"],[0.875,\"rgb(8,81,156)\"],[1.0,\"rgb(8,48,107)\"]],\"line\":{\"color\":\"Grey\",\"width\":0.5},\"showscale\":true},\"mode\":\"markers\",\"name\":\"Feasible Trial\",\"showlegend\":false,\"x\":[21,17,34,26,21,49,14,47,38,19,9,47,30,1,40,8,43,30,29,33,22,35,30,26,16,14,13,5,14,24,23,22,18,11,16,24,18,24,20,16,27,28,27,33,33,33,38,36,32,41,37,25,24,23,28,28,25,20,26,31,29,25,21,28,31,22,22,23,22,19,22,25,23,21,21,20,18,17,23,21,25,26,26,25,25,27,23,26,29,23,26,26,24,27,30,30,31,24,29,29,34,29,29,32,32,35,35,35,36,39],\"y\":[0.030346353487313602,0.030389690455007883,0.0314148087947067,0.02770853651194927,0.027737547854277095,0.032117334118175904,0.030366744928058822,0.03019855762691744,0.02929103427670558,0.03339036938931508,0.028954629573887024,0.032490033378148785,0.030950666336674603,0.017481052270137933,0.031468549399437634,0.03159518235350442,0.031578460948455796,0.03371269038588782,0.031029004653319144,0.032913868989089184,0.03181138892790721,0.03260213780694075,0.03385395443001734,0.03246126061043761,0.03484153740158667,0.034398009351231947,0.033597387496459324,0.027189254331689564,0.029875895490938956,0.03555098361861841,0.035826071300364186,0.00028209999175022335,0.03296535985747857,0.03247833876257717,0.03242984234008161,0.03313863414916836,0.032822225120791367,0.030022434932674404,0.033387577843328964,0.02745918478830353,0.03440573069607937,0.035961679788269175,0.03414480921834395,0.035856994584132135,0.03506234378379228,0.03304016749275804,0.033895518810604146,0.03139235825434652,0.031220808611873777,0.031716697101651814,0.032765368553188824,0.03723260467739899,0.036285081059626946,0.03599671681192833,0.03641825586347181,0.03473236610278218,0.03615326635406573,0.03519784190306619,0.03339586663901773,0.03254735483180398,0.03174336283185744,0.034423553557770825,0.00028209999175022335,0.03333297770107616,0.03388487548411581,0.03756080865646696,0.0374125523693567,0.03803690437171121,0.03658566946935979,0.03614089726352558,0.03106920001694446,0.03753140266266993,0.03753881185381275,0.03660242431944814,0.03663645130290612,0.03371720435142145,0.03512077449793291,0.03260423927027261,0.03605902380617798,0.03426230052820772,0.03862051808596154,0.03837813519376806,0.03616368113944907,0.0385784018622185,0.036509703520869574,0.03463302987533814,0.03073841073630293,0.03764986276385203,0.03626224032713594,0.03745595065295735,0.03753958666390054,0.00028209999175022335,0.036394259047439426,0.03499734557867597,0.03867352958882535,0.03719721648082243,0.03731826522808278,0.035152999908582276,0.040251465450157724,0.038075866728204295,0.03209099837902933,0.040003929792171274,0.039801831450376066,0.0397519927669514,0.0397985259656123,0.039890688232026926,0.03961602864679026,0.03966284501345459,0.00028209999175022335,0.04014887390550975],\"type\":\"scatter\",\"xaxis\":\"x\",\"yaxis\":\"y\"},{\"marker\":{\"color\":[0,1,2,3,4,5,6,7,8,9,10,11,12,13,14,15,16,17,18,19,20,21,22,23,24,25,26,27,28,29,30,31,32,33,34,35,36,37,38,39,40,41,42,43,44,45,46,47,48,49,50,51,52,53,54,55,56,57,58,59,60,61,62,63,64,65,66,67,68,69,70,71,72,73,74,75,76,77,78,79,80,81,82,83,84,85,86,87,88,89,90,91,92,93,94,95,96,97,98,99,100,101,102,103,104,105,106,107,108,109],\"colorbar\":{\"title\":{\"text\":\"Trial\"},\"x\":1.0,\"xpad\":40},\"colorscale\":[[0.0,\"rgb(247,251,255)\"],[0.125,\"rgb(222,235,247)\"],[0.25,\"rgb(198,219,239)\"],[0.375,\"rgb(158,202,225)\"],[0.5,\"rgb(107,174,214)\"],[0.625,\"rgb(66,146,198)\"],[0.75,\"rgb(33,113,181)\"],[0.875,\"rgb(8,81,156)\"],[1.0,\"rgb(8,48,107)\"]],\"line\":{\"color\":\"Grey\",\"width\":0.5},\"showscale\":false},\"mode\":\"markers\",\"name\":\"Feasible Trial\",\"showlegend\":false,\"x\":[0.002597835793983858,0.0017687051598126319,0.00009782286630219877,0.010756178450260992,0.0015450430114650681,0.0066635445969326175,0.000012350776622721477,0.00035183149442524016,0.004243806371745037,0.00002494871432661756,0.000011359322994821096,0.09927534518265574,0.07124311040384719,0.09353586980274774,0.00010626348996300061,0.02408211435567716,0.000439648546317298,0.00004829122612843355,0.00004890634433930862,0.000037645064608729184,0.00044854398007380806,0.000033217240926625625,0.00003217336598834759,0.000162278886653307,0.000025763699217751394,0.00007057580758737795,0.00001849965650706103,0.00017861552066633348,0.0000752806374989938,0.0007514562788570996,0.0011234127117125008,0.0006117110610975231,0.0011403746550794785,0.0030301041695698534,0.0007419783426833341,0.00022471705192281485,0.0018675700558920035,0.013595630364115091,0.00009013236186509335,0.0002464264748024451,0.0010555125597237214,0.001319949276658115,0.0011846531591982335,0.0051998777530991745,0.005119537148542098,0.0037717551222298472,0.006553591004520105,0.002067629109005697,0.006220721238207176,0.017877963627301294,0.008771157126876908,0.00253509022299605,0.002669948226823186,0.0021337503398333032,0.002128724225847287,0.002281008241497726,0.00317092440230433,0.003001708853885607,0.0015317085831872362,0.0037130810374600355,0.009009628307625831,0.0015328362040167734,0.004860525550570224,0.002373362245810028,0.0026299237662603084,0.030209737213780587,0.03059950788701519,0.04566214521904554,0.03493811471918037,0.04665096747827141,0.03643791881734545,0.02963653841249478,0.027685641268023035,0.02572043162250884,0.029659263020633476,0.06510977274483279,0.02293274308881064,0.05878343941863117,0.02813356739019131,0.01677198119088078,0.08053024494655671,0.050334080083716766,0.0850820399041155,0.04908453274063369,0.043926768975073485,0.050212916880700766,0.0849658880620211,0.01944777803876886,0.020709193108582106,0.012626773911024685,0.039186175436611244,0.015529172381928285,0.03882093742124777,0.012052982469332419,0.06006703556073667,0.06799921669244134,0.05600708326012621,0.07720629734877726,0.09900111245281501,0.09977274182397447,0.09618816669745978,0.05480373728893908,0.0694379641882813,0.05461075454975078,0.054769710219132954,0.054813343680909524,0.09860812359043748,0.05969159732578023,0.07256460747172962,0.05984158427466074],\"y\":[0.030346353487313602,0.030389690455007883,0.0314148087947067,0.02770853651194927,0.027737547854277095,0.032117334118175904,0.030366744928058822,0.03019855762691744,0.02929103427670558,0.03339036938931508,0.028954629573887024,0.032490033378148785,0.030950666336674603,0.017481052270137933,0.031468549399437634,0.03159518235350442,0.031578460948455796,0.03371269038588782,0.031029004653319144,0.032913868989089184,0.03181138892790721,0.03260213780694075,0.03385395443001734,0.03246126061043761,0.03484153740158667,0.034398009351231947,0.033597387496459324,0.027189254331689564,0.029875895490938956,0.03555098361861841,0.035826071300364186,0.00028209999175022335,0.03296535985747857,0.03247833876257717,0.03242984234008161,0.03313863414916836,0.032822225120791367,0.030022434932674404,0.033387577843328964,0.02745918478830353,0.03440573069607937,0.035961679788269175,0.03414480921834395,0.035856994584132135,0.03506234378379228,0.03304016749275804,0.033895518810604146,0.03139235825434652,0.031220808611873777,0.031716697101651814,0.032765368553188824,0.03723260467739899,0.036285081059626946,0.03599671681192833,0.03641825586347181,0.03473236610278218,0.03615326635406573,0.03519784190306619,0.03339586663901773,0.03254735483180398,0.03174336283185744,0.034423553557770825,0.00028209999175022335,0.03333297770107616,0.03388487548411581,0.03756080865646696,0.0374125523693567,0.03803690437171121,0.03658566946935979,0.03614089726352558,0.03106920001694446,0.03753140266266993,0.03753881185381275,0.03660242431944814,0.03663645130290612,0.03371720435142145,0.03512077449793291,0.03260423927027261,0.03605902380617798,0.03426230052820772,0.03862051808596154,0.03837813519376806,0.03616368113944907,0.0385784018622185,0.036509703520869574,0.03463302987533814,0.03073841073630293,0.03764986276385203,0.03626224032713594,0.03745595065295735,0.03753958666390054,0.00028209999175022335,0.036394259047439426,0.03499734557867597,0.03867352958882535,0.03719721648082243,0.03731826522808278,0.035152999908582276,0.040251465450157724,0.038075866728204295,0.03209099837902933,0.040003929792171274,0.039801831450376066,0.0397519927669514,0.0397985259656123,0.039890688232026926,0.03961602864679026,0.03966284501345459,0.00028209999175022335,0.04014887390550975],\"type\":\"scatter\",\"xaxis\":\"x2\",\"yaxis\":\"y2\"},{\"marker\":{\"color\":[0,1,2,3,4,5,6,7,8,9,10,11,12,13,14,15,16,17,18,19,20,21,22,23,24,25,26,27,28,29,30,31,32,33,34,35,36,37,38,39,40,41,42,43,44,45,46,47,48,49,50,51,52,53,54,55,56,57,58,59,60,61,62,63,64,65,66,67,68,69,70,71,72,73,74,75,76,77,78,79,80,81,82,83,84,85,86,87,88,89,90,91,92,93,94,95,96,97,98,99,100,101,102,103,104,105,106,107,108,109],\"colorbar\":{\"title\":{\"text\":\"Trial\"},\"x\":1.0,\"xpad\":40},\"colorscale\":[[0.0,\"rgb(247,251,255)\"],[0.125,\"rgb(222,235,247)\"],[0.25,\"rgb(198,219,239)\"],[0.375,\"rgb(158,202,225)\"],[0.5,\"rgb(107,174,214)\"],[0.625,\"rgb(66,146,198)\"],[0.75,\"rgb(33,113,181)\"],[0.875,\"rgb(8,81,156)\"],[1.0,\"rgb(8,48,107)\"]],\"line\":{\"color\":\"Grey\",\"width\":0.5},\"showscale\":false},\"mode\":\"markers\",\"name\":\"Feasible Trial\",\"showlegend\":false,\"x\":[0.0001362653966245703,0.008016444952382434,0.00007221959758696683,0.00040678336306533563,0.005301115424551582,0.03513115045863199,0.00002210874175802948,0.000029915960988277396,0.000012445315777320879,0.002207521754271074,0.001525422869345672,0.06843624400636594,0.0849669233934105,0.01319708872276023,0.0015456231808623601,0.0808099436300234,0.0004265591254150361,0.003412814791161318,0.005591604785622062,0.002497113027518866,0.0004399882992116765,0.0028127492851549546,0.0007425463489002636,0.0009344035566876671,0.024258315967384793,0.021285849586786733,0.021903182052631955,0.02247650356388962,0.013114491704476969,0.0001758518635970779,0.00017884867877739497,0.00010735983908283788,0.00016234084952320444,0.00019748913907143852,0.00004286015259366432,0.00022429544987514452,0.00008133902649510333,0.03790234116645842,0.00005796786517342137,0.00766518476287147,0.0002693989507278967,0.00029628974100552634,0.00026973164912213126,0.0005684755063734995,0.0005814855283526207,0.0007062907754504359,0.00011907798421152918,0.0005610089953431003,0.0003493586766975109,0.0014913201439236607,0.000026677599374882736,0.0010689685660046663,0.0012341076221909647,0.001046945952241351,0.0012651621183457004,0.0012457698304146963,0.0018894901263502915,0.004376066757131202,0.001932436475327868,0.0009354220619649943,0.0032162298094811823,0.001143071997721082,0.0021064910126032186,0.0008097690557067696,0.0015736945452363951,0.00043056981303035274,0.00035377632156841115,0.0004086302869195862,0.0004712610836581153,0.0004514881910337962,0.0003946178066595168,0.0007076539318079437,0.0006851442708855511,0.0006892861134896672,0.0006958978195487801,0.0006683510791971621,0.00033329400099702314,0.0008046129472292142,0.0002357821154896554,0.000520738235614627,0.00014892777263430317,0.00013374921382356664,0.00013199124051525772,0.00008807963752428805,0.0000704170160132424,0.00004390302822374253,0.00009173332345233673,0.0001482358117407454,0.00017748316133192913,0.00014723427009433575,0.0001445107396879796,0.00015034331840915844,0.00010097857561857422,0.00006098845872811374,0.00021929896034161026,0.00023192110908114172,0.00004769564296032669,0.00012334144974821288,0.00001234691796411495,0.000034280869624778604,0.000014094463989441331,0.0001997566172648345,0.00001825467392282596,0.000014566116196914038,0.00001567920051047592,0.000017503080113904803,0.00001710027399643863,0.000014761611530692492,0.000014777453819430153,0.000010299885316637721],\"y\":[0.030346353487313602,0.030389690455007883,0.0314148087947067,0.02770853651194927,0.027737547854277095,0.032117334118175904,0.030366744928058822,0.03019855762691744,0.02929103427670558,0.03339036938931508,0.028954629573887024,0.032490033378148785,0.030950666336674603,0.017481052270137933,0.031468549399437634,0.03159518235350442,0.031578460948455796,0.03371269038588782,0.031029004653319144,0.032913868989089184,0.03181138892790721,0.03260213780694075,0.03385395443001734,0.03246126061043761,0.03484153740158667,0.034398009351231947,0.033597387496459324,0.027189254331689564,0.029875895490938956,0.03555098361861841,0.035826071300364186,0.00028209999175022335,0.03296535985747857,0.03247833876257717,0.03242984234008161,0.03313863414916836,0.032822225120791367,0.030022434932674404,0.033387577843328964,0.02745918478830353,0.03440573069607937,0.035961679788269175,0.03414480921834395,0.035856994584132135,0.03506234378379228,0.03304016749275804,0.033895518810604146,0.03139235825434652,0.031220808611873777,0.031716697101651814,0.032765368553188824,0.03723260467739899,0.036285081059626946,0.03599671681192833,0.03641825586347181,0.03473236610278218,0.03615326635406573,0.03519784190306619,0.03339586663901773,0.03254735483180398,0.03174336283185744,0.034423553557770825,0.00028209999175022335,0.03333297770107616,0.03388487548411581,0.03756080865646696,0.0374125523693567,0.03803690437171121,0.03658566946935979,0.03614089726352558,0.03106920001694446,0.03753140266266993,0.03753881185381275,0.03660242431944814,0.03663645130290612,0.03371720435142145,0.03512077449793291,0.03260423927027261,0.03605902380617798,0.03426230052820772,0.03862051808596154,0.03837813519376806,0.03616368113944907,0.0385784018622185,0.036509703520869574,0.03463302987533814,0.03073841073630293,0.03764986276385203,0.03626224032713594,0.03745595065295735,0.03753958666390054,0.00028209999175022335,0.036394259047439426,0.03499734557867597,0.03867352958882535,0.03719721648082243,0.03731826522808278,0.035152999908582276,0.040251465450157724,0.038075866728204295,0.03209099837902933,0.040003929792171274,0.039801831450376066,0.0397519927669514,0.0397985259656123,0.039890688232026926,0.03961602864679026,0.03966284501345459,0.00028209999175022335,0.04014887390550975],\"type\":\"scatter\",\"xaxis\":\"x3\",\"yaxis\":\"y3\"},{\"marker\":{\"color\":[0,1,2,3,4,5,6,7,8,9,10,11,12,13,14,15,16,17,18,19,20,21,22,23,24,25,26,27,28,29,30,31,32,33,34,35,36,37,38,39,40,41,42,43,44,45,46,47,48,49,50,51,52,53,54,55,56,57,58,59,60,61,62,63,64,65,66,67,68,69,70,71,72,73,74,75,76,77,78,79,80,81,82,83,84,85,86,87,88,89,90,91,92,93,94,95,96,97,98,99,100,101,102,103,104,105,106,107,108,109],\"colorbar\":{\"title\":{\"text\":\"Trial\"},\"x\":1.0,\"xpad\":40},\"colorscale\":[[0.0,\"rgb(247,251,255)\"],[0.125,\"rgb(222,235,247)\"],[0.25,\"rgb(198,219,239)\"],[0.375,\"rgb(158,202,225)\"],[0.5,\"rgb(107,174,214)\"],[0.625,\"rgb(66,146,198)\"],[0.75,\"rgb(33,113,181)\"],[0.875,\"rgb(8,81,156)\"],[1.0,\"rgb(8,48,107)\"]],\"line\":{\"color\":\"Grey\",\"width\":0.5},\"showscale\":false},\"mode\":\"markers\",\"name\":\"Feasible Trial\",\"showlegend\":false,\"x\":[0.00029026429634871503,0.03126559091252736,0.05564073968017585,0.0003006366869871818,0.00033177545229092577,0.0016801859050004095,0.002010272910522065,0.0005722304169796723,0.0010042098081573696,0.04319733620128968,0.011468406458669835,0.008271207397818307,0.006386970183835491,0.020148499252781425,0.0050641643916832955,0.0946807258431908,0.0140220251398268,0.03797903592668721,0.00011379105707438704,0.042252043712366925,0.09810732853849197,0.035432475554350605,0.04189566249895743,0.02001063281357001,0.06088747225137052,0.07266962754929795,0.0703386600524918,0.02105853305699319,0.004067913878239503,0.0660198704995835,0.07022477476570041,0.06614419638774217,0.0241760731663195,0.06932123157408317,0.05777471616822958,0.012807961217730902,0.09833842286582699,0.027881517727795464,0.053898298189713055,0.002255823522519117,0.029533988746076694,0.0716736218897889,0.029876157133232065,0.05339236291919878,0.0514927296146805,0.016388675189016298,0.045330957244846495,0.0006650041390256151,0.009740597219595437,0.08378873000095641,0.05234228677533303,0.056019689254198944,0.03679505848831504,0.03929844444620155,0.034432730045582685,0.01770607252831578,0.03506847431783512,0.03319511759857625,0.008331339961127834,0.024428526857446817,0.00021281550632682068,0.03963811045540832,0.03926185603985798,0.014862663203954454,0.02366476624522737,0.08458483091529401,0.08094265302207017,0.08629229463695913,0.08548083495560851,0.08950780710173224,0.08454581007721138,0.0776535003564305,0.09912241305220494,0.07992441650511115,0.09925448829853135,0.07909947858213366,0.09808163246615885,0.06132062543801939,0.05087344827733924,0.07504473367365765,0.09728242420942039,0.09618077035577859,0.060454749626828015,0.09873808944204977,0.04668306142645003,0.06214702729780325,0.001362684603095048,0.07293282020148144,0.07091957172628878,0.09752931728670212,0.09413900045897802,0.09729202351411732,0.06840485328324088,0.046133756070778964,0.08128906309665673,0.07811061710103279,0.06414777050894514,0.056656118490598845,0.08668948504743702,0.048302392186519064,0.0465101829513746,0.08588879753841518,0.08362110418404013,0.0661247201411608,0.0650567896754302,0.061432099811390965,0.05159466785248036,0.058195060469660075,0.0032414251232474696,0.05830013768602782],\"y\":[0.030346353487313602,0.030389690455007883,0.0314148087947067,0.02770853651194927,0.027737547854277095,0.032117334118175904,0.030366744928058822,0.03019855762691744,0.02929103427670558,0.03339036938931508,0.028954629573887024,0.032490033378148785,0.030950666336674603,0.017481052270137933,0.031468549399437634,0.03159518235350442,0.031578460948455796,0.03371269038588782,0.031029004653319144,0.032913868989089184,0.03181138892790721,0.03260213780694075,0.03385395443001734,0.03246126061043761,0.03484153740158667,0.034398009351231947,0.033597387496459324,0.027189254331689564,0.029875895490938956,0.03555098361861841,0.035826071300364186,0.00028209999175022335,0.03296535985747857,0.03247833876257717,0.03242984234008161,0.03313863414916836,0.032822225120791367,0.030022434932674404,0.033387577843328964,0.02745918478830353,0.03440573069607937,0.035961679788269175,0.03414480921834395,0.035856994584132135,0.03506234378379228,0.03304016749275804,0.033895518810604146,0.03139235825434652,0.031220808611873777,0.031716697101651814,0.032765368553188824,0.03723260467739899,0.036285081059626946,0.03599671681192833,0.03641825586347181,0.03473236610278218,0.03615326635406573,0.03519784190306619,0.03339586663901773,0.03254735483180398,0.03174336283185744,0.034423553557770825,0.00028209999175022335,0.03333297770107616,0.03388487548411581,0.03756080865646696,0.0374125523693567,0.03803690437171121,0.03658566946935979,0.03614089726352558,0.03106920001694446,0.03753140266266993,0.03753881185381275,0.03660242431944814,0.03663645130290612,0.03371720435142145,0.03512077449793291,0.03260423927027261,0.03605902380617798,0.03426230052820772,0.03862051808596154,0.03837813519376806,0.03616368113944907,0.0385784018622185,0.036509703520869574,0.03463302987533814,0.03073841073630293,0.03764986276385203,0.03626224032713594,0.03745595065295735,0.03753958666390054,0.00028209999175022335,0.036394259047439426,0.03499734557867597,0.03867352958882535,0.03719721648082243,0.03731826522808278,0.035152999908582276,0.040251465450157724,0.038075866728204295,0.03209099837902933,0.040003929792171274,0.039801831450376066,0.0397519927669514,0.0397985259656123,0.039890688232026926,0.03961602864679026,0.03966284501345459,0.00028209999175022335,0.04014887390550975],\"type\":\"scatter\",\"xaxis\":\"x4\",\"yaxis\":\"y4\"},{\"marker\":{\"color\":[0,1,2,3,4,5,6,7,8,9,10,11,12,13,14,15,16,17,18,19,20,21,22,23,24,25,26,27,28,29,30,31,32,33,34,35,36,37,38,39,40,41,42,43,44,45,46,47,48,49,50,51,52,53,54,55,56,57,58,59,60,61,62,63,64,65,66,67,68,69,70,71,72,73,74,75,76,77,78,79,80,81,82,83,84,85,86,87,88,89,90,91,92,93,94,95,96,97,98,99,100,101,102,103,104,105,106,107,108,109],\"colorbar\":{\"title\":{\"text\":\"Trial\"},\"x\":1.0,\"xpad\":40},\"colorscale\":[[0.0,\"rgb(247,251,255)\"],[0.125,\"rgb(222,235,247)\"],[0.25,\"rgb(198,219,239)\"],[0.375,\"rgb(158,202,225)\"],[0.5,\"rgb(107,174,214)\"],[0.625,\"rgb(66,146,198)\"],[0.75,\"rgb(33,113,181)\"],[0.875,\"rgb(8,81,156)\"],[1.0,\"rgb(8,48,107)\"]],\"line\":{\"color\":\"Grey\",\"width\":0.5},\"showscale\":false},\"mode\":\"markers\",\"name\":\"Feasible Trial\",\"showlegend\":false,\"x\":[80,210,359,457,421,71,46,171,256,65,6,130,144,307,126,5,233,111,70,185,274,189,115,107,32,25,33,24,86,44,41,0,44,45,86,32,149,367,91,475,57,57,63,62,81,95,147,66,163,421,216,17,9,11,17,7,13,14,18,2,23,58,0,50,73,20,19,18,36,34,320,26,27,31,37,107,47,125,29,77,24,23,49,22,22,99,74,23,50,28,39,0,40,61,26,52,40,69,10,13,258,10,13,9,8,7,6,6,0,6],\"y\":[0.030346353487313602,0.030389690455007883,0.0314148087947067,0.02770853651194927,0.027737547854277095,0.032117334118175904,0.030366744928058822,0.03019855762691744,0.02929103427670558,0.03339036938931508,0.028954629573887024,0.032490033378148785,0.030950666336674603,0.017481052270137933,0.031468549399437634,0.03159518235350442,0.031578460948455796,0.03371269038588782,0.031029004653319144,0.032913868989089184,0.03181138892790721,0.03260213780694075,0.03385395443001734,0.03246126061043761,0.03484153740158667,0.034398009351231947,0.033597387496459324,0.027189254331689564,0.029875895490938956,0.03555098361861841,0.035826071300364186,0.00028209999175022335,0.03296535985747857,0.03247833876257717,0.03242984234008161,0.03313863414916836,0.032822225120791367,0.030022434932674404,0.033387577843328964,0.02745918478830353,0.03440573069607937,0.035961679788269175,0.03414480921834395,0.035856994584132135,0.03506234378379228,0.03304016749275804,0.033895518810604146,0.03139235825434652,0.031220808611873777,0.031716697101651814,0.032765368553188824,0.03723260467739899,0.036285081059626946,0.03599671681192833,0.03641825586347181,0.03473236610278218,0.03615326635406573,0.03519784190306619,0.03339586663901773,0.03254735483180398,0.03174336283185744,0.034423553557770825,0.00028209999175022335,0.03333297770107616,0.03388487548411581,0.03756080865646696,0.0374125523693567,0.03803690437171121,0.03658566946935979,0.03614089726352558,0.03106920001694446,0.03753140266266993,0.03753881185381275,0.03660242431944814,0.03663645130290612,0.03371720435142145,0.03512077449793291,0.03260423927027261,0.03605902380617798,0.03426230052820772,0.03862051808596154,0.03837813519376806,0.03616368113944907,0.0385784018622185,0.036509703520869574,0.03463302987533814,0.03073841073630293,0.03764986276385203,0.03626224032713594,0.03745595065295735,0.03753958666390054,0.00028209999175022335,0.036394259047439426,0.03499734557867597,0.03867352958882535,0.03719721648082243,0.03731826522808278,0.035152999908582276,0.040251465450157724,0.038075866728204295,0.03209099837902933,0.040003929792171274,0.039801831450376066,0.0397519927669514,0.0397985259656123,0.039890688232026926,0.03961602864679026,0.03966284501345459,0.00028209999175022335,0.04014887390550975],\"type\":\"scatter\",\"xaxis\":\"x5\",\"yaxis\":\"y5\"}],                        {\"template\":{\"data\":{\"histogram2dcontour\":[{\"type\":\"histogram2dcontour\",\"colorbar\":{\"outlinewidth\":0,\"ticks\":\"\"},\"colorscale\":[[0.0,\"#0d0887\"],[0.1111111111111111,\"#46039f\"],[0.2222222222222222,\"#7201a8\"],[0.3333333333333333,\"#9c179e\"],[0.4444444444444444,\"#bd3786\"],[0.5555555555555556,\"#d8576b\"],[0.6666666666666666,\"#ed7953\"],[0.7777777777777778,\"#fb9f3a\"],[0.8888888888888888,\"#fdca26\"],[1.0,\"#f0f921\"]]}],\"choropleth\":[{\"type\":\"choropleth\",\"colorbar\":{\"outlinewidth\":0,\"ticks\":\"\"}}],\"histogram2d\":[{\"type\":\"histogram2d\",\"colorbar\":{\"outlinewidth\":0,\"ticks\":\"\"},\"colorscale\":[[0.0,\"#0d0887\"],[0.1111111111111111,\"#46039f\"],[0.2222222222222222,\"#7201a8\"],[0.3333333333333333,\"#9c179e\"],[0.4444444444444444,\"#bd3786\"],[0.5555555555555556,\"#d8576b\"],[0.6666666666666666,\"#ed7953\"],[0.7777777777777778,\"#fb9f3a\"],[0.8888888888888888,\"#fdca26\"],[1.0,\"#f0f921\"]]}],\"heatmap\":[{\"type\":\"heatmap\",\"colorbar\":{\"outlinewidth\":0,\"ticks\":\"\"},\"colorscale\":[[0.0,\"#0d0887\"],[0.1111111111111111,\"#46039f\"],[0.2222222222222222,\"#7201a8\"],[0.3333333333333333,\"#9c179e\"],[0.4444444444444444,\"#bd3786\"],[0.5555555555555556,\"#d8576b\"],[0.6666666666666666,\"#ed7953\"],[0.7777777777777778,\"#fb9f3a\"],[0.8888888888888888,\"#fdca26\"],[1.0,\"#f0f921\"]]}],\"heatmapgl\":[{\"type\":\"heatmapgl\",\"colorbar\":{\"outlinewidth\":0,\"ticks\":\"\"},\"colorscale\":[[0.0,\"#0d0887\"],[0.1111111111111111,\"#46039f\"],[0.2222222222222222,\"#7201a8\"],[0.3333333333333333,\"#9c179e\"],[0.4444444444444444,\"#bd3786\"],[0.5555555555555556,\"#d8576b\"],[0.6666666666666666,\"#ed7953\"],[0.7777777777777778,\"#fb9f3a\"],[0.8888888888888888,\"#fdca26\"],[1.0,\"#f0f921\"]]}],\"contourcarpet\":[{\"type\":\"contourcarpet\",\"colorbar\":{\"outlinewidth\":0,\"ticks\":\"\"}}],\"contour\":[{\"type\":\"contour\",\"colorbar\":{\"outlinewidth\":0,\"ticks\":\"\"},\"colorscale\":[[0.0,\"#0d0887\"],[0.1111111111111111,\"#46039f\"],[0.2222222222222222,\"#7201a8\"],[0.3333333333333333,\"#9c179e\"],[0.4444444444444444,\"#bd3786\"],[0.5555555555555556,\"#d8576b\"],[0.6666666666666666,\"#ed7953\"],[0.7777777777777778,\"#fb9f3a\"],[0.8888888888888888,\"#fdca26\"],[1.0,\"#f0f921\"]]}],\"surface\":[{\"type\":\"surface\",\"colorbar\":{\"outlinewidth\":0,\"ticks\":\"\"},\"colorscale\":[[0.0,\"#0d0887\"],[0.1111111111111111,\"#46039f\"],[0.2222222222222222,\"#7201a8\"],[0.3333333333333333,\"#9c179e\"],[0.4444444444444444,\"#bd3786\"],[0.5555555555555556,\"#d8576b\"],[0.6666666666666666,\"#ed7953\"],[0.7777777777777778,\"#fb9f3a\"],[0.8888888888888888,\"#fdca26\"],[1.0,\"#f0f921\"]]}],\"mesh3d\":[{\"type\":\"mesh3d\",\"colorbar\":{\"outlinewidth\":0,\"ticks\":\"\"}}],\"scatter\":[{\"fillpattern\":{\"fillmode\":\"overlay\",\"size\":10,\"solidity\":0.2},\"type\":\"scatter\"}],\"parcoords\":[{\"type\":\"parcoords\",\"line\":{\"colorbar\":{\"outlinewidth\":0,\"ticks\":\"\"}}}],\"scatterpolargl\":[{\"type\":\"scatterpolargl\",\"marker\":{\"colorbar\":{\"outlinewidth\":0,\"ticks\":\"\"}}}],\"bar\":[{\"error_x\":{\"color\":\"#2a3f5f\"},\"error_y\":{\"color\":\"#2a3f5f\"},\"marker\":{\"line\":{\"color\":\"#E5ECF6\",\"width\":0.5},\"pattern\":{\"fillmode\":\"overlay\",\"size\":10,\"solidity\":0.2}},\"type\":\"bar\"}],\"scattergeo\":[{\"type\":\"scattergeo\",\"marker\":{\"colorbar\":{\"outlinewidth\":0,\"ticks\":\"\"}}}],\"scatterpolar\":[{\"type\":\"scatterpolar\",\"marker\":{\"colorbar\":{\"outlinewidth\":0,\"ticks\":\"\"}}}],\"histogram\":[{\"marker\":{\"pattern\":{\"fillmode\":\"overlay\",\"size\":10,\"solidity\":0.2}},\"type\":\"histogram\"}],\"scattergl\":[{\"type\":\"scattergl\",\"marker\":{\"colorbar\":{\"outlinewidth\":0,\"ticks\":\"\"}}}],\"scatter3d\":[{\"type\":\"scatter3d\",\"line\":{\"colorbar\":{\"outlinewidth\":0,\"ticks\":\"\"}},\"marker\":{\"colorbar\":{\"outlinewidth\":0,\"ticks\":\"\"}}}],\"scattermapbox\":[{\"type\":\"scattermapbox\",\"marker\":{\"colorbar\":{\"outlinewidth\":0,\"ticks\":\"\"}}}],\"scatterternary\":[{\"type\":\"scatterternary\",\"marker\":{\"colorbar\":{\"outlinewidth\":0,\"ticks\":\"\"}}}],\"scattercarpet\":[{\"type\":\"scattercarpet\",\"marker\":{\"colorbar\":{\"outlinewidth\":0,\"ticks\":\"\"}}}],\"carpet\":[{\"aaxis\":{\"endlinecolor\":\"#2a3f5f\",\"gridcolor\":\"white\",\"linecolor\":\"white\",\"minorgridcolor\":\"white\",\"startlinecolor\":\"#2a3f5f\"},\"baxis\":{\"endlinecolor\":\"#2a3f5f\",\"gridcolor\":\"white\",\"linecolor\":\"white\",\"minorgridcolor\":\"white\",\"startlinecolor\":\"#2a3f5f\"},\"type\":\"carpet\"}],\"table\":[{\"cells\":{\"fill\":{\"color\":\"#EBF0F8\"},\"line\":{\"color\":\"white\"}},\"header\":{\"fill\":{\"color\":\"#C8D4E3\"},\"line\":{\"color\":\"white\"}},\"type\":\"table\"}],\"barpolar\":[{\"marker\":{\"line\":{\"color\":\"#E5ECF6\",\"width\":0.5},\"pattern\":{\"fillmode\":\"overlay\",\"size\":10,\"solidity\":0.2}},\"type\":\"barpolar\"}],\"pie\":[{\"automargin\":true,\"type\":\"pie\"}]},\"layout\":{\"autotypenumbers\":\"strict\",\"colorway\":[\"#636efa\",\"#EF553B\",\"#00cc96\",\"#ab63fa\",\"#FFA15A\",\"#19d3f3\",\"#FF6692\",\"#B6E880\",\"#FF97FF\",\"#FECB52\"],\"font\":{\"color\":\"#2a3f5f\"},\"hovermode\":\"closest\",\"hoverlabel\":{\"align\":\"left\"},\"paper_bgcolor\":\"white\",\"plot_bgcolor\":\"#E5ECF6\",\"polar\":{\"bgcolor\":\"#E5ECF6\",\"angularaxis\":{\"gridcolor\":\"white\",\"linecolor\":\"white\",\"ticks\":\"\"},\"radialaxis\":{\"gridcolor\":\"white\",\"linecolor\":\"white\",\"ticks\":\"\"}},\"ternary\":{\"bgcolor\":\"#E5ECF6\",\"aaxis\":{\"gridcolor\":\"white\",\"linecolor\":\"white\",\"ticks\":\"\"},\"baxis\":{\"gridcolor\":\"white\",\"linecolor\":\"white\",\"ticks\":\"\"},\"caxis\":{\"gridcolor\":\"white\",\"linecolor\":\"white\",\"ticks\":\"\"}},\"coloraxis\":{\"colorbar\":{\"outlinewidth\":0,\"ticks\":\"\"}},\"colorscale\":{\"sequential\":[[0.0,\"#0d0887\"],[0.1111111111111111,\"#46039f\"],[0.2222222222222222,\"#7201a8\"],[0.3333333333333333,\"#9c179e\"],[0.4444444444444444,\"#bd3786\"],[0.5555555555555556,\"#d8576b\"],[0.6666666666666666,\"#ed7953\"],[0.7777777777777778,\"#fb9f3a\"],[0.8888888888888888,\"#fdca26\"],[1.0,\"#f0f921\"]],\"sequentialminus\":[[0.0,\"#0d0887\"],[0.1111111111111111,\"#46039f\"],[0.2222222222222222,\"#7201a8\"],[0.3333333333333333,\"#9c179e\"],[0.4444444444444444,\"#bd3786\"],[0.5555555555555556,\"#d8576b\"],[0.6666666666666666,\"#ed7953\"],[0.7777777777777778,\"#fb9f3a\"],[0.8888888888888888,\"#fdca26\"],[1.0,\"#f0f921\"]],\"diverging\":[[0,\"#8e0152\"],[0.1,\"#c51b7d\"],[0.2,\"#de77ae\"],[0.3,\"#f1b6da\"],[0.4,\"#fde0ef\"],[0.5,\"#f7f7f7\"],[0.6,\"#e6f5d0\"],[0.7,\"#b8e186\"],[0.8,\"#7fbc41\"],[0.9,\"#4d9221\"],[1,\"#276419\"]]},\"xaxis\":{\"gridcolor\":\"white\",\"linecolor\":\"white\",\"ticks\":\"\",\"title\":{\"standoff\":15},\"zerolinecolor\":\"white\",\"automargin\":true,\"zerolinewidth\":2},\"yaxis\":{\"gridcolor\":\"white\",\"linecolor\":\"white\",\"ticks\":\"\",\"title\":{\"standoff\":15},\"zerolinecolor\":\"white\",\"automargin\":true,\"zerolinewidth\":2},\"scene\":{\"xaxis\":{\"backgroundcolor\":\"#E5ECF6\",\"gridcolor\":\"white\",\"linecolor\":\"white\",\"showbackground\":true,\"ticks\":\"\",\"zerolinecolor\":\"white\",\"gridwidth\":2},\"yaxis\":{\"backgroundcolor\":\"#E5ECF6\",\"gridcolor\":\"white\",\"linecolor\":\"white\",\"showbackground\":true,\"ticks\":\"\",\"zerolinecolor\":\"white\",\"gridwidth\":2},\"zaxis\":{\"backgroundcolor\":\"#E5ECF6\",\"gridcolor\":\"white\",\"linecolor\":\"white\",\"showbackground\":true,\"ticks\":\"\",\"zerolinecolor\":\"white\",\"gridwidth\":2}},\"shapedefaults\":{\"line\":{\"color\":\"#2a3f5f\"}},\"annotationdefaults\":{\"arrowcolor\":\"#2a3f5f\",\"arrowhead\":0,\"arrowwidth\":1},\"geo\":{\"bgcolor\":\"white\",\"landcolor\":\"#E5ECF6\",\"subunitcolor\":\"white\",\"showland\":true,\"showlakes\":true,\"lakecolor\":\"white\"},\"title\":{\"x\":0.05},\"mapbox\":{\"style\":\"light\"}}},\"xaxis\":{\"anchor\":\"y\",\"domain\":[0.0,0.16799999999999998],\"title\":{\"text\":\"epochs\"}},\"yaxis\":{\"anchor\":\"x\",\"domain\":[0.0,1.0],\"title\":{\"text\":\"Objective Value\"}},\"xaxis2\":{\"anchor\":\"y2\",\"domain\":[0.208,0.376],\"title\":{\"text\":\"lambda_i\"},\"type\":\"log\"},\"yaxis2\":{\"anchor\":\"x2\",\"domain\":[0.0,1.0],\"matches\":\"y\",\"showticklabels\":false},\"xaxis3\":{\"anchor\":\"y3\",\"domain\":[0.416,0.584],\"title\":{\"text\":\"lambda_j\"},\"type\":\"log\"},\"yaxis3\":{\"anchor\":\"x3\",\"domain\":[0.0,1.0],\"matches\":\"y\",\"showticklabels\":false},\"xaxis4\":{\"anchor\":\"y4\",\"domain\":[0.624,0.792],\"title\":{\"text\":\"learning_rate\"},\"type\":\"log\"},\"yaxis4\":{\"anchor\":\"x4\",\"domain\":[0.0,1.0],\"matches\":\"y\",\"showticklabels\":false},\"xaxis5\":{\"anchor\":\"y5\",\"domain\":[0.832,1.0],\"title\":{\"text\":\"topK\"}},\"yaxis5\":{\"anchor\":\"x5\",\"domain\":[0.0,1.0],\"matches\":\"y\",\"showticklabels\":false},\"title\":{\"text\":\"Slice Plot\"},\"width\":1500},                        {\"responsive\": true}                    ).then(function(){\n",
       "                            \n",
       "var gd = document.getElementById('de056d39-6d73-48b8-8ce4-a6ad0fac2f00');\n",
       "var x = new MutationObserver(function (mutations, observer) {{\n",
       "        var display = window.getComputedStyle(gd).display;\n",
       "        if (!display || display === 'none') {{\n",
       "            console.log([gd, 'removed!']);\n",
       "            Plotly.purge(gd);\n",
       "            observer.disconnect();\n",
       "        }}\n",
       "}});\n",
       "\n",
       "// Listen for the removal of the full notebook cells\n",
       "var notebookContainer = gd.closest('#notebook-container');\n",
       "if (notebookContainer) {{\n",
       "    x.observe(notebookContainer, {childList: true});\n",
       "}}\n",
       "\n",
       "// Listen for the clearing of the current output cell\n",
       "var outputEl = gd.closest('.output');\n",
       "if (outputEl) {{\n",
       "    x.observe(outputEl, {childList: true});\n",
       "}}\n",
       "\n",
       "                        })                };                });            </script>        </div>"
      ]
     },
     "metadata": {},
     "output_type": "display_data"
    }
   ],
   "source": [
    "if not config['tune_parameters']:\n",
    "    optuna_study = optuna.load_study(study_name=f'hyperparameters_tuning_{config[\"model\"]}_{config[\"metric\"]}', storage=f'sqlite:///{config[\"database_path\"]}')\n",
    "    \n",
    "fig = optuna.visualization.plot_slice(optuna_study)\n",
    "fig.show()"
   ]
  },
  {
   "cell_type": "code",
   "execution_count": 15,
   "id": "977c68b3",
   "metadata": {
    "execution": {
     "iopub.execute_input": "2024-12-16T13:50:18.479685Z",
     "iopub.status.busy": "2024-12-16T13:50:18.479216Z",
     "iopub.status.idle": "2024-12-16T13:50:19.942471Z",
     "shell.execute_reply": "2024-12-16T13:50:19.941332Z"
    },
    "papermill": {
     "duration": 1.5002,
     "end_time": "2024-12-16T13:50:19.944939",
     "exception": false,
     "start_time": "2024-12-16T13:50:18.444739",
     "status": "completed"
    },
    "tags": []
   },
   "outputs": [
    {
     "data": {
      "text/html": [
       "<div>                            <div id=\"02380477-ab8f-4b97-8a71-7bfce87fbc9e\" class=\"plotly-graph-div\" style=\"height:525px; width:100%;\"></div>            <script type=\"text/javascript\">                require([\"plotly\"], function(Plotly) {                    window.PLOTLYENV=window.PLOTLYENV || {};                                    if (document.getElementById(\"02380477-ab8f-4b97-8a71-7bfce87fbc9e\")) {                    Plotly.newPlot(                        \"02380477-ab8f-4b97-8a71-7bfce87fbc9e\",                        [{\"cliponaxis\":false,\"hovertemplate\":[\"lambda_j (FloatDistribution): 0.0010372175372425562\\u003cextra\\u003e\\u003c\\u002fextra\\u003e\",\"lambda_i (FloatDistribution): 0.03412227533165607\\u003cextra\\u003e\\u003c\\u002fextra\\u003e\",\"learning_rate (FloatDistribution): 0.17190996440660172\\u003cextra\\u003e\\u003c\\u002fextra\\u003e\",\"epochs (IntDistribution): 0.21973693708120293\\u003cextra\\u003e\\u003c\\u002fextra\\u003e\",\"topK (IntDistribution): 0.5731936056432967\\u003cextra\\u003e\\u003c\\u002fextra\\u003e\"],\"name\":\"Objective Value\",\"orientation\":\"h\",\"text\":[\"\\u003c0.01\",\"0.03\",\"0.17\",\"0.22\",\"0.57\"],\"textposition\":\"outside\",\"x\":[0.0010372175372425562,0.03412227533165607,0.17190996440660172,0.21973693708120293,0.5731936056432967],\"y\":[\"lambda_j\",\"lambda_i\",\"learning_rate\",\"epochs\",\"topK\"],\"type\":\"bar\"}],                        {\"title\":{\"text\":\"Hyperparameter Importances\"},\"xaxis\":{\"title\":{\"text\":\"Hyperparameter Importance\"}},\"yaxis\":{\"title\":{\"text\":\"Hyperparameter\"}},\"template\":{\"data\":{\"histogram2dcontour\":[{\"type\":\"histogram2dcontour\",\"colorbar\":{\"outlinewidth\":0,\"ticks\":\"\"},\"colorscale\":[[0.0,\"#0d0887\"],[0.1111111111111111,\"#46039f\"],[0.2222222222222222,\"#7201a8\"],[0.3333333333333333,\"#9c179e\"],[0.4444444444444444,\"#bd3786\"],[0.5555555555555556,\"#d8576b\"],[0.6666666666666666,\"#ed7953\"],[0.7777777777777778,\"#fb9f3a\"],[0.8888888888888888,\"#fdca26\"],[1.0,\"#f0f921\"]]}],\"choropleth\":[{\"type\":\"choropleth\",\"colorbar\":{\"outlinewidth\":0,\"ticks\":\"\"}}],\"histogram2d\":[{\"type\":\"histogram2d\",\"colorbar\":{\"outlinewidth\":0,\"ticks\":\"\"},\"colorscale\":[[0.0,\"#0d0887\"],[0.1111111111111111,\"#46039f\"],[0.2222222222222222,\"#7201a8\"],[0.3333333333333333,\"#9c179e\"],[0.4444444444444444,\"#bd3786\"],[0.5555555555555556,\"#d8576b\"],[0.6666666666666666,\"#ed7953\"],[0.7777777777777778,\"#fb9f3a\"],[0.8888888888888888,\"#fdca26\"],[1.0,\"#f0f921\"]]}],\"heatmap\":[{\"type\":\"heatmap\",\"colorbar\":{\"outlinewidth\":0,\"ticks\":\"\"},\"colorscale\":[[0.0,\"#0d0887\"],[0.1111111111111111,\"#46039f\"],[0.2222222222222222,\"#7201a8\"],[0.3333333333333333,\"#9c179e\"],[0.4444444444444444,\"#bd3786\"],[0.5555555555555556,\"#d8576b\"],[0.6666666666666666,\"#ed7953\"],[0.7777777777777778,\"#fb9f3a\"],[0.8888888888888888,\"#fdca26\"],[1.0,\"#f0f921\"]]}],\"heatmapgl\":[{\"type\":\"heatmapgl\",\"colorbar\":{\"outlinewidth\":0,\"ticks\":\"\"},\"colorscale\":[[0.0,\"#0d0887\"],[0.1111111111111111,\"#46039f\"],[0.2222222222222222,\"#7201a8\"],[0.3333333333333333,\"#9c179e\"],[0.4444444444444444,\"#bd3786\"],[0.5555555555555556,\"#d8576b\"],[0.6666666666666666,\"#ed7953\"],[0.7777777777777778,\"#fb9f3a\"],[0.8888888888888888,\"#fdca26\"],[1.0,\"#f0f921\"]]}],\"contourcarpet\":[{\"type\":\"contourcarpet\",\"colorbar\":{\"outlinewidth\":0,\"ticks\":\"\"}}],\"contour\":[{\"type\":\"contour\",\"colorbar\":{\"outlinewidth\":0,\"ticks\":\"\"},\"colorscale\":[[0.0,\"#0d0887\"],[0.1111111111111111,\"#46039f\"],[0.2222222222222222,\"#7201a8\"],[0.3333333333333333,\"#9c179e\"],[0.4444444444444444,\"#bd3786\"],[0.5555555555555556,\"#d8576b\"],[0.6666666666666666,\"#ed7953\"],[0.7777777777777778,\"#fb9f3a\"],[0.8888888888888888,\"#fdca26\"],[1.0,\"#f0f921\"]]}],\"surface\":[{\"type\":\"surface\",\"colorbar\":{\"outlinewidth\":0,\"ticks\":\"\"},\"colorscale\":[[0.0,\"#0d0887\"],[0.1111111111111111,\"#46039f\"],[0.2222222222222222,\"#7201a8\"],[0.3333333333333333,\"#9c179e\"],[0.4444444444444444,\"#bd3786\"],[0.5555555555555556,\"#d8576b\"],[0.6666666666666666,\"#ed7953\"],[0.7777777777777778,\"#fb9f3a\"],[0.8888888888888888,\"#fdca26\"],[1.0,\"#f0f921\"]]}],\"mesh3d\":[{\"type\":\"mesh3d\",\"colorbar\":{\"outlinewidth\":0,\"ticks\":\"\"}}],\"scatter\":[{\"fillpattern\":{\"fillmode\":\"overlay\",\"size\":10,\"solidity\":0.2},\"type\":\"scatter\"}],\"parcoords\":[{\"type\":\"parcoords\",\"line\":{\"colorbar\":{\"outlinewidth\":0,\"ticks\":\"\"}}}],\"scatterpolargl\":[{\"type\":\"scatterpolargl\",\"marker\":{\"colorbar\":{\"outlinewidth\":0,\"ticks\":\"\"}}}],\"bar\":[{\"error_x\":{\"color\":\"#2a3f5f\"},\"error_y\":{\"color\":\"#2a3f5f\"},\"marker\":{\"line\":{\"color\":\"#E5ECF6\",\"width\":0.5},\"pattern\":{\"fillmode\":\"overlay\",\"size\":10,\"solidity\":0.2}},\"type\":\"bar\"}],\"scattergeo\":[{\"type\":\"scattergeo\",\"marker\":{\"colorbar\":{\"outlinewidth\":0,\"ticks\":\"\"}}}],\"scatterpolar\":[{\"type\":\"scatterpolar\",\"marker\":{\"colorbar\":{\"outlinewidth\":0,\"ticks\":\"\"}}}],\"histogram\":[{\"marker\":{\"pattern\":{\"fillmode\":\"overlay\",\"size\":10,\"solidity\":0.2}},\"type\":\"histogram\"}],\"scattergl\":[{\"type\":\"scattergl\",\"marker\":{\"colorbar\":{\"outlinewidth\":0,\"ticks\":\"\"}}}],\"scatter3d\":[{\"type\":\"scatter3d\",\"line\":{\"colorbar\":{\"outlinewidth\":0,\"ticks\":\"\"}},\"marker\":{\"colorbar\":{\"outlinewidth\":0,\"ticks\":\"\"}}}],\"scattermapbox\":[{\"type\":\"scattermapbox\",\"marker\":{\"colorbar\":{\"outlinewidth\":0,\"ticks\":\"\"}}}],\"scatterternary\":[{\"type\":\"scatterternary\",\"marker\":{\"colorbar\":{\"outlinewidth\":0,\"ticks\":\"\"}}}],\"scattercarpet\":[{\"type\":\"scattercarpet\",\"marker\":{\"colorbar\":{\"outlinewidth\":0,\"ticks\":\"\"}}}],\"carpet\":[{\"aaxis\":{\"endlinecolor\":\"#2a3f5f\",\"gridcolor\":\"white\",\"linecolor\":\"white\",\"minorgridcolor\":\"white\",\"startlinecolor\":\"#2a3f5f\"},\"baxis\":{\"endlinecolor\":\"#2a3f5f\",\"gridcolor\":\"white\",\"linecolor\":\"white\",\"minorgridcolor\":\"white\",\"startlinecolor\":\"#2a3f5f\"},\"type\":\"carpet\"}],\"table\":[{\"cells\":{\"fill\":{\"color\":\"#EBF0F8\"},\"line\":{\"color\":\"white\"}},\"header\":{\"fill\":{\"color\":\"#C8D4E3\"},\"line\":{\"color\":\"white\"}},\"type\":\"table\"}],\"barpolar\":[{\"marker\":{\"line\":{\"color\":\"#E5ECF6\",\"width\":0.5},\"pattern\":{\"fillmode\":\"overlay\",\"size\":10,\"solidity\":0.2}},\"type\":\"barpolar\"}],\"pie\":[{\"automargin\":true,\"type\":\"pie\"}]},\"layout\":{\"autotypenumbers\":\"strict\",\"colorway\":[\"#636efa\",\"#EF553B\",\"#00cc96\",\"#ab63fa\",\"#FFA15A\",\"#19d3f3\",\"#FF6692\",\"#B6E880\",\"#FF97FF\",\"#FECB52\"],\"font\":{\"color\":\"#2a3f5f\"},\"hovermode\":\"closest\",\"hoverlabel\":{\"align\":\"left\"},\"paper_bgcolor\":\"white\",\"plot_bgcolor\":\"#E5ECF6\",\"polar\":{\"bgcolor\":\"#E5ECF6\",\"angularaxis\":{\"gridcolor\":\"white\",\"linecolor\":\"white\",\"ticks\":\"\"},\"radialaxis\":{\"gridcolor\":\"white\",\"linecolor\":\"white\",\"ticks\":\"\"}},\"ternary\":{\"bgcolor\":\"#E5ECF6\",\"aaxis\":{\"gridcolor\":\"white\",\"linecolor\":\"white\",\"ticks\":\"\"},\"baxis\":{\"gridcolor\":\"white\",\"linecolor\":\"white\",\"ticks\":\"\"},\"caxis\":{\"gridcolor\":\"white\",\"linecolor\":\"white\",\"ticks\":\"\"}},\"coloraxis\":{\"colorbar\":{\"outlinewidth\":0,\"ticks\":\"\"}},\"colorscale\":{\"sequential\":[[0.0,\"#0d0887\"],[0.1111111111111111,\"#46039f\"],[0.2222222222222222,\"#7201a8\"],[0.3333333333333333,\"#9c179e\"],[0.4444444444444444,\"#bd3786\"],[0.5555555555555556,\"#d8576b\"],[0.6666666666666666,\"#ed7953\"],[0.7777777777777778,\"#fb9f3a\"],[0.8888888888888888,\"#fdca26\"],[1.0,\"#f0f921\"]],\"sequentialminus\":[[0.0,\"#0d0887\"],[0.1111111111111111,\"#46039f\"],[0.2222222222222222,\"#7201a8\"],[0.3333333333333333,\"#9c179e\"],[0.4444444444444444,\"#bd3786\"],[0.5555555555555556,\"#d8576b\"],[0.6666666666666666,\"#ed7953\"],[0.7777777777777778,\"#fb9f3a\"],[0.8888888888888888,\"#fdca26\"],[1.0,\"#f0f921\"]],\"diverging\":[[0,\"#8e0152\"],[0.1,\"#c51b7d\"],[0.2,\"#de77ae\"],[0.3,\"#f1b6da\"],[0.4,\"#fde0ef\"],[0.5,\"#f7f7f7\"],[0.6,\"#e6f5d0\"],[0.7,\"#b8e186\"],[0.8,\"#7fbc41\"],[0.9,\"#4d9221\"],[1,\"#276419\"]]},\"xaxis\":{\"gridcolor\":\"white\",\"linecolor\":\"white\",\"ticks\":\"\",\"title\":{\"standoff\":15},\"zerolinecolor\":\"white\",\"automargin\":true,\"zerolinewidth\":2},\"yaxis\":{\"gridcolor\":\"white\",\"linecolor\":\"white\",\"ticks\":\"\",\"title\":{\"standoff\":15},\"zerolinecolor\":\"white\",\"automargin\":true,\"zerolinewidth\":2},\"scene\":{\"xaxis\":{\"backgroundcolor\":\"#E5ECF6\",\"gridcolor\":\"white\",\"linecolor\":\"white\",\"showbackground\":true,\"ticks\":\"\",\"zerolinecolor\":\"white\",\"gridwidth\":2},\"yaxis\":{\"backgroundcolor\":\"#E5ECF6\",\"gridcolor\":\"white\",\"linecolor\":\"white\",\"showbackground\":true,\"ticks\":\"\",\"zerolinecolor\":\"white\",\"gridwidth\":2},\"zaxis\":{\"backgroundcolor\":\"#E5ECF6\",\"gridcolor\":\"white\",\"linecolor\":\"white\",\"showbackground\":true,\"ticks\":\"\",\"zerolinecolor\":\"white\",\"gridwidth\":2}},\"shapedefaults\":{\"line\":{\"color\":\"#2a3f5f\"}},\"annotationdefaults\":{\"arrowcolor\":\"#2a3f5f\",\"arrowhead\":0,\"arrowwidth\":1},\"geo\":{\"bgcolor\":\"white\",\"landcolor\":\"#E5ECF6\",\"subunitcolor\":\"white\",\"showland\":true,\"showlakes\":true,\"lakecolor\":\"white\"},\"title\":{\"x\":0.05},\"mapbox\":{\"style\":\"light\"}}}},                        {\"responsive\": true}                    ).then(function(){\n",
       "                            \n",
       "var gd = document.getElementById('02380477-ab8f-4b97-8a71-7bfce87fbc9e');\n",
       "var x = new MutationObserver(function (mutations, observer) {{\n",
       "        var display = window.getComputedStyle(gd).display;\n",
       "        if (!display || display === 'none') {{\n",
       "            console.log([gd, 'removed!']);\n",
       "            Plotly.purge(gd);\n",
       "            observer.disconnect();\n",
       "        }}\n",
       "}});\n",
       "\n",
       "// Listen for the removal of the full notebook cells\n",
       "var notebookContainer = gd.closest('#notebook-container');\n",
       "if (notebookContainer) {{\n",
       "    x.observe(notebookContainer, {childList: true});\n",
       "}}\n",
       "\n",
       "// Listen for the clearing of the current output cell\n",
       "var outputEl = gd.closest('.output');\n",
       "if (outputEl) {{\n",
       "    x.observe(outputEl, {childList: true});\n",
       "}}\n",
       "\n",
       "                        })                };                });            </script>        </div>"
      ]
     },
     "metadata": {},
     "output_type": "display_data"
    }
   ],
   "source": [
    "if not config['tune_parameters']:\n",
    "    optuna_study = optuna.load_study(study_name=f'hyperparameters_tuning_{config[\"model\"]}_{config[\"metric\"]}', storage=f'sqlite:///{config[\"database_path\"]}')\n",
    "    \n",
    "fig = optuna.visualization.plot_param_importances(optuna_study)\n",
    "fig.show()"
   ]
  },
  {
   "cell_type": "markdown",
   "id": "733092c4",
   "metadata": {
    "papermill": {
     "duration": 0.141752,
     "end_time": "2024-12-16T13:50:20.119687",
     "exception": false,
     "start_time": "2024-12-16T13:50:19.977935",
     "status": "completed"
    },
    "tags": []
   },
   "source": [
    "## Let's train the recommender with best parameter values"
   ]
  },
  {
   "cell_type": "code",
   "execution_count": 16,
   "id": "a37373d1",
   "metadata": {
    "execution": {
     "iopub.execute_input": "2024-12-16T13:50:20.190454Z",
     "iopub.status.busy": "2024-12-16T13:50:20.189499Z",
     "iopub.status.idle": "2024-12-16T13:56:51.651056Z",
     "shell.execute_reply": "2024-12-16T13:56:51.649516Z"
    },
    "papermill": {
     "duration": 391.500586,
     "end_time": "2024-12-16T13:56:51.654033",
     "exception": false,
     "start_time": "2024-12-16T13:50:20.153447",
     "status": "completed"
    },
    "tags": []
   },
   "outputs": [
    {
     "name": "stdout",
     "output_type": "stream",
     "text": [
      "Epoch 1, Iteration 35736 in 11.95 seconds. Samples per second 2991.34\n",
      "Epoch 2, Iteration 35736 in 8.26 seconds. Samples per second 4328.19\n",
      "Epoch 3, Iteration 35736 in 6.67 seconds. Samples per second 5356.07\n",
      "Epoch 4, Iteration 35736 in 5.56 seconds. Samples per second 6424.78\n",
      "Epoch 5, Iteration 35736 in 4.89 seconds. Samples per second 7303.30\n",
      "Epoch 6, Iteration 35736 in 4.35 seconds. Samples per second 8208.30\n",
      "Epoch 7, Iteration 35736 in 4.17 seconds. Samples per second 8568.95\n",
      "Epoch 8, Iteration 35736 in 3.94 seconds. Samples per second 9077.43\n",
      "Epoch 9, Iteration 35736 in 3.74 seconds. Samples per second 9563.65\n",
      "Epoch 10, Iteration 35736 in 3.83 seconds. Samples per second 9333.79\n",
      "Epoch 11, Iteration 35736 in 3.71 seconds. Samples per second 9639.38\n",
      "Epoch 12, Iteration 35736 in 3.85 seconds. Samples per second 9280.36\n",
      "Epoch 13, Iteration 35736 in 3.49 seconds. Samples per second 10252.93\n",
      "Epoch 14, Iteration 35736 in 3.41 seconds. Samples per second 10493.15\n",
      "Epoch 15, Iteration 35736 in 3.52 seconds. Samples per second 10149.69\n",
      "Epoch 16, Iteration 35736 in 3.33 seconds. Samples per second 10718.61\n",
      "Epoch 17, Iteration 35736 in 3.30 seconds. Samples per second 10813.41\n",
      "Epoch 18, Iteration 35736 in 3.31 seconds. Samples per second 10809.73\n",
      "Epoch 19, Iteration 35736 in 3.39 seconds. Samples per second 10533.92\n",
      "Epoch 20, Iteration 35736 in 3.22 seconds. Samples per second 11111.93\n",
      "Epoch 21, Iteration 35736 in 3.26 seconds. Samples per second 10972.99\n",
      "Epoch 22, Iteration 35736 in 3.26 seconds. Samples per second 10949.01\n",
      "Epoch 23, Iteration 35736 in 3.21 seconds. Samples per second 11127.60\n",
      "Epoch 24, Iteration 35736 in 3.19 seconds. Samples per second 11196.69\n",
      "Epoch 25, Iteration 35736 in 3.32 seconds. Samples per second 10764.59\n",
      "Epoch 26, Iteration 35736 in 3.21 seconds. Samples per second 11141.55\n",
      "Epoch 27, Iteration 35736 in 3.19 seconds. Samples per second 11200.29\n",
      "Epoch 28, Iteration 35736 in 3.22 seconds. Samples per second 11089.95\n",
      "Epoch 29, Iteration 35736 in 3.14 seconds. Samples per second 11366.52\n",
      "Train completed in 2.01 minutes\n"
     ]
    }
   ],
   "source": [
    "if config['tune_best_params']:\n",
    "\n",
    "    if config['tune_parameters']:\n",
    "        best_params = optuna_study.best_trial.params\n",
    "    else: \n",
    "        with open(f'{K_PATH}/{GH_PATH}/{config[\"model\"]}_Recommender/Optimizing{config[\"metric\"]}/best_params_{config[\"model\"]}_{config[\"metric\"]}.json', 'r') as best_params_json:\n",
    "            best_params = json.load(best_params_json)\n",
    "    \n",
    "    recommender_instance = SLIM_BPR_Python(URM_train + URM_validation)\n",
    "    recommender_instance.fit(**best_params)"
   ]
  },
  {
   "cell_type": "markdown",
   "id": "d3bb7a6f",
   "metadata": {
    "papermill": {
     "duration": 0.035558,
     "end_time": "2024-12-16T13:56:51.725824",
     "exception": false,
     "start_time": "2024-12-16T13:56:51.690266",
     "status": "completed"
    },
    "tags": []
   },
   "source": [
    "# Testing"
   ]
  },
  {
   "cell_type": "markdown",
   "id": "f58344b5",
   "metadata": {
    "papermill": {
     "duration": 0.035004,
     "end_time": "2024-12-16T13:56:51.795820",
     "exception": false,
     "start_time": "2024-12-16T13:56:51.760816",
     "status": "completed"
    },
    "tags": []
   },
   "source": [
    "Create the recommendations for the submission. "
   ]
  },
  {
   "cell_type": "code",
   "execution_count": 17,
   "id": "301bd2d7",
   "metadata": {
    "execution": {
     "iopub.execute_input": "2024-12-16T13:56:51.872001Z",
     "iopub.status.busy": "2024-12-16T13:56:51.871579Z",
     "iopub.status.idle": "2024-12-16T13:57:27.651497Z",
     "shell.execute_reply": "2024-12-16T13:57:27.650007Z"
    },
    "papermill": {
     "duration": 35.860331,
     "end_time": "2024-12-16T13:57:27.691905",
     "exception": false,
     "start_time": "2024-12-16T13:56:51.831574",
     "status": "completed"
    },
    "tags": []
   },
   "outputs": [
    {
     "name": "stdout",
     "output_type": "stream",
     "text": [
      "Submission file saved as /kaggle/working/submission_SLIM_BPR.csv\n"
     ]
    }
   ],
   "source": [
    "if config['tune_best_params']:\n",
    "\n",
    "    data_target_users_test = pd.read_csv('/kaggle/input/recommender-system-2024-challenge-polimi/data_target_users_test.csv')\n",
    "    create_submission(data_target_users_test, recommender_instance, f'/kaggle/working/submission_{config[\"model\"]}.csv')"
   ]
  },
  {
   "cell_type": "markdown",
   "id": "39bb83a5",
   "metadata": {
    "execution": {
     "iopub.execute_input": "2024-11-14T00:04:16.877791Z",
     "iopub.status.busy": "2024-11-14T00:04:16.877275Z",
     "iopub.status.idle": "2024-11-14T00:04:16.883170Z",
     "shell.execute_reply": "2024-11-14T00:04:16.881889Z",
     "shell.execute_reply.started": "2024-11-14T00:04:16.877743Z"
    },
    "papermill": {
     "duration": 0.036504,
     "end_time": "2024-12-16T13:57:27.764396",
     "exception": false,
     "start_time": "2024-12-16T13:57:27.727892",
     "status": "completed"
    },
    "tags": []
   },
   "source": [
    "# Save Version on GitHub "
   ]
  },
  {
   "cell_type": "markdown",
   "id": "cfb2edcf",
   "metadata": {
    "papermill": {
     "duration": 0.03559,
     "end_time": "2024-12-16T13:57:27.835658",
     "exception": false,
     "start_time": "2024-12-16T13:57:27.800068",
     "status": "completed"
    },
    "tags": []
   },
   "source": [
    "Write or import a json file where best hyperparameters are saved. "
   ]
  },
  {
   "cell_type": "code",
   "execution_count": 18,
   "id": "79427ecc",
   "metadata": {
    "execution": {
     "iopub.execute_input": "2024-12-16T13:57:27.907961Z",
     "iopub.status.busy": "2024-12-16T13:57:27.907358Z",
     "iopub.status.idle": "2024-12-16T13:57:28.791818Z",
     "shell.execute_reply": "2024-12-16T13:57:28.790477Z"
    },
    "papermill": {
     "duration": 0.923856,
     "end_time": "2024-12-16T13:57:28.794050",
     "exception": false,
     "start_time": "2024-12-16T13:57:27.870194",
     "status": "completed"
    },
    "tags": []
   },
   "outputs": [
    {
     "name": "stdout",
     "output_type": "stream",
     "text": [
      "File 'TrainedModels/WithoutKFCV/SLIM/SLIM_BPR_Recommender/OptimizingMAP/best_params_SLIM_BPR_MAP.json' updated successfully.\n"
     ]
    }
   ],
   "source": [
    "if config['tune_parameters']:\n",
    "    with open(f'/kaggle/working/best_params_{config[\"model\"]}_{config[\"metric\"]}.json', 'w') as params_file:\n",
    "        json.dump(optuna_study.best_params, params_file)\n",
    "        \n",
    "    if config['save_github']:\n",
    "        upload_file(\n",
    "            f'/kaggle/working/best_params_{config[\"model\"]}_{config[\"metric\"]}.json', \n",
    "            f'{GH_PATH}/{config[\"model\"]}_Recommender/Optimizing{config[\"metric\"]}/best_params_{config[\"model\"]}_{config[\"metric\"]}.json', \n",
    "            f'{config[\"model\"]}_{config[\"metric\"]} tuning results (from kaggle notebook)',\n",
    "            repo\n",
    "        )\n",
    "elif config['copy_prev_best_params']:\n",
    "    shutil.copyfile(\n",
    "        f'{K_PATH}/{GH_PATH}/{config[\"model\"]}_Recommender/Optimizing{config[\"metric\"]}/'\\\n",
    "        f'best_params_{config[\"model\"]}_{config[\"metric\"]}.json', \n",
    "        f'/kaggle/working/best_params_{config[\"model\"]}_{config[\"metric\"]}.json'\n",
    "    )"
   ]
  },
  {
   "cell_type": "markdown",
   "id": "d72a70a5",
   "metadata": {
    "execution": {
     "iopub.execute_input": "2024-11-14T00:41:34.294243Z",
     "iopub.status.busy": "2024-11-14T00:41:34.293739Z",
     "iopub.status.idle": "2024-11-14T00:41:34.301478Z",
     "shell.execute_reply": "2024-11-14T00:41:34.299869Z",
     "shell.execute_reply.started": "2024-11-14T00:41:34.294186Z"
    },
    "papermill": {
     "duration": 0.035252,
     "end_time": "2024-12-16T13:57:28.864886",
     "exception": false,
     "start_time": "2024-12-16T13:57:28.829634",
     "status": "completed"
    },
    "tags": []
   },
   "source": [
    "Save the history of the tuned model."
   ]
  },
  {
   "cell_type": "code",
   "execution_count": 19,
   "id": "815e9240",
   "metadata": {
    "execution": {
     "iopub.execute_input": "2024-12-16T13:57:28.936669Z",
     "iopub.status.busy": "2024-12-16T13:57:28.936242Z",
     "iopub.status.idle": "2024-12-16T13:57:30.372756Z",
     "shell.execute_reply": "2024-12-16T13:57:30.371510Z"
    },
    "papermill": {
     "duration": 1.474932,
     "end_time": "2024-12-16T13:57:30.375076",
     "exception": false,
     "start_time": "2024-12-16T13:57:28.900144",
     "status": "completed"
    },
    "tags": []
   },
   "outputs": [
    {
     "name": "stdout",
     "output_type": "stream",
     "text": [
      "File 'TrainedModels/WithoutKFCV/SLIM/SLIM_BPR_Recommender/OptimizingMAP/history_SLIM_BPR_MAP.db' updated successfully.\n"
     ]
    }
   ],
   "source": [
    "if config['save_github'] and config['tune_parameters']:\n",
    "    upload_file(\n",
    "        config['database_path'], \n",
    "        f'{GH_PATH}/{config[\"model\"]}_Recommender/Optimizing{config[\"metric\"]}/history_{config[\"model\"]}_{config[\"metric\"]}.db',\n",
    "        f'Tuning {config[\"model\"]}_{config[\"metric\"]} db updated results (from kaggle notebook)',\n",
    "        repo\n",
    "    )"
   ]
  },
  {
   "cell_type": "markdown",
   "id": "13fd73c8",
   "metadata": {
    "papermill": {
     "duration": 0.034943,
     "end_time": "2024-12-16T13:57:30.445064",
     "exception": false,
     "start_time": "2024-12-16T13:57:30.410121",
     "status": "completed"
    },
    "tags": []
   },
   "source": [
    "Save the best trained model and its submission."
   ]
  },
  {
   "cell_type": "code",
   "execution_count": 20,
   "id": "68a0bcc7",
   "metadata": {
    "execution": {
     "iopub.execute_input": "2024-12-16T13:57:30.518350Z",
     "iopub.status.busy": "2024-12-16T13:57:30.516953Z",
     "iopub.status.idle": "2024-12-16T13:57:32.639467Z",
     "shell.execute_reply": "2024-12-16T13:57:32.638068Z"
    },
    "papermill": {
     "duration": 2.162038,
     "end_time": "2024-12-16T13:57:32.641892",
     "exception": false,
     "start_time": "2024-12-16T13:57:30.479854",
     "status": "completed"
    },
    "tags": []
   },
   "outputs": [
    {
     "name": "stdout",
     "output_type": "stream",
     "text": [
      "File 'TrainedModels/WithoutKFCV/SLIM/SLIM_BPR_Recommender/OptimizingMAP/Submission/submission_SLIM_BPR_MAP.csv' created successfully.\n"
     ]
    }
   ],
   "source": [
    "if config['save_github'] and config['tune_best_params']: \n",
    "    upload_file(\n",
    "                f'/kaggle/working/submission_{config[\"model\"]}.csv', \n",
    "                f'{GH_PATH}/{config[\"model\"]}_Recommender/Optimizing{config[\"metric\"]}/Submission/submission_{config[\"model\"]}_{config[\"metric\"]}.csv', \n",
    "                f'New {config[\"model\"]}_{config[\"metric\"]} submission (from kaggle notebook)',\n",
    "                repo\n",
    "            )"
   ]
  }
 ],
 "metadata": {
  "kaggle": {
   "accelerator": "none",
   "dataSources": [
    {
     "databundleVersionId": 9982103,
     "sourceId": 87439,
     "sourceType": "competition"
    }
   ],
   "dockerImageVersionId": 30804,
   "isGpuEnabled": false,
   "isInternetEnabled": true,
   "language": "python",
   "sourceType": "notebook"
  },
  "kernelspec": {
   "display_name": "Python 3",
   "language": "python",
   "name": "python3"
  },
  "language_info": {
   "codemirror_mode": {
    "name": "ipython",
    "version": 3
   },
   "file_extension": ".py",
   "mimetype": "text/x-python",
   "name": "python",
   "nbconvert_exporter": "python",
   "pygments_lexer": "ipython3",
   "version": "3.10.14"
  },
  "papermill": {
   "default_parameters": {},
   "duration": 4727.517737,
   "end_time": "2024-12-16T13:57:35.301382",
   "environment_variables": {},
   "exception": null,
   "input_path": "__notebook__.ipynb",
   "output_path": "__notebook__.ipynb",
   "parameters": {},
   "start_time": "2024-12-16T12:38:47.783645",
   "version": "2.6.0"
  }
 },
 "nbformat": 4,
 "nbformat_minor": 5
}
