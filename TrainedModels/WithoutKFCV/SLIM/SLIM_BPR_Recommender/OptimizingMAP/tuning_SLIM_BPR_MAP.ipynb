{
 "cells": [
  {
   "cell_type": "markdown",
   "id": "6fb53a88",
   "metadata": {
    "papermill": {
     "duration": 0.006821,
     "end_time": "2024-12-15T23:35:43.177838",
     "exception": false,
     "start_time": "2024-12-15T23:35:43.171017",
     "status": "completed"
    },
    "tags": []
   },
   "source": [
    "# Set connection with GitHub"
   ]
  },
  {
   "cell_type": "code",
   "execution_count": 1,
   "id": "07ab6d86",
   "metadata": {
    "execution": {
     "iopub.execute_input": "2024-12-15T23:35:43.191506Z",
     "iopub.status.busy": "2024-12-15T23:35:43.191087Z",
     "iopub.status.idle": "2024-12-15T23:35:43.196132Z",
     "shell.execute_reply": "2024-12-15T23:35:43.195351Z"
    },
    "papermill": {
     "duration": 0.013846,
     "end_time": "2024-12-15T23:35:43.198029",
     "exception": false,
     "start_time": "2024-12-15T23:35:43.184183",
     "status": "completed"
    },
    "tags": []
   },
   "outputs": [],
   "source": [
    "# ! cd /kaggle/working && rm -rf RECsys_Challenge2024"
   ]
  },
  {
   "cell_type": "code",
   "execution_count": 2,
   "id": "e755cbc1",
   "metadata": {
    "_cell_guid": "b1076dfc-b9ad-4769-8c92-a6c4dae69d19",
    "_uuid": "8f2839f25d086af736a60e9eeb907d3b93b6e0e5",
    "execution": {
     "iopub.execute_input": "2024-12-15T23:35:43.212512Z",
     "iopub.status.busy": "2024-12-15T23:35:43.212197Z",
     "iopub.status.idle": "2024-12-15T23:35:53.136225Z",
     "shell.execute_reply": "2024-12-15T23:35:53.135066Z"
    },
    "papermill": {
     "duration": 9.933374,
     "end_time": "2024-12-15T23:35:53.138768",
     "exception": false,
     "start_time": "2024-12-15T23:35:43.205394",
     "status": "completed"
    },
    "tags": []
   },
   "outputs": [
    {
     "name": "stdout",
     "output_type": "stream",
     "text": [
      "Cloning into 'RECsys_Challenge2024'...\r\n",
      "remote: Enumerating objects: 3993, done.\u001b[K\r\n",
      "remote: Counting objects: 100% (1466/1466), done.\u001b[K\r\n",
      "remote: Compressing objects: 100% (453/453), done.\u001b[K\r\n",
      "remote: Total 3993 (delta 811), reused 1461 (delta 811), pack-reused 2527 (from 1)\u001b[K\r\n",
      "Receiving objects: 100% (3993/3993), 167.98 MiB | 30.04 MiB/s, done.\r\n",
      "Resolving deltas: 100% (2330/2330), done.\r\n",
      "Updating files: 100% (374/374), done.\r\n"
     ]
    }
   ],
   "source": [
    "from kaggle_secrets import UserSecretsClient\n",
    "\n",
    "token = UserSecretsClient().get_secret(\"Token\")\n",
    "\n",
    "! git clone https://{token}@github.com/madratak/RECsys_Challenge2024.git"
   ]
  },
  {
   "cell_type": "code",
   "execution_count": 3,
   "id": "bb92c76a",
   "metadata": {
    "execution": {
     "iopub.execute_input": "2024-12-15T23:35:53.158094Z",
     "iopub.status.busy": "2024-12-15T23:35:53.157655Z",
     "iopub.status.idle": "2024-12-15T23:36:05.130186Z",
     "shell.execute_reply": "2024-12-15T23:36:05.129114Z"
    },
    "papermill": {
     "duration": 11.985151,
     "end_time": "2024-12-15T23:36:05.132741",
     "exception": false,
     "start_time": "2024-12-15T23:35:53.147590",
     "status": "completed"
    },
    "tags": []
   },
   "outputs": [
    {
     "name": "stdout",
     "output_type": "stream",
     "text": [
      "Collecting PyGithub\r\n",
      "  Downloading PyGithub-2.5.0-py3-none-any.whl.metadata (3.9 kB)\r\n",
      "Requirement already satisfied: requests in /opt/conda/lib/python3.10/site-packages (2.32.3)\r\n",
      "Collecting pynacl>=1.4.0 (from PyGithub)\r\n",
      "  Downloading PyNaCl-1.5.0-cp36-abi3-manylinux_2_17_x86_64.manylinux2014_x86_64.manylinux_2_24_x86_64.whl.metadata (8.6 kB)\r\n",
      "Requirement already satisfied: pyjwt>=2.4.0 in /opt/conda/lib/python3.10/site-packages (from pyjwt[crypto]>=2.4.0->PyGithub) (2.8.0)\r\n",
      "Requirement already satisfied: typing-extensions>=4.0.0 in /opt/conda/lib/python3.10/site-packages (from PyGithub) (4.12.2)\r\n",
      "Requirement already satisfied: urllib3>=1.26.0 in /opt/conda/lib/python3.10/site-packages (from PyGithub) (1.26.18)\r\n",
      "Requirement already satisfied: Deprecated in /opt/conda/lib/python3.10/site-packages (from PyGithub) (1.2.14)\r\n",
      "Requirement already satisfied: charset-normalizer<4,>=2 in /opt/conda/lib/python3.10/site-packages (from requests) (3.3.2)\r\n",
      "Requirement already satisfied: idna<4,>=2.5 in /opt/conda/lib/python3.10/site-packages (from requests) (3.7)\r\n",
      "Requirement already satisfied: certifi>=2017.4.17 in /opt/conda/lib/python3.10/site-packages (from requests) (2024.6.2)\r\n",
      "Requirement already satisfied: cryptography>=3.4.0 in /opt/conda/lib/python3.10/site-packages (from pyjwt[crypto]>=2.4.0->PyGithub) (42.0.8)\r\n",
      "Requirement already satisfied: cffi>=1.4.1 in /opt/conda/lib/python3.10/site-packages (from pynacl>=1.4.0->PyGithub) (1.16.0)\r\n",
      "Requirement already satisfied: wrapt<2,>=1.10 in /opt/conda/lib/python3.10/site-packages (from Deprecated->PyGithub) (1.16.0)\r\n",
      "Requirement already satisfied: pycparser in /opt/conda/lib/python3.10/site-packages (from cffi>=1.4.1->pynacl>=1.4.0->PyGithub) (2.22)\r\n",
      "Downloading PyGithub-2.5.0-py3-none-any.whl (375 kB)\r\n",
      "\u001b[2K   \u001b[90m━━━━━━━━━━━━━━━━━━━━━━━━━━━━━━━━━━━━━━━━\u001b[0m \u001b[32m375.9/375.9 kB\u001b[0m \u001b[31m9.1 MB/s\u001b[0m eta \u001b[36m0:00:00\u001b[0m\r\n",
      "\u001b[?25hDownloading PyNaCl-1.5.0-cp36-abi3-manylinux_2_17_x86_64.manylinux2014_x86_64.manylinux_2_24_x86_64.whl (856 kB)\r\n",
      "\u001b[2K   \u001b[90m━━━━━━━━━━━━━━━━━━━━━━━━━━━━━━━━━━━━━━━━\u001b[0m \u001b[32m856.7/856.7 kB\u001b[0m \u001b[31m30.1 MB/s\u001b[0m eta \u001b[36m0:00:00\u001b[0m\r\n",
      "\u001b[?25hInstalling collected packages: pynacl, PyGithub\r\n",
      "Successfully installed PyGithub-2.5.0 pynacl-1.5.0\r\n"
     ]
    }
   ],
   "source": [
    "! pip install PyGithub requests"
   ]
  },
  {
   "cell_type": "code",
   "execution_count": 4,
   "id": "30e3aa74",
   "metadata": {
    "_kg_hide-input": false,
    "execution": {
     "iopub.execute_input": "2024-12-15T23:36:05.153809Z",
     "iopub.status.busy": "2024-12-15T23:36:05.152853Z",
     "iopub.status.idle": "2024-12-15T23:38:28.970728Z",
     "shell.execute_reply": "2024-12-15T23:38:28.969379Z"
    },
    "papermill": {
     "duration": 143.83108,
     "end_time": "2024-12-15T23:38:28.973244",
     "exception": false,
     "start_time": "2024-12-15T23:36:05.142164",
     "status": "completed"
    },
    "tags": []
   },
   "outputs": [
    {
     "name": "stdout",
     "output_type": "stream",
     "text": [
      "/kaggle/working/RECsys_Challenge2024\n",
      "run_compile_all_cython: Found 11 Cython files in 5 folders...\r\n",
      "run_compile_all_cython: All files will be compiled using your current python environment: '/opt/conda/bin/python'\r\n",
      "Compiling [1/11]: MatrixFactorizationImpressions_Cython_Epoch.pyx... \r\n",
      "In file included from \u001b[01m\u001b[K/opt/conda/lib/python3.10/site-packages/numpy/core/include/numpy/ndarraytypes.h:1929\u001b[m\u001b[K,\r\n",
      "                 from \u001b[01m\u001b[K/opt/conda/lib/python3.10/site-packages/numpy/core/include/numpy/ndarrayobject.h:12\u001b[m\u001b[K,\r\n",
      "                 from \u001b[01m\u001b[K/opt/conda/lib/python3.10/site-packages/numpy/core/include/numpy/arrayobject.h:5\u001b[m\u001b[K,\r\n",
      "                 from \u001b[01m\u001b[KMatrixFactorizationImpressions_Cython_Epoch.c:1252\u001b[m\u001b[K:\r\n",
      "\u001b[01m\u001b[K/opt/conda/lib/python3.10/site-packages/numpy/core/include/numpy/npy_1_7_deprecated_api.h:17:2:\u001b[m\u001b[K \u001b[01;35m\u001b[Kwarning: \u001b[m\u001b[K#warning \"Using deprecated NumPy API, disable it with \" \"#define NPY_NO_DEPRECATED_API NPY_1_7_API_VERSION\" [\u001b[01;35m\u001b[K-Wcpp\u001b[m\u001b[K]\r\n",
      "   17 | #\u001b[01;35m\u001b[Kwarning\u001b[m\u001b[K \"Using deprecated NumPy API, disable it with \" \\\r\n",
      "      |  \u001b[01;35m\u001b[K^~~~~~~\u001b[m\u001b[K\r\n",
      "\u001b[01m\u001b[KMatrixFactorizationImpressions_Cython_Epoch.c:\u001b[m\u001b[K In function '\u001b[01m\u001b[K__pyx_f_43MatrixFactorizationImpressions_Cython_Epoch_32MatrixFactorization_Cython_Epoch_sampleBPR_Cython\u001b[m\u001b[K':\r\n",
      "\u001b[01m\u001b[KMatrixFactorizationImpressions_Cython_Epoch.c:30351:17:\u001b[m\u001b[K \u001b[01;35m\u001b[Kwarning: \u001b[m\u001b[K'\u001b[01m\u001b[K__pyx_v_start_pos_impression_items\u001b[m\u001b[K' may be used uninitialized in this function [\u001b[01;35m\u001b[K-Wmaybe-uninitialized\u001b[m\u001b[K]\r\n",
      "30351 |       \u001b[01;35m\u001b[K__pyx_t_4 = (__pyx_v_start_pos_impression_items + __pyx_v_index)\u001b[m\u001b[K;\r\n",
      "      |       \u001b[01;35m\u001b[K~~~~~~~~~~^~~~~~~~~~~~~~~~~~~~~~~~~~~~~~~~~~~~~~~~~~~~~~~~~~~~~~\u001b[m\u001b[K\r\n",
      "\u001b[01m\u001b[KMatrixFactorizationImpressions_Cython_Epoch.c:\u001b[m\u001b[K In function '\u001b[01m\u001b[K__pyx_pf_43MatrixFactorizationImpressions_Cython_Epoch_32MatrixFactorization_Cython_Epoch_10epochIteration_Cython_ASY_SVD_SGD\u001b[m\u001b[K':\r\n",
      "\u001b[01m\u001b[KMatrixFactorizationImpressions_Cython_Epoch.c:26111:7:\u001b[m\u001b[K \u001b[01;35m\u001b[Kwarning: \u001b[m\u001b[K'\u001b[01m\u001b[K__pyx_v_end_pos_seen_items\u001b[m\u001b[K' may be used uninitialized in this function [\u001b[01;35m\u001b[K-Wmaybe-uninitialized\u001b[m\u001b[K]\r\n",
      "26111 |       \u001b[01;35m\u001b[Kfor\u001b[m\u001b[K (__pyx_t_21 = __pyx_v_start_pos_seen_items; __pyx_t_21 < __pyx_t_20; __pyx_t_21+=1) {\r\n",
      "      |       \u001b[01;35m\u001b[K^~~\u001b[m\u001b[K\r\n",
      "\u001b[01m\u001b[KMatrixFactorizationImpressions_Cython_Epoch.c:26111:7:\u001b[m\u001b[K \u001b[01;35m\u001b[Kwarning: \u001b[m\u001b[K'\u001b[01m\u001b[K__pyx_v_start_pos_seen_items\u001b[m\u001b[K' may be used uninitialized in this function [\u001b[01;35m\u001b[K-Wmaybe-uninitialized\u001b[m\u001b[K]\r\n",
      "/opt/conda/lib/python3.10/site-packages/Cython/Compiler/Main.py:381: FutureWarning: Cython directive 'language_level' not set, using '3str' for now (Py3). This has changed from earlier releases! File: /kaggle/working/RECsys_Challenge2024/Recommenders/MatrixFactorization/Cython/MatrixFactorizationImpressions_Cython_Epoch.pyx\r\n",
      "  tree = Parsing.p_module(s, pxd, full_module_name)\r\n",
      "Compiling [1/11]: MatrixFactorizationImpressions_Cython_Epoch.pyx... PASS\r\n",
      "\r\n",
      "Compiling [2/11]: MatrixFactorization_Cython_Epoch.pyx... \r\n",
      "In file included from \u001b[01m\u001b[K/opt/conda/lib/python3.10/site-packages/numpy/core/include/numpy/ndarraytypes.h:1929\u001b[m\u001b[K,\r\n",
      "                 from \u001b[01m\u001b[K/opt/conda/lib/python3.10/site-packages/numpy/core/include/numpy/ndarrayobject.h:12\u001b[m\u001b[K,\r\n",
      "                 from \u001b[01m\u001b[K/opt/conda/lib/python3.10/site-packages/numpy/core/include/numpy/arrayobject.h:5\u001b[m\u001b[K,\r\n",
      "                 from \u001b[01m\u001b[KMatrixFactorization_Cython_Epoch.c:1252\u001b[m\u001b[K:\r\n",
      "\u001b[01m\u001b[K/opt/conda/lib/python3.10/site-packages/numpy/core/include/numpy/npy_1_7_deprecated_api.h:17:2:\u001b[m\u001b[K \u001b[01;35m\u001b[Kwarning: \u001b[m\u001b[K#warning \"Using deprecated NumPy API, disable it with \" \"#define NPY_NO_DEPRECATED_API NPY_1_7_API_VERSION\" [\u001b[01;35m\u001b[K-Wcpp\u001b[m\u001b[K]\r\n",
      "   17 | #\u001b[01;35m\u001b[Kwarning\u001b[m\u001b[K \"Using deprecated NumPy API, disable it with \" \\\r\n",
      "      |  \u001b[01;35m\u001b[K^~~~~~~\u001b[m\u001b[K\r\n",
      "\u001b[01m\u001b[KMatrixFactorization_Cython_Epoch.c:\u001b[m\u001b[K In function '\u001b[01m\u001b[K__pyx_pf_32MatrixFactorization_Cython_Epoch_32MatrixFactorization_Cython_Epoch_10epochIteration_Cython_ASY_SVD_SGD\u001b[m\u001b[K':\r\n",
      "\u001b[01m\u001b[KMatrixFactorization_Cython_Epoch.c:26255:9:\u001b[m\u001b[K \u001b[01;35m\u001b[Kwarning: \u001b[m\u001b[K'\u001b[01m\u001b[K__pyx_v_end_pos_seen_items\u001b[m\u001b[K' may be used uninitialized in this function [\u001b[01;35m\u001b[K-Wmaybe-uninitialized\u001b[m\u001b[K]\r\n",
      "26255 |         \u001b[01;35m\u001b[Kfor\u001b[m\u001b[K (__pyx_t_21 = __pyx_v_start_pos_seen_items; __pyx_t_21 < __pyx_t_20; __pyx_t_21+=1) {\r\n",
      "      |         \u001b[01;35m\u001b[K^~~\u001b[m\u001b[K\r\n",
      "\u001b[01m\u001b[KMatrixFactorization_Cython_Epoch.c:26255:9:\u001b[m\u001b[K \u001b[01;35m\u001b[Kwarning: \u001b[m\u001b[K'\u001b[01m\u001b[K__pyx_v_start_pos_seen_items\u001b[m\u001b[K' may be used uninitialized in this function [\u001b[01;35m\u001b[K-Wmaybe-uninitialized\u001b[m\u001b[K]\r\n",
      "/opt/conda/lib/python3.10/site-packages/Cython/Compiler/Main.py:381: FutureWarning: Cython directive 'language_level' not set, using '3str' for now (Py3). This has changed from earlier releases! File: /kaggle/working/RECsys_Challenge2024/Recommenders/MatrixFactorization/Cython/MatrixFactorization_Cython_Epoch.pyx\r\n",
      "  tree = Parsing.p_module(s, pxd, full_module_name)\r\n",
      "Compiling [2/11]: MatrixFactorization_Cython_Epoch.pyx... PASS\r\n",
      "\r\n",
      "Compiling [3/11]: Compute_Similarity_Cython.pyx... \r\n",
      "warning: Compute_Similarity_Cython.pyx:21:0: The 'IF' statement is deprecated and will be removed in a future Cython version. Consider using runtime conditions or C macros instead. See https://github.com/cython/cython/issues/4310\r\n",
      "In file included from \u001b[01m\u001b[K/opt/conda/lib/python3.10/site-packages/numpy/core/include/numpy/ndarraytypes.h:1929\u001b[m\u001b[K,\r\n",
      "                 from \u001b[01m\u001b[K/opt/conda/lib/python3.10/site-packages/numpy/core/include/numpy/ndarrayobject.h:12\u001b[m\u001b[K,\r\n",
      "                 from \u001b[01m\u001b[K/opt/conda/lib/python3.10/site-packages/numpy/core/include/numpy/arrayobject.h:5\u001b[m\u001b[K,\r\n",
      "                 from \u001b[01m\u001b[KCompute_Similarity_Cython.c:1252\u001b[m\u001b[K:\r\n",
      "\u001b[01m\u001b[K/opt/conda/lib/python3.10/site-packages/numpy/core/include/numpy/npy_1_7_deprecated_api.h:17:2:\u001b[m\u001b[K \u001b[01;35m\u001b[Kwarning: \u001b[m\u001b[K#warning \"Using deprecated NumPy API, disable it with \" \"#define NPY_NO_DEPRECATED_API NPY_1_7_API_VERSION\" [\u001b[01;35m\u001b[K-Wcpp\u001b[m\u001b[K]\r\n",
      "   17 | #\u001b[01;35m\u001b[Kwarning\u001b[m\u001b[K \"Using deprecated NumPy API, disable it with \" \\\r\n",
      "      |  \u001b[01;35m\u001b[K^~~~~~~\u001b[m\u001b[K\r\n",
      "/opt/conda/lib/python3.10/site-packages/Cython/Compiler/Main.py:381: FutureWarning: Cython directive 'language_level' not set, using '3str' for now (Py3). This has changed from earlier releases! File: /kaggle/working/RECsys_Challenge2024/Recommenders/Similarity/Cython/Compute_Similarity_Cython.pyx\r\n",
      "  tree = Parsing.p_module(s, pxd, full_module_name)\r\n",
      "warning: Compute_Similarity_Cython.pyx:21:0: The 'IF' statement is deprecated and will be removed in a future Cython version. Consider using runtime conditions or C macros instead. See https://github.com/cython/cython/issues/4310\r\n",
      "Compiling [3/11]: Compute_Similarity_Cython.pyx... PASS\r\n",
      "\r\n",
      "Compiling [4/11]: Triangular_Matrix.pyx... \r\n",
      "warning: Triangular_Matrix.pyx:22:0: The 'IF' statement is deprecated and will be removed in a future Cython version. Consider using runtime conditions or C macros instead. See https://github.com/cython/cython/issues/4310\r\n",
      "In file included from \u001b[01m\u001b[K/opt/conda/lib/python3.10/site-packages/numpy/core/include/numpy/ndarraytypes.h:1929\u001b[m\u001b[K,\r\n",
      "                 from \u001b[01m\u001b[K/opt/conda/lib/python3.10/site-packages/numpy/core/include/numpy/ndarrayobject.h:12\u001b[m\u001b[K,\r\n",
      "                 from \u001b[01m\u001b[K/opt/conda/lib/python3.10/site-packages/numpy/core/include/numpy/arrayobject.h:5\u001b[m\u001b[K,\r\n",
      "                 from \u001b[01m\u001b[KTriangular_Matrix.c:1252\u001b[m\u001b[K:\r\n",
      "\u001b[01m\u001b[K/opt/conda/lib/python3.10/site-packages/numpy/core/include/numpy/npy_1_7_deprecated_api.h:17:2:\u001b[m\u001b[K \u001b[01;35m\u001b[Kwarning: \u001b[m\u001b[K#warning \"Using deprecated NumPy API, disable it with \" \"#define NPY_NO_DEPRECATED_API NPY_1_7_API_VERSION\" [\u001b[01;35m\u001b[K-Wcpp\u001b[m\u001b[K]\r\n",
      "   17 | #\u001b[01;35m\u001b[Kwarning\u001b[m\u001b[K \"Using deprecated NumPy API, disable it with \" \\\r\n",
      "      |  \u001b[01;35m\u001b[K^~~~~~~\u001b[m\u001b[K\r\n",
      "/opt/conda/lib/python3.10/site-packages/Cython/Compiler/Main.py:381: FutureWarning: Cython directive 'language_level' not set, using '3str' for now (Py3). This has changed from earlier releases! File: /kaggle/working/RECsys_Challenge2024/Recommenders/SLIM/Cython/Triangular_Matrix.pyx\r\n",
      "  tree = Parsing.p_module(s, pxd, full_module_name)\r\n",
      "warning: Triangular_Matrix.pyx:22:0: The 'IF' statement is deprecated and will be removed in a future Cython version. Consider using runtime conditions or C macros instead. See https://github.com/cython/cython/issues/4310\r\n",
      "Compiling [4/11]: Triangular_Matrix.pyx... PASS\r\n",
      "\r\n",
      "Compiling [5/11]: Sparse_Matrix_Tree_CSR.pyx... \r\n",
      "warning: Sparse_Matrix_Tree_CSR.pyx:132:34: Non-trivial type declarators in shared declaration (e.g. mix of pointers and values). Each pointer declaration should be on its own line.\r\n",
      "warning: Sparse_Matrix_Tree_CSR.pyx:132:66: Non-trivial type declarators in shared declaration (e.g. mix of pointers and values). Each pointer declaration should be on its own line.\r\n",
      "warning: Sparse_Matrix_Tree_CSR.pyx:343:35: Non-trivial type declarators in shared declaration (e.g. mix of pointers and values). Each pointer declaration should be on its own line.\r\n",
      "warning: Sparse_Matrix_Tree_CSR.pyx:343:52: Non-trivial type declarators in shared declaration (e.g. mix of pointers and values). Each pointer declaration should be on its own line.\r\n",
      "warning: Sparse_Matrix_Tree_CSR.pyx:442:35: Non-trivial type declarators in shared declaration (e.g. mix of pointers and values). Each pointer declaration should be on its own line.\r\n",
      "warning: Sparse_Matrix_Tree_CSR.pyx:442:53: Non-trivial type declarators in shared declaration (e.g. mix of pointers and values). Each pointer declaration should be on its own line.\r\n",
      "warning: Sparse_Matrix_Tree_CSR.pyx:442:69: Non-trivial type declarators in shared declaration (e.g. mix of pointers and values). Each pointer declaration should be on its own line.\r\n",
      "warning: Sparse_Matrix_Tree_CSR.pyx:577:35: Non-trivial type declarators in shared declaration (e.g. mix of pointers and values). Each pointer declaration should be on its own line.\r\n",
      "warning: Sparse_Matrix_Tree_CSR.pyx:577:42: Non-trivial type declarators in shared declaration (e.g. mix of pointers and values). Each pointer declaration should be on its own line.\r\n",
      "warning: Sparse_Matrix_Tree_CSR.pyx:578:35: Non-trivial type declarators in shared declaration (e.g. mix of pointers and values). Each pointer declaration should be on its own line.\r\n",
      "warning: Sparse_Matrix_Tree_CSR.pyx:578:53: Non-trivial type declarators in shared declaration (e.g. mix of pointers and values). Each pointer declaration should be on its own line.\r\n",
      "\r\n",
      "Error compiling Cython file:\r\n",
      "------------------------------------------------------------\r\n",
      "...\r\n",
      "            vector_pointer_to_list_elements[index].head = current_element\r\n",
      "            current_element = current_element.higher\r\n",
      "\r\n",
      "\r\n",
      "        # Sort array elements on their data field\r\n",
      "        qsort(vector_pointer_to_list_elements, list_length, sizeof(head_pointer_tree_s), compare_struct_on_data)\r\n",
      "                                                                                         ^\r\n",
      "------------------------------------------------------------\r\n",
      "\r\n",
      "Sparse_Matrix_Tree_CSR.pyx:516:89: Cannot assign type 'int (const void *, const void *) except? -1' to 'int (*)(const_void *, const_void *) noexcept'. Exception values are incompatible. Suggest adding 'noexcept' to the type of 'compare_struct_on_data'.\r\n",
      "\r\n",
      "Error compiling Cython file:\r\n",
      "------------------------------------------------------------\r\n",
      "...\r\n",
      "        # Sort array elements on their data field\r\n",
      "        qsort(vector_pointer_to_list_elements, list_length, sizeof(head_pointer_tree_s), compare_struct_on_data)\r\n",
      "\r\n",
      "        # Sort only the TopK according to their column field\r\n",
      "        # Sort is from lower to higher, therefore the elements to be considered are from len-topK to len\r\n",
      "        qsort(&vector_pointer_to_list_elements[list_length-TopK], TopK, sizeof(head_pointer_tree_s), compare_struct_on_column)\r\n",
      "                                                                                                     ^\r\n",
      "------------------------------------------------------------\r\n",
      "\r\n",
      "Sparse_Matrix_Tree_CSR.pyx:520:101: Cannot assign type 'int (const void *, const void *) except? -1' to 'int (*)(const_void *, const_void *) noexcept'. Exception values are incompatible. Suggest adding 'noexcept' to the type of 'compare_struct_on_column'.\r\n",
      "Traceback (most recent call last):\r\n",
      "  File \"/kaggle/working/RECsys_Challenge2024/CythonCompiler/compile_script.py\", line 48, in <module>\r\n",
      "    setup(\r\n",
      "  File \"/opt/conda/lib/python3.10/site-packages/setuptools/__init__.py\", line 103, in setup\r\n",
      "    return distutils.core.setup(**attrs)\r\n",
      "  File \"/opt/conda/lib/python3.10/site-packages/setuptools/_distutils/core.py\", line 184, in setup\r\n",
      "    return run_commands(dist)\r\n",
      "  File \"/opt/conda/lib/python3.10/site-packages/setuptools/_distutils/core.py\", line 200, in run_commands\r\n",
      "    dist.run_commands()\r\n",
      "  File \"/opt/conda/lib/python3.10/site-packages/setuptools/_distutils/dist.py\", line 969, in run_commands\r\n",
      "    self.run_command(cmd)\r\n",
      "  File \"/opt/conda/lib/python3.10/site-packages/setuptools/dist.py\", line 968, in run_command\r\n",
      "    super().run_command(command)\r\n",
      "  File \"/opt/conda/lib/python3.10/site-packages/setuptools/_distutils/dist.py\", line 988, in run_command\r\n",
      "    cmd_obj.run()\r\n",
      "  File \"/opt/conda/lib/python3.10/site-packages/setuptools/_distutils/command/build_ext.py\", line 359, in run\r\n",
      "    self.build_extensions()\r\n",
      "  File \"/opt/conda/lib/python3.10/site-packages/setuptools/_distutils/command/build_ext.py\", line 479, in build_extensions\r\n",
      "    self._build_extensions_serial()\r\n",
      "  File \"/opt/conda/lib/python3.10/site-packages/setuptools/_distutils/command/build_ext.py\", line 505, in _build_extensions_serial\r\n",
      "    self.build_extension(ext)\r\n",
      "  File \"/opt/conda/lib/python3.10/site-packages/Cython/Distutils/build_ext.py\", line 130, in build_extension\r\n",
      "    new_ext = cythonize(\r\n",
      "  File \"/opt/conda/lib/python3.10/site-packages/Cython/Build/Dependencies.py\", line 1154, in cythonize\r\n",
      "    cythonize_one(*args)\r\n",
      "  File \"/opt/conda/lib/python3.10/site-packages/Cython/Build/Dependencies.py\", line 1321, in cythonize_one\r\n",
      "    raise CompileError(None, pyx_file)\r\n",
      "Cython.Compiler.Errors.CompileError: Sparse_Matrix_Tree_CSR.pyx\r\n",
      "Traceback (most recent call last):\r\n",
      "  File \"/kaggle/working/RECsys_Challenge2024/run_compile_all_cython.py\", line 60, in <module>\r\n",
      "    run_compile_subprocess(file_path, [file_name])\r\n",
      "  File \"/kaggle/working/RECsys_Challenge2024/CythonCompiler/run_compile_subprocess.py\", line 51, in run_compile_subprocess\r\n",
      "    raise exc\r\n",
      "  File \"/kaggle/working/RECsys_Challenge2024/CythonCompiler/run_compile_subprocess.py\", line 32, in run_compile_subprocess\r\n",
      "    output = subprocess.check_output(' '.join(command),\r\n",
      "  File \"/opt/conda/lib/python3.10/subprocess.py\", line 421, in check_output\r\n",
      "    return run(*popenargs, stdout=PIPE, timeout=timeout, check=True,\r\n",
      "  File \"/opt/conda/lib/python3.10/subprocess.py\", line 526, in run\r\n",
      "    raise CalledProcessError(retcode, process.args,\r\n",
      "subprocess.CalledProcessError: Command '/opt/conda/bin/python /kaggle/working/RECsys_Challenge2024/CythonCompiler/compile_script.py Sparse_Matrix_Tree_CSR.pyx build_ext --inplace' returned non-zero exit status 1.\r\n",
      "Compiling [5/11]: Sparse_Matrix_Tree_CSR.pyx... FAIL: Command '/opt/conda/bin/python /kaggle/working/RECsys_Challenge2024/CythonCompiler/compile_script.py Sparse_Matrix_Tree_CSR.pyx build_ext --inplace' returned non-zero exit status 1.\r\n",
      "\r\n",
      "Compiling [6/11]: SLIM_BPR_Cython_Epoch.pyx... \r\n",
      "warning: SLIM_BPR_Cython_Epoch.pyx:24:0: The 'IF' statement is deprecated and will be removed in a future Cython version. Consider using runtime conditions or C macros instead. See https://github.com/cython/cython/issues/4310\r\n",
      "warning: SLIM_BPR_Cython_Epoch.pyx:632:34: Non-trivial type declarators in shared declaration (e.g. mix of pointers and values). Each pointer declaration should be on its own line.\r\n",
      "warning: SLIM_BPR_Cython_Epoch.pyx:632:66: Non-trivial type declarators in shared declaration (e.g. mix of pointers and values). Each pointer declaration should be on its own line.\r\n",
      "warning: SLIM_BPR_Cython_Epoch.pyx:817:35: Non-trivial type declarators in shared declaration (e.g. mix of pointers and values). Each pointer declaration should be on its own line.\r\n",
      "warning: SLIM_BPR_Cython_Epoch.pyx:817:52: Non-trivial type declarators in shared declaration (e.g. mix of pointers and values). Each pointer declaration should be on its own line.\r\n",
      "warning: SLIM_BPR_Cython_Epoch.pyx:916:35: Non-trivial type declarators in shared declaration (e.g. mix of pointers and values). Each pointer declaration should be on its own line.\r\n",
      "warning: SLIM_BPR_Cython_Epoch.pyx:916:53: Non-trivial type declarators in shared declaration (e.g. mix of pointers and values). Each pointer declaration should be on its own line.\r\n",
      "warning: SLIM_BPR_Cython_Epoch.pyx:916:69: Non-trivial type declarators in shared declaration (e.g. mix of pointers and values). Each pointer declaration should be on its own line.\r\n",
      "warning: SLIM_BPR_Cython_Epoch.pyx:1051:35: Non-trivial type declarators in shared declaration (e.g. mix of pointers and values). Each pointer declaration should be on its own line.\r\n",
      "warning: SLIM_BPR_Cython_Epoch.pyx:1051:42: Non-trivial type declarators in shared declaration (e.g. mix of pointers and values). Each pointer declaration should be on its own line.\r\n",
      "warning: SLIM_BPR_Cython_Epoch.pyx:1052:35: Non-trivial type declarators in shared declaration (e.g. mix of pointers and values). Each pointer declaration should be on its own line.\r\n",
      "warning: SLIM_BPR_Cython_Epoch.pyx:1052:53: Non-trivial type declarators in shared declaration (e.g. mix of pointers and values). Each pointer declaration should be on its own line.\r\n",
      "\r\n",
      "Error compiling Cython file:\r\n",
      "------------------------------------------------------------\r\n",
      "...\r\n",
      "            vector_pointer_to_list_elements[index].head = current_element\r\n",
      "            current_element = current_element.higher\r\n",
      "\r\n",
      "\r\n",
      "        # Sort array elements on their data field\r\n",
      "        qsort(vector_pointer_to_list_elements, list_length, sizeof(head_pointer_tree_s), compare_struct_on_data)\r\n",
      "                                                                                         ^\r\n",
      "------------------------------------------------------------\r\n",
      "\r\n",
      "SLIM_BPR_Cython_Epoch.pyx:990:89: Cannot assign type 'int (const void *, const void *) except? -1' to 'int (*)(const_void *, const_void *) noexcept'. Exception values are incompatible. Suggest adding 'noexcept' to the type of 'compare_struct_on_data'.\r\n",
      "\r\n",
      "Error compiling Cython file:\r\n",
      "------------------------------------------------------------\r\n",
      "...\r\n",
      "        # Sort array elements on their data field\r\n",
      "        qsort(vector_pointer_to_list_elements, list_length, sizeof(head_pointer_tree_s), compare_struct_on_data)\r\n",
      "\r\n",
      "        # Sort only the TopK according to their column field\r\n",
      "        # Sort is from lower to higher, therefore the elements to be considered are from len-topK to len\r\n",
      "        qsort(&vector_pointer_to_list_elements[list_length-TopK], TopK, sizeof(head_pointer_tree_s), compare_struct_on_column)\r\n",
      "                                                                                                     ^\r\n",
      "------------------------------------------------------------\r\n",
      "\r\n",
      "SLIM_BPR_Cython_Epoch.pyx:994:101: Cannot assign type 'int (const void *, const void *) except? -1' to 'int (*)(const_void *, const_void *) noexcept'. Exception values are incompatible. Suggest adding 'noexcept' to the type of 'compare_struct_on_column'.\r\n",
      "Traceback (most recent call last):\r\n",
      "  File \"/kaggle/working/RECsys_Challenge2024/CythonCompiler/compile_script.py\", line 48, in <module>\r\n",
      "    setup(\r\n",
      "  File \"/opt/conda/lib/python3.10/site-packages/setuptools/__init__.py\", line 103, in setup\r\n",
      "    return distutils.core.setup(**attrs)\r\n",
      "  File \"/opt/conda/lib/python3.10/site-packages/setuptools/_distutils/core.py\", line 184, in setup\r\n",
      "    return run_commands(dist)\r\n",
      "  File \"/opt/conda/lib/python3.10/site-packages/setuptools/_distutils/core.py\", line 200, in run_commands\r\n",
      "    dist.run_commands()\r\n",
      "  File \"/opt/conda/lib/python3.10/site-packages/setuptools/_distutils/dist.py\", line 969, in run_commands\r\n",
      "    self.run_command(cmd)\r\n",
      "  File \"/opt/conda/lib/python3.10/site-packages/setuptools/dist.py\", line 968, in run_command\r\n",
      "    super().run_command(command)\r\n",
      "  File \"/opt/conda/lib/python3.10/site-packages/setuptools/_distutils/dist.py\", line 988, in run_command\r\n",
      "    cmd_obj.run()\r\n",
      "  File \"/opt/conda/lib/python3.10/site-packages/setuptools/_distutils/command/build_ext.py\", line 359, in run\r\n",
      "    self.build_extensions()\r\n",
      "  File \"/opt/conda/lib/python3.10/site-packages/setuptools/_distutils/command/build_ext.py\", line 479, in build_extensions\r\n",
      "    self._build_extensions_serial()\r\n",
      "  File \"/opt/conda/lib/python3.10/site-packages/setuptools/_distutils/command/build_ext.py\", line 505, in _build_extensions_serial\r\n",
      "    self.build_extension(ext)\r\n",
      "  File \"/opt/conda/lib/python3.10/site-packages/Cython/Distutils/build_ext.py\", line 130, in build_extension\r\n",
      "    new_ext = cythonize(\r\n",
      "  File \"/opt/conda/lib/python3.10/site-packages/Cython/Build/Dependencies.py\", line 1154, in cythonize\r\n",
      "    cythonize_one(*args)\r\n",
      "  File \"/opt/conda/lib/python3.10/site-packages/Cython/Build/Dependencies.py\", line 1321, in cythonize_one\r\n",
      "    raise CompileError(None, pyx_file)\r\n",
      "Cython.Compiler.Errors.CompileError: SLIM_BPR_Cython_Epoch.pyx\r\n",
      "Traceback (most recent call last):\r\n",
      "  File \"/kaggle/working/RECsys_Challenge2024/run_compile_all_cython.py\", line 60, in <module>\r\n",
      "    run_compile_subprocess(file_path, [file_name])\r\n",
      "  File \"/kaggle/working/RECsys_Challenge2024/CythonCompiler/run_compile_subprocess.py\", line 51, in run_compile_subprocess\r\n",
      "    raise exc\r\n",
      "  File \"/kaggle/working/RECsys_Challenge2024/CythonCompiler/run_compile_subprocess.py\", line 32, in run_compile_subprocess\r\n",
      "    output = subprocess.check_output(' '.join(command),\r\n",
      "  File \"/opt/conda/lib/python3.10/subprocess.py\", line 421, in check_output\r\n",
      "    return run(*popenargs, stdout=PIPE, timeout=timeout, check=True,\r\n",
      "  File \"/opt/conda/lib/python3.10/subprocess.py\", line 526, in run\r\n",
      "    raise CalledProcessError(retcode, process.args,\r\n",
      "subprocess.CalledProcessError: Command '/opt/conda/bin/python /kaggle/working/RECsys_Challenge2024/CythonCompiler/compile_script.py SLIM_BPR_Cython_Epoch.pyx build_ext --inplace' returned non-zero exit status 1.\r\n",
      "Compiling [6/11]: SLIM_BPR_Cython_Epoch.pyx... FAIL: Command '/opt/conda/bin/python /kaggle/working/RECsys_Challenge2024/CythonCompiler/compile_script.py SLIM_BPR_Cython_Epoch.pyx build_ext --inplace' returned non-zero exit status 1.\r\n",
      "\r\n",
      "Compiling [7/11]: FBSM_Rating_Cython_SGD.pyx... \r\n",
      "In file included from \u001b[01m\u001b[K/opt/conda/lib/python3.10/site-packages/numpy/core/include/numpy/ndarraytypes.h:1929\u001b[m\u001b[K,\r\n",
      "                 from \u001b[01m\u001b[K/opt/conda/lib/python3.10/site-packages/numpy/core/include/numpy/ndarrayobject.h:12\u001b[m\u001b[K,\r\n",
      "                 from \u001b[01m\u001b[K/opt/conda/lib/python3.10/site-packages/numpy/core/include/numpy/arrayobject.h:5\u001b[m\u001b[K,\r\n",
      "                 from \u001b[01m\u001b[KFBSM_Rating_Cython_SGD.c:1252\u001b[m\u001b[K:\r\n",
      "\u001b[01m\u001b[K/opt/conda/lib/python3.10/site-packages/numpy/core/include/numpy/npy_1_7_deprecated_api.h:17:2:\u001b[m\u001b[K \u001b[01;35m\u001b[Kwarning: \u001b[m\u001b[K#warning \"Using deprecated NumPy API, disable it with \" \"#define NPY_NO_DEPRECATED_API NPY_1_7_API_VERSION\" [\u001b[01;35m\u001b[K-Wcpp\u001b[m\u001b[K]\r\n",
      "   17 | #\u001b[01;35m\u001b[Kwarning\u001b[m\u001b[K \"Using deprecated NumPy API, disable it with \" \\\r\n",
      "      |  \u001b[01;35m\u001b[K^~~~~~~\u001b[m\u001b[K\r\n",
      "\u001b[01m\u001b[KFBSM_Rating_Cython_SGD.c:\u001b[m\u001b[K In function '\u001b[01m\u001b[K__pyx_pf_22FBSM_Rating_Cython_SGD_22FBSM_Rating_Cython_SGD_2fit\u001b[m\u001b[K':\r\n",
      "\u001b[01m\u001b[KFBSM_Rating_Cython_SGD.c:26607:55:\u001b[m\u001b[K \u001b[01;35m\u001b[Kwarning: \u001b[m\u001b[K'\u001b[01m\u001b[K__pyx_v_num_sample\u001b[m\u001b[K' may be used uninitialized in this function [\u001b[01;35m\u001b[K-Wmaybe-uninitialized\u001b[m\u001b[K]\r\n",
      "26607 |   __pyx_t_5 = PyFloat_FromDouble((__pyx_v_cum_loss / \u001b[01;35m\u001b[K((double)__pyx_v_num_sample)\u001b[m\u001b[K)); if (unlikely(!__pyx_t_5)) __PYX_ERR(0, 551, __pyx_L1_error)\r\n",
      "      |                                                      \u001b[01;35m\u001b[K~^~~~~~~~~~~~~~~~~~~~~~~~~~~\u001b[m\u001b[K\r\n",
      "/opt/conda/lib/python3.10/site-packages/Cython/Compiler/Main.py:381: FutureWarning: Cython directive 'language_level' not set, using '3str' for now (Py3). This has changed from earlier releases! File: /kaggle/working/RECsys_Challenge2024/Recommenders/FeatureWeighting/Cython/FBSM_Rating_Cython_SGD.pyx\r\n",
      "  tree = Parsing.p_module(s, pxd, full_module_name)\r\n",
      "Compiling [7/11]: FBSM_Rating_Cython_SGD.pyx... PASS\r\n",
      "\r\n",
      "Compiling [8/11]: HP3_Similarity_Cython_SGD.pyx... \r\n",
      "performance hint: HP3_Similarity_Cython_SGD.pyx:113:40: Index should be typed for more efficient access\r\n",
      "performance hint: HP3_Similarity_Cython_SGD.pyx:114:40: Index should be typed for more efficient access\r\n",
      "In file included from \u001b[01m\u001b[K/opt/conda/lib/python3.10/site-packages/numpy/core/include/numpy/ndarraytypes.h:1929\u001b[m\u001b[K,\r\n",
      "                 from \u001b[01m\u001b[K/opt/conda/lib/python3.10/site-packages/numpy/core/include/numpy/ndarrayobject.h:12\u001b[m\u001b[K,\r\n",
      "                 from \u001b[01m\u001b[K/opt/conda/lib/python3.10/site-packages/numpy/core/include/numpy/arrayobject.h:5\u001b[m\u001b[K,\r\n",
      "                 from \u001b[01m\u001b[KHP3_Similarity_Cython_SGD.c:1252\u001b[m\u001b[K:\r\n",
      "\u001b[01m\u001b[K/opt/conda/lib/python3.10/site-packages/numpy/core/include/numpy/npy_1_7_deprecated_api.h:17:2:\u001b[m\u001b[K \u001b[01;35m\u001b[Kwarning: \u001b[m\u001b[K#warning \"Using deprecated NumPy API, disable it with \" \"#define NPY_NO_DEPRECATED_API NPY_1_7_API_VERSION\" [\u001b[01;35m\u001b[K-Wcpp\u001b[m\u001b[K]\r\n",
      "   17 | #\u001b[01;35m\u001b[Kwarning\u001b[m\u001b[K \"Using deprecated NumPy API, disable it with \" \\\r\n",
      "      |  \u001b[01;35m\u001b[K^~~~~~~\u001b[m\u001b[K\r\n",
      "\u001b[01m\u001b[KHP3_Similarity_Cython_SGD.c:\u001b[m\u001b[K In function '\u001b[01m\u001b[K__pyx_pf_25HP3_Similarity_Cython_SGD_25HP3_Similarity_Cython_SGD_4fit\u001b[m\u001b[K':\r\n",
      "\u001b[01m\u001b[KHP3_Similarity_Cython_SGD.c:23631:55:\u001b[m\u001b[K \u001b[01;35m\u001b[Kwarning: \u001b[m\u001b[K'\u001b[01m\u001b[K__pyx_v_sample_num\u001b[m\u001b[K' may be used uninitialized in this function [\u001b[01;35m\u001b[K-Wmaybe-uninitialized\u001b[m\u001b[K]\r\n",
      "23631 |   __pyx_t_1 = PyFloat_FromDouble((__pyx_v_cum_loss / \u001b[01;35m\u001b[K((double)__pyx_v_sample_num)\u001b[m\u001b[K)); if (unlikely(!__pyx_t_1)) __PYX_ERR(0, 291, __pyx_L1_error)\r\n",
      "      |                                                      \u001b[01;35m\u001b[K~^~~~~~~~~~~~~~~~~~~~~~~~~~~\u001b[m\u001b[K\r\n",
      "/opt/conda/lib/python3.10/site-packages/Cython/Compiler/Main.py:381: FutureWarning: Cython directive 'language_level' not set, using '3str' for now (Py3). This has changed from earlier releases! File: /kaggle/working/RECsys_Challenge2024/Recommenders/FeatureWeighting/Cython/HP3_Similarity_Cython_SGD.pyx\r\n",
      "  tree = Parsing.p_module(s, pxd, full_module_name)\r\n",
      "performance hint: HP3_Similarity_Cython_SGD.pyx:113:40: Index should be typed for more efficient access\r\n",
      "performance hint: HP3_Similarity_Cython_SGD.pyx:114:40: Index should be typed for more efficient access\r\n",
      "Compiling [8/11]: HP3_Similarity_Cython_SGD.pyx... PASS\r\n",
      "\r\n",
      "Compiling [9/11]: CFW_D_Similarity_Cython_SGD.pyx... \r\n",
      "In file included from \u001b[01m\u001b[K/opt/conda/lib/python3.10/site-packages/numpy/core/include/numpy/ndarraytypes.h:1929\u001b[m\u001b[K,\r\n",
      "                 from \u001b[01m\u001b[K/opt/conda/lib/python3.10/site-packages/numpy/core/include/numpy/ndarrayobject.h:12\u001b[m\u001b[K,\r\n",
      "                 from \u001b[01m\u001b[K/opt/conda/lib/python3.10/site-packages/numpy/core/include/numpy/arrayobject.h:5\u001b[m\u001b[K,\r\n",
      "                 from \u001b[01m\u001b[KCFW_D_Similarity_Cython_SGD.c:1252\u001b[m\u001b[K:\r\n",
      "\u001b[01m\u001b[K/opt/conda/lib/python3.10/site-packages/numpy/core/include/numpy/npy_1_7_deprecated_api.h:17:2:\u001b[m\u001b[K \u001b[01;35m\u001b[Kwarning: \u001b[m\u001b[K#warning \"Using deprecated NumPy API, disable it with \" \"#define NPY_NO_DEPRECATED_API NPY_1_7_API_VERSION\" [\u001b[01;35m\u001b[K-Wcpp\u001b[m\u001b[K]\r\n",
      "   17 | #\u001b[01;35m\u001b[Kwarning\u001b[m\u001b[K \"Using deprecated NumPy API, disable it with \" \\\r\n",
      "      |  \u001b[01;35m\u001b[K^~~~~~~\u001b[m\u001b[K\r\n",
      "\u001b[01m\u001b[KCFW_D_Similarity_Cython_SGD.c:\u001b[m\u001b[K In function '\u001b[01m\u001b[K__pyx_pf_27CFW_D_Similarity_Cython_SGD_27CFW_D_Similarity_Cython_SGD_6fit\u001b[m\u001b[K':\r\n",
      "\u001b[01m\u001b[KCFW_D_Similarity_Cython_SGD.c:23373:55:\u001b[m\u001b[K \u001b[01;35m\u001b[Kwarning: \u001b[m\u001b[K'\u001b[01m\u001b[K__pyx_v_sample_num\u001b[m\u001b[K' may be used uninitialized in this function [\u001b[01;35m\u001b[K-Wmaybe-uninitialized\u001b[m\u001b[K]\r\n",
      "23373 |   __pyx_t_3 = PyFloat_FromDouble((__pyx_v_cum_loss / \u001b[01;35m\u001b[K((double)__pyx_v_sample_num)\u001b[m\u001b[K)); if (unlikely(!__pyx_t_3)) __PYX_ERR(0, 290, __pyx_L1_error)\r\n",
      "      |                                                      \u001b[01;35m\u001b[K~^~~~~~~~~~~~~~~~~~~~~~~~~~~\u001b[m\u001b[K\r\n",
      "/opt/conda/lib/python3.10/site-packages/Cython/Compiler/Main.py:381: FutureWarning: Cython directive 'language_level' not set, using '3str' for now (Py3). This has changed from earlier releases! File: /kaggle/working/RECsys_Challenge2024/Recommenders/FeatureWeighting/Cython/CFW_D_Similarity_Cython_SGD.pyx\r\n",
      "  tree = Parsing.p_module(s, pxd, full_module_name)\r\n",
      "Compiling [9/11]: CFW_D_Similarity_Cython_SGD.pyx... PASS\r\n",
      "\r\n",
      "Compiling [10/11]: CFW_DVV_Similarity_Cython_SGD.pyx... \r\n",
      "In file included from \u001b[01m\u001b[K/opt/conda/lib/python3.10/site-packages/numpy/core/include/numpy/ndarraytypes.h:1929\u001b[m\u001b[K,\r\n",
      "                 from \u001b[01m\u001b[K/opt/conda/lib/python3.10/site-packages/numpy/core/include/numpy/ndarrayobject.h:12\u001b[m\u001b[K,\r\n",
      "                 from \u001b[01m\u001b[K/opt/conda/lib/python3.10/site-packages/numpy/core/include/numpy/arrayobject.h:5\u001b[m\u001b[K,\r\n",
      "                 from \u001b[01m\u001b[KCFW_DVV_Similarity_Cython_SGD.c:1252\u001b[m\u001b[K:\r\n",
      "\u001b[01m\u001b[K/opt/conda/lib/python3.10/site-packages/numpy/core/include/numpy/npy_1_7_deprecated_api.h:17:2:\u001b[m\u001b[K \u001b[01;35m\u001b[Kwarning: \u001b[m\u001b[K#warning \"Using deprecated NumPy API, disable it with \" \"#define NPY_NO_DEPRECATED_API NPY_1_7_API_VERSION\" [\u001b[01;35m\u001b[K-Wcpp\u001b[m\u001b[K]\r\n",
      "   17 | #\u001b[01;35m\u001b[Kwarning\u001b[m\u001b[K \"Using deprecated NumPy API, disable it with \" \\\r\n",
      "      |  \u001b[01;35m\u001b[K^~~~~~~\u001b[m\u001b[K\r\n",
      "/opt/conda/lib/python3.10/site-packages/Cython/Compiler/Main.py:381: FutureWarning: Cython directive 'language_level' not set, using '3str' for now (Py3). This has changed from earlier releases! File: /kaggle/working/RECsys_Challenge2024/Recommenders/FeatureWeighting/Cython/CFW_DVV_Similarity_Cython_SGD.pyx\r\n",
      "  tree = Parsing.p_module(s, pxd, full_module_name)\r\n",
      "Compiling [10/11]: CFW_DVV_Similarity_Cython_SGD.pyx... PASS\r\n",
      "\r\n",
      "Compiling [11/11]: DataIterator.pyx... \r\n",
      "In file included from \u001b[01m\u001b[K/opt/conda/lib/python3.10/site-packages/numpy/core/include/numpy/ndarraytypes.h:1929\u001b[m\u001b[K,\r\n",
      "                 from \u001b[01m\u001b[K/opt/conda/lib/python3.10/site-packages/numpy/core/include/numpy/ndarrayobject.h:12\u001b[m\u001b[K,\r\n",
      "                 from \u001b[01m\u001b[K/opt/conda/lib/python3.10/site-packages/numpy/core/include/numpy/arrayobject.h:5\u001b[m\u001b[K,\r\n",
      "                 from \u001b[01m\u001b[KDataIterator.c:1252\u001b[m\u001b[K:\r\n",
      "\u001b[01m\u001b[K/opt/conda/lib/python3.10/site-packages/numpy/core/include/numpy/npy_1_7_deprecated_api.h:17:2:\u001b[m\u001b[K \u001b[01;35m\u001b[Kwarning: \u001b[m\u001b[K#warning \"Using deprecated NumPy API, disable it with \" \"#define NPY_NO_DEPRECATED_API NPY_1_7_API_VERSION\" [\u001b[01;35m\u001b[K-Wcpp\u001b[m\u001b[K]\r\n",
      "   17 | #\u001b[01;35m\u001b[Kwarning\u001b[m\u001b[K \"Using deprecated NumPy API, disable it with \" \\\r\n",
      "      |  \u001b[01;35m\u001b[K^~~~~~~\u001b[m\u001b[K\r\n",
      "\u001b[01m\u001b[KDataIterator.c:\u001b[m\u001b[K In function '\u001b[01m\u001b[K__pyx_pf_12DataIterator_30InteractionAndNegativeIterator_6__next__\u001b[m\u001b[K':\r\n",
      "\u001b[01m\u001b[KDataIterator.c:25495:22:\u001b[m\u001b[K \u001b[01;35m\u001b[Kwarning: \u001b[m\u001b[K'\u001b[01m\u001b[K__pyx_v_i_batch\u001b[m\u001b[K' may be used uninitialized in this function [\u001b[01;35m\u001b[K-Wmaybe-uninitialized\u001b[m\u001b[K]\r\n",
      "25495 |     (__pyx_v_i_batch \u001b[01;35m\u001b[K+\u001b[m\u001b[K 1),\r\n",
      "      |                      \u001b[01;35m\u001b[K^\u001b[m\u001b[K\r\n",
      "\u001b[01m\u001b[KDataIterator.c:\u001b[m\u001b[K In function '\u001b[01m\u001b[K__pyx_pf_12DataIterator_11BPRIterator_6__next__\u001b[m\u001b[K':\r\n",
      "\u001b[01m\u001b[KDataIterator.c:23054:22:\u001b[m\u001b[K \u001b[01;35m\u001b[Kwarning: \u001b[m\u001b[K'\u001b[01m\u001b[K__pyx_v_i_batch\u001b[m\u001b[K' may be used uninitialized in this function [\u001b[01;35m\u001b[K-Wmaybe-uninitialized\u001b[m\u001b[K]\r\n",
      "23054 |     (__pyx_v_i_batch \u001b[01;35m\u001b[K+\u001b[m\u001b[K 1),\r\n",
      "      |                      \u001b[01;35m\u001b[K^\u001b[m\u001b[K\r\n",
      "\u001b[01m\u001b[KDataIterator.c:\u001b[m\u001b[K In function '\u001b[01m\u001b[K__pyx_pf_12DataIterator_19InteractionIterator_6__next__\u001b[m\u001b[K':\r\n",
      "\u001b[01m\u001b[KDataIterator.c:20937:22:\u001b[m\u001b[K \u001b[01;35m\u001b[Kwarning: \u001b[m\u001b[K'\u001b[01m\u001b[K__pyx_v_i_batch\u001b[m\u001b[K' may be used uninitialized in this function [\u001b[01;35m\u001b[K-Wmaybe-uninitialized\u001b[m\u001b[K]\r\n",
      "20937 |     (__pyx_v_i_batch \u001b[01;35m\u001b[K+\u001b[m\u001b[K 1),\r\n",
      "      |                      \u001b[01;35m\u001b[K^\u001b[m\u001b[K\r\n",
      "/opt/conda/lib/python3.10/site-packages/Cython/Compiler/Main.py:381: FutureWarning: Cython directive 'language_level' not set, using '3str' for now (Py3). This has changed from earlier releases! File: /kaggle/working/RECsys_Challenge2024/Utils/PyTorch/Cython/DataIterator.pyx\r\n",
      "  tree = Parsing.p_module(s, pxd, full_module_name)\r\n",
      "Compiling [11/11]: DataIterator.pyx... PASS\r\n",
      "\r\n",
      "run_compile_all_cython: Compilation finished. FAILS 2/11.\r\n",
      "Compilation log can be found here: './result_experiments/run_compile_all_cython.txt'\r\n"
     ]
    }
   ],
   "source": [
    "%cd /kaggle/working/RECsys_Challenge2024 \n",
    "! python run_compile_all_cython.py"
   ]
  },
  {
   "cell_type": "code",
   "execution_count": 5,
   "id": "7fa3b32a",
   "metadata": {
    "execution": {
     "iopub.execute_input": "2024-12-15T23:38:29.000269Z",
     "iopub.status.busy": "2024-12-15T23:38:28.999834Z",
     "iopub.status.idle": "2024-12-15T23:38:30.651758Z",
     "shell.execute_reply": "2024-12-15T23:38:30.650720Z"
    },
    "papermill": {
     "duration": 1.668201,
     "end_time": "2024-12-15T23:38:30.654027",
     "exception": false,
     "start_time": "2024-12-15T23:38:28.985826",
     "status": "completed"
    },
    "tags": []
   },
   "outputs": [],
   "source": [
    "from Utils.notebookFunctions import *\n",
    "import numpy as np\n",
    "import pandas as pd\n",
    "import scipy.sparse as sps\n",
    "import time\n",
    "import shutil\n",
    "import optuna\n",
    "import json\n",
    "import os\n",
    "from Utils.seconds_to_biggest_unit import seconds_to_biggest_unit\n",
    "\n",
    "\n",
    "K_PATH = '/kaggle/working/RECsys_Challenge2024'\n",
    "GH_PATH = 'TrainedModels/WithoutKFCV/SLIM/OptimizingMAP'\n",
    "\n",
    "np.random.seed(42)"
   ]
  },
  {
   "cell_type": "markdown",
   "id": "778eff02",
   "metadata": {
    "papermill": {
     "duration": 0.012017,
     "end_time": "2024-12-15T23:38:30.680480",
     "exception": false,
     "start_time": "2024-12-15T23:38:30.668463",
     "status": "completed"
    },
    "tags": []
   },
   "source": [
    "## Import the repository"
   ]
  },
  {
   "cell_type": "code",
   "execution_count": 6,
   "id": "e23455d9",
   "metadata": {
    "execution": {
     "iopub.execute_input": "2024-12-15T23:38:30.707258Z",
     "iopub.status.busy": "2024-12-15T23:38:30.706712Z",
     "iopub.status.idle": "2024-12-15T23:38:30.975349Z",
     "shell.execute_reply": "2024-12-15T23:38:30.974167Z"
    },
    "papermill": {
     "duration": 0.284282,
     "end_time": "2024-12-15T23:38:30.977484",
     "exception": false,
     "start_time": "2024-12-15T23:38:30.693202",
     "status": "completed"
    },
    "tags": []
   },
   "outputs": [
    {
     "name": "stdout",
     "output_type": "stream",
     "text": [
      "Repository 'RECsys_Challenge2024' found.\n"
     ]
    }
   ],
   "source": [
    "repo = get_repo_from_github(token)"
   ]
  },
  {
   "cell_type": "code",
   "execution_count": 7,
   "id": "92165c5c",
   "metadata": {
    "execution": {
     "iopub.execute_input": "2024-12-15T23:38:31.004635Z",
     "iopub.status.busy": "2024-12-15T23:38:31.003598Z",
     "iopub.status.idle": "2024-12-15T23:38:31.008858Z",
     "shell.execute_reply": "2024-12-15T23:38:31.007966Z"
    },
    "papermill": {
     "duration": 0.020908,
     "end_time": "2024-12-15T23:38:31.010842",
     "exception": false,
     "start_time": "2024-12-15T23:38:30.989934",
     "status": "completed"
    },
    "tags": []
   },
   "outputs": [],
   "source": [
    "config = {\n",
    "    'model': 'SLIM_BPR',\n",
    "    'tune_parameters': True,\n",
    "    'database_path': '/kaggle/working/history_SLIM_BPR.db',\n",
    "    'copy_prev_best_params': False,\n",
    "    'tune_best_params': False,\n",
    "    'save_github': True\n",
    "}"
   ]
  },
  {
   "cell_type": "markdown",
   "id": "0270d79e",
   "metadata": {
    "papermill": {
     "duration": 0.011976,
     "end_time": "2024-12-15T23:38:31.035218",
     "exception": false,
     "start_time": "2024-12-15T23:38:31.023242",
     "status": "completed"
    },
    "tags": []
   },
   "source": [
    "Import the database where previous tuning trials have been saved."
   ]
  },
  {
   "cell_type": "code",
   "execution_count": 8,
   "id": "d714890f",
   "metadata": {
    "execution": {
     "iopub.execute_input": "2024-12-15T23:38:31.061310Z",
     "iopub.status.busy": "2024-12-15T23:38:31.060930Z",
     "iopub.status.idle": "2024-12-15T23:38:31.066163Z",
     "shell.execute_reply": "2024-12-15T23:38:31.065356Z"
    },
    "papermill": {
     "duration": 0.020636,
     "end_time": "2024-12-15T23:38:31.067962",
     "exception": false,
     "start_time": "2024-12-15T23:38:31.047326",
     "status": "completed"
    },
    "tags": []
   },
   "outputs": [],
   "source": [
    "try:\n",
    "    shutil.copyfile(\n",
    "        f'{K_PATH}/{GH_PATH}/{config[\"model\"]}_Recommender/history_{config[\"model\"]}.db', \n",
    "        config['database_path']\n",
    "    )\n",
    "except FileNotFoundError:\n",
    "    pass # if not present optuna will create it"
   ]
  },
  {
   "cell_type": "markdown",
   "id": "2e4b4e73",
   "metadata": {
    "papermill": {
     "duration": 0.011988,
     "end_time": "2024-12-15T23:38:31.092230",
     "exception": false,
     "start_time": "2024-12-15T23:38:31.080242",
     "status": "completed"
    },
    "tags": []
   },
   "source": [
    "# Construction of URM and ICM matrices"
   ]
  },
  {
   "cell_type": "code",
   "execution_count": 9,
   "id": "5f292881",
   "metadata": {
    "execution": {
     "iopub.execute_input": "2024-12-15T23:38:31.118494Z",
     "iopub.status.busy": "2024-12-15T23:38:31.118103Z",
     "iopub.status.idle": "2024-12-15T23:38:31.926163Z",
     "shell.execute_reply": "2024-12-15T23:38:31.924832Z"
    },
    "papermill": {
     "duration": 0.823909,
     "end_time": "2024-12-15T23:38:31.928664",
     "exception": false,
     "start_time": "2024-12-15T23:38:31.104755",
     "status": "completed"
    },
    "tags": []
   },
   "outputs": [
    {
     "data": {
      "text/plain": [
       "<Compressed Sparse Row sparse matrix of dtype 'float64'\n",
       "\twith 1764607 stored elements and shape (35736, 38121)>"
      ]
     },
     "execution_count": 9,
     "metadata": {},
     "output_type": "execute_result"
    }
   ],
   "source": [
    "URM_all_dataframe = pd.read_csv(\"/kaggle/input/recommender-system-2024-challenge-polimi/data_train.csv\")\n",
    "\n",
    "n_users = len(URM_all_dataframe[\"user_id\"].unique())\n",
    "n_items = len(URM_all_dataframe[\"item_id\"].unique())\n",
    "\n",
    "URM_all = sps.csr_matrix((URM_all_dataframe[\"data\"].values, \n",
    "                          (URM_all_dataframe[\"user_id\"].values, URM_all_dataframe[\"item_id\"].values)),\n",
    "                        shape = (n_users, n_items))\n",
    "\n",
    "URM_all"
   ]
  },
  {
   "cell_type": "code",
   "execution_count": 10,
   "id": "03874c95",
   "metadata": {
    "execution": {
     "iopub.execute_input": "2024-12-15T23:38:31.956192Z",
     "iopub.status.busy": "2024-12-15T23:38:31.955615Z",
     "iopub.status.idle": "2024-12-15T23:38:33.187727Z",
     "shell.execute_reply": "2024-12-15T23:38:33.186785Z"
    },
    "papermill": {
     "duration": 1.248233,
     "end_time": "2024-12-15T23:38:33.189789",
     "exception": false,
     "start_time": "2024-12-15T23:38:31.941556",
     "status": "completed"
    },
    "tags": []
   },
   "outputs": [
    {
     "data": {
      "text/plain": [
       "<Compressed Sparse Row sparse matrix of dtype 'float64'\n",
       "\twith 2940040 stored elements and shape (38121, 94331)>"
      ]
     },
     "execution_count": 10,
     "metadata": {},
     "output_type": "execute_result"
    }
   ],
   "source": [
    "ICM_dataframe = pd.read_csv(\"/kaggle/input/recommender-system-2024-challenge-polimi/data_ICM_metadata.csv\")\n",
    "\n",
    "n_items = len(ICM_dataframe[\"item_id\"].unique())\n",
    "n_features = len(ICM_dataframe[\"feature_id\"].unique())\n",
    "\n",
    "ICM_all = sps.csr_matrix((ICM_dataframe[\"data\"].values, \n",
    "                          (ICM_dataframe[\"item_id\"].values, ICM_dataframe[\"feature_id\"].values)),\n",
    "                        shape = (n_items, n_features))\n",
    "\n",
    "ICM_all"
   ]
  },
  {
   "cell_type": "markdown",
   "id": "ca9820ea",
   "metadata": {
    "papermill": {
     "duration": 0.012133,
     "end_time": "2024-12-15T23:38:33.214336",
     "exception": false,
     "start_time": "2024-12-15T23:38:33.202203",
     "status": "completed"
    },
    "tags": []
   },
   "source": [
    "# Training"
   ]
  },
  {
   "cell_type": "code",
   "execution_count": 11,
   "id": "13ff10a5",
   "metadata": {
    "execution": {
     "iopub.execute_input": "2024-12-15T23:38:33.241199Z",
     "iopub.status.busy": "2024-12-15T23:38:33.240281Z",
     "iopub.status.idle": "2024-12-15T23:38:36.301482Z",
     "shell.execute_reply": "2024-12-15T23:38:36.300217Z"
    },
    "papermill": {
     "duration": 3.077305,
     "end_time": "2024-12-15T23:38:36.303963",
     "exception": false,
     "start_time": "2024-12-15T23:38:33.226658",
     "status": "completed"
    },
    "tags": []
   },
   "outputs": [
    {
     "name": "stdout",
     "output_type": "stream",
     "text": [
      "Warning: 141 (0.39 %) of 35736 users have no sampled items\n",
      "EvaluatorHoldout: Ignoring 141 ( 0.4%) Users that have less than 1 test interactions\n"
     ]
    }
   ],
   "source": [
    "from Evaluation.Evaluator import EvaluatorHoldout\n",
    "from Data_manager.split_functions.split_train_validation_random_holdout import split_train_in_two_percentage_global_sample\n",
    "\n",
    "URM_train, URM_validation = split_train_in_two_percentage_global_sample(URM_all, train_percentage = 0.80)\n",
    "\n",
    "evaluator_validation = EvaluatorHoldout(URM_validation, cutoff_list=[10])"
   ]
  },
  {
   "cell_type": "code",
   "execution_count": 12,
   "id": "ebe20120",
   "metadata": {
    "execution": {
     "iopub.execute_input": "2024-12-15T23:38:36.330889Z",
     "iopub.status.busy": "2024-12-15T23:38:36.330496Z",
     "iopub.status.idle": "2024-12-15T23:38:36.344152Z",
     "shell.execute_reply": "2024-12-15T23:38:36.343267Z"
    },
    "papermill": {
     "duration": 0.029742,
     "end_time": "2024-12-15T23:38:36.346387",
     "exception": false,
     "start_time": "2024-12-15T23:38:36.316645",
     "status": "completed"
    },
    "tags": []
   },
   "outputs": [],
   "source": [
    "from Recommenders.SLIM.SLIM_BPR_Python import SLIM_BPR_Python\n",
    "\n",
    "def objective_function_slim_bpr(optuna_trial):\n",
    "\n",
    "    recommender_instance = SLIM_BPR_Python(URM_train)\n",
    "\n",
    "    full_hyperp = {\n",
    "                    \"topK\": optuna_trial.suggest_int(\"topK\", 0, 500),\n",
    "                    \"epochs\": optuna_trial.suggest_int(\"epochs\", 1, 50),\n",
    "                    \"lambda_i\": optuna_trial.suggest_float(\"lambda_i\", 1e-5, 1e-1, log=True),\n",
    "                    \"lambda_j\": optuna_trial.suggest_float(\"lambda_j\", 1e-5, 1e-1, log=True),\n",
    "                    \"learning_rate\": optuna_trial.suggest_float(\"learning_rate\", 1e-4, 1e-1, log=True)\n",
    "                }\n",
    "\n",
    "    recommender_instance.fit(**full_hyperp)\n",
    "\n",
    "    result_df, _ = evaluator_validation.evaluateRecommender(recommender_instance)\n",
    "\n",
    "    return result_df.loc[10][\"MAP\"]"
   ]
  },
  {
   "cell_type": "code",
   "execution_count": 13,
   "id": "3d346f4e",
   "metadata": {
    "_kg_hide-output": true,
    "execution": {
     "iopub.execute_input": "2024-12-15T23:38:36.373598Z",
     "iopub.status.busy": "2024-12-15T23:38:36.373231Z",
     "iopub.status.idle": "2024-12-16T06:58:34.820577Z",
     "shell.execute_reply": "2024-12-16T06:58:34.819521Z"
    },
    "papermill": {
     "duration": 26398.463754,
     "end_time": "2024-12-16T06:58:34.823011",
     "exception": false,
     "start_time": "2024-12-15T23:38:36.359257",
     "status": "completed"
    },
    "tags": []
   },
   "outputs": [
    {
     "name": "stderr",
     "output_type": "stream",
     "text": [
      "[I 2024-12-15 23:38:38,251] A new study created in RDB with name: hyperparameters_tuning_SLIM_BPR\n"
     ]
    },
    {
     "name": "stdout",
     "output_type": "stream",
     "text": [
      "Epoch 1, Iteration 35736 in 10.44 seconds. Samples per second 3423.43\n",
      "Epoch 2, Iteration 35736 in 7.65 seconds. Samples per second 4674.12\n",
      "Epoch 3, Iteration 35736 in 6.20 seconds. Samples per second 5762.59\n",
      "Epoch 4, Iteration 35736 in 5.36 seconds. Samples per second 6673.29\n",
      "Epoch 5, Iteration 35736 in 4.55 seconds. Samples per second 7846.53\n",
      "Epoch 6, Iteration 35736 in 4.18 seconds. Samples per second 8546.10\n",
      "Epoch 7, Iteration 35736 in 3.82 seconds. Samples per second 9353.59\n",
      "Epoch 8, Iteration 35736 in 3.61 seconds. Samples per second 9887.14\n",
      "Epoch 9, Iteration 35736 in 3.52 seconds. Samples per second 10138.65\n",
      "Epoch 10, Iteration 35736 in 3.45 seconds. Samples per second 10363.84\n",
      "Epoch 11, Iteration 35736 in 3.32 seconds. Samples per second 10760.85\n",
      "Epoch 12, Iteration 35736 in 3.38 seconds. Samples per second 10569.74\n",
      "Epoch 13, Iteration 35736 in 3.26 seconds. Samples per second 10960.49\n",
      "Epoch 14, Iteration 35736 in 3.14 seconds. Samples per second 11397.73\n",
      "Epoch 15, Iteration 35736 in 3.13 seconds. Samples per second 11434.37\n",
      "Epoch 16, Iteration 35736 in 3.08 seconds. Samples per second 11588.43\n",
      "Epoch 17, Iteration 35736 in 3.03 seconds. Samples per second 11783.07\n",
      "Epoch 18, Iteration 35736 in 3.10 seconds. Samples per second 11545.41\n",
      "Epoch 19, Iteration 35736 in 3.04 seconds. Samples per second 11766.93\n",
      "Epoch 20, Iteration 35736 in 3.01 seconds. Samples per second 11865.25\n",
      "Epoch 21, Iteration 35736 in 2.99 seconds. Samples per second 11936.84\n",
      "Train completed in 1.45 minutes\n",
      "EvaluatorHoldout: Processed 35595 (100.0%) in 39.60 sec. Users per second: 899\n"
     ]
    },
    {
     "name": "stderr",
     "output_type": "stream",
     "text": [
      "[I 2024-12-15 23:42:09,441] Trial 0 finished with value: 0.030346353487313602 and parameters: {'topK': 80, 'epochs': 21, 'lambda_i': 0.002597835793983858, 'lambda_j': 0.0001362653966245703, 'learning_rate': 0.00029026429634871503}. Best is trial 0 with value: 0.030346353487313602.\n"
     ]
    },
    {
     "name": "stdout",
     "output_type": "stream",
     "text": [
      "Epoch 1, Iteration 35736 in 13.07 seconds. Samples per second 2735.10\n",
      "Epoch 2, Iteration 35736 in 13.50 seconds. Samples per second 2648.08\n",
      "Epoch 3, Iteration 35736 in 8.08 seconds. Samples per second 4420.53\n",
      "Epoch 4, Iteration 35736 in 6.51 seconds. Samples per second 5489.07\n",
      "Epoch 5, Iteration 35736 in 5.46 seconds. Samples per second 6543.34\n",
      "Epoch 6, Iteration 35736 in 4.95 seconds. Samples per second 7214.57\n",
      "Epoch 7, Iteration 35736 in 4.49 seconds. Samples per second 7958.29\n",
      "Epoch 8, Iteration 35736 in 4.22 seconds. Samples per second 8461.89\n",
      "Epoch 9, Iteration 35736 in 3.94 seconds. Samples per second 9080.22\n",
      "Epoch 10, Iteration 35736 in 3.69 seconds. Samples per second 9679.96\n",
      "Epoch 11, Iteration 35736 in 3.64 seconds. Samples per second 9820.20\n",
      "Epoch 12, Iteration 35736 in 3.48 seconds. Samples per second 10276.26\n",
      "Epoch 13, Iteration 35736 in 3.35 seconds. Samples per second 10679.07\n",
      "Epoch 14, Iteration 35736 in 3.31 seconds. Samples per second 10789.92\n",
      "Epoch 15, Iteration 35736 in 3.24 seconds. Samples per second 11017.37\n",
      "Epoch 16, Iteration 35736 in 3.20 seconds. Samples per second 11184.17\n",
      "Epoch 17, Iteration 35736 in 3.20 seconds. Samples per second 11171.68\n",
      "Train completed in 1.52 minutes\n",
      "EvaluatorHoldout: Processed 35595 (100.0%) in 48.75 sec. Users per second: 730\n"
     ]
    },
    {
     "name": "stderr",
     "output_type": "stream",
     "text": [
      "[I 2024-12-15 23:46:33,645] Trial 1 finished with value: 0.030389690455007883 and parameters: {'topK': 210, 'epochs': 17, 'lambda_i': 0.0017687051598126319, 'lambda_j': 0.008016444952382434, 'learning_rate': 0.03126559091252736}. Best is trial 1 with value: 0.030389690455007883.\n"
     ]
    },
    {
     "name": "stdout",
     "output_type": "stream",
     "text": [
      "Epoch 1, Iteration 35736 in 11.89 seconds. Samples per second 3005.49\n",
      "Epoch 2, Iteration 35736 in 8.68 seconds. Samples per second 4118.23\n",
      "Epoch 3, Iteration 35736 in 6.94 seconds. Samples per second 5147.71\n",
      "Epoch 4, Iteration 35736 in 5.82 seconds. Samples per second 6139.72\n",
      "Epoch 5, Iteration 35736 in 5.06 seconds. Samples per second 7056.26\n",
      "Epoch 6, Iteration 35736 in 4.55 seconds. Samples per second 7848.82\n",
      "Epoch 7, Iteration 35736 in 4.14 seconds. Samples per second 8624.98\n",
      "Epoch 8, Iteration 35736 in 3.92 seconds. Samples per second 9117.16\n",
      "Epoch 9, Iteration 35736 in 3.63 seconds. Samples per second 9831.71\n",
      "Epoch 10, Iteration 35736 in 3.71 seconds. Samples per second 9625.20\n",
      "Epoch 11, Iteration 35736 in 3.53 seconds. Samples per second 10130.73\n",
      "Epoch 12, Iteration 35736 in 3.35 seconds. Samples per second 10656.20\n",
      "Epoch 13, Iteration 35736 in 3.27 seconds. Samples per second 10917.03\n",
      "Epoch 14, Iteration 35736 in 3.27 seconds. Samples per second 10945.16\n",
      "Epoch 15, Iteration 35736 in 3.26 seconds. Samples per second 10954.38\n",
      "Epoch 16, Iteration 35736 in 3.22 seconds. Samples per second 11094.33\n",
      "Epoch 17, Iteration 35736 in 3.08 seconds. Samples per second 11613.21\n",
      "Epoch 18, Iteration 35736 in 3.09 seconds. Samples per second 11560.65\n",
      "Epoch 19, Iteration 35736 in 3.09 seconds. Samples per second 11565.33\n",
      "Epoch 20, Iteration 35736 in 3.14 seconds. Samples per second 11363.12\n",
      "Epoch 21, Iteration 35736 in 3.01 seconds. Samples per second 11858.80\n",
      "Epoch 22, Iteration 35736 in 3.17 seconds. Samples per second 11258.65\n",
      "Epoch 23, Iteration 35736 in 3.02 seconds. Samples per second 11815.62\n",
      "Epoch 24, Iteration 35736 in 3.01 seconds. Samples per second 11865.31\n",
      "Epoch 25, Iteration 35736 in 3.05 seconds. Samples per second 11727.54\n",
      "Epoch 26, Iteration 35736 in 3.00 seconds. Samples per second 11914.77\n",
      "Epoch 27, Iteration 35736 in 3.16 seconds. Samples per second 11313.96\n",
      "Epoch 28, Iteration 35736 in 3.18 seconds. Samples per second 11228.39\n",
      "Epoch 29, Iteration 35736 in 3.07 seconds. Samples per second 11649.64\n",
      "Epoch 30, Iteration 35736 in 3.10 seconds. Samples per second 11521.27\n",
      "Epoch 31, Iteration 35736 in 3.03 seconds. Samples per second 11782.85\n",
      "Epoch 32, Iteration 35736 in 3.09 seconds. Samples per second 11582.14\n",
      "Epoch 33, Iteration 35736 in 3.06 seconds. Samples per second 11668.65\n",
      "Epoch 34, Iteration 35736 in 3.08 seconds. Samples per second 11590.22\n",
      "Train completed in 2.23 minutes\n",
      "EvaluatorHoldout: Processed 35595 (100.0%) in 51.67 sec. Users per second: 689\n"
     ]
    },
    {
     "name": "stderr",
     "output_type": "stream",
     "text": [
      "[I 2024-12-15 23:51:57,385] Trial 2 finished with value: 0.0314148087947067 and parameters: {'topK': 359, 'epochs': 34, 'lambda_i': 9.782286630219877e-05, 'lambda_j': 7.221959758696683e-05, 'learning_rate': 0.05564073968017585}. Best is trial 2 with value: 0.0314148087947067.\n"
     ]
    },
    {
     "name": "stdout",
     "output_type": "stream",
     "text": [
      "Epoch 1, Iteration 35736 in 9.95 seconds. Samples per second 3592.60\n",
      "Epoch 2, Iteration 35736 in 7.40 seconds. Samples per second 4826.20\n",
      "Epoch 3, Iteration 35736 in 5.92 seconds. Samples per second 6031.45\n",
      "Epoch 4, Iteration 35736 in 5.06 seconds. Samples per second 7064.83\n",
      "Epoch 5, Iteration 35736 in 4.43 seconds. Samples per second 8063.49\n",
      "Epoch 6, Iteration 35736 in 4.18 seconds. Samples per second 8554.06\n",
      "Epoch 7, Iteration 35736 in 11.14 seconds. Samples per second 3206.62\n",
      "Epoch 8, Iteration 35736 in 7.02 seconds. Samples per second 5089.06\n",
      "Epoch 9, Iteration 35736 in 4.48 seconds. Samples per second 7972.10\n",
      "Epoch 10, Iteration 35736 in 3.90 seconds. Samples per second 9174.63\n",
      "Epoch 11, Iteration 35736 in 3.59 seconds. Samples per second 9940.81\n",
      "Epoch 12, Iteration 35736 in 3.56 seconds. Samples per second 10045.99\n",
      "Epoch 13, Iteration 35736 in 3.38 seconds. Samples per second 10565.29\n",
      "Epoch 14, Iteration 35736 in 3.38 seconds. Samples per second 10565.61\n",
      "Epoch 15, Iteration 35736 in 3.29 seconds. Samples per second 10856.70\n",
      "Epoch 16, Iteration 35736 in 3.36 seconds. Samples per second 10644.31\n",
      "Epoch 17, Iteration 35736 in 3.17 seconds. Samples per second 11290.76\n",
      "Epoch 18, Iteration 35736 in 3.08 seconds. Samples per second 11588.14\n",
      "Epoch 19, Iteration 35736 in 3.17 seconds. Samples per second 11284.87\n",
      "Epoch 20, Iteration 35736 in 3.06 seconds. Samples per second 11674.16\n",
      "Epoch 21, Iteration 35736 in 3.05 seconds. Samples per second 11730.29\n",
      "Epoch 22, Iteration 35736 in 3.08 seconds. Samples per second 11608.93\n",
      "Epoch 23, Iteration 35736 in 3.08 seconds. Samples per second 11618.58\n",
      "Epoch 24, Iteration 35736 in 3.10 seconds. Samples per second 11539.92\n",
      "Epoch 25, Iteration 35736 in 3.08 seconds. Samples per second 11611.06\n",
      "Epoch 26, Iteration 35736 in 3.08 seconds. Samples per second 11590.24\n",
      "Train completed in 1.92 minutes\n",
      "EvaluatorHoldout: Processed 35595 (100.0%) in 55.67 sec. Users per second: 639\n"
     ]
    },
    {
     "name": "stderr",
     "output_type": "stream",
     "text": [
      "[I 2024-12-15 23:57:11,321] Trial 3 finished with value: 0.02770853651194927 and parameters: {'topK': 457, 'epochs': 26, 'lambda_i': 0.010756178450260992, 'lambda_j': 0.00040678336306533563, 'learning_rate': 0.0003006366869871818}. Best is trial 2 with value: 0.0314148087947067.\n"
     ]
    },
    {
     "name": "stdout",
     "output_type": "stream",
     "text": [
      "Epoch 1, Iteration 35736 in 11.82 seconds. Samples per second 3022.86\n",
      "Epoch 2, Iteration 35736 in 8.52 seconds. Samples per second 4193.69\n",
      "Epoch 3, Iteration 35736 in 6.35 seconds. Samples per second 5625.95\n",
      "Epoch 4, Iteration 35736 in 5.21 seconds. Samples per second 6865.34\n",
      "Epoch 5, Iteration 35736 in 4.70 seconds. Samples per second 7605.50\n",
      "Epoch 6, Iteration 35736 in 4.29 seconds. Samples per second 8326.11\n",
      "Epoch 7, Iteration 35736 in 4.04 seconds. Samples per second 8841.63\n",
      "Epoch 8, Iteration 35736 in 3.95 seconds. Samples per second 9040.40\n",
      "Epoch 9, Iteration 35736 in 3.81 seconds. Samples per second 9389.87\n",
      "Epoch 10, Iteration 35736 in 3.42 seconds. Samples per second 10458.65\n",
      "Epoch 11, Iteration 35736 in 3.36 seconds. Samples per second 10649.55\n",
      "Epoch 12, Iteration 35736 in 3.23 seconds. Samples per second 11062.05\n",
      "Epoch 13, Iteration 35736 in 3.34 seconds. Samples per second 10687.05\n",
      "Epoch 14, Iteration 35736 in 3.35 seconds. Samples per second 10652.89\n",
      "Epoch 15, Iteration 35736 in 3.15 seconds. Samples per second 11330.00\n",
      "Epoch 16, Iteration 35736 in 3.27 seconds. Samples per second 10928.33\n",
      "Epoch 17, Iteration 35736 in 3.13 seconds. Samples per second 11432.81\n",
      "Epoch 18, Iteration 35736 in 3.11 seconds. Samples per second 11479.15\n",
      "Epoch 19, Iteration 35736 in 3.16 seconds. Samples per second 11304.45\n",
      "Epoch 20, Iteration 35736 in 3.12 seconds. Samples per second 11459.99\n",
      "Epoch 21, Iteration 35736 in 3.09 seconds. Samples per second 11557.84\n",
      "Train completed in 1.52 minutes\n",
      "EvaluatorHoldout: Processed 35595 (100.0%) in 54.37 sec. Users per second: 655\n"
     ]
    },
    {
     "name": "stderr",
     "output_type": "stream",
     "text": [
      "[I 2024-12-16 00:01:55,903] Trial 4 finished with value: 0.027737547854277095 and parameters: {'topK': 421, 'epochs': 21, 'lambda_i': 0.0015450430114650681, 'lambda_j': 0.005301115424551582, 'learning_rate': 0.00033177545229092577}. Best is trial 2 with value: 0.0314148087947067.\n"
     ]
    },
    {
     "name": "stdout",
     "output_type": "stream",
     "text": [
      "Epoch 1, Iteration 35736 in 10.15 seconds. Samples per second 3522.45\n",
      "Epoch 2, Iteration 35736 in 7.40 seconds. Samples per second 4828.48\n",
      "Epoch 3, Iteration 35736 in 6.03 seconds. Samples per second 5926.28\n",
      "Epoch 4, Iteration 35736 in 5.07 seconds. Samples per second 7045.20\n",
      "Epoch 5, Iteration 35736 in 4.45 seconds. Samples per second 8021.81\n",
      "Epoch 6, Iteration 35736 in 4.06 seconds. Samples per second 8801.23\n",
      "Epoch 7, Iteration 35736 in 3.80 seconds. Samples per second 9408.75\n",
      "Epoch 8, Iteration 35736 in 3.68 seconds. Samples per second 9715.33\n",
      "Epoch 9, Iteration 35736 in 3.58 seconds. Samples per second 9993.92\n",
      "Epoch 10, Iteration 35736 in 3.51 seconds. Samples per second 10187.15\n",
      "Epoch 11, Iteration 35736 in 3.50 seconds. Samples per second 10216.82\n",
      "Epoch 12, Iteration 35736 in 3.29 seconds. Samples per second 10858.10\n",
      "Epoch 13, Iteration 35736 in 3.19 seconds. Samples per second 11186.52\n",
      "Epoch 14, Iteration 35736 in 8.86 seconds. Samples per second 4032.80\n",
      "Epoch 15, Iteration 35736 in 5.43 seconds. Samples per second 6582.98\n",
      "Epoch 16, Iteration 35736 in 3.51 seconds. Samples per second 10181.51\n",
      "Epoch 17, Iteration 35736 in 3.58 seconds. Samples per second 9971.79\n",
      "Epoch 18, Iteration 35736 in 3.20 seconds. Samples per second 11181.09\n",
      "Epoch 19, Iteration 35736 in 3.10 seconds. Samples per second 11538.24\n",
      "Epoch 20, Iteration 35736 in 3.20 seconds. Samples per second 11175.00\n",
      "Epoch 21, Iteration 35736 in 3.13 seconds. Samples per second 11433.94\n",
      "Epoch 22, Iteration 35736 in 3.02 seconds. Samples per second 11815.41\n",
      "Epoch 23, Iteration 35736 in 3.09 seconds. Samples per second 11580.53\n",
      "Epoch 24, Iteration 35736 in 3.06 seconds. Samples per second 11667.42\n",
      "Epoch 25, Iteration 35736 in 3.01 seconds. Samples per second 11870.70\n",
      "Epoch 26, Iteration 35736 in 3.11 seconds. Samples per second 11472.86\n",
      "Epoch 27, Iteration 35736 in 3.03 seconds. Samples per second 11804.90\n",
      "Epoch 28, Iteration 35736 in 3.07 seconds. Samples per second 11650.90\n",
      "Epoch 29, Iteration 35736 in 3.04 seconds. Samples per second 11774.30\n",
      "Epoch 30, Iteration 35736 in 3.00 seconds. Samples per second 11914.19\n",
      "Epoch 31, Iteration 35736 in 3.06 seconds. Samples per second 11693.69\n",
      "Epoch 32, Iteration 35736 in 2.99 seconds. Samples per second 11951.59\n",
      "Epoch 33, Iteration 35736 in 3.19 seconds. Samples per second 11193.90\n",
      "Epoch 34, Iteration 35736 in 3.14 seconds. Samples per second 11371.30\n",
      "Epoch 35, Iteration 35736 in 2.97 seconds. Samples per second 12023.28\n",
      "Epoch 36, Iteration 35736 in 3.15 seconds. Samples per second 11337.26\n",
      "Epoch 37, Iteration 35736 in 3.09 seconds. Samples per second 11570.51\n",
      "Epoch 38, Iteration 35736 in 3.30 seconds. Samples per second 10818.32\n",
      "Epoch 39, Iteration 35736 in 3.03 seconds. Samples per second 11776.65\n",
      "Epoch 40, Iteration 35736 in 3.10 seconds. Samples per second 11520.33\n",
      "Epoch 41, Iteration 35736 in 3.00 seconds. Samples per second 11927.09\n",
      "Epoch 42, Iteration 35736 in 3.08 seconds. Samples per second 11593.08\n",
      "Epoch 43, Iteration 35736 in 3.22 seconds. Samples per second 11083.57\n",
      "Epoch 44, Iteration 35736 in 3.05 seconds. Samples per second 11699.15\n",
      "Epoch 45, Iteration 35736 in 3.16 seconds. Samples per second 11319.17\n",
      "Epoch 46, Iteration 35736 in 3.24 seconds. Samples per second 11029.55\n",
      "Epoch 47, Iteration 35736 in 3.11 seconds. Samples per second 11480.94\n",
      "Epoch 48, Iteration 35736 in 3.18 seconds. Samples per second 11242.13\n",
      "Epoch 49, Iteration 35736 in 3.09 seconds. Samples per second 11558.51\n",
      "Train completed in 3.04 minutes\n",
      "EvaluatorHoldout: Processed 35595 (100.0%) in 40.37 sec. Users per second: 882\n"
     ]
    },
    {
     "name": "stderr",
     "output_type": "stream",
     "text": [
      "[I 2024-12-16 00:07:42,660] Trial 5 finished with value: 0.032117334118175904 and parameters: {'topK': 71, 'epochs': 49, 'lambda_i': 0.0066635445969326175, 'lambda_j': 0.03513115045863199, 'learning_rate': 0.0016801859050004095}. Best is trial 5 with value: 0.032117334118175904.\n"
     ]
    },
    {
     "name": "stdout",
     "output_type": "stream",
     "text": [
      "Epoch 1, Iteration 35736 in 10.40 seconds. Samples per second 3435.01\n",
      "Epoch 2, Iteration 35736 in 7.72 seconds. Samples per second 4629.91\n",
      "Epoch 3, Iteration 35736 in 6.23 seconds. Samples per second 5740.36\n",
      "Epoch 4, Iteration 35736 in 4.99 seconds. Samples per second 7156.98\n",
      "Epoch 5, Iteration 35736 in 4.64 seconds. Samples per second 7697.66\n",
      "Epoch 6, Iteration 35736 in 4.04 seconds. Samples per second 8851.69\n",
      "Epoch 7, Iteration 35736 in 4.02 seconds. Samples per second 8885.91\n",
      "Epoch 8, Iteration 35736 in 3.59 seconds. Samples per second 9942.97\n",
      "Epoch 9, Iteration 35736 in 3.58 seconds. Samples per second 9993.12\n",
      "Epoch 10, Iteration 35736 in 3.39 seconds. Samples per second 10537.83\n",
      "Epoch 11, Iteration 35736 in 3.37 seconds. Samples per second 10619.87\n",
      "Epoch 12, Iteration 35736 in 3.33 seconds. Samples per second 10734.45\n",
      "Epoch 13, Iteration 35736 in 3.27 seconds. Samples per second 10922.45\n",
      "Epoch 14, Iteration 35736 in 3.34 seconds. Samples per second 10705.15\n",
      "Train completed in 1.10 minutes\n",
      "EvaluatorHoldout: Processed 35595 (100.0%) in 37.33 sec. Users per second: 953\n"
     ]
    },
    {
     "name": "stderr",
     "output_type": "stream",
     "text": [
      "[I 2024-12-16 00:11:26,436] Trial 6 finished with value: 0.030366744928058822 and parameters: {'topK': 46, 'epochs': 14, 'lambda_i': 1.2350776622721477e-05, 'lambda_j': 2.210874175802948e-05, 'learning_rate': 0.002010272910522065}. Best is trial 5 with value: 0.032117334118175904.\n"
     ]
    },
    {
     "name": "stdout",
     "output_type": "stream",
     "text": [
      "Epoch 1, Iteration 35736 in 10.14 seconds. Samples per second 3523.75\n",
      "Epoch 2, Iteration 35736 in 7.36 seconds. Samples per second 4855.69\n",
      "Epoch 3, Iteration 35736 in 5.88 seconds. Samples per second 6074.41\n",
      "Epoch 4, Iteration 35736 in 5.00 seconds. Samples per second 7145.00\n",
      "Epoch 5, Iteration 35736 in 4.52 seconds. Samples per second 7899.15\n",
      "Epoch 6, Iteration 35736 in 4.19 seconds. Samples per second 8522.42\n",
      "Epoch 7, Iteration 35736 in 3.78 seconds. Samples per second 9465.79\n",
      "Epoch 8, Iteration 35736 in 3.82 seconds. Samples per second 9347.95\n",
      "Epoch 9, Iteration 35736 in 3.57 seconds. Samples per second 10015.80\n",
      "Epoch 10, Iteration 35736 in 3.46 seconds. Samples per second 10333.24\n",
      "Epoch 11, Iteration 35736 in 3.36 seconds. Samples per second 10651.33\n",
      "Epoch 12, Iteration 35736 in 3.27 seconds. Samples per second 10941.87\n",
      "Epoch 13, Iteration 35736 in 3.19 seconds. Samples per second 11217.17\n",
      "Epoch 14, Iteration 35736 in 3.19 seconds. Samples per second 11190.07\n",
      "Epoch 15, Iteration 35736 in 3.13 seconds. Samples per second 11407.45\n",
      "Epoch 16, Iteration 35736 in 3.29 seconds. Samples per second 10870.27\n",
      "Epoch 17, Iteration 35736 in 3.18 seconds. Samples per second 11220.88\n",
      "Epoch 18, Iteration 35736 in 3.15 seconds. Samples per second 11352.74\n",
      "Epoch 19, Iteration 35736 in 3.17 seconds. Samples per second 11272.69\n",
      "Epoch 20, Iteration 35736 in 3.18 seconds. Samples per second 11254.96\n",
      "Epoch 21, Iteration 35736 in 3.18 seconds. Samples per second 11254.88\n",
      "Epoch 22, Iteration 35736 in 3.11 seconds. Samples per second 11479.57\n",
      "Epoch 23, Iteration 35736 in 3.19 seconds. Samples per second 11214.63\n",
      "Epoch 24, Iteration 35736 in 3.15 seconds. Samples per second 11331.50\n",
      "Epoch 25, Iteration 35736 in 3.09 seconds. Samples per second 11561.68\n",
      "Epoch 26, Iteration 35736 in 3.34 seconds. Samples per second 10708.48\n",
      "Epoch 27, Iteration 35736 in 3.12 seconds. Samples per second 11450.11\n",
      "Epoch 28, Iteration 35736 in 3.09 seconds. Samples per second 11571.35\n",
      "Epoch 29, Iteration 35736 in 3.10 seconds. Samples per second 11538.33\n",
      "Epoch 30, Iteration 35736 in 3.18 seconds. Samples per second 11234.50\n",
      "Epoch 31, Iteration 35736 in 3.07 seconds. Samples per second 11639.11\n",
      "Epoch 32, Iteration 35736 in 3.09 seconds. Samples per second 11560.99\n",
      "Epoch 33, Iteration 35736 in 3.12 seconds. Samples per second 11450.41\n",
      "Epoch 34, Iteration 35736 in 3.04 seconds. Samples per second 11751.26\n",
      "Epoch 35, Iteration 35736 in 3.05 seconds. Samples per second 11714.72\n",
      "Epoch 36, Iteration 35736 in 3.13 seconds. Samples per second 11418.25\n",
      "Epoch 37, Iteration 35736 in 3.04 seconds. Samples per second 11739.16\n",
      "Epoch 38, Iteration 35736 in 3.00 seconds. Samples per second 11926.76\n",
      "Epoch 39, Iteration 35736 in 3.07 seconds. Samples per second 11626.69\n",
      "Epoch 40, Iteration 35736 in 3.11 seconds. Samples per second 11494.90\n",
      "Epoch 41, Iteration 35736 in 3.14 seconds. Samples per second 11385.62\n",
      "Epoch 42, Iteration 35736 in 3.03 seconds. Samples per second 11789.99\n",
      "Epoch 43, Iteration 35736 in 3.07 seconds. Samples per second 11651.77\n",
      "Epoch 44, Iteration 35736 in 3.03 seconds. Samples per second 11774.76\n",
      "Epoch 45, Iteration 35736 in 3.00 seconds. Samples per second 11907.82\n",
      "Epoch 46, Iteration 35736 in 3.12 seconds. Samples per second 11443.67\n",
      "Epoch 47, Iteration 35736 in 3.06 seconds. Samples per second 11690.85\n",
      "Train completed in 2.79 minutes\n",
      "EvaluatorHoldout: Processed 35595 (100.0%) in 45.33 sec. Users per second: 785\n"
     ]
    },
    {
     "name": "stderr",
     "output_type": "stream",
     "text": [
      "[I 2024-12-16 00:17:10,593] Trial 7 finished with value: 0.03019855762691744 and parameters: {'topK': 171, 'epochs': 47, 'lambda_i': 0.00035183149442524016, 'lambda_j': 2.9915960988277396e-05, 'learning_rate': 0.0005722304169796723}. Best is trial 5 with value: 0.032117334118175904.\n"
     ]
    },
    {
     "name": "stdout",
     "output_type": "stream",
     "text": [
      "Epoch 1, Iteration 35736 in 10.06 seconds. Samples per second 3551.15\n",
      "Epoch 2, Iteration 35736 in 7.35 seconds. Samples per second 4864.58\n",
      "Epoch 3, Iteration 35736 in 5.91 seconds. Samples per second 6051.44\n",
      "Epoch 4, Iteration 35736 in 4.94 seconds. Samples per second 7236.65\n",
      "Epoch 5, Iteration 35736 in 4.43 seconds. Samples per second 8063.24\n",
      "Epoch 6, Iteration 35736 in 4.04 seconds. Samples per second 8835.28\n",
      "Epoch 7, Iteration 35736 in 3.80 seconds. Samples per second 9403.69\n",
      "Epoch 8, Iteration 35736 in 3.55 seconds. Samples per second 10074.59\n",
      "Epoch 9, Iteration 35736 in 3.46 seconds. Samples per second 10326.94\n",
      "Epoch 10, Iteration 35736 in 3.41 seconds. Samples per second 10470.46\n",
      "Epoch 11, Iteration 35736 in 3.37 seconds. Samples per second 10608.24\n",
      "Epoch 12, Iteration 35736 in 3.30 seconds. Samples per second 10819.42\n",
      "Epoch 13, Iteration 35736 in 3.19 seconds. Samples per second 11188.00\n",
      "Epoch 14, Iteration 35736 in 3.24 seconds. Samples per second 11044.26\n",
      "Epoch 15, Iteration 35736 in 3.19 seconds. Samples per second 11199.39\n",
      "Epoch 16, Iteration 35736 in 3.17 seconds. Samples per second 11279.02\n",
      "Epoch 17, Iteration 35736 in 3.06 seconds. Samples per second 11682.93\n",
      "Epoch 18, Iteration 35736 in 3.15 seconds. Samples per second 11331.41\n",
      "Epoch 19, Iteration 35736 in 3.22 seconds. Samples per second 11111.73\n",
      "Epoch 20, Iteration 35736 in 3.14 seconds. Samples per second 11395.45\n",
      "Epoch 21, Iteration 35736 in 3.08 seconds. Samples per second 11619.14\n",
      "Epoch 22, Iteration 35736 in 3.22 seconds. Samples per second 11113.37\n",
      "Epoch 23, Iteration 35736 in 3.03 seconds. Samples per second 11788.69\n",
      "Epoch 24, Iteration 35736 in 3.06 seconds. Samples per second 11681.83\n",
      "Epoch 25, Iteration 35736 in 3.09 seconds. Samples per second 11578.10\n",
      "Epoch 26, Iteration 35736 in 3.18 seconds. Samples per second 11235.39\n",
      "Epoch 27, Iteration 35736 in 3.10 seconds. Samples per second 11512.33\n",
      "Epoch 28, Iteration 35736 in 3.09 seconds. Samples per second 11574.84\n",
      "Epoch 29, Iteration 35736 in 3.14 seconds. Samples per second 11366.67\n",
      "Epoch 30, Iteration 35736 in 3.33 seconds. Samples per second 10745.82\n",
      "Epoch 31, Iteration 35736 in 3.09 seconds. Samples per second 11581.26\n",
      "Epoch 32, Iteration 35736 in 3.13 seconds. Samples per second 11432.39\n",
      "Epoch 33, Iteration 35736 in 3.01 seconds. Samples per second 11882.11\n",
      "Epoch 34, Iteration 35736 in 3.01 seconds. Samples per second 11875.56\n",
      "Epoch 35, Iteration 35736 in 3.03 seconds. Samples per second 11788.43\n",
      "Epoch 36, Iteration 35736 in 3.05 seconds. Samples per second 11719.85\n",
      "Epoch 37, Iteration 35736 in 3.03 seconds. Samples per second 11788.90\n",
      "Epoch 38, Iteration 35736 in 3.06 seconds. Samples per second 11686.67\n",
      "Train completed in 2.31 minutes\n",
      "EvaluatorHoldout: Processed 35595 (100.0%) in 49.23 sec. Users per second: 723\n"
     ]
    },
    {
     "name": "stderr",
     "output_type": "stream",
     "text": [
      "[I 2024-12-16 00:22:36,820] Trial 8 finished with value: 0.02929103427670558 and parameters: {'topK': 256, 'epochs': 38, 'lambda_i': 0.004243806371745037, 'lambda_j': 1.2445315777320879e-05, 'learning_rate': 0.0010042098081573696}. Best is trial 5 with value: 0.032117334118175904.\n"
     ]
    },
    {
     "name": "stdout",
     "output_type": "stream",
     "text": [
      "Epoch 1, Iteration 35736 in 10.19 seconds. Samples per second 3506.87\n",
      "Epoch 2, Iteration 35736 in 7.31 seconds. Samples per second 4888.83\n",
      "Epoch 3, Iteration 35736 in 5.87 seconds. Samples per second 6092.86\n",
      "Epoch 4, Iteration 35736 in 5.03 seconds. Samples per second 7098.31\n",
      "Epoch 5, Iteration 35736 in 4.69 seconds. Samples per second 7615.02\n",
      "Epoch 6, Iteration 35736 in 4.13 seconds. Samples per second 8656.61\n",
      "Epoch 7, Iteration 35736 in 3.86 seconds. Samples per second 9255.87\n",
      "Epoch 8, Iteration 35736 in 3.62 seconds. Samples per second 9870.25\n",
      "Epoch 9, Iteration 35736 in 3.46 seconds. Samples per second 10327.70\n",
      "Epoch 10, Iteration 35736 in 3.33 seconds. Samples per second 10725.39\n",
      "Epoch 11, Iteration 35736 in 3.52 seconds. Samples per second 10145.57\n",
      "Epoch 12, Iteration 35736 in 3.28 seconds. Samples per second 10882.90\n",
      "Epoch 13, Iteration 35736 in 3.17 seconds. Samples per second 11290.16\n",
      "Epoch 14, Iteration 35736 in 3.19 seconds. Samples per second 11195.95\n",
      "Epoch 15, Iteration 35736 in 3.18 seconds. Samples per second 11248.30\n",
      "Epoch 16, Iteration 35736 in 3.16 seconds. Samples per second 11311.93\n",
      "Epoch 17, Iteration 35736 in 3.25 seconds. Samples per second 11003.08\n",
      "Epoch 18, Iteration 35736 in 3.16 seconds. Samples per second 11309.44\n",
      "Epoch 19, Iteration 35736 in 3.17 seconds. Samples per second 11287.27\n",
      "Train completed in 1.34 minutes\n",
      "EvaluatorHoldout: Processed 35595 (100.0%) in 38.80 sec. Users per second: 917\n"
     ]
    },
    {
     "name": "stderr",
     "output_type": "stream",
     "text": [
      "[I 2024-12-16 00:26:38,584] Trial 9 finished with value: 0.03339036938931508 and parameters: {'topK': 65, 'epochs': 19, 'lambda_i': 2.494871432661756e-05, 'lambda_j': 0.002207521754271074, 'learning_rate': 0.04319733620128968}. Best is trial 9 with value: 0.03339036938931508.\n"
     ]
    },
    {
     "name": "stdout",
     "output_type": "stream",
     "text": [
      "Epoch 1, Iteration 35736 in 10.04 seconds. Samples per second 3558.88\n",
      "Epoch 2, Iteration 35736 in 7.35 seconds. Samples per second 4859.49\n",
      "Epoch 3, Iteration 35736 in 5.99 seconds. Samples per second 5966.56\n",
      "Epoch 4, Iteration 35736 in 5.05 seconds. Samples per second 7074.68\n",
      "Epoch 5, Iteration 35736 in 4.75 seconds. Samples per second 7527.81\n",
      "Epoch 6, Iteration 35736 in 4.20 seconds. Samples per second 8511.22\n",
      "Epoch 7, Iteration 35736 in 3.86 seconds. Samples per second 9248.45\n",
      "Epoch 8, Iteration 35736 in 3.67 seconds. Samples per second 9744.19\n",
      "Epoch 9, Iteration 35736 in 3.49 seconds. Samples per second 10245.97\n",
      "Train completed in 0.81 minutes\n",
      "EvaluatorHoldout: Processed 35595 (100.0%) in 32.27 sec. Users per second: 1103\n"
     ]
    },
    {
     "name": "stderr",
     "output_type": "stream",
     "text": [
      "[I 2024-12-16 00:29:51,862] Trial 10 finished with value: 0.028954629573887024 and parameters: {'topK': 6, 'epochs': 9, 'lambda_i': 1.1359322994821096e-05, 'lambda_j': 0.001525422869345672, 'learning_rate': 0.011468406458669835}. Best is trial 9 with value: 0.03339036938931508.\n"
     ]
    },
    {
     "name": "stdout",
     "output_type": "stream",
     "text": [
      "Epoch 1, Iteration 35736 in 10.18 seconds. Samples per second 3509.11\n",
      "Epoch 2, Iteration 35736 in 7.42 seconds. Samples per second 4816.42\n",
      "Epoch 3, Iteration 35736 in 5.89 seconds. Samples per second 6069.39\n",
      "Epoch 4, Iteration 35736 in 5.10 seconds. Samples per second 7010.86\n",
      "Epoch 5, Iteration 35736 in 4.54 seconds. Samples per second 7874.01\n",
      "Epoch 6, Iteration 35736 in 4.12 seconds. Samples per second 8680.87\n",
      "Epoch 7, Iteration 35736 in 3.86 seconds. Samples per second 9260.89\n",
      "Epoch 8, Iteration 35736 in 3.63 seconds. Samples per second 9837.09\n",
      "Epoch 9, Iteration 35736 in 3.64 seconds. Samples per second 9806.61\n",
      "Epoch 10, Iteration 35736 in 3.59 seconds. Samples per second 9960.61\n",
      "Epoch 11, Iteration 35736 in 3.34 seconds. Samples per second 10708.28\n",
      "Epoch 12, Iteration 35736 in 3.32 seconds. Samples per second 10766.00\n",
      "Epoch 13, Iteration 35736 in 3.25 seconds. Samples per second 10980.82\n",
      "Epoch 14, Iteration 35736 in 3.26 seconds. Samples per second 10963.58\n",
      "Epoch 15, Iteration 35736 in 3.28 seconds. Samples per second 10886.44\n",
      "Epoch 16, Iteration 35736 in 3.23 seconds. Samples per second 11073.20\n",
      "Epoch 17, Iteration 35736 in 3.16 seconds. Samples per second 11305.81\n",
      "Epoch 18, Iteration 35736 in 3.18 seconds. Samples per second 11241.16\n",
      "Epoch 19, Iteration 35736 in 3.11 seconds. Samples per second 11495.38\n",
      "Epoch 20, Iteration 35736 in 3.10 seconds. Samples per second 11536.62\n",
      "Epoch 21, Iteration 35736 in 3.28 seconds. Samples per second 10885.82\n",
      "Epoch 22, Iteration 35736 in 3.14 seconds. Samples per second 11398.56\n",
      "Epoch 23, Iteration 35736 in 3.11 seconds. Samples per second 11495.00\n",
      "Epoch 24, Iteration 35736 in 3.04 seconds. Samples per second 11739.79\n",
      "Epoch 25, Iteration 35736 in 3.22 seconds. Samples per second 11106.18\n",
      "Epoch 26, Iteration 35736 in 3.04 seconds. Samples per second 11760.69\n",
      "Epoch 27, Iteration 35736 in 3.04 seconds. Samples per second 11767.34\n",
      "Epoch 28, Iteration 35736 in 3.08 seconds. Samples per second 11617.45\n",
      "Epoch 29, Iteration 35736 in 3.17 seconds. Samples per second 11268.33\n",
      "Epoch 30, Iteration 35736 in 3.10 seconds. Samples per second 11534.03\n",
      "Epoch 31, Iteration 35736 in 3.09 seconds. Samples per second 11559.45\n",
      "Epoch 32, Iteration 35736 in 3.30 seconds. Samples per second 10827.61\n",
      "Epoch 33, Iteration 35736 in 3.29 seconds. Samples per second 10869.97\n",
      "Epoch 34, Iteration 35736 in 3.16 seconds. Samples per second 11295.73\n",
      "Epoch 35, Iteration 35736 in 3.03 seconds. Samples per second 11785.84\n",
      "Epoch 36, Iteration 35736 in 3.02 seconds. Samples per second 11832.19\n",
      "Epoch 37, Iteration 35736 in 3.20 seconds. Samples per second 11173.98\n",
      "Epoch 38, Iteration 35736 in 3.06 seconds. Samples per second 11696.07\n",
      "Epoch 39, Iteration 35736 in 3.12 seconds. Samples per second 11450.55\n",
      "Epoch 40, Iteration 35736 in 3.10 seconds. Samples per second 11518.87\n",
      "Epoch 41, Iteration 35736 in 3.07 seconds. Samples per second 11627.20\n",
      "Epoch 42, Iteration 35736 in 3.19 seconds. Samples per second 11208.05\n",
      "Epoch 43, Iteration 35736 in 3.19 seconds. Samples per second 11211.96\n",
      "Epoch 44, Iteration 35736 in 3.14 seconds. Samples per second 11370.23\n",
      "Epoch 45, Iteration 35736 in 3.08 seconds. Samples per second 11603.82\n",
      "Epoch 46, Iteration 35736 in 3.04 seconds. Samples per second 11758.24\n",
      "Epoch 47, Iteration 35736 in 3.08 seconds. Samples per second 11615.62\n",
      "Train completed in 2.81 minutes\n",
      "EvaluatorHoldout: Processed 35595 (100.0%) in 42.85 sec. Users per second: 831\n"
     ]
    },
    {
     "name": "stderr",
     "output_type": "stream",
     "text": [
      "[I 2024-12-16 00:35:40,723] Trial 11 finished with value: 0.032490033378148785 and parameters: {'topK': 130, 'epochs': 47, 'lambda_i': 0.09927534518265574, 'lambda_j': 0.06843624400636594, 'learning_rate': 0.008271207397818307}. Best is trial 9 with value: 0.03339036938931508.\n"
     ]
    },
    {
     "name": "stdout",
     "output_type": "stream",
     "text": [
      "Epoch 1, Iteration 35736 in 10.13 seconds. Samples per second 3526.45\n",
      "Epoch 2, Iteration 35736 in 7.57 seconds. Samples per second 4722.35\n",
      "Epoch 3, Iteration 35736 in 5.93 seconds. Samples per second 6021.39\n",
      "Epoch 4, Iteration 35736 in 5.02 seconds. Samples per second 7115.40\n",
      "Epoch 5, Iteration 35736 in 4.52 seconds. Samples per second 7906.72\n",
      "Epoch 6, Iteration 35736 in 4.15 seconds. Samples per second 8612.85\n",
      "Epoch 7, Iteration 35736 in 3.85 seconds. Samples per second 9291.22\n",
      "Epoch 8, Iteration 35736 in 3.67 seconds. Samples per second 9742.50\n",
      "Epoch 9, Iteration 35736 in 3.50 seconds. Samples per second 10217.88\n",
      "Epoch 10, Iteration 35736 in 3.48 seconds. Samples per second 10278.84\n",
      "Epoch 11, Iteration 35736 in 3.53 seconds. Samples per second 10128.27\n",
      "Epoch 12, Iteration 35736 in 3.35 seconds. Samples per second 10677.22\n",
      "Epoch 13, Iteration 35736 in 3.29 seconds. Samples per second 10854.52\n",
      "Epoch 14, Iteration 35736 in 3.26 seconds. Samples per second 10952.03\n",
      "Epoch 15, Iteration 35736 in 3.30 seconds. Samples per second 10832.06\n",
      "Epoch 16, Iteration 35736 in 3.20 seconds. Samples per second 11159.24\n",
      "Epoch 17, Iteration 35736 in 3.24 seconds. Samples per second 11027.60\n",
      "Epoch 18, Iteration 35736 in 3.34 seconds. Samples per second 10690.59\n",
      "Epoch 19, Iteration 35736 in 3.23 seconds. Samples per second 11070.05\n",
      "Epoch 20, Iteration 35736 in 3.19 seconds. Samples per second 11201.25\n",
      "Epoch 21, Iteration 35736 in 3.22 seconds. Samples per second 11095.35\n",
      "Epoch 22, Iteration 35736 in 3.21 seconds. Samples per second 11143.48\n",
      "Epoch 23, Iteration 35736 in 3.12 seconds. Samples per second 11442.94\n",
      "Epoch 24, Iteration 35736 in 3.17 seconds. Samples per second 11282.36\n",
      "Epoch 25, Iteration 35736 in 3.13 seconds. Samples per second 11409.33\n",
      "Epoch 26, Iteration 35736 in 3.12 seconds. Samples per second 11442.79\n",
      "Epoch 27, Iteration 35736 in 3.07 seconds. Samples per second 11655.00\n",
      "Epoch 28, Iteration 35736 in 3.27 seconds. Samples per second 10919.97\n",
      "Epoch 29, Iteration 35736 in 3.09 seconds. Samples per second 11575.11\n",
      "Epoch 30, Iteration 35736 in 3.09 seconds. Samples per second 11573.63\n",
      "Train completed in 1.94 minutes\n",
      "EvaluatorHoldout: Processed 35595 (100.0%) in 44.34 sec. Users per second: 803\n"
     ]
    },
    {
     "name": "stderr",
     "output_type": "stream",
     "text": [
      "[I 2024-12-16 00:40:39,623] Trial 12 finished with value: 0.030950666336674603 and parameters: {'topK': 144, 'epochs': 30, 'lambda_i': 0.07124311040384719, 'lambda_j': 0.0849669233934105, 'learning_rate': 0.006386970183835491}. Best is trial 9 with value: 0.03339036938931508.\n"
     ]
    },
    {
     "name": "stdout",
     "output_type": "stream",
     "text": [
      "Epoch 1, Iteration 35736 in 10.15 seconds. Samples per second 3521.75\n",
      "Train completed in 0.17 minutes\n",
      "EvaluatorHoldout: Processed 35595 (100.0%) in 37.13 sec. Users per second: 959\n"
     ]
    },
    {
     "name": "stderr",
     "output_type": "stream",
     "text": [
      "[I 2024-12-16 00:42:54,962] Trial 13 finished with value: 0.017481052270137933 and parameters: {'topK': 307, 'epochs': 1, 'lambda_i': 0.09353586980274774, 'lambda_j': 0.01319708872276023, 'learning_rate': 0.020148499252781425}. Best is trial 9 with value: 0.03339036938931508.\n"
     ]
    },
    {
     "name": "stdout",
     "output_type": "stream",
     "text": [
      "Epoch 1, Iteration 35736 in 10.11 seconds. Samples per second 3533.30\n",
      "Epoch 2, Iteration 35736 in 7.37 seconds. Samples per second 4848.30\n",
      "Epoch 3, Iteration 35736 in 5.97 seconds. Samples per second 5985.12\n",
      "Epoch 4, Iteration 35736 in 5.04 seconds. Samples per second 7097.06\n",
      "Epoch 5, Iteration 35736 in 4.43 seconds. Samples per second 8062.96\n",
      "Epoch 6, Iteration 35736 in 4.11 seconds. Samples per second 8698.25\n",
      "Epoch 7, Iteration 35736 in 3.89 seconds. Samples per second 9189.89\n",
      "Epoch 8, Iteration 35736 in 3.66 seconds. Samples per second 9771.89\n",
      "Epoch 9, Iteration 35736 in 3.55 seconds. Samples per second 10071.95\n",
      "Epoch 10, Iteration 35736 in 3.52 seconds. Samples per second 10144.15\n",
      "Epoch 11, Iteration 35736 in 3.40 seconds. Samples per second 10498.98\n",
      "Epoch 12, Iteration 35736 in 3.24 seconds. Samples per second 11039.81\n",
      "Epoch 13, Iteration 35736 in 3.30 seconds. Samples per second 10843.27\n",
      "Epoch 14, Iteration 35736 in 3.24 seconds. Samples per second 11044.73\n",
      "Epoch 15, Iteration 35736 in 3.42 seconds. Samples per second 10453.79\n",
      "Epoch 16, Iteration 35736 in 3.15 seconds. Samples per second 11331.14\n",
      "Epoch 17, Iteration 35736 in 3.14 seconds. Samples per second 11369.70\n",
      "Epoch 18, Iteration 35736 in 3.11 seconds. Samples per second 11497.03\n",
      "Epoch 19, Iteration 35736 in 3.12 seconds. Samples per second 11457.81\n",
      "Epoch 20, Iteration 35736 in 3.16 seconds. Samples per second 11326.56\n",
      "Epoch 21, Iteration 35736 in 3.21 seconds. Samples per second 11145.51\n",
      "Epoch 22, Iteration 35736 in 3.08 seconds. Samples per second 11612.27\n",
      "Epoch 23, Iteration 35736 in 3.07 seconds. Samples per second 11655.54\n",
      "Epoch 24, Iteration 35736 in 3.12 seconds. Samples per second 11469.93\n",
      "Epoch 25, Iteration 35736 in 3.07 seconds. Samples per second 11646.36\n",
      "Epoch 26, Iteration 35736 in 3.04 seconds. Samples per second 11752.94\n",
      "Epoch 27, Iteration 35736 in 3.10 seconds. Samples per second 11536.96\n",
      "Epoch 28, Iteration 35736 in 3.08 seconds. Samples per second 11614.83\n",
      "Epoch 29, Iteration 35736 in 3.15 seconds. Samples per second 11332.29\n",
      "Epoch 30, Iteration 35736 in 3.21 seconds. Samples per second 11137.23\n",
      "Epoch 31, Iteration 35736 in 3.09 seconds. Samples per second 11558.09\n",
      "Epoch 32, Iteration 35736 in 3.17 seconds. Samples per second 11259.75\n",
      "Epoch 33, Iteration 35736 in 3.12 seconds. Samples per second 11441.76\n",
      "Epoch 34, Iteration 35736 in 3.09 seconds. Samples per second 11568.59\n",
      "Epoch 35, Iteration 35736 in 3.12 seconds. Samples per second 11445.43\n",
      "Epoch 36, Iteration 35736 in 3.09 seconds. Samples per second 11583.58\n",
      "Epoch 37, Iteration 35736 in 3.19 seconds. Samples per second 11195.00\n",
      "Epoch 38, Iteration 35736 in 3.03 seconds. Samples per second 11805.64\n",
      "Epoch 39, Iteration 35736 in 3.03 seconds. Samples per second 11783.20\n",
      "Epoch 40, Iteration 35736 in 3.22 seconds. Samples per second 11102.92\n",
      "Train completed in 2.44 minutes\n",
      "EvaluatorHoldout: Processed 35595 (100.0%) in 43.08 sec. Users per second: 826\n"
     ]
    },
    {
     "name": "stderr",
     "output_type": "stream",
     "text": [
      "[I 2024-12-16 00:48:21,406] Trial 14 finished with value: 0.031468549399437634 and parameters: {'topK': 126, 'epochs': 40, 'lambda_i': 0.00010626348996300061, 'lambda_j': 0.0015456231808623601, 'learning_rate': 0.0050641643916832955}. Best is trial 9 with value: 0.03339036938931508.\n"
     ]
    },
    {
     "name": "stdout",
     "output_type": "stream",
     "text": [
      "Epoch 1, Iteration 35736 in 10.30 seconds. Samples per second 3469.80\n",
      "Epoch 2, Iteration 35736 in 7.38 seconds. Samples per second 4844.41\n",
      "Epoch 3, Iteration 35736 in 5.94 seconds. Samples per second 6017.71\n",
      "Epoch 4, Iteration 35736 in 5.15 seconds. Samples per second 6938.35\n",
      "Epoch 5, Iteration 35736 in 4.51 seconds. Samples per second 7924.76\n",
      "Epoch 6, Iteration 35736 in 4.11 seconds. Samples per second 8696.88\n",
      "Epoch 7, Iteration 35736 in 3.96 seconds. Samples per second 9022.10\n",
      "Epoch 8, Iteration 35736 in 3.72 seconds. Samples per second 9605.47\n",
      "Train completed in 0.75 minutes\n",
      "EvaluatorHoldout: Processed 35595 (100.0%) in 33.43 sec. Users per second: 1065\n"
     ]
    },
    {
     "name": "stderr",
     "output_type": "stream",
     "text": [
      "[I 2024-12-16 00:51:37,911] Trial 15 finished with value: 0.03159518235350442 and parameters: {'topK': 5, 'epochs': 8, 'lambda_i': 0.02408211435567716, 'lambda_j': 0.0808099436300234, 'learning_rate': 0.0946807258431908}. Best is trial 9 with value: 0.03339036938931508.\n"
     ]
    },
    {
     "name": "stdout",
     "output_type": "stream",
     "text": [
      "Epoch 1, Iteration 35736 in 10.82 seconds. Samples per second 3301.78\n",
      "Epoch 2, Iteration 35736 in 7.71 seconds. Samples per second 4636.11\n",
      "Epoch 3, Iteration 35736 in 6.07 seconds. Samples per second 5884.21\n",
      "Epoch 4, Iteration 35736 in 5.12 seconds. Samples per second 6978.49\n",
      "Epoch 5, Iteration 35736 in 4.72 seconds. Samples per second 7575.24\n",
      "Epoch 6, Iteration 35736 in 4.06 seconds. Samples per second 8798.92\n",
      "Epoch 7, Iteration 35736 in 3.95 seconds. Samples per second 9056.82\n",
      "Epoch 8, Iteration 35736 in 3.73 seconds. Samples per second 9569.70\n",
      "Epoch 9, Iteration 35736 in 3.66 seconds. Samples per second 9753.48\n",
      "Epoch 10, Iteration 35736 in 3.50 seconds. Samples per second 10206.54\n",
      "Epoch 11, Iteration 35736 in 3.51 seconds. Samples per second 10177.00\n",
      "Epoch 12, Iteration 35736 in 3.37 seconds. Samples per second 10606.74\n",
      "Epoch 13, Iteration 35736 in 3.27 seconds. Samples per second 10932.44\n",
      "Epoch 14, Iteration 35736 in 3.39 seconds. Samples per second 10535.43\n",
      "Epoch 15, Iteration 35736 in 3.33 seconds. Samples per second 10726.45\n",
      "Epoch 16, Iteration 35736 in 3.40 seconds. Samples per second 10514.47\n",
      "Epoch 17, Iteration 35736 in 3.30 seconds. Samples per second 10813.58\n",
      "Epoch 18, Iteration 35736 in 3.25 seconds. Samples per second 11005.27\n",
      "Epoch 19, Iteration 35736 in 3.33 seconds. Samples per second 10746.92\n",
      "Epoch 20, Iteration 35736 in 3.27 seconds. Samples per second 10927.40\n",
      "Epoch 21, Iteration 35736 in 3.20 seconds. Samples per second 11170.70\n",
      "Epoch 22, Iteration 35736 in 3.23 seconds. Samples per second 11067.57\n",
      "Epoch 23, Iteration 35736 in 3.17 seconds. Samples per second 11277.10\n",
      "Epoch 24, Iteration 35736 in 3.18 seconds. Samples per second 11253.83\n",
      "Epoch 25, Iteration 35736 in 3.17 seconds. Samples per second 11288.10\n",
      "Epoch 26, Iteration 35736 in 3.12 seconds. Samples per second 11437.73\n",
      "Epoch 27, Iteration 35736 in 3.13 seconds. Samples per second 11422.34\n",
      "Epoch 28, Iteration 35736 in 3.19 seconds. Samples per second 11202.57\n",
      "Epoch 29, Iteration 35736 in 3.10 seconds. Samples per second 11544.58\n",
      "Epoch 30, Iteration 35736 in 3.11 seconds. Samples per second 11479.40\n",
      "Epoch 31, Iteration 35736 in 3.12 seconds. Samples per second 11460.91\n",
      "Epoch 32, Iteration 35736 in 3.12 seconds. Samples per second 11443.95\n",
      "Epoch 33, Iteration 35736 in 3.13 seconds. Samples per second 11431.75\n",
      "Epoch 34, Iteration 35736 in 3.15 seconds. Samples per second 11331.33\n",
      "Epoch 35, Iteration 35736 in 3.18 seconds. Samples per second 11248.35\n",
      "Epoch 36, Iteration 35736 in 3.12 seconds. Samples per second 11456.71\n",
      "Epoch 37, Iteration 35736 in 3.12 seconds. Samples per second 11457.49\n",
      "Epoch 38, Iteration 35736 in 3.17 seconds. Samples per second 11278.56\n",
      "Epoch 39, Iteration 35736 in 3.10 seconds. Samples per second 11515.34\n",
      "Epoch 40, Iteration 35736 in 3.13 seconds. Samples per second 11403.84\n",
      "Epoch 41, Iteration 35736 in 3.16 seconds. Samples per second 11315.00\n",
      "Epoch 42, Iteration 35736 in 3.09 seconds. Samples per second 11550.79\n",
      "Epoch 43, Iteration 35736 in 3.16 seconds. Samples per second 11291.11\n",
      "Train completed in 2.65 minutes\n",
      "EvaluatorHoldout: Processed 35595 (100.0%) in 49.17 sec. Users per second: 724\n"
     ]
    },
    {
     "name": "stderr",
     "output_type": "stream",
     "text": [
      "[I 2024-12-16 00:57:49,648] Trial 16 finished with value: 0.031578460948455796 and parameters: {'topK': 233, 'epochs': 43, 'lambda_i': 0.000439648546317298, 'lambda_j': 0.0004265591254150361, 'learning_rate': 0.0140220251398268}. Best is trial 9 with value: 0.03339036938931508.\n"
     ]
    },
    {
     "name": "stdout",
     "output_type": "stream",
     "text": [
      "Epoch 1, Iteration 35736 in 10.46 seconds. Samples per second 3415.92\n",
      "Epoch 2, Iteration 35736 in 7.44 seconds. Samples per second 4803.10\n",
      "Epoch 3, Iteration 35736 in 6.06 seconds. Samples per second 5901.00\n",
      "Epoch 4, Iteration 35736 in 5.11 seconds. Samples per second 6995.52\n",
      "Epoch 5, Iteration 35736 in 4.55 seconds. Samples per second 7858.04\n",
      "Epoch 6, Iteration 35736 in 4.16 seconds. Samples per second 8595.36\n",
      "Epoch 7, Iteration 35736 in 4.10 seconds. Samples per second 8710.14\n",
      "Epoch 8, Iteration 35736 in 3.82 seconds. Samples per second 9345.48\n",
      "Epoch 9, Iteration 35736 in 3.49 seconds. Samples per second 10225.90\n",
      "Epoch 10, Iteration 35736 in 3.46 seconds. Samples per second 10338.39\n",
      "Epoch 11, Iteration 35736 in 3.32 seconds. Samples per second 10771.04\n",
      "Epoch 12, Iteration 35736 in 3.33 seconds. Samples per second 10723.93\n",
      "Epoch 13, Iteration 35736 in 3.43 seconds. Samples per second 10423.52\n",
      "Epoch 14, Iteration 35736 in 3.45 seconds. Samples per second 10348.06\n",
      "Epoch 15, Iteration 35736 in 3.40 seconds. Samples per second 10517.76\n",
      "Epoch 16, Iteration 35736 in 3.37 seconds. Samples per second 10607.93\n",
      "Epoch 17, Iteration 35736 in 3.30 seconds. Samples per second 10826.23\n",
      "Epoch 18, Iteration 35736 in 3.30 seconds. Samples per second 10819.14\n",
      "Epoch 19, Iteration 35736 in 3.18 seconds. Samples per second 11248.57\n",
      "Epoch 20, Iteration 35736 in 3.12 seconds. Samples per second 11468.90\n",
      "Epoch 21, Iteration 35736 in 3.10 seconds. Samples per second 11543.73\n",
      "Epoch 22, Iteration 35736 in 3.21 seconds. Samples per second 11140.06\n",
      "Epoch 23, Iteration 35736 in 3.10 seconds. Samples per second 11535.12\n",
      "Epoch 24, Iteration 35736 in 3.10 seconds. Samples per second 11531.56\n",
      "Epoch 25, Iteration 35736 in 3.15 seconds. Samples per second 11329.32\n",
      "Epoch 26, Iteration 35736 in 3.18 seconds. Samples per second 11228.17\n",
      "Epoch 27, Iteration 35736 in 3.06 seconds. Samples per second 11668.81\n",
      "Epoch 28, Iteration 35736 in 3.05 seconds. Samples per second 11699.88\n",
      "Epoch 29, Iteration 35736 in 3.06 seconds. Samples per second 11673.47\n",
      "Epoch 30, Iteration 35736 in 3.05 seconds. Samples per second 11704.01\n",
      "Train completed in 1.95 minutes\n",
      "EvaluatorHoldout: Processed 35595 (100.0%) in 42.78 sec. Users per second: 832\n"
     ]
    },
    {
     "name": "stderr",
     "output_type": "stream",
     "text": [
      "[I 2024-12-16 01:02:44,831] Trial 17 finished with value: 0.03371269038588782 and parameters: {'topK': 111, 'epochs': 30, 'lambda_i': 4.829122612843355e-05, 'lambda_j': 0.003412814791161318, 'learning_rate': 0.03797903592668721}. Best is trial 17 with value: 0.03371269038588782.\n"
     ]
    },
    {
     "name": "stdout",
     "output_type": "stream",
     "text": [
      "Epoch 1, Iteration 35736 in 10.29 seconds. Samples per second 3473.79\n",
      "Epoch 2, Iteration 35736 in 7.65 seconds. Samples per second 4673.10\n",
      "Epoch 3, Iteration 35736 in 6.04 seconds. Samples per second 5916.04\n",
      "Epoch 4, Iteration 35736 in 5.35 seconds. Samples per second 6682.73\n",
      "Epoch 5, Iteration 35736 in 4.57 seconds. Samples per second 7813.40\n",
      "Epoch 6, Iteration 35736 in 4.28 seconds. Samples per second 8344.55\n",
      "Epoch 7, Iteration 35736 in 3.78 seconds. Samples per second 9456.73\n",
      "Epoch 8, Iteration 35736 in 3.74 seconds. Samples per second 9545.30\n",
      "Epoch 9, Iteration 35736 in 3.56 seconds. Samples per second 10031.35\n",
      "Epoch 10, Iteration 35736 in 3.41 seconds. Samples per second 10474.27\n",
      "Epoch 11, Iteration 35736 in 3.41 seconds. Samples per second 10482.92\n",
      "Epoch 12, Iteration 35736 in 3.25 seconds. Samples per second 10982.43\n",
      "Epoch 13, Iteration 35736 in 3.34 seconds. Samples per second 10691.41\n",
      "Epoch 14, Iteration 35736 in 3.23 seconds. Samples per second 11072.91\n",
      "Epoch 15, Iteration 35736 in 3.21 seconds. Samples per second 11139.40\n",
      "Epoch 16, Iteration 35736 in 3.17 seconds. Samples per second 11267.84\n",
      "Epoch 17, Iteration 35736 in 3.27 seconds. Samples per second 10916.46\n",
      "Epoch 18, Iteration 35736 in 3.11 seconds. Samples per second 11485.79\n",
      "Epoch 19, Iteration 35736 in 3.18 seconds. Samples per second 11230.90\n",
      "Epoch 20, Iteration 35736 in 3.12 seconds. Samples per second 11443.79\n",
      "Epoch 21, Iteration 35736 in 3.10 seconds. Samples per second 11543.83\n",
      "Epoch 22, Iteration 35736 in 3.10 seconds. Samples per second 11539.55\n",
      "Epoch 23, Iteration 35736 in 3.24 seconds. Samples per second 11034.35\n",
      "Epoch 24, Iteration 35736 in 3.09 seconds. Samples per second 11577.69\n",
      "Epoch 25, Iteration 35736 in 3.10 seconds. Samples per second 11535.19\n",
      "Epoch 26, Iteration 35736 in 3.12 seconds. Samples per second 11456.37\n",
      "Epoch 27, Iteration 35736 in 3.12 seconds. Samples per second 11456.48\n",
      "Epoch 28, Iteration 35736 in 3.08 seconds. Samples per second 11599.82\n",
      "Epoch 29, Iteration 35736 in 3.04 seconds. Samples per second 11760.36\n",
      "Train completed in 1.88 minutes\n",
      "EvaluatorHoldout: Processed 35595 (100.0%) in 40.78 sec. Users per second: 873\n"
     ]
    },
    {
     "name": "stderr",
     "output_type": "stream",
     "text": [
      "[I 2024-12-16 01:07:29,448] Trial 18 finished with value: 0.031029004653319144 and parameters: {'topK': 70, 'epochs': 29, 'lambda_i': 4.890634433930862e-05, 'lambda_j': 0.005591604785622062, 'learning_rate': 0.00011379105707438704}. Best is trial 17 with value: 0.03371269038588782.\n"
     ]
    },
    {
     "name": "stdout",
     "output_type": "stream",
     "text": [
      "Epoch 1, Iteration 35736 in 10.36 seconds. Samples per second 3450.61\n",
      "Epoch 2, Iteration 35736 in 7.51 seconds. Samples per second 4756.41\n",
      "Epoch 3, Iteration 35736 in 6.07 seconds. Samples per second 5882.58\n",
      "Epoch 4, Iteration 35736 in 5.17 seconds. Samples per second 6909.01\n",
      "Epoch 5, Iteration 35736 in 4.58 seconds. Samples per second 7795.25\n",
      "Epoch 6, Iteration 35736 in 4.08 seconds. Samples per second 8759.55\n",
      "Epoch 7, Iteration 35736 in 3.94 seconds. Samples per second 9075.92\n",
      "Epoch 8, Iteration 35736 in 3.62 seconds. Samples per second 9865.73\n",
      "Epoch 9, Iteration 35736 in 3.60 seconds. Samples per second 9913.96\n",
      "Epoch 10, Iteration 35736 in 3.47 seconds. Samples per second 10286.94\n",
      "Epoch 11, Iteration 35736 in 3.40 seconds. Samples per second 10504.35\n",
      "Epoch 12, Iteration 35736 in 3.24 seconds. Samples per second 11014.11\n",
      "Epoch 13, Iteration 35736 in 3.43 seconds. Samples per second 10405.79\n",
      "Epoch 14, Iteration 35736 in 3.20 seconds. Samples per second 11160.00\n",
      "Epoch 15, Iteration 35736 in 3.17 seconds. Samples per second 11279.39\n",
      "Epoch 16, Iteration 35736 in 3.29 seconds. Samples per second 10873.50\n",
      "Epoch 17, Iteration 35736 in 3.12 seconds. Samples per second 11462.23\n",
      "Epoch 18, Iteration 35736 in 3.12 seconds. Samples per second 11472.11\n",
      "Epoch 19, Iteration 35736 in 3.20 seconds. Samples per second 11163.76\n",
      "Epoch 20, Iteration 35736 in 3.17 seconds. Samples per second 11273.73\n",
      "Epoch 21, Iteration 35736 in 3.33 seconds. Samples per second 10727.64\n",
      "Epoch 22, Iteration 35736 in 3.27 seconds. Samples per second 10924.51\n",
      "Epoch 23, Iteration 35736 in 3.19 seconds. Samples per second 11212.33\n",
      "Epoch 24, Iteration 35736 in 3.17 seconds. Samples per second 11287.90\n",
      "Epoch 25, Iteration 35736 in 3.26 seconds. Samples per second 10969.28\n",
      "Epoch 26, Iteration 35736 in 3.08 seconds. Samples per second 11599.73\n",
      "Epoch 27, Iteration 35736 in 3.16 seconds. Samples per second 11292.70\n",
      "Epoch 28, Iteration 35736 in 3.10 seconds. Samples per second 11534.19\n",
      "Epoch 29, Iteration 35736 in 3.06 seconds. Samples per second 11680.97\n",
      "Epoch 30, Iteration 35736 in 3.08 seconds. Samples per second 11618.50\n",
      "Epoch 31, Iteration 35736 in 3.10 seconds. Samples per second 11534.03\n",
      "Epoch 32, Iteration 35736 in 3.10 seconds. Samples per second 11510.09\n",
      "Epoch 33, Iteration 35736 in 3.13 seconds. Samples per second 11425.35\n",
      "Train completed in 2.10 minutes\n",
      "EvaluatorHoldout: Processed 35595 (100.0%) in 45.44 sec. Users per second: 783\n"
     ]
    },
    {
     "name": "stderr",
     "output_type": "stream",
     "text": [
      "[I 2024-12-16 01:12:52,038] Trial 19 finished with value: 0.032913868989089184 and parameters: {'topK': 185, 'epochs': 33, 'lambda_i': 3.7645064608729184e-05, 'lambda_j': 0.002497113027518866, 'learning_rate': 0.042252043712366925}. Best is trial 17 with value: 0.03371269038588782.\n"
     ]
    },
    {
     "name": "stdout",
     "output_type": "stream",
     "text": [
      "Epoch 1, Iteration 35736 in 10.38 seconds. Samples per second 3443.31\n",
      "Epoch 2, Iteration 35736 in 7.62 seconds. Samples per second 4691.28\n",
      "Epoch 3, Iteration 35736 in 6.07 seconds. Samples per second 5886.84\n",
      "Epoch 4, Iteration 35736 in 5.22 seconds. Samples per second 6842.97\n",
      "Epoch 5, Iteration 35736 in 4.54 seconds. Samples per second 7869.18\n",
      "Epoch 6, Iteration 35736 in 4.28 seconds. Samples per second 8343.36\n",
      "Epoch 7, Iteration 35736 in 4.00 seconds. Samples per second 8925.09\n",
      "Epoch 8, Iteration 35736 in 3.73 seconds. Samples per second 9575.68\n",
      "Epoch 9, Iteration 35736 in 3.65 seconds. Samples per second 9782.23\n",
      "Epoch 10, Iteration 35736 in 3.56 seconds. Samples per second 10042.92\n",
      "Epoch 11, Iteration 35736 in 3.46 seconds. Samples per second 10327.22\n",
      "Epoch 12, Iteration 35736 in 3.39 seconds. Samples per second 10533.87\n",
      "Epoch 13, Iteration 35736 in 3.38 seconds. Samples per second 10582.00\n",
      "Epoch 14, Iteration 35736 in 3.38 seconds. Samples per second 10562.96\n",
      "Epoch 15, Iteration 35736 in 3.28 seconds. Samples per second 10883.81\n",
      "Epoch 16, Iteration 35736 in 3.14 seconds. Samples per second 11371.81\n",
      "Epoch 17, Iteration 35736 in 3.13 seconds. Samples per second 11417.58\n",
      "Epoch 18, Iteration 35736 in 3.17 seconds. Samples per second 11273.71\n",
      "Epoch 19, Iteration 35736 in 3.16 seconds. Samples per second 11307.42\n",
      "Epoch 20, Iteration 35736 in 3.30 seconds. Samples per second 10844.78\n",
      "Epoch 21, Iteration 35736 in 3.35 seconds. Samples per second 10674.15\n",
      "Epoch 22, Iteration 35736 in 3.16 seconds. Samples per second 11306.53\n",
      "Train completed in 1.54 minutes\n",
      "EvaluatorHoldout: Processed 35595 (100.0%) in 51.51 sec. Users per second: 691\n"
     ]
    },
    {
     "name": "stderr",
     "output_type": "stream",
     "text": [
      "[I 2024-12-16 01:17:44,033] Trial 20 finished with value: 0.03181138892790721 and parameters: {'topK': 274, 'epochs': 22, 'lambda_i': 0.00044854398007380806, 'lambda_j': 0.0004399882992116765, 'learning_rate': 0.09810732853849197}. Best is trial 17 with value: 0.03371269038588782.\n"
     ]
    },
    {
     "name": "stdout",
     "output_type": "stream",
     "text": [
      "Epoch 1, Iteration 35736 in 10.36 seconds. Samples per second 3450.69\n",
      "Epoch 2, Iteration 35736 in 7.69 seconds. Samples per second 4647.96\n",
      "Epoch 3, Iteration 35736 in 5.98 seconds. Samples per second 5972.50\n",
      "Epoch 4, Iteration 35736 in 5.06 seconds. Samples per second 7068.79\n",
      "Epoch 5, Iteration 35736 in 4.50 seconds. Samples per second 7949.16\n",
      "Epoch 6, Iteration 35736 in 4.19 seconds. Samples per second 8519.39\n",
      "Epoch 7, Iteration 35736 in 3.92 seconds. Samples per second 9107.34\n",
      "Epoch 8, Iteration 35736 in 3.83 seconds. Samples per second 9337.99\n",
      "Epoch 9, Iteration 35736 in 3.57 seconds. Samples per second 10021.42\n",
      "Epoch 10, Iteration 35736 in 3.43 seconds. Samples per second 10420.16\n",
      "Epoch 11, Iteration 35736 in 3.46 seconds. Samples per second 10341.30\n",
      "Epoch 12, Iteration 35736 in 3.33 seconds. Samples per second 10733.25\n",
      "Epoch 13, Iteration 35736 in 3.26 seconds. Samples per second 10951.98\n",
      "Epoch 14, Iteration 35736 in 3.35 seconds. Samples per second 10683.21\n",
      "Epoch 15, Iteration 35736 in 3.26 seconds. Samples per second 10957.47\n",
      "Epoch 16, Iteration 35736 in 3.35 seconds. Samples per second 10653.04\n",
      "Epoch 17, Iteration 35736 in 3.30 seconds. Samples per second 10830.35\n",
      "Epoch 18, Iteration 35736 in 3.29 seconds. Samples per second 10866.81\n",
      "Epoch 19, Iteration 35736 in 3.20 seconds. Samples per second 11166.28\n",
      "Epoch 20, Iteration 35736 in 3.17 seconds. Samples per second 11286.33\n",
      "Epoch 21, Iteration 35736 in 3.11 seconds. Samples per second 11492.35\n",
      "Epoch 22, Iteration 35736 in 3.07 seconds. Samples per second 11652.96\n",
      "Epoch 23, Iteration 35736 in 3.09 seconds. Samples per second 11558.79\n",
      "Epoch 24, Iteration 35736 in 3.15 seconds. Samples per second 11356.91\n",
      "Epoch 25, Iteration 35736 in 3.06 seconds. Samples per second 11666.66\n",
      "Epoch 26, Iteration 35736 in 3.05 seconds. Samples per second 11704.65\n",
      "Epoch 27, Iteration 35736 in 3.18 seconds. Samples per second 11253.08\n",
      "Epoch 28, Iteration 35736 in 3.22 seconds. Samples per second 11092.13\n",
      "Epoch 29, Iteration 35736 in 3.07 seconds. Samples per second 11646.09\n",
      "Epoch 30, Iteration 35736 in 3.07 seconds. Samples per second 11627.43\n",
      "Epoch 31, Iteration 35736 in 3.17 seconds. Samples per second 11284.73\n",
      "Epoch 32, Iteration 35736 in 3.00 seconds. Samples per second 11925.89\n",
      "Epoch 33, Iteration 35736 in 3.11 seconds. Samples per second 11507.00\n",
      "Epoch 34, Iteration 35736 in 3.03 seconds. Samples per second 11779.08\n",
      "Epoch 35, Iteration 35736 in 3.02 seconds. Samples per second 11829.86\n",
      "Train completed in 2.20 minutes\n",
      "EvaluatorHoldout: Processed 35595 (100.0%) in 46.87 sec. Users per second: 759\n"
     ]
    },
    {
     "name": "stderr",
     "output_type": "stream",
     "text": [
      "[I 2024-12-16 01:23:12,615] Trial 21 finished with value: 0.03260213780694075 and parameters: {'topK': 189, 'epochs': 35, 'lambda_i': 3.3217240926625625e-05, 'lambda_j': 0.0028127492851549546, 'learning_rate': 0.035432475554350605}. Best is trial 17 with value: 0.03371269038588782.\n"
     ]
    },
    {
     "name": "stdout",
     "output_type": "stream",
     "text": [
      "Epoch 1, Iteration 35736 in 10.35 seconds. Samples per second 3454.10\n",
      "Epoch 2, Iteration 35736 in 7.49 seconds. Samples per second 4774.21\n",
      "Epoch 3, Iteration 35736 in 5.96 seconds. Samples per second 5996.13\n",
      "Epoch 4, Iteration 35736 in 5.21 seconds. Samples per second 6858.20\n",
      "Epoch 5, Iteration 35736 in 4.60 seconds. Samples per second 7768.84\n",
      "Epoch 6, Iteration 35736 in 4.23 seconds. Samples per second 8447.87\n",
      "Epoch 7, Iteration 35736 in 4.00 seconds. Samples per second 8928.90\n",
      "Epoch 8, Iteration 35736 in 3.67 seconds. Samples per second 9727.50\n",
      "Epoch 9, Iteration 35736 in 3.52 seconds. Samples per second 10145.50\n",
      "Epoch 10, Iteration 35736 in 3.52 seconds. Samples per second 10149.87\n",
      "Epoch 11, Iteration 35736 in 3.34 seconds. Samples per second 10684.75\n",
      "Epoch 12, Iteration 35736 in 3.39 seconds. Samples per second 10535.42\n",
      "Epoch 13, Iteration 35736 in 3.31 seconds. Samples per second 10783.52\n",
      "Epoch 14, Iteration 35736 in 3.34 seconds. Samples per second 10685.08\n",
      "Epoch 15, Iteration 35736 in 3.29 seconds. Samples per second 10870.15\n",
      "Epoch 16, Iteration 35736 in 3.19 seconds. Samples per second 11193.32\n",
      "Epoch 17, Iteration 35736 in 3.13 seconds. Samples per second 11408.31\n",
      "Epoch 18, Iteration 35736 in 3.20 seconds. Samples per second 11155.95\n",
      "Epoch 19, Iteration 35736 in 3.15 seconds. Samples per second 11328.51\n",
      "Epoch 20, Iteration 35736 in 3.15 seconds. Samples per second 11345.35\n",
      "Epoch 21, Iteration 35736 in 3.34 seconds. Samples per second 10706.88\n",
      "Epoch 22, Iteration 35736 in 3.10 seconds. Samples per second 11514.49\n",
      "Epoch 23, Iteration 35736 in 3.18 seconds. Samples per second 11224.36\n",
      "Epoch 24, Iteration 35736 in 3.26 seconds. Samples per second 10950.42\n",
      "Epoch 25, Iteration 35736 in 3.21 seconds. Samples per second 11128.94\n",
      "Epoch 26, Iteration 35736 in 3.21 seconds. Samples per second 11149.11\n",
      "Epoch 27, Iteration 35736 in 3.40 seconds. Samples per second 10512.92\n",
      "Epoch 28, Iteration 35736 in 3.17 seconds. Samples per second 11273.87\n",
      "Epoch 29, Iteration 35736 in 3.23 seconds. Samples per second 11075.08\n",
      "Epoch 30, Iteration 35736 in 3.16 seconds. Samples per second 11294.28\n",
      "Train completed in 1.96 minutes\n",
      "EvaluatorHoldout: Processed 35595 (100.0%) in 42.52 sec. Users per second: 837\n"
     ]
    },
    {
     "name": "stderr",
     "output_type": "stream",
     "text": [
      "[I 2024-12-16 01:28:20,562] Trial 22 finished with value: 0.03385395443001734 and parameters: {'topK': 115, 'epochs': 30, 'lambda_i': 3.217336598834759e-05, 'lambda_j': 0.0007425463489002636, 'learning_rate': 0.04189566249895743}. Best is trial 22 with value: 0.03385395443001734.\n"
     ]
    },
    {
     "name": "stdout",
     "output_type": "stream",
     "text": [
      "Epoch 1, Iteration 35736 in 10.49 seconds. Samples per second 3406.52\n",
      "Epoch 2, Iteration 35736 in 7.59 seconds. Samples per second 4708.41\n",
      "Epoch 3, Iteration 35736 in 6.22 seconds. Samples per second 5741.43\n",
      "Epoch 4, Iteration 35736 in 5.30 seconds. Samples per second 6742.17\n",
      "Epoch 5, Iteration 35736 in 4.72 seconds. Samples per second 7565.56\n",
      "Epoch 6, Iteration 35736 in 4.28 seconds. Samples per second 8342.32\n",
      "Epoch 7, Iteration 35736 in 4.05 seconds. Samples per second 8821.82\n",
      "Epoch 8, Iteration 35736 in 3.74 seconds. Samples per second 9563.19\n",
      "Epoch 9, Iteration 35736 in 3.61 seconds. Samples per second 9888.17\n",
      "Epoch 10, Iteration 35736 in 3.56 seconds. Samples per second 10032.17\n",
      "Epoch 11, Iteration 35736 in 3.44 seconds. Samples per second 10388.29\n",
      "Epoch 12, Iteration 35736 in 3.51 seconds. Samples per second 10169.13\n",
      "Epoch 13, Iteration 35736 in 3.39 seconds. Samples per second 10545.07\n",
      "Epoch 14, Iteration 35736 in 3.31 seconds. Samples per second 10795.42\n",
      "Epoch 15, Iteration 35736 in 3.30 seconds. Samples per second 10838.93\n",
      "Epoch 16, Iteration 35736 in 3.32 seconds. Samples per second 10769.76\n",
      "Epoch 17, Iteration 35736 in 3.28 seconds. Samples per second 10885.35\n",
      "Epoch 18, Iteration 35736 in 3.32 seconds. Samples per second 10773.62\n",
      "Epoch 19, Iteration 35736 in 3.21 seconds. Samples per second 11118.52\n",
      "Epoch 20, Iteration 35736 in 3.18 seconds. Samples per second 11231.65\n",
      "Epoch 21, Iteration 35736 in 3.23 seconds. Samples per second 11062.20\n",
      "Epoch 22, Iteration 35736 in 3.15 seconds. Samples per second 11327.98\n",
      "Epoch 23, Iteration 35736 in 3.13 seconds. Samples per second 11424.32\n",
      "Epoch 24, Iteration 35736 in 3.26 seconds. Samples per second 10968.50\n",
      "Epoch 25, Iteration 35736 in 3.16 seconds. Samples per second 11292.36\n",
      "Epoch 26, Iteration 35736 in 3.11 seconds. Samples per second 11486.99\n",
      "Train completed in 1.76 minutes\n",
      "EvaluatorHoldout: Processed 35595 (100.0%) in 43.18 sec. Users per second: 824\n"
     ]
    },
    {
     "name": "stderr",
     "output_type": "stream",
     "text": [
      "[I 2024-12-16 01:33:58,598] Trial 23 finished with value: 0.03246126061043761 and parameters: {'topK': 107, 'epochs': 26, 'lambda_i': 0.000162278886653307, 'lambda_j': 0.0009344035566876671, 'learning_rate': 0.02001063281357001}. Best is trial 22 with value: 0.03385395443001734.\n"
     ]
    },
    {
     "name": "stdout",
     "output_type": "stream",
     "text": [
      "Epoch 1, Iteration 35736 in 10.28 seconds. Samples per second 3474.83\n",
      "Epoch 2, Iteration 35736 in 7.42 seconds. Samples per second 4814.40\n",
      "Epoch 3, Iteration 35736 in 6.15 seconds. Samples per second 5812.40\n",
      "Epoch 4, Iteration 35736 in 5.12 seconds. Samples per second 6978.23\n",
      "Epoch 5, Iteration 35736 in 4.62 seconds. Samples per second 7736.75\n",
      "Epoch 6, Iteration 35736 in 4.11 seconds. Samples per second 8696.22\n",
      "Epoch 7, Iteration 35736 in 4.01 seconds. Samples per second 8911.76\n",
      "Epoch 8, Iteration 35736 in 3.73 seconds. Samples per second 9575.61\n",
      "Epoch 9, Iteration 35736 in 3.67 seconds. Samples per second 9739.25\n",
      "Epoch 10, Iteration 35736 in 3.48 seconds. Samples per second 10265.59\n",
      "Epoch 11, Iteration 35736 in 3.40 seconds. Samples per second 10511.58\n",
      "Epoch 12, Iteration 35736 in 3.34 seconds. Samples per second 10702.66\n",
      "Epoch 13, Iteration 35736 in 4.25 seconds. Samples per second 8412.49\n",
      "Epoch 14, Iteration 35736 in 3.30 seconds. Samples per second 10840.92\n",
      "Epoch 15, Iteration 35736 in 3.20 seconds. Samples per second 11168.09\n",
      "Epoch 16, Iteration 35736 in 3.26 seconds. Samples per second 10961.86\n",
      "Train completed in 1.22 minutes\n",
      "EvaluatorHoldout: Processed 35595 (100.0%) in 37.26 sec. Users per second: 955\n"
     ]
    },
    {
     "name": "stderr",
     "output_type": "stream",
     "text": [
      "[I 2024-12-16 01:38:07,865] Trial 24 finished with value: 0.03484153740158667 and parameters: {'topK': 32, 'epochs': 16, 'lambda_i': 2.5763699217751394e-05, 'lambda_j': 0.024258315967384793, 'learning_rate': 0.06088747225137052}. Best is trial 24 with value: 0.03484153740158667.\n"
     ]
    },
    {
     "name": "stdout",
     "output_type": "stream",
     "text": [
      "Epoch 1, Iteration 35736 in 10.35 seconds. Samples per second 3453.93\n",
      "Epoch 2, Iteration 35736 in 7.44 seconds. Samples per second 4803.40\n",
      "Epoch 3, Iteration 35736 in 6.01 seconds. Samples per second 5944.37\n",
      "Epoch 4, Iteration 35736 in 5.10 seconds. Samples per second 7003.06\n",
      "Epoch 5, Iteration 35736 in 4.65 seconds. Samples per second 7680.62\n",
      "Epoch 6, Iteration 35736 in 4.19 seconds. Samples per second 8525.45\n",
      "Epoch 7, Iteration 35736 in 3.92 seconds. Samples per second 9117.14\n",
      "Epoch 8, Iteration 35736 in 3.74 seconds. Samples per second 9550.70\n",
      "Epoch 9, Iteration 35736 in 3.60 seconds. Samples per second 9914.82\n",
      "Epoch 10, Iteration 35736 in 3.65 seconds. Samples per second 9782.13\n",
      "Epoch 11, Iteration 35736 in 3.56 seconds. Samples per second 10025.94\n",
      "Epoch 12, Iteration 35736 in 3.42 seconds. Samples per second 10448.32\n",
      "Epoch 13, Iteration 35736 in 3.28 seconds. Samples per second 10906.43\n",
      "Epoch 14, Iteration 35736 in 3.21 seconds. Samples per second 11131.55\n",
      "Train completed in 1.10 minutes\n",
      "EvaluatorHoldout: Processed 35595 (100.0%) in 36.53 sec. Users per second: 975\n"
     ]
    },
    {
     "name": "stderr",
     "output_type": "stream",
     "text": [
      "[I 2024-12-16 01:41:53,058] Trial 25 finished with value: 0.034398009351231947 and parameters: {'topK': 25, 'epochs': 14, 'lambda_i': 7.057580758737795e-05, 'lambda_j': 0.021285849586786733, 'learning_rate': 0.07266962754929795}. Best is trial 24 with value: 0.03484153740158667.\n"
     ]
    },
    {
     "name": "stdout",
     "output_type": "stream",
     "text": [
      "Epoch 1, Iteration 35736 in 10.34 seconds. Samples per second 3456.75\n",
      "Epoch 2, Iteration 35736 in 7.45 seconds. Samples per second 4793.65\n",
      "Epoch 3, Iteration 35736 in 5.90 seconds. Samples per second 6058.99\n",
      "Epoch 4, Iteration 35736 in 5.12 seconds. Samples per second 6980.42\n",
      "Epoch 5, Iteration 35736 in 4.54 seconds. Samples per second 7868.66\n",
      "Epoch 6, Iteration 35736 in 4.20 seconds. Samples per second 8513.06\n",
      "Epoch 7, Iteration 35736 in 3.84 seconds. Samples per second 9310.58\n",
      "Epoch 8, Iteration 35736 in 3.60 seconds. Samples per second 9936.42\n",
      "Epoch 9, Iteration 35736 in 3.56 seconds. Samples per second 10036.05\n",
      "Epoch 10, Iteration 35736 in 3.44 seconds. Samples per second 10390.72\n",
      "Epoch 11, Iteration 35736 in 3.35 seconds. Samples per second 10666.16\n",
      "Epoch 12, Iteration 35736 in 3.38 seconds. Samples per second 10565.87\n",
      "Epoch 13, Iteration 35736 in 3.26 seconds. Samples per second 10965.40\n",
      "Train completed in 1.03 minutes\n",
      "EvaluatorHoldout: Processed 35595 (100.0%) in 35.77 sec. Users per second: 995\n"
     ]
    },
    {
     "name": "stderr",
     "output_type": "stream",
     "text": [
      "[I 2024-12-16 01:45:25,456] Trial 26 finished with value: 0.033597387496459324 and parameters: {'topK': 33, 'epochs': 13, 'lambda_i': 1.849965650706103e-05, 'lambda_j': 0.021903182052631955, 'learning_rate': 0.0703386600524918}. Best is trial 24 with value: 0.03484153740158667.\n"
     ]
    },
    {
     "name": "stdout",
     "output_type": "stream",
     "text": [
      "Epoch 1, Iteration 35736 in 10.05 seconds. Samples per second 3555.35\n",
      "Epoch 2, Iteration 35736 in 7.45 seconds. Samples per second 4796.70\n",
      "Epoch 3, Iteration 35736 in 5.82 seconds. Samples per second 6140.84\n",
      "Epoch 4, Iteration 35736 in 5.18 seconds. Samples per second 6897.12\n",
      "Epoch 5, Iteration 35736 in 4.47 seconds. Samples per second 7995.47\n",
      "Train completed in 0.55 minutes\n",
      "EvaluatorHoldout: Processed 35595 (100.0%) in 34.73 sec. Users per second: 1025\n"
     ]
    },
    {
     "name": "stderr",
     "output_type": "stream",
     "text": [
      "[I 2024-12-16 01:48:20,967] Trial 27 finished with value: 0.027189254331689564 and parameters: {'topK': 24, 'epochs': 5, 'lambda_i': 0.00017861552066633348, 'lambda_j': 0.02247650356388962, 'learning_rate': 0.02105853305699319}. Best is trial 24 with value: 0.03484153740158667.\n"
     ]
    },
    {
     "name": "stdout",
     "output_type": "stream",
     "text": [
      "Epoch 1, Iteration 35736 in 10.16 seconds. Samples per second 3516.43\n",
      "Epoch 2, Iteration 35736 in 7.34 seconds. Samples per second 4866.37\n",
      "Epoch 3, Iteration 35736 in 5.89 seconds. Samples per second 6071.53\n",
      "Epoch 4, Iteration 35736 in 5.05 seconds. Samples per second 7075.07\n",
      "Epoch 5, Iteration 35736 in 4.47 seconds. Samples per second 7988.81\n",
      "Epoch 6, Iteration 35736 in 4.15 seconds. Samples per second 8616.28\n",
      "Epoch 7, Iteration 35736 in 4.07 seconds. Samples per second 8776.98\n",
      "Epoch 8, Iteration 35736 in 3.69 seconds. Samples per second 9691.81\n",
      "Epoch 9, Iteration 35736 in 3.51 seconds. Samples per second 10178.01\n",
      "Epoch 10, Iteration 35736 in 3.40 seconds. Samples per second 10508.58\n",
      "Epoch 11, Iteration 35736 in 3.36 seconds. Samples per second 10629.40\n",
      "Epoch 12, Iteration 35736 in 3.26 seconds. Samples per second 10967.49\n",
      "Epoch 13, Iteration 35736 in 3.22 seconds. Samples per second 11100.05\n",
      "Epoch 14, Iteration 35736 in 3.29 seconds. Samples per second 10860.10\n",
      "Train completed in 1.08 minutes\n",
      "EvaluatorHoldout: Processed 35595 (100.0%) in 39.97 sec. Users per second: 891\n"
     ]
    },
    {
     "name": "stderr",
     "output_type": "stream",
     "text": [
      "[I 2024-12-16 01:52:02,220] Trial 28 finished with value: 0.029875895490938956 and parameters: {'topK': 86, 'epochs': 14, 'lambda_i': 7.52806374989938e-05, 'lambda_j': 0.013114491704476969, 'learning_rate': 0.004067913878239503}. Best is trial 24 with value: 0.03484153740158667.\n"
     ]
    },
    {
     "name": "stdout",
     "output_type": "stream",
     "text": [
      "Epoch 1, Iteration 35736 in 10.12 seconds. Samples per second 3531.36\n",
      "Epoch 2, Iteration 35736 in 7.23 seconds. Samples per second 4944.01\n",
      "Epoch 3, Iteration 35736 in 5.78 seconds. Samples per second 6181.47\n",
      "Epoch 4, Iteration 35736 in 5.05 seconds. Samples per second 7082.15\n",
      "Epoch 5, Iteration 35736 in 4.47 seconds. Samples per second 7995.79\n",
      "Epoch 6, Iteration 35736 in 4.26 seconds. Samples per second 8380.89\n",
      "Epoch 7, Iteration 35736 in 3.88 seconds. Samples per second 9206.53\n",
      "Epoch 8, Iteration 35736 in 3.68 seconds. Samples per second 9722.06\n",
      "Epoch 9, Iteration 35736 in 3.59 seconds. Samples per second 9943.54\n",
      "Epoch 10, Iteration 35736 in 3.46 seconds. Samples per second 10326.82\n",
      "Epoch 11, Iteration 35736 in 3.39 seconds. Samples per second 10552.68\n",
      "Epoch 12, Iteration 35736 in 3.33 seconds. Samples per second 10729.96\n",
      "Epoch 13, Iteration 35736 in 3.31 seconds. Samples per second 10807.31\n",
      "Epoch 14, Iteration 35736 in 3.24 seconds. Samples per second 11041.40\n",
      "Epoch 15, Iteration 35736 in 3.30 seconds. Samples per second 10816.22\n",
      "Epoch 16, Iteration 35736 in 3.23 seconds. Samples per second 11059.94\n",
      "Epoch 17, Iteration 35736 in 3.05 seconds. Samples per second 11725.64\n",
      "Epoch 18, Iteration 35736 in 3.10 seconds. Samples per second 11513.91\n",
      "Epoch 19, Iteration 35736 in 3.03 seconds. Samples per second 11803.10\n",
      "Epoch 20, Iteration 35736 in 3.02 seconds. Samples per second 11819.85\n",
      "Epoch 21, Iteration 35736 in 3.07 seconds. Samples per second 11648.45\n",
      "Epoch 22, Iteration 35736 in 3.03 seconds. Samples per second 11782.72\n",
      "Epoch 23, Iteration 35736 in 2.98 seconds. Samples per second 11982.16\n",
      "Epoch 24, Iteration 35736 in 3.01 seconds. Samples per second 11856.54\n",
      "Train completed in 1.59 minutes\n",
      "EvaluatorHoldout: Processed 35595 (100.0%) in 36.72 sec. Users per second: 969\n"
     ]
    },
    {
     "name": "stderr",
     "output_type": "stream",
     "text": [
      "[I 2024-12-16 01:56:10,949] Trial 29 finished with value: 0.03555098361861841 and parameters: {'topK': 44, 'epochs': 24, 'lambda_i': 0.0007514562788570996, 'lambda_j': 0.0001758518635970779, 'learning_rate': 0.0660198704995835}. Best is trial 29 with value: 0.03555098361861841.\n"
     ]
    },
    {
     "name": "stdout",
     "output_type": "stream",
     "text": [
      "Epoch 1, Iteration 35736 in 10.18 seconds. Samples per second 3510.70\n",
      "Epoch 2, Iteration 35736 in 7.42 seconds. Samples per second 4815.51\n",
      "Epoch 3, Iteration 35736 in 5.86 seconds. Samples per second 6101.38\n",
      "Epoch 4, Iteration 35736 in 5.16 seconds. Samples per second 6919.66\n",
      "Epoch 5, Iteration 35736 in 4.53 seconds. Samples per second 7882.31\n",
      "Epoch 6, Iteration 35736 in 4.07 seconds. Samples per second 8776.82\n",
      "Epoch 7, Iteration 35736 in 3.95 seconds. Samples per second 9053.89\n",
      "Epoch 8, Iteration 35736 in 3.75 seconds. Samples per second 9541.61\n",
      "Epoch 9, Iteration 35736 in 3.56 seconds. Samples per second 10031.57\n",
      "Epoch 10, Iteration 35736 in 3.51 seconds. Samples per second 10171.71\n",
      "Epoch 11, Iteration 35736 in 3.35 seconds. Samples per second 10658.73\n",
      "Epoch 12, Iteration 35736 in 3.27 seconds. Samples per second 10931.12\n",
      "Epoch 13, Iteration 35736 in 3.17 seconds. Samples per second 11257.60\n",
      "Epoch 14, Iteration 35736 in 3.23 seconds. Samples per second 11050.70\n",
      "Epoch 15, Iteration 35736 in 3.24 seconds. Samples per second 11033.24\n",
      "Epoch 16, Iteration 35736 in 3.16 seconds. Samples per second 11307.46\n",
      "Epoch 17, Iteration 35736 in 3.17 seconds. Samples per second 11272.46\n",
      "Epoch 18, Iteration 35736 in 3.03 seconds. Samples per second 11793.04\n",
      "Epoch 19, Iteration 35736 in 3.10 seconds. Samples per second 11523.98\n",
      "Epoch 20, Iteration 35736 in 3.07 seconds. Samples per second 11650.62\n",
      "Epoch 21, Iteration 35736 in 3.00 seconds. Samples per second 11919.39\n",
      "Epoch 22, Iteration 35736 in 3.07 seconds. Samples per second 11629.23\n",
      "Epoch 23, Iteration 35736 in 3.01 seconds. Samples per second 11887.62\n",
      "Train completed in 1.55 minutes\n",
      "EvaluatorHoldout: Processed 35595 (100.0%) in 36.24 sec. Users per second: 982\n"
     ]
    },
    {
     "name": "stderr",
     "output_type": "stream",
     "text": [
      "[I 2024-12-16 02:00:16,498] Trial 30 finished with value: 0.035826071300364186 and parameters: {'topK': 41, 'epochs': 23, 'lambda_i': 0.0011234127117125008, 'lambda_j': 0.00017884867877739497, 'learning_rate': 0.07022477476570041}. Best is trial 30 with value: 0.035826071300364186.\n"
     ]
    },
    {
     "name": "stdout",
     "output_type": "stream",
     "text": [
      "Epoch 1, Iteration 35736 in 10.14 seconds. Samples per second 3525.78\n",
      "Epoch 2, Iteration 35736 in 7.44 seconds. Samples per second 4800.55\n",
      "Epoch 3, Iteration 35736 in 5.89 seconds. Samples per second 6067.38\n",
      "Epoch 4, Iteration 35736 in 5.01 seconds. Samples per second 7139.81\n",
      "Epoch 5, Iteration 35736 in 4.69 seconds. Samples per second 7623.29\n",
      "Epoch 6, Iteration 35736 in 4.13 seconds. Samples per second 8647.41\n",
      "Epoch 7, Iteration 35736 in 3.90 seconds. Samples per second 9162.26\n",
      "Epoch 8, Iteration 35736 in 3.70 seconds. Samples per second 9646.26\n",
      "Epoch 9, Iteration 35736 in 3.75 seconds. Samples per second 9536.36\n",
      "Epoch 10, Iteration 35736 in 3.52 seconds. Samples per second 10147.56\n",
      "Epoch 11, Iteration 35736 in 3.40 seconds. Samples per second 10511.85\n",
      "Epoch 12, Iteration 35736 in 3.25 seconds. Samples per second 10993.27\n",
      "Epoch 13, Iteration 35736 in 3.33 seconds. Samples per second 10730.10\n",
      "Epoch 14, Iteration 35736 in 3.20 seconds. Samples per second 11165.52\n",
      "Epoch 15, Iteration 35736 in 3.24 seconds. Samples per second 11029.81\n",
      "Epoch 16, Iteration 35736 in 3.17 seconds. Samples per second 11290.11\n",
      "Epoch 17, Iteration 35736 in 3.29 seconds. Samples per second 10867.78\n",
      "Epoch 18, Iteration 35736 in 3.40 seconds. Samples per second 10507.86\n",
      "Epoch 19, Iteration 35736 in 3.10 seconds. Samples per second 11519.74\n",
      "Epoch 20, Iteration 35736 in 3.07 seconds. Samples per second 11633.09\n",
      "Epoch 21, Iteration 35736 in 3.07 seconds. Samples per second 11651.30\n",
      "Epoch 22, Iteration 35736 in 3.02 seconds. Samples per second 11833.86\n",
      "Train completed in 1.51 minutes\n",
      "EvaluatorHoldout: Processed 35595 (100.0%) in 26.11 sec. Users per second: 1363\n"
     ]
    },
    {
     "name": "stderr",
     "output_type": "stream",
     "text": [
      "[I 2024-12-16 02:04:16,157] Trial 31 finished with value: 0.00028209999175022335 and parameters: {'topK': 0, 'epochs': 22, 'lambda_i': 0.0006117110610975231, 'lambda_j': 0.00010735983908283788, 'learning_rate': 0.06614419638774217}. Best is trial 30 with value: 0.035826071300364186.\n"
     ]
    },
    {
     "name": "stdout",
     "output_type": "stream",
     "text": [
      "Epoch 1, Iteration 35736 in 10.33 seconds. Samples per second 3458.01\n",
      "Epoch 2, Iteration 35736 in 7.47 seconds. Samples per second 4786.16\n",
      "Epoch 3, Iteration 35736 in 6.13 seconds. Samples per second 5828.59\n",
      "Epoch 4, Iteration 35736 in 5.18 seconds. Samples per second 6897.07\n",
      "Epoch 5, Iteration 35736 in 4.62 seconds. Samples per second 7728.21\n",
      "Epoch 6, Iteration 35736 in 4.19 seconds. Samples per second 8524.33\n",
      "Epoch 7, Iteration 35736 in 4.05 seconds. Samples per second 8821.04\n",
      "Epoch 8, Iteration 35736 in 3.83 seconds. Samples per second 9336.92\n",
      "Epoch 9, Iteration 35736 in 3.50 seconds. Samples per second 10212.78\n",
      "Epoch 10, Iteration 35736 in 3.39 seconds. Samples per second 10531.48\n",
      "Epoch 11, Iteration 35736 in 3.41 seconds. Samples per second 10476.05\n",
      "Epoch 12, Iteration 35736 in 3.23 seconds. Samples per second 11054.99\n",
      "Epoch 13, Iteration 35736 in 3.26 seconds. Samples per second 10946.66\n",
      "Epoch 14, Iteration 35736 in 3.28 seconds. Samples per second 10887.42\n",
      "Epoch 15, Iteration 35736 in 3.17 seconds. Samples per second 11255.63\n",
      "Epoch 16, Iteration 35736 in 3.16 seconds. Samples per second 11319.98\n",
      "Epoch 17, Iteration 35736 in 3.12 seconds. Samples per second 11470.73\n",
      "Epoch 18, Iteration 35736 in 3.13 seconds. Samples per second 11427.38\n",
      "Train completed in 1.31 minutes\n",
      "EvaluatorHoldout: Processed 35595 (100.0%) in 38.17 sec. Users per second: 932\n"
     ]
    },
    {
     "name": "stderr",
     "output_type": "stream",
     "text": [
      "[I 2024-12-16 02:08:19,844] Trial 32 finished with value: 0.03296535985747857 and parameters: {'topK': 44, 'epochs': 18, 'lambda_i': 0.0011403746550794785, 'lambda_j': 0.00016234084952320444, 'learning_rate': 0.0241760731663195}. Best is trial 30 with value: 0.035826071300364186.\n"
     ]
    },
    {
     "name": "stdout",
     "output_type": "stream",
     "text": [
      "Epoch 1, Iteration 35736 in 10.55 seconds. Samples per second 3386.30\n",
      "Epoch 2, Iteration 35736 in 7.43 seconds. Samples per second 4809.57\n",
      "Epoch 3, Iteration 35736 in 5.98 seconds. Samples per second 5979.72\n",
      "Epoch 4, Iteration 35736 in 5.14 seconds. Samples per second 6947.46\n",
      "Epoch 5, Iteration 35736 in 4.71 seconds. Samples per second 7586.86\n",
      "Epoch 6, Iteration 35736 in 4.23 seconds. Samples per second 8454.41\n",
      "Epoch 7, Iteration 35736 in 4.01 seconds. Samples per second 8920.27\n",
      "Epoch 8, Iteration 35736 in 3.73 seconds. Samples per second 9572.92\n",
      "Epoch 9, Iteration 35736 in 3.70 seconds. Samples per second 9662.46\n",
      "Epoch 10, Iteration 35736 in 3.44 seconds. Samples per second 10377.21\n",
      "Epoch 11, Iteration 35736 in 3.42 seconds. Samples per second 10461.97\n",
      "Train completed in 0.94 minutes\n",
      "EvaluatorHoldout: Processed 35595 (100.0%) in 36.77 sec. Users per second: 968\n"
     ]
    },
    {
     "name": "stderr",
     "output_type": "stream",
     "text": [
      "[I 2024-12-16 02:11:53,575] Trial 33 finished with value: 0.03247833876257717 and parameters: {'topK': 45, 'epochs': 11, 'lambda_i': 0.0030301041695698534, 'lambda_j': 0.00019748913907143852, 'learning_rate': 0.06932123157408317}. Best is trial 30 with value: 0.035826071300364186.\n"
     ]
    },
    {
     "name": "stdout",
     "output_type": "stream",
     "text": [
      "Epoch 1, Iteration 35736 in 10.11 seconds. Samples per second 3535.82\n",
      "Epoch 2, Iteration 35736 in 7.41 seconds. Samples per second 4824.08\n",
      "Epoch 3, Iteration 35736 in 5.86 seconds. Samples per second 6093.46\n",
      "Epoch 4, Iteration 35736 in 5.02 seconds. Samples per second 7113.67\n",
      "Epoch 5, Iteration 35736 in 4.45 seconds. Samples per second 8031.39\n",
      "Epoch 6, Iteration 35736 in 4.08 seconds. Samples per second 8768.18\n",
      "Epoch 7, Iteration 35736 in 3.77 seconds. Samples per second 9472.53\n",
      "Epoch 8, Iteration 35736 in 3.59 seconds. Samples per second 9964.60\n",
      "Epoch 9, Iteration 35736 in 3.68 seconds. Samples per second 9710.61\n",
      "Epoch 10, Iteration 35736 in 3.40 seconds. Samples per second 10514.15\n",
      "Epoch 11, Iteration 35736 in 3.40 seconds. Samples per second 10508.16\n",
      "Epoch 12, Iteration 35736 in 3.32 seconds. Samples per second 10756.21\n",
      "Epoch 13, Iteration 35736 in 3.29 seconds. Samples per second 10855.05\n",
      "Epoch 14, Iteration 35736 in 3.22 seconds. Samples per second 11113.68\n",
      "Epoch 15, Iteration 35736 in 3.39 seconds. Samples per second 10544.80\n",
      "Epoch 16, Iteration 35736 in 3.16 seconds. Samples per second 11319.43\n",
      "Train completed in 1.19 minutes\n",
      "EvaluatorHoldout: Processed 35595 (100.0%) in 39.40 sec. Users per second: 903\n"
     ]
    },
    {
     "name": "stderr",
     "output_type": "stream",
     "text": [
      "[I 2024-12-16 02:15:44,258] Trial 34 finished with value: 0.03242984234008161 and parameters: {'topK': 86, 'epochs': 16, 'lambda_i': 0.0007419783426833341, 'lambda_j': 4.286015259366432e-05, 'learning_rate': 0.05777471616822958}. Best is trial 30 with value: 0.035826071300364186.\n"
     ]
    },
    {
     "name": "stdout",
     "output_type": "stream",
     "text": [
      "Epoch 1, Iteration 35736 in 10.23 seconds. Samples per second 3494.17\n",
      "Epoch 2, Iteration 35736 in 7.26 seconds. Samples per second 4922.70\n",
      "Epoch 3, Iteration 35736 in 5.90 seconds. Samples per second 6053.52\n",
      "Epoch 4, Iteration 35736 in 5.01 seconds. Samples per second 7138.24\n",
      "Epoch 5, Iteration 35736 in 4.45 seconds. Samples per second 8033.40\n",
      "Epoch 6, Iteration 35736 in 4.21 seconds. Samples per second 8478.83\n",
      "Epoch 7, Iteration 35736 in 3.86 seconds. Samples per second 9258.20\n",
      "Epoch 8, Iteration 35736 in 3.65 seconds. Samples per second 9783.71\n",
      "Epoch 9, Iteration 35736 in 3.52 seconds. Samples per second 10159.94\n",
      "Epoch 10, Iteration 35736 in 3.38 seconds. Samples per second 10583.44\n",
      "Epoch 11, Iteration 35736 in 3.31 seconds. Samples per second 10780.22\n",
      "Epoch 12, Iteration 35736 in 3.37 seconds. Samples per second 10590.88\n",
      "Epoch 13, Iteration 35736 in 3.30 seconds. Samples per second 10832.00\n",
      "Epoch 14, Iteration 35736 in 3.27 seconds. Samples per second 10928.44\n",
      "Epoch 15, Iteration 35736 in 3.39 seconds. Samples per second 10539.10\n",
      "Epoch 16, Iteration 35736 in 3.23 seconds. Samples per second 11060.23\n",
      "Epoch 17, Iteration 35736 in 3.14 seconds. Samples per second 11362.94\n",
      "Epoch 18, Iteration 35736 in 3.25 seconds. Samples per second 10981.81\n",
      "Epoch 19, Iteration 35736 in 3.22 seconds. Samples per second 11108.39\n",
      "Epoch 20, Iteration 35736 in 3.09 seconds. Samples per second 11578.11\n",
      "Epoch 21, Iteration 35736 in 3.21 seconds. Samples per second 11149.75\n",
      "Epoch 22, Iteration 35736 in 3.11 seconds. Samples per second 11496.72\n",
      "Epoch 23, Iteration 35736 in 3.12 seconds. Samples per second 11460.54\n",
      "Epoch 24, Iteration 35736 in 3.17 seconds. Samples per second 11277.09\n",
      "Train completed in 1.61 minutes\n",
      "EvaluatorHoldout: Processed 35595 (100.0%) in 36.00 sec. Users per second: 989\n"
     ]
    },
    {
     "name": "stderr",
     "output_type": "stream",
     "text": [
      "[I 2024-12-16 02:19:53,209] Trial 35 finished with value: 0.03313863414916836 and parameters: {'topK': 32, 'epochs': 24, 'lambda_i': 0.00022471705192281485, 'lambda_j': 0.00022429544987514452, 'learning_rate': 0.012807961217730902}. Best is trial 30 with value: 0.035826071300364186.\n"
     ]
    },
    {
     "name": "stdout",
     "output_type": "stream",
     "text": [
      "Epoch 1, Iteration 35736 in 10.24 seconds. Samples per second 3490.70\n",
      "Epoch 2, Iteration 35736 in 7.40 seconds. Samples per second 4826.86\n",
      "Epoch 3, Iteration 35736 in 5.88 seconds. Samples per second 6078.98\n",
      "Epoch 4, Iteration 35736 in 5.00 seconds. Samples per second 7142.09\n",
      "Epoch 5, Iteration 35736 in 4.54 seconds. Samples per second 7866.77\n",
      "Epoch 6, Iteration 35736 in 4.08 seconds. Samples per second 8763.23\n",
      "Epoch 7, Iteration 35736 in 3.90 seconds. Samples per second 9167.80\n",
      "Epoch 8, Iteration 35736 in 3.61 seconds. Samples per second 9909.14\n",
      "Epoch 9, Iteration 35736 in 3.59 seconds. Samples per second 9955.43\n",
      "Epoch 10, Iteration 35736 in 3.50 seconds. Samples per second 10221.39\n",
      "Epoch 11, Iteration 35736 in 3.40 seconds. Samples per second 10499.97\n",
      "Epoch 12, Iteration 35736 in 3.36 seconds. Samples per second 10648.88\n",
      "Epoch 13, Iteration 35736 in 3.36 seconds. Samples per second 10643.11\n",
      "Epoch 14, Iteration 35736 in 3.22 seconds. Samples per second 11102.69\n",
      "Epoch 15, Iteration 35736 in 3.27 seconds. Samples per second 10932.10\n",
      "Epoch 16, Iteration 35736 in 3.31 seconds. Samples per second 10803.64\n",
      "Epoch 17, Iteration 35736 in 3.20 seconds. Samples per second 11177.63\n",
      "Epoch 18, Iteration 35736 in 3.28 seconds. Samples per second 10910.21\n",
      "Train completed in 1.30 minutes\n",
      "EvaluatorHoldout: Processed 35595 (100.0%) in 42.29 sec. Users per second: 842\n"
     ]
    },
    {
     "name": "stderr",
     "output_type": "stream",
     "text": [
      "[I 2024-12-16 02:24:00,087] Trial 36 finished with value: 0.032822225120791367 and parameters: {'topK': 149, 'epochs': 18, 'lambda_i': 0.0018675700558920035, 'lambda_j': 8.133902649510333e-05, 'learning_rate': 0.09833842286582699}. Best is trial 30 with value: 0.035826071300364186.\n"
     ]
    },
    {
     "name": "stdout",
     "output_type": "stream",
     "text": [
      "Epoch 1, Iteration 35736 in 10.05 seconds. Samples per second 3555.40\n",
      "Epoch 2, Iteration 35736 in 7.43 seconds. Samples per second 4809.12\n",
      "Epoch 3, Iteration 35736 in 5.89 seconds. Samples per second 6063.22\n",
      "Epoch 4, Iteration 35736 in 5.06 seconds. Samples per second 7061.24\n",
      "Epoch 5, Iteration 35736 in 4.44 seconds. Samples per second 8046.24\n",
      "Epoch 6, Iteration 35736 in 4.01 seconds. Samples per second 8921.67\n",
      "Epoch 7, Iteration 35736 in 3.81 seconds. Samples per second 9383.46\n",
      "Epoch 8, Iteration 35736 in 3.64 seconds. Samples per second 9820.27\n",
      "Epoch 9, Iteration 35736 in 3.51 seconds. Samples per second 10169.52\n",
      "Epoch 10, Iteration 35736 in 3.50 seconds. Samples per second 10217.56\n",
      "Epoch 11, Iteration 35736 in 3.37 seconds. Samples per second 10600.52\n",
      "Epoch 12, Iteration 35736 in 3.33 seconds. Samples per second 10740.16\n",
      "Epoch 13, Iteration 35736 in 3.28 seconds. Samples per second 10896.56\n",
      "Epoch 14, Iteration 35736 in 3.21 seconds. Samples per second 11125.74\n",
      "Epoch 15, Iteration 35736 in 3.13 seconds. Samples per second 11402.47\n",
      "Epoch 16, Iteration 35736 in 3.33 seconds. Samples per second 10734.77\n",
      "Epoch 17, Iteration 35736 in 3.10 seconds. Samples per second 11513.30\n",
      "Epoch 18, Iteration 35736 in 3.13 seconds. Samples per second 11408.32\n",
      "Epoch 19, Iteration 35736 in 3.05 seconds. Samples per second 11712.54\n",
      "Epoch 20, Iteration 35736 in 3.00 seconds. Samples per second 11896.24\n",
      "Epoch 21, Iteration 35736 in 2.99 seconds. Samples per second 11943.31\n",
      "Epoch 22, Iteration 35736 in 3.16 seconds. Samples per second 11321.70\n",
      "Epoch 23, Iteration 35736 in 3.09 seconds. Samples per second 11569.69\n",
      "Epoch 24, Iteration 35736 in 3.17 seconds. Samples per second 11264.52\n",
      "Train completed in 1.60 minutes\n",
      "EvaluatorHoldout: Processed 35595 (100.0%) in 52.32 sec. Users per second: 680\n"
     ]
    },
    {
     "name": "stderr",
     "output_type": "stream",
     "text": [
      "[I 2024-12-16 02:28:43,903] Trial 37 finished with value: 0.030022434932674404 and parameters: {'topK': 367, 'epochs': 24, 'lambda_i': 0.013595630364115091, 'lambda_j': 0.03790234116645842, 'learning_rate': 0.027881517727795464}. Best is trial 30 with value: 0.035826071300364186.\n"
     ]
    },
    {
     "name": "stdout",
     "output_type": "stream",
     "text": [
      "Epoch 1, Iteration 35736 in 10.20 seconds. Samples per second 3503.58\n",
      "Epoch 2, Iteration 35736 in 7.38 seconds. Samples per second 4843.65\n",
      "Epoch 3, Iteration 35736 in 6.06 seconds. Samples per second 5901.50\n",
      "Epoch 4, Iteration 35736 in 5.18 seconds. Samples per second 6898.19\n",
      "Epoch 5, Iteration 35736 in 4.75 seconds. Samples per second 7518.16\n",
      "Epoch 6, Iteration 35736 in 4.11 seconds. Samples per second 8696.84\n",
      "Epoch 7, Iteration 35736 in 3.93 seconds. Samples per second 9083.25\n",
      "Epoch 8, Iteration 35736 in 3.80 seconds. Samples per second 9405.19\n",
      "Epoch 9, Iteration 35736 in 3.78 seconds. Samples per second 9463.03\n",
      "Epoch 10, Iteration 35736 in 3.41 seconds. Samples per second 10466.01\n",
      "Epoch 11, Iteration 35736 in 3.36 seconds. Samples per second 10630.31\n",
      "Epoch 12, Iteration 35736 in 3.47 seconds. Samples per second 10286.48\n",
      "Epoch 13, Iteration 35736 in 3.45 seconds. Samples per second 10346.07\n",
      "Epoch 14, Iteration 35736 in 3.24 seconds. Samples per second 11020.64\n",
      "Epoch 15, Iteration 35736 in 3.23 seconds. Samples per second 11068.51\n",
      "Epoch 16, Iteration 35736 in 3.15 seconds. Samples per second 11329.81\n",
      "Epoch 17, Iteration 35736 in 3.33 seconds. Samples per second 10736.26\n",
      "Epoch 18, Iteration 35736 in 3.19 seconds. Samples per second 11194.83\n",
      "Epoch 19, Iteration 35736 in 3.11 seconds. Samples per second 11487.60\n",
      "Epoch 20, Iteration 35736 in 3.41 seconds. Samples per second 10493.64\n",
      "Train completed in 1.43 minutes\n",
      "EvaluatorHoldout: Processed 35595 (100.0%) in 39.93 sec. Users per second: 891\n"
     ]
    },
    {
     "name": "stderr",
     "output_type": "stream",
     "text": [
      "[I 2024-12-16 02:32:47,668] Trial 38 finished with value: 0.033387577843328964 and parameters: {'topK': 91, 'epochs': 20, 'lambda_i': 9.013236186509335e-05, 'lambda_j': 5.796786517342137e-05, 'learning_rate': 0.053898298189713055}. Best is trial 30 with value: 0.035826071300364186.\n"
     ]
    },
    {
     "name": "stdout",
     "output_type": "stream",
     "text": [
      "Epoch 1, Iteration 35736 in 10.12 seconds. Samples per second 3530.46\n",
      "Epoch 2, Iteration 35736 in 7.38 seconds. Samples per second 4842.64\n",
      "Epoch 3, Iteration 35736 in 5.94 seconds. Samples per second 6018.98\n",
      "Epoch 4, Iteration 35736 in 4.98 seconds. Samples per second 7182.92\n",
      "Epoch 5, Iteration 35736 in 4.52 seconds. Samples per second 7910.56\n",
      "Epoch 6, Iteration 35736 in 4.16 seconds. Samples per second 8595.15\n",
      "Epoch 7, Iteration 35736 in 3.79 seconds. Samples per second 9434.33\n",
      "Epoch 8, Iteration 35736 in 3.62 seconds. Samples per second 9879.49\n",
      "Epoch 9, Iteration 35736 in 3.53 seconds. Samples per second 10128.31\n",
      "Epoch 10, Iteration 35736 in 3.53 seconds. Samples per second 10131.77\n",
      "Epoch 11, Iteration 35736 in 3.42 seconds. Samples per second 10442.29\n",
      "Epoch 12, Iteration 35736 in 3.33 seconds. Samples per second 10742.60\n",
      "Epoch 13, Iteration 35736 in 3.55 seconds. Samples per second 10062.25\n",
      "Epoch 14, Iteration 35736 in 3.35 seconds. Samples per second 10673.39\n",
      "Epoch 15, Iteration 35736 in 3.12 seconds. Samples per second 11463.22\n",
      "Epoch 16, Iteration 35736 in 3.39 seconds. Samples per second 10528.63\n",
      "Train completed in 1.20 minutes\n",
      "EvaluatorHoldout: Processed 35595 (100.0%) in 55.65 sec. Users per second: 640\n"
     ]
    },
    {
     "name": "stderr",
     "output_type": "stream",
     "text": [
      "[I 2024-12-16 02:37:13,711] Trial 39 finished with value: 0.02745918478830353 and parameters: {'topK': 475, 'epochs': 16, 'lambda_i': 0.0002464264748024451, 'lambda_j': 0.00766518476287147, 'learning_rate': 0.002255823522519117}. Best is trial 30 with value: 0.035826071300364186.\n"
     ]
    },
    {
     "name": "stdout",
     "output_type": "stream",
     "text": [
      "Epoch 1, Iteration 35736 in 10.08 seconds. Samples per second 3545.26\n",
      "Epoch 2, Iteration 35736 in 7.25 seconds. Samples per second 4925.98\n",
      "Epoch 3, Iteration 35736 in 5.77 seconds. Samples per second 6194.89\n",
      "Epoch 4, Iteration 35736 in 5.01 seconds. Samples per second 7127.01\n",
      "Epoch 5, Iteration 35736 in 4.53 seconds. Samples per second 7887.24\n",
      "Epoch 6, Iteration 35736 in 4.19 seconds. Samples per second 8538.62\n",
      "Epoch 7, Iteration 35736 in 3.92 seconds. Samples per second 9111.17\n",
      "Epoch 8, Iteration 35736 in 3.67 seconds. Samples per second 9745.13\n",
      "Epoch 9, Iteration 35736 in 3.49 seconds. Samples per second 10233.42\n",
      "Epoch 10, Iteration 35736 in 3.47 seconds. Samples per second 10289.01\n",
      "Epoch 11, Iteration 35736 in 3.25 seconds. Samples per second 11005.94\n",
      "Epoch 12, Iteration 35736 in 3.23 seconds. Samples per second 11066.04\n",
      "Epoch 13, Iteration 35736 in 3.19 seconds. Samples per second 11198.53\n",
      "Epoch 14, Iteration 35736 in 3.14 seconds. Samples per second 11395.70\n",
      "Epoch 15, Iteration 35736 in 3.17 seconds. Samples per second 11290.03\n",
      "Epoch 16, Iteration 35736 in 3.17 seconds. Samples per second 11279.15\n",
      "Epoch 17, Iteration 35736 in 3.17 seconds. Samples per second 11270.45\n",
      "Epoch 18, Iteration 35736 in 3.24 seconds. Samples per second 11041.38\n",
      "Epoch 19, Iteration 35736 in 3.05 seconds. Samples per second 11726.74\n",
      "Epoch 20, Iteration 35736 in 3.09 seconds. Samples per second 11548.27\n",
      "Epoch 21, Iteration 35736 in 3.09 seconds. Samples per second 11555.97\n",
      "Epoch 22, Iteration 35736 in 3.13 seconds. Samples per second 11410.48\n",
      "Epoch 23, Iteration 35736 in 3.08 seconds. Samples per second 11620.44\n",
      "Epoch 24, Iteration 35736 in 3.13 seconds. Samples per second 11433.05\n",
      "Epoch 25, Iteration 35736 in 3.14 seconds. Samples per second 11387.08\n",
      "Epoch 26, Iteration 35736 in 3.15 seconds. Samples per second 11353.18\n",
      "Epoch 27, Iteration 35736 in 3.11 seconds. Samples per second 11482.36\n",
      "Train completed in 1.75 minutes\n",
      "EvaluatorHoldout: Processed 35595 (100.0%) in 38.01 sec. Users per second: 936\n"
     ]
    },
    {
     "name": "stderr",
     "output_type": "stream",
     "text": [
      "[I 2024-12-16 02:41:37,685] Trial 40 finished with value: 0.03440573069607937 and parameters: {'topK': 57, 'epochs': 27, 'lambda_i': 0.0010555125597237214, 'lambda_j': 0.0002693989507278967, 'learning_rate': 0.029533988746076694}. Best is trial 30 with value: 0.035826071300364186.\n"
     ]
    },
    {
     "name": "stdout",
     "output_type": "stream",
     "text": [
      "Epoch 1, Iteration 35736 in 10.22 seconds. Samples per second 3496.24\n",
      "Epoch 2, Iteration 35736 in 7.44 seconds. Samples per second 4806.33\n",
      "Epoch 3, Iteration 35736 in 5.82 seconds. Samples per second 6135.39\n",
      "Epoch 4, Iteration 35736 in 5.05 seconds. Samples per second 7073.63\n",
      "Epoch 5, Iteration 35736 in 4.44 seconds. Samples per second 8056.77\n",
      "Epoch 6, Iteration 35736 in 4.05 seconds. Samples per second 8824.16\n",
      "Epoch 7, Iteration 35736 in 3.78 seconds. Samples per second 9447.51\n",
      "Epoch 8, Iteration 35736 in 3.58 seconds. Samples per second 9974.83\n",
      "Epoch 9, Iteration 35736 in 3.51 seconds. Samples per second 10193.76\n",
      "Epoch 10, Iteration 35736 in 3.32 seconds. Samples per second 10759.19\n",
      "Epoch 11, Iteration 35736 in 3.36 seconds. Samples per second 10649.32\n",
      "Epoch 12, Iteration 35736 in 3.18 seconds. Samples per second 11220.29\n",
      "Epoch 13, Iteration 35736 in 3.23 seconds. Samples per second 11075.17\n",
      "Epoch 14, Iteration 35736 in 3.16 seconds. Samples per second 11325.20\n",
      "Epoch 15, Iteration 35736 in 3.16 seconds. Samples per second 11307.95\n",
      "Epoch 16, Iteration 35736 in 3.07 seconds. Samples per second 11639.28\n",
      "Epoch 17, Iteration 35736 in 3.15 seconds. Samples per second 11348.14\n",
      "Epoch 18, Iteration 35736 in 3.12 seconds. Samples per second 11448.28\n",
      "Epoch 19, Iteration 35736 in 3.07 seconds. Samples per second 11654.33\n",
      "Epoch 20, Iteration 35736 in 3.15 seconds. Samples per second 11334.54\n",
      "Epoch 21, Iteration 35736 in 3.13 seconds. Samples per second 11399.96\n",
      "Epoch 22, Iteration 35736 in 3.09 seconds. Samples per second 11572.77\n",
      "Epoch 23, Iteration 35736 in 3.13 seconds. Samples per second 11404.17\n",
      "Epoch 24, Iteration 35736 in 3.04 seconds. Samples per second 11737.35\n",
      "Epoch 25, Iteration 35736 in 3.11 seconds. Samples per second 11505.39\n",
      "Epoch 26, Iteration 35736 in 3.00 seconds. Samples per second 11900.46\n",
      "Epoch 27, Iteration 35736 in 3.04 seconds. Samples per second 11772.84\n",
      "Epoch 28, Iteration 35736 in 2.99 seconds. Samples per second 11944.89\n",
      "Train completed in 1.79 minutes\n",
      "EvaluatorHoldout: Processed 35595 (100.0%) in 37.68 sec. Users per second: 945\n"
     ]
    },
    {
     "name": "stderr",
     "output_type": "stream",
     "text": [
      "[I 2024-12-16 02:46:04,981] Trial 41 finished with value: 0.035961679788269175 and parameters: {'topK': 57, 'epochs': 28, 'lambda_i': 0.001319949276658115, 'lambda_j': 0.00029628974100552634, 'learning_rate': 0.0716736218897889}. Best is trial 41 with value: 0.035961679788269175.\n"
     ]
    },
    {
     "name": "stdout",
     "output_type": "stream",
     "text": [
      "Epoch 1, Iteration 35736 in 10.16 seconds. Samples per second 3518.10\n",
      "Epoch 2, Iteration 35736 in 7.32 seconds. Samples per second 4882.60\n",
      "Epoch 3, Iteration 35736 in 5.90 seconds. Samples per second 6060.28\n",
      "Epoch 4, Iteration 35736 in 5.05 seconds. Samples per second 7072.34\n",
      "Epoch 5, Iteration 35736 in 4.54 seconds. Samples per second 7863.11\n",
      "Epoch 6, Iteration 35736 in 4.08 seconds. Samples per second 8752.26\n",
      "Epoch 7, Iteration 35736 in 3.93 seconds. Samples per second 9087.98\n",
      "Epoch 8, Iteration 35736 in 3.85 seconds. Samples per second 9293.08\n",
      "Epoch 9, Iteration 35736 in 3.58 seconds. Samples per second 9988.67\n",
      "Epoch 10, Iteration 35736 in 3.41 seconds. Samples per second 10474.35\n",
      "Epoch 11, Iteration 35736 in 3.40 seconds. Samples per second 10506.05\n",
      "Epoch 12, Iteration 35736 in 3.31 seconds. Samples per second 10794.42\n",
      "Epoch 13, Iteration 35736 in 3.28 seconds. Samples per second 10900.00\n",
      "Epoch 14, Iteration 35736 in 3.24 seconds. Samples per second 11026.40\n",
      "Epoch 15, Iteration 35736 in 3.15 seconds. Samples per second 11350.04\n",
      "Epoch 16, Iteration 35736 in 3.13 seconds. Samples per second 11421.91\n",
      "Epoch 17, Iteration 35736 in 3.15 seconds. Samples per second 11330.84\n",
      "Epoch 18, Iteration 35736 in 3.16 seconds. Samples per second 11299.79\n",
      "Epoch 19, Iteration 35736 in 3.03 seconds. Samples per second 11803.98\n",
      "Epoch 20, Iteration 35736 in 3.07 seconds. Samples per second 11655.85\n",
      "Epoch 21, Iteration 35736 in 3.14 seconds. Samples per second 11388.60\n",
      "Epoch 22, Iteration 35736 in 3.12 seconds. Samples per second 11461.35\n",
      "Epoch 23, Iteration 35736 in 3.14 seconds. Samples per second 11394.69\n",
      "Epoch 24, Iteration 35736 in 3.13 seconds. Samples per second 11420.94\n",
      "Epoch 25, Iteration 35736 in 2.97 seconds. Samples per second 12038.60\n",
      "Epoch 26, Iteration 35736 in 3.06 seconds. Samples per second 11674.53\n",
      "Epoch 27, Iteration 35736 in 3.05 seconds. Samples per second 11727.98\n",
      "Train completed in 1.76 minutes\n",
      "EvaluatorHoldout: Processed 35595 (100.0%) in 38.86 sec. Users per second: 916\n"
     ]
    },
    {
     "name": "stderr",
     "output_type": "stream",
     "text": [
      "[I 2024-12-16 02:50:35,159] Trial 42 finished with value: 0.03414480921834395 and parameters: {'topK': 63, 'epochs': 27, 'lambda_i': 0.0011846531591982335, 'lambda_j': 0.00026973164912213126, 'learning_rate': 0.029876157133232065}. Best is trial 41 with value: 0.035961679788269175.\n"
     ]
    },
    {
     "name": "stdout",
     "output_type": "stream",
     "text": [
      "Epoch 1, Iteration 35736 in 10.13 seconds. Samples per second 3529.33\n",
      "Epoch 2, Iteration 35736 in 7.24 seconds. Samples per second 4935.98\n",
      "Epoch 3, Iteration 35736 in 5.88 seconds. Samples per second 6077.34\n",
      "Epoch 4, Iteration 35736 in 5.11 seconds. Samples per second 6999.99\n",
      "Epoch 5, Iteration 35736 in 5.95 seconds. Samples per second 6007.06\n",
      "Epoch 6, Iteration 35736 in 4.11 seconds. Samples per second 8695.20\n",
      "Epoch 7, Iteration 35736 in 3.81 seconds. Samples per second 9368.55\n",
      "Epoch 8, Iteration 35736 in 3.74 seconds. Samples per second 9544.25\n",
      "Epoch 9, Iteration 35736 in 3.46 seconds. Samples per second 10316.24\n",
      "Epoch 10, Iteration 35736 in 3.40 seconds. Samples per second 10521.12\n",
      "Epoch 11, Iteration 35736 in 3.31 seconds. Samples per second 10794.74\n",
      "Epoch 12, Iteration 35736 in 3.25 seconds. Samples per second 10986.15\n",
      "Epoch 13, Iteration 35736 in 3.21 seconds. Samples per second 11148.73\n",
      "Epoch 14, Iteration 35736 in 3.22 seconds. Samples per second 11113.70\n",
      "Epoch 15, Iteration 35736 in 3.07 seconds. Samples per second 11626.95\n",
      "Epoch 16, Iteration 35736 in 3.05 seconds. Samples per second 11701.26\n",
      "Epoch 17, Iteration 35736 in 3.08 seconds. Samples per second 11603.33\n",
      "Epoch 18, Iteration 35736 in 3.08 seconds. Samples per second 11609.94\n",
      "Epoch 19, Iteration 35736 in 2.99 seconds. Samples per second 11939.69\n",
      "Epoch 20, Iteration 35736 in 3.17 seconds. Samples per second 11290.13\n",
      "Epoch 21, Iteration 35736 in 2.98 seconds. Samples per second 11981.00\n",
      "Epoch 22, Iteration 35736 in 3.09 seconds. Samples per second 11576.20\n",
      "Epoch 23, Iteration 35736 in 2.96 seconds. Samples per second 12067.47\n",
      "Epoch 24, Iteration 35736 in 3.02 seconds. Samples per second 11849.62\n",
      "Epoch 25, Iteration 35736 in 2.96 seconds. Samples per second 12075.23\n",
      "Epoch 26, Iteration 35736 in 2.96 seconds. Samples per second 12066.93\n",
      "Epoch 27, Iteration 35736 in 3.12 seconds. Samples per second 11464.14\n",
      "Epoch 28, Iteration 35736 in 3.11 seconds. Samples per second 11482.29\n",
      "Epoch 29, Iteration 35736 in 2.97 seconds. Samples per second 12027.91\n",
      "Epoch 30, Iteration 35736 in 3.05 seconds. Samples per second 11729.21\n",
      "Epoch 31, Iteration 35736 in 3.10 seconds. Samples per second 11521.41\n",
      "Epoch 32, Iteration 35736 in 3.08 seconds. Samples per second 11595.11\n",
      "Epoch 33, Iteration 35736 in 3.12 seconds. Samples per second 11447.82\n",
      "Train completed in 2.06 minutes\n",
      "EvaluatorHoldout: Processed 35595 (100.0%) in 39.64 sec. Users per second: 898\n"
     ]
    },
    {
     "name": "stderr",
     "output_type": "stream",
     "text": [
      "[I 2024-12-16 02:55:27,548] Trial 43 finished with value: 0.035856994584132135 and parameters: {'topK': 62, 'epochs': 33, 'lambda_i': 0.0051998777530991745, 'lambda_j': 0.0005684755063734995, 'learning_rate': 0.05339236291919878}. Best is trial 41 with value: 0.035961679788269175.\n"
     ]
    },
    {
     "name": "stdout",
     "output_type": "stream",
     "text": [
      "Epoch 1, Iteration 35736 in 10.13 seconds. Samples per second 3528.69\n",
      "Epoch 2, Iteration 35736 in 7.25 seconds. Samples per second 4929.93\n",
      "Epoch 3, Iteration 35736 in 5.85 seconds. Samples per second 6105.95\n",
      "Epoch 4, Iteration 35736 in 4.91 seconds. Samples per second 7280.39\n",
      "Epoch 5, Iteration 35736 in 4.41 seconds. Samples per second 8112.22\n",
      "Epoch 6, Iteration 35736 in 4.12 seconds. Samples per second 8669.42\n",
      "Epoch 7, Iteration 35736 in 3.76 seconds. Samples per second 9509.90\n",
      "Epoch 8, Iteration 35736 in 3.57 seconds. Samples per second 10010.01\n",
      "Epoch 9, Iteration 35736 in 3.42 seconds. Samples per second 10436.79\n",
      "Epoch 10, Iteration 35736 in 3.42 seconds. Samples per second 10456.00\n",
      "Epoch 11, Iteration 35736 in 3.38 seconds. Samples per second 10570.40\n",
      "Epoch 12, Iteration 35736 in 3.21 seconds. Samples per second 11146.47\n",
      "Epoch 13, Iteration 35736 in 3.16 seconds. Samples per second 11295.16\n",
      "Epoch 14, Iteration 35736 in 3.14 seconds. Samples per second 11364.04\n",
      "Epoch 15, Iteration 35736 in 3.08 seconds. Samples per second 11610.07\n",
      "Epoch 16, Iteration 35736 in 3.11 seconds. Samples per second 11504.82\n",
      "Epoch 17, Iteration 35736 in 3.19 seconds. Samples per second 11213.31\n",
      "Epoch 18, Iteration 35736 in 3.34 seconds. Samples per second 10693.78\n",
      "Epoch 19, Iteration 35736 in 3.25 seconds. Samples per second 11003.18\n",
      "Epoch 20, Iteration 35736 in 3.20 seconds. Samples per second 11169.41\n",
      "Epoch 21, Iteration 35736 in 3.11 seconds. Samples per second 11499.10\n",
      "Epoch 22, Iteration 35736 in 3.12 seconds. Samples per second 11451.57\n",
      "Epoch 23, Iteration 35736 in 3.20 seconds. Samples per second 11181.84\n",
      "Epoch 24, Iteration 35736 in 3.09 seconds. Samples per second 11563.12\n",
      "Epoch 25, Iteration 35736 in 3.11 seconds. Samples per second 11505.14\n",
      "Epoch 26, Iteration 35736 in 3.11 seconds. Samples per second 11503.37\n",
      "Epoch 27, Iteration 35736 in 3.00 seconds. Samples per second 11926.82\n",
      "Epoch 28, Iteration 35736 in 2.96 seconds. Samples per second 12062.31\n",
      "Epoch 29, Iteration 35736 in 2.97 seconds. Samples per second 12018.80\n",
      "Epoch 30, Iteration 35736 in 3.15 seconds. Samples per second 11348.77\n",
      "Epoch 31, Iteration 35736 in 3.02 seconds. Samples per second 11848.43\n",
      "Epoch 32, Iteration 35736 in 3.00 seconds. Samples per second 11908.11\n",
      "Epoch 33, Iteration 35736 in 3.08 seconds. Samples per second 11604.45\n",
      "Train completed in 2.05 minutes\n",
      "EvaluatorHoldout: Processed 35595 (100.0%) in 39.38 sec. Users per second: 904\n"
     ]
    },
    {
     "name": "stderr",
     "output_type": "stream",
     "text": [
      "[I 2024-12-16 03:00:11,670] Trial 44 finished with value: 0.03506234378379228 and parameters: {'topK': 81, 'epochs': 33, 'lambda_i': 0.005119537148542098, 'lambda_j': 0.0005814855283526207, 'learning_rate': 0.0514927296146805}. Best is trial 41 with value: 0.035961679788269175.\n"
     ]
    },
    {
     "name": "stdout",
     "output_type": "stream",
     "text": [
      "Epoch 1, Iteration 35736 in 9.92 seconds. Samples per second 3603.62\n",
      "Epoch 2, Iteration 35736 in 7.23 seconds. Samples per second 4941.96\n",
      "Epoch 3, Iteration 35736 in 5.86 seconds. Samples per second 6102.82\n",
      "Epoch 4, Iteration 35736 in 4.96 seconds. Samples per second 7209.84\n",
      "Epoch 5, Iteration 35736 in 4.57 seconds. Samples per second 7818.34\n",
      "Epoch 6, Iteration 35736 in 4.05 seconds. Samples per second 8820.16\n",
      "Epoch 7, Iteration 35736 in 3.99 seconds. Samples per second 8952.14\n",
      "Epoch 8, Iteration 35736 in 3.64 seconds. Samples per second 9808.92\n",
      "Epoch 9, Iteration 35736 in 3.54 seconds. Samples per second 10100.37\n",
      "Epoch 10, Iteration 35736 in 3.52 seconds. Samples per second 10165.76\n",
      "Epoch 11, Iteration 35736 in 3.28 seconds. Samples per second 10904.54\n",
      "Epoch 12, Iteration 35736 in 3.23 seconds. Samples per second 11078.53\n",
      "Epoch 13, Iteration 35736 in 3.22 seconds. Samples per second 11109.18\n",
      "Epoch 14, Iteration 35736 in 3.14 seconds. Samples per second 11363.96\n",
      "Epoch 15, Iteration 35736 in 3.08 seconds. Samples per second 11616.56\n",
      "Epoch 16, Iteration 35736 in 3.20 seconds. Samples per second 11171.29\n",
      "Epoch 17, Iteration 35736 in 3.01 seconds. Samples per second 11883.57\n",
      "Epoch 18, Iteration 35736 in 3.23 seconds. Samples per second 11057.19\n",
      "Epoch 19, Iteration 35736 in 3.06 seconds. Samples per second 11668.79\n",
      "Epoch 20, Iteration 35736 in 3.12 seconds. Samples per second 11444.13\n",
      "Epoch 21, Iteration 35736 in 2.98 seconds. Samples per second 11982.02\n",
      "Epoch 22, Iteration 35736 in 3.06 seconds. Samples per second 11671.21\n",
      "Epoch 23, Iteration 35736 in 3.08 seconds. Samples per second 11602.09\n",
      "Epoch 24, Iteration 35736 in 2.98 seconds. Samples per second 11982.94\n",
      "Epoch 25, Iteration 35736 in 3.00 seconds. Samples per second 11893.36\n",
      "Epoch 26, Iteration 35736 in 3.16 seconds. Samples per second 11319.95\n",
      "Epoch 27, Iteration 35736 in 2.96 seconds. Samples per second 12074.46\n",
      "Epoch 28, Iteration 35736 in 3.03 seconds. Samples per second 11805.15\n",
      "Epoch 29, Iteration 35736 in 3.05 seconds. Samples per second 11700.73\n",
      "Epoch 30, Iteration 35736 in 3.24 seconds. Samples per second 11020.27\n",
      "Epoch 31, Iteration 35736 in 3.09 seconds. Samples per second 11556.45\n",
      "Epoch 32, Iteration 35736 in 3.22 seconds. Samples per second 11106.61\n",
      "Epoch 33, Iteration 35736 in 2.97 seconds. Samples per second 12038.06\n",
      "Train completed in 2.04 minutes\n",
      "EvaluatorHoldout: Processed 35595 (100.0%) in 40.75 sec. Users per second: 873\n"
     ]
    },
    {
     "name": "stderr",
     "output_type": "stream",
     "text": [
      "[I 2024-12-16 03:04:57,080] Trial 45 finished with value: 0.03304016749275804 and parameters: {'topK': 95, 'epochs': 33, 'lambda_i': 0.0037717551222298472, 'lambda_j': 0.0007062907754504359, 'learning_rate': 0.016388675189016298}. Best is trial 41 with value: 0.035961679788269175.\n"
     ]
    },
    {
     "name": "stdout",
     "output_type": "stream",
     "text": [
      "Epoch 1, Iteration 35736 in 10.01 seconds. Samples per second 3571.00\n",
      "Epoch 2, Iteration 35736 in 7.43 seconds. Samples per second 4807.85\n",
      "Epoch 3, Iteration 35736 in 5.79 seconds. Samples per second 6172.71\n",
      "Epoch 4, Iteration 35736 in 4.92 seconds. Samples per second 7263.58\n",
      "Epoch 5, Iteration 35736 in 4.54 seconds. Samples per second 7878.91\n",
      "Epoch 6, Iteration 35736 in 4.16 seconds. Samples per second 8588.45\n",
      "Epoch 7, Iteration 35736 in 3.73 seconds. Samples per second 9578.22\n",
      "Epoch 8, Iteration 35736 in 3.56 seconds. Samples per second 10049.06\n",
      "Epoch 9, Iteration 35736 in 3.52 seconds. Samples per second 10161.17\n",
      "Epoch 10, Iteration 35736 in 3.43 seconds. Samples per second 10404.99\n",
      "Epoch 11, Iteration 35736 in 3.32 seconds. Samples per second 10770.59\n",
      "Epoch 12, Iteration 35736 in 3.17 seconds. Samples per second 11284.09\n",
      "Epoch 13, Iteration 35736 in 3.21 seconds. Samples per second 11134.44\n",
      "Epoch 14, Iteration 35736 in 3.13 seconds. Samples per second 11404.11\n",
      "Epoch 15, Iteration 35736 in 3.05 seconds. Samples per second 11728.49\n",
      "Epoch 16, Iteration 35736 in 3.11 seconds. Samples per second 11473.86\n",
      "Epoch 17, Iteration 35736 in 3.33 seconds. Samples per second 10739.97\n",
      "Epoch 18, Iteration 35736 in 3.07 seconds. Samples per second 11633.72\n",
      "Epoch 19, Iteration 35736 in 3.15 seconds. Samples per second 11340.55\n",
      "Epoch 20, Iteration 35736 in 3.08 seconds. Samples per second 11619.04\n",
      "Epoch 21, Iteration 35736 in 3.06 seconds. Samples per second 11660.87\n",
      "Epoch 22, Iteration 35736 in 3.09 seconds. Samples per second 11546.96\n",
      "Epoch 23, Iteration 35736 in 3.00 seconds. Samples per second 11922.93\n",
      "Epoch 24, Iteration 35736 in 3.11 seconds. Samples per second 11506.35\n",
      "Epoch 25, Iteration 35736 in 3.03 seconds. Samples per second 11808.28\n",
      "Epoch 26, Iteration 35736 in 2.99 seconds. Samples per second 11961.18\n",
      "Epoch 27, Iteration 35736 in 3.10 seconds. Samples per second 11510.86\n",
      "Epoch 28, Iteration 35736 in 3.03 seconds. Samples per second 11788.23\n",
      "Epoch 29, Iteration 35736 in 3.15 seconds. Samples per second 11343.39\n",
      "Epoch 30, Iteration 35736 in 3.14 seconds. Samples per second 11391.34\n",
      "Epoch 31, Iteration 35736 in 3.04 seconds. Samples per second 11749.72\n",
      "Epoch 32, Iteration 35736 in 3.11 seconds. Samples per second 11485.02\n",
      "Epoch 33, Iteration 35736 in 3.10 seconds. Samples per second 11539.15\n",
      "Epoch 34, Iteration 35736 in 3.05 seconds. Samples per second 11706.60\n",
      "Epoch 35, Iteration 35736 in 3.06 seconds. Samples per second 11672.26\n",
      "Epoch 36, Iteration 35736 in 3.11 seconds. Samples per second 11506.87\n",
      "Epoch 37, Iteration 35736 in 3.04 seconds. Samples per second 11744.73\n",
      "Epoch 38, Iteration 35736 in 2.98 seconds. Samples per second 12001.00\n",
      "Train completed in 2.30 minutes\n",
      "EvaluatorHoldout: Processed 35595 (100.0%) in 42.82 sec. Users per second: 831\n"
     ]
    },
    {
     "name": "stderr",
     "output_type": "stream",
     "text": [
      "[I 2024-12-16 03:10:14,594] Trial 46 finished with value: 0.033895518810604146 and parameters: {'topK': 147, 'epochs': 38, 'lambda_i': 0.006553591004520105, 'lambda_j': 0.00011907798421152918, 'learning_rate': 0.045330957244846495}. Best is trial 41 with value: 0.035961679788269175.\n"
     ]
    },
    {
     "name": "stdout",
     "output_type": "stream",
     "text": [
      "Epoch 1, Iteration 35736 in 10.07 seconds. Samples per second 3547.94\n",
      "Epoch 2, Iteration 35736 in 7.28 seconds. Samples per second 4911.90\n",
      "Epoch 3, Iteration 35736 in 5.85 seconds. Samples per second 6108.86\n",
      "Epoch 4, Iteration 35736 in 5.03 seconds. Samples per second 7111.49\n",
      "Epoch 5, Iteration 35736 in 4.48 seconds. Samples per second 7984.08\n",
      "Epoch 6, Iteration 35736 in 4.23 seconds. Samples per second 8455.89\n",
      "Epoch 7, Iteration 35736 in 3.81 seconds. Samples per second 9374.27\n",
      "Epoch 8, Iteration 35736 in 3.72 seconds. Samples per second 9596.21\n",
      "Epoch 9, Iteration 35736 in 3.61 seconds. Samples per second 9896.31\n",
      "Epoch 10, Iteration 35736 in 3.36 seconds. Samples per second 10644.97\n",
      "Epoch 11, Iteration 35736 in 3.35 seconds. Samples per second 10679.18\n",
      "Epoch 12, Iteration 35736 in 3.17 seconds. Samples per second 11255.83\n",
      "Epoch 13, Iteration 35736 in 3.31 seconds. Samples per second 10782.18\n",
      "Epoch 14, Iteration 35736 in 3.11 seconds. Samples per second 11478.21\n",
      "Epoch 15, Iteration 35736 in 3.14 seconds. Samples per second 11396.09\n",
      "Epoch 16, Iteration 35736 in 3.12 seconds. Samples per second 11435.56\n",
      "Epoch 17, Iteration 35736 in 3.02 seconds. Samples per second 11822.54\n",
      "Epoch 18, Iteration 35736 in 3.12 seconds. Samples per second 11472.15\n",
      "Epoch 19, Iteration 35736 in 3.00 seconds. Samples per second 11923.33\n",
      "Epoch 20, Iteration 35736 in 3.01 seconds. Samples per second 11865.36\n",
      "Epoch 21, Iteration 35736 in 3.19 seconds. Samples per second 11211.93\n",
      "Epoch 22, Iteration 35736 in 3.05 seconds. Samples per second 11721.94\n",
      "Epoch 23, Iteration 35736 in 3.03 seconds. Samples per second 11779.83\n",
      "Epoch 24, Iteration 35736 in 3.05 seconds. Samples per second 11698.00\n",
      "Epoch 25, Iteration 35736 in 3.00 seconds. Samples per second 11920.55\n",
      "Epoch 26, Iteration 35736 in 3.03 seconds. Samples per second 11790.46\n",
      "Epoch 27, Iteration 35736 in 3.01 seconds. Samples per second 11863.29\n",
      "Epoch 28, Iteration 35736 in 3.05 seconds. Samples per second 11724.11\n",
      "Epoch 29, Iteration 35736 in 3.06 seconds. Samples per second 11667.13\n",
      "Epoch 30, Iteration 35736 in 3.06 seconds. Samples per second 11695.36\n",
      "Epoch 31, Iteration 35736 in 3.02 seconds. Samples per second 11842.52\n",
      "Epoch 32, Iteration 35736 in 2.93 seconds. Samples per second 12201.08\n",
      "Epoch 33, Iteration 35736 in 2.98 seconds. Samples per second 11996.38\n",
      "Epoch 34, Iteration 35736 in 3.02 seconds. Samples per second 11823.71\n",
      "Epoch 35, Iteration 35736 in 2.96 seconds. Samples per second 12064.99\n",
      "Epoch 36, Iteration 35736 in 3.00 seconds. Samples per second 11897.79\n",
      "Train completed in 2.19 minutes\n",
      "EvaluatorHoldout: Processed 35595 (100.0%) in 40.87 sec. Users per second: 871\n"
     ]
    },
    {
     "name": "stderr",
     "output_type": "stream",
     "text": [
      "[I 2024-12-16 03:15:13,868] Trial 47 finished with value: 0.03139235825434652 and parameters: {'topK': 66, 'epochs': 36, 'lambda_i': 0.002067629109005697, 'lambda_j': 0.0005610089953431003, 'learning_rate': 0.0006650041390256151}. Best is trial 41 with value: 0.035961679788269175.\n"
     ]
    },
    {
     "name": "stdout",
     "output_type": "stream",
     "text": [
      "Epoch 1, Iteration 35736 in 10.68 seconds. Samples per second 3346.60\n",
      "Epoch 2, Iteration 35736 in 7.51 seconds. Samples per second 4760.88\n",
      "Epoch 3, Iteration 35736 in 6.08 seconds. Samples per second 5880.19\n",
      "Epoch 4, Iteration 35736 in 5.20 seconds. Samples per second 6875.27\n",
      "Epoch 5, Iteration 35736 in 4.57 seconds. Samples per second 7815.62\n",
      "Epoch 6, Iteration 35736 in 4.23 seconds. Samples per second 8455.79\n",
      "Epoch 7, Iteration 35736 in 3.94 seconds. Samples per second 9072.46\n",
      "Epoch 8, Iteration 35736 in 3.64 seconds. Samples per second 9826.39\n",
      "Epoch 9, Iteration 35736 in 3.56 seconds. Samples per second 10050.88\n",
      "Epoch 10, Iteration 35736 in 3.42 seconds. Samples per second 10448.26\n",
      "Epoch 11, Iteration 35736 in 3.36 seconds. Samples per second 10629.49\n",
      "Epoch 12, Iteration 35736 in 3.29 seconds. Samples per second 10866.15\n",
      "Epoch 13, Iteration 35736 in 3.18 seconds. Samples per second 11237.68\n",
      "Epoch 14, Iteration 35736 in 3.27 seconds. Samples per second 10913.29\n",
      "Epoch 15, Iteration 35736 in 3.09 seconds. Samples per second 11575.50\n",
      "Epoch 16, Iteration 35736 in 3.10 seconds. Samples per second 11544.15\n",
      "Epoch 17, Iteration 35736 in 3.04 seconds. Samples per second 11745.72\n",
      "Epoch 18, Iteration 35736 in 3.07 seconds. Samples per second 11637.24\n",
      "Epoch 19, Iteration 35736 in 3.02 seconds. Samples per second 11822.31\n",
      "Epoch 20, Iteration 35736 in 3.16 seconds. Samples per second 11301.16\n",
      "Epoch 21, Iteration 35736 in 3.06 seconds. Samples per second 11675.23\n",
      "Epoch 22, Iteration 35736 in 3.04 seconds. Samples per second 11738.03\n",
      "Epoch 23, Iteration 35736 in 3.11 seconds. Samples per second 11472.53\n",
      "Epoch 24, Iteration 35736 in 3.10 seconds. Samples per second 11535.72\n",
      "Epoch 25, Iteration 35736 in 3.05 seconds. Samples per second 11730.49\n",
      "Epoch 26, Iteration 35736 in 3.19 seconds. Samples per second 11200.41\n",
      "Epoch 27, Iteration 35736 in 3.25 seconds. Samples per second 10999.47\n",
      "Epoch 28, Iteration 35736 in 3.05 seconds. Samples per second 11722.52\n",
      "Epoch 29, Iteration 35736 in 3.06 seconds. Samples per second 11676.52\n",
      "Epoch 30, Iteration 35736 in 3.04 seconds. Samples per second 11743.52\n",
      "Epoch 31, Iteration 35736 in 3.05 seconds. Samples per second 11732.20\n",
      "Epoch 32, Iteration 35736 in 3.01 seconds. Samples per second 11881.65\n",
      "Train completed in 2.02 minutes\n",
      "EvaluatorHoldout: Processed 35595 (100.0%) in 44.51 sec. Users per second: 800\n"
     ]
    },
    {
     "name": "stderr",
     "output_type": "stream",
     "text": [
      "[I 2024-12-16 03:20:09,615] Trial 48 finished with value: 0.031220808611873777 and parameters: {'topK': 163, 'epochs': 32, 'lambda_i': 0.006220721238207176, 'lambda_j': 0.0003493586766975109, 'learning_rate': 0.009740597219595437}. Best is trial 41 with value: 0.035961679788269175.\n"
     ]
    },
    {
     "name": "stdout",
     "output_type": "stream",
     "text": [
      "Epoch 1, Iteration 35736 in 10.03 seconds. Samples per second 3564.39\n",
      "Epoch 2, Iteration 35736 in 7.22 seconds. Samples per second 4951.40\n",
      "Epoch 3, Iteration 35736 in 5.99 seconds. Samples per second 5963.66\n",
      "Epoch 4, Iteration 35736 in 4.93 seconds. Samples per second 7243.45\n",
      "Epoch 5, Iteration 35736 in 4.53 seconds. Samples per second 7889.90\n",
      "Epoch 6, Iteration 35736 in 4.11 seconds. Samples per second 8701.05\n",
      "Epoch 7, Iteration 35736 in 3.86 seconds. Samples per second 9261.63\n",
      "Epoch 8, Iteration 35736 in 3.60 seconds. Samples per second 9932.11\n",
      "Epoch 9, Iteration 35736 in 3.48 seconds. Samples per second 10280.58\n",
      "Epoch 10, Iteration 35736 in 3.54 seconds. Samples per second 10108.68\n",
      "Epoch 11, Iteration 35736 in 3.50 seconds. Samples per second 10196.23\n",
      "Epoch 12, Iteration 35736 in 3.32 seconds. Samples per second 10758.47\n",
      "Epoch 13, Iteration 35736 in 3.31 seconds. Samples per second 10806.50\n",
      "Epoch 14, Iteration 35736 in 3.23 seconds. Samples per second 11074.18\n",
      "Epoch 15, Iteration 35736 in 3.17 seconds. Samples per second 11289.26\n",
      "Epoch 16, Iteration 35736 in 3.08 seconds. Samples per second 11615.82\n",
      "Epoch 17, Iteration 35736 in 3.03 seconds. Samples per second 11803.96\n",
      "Epoch 18, Iteration 35736 in 3.09 seconds. Samples per second 11550.31\n",
      "Epoch 19, Iteration 35736 in 3.03 seconds. Samples per second 11794.72\n",
      "Epoch 20, Iteration 35736 in 3.26 seconds. Samples per second 10977.65\n",
      "Epoch 21, Iteration 35736 in 3.07 seconds. Samples per second 11645.16\n",
      "Epoch 22, Iteration 35736 in 3.02 seconds. Samples per second 11846.16\n",
      "Epoch 23, Iteration 35736 in 3.01 seconds. Samples per second 11876.55\n",
      "Epoch 24, Iteration 35736 in 3.09 seconds. Samples per second 11564.19\n",
      "Epoch 25, Iteration 35736 in 2.97 seconds. Samples per second 12027.75\n",
      "Epoch 26, Iteration 35736 in 3.02 seconds. Samples per second 11848.91\n",
      "Epoch 27, Iteration 35736 in 2.99 seconds. Samples per second 11934.91\n",
      "Epoch 28, Iteration 35736 in 2.98 seconds. Samples per second 11974.12\n",
      "Epoch 29, Iteration 35736 in 3.02 seconds. Samples per second 11843.00\n",
      "Epoch 30, Iteration 35736 in 3.06 seconds. Samples per second 11695.16\n",
      "Epoch 31, Iteration 35736 in 2.93 seconds. Samples per second 12197.67\n",
      "Epoch 32, Iteration 35736 in 2.98 seconds. Samples per second 12005.33\n",
      "Epoch 33, Iteration 35736 in 2.95 seconds. Samples per second 12097.63\n",
      "Epoch 34, Iteration 35736 in 3.00 seconds. Samples per second 11922.00\n",
      "Epoch 35, Iteration 35736 in 2.94 seconds. Samples per second 12154.17\n",
      "Epoch 36, Iteration 35736 in 3.05 seconds. Samples per second 11732.39\n",
      "Epoch 37, Iteration 35736 in 2.98 seconds. Samples per second 11999.90\n",
      "Epoch 38, Iteration 35736 in 2.96 seconds. Samples per second 12069.26\n",
      "Epoch 39, Iteration 35736 in 3.08 seconds. Samples per second 11619.32\n",
      "Epoch 40, Iteration 35736 in 2.96 seconds. Samples per second 12079.23\n",
      "Epoch 41, Iteration 35736 in 3.21 seconds. Samples per second 11148.76\n",
      "Train completed in 2.44 minutes\n",
      "EvaluatorHoldout: Processed 35595 (100.0%) in 53.42 sec. Users per second: 666\n"
     ]
    },
    {
     "name": "stderr",
     "output_type": "stream",
     "text": [
      "[I 2024-12-16 03:26:00,763] Trial 49 finished with value: 0.031716697101651814 and parameters: {'topK': 421, 'epochs': 41, 'lambda_i': 0.017877963627301294, 'lambda_j': 0.0014913201439236607, 'learning_rate': 0.08378873000095641}. Best is trial 41 with value: 0.035961679788269175.\n"
     ]
    },
    {
     "name": "stdout",
     "output_type": "stream",
     "text": [
      "Epoch 1, Iteration 35736 in 10.22 seconds. Samples per second 3496.85\n",
      "Epoch 2, Iteration 35736 in 7.32 seconds. Samples per second 4878.67\n",
      "Epoch 3, Iteration 35736 in 5.97 seconds. Samples per second 5989.98\n",
      "Epoch 4, Iteration 35736 in 5.16 seconds. Samples per second 6929.57\n",
      "Epoch 5, Iteration 35736 in 4.46 seconds. Samples per second 8006.12\n",
      "Epoch 6, Iteration 35736 in 4.09 seconds. Samples per second 8746.28\n",
      "Epoch 7, Iteration 35736 in 3.93 seconds. Samples per second 9093.99\n",
      "Epoch 8, Iteration 35736 in 3.70 seconds. Samples per second 9665.55\n",
      "Epoch 9, Iteration 35736 in 3.61 seconds. Samples per second 9894.74\n",
      "Epoch 10, Iteration 35736 in 3.46 seconds. Samples per second 10331.32\n",
      "Epoch 11, Iteration 35736 in 3.41 seconds. Samples per second 10470.52\n",
      "Epoch 12, Iteration 35736 in 3.44 seconds. Samples per second 10375.93\n",
      "Epoch 13, Iteration 35736 in 3.28 seconds. Samples per second 10911.13\n",
      "Epoch 14, Iteration 35736 in 3.22 seconds. Samples per second 11103.61\n",
      "Epoch 15, Iteration 35736 in 3.21 seconds. Samples per second 11133.97\n",
      "Epoch 16, Iteration 35736 in 3.12 seconds. Samples per second 11448.65\n",
      "Epoch 17, Iteration 35736 in 3.10 seconds. Samples per second 11523.03\n",
      "Epoch 18, Iteration 35736 in 3.20 seconds. Samples per second 11171.25\n",
      "Epoch 19, Iteration 35736 in 3.11 seconds. Samples per second 11484.91\n",
      "Epoch 20, Iteration 35736 in 3.08 seconds. Samples per second 11616.02\n",
      "Epoch 21, Iteration 35736 in 3.03 seconds. Samples per second 11810.14\n",
      "Epoch 22, Iteration 35736 in 3.10 seconds. Samples per second 11525.29\n",
      "Epoch 23, Iteration 35736 in 3.09 seconds. Samples per second 11574.90\n",
      "Epoch 24, Iteration 35736 in 3.09 seconds. Samples per second 11557.20\n",
      "Epoch 25, Iteration 35736 in 3.07 seconds. Samples per second 11647.78\n",
      "Epoch 26, Iteration 35736 in 3.03 seconds. Samples per second 11798.51\n",
      "Epoch 27, Iteration 35736 in 3.11 seconds. Samples per second 11484.53\n",
      "Epoch 28, Iteration 35736 in 3.14 seconds. Samples per second 11378.70\n",
      "Epoch 29, Iteration 35736 in 3.02 seconds. Samples per second 11827.95\n",
      "Epoch 30, Iteration 35736 in 3.13 seconds. Samples per second 11406.31\n",
      "Epoch 31, Iteration 35736 in 3.03 seconds. Samples per second 11788.84\n",
      "Epoch 32, Iteration 35736 in 3.03 seconds. Samples per second 11778.87\n",
      "Epoch 33, Iteration 35736 in 3.02 seconds. Samples per second 11828.73\n",
      "Epoch 34, Iteration 35736 in 3.00 seconds. Samples per second 11915.65\n",
      "Epoch 35, Iteration 35736 in 3.13 seconds. Samples per second 11430.49\n",
      "Epoch 36, Iteration 35736 in 3.07 seconds. Samples per second 11622.43\n",
      "Epoch 37, Iteration 35736 in 3.05 seconds. Samples per second 11711.55\n",
      "Train completed in 2.27 minutes\n",
      "EvaluatorHoldout: Processed 35595 (100.0%) in 44.87 sec. Users per second: 793\n"
     ]
    },
    {
     "name": "stderr",
     "output_type": "stream",
     "text": [
      "[I 2024-12-16 03:31:09,307] Trial 50 finished with value: 0.032765368553188824 and parameters: {'topK': 216, 'epochs': 37, 'lambda_i': 0.008771157126876908, 'lambda_j': 2.6677599374882736e-05, 'learning_rate': 0.05234228677533303}. Best is trial 41 with value: 0.035961679788269175.\n"
     ]
    },
    {
     "name": "stdout",
     "output_type": "stream",
     "text": [
      "Epoch 1, Iteration 35736 in 12.70 seconds. Samples per second 2812.79\n",
      "Epoch 2, Iteration 35736 in 7.62 seconds. Samples per second 4687.22\n",
      "Epoch 3, Iteration 35736 in 6.21 seconds. Samples per second 5758.12\n",
      "Epoch 4, Iteration 35736 in 5.14 seconds. Samples per second 6951.28\n",
      "Epoch 5, Iteration 35736 in 4.59 seconds. Samples per second 7793.01\n",
      "Epoch 6, Iteration 35736 in 4.19 seconds. Samples per second 8528.87\n",
      "Epoch 7, Iteration 35736 in 3.83 seconds. Samples per second 9325.15\n",
      "Epoch 8, Iteration 35736 in 3.64 seconds. Samples per second 9806.07\n",
      "Epoch 9, Iteration 35736 in 3.59 seconds. Samples per second 9967.72\n",
      "Epoch 10, Iteration 35736 in 3.47 seconds. Samples per second 10312.21\n",
      "Epoch 11, Iteration 35736 in 3.20 seconds. Samples per second 11154.83\n",
      "Epoch 12, Iteration 35736 in 3.18 seconds. Samples per second 11247.01\n",
      "Epoch 13, Iteration 35736 in 3.18 seconds. Samples per second 11228.76\n",
      "Epoch 14, Iteration 35736 in 3.17 seconds. Samples per second 11290.23\n",
      "Epoch 15, Iteration 35736 in 3.34 seconds. Samples per second 10693.78\n",
      "Epoch 16, Iteration 35736 in 3.08 seconds. Samples per second 11621.29\n",
      "Epoch 17, Iteration 35736 in 3.09 seconds. Samples per second 11552.66\n",
      "Epoch 18, Iteration 35736 in 3.17 seconds. Samples per second 11283.72\n",
      "Epoch 19, Iteration 35736 in 3.07 seconds. Samples per second 11658.15\n",
      "Epoch 20, Iteration 35736 in 3.03 seconds. Samples per second 11788.85\n",
      "Epoch 21, Iteration 35736 in 3.04 seconds. Samples per second 11747.51\n",
      "Epoch 22, Iteration 35736 in 3.12 seconds. Samples per second 11466.68\n",
      "Epoch 23, Iteration 35736 in 3.19 seconds. Samples per second 11218.32\n",
      "Epoch 24, Iteration 35736 in 3.03 seconds. Samples per second 11809.66\n",
      "Epoch 25, Iteration 35736 in 3.08 seconds. Samples per second 11590.71\n",
      "Train completed in 1.70 minutes\n",
      "EvaluatorHoldout: Processed 35595 (100.0%) in 34.02 sec. Users per second: 1046\n"
     ]
    },
    {
     "name": "stderr",
     "output_type": "stream",
     "text": [
      "[I 2024-12-16 03:35:20,958] Trial 51 finished with value: 0.03723260467739899 and parameters: {'topK': 17, 'epochs': 25, 'lambda_i': 0.00253509022299605, 'lambda_j': 0.0010689685660046663, 'learning_rate': 0.056019689254198944}. Best is trial 51 with value: 0.03723260467739899.\n"
     ]
    },
    {
     "name": "stdout",
     "output_type": "stream",
     "text": [
      "Epoch 1, Iteration 35736 in 10.21 seconds. Samples per second 3500.16\n",
      "Epoch 2, Iteration 35736 in 7.27 seconds. Samples per second 4915.11\n",
      "Epoch 3, Iteration 35736 in 5.94 seconds. Samples per second 6016.94\n",
      "Epoch 4, Iteration 35736 in 4.95 seconds. Samples per second 7221.64\n",
      "Epoch 5, Iteration 35736 in 4.43 seconds. Samples per second 8062.11\n",
      "Epoch 6, Iteration 35736 in 4.17 seconds. Samples per second 8568.45\n",
      "Epoch 7, Iteration 35736 in 3.76 seconds. Samples per second 9499.64\n",
      "Epoch 8, Iteration 35736 in 3.64 seconds. Samples per second 9806.11\n",
      "Epoch 9, Iteration 35736 in 3.46 seconds. Samples per second 10330.05\n",
      "Epoch 10, Iteration 35736 in 3.34 seconds. Samples per second 10709.88\n",
      "Epoch 11, Iteration 35736 in 3.41 seconds. Samples per second 10482.63\n",
      "Epoch 12, Iteration 35736 in 3.18 seconds. Samples per second 11232.77\n",
      "Epoch 13, Iteration 35736 in 3.19 seconds. Samples per second 11214.30\n",
      "Epoch 14, Iteration 35736 in 3.18 seconds. Samples per second 11235.64\n",
      "Epoch 15, Iteration 35736 in 3.11 seconds. Samples per second 11474.92\n",
      "Epoch 16, Iteration 35736 in 3.11 seconds. Samples per second 11485.43\n",
      "Epoch 17, Iteration 35736 in 3.11 seconds. Samples per second 11498.25\n",
      "Epoch 18, Iteration 35736 in 3.01 seconds. Samples per second 11875.36\n",
      "Epoch 19, Iteration 35736 in 3.05 seconds. Samples per second 11719.77\n",
      "Epoch 20, Iteration 35736 in 3.02 seconds. Samples per second 11824.34\n",
      "Epoch 21, Iteration 35736 in 3.28 seconds. Samples per second 10897.06\n",
      "Epoch 22, Iteration 35736 in 3.08 seconds. Samples per second 11609.41\n",
      "Epoch 23, Iteration 35736 in 3.06 seconds. Samples per second 11670.99\n",
      "Epoch 24, Iteration 35736 in 3.04 seconds. Samples per second 11738.48\n",
      "Train completed in 1.58 minutes\n",
      "EvaluatorHoldout: Processed 35595 (100.0%) in 32.77 sec. Users per second: 1086\n"
     ]
    },
    {
     "name": "stderr",
     "output_type": "stream",
     "text": [
      "[I 2024-12-16 03:39:24,328] Trial 52 finished with value: 0.036285081059626946 and parameters: {'topK': 9, 'epochs': 24, 'lambda_i': 0.002669948226823186, 'lambda_j': 0.0012341076221909647, 'learning_rate': 0.03679505848831504}. Best is trial 51 with value: 0.03723260467739899.\n"
     ]
    },
    {
     "name": "stdout",
     "output_type": "stream",
     "text": [
      "Epoch 1, Iteration 35736 in 10.19 seconds. Samples per second 3506.60\n",
      "Epoch 2, Iteration 35736 in 7.59 seconds. Samples per second 4705.90\n",
      "Epoch 3, Iteration 35736 in 5.83 seconds. Samples per second 6134.02\n",
      "Epoch 4, Iteration 35736 in 4.98 seconds. Samples per second 7175.54\n",
      "Epoch 5, Iteration 35736 in 4.62 seconds. Samples per second 7731.51\n",
      "Epoch 6, Iteration 35736 in 4.14 seconds. Samples per second 8623.18\n",
      "Epoch 7, Iteration 35736 in 3.87 seconds. Samples per second 9229.94\n",
      "Epoch 8, Iteration 35736 in 3.63 seconds. Samples per second 9847.84\n",
      "Epoch 9, Iteration 35736 in 3.43 seconds. Samples per second 10421.86\n",
      "Epoch 10, Iteration 35736 in 3.42 seconds. Samples per second 10457.72\n",
      "Epoch 11, Iteration 35736 in 3.35 seconds. Samples per second 10682.27\n",
      "Epoch 12, Iteration 35736 in 3.21 seconds. Samples per second 11133.77\n",
      "Epoch 13, Iteration 35736 in 3.28 seconds. Samples per second 10903.61\n",
      "Epoch 14, Iteration 35736 in 3.35 seconds. Samples per second 10671.75\n",
      "Epoch 15, Iteration 35736 in 3.13 seconds. Samples per second 11400.09\n",
      "Epoch 16, Iteration 35736 in 3.05 seconds. Samples per second 11700.31\n",
      "Epoch 17, Iteration 35736 in 3.34 seconds. Samples per second 10705.64\n",
      "Epoch 18, Iteration 35736 in 3.17 seconds. Samples per second 11267.61\n",
      "Epoch 19, Iteration 35736 in 3.11 seconds. Samples per second 11508.95\n",
      "Epoch 20, Iteration 35736 in 3.10 seconds. Samples per second 11511.39\n",
      "Epoch 21, Iteration 35736 in 3.13 seconds. Samples per second 11430.59\n",
      "Epoch 22, Iteration 35736 in 3.09 seconds. Samples per second 11554.22\n",
      "Epoch 23, Iteration 35736 in 3.14 seconds. Samples per second 11397.43\n",
      "Train completed in 1.55 minutes\n",
      "EvaluatorHoldout: Processed 35595 (100.0%) in 33.34 sec. Users per second: 1068\n"
     ]
    },
    {
     "name": "stderr",
     "output_type": "stream",
     "text": [
      "[I 2024-12-16 03:43:26,293] Trial 53 finished with value: 0.03599671681192833 and parameters: {'topK': 11, 'epochs': 23, 'lambda_i': 0.0021337503398333032, 'lambda_j': 0.001046945952241351, 'learning_rate': 0.03929844444620155}. Best is trial 51 with value: 0.03723260467739899.\n"
     ]
    },
    {
     "name": "stdout",
     "output_type": "stream",
     "text": [
      "Epoch 1, Iteration 35736 in 10.13 seconds. Samples per second 3526.27\n",
      "Epoch 2, Iteration 35736 in 7.29 seconds. Samples per second 4899.80\n",
      "Epoch 3, Iteration 35736 in 5.86 seconds. Samples per second 6097.77\n",
      "Epoch 4, Iteration 35736 in 4.97 seconds. Samples per second 7185.69\n",
      "Epoch 5, Iteration 35736 in 4.46 seconds. Samples per second 8014.66\n",
      "Epoch 6, Iteration 35736 in 4.10 seconds. Samples per second 8725.84\n",
      "Epoch 7, Iteration 35736 in 3.93 seconds. Samples per second 9081.67\n",
      "Epoch 8, Iteration 35736 in 3.62 seconds. Samples per second 9866.23\n",
      "Epoch 9, Iteration 35736 in 3.41 seconds. Samples per second 10470.89\n",
      "Epoch 10, Iteration 35736 in 3.45 seconds. Samples per second 10356.83\n",
      "Epoch 11, Iteration 35736 in 3.36 seconds. Samples per second 10629.96\n",
      "Epoch 12, Iteration 35736 in 3.30 seconds. Samples per second 10814.37\n",
      "Epoch 13, Iteration 35736 in 3.20 seconds. Samples per second 11177.20\n",
      "Epoch 14, Iteration 35736 in 3.25 seconds. Samples per second 10979.39\n",
      "Epoch 15, Iteration 35736 in 3.08 seconds. Samples per second 11602.91\n",
      "Epoch 16, Iteration 35736 in 3.14 seconds. Samples per second 11384.75\n",
      "Epoch 17, Iteration 35736 in 3.20 seconds. Samples per second 11150.37\n",
      "Epoch 18, Iteration 35736 in 3.09 seconds. Samples per second 11562.35\n",
      "Epoch 19, Iteration 35736 in 3.10 seconds. Samples per second 11544.86\n",
      "Epoch 20, Iteration 35736 in 3.15 seconds. Samples per second 11357.80\n",
      "Epoch 21, Iteration 35736 in 3.08 seconds. Samples per second 11603.63\n",
      "Epoch 22, Iteration 35736 in 3.09 seconds. Samples per second 11554.43\n",
      "Epoch 23, Iteration 35736 in 3.21 seconds. Samples per second 11147.43\n",
      "Epoch 24, Iteration 35736 in 3.12 seconds. Samples per second 11468.05\n",
      "Epoch 25, Iteration 35736 in 3.13 seconds. Samples per second 11420.00\n",
      "Epoch 26, Iteration 35736 in 3.09 seconds. Samples per second 11576.22\n",
      "Epoch 27, Iteration 35736 in 3.12 seconds. Samples per second 11439.79\n",
      "Epoch 28, Iteration 35736 in 3.09 seconds. Samples per second 11574.18\n",
      "Train completed in 1.80 minutes\n",
      "EvaluatorHoldout: Processed 35595 (100.0%) in 34.53 sec. Users per second: 1031\n"
     ]
    },
    {
     "name": "stderr",
     "output_type": "stream",
     "text": [
      "[I 2024-12-16 03:47:45,423] Trial 54 finished with value: 0.03641825586347181 and parameters: {'topK': 17, 'epochs': 28, 'lambda_i': 0.002128724225847287, 'lambda_j': 0.0012651621183457004, 'learning_rate': 0.034432730045582685}. Best is trial 51 with value: 0.03723260467739899.\n"
     ]
    },
    {
     "name": "stdout",
     "output_type": "stream",
     "text": [
      "Epoch 1, Iteration 35736 in 10.24 seconds. Samples per second 3489.32\n",
      "Epoch 2, Iteration 35736 in 7.29 seconds. Samples per second 4904.95\n",
      "Epoch 3, Iteration 35736 in 5.91 seconds. Samples per second 6043.86\n",
      "Epoch 4, Iteration 35736 in 5.12 seconds. Samples per second 6984.84\n",
      "Epoch 5, Iteration 35736 in 4.35 seconds. Samples per second 8208.52\n",
      "Epoch 6, Iteration 35736 in 4.12 seconds. Samples per second 8673.77\n",
      "Epoch 7, Iteration 35736 in 3.93 seconds. Samples per second 9104.59\n",
      "Epoch 8, Iteration 35736 in 3.59 seconds. Samples per second 9967.70\n",
      "Epoch 9, Iteration 35736 in 3.54 seconds. Samples per second 10107.72\n",
      "Epoch 10, Iteration 35736 in 3.39 seconds. Samples per second 10539.62\n",
      "Epoch 11, Iteration 35736 in 3.29 seconds. Samples per second 10874.54\n",
      "Epoch 12, Iteration 35736 in 3.26 seconds. Samples per second 10959.31\n",
      "Epoch 13, Iteration 35736 in 3.20 seconds. Samples per second 11160.79\n",
      "Epoch 14, Iteration 35736 in 3.22 seconds. Samples per second 11084.03\n",
      "Epoch 15, Iteration 35736 in 3.20 seconds. Samples per second 11162.57\n",
      "Epoch 16, Iteration 35736 in 3.22 seconds. Samples per second 11109.15\n",
      "Epoch 17, Iteration 35736 in 3.21 seconds. Samples per second 11125.16\n",
      "Epoch 18, Iteration 35736 in 3.13 seconds. Samples per second 11416.47\n",
      "Epoch 19, Iteration 35736 in 3.06 seconds. Samples per second 11675.30\n",
      "Epoch 20, Iteration 35736 in 3.15 seconds. Samples per second 11333.90\n",
      "Epoch 21, Iteration 35736 in 3.03 seconds. Samples per second 11782.40\n",
      "Epoch 22, Iteration 35736 in 3.08 seconds. Samples per second 11619.65\n",
      "Epoch 23, Iteration 35736 in 2.97 seconds. Samples per second 12043.19\n",
      "Epoch 24, Iteration 35736 in 3.08 seconds. Samples per second 11616.77\n",
      "Epoch 25, Iteration 35736 in 3.13 seconds. Samples per second 11407.21\n",
      "Epoch 26, Iteration 35736 in 3.07 seconds. Samples per second 11656.39\n",
      "Epoch 27, Iteration 35736 in 3.05 seconds. Samples per second 11723.04\n",
      "Epoch 28, Iteration 35736 in 3.01 seconds. Samples per second 11857.06\n",
      "Train completed in 1.80 minutes\n",
      "EvaluatorHoldout: Processed 35595 (100.0%) in 32.53 sec. Users per second: 1094\n"
     ]
    },
    {
     "name": "stderr",
     "output_type": "stream",
     "text": [
      "[I 2024-12-16 03:52:01,696] Trial 55 finished with value: 0.03473236610278218 and parameters: {'topK': 7, 'epochs': 28, 'lambda_i': 0.002281008241497726, 'lambda_j': 0.0012457698304146963, 'learning_rate': 0.01770607252831578}. Best is trial 51 with value: 0.03723260467739899.\n"
     ]
    },
    {
     "name": "stdout",
     "output_type": "stream",
     "text": [
      "Epoch 1, Iteration 35736 in 10.30 seconds. Samples per second 3470.24\n",
      "Epoch 2, Iteration 35736 in 7.55 seconds. Samples per second 4733.28\n",
      "Epoch 3, Iteration 35736 in 5.94 seconds. Samples per second 6019.61\n",
      "Epoch 4, Iteration 35736 in 4.99 seconds. Samples per second 7155.02\n",
      "Epoch 5, Iteration 35736 in 4.53 seconds. Samples per second 7885.90\n",
      "Epoch 6, Iteration 35736 in 4.00 seconds. Samples per second 8943.39\n",
      "Epoch 7, Iteration 35736 in 3.77 seconds. Samples per second 9487.01\n",
      "Epoch 8, Iteration 35736 in 3.57 seconds. Samples per second 10020.51\n",
      "Epoch 9, Iteration 35736 in 3.52 seconds. Samples per second 10147.30\n",
      "Epoch 10, Iteration 35736 in 3.49 seconds. Samples per second 10242.39\n",
      "Epoch 11, Iteration 35736 in 3.43 seconds. Samples per second 10428.65\n",
      "Epoch 12, Iteration 35736 in 3.28 seconds. Samples per second 10898.45\n",
      "Epoch 13, Iteration 35736 in 3.32 seconds. Samples per second 10772.31\n",
      "Epoch 14, Iteration 35736 in 3.15 seconds. Samples per second 11350.32\n",
      "Epoch 15, Iteration 35736 in 3.12 seconds. Samples per second 11449.96\n",
      "Epoch 16, Iteration 35736 in 3.09 seconds. Samples per second 11574.19\n",
      "Epoch 17, Iteration 35736 in 3.21 seconds. Samples per second 11147.77\n",
      "Epoch 18, Iteration 35736 in 3.02 seconds. Samples per second 11837.70\n",
      "Epoch 19, Iteration 35736 in 3.04 seconds. Samples per second 11759.25\n",
      "Epoch 20, Iteration 35736 in 3.01 seconds. Samples per second 11854.90\n",
      "Epoch 21, Iteration 35736 in 3.04 seconds. Samples per second 11768.83\n",
      "Epoch 22, Iteration 35736 in 3.07 seconds. Samples per second 11655.74\n",
      "Epoch 23, Iteration 35736 in 2.99 seconds. Samples per second 11939.15\n",
      "Epoch 24, Iteration 35736 in 3.08 seconds. Samples per second 11585.67\n",
      "Epoch 25, Iteration 35736 in 3.02 seconds. Samples per second 11829.36\n",
      "Train completed in 1.64 minutes\n",
      "EvaluatorHoldout: Processed 35595 (100.0%) in 33.64 sec. Users per second: 1058\n"
     ]
    },
    {
     "name": "stderr",
     "output_type": "stream",
     "text": [
      "[I 2024-12-16 03:56:11,317] Trial 56 finished with value: 0.03615326635406573 and parameters: {'topK': 13, 'epochs': 25, 'lambda_i': 0.00317092440230433, 'lambda_j': 0.0018894901263502915, 'learning_rate': 0.03506847431783512}. Best is trial 51 with value: 0.03723260467739899.\n"
     ]
    },
    {
     "name": "stdout",
     "output_type": "stream",
     "text": [
      "Epoch 1, Iteration 35736 in 10.19 seconds. Samples per second 3507.92\n",
      "Epoch 2, Iteration 35736 in 7.28 seconds. Samples per second 4912.15\n",
      "Epoch 3, Iteration 35736 in 5.86 seconds. Samples per second 6095.61\n",
      "Epoch 4, Iteration 35736 in 5.08 seconds. Samples per second 7030.73\n",
      "Epoch 5, Iteration 35736 in 4.58 seconds. Samples per second 7798.63\n",
      "Epoch 6, Iteration 35736 in 4.20 seconds. Samples per second 8510.66\n",
      "Epoch 7, Iteration 35736 in 3.84 seconds. Samples per second 9305.23\n",
      "Epoch 8, Iteration 35736 in 3.64 seconds. Samples per second 9814.92\n",
      "Epoch 9, Iteration 35736 in 3.57 seconds. Samples per second 10019.08\n",
      "Epoch 10, Iteration 35736 in 3.49 seconds. Samples per second 10233.05\n",
      "Epoch 11, Iteration 35736 in 3.47 seconds. Samples per second 10285.52\n",
      "Epoch 12, Iteration 35736 in 3.31 seconds. Samples per second 10794.05\n",
      "Epoch 13, Iteration 35736 in 3.16 seconds. Samples per second 11307.63\n",
      "Epoch 14, Iteration 35736 in 3.24 seconds. Samples per second 11024.55\n",
      "Epoch 15, Iteration 35736 in 3.12 seconds. Samples per second 11444.53\n",
      "Epoch 16, Iteration 35736 in 3.05 seconds. Samples per second 11708.26\n",
      "Epoch 17, Iteration 35736 in 3.08 seconds. Samples per second 11592.10\n",
      "Epoch 18, Iteration 35736 in 3.07 seconds. Samples per second 11646.27\n",
      "Epoch 19, Iteration 35736 in 3.05 seconds. Samples per second 11705.69\n",
      "Epoch 20, Iteration 35736 in 3.02 seconds. Samples per second 11829.17\n",
      "Train completed in 1.39 minutes\n",
      "EvaluatorHoldout: Processed 35595 (100.0%) in 33.70 sec. Users per second: 1056\n"
     ]
    },
    {
     "name": "stderr",
     "output_type": "stream",
     "text": [
      "[I 2024-12-16 04:00:04,073] Trial 57 finished with value: 0.03519784190306619 and parameters: {'topK': 14, 'epochs': 20, 'lambda_i': 0.003001708853885607, 'lambda_j': 0.004376066757131202, 'learning_rate': 0.03319511759857625}. Best is trial 51 with value: 0.03723260467739899.\n"
     ]
    },
    {
     "name": "stdout",
     "output_type": "stream",
     "text": [
      "Epoch 1, Iteration 35736 in 10.21 seconds. Samples per second 3501.65\n",
      "Epoch 2, Iteration 35736 in 7.34 seconds. Samples per second 4867.59\n",
      "Epoch 3, Iteration 35736 in 6.08 seconds. Samples per second 5880.41\n",
      "Epoch 4, Iteration 35736 in 4.96 seconds. Samples per second 7200.95\n",
      "Epoch 5, Iteration 35736 in 4.41 seconds. Samples per second 8100.24\n",
      "Epoch 6, Iteration 35736 in 4.09 seconds. Samples per second 8748.02\n",
      "Epoch 7, Iteration 35736 in 3.77 seconds. Samples per second 9489.63\n",
      "Epoch 8, Iteration 35736 in 3.64 seconds. Samples per second 9806.58\n",
      "Epoch 9, Iteration 35736 in 3.55 seconds. Samples per second 10075.62\n",
      "Epoch 10, Iteration 35736 in 3.43 seconds. Samples per second 10418.06\n",
      "Epoch 11, Iteration 35736 in 3.33 seconds. Samples per second 10715.79\n",
      "Epoch 12, Iteration 35736 in 3.37 seconds. Samples per second 10608.35\n",
      "Epoch 13, Iteration 35736 in 3.23 seconds. Samples per second 11060.90\n",
      "Epoch 14, Iteration 35736 in 3.15 seconds. Samples per second 11351.52\n",
      "Epoch 15, Iteration 35736 in 3.23 seconds. Samples per second 11050.11\n",
      "Epoch 16, Iteration 35736 in 3.12 seconds. Samples per second 11438.77\n",
      "Epoch 17, Iteration 35736 in 3.03 seconds. Samples per second 11778.76\n",
      "Epoch 18, Iteration 35736 in 3.06 seconds. Samples per second 11686.35\n",
      "Epoch 19, Iteration 35736 in 3.02 seconds. Samples per second 11833.36\n",
      "Epoch 20, Iteration 35736 in 3.04 seconds. Samples per second 11754.54\n",
      "Epoch 21, Iteration 35736 in 3.09 seconds. Samples per second 11573.84\n",
      "Epoch 22, Iteration 35736 in 2.99 seconds. Samples per second 11969.75\n",
      "Epoch 23, Iteration 35736 in 3.00 seconds. Samples per second 11919.41\n",
      "Epoch 24, Iteration 35736 in 3.10 seconds. Samples per second 11533.93\n",
      "Epoch 25, Iteration 35736 in 2.98 seconds. Samples per second 11985.94\n",
      "Epoch 26, Iteration 35736 in 3.21 seconds. Samples per second 11142.82\n",
      "Train completed in 1.69 minutes\n",
      "EvaluatorHoldout: Processed 35595 (100.0%) in 34.46 sec. Users per second: 1033\n"
     ]
    },
    {
     "name": "stderr",
     "output_type": "stream",
     "text": [
      "[I 2024-12-16 04:04:23,618] Trial 58 finished with value: 0.03339586663901773 and parameters: {'topK': 18, 'epochs': 26, 'lambda_i': 0.0015317085831872362, 'lambda_j': 0.001932436475327868, 'learning_rate': 0.008331339961127834}. Best is trial 51 with value: 0.03723260467739899.\n"
     ]
    },
    {
     "name": "stdout",
     "output_type": "stream",
     "text": [
      "Epoch 1, Iteration 35736 in 10.05 seconds. Samples per second 3557.03\n",
      "Epoch 2, Iteration 35736 in 7.30 seconds. Samples per second 4894.21\n",
      "Epoch 3, Iteration 35736 in 5.97 seconds. Samples per second 5981.22\n",
      "Epoch 4, Iteration 35736 in 5.02 seconds. Samples per second 7122.43\n",
      "Epoch 5, Iteration 35736 in 4.42 seconds. Samples per second 8092.69\n",
      "Epoch 6, Iteration 35736 in 4.13 seconds. Samples per second 8656.68\n",
      "Epoch 7, Iteration 35736 in 3.85 seconds. Samples per second 9277.76\n",
      "Epoch 8, Iteration 35736 in 3.80 seconds. Samples per second 9413.33\n",
      "Epoch 9, Iteration 35736 in 3.51 seconds. Samples per second 10172.58\n",
      "Epoch 10, Iteration 35736 in 3.33 seconds. Samples per second 10741.75\n",
      "Epoch 11, Iteration 35736 in 3.30 seconds. Samples per second 10830.65\n",
      "Epoch 12, Iteration 35736 in 3.20 seconds. Samples per second 11172.64\n",
      "Epoch 13, Iteration 35736 in 3.27 seconds. Samples per second 10938.42\n",
      "Epoch 14, Iteration 35736 in 3.10 seconds. Samples per second 11542.59\n",
      "Epoch 15, Iteration 35736 in 3.11 seconds. Samples per second 11503.85\n",
      "Epoch 16, Iteration 35736 in 3.19 seconds. Samples per second 11199.76\n",
      "Epoch 17, Iteration 35736 in 3.06 seconds. Samples per second 11673.61\n",
      "Epoch 18, Iteration 35736 in 3.29 seconds. Samples per second 10858.81\n",
      "Epoch 19, Iteration 35736 in 3.11 seconds. Samples per second 11477.06\n",
      "Epoch 20, Iteration 35736 in 2.99 seconds. Samples per second 11947.37\n",
      "Epoch 21, Iteration 35736 in 3.18 seconds. Samples per second 11247.51\n",
      "Epoch 22, Iteration 35736 in 3.02 seconds. Samples per second 11816.95\n",
      "Epoch 23, Iteration 35736 in 2.96 seconds. Samples per second 12082.72\n",
      "Epoch 24, Iteration 35736 in 2.99 seconds. Samples per second 11946.57\n",
      "Epoch 25, Iteration 35736 in 3.05 seconds. Samples per second 11705.68\n",
      "Epoch 26, Iteration 35736 in 3.16 seconds. Samples per second 11310.50\n",
      "Epoch 27, Iteration 35736 in 2.97 seconds. Samples per second 12019.19\n",
      "Epoch 28, Iteration 35736 in 3.02 seconds. Samples per second 11823.94\n",
      "Epoch 29, Iteration 35736 in 3.04 seconds. Samples per second 11738.66\n",
      "Epoch 30, Iteration 35736 in 3.07 seconds. Samples per second 11646.07\n",
      "Epoch 31, Iteration 35736 in 2.98 seconds. Samples per second 11978.70\n",
      "Train completed in 1.94 minutes\n",
      "EvaluatorHoldout: Processed 35595 (100.0%) in 30.44 sec. Users per second: 1170\n"
     ]
    },
    {
     "name": "stderr",
     "output_type": "stream",
     "text": [
      "[I 2024-12-16 04:08:46,793] Trial 59 finished with value: 0.03254735483180398 and parameters: {'topK': 2, 'epochs': 31, 'lambda_i': 0.0037130810374600355, 'lambda_j': 0.0009354220619649943, 'learning_rate': 0.024428526857446817}. Best is trial 51 with value: 0.03723260467739899.\n"
     ]
    },
    {
     "name": "stdout",
     "output_type": "stream",
     "text": [
      "Epoch 1, Iteration 35736 in 10.22 seconds. Samples per second 3496.69\n",
      "Epoch 2, Iteration 35736 in 7.31 seconds. Samples per second 4885.66\n",
      "Epoch 3, Iteration 35736 in 5.89 seconds. Samples per second 6064.59\n",
      "Epoch 4, Iteration 35736 in 5.02 seconds. Samples per second 7113.36\n",
      "Epoch 5, Iteration 35736 in 4.59 seconds. Samples per second 7780.65\n",
      "Epoch 6, Iteration 35736 in 4.04 seconds. Samples per second 8854.06\n",
      "Epoch 7, Iteration 35736 in 3.73 seconds. Samples per second 9580.17\n",
      "Epoch 8, Iteration 35736 in 3.59 seconds. Samples per second 9968.20\n",
      "Epoch 9, Iteration 35736 in 3.56 seconds. Samples per second 10040.34\n",
      "Epoch 10, Iteration 35736 in 3.53 seconds. Samples per second 10127.20\n",
      "Epoch 11, Iteration 35736 in 3.35 seconds. Samples per second 10655.29\n",
      "Epoch 12, Iteration 35736 in 3.34 seconds. Samples per second 10691.82\n",
      "Epoch 13, Iteration 35736 in 3.25 seconds. Samples per second 11005.74\n",
      "Epoch 14, Iteration 35736 in 3.35 seconds. Samples per second 10653.98\n",
      "Epoch 15, Iteration 35736 in 3.16 seconds. Samples per second 11303.44\n",
      "Epoch 16, Iteration 35736 in 3.16 seconds. Samples per second 11311.45\n",
      "Epoch 17, Iteration 35736 in 3.07 seconds. Samples per second 11627.02\n",
      "Epoch 18, Iteration 35736 in 3.00 seconds. Samples per second 11892.99\n",
      "Epoch 19, Iteration 35736 in 3.00 seconds. Samples per second 11926.08\n",
      "Epoch 20, Iteration 35736 in 3.32 seconds. Samples per second 10755.95\n",
      "Epoch 21, Iteration 35736 in 3.24 seconds. Samples per second 11043.09\n",
      "Epoch 22, Iteration 35736 in 3.14 seconds. Samples per second 11371.61\n",
      "Epoch 23, Iteration 35736 in 3.02 seconds. Samples per second 11832.44\n",
      "Epoch 24, Iteration 35736 in 3.02 seconds. Samples per second 11823.07\n",
      "Epoch 25, Iteration 35736 in 3.05 seconds. Samples per second 11723.75\n",
      "Epoch 26, Iteration 35736 in 2.95 seconds. Samples per second 12097.02\n",
      "Epoch 27, Iteration 35736 in 3.00 seconds. Samples per second 11917.08\n",
      "Epoch 28, Iteration 35736 in 2.96 seconds. Samples per second 12055.60\n",
      "Epoch 29, Iteration 35736 in 3.07 seconds. Samples per second 11651.77\n",
      "Train completed in 1.85 minutes\n",
      "EvaluatorHoldout: Processed 35595 (100.0%) in 35.22 sec. Users per second: 1011\n"
     ]
    },
    {
     "name": "stderr",
     "output_type": "stream",
     "text": [
      "[I 2024-12-16 04:13:10,864] Trial 60 finished with value: 0.03174336283185744 and parameters: {'topK': 23, 'epochs': 29, 'lambda_i': 0.009009628307625831, 'lambda_j': 0.0032162298094811823, 'learning_rate': 0.00021281550632682068}. Best is trial 51 with value: 0.03723260467739899.\n"
     ]
    },
    {
     "name": "stdout",
     "output_type": "stream",
     "text": [
      "Epoch 1, Iteration 35736 in 10.11 seconds. Samples per second 3535.52\n",
      "Epoch 2, Iteration 35736 in 7.27 seconds. Samples per second 4915.20\n",
      "Epoch 3, Iteration 35736 in 5.92 seconds. Samples per second 6040.62\n",
      "Epoch 4, Iteration 35736 in 4.99 seconds. Samples per second 7154.44\n",
      "Epoch 5, Iteration 35736 in 4.36 seconds. Samples per second 8195.55\n",
      "Epoch 6, Iteration 35736 in 4.02 seconds. Samples per second 8879.90\n",
      "Epoch 7, Iteration 35736 in 3.87 seconds. Samples per second 9230.05\n",
      "Epoch 8, Iteration 35736 in 3.62 seconds. Samples per second 9861.67\n",
      "Epoch 9, Iteration 35736 in 3.61 seconds. Samples per second 9896.01\n",
      "Epoch 10, Iteration 35736 in 3.34 seconds. Samples per second 10710.05\n",
      "Epoch 11, Iteration 35736 in 3.34 seconds. Samples per second 10694.73\n",
      "Epoch 12, Iteration 35736 in 3.15 seconds. Samples per second 11337.24\n",
      "Epoch 13, Iteration 35736 in 3.16 seconds. Samples per second 11326.68\n",
      "Epoch 14, Iteration 35736 in 3.12 seconds. Samples per second 11460.92\n",
      "Epoch 15, Iteration 35736 in 3.05 seconds. Samples per second 11734.61\n",
      "Epoch 16, Iteration 35736 in 3.14 seconds. Samples per second 11363.28\n",
      "Epoch 17, Iteration 35736 in 3.15 seconds. Samples per second 11355.30\n",
      "Epoch 18, Iteration 35736 in 3.12 seconds. Samples per second 11450.42\n",
      "Epoch 19, Iteration 35736 in 3.04 seconds. Samples per second 11747.31\n",
      "Epoch 20, Iteration 35736 in 3.00 seconds. Samples per second 11910.13\n",
      "Epoch 21, Iteration 35736 in 3.16 seconds. Samples per second 11319.00\n",
      "Epoch 22, Iteration 35736 in 3.10 seconds. Samples per second 11533.41\n",
      "Epoch 23, Iteration 35736 in 3.07 seconds. Samples per second 11646.91\n",
      "Epoch 24, Iteration 35736 in 3.07 seconds. Samples per second 11655.93\n",
      "Epoch 25, Iteration 35736 in 3.05 seconds. Samples per second 11733.17\n",
      "Train completed in 1.63 minutes\n",
      "EvaluatorHoldout: Processed 35595 (100.0%) in 38.18 sec. Users per second: 932\n"
     ]
    },
    {
     "name": "stderr",
     "output_type": "stream",
     "text": [
      "[I 2024-12-16 04:17:25,067] Trial 61 finished with value: 0.034423553557770825 and parameters: {'topK': 58, 'epochs': 25, 'lambda_i': 0.0015328362040167734, 'lambda_j': 0.001143071997721082, 'learning_rate': 0.03963811045540832}. Best is trial 51 with value: 0.03723260467739899.\n"
     ]
    },
    {
     "name": "stdout",
     "output_type": "stream",
     "text": [
      "Epoch 1, Iteration 35736 in 10.02 seconds. Samples per second 3566.31\n",
      "Epoch 2, Iteration 35736 in 7.32 seconds. Samples per second 4884.54\n",
      "Epoch 3, Iteration 35736 in 5.91 seconds. Samples per second 6045.41\n",
      "Epoch 4, Iteration 35736 in 4.99 seconds. Samples per second 7156.24\n",
      "Epoch 5, Iteration 35736 in 4.36 seconds. Samples per second 8204.68\n",
      "Epoch 6, Iteration 35736 in 4.02 seconds. Samples per second 8898.32\n",
      "Epoch 7, Iteration 35736 in 3.74 seconds. Samples per second 9558.92\n",
      "Epoch 8, Iteration 35736 in 3.53 seconds. Samples per second 10123.58\n",
      "Epoch 9, Iteration 35736 in 3.43 seconds. Samples per second 10432.64\n",
      "Epoch 10, Iteration 35736 in 3.32 seconds. Samples per second 10773.73\n",
      "Epoch 11, Iteration 35736 in 3.30 seconds. Samples per second 10812.94\n",
      "Epoch 12, Iteration 35736 in 3.26 seconds. Samples per second 10953.98\n",
      "Epoch 13, Iteration 35736 in 3.23 seconds. Samples per second 11048.36\n",
      "Epoch 14, Iteration 35736 in 3.16 seconds. Samples per second 11319.78\n",
      "Epoch 15, Iteration 35736 in 3.13 seconds. Samples per second 11414.15\n",
      "Epoch 16, Iteration 35736 in 3.10 seconds. Samples per second 11527.01\n",
      "Epoch 17, Iteration 35736 in 3.05 seconds. Samples per second 11720.73\n",
      "Epoch 18, Iteration 35736 in 3.08 seconds. Samples per second 11590.10\n",
      "Epoch 19, Iteration 35736 in 3.04 seconds. Samples per second 11773.79\n",
      "Epoch 20, Iteration 35736 in 3.07 seconds. Samples per second 11656.25\n",
      "Epoch 21, Iteration 35736 in 3.18 seconds. Samples per second 11247.69\n",
      "Train completed in 1.42 minutes\n",
      "EvaluatorHoldout: Processed 35595 (100.0%) in 24.55 sec. Users per second: 1450\n"
     ]
    },
    {
     "name": "stderr",
     "output_type": "stream",
     "text": [
      "[I 2024-12-16 04:21:09,156] Trial 62 finished with value: 0.00028209999175022335 and parameters: {'topK': 0, 'epochs': 21, 'lambda_i': 0.004860525550570224, 'lambda_j': 0.0021064910126032186, 'learning_rate': 0.03926185603985798}. Best is trial 51 with value: 0.03723260467739899.\n"
     ]
    },
    {
     "name": "stdout",
     "output_type": "stream",
     "text": [
      "Epoch 1, Iteration 35736 in 10.11 seconds. Samples per second 3535.85\n",
      "Epoch 2, Iteration 35736 in 7.28 seconds. Samples per second 4907.41\n",
      "Epoch 3, Iteration 35736 in 5.80 seconds. Samples per second 6162.32\n",
      "Epoch 4, Iteration 35736 in 5.02 seconds. Samples per second 7121.18\n",
      "Epoch 5, Iteration 35736 in 4.42 seconds. Samples per second 8084.99\n",
      "Epoch 6, Iteration 35736 in 4.02 seconds. Samples per second 8898.77\n",
      "Epoch 7, Iteration 35736 in 3.73 seconds. Samples per second 9579.40\n",
      "Epoch 8, Iteration 35736 in 3.50 seconds. Samples per second 10199.21\n",
      "Epoch 9, Iteration 35736 in 3.42 seconds. Samples per second 10456.33\n",
      "Epoch 10, Iteration 35736 in 3.41 seconds. Samples per second 10494.54\n",
      "Epoch 11, Iteration 35736 in 3.25 seconds. Samples per second 11010.00\n",
      "Epoch 12, Iteration 35736 in 3.35 seconds. Samples per second 10652.66\n",
      "Epoch 13, Iteration 35736 in 3.29 seconds. Samples per second 10860.66\n",
      "Epoch 14, Iteration 35736 in 3.12 seconds. Samples per second 11459.20\n",
      "Epoch 15, Iteration 35736 in 3.06 seconds. Samples per second 11684.04\n",
      "Epoch 16, Iteration 35736 in 3.11 seconds. Samples per second 11496.80\n",
      "Epoch 17, Iteration 35736 in 3.08 seconds. Samples per second 11620.30\n",
      "Epoch 18, Iteration 35736 in 3.03 seconds. Samples per second 11804.36\n",
      "Epoch 19, Iteration 35736 in 3.01 seconds. Samples per second 11881.48\n",
      "Epoch 20, Iteration 35736 in 3.17 seconds. Samples per second 11290.39\n",
      "Epoch 21, Iteration 35736 in 3.09 seconds. Samples per second 11563.29\n",
      "Epoch 22, Iteration 35736 in 3.00 seconds. Samples per second 11916.02\n",
      "Epoch 23, Iteration 35736 in 3.11 seconds. Samples per second 11475.73\n",
      "Epoch 24, Iteration 35736 in 3.04 seconds. Samples per second 11762.01\n",
      "Epoch 25, Iteration 35736 in 3.07 seconds. Samples per second 11649.46\n",
      "Epoch 26, Iteration 35736 in 3.09 seconds. Samples per second 11577.07\n",
      "Epoch 27, Iteration 35736 in 3.14 seconds. Samples per second 11385.48\n",
      "Epoch 28, Iteration 35736 in 3.11 seconds. Samples per second 11497.98\n",
      "Train completed in 1.78 minutes\n",
      "EvaluatorHoldout: Processed 35595 (100.0%) in 37.86 sec. Users per second: 940\n"
     ]
    },
    {
     "name": "stderr",
     "output_type": "stream",
     "text": [
      "[I 2024-12-16 04:25:31,814] Trial 63 finished with value: 0.03333297770107616 and parameters: {'topK': 50, 'epochs': 28, 'lambda_i': 0.002373362245810028, 'lambda_j': 0.0008097690557067696, 'learning_rate': 0.014862663203954454}. Best is trial 51 with value: 0.03723260467739899.\n"
     ]
    },
    {
     "name": "stdout",
     "output_type": "stream",
     "text": [
      "Epoch 1, Iteration 35736 in 10.15 seconds. Samples per second 3521.74\n",
      "Epoch 2, Iteration 35736 in 7.29 seconds. Samples per second 4903.45\n",
      "Epoch 3, Iteration 35736 in 6.07 seconds. Samples per second 5887.80\n",
      "Epoch 4, Iteration 35736 in 4.96 seconds. Samples per second 7200.82\n",
      "Epoch 5, Iteration 35736 in 4.44 seconds. Samples per second 8053.69\n",
      "Epoch 6, Iteration 35736 in 4.04 seconds. Samples per second 8846.01\n",
      "Epoch 7, Iteration 35736 in 3.80 seconds. Samples per second 9413.26\n",
      "Epoch 8, Iteration 35736 in 3.57 seconds. Samples per second 9999.78\n",
      "Epoch 9, Iteration 35736 in 3.50 seconds. Samples per second 10216.86\n",
      "Epoch 10, Iteration 35736 in 3.31 seconds. Samples per second 10812.27\n",
      "Epoch 11, Iteration 35736 in 3.30 seconds. Samples per second 10822.64\n",
      "Epoch 12, Iteration 35736 in 3.29 seconds. Samples per second 10854.31\n",
      "Epoch 13, Iteration 35736 in 3.22 seconds. Samples per second 11084.41\n",
      "Epoch 14, Iteration 35736 in 3.14 seconds. Samples per second 11370.47\n",
      "Epoch 15, Iteration 35736 in 3.19 seconds. Samples per second 11196.84\n",
      "Epoch 16, Iteration 35736 in 3.28 seconds. Samples per second 10902.38\n",
      "Epoch 17, Iteration 35736 in 3.11 seconds. Samples per second 11486.93\n",
      "Epoch 18, Iteration 35736 in 3.07 seconds. Samples per second 11640.38\n",
      "Epoch 19, Iteration 35736 in 3.14 seconds. Samples per second 11384.48\n",
      "Epoch 20, Iteration 35736 in 3.16 seconds. Samples per second 11295.26\n",
      "Epoch 21, Iteration 35736 in 3.24 seconds. Samples per second 11013.87\n",
      "Epoch 22, Iteration 35736 in 3.22 seconds. Samples per second 11085.33\n",
      "Epoch 23, Iteration 35736 in 3.09 seconds. Samples per second 11553.37\n",
      "Epoch 24, Iteration 35736 in 3.01 seconds. Samples per second 11882.78\n",
      "Epoch 25, Iteration 35736 in 3.13 seconds. Samples per second 11418.12\n",
      "Epoch 26, Iteration 35736 in 3.11 seconds. Samples per second 11501.95\n",
      "Epoch 27, Iteration 35736 in 3.12 seconds. Samples per second 11438.74\n",
      "Epoch 28, Iteration 35736 in 3.11 seconds. Samples per second 11478.36\n",
      "Epoch 29, Iteration 35736 in 3.05 seconds. Samples per second 11727.07\n",
      "Epoch 30, Iteration 35736 in 2.96 seconds. Samples per second 12080.66\n",
      "Epoch 31, Iteration 35736 in 2.95 seconds. Samples per second 12119.92\n",
      "Train completed in 1.95 minutes\n",
      "EvaluatorHoldout: Processed 35595 (100.0%) in 39.49 sec. Users per second: 901\n"
     ]
    },
    {
     "name": "stderr",
     "output_type": "stream",
     "text": [
      "[I 2024-12-16 04:30:08,422] Trial 64 finished with value: 0.03388487548411581 and parameters: {'topK': 73, 'epochs': 31, 'lambda_i': 0.0026299237662603084, 'lambda_j': 0.0015736945452363951, 'learning_rate': 0.02366476624522737}. Best is trial 51 with value: 0.03723260467739899.\n"
     ]
    },
    {
     "name": "stdout",
     "output_type": "stream",
     "text": [
      "Epoch 1, Iteration 35736 in 10.12 seconds. Samples per second 3530.27\n",
      "Epoch 2, Iteration 35736 in 7.48 seconds. Samples per second 4774.46\n",
      "Epoch 3, Iteration 35736 in 5.91 seconds. Samples per second 6048.83\n",
      "Epoch 4, Iteration 35736 in 4.96 seconds. Samples per second 7200.95\n",
      "Epoch 5, Iteration 35736 in 4.55 seconds. Samples per second 7857.85\n",
      "Epoch 6, Iteration 35736 in 4.12 seconds. Samples per second 8684.01\n",
      "Epoch 7, Iteration 35736 in 3.89 seconds. Samples per second 9184.03\n",
      "Epoch 8, Iteration 35736 in 3.71 seconds. Samples per second 9631.37\n",
      "Epoch 9, Iteration 35736 in 3.53 seconds. Samples per second 10125.63\n",
      "Epoch 10, Iteration 35736 in 3.61 seconds. Samples per second 9906.33\n",
      "Epoch 11, Iteration 35736 in 3.42 seconds. Samples per second 10448.83\n",
      "Epoch 12, Iteration 35736 in 3.23 seconds. Samples per second 11061.01\n",
      "Epoch 13, Iteration 35736 in 3.21 seconds. Samples per second 11125.44\n",
      "Epoch 14, Iteration 35736 in 3.26 seconds. Samples per second 10965.29\n",
      "Epoch 15, Iteration 35736 in 3.11 seconds. Samples per second 11472.44\n",
      "Epoch 16, Iteration 35736 in 3.10 seconds. Samples per second 11525.35\n",
      "Epoch 17, Iteration 35736 in 3.03 seconds. Samples per second 11813.28\n",
      "Epoch 18, Iteration 35736 in 3.33 seconds. Samples per second 10728.80\n",
      "Epoch 19, Iteration 35736 in 3.11 seconds. Samples per second 11494.90\n",
      "Epoch 20, Iteration 35736 in 3.04 seconds. Samples per second 11746.02\n",
      "Epoch 21, Iteration 35736 in 3.01 seconds. Samples per second 11886.78\n",
      "Epoch 22, Iteration 35736 in 3.11 seconds. Samples per second 11498.91\n",
      "Train completed in 1.50 minutes\n",
      "EvaluatorHoldout: Processed 35595 (100.0%) in 34.56 sec. Users per second: 1030\n"
     ]
    },
    {
     "name": "stderr",
     "output_type": "stream",
     "text": [
      "[I 2024-12-16 04:34:09,043] Trial 65 finished with value: 0.03756080865646696 and parameters: {'topK': 20, 'epochs': 22, 'lambda_i': 0.030209737213780587, 'lambda_j': 0.00043056981303035274, 'learning_rate': 0.08458483091529401}. Best is trial 65 with value: 0.03756080865646696.\n"
     ]
    },
    {
     "name": "stdout",
     "output_type": "stream",
     "text": [
      "Epoch 1, Iteration 35736 in 10.05 seconds. Samples per second 3557.43\n",
      "Epoch 2, Iteration 35736 in 7.26 seconds. Samples per second 4922.66\n",
      "Epoch 3, Iteration 35736 in 5.79 seconds. Samples per second 6166.76\n",
      "Epoch 4, Iteration 35736 in 5.01 seconds. Samples per second 7128.81\n",
      "Epoch 5, Iteration 35736 in 4.43 seconds. Samples per second 8062.23\n",
      "Epoch 6, Iteration 35736 in 4.02 seconds. Samples per second 8896.54\n",
      "Epoch 7, Iteration 35736 in 3.93 seconds. Samples per second 9099.78\n",
      "Epoch 8, Iteration 35736 in 3.70 seconds. Samples per second 9656.36\n",
      "Epoch 9, Iteration 35736 in 3.50 seconds. Samples per second 10201.66\n",
      "Epoch 10, Iteration 35736 in 3.48 seconds. Samples per second 10280.80\n",
      "Epoch 11, Iteration 35736 in 3.36 seconds. Samples per second 10634.75\n",
      "Epoch 12, Iteration 35736 in 3.30 seconds. Samples per second 10833.84\n",
      "Epoch 13, Iteration 35736 in 3.41 seconds. Samples per second 10474.39\n",
      "Epoch 14, Iteration 35736 in 3.10 seconds. Samples per second 11512.60\n",
      "Epoch 15, Iteration 35736 in 3.24 seconds. Samples per second 11018.37\n",
      "Epoch 16, Iteration 35736 in 3.08 seconds. Samples per second 11591.94\n",
      "Epoch 17, Iteration 35736 in 3.03 seconds. Samples per second 11775.39\n",
      "Epoch 18, Iteration 35736 in 3.15 seconds. Samples per second 11357.62\n",
      "Epoch 19, Iteration 35736 in 2.99 seconds. Samples per second 11943.08\n",
      "Epoch 20, Iteration 35736 in 3.18 seconds. Samples per second 11245.57\n",
      "Epoch 21, Iteration 35736 in 3.00 seconds. Samples per second 11898.62\n",
      "Epoch 22, Iteration 35736 in 3.05 seconds. Samples per second 11699.86\n",
      "Train completed in 1.48 minutes\n",
      "EvaluatorHoldout: Processed 35595 (100.0%) in 34.45 sec. Users per second: 1033\n"
     ]
    },
    {
     "name": "stderr",
     "output_type": "stream",
     "text": [
      "[I 2024-12-16 04:38:08,286] Trial 66 finished with value: 0.0374125523693567 and parameters: {'topK': 19, 'epochs': 22, 'lambda_i': 0.03059950788701519, 'lambda_j': 0.00035377632156841115, 'learning_rate': 0.08094265302207017}. Best is trial 65 with value: 0.03756080865646696.\n"
     ]
    },
    {
     "name": "stdout",
     "output_type": "stream",
     "text": [
      "Epoch 1, Iteration 35736 in 10.21 seconds. Samples per second 3499.33\n",
      "Epoch 2, Iteration 35736 in 7.40 seconds. Samples per second 4829.19\n",
      "Epoch 3, Iteration 35736 in 5.86 seconds. Samples per second 6095.09\n",
      "Epoch 4, Iteration 35736 in 4.92 seconds. Samples per second 7267.43\n",
      "Epoch 5, Iteration 35736 in 4.56 seconds. Samples per second 7828.26\n",
      "Epoch 6, Iteration 35736 in 4.01 seconds. Samples per second 8911.95\n",
      "Epoch 7, Iteration 35736 in 3.87 seconds. Samples per second 9231.32\n",
      "Epoch 8, Iteration 35736 in 3.59 seconds. Samples per second 9942.23\n",
      "Epoch 9, Iteration 35736 in 3.54 seconds. Samples per second 10093.27\n",
      "Epoch 10, Iteration 35736 in 3.46 seconds. Samples per second 10329.31\n",
      "Epoch 11, Iteration 35736 in 3.32 seconds. Samples per second 10755.57\n",
      "Epoch 12, Iteration 35736 in 3.39 seconds. Samples per second 10533.53\n",
      "Epoch 13, Iteration 35736 in 3.23 seconds. Samples per second 11070.88\n",
      "Epoch 14, Iteration 35736 in 3.16 seconds. Samples per second 11294.26\n",
      "Epoch 15, Iteration 35736 in 3.08 seconds. Samples per second 11599.43\n",
      "Epoch 16, Iteration 35736 in 3.25 seconds. Samples per second 10984.98\n",
      "Epoch 17, Iteration 35736 in 3.03 seconds. Samples per second 11802.04\n",
      "Epoch 18, Iteration 35736 in 3.04 seconds. Samples per second 11736.55\n",
      "Epoch 19, Iteration 35736 in 3.01 seconds. Samples per second 11887.00\n",
      "Epoch 20, Iteration 35736 in 3.15 seconds. Samples per second 11344.37\n",
      "Epoch 21, Iteration 35736 in 3.14 seconds. Samples per second 11378.13\n",
      "Epoch 22, Iteration 35736 in 3.08 seconds. Samples per second 11584.55\n",
      "Epoch 23, Iteration 35736 in 3.10 seconds. Samples per second 11513.66\n",
      "Train completed in 1.54 minutes\n",
      "EvaluatorHoldout: Processed 35595 (100.0%) in 34.18 sec. Users per second: 1041\n"
     ]
    },
    {
     "name": "stderr",
     "output_type": "stream",
     "text": [
      "[I 2024-12-16 04:42:10,456] Trial 67 finished with value: 0.03803690437171121 and parameters: {'topK': 18, 'epochs': 23, 'lambda_i': 0.04566214521904554, 'lambda_j': 0.0004086302869195862, 'learning_rate': 0.08629229463695913}. Best is trial 67 with value: 0.03803690437171121.\n"
     ]
    },
    {
     "name": "stdout",
     "output_type": "stream",
     "text": [
      "Epoch 1, Iteration 35736 in 10.14 seconds. Samples per second 3525.83\n",
      "Epoch 2, Iteration 35736 in 7.28 seconds. Samples per second 4909.54\n",
      "Epoch 3, Iteration 35736 in 5.84 seconds. Samples per second 6117.21\n",
      "Epoch 4, Iteration 35736 in 4.96 seconds. Samples per second 7207.84\n",
      "Epoch 5, Iteration 35736 in 4.44 seconds. Samples per second 8057.53\n",
      "Epoch 6, Iteration 35736 in 4.06 seconds. Samples per second 8803.12\n",
      "Epoch 7, Iteration 35736 in 3.87 seconds. Samples per second 9223.81\n",
      "Epoch 8, Iteration 35736 in 3.66 seconds. Samples per second 9767.97\n",
      "Epoch 9, Iteration 35736 in 3.54 seconds. Samples per second 10082.36\n",
      "Epoch 10, Iteration 35736 in 3.55 seconds. Samples per second 10062.99\n",
      "Epoch 11, Iteration 35736 in 3.43 seconds. Samples per second 10432.39\n",
      "Epoch 12, Iteration 35736 in 3.26 seconds. Samples per second 10965.29\n",
      "Epoch 13, Iteration 35736 in 3.19 seconds. Samples per second 11216.72\n",
      "Epoch 14, Iteration 35736 in 3.12 seconds. Samples per second 11466.84\n",
      "Epoch 15, Iteration 35736 in 3.18 seconds. Samples per second 11232.11\n",
      "Epoch 16, Iteration 35736 in 3.08 seconds. Samples per second 11621.38\n",
      "Epoch 17, Iteration 35736 in 3.16 seconds. Samples per second 11323.05\n",
      "Epoch 18, Iteration 35736 in 3.05 seconds. Samples per second 11729.71\n",
      "Epoch 19, Iteration 35736 in 3.20 seconds. Samples per second 11166.37\n",
      "Epoch 20, Iteration 35736 in 3.00 seconds. Samples per second 11912.15\n",
      "Epoch 21, Iteration 35736 in 2.98 seconds. Samples per second 11983.54\n",
      "Epoch 22, Iteration 35736 in 3.01 seconds. Samples per second 11854.15\n",
      "Train completed in 1.48 minutes\n",
      "EvaluatorHoldout: Processed 35595 (100.0%) in 35.93 sec. Users per second: 991\n"
     ]
    },
    {
     "name": "stderr",
     "output_type": "stream",
     "text": [
      "[I 2024-12-16 04:46:12,026] Trial 68 finished with value: 0.03658566946935979 and parameters: {'topK': 36, 'epochs': 22, 'lambda_i': 0.03493811471918037, 'lambda_j': 0.0004712610836581153, 'learning_rate': 0.08548083495560851}. Best is trial 67 with value: 0.03803690437171121.\n"
     ]
    },
    {
     "name": "stdout",
     "output_type": "stream",
     "text": [
      "Epoch 1, Iteration 35736 in 10.01 seconds. Samples per second 3571.69\n",
      "Epoch 2, Iteration 35736 in 7.31 seconds. Samples per second 4885.35\n",
      "Epoch 3, Iteration 35736 in 5.83 seconds. Samples per second 6126.33\n",
      "Epoch 4, Iteration 35736 in 5.07 seconds. Samples per second 7050.81\n",
      "Epoch 5, Iteration 35736 in 4.46 seconds. Samples per second 8010.92\n",
      "Epoch 6, Iteration 35736 in 4.15 seconds. Samples per second 8606.14\n",
      "Epoch 7, Iteration 35736 in 3.91 seconds. Samples per second 9141.76\n",
      "Epoch 8, Iteration 35736 in 3.62 seconds. Samples per second 9858.64\n",
      "Epoch 9, Iteration 35736 in 3.81 seconds. Samples per second 9382.99\n",
      "Epoch 10, Iteration 35736 in 3.38 seconds. Samples per second 10585.85\n",
      "Epoch 11, Iteration 35736 in 3.37 seconds. Samples per second 10612.59\n",
      "Epoch 12, Iteration 35736 in 3.33 seconds. Samples per second 10739.11\n",
      "Epoch 13, Iteration 35736 in 3.28 seconds. Samples per second 10888.54\n",
      "Epoch 14, Iteration 35736 in 3.10 seconds. Samples per second 11535.18\n",
      "Epoch 15, Iteration 35736 in 3.17 seconds. Samples per second 11263.93\n",
      "Epoch 16, Iteration 35736 in 3.06 seconds. Samples per second 11692.00\n",
      "Epoch 17, Iteration 35736 in 3.18 seconds. Samples per second 11243.54\n",
      "Epoch 18, Iteration 35736 in 3.13 seconds. Samples per second 11412.57\n",
      "Epoch 19, Iteration 35736 in 3.01 seconds. Samples per second 11867.51\n",
      "Train completed in 1.34 minutes\n",
      "EvaluatorHoldout: Processed 35595 (100.0%) in 35.99 sec. Users per second: 989\n"
     ]
    },
    {
     "name": "stderr",
     "output_type": "stream",
     "text": [
      "[I 2024-12-16 04:50:03,464] Trial 69 finished with value: 0.03614089726352558 and parameters: {'topK': 34, 'epochs': 19, 'lambda_i': 0.04665096747827141, 'lambda_j': 0.0004514881910337962, 'learning_rate': 0.08950780710173224}. Best is trial 67 with value: 0.03803690437171121.\n"
     ]
    },
    {
     "name": "stdout",
     "output_type": "stream",
     "text": [
      "Epoch 1, Iteration 35736 in 10.04 seconds. Samples per second 3559.17\n",
      "Epoch 2, Iteration 35736 in 7.29 seconds. Samples per second 4899.93\n",
      "Epoch 3, Iteration 35736 in 5.99 seconds. Samples per second 5970.81\n",
      "Epoch 4, Iteration 35736 in 5.07 seconds. Samples per second 7052.41\n",
      "Epoch 5, Iteration 35736 in 4.39 seconds. Samples per second 8145.07\n",
      "Epoch 6, Iteration 35736 in 4.13 seconds. Samples per second 8655.06\n",
      "Epoch 7, Iteration 35736 in 3.78 seconds. Samples per second 9450.77\n",
      "Epoch 8, Iteration 35736 in 3.70 seconds. Samples per second 9652.93\n",
      "Epoch 9, Iteration 35736 in 3.61 seconds. Samples per second 9909.70\n",
      "Epoch 10, Iteration 35736 in 3.48 seconds. Samples per second 10274.05\n",
      "Epoch 11, Iteration 35736 in 3.32 seconds. Samples per second 10775.30\n",
      "Epoch 12, Iteration 35736 in 3.38 seconds. Samples per second 10565.00\n",
      "Epoch 13, Iteration 35736 in 3.29 seconds. Samples per second 10846.83\n",
      "Epoch 14, Iteration 35736 in 3.15 seconds. Samples per second 11333.37\n",
      "Epoch 15, Iteration 35736 in 3.14 seconds. Samples per second 11385.70\n",
      "Epoch 16, Iteration 35736 in 3.08 seconds. Samples per second 11584.28\n",
      "Epoch 17, Iteration 35736 in 3.14 seconds. Samples per second 11397.63\n",
      "Epoch 18, Iteration 35736 in 3.15 seconds. Samples per second 11333.36\n",
      "Epoch 19, Iteration 35736 in 3.14 seconds. Samples per second 11398.54\n",
      "Epoch 20, Iteration 35736 in 3.11 seconds. Samples per second 11484.52\n",
      "Epoch 21, Iteration 35736 in 3.18 seconds. Samples per second 11240.15\n",
      "Epoch 22, Iteration 35736 in 3.07 seconds. Samples per second 11630.90\n",
      "Train completed in 1.49 minutes\n",
      "EvaluatorHoldout: Processed 35595 (100.0%) in 50.47 sec. Users per second: 705\n"
     ]
    },
    {
     "name": "stderr",
     "output_type": "stream",
     "text": [
      "[I 2024-12-16 04:54:34,700] Trial 70 finished with value: 0.03106920001694446 and parameters: {'topK': 320, 'epochs': 22, 'lambda_i': 0.03643791881734545, 'lambda_j': 0.0003946178066595168, 'learning_rate': 0.08454581007721138}. Best is trial 67 with value: 0.03803690437171121.\n"
     ]
    },
    {
     "name": "stdout",
     "output_type": "stream",
     "text": [
      "Epoch 1, Iteration 35736 in 10.10 seconds. Samples per second 3538.10\n",
      "Epoch 2, Iteration 35736 in 7.30 seconds. Samples per second 4894.93\n",
      "Epoch 3, Iteration 35736 in 6.01 seconds. Samples per second 5950.39\n",
      "Epoch 4, Iteration 35736 in 5.00 seconds. Samples per second 7141.28\n",
      "Epoch 5, Iteration 35736 in 4.49 seconds. Samples per second 7964.54\n",
      "Epoch 6, Iteration 35736 in 4.12 seconds. Samples per second 8678.80\n",
      "Epoch 7, Iteration 35736 in 3.71 seconds. Samples per second 9635.49\n",
      "Epoch 8, Iteration 35736 in 8.74 seconds. Samples per second 4090.33\n",
      "Epoch 9, Iteration 35736 in 3.99 seconds. Samples per second 8956.20\n",
      "Epoch 10, Iteration 35736 in 3.75 seconds. Samples per second 9517.10\n",
      "Epoch 11, Iteration 35736 in 3.58 seconds. Samples per second 9970.32\n",
      "Epoch 12, Iteration 35736 in 3.51 seconds. Samples per second 10183.14\n",
      "Epoch 13, Iteration 35736 in 3.37 seconds. Samples per second 10594.93\n",
      "Epoch 14, Iteration 35736 in 3.30 seconds. Samples per second 10823.77\n",
      "Epoch 15, Iteration 35736 in 3.22 seconds. Samples per second 11113.39\n",
      "Epoch 16, Iteration 35736 in 3.19 seconds. Samples per second 11185.71\n",
      "Epoch 17, Iteration 35736 in 3.16 seconds. Samples per second 11317.33\n",
      "Epoch 18, Iteration 35736 in 3.18 seconds. Samples per second 11244.17\n",
      "Epoch 19, Iteration 35736 in 3.05 seconds. Samples per second 11731.80\n",
      "Epoch 20, Iteration 35736 in 3.03 seconds. Samples per second 11789.92\n",
      "Epoch 21, Iteration 35736 in 3.15 seconds. Samples per second 11344.35\n",
      "Epoch 22, Iteration 35736 in 3.15 seconds. Samples per second 11354.48\n",
      "Epoch 23, Iteration 35736 in 2.96 seconds. Samples per second 12081.03\n",
      "Epoch 24, Iteration 35736 in 2.96 seconds. Samples per second 12080.19\n",
      "Epoch 25, Iteration 35736 in 3.02 seconds. Samples per second 11831.06\n",
      "Train completed in 1.75 minutes\n",
      "EvaluatorHoldout: Processed 35595 (100.0%) in 35.15 sec. Users per second: 1013\n"
     ]
    },
    {
     "name": "stderr",
     "output_type": "stream",
     "text": [
      "[I 2024-12-16 04:58:52,133] Trial 71 finished with value: 0.03753140266266993 and parameters: {'topK': 26, 'epochs': 25, 'lambda_i': 0.02963653841249478, 'lambda_j': 0.0007076539318079437, 'learning_rate': 0.0776535003564305}. Best is trial 67 with value: 0.03803690437171121.\n"
     ]
    },
    {
     "name": "stdout",
     "output_type": "stream",
     "text": [
      "Epoch 1, Iteration 35736 in 10.04 seconds. Samples per second 3560.65\n",
      "Epoch 2, Iteration 35736 in 7.26 seconds. Samples per second 4922.50\n",
      "Epoch 3, Iteration 35736 in 5.82 seconds. Samples per second 6137.74\n",
      "Epoch 4, Iteration 35736 in 5.04 seconds. Samples per second 7091.61\n",
      "Epoch 5, Iteration 35736 in 4.40 seconds. Samples per second 8117.84\n",
      "Epoch 6, Iteration 35736 in 4.07 seconds. Samples per second 8777.62\n",
      "Epoch 7, Iteration 35736 in 3.75 seconds. Samples per second 9520.84\n",
      "Epoch 8, Iteration 35736 in 3.56 seconds. Samples per second 10041.12\n",
      "Epoch 9, Iteration 35736 in 3.43 seconds. Samples per second 10409.78\n",
      "Epoch 10, Iteration 35736 in 3.39 seconds. Samples per second 10549.06\n",
      "Epoch 11, Iteration 35736 in 3.26 seconds. Samples per second 10976.68\n",
      "Epoch 12, Iteration 35736 in 3.29 seconds. Samples per second 10856.34\n",
      "Epoch 13, Iteration 35736 in 3.20 seconds. Samples per second 11165.46\n",
      "Epoch 14, Iteration 35736 in 3.25 seconds. Samples per second 10983.78\n",
      "Epoch 15, Iteration 35736 in 3.28 seconds. Samples per second 10881.73\n",
      "Epoch 16, Iteration 35736 in 3.16 seconds. Samples per second 11295.50\n",
      "Epoch 17, Iteration 35736 in 3.07 seconds. Samples per second 11635.00\n",
      "Epoch 18, Iteration 35736 in 3.04 seconds. Samples per second 11737.48\n",
      "Epoch 19, Iteration 35736 in 3.03 seconds. Samples per second 11809.51\n",
      "Epoch 20, Iteration 35736 in 3.10 seconds. Samples per second 11509.31\n",
      "Epoch 21, Iteration 35736 in 3.03 seconds. Samples per second 11802.25\n",
      "Epoch 22, Iteration 35736 in 3.11 seconds. Samples per second 11502.15\n",
      "Epoch 23, Iteration 35736 in 3.08 seconds. Samples per second 11596.26\n",
      "Train completed in 1.53 minutes\n",
      "EvaluatorHoldout: Processed 35595 (100.0%) in 35.21 sec. Users per second: 1011\n"
     ]
    },
    {
     "name": "stderr",
     "output_type": "stream",
     "text": [
      "[I 2024-12-16 05:02:55,154] Trial 72 finished with value: 0.03753881185381275 and parameters: {'topK': 27, 'epochs': 23, 'lambda_i': 0.027685641268023035, 'lambda_j': 0.0006851442708855511, 'learning_rate': 0.09912241305220494}. Best is trial 67 with value: 0.03803690437171121.\n"
     ]
    },
    {
     "name": "stdout",
     "output_type": "stream",
     "text": [
      "Epoch 1, Iteration 35736 in 10.14 seconds. Samples per second 3525.81\n",
      "Epoch 2, Iteration 35736 in 7.30 seconds. Samples per second 4893.14\n",
      "Epoch 3, Iteration 35736 in 5.73 seconds. Samples per second 6236.35\n",
      "Epoch 4, Iteration 35736 in 4.96 seconds. Samples per second 7205.85\n",
      "Epoch 5, Iteration 35736 in 4.49 seconds. Samples per second 7956.95\n",
      "Epoch 6, Iteration 35736 in 4.20 seconds. Samples per second 8500.27\n",
      "Epoch 7, Iteration 35736 in 3.72 seconds. Samples per second 9617.46\n",
      "Epoch 8, Iteration 35736 in 3.58 seconds. Samples per second 9974.02\n",
      "Epoch 9, Iteration 35736 in 3.47 seconds. Samples per second 10288.30\n",
      "Epoch 10, Iteration 35736 in 3.50 seconds. Samples per second 10198.84\n",
      "Epoch 11, Iteration 35736 in 3.35 seconds. Samples per second 10677.09\n",
      "Epoch 12, Iteration 35736 in 3.20 seconds. Samples per second 11184.29\n",
      "Epoch 13, Iteration 35736 in 3.31 seconds. Samples per second 10800.36\n",
      "Epoch 14, Iteration 35736 in 3.17 seconds. Samples per second 11263.48\n",
      "Epoch 15, Iteration 35736 in 3.17 seconds. Samples per second 11275.70\n",
      "Epoch 16, Iteration 35736 in 3.05 seconds. Samples per second 11734.83\n",
      "Epoch 17, Iteration 35736 in 3.01 seconds. Samples per second 11872.43\n",
      "Epoch 18, Iteration 35736 in 3.05 seconds. Samples per second 11724.51\n",
      "Epoch 19, Iteration 35736 in 3.02 seconds. Samples per second 11826.46\n",
      "Epoch 20, Iteration 35736 in 2.98 seconds. Samples per second 11989.00\n",
      "Epoch 21, Iteration 35736 in 3.05 seconds. Samples per second 11699.15\n",
      "Train completed in 1.42 minutes\n",
      "EvaluatorHoldout: Processed 35595 (100.0%) in 35.71 sec. Users per second: 997\n"
     ]
    },
    {
     "name": "stderr",
     "output_type": "stream",
     "text": [
      "[I 2024-12-16 05:06:52,694] Trial 73 finished with value: 0.03660242431944814 and parameters: {'topK': 31, 'epochs': 21, 'lambda_i': 0.02572043162250884, 'lambda_j': 0.0006892861134896672, 'learning_rate': 0.07992441650511115}. Best is trial 67 with value: 0.03803690437171121.\n"
     ]
    },
    {
     "name": "stdout",
     "output_type": "stream",
     "text": [
      "Epoch 1, Iteration 35736 in 10.13 seconds. Samples per second 3527.62\n",
      "Epoch 2, Iteration 35736 in 7.27 seconds. Samples per second 4914.80\n",
      "Epoch 3, Iteration 35736 in 5.87 seconds. Samples per second 6086.61\n",
      "Epoch 4, Iteration 35736 in 5.15 seconds. Samples per second 6939.81\n",
      "Epoch 5, Iteration 35736 in 4.42 seconds. Samples per second 8079.51\n",
      "Epoch 6, Iteration 35736 in 4.13 seconds. Samples per second 8659.46\n",
      "Epoch 7, Iteration 35736 in 3.88 seconds. Samples per second 9214.16\n",
      "Epoch 8, Iteration 35736 in 3.56 seconds. Samples per second 10024.46\n",
      "Epoch 9, Iteration 35736 in 3.52 seconds. Samples per second 10154.06\n",
      "Epoch 10, Iteration 35736 in 3.60 seconds. Samples per second 9939.01\n",
      "Epoch 11, Iteration 35736 in 3.38 seconds. Samples per second 10569.85\n",
      "Epoch 12, Iteration 35736 in 3.27 seconds. Samples per second 10922.38\n",
      "Epoch 13, Iteration 35736 in 3.16 seconds. Samples per second 11311.89\n",
      "Epoch 14, Iteration 35736 in 3.14 seconds. Samples per second 11369.96\n",
      "Epoch 15, Iteration 35736 in 3.13 seconds. Samples per second 11405.15\n",
      "Epoch 16, Iteration 35736 in 3.19 seconds. Samples per second 11207.03\n",
      "Epoch 17, Iteration 35736 in 3.19 seconds. Samples per second 11213.58\n",
      "Epoch 18, Iteration 35736 in 3.07 seconds. Samples per second 11657.59\n",
      "Epoch 19, Iteration 35736 in 3.09 seconds. Samples per second 11546.43\n",
      "Epoch 20, Iteration 35736 in 3.28 seconds. Samples per second 10895.04\n",
      "Epoch 21, Iteration 35736 in 3.11 seconds. Samples per second 11495.39\n",
      "Train completed in 1.44 minutes\n",
      "EvaluatorHoldout: Processed 35595 (100.0%) in 36.27 sec. Users per second: 981\n"
     ]
    },
    {
     "name": "stderr",
     "output_type": "stream",
     "text": [
      "[I 2024-12-16 05:10:54,370] Trial 74 finished with value: 0.03663645130290612 and parameters: {'topK': 37, 'epochs': 21, 'lambda_i': 0.029659263020633476, 'lambda_j': 0.0006958978195487801, 'learning_rate': 0.09925448829853135}. Best is trial 67 with value: 0.03803690437171121.\n"
     ]
    },
    {
     "name": "stdout",
     "output_type": "stream",
     "text": [
      "Epoch 1, Iteration 35736 in 10.03 seconds. Samples per second 3562.35\n",
      "Epoch 2, Iteration 35736 in 7.27 seconds. Samples per second 4915.39\n",
      "Epoch 3, Iteration 35736 in 5.84 seconds. Samples per second 6114.03\n",
      "Epoch 4, Iteration 35736 in 5.06 seconds. Samples per second 7059.26\n",
      "Epoch 5, Iteration 35736 in 4.49 seconds. Samples per second 7952.13\n",
      "Epoch 6, Iteration 35736 in 4.09 seconds. Samples per second 8742.31\n",
      "Epoch 7, Iteration 35736 in 3.77 seconds. Samples per second 9467.95\n",
      "Epoch 8, Iteration 35736 in 3.59 seconds. Samples per second 9958.56\n",
      "Epoch 9, Iteration 35736 in 3.49 seconds. Samples per second 10226.79\n",
      "Epoch 10, Iteration 35736 in 3.37 seconds. Samples per second 10600.51\n",
      "Epoch 11, Iteration 35736 in 3.29 seconds. Samples per second 10847.13\n",
      "Epoch 12, Iteration 35736 in 3.41 seconds. Samples per second 10466.60\n",
      "Epoch 13, Iteration 35736 in 3.19 seconds. Samples per second 11196.33\n",
      "Epoch 14, Iteration 35736 in 3.11 seconds. Samples per second 11475.76\n",
      "Epoch 15, Iteration 35736 in 3.17 seconds. Samples per second 11285.04\n",
      "Epoch 16, Iteration 35736 in 3.13 seconds. Samples per second 11417.29\n",
      "Epoch 17, Iteration 35736 in 3.07 seconds. Samples per second 11650.14\n",
      "Epoch 18, Iteration 35736 in 3.08 seconds. Samples per second 11593.34\n",
      "Epoch 19, Iteration 35736 in 3.07 seconds. Samples per second 11627.16\n",
      "Epoch 20, Iteration 35736 in 3.05 seconds. Samples per second 11706.42\n",
      "Train completed in 1.38 minutes\n",
      "EvaluatorHoldout: Processed 35595 (100.0%) in 40.68 sec. Users per second: 875\n"
     ]
    },
    {
     "name": "stderr",
     "output_type": "stream",
     "text": [
      "[I 2024-12-16 05:14:59,208] Trial 75 finished with value: 0.03371720435142145 and parameters: {'topK': 107, 'epochs': 20, 'lambda_i': 0.06510977274483279, 'lambda_j': 0.0006683510791971621, 'learning_rate': 0.07909947858213366}. Best is trial 67 with value: 0.03803690437171121.\n"
     ]
    },
    {
     "name": "stdout",
     "output_type": "stream",
     "text": [
      "Epoch 1, Iteration 35736 in 10.15 seconds. Samples per second 3521.25\n",
      "Epoch 2, Iteration 35736 in 7.32 seconds. Samples per second 4881.76\n",
      "Epoch 3, Iteration 35736 in 5.80 seconds. Samples per second 6163.99\n",
      "Epoch 4, Iteration 35736 in 9.31 seconds. Samples per second 3837.39\n",
      "Epoch 5, Iteration 35736 in 4.77 seconds. Samples per second 7492.82\n",
      "Epoch 6, Iteration 35736 in 4.41 seconds. Samples per second 8094.46\n",
      "Epoch 7, Iteration 35736 in 3.91 seconds. Samples per second 9148.24\n",
      "Epoch 8, Iteration 35736 in 3.81 seconds. Samples per second 9382.72\n",
      "Epoch 9, Iteration 35736 in 3.53 seconds. Samples per second 10113.71\n",
      "Epoch 10, Iteration 35736 in 3.39 seconds. Samples per second 10531.75\n",
      "Epoch 11, Iteration 35736 in 3.29 seconds. Samples per second 10858.89\n",
      "Epoch 12, Iteration 35736 in 3.28 seconds. Samples per second 10909.11\n",
      "Epoch 13, Iteration 35736 in 3.28 seconds. Samples per second 10889.89\n",
      "Epoch 14, Iteration 35736 in 3.25 seconds. Samples per second 10990.31\n",
      "Epoch 15, Iteration 35736 in 3.19 seconds. Samples per second 11219.30\n",
      "Epoch 16, Iteration 35736 in 3.24 seconds. Samples per second 11023.04\n",
      "Epoch 17, Iteration 35736 in 3.07 seconds. Samples per second 11648.63\n",
      "Epoch 18, Iteration 35736 in 3.07 seconds. Samples per second 11652.54\n",
      "Train completed in 1.37 minutes\n",
      "EvaluatorHoldout: Processed 35595 (100.0%) in 36.81 sec. Users per second: 967\n"
     ]
    },
    {
     "name": "stderr",
     "output_type": "stream",
     "text": [
      "[I 2024-12-16 05:18:56,784] Trial 76 finished with value: 0.03512077449793291 and parameters: {'topK': 47, 'epochs': 18, 'lambda_i': 0.02293274308881064, 'lambda_j': 0.00033329400099702314, 'learning_rate': 0.09808163246615885}. Best is trial 67 with value: 0.03803690437171121.\n"
     ]
    },
    {
     "name": "stdout",
     "output_type": "stream",
     "text": [
      "Epoch 1, Iteration 35736 in 9.99 seconds. Samples per second 3578.92\n",
      "Epoch 2, Iteration 35736 in 7.28 seconds. Samples per second 4909.72\n",
      "Epoch 3, Iteration 35736 in 5.89 seconds. Samples per second 6066.39\n",
      "Epoch 4, Iteration 35736 in 4.91 seconds. Samples per second 7272.06\n",
      "Epoch 5, Iteration 35736 in 7.09 seconds. Samples per second 5039.31\n",
      "Epoch 6, Iteration 35736 in 4.21 seconds. Samples per second 8496.93\n",
      "Epoch 7, Iteration 35736 in 3.95 seconds. Samples per second 9055.58\n",
      "Epoch 8, Iteration 35736 in 3.69 seconds. Samples per second 9695.28\n",
      "Epoch 9, Iteration 35736 in 3.57 seconds. Samples per second 10013.24\n",
      "Epoch 10, Iteration 35736 in 3.41 seconds. Samples per second 10482.59\n",
      "Epoch 11, Iteration 35736 in 3.24 seconds. Samples per second 11014.09\n",
      "Epoch 12, Iteration 35736 in 3.16 seconds. Samples per second 11316.24\n",
      "Epoch 13, Iteration 35736 in 3.16 seconds. Samples per second 11302.17\n",
      "Epoch 14, Iteration 35736 in 3.07 seconds. Samples per second 11633.58\n",
      "Epoch 15, Iteration 35736 in 3.12 seconds. Samples per second 11466.44\n",
      "Epoch 16, Iteration 35736 in 3.13 seconds. Samples per second 11402.75\n",
      "Epoch 17, Iteration 35736 in 3.13 seconds. Samples per second 11401.45\n",
      "Train completed in 1.27 minutes\n",
      "EvaluatorHoldout: Processed 35595 (100.0%) in 41.48 sec. Users per second: 858\n"
     ]
    },
    {
     "name": "stderr",
     "output_type": "stream",
     "text": [
      "[I 2024-12-16 05:22:55,692] Trial 77 finished with value: 0.03260423927027261 and parameters: {'topK': 125, 'epochs': 17, 'lambda_i': 0.05878343941863117, 'lambda_j': 0.0008046129472292142, 'learning_rate': 0.06132062543801939}. Best is trial 67 with value: 0.03803690437171121.\n"
     ]
    },
    {
     "name": "stdout",
     "output_type": "stream",
     "text": [
      "Epoch 1, Iteration 35736 in 10.09 seconds. Samples per second 3542.74\n",
      "Epoch 2, Iteration 35736 in 7.21 seconds. Samples per second 4953.96\n",
      "Epoch 3, Iteration 35736 in 5.83 seconds. Samples per second 6133.91\n",
      "Epoch 4, Iteration 35736 in 5.04 seconds. Samples per second 7087.94\n",
      "Epoch 5, Iteration 35736 in 4.48 seconds. Samples per second 7969.24\n",
      "Epoch 6, Iteration 35736 in 8.49 seconds. Samples per second 4207.87\n",
      "Epoch 7, Iteration 35736 in 4.14 seconds. Samples per second 8637.36\n",
      "Epoch 8, Iteration 35736 in 3.83 seconds. Samples per second 9326.86\n",
      "Epoch 9, Iteration 35736 in 3.50 seconds. Samples per second 10215.69\n",
      "Epoch 10, Iteration 35736 in 3.50 seconds. Samples per second 10217.27\n",
      "Epoch 11, Iteration 35736 in 3.36 seconds. Samples per second 10640.97\n",
      "Epoch 12, Iteration 35736 in 3.38 seconds. Samples per second 10560.02\n",
      "Epoch 13, Iteration 35736 in 3.25 seconds. Samples per second 10979.57\n",
      "Epoch 14, Iteration 35736 in 3.15 seconds. Samples per second 11359.71\n",
      "Epoch 15, Iteration 35736 in 3.10 seconds. Samples per second 11525.01\n",
      "Epoch 16, Iteration 35736 in 3.10 seconds. Samples per second 11531.97\n",
      "Epoch 17, Iteration 35736 in 3.04 seconds. Samples per second 11764.66\n",
      "Epoch 18, Iteration 35736 in 3.09 seconds. Samples per second 11570.20\n",
      "Epoch 19, Iteration 35736 in 3.04 seconds. Samples per second 11771.61\n",
      "Epoch 20, Iteration 35736 in 3.01 seconds. Samples per second 11862.58\n",
      "Epoch 21, Iteration 35736 in 3.05 seconds. Samples per second 11719.81\n",
      "Epoch 22, Iteration 35736 in 3.04 seconds. Samples per second 11738.05\n",
      "Epoch 23, Iteration 35736 in 3.09 seconds. Samples per second 11554.33\n",
      "Train completed in 1.61 minutes\n",
      "EvaluatorHoldout: Processed 35595 (100.0%) in 35.51 sec. Users per second: 1002\n"
     ]
    },
    {
     "name": "stderr",
     "output_type": "stream",
     "text": [
      "[I 2024-12-16 05:27:04,270] Trial 78 finished with value: 0.03605902380617798 and parameters: {'topK': 29, 'epochs': 23, 'lambda_i': 0.02813356739019131, 'lambda_j': 0.0002357821154896554, 'learning_rate': 0.05087344827733924}. Best is trial 67 with value: 0.03803690437171121.\n"
     ]
    },
    {
     "name": "stdout",
     "output_type": "stream",
     "text": [
      "Epoch 1, Iteration 35736 in 10.11 seconds. Samples per second 3534.63\n",
      "Epoch 2, Iteration 35736 in 7.21 seconds. Samples per second 4959.43\n",
      "Epoch 3, Iteration 35736 in 5.84 seconds. Samples per second 6120.55\n",
      "Epoch 4, Iteration 35736 in 5.06 seconds. Samples per second 7068.98\n",
      "Epoch 5, Iteration 35736 in 4.45 seconds. Samples per second 8034.78\n",
      "Epoch 6, Iteration 35736 in 4.16 seconds. Samples per second 8584.89\n",
      "Epoch 7, Iteration 35736 in 3.79 seconds. Samples per second 9433.09\n",
      "Epoch 8, Iteration 35736 in 3.56 seconds. Samples per second 10030.92\n",
      "Epoch 9, Iteration 35736 in 3.48 seconds. Samples per second 10278.20\n",
      "Epoch 10, Iteration 35736 in 3.29 seconds. Samples per second 10867.23\n",
      "Epoch 11, Iteration 35736 in 3.21 seconds. Samples per second 11119.83\n",
      "Epoch 12, Iteration 35736 in 3.23 seconds. Samples per second 11076.39\n",
      "Epoch 13, Iteration 35736 in 3.17 seconds. Samples per second 11266.40\n",
      "Epoch 14, Iteration 35736 in 3.22 seconds. Samples per second 11082.20\n",
      "Epoch 15, Iteration 35736 in 3.18 seconds. Samples per second 11248.50\n",
      "Epoch 16, Iteration 35736 in 3.11 seconds. Samples per second 11478.31\n",
      "Epoch 17, Iteration 35736 in 3.12 seconds. Samples per second 11452.69\n",
      "Epoch 18, Iteration 35736 in 3.29 seconds. Samples per second 10857.49\n",
      "Epoch 19, Iteration 35736 in 3.06 seconds. Samples per second 11692.76\n",
      "Epoch 20, Iteration 35736 in 3.07 seconds. Samples per second 11641.73\n",
      "Epoch 21, Iteration 35736 in 3.23 seconds. Samples per second 11057.41\n",
      "Train completed in 1.43 minutes\n",
      "EvaluatorHoldout: Processed 35595 (100.0%) in 39.19 sec. Users per second: 908\n"
     ]
    },
    {
     "name": "stderr",
     "output_type": "stream",
     "text": [
      "[I 2024-12-16 05:31:08,355] Trial 79 finished with value: 0.03426230052820772 and parameters: {'topK': 77, 'epochs': 21, 'lambda_i': 0.01677198119088078, 'lambda_j': 0.000520738235614627, 'learning_rate': 0.07504473367365765}. Best is trial 67 with value: 0.03803690437171121.\n"
     ]
    },
    {
     "name": "stdout",
     "output_type": "stream",
     "text": [
      "Epoch 1, Iteration 35736 in 10.07 seconds. Samples per second 3548.29\n",
      "Epoch 2, Iteration 35736 in 7.45 seconds. Samples per second 4796.45\n",
      "Epoch 3, Iteration 35736 in 5.89 seconds. Samples per second 6071.01\n",
      "Epoch 4, Iteration 35736 in 4.94 seconds. Samples per second 7231.01\n",
      "Epoch 5, Iteration 35736 in 4.55 seconds. Samples per second 7849.61\n",
      "Epoch 6, Iteration 35736 in 4.14 seconds. Samples per second 8622.11\n",
      "Epoch 7, Iteration 35736 in 3.85 seconds. Samples per second 9290.19\n",
      "Epoch 8, Iteration 35736 in 3.62 seconds. Samples per second 9875.87\n",
      "Epoch 9, Iteration 35736 in 3.51 seconds. Samples per second 10186.83\n",
      "Epoch 10, Iteration 35736 in 3.44 seconds. Samples per second 10398.57\n",
      "Epoch 11, Iteration 35736 in 3.30 seconds. Samples per second 10843.29\n",
      "Epoch 12, Iteration 35736 in 3.31 seconds. Samples per second 10806.64\n",
      "Epoch 13, Iteration 35736 in 3.22 seconds. Samples per second 11090.12\n",
      "Epoch 14, Iteration 35736 in 3.12 seconds. Samples per second 11453.07\n",
      "Epoch 15, Iteration 35736 in 3.05 seconds. Samples per second 11708.00\n",
      "Epoch 16, Iteration 35736 in 3.06 seconds. Samples per second 11676.47\n",
      "Epoch 17, Iteration 35736 in 3.38 seconds. Samples per second 10566.09\n",
      "Epoch 18, Iteration 35736 in 3.23 seconds. Samples per second 11074.01\n",
      "Epoch 19, Iteration 35736 in 3.04 seconds. Samples per second 11759.50\n",
      "Epoch 20, Iteration 35736 in 3.06 seconds. Samples per second 11669.55\n",
      "Epoch 21, Iteration 35736 in 3.31 seconds. Samples per second 10798.93\n",
      "Epoch 22, Iteration 35736 in 3.18 seconds. Samples per second 11243.85\n",
      "Epoch 23, Iteration 35736 in 3.11 seconds. Samples per second 11488.32\n",
      "Epoch 24, Iteration 35736 in 3.23 seconds. Samples per second 11048.85\n",
      "Epoch 25, Iteration 35736 in 3.20 seconds. Samples per second 11161.98\n",
      "Train completed in 1.65 minutes\n",
      "EvaluatorHoldout: Processed 35595 (100.0%) in 34.75 sec. Users per second: 1024\n"
     ]
    },
    {
     "name": "stderr",
     "output_type": "stream",
     "text": [
      "[I 2024-12-16 05:35:18,514] Trial 80 finished with value: 0.03862051808596154 and parameters: {'topK': 24, 'epochs': 25, 'lambda_i': 0.08053024494655671, 'lambda_j': 0.00014892777263430317, 'learning_rate': 0.09728242420942039}. Best is trial 80 with value: 0.03862051808596154.\n"
     ]
    },
    {
     "name": "stdout",
     "output_type": "stream",
     "text": [
      "Epoch 1, Iteration 35736 in 10.15 seconds. Samples per second 3520.56\n",
      "Epoch 2, Iteration 35736 in 7.45 seconds. Samples per second 4796.31\n",
      "Epoch 3, Iteration 35736 in 6.02 seconds. Samples per second 5936.74\n",
      "Epoch 4, Iteration 35736 in 5.16 seconds. Samples per second 6930.81\n",
      "Epoch 5, Iteration 35736 in 4.45 seconds. Samples per second 8030.97\n",
      "Epoch 6, Iteration 35736 in 4.06 seconds. Samples per second 8800.52\n",
      "Epoch 7, Iteration 35736 in 3.78 seconds. Samples per second 9466.28\n",
      "Epoch 8, Iteration 35736 in 3.66 seconds. Samples per second 9766.56\n",
      "Epoch 9, Iteration 35736 in 3.55 seconds. Samples per second 10079.51\n",
      "Epoch 10, Iteration 35736 in 3.38 seconds. Samples per second 10574.96\n",
      "Epoch 11, Iteration 35736 in 3.27 seconds. Samples per second 10913.23\n",
      "Epoch 12, Iteration 35736 in 3.24 seconds. Samples per second 11045.31\n",
      "Epoch 13, Iteration 35736 in 3.20 seconds. Samples per second 11169.69\n",
      "Epoch 14, Iteration 35736 in 3.15 seconds. Samples per second 11347.25\n",
      "Epoch 15, Iteration 35736 in 3.18 seconds. Samples per second 11224.86\n",
      "Epoch 16, Iteration 35736 in 3.14 seconds. Samples per second 11377.49\n",
      "Epoch 17, Iteration 35736 in 3.07 seconds. Samples per second 11623.71\n",
      "Epoch 18, Iteration 35736 in 3.37 seconds. Samples per second 10613.59\n",
      "Epoch 19, Iteration 35736 in 3.26 seconds. Samples per second 10955.84\n",
      "Epoch 20, Iteration 35736 in 3.23 seconds. Samples per second 11078.95\n",
      "Epoch 21, Iteration 35736 in 3.14 seconds. Samples per second 11389.49\n",
      "Epoch 22, Iteration 35736 in 3.15 seconds. Samples per second 11349.21\n",
      "Epoch 23, Iteration 35736 in 3.17 seconds. Samples per second 11264.06\n",
      "Epoch 24, Iteration 35736 in 3.12 seconds. Samples per second 11468.07\n",
      "Epoch 25, Iteration 35736 in 3.10 seconds. Samples per second 11520.38\n",
      "Epoch 26, Iteration 35736 in 3.22 seconds. Samples per second 11108.80\n",
      "Train completed in 1.71 minutes\n",
      "EvaluatorHoldout: Processed 35595 (100.0%) in 34.80 sec. Users per second: 1023\n"
     ]
    },
    {
     "name": "stderr",
     "output_type": "stream",
     "text": [
      "[I 2024-12-16 05:39:31,424] Trial 81 finished with value: 0.03837813519376806 and parameters: {'topK': 23, 'epochs': 26, 'lambda_i': 0.050334080083716766, 'lambda_j': 0.00013374921382356664, 'learning_rate': 0.09618077035577859}. Best is trial 80 with value: 0.03862051808596154.\n"
     ]
    },
    {
     "name": "stdout",
     "output_type": "stream",
     "text": [
      "Epoch 1, Iteration 35736 in 10.00 seconds. Samples per second 3574.80\n",
      "Epoch 2, Iteration 35736 in 7.51 seconds. Samples per second 4757.08\n",
      "Epoch 3, Iteration 35736 in 5.83 seconds. Samples per second 6133.61\n",
      "Epoch 4, Iteration 35736 in 5.06 seconds. Samples per second 7060.09\n",
      "Epoch 5, Iteration 35736 in 4.36 seconds. Samples per second 8188.89\n",
      "Epoch 6, Iteration 35736 in 4.13 seconds. Samples per second 8659.22\n",
      "Epoch 7, Iteration 35736 in 3.77 seconds. Samples per second 9468.16\n",
      "Epoch 8, Iteration 35736 in 3.55 seconds. Samples per second 10055.32\n",
      "Epoch 9, Iteration 35736 in 3.62 seconds. Samples per second 9874.78\n",
      "Epoch 10, Iteration 35736 in 3.46 seconds. Samples per second 10325.64\n",
      "Epoch 11, Iteration 35736 in 3.40 seconds. Samples per second 10512.26\n",
      "Epoch 12, Iteration 35736 in 3.40 seconds. Samples per second 10518.23\n",
      "Epoch 13, Iteration 35736 in 3.36 seconds. Samples per second 10650.94\n",
      "Epoch 14, Iteration 35736 in 3.26 seconds. Samples per second 10963.56\n",
      "Epoch 15, Iteration 35736 in 3.39 seconds. Samples per second 10553.92\n",
      "Epoch 16, Iteration 35736 in 3.32 seconds. Samples per second 10767.59\n",
      "Epoch 17, Iteration 35736 in 3.23 seconds. Samples per second 11064.94\n",
      "Epoch 18, Iteration 35736 in 3.30 seconds. Samples per second 10845.01\n",
      "Epoch 19, Iteration 35736 in 3.15 seconds. Samples per second 11347.71\n",
      "Epoch 20, Iteration 35736 in 3.15 seconds. Samples per second 11354.19\n",
      "Epoch 21, Iteration 35736 in 3.17 seconds. Samples per second 11256.44\n",
      "Epoch 22, Iteration 35736 in 3.20 seconds. Samples per second 11176.20\n",
      "Epoch 23, Iteration 35736 in 3.15 seconds. Samples per second 11332.29\n",
      "Epoch 24, Iteration 35736 in 3.11 seconds. Samples per second 11479.86\n",
      "Epoch 25, Iteration 35736 in 3.15 seconds. Samples per second 11332.69\n",
      "Epoch 26, Iteration 35736 in 3.12 seconds. Samples per second 11464.21\n",
      "Train completed in 1.72 minutes\n",
      "EvaluatorHoldout: Processed 35595 (100.0%) in 38.09 sec. Users per second: 935\n"
     ]
    },
    {
     "name": "stderr",
     "output_type": "stream",
     "text": [
      "[I 2024-12-16 05:44:17,183] Trial 82 finished with value: 0.03616368113944907 and parameters: {'topK': 49, 'epochs': 26, 'lambda_i': 0.0850820399041155, 'lambda_j': 0.00013199124051525772, 'learning_rate': 0.060454749626828015}. Best is trial 80 with value: 0.03862051808596154.\n"
     ]
    },
    {
     "name": "stdout",
     "output_type": "stream",
     "text": [
      "Epoch 1, Iteration 35736 in 10.20 seconds. Samples per second 3504.75\n",
      "Epoch 2, Iteration 35736 in 7.55 seconds. Samples per second 4730.60\n",
      "Epoch 3, Iteration 35736 in 6.00 seconds. Samples per second 5956.14\n",
      "Epoch 4, Iteration 35736 in 5.09 seconds. Samples per second 7024.74\n",
      "Epoch 5, Iteration 35736 in 4.52 seconds. Samples per second 7912.32\n",
      "Epoch 6, Iteration 35736 in 4.16 seconds. Samples per second 8581.00\n",
      "Epoch 7, Iteration 35736 in 3.95 seconds. Samples per second 9048.84\n",
      "Epoch 8, Iteration 35736 in 3.85 seconds. Samples per second 9285.86\n",
      "Epoch 9, Iteration 35736 in 3.58 seconds. Samples per second 9978.04\n",
      "Epoch 10, Iteration 35736 in 3.44 seconds. Samples per second 10396.88\n",
      "Epoch 11, Iteration 35736 in 3.33 seconds. Samples per second 10718.94\n",
      "Epoch 12, Iteration 35736 in 3.28 seconds. Samples per second 10900.05\n",
      "Epoch 13, Iteration 35736 in 3.42 seconds. Samples per second 10448.53\n",
      "Epoch 14, Iteration 35736 in 3.27 seconds. Samples per second 10911.88\n",
      "Epoch 15, Iteration 35736 in 3.29 seconds. Samples per second 10856.08\n",
      "Epoch 16, Iteration 35736 in 3.19 seconds. Samples per second 11209.13\n",
      "Epoch 17, Iteration 35736 in 3.28 seconds. Samples per second 10879.76\n",
      "Epoch 18, Iteration 35736 in 3.03 seconds. Samples per second 11801.49\n",
      "Epoch 19, Iteration 35736 in 3.06 seconds. Samples per second 11669.89\n",
      "Epoch 20, Iteration 35736 in 3.04 seconds. Samples per second 11760.14\n",
      "Epoch 21, Iteration 35736 in 3.04 seconds. Samples per second 11738.63\n",
      "Epoch 22, Iteration 35736 in 3.10 seconds. Samples per second 11534.67\n",
      "Epoch 23, Iteration 35736 in 3.17 seconds. Samples per second 11286.19\n",
      "Epoch 24, Iteration 35736 in 3.13 seconds. Samples per second 11429.09\n",
      "Epoch 25, Iteration 35736 in 3.08 seconds. Samples per second 11597.88\n",
      "Train completed in 1.67 minutes\n",
      "EvaluatorHoldout: Processed 35595 (100.0%) in 35.48 sec. Users per second: 1003\n"
     ]
    },
    {
     "name": "stderr",
     "output_type": "stream",
     "text": [
      "[I 2024-12-16 05:48:38,854] Trial 83 finished with value: 0.0385784018622185 and parameters: {'topK': 22, 'epochs': 25, 'lambda_i': 0.04908453274063369, 'lambda_j': 8.807963752428805e-05, 'learning_rate': 0.09873808944204977}. Best is trial 80 with value: 0.03862051808596154.\n"
     ]
    },
    {
     "name": "stdout",
     "output_type": "stream",
     "text": [
      "Epoch 1, Iteration 35736 in 10.23 seconds. Samples per second 3491.78\n",
      "Epoch 2, Iteration 35736 in 7.31 seconds. Samples per second 4887.96\n",
      "Epoch 3, Iteration 35736 in 5.93 seconds. Samples per second 6028.97\n",
      "Epoch 4, Iteration 35736 in 5.10 seconds. Samples per second 7003.70\n",
      "Epoch 5, Iteration 35736 in 4.66 seconds. Samples per second 7671.22\n",
      "Epoch 6, Iteration 35736 in 4.22 seconds. Samples per second 8474.05\n",
      "Epoch 7, Iteration 35736 in 3.83 seconds. Samples per second 9342.66\n",
      "Epoch 8, Iteration 35736 in 3.63 seconds. Samples per second 9852.53\n",
      "Epoch 9, Iteration 35736 in 3.52 seconds. Samples per second 10141.29\n",
      "Epoch 10, Iteration 35736 in 3.39 seconds. Samples per second 10535.26\n",
      "Epoch 11, Iteration 35736 in 3.29 seconds. Samples per second 10865.45\n",
      "Epoch 12, Iteration 35736 in 3.35 seconds. Samples per second 10656.52\n",
      "Epoch 13, Iteration 35736 in 3.29 seconds. Samples per second 10867.86\n",
      "Epoch 14, Iteration 35736 in 3.14 seconds. Samples per second 11369.79\n",
      "Epoch 15, Iteration 35736 in 3.20 seconds. Samples per second 11156.52\n",
      "Epoch 16, Iteration 35736 in 3.14 seconds. Samples per second 11388.93\n",
      "Epoch 17, Iteration 35736 in 3.10 seconds. Samples per second 11511.37\n",
      "Epoch 18, Iteration 35736 in 3.03 seconds. Samples per second 11786.38\n",
      "Epoch 19, Iteration 35736 in 3.03 seconds. Samples per second 11774.89\n",
      "Epoch 20, Iteration 35736 in 3.00 seconds. Samples per second 11897.34\n",
      "Epoch 21, Iteration 35736 in 3.03 seconds. Samples per second 11789.02\n",
      "Epoch 22, Iteration 35736 in 3.20 seconds. Samples per second 11159.45\n",
      "Epoch 23, Iteration 35736 in 3.03 seconds. Samples per second 11785.31\n",
      "Epoch 24, Iteration 35736 in 3.01 seconds. Samples per second 11878.68\n",
      "Epoch 25, Iteration 35736 in 3.12 seconds. Samples per second 11440.43\n",
      "Train completed in 1.65 minutes\n",
      "EvaluatorHoldout: Processed 35595 (100.0%) in 35.83 sec. Users per second: 993\n"
     ]
    },
    {
     "name": "stderr",
     "output_type": "stream",
     "text": [
      "[I 2024-12-16 05:52:53,648] Trial 84 finished with value: 0.036509703520869574 and parameters: {'topK': 22, 'epochs': 25, 'lambda_i': 0.043926768975073485, 'lambda_j': 7.04170160132424e-05, 'learning_rate': 0.04668306142645003}. Best is trial 80 with value: 0.03862051808596154.\n"
     ]
    },
    {
     "name": "stdout",
     "output_type": "stream",
     "text": [
      "Epoch 1, Iteration 35736 in 10.31 seconds. Samples per second 3467.45\n",
      "Epoch 2, Iteration 35736 in 7.37 seconds. Samples per second 4849.07\n",
      "Epoch 3, Iteration 35736 in 5.85 seconds. Samples per second 6113.11\n",
      "Epoch 4, Iteration 35736 in 5.02 seconds. Samples per second 7112.98\n",
      "Epoch 5, Iteration 35736 in 4.55 seconds. Samples per second 7857.74\n",
      "Epoch 6, Iteration 35736 in 4.21 seconds. Samples per second 8495.38\n",
      "Epoch 7, Iteration 35736 in 3.93 seconds. Samples per second 9101.76\n",
      "Epoch 8, Iteration 35736 in 3.60 seconds. Samples per second 9921.31\n",
      "Epoch 9, Iteration 35736 in 3.61 seconds. Samples per second 9889.40\n",
      "Epoch 10, Iteration 35736 in 3.56 seconds. Samples per second 10047.96\n",
      "Epoch 11, Iteration 35736 in 3.30 seconds. Samples per second 10820.85\n",
      "Epoch 12, Iteration 35736 in 3.41 seconds. Samples per second 10490.89\n",
      "Epoch 13, Iteration 35736 in 3.20 seconds. Samples per second 11162.49\n",
      "Epoch 14, Iteration 35736 in 3.33 seconds. Samples per second 10735.88\n",
      "Epoch 15, Iteration 35736 in 3.20 seconds. Samples per second 11180.23\n",
      "Epoch 16, Iteration 35736 in 3.08 seconds. Samples per second 11610.44\n",
      "Epoch 17, Iteration 35736 in 3.05 seconds. Samples per second 11700.14\n",
      "Epoch 18, Iteration 35736 in 3.08 seconds. Samples per second 11601.80\n",
      "Epoch 19, Iteration 35736 in 3.05 seconds. Samples per second 11708.13\n",
      "Epoch 20, Iteration 35736 in 3.07 seconds. Samples per second 11625.41\n",
      "Epoch 21, Iteration 35736 in 3.14 seconds. Samples per second 11389.01\n",
      "Epoch 22, Iteration 35736 in 3.10 seconds. Samples per second 11534.43\n",
      "Epoch 23, Iteration 35736 in 3.01 seconds. Samples per second 11860.27\n",
      "Epoch 24, Iteration 35736 in 3.15 seconds. Samples per second 11362.51\n",
      "Epoch 25, Iteration 35736 in 3.06 seconds. Samples per second 11684.75\n",
      "Epoch 26, Iteration 35736 in 3.09 seconds. Samples per second 11548.15\n",
      "Epoch 27, Iteration 35736 in 3.02 seconds. Samples per second 11821.98\n",
      "Train completed in 1.76 minutes\n",
      "EvaluatorHoldout: Processed 35595 (100.0%) in 41.61 sec. Users per second: 855\n"
     ]
    },
    {
     "name": "stderr",
     "output_type": "stream",
     "text": [
      "[I 2024-12-16 05:57:25,956] Trial 85 finished with value: 0.03463302987533814 and parameters: {'topK': 99, 'epochs': 27, 'lambda_i': 0.050212916880700766, 'lambda_j': 4.390302822374253e-05, 'learning_rate': 0.06214702729780325}. Best is trial 80 with value: 0.03862051808596154.\n"
     ]
    },
    {
     "name": "stdout",
     "output_type": "stream",
     "text": [
      "Epoch 1, Iteration 35736 in 10.29 seconds. Samples per second 3473.34\n",
      "Epoch 2, Iteration 35736 in 7.57 seconds. Samples per second 4721.21\n",
      "Epoch 3, Iteration 35736 in 6.09 seconds. Samples per second 5865.45\n",
      "Epoch 4, Iteration 35736 in 5.16 seconds. Samples per second 6922.77\n",
      "Epoch 5, Iteration 35736 in 4.42 seconds. Samples per second 8086.18\n",
      "Epoch 6, Iteration 35736 in 4.15 seconds. Samples per second 8615.26\n",
      "Epoch 7, Iteration 35736 in 3.97 seconds. Samples per second 9003.99\n",
      "Epoch 8, Iteration 35736 in 3.73 seconds. Samples per second 9578.41\n",
      "Epoch 9, Iteration 35736 in 3.42 seconds. Samples per second 10451.21\n",
      "Epoch 10, Iteration 35736 in 3.35 seconds. Samples per second 10655.42\n",
      "Epoch 11, Iteration 35736 in 3.43 seconds. Samples per second 10424.25\n",
      "Epoch 12, Iteration 35736 in 3.23 seconds. Samples per second 11079.18\n",
      "Epoch 13, Iteration 35736 in 3.28 seconds. Samples per second 10883.09\n",
      "Epoch 14, Iteration 35736 in 3.18 seconds. Samples per second 11237.84\n",
      "Epoch 15, Iteration 35736 in 3.12 seconds. Samples per second 11461.82\n",
      "Epoch 16, Iteration 35736 in 3.10 seconds. Samples per second 11511.26\n",
      "Epoch 17, Iteration 35736 in 3.28 seconds. Samples per second 10897.14\n",
      "Epoch 18, Iteration 35736 in 3.18 seconds. Samples per second 11243.46\n",
      "Epoch 19, Iteration 35736 in 3.10 seconds. Samples per second 11527.12\n",
      "Epoch 20, Iteration 35736 in 3.15 seconds. Samples per second 11330.01\n",
      "Epoch 21, Iteration 35736 in 3.11 seconds. Samples per second 11479.56\n",
      "Epoch 22, Iteration 35736 in 3.06 seconds. Samples per second 11681.38\n",
      "Epoch 23, Iteration 35736 in 3.13 seconds. Samples per second 11420.04\n",
      "Train completed in 1.56 minutes\n",
      "EvaluatorHoldout: Processed 35595 (100.0%) in 40.50 sec. Users per second: 879\n"
     ]
    },
    {
     "name": "stderr",
     "output_type": "stream",
     "text": [
      "[I 2024-12-16 06:01:41,617] Trial 86 finished with value: 0.03073841073630293 and parameters: {'topK': 74, 'epochs': 23, 'lambda_i': 0.0849658880620211, 'lambda_j': 9.173332345233673e-05, 'learning_rate': 0.001362684603095048}. Best is trial 80 with value: 0.03862051808596154.\n"
     ]
    },
    {
     "name": "stdout",
     "output_type": "stream",
     "text": [
      "Epoch 1, Iteration 35736 in 10.39 seconds. Samples per second 3438.28\n",
      "Epoch 2, Iteration 35736 in 7.42 seconds. Samples per second 4815.24\n",
      "Epoch 3, Iteration 35736 in 6.00 seconds. Samples per second 5951.81\n",
      "Epoch 4, Iteration 35736 in 5.10 seconds. Samples per second 7013.00\n",
      "Epoch 5, Iteration 35736 in 4.53 seconds. Samples per second 7895.23\n",
      "Epoch 6, Iteration 35736 in 4.11 seconds. Samples per second 8702.80\n",
      "Epoch 7, Iteration 35736 in 3.88 seconds. Samples per second 9217.19\n",
      "Epoch 8, Iteration 35736 in 3.78 seconds. Samples per second 9463.95\n",
      "Epoch 9, Iteration 35736 in 3.58 seconds. Samples per second 9984.25\n",
      "Epoch 10, Iteration 35736 in 3.34 seconds. Samples per second 10699.02\n",
      "Epoch 11, Iteration 35736 in 3.39 seconds. Samples per second 10526.34\n",
      "Epoch 12, Iteration 35736 in 3.30 seconds. Samples per second 10813.44\n",
      "Epoch 13, Iteration 35736 in 3.16 seconds. Samples per second 11312.97\n",
      "Epoch 14, Iteration 35736 in 3.25 seconds. Samples per second 11001.00\n",
      "Epoch 15, Iteration 35736 in 3.25 seconds. Samples per second 10988.16\n",
      "Epoch 16, Iteration 35736 in 3.26 seconds. Samples per second 10977.47\n",
      "Epoch 17, Iteration 35736 in 3.23 seconds. Samples per second 11062.56\n",
      "Epoch 18, Iteration 35736 in 3.16 seconds. Samples per second 11300.42\n",
      "Epoch 19, Iteration 35736 in 3.12 seconds. Samples per second 11449.77\n",
      "Epoch 20, Iteration 35736 in 3.15 seconds. Samples per second 11357.64\n",
      "Epoch 21, Iteration 35736 in 3.15 seconds. Samples per second 11352.82\n",
      "Epoch 22, Iteration 35736 in 3.11 seconds. Samples per second 11489.34\n",
      "Epoch 23, Iteration 35736 in 3.06 seconds. Samples per second 11670.11\n",
      "Epoch 24, Iteration 35736 in 3.02 seconds. Samples per second 11838.16\n",
      "Epoch 25, Iteration 35736 in 3.05 seconds. Samples per second 11725.72\n",
      "Epoch 26, Iteration 35736 in 3.05 seconds. Samples per second 11722.26\n",
      "Train completed in 1.71 minutes\n",
      "EvaluatorHoldout: Processed 35595 (100.0%) in 36.08 sec. Users per second: 987\n"
     ]
    },
    {
     "name": "stderr",
     "output_type": "stream",
     "text": [
      "[I 2024-12-16 06:05:59,402] Trial 87 finished with value: 0.03764986276385203 and parameters: {'topK': 23, 'epochs': 26, 'lambda_i': 0.01944777803876886, 'lambda_j': 0.0001482358117407454, 'learning_rate': 0.07293282020148144}. Best is trial 80 with value: 0.03862051808596154.\n"
     ]
    },
    {
     "name": "stdout",
     "output_type": "stream",
     "text": [
      "Epoch 1, Iteration 35736 in 10.58 seconds. Samples per second 3378.91\n",
      "Epoch 2, Iteration 35736 in 7.44 seconds. Samples per second 4806.13\n",
      "Epoch 3, Iteration 35736 in 6.03 seconds. Samples per second 5925.95\n",
      "Epoch 4, Iteration 35736 in 5.07 seconds. Samples per second 7047.40\n",
      "Epoch 5, Iteration 35736 in 4.56 seconds. Samples per second 7836.38\n",
      "Epoch 6, Iteration 35736 in 4.18 seconds. Samples per second 8553.46\n",
      "Epoch 7, Iteration 35736 in 3.86 seconds. Samples per second 9259.16\n",
      "Epoch 8, Iteration 35736 in 3.65 seconds. Samples per second 9777.90\n",
      "Epoch 9, Iteration 35736 in 3.66 seconds. Samples per second 9757.56\n",
      "Epoch 10, Iteration 35736 in 3.46 seconds. Samples per second 10319.94\n",
      "Epoch 11, Iteration 35736 in 3.33 seconds. Samples per second 10718.61\n",
      "Epoch 12, Iteration 35736 in 3.29 seconds. Samples per second 10853.03\n",
      "Epoch 13, Iteration 35736 in 3.25 seconds. Samples per second 10993.24\n",
      "Epoch 14, Iteration 35736 in 3.36 seconds. Samples per second 10648.75\n",
      "Epoch 15, Iteration 35736 in 3.15 seconds. Samples per second 11345.04\n",
      "Epoch 16, Iteration 35736 in 3.20 seconds. Samples per second 11182.64\n",
      "Epoch 17, Iteration 35736 in 3.19 seconds. Samples per second 11194.50\n",
      "Epoch 18, Iteration 35736 in 3.18 seconds. Samples per second 11255.12\n",
      "Epoch 19, Iteration 35736 in 3.05 seconds. Samples per second 11720.76\n",
      "Epoch 20, Iteration 35736 in 3.03 seconds. Samples per second 11795.62\n",
      "Epoch 21, Iteration 35736 in 3.00 seconds. Samples per second 11923.62\n",
      "Epoch 22, Iteration 35736 in 3.04 seconds. Samples per second 11759.16\n",
      "Epoch 23, Iteration 35736 in 3.11 seconds. Samples per second 11488.27\n",
      "Epoch 24, Iteration 35736 in 3.12 seconds. Samples per second 11441.59\n",
      "Epoch 25, Iteration 35736 in 3.23 seconds. Samples per second 11068.93\n",
      "Epoch 26, Iteration 35736 in 2.99 seconds. Samples per second 11946.95\n",
      "Epoch 27, Iteration 35736 in 3.06 seconds. Samples per second 11681.09\n",
      "Epoch 28, Iteration 35736 in 3.05 seconds. Samples per second 11719.31\n",
      "Epoch 29, Iteration 35736 in 3.05 seconds. Samples per second 11708.25\n",
      "Train completed in 1.87 minutes\n",
      "EvaluatorHoldout: Processed 35595 (100.0%) in 37.39 sec. Users per second: 952\n"
     ]
    },
    {
     "name": "stderr",
     "output_type": "stream",
     "text": [
      "[I 2024-12-16 06:10:28,112] Trial 88 finished with value: 0.03626224032713594 and parameters: {'topK': 50, 'epochs': 29, 'lambda_i': 0.020709193108582106, 'lambda_j': 0.00017748316133192913, 'learning_rate': 0.07091957172628878}. Best is trial 80 with value: 0.03862051808596154.\n"
     ]
    },
    {
     "name": "stdout",
     "output_type": "stream",
     "text": [
      "Epoch 1, Iteration 35736 in 10.16 seconds. Samples per second 3518.43\n",
      "Epoch 2, Iteration 35736 in 7.40 seconds. Samples per second 4830.62\n",
      "Epoch 3, Iteration 35736 in 5.91 seconds. Samples per second 6050.38\n",
      "Epoch 4, Iteration 35736 in 5.18 seconds. Samples per second 6904.58\n",
      "Epoch 5, Iteration 35736 in 4.60 seconds. Samples per second 7762.77\n",
      "Epoch 6, Iteration 35736 in 4.17 seconds. Samples per second 8574.90\n",
      "Epoch 7, Iteration 35736 in 3.89 seconds. Samples per second 9182.74\n",
      "Epoch 8, Iteration 35736 in 3.62 seconds. Samples per second 9879.66\n",
      "Epoch 9, Iteration 35736 in 3.50 seconds. Samples per second 10204.33\n",
      "Epoch 10, Iteration 35736 in 3.71 seconds. Samples per second 9631.86\n",
      "Epoch 11, Iteration 35736 in 3.26 seconds. Samples per second 10963.79\n",
      "Epoch 12, Iteration 35736 in 3.16 seconds. Samples per second 11307.61\n",
      "Epoch 13, Iteration 35736 in 3.26 seconds. Samples per second 10951.64\n",
      "Epoch 14, Iteration 35736 in 3.13 seconds. Samples per second 11423.35\n",
      "Epoch 15, Iteration 35736 in 4.64 seconds. Samples per second 7698.81\n",
      "Epoch 16, Iteration 35736 in 3.41 seconds. Samples per second 10485.08\n",
      "Epoch 17, Iteration 35736 in 3.11 seconds. Samples per second 11481.61\n",
      "Epoch 18, Iteration 35736 in 3.06 seconds. Samples per second 11679.49\n",
      "Epoch 19, Iteration 35736 in 3.13 seconds. Samples per second 11419.63\n",
      "Epoch 20, Iteration 35736 in 3.12 seconds. Samples per second 11448.31\n",
      "Epoch 21, Iteration 35736 in 3.08 seconds. Samples per second 11591.02\n",
      "Epoch 22, Iteration 35736 in 3.23 seconds. Samples per second 11051.78\n",
      "Epoch 23, Iteration 35736 in 3.01 seconds. Samples per second 11885.76\n",
      "Train completed in 1.58 minutes\n",
      "EvaluatorHoldout: Processed 35595 (100.0%) in 35.17 sec. Users per second: 1012\n"
     ]
    },
    {
     "name": "stderr",
     "output_type": "stream",
     "text": [
      "[I 2024-12-16 06:14:33,637] Trial 89 finished with value: 0.03745595065295735 and parameters: {'topK': 28, 'epochs': 23, 'lambda_i': 0.012626773911024685, 'lambda_j': 0.00014723427009433575, 'learning_rate': 0.09752931728670212}. Best is trial 80 with value: 0.03862051808596154.\n"
     ]
    },
    {
     "name": "stdout",
     "output_type": "stream",
     "text": [
      "Epoch 1, Iteration 35736 in 10.01 seconds. Samples per second 3569.70\n",
      "Epoch 2, Iteration 35736 in 7.32 seconds. Samples per second 4884.25\n",
      "Epoch 3, Iteration 35736 in 5.90 seconds. Samples per second 6053.50\n",
      "Epoch 4, Iteration 35736 in 5.14 seconds. Samples per second 6952.58\n",
      "Epoch 5, Iteration 35736 in 4.49 seconds. Samples per second 7964.95\n",
      "Epoch 6, Iteration 35736 in 4.25 seconds. Samples per second 8399.89\n",
      "Epoch 7, Iteration 35736 in 3.77 seconds. Samples per second 9488.89\n",
      "Epoch 8, Iteration 35736 in 3.69 seconds. Samples per second 9677.48\n",
      "Epoch 9, Iteration 35736 in 3.51 seconds. Samples per second 10177.03\n",
      "Epoch 10, Iteration 35736 in 3.31 seconds. Samples per second 10789.11\n",
      "Epoch 11, Iteration 35736 in 3.23 seconds. Samples per second 11075.72\n",
      "Epoch 12, Iteration 35736 in 3.28 seconds. Samples per second 10882.53\n",
      "Epoch 13, Iteration 35736 in 3.12 seconds. Samples per second 11453.23\n",
      "Epoch 14, Iteration 35736 in 7.82 seconds. Samples per second 4569.57\n",
      "Epoch 15, Iteration 35736 in 3.65 seconds. Samples per second 9794.83\n",
      "Epoch 16, Iteration 35736 in 3.49 seconds. Samples per second 10243.87\n",
      "Epoch 17, Iteration 35736 in 3.34 seconds. Samples per second 10713.43\n",
      "Epoch 18, Iteration 35736 in 3.23 seconds. Samples per second 11064.51\n",
      "Epoch 19, Iteration 35736 in 3.31 seconds. Samples per second 10810.27\n",
      "Epoch 20, Iteration 35736 in 3.21 seconds. Samples per second 11143.70\n",
      "Epoch 21, Iteration 35736 in 3.32 seconds. Samples per second 10767.82\n",
      "Epoch 22, Iteration 35736 in 3.10 seconds. Samples per second 11533.84\n",
      "Epoch 23, Iteration 35736 in 3.14 seconds. Samples per second 11367.53\n",
      "Epoch 24, Iteration 35736 in 3.08 seconds. Samples per second 11616.62\n",
      "Epoch 25, Iteration 35736 in 3.12 seconds. Samples per second 11442.81\n",
      "Epoch 26, Iteration 35736 in 3.13 seconds. Samples per second 11427.85\n",
      "Train completed in 1.80 minutes\n",
      "EvaluatorHoldout: Processed 35595 (100.0%) in 36.31 sec. Users per second: 980\n"
     ]
    },
    {
     "name": "stderr",
     "output_type": "stream",
     "text": [
      "[I 2024-12-16 06:18:55,645] Trial 90 finished with value: 0.03753958666390054 and parameters: {'topK': 39, 'epochs': 26, 'lambda_i': 0.039186175436611244, 'lambda_j': 0.0001445107396879796, 'learning_rate': 0.09413900045897802}. Best is trial 80 with value: 0.03862051808596154.\n"
     ]
    },
    {
     "name": "stdout",
     "output_type": "stream",
     "text": [
      "Epoch 1, Iteration 35736 in 10.00 seconds. Samples per second 3572.02\n",
      "Epoch 2, Iteration 35736 in 7.40 seconds. Samples per second 4826.15\n",
      "Epoch 3, Iteration 35736 in 6.11 seconds. Samples per second 5846.75\n",
      "Epoch 4, Iteration 35736 in 5.07 seconds. Samples per second 7042.62\n",
      "Epoch 5, Iteration 35736 in 4.38 seconds. Samples per second 8152.98\n",
      "Epoch 6, Iteration 35736 in 4.02 seconds. Samples per second 8899.99\n",
      "Epoch 7, Iteration 35736 in 3.84 seconds. Samples per second 9308.78\n",
      "Epoch 8, Iteration 35736 in 3.71 seconds. Samples per second 9621.94\n",
      "Epoch 9, Iteration 35736 in 9.31 seconds. Samples per second 3839.08\n",
      "Epoch 10, Iteration 35736 in 3.87 seconds. Samples per second 9245.06\n",
      "Epoch 11, Iteration 35736 in 3.56 seconds. Samples per second 10028.35\n",
      "Epoch 12, Iteration 35736 in 3.44 seconds. Samples per second 10376.20\n",
      "Epoch 13, Iteration 35736 in 3.26 seconds. Samples per second 10945.44\n",
      "Epoch 14, Iteration 35736 in 3.23 seconds. Samples per second 11067.34\n",
      "Epoch 15, Iteration 35736 in 3.24 seconds. Samples per second 11017.30\n",
      "Epoch 16, Iteration 35736 in 3.06 seconds. Samples per second 11685.09\n",
      "Epoch 17, Iteration 35736 in 3.23 seconds. Samples per second 11072.71\n",
      "Epoch 18, Iteration 35736 in 3.19 seconds. Samples per second 11212.97\n",
      "Epoch 19, Iteration 35736 in 3.21 seconds. Samples per second 11138.10\n",
      "Epoch 20, Iteration 35736 in 3.11 seconds. Samples per second 11490.03\n",
      "Epoch 21, Iteration 35736 in 2.99 seconds. Samples per second 11949.79\n",
      "Epoch 22, Iteration 35736 in 3.04 seconds. Samples per second 11736.68\n",
      "Epoch 23, Iteration 35736 in 3.08 seconds. Samples per second 11600.40\n",
      "Epoch 24, Iteration 35736 in 2.96 seconds. Samples per second 12053.29\n",
      "Epoch 25, Iteration 35736 in 3.04 seconds. Samples per second 11759.14\n",
      "Epoch 26, Iteration 35736 in 3.11 seconds. Samples per second 11482.81\n",
      "Train completed in 1.81 minutes\n",
      "EvaluatorHoldout: Processed 35595 (100.0%) in 24.73 sec. Users per second: 1439\n"
     ]
    },
    {
     "name": "stderr",
     "output_type": "stream",
     "text": [
      "[I 2024-12-16 06:23:05,201] Trial 91 finished with value: 0.00028209999175022335 and parameters: {'topK': 0, 'epochs': 26, 'lambda_i': 0.015529172381928285, 'lambda_j': 0.00015034331840915844, 'learning_rate': 0.09729202351411732}. Best is trial 80 with value: 0.03862051808596154.\n"
     ]
    },
    {
     "name": "stdout",
     "output_type": "stream",
     "text": [
      "Epoch 1, Iteration 35736 in 10.21 seconds. Samples per second 3501.18\n",
      "Epoch 2, Iteration 35736 in 7.39 seconds. Samples per second 4837.87\n",
      "Epoch 3, Iteration 35736 in 5.84 seconds. Samples per second 6116.08\n",
      "Epoch 4, Iteration 35736 in 4.97 seconds. Samples per second 7189.76\n",
      "Epoch 5, Iteration 35736 in 4.38 seconds. Samples per second 8165.67\n",
      "Epoch 6, Iteration 35736 in 4.08 seconds. Samples per second 8749.89\n",
      "Epoch 7, Iteration 35736 in 3.82 seconds. Samples per second 9346.34\n",
      "Epoch 8, Iteration 35736 in 3.71 seconds. Samples per second 9644.89\n",
      "Epoch 9, Iteration 35736 in 3.47 seconds. Samples per second 10308.38\n",
      "Epoch 10, Iteration 35736 in 3.38 seconds. Samples per second 10578.00\n",
      "Epoch 11, Iteration 35736 in 3.29 seconds. Samples per second 10859.98\n",
      "Epoch 12, Iteration 35736 in 3.16 seconds. Samples per second 11294.44\n",
      "Epoch 13, Iteration 35736 in 3.12 seconds. Samples per second 11453.15\n",
      "Epoch 14, Iteration 35736 in 3.13 seconds. Samples per second 11406.91\n",
      "Epoch 15, Iteration 35736 in 3.09 seconds. Samples per second 11576.40\n",
      "Epoch 16, Iteration 35736 in 3.05 seconds. Samples per second 11716.62\n",
      "Epoch 17, Iteration 35736 in 3.01 seconds. Samples per second 11855.89\n",
      "Epoch 18, Iteration 35736 in 3.04 seconds. Samples per second 11738.89\n",
      "Epoch 19, Iteration 35736 in 3.01 seconds. Samples per second 11855.69\n",
      "Epoch 20, Iteration 35736 in 3.19 seconds. Samples per second 11199.61\n",
      "Epoch 21, Iteration 35736 in 3.40 seconds. Samples per second 10513.85\n",
      "Epoch 22, Iteration 35736 in 3.06 seconds. Samples per second 11686.28\n",
      "Epoch 23, Iteration 35736 in 2.99 seconds. Samples per second 11944.72\n",
      "Epoch 24, Iteration 35736 in 3.06 seconds. Samples per second 11689.77\n",
      "Train completed in 1.58 minutes\n",
      "EvaluatorHoldout: Processed 35595 (100.0%) in 36.55 sec. Users per second: 974\n"
     ]
    },
    {
     "name": "stderr",
     "output_type": "stream",
     "text": [
      "[I 2024-12-16 06:27:14,154] Trial 92 finished with value: 0.036394259047439426 and parameters: {'topK': 40, 'epochs': 24, 'lambda_i': 0.03882093742124777, 'lambda_j': 0.00010097857561857422, 'learning_rate': 0.06840485328324088}. Best is trial 80 with value: 0.03862051808596154.\n"
     ]
    },
    {
     "name": "stdout",
     "output_type": "stream",
     "text": [
      "Epoch 1, Iteration 35736 in 10.12 seconds. Samples per second 3532.84\n",
      "Epoch 2, Iteration 35736 in 7.25 seconds. Samples per second 4928.39\n",
      "Epoch 3, Iteration 35736 in 5.87 seconds. Samples per second 6086.29\n",
      "Epoch 4, Iteration 35736 in 5.04 seconds. Samples per second 7086.92\n",
      "Epoch 5, Iteration 35736 in 4.40 seconds. Samples per second 8130.79\n",
      "Epoch 6, Iteration 35736 in 4.00 seconds. Samples per second 8943.68\n",
      "Epoch 7, Iteration 35736 in 3.76 seconds. Samples per second 9494.48\n",
      "Epoch 8, Iteration 35736 in 3.60 seconds. Samples per second 9917.70\n",
      "Epoch 9, Iteration 35736 in 3.40 seconds. Samples per second 10503.78\n",
      "Epoch 10, Iteration 35736 in 3.34 seconds. Samples per second 10705.93\n",
      "Epoch 11, Iteration 35736 in 3.27 seconds. Samples per second 10932.92\n",
      "Epoch 12, Iteration 35736 in 3.26 seconds. Samples per second 10963.04\n",
      "Epoch 13, Iteration 35736 in 3.13 seconds. Samples per second 11424.52\n",
      "Epoch 14, Iteration 35736 in 3.12 seconds. Samples per second 11437.40\n",
      "Epoch 15, Iteration 35736 in 3.10 seconds. Samples per second 11530.98\n",
      "Epoch 16, Iteration 35736 in 3.15 seconds. Samples per second 11355.17\n",
      "Epoch 17, Iteration 35736 in 3.08 seconds. Samples per second 11590.38\n",
      "Epoch 18, Iteration 35736 in 3.04 seconds. Samples per second 11767.98\n",
      "Epoch 19, Iteration 35736 in 2.99 seconds. Samples per second 11958.48\n",
      "Epoch 20, Iteration 35736 in 3.00 seconds. Samples per second 11925.72\n",
      "Epoch 21, Iteration 35736 in 3.27 seconds. Samples per second 10928.31\n",
      "Epoch 22, Iteration 35736 in 2.97 seconds. Samples per second 12016.54\n",
      "Epoch 23, Iteration 35736 in 3.01 seconds. Samples per second 11874.84\n",
      "Epoch 24, Iteration 35736 in 3.09 seconds. Samples per second 11546.58\n",
      "Epoch 25, Iteration 35736 in 3.06 seconds. Samples per second 11667.27\n",
      "Epoch 26, Iteration 35736 in 3.07 seconds. Samples per second 11639.95\n",
      "Epoch 27, Iteration 35736 in 3.17 seconds. Samples per second 11272.30\n",
      "Train completed in 1.73 minutes\n",
      "EvaluatorHoldout: Processed 35595 (100.0%) in 38.27 sec. Users per second: 930\n"
     ]
    },
    {
     "name": "stderr",
     "output_type": "stream",
     "text": [
      "[I 2024-12-16 06:31:34,057] Trial 93 finished with value: 0.03499734557867597 and parameters: {'topK': 61, 'epochs': 27, 'lambda_i': 0.012052982469332419, 'lambda_j': 6.098845872811374e-05, 'learning_rate': 0.046133756070778964}. Best is trial 80 with value: 0.03862051808596154.\n"
     ]
    },
    {
     "name": "stdout",
     "output_type": "stream",
     "text": [
      "Epoch 1, Iteration 35736 in 10.06 seconds. Samples per second 3551.72\n",
      "Epoch 2, Iteration 35736 in 7.31 seconds. Samples per second 4891.14\n",
      "Epoch 3, Iteration 35736 in 5.94 seconds. Samples per second 6014.21\n",
      "Epoch 4, Iteration 35736 in 5.00 seconds. Samples per second 7154.34\n",
      "Epoch 5, Iteration 35736 in 4.48 seconds. Samples per second 7977.48\n",
      "Epoch 6, Iteration 35736 in 4.08 seconds. Samples per second 8764.24\n",
      "Epoch 7, Iteration 35736 in 3.75 seconds. Samples per second 9518.61\n",
      "Epoch 8, Iteration 35736 in 3.68 seconds. Samples per second 9715.15\n",
      "Epoch 9, Iteration 35736 in 3.57 seconds. Samples per second 10016.86\n",
      "Epoch 10, Iteration 35736 in 3.37 seconds. Samples per second 10611.14\n",
      "Epoch 11, Iteration 35736 in 3.23 seconds. Samples per second 11074.26\n",
      "Epoch 12, Iteration 35736 in 3.23 seconds. Samples per second 11049.45\n",
      "Epoch 13, Iteration 35736 in 3.21 seconds. Samples per second 11120.78\n",
      "Epoch 14, Iteration 35736 in 3.25 seconds. Samples per second 10985.58\n",
      "Epoch 15, Iteration 35736 in 3.18 seconds. Samples per second 11229.27\n",
      "Epoch 16, Iteration 35736 in 3.16 seconds. Samples per second 11321.06\n",
      "Epoch 17, Iteration 35736 in 3.10 seconds. Samples per second 11538.80\n",
      "Epoch 18, Iteration 35736 in 3.20 seconds. Samples per second 11175.61\n",
      "Epoch 19, Iteration 35736 in 3.09 seconds. Samples per second 11567.39\n",
      "Epoch 20, Iteration 35736 in 3.13 seconds. Samples per second 11433.80\n",
      "Epoch 21, Iteration 35736 in 3.14 seconds. Samples per second 11369.51\n",
      "Epoch 22, Iteration 35736 in 3.10 seconds. Samples per second 11519.39\n",
      "Epoch 23, Iteration 35736 in 3.07 seconds. Samples per second 11641.95\n",
      "Epoch 24, Iteration 35736 in 3.12 seconds. Samples per second 11469.05\n",
      "Epoch 25, Iteration 35736 in 3.01 seconds. Samples per second 11873.00\n",
      "Epoch 26, Iteration 35736 in 3.00 seconds. Samples per second 11922.48\n",
      "Epoch 27, Iteration 35736 in 2.99 seconds. Samples per second 11937.23\n",
      "Epoch 28, Iteration 35736 in 3.04 seconds. Samples per second 11766.29\n",
      "Epoch 29, Iteration 35736 in 3.12 seconds. Samples per second 11438.13\n",
      "Epoch 30, Iteration 35736 in 3.13 seconds. Samples per second 11422.93\n",
      "Train completed in 1.90 minutes\n",
      "EvaluatorHoldout: Processed 35595 (100.0%) in 34.99 sec. Users per second: 1017\n"
     ]
    },
    {
     "name": "stderr",
     "output_type": "stream",
     "text": [
      "[I 2024-12-16 06:36:02,931] Trial 94 finished with value: 0.03867352958882535 and parameters: {'topK': 26, 'epochs': 30, 'lambda_i': 0.06006703556073667, 'lambda_j': 0.00021929896034161026, 'learning_rate': 0.08128906309665673}. Best is trial 94 with value: 0.03867352958882535.\n"
     ]
    },
    {
     "name": "stdout",
     "output_type": "stream",
     "text": [
      "Epoch 1, Iteration 35736 in 10.07 seconds. Samples per second 3550.40\n",
      "Epoch 2, Iteration 35736 in 7.34 seconds. Samples per second 4866.25\n",
      "Epoch 3, Iteration 35736 in 5.93 seconds. Samples per second 6022.34\n",
      "Epoch 4, Iteration 35736 in 5.18 seconds. Samples per second 6893.35\n",
      "Epoch 5, Iteration 35736 in 4.70 seconds. Samples per second 7604.88\n",
      "Epoch 6, Iteration 35736 in 4.14 seconds. Samples per second 8628.54\n",
      "Epoch 7, Iteration 35736 in 3.80 seconds. Samples per second 9394.99\n",
      "Epoch 8, Iteration 35736 in 3.59 seconds. Samples per second 9943.75\n",
      "Epoch 9, Iteration 35736 in 3.55 seconds. Samples per second 10058.11\n",
      "Epoch 10, Iteration 35736 in 3.45 seconds. Samples per second 10345.15\n",
      "Epoch 11, Iteration 35736 in 3.34 seconds. Samples per second 10712.51\n",
      "Epoch 12, Iteration 35736 in 3.39 seconds. Samples per second 10539.23\n",
      "Epoch 13, Iteration 35736 in 3.42 seconds. Samples per second 10456.18\n",
      "Epoch 14, Iteration 35736 in 3.22 seconds. Samples per second 11108.70\n",
      "Epoch 15, Iteration 35736 in 3.21 seconds. Samples per second 11145.25\n",
      "Epoch 16, Iteration 35736 in 3.08 seconds. Samples per second 11586.67\n",
      "Epoch 17, Iteration 35736 in 3.09 seconds. Samples per second 11549.48\n",
      "Epoch 18, Iteration 35736 in 3.19 seconds. Samples per second 11186.66\n",
      "Epoch 19, Iteration 35736 in 3.18 seconds. Samples per second 11234.90\n",
      "Epoch 20, Iteration 35736 in 3.06 seconds. Samples per second 11668.49\n",
      "Epoch 21, Iteration 35736 in 3.12 seconds. Samples per second 11447.00\n",
      "Epoch 22, Iteration 35736 in 3.00 seconds. Samples per second 11899.38\n",
      "Epoch 23, Iteration 35736 in 3.12 seconds. Samples per second 11454.73\n",
      "Epoch 24, Iteration 35736 in 3.05 seconds. Samples per second 11712.50\n",
      "Epoch 25, Iteration 35736 in 3.12 seconds. Samples per second 11460.50\n",
      "Epoch 26, Iteration 35736 in 2.98 seconds. Samples per second 11988.85\n",
      "Epoch 27, Iteration 35736 in 3.09 seconds. Samples per second 11580.85\n",
      "Epoch 28, Iteration 35736 in 3.06 seconds. Samples per second 11660.66\n",
      "Epoch 29, Iteration 35736 in 3.00 seconds. Samples per second 11895.47\n",
      "Epoch 30, Iteration 35736 in 3.00 seconds. Samples per second 11921.93\n",
      "Train completed in 1.91 minutes\n",
      "EvaluatorHoldout: Processed 35595 (100.0%) in 37.40 sec. Users per second: 952\n"
     ]
    },
    {
     "name": "stderr",
     "output_type": "stream",
     "text": [
      "[I 2024-12-16 06:40:49,395] Trial 95 finished with value: 0.03719721648082243 and parameters: {'topK': 52, 'epochs': 30, 'lambda_i': 0.06799921669244134, 'lambda_j': 0.00023192110908114172, 'learning_rate': 0.07811061710103279}. Best is trial 94 with value: 0.03867352958882535.\n"
     ]
    },
    {
     "name": "stdout",
     "output_type": "stream",
     "text": [
      "Epoch 1, Iteration 35736 in 10.06 seconds. Samples per second 3553.38\n",
      "Epoch 2, Iteration 35736 in 7.18 seconds. Samples per second 4977.15\n",
      "Epoch 3, Iteration 35736 in 5.93 seconds. Samples per second 6027.01\n",
      "Epoch 4, Iteration 35736 in 4.98 seconds. Samples per second 7174.20\n",
      "Epoch 5, Iteration 35736 in 4.41 seconds. Samples per second 8099.20\n",
      "Epoch 6, Iteration 35736 in 4.05 seconds. Samples per second 8821.66\n",
      "Epoch 7, Iteration 35736 in 3.88 seconds. Samples per second 9212.81\n",
      "Epoch 8, Iteration 35736 in 3.55 seconds. Samples per second 10072.44\n",
      "Epoch 9, Iteration 35736 in 3.50 seconds. Samples per second 10209.59\n",
      "Epoch 10, Iteration 35736 in 3.34 seconds. Samples per second 10702.84\n",
      "Epoch 11, Iteration 35736 in 3.33 seconds. Samples per second 10729.02\n",
      "Epoch 12, Iteration 35736 in 3.28 seconds. Samples per second 10911.00\n",
      "Epoch 13, Iteration 35736 in 3.23 seconds. Samples per second 11076.23\n",
      "Epoch 14, Iteration 35736 in 3.13 seconds. Samples per second 11411.44\n",
      "Epoch 15, Iteration 35736 in 3.19 seconds. Samples per second 11204.15\n",
      "Epoch 16, Iteration 35736 in 3.07 seconds. Samples per second 11649.76\n",
      "Epoch 17, Iteration 35736 in 3.08 seconds. Samples per second 11616.98\n",
      "Epoch 18, Iteration 35736 in 3.06 seconds. Samples per second 11659.61\n",
      "Epoch 19, Iteration 35736 in 3.05 seconds. Samples per second 11712.03\n",
      "Epoch 20, Iteration 35736 in 3.06 seconds. Samples per second 11684.80\n",
      "Epoch 21, Iteration 35736 in 2.99 seconds. Samples per second 11948.21\n",
      "Epoch 22, Iteration 35736 in 2.98 seconds. Samples per second 12003.84\n",
      "Epoch 23, Iteration 35736 in 3.19 seconds. Samples per second 11199.32\n",
      "Epoch 24, Iteration 35736 in 3.05 seconds. Samples per second 11730.35\n",
      "Epoch 25, Iteration 35736 in 3.00 seconds. Samples per second 11895.24\n",
      "Epoch 26, Iteration 35736 in 3.01 seconds. Samples per second 11885.02\n",
      "Epoch 27, Iteration 35736 in 3.01 seconds. Samples per second 11871.55\n",
      "Epoch 28, Iteration 35736 in 2.99 seconds. Samples per second 11959.81\n",
      "Epoch 29, Iteration 35736 in 3.06 seconds. Samples per second 11691.54\n",
      "Epoch 30, Iteration 35736 in 3.03 seconds. Samples per second 11775.17\n",
      "Epoch 31, Iteration 35736 in 3.07 seconds. Samples per second 11625.28\n",
      "Train completed in 1.93 minutes\n",
      "EvaluatorHoldout: Processed 35595 (100.0%) in 36.53 sec. Users per second: 974\n"
     ]
    },
    {
     "name": "stderr",
     "output_type": "stream",
     "text": [
      "[I 2024-12-16 06:45:26,764] Trial 96 finished with value: 0.03731826522808278 and parameters: {'topK': 40, 'epochs': 31, 'lambda_i': 0.05600708326012621, 'lambda_j': 4.769564296032669e-05, 'learning_rate': 0.06414777050894514}. Best is trial 94 with value: 0.03867352958882535.\n"
     ]
    },
    {
     "name": "stdout",
     "output_type": "stream",
     "text": [
      "Epoch 1, Iteration 35736 in 9.97 seconds. Samples per second 3585.22\n",
      "Epoch 2, Iteration 35736 in 7.25 seconds. Samples per second 4928.91\n",
      "Epoch 3, Iteration 35736 in 5.77 seconds. Samples per second 6189.53\n",
      "Epoch 4, Iteration 35736 in 5.08 seconds. Samples per second 7033.74\n",
      "Epoch 5, Iteration 35736 in 4.43 seconds. Samples per second 8057.90\n",
      "Epoch 6, Iteration 35736 in 4.16 seconds. Samples per second 8594.93\n",
      "Epoch 7, Iteration 35736 in 3.74 seconds. Samples per second 9544.71\n",
      "Epoch 8, Iteration 35736 in 3.56 seconds. Samples per second 10042.11\n",
      "Epoch 9, Iteration 35736 in 3.42 seconds. Samples per second 10462.12\n",
      "Epoch 10, Iteration 35736 in 3.34 seconds. Samples per second 10689.90\n",
      "Epoch 11, Iteration 35736 in 3.26 seconds. Samples per second 10959.25\n",
      "Epoch 12, Iteration 35736 in 3.21 seconds. Samples per second 11125.70\n",
      "Epoch 13, Iteration 35736 in 3.11 seconds. Samples per second 11504.74\n",
      "Epoch 14, Iteration 35736 in 3.26 seconds. Samples per second 10965.16\n",
      "Epoch 15, Iteration 35736 in 3.20 seconds. Samples per second 11173.88\n",
      "Epoch 16, Iteration 35736 in 3.09 seconds. Samples per second 11550.42\n",
      "Epoch 17, Iteration 35736 in 3.17 seconds. Samples per second 11290.39\n",
      "Epoch 18, Iteration 35736 in 3.08 seconds. Samples per second 11610.73\n",
      "Epoch 19, Iteration 35736 in 3.10 seconds. Samples per second 11532.23\n",
      "Epoch 20, Iteration 35736 in 3.08 seconds. Samples per second 11620.26\n",
      "Epoch 21, Iteration 35736 in 3.15 seconds. Samples per second 11329.88\n",
      "Epoch 22, Iteration 35736 in 3.08 seconds. Samples per second 11588.77\n",
      "Epoch 23, Iteration 35736 in 3.10 seconds. Samples per second 11525.22\n",
      "Epoch 24, Iteration 35736 in 3.12 seconds. Samples per second 11440.32\n",
      "Train completed in 1.58 minutes\n",
      "EvaluatorHoldout: Processed 35595 (100.0%) in 39.08 sec. Users per second: 911\n"
     ]
    },
    {
     "name": "stderr",
     "output_type": "stream",
     "text": [
      "[I 2024-12-16 06:49:48,943] Trial 97 finished with value: 0.035152999908582276 and parameters: {'topK': 69, 'epochs': 24, 'lambda_i': 0.07720629734877726, 'lambda_j': 0.00012334144974821288, 'learning_rate': 0.056656118490598845}. Best is trial 94 with value: 0.03867352958882535.\n"
     ]
    },
    {
     "name": "stdout",
     "output_type": "stream",
     "text": [
      "Epoch 1, Iteration 35736 in 9.98 seconds. Samples per second 3581.93\n",
      "Epoch 2, Iteration 35736 in 7.26 seconds. Samples per second 4921.86\n",
      "Epoch 3, Iteration 35736 in 5.93 seconds. Samples per second 6026.26\n",
      "Epoch 4, Iteration 35736 in 5.05 seconds. Samples per second 7074.49\n",
      "Epoch 5, Iteration 35736 in 4.47 seconds. Samples per second 7989.80\n",
      "Epoch 6, Iteration 35736 in 4.05 seconds. Samples per second 8834.31\n",
      "Epoch 7, Iteration 35736 in 3.77 seconds. Samples per second 9486.20\n",
      "Epoch 8, Iteration 35736 in 3.70 seconds. Samples per second 9655.56\n",
      "Epoch 9, Iteration 35736 in 3.45 seconds. Samples per second 10362.46\n",
      "Epoch 10, Iteration 35736 in 3.37 seconds. Samples per second 10610.80\n",
      "Epoch 11, Iteration 35736 in 3.31 seconds. Samples per second 10796.80\n",
      "Epoch 12, Iteration 35736 in 3.24 seconds. Samples per second 11033.45\n",
      "Epoch 13, Iteration 35736 in 3.25 seconds. Samples per second 10988.58\n",
      "Epoch 14, Iteration 35736 in 3.21 seconds. Samples per second 11133.70\n",
      "Epoch 15, Iteration 35736 in 3.16 seconds. Samples per second 11314.69\n",
      "Epoch 16, Iteration 35736 in 3.33 seconds. Samples per second 10719.99\n",
      "Epoch 17, Iteration 35736 in 3.22 seconds. Samples per second 11097.42\n",
      "Epoch 18, Iteration 35736 in 3.08 seconds. Samples per second 11594.46\n",
      "Epoch 19, Iteration 35736 in 3.04 seconds. Samples per second 11741.15\n",
      "Epoch 20, Iteration 35736 in 3.08 seconds. Samples per second 11587.26\n",
      "Epoch 21, Iteration 35736 in 3.18 seconds. Samples per second 11231.92\n",
      "Epoch 22, Iteration 35736 in 3.00 seconds. Samples per second 11917.28\n",
      "Epoch 23, Iteration 35736 in 3.07 seconds. Samples per second 11658.33\n",
      "Epoch 24, Iteration 35736 in 3.02 seconds. Samples per second 11852.69\n",
      "Epoch 25, Iteration 35736 in 3.09 seconds. Samples per second 11546.75\n",
      "Epoch 26, Iteration 35736 in 3.01 seconds. Samples per second 11854.05\n",
      "Epoch 27, Iteration 35736 in 2.97 seconds. Samples per second 12023.10\n",
      "Epoch 28, Iteration 35736 in 2.95 seconds. Samples per second 12100.73\n",
      "Epoch 29, Iteration 35736 in 3.02 seconds. Samples per second 11847.57\n",
      "Train completed in 1.84 minutes\n",
      "EvaluatorHoldout: Processed 35595 (100.0%) in 33.07 sec. Users per second: 1076\n"
     ]
    },
    {
     "name": "stderr",
     "output_type": "stream",
     "text": [
      "[I 2024-12-16 06:54:13,183] Trial 98 finished with value: 0.040251465450157724 and parameters: {'topK': 10, 'epochs': 29, 'lambda_i': 0.09900111245281501, 'lambda_j': 1.234691796411495e-05, 'learning_rate': 0.08668948504743702}. Best is trial 98 with value: 0.040251465450157724.\n"
     ]
    },
    {
     "name": "stdout",
     "output_type": "stream",
     "text": [
      "Epoch 1, Iteration 35736 in 10.17 seconds. Samples per second 3512.33\n",
      "Epoch 2, Iteration 35736 in 7.39 seconds. Samples per second 4837.65\n",
      "Epoch 3, Iteration 35736 in 5.80 seconds. Samples per second 6163.30\n",
      "Epoch 4, Iteration 35736 in 4.98 seconds. Samples per second 7170.69\n",
      "Epoch 5, Iteration 35736 in 4.43 seconds. Samples per second 8071.62\n",
      "Epoch 6, Iteration 35736 in 4.09 seconds. Samples per second 8744.92\n",
      "Epoch 7, Iteration 35736 in 3.88 seconds. Samples per second 9203.78\n",
      "Epoch 8, Iteration 35736 in 3.73 seconds. Samples per second 9571.67\n",
      "Epoch 9, Iteration 35736 in 3.57 seconds. Samples per second 10022.93\n",
      "Epoch 10, Iteration 35736 in 3.44 seconds. Samples per second 10401.81\n",
      "Epoch 11, Iteration 35736 in 3.31 seconds. Samples per second 10794.17\n",
      "Epoch 12, Iteration 35736 in 3.23 seconds. Samples per second 11061.15\n",
      "Epoch 13, Iteration 35736 in 3.19 seconds. Samples per second 11199.87\n",
      "Epoch 14, Iteration 35736 in 3.09 seconds. Samples per second 11579.15\n",
      "Epoch 15, Iteration 35736 in 3.10 seconds. Samples per second 11511.61\n",
      "Epoch 16, Iteration 35736 in 3.07 seconds. Samples per second 11641.80\n",
      "Epoch 17, Iteration 35736 in 3.05 seconds. Samples per second 11735.72\n",
      "Epoch 18, Iteration 35736 in 3.10 seconds. Samples per second 11518.75\n",
      "Epoch 19, Iteration 35736 in 3.02 seconds. Samples per second 11832.65\n",
      "Epoch 20, Iteration 35736 in 3.00 seconds. Samples per second 11899.80\n",
      "Epoch 21, Iteration 35736 in 2.98 seconds. Samples per second 11995.03\n",
      "Epoch 22, Iteration 35736 in 2.99 seconds. Samples per second 11966.88\n",
      "Epoch 23, Iteration 35736 in 3.04 seconds. Samples per second 11767.49\n",
      "Epoch 24, Iteration 35736 in 2.98 seconds. Samples per second 11987.84\n",
      "Epoch 25, Iteration 35736 in 3.07 seconds. Samples per second 11653.33\n",
      "Epoch 26, Iteration 35736 in 2.94 seconds. Samples per second 12153.37\n",
      "Epoch 27, Iteration 35736 in 2.94 seconds. Samples per second 12166.33\n",
      "Epoch 28, Iteration 35736 in 3.08 seconds. Samples per second 11615.90\n",
      "Epoch 29, Iteration 35736 in 3.09 seconds. Samples per second 11571.43\n",
      "Train completed in 1.83 minutes\n",
      "EvaluatorHoldout: Processed 35595 (100.0%) in 33.49 sec. Users per second: 1063\n"
     ]
    },
    {
     "name": "stderr",
     "output_type": "stream",
     "text": [
      "[I 2024-12-16 06:58:34,816] Trial 99 finished with value: 0.038075866728204295 and parameters: {'topK': 13, 'epochs': 29, 'lambda_i': 0.09977274182397447, 'lambda_j': 3.4280869624778604e-05, 'learning_rate': 0.048302392186519064}. Best is trial 98 with value: 0.040251465450157724.\n"
     ]
    }
   ],
   "source": [
    "if config['tune_parameters']:\n",
    "    \n",
    "    optuna_study = optuna.create_study(direction='maximize', study_name=f'hyperparameters_tuning_{config[\"model\"]}',\n",
    "                                storage=f'sqlite:///{config[\"database_path\"]}', load_if_exists=True)\n",
    "\n",
    "    optuna_study.optimize(objective_function_slim_bpr, n_trials=100)"
   ]
  },
  {
   "cell_type": "markdown",
   "id": "45894fa3",
   "metadata": {
    "papermill": {
     "duration": 0.152883,
     "end_time": "2024-12-16T06:58:35.130801",
     "exception": false,
     "start_time": "2024-12-16T06:58:34.977918",
     "status": "completed"
    },
    "tags": []
   },
   "source": [
    "## Some optuna visualizations on recommender parameters"
   ]
  },
  {
   "cell_type": "code",
   "execution_count": 14,
   "id": "2cab96d0",
   "metadata": {
    "execution": {
     "iopub.execute_input": "2024-12-16T06:58:35.445263Z",
     "iopub.status.busy": "2024-12-16T06:58:35.444830Z",
     "iopub.status.idle": "2024-12-16T06:58:37.783003Z",
     "shell.execute_reply": "2024-12-16T06:58:37.781966Z"
    },
    "papermill": {
     "duration": 2.498405,
     "end_time": "2024-12-16T06:58:37.784950",
     "exception": false,
     "start_time": "2024-12-16T06:58:35.286545",
     "status": "completed"
    },
    "tags": []
   },
   "outputs": [
    {
     "data": {
      "text/html": [
       "        <script type=\"text/javascript\">\n",
       "        window.PlotlyConfig = {MathJaxConfig: 'local'};\n",
       "        if (window.MathJax && window.MathJax.Hub && window.MathJax.Hub.Config) {window.MathJax.Hub.Config({SVG: {font: \"STIX-Web\"}});}\n",
       "        if (typeof require !== 'undefined') {\n",
       "        require.undef(\"plotly\");\n",
       "        requirejs.config({\n",
       "            paths: {\n",
       "                'plotly': ['https://cdn.plot.ly/plotly-2.32.0.min']\n",
       "            }\n",
       "        });\n",
       "        require(['plotly'], function(Plotly) {\n",
       "            window._Plotly = Plotly;\n",
       "        });\n",
       "        }\n",
       "        </script>\n",
       "        "
      ]
     },
     "metadata": {},
     "output_type": "display_data"
    },
    {
     "data": {
      "text/html": [
       "<div>                            <div id=\"07f7b20c-e490-42e6-8961-07419c2e9d5a\" class=\"plotly-graph-div\" style=\"height:525px; width:1500px;\"></div>            <script type=\"text/javascript\">                require([\"plotly\"], function(Plotly) {                    window.PLOTLYENV=window.PLOTLYENV || {};                                    if (document.getElementById(\"07f7b20c-e490-42e6-8961-07419c2e9d5a\")) {                    Plotly.newPlot(                        \"07f7b20c-e490-42e6-8961-07419c2e9d5a\",                        [{\"marker\":{\"color\":[0,1,2,3,4,5,6,7,8,9,10,11,12,13,14,15,16,17,18,19,20,21,22,23,24,25,26,27,28,29,30,31,32,33,34,35,36,37,38,39,40,41,42,43,44,45,46,47,48,49,50,51,52,53,54,55,56,57,58,59,60,61,62,63,64,65,66,67,68,69,70,71,72,73,74,75,76,77,78,79,80,81,82,83,84,85,86,87,88,89,90,91,92,93,94,95,96,97,98,99],\"colorbar\":{\"title\":{\"text\":\"Trial\"},\"x\":1.0,\"xpad\":40},\"colorscale\":[[0.0,\"rgb(247,251,255)\"],[0.125,\"rgb(222,235,247)\"],[0.25,\"rgb(198,219,239)\"],[0.375,\"rgb(158,202,225)\"],[0.5,\"rgb(107,174,214)\"],[0.625,\"rgb(66,146,198)\"],[0.75,\"rgb(33,113,181)\"],[0.875,\"rgb(8,81,156)\"],[1.0,\"rgb(8,48,107)\"]],\"line\":{\"color\":\"Grey\",\"width\":0.5},\"showscale\":true},\"mode\":\"markers\",\"name\":\"Feasible Trial\",\"showlegend\":false,\"x\":[21,17,34,26,21,49,14,47,38,19,9,47,30,1,40,8,43,30,29,33,22,35,30,26,16,14,13,5,14,24,23,22,18,11,16,24,18,24,20,16,27,28,27,33,33,33,38,36,32,41,37,25,24,23,28,28,25,20,26,31,29,25,21,28,31,22,22,23,22,19,22,25,23,21,21,20,18,17,23,21,25,26,26,25,25,27,23,26,29,23,26,26,24,27,30,30,31,24,29,29],\"y\":[0.030346353487313602,0.030389690455007883,0.0314148087947067,0.02770853651194927,0.027737547854277095,0.032117334118175904,0.030366744928058822,0.03019855762691744,0.02929103427670558,0.03339036938931508,0.028954629573887024,0.032490033378148785,0.030950666336674603,0.017481052270137933,0.031468549399437634,0.03159518235350442,0.031578460948455796,0.03371269038588782,0.031029004653319144,0.032913868989089184,0.03181138892790721,0.03260213780694075,0.03385395443001734,0.03246126061043761,0.03484153740158667,0.034398009351231947,0.033597387496459324,0.027189254331689564,0.029875895490938956,0.03555098361861841,0.035826071300364186,0.00028209999175022335,0.03296535985747857,0.03247833876257717,0.03242984234008161,0.03313863414916836,0.032822225120791367,0.030022434932674404,0.033387577843328964,0.02745918478830353,0.03440573069607937,0.035961679788269175,0.03414480921834395,0.035856994584132135,0.03506234378379228,0.03304016749275804,0.033895518810604146,0.03139235825434652,0.031220808611873777,0.031716697101651814,0.032765368553188824,0.03723260467739899,0.036285081059626946,0.03599671681192833,0.03641825586347181,0.03473236610278218,0.03615326635406573,0.03519784190306619,0.03339586663901773,0.03254735483180398,0.03174336283185744,0.034423553557770825,0.00028209999175022335,0.03333297770107616,0.03388487548411581,0.03756080865646696,0.0374125523693567,0.03803690437171121,0.03658566946935979,0.03614089726352558,0.03106920001694446,0.03753140266266993,0.03753881185381275,0.03660242431944814,0.03663645130290612,0.03371720435142145,0.03512077449793291,0.03260423927027261,0.03605902380617798,0.03426230052820772,0.03862051808596154,0.03837813519376806,0.03616368113944907,0.0385784018622185,0.036509703520869574,0.03463302987533814,0.03073841073630293,0.03764986276385203,0.03626224032713594,0.03745595065295735,0.03753958666390054,0.00028209999175022335,0.036394259047439426,0.03499734557867597,0.03867352958882535,0.03719721648082243,0.03731826522808278,0.035152999908582276,0.040251465450157724,0.038075866728204295],\"type\":\"scatter\",\"xaxis\":\"x\",\"yaxis\":\"y\"},{\"marker\":{\"color\":[0,1,2,3,4,5,6,7,8,9,10,11,12,13,14,15,16,17,18,19,20,21,22,23,24,25,26,27,28,29,30,31,32,33,34,35,36,37,38,39,40,41,42,43,44,45,46,47,48,49,50,51,52,53,54,55,56,57,58,59,60,61,62,63,64,65,66,67,68,69,70,71,72,73,74,75,76,77,78,79,80,81,82,83,84,85,86,87,88,89,90,91,92,93,94,95,96,97,98,99],\"colorbar\":{\"title\":{\"text\":\"Trial\"},\"x\":1.0,\"xpad\":40},\"colorscale\":[[0.0,\"rgb(247,251,255)\"],[0.125,\"rgb(222,235,247)\"],[0.25,\"rgb(198,219,239)\"],[0.375,\"rgb(158,202,225)\"],[0.5,\"rgb(107,174,214)\"],[0.625,\"rgb(66,146,198)\"],[0.75,\"rgb(33,113,181)\"],[0.875,\"rgb(8,81,156)\"],[1.0,\"rgb(8,48,107)\"]],\"line\":{\"color\":\"Grey\",\"width\":0.5},\"showscale\":false},\"mode\":\"markers\",\"name\":\"Feasible Trial\",\"showlegend\":false,\"x\":[0.002597835793983858,0.0017687051598126319,0.00009782286630219877,0.010756178450260992,0.0015450430114650681,0.0066635445969326175,0.000012350776622721477,0.00035183149442524016,0.004243806371745037,0.00002494871432661756,0.000011359322994821096,0.09927534518265574,0.07124311040384719,0.09353586980274774,0.00010626348996300061,0.02408211435567716,0.000439648546317298,0.00004829122612843355,0.00004890634433930862,0.000037645064608729184,0.00044854398007380806,0.000033217240926625625,0.00003217336598834759,0.000162278886653307,0.000025763699217751394,0.00007057580758737795,0.00001849965650706103,0.00017861552066633348,0.0000752806374989938,0.0007514562788570996,0.0011234127117125008,0.0006117110610975231,0.0011403746550794785,0.0030301041695698534,0.0007419783426833341,0.00022471705192281485,0.0018675700558920035,0.013595630364115091,0.00009013236186509335,0.0002464264748024451,0.0010555125597237214,0.001319949276658115,0.0011846531591982335,0.0051998777530991745,0.005119537148542098,0.0037717551222298472,0.006553591004520105,0.002067629109005697,0.006220721238207176,0.017877963627301294,0.008771157126876908,0.00253509022299605,0.002669948226823186,0.0021337503398333032,0.002128724225847287,0.002281008241497726,0.00317092440230433,0.003001708853885607,0.0015317085831872362,0.0037130810374600355,0.009009628307625831,0.0015328362040167734,0.004860525550570224,0.002373362245810028,0.0026299237662603084,0.030209737213780587,0.03059950788701519,0.04566214521904554,0.03493811471918037,0.04665096747827141,0.03643791881734545,0.02963653841249478,0.027685641268023035,0.02572043162250884,0.029659263020633476,0.06510977274483279,0.02293274308881064,0.05878343941863117,0.02813356739019131,0.01677198119088078,0.08053024494655671,0.050334080083716766,0.0850820399041155,0.04908453274063369,0.043926768975073485,0.050212916880700766,0.0849658880620211,0.01944777803876886,0.020709193108582106,0.012626773911024685,0.039186175436611244,0.015529172381928285,0.03882093742124777,0.012052982469332419,0.06006703556073667,0.06799921669244134,0.05600708326012621,0.07720629734877726,0.09900111245281501,0.09977274182397447],\"y\":[0.030346353487313602,0.030389690455007883,0.0314148087947067,0.02770853651194927,0.027737547854277095,0.032117334118175904,0.030366744928058822,0.03019855762691744,0.02929103427670558,0.03339036938931508,0.028954629573887024,0.032490033378148785,0.030950666336674603,0.017481052270137933,0.031468549399437634,0.03159518235350442,0.031578460948455796,0.03371269038588782,0.031029004653319144,0.032913868989089184,0.03181138892790721,0.03260213780694075,0.03385395443001734,0.03246126061043761,0.03484153740158667,0.034398009351231947,0.033597387496459324,0.027189254331689564,0.029875895490938956,0.03555098361861841,0.035826071300364186,0.00028209999175022335,0.03296535985747857,0.03247833876257717,0.03242984234008161,0.03313863414916836,0.032822225120791367,0.030022434932674404,0.033387577843328964,0.02745918478830353,0.03440573069607937,0.035961679788269175,0.03414480921834395,0.035856994584132135,0.03506234378379228,0.03304016749275804,0.033895518810604146,0.03139235825434652,0.031220808611873777,0.031716697101651814,0.032765368553188824,0.03723260467739899,0.036285081059626946,0.03599671681192833,0.03641825586347181,0.03473236610278218,0.03615326635406573,0.03519784190306619,0.03339586663901773,0.03254735483180398,0.03174336283185744,0.034423553557770825,0.00028209999175022335,0.03333297770107616,0.03388487548411581,0.03756080865646696,0.0374125523693567,0.03803690437171121,0.03658566946935979,0.03614089726352558,0.03106920001694446,0.03753140266266993,0.03753881185381275,0.03660242431944814,0.03663645130290612,0.03371720435142145,0.03512077449793291,0.03260423927027261,0.03605902380617798,0.03426230052820772,0.03862051808596154,0.03837813519376806,0.03616368113944907,0.0385784018622185,0.036509703520869574,0.03463302987533814,0.03073841073630293,0.03764986276385203,0.03626224032713594,0.03745595065295735,0.03753958666390054,0.00028209999175022335,0.036394259047439426,0.03499734557867597,0.03867352958882535,0.03719721648082243,0.03731826522808278,0.035152999908582276,0.040251465450157724,0.038075866728204295],\"type\":\"scatter\",\"xaxis\":\"x2\",\"yaxis\":\"y2\"},{\"marker\":{\"color\":[0,1,2,3,4,5,6,7,8,9,10,11,12,13,14,15,16,17,18,19,20,21,22,23,24,25,26,27,28,29,30,31,32,33,34,35,36,37,38,39,40,41,42,43,44,45,46,47,48,49,50,51,52,53,54,55,56,57,58,59,60,61,62,63,64,65,66,67,68,69,70,71,72,73,74,75,76,77,78,79,80,81,82,83,84,85,86,87,88,89,90,91,92,93,94,95,96,97,98,99],\"colorbar\":{\"title\":{\"text\":\"Trial\"},\"x\":1.0,\"xpad\":40},\"colorscale\":[[0.0,\"rgb(247,251,255)\"],[0.125,\"rgb(222,235,247)\"],[0.25,\"rgb(198,219,239)\"],[0.375,\"rgb(158,202,225)\"],[0.5,\"rgb(107,174,214)\"],[0.625,\"rgb(66,146,198)\"],[0.75,\"rgb(33,113,181)\"],[0.875,\"rgb(8,81,156)\"],[1.0,\"rgb(8,48,107)\"]],\"line\":{\"color\":\"Grey\",\"width\":0.5},\"showscale\":false},\"mode\":\"markers\",\"name\":\"Feasible Trial\",\"showlegend\":false,\"x\":[0.0001362653966245703,0.008016444952382434,0.00007221959758696683,0.00040678336306533563,0.005301115424551582,0.03513115045863199,0.00002210874175802948,0.000029915960988277396,0.000012445315777320879,0.002207521754271074,0.001525422869345672,0.06843624400636594,0.0849669233934105,0.01319708872276023,0.0015456231808623601,0.0808099436300234,0.0004265591254150361,0.003412814791161318,0.005591604785622062,0.002497113027518866,0.0004399882992116765,0.0028127492851549546,0.0007425463489002636,0.0009344035566876671,0.024258315967384793,0.021285849586786733,0.021903182052631955,0.02247650356388962,0.013114491704476969,0.0001758518635970779,0.00017884867877739497,0.00010735983908283788,0.00016234084952320444,0.00019748913907143852,0.00004286015259366432,0.00022429544987514452,0.00008133902649510333,0.03790234116645842,0.00005796786517342137,0.00766518476287147,0.0002693989507278967,0.00029628974100552634,0.00026973164912213126,0.0005684755063734995,0.0005814855283526207,0.0007062907754504359,0.00011907798421152918,0.0005610089953431003,0.0003493586766975109,0.0014913201439236607,0.000026677599374882736,0.0010689685660046663,0.0012341076221909647,0.001046945952241351,0.0012651621183457004,0.0012457698304146963,0.0018894901263502915,0.004376066757131202,0.001932436475327868,0.0009354220619649943,0.0032162298094811823,0.001143071997721082,0.0021064910126032186,0.0008097690557067696,0.0015736945452363951,0.00043056981303035274,0.00035377632156841115,0.0004086302869195862,0.0004712610836581153,0.0004514881910337962,0.0003946178066595168,0.0007076539318079437,0.0006851442708855511,0.0006892861134896672,0.0006958978195487801,0.0006683510791971621,0.00033329400099702314,0.0008046129472292142,0.0002357821154896554,0.000520738235614627,0.00014892777263430317,0.00013374921382356664,0.00013199124051525772,0.00008807963752428805,0.0000704170160132424,0.00004390302822374253,0.00009173332345233673,0.0001482358117407454,0.00017748316133192913,0.00014723427009433575,0.0001445107396879796,0.00015034331840915844,0.00010097857561857422,0.00006098845872811374,0.00021929896034161026,0.00023192110908114172,0.00004769564296032669,0.00012334144974821288,0.00001234691796411495,0.000034280869624778604],\"y\":[0.030346353487313602,0.030389690455007883,0.0314148087947067,0.02770853651194927,0.027737547854277095,0.032117334118175904,0.030366744928058822,0.03019855762691744,0.02929103427670558,0.03339036938931508,0.028954629573887024,0.032490033378148785,0.030950666336674603,0.017481052270137933,0.031468549399437634,0.03159518235350442,0.031578460948455796,0.03371269038588782,0.031029004653319144,0.032913868989089184,0.03181138892790721,0.03260213780694075,0.03385395443001734,0.03246126061043761,0.03484153740158667,0.034398009351231947,0.033597387496459324,0.027189254331689564,0.029875895490938956,0.03555098361861841,0.035826071300364186,0.00028209999175022335,0.03296535985747857,0.03247833876257717,0.03242984234008161,0.03313863414916836,0.032822225120791367,0.030022434932674404,0.033387577843328964,0.02745918478830353,0.03440573069607937,0.035961679788269175,0.03414480921834395,0.035856994584132135,0.03506234378379228,0.03304016749275804,0.033895518810604146,0.03139235825434652,0.031220808611873777,0.031716697101651814,0.032765368553188824,0.03723260467739899,0.036285081059626946,0.03599671681192833,0.03641825586347181,0.03473236610278218,0.03615326635406573,0.03519784190306619,0.03339586663901773,0.03254735483180398,0.03174336283185744,0.034423553557770825,0.00028209999175022335,0.03333297770107616,0.03388487548411581,0.03756080865646696,0.0374125523693567,0.03803690437171121,0.03658566946935979,0.03614089726352558,0.03106920001694446,0.03753140266266993,0.03753881185381275,0.03660242431944814,0.03663645130290612,0.03371720435142145,0.03512077449793291,0.03260423927027261,0.03605902380617798,0.03426230052820772,0.03862051808596154,0.03837813519376806,0.03616368113944907,0.0385784018622185,0.036509703520869574,0.03463302987533814,0.03073841073630293,0.03764986276385203,0.03626224032713594,0.03745595065295735,0.03753958666390054,0.00028209999175022335,0.036394259047439426,0.03499734557867597,0.03867352958882535,0.03719721648082243,0.03731826522808278,0.035152999908582276,0.040251465450157724,0.038075866728204295],\"type\":\"scatter\",\"xaxis\":\"x3\",\"yaxis\":\"y3\"},{\"marker\":{\"color\":[0,1,2,3,4,5,6,7,8,9,10,11,12,13,14,15,16,17,18,19,20,21,22,23,24,25,26,27,28,29,30,31,32,33,34,35,36,37,38,39,40,41,42,43,44,45,46,47,48,49,50,51,52,53,54,55,56,57,58,59,60,61,62,63,64,65,66,67,68,69,70,71,72,73,74,75,76,77,78,79,80,81,82,83,84,85,86,87,88,89,90,91,92,93,94,95,96,97,98,99],\"colorbar\":{\"title\":{\"text\":\"Trial\"},\"x\":1.0,\"xpad\":40},\"colorscale\":[[0.0,\"rgb(247,251,255)\"],[0.125,\"rgb(222,235,247)\"],[0.25,\"rgb(198,219,239)\"],[0.375,\"rgb(158,202,225)\"],[0.5,\"rgb(107,174,214)\"],[0.625,\"rgb(66,146,198)\"],[0.75,\"rgb(33,113,181)\"],[0.875,\"rgb(8,81,156)\"],[1.0,\"rgb(8,48,107)\"]],\"line\":{\"color\":\"Grey\",\"width\":0.5},\"showscale\":false},\"mode\":\"markers\",\"name\":\"Feasible Trial\",\"showlegend\":false,\"x\":[0.00029026429634871503,0.03126559091252736,0.05564073968017585,0.0003006366869871818,0.00033177545229092577,0.0016801859050004095,0.002010272910522065,0.0005722304169796723,0.0010042098081573696,0.04319733620128968,0.011468406458669835,0.008271207397818307,0.006386970183835491,0.020148499252781425,0.0050641643916832955,0.0946807258431908,0.0140220251398268,0.03797903592668721,0.00011379105707438704,0.042252043712366925,0.09810732853849197,0.035432475554350605,0.04189566249895743,0.02001063281357001,0.06088747225137052,0.07266962754929795,0.0703386600524918,0.02105853305699319,0.004067913878239503,0.0660198704995835,0.07022477476570041,0.06614419638774217,0.0241760731663195,0.06932123157408317,0.05777471616822958,0.012807961217730902,0.09833842286582699,0.027881517727795464,0.053898298189713055,0.002255823522519117,0.029533988746076694,0.0716736218897889,0.029876157133232065,0.05339236291919878,0.0514927296146805,0.016388675189016298,0.045330957244846495,0.0006650041390256151,0.009740597219595437,0.08378873000095641,0.05234228677533303,0.056019689254198944,0.03679505848831504,0.03929844444620155,0.034432730045582685,0.01770607252831578,0.03506847431783512,0.03319511759857625,0.008331339961127834,0.024428526857446817,0.00021281550632682068,0.03963811045540832,0.03926185603985798,0.014862663203954454,0.02366476624522737,0.08458483091529401,0.08094265302207017,0.08629229463695913,0.08548083495560851,0.08950780710173224,0.08454581007721138,0.0776535003564305,0.09912241305220494,0.07992441650511115,0.09925448829853135,0.07909947858213366,0.09808163246615885,0.06132062543801939,0.05087344827733924,0.07504473367365765,0.09728242420942039,0.09618077035577859,0.060454749626828015,0.09873808944204977,0.04668306142645003,0.06214702729780325,0.001362684603095048,0.07293282020148144,0.07091957172628878,0.09752931728670212,0.09413900045897802,0.09729202351411732,0.06840485328324088,0.046133756070778964,0.08128906309665673,0.07811061710103279,0.06414777050894514,0.056656118490598845,0.08668948504743702,0.048302392186519064],\"y\":[0.030346353487313602,0.030389690455007883,0.0314148087947067,0.02770853651194927,0.027737547854277095,0.032117334118175904,0.030366744928058822,0.03019855762691744,0.02929103427670558,0.03339036938931508,0.028954629573887024,0.032490033378148785,0.030950666336674603,0.017481052270137933,0.031468549399437634,0.03159518235350442,0.031578460948455796,0.03371269038588782,0.031029004653319144,0.032913868989089184,0.03181138892790721,0.03260213780694075,0.03385395443001734,0.03246126061043761,0.03484153740158667,0.034398009351231947,0.033597387496459324,0.027189254331689564,0.029875895490938956,0.03555098361861841,0.035826071300364186,0.00028209999175022335,0.03296535985747857,0.03247833876257717,0.03242984234008161,0.03313863414916836,0.032822225120791367,0.030022434932674404,0.033387577843328964,0.02745918478830353,0.03440573069607937,0.035961679788269175,0.03414480921834395,0.035856994584132135,0.03506234378379228,0.03304016749275804,0.033895518810604146,0.03139235825434652,0.031220808611873777,0.031716697101651814,0.032765368553188824,0.03723260467739899,0.036285081059626946,0.03599671681192833,0.03641825586347181,0.03473236610278218,0.03615326635406573,0.03519784190306619,0.03339586663901773,0.03254735483180398,0.03174336283185744,0.034423553557770825,0.00028209999175022335,0.03333297770107616,0.03388487548411581,0.03756080865646696,0.0374125523693567,0.03803690437171121,0.03658566946935979,0.03614089726352558,0.03106920001694446,0.03753140266266993,0.03753881185381275,0.03660242431944814,0.03663645130290612,0.03371720435142145,0.03512077449793291,0.03260423927027261,0.03605902380617798,0.03426230052820772,0.03862051808596154,0.03837813519376806,0.03616368113944907,0.0385784018622185,0.036509703520869574,0.03463302987533814,0.03073841073630293,0.03764986276385203,0.03626224032713594,0.03745595065295735,0.03753958666390054,0.00028209999175022335,0.036394259047439426,0.03499734557867597,0.03867352958882535,0.03719721648082243,0.03731826522808278,0.035152999908582276,0.040251465450157724,0.038075866728204295],\"type\":\"scatter\",\"xaxis\":\"x4\",\"yaxis\":\"y4\"},{\"marker\":{\"color\":[0,1,2,3,4,5,6,7,8,9,10,11,12,13,14,15,16,17,18,19,20,21,22,23,24,25,26,27,28,29,30,31,32,33,34,35,36,37,38,39,40,41,42,43,44,45,46,47,48,49,50,51,52,53,54,55,56,57,58,59,60,61,62,63,64,65,66,67,68,69,70,71,72,73,74,75,76,77,78,79,80,81,82,83,84,85,86,87,88,89,90,91,92,93,94,95,96,97,98,99],\"colorbar\":{\"title\":{\"text\":\"Trial\"},\"x\":1.0,\"xpad\":40},\"colorscale\":[[0.0,\"rgb(247,251,255)\"],[0.125,\"rgb(222,235,247)\"],[0.25,\"rgb(198,219,239)\"],[0.375,\"rgb(158,202,225)\"],[0.5,\"rgb(107,174,214)\"],[0.625,\"rgb(66,146,198)\"],[0.75,\"rgb(33,113,181)\"],[0.875,\"rgb(8,81,156)\"],[1.0,\"rgb(8,48,107)\"]],\"line\":{\"color\":\"Grey\",\"width\":0.5},\"showscale\":false},\"mode\":\"markers\",\"name\":\"Feasible Trial\",\"showlegend\":false,\"x\":[80,210,359,457,421,71,46,171,256,65,6,130,144,307,126,5,233,111,70,185,274,189,115,107,32,25,33,24,86,44,41,0,44,45,86,32,149,367,91,475,57,57,63,62,81,95,147,66,163,421,216,17,9,11,17,7,13,14,18,2,23,58,0,50,73,20,19,18,36,34,320,26,27,31,37,107,47,125,29,77,24,23,49,22,22,99,74,23,50,28,39,0,40,61,26,52,40,69,10,13],\"y\":[0.030346353487313602,0.030389690455007883,0.0314148087947067,0.02770853651194927,0.027737547854277095,0.032117334118175904,0.030366744928058822,0.03019855762691744,0.02929103427670558,0.03339036938931508,0.028954629573887024,0.032490033378148785,0.030950666336674603,0.017481052270137933,0.031468549399437634,0.03159518235350442,0.031578460948455796,0.03371269038588782,0.031029004653319144,0.032913868989089184,0.03181138892790721,0.03260213780694075,0.03385395443001734,0.03246126061043761,0.03484153740158667,0.034398009351231947,0.033597387496459324,0.027189254331689564,0.029875895490938956,0.03555098361861841,0.035826071300364186,0.00028209999175022335,0.03296535985747857,0.03247833876257717,0.03242984234008161,0.03313863414916836,0.032822225120791367,0.030022434932674404,0.033387577843328964,0.02745918478830353,0.03440573069607937,0.035961679788269175,0.03414480921834395,0.035856994584132135,0.03506234378379228,0.03304016749275804,0.033895518810604146,0.03139235825434652,0.031220808611873777,0.031716697101651814,0.032765368553188824,0.03723260467739899,0.036285081059626946,0.03599671681192833,0.03641825586347181,0.03473236610278218,0.03615326635406573,0.03519784190306619,0.03339586663901773,0.03254735483180398,0.03174336283185744,0.034423553557770825,0.00028209999175022335,0.03333297770107616,0.03388487548411581,0.03756080865646696,0.0374125523693567,0.03803690437171121,0.03658566946935979,0.03614089726352558,0.03106920001694446,0.03753140266266993,0.03753881185381275,0.03660242431944814,0.03663645130290612,0.03371720435142145,0.03512077449793291,0.03260423927027261,0.03605902380617798,0.03426230052820772,0.03862051808596154,0.03837813519376806,0.03616368113944907,0.0385784018622185,0.036509703520869574,0.03463302987533814,0.03073841073630293,0.03764986276385203,0.03626224032713594,0.03745595065295735,0.03753958666390054,0.00028209999175022335,0.036394259047439426,0.03499734557867597,0.03867352958882535,0.03719721648082243,0.03731826522808278,0.035152999908582276,0.040251465450157724,0.038075866728204295],\"type\":\"scatter\",\"xaxis\":\"x5\",\"yaxis\":\"y5\"}],                        {\"template\":{\"data\":{\"histogram2dcontour\":[{\"type\":\"histogram2dcontour\",\"colorbar\":{\"outlinewidth\":0,\"ticks\":\"\"},\"colorscale\":[[0.0,\"#0d0887\"],[0.1111111111111111,\"#46039f\"],[0.2222222222222222,\"#7201a8\"],[0.3333333333333333,\"#9c179e\"],[0.4444444444444444,\"#bd3786\"],[0.5555555555555556,\"#d8576b\"],[0.6666666666666666,\"#ed7953\"],[0.7777777777777778,\"#fb9f3a\"],[0.8888888888888888,\"#fdca26\"],[1.0,\"#f0f921\"]]}],\"choropleth\":[{\"type\":\"choropleth\",\"colorbar\":{\"outlinewidth\":0,\"ticks\":\"\"}}],\"histogram2d\":[{\"type\":\"histogram2d\",\"colorbar\":{\"outlinewidth\":0,\"ticks\":\"\"},\"colorscale\":[[0.0,\"#0d0887\"],[0.1111111111111111,\"#46039f\"],[0.2222222222222222,\"#7201a8\"],[0.3333333333333333,\"#9c179e\"],[0.4444444444444444,\"#bd3786\"],[0.5555555555555556,\"#d8576b\"],[0.6666666666666666,\"#ed7953\"],[0.7777777777777778,\"#fb9f3a\"],[0.8888888888888888,\"#fdca26\"],[1.0,\"#f0f921\"]]}],\"heatmap\":[{\"type\":\"heatmap\",\"colorbar\":{\"outlinewidth\":0,\"ticks\":\"\"},\"colorscale\":[[0.0,\"#0d0887\"],[0.1111111111111111,\"#46039f\"],[0.2222222222222222,\"#7201a8\"],[0.3333333333333333,\"#9c179e\"],[0.4444444444444444,\"#bd3786\"],[0.5555555555555556,\"#d8576b\"],[0.6666666666666666,\"#ed7953\"],[0.7777777777777778,\"#fb9f3a\"],[0.8888888888888888,\"#fdca26\"],[1.0,\"#f0f921\"]]}],\"heatmapgl\":[{\"type\":\"heatmapgl\",\"colorbar\":{\"outlinewidth\":0,\"ticks\":\"\"},\"colorscale\":[[0.0,\"#0d0887\"],[0.1111111111111111,\"#46039f\"],[0.2222222222222222,\"#7201a8\"],[0.3333333333333333,\"#9c179e\"],[0.4444444444444444,\"#bd3786\"],[0.5555555555555556,\"#d8576b\"],[0.6666666666666666,\"#ed7953\"],[0.7777777777777778,\"#fb9f3a\"],[0.8888888888888888,\"#fdca26\"],[1.0,\"#f0f921\"]]}],\"contourcarpet\":[{\"type\":\"contourcarpet\",\"colorbar\":{\"outlinewidth\":0,\"ticks\":\"\"}}],\"contour\":[{\"type\":\"contour\",\"colorbar\":{\"outlinewidth\":0,\"ticks\":\"\"},\"colorscale\":[[0.0,\"#0d0887\"],[0.1111111111111111,\"#46039f\"],[0.2222222222222222,\"#7201a8\"],[0.3333333333333333,\"#9c179e\"],[0.4444444444444444,\"#bd3786\"],[0.5555555555555556,\"#d8576b\"],[0.6666666666666666,\"#ed7953\"],[0.7777777777777778,\"#fb9f3a\"],[0.8888888888888888,\"#fdca26\"],[1.0,\"#f0f921\"]]}],\"surface\":[{\"type\":\"surface\",\"colorbar\":{\"outlinewidth\":0,\"ticks\":\"\"},\"colorscale\":[[0.0,\"#0d0887\"],[0.1111111111111111,\"#46039f\"],[0.2222222222222222,\"#7201a8\"],[0.3333333333333333,\"#9c179e\"],[0.4444444444444444,\"#bd3786\"],[0.5555555555555556,\"#d8576b\"],[0.6666666666666666,\"#ed7953\"],[0.7777777777777778,\"#fb9f3a\"],[0.8888888888888888,\"#fdca26\"],[1.0,\"#f0f921\"]]}],\"mesh3d\":[{\"type\":\"mesh3d\",\"colorbar\":{\"outlinewidth\":0,\"ticks\":\"\"}}],\"scatter\":[{\"fillpattern\":{\"fillmode\":\"overlay\",\"size\":10,\"solidity\":0.2},\"type\":\"scatter\"}],\"parcoords\":[{\"type\":\"parcoords\",\"line\":{\"colorbar\":{\"outlinewidth\":0,\"ticks\":\"\"}}}],\"scatterpolargl\":[{\"type\":\"scatterpolargl\",\"marker\":{\"colorbar\":{\"outlinewidth\":0,\"ticks\":\"\"}}}],\"bar\":[{\"error_x\":{\"color\":\"#2a3f5f\"},\"error_y\":{\"color\":\"#2a3f5f\"},\"marker\":{\"line\":{\"color\":\"#E5ECF6\",\"width\":0.5},\"pattern\":{\"fillmode\":\"overlay\",\"size\":10,\"solidity\":0.2}},\"type\":\"bar\"}],\"scattergeo\":[{\"type\":\"scattergeo\",\"marker\":{\"colorbar\":{\"outlinewidth\":0,\"ticks\":\"\"}}}],\"scatterpolar\":[{\"type\":\"scatterpolar\",\"marker\":{\"colorbar\":{\"outlinewidth\":0,\"ticks\":\"\"}}}],\"histogram\":[{\"marker\":{\"pattern\":{\"fillmode\":\"overlay\",\"size\":10,\"solidity\":0.2}},\"type\":\"histogram\"}],\"scattergl\":[{\"type\":\"scattergl\",\"marker\":{\"colorbar\":{\"outlinewidth\":0,\"ticks\":\"\"}}}],\"scatter3d\":[{\"type\":\"scatter3d\",\"line\":{\"colorbar\":{\"outlinewidth\":0,\"ticks\":\"\"}},\"marker\":{\"colorbar\":{\"outlinewidth\":0,\"ticks\":\"\"}}}],\"scattermapbox\":[{\"type\":\"scattermapbox\",\"marker\":{\"colorbar\":{\"outlinewidth\":0,\"ticks\":\"\"}}}],\"scatterternary\":[{\"type\":\"scatterternary\",\"marker\":{\"colorbar\":{\"outlinewidth\":0,\"ticks\":\"\"}}}],\"scattercarpet\":[{\"type\":\"scattercarpet\",\"marker\":{\"colorbar\":{\"outlinewidth\":0,\"ticks\":\"\"}}}],\"carpet\":[{\"aaxis\":{\"endlinecolor\":\"#2a3f5f\",\"gridcolor\":\"white\",\"linecolor\":\"white\",\"minorgridcolor\":\"white\",\"startlinecolor\":\"#2a3f5f\"},\"baxis\":{\"endlinecolor\":\"#2a3f5f\",\"gridcolor\":\"white\",\"linecolor\":\"white\",\"minorgridcolor\":\"white\",\"startlinecolor\":\"#2a3f5f\"},\"type\":\"carpet\"}],\"table\":[{\"cells\":{\"fill\":{\"color\":\"#EBF0F8\"},\"line\":{\"color\":\"white\"}},\"header\":{\"fill\":{\"color\":\"#C8D4E3\"},\"line\":{\"color\":\"white\"}},\"type\":\"table\"}],\"barpolar\":[{\"marker\":{\"line\":{\"color\":\"#E5ECF6\",\"width\":0.5},\"pattern\":{\"fillmode\":\"overlay\",\"size\":10,\"solidity\":0.2}},\"type\":\"barpolar\"}],\"pie\":[{\"automargin\":true,\"type\":\"pie\"}]},\"layout\":{\"autotypenumbers\":\"strict\",\"colorway\":[\"#636efa\",\"#EF553B\",\"#00cc96\",\"#ab63fa\",\"#FFA15A\",\"#19d3f3\",\"#FF6692\",\"#B6E880\",\"#FF97FF\",\"#FECB52\"],\"font\":{\"color\":\"#2a3f5f\"},\"hovermode\":\"closest\",\"hoverlabel\":{\"align\":\"left\"},\"paper_bgcolor\":\"white\",\"plot_bgcolor\":\"#E5ECF6\",\"polar\":{\"bgcolor\":\"#E5ECF6\",\"angularaxis\":{\"gridcolor\":\"white\",\"linecolor\":\"white\",\"ticks\":\"\"},\"radialaxis\":{\"gridcolor\":\"white\",\"linecolor\":\"white\",\"ticks\":\"\"}},\"ternary\":{\"bgcolor\":\"#E5ECF6\",\"aaxis\":{\"gridcolor\":\"white\",\"linecolor\":\"white\",\"ticks\":\"\"},\"baxis\":{\"gridcolor\":\"white\",\"linecolor\":\"white\",\"ticks\":\"\"},\"caxis\":{\"gridcolor\":\"white\",\"linecolor\":\"white\",\"ticks\":\"\"}},\"coloraxis\":{\"colorbar\":{\"outlinewidth\":0,\"ticks\":\"\"}},\"colorscale\":{\"sequential\":[[0.0,\"#0d0887\"],[0.1111111111111111,\"#46039f\"],[0.2222222222222222,\"#7201a8\"],[0.3333333333333333,\"#9c179e\"],[0.4444444444444444,\"#bd3786\"],[0.5555555555555556,\"#d8576b\"],[0.6666666666666666,\"#ed7953\"],[0.7777777777777778,\"#fb9f3a\"],[0.8888888888888888,\"#fdca26\"],[1.0,\"#f0f921\"]],\"sequentialminus\":[[0.0,\"#0d0887\"],[0.1111111111111111,\"#46039f\"],[0.2222222222222222,\"#7201a8\"],[0.3333333333333333,\"#9c179e\"],[0.4444444444444444,\"#bd3786\"],[0.5555555555555556,\"#d8576b\"],[0.6666666666666666,\"#ed7953\"],[0.7777777777777778,\"#fb9f3a\"],[0.8888888888888888,\"#fdca26\"],[1.0,\"#f0f921\"]],\"diverging\":[[0,\"#8e0152\"],[0.1,\"#c51b7d\"],[0.2,\"#de77ae\"],[0.3,\"#f1b6da\"],[0.4,\"#fde0ef\"],[0.5,\"#f7f7f7\"],[0.6,\"#e6f5d0\"],[0.7,\"#b8e186\"],[0.8,\"#7fbc41\"],[0.9,\"#4d9221\"],[1,\"#276419\"]]},\"xaxis\":{\"gridcolor\":\"white\",\"linecolor\":\"white\",\"ticks\":\"\",\"title\":{\"standoff\":15},\"zerolinecolor\":\"white\",\"automargin\":true,\"zerolinewidth\":2},\"yaxis\":{\"gridcolor\":\"white\",\"linecolor\":\"white\",\"ticks\":\"\",\"title\":{\"standoff\":15},\"zerolinecolor\":\"white\",\"automargin\":true,\"zerolinewidth\":2},\"scene\":{\"xaxis\":{\"backgroundcolor\":\"#E5ECF6\",\"gridcolor\":\"white\",\"linecolor\":\"white\",\"showbackground\":true,\"ticks\":\"\",\"zerolinecolor\":\"white\",\"gridwidth\":2},\"yaxis\":{\"backgroundcolor\":\"#E5ECF6\",\"gridcolor\":\"white\",\"linecolor\":\"white\",\"showbackground\":true,\"ticks\":\"\",\"zerolinecolor\":\"white\",\"gridwidth\":2},\"zaxis\":{\"backgroundcolor\":\"#E5ECF6\",\"gridcolor\":\"white\",\"linecolor\":\"white\",\"showbackground\":true,\"ticks\":\"\",\"zerolinecolor\":\"white\",\"gridwidth\":2}},\"shapedefaults\":{\"line\":{\"color\":\"#2a3f5f\"}},\"annotationdefaults\":{\"arrowcolor\":\"#2a3f5f\",\"arrowhead\":0,\"arrowwidth\":1},\"geo\":{\"bgcolor\":\"white\",\"landcolor\":\"#E5ECF6\",\"subunitcolor\":\"white\",\"showland\":true,\"showlakes\":true,\"lakecolor\":\"white\"},\"title\":{\"x\":0.05},\"mapbox\":{\"style\":\"light\"}}},\"xaxis\":{\"anchor\":\"y\",\"domain\":[0.0,0.16799999999999998],\"title\":{\"text\":\"epochs\"}},\"yaxis\":{\"anchor\":\"x\",\"domain\":[0.0,1.0],\"title\":{\"text\":\"Objective Value\"}},\"xaxis2\":{\"anchor\":\"y2\",\"domain\":[0.208,0.376],\"title\":{\"text\":\"lambda_i\"},\"type\":\"log\"},\"yaxis2\":{\"anchor\":\"x2\",\"domain\":[0.0,1.0],\"matches\":\"y\",\"showticklabels\":false},\"xaxis3\":{\"anchor\":\"y3\",\"domain\":[0.416,0.584],\"title\":{\"text\":\"lambda_j\"},\"type\":\"log\"},\"yaxis3\":{\"anchor\":\"x3\",\"domain\":[0.0,1.0],\"matches\":\"y\",\"showticklabels\":false},\"xaxis4\":{\"anchor\":\"y4\",\"domain\":[0.624,0.792],\"title\":{\"text\":\"learning_rate\"},\"type\":\"log\"},\"yaxis4\":{\"anchor\":\"x4\",\"domain\":[0.0,1.0],\"matches\":\"y\",\"showticklabels\":false},\"xaxis5\":{\"anchor\":\"y5\",\"domain\":[0.832,1.0],\"title\":{\"text\":\"topK\"}},\"yaxis5\":{\"anchor\":\"x5\",\"domain\":[0.0,1.0],\"matches\":\"y\",\"showticklabels\":false},\"title\":{\"text\":\"Slice Plot\"},\"width\":1500},                        {\"responsive\": true}                    ).then(function(){\n",
       "                            \n",
       "var gd = document.getElementById('07f7b20c-e490-42e6-8961-07419c2e9d5a');\n",
       "var x = new MutationObserver(function (mutations, observer) {{\n",
       "        var display = window.getComputedStyle(gd).display;\n",
       "        if (!display || display === 'none') {{\n",
       "            console.log([gd, 'removed!']);\n",
       "            Plotly.purge(gd);\n",
       "            observer.disconnect();\n",
       "        }}\n",
       "}});\n",
       "\n",
       "// Listen for the removal of the full notebook cells\n",
       "var notebookContainer = gd.closest('#notebook-container');\n",
       "if (notebookContainer) {{\n",
       "    x.observe(notebookContainer, {childList: true});\n",
       "}}\n",
       "\n",
       "// Listen for the clearing of the current output cell\n",
       "var outputEl = gd.closest('.output');\n",
       "if (outputEl) {{\n",
       "    x.observe(outputEl, {childList: true});\n",
       "}}\n",
       "\n",
       "                        })                };                });            </script>        </div>"
      ]
     },
     "metadata": {},
     "output_type": "display_data"
    }
   ],
   "source": [
    "if not config['tune_parameters']:\n",
    "    optuna_study = optuna.load_study(study_name=f'hyperparameters_tuning_{config[\"model\"]}', storage=f'sqlite:///{config[\"database_path\"]}')\n",
    "    \n",
    "fig = optuna.visualization.plot_slice(optuna_study)\n",
    "fig.show()"
   ]
  },
  {
   "cell_type": "code",
   "execution_count": 15,
   "id": "36b23fc7",
   "metadata": {
    "execution": {
     "iopub.execute_input": "2024-12-16T06:58:38.098200Z",
     "iopub.status.busy": "2024-12-16T06:58:38.097795Z",
     "iopub.status.idle": "2024-12-16T06:58:39.480750Z",
     "shell.execute_reply": "2024-12-16T06:58:39.479590Z"
    },
    "papermill": {
     "duration": 1.541213,
     "end_time": "2024-12-16T06:58:39.482881",
     "exception": false,
     "start_time": "2024-12-16T06:58:37.941668",
     "status": "completed"
    },
    "tags": []
   },
   "outputs": [
    {
     "data": {
      "text/html": [
       "<div>                            <div id=\"29f9dfb0-7c1d-416d-b4c9-5d401139a32c\" class=\"plotly-graph-div\" style=\"height:525px; width:100%;\"></div>            <script type=\"text/javascript\">                require([\"plotly\"], function(Plotly) {                    window.PLOTLYENV=window.PLOTLYENV || {};                                    if (document.getElementById(\"29f9dfb0-7c1d-416d-b4c9-5d401139a32c\")) {                    Plotly.newPlot(                        \"29f9dfb0-7c1d-416d-b4c9-5d401139a32c\",                        [{\"cliponaxis\":false,\"hovertemplate\":[\"lambda_j (FloatDistribution): 0.0014448499736600341\\u003cextra\\u003e\\u003c\\u002fextra\\u003e\",\"lambda_i (FloatDistribution): 0.010027616182030762\\u003cextra\\u003e\\u003c\\u002fextra\\u003e\",\"epochs (IntDistribution): 0.19682436038604123\\u003cextra\\u003e\\u003c\\u002fextra\\u003e\",\"learning_rate (FloatDistribution): 0.2014293937879802\\u003cextra\\u003e\\u003c\\u002fextra\\u003e\",\"topK (IntDistribution): 0.5902737796702877\\u003cextra\\u003e\\u003c\\u002fextra\\u003e\"],\"name\":\"Objective Value\",\"orientation\":\"h\",\"text\":[\"\\u003c0.01\",\"0.01\",\"0.20\",\"0.20\",\"0.59\"],\"textposition\":\"outside\",\"x\":[0.0014448499736600341,0.010027616182030762,0.19682436038604123,0.2014293937879802,0.5902737796702877],\"y\":[\"lambda_j\",\"lambda_i\",\"epochs\",\"learning_rate\",\"topK\"],\"type\":\"bar\"}],                        {\"title\":{\"text\":\"Hyperparameter Importances\"},\"xaxis\":{\"title\":{\"text\":\"Hyperparameter Importance\"}},\"yaxis\":{\"title\":{\"text\":\"Hyperparameter\"}},\"template\":{\"data\":{\"histogram2dcontour\":[{\"type\":\"histogram2dcontour\",\"colorbar\":{\"outlinewidth\":0,\"ticks\":\"\"},\"colorscale\":[[0.0,\"#0d0887\"],[0.1111111111111111,\"#46039f\"],[0.2222222222222222,\"#7201a8\"],[0.3333333333333333,\"#9c179e\"],[0.4444444444444444,\"#bd3786\"],[0.5555555555555556,\"#d8576b\"],[0.6666666666666666,\"#ed7953\"],[0.7777777777777778,\"#fb9f3a\"],[0.8888888888888888,\"#fdca26\"],[1.0,\"#f0f921\"]]}],\"choropleth\":[{\"type\":\"choropleth\",\"colorbar\":{\"outlinewidth\":0,\"ticks\":\"\"}}],\"histogram2d\":[{\"type\":\"histogram2d\",\"colorbar\":{\"outlinewidth\":0,\"ticks\":\"\"},\"colorscale\":[[0.0,\"#0d0887\"],[0.1111111111111111,\"#46039f\"],[0.2222222222222222,\"#7201a8\"],[0.3333333333333333,\"#9c179e\"],[0.4444444444444444,\"#bd3786\"],[0.5555555555555556,\"#d8576b\"],[0.6666666666666666,\"#ed7953\"],[0.7777777777777778,\"#fb9f3a\"],[0.8888888888888888,\"#fdca26\"],[1.0,\"#f0f921\"]]}],\"heatmap\":[{\"type\":\"heatmap\",\"colorbar\":{\"outlinewidth\":0,\"ticks\":\"\"},\"colorscale\":[[0.0,\"#0d0887\"],[0.1111111111111111,\"#46039f\"],[0.2222222222222222,\"#7201a8\"],[0.3333333333333333,\"#9c179e\"],[0.4444444444444444,\"#bd3786\"],[0.5555555555555556,\"#d8576b\"],[0.6666666666666666,\"#ed7953\"],[0.7777777777777778,\"#fb9f3a\"],[0.8888888888888888,\"#fdca26\"],[1.0,\"#f0f921\"]]}],\"heatmapgl\":[{\"type\":\"heatmapgl\",\"colorbar\":{\"outlinewidth\":0,\"ticks\":\"\"},\"colorscale\":[[0.0,\"#0d0887\"],[0.1111111111111111,\"#46039f\"],[0.2222222222222222,\"#7201a8\"],[0.3333333333333333,\"#9c179e\"],[0.4444444444444444,\"#bd3786\"],[0.5555555555555556,\"#d8576b\"],[0.6666666666666666,\"#ed7953\"],[0.7777777777777778,\"#fb9f3a\"],[0.8888888888888888,\"#fdca26\"],[1.0,\"#f0f921\"]]}],\"contourcarpet\":[{\"type\":\"contourcarpet\",\"colorbar\":{\"outlinewidth\":0,\"ticks\":\"\"}}],\"contour\":[{\"type\":\"contour\",\"colorbar\":{\"outlinewidth\":0,\"ticks\":\"\"},\"colorscale\":[[0.0,\"#0d0887\"],[0.1111111111111111,\"#46039f\"],[0.2222222222222222,\"#7201a8\"],[0.3333333333333333,\"#9c179e\"],[0.4444444444444444,\"#bd3786\"],[0.5555555555555556,\"#d8576b\"],[0.6666666666666666,\"#ed7953\"],[0.7777777777777778,\"#fb9f3a\"],[0.8888888888888888,\"#fdca26\"],[1.0,\"#f0f921\"]]}],\"surface\":[{\"type\":\"surface\",\"colorbar\":{\"outlinewidth\":0,\"ticks\":\"\"},\"colorscale\":[[0.0,\"#0d0887\"],[0.1111111111111111,\"#46039f\"],[0.2222222222222222,\"#7201a8\"],[0.3333333333333333,\"#9c179e\"],[0.4444444444444444,\"#bd3786\"],[0.5555555555555556,\"#d8576b\"],[0.6666666666666666,\"#ed7953\"],[0.7777777777777778,\"#fb9f3a\"],[0.8888888888888888,\"#fdca26\"],[1.0,\"#f0f921\"]]}],\"mesh3d\":[{\"type\":\"mesh3d\",\"colorbar\":{\"outlinewidth\":0,\"ticks\":\"\"}}],\"scatter\":[{\"fillpattern\":{\"fillmode\":\"overlay\",\"size\":10,\"solidity\":0.2},\"type\":\"scatter\"}],\"parcoords\":[{\"type\":\"parcoords\",\"line\":{\"colorbar\":{\"outlinewidth\":0,\"ticks\":\"\"}}}],\"scatterpolargl\":[{\"type\":\"scatterpolargl\",\"marker\":{\"colorbar\":{\"outlinewidth\":0,\"ticks\":\"\"}}}],\"bar\":[{\"error_x\":{\"color\":\"#2a3f5f\"},\"error_y\":{\"color\":\"#2a3f5f\"},\"marker\":{\"line\":{\"color\":\"#E5ECF6\",\"width\":0.5},\"pattern\":{\"fillmode\":\"overlay\",\"size\":10,\"solidity\":0.2}},\"type\":\"bar\"}],\"scattergeo\":[{\"type\":\"scattergeo\",\"marker\":{\"colorbar\":{\"outlinewidth\":0,\"ticks\":\"\"}}}],\"scatterpolar\":[{\"type\":\"scatterpolar\",\"marker\":{\"colorbar\":{\"outlinewidth\":0,\"ticks\":\"\"}}}],\"histogram\":[{\"marker\":{\"pattern\":{\"fillmode\":\"overlay\",\"size\":10,\"solidity\":0.2}},\"type\":\"histogram\"}],\"scattergl\":[{\"type\":\"scattergl\",\"marker\":{\"colorbar\":{\"outlinewidth\":0,\"ticks\":\"\"}}}],\"scatter3d\":[{\"type\":\"scatter3d\",\"line\":{\"colorbar\":{\"outlinewidth\":0,\"ticks\":\"\"}},\"marker\":{\"colorbar\":{\"outlinewidth\":0,\"ticks\":\"\"}}}],\"scattermapbox\":[{\"type\":\"scattermapbox\",\"marker\":{\"colorbar\":{\"outlinewidth\":0,\"ticks\":\"\"}}}],\"scatterternary\":[{\"type\":\"scatterternary\",\"marker\":{\"colorbar\":{\"outlinewidth\":0,\"ticks\":\"\"}}}],\"scattercarpet\":[{\"type\":\"scattercarpet\",\"marker\":{\"colorbar\":{\"outlinewidth\":0,\"ticks\":\"\"}}}],\"carpet\":[{\"aaxis\":{\"endlinecolor\":\"#2a3f5f\",\"gridcolor\":\"white\",\"linecolor\":\"white\",\"minorgridcolor\":\"white\",\"startlinecolor\":\"#2a3f5f\"},\"baxis\":{\"endlinecolor\":\"#2a3f5f\",\"gridcolor\":\"white\",\"linecolor\":\"white\",\"minorgridcolor\":\"white\",\"startlinecolor\":\"#2a3f5f\"},\"type\":\"carpet\"}],\"table\":[{\"cells\":{\"fill\":{\"color\":\"#EBF0F8\"},\"line\":{\"color\":\"white\"}},\"header\":{\"fill\":{\"color\":\"#C8D4E3\"},\"line\":{\"color\":\"white\"}},\"type\":\"table\"}],\"barpolar\":[{\"marker\":{\"line\":{\"color\":\"#E5ECF6\",\"width\":0.5},\"pattern\":{\"fillmode\":\"overlay\",\"size\":10,\"solidity\":0.2}},\"type\":\"barpolar\"}],\"pie\":[{\"automargin\":true,\"type\":\"pie\"}]},\"layout\":{\"autotypenumbers\":\"strict\",\"colorway\":[\"#636efa\",\"#EF553B\",\"#00cc96\",\"#ab63fa\",\"#FFA15A\",\"#19d3f3\",\"#FF6692\",\"#B6E880\",\"#FF97FF\",\"#FECB52\"],\"font\":{\"color\":\"#2a3f5f\"},\"hovermode\":\"closest\",\"hoverlabel\":{\"align\":\"left\"},\"paper_bgcolor\":\"white\",\"plot_bgcolor\":\"#E5ECF6\",\"polar\":{\"bgcolor\":\"#E5ECF6\",\"angularaxis\":{\"gridcolor\":\"white\",\"linecolor\":\"white\",\"ticks\":\"\"},\"radialaxis\":{\"gridcolor\":\"white\",\"linecolor\":\"white\",\"ticks\":\"\"}},\"ternary\":{\"bgcolor\":\"#E5ECF6\",\"aaxis\":{\"gridcolor\":\"white\",\"linecolor\":\"white\",\"ticks\":\"\"},\"baxis\":{\"gridcolor\":\"white\",\"linecolor\":\"white\",\"ticks\":\"\"},\"caxis\":{\"gridcolor\":\"white\",\"linecolor\":\"white\",\"ticks\":\"\"}},\"coloraxis\":{\"colorbar\":{\"outlinewidth\":0,\"ticks\":\"\"}},\"colorscale\":{\"sequential\":[[0.0,\"#0d0887\"],[0.1111111111111111,\"#46039f\"],[0.2222222222222222,\"#7201a8\"],[0.3333333333333333,\"#9c179e\"],[0.4444444444444444,\"#bd3786\"],[0.5555555555555556,\"#d8576b\"],[0.6666666666666666,\"#ed7953\"],[0.7777777777777778,\"#fb9f3a\"],[0.8888888888888888,\"#fdca26\"],[1.0,\"#f0f921\"]],\"sequentialminus\":[[0.0,\"#0d0887\"],[0.1111111111111111,\"#46039f\"],[0.2222222222222222,\"#7201a8\"],[0.3333333333333333,\"#9c179e\"],[0.4444444444444444,\"#bd3786\"],[0.5555555555555556,\"#d8576b\"],[0.6666666666666666,\"#ed7953\"],[0.7777777777777778,\"#fb9f3a\"],[0.8888888888888888,\"#fdca26\"],[1.0,\"#f0f921\"]],\"diverging\":[[0,\"#8e0152\"],[0.1,\"#c51b7d\"],[0.2,\"#de77ae\"],[0.3,\"#f1b6da\"],[0.4,\"#fde0ef\"],[0.5,\"#f7f7f7\"],[0.6,\"#e6f5d0\"],[0.7,\"#b8e186\"],[0.8,\"#7fbc41\"],[0.9,\"#4d9221\"],[1,\"#276419\"]]},\"xaxis\":{\"gridcolor\":\"white\",\"linecolor\":\"white\",\"ticks\":\"\",\"title\":{\"standoff\":15},\"zerolinecolor\":\"white\",\"automargin\":true,\"zerolinewidth\":2},\"yaxis\":{\"gridcolor\":\"white\",\"linecolor\":\"white\",\"ticks\":\"\",\"title\":{\"standoff\":15},\"zerolinecolor\":\"white\",\"automargin\":true,\"zerolinewidth\":2},\"scene\":{\"xaxis\":{\"backgroundcolor\":\"#E5ECF6\",\"gridcolor\":\"white\",\"linecolor\":\"white\",\"showbackground\":true,\"ticks\":\"\",\"zerolinecolor\":\"white\",\"gridwidth\":2},\"yaxis\":{\"backgroundcolor\":\"#E5ECF6\",\"gridcolor\":\"white\",\"linecolor\":\"white\",\"showbackground\":true,\"ticks\":\"\",\"zerolinecolor\":\"white\",\"gridwidth\":2},\"zaxis\":{\"backgroundcolor\":\"#E5ECF6\",\"gridcolor\":\"white\",\"linecolor\":\"white\",\"showbackground\":true,\"ticks\":\"\",\"zerolinecolor\":\"white\",\"gridwidth\":2}},\"shapedefaults\":{\"line\":{\"color\":\"#2a3f5f\"}},\"annotationdefaults\":{\"arrowcolor\":\"#2a3f5f\",\"arrowhead\":0,\"arrowwidth\":1},\"geo\":{\"bgcolor\":\"white\",\"landcolor\":\"#E5ECF6\",\"subunitcolor\":\"white\",\"showland\":true,\"showlakes\":true,\"lakecolor\":\"white\"},\"title\":{\"x\":0.05},\"mapbox\":{\"style\":\"light\"}}}},                        {\"responsive\": true}                    ).then(function(){\n",
       "                            \n",
       "var gd = document.getElementById('29f9dfb0-7c1d-416d-b4c9-5d401139a32c');\n",
       "var x = new MutationObserver(function (mutations, observer) {{\n",
       "        var display = window.getComputedStyle(gd).display;\n",
       "        if (!display || display === 'none') {{\n",
       "            console.log([gd, 'removed!']);\n",
       "            Plotly.purge(gd);\n",
       "            observer.disconnect();\n",
       "        }}\n",
       "}});\n",
       "\n",
       "// Listen for the removal of the full notebook cells\n",
       "var notebookContainer = gd.closest('#notebook-container');\n",
       "if (notebookContainer) {{\n",
       "    x.observe(notebookContainer, {childList: true});\n",
       "}}\n",
       "\n",
       "// Listen for the clearing of the current output cell\n",
       "var outputEl = gd.closest('.output');\n",
       "if (outputEl) {{\n",
       "    x.observe(outputEl, {childList: true});\n",
       "}}\n",
       "\n",
       "                        })                };                });            </script>        </div>"
      ]
     },
     "metadata": {},
     "output_type": "display_data"
    }
   ],
   "source": [
    "if not config['tune_parameters']:\n",
    "    optuna_study = optuna.load_study(study_name=f'hyperparameters_tuning_{config[\"model\"]}', storage=f'sqlite:///{config[\"database_path\"]}')\n",
    "    \n",
    "fig = optuna.visualization.plot_param_importances(optuna_study)\n",
    "fig.show()"
   ]
  },
  {
   "cell_type": "markdown",
   "id": "b5da94e9",
   "metadata": {
    "papermill": {
     "duration": 0.158041,
     "end_time": "2024-12-16T06:58:39.852608",
     "exception": false,
     "start_time": "2024-12-16T06:58:39.694567",
     "status": "completed"
    },
    "tags": []
   },
   "source": [
    "## Let's train the recommender with best parameter values"
   ]
  },
  {
   "cell_type": "code",
   "execution_count": 16,
   "id": "35dbbaa0",
   "metadata": {
    "execution": {
     "iopub.execute_input": "2024-12-16T06:58:40.168946Z",
     "iopub.status.busy": "2024-12-16T06:58:40.167843Z",
     "iopub.status.idle": "2024-12-16T06:58:40.174628Z",
     "shell.execute_reply": "2024-12-16T06:58:40.173576Z"
    },
    "papermill": {
     "duration": 0.166268,
     "end_time": "2024-12-16T06:58:40.176595",
     "exception": false,
     "start_time": "2024-12-16T06:58:40.010327",
     "status": "completed"
    },
    "tags": []
   },
   "outputs": [],
   "source": [
    "if config['tune_best_params']:\n",
    "\n",
    "    if config['tune_parameters']:\n",
    "        best_params = optuna_study.best_trial.params\n",
    "    else: \n",
    "        with open(f'{K_PATH}/{GH_PATH}/{config[\"model\"]}_Recommender/best_params_{config[\"model\"]}.json', 'r') as best_params_json:\n",
    "            best_params = json.load(best_params_json)\n",
    "\n",
    "    best_params = study.best_trial.params\n",
    "    \n",
    "    recommender_instance = SLIM_BPR_Python(URM_train + URM_validation)\n",
    "    recommender_instance.fit(**best_params)"
   ]
  },
  {
   "cell_type": "markdown",
   "id": "1e0ec0eb",
   "metadata": {
    "papermill": {
     "duration": 0.153227,
     "end_time": "2024-12-16T06:58:40.486277",
     "exception": false,
     "start_time": "2024-12-16T06:58:40.333050",
     "status": "completed"
    },
    "tags": []
   },
   "source": [
    "# Testing"
   ]
  },
  {
   "cell_type": "markdown",
   "id": "f5356aea",
   "metadata": {
    "papermill": {
     "duration": 0.154743,
     "end_time": "2024-12-16T06:58:40.793949",
     "exception": false,
     "start_time": "2024-12-16T06:58:40.639206",
     "status": "completed"
    },
    "tags": []
   },
   "source": [
    "Create the recommendations for the submission. "
   ]
  },
  {
   "cell_type": "code",
   "execution_count": 17,
   "id": "390fc5d7",
   "metadata": {
    "execution": {
     "iopub.execute_input": "2024-12-16T06:58:41.105825Z",
     "iopub.status.busy": "2024-12-16T06:58:41.105415Z",
     "iopub.status.idle": "2024-12-16T06:58:41.110570Z",
     "shell.execute_reply": "2024-12-16T06:58:41.109528Z"
    },
    "papermill": {
     "duration": 0.163198,
     "end_time": "2024-12-16T06:58:41.112727",
     "exception": false,
     "start_time": "2024-12-16T06:58:40.949529",
     "status": "completed"
    },
    "tags": []
   },
   "outputs": [],
   "source": [
    "if config['tune_best_params']:\n",
    "\n",
    "    data_target_users_test = pd.read_csv('/kaggle/input/recommender-system-2024-challenge-polimi/data_target_users_test.csv')\n",
    "    create_submission(data_target_users_test, recommender_instance, f'/kaggle/working/submission_{config[\"model\"]}.csv')"
   ]
  },
  {
   "cell_type": "markdown",
   "id": "b208ed45",
   "metadata": {
    "execution": {
     "iopub.execute_input": "2024-11-14T00:04:16.877791Z",
     "iopub.status.busy": "2024-11-14T00:04:16.877275Z",
     "iopub.status.idle": "2024-11-14T00:04:16.883170Z",
     "shell.execute_reply": "2024-11-14T00:04:16.881889Z",
     "shell.execute_reply.started": "2024-11-14T00:04:16.877743Z"
    },
    "papermill": {
     "duration": 0.153465,
     "end_time": "2024-12-16T06:58:41.470840",
     "exception": false,
     "start_time": "2024-12-16T06:58:41.317375",
     "status": "completed"
    },
    "tags": []
   },
   "source": [
    "# Save Version on GitHub "
   ]
  },
  {
   "cell_type": "markdown",
   "id": "e9f96f38",
   "metadata": {
    "papermill": {
     "duration": 0.155909,
     "end_time": "2024-12-16T06:58:41.783137",
     "exception": false,
     "start_time": "2024-12-16T06:58:41.627228",
     "status": "completed"
    },
    "tags": []
   },
   "source": [
    "Write or import a json file where best hyperparameters are saved. "
   ]
  },
  {
   "cell_type": "code",
   "execution_count": 18,
   "id": "9049dfb1",
   "metadata": {
    "execution": {
     "iopub.execute_input": "2024-12-16T06:58:42.097891Z",
     "iopub.status.busy": "2024-12-16T06:58:42.097469Z",
     "iopub.status.idle": "2024-12-16T06:58:43.142525Z",
     "shell.execute_reply": "2024-12-16T06:58:43.141276Z"
    },
    "papermill": {
     "duration": 1.204497,
     "end_time": "2024-12-16T06:58:43.144883",
     "exception": false,
     "start_time": "2024-12-16T06:58:41.940386",
     "status": "completed"
    },
    "tags": []
   },
   "outputs": [
    {
     "name": "stdout",
     "output_type": "stream",
     "text": [
      "File 'TrainedModels/WithoutKFCV/SLIM/OptimizingMAP/SLIM_BPR_Recommender/best_params_SLIM_BPR.json' created successfully.\n"
     ]
    }
   ],
   "source": [
    "if config['tune_parameters']:\n",
    "    with open(f'/kaggle/working/best_params_{config[\"model\"]}.json', 'w') as params_file:\n",
    "        json.dump(optuna_study.best_params, params_file)\n",
    "        \n",
    "    if config['save_github']:\n",
    "        upload_file(\n",
    "            f'/kaggle/working/best_params_{config[\"model\"]}.json', \n",
    "            f'{GH_PATH}/{config[\"model\"]}_Recommender/best_params_{config[\"model\"]}.json', \n",
    "            f'{config[\"model\"]} tuning results (from kaggle notebook)',\n",
    "            repo\n",
    "        )\n",
    "elif config['copy_prev_best_params']:\n",
    "    shutil.copyfile(\n",
    "        f'{K_PATH}/{GH_PATH}/{config[\"model\"]}_Recommender/'\\\n",
    "        f'best_params_{config[\"model\"]}.json', \n",
    "        f'/kaggle/working/best_params_{config[\"model\"]}.json'\n",
    "    )"
   ]
  },
  {
   "cell_type": "markdown",
   "id": "c21d8869",
   "metadata": {
    "execution": {
     "iopub.execute_input": "2024-11-14T00:41:34.294243Z",
     "iopub.status.busy": "2024-11-14T00:41:34.293739Z",
     "iopub.status.idle": "2024-11-14T00:41:34.301478Z",
     "shell.execute_reply": "2024-11-14T00:41:34.299869Z",
     "shell.execute_reply.started": "2024-11-14T00:41:34.294186Z"
    },
    "papermill": {
     "duration": 0.155655,
     "end_time": "2024-12-16T06:58:43.455473",
     "exception": false,
     "start_time": "2024-12-16T06:58:43.299818",
     "status": "completed"
    },
    "tags": []
   },
   "source": [
    "Save the history of the tuned model."
   ]
  },
  {
   "cell_type": "code",
   "execution_count": 19,
   "id": "cd032a43",
   "metadata": {
    "execution": {
     "iopub.execute_input": "2024-12-16T06:58:43.767177Z",
     "iopub.status.busy": "2024-12-16T06:58:43.766143Z",
     "iopub.status.idle": "2024-12-16T06:58:44.789758Z",
     "shell.execute_reply": "2024-12-16T06:58:44.788265Z"
    },
    "papermill": {
     "duration": 1.183799,
     "end_time": "2024-12-16T06:58:44.792847",
     "exception": false,
     "start_time": "2024-12-16T06:58:43.609048",
     "status": "completed"
    },
    "tags": []
   },
   "outputs": [
    {
     "name": "stdout",
     "output_type": "stream",
     "text": [
      "File 'TrainedModels/WithoutKFCV/SLIM/OptimizingMAP/SLIM_BPR_Recommender/history_SLIM_BPR.db' created successfully.\n"
     ]
    }
   ],
   "source": [
    "if config['save_github'] and config['tune_parameters']:\n",
    "    upload_file(\n",
    "        config['database_path'], \n",
    "        f'{GH_PATH}/{config[\"model\"]}_Recommender/history_{config[\"model\"]}.db',\n",
    "        f'Tuning {config[\"model\"]} db updated results (from kaggle notebook)',\n",
    "        repo\n",
    "    )"
   ]
  },
  {
   "cell_type": "markdown",
   "id": "9d18c03a",
   "metadata": {
    "papermill": {
     "duration": 0.236856,
     "end_time": "2024-12-16T06:58:45.195081",
     "exception": false,
     "start_time": "2024-12-16T06:58:44.958225",
     "status": "completed"
    },
    "tags": []
   },
   "source": [
    "Save the best trained model and its submission."
   ]
  },
  {
   "cell_type": "code",
   "execution_count": 20,
   "id": "577f66bd",
   "metadata": {
    "execution": {
     "iopub.execute_input": "2024-12-16T06:58:45.506729Z",
     "iopub.status.busy": "2024-12-16T06:58:45.506325Z",
     "iopub.status.idle": "2024-12-16T06:58:45.511460Z",
     "shell.execute_reply": "2024-12-16T06:58:45.510466Z"
    },
    "papermill": {
     "duration": 0.164674,
     "end_time": "2024-12-16T06:58:45.513583",
     "exception": false,
     "start_time": "2024-12-16T06:58:45.348909",
     "status": "completed"
    },
    "tags": []
   },
   "outputs": [],
   "source": [
    "if config['save_github'] and config['tune_best_params']: \n",
    "    upload_file(\n",
    "                f'/kaggle/working/submission_{config[\"model\"]}.csv', \n",
    "                f'{GH_PATH}/{config[\"model\"]}_Recommender/Submission/submission_{config[\"model\"]}.csv', \n",
    "                f'New {config[\"model\"]} submission (from kaggle notebook)',\n",
    "                repo\n",
    "            )"
   ]
  }
 ],
 "metadata": {
  "kaggle": {
   "accelerator": "none",
   "dataSources": [
    {
     "databundleVersionId": 9982103,
     "sourceId": 87439,
     "sourceType": "competition"
    }
   ],
   "dockerImageVersionId": 30804,
   "isGpuEnabled": false,
   "isInternetEnabled": true,
   "language": "python",
   "sourceType": "notebook"
  },
  "kernelspec": {
   "display_name": "Python 3",
   "language": "python",
   "name": "python3"
  },
  "language_info": {
   "codemirror_mode": {
    "name": "ipython",
    "version": 3
   },
   "file_extension": ".py",
   "mimetype": "text/x-python",
   "name": "python",
   "nbconvert_exporter": "python",
   "pygments_lexer": "ipython3",
   "version": "3.10.14"
  },
  "papermill": {
   "default_parameters": {},
   "duration": 26586.116705,
   "end_time": "2024-12-16T06:58:46.693119",
   "environment_variables": {},
   "exception": null,
   "input_path": "__notebook__.ipynb",
   "output_path": "__notebook__.ipynb",
   "parameters": {},
   "start_time": "2024-12-15T23:35:40.576414",
   "version": "2.6.0"
  }
 },
 "nbformat": 4,
 "nbformat_minor": 5
}
