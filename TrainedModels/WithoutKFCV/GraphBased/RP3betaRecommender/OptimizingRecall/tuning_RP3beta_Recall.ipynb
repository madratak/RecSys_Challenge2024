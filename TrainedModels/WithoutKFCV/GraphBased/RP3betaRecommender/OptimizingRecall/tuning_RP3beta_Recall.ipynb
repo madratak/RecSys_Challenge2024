{
 "cells": [
  {
   "cell_type": "markdown",
   "id": "6563f726",
   "metadata": {
    "papermill": {
     "duration": 0.006545,
     "end_time": "2024-12-16T11:36:25.456851",
     "exception": false,
     "start_time": "2024-12-16T11:36:25.450306",
     "status": "completed"
    },
    "tags": []
   },
   "source": [
    "# Set connection with GitHub"
   ]
  },
  {
   "cell_type": "code",
   "execution_count": 1,
   "id": "9a222f31",
   "metadata": {
    "execution": {
     "iopub.execute_input": "2024-12-16T11:36:25.470192Z",
     "iopub.status.busy": "2024-12-16T11:36:25.469784Z",
     "iopub.status.idle": "2024-12-16T11:36:25.475203Z",
     "shell.execute_reply": "2024-12-16T11:36:25.474212Z"
    },
    "papermill": {
     "duration": 0.014646,
     "end_time": "2024-12-16T11:36:25.477469",
     "exception": false,
     "start_time": "2024-12-16T11:36:25.462823",
     "status": "completed"
    },
    "tags": []
   },
   "outputs": [],
   "source": [
    "# ! cd /kaggle/working && rm -rf RECsys_Challenge2024"
   ]
  },
  {
   "cell_type": "code",
   "execution_count": 2,
   "id": "95e866f4",
   "metadata": {
    "_cell_guid": "b1076dfc-b9ad-4769-8c92-a6c4dae69d19",
    "_uuid": "8f2839f25d086af736a60e9eeb907d3b93b6e0e5",
    "execution": {
     "iopub.execute_input": "2024-12-16T11:36:25.491986Z",
     "iopub.status.busy": "2024-12-16T11:36:25.491564Z",
     "iopub.status.idle": "2024-12-16T11:36:39.765643Z",
     "shell.execute_reply": "2024-12-16T11:36:39.764471Z"
    },
    "papermill": {
     "duration": 14.284781,
     "end_time": "2024-12-16T11:36:39.768180",
     "exception": false,
     "start_time": "2024-12-16T11:36:25.483399",
     "status": "completed"
    },
    "tags": []
   },
   "outputs": [
    {
     "name": "stdout",
     "output_type": "stream",
     "text": [
      "Cloning into 'RECsys_Challenge2024'...\r\n",
      "remote: Enumerating objects: 4218, done.\u001b[K\r\n",
      "remote: Counting objects: 100% (1691/1691), done.\u001b[K\r\n",
      "remote: Compressing objects: 100% (607/607), done.\u001b[K\r\n",
      "remote: Total 4218 (delta 906), reused 1561 (delta 842), pack-reused 2527 (from 1)\u001b[K\r\n",
      "Receiving objects: 100% (4218/4218), 171.07 MiB | 19.13 MiB/s, done.\r\n",
      "Resolving deltas: 100% (2425/2425), done.\r\n",
      "Updating files: 100% (392/392), done.\r\n"
     ]
    }
   ],
   "source": [
    "from kaggle_secrets import UserSecretsClient\n",
    "\n",
    "token = UserSecretsClient().get_secret(\"Token\")\n",
    "\n",
    "! git clone https://{token}@github.com/madratak/RECsys_Challenge2024.git"
   ]
  },
  {
   "cell_type": "code",
   "execution_count": 3,
   "id": "464b2d04",
   "metadata": {
    "execution": {
     "iopub.execute_input": "2024-12-16T11:36:39.789371Z",
     "iopub.status.busy": "2024-12-16T11:36:39.788886Z",
     "iopub.status.idle": "2024-12-16T11:36:52.238055Z",
     "shell.execute_reply": "2024-12-16T11:36:52.236689Z"
    },
    "papermill": {
     "duration": 12.462525,
     "end_time": "2024-12-16T11:36:52.240533",
     "exception": false,
     "start_time": "2024-12-16T11:36:39.778008",
     "status": "completed"
    },
    "tags": []
   },
   "outputs": [
    {
     "name": "stdout",
     "output_type": "stream",
     "text": [
      "Collecting PyGithub\r\n",
      "  Downloading PyGithub-2.5.0-py3-none-any.whl.metadata (3.9 kB)\r\n",
      "Requirement already satisfied: requests in /opt/conda/lib/python3.10/site-packages (2.32.3)\r\n",
      "Collecting pynacl>=1.4.0 (from PyGithub)\r\n",
      "  Downloading PyNaCl-1.5.0-cp36-abi3-manylinux_2_17_x86_64.manylinux2014_x86_64.manylinux_2_24_x86_64.whl.metadata (8.6 kB)\r\n",
      "Requirement already satisfied: pyjwt>=2.4.0 in /opt/conda/lib/python3.10/site-packages (from pyjwt[crypto]>=2.4.0->PyGithub) (2.8.0)\r\n",
      "Requirement already satisfied: typing-extensions>=4.0.0 in /opt/conda/lib/python3.10/site-packages (from PyGithub) (4.12.2)\r\n",
      "Requirement already satisfied: urllib3>=1.26.0 in /opt/conda/lib/python3.10/site-packages (from PyGithub) (1.26.18)\r\n",
      "Requirement already satisfied: Deprecated in /opt/conda/lib/python3.10/site-packages (from PyGithub) (1.2.14)\r\n",
      "Requirement already satisfied: charset-normalizer<4,>=2 in /opt/conda/lib/python3.10/site-packages (from requests) (3.3.2)\r\n",
      "Requirement already satisfied: idna<4,>=2.5 in /opt/conda/lib/python3.10/site-packages (from requests) (3.7)\r\n",
      "Requirement already satisfied: certifi>=2017.4.17 in /opt/conda/lib/python3.10/site-packages (from requests) (2024.6.2)\r\n",
      "Requirement already satisfied: cryptography>=3.4.0 in /opt/conda/lib/python3.10/site-packages (from pyjwt[crypto]>=2.4.0->PyGithub) (42.0.8)\r\n",
      "Requirement already satisfied: cffi>=1.4.1 in /opt/conda/lib/python3.10/site-packages (from pynacl>=1.4.0->PyGithub) (1.16.0)\r\n",
      "Requirement already satisfied: wrapt<2,>=1.10 in /opt/conda/lib/python3.10/site-packages (from Deprecated->PyGithub) (1.16.0)\r\n",
      "Requirement already satisfied: pycparser in /opt/conda/lib/python3.10/site-packages (from cffi>=1.4.1->pynacl>=1.4.0->PyGithub) (2.22)\r\n",
      "Downloading PyGithub-2.5.0-py3-none-any.whl (375 kB)\r\n",
      "\u001b[2K   \u001b[90m━━━━━━━━━━━━━━━━━━━━━━━━━━━━━━━━━━━━━━━━\u001b[0m \u001b[32m375.9/375.9 kB\u001b[0m \u001b[31m14.6 MB/s\u001b[0m eta \u001b[36m0:00:00\u001b[0m\r\n",
      "\u001b[?25hDownloading PyNaCl-1.5.0-cp36-abi3-manylinux_2_17_x86_64.manylinux2014_x86_64.manylinux_2_24_x86_64.whl (856 kB)\r\n",
      "\u001b[2K   \u001b[90m━━━━━━━━━━━━━━━━━━━━━━━━━━━━━━━━━━━━━━━━\u001b[0m \u001b[32m856.7/856.7 kB\u001b[0m \u001b[31m40.2 MB/s\u001b[0m eta \u001b[36m0:00:00\u001b[0m\r\n",
      "\u001b[?25hInstalling collected packages: pynacl, PyGithub\r\n",
      "Successfully installed PyGithub-2.5.0 pynacl-1.5.0\r\n"
     ]
    }
   ],
   "source": [
    "! pip install PyGithub requests"
   ]
  },
  {
   "cell_type": "code",
   "execution_count": 4,
   "id": "4c3a5bda",
   "metadata": {
    "_kg_hide-input": false,
    "execution": {
     "iopub.execute_input": "2024-12-16T11:36:52.262482Z",
     "iopub.status.busy": "2024-12-16T11:36:52.262049Z",
     "iopub.status.idle": "2024-12-16T11:39:23.780263Z",
     "shell.execute_reply": "2024-12-16T11:39:23.778737Z"
    },
    "papermill": {
     "duration": 151.532286,
     "end_time": "2024-12-16T11:39:23.782981",
     "exception": false,
     "start_time": "2024-12-16T11:36:52.250695",
     "status": "completed"
    },
    "tags": []
   },
   "outputs": [
    {
     "name": "stdout",
     "output_type": "stream",
     "text": [
      "/kaggle/working/RECsys_Challenge2024\n",
      "run_compile_all_cython: Found 11 Cython files in 5 folders...\r\n",
      "run_compile_all_cython: All files will be compiled using your current python environment: '/opt/conda/bin/python'\r\n",
      "Compiling [1/11]: MatrixFactorization_Cython_Epoch.pyx... \r\n",
      "In file included from \u001b[01m\u001b[K/opt/conda/lib/python3.10/site-packages/numpy/core/include/numpy/ndarraytypes.h:1929\u001b[m\u001b[K,\r\n",
      "                 from \u001b[01m\u001b[K/opt/conda/lib/python3.10/site-packages/numpy/core/include/numpy/ndarrayobject.h:12\u001b[m\u001b[K,\r\n",
      "                 from \u001b[01m\u001b[K/opt/conda/lib/python3.10/site-packages/numpy/core/include/numpy/arrayobject.h:5\u001b[m\u001b[K,\r\n",
      "                 from \u001b[01m\u001b[KMatrixFactorization_Cython_Epoch.c:1252\u001b[m\u001b[K:\r\n",
      "\u001b[01m\u001b[K/opt/conda/lib/python3.10/site-packages/numpy/core/include/numpy/npy_1_7_deprecated_api.h:17:2:\u001b[m\u001b[K \u001b[01;35m\u001b[Kwarning: \u001b[m\u001b[K#warning \"Using deprecated NumPy API, disable it with \" \"#define NPY_NO_DEPRECATED_API NPY_1_7_API_VERSION\" [\u001b[01;35m\u001b[K-Wcpp\u001b[m\u001b[K]\r\n",
      "   17 | #\u001b[01;35m\u001b[Kwarning\u001b[m\u001b[K \"Using deprecated NumPy API, disable it with \" \\\r\n",
      "      |  \u001b[01;35m\u001b[K^~~~~~~\u001b[m\u001b[K\r\n",
      "\u001b[01m\u001b[KMatrixFactorization_Cython_Epoch.c:\u001b[m\u001b[K In function '\u001b[01m\u001b[K__pyx_pf_32MatrixFactorization_Cython_Epoch_32MatrixFactorization_Cython_Epoch_10epochIteration_Cython_ASY_SVD_SGD\u001b[m\u001b[K':\r\n",
      "\u001b[01m\u001b[KMatrixFactorization_Cython_Epoch.c:26255:9:\u001b[m\u001b[K \u001b[01;35m\u001b[Kwarning: \u001b[m\u001b[K'\u001b[01m\u001b[K__pyx_v_end_pos_seen_items\u001b[m\u001b[K' may be used uninitialized in this function [\u001b[01;35m\u001b[K-Wmaybe-uninitialized\u001b[m\u001b[K]\r\n",
      "26255 |         \u001b[01;35m\u001b[Kfor\u001b[m\u001b[K (__pyx_t_21 = __pyx_v_start_pos_seen_items; __pyx_t_21 < __pyx_t_20; __pyx_t_21+=1) {\r\n",
      "      |         \u001b[01;35m\u001b[K^~~\u001b[m\u001b[K\r\n",
      "\u001b[01m\u001b[KMatrixFactorization_Cython_Epoch.c:26255:9:\u001b[m\u001b[K \u001b[01;35m\u001b[Kwarning: \u001b[m\u001b[K'\u001b[01m\u001b[K__pyx_v_start_pos_seen_items\u001b[m\u001b[K' may be used uninitialized in this function [\u001b[01;35m\u001b[K-Wmaybe-uninitialized\u001b[m\u001b[K]\r\n",
      "/opt/conda/lib/python3.10/site-packages/Cython/Compiler/Main.py:381: FutureWarning: Cython directive 'language_level' not set, using '3str' for now (Py3). This has changed from earlier releases! File: /kaggle/working/RECsys_Challenge2024/Recommenders/MatrixFactorization/Cython/MatrixFactorization_Cython_Epoch.pyx\r\n",
      "  tree = Parsing.p_module(s, pxd, full_module_name)\r\n",
      "Compiling [1/11]: MatrixFactorization_Cython_Epoch.pyx... PASS\r\n",
      "\r\n",
      "Compiling [2/11]: MatrixFactorizationImpressions_Cython_Epoch.pyx... \r\n",
      "In file included from \u001b[01m\u001b[K/opt/conda/lib/python3.10/site-packages/numpy/core/include/numpy/ndarraytypes.h:1929\u001b[m\u001b[K,\r\n",
      "                 from \u001b[01m\u001b[K/opt/conda/lib/python3.10/site-packages/numpy/core/include/numpy/ndarrayobject.h:12\u001b[m\u001b[K,\r\n",
      "                 from \u001b[01m\u001b[K/opt/conda/lib/python3.10/site-packages/numpy/core/include/numpy/arrayobject.h:5\u001b[m\u001b[K,\r\n",
      "                 from \u001b[01m\u001b[KMatrixFactorizationImpressions_Cython_Epoch.c:1252\u001b[m\u001b[K:\r\n",
      "\u001b[01m\u001b[K/opt/conda/lib/python3.10/site-packages/numpy/core/include/numpy/npy_1_7_deprecated_api.h:17:2:\u001b[m\u001b[K \u001b[01;35m\u001b[Kwarning: \u001b[m\u001b[K#warning \"Using deprecated NumPy API, disable it with \" \"#define NPY_NO_DEPRECATED_API NPY_1_7_API_VERSION\" [\u001b[01;35m\u001b[K-Wcpp\u001b[m\u001b[K]\r\n",
      "   17 | #\u001b[01;35m\u001b[Kwarning\u001b[m\u001b[K \"Using deprecated NumPy API, disable it with \" \\\r\n",
      "      |  \u001b[01;35m\u001b[K^~~~~~~\u001b[m\u001b[K\r\n",
      "\u001b[01m\u001b[KMatrixFactorizationImpressions_Cython_Epoch.c:\u001b[m\u001b[K In function '\u001b[01m\u001b[K__pyx_f_43MatrixFactorizationImpressions_Cython_Epoch_32MatrixFactorization_Cython_Epoch_sampleBPR_Cython\u001b[m\u001b[K':\r\n",
      "\u001b[01m\u001b[KMatrixFactorizationImpressions_Cython_Epoch.c:30351:17:\u001b[m\u001b[K \u001b[01;35m\u001b[Kwarning: \u001b[m\u001b[K'\u001b[01m\u001b[K__pyx_v_start_pos_impression_items\u001b[m\u001b[K' may be used uninitialized in this function [\u001b[01;35m\u001b[K-Wmaybe-uninitialized\u001b[m\u001b[K]\r\n",
      "30351 |       \u001b[01;35m\u001b[K__pyx_t_4 = (__pyx_v_start_pos_impression_items + __pyx_v_index)\u001b[m\u001b[K;\r\n",
      "      |       \u001b[01;35m\u001b[K~~~~~~~~~~^~~~~~~~~~~~~~~~~~~~~~~~~~~~~~~~~~~~~~~~~~~~~~~~~~~~~~\u001b[m\u001b[K\r\n",
      "\u001b[01m\u001b[KMatrixFactorizationImpressions_Cython_Epoch.c:\u001b[m\u001b[K In function '\u001b[01m\u001b[K__pyx_pf_43MatrixFactorizationImpressions_Cython_Epoch_32MatrixFactorization_Cython_Epoch_10epochIteration_Cython_ASY_SVD_SGD\u001b[m\u001b[K':\r\n",
      "\u001b[01m\u001b[KMatrixFactorizationImpressions_Cython_Epoch.c:26111:7:\u001b[m\u001b[K \u001b[01;35m\u001b[Kwarning: \u001b[m\u001b[K'\u001b[01m\u001b[K__pyx_v_end_pos_seen_items\u001b[m\u001b[K' may be used uninitialized in this function [\u001b[01;35m\u001b[K-Wmaybe-uninitialized\u001b[m\u001b[K]\r\n",
      "26111 |       \u001b[01;35m\u001b[Kfor\u001b[m\u001b[K (__pyx_t_21 = __pyx_v_start_pos_seen_items; __pyx_t_21 < __pyx_t_20; __pyx_t_21+=1) {\r\n",
      "      |       \u001b[01;35m\u001b[K^~~\u001b[m\u001b[K\r\n",
      "\u001b[01m\u001b[KMatrixFactorizationImpressions_Cython_Epoch.c:26111:7:\u001b[m\u001b[K \u001b[01;35m\u001b[Kwarning: \u001b[m\u001b[K'\u001b[01m\u001b[K__pyx_v_start_pos_seen_items\u001b[m\u001b[K' may be used uninitialized in this function [\u001b[01;35m\u001b[K-Wmaybe-uninitialized\u001b[m\u001b[K]\r\n",
      "/opt/conda/lib/python3.10/site-packages/Cython/Compiler/Main.py:381: FutureWarning: Cython directive 'language_level' not set, using '3str' for now (Py3). This has changed from earlier releases! File: /kaggle/working/RECsys_Challenge2024/Recommenders/MatrixFactorization/Cython/MatrixFactorizationImpressions_Cython_Epoch.pyx\r\n",
      "  tree = Parsing.p_module(s, pxd, full_module_name)\r\n",
      "Compiling [2/11]: MatrixFactorizationImpressions_Cython_Epoch.pyx... PASS\r\n",
      "\r\n",
      "Compiling [3/11]: Compute_Similarity_Cython.pyx... \r\n",
      "warning: Compute_Similarity_Cython.pyx:21:0: The 'IF' statement is deprecated and will be removed in a future Cython version. Consider using runtime conditions or C macros instead. See https://github.com/cython/cython/issues/4310\r\n",
      "In file included from \u001b[01m\u001b[K/opt/conda/lib/python3.10/site-packages/numpy/core/include/numpy/ndarraytypes.h:1929\u001b[m\u001b[K,\r\n",
      "                 from \u001b[01m\u001b[K/opt/conda/lib/python3.10/site-packages/numpy/core/include/numpy/ndarrayobject.h:12\u001b[m\u001b[K,\r\n",
      "                 from \u001b[01m\u001b[K/opt/conda/lib/python3.10/site-packages/numpy/core/include/numpy/arrayobject.h:5\u001b[m\u001b[K,\r\n",
      "                 from \u001b[01m\u001b[KCompute_Similarity_Cython.c:1252\u001b[m\u001b[K:\r\n",
      "\u001b[01m\u001b[K/opt/conda/lib/python3.10/site-packages/numpy/core/include/numpy/npy_1_7_deprecated_api.h:17:2:\u001b[m\u001b[K \u001b[01;35m\u001b[Kwarning: \u001b[m\u001b[K#warning \"Using deprecated NumPy API, disable it with \" \"#define NPY_NO_DEPRECATED_API NPY_1_7_API_VERSION\" [\u001b[01;35m\u001b[K-Wcpp\u001b[m\u001b[K]\r\n",
      "   17 | #\u001b[01;35m\u001b[Kwarning\u001b[m\u001b[K \"Using deprecated NumPy API, disable it with \" \\\r\n",
      "      |  \u001b[01;35m\u001b[K^~~~~~~\u001b[m\u001b[K\r\n",
      "/opt/conda/lib/python3.10/site-packages/Cython/Compiler/Main.py:381: FutureWarning: Cython directive 'language_level' not set, using '3str' for now (Py3). This has changed from earlier releases! File: /kaggle/working/RECsys_Challenge2024/Recommenders/Similarity/Cython/Compute_Similarity_Cython.pyx\r\n",
      "  tree = Parsing.p_module(s, pxd, full_module_name)\r\n",
      "warning: Compute_Similarity_Cython.pyx:21:0: The 'IF' statement is deprecated and will be removed in a future Cython version. Consider using runtime conditions or C macros instead. See https://github.com/cython/cython/issues/4310\r\n",
      "Compiling [3/11]: Compute_Similarity_Cython.pyx... PASS\r\n",
      "\r\n",
      "Compiling [4/11]: Triangular_Matrix.pyx... \r\n",
      "warning: Triangular_Matrix.pyx:22:0: The 'IF' statement is deprecated and will be removed in a future Cython version. Consider using runtime conditions or C macros instead. See https://github.com/cython/cython/issues/4310\r\n",
      "In file included from \u001b[01m\u001b[K/opt/conda/lib/python3.10/site-packages/numpy/core/include/numpy/ndarraytypes.h:1929\u001b[m\u001b[K,\r\n",
      "                 from \u001b[01m\u001b[K/opt/conda/lib/python3.10/site-packages/numpy/core/include/numpy/ndarrayobject.h:12\u001b[m\u001b[K,\r\n",
      "                 from \u001b[01m\u001b[K/opt/conda/lib/python3.10/site-packages/numpy/core/include/numpy/arrayobject.h:5\u001b[m\u001b[K,\r\n",
      "                 from \u001b[01m\u001b[KTriangular_Matrix.c:1252\u001b[m\u001b[K:\r\n",
      "\u001b[01m\u001b[K/opt/conda/lib/python3.10/site-packages/numpy/core/include/numpy/npy_1_7_deprecated_api.h:17:2:\u001b[m\u001b[K \u001b[01;35m\u001b[Kwarning: \u001b[m\u001b[K#warning \"Using deprecated NumPy API, disable it with \" \"#define NPY_NO_DEPRECATED_API NPY_1_7_API_VERSION\" [\u001b[01;35m\u001b[K-Wcpp\u001b[m\u001b[K]\r\n",
      "   17 | #\u001b[01;35m\u001b[Kwarning\u001b[m\u001b[K \"Using deprecated NumPy API, disable it with \" \\\r\n",
      "      |  \u001b[01;35m\u001b[K^~~~~~~\u001b[m\u001b[K\r\n",
      "/opt/conda/lib/python3.10/site-packages/Cython/Compiler/Main.py:381: FutureWarning: Cython directive 'language_level' not set, using '3str' for now (Py3). This has changed from earlier releases! File: /kaggle/working/RECsys_Challenge2024/Recommenders/SLIM/Cython/Triangular_Matrix.pyx\r\n",
      "  tree = Parsing.p_module(s, pxd, full_module_name)\r\n",
      "warning: Triangular_Matrix.pyx:22:0: The 'IF' statement is deprecated and will be removed in a future Cython version. Consider using runtime conditions or C macros instead. See https://github.com/cython/cython/issues/4310\r\n",
      "Compiling [4/11]: Triangular_Matrix.pyx... PASS\r\n",
      "\r\n",
      "Compiling [5/11]: Sparse_Matrix_Tree_CSR.pyx... \r\n",
      "warning: Sparse_Matrix_Tree_CSR.pyx:132:34: Non-trivial type declarators in shared declaration (e.g. mix of pointers and values). Each pointer declaration should be on its own line.\r\n",
      "warning: Sparse_Matrix_Tree_CSR.pyx:132:66: Non-trivial type declarators in shared declaration (e.g. mix of pointers and values). Each pointer declaration should be on its own line.\r\n",
      "warning: Sparse_Matrix_Tree_CSR.pyx:343:35: Non-trivial type declarators in shared declaration (e.g. mix of pointers and values). Each pointer declaration should be on its own line.\r\n",
      "warning: Sparse_Matrix_Tree_CSR.pyx:343:52: Non-trivial type declarators in shared declaration (e.g. mix of pointers and values). Each pointer declaration should be on its own line.\r\n",
      "warning: Sparse_Matrix_Tree_CSR.pyx:442:35: Non-trivial type declarators in shared declaration (e.g. mix of pointers and values). Each pointer declaration should be on its own line.\r\n",
      "warning: Sparse_Matrix_Tree_CSR.pyx:442:53: Non-trivial type declarators in shared declaration (e.g. mix of pointers and values). Each pointer declaration should be on its own line.\r\n",
      "warning: Sparse_Matrix_Tree_CSR.pyx:442:69: Non-trivial type declarators in shared declaration (e.g. mix of pointers and values). Each pointer declaration should be on its own line.\r\n",
      "warning: Sparse_Matrix_Tree_CSR.pyx:577:35: Non-trivial type declarators in shared declaration (e.g. mix of pointers and values). Each pointer declaration should be on its own line.\r\n",
      "warning: Sparse_Matrix_Tree_CSR.pyx:577:42: Non-trivial type declarators in shared declaration (e.g. mix of pointers and values). Each pointer declaration should be on its own line.\r\n",
      "warning: Sparse_Matrix_Tree_CSR.pyx:578:35: Non-trivial type declarators in shared declaration (e.g. mix of pointers and values). Each pointer declaration should be on its own line.\r\n",
      "warning: Sparse_Matrix_Tree_CSR.pyx:578:53: Non-trivial type declarators in shared declaration (e.g. mix of pointers and values). Each pointer declaration should be on its own line.\r\n",
      "\r\n",
      "Error compiling Cython file:\r\n",
      "------------------------------------------------------------\r\n",
      "...\r\n",
      "            vector_pointer_to_list_elements[index].head = current_element\r\n",
      "            current_element = current_element.higher\r\n",
      "\r\n",
      "\r\n",
      "        # Sort array elements on their data field\r\n",
      "        qsort(vector_pointer_to_list_elements, list_length, sizeof(head_pointer_tree_s), compare_struct_on_data)\r\n",
      "                                                                                         ^\r\n",
      "------------------------------------------------------------\r\n",
      "\r\n",
      "Sparse_Matrix_Tree_CSR.pyx:516:89: Cannot assign type 'int (const void *, const void *) except? -1' to 'int (*)(const_void *, const_void *) noexcept'. Exception values are incompatible. Suggest adding 'noexcept' to the type of 'compare_struct_on_data'.\r\n",
      "\r\n",
      "Error compiling Cython file:\r\n",
      "------------------------------------------------------------\r\n",
      "...\r\n",
      "        # Sort array elements on their data field\r\n",
      "        qsort(vector_pointer_to_list_elements, list_length, sizeof(head_pointer_tree_s), compare_struct_on_data)\r\n",
      "\r\n",
      "        # Sort only the TopK according to their column field\r\n",
      "        # Sort is from lower to higher, therefore the elements to be considered are from len-topK to len\r\n",
      "        qsort(&vector_pointer_to_list_elements[list_length-TopK], TopK, sizeof(head_pointer_tree_s), compare_struct_on_column)\r\n",
      "                                                                                                     ^\r\n",
      "------------------------------------------------------------\r\n",
      "\r\n",
      "Sparse_Matrix_Tree_CSR.pyx:520:101: Cannot assign type 'int (const void *, const void *) except? -1' to 'int (*)(const_void *, const_void *) noexcept'. Exception values are incompatible. Suggest adding 'noexcept' to the type of 'compare_struct_on_column'.\r\n",
      "Traceback (most recent call last):\r\n",
      "  File \"/kaggle/working/RECsys_Challenge2024/CythonCompiler/compile_script.py\", line 48, in <module>\r\n",
      "    setup(\r\n",
      "  File \"/opt/conda/lib/python3.10/site-packages/setuptools/__init__.py\", line 103, in setup\r\n",
      "    return distutils.core.setup(**attrs)\r\n",
      "  File \"/opt/conda/lib/python3.10/site-packages/setuptools/_distutils/core.py\", line 184, in setup\r\n",
      "    return run_commands(dist)\r\n",
      "  File \"/opt/conda/lib/python3.10/site-packages/setuptools/_distutils/core.py\", line 200, in run_commands\r\n",
      "    dist.run_commands()\r\n",
      "  File \"/opt/conda/lib/python3.10/site-packages/setuptools/_distutils/dist.py\", line 969, in run_commands\r\n",
      "    self.run_command(cmd)\r\n",
      "  File \"/opt/conda/lib/python3.10/site-packages/setuptools/dist.py\", line 968, in run_command\r\n",
      "    super().run_command(command)\r\n",
      "  File \"/opt/conda/lib/python3.10/site-packages/setuptools/_distutils/dist.py\", line 988, in run_command\r\n",
      "    cmd_obj.run()\r\n",
      "  File \"/opt/conda/lib/python3.10/site-packages/setuptools/_distutils/command/build_ext.py\", line 359, in run\r\n",
      "    self.build_extensions()\r\n",
      "  File \"/opt/conda/lib/python3.10/site-packages/setuptools/_distutils/command/build_ext.py\", line 479, in build_extensions\r\n",
      "    self._build_extensions_serial()\r\n",
      "  File \"/opt/conda/lib/python3.10/site-packages/setuptools/_distutils/command/build_ext.py\", line 505, in _build_extensions_serial\r\n",
      "    self.build_extension(ext)\r\n",
      "  File \"/opt/conda/lib/python3.10/site-packages/Cython/Distutils/build_ext.py\", line 130, in build_extension\r\n",
      "    new_ext = cythonize(\r\n",
      "  File \"/opt/conda/lib/python3.10/site-packages/Cython/Build/Dependencies.py\", line 1154, in cythonize\r\n",
      "    cythonize_one(*args)\r\n",
      "  File \"/opt/conda/lib/python3.10/site-packages/Cython/Build/Dependencies.py\", line 1321, in cythonize_one\r\n",
      "    raise CompileError(None, pyx_file)\r\n",
      "Cython.Compiler.Errors.CompileError: Sparse_Matrix_Tree_CSR.pyx\r\n",
      "Traceback (most recent call last):\r\n",
      "  File \"/kaggle/working/RECsys_Challenge2024/run_compile_all_cython.py\", line 60, in <module>\r\n",
      "    run_compile_subprocess(file_path, [file_name])\r\n",
      "  File \"/kaggle/working/RECsys_Challenge2024/CythonCompiler/run_compile_subprocess.py\", line 51, in run_compile_subprocess\r\n",
      "    raise exc\r\n",
      "  File \"/kaggle/working/RECsys_Challenge2024/CythonCompiler/run_compile_subprocess.py\", line 32, in run_compile_subprocess\r\n",
      "    output = subprocess.check_output(' '.join(command),\r\n",
      "  File \"/opt/conda/lib/python3.10/subprocess.py\", line 421, in check_output\r\n",
      "    return run(*popenargs, stdout=PIPE, timeout=timeout, check=True,\r\n",
      "  File \"/opt/conda/lib/python3.10/subprocess.py\", line 526, in run\r\n",
      "    raise CalledProcessError(retcode, process.args,\r\n",
      "subprocess.CalledProcessError: Command '/opt/conda/bin/python /kaggle/working/RECsys_Challenge2024/CythonCompiler/compile_script.py Sparse_Matrix_Tree_CSR.pyx build_ext --inplace' returned non-zero exit status 1.\r\n",
      "Compiling [5/11]: Sparse_Matrix_Tree_CSR.pyx... FAIL: Command '/opt/conda/bin/python /kaggle/working/RECsys_Challenge2024/CythonCompiler/compile_script.py Sparse_Matrix_Tree_CSR.pyx build_ext --inplace' returned non-zero exit status 1.\r\n",
      "\r\n",
      "Compiling [6/11]: SLIM_BPR_Cython_Epoch.pyx... \r\n",
      "warning: SLIM_BPR_Cython_Epoch.pyx:24:0: The 'IF' statement is deprecated and will be removed in a future Cython version. Consider using runtime conditions or C macros instead. See https://github.com/cython/cython/issues/4310\r\n",
      "warning: SLIM_BPR_Cython_Epoch.pyx:632:34: Non-trivial type declarators in shared declaration (e.g. mix of pointers and values). Each pointer declaration should be on its own line.\r\n",
      "warning: SLIM_BPR_Cython_Epoch.pyx:632:66: Non-trivial type declarators in shared declaration (e.g. mix of pointers and values). Each pointer declaration should be on its own line.\r\n",
      "warning: SLIM_BPR_Cython_Epoch.pyx:817:35: Non-trivial type declarators in shared declaration (e.g. mix of pointers and values). Each pointer declaration should be on its own line.\r\n",
      "warning: SLIM_BPR_Cython_Epoch.pyx:817:52: Non-trivial type declarators in shared declaration (e.g. mix of pointers and values). Each pointer declaration should be on its own line.\r\n",
      "warning: SLIM_BPR_Cython_Epoch.pyx:916:35: Non-trivial type declarators in shared declaration (e.g. mix of pointers and values). Each pointer declaration should be on its own line.\r\n",
      "warning: SLIM_BPR_Cython_Epoch.pyx:916:53: Non-trivial type declarators in shared declaration (e.g. mix of pointers and values). Each pointer declaration should be on its own line.\r\n",
      "warning: SLIM_BPR_Cython_Epoch.pyx:916:69: Non-trivial type declarators in shared declaration (e.g. mix of pointers and values). Each pointer declaration should be on its own line.\r\n",
      "warning: SLIM_BPR_Cython_Epoch.pyx:1051:35: Non-trivial type declarators in shared declaration (e.g. mix of pointers and values). Each pointer declaration should be on its own line.\r\n",
      "warning: SLIM_BPR_Cython_Epoch.pyx:1051:42: Non-trivial type declarators in shared declaration (e.g. mix of pointers and values). Each pointer declaration should be on its own line.\r\n",
      "warning: SLIM_BPR_Cython_Epoch.pyx:1052:35: Non-trivial type declarators in shared declaration (e.g. mix of pointers and values). Each pointer declaration should be on its own line.\r\n",
      "warning: SLIM_BPR_Cython_Epoch.pyx:1052:53: Non-trivial type declarators in shared declaration (e.g. mix of pointers and values). Each pointer declaration should be on its own line.\r\n",
      "\r\n",
      "Error compiling Cython file:\r\n",
      "------------------------------------------------------------\r\n",
      "...\r\n",
      "            vector_pointer_to_list_elements[index].head = current_element\r\n",
      "            current_element = current_element.higher\r\n",
      "\r\n",
      "\r\n",
      "        # Sort array elements on their data field\r\n",
      "        qsort(vector_pointer_to_list_elements, list_length, sizeof(head_pointer_tree_s), compare_struct_on_data)\r\n",
      "                                                                                         ^\r\n",
      "------------------------------------------------------------\r\n",
      "\r\n",
      "SLIM_BPR_Cython_Epoch.pyx:990:89: Cannot assign type 'int (const void *, const void *) except? -1' to 'int (*)(const_void *, const_void *) noexcept'. Exception values are incompatible. Suggest adding 'noexcept' to the type of 'compare_struct_on_data'.\r\n",
      "\r\n",
      "Error compiling Cython file:\r\n",
      "------------------------------------------------------------\r\n",
      "...\r\n",
      "        # Sort array elements on their data field\r\n",
      "        qsort(vector_pointer_to_list_elements, list_length, sizeof(head_pointer_tree_s), compare_struct_on_data)\r\n",
      "\r\n",
      "        # Sort only the TopK according to their column field\r\n",
      "        # Sort is from lower to higher, therefore the elements to be considered are from len-topK to len\r\n",
      "        qsort(&vector_pointer_to_list_elements[list_length-TopK], TopK, sizeof(head_pointer_tree_s), compare_struct_on_column)\r\n",
      "                                                                                                     ^\r\n",
      "------------------------------------------------------------\r\n",
      "\r\n",
      "SLIM_BPR_Cython_Epoch.pyx:994:101: Cannot assign type 'int (const void *, const void *) except? -1' to 'int (*)(const_void *, const_void *) noexcept'. Exception values are incompatible. Suggest adding 'noexcept' to the type of 'compare_struct_on_column'.\r\n",
      "Traceback (most recent call last):\r\n",
      "  File \"/kaggle/working/RECsys_Challenge2024/CythonCompiler/compile_script.py\", line 48, in <module>\r\n",
      "    setup(\r\n",
      "  File \"/opt/conda/lib/python3.10/site-packages/setuptools/__init__.py\", line 103, in setup\r\n",
      "    return distutils.core.setup(**attrs)\r\n",
      "  File \"/opt/conda/lib/python3.10/site-packages/setuptools/_distutils/core.py\", line 184, in setup\r\n",
      "    return run_commands(dist)\r\n",
      "  File \"/opt/conda/lib/python3.10/site-packages/setuptools/_distutils/core.py\", line 200, in run_commands\r\n",
      "    dist.run_commands()\r\n",
      "  File \"/opt/conda/lib/python3.10/site-packages/setuptools/_distutils/dist.py\", line 969, in run_commands\r\n",
      "    self.run_command(cmd)\r\n",
      "  File \"/opt/conda/lib/python3.10/site-packages/setuptools/dist.py\", line 968, in run_command\r\n",
      "    super().run_command(command)\r\n",
      "  File \"/opt/conda/lib/python3.10/site-packages/setuptools/_distutils/dist.py\", line 988, in run_command\r\n",
      "    cmd_obj.run()\r\n",
      "  File \"/opt/conda/lib/python3.10/site-packages/setuptools/_distutils/command/build_ext.py\", line 359, in run\r\n",
      "    self.build_extensions()\r\n",
      "  File \"/opt/conda/lib/python3.10/site-packages/setuptools/_distutils/command/build_ext.py\", line 479, in build_extensions\r\n",
      "    self._build_extensions_serial()\r\n",
      "  File \"/opt/conda/lib/python3.10/site-packages/setuptools/_distutils/command/build_ext.py\", line 505, in _build_extensions_serial\r\n",
      "    self.build_extension(ext)\r\n",
      "  File \"/opt/conda/lib/python3.10/site-packages/Cython/Distutils/build_ext.py\", line 130, in build_extension\r\n",
      "    new_ext = cythonize(\r\n",
      "  File \"/opt/conda/lib/python3.10/site-packages/Cython/Build/Dependencies.py\", line 1154, in cythonize\r\n",
      "    cythonize_one(*args)\r\n",
      "  File \"/opt/conda/lib/python3.10/site-packages/Cython/Build/Dependencies.py\", line 1321, in cythonize_one\r\n",
      "    raise CompileError(None, pyx_file)\r\n",
      "Cython.Compiler.Errors.CompileError: SLIM_BPR_Cython_Epoch.pyx\r\n",
      "Traceback (most recent call last):\r\n",
      "  File \"/kaggle/working/RECsys_Challenge2024/run_compile_all_cython.py\", line 60, in <module>\r\n",
      "    run_compile_subprocess(file_path, [file_name])\r\n",
      "  File \"/kaggle/working/RECsys_Challenge2024/CythonCompiler/run_compile_subprocess.py\", line 51, in run_compile_subprocess\r\n",
      "    raise exc\r\n",
      "  File \"/kaggle/working/RECsys_Challenge2024/CythonCompiler/run_compile_subprocess.py\", line 32, in run_compile_subprocess\r\n",
      "    output = subprocess.check_output(' '.join(command),\r\n",
      "  File \"/opt/conda/lib/python3.10/subprocess.py\", line 421, in check_output\r\n",
      "    return run(*popenargs, stdout=PIPE, timeout=timeout, check=True,\r\n",
      "  File \"/opt/conda/lib/python3.10/subprocess.py\", line 526, in run\r\n",
      "    raise CalledProcessError(retcode, process.args,\r\n",
      "subprocess.CalledProcessError: Command '/opt/conda/bin/python /kaggle/working/RECsys_Challenge2024/CythonCompiler/compile_script.py SLIM_BPR_Cython_Epoch.pyx build_ext --inplace' returned non-zero exit status 1.\r\n",
      "Compiling [6/11]: SLIM_BPR_Cython_Epoch.pyx... FAIL: Command '/opt/conda/bin/python /kaggle/working/RECsys_Challenge2024/CythonCompiler/compile_script.py SLIM_BPR_Cython_Epoch.pyx build_ext --inplace' returned non-zero exit status 1.\r\n",
      "\r\n",
      "Compiling [7/11]: FBSM_Rating_Cython_SGD.pyx... \r\n",
      "In file included from \u001b[01m\u001b[K/opt/conda/lib/python3.10/site-packages/numpy/core/include/numpy/ndarraytypes.h:1929\u001b[m\u001b[K,\r\n",
      "                 from \u001b[01m\u001b[K/opt/conda/lib/python3.10/site-packages/numpy/core/include/numpy/ndarrayobject.h:12\u001b[m\u001b[K,\r\n",
      "                 from \u001b[01m\u001b[K/opt/conda/lib/python3.10/site-packages/numpy/core/include/numpy/arrayobject.h:5\u001b[m\u001b[K,\r\n",
      "                 from \u001b[01m\u001b[KFBSM_Rating_Cython_SGD.c:1252\u001b[m\u001b[K:\r\n",
      "\u001b[01m\u001b[K/opt/conda/lib/python3.10/site-packages/numpy/core/include/numpy/npy_1_7_deprecated_api.h:17:2:\u001b[m\u001b[K \u001b[01;35m\u001b[Kwarning: \u001b[m\u001b[K#warning \"Using deprecated NumPy API, disable it with \" \"#define NPY_NO_DEPRECATED_API NPY_1_7_API_VERSION\" [\u001b[01;35m\u001b[K-Wcpp\u001b[m\u001b[K]\r\n",
      "   17 | #\u001b[01;35m\u001b[Kwarning\u001b[m\u001b[K \"Using deprecated NumPy API, disable it with \" \\\r\n",
      "      |  \u001b[01;35m\u001b[K^~~~~~~\u001b[m\u001b[K\r\n",
      "\u001b[01m\u001b[KFBSM_Rating_Cython_SGD.c:\u001b[m\u001b[K In function '\u001b[01m\u001b[K__pyx_pf_22FBSM_Rating_Cython_SGD_22FBSM_Rating_Cython_SGD_2fit\u001b[m\u001b[K':\r\n",
      "\u001b[01m\u001b[KFBSM_Rating_Cython_SGD.c:26607:55:\u001b[m\u001b[K \u001b[01;35m\u001b[Kwarning: \u001b[m\u001b[K'\u001b[01m\u001b[K__pyx_v_num_sample\u001b[m\u001b[K' may be used uninitialized in this function [\u001b[01;35m\u001b[K-Wmaybe-uninitialized\u001b[m\u001b[K]\r\n",
      "26607 |   __pyx_t_5 = PyFloat_FromDouble((__pyx_v_cum_loss / \u001b[01;35m\u001b[K((double)__pyx_v_num_sample)\u001b[m\u001b[K)); if (unlikely(!__pyx_t_5)) __PYX_ERR(0, 551, __pyx_L1_error)\r\n",
      "      |                                                      \u001b[01;35m\u001b[K~^~~~~~~~~~~~~~~~~~~~~~~~~~~\u001b[m\u001b[K\r\n",
      "/opt/conda/lib/python3.10/site-packages/Cython/Compiler/Main.py:381: FutureWarning: Cython directive 'language_level' not set, using '3str' for now (Py3). This has changed from earlier releases! File: /kaggle/working/RECsys_Challenge2024/Recommenders/FeatureWeighting/Cython/FBSM_Rating_Cython_SGD.pyx\r\n",
      "  tree = Parsing.p_module(s, pxd, full_module_name)\r\n",
      "Compiling [7/11]: FBSM_Rating_Cython_SGD.pyx... PASS\r\n",
      "\r\n",
      "Compiling [8/11]: HP3_Similarity_Cython_SGD.pyx... \r\n",
      "performance hint: HP3_Similarity_Cython_SGD.pyx:113:40: Index should be typed for more efficient access\r\n",
      "performance hint: HP3_Similarity_Cython_SGD.pyx:114:40: Index should be typed for more efficient access\r\n",
      "In file included from \u001b[01m\u001b[K/opt/conda/lib/python3.10/site-packages/numpy/core/include/numpy/ndarraytypes.h:1929\u001b[m\u001b[K,\r\n",
      "                 from \u001b[01m\u001b[K/opt/conda/lib/python3.10/site-packages/numpy/core/include/numpy/ndarrayobject.h:12\u001b[m\u001b[K,\r\n",
      "                 from \u001b[01m\u001b[K/opt/conda/lib/python3.10/site-packages/numpy/core/include/numpy/arrayobject.h:5\u001b[m\u001b[K,\r\n",
      "                 from \u001b[01m\u001b[KHP3_Similarity_Cython_SGD.c:1252\u001b[m\u001b[K:\r\n",
      "\u001b[01m\u001b[K/opt/conda/lib/python3.10/site-packages/numpy/core/include/numpy/npy_1_7_deprecated_api.h:17:2:\u001b[m\u001b[K \u001b[01;35m\u001b[Kwarning: \u001b[m\u001b[K#warning \"Using deprecated NumPy API, disable it with \" \"#define NPY_NO_DEPRECATED_API NPY_1_7_API_VERSION\" [\u001b[01;35m\u001b[K-Wcpp\u001b[m\u001b[K]\r\n",
      "   17 | #\u001b[01;35m\u001b[Kwarning\u001b[m\u001b[K \"Using deprecated NumPy API, disable it with \" \\\r\n",
      "      |  \u001b[01;35m\u001b[K^~~~~~~\u001b[m\u001b[K\r\n",
      "\u001b[01m\u001b[KHP3_Similarity_Cython_SGD.c:\u001b[m\u001b[K In function '\u001b[01m\u001b[K__pyx_pf_25HP3_Similarity_Cython_SGD_25HP3_Similarity_Cython_SGD_4fit\u001b[m\u001b[K':\r\n",
      "\u001b[01m\u001b[KHP3_Similarity_Cython_SGD.c:23631:55:\u001b[m\u001b[K \u001b[01;35m\u001b[Kwarning: \u001b[m\u001b[K'\u001b[01m\u001b[K__pyx_v_sample_num\u001b[m\u001b[K' may be used uninitialized in this function [\u001b[01;35m\u001b[K-Wmaybe-uninitialized\u001b[m\u001b[K]\r\n",
      "23631 |   __pyx_t_1 = PyFloat_FromDouble((__pyx_v_cum_loss / \u001b[01;35m\u001b[K((double)__pyx_v_sample_num)\u001b[m\u001b[K)); if (unlikely(!__pyx_t_1)) __PYX_ERR(0, 291, __pyx_L1_error)\r\n",
      "      |                                                      \u001b[01;35m\u001b[K~^~~~~~~~~~~~~~~~~~~~~~~~~~~\u001b[m\u001b[K\r\n",
      "/opt/conda/lib/python3.10/site-packages/Cython/Compiler/Main.py:381: FutureWarning: Cython directive 'language_level' not set, using '3str' for now (Py3). This has changed from earlier releases! File: /kaggle/working/RECsys_Challenge2024/Recommenders/FeatureWeighting/Cython/HP3_Similarity_Cython_SGD.pyx\r\n",
      "  tree = Parsing.p_module(s, pxd, full_module_name)\r\n",
      "performance hint: HP3_Similarity_Cython_SGD.pyx:113:40: Index should be typed for more efficient access\r\n",
      "performance hint: HP3_Similarity_Cython_SGD.pyx:114:40: Index should be typed for more efficient access\r\n",
      "Compiling [8/11]: HP3_Similarity_Cython_SGD.pyx... PASS\r\n",
      "\r\n",
      "Compiling [9/11]: CFW_DVV_Similarity_Cython_SGD.pyx... \r\n",
      "In file included from \u001b[01m\u001b[K/opt/conda/lib/python3.10/site-packages/numpy/core/include/numpy/ndarraytypes.h:1929\u001b[m\u001b[K,\r\n",
      "                 from \u001b[01m\u001b[K/opt/conda/lib/python3.10/site-packages/numpy/core/include/numpy/ndarrayobject.h:12\u001b[m\u001b[K,\r\n",
      "                 from \u001b[01m\u001b[K/opt/conda/lib/python3.10/site-packages/numpy/core/include/numpy/arrayobject.h:5\u001b[m\u001b[K,\r\n",
      "                 from \u001b[01m\u001b[KCFW_DVV_Similarity_Cython_SGD.c:1252\u001b[m\u001b[K:\r\n",
      "\u001b[01m\u001b[K/opt/conda/lib/python3.10/site-packages/numpy/core/include/numpy/npy_1_7_deprecated_api.h:17:2:\u001b[m\u001b[K \u001b[01;35m\u001b[Kwarning: \u001b[m\u001b[K#warning \"Using deprecated NumPy API, disable it with \" \"#define NPY_NO_DEPRECATED_API NPY_1_7_API_VERSION\" [\u001b[01;35m\u001b[K-Wcpp\u001b[m\u001b[K]\r\n",
      "   17 | #\u001b[01;35m\u001b[Kwarning\u001b[m\u001b[K \"Using deprecated NumPy API, disable it with \" \\\r\n",
      "      |  \u001b[01;35m\u001b[K^~~~~~~\u001b[m\u001b[K\r\n",
      "/opt/conda/lib/python3.10/site-packages/Cython/Compiler/Main.py:381: FutureWarning: Cython directive 'language_level' not set, using '3str' for now (Py3). This has changed from earlier releases! File: /kaggle/working/RECsys_Challenge2024/Recommenders/FeatureWeighting/Cython/CFW_DVV_Similarity_Cython_SGD.pyx\r\n",
      "  tree = Parsing.p_module(s, pxd, full_module_name)\r\n",
      "Compiling [9/11]: CFW_DVV_Similarity_Cython_SGD.pyx... PASS\r\n",
      "\r\n",
      "Compiling [10/11]: CFW_D_Similarity_Cython_SGD.pyx... \r\n",
      "In file included from \u001b[01m\u001b[K/opt/conda/lib/python3.10/site-packages/numpy/core/include/numpy/ndarraytypes.h:1929\u001b[m\u001b[K,\r\n",
      "                 from \u001b[01m\u001b[K/opt/conda/lib/python3.10/site-packages/numpy/core/include/numpy/ndarrayobject.h:12\u001b[m\u001b[K,\r\n",
      "                 from \u001b[01m\u001b[K/opt/conda/lib/python3.10/site-packages/numpy/core/include/numpy/arrayobject.h:5\u001b[m\u001b[K,\r\n",
      "                 from \u001b[01m\u001b[KCFW_D_Similarity_Cython_SGD.c:1252\u001b[m\u001b[K:\r\n",
      "\u001b[01m\u001b[K/opt/conda/lib/python3.10/site-packages/numpy/core/include/numpy/npy_1_7_deprecated_api.h:17:2:\u001b[m\u001b[K \u001b[01;35m\u001b[Kwarning: \u001b[m\u001b[K#warning \"Using deprecated NumPy API, disable it with \" \"#define NPY_NO_DEPRECATED_API NPY_1_7_API_VERSION\" [\u001b[01;35m\u001b[K-Wcpp\u001b[m\u001b[K]\r\n",
      "   17 | #\u001b[01;35m\u001b[Kwarning\u001b[m\u001b[K \"Using deprecated NumPy API, disable it with \" \\\r\n",
      "      |  \u001b[01;35m\u001b[K^~~~~~~\u001b[m\u001b[K\r\n",
      "\u001b[01m\u001b[KCFW_D_Similarity_Cython_SGD.c:\u001b[m\u001b[K In function '\u001b[01m\u001b[K__pyx_pf_27CFW_D_Similarity_Cython_SGD_27CFW_D_Similarity_Cython_SGD_6fit\u001b[m\u001b[K':\r\n",
      "\u001b[01m\u001b[KCFW_D_Similarity_Cython_SGD.c:23373:55:\u001b[m\u001b[K \u001b[01;35m\u001b[Kwarning: \u001b[m\u001b[K'\u001b[01m\u001b[K__pyx_v_sample_num\u001b[m\u001b[K' may be used uninitialized in this function [\u001b[01;35m\u001b[K-Wmaybe-uninitialized\u001b[m\u001b[K]\r\n",
      "23373 |   __pyx_t_3 = PyFloat_FromDouble((__pyx_v_cum_loss / \u001b[01;35m\u001b[K((double)__pyx_v_sample_num)\u001b[m\u001b[K)); if (unlikely(!__pyx_t_3)) __PYX_ERR(0, 290, __pyx_L1_error)\r\n",
      "      |                                                      \u001b[01;35m\u001b[K~^~~~~~~~~~~~~~~~~~~~~~~~~~~\u001b[m\u001b[K\r\n",
      "/opt/conda/lib/python3.10/site-packages/Cython/Compiler/Main.py:381: FutureWarning: Cython directive 'language_level' not set, using '3str' for now (Py3). This has changed from earlier releases! File: /kaggle/working/RECsys_Challenge2024/Recommenders/FeatureWeighting/Cython/CFW_D_Similarity_Cython_SGD.pyx\r\n",
      "  tree = Parsing.p_module(s, pxd, full_module_name)\r\n",
      "Compiling [10/11]: CFW_D_Similarity_Cython_SGD.pyx... PASS\r\n",
      "\r\n",
      "Compiling [11/11]: DataIterator.pyx... \r\n",
      "In file included from \u001b[01m\u001b[K/opt/conda/lib/python3.10/site-packages/numpy/core/include/numpy/ndarraytypes.h:1929\u001b[m\u001b[K,\r\n",
      "                 from \u001b[01m\u001b[K/opt/conda/lib/python3.10/site-packages/numpy/core/include/numpy/ndarrayobject.h:12\u001b[m\u001b[K,\r\n",
      "                 from \u001b[01m\u001b[K/opt/conda/lib/python3.10/site-packages/numpy/core/include/numpy/arrayobject.h:5\u001b[m\u001b[K,\r\n",
      "                 from \u001b[01m\u001b[KDataIterator.c:1252\u001b[m\u001b[K:\r\n",
      "\u001b[01m\u001b[K/opt/conda/lib/python3.10/site-packages/numpy/core/include/numpy/npy_1_7_deprecated_api.h:17:2:\u001b[m\u001b[K \u001b[01;35m\u001b[Kwarning: \u001b[m\u001b[K#warning \"Using deprecated NumPy API, disable it with \" \"#define NPY_NO_DEPRECATED_API NPY_1_7_API_VERSION\" [\u001b[01;35m\u001b[K-Wcpp\u001b[m\u001b[K]\r\n",
      "   17 | #\u001b[01;35m\u001b[Kwarning\u001b[m\u001b[K \"Using deprecated NumPy API, disable it with \" \\\r\n",
      "      |  \u001b[01;35m\u001b[K^~~~~~~\u001b[m\u001b[K\r\n",
      "\u001b[01m\u001b[KDataIterator.c:\u001b[m\u001b[K In function '\u001b[01m\u001b[K__pyx_pf_12DataIterator_30InteractionAndNegativeIterator_6__next__\u001b[m\u001b[K':\r\n",
      "\u001b[01m\u001b[KDataIterator.c:25495:22:\u001b[m\u001b[K \u001b[01;35m\u001b[Kwarning: \u001b[m\u001b[K'\u001b[01m\u001b[K__pyx_v_i_batch\u001b[m\u001b[K' may be used uninitialized in this function [\u001b[01;35m\u001b[K-Wmaybe-uninitialized\u001b[m\u001b[K]\r\n",
      "25495 |     (__pyx_v_i_batch \u001b[01;35m\u001b[K+\u001b[m\u001b[K 1),\r\n",
      "      |                      \u001b[01;35m\u001b[K^\u001b[m\u001b[K\r\n",
      "\u001b[01m\u001b[KDataIterator.c:\u001b[m\u001b[K In function '\u001b[01m\u001b[K__pyx_pf_12DataIterator_11BPRIterator_6__next__\u001b[m\u001b[K':\r\n",
      "\u001b[01m\u001b[KDataIterator.c:23054:22:\u001b[m\u001b[K \u001b[01;35m\u001b[Kwarning: \u001b[m\u001b[K'\u001b[01m\u001b[K__pyx_v_i_batch\u001b[m\u001b[K' may be used uninitialized in this function [\u001b[01;35m\u001b[K-Wmaybe-uninitialized\u001b[m\u001b[K]\r\n",
      "23054 |     (__pyx_v_i_batch \u001b[01;35m\u001b[K+\u001b[m\u001b[K 1),\r\n",
      "      |                      \u001b[01;35m\u001b[K^\u001b[m\u001b[K\r\n",
      "\u001b[01m\u001b[KDataIterator.c:\u001b[m\u001b[K In function '\u001b[01m\u001b[K__pyx_pf_12DataIterator_19InteractionIterator_6__next__\u001b[m\u001b[K':\r\n",
      "\u001b[01m\u001b[KDataIterator.c:20937:22:\u001b[m\u001b[K \u001b[01;35m\u001b[Kwarning: \u001b[m\u001b[K'\u001b[01m\u001b[K__pyx_v_i_batch\u001b[m\u001b[K' may be used uninitialized in this function [\u001b[01;35m\u001b[K-Wmaybe-uninitialized\u001b[m\u001b[K]\r\n",
      "20937 |     (__pyx_v_i_batch \u001b[01;35m\u001b[K+\u001b[m\u001b[K 1),\r\n",
      "      |                      \u001b[01;35m\u001b[K^\u001b[m\u001b[K\r\n",
      "/opt/conda/lib/python3.10/site-packages/Cython/Compiler/Main.py:381: FutureWarning: Cython directive 'language_level' not set, using '3str' for now (Py3). This has changed from earlier releases! File: /kaggle/working/RECsys_Challenge2024/Utils/PyTorch/Cython/DataIterator.pyx\r\n",
      "  tree = Parsing.p_module(s, pxd, full_module_name)\r\n",
      "Compiling [11/11]: DataIterator.pyx... PASS\r\n",
      "\r\n",
      "run_compile_all_cython: Compilation finished. FAILS 2/11.\r\n",
      "Compilation log can be found here: './result_experiments/run_compile_all_cython.txt'\r\n"
     ]
    }
   ],
   "source": [
    "%cd /kaggle/working/RECsys_Challenge2024 \n",
    "! python run_compile_all_cython.py"
   ]
  },
  {
   "cell_type": "code",
   "execution_count": 5,
   "id": "ca220380",
   "metadata": {
    "execution": {
     "iopub.execute_input": "2024-12-16T11:39:23.811557Z",
     "iopub.status.busy": "2024-12-16T11:39:23.811130Z",
     "iopub.status.idle": "2024-12-16T11:39:25.558348Z",
     "shell.execute_reply": "2024-12-16T11:39:25.557262Z"
    },
    "papermill": {
     "duration": 1.764691,
     "end_time": "2024-12-16T11:39:25.560920",
     "exception": false,
     "start_time": "2024-12-16T11:39:23.796229",
     "status": "completed"
    },
    "tags": []
   },
   "outputs": [],
   "source": [
    "from Utils.notebookFunctions import *\n",
    "import numpy as np\n",
    "import pandas as pd\n",
    "import scipy.sparse as sps\n",
    "import time\n",
    "import shutil\n",
    "import optuna\n",
    "import json\n",
    "import os\n",
    "from Utils.seconds_to_biggest_unit import seconds_to_biggest_unit\n",
    "\n",
    "\n",
    "K_PATH = '/kaggle/working/RECsys_Challenge2024'\n",
    "GH_PATH = 'TrainedModels/WithoutKFCV/GraphBased'\n",
    "\n",
    "np.random.seed(42)"
   ]
  },
  {
   "cell_type": "markdown",
   "id": "87e08b26",
   "metadata": {
    "papermill": {
     "duration": 0.012913,
     "end_time": "2024-12-16T11:39:25.587123",
     "exception": false,
     "start_time": "2024-12-16T11:39:25.574210",
     "status": "completed"
    },
    "tags": []
   },
   "source": [
    "## Import the repository"
   ]
  },
  {
   "cell_type": "code",
   "execution_count": 6,
   "id": "ae20cd03",
   "metadata": {
    "execution": {
     "iopub.execute_input": "2024-12-16T11:39:25.615926Z",
     "iopub.status.busy": "2024-12-16T11:39:25.615341Z",
     "iopub.status.idle": "2024-12-16T11:39:25.995488Z",
     "shell.execute_reply": "2024-12-16T11:39:25.994032Z"
    },
    "papermill": {
     "duration": 0.397504,
     "end_time": "2024-12-16T11:39:25.997990",
     "exception": false,
     "start_time": "2024-12-16T11:39:25.600486",
     "status": "completed"
    },
    "tags": []
   },
   "outputs": [
    {
     "name": "stdout",
     "output_type": "stream",
     "text": [
      "Repository 'RECsys_Challenge2024' found.\n"
     ]
    }
   ],
   "source": [
    "repo = get_repo_from_github(token)"
   ]
  },
  {
   "cell_type": "code",
   "execution_count": 7,
   "id": "0fb2dee9",
   "metadata": {
    "execution": {
     "iopub.execute_input": "2024-12-16T11:39:26.027390Z",
     "iopub.status.busy": "2024-12-16T11:39:26.026987Z",
     "iopub.status.idle": "2024-12-16T11:39:26.032519Z",
     "shell.execute_reply": "2024-12-16T11:39:26.031255Z"
    },
    "papermill": {
     "duration": 0.023716,
     "end_time": "2024-12-16T11:39:26.035085",
     "exception": false,
     "start_time": "2024-12-16T11:39:26.011369",
     "status": "completed"
    },
    "tags": []
   },
   "outputs": [],
   "source": [
    "config = {\n",
    "    'model': 'RP3beta',\n",
    "    'metric': 'Recall',\n",
    "    'tune_parameters': True,\n",
    "    'database_path': '/kaggle/working/history_RP3beta_Recall.db',\n",
    "    'copy_prev_best_params': False,\n",
    "    'tune_best_params': True,\n",
    "    'save_github': True\n",
    "}"
   ]
  },
  {
   "cell_type": "markdown",
   "id": "327d309d",
   "metadata": {
    "papermill": {
     "duration": 0.014031,
     "end_time": "2024-12-16T11:39:26.063069",
     "exception": false,
     "start_time": "2024-12-16T11:39:26.049038",
     "status": "completed"
    },
    "tags": []
   },
   "source": [
    "Import the database where previous tuning trials have been saved."
   ]
  },
  {
   "cell_type": "code",
   "execution_count": 8,
   "id": "3af50921",
   "metadata": {
    "execution": {
     "iopub.execute_input": "2024-12-16T11:39:26.092259Z",
     "iopub.status.busy": "2024-12-16T11:39:26.091856Z",
     "iopub.status.idle": "2024-12-16T11:39:26.098411Z",
     "shell.execute_reply": "2024-12-16T11:39:26.097153Z"
    },
    "papermill": {
     "duration": 0.025239,
     "end_time": "2024-12-16T11:39:26.101260",
     "exception": false,
     "start_time": "2024-12-16T11:39:26.076021",
     "status": "completed"
    },
    "tags": []
   },
   "outputs": [],
   "source": [
    "try:\n",
    "    shutil.copyfile(\n",
    "        f'{K_PATH}/{GH_PATH}/{config[\"model\"]}Recommender/Optimizing{config[\"metric\"]}/history_{config[\"model\"]}_{config[\"metric\"]}.db', \n",
    "        config['database_path']\n",
    "    )\n",
    "except FileNotFoundError:\n",
    "    pass # if not present optuna will create it"
   ]
  },
  {
   "cell_type": "markdown",
   "id": "a72e88a9",
   "metadata": {
    "papermill": {
     "duration": 0.013789,
     "end_time": "2024-12-16T11:39:26.128485",
     "exception": false,
     "start_time": "2024-12-16T11:39:26.114696",
     "status": "completed"
    },
    "tags": []
   },
   "source": [
    "# Construction of URM and ICM matrices"
   ]
  },
  {
   "cell_type": "code",
   "execution_count": 9,
   "id": "0a2e0ce7",
   "metadata": {
    "execution": {
     "iopub.execute_input": "2024-12-16T11:39:26.158898Z",
     "iopub.status.busy": "2024-12-16T11:39:26.158465Z",
     "iopub.status.idle": "2024-12-16T11:39:27.041059Z",
     "shell.execute_reply": "2024-12-16T11:39:27.039870Z"
    },
    "papermill": {
     "duration": 0.901099,
     "end_time": "2024-12-16T11:39:27.043774",
     "exception": false,
     "start_time": "2024-12-16T11:39:26.142675",
     "status": "completed"
    },
    "tags": []
   },
   "outputs": [
    {
     "data": {
      "text/plain": [
       "<Compressed Sparse Row sparse matrix of dtype 'float64'\n",
       "\twith 1764607 stored elements and shape (35736, 38121)>"
      ]
     },
     "execution_count": 9,
     "metadata": {},
     "output_type": "execute_result"
    }
   ],
   "source": [
    "URM_all_dataframe = pd.read_csv(\"/kaggle/input/recommender-system-2024-challenge-polimi/data_train.csv\")\n",
    "\n",
    "n_users = len(URM_all_dataframe[\"user_id\"].unique())\n",
    "n_items = len(URM_all_dataframe[\"item_id\"].unique())\n",
    "\n",
    "URM_all = sps.csr_matrix((URM_all_dataframe[\"data\"].values, \n",
    "                          (URM_all_dataframe[\"user_id\"].values, URM_all_dataframe[\"item_id\"].values)),\n",
    "                        shape = (n_users, n_items))\n",
    "\n",
    "URM_all"
   ]
  },
  {
   "cell_type": "code",
   "execution_count": 10,
   "id": "5bbaedb0",
   "metadata": {
    "execution": {
     "iopub.execute_input": "2024-12-16T11:39:27.072200Z",
     "iopub.status.busy": "2024-12-16T11:39:27.071785Z",
     "iopub.status.idle": "2024-12-16T11:39:28.325260Z",
     "shell.execute_reply": "2024-12-16T11:39:28.324094Z"
    },
    "papermill": {
     "duration": 1.270343,
     "end_time": "2024-12-16T11:39:28.327533",
     "exception": false,
     "start_time": "2024-12-16T11:39:27.057190",
     "status": "completed"
    },
    "tags": []
   },
   "outputs": [
    {
     "data": {
      "text/plain": [
       "<Compressed Sparse Row sparse matrix of dtype 'float64'\n",
       "\twith 2940040 stored elements and shape (38121, 94331)>"
      ]
     },
     "execution_count": 10,
     "metadata": {},
     "output_type": "execute_result"
    }
   ],
   "source": [
    "ICM_dataframe = pd.read_csv(\"/kaggle/input/recommender-system-2024-challenge-polimi/data_ICM_metadata.csv\")\n",
    "\n",
    "n_items = len(ICM_dataframe[\"item_id\"].unique())\n",
    "n_features = len(ICM_dataframe[\"feature_id\"].unique())\n",
    "\n",
    "ICM_all = sps.csr_matrix((ICM_dataframe[\"data\"].values, \n",
    "                          (ICM_dataframe[\"item_id\"].values, ICM_dataframe[\"feature_id\"].values)),\n",
    "                        shape = (n_items, n_features))\n",
    "\n",
    "ICM_all"
   ]
  },
  {
   "cell_type": "markdown",
   "id": "33773906",
   "metadata": {
    "papermill": {
     "duration": 0.014269,
     "end_time": "2024-12-16T11:39:28.355129",
     "exception": false,
     "start_time": "2024-12-16T11:39:28.340860",
     "status": "completed"
    },
    "tags": []
   },
   "source": [
    "# Training"
   ]
  },
  {
   "cell_type": "code",
   "execution_count": 11,
   "id": "31f31ed7",
   "metadata": {
    "execution": {
     "iopub.execute_input": "2024-12-16T11:39:28.383205Z",
     "iopub.status.busy": "2024-12-16T11:39:28.382811Z",
     "iopub.status.idle": "2024-12-16T11:39:31.321923Z",
     "shell.execute_reply": "2024-12-16T11:39:31.320879Z"
    },
    "papermill": {
     "duration": 2.956024,
     "end_time": "2024-12-16T11:39:31.324459",
     "exception": false,
     "start_time": "2024-12-16T11:39:28.368435",
     "status": "completed"
    },
    "tags": []
   },
   "outputs": [
    {
     "name": "stdout",
     "output_type": "stream",
     "text": [
      "Warning: 141 (0.39 %) of 35736 users have no sampled items\n",
      "EvaluatorHoldout: Ignoring 141 ( 0.4%) Users that have less than 1 test interactions\n"
     ]
    }
   ],
   "source": [
    "from Evaluation.Evaluator import EvaluatorHoldout\n",
    "from Data_manager.split_functions.split_train_validation_random_holdout import split_train_in_two_percentage_global_sample\n",
    "\n",
    "URM_train, URM_validation = split_train_in_two_percentage_global_sample(URM_all, train_percentage = 0.80)\n",
    "\n",
    "evaluator_validation = EvaluatorHoldout(URM_validation, cutoff_list=[50])"
   ]
  },
  {
   "cell_type": "code",
   "execution_count": 12,
   "id": "49c4a11b",
   "metadata": {
    "execution": {
     "iopub.execute_input": "2024-12-16T11:39:31.352795Z",
     "iopub.status.busy": "2024-12-16T11:39:31.352355Z",
     "iopub.status.idle": "2024-12-16T11:39:32.312900Z",
     "shell.execute_reply": "2024-12-16T11:39:32.311725Z"
    },
    "papermill": {
     "duration": 0.977587,
     "end_time": "2024-12-16T11:39:32.315569",
     "exception": false,
     "start_time": "2024-12-16T11:39:31.337982",
     "status": "completed"
    },
    "tags": []
   },
   "outputs": [],
   "source": [
    "from Recommenders.GraphBased.RP3betaRecommender import RP3betaRecommender\n",
    "\n",
    "def objective_function_RP3beta(optuna_trial):\n",
    "    \n",
    "    recommender_instance = RP3betaRecommender(URM_train)\n",
    "    \n",
    "    full_hyperp = {\n",
    "                    \"topK\": optuna_trial.suggest_int(\"topK\", 0, 1500),\n",
    "                   \"alpha\": optuna_trial.suggest_float(\"alpha\", 0, 3, log=False),\n",
    "                   \"beta\": optuna_trial.suggest_float(\"beta\", 0, 3, log=False),\n",
    "                   \"normalize_similarity\": optuna_trial.suggest_categorical(\"normalize_similarity\", [True, False]),\n",
    "                   \"implicit\": optuna_trial.suggest_categorical(\"implicit\", [True, False]),\n",
    "                  }        \n",
    "    \n",
    "    recommender_instance.fit(**full_hyperp)\n",
    "    \n",
    "    result_df, _ = evaluator_validation.evaluateRecommender(recommender_instance)\n",
    "    \n",
    "    return result_df.loc[50][\"RECALL\"]"
   ]
  },
  {
   "cell_type": "code",
   "execution_count": 13,
   "id": "4f145b4e",
   "metadata": {
    "_kg_hide-output": true,
    "execution": {
     "iopub.execute_input": "2024-12-16T11:39:32.344897Z",
     "iopub.status.busy": "2024-12-16T11:39:32.344248Z",
     "iopub.status.idle": "2024-12-16T15:24:20.279323Z",
     "shell.execute_reply": "2024-12-16T15:24:20.277789Z"
    },
    "papermill": {
     "duration": 13487.954148,
     "end_time": "2024-12-16T15:24:20.283439",
     "exception": false,
     "start_time": "2024-12-16T11:39:32.329291",
     "status": "completed"
    },
    "tags": []
   },
   "outputs": [
    {
     "name": "stderr",
     "output_type": "stream",
     "text": [
      "[I 2024-12-16 11:39:34,042] Using an existing study with name 'hyperparameters_tuning_RP3beta_Recall' instead of creating a new one.\n"
     ]
    },
    {
     "name": "stdout",
     "output_type": "stream",
     "text": [
      "RP3betaRecommender: Similarity column 38121 (100.0%), 1492.01 column/sec. Elapsed time 25.55 sec\n",
      "EvaluatorHoldout: Processed 35595 (100.0%) in 40.37 sec. Users per second: 882\n"
     ]
    },
    {
     "name": "stderr",
     "output_type": "stream",
     "text": [
      "[I 2024-12-16 11:40:47,296] Trial 200 finished with value: 0.2686843429637316 and parameters: {'topK': 182, 'alpha': 0.2953779786188043, 'beta': 0.18832334471109052, 'normalize_similarity': True, 'implicit': True}. Best is trial 191 with value: 0.2757505849868378.\n"
     ]
    },
    {
     "name": "stdout",
     "output_type": "stream",
     "text": [
      "RP3betaRecommender: Similarity column 38121 (100.0%), 1933.46 column/sec. Elapsed time 19.72 sec\n",
      "EvaluatorHoldout: Processed 35595 (100.0%) in 36.01 sec. Users per second: 988\n"
     ]
    },
    {
     "name": "stderr",
     "output_type": "stream",
     "text": [
      "[I 2024-12-16 11:41:45,984] Trial 201 finished with value: 0.2741042611487529 and parameters: {'topK': 64, 'alpha': 0.2012752847668596, 'beta': 0.24098778189841347, 'normalize_similarity': True, 'implicit': True}. Best is trial 191 with value: 0.2757505849868378.\n"
     ]
    },
    {
     "name": "stdout",
     "output_type": "stream",
     "text": [
      "RP3betaRecommender: Similarity column 38121 (100.0%), 2036.64 column/sec. Elapsed time 18.72 sec\n",
      "EvaluatorHoldout: Processed 35595 (100.0%) in 36.07 sec. Users per second: 987\n"
     ]
    },
    {
     "name": "stderr",
     "output_type": "stream",
     "text": [
      "[I 2024-12-16 11:42:43,176] Trial 202 finished with value: 0.24118295110972612 and parameters: {'topK': 40, 'alpha': 1.4675529234618665, 'beta': 0.31856477131052263, 'normalize_similarity': True, 'implicit': True}. Best is trial 191 with value: 0.2757505849868378.\n"
     ]
    },
    {
     "name": "stdout",
     "output_type": "stream",
     "text": [
      "RP3betaRecommender: Similarity column 38121 (100.0%), 1834.80 column/sec. Elapsed time 20.78 sec\n",
      "EvaluatorHoldout: Processed 35595 (100.0%) in 36.85 sec. Users per second: 966\n"
     ]
    },
    {
     "name": "stderr",
     "output_type": "stream",
     "text": [
      "[I 2024-12-16 11:43:44,440] Trial 203 finished with value: 0.27482340014829965 and parameters: {'topK': 81, 'alpha': 0.35015033660640954, 'beta': 0.2110366105721394, 'normalize_similarity': True, 'implicit': True}. Best is trial 191 with value: 0.2757505849868378.\n"
     ]
    },
    {
     "name": "stdout",
     "output_type": "stream",
     "text": [
      "RP3betaRecommender: Similarity column 38121 (100.0%), 1700.14 column/sec. Elapsed time 22.42 sec\n",
      "EvaluatorHoldout: Processed 35595 (100.0%) in 37.71 sec. Users per second: 944\n"
     ]
    },
    {
     "name": "stderr",
     "output_type": "stream",
     "text": [
      "[I 2024-12-16 11:44:49,294] Trial 204 finished with value: 0.2733801485038014 and parameters: {'topK': 114, 'alpha': 0.36161634078019417, 'beta': 0.1779057305063055, 'normalize_similarity': True, 'implicit': True}. Best is trial 191 with value: 0.2757505849868378.\n"
     ]
    },
    {
     "name": "stdout",
     "output_type": "stream",
     "text": [
      "RP3betaRecommender: Similarity column 38121 (100.0%), 1832.13 column/sec. Elapsed time 20.81 sec\n",
      "EvaluatorHoldout: Processed 35595 (100.0%) in 37.57 sec. Users per second: 947\n"
     ]
    },
    {
     "name": "stderr",
     "output_type": "stream",
     "text": [
      "[I 2024-12-16 11:45:51,582] Trial 205 finished with value: 0.2750876377212433 and parameters: {'topK': 83, 'alpha': 0.4442371425505861, 'beta': 0.2628698304738597, 'normalize_similarity': True, 'implicit': True}. Best is trial 191 with value: 0.2757505849868378.\n"
     ]
    },
    {
     "name": "stdout",
     "output_type": "stream",
     "text": [
      "RP3betaRecommender: Similarity column 38121 (100.0%), 1968.22 column/sec. Elapsed time 19.37 sec\n",
      "EvaluatorHoldout: Processed 35595 (100.0%) in 36.16 sec. Users per second: 984\n"
     ]
    },
    {
     "name": "stderr",
     "output_type": "stream",
     "text": [
      "[I 2024-12-16 11:46:50,086] Trial 206 finished with value: 0.2750192523180676 and parameters: {'topK': 56, 'alpha': 0.4211390798282728, 'beta': 0.28141537313767445, 'normalize_similarity': True, 'implicit': True}. Best is trial 191 with value: 0.2757505849868378.\n"
     ]
    },
    {
     "name": "stdout",
     "output_type": "stream",
     "text": [
      "RP3betaRecommender: Similarity column 38121 (100.0%), 2922.71 column/sec. Elapsed time 13.04 sec\n",
      "EvaluatorHoldout: Processed 35595 (100.0%) in 26.66 sec. Users per second: 1335\n"
     ]
    },
    {
     "name": "stderr",
     "output_type": "stream",
     "text": [
      "[I 2024-12-16 11:47:30,110] Trial 207 finished with value: 0.005972113065949917 and parameters: {'topK': 0, 'alpha': 0.5010370022098672, 'beta': 0.37795134315012696, 'normalize_similarity': True, 'implicit': True}. Best is trial 191 with value: 0.2757505849868378.\n"
     ]
    },
    {
     "name": "stdout",
     "output_type": "stream",
     "text": [
      "RP3betaRecommender: Similarity column 38121 (100.0%), 2013.86 column/sec. Elapsed time 18.93 sec\n",
      "EvaluatorHoldout: Processed 35595 (100.0%) in 36.08 sec. Users per second: 987\n"
     ]
    },
    {
     "name": "stderr",
     "output_type": "stream",
     "text": [
      "[I 2024-12-16 11:48:27,771] Trial 208 finished with value: 0.27413010997702686 and parameters: {'topK': 50, 'alpha': 0.42271901845478915, 'beta': 0.3107299876874558, 'normalize_similarity': True, 'implicit': True}. Best is trial 191 with value: 0.2757505849868378.\n"
     ]
    },
    {
     "name": "stdout",
     "output_type": "stream",
     "text": [
      "RP3betaRecommender: Similarity column 38121 (100.0%), 2121.24 column/sec. Elapsed time 17.97 sec\n",
      "EvaluatorHoldout: Processed 35595 (100.0%) in 34.77 sec. Users per second: 1024\n"
     ]
    },
    {
     "name": "stderr",
     "output_type": "stream",
     "text": [
      "[I 2024-12-16 11:49:22,300] Trial 209 finished with value: 0.26523994414715607 and parameters: {'topK': 27, 'alpha': 0.5695906848612715, 'beta': 0.273044415087468, 'normalize_similarity': False, 'implicit': True}. Best is trial 191 with value: 0.2757505849868378.\n"
     ]
    },
    {
     "name": "stdout",
     "output_type": "stream",
     "text": [
      "RP3betaRecommender: Similarity column 38121 (100.0%), 1925.74 column/sec. Elapsed time 19.80 sec\n",
      "EvaluatorHoldout: Processed 35595 (100.0%) in 35.97 sec. Users per second: 990\n"
     ]
    },
    {
     "name": "stderr",
     "output_type": "stream",
     "text": [
      "[I 2024-12-16 11:50:20,985] Trial 210 finished with value: 0.2734267890467883 and parameters: {'topK': 67, 'alpha': 0.38358121492441744, 'beta': 0.13167623315758312, 'normalize_similarity': True, 'implicit': True}. Best is trial 191 with value: 0.2757505849868378.\n"
     ]
    },
    {
     "name": "stdout",
     "output_type": "stream",
     "text": [
      "RP3betaRecommender: Similarity column 38121 (100.0%), 1819.47 column/sec. Elapsed time 20.95 sec\n",
      "EvaluatorHoldout: Processed 35595 (100.0%) in 38.01 sec. Users per second: 936\n"
     ]
    },
    {
     "name": "stderr",
     "output_type": "stream",
     "text": [
      "[I 2024-12-16 11:51:24,038] Trial 211 finished with value: 0.2749694804608138 and parameters: {'topK': 88, 'alpha': 0.4580944085594427, 'beta': 0.25854453596287247, 'normalize_similarity': True, 'implicit': True}. Best is trial 191 with value: 0.2757505849868378.\n"
     ]
    },
    {
     "name": "stdout",
     "output_type": "stream",
     "text": [
      "RP3betaRecommender: Similarity column 38121 (100.0%), 1665.64 column/sec. Elapsed time 22.89 sec\n",
      "EvaluatorHoldout: Processed 35595 (100.0%) in 39.34 sec. Users per second: 905\n"
     ]
    },
    {
     "name": "stderr",
     "output_type": "stream",
     "text": [
      "[I 2024-12-16 11:52:31,844] Trial 212 finished with value: 0.2724527950337419 and parameters: {'topK': 123, 'alpha': 0.47281877136259115, 'beta': 0.3261427153522195, 'normalize_similarity': True, 'implicit': True}. Best is trial 191 with value: 0.2757505849868378.\n"
     ]
    },
    {
     "name": "stdout",
     "output_type": "stream",
     "text": [
      "RP3betaRecommender: Similarity column 38121 (100.0%), 1862.35 column/sec. Elapsed time 20.47 sec\n",
      "EvaluatorHoldout: Processed 35595 (100.0%) in 37.40 sec. Users per second: 952\n"
     ]
    },
    {
     "name": "stderr",
     "output_type": "stream",
     "text": [
      "[I 2024-12-16 11:53:33,441] Trial 213 finished with value: 0.2754640946763541 and parameters: {'topK': 77, 'alpha': 0.41372921724155454, 'beta': 0.271266652289718, 'normalize_similarity': True, 'implicit': True}. Best is trial 191 with value: 0.2757505849868378.\n"
     ]
    },
    {
     "name": "stdout",
     "output_type": "stream",
     "text": [
      "RP3betaRecommender: Similarity column 38121 (100.0%), 1805.81 column/sec. Elapsed time 21.11 sec\n",
      "EvaluatorHoldout: Processed 35595 (100.0%) in 38.10 sec. Users per second: 934\n"
     ]
    },
    {
     "name": "stderr",
     "output_type": "stream",
     "text": [
      "[I 2024-12-16 11:54:37,024] Trial 214 finished with value: 0.2706748046487466 and parameters: {'topK': 86, 'alpha': 0.29400808720090355, 'beta': 0.417377719048977, 'normalize_similarity': True, 'implicit': True}. Best is trial 191 with value: 0.2757505849868378.\n"
     ]
    },
    {
     "name": "stdout",
     "output_type": "stream",
     "text": [
      "RP3betaRecommender: Similarity column 38121 (100.0%), 2043.09 column/sec. Elapsed time 18.66 sec\n",
      "EvaluatorHoldout: Processed 35595 (100.0%) in 35.51 sec. Users per second: 1002\n"
     ]
    },
    {
     "name": "stderr",
     "output_type": "stream",
     "text": [
      "[I 2024-12-16 11:55:33,501] Trial 215 finished with value: 0.2735443662208049 and parameters: {'topK': 41, 'alpha': 0.3891397329269022, 'beta': 0.27812818786519, 'normalize_similarity': True, 'implicit': True}. Best is trial 191 with value: 0.2757505849868378.\n"
     ]
    },
    {
     "name": "stdout",
     "output_type": "stream",
     "text": [
      "RP3betaRecommender: Similarity column 38121 (100.0%), 1704.95 column/sec. Elapsed time 22.36 sec\n",
      "EvaluatorHoldout: Processed 35595 (100.0%) in 39.21 sec. Users per second: 908\n"
     ]
    },
    {
     "name": "stderr",
     "output_type": "stream",
     "text": [
      "[I 2024-12-16 11:56:40,595] Trial 216 finished with value: 0.27179198166447704 and parameters: {'topK': 116, 'alpha': 0.5304972576327293, 'beta': 0.36457536038833993, 'normalize_similarity': True, 'implicit': True}. Best is trial 191 with value: 0.2757505849868378.\n"
     ]
    },
    {
     "name": "stdout",
     "output_type": "stream",
     "text": [
      "RP3betaRecommender: Similarity column 38121 (100.0%), 1586.02 column/sec. Elapsed time 24.04 sec\n",
      "EvaluatorHoldout: Processed 35595 (100.0%) in 39.16 sec. Users per second: 909\n"
     ]
    },
    {
     "name": "stderr",
     "output_type": "stream",
     "text": [
      "[I 2024-12-16 11:57:50,015] Trial 217 finished with value: 0.27171747002253527 and parameters: {'topK': 148, 'alpha': 0.33602661432368663, 'beta': 0.26488571937504235, 'normalize_similarity': True, 'implicit': True}. Best is trial 191 with value: 0.2757505849868378.\n"
     ]
    },
    {
     "name": "stdout",
     "output_type": "stream",
     "text": [
      "RP3betaRecommender: Similarity column 38121 (100.0%), 1868.49 column/sec. Elapsed time 20.40 sec\n",
      "EvaluatorHoldout: Processed 35595 (100.0%) in 35.91 sec. Users per second: 991\n"
     ]
    },
    {
     "name": "stderr",
     "output_type": "stream",
     "text": [
      "[I 2024-12-16 11:58:49,124] Trial 218 finished with value: 0.11434884470121537 and parameters: {'topK': 77, 'alpha': 0.4126826484651065, 'beta': 1.5551426151279064, 'normalize_similarity': True, 'implicit': True}. Best is trial 191 with value: 0.2757505849868378.\n"
     ]
    },
    {
     "name": "stdout",
     "output_type": "stream",
     "text": [
      "RP3betaRecommender: Similarity column 38121 (100.0%), 1985.32 column/sec. Elapsed time 19.20 sec\n",
      "EvaluatorHoldout: Processed 35595 (100.0%) in 35.34 sec. Users per second: 1007\n"
     ]
    },
    {
     "name": "stderr",
     "output_type": "stream",
     "text": [
      "[I 2024-12-16 11:59:46,125] Trial 219 finished with value: 0.27369772369817263 and parameters: {'topK': 52, 'alpha': 0.2637722892318164, 'beta': 0.16935735872089824, 'normalize_similarity': True, 'implicit': True}. Best is trial 191 with value: 0.2757505849868378.\n"
     ]
    },
    {
     "name": "stdout",
     "output_type": "stream",
     "text": [
      "RP3betaRecommender: Similarity column 38121 (100.0%), 2107.53 column/sec. Elapsed time 18.09 sec\n",
      "EvaluatorHoldout: Processed 35595 (100.0%) in 34.64 sec. Users per second: 1027\n"
     ]
    },
    {
     "name": "stderr",
     "output_type": "stream",
     "text": [
      "[I 2024-12-16 12:00:40,842] Trial 220 finished with value: 0.26987829735766805 and parameters: {'topK': 26, 'alpha': 0.3507023943103727, 'beta': 0.3271207803549791, 'normalize_similarity': True, 'implicit': False}. Best is trial 191 with value: 0.2757505849868378.\n"
     ]
    },
    {
     "name": "stdout",
     "output_type": "stream",
     "text": [
      "RP3betaRecommender: Similarity column 38121 (100.0%), 1865.79 column/sec. Elapsed time 20.43 sec\n",
      "EvaluatorHoldout: Processed 35595 (100.0%) in 36.88 sec. Users per second: 965\n"
     ]
    },
    {
     "name": "stderr",
     "output_type": "stream",
     "text": [
      "[I 2024-12-16 12:01:41,693] Trial 221 finished with value: 0.27458556438589204 and parameters: {'topK': 77, 'alpha': 0.4611811178587126, 'beta': 0.21295240177526745, 'normalize_similarity': True, 'implicit': True}. Best is trial 191 with value: 0.2757505849868378.\n"
     ]
    },
    {
     "name": "stdout",
     "output_type": "stream",
     "text": [
      "RP3betaRecommender: Similarity column 38121 (100.0%), 518.72 column/sec. Elapsed time 1.22 min\n",
      "EvaluatorHoldout: Processed 35595 (100.0%) in 59.15 sec. Users per second: 602\n"
     ]
    },
    {
     "name": "stderr",
     "output_type": "stream",
     "text": [
      "[I 2024-12-16 12:04:40,441] Trial 222 finished with value: 0.2503221830650957 and parameters: {'topK': 1231, 'alpha': 0.43945762152825824, 'beta': 0.24788349979597338, 'normalize_similarity': True, 'implicit': True}. Best is trial 191 with value: 0.2757505849868378.\n"
     ]
    },
    {
     "name": "stdout",
     "output_type": "stream",
     "text": [
      "RP3betaRecommender: Similarity column 38121 (100.0%), 1793.88 column/sec. Elapsed time 21.25 sec\n",
      "EvaluatorHoldout: Processed 35595 (100.0%) in 37.78 sec. Users per second: 942\n"
     ]
    },
    {
     "name": "stderr",
     "output_type": "stream",
     "text": [
      "[I 2024-12-16 12:05:43,716] Trial 223 finished with value: 0.2737265000320481 and parameters: {'topK': 97, 'alpha': 0.5206841558183177, 'beta': 0.1847178436974315, 'normalize_similarity': True, 'implicit': True}. Best is trial 191 with value: 0.2757505849868378.\n"
     ]
    },
    {
     "name": "stdout",
     "output_type": "stream",
     "text": [
      "RP3betaRecommender: Similarity column 38121 (100.0%), 1919.81 column/sec. Elapsed time 19.86 sec\n",
      "EvaluatorHoldout: Processed 35595 (100.0%) in 35.55 sec. Users per second: 1001\n"
     ]
    },
    {
     "name": "stderr",
     "output_type": "stream",
     "text": [
      "[I 2024-12-16 12:06:41,772] Trial 224 finished with value: 0.2727443926065065 and parameters: {'topK': 60, 'alpha': 0.390906602849746, 'beta': 0.10619920533706614, 'normalize_similarity': True, 'implicit': True}. Best is trial 191 with value: 0.2757505849868378.\n"
     ]
    },
    {
     "name": "stdout",
     "output_type": "stream",
     "text": [
      "RP3betaRecommender: Similarity column 38121 (100.0%), 1721.62 column/sec. Elapsed time 22.14 sec\n",
      "EvaluatorHoldout: Processed 35595 (100.0%) in 38.74 sec. Users per second: 919\n"
     ]
    },
    {
     "name": "stderr",
     "output_type": "stream",
     "text": [
      "[I 2024-12-16 12:07:47,761] Trial 225 finished with value: 0.2737970533244468 and parameters: {'topK': 113, 'alpha': 0.46936507691968543, 'beta': 0.2869903008084499, 'normalize_similarity': True, 'implicit': True}. Best is trial 191 with value: 0.2757505849868378.\n"
     ]
    },
    {
     "name": "stdout",
     "output_type": "stream",
     "text": [
      "RP3betaRecommender: Similarity column 38121 (100.0%), 1985.25 column/sec. Elapsed time 19.20 sec\n",
      "EvaluatorHoldout: Processed 35595 (100.0%) in 35.65 sec. Users per second: 999\n"
     ]
    },
    {
     "name": "stderr",
     "output_type": "stream",
     "text": [
      "[I 2024-12-16 12:08:45,213] Trial 226 finished with value: 0.2746367953443241 and parameters: {'topK': 53, 'alpha': 0.29521889328272277, 'beta': 0.21990972471982004, 'normalize_similarity': True, 'implicit': True}. Best is trial 191 with value: 0.2757505849868378.\n"
     ]
    },
    {
     "name": "stdout",
     "output_type": "stream",
     "text": [
      "RP3betaRecommender: Similarity column 38121 (100.0%), 1858.36 column/sec. Elapsed time 20.51 sec\n",
      "EvaluatorHoldout: Processed 35595 (100.0%) in 36.64 sec. Users per second: 972\n"
     ]
    },
    {
     "name": "stderr",
     "output_type": "stream",
     "text": [
      "[I 2024-12-16 12:09:45,753] Trial 227 finished with value: 0.27390820320379533 and parameters: {'topK': 79, 'alpha': 0.3609509494126853, 'beta': 0.1334148852090385, 'normalize_similarity': True, 'implicit': True}. Best is trial 191 with value: 0.2757505849868378.\n"
     ]
    },
    {
     "name": "stdout",
     "output_type": "stream",
     "text": [
      "RP3betaRecommender: Similarity column 38121 (100.0%), 2104.40 column/sec. Elapsed time 18.11 sec\n",
      "EvaluatorHoldout: Processed 35595 (100.0%) in 34.70 sec. Users per second: 1026\n"
     ]
    },
    {
     "name": "stderr",
     "output_type": "stream",
     "text": [
      "[I 2024-12-16 12:10:40,299] Trial 228 finished with value: 0.19877732297514383 and parameters: {'topK': 27, 'alpha': 0.421244749296922, 'beta': 0.9182051938642128, 'normalize_similarity': True, 'implicit': True}. Best is trial 191 with value: 0.2757505849868378.\n"
     ]
    },
    {
     "name": "stdout",
     "output_type": "stream",
     "text": [
      "RP3betaRecommender: Similarity column 38121 (100.0%), 1622.13 column/sec. Elapsed time 23.50 sec\n",
      "EvaluatorHoldout: Processed 35595 (100.0%) in 39.10 sec. Users per second: 910\n"
     ]
    },
    {
     "name": "stderr",
     "output_type": "stream",
     "text": [
      "[I 2024-12-16 12:11:48,817] Trial 229 finished with value: 0.2694489141953489 and parameters: {'topK': 137, 'alpha': 0.22032774080088607, 'beta': 0.33117191364573767, 'normalize_similarity': True, 'implicit': True}. Best is trial 191 with value: 0.2757505849868378.\n"
     ]
    },
    {
     "name": "stdout",
     "output_type": "stream",
     "text": [
      "RP3betaRecommender: Similarity column 38121 (100.0%), 1764.53 column/sec. Elapsed time 21.60 sec\n",
      "EvaluatorHoldout: Processed 35595 (100.0%) in 38.20 sec. Users per second: 932\n"
     ]
    },
    {
     "name": "stderr",
     "output_type": "stream",
     "text": [
      "[I 2024-12-16 12:12:53,391] Trial 230 finished with value: 0.27396816727279955 and parameters: {'topK': 105, 'alpha': 0.5389232311280961, 'beta': 0.25277417904369387, 'normalize_similarity': True, 'implicit': True}. Best is trial 191 with value: 0.2757505849868378.\n"
     ]
    },
    {
     "name": "stdout",
     "output_type": "stream",
     "text": [
      "RP3betaRecommender: Similarity column 38121 (100.0%), 1805.45 column/sec. Elapsed time 21.11 sec\n",
      "EvaluatorHoldout: Processed 35595 (100.0%) in 37.19 sec. Users per second: 957\n"
     ]
    },
    {
     "name": "stderr",
     "output_type": "stream",
     "text": [
      "[I 2024-12-16 12:13:55,579] Trial 231 finished with value: 0.27493781127290534 and parameters: {'topK': 88, 'alpha': 0.4503043464847132, 'beta': 0.20666821201019395, 'normalize_similarity': True, 'implicit': True}. Best is trial 191 with value: 0.2757505849868378.\n"
     ]
    },
    {
     "name": "stdout",
     "output_type": "stream",
     "text": [
      "RP3betaRecommender: Similarity column 38121 (100.0%), 462.09 column/sec. Elapsed time 1.37 min\n",
      "EvaluatorHoldout: Processed 35595 (100.0%) in 1.02 min. Users per second: 583\n"
     ]
    },
    {
     "name": "stderr",
     "output_type": "stream",
     "text": [
      "[I 2024-12-16 12:17:12,418] Trial 232 finished with value: 0.24200367394915237 and parameters: {'topK': 1498, 'alpha': 0.3467239013782281, 'beta': 0.18572741687521754, 'normalize_similarity': True, 'implicit': True}. Best is trial 191 with value: 0.2757505849868378.\n"
     ]
    },
    {
     "name": "stdout",
     "output_type": "stream",
     "text": [
      "RP3betaRecommender: Similarity column 38121 (100.0%), 1924.64 column/sec. Elapsed time 19.81 sec\n",
      "EvaluatorHoldout: Processed 35595 (100.0%) in 37.26 sec. Users per second: 955\n"
     ]
    },
    {
     "name": "stderr",
     "output_type": "stream",
     "text": [
      "[I 2024-12-16 12:18:12,943] Trial 233 finished with value: 0.27479292688839785 and parameters: {'topK': 71, 'alpha': 0.4635744285506048, 'beta': 0.25354029518594334, 'normalize_similarity': True, 'implicit': True}. Best is trial 191 with value: 0.2757505849868378.\n"
     ]
    },
    {
     "name": "stdout",
     "output_type": "stream",
     "text": [
      "RP3betaRecommender: Similarity column 38121 (100.0%), 1843.22 column/sec. Elapsed time 20.68 sec\n",
      "EvaluatorHoldout: Processed 35595 (100.0%) in 37.83 sec. Users per second: 941\n"
     ]
    },
    {
     "name": "stderr",
     "output_type": "stream",
     "text": [
      "[I 2024-12-16 12:19:15,474] Trial 234 finished with value: 0.2726740463983271 and parameters: {'topK': 84, 'alpha': 0.6397647515045298, 'beta': 0.27433980003091407, 'normalize_similarity': True, 'implicit': True}. Best is trial 191 with value: 0.2757505849868378.\n"
     ]
    },
    {
     "name": "stdout",
     "output_type": "stream",
     "text": [
      "RP3betaRecommender: Similarity column 38121 (100.0%), 1968.16 column/sec. Elapsed time 19.37 sec\n",
      "EvaluatorHoldout: Processed 35595 (100.0%) in 36.87 sec. Users per second: 965\n"
     ]
    },
    {
     "name": "stderr",
     "output_type": "stream",
     "text": [
      "[I 2024-12-16 12:20:14,793] Trial 235 finished with value: 0.27297930242429397 and parameters: {'topK': 57, 'alpha': 0.41079212096198614, 'beta': 0.39608836512467643, 'normalize_similarity': True, 'implicit': True}. Best is trial 191 with value: 0.2757505849868378.\n"
     ]
    },
    {
     "name": "stdout",
     "output_type": "stream",
     "text": [
      "RP3betaRecommender: Similarity column 38121 (100.0%), 1703.27 column/sec. Elapsed time 22.38 sec\n",
      "EvaluatorHoldout: Processed 35595 (100.0%) in 38.81 sec. Users per second: 917\n"
     ]
    },
    {
     "name": "stderr",
     "output_type": "stream",
     "text": [
      "[I 2024-12-16 12:21:21,304] Trial 236 finished with value: 0.27205446411362216 and parameters: {'topK': 119, 'alpha': 0.2914414413878901, 'beta': 0.32176074870156834, 'normalize_similarity': True, 'implicit': True}. Best is trial 191 with value: 0.2757505849868378.\n"
     ]
    },
    {
     "name": "stdout",
     "output_type": "stream",
     "text": [
      "RP3betaRecommender: Similarity column 38121 (100.0%), 2084.19 column/sec. Elapsed time 18.29 sec\n",
      "EvaluatorHoldout: Processed 35595 (100.0%) in 35.00 sec. Users per second: 1017\n"
     ]
    },
    {
     "name": "stderr",
     "output_type": "stream",
     "text": [
      "[I 2024-12-16 12:22:16,468] Trial 237 finished with value: 0.2696731422092676 and parameters: {'topK': 29, 'alpha': 0.4858459346659234, 'beta': 0.24016435159224048, 'normalize_similarity': True, 'implicit': True}. Best is trial 191 with value: 0.2757505849868378.\n"
     ]
    },
    {
     "name": "stdout",
     "output_type": "stream",
     "text": [
      "RP3betaRecommender: Similarity column 38121 (100.0%), 1790.69 column/sec. Elapsed time 21.29 sec\n",
      "EvaluatorHoldout: Processed 35595 (100.0%) in 36.93 sec. Users per second: 964\n"
     ]
    },
    {
     "name": "stderr",
     "output_type": "stream",
     "text": [
      "[I 2024-12-16 12:23:18,372] Trial 238 finished with value: 0.2732934776628971 and parameters: {'topK': 90, 'alpha': 0.3604929517281317, 'beta': 0.12758361781569544, 'normalize_similarity': True, 'implicit': True}. Best is trial 191 with value: 0.2757505849868378.\n"
     ]
    },
    {
     "name": "stdout",
     "output_type": "stream",
     "text": [
      "RP3betaRecommender: Similarity column 38121 (100.0%), 2897.19 column/sec. Elapsed time 13.16 sec\n",
      "EvaluatorHoldout: Processed 35595 (100.0%) in 28.88 sec. Users per second: 1233\n"
     ]
    },
    {
     "name": "stderr",
     "output_type": "stream",
     "text": [
      "[I 2024-12-16 12:24:01,257] Trial 239 finished with value: 0.08341195967179187 and parameters: {'topK': 1, 'alpha': 0.4224048689887181, 'beta': 0.17339772842931742, 'normalize_similarity': True, 'implicit': True}. Best is trial 191 with value: 0.2757505849868378.\n"
     ]
    },
    {
     "name": "stdout",
     "output_type": "stream",
     "text": [
      "RP3betaRecommender: Similarity column 38121 (100.0%), 1954.70 column/sec. Elapsed time 19.50 sec\n",
      "EvaluatorHoldout: Processed 35595 (100.0%) in 36.63 sec. Users per second: 972\n"
     ]
    },
    {
     "name": "stderr",
     "output_type": "stream",
     "text": [
      "[I 2024-12-16 12:25:00,623] Trial 240 finished with value: 0.2751984084036107 and parameters: {'topK': 64, 'alpha': 0.28050353771417136, 'beta': 0.29513228496334604, 'normalize_similarity': True, 'implicit': True}. Best is trial 191 with value: 0.2757505849868378.\n"
     ]
    },
    {
     "name": "stdout",
     "output_type": "stream",
     "text": [
      "RP3betaRecommender: Similarity column 38121 (100.0%), 1983.09 column/sec. Elapsed time 19.22 sec\n",
      "EvaluatorHoldout: Processed 35595 (100.0%) in 36.09 sec. Users per second: 986\n"
     ]
    },
    {
     "name": "stderr",
     "output_type": "stream",
     "text": [
      "[I 2024-12-16 12:25:58,722] Trial 241 finished with value: 0.27509007684831016 and parameters: {'topK': 55, 'alpha': 0.30014108135452583, 'beta': 0.2818350206268838, 'normalize_similarity': True, 'implicit': True}. Best is trial 191 with value: 0.2757505849868378.\n"
     ]
    },
    {
     "name": "stdout",
     "output_type": "stream",
     "text": [
      "RP3betaRecommender: Similarity column 38121 (100.0%), 2011.67 column/sec. Elapsed time 18.95 sec\n",
      "EvaluatorHoldout: Processed 35595 (100.0%) in 36.05 sec. Users per second: 987\n"
     ]
    },
    {
     "name": "stderr",
     "output_type": "stream",
     "text": [
      "[I 2024-12-16 12:26:56,283] Trial 242 finished with value: 0.27476654650576743 and parameters: {'topK': 48, 'alpha': 0.31370014149350095, 'beta': 0.2985410003496996, 'normalize_similarity': True, 'implicit': True}. Best is trial 191 with value: 0.2757505849868378.\n"
     ]
    },
    {
     "name": "stdout",
     "output_type": "stream",
     "text": [
      "RP3betaRecommender: Similarity column 38121 (100.0%), 1973.15 column/sec. Elapsed time 19.32 sec\n",
      "EvaluatorHoldout: Processed 35595 (100.0%) in 45.83 sec. Users per second: 777\n"
     ]
    },
    {
     "name": "stderr",
     "output_type": "stream",
     "text": [
      "[I 2024-12-16 12:28:05,032] Trial 243 finished with value: 0.2740987493195192 and parameters: {'topK': 48, 'alpha': 0.30650780877052175, 'beta': 0.36192292739345633, 'normalize_similarity': True, 'implicit': True}. Best is trial 191 with value: 0.2757505849868378.\n"
     ]
    },
    {
     "name": "stdout",
     "output_type": "stream",
     "text": [
      "RP3betaRecommender: Similarity column 38121 (100.0%), 2029.59 column/sec. Elapsed time 18.78 sec\n",
      "EvaluatorHoldout: Processed 35595 (100.0%) in 36.41 sec. Users per second: 978\n"
     ]
    },
    {
     "name": "stderr",
     "output_type": "stream",
     "text": [
      "[I 2024-12-16 12:29:02,599] Trial 244 finished with value: 0.27424481287461133 and parameters: {'topK': 42, 'alpha': 0.329490335415522, 'beta': 0.2986988396474507, 'normalize_similarity': True, 'implicit': True}. Best is trial 191 with value: 0.2757505849868378.\n"
     ]
    },
    {
     "name": "stdout",
     "output_type": "stream",
     "text": [
      "RP3betaRecommender: Similarity column 38121 (100.0%), 1926.32 column/sec. Elapsed time 19.79 sec\n",
      "EvaluatorHoldout: Processed 35595 (100.0%) in 36.86 sec. Users per second: 966\n"
     ]
    },
    {
     "name": "stderr",
     "output_type": "stream",
     "text": [
      "[I 2024-12-16 12:30:02,090] Trial 245 finished with value: 0.2737006632106184 and parameters: {'topK': 56, 'alpha': 0.17216317553480032, 'beta': 0.30111201334369564, 'normalize_similarity': True, 'implicit': True}. Best is trial 191 with value: 0.2757505849868378.\n"
     ]
    },
    {
     "name": "stdout",
     "output_type": "stream",
     "text": [
      "RP3betaRecommender: Similarity column 38121 (100.0%), 2109.65 column/sec. Elapsed time 18.07 sec\n",
      "EvaluatorHoldout: Processed 35595 (100.0%) in 35.80 sec. Users per second: 994\n"
     ]
    },
    {
     "name": "stderr",
     "output_type": "stream",
     "text": [
      "[I 2024-12-16 12:30:57,626] Trial 246 finished with value: 0.2660954308312873 and parameters: {'topK': 22, 'alpha': 0.26897790885755, 'beta': 0.39615732570542733, 'normalize_similarity': True, 'implicit': True}. Best is trial 191 with value: 0.2757505849868378.\n"
     ]
    },
    {
     "name": "stdout",
     "output_type": "stream",
     "text": [
      "RP3betaRecommender: Similarity column 38121 (100.0%), 1742.06 column/sec. Elapsed time 21.88 sec\n",
      "EvaluatorHoldout: Processed 35595 (100.0%) in 38.90 sec. Users per second: 915\n"
     ]
    },
    {
     "name": "stderr",
     "output_type": "stream",
     "text": [
      "[I 2024-12-16 12:32:03,074] Trial 247 finished with value: 0.2741140256124905 and parameters: {'topK': 103, 'alpha': 0.3573720821316059, 'beta': 0.25351851184337754, 'normalize_similarity': True, 'implicit': True}. Best is trial 191 with value: 0.2757505849868378.\n"
     ]
    },
    {
     "name": "stdout",
     "output_type": "stream",
     "text": [
      "RP3betaRecommender: Similarity column 38121 (100.0%), 1838.99 column/sec. Elapsed time 20.73 sec\n",
      "EvaluatorHoldout: Processed 35595 (100.0%) in 38.24 sec. Users per second: 931\n"
     ]
    },
    {
     "name": "stderr",
     "output_type": "stream",
     "text": [
      "[I 2024-12-16 12:33:05,786] Trial 248 finished with value: 0.2743799759129613 and parameters: {'topK': 74, 'alpha': 0.29695566854511196, 'beta': 0.343456432304016, 'normalize_similarity': True, 'implicit': True}. Best is trial 191 with value: 0.2757505849868378.\n"
     ]
    },
    {
     "name": "stdout",
     "output_type": "stream",
     "text": [
      "RP3betaRecommender: Similarity column 38121 (100.0%), 2003.93 column/sec. Elapsed time 19.02 sec\n",
      "EvaluatorHoldout: Processed 35595 (100.0%) in 36.63 sec. Users per second: 972\n"
     ]
    },
    {
     "name": "stderr",
     "output_type": "stream",
     "text": [
      "[I 2024-12-16 12:34:03,883] Trial 249 finished with value: 0.25631050033221714 and parameters: {'topK': 45, 'alpha': 0.3851186954100507, 'beta': 0.2890759229032591, 'normalize_similarity': False, 'implicit': True}. Best is trial 191 with value: 0.2757505849868378.\n"
     ]
    },
    {
     "name": "stdout",
     "output_type": "stream",
     "text": [
      "RP3betaRecommender: Similarity column 38121 (100.0%), 1675.59 column/sec. Elapsed time 22.75 sec\n",
      "EvaluatorHoldout: Processed 35595 (100.0%) in 38.72 sec. Users per second: 919\n"
     ]
    },
    {
     "name": "stderr",
     "output_type": "stream",
     "text": [
      "[I 2024-12-16 12:35:10,152] Trial 250 finished with value: 0.27116048369549844 and parameters: {'topK': 119, 'alpha': 0.20222930124974317, 'beta': 0.19771117027726004, 'normalize_similarity': True, 'implicit': True}. Best is trial 191 with value: 0.2757505849868378.\n"
     ]
    },
    {
     "name": "stdout",
     "output_type": "stream",
     "text": [
      "RP3betaRecommender: Similarity column 38121 (100.0%), 1806.80 column/sec. Elapsed time 21.10 sec\n",
      "EvaluatorHoldout: Processed 35595 (100.0%) in 39.10 sec. Users per second: 910\n"
     ]
    },
    {
     "name": "stderr",
     "output_type": "stream",
     "text": [
      "[I 2024-12-16 12:36:14,772] Trial 251 finished with value: 0.2704263102716532 and parameters: {'topK': 86, 'alpha': 0.47028885681486265, 'beta': 0.4315500728890904, 'normalize_similarity': True, 'implicit': True}. Best is trial 191 with value: 0.2757505849868378.\n"
     ]
    },
    {
     "name": "stdout",
     "output_type": "stream",
     "text": [
      "RP3betaRecommender: Similarity column 38121 (100.0%), 1547.27 column/sec. Elapsed time 24.64 sec\n",
      "EvaluatorHoldout: Processed 35595 (100.0%) in 41.20 sec. Users per second: 864\n"
     ]
    },
    {
     "name": "stderr",
     "output_type": "stream",
     "text": [
      "[I 2024-12-16 12:37:27,167] Trial 252 finished with value: 0.22529097585944585 and parameters: {'topK': 154, 'alpha': 2.0708673147156778, 'beta': 0.2541085601484666, 'normalize_similarity': True, 'implicit': True}. Best is trial 191 with value: 0.2757505849868378.\n"
     ]
    },
    {
     "name": "stdout",
     "output_type": "stream",
     "text": [
      "RP3betaRecommender: Similarity column 38121 (100.0%), 1861.24 column/sec. Elapsed time 20.48 sec\n",
      "EvaluatorHoldout: Processed 35595 (100.0%) in 44.41 sec. Users per second: 802\n"
     ]
    },
    {
     "name": "stderr",
     "output_type": "stream",
     "text": [
      "[I 2024-12-16 12:38:33,799] Trial 253 finished with value: 0.24269372839264286 and parameters: {'topK': 20, 'alpha': 1.2052990221396218, 'beta': 0.36197337447428296, 'normalize_similarity': True, 'implicit': True}. Best is trial 191 with value: 0.2757505849868378.\n"
     ]
    },
    {
     "name": "stdout",
     "output_type": "stream",
     "text": [
      "RP3betaRecommender: Similarity column 38121 (100.0%), 1963.15 column/sec. Elapsed time 19.42 sec\n",
      "EvaluatorHoldout: Processed 35595 (100.0%) in 36.40 sec. Users per second: 978\n"
     ]
    },
    {
     "name": "stderr",
     "output_type": "stream",
     "text": [
      "[I 2024-12-16 12:39:32,035] Trial 254 finished with value: 0.27359688944901556 and parameters: {'topK': 51, 'alpha': 0.37041541818230994, 'beta': 0.1494442443780628, 'normalize_similarity': True, 'implicit': True}. Best is trial 191 with value: 0.2757505849868378.\n"
     ]
    },
    {
     "name": "stdout",
     "output_type": "stream",
     "text": [
      "RP3betaRecommender: Similarity column 38121 (100.0%), 1727.75 column/sec. Elapsed time 22.06 sec\n",
      "EvaluatorHoldout: Processed 35595 (100.0%) in 39.67 sec. Users per second: 897\n"
     ]
    },
    {
     "name": "stderr",
     "output_type": "stream",
     "text": [
      "[I 2024-12-16 12:40:38,637] Trial 255 finished with value: 0.27330769161981056 and parameters: {'topK': 103, 'alpha': 0.5548990277350471, 'beta': 0.30994023420149974, 'normalize_similarity': True, 'implicit': False}. Best is trial 191 with value: 0.2757505849868378.\n"
     ]
    },
    {
     "name": "stdout",
     "output_type": "stream",
     "text": [
      "RP3betaRecommender: Similarity column 38121 (100.0%), 1848.71 column/sec. Elapsed time 20.62 sec\n",
      "EvaluatorHoldout: Processed 35595 (100.0%) in 40.65 sec. Users per second: 876\n"
     ]
    },
    {
     "name": "stderr",
     "output_type": "stream",
     "text": [
      "[I 2024-12-16 12:41:43,398] Trial 256 finished with value: 0.2364198795146937 and parameters: {'topK': 71, 'alpha': 1.7437031940704337, 'beta': 0.22870806498914603, 'normalize_similarity': True, 'implicit': True}. Best is trial 191 with value: 0.2757505849868378.\n"
     ]
    },
    {
     "name": "stdout",
     "output_type": "stream",
     "text": [
      "RP3betaRecommender: Similarity column 38121 (100.0%), 1622.39 column/sec. Elapsed time 23.50 sec\n",
      "EvaluatorHoldout: Processed 35595 (100.0%) in 40.62 sec. Users per second: 876\n"
     ]
    },
    {
     "name": "stderr",
     "output_type": "stream",
     "text": [
      "[I 2024-12-16 12:42:53,084] Trial 257 finished with value: 0.1951004267617381 and parameters: {'topK': 131, 'alpha': 2.930697835701213, 'beta': 0.1940194285139749, 'normalize_similarity': True, 'implicit': True}. Best is trial 191 with value: 0.2757505849868378.\n"
     ]
    },
    {
     "name": "stdout",
     "output_type": "stream",
     "text": [
      "RP3betaRecommender: Similarity column 38121 (100.0%), 2238.92 column/sec. Elapsed time 17.03 sec\n",
      "EvaluatorHoldout: Processed 35595 (100.0%) in 31.88 sec. Users per second: 1117\n"
     ]
    },
    {
     "name": "stderr",
     "output_type": "stream",
     "text": [
      "[I 2024-12-16 12:43:42,988] Trial 258 finished with value: 0.21398152317758343 and parameters: {'topK': 4, 'alpha': 0.24692730038090563, 'beta': 0.28273331331380913, 'normalize_similarity': True, 'implicit': True}. Best is trial 191 with value: 0.2757505849868378.\n"
     ]
    },
    {
     "name": "stdout",
     "output_type": "stream",
     "text": [
      "RP3betaRecommender: Similarity column 38121 (100.0%), 1855.04 column/sec. Elapsed time 20.55 sec\n",
      "EvaluatorHoldout: Processed 35595 (100.0%) in 36.64 sec. Users per second: 971\n"
     ]
    },
    {
     "name": "stderr",
     "output_type": "stream",
     "text": [
      "[I 2024-12-16 12:44:43,125] Trial 259 finished with value: 0.2721604555345338 and parameters: {'topK': 72, 'alpha': 0.32599229073683833, 'beta': 0.08014573488404284, 'normalize_similarity': True, 'implicit': True}. Best is trial 191 with value: 0.2757505849868378.\n"
     ]
    },
    {
     "name": "stdout",
     "output_type": "stream",
     "text": [
      "RP3betaRecommender: Similarity column 38121 (100.0%), 2026.52 column/sec. Elapsed time 18.81 sec\n",
      "EvaluatorHoldout: Processed 35595 (100.0%) in 36.24 sec. Users per second: 982\n"
     ]
    },
    {
     "name": "stderr",
     "output_type": "stream",
     "text": [
      "[I 2024-12-16 12:45:40,594] Trial 260 finished with value: 0.27231484528193656 and parameters: {'topK': 38, 'alpha': 0.4364820273271974, 'beta': 0.3474959904862659, 'normalize_similarity': True, 'implicit': True}. Best is trial 191 with value: 0.2757505849868378.\n"
     ]
    },
    {
     "name": "stdout",
     "output_type": "stream",
     "text": [
      "RP3betaRecommender: Similarity column 38121 (100.0%), 1738.62 column/sec. Elapsed time 21.93 sec\n",
      "EvaluatorHoldout: Processed 35595 (100.0%) in 38.71 sec. Users per second: 920\n"
     ]
    },
    {
     "name": "stderr",
     "output_type": "stream",
     "text": [
      "[I 2024-12-16 12:46:45,728] Trial 261 finished with value: 0.2741756981300792 and parameters: {'topK': 100, 'alpha': 0.4982118444470414, 'beta': 0.23743645524976698, 'normalize_similarity': True, 'implicit': True}. Best is trial 191 with value: 0.2757505849868378.\n"
     ]
    },
    {
     "name": "stdout",
     "output_type": "stream",
     "text": [
      "RP3betaRecommender: Similarity column 38121 (100.0%), 1947.32 column/sec. Elapsed time 19.58 sec\n",
      "EvaluatorHoldout: Processed 35595 (100.0%) in 36.12 sec. Users per second: 986\n"
     ]
    },
    {
     "name": "stderr",
     "output_type": "stream",
     "text": [
      "[I 2024-12-16 12:47:43,988] Trial 262 finished with value: 0.2734738664779609 and parameters: {'topK': 54, 'alpha': 0.393627665532086, 'beta': 0.14218361174606853, 'normalize_similarity': True, 'implicit': True}. Best is trial 191 with value: 0.2757505849868378.\n"
     ]
    },
    {
     "name": "stdout",
     "output_type": "stream",
     "text": [
      "RP3betaRecommender: Similarity column 38121 (100.0%), 1547.53 column/sec. Elapsed time 24.63 sec\n",
      "EvaluatorHoldout: Processed 35595 (100.0%) in 48.03 sec. Users per second: 741\n"
     ]
    },
    {
     "name": "stderr",
     "output_type": "stream",
     "text": [
      "[I 2024-12-16 12:49:05,191] Trial 263 finished with value: 0.2679545784369447 and parameters: {'topK': 142, 'alpha': 0.270856328127562, 'beta': 0.39743495734621204, 'normalize_similarity': True, 'implicit': True}. Best is trial 191 with value: 0.2757505849868378.\n"
     ]
    },
    {
     "name": "stdout",
     "output_type": "stream",
     "text": [
      "RP3betaRecommender: Similarity column 38121 (100.0%), 1811.22 column/sec. Elapsed time 21.05 sec\n",
      "EvaluatorHoldout: Processed 35595 (100.0%) in 38.57 sec. Users per second: 923\n"
     ]
    },
    {
     "name": "stderr",
     "output_type": "stream",
     "text": [
      "[I 2024-12-16 12:50:08,799] Trial 264 finished with value: 0.27448981303679004 and parameters: {'topK': 86, 'alpha': 0.32288175665233576, 'beta': 0.2947218823185713, 'normalize_similarity': True, 'implicit': True}. Best is trial 191 with value: 0.2757505849868378.\n"
     ]
    },
    {
     "name": "stdout",
     "output_type": "stream",
     "text": [
      "RP3betaRecommender: Similarity column 38121 (100.0%), 2080.68 column/sec. Elapsed time 18.32 sec\n",
      "EvaluatorHoldout: Processed 35595 (100.0%) in 34.21 sec. Users per second: 1040\n"
     ]
    },
    {
     "name": "stderr",
     "output_type": "stream",
     "text": [
      "[I 2024-12-16 12:51:02,717] Trial 265 finished with value: 0.09174631502673532 and parameters: {'topK': 27, 'alpha': 0.44385191867625384, 'beta': 1.8703462506089286, 'normalize_similarity': True, 'implicit': True}. Best is trial 191 with value: 0.2757505849868378.\n"
     ]
    },
    {
     "name": "stdout",
     "output_type": "stream",
     "text": [
      "RP3betaRecommender: Similarity column 38121 (100.0%), 1685.34 column/sec. Elapsed time 22.62 sec\n",
      "EvaluatorHoldout: Processed 35595 (100.0%) in 38.98 sec. Users per second: 913\n"
     ]
    },
    {
     "name": "stderr",
     "output_type": "stream",
     "text": [
      "[I 2024-12-16 12:52:09,168] Trial 266 finished with value: 0.27350472761268 and parameters: {'topK': 115, 'alpha': 0.38470643614869615, 'beta': 0.20406006439846588, 'normalize_similarity': True, 'implicit': True}. Best is trial 191 with value: 0.2757505849868378.\n"
     ]
    },
    {
     "name": "stdout",
     "output_type": "stream",
     "text": [
      "RP3betaRecommender: Similarity column 38121 (100.0%), 1886.48 column/sec. Elapsed time 20.21 sec\n",
      "EvaluatorHoldout: Processed 35595 (100.0%) in 37.73 sec. Users per second: 943\n"
     ]
    },
    {
     "name": "stderr",
     "output_type": "stream",
     "text": [
      "[I 2024-12-16 12:53:10,368] Trial 267 finished with value: 0.24035338994788477 and parameters: {'topK': 66, 'alpha': 0.22220519516867115, 'beta': 0.3322563703439485, 'normalize_similarity': False, 'implicit': True}. Best is trial 191 with value: 0.2757505849868378.\n"
     ]
    },
    {
     "name": "stdout",
     "output_type": "stream",
     "text": [
      "RP3betaRecommender: Similarity column 38121 (100.0%), 1764.22 column/sec. Elapsed time 21.61 sec\n",
      "EvaluatorHoldout: Processed 35595 (100.0%) in 39.83 sec. Users per second: 894\n"
     ]
    },
    {
     "name": "stderr",
     "output_type": "stream",
     "text": [
      "[I 2024-12-16 12:54:16,620] Trial 268 finished with value: 0.26672265673450135 and parameters: {'topK': 94, 'alpha': 0.49995223670428524, 'beta': 0.4864333475741593, 'normalize_similarity': True, 'implicit': True}. Best is trial 191 with value: 0.2757505849868378.\n"
     ]
    },
    {
     "name": "stdout",
     "output_type": "stream",
     "text": [
      "RP3betaRecommender: Similarity column 38121 (100.0%), 2011.59 column/sec. Elapsed time 18.95 sec\n",
      "EvaluatorHoldout: Processed 35595 (100.0%) in 35.81 sec. Users per second: 994\n"
     ]
    },
    {
     "name": "stderr",
     "output_type": "stream",
     "text": [
      "[I 2024-12-16 12:55:13,562] Trial 269 finished with value: 0.27285429713552056 and parameters: {'topK': 43, 'alpha': 0.32264750324988156, 'beta': 0.1473682236481883, 'normalize_similarity': True, 'implicit': True}. Best is trial 191 with value: 0.2757505849868378.\n"
     ]
    },
    {
     "name": "stdout",
     "output_type": "stream",
     "text": [
      "RP3betaRecommender: Similarity column 38121 (100.0%), 1556.40 column/sec. Elapsed time 24.49 sec\n",
      "EvaluatorHoldout: Processed 35595 (100.0%) in 40.59 sec. Users per second: 877\n"
     ]
    },
    {
     "name": "stderr",
     "output_type": "stream",
     "text": [
      "[I 2024-12-16 12:56:25,119] Trial 270 finished with value: 0.27189033218941827 and parameters: {'topK': 152, 'alpha': 0.4034041235497793, 'beta': 0.2556187872867443, 'normalize_similarity': True, 'implicit': True}. Best is trial 191 with value: 0.2757505849868378.\n"
     ]
    },
    {
     "name": "stdout",
     "output_type": "stream",
     "text": [
      "RP3betaRecommender: Similarity column 38121 (100.0%), 1688.93 column/sec. Elapsed time 22.57 sec\n",
      "EvaluatorHoldout: Processed 35595 (100.0%) in 37.90 sec. Users per second: 939\n"
     ]
    },
    {
     "name": "stderr",
     "output_type": "stream",
     "text": [
      "[I 2024-12-16 12:57:29,199] Trial 271 finished with value: 0.07594139814379311 and parameters: {'topK': 117, 'alpha': 0.5452340157826487, 'beta': 2.352917682703228, 'normalize_similarity': True, 'implicit': True}. Best is trial 191 with value: 0.2757505849868378.\n"
     ]
    },
    {
     "name": "stdout",
     "output_type": "stream",
     "text": [
      "RP3betaRecommender: Similarity column 38121 (100.0%), 2234.09 column/sec. Elapsed time 17.06 sec\n",
      "EvaluatorHoldout: Processed 35595 (100.0%) in 31.24 sec. Users per second: 1139\n"
     ]
    },
    {
     "name": "stderr",
     "output_type": "stream",
     "text": [
      "[I 2024-12-16 12:58:18,476] Trial 272 finished with value: 0.1975484079166702 and parameters: {'topK': 4, 'alpha': 0.2802819339295077, 'beta': 0.08350144105885951, 'normalize_similarity': True, 'implicit': True}. Best is trial 191 with value: 0.2757505849868378.\n"
     ]
    },
    {
     "name": "stdout",
     "output_type": "stream",
     "text": [
      "RP3betaRecommender: Similarity column 38121 (100.0%), 1772.61 column/sec. Elapsed time 21.51 sec\n",
      "EvaluatorHoldout: Processed 35595 (100.0%) in 44.00 sec. Users per second: 809\n"
     ]
    },
    {
     "name": "stderr",
     "output_type": "stream",
     "text": [
      "[I 2024-12-16 12:59:27,389] Trial 273 finished with value: 0.2735638024220421 and parameters: {'topK': 71, 'alpha': 0.1748852609172823, 'beta': 0.1967751716784843, 'normalize_similarity': True, 'implicit': True}. Best is trial 191 with value: 0.2757505849868378.\n"
     ]
    },
    {
     "name": "stdout",
     "output_type": "stream",
     "text": [
      "RP3betaRecommender: Similarity column 38121 (100.0%), 2015.56 column/sec. Elapsed time 18.91 sec\n",
      "EvaluatorHoldout: Processed 35595 (100.0%) in 36.54 sec. Users per second: 974\n"
     ]
    },
    {
     "name": "stderr",
     "output_type": "stream",
     "text": [
      "[I 2024-12-16 13:00:25,086] Trial 274 finished with value: 0.2727710950752683 and parameters: {'topK': 38, 'alpha': 0.4581137016234226, 'beta': 0.2627375175282792, 'normalize_similarity': True, 'implicit': False}. Best is trial 191 with value: 0.2757505849868378.\n"
     ]
    },
    {
     "name": "stdout",
     "output_type": "stream",
     "text": [
      "RP3betaRecommender: Similarity column 38121 (100.0%), 1806.98 column/sec. Elapsed time 21.10 sec\n",
      "EvaluatorHoldout: Processed 35595 (100.0%) in 38.60 sec. Users per second: 922\n"
     ]
    },
    {
     "name": "stderr",
     "output_type": "stream",
     "text": [
      "[I 2024-12-16 13:01:28,789] Trial 275 finished with value: 0.273657432770069 and parameters: {'topK': 82, 'alpha': 0.351425171498118, 'beta': 0.35379634967719187, 'normalize_similarity': True, 'implicit': True}. Best is trial 191 with value: 0.2757505849868378.\n"
     ]
    },
    {
     "name": "stdout",
     "output_type": "stream",
     "text": [
      "RP3betaRecommender: Similarity column 38121 (100.0%), 1681.78 column/sec. Elapsed time 22.67 sec\n",
      "EvaluatorHoldout: Processed 35595 (100.0%) in 40.40 sec. Users per second: 881\n"
     ]
    },
    {
     "name": "stderr",
     "output_type": "stream",
     "text": [
      "[I 2024-12-16 13:02:37,472] Trial 276 finished with value: 0.2697819717056563 and parameters: {'topK': 117, 'alpha': 0.4044297791425661, 'beta': 0.422079941923692, 'normalize_similarity': True, 'implicit': True}. Best is trial 191 with value: 0.2757505849868378.\n"
     ]
    },
    {
     "name": "stdout",
     "output_type": "stream",
     "text": [
      "RP3betaRecommender: Similarity column 38121 (100.0%), 1901.63 column/sec. Elapsed time 20.05 sec\n",
      "EvaluatorHoldout: Processed 35595 (100.0%) in 37.12 sec. Users per second: 959\n"
     ]
    },
    {
     "name": "stderr",
     "output_type": "stream",
     "text": [
      "[I 2024-12-16 13:03:37,627] Trial 277 finished with value: 0.2748976090123062 and parameters: {'topK': 65, 'alpha': 0.2691627320353403, 'beta': 0.2150947743486408, 'normalize_similarity': True, 'implicit': True}. Best is trial 191 with value: 0.2757505849868378.\n"
     ]
    },
    {
     "name": "stdout",
     "output_type": "stream",
     "text": [
      "RP3betaRecommender: Similarity column 38121 (100.0%), 1464.04 column/sec. Elapsed time 26.04 sec\n",
      "EvaluatorHoldout: Processed 35595 (100.0%) in 39.88 sec. Users per second: 893\n"
     ]
    },
    {
     "name": "stderr",
     "output_type": "stream",
     "text": [
      "[I 2024-12-16 13:04:49,888] Trial 278 finished with value: 0.26761631985759826 and parameters: {'topK': 169, 'alpha': 0.22462571032928452, 'beta': 0.14320870156692128, 'normalize_similarity': True, 'implicit': True}. Best is trial 191 with value: 0.2757505849868378.\n"
     ]
    },
    {
     "name": "stdout",
     "output_type": "stream",
     "text": [
      "RP3betaRecommender: Similarity column 38121 (100.0%), 1774.85 column/sec. Elapsed time 21.48 sec\n",
      "EvaluatorHoldout: Processed 35595 (100.0%) in 34.23 sec. Users per second: 1040\n"
     ]
    },
    {
     "name": "stderr",
     "output_type": "stream",
     "text": [
      "[I 2024-12-16 13:05:49,335] Trial 279 finished with value: 0.269448915795837 and parameters: {'topK': 94, 'alpha': 0.6026090225272396, 'beta': 0.04359710751809434, 'normalize_similarity': True, 'implicit': True}. Best is trial 191 with value: 0.2757505849868378.\n"
     ]
    },
    {
     "name": "stdout",
     "output_type": "stream",
     "text": [
      "RP3betaRecommender: Similarity column 38121 (100.0%), 613.20 column/sec. Elapsed time 1.04 min\n",
      "EvaluatorHoldout: Processed 35595 (100.0%) in 55.84 sec. Users per second: 637\n"
     ]
    },
    {
     "name": "stderr",
     "output_type": "stream",
     "text": [
      "[I 2024-12-16 13:08:24,873] Trial 280 finished with value: 0.24963216016394893 and parameters: {'topK': 936, 'alpha': 0.46036812002894356, 'beta': 0.20218210314055202, 'normalize_similarity': True, 'implicit': True}. Best is trial 191 with value: 0.2757505849868378.\n"
     ]
    },
    {
     "name": "stdout",
     "output_type": "stream",
     "text": [
      "RP3betaRecommender: Similarity column 38121 (100.0%), 1924.16 column/sec. Elapsed time 19.81 sec\n",
      "EvaluatorHoldout: Processed 35595 (100.0%) in 54.39 sec. Users per second: 654\n"
     ]
    },
    {
     "name": "stderr",
     "output_type": "stream",
     "text": [
      "[I 2024-12-16 13:09:42,210] Trial 281 finished with value: 0.27555915341807447 and parameters: {'topK': 67, 'alpha': 0.34658922720202956, 'beta': 0.228282976083802, 'normalize_similarity': True, 'implicit': True}. Best is trial 191 with value: 0.2757505849868378.\n"
     ]
    },
    {
     "name": "stdout",
     "output_type": "stream",
     "text": [
      "RP3betaRecommender: Similarity column 38121 (100.0%), 2110.07 column/sec. Elapsed time 18.07 sec\n",
      "EvaluatorHoldout: Processed 35595 (100.0%) in 35.04 sec. Users per second: 1016\n"
     ]
    },
    {
     "name": "stderr",
     "output_type": "stream",
     "text": [
      "[I 2024-12-16 13:10:36,917] Trial 282 finished with value: 0.26457492648565684 and parameters: {'topK': 23, 'alpha': 0.2690479665406047, 'beta': 0.0982750209369859, 'normalize_similarity': True, 'implicit': True}. Best is trial 191 with value: 0.2757505849868378.\n"
     ]
    },
    {
     "name": "stdout",
     "output_type": "stream",
     "text": [
      "RP3betaRecommender: Similarity column 38121 (100.0%), 1623.20 column/sec. Elapsed time 23.49 sec\n",
      "EvaluatorHoldout: Processed 35595 (100.0%) in 38.17 sec. Users per second: 933\n"
     ]
    },
    {
     "name": "stderr",
     "output_type": "stream",
     "text": [
      "[I 2024-12-16 13:11:42,423] Trial 283 finished with value: 0.07953484831444879 and parameters: {'topK': 136, 'alpha': 0.16859217040294658, 'beta': 2.110940339579213, 'normalize_similarity': True, 'implicit': True}. Best is trial 191 with value: 0.2757505849868378.\n"
     ]
    },
    {
     "name": "stdout",
     "output_type": "stream",
     "text": [
      "RP3betaRecommender: Similarity column 38121 (100.0%), 1854.30 column/sec. Elapsed time 20.56 sec\n",
      "EvaluatorHoldout: Processed 35595 (100.0%) in 37.69 sec. Users per second: 944\n"
     ]
    },
    {
     "name": "stderr",
     "output_type": "stream",
     "text": [
      "[I 2024-12-16 13:12:43,692] Trial 284 finished with value: 0.27452610511168 and parameters: {'topK': 66, 'alpha': 0.352035697412755, 'beta': 0.1658575314931739, 'normalize_similarity': True, 'implicit': True}. Best is trial 191 with value: 0.2757505849868378.\n"
     ]
    },
    {
     "name": "stdout",
     "output_type": "stream",
     "text": [
      "RP3betaRecommender: Similarity column 38121 (100.0%), 1710.32 column/sec. Elapsed time 22.29 sec\n",
      "EvaluatorHoldout: Processed 35595 (100.0%) in 39.10 sec. Users per second: 910\n"
     ]
    },
    {
     "name": "stderr",
     "output_type": "stream",
     "text": [
      "[I 2024-12-16 13:13:49,589] Trial 285 finished with value: 0.2731545611404798 and parameters: {'topK': 105, 'alpha': 0.2735483743708557, 'beta': 0.21777259457280934, 'normalize_similarity': True, 'implicit': True}. Best is trial 191 with value: 0.2757505849868378.\n"
     ]
    },
    {
     "name": "stdout",
     "output_type": "stream",
     "text": [
      "RP3betaRecommender: Similarity column 38121 (100.0%), 1949.11 column/sec. Elapsed time 19.56 sec\n",
      "EvaluatorHoldout: Processed 35595 (100.0%) in 36.88 sec. Users per second: 965\n"
     ]
    },
    {
     "name": "stderr",
     "output_type": "stream",
     "text": [
      "[I 2024-12-16 13:14:48,879] Trial 286 finished with value: 0.2748716104068249 and parameters: {'topK': 53, 'alpha': 0.3650893839227954, 'beta': 0.3019657769349098, 'normalize_similarity': True, 'implicit': True}. Best is trial 191 with value: 0.2757505849868378.\n"
     ]
    },
    {
     "name": "stdout",
     "output_type": "stream",
     "text": [
      "RP3betaRecommender: Similarity column 38121 (100.0%), 2099.70 column/sec. Elapsed time 18.16 sec\n",
      "EvaluatorHoldout: Processed 35595 (100.0%) in 34.75 sec. Users per second: 1024\n"
     ]
    },
    {
     "name": "stderr",
     "output_type": "stream",
     "text": [
      "[I 2024-12-16 13:15:43,397] Trial 287 finished with value: 0.2680937094318446 and parameters: {'topK': 26, 'alpha': 0.34839183365947507, 'beta': 0.14339086478794721, 'normalize_similarity': True, 'implicit': True}. Best is trial 191 with value: 0.2757505849868378.\n"
     ]
    },
    {
     "name": "stdout",
     "output_type": "stream",
     "text": [
      "RP3betaRecommender: Similarity column 38121 (100.0%), 1963.64 column/sec. Elapsed time 19.41 sec\n",
      "EvaluatorHoldout: Processed 35595 (100.0%) in 36.62 sec. Users per second: 972\n"
     ]
    },
    {
     "name": "stderr",
     "output_type": "stream",
     "text": [
      "[I 2024-12-16 13:16:41,977] Trial 288 finished with value: 0.23653362392361488 and parameters: {'topK': 50, 'alpha': 0.20608292219357255, 'beta': 0.24941892575161081, 'normalize_similarity': False, 'implicit': True}. Best is trial 191 with value: 0.2757505849868378.\n"
     ]
    },
    {
     "name": "stdout",
     "output_type": "stream",
     "text": [
      "RP3betaRecommender: Similarity column 38121 (100.0%), 1756.19 column/sec. Elapsed time 21.71 sec\n",
      "EvaluatorHoldout: Processed 35595 (100.0%) in 38.35 sec. Users per second: 928\n"
     ]
    },
    {
     "name": "stderr",
     "output_type": "stream",
     "text": [
      "[I 2024-12-16 13:17:45,980] Trial 289 finished with value: 0.27395319032677024 and parameters: {'topK': 93, 'alpha': 0.29398923906648183, 'beta': 0.18587365844194417, 'normalize_similarity': True, 'implicit': True}. Best is trial 191 with value: 0.2757505849868378.\n"
     ]
    },
    {
     "name": "stdout",
     "output_type": "stream",
     "text": [
      "RP3betaRecommender: Similarity column 38121 (100.0%), 1633.20 column/sec. Elapsed time 23.34 sec\n",
      "EvaluatorHoldout: Processed 35595 (100.0%) in 40.19 sec. Users per second: 886\n"
     ]
    },
    {
     "name": "stderr",
     "output_type": "stream",
     "text": [
      "[I 2024-12-16 13:18:55,368] Trial 290 finished with value: 0.27251096104343137 and parameters: {'topK': 133, 'alpha': 0.3720955462232125, 'beta': 0.281625378284389, 'normalize_similarity': True, 'implicit': True}. Best is trial 191 with value: 0.2757505849868378.\n"
     ]
    },
    {
     "name": "stdout",
     "output_type": "stream",
     "text": [
      "RP3betaRecommender: Similarity column 38121 (100.0%), 991.88 column/sec. Elapsed time 38.43 sec\n",
      "EvaluatorHoldout: Processed 35595 (100.0%) in 46.52 sec. Users per second: 765\n"
     ]
    },
    {
     "name": "stderr",
     "output_type": "stream",
     "text": [
      "[I 2024-12-16 13:20:38,128] Trial 291 finished with value: 0.2548623944563041 and parameters: {'topK': 411, 'alpha': 0.3168484277273326, 'beta': 0.10747911325322024, 'normalize_similarity': True, 'implicit': True}. Best is trial 191 with value: 0.2757505849868378.\n"
     ]
    },
    {
     "name": "stdout",
     "output_type": "stream",
     "text": [
      "RP3betaRecommender: Similarity column 38121 (100.0%), 2123.48 column/sec. Elapsed time 17.95 sec\n",
      "EvaluatorHoldout: Processed 35595 (100.0%) in 35.30 sec. Users per second: 1008\n"
     ]
    },
    {
     "name": "stderr",
     "output_type": "stream",
     "text": [
      "[I 2024-12-16 13:21:32,933] Trial 292 finished with value: 0.26511680025805423 and parameters: {'topK': 19, 'alpha': 0.24251687478176004, 'beta': 0.3658307500474113, 'normalize_similarity': True, 'implicit': True}. Best is trial 191 with value: 0.2757505849868378.\n"
     ]
    },
    {
     "name": "stdout",
     "output_type": "stream",
     "text": [
      "RP3betaRecommender: Similarity column 38121 (100.0%), 1937.96 column/sec. Elapsed time 19.67 sec\n",
      "EvaluatorHoldout: Processed 35595 (100.0%) in 38.48 sec. Users per second: 925\n"
     ]
    },
    {
     "name": "stderr",
     "output_type": "stream",
     "text": [
      "[I 2024-12-16 13:22:34,017] Trial 293 finished with value: 0.27478547520176416 and parameters: {'topK': 59, 'alpha': 0.4052501419828717, 'beta': 0.22682511012074988, 'normalize_similarity': True, 'implicit': True}. Best is trial 191 with value: 0.2757505849868378.\n"
     ]
    },
    {
     "name": "stdout",
     "output_type": "stream",
     "text": [
      "RP3betaRecommender: Similarity column 38121 (100.0%), 1738.20 column/sec. Elapsed time 21.93 sec\n",
      "EvaluatorHoldout: Processed 35595 (100.0%) in 32.13 sec. Users per second: 1108\n"
     ]
    },
    {
     "name": "stderr",
     "output_type": "stream",
     "text": [
      "[I 2024-12-16 13:23:29,066] Trial 294 finished with value: 0.19477394444636079 and parameters: {'topK': 3, 'alpha': 0.14740522663323116, 'beta': 0.30525112428498136, 'normalize_similarity': True, 'implicit': True}. Best is trial 191 with value: 0.2757505849868378.\n"
     ]
    },
    {
     "name": "stdout",
     "output_type": "stream",
     "text": [
      "RP3betaRecommender: Similarity column 38121 (100.0%), 1787.74 column/sec. Elapsed time 21.32 sec\n",
      "EvaluatorHoldout: Processed 35595 (100.0%) in 39.08 sec. Users per second: 911\n"
     ]
    },
    {
     "name": "stderr",
     "output_type": "stream",
     "text": [
      "[I 2024-12-16 13:24:33,473] Trial 295 finished with value: 0.21215606004214366 and parameters: {'topK': 86, 'alpha': 2.4305490193245447, 'beta': 0.18000045703656128, 'normalize_similarity': True, 'implicit': False}. Best is trial 191 with value: 0.2757505849868378.\n"
     ]
    },
    {
     "name": "stdout",
     "output_type": "stream",
     "text": [
      "RP3betaRecommender: Similarity column 38121 (100.0%), 1171.65 column/sec. Elapsed time 32.54 sec\n",
      "EvaluatorHoldout: Processed 35595 (100.0%) in 44.42 sec. Users per second: 801\n"
     ]
    },
    {
     "name": "stderr",
     "output_type": "stream",
     "text": [
      "[I 2024-12-16 13:26:01,886] Trial 296 finished with value: 0.0646958365829232 and parameters: {'topK': 322, 'alpha': 1.0628138919370307, 'beta': 2.563679608853759, 'normalize_similarity': True, 'implicit': True}. Best is trial 191 with value: 0.2757505849868378.\n"
     ]
    },
    {
     "name": "stdout",
     "output_type": "stream",
     "text": [
      "RP3betaRecommender: Similarity column 38121 (100.0%), 1696.61 column/sec. Elapsed time 22.47 sec\n",
      "EvaluatorHoldout: Processed 35595 (100.0%) in 39.73 sec. Users per second: 896\n"
     ]
    },
    {
     "name": "stderr",
     "output_type": "stream",
     "text": [
      "[I 2024-12-16 13:27:09,031] Trial 297 finished with value: 0.27378638551505025 and parameters: {'topK': 112, 'alpha': 0.5093955970325947, 'beta': 0.24280871527876988, 'normalize_similarity': True, 'implicit': True}. Best is trial 191 with value: 0.2757505849868378.\n"
     ]
    },
    {
     "name": "stdout",
     "output_type": "stream",
     "text": [
      "RP3betaRecommender: Similarity column 38121 (100.0%), 1943.30 column/sec. Elapsed time 19.62 sec\n",
      "EvaluatorHoldout: Processed 35595 (100.0%) in 37.59 sec. Users per second: 947\n"
     ]
    },
    {
     "name": "stderr",
     "output_type": "stream",
     "text": [
      "[I 2024-12-16 13:28:09,162] Trial 298 finished with value: 0.25106758769833626 and parameters: {'topK': 50, 'alpha': 1.289891898773134, 'beta': 0.2971723226098157, 'normalize_similarity': True, 'implicit': True}. Best is trial 191 with value: 0.2757505849868378.\n"
     ]
    },
    {
     "name": "stdout",
     "output_type": "stream",
     "text": [
      "RP3betaRecommender: Similarity column 38121 (100.0%), 1543.71 column/sec. Elapsed time 24.69 sec\n",
      "EvaluatorHoldout: Processed 35595 (100.0%) in 35.56 sec. Users per second: 1001\n"
     ]
    },
    {
     "name": "stderr",
     "output_type": "stream",
     "text": [
      "[I 2024-12-16 13:29:15,085] Trial 299 finished with value: 0.2669474048853238 and parameters: {'topK': 159, 'alpha': 0.3472842216252646, 'beta': 0.05202731018233564, 'normalize_similarity': True, 'implicit': True}. Best is trial 191 with value: 0.2757505849868378.\n"
     ]
    },
    {
     "name": "stdout",
     "output_type": "stream",
     "text": [
      "RP3betaRecommender: Similarity column 38121 (100.0%), 1800.93 column/sec. Elapsed time 21.17 sec\n",
      "EvaluatorHoldout: Processed 35595 (100.0%) in 38.01 sec. Users per second: 936\n"
     ]
    },
    {
     "name": "stderr",
     "output_type": "stream",
     "text": [
      "[I 2024-12-16 13:30:17,859] Trial 300 finished with value: 0.27375835881230476 and parameters: {'topK': 86, 'alpha': 0.4225248326219589, 'beta': 0.1379899744036273, 'normalize_similarity': True, 'implicit': True}. Best is trial 191 with value: 0.2757505849868378.\n"
     ]
    },
    {
     "name": "stdout",
     "output_type": "stream",
     "text": [
      "RP3betaRecommender: Similarity column 38121 (100.0%), 2008.36 column/sec. Elapsed time 18.98 sec\n",
      "EvaluatorHoldout: Processed 35595 (100.0%) in 36.68 sec. Users per second: 971\n"
     ]
    },
    {
     "name": "stderr",
     "output_type": "stream",
     "text": [
      "[I 2024-12-16 13:31:16,080] Trial 301 finished with value: 0.27340545482308354 and parameters: {'topK': 45, 'alpha': 0.2595530860052794, 'beta': 0.3786996050756587, 'normalize_similarity': True, 'implicit': True}. Best is trial 191 with value: 0.2757505849868378.\n"
     ]
    },
    {
     "name": "stdout",
     "output_type": "stream",
     "text": [
      "RP3betaRecommender: Similarity column 38121 (100.0%), 1705.29 column/sec. Elapsed time 22.35 sec\n",
      "EvaluatorHoldout: Processed 35595 (100.0%) in 39.28 sec. Users per second: 906\n"
     ]
    },
    {
     "name": "stderr",
     "output_type": "stream",
     "text": [
      "[I 2024-12-16 13:32:22,481] Trial 302 finished with value: 0.2738448204844154 and parameters: {'topK': 111, 'alpha': 0.37046616435375035, 'beta': 0.2090730349416119, 'normalize_similarity': True, 'implicit': True}. Best is trial 191 with value: 0.2757505849868378.\n"
     ]
    },
    {
     "name": "stdout",
     "output_type": "stream",
     "text": [
      "RP3betaRecommender: Similarity column 38121 (100.0%), 1859.91 column/sec. Elapsed time 20.50 sec\n",
      "EvaluatorHoldout: Processed 35595 (100.0%) in 37.95 sec. Users per second: 938\n"
     ]
    },
    {
     "name": "stderr",
     "output_type": "stream",
     "text": [
      "[I 2024-12-16 13:33:24,444] Trial 303 finished with value: 0.2746722007547542 and parameters: {'topK': 71, 'alpha': 0.2984184882080228, 'beta': 0.3279015051656727, 'normalize_similarity': True, 'implicit': True}. Best is trial 191 with value: 0.2757505849868378.\n"
     ]
    },
    {
     "name": "stdout",
     "output_type": "stream",
     "text": [
      "RP3betaRecommender: Similarity column 38121 (100.0%), 1442.35 column/sec. Elapsed time 26.43 sec\n",
      "EvaluatorHoldout: Processed 35595 (100.0%) in 43.08 sec. Users per second: 826\n"
     ]
    },
    {
     "name": "stderr",
     "output_type": "stream",
     "text": [
      "[I 2024-12-16 13:34:42,823] Trial 304 finished with value: 0.26560469136623766 and parameters: {'topK': 192, 'alpha': 0.4702370532767293, 'beta': 0.45216065466207533, 'normalize_similarity': True, 'implicit': True}. Best is trial 191 with value: 0.2757505849868378.\n"
     ]
    },
    {
     "name": "stdout",
     "output_type": "stream",
     "text": [
      "RP3betaRecommender: Similarity column 38121 (100.0%), 1632.69 column/sec. Elapsed time 23.35 sec\n",
      "EvaluatorHoldout: Processed 35595 (100.0%) in 40.01 sec. Users per second: 890\n"
     ]
    },
    {
     "name": "stderr",
     "output_type": "stream",
     "text": [
      "[I 2024-12-16 13:35:51,812] Trial 305 finished with value: 0.2728572323415928 and parameters: {'topK': 129, 'alpha': 0.4036203497088145, 'beta': 0.25927033456454773, 'normalize_similarity': True, 'implicit': True}. Best is trial 191 with value: 0.2757505849868378.\n"
     ]
    },
    {
     "name": "stdout",
     "output_type": "stream",
     "text": [
      "RP3betaRecommender: Similarity column 38121 (100.0%), 2061.65 column/sec. Elapsed time 18.49 sec\n",
      "EvaluatorHoldout: Processed 35595 (100.0%) in 35.67 sec. Users per second: 998\n"
     ]
    },
    {
     "name": "stderr",
     "output_type": "stream",
     "text": [
      "[I 2024-12-16 13:36:47,918] Trial 306 finished with value: 0.2692203304936441 and parameters: {'topK': 33, 'alpha': 0.5531422668424798, 'beta': 0.16364485450080526, 'normalize_similarity': True, 'implicit': True}. Best is trial 191 with value: 0.2757505849868378.\n"
     ]
    },
    {
     "name": "stdout",
     "output_type": "stream",
     "text": [
      "RP3betaRecommender: Similarity column 38121 (100.0%), 1805.01 column/sec. Elapsed time 21.12 sec\n",
      "EvaluatorHoldout: Processed 35595 (100.0%) in 37.33 sec. Users per second: 954\n"
     ]
    },
    {
     "name": "stderr",
     "output_type": "stream",
     "text": [
      "[I 2024-12-16 13:37:49,448] Trial 307 finished with value: 0.12384747161586981 and parameters: {'topK': 84, 'alpha': 0.22491180021809806, 'beta': 1.3951755506577133, 'normalize_similarity': True, 'implicit': True}. Best is trial 191 with value: 0.2757505849868378.\n"
     ]
    },
    {
     "name": "stdout",
     "output_type": "stream",
     "text": [
      "RP3betaRecommender: Similarity column 38121 (100.0%), 1773.06 column/sec. Elapsed time 21.50 sec\n",
      "EvaluatorHoldout: Processed 35595 (100.0%) in 31.35 sec. Users per second: 1136\n"
     ]
    },
    {
     "name": "stderr",
     "output_type": "stream",
     "text": [
      "[I 2024-12-16 13:38:43,286] Trial 308 finished with value: 0.18781465722294227 and parameters: {'topK': 3, 'alpha': 0.32553079845409266, 'beta': 0.2269013318829861, 'normalize_similarity': True, 'implicit': True}. Best is trial 191 with value: 0.2757505849868378.\n"
     ]
    },
    {
     "name": "stdout",
     "output_type": "stream",
     "text": [
      "RP3betaRecommender: Similarity column 38121 (100.0%), 882.74 column/sec. Elapsed time 43.18 sec\n",
      "EvaluatorHoldout: Processed 35595 (100.0%) in 48.71 sec. Users per second: 731\n"
     ]
    },
    {
     "name": "stderr",
     "output_type": "stream",
     "text": [
      "[I 2024-12-16 13:40:35,181] Trial 309 finished with value: 0.2299785160911486 and parameters: {'topK': 534, 'alpha': 0.43415167188065446, 'beta': 0.1014357368108941, 'normalize_similarity': False, 'implicit': True}. Best is trial 191 with value: 0.2757505849868378.\n"
     ]
    },
    {
     "name": "stdout",
     "output_type": "stream",
     "text": [
      "RP3betaRecommender: Similarity column 38121 (100.0%), 1990.80 column/sec. Elapsed time 19.15 sec\n",
      "EvaluatorHoldout: Processed 35595 (100.0%) in 37.48 sec. Users per second: 950\n"
     ]
    },
    {
     "name": "stderr",
     "output_type": "stream",
     "text": [
      "[I 2024-12-16 13:41:34,751] Trial 310 finished with value: 0.27459988947056096 and parameters: {'topK': 55, 'alpha': 0.3593501536011854, 'beta': 0.3276553244219916, 'normalize_similarity': True, 'implicit': True}. Best is trial 191 with value: 0.2757505849868378.\n"
     ]
    },
    {
     "name": "stdout",
     "output_type": "stream",
     "text": [
      "RP3betaRecommender: Similarity column 38121 (100.0%), 1764.97 column/sec. Elapsed time 21.60 sec\n",
      "EvaluatorHoldout: Processed 35595 (100.0%) in 39.44 sec. Users per second: 902\n"
     ]
    },
    {
     "name": "stderr",
     "output_type": "stream",
     "text": [
      "[I 2024-12-16 13:42:40,651] Trial 311 finished with value: 0.2738190470093501 and parameters: {'topK': 103, 'alpha': 0.49870489808734453, 'beta': 0.2874212764137127, 'normalize_similarity': True, 'implicit': True}. Best is trial 191 with value: 0.2757505849868378.\n"
     ]
    },
    {
     "name": "stdout",
     "output_type": "stream",
     "text": [
      "RP3betaRecommender: Similarity column 38121 (100.0%), 1597.98 column/sec. Elapsed time 23.86 sec\n",
      "EvaluatorHoldout: Processed 35595 (100.0%) in 40.85 sec. Users per second: 871\n"
     ]
    },
    {
     "name": "stderr",
     "output_type": "stream",
     "text": [
      "[I 2024-12-16 13:43:51,564] Trial 312 finished with value: 0.2644222457377057 and parameters: {'topK': 141, 'alpha': 0.12918773267028472, 'beta': 0.3972724432949578, 'normalize_similarity': True, 'implicit': True}. Best is trial 191 with value: 0.2757505849868378.\n"
     ]
    },
    {
     "name": "stdout",
     "output_type": "stream",
     "text": [
      "RP3betaRecommender: Similarity column 38121 (100.0%), 1892.60 column/sec. Elapsed time 20.14 sec\n",
      "EvaluatorHoldout: Processed 35595 (100.0%) in 37.23 sec. Users per second: 956\n"
     ]
    },
    {
     "name": "stderr",
     "output_type": "stream",
     "text": [
      "[I 2024-12-16 13:44:52,034] Trial 313 finished with value: 0.2749701312248092 and parameters: {'topK': 66, 'alpha': 0.2931126171266012, 'beta': 0.2141334528684124, 'normalize_similarity': True, 'implicit': False}. Best is trial 191 with value: 0.2757505849868378.\n"
     ]
    },
    {
     "name": "stdout",
     "output_type": "stream",
     "text": [
      "RP3betaRecommender: Similarity column 38121 (100.0%), 1983.37 column/sec. Elapsed time 19.22 sec\n",
      "EvaluatorHoldout: Processed 35595 (100.0%) in 36.43 sec. Users per second: 977\n"
     ]
    },
    {
     "name": "stderr",
     "output_type": "stream",
     "text": [
      "[I 2024-12-16 13:45:50,035] Trial 314 finished with value: 0.27383625421776037 and parameters: {'topK': 42, 'alpha': 0.2710887382545933, 'beta': 0.2585952843835885, 'normalize_similarity': True, 'implicit': False}. Best is trial 191 with value: 0.2757505849868378.\n"
     ]
    },
    {
     "name": "stdout",
     "output_type": "stream",
     "text": [
      "RP3betaRecommender: Similarity column 38121 (100.0%), 1914.56 column/sec. Elapsed time 19.91 sec\n",
      "EvaluatorHoldout: Processed 35595 (100.0%) in 36.90 sec. Users per second: 965\n"
     ]
    },
    {
     "name": "stderr",
     "output_type": "stream",
     "text": [
      "[I 2024-12-16 13:46:49,939] Trial 315 finished with value: 0.273885878734306 and parameters: {'topK': 66, 'alpha': 0.22178365766108868, 'beta': 0.1883429006378866, 'normalize_similarity': True, 'implicit': False}. Best is trial 191 with value: 0.2757505849868378.\n"
     ]
    },
    {
     "name": "stdout",
     "output_type": "stream",
     "text": [
      "RP3betaRecommender: Similarity column 38121 (100.0%), 2112.07 column/sec. Elapsed time 18.05 sec\n",
      "EvaluatorHoldout: Processed 35595 (100.0%) in 35.61 sec. Users per second: 1000\n"
     ]
    },
    {
     "name": "stderr",
     "output_type": "stream",
     "text": [
      "[I 2024-12-16 13:47:45,350] Trial 316 finished with value: 0.26928085989113276 and parameters: {'topK': 25, 'alpha': 0.30744170211588556, 'beta': 0.3412008437804118, 'normalize_similarity': True, 'implicit': False}. Best is trial 191 with value: 0.2757505849868378.\n"
     ]
    },
    {
     "name": "stdout",
     "output_type": "stream",
     "text": [
      "RP3betaRecommender: Similarity column 38121 (100.0%), 1685.69 column/sec. Elapsed time 22.61 sec\n",
      "EvaluatorHoldout: Processed 35595 (100.0%) in 38.57 sec. Users per second: 923\n"
     ]
    },
    {
     "name": "stderr",
     "output_type": "stream",
     "text": [
      "[I 2024-12-16 13:48:50,845] Trial 317 finished with value: 0.24524348433243853 and parameters: {'topK': 105, 'alpha': 1.5336586683760498, 'beta': 0.009213090863784468, 'normalize_similarity': True, 'implicit': False}. Best is trial 191 with value: 0.2757505849868378.\n"
     ]
    },
    {
     "name": "stdout",
     "output_type": "stream",
     "text": [
      "RP3betaRecommender: Similarity column 38121 (100.0%), 1904.11 column/sec. Elapsed time 20.02 sec\n",
      "EvaluatorHoldout: Processed 35595 (100.0%) in 35.38 sec. Users per second: 1006\n"
     ]
    },
    {
     "name": "stderr",
     "output_type": "stream",
     "text": [
      "[I 2024-12-16 13:49:48,304] Trial 318 finished with value: 0.06661253341917242 and parameters: {'topK': 66, 'alpha': 0.41994113862386206, 'beta': 2.7401750764440633, 'normalize_similarity': True, 'implicit': False}. Best is trial 191 with value: 0.2757505849868378.\n"
     ]
    },
    {
     "name": "stdout",
     "output_type": "stream",
     "text": [
      "RP3betaRecommender: Similarity column 38121 (100.0%), 656.95 column/sec. Elapsed time 58.03 sec\n",
      "EvaluatorHoldout: Processed 35595 (100.0%) in 53.71 sec. Users per second: 663\n"
     ]
    },
    {
     "name": "stderr",
     "output_type": "stream",
     "text": [
      "[I 2024-12-16 13:52:13,750] Trial 319 finished with value: 0.23822776763905074 and parameters: {'topK': 865, 'alpha': 0.17694551236823886, 'beta': 0.12113410694579001, 'normalize_similarity': True, 'implicit': True}. Best is trial 191 with value: 0.2757505849868378.\n"
     ]
    },
    {
     "name": "stdout",
     "output_type": "stream",
     "text": [
      "RP3betaRecommender: Similarity column 38121 (100.0%), 2059.33 column/sec. Elapsed time 18.51 sec\n",
      "EvaluatorHoldout: Processed 35595 (100.0%) in 35.72 sec. Users per second: 997\n"
     ]
    },
    {
     "name": "stderr",
     "output_type": "stream",
     "text": [
      "[I 2024-12-16 13:53:10,007] Trial 320 finished with value: 0.15095211972873906 and parameters: {'topK': 38, 'alpha': 0.3711560672866059, 'beta': 1.2124446628674557, 'normalize_similarity': True, 'implicit': False}. Best is trial 191 with value: 0.2757505849868378.\n"
     ]
    },
    {
     "name": "stdout",
     "output_type": "stream",
     "text": [
      "RP3betaRecommender: Similarity column 38121 (100.0%), 1683.59 column/sec. Elapsed time 22.64 sec\n",
      "EvaluatorHoldout: Processed 35595 (100.0%) in 39.62 sec. Users per second: 898\n"
     ]
    },
    {
     "name": "stderr",
     "output_type": "stream",
     "text": [
      "[I 2024-12-16 13:54:17,630] Trial 321 finished with value: 0.27237931710483443 and parameters: {'topK': 122, 'alpha': 0.2982119271039642, 'beta': 0.25104893793816985, 'normalize_similarity': True, 'implicit': False}. Best is trial 191 with value: 0.2757505849868378.\n"
     ]
    },
    {
     "name": "stdout",
     "output_type": "stream",
     "text": [
      "RP3betaRecommender: Similarity column 38121 (100.0%), 1812.35 column/sec. Elapsed time 21.03 sec\n",
      "EvaluatorHoldout: Processed 35595 (100.0%) in 38.32 sec. Users per second: 929\n"
     ]
    },
    {
     "name": "stderr",
     "output_type": "stream",
     "text": [
      "[I 2024-12-16 13:55:20,960] Trial 322 finished with value: 0.27416475971221793 and parameters: {'topK': 87, 'alpha': 0.48438589021593653, 'beta': 0.19014202208995729, 'normalize_similarity': True, 'implicit': True}. Best is trial 191 with value: 0.2757505849868378.\n"
     ]
    },
    {
     "name": "stdout",
     "output_type": "stream",
     "text": [
      "RP3betaRecommender: Similarity column 38121 (100.0%), 2113.09 column/sec. Elapsed time 18.04 sec\n",
      "EvaluatorHoldout: Processed 35595 (100.0%) in 35.27 sec. Users per second: 1009\n"
     ]
    },
    {
     "name": "stderr",
     "output_type": "stream",
     "text": [
      "[I 2024-12-16 13:56:16,015] Trial 323 finished with value: 0.26903211967577606 and parameters: {'topK': 25, 'alpha': 0.4295650870936193, 'beta': 0.29587116993135454, 'normalize_similarity': True, 'implicit': True}. Best is trial 191 with value: 0.2757505849868378.\n"
     ]
    },
    {
     "name": "stdout",
     "output_type": "stream",
     "text": [
      "RP3betaRecommender: Similarity column 38121 (100.0%), 1554.41 column/sec. Elapsed time 24.52 sec\n",
      "EvaluatorHoldout: Processed 35595 (100.0%) in 41.11 sec. Users per second: 866\n"
     ]
    },
    {
     "name": "stderr",
     "output_type": "stream",
     "text": [
      "[I 2024-12-16 13:57:28,726] Trial 324 finished with value: 0.2673053303526624 and parameters: {'topK': 159, 'alpha': 0.24822058128060998, 'beta': 0.3827382411787721, 'normalize_similarity': True, 'implicit': True}. Best is trial 191 with value: 0.2757505849868378.\n"
     ]
    },
    {
     "name": "stdout",
     "output_type": "stream",
     "text": [
      "RP3betaRecommender: Similarity column 38121 (100.0%), 1922.58 column/sec. Elapsed time 19.83 sec\n",
      "EvaluatorHoldout: Processed 35595 (100.0%) in 37.02 sec. Users per second: 961\n"
     ]
    },
    {
     "name": "stderr",
     "output_type": "stream",
     "text": [
      "[I 2024-12-16 13:58:28,587] Trial 325 finished with value: 0.27282732926330705 and parameters: {'topK': 64, 'alpha': 0.5779004848374157, 'beta': 0.15537355617123266, 'normalize_similarity': True, 'implicit': True}. Best is trial 191 with value: 0.2757505849868378.\n"
     ]
    },
    {
     "name": "stdout",
     "output_type": "stream",
     "text": [
      "RP3betaRecommender: Similarity column 38121 (100.0%), 1758.48 column/sec. Elapsed time 21.68 sec\n",
      "EvaluatorHoldout: Processed 35595 (100.0%) in 38.79 sec. Users per second: 918\n"
     ]
    },
    {
     "name": "stderr",
     "output_type": "stream",
     "text": [
      "[I 2024-12-16 13:59:33,508] Trial 326 finished with value: 0.24600135798135112 and parameters: {'topK': 100, 'alpha': 0.3754678838360411, 'beta': 0.23562617205287328, 'normalize_similarity': False, 'implicit': True}. Best is trial 191 with value: 0.2757505849868378.\n"
     ]
    },
    {
     "name": "stdout",
     "output_type": "stream",
     "text": [
      "RP3betaRecommender: Similarity column 38121 (100.0%), 1878.64 column/sec. Elapsed time 20.29 sec\n",
      "EvaluatorHoldout: Processed 35595 (100.0%) in 37.41 sec. Users per second: 951\n"
     ]
    },
    {
     "name": "stderr",
     "output_type": "stream",
     "text": [
      "[I 2024-12-16 14:00:34,098] Trial 327 finished with value: 0.2747943869217192 and parameters: {'topK': 56, 'alpha': 0.3219928988761191, 'beta': 0.31445120698713847, 'normalize_similarity': True, 'implicit': True}. Best is trial 191 with value: 0.2757505849868378.\n"
     ]
    },
    {
     "name": "stdout",
     "output_type": "stream",
     "text": [
      "RP3betaRecommender: Similarity column 38121 (100.0%), 2926.25 column/sec. Elapsed time 13.03 sec\n",
      "EvaluatorHoldout: Processed 35595 (100.0%) in 27.42 sec. Users per second: 1298\n"
     ]
    },
    {
     "name": "stderr",
     "output_type": "stream",
     "text": [
      "[I 2024-12-16 14:01:14,871] Trial 328 finished with value: 0.005972113065949917 and parameters: {'topK': 0, 'alpha': 0.44917878952352486, 'beta': 0.0933637340283692, 'normalize_similarity': True, 'implicit': True}. Best is trial 191 with value: 0.2757505849868378.\n"
     ]
    },
    {
     "name": "stdout",
     "output_type": "stream",
     "text": [
      "RP3betaRecommender: Similarity column 38121 (100.0%), 1644.56 column/sec. Elapsed time 23.18 sec\n",
      "EvaluatorHoldout: Processed 35595 (100.0%) in 40.62 sec. Users per second: 876\n"
     ]
    },
    {
     "name": "stderr",
     "output_type": "stream",
     "text": [
      "[I 2024-12-16 14:02:24,646] Trial 329 finished with value: 0.26504771374339003 and parameters: {'topK': 131, 'alpha': 0.20303997261060147, 'beta': 0.4412234729361584, 'normalize_similarity': True, 'implicit': True}. Best is trial 191 with value: 0.2757505849868378.\n"
     ]
    },
    {
     "name": "stdout",
     "output_type": "stream",
     "text": [
      "RP3betaRecommender: Similarity column 38121 (100.0%), 1812.58 column/sec. Elapsed time 21.03 sec\n",
      "EvaluatorHoldout: Processed 35595 (100.0%) in 37.99 sec. Users per second: 937\n"
     ]
    },
    {
     "name": "stderr",
     "output_type": "stream",
     "text": [
      "[I 2024-12-16 14:03:27,480] Trial 330 finished with value: 0.2741573138529603 and parameters: {'topK': 85, 'alpha': 0.5063133436057048, 'beta': 0.196864542126641, 'normalize_similarity': True, 'implicit': True}. Best is trial 191 with value: 0.2757505849868378.\n"
     ]
    },
    {
     "name": "stdout",
     "output_type": "stream",
     "text": [
      "RP3betaRecommender: Similarity column 38121 (100.0%), 2088.73 column/sec. Elapsed time 18.25 sec\n",
      "EvaluatorHoldout: Processed 35595 (100.0%) in 35.70 sec. Users per second: 997\n"
     ]
    },
    {
     "name": "stderr",
     "output_type": "stream",
     "text": [
      "[I 2024-12-16 14:04:23,387] Trial 331 finished with value: 0.2723792742926132 and parameters: {'topK': 32, 'alpha': 0.268348398845354, 'beta': 0.268913237066422, 'normalize_similarity': True, 'implicit': True}. Best is trial 191 with value: 0.2757505849868378.\n"
     ]
    },
    {
     "name": "stdout",
     "output_type": "stream",
     "text": [
      "RP3betaRecommender: Similarity column 38121 (100.0%), 1722.68 column/sec. Elapsed time 22.13 sec\n",
      "EvaluatorHoldout: Processed 35595 (100.0%) in 39.89 sec. Users per second: 892\n"
     ]
    },
    {
     "name": "stderr",
     "output_type": "stream",
     "text": [
      "[I 2024-12-16 14:05:30,633] Trial 332 finished with value: 0.2725395916229838 and parameters: {'topK': 111, 'alpha': 0.3768319018706398, 'beta': 0.34951365653081445, 'normalize_similarity': True, 'implicit': False}. Best is trial 191 with value: 0.2757505849868378.\n"
     ]
    },
    {
     "name": "stdout",
     "output_type": "stream",
     "text": [
      "RP3betaRecommender: Similarity column 38121 (100.0%), 1902.49 column/sec. Elapsed time 20.04 sec\n",
      "EvaluatorHoldout: Processed 35595 (100.0%) in 37.05 sec. Users per second: 961\n"
     ]
    },
    {
     "name": "stderr",
     "output_type": "stream",
     "text": [
      "[I 2024-12-16 14:06:30,658] Trial 333 finished with value: 0.2739935618153069 and parameters: {'topK': 65, 'alpha': 0.3216226559764665, 'beta': 0.15618580034493054, 'normalize_similarity': True, 'implicit': True}. Best is trial 191 with value: 0.2757505849868378.\n"
     ]
    },
    {
     "name": "stdout",
     "output_type": "stream",
     "text": [
      "RP3betaRecommender: Similarity column 38121 (100.0%), 1821.03 column/sec. Elapsed time 20.93 sec\n",
      "EvaluatorHoldout: Processed 35595 (100.0%) in 38.10 sec. Users per second: 934\n"
     ]
    },
    {
     "name": "stderr",
     "output_type": "stream",
     "text": [
      "[I 2024-12-16 14:07:33,734] Trial 334 finished with value: 0.2750463822765817 and parameters: {'topK': 87, 'alpha': 0.4144640324026519, 'beta': 0.23401337024237684, 'normalize_similarity': True, 'implicit': True}. Best is trial 191 with value: 0.2757505849868378.\n"
     ]
    },
    {
     "name": "stdout",
     "output_type": "stream",
     "text": [
      "RP3betaRecommender: Similarity column 38121 (100.0%), 1485.54 column/sec. Elapsed time 25.66 sec\n",
      "EvaluatorHoldout: Processed 35595 (100.0%) in 41.93 sec. Users per second: 849\n"
     ]
    },
    {
     "name": "stderr",
     "output_type": "stream",
     "text": [
      "[I 2024-12-16 14:08:48,592] Trial 335 finished with value: 0.22562775432918386 and parameters: {'topK': 185, 'alpha': 2.174984678530133, 'beta': 0.06269531914730644, 'normalize_similarity': True, 'implicit': True}. Best is trial 191 with value: 0.2757505849868378.\n"
     ]
    },
    {
     "name": "stdout",
     "output_type": "stream",
     "text": [
      "RP3betaRecommender: Similarity column 38121 (100.0%), 1575.03 column/sec. Elapsed time 24.20 sec\n",
      "EvaluatorHoldout: Processed 35595 (100.0%) in 39.99 sec. Users per second: 890\n"
     ]
    },
    {
     "name": "stderr",
     "output_type": "stream",
     "text": [
      "[I 2024-12-16 14:09:58,739] Trial 336 finished with value: 0.2723384980078125 and parameters: {'topK': 141, 'alpha': 0.4421433806043476, 'beta': 0.22199557637144204, 'normalize_similarity': True, 'implicit': True}. Best is trial 191 with value: 0.2757505849868378.\n"
     ]
    },
    {
     "name": "stdout",
     "output_type": "stream",
     "text": [
      "RP3betaRecommender: Similarity column 38121 (100.0%), 1759.37 column/sec. Elapsed time 21.67 sec\n",
      "EvaluatorHoldout: Processed 35595 (100.0%) in 38.22 sec. Users per second: 931\n"
     ]
    },
    {
     "name": "stderr",
     "output_type": "stream",
     "text": [
      "[I 2024-12-16 14:11:02,694] Trial 337 finished with value: 0.27288065295346464 and parameters: {'topK': 95, 'alpha': 0.5368645422658304, 'beta': 0.14622595225930668, 'normalize_similarity': True, 'implicit': True}. Best is trial 191 with value: 0.2757505849868378.\n"
     ]
    },
    {
     "name": "stdout",
     "output_type": "stream",
     "text": [
      "RP3betaRecommender: Similarity column 38121 (100.0%), 1827.57 column/sec. Elapsed time 20.86 sec\n",
      "EvaluatorHoldout: Processed 35595 (100.0%) in 38.76 sec. Users per second: 918\n"
     ]
    },
    {
     "name": "stderr",
     "output_type": "stream",
     "text": [
      "[I 2024-12-16 14:12:06,252] Trial 338 finished with value: 0.21853261273541555 and parameters: {'topK': 84, 'alpha': 0.6160540704276429, 'beta': 0.7898000741965716, 'normalize_similarity': True, 'implicit': True}. Best is trial 191 with value: 0.2757505849868378.\n"
     ]
    },
    {
     "name": "stdout",
     "output_type": "stream",
     "text": [
      "RP3betaRecommender: Similarity column 38121 (100.0%), 1654.12 column/sec. Elapsed time 23.05 sec\n",
      "EvaluatorHoldout: Processed 35595 (100.0%) in 40.82 sec. Users per second: 872\n"
     ]
    },
    {
     "name": "stderr",
     "output_type": "stream",
     "text": [
      "[I 2024-12-16 14:13:15,486] Trial 339 finished with value: 0.23208969805366367 and parameters: {'topK': 124, 'alpha': 1.899276458502683, 'beta': 0.23901687307663924, 'normalize_similarity': True, 'implicit': True}. Best is trial 191 with value: 0.2757505849868378.\n"
     ]
    },
    {
     "name": "stdout",
     "output_type": "stream",
     "text": [
      "RP3betaRecommender: Similarity column 38121 (100.0%), 2076.10 column/sec. Elapsed time 18.36 sec\n",
      "EvaluatorHoldout: Processed 35595 (100.0%) in 35.08 sec. Users per second: 1015\n"
     ]
    },
    {
     "name": "stderr",
     "output_type": "stream",
     "text": [
      "[I 2024-12-16 14:14:10,739] Trial 340 finished with value: 0.27020784434218953 and parameters: {'topK': 30, 'alpha': 0.40432248872897525, 'beta': 0.18223900671642, 'normalize_similarity': True, 'implicit': True}. Best is trial 191 with value: 0.2757505849868378.\n"
     ]
    },
    {
     "name": "stdout",
     "output_type": "stream",
     "text": [
      "RP3betaRecommender: Similarity column 38121 (100.0%), 1514.94 column/sec. Elapsed time 25.16 sec\n",
      "EvaluatorHoldout: Processed 35595 (100.0%) in 39.80 sec. Users per second: 894\n"
     ]
    },
    {
     "name": "stderr",
     "output_type": "stream",
     "text": [
      "[I 2024-12-16 14:15:21,828] Trial 341 finished with value: 0.26507617625678265 and parameters: {'topK': 167, 'alpha': 0.1495047130947648, 'beta': 0.1112245599303275, 'normalize_similarity': True, 'implicit': True}. Best is trial 191 with value: 0.2757505849868378.\n"
     ]
    },
    {
     "name": "stdout",
     "output_type": "stream",
     "text": [
      "RP3betaRecommender: Similarity column 38121 (100.0%), 1805.13 column/sec. Elapsed time 21.12 sec\n",
      "EvaluatorHoldout: Processed 35595 (100.0%) in 38.50 sec. Users per second: 925\n"
     ]
    },
    {
     "name": "stderr",
     "output_type": "stream",
     "text": [
      "[I 2024-12-16 14:16:25,364] Trial 342 finished with value: 0.2742780824227235 and parameters: {'topK': 81, 'alpha': 0.4939744352141354, 'beta': 0.27632512039638124, 'normalize_similarity': True, 'implicit': True}. Best is trial 191 with value: 0.2757505849868378.\n"
     ]
    },
    {
     "name": "stdout",
     "output_type": "stream",
     "text": [
      "RP3betaRecommender: Similarity column 38121 (100.0%), 1695.10 column/sec. Elapsed time 22.49 sec\n",
      "EvaluatorHoldout: Processed 35595 (100.0%) in 38.95 sec. Users per second: 914\n"
     ]
    },
    {
     "name": "stderr",
     "output_type": "stream",
     "text": [
      "[I 2024-12-16 14:17:31,500] Trial 343 finished with value: 0.2728973643858764 and parameters: {'topK': 112, 'alpha': 0.28609159170142573, 'beta': 0.21326694354505277, 'normalize_similarity': True, 'implicit': True}. Best is trial 191 with value: 0.2757505849868378.\n"
     ]
    },
    {
     "name": "stdout",
     "output_type": "stream",
     "text": [
      "RP3betaRecommender: Similarity column 38121 (100.0%), 1950.11 column/sec. Elapsed time 19.55 sec\n",
      "EvaluatorHoldout: Processed 35595 (100.0%) in 37.18 sec. Users per second: 957\n"
     ]
    },
    {
     "name": "stderr",
     "output_type": "stream",
     "text": [
      "[I 2024-12-16 14:18:31,367] Trial 344 finished with value: 0.27417847566514014 and parameters: {'topK': 57, 'alpha': 0.40487919846848874, 'beta': 0.3491273581532376, 'normalize_similarity': True, 'implicit': True}. Best is trial 191 with value: 0.2757505849868378.\n"
     ]
    },
    {
     "name": "stdout",
     "output_type": "stream",
     "text": [
      "RP3betaRecommender: Similarity column 38121 (100.0%), 495.99 column/sec. Elapsed time 1.28 min\n",
      "EvaluatorHoldout: Processed 35595 (100.0%) in 1.03 min. Users per second: 575\n"
     ]
    },
    {
     "name": "stderr",
     "output_type": "stream",
     "text": [
      "[I 2024-12-16 14:21:41,086] Trial 345 finished with value: 0.23337606109515704 and parameters: {'topK': 1322, 'alpha': 0.33748317227839875, 'beta': 0.28757859456787344, 'normalize_similarity': False, 'implicit': True}. Best is trial 191 with value: 0.2757505849868378.\n"
     ]
    },
    {
     "name": "stdout",
     "output_type": "stream",
     "text": [
      "RP3betaRecommender: Similarity column 38121 (100.0%), 2070.99 column/sec. Elapsed time 18.41 sec\n",
      "EvaluatorHoldout: Processed 35595 (100.0%) in 34.94 sec. Users per second: 1019\n"
     ]
    },
    {
     "name": "stderr",
     "output_type": "stream",
     "text": [
      "[I 2024-12-16 14:22:36,141] Trial 346 finished with value: 0.2695922607129199 and parameters: {'topK': 29, 'alpha': 0.2261113623789964, 'beta': 0.15344096281685815, 'normalize_similarity': True, 'implicit': False}. Best is trial 191 with value: 0.2757505849868378.\n"
     ]
    },
    {
     "name": "stdout",
     "output_type": "stream",
     "text": [
      "RP3betaRecommender: Similarity column 38121 (100.0%), 697.82 column/sec. Elapsed time 54.63 sec\n",
      "EvaluatorHoldout: Processed 35595 (100.0%) in 53.57 sec. Users per second: 664\n"
     ]
    },
    {
     "name": "stderr",
     "output_type": "stream",
     "text": [
      "[I 2024-12-16 14:24:54,661] Trial 347 finished with value: 0.253365891853654 and parameters: {'topK': 772, 'alpha': 0.4560689488943141, 'beta': 0.2267622720246584, 'normalize_similarity': True, 'implicit': True}. Best is trial 191 with value: 0.2757505849868378.\n"
     ]
    },
    {
     "name": "stdout",
     "output_type": "stream",
     "text": [
      "RP3betaRecommender: Similarity column 38121 (100.0%), 1832.75 column/sec. Elapsed time 20.80 sec\n",
      "EvaluatorHoldout: Processed 35595 (100.0%) in 38.81 sec. Users per second: 917\n"
     ]
    },
    {
     "name": "stderr",
     "output_type": "stream",
     "text": [
      "[I 2024-12-16 14:25:58,542] Trial 348 finished with value: 0.2710330619425847 and parameters: {'topK': 85, 'alpha': 0.297813694556754, 'beta': 0.41400083771902296, 'normalize_similarity': True, 'implicit': True}. Best is trial 191 with value: 0.2757505849868378.\n"
     ]
    },
    {
     "name": "stdout",
     "output_type": "stream",
     "text": [
      "RP3betaRecommender: Similarity column 38121 (100.0%), 2864.11 column/sec. Elapsed time 13.31 sec\n",
      "EvaluatorHoldout: Processed 35595 (100.0%) in 27.29 sec. Users per second: 1304\n"
     ]
    },
    {
     "name": "stderr",
     "output_type": "stream",
     "text": [
      "[I 2024-12-16 14:26:39,465] Trial 349 finished with value: 0.005972113065949917 and parameters: {'topK': 0, 'alpha': 0.6811005179973179, 'beta': 0.31782362461154284, 'normalize_similarity': True, 'implicit': True}. Best is trial 191 with value: 0.2757505849868378.\n"
     ]
    },
    {
     "name": "stdout",
     "output_type": "stream",
     "text": [
      "RP3betaRecommender: Similarity column 38121 (100.0%), 1670.36 column/sec. Elapsed time 22.82 sec\n",
      "EvaluatorHoldout: Processed 35595 (100.0%) in 39.31 sec. Users per second: 906\n"
     ]
    },
    {
     "name": "stderr",
     "output_type": "stream",
     "text": [
      "[I 2024-12-16 14:27:46,627] Trial 350 finished with value: 0.273303406417641 and parameters: {'topK': 119, 'alpha': 0.5338480305946087, 'beta': 0.1852710099308776, 'normalize_similarity': True, 'implicit': True}. Best is trial 191 with value: 0.2757505849868378.\n"
     ]
    },
    {
     "name": "stdout",
     "output_type": "stream",
     "text": [
      "RP3betaRecommender: Similarity column 38121 (100.0%), 1932.09 column/sec. Elapsed time 19.73 sec\n",
      "EvaluatorHoldout: Processed 35595 (100.0%) in 36.09 sec. Users per second: 986\n"
     ]
    },
    {
     "name": "stderr",
     "output_type": "stream",
     "text": [
      "[I 2024-12-16 14:28:44,903] Trial 351 finished with value: 0.2713583640856314 and parameters: {'topK': 57, 'alpha': 0.36982541032470345, 'beta': 0.07530121825862707, 'normalize_similarity': True, 'implicit': True}. Best is trial 191 with value: 0.2757505849868378.\n"
     ]
    },
    {
     "name": "stdout",
     "output_type": "stream",
     "text": [
      "RP3betaRecommender: Similarity column 38121 (100.0%), 601.19 column/sec. Elapsed time 1.06 min\n",
      "EvaluatorHoldout: Processed 35595 (100.0%) in 57.33 sec. Users per second: 621\n"
     ]
    },
    {
     "name": "stderr",
     "output_type": "stream",
     "text": [
      "[I 2024-12-16 14:31:24,490] Trial 352 finished with value: 0.2532399238938904 and parameters: {'topK': 995, 'alpha': 0.4576725509625964, 'beta': 0.26788756903993816, 'normalize_similarity': True, 'implicit': True}. Best is trial 191 with value: 0.2757505849868378.\n"
     ]
    },
    {
     "name": "stdout",
     "output_type": "stream",
     "text": [
      "RP3betaRecommender: Similarity column 38121 (100.0%), 1573.91 column/sec. Elapsed time 24.22 sec\n",
      "EvaluatorHoldout: Processed 35595 (100.0%) in 40.41 sec. Users per second: 881\n"
     ]
    },
    {
     "name": "stderr",
     "output_type": "stream",
     "text": [
      "[I 2024-12-16 14:32:34,794] Trial 353 finished with value: 0.173997936383304 and parameters: {'topK': 144, 'alpha': 0.2554419745507332, 'beta': 0.9626058013937018, 'normalize_similarity': True, 'implicit': True}. Best is trial 191 with value: 0.2757505849868378.\n"
     ]
    },
    {
     "name": "stdout",
     "output_type": "stream",
     "text": [
      "RP3betaRecommender: Similarity column 38121 (100.0%), 984.19 column/sec. Elapsed time 38.73 sec\n",
      "EvaluatorHoldout: Processed 35595 (100.0%) in 49.56 sec. Users per second: 718\n"
     ]
    },
    {
     "name": "stderr",
     "output_type": "stream",
     "text": [
      "[I 2024-12-16 14:34:23,296] Trial 354 finished with value: 0.25774987468825045 and parameters: {'topK': 452, 'alpha': 0.3947656760299315, 'beta': 0.5106595448547507, 'normalize_similarity': True, 'implicit': True}. Best is trial 191 with value: 0.2757505849868378.\n"
     ]
    },
    {
     "name": "stdout",
     "output_type": "stream",
     "text": [
      "RP3betaRecommender: Similarity column 38121 (100.0%), 1770.14 column/sec. Elapsed time 21.54 sec\n",
      "EvaluatorHoldout: Processed 35595 (100.0%) in 38.40 sec. Users per second: 927\n"
     ]
    },
    {
     "name": "stderr",
     "output_type": "stream",
     "text": [
      "[I 2024-12-16 14:35:27,050] Trial 355 finished with value: 0.2735330622755124 and parameters: {'topK': 92, 'alpha': 0.3333213367986185, 'beta': 0.14088848313743343, 'normalize_similarity': True, 'implicit': True}. Best is trial 191 with value: 0.2757505849868378.\n"
     ]
    },
    {
     "name": "stdout",
     "output_type": "stream",
     "text": [
      "RP3betaRecommender: Similarity column 38121 (100.0%), 1961.35 column/sec. Elapsed time 19.44 sec\n",
      "EvaluatorHoldout: Processed 35595 (100.0%) in 39.14 sec. Users per second: 909\n"
     ]
    },
    {
     "name": "stderr",
     "output_type": "stream",
     "text": [
      "[I 2024-12-16 14:36:28,427] Trial 356 finished with value: 0.27224626237739835 and parameters: {'topK': 50, 'alpha': 0.17728364400508373, 'beta': 0.37338910224814104, 'normalize_similarity': True, 'implicit': True}. Best is trial 191 with value: 0.2757505849868378.\n"
     ]
    },
    {
     "name": "stdout",
     "output_type": "stream",
     "text": [
      "RP3betaRecommender: Similarity column 38121 (100.0%), 1832.15 column/sec. Elapsed time 20.81 sec\n",
      "EvaluatorHoldout: Processed 35595 (100.0%) in 38.48 sec. Users per second: 925\n"
     ]
    },
    {
     "name": "stderr",
     "output_type": "stream",
     "text": [
      "[I 2024-12-16 14:37:31,236] Trial 357 finished with value: 0.2751332573072699 and parameters: {'topK': 75, 'alpha': 0.4159097877196145, 'beta': 0.2354834993449627, 'normalize_similarity': True, 'implicit': False}. Best is trial 191 with value: 0.2757505849868378.\n"
     ]
    },
    {
     "name": "stdout",
     "output_type": "stream",
     "text": [
      "RP3betaRecommender: Similarity column 38121 (100.0%), 1370.21 column/sec. Elapsed time 27.82 sec\n",
      "EvaluatorHoldout: Processed 35595 (100.0%) in 43.33 sec. Users per second: 821\n"
     ]
    },
    {
     "name": "stderr",
     "output_type": "stream",
     "text": [
      "[I 2024-12-16 14:38:51,839] Trial 358 finished with value: 0.2683083211379426 and parameters: {'topK': 224, 'alpha': 0.506543869946761, 'beta': 0.28410018201894294, 'normalize_similarity': True, 'implicit': False}. Best is trial 191 with value: 0.2757505849868378.\n"
     ]
    },
    {
     "name": "stdout",
     "output_type": "stream",
     "text": [
      "RP3betaRecommender: Similarity column 38121 (100.0%), 1701.72 column/sec. Elapsed time 22.40 sec\n",
      "EvaluatorHoldout: Processed 35595 (100.0%) in 39.97 sec. Users per second: 891\n"
     ]
    },
    {
     "name": "stderr",
     "output_type": "stream",
     "text": [
      "[I 2024-12-16 14:39:59,508] Trial 359 finished with value: 0.2724460050122563 and parameters: {'topK': 113, 'alpha': 0.4354028162249697, 'beta': 0.3491636327283619, 'normalize_similarity': True, 'implicit': False}. Best is trial 191 with value: 0.2757505849868378.\n"
     ]
    },
    {
     "name": "stdout",
     "output_type": "stream",
     "text": [
      "RP3betaRecommender: Similarity column 38121 (100.0%), 1827.12 column/sec. Elapsed time 20.86 sec\n",
      "EvaluatorHoldout: Processed 35595 (100.0%) in 36.93 sec. Users per second: 964\n"
     ]
    },
    {
     "name": "stderr",
     "output_type": "stream",
     "text": [
      "[I 2024-12-16 14:41:00,200] Trial 360 finished with value: 0.1066040525889241 and parameters: {'topK': 78, 'alpha': 0.5786666635730349, 'beta': 1.6550954100388273, 'normalize_similarity': True, 'implicit': False}. Best is trial 191 with value: 0.2757505849868378.\n"
     ]
    },
    {
     "name": "stdout",
     "output_type": "stream",
     "text": [
      "RP3betaRecommender: Similarity column 38121 (100.0%), 2084.48 column/sec. Elapsed time 18.29 sec\n",
      "EvaluatorHoldout: Processed 35595 (100.0%) in 35.47 sec. Users per second: 1004\n"
     ]
    },
    {
     "name": "stderr",
     "output_type": "stream",
     "text": [
      "[I 2024-12-16 14:41:55,812] Trial 361 finished with value: 0.27110476708208 and parameters: {'topK': 30, 'alpha': 0.3998686114067148, 'beta': 0.24363137415950606, 'normalize_similarity': True, 'implicit': False}. Best is trial 191 with value: 0.2757505849868378.\n"
     ]
    },
    {
     "name": "stdout",
     "output_type": "stream",
     "text": [
      "RP3betaRecommender: Similarity column 38121 (100.0%), 562.54 column/sec. Elapsed time 1.13 min\n",
      "EvaluatorHoldout: Processed 35595 (100.0%) in 59.19 sec. Users per second: 601\n"
     ]
    },
    {
     "name": "stderr",
     "output_type": "stream",
     "text": [
      "[I 2024-12-16 14:44:44,229] Trial 362 finished with value: 0.24869880677323963 and parameters: {'topK': 1088, 'alpha': 0.482231576986456, 'beta': 0.19585446770931908, 'normalize_similarity': True, 'implicit': False}. Best is trial 191 with value: 0.2757505849868378.\n"
     ]
    },
    {
     "name": "stdout",
     "output_type": "stream",
     "text": [
      "RP3betaRecommender: Similarity column 38121 (100.0%), 1559.01 column/sec. Elapsed time 24.45 sec\n",
      "EvaluatorHoldout: Processed 35595 (100.0%) in 41.11 sec. Users per second: 866\n"
     ]
    },
    {
     "name": "stderr",
     "output_type": "stream",
     "text": [
      "[I 2024-12-16 14:45:56,708] Trial 363 finished with value: 0.27043502867373503 and parameters: {'topK': 158, 'alpha': 0.35493917992792523, 'beta': 0.3154789469478599, 'normalize_similarity': True, 'implicit': False}. Best is trial 191 with value: 0.2757505849868378.\n"
     ]
    },
    {
     "name": "stdout",
     "output_type": "stream",
     "text": [
      "RP3betaRecommender: Similarity column 38121 (100.0%), 1725.56 column/sec. Elapsed time 22.09 sec\n",
      "EvaluatorHoldout: Processed 35595 (100.0%) in 38.28 sec. Users per second: 930\n"
     ]
    },
    {
     "name": "stderr",
     "output_type": "stream",
     "text": [
      "[I 2024-12-16 14:47:01,184] Trial 364 finished with value: 0.2721389903064378 and parameters: {'topK': 104, 'alpha': 0.4045646527802507, 'beta': 0.10687975093851255, 'normalize_similarity': True, 'implicit': False}. Best is trial 191 with value: 0.2757505849868378.\n"
     ]
    },
    {
     "name": "stdout",
     "output_type": "stream",
     "text": [
      "RP3betaRecommender: Similarity column 38121 (100.0%), 1893.61 column/sec. Elapsed time 20.13 sec\n",
      "EvaluatorHoldout: Processed 35595 (100.0%) in 37.97 sec. Users per second: 937\n"
     ]
    },
    {
     "name": "stderr",
     "output_type": "stream",
     "text": [
      "[I 2024-12-16 14:48:02,579] Trial 365 finished with value: 0.25923863587175267 and parameters: {'topK': 67, 'alpha': 0.5273343696440878, 'beta': 0.24844915021483868, 'normalize_similarity': False, 'implicit': False}. Best is trial 191 with value: 0.2757505849868378.\n"
     ]
    },
    {
     "name": "stdout",
     "output_type": "stream",
     "text": [
      "RP3betaRecommender: Similarity column 38121 (100.0%), 2062.90 column/sec. Elapsed time 18.48 sec\n",
      "EvaluatorHoldout: Processed 35595 (100.0%) in 36.42 sec. Users per second: 977\n"
     ]
    },
    {
     "name": "stderr",
     "output_type": "stream",
     "text": [
      "[I 2024-12-16 14:48:59,530] Trial 366 finished with value: 0.26899106792882665 and parameters: {'topK': 30, 'alpha': 0.4504892172772422, 'beta': 0.4191143972583508, 'normalize_similarity': True, 'implicit': True}. Best is trial 191 with value: 0.2757505849868378.\n"
     ]
    },
    {
     "name": "stdout",
     "output_type": "stream",
     "text": [
      "RP3betaRecommender: Similarity column 38121 (100.0%), 1611.36 column/sec. Elapsed time 23.66 sec\n",
      "EvaluatorHoldout: Processed 35595 (100.0%) in 39.53 sec. Users per second: 900\n"
     ]
    },
    {
     "name": "stderr",
     "output_type": "stream",
     "text": [
      "[I 2024-12-16 14:50:08,060] Trial 367 finished with value: 0.2714625579556883 and parameters: {'topK': 134, 'alpha': 0.3156585796965914, 'beta': 0.1672046076625016, 'normalize_similarity': True, 'implicit': True}. Best is trial 191 with value: 0.2757505849868378.\n"
     ]
    },
    {
     "name": "stdout",
     "output_type": "stream",
     "text": [
      "RP3betaRecommender: Similarity column 38121 (100.0%), 1790.57 column/sec. Elapsed time 21.29 sec\n",
      "EvaluatorHoldout: Processed 35595 (100.0%) in 39.46 sec. Users per second: 902\n"
     ]
    },
    {
     "name": "stderr",
     "output_type": "stream",
     "text": [
      "[I 2024-12-16 14:51:13,176] Trial 368 finished with value: 0.26463928515777024 and parameters: {'topK': 89, 'alpha': 0.9643047987655551, 'beta': 0.2833646080491594, 'normalize_similarity': True, 'implicit': True}. Best is trial 191 with value: 0.2757505849868378.\n"
     ]
    },
    {
     "name": "stdout",
     "output_type": "stream",
     "text": [
      "RP3betaRecommender: Similarity column 38121 (100.0%), 1955.84 column/sec. Elapsed time 19.49 sec\n",
      "EvaluatorHoldout: Processed 35595 (100.0%) in 35.67 sec. Users per second: 998\n"
     ]
    },
    {
     "name": "stderr",
     "output_type": "stream",
     "text": [
      "[I 2024-12-16 14:52:10,522] Trial 369 finished with value: 0.2692139507382832 and parameters: {'topK': 49, 'alpha': 0.36776005017568514, 'beta': 0.029904558915699125, 'normalize_similarity': True, 'implicit': True}. Best is trial 191 with value: 0.2757505849868378.\n"
     ]
    },
    {
     "name": "stdout",
     "output_type": "stream",
     "text": [
      "RP3betaRecommender: Similarity column 38121 (100.0%), 2845.71 column/sec. Elapsed time 13.40 sec\n",
      "EvaluatorHoldout: Processed 35595 (100.0%) in 29.87 sec. Users per second: 1192\n"
     ]
    },
    {
     "name": "stderr",
     "output_type": "stream",
     "text": [
      "[I 2024-12-16 14:52:54,680] Trial 370 finished with value: 0.08586172593048587 and parameters: {'topK': 1, 'alpha': 0.4572749889877893, 'beta': 0.22020375962497352, 'normalize_similarity': True, 'implicit': True}. Best is trial 191 with value: 0.2757505849868378.\n"
     ]
    },
    {
     "name": "stdout",
     "output_type": "stream",
     "text": [
      "RP3betaRecommender: Similarity column 38121 (100.0%), 1699.07 column/sec. Elapsed time 22.44 sec\n",
      "EvaluatorHoldout: Processed 35595 (100.0%) in 38.50 sec. Users per second: 925\n"
     ]
    },
    {
     "name": "stderr",
     "output_type": "stream",
     "text": [
      "[I 2024-12-16 14:53:59,830] Trial 371 finished with value: 0.27198437432895484 and parameters: {'topK': 106, 'alpha': 0.32314593536708663, 'beta': 0.12139410264781174, 'normalize_similarity': True, 'implicit': True}. Best is trial 191 with value: 0.2757505849868378.\n"
     ]
    },
    {
     "name": "stdout",
     "output_type": "stream",
     "text": [
      "RP3betaRecommender: Similarity column 38121 (100.0%), 1852.48 column/sec. Elapsed time 20.58 sec\n",
      "EvaluatorHoldout: Processed 35595 (100.0%) in 38.32 sec. Users per second: 929\n"
     ]
    },
    {
     "name": "stderr",
     "output_type": "stream",
     "text": [
      "[I 2024-12-16 14:55:02,413] Trial 372 finished with value: 0.27400635963747166 and parameters: {'topK': 72, 'alpha': 0.4130425860558822, 'beta': 0.353710328612269, 'normalize_similarity': True, 'implicit': False}. Best is trial 191 with value: 0.2757505849868378.\n"
     ]
    },
    {
     "name": "stdout",
     "output_type": "stream",
     "text": [
      "RP3betaRecommender: Similarity column 38121 (100.0%), 1986.61 column/sec. Elapsed time 19.19 sec\n",
      "EvaluatorHoldout: Processed 35595 (100.0%) in 36.13 sec. Users per second: 985\n"
     ]
    },
    {
     "name": "stderr",
     "output_type": "stream",
     "text": [
      "[I 2024-12-16 14:55:59,927] Trial 373 finished with value: 0.27074485932446585 and parameters: {'topK': 35, 'alpha': 0.5498770589885655, 'beta': 0.2805832266995719, 'normalize_similarity': True, 'implicit': True}. Best is trial 191 with value: 0.2757505849868378.\n"
     ]
    },
    {
     "name": "stdout",
     "output_type": "stream",
     "text": [
      "RP3betaRecommender: Similarity column 38121 (100.0%), 1592.11 column/sec. Elapsed time 23.94 sec\n",
      "EvaluatorHoldout: Processed 35595 (100.0%) in 39.64 sec. Users per second: 898\n"
     ]
    },
    {
     "name": "stderr",
     "output_type": "stream",
     "text": [
      "[I 2024-12-16 14:57:09,101] Trial 374 finished with value: 0.2701897137570865 and parameters: {'topK': 139, 'alpha': 0.243940520489533, 'beta': 0.1980069040592499, 'normalize_similarity': True, 'implicit': True}. Best is trial 191 with value: 0.2757505849868378.\n"
     ]
    },
    {
     "name": "stdout",
     "output_type": "stream",
     "text": [
      "RP3betaRecommender: Similarity column 38121 (100.0%), 1740.41 column/sec. Elapsed time 21.90 sec\n",
      "EvaluatorHoldout: Processed 35595 (100.0%) in 39.40 sec. Users per second: 904\n"
     ]
    },
    {
     "name": "stderr",
     "output_type": "stream",
     "text": [
      "[I 2024-12-16 14:58:14,974] Trial 375 finished with value: 0.27201409611636224 and parameters: {'topK': 93, 'alpha': 0.6402828830159981, 'beta': 0.32869542129528806, 'normalize_similarity': True, 'implicit': True}. Best is trial 191 with value: 0.2757505849868378.\n"
     ]
    },
    {
     "name": "stdout",
     "output_type": "stream",
     "text": [
      "RP3betaRecommender: Similarity column 38121 (100.0%), 1261.17 column/sec. Elapsed time 30.23 sec\n",
      "EvaluatorHoldout: Processed 35595 (100.0%) in 40.47 sec. Users per second: 879\n"
     ]
    },
    {
     "name": "stderr",
     "output_type": "stream",
     "text": [
      "[I 2024-12-16 14:59:33,329] Trial 376 finished with value: 0.060525729166272926 and parameters: {'topK': 270, 'alpha': 0.35236685858674227, 'beta': 2.932535660521319, 'normalize_similarity': True, 'implicit': True}. Best is trial 191 with value: 0.2757505849868378.\n"
     ]
    },
    {
     "name": "stdout",
     "output_type": "stream",
     "text": [
      "RP3betaRecommender: Similarity column 38121 (100.0%), 1949.92 column/sec. Elapsed time 19.55 sec\n",
      "EvaluatorHoldout: Processed 35595 (100.0%) in 36.97 sec. Users per second: 963\n"
     ]
    },
    {
     "name": "stderr",
     "output_type": "stream",
     "text": [
      "[I 2024-12-16 15:00:32,649] Trial 377 finished with value: 0.2730942558055558 and parameters: {'topK': 56, 'alpha': 0.49372726916981313, 'beta': 0.1693310145174145, 'normalize_similarity': True, 'implicit': True}. Best is trial 191 with value: 0.2757505849868378.\n"
     ]
    },
    {
     "name": "stdout",
     "output_type": "stream",
     "text": [
      "RP3betaRecommender: Similarity column 38121 (100.0%), 1660.51 column/sec. Elapsed time 22.96 sec\n",
      "EvaluatorHoldout: Processed 35595 (100.0%) in 39.44 sec. Users per second: 903\n"
     ]
    },
    {
     "name": "stderr",
     "output_type": "stream",
     "text": [
      "[I 2024-12-16 15:01:40,292] Trial 378 finished with value: 0.272159682056444 and parameters: {'topK': 120, 'alpha': 0.28624261630062253, 'beta': 0.25187927127880555, 'normalize_similarity': True, 'implicit': True}. Best is trial 191 with value: 0.2757505849868378.\n"
     ]
    },
    {
     "name": "stdout",
     "output_type": "stream",
     "text": [
      "RP3betaRecommender: Similarity column 38121 (100.0%), 1484.45 column/sec. Elapsed time 25.68 sec\n",
      "EvaluatorHoldout: Processed 35595 (100.0%) in 42.12 sec. Users per second: 845\n"
     ]
    },
    {
     "name": "stderr",
     "output_type": "stream",
     "text": [
      "[I 2024-12-16 15:02:56,087] Trial 379 finished with value: 0.268540395433296 and parameters: {'topK': 172, 'alpha': 0.4079444669662647, 'beta': 0.38761115860824985, 'normalize_similarity': True, 'implicit': True}. Best is trial 191 with value: 0.2757505849868378.\n"
     ]
    },
    {
     "name": "stdout",
     "output_type": "stream",
     "text": [
      "RP3betaRecommender: Similarity column 38121 (100.0%), 1835.53 column/sec. Elapsed time 20.77 sec\n",
      "EvaluatorHoldout: Processed 35595 (100.0%) in 38.94 sec. Users per second: 914\n"
     ]
    },
    {
     "name": "stderr",
     "output_type": "stream",
     "text": [
      "[I 2024-12-16 15:03:59,726] Trial 380 finished with value: 0.26842131033419203 and parameters: {'topK': 77, 'alpha': 0.3304048968959497, 'beta': 0.4738460631239599, 'normalize_similarity': True, 'implicit': True}. Best is trial 191 with value: 0.2757505849868378.\n"
     ]
    },
    {
     "name": "stdout",
     "output_type": "stream",
     "text": [
      "RP3betaRecommender: Similarity column 38121 (100.0%), 2111.05 column/sec. Elapsed time 18.06 sec\n",
      "EvaluatorHoldout: Processed 35595 (100.0%) in 34.71 sec. Users per second: 1026\n"
     ]
    },
    {
     "name": "stderr",
     "output_type": "stream",
     "text": [
      "[I 2024-12-16 15:04:53,921] Trial 381 finished with value: 0.1620156207186861 and parameters: {'topK': 20, 'alpha': 0.19899113189632134, 'beta': 1.1142530488538924, 'normalize_similarity': True, 'implicit': True}. Best is trial 191 with value: 0.2757505849868378.\n"
     ]
    },
    {
     "name": "stdout",
     "output_type": "stream",
     "text": [
      "RP3betaRecommender: Similarity column 38121 (100.0%), 1964.35 column/sec. Elapsed time 19.41 sec\n",
      "EvaluatorHoldout: Processed 35595 (100.0%) in 36.28 sec. Users per second: 981\n"
     ]
    },
    {
     "name": "stderr",
     "output_type": "stream",
     "text": [
      "[I 2024-12-16 15:05:52,075] Trial 382 finished with value: 0.26661086670642536 and parameters: {'topK': 49, 'alpha': 0.7788912994750326, 'beta': 0.10360158935031599, 'normalize_similarity': True, 'implicit': False}. Best is trial 191 with value: 0.2757505849868378.\n"
     ]
    },
    {
     "name": "stdout",
     "output_type": "stream",
     "text": [
      "RP3betaRecommender: Similarity column 38121 (100.0%), 1728.95 column/sec. Elapsed time 22.05 sec\n",
      "EvaluatorHoldout: Processed 35595 (100.0%) in 39.22 sec. Users per second: 908\n"
     ]
    },
    {
     "name": "stderr",
     "output_type": "stream",
     "text": [
      "[I 2024-12-16 15:06:58,154] Trial 383 finished with value: 0.27434175905292757 and parameters: {'topK': 105, 'alpha': 0.45079118180773803, 'beta': 0.23258802233465337, 'normalize_similarity': True, 'implicit': True}. Best is trial 191 with value: 0.2757505849868378.\n"
     ]
    },
    {
     "name": "stdout",
     "output_type": "stream",
     "text": [
      "RP3betaRecommender: Similarity column 38121 (100.0%), 1846.40 column/sec. Elapsed time 20.65 sec\n",
      "EvaluatorHoldout: Processed 35595 (100.0%) in 38.26 sec. Users per second: 930\n"
     ]
    },
    {
     "name": "stderr",
     "output_type": "stream",
     "text": [
      "[I 2024-12-16 15:08:00,727] Trial 384 finished with value: 0.24272369156622964 and parameters: {'topK': 75, 'alpha': 0.2707155224536883, 'beta': 0.30920676831552996, 'normalize_similarity': False, 'implicit': True}. Best is trial 191 with value: 0.2757505849868378.\n"
     ]
    },
    {
     "name": "stdout",
     "output_type": "stream",
     "text": [
      "RP3betaRecommender: Similarity column 38121 (100.0%), 813.26 column/sec. Elapsed time 46.87 sec\n",
      "EvaluatorHoldout: Processed 35595 (100.0%) in 50.24 sec. Users per second: 708\n"
     ]
    },
    {
     "name": "stderr",
     "output_type": "stream",
     "text": [
      "[I 2024-12-16 15:10:01,696] Trial 385 finished with value: 0.2512718641523418 and parameters: {'topK': 618, 'alpha': 0.3824355404865867, 'beta': 0.15175324893582542, 'normalize_similarity': True, 'implicit': True}. Best is trial 191 with value: 0.2757505849868378.\n"
     ]
    },
    {
     "name": "stdout",
     "output_type": "stream",
     "text": [
      "RP3betaRecommender: Similarity column 38121 (100.0%), 1650.13 column/sec. Elapsed time 23.10 sec\n",
      "EvaluatorHoldout: Processed 35595 (100.0%) in 40.12 sec. Users per second: 887\n"
     ]
    },
    {
     "name": "stderr",
     "output_type": "stream",
     "text": [
      "[I 2024-12-16 15:11:10,481] Trial 386 finished with value: 0.2732789859153269 and parameters: {'topK': 127, 'alpha': 0.4925817072576765, 'beta': 0.242067897284748, 'normalize_similarity': True, 'implicit': True}. Best is trial 191 with value: 0.2757505849868378.\n"
     ]
    },
    {
     "name": "stdout",
     "output_type": "stream",
     "text": [
      "RP3betaRecommender: Similarity column 38121 (100.0%), 2879.79 column/sec. Elapsed time 13.24 sec\n",
      "EvaluatorHoldout: Processed 35595 (100.0%) in 27.41 sec. Users per second: 1299\n"
     ]
    },
    {
     "name": "stderr",
     "output_type": "stream",
     "text": [
      "[I 2024-12-16 15:11:51,467] Trial 387 finished with value: 0.005972113065949917 and parameters: {'topK': 0, 'alpha': 0.3345451566666279, 'beta': 0.3175836698040606, 'normalize_similarity': True, 'implicit': True}. Best is trial 191 with value: 0.2757505849868378.\n"
     ]
    },
    {
     "name": "stdout",
     "output_type": "stream",
     "text": [
      "RP3betaRecommender: Similarity column 38121 (100.0%), 1996.37 column/sec. Elapsed time 19.10 sec\n",
      "EvaluatorHoldout: Processed 35595 (100.0%) in 36.34 sec. Users per second: 980\n"
     ]
    },
    {
     "name": "stderr",
     "output_type": "stream",
     "text": [
      "[I 2024-12-16 15:12:49,304] Trial 388 finished with value: 0.272193159342027 and parameters: {'topK': 45, 'alpha': 0.5617746687813907, 'beta': 0.18824780076755684, 'normalize_similarity': True, 'implicit': True}. Best is trial 191 with value: 0.2757505849868378.\n"
     ]
    },
    {
     "name": "stdout",
     "output_type": "stream",
     "text": [
      "RP3betaRecommender: Similarity column 38121 (100.0%), 1749.99 column/sec. Elapsed time 21.78 sec\n",
      "EvaluatorHoldout: Processed 35595 (100.0%) in 39.13 sec. Users per second: 910\n"
     ]
    },
    {
     "name": "stderr",
     "output_type": "stream",
     "text": [
      "[I 2024-12-16 15:13:54,649] Trial 389 finished with value: 0.26761989733040126 and parameters: {'topK': 94, 'alpha': 0.1179968620026397, 'beta': 0.3836740941141025, 'normalize_similarity': True, 'implicit': True}. Best is trial 191 with value: 0.2757505849868378.\n"
     ]
    },
    {
     "name": "stdout",
     "output_type": "stream",
     "text": [
      "RP3betaRecommender: Similarity column 38121 (100.0%), 1399.07 column/sec. Elapsed time 27.25 sec\n",
      "EvaluatorHoldout: Processed 35595 (100.0%) in 40.59 sec. Users per second: 877\n"
     ]
    },
    {
     "name": "stderr",
     "output_type": "stream",
     "text": [
      "[I 2024-12-16 15:15:09,838] Trial 390 finished with value: 0.26420753791558044 and parameters: {'topK': 205, 'alpha': 0.40510528082980624, 'beta': 0.054492620713217504, 'normalize_similarity': True, 'implicit': True}. Best is trial 191 with value: 0.2757505849868378.\n"
     ]
    },
    {
     "name": "stdout",
     "output_type": "stream",
     "text": [
      "RP3betaRecommender: Similarity column 38121 (100.0%), 1880.06 column/sec. Elapsed time 20.28 sec\n",
      "EvaluatorHoldout: Processed 35595 (100.0%) in 37.29 sec. Users per second: 955\n"
     ]
    },
    {
     "name": "stderr",
     "output_type": "stream",
     "text": [
      "[I 2024-12-16 15:16:10,530] Trial 391 finished with value: 0.2747719263644046 and parameters: {'topK': 64, 'alpha': 0.22531627777772212, 'beta': 0.2722439741328842, 'normalize_similarity': True, 'implicit': False}. Best is trial 191 with value: 0.2757505849868378.\n"
     ]
    },
    {
     "name": "stdout",
     "output_type": "stream",
     "text": [
      "RP3betaRecommender: Similarity column 38121 (100.0%), 2011.69 column/sec. Elapsed time 18.95 sec\n",
      "EvaluatorHoldout: Processed 35595 (100.0%) in 36.33 sec. Users per second: 980\n"
     ]
    },
    {
     "name": "stderr",
     "output_type": "stream",
     "text": [
      "[I 2024-12-16 15:17:07,803] Trial 392 finished with value: 0.2278500851421179 and parameters: {'topK': 31, 'alpha': 1.837229001848042, 'beta': 0.1369969040373643, 'normalize_similarity': True, 'implicit': True}. Best is trial 191 with value: 0.2757505849868378.\n"
     ]
    },
    {
     "name": "stdout",
     "output_type": "stream",
     "text": [
      "RP3betaRecommender: Similarity column 38121 (100.0%), 1555.64 column/sec. Elapsed time 24.51 sec\n",
      "EvaluatorHoldout: Processed 35595 (100.0%) in 40.46 sec. Users per second: 880\n"
     ]
    },
    {
     "name": "stderr",
     "output_type": "stream",
     "text": [
      "[I 2024-12-16 15:18:18,930] Trial 393 finished with value: 0.2717106128899757 and parameters: {'topK': 148, 'alpha': 0.4395753000876345, 'beta': 0.20670317564267782, 'normalize_similarity': True, 'implicit': True}. Best is trial 191 with value: 0.2757505849868378.\n"
     ]
    },
    {
     "name": "stdout",
     "output_type": "stream",
     "text": [
      "RP3betaRecommender: Similarity column 38121 (100.0%), 1718.93 column/sec. Elapsed time 22.18 sec\n",
      "EvaluatorHoldout: Processed 35595 (100.0%) in 39.42 sec. Users per second: 903\n"
     ]
    },
    {
     "name": "stderr",
     "output_type": "stream",
     "text": [
      "[I 2024-12-16 15:19:25,244] Trial 394 finished with value: 0.27238076256767707 and parameters: {'topK': 101, 'alpha': 0.2854084722763818, 'beta': 0.32981311378102796, 'normalize_similarity': True, 'implicit': True}. Best is trial 191 with value: 0.2757505849868378.\n"
     ]
    },
    {
     "name": "stdout",
     "output_type": "stream",
     "text": [
      "RP3betaRecommender: Similarity column 38121 (100.0%), 1861.48 column/sec. Elapsed time 20.48 sec\n",
      "EvaluatorHoldout: Processed 35595 (100.0%) in 39.25 sec. Users per second: 907\n"
     ]
    },
    {
     "name": "stderr",
     "output_type": "stream",
     "text": [
      "[I 2024-12-16 15:20:28,348] Trial 395 finished with value: 0.2753787683675133 and parameters: {'topK': 70, 'alpha': 0.3594289639100681, 'beta': 0.2388864718317958, 'normalize_similarity': True, 'implicit': True}. Best is trial 191 with value: 0.2757505849868378.\n"
     ]
    },
    {
     "name": "stdout",
     "output_type": "stream",
     "text": [
      "RP3betaRecommender: Similarity column 38121 (100.0%), 1922.28 column/sec. Elapsed time 19.83 sec\n",
      "EvaluatorHoldout: Processed 35595 (100.0%) in 37.26 sec. Users per second: 955\n"
     ]
    },
    {
     "name": "stderr",
     "output_type": "stream",
     "text": [
      "[I 2024-12-16 15:21:28,307] Trial 396 finished with value: 0.275206429969006 and parameters: {'topK': 57, 'alpha': 0.3486082486253992, 'beta': 0.26249145208231905, 'normalize_similarity': True, 'implicit': True}. Best is trial 191 with value: 0.2757505849868378.\n"
     ]
    },
    {
     "name": "stdout",
     "output_type": "stream",
     "text": [
      "RP3betaRecommender: Similarity column 38121 (100.0%), 2084.82 column/sec. Elapsed time 18.29 sec\n",
      "EvaluatorHoldout: Processed 35595 (100.0%) in 35.77 sec. Users per second: 995\n"
     ]
    },
    {
     "name": "stderr",
     "output_type": "stream",
     "text": [
      "[I 2024-12-16 15:22:24,215] Trial 397 finished with value: 0.26737840259664597 and parameters: {'topK': 26, 'alpha': 0.3086746816606997, 'beta': 0.4305052718409774, 'normalize_similarity': True, 'implicit': True}. Best is trial 191 with value: 0.2757505849868378.\n"
     ]
    },
    {
     "name": "stdout",
     "output_type": "stream",
     "text": [
      "RP3betaRecommender: Similarity column 38121 (100.0%), 1892.30 column/sec. Elapsed time 20.15 sec\n",
      "EvaluatorHoldout: Processed 35595 (100.0%) in 37.14 sec. Users per second: 958\n"
     ]
    },
    {
     "name": "stderr",
     "output_type": "stream",
     "text": [
      "[I 2024-12-16 15:23:24,480] Trial 398 finished with value: 0.27413688785222146 and parameters: {'topK': 60, 'alpha': 0.20637589425428549, 'beta': 0.281723631848274, 'normalize_similarity': True, 'implicit': True}. Best is trial 191 with value: 0.2757505849868378.\n"
     ]
    },
    {
     "name": "stdout",
     "output_type": "stream",
     "text": [
      "RP3betaRecommender: Similarity column 38121 (100.0%), 2088.04 column/sec. Elapsed time 18.26 sec\n",
      "EvaluatorHoldout: Processed 35595 (100.0%) in 35.67 sec. Users per second: 998\n"
     ]
    },
    {
     "name": "stderr",
     "output_type": "stream",
     "text": [
      "[I 2024-12-16 15:24:20,274] Trial 399 finished with value: 0.2688604495514677 and parameters: {'topK': 26, 'alpha': 0.3445519809862782, 'beta': 0.3691221200968347, 'normalize_similarity': True, 'implicit': True}. Best is trial 191 with value: 0.2757505849868378.\n"
     ]
    }
   ],
   "source": [
    "if config['tune_parameters']:\n",
    "    \n",
    "    optuna_study = optuna.create_study(direction='maximize', study_name=f'hyperparameters_tuning_{config[\"model\"]}_{config[\"metric\"]}',\n",
    "                                storage=f'sqlite:///{config[\"database_path\"]}', load_if_exists=True)\n",
    "\n",
    "    optuna_study.optimize(objective_function_RP3beta, n_trials=200)"
   ]
  },
  {
   "cell_type": "markdown",
   "id": "f436a726",
   "metadata": {
    "papermill": {
     "duration": 0.046117,
     "end_time": "2024-12-16T15:24:20.375573",
     "exception": false,
     "start_time": "2024-12-16T15:24:20.329456",
     "status": "completed"
    },
    "tags": []
   },
   "source": [
    "## Some optuna visualizations on recommender parameters"
   ]
  },
  {
   "cell_type": "code",
   "execution_count": 14,
   "id": "1b24f6c0",
   "metadata": {
    "execution": {
     "iopub.execute_input": "2024-12-16T15:24:20.470475Z",
     "iopub.status.busy": "2024-12-16T15:24:20.470038Z",
     "iopub.status.idle": "2024-12-16T15:24:22.091241Z",
     "shell.execute_reply": "2024-12-16T15:24:22.089915Z"
    },
    "papermill": {
     "duration": 1.672546,
     "end_time": "2024-12-16T15:24:22.093823",
     "exception": false,
     "start_time": "2024-12-16T15:24:20.421277",
     "status": "completed"
    },
    "tags": []
   },
   "outputs": [
    {
     "data": {
      "text/html": [
       "        <script type=\"text/javascript\">\n",
       "        window.PlotlyConfig = {MathJaxConfig: 'local'};\n",
       "        if (window.MathJax && window.MathJax.Hub && window.MathJax.Hub.Config) {window.MathJax.Hub.Config({SVG: {font: \"STIX-Web\"}});}\n",
       "        if (typeof require !== 'undefined') {\n",
       "        require.undef(\"plotly\");\n",
       "        requirejs.config({\n",
       "            paths: {\n",
       "                'plotly': ['https://cdn.plot.ly/plotly-2.32.0.min']\n",
       "            }\n",
       "        });\n",
       "        require(['plotly'], function(Plotly) {\n",
       "            window._Plotly = Plotly;\n",
       "        });\n",
       "        }\n",
       "        </script>\n",
       "        "
      ]
     },
     "metadata": {},
     "output_type": "display_data"
    },
    {
     "data": {
      "text/html": [
       "<div>                            <div id=\"5f065825-aea2-4ec7-99a9-c8e6a3a13d4c\" class=\"plotly-graph-div\" style=\"height:525px; width:1500px;\"></div>            <script type=\"text/javascript\">                require([\"plotly\"], function(Plotly) {                    window.PLOTLYENV=window.PLOTLYENV || {};                                    if (document.getElementById(\"5f065825-aea2-4ec7-99a9-c8e6a3a13d4c\")) {                    Plotly.newPlot(                        \"5f065825-aea2-4ec7-99a9-c8e6a3a13d4c\",                        [{\"marker\":{\"color\":[0,1,2,3,4,5,6,7,8,9,10,11,12,13,14,15,16,17,18,19,20,21,22,23,24,25,26,27,28,29,30,31,32,33,34,35,36,37,38,39,40,41,42,43,44,45,46,47,48,49,50,51,52,53,54,55,56,57,58,59,60,61,62,63,64,65,66,67,68,69,70,71,72,73,74,75,76,77,78,79,80,81,82,83,84,85,86,87,88,89,90,91,92,93,94,95,96,97,98,99,100,101,102,103,104,105,106,107,108,109,110,111,112,113,114,115,116,117,118,119,120,121,122,123,124,125,126,127,128,129,130,131,132,133,134,135,136,137,138,139,140,141,142,143,144,145,146,147,148,149,150,151,152,153,154,155,156,157,158,159,160,161,162,163,164,165,166,167,168,169,170,171,172,173,174,175,176,177,178,179,180,181,182,183,184,185,186,187,188,189,190,191,192,193,194,195,196,197,198,199,200,201,202,203,204,205,206,207,208,209,210,211,212,213,214,215,216,217,218,219,220,221,222,223,224,225,226,227,228,229,230,231,232,233,234,235,236,237,238,239,240,241,242,243,244,245,246,247,248,249,250,251,252,253,254,255,256,257,258,259,260,261,262,263,264,265,266,267,268,269,270,271,272,273,274,275,276,277,278,279,280,281,282,283,284,285,286,287,288,289,290,291,292,293,294,295,296,297,298,299,300,301,302,303,304,305,306,307,308,309,310,311,312,313,314,315,316,317,318,319,320,321,322,323,324,325,326,327,328,329,330,331,332,333,334,335,336,337,338,339,340,341,342,343,344,345,346,347,348,349,350,351,352,353,354,355,356,357,358,359,360,361,362,363,364,365,366,367,368,369,370,371,372,373,374,375,376,377,378,379,380,381,382,383,384,385,386,387,388,389,390,391,392,393,394,395,396,397,398,399],\"colorbar\":{\"title\":{\"text\":\"Trial\"},\"x\":1.0,\"xpad\":40},\"colorscale\":[[0.0,\"rgb(247,251,255)\"],[0.125,\"rgb(222,235,247)\"],[0.25,\"rgb(198,219,239)\"],[0.375,\"rgb(158,202,225)\"],[0.5,\"rgb(107,174,214)\"],[0.625,\"rgb(66,146,198)\"],[0.75,\"rgb(33,113,181)\"],[0.875,\"rgb(8,81,156)\"],[1.0,\"rgb(8,48,107)\"]],\"line\":{\"color\":\"Grey\",\"width\":0.5},\"showscale\":true},\"mode\":\"markers\",\"name\":\"Feasible Trial\",\"showlegend\":false,\"x\":[0.6842933111707797,2.7790952329464527,1.7067858787857335,0.08735907408408583,2.549235108607817,2.2575367053624023,1.6521958054205281,2.305417285762639,1.746946434975432,0.08732837704539587,2.717420708088634,2.8612235438411924,2.984792976473483,1.0256104784482591,1.0290459661276423,1.0876748637151383,0.9706440884073295,1.2458650018551618,0.548676980278768,0.5798504522704576,1.3390854427683583,1.3436940160407234,0.8545033013911831,1.970988292314554,1.3491473240230862,0.3121339841712707,1.135310716589425,1.4736747324148998,0.8017904242072206,0.40580206396600815,1.926235428132175,1.3391832187970594,0.923155180349764,0.757670472343916,0.7206053518329625,0.7005658050642576,0.7153312838281901,0.39305135567063365,0.25550991548935476,0.6138137340895026,0.5847369283879368,0.6818910222528388,0.8865553433993096,0.9116380783704365,0.16878461938751732,0.5504142538805139,0.4424850425720553,0.1488117220663337,0.005625711269465317,0.5485218769385043,1.114000574737778,0.9282390709937408,0.640633740296181,0.47678224748262465,0.6776755617701676,0.3065706983090052,0.8833093240353125,1.1760746063957639,1.0156444516242658,0.622402751485815,0.8167292220847582,0.8220867460019881,0.84322134265559,0.5018248596132917,0.48748485427668464,0.7923292639836853,0.3276279771200636,0.23740565015526416,0.16773986145972708,0.18681390003098225,0.0046459525638849475,0.030014024213044083,0.33972101168825725,0.3396437570488936,0.26451936556307293,0.3367488396772321,0.0882893822042918,0.234179064567552,0.13071930184667588,0.08645528318327315,0.12910051408405554,0.0795133363837418,0.10692011918081007,0.09350176829976635,0.098773101006079,0.11041305295008595,0.10547371838231298,0.2121838261430929,0.09107305108498412,0.4094799481753313,0.26665887772915486,0.367417418073104,0.04961078487994268,0.06172688530134311,0.049218612017301086,0.047945244554041935,0.17376127330629348,0.1816325154300488,0.18013924263762482,0.15378984070527257,0.27655109968079006,2.34637802566666,0.007685230544101959,0.1449154055827341,0.06034726103698385,0.2074404991722025,0.4284118653982296,0.20062532659791307,0.42884740690965995,0.43541061876742637,0.20808380162906628,0.19509854477002123,1.643511097682806,0.2430599373256552,0.28528371541082265,0.3875261410650017,0.3889453085774565,0.522769052182095,0.2951131942684535,0.5130533363822334,0.5411962636279632,0.2745635069048404,0.48120991675889113,0.2945147085282961,0.37235923436033014,0.3773493192624401,0.5190302646259634,0.25739872657852697,0.5987458192852204,0.4498172748869592,0.5655126476979389,0.32502731662560935,0.3742386065557858,0.6579922341243858,0.6035660830415684,0.38247444693596144,0.49855415850556456,0.24966639976527527,0.447006732144708,0.44853116347658983,0.4144448927690557,0.4359074500728897,0.4552047235866496,0.34880227147468656,0.3530154999294918,0.3117773208367383,0.2434301555886041,0.354551778102284,0.24069446411112005,0.37517032350994967,0.3129056635392348,0.4520914806254288,1.9889712671159736,0.35527240134383187,0.49890294055034135,0.34848541492799406,0.45165157785319626,0.5623069683593764,0.26407251523231706,0.40767260498436575,0.31157704755788396,0.23928426463705288,0.36899151355629545,2.659475617059515,0.3722232847074255,0.4684643009115103,0.3786558452410987,0.5262083609711946,0.38560351100340545,0.3097624216744505,0.45126053213275064,0.24527431953395767,0.34851260326390815,0.3013484747447839,0.41165176858428565,0.4290511780100632,0.27042890498463323,0.37365889684360964,0.23988775568278173,0.46815717848192356,0.6092012888475287,0.5156823458746543,0.3362756773218905,0.39429926192845083,0.4167446503568797,0.28210130211308015,0.41796049072829905,0.42193453703635736,0.47772894537926364,0.41124071464932466,0.5790415657304604,0.3304167572370963,0.3471416434792305,0.32576072011932405,0.3324445933064746,0.4326093152082561,0.3312965278084388,0.4861538017476055,0.3974926645267291,0.7127339353621707,0.2953779786188043,0.2012752847668596,1.4675529234618665,0.35015033660640954,0.36161634078019417,0.4442371425505861,0.4211390798282728,0.5010370022098672,0.42271901845478915,0.5695906848612715,0.38358121492441744,0.4580944085594427,0.47281877136259115,0.41372921724155454,0.29400808720090355,0.3891397329269022,0.5304972576327293,0.33602661432368663,0.4126826484651065,0.2637722892318164,0.3507023943103727,0.4611811178587126,0.43945762152825824,0.5206841558183177,0.390906602849746,0.46936507691968543,0.29521889328272277,0.3609509494126853,0.421244749296922,0.22032774080088607,0.5389232311280961,0.4503043464847132,0.3467239013782281,0.4635744285506048,0.6397647515045298,0.41079212096198614,0.2914414413878901,0.4858459346659234,0.3604929517281317,0.4224048689887181,0.28050353771417136,0.30014108135452583,0.31370014149350095,0.30650780877052175,0.329490335415522,0.17216317553480032,0.26897790885755,0.3573720821316059,0.29695566854511196,0.3851186954100507,0.20222930124974317,0.47028885681486265,2.0708673147156778,1.2052990221396218,0.37041541818230994,0.5548990277350471,1.7437031940704337,2.930697835701213,0.24692730038090563,0.32599229073683833,0.4364820273271974,0.4982118444470414,0.393627665532086,0.270856328127562,0.32288175665233576,0.44385191867625384,0.38470643614869615,0.22220519516867115,0.49995223670428524,0.32264750324988156,0.4034041235497793,0.5452340157826487,0.2802819339295077,0.1748852609172823,0.4581137016234226,0.351425171498118,0.4044297791425661,0.2691627320353403,0.22462571032928452,0.6026090225272396,0.46036812002894356,0.34658922720202956,0.2690479665406047,0.16859217040294658,0.352035697412755,0.2735483743708557,0.3650893839227954,0.34839183365947507,0.20608292219357255,0.29398923906648183,0.3720955462232125,0.3168484277273326,0.24251687478176004,0.4052501419828717,0.14740522663323116,2.4305490193245447,1.0628138919370307,0.5093955970325947,1.289891898773134,0.3472842216252646,0.4225248326219589,0.2595530860052794,0.37046616435375035,0.2984184882080228,0.4702370532767293,0.4036203497088145,0.5531422668424798,0.22491180021809806,0.32553079845409266,0.43415167188065446,0.3593501536011854,0.49870489808734453,0.12918773267028472,0.2931126171266012,0.2710887382545933,0.22178365766108868,0.30744170211588556,1.5336586683760498,0.41994113862386206,0.17694551236823886,0.3711560672866059,0.2982119271039642,0.48438589021593653,0.4295650870936193,0.24822058128060998,0.5779004848374157,0.3754678838360411,0.3219928988761191,0.44917878952352486,0.20303997261060147,0.5063133436057048,0.268348398845354,0.3768319018706398,0.3216226559764665,0.4144640324026519,2.174984678530133,0.4421433806043476,0.5368645422658304,0.6160540704276429,1.899276458502683,0.40432248872897525,0.1495047130947648,0.4939744352141354,0.28609159170142573,0.40487919846848874,0.33748317227839875,0.2261113623789964,0.4560689488943141,0.297813694556754,0.6811005179973179,0.5338480305946087,0.36982541032470345,0.4576725509625964,0.2554419745507332,0.3947656760299315,0.3333213367986185,0.17728364400508373,0.4159097877196145,0.506543869946761,0.4354028162249697,0.5786666635730349,0.3998686114067148,0.482231576986456,0.35493917992792523,0.4045646527802507,0.5273343696440878,0.4504892172772422,0.3156585796965914,0.9643047987655551,0.36776005017568514,0.4572749889877893,0.32314593536708663,0.4130425860558822,0.5498770589885655,0.243940520489533,0.6402828830159981,0.35236685858674227,0.49372726916981313,0.28624261630062253,0.4079444669662647,0.3304048968959497,0.19899113189632134,0.7788912994750326,0.45079118180773803,0.2707155224536883,0.3824355404865867,0.4925817072576765,0.3345451566666279,0.5617746687813907,0.1179968620026397,0.40510528082980624,0.22531627777772212,1.837229001848042,0.4395753000876345,0.2854084722763818,0.3594289639100681,0.3486082486253992,0.3086746816606997,0.20637589425428549,0.3445519809862782],\"y\":[0.07739749877027387,0.07858667209228613,0.06510864611853484,0.07847320693421804,0.04748853628419093,0.06630303591406465,0.05559490574123661,0.03880682904742222,0.0511740666502776,0.04990227196529182,0.17203837452657234,0.16417606308745472,0.18159872637332145,0.25157064039912846,0.2508552735885827,0.24598114807809007,0.1686420169674047,0.18140302202617758,0.233245079980302,0.15629938351752104,0.24918758047126383,0.2488223323954564,0.23782650633308317,0.2261583249136928,0.13058067197264445,0.22325233828975805,0.24043284536845194,0.2404804648408771,0.1407625942679735,0.24213118699221783,0.1596883890997764,0.2489787020501028,0.258314122664155,0.2530453489667818,0.25641561538700847,0.25738782419098777,0.25687054752185123,0.08349745506425506,0.12203873965555477,0.2570313447684518,0.2215173254355084,0.25640094395641533,0.25747448661980776,0.19452109535474732,0.10745236609291679,0.26115867252999747,0.25171831339056944,0.21755633533860108,0.24775298127240578,0.09984467314454523,0.15870454080827973,0.24979985526569679,0.26031260509464726,0.23730216203755225,0.24838017746913532,0.25459528452784413,0.19421461310633029,0.23503902317854344,0.06453910647749937,0.2617747220071662,0.2601960292624363,0.25964641192870347,0.25981709583749335,0.263058790663452,0.25875930749019266,0.2667073894769113,0.26973685756984606,0.2692715062171388,0.26695611512670786,0.22727445935185595,0.26646646627785914,0.2576353273565389,0.2680955157291235,0.26851849611757345,0.26666032451272803,0.26162974566977376,0.27108685488123224,0.2660864708192767,0.27129235974016075,0.26850300084848233,0.27145308527349027,0.2698763331438474,0.2685480533428535,0.26858456071647,0.2631729590764075,0.2697394095808364,0.26765032679547784,0.22730731371042825,0.2515095822233475,0.2655218600906946,0.08696038385081403,0.2651627111622933,0.26954539223774704,0.2697015169715496,0.26982590443442017,0.005972113065949917,0.272147607614542,0.27217739073527913,0.2693843755508265,0.24017077921703353,0.24577764682258543,0.20131544471905774,0.0701017713155802,0.26311990303201926,0.24506801789415755,0.27373312502108754,0.27318575026644,0.26975968262018385,0.27095274859903284,0.2537540614768321,0.2737336407865632,0.26921099011471145,0.17902215852437006,0.2744543893394464,0.27509043678545714,0.2753158191736394,0.2667729289999982,0.2740320957939774,0.2655377074520251,0.27271199745284463,0.26537491803544333,0.2753214911497019,0.005972113065949917,0.2720444793270884,0.2742920910887087,0.26943851840490113,0.2556229016729896,0.26377586219385124,0.27211821882916365,0.2706584846341203,0.2643154658968802,0.26611258675355387,0.2751468833261084,0.27170612624448776,0.2733555262823487,0.06597788810483336,0.09926596914068031,0.2746037598776359,0.274661054177763,0.2733395725709268,0.27314294011755896,0.27508571539442955,0.27469056964193495,0.27546375448352656,0.27522041338403697,0.2666690318825953,0.2727451558460175,0.2681995495162941,0.236367314267053,0.17466048656773922,0.12517152665809406,0.27515769969618364,0.22975336509844752,0.27532393972685837,0.27213199258502513,0.2716401397105091,0.2706137774050363,0.2699049323619637,0.24988080332698645,0.2704168505811787,0.08474160337386709,0.27381926143168694,0.27499397663655456,0.20216971884036755,0.2745885307524775,0.2709208966709604,0.26581814132618076,0.16374548356059165,0.27154294524149136,0.2736025527156243,0.2583610901557852,0.2747097314467651,0.2719837259850468,0.272564679998845,0.2748097252485712,0.27179257303735904,0.27215387190069446,0.27366994981915127,0.1801675546864043,0.27283691723376746,0.2701039714392456,0.27364616181392887,0.27151831110808894,0.2752645258878983,0.2753211665774625,0.27384008543403043,0.2700440645176547,0.2747176195382377,0.2732823063897019,0.27054786893959876,0.2686687342675211,0.2757505849868378,0.27541399887167856,0.27464545374529936,0.273382506654308,0.27274013556010407,0.2745526393666851,0.2640147372214224,0.27293177551193704,0.26864436921757767,0.2686843429637316,0.2741042611487529,0.24118295110972612,0.27482340014829965,0.2733801485038014,0.2750876377212433,0.2750192523180676,0.005972113065949917,0.27413010997702686,0.26523994414715607,0.2734267890467883,0.2749694804608138,0.2724527950337419,0.2754640946763541,0.2706748046487466,0.2735443662208049,0.27179198166447704,0.27171747002253527,0.11434884470121537,0.27369772369817263,0.26987829735766805,0.27458556438589204,0.2503221830650957,0.2737265000320481,0.2727443926065065,0.2737970533244468,0.2746367953443241,0.27390820320379533,0.19877732297514383,0.2694489141953489,0.27396816727279955,0.27493781127290534,0.24200367394915237,0.27479292688839785,0.2726740463983271,0.27297930242429397,0.27205446411362216,0.2696731422092676,0.2732934776628971,0.08341195967179187,0.2751984084036107,0.27509007684831016,0.27476654650576743,0.2740987493195192,0.27424481287461133,0.2737006632106184,0.2660954308312873,0.2741140256124905,0.2743799759129613,0.25631050033221714,0.27116048369549844,0.2704263102716532,0.22529097585944585,0.24269372839264286,0.27359688944901556,0.27330769161981056,0.2364198795146937,0.1951004267617381,0.21398152317758343,0.2721604555345338,0.27231484528193656,0.2741756981300792,0.2734738664779609,0.2679545784369447,0.27448981303679004,0.09174631502673532,0.27350472761268,0.24035338994788477,0.26672265673450135,0.27285429713552056,0.27189033218941827,0.07594139814379311,0.1975484079166702,0.2735638024220421,0.2727710950752683,0.273657432770069,0.2697819717056563,0.2748976090123062,0.26761631985759826,0.269448915795837,0.24963216016394893,0.27555915341807447,0.26457492648565684,0.07953484831444879,0.27452610511168,0.2731545611404798,0.2748716104068249,0.2680937094318446,0.23653362392361488,0.27395319032677024,0.27251096104343137,0.2548623944563041,0.26511680025805423,0.27478547520176416,0.19477394444636079,0.21215606004214366,0.0646958365829232,0.27378638551505025,0.25106758769833626,0.2669474048853238,0.27375835881230476,0.27340545482308354,0.2738448204844154,0.2746722007547542,0.26560469136623766,0.2728572323415928,0.2692203304936441,0.12384747161586981,0.18781465722294227,0.2299785160911486,0.27459988947056096,0.2738190470093501,0.2644222457377057,0.2749701312248092,0.27383625421776037,0.273885878734306,0.26928085989113276,0.24524348433243853,0.06661253341917242,0.23822776763905074,0.15095211972873906,0.27237931710483443,0.27416475971221793,0.26903211967577606,0.2673053303526624,0.27282732926330705,0.24600135798135112,0.2747943869217192,0.005972113065949917,0.26504771374339003,0.2741573138529603,0.2723792742926132,0.2725395916229838,0.2739935618153069,0.2750463822765817,0.22562775432918386,0.2723384980078125,0.27288065295346464,0.21853261273541555,0.23208969805366367,0.27020784434218953,0.26507617625678265,0.2742780824227235,0.2728973643858764,0.27417847566514014,0.23337606109515704,0.2695922607129199,0.253365891853654,0.2710330619425847,0.005972113065949917,0.273303406417641,0.2713583640856314,0.2532399238938904,0.173997936383304,0.25774987468825045,0.2735330622755124,0.27224626237739835,0.2751332573072699,0.2683083211379426,0.2724460050122563,0.1066040525889241,0.27110476708208,0.24869880677323963,0.27043502867373503,0.2721389903064378,0.25923863587175267,0.26899106792882665,0.2714625579556883,0.26463928515777024,0.2692139507382832,0.08586172593048587,0.27198437432895484,0.27400635963747166,0.27074485932446585,0.2701897137570865,0.27201409611636224,0.060525729166272926,0.2730942558055558,0.272159682056444,0.268540395433296,0.26842131033419203,0.1620156207186861,0.26661086670642536,0.27434175905292757,0.24272369156622964,0.2512718641523418,0.2732789859153269,0.005972113065949917,0.272193159342027,0.26761989733040126,0.26420753791558044,0.2747719263644046,0.2278500851421179,0.2717106128899757,0.27238076256767707,0.2753787683675133,0.275206429969006,0.26737840259664597,0.27413688785222146,0.2688604495514677],\"type\":\"scatter\",\"xaxis\":\"x\",\"yaxis\":\"y\"},{\"marker\":{\"color\":[0,1,2,3,4,5,6,7,8,9,10,11,12,13,14,15,16,17,18,19,20,21,22,23,24,25,26,27,28,29,30,31,32,33,34,35,36,37,38,39,40,41,42,43,44,45,46,47,48,49,50,51,52,53,54,55,56,57,58,59,60,61,62,63,64,65,66,67,68,69,70,71,72,73,74,75,76,77,78,79,80,81,82,83,84,85,86,87,88,89,90,91,92,93,94,95,96,97,98,99,100,101,102,103,104,105,106,107,108,109,110,111,112,113,114,115,116,117,118,119,120,121,122,123,124,125,126,127,128,129,130,131,132,133,134,135,136,137,138,139,140,141,142,143,144,145,146,147,148,149,150,151,152,153,154,155,156,157,158,159,160,161,162,163,164,165,166,167,168,169,170,171,172,173,174,175,176,177,178,179,180,181,182,183,184,185,186,187,188,189,190,191,192,193,194,195,196,197,198,199,200,201,202,203,204,205,206,207,208,209,210,211,212,213,214,215,216,217,218,219,220,221,222,223,224,225,226,227,228,229,230,231,232,233,234,235,236,237,238,239,240,241,242,243,244,245,246,247,248,249,250,251,252,253,254,255,256,257,258,259,260,261,262,263,264,265,266,267,268,269,270,271,272,273,274,275,276,277,278,279,280,281,282,283,284,285,286,287,288,289,290,291,292,293,294,295,296,297,298,299,300,301,302,303,304,305,306,307,308,309,310,311,312,313,314,315,316,317,318,319,320,321,322,323,324,325,326,327,328,329,330,331,332,333,334,335,336,337,338,339,340,341,342,343,344,345,346,347,348,349,350,351,352,353,354,355,356,357,358,359,360,361,362,363,364,365,366,367,368,369,370,371,372,373,374,375,376,377,378,379,380,381,382,383,384,385,386,387,388,389,390,391,392,393,394,395,396,397,398,399],\"colorbar\":{\"title\":{\"text\":\"Trial\"},\"x\":1.0,\"xpad\":40},\"colorscale\":[[0.0,\"rgb(247,251,255)\"],[0.125,\"rgb(222,235,247)\"],[0.25,\"rgb(198,219,239)\"],[0.375,\"rgb(158,202,225)\"],[0.5,\"rgb(107,174,214)\"],[0.625,\"rgb(66,146,198)\"],[0.75,\"rgb(33,113,181)\"],[0.875,\"rgb(8,81,156)\"],[1.0,\"rgb(8,48,107)\"]],\"line\":{\"color\":\"Grey\",\"width\":0.5},\"showscale\":false},\"mode\":\"markers\",\"name\":\"Feasible Trial\",\"showlegend\":false,\"x\":[2.2341282577965647,1.5237060671181681,2.3745177621820264,2.0776403251470823,2.5466006144958317,1.5386822557146016,2.876212775266612,1.6970356288321415,2.9492486495685464,2.5634944874786925,0.5696247852175433,0.5834140213291801,0.3926920541587776,0.19392368153811917,0.19305681151570345,0.10083257841474938,0.9978941071926082,0.9034554537190127,0.005994249680674718,1.055741150168445,0.2984941059570681,0.2675826676543084,0.6976114550518708,0.3235803843086358,1.2050949459285225,0.7242377331609782,0.19239838594181835,0.4464453096326307,1.1844226940926954,0.0021979905722345205,0.860339001855533,0.31661530570853125,0.4273052934004784,0.18289250360849532,0.5490644161126382,0.5344516427652981,0.5423832995016332,1.9281184042197543,1.281335652252467,0.5533539261672089,0.7268451040071686,0.5546054573265954,0.47972469588101807,0.8747737255961578,1.4215812021444212,0.4255844438622478,0.4336670188270769,0.7429128775711411,0.4393566351249023,1.656428903242241,1.0243476593663197,0.5841344263225343,0.4826957073998426,0.6890883899457966,0.08987216262809639,0.373004398027899,0.8014553393445172,0.6420546921479576,2.6128483200803694,0.4594647498968944,0.44111372758217693,0.4580943992700817,0.4330380963737339,0.23217324948307255,0.1118240520647037,0.28134949327063996,0.29632917800230885,0.24939343817274995,0.2457846954072921,0.27301862598079774,0.08644531587083487,0.10541731065453142,0.247359425209174,0.203099021668061,0.20880177942396233,0.002556324824541961,0.1760272099057997,0.3230856767225427,0.17087233989554637,0.13361562624167062,0.1591476230759188,0.15300990916346063,0.1200948299647682,0.12260218927434804,0.056323428674872625,0.1754647694297792,0.3496764087400351,0.14925586662737758,0.001000603755464513,0.15989001354282756,1.987996479037058,0.18261655152875125,0.35258520460148596,0.3704846892123458,0.35564167083472026,0.34490654424077705,0.3675499978110909,0.3797866332407285,0.05860606184871647,0.6381849093613018,0.38314497086385296,0.3499814674304712,2.262346180603675,0.5086749948252849,0.3806479879228828,0.28883547140646154,0.28328682139241507,0.27688705702354005,0.037589939137519054,0.5996657880641572,0.2969515039623618,0.04779361528704372,0.25310119345402454,0.2982241877722824,0.21894068175413117,0.2132938080639606,0.05614988942283866,0.19487450746149468,0.21244238157048706,0.2995611193257503,0.494735666518211,0.3063306775440863,0.2841263124363125,0.2894124067799066,0.30979645442126585,0.40943590805445085,0.29889297262409265,0.527048406196921,0.3088768913145768,0.40428870127050076,0.4792781360207962,0.3008634082831462,0.22338721565508693,0.2174620649944458,0.2503815940036635,2.7657182205998665,1.7544274504640427,0.22443034793115926,0.2308982557528761,0.1160781881375186,0.09822605166074504,0.2220381778937706,0.20721310177140562,0.22442313155864607,0.22192124286976075,0.21481104185386082,0.20730981599263246,0.14007548571563008,0.21638135627736996,0.0978154947681282,1.321724506424514,0.24435400171074528,0.1709055877951211,0.22754141409776749,0.2322814809259216,0.1338172498354467,0.054272888518989065,0.42275301272567706,0.3353075345474496,0.23660159280922963,0.1798576164364503,0.33107256876304747,0.33456054560027987,0.23680803610924833,0.34415271217402843,0.16647981210996454,0.0014948354205937542,1.0991493598272468,0.08348414553062769,0.37655787013063746,0.42926810106905866,0.24161232081111872,0.2414492245713748,0.16204244430225362,0.3247277682537771,0.32592866709120294,0.2632106132174726,0.34491695032395986,0.46292320273164134,0.38663224448337585,0.27230992968865436,0.18925210532639397,0.12487447119183098,0.21886678934602943,0.23090365873959068,0.2414677094832041,0.09390290157725231,0.19717172449765083,0.15357567642180583,0.21514123413062805,0.08769119741454787,0.2579314074665905,0.22677003351594113,0.2113768457482333,0.14994689019907864,0.2771081108798277,0.2077689859694423,0.1390128872783642,0.26306731809687206,0.06566231250776164,0.18832334471109052,0.24098778189841347,0.31856477131052263,0.2110366105721394,0.1779057305063055,0.2628698304738597,0.28141537313767445,0.37795134315012696,0.3107299876874558,0.273044415087468,0.13167623315758312,0.25854453596287247,0.3261427153522195,0.271266652289718,0.417377719048977,0.27812818786519,0.36457536038833993,0.26488571937504235,1.5551426151279064,0.16935735872089824,0.3271207803549791,0.21295240177526745,0.24788349979597338,0.1847178436974315,0.10619920533706614,0.2869903008084499,0.21990972471982004,0.1334148852090385,0.9182051938642128,0.33117191364573767,0.25277417904369387,0.20666821201019395,0.18572741687521754,0.25354029518594334,0.27433980003091407,0.39608836512467643,0.32176074870156834,0.24016435159224048,0.12758361781569544,0.17339772842931742,0.29513228496334604,0.2818350206268838,0.2985410003496996,0.36192292739345633,0.2986988396474507,0.30111201334369564,0.39615732570542733,0.25351851184337754,0.343456432304016,0.2890759229032591,0.19771117027726004,0.4315500728890904,0.2541085601484666,0.36197337447428296,0.1494442443780628,0.30994023420149974,0.22870806498914603,0.1940194285139749,0.28273331331380913,0.08014573488404284,0.3474959904862659,0.23743645524976698,0.14218361174606853,0.39743495734621204,0.2947218823185713,1.8703462506089286,0.20406006439846588,0.3322563703439485,0.4864333475741593,0.1473682236481883,0.2556187872867443,2.352917682703228,0.08350144105885951,0.1967751716784843,0.2627375175282792,0.35379634967719187,0.422079941923692,0.2150947743486408,0.14320870156692128,0.04359710751809434,0.20218210314055202,0.228282976083802,0.0982750209369859,2.110940339579213,0.1658575314931739,0.21777259457280934,0.3019657769349098,0.14339086478794721,0.24941892575161081,0.18587365844194417,0.281625378284389,0.10747911325322024,0.3658307500474113,0.22682511012074988,0.30525112428498136,0.18000045703656128,2.563679608853759,0.24280871527876988,0.2971723226098157,0.05202731018233564,0.1379899744036273,0.3786996050756587,0.2090730349416119,0.3279015051656727,0.45216065466207533,0.25927033456454773,0.16364485450080526,1.3951755506577133,0.2269013318829861,0.1014357368108941,0.3276553244219916,0.2874212764137127,0.3972724432949578,0.2141334528684124,0.2585952843835885,0.1883429006378866,0.3412008437804118,0.009213090863784468,2.7401750764440633,0.12113410694579001,1.2124446628674557,0.25104893793816985,0.19014202208995729,0.29587116993135454,0.3827382411787721,0.15537355617123266,0.23562617205287328,0.31445120698713847,0.0933637340283692,0.4412234729361584,0.196864542126641,0.268913237066422,0.34951365653081445,0.15618580034493054,0.23401337024237684,0.06269531914730644,0.22199557637144204,0.14622595225930668,0.7898000741965716,0.23901687307663924,0.18223900671642,0.1112245599303275,0.27632512039638124,0.21326694354505277,0.3491273581532376,0.28757859456787344,0.15344096281685815,0.2267622720246584,0.41400083771902296,0.31782362461154284,0.1852710099308776,0.07530121825862707,0.26788756903993816,0.9626058013937018,0.5106595448547507,0.14088848313743343,0.37338910224814104,0.2354834993449627,0.28410018201894294,0.3491636327283619,1.6550954100388273,0.24363137415950606,0.19585446770931908,0.3154789469478599,0.10687975093851255,0.24844915021483868,0.4191143972583508,0.1672046076625016,0.2833646080491594,0.029904558915699125,0.22020375962497352,0.12139410264781174,0.353710328612269,0.2805832266995719,0.1980069040592499,0.32869542129528806,2.932535660521319,0.1693310145174145,0.25187927127880555,0.38761115860824985,0.4738460631239599,1.1142530488538924,0.10360158935031599,0.23258802233465337,0.30920676831552996,0.15175324893582542,0.242067897284748,0.3175836698040606,0.18824780076755684,0.3836740941141025,0.054492620713217504,0.2722439741328842,0.1369969040373643,0.20670317564267782,0.32981311378102796,0.2388864718317958,0.26249145208231905,0.4305052718409774,0.281723631848274,0.3691221200968347],\"y\":[0.07739749877027387,0.07858667209228613,0.06510864611853484,0.07847320693421804,0.04748853628419093,0.06630303591406465,0.05559490574123661,0.03880682904742222,0.0511740666502776,0.04990227196529182,0.17203837452657234,0.16417606308745472,0.18159872637332145,0.25157064039912846,0.2508552735885827,0.24598114807809007,0.1686420169674047,0.18140302202617758,0.233245079980302,0.15629938351752104,0.24918758047126383,0.2488223323954564,0.23782650633308317,0.2261583249136928,0.13058067197264445,0.22325233828975805,0.24043284536845194,0.2404804648408771,0.1407625942679735,0.24213118699221783,0.1596883890997764,0.2489787020501028,0.258314122664155,0.2530453489667818,0.25641561538700847,0.25738782419098777,0.25687054752185123,0.08349745506425506,0.12203873965555477,0.2570313447684518,0.2215173254355084,0.25640094395641533,0.25747448661980776,0.19452109535474732,0.10745236609291679,0.26115867252999747,0.25171831339056944,0.21755633533860108,0.24775298127240578,0.09984467314454523,0.15870454080827973,0.24979985526569679,0.26031260509464726,0.23730216203755225,0.24838017746913532,0.25459528452784413,0.19421461310633029,0.23503902317854344,0.06453910647749937,0.2617747220071662,0.2601960292624363,0.25964641192870347,0.25981709583749335,0.263058790663452,0.25875930749019266,0.2667073894769113,0.26973685756984606,0.2692715062171388,0.26695611512670786,0.22727445935185595,0.26646646627785914,0.2576353273565389,0.2680955157291235,0.26851849611757345,0.26666032451272803,0.26162974566977376,0.27108685488123224,0.2660864708192767,0.27129235974016075,0.26850300084848233,0.27145308527349027,0.2698763331438474,0.2685480533428535,0.26858456071647,0.2631729590764075,0.2697394095808364,0.26765032679547784,0.22730731371042825,0.2515095822233475,0.2655218600906946,0.08696038385081403,0.2651627111622933,0.26954539223774704,0.2697015169715496,0.26982590443442017,0.005972113065949917,0.272147607614542,0.27217739073527913,0.2693843755508265,0.24017077921703353,0.24577764682258543,0.20131544471905774,0.0701017713155802,0.26311990303201926,0.24506801789415755,0.27373312502108754,0.27318575026644,0.26975968262018385,0.27095274859903284,0.2537540614768321,0.2737336407865632,0.26921099011471145,0.17902215852437006,0.2744543893394464,0.27509043678545714,0.2753158191736394,0.2667729289999982,0.2740320957939774,0.2655377074520251,0.27271199745284463,0.26537491803544333,0.2753214911497019,0.005972113065949917,0.2720444793270884,0.2742920910887087,0.26943851840490113,0.2556229016729896,0.26377586219385124,0.27211821882916365,0.2706584846341203,0.2643154658968802,0.26611258675355387,0.2751468833261084,0.27170612624448776,0.2733555262823487,0.06597788810483336,0.09926596914068031,0.2746037598776359,0.274661054177763,0.2733395725709268,0.27314294011755896,0.27508571539442955,0.27469056964193495,0.27546375448352656,0.27522041338403697,0.2666690318825953,0.2727451558460175,0.2681995495162941,0.236367314267053,0.17466048656773922,0.12517152665809406,0.27515769969618364,0.22975336509844752,0.27532393972685837,0.27213199258502513,0.2716401397105091,0.2706137774050363,0.2699049323619637,0.24988080332698645,0.2704168505811787,0.08474160337386709,0.27381926143168694,0.27499397663655456,0.20216971884036755,0.2745885307524775,0.2709208966709604,0.26581814132618076,0.16374548356059165,0.27154294524149136,0.2736025527156243,0.2583610901557852,0.2747097314467651,0.2719837259850468,0.272564679998845,0.2748097252485712,0.27179257303735904,0.27215387190069446,0.27366994981915127,0.1801675546864043,0.27283691723376746,0.2701039714392456,0.27364616181392887,0.27151831110808894,0.2752645258878983,0.2753211665774625,0.27384008543403043,0.2700440645176547,0.2747176195382377,0.2732823063897019,0.27054786893959876,0.2686687342675211,0.2757505849868378,0.27541399887167856,0.27464545374529936,0.273382506654308,0.27274013556010407,0.2745526393666851,0.2640147372214224,0.27293177551193704,0.26864436921757767,0.2686843429637316,0.2741042611487529,0.24118295110972612,0.27482340014829965,0.2733801485038014,0.2750876377212433,0.2750192523180676,0.005972113065949917,0.27413010997702686,0.26523994414715607,0.2734267890467883,0.2749694804608138,0.2724527950337419,0.2754640946763541,0.2706748046487466,0.2735443662208049,0.27179198166447704,0.27171747002253527,0.11434884470121537,0.27369772369817263,0.26987829735766805,0.27458556438589204,0.2503221830650957,0.2737265000320481,0.2727443926065065,0.2737970533244468,0.2746367953443241,0.27390820320379533,0.19877732297514383,0.2694489141953489,0.27396816727279955,0.27493781127290534,0.24200367394915237,0.27479292688839785,0.2726740463983271,0.27297930242429397,0.27205446411362216,0.2696731422092676,0.2732934776628971,0.08341195967179187,0.2751984084036107,0.27509007684831016,0.27476654650576743,0.2740987493195192,0.27424481287461133,0.2737006632106184,0.2660954308312873,0.2741140256124905,0.2743799759129613,0.25631050033221714,0.27116048369549844,0.2704263102716532,0.22529097585944585,0.24269372839264286,0.27359688944901556,0.27330769161981056,0.2364198795146937,0.1951004267617381,0.21398152317758343,0.2721604555345338,0.27231484528193656,0.2741756981300792,0.2734738664779609,0.2679545784369447,0.27448981303679004,0.09174631502673532,0.27350472761268,0.24035338994788477,0.26672265673450135,0.27285429713552056,0.27189033218941827,0.07594139814379311,0.1975484079166702,0.2735638024220421,0.2727710950752683,0.273657432770069,0.2697819717056563,0.2748976090123062,0.26761631985759826,0.269448915795837,0.24963216016394893,0.27555915341807447,0.26457492648565684,0.07953484831444879,0.27452610511168,0.2731545611404798,0.2748716104068249,0.2680937094318446,0.23653362392361488,0.27395319032677024,0.27251096104343137,0.2548623944563041,0.26511680025805423,0.27478547520176416,0.19477394444636079,0.21215606004214366,0.0646958365829232,0.27378638551505025,0.25106758769833626,0.2669474048853238,0.27375835881230476,0.27340545482308354,0.2738448204844154,0.2746722007547542,0.26560469136623766,0.2728572323415928,0.2692203304936441,0.12384747161586981,0.18781465722294227,0.2299785160911486,0.27459988947056096,0.2738190470093501,0.2644222457377057,0.2749701312248092,0.27383625421776037,0.273885878734306,0.26928085989113276,0.24524348433243853,0.06661253341917242,0.23822776763905074,0.15095211972873906,0.27237931710483443,0.27416475971221793,0.26903211967577606,0.2673053303526624,0.27282732926330705,0.24600135798135112,0.2747943869217192,0.005972113065949917,0.26504771374339003,0.2741573138529603,0.2723792742926132,0.2725395916229838,0.2739935618153069,0.2750463822765817,0.22562775432918386,0.2723384980078125,0.27288065295346464,0.21853261273541555,0.23208969805366367,0.27020784434218953,0.26507617625678265,0.2742780824227235,0.2728973643858764,0.27417847566514014,0.23337606109515704,0.2695922607129199,0.253365891853654,0.2710330619425847,0.005972113065949917,0.273303406417641,0.2713583640856314,0.2532399238938904,0.173997936383304,0.25774987468825045,0.2735330622755124,0.27224626237739835,0.2751332573072699,0.2683083211379426,0.2724460050122563,0.1066040525889241,0.27110476708208,0.24869880677323963,0.27043502867373503,0.2721389903064378,0.25923863587175267,0.26899106792882665,0.2714625579556883,0.26463928515777024,0.2692139507382832,0.08586172593048587,0.27198437432895484,0.27400635963747166,0.27074485932446585,0.2701897137570865,0.27201409611636224,0.060525729166272926,0.2730942558055558,0.272159682056444,0.268540395433296,0.26842131033419203,0.1620156207186861,0.26661086670642536,0.27434175905292757,0.24272369156622964,0.2512718641523418,0.2732789859153269,0.005972113065949917,0.272193159342027,0.26761989733040126,0.26420753791558044,0.2747719263644046,0.2278500851421179,0.2717106128899757,0.27238076256767707,0.2753787683675133,0.275206429969006,0.26737840259664597,0.27413688785222146,0.2688604495514677],\"type\":\"scatter\",\"xaxis\":\"x2\",\"yaxis\":\"y2\"},{\"marker\":{\"color\":[0,1,2,3,4,5,6,7,8,9,10,11,12,13,14,15,16,17,18,19,20,21,22,23,24,25,26,27,28,29,30,31,32,33,34,35,36,37,38,39,40,41,42,43,44,45,46,47,48,49,50,51,52,53,54,55,56,57,58,59,60,61,62,63,64,65,66,67,68,69,70,71,72,73,74,75,76,77,78,79,80,81,82,83,84,85,86,87,88,89,90,91,92,93,94,95,96,97,98,99,100,101,102,103,104,105,106,107,108,109,110,111,112,113,114,115,116,117,118,119,120,121,122,123,124,125,126,127,128,129,130,131,132,133,134,135,136,137,138,139,140,141,142,143,144,145,146,147,148,149,150,151,152,153,154,155,156,157,158,159,160,161,162,163,164,165,166,167,168,169,170,171,172,173,174,175,176,177,178,179,180,181,182,183,184,185,186,187,188,189,190,191,192,193,194,195,196,197,198,199,200,201,202,203,204,205,206,207,208,209,210,211,212,213,214,215,216,217,218,219,220,221,222,223,224,225,226,227,228,229,230,231,232,233,234,235,236,237,238,239,240,241,242,243,244,245,246,247,248,249,250,251,252,253,254,255,256,257,258,259,260,261,262,263,264,265,266,267,268,269,270,271,272,273,274,275,276,277,278,279,280,281,282,283,284,285,286,287,288,289,290,291,292,293,294,295,296,297,298,299,300,301,302,303,304,305,306,307,308,309,310,311,312,313,314,315,316,317,318,319,320,321,322,323,324,325,326,327,328,329,330,331,332,333,334,335,336,337,338,339,340,341,342,343,344,345,346,347,348,349,350,351,352,353,354,355,356,357,358,359,360,361,362,363,364,365,366,367,368,369,370,371,372,373,374,375,376,377,378,379,380,381,382,383,384,385,386,387,388,389,390,391,392,393,394,395,396,397,398,399],\"colorbar\":{\"title\":{\"text\":\"Trial\"},\"x\":1.0,\"xpad\":40},\"colorscale\":[[0.0,\"rgb(247,251,255)\"],[0.125,\"rgb(222,235,247)\"],[0.25,\"rgb(198,219,239)\"],[0.375,\"rgb(158,202,225)\"],[0.5,\"rgb(107,174,214)\"],[0.625,\"rgb(66,146,198)\"],[0.75,\"rgb(33,113,181)\"],[0.875,\"rgb(8,81,156)\"],[1.0,\"rgb(8,48,107)\"]],\"line\":{\"color\":\"Grey\",\"width\":0.5},\"showscale\":false},\"mode\":\"markers\",\"name\":\"Feasible Trial\",\"showlegend\":false,\"x\":[true,false,true,true,false,false,false,false,true,true,false,false,false,false,false,false,false,false,false,false,false,false,false,false,false,false,true,false,false,true,false,false,false,false,false,true,true,true,true,true,true,true,true,true,true,true,true,true,true,true,true,true,true,true,true,true,true,true,true,true,true,true,true,true,true,true,true,true,true,true,true,true,true,true,true,true,true,true,true,true,true,true,true,true,true,true,true,true,true,true,true,true,true,true,true,true,true,true,true,true,true,true,true,true,true,true,true,true,true,true,true,true,true,true,true,true,true,true,true,true,true,true,true,true,true,true,true,true,true,true,true,true,true,true,true,true,false,true,true,true,true,true,true,true,true,true,true,true,true,true,true,true,true,true,true,true,true,true,false,true,true,true,true,true,true,true,true,true,true,true,true,true,true,true,true,true,true,true,true,true,true,true,true,true,true,true,true,true,false,true,true,true,true,true,true,true,true,true,true,true,true,true,true,true,true,true,true,true,true,true,true,true,true,true,true,true,true,true,true,true,false,true,true,true,true,true,true,true,true,true,true,true,true,true,true,true,true,true,true,true,true,true,true,true,true,true,true,true,true,true,true,true,true,true,true,false,true,true,true,true,true,true,true,true,true,true,true,true,true,true,true,true,true,true,false,true,true,true,true,true,true,true,true,true,true,true,true,true,true,true,true,true,true,true,true,false,true,true,true,true,true,true,true,true,true,true,true,true,true,true,true,true,true,false,false,false,false,false,false,true,false,false,true,true,true,true,true,true,true,true,true,true,false,true,true,true,true,true,true,true,true,true,true,true,true,true,false,true,true,true,true,true,true,true,true,true,true,false,false,false,false,false,false,false,false,false,true,true,true,true,true,true,false,true,true,true,true,true,true,true,true,true,false,true,true,true,true,true,true,true,true,false,true,true,true,true,true,true,true,true],\"y\":[0.07739749877027387,0.07858667209228613,0.06510864611853484,0.07847320693421804,0.04748853628419093,0.06630303591406465,0.05559490574123661,0.03880682904742222,0.0511740666502776,0.04990227196529182,0.17203837452657234,0.16417606308745472,0.18159872637332145,0.25157064039912846,0.2508552735885827,0.24598114807809007,0.1686420169674047,0.18140302202617758,0.233245079980302,0.15629938351752104,0.24918758047126383,0.2488223323954564,0.23782650633308317,0.2261583249136928,0.13058067197264445,0.22325233828975805,0.24043284536845194,0.2404804648408771,0.1407625942679735,0.24213118699221783,0.1596883890997764,0.2489787020501028,0.258314122664155,0.2530453489667818,0.25641561538700847,0.25738782419098777,0.25687054752185123,0.08349745506425506,0.12203873965555477,0.2570313447684518,0.2215173254355084,0.25640094395641533,0.25747448661980776,0.19452109535474732,0.10745236609291679,0.26115867252999747,0.25171831339056944,0.21755633533860108,0.24775298127240578,0.09984467314454523,0.15870454080827973,0.24979985526569679,0.26031260509464726,0.23730216203755225,0.24838017746913532,0.25459528452784413,0.19421461310633029,0.23503902317854344,0.06453910647749937,0.2617747220071662,0.2601960292624363,0.25964641192870347,0.25981709583749335,0.263058790663452,0.25875930749019266,0.2667073894769113,0.26973685756984606,0.2692715062171388,0.26695611512670786,0.22727445935185595,0.26646646627785914,0.2576353273565389,0.2680955157291235,0.26851849611757345,0.26666032451272803,0.26162974566977376,0.27108685488123224,0.2660864708192767,0.27129235974016075,0.26850300084848233,0.27145308527349027,0.2698763331438474,0.2685480533428535,0.26858456071647,0.2631729590764075,0.2697394095808364,0.26765032679547784,0.22730731371042825,0.2515095822233475,0.2655218600906946,0.08696038385081403,0.2651627111622933,0.26954539223774704,0.2697015169715496,0.26982590443442017,0.005972113065949917,0.272147607614542,0.27217739073527913,0.2693843755508265,0.24017077921703353,0.24577764682258543,0.20131544471905774,0.0701017713155802,0.26311990303201926,0.24506801789415755,0.27373312502108754,0.27318575026644,0.26975968262018385,0.27095274859903284,0.2537540614768321,0.2737336407865632,0.26921099011471145,0.17902215852437006,0.2744543893394464,0.27509043678545714,0.2753158191736394,0.2667729289999982,0.2740320957939774,0.2655377074520251,0.27271199745284463,0.26537491803544333,0.2753214911497019,0.005972113065949917,0.2720444793270884,0.2742920910887087,0.26943851840490113,0.2556229016729896,0.26377586219385124,0.27211821882916365,0.2706584846341203,0.2643154658968802,0.26611258675355387,0.2751468833261084,0.27170612624448776,0.2733555262823487,0.06597788810483336,0.09926596914068031,0.2746037598776359,0.274661054177763,0.2733395725709268,0.27314294011755896,0.27508571539442955,0.27469056964193495,0.27546375448352656,0.27522041338403697,0.2666690318825953,0.2727451558460175,0.2681995495162941,0.236367314267053,0.17466048656773922,0.12517152665809406,0.27515769969618364,0.22975336509844752,0.27532393972685837,0.27213199258502513,0.2716401397105091,0.2706137774050363,0.2699049323619637,0.24988080332698645,0.2704168505811787,0.08474160337386709,0.27381926143168694,0.27499397663655456,0.20216971884036755,0.2745885307524775,0.2709208966709604,0.26581814132618076,0.16374548356059165,0.27154294524149136,0.2736025527156243,0.2583610901557852,0.2747097314467651,0.2719837259850468,0.272564679998845,0.2748097252485712,0.27179257303735904,0.27215387190069446,0.27366994981915127,0.1801675546864043,0.27283691723376746,0.2701039714392456,0.27364616181392887,0.27151831110808894,0.2752645258878983,0.2753211665774625,0.27384008543403043,0.2700440645176547,0.2747176195382377,0.2732823063897019,0.27054786893959876,0.2686687342675211,0.2757505849868378,0.27541399887167856,0.27464545374529936,0.273382506654308,0.27274013556010407,0.2745526393666851,0.2640147372214224,0.27293177551193704,0.26864436921757767,0.2686843429637316,0.2741042611487529,0.24118295110972612,0.27482340014829965,0.2733801485038014,0.2750876377212433,0.2750192523180676,0.005972113065949917,0.27413010997702686,0.26523994414715607,0.2734267890467883,0.2749694804608138,0.2724527950337419,0.2754640946763541,0.2706748046487466,0.2735443662208049,0.27179198166447704,0.27171747002253527,0.11434884470121537,0.27369772369817263,0.26987829735766805,0.27458556438589204,0.2503221830650957,0.2737265000320481,0.2727443926065065,0.2737970533244468,0.2746367953443241,0.27390820320379533,0.19877732297514383,0.2694489141953489,0.27396816727279955,0.27493781127290534,0.24200367394915237,0.27479292688839785,0.2726740463983271,0.27297930242429397,0.27205446411362216,0.2696731422092676,0.2732934776628971,0.08341195967179187,0.2751984084036107,0.27509007684831016,0.27476654650576743,0.2740987493195192,0.27424481287461133,0.2737006632106184,0.2660954308312873,0.2741140256124905,0.2743799759129613,0.25631050033221714,0.27116048369549844,0.2704263102716532,0.22529097585944585,0.24269372839264286,0.27359688944901556,0.27330769161981056,0.2364198795146937,0.1951004267617381,0.21398152317758343,0.2721604555345338,0.27231484528193656,0.2741756981300792,0.2734738664779609,0.2679545784369447,0.27448981303679004,0.09174631502673532,0.27350472761268,0.24035338994788477,0.26672265673450135,0.27285429713552056,0.27189033218941827,0.07594139814379311,0.1975484079166702,0.2735638024220421,0.2727710950752683,0.273657432770069,0.2697819717056563,0.2748976090123062,0.26761631985759826,0.269448915795837,0.24963216016394893,0.27555915341807447,0.26457492648565684,0.07953484831444879,0.27452610511168,0.2731545611404798,0.2748716104068249,0.2680937094318446,0.23653362392361488,0.27395319032677024,0.27251096104343137,0.2548623944563041,0.26511680025805423,0.27478547520176416,0.19477394444636079,0.21215606004214366,0.0646958365829232,0.27378638551505025,0.25106758769833626,0.2669474048853238,0.27375835881230476,0.27340545482308354,0.2738448204844154,0.2746722007547542,0.26560469136623766,0.2728572323415928,0.2692203304936441,0.12384747161586981,0.18781465722294227,0.2299785160911486,0.27459988947056096,0.2738190470093501,0.2644222457377057,0.2749701312248092,0.27383625421776037,0.273885878734306,0.26928085989113276,0.24524348433243853,0.06661253341917242,0.23822776763905074,0.15095211972873906,0.27237931710483443,0.27416475971221793,0.26903211967577606,0.2673053303526624,0.27282732926330705,0.24600135798135112,0.2747943869217192,0.005972113065949917,0.26504771374339003,0.2741573138529603,0.2723792742926132,0.2725395916229838,0.2739935618153069,0.2750463822765817,0.22562775432918386,0.2723384980078125,0.27288065295346464,0.21853261273541555,0.23208969805366367,0.27020784434218953,0.26507617625678265,0.2742780824227235,0.2728973643858764,0.27417847566514014,0.23337606109515704,0.2695922607129199,0.253365891853654,0.2710330619425847,0.005972113065949917,0.273303406417641,0.2713583640856314,0.2532399238938904,0.173997936383304,0.25774987468825045,0.2735330622755124,0.27224626237739835,0.2751332573072699,0.2683083211379426,0.2724460050122563,0.1066040525889241,0.27110476708208,0.24869880677323963,0.27043502867373503,0.2721389903064378,0.25923863587175267,0.26899106792882665,0.2714625579556883,0.26463928515777024,0.2692139507382832,0.08586172593048587,0.27198437432895484,0.27400635963747166,0.27074485932446585,0.2701897137570865,0.27201409611636224,0.060525729166272926,0.2730942558055558,0.272159682056444,0.268540395433296,0.26842131033419203,0.1620156207186861,0.26661086670642536,0.27434175905292757,0.24272369156622964,0.2512718641523418,0.2732789859153269,0.005972113065949917,0.272193159342027,0.26761989733040126,0.26420753791558044,0.2747719263644046,0.2278500851421179,0.2717106128899757,0.27238076256767707,0.2753787683675133,0.275206429969006,0.26737840259664597,0.27413688785222146,0.2688604495514677],\"type\":\"scatter\",\"xaxis\":\"x3\",\"yaxis\":\"y3\"},{\"marker\":{\"color\":[0,1,2,3,4,5,6,7,8,9,10,11,12,13,14,15,16,17,18,19,20,21,22,23,24,25,26,27,28,29,30,31,32,33,34,35,36,37,38,39,40,41,42,43,44,45,46,47,48,49,50,51,52,53,54,55,56,57,58,59,60,61,62,63,64,65,66,67,68,69,70,71,72,73,74,75,76,77,78,79,80,81,82,83,84,85,86,87,88,89,90,91,92,93,94,95,96,97,98,99,100,101,102,103,104,105,106,107,108,109,110,111,112,113,114,115,116,117,118,119,120,121,122,123,124,125,126,127,128,129,130,131,132,133,134,135,136,137,138,139,140,141,142,143,144,145,146,147,148,149,150,151,152,153,154,155,156,157,158,159,160,161,162,163,164,165,166,167,168,169,170,171,172,173,174,175,176,177,178,179,180,181,182,183,184,185,186,187,188,189,190,191,192,193,194,195,196,197,198,199,200,201,202,203,204,205,206,207,208,209,210,211,212,213,214,215,216,217,218,219,220,221,222,223,224,225,226,227,228,229,230,231,232,233,234,235,236,237,238,239,240,241,242,243,244,245,246,247,248,249,250,251,252,253,254,255,256,257,258,259,260,261,262,263,264,265,266,267,268,269,270,271,272,273,274,275,276,277,278,279,280,281,282,283,284,285,286,287,288,289,290,291,292,293,294,295,296,297,298,299,300,301,302,303,304,305,306,307,308,309,310,311,312,313,314,315,316,317,318,319,320,321,322,323,324,325,326,327,328,329,330,331,332,333,334,335,336,337,338,339,340,341,342,343,344,345,346,347,348,349,350,351,352,353,354,355,356,357,358,359,360,361,362,363,364,365,366,367,368,369,370,371,372,373,374,375,376,377,378,379,380,381,382,383,384,385,386,387,388,389,390,391,392,393,394,395,396,397,398,399],\"colorbar\":{\"title\":{\"text\":\"Trial\"},\"x\":1.0,\"xpad\":40},\"colorscale\":[[0.0,\"rgb(247,251,255)\"],[0.125,\"rgb(222,235,247)\"],[0.25,\"rgb(198,219,239)\"],[0.375,\"rgb(158,202,225)\"],[0.5,\"rgb(107,174,214)\"],[0.625,\"rgb(66,146,198)\"],[0.75,\"rgb(33,113,181)\"],[0.875,\"rgb(8,81,156)\"],[1.0,\"rgb(8,48,107)\"]],\"line\":{\"color\":\"Grey\",\"width\":0.5},\"showscale\":false},\"mode\":\"markers\",\"name\":\"Feasible Trial\",\"showlegend\":false,\"x\":[true,true,true,true,false,false,true,false,false,false,true,true,true,true,true,true,true,true,true,true,true,true,true,true,true,true,false,true,true,true,true,true,true,true,true,true,true,false,true,true,false,true,true,true,true,true,false,true,true,true,true,true,true,true,true,true,false,true,true,true,true,true,true,true,true,true,true,true,true,false,true,true,true,true,true,true,true,true,true,true,true,true,true,true,true,true,true,false,true,true,true,true,true,true,true,true,true,true,true,true,false,true,true,true,true,true,true,true,true,true,true,true,true,true,true,true,true,true,true,true,true,true,true,true,true,true,false,true,true,true,true,true,true,true,true,true,true,true,true,true,true,true,true,true,true,true,true,true,false,true,true,true,true,true,true,true,true,true,true,true,true,true,true,true,true,true,true,true,true,true,true,true,true,true,true,true,true,true,false,true,true,true,true,true,true,true,true,true,true,true,true,true,true,true,true,true,true,true,true,true,true,true,true,true,true,true,true,true,true,false,true,true,true,true,true,true,true,true,true,true,true,true,true,true,true,true,true,true,true,true,true,true,true,true,true,true,true,true,true,true,true,true,true,true,true,true,true,true,true,false,true,true,true,true,true,true,true,true,true,true,true,true,true,true,true,true,true,false,true,true,true,true,true,true,true,true,true,true,true,true,true,true,true,true,true,true,true,true,false,true,true,true,true,true,true,true,true,true,true,true,true,true,true,true,true,true,true,true,true,false,true,true,true,true,true,true,true,true,true,true,true,true,true,true,true,true,false,true,true,true,true,true,true,true,true,true,true,true,true,true,true,true,true,true,true,false,true,true,true,true,true,true,true,true,true,true,true,true,true,true,true,true,true,true,true,false,true,true,true,true,true,true,true,true,true,true,true,true,true,true,true,true,true,true,false,true,true,true,true,true,true,true,true,true,true,true,true,true,true,true],\"y\":[0.07739749877027387,0.07858667209228613,0.06510864611853484,0.07847320693421804,0.04748853628419093,0.06630303591406465,0.05559490574123661,0.03880682904742222,0.0511740666502776,0.04990227196529182,0.17203837452657234,0.16417606308745472,0.18159872637332145,0.25157064039912846,0.2508552735885827,0.24598114807809007,0.1686420169674047,0.18140302202617758,0.233245079980302,0.15629938351752104,0.24918758047126383,0.2488223323954564,0.23782650633308317,0.2261583249136928,0.13058067197264445,0.22325233828975805,0.24043284536845194,0.2404804648408771,0.1407625942679735,0.24213118699221783,0.1596883890997764,0.2489787020501028,0.258314122664155,0.2530453489667818,0.25641561538700847,0.25738782419098777,0.25687054752185123,0.08349745506425506,0.12203873965555477,0.2570313447684518,0.2215173254355084,0.25640094395641533,0.25747448661980776,0.19452109535474732,0.10745236609291679,0.26115867252999747,0.25171831339056944,0.21755633533860108,0.24775298127240578,0.09984467314454523,0.15870454080827973,0.24979985526569679,0.26031260509464726,0.23730216203755225,0.24838017746913532,0.25459528452784413,0.19421461310633029,0.23503902317854344,0.06453910647749937,0.2617747220071662,0.2601960292624363,0.25964641192870347,0.25981709583749335,0.263058790663452,0.25875930749019266,0.2667073894769113,0.26973685756984606,0.2692715062171388,0.26695611512670786,0.22727445935185595,0.26646646627785914,0.2576353273565389,0.2680955157291235,0.26851849611757345,0.26666032451272803,0.26162974566977376,0.27108685488123224,0.2660864708192767,0.27129235974016075,0.26850300084848233,0.27145308527349027,0.2698763331438474,0.2685480533428535,0.26858456071647,0.2631729590764075,0.2697394095808364,0.26765032679547784,0.22730731371042825,0.2515095822233475,0.2655218600906946,0.08696038385081403,0.2651627111622933,0.26954539223774704,0.2697015169715496,0.26982590443442017,0.005972113065949917,0.272147607614542,0.27217739073527913,0.2693843755508265,0.24017077921703353,0.24577764682258543,0.20131544471905774,0.0701017713155802,0.26311990303201926,0.24506801789415755,0.27373312502108754,0.27318575026644,0.26975968262018385,0.27095274859903284,0.2537540614768321,0.2737336407865632,0.26921099011471145,0.17902215852437006,0.2744543893394464,0.27509043678545714,0.2753158191736394,0.2667729289999982,0.2740320957939774,0.2655377074520251,0.27271199745284463,0.26537491803544333,0.2753214911497019,0.005972113065949917,0.2720444793270884,0.2742920910887087,0.26943851840490113,0.2556229016729896,0.26377586219385124,0.27211821882916365,0.2706584846341203,0.2643154658968802,0.26611258675355387,0.2751468833261084,0.27170612624448776,0.2733555262823487,0.06597788810483336,0.09926596914068031,0.2746037598776359,0.274661054177763,0.2733395725709268,0.27314294011755896,0.27508571539442955,0.27469056964193495,0.27546375448352656,0.27522041338403697,0.2666690318825953,0.2727451558460175,0.2681995495162941,0.236367314267053,0.17466048656773922,0.12517152665809406,0.27515769969618364,0.22975336509844752,0.27532393972685837,0.27213199258502513,0.2716401397105091,0.2706137774050363,0.2699049323619637,0.24988080332698645,0.2704168505811787,0.08474160337386709,0.27381926143168694,0.27499397663655456,0.20216971884036755,0.2745885307524775,0.2709208966709604,0.26581814132618076,0.16374548356059165,0.27154294524149136,0.2736025527156243,0.2583610901557852,0.2747097314467651,0.2719837259850468,0.272564679998845,0.2748097252485712,0.27179257303735904,0.27215387190069446,0.27366994981915127,0.1801675546864043,0.27283691723376746,0.2701039714392456,0.27364616181392887,0.27151831110808894,0.2752645258878983,0.2753211665774625,0.27384008543403043,0.2700440645176547,0.2747176195382377,0.2732823063897019,0.27054786893959876,0.2686687342675211,0.2757505849868378,0.27541399887167856,0.27464545374529936,0.273382506654308,0.27274013556010407,0.2745526393666851,0.2640147372214224,0.27293177551193704,0.26864436921757767,0.2686843429637316,0.2741042611487529,0.24118295110972612,0.27482340014829965,0.2733801485038014,0.2750876377212433,0.2750192523180676,0.005972113065949917,0.27413010997702686,0.26523994414715607,0.2734267890467883,0.2749694804608138,0.2724527950337419,0.2754640946763541,0.2706748046487466,0.2735443662208049,0.27179198166447704,0.27171747002253527,0.11434884470121537,0.27369772369817263,0.26987829735766805,0.27458556438589204,0.2503221830650957,0.2737265000320481,0.2727443926065065,0.2737970533244468,0.2746367953443241,0.27390820320379533,0.19877732297514383,0.2694489141953489,0.27396816727279955,0.27493781127290534,0.24200367394915237,0.27479292688839785,0.2726740463983271,0.27297930242429397,0.27205446411362216,0.2696731422092676,0.2732934776628971,0.08341195967179187,0.2751984084036107,0.27509007684831016,0.27476654650576743,0.2740987493195192,0.27424481287461133,0.2737006632106184,0.2660954308312873,0.2741140256124905,0.2743799759129613,0.25631050033221714,0.27116048369549844,0.2704263102716532,0.22529097585944585,0.24269372839264286,0.27359688944901556,0.27330769161981056,0.2364198795146937,0.1951004267617381,0.21398152317758343,0.2721604555345338,0.27231484528193656,0.2741756981300792,0.2734738664779609,0.2679545784369447,0.27448981303679004,0.09174631502673532,0.27350472761268,0.24035338994788477,0.26672265673450135,0.27285429713552056,0.27189033218941827,0.07594139814379311,0.1975484079166702,0.2735638024220421,0.2727710950752683,0.273657432770069,0.2697819717056563,0.2748976090123062,0.26761631985759826,0.269448915795837,0.24963216016394893,0.27555915341807447,0.26457492648565684,0.07953484831444879,0.27452610511168,0.2731545611404798,0.2748716104068249,0.2680937094318446,0.23653362392361488,0.27395319032677024,0.27251096104343137,0.2548623944563041,0.26511680025805423,0.27478547520176416,0.19477394444636079,0.21215606004214366,0.0646958365829232,0.27378638551505025,0.25106758769833626,0.2669474048853238,0.27375835881230476,0.27340545482308354,0.2738448204844154,0.2746722007547542,0.26560469136623766,0.2728572323415928,0.2692203304936441,0.12384747161586981,0.18781465722294227,0.2299785160911486,0.27459988947056096,0.2738190470093501,0.2644222457377057,0.2749701312248092,0.27383625421776037,0.273885878734306,0.26928085989113276,0.24524348433243853,0.06661253341917242,0.23822776763905074,0.15095211972873906,0.27237931710483443,0.27416475971221793,0.26903211967577606,0.2673053303526624,0.27282732926330705,0.24600135798135112,0.2747943869217192,0.005972113065949917,0.26504771374339003,0.2741573138529603,0.2723792742926132,0.2725395916229838,0.2739935618153069,0.2750463822765817,0.22562775432918386,0.2723384980078125,0.27288065295346464,0.21853261273541555,0.23208969805366367,0.27020784434218953,0.26507617625678265,0.2742780824227235,0.2728973643858764,0.27417847566514014,0.23337606109515704,0.2695922607129199,0.253365891853654,0.2710330619425847,0.005972113065949917,0.273303406417641,0.2713583640856314,0.2532399238938904,0.173997936383304,0.25774987468825045,0.2735330622755124,0.27224626237739835,0.2751332573072699,0.2683083211379426,0.2724460050122563,0.1066040525889241,0.27110476708208,0.24869880677323963,0.27043502867373503,0.2721389903064378,0.25923863587175267,0.26899106792882665,0.2714625579556883,0.26463928515777024,0.2692139507382832,0.08586172593048587,0.27198437432895484,0.27400635963747166,0.27074485932446585,0.2701897137570865,0.27201409611636224,0.060525729166272926,0.2730942558055558,0.272159682056444,0.268540395433296,0.26842131033419203,0.1620156207186861,0.26661086670642536,0.27434175905292757,0.24272369156622964,0.2512718641523418,0.2732789859153269,0.005972113065949917,0.272193159342027,0.26761989733040126,0.26420753791558044,0.2747719263644046,0.2278500851421179,0.2717106128899757,0.27238076256767707,0.2753787683675133,0.275206429969006,0.26737840259664597,0.27413688785222146,0.2688604495514677],\"type\":\"scatter\",\"xaxis\":\"x4\",\"yaxis\":\"y4\"},{\"marker\":{\"color\":[0,1,2,3,4,5,6,7,8,9,10,11,12,13,14,15,16,17,18,19,20,21,22,23,24,25,26,27,28,29,30,31,32,33,34,35,36,37,38,39,40,41,42,43,44,45,46,47,48,49,50,51,52,53,54,55,56,57,58,59,60,61,62,63,64,65,66,67,68,69,70,71,72,73,74,75,76,77,78,79,80,81,82,83,84,85,86,87,88,89,90,91,92,93,94,95,96,97,98,99,100,101,102,103,104,105,106,107,108,109,110,111,112,113,114,115,116,117,118,119,120,121,122,123,124,125,126,127,128,129,130,131,132,133,134,135,136,137,138,139,140,141,142,143,144,145,146,147,148,149,150,151,152,153,154,155,156,157,158,159,160,161,162,163,164,165,166,167,168,169,170,171,172,173,174,175,176,177,178,179,180,181,182,183,184,185,186,187,188,189,190,191,192,193,194,195,196,197,198,199,200,201,202,203,204,205,206,207,208,209,210,211,212,213,214,215,216,217,218,219,220,221,222,223,224,225,226,227,228,229,230,231,232,233,234,235,236,237,238,239,240,241,242,243,244,245,246,247,248,249,250,251,252,253,254,255,256,257,258,259,260,261,262,263,264,265,266,267,268,269,270,271,272,273,274,275,276,277,278,279,280,281,282,283,284,285,286,287,288,289,290,291,292,293,294,295,296,297,298,299,300,301,302,303,304,305,306,307,308,309,310,311,312,313,314,315,316,317,318,319,320,321,322,323,324,325,326,327,328,329,330,331,332,333,334,335,336,337,338,339,340,341,342,343,344,345,346,347,348,349,350,351,352,353,354,355,356,357,358,359,360,361,362,363,364,365,366,367,368,369,370,371,372,373,374,375,376,377,378,379,380,381,382,383,384,385,386,387,388,389,390,391,392,393,394,395,396,397,398,399],\"colorbar\":{\"title\":{\"text\":\"Trial\"},\"x\":1.0,\"xpad\":40},\"colorscale\":[[0.0,\"rgb(247,251,255)\"],[0.125,\"rgb(222,235,247)\"],[0.25,\"rgb(198,219,239)\"],[0.375,\"rgb(158,202,225)\"],[0.5,\"rgb(107,174,214)\"],[0.625,\"rgb(66,146,198)\"],[0.75,\"rgb(33,113,181)\"],[0.875,\"rgb(8,81,156)\"],[1.0,\"rgb(8,48,107)\"]],\"line\":{\"color\":\"Grey\",\"width\":0.5},\"showscale\":false},\"mode\":\"markers\",\"name\":\"Feasible Trial\",\"showlegend\":false,\"x\":[54,530,1163,135,242,504,1202,4,288,912,670,651,732,880,999,930,1451,992,1165,1417,850,887,1054,819,1290,511,1077,789,1295,613,1052,856,828,756,739,722,552,441,412,584,291,616,574,574,410,672,695,148,339,478,608,559,698,674,710,965,768,663,804,476,481,483,486,360,363,192,170,164,173,153,71,17,210,197,205,210,79,200,85,98,81,83,104,95,25,108,107,62,290,245,112,250,48,44,43,0,43,44,44,134,77,40,134,54,8,78,125,133,85,139,77,79,4,72,72,76,170,71,239,128,125,66,0,31,44,30,159,58,117,117,175,20,59,123,70,62,150,67,97,80,87,92,67,70,64,21,101,186,59,3,227,69,96,61,155,37,56,109,1373,29,1,75,66,103,58,35,144,55,100,56,1115,70,32,110,68,139,31,92,2,63,173,65,122,78,90,98,143,85,108,30,160,72,83,91,95,134,94,22,130,81,182,64,40,81,114,83,56,0,50,27,67,88,123,77,86,41,116,148,77,52,26,77,1231,97,60,113,53,79,27,137,105,88,1498,71,84,57,119,29,90,1,64,55,48,48,42,56,22,103,74,45,119,86,154,20,51,103,71,131,4,72,38,100,54,142,86,27,115,66,94,43,152,117,4,71,38,82,117,65,169,94,936,67,23,136,66,105,53,26,50,93,133,411,19,59,3,86,322,112,50,159,86,45,111,71,192,129,33,84,3,534,55,103,141,66,42,66,25,105,66,865,38,122,87,25,159,64,100,56,0,131,85,32,111,65,87,185,141,95,84,124,30,167,81,112,57,1322,29,772,85,0,119,57,995,144,452,92,50,75,224,113,78,30,1088,158,104,67,30,134,89,49,1,106,72,35,139,93,270,56,120,172,77,20,49,105,75,618,127,0,45,94,205,64,31,148,101,70,57,26,60,26],\"y\":[0.07739749877027387,0.07858667209228613,0.06510864611853484,0.07847320693421804,0.04748853628419093,0.06630303591406465,0.05559490574123661,0.03880682904742222,0.0511740666502776,0.04990227196529182,0.17203837452657234,0.16417606308745472,0.18159872637332145,0.25157064039912846,0.2508552735885827,0.24598114807809007,0.1686420169674047,0.18140302202617758,0.233245079980302,0.15629938351752104,0.24918758047126383,0.2488223323954564,0.23782650633308317,0.2261583249136928,0.13058067197264445,0.22325233828975805,0.24043284536845194,0.2404804648408771,0.1407625942679735,0.24213118699221783,0.1596883890997764,0.2489787020501028,0.258314122664155,0.2530453489667818,0.25641561538700847,0.25738782419098777,0.25687054752185123,0.08349745506425506,0.12203873965555477,0.2570313447684518,0.2215173254355084,0.25640094395641533,0.25747448661980776,0.19452109535474732,0.10745236609291679,0.26115867252999747,0.25171831339056944,0.21755633533860108,0.24775298127240578,0.09984467314454523,0.15870454080827973,0.24979985526569679,0.26031260509464726,0.23730216203755225,0.24838017746913532,0.25459528452784413,0.19421461310633029,0.23503902317854344,0.06453910647749937,0.2617747220071662,0.2601960292624363,0.25964641192870347,0.25981709583749335,0.263058790663452,0.25875930749019266,0.2667073894769113,0.26973685756984606,0.2692715062171388,0.26695611512670786,0.22727445935185595,0.26646646627785914,0.2576353273565389,0.2680955157291235,0.26851849611757345,0.26666032451272803,0.26162974566977376,0.27108685488123224,0.2660864708192767,0.27129235974016075,0.26850300084848233,0.27145308527349027,0.2698763331438474,0.2685480533428535,0.26858456071647,0.2631729590764075,0.2697394095808364,0.26765032679547784,0.22730731371042825,0.2515095822233475,0.2655218600906946,0.08696038385081403,0.2651627111622933,0.26954539223774704,0.2697015169715496,0.26982590443442017,0.005972113065949917,0.272147607614542,0.27217739073527913,0.2693843755508265,0.24017077921703353,0.24577764682258543,0.20131544471905774,0.0701017713155802,0.26311990303201926,0.24506801789415755,0.27373312502108754,0.27318575026644,0.26975968262018385,0.27095274859903284,0.2537540614768321,0.2737336407865632,0.26921099011471145,0.17902215852437006,0.2744543893394464,0.27509043678545714,0.2753158191736394,0.2667729289999982,0.2740320957939774,0.2655377074520251,0.27271199745284463,0.26537491803544333,0.2753214911497019,0.005972113065949917,0.2720444793270884,0.2742920910887087,0.26943851840490113,0.2556229016729896,0.26377586219385124,0.27211821882916365,0.2706584846341203,0.2643154658968802,0.26611258675355387,0.2751468833261084,0.27170612624448776,0.2733555262823487,0.06597788810483336,0.09926596914068031,0.2746037598776359,0.274661054177763,0.2733395725709268,0.27314294011755896,0.27508571539442955,0.27469056964193495,0.27546375448352656,0.27522041338403697,0.2666690318825953,0.2727451558460175,0.2681995495162941,0.236367314267053,0.17466048656773922,0.12517152665809406,0.27515769969618364,0.22975336509844752,0.27532393972685837,0.27213199258502513,0.2716401397105091,0.2706137774050363,0.2699049323619637,0.24988080332698645,0.2704168505811787,0.08474160337386709,0.27381926143168694,0.27499397663655456,0.20216971884036755,0.2745885307524775,0.2709208966709604,0.26581814132618076,0.16374548356059165,0.27154294524149136,0.2736025527156243,0.2583610901557852,0.2747097314467651,0.2719837259850468,0.272564679998845,0.2748097252485712,0.27179257303735904,0.27215387190069446,0.27366994981915127,0.1801675546864043,0.27283691723376746,0.2701039714392456,0.27364616181392887,0.27151831110808894,0.2752645258878983,0.2753211665774625,0.27384008543403043,0.2700440645176547,0.2747176195382377,0.2732823063897019,0.27054786893959876,0.2686687342675211,0.2757505849868378,0.27541399887167856,0.27464545374529936,0.273382506654308,0.27274013556010407,0.2745526393666851,0.2640147372214224,0.27293177551193704,0.26864436921757767,0.2686843429637316,0.2741042611487529,0.24118295110972612,0.27482340014829965,0.2733801485038014,0.2750876377212433,0.2750192523180676,0.005972113065949917,0.27413010997702686,0.26523994414715607,0.2734267890467883,0.2749694804608138,0.2724527950337419,0.2754640946763541,0.2706748046487466,0.2735443662208049,0.27179198166447704,0.27171747002253527,0.11434884470121537,0.27369772369817263,0.26987829735766805,0.27458556438589204,0.2503221830650957,0.2737265000320481,0.2727443926065065,0.2737970533244468,0.2746367953443241,0.27390820320379533,0.19877732297514383,0.2694489141953489,0.27396816727279955,0.27493781127290534,0.24200367394915237,0.27479292688839785,0.2726740463983271,0.27297930242429397,0.27205446411362216,0.2696731422092676,0.2732934776628971,0.08341195967179187,0.2751984084036107,0.27509007684831016,0.27476654650576743,0.2740987493195192,0.27424481287461133,0.2737006632106184,0.2660954308312873,0.2741140256124905,0.2743799759129613,0.25631050033221714,0.27116048369549844,0.2704263102716532,0.22529097585944585,0.24269372839264286,0.27359688944901556,0.27330769161981056,0.2364198795146937,0.1951004267617381,0.21398152317758343,0.2721604555345338,0.27231484528193656,0.2741756981300792,0.2734738664779609,0.2679545784369447,0.27448981303679004,0.09174631502673532,0.27350472761268,0.24035338994788477,0.26672265673450135,0.27285429713552056,0.27189033218941827,0.07594139814379311,0.1975484079166702,0.2735638024220421,0.2727710950752683,0.273657432770069,0.2697819717056563,0.2748976090123062,0.26761631985759826,0.269448915795837,0.24963216016394893,0.27555915341807447,0.26457492648565684,0.07953484831444879,0.27452610511168,0.2731545611404798,0.2748716104068249,0.2680937094318446,0.23653362392361488,0.27395319032677024,0.27251096104343137,0.2548623944563041,0.26511680025805423,0.27478547520176416,0.19477394444636079,0.21215606004214366,0.0646958365829232,0.27378638551505025,0.25106758769833626,0.2669474048853238,0.27375835881230476,0.27340545482308354,0.2738448204844154,0.2746722007547542,0.26560469136623766,0.2728572323415928,0.2692203304936441,0.12384747161586981,0.18781465722294227,0.2299785160911486,0.27459988947056096,0.2738190470093501,0.2644222457377057,0.2749701312248092,0.27383625421776037,0.273885878734306,0.26928085989113276,0.24524348433243853,0.06661253341917242,0.23822776763905074,0.15095211972873906,0.27237931710483443,0.27416475971221793,0.26903211967577606,0.2673053303526624,0.27282732926330705,0.24600135798135112,0.2747943869217192,0.005972113065949917,0.26504771374339003,0.2741573138529603,0.2723792742926132,0.2725395916229838,0.2739935618153069,0.2750463822765817,0.22562775432918386,0.2723384980078125,0.27288065295346464,0.21853261273541555,0.23208969805366367,0.27020784434218953,0.26507617625678265,0.2742780824227235,0.2728973643858764,0.27417847566514014,0.23337606109515704,0.2695922607129199,0.253365891853654,0.2710330619425847,0.005972113065949917,0.273303406417641,0.2713583640856314,0.2532399238938904,0.173997936383304,0.25774987468825045,0.2735330622755124,0.27224626237739835,0.2751332573072699,0.2683083211379426,0.2724460050122563,0.1066040525889241,0.27110476708208,0.24869880677323963,0.27043502867373503,0.2721389903064378,0.25923863587175267,0.26899106792882665,0.2714625579556883,0.26463928515777024,0.2692139507382832,0.08586172593048587,0.27198437432895484,0.27400635963747166,0.27074485932446585,0.2701897137570865,0.27201409611636224,0.060525729166272926,0.2730942558055558,0.272159682056444,0.268540395433296,0.26842131033419203,0.1620156207186861,0.26661086670642536,0.27434175905292757,0.24272369156622964,0.2512718641523418,0.2732789859153269,0.005972113065949917,0.272193159342027,0.26761989733040126,0.26420753791558044,0.2747719263644046,0.2278500851421179,0.2717106128899757,0.27238076256767707,0.2753787683675133,0.275206429969006,0.26737840259664597,0.27413688785222146,0.2688604495514677],\"type\":\"scatter\",\"xaxis\":\"x5\",\"yaxis\":\"y5\"}],                        {\"template\":{\"data\":{\"histogram2dcontour\":[{\"type\":\"histogram2dcontour\",\"colorbar\":{\"outlinewidth\":0,\"ticks\":\"\"},\"colorscale\":[[0.0,\"#0d0887\"],[0.1111111111111111,\"#46039f\"],[0.2222222222222222,\"#7201a8\"],[0.3333333333333333,\"#9c179e\"],[0.4444444444444444,\"#bd3786\"],[0.5555555555555556,\"#d8576b\"],[0.6666666666666666,\"#ed7953\"],[0.7777777777777778,\"#fb9f3a\"],[0.8888888888888888,\"#fdca26\"],[1.0,\"#f0f921\"]]}],\"choropleth\":[{\"type\":\"choropleth\",\"colorbar\":{\"outlinewidth\":0,\"ticks\":\"\"}}],\"histogram2d\":[{\"type\":\"histogram2d\",\"colorbar\":{\"outlinewidth\":0,\"ticks\":\"\"},\"colorscale\":[[0.0,\"#0d0887\"],[0.1111111111111111,\"#46039f\"],[0.2222222222222222,\"#7201a8\"],[0.3333333333333333,\"#9c179e\"],[0.4444444444444444,\"#bd3786\"],[0.5555555555555556,\"#d8576b\"],[0.6666666666666666,\"#ed7953\"],[0.7777777777777778,\"#fb9f3a\"],[0.8888888888888888,\"#fdca26\"],[1.0,\"#f0f921\"]]}],\"heatmap\":[{\"type\":\"heatmap\",\"colorbar\":{\"outlinewidth\":0,\"ticks\":\"\"},\"colorscale\":[[0.0,\"#0d0887\"],[0.1111111111111111,\"#46039f\"],[0.2222222222222222,\"#7201a8\"],[0.3333333333333333,\"#9c179e\"],[0.4444444444444444,\"#bd3786\"],[0.5555555555555556,\"#d8576b\"],[0.6666666666666666,\"#ed7953\"],[0.7777777777777778,\"#fb9f3a\"],[0.8888888888888888,\"#fdca26\"],[1.0,\"#f0f921\"]]}],\"heatmapgl\":[{\"type\":\"heatmapgl\",\"colorbar\":{\"outlinewidth\":0,\"ticks\":\"\"},\"colorscale\":[[0.0,\"#0d0887\"],[0.1111111111111111,\"#46039f\"],[0.2222222222222222,\"#7201a8\"],[0.3333333333333333,\"#9c179e\"],[0.4444444444444444,\"#bd3786\"],[0.5555555555555556,\"#d8576b\"],[0.6666666666666666,\"#ed7953\"],[0.7777777777777778,\"#fb9f3a\"],[0.8888888888888888,\"#fdca26\"],[1.0,\"#f0f921\"]]}],\"contourcarpet\":[{\"type\":\"contourcarpet\",\"colorbar\":{\"outlinewidth\":0,\"ticks\":\"\"}}],\"contour\":[{\"type\":\"contour\",\"colorbar\":{\"outlinewidth\":0,\"ticks\":\"\"},\"colorscale\":[[0.0,\"#0d0887\"],[0.1111111111111111,\"#46039f\"],[0.2222222222222222,\"#7201a8\"],[0.3333333333333333,\"#9c179e\"],[0.4444444444444444,\"#bd3786\"],[0.5555555555555556,\"#d8576b\"],[0.6666666666666666,\"#ed7953\"],[0.7777777777777778,\"#fb9f3a\"],[0.8888888888888888,\"#fdca26\"],[1.0,\"#f0f921\"]]}],\"surface\":[{\"type\":\"surface\",\"colorbar\":{\"outlinewidth\":0,\"ticks\":\"\"},\"colorscale\":[[0.0,\"#0d0887\"],[0.1111111111111111,\"#46039f\"],[0.2222222222222222,\"#7201a8\"],[0.3333333333333333,\"#9c179e\"],[0.4444444444444444,\"#bd3786\"],[0.5555555555555556,\"#d8576b\"],[0.6666666666666666,\"#ed7953\"],[0.7777777777777778,\"#fb9f3a\"],[0.8888888888888888,\"#fdca26\"],[1.0,\"#f0f921\"]]}],\"mesh3d\":[{\"type\":\"mesh3d\",\"colorbar\":{\"outlinewidth\":0,\"ticks\":\"\"}}],\"scatter\":[{\"fillpattern\":{\"fillmode\":\"overlay\",\"size\":10,\"solidity\":0.2},\"type\":\"scatter\"}],\"parcoords\":[{\"type\":\"parcoords\",\"line\":{\"colorbar\":{\"outlinewidth\":0,\"ticks\":\"\"}}}],\"scatterpolargl\":[{\"type\":\"scatterpolargl\",\"marker\":{\"colorbar\":{\"outlinewidth\":0,\"ticks\":\"\"}}}],\"bar\":[{\"error_x\":{\"color\":\"#2a3f5f\"},\"error_y\":{\"color\":\"#2a3f5f\"},\"marker\":{\"line\":{\"color\":\"#E5ECF6\",\"width\":0.5},\"pattern\":{\"fillmode\":\"overlay\",\"size\":10,\"solidity\":0.2}},\"type\":\"bar\"}],\"scattergeo\":[{\"type\":\"scattergeo\",\"marker\":{\"colorbar\":{\"outlinewidth\":0,\"ticks\":\"\"}}}],\"scatterpolar\":[{\"type\":\"scatterpolar\",\"marker\":{\"colorbar\":{\"outlinewidth\":0,\"ticks\":\"\"}}}],\"histogram\":[{\"marker\":{\"pattern\":{\"fillmode\":\"overlay\",\"size\":10,\"solidity\":0.2}},\"type\":\"histogram\"}],\"scattergl\":[{\"type\":\"scattergl\",\"marker\":{\"colorbar\":{\"outlinewidth\":0,\"ticks\":\"\"}}}],\"scatter3d\":[{\"type\":\"scatter3d\",\"line\":{\"colorbar\":{\"outlinewidth\":0,\"ticks\":\"\"}},\"marker\":{\"colorbar\":{\"outlinewidth\":0,\"ticks\":\"\"}}}],\"scattermapbox\":[{\"type\":\"scattermapbox\",\"marker\":{\"colorbar\":{\"outlinewidth\":0,\"ticks\":\"\"}}}],\"scatterternary\":[{\"type\":\"scatterternary\",\"marker\":{\"colorbar\":{\"outlinewidth\":0,\"ticks\":\"\"}}}],\"scattercarpet\":[{\"type\":\"scattercarpet\",\"marker\":{\"colorbar\":{\"outlinewidth\":0,\"ticks\":\"\"}}}],\"carpet\":[{\"aaxis\":{\"endlinecolor\":\"#2a3f5f\",\"gridcolor\":\"white\",\"linecolor\":\"white\",\"minorgridcolor\":\"white\",\"startlinecolor\":\"#2a3f5f\"},\"baxis\":{\"endlinecolor\":\"#2a3f5f\",\"gridcolor\":\"white\",\"linecolor\":\"white\",\"minorgridcolor\":\"white\",\"startlinecolor\":\"#2a3f5f\"},\"type\":\"carpet\"}],\"table\":[{\"cells\":{\"fill\":{\"color\":\"#EBF0F8\"},\"line\":{\"color\":\"white\"}},\"header\":{\"fill\":{\"color\":\"#C8D4E3\"},\"line\":{\"color\":\"white\"}},\"type\":\"table\"}],\"barpolar\":[{\"marker\":{\"line\":{\"color\":\"#E5ECF6\",\"width\":0.5},\"pattern\":{\"fillmode\":\"overlay\",\"size\":10,\"solidity\":0.2}},\"type\":\"barpolar\"}],\"pie\":[{\"automargin\":true,\"type\":\"pie\"}]},\"layout\":{\"autotypenumbers\":\"strict\",\"colorway\":[\"#636efa\",\"#EF553B\",\"#00cc96\",\"#ab63fa\",\"#FFA15A\",\"#19d3f3\",\"#FF6692\",\"#B6E880\",\"#FF97FF\",\"#FECB52\"],\"font\":{\"color\":\"#2a3f5f\"},\"hovermode\":\"closest\",\"hoverlabel\":{\"align\":\"left\"},\"paper_bgcolor\":\"white\",\"plot_bgcolor\":\"#E5ECF6\",\"polar\":{\"bgcolor\":\"#E5ECF6\",\"angularaxis\":{\"gridcolor\":\"white\",\"linecolor\":\"white\",\"ticks\":\"\"},\"radialaxis\":{\"gridcolor\":\"white\",\"linecolor\":\"white\",\"ticks\":\"\"}},\"ternary\":{\"bgcolor\":\"#E5ECF6\",\"aaxis\":{\"gridcolor\":\"white\",\"linecolor\":\"white\",\"ticks\":\"\"},\"baxis\":{\"gridcolor\":\"white\",\"linecolor\":\"white\",\"ticks\":\"\"},\"caxis\":{\"gridcolor\":\"white\",\"linecolor\":\"white\",\"ticks\":\"\"}},\"coloraxis\":{\"colorbar\":{\"outlinewidth\":0,\"ticks\":\"\"}},\"colorscale\":{\"sequential\":[[0.0,\"#0d0887\"],[0.1111111111111111,\"#46039f\"],[0.2222222222222222,\"#7201a8\"],[0.3333333333333333,\"#9c179e\"],[0.4444444444444444,\"#bd3786\"],[0.5555555555555556,\"#d8576b\"],[0.6666666666666666,\"#ed7953\"],[0.7777777777777778,\"#fb9f3a\"],[0.8888888888888888,\"#fdca26\"],[1.0,\"#f0f921\"]],\"sequentialminus\":[[0.0,\"#0d0887\"],[0.1111111111111111,\"#46039f\"],[0.2222222222222222,\"#7201a8\"],[0.3333333333333333,\"#9c179e\"],[0.4444444444444444,\"#bd3786\"],[0.5555555555555556,\"#d8576b\"],[0.6666666666666666,\"#ed7953\"],[0.7777777777777778,\"#fb9f3a\"],[0.8888888888888888,\"#fdca26\"],[1.0,\"#f0f921\"]],\"diverging\":[[0,\"#8e0152\"],[0.1,\"#c51b7d\"],[0.2,\"#de77ae\"],[0.3,\"#f1b6da\"],[0.4,\"#fde0ef\"],[0.5,\"#f7f7f7\"],[0.6,\"#e6f5d0\"],[0.7,\"#b8e186\"],[0.8,\"#7fbc41\"],[0.9,\"#4d9221\"],[1,\"#276419\"]]},\"xaxis\":{\"gridcolor\":\"white\",\"linecolor\":\"white\",\"ticks\":\"\",\"title\":{\"standoff\":15},\"zerolinecolor\":\"white\",\"automargin\":true,\"zerolinewidth\":2},\"yaxis\":{\"gridcolor\":\"white\",\"linecolor\":\"white\",\"ticks\":\"\",\"title\":{\"standoff\":15},\"zerolinecolor\":\"white\",\"automargin\":true,\"zerolinewidth\":2},\"scene\":{\"xaxis\":{\"backgroundcolor\":\"#E5ECF6\",\"gridcolor\":\"white\",\"linecolor\":\"white\",\"showbackground\":true,\"ticks\":\"\",\"zerolinecolor\":\"white\",\"gridwidth\":2},\"yaxis\":{\"backgroundcolor\":\"#E5ECF6\",\"gridcolor\":\"white\",\"linecolor\":\"white\",\"showbackground\":true,\"ticks\":\"\",\"zerolinecolor\":\"white\",\"gridwidth\":2},\"zaxis\":{\"backgroundcolor\":\"#E5ECF6\",\"gridcolor\":\"white\",\"linecolor\":\"white\",\"showbackground\":true,\"ticks\":\"\",\"zerolinecolor\":\"white\",\"gridwidth\":2}},\"shapedefaults\":{\"line\":{\"color\":\"#2a3f5f\"}},\"annotationdefaults\":{\"arrowcolor\":\"#2a3f5f\",\"arrowhead\":0,\"arrowwidth\":1},\"geo\":{\"bgcolor\":\"white\",\"landcolor\":\"#E5ECF6\",\"subunitcolor\":\"white\",\"showland\":true,\"showlakes\":true,\"lakecolor\":\"white\"},\"title\":{\"x\":0.05},\"mapbox\":{\"style\":\"light\"}}},\"xaxis\":{\"anchor\":\"y\",\"domain\":[0.0,0.16799999999999998],\"title\":{\"text\":\"alpha\"}},\"yaxis\":{\"anchor\":\"x\",\"domain\":[0.0,1.0],\"title\":{\"text\":\"Objective Value\"}},\"xaxis2\":{\"anchor\":\"y2\",\"domain\":[0.208,0.376],\"title\":{\"text\":\"beta\"}},\"yaxis2\":{\"anchor\":\"x2\",\"domain\":[0.0,1.0],\"matches\":\"y\",\"showticklabels\":false},\"xaxis3\":{\"anchor\":\"y3\",\"domain\":[0.416,0.584],\"title\":{\"text\":\"implicit\"},\"type\":\"category\",\"categoryorder\":\"array\",\"categoryarray\":[true,false]},\"yaxis3\":{\"anchor\":\"x3\",\"domain\":[0.0,1.0],\"matches\":\"y\",\"showticklabels\":false},\"xaxis4\":{\"anchor\":\"y4\",\"domain\":[0.624,0.792],\"title\":{\"text\":\"normalize_similarity\"},\"type\":\"category\",\"categoryorder\":\"array\",\"categoryarray\":[true,false]},\"yaxis4\":{\"anchor\":\"x4\",\"domain\":[0.0,1.0],\"matches\":\"y\",\"showticklabels\":false},\"xaxis5\":{\"anchor\":\"y5\",\"domain\":[0.832,1.0],\"title\":{\"text\":\"topK\"}},\"yaxis5\":{\"anchor\":\"x5\",\"domain\":[0.0,1.0],\"matches\":\"y\",\"showticklabels\":false},\"title\":{\"text\":\"Slice Plot\"},\"width\":1500},                        {\"responsive\": true}                    ).then(function(){\n",
       "                            \n",
       "var gd = document.getElementById('5f065825-aea2-4ec7-99a9-c8e6a3a13d4c');\n",
       "var x = new MutationObserver(function (mutations, observer) {{\n",
       "        var display = window.getComputedStyle(gd).display;\n",
       "        if (!display || display === 'none') {{\n",
       "            console.log([gd, 'removed!']);\n",
       "            Plotly.purge(gd);\n",
       "            observer.disconnect();\n",
       "        }}\n",
       "}});\n",
       "\n",
       "// Listen for the removal of the full notebook cells\n",
       "var notebookContainer = gd.closest('#notebook-container');\n",
       "if (notebookContainer) {{\n",
       "    x.observe(notebookContainer, {childList: true});\n",
       "}}\n",
       "\n",
       "// Listen for the clearing of the current output cell\n",
       "var outputEl = gd.closest('.output');\n",
       "if (outputEl) {{\n",
       "    x.observe(outputEl, {childList: true});\n",
       "}}\n",
       "\n",
       "                        })                };                });            </script>        </div>"
      ]
     },
     "metadata": {},
     "output_type": "display_data"
    }
   ],
   "source": [
    "if not config['tune_parameters']:\n",
    "    optuna_study = optuna.load_study(study_name=f'hyperparameters_tuning_{config[\"model\"]}_{config[\"metric\"]}', storage=f'sqlite:///{config[\"database_path\"]}')\n",
    "    \n",
    "fig = optuna.visualization.plot_slice(optuna_study)\n",
    "fig.show()"
   ]
  },
  {
   "cell_type": "code",
   "execution_count": 15,
   "id": "9dc90de3",
   "metadata": {
    "execution": {
     "iopub.execute_input": "2024-12-16T15:24:22.193826Z",
     "iopub.status.busy": "2024-12-16T15:24:22.193402Z",
     "iopub.status.idle": "2024-12-16T15:24:30.716721Z",
     "shell.execute_reply": "2024-12-16T15:24:30.715439Z"
    },
    "papermill": {
     "duration": 8.574945,
     "end_time": "2024-12-16T15:24:30.719178",
     "exception": false,
     "start_time": "2024-12-16T15:24:22.144233",
     "status": "completed"
    },
    "tags": []
   },
   "outputs": [
    {
     "data": {
      "text/html": [
       "<div>                            <div id=\"027a7522-c632-44af-9840-7608f1f254fd\" class=\"plotly-graph-div\" style=\"height:525px; width:100%;\"></div>            <script type=\"text/javascript\">                require([\"plotly\"], function(Plotly) {                    window.PLOTLYENV=window.PLOTLYENV || {};                                    if (document.getElementById(\"027a7522-c632-44af-9840-7608f1f254fd\")) {                    Plotly.newPlot(                        \"027a7522-c632-44af-9840-7608f1f254fd\",                        [{\"cliponaxis\":false,\"hovertemplate\":[\"implicit (CategoricalDistribution): 0.00041899452477139995\\u003cextra\\u003e\\u003c\\u002fextra\\u003e\",\"topK (IntDistribution): 0.001730855682124289\\u003cextra\\u003e\\u003c\\u002fextra\\u003e\",\"normalize_similarity (CategoricalDistribution): 0.003172043492895081\\u003cextra\\u003e\\u003c\\u002fextra\\u003e\",\"alpha (FloatDistribution): 0.017911957154083023\\u003cextra\\u003e\\u003c\\u002fextra\\u003e\",\"beta (FloatDistribution): 0.9767661491461261\\u003cextra\\u003e\\u003c\\u002fextra\\u003e\"],\"name\":\"Objective Value\",\"orientation\":\"h\",\"text\":[\"\\u003c0.01\",\"\\u003c0.01\",\"\\u003c0.01\",\"0.02\",\"0.98\"],\"textposition\":\"outside\",\"x\":[0.00041899452477139995,0.001730855682124289,0.003172043492895081,0.017911957154083023,0.9767661491461261],\"y\":[\"implicit\",\"topK\",\"normalize_similarity\",\"alpha\",\"beta\"],\"type\":\"bar\"}],                        {\"title\":{\"text\":\"Hyperparameter Importances\"},\"xaxis\":{\"title\":{\"text\":\"Hyperparameter Importance\"}},\"yaxis\":{\"title\":{\"text\":\"Hyperparameter\"}},\"template\":{\"data\":{\"histogram2dcontour\":[{\"type\":\"histogram2dcontour\",\"colorbar\":{\"outlinewidth\":0,\"ticks\":\"\"},\"colorscale\":[[0.0,\"#0d0887\"],[0.1111111111111111,\"#46039f\"],[0.2222222222222222,\"#7201a8\"],[0.3333333333333333,\"#9c179e\"],[0.4444444444444444,\"#bd3786\"],[0.5555555555555556,\"#d8576b\"],[0.6666666666666666,\"#ed7953\"],[0.7777777777777778,\"#fb9f3a\"],[0.8888888888888888,\"#fdca26\"],[1.0,\"#f0f921\"]]}],\"choropleth\":[{\"type\":\"choropleth\",\"colorbar\":{\"outlinewidth\":0,\"ticks\":\"\"}}],\"histogram2d\":[{\"type\":\"histogram2d\",\"colorbar\":{\"outlinewidth\":0,\"ticks\":\"\"},\"colorscale\":[[0.0,\"#0d0887\"],[0.1111111111111111,\"#46039f\"],[0.2222222222222222,\"#7201a8\"],[0.3333333333333333,\"#9c179e\"],[0.4444444444444444,\"#bd3786\"],[0.5555555555555556,\"#d8576b\"],[0.6666666666666666,\"#ed7953\"],[0.7777777777777778,\"#fb9f3a\"],[0.8888888888888888,\"#fdca26\"],[1.0,\"#f0f921\"]]}],\"heatmap\":[{\"type\":\"heatmap\",\"colorbar\":{\"outlinewidth\":0,\"ticks\":\"\"},\"colorscale\":[[0.0,\"#0d0887\"],[0.1111111111111111,\"#46039f\"],[0.2222222222222222,\"#7201a8\"],[0.3333333333333333,\"#9c179e\"],[0.4444444444444444,\"#bd3786\"],[0.5555555555555556,\"#d8576b\"],[0.6666666666666666,\"#ed7953\"],[0.7777777777777778,\"#fb9f3a\"],[0.8888888888888888,\"#fdca26\"],[1.0,\"#f0f921\"]]}],\"heatmapgl\":[{\"type\":\"heatmapgl\",\"colorbar\":{\"outlinewidth\":0,\"ticks\":\"\"},\"colorscale\":[[0.0,\"#0d0887\"],[0.1111111111111111,\"#46039f\"],[0.2222222222222222,\"#7201a8\"],[0.3333333333333333,\"#9c179e\"],[0.4444444444444444,\"#bd3786\"],[0.5555555555555556,\"#d8576b\"],[0.6666666666666666,\"#ed7953\"],[0.7777777777777778,\"#fb9f3a\"],[0.8888888888888888,\"#fdca26\"],[1.0,\"#f0f921\"]]}],\"contourcarpet\":[{\"type\":\"contourcarpet\",\"colorbar\":{\"outlinewidth\":0,\"ticks\":\"\"}}],\"contour\":[{\"type\":\"contour\",\"colorbar\":{\"outlinewidth\":0,\"ticks\":\"\"},\"colorscale\":[[0.0,\"#0d0887\"],[0.1111111111111111,\"#46039f\"],[0.2222222222222222,\"#7201a8\"],[0.3333333333333333,\"#9c179e\"],[0.4444444444444444,\"#bd3786\"],[0.5555555555555556,\"#d8576b\"],[0.6666666666666666,\"#ed7953\"],[0.7777777777777778,\"#fb9f3a\"],[0.8888888888888888,\"#fdca26\"],[1.0,\"#f0f921\"]]}],\"surface\":[{\"type\":\"surface\",\"colorbar\":{\"outlinewidth\":0,\"ticks\":\"\"},\"colorscale\":[[0.0,\"#0d0887\"],[0.1111111111111111,\"#46039f\"],[0.2222222222222222,\"#7201a8\"],[0.3333333333333333,\"#9c179e\"],[0.4444444444444444,\"#bd3786\"],[0.5555555555555556,\"#d8576b\"],[0.6666666666666666,\"#ed7953\"],[0.7777777777777778,\"#fb9f3a\"],[0.8888888888888888,\"#fdca26\"],[1.0,\"#f0f921\"]]}],\"mesh3d\":[{\"type\":\"mesh3d\",\"colorbar\":{\"outlinewidth\":0,\"ticks\":\"\"}}],\"scatter\":[{\"fillpattern\":{\"fillmode\":\"overlay\",\"size\":10,\"solidity\":0.2},\"type\":\"scatter\"}],\"parcoords\":[{\"type\":\"parcoords\",\"line\":{\"colorbar\":{\"outlinewidth\":0,\"ticks\":\"\"}}}],\"scatterpolargl\":[{\"type\":\"scatterpolargl\",\"marker\":{\"colorbar\":{\"outlinewidth\":0,\"ticks\":\"\"}}}],\"bar\":[{\"error_x\":{\"color\":\"#2a3f5f\"},\"error_y\":{\"color\":\"#2a3f5f\"},\"marker\":{\"line\":{\"color\":\"#E5ECF6\",\"width\":0.5},\"pattern\":{\"fillmode\":\"overlay\",\"size\":10,\"solidity\":0.2}},\"type\":\"bar\"}],\"scattergeo\":[{\"type\":\"scattergeo\",\"marker\":{\"colorbar\":{\"outlinewidth\":0,\"ticks\":\"\"}}}],\"scatterpolar\":[{\"type\":\"scatterpolar\",\"marker\":{\"colorbar\":{\"outlinewidth\":0,\"ticks\":\"\"}}}],\"histogram\":[{\"marker\":{\"pattern\":{\"fillmode\":\"overlay\",\"size\":10,\"solidity\":0.2}},\"type\":\"histogram\"}],\"scattergl\":[{\"type\":\"scattergl\",\"marker\":{\"colorbar\":{\"outlinewidth\":0,\"ticks\":\"\"}}}],\"scatter3d\":[{\"type\":\"scatter3d\",\"line\":{\"colorbar\":{\"outlinewidth\":0,\"ticks\":\"\"}},\"marker\":{\"colorbar\":{\"outlinewidth\":0,\"ticks\":\"\"}}}],\"scattermapbox\":[{\"type\":\"scattermapbox\",\"marker\":{\"colorbar\":{\"outlinewidth\":0,\"ticks\":\"\"}}}],\"scatterternary\":[{\"type\":\"scatterternary\",\"marker\":{\"colorbar\":{\"outlinewidth\":0,\"ticks\":\"\"}}}],\"scattercarpet\":[{\"type\":\"scattercarpet\",\"marker\":{\"colorbar\":{\"outlinewidth\":0,\"ticks\":\"\"}}}],\"carpet\":[{\"aaxis\":{\"endlinecolor\":\"#2a3f5f\",\"gridcolor\":\"white\",\"linecolor\":\"white\",\"minorgridcolor\":\"white\",\"startlinecolor\":\"#2a3f5f\"},\"baxis\":{\"endlinecolor\":\"#2a3f5f\",\"gridcolor\":\"white\",\"linecolor\":\"white\",\"minorgridcolor\":\"white\",\"startlinecolor\":\"#2a3f5f\"},\"type\":\"carpet\"}],\"table\":[{\"cells\":{\"fill\":{\"color\":\"#EBF0F8\"},\"line\":{\"color\":\"white\"}},\"header\":{\"fill\":{\"color\":\"#C8D4E3\"},\"line\":{\"color\":\"white\"}},\"type\":\"table\"}],\"barpolar\":[{\"marker\":{\"line\":{\"color\":\"#E5ECF6\",\"width\":0.5},\"pattern\":{\"fillmode\":\"overlay\",\"size\":10,\"solidity\":0.2}},\"type\":\"barpolar\"}],\"pie\":[{\"automargin\":true,\"type\":\"pie\"}]},\"layout\":{\"autotypenumbers\":\"strict\",\"colorway\":[\"#636efa\",\"#EF553B\",\"#00cc96\",\"#ab63fa\",\"#FFA15A\",\"#19d3f3\",\"#FF6692\",\"#B6E880\",\"#FF97FF\",\"#FECB52\"],\"font\":{\"color\":\"#2a3f5f\"},\"hovermode\":\"closest\",\"hoverlabel\":{\"align\":\"left\"},\"paper_bgcolor\":\"white\",\"plot_bgcolor\":\"#E5ECF6\",\"polar\":{\"bgcolor\":\"#E5ECF6\",\"angularaxis\":{\"gridcolor\":\"white\",\"linecolor\":\"white\",\"ticks\":\"\"},\"radialaxis\":{\"gridcolor\":\"white\",\"linecolor\":\"white\",\"ticks\":\"\"}},\"ternary\":{\"bgcolor\":\"#E5ECF6\",\"aaxis\":{\"gridcolor\":\"white\",\"linecolor\":\"white\",\"ticks\":\"\"},\"baxis\":{\"gridcolor\":\"white\",\"linecolor\":\"white\",\"ticks\":\"\"},\"caxis\":{\"gridcolor\":\"white\",\"linecolor\":\"white\",\"ticks\":\"\"}},\"coloraxis\":{\"colorbar\":{\"outlinewidth\":0,\"ticks\":\"\"}},\"colorscale\":{\"sequential\":[[0.0,\"#0d0887\"],[0.1111111111111111,\"#46039f\"],[0.2222222222222222,\"#7201a8\"],[0.3333333333333333,\"#9c179e\"],[0.4444444444444444,\"#bd3786\"],[0.5555555555555556,\"#d8576b\"],[0.6666666666666666,\"#ed7953\"],[0.7777777777777778,\"#fb9f3a\"],[0.8888888888888888,\"#fdca26\"],[1.0,\"#f0f921\"]],\"sequentialminus\":[[0.0,\"#0d0887\"],[0.1111111111111111,\"#46039f\"],[0.2222222222222222,\"#7201a8\"],[0.3333333333333333,\"#9c179e\"],[0.4444444444444444,\"#bd3786\"],[0.5555555555555556,\"#d8576b\"],[0.6666666666666666,\"#ed7953\"],[0.7777777777777778,\"#fb9f3a\"],[0.8888888888888888,\"#fdca26\"],[1.0,\"#f0f921\"]],\"diverging\":[[0,\"#8e0152\"],[0.1,\"#c51b7d\"],[0.2,\"#de77ae\"],[0.3,\"#f1b6da\"],[0.4,\"#fde0ef\"],[0.5,\"#f7f7f7\"],[0.6,\"#e6f5d0\"],[0.7,\"#b8e186\"],[0.8,\"#7fbc41\"],[0.9,\"#4d9221\"],[1,\"#276419\"]]},\"xaxis\":{\"gridcolor\":\"white\",\"linecolor\":\"white\",\"ticks\":\"\",\"title\":{\"standoff\":15},\"zerolinecolor\":\"white\",\"automargin\":true,\"zerolinewidth\":2},\"yaxis\":{\"gridcolor\":\"white\",\"linecolor\":\"white\",\"ticks\":\"\",\"title\":{\"standoff\":15},\"zerolinecolor\":\"white\",\"automargin\":true,\"zerolinewidth\":2},\"scene\":{\"xaxis\":{\"backgroundcolor\":\"#E5ECF6\",\"gridcolor\":\"white\",\"linecolor\":\"white\",\"showbackground\":true,\"ticks\":\"\",\"zerolinecolor\":\"white\",\"gridwidth\":2},\"yaxis\":{\"backgroundcolor\":\"#E5ECF6\",\"gridcolor\":\"white\",\"linecolor\":\"white\",\"showbackground\":true,\"ticks\":\"\",\"zerolinecolor\":\"white\",\"gridwidth\":2},\"zaxis\":{\"backgroundcolor\":\"#E5ECF6\",\"gridcolor\":\"white\",\"linecolor\":\"white\",\"showbackground\":true,\"ticks\":\"\",\"zerolinecolor\":\"white\",\"gridwidth\":2}},\"shapedefaults\":{\"line\":{\"color\":\"#2a3f5f\"}},\"annotationdefaults\":{\"arrowcolor\":\"#2a3f5f\",\"arrowhead\":0,\"arrowwidth\":1},\"geo\":{\"bgcolor\":\"white\",\"landcolor\":\"#E5ECF6\",\"subunitcolor\":\"white\",\"showland\":true,\"showlakes\":true,\"lakecolor\":\"white\"},\"title\":{\"x\":0.05},\"mapbox\":{\"style\":\"light\"}}}},                        {\"responsive\": true}                    ).then(function(){\n",
       "                            \n",
       "var gd = document.getElementById('027a7522-c632-44af-9840-7608f1f254fd');\n",
       "var x = new MutationObserver(function (mutations, observer) {{\n",
       "        var display = window.getComputedStyle(gd).display;\n",
       "        if (!display || display === 'none') {{\n",
       "            console.log([gd, 'removed!']);\n",
       "            Plotly.purge(gd);\n",
       "            observer.disconnect();\n",
       "        }}\n",
       "}});\n",
       "\n",
       "// Listen for the removal of the full notebook cells\n",
       "var notebookContainer = gd.closest('#notebook-container');\n",
       "if (notebookContainer) {{\n",
       "    x.observe(notebookContainer, {childList: true});\n",
       "}}\n",
       "\n",
       "// Listen for the clearing of the current output cell\n",
       "var outputEl = gd.closest('.output');\n",
       "if (outputEl) {{\n",
       "    x.observe(outputEl, {childList: true});\n",
       "}}\n",
       "\n",
       "                        })                };                });            </script>        </div>"
      ]
     },
     "metadata": {},
     "output_type": "display_data"
    }
   ],
   "source": [
    "if not config['tune_parameters']:\n",
    "    optuna_study = optuna.load_study(study_name=f'hyperparameters_tuning_{config[\"model\"]}_{config[\"metric\"]}', storage=f'sqlite:///{config[\"database_path\"]}')\n",
    "    \n",
    "fig = optuna.visualization.plot_param_importances(optuna_study)\n",
    "fig.show()"
   ]
  },
  {
   "cell_type": "markdown",
   "id": "29df505e",
   "metadata": {
    "papermill": {
     "duration": 0.046814,
     "end_time": "2024-12-16T15:24:30.814701",
     "exception": false,
     "start_time": "2024-12-16T15:24:30.767887",
     "status": "completed"
    },
    "tags": []
   },
   "source": [
    "## Let's train the recommender with best parameter values"
   ]
  },
  {
   "cell_type": "code",
   "execution_count": 16,
   "id": "a6db8950",
   "metadata": {
    "execution": {
     "iopub.execute_input": "2024-12-16T15:24:30.912177Z",
     "iopub.status.busy": "2024-12-16T15:24:30.911734Z",
     "iopub.status.idle": "2024-12-16T15:24:57.262846Z",
     "shell.execute_reply": "2024-12-16T15:24:57.261587Z"
    },
    "papermill": {
     "duration": 26.403249,
     "end_time": "2024-12-16T15:24:57.265414",
     "exception": false,
     "start_time": "2024-12-16T15:24:30.862165",
     "status": "completed"
    },
    "tags": []
   },
   "outputs": [
    {
     "name": "stdout",
     "output_type": "stream",
     "text": [
      "RP3betaRecommender: Similarity column 38121 (100.0%), 1643.73 column/sec. Elapsed time 23.19 sec\n"
     ]
    }
   ],
   "source": [
    "if config['tune_best_params']:\n",
    "\n",
    "    if config['tune_parameters']:\n",
    "        best_params = optuna_study.best_trial.params\n",
    "    else: \n",
    "        with open(f'{K_PATH}/{GH_PATH}/{config[\"model\"]}Recommender/Optimizing{config[\"metric\"]}/best_params_{config[\"model\"]}_{config[\"metric\"]}.json', 'r') as best_params_json:\n",
    "            best_params = json.load(best_params_json)\n",
    "\n",
    "    recommender_instance = RP3betaRecommender(URM_train + URM_validation)\n",
    "    recommender_instance.fit(**best_params)"
   ]
  },
  {
   "cell_type": "markdown",
   "id": "e68fac4c",
   "metadata": {
    "papermill": {
     "duration": 0.047076,
     "end_time": "2024-12-16T15:24:57.361088",
     "exception": false,
     "start_time": "2024-12-16T15:24:57.314012",
     "status": "completed"
    },
    "tags": []
   },
   "source": [
    "# Testing"
   ]
  },
  {
   "cell_type": "markdown",
   "id": "45426ea0",
   "metadata": {
    "papermill": {
     "duration": 0.046647,
     "end_time": "2024-12-16T15:24:57.455718",
     "exception": false,
     "start_time": "2024-12-16T15:24:57.409071",
     "status": "completed"
    },
    "tags": []
   },
   "source": [
    "Create the recommendations for the submission. "
   ]
  },
  {
   "cell_type": "code",
   "execution_count": 17,
   "id": "76180492",
   "metadata": {
    "execution": {
     "iopub.execute_input": "2024-12-16T15:24:57.556101Z",
     "iopub.status.busy": "2024-12-16T15:24:57.555686Z",
     "iopub.status.idle": "2024-12-16T15:25:26.939233Z",
     "shell.execute_reply": "2024-12-16T15:25:26.937966Z"
    },
    "papermill": {
     "duration": 29.437343,
     "end_time": "2024-12-16T15:25:26.941638",
     "exception": false,
     "start_time": "2024-12-16T15:24:57.504295",
     "status": "completed"
    },
    "tags": []
   },
   "outputs": [
    {
     "name": "stdout",
     "output_type": "stream",
     "text": [
      "Submission file saved as /kaggle/working/submission_RP3beta_Recall.csv\n"
     ]
    }
   ],
   "source": [
    "if config['tune_best_params']:\n",
    "\n",
    "    data_target_users_test = pd.read_csv('/kaggle/input/recommender-system-2024-challenge-polimi/data_target_users_test.csv')\n",
    "    create_submission(data_target_users_test, recommender_instance, f'/kaggle/working/submission_{config[\"model\"]}_{config[\"metric\"]}.csv')"
   ]
  },
  {
   "cell_type": "markdown",
   "id": "4d4195d1",
   "metadata": {
    "execution": {
     "iopub.execute_input": "2024-11-14T00:04:16.877791Z",
     "iopub.status.busy": "2024-11-14T00:04:16.877275Z",
     "iopub.status.idle": "2024-11-14T00:04:16.883170Z",
     "shell.execute_reply": "2024-11-14T00:04:16.881889Z",
     "shell.execute_reply.started": "2024-11-14T00:04:16.877743Z"
    },
    "papermill": {
     "duration": 0.047181,
     "end_time": "2024-12-16T15:25:27.037933",
     "exception": false,
     "start_time": "2024-12-16T15:25:26.990752",
     "status": "completed"
    },
    "tags": []
   },
   "source": [
    "# Save Version on GitHub "
   ]
  },
  {
   "cell_type": "markdown",
   "id": "5a882e2a",
   "metadata": {
    "papermill": {
     "duration": 0.048629,
     "end_time": "2024-12-16T15:25:27.137383",
     "exception": false,
     "start_time": "2024-12-16T15:25:27.088754",
     "status": "completed"
    },
    "tags": []
   },
   "source": [
    "Write or import a json file where best hyperparameters are saved. "
   ]
  },
  {
   "cell_type": "code",
   "execution_count": 18,
   "id": "71e36b3f",
   "metadata": {
    "execution": {
     "iopub.execute_input": "2024-12-16T15:25:27.234002Z",
     "iopub.status.busy": "2024-12-16T15:25:27.233589Z",
     "iopub.status.idle": "2024-12-16T15:25:28.541278Z",
     "shell.execute_reply": "2024-12-16T15:25:28.540127Z"
    },
    "papermill": {
     "duration": 1.358779,
     "end_time": "2024-12-16T15:25:28.543699",
     "exception": false,
     "start_time": "2024-12-16T15:25:27.184920",
     "status": "completed"
    },
    "tags": []
   },
   "outputs": [
    {
     "name": "stdout",
     "output_type": "stream",
     "text": [
      "File 'TrainedModels/WithoutKFCV/GraphBased/RP3betaRecommender/OptimizingRecall/best_params_RP3beta_Recall.json' updated successfully.\n"
     ]
    }
   ],
   "source": [
    "if config['tune_parameters']:\n",
    "    with open(f'/kaggle/working/best_params_{config[\"model\"]}_{config[\"metric\"]}.json', 'w') as params_file:\n",
    "        json.dump(optuna_study.best_params, params_file)\n",
    "        \n",
    "    if config['save_github']:\n",
    "        upload_file(\n",
    "            f'/kaggle/working/best_params_{config[\"model\"]}_{config[\"metric\"]}.json', \n",
    "            f'{GH_PATH}/{config[\"model\"]}Recommender/Optimizing{config[\"metric\"]}/best_params_{config[\"model\"]}_{config[\"metric\"]}.json', \n",
    "            f'{config[\"model\"]}_{config[\"metric\"]} tuning results (from kaggle notebook)',\n",
    "            repo\n",
    "        )\n",
    "elif config['copy_prev_best_params']:\n",
    "    shutil.copyfile(\n",
    "        f'{K_PATH}/{GH_PATH}/{config[\"model\"]}Recommender/Optimizing{config[\"metric\"]}/'\\\n",
    "        f'best_params_{config[\"model\"]}_{config[\"metric\"]}.json', \n",
    "        f'/kaggle/working/best_params_{config[\"model\"]}_{config[\"metric\"]}.json'\n",
    "    )"
   ]
  },
  {
   "cell_type": "markdown",
   "id": "0a802f88",
   "metadata": {
    "execution": {
     "iopub.execute_input": "2024-11-14T00:41:34.294243Z",
     "iopub.status.busy": "2024-11-14T00:41:34.293739Z",
     "iopub.status.idle": "2024-11-14T00:41:34.301478Z",
     "shell.execute_reply": "2024-11-14T00:41:34.299869Z",
     "shell.execute_reply.started": "2024-11-14T00:41:34.294186Z"
    },
    "papermill": {
     "duration": 0.047622,
     "end_time": "2024-12-16T15:25:28.639740",
     "exception": false,
     "start_time": "2024-12-16T15:25:28.592118",
     "status": "completed"
    },
    "tags": []
   },
   "source": [
    "Save the history of the tuned model."
   ]
  },
  {
   "cell_type": "code",
   "execution_count": 19,
   "id": "93f4f467",
   "metadata": {
    "execution": {
     "iopub.execute_input": "2024-12-16T15:25:28.737315Z",
     "iopub.status.busy": "2024-12-16T15:25:28.736887Z",
     "iopub.status.idle": "2024-12-16T15:25:31.155534Z",
     "shell.execute_reply": "2024-12-16T15:25:31.154324Z"
    },
    "papermill": {
     "duration": 2.470864,
     "end_time": "2024-12-16T15:25:31.158068",
     "exception": false,
     "start_time": "2024-12-16T15:25:28.687204",
     "status": "completed"
    },
    "tags": []
   },
   "outputs": [
    {
     "name": "stdout",
     "output_type": "stream",
     "text": [
      "File 'TrainedModels/WithoutKFCV/GraphBased/RP3betaRecommender/OptimizingRecall/history_RP3beta_Recall.db' updated successfully.\n"
     ]
    }
   ],
   "source": [
    "if config['save_github'] and config['tune_parameters']:\n",
    "    upload_file(\n",
    "        config['database_path'], \n",
    "        f'{GH_PATH}/{config[\"model\"]}Recommender/Optimizing{config[\"metric\"]}/history_{config[\"model\"]}_{config[\"metric\"]}.db',\n",
    "        f'Tuning {config[\"model\"]}_{config[\"metric\"]} db updated results (from kaggle notebook)',\n",
    "        repo\n",
    "    )"
   ]
  },
  {
   "cell_type": "markdown",
   "id": "b9b2fe03",
   "metadata": {
    "papermill": {
     "duration": 0.049928,
     "end_time": "2024-12-16T15:25:31.256777",
     "exception": false,
     "start_time": "2024-12-16T15:25:31.206849",
     "status": "completed"
    },
    "tags": []
   },
   "source": [
    "Save the best trained model and its submission."
   ]
  },
  {
   "cell_type": "code",
   "execution_count": 20,
   "id": "2a2f25f1",
   "metadata": {
    "execution": {
     "iopub.execute_input": "2024-12-16T15:25:31.355333Z",
     "iopub.status.busy": "2024-12-16T15:25:31.354926Z",
     "iopub.status.idle": "2024-12-16T15:25:34.221874Z",
     "shell.execute_reply": "2024-12-16T15:25:34.220402Z"
    },
    "papermill": {
     "duration": 2.918521,
     "end_time": "2024-12-16T15:25:34.224440",
     "exception": false,
     "start_time": "2024-12-16T15:25:31.305919",
     "status": "completed"
    },
    "tags": []
   },
   "outputs": [
    {
     "name": "stdout",
     "output_type": "stream",
     "text": [
      "File 'TrainedModels/WithoutKFCV/GraphBased/RP3betaRecommender/OptimizingRecall/Submission/submission_RP3beta_Recall.csv' updated successfully.\n"
     ]
    }
   ],
   "source": [
    "if config['save_github'] and config['tune_best_params']: \n",
    "    upload_file(\n",
    "                f'/kaggle/working/submission_{config[\"model\"]}_{config[\"metric\"]}.csv', \n",
    "                f'{GH_PATH}/{config[\"model\"]}Recommender/Optimizing{config[\"metric\"]}/Submission/submission_{config[\"model\"]}_{config[\"metric\"]}.csv', \n",
    "                f'New {config[\"model\"]}_{config[\"metric\"]} submission (from kaggle notebook)',\n",
    "                repo\n",
    "            )"
   ]
  }
 ],
 "metadata": {
  "kaggle": {
   "accelerator": "none",
   "dataSources": [
    {
     "databundleVersionId": 9982103,
     "sourceId": 87439,
     "sourceType": "competition"
    }
   ],
   "dockerImageVersionId": 30804,
   "isGpuEnabled": false,
   "isInternetEnabled": true,
   "language": "python",
   "sourceType": "notebook"
  },
  "kernelspec": {
   "display_name": "Python 3",
   "language": "python",
   "name": "python3"
  },
  "language_info": {
   "codemirror_mode": {
    "name": "ipython",
    "version": 3
   },
   "file_extension": ".py",
   "mimetype": "text/x-python",
   "name": "python",
   "nbconvert_exporter": "python",
   "pygments_lexer": "ipython3",
   "version": "3.10.14"
  },
  "papermill": {
   "default_parameters": {},
   "duration": 13752.665272,
   "end_time": "2024-12-16T15:25:35.402585",
   "environment_variables": {},
   "exception": null,
   "input_path": "__notebook__.ipynb",
   "output_path": "__notebook__.ipynb",
   "parameters": {},
   "start_time": "2024-12-16T11:36:22.737313",
   "version": "2.6.0"
  }
 },
 "nbformat": 4,
 "nbformat_minor": 5
}
