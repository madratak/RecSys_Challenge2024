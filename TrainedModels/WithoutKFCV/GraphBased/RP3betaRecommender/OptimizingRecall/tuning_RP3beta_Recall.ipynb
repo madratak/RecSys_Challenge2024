{
 "cells": [
  {
   "cell_type": "markdown",
   "id": "16fe99a8",
   "metadata": {
    "papermill": {
     "duration": 0.007866,
     "end_time": "2024-12-17T09:26:41.396358",
     "exception": false,
     "start_time": "2024-12-17T09:26:41.388492",
     "status": "completed"
    },
    "tags": []
   },
   "source": [
    "# Set connection with GitHub"
   ]
  },
  {
   "cell_type": "code",
   "execution_count": 1,
   "id": "044b08e7",
   "metadata": {
    "execution": {
     "iopub.execute_input": "2024-12-17T09:26:41.411733Z",
     "iopub.status.busy": "2024-12-17T09:26:41.411309Z",
     "iopub.status.idle": "2024-12-17T09:26:41.417559Z",
     "shell.execute_reply": "2024-12-17T09:26:41.416462Z"
    },
    "papermill": {
     "duration": 0.016129,
     "end_time": "2024-12-17T09:26:41.419898",
     "exception": false,
     "start_time": "2024-12-17T09:26:41.403769",
     "status": "completed"
    },
    "tags": []
   },
   "outputs": [],
   "source": [
    "# ! cd /kaggle/working && rm -rf RECsys_Challenge2024"
   ]
  },
  {
   "cell_type": "code",
   "execution_count": 2,
   "id": "7cc0533b",
   "metadata": {
    "_cell_guid": "b1076dfc-b9ad-4769-8c92-a6c4dae69d19",
    "_uuid": "8f2839f25d086af736a60e9eeb907d3b93b6e0e5",
    "execution": {
     "iopub.execute_input": "2024-12-17T09:26:41.435402Z",
     "iopub.status.busy": "2024-12-17T09:26:41.434527Z",
     "iopub.status.idle": "2024-12-17T09:26:52.374189Z",
     "shell.execute_reply": "2024-12-17T09:26:52.372643Z"
    },
    "papermill": {
     "duration": 10.950956,
     "end_time": "2024-12-17T09:26:52.376857",
     "exception": false,
     "start_time": "2024-12-17T09:26:41.425901",
     "status": "completed"
    },
    "tags": []
   },
   "outputs": [
    {
     "name": "stdout",
     "output_type": "stream",
     "text": [
      "Cloning into 'RECsys_Challenge2024'...\r\n",
      "remote: Enumerating objects: 4353, done.\u001b[K\r\n",
      "remote: Counting objects: 100% (1826/1826), done.\u001b[K\r\n",
      "remote: Compressing objects: 100% (715/715), done.\u001b[K\r\n",
      "remote: Total 4353 (delta 976), reused 1565 (delta 845), pack-reused 2527 (from 1)\u001b[K\r\n",
      "Receiving objects: 100% (4353/4353), 173.71 MiB | 30.77 MiB/s, done.\r\n",
      "Resolving deltas: 100% (2495/2495), done.\r\n",
      "Updating files: 100% (400/400), done.\r\n"
     ]
    }
   ],
   "source": [
    "from kaggle_secrets import UserSecretsClient\n",
    "\n",
    "token = UserSecretsClient().get_secret(\"Token\")\n",
    "\n",
    "! git clone https://{token}@github.com/madratak/RECsys_Challenge2024.git"
   ]
  },
  {
   "cell_type": "code",
   "execution_count": 3,
   "id": "d988370a",
   "metadata": {
    "execution": {
     "iopub.execute_input": "2024-12-17T09:26:52.397820Z",
     "iopub.status.busy": "2024-12-17T09:26:52.397351Z",
     "iopub.status.idle": "2024-12-17T09:27:05.452548Z",
     "shell.execute_reply": "2024-12-17T09:27:05.451262Z"
    },
    "papermill": {
     "duration": 13.069638,
     "end_time": "2024-12-17T09:27:05.455638",
     "exception": false,
     "start_time": "2024-12-17T09:26:52.386000",
     "status": "completed"
    },
    "tags": []
   },
   "outputs": [
    {
     "name": "stdout",
     "output_type": "stream",
     "text": [
      "Collecting PyGithub\r\n",
      "  Downloading PyGithub-2.5.0-py3-none-any.whl.metadata (3.9 kB)\r\n",
      "Requirement already satisfied: requests in /opt/conda/lib/python3.10/site-packages (2.32.3)\r\n",
      "Collecting pynacl>=1.4.0 (from PyGithub)\r\n",
      "  Downloading PyNaCl-1.5.0-cp36-abi3-manylinux_2_17_x86_64.manylinux2014_x86_64.manylinux_2_24_x86_64.whl.metadata (8.6 kB)\r\n",
      "Requirement already satisfied: pyjwt>=2.4.0 in /opt/conda/lib/python3.10/site-packages (from pyjwt[crypto]>=2.4.0->PyGithub) (2.8.0)\r\n",
      "Requirement already satisfied: typing-extensions>=4.0.0 in /opt/conda/lib/python3.10/site-packages (from PyGithub) (4.12.2)\r\n",
      "Requirement already satisfied: urllib3>=1.26.0 in /opt/conda/lib/python3.10/site-packages (from PyGithub) (1.26.18)\r\n",
      "Requirement already satisfied: Deprecated in /opt/conda/lib/python3.10/site-packages (from PyGithub) (1.2.14)\r\n",
      "Requirement already satisfied: charset-normalizer<4,>=2 in /opt/conda/lib/python3.10/site-packages (from requests) (3.3.2)\r\n",
      "Requirement already satisfied: idna<4,>=2.5 in /opt/conda/lib/python3.10/site-packages (from requests) (3.7)\r\n",
      "Requirement already satisfied: certifi>=2017.4.17 in /opt/conda/lib/python3.10/site-packages (from requests) (2024.6.2)\r\n",
      "Requirement already satisfied: cryptography>=3.4.0 in /opt/conda/lib/python3.10/site-packages (from pyjwt[crypto]>=2.4.0->PyGithub) (42.0.8)\r\n",
      "Requirement already satisfied: cffi>=1.4.1 in /opt/conda/lib/python3.10/site-packages (from pynacl>=1.4.0->PyGithub) (1.16.0)\r\n",
      "Requirement already satisfied: wrapt<2,>=1.10 in /opt/conda/lib/python3.10/site-packages (from Deprecated->PyGithub) (1.16.0)\r\n",
      "Requirement already satisfied: pycparser in /opt/conda/lib/python3.10/site-packages (from cffi>=1.4.1->pynacl>=1.4.0->PyGithub) (2.22)\r\n",
      "Downloading PyGithub-2.5.0-py3-none-any.whl (375 kB)\r\n",
      "\u001b[2K   \u001b[90m━━━━━━━━━━━━━━━━━━━━━━━━━━━━━━━━━━━━━━━━\u001b[0m \u001b[32m375.9/375.9 kB\u001b[0m \u001b[31m6.7 MB/s\u001b[0m eta \u001b[36m0:00:00\u001b[0m\r\n",
      "\u001b[?25hDownloading PyNaCl-1.5.0-cp36-abi3-manylinux_2_17_x86_64.manylinux2014_x86_64.manylinux_2_24_x86_64.whl (856 kB)\r\n",
      "\u001b[2K   \u001b[90m━━━━━━━━━━━━━━━━━━━━━━━━━━━━━━━━━━━━━━━━\u001b[0m \u001b[32m856.7/856.7 kB\u001b[0m \u001b[31m10.8 MB/s\u001b[0m eta \u001b[36m0:00:00\u001b[0m\r\n",
      "\u001b[?25hInstalling collected packages: pynacl, PyGithub\r\n",
      "Successfully installed PyGithub-2.5.0 pynacl-1.5.0\r\n"
     ]
    }
   ],
   "source": [
    "! pip install PyGithub requests"
   ]
  },
  {
   "cell_type": "code",
   "execution_count": 4,
   "id": "80bb7c5d",
   "metadata": {
    "_kg_hide-input": false,
    "execution": {
     "iopub.execute_input": "2024-12-17T09:27:05.478670Z",
     "iopub.status.busy": "2024-12-17T09:27:05.478225Z",
     "iopub.status.idle": "2024-12-17T09:29:40.683061Z",
     "shell.execute_reply": "2024-12-17T09:29:40.681504Z"
    },
    "papermill": {
     "duration": 155.220142,
     "end_time": "2024-12-17T09:29:40.686164",
     "exception": false,
     "start_time": "2024-12-17T09:27:05.466022",
     "status": "completed"
    },
    "tags": []
   },
   "outputs": [
    {
     "name": "stdout",
     "output_type": "stream",
     "text": [
      "/kaggle/working/RECsys_Challenge2024\n",
      "run_compile_all_cython: Found 11 Cython files in 5 folders...\r\n",
      "run_compile_all_cython: All files will be compiled using your current python environment: '/opt/conda/bin/python'\r\n",
      "Compiling [1/11]: MatrixFactorization_Cython_Epoch.pyx... \r\n",
      "In file included from \u001b[01m\u001b[K/opt/conda/lib/python3.10/site-packages/numpy/core/include/numpy/ndarraytypes.h:1929\u001b[m\u001b[K,\r\n",
      "                 from \u001b[01m\u001b[K/opt/conda/lib/python3.10/site-packages/numpy/core/include/numpy/ndarrayobject.h:12\u001b[m\u001b[K,\r\n",
      "                 from \u001b[01m\u001b[K/opt/conda/lib/python3.10/site-packages/numpy/core/include/numpy/arrayobject.h:5\u001b[m\u001b[K,\r\n",
      "                 from \u001b[01m\u001b[KMatrixFactorization_Cython_Epoch.c:1252\u001b[m\u001b[K:\r\n",
      "\u001b[01m\u001b[K/opt/conda/lib/python3.10/site-packages/numpy/core/include/numpy/npy_1_7_deprecated_api.h:17:2:\u001b[m\u001b[K \u001b[01;35m\u001b[Kwarning: \u001b[m\u001b[K#warning \"Using deprecated NumPy API, disable it with \" \"#define NPY_NO_DEPRECATED_API NPY_1_7_API_VERSION\" [\u001b[01;35m\u001b[K-Wcpp\u001b[m\u001b[K]\r\n",
      "   17 | #\u001b[01;35m\u001b[Kwarning\u001b[m\u001b[K \"Using deprecated NumPy API, disable it with \" \\\r\n",
      "      |  \u001b[01;35m\u001b[K^~~~~~~\u001b[m\u001b[K\r\n",
      "\u001b[01m\u001b[KMatrixFactorization_Cython_Epoch.c:\u001b[m\u001b[K In function '\u001b[01m\u001b[K__pyx_pf_32MatrixFactorization_Cython_Epoch_32MatrixFactorization_Cython_Epoch_10epochIteration_Cython_ASY_SVD_SGD\u001b[m\u001b[K':\r\n",
      "\u001b[01m\u001b[KMatrixFactorization_Cython_Epoch.c:26255:9:\u001b[m\u001b[K \u001b[01;35m\u001b[Kwarning: \u001b[m\u001b[K'\u001b[01m\u001b[K__pyx_v_end_pos_seen_items\u001b[m\u001b[K' may be used uninitialized in this function [\u001b[01;35m\u001b[K-Wmaybe-uninitialized\u001b[m\u001b[K]\r\n",
      "26255 |         \u001b[01;35m\u001b[Kfor\u001b[m\u001b[K (__pyx_t_21 = __pyx_v_start_pos_seen_items; __pyx_t_21 < __pyx_t_20; __pyx_t_21+=1) {\r\n",
      "      |         \u001b[01;35m\u001b[K^~~\u001b[m\u001b[K\r\n",
      "\u001b[01m\u001b[KMatrixFactorization_Cython_Epoch.c:26255:9:\u001b[m\u001b[K \u001b[01;35m\u001b[Kwarning: \u001b[m\u001b[K'\u001b[01m\u001b[K__pyx_v_start_pos_seen_items\u001b[m\u001b[K' may be used uninitialized in this function [\u001b[01;35m\u001b[K-Wmaybe-uninitialized\u001b[m\u001b[K]\r\n",
      "/opt/conda/lib/python3.10/site-packages/Cython/Compiler/Main.py:381: FutureWarning: Cython directive 'language_level' not set, using '3str' for now (Py3). This has changed from earlier releases! File: /kaggle/working/RECsys_Challenge2024/Recommenders/MatrixFactorization/Cython/MatrixFactorization_Cython_Epoch.pyx\r\n",
      "  tree = Parsing.p_module(s, pxd, full_module_name)\r\n",
      "Compiling [1/11]: MatrixFactorization_Cython_Epoch.pyx... PASS\r\n",
      "\r\n",
      "Compiling [2/11]: MatrixFactorizationImpressions_Cython_Epoch.pyx... \r\n",
      "In file included from \u001b[01m\u001b[K/opt/conda/lib/python3.10/site-packages/numpy/core/include/numpy/ndarraytypes.h:1929\u001b[m\u001b[K,\r\n",
      "                 from \u001b[01m\u001b[K/opt/conda/lib/python3.10/site-packages/numpy/core/include/numpy/ndarrayobject.h:12\u001b[m\u001b[K,\r\n",
      "                 from \u001b[01m\u001b[K/opt/conda/lib/python3.10/site-packages/numpy/core/include/numpy/arrayobject.h:5\u001b[m\u001b[K,\r\n",
      "                 from \u001b[01m\u001b[KMatrixFactorizationImpressions_Cython_Epoch.c:1252\u001b[m\u001b[K:\r\n",
      "\u001b[01m\u001b[K/opt/conda/lib/python3.10/site-packages/numpy/core/include/numpy/npy_1_7_deprecated_api.h:17:2:\u001b[m\u001b[K \u001b[01;35m\u001b[Kwarning: \u001b[m\u001b[K#warning \"Using deprecated NumPy API, disable it with \" \"#define NPY_NO_DEPRECATED_API NPY_1_7_API_VERSION\" [\u001b[01;35m\u001b[K-Wcpp\u001b[m\u001b[K]\r\n",
      "   17 | #\u001b[01;35m\u001b[Kwarning\u001b[m\u001b[K \"Using deprecated NumPy API, disable it with \" \\\r\n",
      "      |  \u001b[01;35m\u001b[K^~~~~~~\u001b[m\u001b[K\r\n",
      "\u001b[01m\u001b[KMatrixFactorizationImpressions_Cython_Epoch.c:\u001b[m\u001b[K In function '\u001b[01m\u001b[K__pyx_f_43MatrixFactorizationImpressions_Cython_Epoch_32MatrixFactorization_Cython_Epoch_sampleBPR_Cython\u001b[m\u001b[K':\r\n",
      "\u001b[01m\u001b[KMatrixFactorizationImpressions_Cython_Epoch.c:30351:17:\u001b[m\u001b[K \u001b[01;35m\u001b[Kwarning: \u001b[m\u001b[K'\u001b[01m\u001b[K__pyx_v_start_pos_impression_items\u001b[m\u001b[K' may be used uninitialized in this function [\u001b[01;35m\u001b[K-Wmaybe-uninitialized\u001b[m\u001b[K]\r\n",
      "30351 |       \u001b[01;35m\u001b[K__pyx_t_4 = (__pyx_v_start_pos_impression_items + __pyx_v_index)\u001b[m\u001b[K;\r\n",
      "      |       \u001b[01;35m\u001b[K~~~~~~~~~~^~~~~~~~~~~~~~~~~~~~~~~~~~~~~~~~~~~~~~~~~~~~~~~~~~~~~~\u001b[m\u001b[K\r\n",
      "\u001b[01m\u001b[KMatrixFactorizationImpressions_Cython_Epoch.c:\u001b[m\u001b[K In function '\u001b[01m\u001b[K__pyx_pf_43MatrixFactorizationImpressions_Cython_Epoch_32MatrixFactorization_Cython_Epoch_10epochIteration_Cython_ASY_SVD_SGD\u001b[m\u001b[K':\r\n",
      "\u001b[01m\u001b[KMatrixFactorizationImpressions_Cython_Epoch.c:26111:7:\u001b[m\u001b[K \u001b[01;35m\u001b[Kwarning: \u001b[m\u001b[K'\u001b[01m\u001b[K__pyx_v_end_pos_seen_items\u001b[m\u001b[K' may be used uninitialized in this function [\u001b[01;35m\u001b[K-Wmaybe-uninitialized\u001b[m\u001b[K]\r\n",
      "26111 |       \u001b[01;35m\u001b[Kfor\u001b[m\u001b[K (__pyx_t_21 = __pyx_v_start_pos_seen_items; __pyx_t_21 < __pyx_t_20; __pyx_t_21+=1) {\r\n",
      "      |       \u001b[01;35m\u001b[K^~~\u001b[m\u001b[K\r\n",
      "\u001b[01m\u001b[KMatrixFactorizationImpressions_Cython_Epoch.c:26111:7:\u001b[m\u001b[K \u001b[01;35m\u001b[Kwarning: \u001b[m\u001b[K'\u001b[01m\u001b[K__pyx_v_start_pos_seen_items\u001b[m\u001b[K' may be used uninitialized in this function [\u001b[01;35m\u001b[K-Wmaybe-uninitialized\u001b[m\u001b[K]\r\n",
      "/opt/conda/lib/python3.10/site-packages/Cython/Compiler/Main.py:381: FutureWarning: Cython directive 'language_level' not set, using '3str' for now (Py3). This has changed from earlier releases! File: /kaggle/working/RECsys_Challenge2024/Recommenders/MatrixFactorization/Cython/MatrixFactorizationImpressions_Cython_Epoch.pyx\r\n",
      "  tree = Parsing.p_module(s, pxd, full_module_name)\r\n",
      "Compiling [2/11]: MatrixFactorizationImpressions_Cython_Epoch.pyx... PASS\r\n",
      "\r\n",
      "Compiling [3/11]: Compute_Similarity_Cython.pyx... \r\n",
      "warning: Compute_Similarity_Cython.pyx:21:0: The 'IF' statement is deprecated and will be removed in a future Cython version. Consider using runtime conditions or C macros instead. See https://github.com/cython/cython/issues/4310\r\n",
      "In file included from \u001b[01m\u001b[K/opt/conda/lib/python3.10/site-packages/numpy/core/include/numpy/ndarraytypes.h:1929\u001b[m\u001b[K,\r\n",
      "                 from \u001b[01m\u001b[K/opt/conda/lib/python3.10/site-packages/numpy/core/include/numpy/ndarrayobject.h:12\u001b[m\u001b[K,\r\n",
      "                 from \u001b[01m\u001b[K/opt/conda/lib/python3.10/site-packages/numpy/core/include/numpy/arrayobject.h:5\u001b[m\u001b[K,\r\n",
      "                 from \u001b[01m\u001b[KCompute_Similarity_Cython.c:1252\u001b[m\u001b[K:\r\n",
      "\u001b[01m\u001b[K/opt/conda/lib/python3.10/site-packages/numpy/core/include/numpy/npy_1_7_deprecated_api.h:17:2:\u001b[m\u001b[K \u001b[01;35m\u001b[Kwarning: \u001b[m\u001b[K#warning \"Using deprecated NumPy API, disable it with \" \"#define NPY_NO_DEPRECATED_API NPY_1_7_API_VERSION\" [\u001b[01;35m\u001b[K-Wcpp\u001b[m\u001b[K]\r\n",
      "   17 | #\u001b[01;35m\u001b[Kwarning\u001b[m\u001b[K \"Using deprecated NumPy API, disable it with \" \\\r\n",
      "      |  \u001b[01;35m\u001b[K^~~~~~~\u001b[m\u001b[K\r\n",
      "/opt/conda/lib/python3.10/site-packages/Cython/Compiler/Main.py:381: FutureWarning: Cython directive 'language_level' not set, using '3str' for now (Py3). This has changed from earlier releases! File: /kaggle/working/RECsys_Challenge2024/Recommenders/Similarity/Cython/Compute_Similarity_Cython.pyx\r\n",
      "  tree = Parsing.p_module(s, pxd, full_module_name)\r\n",
      "warning: Compute_Similarity_Cython.pyx:21:0: The 'IF' statement is deprecated and will be removed in a future Cython version. Consider using runtime conditions or C macros instead. See https://github.com/cython/cython/issues/4310\r\n",
      "Compiling [3/11]: Compute_Similarity_Cython.pyx... PASS\r\n",
      "\r\n",
      "Compiling [4/11]: Triangular_Matrix.pyx... \r\n",
      "warning: Triangular_Matrix.pyx:22:0: The 'IF' statement is deprecated and will be removed in a future Cython version. Consider using runtime conditions or C macros instead. See https://github.com/cython/cython/issues/4310\r\n",
      "In file included from \u001b[01m\u001b[K/opt/conda/lib/python3.10/site-packages/numpy/core/include/numpy/ndarraytypes.h:1929\u001b[m\u001b[K,\r\n",
      "                 from \u001b[01m\u001b[K/opt/conda/lib/python3.10/site-packages/numpy/core/include/numpy/ndarrayobject.h:12\u001b[m\u001b[K,\r\n",
      "                 from \u001b[01m\u001b[K/opt/conda/lib/python3.10/site-packages/numpy/core/include/numpy/arrayobject.h:5\u001b[m\u001b[K,\r\n",
      "                 from \u001b[01m\u001b[KTriangular_Matrix.c:1252\u001b[m\u001b[K:\r\n",
      "\u001b[01m\u001b[K/opt/conda/lib/python3.10/site-packages/numpy/core/include/numpy/npy_1_7_deprecated_api.h:17:2:\u001b[m\u001b[K \u001b[01;35m\u001b[Kwarning: \u001b[m\u001b[K#warning \"Using deprecated NumPy API, disable it with \" \"#define NPY_NO_DEPRECATED_API NPY_1_7_API_VERSION\" [\u001b[01;35m\u001b[K-Wcpp\u001b[m\u001b[K]\r\n",
      "   17 | #\u001b[01;35m\u001b[Kwarning\u001b[m\u001b[K \"Using deprecated NumPy API, disable it with \" \\\r\n",
      "      |  \u001b[01;35m\u001b[K^~~~~~~\u001b[m\u001b[K\r\n",
      "/opt/conda/lib/python3.10/site-packages/Cython/Compiler/Main.py:381: FutureWarning: Cython directive 'language_level' not set, using '3str' for now (Py3). This has changed from earlier releases! File: /kaggle/working/RECsys_Challenge2024/Recommenders/SLIM/Cython/Triangular_Matrix.pyx\r\n",
      "  tree = Parsing.p_module(s, pxd, full_module_name)\r\n",
      "warning: Triangular_Matrix.pyx:22:0: The 'IF' statement is deprecated and will be removed in a future Cython version. Consider using runtime conditions or C macros instead. See https://github.com/cython/cython/issues/4310\r\n",
      "Compiling [4/11]: Triangular_Matrix.pyx... PASS\r\n",
      "\r\n",
      "Compiling [5/11]: Sparse_Matrix_Tree_CSR.pyx... \r\n",
      "warning: Sparse_Matrix_Tree_CSR.pyx:132:34: Non-trivial type declarators in shared declaration (e.g. mix of pointers and values). Each pointer declaration should be on its own line.\r\n",
      "warning: Sparse_Matrix_Tree_CSR.pyx:132:66: Non-trivial type declarators in shared declaration (e.g. mix of pointers and values). Each pointer declaration should be on its own line.\r\n",
      "warning: Sparse_Matrix_Tree_CSR.pyx:343:35: Non-trivial type declarators in shared declaration (e.g. mix of pointers and values). Each pointer declaration should be on its own line.\r\n",
      "warning: Sparse_Matrix_Tree_CSR.pyx:343:52: Non-trivial type declarators in shared declaration (e.g. mix of pointers and values). Each pointer declaration should be on its own line.\r\n",
      "warning: Sparse_Matrix_Tree_CSR.pyx:442:35: Non-trivial type declarators in shared declaration (e.g. mix of pointers and values). Each pointer declaration should be on its own line.\r\n",
      "warning: Sparse_Matrix_Tree_CSR.pyx:442:53: Non-trivial type declarators in shared declaration (e.g. mix of pointers and values). Each pointer declaration should be on its own line.\r\n",
      "warning: Sparse_Matrix_Tree_CSR.pyx:442:69: Non-trivial type declarators in shared declaration (e.g. mix of pointers and values). Each pointer declaration should be on its own line.\r\n",
      "warning: Sparse_Matrix_Tree_CSR.pyx:577:35: Non-trivial type declarators in shared declaration (e.g. mix of pointers and values). Each pointer declaration should be on its own line.\r\n",
      "warning: Sparse_Matrix_Tree_CSR.pyx:577:42: Non-trivial type declarators in shared declaration (e.g. mix of pointers and values). Each pointer declaration should be on its own line.\r\n",
      "warning: Sparse_Matrix_Tree_CSR.pyx:578:35: Non-trivial type declarators in shared declaration (e.g. mix of pointers and values). Each pointer declaration should be on its own line.\r\n",
      "warning: Sparse_Matrix_Tree_CSR.pyx:578:53: Non-trivial type declarators in shared declaration (e.g. mix of pointers and values). Each pointer declaration should be on its own line.\r\n",
      "\r\n",
      "Error compiling Cython file:\r\n",
      "------------------------------------------------------------\r\n",
      "...\r\n",
      "            vector_pointer_to_list_elements[index].head = current_element\r\n",
      "            current_element = current_element.higher\r\n",
      "\r\n",
      "\r\n",
      "        # Sort array elements on their data field\r\n",
      "        qsort(vector_pointer_to_list_elements, list_length, sizeof(head_pointer_tree_s), compare_struct_on_data)\r\n",
      "                                                                                         ^\r\n",
      "------------------------------------------------------------\r\n",
      "\r\n",
      "Sparse_Matrix_Tree_CSR.pyx:516:89: Cannot assign type 'int (const void *, const void *) except? -1' to 'int (*)(const_void *, const_void *) noexcept'. Exception values are incompatible. Suggest adding 'noexcept' to the type of 'compare_struct_on_data'.\r\n",
      "\r\n",
      "Error compiling Cython file:\r\n",
      "------------------------------------------------------------\r\n",
      "...\r\n",
      "        # Sort array elements on their data field\r\n",
      "        qsort(vector_pointer_to_list_elements, list_length, sizeof(head_pointer_tree_s), compare_struct_on_data)\r\n",
      "\r\n",
      "        # Sort only the TopK according to their column field\r\n",
      "        # Sort is from lower to higher, therefore the elements to be considered are from len-topK to len\r\n",
      "        qsort(&vector_pointer_to_list_elements[list_length-TopK], TopK, sizeof(head_pointer_tree_s), compare_struct_on_column)\r\n",
      "                                                                                                     ^\r\n",
      "------------------------------------------------------------\r\n",
      "\r\n",
      "Sparse_Matrix_Tree_CSR.pyx:520:101: Cannot assign type 'int (const void *, const void *) except? -1' to 'int (*)(const_void *, const_void *) noexcept'. Exception values are incompatible. Suggest adding 'noexcept' to the type of 'compare_struct_on_column'.\r\n",
      "Traceback (most recent call last):\r\n",
      "  File \"/kaggle/working/RECsys_Challenge2024/CythonCompiler/compile_script.py\", line 48, in <module>\r\n",
      "    setup(\r\n",
      "  File \"/opt/conda/lib/python3.10/site-packages/setuptools/__init__.py\", line 103, in setup\r\n",
      "    return distutils.core.setup(**attrs)\r\n",
      "  File \"/opt/conda/lib/python3.10/site-packages/setuptools/_distutils/core.py\", line 184, in setup\r\n",
      "    return run_commands(dist)\r\n",
      "  File \"/opt/conda/lib/python3.10/site-packages/setuptools/_distutils/core.py\", line 200, in run_commands\r\n",
      "    dist.run_commands()\r\n",
      "  File \"/opt/conda/lib/python3.10/site-packages/setuptools/_distutils/dist.py\", line 969, in run_commands\r\n",
      "    self.run_command(cmd)\r\n",
      "  File \"/opt/conda/lib/python3.10/site-packages/setuptools/dist.py\", line 968, in run_command\r\n",
      "    super().run_command(command)\r\n",
      "  File \"/opt/conda/lib/python3.10/site-packages/setuptools/_distutils/dist.py\", line 988, in run_command\r\n",
      "    cmd_obj.run()\r\n",
      "  File \"/opt/conda/lib/python3.10/site-packages/setuptools/_distutils/command/build_ext.py\", line 359, in run\r\n",
      "    self.build_extensions()\r\n",
      "  File \"/opt/conda/lib/python3.10/site-packages/setuptools/_distutils/command/build_ext.py\", line 479, in build_extensions\r\n",
      "    self._build_extensions_serial()\r\n",
      "  File \"/opt/conda/lib/python3.10/site-packages/setuptools/_distutils/command/build_ext.py\", line 505, in _build_extensions_serial\r\n",
      "    self.build_extension(ext)\r\n",
      "  File \"/opt/conda/lib/python3.10/site-packages/Cython/Distutils/build_ext.py\", line 130, in build_extension\r\n",
      "    new_ext = cythonize(\r\n",
      "  File \"/opt/conda/lib/python3.10/site-packages/Cython/Build/Dependencies.py\", line 1154, in cythonize\r\n",
      "    cythonize_one(*args)\r\n",
      "  File \"/opt/conda/lib/python3.10/site-packages/Cython/Build/Dependencies.py\", line 1321, in cythonize_one\r\n",
      "    raise CompileError(None, pyx_file)\r\n",
      "Cython.Compiler.Errors.CompileError: Sparse_Matrix_Tree_CSR.pyx\r\n",
      "Traceback (most recent call last):\r\n",
      "  File \"/kaggle/working/RECsys_Challenge2024/run_compile_all_cython.py\", line 60, in <module>\r\n",
      "    run_compile_subprocess(file_path, [file_name])\r\n",
      "  File \"/kaggle/working/RECsys_Challenge2024/CythonCompiler/run_compile_subprocess.py\", line 51, in run_compile_subprocess\r\n",
      "    raise exc\r\n",
      "  File \"/kaggle/working/RECsys_Challenge2024/CythonCompiler/run_compile_subprocess.py\", line 32, in run_compile_subprocess\r\n",
      "    output = subprocess.check_output(' '.join(command),\r\n",
      "  File \"/opt/conda/lib/python3.10/subprocess.py\", line 421, in check_output\r\n",
      "    return run(*popenargs, stdout=PIPE, timeout=timeout, check=True,\r\n",
      "  File \"/opt/conda/lib/python3.10/subprocess.py\", line 526, in run\r\n",
      "    raise CalledProcessError(retcode, process.args,\r\n",
      "subprocess.CalledProcessError: Command '/opt/conda/bin/python /kaggle/working/RECsys_Challenge2024/CythonCompiler/compile_script.py Sparse_Matrix_Tree_CSR.pyx build_ext --inplace' returned non-zero exit status 1.\r\n",
      "Compiling [5/11]: Sparse_Matrix_Tree_CSR.pyx... FAIL: Command '/opt/conda/bin/python /kaggle/working/RECsys_Challenge2024/CythonCompiler/compile_script.py Sparse_Matrix_Tree_CSR.pyx build_ext --inplace' returned non-zero exit status 1.\r\n",
      "\r\n",
      "Compiling [6/11]: SLIM_BPR_Cython_Epoch.pyx... \r\n",
      "warning: SLIM_BPR_Cython_Epoch.pyx:24:0: The 'IF' statement is deprecated and will be removed in a future Cython version. Consider using runtime conditions or C macros instead. See https://github.com/cython/cython/issues/4310\r\n",
      "warning: SLIM_BPR_Cython_Epoch.pyx:632:34: Non-trivial type declarators in shared declaration (e.g. mix of pointers and values). Each pointer declaration should be on its own line.\r\n",
      "warning: SLIM_BPR_Cython_Epoch.pyx:632:66: Non-trivial type declarators in shared declaration (e.g. mix of pointers and values). Each pointer declaration should be on its own line.\r\n",
      "warning: SLIM_BPR_Cython_Epoch.pyx:817:35: Non-trivial type declarators in shared declaration (e.g. mix of pointers and values). Each pointer declaration should be on its own line.\r\n",
      "warning: SLIM_BPR_Cython_Epoch.pyx:817:52: Non-trivial type declarators in shared declaration (e.g. mix of pointers and values). Each pointer declaration should be on its own line.\r\n",
      "warning: SLIM_BPR_Cython_Epoch.pyx:916:35: Non-trivial type declarators in shared declaration (e.g. mix of pointers and values). Each pointer declaration should be on its own line.\r\n",
      "warning: SLIM_BPR_Cython_Epoch.pyx:916:53: Non-trivial type declarators in shared declaration (e.g. mix of pointers and values). Each pointer declaration should be on its own line.\r\n",
      "warning: SLIM_BPR_Cython_Epoch.pyx:916:69: Non-trivial type declarators in shared declaration (e.g. mix of pointers and values). Each pointer declaration should be on its own line.\r\n",
      "warning: SLIM_BPR_Cython_Epoch.pyx:1051:35: Non-trivial type declarators in shared declaration (e.g. mix of pointers and values). Each pointer declaration should be on its own line.\r\n",
      "warning: SLIM_BPR_Cython_Epoch.pyx:1051:42: Non-trivial type declarators in shared declaration (e.g. mix of pointers and values). Each pointer declaration should be on its own line.\r\n",
      "warning: SLIM_BPR_Cython_Epoch.pyx:1052:35: Non-trivial type declarators in shared declaration (e.g. mix of pointers and values). Each pointer declaration should be on its own line.\r\n",
      "warning: SLIM_BPR_Cython_Epoch.pyx:1052:53: Non-trivial type declarators in shared declaration (e.g. mix of pointers and values). Each pointer declaration should be on its own line.\r\n",
      "\r\n",
      "Error compiling Cython file:\r\n",
      "------------------------------------------------------------\r\n",
      "...\r\n",
      "            vector_pointer_to_list_elements[index].head = current_element\r\n",
      "            current_element = current_element.higher\r\n",
      "\r\n",
      "\r\n",
      "        # Sort array elements on their data field\r\n",
      "        qsort(vector_pointer_to_list_elements, list_length, sizeof(head_pointer_tree_s), compare_struct_on_data)\r\n",
      "                                                                                         ^\r\n",
      "------------------------------------------------------------\r\n",
      "\r\n",
      "SLIM_BPR_Cython_Epoch.pyx:990:89: Cannot assign type 'int (const void *, const void *) except? -1' to 'int (*)(const_void *, const_void *) noexcept'. Exception values are incompatible. Suggest adding 'noexcept' to the type of 'compare_struct_on_data'.\r\n",
      "\r\n",
      "Error compiling Cython file:\r\n",
      "------------------------------------------------------------\r\n",
      "...\r\n",
      "        # Sort array elements on their data field\r\n",
      "        qsort(vector_pointer_to_list_elements, list_length, sizeof(head_pointer_tree_s), compare_struct_on_data)\r\n",
      "\r\n",
      "        # Sort only the TopK according to their column field\r\n",
      "        # Sort is from lower to higher, therefore the elements to be considered are from len-topK to len\r\n",
      "        qsort(&vector_pointer_to_list_elements[list_length-TopK], TopK, sizeof(head_pointer_tree_s), compare_struct_on_column)\r\n",
      "                                                                                                     ^\r\n",
      "------------------------------------------------------------\r\n",
      "\r\n",
      "SLIM_BPR_Cython_Epoch.pyx:994:101: Cannot assign type 'int (const void *, const void *) except? -1' to 'int (*)(const_void *, const_void *) noexcept'. Exception values are incompatible. Suggest adding 'noexcept' to the type of 'compare_struct_on_column'.\r\n",
      "Traceback (most recent call last):\r\n",
      "  File \"/kaggle/working/RECsys_Challenge2024/CythonCompiler/compile_script.py\", line 48, in <module>\r\n",
      "    setup(\r\n",
      "  File \"/opt/conda/lib/python3.10/site-packages/setuptools/__init__.py\", line 103, in setup\r\n",
      "    return distutils.core.setup(**attrs)\r\n",
      "  File \"/opt/conda/lib/python3.10/site-packages/setuptools/_distutils/core.py\", line 184, in setup\r\n",
      "    return run_commands(dist)\r\n",
      "  File \"/opt/conda/lib/python3.10/site-packages/setuptools/_distutils/core.py\", line 200, in run_commands\r\n",
      "    dist.run_commands()\r\n",
      "  File \"/opt/conda/lib/python3.10/site-packages/setuptools/_distutils/dist.py\", line 969, in run_commands\r\n",
      "    self.run_command(cmd)\r\n",
      "  File \"/opt/conda/lib/python3.10/site-packages/setuptools/dist.py\", line 968, in run_command\r\n",
      "    super().run_command(command)\r\n",
      "  File \"/opt/conda/lib/python3.10/site-packages/setuptools/_distutils/dist.py\", line 988, in run_command\r\n",
      "    cmd_obj.run()\r\n",
      "  File \"/opt/conda/lib/python3.10/site-packages/setuptools/_distutils/command/build_ext.py\", line 359, in run\r\n",
      "    self.build_extensions()\r\n",
      "  File \"/opt/conda/lib/python3.10/site-packages/setuptools/_distutils/command/build_ext.py\", line 479, in build_extensions\r\n",
      "    self._build_extensions_serial()\r\n",
      "  File \"/opt/conda/lib/python3.10/site-packages/setuptools/_distutils/command/build_ext.py\", line 505, in _build_extensions_serial\r\n",
      "    self.build_extension(ext)\r\n",
      "  File \"/opt/conda/lib/python3.10/site-packages/Cython/Distutils/build_ext.py\", line 130, in build_extension\r\n",
      "    new_ext = cythonize(\r\n",
      "  File \"/opt/conda/lib/python3.10/site-packages/Cython/Build/Dependencies.py\", line 1154, in cythonize\r\n",
      "    cythonize_one(*args)\r\n",
      "  File \"/opt/conda/lib/python3.10/site-packages/Cython/Build/Dependencies.py\", line 1321, in cythonize_one\r\n",
      "    raise CompileError(None, pyx_file)\r\n",
      "Cython.Compiler.Errors.CompileError: SLIM_BPR_Cython_Epoch.pyx\r\n",
      "Traceback (most recent call last):\r\n",
      "  File \"/kaggle/working/RECsys_Challenge2024/run_compile_all_cython.py\", line 60, in <module>\r\n",
      "    run_compile_subprocess(file_path, [file_name])\r\n",
      "  File \"/kaggle/working/RECsys_Challenge2024/CythonCompiler/run_compile_subprocess.py\", line 51, in run_compile_subprocess\r\n",
      "    raise exc\r\n",
      "  File \"/kaggle/working/RECsys_Challenge2024/CythonCompiler/run_compile_subprocess.py\", line 32, in run_compile_subprocess\r\n",
      "    output = subprocess.check_output(' '.join(command),\r\n",
      "  File \"/opt/conda/lib/python3.10/subprocess.py\", line 421, in check_output\r\n",
      "    return run(*popenargs, stdout=PIPE, timeout=timeout, check=True,\r\n",
      "  File \"/opt/conda/lib/python3.10/subprocess.py\", line 526, in run\r\n",
      "    raise CalledProcessError(retcode, process.args,\r\n",
      "subprocess.CalledProcessError: Command '/opt/conda/bin/python /kaggle/working/RECsys_Challenge2024/CythonCompiler/compile_script.py SLIM_BPR_Cython_Epoch.pyx build_ext --inplace' returned non-zero exit status 1.\r\n",
      "Compiling [6/11]: SLIM_BPR_Cython_Epoch.pyx... FAIL: Command '/opt/conda/bin/python /kaggle/working/RECsys_Challenge2024/CythonCompiler/compile_script.py SLIM_BPR_Cython_Epoch.pyx build_ext --inplace' returned non-zero exit status 1.\r\n",
      "\r\n",
      "Compiling [7/11]: CFW_DVV_Similarity_Cython_SGD.pyx... \r\n",
      "In file included from \u001b[01m\u001b[K/opt/conda/lib/python3.10/site-packages/numpy/core/include/numpy/ndarraytypes.h:1929\u001b[m\u001b[K,\r\n",
      "                 from \u001b[01m\u001b[K/opt/conda/lib/python3.10/site-packages/numpy/core/include/numpy/ndarrayobject.h:12\u001b[m\u001b[K,\r\n",
      "                 from \u001b[01m\u001b[K/opt/conda/lib/python3.10/site-packages/numpy/core/include/numpy/arrayobject.h:5\u001b[m\u001b[K,\r\n",
      "                 from \u001b[01m\u001b[KCFW_DVV_Similarity_Cython_SGD.c:1252\u001b[m\u001b[K:\r\n",
      "\u001b[01m\u001b[K/opt/conda/lib/python3.10/site-packages/numpy/core/include/numpy/npy_1_7_deprecated_api.h:17:2:\u001b[m\u001b[K \u001b[01;35m\u001b[Kwarning: \u001b[m\u001b[K#warning \"Using deprecated NumPy API, disable it with \" \"#define NPY_NO_DEPRECATED_API NPY_1_7_API_VERSION\" [\u001b[01;35m\u001b[K-Wcpp\u001b[m\u001b[K]\r\n",
      "   17 | #\u001b[01;35m\u001b[Kwarning\u001b[m\u001b[K \"Using deprecated NumPy API, disable it with \" \\\r\n",
      "      |  \u001b[01;35m\u001b[K^~~~~~~\u001b[m\u001b[K\r\n",
      "/opt/conda/lib/python3.10/site-packages/Cython/Compiler/Main.py:381: FutureWarning: Cython directive 'language_level' not set, using '3str' for now (Py3). This has changed from earlier releases! File: /kaggle/working/RECsys_Challenge2024/Recommenders/FeatureWeighting/Cython/CFW_DVV_Similarity_Cython_SGD.pyx\r\n",
      "  tree = Parsing.p_module(s, pxd, full_module_name)\r\n",
      "Compiling [7/11]: CFW_DVV_Similarity_Cython_SGD.pyx... PASS\r\n",
      "\r\n",
      "Compiling [8/11]: CFW_D_Similarity_Cython_SGD.pyx... \r\n",
      "In file included from \u001b[01m\u001b[K/opt/conda/lib/python3.10/site-packages/numpy/core/include/numpy/ndarraytypes.h:1929\u001b[m\u001b[K,\r\n",
      "                 from \u001b[01m\u001b[K/opt/conda/lib/python3.10/site-packages/numpy/core/include/numpy/ndarrayobject.h:12\u001b[m\u001b[K,\r\n",
      "                 from \u001b[01m\u001b[K/opt/conda/lib/python3.10/site-packages/numpy/core/include/numpy/arrayobject.h:5\u001b[m\u001b[K,\r\n",
      "                 from \u001b[01m\u001b[KCFW_D_Similarity_Cython_SGD.c:1252\u001b[m\u001b[K:\r\n",
      "\u001b[01m\u001b[K/opt/conda/lib/python3.10/site-packages/numpy/core/include/numpy/npy_1_7_deprecated_api.h:17:2:\u001b[m\u001b[K \u001b[01;35m\u001b[Kwarning: \u001b[m\u001b[K#warning \"Using deprecated NumPy API, disable it with \" \"#define NPY_NO_DEPRECATED_API NPY_1_7_API_VERSION\" [\u001b[01;35m\u001b[K-Wcpp\u001b[m\u001b[K]\r\n",
      "   17 | #\u001b[01;35m\u001b[Kwarning\u001b[m\u001b[K \"Using deprecated NumPy API, disable it with \" \\\r\n",
      "      |  \u001b[01;35m\u001b[K^~~~~~~\u001b[m\u001b[K\r\n",
      "\u001b[01m\u001b[KCFW_D_Similarity_Cython_SGD.c:\u001b[m\u001b[K In function '\u001b[01m\u001b[K__pyx_pf_27CFW_D_Similarity_Cython_SGD_27CFW_D_Similarity_Cython_SGD_6fit\u001b[m\u001b[K':\r\n",
      "\u001b[01m\u001b[KCFW_D_Similarity_Cython_SGD.c:23373:55:\u001b[m\u001b[K \u001b[01;35m\u001b[Kwarning: \u001b[m\u001b[K'\u001b[01m\u001b[K__pyx_v_sample_num\u001b[m\u001b[K' may be used uninitialized in this function [\u001b[01;35m\u001b[K-Wmaybe-uninitialized\u001b[m\u001b[K]\r\n",
      "23373 |   __pyx_t_3 = PyFloat_FromDouble((__pyx_v_cum_loss / \u001b[01;35m\u001b[K((double)__pyx_v_sample_num)\u001b[m\u001b[K)); if (unlikely(!__pyx_t_3)) __PYX_ERR(0, 290, __pyx_L1_error)\r\n",
      "      |                                                      \u001b[01;35m\u001b[K~^~~~~~~~~~~~~~~~~~~~~~~~~~~\u001b[m\u001b[K\r\n",
      "/opt/conda/lib/python3.10/site-packages/Cython/Compiler/Main.py:381: FutureWarning: Cython directive 'language_level' not set, using '3str' for now (Py3). This has changed from earlier releases! File: /kaggle/working/RECsys_Challenge2024/Recommenders/FeatureWeighting/Cython/CFW_D_Similarity_Cython_SGD.pyx\r\n",
      "  tree = Parsing.p_module(s, pxd, full_module_name)\r\n",
      "Compiling [8/11]: CFW_D_Similarity_Cython_SGD.pyx... PASS\r\n",
      "\r\n",
      "Compiling [9/11]: FBSM_Rating_Cython_SGD.pyx... \r\n",
      "In file included from \u001b[01m\u001b[K/opt/conda/lib/python3.10/site-packages/numpy/core/include/numpy/ndarraytypes.h:1929\u001b[m\u001b[K,\r\n",
      "                 from \u001b[01m\u001b[K/opt/conda/lib/python3.10/site-packages/numpy/core/include/numpy/ndarrayobject.h:12\u001b[m\u001b[K,\r\n",
      "                 from \u001b[01m\u001b[K/opt/conda/lib/python3.10/site-packages/numpy/core/include/numpy/arrayobject.h:5\u001b[m\u001b[K,\r\n",
      "                 from \u001b[01m\u001b[KFBSM_Rating_Cython_SGD.c:1252\u001b[m\u001b[K:\r\n",
      "\u001b[01m\u001b[K/opt/conda/lib/python3.10/site-packages/numpy/core/include/numpy/npy_1_7_deprecated_api.h:17:2:\u001b[m\u001b[K \u001b[01;35m\u001b[Kwarning: \u001b[m\u001b[K#warning \"Using deprecated NumPy API, disable it with \" \"#define NPY_NO_DEPRECATED_API NPY_1_7_API_VERSION\" [\u001b[01;35m\u001b[K-Wcpp\u001b[m\u001b[K]\r\n",
      "   17 | #\u001b[01;35m\u001b[Kwarning\u001b[m\u001b[K \"Using deprecated NumPy API, disable it with \" \\\r\n",
      "      |  \u001b[01;35m\u001b[K^~~~~~~\u001b[m\u001b[K\r\n",
      "\u001b[01m\u001b[KFBSM_Rating_Cython_SGD.c:\u001b[m\u001b[K In function '\u001b[01m\u001b[K__pyx_pf_22FBSM_Rating_Cython_SGD_22FBSM_Rating_Cython_SGD_2fit\u001b[m\u001b[K':\r\n",
      "\u001b[01m\u001b[KFBSM_Rating_Cython_SGD.c:26607:55:\u001b[m\u001b[K \u001b[01;35m\u001b[Kwarning: \u001b[m\u001b[K'\u001b[01m\u001b[K__pyx_v_num_sample\u001b[m\u001b[K' may be used uninitialized in this function [\u001b[01;35m\u001b[K-Wmaybe-uninitialized\u001b[m\u001b[K]\r\n",
      "26607 |   __pyx_t_5 = PyFloat_FromDouble((__pyx_v_cum_loss / \u001b[01;35m\u001b[K((double)__pyx_v_num_sample)\u001b[m\u001b[K)); if (unlikely(!__pyx_t_5)) __PYX_ERR(0, 551, __pyx_L1_error)\r\n",
      "      |                                                      \u001b[01;35m\u001b[K~^~~~~~~~~~~~~~~~~~~~~~~~~~~\u001b[m\u001b[K\r\n",
      "/opt/conda/lib/python3.10/site-packages/Cython/Compiler/Main.py:381: FutureWarning: Cython directive 'language_level' not set, using '3str' for now (Py3). This has changed from earlier releases! File: /kaggle/working/RECsys_Challenge2024/Recommenders/FeatureWeighting/Cython/FBSM_Rating_Cython_SGD.pyx\r\n",
      "  tree = Parsing.p_module(s, pxd, full_module_name)\r\n",
      "Compiling [9/11]: FBSM_Rating_Cython_SGD.pyx... PASS\r\n",
      "\r\n",
      "Compiling [10/11]: HP3_Similarity_Cython_SGD.pyx... \r\n",
      "performance hint: HP3_Similarity_Cython_SGD.pyx:113:40: Index should be typed for more efficient access\r\n",
      "performance hint: HP3_Similarity_Cython_SGD.pyx:114:40: Index should be typed for more efficient access\r\n",
      "In file included from \u001b[01m\u001b[K/opt/conda/lib/python3.10/site-packages/numpy/core/include/numpy/ndarraytypes.h:1929\u001b[m\u001b[K,\r\n",
      "                 from \u001b[01m\u001b[K/opt/conda/lib/python3.10/site-packages/numpy/core/include/numpy/ndarrayobject.h:12\u001b[m\u001b[K,\r\n",
      "                 from \u001b[01m\u001b[K/opt/conda/lib/python3.10/site-packages/numpy/core/include/numpy/arrayobject.h:5\u001b[m\u001b[K,\r\n",
      "                 from \u001b[01m\u001b[KHP3_Similarity_Cython_SGD.c:1252\u001b[m\u001b[K:\r\n",
      "\u001b[01m\u001b[K/opt/conda/lib/python3.10/site-packages/numpy/core/include/numpy/npy_1_7_deprecated_api.h:17:2:\u001b[m\u001b[K \u001b[01;35m\u001b[Kwarning: \u001b[m\u001b[K#warning \"Using deprecated NumPy API, disable it with \" \"#define NPY_NO_DEPRECATED_API NPY_1_7_API_VERSION\" [\u001b[01;35m\u001b[K-Wcpp\u001b[m\u001b[K]\r\n",
      "   17 | #\u001b[01;35m\u001b[Kwarning\u001b[m\u001b[K \"Using deprecated NumPy API, disable it with \" \\\r\n",
      "      |  \u001b[01;35m\u001b[K^~~~~~~\u001b[m\u001b[K\r\n",
      "\u001b[01m\u001b[KHP3_Similarity_Cython_SGD.c:\u001b[m\u001b[K In function '\u001b[01m\u001b[K__pyx_pf_25HP3_Similarity_Cython_SGD_25HP3_Similarity_Cython_SGD_4fit\u001b[m\u001b[K':\r\n",
      "\u001b[01m\u001b[KHP3_Similarity_Cython_SGD.c:23631:55:\u001b[m\u001b[K \u001b[01;35m\u001b[Kwarning: \u001b[m\u001b[K'\u001b[01m\u001b[K__pyx_v_sample_num\u001b[m\u001b[K' may be used uninitialized in this function [\u001b[01;35m\u001b[K-Wmaybe-uninitialized\u001b[m\u001b[K]\r\n",
      "23631 |   __pyx_t_1 = PyFloat_FromDouble((__pyx_v_cum_loss / \u001b[01;35m\u001b[K((double)__pyx_v_sample_num)\u001b[m\u001b[K)); if (unlikely(!__pyx_t_1)) __PYX_ERR(0, 291, __pyx_L1_error)\r\n",
      "      |                                                      \u001b[01;35m\u001b[K~^~~~~~~~~~~~~~~~~~~~~~~~~~~\u001b[m\u001b[K\r\n",
      "/opt/conda/lib/python3.10/site-packages/Cython/Compiler/Main.py:381: FutureWarning: Cython directive 'language_level' not set, using '3str' for now (Py3). This has changed from earlier releases! File: /kaggle/working/RECsys_Challenge2024/Recommenders/FeatureWeighting/Cython/HP3_Similarity_Cython_SGD.pyx\r\n",
      "  tree = Parsing.p_module(s, pxd, full_module_name)\r\n",
      "performance hint: HP3_Similarity_Cython_SGD.pyx:113:40: Index should be typed for more efficient access\r\n",
      "performance hint: HP3_Similarity_Cython_SGD.pyx:114:40: Index should be typed for more efficient access\r\n",
      "Compiling [10/11]: HP3_Similarity_Cython_SGD.pyx... PASS\r\n",
      "\r\n",
      "Compiling [11/11]: DataIterator.pyx... \r\n",
      "In file included from \u001b[01m\u001b[K/opt/conda/lib/python3.10/site-packages/numpy/core/include/numpy/ndarraytypes.h:1929\u001b[m\u001b[K,\r\n",
      "                 from \u001b[01m\u001b[K/opt/conda/lib/python3.10/site-packages/numpy/core/include/numpy/ndarrayobject.h:12\u001b[m\u001b[K,\r\n",
      "                 from \u001b[01m\u001b[K/opt/conda/lib/python3.10/site-packages/numpy/core/include/numpy/arrayobject.h:5\u001b[m\u001b[K,\r\n",
      "                 from \u001b[01m\u001b[KDataIterator.c:1252\u001b[m\u001b[K:\r\n",
      "\u001b[01m\u001b[K/opt/conda/lib/python3.10/site-packages/numpy/core/include/numpy/npy_1_7_deprecated_api.h:17:2:\u001b[m\u001b[K \u001b[01;35m\u001b[Kwarning: \u001b[m\u001b[K#warning \"Using deprecated NumPy API, disable it with \" \"#define NPY_NO_DEPRECATED_API NPY_1_7_API_VERSION\" [\u001b[01;35m\u001b[K-Wcpp\u001b[m\u001b[K]\r\n",
      "   17 | #\u001b[01;35m\u001b[Kwarning\u001b[m\u001b[K \"Using deprecated NumPy API, disable it with \" \\\r\n",
      "      |  \u001b[01;35m\u001b[K^~~~~~~\u001b[m\u001b[K\r\n",
      "\u001b[01m\u001b[KDataIterator.c:\u001b[m\u001b[K In function '\u001b[01m\u001b[K__pyx_pf_12DataIterator_30InteractionAndNegativeIterator_6__next__\u001b[m\u001b[K':\r\n",
      "\u001b[01m\u001b[KDataIterator.c:25495:22:\u001b[m\u001b[K \u001b[01;35m\u001b[Kwarning: \u001b[m\u001b[K'\u001b[01m\u001b[K__pyx_v_i_batch\u001b[m\u001b[K' may be used uninitialized in this function [\u001b[01;35m\u001b[K-Wmaybe-uninitialized\u001b[m\u001b[K]\r\n",
      "25495 |     (__pyx_v_i_batch \u001b[01;35m\u001b[K+\u001b[m\u001b[K 1),\r\n",
      "      |                      \u001b[01;35m\u001b[K^\u001b[m\u001b[K\r\n",
      "\u001b[01m\u001b[KDataIterator.c:\u001b[m\u001b[K In function '\u001b[01m\u001b[K__pyx_pf_12DataIterator_11BPRIterator_6__next__\u001b[m\u001b[K':\r\n",
      "\u001b[01m\u001b[KDataIterator.c:23054:22:\u001b[m\u001b[K \u001b[01;35m\u001b[Kwarning: \u001b[m\u001b[K'\u001b[01m\u001b[K__pyx_v_i_batch\u001b[m\u001b[K' may be used uninitialized in this function [\u001b[01;35m\u001b[K-Wmaybe-uninitialized\u001b[m\u001b[K]\r\n",
      "23054 |     (__pyx_v_i_batch \u001b[01;35m\u001b[K+\u001b[m\u001b[K 1),\r\n",
      "      |                      \u001b[01;35m\u001b[K^\u001b[m\u001b[K\r\n",
      "\u001b[01m\u001b[KDataIterator.c:\u001b[m\u001b[K In function '\u001b[01m\u001b[K__pyx_pf_12DataIterator_19InteractionIterator_6__next__\u001b[m\u001b[K':\r\n",
      "\u001b[01m\u001b[KDataIterator.c:20937:22:\u001b[m\u001b[K \u001b[01;35m\u001b[Kwarning: \u001b[m\u001b[K'\u001b[01m\u001b[K__pyx_v_i_batch\u001b[m\u001b[K' may be used uninitialized in this function [\u001b[01;35m\u001b[K-Wmaybe-uninitialized\u001b[m\u001b[K]\r\n",
      "20937 |     (__pyx_v_i_batch \u001b[01;35m\u001b[K+\u001b[m\u001b[K 1),\r\n",
      "      |                      \u001b[01;35m\u001b[K^\u001b[m\u001b[K\r\n",
      "/opt/conda/lib/python3.10/site-packages/Cython/Compiler/Main.py:381: FutureWarning: Cython directive 'language_level' not set, using '3str' for now (Py3). This has changed from earlier releases! File: /kaggle/working/RECsys_Challenge2024/Utils/PyTorch/Cython/DataIterator.pyx\r\n",
      "  tree = Parsing.p_module(s, pxd, full_module_name)\r\n",
      "Compiling [11/11]: DataIterator.pyx... PASS\r\n",
      "\r\n",
      "run_compile_all_cython: Compilation finished. FAILS 2/11.\r\n",
      "Compilation log can be found here: './result_experiments/run_compile_all_cython.txt'\r\n"
     ]
    }
   ],
   "source": [
    "%cd /kaggle/working/RECsys_Challenge2024 \n",
    "! python run_compile_all_cython.py"
   ]
  },
  {
   "cell_type": "code",
   "execution_count": 5,
   "id": "b9cc50ee",
   "metadata": {
    "execution": {
     "iopub.execute_input": "2024-12-17T09:29:40.714960Z",
     "iopub.status.busy": "2024-12-17T09:29:40.714457Z",
     "iopub.status.idle": "2024-12-17T09:29:42.770913Z",
     "shell.execute_reply": "2024-12-17T09:29:42.769623Z"
    },
    "papermill": {
     "duration": 2.074159,
     "end_time": "2024-12-17T09:29:42.773602",
     "exception": false,
     "start_time": "2024-12-17T09:29:40.699443",
     "status": "completed"
    },
    "tags": []
   },
   "outputs": [],
   "source": [
    "from Utils.notebookFunctions import *\n",
    "import numpy as np\n",
    "import pandas as pd\n",
    "import scipy.sparse as sps\n",
    "import time\n",
    "import shutil\n",
    "import optuna\n",
    "import json\n",
    "import os\n",
    "from Utils.seconds_to_biggest_unit import seconds_to_biggest_unit\n",
    "\n",
    "\n",
    "K_PATH = '/kaggle/working/RECsys_Challenge2024'\n",
    "GH_PATH = 'TrainedModels/WithoutKFCV/GraphBased'\n",
    "\n",
    "np.random.seed(42)"
   ]
  },
  {
   "cell_type": "markdown",
   "id": "8e3e78dc",
   "metadata": {
    "papermill": {
     "duration": 0.012538,
     "end_time": "2024-12-17T09:29:42.799202",
     "exception": false,
     "start_time": "2024-12-17T09:29:42.786664",
     "status": "completed"
    },
    "tags": []
   },
   "source": [
    "## Import the repository"
   ]
  },
  {
   "cell_type": "code",
   "execution_count": 6,
   "id": "740a5d8b",
   "metadata": {
    "execution": {
     "iopub.execute_input": "2024-12-17T09:29:42.828083Z",
     "iopub.status.busy": "2024-12-17T09:29:42.827479Z",
     "iopub.status.idle": "2024-12-17T09:29:43.152030Z",
     "shell.execute_reply": "2024-12-17T09:29:43.150472Z"
    },
    "papermill": {
     "duration": 0.341863,
     "end_time": "2024-12-17T09:29:43.154826",
     "exception": false,
     "start_time": "2024-12-17T09:29:42.812963",
     "status": "completed"
    },
    "tags": []
   },
   "outputs": [
    {
     "name": "stdout",
     "output_type": "stream",
     "text": [
      "Repository 'RECsys_Challenge2024' found.\n"
     ]
    }
   ],
   "source": [
    "repo = get_repo_from_github(token)"
   ]
  },
  {
   "cell_type": "code",
   "execution_count": 7,
   "id": "1da3fa82",
   "metadata": {
    "execution": {
     "iopub.execute_input": "2024-12-17T09:29:43.184295Z",
     "iopub.status.busy": "2024-12-17T09:29:43.183933Z",
     "iopub.status.idle": "2024-12-17T09:29:43.189501Z",
     "shell.execute_reply": "2024-12-17T09:29:43.188350Z"
    },
    "papermill": {
     "duration": 0.024171,
     "end_time": "2024-12-17T09:29:43.192189",
     "exception": false,
     "start_time": "2024-12-17T09:29:43.168018",
     "status": "completed"
    },
    "tags": []
   },
   "outputs": [],
   "source": [
    "config = {\n",
    "    'model': 'RP3beta',\n",
    "    'metric': 'Recall',\n",
    "    'tune_parameters': True,\n",
    "    'database_path': '/kaggle/working/history_RP3beta_Recall.db',\n",
    "    'copy_prev_best_params': False,\n",
    "    'tune_best_params': True,\n",
    "    'save_github': True\n",
    "}"
   ]
  },
  {
   "cell_type": "markdown",
   "id": "304f88a0",
   "metadata": {
    "papermill": {
     "duration": 0.013237,
     "end_time": "2024-12-17T09:29:43.219574",
     "exception": false,
     "start_time": "2024-12-17T09:29:43.206337",
     "status": "completed"
    },
    "tags": []
   },
   "source": [
    "Import the database where previous tuning trials have been saved."
   ]
  },
  {
   "cell_type": "code",
   "execution_count": 8,
   "id": "ce1e9005",
   "metadata": {
    "execution": {
     "iopub.execute_input": "2024-12-17T09:29:43.250387Z",
     "iopub.status.busy": "2024-12-17T09:29:43.249964Z",
     "iopub.status.idle": "2024-12-17T09:29:43.256912Z",
     "shell.execute_reply": "2024-12-17T09:29:43.255889Z"
    },
    "papermill": {
     "duration": 0.025495,
     "end_time": "2024-12-17T09:29:43.259572",
     "exception": false,
     "start_time": "2024-12-17T09:29:43.234077",
     "status": "completed"
    },
    "tags": []
   },
   "outputs": [],
   "source": [
    "try:\n",
    "    shutil.copyfile(\n",
    "        f'{K_PATH}/{GH_PATH}/{config[\"model\"]}Recommender/Optimizing{config[\"metric\"]}/history_{config[\"model\"]}_{config[\"metric\"]}.db', \n",
    "        config['database_path']\n",
    "    )\n",
    "except FileNotFoundError:\n",
    "    pass # if not present optuna will create it"
   ]
  },
  {
   "cell_type": "markdown",
   "id": "1addcefa",
   "metadata": {
    "papermill": {
     "duration": 0.012492,
     "end_time": "2024-12-17T09:29:43.286225",
     "exception": false,
     "start_time": "2024-12-17T09:29:43.273733",
     "status": "completed"
    },
    "tags": []
   },
   "source": [
    "# Construction of URM and ICM matrices"
   ]
  },
  {
   "cell_type": "code",
   "execution_count": 9,
   "id": "3d68c608",
   "metadata": {
    "execution": {
     "iopub.execute_input": "2024-12-17T09:29:43.315420Z",
     "iopub.status.busy": "2024-12-17T09:29:43.315018Z",
     "iopub.status.idle": "2024-12-17T09:29:44.178966Z",
     "shell.execute_reply": "2024-12-17T09:29:44.177654Z"
    },
    "papermill": {
     "duration": 0.882642,
     "end_time": "2024-12-17T09:29:44.182213",
     "exception": false,
     "start_time": "2024-12-17T09:29:43.299571",
     "status": "completed"
    },
    "tags": []
   },
   "outputs": [
    {
     "data": {
      "text/plain": [
       "<Compressed Sparse Row sparse matrix of dtype 'float64'\n",
       "\twith 1764607 stored elements and shape (35736, 38121)>"
      ]
     },
     "execution_count": 9,
     "metadata": {},
     "output_type": "execute_result"
    }
   ],
   "source": [
    "URM_all_dataframe = pd.read_csv(\"/kaggle/input/recommender-system-2024-challenge-polimi/data_train.csv\")\n",
    "\n",
    "n_users = len(URM_all_dataframe[\"user_id\"].unique())\n",
    "n_items = len(URM_all_dataframe[\"item_id\"].unique())\n",
    "\n",
    "URM_all = sps.csr_matrix((URM_all_dataframe[\"data\"].values, \n",
    "                          (URM_all_dataframe[\"user_id\"].values, URM_all_dataframe[\"item_id\"].values)),\n",
    "                        shape = (n_users, n_items))\n",
    "\n",
    "URM_all"
   ]
  },
  {
   "cell_type": "code",
   "execution_count": 10,
   "id": "918a5d81",
   "metadata": {
    "execution": {
     "iopub.execute_input": "2024-12-17T09:29:44.211889Z",
     "iopub.status.busy": "2024-12-17T09:29:44.211462Z",
     "iopub.status.idle": "2024-12-17T09:29:45.499907Z",
     "shell.execute_reply": "2024-12-17T09:29:45.498684Z"
    },
    "papermill": {
     "duration": 1.306018,
     "end_time": "2024-12-17T09:29:45.502322",
     "exception": false,
     "start_time": "2024-12-17T09:29:44.196304",
     "status": "completed"
    },
    "tags": []
   },
   "outputs": [
    {
     "data": {
      "text/plain": [
       "<Compressed Sparse Row sparse matrix of dtype 'float64'\n",
       "\twith 2940040 stored elements and shape (38121, 94331)>"
      ]
     },
     "execution_count": 10,
     "metadata": {},
     "output_type": "execute_result"
    }
   ],
   "source": [
    "ICM_dataframe = pd.read_csv(\"/kaggle/input/recommender-system-2024-challenge-polimi/data_ICM_metadata.csv\")\n",
    "\n",
    "n_items = len(ICM_dataframe[\"item_id\"].unique())\n",
    "n_features = len(ICM_dataframe[\"feature_id\"].unique())\n",
    "\n",
    "ICM_all = sps.csr_matrix((ICM_dataframe[\"data\"].values, \n",
    "                          (ICM_dataframe[\"item_id\"].values, ICM_dataframe[\"feature_id\"].values)),\n",
    "                        shape = (n_items, n_features))\n",
    "\n",
    "ICM_all"
   ]
  },
  {
   "cell_type": "markdown",
   "id": "8059a0f3",
   "metadata": {
    "papermill": {
     "duration": 0.013782,
     "end_time": "2024-12-17T09:29:45.529653",
     "exception": false,
     "start_time": "2024-12-17T09:29:45.515871",
     "status": "completed"
    },
    "tags": []
   },
   "source": [
    "# Training"
   ]
  },
  {
   "cell_type": "code",
   "execution_count": 11,
   "id": "40b93f17",
   "metadata": {
    "execution": {
     "iopub.execute_input": "2024-12-17T09:29:45.558195Z",
     "iopub.status.busy": "2024-12-17T09:29:45.557825Z",
     "iopub.status.idle": "2024-12-17T09:29:48.625007Z",
     "shell.execute_reply": "2024-12-17T09:29:48.623760Z"
    },
    "papermill": {
     "duration": 3.084517,
     "end_time": "2024-12-17T09:29:48.627813",
     "exception": false,
     "start_time": "2024-12-17T09:29:45.543296",
     "status": "completed"
    },
    "tags": []
   },
   "outputs": [
    {
     "name": "stdout",
     "output_type": "stream",
     "text": [
      "Warning: 141 (0.39 %) of 35736 users have no sampled items\n",
      "EvaluatorHoldout: Ignoring 141 ( 0.4%) Users that have less than 1 test interactions\n"
     ]
    }
   ],
   "source": [
    "from Evaluation.Evaluator import EvaluatorHoldout\n",
    "from Data_manager.split_functions.split_train_validation_random_holdout import split_train_in_two_percentage_global_sample\n",
    "\n",
    "URM_train, URM_validation = split_train_in_two_percentage_global_sample(URM_all, train_percentage = 0.80)\n",
    "\n",
    "evaluator_validation = EvaluatorHoldout(URM_validation, cutoff_list=[50])"
   ]
  },
  {
   "cell_type": "code",
   "execution_count": 12,
   "id": "6309a983",
   "metadata": {
    "execution": {
     "iopub.execute_input": "2024-12-17T09:29:48.661183Z",
     "iopub.status.busy": "2024-12-17T09:29:48.660575Z",
     "iopub.status.idle": "2024-12-17T09:29:49.788671Z",
     "shell.execute_reply": "2024-12-17T09:29:49.787032Z"
    },
    "papermill": {
     "duration": 1.148218,
     "end_time": "2024-12-17T09:29:49.791373",
     "exception": false,
     "start_time": "2024-12-17T09:29:48.643155",
     "status": "completed"
    },
    "tags": []
   },
   "outputs": [],
   "source": [
    "from Recommenders.GraphBased.RP3betaRecommender import RP3betaRecommender\n",
    "\n",
    "def objective_function_RP3beta(optuna_trial):\n",
    "    \n",
    "    recommender_instance = RP3betaRecommender(URM_train)\n",
    "    \n",
    "    full_hyperp = {\n",
    "                    \"topK\": optuna_trial.suggest_int(\"topK\", 0, 1500),\n",
    "                   \"alpha\": optuna_trial.suggest_float(\"alpha\", 0, 3, log=False),\n",
    "                   \"beta\": optuna_trial.suggest_float(\"beta\", 0, 3, log=False),\n",
    "                   \"normalize_similarity\": optuna_trial.suggest_categorical(\"normalize_similarity\", [True, False]),\n",
    "                   \"implicit\": optuna_trial.suggest_categorical(\"implicit\", [True, False]),\n",
    "                  }        \n",
    "    \n",
    "    recommender_instance.fit(**full_hyperp)\n",
    "    \n",
    "    result_df, _ = evaluator_validation.evaluateRecommender(recommender_instance)\n",
    "    \n",
    "    return result_df.loc[50][\"RECALL\"]"
   ]
  },
  {
   "cell_type": "code",
   "execution_count": 13,
   "id": "8687f94f",
   "metadata": {
    "_kg_hide-output": true,
    "execution": {
     "iopub.execute_input": "2024-12-17T09:29:49.820893Z",
     "iopub.status.busy": "2024-12-17T09:29:49.820208Z",
     "iopub.status.idle": "2024-12-17T13:23:58.966450Z",
     "shell.execute_reply": "2024-12-17T13:23:58.965298Z"
    },
    "papermill": {
     "duration": 14049.165455,
     "end_time": "2024-12-17T13:23:58.970137",
     "exception": false,
     "start_time": "2024-12-17T09:29:49.804682",
     "status": "completed"
    },
    "tags": []
   },
   "outputs": [
    {
     "name": "stderr",
     "output_type": "stream",
     "text": [
      "[I 2024-12-17 09:29:51,557] Using an existing study with name 'hyperparameters_tuning_RP3beta_Recall' instead of creating a new one.\n"
     ]
    },
    {
     "name": "stdout",
     "output_type": "stream",
     "text": [
      "RP3betaRecommender: Similarity column 38121 (100.0%), 1887.64 column/sec. Elapsed time 20.20 sec\n",
      "EvaluatorHoldout: Processed 35595 (100.0%) in 36.83 sec. Users per second: 967\n"
     ]
    },
    {
     "name": "stderr",
     "output_type": "stream",
     "text": [
      "[I 2024-12-17 09:30:51,793] Trial 400 finished with value: 0.2741200518108274 and parameters: {'topK': 55, 'alpha': 0.2601736432120651, 'beta': 0.18898781235063367, 'normalize_similarity': True, 'implicit': False}. Best is trial 191 with value: 0.2757505849868378.\n"
     ]
    },
    {
     "name": "stdout",
     "output_type": "stream",
     "text": [
      "RP3betaRecommender: Similarity column 38121 (100.0%), 1859.02 column/sec. Elapsed time 20.51 sec\n",
      "EvaluatorHoldout: Processed 35595 (100.0%) in 37.24 sec. Users per second: 956\n"
     ]
    },
    {
     "name": "stderr",
     "output_type": "stream",
     "text": [
      "[I 2024-12-17 09:31:52,775] Trial 401 finished with value: 0.27318379754910604 and parameters: {'topK': 73, 'alpha': 0.3748756505593702, 'beta': 0.10733286731288862, 'normalize_similarity': True, 'implicit': True}. Best is trial 191 with value: 0.2757505849868378.\n"
     ]
    },
    {
     "name": "stdout",
     "output_type": "stream",
     "text": [
      "RP3betaRecommender: Similarity column 38121 (100.0%), 2173.77 column/sec. Elapsed time 17.54 sec\n",
      "EvaluatorHoldout: Processed 35595 (100.0%) in 30.54 sec. Users per second: 1166\n"
     ]
    },
    {
     "name": "stderr",
     "output_type": "stream",
     "text": [
      "[I 2024-12-17 09:32:41,851] Trial 402 finished with value: 0.15511962622357656 and parameters: {'topK': 2, 'alpha': 0.3013806233872897, 'beta': 0.27047656977438617, 'normalize_similarity': True, 'implicit': True}. Best is trial 191 with value: 0.2757505849868378.\n"
     ]
    },
    {
     "name": "stdout",
     "output_type": "stream",
     "text": [
      "RP3betaRecommender: Similarity column 38121 (100.0%), 1958.84 column/sec. Elapsed time 19.46 sec\n",
      "EvaluatorHoldout: Processed 35595 (100.0%) in 37.43 sec. Users per second: 951\n"
     ]
    },
    {
     "name": "stderr",
     "output_type": "stream",
     "text": [
      "[I 2024-12-17 09:33:41,765] Trial 403 finished with value: 0.26189580035146076 and parameters: {'topK': 51, 'alpha': 0.36312147747048973, 'beta': 0.5588126767824609, 'normalize_similarity': True, 'implicit': True}. Best is trial 191 with value: 0.2757505849868378.\n"
     ]
    },
    {
     "name": "stdout",
     "output_type": "stream",
     "text": [
      "RP3betaRecommender: Similarity column 38121 (100.0%), 1635.77 column/sec. Elapsed time 23.30 sec\n",
      "EvaluatorHoldout: Processed 35595 (100.0%) in 39.25 sec. Users per second: 907\n"
     ]
    },
    {
     "name": "stderr",
     "output_type": "stream",
     "text": [
      "[I 2024-12-17 09:34:49,975] Trial 404 finished with value: 0.07976951379796983 and parameters: {'topK': 126, 'alpha': 2.796722025823049, 'beta': 0.3189605079335637, 'normalize_similarity': False, 'implicit': True}. Best is trial 191 with value: 0.2757505849868378.\n"
     ]
    },
    {
     "name": "stdout",
     "output_type": "stream",
     "text": [
      "RP3betaRecommender: Similarity column 38121 (100.0%), 1792.47 column/sec. Elapsed time 21.27 sec\n",
      "EvaluatorHoldout: Processed 35595 (100.0%) in 37.78 sec. Users per second: 942\n"
     ]
    },
    {
     "name": "stderr",
     "output_type": "stream",
     "text": [
      "[I 2024-12-17 09:35:52,805] Trial 405 finished with value: 0.2727207625916036 and parameters: {'topK': 83, 'alpha': 0.14592618005408275, 'beta': 0.2300135729454967, 'normalize_similarity': True, 'implicit': True}. Best is trial 191 with value: 0.2757505849868378.\n"
     ]
    },
    {
     "name": "stdout",
     "output_type": "stream",
     "text": [
      "RP3betaRecommender: Similarity column 38121 (100.0%), 2036.71 column/sec. Elapsed time 18.72 sec\n",
      "EvaluatorHoldout: Processed 35595 (100.0%) in 35.41 sec. Users per second: 1005\n"
     ]
    },
    {
     "name": "stderr",
     "output_type": "stream",
     "text": [
      "[I 2024-12-17 09:36:48,936] Trial 406 finished with value: 0.2720365282224648 and parameters: {'topK': 36, 'alpha': 0.2738872064226574, 'beta': 0.1606260277593256, 'normalize_similarity': True, 'implicit': True}. Best is trial 191 with value: 0.2757505849868378.\n"
     ]
    },
    {
     "name": "stdout",
     "output_type": "stream",
     "text": [
      "RP3betaRecommender: Similarity column 38121 (100.0%), 1002.35 column/sec. Elapsed time 38.03 sec\n",
      "EvaluatorHoldout: Processed 35595 (100.0%) in 46.77 sec. Users per second: 761\n"
     ]
    },
    {
     "name": "stderr",
     "output_type": "stream",
     "text": [
      "[I 2024-12-17 09:38:31,638] Trial 407 finished with value: 0.26300343722442937 and parameters: {'topK': 385, 'alpha': 0.3837707759505226, 'beta': 0.35176592385862354, 'normalize_similarity': True, 'implicit': True}. Best is trial 191 with value: 0.2757505849868378.\n"
     ]
    },
    {
     "name": "stdout",
     "output_type": "stream",
     "text": [
      "RP3betaRecommender: Similarity column 38121 (100.0%), 1693.45 column/sec. Elapsed time 22.51 sec\n",
      "EvaluatorHoldout: Processed 35595 (100.0%) in 39.14 sec. Users per second: 909\n"
     ]
    },
    {
     "name": "stderr",
     "output_type": "stream",
     "text": [
      "[I 2024-12-17 09:39:38,265] Trial 408 finished with value: 0.2718791884730276 and parameters: {'topK': 112, 'alpha': 0.2204385615499641, 'beta': 0.2560486675658621, 'normalize_similarity': True, 'implicit': False}. Best is trial 191 with value: 0.2757505849868378.\n"
     ]
    },
    {
     "name": "stdout",
     "output_type": "stream",
     "text": [
      "RP3betaRecommender: Similarity column 38121 (100.0%), 1844.83 column/sec. Elapsed time 20.66 sec\n",
      "EvaluatorHoldout: Processed 35595 (100.0%) in 37.58 sec. Users per second: 947\n"
     ]
    },
    {
     "name": "stderr",
     "output_type": "stream",
     "text": [
      "[I 2024-12-17 09:40:39,671] Trial 409 finished with value: 0.27271653853702466 and parameters: {'topK': 72, 'alpha': 0.35252339181904613, 'beta': 0.09177419865302941, 'normalize_similarity': True, 'implicit': True}. Best is trial 191 with value: 0.2757505849868378.\n"
     ]
    },
    {
     "name": "stdout",
     "output_type": "stream",
     "text": [
      "RP3betaRecommender: Similarity column 38121 (100.0%), 2055.65 column/sec. Elapsed time 18.54 sec\n",
      "EvaluatorHoldout: Processed 35595 (100.0%) in 35.74 sec. Users per second: 996\n"
     ]
    },
    {
     "name": "stderr",
     "output_type": "stream",
     "text": [
      "[I 2024-12-17 09:41:35,749] Trial 410 finished with value: 0.26931793871470905 and parameters: {'topK': 27, 'alpha': 0.33007734753094586, 'beta': 0.1788046658346031, 'normalize_similarity': True, 'implicit': True}. Best is trial 191 with value: 0.2757505849868378.\n"
     ]
    },
    {
     "name": "stdout",
     "output_type": "stream",
     "text": [
      "RP3betaRecommender: Similarity column 38121 (100.0%), 1710.13 column/sec. Elapsed time 22.29 sec\n",
      "EvaluatorHoldout: Processed 35595 (100.0%) in 39.52 sec. Users per second: 901\n"
     ]
    },
    {
     "name": "stderr",
     "output_type": "stream",
     "text": [
      "[I 2024-12-17 09:42:42,637] Trial 411 finished with value: 0.2714400633318098 and parameters: {'topK': 100, 'alpha': 0.41136191201607697, 'beta': 0.40126081273446873, 'normalize_similarity': True, 'implicit': True}. Best is trial 191 with value: 0.2757505849868378.\n"
     ]
    },
    {
     "name": "stdout",
     "output_type": "stream",
     "text": [
      "RP3betaRecommender: Similarity column 38121 (100.0%), 1890.60 column/sec. Elapsed time 20.16 sec\n",
      "EvaluatorHoldout: Processed 35595 (100.0%) in 36.25 sec. Users per second: 982\n"
     ]
    },
    {
     "name": "stderr",
     "output_type": "stream",
     "text": [
      "[I 2024-12-17 09:43:41,511] Trial 412 finished with value: 0.26888288986502784 and parameters: {'topK': 60, 'alpha': 0.2699561856159848, 'beta': 0.0034256118882258213, 'normalize_similarity': True, 'implicit': True}. Best is trial 191 with value: 0.2757505849868378.\n"
     ]
    },
    {
     "name": "stdout",
     "output_type": "stream",
     "text": [
      "RP3betaRecommender: Similarity column 38121 (100.0%), 1523.65 column/sec. Elapsed time 25.02 sec\n",
      "EvaluatorHoldout: Processed 35595 (100.0%) in 41.98 sec. Users per second: 848\n"
     ]
    },
    {
     "name": "stderr",
     "output_type": "stream",
     "text": [
      "[I 2024-12-17 09:44:55,489] Trial 413 finished with value: 0.2053208556713536 and parameters: {'topK': 157, 'alpha': 2.5379560677388002, 'beta': 0.2873646677703766, 'normalize_similarity': True, 'implicit': True}. Best is trial 191 with value: 0.2757505849868378.\n"
     ]
    },
    {
     "name": "stdout",
     "output_type": "stream",
     "text": [
      "RP3betaRecommender: Similarity column 38121 (100.0%), 1921.48 column/sec. Elapsed time 19.84 sec\n",
      "EvaluatorHoldout: Processed 35595 (100.0%) in 36.40 sec. Users per second: 978\n"
     ]
    },
    {
     "name": "stderr",
     "output_type": "stream",
     "text": [
      "[I 2024-12-17 09:45:54,152] Trial 414 finished with value: 0.27367648435904685 and parameters: {'topK': 41, 'alpha': 0.4169224367853347, 'beta': 0.22346178152903765, 'normalize_similarity': True, 'implicit': True}. Best is trial 191 with value: 0.2757505849868378.\n"
     ]
    },
    {
     "name": "stdout",
     "output_type": "stream",
     "text": [
      "RP3betaRecommender: Similarity column 38121 (100.0%), 1617.76 column/sec. Elapsed time 23.56 sec\n",
      "EvaluatorHoldout: Processed 35595 (100.0%) in 39.66 sec. Users per second: 898\n"
     ]
    },
    {
     "name": "stderr",
     "output_type": "stream",
     "text": [
      "[I 2024-12-17 09:47:02,736] Trial 415 finished with value: 0.2724650484077507 and parameters: {'topK': 115, 'alpha': 0.32411639592020397, 'beta': 0.3223993921756877, 'normalize_similarity': True, 'implicit': True}. Best is trial 191 with value: 0.2757505849868378.\n"
     ]
    },
    {
     "name": "stdout",
     "output_type": "stream",
     "text": [
      "RP3betaRecommender: Similarity column 38121 (100.0%), 1805.89 column/sec. Elapsed time 21.11 sec\n",
      "EvaluatorHoldout: Processed 35595 (100.0%) in 38.24 sec. Users per second: 931\n"
     ]
    },
    {
     "name": "stderr",
     "output_type": "stream",
     "text": [
      "[I 2024-12-17 09:48:05,824] Trial 416 finished with value: 0.274380904314105 and parameters: {'topK': 77, 'alpha': 0.4941498245338447, 'beta': 0.22579300668490068, 'normalize_similarity': True, 'implicit': False}. Best is trial 191 with value: 0.2757505849868378.\n"
     ]
    },
    {
     "name": "stdout",
     "output_type": "stream",
     "text": [
      "RP3betaRecommender: Similarity column 38121 (100.0%), 2069.69 column/sec. Elapsed time 18.42 sec\n",
      "EvaluatorHoldout: Processed 35595 (100.0%) in 35.15 sec. Users per second: 1013\n"
     ]
    },
    {
     "name": "stderr",
     "output_type": "stream",
     "text": [
      "[I 2024-12-17 09:49:01,020] Trial 417 finished with value: 0.26750877582125054 and parameters: {'topK': 26, 'alpha': 0.22647890587371933, 'beta': 0.12346436568895833, 'normalize_similarity': True, 'implicit': True}. Best is trial 191 with value: 0.2757505849868378.\n"
     ]
    },
    {
     "name": "stdout",
     "output_type": "stream",
     "text": [
      "RP3betaRecommender: Similarity column 38121 (100.0%), 1573.28 column/sec. Elapsed time 24.23 sec\n",
      "EvaluatorHoldout: Processed 35595 (100.0%) in 42.09 sec. Users per second: 846\n"
     ]
    },
    {
     "name": "stderr",
     "output_type": "stream",
     "text": [
      "[I 2024-12-17 09:50:14,207] Trial 418 finished with value: 0.2663136419365181 and parameters: {'topK': 135, 'alpha': 0.38366598692547166, 'beta': 0.4668617118950054, 'normalize_similarity': True, 'implicit': True}. Best is trial 191 with value: 0.2757505849868378.\n"
     ]
    },
    {
     "name": "stdout",
     "output_type": "stream",
     "text": [
      "RP3betaRecommender: Similarity column 38121 (100.0%), 629.21 column/sec. Elapsed time 1.01 min\n",
      "EvaluatorHoldout: Processed 35595 (100.0%) in 53.30 sec. Users per second: 668\n"
     ]
    },
    {
     "name": "stderr",
     "output_type": "stream",
     "text": [
      "[I 2024-12-17 09:52:41,667] Trial 419 finished with value: 0.2458275512446905 and parameters: {'topK': 815, 'alpha': 0.30117351965976513, 'beta': 0.16291856795378454, 'normalize_similarity': True, 'implicit': True}. Best is trial 191 with value: 0.2757505849868378.\n"
     ]
    },
    {
     "name": "stdout",
     "output_type": "stream",
     "text": [
      "RP3betaRecommender: Similarity column 38121 (100.0%), 1777.69 column/sec. Elapsed time 21.44 sec\n",
      "EvaluatorHoldout: Processed 35595 (100.0%) in 38.78 sec. Users per second: 918\n"
     ]
    },
    {
     "name": "stderr",
     "output_type": "stream",
     "text": [
      "[I 2024-12-17 09:53:45,962] Trial 420 finished with value: 0.27180179731235304 and parameters: {'topK': 88, 'alpha': 0.1639046675015552, 'beta': 0.28408680699248534, 'normalize_similarity': True, 'implicit': True}. Best is trial 191 with value: 0.2757505849868378.\n"
     ]
    },
    {
     "name": "stdout",
     "output_type": "stream",
     "text": [
      "RP3betaRecommender: Similarity column 38121 (100.0%), 1894.28 column/sec. Elapsed time 20.12 sec\n",
      "EvaluatorHoldout: Processed 35595 (100.0%) in 38.03 sec. Users per second: 936\n"
     ]
    },
    {
     "name": "stderr",
     "output_type": "stream",
     "text": [
      "[I 2024-12-17 09:54:47,194] Trial 421 finished with value: 0.24519995665464453 and parameters: {'topK': 56, 'alpha': 0.44474787455994347, 'beta': 0.6740109061941132, 'normalize_similarity': True, 'implicit': True}. Best is trial 191 with value: 0.2757505849868378.\n"
     ]
    },
    {
     "name": "stdout",
     "output_type": "stream",
     "text": [
      "RP3betaRecommender: Similarity column 38121 (100.0%), 1725.85 column/sec. Elapsed time 22.09 sec\n",
      "EvaluatorHoldout: Processed 35595 (100.0%) in 40.15 sec. Users per second: 886\n"
     ]
    },
    {
     "name": "stderr",
     "output_type": "stream",
     "text": [
      "[I 2024-12-17 09:55:54,371] Trial 422 finished with value: 0.27233596834274865 and parameters: {'topK': 98, 'alpha': 0.34938037648654213, 'beta': 0.3716834742988713, 'normalize_similarity': True, 'implicit': True}. Best is trial 191 with value: 0.2757505849868378.\n"
     ]
    },
    {
     "name": "stdout",
     "output_type": "stream",
     "text": [
      "RP3betaRecommender: Similarity column 38121 (100.0%), 2130.13 column/sec. Elapsed time 17.90 sec\n",
      "EvaluatorHoldout: Processed 35595 (100.0%) in 34.46 sec. Users per second: 1033\n"
     ]
    },
    {
     "name": "stderr",
     "output_type": "stream",
     "text": [
      "[I 2024-12-17 09:56:48,025] Trial 423 finished with value: 0.2548300278532391 and parameters: {'topK': 13, 'alpha': 0.2547169468127893, 'beta': 0.22429637796080917, 'normalize_similarity': False, 'implicit': True}. Best is trial 191 with value: 0.2757505849868378.\n"
     ]
    },
    {
     "name": "stdout",
     "output_type": "stream",
     "text": [
      "RP3betaRecommender: Similarity column 38121 (100.0%), 1892.42 column/sec. Elapsed time 20.14 sec\n",
      "EvaluatorHoldout: Processed 35595 (100.0%) in 37.91 sec. Users per second: 939\n"
     ]
    },
    {
     "name": "stderr",
     "output_type": "stream",
     "text": [
      "[I 2024-12-17 09:57:49,505] Trial 424 finished with value: 0.2744326790476704 and parameters: {'topK': 65, 'alpha': 0.5025766719553971, 'beta': 0.2940550305612474, 'normalize_similarity': True, 'implicit': False}. Best is trial 191 with value: 0.2757505849868378.\n"
     ]
    },
    {
     "name": "stdout",
     "output_type": "stream",
     "text": [
      "RP3betaRecommender: Similarity column 38121 (100.0%), 1605.69 column/sec. Elapsed time 23.74 sec\n",
      "EvaluatorHoldout: Processed 35595 (100.0%) in 35.41 sec. Users per second: 1005\n"
     ]
    },
    {
     "name": "stderr",
     "output_type": "stream",
     "text": [
      "[I 2024-12-17 09:58:53,894] Trial 425 finished with value: 0.2700756051573394 and parameters: {'topK': 132, 'alpha': 0.40364302478588376, 'beta': 0.07778794890172919, 'normalize_similarity': True, 'implicit': True}. Best is trial 191 with value: 0.2757505849868378.\n"
     ]
    },
    {
     "name": "stdout",
     "output_type": "stream",
     "text": [
      "RP3betaRecommender: Similarity column 38121 (100.0%), 674.28 column/sec. Elapsed time 56.54 sec\n",
      "EvaluatorHoldout: Processed 35595 (100.0%) in 53.61 sec. Users per second: 664\n"
     ]
    },
    {
     "name": "stderr",
     "output_type": "stream",
     "text": [
      "[I 2024-12-17 10:01:13,688] Trial 426 finished with value: 0.2406923604088575 and parameters: {'topK': 725, 'alpha': 1.6195783085107818, 'beta': 0.16205181995777426, 'normalize_similarity': True, 'implicit': True}. Best is trial 191 with value: 0.2757505849868378.\n"
     ]
    },
    {
     "name": "stdout",
     "output_type": "stream",
     "text": [
      "RP3betaRecommender: Similarity column 38121 (100.0%), 2026.94 column/sec. Elapsed time 18.81 sec\n",
      "EvaluatorHoldout: Processed 35595 (100.0%) in 36.22 sec. Users per second: 983\n"
     ]
    },
    {
     "name": "stderr",
     "output_type": "stream",
     "text": [
      "[I 2024-12-17 10:02:11,046] Trial 427 finished with value: 0.27369127065958043 and parameters: {'topK': 42, 'alpha': 0.3059807301680093, 'beta': 0.24431435196897391, 'normalize_similarity': True, 'implicit': True}. Best is trial 191 with value: 0.2757505849868378.\n"
     ]
    },
    {
     "name": "stdout",
     "output_type": "stream",
     "text": [
      "RP3betaRecommender: Similarity column 38121 (100.0%), 1731.56 column/sec. Elapsed time 22.02 sec\n",
      "EvaluatorHoldout: Processed 35595 (100.0%) in 39.57 sec. Users per second: 899\n"
     ]
    },
    {
     "name": "stderr",
     "output_type": "stream",
     "text": [
      "[I 2024-12-17 10:03:17,509] Trial 428 finished with value: 0.2734525519982306 and parameters: {'topK': 99, 'alpha': 0.44519001582165324, 'beta': 0.3395980469611735, 'normalize_similarity': True, 'implicit': True}. Best is trial 191 with value: 0.2757505849868378.\n"
     ]
    },
    {
     "name": "stdout",
     "output_type": "stream",
     "text": [
      "RP3betaRecommender: Similarity column 38121 (100.0%), 1465.42 column/sec. Elapsed time 26.01 sec\n",
      "EvaluatorHoldout: Processed 35595 (100.0%) in 40.75 sec. Users per second: 874\n"
     ]
    },
    {
     "name": "stderr",
     "output_type": "stream",
     "text": [
      "[I 2024-12-17 10:04:31,459] Trial 429 finished with value: 0.26756102136585547 and parameters: {'topK': 172, 'alpha': 0.2020950372827673, 'beta': 0.1965725055431855, 'normalize_similarity': True, 'implicit': True}. Best is trial 191 with value: 0.2757505849868378.\n"
     ]
    },
    {
     "name": "stdout",
     "output_type": "stream",
     "text": [
      "RP3betaRecommender: Similarity column 38121 (100.0%), 504.59 column/sec. Elapsed time 1.26 min\n",
      "EvaluatorHoldout: Processed 35595 (100.0%) in 1.00 min. Users per second: 591\n"
     ]
    },
    {
     "name": "stderr",
     "output_type": "stream",
     "text": [
      "[I 2024-12-17 10:07:35,464] Trial 430 finished with value: 0.2564197290354463 and parameters: {'topK': 1154, 'alpha': 0.3719911925995506, 'beta': 0.41985251008922153, 'normalize_similarity': True, 'implicit': True}. Best is trial 191 with value: 0.2757505849868378.\n"
     ]
    },
    {
     "name": "stdout",
     "output_type": "stream",
     "text": [
      "RP3betaRecommender: Similarity column 38121 (100.0%), 1865.30 column/sec. Elapsed time 20.44 sec\n",
      "EvaluatorHoldout: Processed 35595 (100.0%) in 37.84 sec. Users per second: 941\n"
     ]
    },
    {
     "name": "stderr",
     "output_type": "stream",
     "text": [
      "[I 2024-12-17 10:08:37,375] Trial 431 finished with value: 0.275418315306985 and parameters: {'topK': 74, 'alpha': 0.29416126715021573, 'beta': 0.2776912077346583, 'normalize_similarity': True, 'implicit': True}. Best is trial 191 with value: 0.2757505849868378.\n"
     ]
    },
    {
     "name": "stdout",
     "output_type": "stream",
     "text": [
      "RP3betaRecommender: Similarity column 38121 (100.0%), 1667.79 column/sec. Elapsed time 22.86 sec\n",
      "EvaluatorHoldout: Processed 35595 (100.0%) in 40.29 sec. Users per second: 883\n"
     ]
    },
    {
     "name": "stderr",
     "output_type": "stream",
     "text": [
      "[I 2024-12-17 10:09:45,672] Trial 432 finished with value: 0.26744494099148974 and parameters: {'topK': 115, 'alpha': 0.0957723674756617, 'beta': 0.32134698778993626, 'normalize_similarity': True, 'implicit': True}. Best is trial 191 with value: 0.2757505849868378.\n"
     ]
    },
    {
     "name": "stdout",
     "output_type": "stream",
     "text": [
      "RP3betaRecommender: Similarity column 38121 (100.0%), 2855.56 column/sec. Elapsed time 13.35 sec\n",
      "EvaluatorHoldout: Processed 35595 (100.0%) in 30.42 sec. Users per second: 1170\n"
     ]
    },
    {
     "name": "stderr",
     "output_type": "stream",
     "text": [
      "[I 2024-12-17 10:10:30,351] Trial 433 finished with value: 0.09297717148335051 and parameters: {'topK': 1, 'alpha': 0.539012615476262, 'beta': 0.3734995945956071, 'normalize_similarity': True, 'implicit': True}. Best is trial 191 with value: 0.2757505849868378.\n"
     ]
    },
    {
     "name": "stdout",
     "output_type": "stream",
     "text": [
      "RP3betaRecommender: Similarity column 38121 (100.0%), 1808.18 column/sec. Elapsed time 21.08 sec\n",
      "EvaluatorHoldout: Processed 35595 (100.0%) in 38.99 sec. Users per second: 913\n"
     ]
    },
    {
     "name": "stderr",
     "output_type": "stream",
     "text": [
      "[I 2024-12-17 10:11:34,364] Trial 434 finished with value: 0.2754676291446113 and parameters: {'topK': 75, 'alpha': 0.34338706983349165, 'beta': 0.2726362639261968, 'normalize_similarity': True, 'implicit': True}. Best is trial 191 with value: 0.2757505849868378.\n"
     ]
    },
    {
     "name": "stdout",
     "output_type": "stream",
     "text": [
      "RP3betaRecommender: Similarity column 38121 (100.0%), 584.64 column/sec. Elapsed time 1.09 min\n",
      "EvaluatorHoldout: Processed 35595 (100.0%) in 57.45 sec. Users per second: 620\n"
     ]
    },
    {
     "name": "stderr",
     "output_type": "stream",
     "text": [
      "[I 2024-12-17 10:14:14,281] Trial 435 finished with value: 0.24620632253783936 and parameters: {'topK': 910, 'alpha': 1.4344120242473197, 'beta': 0.27704993632689123, 'normalize_similarity': True, 'implicit': True}. Best is trial 191 with value: 0.2757505849868378.\n"
     ]
    },
    {
     "name": "stdout",
     "output_type": "stream",
     "text": [
      "RP3betaRecommender: Similarity column 38121 (100.0%), 1814.10 column/sec. Elapsed time 21.01 sec\n",
      "EvaluatorHoldout: Processed 35595 (100.0%) in 39.05 sec. Users per second: 912\n"
     ]
    },
    {
     "name": "stderr",
     "output_type": "stream",
     "text": [
      "[I 2024-12-17 10:15:18,071] Trial 436 finished with value: 0.2733049544108649 and parameters: {'topK': 85, 'alpha': 0.2463324588346018, 'beta': 0.150960947255285, 'normalize_similarity': True, 'implicit': True}. Best is trial 191 with value: 0.2757505849868378.\n"
     ]
    },
    {
     "name": "stdout",
     "output_type": "stream",
     "text": [
      "RP3betaRecommender: Similarity column 38121 (100.0%), 1526.25 column/sec. Elapsed time 24.98 sec\n",
      "EvaluatorHoldout: Processed 35595 (100.0%) in 41.12 sec. Users per second: 866\n"
     ]
    },
    {
     "name": "stderr",
     "output_type": "stream",
     "text": [
      "[I 2024-12-17 10:16:30,754] Trial 437 finished with value: 0.2713445740217888 and parameters: {'topK': 150, 'alpha': 0.3354395730868369, 'beta': 0.24614276372250132, 'normalize_similarity': True, 'implicit': True}. Best is trial 191 with value: 0.2757505849868378.\n"
     ]
    },
    {
     "name": "stdout",
     "output_type": "stream",
     "text": [
      "RP3betaRecommender: Similarity column 38121 (100.0%), 1979.36 column/sec. Elapsed time 19.26 sec\n",
      "EvaluatorHoldout: Processed 35595 (100.0%) in 35.04 sec. Users per second: 1016\n"
     ]
    },
    {
     "name": "stderr",
     "output_type": "stream",
     "text": [
      "[I 2024-12-17 10:17:26,743] Trial 438 finished with value: 0.07217845102707368 and parameters: {'topK': 44, 'alpha': 0.45394466418890433, 'beta': 2.4660078758425388, 'normalize_similarity': True, 'implicit': True}. Best is trial 191 with value: 0.2757505849868378.\n"
     ]
    },
    {
     "name": "stdout",
     "output_type": "stream",
     "text": [
      "RP3betaRecommender: Similarity column 38121 (100.0%), 1671.36 column/sec. Elapsed time 22.81 sec\n",
      "EvaluatorHoldout: Processed 35595 (100.0%) in 39.48 sec. Users per second: 902\n"
     ]
    },
    {
     "name": "stderr",
     "output_type": "stream",
     "text": [
      "[I 2024-12-17 10:18:34,370] Trial 439 finished with value: 0.2732645936009291 and parameters: {'topK': 114, 'alpha': 0.38336228523624766, 'beta': 0.28651989034067005, 'normalize_similarity': True, 'implicit': True}. Best is trial 191 with value: 0.2757505849868378.\n"
     ]
    },
    {
     "name": "stdout",
     "output_type": "stream",
     "text": [
      "RP3betaRecommender: Similarity column 38121 (100.0%), 1843.70 column/sec. Elapsed time 20.68 sec\n",
      "EvaluatorHoldout: Processed 35595 (100.0%) in 37.38 sec. Users per second: 952\n"
     ]
    },
    {
     "name": "stderr",
     "output_type": "stream",
     "text": [
      "[I 2024-12-17 10:19:35,780] Trial 440 finished with value: 0.2746858725207749 and parameters: {'topK': 73, 'alpha': 0.3030998038316913, 'beta': 0.1869182090689933, 'normalize_similarity': True, 'implicit': True}. Best is trial 191 with value: 0.2757505849868378.\n"
     ]
    },
    {
     "name": "stdout",
     "output_type": "stream",
     "text": [
      "RP3betaRecommender: Similarity column 38121 (100.0%), 1388.43 column/sec. Elapsed time 27.46 sec\n",
      "EvaluatorHoldout: Processed 35595 (100.0%) in 35.01 sec. Users per second: 1017\n"
     ]
    },
    {
     "name": "stderr",
     "output_type": "stream",
     "text": [
      "[I 2024-12-17 10:20:44,768] Trial 441 finished with value: 0.10983038718188752 and parameters: {'topK': 191, 'alpha': 0.194076205655079, 'beta': 1.4889090612534734, 'normalize_similarity': True, 'implicit': True}. Best is trial 191 with value: 0.2757505849868378.\n"
     ]
    },
    {
     "name": "stdout",
     "output_type": "stream",
     "text": [
      "RP3betaRecommender: Similarity column 38121 (100.0%), 1989.57 column/sec. Elapsed time 19.16 sec\n",
      "EvaluatorHoldout: Processed 35595 (100.0%) in 36.35 sec. Users per second: 979\n"
     ]
    },
    {
     "name": "stderr",
     "output_type": "stream",
     "text": [
      "[I 2024-12-17 10:21:42,507] Trial 442 finished with value: 0.27183714035801504 and parameters: {'topK': 43, 'alpha': 0.426736261000019, 'beta': 0.11523468897522518, 'normalize_similarity': True, 'implicit': True}. Best is trial 191 with value: 0.2757505849868378.\n"
     ]
    },
    {
     "name": "stdout",
     "output_type": "stream",
     "text": [
      "RP3betaRecommender: Similarity column 38121 (100.0%), 1768.66 column/sec. Elapsed time 21.55 sec\n",
      "EvaluatorHoldout: Processed 35595 (100.0%) in 39.06 sec. Users per second: 911\n"
     ]
    },
    {
     "name": "stderr",
     "output_type": "stream",
     "text": [
      "[I 2024-12-17 10:22:47,444] Trial 443 finished with value: 0.26033785322887343 and parameters: {'topK': 89, 'alpha': 0.600624022485378, 'beta': 0.2619641355310047, 'normalize_similarity': False, 'implicit': True}. Best is trial 191 with value: 0.2757505849868378.\n"
     ]
    },
    {
     "name": "stdout",
     "output_type": "stream",
     "text": [
      "RP3betaRecommender: Similarity column 38121 (100.0%), 1571.36 column/sec. Elapsed time 24.26 sec\n",
      "EvaluatorHoldout: Processed 35595 (100.0%) in 40.75 sec. Users per second: 874\n"
     ]
    },
    {
     "name": "stderr",
     "output_type": "stream",
     "text": [
      "[I 2024-12-17 10:23:58,792] Trial 444 finished with value: 0.270417898530914 and parameters: {'topK': 138, 'alpha': 0.2640101076727267, 'beta': 0.32517217898533435, 'normalize_similarity': True, 'implicit': True}. Best is trial 191 with value: 0.2757505849868378.\n"
     ]
    },
    {
     "name": "stdout",
     "output_type": "stream",
     "text": [
      "RP3betaRecommender: Similarity column 38121 (100.0%), 2012.93 column/sec. Elapsed time 18.94 sec\n",
      "EvaluatorHoldout: Processed 35595 (100.0%) in 35.90 sec. Users per second: 991\n"
     ]
    },
    {
     "name": "stderr",
     "output_type": "stream",
     "text": [
      "[I 2024-12-17 10:24:55,687] Trial 445 finished with value: 0.2718243323171108 and parameters: {'topK': 33, 'alpha': 0.3460084099439585, 'beta': 0.20501724239147417, 'normalize_similarity': True, 'implicit': True}. Best is trial 191 with value: 0.2757505849868378.\n"
     ]
    },
    {
     "name": "stdout",
     "output_type": "stream",
     "text": [
      "RP3betaRecommender: Similarity column 38121 (100.0%), 1835.93 column/sec. Elapsed time 20.76 sec\n",
      "EvaluatorHoldout: Processed 35595 (100.0%) in 39.27 sec. Users per second: 906\n"
     ]
    },
    {
     "name": "stderr",
     "output_type": "stream",
     "text": [
      "[I 2024-12-17 10:25:59,555] Trial 446 finished with value: 0.26991038067409345 and parameters: {'topK': 67, 'alpha': 0.5212114431581677, 'beta': 0.4459441013073381, 'normalize_similarity': True, 'implicit': True}. Best is trial 191 with value: 0.2757505849868378.\n"
     ]
    },
    {
     "name": "stdout",
     "output_type": "stream",
     "text": [
      "RP3betaRecommender: Similarity column 38121 (100.0%), 1661.88 column/sec. Elapsed time 22.94 sec\n",
      "EvaluatorHoldout: Processed 35595 (100.0%) in 40.43 sec. Users per second: 880\n"
     ]
    },
    {
     "name": "stderr",
     "output_type": "stream",
     "text": [
      "[I 2024-12-17 10:27:08,387] Trial 447 finished with value: 0.2719292945889143 and parameters: {'topK': 111, 'alpha': 0.4017069307720334, 'beta': 0.3719931466506639, 'normalize_similarity': True, 'implicit': True}. Best is trial 191 with value: 0.2757505849868378.\n"
     ]
    },
    {
     "name": "stdout",
     "output_type": "stream",
     "text": [
      "RP3betaRecommender: Similarity column 38121 (100.0%), 2798.71 column/sec. Elapsed time 13.62 sec\n",
      "EvaluatorHoldout: Processed 35595 (100.0%) in 27.99 sec. Users per second: 1272\n"
     ]
    },
    {
     "name": "stderr",
     "output_type": "stream",
     "text": [
      "[I 2024-12-17 10:27:50,360] Trial 448 finished with value: 0.005972113065949917 and parameters: {'topK': 0, 'alpha': 0.4821880341552038, 'beta': 0.24960572399865577, 'normalize_similarity': True, 'implicit': True}. Best is trial 191 with value: 0.2757505849868378.\n"
     ]
    },
    {
     "name": "stdout",
     "output_type": "stream",
     "text": [
      "RP3betaRecommender: Similarity column 38121 (100.0%), 1763.40 column/sec. Elapsed time 21.62 sec\n",
      "EvaluatorHoldout: Processed 35595 (100.0%) in 37.57 sec. Users per second: 948\n"
     ]
    },
    {
     "name": "stderr",
     "output_type": "stream",
     "text": [
      "[I 2024-12-17 10:28:53,057] Trial 449 finished with value: 0.27118951240313427 and parameters: {'topK': 85, 'alpha': 0.31424600656750906, 'beta': 0.057938653336884055, 'normalize_similarity': True, 'implicit': True}. Best is trial 191 with value: 0.2757505849868378.\n"
     ]
    },
    {
     "name": "stdout",
     "output_type": "stream",
     "text": [
      "RP3betaRecommender: Similarity column 38121 (100.0%), 1939.94 column/sec. Elapsed time 19.65 sec\n",
      "EvaluatorHoldout: Processed 35595 (100.0%) in 36.81 sec. Users per second: 967\n"
     ]
    },
    {
     "name": "stderr",
     "output_type": "stream",
     "text": [
      "[I 2024-12-17 10:29:51,996] Trial 450 finished with value: 0.27307820419920975 and parameters: {'topK': 48, 'alpha': 0.25059423532808844, 'beta': 0.15252976393956497, 'normalize_similarity': True, 'implicit': True}. Best is trial 191 with value: 0.2757505849868378.\n"
     ]
    },
    {
     "name": "stdout",
     "output_type": "stream",
     "text": [
      "RP3betaRecommender: Similarity column 38121 (100.0%), 1560.71 column/sec. Elapsed time 24.43 sec\n",
      "EvaluatorHoldout: Processed 35595 (100.0%) in 40.16 sec. Users per second: 886\n"
     ]
    },
    {
     "name": "stderr",
     "output_type": "stream",
     "text": [
      "[I 2024-12-17 10:31:02,458] Trial 451 finished with value: 0.2726414574989559 and parameters: {'topK': 124, 'alpha': 0.3638680313719817, 'beta': 0.3006997865936358, 'normalize_similarity': True, 'implicit': True}. Best is trial 191 with value: 0.2757505849868378.\n"
     ]
    },
    {
     "name": "stdout",
     "output_type": "stream",
     "text": [
      "RP3betaRecommender: Similarity column 38121 (100.0%), 1795.18 column/sec. Elapsed time 21.24 sec\n",
      "EvaluatorHoldout: Processed 35595 (100.0%) in 38.35 sec. Users per second: 928\n"
     ]
    },
    {
     "name": "stderr",
     "output_type": "stream",
     "text": [
      "[I 2024-12-17 10:32:05,780] Trial 452 finished with value: 0.2747362807156355 and parameters: {'topK': 78, 'alpha': 0.4408075141668909, 'beta': 0.21193776386159996, 'normalize_similarity': True, 'implicit': True}. Best is trial 191 with value: 0.2757505849868378.\n"
     ]
    },
    {
     "name": "stdout",
     "output_type": "stream",
     "text": [
      "RP3betaRecommender: Similarity column 38121 (100.0%), 2012.01 column/sec. Elapsed time 18.95 sec\n",
      "EvaluatorHoldout: Processed 35595 (100.0%) in 35.60 sec. Users per second: 1000\n"
     ]
    },
    {
     "name": "stderr",
     "output_type": "stream",
     "text": [
      "[I 2024-12-17 10:33:02,167] Trial 453 finished with value: 0.27040367686345607 and parameters: {'topK': 33, 'alpha': 0.29701329274553623, 'beta': 0.1281205669848372, 'normalize_similarity': True, 'implicit': True}. Best is trial 191 with value: 0.2757505849868378.\n"
     ]
    },
    {
     "name": "stdout",
     "output_type": "stream",
     "text": [
      "RP3betaRecommender: Similarity column 38121 (100.0%), 1708.98 column/sec. Elapsed time 22.31 sec\n",
      "EvaluatorHoldout: Processed 35595 (100.0%) in 39.24 sec. Users per second: 907\n"
     ]
    },
    {
     "name": "stderr",
     "output_type": "stream",
     "text": [
      "[I 2024-12-17 10:34:08,436] Trial 454 finished with value: 0.2695764933448494 and parameters: {'topK': 101, 'alpha': 0.15071113583686885, 'beta': 0.34039987717646625, 'normalize_similarity': True, 'implicit': True}. Best is trial 191 with value: 0.2757505849868378.\n"
     ]
    },
    {
     "name": "stdout",
     "output_type": "stream",
     "text": [
      "RP3betaRecommender: Similarity column 38121 (100.0%), 1557.81 column/sec. Elapsed time 24.47 sec\n",
      "EvaluatorHoldout: Processed 35595 (100.0%) in 40.71 sec. Users per second: 874\n"
     ]
    },
    {
     "name": "stderr",
     "output_type": "stream",
     "text": [
      "[I 2024-12-17 10:35:20,135] Trial 455 finished with value: 0.27205813620644276 and parameters: {'topK': 147, 'alpha': 0.39376765968696287, 'beta': 0.25414790070340815, 'normalize_similarity': True, 'implicit': True}. Best is trial 191 with value: 0.2757505849868378.\n"
     ]
    },
    {
     "name": "stdout",
     "output_type": "stream",
     "text": [
      "RP3betaRecommender: Similarity column 38121 (100.0%), 1896.34 column/sec. Elapsed time 20.10 sec\n",
      "EvaluatorHoldout: Processed 35595 (100.0%) in 37.46 sec. Users per second: 950\n"
     ]
    },
    {
     "name": "stderr",
     "output_type": "stream",
     "text": [
      "[I 2024-12-17 10:36:20,738] Trial 456 finished with value: 0.27411157044746765 and parameters: {'topK': 61, 'alpha': 0.4884997380517193, 'beta': 0.19418620636553688, 'normalize_similarity': True, 'implicit': True}. Best is trial 191 with value: 0.2757505849868378.\n"
     ]
    },
    {
     "name": "stdout",
     "output_type": "stream",
     "text": [
      "RP3betaRecommender: Similarity column 38121 (100.0%), 2048.48 column/sec. Elapsed time 18.61 sec\n",
      "EvaluatorHoldout: Processed 35595 (100.0%) in 36.98 sec. Users per second: 963\n"
     ]
    },
    {
     "name": "stderr",
     "output_type": "stream",
     "text": [
      "[I 2024-12-17 10:37:18,259] Trial 457 finished with value: 0.26789705341720543 and parameters: {'topK': 25, 'alpha': 0.22657708460881598, 'beta': 0.3892261604687063, 'normalize_similarity': True, 'implicit': True}. Best is trial 191 with value: 0.2757505849868378.\n"
     ]
    },
    {
     "name": "stdout",
     "output_type": "stream",
     "text": [
      "RP3betaRecommender: Similarity column 38121 (100.0%), 1700.83 column/sec. Elapsed time 22.41 sec\n",
      "EvaluatorHoldout: Processed 35595 (100.0%) in 39.40 sec. Users per second: 903\n"
     ]
    },
    {
     "name": "stderr",
     "output_type": "stream",
     "text": [
      "[I 2024-12-17 10:38:24,709] Trial 458 finished with value: 0.27456819118929154 and parameters: {'topK': 93, 'alpha': 0.33540880160172526, 'beta': 0.28747742066709037, 'normalize_similarity': True, 'implicit': True}. Best is trial 191 with value: 0.2757505849868378.\n"
     ]
    },
    {
     "name": "stdout",
     "output_type": "stream",
     "text": [
      "RP3betaRecommender: Similarity column 38121 (100.0%), 1887.07 column/sec. Elapsed time 20.20 sec\n",
      "EvaluatorHoldout: Processed 35595 (100.0%) in 36.81 sec. Users per second: 967\n"
     ]
    },
    {
     "name": "stderr",
     "output_type": "stream",
     "text": [
      "[I 2024-12-17 10:39:24,022] Trial 459 finished with value: 0.09078524435774735 and parameters: {'topK': 61, 'alpha': 0.4062251326196474, 'beta': 1.9584721327724688, 'normalize_similarity': True, 'implicit': True}. Best is trial 191 with value: 0.2757505849868378.\n"
     ]
    },
    {
     "name": "stdout",
     "output_type": "stream",
     "text": [
      "RP3betaRecommender: Similarity column 38121 (100.0%), 1656.32 column/sec. Elapsed time 23.02 sec\n",
      "EvaluatorHoldout: Processed 35595 (100.0%) in 38.77 sec. Users per second: 918\n"
     ]
    },
    {
     "name": "stderr",
     "output_type": "stream",
     "text": [
      "[I 2024-12-17 10:40:29,630] Trial 460 finished with value: 0.093381816953088 and parameters: {'topK': 119, 'alpha': 0.28595475922827596, 'beta': 1.8450710749349533, 'normalize_similarity': True, 'implicit': True}. Best is trial 191 with value: 0.2757505849868378.\n"
     ]
    },
    {
     "name": "stdout",
     "output_type": "stream",
     "text": [
      "RP3betaRecommender: Similarity column 38121 (100.0%), 1502.44 column/sec. Elapsed time 25.37 sec\n",
      "EvaluatorHoldout: Processed 35595 (100.0%) in 40.49 sec. Users per second: 879\n"
     ]
    },
    {
     "name": "stderr",
     "output_type": "stream",
     "text": [
      "[I 2024-12-17 10:41:41,890] Trial 461 finished with value: 0.26777010504848736 and parameters: {'topK': 165, 'alpha': 0.3595741122348471, 'beta': 0.07877900523575074, 'normalize_similarity': True, 'implicit': True}. Best is trial 191 with value: 0.2757505849868378.\n"
     ]
    },
    {
     "name": "stdout",
     "output_type": "stream",
     "text": [
      "RP3betaRecommender: Similarity column 38121 (100.0%), 2045.31 column/sec. Elapsed time 18.64 sec\n",
      "EvaluatorHoldout: Processed 35595 (100.0%) in 35.33 sec. Users per second: 1007\n"
     ]
    },
    {
     "name": "stderr",
     "output_type": "stream",
     "text": [
      "[I 2024-12-17 10:42:37,658] Trial 462 finished with value: 0.26359151214830695 and parameters: {'topK': 25, 'alpha': 0.4678119380633914, 'beta': 0.23491917418389968, 'normalize_similarity': False, 'implicit': True}. Best is trial 191 with value: 0.2757505849868378.\n"
     ]
    },
    {
     "name": "stdout",
     "output_type": "stream",
     "text": [
      "RP3betaRecommender: Similarity column 38121 (100.0%), 1811.05 column/sec. Elapsed time 21.05 sec\n",
      "EvaluatorHoldout: Processed 35595 (100.0%) in 38.48 sec. Users per second: 925\n"
     ]
    },
    {
     "name": "stderr",
     "output_type": "stream",
     "text": [
      "[I 2024-12-17 10:43:40,692] Trial 463 finished with value: 0.2732178687132153 and parameters: {'topK': 76, 'alpha': 0.54046261799537, 'beta': 0.15603270138927444, 'normalize_similarity': True, 'implicit': True}. Best is trial 191 with value: 0.2757505849868378.\n"
     ]
    },
    {
     "name": "stdout",
     "output_type": "stream",
     "text": [
      "RP3betaRecommender: Similarity column 38121 (100.0%), 1901.47 column/sec. Elapsed time 20.05 sec\n",
      "EvaluatorHoldout: Processed 35595 (100.0%) in 37.40 sec. Users per second: 952\n"
     ]
    },
    {
     "name": "stderr",
     "output_type": "stream",
     "text": [
      "[I 2024-12-17 10:44:41,151] Trial 464 finished with value: 0.25807911252228394 and parameters: {'topK': 51, 'alpha': 1.1147087084366207, 'beta': 0.30196871369590167, 'normalize_similarity': True, 'implicit': True}. Best is trial 191 with value: 0.2757505849868378.\n"
     ]
    },
    {
     "name": "stdout",
     "output_type": "stream",
     "text": [
      "RP3betaRecommender: Similarity column 38121 (100.0%), 547.56 column/sec. Elapsed time 1.16 min\n",
      "EvaluatorHoldout: Processed 35595 (100.0%) in 56.38 sec. Users per second: 631\n"
     ]
    },
    {
     "name": "stderr",
     "output_type": "stream",
     "text": [
      "[I 2024-12-17 10:47:29,193] Trial 465 finished with value: 0.24008981071796015 and parameters: {'topK': 1024, 'alpha': 0.18808118201144755, 'beta': 0.18227697201829887, 'normalize_similarity': True, 'implicit': True}. Best is trial 191 with value: 0.2757505849868378.\n"
     ]
    },
    {
     "name": "stdout",
     "output_type": "stream",
     "text": [
      "RP3betaRecommender: Similarity column 38121 (100.0%), 1759.46 column/sec. Elapsed time 21.67 sec\n",
      "EvaluatorHoldout: Processed 35595 (100.0%) in 39.70 sec. Users per second: 897\n"
     ]
    },
    {
     "name": "stderr",
     "output_type": "stream",
     "text": [
      "[I 2024-12-17 10:48:35,495] Trial 466 finished with value: 0.2735738135528402 and parameters: {'topK': 99, 'alpha': 0.42828843422670737, 'beta': 0.3403237884791469, 'normalize_similarity': True, 'implicit': True}. Best is trial 191 with value: 0.2757505849868378.\n"
     ]
    },
    {
     "name": "stdout",
     "output_type": "stream",
     "text": [
      "RP3betaRecommender: Similarity column 38121 (100.0%), 1653.78 column/sec. Elapsed time 23.05 sec\n",
      "EvaluatorHoldout: Processed 35595 (100.0%) in 39.66 sec. Users per second: 898\n"
     ]
    },
    {
     "name": "stderr",
     "output_type": "stream",
     "text": [
      "[I 2024-12-17 10:49:43,597] Trial 467 finished with value: 0.27276333846596235 and parameters: {'topK': 121, 'alpha': 0.3285905605255351, 'beta': 0.2516442118130757, 'normalize_similarity': True, 'implicit': True}. Best is trial 191 with value: 0.2757505849868378.\n"
     ]
    },
    {
     "name": "stdout",
     "output_type": "stream",
     "text": [
      "RP3betaRecommender: Similarity column 38121 (100.0%), 2113.36 column/sec. Elapsed time 18.04 sec\n",
      "EvaluatorHoldout: Processed 35595 (100.0%) in 33.89 sec. Users per second: 1050\n"
     ]
    },
    {
     "name": "stderr",
     "output_type": "stream",
     "text": [
      "[I 2024-12-17 10:50:36,810] Trial 468 finished with value: 0.07787256279163884 and parameters: {'topK': 22, 'alpha': 0.2601030268937363, 'beta': 2.1341176148050867, 'normalize_similarity': True, 'implicit': True}. Best is trial 191 with value: 0.2757505849868378.\n"
     ]
    },
    {
     "name": "stdout",
     "output_type": "stream",
     "text": [
      "RP3betaRecommender: Similarity column 38121 (100.0%), 830.84 column/sec. Elapsed time 45.88 sec\n",
      "EvaluatorHoldout: Processed 35595 (100.0%) in 50.64 sec. Users per second: 703\n"
     ]
    },
    {
     "name": "stderr",
     "output_type": "stream",
     "text": [
      "[I 2024-12-17 10:52:37,190] Trial 469 finished with value: 0.2607849378018229 and parameters: {'topK': 511, 'alpha': 0.3854335816030561, 'beta': 0.4093471823711732, 'normalize_similarity': True, 'implicit': True}. Best is trial 191 with value: 0.2757505849868378.\n"
     ]
    },
    {
     "name": "stdout",
     "output_type": "stream",
     "text": [
      "RP3betaRecommender: Similarity column 38121 (100.0%), 1830.75 column/sec. Elapsed time 20.82 sec\n",
      "EvaluatorHoldout: Processed 35595 (100.0%) in 37.55 sec. Users per second: 948\n"
     ]
    },
    {
     "name": "stderr",
     "output_type": "stream",
     "text": [
      "[I 2024-12-17 10:53:38,782] Trial 470 finished with value: 0.2727773961153346 and parameters: {'topK': 77, 'alpha': 0.31550892776851425, 'beta': 0.10040701499709334, 'normalize_similarity': True, 'implicit': True}. Best is trial 191 with value: 0.2757505849868378.\n"
     ]
    },
    {
     "name": "stdout",
     "output_type": "stream",
     "text": [
      "RP3betaRecommender: Similarity column 38121 (100.0%), 1914.25 column/sec. Elapsed time 19.91 sec\n",
      "EvaluatorHoldout: Processed 35595 (100.0%) in 38.27 sec. Users per second: 930\n"
     ]
    },
    {
     "name": "stderr",
     "output_type": "stream",
     "text": [
      "[I 2024-12-17 10:54:40,253] Trial 471 finished with value: 0.2664203268780809 and parameters: {'topK': 56, 'alpha': 0.4681171344734078, 'beta': 0.5090187231697316, 'normalize_similarity': True, 'implicit': True}. Best is trial 191 with value: 0.2757505849868378.\n"
     ]
    },
    {
     "name": "stdout",
     "output_type": "stream",
     "text": [
      "RP3betaRecommender: Similarity column 38121 (100.0%), 449.25 column/sec. Elapsed time 1.41 min\n",
      "EvaluatorHoldout: Processed 35595 (100.0%) in 1.02 min. Users per second: 582\n"
     ]
    },
    {
     "name": "stderr",
     "output_type": "stream",
     "text": [
      "[I 2024-12-17 10:58:00,549] Trial 472 finished with value: 0.24078332621833143 and parameters: {'topK': 1416, 'alpha': 0.23097415767811416, 'beta': 0.21615874681447883, 'normalize_similarity': True, 'implicit': True}. Best is trial 191 with value: 0.2757505849868378.\n"
     ]
    },
    {
     "name": "stdout",
     "output_type": "stream",
     "text": [
      "RP3betaRecommender: Similarity column 38121 (100.0%), 1600.80 column/sec. Elapsed time 23.81 sec\n",
      "EvaluatorHoldout: Processed 35595 (100.0%) in 41.38 sec. Users per second: 860\n"
     ]
    },
    {
     "name": "stderr",
     "output_type": "stream",
     "text": [
      "[I 2024-12-17 10:59:12,176] Trial 473 finished with value: 0.27211891461999926 and parameters: {'topK': 138, 'alpha': 0.40349974292625995, 'beta': 0.3113567438599756, 'normalize_similarity': True, 'implicit': True}. Best is trial 191 with value: 0.2757505849868378.\n"
     ]
    },
    {
     "name": "stdout",
     "output_type": "stream",
     "text": [
      "RP3betaRecommender: Similarity column 38121 (100.0%), 1748.39 column/sec. Elapsed time 21.80 sec\n",
      "EvaluatorHoldout: Processed 35595 (100.0%) in 39.14 sec. Users per second: 909\n"
     ]
    },
    {
     "name": "stderr",
     "output_type": "stream",
     "text": [
      "[I 2024-12-17 11:00:17,618] Trial 474 finished with value: 0.27354059239217754 and parameters: {'topK': 97, 'alpha': 0.5775370411729623, 'beta': 0.18025025254310748, 'normalize_similarity': True, 'implicit': True}. Best is trial 191 with value: 0.2757505849868378.\n"
     ]
    },
    {
     "name": "stdout",
     "output_type": "stream",
     "text": [
      "RP3betaRecommender: Similarity column 38121 (100.0%), 1935.94 column/sec. Elapsed time 19.69 sec\n",
      "EvaluatorHoldout: Processed 35595 (100.0%) in 38.19 sec. Users per second: 932\n"
     ]
    },
    {
     "name": "stderr",
     "output_type": "stream",
     "text": [
      "[I 2024-12-17 11:01:18,179] Trial 475 finished with value: 0.274791410980941 and parameters: {'topK': 49, 'alpha': 0.358754231502778, 'beta': 0.26280441865504234, 'normalize_similarity': True, 'implicit': True}. Best is trial 191 with value: 0.2757505849868378.\n"
     ]
    },
    {
     "name": "stdout",
     "output_type": "stream",
     "text": [
      "RP3betaRecommender: Similarity column 38121 (100.0%), 2149.96 column/sec. Elapsed time 17.73 sec\n",
      "EvaluatorHoldout: Processed 35595 (100.0%) in 35.23 sec. Users per second: 1010\n"
     ]
    },
    {
     "name": "stderr",
     "output_type": "stream",
     "text": [
      "[I 2024-12-17 11:02:12,514] Trial 476 finished with value: 0.2579881736380886 and parameters: {'topK': 15, 'alpha': 0.28215092350209525, 'beta': 0.13231591423002828, 'normalize_similarity': True, 'implicit': True}. Best is trial 191 with value: 0.2757505849868378.\n"
     ]
    },
    {
     "name": "stdout",
     "output_type": "stream",
     "text": [
      "RP3betaRecommender: Similarity column 38121 (100.0%), 1103.24 column/sec. Elapsed time 34.55 sec\n",
      "EvaluatorHoldout: Processed 35595 (100.0%) in 45.33 sec. Users per second: 785\n"
     ]
    },
    {
     "name": "stderr",
     "output_type": "stream",
     "text": [
      "[I 2024-12-17 11:03:46,610] Trial 477 finished with value: 0.2582440048077463 and parameters: {'topK': 313, 'alpha': 0.1397467105084596, 'beta': 0.34584398264058835, 'normalize_similarity': True, 'implicit': True}. Best is trial 191 with value: 0.2757505849868378.\n"
     ]
    },
    {
     "name": "stdout",
     "output_type": "stream",
     "text": [
      "RP3betaRecommender: Similarity column 38121 (100.0%), 1808.59 column/sec. Elapsed time 21.08 sec\n",
      "EvaluatorHoldout: Processed 35595 (100.0%) in 38.34 sec. Users per second: 928\n"
     ]
    },
    {
     "name": "stderr",
     "output_type": "stream",
     "text": [
      "[I 2024-12-17 11:04:49,948] Trial 478 finished with value: 0.27525362935624514 and parameters: {'topK': 82, 'alpha': 0.4478636630802304, 'beta': 0.23347690431001739, 'normalize_similarity': True, 'implicit': True}. Best is trial 191 with value: 0.2757505849868378.\n"
     ]
    },
    {
     "name": "stdout",
     "output_type": "stream",
     "text": [
      "RP3betaRecommender: Similarity column 38121 (100.0%), 1385.09 column/sec. Elapsed time 27.52 sec\n",
      "EvaluatorHoldout: Processed 35595 (100.0%) in 42.22 sec. Users per second: 843\n"
     ]
    },
    {
     "name": "stderr",
     "output_type": "stream",
     "text": [
      "[I 2024-12-17 11:06:08,126] Trial 479 finished with value: 0.26952189511003466 and parameters: {'topK': 193, 'alpha': 0.5122810802935651, 'beta': 0.21264318174383903, 'normalize_similarity': True, 'implicit': True}. Best is trial 191 with value: 0.2757505849868378.\n"
     ]
    },
    {
     "name": "stdout",
     "output_type": "stream",
     "text": [
      "RP3betaRecommender: Similarity column 38121 (100.0%), 1520.49 column/sec. Elapsed time 25.07 sec\n",
      "EvaluatorHoldout: Processed 35595 (100.0%) in 35.63 sec. Users per second: 999\n"
     ]
    },
    {
     "name": "stderr",
     "output_type": "stream",
     "text": [
      "[I 2024-12-17 11:07:14,764] Trial 480 finished with value: 0.2670548311154774 and parameters: {'topK': 158, 'alpha': 0.45311893407940174, 'beta': 0.04665759746461737, 'normalize_similarity': True, 'implicit': True}. Best is trial 191 with value: 0.2757505849868378.\n"
     ]
    },
    {
     "name": "stdout",
     "output_type": "stream",
     "text": [
      "RP3betaRecommender: Similarity column 38121 (100.0%), 1676.70 column/sec. Elapsed time 22.74 sec\n",
      "EvaluatorHoldout: Processed 35595 (100.0%) in 39.98 sec. Users per second: 890\n"
     ]
    },
    {
     "name": "stderr",
     "output_type": "stream",
     "text": [
      "[I 2024-12-17 11:08:22,646] Trial 481 finished with value: 0.26710566021902243 and parameters: {'topK': 115, 'alpha': 0.8632162229733482, 'beta': 0.14982421596411996, 'normalize_similarity': True, 'implicit': True}. Best is trial 191 with value: 0.2757505849868378.\n"
     ]
    },
    {
     "name": "stdout",
     "output_type": "stream",
     "text": [
      "RP3betaRecommender: Similarity column 38121 (100.0%), 1732.78 column/sec. Elapsed time 22.00 sec\n",
      "EvaluatorHoldout: Processed 35595 (100.0%) in 39.60 sec. Users per second: 899\n"
     ]
    },
    {
     "name": "stderr",
     "output_type": "stream",
     "text": [
      "[I 2024-12-17 11:09:28,617] Trial 482 finished with value: 0.26014143152124775 and parameters: {'topK': 87, 'alpha': 0.6626470758372861, 'beta': 0.23453802720363692, 'normalize_similarity': False, 'implicit': True}. Best is trial 191 with value: 0.2757505849868378.\n"
     ]
    },
    {
     "name": "stdout",
     "output_type": "stream",
     "text": [
      "RP3betaRecommender: Similarity column 38121 (100.0%), 1618.97 column/sec. Elapsed time 23.55 sec\n",
      "EvaluatorHoldout: Processed 35595 (100.0%) in 40.29 sec. Users per second: 883\n"
     ]
    },
    {
     "name": "stderr",
     "output_type": "stream",
     "text": [
      "[I 2024-12-17 11:10:38,291] Trial 483 finished with value: 0.27260216008926685 and parameters: {'topK': 130, 'alpha': 0.3552903582062659, 'beta': 0.2685526324468912, 'normalize_similarity': True, 'implicit': True}. Best is trial 191 with value: 0.2757505849868378.\n"
     ]
    },
    {
     "name": "stdout",
     "output_type": "stream",
     "text": [
      "RP3betaRecommender: Similarity column 38121 (100.0%), 1849.59 column/sec. Elapsed time 20.61 sec\n",
      "EvaluatorHoldout: Processed 35595 (100.0%) in 37.03 sec. Users per second: 961\n"
     ]
    },
    {
     "name": "stderr",
     "output_type": "stream",
     "text": [
      "[I 2024-12-17 11:11:38,914] Trial 484 finished with value: 0.27276555587892615 and parameters: {'topK': 69, 'alpha': 0.29125469808739574, 'beta': 0.10658369624983209, 'normalize_similarity': True, 'implicit': True}. Best is trial 191 with value: 0.2757505849868378.\n"
     ]
    },
    {
     "name": "stdout",
     "output_type": "stream",
     "text": [
      "RP3betaRecommender: Similarity column 38121 (100.0%), 1736.29 column/sec. Elapsed time 21.96 sec\n",
      "EvaluatorHoldout: Processed 35595 (100.0%) in 38.72 sec. Users per second: 919\n"
     ]
    },
    {
     "name": "stderr",
     "output_type": "stream",
     "text": [
      "[I 2024-12-17 11:12:43,884] Trial 485 finished with value: 0.27241205763906456 and parameters: {'topK': 101, 'alpha': 0.19907926528559933, 'beta': 0.19705680287518107, 'normalize_similarity': True, 'implicit': True}. Best is trial 191 with value: 0.2757505849868378.\n"
     ]
    },
    {
     "name": "stdout",
     "output_type": "stream",
     "text": [
      "RP3betaRecommender: Similarity column 38121 (100.0%), 1847.11 column/sec. Elapsed time 20.64 sec\n",
      "EvaluatorHoldout: Processed 35595 (100.0%) in 38.94 sec. Users per second: 914\n"
     ]
    },
    {
     "name": "stderr",
     "output_type": "stream",
     "text": [
      "[I 2024-12-17 11:13:47,503] Trial 486 finished with value: 0.2731968040840267 and parameters: {'topK': 74, 'alpha': 0.42057797257685986, 'beta': 0.376482655314205, 'normalize_similarity': True, 'implicit': True}. Best is trial 191 with value: 0.2757505849868378.\n"
     ]
    },
    {
     "name": "stdout",
     "output_type": "stream",
     "text": [
      "RP3betaRecommender: Similarity column 38121 (100.0%), 1980.92 column/sec. Elapsed time 19.24 sec\n",
      "EvaluatorHoldout: Processed 35595 (100.0%) in 37.49 sec. Users per second: 950\n"
     ]
    },
    {
     "name": "stderr",
     "output_type": "stream",
     "text": [
      "[I 2024-12-17 11:14:46,877] Trial 487 finished with value: 0.2733740154411719 and parameters: {'topK': 45, 'alpha': 0.49533592554934364, 'beta': 0.2999094897214892, 'normalize_similarity': True, 'implicit': True}. Best is trial 191 with value: 0.2757505849868378.\n"
     ]
    },
    {
     "name": "stdout",
     "output_type": "stream",
     "text": [
      "RP3betaRecommender: Similarity column 38121 (100.0%), 1696.93 column/sec. Elapsed time 22.46 sec\n",
      "EvaluatorHoldout: Processed 35595 (100.0%) in 31.65 sec. Users per second: 1125\n"
     ]
    },
    {
     "name": "stderr",
     "output_type": "stream",
     "text": [
      "[I 2024-12-17 11:15:42,001] Trial 488 finished with value: 0.18164669832388933 and parameters: {'topK': 3, 'alpha': 0.34119575468471053, 'beta': 0.15765548474336954, 'normalize_similarity': True, 'implicit': True}. Best is trial 191 with value: 0.2757505849868378.\n"
     ]
    },
    {
     "name": "stdout",
     "output_type": "stream",
     "text": [
      "RP3betaRecommender: Similarity column 38121 (100.0%), 1450.75 column/sec. Elapsed time 26.28 sec\n",
      "EvaluatorHoldout: Processed 35595 (100.0%) in 39.93 sec. Users per second: 891\n"
     ]
    },
    {
     "name": "stderr",
     "output_type": "stream",
     "text": [
      "[I 2024-12-17 11:16:53,217] Trial 489 finished with value: 0.2728332795528672 and parameters: {'topK': 104, 'alpha': 0.25571581453939973, 'beta': 0.22980711369273676, 'normalize_similarity': True, 'implicit': True}. Best is trial 191 with value: 0.2757505849868378.\n"
     ]
    },
    {
     "name": "stdout",
     "output_type": "stream",
     "text": [
      "RP3betaRecommender: Similarity column 38121 (100.0%), 1517.54 column/sec. Elapsed time 25.12 sec\n",
      "EvaluatorHoldout: Processed 35595 (100.0%) in 43.01 sec. Users per second: 828\n"
     ]
    },
    {
     "name": "stderr",
     "output_type": "stream",
     "text": [
      "[I 2024-12-17 11:18:08,830] Trial 490 finished with value: 0.26680362591762524 and parameters: {'topK': 150, 'alpha': 0.5767758175497396, 'beta': 0.44771295989815385, 'normalize_similarity': True, 'implicit': True}. Best is trial 191 with value: 0.2757505849868378.\n"
     ]
    },
    {
     "name": "stdout",
     "output_type": "stream",
     "text": [
      "RP3betaRecommender: Similarity column 38121 (100.0%), 1975.42 column/sec. Elapsed time 19.30 sec\n",
      "EvaluatorHoldout: Processed 35595 (100.0%) in 37.30 sec. Users per second: 954\n"
     ]
    },
    {
     "name": "stderr",
     "output_type": "stream",
     "text": [
      "[I 2024-12-17 11:19:07,951] Trial 491 finished with value: 0.2737499350559688 and parameters: {'topK': 41, 'alpha': 0.386250223232542, 'beta': 0.3121870212888831, 'normalize_similarity': True, 'implicit': True}. Best is trial 191 with value: 0.2757505849868378.\n"
     ]
    },
    {
     "name": "stdout",
     "output_type": "stream",
     "text": [
      "RP3betaRecommender: Similarity column 38121 (100.0%), 1773.98 column/sec. Elapsed time 21.49 sec\n",
      "EvaluatorHoldout: Processed 35595 (100.0%) in 38.92 sec. Users per second: 915\n"
     ]
    },
    {
     "name": "stderr",
     "output_type": "stream",
     "text": [
      "[I 2024-12-17 11:20:11,994] Trial 492 finished with value: 0.2703024879002633 and parameters: {'topK': 81, 'alpha': 0.06711176198626823, 'beta': 0.18704365020941585, 'normalize_similarity': True, 'implicit': True}. Best is trial 191 with value: 0.2757505849868378.\n"
     ]
    },
    {
     "name": "stdout",
     "output_type": "stream",
     "text": [
      "RP3betaRecommender: Similarity column 38121 (100.0%), 1619.23 column/sec. Elapsed time 23.54 sec\n",
      "EvaluatorHoldout: Processed 35595 (100.0%) in 41.06 sec. Users per second: 867\n"
     ]
    },
    {
     "name": "stderr",
     "output_type": "stream",
     "text": [
      "[I 2024-12-17 11:21:22,298] Trial 493 finished with value: 0.27299592163372277 and parameters: {'topK': 124, 'alpha': 0.45041701113140564, 'beta': 0.26158626399278656, 'normalize_similarity': True, 'implicit': True}. Best is trial 191 with value: 0.2757505849868378.\n"
     ]
    },
    {
     "name": "stdout",
     "output_type": "stream",
     "text": [
      "RP3betaRecommender: Similarity column 38121 (100.0%), 1865.11 column/sec. Elapsed time 20.44 sec\n",
      "EvaluatorHoldout: Processed 35595 (100.0%) in 37.48 sec. Users per second: 950\n"
     ]
    },
    {
     "name": "stderr",
     "output_type": "stream",
     "text": [
      "[I 2024-12-17 11:22:22,896] Trial 494 finished with value: 0.2717472133800795 and parameters: {'topK': 60, 'alpha': 0.33011091782515456, 'beta': 0.06646685717537543, 'normalize_similarity': True, 'implicit': True}. Best is trial 191 with value: 0.2757505849868378.\n"
     ]
    },
    {
     "name": "stdout",
     "output_type": "stream",
     "text": [
      "RP3betaRecommender: Similarity column 38121 (100.0%), 1761.41 column/sec. Elapsed time 21.64 sec\n",
      "EvaluatorHoldout: Processed 35595 (100.0%) in 40.23 sec. Users per second: 885\n"
     ]
    },
    {
     "name": "stderr",
     "output_type": "stream",
     "text": [
      "[I 2024-12-17 11:23:29,507] Trial 495 finished with value: 0.27337603660417875 and parameters: {'topK': 92, 'alpha': 0.39421481678137116, 'beta': 0.35144417829945357, 'normalize_similarity': True, 'implicit': True}. Best is trial 191 with value: 0.2757505849868378.\n"
     ]
    },
    {
     "name": "stdout",
     "output_type": "stream",
     "text": [
      "RP3betaRecommender: Similarity column 38121 (100.0%), 2029.24 column/sec. Elapsed time 18.79 sec\n",
      "EvaluatorHoldout: Processed 35595 (100.0%) in 35.82 sec. Users per second: 994\n"
     ]
    },
    {
     "name": "stderr",
     "output_type": "stream",
     "text": [
      "[I 2024-12-17 11:24:25,833] Trial 496 finished with value: 0.2685783925438424 and parameters: {'topK': 29, 'alpha': 0.24123107795369336, 'beta': 0.11856769677868152, 'normalize_similarity': True, 'implicit': True}. Best is trial 191 with value: 0.2757505849868378.\n"
     ]
    },
    {
     "name": "stdout",
     "output_type": "stream",
     "text": [
      "RP3betaRecommender: Similarity column 38121 (100.0%), 1464.38 column/sec. Elapsed time 26.03 sec\n",
      "EvaluatorHoldout: Processed 35595 (100.0%) in 42.18 sec. Users per second: 844\n"
     ]
    },
    {
     "name": "stderr",
     "output_type": "stream",
     "text": [
      "[I 2024-12-17 11:25:41,573] Trial 497 finished with value: 0.2703186135632615 and parameters: {'topK': 170, 'alpha': 0.3047625121975518, 'beta': 0.23667150865480222, 'normalize_similarity': True, 'implicit': True}. Best is trial 191 with value: 0.2757505849868378.\n"
     ]
    },
    {
     "name": "stdout",
     "output_type": "stream",
     "text": [
      "RP3betaRecommender: Similarity column 38121 (100.0%), 2807.54 column/sec. Elapsed time 13.58 sec\n",
      "EvaluatorHoldout: Processed 35595 (100.0%) in 27.96 sec. Users per second: 1273\n"
     ]
    },
    {
     "name": "stderr",
     "output_type": "stream",
     "text": [
      "[I 2024-12-17 11:26:23,478] Trial 498 finished with value: 0.005972113065949917 and parameters: {'topK': 0, 'alpha': 0.4468273439313466, 'beta': 0.30409234061114987, 'normalize_similarity': True, 'implicit': True}. Best is trial 191 with value: 0.2757505849868378.\n"
     ]
    },
    {
     "name": "stdout",
     "output_type": "stream",
     "text": [
      "RP3betaRecommender: Similarity column 38121 (100.0%), 1796.46 column/sec. Elapsed time 21.22 sec\n",
      "EvaluatorHoldout: Processed 35595 (100.0%) in 38.42 sec. Users per second: 926\n"
     ]
    },
    {
     "name": "stderr",
     "output_type": "stream",
     "text": [
      "[I 2024-12-17 11:27:26,490] Trial 499 finished with value: 0.27333288924172816 and parameters: {'topK': 71, 'alpha': 0.17703491685711414, 'beta': 0.18477906502105065, 'normalize_similarity': True, 'implicit': True}. Best is trial 191 with value: 0.2757505849868378.\n"
     ]
    },
    {
     "name": "stdout",
     "output_type": "stream",
     "text": [
      "RP3betaRecommender: Similarity column 38121 (100.0%), 1569.55 column/sec. Elapsed time 24.29 sec\n",
      "EvaluatorHoldout: Processed 35595 (100.0%) in 42.04 sec. Users per second: 847\n"
     ]
    },
    {
     "name": "stderr",
     "output_type": "stream",
     "text": [
      "[I 2024-12-17 11:28:38,915] Trial 500 finished with value: 0.19896149381255426 and parameters: {'topK': 134, 'alpha': 0.5271538879804036, 'beta': 0.869403984310486, 'normalize_similarity': True, 'implicit': True}. Best is trial 191 with value: 0.2757505849868378.\n"
     ]
    },
    {
     "name": "stdout",
     "output_type": "stream",
     "text": [
      "RP3betaRecommender: Similarity column 38121 (100.0%), 1670.58 column/sec. Elapsed time 22.82 sec\n",
      "EvaluatorHoldout: Processed 35595 (100.0%) in 40.94 sec. Users per second: 869\n"
     ]
    },
    {
     "name": "stderr",
     "output_type": "stream",
     "text": [
      "[I 2024-12-17 11:29:47,821] Trial 501 finished with value: 0.2716011056878074 and parameters: {'topK': 101, 'alpha': 0.3618533018897302, 'beta': 0.3882830522473695, 'normalize_similarity': True, 'implicit': True}. Best is trial 191 with value: 0.2757505849868378.\n"
     ]
    },
    {
     "name": "stdout",
     "output_type": "stream",
     "text": [
      "RP3betaRecommender: Similarity column 38121 (100.0%), 1904.30 column/sec. Elapsed time 20.02 sec\n",
      "EvaluatorHoldout: Processed 35595 (100.0%) in 38.15 sec. Users per second: 933\n"
     ]
    },
    {
     "name": "stderr",
     "output_type": "stream",
     "text": [
      "[I 2024-12-17 11:30:48,916] Trial 502 finished with value: 0.24600394051143684 and parameters: {'topK': 55, 'alpha': 0.2912722786894353, 'beta': 0.2747530858404252, 'normalize_similarity': False, 'implicit': True}. Best is trial 191 with value: 0.2757505849868378.\n"
     ]
    },
    {
     "name": "stdout",
     "output_type": "stream",
     "text": [
      "RP3betaRecommender: Similarity column 38121 (100.0%), 2005.61 column/sec. Elapsed time 19.01 sec\n",
      "EvaluatorHoldout: Processed 35595 (100.0%) in 36.80 sec. Users per second: 967\n"
     ]
    },
    {
     "name": "stderr",
     "output_type": "stream",
     "text": [
      "[I 2024-12-17 11:31:46,935] Trial 503 finished with value: 0.2718555432987442 and parameters: {'topK': 38, 'alpha': 0.4066073728952628, 'beta': 0.15241312838250695, 'normalize_similarity': True, 'implicit': True}. Best is trial 191 with value: 0.2757505849868378.\n"
     ]
    },
    {
     "name": "stdout",
     "output_type": "stream",
     "text": [
      "RP3betaRecommender: Similarity column 38121 (100.0%), 710.21 column/sec. Elapsed time 53.68 sec\n",
      "EvaluatorHoldout: Processed 35595 (100.0%) in 55.11 sec. Users per second: 646\n"
     ]
    },
    {
     "name": "stderr",
     "output_type": "stream",
     "text": [
      "[I 2024-12-17 11:34:07,210] Trial 504 finished with value: 0.2498128538480736 and parameters: {'topK': 643, 'alpha': 0.4884346753028429, 'beta': 0.6085869622909699, 'normalize_similarity': True, 'implicit': True}. Best is trial 191 with value: 0.2757505849868378.\n"
     ]
    },
    {
     "name": "stdout",
     "output_type": "stream",
     "text": [
      "RP3betaRecommender: Similarity column 38121 (100.0%), 1790.94 column/sec. Elapsed time 21.29 sec\n",
      "EvaluatorHoldout: Processed 35595 (100.0%) in 40.01 sec. Users per second: 890\n"
     ]
    },
    {
     "name": "stderr",
     "output_type": "stream",
     "text": [
      "[I 2024-12-17 11:35:12,410] Trial 505 finished with value: 0.21914242794159486 and parameters: {'topK': 80, 'alpha': 2.2029370405499513, 'beta': 0.220904256225274, 'normalize_similarity': True, 'implicit': True}. Best is trial 191 with value: 0.2757505849868378.\n"
     ]
    },
    {
     "name": "stdout",
     "output_type": "stream",
     "text": [
      "RP3betaRecommender: Similarity column 38121 (100.0%), 1625.53 column/sec. Elapsed time 23.45 sec\n",
      "EvaluatorHoldout: Processed 35595 (100.0%) in 41.94 sec. Users per second: 849\n"
     ]
    },
    {
     "name": "stderr",
     "output_type": "stream",
     "text": [
      "[I 2024-12-17 11:36:23,445] Trial 506 finished with value: 0.27303422715888165 and parameters: {'topK': 115, 'alpha': 0.36426502399608046, 'beta': 0.317982892341756, 'normalize_similarity': True, 'implicit': True}. Best is trial 191 with value: 0.2757505849868378.\n"
     ]
    },
    {
     "name": "stdout",
     "output_type": "stream",
     "text": [
      "RP3betaRecommender: Similarity column 38121 (100.0%), 1995.95 column/sec. Elapsed time 19.10 sec\n",
      "EvaluatorHoldout: Processed 35595 (100.0%) in 36.55 sec. Users per second: 974\n"
     ]
    },
    {
     "name": "stderr",
     "output_type": "stream",
     "text": [
      "[I 2024-12-17 11:37:21,103] Trial 507 finished with value: 0.2712967738634049 and parameters: {'topK': 29, 'alpha': 0.23677925359459, 'beta': 0.2619119317717439, 'normalize_similarity': True, 'implicit': True}. Best is trial 191 with value: 0.2757505849868378.\n"
     ]
    },
    {
     "name": "stdout",
     "output_type": "stream",
     "text": [
      "RP3betaRecommender: Similarity column 38121 (100.0%), 1804.50 column/sec. Elapsed time 21.13 sec\n",
      "EvaluatorHoldout: Processed 35595 (100.0%) in 38.03 sec. Users per second: 936\n"
     ]
    },
    {
     "name": "stderr",
     "output_type": "stream",
     "text": [
      "[I 2024-12-17 11:38:23,487] Trial 508 finished with value: 0.2728095353682844 and parameters: {'topK': 75, 'alpha': 0.3177355384957943, 'beta': 0.10017361921476561, 'normalize_similarity': True, 'implicit': True}. Best is trial 191 with value: 0.2757505849868378.\n"
     ]
    },
    {
     "name": "stdout",
     "output_type": "stream",
     "text": [
      "RP3betaRecommender: Similarity column 38121 (100.0%), 1633.67 column/sec. Elapsed time 23.33 sec\n",
      "EvaluatorHoldout: Processed 35595 (100.0%) in 40.23 sec. Users per second: 885\n"
     ]
    },
    {
     "name": "stderr",
     "output_type": "stream",
     "text": [
      "[I 2024-12-17 11:39:31,821] Trial 509 finished with value: 0.27379060821115264 and parameters: {'topK': 109, 'alpha': 0.4249946008939926, 'beta': 0.17268439109458053, 'normalize_similarity': True, 'implicit': True}. Best is trial 191 with value: 0.2757505849868378.\n"
     ]
    },
    {
     "name": "stdout",
     "output_type": "stream",
     "text": [
      "RP3betaRecommender: Similarity column 38121 (100.0%), 1530.69 column/sec. Elapsed time 24.90 sec\n",
      "EvaluatorHoldout: Processed 35595 (100.0%) in 43.13 sec. Users per second: 825\n"
     ]
    },
    {
     "name": "stderr",
     "output_type": "stream",
     "text": [
      "[I 2024-12-17 11:40:47,021] Trial 510 finished with value: 0.2682677120941292 and parameters: {'topK': 144, 'alpha': 0.6200327253890074, 'beta': 0.3993795553999614, 'normalize_similarity': True, 'implicit': True}. Best is trial 191 with value: 0.2757505849868378.\n"
     ]
    },
    {
     "name": "stdout",
     "output_type": "stream",
     "text": [
      "RP3betaRecommender: Similarity column 38121 (100.0%), 1891.30 column/sec. Elapsed time 20.16 sec\n",
      "EvaluatorHoldout: Processed 35595 (100.0%) in 37.37 sec. Users per second: 953\n"
     ]
    },
    {
     "name": "stderr",
     "output_type": "stream",
     "text": [
      "[I 2024-12-17 11:41:47,111] Trial 511 finished with value: 0.26935102829771396 and parameters: {'topK': 51, 'alpha': 0.4861171866801517, 'beta': 0.04056659511705443, 'normalize_similarity': True, 'implicit': True}. Best is trial 191 with value: 0.2757505849868378.\n"
     ]
    },
    {
     "name": "stdout",
     "output_type": "stream",
     "text": [
      "RP3betaRecommender: Similarity column 38121 (100.0%), 1800.77 column/sec. Elapsed time 21.17 sec\n",
      "EvaluatorHoldout: Processed 35595 (100.0%) in 38.31 sec. Users per second: 929\n"
     ]
    },
    {
     "name": "stderr",
     "output_type": "stream",
     "text": [
      "[I 2024-12-17 11:42:50,272] Trial 512 finished with value: 0.2747684071965727 and parameters: {'topK': 78, 'alpha': 0.2904141044513136, 'beta': 0.22417091166767633, 'normalize_similarity': True, 'implicit': True}. Best is trial 191 with value: 0.2757505849868378.\n"
     ]
    },
    {
     "name": "stdout",
     "output_type": "stream",
     "text": [
      "RP3betaRecommender: Similarity column 38121 (100.0%), 2053.01 column/sec. Elapsed time 18.57 sec\n",
      "EvaluatorHoldout: Processed 35595 (100.0%) in 35.93 sec. Users per second: 991\n"
     ]
    },
    {
     "name": "stderr",
     "output_type": "stream",
     "text": [
      "[I 2024-12-17 11:43:46,791] Trial 513 finished with value: 0.26914138515990227 and parameters: {'topK': 25, 'alpha': 0.36065816557607006, 'beta': 0.3269136647763603, 'normalize_similarity': True, 'implicit': True}. Best is trial 191 with value: 0.2757505849868378.\n"
     ]
    },
    {
     "name": "stdout",
     "output_type": "stream",
     "text": [
      "RP3betaRecommender: Similarity column 38121 (100.0%), 1683.48 column/sec. Elapsed time 22.64 sec\n",
      "EvaluatorHoldout: Processed 35595 (100.0%) in 34.65 sec. Users per second: 1027\n"
     ]
    },
    {
     "name": "stderr",
     "output_type": "stream",
     "text": [
      "[I 2024-12-17 11:44:48,375] Trial 514 finished with value: 0.27127600039231664 and parameters: {'topK': 104, 'alpha': 0.21717042961688904, 'beta': 0.1308335778861379, 'normalize_similarity': True, 'implicit': True}. Best is trial 191 with value: 0.2757505849868378.\n"
     ]
    },
    {
     "name": "stdout",
     "output_type": "stream",
     "text": [
      "RP3betaRecommender: Similarity column 38121 (100.0%), 1868.91 column/sec. Elapsed time 20.40 sec\n",
      "EvaluatorHoldout: Processed 35595 (100.0%) in 38.27 sec. Users per second: 930\n"
     ]
    },
    {
     "name": "stderr",
     "output_type": "stream",
     "text": [
      "[I 2024-12-17 11:45:50,150] Trial 515 finished with value: 0.2749581781530616 and parameters: {'topK': 57, 'alpha': 0.4316466482683867, 'beta': 0.2781473006159217, 'normalize_similarity': True, 'implicit': True}. Best is trial 191 with value: 0.2757505849868378.\n"
     ]
    },
    {
     "name": "stdout",
     "output_type": "stream",
     "text": [
      "RP3betaRecommender: Similarity column 38121 (100.0%), 1589.75 column/sec. Elapsed time 23.98 sec\n",
      "EvaluatorHoldout: Processed 35595 (100.0%) in 40.20 sec. Users per second: 885\n"
     ]
    },
    {
     "name": "stderr",
     "output_type": "stream",
     "text": [
      "[I 2024-12-17 11:46:59,938] Trial 516 finished with value: 0.26786057712710204 and parameters: {'topK': 134, 'alpha': 0.11309867098461684, 'beta': 0.19958595506660431, 'normalize_similarity': True, 'implicit': True}. Best is trial 191 with value: 0.2757505849868378.\n"
     ]
    },
    {
     "name": "stdout",
     "output_type": "stream",
     "text": [
      "RP3betaRecommender: Similarity column 38121 (100.0%), 1445.94 column/sec. Elapsed time 26.36 sec\n",
      "EvaluatorHoldout: Processed 35595 (100.0%) in 43.46 sec. Users per second: 819\n"
     ]
    },
    {
     "name": "stderr",
     "output_type": "stream",
     "text": [
      "[I 2024-12-17 11:48:18,251] Trial 517 finished with value: 0.26909608373724214 and parameters: {'topK': 175, 'alpha': 0.5388152016234535, 'beta': 0.36209320635508724, 'normalize_similarity': True, 'implicit': True}. Best is trial 191 with value: 0.2757505849868378.\n"
     ]
    },
    {
     "name": "stdout",
     "output_type": "stream",
     "text": [
      "RP3betaRecommender: Similarity column 38121 (100.0%), 2815.38 column/sec. Elapsed time 13.54 sec\n",
      "EvaluatorHoldout: Processed 35595 (100.0%) in 30.41 sec. Users per second: 1170\n"
     ]
    },
    {
     "name": "stderr",
     "output_type": "stream",
     "text": [
      "[I 2024-12-17 11:49:03,123] Trial 518 finished with value: 0.0896553544752801 and parameters: {'topK': 1, 'alpha': 0.33507010308147317, 'beta': 0.25810276154133605, 'normalize_similarity': True, 'implicit': False}. Best is trial 191 with value: 0.2757505849868378.\n"
     ]
    },
    {
     "name": "stdout",
     "output_type": "stream",
     "text": [
      "RP3betaRecommender: Similarity column 38121 (100.0%), 1728.31 column/sec. Elapsed time 22.06 sec\n",
      "EvaluatorHoldout: Processed 35595 (100.0%) in 41.17 sec. Users per second: 865\n"
     ]
    },
    {
     "name": "stderr",
     "output_type": "stream",
     "text": [
      "[I 2024-12-17 11:50:11,102] Trial 519 finished with value: 0.2699356489865252 and parameters: {'topK': 90, 'alpha': 0.3912741810314277, 'beta': 0.4491196223149665, 'normalize_similarity': True, 'implicit': True}. Best is trial 191 with value: 0.2757505849868378.\n"
     ]
    },
    {
     "name": "stdout",
     "output_type": "stream",
     "text": [
      "RP3betaRecommender: Similarity column 38121 (100.0%), 1882.95 column/sec. Elapsed time 20.25 sec\n",
      "EvaluatorHoldout: Processed 35595 (100.0%) in 37.83 sec. Users per second: 941\n"
     ]
    },
    {
     "name": "stderr",
     "output_type": "stream",
     "text": [
      "[I 2024-12-17 11:51:11,746] Trial 520 finished with value: 0.24013596069130788 and parameters: {'topK': 51, 'alpha': 0.3051476822052237, 'beta': 0.15656428426767197, 'normalize_similarity': False, 'implicit': True}. Best is trial 191 with value: 0.2757505849868378.\n"
     ]
    },
    {
     "name": "stdout",
     "output_type": "stream",
     "text": [
      "RP3betaRecommender: Similarity column 38121 (100.0%), 1742.46 column/sec. Elapsed time 21.88 sec\n",
      "EvaluatorHoldout: Processed 35595 (100.0%) in 40.20 sec. Users per second: 885\n"
     ]
    },
    {
     "name": "stderr",
     "output_type": "stream",
     "text": [
      "[I 2024-12-17 11:52:18,224] Trial 521 finished with value: 0.2740315999413163 and parameters: {'topK': 87, 'alpha': 0.47445459345135277, 'beta': 0.32060884758101804, 'normalize_similarity': True, 'implicit': True}. Best is trial 191 with value: 0.2757505849868378.\n"
     ]
    },
    {
     "name": "stdout",
     "output_type": "stream",
     "text": [
      "RP3betaRecommender: Similarity column 38121 (100.0%), 1635.58 column/sec. Elapsed time 23.31 sec\n",
      "EvaluatorHoldout: Processed 35595 (100.0%) in 40.19 sec. Users per second: 886\n"
     ]
    },
    {
     "name": "stderr",
     "output_type": "stream",
     "text": [
      "[I 2024-12-17 11:53:26,968] Trial 522 finished with value: 0.2714677410780399 and parameters: {'topK': 118, 'alpha': 0.22376928780229285, 'beta': 0.21630798266551213, 'normalize_similarity': True, 'implicit': True}. Best is trial 191 with value: 0.2757505849868378.\n"
     ]
    },
    {
     "name": "stdout",
     "output_type": "stream",
     "text": [
      "RP3betaRecommender: Similarity column 38121 (100.0%), 2035.95 column/sec. Elapsed time 18.72 sec\n",
      "EvaluatorHoldout: Processed 35595 (100.0%) in 36.13 sec. Users per second: 985\n"
     ]
    },
    {
     "name": "stderr",
     "output_type": "stream",
     "text": [
      "[I 2024-12-17 11:54:23,561] Trial 523 finished with value: 0.14812764463180766 and parameters: {'topK': 28, 'alpha': 0.3921395202987724, 'beta': 1.230561175551241, 'normalize_similarity': True, 'implicit': True}. Best is trial 191 with value: 0.2757505849868378.\n"
     ]
    },
    {
     "name": "stdout",
     "output_type": "stream",
     "text": [
      "RP3betaRecommender: Similarity column 38121 (100.0%), 476.72 column/sec. Elapsed time 1.33 min\n",
      "EvaluatorHoldout: Processed 35595 (100.0%) in 1.03 min. Users per second: 574\n"
     ]
    },
    {
     "name": "stderr",
     "output_type": "stream",
     "text": [
      "[I 2024-12-17 11:57:35,129] Trial 524 finished with value: 0.24720398382660727 and parameters: {'topK': 1245, 'alpha': 1.359564532149837, 'beta': 0.27973354202488787, 'normalize_similarity': True, 'implicit': True}. Best is trial 191 with value: 0.2757505849868378.\n"
     ]
    },
    {
     "name": "stdout",
     "output_type": "stream",
     "text": [
      "RP3betaRecommender: Similarity column 38121 (100.0%), 1848.48 column/sec. Elapsed time 20.62 sec\n",
      "EvaluatorHoldout: Processed 35595 (100.0%) in 37.29 sec. Users per second: 955\n"
     ]
    },
    {
     "name": "stderr",
     "output_type": "stream",
     "text": [
      "[I 2024-12-17 11:58:35,864] Trial 525 finished with value: 0.26926006201004915 and parameters: {'topK': 69, 'alpha': 0.25250814092536683, 'beta': 0.01243769035761566, 'normalize_similarity': True, 'implicit': True}. Best is trial 191 with value: 0.2757505849868378.\n"
     ]
    },
    {
     "name": "stdout",
     "output_type": "stream",
     "text": [
      "RP3betaRecommender: Similarity column 38121 (100.0%), 1958.80 column/sec. Elapsed time 19.46 sec\n",
      "EvaluatorHoldout: Processed 35595 (100.0%) in 37.31 sec. Users per second: 954\n"
     ]
    },
    {
     "name": "stderr",
     "output_type": "stream",
     "text": [
      "[I 2024-12-17 11:59:34,852] Trial 526 finished with value: 0.17622412755214084 and parameters: {'topK': 41, 'alpha': 0.34199497288154, 'beta': 1.0330997329653488, 'normalize_similarity': True, 'implicit': True}. Best is trial 191 with value: 0.2757505849868378.\n"
     ]
    },
    {
     "name": "stdout",
     "output_type": "stream",
     "text": [
      "RP3betaRecommender: Similarity column 38121 (100.0%), 770.98 column/sec. Elapsed time 49.44 sec\n",
      "EvaluatorHoldout: Processed 35595 (100.0%) in 50.32 sec. Users per second: 707\n"
     ]
    },
    {
     "name": "stderr",
     "output_type": "stream",
     "text": [
      "[I 2024-12-17 12:01:38,350] Trial 527 finished with value: 0.24616553861502016 and parameters: {'topK': 567, 'alpha': 0.16012000444629299, 'beta': 0.11364241650999754, 'normalize_similarity': True, 'implicit': True}. Best is trial 191 with value: 0.2757505849868378.\n"
     ]
    },
    {
     "name": "stdout",
     "output_type": "stream",
     "text": [
      "RP3betaRecommender: Similarity column 38121 (100.0%), 1655.59 column/sec. Elapsed time 23.03 sec\n",
      "EvaluatorHoldout: Processed 35595 (100.0%) in 40.02 sec. Users per second: 889\n"
     ]
    },
    {
     "name": "stderr",
     "output_type": "stream",
     "text": [
      "[I 2024-12-17 12:02:45,820] Trial 528 finished with value: 0.26637901946465203 and parameters: {'topK': 104, 'alpha': 0.0003126124258817642, 'beta': 0.1993927873184203, 'normalize_similarity': True, 'implicit': True}. Best is trial 191 with value: 0.2757505849868378.\n"
     ]
    },
    {
     "name": "stdout",
     "output_type": "stream",
     "text": [
      "RP3betaRecommender: Similarity column 38121 (100.0%), 1330.19 column/sec. Elapsed time 28.66 sec\n",
      "EvaluatorHoldout: Processed 35595 (100.0%) in 43.89 sec. Users per second: 811\n"
     ]
    },
    {
     "name": "stderr",
     "output_type": "stream",
     "text": [
      "[I 2024-12-17 12:04:08,452] Trial 529 finished with value: 0.26807133775199893 and parameters: {'topK': 210, 'alpha': 0.43868120162668767, 'beta': 0.3417828782178156, 'normalize_similarity': True, 'implicit': True}. Best is trial 191 with value: 0.2757505849868378.\n"
     ]
    },
    {
     "name": "stdout",
     "output_type": "stream",
     "text": [
      "RP3betaRecommender: Similarity column 38121 (100.0%), 1821.26 column/sec. Elapsed time 20.93 sec\n",
      "EvaluatorHoldout: Processed 35595 (100.0%) in 39.24 sec. Users per second: 907\n"
     ]
    },
    {
     "name": "stderr",
     "output_type": "stream",
     "text": [
      "[I 2024-12-17 12:05:11,995] Trial 530 finished with value: 0.2739118469703991 and parameters: {'topK': 64, 'alpha': 0.5630628241356129, 'beta': 0.24934101501058928, 'normalize_similarity': True, 'implicit': False}. Best is trial 191 with value: 0.2757505849868378.\n"
     ]
    },
    {
     "name": "stdout",
     "output_type": "stream",
     "text": [
      "RP3betaRecommender: Similarity column 38121 (100.0%), 1485.30 column/sec. Elapsed time 25.67 sec\n",
      "EvaluatorHoldout: Processed 35595 (100.0%) in 40.92 sec. Users per second: 870\n"
     ]
    },
    {
     "name": "stderr",
     "output_type": "stream",
     "text": [
      "[I 2024-12-17 12:06:24,964] Trial 531 finished with value: 0.269807670823655 and parameters: {'topK': 152, 'alpha': 0.28765994446717513, 'beta': 0.16884809435032355, 'normalize_similarity': True, 'implicit': True}. Best is trial 191 with value: 0.2757505849868378.\n"
     ]
    },
    {
     "name": "stdout",
     "output_type": "stream",
     "text": [
      "RP3betaRecommender: Similarity column 38121 (100.0%), 1694.57 column/sec. Elapsed time 22.50 sec\n",
      "EvaluatorHoldout: Processed 35595 (100.0%) in 39.69 sec. Users per second: 897\n"
     ]
    },
    {
     "name": "stderr",
     "output_type": "stream",
     "text": [
      "[I 2024-12-17 12:07:31,676] Trial 532 finished with value: 0.27267181525522943 and parameters: {'topK': 89, 'alpha': 0.37612014790075243, 'beta': 0.3805787038870922, 'normalize_similarity': True, 'implicit': True}. Best is trial 191 with value: 0.2757505849868378.\n"
     ]
    },
    {
     "name": "stdout",
     "output_type": "stream",
     "text": [
      "RP3betaRecommender: Similarity column 38121 (100.0%), 2059.83 column/sec. Elapsed time 18.51 sec\n",
      "EvaluatorHoldout: Processed 35595 (100.0%) in 35.84 sec. Users per second: 993\n"
     ]
    },
    {
     "name": "stderr",
     "output_type": "stream",
     "text": [
      "[I 2024-12-17 12:08:27,803] Trial 533 finished with value: 0.267976435212635 and parameters: {'topK': 24, 'alpha': 0.46517921518631755, 'beta': 0.3035443753367003, 'normalize_similarity': True, 'implicit': True}. Best is trial 191 with value: 0.2757505849868378.\n"
     ]
    },
    {
     "name": "stdout",
     "output_type": "stream",
     "text": [
      "RP3betaRecommender: Similarity column 38121 (100.0%), 1592.92 column/sec. Elapsed time 23.93 sec\n",
      "EvaluatorHoldout: Processed 35595 (100.0%) in 40.20 sec. Users per second: 886\n"
     ]
    },
    {
     "name": "stderr",
     "output_type": "stream",
     "text": [
      "[I 2024-12-17 12:09:37,620] Trial 534 finished with value: 0.27240399873232946 and parameters: {'topK': 130, 'alpha': 0.32882992630885977, 'beta': 0.22948608584411934, 'normalize_similarity': True, 'implicit': True}. Best is trial 191 with value: 0.2757505849868378.\n"
     ]
    },
    {
     "name": "stdout",
     "output_type": "stream",
     "text": [
      "RP3betaRecommender: Similarity column 38121 (100.0%), 1888.81 column/sec. Elapsed time 20.18 sec\n",
      "EvaluatorHoldout: Processed 35595 (100.0%) in 37.33 sec. Users per second: 954\n"
     ]
    },
    {
     "name": "stderr",
     "output_type": "stream",
     "text": [
      "[I 2024-12-17 12:10:37,787] Trial 535 finished with value: 0.2718358944682292 and parameters: {'topK': 55, 'alpha': 0.5129871123575926, 'beta': 0.10475361156519747, 'normalize_similarity': True, 'implicit': True}. Best is trial 191 with value: 0.2757505849868378.\n"
     ]
    },
    {
     "name": "stdout",
     "output_type": "stream",
     "text": [
      "RP3betaRecommender: Similarity column 38121 (100.0%), 1700.82 column/sec. Elapsed time 22.41 sec\n",
      "EvaluatorHoldout: Processed 35595 (100.0%) in 40.18 sec. Users per second: 886\n"
     ]
    },
    {
     "name": "stderr",
     "output_type": "stream",
     "text": [
      "[I 2024-12-17 12:11:44,933] Trial 536 finished with value: 0.27395752837121606 and parameters: {'topK': 104, 'alpha': 0.41595658465450613, 'beta': 0.17283023257484292, 'normalize_similarity': True, 'implicit': True}. Best is trial 191 with value: 0.2757505849868378.\n"
     ]
    },
    {
     "name": "stdout",
     "output_type": "stream",
     "text": [
      "RP3betaRecommender: Similarity column 38121 (100.0%), 1835.46 column/sec. Elapsed time 20.77 sec\n",
      "EvaluatorHoldout: Processed 35595 (100.0%) in 39.19 sec. Users per second: 908\n"
     ]
    },
    {
     "name": "stderr",
     "output_type": "stream",
     "text": [
      "[I 2024-12-17 12:12:48,526] Trial 537 finished with value: 0.25717920514841247 and parameters: {'topK': 67, 'alpha': 1.17752195164841, 'beta': 0.27521116673701446, 'normalize_similarity': True, 'implicit': True}. Best is trial 191 with value: 0.2757505849868378.\n"
     ]
    },
    {
     "name": "stdout",
     "output_type": "stream",
     "text": [
      "RP3betaRecommender: Similarity column 38121 (100.0%), 1997.42 column/sec. Elapsed time 19.09 sec\n",
      "EvaluatorHoldout: Processed 35595 (100.0%) in 36.97 sec. Users per second: 963\n"
     ]
    },
    {
     "name": "stderr",
     "output_type": "stream",
     "text": [
      "[I 2024-12-17 12:13:46,671] Trial 538 finished with value: 0.2685152024651962 and parameters: {'topK': 28, 'alpha': 0.24342954488367266, 'beta': 0.4127528752662202, 'normalize_similarity': True, 'implicit': True}. Best is trial 191 with value: 0.2757505849868378.\n"
     ]
    },
    {
     "name": "stdout",
     "output_type": "stream",
     "text": [
      "RP3betaRecommender: Similarity column 38121 (100.0%), 1747.10 column/sec. Elapsed time 21.82 sec\n",
      "EvaluatorHoldout: Processed 35595 (100.0%) in 39.86 sec. Users per second: 893\n"
     ]
    },
    {
     "name": "stderr",
     "output_type": "stream",
     "text": [
      "[I 2024-12-17 12:14:52,433] Trial 539 finished with value: 0.22523561053397767 and parameters: {'topK': 80, 'alpha': 0.3732888816256281, 'beta': 0.7660388493818681, 'normalize_similarity': True, 'implicit': True}. Best is trial 191 with value: 0.2757505849868378.\n"
     ]
    },
    {
     "name": "stdout",
     "output_type": "stream",
     "text": [
      "RP3betaRecommender: Similarity column 38121 (100.0%), 1551.39 column/sec. Elapsed time 24.57 sec\n",
      "EvaluatorHoldout: Processed 35595 (100.0%) in 40.39 sec. Users per second: 881\n"
     ]
    },
    {
     "name": "stderr",
     "output_type": "stream",
     "text": [
      "[I 2024-12-17 12:16:01,896] Trial 540 finished with value: 0.09410223311982045 and parameters: {'topK': 134, 'alpha': 0.2835067184876215, 'beta': 1.7368869676371375, 'normalize_similarity': False, 'implicit': False}. Best is trial 191 with value: 0.2757505849868378.\n"
     ]
    },
    {
     "name": "stdout",
     "output_type": "stream",
     "text": [
      "RP3betaRecommender: Similarity column 38121 (100.0%), 1878.58 column/sec. Elapsed time 20.29 sec\n",
      "EvaluatorHoldout: Processed 35595 (100.0%) in 36.81 sec. Users per second: 967\n"
     ]
    },
    {
     "name": "stderr",
     "output_type": "stream",
     "text": [
      "[I 2024-12-17 12:17:01,593] Trial 541 finished with value: 0.2733659374657036 and parameters: {'topK': 48, 'alpha': 0.18131843240673656, 'beta': 0.22288189333895536, 'normalize_similarity': True, 'implicit': True}. Best is trial 191 with value: 0.2757505849868378.\n"
     ]
    },
    {
     "name": "stdout",
     "output_type": "stream",
     "text": [
      "RP3betaRecommender: Similarity column 38121 (100.0%), 1678.94 column/sec. Elapsed time 22.71 sec\n",
      "EvaluatorHoldout: Processed 35595 (100.0%) in 40.25 sec. Users per second: 884\n"
     ]
    },
    {
     "name": "stderr",
     "output_type": "stream",
     "text": [
      "[I 2024-12-17 12:18:09,780] Trial 542 finished with value: 0.2733856261658022 and parameters: {'topK': 108, 'alpha': 0.4377716465498278, 'beta': 0.32520814315903834, 'normalize_similarity': True, 'implicit': True}. Best is trial 191 with value: 0.2757505849868378.\n"
     ]
    },
    {
     "name": "stdout",
     "output_type": "stream",
     "text": [
      "RP3betaRecommender: Similarity column 38121 (100.0%), 2110.68 column/sec. Elapsed time 18.06 sec\n",
      "EvaluatorHoldout: Processed 35595 (100.0%) in 30.36 sec. Users per second: 1173\n"
     ]
    },
    {
     "name": "stderr",
     "output_type": "stream",
     "text": [
      "[I 2024-12-17 12:18:59,158] Trial 543 finished with value: 0.0749822847556968 and parameters: {'topK': 2, 'alpha': 0.328561358140865, 'beta': 1.3433624289355734, 'normalize_similarity': True, 'implicit': True}. Best is trial 191 with value: 0.2757505849868378.\n"
     ]
    },
    {
     "name": "stdout",
     "output_type": "stream",
     "text": [
      "RP3betaRecommender: Similarity column 38121 (100.0%), 1789.81 column/sec. Elapsed time 21.30 sec\n",
      "EvaluatorHoldout: Processed 35595 (100.0%) in 38.16 sec. Users per second: 933\n"
     ]
    },
    {
     "name": "stderr",
     "output_type": "stream",
     "text": [
      "[I 2024-12-17 12:20:02,260] Trial 544 finished with value: 0.27348787835525457 and parameters: {'topK': 82, 'alpha': 0.4911023531308857, 'beta': 0.1399937551832962, 'normalize_similarity': True, 'implicit': True}. Best is trial 191 with value: 0.2757505849868378.\n"
     ]
    },
    {
     "name": "stdout",
     "output_type": "stream",
     "text": [
      "RP3betaRecommender: Similarity column 38121 (100.0%), 1913.91 column/sec. Elapsed time 19.92 sec\n",
      "EvaluatorHoldout: Processed 35595 (100.0%) in 37.74 sec. Users per second: 943\n"
     ]
    },
    {
     "name": "stderr",
     "output_type": "stream",
     "text": [
      "[I 2024-12-17 12:21:02,834] Trial 545 finished with value: 0.2614691172856708 and parameters: {'topK': 49, 'alpha': 1.0221117170523297, 'beta': 0.26805847295614854, 'normalize_similarity': True, 'implicit': True}. Best is trial 191 with value: 0.2757505849868378.\n"
     ]
    },
    {
     "name": "stdout",
     "output_type": "stream",
     "text": [
      "RP3betaRecommender: Similarity column 38121 (100.0%), 1471.73 column/sec. Elapsed time 25.90 sec\n",
      "EvaluatorHoldout: Processed 35595 (100.0%) in 41.08 sec. Users per second: 867\n"
     ]
    },
    {
     "name": "stderr",
     "output_type": "stream",
     "text": [
      "[I 2024-12-17 12:22:16,789] Trial 546 finished with value: 0.2704741270433735 and parameters: {'topK': 166, 'alpha': 0.3900941500400038, 'beta': 0.19821084908238695, 'normalize_similarity': True, 'implicit': True}. Best is trial 191 with value: 0.2757505849868378.\n"
     ]
    },
    {
     "name": "stdout",
     "output_type": "stream",
     "text": [
      "RP3betaRecommender: Similarity column 38121 (100.0%), 1683.91 column/sec. Elapsed time 22.64 sec\n",
      "EvaluatorHoldout: Processed 35595 (100.0%) in 35.02 sec. Users per second: 1016\n"
     ]
    },
    {
     "name": "stderr",
     "output_type": "stream",
     "text": [
      "[I 2024-12-17 12:23:18,659] Trial 547 finished with value: 0.27026661392207596 and parameters: {'topK': 106, 'alpha': 0.2654728919404718, 'beta': 0.06911844714964371, 'normalize_similarity': True, 'implicit': True}. Best is trial 191 with value: 0.2757505849868378.\n"
     ]
    },
    {
     "name": "stdout",
     "output_type": "stream",
     "text": [
      "RP3betaRecommender: Similarity column 38121 (100.0%), 1998.52 column/sec. Elapsed time 19.07 sec\n",
      "EvaluatorHoldout: Processed 35595 (100.0%) in 37.29 sec. Users per second: 955\n"
     ]
    },
    {
     "name": "stderr",
     "output_type": "stream",
     "text": [
      "[I 2024-12-17 12:24:17,155] Trial 548 finished with value: 0.2700750300404206 and parameters: {'topK': 28, 'alpha': 0.33960841705269246, 'beta': 0.35697920692972784, 'normalize_similarity': True, 'implicit': True}. Best is trial 191 with value: 0.2757505849868378.\n"
     ]
    },
    {
     "name": "stdout",
     "output_type": "stream",
     "text": [
      "RP3betaRecommender: Similarity column 38121 (100.0%), 1811.46 column/sec. Elapsed time 21.04 sec\n",
      "EvaluatorHoldout: Processed 35595 (100.0%) in 39.55 sec. Users per second: 900\n"
     ]
    },
    {
     "name": "stderr",
     "output_type": "stream",
     "text": [
      "[I 2024-12-17 12:25:21,797] Trial 549 finished with value: 0.26471392469100935 and parameters: {'topK': 73, 'alpha': 0.4220128802115986, 'beta': 0.5237878661495794, 'normalize_similarity': True, 'implicit': True}. Best is trial 191 with value: 0.2757505849868378.\n"
     ]
    },
    {
     "name": "stdout",
     "output_type": "stream",
     "text": [
      "RP3betaRecommender: Similarity column 38121 (100.0%), 563.49 column/sec. Elapsed time 1.13 min\n",
      "EvaluatorHoldout: Processed 35595 (100.0%) in 59.28 sec. Users per second: 600\n"
     ]
    },
    {
     "name": "stderr",
     "output_type": "stream",
     "text": [
      "[I 2024-12-17 12:28:11,549] Trial 550 finished with value: 0.10398705650276192 and parameters: {'topK': 957, 'alpha': 0.592272770947257, 'beta': 1.5738853121403114, 'normalize_similarity': True, 'implicit': True}. Best is trial 191 with value: 0.2757505849868378.\n"
     ]
    },
    {
     "name": "stdout",
     "output_type": "stream",
     "text": [
      "RP3betaRecommender: Similarity column 38121 (100.0%), 1738.96 column/sec. Elapsed time 21.92 sec\n",
      "EvaluatorHoldout: Processed 35595 (100.0%) in 40.83 sec. Users per second: 872\n"
     ]
    },
    {
     "name": "stderr",
     "output_type": "stream",
     "text": [
      "[I 2024-12-17 12:29:18,827] Trial 551 finished with value: 0.2744239006129177 and parameters: {'topK': 91, 'alpha': 0.522715434298002, 'beta': 0.2719008104777504, 'normalize_similarity': True, 'implicit': False}. Best is trial 191 with value: 0.2757505849868378.\n"
     ]
    },
    {
     "name": "stdout",
     "output_type": "stream",
     "text": [
      "RP3betaRecommender: Similarity column 38121 (100.0%), 1590.70 column/sec. Elapsed time 23.96 sec\n",
      "EvaluatorHoldout: Processed 35595 (100.0%) in 40.61 sec. Users per second: 876\n"
     ]
    },
    {
     "name": "stderr",
     "output_type": "stream",
     "text": [
      "[I 2024-12-17 12:30:29,123] Trial 552 finished with value: 0.26953975417172493 and parameters: {'topK': 130, 'alpha': 0.7292764027422087, 'beta': 0.16233593486603437, 'normalize_similarity': True, 'implicit': True}. Best is trial 191 with value: 0.2757505849868378.\n"
     ]
    },
    {
     "name": "stdout",
     "output_type": "stream",
     "text": [
      "RP3betaRecommender: Similarity column 38121 (100.0%), 1881.97 column/sec. Elapsed time 20.26 sec\n",
      "EvaluatorHoldout: Processed 35595 (100.0%) in 37.25 sec. Users per second: 955\n"
     ]
    },
    {
     "name": "stderr",
     "output_type": "stream",
     "text": [
      "[I 2024-12-17 12:31:29,351] Trial 553 finished with value: 0.2746153151891202 and parameters: {'topK': 53, 'alpha': 0.2910419239018198, 'beta': 0.22197707658175211, 'normalize_similarity': True, 'implicit': True}. Best is trial 191 with value: 0.2757505849868378.\n"
     ]
    },
    {
     "name": "stdout",
     "output_type": "stream",
     "text": [
      "RP3betaRecommender: Similarity column 38121 (100.0%), 2057.95 column/sec. Elapsed time 18.52 sec\n",
      "EvaluatorHoldout: Processed 35595 (100.0%) in 35.82 sec. Users per second: 994\n"
     ]
    },
    {
     "name": "stderr",
     "output_type": "stream",
     "text": [
      "[I 2024-12-17 12:32:25,540] Trial 554 finished with value: 0.26843811178984933 and parameters: {'topK': 24, 'alpha': 0.20559544938766672, 'beta': 0.3153531147335963, 'normalize_similarity': True, 'implicit': True}. Best is trial 191 with value: 0.2757505849868378.\n"
     ]
    },
    {
     "name": "stdout",
     "output_type": "stream",
     "text": [
      "RP3betaRecommender: Similarity column 38121 (100.0%), 1631.30 column/sec. Elapsed time 23.37 sec\n",
      "EvaluatorHoldout: Processed 35595 (100.0%) in 38.58 sec. Users per second: 923\n"
     ]
    },
    {
     "name": "stderr",
     "output_type": "stream",
     "text": [
      "[I 2024-12-17 12:33:31,400] Trial 555 finished with value: 0.08588875468334631 and parameters: {'topK': 122, 'alpha': 0.37633489077200366, 'beta': 2.0509881964489862, 'normalize_similarity': True, 'implicit': True}. Best is trial 191 with value: 0.2757505849868378.\n"
     ]
    },
    {
     "name": "stdout",
     "output_type": "stream",
     "text": [
      "RP3betaRecommender: Similarity column 38121 (100.0%), 1791.70 column/sec. Elapsed time 21.28 sec\n",
      "EvaluatorHoldout: Processed 35595 (100.0%) in 38.07 sec. Users per second: 935\n"
     ]
    },
    {
     "name": "stderr",
     "output_type": "stream",
     "text": [
      "[I 2024-12-17 12:34:34,172] Trial 556 finished with value: 0.2736286050799626 and parameters: {'topK': 74, 'alpha': 0.43561835209356914, 'beta': 0.12646998205166782, 'normalize_similarity': True, 'implicit': True}. Best is trial 191 with value: 0.2757505849868378.\n"
     ]
    },
    {
     "name": "stdout",
     "output_type": "stream",
     "text": [
      "RP3betaRecommender: Similarity column 38121 (100.0%), 1903.83 column/sec. Elapsed time 20.02 sec\n",
      "EvaluatorHoldout: Processed 35595 (100.0%) in 35.57 sec. Users per second: 1001\n"
     ]
    },
    {
     "name": "stderr",
     "output_type": "stream",
     "text": [
      "[I 2024-12-17 12:35:31,573] Trial 557 finished with value: 0.06714433861465778 and parameters: {'topK': 53, 'alpha': 0.3314510667377698, 'beta': 2.694523400309332, 'normalize_similarity': True, 'implicit': True}. Best is trial 191 with value: 0.2757505849868378.\n"
     ]
    },
    {
     "name": "stdout",
     "output_type": "stream",
     "text": [
      "RP3betaRecommender: Similarity column 38121 (100.0%), 1688.43 column/sec. Elapsed time 22.58 sec\n",
      "EvaluatorHoldout: Processed 35595 (100.0%) in 37.74 sec. Users per second: 943\n"
     ]
    },
    {
     "name": "stderr",
     "output_type": "stream",
     "text": [
      "[I 2024-12-17 12:36:34,978] Trial 558 finished with value: 0.07501003831668003 and parameters: {'topK': 103, 'alpha': 0.2676855684104935, 'beta': 2.2142505943388557, 'normalize_similarity': False, 'implicit': True}. Best is trial 191 with value: 0.2757505849868378.\n"
     ]
    },
    {
     "name": "stdout",
     "output_type": "stream",
     "text": [
      "RP3betaRecommender: Similarity column 38121 (100.0%), 1505.22 column/sec. Elapsed time 25.33 sec\n",
      "EvaluatorHoldout: Processed 35595 (100.0%) in 42.11 sec. Users per second: 845\n"
     ]
    },
    {
     "name": "stderr",
     "output_type": "stream",
     "text": [
      "[I 2024-12-17 12:37:49,640] Trial 559 finished with value: 0.25926950808178667 and parameters: {'topK': 157, 'alpha': 0.12182608696097758, 'beta': 0.4696326420457041, 'normalize_similarity': True, 'implicit': True}. Best is trial 191 with value: 0.2757505849868378.\n"
     ]
    },
    {
     "name": "stdout",
     "output_type": "stream",
     "text": [
      "RP3betaRecommender: Similarity column 38121 (100.0%), 1788.16 column/sec. Elapsed time 21.32 sec\n",
      "EvaluatorHoldout: Processed 35595 (100.0%) in 39.01 sec. Users per second: 912\n"
     ]
    },
    {
     "name": "stderr",
     "output_type": "stream",
     "text": [
      "[I 2024-12-17 12:38:53,850] Trial 560 finished with value: 0.2746222041978853 and parameters: {'topK': 80, 'alpha': 0.46995741510180844, 'beta': 0.23613622495978037, 'normalize_similarity': True, 'implicit': True}. Best is trial 191 with value: 0.2757505849868378.\n"
     ]
    },
    {
     "name": "stdout",
     "output_type": "stream",
     "text": [
      "RP3betaRecommender: Similarity column 38121 (100.0%), 1726.28 column/sec. Elapsed time 22.08 sec\n",
      "EvaluatorHoldout: Processed 35595 (100.0%) in 32.42 sec. Users per second: 1098\n"
     ]
    },
    {
     "name": "stderr",
     "output_type": "stream",
     "text": [
      "[I 2024-12-17 12:39:49,398] Trial 561 finished with value: 0.19628932305298027 and parameters: {'topK': 3, 'alpha': 0.3880713733426065, 'beta': 0.3890351379017003, 'normalize_similarity': True, 'implicit': True}. Best is trial 191 with value: 0.2757505849868378.\n"
     ]
    },
    {
     "name": "stdout",
     "output_type": "stream",
     "text": [
      "RP3betaRecommender: Similarity column 38121 (100.0%), 691.66 column/sec. Elapsed time 55.12 sec\n",
      "EvaluatorHoldout: Processed 35595 (100.0%) in 54.07 sec. Users per second: 658\n"
     ]
    },
    {
     "name": "stderr",
     "output_type": "stream",
     "text": [
      "[I 2024-12-17 12:42:09,579] Trial 562 finished with value: 0.2560047332121234 and parameters: {'topK': 695, 'alpha': 0.32795053209753755, 'beta': 0.3037537860239516, 'normalize_similarity': True, 'implicit': True}. Best is trial 191 with value: 0.2757505849868378.\n"
     ]
    },
    {
     "name": "stdout",
     "output_type": "stream",
     "text": [
      "RP3betaRecommender: Similarity column 38121 (100.0%), 1965.26 column/sec. Elapsed time 19.40 sec\n",
      "EvaluatorHoldout: Processed 35595 (100.0%) in 37.26 sec. Users per second: 955\n"
     ]
    },
    {
     "name": "stderr",
     "output_type": "stream",
     "text": [
      "[I 2024-12-17 12:43:08,658] Trial 563 finished with value: 0.27298897292843305 and parameters: {'topK': 45, 'alpha': 0.20955329098626332, 'beta': 0.1903529523765406, 'normalize_similarity': True, 'implicit': True}. Best is trial 191 with value: 0.2757505849868378.\n"
     ]
    },
    {
     "name": "stdout",
     "output_type": "stream",
     "text": [
      "RP3betaRecommender: Similarity column 38121 (100.0%), 1595.50 column/sec. Elapsed time 23.89 sec\n",
      "EvaluatorHoldout: Processed 35595 (100.0%) in 41.06 sec. Users per second: 867\n"
     ]
    },
    {
     "name": "stderr",
     "output_type": "stream",
     "text": [
      "[I 2024-12-17 12:44:19,290] Trial 564 finished with value: 0.27322157326111807 and parameters: {'topK': 123, 'alpha': 0.5321710390802733, 'beta': 0.26113534972999597, 'normalize_similarity': True, 'implicit': False}. Best is trial 191 with value: 0.2757505849868378.\n"
     ]
    },
    {
     "name": "stdout",
     "output_type": "stream",
     "text": [
      "RP3betaRecommender: Similarity column 38121 (100.0%), 1744.59 column/sec. Elapsed time 21.85 sec\n",
      "EvaluatorHoldout: Processed 35595 (100.0%) in 34.92 sec. Users per second: 1019\n"
     ]
    },
    {
     "name": "stderr",
     "output_type": "stream",
     "text": [
      "[I 2024-12-17 12:45:19,745] Trial 565 finished with value: 0.2721805296762989 and parameters: {'topK': 88, 'alpha': 0.4084869157586337, 'beta': 0.07247523964067767, 'normalize_similarity': True, 'implicit': True}. Best is trial 191 with value: 0.2757505849868378.\n"
     ]
    },
    {
     "name": "stdout",
     "output_type": "stream",
     "text": [
      "RP3betaRecommender: Similarity column 38121 (100.0%), 2003.50 column/sec. Elapsed time 19.03 sec\n",
      "EvaluatorHoldout: Processed 35595 (100.0%) in 37.81 sec. Users per second: 941\n"
     ]
    },
    {
     "name": "stderr",
     "output_type": "stream",
     "text": [
      "[I 2024-12-17 12:46:18,745] Trial 566 finished with value: 0.20004039703496282 and parameters: {'topK': 31, 'alpha': 2.3248095571942944, 'beta': 0.3513506126326971, 'normalize_similarity': True, 'implicit': True}. Best is trial 191 with value: 0.2757505849868378.\n"
     ]
    },
    {
     "name": "stdout",
     "output_type": "stream",
     "text": [
      "RP3betaRecommender: Similarity column 38121 (100.0%), 1837.85 column/sec. Elapsed time 20.74 sec\n",
      "EvaluatorHoldout: Processed 35595 (100.0%) in 38.28 sec. Users per second: 930\n"
     ]
    },
    {
     "name": "stderr",
     "output_type": "stream",
     "text": [
      "[I 2024-12-17 12:47:20,846] Trial 567 finished with value: 0.2740508824706612 and parameters: {'topK': 64, 'alpha': 0.29797386031686857, 'beta': 0.16938895434512696, 'normalize_similarity': True, 'implicit': True}. Best is trial 191 with value: 0.2757505849868378.\n"
     ]
    },
    {
     "name": "stdout",
     "output_type": "stream",
     "text": [
      "RP3betaRecommender: Similarity column 38121 (100.0%), 1568.78 column/sec. Elapsed time 24.30 sec\n",
      "EvaluatorHoldout: Processed 35595 (100.0%) in 41.19 sec. Users per second: 864\n"
     ]
    },
    {
     "name": "stderr",
     "output_type": "stream",
     "text": [
      "[I 2024-12-17 12:48:32,672] Trial 568 finished with value: 0.2722842809731705 and parameters: {'topK': 142, 'alpha': 0.4710699993916396, 'beta': 0.232959759398183, 'normalize_similarity': True, 'implicit': True}. Best is trial 191 with value: 0.2757505849868378.\n"
     ]
    },
    {
     "name": "stdout",
     "output_type": "stream",
     "text": [
      "RP3betaRecommender: Similarity column 38121 (100.0%), 1699.58 column/sec. Elapsed time 22.43 sec\n",
      "EvaluatorHoldout: Processed 35595 (100.0%) in 39.65 sec. Users per second: 898\n"
     ]
    },
    {
     "name": "stderr",
     "output_type": "stream",
     "text": [
      "[I 2024-12-17 12:49:39,449] Trial 569 finished with value: 0.27400296592246 and parameters: {'topK': 99, 'alpha': 0.35787749856914863, 'beta': 0.2929513258392314, 'normalize_similarity': True, 'implicit': True}. Best is trial 191 with value: 0.2757505849868378.\n"
     ]
    },
    {
     "name": "stdout",
     "output_type": "stream",
     "text": [
      "RP3betaRecommender: Similarity column 38121 (100.0%), 1393.61 column/sec. Elapsed time 27.35 sec\n",
      "EvaluatorHoldout: Processed 35595 (100.0%) in 41.65 sec. Users per second: 855\n"
     ]
    },
    {
     "name": "stderr",
     "output_type": "stream",
     "text": [
      "[I 2024-12-17 12:50:56,105] Trial 570 finished with value: 0.2659656157453465 and parameters: {'topK': 188, 'alpha': 0.24444338814330607, 'beta': 0.1176895160727725, 'normalize_similarity': True, 'implicit': True}. Best is trial 191 with value: 0.2757505849868378.\n"
     ]
    },
    {
     "name": "stdout",
     "output_type": "stream",
     "text": [
      "RP3betaRecommender: Similarity column 38121 (100.0%), 1868.52 column/sec. Elapsed time 20.40 sec\n",
      "EvaluatorHoldout: Processed 35595 (100.0%) in 38.86 sec. Users per second: 916\n"
     ]
    },
    {
     "name": "stderr",
     "output_type": "stream",
     "text": [
      "[I 2024-12-17 12:51:58,874] Trial 571 finished with value: 0.271179454649022 and parameters: {'topK': 57, 'alpha': 0.3683917470120015, 'beta': 0.4306363601034465, 'normalize_similarity': True, 'implicit': True}. Best is trial 191 with value: 0.2757505849868378.\n"
     ]
    },
    {
     "name": "stdout",
     "output_type": "stream",
     "text": [
      "RP3betaRecommender: Similarity column 38121 (100.0%), 1199.10 column/sec. Elapsed time 31.79 sec\n",
      "EvaluatorHoldout: Processed 35595 (100.0%) in 46.12 sec. Users per second: 772\n"
     ]
    },
    {
     "name": "stderr",
     "output_type": "stream",
     "text": [
      "[I 2024-12-17 12:53:27,902] Trial 572 finished with value: 0.2655455601266822 and parameters: {'topK': 258, 'alpha': 0.4444870464233209, 'beta': 0.2014417827483594, 'normalize_similarity': True, 'implicit': True}. Best is trial 191 with value: 0.2757505849868378.\n"
     ]
    },
    {
     "name": "stdout",
     "output_type": "stream",
     "text": [
      "RP3betaRecommender: Similarity column 38121 (100.0%), 2047.27 column/sec. Elapsed time 18.62 sec\n",
      "EvaluatorHoldout: Processed 35595 (100.0%) in 37.16 sec. Users per second: 958\n"
     ]
    },
    {
     "name": "stderr",
     "output_type": "stream",
     "text": [
      "[I 2024-12-17 12:54:25,652] Trial 573 finished with value: 0.2682623671537583 and parameters: {'topK': 24, 'alpha': 0.29116619097061247, 'beta': 0.3566205111002668, 'normalize_similarity': True, 'implicit': True}. Best is trial 191 with value: 0.2757505849868378.\n"
     ]
    },
    {
     "name": "stdout",
     "output_type": "stream",
     "text": [
      "RP3betaRecommender: Similarity column 38121 (100.0%), 1639.57 column/sec. Elapsed time 23.25 sec\n",
      "EvaluatorHoldout: Processed 35595 (100.0%) in 40.53 sec. Users per second: 878\n"
     ]
    },
    {
     "name": "stderr",
     "output_type": "stream",
     "text": [
      "[I 2024-12-17 12:55:34,533] Trial 574 finished with value: 0.2699497703551767 and parameters: {'topK': 111, 'alpha': 0.15298546152064835, 'beta': 0.2914394137917484, 'normalize_similarity': True, 'implicit': False}. Best is trial 191 with value: 0.2757505849868378.\n"
     ]
    },
    {
     "name": "stdout",
     "output_type": "stream",
     "text": [
      "RP3betaRecommender: Similarity column 38121 (100.0%), 1781.64 column/sec. Elapsed time 21.40 sec\n",
      "EvaluatorHoldout: Processed 35595 (100.0%) in 38.50 sec. Users per second: 925\n"
     ]
    },
    {
     "name": "stderr",
     "output_type": "stream",
     "text": [
      "[I 2024-12-17 12:56:38,094] Trial 575 finished with value: 0.2752756366206117 and parameters: {'topK': 74, 'alpha': 0.4077478179020689, 'beta': 0.24260417793613448, 'normalize_similarity': True, 'implicit': True}. Best is trial 191 with value: 0.2757505849868378.\n"
     ]
    },
    {
     "name": "stdout",
     "output_type": "stream",
     "text": [
      "RP3betaRecommender: Similarity column 38121 (100.0%), 1898.27 column/sec. Elapsed time 20.08 sec\n",
      "EvaluatorHoldout: Processed 35595 (100.0%) in 37.40 sec. Users per second: 952\n"
     ]
    },
    {
     "name": "stderr",
     "output_type": "stream",
     "text": [
      "[I 2024-12-17 12:57:38,161] Trial 576 finished with value: 0.27343529295622215 and parameters: {'topK': 50, 'alpha': 0.3462376491644152, 'beta': 0.15094764079561504, 'normalize_similarity': True, 'implicit': True}. Best is trial 191 with value: 0.2757505849868378.\n"
     ]
    },
    {
     "name": "stdout",
     "output_type": "stream",
     "text": [
      "RP3betaRecommender: Similarity column 38121 (100.0%), 1024.75 column/sec. Elapsed time 37.20 sec\n",
      "EvaluatorHoldout: Processed 35595 (100.0%) in 47.63 sec. Users per second: 747\n"
     ]
    },
    {
     "name": "stderr",
     "output_type": "stream",
     "text": [
      "[I 2024-12-17 12:59:19,087] Trial 577 finished with value: 0.2514965393824011 and parameters: {'topK': 356, 'alpha': 0.5232441114664995, 'beta': 0.2570982986955611, 'normalize_similarity': False, 'implicit': True}. Best is trial 191 with value: 0.2757505849868378.\n"
     ]
    },
    {
     "name": "stdout",
     "output_type": "stream",
     "text": [
      "RP3betaRecommender: Similarity column 38121 (100.0%), 1871.88 column/sec. Elapsed time 20.37 sec\n",
      "EvaluatorHoldout: Processed 35595 (100.0%) in 37.61 sec. Users per second: 946\n"
     ]
    },
    {
     "name": "stderr",
     "output_type": "stream",
     "text": [
      "[I 2024-12-17 13:00:19,992] Trial 578 finished with value: 0.26879747266928755 and parameters: {'topK': 74, 'alpha': 0.2730545068448378, 'beta': 0.00045714940595317777, 'normalize_similarity': True, 'implicit': True}. Best is trial 191 with value: 0.2757505849868378.\n"
     ]
    },
    {
     "name": "stdout",
     "output_type": "stream",
     "text": [
      "RP3betaRecommender: Similarity column 38121 (100.0%), 2011.41 column/sec. Elapsed time 18.95 sec\n",
      "EvaluatorHoldout: Processed 35595 (100.0%) in 37.10 sec. Users per second: 959\n"
     ]
    },
    {
     "name": "stderr",
     "output_type": "stream",
     "text": [
      "[I 2024-12-17 13:01:18,334] Trial 579 finished with value: 0.27162794949133906 and parameters: {'topK': 33, 'alpha': 0.41479940695243706, 'beta': 0.3384178893466575, 'normalize_similarity': True, 'implicit': True}. Best is trial 191 with value: 0.2757505849868378.\n"
     ]
    },
    {
     "name": "stdout",
     "output_type": "stream",
     "text": [
      "RP3betaRecommender: Similarity column 38121 (100.0%), 1808.93 column/sec. Elapsed time 21.07 sec\n",
      "EvaluatorHoldout: Processed 35595 (100.0%) in 38.94 sec. Users per second: 914\n"
     ]
    },
    {
     "name": "stderr",
     "output_type": "stream",
     "text": [
      "[I 2024-12-17 13:02:22,203] Trial 580 finished with value: 0.27278137095296473 and parameters: {'topK': 79, 'alpha': 0.6191870846568788, 'beta': 0.19703411678929114, 'normalize_similarity': True, 'implicit': True}. Best is trial 191 with value: 0.2757505849868378.\n"
     ]
    },
    {
     "name": "stdout",
     "output_type": "stream",
     "text": [
      "RP3betaRecommender: Similarity column 38121 (100.0%), 2128.48 column/sec. Elapsed time 17.91 sec\n",
      "EvaluatorHoldout: Processed 35595 (100.0%) in 31.45 sec. Users per second: 1132\n"
     ]
    },
    {
     "name": "stderr",
     "output_type": "stream",
     "text": [
      "[I 2024-12-17 13:03:12,532] Trial 581 finished with value: 0.15795840903314526 and parameters: {'topK': 2, 'alpha': 0.21858462214660718, 'beta': 0.29935678054632364, 'normalize_similarity': True, 'implicit': True}. Best is trial 191 with value: 0.2757505849868378.\n"
     ]
    },
    {
     "name": "stdout",
     "output_type": "stream",
     "text": [
      "RP3betaRecommender: Similarity column 38121 (100.0%), 1624.03 column/sec. Elapsed time 23.47 sec\n",
      "EvaluatorHoldout: Processed 35595 (100.0%) in 35.60 sec. Users per second: 1000\n"
     ]
    },
    {
     "name": "stderr",
     "output_type": "stream",
     "text": [
      "[I 2024-12-17 13:04:16,550] Trial 582 finished with value: 0.2705281164422434 and parameters: {'topK': 120, 'alpha': 0.32250845134744655, 'beta': 0.09494113341948535, 'normalize_similarity': True, 'implicit': True}. Best is trial 191 with value: 0.2757505849868378.\n"
     ]
    },
    {
     "name": "stdout",
     "output_type": "stream",
     "text": [
      "RP3betaRecommender: Similarity column 38121 (100.0%), 1915.95 column/sec. Elapsed time 19.90 sec\n",
      "EvaluatorHoldout: Processed 35595 (100.0%) in 38.54 sec. Users per second: 924\n"
     ]
    },
    {
     "name": "stderr",
     "output_type": "stream",
     "text": [
      "[I 2024-12-17 13:05:18,232] Trial 583 finished with value: 0.27217988697564677 and parameters: {'topK': 52, 'alpha': 0.4826143392605348, 'beta': 0.40498537012194347, 'normalize_similarity': True, 'implicit': True}. Best is trial 191 with value: 0.2757505849868378.\n"
     ]
    },
    {
     "name": "stdout",
     "output_type": "stream",
     "text": [
      "RP3betaRecommender: Similarity column 38121 (100.0%), 1730.70 column/sec. Elapsed time 22.03 sec\n",
      "EvaluatorHoldout: Processed 35595 (100.0%) in 39.95 sec. Users per second: 891\n"
     ]
    },
    {
     "name": "stderr",
     "output_type": "stream",
     "text": [
      "[I 2024-12-17 13:06:24,873] Trial 584 finished with value: 0.2747621958041355 and parameters: {'topK': 98, 'alpha': 0.3785962064743935, 'beta': 0.24316931490793264, 'normalize_similarity': True, 'implicit': True}. Best is trial 191 with value: 0.2757505849868378.\n"
     ]
    },
    {
     "name": "stdout",
     "output_type": "stream",
     "text": [
      "RP3betaRecommender: Similarity column 38121 (100.0%), 1992.64 column/sec. Elapsed time 19.13 sec\n",
      "EvaluatorHoldout: Processed 35595 (100.0%) in 36.04 sec. Users per second: 988\n"
     ]
    },
    {
     "name": "stderr",
     "output_type": "stream",
     "text": [
      "[I 2024-12-17 13:07:22,004] Trial 585 finished with value: 0.27025945512746175 and parameters: {'topK': 32, 'alpha': 0.4544628171390087, 'beta': 0.16781924715664015, 'normalize_similarity': True, 'implicit': True}. Best is trial 191 with value: 0.2757505849868378.\n"
     ]
    },
    {
     "name": "stdout",
     "output_type": "stream",
     "text": [
      "RP3betaRecommender: Similarity column 38121 (100.0%), 1739.08 column/sec. Elapsed time 21.92 sec\n",
      "EvaluatorHoldout: Processed 35595 (100.0%) in 40.37 sec. Users per second: 882\n"
     ]
    },
    {
     "name": "stderr",
     "output_type": "stream",
     "text": [
      "[I 2024-12-17 13:08:28,444] Trial 586 finished with value: 0.22351733707221133 and parameters: {'topK': 78, 'alpha': 2.0164597507530155, 'beta': 0.2892183452841406, 'normalize_similarity': True, 'implicit': True}. Best is trial 191 with value: 0.2757505849868378.\n"
     ]
    },
    {
     "name": "stdout",
     "output_type": "stream",
     "text": [
      "RP3betaRecommender: Similarity column 38121 (100.0%), 1536.42 column/sec. Elapsed time 24.81 sec\n",
      "EvaluatorHoldout: Processed 35595 (100.0%) in 42.27 sec. Users per second: 842\n"
     ]
    },
    {
     "name": "stderr",
     "output_type": "stream",
     "text": [
      "[I 2024-12-17 13:09:42,350] Trial 587 finished with value: 0.270243731243973 and parameters: {'topK': 143, 'alpha': 0.3201150284952782, 'beta': 0.3558349576917688, 'normalize_similarity': True, 'implicit': False}. Best is trial 191 with value: 0.2757505849868378.\n"
     ]
    },
    {
     "name": "stdout",
     "output_type": "stream",
     "text": [
      "RP3betaRecommender: Similarity column 38121 (100.0%), 1827.80 column/sec. Elapsed time 20.86 sec\n",
      "EvaluatorHoldout: Processed 35595 (100.0%) in 38.41 sec. Users per second: 927\n"
     ]
    },
    {
     "name": "stderr",
     "output_type": "stream",
     "text": [
      "[I 2024-12-17 13:10:44,935] Trial 588 finished with value: 0.2733873087136217 and parameters: {'topK': 59, 'alpha': 0.554729128439949, 'beta': 0.21615745137382777, 'normalize_similarity': True, 'implicit': True}. Best is trial 191 with value: 0.2757505849868378.\n"
     ]
    },
    {
     "name": "stdout",
     "output_type": "stream",
     "text": [
      "RP3betaRecommender: Similarity column 38121 (100.0%), 1671.94 column/sec. Elapsed time 22.80 sec\n",
      "EvaluatorHoldout: Processed 35595 (100.0%) in 39.38 sec. Users per second: 904\n"
     ]
    },
    {
     "name": "stderr",
     "output_type": "stream",
     "text": [
      "[I 2024-12-17 13:11:51,726] Trial 589 finished with value: 0.271367833869497 and parameters: {'topK': 111, 'alpha': 0.2544031917123022, 'beta': 0.1316480464834843, 'normalize_similarity': True, 'implicit': True}. Best is trial 191 with value: 0.2757505849868378.\n"
     ]
    },
    {
     "name": "stdout",
     "output_type": "stream",
     "text": [
      "RP3betaRecommender: Similarity column 38121 (100.0%), 2132.04 column/sec. Elapsed time 17.88 sec\n",
      "EvaluatorHoldout: Processed 35595 (100.0%) in 31.05 sec. Users per second: 1146\n"
     ]
    },
    {
     "name": "stderr",
     "output_type": "stream",
     "text": [
      "[I 2024-12-17 13:12:41,652] Trial 590 finished with value: 0.15348195630952316 and parameters: {'topK': 2, 'alpha': 0.38746569240613415, 'beta': 0.25533195314534557, 'normalize_similarity': True, 'implicit': True}. Best is trial 191 with value: 0.2757505849868378.\n"
     ]
    },
    {
     "name": "stdout",
     "output_type": "stream",
     "text": [
      "RP3betaRecommender: Similarity column 38121 (100.0%), 613.12 column/sec. Elapsed time 1.04 min\n",
      "EvaluatorHoldout: Processed 35595 (100.0%) in 55.43 sec. Users per second: 642\n"
     ]
    },
    {
     "name": "stderr",
     "output_type": "stream",
     "text": [
      "[I 2024-12-17 13:15:14,898] Trial 591 finished with value: 0.2433684327529346 and parameters: {'topK': 841, 'alpha': 0.18173418189471627, 'beta': 0.1882305585627379, 'normalize_similarity': True, 'implicit': True}. Best is trial 191 with value: 0.2757505849868378.\n"
     ]
    },
    {
     "name": "stdout",
     "output_type": "stream",
     "text": [
      "RP3betaRecommender: Similarity column 38121 (100.0%), 1795.48 column/sec. Elapsed time 21.23 sec\n",
      "EvaluatorHoldout: Processed 35595 (100.0%) in 39.77 sec. Users per second: 895\n"
     ]
    },
    {
     "name": "stderr",
     "output_type": "stream",
     "text": [
      "[I 2024-12-17 13:16:20,057] Trial 592 finished with value: 0.2748542629420802 and parameters: {'topK': 77, 'alpha': 0.3441776349579502, 'beta': 0.31776704122805755, 'normalize_similarity': True, 'implicit': True}. Best is trial 191 with value: 0.2757505849868378.\n"
     ]
    },
    {
     "name": "stdout",
     "output_type": "stream",
     "text": [
      "RP3betaRecommender: Similarity column 38121 (100.0%), 1470.92 column/sec. Elapsed time 25.92 sec\n",
      "EvaluatorHoldout: Processed 35595 (100.0%) in 42.81 sec. Users per second: 831\n"
     ]
    },
    {
     "name": "stderr",
     "output_type": "stream",
     "text": [
      "[I 2024-12-17 13:17:37,042] Trial 593 finished with value: 0.26826899878594473 and parameters: {'topK': 163, 'alpha': 0.4383824465591488, 'beta': 0.4087391040151123, 'normalize_similarity': True, 'implicit': True}. Best is trial 191 with value: 0.2757505849868378.\n"
     ]
    },
    {
     "name": "stdout",
     "output_type": "stream",
     "text": [
      "RP3betaRecommender: Similarity column 38121 (100.0%), 1933.39 column/sec. Elapsed time 19.72 sec\n",
      "EvaluatorHoldout: Processed 35595 (100.0%) in 36.34 sec. Users per second: 979\n"
     ]
    },
    {
     "name": "stderr",
     "output_type": "stream",
     "text": [
      "[I 2024-12-17 13:18:35,161] Trial 594 finished with value: 0.26920315604396494 and parameters: {'topK': 40, 'alpha': 0.28885168010292606, 'beta': 0.054872540993581076, 'normalize_similarity': True, 'implicit': True}. Best is trial 191 with value: 0.2757505849868378.\n"
     ]
    },
    {
     "name": "stdout",
     "output_type": "stream",
     "text": [
      "RP3betaRecommender: Similarity column 38121 (100.0%), 1675.20 column/sec. Elapsed time 22.76 sec\n",
      "EvaluatorHoldout: Processed 35595 (100.0%) in 39.76 sec. Users per second: 895\n"
     ]
    },
    {
     "name": "stderr",
     "output_type": "stream",
     "text": [
      "[I 2024-12-17 13:19:42,510] Trial 595 finished with value: 0.2742947082551477 and parameters: {'topK': 102, 'alpha': 0.4925600835810161, 'beta': 0.2439123857332645, 'normalize_similarity': True, 'implicit': True}. Best is trial 191 with value: 0.2757505849868378.\n"
     ]
    },
    {
     "name": "stdout",
     "output_type": "stream",
     "text": [
      "RP3betaRecommender: Similarity column 38121 (100.0%), 1581.52 column/sec. Elapsed time 24.10 sec\n",
      "EvaluatorHoldout: Processed 35595 (100.0%) in 40.43 sec. Users per second: 880\n"
     ]
    },
    {
     "name": "stderr",
     "output_type": "stream",
     "text": [
      "[I 2024-12-17 13:20:52,555] Trial 596 finished with value: 0.239809573799941 and parameters: {'topK': 134, 'alpha': 0.40219956888794567, 'beta': 0.1338345922180465, 'normalize_similarity': False, 'implicit': True}. Best is trial 191 with value: 0.2757505849868378.\n"
     ]
    },
    {
     "name": "stdout",
     "output_type": "stream",
     "text": [
      "RP3betaRecommender: Similarity column 38121 (100.0%), 1841.55 column/sec. Elapsed time 20.70 sec\n",
      "EvaluatorHoldout: Processed 35595 (100.0%) in 38.50 sec. Users per second: 924\n"
     ]
    },
    {
     "name": "stderr",
     "output_type": "stream",
     "text": [
      "[I 2024-12-17 13:21:55,226] Trial 597 finished with value: 0.2741588493307767 and parameters: {'topK': 66, 'alpha': 0.2360111505711761, 'beta': 0.3341665708594467, 'normalize_similarity': True, 'implicit': False}. Best is trial 191 with value: 0.2757505849868378.\n"
     ]
    },
    {
     "name": "stdout",
     "output_type": "stream",
     "text": [
      "RP3betaRecommender: Similarity column 38121 (100.0%), 2068.17 column/sec. Elapsed time 18.43 sec\n",
      "EvaluatorHoldout: Processed 35595 (100.0%) in 36.23 sec. Users per second: 983\n"
     ]
    },
    {
     "name": "stderr",
     "output_type": "stream",
     "text": [
      "[I 2024-12-17 13:22:51,645] Trial 598 finished with value: 0.23477351678885983 and parameters: {'topK': 22, 'alpha': 1.5403379826749404, 'beta': 0.1843793554548328, 'normalize_similarity': True, 'implicit': True}. Best is trial 191 with value: 0.2757505849868378.\n"
     ]
    },
    {
     "name": "stdout",
     "output_type": "stream",
     "text": [
      "RP3betaRecommender: Similarity column 38121 (100.0%), 1706.34 column/sec. Elapsed time 22.34 sec\n",
      "EvaluatorHoldout: Processed 35595 (100.0%) in 40.26 sec. Users per second: 884\n"
     ]
    },
    {
     "name": "stderr",
     "output_type": "stream",
     "text": [
      "[I 2024-12-17 13:23:58,961] Trial 599 finished with value: 0.2744263738911508 and parameters: {'topK': 97, 'alpha': 0.35088155588963355, 'beta': 0.2773564653388497, 'normalize_similarity': True, 'implicit': True}. Best is trial 191 with value: 0.2757505849868378.\n"
     ]
    }
   ],
   "source": [
    "if config['tune_parameters']:\n",
    "    \n",
    "    optuna_study = optuna.create_study(direction='maximize', study_name=f'hyperparameters_tuning_{config[\"model\"]}_{config[\"metric\"]}',\n",
    "                                storage=f'sqlite:///{config[\"database_path\"]}', load_if_exists=True)\n",
    "\n",
    "    optuna_study.optimize(objective_function_RP3beta, n_trials=200)"
   ]
  },
  {
   "cell_type": "markdown",
   "id": "e8f58a4b",
   "metadata": {
    "papermill": {
     "duration": 0.045909,
     "end_time": "2024-12-17T13:23:59.063083",
     "exception": false,
     "start_time": "2024-12-17T13:23:59.017174",
     "status": "completed"
    },
    "tags": []
   },
   "source": [
    "## Some optuna visualizations on recommender parameters"
   ]
  },
  {
   "cell_type": "code",
   "execution_count": 14,
   "id": "cb1436f3",
   "metadata": {
    "execution": {
     "iopub.execute_input": "2024-12-17T13:23:59.158294Z",
     "iopub.status.busy": "2024-12-17T13:23:59.157881Z",
     "iopub.status.idle": "2024-12-17T13:24:00.809978Z",
     "shell.execute_reply": "2024-12-17T13:24:00.808771Z"
    },
    "papermill": {
     "duration": 1.703949,
     "end_time": "2024-12-17T13:24:00.812632",
     "exception": false,
     "start_time": "2024-12-17T13:23:59.108683",
     "status": "completed"
    },
    "tags": []
   },
   "outputs": [
    {
     "data": {
      "text/html": [
       "        <script type=\"text/javascript\">\n",
       "        window.PlotlyConfig = {MathJaxConfig: 'local'};\n",
       "        if (window.MathJax && window.MathJax.Hub && window.MathJax.Hub.Config) {window.MathJax.Hub.Config({SVG: {font: \"STIX-Web\"}});}\n",
       "        if (typeof require !== 'undefined') {\n",
       "        require.undef(\"plotly\");\n",
       "        requirejs.config({\n",
       "            paths: {\n",
       "                'plotly': ['https://cdn.plot.ly/plotly-2.32.0.min']\n",
       "            }\n",
       "        });\n",
       "        require(['plotly'], function(Plotly) {\n",
       "            window._Plotly = Plotly;\n",
       "        });\n",
       "        }\n",
       "        </script>\n",
       "        "
      ]
     },
     "metadata": {},
     "output_type": "display_data"
    },
    {
     "data": {
      "text/html": [
       "<div>                            <div id=\"3626a939-40bb-4bcc-83ac-25446a88cf27\" class=\"plotly-graph-div\" style=\"height:525px; width:1500px;\"></div>            <script type=\"text/javascript\">                require([\"plotly\"], function(Plotly) {                    window.PLOTLYENV=window.PLOTLYENV || {};                                    if (document.getElementById(\"3626a939-40bb-4bcc-83ac-25446a88cf27\")) {                    Plotly.newPlot(                        \"3626a939-40bb-4bcc-83ac-25446a88cf27\",                        [{\"marker\":{\"color\":[0,1,2,3,4,5,6,7,8,9,10,11,12,13,14,15,16,17,18,19,20,21,22,23,24,25,26,27,28,29,30,31,32,33,34,35,36,37,38,39,40,41,42,43,44,45,46,47,48,49,50,51,52,53,54,55,56,57,58,59,60,61,62,63,64,65,66,67,68,69,70,71,72,73,74,75,76,77,78,79,80,81,82,83,84,85,86,87,88,89,90,91,92,93,94,95,96,97,98,99,100,101,102,103,104,105,106,107,108,109,110,111,112,113,114,115,116,117,118,119,120,121,122,123,124,125,126,127,128,129,130,131,132,133,134,135,136,137,138,139,140,141,142,143,144,145,146,147,148,149,150,151,152,153,154,155,156,157,158,159,160,161,162,163,164,165,166,167,168,169,170,171,172,173,174,175,176,177,178,179,180,181,182,183,184,185,186,187,188,189,190,191,192,193,194,195,196,197,198,199,200,201,202,203,204,205,206,207,208,209,210,211,212,213,214,215,216,217,218,219,220,221,222,223,224,225,226,227,228,229,230,231,232,233,234,235,236,237,238,239,240,241,242,243,244,245,246,247,248,249,250,251,252,253,254,255,256,257,258,259,260,261,262,263,264,265,266,267,268,269,270,271,272,273,274,275,276,277,278,279,280,281,282,283,284,285,286,287,288,289,290,291,292,293,294,295,296,297,298,299,300,301,302,303,304,305,306,307,308,309,310,311,312,313,314,315,316,317,318,319,320,321,322,323,324,325,326,327,328,329,330,331,332,333,334,335,336,337,338,339,340,341,342,343,344,345,346,347,348,349,350,351,352,353,354,355,356,357,358,359,360,361,362,363,364,365,366,367,368,369,370,371,372,373,374,375,376,377,378,379,380,381,382,383,384,385,386,387,388,389,390,391,392,393,394,395,396,397,398,399,400,401,402,403,404,405,406,407,408,409,410,411,412,413,414,415,416,417,418,419,420,421,422,423,424,425,426,427,428,429,430,431,432,433,434,435,436,437,438,439,440,441,442,443,444,445,446,447,448,449,450,451,452,453,454,455,456,457,458,459,460,461,462,463,464,465,466,467,468,469,470,471,472,473,474,475,476,477,478,479,480,481,482,483,484,485,486,487,488,489,490,491,492,493,494,495,496,497,498,499,500,501,502,503,504,505,506,507,508,509,510,511,512,513,514,515,516,517,518,519,520,521,522,523,524,525,526,527,528,529,530,531,532,533,534,535,536,537,538,539,540,541,542,543,544,545,546,547,548,549,550,551,552,553,554,555,556,557,558,559,560,561,562,563,564,565,566,567,568,569,570,571,572,573,574,575,576,577,578,579,580,581,582,583,584,585,586,587,588,589,590,591,592,593,594,595,596,597,598,599],\"colorbar\":{\"title\":{\"text\":\"Trial\"},\"x\":1.0,\"xpad\":40},\"colorscale\":[[0.0,\"rgb(247,251,255)\"],[0.125,\"rgb(222,235,247)\"],[0.25,\"rgb(198,219,239)\"],[0.375,\"rgb(158,202,225)\"],[0.5,\"rgb(107,174,214)\"],[0.625,\"rgb(66,146,198)\"],[0.75,\"rgb(33,113,181)\"],[0.875,\"rgb(8,81,156)\"],[1.0,\"rgb(8,48,107)\"]],\"line\":{\"color\":\"Grey\",\"width\":0.5},\"showscale\":true},\"mode\":\"markers\",\"name\":\"Feasible Trial\",\"showlegend\":false,\"x\":[0.6842933111707797,2.7790952329464527,1.7067858787857335,0.08735907408408583,2.549235108607817,2.2575367053624023,1.6521958054205281,2.305417285762639,1.746946434975432,0.08732837704539587,2.717420708088634,2.8612235438411924,2.984792976473483,1.0256104784482591,1.0290459661276423,1.0876748637151383,0.9706440884073295,1.2458650018551618,0.548676980278768,0.5798504522704576,1.3390854427683583,1.3436940160407234,0.8545033013911831,1.970988292314554,1.3491473240230862,0.3121339841712707,1.135310716589425,1.4736747324148998,0.8017904242072206,0.40580206396600815,1.926235428132175,1.3391832187970594,0.923155180349764,0.757670472343916,0.7206053518329625,0.7005658050642576,0.7153312838281901,0.39305135567063365,0.25550991548935476,0.6138137340895026,0.5847369283879368,0.6818910222528388,0.8865553433993096,0.9116380783704365,0.16878461938751732,0.5504142538805139,0.4424850425720553,0.1488117220663337,0.005625711269465317,0.5485218769385043,1.114000574737778,0.9282390709937408,0.640633740296181,0.47678224748262465,0.6776755617701676,0.3065706983090052,0.8833093240353125,1.1760746063957639,1.0156444516242658,0.622402751485815,0.8167292220847582,0.8220867460019881,0.84322134265559,0.5018248596132917,0.48748485427668464,0.7923292639836853,0.3276279771200636,0.23740565015526416,0.16773986145972708,0.18681390003098225,0.0046459525638849475,0.030014024213044083,0.33972101168825725,0.3396437570488936,0.26451936556307293,0.3367488396772321,0.0882893822042918,0.234179064567552,0.13071930184667588,0.08645528318327315,0.12910051408405554,0.0795133363837418,0.10692011918081007,0.09350176829976635,0.098773101006079,0.11041305295008595,0.10547371838231298,0.2121838261430929,0.09107305108498412,0.4094799481753313,0.26665887772915486,0.367417418073104,0.04961078487994268,0.06172688530134311,0.049218612017301086,0.047945244554041935,0.17376127330629348,0.1816325154300488,0.18013924263762482,0.15378984070527257,0.27655109968079006,2.34637802566666,0.007685230544101959,0.1449154055827341,0.06034726103698385,0.2074404991722025,0.4284118653982296,0.20062532659791307,0.42884740690965995,0.43541061876742637,0.20808380162906628,0.19509854477002123,1.643511097682806,0.2430599373256552,0.28528371541082265,0.3875261410650017,0.3889453085774565,0.522769052182095,0.2951131942684535,0.5130533363822334,0.5411962636279632,0.2745635069048404,0.48120991675889113,0.2945147085282961,0.37235923436033014,0.3773493192624401,0.5190302646259634,0.25739872657852697,0.5987458192852204,0.4498172748869592,0.5655126476979389,0.32502731662560935,0.3742386065557858,0.6579922341243858,0.6035660830415684,0.38247444693596144,0.49855415850556456,0.24966639976527527,0.447006732144708,0.44853116347658983,0.4144448927690557,0.4359074500728897,0.4552047235866496,0.34880227147468656,0.3530154999294918,0.3117773208367383,0.2434301555886041,0.354551778102284,0.24069446411112005,0.37517032350994967,0.3129056635392348,0.4520914806254288,1.9889712671159736,0.35527240134383187,0.49890294055034135,0.34848541492799406,0.45165157785319626,0.5623069683593764,0.26407251523231706,0.40767260498436575,0.31157704755788396,0.23928426463705288,0.36899151355629545,2.659475617059515,0.3722232847074255,0.4684643009115103,0.3786558452410987,0.5262083609711946,0.38560351100340545,0.3097624216744505,0.45126053213275064,0.24527431953395767,0.34851260326390815,0.3013484747447839,0.41165176858428565,0.4290511780100632,0.27042890498463323,0.37365889684360964,0.23988775568278173,0.46815717848192356,0.6092012888475287,0.5156823458746543,0.3362756773218905,0.39429926192845083,0.4167446503568797,0.28210130211308015,0.41796049072829905,0.42193453703635736,0.47772894537926364,0.41124071464932466,0.5790415657304604,0.3304167572370963,0.3471416434792305,0.32576072011932405,0.3324445933064746,0.4326093152082561,0.3312965278084388,0.4861538017476055,0.3974926645267291,0.7127339353621707,0.2953779786188043,0.2012752847668596,1.4675529234618665,0.35015033660640954,0.36161634078019417,0.4442371425505861,0.4211390798282728,0.5010370022098672,0.42271901845478915,0.5695906848612715,0.38358121492441744,0.4580944085594427,0.47281877136259115,0.41372921724155454,0.29400808720090355,0.3891397329269022,0.5304972576327293,0.33602661432368663,0.4126826484651065,0.2637722892318164,0.3507023943103727,0.4611811178587126,0.43945762152825824,0.5206841558183177,0.390906602849746,0.46936507691968543,0.29521889328272277,0.3609509494126853,0.421244749296922,0.22032774080088607,0.5389232311280961,0.4503043464847132,0.3467239013782281,0.4635744285506048,0.6397647515045298,0.41079212096198614,0.2914414413878901,0.4858459346659234,0.3604929517281317,0.4224048689887181,0.28050353771417136,0.30014108135452583,0.31370014149350095,0.30650780877052175,0.329490335415522,0.17216317553480032,0.26897790885755,0.3573720821316059,0.29695566854511196,0.3851186954100507,0.20222930124974317,0.47028885681486265,2.0708673147156778,1.2052990221396218,0.37041541818230994,0.5548990277350471,1.7437031940704337,2.930697835701213,0.24692730038090563,0.32599229073683833,0.4364820273271974,0.4982118444470414,0.393627665532086,0.270856328127562,0.32288175665233576,0.44385191867625384,0.38470643614869615,0.22220519516867115,0.49995223670428524,0.32264750324988156,0.4034041235497793,0.5452340157826487,0.2802819339295077,0.1748852609172823,0.4581137016234226,0.351425171498118,0.4044297791425661,0.2691627320353403,0.22462571032928452,0.6026090225272396,0.46036812002894356,0.34658922720202956,0.2690479665406047,0.16859217040294658,0.352035697412755,0.2735483743708557,0.3650893839227954,0.34839183365947507,0.20608292219357255,0.29398923906648183,0.3720955462232125,0.3168484277273326,0.24251687478176004,0.4052501419828717,0.14740522663323116,2.4305490193245447,1.0628138919370307,0.5093955970325947,1.289891898773134,0.3472842216252646,0.4225248326219589,0.2595530860052794,0.37046616435375035,0.2984184882080228,0.4702370532767293,0.4036203497088145,0.5531422668424798,0.22491180021809806,0.32553079845409266,0.43415167188065446,0.3593501536011854,0.49870489808734453,0.12918773267028472,0.2931126171266012,0.2710887382545933,0.22178365766108868,0.30744170211588556,1.5336586683760498,0.41994113862386206,0.17694551236823886,0.3711560672866059,0.2982119271039642,0.48438589021593653,0.4295650870936193,0.24822058128060998,0.5779004848374157,0.3754678838360411,0.3219928988761191,0.44917878952352486,0.20303997261060147,0.5063133436057048,0.268348398845354,0.3768319018706398,0.3216226559764665,0.4144640324026519,2.174984678530133,0.4421433806043476,0.5368645422658304,0.6160540704276429,1.899276458502683,0.40432248872897525,0.1495047130947648,0.4939744352141354,0.28609159170142573,0.40487919846848874,0.33748317227839875,0.2261113623789964,0.4560689488943141,0.297813694556754,0.6811005179973179,0.5338480305946087,0.36982541032470345,0.4576725509625964,0.2554419745507332,0.3947656760299315,0.3333213367986185,0.17728364400508373,0.4159097877196145,0.506543869946761,0.4354028162249697,0.5786666635730349,0.3998686114067148,0.482231576986456,0.35493917992792523,0.4045646527802507,0.5273343696440878,0.4504892172772422,0.3156585796965914,0.9643047987655551,0.36776005017568514,0.4572749889877893,0.32314593536708663,0.4130425860558822,0.5498770589885655,0.243940520489533,0.6402828830159981,0.35236685858674227,0.49372726916981313,0.28624261630062253,0.4079444669662647,0.3304048968959497,0.19899113189632134,0.7788912994750326,0.45079118180773803,0.2707155224536883,0.3824355404865867,0.4925817072576765,0.3345451566666279,0.5617746687813907,0.1179968620026397,0.40510528082980624,0.22531627777772212,1.837229001848042,0.4395753000876345,0.2854084722763818,0.3594289639100681,0.3486082486253992,0.3086746816606997,0.20637589425428549,0.3445519809862782,0.2601736432120651,0.3748756505593702,0.3013806233872897,0.36312147747048973,2.796722025823049,0.14592618005408275,0.2738872064226574,0.3837707759505226,0.2204385615499641,0.35252339181904613,0.33007734753094586,0.41136191201607697,0.2699561856159848,2.5379560677388002,0.4169224367853347,0.32411639592020397,0.4941498245338447,0.22647890587371933,0.38366598692547166,0.30117351965976513,0.1639046675015552,0.44474787455994347,0.34938037648654213,0.2547169468127893,0.5025766719553971,0.40364302478588376,1.6195783085107818,0.3059807301680093,0.44519001582165324,0.2020950372827673,0.3719911925995506,0.29416126715021573,0.0957723674756617,0.539012615476262,0.34338706983349165,1.4344120242473197,0.2463324588346018,0.3354395730868369,0.45394466418890433,0.38336228523624766,0.3030998038316913,0.194076205655079,0.426736261000019,0.600624022485378,0.2640101076727267,0.3460084099439585,0.5212114431581677,0.4017069307720334,0.4821880341552038,0.31424600656750906,0.25059423532808844,0.3638680313719817,0.4408075141668909,0.29701329274553623,0.15071113583686885,0.39376765968696287,0.4884997380517193,0.22657708460881598,0.33540880160172526,0.4062251326196474,0.28595475922827596,0.3595741122348471,0.4678119380633914,0.54046261799537,1.1147087084366207,0.18808118201144755,0.42828843422670737,0.3285905605255351,0.2601030268937363,0.3854335816030561,0.31550892776851425,0.4681171344734078,0.23097415767811416,0.40349974292625995,0.5775370411729623,0.358754231502778,0.28215092350209525,0.1397467105084596,0.4478636630802304,0.5122810802935651,0.45311893407940174,0.8632162229733482,0.6626470758372861,0.3552903582062659,0.29125469808739574,0.19907926528559933,0.42057797257685986,0.49533592554934364,0.34119575468471053,0.25571581453939973,0.5767758175497396,0.386250223232542,0.06711176198626823,0.45041701113140564,0.33011091782515456,0.39421481678137116,0.24123107795369336,0.3047625121975518,0.4468273439313466,0.17703491685711414,0.5271538879804036,0.3618533018897302,0.2912722786894353,0.4066073728952628,0.4884346753028429,2.2029370405499513,0.36426502399608046,0.23677925359459,0.3177355384957943,0.4249946008939926,0.6200327253890074,0.4861171866801517,0.2904141044513136,0.36065816557607006,0.21717042961688904,0.4316466482683867,0.11309867098461684,0.5388152016234535,0.33507010308147317,0.3912741810314277,0.3051476822052237,0.47445459345135277,0.22376928780229285,0.3921395202987724,1.359564532149837,0.25250814092536683,0.34199497288154,0.16012000444629299,0.0003126124258817642,0.43868120162668767,0.5630628241356129,0.28765994446717513,0.37612014790075243,0.46517921518631755,0.32882992630885977,0.5129871123575926,0.41595658465450613,1.17752195164841,0.24342954488367266,0.3732888816256281,0.2835067184876215,0.18131843240673656,0.4377716465498278,0.328561358140865,0.4911023531308857,1.0221117170523297,0.3900941500400038,0.2654728919404718,0.33960841705269246,0.4220128802115986,0.592272770947257,0.522715434298002,0.7292764027422087,0.2910419239018198,0.20559544938766672,0.37633489077200366,0.43561835209356914,0.3314510667377698,0.2676855684104935,0.12182608696097758,0.46995741510180844,0.3880713733426065,0.32795053209753755,0.20955329098626332,0.5321710390802733,0.4084869157586337,2.3248095571942944,0.29797386031686857,0.4710699993916396,0.35787749856914863,0.24444338814330607,0.3683917470120015,0.4444870464233209,0.29116619097061247,0.15298546152064835,0.4077478179020689,0.3462376491644152,0.5232441114664995,0.2730545068448378,0.41479940695243706,0.6191870846568788,0.21858462214660718,0.32250845134744655,0.4826143392605348,0.3785962064743935,0.4544628171390087,2.0164597507530155,0.3201150284952782,0.554729128439949,0.2544031917123022,0.38746569240613415,0.18173418189471627,0.3441776349579502,0.4383824465591488,0.28885168010292606,0.4925600835810161,0.40219956888794567,0.2360111505711761,1.5403379826749404,0.35088155588963355],\"y\":[0.07739749877027387,0.07858667209228613,0.06510864611853484,0.07847320693421804,0.04748853628419093,0.06630303591406465,0.05559490574123661,0.03880682904742222,0.0511740666502776,0.04990227196529182,0.17203837452657234,0.16417606308745472,0.18159872637332145,0.25157064039912846,0.2508552735885827,0.24598114807809007,0.1686420169674047,0.18140302202617758,0.233245079980302,0.15629938351752104,0.24918758047126383,0.2488223323954564,0.23782650633308317,0.2261583249136928,0.13058067197264445,0.22325233828975805,0.24043284536845194,0.2404804648408771,0.1407625942679735,0.24213118699221783,0.1596883890997764,0.2489787020501028,0.258314122664155,0.2530453489667818,0.25641561538700847,0.25738782419098777,0.25687054752185123,0.08349745506425506,0.12203873965555477,0.2570313447684518,0.2215173254355084,0.25640094395641533,0.25747448661980776,0.19452109535474732,0.10745236609291679,0.26115867252999747,0.25171831339056944,0.21755633533860108,0.24775298127240578,0.09984467314454523,0.15870454080827973,0.24979985526569679,0.26031260509464726,0.23730216203755225,0.24838017746913532,0.25459528452784413,0.19421461310633029,0.23503902317854344,0.06453910647749937,0.2617747220071662,0.2601960292624363,0.25964641192870347,0.25981709583749335,0.263058790663452,0.25875930749019266,0.2667073894769113,0.26973685756984606,0.2692715062171388,0.26695611512670786,0.22727445935185595,0.26646646627785914,0.2576353273565389,0.2680955157291235,0.26851849611757345,0.26666032451272803,0.26162974566977376,0.27108685488123224,0.2660864708192767,0.27129235974016075,0.26850300084848233,0.27145308527349027,0.2698763331438474,0.2685480533428535,0.26858456071647,0.2631729590764075,0.2697394095808364,0.26765032679547784,0.22730731371042825,0.2515095822233475,0.2655218600906946,0.08696038385081403,0.2651627111622933,0.26954539223774704,0.2697015169715496,0.26982590443442017,0.005972113065949917,0.272147607614542,0.27217739073527913,0.2693843755508265,0.24017077921703353,0.24577764682258543,0.20131544471905774,0.0701017713155802,0.26311990303201926,0.24506801789415755,0.27373312502108754,0.27318575026644,0.26975968262018385,0.27095274859903284,0.2537540614768321,0.2737336407865632,0.26921099011471145,0.17902215852437006,0.2744543893394464,0.27509043678545714,0.2753158191736394,0.2667729289999982,0.2740320957939774,0.2655377074520251,0.27271199745284463,0.26537491803544333,0.2753214911497019,0.005972113065949917,0.2720444793270884,0.2742920910887087,0.26943851840490113,0.2556229016729896,0.26377586219385124,0.27211821882916365,0.2706584846341203,0.2643154658968802,0.26611258675355387,0.2751468833261084,0.27170612624448776,0.2733555262823487,0.06597788810483336,0.09926596914068031,0.2746037598776359,0.274661054177763,0.2733395725709268,0.27314294011755896,0.27508571539442955,0.27469056964193495,0.27546375448352656,0.27522041338403697,0.2666690318825953,0.2727451558460175,0.2681995495162941,0.236367314267053,0.17466048656773922,0.12517152665809406,0.27515769969618364,0.22975336509844752,0.27532393972685837,0.27213199258502513,0.2716401397105091,0.2706137774050363,0.2699049323619637,0.24988080332698645,0.2704168505811787,0.08474160337386709,0.27381926143168694,0.27499397663655456,0.20216971884036755,0.2745885307524775,0.2709208966709604,0.26581814132618076,0.16374548356059165,0.27154294524149136,0.2736025527156243,0.2583610901557852,0.2747097314467651,0.2719837259850468,0.272564679998845,0.2748097252485712,0.27179257303735904,0.27215387190069446,0.27366994981915127,0.1801675546864043,0.27283691723376746,0.2701039714392456,0.27364616181392887,0.27151831110808894,0.2752645258878983,0.2753211665774625,0.27384008543403043,0.2700440645176547,0.2747176195382377,0.2732823063897019,0.27054786893959876,0.2686687342675211,0.2757505849868378,0.27541399887167856,0.27464545374529936,0.273382506654308,0.27274013556010407,0.2745526393666851,0.2640147372214224,0.27293177551193704,0.26864436921757767,0.2686843429637316,0.2741042611487529,0.24118295110972612,0.27482340014829965,0.2733801485038014,0.2750876377212433,0.2750192523180676,0.005972113065949917,0.27413010997702686,0.26523994414715607,0.2734267890467883,0.2749694804608138,0.2724527950337419,0.2754640946763541,0.2706748046487466,0.2735443662208049,0.27179198166447704,0.27171747002253527,0.11434884470121537,0.27369772369817263,0.26987829735766805,0.27458556438589204,0.2503221830650957,0.2737265000320481,0.2727443926065065,0.2737970533244468,0.2746367953443241,0.27390820320379533,0.19877732297514383,0.2694489141953489,0.27396816727279955,0.27493781127290534,0.24200367394915237,0.27479292688839785,0.2726740463983271,0.27297930242429397,0.27205446411362216,0.2696731422092676,0.2732934776628971,0.08341195967179187,0.2751984084036107,0.27509007684831016,0.27476654650576743,0.2740987493195192,0.27424481287461133,0.2737006632106184,0.2660954308312873,0.2741140256124905,0.2743799759129613,0.25631050033221714,0.27116048369549844,0.2704263102716532,0.22529097585944585,0.24269372839264286,0.27359688944901556,0.27330769161981056,0.2364198795146937,0.1951004267617381,0.21398152317758343,0.2721604555345338,0.27231484528193656,0.2741756981300792,0.2734738664779609,0.2679545784369447,0.27448981303679004,0.09174631502673532,0.27350472761268,0.24035338994788477,0.26672265673450135,0.27285429713552056,0.27189033218941827,0.07594139814379311,0.1975484079166702,0.2735638024220421,0.2727710950752683,0.273657432770069,0.2697819717056563,0.2748976090123062,0.26761631985759826,0.269448915795837,0.24963216016394893,0.27555915341807447,0.26457492648565684,0.07953484831444879,0.27452610511168,0.2731545611404798,0.2748716104068249,0.2680937094318446,0.23653362392361488,0.27395319032677024,0.27251096104343137,0.2548623944563041,0.26511680025805423,0.27478547520176416,0.19477394444636079,0.21215606004214366,0.0646958365829232,0.27378638551505025,0.25106758769833626,0.2669474048853238,0.27375835881230476,0.27340545482308354,0.2738448204844154,0.2746722007547542,0.26560469136623766,0.2728572323415928,0.2692203304936441,0.12384747161586981,0.18781465722294227,0.2299785160911486,0.27459988947056096,0.2738190470093501,0.2644222457377057,0.2749701312248092,0.27383625421776037,0.273885878734306,0.26928085989113276,0.24524348433243853,0.06661253341917242,0.23822776763905074,0.15095211972873906,0.27237931710483443,0.27416475971221793,0.26903211967577606,0.2673053303526624,0.27282732926330705,0.24600135798135112,0.2747943869217192,0.005972113065949917,0.26504771374339003,0.2741573138529603,0.2723792742926132,0.2725395916229838,0.2739935618153069,0.2750463822765817,0.22562775432918386,0.2723384980078125,0.27288065295346464,0.21853261273541555,0.23208969805366367,0.27020784434218953,0.26507617625678265,0.2742780824227235,0.2728973643858764,0.27417847566514014,0.23337606109515704,0.2695922607129199,0.253365891853654,0.2710330619425847,0.005972113065949917,0.273303406417641,0.2713583640856314,0.2532399238938904,0.173997936383304,0.25774987468825045,0.2735330622755124,0.27224626237739835,0.2751332573072699,0.2683083211379426,0.2724460050122563,0.1066040525889241,0.27110476708208,0.24869880677323963,0.27043502867373503,0.2721389903064378,0.25923863587175267,0.26899106792882665,0.2714625579556883,0.26463928515777024,0.2692139507382832,0.08586172593048587,0.27198437432895484,0.27400635963747166,0.27074485932446585,0.2701897137570865,0.27201409611636224,0.060525729166272926,0.2730942558055558,0.272159682056444,0.268540395433296,0.26842131033419203,0.1620156207186861,0.26661086670642536,0.27434175905292757,0.24272369156622964,0.2512718641523418,0.2732789859153269,0.005972113065949917,0.272193159342027,0.26761989733040126,0.26420753791558044,0.2747719263644046,0.2278500851421179,0.2717106128899757,0.27238076256767707,0.2753787683675133,0.275206429969006,0.26737840259664597,0.27413688785222146,0.2688604495514677,0.2741200518108274,0.27318379754910604,0.15511962622357656,0.26189580035146076,0.07976951379796983,0.2727207625916036,0.2720365282224648,0.26300343722442937,0.2718791884730276,0.27271653853702466,0.26931793871470905,0.2714400633318098,0.26888288986502784,0.2053208556713536,0.27367648435904685,0.2724650484077507,0.274380904314105,0.26750877582125054,0.2663136419365181,0.2458275512446905,0.27180179731235304,0.24519995665464453,0.27233596834274865,0.2548300278532391,0.2744326790476704,0.2700756051573394,0.2406923604088575,0.27369127065958043,0.2734525519982306,0.26756102136585547,0.2564197290354463,0.275418315306985,0.26744494099148974,0.09297717148335051,0.2754676291446113,0.24620632253783936,0.2733049544108649,0.2713445740217888,0.07217845102707368,0.2732645936009291,0.2746858725207749,0.10983038718188752,0.27183714035801504,0.26033785322887343,0.270417898530914,0.2718243323171108,0.26991038067409345,0.2719292945889143,0.005972113065949917,0.27118951240313427,0.27307820419920975,0.2726414574989559,0.2747362807156355,0.27040367686345607,0.2695764933448494,0.27205813620644276,0.27411157044746765,0.26789705341720543,0.27456819118929154,0.09078524435774735,0.093381816953088,0.26777010504848736,0.26359151214830695,0.2732178687132153,0.25807911252228394,0.24008981071796015,0.2735738135528402,0.27276333846596235,0.07787256279163884,0.2607849378018229,0.2727773961153346,0.2664203268780809,0.24078332621833143,0.27211891461999926,0.27354059239217754,0.274791410980941,0.2579881736380886,0.2582440048077463,0.27525362935624514,0.26952189511003466,0.2670548311154774,0.26710566021902243,0.26014143152124775,0.27260216008926685,0.27276555587892615,0.27241205763906456,0.2731968040840267,0.2733740154411719,0.18164669832388933,0.2728332795528672,0.26680362591762524,0.2737499350559688,0.2703024879002633,0.27299592163372277,0.2717472133800795,0.27337603660417875,0.2685783925438424,0.2703186135632615,0.005972113065949917,0.27333288924172816,0.19896149381255426,0.2716011056878074,0.24600394051143684,0.2718555432987442,0.2498128538480736,0.21914242794159486,0.27303422715888165,0.2712967738634049,0.2728095353682844,0.27379060821115264,0.2682677120941292,0.26935102829771396,0.2747684071965727,0.26914138515990227,0.27127600039231664,0.2749581781530616,0.26786057712710204,0.26909608373724214,0.0896553544752801,0.2699356489865252,0.24013596069130788,0.2740315999413163,0.2714677410780399,0.14812764463180766,0.24720398382660727,0.26926006201004915,0.17622412755214084,0.24616553861502016,0.26637901946465203,0.26807133775199893,0.2739118469703991,0.269807670823655,0.27267181525522943,0.267976435212635,0.27240399873232946,0.2718358944682292,0.27395752837121606,0.25717920514841247,0.2685152024651962,0.22523561053397767,0.09410223311982045,0.2733659374657036,0.2733856261658022,0.0749822847556968,0.27348787835525457,0.2614691172856708,0.2704741270433735,0.27026661392207596,0.2700750300404206,0.26471392469100935,0.10398705650276192,0.2744239006129177,0.26953975417172493,0.2746153151891202,0.26843811178984933,0.08588875468334631,0.2736286050799626,0.06714433861465778,0.07501003831668003,0.25926950808178667,0.2746222041978853,0.19628932305298027,0.2560047332121234,0.27298897292843305,0.27322157326111807,0.2721805296762989,0.20004039703496282,0.2740508824706612,0.2722842809731705,0.27400296592246,0.2659656157453465,0.271179454649022,0.2655455601266822,0.2682623671537583,0.2699497703551767,0.2752756366206117,0.27343529295622215,0.2514965393824011,0.26879747266928755,0.27162794949133906,0.27278137095296473,0.15795840903314526,0.2705281164422434,0.27217988697564677,0.2747621958041355,0.27025945512746175,0.22351733707221133,0.270243731243973,0.2733873087136217,0.271367833869497,0.15348195630952316,0.2433684327529346,0.2748542629420802,0.26826899878594473,0.26920315604396494,0.2742947082551477,0.239809573799941,0.2741588493307767,0.23477351678885983,0.2744263738911508],\"type\":\"scatter\",\"xaxis\":\"x\",\"yaxis\":\"y\"},{\"marker\":{\"color\":[0,1,2,3,4,5,6,7,8,9,10,11,12,13,14,15,16,17,18,19,20,21,22,23,24,25,26,27,28,29,30,31,32,33,34,35,36,37,38,39,40,41,42,43,44,45,46,47,48,49,50,51,52,53,54,55,56,57,58,59,60,61,62,63,64,65,66,67,68,69,70,71,72,73,74,75,76,77,78,79,80,81,82,83,84,85,86,87,88,89,90,91,92,93,94,95,96,97,98,99,100,101,102,103,104,105,106,107,108,109,110,111,112,113,114,115,116,117,118,119,120,121,122,123,124,125,126,127,128,129,130,131,132,133,134,135,136,137,138,139,140,141,142,143,144,145,146,147,148,149,150,151,152,153,154,155,156,157,158,159,160,161,162,163,164,165,166,167,168,169,170,171,172,173,174,175,176,177,178,179,180,181,182,183,184,185,186,187,188,189,190,191,192,193,194,195,196,197,198,199,200,201,202,203,204,205,206,207,208,209,210,211,212,213,214,215,216,217,218,219,220,221,222,223,224,225,226,227,228,229,230,231,232,233,234,235,236,237,238,239,240,241,242,243,244,245,246,247,248,249,250,251,252,253,254,255,256,257,258,259,260,261,262,263,264,265,266,267,268,269,270,271,272,273,274,275,276,277,278,279,280,281,282,283,284,285,286,287,288,289,290,291,292,293,294,295,296,297,298,299,300,301,302,303,304,305,306,307,308,309,310,311,312,313,314,315,316,317,318,319,320,321,322,323,324,325,326,327,328,329,330,331,332,333,334,335,336,337,338,339,340,341,342,343,344,345,346,347,348,349,350,351,352,353,354,355,356,357,358,359,360,361,362,363,364,365,366,367,368,369,370,371,372,373,374,375,376,377,378,379,380,381,382,383,384,385,386,387,388,389,390,391,392,393,394,395,396,397,398,399,400,401,402,403,404,405,406,407,408,409,410,411,412,413,414,415,416,417,418,419,420,421,422,423,424,425,426,427,428,429,430,431,432,433,434,435,436,437,438,439,440,441,442,443,444,445,446,447,448,449,450,451,452,453,454,455,456,457,458,459,460,461,462,463,464,465,466,467,468,469,470,471,472,473,474,475,476,477,478,479,480,481,482,483,484,485,486,487,488,489,490,491,492,493,494,495,496,497,498,499,500,501,502,503,504,505,506,507,508,509,510,511,512,513,514,515,516,517,518,519,520,521,522,523,524,525,526,527,528,529,530,531,532,533,534,535,536,537,538,539,540,541,542,543,544,545,546,547,548,549,550,551,552,553,554,555,556,557,558,559,560,561,562,563,564,565,566,567,568,569,570,571,572,573,574,575,576,577,578,579,580,581,582,583,584,585,586,587,588,589,590,591,592,593,594,595,596,597,598,599],\"colorbar\":{\"title\":{\"text\":\"Trial\"},\"x\":1.0,\"xpad\":40},\"colorscale\":[[0.0,\"rgb(247,251,255)\"],[0.125,\"rgb(222,235,247)\"],[0.25,\"rgb(198,219,239)\"],[0.375,\"rgb(158,202,225)\"],[0.5,\"rgb(107,174,214)\"],[0.625,\"rgb(66,146,198)\"],[0.75,\"rgb(33,113,181)\"],[0.875,\"rgb(8,81,156)\"],[1.0,\"rgb(8,48,107)\"]],\"line\":{\"color\":\"Grey\",\"width\":0.5},\"showscale\":false},\"mode\":\"markers\",\"name\":\"Feasible Trial\",\"showlegend\":false,\"x\":[2.2341282577965647,1.5237060671181681,2.3745177621820264,2.0776403251470823,2.5466006144958317,1.5386822557146016,2.876212775266612,1.6970356288321415,2.9492486495685464,2.5634944874786925,0.5696247852175433,0.5834140213291801,0.3926920541587776,0.19392368153811917,0.19305681151570345,0.10083257841474938,0.9978941071926082,0.9034554537190127,0.005994249680674718,1.055741150168445,0.2984941059570681,0.2675826676543084,0.6976114550518708,0.3235803843086358,1.2050949459285225,0.7242377331609782,0.19239838594181835,0.4464453096326307,1.1844226940926954,0.0021979905722345205,0.860339001855533,0.31661530570853125,0.4273052934004784,0.18289250360849532,0.5490644161126382,0.5344516427652981,0.5423832995016332,1.9281184042197543,1.281335652252467,0.5533539261672089,0.7268451040071686,0.5546054573265954,0.47972469588101807,0.8747737255961578,1.4215812021444212,0.4255844438622478,0.4336670188270769,0.7429128775711411,0.4393566351249023,1.656428903242241,1.0243476593663197,0.5841344263225343,0.4826957073998426,0.6890883899457966,0.08987216262809639,0.373004398027899,0.8014553393445172,0.6420546921479576,2.6128483200803694,0.4594647498968944,0.44111372758217693,0.4580943992700817,0.4330380963737339,0.23217324948307255,0.1118240520647037,0.28134949327063996,0.29632917800230885,0.24939343817274995,0.2457846954072921,0.27301862598079774,0.08644531587083487,0.10541731065453142,0.247359425209174,0.203099021668061,0.20880177942396233,0.002556324824541961,0.1760272099057997,0.3230856767225427,0.17087233989554637,0.13361562624167062,0.1591476230759188,0.15300990916346063,0.1200948299647682,0.12260218927434804,0.056323428674872625,0.1754647694297792,0.3496764087400351,0.14925586662737758,0.001000603755464513,0.15989001354282756,1.987996479037058,0.18261655152875125,0.35258520460148596,0.3704846892123458,0.35564167083472026,0.34490654424077705,0.3675499978110909,0.3797866332407285,0.05860606184871647,0.6381849093613018,0.38314497086385296,0.3499814674304712,2.262346180603675,0.5086749948252849,0.3806479879228828,0.28883547140646154,0.28328682139241507,0.27688705702354005,0.037589939137519054,0.5996657880641572,0.2969515039623618,0.04779361528704372,0.25310119345402454,0.2982241877722824,0.21894068175413117,0.2132938080639606,0.05614988942283866,0.19487450746149468,0.21244238157048706,0.2995611193257503,0.494735666518211,0.3063306775440863,0.2841263124363125,0.2894124067799066,0.30979645442126585,0.40943590805445085,0.29889297262409265,0.527048406196921,0.3088768913145768,0.40428870127050076,0.4792781360207962,0.3008634082831462,0.22338721565508693,0.2174620649944458,0.2503815940036635,2.7657182205998665,1.7544274504640427,0.22443034793115926,0.2308982557528761,0.1160781881375186,0.09822605166074504,0.2220381778937706,0.20721310177140562,0.22442313155864607,0.22192124286976075,0.21481104185386082,0.20730981599263246,0.14007548571563008,0.21638135627736996,0.0978154947681282,1.321724506424514,0.24435400171074528,0.1709055877951211,0.22754141409776749,0.2322814809259216,0.1338172498354467,0.054272888518989065,0.42275301272567706,0.3353075345474496,0.23660159280922963,0.1798576164364503,0.33107256876304747,0.33456054560027987,0.23680803610924833,0.34415271217402843,0.16647981210996454,0.0014948354205937542,1.0991493598272468,0.08348414553062769,0.37655787013063746,0.42926810106905866,0.24161232081111872,0.2414492245713748,0.16204244430225362,0.3247277682537771,0.32592866709120294,0.2632106132174726,0.34491695032395986,0.46292320273164134,0.38663224448337585,0.27230992968865436,0.18925210532639397,0.12487447119183098,0.21886678934602943,0.23090365873959068,0.2414677094832041,0.09390290157725231,0.19717172449765083,0.15357567642180583,0.21514123413062805,0.08769119741454787,0.2579314074665905,0.22677003351594113,0.2113768457482333,0.14994689019907864,0.2771081108798277,0.2077689859694423,0.1390128872783642,0.26306731809687206,0.06566231250776164,0.18832334471109052,0.24098778189841347,0.31856477131052263,0.2110366105721394,0.1779057305063055,0.2628698304738597,0.28141537313767445,0.37795134315012696,0.3107299876874558,0.273044415087468,0.13167623315758312,0.25854453596287247,0.3261427153522195,0.271266652289718,0.417377719048977,0.27812818786519,0.36457536038833993,0.26488571937504235,1.5551426151279064,0.16935735872089824,0.3271207803549791,0.21295240177526745,0.24788349979597338,0.1847178436974315,0.10619920533706614,0.2869903008084499,0.21990972471982004,0.1334148852090385,0.9182051938642128,0.33117191364573767,0.25277417904369387,0.20666821201019395,0.18572741687521754,0.25354029518594334,0.27433980003091407,0.39608836512467643,0.32176074870156834,0.24016435159224048,0.12758361781569544,0.17339772842931742,0.29513228496334604,0.2818350206268838,0.2985410003496996,0.36192292739345633,0.2986988396474507,0.30111201334369564,0.39615732570542733,0.25351851184337754,0.343456432304016,0.2890759229032591,0.19771117027726004,0.4315500728890904,0.2541085601484666,0.36197337447428296,0.1494442443780628,0.30994023420149974,0.22870806498914603,0.1940194285139749,0.28273331331380913,0.08014573488404284,0.3474959904862659,0.23743645524976698,0.14218361174606853,0.39743495734621204,0.2947218823185713,1.8703462506089286,0.20406006439846588,0.3322563703439485,0.4864333475741593,0.1473682236481883,0.2556187872867443,2.352917682703228,0.08350144105885951,0.1967751716784843,0.2627375175282792,0.35379634967719187,0.422079941923692,0.2150947743486408,0.14320870156692128,0.04359710751809434,0.20218210314055202,0.228282976083802,0.0982750209369859,2.110940339579213,0.1658575314931739,0.21777259457280934,0.3019657769349098,0.14339086478794721,0.24941892575161081,0.18587365844194417,0.281625378284389,0.10747911325322024,0.3658307500474113,0.22682511012074988,0.30525112428498136,0.18000045703656128,2.563679608853759,0.24280871527876988,0.2971723226098157,0.05202731018233564,0.1379899744036273,0.3786996050756587,0.2090730349416119,0.3279015051656727,0.45216065466207533,0.25927033456454773,0.16364485450080526,1.3951755506577133,0.2269013318829861,0.1014357368108941,0.3276553244219916,0.2874212764137127,0.3972724432949578,0.2141334528684124,0.2585952843835885,0.1883429006378866,0.3412008437804118,0.009213090863784468,2.7401750764440633,0.12113410694579001,1.2124446628674557,0.25104893793816985,0.19014202208995729,0.29587116993135454,0.3827382411787721,0.15537355617123266,0.23562617205287328,0.31445120698713847,0.0933637340283692,0.4412234729361584,0.196864542126641,0.268913237066422,0.34951365653081445,0.15618580034493054,0.23401337024237684,0.06269531914730644,0.22199557637144204,0.14622595225930668,0.7898000741965716,0.23901687307663924,0.18223900671642,0.1112245599303275,0.27632512039638124,0.21326694354505277,0.3491273581532376,0.28757859456787344,0.15344096281685815,0.2267622720246584,0.41400083771902296,0.31782362461154284,0.1852710099308776,0.07530121825862707,0.26788756903993816,0.9626058013937018,0.5106595448547507,0.14088848313743343,0.37338910224814104,0.2354834993449627,0.28410018201894294,0.3491636327283619,1.6550954100388273,0.24363137415950606,0.19585446770931908,0.3154789469478599,0.10687975093851255,0.24844915021483868,0.4191143972583508,0.1672046076625016,0.2833646080491594,0.029904558915699125,0.22020375962497352,0.12139410264781174,0.353710328612269,0.2805832266995719,0.1980069040592499,0.32869542129528806,2.932535660521319,0.1693310145174145,0.25187927127880555,0.38761115860824985,0.4738460631239599,1.1142530488538924,0.10360158935031599,0.23258802233465337,0.30920676831552996,0.15175324893582542,0.242067897284748,0.3175836698040606,0.18824780076755684,0.3836740941141025,0.054492620713217504,0.2722439741328842,0.1369969040373643,0.20670317564267782,0.32981311378102796,0.2388864718317958,0.26249145208231905,0.4305052718409774,0.281723631848274,0.3691221200968347,0.18898781235063367,0.10733286731288862,0.27047656977438617,0.5588126767824609,0.3189605079335637,0.2300135729454967,0.1606260277593256,0.35176592385862354,0.2560486675658621,0.09177419865302941,0.1788046658346031,0.40126081273446873,0.0034256118882258213,0.2873646677703766,0.22346178152903765,0.3223993921756877,0.22579300668490068,0.12346436568895833,0.4668617118950054,0.16291856795378454,0.28408680699248534,0.6740109061941132,0.3716834742988713,0.22429637796080917,0.2940550305612474,0.07778794890172919,0.16205181995777426,0.24431435196897391,0.3395980469611735,0.1965725055431855,0.41985251008922153,0.2776912077346583,0.32134698778993626,0.3734995945956071,0.2726362639261968,0.27704993632689123,0.150960947255285,0.24614276372250132,2.4660078758425388,0.28651989034067005,0.1869182090689933,1.4889090612534734,0.11523468897522518,0.2619641355310047,0.32517217898533435,0.20501724239147417,0.4459441013073381,0.3719931466506639,0.24960572399865577,0.057938653336884055,0.15252976393956497,0.3006997865936358,0.21193776386159996,0.1281205669848372,0.34039987717646625,0.25414790070340815,0.19418620636553688,0.3892261604687063,0.28747742066709037,1.9584721327724688,1.8450710749349533,0.07877900523575074,0.23491917418389968,0.15603270138927444,0.30196871369590167,0.18227697201829887,0.3403237884791469,0.2516442118130757,2.1341176148050867,0.4093471823711732,0.10040701499709334,0.5090187231697316,0.21615874681447883,0.3113567438599756,0.18025025254310748,0.26280441865504234,0.13231591423002828,0.34584398264058835,0.23347690431001739,0.21264318174383903,0.04665759746461737,0.14982421596411996,0.23453802720363692,0.2685526324468912,0.10658369624983209,0.19705680287518107,0.376482655314205,0.2999094897214892,0.15765548474336954,0.22980711369273676,0.44771295989815385,0.3121870212888831,0.18704365020941585,0.26158626399278656,0.06646685717537543,0.35144417829945357,0.11856769677868152,0.23667150865480222,0.30409234061114987,0.18477906502105065,0.869403984310486,0.3882830522473695,0.2747530858404252,0.15241312838250695,0.6085869622909699,0.220904256225274,0.317982892341756,0.2619119317717439,0.10017361921476561,0.17268439109458053,0.3993795553999614,0.04056659511705443,0.22417091166767633,0.3269136647763603,0.1308335778861379,0.2781473006159217,0.19958595506660431,0.36209320635508724,0.25810276154133605,0.4491196223149665,0.15656428426767197,0.32060884758101804,0.21630798266551213,1.230561175551241,0.27973354202488787,0.01243769035761566,1.0330997329653488,0.11364241650999754,0.1993927873184203,0.3417828782178156,0.24934101501058928,0.16884809435032355,0.3805787038870922,0.3035443753367003,0.22948608584411934,0.10475361156519747,0.17283023257484292,0.27521116673701446,0.4127528752662202,0.7660388493818681,1.7368869676371375,0.22288189333895536,0.32520814315903834,1.3433624289355734,0.1399937551832962,0.26805847295614854,0.19821084908238695,0.06911844714964371,0.35697920692972784,0.5237878661495794,1.5738853121403114,0.2719008104777504,0.16233593486603437,0.22197707658175211,0.3153531147335963,2.0509881964489862,0.12646998205166782,2.694523400309332,2.2142505943388557,0.4696326420457041,0.23613622495978037,0.3890351379017003,0.3037537860239516,0.1903529523765406,0.26113534972999597,0.07247523964067767,0.3513506126326971,0.16938895434512696,0.232959759398183,0.2929513258392314,0.1176895160727725,0.4306363601034465,0.2014417827483594,0.3566205111002668,0.2914394137917484,0.24260417793613448,0.15094764079561504,0.2570982986955611,0.00045714940595317777,0.3384178893466575,0.19703411678929114,0.29935678054632364,0.09494113341948535,0.40498537012194347,0.24316931490793264,0.16781924715664015,0.2892183452841406,0.3558349576917688,0.21615745137382777,0.1316480464834843,0.25533195314534557,0.1882305585627379,0.31776704122805755,0.4087391040151123,0.054872540993581076,0.2439123857332645,0.1338345922180465,0.3341665708594467,0.1843793554548328,0.2773564653388497],\"y\":[0.07739749877027387,0.07858667209228613,0.06510864611853484,0.07847320693421804,0.04748853628419093,0.06630303591406465,0.05559490574123661,0.03880682904742222,0.0511740666502776,0.04990227196529182,0.17203837452657234,0.16417606308745472,0.18159872637332145,0.25157064039912846,0.2508552735885827,0.24598114807809007,0.1686420169674047,0.18140302202617758,0.233245079980302,0.15629938351752104,0.24918758047126383,0.2488223323954564,0.23782650633308317,0.2261583249136928,0.13058067197264445,0.22325233828975805,0.24043284536845194,0.2404804648408771,0.1407625942679735,0.24213118699221783,0.1596883890997764,0.2489787020501028,0.258314122664155,0.2530453489667818,0.25641561538700847,0.25738782419098777,0.25687054752185123,0.08349745506425506,0.12203873965555477,0.2570313447684518,0.2215173254355084,0.25640094395641533,0.25747448661980776,0.19452109535474732,0.10745236609291679,0.26115867252999747,0.25171831339056944,0.21755633533860108,0.24775298127240578,0.09984467314454523,0.15870454080827973,0.24979985526569679,0.26031260509464726,0.23730216203755225,0.24838017746913532,0.25459528452784413,0.19421461310633029,0.23503902317854344,0.06453910647749937,0.2617747220071662,0.2601960292624363,0.25964641192870347,0.25981709583749335,0.263058790663452,0.25875930749019266,0.2667073894769113,0.26973685756984606,0.2692715062171388,0.26695611512670786,0.22727445935185595,0.26646646627785914,0.2576353273565389,0.2680955157291235,0.26851849611757345,0.26666032451272803,0.26162974566977376,0.27108685488123224,0.2660864708192767,0.27129235974016075,0.26850300084848233,0.27145308527349027,0.2698763331438474,0.2685480533428535,0.26858456071647,0.2631729590764075,0.2697394095808364,0.26765032679547784,0.22730731371042825,0.2515095822233475,0.2655218600906946,0.08696038385081403,0.2651627111622933,0.26954539223774704,0.2697015169715496,0.26982590443442017,0.005972113065949917,0.272147607614542,0.27217739073527913,0.2693843755508265,0.24017077921703353,0.24577764682258543,0.20131544471905774,0.0701017713155802,0.26311990303201926,0.24506801789415755,0.27373312502108754,0.27318575026644,0.26975968262018385,0.27095274859903284,0.2537540614768321,0.2737336407865632,0.26921099011471145,0.17902215852437006,0.2744543893394464,0.27509043678545714,0.2753158191736394,0.2667729289999982,0.2740320957939774,0.2655377074520251,0.27271199745284463,0.26537491803544333,0.2753214911497019,0.005972113065949917,0.2720444793270884,0.2742920910887087,0.26943851840490113,0.2556229016729896,0.26377586219385124,0.27211821882916365,0.2706584846341203,0.2643154658968802,0.26611258675355387,0.2751468833261084,0.27170612624448776,0.2733555262823487,0.06597788810483336,0.09926596914068031,0.2746037598776359,0.274661054177763,0.2733395725709268,0.27314294011755896,0.27508571539442955,0.27469056964193495,0.27546375448352656,0.27522041338403697,0.2666690318825953,0.2727451558460175,0.2681995495162941,0.236367314267053,0.17466048656773922,0.12517152665809406,0.27515769969618364,0.22975336509844752,0.27532393972685837,0.27213199258502513,0.2716401397105091,0.2706137774050363,0.2699049323619637,0.24988080332698645,0.2704168505811787,0.08474160337386709,0.27381926143168694,0.27499397663655456,0.20216971884036755,0.2745885307524775,0.2709208966709604,0.26581814132618076,0.16374548356059165,0.27154294524149136,0.2736025527156243,0.2583610901557852,0.2747097314467651,0.2719837259850468,0.272564679998845,0.2748097252485712,0.27179257303735904,0.27215387190069446,0.27366994981915127,0.1801675546864043,0.27283691723376746,0.2701039714392456,0.27364616181392887,0.27151831110808894,0.2752645258878983,0.2753211665774625,0.27384008543403043,0.2700440645176547,0.2747176195382377,0.2732823063897019,0.27054786893959876,0.2686687342675211,0.2757505849868378,0.27541399887167856,0.27464545374529936,0.273382506654308,0.27274013556010407,0.2745526393666851,0.2640147372214224,0.27293177551193704,0.26864436921757767,0.2686843429637316,0.2741042611487529,0.24118295110972612,0.27482340014829965,0.2733801485038014,0.2750876377212433,0.2750192523180676,0.005972113065949917,0.27413010997702686,0.26523994414715607,0.2734267890467883,0.2749694804608138,0.2724527950337419,0.2754640946763541,0.2706748046487466,0.2735443662208049,0.27179198166447704,0.27171747002253527,0.11434884470121537,0.27369772369817263,0.26987829735766805,0.27458556438589204,0.2503221830650957,0.2737265000320481,0.2727443926065065,0.2737970533244468,0.2746367953443241,0.27390820320379533,0.19877732297514383,0.2694489141953489,0.27396816727279955,0.27493781127290534,0.24200367394915237,0.27479292688839785,0.2726740463983271,0.27297930242429397,0.27205446411362216,0.2696731422092676,0.2732934776628971,0.08341195967179187,0.2751984084036107,0.27509007684831016,0.27476654650576743,0.2740987493195192,0.27424481287461133,0.2737006632106184,0.2660954308312873,0.2741140256124905,0.2743799759129613,0.25631050033221714,0.27116048369549844,0.2704263102716532,0.22529097585944585,0.24269372839264286,0.27359688944901556,0.27330769161981056,0.2364198795146937,0.1951004267617381,0.21398152317758343,0.2721604555345338,0.27231484528193656,0.2741756981300792,0.2734738664779609,0.2679545784369447,0.27448981303679004,0.09174631502673532,0.27350472761268,0.24035338994788477,0.26672265673450135,0.27285429713552056,0.27189033218941827,0.07594139814379311,0.1975484079166702,0.2735638024220421,0.2727710950752683,0.273657432770069,0.2697819717056563,0.2748976090123062,0.26761631985759826,0.269448915795837,0.24963216016394893,0.27555915341807447,0.26457492648565684,0.07953484831444879,0.27452610511168,0.2731545611404798,0.2748716104068249,0.2680937094318446,0.23653362392361488,0.27395319032677024,0.27251096104343137,0.2548623944563041,0.26511680025805423,0.27478547520176416,0.19477394444636079,0.21215606004214366,0.0646958365829232,0.27378638551505025,0.25106758769833626,0.2669474048853238,0.27375835881230476,0.27340545482308354,0.2738448204844154,0.2746722007547542,0.26560469136623766,0.2728572323415928,0.2692203304936441,0.12384747161586981,0.18781465722294227,0.2299785160911486,0.27459988947056096,0.2738190470093501,0.2644222457377057,0.2749701312248092,0.27383625421776037,0.273885878734306,0.26928085989113276,0.24524348433243853,0.06661253341917242,0.23822776763905074,0.15095211972873906,0.27237931710483443,0.27416475971221793,0.26903211967577606,0.2673053303526624,0.27282732926330705,0.24600135798135112,0.2747943869217192,0.005972113065949917,0.26504771374339003,0.2741573138529603,0.2723792742926132,0.2725395916229838,0.2739935618153069,0.2750463822765817,0.22562775432918386,0.2723384980078125,0.27288065295346464,0.21853261273541555,0.23208969805366367,0.27020784434218953,0.26507617625678265,0.2742780824227235,0.2728973643858764,0.27417847566514014,0.23337606109515704,0.2695922607129199,0.253365891853654,0.2710330619425847,0.005972113065949917,0.273303406417641,0.2713583640856314,0.2532399238938904,0.173997936383304,0.25774987468825045,0.2735330622755124,0.27224626237739835,0.2751332573072699,0.2683083211379426,0.2724460050122563,0.1066040525889241,0.27110476708208,0.24869880677323963,0.27043502867373503,0.2721389903064378,0.25923863587175267,0.26899106792882665,0.2714625579556883,0.26463928515777024,0.2692139507382832,0.08586172593048587,0.27198437432895484,0.27400635963747166,0.27074485932446585,0.2701897137570865,0.27201409611636224,0.060525729166272926,0.2730942558055558,0.272159682056444,0.268540395433296,0.26842131033419203,0.1620156207186861,0.26661086670642536,0.27434175905292757,0.24272369156622964,0.2512718641523418,0.2732789859153269,0.005972113065949917,0.272193159342027,0.26761989733040126,0.26420753791558044,0.2747719263644046,0.2278500851421179,0.2717106128899757,0.27238076256767707,0.2753787683675133,0.275206429969006,0.26737840259664597,0.27413688785222146,0.2688604495514677,0.2741200518108274,0.27318379754910604,0.15511962622357656,0.26189580035146076,0.07976951379796983,0.2727207625916036,0.2720365282224648,0.26300343722442937,0.2718791884730276,0.27271653853702466,0.26931793871470905,0.2714400633318098,0.26888288986502784,0.2053208556713536,0.27367648435904685,0.2724650484077507,0.274380904314105,0.26750877582125054,0.2663136419365181,0.2458275512446905,0.27180179731235304,0.24519995665464453,0.27233596834274865,0.2548300278532391,0.2744326790476704,0.2700756051573394,0.2406923604088575,0.27369127065958043,0.2734525519982306,0.26756102136585547,0.2564197290354463,0.275418315306985,0.26744494099148974,0.09297717148335051,0.2754676291446113,0.24620632253783936,0.2733049544108649,0.2713445740217888,0.07217845102707368,0.2732645936009291,0.2746858725207749,0.10983038718188752,0.27183714035801504,0.26033785322887343,0.270417898530914,0.2718243323171108,0.26991038067409345,0.2719292945889143,0.005972113065949917,0.27118951240313427,0.27307820419920975,0.2726414574989559,0.2747362807156355,0.27040367686345607,0.2695764933448494,0.27205813620644276,0.27411157044746765,0.26789705341720543,0.27456819118929154,0.09078524435774735,0.093381816953088,0.26777010504848736,0.26359151214830695,0.2732178687132153,0.25807911252228394,0.24008981071796015,0.2735738135528402,0.27276333846596235,0.07787256279163884,0.2607849378018229,0.2727773961153346,0.2664203268780809,0.24078332621833143,0.27211891461999926,0.27354059239217754,0.274791410980941,0.2579881736380886,0.2582440048077463,0.27525362935624514,0.26952189511003466,0.2670548311154774,0.26710566021902243,0.26014143152124775,0.27260216008926685,0.27276555587892615,0.27241205763906456,0.2731968040840267,0.2733740154411719,0.18164669832388933,0.2728332795528672,0.26680362591762524,0.2737499350559688,0.2703024879002633,0.27299592163372277,0.2717472133800795,0.27337603660417875,0.2685783925438424,0.2703186135632615,0.005972113065949917,0.27333288924172816,0.19896149381255426,0.2716011056878074,0.24600394051143684,0.2718555432987442,0.2498128538480736,0.21914242794159486,0.27303422715888165,0.2712967738634049,0.2728095353682844,0.27379060821115264,0.2682677120941292,0.26935102829771396,0.2747684071965727,0.26914138515990227,0.27127600039231664,0.2749581781530616,0.26786057712710204,0.26909608373724214,0.0896553544752801,0.2699356489865252,0.24013596069130788,0.2740315999413163,0.2714677410780399,0.14812764463180766,0.24720398382660727,0.26926006201004915,0.17622412755214084,0.24616553861502016,0.26637901946465203,0.26807133775199893,0.2739118469703991,0.269807670823655,0.27267181525522943,0.267976435212635,0.27240399873232946,0.2718358944682292,0.27395752837121606,0.25717920514841247,0.2685152024651962,0.22523561053397767,0.09410223311982045,0.2733659374657036,0.2733856261658022,0.0749822847556968,0.27348787835525457,0.2614691172856708,0.2704741270433735,0.27026661392207596,0.2700750300404206,0.26471392469100935,0.10398705650276192,0.2744239006129177,0.26953975417172493,0.2746153151891202,0.26843811178984933,0.08588875468334631,0.2736286050799626,0.06714433861465778,0.07501003831668003,0.25926950808178667,0.2746222041978853,0.19628932305298027,0.2560047332121234,0.27298897292843305,0.27322157326111807,0.2721805296762989,0.20004039703496282,0.2740508824706612,0.2722842809731705,0.27400296592246,0.2659656157453465,0.271179454649022,0.2655455601266822,0.2682623671537583,0.2699497703551767,0.2752756366206117,0.27343529295622215,0.2514965393824011,0.26879747266928755,0.27162794949133906,0.27278137095296473,0.15795840903314526,0.2705281164422434,0.27217988697564677,0.2747621958041355,0.27025945512746175,0.22351733707221133,0.270243731243973,0.2733873087136217,0.271367833869497,0.15348195630952316,0.2433684327529346,0.2748542629420802,0.26826899878594473,0.26920315604396494,0.2742947082551477,0.239809573799941,0.2741588493307767,0.23477351678885983,0.2744263738911508],\"type\":\"scatter\",\"xaxis\":\"x2\",\"yaxis\":\"y2\"},{\"marker\":{\"color\":[0,1,2,3,4,5,6,7,8,9,10,11,12,13,14,15,16,17,18,19,20,21,22,23,24,25,26,27,28,29,30,31,32,33,34,35,36,37,38,39,40,41,42,43,44,45,46,47,48,49,50,51,52,53,54,55,56,57,58,59,60,61,62,63,64,65,66,67,68,69,70,71,72,73,74,75,76,77,78,79,80,81,82,83,84,85,86,87,88,89,90,91,92,93,94,95,96,97,98,99,100,101,102,103,104,105,106,107,108,109,110,111,112,113,114,115,116,117,118,119,120,121,122,123,124,125,126,127,128,129,130,131,132,133,134,135,136,137,138,139,140,141,142,143,144,145,146,147,148,149,150,151,152,153,154,155,156,157,158,159,160,161,162,163,164,165,166,167,168,169,170,171,172,173,174,175,176,177,178,179,180,181,182,183,184,185,186,187,188,189,190,191,192,193,194,195,196,197,198,199,200,201,202,203,204,205,206,207,208,209,210,211,212,213,214,215,216,217,218,219,220,221,222,223,224,225,226,227,228,229,230,231,232,233,234,235,236,237,238,239,240,241,242,243,244,245,246,247,248,249,250,251,252,253,254,255,256,257,258,259,260,261,262,263,264,265,266,267,268,269,270,271,272,273,274,275,276,277,278,279,280,281,282,283,284,285,286,287,288,289,290,291,292,293,294,295,296,297,298,299,300,301,302,303,304,305,306,307,308,309,310,311,312,313,314,315,316,317,318,319,320,321,322,323,324,325,326,327,328,329,330,331,332,333,334,335,336,337,338,339,340,341,342,343,344,345,346,347,348,349,350,351,352,353,354,355,356,357,358,359,360,361,362,363,364,365,366,367,368,369,370,371,372,373,374,375,376,377,378,379,380,381,382,383,384,385,386,387,388,389,390,391,392,393,394,395,396,397,398,399,400,401,402,403,404,405,406,407,408,409,410,411,412,413,414,415,416,417,418,419,420,421,422,423,424,425,426,427,428,429,430,431,432,433,434,435,436,437,438,439,440,441,442,443,444,445,446,447,448,449,450,451,452,453,454,455,456,457,458,459,460,461,462,463,464,465,466,467,468,469,470,471,472,473,474,475,476,477,478,479,480,481,482,483,484,485,486,487,488,489,490,491,492,493,494,495,496,497,498,499,500,501,502,503,504,505,506,507,508,509,510,511,512,513,514,515,516,517,518,519,520,521,522,523,524,525,526,527,528,529,530,531,532,533,534,535,536,537,538,539,540,541,542,543,544,545,546,547,548,549,550,551,552,553,554,555,556,557,558,559,560,561,562,563,564,565,566,567,568,569,570,571,572,573,574,575,576,577,578,579,580,581,582,583,584,585,586,587,588,589,590,591,592,593,594,595,596,597,598,599],\"colorbar\":{\"title\":{\"text\":\"Trial\"},\"x\":1.0,\"xpad\":40},\"colorscale\":[[0.0,\"rgb(247,251,255)\"],[0.125,\"rgb(222,235,247)\"],[0.25,\"rgb(198,219,239)\"],[0.375,\"rgb(158,202,225)\"],[0.5,\"rgb(107,174,214)\"],[0.625,\"rgb(66,146,198)\"],[0.75,\"rgb(33,113,181)\"],[0.875,\"rgb(8,81,156)\"],[1.0,\"rgb(8,48,107)\"]],\"line\":{\"color\":\"Grey\",\"width\":0.5},\"showscale\":false},\"mode\":\"markers\",\"name\":\"Feasible Trial\",\"showlegend\":false,\"x\":[true,false,true,true,false,false,false,false,true,true,false,false,false,false,false,false,false,false,false,false,false,false,false,false,false,false,true,false,false,true,false,false,false,false,false,true,true,true,true,true,true,true,true,true,true,true,true,true,true,true,true,true,true,true,true,true,true,true,true,true,true,true,true,true,true,true,true,true,true,true,true,true,true,true,true,true,true,true,true,true,true,true,true,true,true,true,true,true,true,true,true,true,true,true,true,true,true,true,true,true,true,true,true,true,true,true,true,true,true,true,true,true,true,true,true,true,true,true,true,true,true,true,true,true,true,true,true,true,true,true,true,true,true,true,true,true,false,true,true,true,true,true,true,true,true,true,true,true,true,true,true,true,true,true,true,true,true,true,false,true,true,true,true,true,true,true,true,true,true,true,true,true,true,true,true,true,true,true,true,true,true,true,true,true,true,true,true,true,false,true,true,true,true,true,true,true,true,true,true,true,true,true,true,true,true,true,true,true,true,true,true,true,true,true,true,true,true,true,true,true,false,true,true,true,true,true,true,true,true,true,true,true,true,true,true,true,true,true,true,true,true,true,true,true,true,true,true,true,true,true,true,true,true,true,true,false,true,true,true,true,true,true,true,true,true,true,true,true,true,true,true,true,true,true,false,true,true,true,true,true,true,true,true,true,true,true,true,true,true,true,true,true,true,true,true,false,true,true,true,true,true,true,true,true,true,true,true,true,true,true,true,true,true,false,false,false,false,false,false,true,false,false,true,true,true,true,true,true,true,true,true,true,false,true,true,true,true,true,true,true,true,true,true,true,true,true,false,true,true,true,true,true,true,true,true,true,true,false,false,false,false,false,false,false,false,false,true,true,true,true,true,true,false,true,true,true,true,true,true,true,true,true,false,true,true,true,true,true,true,true,true,false,true,true,true,true,true,true,true,true,false,true,true,true,true,true,true,true,false,true,true,true,true,true,true,true,false,true,true,true,true,true,true,true,false,true,true,true,true,true,true,true,true,true,true,true,true,true,true,true,true,true,true,true,true,true,true,true,true,true,true,true,true,true,true,true,true,true,true,true,true,true,true,true,true,true,true,true,true,true,true,true,true,true,true,true,true,true,true,true,true,true,true,true,true,true,true,true,true,true,true,true,true,true,true,true,true,true,true,true,true,true,true,true,true,true,true,true,true,true,true,true,true,true,true,true,true,true,false,true,true,true,true,true,true,true,true,true,true,true,false,true,true,true,true,true,true,true,true,true,false,true,true,true,true,true,true,true,true,true,true,false,true,true,true,true,true,true,true,true,true,true,true,true,false,true,true,true,true,true,true,true,true,true,false,true,true,true,true,true,true,true,true,true,true,true,true,false,true,true,true,true,true,true,true,true,true,false,true,true],\"y\":[0.07739749877027387,0.07858667209228613,0.06510864611853484,0.07847320693421804,0.04748853628419093,0.06630303591406465,0.05559490574123661,0.03880682904742222,0.0511740666502776,0.04990227196529182,0.17203837452657234,0.16417606308745472,0.18159872637332145,0.25157064039912846,0.2508552735885827,0.24598114807809007,0.1686420169674047,0.18140302202617758,0.233245079980302,0.15629938351752104,0.24918758047126383,0.2488223323954564,0.23782650633308317,0.2261583249136928,0.13058067197264445,0.22325233828975805,0.24043284536845194,0.2404804648408771,0.1407625942679735,0.24213118699221783,0.1596883890997764,0.2489787020501028,0.258314122664155,0.2530453489667818,0.25641561538700847,0.25738782419098777,0.25687054752185123,0.08349745506425506,0.12203873965555477,0.2570313447684518,0.2215173254355084,0.25640094395641533,0.25747448661980776,0.19452109535474732,0.10745236609291679,0.26115867252999747,0.25171831339056944,0.21755633533860108,0.24775298127240578,0.09984467314454523,0.15870454080827973,0.24979985526569679,0.26031260509464726,0.23730216203755225,0.24838017746913532,0.25459528452784413,0.19421461310633029,0.23503902317854344,0.06453910647749937,0.2617747220071662,0.2601960292624363,0.25964641192870347,0.25981709583749335,0.263058790663452,0.25875930749019266,0.2667073894769113,0.26973685756984606,0.2692715062171388,0.26695611512670786,0.22727445935185595,0.26646646627785914,0.2576353273565389,0.2680955157291235,0.26851849611757345,0.26666032451272803,0.26162974566977376,0.27108685488123224,0.2660864708192767,0.27129235974016075,0.26850300084848233,0.27145308527349027,0.2698763331438474,0.2685480533428535,0.26858456071647,0.2631729590764075,0.2697394095808364,0.26765032679547784,0.22730731371042825,0.2515095822233475,0.2655218600906946,0.08696038385081403,0.2651627111622933,0.26954539223774704,0.2697015169715496,0.26982590443442017,0.005972113065949917,0.272147607614542,0.27217739073527913,0.2693843755508265,0.24017077921703353,0.24577764682258543,0.20131544471905774,0.0701017713155802,0.26311990303201926,0.24506801789415755,0.27373312502108754,0.27318575026644,0.26975968262018385,0.27095274859903284,0.2537540614768321,0.2737336407865632,0.26921099011471145,0.17902215852437006,0.2744543893394464,0.27509043678545714,0.2753158191736394,0.2667729289999982,0.2740320957939774,0.2655377074520251,0.27271199745284463,0.26537491803544333,0.2753214911497019,0.005972113065949917,0.2720444793270884,0.2742920910887087,0.26943851840490113,0.2556229016729896,0.26377586219385124,0.27211821882916365,0.2706584846341203,0.2643154658968802,0.26611258675355387,0.2751468833261084,0.27170612624448776,0.2733555262823487,0.06597788810483336,0.09926596914068031,0.2746037598776359,0.274661054177763,0.2733395725709268,0.27314294011755896,0.27508571539442955,0.27469056964193495,0.27546375448352656,0.27522041338403697,0.2666690318825953,0.2727451558460175,0.2681995495162941,0.236367314267053,0.17466048656773922,0.12517152665809406,0.27515769969618364,0.22975336509844752,0.27532393972685837,0.27213199258502513,0.2716401397105091,0.2706137774050363,0.2699049323619637,0.24988080332698645,0.2704168505811787,0.08474160337386709,0.27381926143168694,0.27499397663655456,0.20216971884036755,0.2745885307524775,0.2709208966709604,0.26581814132618076,0.16374548356059165,0.27154294524149136,0.2736025527156243,0.2583610901557852,0.2747097314467651,0.2719837259850468,0.272564679998845,0.2748097252485712,0.27179257303735904,0.27215387190069446,0.27366994981915127,0.1801675546864043,0.27283691723376746,0.2701039714392456,0.27364616181392887,0.27151831110808894,0.2752645258878983,0.2753211665774625,0.27384008543403043,0.2700440645176547,0.2747176195382377,0.2732823063897019,0.27054786893959876,0.2686687342675211,0.2757505849868378,0.27541399887167856,0.27464545374529936,0.273382506654308,0.27274013556010407,0.2745526393666851,0.2640147372214224,0.27293177551193704,0.26864436921757767,0.2686843429637316,0.2741042611487529,0.24118295110972612,0.27482340014829965,0.2733801485038014,0.2750876377212433,0.2750192523180676,0.005972113065949917,0.27413010997702686,0.26523994414715607,0.2734267890467883,0.2749694804608138,0.2724527950337419,0.2754640946763541,0.2706748046487466,0.2735443662208049,0.27179198166447704,0.27171747002253527,0.11434884470121537,0.27369772369817263,0.26987829735766805,0.27458556438589204,0.2503221830650957,0.2737265000320481,0.2727443926065065,0.2737970533244468,0.2746367953443241,0.27390820320379533,0.19877732297514383,0.2694489141953489,0.27396816727279955,0.27493781127290534,0.24200367394915237,0.27479292688839785,0.2726740463983271,0.27297930242429397,0.27205446411362216,0.2696731422092676,0.2732934776628971,0.08341195967179187,0.2751984084036107,0.27509007684831016,0.27476654650576743,0.2740987493195192,0.27424481287461133,0.2737006632106184,0.2660954308312873,0.2741140256124905,0.2743799759129613,0.25631050033221714,0.27116048369549844,0.2704263102716532,0.22529097585944585,0.24269372839264286,0.27359688944901556,0.27330769161981056,0.2364198795146937,0.1951004267617381,0.21398152317758343,0.2721604555345338,0.27231484528193656,0.2741756981300792,0.2734738664779609,0.2679545784369447,0.27448981303679004,0.09174631502673532,0.27350472761268,0.24035338994788477,0.26672265673450135,0.27285429713552056,0.27189033218941827,0.07594139814379311,0.1975484079166702,0.2735638024220421,0.2727710950752683,0.273657432770069,0.2697819717056563,0.2748976090123062,0.26761631985759826,0.269448915795837,0.24963216016394893,0.27555915341807447,0.26457492648565684,0.07953484831444879,0.27452610511168,0.2731545611404798,0.2748716104068249,0.2680937094318446,0.23653362392361488,0.27395319032677024,0.27251096104343137,0.2548623944563041,0.26511680025805423,0.27478547520176416,0.19477394444636079,0.21215606004214366,0.0646958365829232,0.27378638551505025,0.25106758769833626,0.2669474048853238,0.27375835881230476,0.27340545482308354,0.2738448204844154,0.2746722007547542,0.26560469136623766,0.2728572323415928,0.2692203304936441,0.12384747161586981,0.18781465722294227,0.2299785160911486,0.27459988947056096,0.2738190470093501,0.2644222457377057,0.2749701312248092,0.27383625421776037,0.273885878734306,0.26928085989113276,0.24524348433243853,0.06661253341917242,0.23822776763905074,0.15095211972873906,0.27237931710483443,0.27416475971221793,0.26903211967577606,0.2673053303526624,0.27282732926330705,0.24600135798135112,0.2747943869217192,0.005972113065949917,0.26504771374339003,0.2741573138529603,0.2723792742926132,0.2725395916229838,0.2739935618153069,0.2750463822765817,0.22562775432918386,0.2723384980078125,0.27288065295346464,0.21853261273541555,0.23208969805366367,0.27020784434218953,0.26507617625678265,0.2742780824227235,0.2728973643858764,0.27417847566514014,0.23337606109515704,0.2695922607129199,0.253365891853654,0.2710330619425847,0.005972113065949917,0.273303406417641,0.2713583640856314,0.2532399238938904,0.173997936383304,0.25774987468825045,0.2735330622755124,0.27224626237739835,0.2751332573072699,0.2683083211379426,0.2724460050122563,0.1066040525889241,0.27110476708208,0.24869880677323963,0.27043502867373503,0.2721389903064378,0.25923863587175267,0.26899106792882665,0.2714625579556883,0.26463928515777024,0.2692139507382832,0.08586172593048587,0.27198437432895484,0.27400635963747166,0.27074485932446585,0.2701897137570865,0.27201409611636224,0.060525729166272926,0.2730942558055558,0.272159682056444,0.268540395433296,0.26842131033419203,0.1620156207186861,0.26661086670642536,0.27434175905292757,0.24272369156622964,0.2512718641523418,0.2732789859153269,0.005972113065949917,0.272193159342027,0.26761989733040126,0.26420753791558044,0.2747719263644046,0.2278500851421179,0.2717106128899757,0.27238076256767707,0.2753787683675133,0.275206429969006,0.26737840259664597,0.27413688785222146,0.2688604495514677,0.2741200518108274,0.27318379754910604,0.15511962622357656,0.26189580035146076,0.07976951379796983,0.2727207625916036,0.2720365282224648,0.26300343722442937,0.2718791884730276,0.27271653853702466,0.26931793871470905,0.2714400633318098,0.26888288986502784,0.2053208556713536,0.27367648435904685,0.2724650484077507,0.274380904314105,0.26750877582125054,0.2663136419365181,0.2458275512446905,0.27180179731235304,0.24519995665464453,0.27233596834274865,0.2548300278532391,0.2744326790476704,0.2700756051573394,0.2406923604088575,0.27369127065958043,0.2734525519982306,0.26756102136585547,0.2564197290354463,0.275418315306985,0.26744494099148974,0.09297717148335051,0.2754676291446113,0.24620632253783936,0.2733049544108649,0.2713445740217888,0.07217845102707368,0.2732645936009291,0.2746858725207749,0.10983038718188752,0.27183714035801504,0.26033785322887343,0.270417898530914,0.2718243323171108,0.26991038067409345,0.2719292945889143,0.005972113065949917,0.27118951240313427,0.27307820419920975,0.2726414574989559,0.2747362807156355,0.27040367686345607,0.2695764933448494,0.27205813620644276,0.27411157044746765,0.26789705341720543,0.27456819118929154,0.09078524435774735,0.093381816953088,0.26777010504848736,0.26359151214830695,0.2732178687132153,0.25807911252228394,0.24008981071796015,0.2735738135528402,0.27276333846596235,0.07787256279163884,0.2607849378018229,0.2727773961153346,0.2664203268780809,0.24078332621833143,0.27211891461999926,0.27354059239217754,0.274791410980941,0.2579881736380886,0.2582440048077463,0.27525362935624514,0.26952189511003466,0.2670548311154774,0.26710566021902243,0.26014143152124775,0.27260216008926685,0.27276555587892615,0.27241205763906456,0.2731968040840267,0.2733740154411719,0.18164669832388933,0.2728332795528672,0.26680362591762524,0.2737499350559688,0.2703024879002633,0.27299592163372277,0.2717472133800795,0.27337603660417875,0.2685783925438424,0.2703186135632615,0.005972113065949917,0.27333288924172816,0.19896149381255426,0.2716011056878074,0.24600394051143684,0.2718555432987442,0.2498128538480736,0.21914242794159486,0.27303422715888165,0.2712967738634049,0.2728095353682844,0.27379060821115264,0.2682677120941292,0.26935102829771396,0.2747684071965727,0.26914138515990227,0.27127600039231664,0.2749581781530616,0.26786057712710204,0.26909608373724214,0.0896553544752801,0.2699356489865252,0.24013596069130788,0.2740315999413163,0.2714677410780399,0.14812764463180766,0.24720398382660727,0.26926006201004915,0.17622412755214084,0.24616553861502016,0.26637901946465203,0.26807133775199893,0.2739118469703991,0.269807670823655,0.27267181525522943,0.267976435212635,0.27240399873232946,0.2718358944682292,0.27395752837121606,0.25717920514841247,0.2685152024651962,0.22523561053397767,0.09410223311982045,0.2733659374657036,0.2733856261658022,0.0749822847556968,0.27348787835525457,0.2614691172856708,0.2704741270433735,0.27026661392207596,0.2700750300404206,0.26471392469100935,0.10398705650276192,0.2744239006129177,0.26953975417172493,0.2746153151891202,0.26843811178984933,0.08588875468334631,0.2736286050799626,0.06714433861465778,0.07501003831668003,0.25926950808178667,0.2746222041978853,0.19628932305298027,0.2560047332121234,0.27298897292843305,0.27322157326111807,0.2721805296762989,0.20004039703496282,0.2740508824706612,0.2722842809731705,0.27400296592246,0.2659656157453465,0.271179454649022,0.2655455601266822,0.2682623671537583,0.2699497703551767,0.2752756366206117,0.27343529295622215,0.2514965393824011,0.26879747266928755,0.27162794949133906,0.27278137095296473,0.15795840903314526,0.2705281164422434,0.27217988697564677,0.2747621958041355,0.27025945512746175,0.22351733707221133,0.270243731243973,0.2733873087136217,0.271367833869497,0.15348195630952316,0.2433684327529346,0.2748542629420802,0.26826899878594473,0.26920315604396494,0.2742947082551477,0.239809573799941,0.2741588493307767,0.23477351678885983,0.2744263738911508],\"type\":\"scatter\",\"xaxis\":\"x3\",\"yaxis\":\"y3\"},{\"marker\":{\"color\":[0,1,2,3,4,5,6,7,8,9,10,11,12,13,14,15,16,17,18,19,20,21,22,23,24,25,26,27,28,29,30,31,32,33,34,35,36,37,38,39,40,41,42,43,44,45,46,47,48,49,50,51,52,53,54,55,56,57,58,59,60,61,62,63,64,65,66,67,68,69,70,71,72,73,74,75,76,77,78,79,80,81,82,83,84,85,86,87,88,89,90,91,92,93,94,95,96,97,98,99,100,101,102,103,104,105,106,107,108,109,110,111,112,113,114,115,116,117,118,119,120,121,122,123,124,125,126,127,128,129,130,131,132,133,134,135,136,137,138,139,140,141,142,143,144,145,146,147,148,149,150,151,152,153,154,155,156,157,158,159,160,161,162,163,164,165,166,167,168,169,170,171,172,173,174,175,176,177,178,179,180,181,182,183,184,185,186,187,188,189,190,191,192,193,194,195,196,197,198,199,200,201,202,203,204,205,206,207,208,209,210,211,212,213,214,215,216,217,218,219,220,221,222,223,224,225,226,227,228,229,230,231,232,233,234,235,236,237,238,239,240,241,242,243,244,245,246,247,248,249,250,251,252,253,254,255,256,257,258,259,260,261,262,263,264,265,266,267,268,269,270,271,272,273,274,275,276,277,278,279,280,281,282,283,284,285,286,287,288,289,290,291,292,293,294,295,296,297,298,299,300,301,302,303,304,305,306,307,308,309,310,311,312,313,314,315,316,317,318,319,320,321,322,323,324,325,326,327,328,329,330,331,332,333,334,335,336,337,338,339,340,341,342,343,344,345,346,347,348,349,350,351,352,353,354,355,356,357,358,359,360,361,362,363,364,365,366,367,368,369,370,371,372,373,374,375,376,377,378,379,380,381,382,383,384,385,386,387,388,389,390,391,392,393,394,395,396,397,398,399,400,401,402,403,404,405,406,407,408,409,410,411,412,413,414,415,416,417,418,419,420,421,422,423,424,425,426,427,428,429,430,431,432,433,434,435,436,437,438,439,440,441,442,443,444,445,446,447,448,449,450,451,452,453,454,455,456,457,458,459,460,461,462,463,464,465,466,467,468,469,470,471,472,473,474,475,476,477,478,479,480,481,482,483,484,485,486,487,488,489,490,491,492,493,494,495,496,497,498,499,500,501,502,503,504,505,506,507,508,509,510,511,512,513,514,515,516,517,518,519,520,521,522,523,524,525,526,527,528,529,530,531,532,533,534,535,536,537,538,539,540,541,542,543,544,545,546,547,548,549,550,551,552,553,554,555,556,557,558,559,560,561,562,563,564,565,566,567,568,569,570,571,572,573,574,575,576,577,578,579,580,581,582,583,584,585,586,587,588,589,590,591,592,593,594,595,596,597,598,599],\"colorbar\":{\"title\":{\"text\":\"Trial\"},\"x\":1.0,\"xpad\":40},\"colorscale\":[[0.0,\"rgb(247,251,255)\"],[0.125,\"rgb(222,235,247)\"],[0.25,\"rgb(198,219,239)\"],[0.375,\"rgb(158,202,225)\"],[0.5,\"rgb(107,174,214)\"],[0.625,\"rgb(66,146,198)\"],[0.75,\"rgb(33,113,181)\"],[0.875,\"rgb(8,81,156)\"],[1.0,\"rgb(8,48,107)\"]],\"line\":{\"color\":\"Grey\",\"width\":0.5},\"showscale\":false},\"mode\":\"markers\",\"name\":\"Feasible Trial\",\"showlegend\":false,\"x\":[true,true,true,true,false,false,true,false,false,false,true,true,true,true,true,true,true,true,true,true,true,true,true,true,true,true,false,true,true,true,true,true,true,true,true,true,true,false,true,true,false,true,true,true,true,true,false,true,true,true,true,true,true,true,true,true,false,true,true,true,true,true,true,true,true,true,true,true,true,false,true,true,true,true,true,true,true,true,true,true,true,true,true,true,true,true,true,false,true,true,true,true,true,true,true,true,true,true,true,true,false,true,true,true,true,true,true,true,true,true,true,true,true,true,true,true,true,true,true,true,true,true,true,true,true,true,false,true,true,true,true,true,true,true,true,true,true,true,true,true,true,true,true,true,true,true,true,true,false,true,true,true,true,true,true,true,true,true,true,true,true,true,true,true,true,true,true,true,true,true,true,true,true,true,true,true,true,true,false,true,true,true,true,true,true,true,true,true,true,true,true,true,true,true,true,true,true,true,true,true,true,true,true,true,true,true,true,true,true,false,true,true,true,true,true,true,true,true,true,true,true,true,true,true,true,true,true,true,true,true,true,true,true,true,true,true,true,true,true,true,true,true,true,true,true,true,true,true,true,false,true,true,true,true,true,true,true,true,true,true,true,true,true,true,true,true,true,false,true,true,true,true,true,true,true,true,true,true,true,true,true,true,true,true,true,true,true,true,false,true,true,true,true,true,true,true,true,true,true,true,true,true,true,true,true,true,true,true,true,false,true,true,true,true,true,true,true,true,true,true,true,true,true,true,true,true,false,true,true,true,true,true,true,true,true,true,true,true,true,true,true,true,true,true,true,false,true,true,true,true,true,true,true,true,true,true,true,true,true,true,true,true,true,true,true,false,true,true,true,true,true,true,true,true,true,true,true,true,true,true,true,true,true,true,false,true,true,true,true,true,true,true,true,true,true,true,true,true,true,true,true,true,true,true,false,true,true,true,true,true,true,true,true,true,true,true,true,true,true,true,true,true,true,false,true,true,true,true,true,true,true,true,true,true,true,true,true,true,true,true,true,true,true,false,true,true,true,true,true,true,true,true,true,true,true,true,true,true,true,true,true,true,false,true,true,true,true,true,true,true,true,true,true,true,true,true,true,true,true,true,true,true,false,true,true,true,true,true,true,true,true,true,true,true,true,true,true,true,true,true,true,true,false,true,true,true,true,true,true,true,true,true,true,true,true,true,true,true,true,true,false,true,true,true,true,true,true,true,true,true,true,true,true,true,true,true,true,true,true,true,false,true,true,true,true,true,true,true,true,true,true,true,true,true,true,true,true,true,false,true,true,true,true,true,true,true,true,true,true,true,true,true,true,true,true,true,true,false,true,true,true,true,true,true,true,true,true,true,true,true,true,true,true,true,true,true,false,true,true,true],\"y\":[0.07739749877027387,0.07858667209228613,0.06510864611853484,0.07847320693421804,0.04748853628419093,0.06630303591406465,0.05559490574123661,0.03880682904742222,0.0511740666502776,0.04990227196529182,0.17203837452657234,0.16417606308745472,0.18159872637332145,0.25157064039912846,0.2508552735885827,0.24598114807809007,0.1686420169674047,0.18140302202617758,0.233245079980302,0.15629938351752104,0.24918758047126383,0.2488223323954564,0.23782650633308317,0.2261583249136928,0.13058067197264445,0.22325233828975805,0.24043284536845194,0.2404804648408771,0.1407625942679735,0.24213118699221783,0.1596883890997764,0.2489787020501028,0.258314122664155,0.2530453489667818,0.25641561538700847,0.25738782419098777,0.25687054752185123,0.08349745506425506,0.12203873965555477,0.2570313447684518,0.2215173254355084,0.25640094395641533,0.25747448661980776,0.19452109535474732,0.10745236609291679,0.26115867252999747,0.25171831339056944,0.21755633533860108,0.24775298127240578,0.09984467314454523,0.15870454080827973,0.24979985526569679,0.26031260509464726,0.23730216203755225,0.24838017746913532,0.25459528452784413,0.19421461310633029,0.23503902317854344,0.06453910647749937,0.2617747220071662,0.2601960292624363,0.25964641192870347,0.25981709583749335,0.263058790663452,0.25875930749019266,0.2667073894769113,0.26973685756984606,0.2692715062171388,0.26695611512670786,0.22727445935185595,0.26646646627785914,0.2576353273565389,0.2680955157291235,0.26851849611757345,0.26666032451272803,0.26162974566977376,0.27108685488123224,0.2660864708192767,0.27129235974016075,0.26850300084848233,0.27145308527349027,0.2698763331438474,0.2685480533428535,0.26858456071647,0.2631729590764075,0.2697394095808364,0.26765032679547784,0.22730731371042825,0.2515095822233475,0.2655218600906946,0.08696038385081403,0.2651627111622933,0.26954539223774704,0.2697015169715496,0.26982590443442017,0.005972113065949917,0.272147607614542,0.27217739073527913,0.2693843755508265,0.24017077921703353,0.24577764682258543,0.20131544471905774,0.0701017713155802,0.26311990303201926,0.24506801789415755,0.27373312502108754,0.27318575026644,0.26975968262018385,0.27095274859903284,0.2537540614768321,0.2737336407865632,0.26921099011471145,0.17902215852437006,0.2744543893394464,0.27509043678545714,0.2753158191736394,0.2667729289999982,0.2740320957939774,0.2655377074520251,0.27271199745284463,0.26537491803544333,0.2753214911497019,0.005972113065949917,0.2720444793270884,0.2742920910887087,0.26943851840490113,0.2556229016729896,0.26377586219385124,0.27211821882916365,0.2706584846341203,0.2643154658968802,0.26611258675355387,0.2751468833261084,0.27170612624448776,0.2733555262823487,0.06597788810483336,0.09926596914068031,0.2746037598776359,0.274661054177763,0.2733395725709268,0.27314294011755896,0.27508571539442955,0.27469056964193495,0.27546375448352656,0.27522041338403697,0.2666690318825953,0.2727451558460175,0.2681995495162941,0.236367314267053,0.17466048656773922,0.12517152665809406,0.27515769969618364,0.22975336509844752,0.27532393972685837,0.27213199258502513,0.2716401397105091,0.2706137774050363,0.2699049323619637,0.24988080332698645,0.2704168505811787,0.08474160337386709,0.27381926143168694,0.27499397663655456,0.20216971884036755,0.2745885307524775,0.2709208966709604,0.26581814132618076,0.16374548356059165,0.27154294524149136,0.2736025527156243,0.2583610901557852,0.2747097314467651,0.2719837259850468,0.272564679998845,0.2748097252485712,0.27179257303735904,0.27215387190069446,0.27366994981915127,0.1801675546864043,0.27283691723376746,0.2701039714392456,0.27364616181392887,0.27151831110808894,0.2752645258878983,0.2753211665774625,0.27384008543403043,0.2700440645176547,0.2747176195382377,0.2732823063897019,0.27054786893959876,0.2686687342675211,0.2757505849868378,0.27541399887167856,0.27464545374529936,0.273382506654308,0.27274013556010407,0.2745526393666851,0.2640147372214224,0.27293177551193704,0.26864436921757767,0.2686843429637316,0.2741042611487529,0.24118295110972612,0.27482340014829965,0.2733801485038014,0.2750876377212433,0.2750192523180676,0.005972113065949917,0.27413010997702686,0.26523994414715607,0.2734267890467883,0.2749694804608138,0.2724527950337419,0.2754640946763541,0.2706748046487466,0.2735443662208049,0.27179198166447704,0.27171747002253527,0.11434884470121537,0.27369772369817263,0.26987829735766805,0.27458556438589204,0.2503221830650957,0.2737265000320481,0.2727443926065065,0.2737970533244468,0.2746367953443241,0.27390820320379533,0.19877732297514383,0.2694489141953489,0.27396816727279955,0.27493781127290534,0.24200367394915237,0.27479292688839785,0.2726740463983271,0.27297930242429397,0.27205446411362216,0.2696731422092676,0.2732934776628971,0.08341195967179187,0.2751984084036107,0.27509007684831016,0.27476654650576743,0.2740987493195192,0.27424481287461133,0.2737006632106184,0.2660954308312873,0.2741140256124905,0.2743799759129613,0.25631050033221714,0.27116048369549844,0.2704263102716532,0.22529097585944585,0.24269372839264286,0.27359688944901556,0.27330769161981056,0.2364198795146937,0.1951004267617381,0.21398152317758343,0.2721604555345338,0.27231484528193656,0.2741756981300792,0.2734738664779609,0.2679545784369447,0.27448981303679004,0.09174631502673532,0.27350472761268,0.24035338994788477,0.26672265673450135,0.27285429713552056,0.27189033218941827,0.07594139814379311,0.1975484079166702,0.2735638024220421,0.2727710950752683,0.273657432770069,0.2697819717056563,0.2748976090123062,0.26761631985759826,0.269448915795837,0.24963216016394893,0.27555915341807447,0.26457492648565684,0.07953484831444879,0.27452610511168,0.2731545611404798,0.2748716104068249,0.2680937094318446,0.23653362392361488,0.27395319032677024,0.27251096104343137,0.2548623944563041,0.26511680025805423,0.27478547520176416,0.19477394444636079,0.21215606004214366,0.0646958365829232,0.27378638551505025,0.25106758769833626,0.2669474048853238,0.27375835881230476,0.27340545482308354,0.2738448204844154,0.2746722007547542,0.26560469136623766,0.2728572323415928,0.2692203304936441,0.12384747161586981,0.18781465722294227,0.2299785160911486,0.27459988947056096,0.2738190470093501,0.2644222457377057,0.2749701312248092,0.27383625421776037,0.273885878734306,0.26928085989113276,0.24524348433243853,0.06661253341917242,0.23822776763905074,0.15095211972873906,0.27237931710483443,0.27416475971221793,0.26903211967577606,0.2673053303526624,0.27282732926330705,0.24600135798135112,0.2747943869217192,0.005972113065949917,0.26504771374339003,0.2741573138529603,0.2723792742926132,0.2725395916229838,0.2739935618153069,0.2750463822765817,0.22562775432918386,0.2723384980078125,0.27288065295346464,0.21853261273541555,0.23208969805366367,0.27020784434218953,0.26507617625678265,0.2742780824227235,0.2728973643858764,0.27417847566514014,0.23337606109515704,0.2695922607129199,0.253365891853654,0.2710330619425847,0.005972113065949917,0.273303406417641,0.2713583640856314,0.2532399238938904,0.173997936383304,0.25774987468825045,0.2735330622755124,0.27224626237739835,0.2751332573072699,0.2683083211379426,0.2724460050122563,0.1066040525889241,0.27110476708208,0.24869880677323963,0.27043502867373503,0.2721389903064378,0.25923863587175267,0.26899106792882665,0.2714625579556883,0.26463928515777024,0.2692139507382832,0.08586172593048587,0.27198437432895484,0.27400635963747166,0.27074485932446585,0.2701897137570865,0.27201409611636224,0.060525729166272926,0.2730942558055558,0.272159682056444,0.268540395433296,0.26842131033419203,0.1620156207186861,0.26661086670642536,0.27434175905292757,0.24272369156622964,0.2512718641523418,0.2732789859153269,0.005972113065949917,0.272193159342027,0.26761989733040126,0.26420753791558044,0.2747719263644046,0.2278500851421179,0.2717106128899757,0.27238076256767707,0.2753787683675133,0.275206429969006,0.26737840259664597,0.27413688785222146,0.2688604495514677,0.2741200518108274,0.27318379754910604,0.15511962622357656,0.26189580035146076,0.07976951379796983,0.2727207625916036,0.2720365282224648,0.26300343722442937,0.2718791884730276,0.27271653853702466,0.26931793871470905,0.2714400633318098,0.26888288986502784,0.2053208556713536,0.27367648435904685,0.2724650484077507,0.274380904314105,0.26750877582125054,0.2663136419365181,0.2458275512446905,0.27180179731235304,0.24519995665464453,0.27233596834274865,0.2548300278532391,0.2744326790476704,0.2700756051573394,0.2406923604088575,0.27369127065958043,0.2734525519982306,0.26756102136585547,0.2564197290354463,0.275418315306985,0.26744494099148974,0.09297717148335051,0.2754676291446113,0.24620632253783936,0.2733049544108649,0.2713445740217888,0.07217845102707368,0.2732645936009291,0.2746858725207749,0.10983038718188752,0.27183714035801504,0.26033785322887343,0.270417898530914,0.2718243323171108,0.26991038067409345,0.2719292945889143,0.005972113065949917,0.27118951240313427,0.27307820419920975,0.2726414574989559,0.2747362807156355,0.27040367686345607,0.2695764933448494,0.27205813620644276,0.27411157044746765,0.26789705341720543,0.27456819118929154,0.09078524435774735,0.093381816953088,0.26777010504848736,0.26359151214830695,0.2732178687132153,0.25807911252228394,0.24008981071796015,0.2735738135528402,0.27276333846596235,0.07787256279163884,0.2607849378018229,0.2727773961153346,0.2664203268780809,0.24078332621833143,0.27211891461999926,0.27354059239217754,0.274791410980941,0.2579881736380886,0.2582440048077463,0.27525362935624514,0.26952189511003466,0.2670548311154774,0.26710566021902243,0.26014143152124775,0.27260216008926685,0.27276555587892615,0.27241205763906456,0.2731968040840267,0.2733740154411719,0.18164669832388933,0.2728332795528672,0.26680362591762524,0.2737499350559688,0.2703024879002633,0.27299592163372277,0.2717472133800795,0.27337603660417875,0.2685783925438424,0.2703186135632615,0.005972113065949917,0.27333288924172816,0.19896149381255426,0.2716011056878074,0.24600394051143684,0.2718555432987442,0.2498128538480736,0.21914242794159486,0.27303422715888165,0.2712967738634049,0.2728095353682844,0.27379060821115264,0.2682677120941292,0.26935102829771396,0.2747684071965727,0.26914138515990227,0.27127600039231664,0.2749581781530616,0.26786057712710204,0.26909608373724214,0.0896553544752801,0.2699356489865252,0.24013596069130788,0.2740315999413163,0.2714677410780399,0.14812764463180766,0.24720398382660727,0.26926006201004915,0.17622412755214084,0.24616553861502016,0.26637901946465203,0.26807133775199893,0.2739118469703991,0.269807670823655,0.27267181525522943,0.267976435212635,0.27240399873232946,0.2718358944682292,0.27395752837121606,0.25717920514841247,0.2685152024651962,0.22523561053397767,0.09410223311982045,0.2733659374657036,0.2733856261658022,0.0749822847556968,0.27348787835525457,0.2614691172856708,0.2704741270433735,0.27026661392207596,0.2700750300404206,0.26471392469100935,0.10398705650276192,0.2744239006129177,0.26953975417172493,0.2746153151891202,0.26843811178984933,0.08588875468334631,0.2736286050799626,0.06714433861465778,0.07501003831668003,0.25926950808178667,0.2746222041978853,0.19628932305298027,0.2560047332121234,0.27298897292843305,0.27322157326111807,0.2721805296762989,0.20004039703496282,0.2740508824706612,0.2722842809731705,0.27400296592246,0.2659656157453465,0.271179454649022,0.2655455601266822,0.2682623671537583,0.2699497703551767,0.2752756366206117,0.27343529295622215,0.2514965393824011,0.26879747266928755,0.27162794949133906,0.27278137095296473,0.15795840903314526,0.2705281164422434,0.27217988697564677,0.2747621958041355,0.27025945512746175,0.22351733707221133,0.270243731243973,0.2733873087136217,0.271367833869497,0.15348195630952316,0.2433684327529346,0.2748542629420802,0.26826899878594473,0.26920315604396494,0.2742947082551477,0.239809573799941,0.2741588493307767,0.23477351678885983,0.2744263738911508],\"type\":\"scatter\",\"xaxis\":\"x4\",\"yaxis\":\"y4\"},{\"marker\":{\"color\":[0,1,2,3,4,5,6,7,8,9,10,11,12,13,14,15,16,17,18,19,20,21,22,23,24,25,26,27,28,29,30,31,32,33,34,35,36,37,38,39,40,41,42,43,44,45,46,47,48,49,50,51,52,53,54,55,56,57,58,59,60,61,62,63,64,65,66,67,68,69,70,71,72,73,74,75,76,77,78,79,80,81,82,83,84,85,86,87,88,89,90,91,92,93,94,95,96,97,98,99,100,101,102,103,104,105,106,107,108,109,110,111,112,113,114,115,116,117,118,119,120,121,122,123,124,125,126,127,128,129,130,131,132,133,134,135,136,137,138,139,140,141,142,143,144,145,146,147,148,149,150,151,152,153,154,155,156,157,158,159,160,161,162,163,164,165,166,167,168,169,170,171,172,173,174,175,176,177,178,179,180,181,182,183,184,185,186,187,188,189,190,191,192,193,194,195,196,197,198,199,200,201,202,203,204,205,206,207,208,209,210,211,212,213,214,215,216,217,218,219,220,221,222,223,224,225,226,227,228,229,230,231,232,233,234,235,236,237,238,239,240,241,242,243,244,245,246,247,248,249,250,251,252,253,254,255,256,257,258,259,260,261,262,263,264,265,266,267,268,269,270,271,272,273,274,275,276,277,278,279,280,281,282,283,284,285,286,287,288,289,290,291,292,293,294,295,296,297,298,299,300,301,302,303,304,305,306,307,308,309,310,311,312,313,314,315,316,317,318,319,320,321,322,323,324,325,326,327,328,329,330,331,332,333,334,335,336,337,338,339,340,341,342,343,344,345,346,347,348,349,350,351,352,353,354,355,356,357,358,359,360,361,362,363,364,365,366,367,368,369,370,371,372,373,374,375,376,377,378,379,380,381,382,383,384,385,386,387,388,389,390,391,392,393,394,395,396,397,398,399,400,401,402,403,404,405,406,407,408,409,410,411,412,413,414,415,416,417,418,419,420,421,422,423,424,425,426,427,428,429,430,431,432,433,434,435,436,437,438,439,440,441,442,443,444,445,446,447,448,449,450,451,452,453,454,455,456,457,458,459,460,461,462,463,464,465,466,467,468,469,470,471,472,473,474,475,476,477,478,479,480,481,482,483,484,485,486,487,488,489,490,491,492,493,494,495,496,497,498,499,500,501,502,503,504,505,506,507,508,509,510,511,512,513,514,515,516,517,518,519,520,521,522,523,524,525,526,527,528,529,530,531,532,533,534,535,536,537,538,539,540,541,542,543,544,545,546,547,548,549,550,551,552,553,554,555,556,557,558,559,560,561,562,563,564,565,566,567,568,569,570,571,572,573,574,575,576,577,578,579,580,581,582,583,584,585,586,587,588,589,590,591,592,593,594,595,596,597,598,599],\"colorbar\":{\"title\":{\"text\":\"Trial\"},\"x\":1.0,\"xpad\":40},\"colorscale\":[[0.0,\"rgb(247,251,255)\"],[0.125,\"rgb(222,235,247)\"],[0.25,\"rgb(198,219,239)\"],[0.375,\"rgb(158,202,225)\"],[0.5,\"rgb(107,174,214)\"],[0.625,\"rgb(66,146,198)\"],[0.75,\"rgb(33,113,181)\"],[0.875,\"rgb(8,81,156)\"],[1.0,\"rgb(8,48,107)\"]],\"line\":{\"color\":\"Grey\",\"width\":0.5},\"showscale\":false},\"mode\":\"markers\",\"name\":\"Feasible Trial\",\"showlegend\":false,\"x\":[54,530,1163,135,242,504,1202,4,288,912,670,651,732,880,999,930,1451,992,1165,1417,850,887,1054,819,1290,511,1077,789,1295,613,1052,856,828,756,739,722,552,441,412,584,291,616,574,574,410,672,695,148,339,478,608,559,698,674,710,965,768,663,804,476,481,483,486,360,363,192,170,164,173,153,71,17,210,197,205,210,79,200,85,98,81,83,104,95,25,108,107,62,290,245,112,250,48,44,43,0,43,44,44,134,77,40,134,54,8,78,125,133,85,139,77,79,4,72,72,76,170,71,239,128,125,66,0,31,44,30,159,58,117,117,175,20,59,123,70,62,150,67,97,80,87,92,67,70,64,21,101,186,59,3,227,69,96,61,155,37,56,109,1373,29,1,75,66,103,58,35,144,55,100,56,1115,70,32,110,68,139,31,92,2,63,173,65,122,78,90,98,143,85,108,30,160,72,83,91,95,134,94,22,130,81,182,64,40,81,114,83,56,0,50,27,67,88,123,77,86,41,116,148,77,52,26,77,1231,97,60,113,53,79,27,137,105,88,1498,71,84,57,119,29,90,1,64,55,48,48,42,56,22,103,74,45,119,86,154,20,51,103,71,131,4,72,38,100,54,142,86,27,115,66,94,43,152,117,4,71,38,82,117,65,169,94,936,67,23,136,66,105,53,26,50,93,133,411,19,59,3,86,322,112,50,159,86,45,111,71,192,129,33,84,3,534,55,103,141,66,42,66,25,105,66,865,38,122,87,25,159,64,100,56,0,131,85,32,111,65,87,185,141,95,84,124,30,167,81,112,57,1322,29,772,85,0,119,57,995,144,452,92,50,75,224,113,78,30,1088,158,104,67,30,134,89,49,1,106,72,35,139,93,270,56,120,172,77,20,49,105,75,618,127,0,45,94,205,64,31,148,101,70,57,26,60,26,55,73,2,51,126,83,36,385,112,72,27,100,60,157,41,115,77,26,135,815,88,56,98,13,65,132,725,42,99,172,1154,74,115,1,75,910,85,150,44,114,73,191,43,89,138,33,67,111,0,85,48,124,78,33,101,147,61,25,93,61,119,165,25,76,51,1024,99,121,22,511,77,56,1416,138,97,49,15,313,82,193,158,115,87,130,69,101,74,45,3,104,150,41,81,124,60,92,29,170,0,71,134,101,55,38,643,80,115,29,75,109,144,51,78,25,104,57,134,175,1,90,51,87,118,28,1245,69,41,567,104,210,64,152,89,24,130,55,104,67,28,80,134,48,108,2,82,49,166,106,28,73,957,91,130,53,24,122,74,53,103,157,80,3,695,45,123,88,31,64,142,99,188,57,258,24,111,74,50,356,74,33,79,2,120,52,98,32,78,143,59,111,2,841,77,163,40,102,134,66,22,97],\"y\":[0.07739749877027387,0.07858667209228613,0.06510864611853484,0.07847320693421804,0.04748853628419093,0.06630303591406465,0.05559490574123661,0.03880682904742222,0.0511740666502776,0.04990227196529182,0.17203837452657234,0.16417606308745472,0.18159872637332145,0.25157064039912846,0.2508552735885827,0.24598114807809007,0.1686420169674047,0.18140302202617758,0.233245079980302,0.15629938351752104,0.24918758047126383,0.2488223323954564,0.23782650633308317,0.2261583249136928,0.13058067197264445,0.22325233828975805,0.24043284536845194,0.2404804648408771,0.1407625942679735,0.24213118699221783,0.1596883890997764,0.2489787020501028,0.258314122664155,0.2530453489667818,0.25641561538700847,0.25738782419098777,0.25687054752185123,0.08349745506425506,0.12203873965555477,0.2570313447684518,0.2215173254355084,0.25640094395641533,0.25747448661980776,0.19452109535474732,0.10745236609291679,0.26115867252999747,0.25171831339056944,0.21755633533860108,0.24775298127240578,0.09984467314454523,0.15870454080827973,0.24979985526569679,0.26031260509464726,0.23730216203755225,0.24838017746913532,0.25459528452784413,0.19421461310633029,0.23503902317854344,0.06453910647749937,0.2617747220071662,0.2601960292624363,0.25964641192870347,0.25981709583749335,0.263058790663452,0.25875930749019266,0.2667073894769113,0.26973685756984606,0.2692715062171388,0.26695611512670786,0.22727445935185595,0.26646646627785914,0.2576353273565389,0.2680955157291235,0.26851849611757345,0.26666032451272803,0.26162974566977376,0.27108685488123224,0.2660864708192767,0.27129235974016075,0.26850300084848233,0.27145308527349027,0.2698763331438474,0.2685480533428535,0.26858456071647,0.2631729590764075,0.2697394095808364,0.26765032679547784,0.22730731371042825,0.2515095822233475,0.2655218600906946,0.08696038385081403,0.2651627111622933,0.26954539223774704,0.2697015169715496,0.26982590443442017,0.005972113065949917,0.272147607614542,0.27217739073527913,0.2693843755508265,0.24017077921703353,0.24577764682258543,0.20131544471905774,0.0701017713155802,0.26311990303201926,0.24506801789415755,0.27373312502108754,0.27318575026644,0.26975968262018385,0.27095274859903284,0.2537540614768321,0.2737336407865632,0.26921099011471145,0.17902215852437006,0.2744543893394464,0.27509043678545714,0.2753158191736394,0.2667729289999982,0.2740320957939774,0.2655377074520251,0.27271199745284463,0.26537491803544333,0.2753214911497019,0.005972113065949917,0.2720444793270884,0.2742920910887087,0.26943851840490113,0.2556229016729896,0.26377586219385124,0.27211821882916365,0.2706584846341203,0.2643154658968802,0.26611258675355387,0.2751468833261084,0.27170612624448776,0.2733555262823487,0.06597788810483336,0.09926596914068031,0.2746037598776359,0.274661054177763,0.2733395725709268,0.27314294011755896,0.27508571539442955,0.27469056964193495,0.27546375448352656,0.27522041338403697,0.2666690318825953,0.2727451558460175,0.2681995495162941,0.236367314267053,0.17466048656773922,0.12517152665809406,0.27515769969618364,0.22975336509844752,0.27532393972685837,0.27213199258502513,0.2716401397105091,0.2706137774050363,0.2699049323619637,0.24988080332698645,0.2704168505811787,0.08474160337386709,0.27381926143168694,0.27499397663655456,0.20216971884036755,0.2745885307524775,0.2709208966709604,0.26581814132618076,0.16374548356059165,0.27154294524149136,0.2736025527156243,0.2583610901557852,0.2747097314467651,0.2719837259850468,0.272564679998845,0.2748097252485712,0.27179257303735904,0.27215387190069446,0.27366994981915127,0.1801675546864043,0.27283691723376746,0.2701039714392456,0.27364616181392887,0.27151831110808894,0.2752645258878983,0.2753211665774625,0.27384008543403043,0.2700440645176547,0.2747176195382377,0.2732823063897019,0.27054786893959876,0.2686687342675211,0.2757505849868378,0.27541399887167856,0.27464545374529936,0.273382506654308,0.27274013556010407,0.2745526393666851,0.2640147372214224,0.27293177551193704,0.26864436921757767,0.2686843429637316,0.2741042611487529,0.24118295110972612,0.27482340014829965,0.2733801485038014,0.2750876377212433,0.2750192523180676,0.005972113065949917,0.27413010997702686,0.26523994414715607,0.2734267890467883,0.2749694804608138,0.2724527950337419,0.2754640946763541,0.2706748046487466,0.2735443662208049,0.27179198166447704,0.27171747002253527,0.11434884470121537,0.27369772369817263,0.26987829735766805,0.27458556438589204,0.2503221830650957,0.2737265000320481,0.2727443926065065,0.2737970533244468,0.2746367953443241,0.27390820320379533,0.19877732297514383,0.2694489141953489,0.27396816727279955,0.27493781127290534,0.24200367394915237,0.27479292688839785,0.2726740463983271,0.27297930242429397,0.27205446411362216,0.2696731422092676,0.2732934776628971,0.08341195967179187,0.2751984084036107,0.27509007684831016,0.27476654650576743,0.2740987493195192,0.27424481287461133,0.2737006632106184,0.2660954308312873,0.2741140256124905,0.2743799759129613,0.25631050033221714,0.27116048369549844,0.2704263102716532,0.22529097585944585,0.24269372839264286,0.27359688944901556,0.27330769161981056,0.2364198795146937,0.1951004267617381,0.21398152317758343,0.2721604555345338,0.27231484528193656,0.2741756981300792,0.2734738664779609,0.2679545784369447,0.27448981303679004,0.09174631502673532,0.27350472761268,0.24035338994788477,0.26672265673450135,0.27285429713552056,0.27189033218941827,0.07594139814379311,0.1975484079166702,0.2735638024220421,0.2727710950752683,0.273657432770069,0.2697819717056563,0.2748976090123062,0.26761631985759826,0.269448915795837,0.24963216016394893,0.27555915341807447,0.26457492648565684,0.07953484831444879,0.27452610511168,0.2731545611404798,0.2748716104068249,0.2680937094318446,0.23653362392361488,0.27395319032677024,0.27251096104343137,0.2548623944563041,0.26511680025805423,0.27478547520176416,0.19477394444636079,0.21215606004214366,0.0646958365829232,0.27378638551505025,0.25106758769833626,0.2669474048853238,0.27375835881230476,0.27340545482308354,0.2738448204844154,0.2746722007547542,0.26560469136623766,0.2728572323415928,0.2692203304936441,0.12384747161586981,0.18781465722294227,0.2299785160911486,0.27459988947056096,0.2738190470093501,0.2644222457377057,0.2749701312248092,0.27383625421776037,0.273885878734306,0.26928085989113276,0.24524348433243853,0.06661253341917242,0.23822776763905074,0.15095211972873906,0.27237931710483443,0.27416475971221793,0.26903211967577606,0.2673053303526624,0.27282732926330705,0.24600135798135112,0.2747943869217192,0.005972113065949917,0.26504771374339003,0.2741573138529603,0.2723792742926132,0.2725395916229838,0.2739935618153069,0.2750463822765817,0.22562775432918386,0.2723384980078125,0.27288065295346464,0.21853261273541555,0.23208969805366367,0.27020784434218953,0.26507617625678265,0.2742780824227235,0.2728973643858764,0.27417847566514014,0.23337606109515704,0.2695922607129199,0.253365891853654,0.2710330619425847,0.005972113065949917,0.273303406417641,0.2713583640856314,0.2532399238938904,0.173997936383304,0.25774987468825045,0.2735330622755124,0.27224626237739835,0.2751332573072699,0.2683083211379426,0.2724460050122563,0.1066040525889241,0.27110476708208,0.24869880677323963,0.27043502867373503,0.2721389903064378,0.25923863587175267,0.26899106792882665,0.2714625579556883,0.26463928515777024,0.2692139507382832,0.08586172593048587,0.27198437432895484,0.27400635963747166,0.27074485932446585,0.2701897137570865,0.27201409611636224,0.060525729166272926,0.2730942558055558,0.272159682056444,0.268540395433296,0.26842131033419203,0.1620156207186861,0.26661086670642536,0.27434175905292757,0.24272369156622964,0.2512718641523418,0.2732789859153269,0.005972113065949917,0.272193159342027,0.26761989733040126,0.26420753791558044,0.2747719263644046,0.2278500851421179,0.2717106128899757,0.27238076256767707,0.2753787683675133,0.275206429969006,0.26737840259664597,0.27413688785222146,0.2688604495514677,0.2741200518108274,0.27318379754910604,0.15511962622357656,0.26189580035146076,0.07976951379796983,0.2727207625916036,0.2720365282224648,0.26300343722442937,0.2718791884730276,0.27271653853702466,0.26931793871470905,0.2714400633318098,0.26888288986502784,0.2053208556713536,0.27367648435904685,0.2724650484077507,0.274380904314105,0.26750877582125054,0.2663136419365181,0.2458275512446905,0.27180179731235304,0.24519995665464453,0.27233596834274865,0.2548300278532391,0.2744326790476704,0.2700756051573394,0.2406923604088575,0.27369127065958043,0.2734525519982306,0.26756102136585547,0.2564197290354463,0.275418315306985,0.26744494099148974,0.09297717148335051,0.2754676291446113,0.24620632253783936,0.2733049544108649,0.2713445740217888,0.07217845102707368,0.2732645936009291,0.2746858725207749,0.10983038718188752,0.27183714035801504,0.26033785322887343,0.270417898530914,0.2718243323171108,0.26991038067409345,0.2719292945889143,0.005972113065949917,0.27118951240313427,0.27307820419920975,0.2726414574989559,0.2747362807156355,0.27040367686345607,0.2695764933448494,0.27205813620644276,0.27411157044746765,0.26789705341720543,0.27456819118929154,0.09078524435774735,0.093381816953088,0.26777010504848736,0.26359151214830695,0.2732178687132153,0.25807911252228394,0.24008981071796015,0.2735738135528402,0.27276333846596235,0.07787256279163884,0.2607849378018229,0.2727773961153346,0.2664203268780809,0.24078332621833143,0.27211891461999926,0.27354059239217754,0.274791410980941,0.2579881736380886,0.2582440048077463,0.27525362935624514,0.26952189511003466,0.2670548311154774,0.26710566021902243,0.26014143152124775,0.27260216008926685,0.27276555587892615,0.27241205763906456,0.2731968040840267,0.2733740154411719,0.18164669832388933,0.2728332795528672,0.26680362591762524,0.2737499350559688,0.2703024879002633,0.27299592163372277,0.2717472133800795,0.27337603660417875,0.2685783925438424,0.2703186135632615,0.005972113065949917,0.27333288924172816,0.19896149381255426,0.2716011056878074,0.24600394051143684,0.2718555432987442,0.2498128538480736,0.21914242794159486,0.27303422715888165,0.2712967738634049,0.2728095353682844,0.27379060821115264,0.2682677120941292,0.26935102829771396,0.2747684071965727,0.26914138515990227,0.27127600039231664,0.2749581781530616,0.26786057712710204,0.26909608373724214,0.0896553544752801,0.2699356489865252,0.24013596069130788,0.2740315999413163,0.2714677410780399,0.14812764463180766,0.24720398382660727,0.26926006201004915,0.17622412755214084,0.24616553861502016,0.26637901946465203,0.26807133775199893,0.2739118469703991,0.269807670823655,0.27267181525522943,0.267976435212635,0.27240399873232946,0.2718358944682292,0.27395752837121606,0.25717920514841247,0.2685152024651962,0.22523561053397767,0.09410223311982045,0.2733659374657036,0.2733856261658022,0.0749822847556968,0.27348787835525457,0.2614691172856708,0.2704741270433735,0.27026661392207596,0.2700750300404206,0.26471392469100935,0.10398705650276192,0.2744239006129177,0.26953975417172493,0.2746153151891202,0.26843811178984933,0.08588875468334631,0.2736286050799626,0.06714433861465778,0.07501003831668003,0.25926950808178667,0.2746222041978853,0.19628932305298027,0.2560047332121234,0.27298897292843305,0.27322157326111807,0.2721805296762989,0.20004039703496282,0.2740508824706612,0.2722842809731705,0.27400296592246,0.2659656157453465,0.271179454649022,0.2655455601266822,0.2682623671537583,0.2699497703551767,0.2752756366206117,0.27343529295622215,0.2514965393824011,0.26879747266928755,0.27162794949133906,0.27278137095296473,0.15795840903314526,0.2705281164422434,0.27217988697564677,0.2747621958041355,0.27025945512746175,0.22351733707221133,0.270243731243973,0.2733873087136217,0.271367833869497,0.15348195630952316,0.2433684327529346,0.2748542629420802,0.26826899878594473,0.26920315604396494,0.2742947082551477,0.239809573799941,0.2741588493307767,0.23477351678885983,0.2744263738911508],\"type\":\"scatter\",\"xaxis\":\"x5\",\"yaxis\":\"y5\"}],                        {\"template\":{\"data\":{\"histogram2dcontour\":[{\"type\":\"histogram2dcontour\",\"colorbar\":{\"outlinewidth\":0,\"ticks\":\"\"},\"colorscale\":[[0.0,\"#0d0887\"],[0.1111111111111111,\"#46039f\"],[0.2222222222222222,\"#7201a8\"],[0.3333333333333333,\"#9c179e\"],[0.4444444444444444,\"#bd3786\"],[0.5555555555555556,\"#d8576b\"],[0.6666666666666666,\"#ed7953\"],[0.7777777777777778,\"#fb9f3a\"],[0.8888888888888888,\"#fdca26\"],[1.0,\"#f0f921\"]]}],\"choropleth\":[{\"type\":\"choropleth\",\"colorbar\":{\"outlinewidth\":0,\"ticks\":\"\"}}],\"histogram2d\":[{\"type\":\"histogram2d\",\"colorbar\":{\"outlinewidth\":0,\"ticks\":\"\"},\"colorscale\":[[0.0,\"#0d0887\"],[0.1111111111111111,\"#46039f\"],[0.2222222222222222,\"#7201a8\"],[0.3333333333333333,\"#9c179e\"],[0.4444444444444444,\"#bd3786\"],[0.5555555555555556,\"#d8576b\"],[0.6666666666666666,\"#ed7953\"],[0.7777777777777778,\"#fb9f3a\"],[0.8888888888888888,\"#fdca26\"],[1.0,\"#f0f921\"]]}],\"heatmap\":[{\"type\":\"heatmap\",\"colorbar\":{\"outlinewidth\":0,\"ticks\":\"\"},\"colorscale\":[[0.0,\"#0d0887\"],[0.1111111111111111,\"#46039f\"],[0.2222222222222222,\"#7201a8\"],[0.3333333333333333,\"#9c179e\"],[0.4444444444444444,\"#bd3786\"],[0.5555555555555556,\"#d8576b\"],[0.6666666666666666,\"#ed7953\"],[0.7777777777777778,\"#fb9f3a\"],[0.8888888888888888,\"#fdca26\"],[1.0,\"#f0f921\"]]}],\"heatmapgl\":[{\"type\":\"heatmapgl\",\"colorbar\":{\"outlinewidth\":0,\"ticks\":\"\"},\"colorscale\":[[0.0,\"#0d0887\"],[0.1111111111111111,\"#46039f\"],[0.2222222222222222,\"#7201a8\"],[0.3333333333333333,\"#9c179e\"],[0.4444444444444444,\"#bd3786\"],[0.5555555555555556,\"#d8576b\"],[0.6666666666666666,\"#ed7953\"],[0.7777777777777778,\"#fb9f3a\"],[0.8888888888888888,\"#fdca26\"],[1.0,\"#f0f921\"]]}],\"contourcarpet\":[{\"type\":\"contourcarpet\",\"colorbar\":{\"outlinewidth\":0,\"ticks\":\"\"}}],\"contour\":[{\"type\":\"contour\",\"colorbar\":{\"outlinewidth\":0,\"ticks\":\"\"},\"colorscale\":[[0.0,\"#0d0887\"],[0.1111111111111111,\"#46039f\"],[0.2222222222222222,\"#7201a8\"],[0.3333333333333333,\"#9c179e\"],[0.4444444444444444,\"#bd3786\"],[0.5555555555555556,\"#d8576b\"],[0.6666666666666666,\"#ed7953\"],[0.7777777777777778,\"#fb9f3a\"],[0.8888888888888888,\"#fdca26\"],[1.0,\"#f0f921\"]]}],\"surface\":[{\"type\":\"surface\",\"colorbar\":{\"outlinewidth\":0,\"ticks\":\"\"},\"colorscale\":[[0.0,\"#0d0887\"],[0.1111111111111111,\"#46039f\"],[0.2222222222222222,\"#7201a8\"],[0.3333333333333333,\"#9c179e\"],[0.4444444444444444,\"#bd3786\"],[0.5555555555555556,\"#d8576b\"],[0.6666666666666666,\"#ed7953\"],[0.7777777777777778,\"#fb9f3a\"],[0.8888888888888888,\"#fdca26\"],[1.0,\"#f0f921\"]]}],\"mesh3d\":[{\"type\":\"mesh3d\",\"colorbar\":{\"outlinewidth\":0,\"ticks\":\"\"}}],\"scatter\":[{\"fillpattern\":{\"fillmode\":\"overlay\",\"size\":10,\"solidity\":0.2},\"type\":\"scatter\"}],\"parcoords\":[{\"type\":\"parcoords\",\"line\":{\"colorbar\":{\"outlinewidth\":0,\"ticks\":\"\"}}}],\"scatterpolargl\":[{\"type\":\"scatterpolargl\",\"marker\":{\"colorbar\":{\"outlinewidth\":0,\"ticks\":\"\"}}}],\"bar\":[{\"error_x\":{\"color\":\"#2a3f5f\"},\"error_y\":{\"color\":\"#2a3f5f\"},\"marker\":{\"line\":{\"color\":\"#E5ECF6\",\"width\":0.5},\"pattern\":{\"fillmode\":\"overlay\",\"size\":10,\"solidity\":0.2}},\"type\":\"bar\"}],\"scattergeo\":[{\"type\":\"scattergeo\",\"marker\":{\"colorbar\":{\"outlinewidth\":0,\"ticks\":\"\"}}}],\"scatterpolar\":[{\"type\":\"scatterpolar\",\"marker\":{\"colorbar\":{\"outlinewidth\":0,\"ticks\":\"\"}}}],\"histogram\":[{\"marker\":{\"pattern\":{\"fillmode\":\"overlay\",\"size\":10,\"solidity\":0.2}},\"type\":\"histogram\"}],\"scattergl\":[{\"type\":\"scattergl\",\"marker\":{\"colorbar\":{\"outlinewidth\":0,\"ticks\":\"\"}}}],\"scatter3d\":[{\"type\":\"scatter3d\",\"line\":{\"colorbar\":{\"outlinewidth\":0,\"ticks\":\"\"}},\"marker\":{\"colorbar\":{\"outlinewidth\":0,\"ticks\":\"\"}}}],\"scattermapbox\":[{\"type\":\"scattermapbox\",\"marker\":{\"colorbar\":{\"outlinewidth\":0,\"ticks\":\"\"}}}],\"scatterternary\":[{\"type\":\"scatterternary\",\"marker\":{\"colorbar\":{\"outlinewidth\":0,\"ticks\":\"\"}}}],\"scattercarpet\":[{\"type\":\"scattercarpet\",\"marker\":{\"colorbar\":{\"outlinewidth\":0,\"ticks\":\"\"}}}],\"carpet\":[{\"aaxis\":{\"endlinecolor\":\"#2a3f5f\",\"gridcolor\":\"white\",\"linecolor\":\"white\",\"minorgridcolor\":\"white\",\"startlinecolor\":\"#2a3f5f\"},\"baxis\":{\"endlinecolor\":\"#2a3f5f\",\"gridcolor\":\"white\",\"linecolor\":\"white\",\"minorgridcolor\":\"white\",\"startlinecolor\":\"#2a3f5f\"},\"type\":\"carpet\"}],\"table\":[{\"cells\":{\"fill\":{\"color\":\"#EBF0F8\"},\"line\":{\"color\":\"white\"}},\"header\":{\"fill\":{\"color\":\"#C8D4E3\"},\"line\":{\"color\":\"white\"}},\"type\":\"table\"}],\"barpolar\":[{\"marker\":{\"line\":{\"color\":\"#E5ECF6\",\"width\":0.5},\"pattern\":{\"fillmode\":\"overlay\",\"size\":10,\"solidity\":0.2}},\"type\":\"barpolar\"}],\"pie\":[{\"automargin\":true,\"type\":\"pie\"}]},\"layout\":{\"autotypenumbers\":\"strict\",\"colorway\":[\"#636efa\",\"#EF553B\",\"#00cc96\",\"#ab63fa\",\"#FFA15A\",\"#19d3f3\",\"#FF6692\",\"#B6E880\",\"#FF97FF\",\"#FECB52\"],\"font\":{\"color\":\"#2a3f5f\"},\"hovermode\":\"closest\",\"hoverlabel\":{\"align\":\"left\"},\"paper_bgcolor\":\"white\",\"plot_bgcolor\":\"#E5ECF6\",\"polar\":{\"bgcolor\":\"#E5ECF6\",\"angularaxis\":{\"gridcolor\":\"white\",\"linecolor\":\"white\",\"ticks\":\"\"},\"radialaxis\":{\"gridcolor\":\"white\",\"linecolor\":\"white\",\"ticks\":\"\"}},\"ternary\":{\"bgcolor\":\"#E5ECF6\",\"aaxis\":{\"gridcolor\":\"white\",\"linecolor\":\"white\",\"ticks\":\"\"},\"baxis\":{\"gridcolor\":\"white\",\"linecolor\":\"white\",\"ticks\":\"\"},\"caxis\":{\"gridcolor\":\"white\",\"linecolor\":\"white\",\"ticks\":\"\"}},\"coloraxis\":{\"colorbar\":{\"outlinewidth\":0,\"ticks\":\"\"}},\"colorscale\":{\"sequential\":[[0.0,\"#0d0887\"],[0.1111111111111111,\"#46039f\"],[0.2222222222222222,\"#7201a8\"],[0.3333333333333333,\"#9c179e\"],[0.4444444444444444,\"#bd3786\"],[0.5555555555555556,\"#d8576b\"],[0.6666666666666666,\"#ed7953\"],[0.7777777777777778,\"#fb9f3a\"],[0.8888888888888888,\"#fdca26\"],[1.0,\"#f0f921\"]],\"sequentialminus\":[[0.0,\"#0d0887\"],[0.1111111111111111,\"#46039f\"],[0.2222222222222222,\"#7201a8\"],[0.3333333333333333,\"#9c179e\"],[0.4444444444444444,\"#bd3786\"],[0.5555555555555556,\"#d8576b\"],[0.6666666666666666,\"#ed7953\"],[0.7777777777777778,\"#fb9f3a\"],[0.8888888888888888,\"#fdca26\"],[1.0,\"#f0f921\"]],\"diverging\":[[0,\"#8e0152\"],[0.1,\"#c51b7d\"],[0.2,\"#de77ae\"],[0.3,\"#f1b6da\"],[0.4,\"#fde0ef\"],[0.5,\"#f7f7f7\"],[0.6,\"#e6f5d0\"],[0.7,\"#b8e186\"],[0.8,\"#7fbc41\"],[0.9,\"#4d9221\"],[1,\"#276419\"]]},\"xaxis\":{\"gridcolor\":\"white\",\"linecolor\":\"white\",\"ticks\":\"\",\"title\":{\"standoff\":15},\"zerolinecolor\":\"white\",\"automargin\":true,\"zerolinewidth\":2},\"yaxis\":{\"gridcolor\":\"white\",\"linecolor\":\"white\",\"ticks\":\"\",\"title\":{\"standoff\":15},\"zerolinecolor\":\"white\",\"automargin\":true,\"zerolinewidth\":2},\"scene\":{\"xaxis\":{\"backgroundcolor\":\"#E5ECF6\",\"gridcolor\":\"white\",\"linecolor\":\"white\",\"showbackground\":true,\"ticks\":\"\",\"zerolinecolor\":\"white\",\"gridwidth\":2},\"yaxis\":{\"backgroundcolor\":\"#E5ECF6\",\"gridcolor\":\"white\",\"linecolor\":\"white\",\"showbackground\":true,\"ticks\":\"\",\"zerolinecolor\":\"white\",\"gridwidth\":2},\"zaxis\":{\"backgroundcolor\":\"#E5ECF6\",\"gridcolor\":\"white\",\"linecolor\":\"white\",\"showbackground\":true,\"ticks\":\"\",\"zerolinecolor\":\"white\",\"gridwidth\":2}},\"shapedefaults\":{\"line\":{\"color\":\"#2a3f5f\"}},\"annotationdefaults\":{\"arrowcolor\":\"#2a3f5f\",\"arrowhead\":0,\"arrowwidth\":1},\"geo\":{\"bgcolor\":\"white\",\"landcolor\":\"#E5ECF6\",\"subunitcolor\":\"white\",\"showland\":true,\"showlakes\":true,\"lakecolor\":\"white\"},\"title\":{\"x\":0.05},\"mapbox\":{\"style\":\"light\"}}},\"xaxis\":{\"anchor\":\"y\",\"domain\":[0.0,0.16799999999999998],\"title\":{\"text\":\"alpha\"}},\"yaxis\":{\"anchor\":\"x\",\"domain\":[0.0,1.0],\"title\":{\"text\":\"Objective Value\"}},\"xaxis2\":{\"anchor\":\"y2\",\"domain\":[0.208,0.376],\"title\":{\"text\":\"beta\"}},\"yaxis2\":{\"anchor\":\"x2\",\"domain\":[0.0,1.0],\"matches\":\"y\",\"showticklabels\":false},\"xaxis3\":{\"anchor\":\"y3\",\"domain\":[0.416,0.584],\"title\":{\"text\":\"implicit\"},\"type\":\"category\",\"categoryorder\":\"array\",\"categoryarray\":[true,false]},\"yaxis3\":{\"anchor\":\"x3\",\"domain\":[0.0,1.0],\"matches\":\"y\",\"showticklabels\":false},\"xaxis4\":{\"anchor\":\"y4\",\"domain\":[0.624,0.792],\"title\":{\"text\":\"normalize_similarity\"},\"type\":\"category\",\"categoryorder\":\"array\",\"categoryarray\":[true,false]},\"yaxis4\":{\"anchor\":\"x4\",\"domain\":[0.0,1.0],\"matches\":\"y\",\"showticklabels\":false},\"xaxis5\":{\"anchor\":\"y5\",\"domain\":[0.832,1.0],\"title\":{\"text\":\"topK\"}},\"yaxis5\":{\"anchor\":\"x5\",\"domain\":[0.0,1.0],\"matches\":\"y\",\"showticklabels\":false},\"title\":{\"text\":\"Slice Plot\"},\"width\":1500},                        {\"responsive\": true}                    ).then(function(){\n",
       "                            \n",
       "var gd = document.getElementById('3626a939-40bb-4bcc-83ac-25446a88cf27');\n",
       "var x = new MutationObserver(function (mutations, observer) {{\n",
       "        var display = window.getComputedStyle(gd).display;\n",
       "        if (!display || display === 'none') {{\n",
       "            console.log([gd, 'removed!']);\n",
       "            Plotly.purge(gd);\n",
       "            observer.disconnect();\n",
       "        }}\n",
       "}});\n",
       "\n",
       "// Listen for the removal of the full notebook cells\n",
       "var notebookContainer = gd.closest('#notebook-container');\n",
       "if (notebookContainer) {{\n",
       "    x.observe(notebookContainer, {childList: true});\n",
       "}}\n",
       "\n",
       "// Listen for the clearing of the current output cell\n",
       "var outputEl = gd.closest('.output');\n",
       "if (outputEl) {{\n",
       "    x.observe(outputEl, {childList: true});\n",
       "}}\n",
       "\n",
       "                        })                };                });            </script>        </div>"
      ]
     },
     "metadata": {},
     "output_type": "display_data"
    }
   ],
   "source": [
    "if not config['tune_parameters']:\n",
    "    optuna_study = optuna.load_study(study_name=f'hyperparameters_tuning_{config[\"model\"]}_{config[\"metric\"]}', storage=f'sqlite:///{config[\"database_path\"]}')\n",
    "    \n",
    "fig = optuna.visualization.plot_slice(optuna_study)\n",
    "fig.show()"
   ]
  },
  {
   "cell_type": "code",
   "execution_count": 15,
   "id": "f88257bc",
   "metadata": {
    "execution": {
     "iopub.execute_input": "2024-12-17T13:24:00.913999Z",
     "iopub.status.busy": "2024-12-17T13:24:00.913576Z",
     "iopub.status.idle": "2024-12-17T13:24:17.383743Z",
     "shell.execute_reply": "2024-12-17T13:24:17.382471Z"
    },
    "papermill": {
     "duration": 16.524984,
     "end_time": "2024-12-17T13:24:17.386259",
     "exception": false,
     "start_time": "2024-12-17T13:24:00.861275",
     "status": "completed"
    },
    "tags": []
   },
   "outputs": [
    {
     "data": {
      "text/html": [
       "<div>                            <div id=\"3bdafdb3-7474-415d-9190-ddc640e97eb8\" class=\"plotly-graph-div\" style=\"height:525px; width:100%;\"></div>            <script type=\"text/javascript\">                require([\"plotly\"], function(Plotly) {                    window.PLOTLYENV=window.PLOTLYENV || {};                                    if (document.getElementById(\"3bdafdb3-7474-415d-9190-ddc640e97eb8\")) {                    Plotly.newPlot(                        \"3bdafdb3-7474-415d-9190-ddc640e97eb8\",                        [{\"cliponaxis\":false,\"hovertemplate\":[\"implicit (CategoricalDistribution): 0.0001485851059608898\\u003cextra\\u003e\\u003c\\u002fextra\\u003e\",\"topK (IntDistribution): 0.0019235837315414075\\u003cextra\\u003e\\u003c\\u002fextra\\u003e\",\"normalize_similarity (CategoricalDistribution): 0.009171476037588635\\u003cextra\\u003e\\u003c\\u002fextra\\u003e\",\"alpha (FloatDistribution): 0.052042812324283615\\u003cextra\\u003e\\u003c\\u002fextra\\u003e\",\"beta (FloatDistribution): 0.9367135428006255\\u003cextra\\u003e\\u003c\\u002fextra\\u003e\"],\"name\":\"Objective Value\",\"orientation\":\"h\",\"text\":[\"\\u003c0.01\",\"\\u003c0.01\",\"\\u003c0.01\",\"0.05\",\"0.94\"],\"textposition\":\"outside\",\"x\":[0.0001485851059608898,0.0019235837315414075,0.009171476037588635,0.052042812324283615,0.9367135428006255],\"y\":[\"implicit\",\"topK\",\"normalize_similarity\",\"alpha\",\"beta\"],\"type\":\"bar\"}],                        {\"title\":{\"text\":\"Hyperparameter Importances\"},\"xaxis\":{\"title\":{\"text\":\"Hyperparameter Importance\"}},\"yaxis\":{\"title\":{\"text\":\"Hyperparameter\"}},\"template\":{\"data\":{\"histogram2dcontour\":[{\"type\":\"histogram2dcontour\",\"colorbar\":{\"outlinewidth\":0,\"ticks\":\"\"},\"colorscale\":[[0.0,\"#0d0887\"],[0.1111111111111111,\"#46039f\"],[0.2222222222222222,\"#7201a8\"],[0.3333333333333333,\"#9c179e\"],[0.4444444444444444,\"#bd3786\"],[0.5555555555555556,\"#d8576b\"],[0.6666666666666666,\"#ed7953\"],[0.7777777777777778,\"#fb9f3a\"],[0.8888888888888888,\"#fdca26\"],[1.0,\"#f0f921\"]]}],\"choropleth\":[{\"type\":\"choropleth\",\"colorbar\":{\"outlinewidth\":0,\"ticks\":\"\"}}],\"histogram2d\":[{\"type\":\"histogram2d\",\"colorbar\":{\"outlinewidth\":0,\"ticks\":\"\"},\"colorscale\":[[0.0,\"#0d0887\"],[0.1111111111111111,\"#46039f\"],[0.2222222222222222,\"#7201a8\"],[0.3333333333333333,\"#9c179e\"],[0.4444444444444444,\"#bd3786\"],[0.5555555555555556,\"#d8576b\"],[0.6666666666666666,\"#ed7953\"],[0.7777777777777778,\"#fb9f3a\"],[0.8888888888888888,\"#fdca26\"],[1.0,\"#f0f921\"]]}],\"heatmap\":[{\"type\":\"heatmap\",\"colorbar\":{\"outlinewidth\":0,\"ticks\":\"\"},\"colorscale\":[[0.0,\"#0d0887\"],[0.1111111111111111,\"#46039f\"],[0.2222222222222222,\"#7201a8\"],[0.3333333333333333,\"#9c179e\"],[0.4444444444444444,\"#bd3786\"],[0.5555555555555556,\"#d8576b\"],[0.6666666666666666,\"#ed7953\"],[0.7777777777777778,\"#fb9f3a\"],[0.8888888888888888,\"#fdca26\"],[1.0,\"#f0f921\"]]}],\"heatmapgl\":[{\"type\":\"heatmapgl\",\"colorbar\":{\"outlinewidth\":0,\"ticks\":\"\"},\"colorscale\":[[0.0,\"#0d0887\"],[0.1111111111111111,\"#46039f\"],[0.2222222222222222,\"#7201a8\"],[0.3333333333333333,\"#9c179e\"],[0.4444444444444444,\"#bd3786\"],[0.5555555555555556,\"#d8576b\"],[0.6666666666666666,\"#ed7953\"],[0.7777777777777778,\"#fb9f3a\"],[0.8888888888888888,\"#fdca26\"],[1.0,\"#f0f921\"]]}],\"contourcarpet\":[{\"type\":\"contourcarpet\",\"colorbar\":{\"outlinewidth\":0,\"ticks\":\"\"}}],\"contour\":[{\"type\":\"contour\",\"colorbar\":{\"outlinewidth\":0,\"ticks\":\"\"},\"colorscale\":[[0.0,\"#0d0887\"],[0.1111111111111111,\"#46039f\"],[0.2222222222222222,\"#7201a8\"],[0.3333333333333333,\"#9c179e\"],[0.4444444444444444,\"#bd3786\"],[0.5555555555555556,\"#d8576b\"],[0.6666666666666666,\"#ed7953\"],[0.7777777777777778,\"#fb9f3a\"],[0.8888888888888888,\"#fdca26\"],[1.0,\"#f0f921\"]]}],\"surface\":[{\"type\":\"surface\",\"colorbar\":{\"outlinewidth\":0,\"ticks\":\"\"},\"colorscale\":[[0.0,\"#0d0887\"],[0.1111111111111111,\"#46039f\"],[0.2222222222222222,\"#7201a8\"],[0.3333333333333333,\"#9c179e\"],[0.4444444444444444,\"#bd3786\"],[0.5555555555555556,\"#d8576b\"],[0.6666666666666666,\"#ed7953\"],[0.7777777777777778,\"#fb9f3a\"],[0.8888888888888888,\"#fdca26\"],[1.0,\"#f0f921\"]]}],\"mesh3d\":[{\"type\":\"mesh3d\",\"colorbar\":{\"outlinewidth\":0,\"ticks\":\"\"}}],\"scatter\":[{\"fillpattern\":{\"fillmode\":\"overlay\",\"size\":10,\"solidity\":0.2},\"type\":\"scatter\"}],\"parcoords\":[{\"type\":\"parcoords\",\"line\":{\"colorbar\":{\"outlinewidth\":0,\"ticks\":\"\"}}}],\"scatterpolargl\":[{\"type\":\"scatterpolargl\",\"marker\":{\"colorbar\":{\"outlinewidth\":0,\"ticks\":\"\"}}}],\"bar\":[{\"error_x\":{\"color\":\"#2a3f5f\"},\"error_y\":{\"color\":\"#2a3f5f\"},\"marker\":{\"line\":{\"color\":\"#E5ECF6\",\"width\":0.5},\"pattern\":{\"fillmode\":\"overlay\",\"size\":10,\"solidity\":0.2}},\"type\":\"bar\"}],\"scattergeo\":[{\"type\":\"scattergeo\",\"marker\":{\"colorbar\":{\"outlinewidth\":0,\"ticks\":\"\"}}}],\"scatterpolar\":[{\"type\":\"scatterpolar\",\"marker\":{\"colorbar\":{\"outlinewidth\":0,\"ticks\":\"\"}}}],\"histogram\":[{\"marker\":{\"pattern\":{\"fillmode\":\"overlay\",\"size\":10,\"solidity\":0.2}},\"type\":\"histogram\"}],\"scattergl\":[{\"type\":\"scattergl\",\"marker\":{\"colorbar\":{\"outlinewidth\":0,\"ticks\":\"\"}}}],\"scatter3d\":[{\"type\":\"scatter3d\",\"line\":{\"colorbar\":{\"outlinewidth\":0,\"ticks\":\"\"}},\"marker\":{\"colorbar\":{\"outlinewidth\":0,\"ticks\":\"\"}}}],\"scattermapbox\":[{\"type\":\"scattermapbox\",\"marker\":{\"colorbar\":{\"outlinewidth\":0,\"ticks\":\"\"}}}],\"scatterternary\":[{\"type\":\"scatterternary\",\"marker\":{\"colorbar\":{\"outlinewidth\":0,\"ticks\":\"\"}}}],\"scattercarpet\":[{\"type\":\"scattercarpet\",\"marker\":{\"colorbar\":{\"outlinewidth\":0,\"ticks\":\"\"}}}],\"carpet\":[{\"aaxis\":{\"endlinecolor\":\"#2a3f5f\",\"gridcolor\":\"white\",\"linecolor\":\"white\",\"minorgridcolor\":\"white\",\"startlinecolor\":\"#2a3f5f\"},\"baxis\":{\"endlinecolor\":\"#2a3f5f\",\"gridcolor\":\"white\",\"linecolor\":\"white\",\"minorgridcolor\":\"white\",\"startlinecolor\":\"#2a3f5f\"},\"type\":\"carpet\"}],\"table\":[{\"cells\":{\"fill\":{\"color\":\"#EBF0F8\"},\"line\":{\"color\":\"white\"}},\"header\":{\"fill\":{\"color\":\"#C8D4E3\"},\"line\":{\"color\":\"white\"}},\"type\":\"table\"}],\"barpolar\":[{\"marker\":{\"line\":{\"color\":\"#E5ECF6\",\"width\":0.5},\"pattern\":{\"fillmode\":\"overlay\",\"size\":10,\"solidity\":0.2}},\"type\":\"barpolar\"}],\"pie\":[{\"automargin\":true,\"type\":\"pie\"}]},\"layout\":{\"autotypenumbers\":\"strict\",\"colorway\":[\"#636efa\",\"#EF553B\",\"#00cc96\",\"#ab63fa\",\"#FFA15A\",\"#19d3f3\",\"#FF6692\",\"#B6E880\",\"#FF97FF\",\"#FECB52\"],\"font\":{\"color\":\"#2a3f5f\"},\"hovermode\":\"closest\",\"hoverlabel\":{\"align\":\"left\"},\"paper_bgcolor\":\"white\",\"plot_bgcolor\":\"#E5ECF6\",\"polar\":{\"bgcolor\":\"#E5ECF6\",\"angularaxis\":{\"gridcolor\":\"white\",\"linecolor\":\"white\",\"ticks\":\"\"},\"radialaxis\":{\"gridcolor\":\"white\",\"linecolor\":\"white\",\"ticks\":\"\"}},\"ternary\":{\"bgcolor\":\"#E5ECF6\",\"aaxis\":{\"gridcolor\":\"white\",\"linecolor\":\"white\",\"ticks\":\"\"},\"baxis\":{\"gridcolor\":\"white\",\"linecolor\":\"white\",\"ticks\":\"\"},\"caxis\":{\"gridcolor\":\"white\",\"linecolor\":\"white\",\"ticks\":\"\"}},\"coloraxis\":{\"colorbar\":{\"outlinewidth\":0,\"ticks\":\"\"}},\"colorscale\":{\"sequential\":[[0.0,\"#0d0887\"],[0.1111111111111111,\"#46039f\"],[0.2222222222222222,\"#7201a8\"],[0.3333333333333333,\"#9c179e\"],[0.4444444444444444,\"#bd3786\"],[0.5555555555555556,\"#d8576b\"],[0.6666666666666666,\"#ed7953\"],[0.7777777777777778,\"#fb9f3a\"],[0.8888888888888888,\"#fdca26\"],[1.0,\"#f0f921\"]],\"sequentialminus\":[[0.0,\"#0d0887\"],[0.1111111111111111,\"#46039f\"],[0.2222222222222222,\"#7201a8\"],[0.3333333333333333,\"#9c179e\"],[0.4444444444444444,\"#bd3786\"],[0.5555555555555556,\"#d8576b\"],[0.6666666666666666,\"#ed7953\"],[0.7777777777777778,\"#fb9f3a\"],[0.8888888888888888,\"#fdca26\"],[1.0,\"#f0f921\"]],\"diverging\":[[0,\"#8e0152\"],[0.1,\"#c51b7d\"],[0.2,\"#de77ae\"],[0.3,\"#f1b6da\"],[0.4,\"#fde0ef\"],[0.5,\"#f7f7f7\"],[0.6,\"#e6f5d0\"],[0.7,\"#b8e186\"],[0.8,\"#7fbc41\"],[0.9,\"#4d9221\"],[1,\"#276419\"]]},\"xaxis\":{\"gridcolor\":\"white\",\"linecolor\":\"white\",\"ticks\":\"\",\"title\":{\"standoff\":15},\"zerolinecolor\":\"white\",\"automargin\":true,\"zerolinewidth\":2},\"yaxis\":{\"gridcolor\":\"white\",\"linecolor\":\"white\",\"ticks\":\"\",\"title\":{\"standoff\":15},\"zerolinecolor\":\"white\",\"automargin\":true,\"zerolinewidth\":2},\"scene\":{\"xaxis\":{\"backgroundcolor\":\"#E5ECF6\",\"gridcolor\":\"white\",\"linecolor\":\"white\",\"showbackground\":true,\"ticks\":\"\",\"zerolinecolor\":\"white\",\"gridwidth\":2},\"yaxis\":{\"backgroundcolor\":\"#E5ECF6\",\"gridcolor\":\"white\",\"linecolor\":\"white\",\"showbackground\":true,\"ticks\":\"\",\"zerolinecolor\":\"white\",\"gridwidth\":2},\"zaxis\":{\"backgroundcolor\":\"#E5ECF6\",\"gridcolor\":\"white\",\"linecolor\":\"white\",\"showbackground\":true,\"ticks\":\"\",\"zerolinecolor\":\"white\",\"gridwidth\":2}},\"shapedefaults\":{\"line\":{\"color\":\"#2a3f5f\"}},\"annotationdefaults\":{\"arrowcolor\":\"#2a3f5f\",\"arrowhead\":0,\"arrowwidth\":1},\"geo\":{\"bgcolor\":\"white\",\"landcolor\":\"#E5ECF6\",\"subunitcolor\":\"white\",\"showland\":true,\"showlakes\":true,\"lakecolor\":\"white\"},\"title\":{\"x\":0.05},\"mapbox\":{\"style\":\"light\"}}}},                        {\"responsive\": true}                    ).then(function(){\n",
       "                            \n",
       "var gd = document.getElementById('3bdafdb3-7474-415d-9190-ddc640e97eb8');\n",
       "var x = new MutationObserver(function (mutations, observer) {{\n",
       "        var display = window.getComputedStyle(gd).display;\n",
       "        if (!display || display === 'none') {{\n",
       "            console.log([gd, 'removed!']);\n",
       "            Plotly.purge(gd);\n",
       "            observer.disconnect();\n",
       "        }}\n",
       "}});\n",
       "\n",
       "// Listen for the removal of the full notebook cells\n",
       "var notebookContainer = gd.closest('#notebook-container');\n",
       "if (notebookContainer) {{\n",
       "    x.observe(notebookContainer, {childList: true});\n",
       "}}\n",
       "\n",
       "// Listen for the clearing of the current output cell\n",
       "var outputEl = gd.closest('.output');\n",
       "if (outputEl) {{\n",
       "    x.observe(outputEl, {childList: true});\n",
       "}}\n",
       "\n",
       "                        })                };                });            </script>        </div>"
      ]
     },
     "metadata": {},
     "output_type": "display_data"
    }
   ],
   "source": [
    "if not config['tune_parameters']:\n",
    "    optuna_study = optuna.load_study(study_name=f'hyperparameters_tuning_{config[\"model\"]}_{config[\"metric\"]}', storage=f'sqlite:///{config[\"database_path\"]}')\n",
    "    \n",
    "fig = optuna.visualization.plot_param_importances(optuna_study)\n",
    "fig.show()"
   ]
  },
  {
   "cell_type": "markdown",
   "id": "03aead91",
   "metadata": {
    "papermill": {
     "duration": 0.050551,
     "end_time": "2024-12-17T13:24:17.485405",
     "exception": false,
     "start_time": "2024-12-17T13:24:17.434854",
     "status": "completed"
    },
    "tags": []
   },
   "source": [
    "## Let's train the recommender with best parameter values"
   ]
  },
  {
   "cell_type": "code",
   "execution_count": 16,
   "id": "7e926656",
   "metadata": {
    "execution": {
     "iopub.execute_input": "2024-12-17T13:24:17.586351Z",
     "iopub.status.busy": "2024-12-17T13:24:17.585847Z",
     "iopub.status.idle": "2024-12-17T13:24:44.157058Z",
     "shell.execute_reply": "2024-12-17T13:24:44.155867Z"
    },
    "papermill": {
     "duration": 26.62497,
     "end_time": "2024-12-17T13:24:44.159870",
     "exception": false,
     "start_time": "2024-12-17T13:24:17.534900",
     "status": "completed"
    },
    "tags": []
   },
   "outputs": [
    {
     "name": "stdout",
     "output_type": "stream",
     "text": [
      "RP3betaRecommender: Similarity column 38121 (100.0%), 1636.63 column/sec. Elapsed time 23.29 sec\n"
     ]
    }
   ],
   "source": [
    "if config['tune_best_params']:\n",
    "\n",
    "    if config['tune_parameters']:\n",
    "        best_params = optuna_study.best_trial.params\n",
    "    else: \n",
    "        with open(f'{K_PATH}/{GH_PATH}/{config[\"model\"]}Recommender/Optimizing{config[\"metric\"]}/best_params_{config[\"model\"]}_{config[\"metric\"]}.json', 'r') as best_params_json:\n",
    "            best_params = json.load(best_params_json)\n",
    "\n",
    "    recommender_instance = RP3betaRecommender(URM_train + URM_validation)\n",
    "    recommender_instance.fit(**best_params)"
   ]
  },
  {
   "cell_type": "markdown",
   "id": "9d328041",
   "metadata": {
    "papermill": {
     "duration": 0.051648,
     "end_time": "2024-12-17T13:24:44.259651",
     "exception": false,
     "start_time": "2024-12-17T13:24:44.208003",
     "status": "completed"
    },
    "tags": []
   },
   "source": [
    "# Testing"
   ]
  },
  {
   "cell_type": "markdown",
   "id": "4cc827d0",
   "metadata": {
    "papermill": {
     "duration": 0.046725,
     "end_time": "2024-12-17T13:24:44.356092",
     "exception": false,
     "start_time": "2024-12-17T13:24:44.309367",
     "status": "completed"
    },
    "tags": []
   },
   "source": [
    "Create the recommendations for the submission. "
   ]
  },
  {
   "cell_type": "code",
   "execution_count": 17,
   "id": "8bc818a0",
   "metadata": {
    "execution": {
     "iopub.execute_input": "2024-12-17T13:24:44.455788Z",
     "iopub.status.busy": "2024-12-17T13:24:44.455334Z",
     "iopub.status.idle": "2024-12-17T13:25:08.624988Z",
     "shell.execute_reply": "2024-12-17T13:25:08.622192Z"
    },
    "papermill": {
     "duration": 24.224047,
     "end_time": "2024-12-17T13:25:08.629268",
     "exception": false,
     "start_time": "2024-12-17T13:24:44.405221",
     "status": "completed"
    },
    "tags": []
   },
   "outputs": [
    {
     "name": "stdout",
     "output_type": "stream",
     "text": [
      "Submission file saved as /kaggle/working/submission_RP3beta_Recall.csv\n"
     ]
    }
   ],
   "source": [
    "if config['tune_best_params']:\n",
    "\n",
    "    data_target_users_test = pd.read_csv('/kaggle/input/recommender-system-2024-challenge-polimi/data_target_users_test.csv')\n",
    "    create_submission(data_target_users_test, recommender_instance, f'/kaggle/working/submission_{config[\"model\"]}_{config[\"metric\"]}.csv')"
   ]
  },
  {
   "cell_type": "markdown",
   "id": "15419e22",
   "metadata": {
    "execution": {
     "iopub.execute_input": "2024-11-14T00:04:16.877791Z",
     "iopub.status.busy": "2024-11-14T00:04:16.877275Z",
     "iopub.status.idle": "2024-11-14T00:04:16.883170Z",
     "shell.execute_reply": "2024-11-14T00:04:16.881889Z",
     "shell.execute_reply.started": "2024-11-14T00:04:16.877743Z"
    },
    "papermill": {
     "duration": 0.047291,
     "end_time": "2024-12-17T13:25:08.728072",
     "exception": false,
     "start_time": "2024-12-17T13:25:08.680781",
     "status": "completed"
    },
    "tags": []
   },
   "source": [
    "# Save Version on GitHub "
   ]
  },
  {
   "cell_type": "markdown",
   "id": "06757bd5",
   "metadata": {
    "papermill": {
     "duration": 0.048787,
     "end_time": "2024-12-17T13:25:08.828124",
     "exception": false,
     "start_time": "2024-12-17T13:25:08.779337",
     "status": "completed"
    },
    "tags": []
   },
   "source": [
    "Write or import a json file where best hyperparameters are saved. "
   ]
  },
  {
   "cell_type": "code",
   "execution_count": 18,
   "id": "2900160d",
   "metadata": {
    "execution": {
     "iopub.execute_input": "2024-12-17T13:25:08.928904Z",
     "iopub.status.busy": "2024-12-17T13:25:08.927677Z",
     "iopub.status.idle": "2024-12-17T13:25:10.090439Z",
     "shell.execute_reply": "2024-12-17T13:25:10.088280Z"
    },
    "papermill": {
     "duration": 1.217606,
     "end_time": "2024-12-17T13:25:10.093992",
     "exception": false,
     "start_time": "2024-12-17T13:25:08.876386",
     "status": "completed"
    },
    "tags": []
   },
   "outputs": [
    {
     "name": "stdout",
     "output_type": "stream",
     "text": [
      "File 'TrainedModels/WithoutKFCV/GraphBased/RP3betaRecommender/OptimizingRecall/best_params_RP3beta_Recall.json' updated successfully.\n"
     ]
    }
   ],
   "source": [
    "if config['tune_parameters']:\n",
    "    with open(f'/kaggle/working/best_params_{config[\"model\"]}_{config[\"metric\"]}.json', 'w') as params_file:\n",
    "        json.dump(optuna_study.best_params, params_file)\n",
    "        \n",
    "    if config['save_github']:\n",
    "        upload_file(\n",
    "            f'/kaggle/working/best_params_{config[\"model\"]}_{config[\"metric\"]}.json', \n",
    "            f'{GH_PATH}/{config[\"model\"]}Recommender/Optimizing{config[\"metric\"]}/best_params_{config[\"model\"]}_{config[\"metric\"]}.json', \n",
    "            f'{config[\"model\"]}_{config[\"metric\"]} tuning results (from kaggle notebook)',\n",
    "            repo\n",
    "        )\n",
    "elif config['copy_prev_best_params']:\n",
    "    shutil.copyfile(\n",
    "        f'{K_PATH}/{GH_PATH}/{config[\"model\"]}Recommender/Optimizing{config[\"metric\"]}/'\\\n",
    "        f'best_params_{config[\"model\"]}_{config[\"metric\"]}.json', \n",
    "        f'/kaggle/working/best_params_{config[\"model\"]}_{config[\"metric\"]}.json'\n",
    "    )"
   ]
  },
  {
   "cell_type": "markdown",
   "id": "8044ba0b",
   "metadata": {
    "execution": {
     "iopub.execute_input": "2024-11-14T00:41:34.294243Z",
     "iopub.status.busy": "2024-11-14T00:41:34.293739Z",
     "iopub.status.idle": "2024-11-14T00:41:34.301478Z",
     "shell.execute_reply": "2024-11-14T00:41:34.299869Z",
     "shell.execute_reply.started": "2024-11-14T00:41:34.294186Z"
    },
    "papermill": {
     "duration": 0.049718,
     "end_time": "2024-12-17T13:25:10.195161",
     "exception": false,
     "start_time": "2024-12-17T13:25:10.145443",
     "status": "completed"
    },
    "tags": []
   },
   "source": [
    "Save the history of the tuned model."
   ]
  },
  {
   "cell_type": "code",
   "execution_count": 19,
   "id": "008b20a6",
   "metadata": {
    "execution": {
     "iopub.execute_input": "2024-12-17T13:25:10.301384Z",
     "iopub.status.busy": "2024-12-17T13:25:10.300654Z",
     "iopub.status.idle": "2024-12-17T13:25:11.967215Z",
     "shell.execute_reply": "2024-12-17T13:25:11.965808Z"
    },
    "papermill": {
     "duration": 1.721769,
     "end_time": "2024-12-17T13:25:11.969587",
     "exception": false,
     "start_time": "2024-12-17T13:25:10.247818",
     "status": "completed"
    },
    "tags": []
   },
   "outputs": [
    {
     "name": "stdout",
     "output_type": "stream",
     "text": [
      "File 'TrainedModels/WithoutKFCV/GraphBased/RP3betaRecommender/OptimizingRecall/history_RP3beta_Recall.db' updated successfully.\n"
     ]
    }
   ],
   "source": [
    "if config['save_github'] and config['tune_parameters']:\n",
    "    upload_file(\n",
    "        config['database_path'], \n",
    "        f'{GH_PATH}/{config[\"model\"]}Recommender/Optimizing{config[\"metric\"]}/history_{config[\"model\"]}_{config[\"metric\"]}.db',\n",
    "        f'Tuning {config[\"model\"]}_{config[\"metric\"]} db updated results (from kaggle notebook)',\n",
    "        repo\n",
    "    )"
   ]
  },
  {
   "cell_type": "markdown",
   "id": "10b1e54d",
   "metadata": {
    "papermill": {
     "duration": 0.050047,
     "end_time": "2024-12-17T13:25:12.069521",
     "exception": false,
     "start_time": "2024-12-17T13:25:12.019474",
     "status": "completed"
    },
    "tags": []
   },
   "source": [
    "Save the best trained model and its submission."
   ]
  },
  {
   "cell_type": "code",
   "execution_count": 20,
   "id": "796fe2db",
   "metadata": {
    "execution": {
     "iopub.execute_input": "2024-12-17T13:25:12.171402Z",
     "iopub.status.busy": "2024-12-17T13:25:12.170426Z",
     "iopub.status.idle": "2024-12-17T13:25:13.673683Z",
     "shell.execute_reply": "2024-12-17T13:25:13.672064Z"
    },
    "papermill": {
     "duration": 1.559197,
     "end_time": "2024-12-17T13:25:13.677642",
     "exception": false,
     "start_time": "2024-12-17T13:25:12.118445",
     "status": "completed"
    },
    "tags": []
   },
   "outputs": [
    {
     "name": "stdout",
     "output_type": "stream",
     "text": [
      "File 'TrainedModels/WithoutKFCV/GraphBased/RP3betaRecommender/OptimizingRecall/Submission/submission_RP3beta_Recall.csv' updated successfully.\n"
     ]
    }
   ],
   "source": [
    "if config['save_github'] and config['tune_best_params']: \n",
    "    upload_file(\n",
    "                f'/kaggle/working/submission_{config[\"model\"]}_{config[\"metric\"]}.csv', \n",
    "                f'{GH_PATH}/{config[\"model\"]}Recommender/Optimizing{config[\"metric\"]}/Submission/submission_{config[\"model\"]}_{config[\"metric\"]}.csv', \n",
    "                f'New {config[\"model\"]}_{config[\"metric\"]} submission (from kaggle notebook)',\n",
    "                repo\n",
    "            )"
   ]
  }
 ],
 "metadata": {
  "kaggle": {
   "accelerator": "none",
   "dataSources": [
    {
     "databundleVersionId": 9982103,
     "sourceId": 87439,
     "sourceType": "competition"
    }
   ],
   "dockerImageVersionId": 30804,
   "isGpuEnabled": false,
   "isInternetEnabled": true,
   "language": "python",
   "sourceType": "notebook"
  },
  "kernelspec": {
   "display_name": "Python 3",
   "language": "python",
   "name": "python3"
  },
  "language_info": {
   "codemirror_mode": {
    "name": "ipython",
    "version": 3
   },
   "file_extension": ".py",
   "mimetype": "text/x-python",
   "name": "python",
   "nbconvert_exporter": "python",
   "pygments_lexer": "ipython3",
   "version": "3.10.14"
  },
  "papermill": {
   "default_parameters": {},
   "duration": 14317.601637,
   "end_time": "2024-12-17T13:25:16.049653",
   "environment_variables": {},
   "exception": null,
   "input_path": "__notebook__.ipynb",
   "output_path": "__notebook__.ipynb",
   "parameters": {},
   "start_time": "2024-12-17T09:26:38.448016",
   "version": "2.6.0"
  }
 },
 "nbformat": 4,
 "nbformat_minor": 5
}
