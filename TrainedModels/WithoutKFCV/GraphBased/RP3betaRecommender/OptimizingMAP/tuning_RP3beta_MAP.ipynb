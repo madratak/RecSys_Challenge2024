{
 "cells": [
  {
   "cell_type": "markdown",
   "id": "f54f1d35",
   "metadata": {
    "papermill": {
     "duration": 0.006533,
     "end_time": "2024-12-02T18:29:48.185231",
     "exception": false,
     "start_time": "2024-12-02T18:29:48.178698",
     "status": "completed"
    },
    "tags": []
   },
   "source": [
    "# Set connection with GitHub"
   ]
  },
  {
   "cell_type": "code",
   "execution_count": 1,
   "id": "0771cc64",
   "metadata": {
    "execution": {
     "iopub.execute_input": "2024-12-02T18:29:48.200178Z",
     "iopub.status.busy": "2024-12-02T18:29:48.199469Z",
     "iopub.status.idle": "2024-12-02T18:29:48.207215Z",
     "shell.execute_reply": "2024-12-02T18:29:48.206221Z"
    },
    "papermill": {
     "duration": 0.018105,
     "end_time": "2024-12-02T18:29:48.209728",
     "exception": false,
     "start_time": "2024-12-02T18:29:48.191623",
     "status": "completed"
    },
    "tags": []
   },
   "outputs": [],
   "source": [
    "# ! cd /kaggle/working && rm -rf RECsys_Challenge2024"
   ]
  },
  {
   "cell_type": "code",
   "execution_count": 2,
   "id": "28b29b69",
   "metadata": {
    "_cell_guid": "b1076dfc-b9ad-4769-8c92-a6c4dae69d19",
    "_uuid": "8f2839f25d086af736a60e9eeb907d3b93b6e0e5",
    "execution": {
     "iopub.execute_input": "2024-12-02T18:29:48.224060Z",
     "iopub.status.busy": "2024-12-02T18:29:48.223713Z",
     "iopub.status.idle": "2024-12-02T18:30:02.095198Z",
     "shell.execute_reply": "2024-12-02T18:30:02.093826Z"
    },
    "papermill": {
     "duration": 13.881571,
     "end_time": "2024-12-02T18:30:02.097773",
     "exception": false,
     "start_time": "2024-12-02T18:29:48.216202",
     "status": "completed"
    },
    "tags": []
   },
   "outputs": [
    {
     "name": "stdout",
     "output_type": "stream",
     "text": [
      "Cloning into 'RECsys_Challenge2024'...\r\n",
      "remote: Enumerating objects: 3790, done.\u001b[K\r\n",
      "remote: Counting objects: 100% (1263/1263), done.\u001b[K\r\n",
      "remote: Compressing objects: 100% (479/479), done.\u001b[K\r\n",
      "remote: Total 3790 (delta 694), reused 1121 (delta 606), pack-reused 2527 (from 1)\u001b[K\r\n",
      "Receiving objects: 100% (3790/3790), 164.84 MiB | 23.05 MiB/s, done.\r\n",
      "Resolving deltas: 100% (2213/2213), done.\r\n",
      "Updating files: 100% (364/364), done.\r\n"
     ]
    }
   ],
   "source": [
    "from kaggle_secrets import UserSecretsClient\n",
    "\n",
    "token = UserSecretsClient().get_secret(\"Token\")\n",
    "\n",
    "! git clone https://{token}@github.com/madratak/RECsys_Challenge2024.git"
   ]
  },
  {
   "cell_type": "code",
   "execution_count": 3,
   "id": "efcbe1dd",
   "metadata": {
    "execution": {
     "iopub.execute_input": "2024-12-02T18:30:02.119361Z",
     "iopub.status.busy": "2024-12-02T18:30:02.118933Z",
     "iopub.status.idle": "2024-12-02T18:30:14.961497Z",
     "shell.execute_reply": "2024-12-02T18:30:14.960032Z"
    },
    "papermill": {
     "duration": 12.856461,
     "end_time": "2024-12-02T18:30:14.964069",
     "exception": false,
     "start_time": "2024-12-02T18:30:02.107608",
     "status": "completed"
    },
    "tags": []
   },
   "outputs": [
    {
     "name": "stdout",
     "output_type": "stream",
     "text": [
      "Collecting PyGithub\r\n",
      "  Downloading PyGithub-2.5.0-py3-none-any.whl.metadata (3.9 kB)\r\n",
      "Requirement already satisfied: requests in /opt/conda/lib/python3.10/site-packages (2.32.3)\r\n",
      "Collecting pynacl>=1.4.0 (from PyGithub)\r\n",
      "  Downloading PyNaCl-1.5.0-cp36-abi3-manylinux_2_17_x86_64.manylinux2014_x86_64.manylinux_2_24_x86_64.whl.metadata (8.6 kB)\r\n",
      "Requirement already satisfied: pyjwt>=2.4.0 in /opt/conda/lib/python3.10/site-packages (from pyjwt[crypto]>=2.4.0->PyGithub) (2.8.0)\r\n",
      "Requirement already satisfied: typing-extensions>=4.0.0 in /opt/conda/lib/python3.10/site-packages (from PyGithub) (4.12.2)\r\n",
      "Requirement already satisfied: urllib3>=1.26.0 in /opt/conda/lib/python3.10/site-packages (from PyGithub) (1.26.18)\r\n",
      "Requirement already satisfied: Deprecated in /opt/conda/lib/python3.10/site-packages (from PyGithub) (1.2.14)\r\n",
      "Requirement already satisfied: charset-normalizer<4,>=2 in /opt/conda/lib/python3.10/site-packages (from requests) (3.3.2)\r\n",
      "Requirement already satisfied: idna<4,>=2.5 in /opt/conda/lib/python3.10/site-packages (from requests) (3.7)\r\n",
      "Requirement already satisfied: certifi>=2017.4.17 in /opt/conda/lib/python3.10/site-packages (from requests) (2024.8.30)\r\n",
      "Requirement already satisfied: cryptography>=3.4.0 in /opt/conda/lib/python3.10/site-packages (from pyjwt[crypto]>=2.4.0->PyGithub) (42.0.8)\r\n",
      "Requirement already satisfied: cffi>=1.4.1 in /opt/conda/lib/python3.10/site-packages (from pynacl>=1.4.0->PyGithub) (1.16.0)\r\n",
      "Requirement already satisfied: wrapt<2,>=1.10 in /opt/conda/lib/python3.10/site-packages (from Deprecated->PyGithub) (1.16.0)\r\n",
      "Requirement already satisfied: pycparser in /opt/conda/lib/python3.10/site-packages (from cffi>=1.4.1->pynacl>=1.4.0->PyGithub) (2.22)\r\n",
      "Downloading PyGithub-2.5.0-py3-none-any.whl (375 kB)\r\n",
      "\u001b[2K   \u001b[90m━━━━━━━━━━━━━━━━━━━━━━━━━━━━━━━━━━━━━━━━\u001b[0m \u001b[32m375.9/375.9 kB\u001b[0m \u001b[31m6.4 MB/s\u001b[0m eta \u001b[36m0:00:00\u001b[0m\r\n",
      "\u001b[?25hDownloading PyNaCl-1.5.0-cp36-abi3-manylinux_2_17_x86_64.manylinux2014_x86_64.manylinux_2_24_x86_64.whl (856 kB)\r\n",
      "\u001b[2K   \u001b[90m━━━━━━━━━━━━━━━━━━━━━━━━━━━━━━━━━━━━━━━━\u001b[0m \u001b[32m856.7/856.7 kB\u001b[0m \u001b[31m25.6 MB/s\u001b[0m eta \u001b[36m0:00:00\u001b[0m\r\n",
      "\u001b[?25hInstalling collected packages: pynacl, PyGithub\r\n",
      "Successfully installed PyGithub-2.5.0 pynacl-1.5.0\r\n"
     ]
    }
   ],
   "source": [
    "! pip install PyGithub requests"
   ]
  },
  {
   "cell_type": "code",
   "execution_count": 4,
   "id": "a7967809",
   "metadata": {
    "_kg_hide-input": false,
    "execution": {
     "iopub.execute_input": "2024-12-02T18:30:14.987630Z",
     "iopub.status.busy": "2024-12-02T18:30:14.987158Z",
     "iopub.status.idle": "2024-12-02T18:32:49.888117Z",
     "shell.execute_reply": "2024-12-02T18:32:49.886631Z"
    },
    "papermill": {
     "duration": 154.915417,
     "end_time": "2024-12-02T18:32:49.890619",
     "exception": false,
     "start_time": "2024-12-02T18:30:14.975202",
     "status": "completed"
    },
    "tags": []
   },
   "outputs": [
    {
     "name": "stdout",
     "output_type": "stream",
     "text": [
      "/kaggle/working/RECsys_Challenge2024\n",
      "run_compile_all_cython: Found 11 Cython files in 5 folders...\r\n",
      "run_compile_all_cython: All files will be compiled using your current python environment: '/opt/conda/bin/python'\r\n",
      "Compiling [1/11]: MatrixFactorizationImpressions_Cython_Epoch.pyx... \r\n",
      "In file included from \u001b[01m\u001b[K/opt/conda/lib/python3.10/site-packages/numpy/core/include/numpy/ndarraytypes.h:1929\u001b[m\u001b[K,\r\n",
      "                 from \u001b[01m\u001b[K/opt/conda/lib/python3.10/site-packages/numpy/core/include/numpy/ndarrayobject.h:12\u001b[m\u001b[K,\r\n",
      "                 from \u001b[01m\u001b[K/opt/conda/lib/python3.10/site-packages/numpy/core/include/numpy/arrayobject.h:5\u001b[m\u001b[K,\r\n",
      "                 from \u001b[01m\u001b[KMatrixFactorizationImpressions_Cython_Epoch.c:1252\u001b[m\u001b[K:\r\n",
      "\u001b[01m\u001b[K/opt/conda/lib/python3.10/site-packages/numpy/core/include/numpy/npy_1_7_deprecated_api.h:17:2:\u001b[m\u001b[K \u001b[01;35m\u001b[Kwarning: \u001b[m\u001b[K#warning \"Using deprecated NumPy API, disable it with \" \"#define NPY_NO_DEPRECATED_API NPY_1_7_API_VERSION\" [\u001b[01;35m\u001b[K-Wcpp\u001b[m\u001b[K]\r\n",
      "   17 | #\u001b[01;35m\u001b[Kwarning\u001b[m\u001b[K \"Using deprecated NumPy API, disable it with \" \\\r\n",
      "      |  \u001b[01;35m\u001b[K^~~~~~~\u001b[m\u001b[K\r\n",
      "\u001b[01m\u001b[KMatrixFactorizationImpressions_Cython_Epoch.c:\u001b[m\u001b[K In function '\u001b[01m\u001b[K__pyx_f_43MatrixFactorizationImpressions_Cython_Epoch_32MatrixFactorization_Cython_Epoch_sampleBPR_Cython\u001b[m\u001b[K':\r\n",
      "\u001b[01m\u001b[KMatrixFactorizationImpressions_Cython_Epoch.c:30351:17:\u001b[m\u001b[K \u001b[01;35m\u001b[Kwarning: \u001b[m\u001b[K'\u001b[01m\u001b[K__pyx_v_start_pos_impression_items\u001b[m\u001b[K' may be used uninitialized in this function [\u001b[01;35m\u001b[K-Wmaybe-uninitialized\u001b[m\u001b[K]\r\n",
      "30351 |       \u001b[01;35m\u001b[K__pyx_t_4 = (__pyx_v_start_pos_impression_items + __pyx_v_index)\u001b[m\u001b[K;\r\n",
      "      |       \u001b[01;35m\u001b[K~~~~~~~~~~^~~~~~~~~~~~~~~~~~~~~~~~~~~~~~~~~~~~~~~~~~~~~~~~~~~~~~\u001b[m\u001b[K\r\n",
      "\u001b[01m\u001b[KMatrixFactorizationImpressions_Cython_Epoch.c:\u001b[m\u001b[K In function '\u001b[01m\u001b[K__pyx_pf_43MatrixFactorizationImpressions_Cython_Epoch_32MatrixFactorization_Cython_Epoch_10epochIteration_Cython_ASY_SVD_SGD\u001b[m\u001b[K':\r\n",
      "\u001b[01m\u001b[KMatrixFactorizationImpressions_Cython_Epoch.c:26111:7:\u001b[m\u001b[K \u001b[01;35m\u001b[Kwarning: \u001b[m\u001b[K'\u001b[01m\u001b[K__pyx_v_end_pos_seen_items\u001b[m\u001b[K' may be used uninitialized in this function [\u001b[01;35m\u001b[K-Wmaybe-uninitialized\u001b[m\u001b[K]\r\n",
      "26111 |       \u001b[01;35m\u001b[Kfor\u001b[m\u001b[K (__pyx_t_21 = __pyx_v_start_pos_seen_items; __pyx_t_21 < __pyx_t_20; __pyx_t_21+=1) {\r\n",
      "      |       \u001b[01;35m\u001b[K^~~\u001b[m\u001b[K\r\n",
      "\u001b[01m\u001b[KMatrixFactorizationImpressions_Cython_Epoch.c:26111:7:\u001b[m\u001b[K \u001b[01;35m\u001b[Kwarning: \u001b[m\u001b[K'\u001b[01m\u001b[K__pyx_v_start_pos_seen_items\u001b[m\u001b[K' may be used uninitialized in this function [\u001b[01;35m\u001b[K-Wmaybe-uninitialized\u001b[m\u001b[K]\r\n",
      "/opt/conda/lib/python3.10/site-packages/Cython/Compiler/Main.py:381: FutureWarning: Cython directive 'language_level' not set, using '3str' for now (Py3). This has changed from earlier releases! File: /kaggle/working/RECsys_Challenge2024/Recommenders/MatrixFactorization/Cython/MatrixFactorizationImpressions_Cython_Epoch.pyx\r\n",
      "  tree = Parsing.p_module(s, pxd, full_module_name)\r\n",
      "Compiling [1/11]: MatrixFactorizationImpressions_Cython_Epoch.pyx... PASS\r\n",
      "\r\n",
      "Compiling [2/11]: MatrixFactorization_Cython_Epoch.pyx... \r\n",
      "In file included from \u001b[01m\u001b[K/opt/conda/lib/python3.10/site-packages/numpy/core/include/numpy/ndarraytypes.h:1929\u001b[m\u001b[K,\r\n",
      "                 from \u001b[01m\u001b[K/opt/conda/lib/python3.10/site-packages/numpy/core/include/numpy/ndarrayobject.h:12\u001b[m\u001b[K,\r\n",
      "                 from \u001b[01m\u001b[K/opt/conda/lib/python3.10/site-packages/numpy/core/include/numpy/arrayobject.h:5\u001b[m\u001b[K,\r\n",
      "                 from \u001b[01m\u001b[KMatrixFactorization_Cython_Epoch.c:1252\u001b[m\u001b[K:\r\n",
      "\u001b[01m\u001b[K/opt/conda/lib/python3.10/site-packages/numpy/core/include/numpy/npy_1_7_deprecated_api.h:17:2:\u001b[m\u001b[K \u001b[01;35m\u001b[Kwarning: \u001b[m\u001b[K#warning \"Using deprecated NumPy API, disable it with \" \"#define NPY_NO_DEPRECATED_API NPY_1_7_API_VERSION\" [\u001b[01;35m\u001b[K-Wcpp\u001b[m\u001b[K]\r\n",
      "   17 | #\u001b[01;35m\u001b[Kwarning\u001b[m\u001b[K \"Using deprecated NumPy API, disable it with \" \\\r\n",
      "      |  \u001b[01;35m\u001b[K^~~~~~~\u001b[m\u001b[K\r\n",
      "\u001b[01m\u001b[KMatrixFactorization_Cython_Epoch.c:\u001b[m\u001b[K In function '\u001b[01m\u001b[K__pyx_pf_32MatrixFactorization_Cython_Epoch_32MatrixFactorization_Cython_Epoch_10epochIteration_Cython_ASY_SVD_SGD\u001b[m\u001b[K':\r\n",
      "\u001b[01m\u001b[KMatrixFactorization_Cython_Epoch.c:26255:9:\u001b[m\u001b[K \u001b[01;35m\u001b[Kwarning: \u001b[m\u001b[K'\u001b[01m\u001b[K__pyx_v_end_pos_seen_items\u001b[m\u001b[K' may be used uninitialized in this function [\u001b[01;35m\u001b[K-Wmaybe-uninitialized\u001b[m\u001b[K]\r\n",
      "26255 |         \u001b[01;35m\u001b[Kfor\u001b[m\u001b[K (__pyx_t_21 = __pyx_v_start_pos_seen_items; __pyx_t_21 < __pyx_t_20; __pyx_t_21+=1) {\r\n",
      "      |         \u001b[01;35m\u001b[K^~~\u001b[m\u001b[K\r\n",
      "\u001b[01m\u001b[KMatrixFactorization_Cython_Epoch.c:26255:9:\u001b[m\u001b[K \u001b[01;35m\u001b[Kwarning: \u001b[m\u001b[K'\u001b[01m\u001b[K__pyx_v_start_pos_seen_items\u001b[m\u001b[K' may be used uninitialized in this function [\u001b[01;35m\u001b[K-Wmaybe-uninitialized\u001b[m\u001b[K]\r\n",
      "/opt/conda/lib/python3.10/site-packages/Cython/Compiler/Main.py:381: FutureWarning: Cython directive 'language_level' not set, using '3str' for now (Py3). This has changed from earlier releases! File: /kaggle/working/RECsys_Challenge2024/Recommenders/MatrixFactorization/Cython/MatrixFactorization_Cython_Epoch.pyx\r\n",
      "  tree = Parsing.p_module(s, pxd, full_module_name)\r\n",
      "Compiling [2/11]: MatrixFactorization_Cython_Epoch.pyx... PASS\r\n",
      "\r\n",
      "Compiling [3/11]: Compute_Similarity_Cython.pyx... \r\n",
      "warning: Compute_Similarity_Cython.pyx:21:0: The 'IF' statement is deprecated and will be removed in a future Cython version. Consider using runtime conditions or C macros instead. See https://github.com/cython/cython/issues/4310\r\n",
      "In file included from \u001b[01m\u001b[K/opt/conda/lib/python3.10/site-packages/numpy/core/include/numpy/ndarraytypes.h:1929\u001b[m\u001b[K,\r\n",
      "                 from \u001b[01m\u001b[K/opt/conda/lib/python3.10/site-packages/numpy/core/include/numpy/ndarrayobject.h:12\u001b[m\u001b[K,\r\n",
      "                 from \u001b[01m\u001b[K/opt/conda/lib/python3.10/site-packages/numpy/core/include/numpy/arrayobject.h:5\u001b[m\u001b[K,\r\n",
      "                 from \u001b[01m\u001b[KCompute_Similarity_Cython.c:1252\u001b[m\u001b[K:\r\n",
      "\u001b[01m\u001b[K/opt/conda/lib/python3.10/site-packages/numpy/core/include/numpy/npy_1_7_deprecated_api.h:17:2:\u001b[m\u001b[K \u001b[01;35m\u001b[Kwarning: \u001b[m\u001b[K#warning \"Using deprecated NumPy API, disable it with \" \"#define NPY_NO_DEPRECATED_API NPY_1_7_API_VERSION\" [\u001b[01;35m\u001b[K-Wcpp\u001b[m\u001b[K]\r\n",
      "   17 | #\u001b[01;35m\u001b[Kwarning\u001b[m\u001b[K \"Using deprecated NumPy API, disable it with \" \\\r\n",
      "      |  \u001b[01;35m\u001b[K^~~~~~~\u001b[m\u001b[K\r\n",
      "/opt/conda/lib/python3.10/site-packages/Cython/Compiler/Main.py:381: FutureWarning: Cython directive 'language_level' not set, using '3str' for now (Py3). This has changed from earlier releases! File: /kaggle/working/RECsys_Challenge2024/Recommenders/Similarity/Cython/Compute_Similarity_Cython.pyx\r\n",
      "  tree = Parsing.p_module(s, pxd, full_module_name)\r\n",
      "warning: Compute_Similarity_Cython.pyx:21:0: The 'IF' statement is deprecated and will be removed in a future Cython version. Consider using runtime conditions or C macros instead. See https://github.com/cython/cython/issues/4310\r\n",
      "Compiling [3/11]: Compute_Similarity_Cython.pyx... PASS\r\n",
      "\r\n",
      "Compiling [4/11]: Triangular_Matrix.pyx... \r\n",
      "warning: Triangular_Matrix.pyx:22:0: The 'IF' statement is deprecated and will be removed in a future Cython version. Consider using runtime conditions or C macros instead. See https://github.com/cython/cython/issues/4310\r\n",
      "In file included from \u001b[01m\u001b[K/opt/conda/lib/python3.10/site-packages/numpy/core/include/numpy/ndarraytypes.h:1929\u001b[m\u001b[K,\r\n",
      "                 from \u001b[01m\u001b[K/opt/conda/lib/python3.10/site-packages/numpy/core/include/numpy/ndarrayobject.h:12\u001b[m\u001b[K,\r\n",
      "                 from \u001b[01m\u001b[K/opt/conda/lib/python3.10/site-packages/numpy/core/include/numpy/arrayobject.h:5\u001b[m\u001b[K,\r\n",
      "                 from \u001b[01m\u001b[KTriangular_Matrix.c:1252\u001b[m\u001b[K:\r\n",
      "\u001b[01m\u001b[K/opt/conda/lib/python3.10/site-packages/numpy/core/include/numpy/npy_1_7_deprecated_api.h:17:2:\u001b[m\u001b[K \u001b[01;35m\u001b[Kwarning: \u001b[m\u001b[K#warning \"Using deprecated NumPy API, disable it with \" \"#define NPY_NO_DEPRECATED_API NPY_1_7_API_VERSION\" [\u001b[01;35m\u001b[K-Wcpp\u001b[m\u001b[K]\r\n",
      "   17 | #\u001b[01;35m\u001b[Kwarning\u001b[m\u001b[K \"Using deprecated NumPy API, disable it with \" \\\r\n",
      "      |  \u001b[01;35m\u001b[K^~~~~~~\u001b[m\u001b[K\r\n",
      "/opt/conda/lib/python3.10/site-packages/Cython/Compiler/Main.py:381: FutureWarning: Cython directive 'language_level' not set, using '3str' for now (Py3). This has changed from earlier releases! File: /kaggle/working/RECsys_Challenge2024/Recommenders/SLIM/Cython/Triangular_Matrix.pyx\r\n",
      "  tree = Parsing.p_module(s, pxd, full_module_name)\r\n",
      "warning: Triangular_Matrix.pyx:22:0: The 'IF' statement is deprecated and will be removed in a future Cython version. Consider using runtime conditions or C macros instead. See https://github.com/cython/cython/issues/4310\r\n",
      "Compiling [4/11]: Triangular_Matrix.pyx... PASS\r\n",
      "\r\n",
      "Compiling [5/11]: Sparse_Matrix_Tree_CSR.pyx... \r\n",
      "warning: Sparse_Matrix_Tree_CSR.pyx:132:34: Non-trivial type declarators in shared declaration (e.g. mix of pointers and values). Each pointer declaration should be on its own line.\r\n",
      "warning: Sparse_Matrix_Tree_CSR.pyx:132:66: Non-trivial type declarators in shared declaration (e.g. mix of pointers and values). Each pointer declaration should be on its own line.\r\n",
      "warning: Sparse_Matrix_Tree_CSR.pyx:343:35: Non-trivial type declarators in shared declaration (e.g. mix of pointers and values). Each pointer declaration should be on its own line.\r\n",
      "warning: Sparse_Matrix_Tree_CSR.pyx:343:52: Non-trivial type declarators in shared declaration (e.g. mix of pointers and values). Each pointer declaration should be on its own line.\r\n",
      "warning: Sparse_Matrix_Tree_CSR.pyx:442:35: Non-trivial type declarators in shared declaration (e.g. mix of pointers and values). Each pointer declaration should be on its own line.\r\n",
      "warning: Sparse_Matrix_Tree_CSR.pyx:442:53: Non-trivial type declarators in shared declaration (e.g. mix of pointers and values). Each pointer declaration should be on its own line.\r\n",
      "warning: Sparse_Matrix_Tree_CSR.pyx:442:69: Non-trivial type declarators in shared declaration (e.g. mix of pointers and values). Each pointer declaration should be on its own line.\r\n",
      "warning: Sparse_Matrix_Tree_CSR.pyx:577:35: Non-trivial type declarators in shared declaration (e.g. mix of pointers and values). Each pointer declaration should be on its own line.\r\n",
      "warning: Sparse_Matrix_Tree_CSR.pyx:577:42: Non-trivial type declarators in shared declaration (e.g. mix of pointers and values). Each pointer declaration should be on its own line.\r\n",
      "warning: Sparse_Matrix_Tree_CSR.pyx:578:35: Non-trivial type declarators in shared declaration (e.g. mix of pointers and values). Each pointer declaration should be on its own line.\r\n",
      "warning: Sparse_Matrix_Tree_CSR.pyx:578:53: Non-trivial type declarators in shared declaration (e.g. mix of pointers and values). Each pointer declaration should be on its own line.\r\n",
      "\r\n",
      "Error compiling Cython file:\r\n",
      "------------------------------------------------------------\r\n",
      "...\r\n",
      "            vector_pointer_to_list_elements[index].head = current_element\r\n",
      "            current_element = current_element.higher\r\n",
      "\r\n",
      "\r\n",
      "        # Sort array elements on their data field\r\n",
      "        qsort(vector_pointer_to_list_elements, list_length, sizeof(head_pointer_tree_s), compare_struct_on_data)\r\n",
      "                                                                                         ^\r\n",
      "------------------------------------------------------------\r\n",
      "\r\n",
      "Sparse_Matrix_Tree_CSR.pyx:516:89: Cannot assign type 'int (const void *, const void *) except? -1' to 'int (*)(const_void *, const_void *) noexcept'. Exception values are incompatible. Suggest adding 'noexcept' to the type of 'compare_struct_on_data'.\r\n",
      "\r\n",
      "Error compiling Cython file:\r\n",
      "------------------------------------------------------------\r\n",
      "...\r\n",
      "        # Sort array elements on their data field\r\n",
      "        qsort(vector_pointer_to_list_elements, list_length, sizeof(head_pointer_tree_s), compare_struct_on_data)\r\n",
      "\r\n",
      "        # Sort only the TopK according to their column field\r\n",
      "        # Sort is from lower to higher, therefore the elements to be considered are from len-topK to len\r\n",
      "        qsort(&vector_pointer_to_list_elements[list_length-TopK], TopK, sizeof(head_pointer_tree_s), compare_struct_on_column)\r\n",
      "                                                                                                     ^\r\n",
      "------------------------------------------------------------\r\n",
      "\r\n",
      "Sparse_Matrix_Tree_CSR.pyx:520:101: Cannot assign type 'int (const void *, const void *) except? -1' to 'int (*)(const_void *, const_void *) noexcept'. Exception values are incompatible. Suggest adding 'noexcept' to the type of 'compare_struct_on_column'.\r\n",
      "Traceback (most recent call last):\r\n",
      "  File \"/kaggle/working/RECsys_Challenge2024/CythonCompiler/compile_script.py\", line 48, in <module>\r\n",
      "    setup(\r\n",
      "  File \"/opt/conda/lib/python3.10/site-packages/setuptools/__init__.py\", line 103, in setup\r\n",
      "    return distutils.core.setup(**attrs)\r\n",
      "  File \"/opt/conda/lib/python3.10/site-packages/setuptools/_distutils/core.py\", line 184, in setup\r\n",
      "    return run_commands(dist)\r\n",
      "  File \"/opt/conda/lib/python3.10/site-packages/setuptools/_distutils/core.py\", line 200, in run_commands\r\n",
      "    dist.run_commands()\r\n",
      "  File \"/opt/conda/lib/python3.10/site-packages/setuptools/_distutils/dist.py\", line 969, in run_commands\r\n",
      "    self.run_command(cmd)\r\n",
      "  File \"/opt/conda/lib/python3.10/site-packages/setuptools/dist.py\", line 968, in run_command\r\n",
      "    super().run_command(command)\r\n",
      "  File \"/opt/conda/lib/python3.10/site-packages/setuptools/_distutils/dist.py\", line 988, in run_command\r\n",
      "    cmd_obj.run()\r\n",
      "  File \"/opt/conda/lib/python3.10/site-packages/setuptools/_distutils/command/build_ext.py\", line 359, in run\r\n",
      "    self.build_extensions()\r\n",
      "  File \"/opt/conda/lib/python3.10/site-packages/setuptools/_distutils/command/build_ext.py\", line 479, in build_extensions\r\n",
      "    self._build_extensions_serial()\r\n",
      "  File \"/opt/conda/lib/python3.10/site-packages/setuptools/_distutils/command/build_ext.py\", line 505, in _build_extensions_serial\r\n",
      "    self.build_extension(ext)\r\n",
      "  File \"/opt/conda/lib/python3.10/site-packages/Cython/Distutils/build_ext.py\", line 130, in build_extension\r\n",
      "    new_ext = cythonize(\r\n",
      "  File \"/opt/conda/lib/python3.10/site-packages/Cython/Build/Dependencies.py\", line 1154, in cythonize\r\n",
      "    cythonize_one(*args)\r\n",
      "  File \"/opt/conda/lib/python3.10/site-packages/Cython/Build/Dependencies.py\", line 1321, in cythonize_one\r\n",
      "    raise CompileError(None, pyx_file)\r\n",
      "Cython.Compiler.Errors.CompileError: Sparse_Matrix_Tree_CSR.pyx\r\n",
      "Traceback (most recent call last):\r\n",
      "  File \"/kaggle/working/RECsys_Challenge2024/run_compile_all_cython.py\", line 60, in <module>\r\n",
      "    run_compile_subprocess(file_path, [file_name])\r\n",
      "  File \"/kaggle/working/RECsys_Challenge2024/CythonCompiler/run_compile_subprocess.py\", line 51, in run_compile_subprocess\r\n",
      "    raise exc\r\n",
      "  File \"/kaggle/working/RECsys_Challenge2024/CythonCompiler/run_compile_subprocess.py\", line 32, in run_compile_subprocess\r\n",
      "    output = subprocess.check_output(' '.join(command),\r\n",
      "  File \"/opt/conda/lib/python3.10/subprocess.py\", line 421, in check_output\r\n",
      "    return run(*popenargs, stdout=PIPE, timeout=timeout, check=True,\r\n",
      "  File \"/opt/conda/lib/python3.10/subprocess.py\", line 526, in run\r\n",
      "    raise CalledProcessError(retcode, process.args,\r\n",
      "subprocess.CalledProcessError: Command '/opt/conda/bin/python /kaggle/working/RECsys_Challenge2024/CythonCompiler/compile_script.py Sparse_Matrix_Tree_CSR.pyx build_ext --inplace' returned non-zero exit status 1.\r\n",
      "Compiling [5/11]: Sparse_Matrix_Tree_CSR.pyx... FAIL: Command '/opt/conda/bin/python /kaggle/working/RECsys_Challenge2024/CythonCompiler/compile_script.py Sparse_Matrix_Tree_CSR.pyx build_ext --inplace' returned non-zero exit status 1.\r\n",
      "\r\n",
      "Compiling [6/11]: SLIM_BPR_Cython_Epoch.pyx... \r\n",
      "warning: SLIM_BPR_Cython_Epoch.pyx:24:0: The 'IF' statement is deprecated and will be removed in a future Cython version. Consider using runtime conditions or C macros instead. See https://github.com/cython/cython/issues/4310\r\n",
      "warning: SLIM_BPR_Cython_Epoch.pyx:632:34: Non-trivial type declarators in shared declaration (e.g. mix of pointers and values). Each pointer declaration should be on its own line.\r\n",
      "warning: SLIM_BPR_Cython_Epoch.pyx:632:66: Non-trivial type declarators in shared declaration (e.g. mix of pointers and values). Each pointer declaration should be on its own line.\r\n",
      "warning: SLIM_BPR_Cython_Epoch.pyx:817:35: Non-trivial type declarators in shared declaration (e.g. mix of pointers and values). Each pointer declaration should be on its own line.\r\n",
      "warning: SLIM_BPR_Cython_Epoch.pyx:817:52: Non-trivial type declarators in shared declaration (e.g. mix of pointers and values). Each pointer declaration should be on its own line.\r\n",
      "warning: SLIM_BPR_Cython_Epoch.pyx:916:35: Non-trivial type declarators in shared declaration (e.g. mix of pointers and values). Each pointer declaration should be on its own line.\r\n",
      "warning: SLIM_BPR_Cython_Epoch.pyx:916:53: Non-trivial type declarators in shared declaration (e.g. mix of pointers and values). Each pointer declaration should be on its own line.\r\n",
      "warning: SLIM_BPR_Cython_Epoch.pyx:916:69: Non-trivial type declarators in shared declaration (e.g. mix of pointers and values). Each pointer declaration should be on its own line.\r\n",
      "warning: SLIM_BPR_Cython_Epoch.pyx:1051:35: Non-trivial type declarators in shared declaration (e.g. mix of pointers and values). Each pointer declaration should be on its own line.\r\n",
      "warning: SLIM_BPR_Cython_Epoch.pyx:1051:42: Non-trivial type declarators in shared declaration (e.g. mix of pointers and values). Each pointer declaration should be on its own line.\r\n",
      "warning: SLIM_BPR_Cython_Epoch.pyx:1052:35: Non-trivial type declarators in shared declaration (e.g. mix of pointers and values). Each pointer declaration should be on its own line.\r\n",
      "warning: SLIM_BPR_Cython_Epoch.pyx:1052:53: Non-trivial type declarators in shared declaration (e.g. mix of pointers and values). Each pointer declaration should be on its own line.\r\n",
      "\r\n",
      "Error compiling Cython file:\r\n",
      "------------------------------------------------------------\r\n",
      "...\r\n",
      "            vector_pointer_to_list_elements[index].head = current_element\r\n",
      "            current_element = current_element.higher\r\n",
      "\r\n",
      "\r\n",
      "        # Sort array elements on their data field\r\n",
      "        qsort(vector_pointer_to_list_elements, list_length, sizeof(head_pointer_tree_s), compare_struct_on_data)\r\n",
      "                                                                                         ^\r\n",
      "------------------------------------------------------------\r\n",
      "\r\n",
      "SLIM_BPR_Cython_Epoch.pyx:990:89: Cannot assign type 'int (const void *, const void *) except? -1' to 'int (*)(const_void *, const_void *) noexcept'. Exception values are incompatible. Suggest adding 'noexcept' to the type of 'compare_struct_on_data'.\r\n",
      "\r\n",
      "Error compiling Cython file:\r\n",
      "------------------------------------------------------------\r\n",
      "...\r\n",
      "        # Sort array elements on their data field\r\n",
      "        qsort(vector_pointer_to_list_elements, list_length, sizeof(head_pointer_tree_s), compare_struct_on_data)\r\n",
      "\r\n",
      "        # Sort only the TopK according to their column field\r\n",
      "        # Sort is from lower to higher, therefore the elements to be considered are from len-topK to len\r\n",
      "        qsort(&vector_pointer_to_list_elements[list_length-TopK], TopK, sizeof(head_pointer_tree_s), compare_struct_on_column)\r\n",
      "                                                                                                     ^\r\n",
      "------------------------------------------------------------\r\n",
      "\r\n",
      "SLIM_BPR_Cython_Epoch.pyx:994:101: Cannot assign type 'int (const void *, const void *) except? -1' to 'int (*)(const_void *, const_void *) noexcept'. Exception values are incompatible. Suggest adding 'noexcept' to the type of 'compare_struct_on_column'.\r\n",
      "Traceback (most recent call last):\r\n",
      "  File \"/kaggle/working/RECsys_Challenge2024/CythonCompiler/compile_script.py\", line 48, in <module>\r\n",
      "    setup(\r\n",
      "  File \"/opt/conda/lib/python3.10/site-packages/setuptools/__init__.py\", line 103, in setup\r\n",
      "    return distutils.core.setup(**attrs)\r\n",
      "  File \"/opt/conda/lib/python3.10/site-packages/setuptools/_distutils/core.py\", line 184, in setup\r\n",
      "    return run_commands(dist)\r\n",
      "  File \"/opt/conda/lib/python3.10/site-packages/setuptools/_distutils/core.py\", line 200, in run_commands\r\n",
      "    dist.run_commands()\r\n",
      "  File \"/opt/conda/lib/python3.10/site-packages/setuptools/_distutils/dist.py\", line 969, in run_commands\r\n",
      "    self.run_command(cmd)\r\n",
      "  File \"/opt/conda/lib/python3.10/site-packages/setuptools/dist.py\", line 968, in run_command\r\n",
      "    super().run_command(command)\r\n",
      "  File \"/opt/conda/lib/python3.10/site-packages/setuptools/_distutils/dist.py\", line 988, in run_command\r\n",
      "    cmd_obj.run()\r\n",
      "  File \"/opt/conda/lib/python3.10/site-packages/setuptools/_distutils/command/build_ext.py\", line 359, in run\r\n",
      "    self.build_extensions()\r\n",
      "  File \"/opt/conda/lib/python3.10/site-packages/setuptools/_distutils/command/build_ext.py\", line 479, in build_extensions\r\n",
      "    self._build_extensions_serial()\r\n",
      "  File \"/opt/conda/lib/python3.10/site-packages/setuptools/_distutils/command/build_ext.py\", line 505, in _build_extensions_serial\r\n",
      "    self.build_extension(ext)\r\n",
      "  File \"/opt/conda/lib/python3.10/site-packages/Cython/Distutils/build_ext.py\", line 130, in build_extension\r\n",
      "    new_ext = cythonize(\r\n",
      "  File \"/opt/conda/lib/python3.10/site-packages/Cython/Build/Dependencies.py\", line 1154, in cythonize\r\n",
      "    cythonize_one(*args)\r\n",
      "  File \"/opt/conda/lib/python3.10/site-packages/Cython/Build/Dependencies.py\", line 1321, in cythonize_one\r\n",
      "    raise CompileError(None, pyx_file)\r\n",
      "Cython.Compiler.Errors.CompileError: SLIM_BPR_Cython_Epoch.pyx\r\n",
      "Traceback (most recent call last):\r\n",
      "  File \"/kaggle/working/RECsys_Challenge2024/run_compile_all_cython.py\", line 60, in <module>\r\n",
      "    run_compile_subprocess(file_path, [file_name])\r\n",
      "  File \"/kaggle/working/RECsys_Challenge2024/CythonCompiler/run_compile_subprocess.py\", line 51, in run_compile_subprocess\r\n",
      "    raise exc\r\n",
      "  File \"/kaggle/working/RECsys_Challenge2024/CythonCompiler/run_compile_subprocess.py\", line 32, in run_compile_subprocess\r\n",
      "    output = subprocess.check_output(' '.join(command),\r\n",
      "  File \"/opt/conda/lib/python3.10/subprocess.py\", line 421, in check_output\r\n",
      "    return run(*popenargs, stdout=PIPE, timeout=timeout, check=True,\r\n",
      "  File \"/opt/conda/lib/python3.10/subprocess.py\", line 526, in run\r\n",
      "    raise CalledProcessError(retcode, process.args,\r\n",
      "subprocess.CalledProcessError: Command '/opt/conda/bin/python /kaggle/working/RECsys_Challenge2024/CythonCompiler/compile_script.py SLIM_BPR_Cython_Epoch.pyx build_ext --inplace' returned non-zero exit status 1.\r\n",
      "Compiling [6/11]: SLIM_BPR_Cython_Epoch.pyx... FAIL: Command '/opt/conda/bin/python /kaggle/working/RECsys_Challenge2024/CythonCompiler/compile_script.py SLIM_BPR_Cython_Epoch.pyx build_ext --inplace' returned non-zero exit status 1.\r\n",
      "\r\n",
      "Compiling [7/11]: HP3_Similarity_Cython_SGD.pyx... \r\n",
      "performance hint: HP3_Similarity_Cython_SGD.pyx:113:40: Index should be typed for more efficient access\r\n",
      "performance hint: HP3_Similarity_Cython_SGD.pyx:114:40: Index should be typed for more efficient access\r\n",
      "In file included from \u001b[01m\u001b[K/opt/conda/lib/python3.10/site-packages/numpy/core/include/numpy/ndarraytypes.h:1929\u001b[m\u001b[K,\r\n",
      "                 from \u001b[01m\u001b[K/opt/conda/lib/python3.10/site-packages/numpy/core/include/numpy/ndarrayobject.h:12\u001b[m\u001b[K,\r\n",
      "                 from \u001b[01m\u001b[K/opt/conda/lib/python3.10/site-packages/numpy/core/include/numpy/arrayobject.h:5\u001b[m\u001b[K,\r\n",
      "                 from \u001b[01m\u001b[KHP3_Similarity_Cython_SGD.c:1252\u001b[m\u001b[K:\r\n",
      "\u001b[01m\u001b[K/opt/conda/lib/python3.10/site-packages/numpy/core/include/numpy/npy_1_7_deprecated_api.h:17:2:\u001b[m\u001b[K \u001b[01;35m\u001b[Kwarning: \u001b[m\u001b[K#warning \"Using deprecated NumPy API, disable it with \" \"#define NPY_NO_DEPRECATED_API NPY_1_7_API_VERSION\" [\u001b[01;35m\u001b[K-Wcpp\u001b[m\u001b[K]\r\n",
      "   17 | #\u001b[01;35m\u001b[Kwarning\u001b[m\u001b[K \"Using deprecated NumPy API, disable it with \" \\\r\n",
      "      |  \u001b[01;35m\u001b[K^~~~~~~\u001b[m\u001b[K\r\n",
      "\u001b[01m\u001b[KHP3_Similarity_Cython_SGD.c:\u001b[m\u001b[K In function '\u001b[01m\u001b[K__pyx_pf_25HP3_Similarity_Cython_SGD_25HP3_Similarity_Cython_SGD_4fit\u001b[m\u001b[K':\r\n",
      "\u001b[01m\u001b[KHP3_Similarity_Cython_SGD.c:23631:55:\u001b[m\u001b[K \u001b[01;35m\u001b[Kwarning: \u001b[m\u001b[K'\u001b[01m\u001b[K__pyx_v_sample_num\u001b[m\u001b[K' may be used uninitialized in this function [\u001b[01;35m\u001b[K-Wmaybe-uninitialized\u001b[m\u001b[K]\r\n",
      "23631 |   __pyx_t_1 = PyFloat_FromDouble((__pyx_v_cum_loss / \u001b[01;35m\u001b[K((double)__pyx_v_sample_num)\u001b[m\u001b[K)); if (unlikely(!__pyx_t_1)) __PYX_ERR(0, 291, __pyx_L1_error)\r\n",
      "      |                                                      \u001b[01;35m\u001b[K~^~~~~~~~~~~~~~~~~~~~~~~~~~~\u001b[m\u001b[K\r\n",
      "/opt/conda/lib/python3.10/site-packages/Cython/Compiler/Main.py:381: FutureWarning: Cython directive 'language_level' not set, using '3str' for now (Py3). This has changed from earlier releases! File: /kaggle/working/RECsys_Challenge2024/Recommenders/FeatureWeighting/Cython/HP3_Similarity_Cython_SGD.pyx\r\n",
      "  tree = Parsing.p_module(s, pxd, full_module_name)\r\n",
      "performance hint: HP3_Similarity_Cython_SGD.pyx:113:40: Index should be typed for more efficient access\r\n",
      "performance hint: HP3_Similarity_Cython_SGD.pyx:114:40: Index should be typed for more efficient access\r\n",
      "Compiling [7/11]: HP3_Similarity_Cython_SGD.pyx... PASS\r\n",
      "\r\n",
      "Compiling [8/11]: FBSM_Rating_Cython_SGD.pyx... \r\n",
      "In file included from \u001b[01m\u001b[K/opt/conda/lib/python3.10/site-packages/numpy/core/include/numpy/ndarraytypes.h:1929\u001b[m\u001b[K,\r\n",
      "                 from \u001b[01m\u001b[K/opt/conda/lib/python3.10/site-packages/numpy/core/include/numpy/ndarrayobject.h:12\u001b[m\u001b[K,\r\n",
      "                 from \u001b[01m\u001b[K/opt/conda/lib/python3.10/site-packages/numpy/core/include/numpy/arrayobject.h:5\u001b[m\u001b[K,\r\n",
      "                 from \u001b[01m\u001b[KFBSM_Rating_Cython_SGD.c:1252\u001b[m\u001b[K:\r\n",
      "\u001b[01m\u001b[K/opt/conda/lib/python3.10/site-packages/numpy/core/include/numpy/npy_1_7_deprecated_api.h:17:2:\u001b[m\u001b[K \u001b[01;35m\u001b[Kwarning: \u001b[m\u001b[K#warning \"Using deprecated NumPy API, disable it with \" \"#define NPY_NO_DEPRECATED_API NPY_1_7_API_VERSION\" [\u001b[01;35m\u001b[K-Wcpp\u001b[m\u001b[K]\r\n",
      "   17 | #\u001b[01;35m\u001b[Kwarning\u001b[m\u001b[K \"Using deprecated NumPy API, disable it with \" \\\r\n",
      "      |  \u001b[01;35m\u001b[K^~~~~~~\u001b[m\u001b[K\r\n",
      "\u001b[01m\u001b[KFBSM_Rating_Cython_SGD.c:\u001b[m\u001b[K In function '\u001b[01m\u001b[K__pyx_pf_22FBSM_Rating_Cython_SGD_22FBSM_Rating_Cython_SGD_2fit\u001b[m\u001b[K':\r\n",
      "\u001b[01m\u001b[KFBSM_Rating_Cython_SGD.c:26607:55:\u001b[m\u001b[K \u001b[01;35m\u001b[Kwarning: \u001b[m\u001b[K'\u001b[01m\u001b[K__pyx_v_num_sample\u001b[m\u001b[K' may be used uninitialized in this function [\u001b[01;35m\u001b[K-Wmaybe-uninitialized\u001b[m\u001b[K]\r\n",
      "26607 |   __pyx_t_5 = PyFloat_FromDouble((__pyx_v_cum_loss / \u001b[01;35m\u001b[K((double)__pyx_v_num_sample)\u001b[m\u001b[K)); if (unlikely(!__pyx_t_5)) __PYX_ERR(0, 551, __pyx_L1_error)\r\n",
      "      |                                                      \u001b[01;35m\u001b[K~^~~~~~~~~~~~~~~~~~~~~~~~~~~\u001b[m\u001b[K\r\n",
      "/opt/conda/lib/python3.10/site-packages/Cython/Compiler/Main.py:381: FutureWarning: Cython directive 'language_level' not set, using '3str' for now (Py3). This has changed from earlier releases! File: /kaggle/working/RECsys_Challenge2024/Recommenders/FeatureWeighting/Cython/FBSM_Rating_Cython_SGD.pyx\r\n",
      "  tree = Parsing.p_module(s, pxd, full_module_name)\r\n",
      "Compiling [8/11]: FBSM_Rating_Cython_SGD.pyx... PASS\r\n",
      "\r\n",
      "Compiling [9/11]: CFW_DVV_Similarity_Cython_SGD.pyx... \r\n",
      "In file included from \u001b[01m\u001b[K/opt/conda/lib/python3.10/site-packages/numpy/core/include/numpy/ndarraytypes.h:1929\u001b[m\u001b[K,\r\n",
      "                 from \u001b[01m\u001b[K/opt/conda/lib/python3.10/site-packages/numpy/core/include/numpy/ndarrayobject.h:12\u001b[m\u001b[K,\r\n",
      "                 from \u001b[01m\u001b[K/opt/conda/lib/python3.10/site-packages/numpy/core/include/numpy/arrayobject.h:5\u001b[m\u001b[K,\r\n",
      "                 from \u001b[01m\u001b[KCFW_DVV_Similarity_Cython_SGD.c:1252\u001b[m\u001b[K:\r\n",
      "\u001b[01m\u001b[K/opt/conda/lib/python3.10/site-packages/numpy/core/include/numpy/npy_1_7_deprecated_api.h:17:2:\u001b[m\u001b[K \u001b[01;35m\u001b[Kwarning: \u001b[m\u001b[K#warning \"Using deprecated NumPy API, disable it with \" \"#define NPY_NO_DEPRECATED_API NPY_1_7_API_VERSION\" [\u001b[01;35m\u001b[K-Wcpp\u001b[m\u001b[K]\r\n",
      "   17 | #\u001b[01;35m\u001b[Kwarning\u001b[m\u001b[K \"Using deprecated NumPy API, disable it with \" \\\r\n",
      "      |  \u001b[01;35m\u001b[K^~~~~~~\u001b[m\u001b[K\r\n",
      "/opt/conda/lib/python3.10/site-packages/Cython/Compiler/Main.py:381: FutureWarning: Cython directive 'language_level' not set, using '3str' for now (Py3). This has changed from earlier releases! File: /kaggle/working/RECsys_Challenge2024/Recommenders/FeatureWeighting/Cython/CFW_DVV_Similarity_Cython_SGD.pyx\r\n",
      "  tree = Parsing.p_module(s, pxd, full_module_name)\r\n",
      "Compiling [9/11]: CFW_DVV_Similarity_Cython_SGD.pyx... PASS\r\n",
      "\r\n",
      "Compiling [10/11]: CFW_D_Similarity_Cython_SGD.pyx... \r\n",
      "In file included from \u001b[01m\u001b[K/opt/conda/lib/python3.10/site-packages/numpy/core/include/numpy/ndarraytypes.h:1929\u001b[m\u001b[K,\r\n",
      "                 from \u001b[01m\u001b[K/opt/conda/lib/python3.10/site-packages/numpy/core/include/numpy/ndarrayobject.h:12\u001b[m\u001b[K,\r\n",
      "                 from \u001b[01m\u001b[K/opt/conda/lib/python3.10/site-packages/numpy/core/include/numpy/arrayobject.h:5\u001b[m\u001b[K,\r\n",
      "                 from \u001b[01m\u001b[KCFW_D_Similarity_Cython_SGD.c:1252\u001b[m\u001b[K:\r\n",
      "\u001b[01m\u001b[K/opt/conda/lib/python3.10/site-packages/numpy/core/include/numpy/npy_1_7_deprecated_api.h:17:2:\u001b[m\u001b[K \u001b[01;35m\u001b[Kwarning: \u001b[m\u001b[K#warning \"Using deprecated NumPy API, disable it with \" \"#define NPY_NO_DEPRECATED_API NPY_1_7_API_VERSION\" [\u001b[01;35m\u001b[K-Wcpp\u001b[m\u001b[K]\r\n",
      "   17 | #\u001b[01;35m\u001b[Kwarning\u001b[m\u001b[K \"Using deprecated NumPy API, disable it with \" \\\r\n",
      "      |  \u001b[01;35m\u001b[K^~~~~~~\u001b[m\u001b[K\r\n",
      "\u001b[01m\u001b[KCFW_D_Similarity_Cython_SGD.c:\u001b[m\u001b[K In function '\u001b[01m\u001b[K__pyx_pf_27CFW_D_Similarity_Cython_SGD_27CFW_D_Similarity_Cython_SGD_6fit\u001b[m\u001b[K':\r\n",
      "\u001b[01m\u001b[KCFW_D_Similarity_Cython_SGD.c:23373:55:\u001b[m\u001b[K \u001b[01;35m\u001b[Kwarning: \u001b[m\u001b[K'\u001b[01m\u001b[K__pyx_v_sample_num\u001b[m\u001b[K' may be used uninitialized in this function [\u001b[01;35m\u001b[K-Wmaybe-uninitialized\u001b[m\u001b[K]\r\n",
      "23373 |   __pyx_t_3 = PyFloat_FromDouble((__pyx_v_cum_loss / \u001b[01;35m\u001b[K((double)__pyx_v_sample_num)\u001b[m\u001b[K)); if (unlikely(!__pyx_t_3)) __PYX_ERR(0, 290, __pyx_L1_error)\r\n",
      "      |                                                      \u001b[01;35m\u001b[K~^~~~~~~~~~~~~~~~~~~~~~~~~~~\u001b[m\u001b[K\r\n",
      "/opt/conda/lib/python3.10/site-packages/Cython/Compiler/Main.py:381: FutureWarning: Cython directive 'language_level' not set, using '3str' for now (Py3). This has changed from earlier releases! File: /kaggle/working/RECsys_Challenge2024/Recommenders/FeatureWeighting/Cython/CFW_D_Similarity_Cython_SGD.pyx\r\n",
      "  tree = Parsing.p_module(s, pxd, full_module_name)\r\n",
      "Compiling [10/11]: CFW_D_Similarity_Cython_SGD.pyx... PASS\r\n",
      "\r\n",
      "Compiling [11/11]: DataIterator.pyx... \r\n",
      "In file included from \u001b[01m\u001b[K/opt/conda/lib/python3.10/site-packages/numpy/core/include/numpy/ndarraytypes.h:1929\u001b[m\u001b[K,\r\n",
      "                 from \u001b[01m\u001b[K/opt/conda/lib/python3.10/site-packages/numpy/core/include/numpy/ndarrayobject.h:12\u001b[m\u001b[K,\r\n",
      "                 from \u001b[01m\u001b[K/opt/conda/lib/python3.10/site-packages/numpy/core/include/numpy/arrayobject.h:5\u001b[m\u001b[K,\r\n",
      "                 from \u001b[01m\u001b[KDataIterator.c:1252\u001b[m\u001b[K:\r\n",
      "\u001b[01m\u001b[K/opt/conda/lib/python3.10/site-packages/numpy/core/include/numpy/npy_1_7_deprecated_api.h:17:2:\u001b[m\u001b[K \u001b[01;35m\u001b[Kwarning: \u001b[m\u001b[K#warning \"Using deprecated NumPy API, disable it with \" \"#define NPY_NO_DEPRECATED_API NPY_1_7_API_VERSION\" [\u001b[01;35m\u001b[K-Wcpp\u001b[m\u001b[K]\r\n",
      "   17 | #\u001b[01;35m\u001b[Kwarning\u001b[m\u001b[K \"Using deprecated NumPy API, disable it with \" \\\r\n",
      "      |  \u001b[01;35m\u001b[K^~~~~~~\u001b[m\u001b[K\r\n",
      "\u001b[01m\u001b[KDataIterator.c:\u001b[m\u001b[K In function '\u001b[01m\u001b[K__pyx_pf_12DataIterator_30InteractionAndNegativeIterator_6__next__\u001b[m\u001b[K':\r\n",
      "\u001b[01m\u001b[KDataIterator.c:25495:22:\u001b[m\u001b[K \u001b[01;35m\u001b[Kwarning: \u001b[m\u001b[K'\u001b[01m\u001b[K__pyx_v_i_batch\u001b[m\u001b[K' may be used uninitialized in this function [\u001b[01;35m\u001b[K-Wmaybe-uninitialized\u001b[m\u001b[K]\r\n",
      "25495 |     (__pyx_v_i_batch \u001b[01;35m\u001b[K+\u001b[m\u001b[K 1),\r\n",
      "      |                      \u001b[01;35m\u001b[K^\u001b[m\u001b[K\r\n",
      "\u001b[01m\u001b[KDataIterator.c:\u001b[m\u001b[K In function '\u001b[01m\u001b[K__pyx_pf_12DataIterator_11BPRIterator_6__next__\u001b[m\u001b[K':\r\n",
      "\u001b[01m\u001b[KDataIterator.c:23054:22:\u001b[m\u001b[K \u001b[01;35m\u001b[Kwarning: \u001b[m\u001b[K'\u001b[01m\u001b[K__pyx_v_i_batch\u001b[m\u001b[K' may be used uninitialized in this function [\u001b[01;35m\u001b[K-Wmaybe-uninitialized\u001b[m\u001b[K]\r\n",
      "23054 |     (__pyx_v_i_batch \u001b[01;35m\u001b[K+\u001b[m\u001b[K 1),\r\n",
      "      |                      \u001b[01;35m\u001b[K^\u001b[m\u001b[K\r\n",
      "\u001b[01m\u001b[KDataIterator.c:\u001b[m\u001b[K In function '\u001b[01m\u001b[K__pyx_pf_12DataIterator_19InteractionIterator_6__next__\u001b[m\u001b[K':\r\n",
      "\u001b[01m\u001b[KDataIterator.c:20937:22:\u001b[m\u001b[K \u001b[01;35m\u001b[Kwarning: \u001b[m\u001b[K'\u001b[01m\u001b[K__pyx_v_i_batch\u001b[m\u001b[K' may be used uninitialized in this function [\u001b[01;35m\u001b[K-Wmaybe-uninitialized\u001b[m\u001b[K]\r\n",
      "20937 |     (__pyx_v_i_batch \u001b[01;35m\u001b[K+\u001b[m\u001b[K 1),\r\n",
      "      |                      \u001b[01;35m\u001b[K^\u001b[m\u001b[K\r\n",
      "/opt/conda/lib/python3.10/site-packages/Cython/Compiler/Main.py:381: FutureWarning: Cython directive 'language_level' not set, using '3str' for now (Py3). This has changed from earlier releases! File: /kaggle/working/RECsys_Challenge2024/Utils/PyTorch/Cython/DataIterator.pyx\r\n",
      "  tree = Parsing.p_module(s, pxd, full_module_name)\r\n",
      "Compiling [11/11]: DataIterator.pyx... PASS\r\n",
      "\r\n",
      "run_compile_all_cython: Compilation finished. FAILS 2/11.\r\n",
      "Compilation log can be found here: './result_experiments/run_compile_all_cython.txt'\r\n"
     ]
    }
   ],
   "source": [
    "%cd /kaggle/working/RECsys_Challenge2024 \n",
    "! python run_compile_all_cython.py"
   ]
  },
  {
   "cell_type": "code",
   "execution_count": null,
   "id": "885c5264",
   "metadata": {
    "execution": {
     "iopub.execute_input": "2024-12-02T18:32:49.918945Z",
     "iopub.status.busy": "2024-12-02T18:32:49.918534Z",
     "iopub.status.idle": "2024-12-02T18:32:51.687042Z",
     "shell.execute_reply": "2024-12-02T18:32:51.685673Z"
    },
    "papermill": {
     "duration": 1.786165,
     "end_time": "2024-12-02T18:32:51.689894",
     "exception": false,
     "start_time": "2024-12-02T18:32:49.903729",
     "status": "completed"
    },
    "tags": []
   },
   "outputs": [],
   "source": [
    "from Utils.notebookFunctions import *\n",
    "import numpy as np\n",
    "import pandas as pd\n",
    "import scipy.sparse as sps\n",
    "import time\n",
    "import shutil\n",
    "import optuna\n",
    "import json\n",
    "import os\n",
    "from Utils.seconds_to_biggest_unit import seconds_to_biggest_unit\n",
    "\n",
    "\n",
    "K_PATH = '/kaggle/working/RECsys_Challenge2024'\n",
    "GH_PATH = 'TrainedModels/WithoutKFCV/GraphBased'\n",
    "\n",
    "np.random.seed(42)"
   ]
  },
  {
   "cell_type": "markdown",
   "id": "c1944f58",
   "metadata": {
    "papermill": {
     "duration": 0.013151,
     "end_time": "2024-12-02T18:32:51.716821",
     "exception": false,
     "start_time": "2024-12-02T18:32:51.703670",
     "status": "completed"
    },
    "tags": []
   },
   "source": [
    "## Import the repository"
   ]
  },
  {
   "cell_type": "code",
   "execution_count": 6,
   "id": "c5356d15",
   "metadata": {
    "execution": {
     "iopub.execute_input": "2024-12-02T18:32:51.744490Z",
     "iopub.status.busy": "2024-12-02T18:32:51.743538Z",
     "iopub.status.idle": "2024-12-02T18:32:52.235584Z",
     "shell.execute_reply": "2024-12-02T18:32:52.234266Z"
    },
    "papermill": {
     "duration": 0.508376,
     "end_time": "2024-12-02T18:32:52.237999",
     "exception": false,
     "start_time": "2024-12-02T18:32:51.729623",
     "status": "completed"
    },
    "tags": []
   },
   "outputs": [
    {
     "name": "stdout",
     "output_type": "stream",
     "text": [
      "Repository 'RECsys_Challenge2024' found.\n"
     ]
    }
   ],
   "source": [
    "repo = get_repo_from_github(token)"
   ]
  },
  {
   "cell_type": "code",
   "execution_count": 7,
   "id": "effcf421",
   "metadata": {
    "execution": {
     "iopub.execute_input": "2024-12-02T18:32:52.266704Z",
     "iopub.status.busy": "2024-12-02T18:32:52.266322Z",
     "iopub.status.idle": "2024-12-02T18:32:52.272028Z",
     "shell.execute_reply": "2024-12-02T18:32:52.271058Z"
    },
    "papermill": {
     "duration": 0.023222,
     "end_time": "2024-12-02T18:32:52.274138",
     "exception": false,
     "start_time": "2024-12-02T18:32:52.250916",
     "status": "completed"
    },
    "tags": []
   },
   "outputs": [],
   "source": [
    "config = {\n",
    "    'model': 'RP3beta',\n",
    "    'tune_parameters': True,\n",
    "    'database_path': '/kaggle/working/history_RP3beta.db',\n",
    "    'copy_prev_best_params': False,\n",
    "    'tune_best_params': True,\n",
    "    'save_github': True\n",
    "}"
   ]
  },
  {
   "cell_type": "markdown",
   "id": "93e7c606",
   "metadata": {
    "papermill": {
     "duration": 0.012506,
     "end_time": "2024-12-02T18:32:52.299762",
     "exception": false,
     "start_time": "2024-12-02T18:32:52.287256",
     "status": "completed"
    },
    "tags": []
   },
   "source": [
    "Import the database where previous tuning trials have been saved."
   ]
  },
  {
   "cell_type": "code",
   "execution_count": null,
   "id": "ee099a3b",
   "metadata": {
    "execution": {
     "iopub.execute_input": "2024-12-02T18:32:52.326838Z",
     "iopub.status.busy": "2024-12-02T18:32:52.326474Z",
     "iopub.status.idle": "2024-12-02T18:32:52.333503Z",
     "shell.execute_reply": "2024-12-02T18:32:52.332370Z"
    },
    "papermill": {
     "duration": 0.023041,
     "end_time": "2024-12-02T18:32:52.335701",
     "exception": false,
     "start_time": "2024-12-02T18:32:52.312660",
     "status": "completed"
    },
    "tags": []
   },
   "outputs": [],
   "source": [
    "try:\n",
    "    shutil.copyfile(\n",
    "        f'{K_PATH}/{GH_PATH}/{config[\"model\"]}Recommender/OptimizingMAP/history_{config[\"model\"]}.db', \n",
    "        config['database_path']\n",
    "    )\n",
    "except FileNotFoundError:\n",
    "    pass # if not present optuna will create it"
   ]
  },
  {
   "cell_type": "markdown",
   "id": "ab365bd0",
   "metadata": {
    "papermill": {
     "duration": 0.013214,
     "end_time": "2024-12-02T18:32:52.362159",
     "exception": false,
     "start_time": "2024-12-02T18:32:52.348945",
     "status": "completed"
    },
    "tags": []
   },
   "source": [
    "# Construction of URM and ICM matrices"
   ]
  },
  {
   "cell_type": "code",
   "execution_count": 9,
   "id": "8a3bede9",
   "metadata": {
    "execution": {
     "iopub.execute_input": "2024-12-02T18:32:52.389527Z",
     "iopub.status.busy": "2024-12-02T18:32:52.389144Z",
     "iopub.status.idle": "2024-12-02T18:32:53.403832Z",
     "shell.execute_reply": "2024-12-02T18:32:53.402740Z"
    },
    "papermill": {
     "duration": 1.030909,
     "end_time": "2024-12-02T18:32:53.405905",
     "exception": false,
     "start_time": "2024-12-02T18:32:52.374996",
     "status": "completed"
    },
    "tags": []
   },
   "outputs": [
    {
     "data": {
      "text/plain": [
       "<Compressed Sparse Row sparse matrix of dtype 'float64'\n",
       "\twith 1764607 stored elements and shape (35736, 38121)>"
      ]
     },
     "execution_count": 9,
     "metadata": {},
     "output_type": "execute_result"
    }
   ],
   "source": [
    "URM_all_dataframe = pd.read_csv(\"/kaggle/input/recommender-system-2024-challenge-polimi/data_train.csv\")\n",
    "\n",
    "n_users = len(URM_all_dataframe[\"user_id\"].unique())\n",
    "n_items = len(URM_all_dataframe[\"item_id\"].unique())\n",
    "\n",
    "URM_all = sps.csr_matrix((URM_all_dataframe[\"data\"].values, \n",
    "                          (URM_all_dataframe[\"user_id\"].values, URM_all_dataframe[\"item_id\"].values)),\n",
    "                        shape = (n_users, n_items))\n",
    "\n",
    "URM_all"
   ]
  },
  {
   "cell_type": "code",
   "execution_count": 10,
   "id": "3a6949a7",
   "metadata": {
    "execution": {
     "iopub.execute_input": "2024-12-02T18:32:53.434170Z",
     "iopub.status.busy": "2024-12-02T18:32:53.433560Z",
     "iopub.status.idle": "2024-12-02T18:32:54.994536Z",
     "shell.execute_reply": "2024-12-02T18:32:54.993498Z"
    },
    "papermill": {
     "duration": 1.577305,
     "end_time": "2024-12-02T18:32:54.996777",
     "exception": false,
     "start_time": "2024-12-02T18:32:53.419472",
     "status": "completed"
    },
    "tags": []
   },
   "outputs": [
    {
     "data": {
      "text/plain": [
       "<Compressed Sparse Row sparse matrix of dtype 'float64'\n",
       "\twith 2940040 stored elements and shape (38121, 94331)>"
      ]
     },
     "execution_count": 10,
     "metadata": {},
     "output_type": "execute_result"
    }
   ],
   "source": [
    "ICM_dataframe = pd.read_csv(\"/kaggle/input/recommender-system-2024-challenge-polimi/data_ICM_metadata.csv\")\n",
    "\n",
    "n_items = len(ICM_dataframe[\"item_id\"].unique())\n",
    "n_features = len(ICM_dataframe[\"feature_id\"].unique())\n",
    "\n",
    "ICM_all = sps.csr_matrix((ICM_dataframe[\"data\"].values, \n",
    "                          (ICM_dataframe[\"item_id\"].values, ICM_dataframe[\"feature_id\"].values)),\n",
    "                        shape = (n_items, n_features))\n",
    "\n",
    "ICM_all"
   ]
  },
  {
   "cell_type": "markdown",
   "id": "80893d6b",
   "metadata": {
    "papermill": {
     "duration": 0.01268,
     "end_time": "2024-12-02T18:32:55.022484",
     "exception": false,
     "start_time": "2024-12-02T18:32:55.009804",
     "status": "completed"
    },
    "tags": []
   },
   "source": [
    "# Training"
   ]
  },
  {
   "cell_type": "code",
   "execution_count": 11,
   "id": "d3a23c09",
   "metadata": {
    "execution": {
     "iopub.execute_input": "2024-12-02T18:32:55.064501Z",
     "iopub.status.busy": "2024-12-02T18:32:55.063965Z",
     "iopub.status.idle": "2024-12-02T18:32:58.006068Z",
     "shell.execute_reply": "2024-12-02T18:32:58.004858Z"
    },
    "papermill": {
     "duration": 2.966559,
     "end_time": "2024-12-02T18:32:58.008557",
     "exception": false,
     "start_time": "2024-12-02T18:32:55.041998",
     "status": "completed"
    },
    "tags": []
   },
   "outputs": [
    {
     "name": "stdout",
     "output_type": "stream",
     "text": [
      "Warning: 141 (0.39 %) of 35736 users have no sampled items\n",
      "EvaluatorHoldout: Ignoring 141 ( 0.4%) Users that have less than 1 test interactions\n"
     ]
    }
   ],
   "source": [
    "from Evaluation.Evaluator import EvaluatorHoldout\n",
    "from Data_manager.split_functions.split_train_validation_random_holdout import split_train_in_two_percentage_global_sample\n",
    "\n",
    "URM_train, URM_validation = split_train_in_two_percentage_global_sample(URM_all, train_percentage = 0.80)\n",
    "\n",
    "evaluator_validation = EvaluatorHoldout(URM_validation, cutoff_list=[10])"
   ]
  },
  {
   "cell_type": "code",
   "execution_count": 12,
   "id": "bc1fc552",
   "metadata": {
    "execution": {
     "iopub.execute_input": "2024-12-02T18:32:58.037966Z",
     "iopub.status.busy": "2024-12-02T18:32:58.037507Z",
     "iopub.status.idle": "2024-12-02T18:32:59.138774Z",
     "shell.execute_reply": "2024-12-02T18:32:59.137003Z"
    },
    "papermill": {
     "duration": 1.119431,
     "end_time": "2024-12-02T18:32:59.141530",
     "exception": false,
     "start_time": "2024-12-02T18:32:58.022099",
     "status": "completed"
    },
    "tags": []
   },
   "outputs": [],
   "source": [
    "from Recommenders.GraphBased.RP3betaRecommender import RP3betaRecommender\n",
    "\n",
    "def objective_function_RP3beta(optuna_trial):\n",
    "    \n",
    "    recommender_instance = RP3betaRecommender(URM_train)\n",
    "    \n",
    "    full_hyperp = {\n",
    "                    \"topK\": optuna_trial.suggest_int(\"topK\", 0, 1500),\n",
    "                   \"alpha\": optuna_trial.suggest_float(\"alpha\", 0, 3, log=False),\n",
    "                   \"beta\": optuna_trial.suggest_float(\"beta\", 0, 3, log=False),\n",
    "                   \"normalize_similarity\": optuna_trial.suggest_categorical(\"normalize_similarity\", [True, False]),\n",
    "                   \"implicit\": optuna_trial.suggest_categorical(\"implicit\", [True, False]),\n",
    "                  }        \n",
    "    \n",
    "    recommender_instance.fit(**full_hyperp)\n",
    "    \n",
    "    result_df, _ = evaluator_validation.evaluateRecommender(recommender_instance)\n",
    "    \n",
    "    return result_df.loc[10][\"MAP\"]"
   ]
  },
  {
   "cell_type": "code",
   "execution_count": 13,
   "id": "5632bc64",
   "metadata": {
    "_kg_hide-output": true,
    "execution": {
     "iopub.execute_input": "2024-12-02T18:32:59.171136Z",
     "iopub.status.busy": "2024-12-02T18:32:59.170506Z",
     "iopub.status.idle": "2024-12-02T21:51:34.689089Z",
     "shell.execute_reply": "2024-12-02T21:51:34.688074Z"
    },
    "papermill": {
     "duration": 11915.539345,
     "end_time": "2024-12-02T21:51:34.695268",
     "exception": false,
     "start_time": "2024-12-02T18:32:59.155923",
     "status": "completed"
    },
    "tags": []
   },
   "outputs": [
    {
     "name": "stderr",
     "output_type": "stream",
     "text": [
      "[I 2024-12-02 18:33:00,838] Using an existing study with name 'hyperparameters_tuning_RP3beta' instead of creating a new one.\n"
     ]
    },
    {
     "name": "stdout",
     "output_type": "stream",
     "text": [
      "RP3betaRecommender: Similarity column 38121 (100.0%), 1687.11 column/sec. Elapsed time 22.60 sec\n",
      "EvaluatorHoldout: Processed 35595 (100.0%) in 35.25 sec. Users per second: 1010\n"
     ]
    },
    {
     "name": "stderr",
     "output_type": "stream",
     "text": [
      "[I 2024-12-02 18:34:03,781] Trial 200 finished with value: 0.04862230962525786 and parameters: {'topK': 115, 'alpha': 0.19650104473063618, 'beta': 0.3008226488545759, 'normalize_similarity': True, 'implicit': False}. Best is trial 157 with value: 0.05401447501320864.\n"
     ]
    },
    {
     "name": "stdout",
     "output_type": "stream",
     "text": [
      "RP3betaRecommender: Similarity column 38121 (100.0%), 2093.48 column/sec. Elapsed time 18.21 sec\n",
      "EvaluatorHoldout: Processed 35595 (100.0%) in 31.51 sec. Users per second: 1130\n"
     ]
    },
    {
     "name": "stderr",
     "output_type": "stream",
     "text": [
      "[I 2024-12-02 18:34:55,297] Trial 201 finished with value: 0.053320063456386964 and parameters: {'topK': 27, 'alpha': 0.25536345544024486, 'beta': 0.24954379410383906, 'normalize_similarity': True, 'implicit': False}. Best is trial 157 with value: 0.05401447501320864.\n"
     ]
    },
    {
     "name": "stdout",
     "output_type": "stream",
     "text": [
      "RP3betaRecommender: Similarity column 38121 (100.0%), 1764.96 column/sec. Elapsed time 21.60 sec\n",
      "EvaluatorHoldout: Processed 35595 (100.0%) in 27.90 sec. Users per second: 1276\n"
     ]
    },
    {
     "name": "stderr",
     "output_type": "stream",
     "text": [
      "[I 2024-12-02 18:35:45,762] Trial 202 finished with value: 0.04419585192319936 and parameters: {'topK': 3, 'alpha': 0.2396270346862096, 'beta': 0.24536343139567324, 'normalize_similarity': True, 'implicit': False}. Best is trial 157 with value: 0.05401447501320864.\n"
     ]
    },
    {
     "name": "stdout",
     "output_type": "stream",
     "text": [
      "RP3betaRecommender: Similarity column 38121 (100.0%), 760.81 column/sec. Elapsed time 50.11 sec\n",
      "EvaluatorHoldout: Processed 35595 (100.0%) in 47.01 sec. Users per second: 757\n"
     ]
    },
    {
     "name": "stderr",
     "output_type": "stream",
     "text": [
      "[I 2024-12-02 18:37:48,327] Trial 203 finished with value: 0.040356255448752903 and parameters: {'topK': 665, 'alpha': 0.3192195199129453, 'beta': 0.17315585787875853, 'normalize_similarity': True, 'implicit': False}. Best is trial 157 with value: 0.05401447501320864.\n"
     ]
    },
    {
     "name": "stdout",
     "output_type": "stream",
     "text": [
      "RP3betaRecommender: Similarity column 38121 (100.0%), 1977.41 column/sec. Elapsed time 19.28 sec\n",
      "EvaluatorHoldout: Processed 35595 (100.0%) in 32.78 sec. Users per second: 1086\n"
     ]
    },
    {
     "name": "stderr",
     "output_type": "stream",
     "text": [
      "[I 2024-12-02 18:38:43,082] Trial 204 finished with value: 0.05123142295266003 and parameters: {'topK': 50, 'alpha': 0.1605453844824187, 'beta': 0.2967460325642341, 'normalize_similarity': True, 'implicit': False}. Best is trial 157 with value: 0.05401447501320864.\n"
     ]
    },
    {
     "name": "stdout",
     "output_type": "stream",
     "text": [
      "RP3betaRecommender: Similarity column 38121 (100.0%), 2118.08 column/sec. Elapsed time 18.00 sec\n",
      "EvaluatorHoldout: Processed 35595 (100.0%) in 31.53 sec. Users per second: 1129\n"
     ]
    },
    {
     "name": "stderr",
     "output_type": "stream",
     "text": [
      "[I 2024-12-02 18:39:34,399] Trial 205 finished with value: 0.052449312927397934 and parameters: {'topK': 26, 'alpha': 0.07590037075741661, 'beta': 0.35162355829927167, 'normalize_similarity': True, 'implicit': False}. Best is trial 157 with value: 0.05401447501320864.\n"
     ]
    },
    {
     "name": "stdout",
     "output_type": "stream",
     "text": [
      "RP3betaRecommender: Similarity column 38121 (100.0%), 2864.96 column/sec. Elapsed time 13.31 sec\n",
      "EvaluatorHoldout: Processed 35595 (100.0%) in 24.58 sec. Users per second: 1448\n"
     ]
    },
    {
     "name": "stderr",
     "output_type": "stream",
     "text": [
      "[I 2024-12-02 18:40:12,623] Trial 206 finished with value: 0.00028209999175022335 and parameters: {'topK': 0, 'alpha': 0.21044254629264614, 'beta': 0.22917778894865587, 'normalize_similarity': True, 'implicit': False}. Best is trial 157 with value: 0.05401447501320864.\n"
     ]
    },
    {
     "name": "stdout",
     "output_type": "stream",
     "text": [
      "RP3betaRecommender: Similarity column 38121 (100.0%), 1841.55 column/sec. Elapsed time 20.70 sec\n",
      "EvaluatorHoldout: Processed 35595 (100.0%) in 33.17 sec. Users per second: 1073\n"
     ]
    },
    {
     "name": "stderr",
     "output_type": "stream",
     "text": [
      "[I 2024-12-02 18:41:09,782] Trial 207 finished with value: 0.0497716996992158 and parameters: {'topK': 76, 'alpha': 0.30187469927127786, 'beta': 0.13463702619664225, 'normalize_similarity': True, 'implicit': False}. Best is trial 157 with value: 0.05401447501320864.\n"
     ]
    },
    {
     "name": "stdout",
     "output_type": "stream",
     "text": [
      "RP3betaRecommender: Similarity column 38121 (100.0%), 1909.12 column/sec. Elapsed time 19.97 sec\n",
      "EvaluatorHoldout: Processed 35595 (100.0%) in 32.32 sec. Users per second: 1101\n"
     ]
    },
    {
     "name": "stderr",
     "output_type": "stream",
     "text": [
      "[I 2024-12-02 18:42:04,575] Trial 208 finished with value: 0.051065542244427824 and parameters: {'topK': 51, 'alpha': 0.1330581532587535, 'beta': 0.20506911556876653, 'normalize_similarity': True, 'implicit': False}. Best is trial 157 with value: 0.05401447501320864.\n"
     ]
    },
    {
     "name": "stdout",
     "output_type": "stream",
     "text": [
      "RP3betaRecommender: Similarity column 38121 (100.0%), 2110.43 column/sec. Elapsed time 18.06 sec\n",
      "EvaluatorHoldout: Processed 35595 (100.0%) in 31.44 sec. Users per second: 1132\n"
     ]
    },
    {
     "name": "stderr",
     "output_type": "stream",
     "text": [
      "[I 2024-12-02 18:42:55,845] Trial 209 finished with value: 0.05334106471169095 and parameters: {'topK': 24, 'alpha': 0.23755981458405875, 'beta': 0.34575539687433976, 'normalize_similarity': True, 'implicit': False}. Best is trial 157 with value: 0.05401447501320864.\n"
     ]
    },
    {
     "name": "stdout",
     "output_type": "stream",
     "text": [
      "RP3betaRecommender: Similarity column 38121 (100.0%), 1860.03 column/sec. Elapsed time 20.49 sec\n",
      "EvaluatorHoldout: Processed 35595 (100.0%) in 34.07 sec. Users per second: 1045\n"
     ]
    },
    {
     "name": "stderr",
     "output_type": "stream",
     "text": [
      "[I 2024-12-02 18:43:54,334] Trial 210 finished with value: 0.04994681681259687 and parameters: {'topK': 79, 'alpha': 0.2521510521476276, 'beta': 0.3620280240873276, 'normalize_similarity': True, 'implicit': False}. Best is trial 157 with value: 0.05401447501320864.\n"
     ]
    },
    {
     "name": "stdout",
     "output_type": "stream",
     "text": [
      "RP3betaRecommender: Similarity column 38121 (100.0%), 2125.48 column/sec. Elapsed time 17.94 sec\n",
      "EvaluatorHoldout: Processed 35595 (100.0%) in 31.10 sec. Users per second: 1145\n"
     ]
    },
    {
     "name": "stderr",
     "output_type": "stream",
     "text": [
      "[I 2024-12-02 18:44:45,201] Trial 211 finished with value: 0.05348404671602969 and parameters: {'topK': 27, 'alpha': 0.3411577651959279, 'beta': 0.27320498109449637, 'normalize_similarity': True, 'implicit': False}. Best is trial 157 with value: 0.05401447501320864.\n"
     ]
    },
    {
     "name": "stdout",
     "output_type": "stream",
     "text": [
      "RP3betaRecommender: Similarity column 38121 (100.0%), 2142.73 column/sec. Elapsed time 17.79 sec\n",
      "EvaluatorHoldout: Processed 35595 (100.0%) in 31.95 sec. Users per second: 1114\n"
     ]
    },
    {
     "name": "stderr",
     "output_type": "stream",
     "text": [
      "[I 2024-12-02 18:45:36,804] Trial 212 finished with value: 0.05322324006626401 and parameters: {'topK': 27, 'alpha': 0.3268884577721304, 'beta': 0.3167776065719606, 'normalize_similarity': True, 'implicit': False}. Best is trial 157 with value: 0.05401447501320864.\n"
     ]
    },
    {
     "name": "stdout",
     "output_type": "stream",
     "text": [
      "RP3betaRecommender: Similarity column 38121 (100.0%), 2821.08 column/sec. Elapsed time 13.51 sec\n",
      "EvaluatorHoldout: Processed 35595 (100.0%) in 26.52 sec. Users per second: 1342\n"
     ]
    },
    {
     "name": "stderr",
     "output_type": "stream",
     "text": [
      "[I 2024-12-02 18:46:17,710] Trial 213 finished with value: 0.018964271778852283 and parameters: {'topK': 1, 'alpha': 0.35026555789838787, 'beta': 0.26131483186778454, 'normalize_similarity': True, 'implicit': False}. Best is trial 157 with value: 0.05401447501320864.\n"
     ]
    },
    {
     "name": "stdout",
     "output_type": "stream",
     "text": [
      "RP3betaRecommender: Similarity column 38121 (100.0%), 1990.83 column/sec. Elapsed time 19.15 sec\n",
      "EvaluatorHoldout: Processed 35595 (100.0%) in 33.05 sec. Users per second: 1077\n"
     ]
    },
    {
     "name": "stderr",
     "output_type": "stream",
     "text": [
      "[I 2024-12-02 18:47:12,723] Trial 214 finished with value: 0.0515623337502798 and parameters: {'topK': 52, 'alpha': 0.3265288706135913, 'beta': 0.3273531378543978, 'normalize_similarity': True, 'implicit': False}. Best is trial 157 with value: 0.05401447501320864.\n"
     ]
    },
    {
     "name": "stdout",
     "output_type": "stream",
     "text": [
      "RP3betaRecommender: Similarity column 38121 (100.0%), 2102.83 column/sec. Elapsed time 18.13 sec\n",
      "EvaluatorHoldout: Processed 35595 (100.0%) in 30.44 sec. Users per second: 1169\n"
     ]
    },
    {
     "name": "stderr",
     "output_type": "stream",
     "text": [
      "[I 2024-12-02 18:48:02,815] Trial 215 finished with value: 0.05305427795503473 and parameters: {'topK': 25, 'alpha': 0.24543163249369657, 'beta': 0.10162449383953007, 'normalize_similarity': True, 'implicit': False}. Best is trial 157 with value: 0.05401447501320864.\n"
     ]
    },
    {
     "name": "stdout",
     "output_type": "stream",
     "text": [
      "RP3betaRecommender: Similarity column 38121 (100.0%), 1925.41 column/sec. Elapsed time 19.80 sec\n",
      "EvaluatorHoldout: Processed 35595 (100.0%) in 33.07 sec. Users per second: 1076\n"
     ]
    },
    {
     "name": "stderr",
     "output_type": "stream",
     "text": [
      "[I 2024-12-02 18:48:58,823] Trial 216 finished with value: 0.05095058718341279 and parameters: {'topK': 59, 'alpha': 0.2877282179320679, 'beta': 0.3533889033491556, 'normalize_similarity': True, 'implicit': False}. Best is trial 157 with value: 0.05401447501320864.\n"
     ]
    },
    {
     "name": "stdout",
     "output_type": "stream",
     "text": [
      "RP3betaRecommender: Similarity column 38121 (100.0%), 1776.35 column/sec. Elapsed time 21.46 sec\n",
      "EvaluatorHoldout: Processed 35595 (100.0%) in 34.44 sec. Users per second: 1034\n"
     ]
    },
    {
     "name": "stderr",
     "output_type": "stream",
     "text": [
      "[I 2024-12-02 18:49:58,948] Trial 217 finished with value: 0.04974734167675422 and parameters: {'topK': 93, 'alpha': 0.3971913042330022, 'beta': 0.26331921751718634, 'normalize_similarity': True, 'implicit': False}. Best is trial 157 with value: 0.05401447501320864.\n"
     ]
    },
    {
     "name": "stdout",
     "output_type": "stream",
     "text": [
      "RP3betaRecommender: Similarity column 38121 (100.0%), 2083.37 column/sec. Elapsed time 18.30 sec\n",
      "EvaluatorHoldout: Processed 35595 (100.0%) in 31.37 sec. Users per second: 1135\n"
     ]
    },
    {
     "name": "stderr",
     "output_type": "stream",
     "text": [
      "[I 2024-12-02 18:50:50,345] Trial 218 finished with value: 0.05287316749052758 and parameters: {'topK': 28, 'alpha': 0.2098434122211318, 'beta': 0.15854162726447857, 'normalize_similarity': True, 'implicit': False}. Best is trial 157 with value: 0.05401447501320864.\n"
     ]
    },
    {
     "name": "stdout",
     "output_type": "stream",
     "text": [
      "RP3betaRecommender: Similarity column 38121 (100.0%), 2796.21 column/sec. Elapsed time 13.63 sec\n",
      "EvaluatorHoldout: Processed 35595 (100.0%) in 24.55 sec. Users per second: 1450\n"
     ]
    },
    {
     "name": "stderr",
     "output_type": "stream",
     "text": [
      "[I 2024-12-02 18:51:28,879] Trial 219 finished with value: 0.00028209999175022335 and parameters: {'topK': 0, 'alpha': 1.7206292623010406, 'beta': 0.20045493068425424, 'normalize_similarity': True, 'implicit': False}. Best is trial 157 with value: 0.05401447501320864.\n"
     ]
    },
    {
     "name": "stdout",
     "output_type": "stream",
     "text": [
      "RP3betaRecommender: Similarity column 38121 (100.0%), 1974.78 column/sec. Elapsed time 19.30 sec\n",
      "EvaluatorHoldout: Processed 35595 (100.0%) in 34.07 sec. Users per second: 1045\n"
     ]
    },
    {
     "name": "stderr",
     "output_type": "stream",
     "text": [
      "[I 2024-12-02 18:52:25,100] Trial 220 finished with value: 0.04229040662479173 and parameters: {'topK': 54, 'alpha': 2.0290242870397073, 'beta': 0.28918794771661216, 'normalize_similarity': True, 'implicit': False}. Best is trial 157 with value: 0.05401447501320864.\n"
     ]
    },
    {
     "name": "stdout",
     "output_type": "stream",
     "text": [
      "RP3betaRecommender: Similarity column 38121 (100.0%), 2097.31 column/sec. Elapsed time 18.18 sec\n",
      "EvaluatorHoldout: Processed 35595 (100.0%) in 31.96 sec. Users per second: 1114\n"
     ]
    },
    {
     "name": "stderr",
     "output_type": "stream",
     "text": [
      "[I 2024-12-02 18:53:17,311] Trial 221 finished with value: 0.052999576362827795 and parameters: {'topK': 34, 'alpha': 0.40540292018859525, 'beta': 0.3035395435726778, 'normalize_similarity': True, 'implicit': False}. Best is trial 157 with value: 0.05401447501320864.\n"
     ]
    },
    {
     "name": "stdout",
     "output_type": "stream",
     "text": [
      "RP3betaRecommender: Similarity column 38121 (100.0%), 2140.82 column/sec. Elapsed time 17.81 sec\n",
      "EvaluatorHoldout: Processed 35595 (100.0%) in 30.99 sec. Users per second: 1149\n"
     ]
    },
    {
     "name": "stderr",
     "output_type": "stream",
     "text": [
      "[I 2024-12-02 18:54:07,707] Trial 222 finished with value: 0.05384330775902465 and parameters: {'topK': 22, 'alpha': 0.34512703048684396, 'beta': 0.24492438049436677, 'normalize_similarity': True, 'implicit': False}. Best is trial 157 with value: 0.05401447501320864.\n"
     ]
    },
    {
     "name": "stdout",
     "output_type": "stream",
     "text": [
      "RP3betaRecommender: Similarity column 38121 (100.0%), 2896.21 column/sec. Elapsed time 13.16 sec\n",
      "EvaluatorHoldout: Processed 35595 (100.0%) in 23.92 sec. Users per second: 1488\n"
     ]
    },
    {
     "name": "stderr",
     "output_type": "stream",
     "text": [
      "[I 2024-12-02 18:54:45,135] Trial 223 finished with value: 0.00028209999175022335 and parameters: {'topK': 0, 'alpha': 0.3280255142040286, 'beta': 0.24242835557213954, 'normalize_similarity': True, 'implicit': False}. Best is trial 157 with value: 0.05401447501320864.\n"
     ]
    },
    {
     "name": "stdout",
     "output_type": "stream",
     "text": [
      "RP3betaRecommender: Similarity column 38121 (100.0%), 1953.45 column/sec. Elapsed time 19.51 sec\n",
      "EvaluatorHoldout: Processed 35595 (100.0%) in 32.75 sec. Users per second: 1087\n"
     ]
    },
    {
     "name": "stderr",
     "output_type": "stream",
     "text": [
      "[I 2024-12-02 18:55:40,294] Trial 224 finished with value: 0.05079511457155612 and parameters: {'topK': 63, 'alpha': 0.2509091148995109, 'beta': 0.1976621654137619, 'normalize_similarity': True, 'implicit': False}. Best is trial 157 with value: 0.05401447501320864.\n"
     ]
    },
    {
     "name": "stdout",
     "output_type": "stream",
     "text": [
      "RP3betaRecommender: Similarity column 38121 (100.0%), 2086.35 column/sec. Elapsed time 18.27 sec\n",
      "EvaluatorHoldout: Processed 35595 (100.0%) in 31.96 sec. Users per second: 1114\n"
     ]
    },
    {
     "name": "stderr",
     "output_type": "stream",
     "text": [
      "[I 2024-12-02 18:56:32,494] Trial 225 finished with value: 0.05227159267508859 and parameters: {'topK': 30, 'alpha': 0.09394849919750137, 'beta': 0.3526592132701495, 'normalize_similarity': True, 'implicit': False}. Best is trial 157 with value: 0.05401447501320864.\n"
     ]
    },
    {
     "name": "stdout",
     "output_type": "stream",
     "text": [
      "RP3betaRecommender: Similarity column 38121 (100.0%), 1840.06 column/sec. Elapsed time 20.72 sec\n",
      "EvaluatorHoldout: Processed 35595 (100.0%) in 29.66 sec. Users per second: 1200\n"
     ]
    },
    {
     "name": "stderr",
     "output_type": "stream",
     "text": [
      "[I 2024-12-02 18:57:26,262] Trial 226 finished with value: 0.04862934311712029 and parameters: {'topK': 86, 'alpha': 0.17825588854278587, 'beta': 0.10972185818223806, 'normalize_similarity': True, 'implicit': False}. Best is trial 157 with value: 0.05401447501320864.\n"
     ]
    },
    {
     "name": "stdout",
     "output_type": "stream",
     "text": [
      "RP3betaRecommender: Similarity column 38121 (100.0%), 2104.54 column/sec. Elapsed time 18.11 sec\n",
      "EvaluatorHoldout: Processed 35595 (100.0%) in 30.82 sec. Users per second: 1155\n"
     ]
    },
    {
     "name": "stderr",
     "output_type": "stream",
     "text": [
      "[I 2024-12-02 18:58:16,994] Trial 227 finished with value: 0.053519858549776804 and parameters: {'topK': 26, 'alpha': 0.278651853410515, 'beta': 0.24086944305712085, 'normalize_similarity': True, 'implicit': False}. Best is trial 157 with value: 0.05401447501320864.\n"
     ]
    },
    {
     "name": "stdout",
     "output_type": "stream",
     "text": [
      "RP3betaRecommender: Similarity column 38121 (100.0%), 1993.46 column/sec. Elapsed time 19.12 sec\n",
      "EvaluatorHoldout: Processed 35595 (100.0%) in 32.49 sec. Users per second: 1096\n"
     ]
    },
    {
     "name": "stderr",
     "output_type": "stream",
     "text": [
      "[I 2024-12-02 18:59:11,271] Trial 228 finished with value: 0.05167091976088856 and parameters: {'topK': 52, 'alpha': 0.3483191589644302, 'beta': 0.26079748498808997, 'normalize_similarity': True, 'implicit': False}. Best is trial 157 with value: 0.05401447501320864.\n"
     ]
    },
    {
     "name": "stdout",
     "output_type": "stream",
     "text": [
      "RP3betaRecommender: Similarity column 38121 (100.0%), 2102.58 column/sec. Elapsed time 18.13 sec\n",
      "EvaluatorHoldout: Processed 35595 (100.0%) in 31.37 sec. Users per second: 1135\n"
     ]
    },
    {
     "name": "stderr",
     "output_type": "stream",
     "text": [
      "[I 2024-12-02 19:00:02,444] Trial 229 finished with value: 0.05297230973674119 and parameters: {'topK': 29, 'alpha': 0.2853535320300322, 'beta': 0.15076969731867632, 'normalize_similarity': True, 'implicit': False}. Best is trial 157 with value: 0.05401447501320864.\n"
     ]
    },
    {
     "name": "stdout",
     "output_type": "stream",
     "text": [
      "RP3betaRecommender: Similarity column 38121 (100.0%), 1706.98 column/sec. Elapsed time 22.33 sec\n",
      "EvaluatorHoldout: Processed 35595 (100.0%) in 34.53 sec. Users per second: 1031\n"
     ]
    },
    {
     "name": "stderr",
     "output_type": "stream",
     "text": [
      "[I 2024-12-02 19:01:03,816] Trial 230 finished with value: 0.004981606342963267 and parameters: {'topK': 104, 'alpha': 2.9848818912643615, 'beta': 2.970416177029592, 'normalize_similarity': True, 'implicit': False}. Best is trial 157 with value: 0.05401447501320864.\n"
     ]
    },
    {
     "name": "stdout",
     "output_type": "stream",
     "text": [
      "RP3betaRecommender: Similarity column 38121 (100.0%), 2154.68 column/sec. Elapsed time 17.69 sec\n",
      "EvaluatorHoldout: Processed 35595 (100.0%) in 31.05 sec. Users per second: 1146\n"
     ]
    },
    {
     "name": "stderr",
     "output_type": "stream",
     "text": [
      "[I 2024-12-02 19:01:54,271] Trial 231 finished with value: 0.05320602924880034 and parameters: {'topK': 27, 'alpha': 0.21563538721102657, 'beta': 0.2269275870663393, 'normalize_similarity': True, 'implicit': False}. Best is trial 157 with value: 0.05401447501320864.\n"
     ]
    },
    {
     "name": "stdout",
     "output_type": "stream",
     "text": [
      "RP3betaRecommender: Similarity column 38121 (100.0%), 2889.77 column/sec. Elapsed time 13.19 sec\n",
      "EvaluatorHoldout: Processed 35595 (100.0%) in 25.96 sec. Users per second: 1371\n"
     ]
    },
    {
     "name": "stderr",
     "output_type": "stream",
     "text": [
      "[I 2024-12-02 19:02:34,301] Trial 232 finished with value: 0.018944715349266415 and parameters: {'topK': 1, 'alpha': 0.15027754935646984, 'beta': 0.3086452337897353, 'normalize_similarity': True, 'implicit': False}. Best is trial 157 with value: 0.05401447501320864.\n"
     ]
    },
    {
     "name": "stdout",
     "output_type": "stream",
     "text": [
      "RP3betaRecommender: Similarity column 38121 (100.0%), 1961.37 column/sec. Elapsed time 19.44 sec\n",
      "EvaluatorHoldout: Processed 35595 (100.0%) in 32.54 sec. Users per second: 1094\n"
     ]
    },
    {
     "name": "stderr",
     "output_type": "stream",
     "text": [
      "[I 2024-12-02 19:03:29,220] Trial 233 finished with value: 0.05079512571990252 and parameters: {'topK': 62, 'alpha': 0.21167202084645045, 'beta': 0.21734898249940876, 'normalize_similarity': True, 'implicit': False}. Best is trial 157 with value: 0.05401447501320864.\n"
     ]
    },
    {
     "name": "stdout",
     "output_type": "stream",
     "text": [
      "RP3betaRecommender: Similarity column 38121 (100.0%), 593.23 column/sec. Elapsed time 1.07 min\n",
      "EvaluatorHoldout: Processed 35595 (100.0%) in 52.91 sec. Users per second: 673\n"
     ]
    },
    {
     "name": "stderr",
     "output_type": "stream",
     "text": [
      "[I 2024-12-02 19:06:05,277] Trial 234 finished with value: 0.04102153526110405 and parameters: {'topK': 1040, 'alpha': 0.30348420650020774, 'beta': 0.26074369748341003, 'normalize_similarity': True, 'implicit': False}. Best is trial 157 with value: 0.05401447501320864.\n"
     ]
    },
    {
     "name": "stdout",
     "output_type": "stream",
     "text": [
      "RP3betaRecommender: Similarity column 38121 (100.0%), 2041.76 column/sec. Elapsed time 18.67 sec\n",
      "EvaluatorHoldout: Processed 35595 (100.0%) in 32.20 sec. Users per second: 1105\n"
     ]
    },
    {
     "name": "stderr",
     "output_type": "stream",
     "text": [
      "[I 2024-12-02 19:06:58,332] Trial 235 finished with value: 0.051562893397278466 and parameters: {'topK': 35, 'alpha': 0.09851159812371271, 'beta': 0.37107488449412307, 'normalize_similarity': True, 'implicit': False}. Best is trial 157 with value: 0.05401447501320864.\n"
     ]
    },
    {
     "name": "stdout",
     "output_type": "stream",
     "text": [
      "RP3betaRecommender: Similarity column 38121 (100.0%), 2081.74 column/sec. Elapsed time 18.31 sec\n",
      "EvaluatorHoldout: Processed 35595 (100.0%) in 31.35 sec. Users per second: 1135\n"
     ]
    },
    {
     "name": "stderr",
     "output_type": "stream",
     "text": [
      "[I 2024-12-02 19:07:49,858] Trial 236 finished with value: 0.05304239047306688 and parameters: {'topK': 31, 'alpha': 0.41425285021311226, 'beta': 0.16033923541573172, 'normalize_similarity': True, 'implicit': False}. Best is trial 157 with value: 0.05401447501320864.\n"
     ]
    },
    {
     "name": "stdout",
     "output_type": "stream",
     "text": [
      "RP3betaRecommender: Similarity column 38121 (100.0%), 1872.44 column/sec. Elapsed time 20.36 sec\n",
      "EvaluatorHoldout: Processed 35595 (100.0%) in 33.92 sec. Users per second: 1049\n"
     ]
    },
    {
     "name": "stderr",
     "output_type": "stream",
     "text": [
      "[I 2024-12-02 19:08:47,442] Trial 237 finished with value: 0.04035096555829633 and parameters: {'topK': 72, 'alpha': 0.17875856774259477, 'beta': 0.2633850756452202, 'normalize_similarity': False, 'implicit': False}. Best is trial 157 with value: 0.05401447501320864.\n"
     ]
    },
    {
     "name": "stdout",
     "output_type": "stream",
     "text": [
      "RP3betaRecommender: Similarity column 38121 (100.0%), 2119.61 column/sec. Elapsed time 17.98 sec\n",
      "EvaluatorHoldout: Processed 35595 (100.0%) in 30.49 sec. Users per second: 1167\n"
     ]
    },
    {
     "name": "stderr",
     "output_type": "stream",
     "text": [
      "[I 2024-12-02 19:09:37,361] Trial 238 finished with value: 0.05300222966931586 and parameters: {'topK': 23, 'alpha': 0.2644708475072447, 'beta': 0.07461855625164981, 'normalize_similarity': True, 'implicit': False}. Best is trial 157 with value: 0.05401447501320864.\n"
     ]
    },
    {
     "name": "stdout",
     "output_type": "stream",
     "text": [
      "RP3betaRecommender: Similarity column 38121 (100.0%), 2857.90 column/sec. Elapsed time 13.34 sec\n",
      "EvaluatorHoldout: Processed 35595 (100.0%) in 27.04 sec. Users per second: 1316\n"
     ]
    },
    {
     "name": "stderr",
     "output_type": "stream",
     "text": [
      "[I 2024-12-02 19:10:18,617] Trial 239 finished with value: 0.019390931265983694 and parameters: {'topK': 1, 'alpha': 0.36089995343508247, 'beta': 0.17159853449384904, 'normalize_similarity': True, 'implicit': False}. Best is trial 157 with value: 0.05401447501320864.\n"
     ]
    },
    {
     "name": "stdout",
     "output_type": "stream",
     "text": [
      "RP3betaRecommender: Similarity column 38121 (100.0%), 1947.97 column/sec. Elapsed time 19.57 sec\n",
      "EvaluatorHoldout: Processed 35595 (100.0%) in 33.20 sec. Users per second: 1072\n"
     ]
    },
    {
     "name": "stderr",
     "output_type": "stream",
     "text": [
      "[I 2024-12-02 19:11:14,161] Trial 240 finished with value: 0.05031532094974822 and parameters: {'topK': 54, 'alpha': 0.04846055284805122, 'beta': 0.3142200783136356, 'normalize_similarity': True, 'implicit': False}. Best is trial 157 with value: 0.05401447501320864.\n"
     ]
    },
    {
     "name": "stdout",
     "output_type": "stream",
     "text": [
      "RP3betaRecommender: Similarity column 38121 (100.0%), 2042.40 column/sec. Elapsed time 18.66 sec\n",
      "EvaluatorHoldout: Processed 35595 (100.0%) in 31.79 sec. Users per second: 1120\n"
     ]
    },
    {
     "name": "stderr",
     "output_type": "stream",
     "text": [
      "[I 2024-12-02 19:12:06,483] Trial 241 finished with value: 0.05299260195720197 and parameters: {'topK': 29, 'alpha': 0.21983169822071902, 'beta': 0.21708929718305894, 'normalize_similarity': True, 'implicit': False}. Best is trial 157 with value: 0.05401447501320864.\n"
     ]
    },
    {
     "name": "stdout",
     "output_type": "stream",
     "text": [
      "RP3betaRecommender: Similarity column 38121 (100.0%), 1960.82 column/sec. Elapsed time 19.44 sec\n",
      "EvaluatorHoldout: Processed 35595 (100.0%) in 31.91 sec. Users per second: 1116\n"
     ]
    },
    {
     "name": "stderr",
     "output_type": "stream",
     "text": [
      "[I 2024-12-02 19:13:00,270] Trial 242 finished with value: 0.051725830942011136 and parameters: {'topK': 47, 'alpha': 0.242316834204869, 'beta': 0.20940618733259692, 'normalize_similarity': True, 'implicit': False}. Best is trial 157 with value: 0.05401447501320864.\n"
     ]
    },
    {
     "name": "stdout",
     "output_type": "stream",
     "text": [
      "RP3betaRecommender: Similarity column 38121 (100.0%), 2911.46 column/sec. Elapsed time 13.09 sec\n",
      "EvaluatorHoldout: Processed 35595 (100.0%) in 24.55 sec. Users per second: 1450\n"
     ]
    },
    {
     "name": "stderr",
     "output_type": "stream",
     "text": [
      "[I 2024-12-02 19:13:38,251] Trial 243 finished with value: 0.00028209999175022335 and parameters: {'topK': 0, 'alpha': 0.14529278517164906, 'beta': 0.2694300286144896, 'normalize_similarity': True, 'implicit': False}. Best is trial 157 with value: 0.05401447501320864.\n"
     ]
    },
    {
     "name": "stdout",
     "output_type": "stream",
     "text": [
      "RP3betaRecommender: Similarity column 38121 (100.0%), 1837.20 column/sec. Elapsed time 20.75 sec\n",
      "EvaluatorHoldout: Processed 35595 (100.0%) in 33.11 sec. Users per second: 1075\n"
     ]
    },
    {
     "name": "stderr",
     "output_type": "stream",
     "text": [
      "[I 2024-12-02 19:14:35,395] Trial 244 finished with value: 0.04962059946889081 and parameters: {'topK': 77, 'alpha': 0.2916823658811426, 'beta': 0.13136478123678497, 'normalize_similarity': True, 'implicit': False}. Best is trial 157 with value: 0.05401447501320864.\n"
     ]
    },
    {
     "name": "stdout",
     "output_type": "stream",
     "text": [
      "RP3betaRecommender: Similarity column 38121 (100.0%), 2123.12 column/sec. Elapsed time 17.96 sec\n",
      "EvaluatorHoldout: Processed 35595 (100.0%) in 31.56 sec. Users per second: 1128\n"
     ]
    },
    {
     "name": "stderr",
     "output_type": "stream",
     "text": [
      "[I 2024-12-02 19:15:26,639] Trial 245 finished with value: 0.05315449713152867 and parameters: {'topK': 28, 'alpha': 0.217583515770827, 'beta': 0.2015142906296534, 'normalize_similarity': True, 'implicit': False}. Best is trial 157 with value: 0.05401447501320864.\n"
     ]
    },
    {
     "name": "stdout",
     "output_type": "stream",
     "text": [
      "RP3betaRecommender: Similarity column 38121 (100.0%), 1957.92 column/sec. Elapsed time 19.47 sec\n",
      "EvaluatorHoldout: Processed 35595 (100.0%) in 32.79 sec. Users per second: 1086\n"
     ]
    },
    {
     "name": "stderr",
     "output_type": "stream",
     "text": [
      "[I 2024-12-02 19:16:21,475] Trial 246 finished with value: 0.05109527376994528 and parameters: {'topK': 48, 'alpha': 0.1301048093084369, 'beta': 0.3419186116791812, 'normalize_similarity': True, 'implicit': False}. Best is trial 157 with value: 0.05401447501320864.\n"
     ]
    },
    {
     "name": "stdout",
     "output_type": "stream",
     "text": [
      "RP3betaRecommender: Similarity column 38121 (100.0%), 2132.63 column/sec. Elapsed time 17.88 sec\n",
      "EvaluatorHoldout: Processed 35595 (100.0%) in 30.97 sec. Users per second: 1149\n"
     ]
    },
    {
     "name": "stderr",
     "output_type": "stream",
     "text": [
      "[I 2024-12-02 19:17:11,989] Trial 247 finished with value: 0.053419665014479874 and parameters: {'topK': 26, 'alpha': 0.34165734043783313, 'beta': 0.18366380600393167, 'normalize_similarity': True, 'implicit': False}. Best is trial 157 with value: 0.05401447501320864.\n"
     ]
    },
    {
     "name": "stdout",
     "output_type": "stream",
     "text": [
      "RP3betaRecommender: Similarity column 38121 (100.0%), 1865.37 column/sec. Elapsed time 20.44 sec\n",
      "EvaluatorHoldout: Processed 35595 (100.0%) in 33.54 sec. Users per second: 1061\n"
     ]
    },
    {
     "name": "stderr",
     "output_type": "stream",
     "text": [
      "[I 2024-12-02 19:18:09,225] Trial 248 finished with value: 0.05023342296603825 and parameters: {'topK': 73, 'alpha': 0.3571823038629658, 'beta': 0.15950714701458857, 'normalize_similarity': True, 'implicit': False}. Best is trial 157 with value: 0.05401447501320864.\n"
     ]
    },
    {
     "name": "stdout",
     "output_type": "stream",
     "text": [
      "RP3betaRecommender: Similarity column 38121 (100.0%), 2144.26 column/sec. Elapsed time 17.78 sec\n",
      "EvaluatorHoldout: Processed 35595 (100.0%) in 30.72 sec. Users per second: 1159\n"
     ]
    },
    {
     "name": "stderr",
     "output_type": "stream",
     "text": [
      "[I 2024-12-02 19:18:59,245] Trial 249 finished with value: 0.05304479740109567 and parameters: {'topK': 25, 'alpha': 0.30979676310809273, 'beta': 0.09421829659223349, 'normalize_similarity': True, 'implicit': False}. Best is trial 157 with value: 0.05401447501320864.\n"
     ]
    },
    {
     "name": "stdout",
     "output_type": "stream",
     "text": [
      "RP3betaRecommender: Similarity column 38121 (100.0%), 1763.35 column/sec. Elapsed time 21.62 sec\n",
      "EvaluatorHoldout: Processed 35595 (100.0%) in 34.95 sec. Users per second: 1018\n"
     ]
    },
    {
     "name": "stderr",
     "output_type": "stream",
     "text": [
      "[I 2024-12-02 19:20:00,300] Trial 250 finished with value: 0.04982658858364573 and parameters: {'topK': 96, 'alpha': 0.4364292452683771, 'beta': 0.2880815650717201, 'normalize_similarity': True, 'implicit': False}. Best is trial 157 with value: 0.05401447501320864.\n"
     ]
    },
    {
     "name": "stdout",
     "output_type": "stream",
     "text": [
      "RP3betaRecommender: Similarity column 38121 (100.0%), 1943.04 column/sec. Elapsed time 19.62 sec\n",
      "EvaluatorHoldout: Processed 35595 (100.0%) in 31.70 sec. Users per second: 1123\n"
     ]
    },
    {
     "name": "stderr",
     "output_type": "stream",
     "text": [
      "[I 2024-12-02 19:20:53,819] Trial 251 finished with value: 0.04975618454526842 and parameters: {'topK': 53, 'alpha': 0.2025769513488516, 'beta': 6.256756471911817e-05, 'normalize_similarity': True, 'implicit': False}. Best is trial 157 with value: 0.05401447501320864.\n"
     ]
    },
    {
     "name": "stdout",
     "output_type": "stream",
     "text": [
      "RP3betaRecommender: Similarity column 38121 (100.0%), 2139.03 column/sec. Elapsed time 17.82 sec\n",
      "EvaluatorHoldout: Processed 35595 (100.0%) in 30.79 sec. Users per second: 1156\n"
     ]
    },
    {
     "name": "stderr",
     "output_type": "stream",
     "text": [
      "[I 2024-12-02 19:21:43,987] Trial 252 finished with value: 0.053625829158275566 and parameters: {'topK': 22, 'alpha': 0.2707928526107512, 'beta': 0.17366491084766805, 'normalize_similarity': True, 'implicit': False}. Best is trial 157 with value: 0.05401447501320864.\n"
     ]
    },
    {
     "name": "stdout",
     "output_type": "stream",
     "text": [
      "RP3betaRecommender: Similarity column 38121 (100.0%), 1020.28 column/sec. Elapsed time 37.36 sec\n",
      "EvaluatorHoldout: Processed 35595 (100.0%) in 44.73 sec. Users per second: 796\n"
     ]
    },
    {
     "name": "stderr",
     "output_type": "stream",
     "text": [
      "[I 2024-12-02 19:23:22,706] Trial 253 finished with value: 0.043968064446360304 and parameters: {'topK': 419, 'alpha': 0.34777698886567515, 'beta': 0.24735173050340456, 'normalize_similarity': True, 'implicit': False}. Best is trial 157 with value: 0.05401447501320864.\n"
     ]
    },
    {
     "name": "stdout",
     "output_type": "stream",
     "text": [
      "RP3betaRecommender: Similarity column 38121 (100.0%), 2868.81 column/sec. Elapsed time 13.29 sec\n",
      "EvaluatorHoldout: Processed 35595 (100.0%) in 24.79 sec. Users per second: 1436\n"
     ]
    },
    {
     "name": "stderr",
     "output_type": "stream",
     "text": [
      "[I 2024-12-02 19:24:01,187] Trial 254 finished with value: 0.00028209999175022335 and parameters: {'topK': 0, 'alpha': 0.29547671016630744, 'beta': 0.37078587802004376, 'normalize_similarity': True, 'implicit': False}. Best is trial 157 with value: 0.05401447501320864.\n"
     ]
    },
    {
     "name": "stdout",
     "output_type": "stream",
     "text": [
      "RP3betaRecommender: Similarity column 38121 (100.0%), 2009.87 column/sec. Elapsed time 18.97 sec\n",
      "EvaluatorHoldout: Processed 35595 (100.0%) in 32.27 sec. Users per second: 1103\n"
     ]
    },
    {
     "name": "stderr",
     "output_type": "stream",
     "text": [
      "[I 2024-12-02 19:24:54,932] Trial 255 finished with value: 0.051252088642731806 and parameters: {'topK': 52, 'alpha': 0.40282675634425774, 'beta': 0.12319323619216843, 'normalize_similarity': True, 'implicit': False}. Best is trial 157 with value: 0.05401447501320864.\n"
     ]
    },
    {
     "name": "stdout",
     "output_type": "stream",
     "text": [
      "RP3betaRecommender: Similarity column 38121 (100.0%), 1806.92 column/sec. Elapsed time 21.10 sec\n",
      "EvaluatorHoldout: Processed 35595 (100.0%) in 35.68 sec. Users per second: 997\n"
     ]
    },
    {
     "name": "stderr",
     "output_type": "stream",
     "text": [
      "[I 2024-12-02 19:25:56,069] Trial 256 finished with value: 0.03794168522866248 and parameters: {'topK': 88, 'alpha': 2.4838191911632372, 'beta': 0.30481794142578506, 'normalize_similarity': True, 'implicit': False}. Best is trial 157 with value: 0.05401447501320864.\n"
     ]
    },
    {
     "name": "stdout",
     "output_type": "stream",
     "text": [
      "RP3betaRecommender: Similarity column 38121 (100.0%), 2879.70 column/sec. Elapsed time 13.24 sec\n",
      "EvaluatorHoldout: Processed 35595 (100.0%) in 24.30 sec. Users per second: 1465\n"
     ]
    },
    {
     "name": "stderr",
     "output_type": "stream",
     "text": [
      "[I 2024-12-02 19:26:33,945] Trial 257 finished with value: 0.00028209999175022335 and parameters: {'topK': 0, 'alpha': 0.26036021610176246, 'beta': 0.9842819982927955, 'normalize_similarity': True, 'implicit': False}. Best is trial 157 with value: 0.05401447501320864.\n"
     ]
    },
    {
     "name": "stdout",
     "output_type": "stream",
     "text": [
      "RP3betaRecommender: Similarity column 38121 (100.0%), 2095.04 column/sec. Elapsed time 18.20 sec\n",
      "EvaluatorHoldout: Processed 35595 (100.0%) in 31.82 sec. Users per second: 1118\n"
     ]
    },
    {
     "name": "stderr",
     "output_type": "stream",
     "text": [
      "[I 2024-12-02 19:27:26,072] Trial 258 finished with value: 0.0524915083044014 and parameters: {'topK': 36, 'alpha': 0.24989068252427127, 'beta': 0.1859192929861095, 'normalize_similarity': True, 'implicit': False}. Best is trial 157 with value: 0.05401447501320864.\n"
     ]
    },
    {
     "name": "stdout",
     "output_type": "stream",
     "text": [
      "RP3betaRecommender: Similarity column 38121 (100.0%), 1863.75 column/sec. Elapsed time 20.45 sec\n",
      "EvaluatorHoldout: Processed 35595 (100.0%) in 32.92 sec. Users per second: 1081\n"
     ]
    },
    {
     "name": "stderr",
     "output_type": "stream",
     "text": [
      "[I 2024-12-02 19:28:22,382] Trial 259 finished with value: 0.04955681977805703 and parameters: {'topK': 70, 'alpha': 0.3583136565472801, 'beta': 0.06154743423448425, 'normalize_similarity': True, 'implicit': False}. Best is trial 157 with value: 0.05401447501320864.\n"
     ]
    },
    {
     "name": "stdout",
     "output_type": "stream",
     "text": [
      "RP3betaRecommender: Similarity column 38121 (100.0%), 2108.73 column/sec. Elapsed time 18.08 sec\n",
      "EvaluatorHoldout: Processed 35595 (100.0%) in 31.14 sec. Users per second: 1143\n"
     ]
    },
    {
     "name": "stderr",
     "output_type": "stream",
     "text": [
      "[I 2024-12-02 19:29:13,318] Trial 260 finished with value: 0.05353056876634454 and parameters: {'topK': 23, 'alpha': 0.19574066784330613, 'beta': 0.24408646623508204, 'normalize_similarity': True, 'implicit': False}. Best is trial 157 with value: 0.05401447501320864.\n"
     ]
    },
    {
     "name": "stdout",
     "output_type": "stream",
     "text": [
      "RP3betaRecommender: Similarity column 38121 (100.0%), 1683.74 column/sec. Elapsed time 22.64 sec\n",
      "EvaluatorHoldout: Processed 35595 (100.0%) in 36.10 sec. Users per second: 986\n"
     ]
    },
    {
     "name": "stderr",
     "output_type": "stream",
     "text": [
      "[I 2024-12-02 19:30:17,408] Trial 261 finished with value: 0.045612598300544475 and parameters: {'topK': 113, 'alpha': 0.46199654128049544, 'beta': 0.32347779531892146, 'normalize_similarity': False, 'implicit': False}. Best is trial 157 with value: 0.05401447501320864.\n"
     ]
    },
    {
     "name": "stdout",
     "output_type": "stream",
     "text": [
      "RP3betaRecommender: Similarity column 38121 (100.0%), 1997.79 column/sec. Elapsed time 19.08 sec\n",
      "EvaluatorHoldout: Processed 35595 (100.0%) in 32.68 sec. Users per second: 1089\n"
     ]
    },
    {
     "name": "stderr",
     "output_type": "stream",
     "text": [
      "[I 2024-12-02 19:31:11,793] Trial 262 finished with value: 0.05160953027556286 and parameters: {'topK': 51, 'alpha': 0.29274318269370314, 'beta': 0.26451346090992367, 'normalize_similarity': True, 'implicit': False}. Best is trial 157 with value: 0.05401447501320864.\n"
     ]
    },
    {
     "name": "stdout",
     "output_type": "stream",
     "text": [
      "RP3betaRecommender: Similarity column 38121 (100.0%), 2890.33 column/sec. Elapsed time 13.19 sec\n",
      "EvaluatorHoldout: Processed 35595 (100.0%) in 24.47 sec. Users per second: 1455\n"
     ]
    },
    {
     "name": "stderr",
     "output_type": "stream",
     "text": [
      "[I 2024-12-02 19:31:49,782] Trial 263 finished with value: 0.00028209999175022335 and parameters: {'topK': 0, 'alpha': 0.20056657939626718, 'beta': 0.3760878286444209, 'normalize_similarity': True, 'implicit': False}. Best is trial 157 with value: 0.05401447501320864.\n"
     ]
    },
    {
     "name": "stdout",
     "output_type": "stream",
     "text": [
      "RP3betaRecommender: Similarity column 38121 (100.0%), 2145.62 column/sec. Elapsed time 17.77 sec\n",
      "EvaluatorHoldout: Processed 35595 (100.0%) in 31.43 sec. Users per second: 1133\n"
     ]
    },
    {
     "name": "stderr",
     "output_type": "stream",
     "text": [
      "[I 2024-12-02 19:32:40,775] Trial 264 finished with value: 0.053362140660916844 and parameters: {'topK': 28, 'alpha': 0.3294156447560092, 'beta': 0.23594057169966248, 'normalize_similarity': True, 'implicit': False}. Best is trial 157 with value: 0.05401447501320864.\n"
     ]
    },
    {
     "name": "stdout",
     "output_type": "stream",
     "text": [
      "RP3betaRecommender: Similarity column 38121 (100.0%), 1858.95 column/sec. Elapsed time 20.51 sec\n",
      "EvaluatorHoldout: Processed 35595 (100.0%) in 33.96 sec. Users per second: 1048\n"
     ]
    },
    {
     "name": "stderr",
     "output_type": "stream",
     "text": [
      "[I 2024-12-02 19:33:38,826] Trial 265 finished with value: 0.05047584153294045 and parameters: {'topK': 78, 'alpha': 0.4094468826564734, 'beta': 0.25220211601809495, 'normalize_similarity': True, 'implicit': False}. Best is trial 157 with value: 0.05401447501320864.\n"
     ]
    },
    {
     "name": "stdout",
     "output_type": "stream",
     "text": [
      "RP3betaRecommender: Similarity column 38121 (100.0%), 1945.38 column/sec. Elapsed time 19.60 sec\n",
      "EvaluatorHoldout: Processed 35595 (100.0%) in 33.95 sec. Users per second: 1048\n"
     ]
    },
    {
     "name": "stderr",
     "output_type": "stream",
     "text": [
      "[I 2024-12-02 19:34:35,206] Trial 266 finished with value: 0.051622822449200766 and parameters: {'topK': 53, 'alpha': 0.35190128573454715, 'beta': 0.31734053648191696, 'normalize_similarity': True, 'implicit': False}. Best is trial 157 with value: 0.05401447501320864.\n"
     ]
    },
    {
     "name": "stdout",
     "output_type": "stream",
     "text": [
      "RP3betaRecommender: Similarity column 38121 (100.0%), 2157.41 column/sec. Elapsed time 17.67 sec\n",
      "EvaluatorHoldout: Processed 35595 (100.0%) in 34.23 sec. Users per second: 1040\n"
     ]
    },
    {
     "name": "stderr",
     "output_type": "stream",
     "text": [
      "[I 2024-12-02 19:35:28,637] Trial 267 finished with value: 0.05374735728443915 and parameters: {'topK': 20, 'alpha': 0.1779056427902332, 'beta': 0.23159163422636525, 'normalize_similarity': True, 'implicit': False}. Best is trial 157 with value: 0.05401447501320864.\n"
     ]
    },
    {
     "name": "stdout",
     "output_type": "stream",
     "text": [
      "RP3betaRecommender: Similarity column 38121 (100.0%), 1935.63 column/sec. Elapsed time 19.69 sec\n",
      "EvaluatorHoldout: Processed 35595 (100.0%) in 31.12 sec. Users per second: 1144\n"
     ]
    },
    {
     "name": "stderr",
     "output_type": "stream",
     "text": [
      "[I 2024-12-02 19:36:20,797] Trial 268 finished with value: 0.01110300180380277 and parameters: {'topK': 29, 'alpha': 0.16637975078565628, 'beta': 2.794651082151705, 'normalize_similarity': True, 'implicit': False}. Best is trial 157 with value: 0.05401447501320864.\n"
     ]
    },
    {
     "name": "stdout",
     "output_type": "stream",
     "text": [
      "RP3betaRecommender: Similarity column 38121 (100.0%), 1822.10 column/sec. Elapsed time 20.92 sec\n",
      "EvaluatorHoldout: Processed 35595 (100.0%) in 35.45 sec. Users per second: 1004\n"
     ]
    },
    {
     "name": "stderr",
     "output_type": "stream",
     "text": [
      "[I 2024-12-02 19:37:20,941] Trial 269 finished with value: 0.0496488460346428 and parameters: {'topK': 78, 'alpha': 0.19738550682744715, 'beta': 0.3775781474809781, 'normalize_similarity': True, 'implicit': False}. Best is trial 157 with value: 0.05401447501320864.\n"
     ]
    },
    {
     "name": "stdout",
     "output_type": "stream",
     "text": [
      "RP3betaRecommender: Similarity column 38121 (100.0%), 2106.14 column/sec. Elapsed time 18.10 sec\n",
      "EvaluatorHoldout: Processed 35595 (100.0%) in 31.22 sec. Users per second: 1140\n"
     ]
    },
    {
     "name": "stderr",
     "output_type": "stream",
     "text": [
      "[I 2024-12-02 19:38:11,880] Trial 270 finished with value: 0.053883163098079064 and parameters: {'topK': 21, 'alpha': 0.23349393666199866, 'beta': 0.23338398289427892, 'normalize_similarity': True, 'implicit': False}. Best is trial 157 with value: 0.05401447501320864.\n"
     ]
    },
    {
     "name": "stdout",
     "output_type": "stream",
     "text": [
      "RP3betaRecommender: Similarity column 38121 (100.0%), 2129.68 column/sec. Elapsed time 17.90 sec\n",
      "EvaluatorHoldout: Processed 35595 (100.0%) in 27.87 sec. Users per second: 1277\n"
     ]
    },
    {
     "name": "stderr",
     "output_type": "stream",
     "text": [
      "[I 2024-12-02 19:38:58,580] Trial 271 finished with value: 0.03674964938449845 and parameters: {'topK': 2, 'alpha': 0.09704333690011309, 'beta': 0.19382160750263622, 'normalize_similarity': True, 'implicit': False}. Best is trial 157 with value: 0.05401447501320864.\n"
     ]
    },
    {
     "name": "stdout",
     "output_type": "stream",
     "text": [
      "RP3betaRecommender: Similarity column 38121 (100.0%), 1896.85 column/sec. Elapsed time 20.10 sec\n",
      "EvaluatorHoldout: Processed 35595 (100.0%) in 33.54 sec. Users per second: 1061\n"
     ]
    },
    {
     "name": "stderr",
     "output_type": "stream",
     "text": [
      "[I 2024-12-02 19:39:55,221] Trial 272 finished with value: 0.05080772335154785 and parameters: {'topK': 60, 'alpha': 0.16743994111911364, 'beta': 0.2348795595076031, 'normalize_similarity': True, 'implicit': False}. Best is trial 157 with value: 0.05401447501320864.\n"
     ]
    },
    {
     "name": "stdout",
     "output_type": "stream",
     "text": [
      "RP3betaRecommender: Similarity column 38121 (100.0%), 1655.27 column/sec. Elapsed time 23.03 sec\n",
      "EvaluatorHoldout: Processed 35595 (100.0%) in 35.49 sec. Users per second: 1003\n"
     ]
    },
    {
     "name": "stderr",
     "output_type": "stream",
     "text": [
      "[I 2024-12-02 19:40:58,912] Trial 273 finished with value: 0.04806894471980696 and parameters: {'topK': 116, 'alpha': 0.24513652213986925, 'beta': 0.15884090227912145, 'normalize_similarity': True, 'implicit': False}. Best is trial 157 with value: 0.05401447501320864.\n"
     ]
    },
    {
     "name": "stdout",
     "output_type": "stream",
     "text": [
      "RP3betaRecommender: Similarity column 38121 (100.0%), 2113.21 column/sec. Elapsed time 18.04 sec\n",
      "EvaluatorHoldout: Processed 35595 (100.0%) in 32.08 sec. Users per second: 1110\n"
     ]
    },
    {
     "name": "stderr",
     "output_type": "stream",
     "text": [
      "[I 2024-12-02 19:41:50,904] Trial 274 finished with value: 0.05284764781035148 and parameters: {'topK': 26, 'alpha': 0.11487511241687295, 'beta': 0.2985874777976296, 'normalize_similarity': True, 'implicit': False}. Best is trial 157 with value: 0.05401447501320864.\n"
     ]
    },
    {
     "name": "stdout",
     "output_type": "stream",
     "text": [
      "RP3betaRecommender: Similarity column 38121 (100.0%), 1973.64 column/sec. Elapsed time 19.32 sec\n",
      "EvaluatorHoldout: Processed 35595 (100.0%) in 31.99 sec. Users per second: 1113\n"
     ]
    },
    {
     "name": "stderr",
     "output_type": "stream",
     "text": [
      "[I 2024-12-02 19:42:44,515] Trial 275 finished with value: 0.05096302539370193 and parameters: {'topK': 50, 'alpha': 0.19176243035968016, 'beta': 0.10944483965636258, 'normalize_similarity': True, 'implicit': False}. Best is trial 157 with value: 0.05401447501320864.\n"
     ]
    },
    {
     "name": "stdout",
     "output_type": "stream",
     "text": [
      "RP3betaRecommender: Similarity column 38121 (100.0%), 1825.46 column/sec. Elapsed time 20.88 sec\n",
      "EvaluatorHoldout: Processed 35595 (100.0%) in 34.03 sec. Users per second: 1046\n"
     ]
    },
    {
     "name": "stderr",
     "output_type": "stream",
     "text": [
      "[I 2024-12-02 19:43:43,273] Trial 276 finished with value: 0.04961402863341146 and parameters: {'topK': 88, 'alpha': 0.26354698637376694, 'beta': 0.2306375813515026, 'normalize_similarity': True, 'implicit': False}. Best is trial 157 with value: 0.05401447501320864.\n"
     ]
    },
    {
     "name": "stdout",
     "output_type": "stream",
     "text": [
      "RP3betaRecommender: Similarity column 38121 (100.0%), 2169.52 column/sec. Elapsed time 17.57 sec\n",
      "EvaluatorHoldout: Processed 35595 (100.0%) in 30.76 sec. Users per second: 1157\n"
     ]
    },
    {
     "name": "stderr",
     "output_type": "stream",
     "text": [
      "[I 2024-12-02 19:44:33,196] Trial 277 finished with value: 0.05267334898561028 and parameters: {'topK': 23, 'alpha': 0.001066622652965754, 'beta': 0.18313901869274612, 'normalize_similarity': True, 'implicit': False}. Best is trial 157 with value: 0.05401447501320864.\n"
     ]
    },
    {
     "name": "stdout",
     "output_type": "stream",
     "text": [
      "RP3betaRecommender: Similarity column 38121 (100.0%), 1981.72 column/sec. Elapsed time 19.24 sec\n",
      "EvaluatorHoldout: Processed 35595 (100.0%) in 33.14 sec. Users per second: 1074\n"
     ]
    },
    {
     "name": "stderr",
     "output_type": "stream",
     "text": [
      "[I 2024-12-02 19:45:28,379] Trial 278 finished with value: 0.05064003549633367 and parameters: {'topK': 55, 'alpha': 0.1315065469598929, 'beta': 0.32771216280646454, 'normalize_similarity': True, 'implicit': False}. Best is trial 157 with value: 0.05401447501320864.\n"
     ]
    },
    {
     "name": "stdout",
     "output_type": "stream",
     "text": [
      "RP3betaRecommender: Similarity column 38121 (100.0%), 2224.52 column/sec. Elapsed time 17.14 sec\n",
      "EvaluatorHoldout: Processed 35595 (100.0%) in 27.29 sec. Users per second: 1304\n"
     ]
    },
    {
     "name": "stderr",
     "output_type": "stream",
     "text": [
      "[I 2024-12-02 19:46:13,741] Trial 279 finished with value: 0.03641520679067971 and parameters: {'topK': 2, 'alpha': 0.3106349945556337, 'beta': 0.2540975512744461, 'normalize_similarity': True, 'implicit': False}. Best is trial 157 with value: 0.05401447501320864.\n"
     ]
    },
    {
     "name": "stdout",
     "output_type": "stream",
     "text": [
      "RP3betaRecommender: Similarity column 38121 (100.0%), 680.45 column/sec. Elapsed time 56.02 sec\n",
      "EvaluatorHoldout: Processed 35595 (100.0%) in 50.41 sec. Users per second: 706\n"
     ]
    },
    {
     "name": "stderr",
     "output_type": "stream",
     "text": [
      "[I 2024-12-02 19:48:33,429] Trial 280 finished with value: 0.043672820553981924 and parameters: {'topK': 829, 'alpha': 0.2305590034653075, 'beta': 0.37464072204554477, 'normalize_similarity': True, 'implicit': False}. Best is trial 157 with value: 0.05401447501320864.\n"
     ]
    },
    {
     "name": "stdout",
     "output_type": "stream",
     "text": [
      "RP3betaRecommender: Similarity column 38121 (100.0%), 2961.93 column/sec. Elapsed time 12.87 sec\n",
      "EvaluatorHoldout: Processed 35595 (100.0%) in 24.20 sec. Users per second: 1471\n"
     ]
    },
    {
     "name": "stderr",
     "output_type": "stream",
     "text": [
      "[I 2024-12-02 19:49:10,820] Trial 281 finished with value: 0.00028209999175022335 and parameters: {'topK': 0, 'alpha': 0.07224144749943986, 'beta': 0.13570384117188294, 'normalize_similarity': False, 'implicit': False}. Best is trial 157 with value: 0.05401447501320864.\n"
     ]
    },
    {
     "name": "stdout",
     "output_type": "stream",
     "text": [
      "RP3betaRecommender: Similarity column 38121 (100.0%), 1786.95 column/sec. Elapsed time 21.33 sec\n",
      "EvaluatorHoldout: Processed 35595 (100.0%) in 32.87 sec. Users per second: 1083\n"
     ]
    },
    {
     "name": "stderr",
     "output_type": "stream",
     "text": [
      "[I 2024-12-02 19:50:07,752] Trial 282 finished with value: 0.011915784275034457 and parameters: {'topK': 100, 'alpha': 0.196157578555462, 'beta': 2.265261049313463, 'normalize_similarity': True, 'implicit': False}. Best is trial 157 with value: 0.05401447501320864.\n"
     ]
    },
    {
     "name": "stdout",
     "output_type": "stream",
     "text": [
      "RP3betaRecommender: Similarity column 38121 (100.0%), 2043.66 column/sec. Elapsed time 18.65 sec\n",
      "EvaluatorHoldout: Processed 35595 (100.0%) in 32.14 sec. Users per second: 1107\n"
     ]
    },
    {
     "name": "stderr",
     "output_type": "stream",
     "text": [
      "[I 2024-12-02 19:51:00,754] Trial 283 finished with value: 0.052371412740774455 and parameters: {'topK': 40, 'alpha': 0.32333238101869477, 'beta': 0.2117018929013534, 'normalize_similarity': True, 'implicit': False}. Best is trial 157 with value: 0.05401447501320864.\n"
     ]
    },
    {
     "name": "stdout",
     "output_type": "stream",
     "text": [
      "RP3betaRecommender: Similarity column 38121 (100.0%), 1906.05 column/sec. Elapsed time 20.00 sec\n",
      "EvaluatorHoldout: Processed 35595 (100.0%) in 33.79 sec. Users per second: 1053\n"
     ]
    },
    {
     "name": "stderr",
     "output_type": "stream",
     "text": [
      "[I 2024-12-02 19:51:57,831] Trial 284 finished with value: 0.05007980432421891 and parameters: {'topK': 71, 'alpha': 0.15531953394652045, 'beta': 0.3000607104549768, 'normalize_similarity': True, 'implicit': False}. Best is trial 157 with value: 0.05401447501320864.\n"
     ]
    },
    {
     "name": "stdout",
     "output_type": "stream",
     "text": [
      "RP3betaRecommender: Similarity column 38121 (100.0%), 461.70 column/sec. Elapsed time 1.38 min\n",
      "EvaluatorHoldout: Processed 35595 (100.0%) in 1.01 min. Users per second: 587\n"
     ]
    },
    {
     "name": "stderr",
     "output_type": "stream",
     "text": [
      "[I 2024-12-02 19:55:12,822] Trial 285 finished with value: 0.03369829564077246 and parameters: {'topK': 1479, 'alpha': 0.2530621007141632, 'beta': 0.055495931147809596, 'normalize_similarity': True, 'implicit': False}. Best is trial 157 with value: 0.05401447501320864.\n"
     ]
    },
    {
     "name": "stdout",
     "output_type": "stream",
     "text": [
      "RP3betaRecommender: Similarity column 38121 (100.0%), 2034.45 column/sec. Elapsed time 18.74 sec\n",
      "EvaluatorHoldout: Processed 35595 (100.0%) in 32.98 sec. Users per second: 1079\n"
     ]
    },
    {
     "name": "stderr",
     "output_type": "stream",
     "text": [
      "[I 2024-12-02 19:56:06,230] Trial 286 finished with value: 0.05352380506446893 and parameters: {'topK': 24, 'alpha': 0.479618702478168, 'beta': 0.1757513275416551, 'normalize_similarity': True, 'implicit': False}. Best is trial 157 with value: 0.05401447501320864.\n"
     ]
    },
    {
     "name": "stdout",
     "output_type": "stream",
     "text": [
      "RP3betaRecommender: Similarity column 38121 (100.0%), 1885.79 column/sec. Elapsed time 20.21 sec\n",
      "EvaluatorHoldout: Processed 35595 (100.0%) in 33.80 sec. Users per second: 1053\n"
     ]
    },
    {
     "name": "stderr",
     "output_type": "stream",
     "text": [
      "[I 2024-12-02 19:57:02,751] Trial 287 finished with value: 0.05140627139088826 and parameters: {'topK': 52, 'alpha': 0.4599918064057106, 'beta': 0.13607342794636962, 'normalize_similarity': True, 'implicit': False}. Best is trial 157 with value: 0.05401447501320864.\n"
     ]
    },
    {
     "name": "stdout",
     "output_type": "stream",
     "text": [
      "RP3betaRecommender: Similarity column 38121 (100.0%), 2051.14 column/sec. Elapsed time 18.59 sec\n",
      "EvaluatorHoldout: Processed 35595 (100.0%) in 32.56 sec. Users per second: 1093\n"
     ]
    },
    {
     "name": "stderr",
     "output_type": "stream",
     "text": [
      "[I 2024-12-02 19:57:55,573] Trial 288 finished with value: 0.05353344281009488 and parameters: {'topK': 25, 'alpha': 0.3986046462789537, 'beta': 0.17744520111473255, 'normalize_similarity': True, 'implicit': False}. Best is trial 157 with value: 0.05401447501320864.\n"
     ]
    },
    {
     "name": "stdout",
     "output_type": "stream",
     "text": [
      "RP3betaRecommender: Similarity column 38121 (100.0%), 1654.84 column/sec. Elapsed time 23.04 sec\n",
      "EvaluatorHoldout: Processed 35595 (100.0%) in 35.26 sec. Users per second: 1010\n"
     ]
    },
    {
     "name": "stderr",
     "output_type": "stream",
     "text": [
      "[I 2024-12-02 19:58:58,681] Trial 289 finished with value: 0.04711695507439128 and parameters: {'topK': 124, 'alpha': 0.49683398731515577, 'beta': 0.07412064677338881, 'normalize_similarity': True, 'implicit': False}. Best is trial 157 with value: 0.05401447501320864.\n"
     ]
    },
    {
     "name": "stdout",
     "output_type": "stream",
     "text": [
      "RP3betaRecommender: Similarity column 38121 (100.0%), 2902.03 column/sec. Elapsed time 13.14 sec\n",
      "EvaluatorHoldout: Processed 35595 (100.0%) in 26.90 sec. Users per second: 1323\n"
     ]
    },
    {
     "name": "stderr",
     "output_type": "stream",
     "text": [
      "[I 2024-12-02 19:59:39,608] Trial 290 finished with value: 0.01920249745260262 and parameters: {'topK': 1, 'alpha': 0.4142435777214332, 'beta': 0.17746832203513696, 'normalize_similarity': True, 'implicit': False}. Best is trial 157 with value: 0.05401447501320864.\n"
     ]
    },
    {
     "name": "stdout",
     "output_type": "stream",
     "text": [
      "RP3betaRecommender: Similarity column 38121 (100.0%), 1882.74 column/sec. Elapsed time 20.25 sec\n",
      "EvaluatorHoldout: Processed 35595 (100.0%) in 33.48 sec. Users per second: 1063\n"
     ]
    },
    {
     "name": "stderr",
     "output_type": "stream",
     "text": [
      "[I 2024-12-02 20:00:36,014] Trial 291 finished with value: 0.014953108939413536 and parameters: {'topK': 76, 'alpha': 0.3934932490927777, 'beta': 1.8969955347758578, 'normalize_similarity': True, 'implicit': False}. Best is trial 157 with value: 0.05401447501320864.\n"
     ]
    },
    {
     "name": "stdout",
     "output_type": "stream",
     "text": [
      "RP3betaRecommender: Similarity column 38121 (100.0%), 2086.89 column/sec. Elapsed time 18.27 sec\n",
      "EvaluatorHoldout: Processed 35595 (100.0%) in 31.47 sec. Users per second: 1131\n"
     ]
    },
    {
     "name": "stderr",
     "output_type": "stream",
     "text": [
      "[I 2024-12-02 20:01:27,350] Trial 292 finished with value: 0.02113154937491193 and parameters: {'topK': 29, 'alpha': 0.35315512548381695, 'beta': 1.4449604854775826, 'normalize_similarity': True, 'implicit': False}. Best is trial 157 with value: 0.05401447501320864.\n"
     ]
    },
    {
     "name": "stdout",
     "output_type": "stream",
     "text": [
      "RP3betaRecommender: Similarity column 38121 (100.0%), 1901.68 column/sec. Elapsed time 20.05 sec\n",
      "EvaluatorHoldout: Processed 35595 (100.0%) in 33.78 sec. Users per second: 1054\n"
     ]
    },
    {
     "name": "stderr",
     "output_type": "stream",
     "text": [
      "[I 2024-12-02 20:02:24,013] Trial 293 finished with value: 0.050415602556982984 and parameters: {'topK': 63, 'alpha': 0.4652647269090929, 'beta': 0.09716354636940888, 'normalize_similarity': True, 'implicit': False}. Best is trial 157 with value: 0.05401447501320864.\n"
     ]
    },
    {
     "name": "stdout",
     "output_type": "stream",
     "text": [
      "RP3betaRecommender: Similarity column 38121 (100.0%), 2924.38 column/sec. Elapsed time 13.04 sec\n",
      "EvaluatorHoldout: Processed 35595 (100.0%) in 24.18 sec. Users per second: 1472\n"
     ]
    },
    {
     "name": "stderr",
     "output_type": "stream",
     "text": [
      "[I 2024-12-02 20:03:01,542] Trial 294 finished with value: 0.00028209999175022335 and parameters: {'topK': 0, 'alpha': 0.32598905220326113, 'beta': 0.1715818898126897, 'normalize_similarity': True, 'implicit': False}. Best is trial 157 with value: 0.05401447501320864.\n"
     ]
    },
    {
     "name": "stdout",
     "output_type": "stream",
     "text": [
      "RP3betaRecommender: Similarity column 38121 (100.0%), 1995.31 column/sec. Elapsed time 19.11 sec\n",
      "EvaluatorHoldout: Processed 35595 (100.0%) in 32.49 sec. Users per second: 1096\n"
     ]
    },
    {
     "name": "stderr",
     "output_type": "stream",
     "text": [
      "[I 2024-12-02 20:03:55,590] Trial 295 finished with value: 0.05231202661333097 and parameters: {'topK': 45, 'alpha': 0.4040555028400883, 'beta': 0.2574794082574402, 'normalize_similarity': True, 'implicit': False}. Best is trial 157 with value: 0.05401447501320864.\n"
     ]
    },
    {
     "name": "stdout",
     "output_type": "stream",
     "text": [
      "RP3betaRecommender: Similarity column 38121 (100.0%), 1798.12 column/sec. Elapsed time 21.20 sec\n",
      "EvaluatorHoldout: Processed 35595 (100.0%) in 33.99 sec. Users per second: 1047\n"
     ]
    },
    {
     "name": "stderr",
     "output_type": "stream",
     "text": [
      "[I 2024-12-02 20:04:54,918] Trial 296 finished with value: 0.04947541009192762 and parameters: {'topK': 93, 'alpha': 0.30518419413644254, 'beta': 0.21439431296058686, 'normalize_similarity': True, 'implicit': False}. Best is trial 157 with value: 0.05401447501320864.\n"
     ]
    },
    {
     "name": "stdout",
     "output_type": "stream",
     "text": [
      "RP3betaRecommender: Similarity column 38121 (100.0%), 2172.54 column/sec. Elapsed time 17.55 sec\n",
      "EvaluatorHoldout: Processed 35595 (100.0%) in 31.48 sec. Users per second: 1131\n"
     ]
    },
    {
     "name": "stderr",
     "output_type": "stream",
     "text": [
      "[I 2024-12-02 20:05:45,655] Trial 297 finished with value: 0.05334159871749224 and parameters: {'topK': 23, 'alpha': 0.4840043921336642, 'beta': 0.32760554226729877, 'normalize_similarity': True, 'implicit': False}. Best is trial 157 with value: 0.05401447501320864.\n"
     ]
    },
    {
     "name": "stdout",
     "output_type": "stream",
     "text": [
      "RP3betaRecommender: Similarity column 38121 (100.0%), 2130.78 column/sec. Elapsed time 17.89 sec\n",
      "EvaluatorHoldout: Processed 35595 (100.0%) in 30.42 sec. Users per second: 1170\n"
     ]
    },
    {
     "name": "stderr",
     "output_type": "stream",
     "text": [
      "[I 2024-12-02 20:06:35,416] Trial 298 finished with value: 0.01854810288586099 and parameters: {'topK': 26, 'alpha': 0.5462186176718185, 'beta': 1.65037040483812, 'normalize_similarity': True, 'implicit': False}. Best is trial 157 with value: 0.05401447501320864.\n"
     ]
    },
    {
     "name": "stdout",
     "output_type": "stream",
     "text": [
      "RP3betaRecommender: Similarity column 38121 (100.0%), 1979.62 column/sec. Elapsed time 19.26 sec\n",
      "EvaluatorHoldout: Processed 35595 (100.0%) in 32.27 sec. Users per second: 1103\n"
     ]
    },
    {
     "name": "stderr",
     "output_type": "stream",
     "text": [
      "[I 2024-12-02 20:07:29,572] Trial 299 finished with value: 0.0511242683897534 and parameters: {'topK': 56, 'alpha': 0.47706027289632663, 'beta': 0.1275691256311695, 'normalize_similarity': True, 'implicit': False}. Best is trial 157 with value: 0.05401447501320864.\n"
     ]
    },
    {
     "name": "stdout",
     "output_type": "stream",
     "text": [
      "RP3betaRecommender: Similarity column 38121 (100.0%), 1844.73 column/sec. Elapsed time 20.66 sec\n",
      "EvaluatorHoldout: Processed 35595 (100.0%) in 34.88 sec. Users per second: 1020\n"
     ]
    },
    {
     "name": "stderr",
     "output_type": "stream",
     "text": [
      "[I 2024-12-02 20:08:29,261] Trial 300 finished with value: 0.04480167425868894 and parameters: {'topK': 88, 'alpha': 1.5103390430943606, 'beta': 0.34013526280170414, 'normalize_similarity': True, 'implicit': False}. Best is trial 157 with value: 0.05401447501320864.\n"
     ]
    },
    {
     "name": "stdout",
     "output_type": "stream",
     "text": [
      "RP3betaRecommender: Similarity column 38121 (100.0%), 755.11 column/sec. Elapsed time 50.48 sec\n",
      "EvaluatorHoldout: Processed 35595 (100.0%) in 46.63 sec. Users per second: 763\n"
     ]
    },
    {
     "name": "stderr",
     "output_type": "stream",
     "text": [
      "[I 2024-12-02 20:10:31,028] Trial 301 finished with value: 0.03236284635125654 and parameters: {'topK': 711, 'alpha': 0.384054103077481, 'beta': 0.03635836190008995, 'normalize_similarity': False, 'implicit': False}. Best is trial 157 with value: 0.05401447501320864.\n"
     ]
    },
    {
     "name": "stdout",
     "output_type": "stream",
     "text": [
      "RP3betaRecommender: Similarity column 38121 (100.0%), 2157.16 column/sec. Elapsed time 17.67 sec\n",
      "EvaluatorHoldout: Processed 35595 (100.0%) in 31.73 sec. Users per second: 1122\n"
     ]
    },
    {
     "name": "stderr",
     "output_type": "stream",
     "text": [
      "[I 2024-12-02 20:11:22,188] Trial 302 finished with value: 0.05263215138562627 and parameters: {'topK': 24, 'alpha': 0.48579127483258533, 'beta': 0.39780436056572754, 'normalize_similarity': True, 'implicit': False}. Best is trial 157 with value: 0.05401447501320864.\n"
     ]
    },
    {
     "name": "stdout",
     "output_type": "stream",
     "text": [
      "RP3betaRecommender: Similarity column 38121 (100.0%), 1984.08 column/sec. Elapsed time 19.21 sec\n",
      "EvaluatorHoldout: Processed 35595 (100.0%) in 32.21 sec. Users per second: 1105\n"
     ]
    },
    {
     "name": "stderr",
     "output_type": "stream",
     "text": [
      "[I 2024-12-02 20:12:16,142] Trial 303 finished with value: 0.05149263874674559 and parameters: {'topK': 50, 'alpha': 0.28252717737674676, 'beta': 0.18847712262998065, 'normalize_similarity': True, 'implicit': False}. Best is trial 157 with value: 0.05401447501320864.\n"
     ]
    },
    {
     "name": "stdout",
     "output_type": "stream",
     "text": [
      "RP3betaRecommender: Similarity column 38121 (100.0%), 2194.40 column/sec. Elapsed time 17.37 sec\n",
      "EvaluatorHoldout: Processed 35595 (100.0%) in 31.05 sec. Users per second: 1146\n"
     ]
    },
    {
     "name": "stderr",
     "output_type": "stream",
     "text": [
      "[I 2024-12-02 20:13:06,127] Trial 304 finished with value: 0.053979956387666526 and parameters: {'topK': 20, 'alpha': 0.4279707106275096, 'beta': 0.2547441286383424, 'normalize_similarity': True, 'implicit': False}. Best is trial 157 with value: 0.05401447501320864.\n"
     ]
    },
    {
     "name": "stdout",
     "output_type": "stream",
     "text": [
      "RP3betaRecommender: Similarity column 38121 (100.0%), 1612.05 column/sec. Elapsed time 23.65 sec\n",
      "EvaluatorHoldout: Processed 35595 (100.0%) in 33.02 sec. Users per second: 1078\n"
     ]
    },
    {
     "name": "stderr",
     "output_type": "stream",
     "text": [
      "[I 2024-12-02 20:14:03,852] Trial 305 finished with value: 0.04364421947080841 and parameters: {'topK': 3, 'alpha': 0.3968960075439675, 'beta': 0.27656121536818123, 'normalize_similarity': True, 'implicit': False}. Best is trial 157 with value: 0.05401447501320864.\n"
     ]
    },
    {
     "name": "stdout",
     "output_type": "stream",
     "text": [
      "RP3betaRecommender: Similarity column 38121 (100.0%), 1460.46 column/sec. Elapsed time 26.10 sec\n",
      "EvaluatorHoldout: Processed 35595 (100.0%) in 36.76 sec. Users per second: 968\n"
     ]
    },
    {
     "name": "stderr",
     "output_type": "stream",
     "text": [
      "[I 2024-12-02 20:15:12,701] Trial 306 finished with value: 0.048038061570086873 and parameters: {'topK': 138, 'alpha': 0.2578700543985892, 'beta': 0.2717059316686887, 'normalize_similarity': True, 'implicit': False}. Best is trial 157 with value: 0.05401447501320864.\n"
     ]
    },
    {
     "name": "stdout",
     "output_type": "stream",
     "text": [
      "RP3betaRecommender: Similarity column 38121 (100.0%), 1829.82 column/sec. Elapsed time 20.83 sec\n",
      "EvaluatorHoldout: Processed 35595 (100.0%) in 33.93 sec. Users per second: 1049\n"
     ]
    },
    {
     "name": "stderr",
     "output_type": "stream",
     "text": [
      "[I 2024-12-02 20:16:10,639] Trial 307 finished with value: 0.0491599430988373 and parameters: {'topK': 71, 'alpha': 0.06917673419221007, 'beta': 0.14725906786678494, 'normalize_similarity': True, 'implicit': False}. Best is trial 157 with value: 0.05401447501320864.\n"
     ]
    },
    {
     "name": "stdout",
     "output_type": "stream",
     "text": [
      "RP3betaRecommender: Similarity column 38121 (100.0%), 2917.73 column/sec. Elapsed time 13.07 sec\n",
      "EvaluatorHoldout: Processed 35595 (100.0%) in 24.58 sec. Users per second: 1448\n"
     ]
    },
    {
     "name": "stderr",
     "output_type": "stream",
     "text": [
      "[I 2024-12-02 20:16:48,630] Trial 308 finished with value: 0.00028209999175022335 and parameters: {'topK': 0, 'alpha': 0.3494614316821119, 'beta': 0.337814980796528, 'normalize_similarity': True, 'implicit': False}. Best is trial 157 with value: 0.05401447501320864.\n"
     ]
    },
    {
     "name": "stdout",
     "output_type": "stream",
     "text": [
      "RP3betaRecommender: Similarity column 38121 (100.0%), 2012.68 column/sec. Elapsed time 18.94 sec\n",
      "EvaluatorHoldout: Processed 35595 (100.0%) in 36.32 sec. Users per second: 980\n"
     ]
    },
    {
     "name": "stderr",
     "output_type": "stream",
     "text": [
      "[I 2024-12-02 20:17:46,589] Trial 309 finished with value: 0.05059709318010888 and parameters: {'topK': 44, 'alpha': 0.15093220687886327, 'beta': 0.4374079621477619, 'normalize_similarity': True, 'implicit': False}. Best is trial 157 with value: 0.05401447501320864.\n"
     ]
    },
    {
     "name": "stdout",
     "output_type": "stream",
     "text": [
      "RP3betaRecommender: Similarity column 38121 (100.0%), 1569.60 column/sec. Elapsed time 24.29 sec\n",
      "EvaluatorHoldout: Processed 35595 (100.0%) in 35.11 sec. Users per second: 1014\n"
     ]
    },
    {
     "name": "stderr",
     "output_type": "stream",
     "text": [
      "[I 2024-12-02 20:18:50,799] Trial 310 finished with value: 0.04923432375244243 and parameters: {'topK': 107, 'alpha': 0.43145872845629674, 'beta': 0.22610446940299023, 'normalize_similarity': True, 'implicit': False}. Best is trial 157 with value: 0.05401447501320864.\n"
     ]
    },
    {
     "name": "stdout",
     "output_type": "stream",
     "text": [
      "RP3betaRecommender: Similarity column 38121 (100.0%), 2154.24 column/sec. Elapsed time 17.70 sec\n",
      "EvaluatorHoldout: Processed 35595 (100.0%) in 30.62 sec. Users per second: 1162\n"
     ]
    },
    {
     "name": "stderr",
     "output_type": "stream",
     "text": [
      "[I 2024-12-02 20:19:40,754] Trial 311 finished with value: 0.052703333578595045 and parameters: {'topK': 27, 'alpha': 0.22665172689662996, 'beta': 0.08769164661688784, 'normalize_similarity': True, 'implicit': False}. Best is trial 157 with value: 0.05401447501320864.\n"
     ]
    },
    {
     "name": "stdout",
     "output_type": "stream",
     "text": [
      "RP3betaRecommender: Similarity column 38121 (100.0%), 1872.35 column/sec. Elapsed time 20.36 sec\n",
      "EvaluatorHoldout: Processed 35595 (100.0%) in 33.47 sec. Users per second: 1064\n"
     ]
    },
    {
     "name": "stderr",
     "output_type": "stream",
     "text": [
      "[I 2024-12-02 20:20:37,768] Trial 312 finished with value: 0.05024934280496677 and parameters: {'topK': 73, 'alpha': 0.29129915766478376, 'beta': 0.1814870395353561, 'normalize_similarity': True, 'implicit': False}. Best is trial 157 with value: 0.05401447501320864.\n"
     ]
    },
    {
     "name": "stdout",
     "output_type": "stream",
     "text": [
      "RP3betaRecommender: Similarity column 38121 (100.0%), 824.61 column/sec. Elapsed time 46.23 sec\n",
      "EvaluatorHoldout: Processed 35595 (100.0%) in 46.36 sec. Users per second: 768\n"
     ]
    },
    {
     "name": "stderr",
     "output_type": "stream",
     "text": [
      "[I 2024-12-02 20:22:34,771] Trial 313 finished with value: 0.04228222819773432 and parameters: {'topK': 618, 'alpha': 0.13030960329829464, 'beta': 0.2940544731126676, 'normalize_similarity': True, 'implicit': False}. Best is trial 157 with value: 0.05401447501320864.\n"
     ]
    },
    {
     "name": "stdout",
     "output_type": "stream",
     "text": [
      "RP3betaRecommender: Similarity column 38121 (100.0%), 2085.03 column/sec. Elapsed time 18.28 sec\n",
      "EvaluatorHoldout: Processed 35595 (100.0%) in 31.94 sec. Users per second: 1114\n"
     ]
    },
    {
     "name": "stderr",
     "output_type": "stream",
     "text": [
      "[I 2024-12-02 20:23:26,999] Trial 314 finished with value: 0.023101623868163765 and parameters: {'topK': 45, 'alpha': 0.20942362228930095, 'beta': 1.2605062104811784, 'normalize_similarity': True, 'implicit': False}. Best is trial 157 with value: 0.05401447501320864.\n"
     ]
    },
    {
     "name": "stdout",
     "output_type": "stream",
     "text": [
      "RP3betaRecommender: Similarity column 38121 (100.0%), 2950.07 column/sec. Elapsed time 12.92 sec\n",
      "EvaluatorHoldout: Processed 35595 (100.0%) in 26.40 sec. Users per second: 1348\n"
     ]
    },
    {
     "name": "stderr",
     "output_type": "stream",
     "text": [
      "[I 2024-12-02 20:24:07,189] Trial 315 finished with value: 0.018482013257613443 and parameters: {'topK': 1, 'alpha': 0.3405401692997822, 'beta': 0.3772412572111692, 'normalize_similarity': True, 'implicit': False}. Best is trial 157 with value: 0.05401447501320864.\n"
     ]
    },
    {
     "name": "stdout",
     "output_type": "stream",
     "text": [
      "RP3betaRecommender: Similarity column 38121 (100.0%), 2174.07 column/sec. Elapsed time 17.53 sec\n",
      "EvaluatorHoldout: Processed 35595 (100.0%) in 31.04 sec. Users per second: 1147\n"
     ]
    },
    {
     "name": "stderr",
     "output_type": "stream",
     "text": [
      "[I 2024-12-02 20:24:57,518] Trial 316 finished with value: 0.05337618757761853 and parameters: {'topK': 27, 'alpha': 0.2592563156377122, 'beta': 0.24137497623142345, 'normalize_similarity': True, 'implicit': True}. Best is trial 157 with value: 0.05401447501320864.\n"
     ]
    },
    {
     "name": "stdout",
     "output_type": "stream",
     "text": [
      "RP3betaRecommender: Similarity column 38121 (100.0%), 1917.14 column/sec. Elapsed time 19.88 sec\n",
      "EvaluatorHoldout: Processed 35595 (100.0%) in 32.78 sec. Users per second: 1086\n"
     ]
    },
    {
     "name": "stderr",
     "output_type": "stream",
     "text": [
      "[I 2024-12-02 20:25:53,056] Trial 317 finished with value: 0.049293932846817934 and parameters: {'topK': 67, 'alpha': 0.059403337969786155, 'beta': 0.13365392861784098, 'normalize_similarity': True, 'implicit': False}. Best is trial 157 with value: 0.05401447501320864.\n"
     ]
    },
    {
     "name": "stdout",
     "output_type": "stream",
     "text": [
      "RP3betaRecommender: Similarity column 38121 (100.0%), 641.70 column/sec. Elapsed time 59.41 sec\n",
      "EvaluatorHoldout: Processed 35595 (100.0%) in 50.86 sec. Users per second: 700\n"
     ]
    },
    {
     "name": "stderr",
     "output_type": "stream",
     "text": [
      "[I 2024-12-02 20:28:18,377] Trial 318 finished with value: 0.03993426154466888 and parameters: {'topK': 916, 'alpha': 0.1765108085836368, 'beta': 0.22974725929680692, 'normalize_similarity': True, 'implicit': True}. Best is trial 157 with value: 0.05401447501320864.\n"
     ]
    },
    {
     "name": "stdout",
     "output_type": "stream",
     "text": [
      "RP3betaRecommender: Similarity column 38121 (100.0%), 981.92 column/sec. Elapsed time 38.82 sec\n",
      "EvaluatorHoldout: Processed 35595 (100.0%) in 42.72 sec. Users per second: 833\n"
     ]
    },
    {
     "name": "stderr",
     "output_type": "stream",
     "text": [
      "[I 2024-12-02 20:29:57,342] Trial 319 finished with value: 0.041771396464188655 and parameters: {'topK': 464, 'alpha': 0.25073322651348023, 'beta': 0.18066764588217005, 'normalize_similarity': True, 'implicit': True}. Best is trial 157 with value: 0.05401447501320864.\n"
     ]
    },
    {
     "name": "stdout",
     "output_type": "stream",
     "text": [
      "RP3betaRecommender: Similarity column 38121 (100.0%), 2101.51 column/sec. Elapsed time 18.14 sec\n",
      "EvaluatorHoldout: Processed 35595 (100.0%) in 31.72 sec. Users per second: 1122\n"
     ]
    },
    {
     "name": "stderr",
     "output_type": "stream",
     "text": [
      "[I 2024-12-02 20:30:49,113] Trial 320 finished with value: 0.05233237903486359 and parameters: {'topK': 32, 'alpha': 0.11569154511975377, 'beta': 0.24961584369134104, 'normalize_similarity': True, 'implicit': True}. Best is trial 157 with value: 0.05401447501320864.\n"
     ]
    },
    {
     "name": "stdout",
     "output_type": "stream",
     "text": [
      "RP3betaRecommender: Similarity column 38121 (100.0%), 1768.56 column/sec. Elapsed time 21.55 sec\n",
      "EvaluatorHoldout: Processed 35595 (100.0%) in 35.46 sec. Users per second: 1004\n"
     ]
    },
    {
     "name": "stderr",
     "output_type": "stream",
     "text": [
      "[I 2024-12-02 20:31:50,777] Trial 321 finished with value: 0.04554615526971024 and parameters: {'topK': 101, 'alpha': 0.4431456062453492, 'beta': 0.3184803368794257, 'normalize_similarity': False, 'implicit': True}. Best is trial 157 with value: 0.05401447501320864.\n"
     ]
    },
    {
     "name": "stdout",
     "output_type": "stream",
     "text": [
      "RP3betaRecommender: Similarity column 38121 (100.0%), 2006.55 column/sec. Elapsed time 19.00 sec\n",
      "EvaluatorHoldout: Processed 35595 (100.0%) in 32.24 sec. Users per second: 1104\n"
     ]
    },
    {
     "name": "stderr",
     "output_type": "stream",
     "text": [
      "[I 2024-12-02 20:32:44,302] Trial 322 finished with value: 0.05110769971705301 and parameters: {'topK': 50, 'alpha': 0.3623006243371645, 'beta': 0.09687793478998566, 'normalize_similarity': True, 'implicit': False}. Best is trial 157 with value: 0.05401447501320864.\n"
     ]
    },
    {
     "name": "stdout",
     "output_type": "stream",
     "text": [
      "RP3betaRecommender: Similarity column 38121 (100.0%), 2157.32 column/sec. Elapsed time 17.67 sec\n",
      "EvaluatorHoldout: Processed 35595 (100.0%) in 31.35 sec. Users per second: 1135\n"
     ]
    },
    {
     "name": "stderr",
     "output_type": "stream",
     "text": [
      "[I 2024-12-02 20:33:34,944] Trial 323 finished with value: 0.05003427670641999 and parameters: {'topK': 21, 'alpha': 1.296172122597043, 'beta': 0.18734965577088633, 'normalize_similarity': True, 'implicit': True}. Best is trial 157 with value: 0.05401447501320864.\n"
     ]
    },
    {
     "name": "stdout",
     "output_type": "stream",
     "text": [
      "RP3betaRecommender: Similarity column 38121 (100.0%), 1899.42 column/sec. Elapsed time 20.07 sec\n",
      "EvaluatorHoldout: Processed 35595 (100.0%) in 33.65 sec. Users per second: 1058\n"
     ]
    },
    {
     "name": "stderr",
     "output_type": "stream",
     "text": [
      "[I 2024-12-02 20:34:32,088] Trial 324 finished with value: 0.050053879959061555 and parameters: {'topK': 75, 'alpha': 0.21171080632990721, 'beta': 0.24145361136405882, 'normalize_similarity': True, 'implicit': True}. Best is trial 157 with value: 0.05401447501320864.\n"
     ]
    },
    {
     "name": "stdout",
     "output_type": "stream",
     "text": [
      "RP3betaRecommender: Similarity column 38121 (100.0%), 2170.96 column/sec. Elapsed time 17.56 sec\n",
      "EvaluatorHoldout: Processed 35595 (100.0%) in 31.71 sec. Users per second: 1123\n"
     ]
    },
    {
     "name": "stderr",
     "output_type": "stream",
     "text": [
      "[I 2024-12-02 20:35:23,031] Trial 325 finished with value: 0.053502348956624424 and parameters: {'topK': 22, 'alpha': 0.2722225886359029, 'beta': 0.3438654489640966, 'normalize_similarity': True, 'implicit': True}. Best is trial 157 with value: 0.05401447501320864.\n"
     ]
    },
    {
     "name": "stdout",
     "output_type": "stream",
     "text": [
      "RP3betaRecommender: Similarity column 38121 (100.0%), 2841.55 column/sec. Elapsed time 13.42 sec\n",
      "EvaluatorHoldout: Processed 35595 (100.0%) in 26.92 sec. Users per second: 1322\n"
     ]
    },
    {
     "name": "stderr",
     "output_type": "stream",
     "text": [
      "[I 2024-12-02 20:36:04,278] Trial 326 finished with value: 0.017944035300124454 and parameters: {'topK': 1, 'alpha': 0.2735789550900306, 'beta': 0.4738837425622012, 'normalize_similarity': True, 'implicit': True}. Best is trial 157 with value: 0.05401447501320864.\n"
     ]
    },
    {
     "name": "stdout",
     "output_type": "stream",
     "text": [
      "RP3betaRecommender: Similarity column 38121 (100.0%), 2039.32 column/sec. Elapsed time 18.69 sec\n",
      "EvaluatorHoldout: Processed 35595 (100.0%) in 32.45 sec. Users per second: 1097\n"
     ]
    },
    {
     "name": "stderr",
     "output_type": "stream",
     "text": [
      "[I 2024-12-02 20:36:57,708] Trial 327 finished with value: 0.03681850157303044 and parameters: {'topK': 42, 'alpha': 0.35033486597475466, 'beta': 0.8393314946559765, 'normalize_similarity': True, 'implicit': True}. Best is trial 157 with value: 0.05401447501320864.\n"
     ]
    },
    {
     "name": "stdout",
     "output_type": "stream",
     "text": [
      "RP3betaRecommender: Similarity column 38121 (100.0%), 1828.06 column/sec. Elapsed time 20.85 sec\n",
      "EvaluatorHoldout: Processed 35595 (100.0%) in 35.44 sec. Users per second: 1004\n"
     ]
    },
    {
     "name": "stderr",
     "output_type": "stream",
     "text": [
      "[I 2024-12-02 20:37:58,443] Trial 328 finished with value: 0.04954476172638641 and parameters: {'topK': 88, 'alpha': 0.3124009206532594, 'beta': 0.3936548693296157, 'normalize_similarity': True, 'implicit': True}. Best is trial 157 with value: 0.05401447501320864.\n"
     ]
    },
    {
     "name": "stdout",
     "output_type": "stream",
     "text": [
      "RP3betaRecommender: Similarity column 38121 (100.0%), 1887.46 column/sec. Elapsed time 20.20 sec\n",
      "EvaluatorHoldout: Processed 35595 (100.0%) in 33.96 sec. Users per second: 1048\n"
     ]
    },
    {
     "name": "stderr",
     "output_type": "stream",
     "text": [
      "[I 2024-12-02 20:38:55,558] Trial 329 finished with value: 0.05164736553421571 and parameters: {'topK': 51, 'alpha': 0.4098050238883344, 'beta': 0.341431854682343, 'normalize_similarity': True, 'implicit': True}. Best is trial 157 with value: 0.05401447501320864.\n"
     ]
    },
    {
     "name": "stdout",
     "output_type": "stream",
     "text": [
      "RP3betaRecommender: Similarity column 38121 (100.0%), 2129.16 column/sec. Elapsed time 17.90 sec\n",
      "EvaluatorHoldout: Processed 35595 (100.0%) in 32.99 sec. Users per second: 1079\n"
     ]
    },
    {
     "name": "stderr",
     "output_type": "stream",
     "text": [
      "[I 2024-12-02 20:39:48,181] Trial 330 finished with value: 0.05353475385565402 and parameters: {'topK': 24, 'alpha': 0.2380087515008862, 'beta': 0.29934137992297327, 'normalize_similarity': True, 'implicit': False}. Best is trial 157 with value: 0.05401447501320864.\n"
     ]
    },
    {
     "name": "stdout",
     "output_type": "stream",
     "text": [
      "RP3betaRecommender: Similarity column 38121 (100.0%), 1646.40 column/sec. Elapsed time 23.15 sec\n",
      "EvaluatorHoldout: Processed 35595 (100.0%) in 37.16 sec. Users per second: 958\n"
     ]
    },
    {
     "name": "stderr",
     "output_type": "stream",
     "text": [
      "[I 2024-12-02 20:40:54,514] Trial 331 finished with value: 0.048384081721838196 and parameters: {'topK': 124, 'alpha': 0.22766277086946765, 'beta': 0.40982936227397043, 'normalize_similarity': True, 'implicit': True}. Best is trial 157 with value: 0.05401447501320864.\n"
     ]
    },
    {
     "name": "stdout",
     "output_type": "stream",
     "text": [
      "RP3betaRecommender: Similarity column 38121 (100.0%), 2832.57 column/sec. Elapsed time 13.46 sec\n",
      "EvaluatorHoldout: Processed 35595 (100.0%) in 27.40 sec. Users per second: 1299\n"
     ]
    },
    {
     "name": "stderr",
     "output_type": "stream",
     "text": [
      "[I 2024-12-02 20:41:36,304] Trial 332 finished with value: 0.01875668287636234 and parameters: {'topK': 1, 'alpha': 0.29763876392648214, 'beta': 0.3165323198019821, 'normalize_similarity': True, 'implicit': True}. Best is trial 157 with value: 0.05401447501320864.\n"
     ]
    },
    {
     "name": "stdout",
     "output_type": "stream",
     "text": [
      "RP3betaRecommender: Similarity column 38121 (100.0%), 1931.02 column/sec. Elapsed time 19.74 sec\n",
      "EvaluatorHoldout: Processed 35595 (100.0%) in 33.73 sec. Users per second: 1055\n"
     ]
    },
    {
     "name": "stderr",
     "output_type": "stream",
     "text": [
      "[I 2024-12-02 20:42:32,919] Trial 333 finished with value: 0.05109139191566308 and parameters: {'topK': 58, 'alpha': 0.5133640395465481, 'beta': 0.3579818898351684, 'normalize_similarity': True, 'implicit': True}. Best is trial 157 with value: 0.05401447501320864.\n"
     ]
    },
    {
     "name": "stdout",
     "output_type": "stream",
     "text": [
      "RP3betaRecommender: Similarity column 38121 (100.0%), 2130.46 column/sec. Elapsed time 17.89 sec\n",
      "EvaluatorHoldout: Processed 35595 (100.0%) in 31.35 sec. Users per second: 1135\n"
     ]
    },
    {
     "name": "stderr",
     "output_type": "stream",
     "text": [
      "[I 2024-12-02 20:43:23,841] Trial 334 finished with value: 0.05284710265620319 and parameters: {'topK': 28, 'alpha': 0.17613964214669672, 'beta': 0.15012654306519163, 'normalize_similarity': True, 'implicit': True}. Best is trial 157 with value: 0.05401447501320864.\n"
     ]
    },
    {
     "name": "stdout",
     "output_type": "stream",
     "text": [
      "RP3betaRecommender: Similarity column 38121 (100.0%), 1872.92 column/sec. Elapsed time 20.35 sec\n",
      "EvaluatorHoldout: Processed 35595 (100.0%) in 32.78 sec. Users per second: 1086\n"
     ]
    },
    {
     "name": "stderr",
     "output_type": "stream",
     "text": [
      "[I 2024-12-02 20:44:19,873] Trial 335 finished with value: 0.04881528973437768 and parameters: {'topK': 74, 'alpha': 0.3769889719709881, 'beta': 0.014895441728179054, 'normalize_similarity': True, 'implicit': False}. Best is trial 157 with value: 0.05401447501320864.\n"
     ]
    },
    {
     "name": "stdout",
     "output_type": "stream",
     "text": [
      "RP3betaRecommender: Similarity column 38121 (100.0%), 483.10 column/sec. Elapsed time 1.32 min\n",
      "EvaluatorHoldout: Processed 35595 (100.0%) in 57.11 sec. Users per second: 623\n"
     ]
    },
    {
     "name": "stderr",
     "output_type": "stream",
     "text": [
      "[I 2024-12-02 20:47:28,179] Trial 336 finished with value: 0.039703572153212366 and parameters: {'topK': 1381, 'alpha': 0.10303482686265063, 'beta': 0.2888397957850125, 'normalize_similarity': True, 'implicit': False}. Best is trial 157 with value: 0.05401447501320864.\n"
     ]
    },
    {
     "name": "stdout",
     "output_type": "stream",
     "text": [
      "RP3betaRecommender: Similarity column 38121 (100.0%), 2116.66 column/sec. Elapsed time 18.01 sec\n",
      "EvaluatorHoldout: Processed 35595 (100.0%) in 32.05 sec. Users per second: 1111\n"
     ]
    },
    {
     "name": "stderr",
     "output_type": "stream",
     "text": [
      "[I 2024-12-02 20:48:20,115] Trial 337 finished with value: 0.05178204536484993 and parameters: {'topK': 25, 'alpha': 0.24397984360531533, 'beta': 0.4631907086417452, 'normalize_similarity': True, 'implicit': False}. Best is trial 157 with value: 0.05401447501320864.\n"
     ]
    },
    {
     "name": "stdout",
     "output_type": "stream",
     "text": [
      "RP3betaRecommender: Similarity column 38121 (100.0%), 1719.15 column/sec. Elapsed time 22.17 sec\n",
      "EvaluatorHoldout: Processed 35595 (100.0%) in 36.27 sec. Users per second: 981\n"
     ]
    },
    {
     "name": "stderr",
     "output_type": "stream",
     "text": [
      "[I 2024-12-02 20:49:23,343] Trial 338 finished with value: 0.04391626253910101 and parameters: {'topK': 103, 'alpha': 1.6565401841613379, 'beta': 0.19209570250030597, 'normalize_similarity': True, 'implicit': False}. Best is trial 157 with value: 0.05401447501320864.\n"
     ]
    },
    {
     "name": "stdout",
     "output_type": "stream",
     "text": [
      "RP3betaRecommender: Similarity column 38121 (100.0%), 1068.05 column/sec. Elapsed time 35.69 sec\n",
      "EvaluatorHoldout: Processed 35595 (100.0%) in 41.20 sec. Users per second: 864\n"
     ]
    },
    {
     "name": "stderr",
     "output_type": "stream",
     "text": [
      "[I 2024-12-02 20:50:53,996] Trial 339 finished with value: 0.04132303783525711 and parameters: {'topK': 378, 'alpha': 0.4379862973502103, 'beta': 0.0893469061340082, 'normalize_similarity': True, 'implicit': False}. Best is trial 157 with value: 0.05401447501320864.\n"
     ]
    },
    {
     "name": "stdout",
     "output_type": "stream",
     "text": [
      "RP3betaRecommender: Similarity column 38121 (100.0%), 2866.43 column/sec. Elapsed time 13.30 sec\n",
      "EvaluatorHoldout: Processed 35595 (100.0%) in 26.66 sec. Users per second: 1335\n"
     ]
    },
    {
     "name": "stderr",
     "output_type": "stream",
     "text": [
      "[I 2024-12-02 20:51:34,819] Trial 340 finished with value: 0.015055673728029573 and parameters: {'topK': 1, 'alpha': 1.8232450715313262, 'beta': 0.27932087114913406, 'normalize_similarity': True, 'implicit': False}. Best is trial 157 with value: 0.05401447501320864.\n"
     ]
    },
    {
     "name": "stdout",
     "output_type": "stream",
     "text": [
      "RP3betaRecommender: Similarity column 38121 (100.0%), 506.59 column/sec. Elapsed time 1.25 min\n",
      "EvaluatorHoldout: Processed 35595 (100.0%) in 56.06 sec. Users per second: 635\n"
     ]
    },
    {
     "name": "stderr",
     "output_type": "stream",
     "text": [
      "[I 2024-12-02 20:54:33,652] Trial 341 finished with value: 0.039291940637282564 and parameters: {'topK': 1306, 'alpha': 0.305122999883224, 'beta': 0.21820908514129345, 'normalize_similarity': True, 'implicit': False}. Best is trial 157 with value: 0.05401447501320864.\n"
     ]
    },
    {
     "name": "stdout",
     "output_type": "stream",
     "text": [
      "RP3betaRecommender: Similarity column 38121 (100.0%), 2021.66 column/sec. Elapsed time 18.86 sec\n",
      "EvaluatorHoldout: Processed 35595 (100.0%) in 33.56 sec. Users per second: 1061\n"
     ]
    },
    {
     "name": "stderr",
     "output_type": "stream",
     "text": [
      "[I 2024-12-02 20:55:28,736] Trial 342 finished with value: 0.04209351790535778 and parameters: {'topK': 51, 'alpha': 0.17429728174239129, 'beta': 0.353000128807254, 'normalize_similarity': False, 'implicit': False}. Best is trial 157 with value: 0.05401447501320864.\n"
     ]
    },
    {
     "name": "stdout",
     "output_type": "stream",
     "text": [
      "RP3betaRecommender: Similarity column 38121 (100.0%), 2110.21 column/sec. Elapsed time 18.06 sec\n",
      "EvaluatorHoldout: Processed 35595 (100.0%) in 31.21 sec. Users per second: 1141\n"
     ]
    },
    {
     "name": "stderr",
     "output_type": "stream",
     "text": [
      "[I 2024-12-02 20:56:19,659] Trial 343 finished with value: 0.05313359509650924 and parameters: {'topK': 26, 'alpha': 0.24560809876100043, 'beta': 0.1449370828661104, 'normalize_similarity': True, 'implicit': False}. Best is trial 157 with value: 0.05401447501320864.\n"
     ]
    },
    {
     "name": "stdout",
     "output_type": "stream",
     "text": [
      "RP3betaRecommender: Similarity column 38121 (100.0%), 1888.98 column/sec. Elapsed time 20.18 sec\n",
      "EvaluatorHoldout: Processed 35595 (100.0%) in 33.67 sec. Users per second: 1057\n"
     ]
    },
    {
     "name": "stderr",
     "output_type": "stream",
     "text": [
      "[I 2024-12-02 20:57:16,818] Trial 344 finished with value: 0.04929662182801479 and parameters: {'topK': 73, 'alpha': 0.048417423061169765, 'beta': 0.2917893103442517, 'normalize_similarity': True, 'implicit': False}. Best is trial 157 with value: 0.05401447501320864.\n"
     ]
    },
    {
     "name": "stdout",
     "output_type": "stream",
     "text": [
      "RP3betaRecommender: Similarity column 38121 (100.0%), 2933.94 column/sec. Elapsed time 12.99 sec\n",
      "EvaluatorHoldout: Processed 35595 (100.0%) in 24.54 sec. Users per second: 1450\n"
     ]
    },
    {
     "name": "stderr",
     "output_type": "stream",
     "text": [
      "[I 2024-12-02 20:57:54,723] Trial 345 finished with value: 0.00028209999175022335 and parameters: {'topK': 0, 'alpha': 2.114703297709883, 'beta': 0.2166523841249775, 'normalize_similarity': True, 'implicit': True}. Best is trial 157 with value: 0.05401447501320864.\n"
     ]
    },
    {
     "name": "stdout",
     "output_type": "stream",
     "text": [
      "RP3betaRecommender: Similarity column 38121 (100.0%), 2023.66 column/sec. Elapsed time 18.84 sec\n",
      "EvaluatorHoldout: Processed 35595 (100.0%) in 33.19 sec. Users per second: 1073\n"
     ]
    },
    {
     "name": "stderr",
     "output_type": "stream",
     "text": [
      "[I 2024-12-02 20:58:49,526] Trial 346 finished with value: 0.05099022178520525 and parameters: {'topK': 47, 'alpha': 0.35583285374919826, 'beta': 0.42797676862232553, 'normalize_similarity': True, 'implicit': False}. Best is trial 157 with value: 0.05401447501320864.\n"
     ]
    },
    {
     "name": "stdout",
     "output_type": "stream",
     "text": [
      "RP3betaRecommender: Similarity column 38121 (100.0%), 2132.37 column/sec. Elapsed time 17.88 sec\n",
      "EvaluatorHoldout: Processed 35595 (100.0%) in 31.19 sec. Users per second: 1141\n"
     ]
    },
    {
     "name": "stderr",
     "output_type": "stream",
     "text": [
      "[I 2024-12-02 20:59:40,257] Trial 347 finished with value: 0.052637350974475174 and parameters: {'topK': 26, 'alpha': 0.12188262125614271, 'beta': 0.12932672052342126, 'normalize_similarity': True, 'implicit': False}. Best is trial 157 with value: 0.05401447501320864.\n"
     ]
    },
    {
     "name": "stdout",
     "output_type": "stream",
     "text": [
      "RP3betaRecommender: Similarity column 38121 (100.0%), 1700.98 column/sec. Elapsed time 22.41 sec\n",
      "EvaluatorHoldout: Processed 35595 (100.0%) in 35.69 sec. Users per second: 997\n"
     ]
    },
    {
     "name": "stderr",
     "output_type": "stream",
     "text": [
      "[I 2024-12-02 21:00:42,664] Trial 348 finished with value: 0.04971141167053344 and parameters: {'topK': 93, 'alpha': 0.305369046953456, 'beta': 0.2971406665650465, 'normalize_similarity': True, 'implicit': False}. Best is trial 157 with value: 0.05401447501320864.\n"
     ]
    },
    {
     "name": "stdout",
     "output_type": "stream",
     "text": [
      "RP3betaRecommender: Similarity column 38121 (100.0%), 1943.83 column/sec. Elapsed time 19.61 sec\n",
      "EvaluatorHoldout: Processed 35595 (100.0%) in 32.76 sec. Users per second: 1087\n"
     ]
    },
    {
     "name": "stderr",
     "output_type": "stream",
     "text": [
      "[I 2024-12-02 21:01:37,727] Trial 349 finished with value: 0.050710048227745184 and parameters: {'topK': 60, 'alpha': 0.2134762425717942, 'beta': 0.17520524447411534, 'normalize_similarity': True, 'implicit': False}. Best is trial 157 with value: 0.05401447501320864.\n"
     ]
    },
    {
     "name": "stdout",
     "output_type": "stream",
     "text": [
      "RP3betaRecommender: Similarity column 38121 (100.0%), 2152.84 column/sec. Elapsed time 17.71 sec\n",
      "EvaluatorHoldout: Processed 35595 (100.0%) in 30.36 sec. Users per second: 1172\n"
     ]
    },
    {
     "name": "stderr",
     "output_type": "stream",
     "text": [
      "[I 2024-12-02 21:02:27,351] Trial 350 finished with value: 0.05280574117552439 and parameters: {'topK': 26, 'alpha': 0.4779468467291696, 'beta': 0.05543938371158469, 'normalize_similarity': True, 'implicit': False}. Best is trial 157 with value: 0.05401447501320864.\n"
     ]
    },
    {
     "name": "stdout",
     "output_type": "stream",
     "text": [
      "RP3betaRecommender: Similarity column 38121 (100.0%), 1600.96 column/sec. Elapsed time 23.81 sec\n",
      "EvaluatorHoldout: Processed 35595 (100.0%) in 36.21 sec. Users per second: 983\n"
     ]
    },
    {
     "name": "stderr",
     "output_type": "stream",
     "text": [
      "[I 2024-12-02 21:03:33,720] Trial 351 finished with value: 0.04754374388234292 and parameters: {'topK': 152, 'alpha': 0.17050808534838574, 'beta': 0.34944670902415653, 'normalize_similarity': True, 'implicit': False}. Best is trial 157 with value: 0.05401447501320864.\n"
     ]
    },
    {
     "name": "stdout",
     "output_type": "stream",
     "text": [
      "RP3betaRecommender: Similarity column 38121 (100.0%), 1969.27 column/sec. Elapsed time 19.36 sec\n",
      "EvaluatorHoldout: Processed 35595 (100.0%) in 32.71 sec. Users per second: 1088\n"
     ]
    },
    {
     "name": "stderr",
     "output_type": "stream",
     "text": [
      "[I 2024-12-02 21:04:28,660] Trial 352 finished with value: 0.05140404506607467 and parameters: {'topK': 59, 'alpha': 0.4025121245129347, 'beta': 0.2458178895515413, 'normalize_similarity': True, 'implicit': False}. Best is trial 157 with value: 0.05401447501320864.\n"
     ]
    },
    {
     "name": "stdout",
     "output_type": "stream",
     "text": [
      "RP3betaRecommender: Similarity column 38121 (100.0%), 1761.08 column/sec. Elapsed time 21.65 sec\n",
      "EvaluatorHoldout: Processed 35595 (100.0%) in 34.45 sec. Users per second: 1033\n"
     ]
    },
    {
     "name": "stderr",
     "output_type": "stream",
     "text": [
      "[I 2024-12-02 21:05:29,359] Trial 353 finished with value: 0.04859260485577214 and parameters: {'topK': 114, 'alpha': 0.28345342914696386, 'beta': 0.2037816794166762, 'normalize_similarity': True, 'implicit': False}. Best is trial 157 with value: 0.05401447501320864.\n"
     ]
    },
    {
     "name": "stdout",
     "output_type": "stream",
     "text": [
      "RP3betaRecommender: Similarity column 38121 (100.0%), 2955.70 column/sec. Elapsed time 12.90 sec\n",
      "EvaluatorHoldout: Processed 35595 (100.0%) in 26.43 sec. Users per second: 1347\n"
     ]
    },
    {
     "name": "stderr",
     "output_type": "stream",
     "text": [
      "[I 2024-12-02 21:06:09,562] Trial 354 finished with value: 0.018522987890665626 and parameters: {'topK': 1, 'alpha': 0.33585132342546675, 'beta': 0.3893343677973367, 'normalize_similarity': True, 'implicit': False}. Best is trial 157 with value: 0.05401447501320864.\n"
     ]
    },
    {
     "name": "stdout",
     "output_type": "stream",
     "text": [
      "RP3betaRecommender: Similarity column 38121 (100.0%), 2084.19 column/sec. Elapsed time 18.29 sec\n",
      "EvaluatorHoldout: Processed 35595 (100.0%) in 31.04 sec. Users per second: 1147\n"
     ]
    },
    {
     "name": "stderr",
     "output_type": "stream",
     "text": [
      "[I 2024-12-02 21:07:00,921] Trial 355 finished with value: 0.05152190873071431 and parameters: {'topK': 42, 'alpha': 0.22654959560011828, 'beta': 0.11423953691941628, 'normalize_similarity': True, 'implicit': True}. Best is trial 157 with value: 0.05401447501320864.\n"
     ]
    },
    {
     "name": "stdout",
     "output_type": "stream",
     "text": [
      "RP3betaRecommender: Similarity column 38121 (100.0%), 1876.11 column/sec. Elapsed time 20.32 sec\n",
      "EvaluatorHoldout: Processed 35595 (100.0%) in 34.26 sec. Users per second: 1039\n"
     ]
    },
    {
     "name": "stderr",
     "output_type": "stream",
     "text": [
      "[I 2024-12-02 21:07:59,517] Trial 356 finished with value: 0.04755907620340658 and parameters: {'topK': 81, 'alpha': 1.1597385584163953, 'beta': 0.28410074699915905, 'normalize_similarity': True, 'implicit': False}. Best is trial 157 with value: 0.05401447501320864.\n"
     ]
    },
    {
     "name": "stdout",
     "output_type": "stream",
     "text": [
      "RP3betaRecommender: Similarity column 38121 (100.0%), 2166.51 column/sec. Elapsed time 17.60 sec\n",
      "EvaluatorHoldout: Processed 35595 (100.0%) in 30.36 sec. Users per second: 1172\n"
     ]
    },
    {
     "name": "stderr",
     "output_type": "stream",
     "text": [
      "[I 2024-12-02 21:08:49,111] Trial 357 finished with value: 0.052777863620044656 and parameters: {'topK': 26, 'alpha': 0.11884172082607379, 'beta': 0.1725713179043193, 'normalize_similarity': True, 'implicit': False}. Best is trial 157 with value: 0.05401447501320864.\n"
     ]
    },
    {
     "name": "stdout",
     "output_type": "stream",
     "text": [
      "RP3betaRecommender: Similarity column 38121 (100.0%), 2918.85 column/sec. Elapsed time 13.06 sec\n",
      "EvaluatorHoldout: Processed 35595 (100.0%) in 26.03 sec. Users per second: 1367\n"
     ]
    },
    {
     "name": "stderr",
     "output_type": "stream",
     "text": [
      "[I 2024-12-02 21:09:29,037] Trial 358 finished with value: 0.011396102983966714 and parameters: {'topK': 1, 'alpha': 0.5366098540859376, 'beta': 1.0905109859231827, 'normalize_similarity': True, 'implicit': False}. Best is trial 157 with value: 0.05401447501320864.\n"
     ]
    },
    {
     "name": "stdout",
     "output_type": "stream",
     "text": [
      "RP3betaRecommender: Similarity column 38121 (100.0%), 2026.61 column/sec. Elapsed time 18.81 sec\n",
      "EvaluatorHoldout: Processed 35595 (100.0%) in 32.20 sec. Users per second: 1105\n"
     ]
    },
    {
     "name": "stderr",
     "output_type": "stream",
     "text": [
      "[I 2024-12-02 21:10:22,513] Trial 359 finished with value: 0.051415059632504104 and parameters: {'topK': 50, 'alpha': 0.18159965250793356, 'beta': 0.23840294683297641, 'normalize_similarity': True, 'implicit': False}. Best is trial 157 with value: 0.05401447501320864.\n"
     ]
    },
    {
     "name": "stdout",
     "output_type": "stream",
     "text": [
      "RP3betaRecommender: Similarity column 38121 (100.0%), 1837.46 column/sec. Elapsed time 20.75 sec\n",
      "EvaluatorHoldout: Processed 35595 (100.0%) in 34.37 sec. Users per second: 1035\n"
     ]
    },
    {
     "name": "stderr",
     "output_type": "stream",
     "text": [
      "[I 2024-12-02 21:11:21,569] Trial 360 finished with value: 0.043349342359032934 and parameters: {'topK': 85, 'alpha': 0.27087093244972893, 'beta': 0.33554775629933276, 'normalize_similarity': False, 'implicit': False}. Best is trial 157 with value: 0.05401447501320864.\n"
     ]
    },
    {
     "name": "stdout",
     "output_type": "stream",
     "text": [
      "RP3betaRecommender: Similarity column 38121 (100.0%), 2077.07 column/sec. Elapsed time 18.35 sec\n",
      "EvaluatorHoldout: Processed 35595 (100.0%) in 32.12 sec. Users per second: 1108\n"
     ]
    },
    {
     "name": "stderr",
     "output_type": "stream",
     "text": [
      "[I 2024-12-02 21:12:14,158] Trial 361 finished with value: 0.052812982026633884 and parameters: {'topK': 36, 'alpha': 0.38900977411448456, 'beta': 0.2581568463356385, 'normalize_similarity': True, 'implicit': False}. Best is trial 157 with value: 0.05401447501320864.\n"
     ]
    },
    {
     "name": "stdout",
     "output_type": "stream",
     "text": [
      "RP3betaRecommender: Similarity column 38121 (100.0%), 1960.24 column/sec. Elapsed time 19.45 sec\n",
      "EvaluatorHoldout: Processed 35595 (100.0%) in 32.37 sec. Users per second: 1100\n"
     ]
    },
    {
     "name": "stderr",
     "output_type": "stream",
     "text": [
      "[I 2024-12-02 21:13:08,629] Trial 362 finished with value: 0.04972754221321232 and parameters: {'topK': 59, 'alpha': 0.053840039360932616, 'beta': 0.1196277214349254, 'normalize_similarity': True, 'implicit': False}. Best is trial 157 with value: 0.05401447501320864.\n"
     ]
    },
    {
     "name": "stdout",
     "output_type": "stream",
     "text": [
      "RP3betaRecommender: Similarity column 38121 (100.0%), 2839.53 column/sec. Elapsed time 13.43 sec\n",
      "EvaluatorHoldout: Processed 35595 (100.0%) in 25.39 sec. Users per second: 1402\n"
     ]
    },
    {
     "name": "stderr",
     "output_type": "stream",
     "text": [
      "[I 2024-12-02 21:13:47,781] Trial 363 finished with value: 0.00028209999175022335 and parameters: {'topK': 0, 'alpha': 0.3315393138884987, 'beta': 0.19792329593904046, 'normalize_similarity': True, 'implicit': True}. Best is trial 157 with value: 0.05401447501320864.\n"
     ]
    },
    {
     "name": "stdout",
     "output_type": "stream",
     "text": [
      "RP3betaRecommender: Similarity column 38121 (100.0%), 2107.28 column/sec. Elapsed time 18.09 sec\n",
      "EvaluatorHoldout: Processed 35595 (100.0%) in 32.33 sec. Users per second: 1101\n"
     ]
    },
    {
     "name": "stderr",
     "output_type": "stream",
     "text": [
      "[I 2024-12-02 21:14:40,109] Trial 364 finished with value: 0.053295841443753614 and parameters: {'topK': 29, 'alpha': 0.4385765287911989, 'beta': 0.30338428897503417, 'normalize_similarity': True, 'implicit': False}. Best is trial 157 with value: 0.05401447501320864.\n"
     ]
    },
    {
     "name": "stdout",
     "output_type": "stream",
     "text": [
      "RP3betaRecommender: Similarity column 38121 (100.0%), 1734.85 column/sec. Elapsed time 21.97 sec\n",
      "EvaluatorHoldout: Processed 35595 (100.0%) in 35.78 sec. Users per second: 995\n"
     ]
    },
    {
     "name": "stderr",
     "output_type": "stream",
     "text": [
      "[I 2024-12-02 21:15:42,884] Trial 365 finished with value: 0.04865185162888331 and parameters: {'topK': 107, 'alpha': 0.2300756111622423, 'beta': 0.4014411489760491, 'normalize_similarity': True, 'implicit': False}. Best is trial 157 with value: 0.05401447501320864.\n"
     ]
    },
    {
     "name": "stdout",
     "output_type": "stream",
     "text": [
      "RP3betaRecommender: Similarity column 38121 (100.0%), 1845.71 column/sec. Elapsed time 20.65 sec\n",
      "EvaluatorHoldout: Processed 35595 (100.0%) in 33.26 sec. Users per second: 1070\n"
     ]
    },
    {
     "name": "stderr",
     "output_type": "stream",
     "text": [
      "[I 2024-12-02 21:16:39,715] Trial 366 finished with value: 0.049122770051971854 and parameters: {'topK': 67, 'alpha': 0.16574029517206776, 'beta': 0.05872257087740884, 'normalize_similarity': True, 'implicit': False}. Best is trial 157 with value: 0.05401447501320864.\n"
     ]
    },
    {
     "name": "stdout",
     "output_type": "stream",
     "text": [
      "RP3betaRecommender: Similarity column 38121 (100.0%), 2033.38 column/sec. Elapsed time 18.75 sec\n",
      "EvaluatorHoldout: Processed 35595 (100.0%) in 32.04 sec. Users per second: 1111\n"
     ]
    },
    {
     "name": "stderr",
     "output_type": "stream",
     "text": [
      "[I 2024-12-02 21:17:32,366] Trial 367 finished with value: 0.05120123434493252 and parameters: {'topK': 24, 'alpha': 0.2740236553982184, 'beta': 0.5003030684853551, 'normalize_similarity': True, 'implicit': False}. Best is trial 157 with value: 0.05401447501320864.\n"
     ]
    },
    {
     "name": "stdout",
     "output_type": "stream",
     "text": [
      "RP3betaRecommender: Similarity column 38121 (100.0%), 1929.24 column/sec. Elapsed time 19.76 sec\n",
      "EvaluatorHoldout: Processed 35595 (100.0%) in 32.36 sec. Users per second: 1100\n"
     ]
    },
    {
     "name": "stderr",
     "output_type": "stream",
     "text": [
      "[I 2024-12-02 21:18:26,329] Trial 368 finished with value: 0.01568138582866801 and parameters: {'topK': 49, 'alpha': 0.10640743904312513, 'beta': 1.7866867309361152, 'normalize_similarity': True, 'implicit': False}. Best is trial 157 with value: 0.05401447501320864.\n"
     ]
    },
    {
     "name": "stdout",
     "output_type": "stream",
     "text": [
      "RP3betaRecommender: Similarity column 38121 (100.0%), 1842.77 column/sec. Elapsed time 20.69 sec\n",
      "EvaluatorHoldout: Processed 35595 (100.0%) in 34.24 sec. Users per second: 1040\n"
     ]
    },
    {
     "name": "stderr",
     "output_type": "stream",
     "text": [
      "[I 2024-12-02 21:19:24,907] Trial 369 finished with value: 0.050276664057951524 and parameters: {'topK': 80, 'alpha': 0.35706360284706723, 'beta': 0.24074089692209635, 'normalize_similarity': True, 'implicit': False}. Best is trial 157 with value: 0.05401447501320864.\n"
     ]
    },
    {
     "name": "stdout",
     "output_type": "stream",
     "text": [
      "RP3betaRecommender: Similarity column 38121 (100.0%), 2889.16 column/sec. Elapsed time 13.19 sec\n",
      "EvaluatorHoldout: Processed 35595 (100.0%) in 26.93 sec. Users per second: 1322\n"
     ]
    },
    {
     "name": "stderr",
     "output_type": "stream",
     "text": [
      "[I 2024-12-02 21:20:05,981] Trial 370 finished with value: 0.019568725097380543 and parameters: {'topK': 1, 'alpha': 0.21696867728296915, 'beta': 0.1644428200725145, 'normalize_similarity': True, 'implicit': False}. Best is trial 157 with value: 0.05401447501320864.\n"
     ]
    },
    {
     "name": "stdout",
     "output_type": "stream",
     "text": [
      "RP3betaRecommender: Similarity column 38121 (100.0%), 1601.11 column/sec. Elapsed time 23.81 sec\n",
      "EvaluatorHoldout: Processed 35595 (100.0%) in 36.30 sec. Users per second: 981\n"
     ]
    },
    {
     "name": "stderr",
     "output_type": "stream",
     "text": [
      "[I 2024-12-02 21:21:11,911] Trial 371 finished with value: 0.04863991397935612 and parameters: {'topK': 132, 'alpha': 0.3029068616113587, 'beta': 0.33887713590784707, 'normalize_similarity': True, 'implicit': True}. Best is trial 157 with value: 0.05401447501320864.\n"
     ]
    },
    {
     "name": "stdout",
     "output_type": "stream",
     "text": [
      "RP3betaRecommender: Similarity column 38121 (100.0%), 2074.82 column/sec. Elapsed time 18.37 sec\n",
      "EvaluatorHoldout: Processed 35595 (100.0%) in 31.65 sec. Users per second: 1125\n"
     ]
    },
    {
     "name": "stderr",
     "output_type": "stream",
     "text": [
      "[I 2024-12-02 21:22:03,771] Trial 372 finished with value: 0.05262517475033113 and parameters: {'topK': 29, 'alpha': 0.1390454685629869, 'beta': 0.281505724839544, 'normalize_similarity': True, 'implicit': False}. Best is trial 157 with value: 0.05401447501320864.\n"
     ]
    },
    {
     "name": "stdout",
     "output_type": "stream",
     "text": [
      "RP3betaRecommender: Similarity column 38121 (100.0%), 582.02 column/sec. Elapsed time 1.09 min\n",
      "EvaluatorHoldout: Processed 35595 (100.0%) in 52.95 sec. Users per second: 672\n"
     ]
    },
    {
     "name": "stderr",
     "output_type": "stream",
     "text": [
      "[I 2024-12-02 21:24:41,805] Trial 373 finished with value: 0.04036642608534563 and parameters: {'topK': 1065, 'alpha': 0.43790001780988946, 'beta': 0.21688194461889, 'normalize_similarity': True, 'implicit': False}. Best is trial 157 with value: 0.05401447501320864.\n"
     ]
    },
    {
     "name": "stdout",
     "output_type": "stream",
     "text": [
      "RP3betaRecommender: Similarity column 38121 (100.0%), 2029.10 column/sec. Elapsed time 18.79 sec\n",
      "EvaluatorHoldout: Processed 35595 (100.0%) in 31.99 sec. Users per second: 1113\n"
     ]
    },
    {
     "name": "stderr",
     "output_type": "stream",
     "text": [
      "[I 2024-12-02 21:25:34,951] Trial 374 finished with value: 0.050812289714310795 and parameters: {'topK': 53, 'alpha': 0.2508048950280404, 'beta': 0.11060735902552066, 'normalize_similarity': True, 'implicit': False}. Best is trial 157 with value: 0.05401447501320864.\n"
     ]
    },
    {
     "name": "stdout",
     "output_type": "stream",
     "text": [
      "RP3betaRecommender: Similarity column 38121 (100.0%), 2183.78 column/sec. Elapsed time 17.46 sec\n",
      "EvaluatorHoldout: Processed 35595 (100.0%) in 30.90 sec. Users per second: 1152\n"
     ]
    },
    {
     "name": "stderr",
     "output_type": "stream",
     "text": [
      "[I 2024-12-02 21:26:24,905] Trial 375 finished with value: 0.05346936880291073 and parameters: {'topK': 25, 'alpha': 0.3750356730091816, 'beta': 0.16145447944393773, 'normalize_similarity': True, 'implicit': False}. Best is trial 157 with value: 0.05401447501320864.\n"
     ]
    },
    {
     "name": "stdout",
     "output_type": "stream",
     "text": [
      "RP3betaRecommender: Similarity column 38121 (100.0%), 2975.70 column/sec. Elapsed time 12.81 sec\n",
      "EvaluatorHoldout: Processed 35595 (100.0%) in 24.04 sec. Users per second: 1481\n"
     ]
    },
    {
     "name": "stderr",
     "output_type": "stream",
     "text": [
      "[I 2024-12-02 21:27:02,107] Trial 376 finished with value: 0.00028209999175022335 and parameters: {'topK': 0, 'alpha': 0.39009890588731255, 'beta': 0.15050177285633803, 'normalize_similarity': True, 'implicit': False}. Best is trial 157 with value: 0.05401447501320864.\n"
     ]
    },
    {
     "name": "stdout",
     "output_type": "stream",
     "text": [
      "RP3betaRecommender: Similarity column 38121 (100.0%), 1842.21 column/sec. Elapsed time 20.69 sec\n",
      "EvaluatorHoldout: Processed 35595 (100.0%) in 34.70 sec. Users per second: 1026\n"
     ]
    },
    {
     "name": "stderr",
     "output_type": "stream",
     "text": [
      "[I 2024-12-02 21:28:01,424] Trial 377 finished with value: 0.03765015262086352 and parameters: {'topK': 92, 'alpha': 2.8134718064505018, 'beta': 0.029750834822285993, 'normalize_similarity': True, 'implicit': False}. Best is trial 157 with value: 0.05401447501320864.\n"
     ]
    },
    {
     "name": "stdout",
     "output_type": "stream",
     "text": [
      "RP3betaRecommender: Similarity column 38121 (100.0%), 899.42 column/sec. Elapsed time 42.38 sec\n",
      "EvaluatorHoldout: Processed 35595 (100.0%) in 44.24 sec. Users per second: 805\n"
     ]
    },
    {
     "name": "stderr",
     "output_type": "stream",
     "text": [
      "[I 2024-12-02 21:29:47,963] Trial 378 finished with value: 0.041459621803488646 and parameters: {'topK': 535, 'alpha': 0.3482056472709762, 'beta': 0.17482145227315526, 'normalize_similarity': True, 'implicit': False}. Best is trial 157 with value: 0.05401447501320864.\n"
     ]
    },
    {
     "name": "stdout",
     "output_type": "stream",
     "text": [
      "RP3betaRecommender: Similarity column 38121 (100.0%), 1984.11 column/sec. Elapsed time 19.21 sec\n",
      "EvaluatorHoldout: Processed 35595 (100.0%) in 31.99 sec. Users per second: 1113\n"
     ]
    },
    {
     "name": "stderr",
     "output_type": "stream",
     "text": [
      "[I 2024-12-02 21:30:41,325] Trial 379 finished with value: 0.014110171305494038 and parameters: {'topK': 60, 'alpha': 0.521741247370715, 'beta': 2.0653239157724705, 'normalize_similarity': True, 'implicit': False}. Best is trial 157 with value: 0.05401447501320864.\n"
     ]
    },
    {
     "name": "stdout",
     "output_type": "stream",
     "text": [
      "RP3betaRecommender: Similarity column 38121 (100.0%), 539.76 column/sec. Elapsed time 1.18 min\n",
      "EvaluatorHoldout: Processed 35595 (100.0%) in 54.28 sec. Users per second: 656\n"
     ]
    },
    {
     "name": "stderr",
     "output_type": "stream",
     "text": [
      "[I 2024-12-02 21:33:26,518] Trial 380 finished with value: 0.030506566376139816 and parameters: {'topK': 1151, 'alpha': 0.43292120729999467, 'beta': 0.0009728628869148936, 'normalize_similarity': False, 'implicit': True}. Best is trial 157 with value: 0.05401447501320864.\n"
     ]
    },
    {
     "name": "stdout",
     "output_type": "stream",
     "text": [
      "RP3betaRecommender: Similarity column 38121 (100.0%), 2050.66 column/sec. Elapsed time 18.59 sec\n",
      "EvaluatorHoldout: Processed 35595 (100.0%) in 32.12 sec. Users per second: 1108\n"
     ]
    },
    {
     "name": "stderr",
     "output_type": "stream",
     "text": [
      "[I 2024-12-02 21:34:19,226] Trial 381 finished with value: 0.04830279578235552 and parameters: {'topK': 31, 'alpha': 1.4397217548618328, 'beta': 0.12107215552523035, 'normalize_similarity': True, 'implicit': False}. Best is trial 157 with value: 0.05401447501320864.\n"
     ]
    },
    {
     "name": "stdout",
     "output_type": "stream",
     "text": [
      "RP3betaRecommender: Similarity column 38121 (100.0%), 1861.04 column/sec. Elapsed time 20.48 sec\n",
      "EvaluatorHoldout: Processed 35595 (100.0%) in 33.89 sec. Users per second: 1050\n"
     ]
    },
    {
     "name": "stderr",
     "output_type": "stream",
     "text": [
      "[I 2024-12-02 21:35:17,064] Trial 382 finished with value: 0.05015227638088818 and parameters: {'topK': 79, 'alpha': 0.3033834335956107, 'beta': 0.21545529187814044, 'normalize_similarity': True, 'implicit': False}. Best is trial 157 with value: 0.05401447501320864.\n"
     ]
    },
    {
     "name": "stdout",
     "output_type": "stream",
     "text": [
      "RP3betaRecommender: Similarity column 38121 (100.0%), 2140.82 column/sec. Elapsed time 17.81 sec\n",
      "EvaluatorHoldout: Processed 35595 (100.0%) in 31.01 sec. Users per second: 1148\n"
     ]
    },
    {
     "name": "stderr",
     "output_type": "stream",
     "text": [
      "[I 2024-12-02 21:36:07,516] Trial 383 finished with value: 0.052948747706225825 and parameters: {'topK': 26, 'alpha': 0.4841936704212523, 'beta': 0.08673217997606919, 'normalize_similarity': True, 'implicit': False}. Best is trial 157 with value: 0.05401447501320864.\n"
     ]
    },
    {
     "name": "stdout",
     "output_type": "stream",
     "text": [
      "RP3betaRecommender: Similarity column 38121 (100.0%), 2040.88 column/sec. Elapsed time 18.68 sec\n",
      "EvaluatorHoldout: Processed 35595 (100.0%) in 32.44 sec. Users per second: 1097\n"
     ]
    },
    {
     "name": "stderr",
     "output_type": "stream",
     "text": [
      "[I 2024-12-02 21:37:01,114] Trial 384 finished with value: 0.05225343424816452 and parameters: {'topK': 46, 'alpha': 0.3688899612016677, 'beta': 0.2581959002480274, 'normalize_similarity': True, 'implicit': False}. Best is trial 157 with value: 0.05401447501320864.\n"
     ]
    },
    {
     "name": "stdout",
     "output_type": "stream",
     "text": [
      "RP3betaRecommender: Similarity column 38121 (100.0%), 1747.70 column/sec. Elapsed time 21.81 sec\n",
      "EvaluatorHoldout: Processed 35595 (100.0%) in 34.76 sec. Users per second: 1024\n"
     ]
    },
    {
     "name": "stderr",
     "output_type": "stream",
     "text": [
      "[I 2024-12-02 21:38:02,228] Trial 385 finished with value: 0.048780208117332434 and parameters: {'topK': 107, 'alpha': 0.5889968732424947, 'beta': 0.17538657127245952, 'normalize_similarity': True, 'implicit': False}. Best is trial 157 with value: 0.05401447501320864.\n"
     ]
    },
    {
     "name": "stdout",
     "output_type": "stream",
     "text": [
      "RP3betaRecommender: Similarity column 38121 (100.0%), 2179.86 column/sec. Elapsed time 17.49 sec\n",
      "EvaluatorHoldout: Processed 35595 (100.0%) in 30.80 sec. Users per second: 1156\n"
     ]
    },
    {
     "name": "stderr",
     "output_type": "stream",
     "text": [
      "[I 2024-12-02 21:38:52,115] Trial 386 finished with value: 0.05353814406785143 and parameters: {'topK': 23, 'alpha': 0.19589111550728994, 'beta': 0.2585103678502165, 'normalize_similarity': True, 'implicit': False}. Best is trial 157 with value: 0.05401447501320864.\n"
     ]
    },
    {
     "name": "stdout",
     "output_type": "stream",
     "text": [
      "RP3betaRecommender: Similarity column 38121 (100.0%), 1943.08 column/sec. Elapsed time 19.62 sec\n",
      "EvaluatorHoldout: Processed 35595 (100.0%) in 33.29 sec. Users per second: 1069\n"
     ]
    },
    {
     "name": "stderr",
     "output_type": "stream",
     "text": [
      "[I 2024-12-02 21:39:48,141] Trial 387 finished with value: 0.050193398172115385 and parameters: {'topK': 71, 'alpha': 0.19091402147928405, 'beta': 0.21841830900140902, 'normalize_similarity': True, 'implicit': False}. Best is trial 157 with value: 0.05401447501320864.\n"
     ]
    },
    {
     "name": "stdout",
     "output_type": "stream",
     "text": [
      "RP3betaRecommender: Similarity column 38121 (100.0%), 2235.46 column/sec. Elapsed time 17.05 sec\n",
      "EvaluatorHoldout: Processed 35595 (100.0%) in 26.99 sec. Users per second: 1319\n"
     ]
    },
    {
     "name": "stderr",
     "output_type": "stream",
     "text": [
      "[I 2024-12-02 21:40:33,102] Trial 388 finished with value: 0.028311644225044594 and parameters: {'topK': 2, 'alpha': 2.5813288861691883, 'beta': 0.09144742168517625, 'normalize_similarity': True, 'implicit': True}. Best is trial 157 with value: 0.05401447501320864.\n"
     ]
    },
    {
     "name": "stdout",
     "output_type": "stream",
     "text": [
      "RP3betaRecommender: Similarity column 38121 (100.0%), 2083.58 column/sec. Elapsed time 18.30 sec\n",
      "EvaluatorHoldout: Processed 35595 (100.0%) in 31.20 sec. Users per second: 1141\n"
     ]
    },
    {
     "name": "stderr",
     "output_type": "stream",
     "text": [
      "[I 2024-12-02 21:41:24,546] Trial 389 finished with value: 0.05159589473285016 and parameters: {'topK': 38, 'alpha': 0.07996474559461464, 'beta': 0.15820023625256757, 'normalize_similarity': True, 'implicit': False}. Best is trial 157 with value: 0.05401447501320864.\n"
     ]
    },
    {
     "name": "stdout",
     "output_type": "stream",
     "text": [
      "RP3betaRecommender: Similarity column 38121 (100.0%), 613.84 column/sec. Elapsed time 1.04 min\n",
      "EvaluatorHoldout: Processed 35595 (100.0%) in 51.85 sec. Users per second: 686\n"
     ]
    },
    {
     "name": "stderr",
     "output_type": "stream",
     "text": [
      "[I 2024-12-02 21:43:55,943] Trial 390 finished with value: 0.04013109563720465 and parameters: {'topK': 978, 'alpha': 0.16170799008786846, 'beta': 0.2526821972827118, 'normalize_similarity': True, 'implicit': False}. Best is trial 157 with value: 0.05401447501320864.\n"
     ]
    },
    {
     "name": "stdout",
     "output_type": "stream",
     "text": [
      "RP3betaRecommender: Similarity column 38121 (100.0%), 1973.82 column/sec. Elapsed time 19.31 sec\n",
      "EvaluatorHoldout: Processed 35595 (100.0%) in 32.49 sec. Users per second: 1095\n"
     ]
    },
    {
     "name": "stderr",
     "output_type": "stream",
     "text": [
      "[I 2024-12-02 21:44:50,401] Trial 391 finished with value: 0.04980981701103725 and parameters: {'topK': 59, 'alpha': 0.01925117880860261, 'beta': 0.19322967085354753, 'normalize_similarity': True, 'implicit': False}. Best is trial 157 with value: 0.05401447501320864.\n"
     ]
    },
    {
     "name": "stdout",
     "output_type": "stream",
     "text": [
      "RP3betaRecommender: Similarity column 38121 (100.0%), 2206.49 column/sec. Elapsed time 17.28 sec\n",
      "EvaluatorHoldout: Processed 35595 (100.0%) in 31.27 sec. Users per second: 1138\n"
     ]
    },
    {
     "name": "stderr",
     "output_type": "stream",
     "text": [
      "[I 2024-12-02 21:45:40,806] Trial 392 finished with value: 0.0534893711663606 and parameters: {'topK': 25, 'alpha': 0.2774999169071516, 'beta': 0.2965972161267168, 'normalize_similarity': True, 'implicit': False}. Best is trial 157 with value: 0.05401447501320864.\n"
     ]
    },
    {
     "name": "stdout",
     "output_type": "stream",
     "text": [
      "RP3betaRecommender: Similarity column 38121 (100.0%), 1807.22 column/sec. Elapsed time 21.09 sec\n",
      "EvaluatorHoldout: Processed 35595 (100.0%) in 34.13 sec. Users per second: 1043\n"
     ]
    },
    {
     "name": "stderr",
     "output_type": "stream",
     "text": [
      "[I 2024-12-02 21:46:40,131] Trial 393 finished with value: 0.04972694800633925 and parameters: {'topK': 90, 'alpha': 0.28005438892598034, 'beta': 0.29431036227958046, 'normalize_similarity': True, 'implicit': False}. Best is trial 157 with value: 0.05401447501320864.\n"
     ]
    },
    {
     "name": "stdout",
     "output_type": "stream",
     "text": [
      "RP3betaRecommender: Similarity column 38121 (100.0%), 2160.31 column/sec. Elapsed time 17.65 sec\n",
      "EvaluatorHoldout: Processed 35595 (100.0%) in 31.44 sec. Users per second: 1132\n"
     ]
    },
    {
     "name": "stderr",
     "output_type": "stream",
     "text": [
      "[I 2024-12-02 21:47:30,993] Trial 394 finished with value: 0.05357472179300914 and parameters: {'topK': 24, 'alpha': 0.3292427555487671, 'beta': 0.3036181869990583, 'normalize_similarity': True, 'implicit': False}. Best is trial 157 with value: 0.05401447501320864.\n"
     ]
    },
    {
     "name": "stdout",
     "output_type": "stream",
     "text": [
      "RP3betaRecommender: Similarity column 38121 (100.0%), 1990.58 column/sec. Elapsed time 19.15 sec\n",
      "EvaluatorHoldout: Processed 35595 (100.0%) in 33.18 sec. Users per second: 1073\n"
     ]
    },
    {
     "name": "stderr",
     "output_type": "stream",
     "text": [
      "[I 2024-12-02 21:48:26,082] Trial 395 finished with value: 0.05118472921780808 and parameters: {'topK': 51, 'alpha': 0.25458734134160926, 'beta': 0.3669850567727986, 'normalize_similarity': True, 'implicit': False}. Best is trial 157 with value: 0.05401447501320864.\n"
     ]
    },
    {
     "name": "stdout",
     "output_type": "stream",
     "text": [
      "RP3betaRecommender: Similarity column 38121 (100.0%), 2973.56 column/sec. Elapsed time 12.82 sec\n",
      "EvaluatorHoldout: Processed 35595 (100.0%) in 26.38 sec. Users per second: 1349\n"
     ]
    },
    {
     "name": "stderr",
     "output_type": "stream",
     "text": [
      "[I 2024-12-02 21:49:06,169] Trial 396 finished with value: 0.01891667837243029 and parameters: {'topK': 1, 'alpha': 0.30169250438921685, 'beta': 0.2999565394814127, 'normalize_similarity': True, 'implicit': False}. Best is trial 157 with value: 0.05401447501320864.\n"
     ]
    },
    {
     "name": "stdout",
     "output_type": "stream",
     "text": [
      "RP3betaRecommender: Similarity column 38121 (100.0%), 1651.61 column/sec. Elapsed time 23.08 sec\n",
      "EvaluatorHoldout: Processed 35595 (100.0%) in 33.07 sec. Users per second: 1076\n"
     ]
    },
    {
     "name": "stderr",
     "output_type": "stream",
     "text": [
      "[I 2024-12-02 21:50:05,466] Trial 397 finished with value: 0.009135849292191632 and parameters: {'topK': 126, 'alpha': 0.24192663662594227, 'beta': 2.8819160986978027, 'normalize_similarity': True, 'implicit': True}. Best is trial 157 with value: 0.05401447501320864.\n"
     ]
    },
    {
     "name": "stdout",
     "output_type": "stream",
     "text": [
      "RP3betaRecommender: Similarity column 38121 (100.0%), 2137.28 column/sec. Elapsed time 17.84 sec\n",
      "EvaluatorHoldout: Processed 35595 (100.0%) in 31.64 sec. Users per second: 1125\n"
     ]
    },
    {
     "name": "stderr",
     "output_type": "stream",
     "text": [
      "[I 2024-12-02 21:50:56,921] Trial 398 finished with value: 0.05269745282576961 and parameters: {'topK': 24, 'alpha': 0.378008284189379, 'beta': 0.4096853615456596, 'normalize_similarity': True, 'implicit': False}. Best is trial 157 with value: 0.05401447501320864.\n"
     ]
    },
    {
     "name": "stdout",
     "output_type": "stream",
     "text": [
      "RP3betaRecommender: Similarity column 38121 (100.0%), 2957.96 column/sec. Elapsed time 12.89 sec\n",
      "EvaluatorHoldout: Processed 35595 (100.0%) in 24.53 sec. Users per second: 1451\n"
     ]
    },
    {
     "name": "stderr",
     "output_type": "stream",
     "text": [
      "[I 2024-12-02 21:51:34,685] Trial 399 finished with value: 0.00028209999175022335 and parameters: {'topK': 0, 'alpha': 0.21811192522482473, 'beta': 0.2908549370962416, 'normalize_similarity': True, 'implicit': False}. Best is trial 157 with value: 0.05401447501320864.\n"
     ]
    }
   ],
   "source": [
    "if config['tune_parameters']:\n",
    "    \n",
    "    optuna_study = optuna.create_study(direction='maximize', study_name=f'hyperparameters_tuning_{config[\"model\"]}',\n",
    "                                storage=f'sqlite:///{config[\"database_path\"]}', load_if_exists=True)\n",
    "\n",
    "    optuna_study.optimize(objective_function_RP3beta, n_trials=200)"
   ]
  },
  {
   "cell_type": "markdown",
   "id": "7bb5be81",
   "metadata": {
    "papermill": {
     "duration": 0.043538,
     "end_time": "2024-12-02T21:51:34.782905",
     "exception": false,
     "start_time": "2024-12-02T21:51:34.739367",
     "status": "completed"
    },
    "tags": []
   },
   "source": [
    "## Some optuna visualizations on recommender parameters"
   ]
  },
  {
   "cell_type": "code",
   "execution_count": 14,
   "id": "77a37bc8",
   "metadata": {
    "execution": {
     "iopub.execute_input": "2024-12-02T21:51:34.876197Z",
     "iopub.status.busy": "2024-12-02T21:51:34.875484Z",
     "iopub.status.idle": "2024-12-02T21:51:36.372764Z",
     "shell.execute_reply": "2024-12-02T21:51:36.371642Z"
    },
    "papermill": {
     "duration": 1.548653,
     "end_time": "2024-12-02T21:51:36.375106",
     "exception": false,
     "start_time": "2024-12-02T21:51:34.826453",
     "status": "completed"
    },
    "tags": []
   },
   "outputs": [
    {
     "data": {
      "text/html": [
       "        <script type=\"text/javascript\">\n",
       "        window.PlotlyConfig = {MathJaxConfig: 'local'};\n",
       "        if (window.MathJax && window.MathJax.Hub && window.MathJax.Hub.Config) {window.MathJax.Hub.Config({SVG: {font: \"STIX-Web\"}});}\n",
       "        if (typeof require !== 'undefined') {\n",
       "        require.undef(\"plotly\");\n",
       "        requirejs.config({\n",
       "            paths: {\n",
       "                'plotly': ['https://cdn.plot.ly/plotly-2.32.0.min']\n",
       "            }\n",
       "        });\n",
       "        require(['plotly'], function(Plotly) {\n",
       "            window._Plotly = Plotly;\n",
       "        });\n",
       "        }\n",
       "        </script>\n",
       "        "
      ]
     },
     "metadata": {},
     "output_type": "display_data"
    },
    {
     "data": {
      "text/html": [
       "<div>                            <div id=\"35079d59-a01f-45b0-96e4-0e1cb297b9ae\" class=\"plotly-graph-div\" style=\"height:525px; width:1500px;\"></div>            <script type=\"text/javascript\">                require([\"plotly\"], function(Plotly) {                    window.PLOTLYENV=window.PLOTLYENV || {};                                    if (document.getElementById(\"35079d59-a01f-45b0-96e4-0e1cb297b9ae\")) {                    Plotly.newPlot(                        \"35079d59-a01f-45b0-96e4-0e1cb297b9ae\",                        [{\"marker\":{\"color\":[0,1,2,3,4,5,6,7,8,9,10,11,12,13,14,15,16,17,18,19,20,21,22,23,24,25,26,27,28,29,30,31,32,33,34,35,36,37,38,39,40,41,42,43,44,45,46,47,48,49,50,51,52,53,54,55,56,57,58,59,60,61,62,63,64,65,66,67,68,69,70,71,72,73,74,75,76,77,78,79,80,81,82,83,84,85,86,87,88,89,90,91,92,93,94,95,96,97,98,99,100,101,102,103,104,105,106,107,108,109,110,111,112,113,114,115,116,117,118,119,120,121,122,123,124,125,126,127,128,129,130,131,132,133,134,135,136,137,138,139,140,141,142,143,144,145,146,147,148,149,150,151,152,153,154,155,156,157,158,159,160,161,162,163,164,165,166,167,168,169,170,171,172,173,174,175,176,177,178,179,180,181,182,183,184,185,186,187,188,189,190,191,192,193,194,195,196,197,198,199,200,201,202,203,204,205,206,207,208,209,210,211,212,213,214,215,216,217,218,219,220,221,222,223,224,225,226,227,228,229,230,231,232,233,234,235,236,237,238,239,240,241,242,243,244,245,246,247,248,249,250,251,252,253,254,255,256,257,258,259,260,261,262,263,264,265,266,267,268,269,270,271,272,273,274,275,276,277,278,279,280,281,282,283,284,285,286,287,288,289,290,291,292,293,294,295,296,297,298,299,300,301,302,303,304,305,306,307,308,309,310,311,312,313,314,315,316,317,318,319,320,321,322,323,324,325,326,327,328,329,330,331,332,333,334,335,336,337,338,339,340,341,342,343,344,345,346,347,348,349,350,351,352,353,354,355,356,357,358,359,360,361,362,363,364,365,366,367,368,369,370,371,372,373,374,375,376,377,378,379,380,381,382,383,384,385,386,387,388,389,390,391,392,393,394,395,396,397,398,399],\"colorbar\":{\"title\":{\"text\":\"Trial\"},\"x\":1.0,\"xpad\":40},\"colorscale\":[[0.0,\"rgb(247,251,255)\"],[0.125,\"rgb(222,235,247)\"],[0.25,\"rgb(198,219,239)\"],[0.375,\"rgb(158,202,225)\"],[0.5,\"rgb(107,174,214)\"],[0.625,\"rgb(66,146,198)\"],[0.75,\"rgb(33,113,181)\"],[0.875,\"rgb(8,81,156)\"],[1.0,\"rgb(8,48,107)\"]],\"line\":{\"color\":\"Grey\",\"width\":0.5},\"showscale\":true},\"mode\":\"markers\",\"name\":\"Feasible Trial\",\"showlegend\":false,\"x\":[0.06938129724222086,2.371255680611651,2.8186757745871986,0.44411119641106134,2.65772703585949,2.648281312455077,1.292254991742394,0.7583748718960671,2.9262580427681653,2.661376794029957,1.8806760738987958,1.9919562217990499,1.930785392678299,1.8844259008185482,1.419568302222062,1.2826568224150903,1.2392019323561194,0.8812039432120247,0.9148390313904293,0.835013219359038,1.6180844794928608,1.1827832816594928,0.5065451618587894,0.4658118441275824,0.374045087096221,0.41924858846546237,0.022735482136226837,0.42843071479513806,0.6123041171126009,0.20633074525032313,0.6415642570973924,0.9476707892177318,0.17075752269386646,0.2739982430485612,0.2019940894001882,0.23113020024048925,0.31639246231517926,0.5916002180174589,0.09724517169955155,1.0549118216716136,0.7082512743762734,0.2064105611779245,0.29589955979317667,0.5329789717406903,0.3236693529400789,0.0006198122422005348,0.4590885610334876,0.2922800833881636,0.7514608747679974,2.275595516540088,0.10933046036538663,0.26315437195973096,0.521569445565168,0.13522089137223636,0.39042054859392084,0.2643535208947848,0.5402820305465224,0.711754132652396,1.0972539343498824,0.8027993908091999,0.6533761954878698,0.5301935012368035,0.554489058142531,1.7132885335915051,0.4080869077260763,0.7018096105858859,0.9811162196299656,1.0075110179377667,0.8463553913326246,0.8600003939562066,0.9615588024692193,1.37937549572273,1.3529318084633557,1.2274540156231777,0.7015334493962782,1.545909879072728,0.9674470904263668,1.1356811116701835,1.3626142509706676,0.6949638836249208,0.8949319854320412,0.907703870942518,0.8109394339001105,1.0547381395185966,0.7667087203490479,0.7490875816425666,0.6470458864171513,0.6571789969434795,0.6627171941051234,0.6092627517273463,0.6066873926029952,0.7749024863195357,0.7974718073992941,0.7917124741276657,0.44997063368331935,0.44140327039487814,0.4622187186895268,0.3763014514896862,0.6273888968477916,0.447625270274625,0.5782164575412156,0.3650604020313712,0.3733732905962485,0.37463634757885317,0.31706755366606404,0.33459408427042225,0.34190841565997043,0.1832933271038561,0.05461063744847933,0.17022633963538272,0.3311561092064421,0.5077512782313978,0.22260271322262992,0.39681256295973627,0.4753785252325971,0.13077760742589262,0.26471044626994433,0.3532816322939277,0.5853114868096579,0.4073062417515624,0.06300929952975703,0.5503653599766366,0.4961036115946525,0.5712386513814817,0.3108094451503901,0.18509095661181502,2.7802831159681345,0.4479117530632486,0.25963215917154364,2.2600585704792553,0.562133817066131,0.6250573106105788,0.501876251106765,0.380065565185371,0.3738744972841359,0.3167983056534002,0.4333805973743398,0.223633149134855,0.12997011328143537,0.36432647724467515,0.37578312010447307,0.5122981172817976,0.5443308192678542,0.28698680315701985,0.2656761803004948,0.3277617934659224,0.17105733583230504,0.18265010539478824,0.0015838067577997883,0.08030898965129339,0.08215111407656647,0.07756651729178146,0.09971192520895295,0.06553040724407316,0.16253628745385595,0.15332274905520904,0.07225221546971848,0.20481399017918037,0.21701130367810834,0.14144727603042617,0.03244193248186478,0.2722520258019199,0.2751873347902815,0.2678523124150825,0.2308188865709454,0.21888038804496024,0.10618897742031479,0.11733715102422207,0.2723370845704556,0.0972203376162209,0.03568757328765024,0.17687548559018784,0.17073920049264613,0.17005543811458967,0.1745662978981046,0.11472406962476638,0.23741005141094523,0.01966537959179679,0.15623766052050234,0.23820334128923315,0.09421519133507061,0.29017235548003373,0.27269466994006586,0.2694480209854036,0.1922398279975257,0.18619574448871196,0.25827716426341746,0.2899484492887308,0.18781559551370625,0.2139754044170969,0.3057178846956026,0.1449014873082219,0.14399663735447793,0.22369766638096544,0.1383475193253896,0.29250155455584637,0.16130830130260276,0.0062757234876637535,0.1824370277220093,0.12719710168567624,0.19650104473063618,0.25536345544024486,0.2396270346862096,0.3192195199129453,0.1605453844824187,0.07590037075741661,0.21044254629264614,0.30187469927127786,0.1330581532587535,0.23755981458405875,0.2521510521476276,0.3411577651959279,0.3268884577721304,0.35026555789838787,0.3265288706135913,0.24543163249369657,0.2877282179320679,0.3971913042330022,0.2098434122211318,1.7206292623010406,2.0290242870397073,0.40540292018859525,0.34512703048684396,0.3280255142040286,0.2509091148995109,0.09394849919750137,0.17825588854278587,0.278651853410515,0.3483191589644302,0.2853535320300322,2.9848818912643615,0.21563538721102657,0.15027754935646984,0.21167202084645045,0.30348420650020774,0.09851159812371271,0.41425285021311226,0.17875856774259477,0.2644708475072447,0.36089995343508247,0.04846055284805122,0.21983169822071902,0.242316834204869,0.14529278517164906,0.2916823658811426,0.217583515770827,0.1301048093084369,0.34165734043783313,0.3571823038629658,0.30979676310809273,0.4364292452683771,0.2025769513488516,0.2707928526107512,0.34777698886567515,0.29547671016630744,0.40282675634425774,2.4838191911632372,0.26036021610176246,0.24989068252427127,0.3583136565472801,0.19574066784330613,0.46199654128049544,0.29274318269370314,0.20056657939626718,0.3294156447560092,0.4094468826564734,0.35190128573454715,0.1779056427902332,0.16637975078565628,0.19738550682744715,0.23349393666199866,0.09704333690011309,0.16743994111911364,0.24513652213986925,0.11487511241687295,0.19176243035968016,0.26354698637376694,0.001066622652965754,0.1315065469598929,0.3106349945556337,0.2305590034653075,0.07224144749943986,0.196157578555462,0.32333238101869477,0.15531953394652045,0.2530621007141632,0.479618702478168,0.4599918064057106,0.3986046462789537,0.49683398731515577,0.4142435777214332,0.3934932490927777,0.35315512548381695,0.4652647269090929,0.32598905220326113,0.4040555028400883,0.30518419413644254,0.4840043921336642,0.5462186176718185,0.47706027289632663,1.5103390430943606,0.384054103077481,0.48579127483258533,0.28252717737674676,0.4279707106275096,0.3968960075439675,0.2578700543985892,0.06917673419221007,0.3494614316821119,0.15093220687886327,0.43145872845629674,0.22665172689662996,0.29129915766478376,0.13030960329829464,0.20942362228930095,0.3405401692997822,0.2592563156377122,0.059403337969786155,0.1765108085836368,0.25073322651348023,0.11569154511975377,0.4431456062453492,0.3623006243371645,1.296172122597043,0.21171080632990721,0.2722225886359029,0.2735789550900306,0.35033486597475466,0.3124009206532594,0.4098050238883344,0.2380087515008862,0.22766277086946765,0.29763876392648214,0.5133640395465481,0.17613964214669672,0.3769889719709881,0.10303482686265063,0.24397984360531533,1.6565401841613379,0.4379862973502103,1.8232450715313262,0.305122999883224,0.17429728174239129,0.24560809876100043,0.048417423061169765,2.114703297709883,0.35583285374919826,0.12188262125614271,0.305369046953456,0.2134762425717942,0.4779468467291696,0.17050808534838574,0.4025121245129347,0.28345342914696386,0.33585132342546675,0.22654959560011828,1.1597385584163953,0.11884172082607379,0.5366098540859376,0.18159965250793356,0.27087093244972893,0.38900977411448456,0.053840039360932616,0.3315393138884987,0.4385765287911989,0.2300756111622423,0.16574029517206776,0.2740236553982184,0.10640743904312513,0.35706360284706723,0.21696867728296915,0.3029068616113587,0.1390454685629869,0.43790001780988946,0.2508048950280404,0.3750356730091816,0.39009890588731255,2.8134718064505018,0.3482056472709762,0.521741247370715,0.43292120729999467,1.4397217548618328,0.3033834335956107,0.4841936704212523,0.3688899612016677,0.5889968732424947,0.19589111550728994,0.19091402147928405,2.5813288861691883,0.07996474559461464,0.16170799008786846,0.01925117880860261,0.2774999169071516,0.28005438892598034,0.3292427555487671,0.25458734134160926,0.30169250438921685,0.24192663662594227,0.378008284189379,0.21811192522482473],\"y\":[0.007690281094410925,0.014469873823013657,0.013573137612960898,0.008924297152489465,0.006255244739652682,0.015284872585547199,0.0125617205912194,0.030369586641604482,0.031518091536843366,0.011183957752225967,0.04060552467463382,0.04075160034515132,0.04190627919473087,0.03193688920996045,0.04256307623016273,0.04239784881504089,0.018958664160518335,0.045300126868182584,0.014686972265143731,0.032115817943040074,0.006976451347500675,0.044445633973023854,0.0469401255749742,0.04569320196121547,0.02397848257624871,0.04722735046165127,0.04526143653134644,0.04511583578039391,0.022331313252931147,0.011015072564588215,0.03883306688784867,0.04417558311426664,0.04643481004332083,0.04688176398058251,0.031773151213942544,0.04672474286338416,0.041408640414538775,0.044796698751606294,0.026181038000253516,0.03565628421148766,0.041158685565342065,0.046913921386317656,0.047908246877903744,0.031124931716376304,0.04206558683781447,0.04311270978401059,0.016132052165343656,0.013049731659297929,0.03561248793191384,0.02893719021531857,0.04383458529265356,0.04512453372040241,0.00028209999175022335,0.0453105238162111,0.040036057097370535,0.04669298679812608,0.04827584130997334,0.04850664775906888,0.02502660218462957,0.04681197198643294,0.01900801789086661,0.04709185122754249,0.03409142201619964,0.03557113425507748,0.051379680354604974,0.051635156979866606,0.05032382490852609,0.043989015534104677,0.048346366865328644,0.0477486449184702,0.04949848716936618,0.0482561421815512,0.04918339253105198,0.0403882969116837,0.05020223212195237,0.04609927937087463,0.04681712921156513,0.042118980728966346,0.04727425935959277,0.04666603455541334,0.048335628777894206,0.04582550273468747,0.04824088232474075,0.013630629636318971,0.05046142895047078,0.047684268791093755,0.0514501089193443,0.05209358813994126,0.011162040102832593,0.052120791220452205,0.048767088743066934,0.0510442790029793,0.05064734100785326,0.04718271582641412,0.05154169258657075,0.051892855470603495,0.045365336891884,0.04283332441465471,0.04703403478729877,0.04614372113971604,0.05206425684006616,0.05203780850261918,0.05197371442841115,0.05208686680178294,0.0522386270142257,0.052604010729166976,0.046504350084837276,0.05258412653819152,0.05134388078403931,0.047756126573866145,0.04293335072475257,0.04707153782522357,0.04524010305531437,0.04912370874275444,0.00028209999175022335,0.049632166993311376,0.04977008207412561,0.041465544920031044,0.047918962668644795,0.04835917520072403,0.04856325125920413,0.05310638532699007,0.047694547566648864,0.04210566402896622,0.049467193760491586,0.04937924445425327,0.034408866725974846,0.050787777844666246,0.03950921633812344,0.02352481064533301,0.024618541484112053,0.05142130939560146,0.04944538647972961,0.05150252733017,0.052160710105082685,0.04945959281778748,0.00028209999175022335,0.04047106669609666,0.04860987587430744,0.05319493664394451,0.04609406194467145,0.053252171140496435,0.00028209999175022335,0.05326754359560769,0.014185831789287687,0.05269300797998477,0.05320658220679112,0.049886842052453285,0.047728187702480045,0.052885774040850174,0.05314601212494,0.0529355904275818,0.04926120799024129,0.00028209999175022335,0.05303365462867992,0.04933083610369535,0.047559488692230235,0.05401447501320864,0.00028209999175022335,0.050381820837149656,0.04776268849066837,0.05301892320349807,0.0535771209171949,0.05353533356967648,0.05314066203341206,0.050152818190532314,0.0534045155263004,0.03524834279827832,0.00028209999175022335,0.04785950519178328,0.04952430228072687,0.05385784297330661,0.053352031340230165,0.053296438995130535,0.00028209999175022335,0.048625488018870074,0.05099231990403315,0.052261692943317624,0.04002690653449031,0.009091148881709506,0.049185168462663645,0.05320589769831069,0.05317205689224032,0.05110382120727491,0.05347483372240894,0.03661419585861113,0.051523282207014034,0.04948997763641507,0.052436122203713895,0.05025239968160137,0.04612652592993778,0.053153239598033246,0.0369828627616226,0.00028209999175022335,0.0523960360938851,0.05133811262951408,0.053473150322073726,0.04766777258264647,0.03597879250028289,0.05283782611700672,0.04862230962525786,0.053320063456386964,0.04419585192319936,0.040356255448752903,0.05123142295266003,0.052449312927397934,0.00028209999175022335,0.0497716996992158,0.051065542244427824,0.05334106471169095,0.04994681681259687,0.05348404671602969,0.05322324006626401,0.018964271778852283,0.0515623337502798,0.05305427795503473,0.05095058718341279,0.04974734167675422,0.05287316749052758,0.00028209999175022335,0.04229040662479173,0.052999576362827795,0.05384330775902465,0.00028209999175022335,0.05079511457155612,0.05227159267508859,0.04862934311712029,0.053519858549776804,0.05167091976088856,0.05297230973674119,0.004981606342963267,0.05320602924880034,0.018944715349266415,0.05079512571990252,0.04102153526110405,0.051562893397278466,0.05304239047306688,0.04035096555829633,0.05300222966931586,0.019390931265983694,0.05031532094974822,0.05299260195720197,0.051725830942011136,0.00028209999175022335,0.04962059946889081,0.05315449713152867,0.05109527376994528,0.053419665014479874,0.05023342296603825,0.05304479740109567,0.04982658858364573,0.04975618454526842,0.053625829158275566,0.043968064446360304,0.00028209999175022335,0.051252088642731806,0.03794168522866248,0.00028209999175022335,0.0524915083044014,0.04955681977805703,0.05353056876634454,0.045612598300544475,0.05160953027556286,0.00028209999175022335,0.053362140660916844,0.05047584153294045,0.051622822449200766,0.05374735728443915,0.01110300180380277,0.0496488460346428,0.053883163098079064,0.03674964938449845,0.05080772335154785,0.04806894471980696,0.05284764781035148,0.05096302539370193,0.04961402863341146,0.05267334898561028,0.05064003549633367,0.03641520679067971,0.043672820553981924,0.00028209999175022335,0.011915784275034457,0.052371412740774455,0.05007980432421891,0.03369829564077246,0.05352380506446893,0.05140627139088826,0.05353344281009488,0.04711695507439128,0.01920249745260262,0.014953108939413536,0.02113154937491193,0.050415602556982984,0.00028209999175022335,0.05231202661333097,0.04947541009192762,0.05334159871749224,0.01854810288586099,0.0511242683897534,0.04480167425868894,0.03236284635125654,0.05263215138562627,0.05149263874674559,0.053979956387666526,0.04364421947080841,0.048038061570086873,0.0491599430988373,0.00028209999175022335,0.05059709318010888,0.04923432375244243,0.052703333578595045,0.05024934280496677,0.04228222819773432,0.023101623868163765,0.018482013257613443,0.05337618757761853,0.049293932846817934,0.03993426154466888,0.041771396464188655,0.05233237903486359,0.04554615526971024,0.05110769971705301,0.05003427670641999,0.050053879959061555,0.053502348956624424,0.017944035300124454,0.03681850157303044,0.04954476172638641,0.05164736553421571,0.05353475385565402,0.048384081721838196,0.01875668287636234,0.05109139191566308,0.05284710265620319,0.04881528973437768,0.039703572153212366,0.05178204536484993,0.04391626253910101,0.04132303783525711,0.015055673728029573,0.039291940637282564,0.04209351790535778,0.05313359509650924,0.04929662182801479,0.00028209999175022335,0.05099022178520525,0.052637350974475174,0.04971141167053344,0.050710048227745184,0.05280574117552439,0.04754374388234292,0.05140404506607467,0.04859260485577214,0.018522987890665626,0.05152190873071431,0.04755907620340658,0.052777863620044656,0.011396102983966714,0.051415059632504104,0.043349342359032934,0.052812982026633884,0.04972754221321232,0.00028209999175022335,0.053295841443753614,0.04865185162888331,0.049122770051971854,0.05120123434493252,0.01568138582866801,0.050276664057951524,0.019568725097380543,0.04863991397935612,0.05262517475033113,0.04036642608534563,0.050812289714310795,0.05346936880291073,0.00028209999175022335,0.03765015262086352,0.041459621803488646,0.014110171305494038,0.030506566376139816,0.04830279578235552,0.05015227638088818,0.052948747706225825,0.05225343424816452,0.048780208117332434,0.05353814406785143,0.050193398172115385,0.028311644225044594,0.05159589473285016,0.04013109563720465,0.04980981701103725,0.0534893711663606,0.04972694800633925,0.05357472179300914,0.05118472921780808,0.01891667837243029,0.009135849292191632,0.05269745282576961,0.00028209999175022335],\"type\":\"scatter\",\"xaxis\":\"x\",\"yaxis\":\"y\"},{\"marker\":{\"color\":[0,1,2,3,4,5,6,7,8,9,10,11,12,13,14,15,16,17,18,19,20,21,22,23,24,25,26,27,28,29,30,31,32,33,34,35,36,37,38,39,40,41,42,43,44,45,46,47,48,49,50,51,52,53,54,55,56,57,58,59,60,61,62,63,64,65,66,67,68,69,70,71,72,73,74,75,76,77,78,79,80,81,82,83,84,85,86,87,88,89,90,91,92,93,94,95,96,97,98,99,100,101,102,103,104,105,106,107,108,109,110,111,112,113,114,115,116,117,118,119,120,121,122,123,124,125,126,127,128,129,130,131,132,133,134,135,136,137,138,139,140,141,142,143,144,145,146,147,148,149,150,151,152,153,154,155,156,157,158,159,160,161,162,163,164,165,166,167,168,169,170,171,172,173,174,175,176,177,178,179,180,181,182,183,184,185,186,187,188,189,190,191,192,193,194,195,196,197,198,199,200,201,202,203,204,205,206,207,208,209,210,211,212,213,214,215,216,217,218,219,220,221,222,223,224,225,226,227,228,229,230,231,232,233,234,235,236,237,238,239,240,241,242,243,244,245,246,247,248,249,250,251,252,253,254,255,256,257,258,259,260,261,262,263,264,265,266,267,268,269,270,271,272,273,274,275,276,277,278,279,280,281,282,283,284,285,286,287,288,289,290,291,292,293,294,295,296,297,298,299,300,301,302,303,304,305,306,307,308,309,310,311,312,313,314,315,316,317,318,319,320,321,322,323,324,325,326,327,328,329,330,331,332,333,334,335,336,337,338,339,340,341,342,343,344,345,346,347,348,349,350,351,352,353,354,355,356,357,358,359,360,361,362,363,364,365,366,367,368,369,370,371,372,373,374,375,376,377,378,379,380,381,382,383,384,385,386,387,388,389,390,391,392,393,394,395,396,397,398,399],\"colorbar\":{\"title\":{\"text\":\"Trial\"},\"x\":1.0,\"xpad\":40},\"colorscale\":[[0.0,\"rgb(247,251,255)\"],[0.125,\"rgb(222,235,247)\"],[0.25,\"rgb(198,219,239)\"],[0.375,\"rgb(158,202,225)\"],[0.5,\"rgb(107,174,214)\"],[0.625,\"rgb(66,146,198)\"],[0.75,\"rgb(33,113,181)\"],[0.875,\"rgb(8,81,156)\"],[1.0,\"rgb(8,48,107)\"]],\"line\":{\"color\":\"Grey\",\"width\":0.5},\"showscale\":false},\"mode\":\"markers\",\"name\":\"Feasible Trial\",\"showlegend\":false,\"x\":[2.0140764224340613,0.5580901837342789,1.0751598003613152,2.454525527142742,2.6144256840710787,0.24989717973293624,1.8217878745716998,0.8820406988542648,0.1035435689030959,1.3956876354416856,0.14532764331626197,0.05265884060717364,0.09103229215733104,0.6994562806220757,0.4817786296431929,0.5447067580176834,1.2653263419565708,0.5343375567534111,1.676907420544703,0.8597207815077663,2.966539142203463,0.46661904397331155,0.48254992618431247,0.3953354110551781,1.036644825604093,0.32693646854084435,0.3667340034572917,0.7150398253177987,1.144289267993789,2.1198545797223574,0.7423800226983261,0.2496709796250952,0.33911290256328125,0.3556823643726509,0.004721890145511609,0.3084264202466711,0.6974443116253758,0.25881502730257155,0.9109218644378009,0.6049781556543851,0.23315483263725645,0.33253692036526983,0.38514563980609584,0.9386174779004149,0.13680031221336986,0.5602082747767942,1.4919381842765989,2.155503367665351,0.786677061465003,0.6373598852493775,0.45223237418225926,0.21558842695054747,0.3382368402231266,0.11061568956761539,0.02626469465333192,0.3980087372137056,0.5184066240429308,0.4848557795104007,1.0377318965550515,0.5223593715035041,1.3232859817965847,0.4608550575582072,0.8194415633671804,0.620653599406427,0.17034805628928884,0.1865496775404918,0.1757413056189374,0.20273558735992842,0.16333965035635947,0.09714800930509612,0.17039534544951582,0.0051800423600753265,0.17074044336196512,0.1798186716233261,0.13185740225081385,0.11253296595952197,0.17277617659622094,0.26350521897785567,0.0504206354200073,0.25648276796560776,0.09180836533162458,0.12794299512392165,0.004697467385720633,1.7859610116942648,0.1700745675928771,0.42627180745000204,0.29770128942327295,0.3170638175983739,2.686557229828865,0.28089858149459224,0.3020018945746128,0.21270666557234608,0.3039290881222534,0.2675099695885474,0.3787342706590415,0.406859355296856,0.38758796777911203,0.6650081927009336,0.3246106967182855,0.5983962013529263,0.42167415231201083,0.41448476856304284,0.43854266106213935,0.4172693078105404,0.4294853719356063,0.43424049814205146,0.5565175746690098,0.4195972292281478,0.4509080342372877,0.4963119615826337,0.7425589454079415,0.4106732254754244,0.5645985025982128,0.41780613908046665,0.6712548166035965,0.5284689507090948,0.3627394558840854,0.36005758709102265,0.4591470957347917,0.4774801098333721,0.381222073960045,0.2910767405467734,0.6127297615137522,0.254420493258339,0.5614802779162442,0.432105931871237,0.3425169113021304,0.5042357624169845,0.23769884160249755,0.7419139664105933,1.166660252679181,0.28282348083574455,0.3162919248944611,0.3963701533685153,0.4116120710751212,0.4735784344318861,1.579414999168487,0.6090734167081322,0.3513573817008576,0.23656263298345312,0.06832170720569448,0.22535447726086189,0.2166194841809774,0.2772299964112176,1.969877050084461,0.2914574883599191,0.2707370590742991,0.2752808413336244,0.3022637766304651,0.21553380635468028,0.22795107276285004,0.19942934357515224,0.0720975296417335,0.22610702837255164,0.21174536614229766,0.10163431713352847,0.22403091043996853,0.15556981201121,0.05020246354026786,0.1381875493323198,0.13805880652432356,0.24560804223935304,0.2438078874490783,0.20363590582996663,0.21123821339281082,0.19025663581274205,0.21678049064873364,0.125632467242239,0.21470016290477237,0.009043057096669888,0.08585392028376937,0.2384463389304045,0.22851390310112146,0.24777723263357607,0.1765994799168239,0.2283274261637791,0.16117730573045375,0.08603625696365219,0.263726669619127,2.4092871549726573,0.22202792302185284,0.28658007479864417,0.1422947933677573,0.13803762975135928,0.3098078451300784,0.3257188224323092,0.26240475071815506,0.3367715181569346,0.13244056059115467,0.27897685263279465,0.06675803495433284,0.18585128596836745,0.16478268330880136,0.2672222063103815,0.20386177318726117,0.3248270198766776,0.24946223614348148,0.12044005428727636,0.048446502913955525,0.17130310947902289,0.3008226488545759,0.24954379410383906,0.24536343139567324,0.17315585787875853,0.2967460325642341,0.35162355829927167,0.22917778894865587,0.13463702619664225,0.20506911556876653,0.34575539687433976,0.3620280240873276,0.27320498109449637,0.3167776065719606,0.26131483186778454,0.3273531378543978,0.10162449383953007,0.3533889033491556,0.26331921751718634,0.15854162726447857,0.20045493068425424,0.28918794771661216,0.3035395435726778,0.24492438049436677,0.24242835557213954,0.1976621654137619,0.3526592132701495,0.10972185818223806,0.24086944305712085,0.26079748498808997,0.15076969731867632,2.970416177029592,0.2269275870663393,0.3086452337897353,0.21734898249940876,0.26074369748341003,0.37107488449412307,0.16033923541573172,0.2633850756452202,0.07461855625164981,0.17159853449384904,0.3142200783136356,0.21708929718305894,0.20940618733259692,0.2694300286144896,0.13136478123678497,0.2015142906296534,0.3419186116791812,0.18366380600393167,0.15950714701458857,0.09421829659223349,0.2880815650717201,0.00006256756471911817,0.17366491084766805,0.24735173050340456,0.37078587802004376,0.12319323619216843,0.30481794142578506,0.9842819982927955,0.1859192929861095,0.06154743423448425,0.24408646623508204,0.32347779531892146,0.26451346090992367,0.3760878286444209,0.23594057169966248,0.25220211601809495,0.31734053648191696,0.23159163422636525,2.794651082151705,0.3775781474809781,0.23338398289427892,0.19382160750263622,0.2348795595076031,0.15884090227912145,0.2985874777976296,0.10944483965636258,0.2306375813515026,0.18313901869274612,0.32771216280646454,0.2540975512744461,0.37464072204554477,0.13570384117188294,2.265261049313463,0.2117018929013534,0.3000607104549768,0.055495931147809596,0.1757513275416551,0.13607342794636962,0.17744520111473255,0.07412064677338881,0.17746832203513696,1.8969955347758578,1.4449604854775826,0.09716354636940888,0.1715818898126897,0.2574794082574402,0.21439431296058686,0.32760554226729877,1.65037040483812,0.1275691256311695,0.34013526280170414,0.03635836190008995,0.39780436056572754,0.18847712262998065,0.2547441286383424,0.27656121536818123,0.2717059316686887,0.14725906786678494,0.337814980796528,0.4374079621477619,0.22610446940299023,0.08769164661688784,0.1814870395353561,0.2940544731126676,1.2605062104811784,0.3772412572111692,0.24137497623142345,0.13365392861784098,0.22974725929680692,0.18066764588217005,0.24961584369134104,0.3184803368794257,0.09687793478998566,0.18734965577088633,0.24145361136405882,0.3438654489640966,0.4738837425622012,0.8393314946559765,0.3936548693296157,0.341431854682343,0.29934137992297327,0.40982936227397043,0.3165323198019821,0.3579818898351684,0.15012654306519163,0.014895441728179054,0.2888397957850125,0.4631907086417452,0.19209570250030597,0.0893469061340082,0.27932087114913406,0.21820908514129345,0.353000128807254,0.1449370828661104,0.2917893103442517,0.2166523841249775,0.42797676862232553,0.12932672052342126,0.2971406665650465,0.17520524447411534,0.05543938371158469,0.34944670902415653,0.2458178895515413,0.2037816794166762,0.3893343677973367,0.11423953691941628,0.28410074699915905,0.1725713179043193,1.0905109859231827,0.23840294683297641,0.33554775629933276,0.2581568463356385,0.1196277214349254,0.19792329593904046,0.30338428897503417,0.4014411489760491,0.05872257087740884,0.5003030684853551,1.7866867309361152,0.24074089692209635,0.1644428200725145,0.33887713590784707,0.281505724839544,0.21688194461889,0.11060735902552066,0.16145447944393773,0.15050177285633803,0.029750834822285993,0.17482145227315526,2.0653239157724705,0.0009728628869148936,0.12107215552523035,0.21545529187814044,0.08673217997606919,0.2581959002480274,0.17538657127245952,0.2585103678502165,0.21841830900140902,0.09144742168517625,0.15820023625256757,0.2526821972827118,0.19322967085354753,0.2965972161267168,0.29431036227958046,0.3036181869990583,0.3669850567727986,0.2999565394814127,2.8819160986978027,0.4096853615456596,0.2908549370962416],\"y\":[0.007690281094410925,0.014469873823013657,0.013573137612960898,0.008924297152489465,0.006255244739652682,0.015284872585547199,0.0125617205912194,0.030369586641604482,0.031518091536843366,0.011183957752225967,0.04060552467463382,0.04075160034515132,0.04190627919473087,0.03193688920996045,0.04256307623016273,0.04239784881504089,0.018958664160518335,0.045300126868182584,0.014686972265143731,0.032115817943040074,0.006976451347500675,0.044445633973023854,0.0469401255749742,0.04569320196121547,0.02397848257624871,0.04722735046165127,0.04526143653134644,0.04511583578039391,0.022331313252931147,0.011015072564588215,0.03883306688784867,0.04417558311426664,0.04643481004332083,0.04688176398058251,0.031773151213942544,0.04672474286338416,0.041408640414538775,0.044796698751606294,0.026181038000253516,0.03565628421148766,0.041158685565342065,0.046913921386317656,0.047908246877903744,0.031124931716376304,0.04206558683781447,0.04311270978401059,0.016132052165343656,0.013049731659297929,0.03561248793191384,0.02893719021531857,0.04383458529265356,0.04512453372040241,0.00028209999175022335,0.0453105238162111,0.040036057097370535,0.04669298679812608,0.04827584130997334,0.04850664775906888,0.02502660218462957,0.04681197198643294,0.01900801789086661,0.04709185122754249,0.03409142201619964,0.03557113425507748,0.051379680354604974,0.051635156979866606,0.05032382490852609,0.043989015534104677,0.048346366865328644,0.0477486449184702,0.04949848716936618,0.0482561421815512,0.04918339253105198,0.0403882969116837,0.05020223212195237,0.04609927937087463,0.04681712921156513,0.042118980728966346,0.04727425935959277,0.04666603455541334,0.048335628777894206,0.04582550273468747,0.04824088232474075,0.013630629636318971,0.05046142895047078,0.047684268791093755,0.0514501089193443,0.05209358813994126,0.011162040102832593,0.052120791220452205,0.048767088743066934,0.0510442790029793,0.05064734100785326,0.04718271582641412,0.05154169258657075,0.051892855470603495,0.045365336891884,0.04283332441465471,0.04703403478729877,0.04614372113971604,0.05206425684006616,0.05203780850261918,0.05197371442841115,0.05208686680178294,0.0522386270142257,0.052604010729166976,0.046504350084837276,0.05258412653819152,0.05134388078403931,0.047756126573866145,0.04293335072475257,0.04707153782522357,0.04524010305531437,0.04912370874275444,0.00028209999175022335,0.049632166993311376,0.04977008207412561,0.041465544920031044,0.047918962668644795,0.04835917520072403,0.04856325125920413,0.05310638532699007,0.047694547566648864,0.04210566402896622,0.049467193760491586,0.04937924445425327,0.034408866725974846,0.050787777844666246,0.03950921633812344,0.02352481064533301,0.024618541484112053,0.05142130939560146,0.04944538647972961,0.05150252733017,0.052160710105082685,0.04945959281778748,0.00028209999175022335,0.04047106669609666,0.04860987587430744,0.05319493664394451,0.04609406194467145,0.053252171140496435,0.00028209999175022335,0.05326754359560769,0.014185831789287687,0.05269300797998477,0.05320658220679112,0.049886842052453285,0.047728187702480045,0.052885774040850174,0.05314601212494,0.0529355904275818,0.04926120799024129,0.00028209999175022335,0.05303365462867992,0.04933083610369535,0.047559488692230235,0.05401447501320864,0.00028209999175022335,0.050381820837149656,0.04776268849066837,0.05301892320349807,0.0535771209171949,0.05353533356967648,0.05314066203341206,0.050152818190532314,0.0534045155263004,0.03524834279827832,0.00028209999175022335,0.04785950519178328,0.04952430228072687,0.05385784297330661,0.053352031340230165,0.053296438995130535,0.00028209999175022335,0.048625488018870074,0.05099231990403315,0.052261692943317624,0.04002690653449031,0.009091148881709506,0.049185168462663645,0.05320589769831069,0.05317205689224032,0.05110382120727491,0.05347483372240894,0.03661419585861113,0.051523282207014034,0.04948997763641507,0.052436122203713895,0.05025239968160137,0.04612652592993778,0.053153239598033246,0.0369828627616226,0.00028209999175022335,0.0523960360938851,0.05133811262951408,0.053473150322073726,0.04766777258264647,0.03597879250028289,0.05283782611700672,0.04862230962525786,0.053320063456386964,0.04419585192319936,0.040356255448752903,0.05123142295266003,0.052449312927397934,0.00028209999175022335,0.0497716996992158,0.051065542244427824,0.05334106471169095,0.04994681681259687,0.05348404671602969,0.05322324006626401,0.018964271778852283,0.0515623337502798,0.05305427795503473,0.05095058718341279,0.04974734167675422,0.05287316749052758,0.00028209999175022335,0.04229040662479173,0.052999576362827795,0.05384330775902465,0.00028209999175022335,0.05079511457155612,0.05227159267508859,0.04862934311712029,0.053519858549776804,0.05167091976088856,0.05297230973674119,0.004981606342963267,0.05320602924880034,0.018944715349266415,0.05079512571990252,0.04102153526110405,0.051562893397278466,0.05304239047306688,0.04035096555829633,0.05300222966931586,0.019390931265983694,0.05031532094974822,0.05299260195720197,0.051725830942011136,0.00028209999175022335,0.04962059946889081,0.05315449713152867,0.05109527376994528,0.053419665014479874,0.05023342296603825,0.05304479740109567,0.04982658858364573,0.04975618454526842,0.053625829158275566,0.043968064446360304,0.00028209999175022335,0.051252088642731806,0.03794168522866248,0.00028209999175022335,0.0524915083044014,0.04955681977805703,0.05353056876634454,0.045612598300544475,0.05160953027556286,0.00028209999175022335,0.053362140660916844,0.05047584153294045,0.051622822449200766,0.05374735728443915,0.01110300180380277,0.0496488460346428,0.053883163098079064,0.03674964938449845,0.05080772335154785,0.04806894471980696,0.05284764781035148,0.05096302539370193,0.04961402863341146,0.05267334898561028,0.05064003549633367,0.03641520679067971,0.043672820553981924,0.00028209999175022335,0.011915784275034457,0.052371412740774455,0.05007980432421891,0.03369829564077246,0.05352380506446893,0.05140627139088826,0.05353344281009488,0.04711695507439128,0.01920249745260262,0.014953108939413536,0.02113154937491193,0.050415602556982984,0.00028209999175022335,0.05231202661333097,0.04947541009192762,0.05334159871749224,0.01854810288586099,0.0511242683897534,0.04480167425868894,0.03236284635125654,0.05263215138562627,0.05149263874674559,0.053979956387666526,0.04364421947080841,0.048038061570086873,0.0491599430988373,0.00028209999175022335,0.05059709318010888,0.04923432375244243,0.052703333578595045,0.05024934280496677,0.04228222819773432,0.023101623868163765,0.018482013257613443,0.05337618757761853,0.049293932846817934,0.03993426154466888,0.041771396464188655,0.05233237903486359,0.04554615526971024,0.05110769971705301,0.05003427670641999,0.050053879959061555,0.053502348956624424,0.017944035300124454,0.03681850157303044,0.04954476172638641,0.05164736553421571,0.05353475385565402,0.048384081721838196,0.01875668287636234,0.05109139191566308,0.05284710265620319,0.04881528973437768,0.039703572153212366,0.05178204536484993,0.04391626253910101,0.04132303783525711,0.015055673728029573,0.039291940637282564,0.04209351790535778,0.05313359509650924,0.04929662182801479,0.00028209999175022335,0.05099022178520525,0.052637350974475174,0.04971141167053344,0.050710048227745184,0.05280574117552439,0.04754374388234292,0.05140404506607467,0.04859260485577214,0.018522987890665626,0.05152190873071431,0.04755907620340658,0.052777863620044656,0.011396102983966714,0.051415059632504104,0.043349342359032934,0.052812982026633884,0.04972754221321232,0.00028209999175022335,0.053295841443753614,0.04865185162888331,0.049122770051971854,0.05120123434493252,0.01568138582866801,0.050276664057951524,0.019568725097380543,0.04863991397935612,0.05262517475033113,0.04036642608534563,0.050812289714310795,0.05346936880291073,0.00028209999175022335,0.03765015262086352,0.041459621803488646,0.014110171305494038,0.030506566376139816,0.04830279578235552,0.05015227638088818,0.052948747706225825,0.05225343424816452,0.048780208117332434,0.05353814406785143,0.050193398172115385,0.028311644225044594,0.05159589473285016,0.04013109563720465,0.04980981701103725,0.0534893711663606,0.04972694800633925,0.05357472179300914,0.05118472921780808,0.01891667837243029,0.009135849292191632,0.05269745282576961,0.00028209999175022335],\"type\":\"scatter\",\"xaxis\":\"x2\",\"yaxis\":\"y2\"},{\"marker\":{\"color\":[0,1,2,3,4,5,6,7,8,9,10,11,12,13,14,15,16,17,18,19,20,21,22,23,24,25,26,27,28,29,30,31,32,33,34,35,36,37,38,39,40,41,42,43,44,45,46,47,48,49,50,51,52,53,54,55,56,57,58,59,60,61,62,63,64,65,66,67,68,69,70,71,72,73,74,75,76,77,78,79,80,81,82,83,84,85,86,87,88,89,90,91,92,93,94,95,96,97,98,99,100,101,102,103,104,105,106,107,108,109,110,111,112,113,114,115,116,117,118,119,120,121,122,123,124,125,126,127,128,129,130,131,132,133,134,135,136,137,138,139,140,141,142,143,144,145,146,147,148,149,150,151,152,153,154,155,156,157,158,159,160,161,162,163,164,165,166,167,168,169,170,171,172,173,174,175,176,177,178,179,180,181,182,183,184,185,186,187,188,189,190,191,192,193,194,195,196,197,198,199,200,201,202,203,204,205,206,207,208,209,210,211,212,213,214,215,216,217,218,219,220,221,222,223,224,225,226,227,228,229,230,231,232,233,234,235,236,237,238,239,240,241,242,243,244,245,246,247,248,249,250,251,252,253,254,255,256,257,258,259,260,261,262,263,264,265,266,267,268,269,270,271,272,273,274,275,276,277,278,279,280,281,282,283,284,285,286,287,288,289,290,291,292,293,294,295,296,297,298,299,300,301,302,303,304,305,306,307,308,309,310,311,312,313,314,315,316,317,318,319,320,321,322,323,324,325,326,327,328,329,330,331,332,333,334,335,336,337,338,339,340,341,342,343,344,345,346,347,348,349,350,351,352,353,354,355,356,357,358,359,360,361,362,363,364,365,366,367,368,369,370,371,372,373,374,375,376,377,378,379,380,381,382,383,384,385,386,387,388,389,390,391,392,393,394,395,396,397,398,399],\"colorbar\":{\"title\":{\"text\":\"Trial\"},\"x\":1.0,\"xpad\":40},\"colorscale\":[[0.0,\"rgb(247,251,255)\"],[0.125,\"rgb(222,235,247)\"],[0.25,\"rgb(198,219,239)\"],[0.375,\"rgb(158,202,225)\"],[0.5,\"rgb(107,174,214)\"],[0.625,\"rgb(66,146,198)\"],[0.75,\"rgb(33,113,181)\"],[0.875,\"rgb(8,81,156)\"],[1.0,\"rgb(8,48,107)\"]],\"line\":{\"color\":\"Grey\",\"width\":0.5},\"showscale\":false},\"mode\":\"markers\",\"name\":\"Feasible Trial\",\"showlegend\":false,\"x\":[false,false,false,true,true,false,true,true,true,true,true,true,true,true,true,true,true,true,false,true,true,true,true,true,true,true,false,true,true,false,true,true,true,true,false,true,true,false,true,true,true,true,true,true,true,true,true,true,false,true,true,true,true,true,true,true,true,true,true,true,true,true,true,true,true,true,false,false,false,false,false,false,false,false,false,false,false,false,false,false,false,false,false,false,false,false,false,false,false,false,false,false,false,false,false,false,false,false,false,false,false,false,false,false,false,false,false,false,false,false,false,false,false,false,false,false,false,false,false,false,false,false,false,false,false,false,false,false,false,false,false,false,false,false,false,false,false,false,false,false,false,false,false,false,false,false,false,false,false,false,false,false,false,false,false,false,false,false,false,false,false,false,false,false,false,false,false,false,false,false,false,false,false,false,false,false,false,false,false,false,false,false,false,false,false,false,false,false,false,false,false,false,false,false,false,false,false,false,false,false,false,false,false,false,false,false,false,false,false,false,false,false,false,false,false,false,false,false,false,false,false,false,false,false,false,false,false,false,false,false,false,false,false,false,false,false,false,false,false,false,false,false,false,false,false,false,false,false,false,false,false,false,false,false,false,false,false,false,false,false,false,false,false,false,false,false,false,false,false,false,false,false,false,false,false,false,false,false,false,false,false,false,false,false,false,false,false,false,false,false,false,false,false,false,false,false,false,false,false,false,false,false,false,false,false,false,false,false,false,false,false,false,false,false,false,false,true,false,true,true,true,true,false,true,true,true,true,true,true,true,false,true,true,true,true,false,false,false,false,false,false,false,false,false,false,true,false,false,false,false,false,false,false,false,false,true,false,false,false,false,false,false,false,true,false,false,false,false,false,false,false,true,false,false,false,false,false,false,false,false,true,false,false,false,false,false,false,false,true,false,false,false,false,false,false,false,false,true,false,false],\"y\":[0.007690281094410925,0.014469873823013657,0.013573137612960898,0.008924297152489465,0.006255244739652682,0.015284872585547199,0.0125617205912194,0.030369586641604482,0.031518091536843366,0.011183957752225967,0.04060552467463382,0.04075160034515132,0.04190627919473087,0.03193688920996045,0.04256307623016273,0.04239784881504089,0.018958664160518335,0.045300126868182584,0.014686972265143731,0.032115817943040074,0.006976451347500675,0.044445633973023854,0.0469401255749742,0.04569320196121547,0.02397848257624871,0.04722735046165127,0.04526143653134644,0.04511583578039391,0.022331313252931147,0.011015072564588215,0.03883306688784867,0.04417558311426664,0.04643481004332083,0.04688176398058251,0.031773151213942544,0.04672474286338416,0.041408640414538775,0.044796698751606294,0.026181038000253516,0.03565628421148766,0.041158685565342065,0.046913921386317656,0.047908246877903744,0.031124931716376304,0.04206558683781447,0.04311270978401059,0.016132052165343656,0.013049731659297929,0.03561248793191384,0.02893719021531857,0.04383458529265356,0.04512453372040241,0.00028209999175022335,0.0453105238162111,0.040036057097370535,0.04669298679812608,0.04827584130997334,0.04850664775906888,0.02502660218462957,0.04681197198643294,0.01900801789086661,0.04709185122754249,0.03409142201619964,0.03557113425507748,0.051379680354604974,0.051635156979866606,0.05032382490852609,0.043989015534104677,0.048346366865328644,0.0477486449184702,0.04949848716936618,0.0482561421815512,0.04918339253105198,0.0403882969116837,0.05020223212195237,0.04609927937087463,0.04681712921156513,0.042118980728966346,0.04727425935959277,0.04666603455541334,0.048335628777894206,0.04582550273468747,0.04824088232474075,0.013630629636318971,0.05046142895047078,0.047684268791093755,0.0514501089193443,0.05209358813994126,0.011162040102832593,0.052120791220452205,0.048767088743066934,0.0510442790029793,0.05064734100785326,0.04718271582641412,0.05154169258657075,0.051892855470603495,0.045365336891884,0.04283332441465471,0.04703403478729877,0.04614372113971604,0.05206425684006616,0.05203780850261918,0.05197371442841115,0.05208686680178294,0.0522386270142257,0.052604010729166976,0.046504350084837276,0.05258412653819152,0.05134388078403931,0.047756126573866145,0.04293335072475257,0.04707153782522357,0.04524010305531437,0.04912370874275444,0.00028209999175022335,0.049632166993311376,0.04977008207412561,0.041465544920031044,0.047918962668644795,0.04835917520072403,0.04856325125920413,0.05310638532699007,0.047694547566648864,0.04210566402896622,0.049467193760491586,0.04937924445425327,0.034408866725974846,0.050787777844666246,0.03950921633812344,0.02352481064533301,0.024618541484112053,0.05142130939560146,0.04944538647972961,0.05150252733017,0.052160710105082685,0.04945959281778748,0.00028209999175022335,0.04047106669609666,0.04860987587430744,0.05319493664394451,0.04609406194467145,0.053252171140496435,0.00028209999175022335,0.05326754359560769,0.014185831789287687,0.05269300797998477,0.05320658220679112,0.049886842052453285,0.047728187702480045,0.052885774040850174,0.05314601212494,0.0529355904275818,0.04926120799024129,0.00028209999175022335,0.05303365462867992,0.04933083610369535,0.047559488692230235,0.05401447501320864,0.00028209999175022335,0.050381820837149656,0.04776268849066837,0.05301892320349807,0.0535771209171949,0.05353533356967648,0.05314066203341206,0.050152818190532314,0.0534045155263004,0.03524834279827832,0.00028209999175022335,0.04785950519178328,0.04952430228072687,0.05385784297330661,0.053352031340230165,0.053296438995130535,0.00028209999175022335,0.048625488018870074,0.05099231990403315,0.052261692943317624,0.04002690653449031,0.009091148881709506,0.049185168462663645,0.05320589769831069,0.05317205689224032,0.05110382120727491,0.05347483372240894,0.03661419585861113,0.051523282207014034,0.04948997763641507,0.052436122203713895,0.05025239968160137,0.04612652592993778,0.053153239598033246,0.0369828627616226,0.00028209999175022335,0.0523960360938851,0.05133811262951408,0.053473150322073726,0.04766777258264647,0.03597879250028289,0.05283782611700672,0.04862230962525786,0.053320063456386964,0.04419585192319936,0.040356255448752903,0.05123142295266003,0.052449312927397934,0.00028209999175022335,0.0497716996992158,0.051065542244427824,0.05334106471169095,0.04994681681259687,0.05348404671602969,0.05322324006626401,0.018964271778852283,0.0515623337502798,0.05305427795503473,0.05095058718341279,0.04974734167675422,0.05287316749052758,0.00028209999175022335,0.04229040662479173,0.052999576362827795,0.05384330775902465,0.00028209999175022335,0.05079511457155612,0.05227159267508859,0.04862934311712029,0.053519858549776804,0.05167091976088856,0.05297230973674119,0.004981606342963267,0.05320602924880034,0.018944715349266415,0.05079512571990252,0.04102153526110405,0.051562893397278466,0.05304239047306688,0.04035096555829633,0.05300222966931586,0.019390931265983694,0.05031532094974822,0.05299260195720197,0.051725830942011136,0.00028209999175022335,0.04962059946889081,0.05315449713152867,0.05109527376994528,0.053419665014479874,0.05023342296603825,0.05304479740109567,0.04982658858364573,0.04975618454526842,0.053625829158275566,0.043968064446360304,0.00028209999175022335,0.051252088642731806,0.03794168522866248,0.00028209999175022335,0.0524915083044014,0.04955681977805703,0.05353056876634454,0.045612598300544475,0.05160953027556286,0.00028209999175022335,0.053362140660916844,0.05047584153294045,0.051622822449200766,0.05374735728443915,0.01110300180380277,0.0496488460346428,0.053883163098079064,0.03674964938449845,0.05080772335154785,0.04806894471980696,0.05284764781035148,0.05096302539370193,0.04961402863341146,0.05267334898561028,0.05064003549633367,0.03641520679067971,0.043672820553981924,0.00028209999175022335,0.011915784275034457,0.052371412740774455,0.05007980432421891,0.03369829564077246,0.05352380506446893,0.05140627139088826,0.05353344281009488,0.04711695507439128,0.01920249745260262,0.014953108939413536,0.02113154937491193,0.050415602556982984,0.00028209999175022335,0.05231202661333097,0.04947541009192762,0.05334159871749224,0.01854810288586099,0.0511242683897534,0.04480167425868894,0.03236284635125654,0.05263215138562627,0.05149263874674559,0.053979956387666526,0.04364421947080841,0.048038061570086873,0.0491599430988373,0.00028209999175022335,0.05059709318010888,0.04923432375244243,0.052703333578595045,0.05024934280496677,0.04228222819773432,0.023101623868163765,0.018482013257613443,0.05337618757761853,0.049293932846817934,0.03993426154466888,0.041771396464188655,0.05233237903486359,0.04554615526971024,0.05110769971705301,0.05003427670641999,0.050053879959061555,0.053502348956624424,0.017944035300124454,0.03681850157303044,0.04954476172638641,0.05164736553421571,0.05353475385565402,0.048384081721838196,0.01875668287636234,0.05109139191566308,0.05284710265620319,0.04881528973437768,0.039703572153212366,0.05178204536484993,0.04391626253910101,0.04132303783525711,0.015055673728029573,0.039291940637282564,0.04209351790535778,0.05313359509650924,0.04929662182801479,0.00028209999175022335,0.05099022178520525,0.052637350974475174,0.04971141167053344,0.050710048227745184,0.05280574117552439,0.04754374388234292,0.05140404506607467,0.04859260485577214,0.018522987890665626,0.05152190873071431,0.04755907620340658,0.052777863620044656,0.011396102983966714,0.051415059632504104,0.043349342359032934,0.052812982026633884,0.04972754221321232,0.00028209999175022335,0.053295841443753614,0.04865185162888331,0.049122770051971854,0.05120123434493252,0.01568138582866801,0.050276664057951524,0.019568725097380543,0.04863991397935612,0.05262517475033113,0.04036642608534563,0.050812289714310795,0.05346936880291073,0.00028209999175022335,0.03765015262086352,0.041459621803488646,0.014110171305494038,0.030506566376139816,0.04830279578235552,0.05015227638088818,0.052948747706225825,0.05225343424816452,0.048780208117332434,0.05353814406785143,0.050193398172115385,0.028311644225044594,0.05159589473285016,0.04013109563720465,0.04980981701103725,0.0534893711663606,0.04972694800633925,0.05357472179300914,0.05118472921780808,0.01891667837243029,0.009135849292191632,0.05269745282576961,0.00028209999175022335],\"type\":\"scatter\",\"xaxis\":\"x3\",\"yaxis\":\"y3\"},{\"marker\":{\"color\":[0,1,2,3,4,5,6,7,8,9,10,11,12,13,14,15,16,17,18,19,20,21,22,23,24,25,26,27,28,29,30,31,32,33,34,35,36,37,38,39,40,41,42,43,44,45,46,47,48,49,50,51,52,53,54,55,56,57,58,59,60,61,62,63,64,65,66,67,68,69,70,71,72,73,74,75,76,77,78,79,80,81,82,83,84,85,86,87,88,89,90,91,92,93,94,95,96,97,98,99,100,101,102,103,104,105,106,107,108,109,110,111,112,113,114,115,116,117,118,119,120,121,122,123,124,125,126,127,128,129,130,131,132,133,134,135,136,137,138,139,140,141,142,143,144,145,146,147,148,149,150,151,152,153,154,155,156,157,158,159,160,161,162,163,164,165,166,167,168,169,170,171,172,173,174,175,176,177,178,179,180,181,182,183,184,185,186,187,188,189,190,191,192,193,194,195,196,197,198,199,200,201,202,203,204,205,206,207,208,209,210,211,212,213,214,215,216,217,218,219,220,221,222,223,224,225,226,227,228,229,230,231,232,233,234,235,236,237,238,239,240,241,242,243,244,245,246,247,248,249,250,251,252,253,254,255,256,257,258,259,260,261,262,263,264,265,266,267,268,269,270,271,272,273,274,275,276,277,278,279,280,281,282,283,284,285,286,287,288,289,290,291,292,293,294,295,296,297,298,299,300,301,302,303,304,305,306,307,308,309,310,311,312,313,314,315,316,317,318,319,320,321,322,323,324,325,326,327,328,329,330,331,332,333,334,335,336,337,338,339,340,341,342,343,344,345,346,347,348,349,350,351,352,353,354,355,356,357,358,359,360,361,362,363,364,365,366,367,368,369,370,371,372,373,374,375,376,377,378,379,380,381,382,383,384,385,386,387,388,389,390,391,392,393,394,395,396,397,398,399],\"colorbar\":{\"title\":{\"text\":\"Trial\"},\"x\":1.0,\"xpad\":40},\"colorscale\":[[0.0,\"rgb(247,251,255)\"],[0.125,\"rgb(222,235,247)\"],[0.25,\"rgb(198,219,239)\"],[0.375,\"rgb(158,202,225)\"],[0.5,\"rgb(107,174,214)\"],[0.625,\"rgb(66,146,198)\"],[0.75,\"rgb(33,113,181)\"],[0.875,\"rgb(8,81,156)\"],[1.0,\"rgb(8,48,107)\"]],\"line\":{\"color\":\"Grey\",\"width\":0.5},\"showscale\":false},\"mode\":\"markers\",\"name\":\"Feasible Trial\",\"showlegend\":false,\"x\":[false,false,true,false,true,false,false,false,true,true,true,true,true,true,true,true,true,true,true,true,true,true,true,true,true,true,true,true,true,false,true,true,true,true,false,true,true,false,true,false,true,true,true,true,true,true,true,false,true,true,true,true,true,true,true,true,true,true,true,true,true,true,true,true,true,true,true,false,true,true,true,true,true,true,true,true,true,true,true,false,true,true,true,true,true,true,true,true,true,true,true,true,true,true,true,true,false,true,true,true,true,true,true,true,true,true,true,true,true,true,true,true,true,true,true,true,true,false,true,true,true,true,true,true,true,true,true,true,true,true,true,true,true,true,true,true,true,false,true,true,true,true,true,true,true,true,true,true,true,true,true,true,true,true,true,true,true,true,true,true,true,true,true,true,true,true,true,false,true,true,true,true,true,true,true,true,true,true,true,true,true,true,true,true,true,true,true,true,true,true,true,true,true,true,true,true,true,true,false,true,true,true,true,true,true,true,true,true,true,true,true,true,true,true,true,true,true,true,true,true,true,true,true,true,true,true,true,true,true,true,true,true,true,true,true,true,true,false,true,true,true,true,true,true,true,true,true,true,true,true,true,true,true,true,true,true,true,true,true,true,true,false,true,true,true,true,true,true,true,true,true,true,true,true,true,true,true,true,true,true,true,false,true,true,true,true,true,true,true,true,true,true,true,true,true,true,true,true,true,true,true,false,true,true,true,true,true,true,true,true,true,true,true,true,true,true,true,true,true,true,true,false,true,true,true,true,true,true,true,true,true,true,true,true,true,true,true,true,true,true,true,true,false,true,true,true,true,true,true,true,true,true,true,true,true,true,true,true,true,true,false,true,true,true,true,true,true,true,true,true,true,true,true,true,true,true,true,true,true,true,false,true,true,true,true,true,true,true,true,true,true,true,true,true,true,true,true,true,true,true],\"y\":[0.007690281094410925,0.014469873823013657,0.013573137612960898,0.008924297152489465,0.006255244739652682,0.015284872585547199,0.0125617205912194,0.030369586641604482,0.031518091536843366,0.011183957752225967,0.04060552467463382,0.04075160034515132,0.04190627919473087,0.03193688920996045,0.04256307623016273,0.04239784881504089,0.018958664160518335,0.045300126868182584,0.014686972265143731,0.032115817943040074,0.006976451347500675,0.044445633973023854,0.0469401255749742,0.04569320196121547,0.02397848257624871,0.04722735046165127,0.04526143653134644,0.04511583578039391,0.022331313252931147,0.011015072564588215,0.03883306688784867,0.04417558311426664,0.04643481004332083,0.04688176398058251,0.031773151213942544,0.04672474286338416,0.041408640414538775,0.044796698751606294,0.026181038000253516,0.03565628421148766,0.041158685565342065,0.046913921386317656,0.047908246877903744,0.031124931716376304,0.04206558683781447,0.04311270978401059,0.016132052165343656,0.013049731659297929,0.03561248793191384,0.02893719021531857,0.04383458529265356,0.04512453372040241,0.00028209999175022335,0.0453105238162111,0.040036057097370535,0.04669298679812608,0.04827584130997334,0.04850664775906888,0.02502660218462957,0.04681197198643294,0.01900801789086661,0.04709185122754249,0.03409142201619964,0.03557113425507748,0.051379680354604974,0.051635156979866606,0.05032382490852609,0.043989015534104677,0.048346366865328644,0.0477486449184702,0.04949848716936618,0.0482561421815512,0.04918339253105198,0.0403882969116837,0.05020223212195237,0.04609927937087463,0.04681712921156513,0.042118980728966346,0.04727425935959277,0.04666603455541334,0.048335628777894206,0.04582550273468747,0.04824088232474075,0.013630629636318971,0.05046142895047078,0.047684268791093755,0.0514501089193443,0.05209358813994126,0.011162040102832593,0.052120791220452205,0.048767088743066934,0.0510442790029793,0.05064734100785326,0.04718271582641412,0.05154169258657075,0.051892855470603495,0.045365336891884,0.04283332441465471,0.04703403478729877,0.04614372113971604,0.05206425684006616,0.05203780850261918,0.05197371442841115,0.05208686680178294,0.0522386270142257,0.052604010729166976,0.046504350084837276,0.05258412653819152,0.05134388078403931,0.047756126573866145,0.04293335072475257,0.04707153782522357,0.04524010305531437,0.04912370874275444,0.00028209999175022335,0.049632166993311376,0.04977008207412561,0.041465544920031044,0.047918962668644795,0.04835917520072403,0.04856325125920413,0.05310638532699007,0.047694547566648864,0.04210566402896622,0.049467193760491586,0.04937924445425327,0.034408866725974846,0.050787777844666246,0.03950921633812344,0.02352481064533301,0.024618541484112053,0.05142130939560146,0.04944538647972961,0.05150252733017,0.052160710105082685,0.04945959281778748,0.00028209999175022335,0.04047106669609666,0.04860987587430744,0.05319493664394451,0.04609406194467145,0.053252171140496435,0.00028209999175022335,0.05326754359560769,0.014185831789287687,0.05269300797998477,0.05320658220679112,0.049886842052453285,0.047728187702480045,0.052885774040850174,0.05314601212494,0.0529355904275818,0.04926120799024129,0.00028209999175022335,0.05303365462867992,0.04933083610369535,0.047559488692230235,0.05401447501320864,0.00028209999175022335,0.050381820837149656,0.04776268849066837,0.05301892320349807,0.0535771209171949,0.05353533356967648,0.05314066203341206,0.050152818190532314,0.0534045155263004,0.03524834279827832,0.00028209999175022335,0.04785950519178328,0.04952430228072687,0.05385784297330661,0.053352031340230165,0.053296438995130535,0.00028209999175022335,0.048625488018870074,0.05099231990403315,0.052261692943317624,0.04002690653449031,0.009091148881709506,0.049185168462663645,0.05320589769831069,0.05317205689224032,0.05110382120727491,0.05347483372240894,0.03661419585861113,0.051523282207014034,0.04948997763641507,0.052436122203713895,0.05025239968160137,0.04612652592993778,0.053153239598033246,0.0369828627616226,0.00028209999175022335,0.0523960360938851,0.05133811262951408,0.053473150322073726,0.04766777258264647,0.03597879250028289,0.05283782611700672,0.04862230962525786,0.053320063456386964,0.04419585192319936,0.040356255448752903,0.05123142295266003,0.052449312927397934,0.00028209999175022335,0.0497716996992158,0.051065542244427824,0.05334106471169095,0.04994681681259687,0.05348404671602969,0.05322324006626401,0.018964271778852283,0.0515623337502798,0.05305427795503473,0.05095058718341279,0.04974734167675422,0.05287316749052758,0.00028209999175022335,0.04229040662479173,0.052999576362827795,0.05384330775902465,0.00028209999175022335,0.05079511457155612,0.05227159267508859,0.04862934311712029,0.053519858549776804,0.05167091976088856,0.05297230973674119,0.004981606342963267,0.05320602924880034,0.018944715349266415,0.05079512571990252,0.04102153526110405,0.051562893397278466,0.05304239047306688,0.04035096555829633,0.05300222966931586,0.019390931265983694,0.05031532094974822,0.05299260195720197,0.051725830942011136,0.00028209999175022335,0.04962059946889081,0.05315449713152867,0.05109527376994528,0.053419665014479874,0.05023342296603825,0.05304479740109567,0.04982658858364573,0.04975618454526842,0.053625829158275566,0.043968064446360304,0.00028209999175022335,0.051252088642731806,0.03794168522866248,0.00028209999175022335,0.0524915083044014,0.04955681977805703,0.05353056876634454,0.045612598300544475,0.05160953027556286,0.00028209999175022335,0.053362140660916844,0.05047584153294045,0.051622822449200766,0.05374735728443915,0.01110300180380277,0.0496488460346428,0.053883163098079064,0.03674964938449845,0.05080772335154785,0.04806894471980696,0.05284764781035148,0.05096302539370193,0.04961402863341146,0.05267334898561028,0.05064003549633367,0.03641520679067971,0.043672820553981924,0.00028209999175022335,0.011915784275034457,0.052371412740774455,0.05007980432421891,0.03369829564077246,0.05352380506446893,0.05140627139088826,0.05353344281009488,0.04711695507439128,0.01920249745260262,0.014953108939413536,0.02113154937491193,0.050415602556982984,0.00028209999175022335,0.05231202661333097,0.04947541009192762,0.05334159871749224,0.01854810288586099,0.0511242683897534,0.04480167425868894,0.03236284635125654,0.05263215138562627,0.05149263874674559,0.053979956387666526,0.04364421947080841,0.048038061570086873,0.0491599430988373,0.00028209999175022335,0.05059709318010888,0.04923432375244243,0.052703333578595045,0.05024934280496677,0.04228222819773432,0.023101623868163765,0.018482013257613443,0.05337618757761853,0.049293932846817934,0.03993426154466888,0.041771396464188655,0.05233237903486359,0.04554615526971024,0.05110769971705301,0.05003427670641999,0.050053879959061555,0.053502348956624424,0.017944035300124454,0.03681850157303044,0.04954476172638641,0.05164736553421571,0.05353475385565402,0.048384081721838196,0.01875668287636234,0.05109139191566308,0.05284710265620319,0.04881528973437768,0.039703572153212366,0.05178204536484993,0.04391626253910101,0.04132303783525711,0.015055673728029573,0.039291940637282564,0.04209351790535778,0.05313359509650924,0.04929662182801479,0.00028209999175022335,0.05099022178520525,0.052637350974475174,0.04971141167053344,0.050710048227745184,0.05280574117552439,0.04754374388234292,0.05140404506607467,0.04859260485577214,0.018522987890665626,0.05152190873071431,0.04755907620340658,0.052777863620044656,0.011396102983966714,0.051415059632504104,0.043349342359032934,0.052812982026633884,0.04972754221321232,0.00028209999175022335,0.053295841443753614,0.04865185162888331,0.049122770051971854,0.05120123434493252,0.01568138582866801,0.050276664057951524,0.019568725097380543,0.04863991397935612,0.05262517475033113,0.04036642608534563,0.050812289714310795,0.05346936880291073,0.00028209999175022335,0.03765015262086352,0.041459621803488646,0.014110171305494038,0.030506566376139816,0.04830279578235552,0.05015227638088818,0.052948747706225825,0.05225343424816452,0.048780208117332434,0.05353814406785143,0.050193398172115385,0.028311644225044594,0.05159589473285016,0.04013109563720465,0.04980981701103725,0.0534893711663606,0.04972694800633925,0.05357472179300914,0.05118472921780808,0.01891667837243029,0.009135849292191632,0.05269745282576961,0.00028209999175022335],\"type\":\"scatter\",\"xaxis\":\"x4\",\"yaxis\":\"y4\"},{\"marker\":{\"color\":[0,1,2,3,4,5,6,7,8,9,10,11,12,13,14,15,16,17,18,19,20,21,22,23,24,25,26,27,28,29,30,31,32,33,34,35,36,37,38,39,40,41,42,43,44,45,46,47,48,49,50,51,52,53,54,55,56,57,58,59,60,61,62,63,64,65,66,67,68,69,70,71,72,73,74,75,76,77,78,79,80,81,82,83,84,85,86,87,88,89,90,91,92,93,94,95,96,97,98,99,100,101,102,103,104,105,106,107,108,109,110,111,112,113,114,115,116,117,118,119,120,121,122,123,124,125,126,127,128,129,130,131,132,133,134,135,136,137,138,139,140,141,142,143,144,145,146,147,148,149,150,151,152,153,154,155,156,157,158,159,160,161,162,163,164,165,166,167,168,169,170,171,172,173,174,175,176,177,178,179,180,181,182,183,184,185,186,187,188,189,190,191,192,193,194,195,196,197,198,199,200,201,202,203,204,205,206,207,208,209,210,211,212,213,214,215,216,217,218,219,220,221,222,223,224,225,226,227,228,229,230,231,232,233,234,235,236,237,238,239,240,241,242,243,244,245,246,247,248,249,250,251,252,253,254,255,256,257,258,259,260,261,262,263,264,265,266,267,268,269,270,271,272,273,274,275,276,277,278,279,280,281,282,283,284,285,286,287,288,289,290,291,292,293,294,295,296,297,298,299,300,301,302,303,304,305,306,307,308,309,310,311,312,313,314,315,316,317,318,319,320,321,322,323,324,325,326,327,328,329,330,331,332,333,334,335,336,337,338,339,340,341,342,343,344,345,346,347,348,349,350,351,352,353,354,355,356,357,358,359,360,361,362,363,364,365,366,367,368,369,370,371,372,373,374,375,376,377,378,379,380,381,382,383,384,385,386,387,388,389,390,391,392,393,394,395,396,397,398,399],\"colorbar\":{\"title\":{\"text\":\"Trial\"},\"x\":1.0,\"xpad\":40},\"colorscale\":[[0.0,\"rgb(247,251,255)\"],[0.125,\"rgb(222,235,247)\"],[0.25,\"rgb(198,219,239)\"],[0.375,\"rgb(158,202,225)\"],[0.5,\"rgb(107,174,214)\"],[0.625,\"rgb(66,146,198)\"],[0.75,\"rgb(33,113,181)\"],[0.875,\"rgb(8,81,156)\"],[1.0,\"rgb(8,48,107)\"]],\"line\":{\"color\":\"Grey\",\"width\":0.5},\"showscale\":false},\"mode\":\"markers\",\"name\":\"Feasible Trial\",\"showlegend\":false,\"x\":[835,883,1458,761,698,1294,704,1034,1130,1103,276,147,115,23,331,416,483,441,475,560,302,341,296,566,612,223,209,13,589,131,868,417,216,223,258,206,89,206,334,773,1409,198,174,80,378,142,955,50,267,182,506,248,0,160,360,258,91,81,69,115,661,299,296,152,55,46,43,41,96,96,60,28,8,3,65,55,128,1193,47,106,5,4,69,134,61,162,52,38,35,43,129,51,55,167,47,39,192,110,232,90,29,35,31,33,26,21,125,21,25,93,22,4,150,107,0,31,86,788,168,123,84,30,30,956,29,74,135,30,1378,3,75,54,106,45,34,71,0,191,103,31,146,30,0,28,80,38,26,77,104,26,22,24,64,0,27,70,116,17,0,58,95,30,25,24,28,71,21,122,0,73,56,19,25,26,0,96,54,24,1113,519,79,29,27,52,23,2,52,96,33,73,139,24,1212,0,32,54,24,88,59,26,115,27,3,665,50,26,0,76,51,24,79,27,27,1,52,25,59,93,28,0,54,34,22,0,63,30,86,26,52,29,104,27,1,62,1040,35,31,72,23,1,54,29,47,0,77,28,48,26,73,25,96,53,22,419,0,52,88,0,36,70,23,113,51,0,28,78,53,20,29,78,21,2,60,116,26,50,88,23,55,2,829,0,100,40,71,1479,24,52,25,124,1,76,29,63,0,45,93,23,26,56,88,711,24,50,20,3,138,71,0,44,107,27,73,618,45,1,27,67,916,464,32,101,50,21,75,22,1,42,88,51,24,124,1,58,28,74,1381,25,103,378,1,1306,51,26,73,0,47,26,93,60,26,152,59,114,1,42,81,26,1,50,85,36,59,0,29,107,67,24,49,80,1,132,29,1065,53,25,0,92,535,60,1151,31,79,26,46,107,23,71,2,38,978,59,25,90,24,51,1,126,24,0],\"y\":[0.007690281094410925,0.014469873823013657,0.013573137612960898,0.008924297152489465,0.006255244739652682,0.015284872585547199,0.0125617205912194,0.030369586641604482,0.031518091536843366,0.011183957752225967,0.04060552467463382,0.04075160034515132,0.04190627919473087,0.03193688920996045,0.04256307623016273,0.04239784881504089,0.018958664160518335,0.045300126868182584,0.014686972265143731,0.032115817943040074,0.006976451347500675,0.044445633973023854,0.0469401255749742,0.04569320196121547,0.02397848257624871,0.04722735046165127,0.04526143653134644,0.04511583578039391,0.022331313252931147,0.011015072564588215,0.03883306688784867,0.04417558311426664,0.04643481004332083,0.04688176398058251,0.031773151213942544,0.04672474286338416,0.041408640414538775,0.044796698751606294,0.026181038000253516,0.03565628421148766,0.041158685565342065,0.046913921386317656,0.047908246877903744,0.031124931716376304,0.04206558683781447,0.04311270978401059,0.016132052165343656,0.013049731659297929,0.03561248793191384,0.02893719021531857,0.04383458529265356,0.04512453372040241,0.00028209999175022335,0.0453105238162111,0.040036057097370535,0.04669298679812608,0.04827584130997334,0.04850664775906888,0.02502660218462957,0.04681197198643294,0.01900801789086661,0.04709185122754249,0.03409142201619964,0.03557113425507748,0.051379680354604974,0.051635156979866606,0.05032382490852609,0.043989015534104677,0.048346366865328644,0.0477486449184702,0.04949848716936618,0.0482561421815512,0.04918339253105198,0.0403882969116837,0.05020223212195237,0.04609927937087463,0.04681712921156513,0.042118980728966346,0.04727425935959277,0.04666603455541334,0.048335628777894206,0.04582550273468747,0.04824088232474075,0.013630629636318971,0.05046142895047078,0.047684268791093755,0.0514501089193443,0.05209358813994126,0.011162040102832593,0.052120791220452205,0.048767088743066934,0.0510442790029793,0.05064734100785326,0.04718271582641412,0.05154169258657075,0.051892855470603495,0.045365336891884,0.04283332441465471,0.04703403478729877,0.04614372113971604,0.05206425684006616,0.05203780850261918,0.05197371442841115,0.05208686680178294,0.0522386270142257,0.052604010729166976,0.046504350084837276,0.05258412653819152,0.05134388078403931,0.047756126573866145,0.04293335072475257,0.04707153782522357,0.04524010305531437,0.04912370874275444,0.00028209999175022335,0.049632166993311376,0.04977008207412561,0.041465544920031044,0.047918962668644795,0.04835917520072403,0.04856325125920413,0.05310638532699007,0.047694547566648864,0.04210566402896622,0.049467193760491586,0.04937924445425327,0.034408866725974846,0.050787777844666246,0.03950921633812344,0.02352481064533301,0.024618541484112053,0.05142130939560146,0.04944538647972961,0.05150252733017,0.052160710105082685,0.04945959281778748,0.00028209999175022335,0.04047106669609666,0.04860987587430744,0.05319493664394451,0.04609406194467145,0.053252171140496435,0.00028209999175022335,0.05326754359560769,0.014185831789287687,0.05269300797998477,0.05320658220679112,0.049886842052453285,0.047728187702480045,0.052885774040850174,0.05314601212494,0.0529355904275818,0.04926120799024129,0.00028209999175022335,0.05303365462867992,0.04933083610369535,0.047559488692230235,0.05401447501320864,0.00028209999175022335,0.050381820837149656,0.04776268849066837,0.05301892320349807,0.0535771209171949,0.05353533356967648,0.05314066203341206,0.050152818190532314,0.0534045155263004,0.03524834279827832,0.00028209999175022335,0.04785950519178328,0.04952430228072687,0.05385784297330661,0.053352031340230165,0.053296438995130535,0.00028209999175022335,0.048625488018870074,0.05099231990403315,0.052261692943317624,0.04002690653449031,0.009091148881709506,0.049185168462663645,0.05320589769831069,0.05317205689224032,0.05110382120727491,0.05347483372240894,0.03661419585861113,0.051523282207014034,0.04948997763641507,0.052436122203713895,0.05025239968160137,0.04612652592993778,0.053153239598033246,0.0369828627616226,0.00028209999175022335,0.0523960360938851,0.05133811262951408,0.053473150322073726,0.04766777258264647,0.03597879250028289,0.05283782611700672,0.04862230962525786,0.053320063456386964,0.04419585192319936,0.040356255448752903,0.05123142295266003,0.052449312927397934,0.00028209999175022335,0.0497716996992158,0.051065542244427824,0.05334106471169095,0.04994681681259687,0.05348404671602969,0.05322324006626401,0.018964271778852283,0.0515623337502798,0.05305427795503473,0.05095058718341279,0.04974734167675422,0.05287316749052758,0.00028209999175022335,0.04229040662479173,0.052999576362827795,0.05384330775902465,0.00028209999175022335,0.05079511457155612,0.05227159267508859,0.04862934311712029,0.053519858549776804,0.05167091976088856,0.05297230973674119,0.004981606342963267,0.05320602924880034,0.018944715349266415,0.05079512571990252,0.04102153526110405,0.051562893397278466,0.05304239047306688,0.04035096555829633,0.05300222966931586,0.019390931265983694,0.05031532094974822,0.05299260195720197,0.051725830942011136,0.00028209999175022335,0.04962059946889081,0.05315449713152867,0.05109527376994528,0.053419665014479874,0.05023342296603825,0.05304479740109567,0.04982658858364573,0.04975618454526842,0.053625829158275566,0.043968064446360304,0.00028209999175022335,0.051252088642731806,0.03794168522866248,0.00028209999175022335,0.0524915083044014,0.04955681977805703,0.05353056876634454,0.045612598300544475,0.05160953027556286,0.00028209999175022335,0.053362140660916844,0.05047584153294045,0.051622822449200766,0.05374735728443915,0.01110300180380277,0.0496488460346428,0.053883163098079064,0.03674964938449845,0.05080772335154785,0.04806894471980696,0.05284764781035148,0.05096302539370193,0.04961402863341146,0.05267334898561028,0.05064003549633367,0.03641520679067971,0.043672820553981924,0.00028209999175022335,0.011915784275034457,0.052371412740774455,0.05007980432421891,0.03369829564077246,0.05352380506446893,0.05140627139088826,0.05353344281009488,0.04711695507439128,0.01920249745260262,0.014953108939413536,0.02113154937491193,0.050415602556982984,0.00028209999175022335,0.05231202661333097,0.04947541009192762,0.05334159871749224,0.01854810288586099,0.0511242683897534,0.04480167425868894,0.03236284635125654,0.05263215138562627,0.05149263874674559,0.053979956387666526,0.04364421947080841,0.048038061570086873,0.0491599430988373,0.00028209999175022335,0.05059709318010888,0.04923432375244243,0.052703333578595045,0.05024934280496677,0.04228222819773432,0.023101623868163765,0.018482013257613443,0.05337618757761853,0.049293932846817934,0.03993426154466888,0.041771396464188655,0.05233237903486359,0.04554615526971024,0.05110769971705301,0.05003427670641999,0.050053879959061555,0.053502348956624424,0.017944035300124454,0.03681850157303044,0.04954476172638641,0.05164736553421571,0.05353475385565402,0.048384081721838196,0.01875668287636234,0.05109139191566308,0.05284710265620319,0.04881528973437768,0.039703572153212366,0.05178204536484993,0.04391626253910101,0.04132303783525711,0.015055673728029573,0.039291940637282564,0.04209351790535778,0.05313359509650924,0.04929662182801479,0.00028209999175022335,0.05099022178520525,0.052637350974475174,0.04971141167053344,0.050710048227745184,0.05280574117552439,0.04754374388234292,0.05140404506607467,0.04859260485577214,0.018522987890665626,0.05152190873071431,0.04755907620340658,0.052777863620044656,0.011396102983966714,0.051415059632504104,0.043349342359032934,0.052812982026633884,0.04972754221321232,0.00028209999175022335,0.053295841443753614,0.04865185162888331,0.049122770051971854,0.05120123434493252,0.01568138582866801,0.050276664057951524,0.019568725097380543,0.04863991397935612,0.05262517475033113,0.04036642608534563,0.050812289714310795,0.05346936880291073,0.00028209999175022335,0.03765015262086352,0.041459621803488646,0.014110171305494038,0.030506566376139816,0.04830279578235552,0.05015227638088818,0.052948747706225825,0.05225343424816452,0.048780208117332434,0.05353814406785143,0.050193398172115385,0.028311644225044594,0.05159589473285016,0.04013109563720465,0.04980981701103725,0.0534893711663606,0.04972694800633925,0.05357472179300914,0.05118472921780808,0.01891667837243029,0.009135849292191632,0.05269745282576961,0.00028209999175022335],\"type\":\"scatter\",\"xaxis\":\"x5\",\"yaxis\":\"y5\"}],                        {\"template\":{\"data\":{\"histogram2dcontour\":[{\"type\":\"histogram2dcontour\",\"colorbar\":{\"outlinewidth\":0,\"ticks\":\"\"},\"colorscale\":[[0.0,\"#0d0887\"],[0.1111111111111111,\"#46039f\"],[0.2222222222222222,\"#7201a8\"],[0.3333333333333333,\"#9c179e\"],[0.4444444444444444,\"#bd3786\"],[0.5555555555555556,\"#d8576b\"],[0.6666666666666666,\"#ed7953\"],[0.7777777777777778,\"#fb9f3a\"],[0.8888888888888888,\"#fdca26\"],[1.0,\"#f0f921\"]]}],\"choropleth\":[{\"type\":\"choropleth\",\"colorbar\":{\"outlinewidth\":0,\"ticks\":\"\"}}],\"histogram2d\":[{\"type\":\"histogram2d\",\"colorbar\":{\"outlinewidth\":0,\"ticks\":\"\"},\"colorscale\":[[0.0,\"#0d0887\"],[0.1111111111111111,\"#46039f\"],[0.2222222222222222,\"#7201a8\"],[0.3333333333333333,\"#9c179e\"],[0.4444444444444444,\"#bd3786\"],[0.5555555555555556,\"#d8576b\"],[0.6666666666666666,\"#ed7953\"],[0.7777777777777778,\"#fb9f3a\"],[0.8888888888888888,\"#fdca26\"],[1.0,\"#f0f921\"]]}],\"heatmap\":[{\"type\":\"heatmap\",\"colorbar\":{\"outlinewidth\":0,\"ticks\":\"\"},\"colorscale\":[[0.0,\"#0d0887\"],[0.1111111111111111,\"#46039f\"],[0.2222222222222222,\"#7201a8\"],[0.3333333333333333,\"#9c179e\"],[0.4444444444444444,\"#bd3786\"],[0.5555555555555556,\"#d8576b\"],[0.6666666666666666,\"#ed7953\"],[0.7777777777777778,\"#fb9f3a\"],[0.8888888888888888,\"#fdca26\"],[1.0,\"#f0f921\"]]}],\"heatmapgl\":[{\"type\":\"heatmapgl\",\"colorbar\":{\"outlinewidth\":0,\"ticks\":\"\"},\"colorscale\":[[0.0,\"#0d0887\"],[0.1111111111111111,\"#46039f\"],[0.2222222222222222,\"#7201a8\"],[0.3333333333333333,\"#9c179e\"],[0.4444444444444444,\"#bd3786\"],[0.5555555555555556,\"#d8576b\"],[0.6666666666666666,\"#ed7953\"],[0.7777777777777778,\"#fb9f3a\"],[0.8888888888888888,\"#fdca26\"],[1.0,\"#f0f921\"]]}],\"contourcarpet\":[{\"type\":\"contourcarpet\",\"colorbar\":{\"outlinewidth\":0,\"ticks\":\"\"}}],\"contour\":[{\"type\":\"contour\",\"colorbar\":{\"outlinewidth\":0,\"ticks\":\"\"},\"colorscale\":[[0.0,\"#0d0887\"],[0.1111111111111111,\"#46039f\"],[0.2222222222222222,\"#7201a8\"],[0.3333333333333333,\"#9c179e\"],[0.4444444444444444,\"#bd3786\"],[0.5555555555555556,\"#d8576b\"],[0.6666666666666666,\"#ed7953\"],[0.7777777777777778,\"#fb9f3a\"],[0.8888888888888888,\"#fdca26\"],[1.0,\"#f0f921\"]]}],\"surface\":[{\"type\":\"surface\",\"colorbar\":{\"outlinewidth\":0,\"ticks\":\"\"},\"colorscale\":[[0.0,\"#0d0887\"],[0.1111111111111111,\"#46039f\"],[0.2222222222222222,\"#7201a8\"],[0.3333333333333333,\"#9c179e\"],[0.4444444444444444,\"#bd3786\"],[0.5555555555555556,\"#d8576b\"],[0.6666666666666666,\"#ed7953\"],[0.7777777777777778,\"#fb9f3a\"],[0.8888888888888888,\"#fdca26\"],[1.0,\"#f0f921\"]]}],\"mesh3d\":[{\"type\":\"mesh3d\",\"colorbar\":{\"outlinewidth\":0,\"ticks\":\"\"}}],\"scatter\":[{\"fillpattern\":{\"fillmode\":\"overlay\",\"size\":10,\"solidity\":0.2},\"type\":\"scatter\"}],\"parcoords\":[{\"type\":\"parcoords\",\"line\":{\"colorbar\":{\"outlinewidth\":0,\"ticks\":\"\"}}}],\"scatterpolargl\":[{\"type\":\"scatterpolargl\",\"marker\":{\"colorbar\":{\"outlinewidth\":0,\"ticks\":\"\"}}}],\"bar\":[{\"error_x\":{\"color\":\"#2a3f5f\"},\"error_y\":{\"color\":\"#2a3f5f\"},\"marker\":{\"line\":{\"color\":\"#E5ECF6\",\"width\":0.5},\"pattern\":{\"fillmode\":\"overlay\",\"size\":10,\"solidity\":0.2}},\"type\":\"bar\"}],\"scattergeo\":[{\"type\":\"scattergeo\",\"marker\":{\"colorbar\":{\"outlinewidth\":0,\"ticks\":\"\"}}}],\"scatterpolar\":[{\"type\":\"scatterpolar\",\"marker\":{\"colorbar\":{\"outlinewidth\":0,\"ticks\":\"\"}}}],\"histogram\":[{\"marker\":{\"pattern\":{\"fillmode\":\"overlay\",\"size\":10,\"solidity\":0.2}},\"type\":\"histogram\"}],\"scattergl\":[{\"type\":\"scattergl\",\"marker\":{\"colorbar\":{\"outlinewidth\":0,\"ticks\":\"\"}}}],\"scatter3d\":[{\"type\":\"scatter3d\",\"line\":{\"colorbar\":{\"outlinewidth\":0,\"ticks\":\"\"}},\"marker\":{\"colorbar\":{\"outlinewidth\":0,\"ticks\":\"\"}}}],\"scattermapbox\":[{\"type\":\"scattermapbox\",\"marker\":{\"colorbar\":{\"outlinewidth\":0,\"ticks\":\"\"}}}],\"scatterternary\":[{\"type\":\"scatterternary\",\"marker\":{\"colorbar\":{\"outlinewidth\":0,\"ticks\":\"\"}}}],\"scattercarpet\":[{\"type\":\"scattercarpet\",\"marker\":{\"colorbar\":{\"outlinewidth\":0,\"ticks\":\"\"}}}],\"carpet\":[{\"aaxis\":{\"endlinecolor\":\"#2a3f5f\",\"gridcolor\":\"white\",\"linecolor\":\"white\",\"minorgridcolor\":\"white\",\"startlinecolor\":\"#2a3f5f\"},\"baxis\":{\"endlinecolor\":\"#2a3f5f\",\"gridcolor\":\"white\",\"linecolor\":\"white\",\"minorgridcolor\":\"white\",\"startlinecolor\":\"#2a3f5f\"},\"type\":\"carpet\"}],\"table\":[{\"cells\":{\"fill\":{\"color\":\"#EBF0F8\"},\"line\":{\"color\":\"white\"}},\"header\":{\"fill\":{\"color\":\"#C8D4E3\"},\"line\":{\"color\":\"white\"}},\"type\":\"table\"}],\"barpolar\":[{\"marker\":{\"line\":{\"color\":\"#E5ECF6\",\"width\":0.5},\"pattern\":{\"fillmode\":\"overlay\",\"size\":10,\"solidity\":0.2}},\"type\":\"barpolar\"}],\"pie\":[{\"automargin\":true,\"type\":\"pie\"}]},\"layout\":{\"autotypenumbers\":\"strict\",\"colorway\":[\"#636efa\",\"#EF553B\",\"#00cc96\",\"#ab63fa\",\"#FFA15A\",\"#19d3f3\",\"#FF6692\",\"#B6E880\",\"#FF97FF\",\"#FECB52\"],\"font\":{\"color\":\"#2a3f5f\"},\"hovermode\":\"closest\",\"hoverlabel\":{\"align\":\"left\"},\"paper_bgcolor\":\"white\",\"plot_bgcolor\":\"#E5ECF6\",\"polar\":{\"bgcolor\":\"#E5ECF6\",\"angularaxis\":{\"gridcolor\":\"white\",\"linecolor\":\"white\",\"ticks\":\"\"},\"radialaxis\":{\"gridcolor\":\"white\",\"linecolor\":\"white\",\"ticks\":\"\"}},\"ternary\":{\"bgcolor\":\"#E5ECF6\",\"aaxis\":{\"gridcolor\":\"white\",\"linecolor\":\"white\",\"ticks\":\"\"},\"baxis\":{\"gridcolor\":\"white\",\"linecolor\":\"white\",\"ticks\":\"\"},\"caxis\":{\"gridcolor\":\"white\",\"linecolor\":\"white\",\"ticks\":\"\"}},\"coloraxis\":{\"colorbar\":{\"outlinewidth\":0,\"ticks\":\"\"}},\"colorscale\":{\"sequential\":[[0.0,\"#0d0887\"],[0.1111111111111111,\"#46039f\"],[0.2222222222222222,\"#7201a8\"],[0.3333333333333333,\"#9c179e\"],[0.4444444444444444,\"#bd3786\"],[0.5555555555555556,\"#d8576b\"],[0.6666666666666666,\"#ed7953\"],[0.7777777777777778,\"#fb9f3a\"],[0.8888888888888888,\"#fdca26\"],[1.0,\"#f0f921\"]],\"sequentialminus\":[[0.0,\"#0d0887\"],[0.1111111111111111,\"#46039f\"],[0.2222222222222222,\"#7201a8\"],[0.3333333333333333,\"#9c179e\"],[0.4444444444444444,\"#bd3786\"],[0.5555555555555556,\"#d8576b\"],[0.6666666666666666,\"#ed7953\"],[0.7777777777777778,\"#fb9f3a\"],[0.8888888888888888,\"#fdca26\"],[1.0,\"#f0f921\"]],\"diverging\":[[0,\"#8e0152\"],[0.1,\"#c51b7d\"],[0.2,\"#de77ae\"],[0.3,\"#f1b6da\"],[0.4,\"#fde0ef\"],[0.5,\"#f7f7f7\"],[0.6,\"#e6f5d0\"],[0.7,\"#b8e186\"],[0.8,\"#7fbc41\"],[0.9,\"#4d9221\"],[1,\"#276419\"]]},\"xaxis\":{\"gridcolor\":\"white\",\"linecolor\":\"white\",\"ticks\":\"\",\"title\":{\"standoff\":15},\"zerolinecolor\":\"white\",\"automargin\":true,\"zerolinewidth\":2},\"yaxis\":{\"gridcolor\":\"white\",\"linecolor\":\"white\",\"ticks\":\"\",\"title\":{\"standoff\":15},\"zerolinecolor\":\"white\",\"automargin\":true,\"zerolinewidth\":2},\"scene\":{\"xaxis\":{\"backgroundcolor\":\"#E5ECF6\",\"gridcolor\":\"white\",\"linecolor\":\"white\",\"showbackground\":true,\"ticks\":\"\",\"zerolinecolor\":\"white\",\"gridwidth\":2},\"yaxis\":{\"backgroundcolor\":\"#E5ECF6\",\"gridcolor\":\"white\",\"linecolor\":\"white\",\"showbackground\":true,\"ticks\":\"\",\"zerolinecolor\":\"white\",\"gridwidth\":2},\"zaxis\":{\"backgroundcolor\":\"#E5ECF6\",\"gridcolor\":\"white\",\"linecolor\":\"white\",\"showbackground\":true,\"ticks\":\"\",\"zerolinecolor\":\"white\",\"gridwidth\":2}},\"shapedefaults\":{\"line\":{\"color\":\"#2a3f5f\"}},\"annotationdefaults\":{\"arrowcolor\":\"#2a3f5f\",\"arrowhead\":0,\"arrowwidth\":1},\"geo\":{\"bgcolor\":\"white\",\"landcolor\":\"#E5ECF6\",\"subunitcolor\":\"white\",\"showland\":true,\"showlakes\":true,\"lakecolor\":\"white\"},\"title\":{\"x\":0.05},\"mapbox\":{\"style\":\"light\"}}},\"xaxis\":{\"anchor\":\"y\",\"domain\":[0.0,0.16799999999999998],\"title\":{\"text\":\"alpha\"}},\"yaxis\":{\"anchor\":\"x\",\"domain\":[0.0,1.0],\"title\":{\"text\":\"Objective Value\"}},\"xaxis2\":{\"anchor\":\"y2\",\"domain\":[0.208,0.376],\"title\":{\"text\":\"beta\"}},\"yaxis2\":{\"anchor\":\"x2\",\"domain\":[0.0,1.0],\"matches\":\"y\",\"showticklabels\":false},\"xaxis3\":{\"anchor\":\"y3\",\"domain\":[0.416,0.584],\"title\":{\"text\":\"implicit\"},\"type\":\"category\",\"categoryorder\":\"array\",\"categoryarray\":[true,false]},\"yaxis3\":{\"anchor\":\"x3\",\"domain\":[0.0,1.0],\"matches\":\"y\",\"showticklabels\":false},\"xaxis4\":{\"anchor\":\"y4\",\"domain\":[0.624,0.792],\"title\":{\"text\":\"normalize_similarity\"},\"type\":\"category\",\"categoryorder\":\"array\",\"categoryarray\":[true,false]},\"yaxis4\":{\"anchor\":\"x4\",\"domain\":[0.0,1.0],\"matches\":\"y\",\"showticklabels\":false},\"xaxis5\":{\"anchor\":\"y5\",\"domain\":[0.832,1.0],\"title\":{\"text\":\"topK\"}},\"yaxis5\":{\"anchor\":\"x5\",\"domain\":[0.0,1.0],\"matches\":\"y\",\"showticklabels\":false},\"title\":{\"text\":\"Slice Plot\"},\"width\":1500},                        {\"responsive\": true}                    ).then(function(){\n",
       "                            \n",
       "var gd = document.getElementById('35079d59-a01f-45b0-96e4-0e1cb297b9ae');\n",
       "var x = new MutationObserver(function (mutations, observer) {{\n",
       "        var display = window.getComputedStyle(gd).display;\n",
       "        if (!display || display === 'none') {{\n",
       "            console.log([gd, 'removed!']);\n",
       "            Plotly.purge(gd);\n",
       "            observer.disconnect();\n",
       "        }}\n",
       "}});\n",
       "\n",
       "// Listen for the removal of the full notebook cells\n",
       "var notebookContainer = gd.closest('#notebook-container');\n",
       "if (notebookContainer) {{\n",
       "    x.observe(notebookContainer, {childList: true});\n",
       "}}\n",
       "\n",
       "// Listen for the clearing of the current output cell\n",
       "var outputEl = gd.closest('.output');\n",
       "if (outputEl) {{\n",
       "    x.observe(outputEl, {childList: true});\n",
       "}}\n",
       "\n",
       "                        })                };                });            </script>        </div>"
      ]
     },
     "metadata": {},
     "output_type": "display_data"
    }
   ],
   "source": [
    "if not config['tune_parameters']:\n",
    "    optuna_study = optuna.load_study(study_name=f'hyperparameters_tuning_{config[\"model\"]}', storage=f'sqlite:///{config[\"database_path\"]}')\n",
    "    \n",
    "fig = optuna.visualization.plot_slice(optuna_study)\n",
    "fig.show()"
   ]
  },
  {
   "cell_type": "code",
   "execution_count": 15,
   "id": "b6a446ae",
   "metadata": {
    "execution": {
     "iopub.execute_input": "2024-12-02T21:51:36.473702Z",
     "iopub.status.busy": "2024-12-02T21:51:36.473304Z",
     "iopub.status.idle": "2024-12-02T21:51:45.129603Z",
     "shell.execute_reply": "2024-12-02T21:51:45.128511Z"
    },
    "papermill": {
     "duration": 8.706838,
     "end_time": "2024-12-02T21:51:45.131727",
     "exception": false,
     "start_time": "2024-12-02T21:51:36.424889",
     "status": "completed"
    },
    "tags": []
   },
   "outputs": [
    {
     "data": {
      "text/html": [
       "<div>                            <div id=\"6e6b11ef-b534-474b-b132-faa5ede35cda\" class=\"plotly-graph-div\" style=\"height:525px; width:100%;\"></div>            <script type=\"text/javascript\">                require([\"plotly\"], function(Plotly) {                    window.PLOTLYENV=window.PLOTLYENV || {};                                    if (document.getElementById(\"6e6b11ef-b534-474b-b132-faa5ede35cda\")) {                    Plotly.newPlot(                        \"6e6b11ef-b534-474b-b132-faa5ede35cda\",                        [{\"cliponaxis\":false,\"hovertemplate\":[\"implicit (CategoricalDistribution): 0.000519921414662086\\u003cextra\\u003e\\u003c\\u002fextra\\u003e\",\"normalize_similarity (CategoricalDistribution): 0.003507093105085825\\u003cextra\\u003e\\u003c\\u002fextra\\u003e\",\"topK (IntDistribution): 0.01376850414521716\\u003cextra\\u003e\\u003c\\u002fextra\\u003e\",\"alpha (FloatDistribution): 0.045531971983271774\\u003cextra\\u003e\\u003c\\u002fextra\\u003e\",\"beta (FloatDistribution): 0.9366725093517632\\u003cextra\\u003e\\u003c\\u002fextra\\u003e\"],\"name\":\"Objective Value\",\"orientation\":\"h\",\"text\":[\"\\u003c0.01\",\"\\u003c0.01\",\"0.01\",\"0.05\",\"0.94\"],\"textposition\":\"outside\",\"x\":[0.000519921414662086,0.003507093105085825,0.01376850414521716,0.045531971983271774,0.9366725093517632],\"y\":[\"implicit\",\"normalize_similarity\",\"topK\",\"alpha\",\"beta\"],\"type\":\"bar\"}],                        {\"title\":{\"text\":\"Hyperparameter Importances\"},\"xaxis\":{\"title\":{\"text\":\"Hyperparameter Importance\"}},\"yaxis\":{\"title\":{\"text\":\"Hyperparameter\"}},\"template\":{\"data\":{\"histogram2dcontour\":[{\"type\":\"histogram2dcontour\",\"colorbar\":{\"outlinewidth\":0,\"ticks\":\"\"},\"colorscale\":[[0.0,\"#0d0887\"],[0.1111111111111111,\"#46039f\"],[0.2222222222222222,\"#7201a8\"],[0.3333333333333333,\"#9c179e\"],[0.4444444444444444,\"#bd3786\"],[0.5555555555555556,\"#d8576b\"],[0.6666666666666666,\"#ed7953\"],[0.7777777777777778,\"#fb9f3a\"],[0.8888888888888888,\"#fdca26\"],[1.0,\"#f0f921\"]]}],\"choropleth\":[{\"type\":\"choropleth\",\"colorbar\":{\"outlinewidth\":0,\"ticks\":\"\"}}],\"histogram2d\":[{\"type\":\"histogram2d\",\"colorbar\":{\"outlinewidth\":0,\"ticks\":\"\"},\"colorscale\":[[0.0,\"#0d0887\"],[0.1111111111111111,\"#46039f\"],[0.2222222222222222,\"#7201a8\"],[0.3333333333333333,\"#9c179e\"],[0.4444444444444444,\"#bd3786\"],[0.5555555555555556,\"#d8576b\"],[0.6666666666666666,\"#ed7953\"],[0.7777777777777778,\"#fb9f3a\"],[0.8888888888888888,\"#fdca26\"],[1.0,\"#f0f921\"]]}],\"heatmap\":[{\"type\":\"heatmap\",\"colorbar\":{\"outlinewidth\":0,\"ticks\":\"\"},\"colorscale\":[[0.0,\"#0d0887\"],[0.1111111111111111,\"#46039f\"],[0.2222222222222222,\"#7201a8\"],[0.3333333333333333,\"#9c179e\"],[0.4444444444444444,\"#bd3786\"],[0.5555555555555556,\"#d8576b\"],[0.6666666666666666,\"#ed7953\"],[0.7777777777777778,\"#fb9f3a\"],[0.8888888888888888,\"#fdca26\"],[1.0,\"#f0f921\"]]}],\"heatmapgl\":[{\"type\":\"heatmapgl\",\"colorbar\":{\"outlinewidth\":0,\"ticks\":\"\"},\"colorscale\":[[0.0,\"#0d0887\"],[0.1111111111111111,\"#46039f\"],[0.2222222222222222,\"#7201a8\"],[0.3333333333333333,\"#9c179e\"],[0.4444444444444444,\"#bd3786\"],[0.5555555555555556,\"#d8576b\"],[0.6666666666666666,\"#ed7953\"],[0.7777777777777778,\"#fb9f3a\"],[0.8888888888888888,\"#fdca26\"],[1.0,\"#f0f921\"]]}],\"contourcarpet\":[{\"type\":\"contourcarpet\",\"colorbar\":{\"outlinewidth\":0,\"ticks\":\"\"}}],\"contour\":[{\"type\":\"contour\",\"colorbar\":{\"outlinewidth\":0,\"ticks\":\"\"},\"colorscale\":[[0.0,\"#0d0887\"],[0.1111111111111111,\"#46039f\"],[0.2222222222222222,\"#7201a8\"],[0.3333333333333333,\"#9c179e\"],[0.4444444444444444,\"#bd3786\"],[0.5555555555555556,\"#d8576b\"],[0.6666666666666666,\"#ed7953\"],[0.7777777777777778,\"#fb9f3a\"],[0.8888888888888888,\"#fdca26\"],[1.0,\"#f0f921\"]]}],\"surface\":[{\"type\":\"surface\",\"colorbar\":{\"outlinewidth\":0,\"ticks\":\"\"},\"colorscale\":[[0.0,\"#0d0887\"],[0.1111111111111111,\"#46039f\"],[0.2222222222222222,\"#7201a8\"],[0.3333333333333333,\"#9c179e\"],[0.4444444444444444,\"#bd3786\"],[0.5555555555555556,\"#d8576b\"],[0.6666666666666666,\"#ed7953\"],[0.7777777777777778,\"#fb9f3a\"],[0.8888888888888888,\"#fdca26\"],[1.0,\"#f0f921\"]]}],\"mesh3d\":[{\"type\":\"mesh3d\",\"colorbar\":{\"outlinewidth\":0,\"ticks\":\"\"}}],\"scatter\":[{\"fillpattern\":{\"fillmode\":\"overlay\",\"size\":10,\"solidity\":0.2},\"type\":\"scatter\"}],\"parcoords\":[{\"type\":\"parcoords\",\"line\":{\"colorbar\":{\"outlinewidth\":0,\"ticks\":\"\"}}}],\"scatterpolargl\":[{\"type\":\"scatterpolargl\",\"marker\":{\"colorbar\":{\"outlinewidth\":0,\"ticks\":\"\"}}}],\"bar\":[{\"error_x\":{\"color\":\"#2a3f5f\"},\"error_y\":{\"color\":\"#2a3f5f\"},\"marker\":{\"line\":{\"color\":\"#E5ECF6\",\"width\":0.5},\"pattern\":{\"fillmode\":\"overlay\",\"size\":10,\"solidity\":0.2}},\"type\":\"bar\"}],\"scattergeo\":[{\"type\":\"scattergeo\",\"marker\":{\"colorbar\":{\"outlinewidth\":0,\"ticks\":\"\"}}}],\"scatterpolar\":[{\"type\":\"scatterpolar\",\"marker\":{\"colorbar\":{\"outlinewidth\":0,\"ticks\":\"\"}}}],\"histogram\":[{\"marker\":{\"pattern\":{\"fillmode\":\"overlay\",\"size\":10,\"solidity\":0.2}},\"type\":\"histogram\"}],\"scattergl\":[{\"type\":\"scattergl\",\"marker\":{\"colorbar\":{\"outlinewidth\":0,\"ticks\":\"\"}}}],\"scatter3d\":[{\"type\":\"scatter3d\",\"line\":{\"colorbar\":{\"outlinewidth\":0,\"ticks\":\"\"}},\"marker\":{\"colorbar\":{\"outlinewidth\":0,\"ticks\":\"\"}}}],\"scattermapbox\":[{\"type\":\"scattermapbox\",\"marker\":{\"colorbar\":{\"outlinewidth\":0,\"ticks\":\"\"}}}],\"scatterternary\":[{\"type\":\"scatterternary\",\"marker\":{\"colorbar\":{\"outlinewidth\":0,\"ticks\":\"\"}}}],\"scattercarpet\":[{\"type\":\"scattercarpet\",\"marker\":{\"colorbar\":{\"outlinewidth\":0,\"ticks\":\"\"}}}],\"carpet\":[{\"aaxis\":{\"endlinecolor\":\"#2a3f5f\",\"gridcolor\":\"white\",\"linecolor\":\"white\",\"minorgridcolor\":\"white\",\"startlinecolor\":\"#2a3f5f\"},\"baxis\":{\"endlinecolor\":\"#2a3f5f\",\"gridcolor\":\"white\",\"linecolor\":\"white\",\"minorgridcolor\":\"white\",\"startlinecolor\":\"#2a3f5f\"},\"type\":\"carpet\"}],\"table\":[{\"cells\":{\"fill\":{\"color\":\"#EBF0F8\"},\"line\":{\"color\":\"white\"}},\"header\":{\"fill\":{\"color\":\"#C8D4E3\"},\"line\":{\"color\":\"white\"}},\"type\":\"table\"}],\"barpolar\":[{\"marker\":{\"line\":{\"color\":\"#E5ECF6\",\"width\":0.5},\"pattern\":{\"fillmode\":\"overlay\",\"size\":10,\"solidity\":0.2}},\"type\":\"barpolar\"}],\"pie\":[{\"automargin\":true,\"type\":\"pie\"}]},\"layout\":{\"autotypenumbers\":\"strict\",\"colorway\":[\"#636efa\",\"#EF553B\",\"#00cc96\",\"#ab63fa\",\"#FFA15A\",\"#19d3f3\",\"#FF6692\",\"#B6E880\",\"#FF97FF\",\"#FECB52\"],\"font\":{\"color\":\"#2a3f5f\"},\"hovermode\":\"closest\",\"hoverlabel\":{\"align\":\"left\"},\"paper_bgcolor\":\"white\",\"plot_bgcolor\":\"#E5ECF6\",\"polar\":{\"bgcolor\":\"#E5ECF6\",\"angularaxis\":{\"gridcolor\":\"white\",\"linecolor\":\"white\",\"ticks\":\"\"},\"radialaxis\":{\"gridcolor\":\"white\",\"linecolor\":\"white\",\"ticks\":\"\"}},\"ternary\":{\"bgcolor\":\"#E5ECF6\",\"aaxis\":{\"gridcolor\":\"white\",\"linecolor\":\"white\",\"ticks\":\"\"},\"baxis\":{\"gridcolor\":\"white\",\"linecolor\":\"white\",\"ticks\":\"\"},\"caxis\":{\"gridcolor\":\"white\",\"linecolor\":\"white\",\"ticks\":\"\"}},\"coloraxis\":{\"colorbar\":{\"outlinewidth\":0,\"ticks\":\"\"}},\"colorscale\":{\"sequential\":[[0.0,\"#0d0887\"],[0.1111111111111111,\"#46039f\"],[0.2222222222222222,\"#7201a8\"],[0.3333333333333333,\"#9c179e\"],[0.4444444444444444,\"#bd3786\"],[0.5555555555555556,\"#d8576b\"],[0.6666666666666666,\"#ed7953\"],[0.7777777777777778,\"#fb9f3a\"],[0.8888888888888888,\"#fdca26\"],[1.0,\"#f0f921\"]],\"sequentialminus\":[[0.0,\"#0d0887\"],[0.1111111111111111,\"#46039f\"],[0.2222222222222222,\"#7201a8\"],[0.3333333333333333,\"#9c179e\"],[0.4444444444444444,\"#bd3786\"],[0.5555555555555556,\"#d8576b\"],[0.6666666666666666,\"#ed7953\"],[0.7777777777777778,\"#fb9f3a\"],[0.8888888888888888,\"#fdca26\"],[1.0,\"#f0f921\"]],\"diverging\":[[0,\"#8e0152\"],[0.1,\"#c51b7d\"],[0.2,\"#de77ae\"],[0.3,\"#f1b6da\"],[0.4,\"#fde0ef\"],[0.5,\"#f7f7f7\"],[0.6,\"#e6f5d0\"],[0.7,\"#b8e186\"],[0.8,\"#7fbc41\"],[0.9,\"#4d9221\"],[1,\"#276419\"]]},\"xaxis\":{\"gridcolor\":\"white\",\"linecolor\":\"white\",\"ticks\":\"\",\"title\":{\"standoff\":15},\"zerolinecolor\":\"white\",\"automargin\":true,\"zerolinewidth\":2},\"yaxis\":{\"gridcolor\":\"white\",\"linecolor\":\"white\",\"ticks\":\"\",\"title\":{\"standoff\":15},\"zerolinecolor\":\"white\",\"automargin\":true,\"zerolinewidth\":2},\"scene\":{\"xaxis\":{\"backgroundcolor\":\"#E5ECF6\",\"gridcolor\":\"white\",\"linecolor\":\"white\",\"showbackground\":true,\"ticks\":\"\",\"zerolinecolor\":\"white\",\"gridwidth\":2},\"yaxis\":{\"backgroundcolor\":\"#E5ECF6\",\"gridcolor\":\"white\",\"linecolor\":\"white\",\"showbackground\":true,\"ticks\":\"\",\"zerolinecolor\":\"white\",\"gridwidth\":2},\"zaxis\":{\"backgroundcolor\":\"#E5ECF6\",\"gridcolor\":\"white\",\"linecolor\":\"white\",\"showbackground\":true,\"ticks\":\"\",\"zerolinecolor\":\"white\",\"gridwidth\":2}},\"shapedefaults\":{\"line\":{\"color\":\"#2a3f5f\"}},\"annotationdefaults\":{\"arrowcolor\":\"#2a3f5f\",\"arrowhead\":0,\"arrowwidth\":1},\"geo\":{\"bgcolor\":\"white\",\"landcolor\":\"#E5ECF6\",\"subunitcolor\":\"white\",\"showland\":true,\"showlakes\":true,\"lakecolor\":\"white\"},\"title\":{\"x\":0.05},\"mapbox\":{\"style\":\"light\"}}}},                        {\"responsive\": true}                    ).then(function(){\n",
       "                            \n",
       "var gd = document.getElementById('6e6b11ef-b534-474b-b132-faa5ede35cda');\n",
       "var x = new MutationObserver(function (mutations, observer) {{\n",
       "        var display = window.getComputedStyle(gd).display;\n",
       "        if (!display || display === 'none') {{\n",
       "            console.log([gd, 'removed!']);\n",
       "            Plotly.purge(gd);\n",
       "            observer.disconnect();\n",
       "        }}\n",
       "}});\n",
       "\n",
       "// Listen for the removal of the full notebook cells\n",
       "var notebookContainer = gd.closest('#notebook-container');\n",
       "if (notebookContainer) {{\n",
       "    x.observe(notebookContainer, {childList: true});\n",
       "}}\n",
       "\n",
       "// Listen for the clearing of the current output cell\n",
       "var outputEl = gd.closest('.output');\n",
       "if (outputEl) {{\n",
       "    x.observe(outputEl, {childList: true});\n",
       "}}\n",
       "\n",
       "                        })                };                });            </script>        </div>"
      ]
     },
     "metadata": {},
     "output_type": "display_data"
    }
   ],
   "source": [
    "if not config['tune_parameters']:\n",
    "    optuna_study = optuna.load_study(study_name=f'hyperparameters_tuning_{config[\"model\"]}', storage=f'sqlite:///{config[\"database_path\"]}')\n",
    "    \n",
    "fig = optuna.visualization.plot_param_importances(optuna_study)\n",
    "fig.show()"
   ]
  },
  {
   "cell_type": "markdown",
   "id": "76ef18ba",
   "metadata": {
    "papermill": {
     "duration": 0.045247,
     "end_time": "2024-12-02T21:51:45.223889",
     "exception": false,
     "start_time": "2024-12-02T21:51:45.178642",
     "status": "completed"
    },
    "tags": []
   },
   "source": [
    "## Let's train the recommender with best parameter values"
   ]
  },
  {
   "cell_type": "code",
   "execution_count": 16,
   "id": "728b64f1",
   "metadata": {
    "execution": {
     "iopub.execute_input": "2024-12-02T21:51:45.318841Z",
     "iopub.status.busy": "2024-12-02T21:51:45.318463Z",
     "iopub.status.idle": "2024-12-02T21:52:06.271260Z",
     "shell.execute_reply": "2024-12-02T21:52:06.270050Z"
    },
    "papermill": {
     "duration": 21.004244,
     "end_time": "2024-12-02T21:52:06.273635",
     "exception": false,
     "start_time": "2024-12-02T21:51:45.269391",
     "status": "completed"
    },
    "tags": []
   },
   "outputs": [
    {
     "name": "stdout",
     "output_type": "stream",
     "text": [
      "RP3betaRecommender: Similarity column 38121 (100.0%), 1928.22 column/sec. Elapsed time 19.77 sec\n"
     ]
    }
   ],
   "source": [
    "if config['tune_best_params']:\n",
    "\n",
    "    if config['tune_parameters']:\n",
    "        best_params = optuna_study.best_trial.params\n",
    "    else: \n",
    "        with open(f'{K_PATH}/{GH_PATH}/{config[\"model\"]}Recommender/best_params_{config[\"model\"]}.json', 'r') as best_params_json:\n",
    "            best_params = json.load(best_params_json)\n",
    "\n",
    "    recommender_instance = RP3betaRecommender(URM_train + URM_validation)\n",
    "    recommender_instance.fit(**best_params)"
   ]
  },
  {
   "cell_type": "markdown",
   "id": "3a1b5bde",
   "metadata": {
    "papermill": {
     "duration": 0.04914,
     "end_time": "2024-12-02T21:52:06.368320",
     "exception": false,
     "start_time": "2024-12-02T21:52:06.319180",
     "status": "completed"
    },
    "tags": []
   },
   "source": [
    "# Testing"
   ]
  },
  {
   "cell_type": "markdown",
   "id": "453d51d4",
   "metadata": {
    "papermill": {
     "duration": 0.049198,
     "end_time": "2024-12-02T21:52:06.464884",
     "exception": false,
     "start_time": "2024-12-02T21:52:06.415686",
     "status": "completed"
    },
    "tags": []
   },
   "source": [
    "Create the recommendations for the submission. "
   ]
  },
  {
   "cell_type": "code",
   "execution_count": 17,
   "id": "14e030b7",
   "metadata": {
    "execution": {
     "iopub.execute_input": "2024-12-02T21:52:06.560664Z",
     "iopub.status.busy": "2024-12-02T21:52:06.560289Z",
     "iopub.status.idle": "2024-12-02T21:52:25.679021Z",
     "shell.execute_reply": "2024-12-02T21:52:25.677777Z"
    },
    "papermill": {
     "duration": 19.16928,
     "end_time": "2024-12-02T21:52:25.681437",
     "exception": false,
     "start_time": "2024-12-02T21:52:06.512157",
     "status": "completed"
    },
    "tags": []
   },
   "outputs": [
    {
     "name": "stdout",
     "output_type": "stream",
     "text": [
      "Submission file saved as /kaggle/working/submission_RP3beta.csv\n"
     ]
    }
   ],
   "source": [
    "if config['tune_best_params']:\n",
    "\n",
    "    data_target_users_test = pd.read_csv('/kaggle/input/recommender-system-2024-challenge-polimi/data_target_users_test.csv')\n",
    "    create_submission(data_target_users_test, recommender_instance, f'/kaggle/working/submission_{config[\"model\"]}.csv')"
   ]
  },
  {
   "cell_type": "markdown",
   "id": "cad266b7",
   "metadata": {
    "execution": {
     "iopub.execute_input": "2024-11-14T00:04:16.877791Z",
     "iopub.status.busy": "2024-11-14T00:04:16.877275Z",
     "iopub.status.idle": "2024-11-14T00:04:16.883170Z",
     "shell.execute_reply": "2024-11-14T00:04:16.881889Z",
     "shell.execute_reply.started": "2024-11-14T00:04:16.877743Z"
    },
    "papermill": {
     "duration": 0.045151,
     "end_time": "2024-12-02T21:52:25.773315",
     "exception": false,
     "start_time": "2024-12-02T21:52:25.728164",
     "status": "completed"
    },
    "tags": []
   },
   "source": [
    "# Save Version on GitHub "
   ]
  },
  {
   "cell_type": "markdown",
   "id": "f82747c3",
   "metadata": {
    "papermill": {
     "duration": 0.046472,
     "end_time": "2024-12-02T21:52:25.865809",
     "exception": false,
     "start_time": "2024-12-02T21:52:25.819337",
     "status": "completed"
    },
    "tags": []
   },
   "source": [
    "Write or import a json file where best hyperparameters are saved. "
   ]
  },
  {
   "cell_type": "code",
   "execution_count": null,
   "id": "91206bfe",
   "metadata": {
    "execution": {
     "iopub.execute_input": "2024-12-02T21:52:25.960004Z",
     "iopub.status.busy": "2024-12-02T21:52:25.959627Z",
     "iopub.status.idle": "2024-12-02T21:52:27.272320Z",
     "shell.execute_reply": "2024-12-02T21:52:27.271025Z"
    },
    "papermill": {
     "duration": 1.362044,
     "end_time": "2024-12-02T21:52:27.274675",
     "exception": false,
     "start_time": "2024-12-02T21:52:25.912631",
     "status": "completed"
    },
    "tags": []
   },
   "outputs": [
    {
     "name": "stdout",
     "output_type": "stream",
     "text": [
      "File 'TrainedModels/WithoutKFCV/GraphBased/RP3betaRecommender/best_params_RP3beta.json' updated successfully.\n"
     ]
    }
   ],
   "source": [
    "if config['tune_parameters']:\n",
    "    with open(f'/kaggle/working/best_params_{config[\"model\"]}.json', 'w') as params_file:\n",
    "        json.dump(optuna_study.best_params, params_file)\n",
    "        \n",
    "    if config['save_github']:\n",
    "        upload_file(\n",
    "            f'/kaggle/working/best_params_{config[\"model\"]}.json', \n",
    "            f'{GH_PATH}/{config[\"model\"]}Recommender/OptimizingMAP/best_params_{config[\"model\"]}.json', \n",
    "            f'{config[\"model\"]} tuning results (from kaggle notebook)',\n",
    "            repo\n",
    "        )\n",
    "elif config['copy_prev_best_params']:\n",
    "    shutil.copyfile(\n",
    "        f'{K_PATH}/{GH_PATH}/{config[\"model\"]}Recommender/OptimizingMAP/'\\\n",
    "        f'best_params_{config[\"model\"]}.json', \n",
    "        f'/kaggle/working/best_params_{config[\"model\"]}.json'\n",
    "    )"
   ]
  },
  {
   "cell_type": "markdown",
   "id": "f46cc6e5",
   "metadata": {
    "execution": {
     "iopub.execute_input": "2024-11-14T00:41:34.294243Z",
     "iopub.status.busy": "2024-11-14T00:41:34.293739Z",
     "iopub.status.idle": "2024-11-14T00:41:34.301478Z",
     "shell.execute_reply": "2024-11-14T00:41:34.299869Z",
     "shell.execute_reply.started": "2024-11-14T00:41:34.294186Z"
    },
    "papermill": {
     "duration": 0.046846,
     "end_time": "2024-12-02T21:52:27.368924",
     "exception": false,
     "start_time": "2024-12-02T21:52:27.322078",
     "status": "completed"
    },
    "tags": []
   },
   "source": [
    "Save the history of the tuned model."
   ]
  },
  {
   "cell_type": "code",
   "execution_count": null,
   "id": "c57cc68d",
   "metadata": {
    "execution": {
     "iopub.execute_input": "2024-12-02T21:52:27.465797Z",
     "iopub.status.busy": "2024-12-02T21:52:27.465392Z",
     "iopub.status.idle": "2024-12-02T21:52:30.008636Z",
     "shell.execute_reply": "2024-12-02T21:52:30.007381Z"
    },
    "papermill": {
     "duration": 2.594023,
     "end_time": "2024-12-02T21:52:30.010909",
     "exception": false,
     "start_time": "2024-12-02T21:52:27.416886",
     "status": "completed"
    },
    "tags": []
   },
   "outputs": [
    {
     "name": "stdout",
     "output_type": "stream",
     "text": [
      "File 'TrainedModels/WithoutKFCV/GraphBased/RP3betaRecommender/history_RP3beta.db' updated successfully.\n"
     ]
    }
   ],
   "source": [
    "if config['save_github'] and config['tune_parameters']:\n",
    "    upload_file(\n",
    "        config['database_path'], \n",
    "        f'{GH_PATH}/{config[\"model\"]}Recommender/OptimizingMAP/history_{config[\"model\"]}.db',\n",
    "        f'Tuning {config[\"model\"]} db updated results (from kaggle notebook)',\n",
    "        repo\n",
    "    )"
   ]
  },
  {
   "cell_type": "markdown",
   "id": "a19fd7a8",
   "metadata": {
    "papermill": {
     "duration": 0.046587,
     "end_time": "2024-12-02T21:52:30.103392",
     "exception": false,
     "start_time": "2024-12-02T21:52:30.056805",
     "status": "completed"
    },
    "tags": []
   },
   "source": [
    "Save the best trained model and its submission."
   ]
  },
  {
   "cell_type": "code",
   "execution_count": null,
   "id": "dd33bc73",
   "metadata": {
    "execution": {
     "iopub.execute_input": "2024-12-02T21:52:30.197157Z",
     "iopub.status.busy": "2024-12-02T21:52:30.196643Z",
     "iopub.status.idle": "2024-12-02T21:52:32.862717Z",
     "shell.execute_reply": "2024-12-02T21:52:32.861389Z"
    },
    "papermill": {
     "duration": 2.716069,
     "end_time": "2024-12-02T21:52:32.865109",
     "exception": false,
     "start_time": "2024-12-02T21:52:30.149040",
     "status": "completed"
    },
    "tags": []
   },
   "outputs": [
    {
     "name": "stdout",
     "output_type": "stream",
     "text": [
      "File 'TrainedModels/WithoutKFCV/GraphBased/RP3betaRecommender/Submission/submission_RP3beta.csv' updated successfully.\n"
     ]
    }
   ],
   "source": [
    "if config['save_github'] and config['tune_best_params']: \n",
    "    upload_file(\n",
    "                f'/kaggle/working/submission_{config[\"model\"]}.csv', \n",
    "                f'{GH_PATH}/{config[\"model\"]}Recommender/OptimizingMAP/Submission/submission_{config[\"model\"]}.csv', \n",
    "                f'New {config[\"model\"]} submission (from kaggle notebook)',\n",
    "                repo\n",
    "            )"
   ]
  }
 ],
 "metadata": {
  "kaggle": {
   "accelerator": "none",
   "dataSources": [
    {
     "databundleVersionId": 9982103,
     "sourceId": 87439,
     "sourceType": "competition"
    }
   ],
   "dockerImageVersionId": 30786,
   "isGpuEnabled": false,
   "isInternetEnabled": true,
   "language": "python",
   "sourceType": "notebook"
  },
  "kernelspec": {
   "display_name": "Python 3",
   "language": "python",
   "name": "python3"
  },
  "language_info": {
   "codemirror_mode": {
    "name": "ipython",
    "version": 3
   },
   "file_extension": ".py",
   "mimetype": "text/x-python",
   "name": "python",
   "nbconvert_exporter": "python",
   "pygments_lexer": "ipython3",
   "version": "3.10.14"
  },
  "papermill": {
   "default_parameters": {},
   "duration": 12168.623935,
   "end_time": "2024-12-02T21:52:33.936057",
   "environment_variables": {},
   "exception": null,
   "input_path": "__notebook__.ipynb",
   "output_path": "__notebook__.ipynb",
   "parameters": {},
   "start_time": "2024-12-02T18:29:45.312122",
   "version": "2.6.0"
  }
 },
 "nbformat": 4,
 "nbformat_minor": 5
}
