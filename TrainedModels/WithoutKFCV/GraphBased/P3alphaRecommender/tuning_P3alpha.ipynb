{
 "cells": [
  {
   "cell_type": "markdown",
   "id": "4e8f75c1",
   "metadata": {
    "papermill": {
     "duration": 0.006525,
     "end_time": "2024-12-02T18:25:57.374280",
     "exception": false,
     "start_time": "2024-12-02T18:25:57.367755",
     "status": "completed"
    },
    "tags": []
   },
   "source": [
    "# Set connection with GitHub"
   ]
  },
  {
   "cell_type": "code",
   "execution_count": 1,
   "id": "9966e8da",
   "metadata": {
    "execution": {
     "iopub.execute_input": "2024-12-02T18:25:57.387140Z",
     "iopub.status.busy": "2024-12-02T18:25:57.386711Z",
     "iopub.status.idle": "2024-12-02T18:25:57.393477Z",
     "shell.execute_reply": "2024-12-02T18:25:57.391982Z"
    },
    "papermill": {
     "duration": 0.015973,
     "end_time": "2024-12-02T18:25:57.395953",
     "exception": false,
     "start_time": "2024-12-02T18:25:57.379980",
     "status": "completed"
    },
    "tags": []
   },
   "outputs": [],
   "source": [
    "# ! cd /kaggle/working && rm -rf RECsys_Challenge2024"
   ]
  },
  {
   "cell_type": "code",
   "execution_count": 2,
   "id": "c880abea",
   "metadata": {
    "_cell_guid": "b1076dfc-b9ad-4769-8c92-a6c4dae69d19",
    "_uuid": "8f2839f25d086af736a60e9eeb907d3b93b6e0e5",
    "execution": {
     "iopub.execute_input": "2024-12-02T18:25:57.409328Z",
     "iopub.status.busy": "2024-12-02T18:25:57.408892Z",
     "iopub.status.idle": "2024-12-02T18:26:08.773521Z",
     "shell.execute_reply": "2024-12-02T18:26:08.771990Z"
    },
    "papermill": {
     "duration": 11.374563,
     "end_time": "2024-12-02T18:26:08.776400",
     "exception": false,
     "start_time": "2024-12-02T18:25:57.401837",
     "status": "completed"
    },
    "tags": []
   },
   "outputs": [
    {
     "name": "stdout",
     "output_type": "stream",
     "text": [
      "Cloning into 'RECsys_Challenge2024'...\r\n",
      "remote: Enumerating objects: 3790, done.\u001b[K\r\n",
      "remote: Counting objects: 100% (1263/1263), done.\u001b[K\r\n",
      "remote: Compressing objects: 100% (479/479), done.\u001b[K\r\n",
      "remote: Total 3790 (delta 694), reused 1121 (delta 606), pack-reused 2527 (from 1)\u001b[K\r\n",
      "Receiving objects: 100% (3790/3790), 164.84 MiB | 30.46 MiB/s, done.\r\n",
      "Resolving deltas: 100% (2213/2213), done.\r\n",
      "Updating files: 100% (364/364), done.\r\n"
     ]
    }
   ],
   "source": [
    "from kaggle_secrets import UserSecretsClient\n",
    "\n",
    "token = UserSecretsClient().get_secret(\"Token\")\n",
    "\n",
    "! git clone https://{token}@github.com/madratak/RECsys_Challenge2024.git"
   ]
  },
  {
   "cell_type": "code",
   "execution_count": 3,
   "id": "60db8cda",
   "metadata": {
    "execution": {
     "iopub.execute_input": "2024-12-02T18:26:08.797444Z",
     "iopub.status.busy": "2024-12-02T18:26:08.796971Z",
     "iopub.status.idle": "2024-12-02T18:26:21.476837Z",
     "shell.execute_reply": "2024-12-02T18:26:21.475357Z"
    },
    "papermill": {
     "duration": 12.693964,
     "end_time": "2024-12-02T18:26:21.479551",
     "exception": false,
     "start_time": "2024-12-02T18:26:08.785587",
     "status": "completed"
    },
    "tags": []
   },
   "outputs": [
    {
     "name": "stdout",
     "output_type": "stream",
     "text": [
      "Collecting PyGithub\r\n",
      "  Downloading PyGithub-2.5.0-py3-none-any.whl.metadata (3.9 kB)\r\n",
      "Requirement already satisfied: requests in /opt/conda/lib/python3.10/site-packages (2.32.3)\r\n",
      "Collecting pynacl>=1.4.0 (from PyGithub)\r\n",
      "  Downloading PyNaCl-1.5.0-cp36-abi3-manylinux_2_17_x86_64.manylinux2014_x86_64.manylinux_2_24_x86_64.whl.metadata (8.6 kB)\r\n",
      "Requirement already satisfied: pyjwt>=2.4.0 in /opt/conda/lib/python3.10/site-packages (from pyjwt[crypto]>=2.4.0->PyGithub) (2.8.0)\r\n",
      "Requirement already satisfied: typing-extensions>=4.0.0 in /opt/conda/lib/python3.10/site-packages (from PyGithub) (4.12.2)\r\n",
      "Requirement already satisfied: urllib3>=1.26.0 in /opt/conda/lib/python3.10/site-packages (from PyGithub) (1.26.18)\r\n",
      "Requirement already satisfied: Deprecated in /opt/conda/lib/python3.10/site-packages (from PyGithub) (1.2.14)\r\n",
      "Requirement already satisfied: charset-normalizer<4,>=2 in /opt/conda/lib/python3.10/site-packages (from requests) (3.3.2)\r\n",
      "Requirement already satisfied: idna<4,>=2.5 in /opt/conda/lib/python3.10/site-packages (from requests) (3.7)\r\n",
      "Requirement already satisfied: certifi>=2017.4.17 in /opt/conda/lib/python3.10/site-packages (from requests) (2024.8.30)\r\n",
      "Requirement already satisfied: cryptography>=3.4.0 in /opt/conda/lib/python3.10/site-packages (from pyjwt[crypto]>=2.4.0->PyGithub) (42.0.8)\r\n",
      "Requirement already satisfied: cffi>=1.4.1 in /opt/conda/lib/python3.10/site-packages (from pynacl>=1.4.0->PyGithub) (1.16.0)\r\n",
      "Requirement already satisfied: wrapt<2,>=1.10 in /opt/conda/lib/python3.10/site-packages (from Deprecated->PyGithub) (1.16.0)\r\n",
      "Requirement already satisfied: pycparser in /opt/conda/lib/python3.10/site-packages (from cffi>=1.4.1->pynacl>=1.4.0->PyGithub) (2.22)\r\n",
      "Downloading PyGithub-2.5.0-py3-none-any.whl (375 kB)\r\n",
      "\u001b[2K   \u001b[90m━━━━━━━━━━━━━━━━━━━━━━━━━━━━━━━━━━━━━━━━\u001b[0m \u001b[32m375.9/375.9 kB\u001b[0m \u001b[31m7.9 MB/s\u001b[0m eta \u001b[36m0:00:00\u001b[0m\r\n",
      "\u001b[?25hDownloading PyNaCl-1.5.0-cp36-abi3-manylinux_2_17_x86_64.manylinux2014_x86_64.manylinux_2_24_x86_64.whl (856 kB)\r\n",
      "\u001b[2K   \u001b[90m━━━━━━━━━━━━━━━━━━━━━━━━━━━━━━━━━━━━━━━━\u001b[0m \u001b[32m856.7/856.7 kB\u001b[0m \u001b[31m29.4 MB/s\u001b[0m eta \u001b[36m0:00:00\u001b[0m\r\n",
      "\u001b[?25hInstalling collected packages: pynacl, PyGithub\r\n",
      "Successfully installed PyGithub-2.5.0 pynacl-1.5.0\r\n"
     ]
    }
   ],
   "source": [
    "! pip install PyGithub requests"
   ]
  },
  {
   "cell_type": "code",
   "execution_count": 4,
   "id": "7e93e3be",
   "metadata": {
    "_kg_hide-input": false,
    "execution": {
     "iopub.execute_input": "2024-12-02T18:26:21.500382Z",
     "iopub.status.busy": "2024-12-02T18:26:21.499945Z",
     "iopub.status.idle": "2024-12-02T18:28:57.789836Z",
     "shell.execute_reply": "2024-12-02T18:28:57.788297Z"
    },
    "papermill": {
     "duration": 156.303623,
     "end_time": "2024-12-02T18:28:57.792671",
     "exception": false,
     "start_time": "2024-12-02T18:26:21.489048",
     "status": "completed"
    },
    "tags": []
   },
   "outputs": [
    {
     "name": "stdout",
     "output_type": "stream",
     "text": [
      "/kaggle/working/RECsys_Challenge2024\n",
      "run_compile_all_cython: Found 11 Cython files in 5 folders...\r\n",
      "run_compile_all_cython: All files will be compiled using your current python environment: '/opt/conda/bin/python'\r\n",
      "Compiling [1/11]: MatrixFactorization_Cython_Epoch.pyx... \r\n",
      "In file included from \u001b[01m\u001b[K/opt/conda/lib/python3.10/site-packages/numpy/core/include/numpy/ndarraytypes.h:1929\u001b[m\u001b[K,\r\n",
      "                 from \u001b[01m\u001b[K/opt/conda/lib/python3.10/site-packages/numpy/core/include/numpy/ndarrayobject.h:12\u001b[m\u001b[K,\r\n",
      "                 from \u001b[01m\u001b[K/opt/conda/lib/python3.10/site-packages/numpy/core/include/numpy/arrayobject.h:5\u001b[m\u001b[K,\r\n",
      "                 from \u001b[01m\u001b[KMatrixFactorization_Cython_Epoch.c:1252\u001b[m\u001b[K:\r\n",
      "\u001b[01m\u001b[K/opt/conda/lib/python3.10/site-packages/numpy/core/include/numpy/npy_1_7_deprecated_api.h:17:2:\u001b[m\u001b[K \u001b[01;35m\u001b[Kwarning: \u001b[m\u001b[K#warning \"Using deprecated NumPy API, disable it with \" \"#define NPY_NO_DEPRECATED_API NPY_1_7_API_VERSION\" [\u001b[01;35m\u001b[K-Wcpp\u001b[m\u001b[K]\r\n",
      "   17 | #\u001b[01;35m\u001b[Kwarning\u001b[m\u001b[K \"Using deprecated NumPy API, disable it with \" \\\r\n",
      "      |  \u001b[01;35m\u001b[K^~~~~~~\u001b[m\u001b[K\r\n",
      "\u001b[01m\u001b[KMatrixFactorization_Cython_Epoch.c:\u001b[m\u001b[K In function '\u001b[01m\u001b[K__pyx_pf_32MatrixFactorization_Cython_Epoch_32MatrixFactorization_Cython_Epoch_10epochIteration_Cython_ASY_SVD_SGD\u001b[m\u001b[K':\r\n",
      "\u001b[01m\u001b[KMatrixFactorization_Cython_Epoch.c:26255:9:\u001b[m\u001b[K \u001b[01;35m\u001b[Kwarning: \u001b[m\u001b[K'\u001b[01m\u001b[K__pyx_v_end_pos_seen_items\u001b[m\u001b[K' may be used uninitialized in this function [\u001b[01;35m\u001b[K-Wmaybe-uninitialized\u001b[m\u001b[K]\r\n",
      "26255 |         \u001b[01;35m\u001b[Kfor\u001b[m\u001b[K (__pyx_t_21 = __pyx_v_start_pos_seen_items; __pyx_t_21 < __pyx_t_20; __pyx_t_21+=1) {\r\n",
      "      |         \u001b[01;35m\u001b[K^~~\u001b[m\u001b[K\r\n",
      "\u001b[01m\u001b[KMatrixFactorization_Cython_Epoch.c:26255:9:\u001b[m\u001b[K \u001b[01;35m\u001b[Kwarning: \u001b[m\u001b[K'\u001b[01m\u001b[K__pyx_v_start_pos_seen_items\u001b[m\u001b[K' may be used uninitialized in this function [\u001b[01;35m\u001b[K-Wmaybe-uninitialized\u001b[m\u001b[K]\r\n",
      "/opt/conda/lib/python3.10/site-packages/Cython/Compiler/Main.py:381: FutureWarning: Cython directive 'language_level' not set, using '3str' for now (Py3). This has changed from earlier releases! File: /kaggle/working/RECsys_Challenge2024/Recommenders/MatrixFactorization/Cython/MatrixFactorization_Cython_Epoch.pyx\r\n",
      "  tree = Parsing.p_module(s, pxd, full_module_name)\r\n",
      "Compiling [1/11]: MatrixFactorization_Cython_Epoch.pyx... PASS\r\n",
      "\r\n",
      "Compiling [2/11]: MatrixFactorizationImpressions_Cython_Epoch.pyx... \r\n",
      "In file included from \u001b[01m\u001b[K/opt/conda/lib/python3.10/site-packages/numpy/core/include/numpy/ndarraytypes.h:1929\u001b[m\u001b[K,\r\n",
      "                 from \u001b[01m\u001b[K/opt/conda/lib/python3.10/site-packages/numpy/core/include/numpy/ndarrayobject.h:12\u001b[m\u001b[K,\r\n",
      "                 from \u001b[01m\u001b[K/opt/conda/lib/python3.10/site-packages/numpy/core/include/numpy/arrayobject.h:5\u001b[m\u001b[K,\r\n",
      "                 from \u001b[01m\u001b[KMatrixFactorizationImpressions_Cython_Epoch.c:1252\u001b[m\u001b[K:\r\n",
      "\u001b[01m\u001b[K/opt/conda/lib/python3.10/site-packages/numpy/core/include/numpy/npy_1_7_deprecated_api.h:17:2:\u001b[m\u001b[K \u001b[01;35m\u001b[Kwarning: \u001b[m\u001b[K#warning \"Using deprecated NumPy API, disable it with \" \"#define NPY_NO_DEPRECATED_API NPY_1_7_API_VERSION\" [\u001b[01;35m\u001b[K-Wcpp\u001b[m\u001b[K]\r\n",
      "   17 | #\u001b[01;35m\u001b[Kwarning\u001b[m\u001b[K \"Using deprecated NumPy API, disable it with \" \\\r\n",
      "      |  \u001b[01;35m\u001b[K^~~~~~~\u001b[m\u001b[K\r\n",
      "\u001b[01m\u001b[KMatrixFactorizationImpressions_Cython_Epoch.c:\u001b[m\u001b[K In function '\u001b[01m\u001b[K__pyx_f_43MatrixFactorizationImpressions_Cython_Epoch_32MatrixFactorization_Cython_Epoch_sampleBPR_Cython\u001b[m\u001b[K':\r\n",
      "\u001b[01m\u001b[KMatrixFactorizationImpressions_Cython_Epoch.c:30351:17:\u001b[m\u001b[K \u001b[01;35m\u001b[Kwarning: \u001b[m\u001b[K'\u001b[01m\u001b[K__pyx_v_start_pos_impression_items\u001b[m\u001b[K' may be used uninitialized in this function [\u001b[01;35m\u001b[K-Wmaybe-uninitialized\u001b[m\u001b[K]\r\n",
      "30351 |       \u001b[01;35m\u001b[K__pyx_t_4 = (__pyx_v_start_pos_impression_items + __pyx_v_index)\u001b[m\u001b[K;\r\n",
      "      |       \u001b[01;35m\u001b[K~~~~~~~~~~^~~~~~~~~~~~~~~~~~~~~~~~~~~~~~~~~~~~~~~~~~~~~~~~~~~~~~\u001b[m\u001b[K\r\n",
      "\u001b[01m\u001b[KMatrixFactorizationImpressions_Cython_Epoch.c:\u001b[m\u001b[K In function '\u001b[01m\u001b[K__pyx_pf_43MatrixFactorizationImpressions_Cython_Epoch_32MatrixFactorization_Cython_Epoch_10epochIteration_Cython_ASY_SVD_SGD\u001b[m\u001b[K':\r\n",
      "\u001b[01m\u001b[KMatrixFactorizationImpressions_Cython_Epoch.c:26111:7:\u001b[m\u001b[K \u001b[01;35m\u001b[Kwarning: \u001b[m\u001b[K'\u001b[01m\u001b[K__pyx_v_end_pos_seen_items\u001b[m\u001b[K' may be used uninitialized in this function [\u001b[01;35m\u001b[K-Wmaybe-uninitialized\u001b[m\u001b[K]\r\n",
      "26111 |       \u001b[01;35m\u001b[Kfor\u001b[m\u001b[K (__pyx_t_21 = __pyx_v_start_pos_seen_items; __pyx_t_21 < __pyx_t_20; __pyx_t_21+=1) {\r\n",
      "      |       \u001b[01;35m\u001b[K^~~\u001b[m\u001b[K\r\n",
      "\u001b[01m\u001b[KMatrixFactorizationImpressions_Cython_Epoch.c:26111:7:\u001b[m\u001b[K \u001b[01;35m\u001b[Kwarning: \u001b[m\u001b[K'\u001b[01m\u001b[K__pyx_v_start_pos_seen_items\u001b[m\u001b[K' may be used uninitialized in this function [\u001b[01;35m\u001b[K-Wmaybe-uninitialized\u001b[m\u001b[K]\r\n",
      "/opt/conda/lib/python3.10/site-packages/Cython/Compiler/Main.py:381: FutureWarning: Cython directive 'language_level' not set, using '3str' for now (Py3). This has changed from earlier releases! File: /kaggle/working/RECsys_Challenge2024/Recommenders/MatrixFactorization/Cython/MatrixFactorizationImpressions_Cython_Epoch.pyx\r\n",
      "  tree = Parsing.p_module(s, pxd, full_module_name)\r\n",
      "Compiling [2/11]: MatrixFactorizationImpressions_Cython_Epoch.pyx... PASS\r\n",
      "\r\n",
      "Compiling [3/11]: Compute_Similarity_Cython.pyx... \r\n",
      "warning: Compute_Similarity_Cython.pyx:21:0: The 'IF' statement is deprecated and will be removed in a future Cython version. Consider using runtime conditions or C macros instead. See https://github.com/cython/cython/issues/4310\r\n",
      "In file included from \u001b[01m\u001b[K/opt/conda/lib/python3.10/site-packages/numpy/core/include/numpy/ndarraytypes.h:1929\u001b[m\u001b[K,\r\n",
      "                 from \u001b[01m\u001b[K/opt/conda/lib/python3.10/site-packages/numpy/core/include/numpy/ndarrayobject.h:12\u001b[m\u001b[K,\r\n",
      "                 from \u001b[01m\u001b[K/opt/conda/lib/python3.10/site-packages/numpy/core/include/numpy/arrayobject.h:5\u001b[m\u001b[K,\r\n",
      "                 from \u001b[01m\u001b[KCompute_Similarity_Cython.c:1252\u001b[m\u001b[K:\r\n",
      "\u001b[01m\u001b[K/opt/conda/lib/python3.10/site-packages/numpy/core/include/numpy/npy_1_7_deprecated_api.h:17:2:\u001b[m\u001b[K \u001b[01;35m\u001b[Kwarning: \u001b[m\u001b[K#warning \"Using deprecated NumPy API, disable it with \" \"#define NPY_NO_DEPRECATED_API NPY_1_7_API_VERSION\" [\u001b[01;35m\u001b[K-Wcpp\u001b[m\u001b[K]\r\n",
      "   17 | #\u001b[01;35m\u001b[Kwarning\u001b[m\u001b[K \"Using deprecated NumPy API, disable it with \" \\\r\n",
      "      |  \u001b[01;35m\u001b[K^~~~~~~\u001b[m\u001b[K\r\n",
      "/opt/conda/lib/python3.10/site-packages/Cython/Compiler/Main.py:381: FutureWarning: Cython directive 'language_level' not set, using '3str' for now (Py3). This has changed from earlier releases! File: /kaggle/working/RECsys_Challenge2024/Recommenders/Similarity/Cython/Compute_Similarity_Cython.pyx\r\n",
      "  tree = Parsing.p_module(s, pxd, full_module_name)\r\n",
      "warning: Compute_Similarity_Cython.pyx:21:0: The 'IF' statement is deprecated and will be removed in a future Cython version. Consider using runtime conditions or C macros instead. See https://github.com/cython/cython/issues/4310\r\n",
      "Compiling [3/11]: Compute_Similarity_Cython.pyx... PASS\r\n",
      "\r\n",
      "Compiling [4/11]: Sparse_Matrix_Tree_CSR.pyx... \r\n",
      "warning: Sparse_Matrix_Tree_CSR.pyx:132:34: Non-trivial type declarators in shared declaration (e.g. mix of pointers and values). Each pointer declaration should be on its own line.\r\n",
      "warning: Sparse_Matrix_Tree_CSR.pyx:132:66: Non-trivial type declarators in shared declaration (e.g. mix of pointers and values). Each pointer declaration should be on its own line.\r\n",
      "warning: Sparse_Matrix_Tree_CSR.pyx:343:35: Non-trivial type declarators in shared declaration (e.g. mix of pointers and values). Each pointer declaration should be on its own line.\r\n",
      "warning: Sparse_Matrix_Tree_CSR.pyx:343:52: Non-trivial type declarators in shared declaration (e.g. mix of pointers and values). Each pointer declaration should be on its own line.\r\n",
      "warning: Sparse_Matrix_Tree_CSR.pyx:442:35: Non-trivial type declarators in shared declaration (e.g. mix of pointers and values). Each pointer declaration should be on its own line.\r\n",
      "warning: Sparse_Matrix_Tree_CSR.pyx:442:53: Non-trivial type declarators in shared declaration (e.g. mix of pointers and values). Each pointer declaration should be on its own line.\r\n",
      "warning: Sparse_Matrix_Tree_CSR.pyx:442:69: Non-trivial type declarators in shared declaration (e.g. mix of pointers and values). Each pointer declaration should be on its own line.\r\n",
      "warning: Sparse_Matrix_Tree_CSR.pyx:577:35: Non-trivial type declarators in shared declaration (e.g. mix of pointers and values). Each pointer declaration should be on its own line.\r\n",
      "warning: Sparse_Matrix_Tree_CSR.pyx:577:42: Non-trivial type declarators in shared declaration (e.g. mix of pointers and values). Each pointer declaration should be on its own line.\r\n",
      "warning: Sparse_Matrix_Tree_CSR.pyx:578:35: Non-trivial type declarators in shared declaration (e.g. mix of pointers and values). Each pointer declaration should be on its own line.\r\n",
      "warning: Sparse_Matrix_Tree_CSR.pyx:578:53: Non-trivial type declarators in shared declaration (e.g. mix of pointers and values). Each pointer declaration should be on its own line.\r\n",
      "\r\n",
      "Error compiling Cython file:\r\n",
      "------------------------------------------------------------\r\n",
      "...\r\n",
      "            vector_pointer_to_list_elements[index].head = current_element\r\n",
      "            current_element = current_element.higher\r\n",
      "\r\n",
      "\r\n",
      "        # Sort array elements on their data field\r\n",
      "        qsort(vector_pointer_to_list_elements, list_length, sizeof(head_pointer_tree_s), compare_struct_on_data)\r\n",
      "                                                                                         ^\r\n",
      "------------------------------------------------------------\r\n",
      "\r\n",
      "Sparse_Matrix_Tree_CSR.pyx:516:89: Cannot assign type 'int (const void *, const void *) except? -1' to 'int (*)(const_void *, const_void *) noexcept'. Exception values are incompatible. Suggest adding 'noexcept' to the type of 'compare_struct_on_data'.\r\n",
      "\r\n",
      "Error compiling Cython file:\r\n",
      "------------------------------------------------------------\r\n",
      "...\r\n",
      "        # Sort array elements on their data field\r\n",
      "        qsort(vector_pointer_to_list_elements, list_length, sizeof(head_pointer_tree_s), compare_struct_on_data)\r\n",
      "\r\n",
      "        # Sort only the TopK according to their column field\r\n",
      "        # Sort is from lower to higher, therefore the elements to be considered are from len-topK to len\r\n",
      "        qsort(&vector_pointer_to_list_elements[list_length-TopK], TopK, sizeof(head_pointer_tree_s), compare_struct_on_column)\r\n",
      "                                                                                                     ^\r\n",
      "------------------------------------------------------------\r\n",
      "\r\n",
      "Sparse_Matrix_Tree_CSR.pyx:520:101: Cannot assign type 'int (const void *, const void *) except? -1' to 'int (*)(const_void *, const_void *) noexcept'. Exception values are incompatible. Suggest adding 'noexcept' to the type of 'compare_struct_on_column'.\r\n",
      "Traceback (most recent call last):\r\n",
      "  File \"/kaggle/working/RECsys_Challenge2024/CythonCompiler/compile_script.py\", line 48, in <module>\r\n",
      "    setup(\r\n",
      "  File \"/opt/conda/lib/python3.10/site-packages/setuptools/__init__.py\", line 103, in setup\r\n",
      "    return distutils.core.setup(**attrs)\r\n",
      "  File \"/opt/conda/lib/python3.10/site-packages/setuptools/_distutils/core.py\", line 184, in setup\r\n",
      "    return run_commands(dist)\r\n",
      "  File \"/opt/conda/lib/python3.10/site-packages/setuptools/_distutils/core.py\", line 200, in run_commands\r\n",
      "    dist.run_commands()\r\n",
      "  File \"/opt/conda/lib/python3.10/site-packages/setuptools/_distutils/dist.py\", line 969, in run_commands\r\n",
      "    self.run_command(cmd)\r\n",
      "  File \"/opt/conda/lib/python3.10/site-packages/setuptools/dist.py\", line 968, in run_command\r\n",
      "    super().run_command(command)\r\n",
      "  File \"/opt/conda/lib/python3.10/site-packages/setuptools/_distutils/dist.py\", line 988, in run_command\r\n",
      "    cmd_obj.run()\r\n",
      "  File \"/opt/conda/lib/python3.10/site-packages/setuptools/_distutils/command/build_ext.py\", line 359, in run\r\n",
      "    self.build_extensions()\r\n",
      "  File \"/opt/conda/lib/python3.10/site-packages/setuptools/_distutils/command/build_ext.py\", line 479, in build_extensions\r\n",
      "    self._build_extensions_serial()\r\n",
      "  File \"/opt/conda/lib/python3.10/site-packages/setuptools/_distutils/command/build_ext.py\", line 505, in _build_extensions_serial\r\n",
      "    self.build_extension(ext)\r\n",
      "  File \"/opt/conda/lib/python3.10/site-packages/Cython/Distutils/build_ext.py\", line 130, in build_extension\r\n",
      "    new_ext = cythonize(\r\n",
      "  File \"/opt/conda/lib/python3.10/site-packages/Cython/Build/Dependencies.py\", line 1154, in cythonize\r\n",
      "    cythonize_one(*args)\r\n",
      "  File \"/opt/conda/lib/python3.10/site-packages/Cython/Build/Dependencies.py\", line 1321, in cythonize_one\r\n",
      "    raise CompileError(None, pyx_file)\r\n",
      "Cython.Compiler.Errors.CompileError: Sparse_Matrix_Tree_CSR.pyx\r\n",
      "Traceback (most recent call last):\r\n",
      "  File \"/kaggle/working/RECsys_Challenge2024/run_compile_all_cython.py\", line 60, in <module>\r\n",
      "    run_compile_subprocess(file_path, [file_name])\r\n",
      "  File \"/kaggle/working/RECsys_Challenge2024/CythonCompiler/run_compile_subprocess.py\", line 51, in run_compile_subprocess\r\n",
      "    raise exc\r\n",
      "  File \"/kaggle/working/RECsys_Challenge2024/CythonCompiler/run_compile_subprocess.py\", line 32, in run_compile_subprocess\r\n",
      "    output = subprocess.check_output(' '.join(command),\r\n",
      "  File \"/opt/conda/lib/python3.10/subprocess.py\", line 421, in check_output\r\n",
      "    return run(*popenargs, stdout=PIPE, timeout=timeout, check=True,\r\n",
      "  File \"/opt/conda/lib/python3.10/subprocess.py\", line 526, in run\r\n",
      "    raise CalledProcessError(retcode, process.args,\r\n",
      "subprocess.CalledProcessError: Command '/opt/conda/bin/python /kaggle/working/RECsys_Challenge2024/CythonCompiler/compile_script.py Sparse_Matrix_Tree_CSR.pyx build_ext --inplace' returned non-zero exit status 1.\r\n",
      "Compiling [4/11]: Sparse_Matrix_Tree_CSR.pyx... FAIL: Command '/opt/conda/bin/python /kaggle/working/RECsys_Challenge2024/CythonCompiler/compile_script.py Sparse_Matrix_Tree_CSR.pyx build_ext --inplace' returned non-zero exit status 1.\r\n",
      "\r\n",
      "Compiling [5/11]: Triangular_Matrix.pyx... \r\n",
      "warning: Triangular_Matrix.pyx:22:0: The 'IF' statement is deprecated and will be removed in a future Cython version. Consider using runtime conditions or C macros instead. See https://github.com/cython/cython/issues/4310\r\n",
      "In file included from \u001b[01m\u001b[K/opt/conda/lib/python3.10/site-packages/numpy/core/include/numpy/ndarraytypes.h:1929\u001b[m\u001b[K,\r\n",
      "                 from \u001b[01m\u001b[K/opt/conda/lib/python3.10/site-packages/numpy/core/include/numpy/ndarrayobject.h:12\u001b[m\u001b[K,\r\n",
      "                 from \u001b[01m\u001b[K/opt/conda/lib/python3.10/site-packages/numpy/core/include/numpy/arrayobject.h:5\u001b[m\u001b[K,\r\n",
      "                 from \u001b[01m\u001b[KTriangular_Matrix.c:1252\u001b[m\u001b[K:\r\n",
      "\u001b[01m\u001b[K/opt/conda/lib/python3.10/site-packages/numpy/core/include/numpy/npy_1_7_deprecated_api.h:17:2:\u001b[m\u001b[K \u001b[01;35m\u001b[Kwarning: \u001b[m\u001b[K#warning \"Using deprecated NumPy API, disable it with \" \"#define NPY_NO_DEPRECATED_API NPY_1_7_API_VERSION\" [\u001b[01;35m\u001b[K-Wcpp\u001b[m\u001b[K]\r\n",
      "   17 | #\u001b[01;35m\u001b[Kwarning\u001b[m\u001b[K \"Using deprecated NumPy API, disable it with \" \\\r\n",
      "      |  \u001b[01;35m\u001b[K^~~~~~~\u001b[m\u001b[K\r\n",
      "/opt/conda/lib/python3.10/site-packages/Cython/Compiler/Main.py:381: FutureWarning: Cython directive 'language_level' not set, using '3str' for now (Py3). This has changed from earlier releases! File: /kaggle/working/RECsys_Challenge2024/Recommenders/SLIM/Cython/Triangular_Matrix.pyx\r\n",
      "  tree = Parsing.p_module(s, pxd, full_module_name)\r\n",
      "warning: Triangular_Matrix.pyx:22:0: The 'IF' statement is deprecated and will be removed in a future Cython version. Consider using runtime conditions or C macros instead. See https://github.com/cython/cython/issues/4310\r\n",
      "Compiling [5/11]: Triangular_Matrix.pyx... PASS\r\n",
      "\r\n",
      "Compiling [6/11]: SLIM_BPR_Cython_Epoch.pyx... \r\n",
      "warning: SLIM_BPR_Cython_Epoch.pyx:24:0: The 'IF' statement is deprecated and will be removed in a future Cython version. Consider using runtime conditions or C macros instead. See https://github.com/cython/cython/issues/4310\r\n",
      "warning: SLIM_BPR_Cython_Epoch.pyx:632:34: Non-trivial type declarators in shared declaration (e.g. mix of pointers and values). Each pointer declaration should be on its own line.\r\n",
      "warning: SLIM_BPR_Cython_Epoch.pyx:632:66: Non-trivial type declarators in shared declaration (e.g. mix of pointers and values). Each pointer declaration should be on its own line.\r\n",
      "warning: SLIM_BPR_Cython_Epoch.pyx:817:35: Non-trivial type declarators in shared declaration (e.g. mix of pointers and values). Each pointer declaration should be on its own line.\r\n",
      "warning: SLIM_BPR_Cython_Epoch.pyx:817:52: Non-trivial type declarators in shared declaration (e.g. mix of pointers and values). Each pointer declaration should be on its own line.\r\n",
      "warning: SLIM_BPR_Cython_Epoch.pyx:916:35: Non-trivial type declarators in shared declaration (e.g. mix of pointers and values). Each pointer declaration should be on its own line.\r\n",
      "warning: SLIM_BPR_Cython_Epoch.pyx:916:53: Non-trivial type declarators in shared declaration (e.g. mix of pointers and values). Each pointer declaration should be on its own line.\r\n",
      "warning: SLIM_BPR_Cython_Epoch.pyx:916:69: Non-trivial type declarators in shared declaration (e.g. mix of pointers and values). Each pointer declaration should be on its own line.\r\n",
      "warning: SLIM_BPR_Cython_Epoch.pyx:1051:35: Non-trivial type declarators in shared declaration (e.g. mix of pointers and values). Each pointer declaration should be on its own line.\r\n",
      "warning: SLIM_BPR_Cython_Epoch.pyx:1051:42: Non-trivial type declarators in shared declaration (e.g. mix of pointers and values). Each pointer declaration should be on its own line.\r\n",
      "warning: SLIM_BPR_Cython_Epoch.pyx:1052:35: Non-trivial type declarators in shared declaration (e.g. mix of pointers and values). Each pointer declaration should be on its own line.\r\n",
      "warning: SLIM_BPR_Cython_Epoch.pyx:1052:53: Non-trivial type declarators in shared declaration (e.g. mix of pointers and values). Each pointer declaration should be on its own line.\r\n",
      "\r\n",
      "Error compiling Cython file:\r\n",
      "------------------------------------------------------------\r\n",
      "...\r\n",
      "            vector_pointer_to_list_elements[index].head = current_element\r\n",
      "            current_element = current_element.higher\r\n",
      "\r\n",
      "\r\n",
      "        # Sort array elements on their data field\r\n",
      "        qsort(vector_pointer_to_list_elements, list_length, sizeof(head_pointer_tree_s), compare_struct_on_data)\r\n",
      "                                                                                         ^\r\n",
      "------------------------------------------------------------\r\n",
      "\r\n",
      "SLIM_BPR_Cython_Epoch.pyx:990:89: Cannot assign type 'int (const void *, const void *) except? -1' to 'int (*)(const_void *, const_void *) noexcept'. Exception values are incompatible. Suggest adding 'noexcept' to the type of 'compare_struct_on_data'.\r\n",
      "\r\n",
      "Error compiling Cython file:\r\n",
      "------------------------------------------------------------\r\n",
      "...\r\n",
      "        # Sort array elements on their data field\r\n",
      "        qsort(vector_pointer_to_list_elements, list_length, sizeof(head_pointer_tree_s), compare_struct_on_data)\r\n",
      "\r\n",
      "        # Sort only the TopK according to their column field\r\n",
      "        # Sort is from lower to higher, therefore the elements to be considered are from len-topK to len\r\n",
      "        qsort(&vector_pointer_to_list_elements[list_length-TopK], TopK, sizeof(head_pointer_tree_s), compare_struct_on_column)\r\n",
      "                                                                                                     ^\r\n",
      "------------------------------------------------------------\r\n",
      "\r\n",
      "SLIM_BPR_Cython_Epoch.pyx:994:101: Cannot assign type 'int (const void *, const void *) except? -1' to 'int (*)(const_void *, const_void *) noexcept'. Exception values are incompatible. Suggest adding 'noexcept' to the type of 'compare_struct_on_column'.\r\n",
      "Traceback (most recent call last):\r\n",
      "  File \"/kaggle/working/RECsys_Challenge2024/CythonCompiler/compile_script.py\", line 48, in <module>\r\n",
      "    setup(\r\n",
      "  File \"/opt/conda/lib/python3.10/site-packages/setuptools/__init__.py\", line 103, in setup\r\n",
      "    return distutils.core.setup(**attrs)\r\n",
      "  File \"/opt/conda/lib/python3.10/site-packages/setuptools/_distutils/core.py\", line 184, in setup\r\n",
      "    return run_commands(dist)\r\n",
      "  File \"/opt/conda/lib/python3.10/site-packages/setuptools/_distutils/core.py\", line 200, in run_commands\r\n",
      "    dist.run_commands()\r\n",
      "  File \"/opt/conda/lib/python3.10/site-packages/setuptools/_distutils/dist.py\", line 969, in run_commands\r\n",
      "    self.run_command(cmd)\r\n",
      "  File \"/opt/conda/lib/python3.10/site-packages/setuptools/dist.py\", line 968, in run_command\r\n",
      "    super().run_command(command)\r\n",
      "  File \"/opt/conda/lib/python3.10/site-packages/setuptools/_distutils/dist.py\", line 988, in run_command\r\n",
      "    cmd_obj.run()\r\n",
      "  File \"/opt/conda/lib/python3.10/site-packages/setuptools/_distutils/command/build_ext.py\", line 359, in run\r\n",
      "    self.build_extensions()\r\n",
      "  File \"/opt/conda/lib/python3.10/site-packages/setuptools/_distutils/command/build_ext.py\", line 479, in build_extensions\r\n",
      "    self._build_extensions_serial()\r\n",
      "  File \"/opt/conda/lib/python3.10/site-packages/setuptools/_distutils/command/build_ext.py\", line 505, in _build_extensions_serial\r\n",
      "    self.build_extension(ext)\r\n",
      "  File \"/opt/conda/lib/python3.10/site-packages/Cython/Distutils/build_ext.py\", line 130, in build_extension\r\n",
      "    new_ext = cythonize(\r\n",
      "  File \"/opt/conda/lib/python3.10/site-packages/Cython/Build/Dependencies.py\", line 1154, in cythonize\r\n",
      "    cythonize_one(*args)\r\n",
      "  File \"/opt/conda/lib/python3.10/site-packages/Cython/Build/Dependencies.py\", line 1321, in cythonize_one\r\n",
      "    raise CompileError(None, pyx_file)\r\n",
      "Cython.Compiler.Errors.CompileError: SLIM_BPR_Cython_Epoch.pyx\r\n",
      "Traceback (most recent call last):\r\n",
      "  File \"/kaggle/working/RECsys_Challenge2024/run_compile_all_cython.py\", line 60, in <module>\r\n",
      "    run_compile_subprocess(file_path, [file_name])\r\n",
      "  File \"/kaggle/working/RECsys_Challenge2024/CythonCompiler/run_compile_subprocess.py\", line 51, in run_compile_subprocess\r\n",
      "    raise exc\r\n",
      "  File \"/kaggle/working/RECsys_Challenge2024/CythonCompiler/run_compile_subprocess.py\", line 32, in run_compile_subprocess\r\n",
      "    output = subprocess.check_output(' '.join(command),\r\n",
      "  File \"/opt/conda/lib/python3.10/subprocess.py\", line 421, in check_output\r\n",
      "    return run(*popenargs, stdout=PIPE, timeout=timeout, check=True,\r\n",
      "  File \"/opt/conda/lib/python3.10/subprocess.py\", line 526, in run\r\n",
      "    raise CalledProcessError(retcode, process.args,\r\n",
      "subprocess.CalledProcessError: Command '/opt/conda/bin/python /kaggle/working/RECsys_Challenge2024/CythonCompiler/compile_script.py SLIM_BPR_Cython_Epoch.pyx build_ext --inplace' returned non-zero exit status 1.\r\n",
      "Compiling [6/11]: SLIM_BPR_Cython_Epoch.pyx... FAIL: Command '/opt/conda/bin/python /kaggle/working/RECsys_Challenge2024/CythonCompiler/compile_script.py SLIM_BPR_Cython_Epoch.pyx build_ext --inplace' returned non-zero exit status 1.\r\n",
      "\r\n",
      "Compiling [7/11]: FBSM_Rating_Cython_SGD.pyx... \r\n",
      "In file included from \u001b[01m\u001b[K/opt/conda/lib/python3.10/site-packages/numpy/core/include/numpy/ndarraytypes.h:1929\u001b[m\u001b[K,\r\n",
      "                 from \u001b[01m\u001b[K/opt/conda/lib/python3.10/site-packages/numpy/core/include/numpy/ndarrayobject.h:12\u001b[m\u001b[K,\r\n",
      "                 from \u001b[01m\u001b[K/opt/conda/lib/python3.10/site-packages/numpy/core/include/numpy/arrayobject.h:5\u001b[m\u001b[K,\r\n",
      "                 from \u001b[01m\u001b[KFBSM_Rating_Cython_SGD.c:1252\u001b[m\u001b[K:\r\n",
      "\u001b[01m\u001b[K/opt/conda/lib/python3.10/site-packages/numpy/core/include/numpy/npy_1_7_deprecated_api.h:17:2:\u001b[m\u001b[K \u001b[01;35m\u001b[Kwarning: \u001b[m\u001b[K#warning \"Using deprecated NumPy API, disable it with \" \"#define NPY_NO_DEPRECATED_API NPY_1_7_API_VERSION\" [\u001b[01;35m\u001b[K-Wcpp\u001b[m\u001b[K]\r\n",
      "   17 | #\u001b[01;35m\u001b[Kwarning\u001b[m\u001b[K \"Using deprecated NumPy API, disable it with \" \\\r\n",
      "      |  \u001b[01;35m\u001b[K^~~~~~~\u001b[m\u001b[K\r\n",
      "\u001b[01m\u001b[KFBSM_Rating_Cython_SGD.c:\u001b[m\u001b[K In function '\u001b[01m\u001b[K__pyx_pf_22FBSM_Rating_Cython_SGD_22FBSM_Rating_Cython_SGD_2fit\u001b[m\u001b[K':\r\n",
      "\u001b[01m\u001b[KFBSM_Rating_Cython_SGD.c:26607:55:\u001b[m\u001b[K \u001b[01;35m\u001b[Kwarning: \u001b[m\u001b[K'\u001b[01m\u001b[K__pyx_v_num_sample\u001b[m\u001b[K' may be used uninitialized in this function [\u001b[01;35m\u001b[K-Wmaybe-uninitialized\u001b[m\u001b[K]\r\n",
      "26607 |   __pyx_t_5 = PyFloat_FromDouble((__pyx_v_cum_loss / \u001b[01;35m\u001b[K((double)__pyx_v_num_sample)\u001b[m\u001b[K)); if (unlikely(!__pyx_t_5)) __PYX_ERR(0, 551, __pyx_L1_error)\r\n",
      "      |                                                      \u001b[01;35m\u001b[K~^~~~~~~~~~~~~~~~~~~~~~~~~~~\u001b[m\u001b[K\r\n",
      "/opt/conda/lib/python3.10/site-packages/Cython/Compiler/Main.py:381: FutureWarning: Cython directive 'language_level' not set, using '3str' for now (Py3). This has changed from earlier releases! File: /kaggle/working/RECsys_Challenge2024/Recommenders/FeatureWeighting/Cython/FBSM_Rating_Cython_SGD.pyx\r\n",
      "  tree = Parsing.p_module(s, pxd, full_module_name)\r\n",
      "Compiling [7/11]: FBSM_Rating_Cython_SGD.pyx... PASS\r\n",
      "\r\n",
      "Compiling [8/11]: CFW_DVV_Similarity_Cython_SGD.pyx... \r\n",
      "In file included from \u001b[01m\u001b[K/opt/conda/lib/python3.10/site-packages/numpy/core/include/numpy/ndarraytypes.h:1929\u001b[m\u001b[K,\r\n",
      "                 from \u001b[01m\u001b[K/opt/conda/lib/python3.10/site-packages/numpy/core/include/numpy/ndarrayobject.h:12\u001b[m\u001b[K,\r\n",
      "                 from \u001b[01m\u001b[K/opt/conda/lib/python3.10/site-packages/numpy/core/include/numpy/arrayobject.h:5\u001b[m\u001b[K,\r\n",
      "                 from \u001b[01m\u001b[KCFW_DVV_Similarity_Cython_SGD.c:1252\u001b[m\u001b[K:\r\n",
      "\u001b[01m\u001b[K/opt/conda/lib/python3.10/site-packages/numpy/core/include/numpy/npy_1_7_deprecated_api.h:17:2:\u001b[m\u001b[K \u001b[01;35m\u001b[Kwarning: \u001b[m\u001b[K#warning \"Using deprecated NumPy API, disable it with \" \"#define NPY_NO_DEPRECATED_API NPY_1_7_API_VERSION\" [\u001b[01;35m\u001b[K-Wcpp\u001b[m\u001b[K]\r\n",
      "   17 | #\u001b[01;35m\u001b[Kwarning\u001b[m\u001b[K \"Using deprecated NumPy API, disable it with \" \\\r\n",
      "      |  \u001b[01;35m\u001b[K^~~~~~~\u001b[m\u001b[K\r\n",
      "/opt/conda/lib/python3.10/site-packages/Cython/Compiler/Main.py:381: FutureWarning: Cython directive 'language_level' not set, using '3str' for now (Py3). This has changed from earlier releases! File: /kaggle/working/RECsys_Challenge2024/Recommenders/FeatureWeighting/Cython/CFW_DVV_Similarity_Cython_SGD.pyx\r\n",
      "  tree = Parsing.p_module(s, pxd, full_module_name)\r\n",
      "Compiling [8/11]: CFW_DVV_Similarity_Cython_SGD.pyx... PASS\r\n",
      "\r\n",
      "Compiling [9/11]: CFW_D_Similarity_Cython_SGD.pyx... \r\n",
      "In file included from \u001b[01m\u001b[K/opt/conda/lib/python3.10/site-packages/numpy/core/include/numpy/ndarraytypes.h:1929\u001b[m\u001b[K,\r\n",
      "                 from \u001b[01m\u001b[K/opt/conda/lib/python3.10/site-packages/numpy/core/include/numpy/ndarrayobject.h:12\u001b[m\u001b[K,\r\n",
      "                 from \u001b[01m\u001b[K/opt/conda/lib/python3.10/site-packages/numpy/core/include/numpy/arrayobject.h:5\u001b[m\u001b[K,\r\n",
      "                 from \u001b[01m\u001b[KCFW_D_Similarity_Cython_SGD.c:1252\u001b[m\u001b[K:\r\n",
      "\u001b[01m\u001b[K/opt/conda/lib/python3.10/site-packages/numpy/core/include/numpy/npy_1_7_deprecated_api.h:17:2:\u001b[m\u001b[K \u001b[01;35m\u001b[Kwarning: \u001b[m\u001b[K#warning \"Using deprecated NumPy API, disable it with \" \"#define NPY_NO_DEPRECATED_API NPY_1_7_API_VERSION\" [\u001b[01;35m\u001b[K-Wcpp\u001b[m\u001b[K]\r\n",
      "   17 | #\u001b[01;35m\u001b[Kwarning\u001b[m\u001b[K \"Using deprecated NumPy API, disable it with \" \\\r\n",
      "      |  \u001b[01;35m\u001b[K^~~~~~~\u001b[m\u001b[K\r\n",
      "\u001b[01m\u001b[KCFW_D_Similarity_Cython_SGD.c:\u001b[m\u001b[K In function '\u001b[01m\u001b[K__pyx_pf_27CFW_D_Similarity_Cython_SGD_27CFW_D_Similarity_Cython_SGD_6fit\u001b[m\u001b[K':\r\n",
      "\u001b[01m\u001b[KCFW_D_Similarity_Cython_SGD.c:23373:55:\u001b[m\u001b[K \u001b[01;35m\u001b[Kwarning: \u001b[m\u001b[K'\u001b[01m\u001b[K__pyx_v_sample_num\u001b[m\u001b[K' may be used uninitialized in this function [\u001b[01;35m\u001b[K-Wmaybe-uninitialized\u001b[m\u001b[K]\r\n",
      "23373 |   __pyx_t_3 = PyFloat_FromDouble((__pyx_v_cum_loss / \u001b[01;35m\u001b[K((double)__pyx_v_sample_num)\u001b[m\u001b[K)); if (unlikely(!__pyx_t_3)) __PYX_ERR(0, 290, __pyx_L1_error)\r\n",
      "      |                                                      \u001b[01;35m\u001b[K~^~~~~~~~~~~~~~~~~~~~~~~~~~~\u001b[m\u001b[K\r\n",
      "/opt/conda/lib/python3.10/site-packages/Cython/Compiler/Main.py:381: FutureWarning: Cython directive 'language_level' not set, using '3str' for now (Py3). This has changed from earlier releases! File: /kaggle/working/RECsys_Challenge2024/Recommenders/FeatureWeighting/Cython/CFW_D_Similarity_Cython_SGD.pyx\r\n",
      "  tree = Parsing.p_module(s, pxd, full_module_name)\r\n",
      "Compiling [9/11]: CFW_D_Similarity_Cython_SGD.pyx... PASS\r\n",
      "\r\n",
      "Compiling [10/11]: HP3_Similarity_Cython_SGD.pyx... \r\n",
      "performance hint: HP3_Similarity_Cython_SGD.pyx:113:40: Index should be typed for more efficient access\r\n",
      "performance hint: HP3_Similarity_Cython_SGD.pyx:114:40: Index should be typed for more efficient access\r\n",
      "In file included from \u001b[01m\u001b[K/opt/conda/lib/python3.10/site-packages/numpy/core/include/numpy/ndarraytypes.h:1929\u001b[m\u001b[K,\r\n",
      "                 from \u001b[01m\u001b[K/opt/conda/lib/python3.10/site-packages/numpy/core/include/numpy/ndarrayobject.h:12\u001b[m\u001b[K,\r\n",
      "                 from \u001b[01m\u001b[K/opt/conda/lib/python3.10/site-packages/numpy/core/include/numpy/arrayobject.h:5\u001b[m\u001b[K,\r\n",
      "                 from \u001b[01m\u001b[KHP3_Similarity_Cython_SGD.c:1252\u001b[m\u001b[K:\r\n",
      "\u001b[01m\u001b[K/opt/conda/lib/python3.10/site-packages/numpy/core/include/numpy/npy_1_7_deprecated_api.h:17:2:\u001b[m\u001b[K \u001b[01;35m\u001b[Kwarning: \u001b[m\u001b[K#warning \"Using deprecated NumPy API, disable it with \" \"#define NPY_NO_DEPRECATED_API NPY_1_7_API_VERSION\" [\u001b[01;35m\u001b[K-Wcpp\u001b[m\u001b[K]\r\n",
      "   17 | #\u001b[01;35m\u001b[Kwarning\u001b[m\u001b[K \"Using deprecated NumPy API, disable it with \" \\\r\n",
      "      |  \u001b[01;35m\u001b[K^~~~~~~\u001b[m\u001b[K\r\n",
      "\u001b[01m\u001b[KHP3_Similarity_Cython_SGD.c:\u001b[m\u001b[K In function '\u001b[01m\u001b[K__pyx_pf_25HP3_Similarity_Cython_SGD_25HP3_Similarity_Cython_SGD_4fit\u001b[m\u001b[K':\r\n",
      "\u001b[01m\u001b[KHP3_Similarity_Cython_SGD.c:23631:55:\u001b[m\u001b[K \u001b[01;35m\u001b[Kwarning: \u001b[m\u001b[K'\u001b[01m\u001b[K__pyx_v_sample_num\u001b[m\u001b[K' may be used uninitialized in this function [\u001b[01;35m\u001b[K-Wmaybe-uninitialized\u001b[m\u001b[K]\r\n",
      "23631 |   __pyx_t_1 = PyFloat_FromDouble((__pyx_v_cum_loss / \u001b[01;35m\u001b[K((double)__pyx_v_sample_num)\u001b[m\u001b[K)); if (unlikely(!__pyx_t_1)) __PYX_ERR(0, 291, __pyx_L1_error)\r\n",
      "      |                                                      \u001b[01;35m\u001b[K~^~~~~~~~~~~~~~~~~~~~~~~~~~~\u001b[m\u001b[K\r\n",
      "/opt/conda/lib/python3.10/site-packages/Cython/Compiler/Main.py:381: FutureWarning: Cython directive 'language_level' not set, using '3str' for now (Py3). This has changed from earlier releases! File: /kaggle/working/RECsys_Challenge2024/Recommenders/FeatureWeighting/Cython/HP3_Similarity_Cython_SGD.pyx\r\n",
      "  tree = Parsing.p_module(s, pxd, full_module_name)\r\n",
      "performance hint: HP3_Similarity_Cython_SGD.pyx:113:40: Index should be typed for more efficient access\r\n",
      "performance hint: HP3_Similarity_Cython_SGD.pyx:114:40: Index should be typed for more efficient access\r\n",
      "Compiling [10/11]: HP3_Similarity_Cython_SGD.pyx... PASS\r\n",
      "\r\n",
      "Compiling [11/11]: DataIterator.pyx... \r\n",
      "In file included from \u001b[01m\u001b[K/opt/conda/lib/python3.10/site-packages/numpy/core/include/numpy/ndarraytypes.h:1929\u001b[m\u001b[K,\r\n",
      "                 from \u001b[01m\u001b[K/opt/conda/lib/python3.10/site-packages/numpy/core/include/numpy/ndarrayobject.h:12\u001b[m\u001b[K,\r\n",
      "                 from \u001b[01m\u001b[K/opt/conda/lib/python3.10/site-packages/numpy/core/include/numpy/arrayobject.h:5\u001b[m\u001b[K,\r\n",
      "                 from \u001b[01m\u001b[KDataIterator.c:1252\u001b[m\u001b[K:\r\n",
      "\u001b[01m\u001b[K/opt/conda/lib/python3.10/site-packages/numpy/core/include/numpy/npy_1_7_deprecated_api.h:17:2:\u001b[m\u001b[K \u001b[01;35m\u001b[Kwarning: \u001b[m\u001b[K#warning \"Using deprecated NumPy API, disable it with \" \"#define NPY_NO_DEPRECATED_API NPY_1_7_API_VERSION\" [\u001b[01;35m\u001b[K-Wcpp\u001b[m\u001b[K]\r\n",
      "   17 | #\u001b[01;35m\u001b[Kwarning\u001b[m\u001b[K \"Using deprecated NumPy API, disable it with \" \\\r\n",
      "      |  \u001b[01;35m\u001b[K^~~~~~~\u001b[m\u001b[K\r\n",
      "\u001b[01m\u001b[KDataIterator.c:\u001b[m\u001b[K In function '\u001b[01m\u001b[K__pyx_pf_12DataIterator_30InteractionAndNegativeIterator_6__next__\u001b[m\u001b[K':\r\n",
      "\u001b[01m\u001b[KDataIterator.c:25495:22:\u001b[m\u001b[K \u001b[01;35m\u001b[Kwarning: \u001b[m\u001b[K'\u001b[01m\u001b[K__pyx_v_i_batch\u001b[m\u001b[K' may be used uninitialized in this function [\u001b[01;35m\u001b[K-Wmaybe-uninitialized\u001b[m\u001b[K]\r\n",
      "25495 |     (__pyx_v_i_batch \u001b[01;35m\u001b[K+\u001b[m\u001b[K 1),\r\n",
      "      |                      \u001b[01;35m\u001b[K^\u001b[m\u001b[K\r\n",
      "\u001b[01m\u001b[KDataIterator.c:\u001b[m\u001b[K In function '\u001b[01m\u001b[K__pyx_pf_12DataIterator_11BPRIterator_6__next__\u001b[m\u001b[K':\r\n",
      "\u001b[01m\u001b[KDataIterator.c:23054:22:\u001b[m\u001b[K \u001b[01;35m\u001b[Kwarning: \u001b[m\u001b[K'\u001b[01m\u001b[K__pyx_v_i_batch\u001b[m\u001b[K' may be used uninitialized in this function [\u001b[01;35m\u001b[K-Wmaybe-uninitialized\u001b[m\u001b[K]\r\n",
      "23054 |     (__pyx_v_i_batch \u001b[01;35m\u001b[K+\u001b[m\u001b[K 1),\r\n",
      "      |                      \u001b[01;35m\u001b[K^\u001b[m\u001b[K\r\n",
      "\u001b[01m\u001b[KDataIterator.c:\u001b[m\u001b[K In function '\u001b[01m\u001b[K__pyx_pf_12DataIterator_19InteractionIterator_6__next__\u001b[m\u001b[K':\r\n",
      "\u001b[01m\u001b[KDataIterator.c:20937:22:\u001b[m\u001b[K \u001b[01;35m\u001b[Kwarning: \u001b[m\u001b[K'\u001b[01m\u001b[K__pyx_v_i_batch\u001b[m\u001b[K' may be used uninitialized in this function [\u001b[01;35m\u001b[K-Wmaybe-uninitialized\u001b[m\u001b[K]\r\n",
      "20937 |     (__pyx_v_i_batch \u001b[01;35m\u001b[K+\u001b[m\u001b[K 1),\r\n",
      "      |                      \u001b[01;35m\u001b[K^\u001b[m\u001b[K\r\n",
      "/opt/conda/lib/python3.10/site-packages/Cython/Compiler/Main.py:381: FutureWarning: Cython directive 'language_level' not set, using '3str' for now (Py3). This has changed from earlier releases! File: /kaggle/working/RECsys_Challenge2024/Utils/PyTorch/Cython/DataIterator.pyx\r\n",
      "  tree = Parsing.p_module(s, pxd, full_module_name)\r\n",
      "Compiling [11/11]: DataIterator.pyx... PASS\r\n",
      "\r\n",
      "run_compile_all_cython: Compilation finished. FAILS 2/11.\r\n",
      "Compilation log can be found here: './result_experiments/run_compile_all_cython.txt'\r\n"
     ]
    }
   ],
   "source": [
    "%cd /kaggle/working/RECsys_Challenge2024 \n",
    "! python run_compile_all_cython.py"
   ]
  },
  {
   "cell_type": "code",
   "execution_count": 5,
   "id": "e2b2de83",
   "metadata": {
    "execution": {
     "iopub.execute_input": "2024-12-02T18:28:57.820096Z",
     "iopub.status.busy": "2024-12-02T18:28:57.819696Z",
     "iopub.status.idle": "2024-12-02T18:28:59.688734Z",
     "shell.execute_reply": "2024-12-02T18:28:59.687487Z"
    },
    "papermill": {
     "duration": 1.885894,
     "end_time": "2024-12-02T18:28:59.691404",
     "exception": false,
     "start_time": "2024-12-02T18:28:57.805510",
     "status": "completed"
    },
    "tags": []
   },
   "outputs": [],
   "source": [
    "from Utils.notebookFunctions import *\n",
    "import numpy as np\n",
    "import pandas as pd\n",
    "import scipy.sparse as sps\n",
    "import time\n",
    "import shutil\n",
    "import optuna\n",
    "import json\n",
    "import os\n",
    "from Utils.seconds_to_biggest_unit import seconds_to_biggest_unit\n",
    "\n",
    "\n",
    "K_PATH = '/kaggle/working/RECsys_Challenge2024'\n",
    "GH_PATH = 'TrainedModels/WithoutKFCV/GraphBased'\n",
    "\n",
    "np.random.seed(42)"
   ]
  },
  {
   "cell_type": "markdown",
   "id": "125ac9ef",
   "metadata": {
    "papermill": {
     "duration": 0.012469,
     "end_time": "2024-12-02T18:28:59.716814",
     "exception": false,
     "start_time": "2024-12-02T18:28:59.704345",
     "status": "completed"
    },
    "tags": []
   },
   "source": [
    "## Import the repository **RECsys_Challenge2024**"
   ]
  },
  {
   "cell_type": "code",
   "execution_count": 6,
   "id": "4d4ec99d",
   "metadata": {
    "execution": {
     "iopub.execute_input": "2024-12-02T18:28:59.745521Z",
     "iopub.status.busy": "2024-12-02T18:28:59.744496Z",
     "iopub.status.idle": "2024-12-02T18:29:00.064414Z",
     "shell.execute_reply": "2024-12-02T18:29:00.062918Z"
    },
    "papermill": {
     "duration": 0.337216,
     "end_time": "2024-12-02T18:29:00.067114",
     "exception": false,
     "start_time": "2024-12-02T18:28:59.729898",
     "status": "completed"
    },
    "tags": []
   },
   "outputs": [
    {
     "name": "stdout",
     "output_type": "stream",
     "text": [
      "Repository 'RECsys_Challenge2024' found.\n"
     ]
    }
   ],
   "source": [
    "repo = get_repo_from_github(token)"
   ]
  },
  {
   "cell_type": "code",
   "execution_count": 7,
   "id": "974b8821",
   "metadata": {
    "execution": {
     "iopub.execute_input": "2024-12-02T18:29:00.094986Z",
     "iopub.status.busy": "2024-12-02T18:29:00.094578Z",
     "iopub.status.idle": "2024-12-02T18:29:00.100042Z",
     "shell.execute_reply": "2024-12-02T18:29:00.098878Z"
    },
    "papermill": {
     "duration": 0.021969,
     "end_time": "2024-12-02T18:29:00.102370",
     "exception": false,
     "start_time": "2024-12-02T18:29:00.080401",
     "status": "completed"
    },
    "tags": []
   },
   "outputs": [],
   "source": [
    "config = {\n",
    "    'model': 'P3alpha',\n",
    "    'tune_parameters': True,\n",
    "    'database_path': '/kaggle/working/history_P3alpha.db',\n",
    "    'copy_prev_best_params': False,\n",
    "    'tune_best_params': True,\n",
    "    'save_github': True\n",
    "}"
   ]
  },
  {
   "cell_type": "markdown",
   "id": "ab7472db",
   "metadata": {
    "papermill": {
     "duration": 0.012182,
     "end_time": "2024-12-02T18:29:00.127246",
     "exception": false,
     "start_time": "2024-12-02T18:29:00.115064",
     "status": "completed"
    },
    "tags": []
   },
   "source": [
    "Import the database where previous tuning trials have been saved."
   ]
  },
  {
   "cell_type": "code",
   "execution_count": 8,
   "id": "49fd95ea",
   "metadata": {
    "execution": {
     "iopub.execute_input": "2024-12-02T18:29:00.154080Z",
     "iopub.status.busy": "2024-12-02T18:29:00.153625Z",
     "iopub.status.idle": "2024-12-02T18:29:00.160327Z",
     "shell.execute_reply": "2024-12-02T18:29:00.159102Z"
    },
    "papermill": {
     "duration": 0.022895,
     "end_time": "2024-12-02T18:29:00.162757",
     "exception": false,
     "start_time": "2024-12-02T18:29:00.139862",
     "status": "completed"
    },
    "tags": []
   },
   "outputs": [],
   "source": [
    "try:\n",
    "    shutil.copyfile(\n",
    "        f'{K_PATH}/{GH_PATH}/{config[\"model\"]}Recommender/history_{config[\"model\"]}.db', \n",
    "        config['database_path']\n",
    "    )\n",
    "except FileNotFoundError:\n",
    "    pass # if not present optuna will create it"
   ]
  },
  {
   "cell_type": "markdown",
   "id": "060c012d",
   "metadata": {
    "papermill": {
     "duration": 0.012297,
     "end_time": "2024-12-02T18:29:00.187743",
     "exception": false,
     "start_time": "2024-12-02T18:29:00.175446",
     "status": "completed"
    },
    "tags": []
   },
   "source": [
    "# Construction of URM and ICM matrices"
   ]
  },
  {
   "cell_type": "code",
   "execution_count": 9,
   "id": "526e3a5e",
   "metadata": {
    "execution": {
     "iopub.execute_input": "2024-12-02T18:29:00.214930Z",
     "iopub.status.busy": "2024-12-02T18:29:00.214517Z",
     "iopub.status.idle": "2024-12-02T18:29:01.234110Z",
     "shell.execute_reply": "2024-12-02T18:29:01.232927Z"
    },
    "papermill": {
     "duration": 1.0359,
     "end_time": "2024-12-02T18:29:01.236478",
     "exception": false,
     "start_time": "2024-12-02T18:29:00.200578",
     "status": "completed"
    },
    "tags": []
   },
   "outputs": [
    {
     "data": {
      "text/plain": [
       "<Compressed Sparse Row sparse matrix of dtype 'float64'\n",
       "\twith 1764607 stored elements and shape (35736, 38121)>"
      ]
     },
     "execution_count": 9,
     "metadata": {},
     "output_type": "execute_result"
    }
   ],
   "source": [
    "URM_all_dataframe = pd.read_csv(\"/kaggle/input/recommender-system-2024-challenge-polimi/data_train.csv\")\n",
    "\n",
    "n_users = len(URM_all_dataframe[\"user_id\"].unique())\n",
    "n_items = len(URM_all_dataframe[\"item_id\"].unique())\n",
    "\n",
    "URM_all = sps.csr_matrix((URM_all_dataframe[\"data\"].values, \n",
    "                          (URM_all_dataframe[\"user_id\"].values, URM_all_dataframe[\"item_id\"].values)),\n",
    "                        shape = (n_users, n_items))\n",
    "\n",
    "URM_all"
   ]
  },
  {
   "cell_type": "code",
   "execution_count": 10,
   "id": "aec21996",
   "metadata": {
    "execution": {
     "iopub.execute_input": "2024-12-02T18:29:01.265507Z",
     "iopub.status.busy": "2024-12-02T18:29:01.264078Z",
     "iopub.status.idle": "2024-12-02T18:29:02.751946Z",
     "shell.execute_reply": "2024-12-02T18:29:02.750599Z"
    },
    "papermill": {
     "duration": 1.50497,
     "end_time": "2024-12-02T18:29:02.754579",
     "exception": false,
     "start_time": "2024-12-02T18:29:01.249609",
     "status": "completed"
    },
    "tags": []
   },
   "outputs": [
    {
     "data": {
      "text/plain": [
       "<Compressed Sparse Row sparse matrix of dtype 'float64'\n",
       "\twith 2940040 stored elements and shape (38121, 94331)>"
      ]
     },
     "execution_count": 10,
     "metadata": {},
     "output_type": "execute_result"
    }
   ],
   "source": [
    "ICM_dataframe = pd.read_csv(\"/kaggle/input/recommender-system-2024-challenge-polimi/data_ICM_metadata.csv\")\n",
    "\n",
    "n_items = len(ICM_dataframe[\"item_id\"].unique())\n",
    "n_features = len(ICM_dataframe[\"feature_id\"].unique())\n",
    "\n",
    "ICM_all = sps.csr_matrix((ICM_dataframe[\"data\"].values, \n",
    "                          (ICM_dataframe[\"item_id\"].values, ICM_dataframe[\"feature_id\"].values)),\n",
    "                        shape = (n_items, n_features))\n",
    "\n",
    "ICM_all"
   ]
  },
  {
   "cell_type": "markdown",
   "id": "33a90a4a",
   "metadata": {
    "papermill": {
     "duration": 0.013128,
     "end_time": "2024-12-02T18:29:02.781905",
     "exception": false,
     "start_time": "2024-12-02T18:29:02.768777",
     "status": "completed"
    },
    "tags": []
   },
   "source": [
    "# Training"
   ]
  },
  {
   "cell_type": "code",
   "execution_count": 11,
   "id": "a17771dc",
   "metadata": {
    "execution": {
     "iopub.execute_input": "2024-12-02T18:29:02.810248Z",
     "iopub.status.busy": "2024-12-02T18:29:02.809230Z",
     "iopub.status.idle": "2024-12-02T18:29:05.870605Z",
     "shell.execute_reply": "2024-12-02T18:29:05.869276Z"
    },
    "papermill": {
     "duration": 3.078201,
     "end_time": "2024-12-02T18:29:05.873002",
     "exception": false,
     "start_time": "2024-12-02T18:29:02.794801",
     "status": "completed"
    },
    "tags": []
   },
   "outputs": [
    {
     "name": "stdout",
     "output_type": "stream",
     "text": [
      "Warning: 141 (0.39 %) of 35736 users have no sampled items\n",
      "EvaluatorHoldout: Ignoring 141 ( 0.4%) Users that have less than 1 test interactions\n"
     ]
    }
   ],
   "source": [
    "from Evaluation.Evaluator import EvaluatorHoldout\n",
    "from Data_manager.split_functions.split_train_validation_random_holdout import split_train_in_two_percentage_global_sample\n",
    "\n",
    "URM_train, URM_validation = split_train_in_two_percentage_global_sample(URM_all, train_percentage = 0.80)\n",
    "\n",
    "evaluator_validation = EvaluatorHoldout(URM_validation, cutoff_list=[10])"
   ]
  },
  {
   "cell_type": "code",
   "execution_count": 12,
   "id": "025a91de",
   "metadata": {
    "execution": {
     "iopub.execute_input": "2024-12-02T18:29:05.901091Z",
     "iopub.status.busy": "2024-12-02T18:29:05.900728Z",
     "iopub.status.idle": "2024-12-02T18:29:07.007510Z",
     "shell.execute_reply": "2024-12-02T18:29:07.006154Z"
    },
    "papermill": {
     "duration": 1.123448,
     "end_time": "2024-12-02T18:29:07.010072",
     "exception": false,
     "start_time": "2024-12-02T18:29:05.886624",
     "status": "completed"
    },
    "tags": []
   },
   "outputs": [],
   "source": [
    "from Recommenders.GraphBased.P3alphaRecommender import P3alphaRecommender\n",
    "\n",
    "def objective_function_P3alphaRecommender(optuna_trial):\n",
    "    \n",
    "    recommender_instance = P3alphaRecommender(URM_train)\n",
    "    \n",
    "    full_hyperp = {\n",
    "                   \"topK\": optuna_trial.suggest_int(\"topK\", 0, 1500),\n",
    "                   \"alpha\": optuna_trial.suggest_float(\"alpha\", 0, 2, log=False),\n",
    "                   \"normalize_similarity\": optuna_trial.suggest_categorical(\"normalize_similarity\", [True, False]),\n",
    "                   \"implicit\": optuna_trial.suggest_categorical(\"implicit\", [True, False]),\n",
    "\n",
    "    }\n",
    "\n",
    "    recommender_instance.fit(**full_hyperp)\n",
    "    \n",
    "    result_df, _ = evaluator_validation.evaluateRecommender(recommender_instance)\n",
    "    \n",
    "    return result_df.loc[10][\"MAP\"]"
   ]
  },
  {
   "cell_type": "code",
   "execution_count": 13,
   "id": "06881e94",
   "metadata": {
    "_kg_hide-output": true,
    "execution": {
     "iopub.execute_input": "2024-12-02T18:29:07.040413Z",
     "iopub.status.busy": "2024-12-02T18:29:07.039809Z",
     "iopub.status.idle": "2024-12-02T21:37:52.667740Z",
     "shell.execute_reply": "2024-12-02T21:37:52.666199Z"
    },
    "papermill": {
     "duration": 11325.647231,
     "end_time": "2024-12-02T21:37:52.671450",
     "exception": false,
     "start_time": "2024-12-02T18:29:07.024219",
     "status": "completed"
    },
    "tags": []
   },
   "outputs": [
    {
     "name": "stderr",
     "output_type": "stream",
     "text": [
      "[I 2024-12-02 18:29:08,804] Using an existing study with name 'hyperparameters_tuning_P3alpha' instead of creating a new one.\n"
     ]
    },
    {
     "name": "stdout",
     "output_type": "stream",
     "text": [
      "P3alphaRecommender: Similarity column 38121 (100.0%), 2185.38 column/sec. Elapsed time 17.44 sec\n",
      "EvaluatorHoldout: Processed 35595 (100.0%) in 33.17 sec. Users per second: 1073\n"
     ]
    },
    {
     "name": "stderr",
     "output_type": "stream",
     "text": [
      "[I 2024-12-02 18:30:01,764] Trial 400 finished with value: 0.05091832944255851 and parameters: {'topK': 40, 'alpha': 0.3941067023926109, 'normalize_similarity': True, 'implicit': True}. Best is trial 128 with value: 0.05332611477891539.\n"
     ]
    },
    {
     "name": "stdout",
     "output_type": "stream",
     "text": [
      "P3alphaRecommender: Similarity column 38121 (100.0%), 2255.72 column/sec. Elapsed time 16.90 sec\n",
      "EvaluatorHoldout: Processed 35595 (100.0%) in 32.47 sec. Users per second: 1096\n"
     ]
    },
    {
     "name": "stderr",
     "output_type": "stream",
     "text": [
      "[I 2024-12-02 18:30:52,660] Trial 401 finished with value: 0.05221154879519633 and parameters: {'topK': 25, 'alpha': 0.3389137576901117, 'normalize_similarity': True, 'implicit': True}. Best is trial 128 with value: 0.05332611477891539.\n"
     ]
    },
    {
     "name": "stdout",
     "output_type": "stream",
     "text": [
      "P3alphaRecommender: Similarity column 38121 (100.0%), 2032.48 column/sec. Elapsed time 18.76 sec\n",
      "EvaluatorHoldout: Processed 35595 (100.0%) in 33.71 sec. Users per second: 1056\n"
     ]
    },
    {
     "name": "stderr",
     "output_type": "stream",
     "text": [
      "[I 2024-12-02 18:31:47,901] Trial 402 finished with value: 0.0491198447258268 and parameters: {'topK': 67, 'alpha': 0.4887196721104268, 'normalize_similarity': True, 'implicit': True}. Best is trial 128 with value: 0.05332611477891539.\n"
     ]
    },
    {
     "name": "stdout",
     "output_type": "stream",
     "text": [
      "P3alphaRecommender: Similarity column 38121 (100.0%), 2163.57 column/sec. Elapsed time 17.62 sec\n",
      "EvaluatorHoldout: Processed 35595 (100.0%) in 32.61 sec. Users per second: 1091\n"
     ]
    },
    {
     "name": "stderr",
     "output_type": "stream",
     "text": [
      "[I 2024-12-02 18:32:40,191] Trial 403 finished with value: 0.05022755893573262 and parameters: {'topK': 46, 'alpha': 0.2229630578058886, 'normalize_similarity': True, 'implicit': False}. Best is trial 128 with value: 0.05332611477891539.\n"
     ]
    },
    {
     "name": "stdout",
     "output_type": "stream",
     "text": [
      "P3alphaRecommender: Similarity column 38121 (100.0%), 3378.21 column/sec. Elapsed time 11.28 sec\n",
      "EvaluatorHoldout: Processed 35595 (100.0%) in 25.08 sec. Users per second: 1419\n"
     ]
    },
    {
     "name": "stderr",
     "output_type": "stream",
     "text": [
      "[I 2024-12-02 18:33:16,864] Trial 404 finished with value: 0.00028209999175022335 and parameters: {'topK': 0, 'alpha': 0.5375085542947187, 'normalize_similarity': False, 'implicit': True}. Best is trial 128 with value: 0.05332611477891539.\n"
     ]
    },
    {
     "name": "stdout",
     "output_type": "stream",
     "text": [
      "P3alphaRecommender: Similarity column 38121 (100.0%), 1966.11 column/sec. Elapsed time 19.39 sec\n",
      "EvaluatorHoldout: Processed 35595 (100.0%) in 30.77 sec. Users per second: 1157\n"
     ]
    },
    {
     "name": "stderr",
     "output_type": "stream",
     "text": [
      "[I 2024-12-02 18:34:10,463] Trial 405 finished with value: 0.04722513974452283 and parameters: {'topK': 94, 'alpha': 0.29666349127020136, 'normalize_similarity': True, 'implicit': True}. Best is trial 128 with value: 0.05332611477891539.\n"
     ]
    },
    {
     "name": "stdout",
     "output_type": "stream",
     "text": [
      "P3alphaRecommender: Similarity column 38121 (100.0%), 2292.09 column/sec. Elapsed time 16.63 sec\n",
      "EvaluatorHoldout: Processed 35595 (100.0%) in 31.54 sec. Users per second: 1129\n"
     ]
    },
    {
     "name": "stderr",
     "output_type": "stream",
     "text": [
      "[I 2024-12-02 18:35:00,216] Trial 406 finished with value: 0.0521061467523731 and parameters: {'topK': 27, 'alpha': 0.45086637823623765, 'normalize_similarity': True, 'implicit': True}. Best is trial 128 with value: 0.05332611477891539.\n"
     ]
    },
    {
     "name": "stdout",
     "output_type": "stream",
     "text": [
      "P3alphaRecommender: Similarity column 38121 (100.0%), 2075.57 column/sec. Elapsed time 18.37 sec\n",
      "EvaluatorHoldout: Processed 35595 (100.0%) in 33.90 sec. Users per second: 1050\n"
     ]
    },
    {
     "name": "stderr",
     "output_type": "stream",
     "text": [
      "[I 2024-12-02 18:35:55,135] Trial 407 finished with value: 0.04902972595134235 and parameters: {'topK': 67, 'alpha': 0.38561986633160605, 'normalize_similarity': True, 'implicit': True}. Best is trial 128 with value: 0.05332611477891539.\n"
     ]
    },
    {
     "name": "stdout",
     "output_type": "stream",
     "text": [
      "P3alphaRecommender: Similarity column 38121 (100.0%), 2317.28 column/sec. Elapsed time 16.45 sec\n",
      "EvaluatorHoldout: Processed 35595 (100.0%) in 31.70 sec. Users per second: 1123\n"
     ]
    },
    {
     "name": "stderr",
     "output_type": "stream",
     "text": [
      "[I 2024-12-02 18:36:44,862] Trial 408 finished with value: 0.051985581843354674 and parameters: {'topK': 27, 'alpha': 0.35326526948958403, 'normalize_similarity': True, 'implicit': True}. Best is trial 128 with value: 0.05332611477891539.\n"
     ]
    },
    {
     "name": "stdout",
     "output_type": "stream",
     "text": [
      "P3alphaRecommender: Similarity column 38121 (100.0%), 3350.49 column/sec. Elapsed time 11.38 sec\n",
      "EvaluatorHoldout: Processed 35595 (100.0%) in 25.07 sec. Users per second: 1420\n"
     ]
    },
    {
     "name": "stderr",
     "output_type": "stream",
     "text": [
      "[I 2024-12-02 18:37:21,633] Trial 409 finished with value: 0.00028209999175022335 and parameters: {'topK': 0, 'alpha': 0.2720804023910111, 'normalize_similarity': True, 'implicit': False}. Best is trial 128 with value: 0.05332611477891539.\n"
     ]
    },
    {
     "name": "stdout",
     "output_type": "stream",
     "text": [
      "P3alphaRecommender: Similarity column 38121 (100.0%), 2147.01 column/sec. Elapsed time 17.76 sec\n",
      "EvaluatorHoldout: Processed 35595 (100.0%) in 33.47 sec. Users per second: 1064\n"
     ]
    },
    {
     "name": "stderr",
     "output_type": "stream",
     "text": [
      "[I 2024-12-02 18:38:15,019] Trial 410 finished with value: 0.05014747478801238 and parameters: {'topK': 50, 'alpha': 0.41963639141753606, 'normalize_similarity': True, 'implicit': True}. Best is trial 128 with value: 0.05332611477891539.\n"
     ]
    },
    {
     "name": "stdout",
     "output_type": "stream",
     "text": [
      "P3alphaRecommender: Similarity column 38121 (100.0%), 1983.21 column/sec. Elapsed time 19.22 sec\n",
      "EvaluatorHoldout: Processed 35595 (100.0%) in 30.73 sec. Users per second: 1158\n"
     ]
    },
    {
     "name": "stderr",
     "output_type": "stream",
     "text": [
      "[I 2024-12-02 18:39:08,206] Trial 411 finished with value: 0.04768422865704619 and parameters: {'topK': 88, 'alpha': 0.32397673927434795, 'normalize_similarity': True, 'implicit': True}. Best is trial 128 with value: 0.05332611477891539.\n"
     ]
    },
    {
     "name": "stdout",
     "output_type": "stream",
     "text": [
      "P3alphaRecommender: Similarity column 38121 (100.0%), 1656.52 column/sec. Elapsed time 23.01 sec\n",
      "EvaluatorHoldout: Processed 35595 (100.0%) in 32.76 sec. Users per second: 1087\n"
     ]
    },
    {
     "name": "stderr",
     "output_type": "stream",
     "text": [
      "[I 2024-12-02 18:40:10,154] Trial 412 finished with value: 0.04405706392684752 and parameters: {'topK': 172, 'alpha': 0.4960909364980862, 'normalize_similarity': True, 'implicit': True}. Best is trial 128 with value: 0.05332611477891539.\n"
     ]
    },
    {
     "name": "stdout",
     "output_type": "stream",
     "text": [
      "P3alphaRecommender: Similarity column 38121 (100.0%), 1822.17 column/sec. Elapsed time 20.92 sec\n",
      "EvaluatorHoldout: Processed 35595 (100.0%) in 31.64 sec. Users per second: 1125\n"
     ]
    },
    {
     "name": "stderr",
     "output_type": "stream",
     "text": [
      "[I 2024-12-02 18:41:07,271] Trial 413 finished with value: 0.04570909727378178 and parameters: {'topK': 130, 'alpha': 0.3767378497704161, 'normalize_similarity': True, 'implicit': True}. Best is trial 128 with value: 0.05332611477891539.\n"
     ]
    },
    {
     "name": "stdout",
     "output_type": "stream",
     "text": [
      "P3alphaRecommender: Similarity column 38121 (100.0%), 2179.38 column/sec. Elapsed time 17.49 sec\n",
      "EvaluatorHoldout: Processed 35595 (100.0%) in 32.84 sec. Users per second: 1084\n"
     ]
    },
    {
     "name": "stderr",
     "output_type": "stream",
     "text": [
      "[I 2024-12-02 18:41:59,692] Trial 414 finished with value: 0.05048825744653629 and parameters: {'topK': 47, 'alpha': 0.4524713133906302, 'normalize_similarity': True, 'implicit': True}. Best is trial 128 with value: 0.05332611477891539.\n"
     ]
    },
    {
     "name": "stdout",
     "output_type": "stream",
     "text": [
      "P3alphaRecommender: Similarity column 38121 (100.0%), 728.37 column/sec. Elapsed time 52.34 sec\n",
      "EvaluatorHoldout: Processed 35595 (100.0%) in 47.96 sec. Users per second: 742\n"
     ]
    },
    {
     "name": "stderr",
     "output_type": "stream",
     "text": [
      "[I 2024-12-02 18:44:09,199] Trial 415 finished with value: 0.033887971379963557 and parameters: {'topK': 802, 'alpha': 0.14357570006637613, 'normalize_similarity': True, 'implicit': False}. Best is trial 128 with value: 0.05332611477891539.\n"
     ]
    },
    {
     "name": "stdout",
     "output_type": "stream",
     "text": [
      "P3alphaRecommender: Similarity column 38121 (100.0%), 2340.42 column/sec. Elapsed time 16.29 sec\n",
      "EvaluatorHoldout: Processed 35595 (100.0%) in 31.35 sec. Users per second: 1136\n"
     ]
    },
    {
     "name": "stderr",
     "output_type": "stream",
     "text": [
      "[I 2024-12-02 18:44:58,245] Trial 416 finished with value: 0.052279665192853424 and parameters: {'topK': 24, 'alpha': 0.3047134360286069, 'normalize_similarity': True, 'implicit': True}. Best is trial 128 with value: 0.05332611477891539.\n"
     ]
    },
    {
     "name": "stdout",
     "output_type": "stream",
     "text": [
      "P3alphaRecommender: Similarity column 38121 (100.0%), 537.22 column/sec. Elapsed time 1.18 min\n",
      "EvaluatorHoldout: Processed 35595 (100.0%) in 55.78 sec. Users per second: 638\n"
     ]
    },
    {
     "name": "stderr",
     "output_type": "stream",
     "text": [
      "[I 2024-12-02 18:47:51,839] Trial 417 finished with value: 0.03300511597624842 and parameters: {'topK': 1314, 'alpha': 0.4079115712100849, 'normalize_similarity': True, 'implicit': True}. Best is trial 128 with value: 0.05332611477891539.\n"
     ]
    },
    {
     "name": "stdout",
     "output_type": "stream",
     "text": [
      "P3alphaRecommender: Similarity column 38121 (100.0%), 3339.04 column/sec. Elapsed time 11.42 sec\n",
      "EvaluatorHoldout: Processed 35595 (100.0%) in 25.16 sec. Users per second: 1415\n"
     ]
    },
    {
     "name": "stderr",
     "output_type": "stream",
     "text": [
      "[I 2024-12-02 18:48:28,742] Trial 418 finished with value: 0.00028209999175022335 and parameters: {'topK': 0, 'alpha': 0.19056355034512848, 'normalize_similarity': True, 'implicit': True}. Best is trial 128 with value: 0.05332611477891539.\n"
     ]
    },
    {
     "name": "stdout",
     "output_type": "stream",
     "text": [
      "P3alphaRecommender: Similarity column 38121 (100.0%), 2085.91 column/sec. Elapsed time 18.28 sec\n",
      "EvaluatorHoldout: Processed 35595 (100.0%) in 34.21 sec. Users per second: 1040\n"
     ]
    },
    {
     "name": "stderr",
     "output_type": "stream",
     "text": [
      "[I 2024-12-02 18:49:24,066] Trial 419 finished with value: 0.04834934012936378 and parameters: {'topK': 67, 'alpha': 0.808777181278196, 'normalize_similarity': True, 'implicit': True}. Best is trial 128 with value: 0.05332611477891539.\n"
     ]
    },
    {
     "name": "stdout",
     "output_type": "stream",
     "text": [
      "P3alphaRecommender: Similarity column 38121 (100.0%), 2299.60 column/sec. Elapsed time 16.58 sec\n",
      "EvaluatorHoldout: Processed 35595 (100.0%) in 32.28 sec. Users per second: 1103\n"
     ]
    },
    {
     "name": "stderr",
     "output_type": "stream",
     "text": [
      "[I 2024-12-02 18:50:14,511] Trial 420 finished with value: 0.05192404854435843 and parameters: {'topK': 28, 'alpha': 0.35713080690307686, 'normalize_similarity': True, 'implicit': True}. Best is trial 128 with value: 0.05332611477891539.\n"
     ]
    },
    {
     "name": "stdout",
     "output_type": "stream",
     "text": [
      "P3alphaRecommender: Similarity column 38121 (100.0%), 1958.17 column/sec. Elapsed time 19.47 sec\n",
      "EvaluatorHoldout: Processed 35595 (100.0%) in 30.54 sec. Users per second: 1166\n"
     ]
    },
    {
     "name": "stderr",
     "output_type": "stream",
     "text": [
      "[I 2024-12-02 18:51:07,873] Trial 421 finished with value: 0.04713111235972424 and parameters: {'topK': 94, 'alpha': 0.25281209068245714, 'normalize_similarity': True, 'implicit': False}. Best is trial 128 with value: 0.05332611477891539.\n"
     ]
    },
    {
     "name": "stdout",
     "output_type": "stream",
     "text": [
      "P3alphaRecommender: Similarity column 38121 (100.0%), 2196.93 column/sec. Elapsed time 17.35 sec\n",
      "EvaluatorHoldout: Processed 35595 (100.0%) in 33.03 sec. Users per second: 1078\n"
     ]
    },
    {
     "name": "stderr",
     "output_type": "stream",
     "text": [
      "[I 2024-12-02 18:52:00,348] Trial 422 finished with value: 0.05042908090800889 and parameters: {'topK': 47, 'alpha': 0.47275941618698386, 'normalize_similarity': True, 'implicit': True}. Best is trial 128 with value: 0.05332611477891539.\n"
     ]
    },
    {
     "name": "stdout",
     "output_type": "stream",
     "text": [
      "P3alphaRecommender: Similarity column 38121 (100.0%), 877.32 column/sec. Elapsed time 43.45 sec\n",
      "EvaluatorHoldout: Processed 35595 (100.0%) in 46.22 sec. Users per second: 770\n"
     ]
    },
    {
     "name": "stderr",
     "output_type": "stream",
     "text": [
      "[I 2024-12-02 18:53:52,897] Trial 423 finished with value: 0.02611180453826854 and parameters: {'topK': 593, 'alpha': 1.943033841905732, 'normalize_similarity': False, 'implicit': True}. Best is trial 128 with value: 0.05332611477891539.\n"
     ]
    },
    {
     "name": "stdout",
     "output_type": "stream",
     "text": [
      "P3alphaRecommender: Similarity column 38121 (100.0%), 2349.97 column/sec. Elapsed time 16.22 sec\n",
      "EvaluatorHoldout: Processed 35595 (100.0%) in 32.16 sec. Users per second: 1107\n"
     ]
    },
    {
     "name": "stderr",
     "output_type": "stream",
     "text": [
      "[I 2024-12-02 18:54:42,871] Trial 424 finished with value: 0.050408532275576345 and parameters: {'topK': 24, 'alpha': 1.0809077517895025, 'normalize_similarity': True, 'implicit': True}. Best is trial 128 with value: 0.05332611477891539.\n"
     ]
    },
    {
     "name": "stdout",
     "output_type": "stream",
     "text": [
      "P3alphaRecommender: Similarity column 38121 (100.0%), 2053.74 column/sec. Elapsed time 18.56 sec\n",
      "EvaluatorHoldout: Processed 35595 (100.0%) in 33.85 sec. Users per second: 1052\n"
     ]
    },
    {
     "name": "stderr",
     "output_type": "stream",
     "text": [
      "[I 2024-12-02 18:55:38,226] Trial 425 finished with value: 0.04864627299625001 and parameters: {'topK': 73, 'alpha': 0.528710230770971, 'normalize_similarity': True, 'implicit': True}. Best is trial 128 with value: 0.05332611477891539.\n"
     ]
    },
    {
     "name": "stdout",
     "output_type": "stream",
     "text": [
      "P3alphaRecommender: Similarity column 38121 (100.0%), 3541.88 column/sec. Elapsed time 10.76 sec\n",
      "EvaluatorHoldout: Processed 35595 (100.0%) in 27.03 sec. Users per second: 1317\n"
     ]
    },
    {
     "name": "stderr",
     "output_type": "stream",
     "text": [
      "[I 2024-12-02 18:56:16,886] Trial 426 finished with value: 0.02040481430199058 and parameters: {'topK': 1, 'alpha': 0.4022291065038847, 'normalize_similarity': True, 'implicit': True}. Best is trial 128 with value: 0.05332611477891539.\n"
     ]
    },
    {
     "name": "stdout",
     "output_type": "stream",
     "text": [
      "P3alphaRecommender: Similarity column 38121 (100.0%), 2216.24 column/sec. Elapsed time 17.20 sec\n",
      "EvaluatorHoldout: Processed 35595 (100.0%) in 32.51 sec. Users per second: 1095\n"
     ]
    },
    {
     "name": "stderr",
     "output_type": "stream",
     "text": [
      "[I 2024-12-02 18:57:08,587] Trial 427 finished with value: 0.05054520208607697 and parameters: {'topK': 45, 'alpha': 0.33530571018279287, 'normalize_similarity': True, 'implicit': True}. Best is trial 128 with value: 0.05332611477891539.\n"
     ]
    },
    {
     "name": "stdout",
     "output_type": "stream",
     "text": [
      "P3alphaRecommender: Similarity column 38121 (100.0%), 1858.82 column/sec. Elapsed time 20.51 sec\n",
      "EvaluatorHoldout: Processed 35595 (100.0%) in 31.65 sec. Users per second: 1125\n"
     ]
    },
    {
     "name": "stderr",
     "output_type": "stream",
     "text": [
      "[I 2024-12-02 18:58:05,385] Trial 428 finished with value: 0.046070474272958906 and parameters: {'topK': 123, 'alpha': 0.4363735435406726, 'normalize_similarity': True, 'implicit': False}. Best is trial 128 with value: 0.05332611477891539.\n"
     ]
    },
    {
     "name": "stdout",
     "output_type": "stream",
     "text": [
      "P3alphaRecommender: Similarity column 38121 (100.0%), 2149.31 column/sec. Elapsed time 17.74 sec\n",
      "EvaluatorHoldout: Processed 35595 (100.0%) in 33.21 sec. Users per second: 1072\n"
     ]
    },
    {
     "name": "stderr",
     "output_type": "stream",
     "text": [
      "[I 2024-12-02 18:58:58,603] Trial 429 finished with value: 0.0497353683525178 and parameters: {'topK': 55, 'alpha': 0.29059706471681973, 'normalize_similarity': True, 'implicit': True}. Best is trial 128 with value: 0.05332611477891539.\n"
     ]
    },
    {
     "name": "stdout",
     "output_type": "stream",
     "text": [
      "P3alphaRecommender: Similarity column 38121 (100.0%), 3539.48 column/sec. Elapsed time 10.77 sec\n",
      "EvaluatorHoldout: Processed 35595 (100.0%) in 26.98 sec. Users per second: 1319\n"
     ]
    },
    {
     "name": "stderr",
     "output_type": "stream",
     "text": [
      "[I 2024-12-02 18:59:37,306] Trial 430 finished with value: 0.020520900920184205 and parameters: {'topK': 1, 'alpha': 0.3723206876346885, 'normalize_similarity': True, 'implicit': True}. Best is trial 128 with value: 0.05332611477891539.\n"
     ]
    },
    {
     "name": "stdout",
     "output_type": "stream",
     "text": [
      "P3alphaRecommender: Similarity column 38121 (100.0%), 2017.33 column/sec. Elapsed time 18.90 sec\n",
      "EvaluatorHoldout: Processed 35595 (100.0%) in 34.53 sec. Users per second: 1031\n"
     ]
    },
    {
     "name": "stderr",
     "output_type": "stream",
     "text": [
      "[I 2024-12-02 19:00:33,804] Trial 431 finished with value: 0.04771213631306158 and parameters: {'topK': 82, 'alpha': 0.23630532708271693, 'normalize_similarity': True, 'implicit': True}. Best is trial 128 with value: 0.05332611477891539.\n"
     ]
    },
    {
     "name": "stdout",
     "output_type": "stream",
     "text": [
      "P3alphaRecommender: Similarity column 38121 (100.0%), 2206.40 column/sec. Elapsed time 17.28 sec\n",
      "EvaluatorHoldout: Processed 35595 (100.0%) in 32.70 sec. Users per second: 1089\n"
     ]
    },
    {
     "name": "stderr",
     "output_type": "stream",
     "text": [
      "[I 2024-12-02 19:01:25,592] Trial 432 finished with value: 0.05137448856959852 and parameters: {'topK': 34, 'alpha': 0.5816723568217832, 'normalize_similarity': True, 'implicit': True}. Best is trial 128 with value: 0.05332611477891539.\n"
     ]
    },
    {
     "name": "stdout",
     "output_type": "stream",
     "text": [
      "P3alphaRecommender: Similarity column 38121 (100.0%), 2303.70 column/sec. Elapsed time 16.55 sec\n",
      "EvaluatorHoldout: Processed 35595 (100.0%) in 32.93 sec. Users per second: 1081\n"
     ]
    },
    {
     "name": "stderr",
     "output_type": "stream",
     "text": [
      "[I 2024-12-02 19:02:16,713] Trial 433 finished with value: 0.048577099735336166 and parameters: {'topK': 24, 'alpha': 1.3860905266957269, 'normalize_similarity': True, 'implicit': True}. Best is trial 128 with value: 0.05332611477891539.\n"
     ]
    },
    {
     "name": "stdout",
     "output_type": "stream",
     "text": [
      "P3alphaRecommender: Similarity column 38121 (100.0%), 585.58 column/sec. Elapsed time 1.09 min\n",
      "EvaluatorHoldout: Processed 35595 (100.0%) in 53.59 sec. Users per second: 664\n"
     ]
    },
    {
     "name": "stderr",
     "output_type": "stream",
     "text": [
      "[I 2024-12-02 19:04:56,191] Trial 434 finished with value: 0.03376092259256924 and parameters: {'topK': 1099, 'alpha': 0.4294494302498853, 'normalize_similarity': True, 'implicit': False}. Best is trial 128 with value: 0.05332611477891539.\n"
     ]
    },
    {
     "name": "stdout",
     "output_type": "stream",
     "text": [
      "P3alphaRecommender: Similarity column 38121 (100.0%), 2112.38 column/sec. Elapsed time 18.05 sec\n",
      "EvaluatorHoldout: Processed 35595 (100.0%) in 33.85 sec. Users per second: 1051\n"
     ]
    },
    {
     "name": "stderr",
     "output_type": "stream",
     "text": [
      "[I 2024-12-02 19:05:50,791] Trial 435 finished with value: 0.04916132772348353 and parameters: {'topK': 66, 'alpha': 0.5003566218804071, 'normalize_similarity': True, 'implicit': True}. Best is trial 128 with value: 0.05332611477891539.\n"
     ]
    },
    {
     "name": "stdout",
     "output_type": "stream",
     "text": [
      "P3alphaRecommender: Similarity column 38121 (100.0%), 2339.11 column/sec. Elapsed time 16.30 sec\n",
      "EvaluatorHoldout: Processed 35595 (100.0%) in 31.62 sec. Users per second: 1126\n"
     ]
    },
    {
     "name": "stderr",
     "output_type": "stream",
     "text": [
      "[I 2024-12-02 19:06:40,191] Trial 436 finished with value: 0.052208615665208846 and parameters: {'topK': 25, 'alpha': 0.33548846824962875, 'normalize_similarity': True, 'implicit': True}. Best is trial 128 with value: 0.05332611477891539.\n"
     ]
    },
    {
     "name": "stdout",
     "output_type": "stream",
     "text": [
      "P3alphaRecommender: Similarity column 38121 (100.0%), 1979.11 column/sec. Elapsed time 19.26 sec\n",
      "EvaluatorHoldout: Processed 35595 (100.0%) in 30.52 sec. Users per second: 1166\n"
     ]
    },
    {
     "name": "stderr",
     "output_type": "stream",
     "text": [
      "[I 2024-12-02 19:07:33,474] Trial 437 finished with value: 0.047662720151972704 and parameters: {'topK': 91, 'alpha': 0.3912577178889078, 'normalize_similarity': True, 'implicit': True}. Best is trial 128 with value: 0.05332611477891539.\n"
     ]
    },
    {
     "name": "stdout",
     "output_type": "stream",
     "text": [
      "P3alphaRecommender: Similarity column 38121 (100.0%), 1457.04 column/sec. Elapsed time 26.16 sec\n",
      "EvaluatorHoldout: Processed 35595 (100.0%) in 38.85 sec. Users per second: 916\n"
     ]
    },
    {
     "name": "stderr",
     "output_type": "stream",
     "text": [
      "[I 2024-12-02 19:08:47,151] Trial 438 finished with value: 0.04209302403360415 and parameters: {'topK': 237, 'alpha': 0.46643702314315905, 'normalize_similarity': True, 'implicit': True}. Best is trial 128 with value: 0.05332611477891539.\n"
     ]
    },
    {
     "name": "stdout",
     "output_type": "stream",
     "text": [
      "P3alphaRecommender: Similarity column 38121 (100.0%), 2155.81 column/sec. Elapsed time 17.68 sec\n",
      "EvaluatorHoldout: Processed 35595 (100.0%) in 33.31 sec. Users per second: 1069\n"
     ]
    },
    {
     "name": "stderr",
     "output_type": "stream",
     "text": [
      "[I 2024-12-02 19:09:40,390] Trial 439 finished with value: 0.049865404896797756 and parameters: {'topK': 54, 'alpha': 0.3112040052908337, 'normalize_similarity': True, 'implicit': True}. Best is trial 128 with value: 0.05332611477891539.\n"
     ]
    },
    {
     "name": "stdout",
     "output_type": "stream",
     "text": [
      "P3alphaRecommender: Similarity column 38121 (100.0%), 2328.93 column/sec. Elapsed time 16.37 sec\n",
      "EvaluatorHoldout: Processed 35595 (100.0%) in 31.47 sec. Users per second: 1131\n"
     ]
    },
    {
     "name": "stderr",
     "output_type": "stream",
     "text": [
      "[I 2024-12-02 19:10:29,738] Trial 440 finished with value: 0.05226939979531446 and parameters: {'topK': 25, 'alpha': 0.35702992942497636, 'normalize_similarity': True, 'implicit': False}. Best is trial 128 with value: 0.05332611477891539.\n"
     ]
    },
    {
     "name": "stdout",
     "output_type": "stream",
     "text": [
      "P3alphaRecommender: Similarity column 38121 (100.0%), 1919.15 column/sec. Elapsed time 19.86 sec\n",
      "EvaluatorHoldout: Processed 35595 (100.0%) in 30.82 sec. Users per second: 1155\n"
     ]
    },
    {
     "name": "stderr",
     "output_type": "stream",
     "text": [
      "[I 2024-12-02 19:11:24,212] Trial 441 finished with value: 0.047103988432474035 and parameters: {'topK': 103, 'alpha': 0.42213604212158307, 'normalize_similarity': True, 'implicit': True}. Best is trial 128 with value: 0.05332611477891539.\n"
     ]
    },
    {
     "name": "stdout",
     "output_type": "stream",
     "text": [
      "P3alphaRecommender: Similarity column 38121 (100.0%), 3420.32 column/sec. Elapsed time 11.15 sec\n",
      "EvaluatorHoldout: Processed 35595 (100.0%) in 24.89 sec. Users per second: 1430\n"
     ]
    },
    {
     "name": "stderr",
     "output_type": "stream",
     "text": [
      "[I 2024-12-02 19:12:00,572] Trial 442 finished with value: 0.00028209999175022335 and parameters: {'topK': 0, 'alpha': 0.26333758426083237, 'normalize_similarity': False, 'implicit': True}. Best is trial 128 with value: 0.05332611477891539.\n"
     ]
    },
    {
     "name": "stdout",
     "output_type": "stream",
     "text": [
      "P3alphaRecommender: Similarity column 38121 (100.0%), 2166.82 column/sec. Elapsed time 17.59 sec\n",
      "EvaluatorHoldout: Processed 35595 (100.0%) in 33.34 sec. Users per second: 1068\n"
     ]
    },
    {
     "name": "stderr",
     "output_type": "stream",
     "text": [
      "[I 2024-12-02 19:12:53,955] Trial 443 finished with value: 0.049791133496989326 and parameters: {'topK': 55, 'alpha': 0.532298820583269, 'normalize_similarity': True, 'implicit': True}. Best is trial 128 with value: 0.05332611477891539.\n"
     ]
    },
    {
     "name": "stdout",
     "output_type": "stream",
     "text": [
      "P3alphaRecommender: Similarity column 38121 (100.0%), 2324.69 column/sec. Elapsed time 16.40 sec\n",
      "EvaluatorHoldout: Processed 35595 (100.0%) in 31.68 sec. Users per second: 1124\n"
     ]
    },
    {
     "name": "stderr",
     "output_type": "stream",
     "text": [
      "[I 2024-12-02 19:13:43,554] Trial 444 finished with value: 0.05216085280391873 and parameters: {'topK': 26, 'alpha': 0.38426906922130943, 'normalize_similarity': True, 'implicit': True}. Best is trial 128 with value: 0.05332611477891539.\n"
     ]
    },
    {
     "name": "stdout",
     "output_type": "stream",
     "text": [
      "P3alphaRecommender: Similarity column 38121 (100.0%), 3527.05 column/sec. Elapsed time 10.81 sec\n",
      "EvaluatorHoldout: Processed 35595 (100.0%) in 26.86 sec. Users per second: 1325\n"
     ]
    },
    {
     "name": "stderr",
     "output_type": "stream",
     "text": [
      "[I 2024-12-02 19:14:22,150] Trial 445 finished with value: 0.020861389262358164 and parameters: {'topK': 1, 'alpha': 0.1781762397495808, 'normalize_similarity': True, 'implicit': True}. Best is trial 128 with value: 0.05332611477891539.\n"
     ]
    },
    {
     "name": "stdout",
     "output_type": "stream",
     "text": [
      "P3alphaRecommender: Similarity column 38121 (100.0%), 2060.12 column/sec. Elapsed time 18.50 sec\n",
      "EvaluatorHoldout: Processed 35595 (100.0%) in 33.80 sec. Users per second: 1053\n"
     ]
    },
    {
     "name": "stderr",
     "output_type": "stream",
     "text": [
      "[I 2024-12-02 19:15:17,372] Trial 446 finished with value: 0.048708800727762194 and parameters: {'topK': 72, 'alpha': 0.4591231960369472, 'normalize_similarity': True, 'implicit': False}. Best is trial 128 with value: 0.05332611477891539.\n"
     ]
    },
    {
     "name": "stdout",
     "output_type": "stream",
     "text": [
      "P3alphaRecommender: Similarity column 38121 (100.0%), 2176.12 column/sec. Elapsed time 17.52 sec\n",
      "EvaluatorHoldout: Processed 35595 (100.0%) in 32.94 sec. Users per second: 1081\n"
     ]
    },
    {
     "name": "stderr",
     "output_type": "stream",
     "text": [
      "[I 2024-12-02 19:16:09,962] Trial 447 finished with value: 0.05019858103844455 and parameters: {'topK': 48, 'alpha': 0.29237036978253744, 'normalize_similarity': True, 'implicit': True}. Best is trial 128 with value: 0.05332611477891539.\n"
     ]
    },
    {
     "name": "stdout",
     "output_type": "stream",
     "text": [
      "P3alphaRecommender: Similarity column 38121 (100.0%), 3367.96 column/sec. Elapsed time 11.32 sec\n",
      "EvaluatorHoldout: Processed 35595 (100.0%) in 25.39 sec. Users per second: 1402\n"
     ]
    },
    {
     "name": "stderr",
     "output_type": "stream",
     "text": [
      "[I 2024-12-02 19:16:47,008] Trial 448 finished with value: 0.00028209999175022335 and parameters: {'topK': 0, 'alpha': 0.3271874483354187, 'normalize_similarity': True, 'implicit': True}. Best is trial 128 with value: 0.05332611477891539.\n"
     ]
    },
    {
     "name": "stdout",
     "output_type": "stream",
     "text": [
      "P3alphaRecommender: Similarity column 38121 (100.0%), 1864.95 column/sec. Elapsed time 20.44 sec\n",
      "EvaluatorHoldout: Processed 35595 (100.0%) in 31.16 sec. Users per second: 1142\n"
     ]
    },
    {
     "name": "stderr",
     "output_type": "stream",
     "text": [
      "[I 2024-12-02 19:17:42,693] Trial 449 finished with value: 0.04649879374889743 and parameters: {'topK': 114, 'alpha': 0.4143649142094117, 'normalize_similarity': True, 'implicit': True}. Best is trial 128 with value: 0.05332611477891539.\n"
     ]
    },
    {
     "name": "stdout",
     "output_type": "stream",
     "text": [
      "P3alphaRecommender: Similarity column 38121 (100.0%), 2209.64 column/sec. Elapsed time 17.25 sec\n",
      "EvaluatorHoldout: Processed 35595 (100.0%) in 32.82 sec. Users per second: 1085\n"
     ]
    },
    {
     "name": "stderr",
     "output_type": "stream",
     "text": [
      "[I 2024-12-02 19:18:34,811] Trial 450 finished with value: 0.05065078361728009 and parameters: {'topK': 44, 'alpha': 0.491333117530995, 'normalize_similarity': True, 'implicit': True}. Best is trial 128 with value: 0.05332611477891539.\n"
     ]
    },
    {
     "name": "stdout",
     "output_type": "stream",
     "text": [
      "P3alphaRecommender: Similarity column 38121 (100.0%), 2001.88 column/sec. Elapsed time 19.04 sec\n",
      "EvaluatorHoldout: Processed 35595 (100.0%) in 30.50 sec. Users per second: 1167\n"
     ]
    },
    {
     "name": "stderr",
     "output_type": "stream",
     "text": [
      "[I 2024-12-02 19:19:27,483] Trial 451 finished with value: 0.04754556663701038 and parameters: {'topK': 84, 'alpha': 0.2352964711354163, 'normalize_similarity': True, 'implicit': True}. Best is trial 128 with value: 0.05332611477891539.\n"
     ]
    },
    {
     "name": "stdout",
     "output_type": "stream",
     "text": [
      "P3alphaRecommender: Similarity column 38121 (100.0%), 1709.04 column/sec. Elapsed time 22.31 sec\n",
      "EvaluatorHoldout: Processed 35595 (100.0%) in 32.52 sec. Users per second: 1095\n"
     ]
    },
    {
     "name": "stderr",
     "output_type": "stream",
     "text": [
      "[I 2024-12-02 19:20:27,636] Trial 452 finished with value: 0.04469094442103133 and parameters: {'topK': 152, 'alpha': 0.35797311259579395, 'normalize_similarity': True, 'implicit': True}. Best is trial 128 with value: 0.05332611477891539.\n"
     ]
    },
    {
     "name": "stdout",
     "output_type": "stream",
     "text": [
      "P3alphaRecommender: Similarity column 38121 (100.0%), 2298.43 column/sec. Elapsed time 16.59 sec\n",
      "EvaluatorHoldout: Processed 35595 (100.0%) in 31.53 sec. Users per second: 1129\n"
     ]
    },
    {
     "name": "stderr",
     "output_type": "stream",
     "text": [
      "[I 2024-12-02 19:21:17,347] Trial 453 finished with value: 0.05190612088820903 and parameters: {'topK': 26, 'alpha': 0.20980780969546492, 'normalize_similarity': True, 'implicit': False}. Best is trial 128 with value: 0.05332611477891539.\n"
     ]
    },
    {
     "name": "stdout",
     "output_type": "stream",
     "text": [
      "P3alphaRecommender: Similarity column 38121 (100.0%), 2143.03 column/sec. Elapsed time 17.79 sec\n",
      "EvaluatorHoldout: Processed 35595 (100.0%) in 33.34 sec. Users per second: 1068\n"
     ]
    },
    {
     "name": "stderr",
     "output_type": "stream",
     "text": [
      "[I 2024-12-02 19:22:10,842] Trial 454 finished with value: 0.04958088348416865 and parameters: {'topK': 57, 'alpha': 0.2783986126331363, 'normalize_similarity': True, 'implicit': True}. Best is trial 128 with value: 0.05332611477891539.\n"
     ]
    },
    {
     "name": "stdout",
     "output_type": "stream",
     "text": [
      "P3alphaRecommender: Similarity column 38121 (100.0%), 2302.22 column/sec. Elapsed time 16.56 sec\n",
      "EvaluatorHoldout: Processed 35595 (100.0%) in 31.92 sec. Users per second: 1115\n"
     ]
    },
    {
     "name": "stderr",
     "output_type": "stream",
     "text": [
      "[I 2024-12-02 19:23:00,812] Trial 455 finished with value: 0.05229845127169003 and parameters: {'topK': 25, 'alpha': 0.44438937990004834, 'normalize_similarity': True, 'implicit': True}. Best is trial 128 with value: 0.05332611477891539.\n"
     ]
    },
    {
     "name": "stdout",
     "output_type": "stream",
     "text": [
      "P3alphaRecommender: Similarity column 38121 (100.0%), 2048.10 column/sec. Elapsed time 18.61 sec\n",
      "EvaluatorHoldout: Processed 35595 (100.0%) in 34.63 sec. Users per second: 1028\n"
     ]
    },
    {
     "name": "stderr",
     "output_type": "stream",
     "text": [
      "[I 2024-12-02 19:23:56,902] Trial 456 finished with value: 0.04873581874572003 and parameters: {'topK': 72, 'alpha': 0.39745610275860366, 'normalize_similarity': True, 'implicit': True}. Best is trial 128 with value: 0.05332611477891539.\n"
     ]
    },
    {
     "name": "stdout",
     "output_type": "stream",
     "text": [
      "P3alphaRecommender: Similarity column 38121 (100.0%), 3502.42 column/sec. Elapsed time 10.88 sec\n",
      "EvaluatorHoldout: Processed 35595 (100.0%) in 27.15 sec. Users per second: 1311\n"
     ]
    },
    {
     "name": "stderr",
     "output_type": "stream",
     "text": [
      "[I 2024-12-02 19:24:35,850] Trial 457 finished with value: 0.020641639743409334 and parameters: {'topK': 1, 'alpha': 0.3276409741368353, 'normalize_similarity': True, 'implicit': True}. Best is trial 128 with value: 0.05332611477891539.\n"
     ]
    },
    {
     "name": "stdout",
     "output_type": "stream",
     "text": [
      "P3alphaRecommender: Similarity column 38121 (100.0%), 2189.60 column/sec. Elapsed time 17.41 sec\n",
      "EvaluatorHoldout: Processed 35595 (100.0%) in 33.75 sec. Users per second: 1055\n"
     ]
    },
    {
     "name": "stderr",
     "output_type": "stream",
     "text": [
      "[I 2024-12-02 19:25:29,087] Trial 458 finished with value: 0.050612357496258135 and parameters: {'topK': 44, 'alpha': 0.4680654963381383, 'normalize_similarity': True, 'implicit': True}. Best is trial 128 with value: 0.05332611477891539.\n"
     ]
    },
    {
     "name": "stdout",
     "output_type": "stream",
     "text": [
      "P3alphaRecommender: Similarity column 38121 (100.0%), 3331.10 column/sec. Elapsed time 11.44 sec\n",
      "EvaluatorHoldout: Processed 35595 (100.0%) in 25.46 sec. Users per second: 1398\n"
     ]
    },
    {
     "name": "stderr",
     "output_type": "stream",
     "text": [
      "[I 2024-12-02 19:26:06,332] Trial 459 finished with value: 0.00028209999175022335 and parameters: {'topK': 0, 'alpha': 0.3674768936359954, 'normalize_similarity': True, 'implicit': False}. Best is trial 128 with value: 0.05332611477891539.\n"
     ]
    },
    {
     "name": "stdout",
     "output_type": "stream",
     "text": [
      "P3alphaRecommender: Similarity column 38121 (100.0%), 2219.25 column/sec. Elapsed time 17.18 sec\n",
      "EvaluatorHoldout: Processed 35595 (100.0%) in 32.82 sec. Users per second: 1085\n"
     ]
    },
    {
     "name": "stderr",
     "output_type": "stream",
     "text": [
      "[I 2024-12-02 19:26:58,310] Trial 460 finished with value: 0.050691323464815204 and parameters: {'topK': 43, 'alpha': 0.4200651034569013, 'normalize_similarity': True, 'implicit': True}. Best is trial 128 with value: 0.05332611477891539.\n"
     ]
    },
    {
     "name": "stdout",
     "output_type": "stream",
     "text": [
      "P3alphaRecommender: Similarity column 38121 (100.0%), 1942.63 column/sec. Elapsed time 19.62 sec\n",
      "EvaluatorHoldout: Processed 35595 (100.0%) in 31.22 sec. Users per second: 1140\n"
     ]
    },
    {
     "name": "stderr",
     "output_type": "stream",
     "text": [
      "[I 2024-12-02 19:27:52,693] Trial 461 finished with value: 0.040921920324995094 and parameters: {'topK': 93, 'alpha': 0.5554675519693801, 'normalize_similarity': False, 'implicit': True}. Best is trial 128 with value: 0.05332611477891539.\n"
     ]
    },
    {
     "name": "stdout",
     "output_type": "stream",
     "text": [
      "P3alphaRecommender: Similarity column 38121 (100.0%), 2284.85 column/sec. Elapsed time 16.68 sec\n",
      "EvaluatorHoldout: Processed 35595 (100.0%) in 32.04 sec. Users per second: 1111\n"
     ]
    },
    {
     "name": "stderr",
     "output_type": "stream",
     "text": [
      "[I 2024-12-02 19:28:43,076] Trial 462 finished with value: 0.051699756074174874 and parameters: {'topK': 29, 'alpha': 0.3045887413353488, 'normalize_similarity': True, 'implicit': True}. Best is trial 128 with value: 0.05332611477891539.\n"
     ]
    },
    {
     "name": "stdout",
     "output_type": "stream",
     "text": [
      "P3alphaRecommender: Similarity column 38121 (100.0%), 2073.74 column/sec. Elapsed time 18.38 sec\n",
      "EvaluatorHoldout: Processed 35595 (100.0%) in 33.81 sec. Users per second: 1053\n"
     ]
    },
    {
     "name": "stderr",
     "output_type": "stream",
     "text": [
      "[I 2024-12-02 19:29:38,088] Trial 463 finished with value: 0.048784856977859815 and parameters: {'topK': 70, 'alpha': 0.5080785548016916, 'normalize_similarity': True, 'implicit': True}. Best is trial 128 with value: 0.05332611477891539.\n"
     ]
    },
    {
     "name": "stdout",
     "output_type": "stream",
     "text": [
      "P3alphaRecommender: Similarity column 38121 (100.0%), 2279.50 column/sec. Elapsed time 16.72 sec\n",
      "EvaluatorHoldout: Processed 35595 (100.0%) in 32.24 sec. Users per second: 1104\n"
     ]
    },
    {
     "name": "stderr",
     "output_type": "stream",
     "text": [
      "[I 2024-12-02 19:30:28,675] Trial 464 finished with value: 0.051726004856217866 and parameters: {'topK': 30, 'alpha': 0.3776202032034317, 'normalize_similarity': True, 'implicit': True}. Best is trial 128 with value: 0.05332611477891539.\n"
     ]
    },
    {
     "name": "stdout",
     "output_type": "stream",
     "text": [
      "P3alphaRecommender: Similarity column 38121 (100.0%), 1898.59 column/sec. Elapsed time 20.08 sec\n",
      "EvaluatorHoldout: Processed 35595 (100.0%) in 30.87 sec. Users per second: 1153\n"
     ]
    },
    {
     "name": "stderr",
     "output_type": "stream",
     "text": [
      "[I 2024-12-02 19:31:23,405] Trial 465 finished with value: 0.04638779412125224 and parameters: {'topK': 108, 'alpha': 0.2644270709339837, 'normalize_similarity': True, 'implicit': False}. Best is trial 128 with value: 0.05332611477891539.\n"
     ]
    },
    {
     "name": "stdout",
     "output_type": "stream",
     "text": [
      "P3alphaRecommender: Similarity column 38121 (100.0%), 3411.78 column/sec. Elapsed time 11.17 sec\n",
      "EvaluatorHoldout: Processed 35595 (100.0%) in 25.08 sec. Users per second: 1419\n"
     ]
    },
    {
     "name": "stderr",
     "output_type": "stream",
     "text": [
      "[I 2024-12-02 19:31:59,980] Trial 466 finished with value: 0.00028209999175022335 and parameters: {'topK': 0, 'alpha': 0.43963229735354104, 'normalize_similarity': True, 'implicit': True}. Best is trial 128 with value: 0.05332611477891539.\n"
     ]
    },
    {
     "name": "stdout",
     "output_type": "stream",
     "text": [
      "P3alphaRecommender: Similarity column 38121 (100.0%), 2157.24 column/sec. Elapsed time 17.67 sec\n",
      "EvaluatorHoldout: Processed 35595 (100.0%) in 33.81 sec. Users per second: 1053\n"
     ]
    },
    {
     "name": "stderr",
     "output_type": "stream",
     "text": [
      "[I 2024-12-02 19:32:54,024] Trial 467 finished with value: 0.048446805664250116 and parameters: {'topK': 59, 'alpha': 0.8962737975607945, 'normalize_similarity': True, 'implicit': True}. Best is trial 128 with value: 0.05332611477891539.\n"
     ]
    },
    {
     "name": "stdout",
     "output_type": "stream",
     "text": [
      "P3alphaRecommender: Similarity column 38121 (100.0%), 2274.02 column/sec. Elapsed time 16.76 sec\n",
      "EvaluatorHoldout: Processed 35595 (100.0%) in 31.67 sec. Users per second: 1124\n"
     ]
    },
    {
     "name": "stderr",
     "output_type": "stream",
     "text": [
      "[I 2024-12-02 19:33:44,088] Trial 468 finished with value: 0.05101114165757879 and parameters: {'topK': 32, 'alpha': 0.12555056139479193, 'normalize_similarity': True, 'implicit': True}. Best is trial 128 with value: 0.05332611477891539.\n"
     ]
    },
    {
     "name": "stdout",
     "output_type": "stream",
     "text": [
      "P3alphaRecommender: Similarity column 38121 (100.0%), 2039.10 column/sec. Elapsed time 18.70 sec\n",
      "EvaluatorHoldout: Processed 35595 (100.0%) in 33.69 sec. Users per second: 1056\n"
     ]
    },
    {
     "name": "stderr",
     "output_type": "stream",
     "text": [
      "[I 2024-12-02 19:34:39,381] Trial 469 finished with value: 0.04837553316967363 and parameters: {'topK': 77, 'alpha': 0.3353634689598081, 'normalize_similarity': True, 'implicit': True}. Best is trial 128 with value: 0.05332611477891539.\n"
     ]
    },
    {
     "name": "stdout",
     "output_type": "stream",
     "text": [
      "P3alphaRecommender: Similarity column 38121 (100.0%), 2305.77 column/sec. Elapsed time 16.53 sec\n",
      "EvaluatorHoldout: Processed 35595 (100.0%) in 31.62 sec. Users per second: 1126\n"
     ]
    },
    {
     "name": "stderr",
     "output_type": "stream",
     "text": [
      "[I 2024-12-02 19:35:29,087] Trial 470 finished with value: 0.051898281370887714 and parameters: {'topK': 28, 'alpha': 0.3982023961566207, 'normalize_similarity': True, 'implicit': True}. Best is trial 128 with value: 0.05332611477891539.\n"
     ]
    },
    {
     "name": "stdout",
     "output_type": "stream",
     "text": [
      "P3alphaRecommender: Similarity column 38121 (100.0%), 1836.45 column/sec. Elapsed time 20.76 sec\n",
      "EvaluatorHoldout: Processed 35595 (100.0%) in 31.26 sec. Users per second: 1139\n"
     ]
    },
    {
     "name": "stderr",
     "output_type": "stream",
     "text": [
      "[I 2024-12-02 19:36:25,405] Trial 471 finished with value: 0.04538168817182574 and parameters: {'topK': 124, 'alpha': 0.21750228515031506, 'normalize_similarity': True, 'implicit': False}. Best is trial 128 with value: 0.05332611477891539.\n"
     ]
    },
    {
     "name": "stdout",
     "output_type": "stream",
     "text": [
      "P3alphaRecommender: Similarity column 38121 (100.0%), 2148.37 column/sec. Elapsed time 17.74 sec\n",
      "EvaluatorHoldout: Processed 35595 (100.0%) in 33.25 sec. Users per second: 1070\n"
     ]
    },
    {
     "name": "stderr",
     "output_type": "stream",
     "text": [
      "[I 2024-12-02 19:37:18,748] Trial 472 finished with value: 0.04973682990075555 and parameters: {'topK': 56, 'alpha': 0.4915995492722809, 'normalize_similarity': True, 'implicit': True}. Best is trial 128 with value: 0.05332611477891539.\n"
     ]
    },
    {
     "name": "stdout",
     "output_type": "stream",
     "text": [
      "P3alphaRecommender: Similarity column 38121 (100.0%), 3430.82 column/sec. Elapsed time 11.11 sec\n",
      "EvaluatorHoldout: Processed 35595 (100.0%) in 24.94 sec. Users per second: 1427\n"
     ]
    },
    {
     "name": "stderr",
     "output_type": "stream",
     "text": [
      "[I 2024-12-02 19:37:55,117] Trial 473 finished with value: 0.00028209999175022335 and parameters: {'topK': 0, 'alpha': 0.35994154281941987, 'normalize_similarity': True, 'implicit': True}. Best is trial 128 with value: 0.05332611477891539.\n"
     ]
    },
    {
     "name": "stdout",
     "output_type": "stream",
     "text": [
      "P3alphaRecommender: Similarity column 38121 (100.0%), 2173.97 column/sec. Elapsed time 17.54 sec\n",
      "EvaluatorHoldout: Processed 35595 (100.0%) in 33.04 sec. Users per second: 1077\n"
     ]
    },
    {
     "name": "stderr",
     "output_type": "stream",
     "text": [
      "[I 2024-12-02 19:38:47,902] Trial 474 finished with value: 0.04994569194442561 and parameters: {'topK': 53, 'alpha': 0.3087591155208334, 'normalize_similarity': True, 'implicit': True}. Best is trial 128 with value: 0.05332611477891539.\n"
     ]
    },
    {
     "name": "stdout",
     "output_type": "stream",
     "text": [
      "P3alphaRecommender: Similarity column 38121 (100.0%), 2316.75 column/sec. Elapsed time 16.45 sec\n",
      "EvaluatorHoldout: Processed 35595 (100.0%) in 31.66 sec. Users per second: 1124\n"
     ]
    },
    {
     "name": "stderr",
     "output_type": "stream",
     "text": [
      "[I 2024-12-02 19:39:37,569] Trial 475 finished with value: 0.05214011799409826 and parameters: {'topK': 27, 'alpha': 0.43585148530265116, 'normalize_similarity': True, 'implicit': True}. Best is trial 128 with value: 0.05332611477891539.\n"
     ]
    },
    {
     "name": "stdout",
     "output_type": "stream",
     "text": [
      "P3alphaRecommender: Similarity column 38121 (100.0%), 1910.63 column/sec. Elapsed time 19.95 sec\n",
      "EvaluatorHoldout: Processed 35595 (100.0%) in 31.41 sec. Users per second: 1133\n"
     ]
    },
    {
     "name": "stderr",
     "output_type": "stream",
     "text": [
      "[I 2024-12-02 19:40:32,739] Trial 476 finished with value: 0.04711775664051107 and parameters: {'topK': 99, 'alpha': 0.6146915856429664, 'normalize_similarity': True, 'implicit': True}. Best is trial 128 with value: 0.05332611477891539.\n"
     ]
    },
    {
     "name": "stdout",
     "output_type": "stream",
     "text": [
      "P3alphaRecommender: Similarity column 38121 (100.0%), 782.74 column/sec. Elapsed time 48.70 sec\n",
      "EvaluatorHoldout: Processed 35595 (100.0%) in 47.04 sec. Users per second: 757\n"
     ]
    },
    {
     "name": "stderr",
     "output_type": "stream",
     "text": [
      "[I 2024-12-02 19:42:35,076] Trial 477 finished with value: 0.03556091791026356 and parameters: {'topK': 714, 'alpha': 0.3940549574488753, 'normalize_similarity': True, 'implicit': True}. Best is trial 128 with value: 0.05332611477891539.\n"
     ]
    },
    {
     "name": "stdout",
     "output_type": "stream",
     "text": [
      "P3alphaRecommender: Similarity column 38121 (100.0%), 2063.54 column/sec. Elapsed time 18.47 sec\n",
      "EvaluatorHoldout: Processed 35595 (100.0%) in 33.83 sec. Users per second: 1052\n"
     ]
    },
    {
     "name": "stderr",
     "output_type": "stream",
     "text": [
      "[I 2024-12-02 19:43:30,374] Trial 478 finished with value: 0.04830154159336458 and parameters: {'topK': 75, 'alpha': 0.27428789001684173, 'normalize_similarity': True, 'implicit': False}. Best is trial 128 with value: 0.05332611477891539.\n"
     ]
    },
    {
     "name": "stdout",
     "output_type": "stream",
     "text": [
      "P3alphaRecommender: Similarity column 38121 (100.0%), 2302.29 column/sec. Elapsed time 16.56 sec\n",
      "EvaluatorHoldout: Processed 35595 (100.0%) in 31.50 sec. Users per second: 1130\n"
     ]
    },
    {
     "name": "stderr",
     "output_type": "stream",
     "text": [
      "[I 2024-12-02 19:44:19,923] Trial 479 finished with value: 0.05230913473222598 and parameters: {'topK': 25, 'alpha': 0.4699366967440355, 'normalize_similarity': True, 'implicit': True}. Best is trial 128 with value: 0.05332611477891539.\n"
     ]
    },
    {
     "name": "stdout",
     "output_type": "stream",
     "text": [
      "P3alphaRecommender: Similarity column 38121 (100.0%), 2178.12 column/sec. Elapsed time 17.50 sec\n",
      "EvaluatorHoldout: Processed 35595 (100.0%) in 33.43 sec. Users per second: 1065\n"
     ]
    },
    {
     "name": "stderr",
     "output_type": "stream",
     "text": [
      "[I 2024-12-02 19:45:13,002] Trial 480 finished with value: 0.03844717133001847 and parameters: {'topK': 50, 'alpha': 0.3442486788941549, 'normalize_similarity': False, 'implicit': True}. Best is trial 128 with value: 0.05332611477891539.\n"
     ]
    },
    {
     "name": "stdout",
     "output_type": "stream",
     "text": [
      "P3alphaRecommender: Similarity column 38121 (100.0%), 2311.73 column/sec. Elapsed time 16.49 sec\n",
      "EvaluatorHoldout: Processed 35595 (100.0%) in 31.87 sec. Users per second: 1117\n"
     ]
    },
    {
     "name": "stderr",
     "output_type": "stream",
     "text": [
      "[I 2024-12-02 19:46:02,875] Trial 481 finished with value: 0.0522165287616173 and parameters: {'topK': 25, 'alpha': 0.5316198497985632, 'normalize_similarity': True, 'implicit': True}. Best is trial 128 with value: 0.05332611477891539.\n"
     ]
    },
    {
     "name": "stdout",
     "output_type": "stream",
     "text": [
      "P3alphaRecommender: Similarity column 38121 (100.0%), 2089.17 column/sec. Elapsed time 18.25 sec\n",
      "EvaluatorHoldout: Processed 35595 (100.0%) in 33.69 sec. Users per second: 1056\n"
     ]
    },
    {
     "name": "stderr",
     "output_type": "stream",
     "text": [
      "[I 2024-12-02 19:46:57,463] Trial 482 finished with value: 0.049175381329193205 and parameters: {'topK': 65, 'alpha': 0.4214902917095317, 'normalize_similarity': True, 'implicit': True}. Best is trial 128 with value: 0.05332611477891539.\n"
     ]
    },
    {
     "name": "stdout",
     "output_type": "stream",
     "text": [
      "P3alphaRecommender: Similarity column 38121 (100.0%), 3375.42 column/sec. Elapsed time 11.29 sec\n",
      "EvaluatorHoldout: Processed 35595 (100.0%) in 25.01 sec. Users per second: 1423\n"
     ]
    },
    {
     "name": "stderr",
     "output_type": "stream",
     "text": [
      "[I 2024-12-02 19:47:34,093] Trial 483 finished with value: 0.00028209999175022335 and parameters: {'topK': 0, 'alpha': 0.308607157086049, 'normalize_similarity': True, 'implicit': True}. Best is trial 128 with value: 0.05332611477891539.\n"
     ]
    },
    {
     "name": "stdout",
     "output_type": "stream",
     "text": [
      "P3alphaRecommender: Similarity column 38121 (100.0%), 1984.23 column/sec. Elapsed time 19.21 sec\n",
      "EvaluatorHoldout: Processed 35595 (100.0%) in 30.76 sec. Users per second: 1157\n"
     ]
    },
    {
     "name": "stderr",
     "output_type": "stream",
     "text": [
      "[I 2024-12-02 19:48:27,389] Trial 484 finished with value: 0.04765520170703329 and parameters: {'topK': 90, 'alpha': 0.3716914059214449, 'normalize_similarity': True, 'implicit': False}. Best is trial 128 with value: 0.05332611477891539.\n"
     ]
    },
    {
     "name": "stdout",
     "output_type": "stream",
     "text": [
      "P3alphaRecommender: Similarity column 38121 (100.0%), 2228.22 column/sec. Elapsed time 17.11 sec\n",
      "EvaluatorHoldout: Processed 35595 (100.0%) in 32.81 sec. Users per second: 1085\n"
     ]
    },
    {
     "name": "stderr",
     "output_type": "stream",
     "text": [
      "[I 2024-12-02 19:49:19,213] Trial 485 finished with value: 0.050752057427361115 and parameters: {'topK': 39, 'alpha': 0.25818566499229045, 'normalize_similarity': True, 'implicit': True}. Best is trial 128 with value: 0.05332611477891539.\n"
     ]
    },
    {
     "name": "stdout",
     "output_type": "stream",
     "text": [
      "P3alphaRecommender: Similarity column 38121 (100.0%), 2290.07 column/sec. Elapsed time 16.65 sec\n",
      "EvaluatorHoldout: Processed 35595 (100.0%) in 32.19 sec. Users per second: 1106\n"
     ]
    },
    {
     "name": "stderr",
     "output_type": "stream",
     "text": [
      "[I 2024-12-02 19:50:09,594] Trial 486 finished with value: 0.05205062241218803 and parameters: {'topK': 27, 'alpha': 0.4634671371580615, 'normalize_similarity': True, 'implicit': True}. Best is trial 128 with value: 0.05332611477891539.\n"
     ]
    },
    {
     "name": "stdout",
     "output_type": "stream",
     "text": [
      "P3alphaRecommender: Similarity column 38121 (100.0%), 1789.31 column/sec. Elapsed time 21.30 sec\n",
      "EvaluatorHoldout: Processed 35595 (100.0%) in 32.75 sec. Users per second: 1087\n"
     ]
    },
    {
     "name": "stderr",
     "output_type": "stream",
     "text": [
      "[I 2024-12-02 19:51:08,385] Trial 487 finished with value: 0.045580586938149655 and parameters: {'topK': 133, 'alpha': 0.40822507113731366, 'normalize_similarity': True, 'implicit': True}. Best is trial 128 with value: 0.05332611477891539.\n"
     ]
    },
    {
     "name": "stdout",
     "output_type": "stream",
     "text": [
      "P3alphaRecommender: Similarity column 38121 (100.0%), 3391.07 column/sec. Elapsed time 11.24 sec\n",
      "EvaluatorHoldout: Processed 35595 (100.0%) in 25.34 sec. Users per second: 1405\n"
     ]
    },
    {
     "name": "stderr",
     "output_type": "stream",
     "text": [
      "[I 2024-12-02 19:51:45,307] Trial 488 finished with value: 0.00028209999175022335 and parameters: {'topK': 0, 'alpha': 0.3302399186939696, 'normalize_similarity': True, 'implicit': True}. Best is trial 128 with value: 0.05332611477891539.\n"
     ]
    },
    {
     "name": "stdout",
     "output_type": "stream",
     "text": [
      "P3alphaRecommender: Similarity column 38121 (100.0%), 2086.19 column/sec. Elapsed time 18.27 sec\n",
      "EvaluatorHoldout: Processed 35595 (100.0%) in 34.09 sec. Users per second: 1044\n"
     ]
    },
    {
     "name": "stderr",
     "output_type": "stream",
     "text": [
      "[I 2024-12-02 19:52:40,009] Trial 489 finished with value: 0.05006935720863057 and parameters: {'topK': 52, 'alpha': 0.4945307180061737, 'normalize_similarity': True, 'implicit': True}. Best is trial 128 with value: 0.05332611477891539.\n"
     ]
    },
    {
     "name": "stdout",
     "output_type": "stream",
     "text": [
      "P3alphaRecommender: Similarity column 38121 (100.0%), 2043.93 column/sec. Elapsed time 18.65 sec\n",
      "EvaluatorHoldout: Processed 35595 (100.0%) in 33.88 sec. Users per second: 1051\n"
     ]
    },
    {
     "name": "stderr",
     "output_type": "stream",
     "text": [
      "[I 2024-12-02 19:53:35,484] Trial 490 finished with value: 0.048477856039169 and parameters: {'topK': 77, 'alpha': 0.3696688662132591, 'normalize_similarity': True, 'implicit': False}. Best is trial 128 with value: 0.05332611477891539.\n"
     ]
    },
    {
     "name": "stdout",
     "output_type": "stream",
     "text": [
      "P3alphaRecommender: Similarity column 38121 (100.0%), 2299.86 column/sec. Elapsed time 16.58 sec\n",
      "EvaluatorHoldout: Processed 35595 (100.0%) in 31.84 sec. Users per second: 1118\n"
     ]
    },
    {
     "name": "stderr",
     "output_type": "stream",
     "text": [
      "[I 2024-12-02 19:54:25,597] Trial 491 finished with value: 0.051792027594385615 and parameters: {'topK': 30, 'alpha': 0.4422727880600964, 'normalize_similarity': True, 'implicit': True}. Best is trial 128 with value: 0.05332611477891539.\n"
     ]
    },
    {
     "name": "stdout",
     "output_type": "stream",
     "text": [
      "P3alphaRecommender: Similarity column 38121 (100.0%), 992.52 column/sec. Elapsed time 38.41 sec\n",
      "EvaluatorHoldout: Processed 35595 (100.0%) in 43.40 sec. Users per second: 820\n"
     ]
    },
    {
     "name": "stderr",
     "output_type": "stream",
     "text": [
      "[I 2024-12-02 19:56:05,359] Trial 492 finished with value: 0.03669925439857871 and parameters: {'topK': 497, 'alpha': 0.1922508615381754, 'normalize_similarity': True, 'implicit': True}. Best is trial 128 with value: 0.05332611477891539.\n"
     ]
    },
    {
     "name": "stdout",
     "output_type": "stream",
     "text": [
      "P3alphaRecommender: Similarity column 38121 (100.0%), 2121.12 column/sec. Elapsed time 17.97 sec\n",
      "EvaluatorHoldout: Processed 35595 (100.0%) in 33.15 sec. Users per second: 1074\n"
     ]
    },
    {
     "name": "stderr",
     "output_type": "stream",
     "text": [
      "[I 2024-12-02 19:56:58,862] Trial 493 finished with value: 0.04965818946391883 and parameters: {'topK': 56, 'alpha': 0.2878547211712888, 'normalize_similarity': True, 'implicit': True}. Best is trial 128 with value: 0.05332611477891539.\n"
     ]
    },
    {
     "name": "stdout",
     "output_type": "stream",
     "text": [
      "P3alphaRecommender: Similarity column 38121 (100.0%), 3269.98 column/sec. Elapsed time 11.66 sec\n",
      "EvaluatorHoldout: Processed 35595 (100.0%) in 24.85 sec. Users per second: 1432\n"
     ]
    },
    {
     "name": "stderr",
     "output_type": "stream",
     "text": [
      "[I 2024-12-02 19:57:35,694] Trial 494 finished with value: 0.00028209999175022335 and parameters: {'topK': 0, 'alpha': 0.23997502472494392, 'normalize_similarity': True, 'implicit': True}. Best is trial 128 with value: 0.05332611477891539.\n"
     ]
    },
    {
     "name": "stdout",
     "output_type": "stream",
     "text": [
      "P3alphaRecommender: Similarity column 38121 (100.0%), 1909.69 column/sec. Elapsed time 19.96 sec\n",
      "EvaluatorHoldout: Processed 35595 (100.0%) in 31.17 sec. Users per second: 1142\n"
     ]
    },
    {
     "name": "stderr",
     "output_type": "stream",
     "text": [
      "[I 2024-12-02 19:58:30,694] Trial 495 finished with value: 0.04701463443456527 and parameters: {'topK': 104, 'alpha': 0.5655996542736403, 'normalize_similarity': True, 'implicit': True}. Best is trial 128 with value: 0.05332611477891539.\n"
     ]
    },
    {
     "name": "stdout",
     "output_type": "stream",
     "text": [
      "P3alphaRecommender: Similarity column 38121 (100.0%), 2195.60 column/sec. Elapsed time 17.36 sec\n",
      "EvaluatorHoldout: Processed 35595 (100.0%) in 32.83 sec. Users per second: 1084\n"
     ]
    },
    {
     "name": "stderr",
     "output_type": "stream",
     "text": [
      "[I 2024-12-02 19:59:22,888] Trial 496 finished with value: 0.05066432662871591 and parameters: {'topK': 44, 'alpha': 0.3990741044351001, 'normalize_similarity': True, 'implicit': False}. Best is trial 128 with value: 0.05332611477891539.\n"
     ]
    },
    {
     "name": "stdout",
     "output_type": "stream",
     "text": [
      "P3alphaRecommender: Similarity column 38121 (100.0%), 2027.12 column/sec. Elapsed time 18.81 sec\n",
      "EvaluatorHoldout: Processed 35595 (100.0%) in 34.22 sec. Users per second: 1040\n"
     ]
    },
    {
     "name": "stderr",
     "output_type": "stream",
     "text": [
      "[I 2024-12-02 20:00:19,002] Trial 497 finished with value: 0.0481575027257688 and parameters: {'topK': 80, 'alpha': 0.33998764256462666, 'normalize_similarity': True, 'implicit': True}. Best is trial 128 with value: 0.05332611477891539.\n"
     ]
    },
    {
     "name": "stdout",
     "output_type": "stream",
     "text": [
      "P3alphaRecommender: Similarity column 38121 (100.0%), 2312.28 column/sec. Elapsed time 16.49 sec\n",
      "EvaluatorHoldout: Processed 35595 (100.0%) in 31.72 sec. Users per second: 1122\n"
     ]
    },
    {
     "name": "stderr",
     "output_type": "stream",
     "text": [
      "[I 2024-12-02 20:01:08,678] Trial 498 finished with value: 0.05237916530099266 and parameters: {'topK': 24, 'alpha': 0.44271633644317954, 'normalize_similarity': True, 'implicit': True}. Best is trial 128 with value: 0.05332611477891539.\n"
     ]
    },
    {
     "name": "stdout",
     "output_type": "stream",
     "text": [
      "P3alphaRecommender: Similarity column 38121 (100.0%), 2312.03 column/sec. Elapsed time 16.49 sec\n",
      "EvaluatorHoldout: Processed 35595 (100.0%) in 32.01 sec. Users per second: 1112\n"
     ]
    },
    {
     "name": "stderr",
     "output_type": "stream",
     "text": [
      "[I 2024-12-02 20:01:58,705] Trial 499 finished with value: 0.04362360729280081 and parameters: {'topK': 26, 'alpha': 0.5106070801419661, 'normalize_similarity': False, 'implicit': True}. Best is trial 128 with value: 0.05332611477891539.\n"
     ]
    },
    {
     "name": "stdout",
     "output_type": "stream",
     "text": [
      "P3alphaRecommender: Similarity column 38121 (100.0%), 3393.02 column/sec. Elapsed time 11.24 sec\n",
      "EvaluatorHoldout: Processed 35595 (100.0%) in 25.39 sec. Users per second: 1402\n"
     ]
    },
    {
     "name": "stderr",
     "output_type": "stream",
     "text": [
      "[I 2024-12-02 20:02:35,663] Trial 500 finished with value: 0.00028209999175022335 and parameters: {'topK': 0, 'alpha': 1.226215552823029, 'normalize_similarity': True, 'implicit': True}. Best is trial 128 with value: 0.05332611477891539.\n"
     ]
    },
    {
     "name": "stdout",
     "output_type": "stream",
     "text": [
      "P3alphaRecommender: Similarity column 38121 (100.0%), 2085.40 column/sec. Elapsed time 18.28 sec\n",
      "EvaluatorHoldout: Processed 35595 (100.0%) in 33.74 sec. Users per second: 1055\n"
     ]
    },
    {
     "name": "stderr",
     "output_type": "stream",
     "text": [
      "[I 2024-12-02 20:03:30,311] Trial 501 finished with value: 0.049391884449615266 and parameters: {'topK': 62, 'alpha': 0.3726595316798942, 'normalize_similarity': True, 'implicit': True}. Best is trial 128 with value: 0.05332611477891539.\n"
     ]
    },
    {
     "name": "stdout",
     "output_type": "stream",
     "text": [
      "P3alphaRecommender: Similarity column 38121 (100.0%), 2182.84 column/sec. Elapsed time 17.46 sec\n",
      "EvaluatorHoldout: Processed 35595 (100.0%) in 33.40 sec. Users per second: 1066\n"
     ]
    },
    {
     "name": "stderr",
     "output_type": "stream",
     "text": [
      "[I 2024-12-02 20:04:23,203] Trial 502 finished with value: 0.05047602882516331 and parameters: {'topK': 44, 'alpha': 0.29868804685853007, 'normalize_similarity': True, 'implicit': True}. Best is trial 128 with value: 0.05332611477891539.\n"
     ]
    },
    {
     "name": "stdout",
     "output_type": "stream",
     "text": [
      "P3alphaRecommender: Similarity column 38121 (100.0%), 1948.53 column/sec. Elapsed time 19.56 sec\n",
      "EvaluatorHoldout: Processed 35595 (100.0%) in 31.04 sec. Users per second: 1147\n"
     ]
    },
    {
     "name": "stderr",
     "output_type": "stream",
     "text": [
      "[I 2024-12-02 20:05:17,352] Trial 503 finished with value: 0.0474608280545897 and parameters: {'topK': 94, 'alpha': 0.4095419601622821, 'normalize_similarity': True, 'implicit': False}. Best is trial 128 with value: 0.05332611477891539.\n"
     ]
    },
    {
     "name": "stdout",
     "output_type": "stream",
     "text": [
      "P3alphaRecommender: Similarity column 38121 (100.0%), 1587.24 column/sec. Elapsed time 24.02 sec\n",
      "EvaluatorHoldout: Processed 35595 (100.0%) in 32.31 sec. Users per second: 1102\n"
     ]
    },
    {
     "name": "stderr",
     "output_type": "stream",
     "text": [
      "[I 2024-12-02 20:06:20,422] Trial 504 finished with value: 0.04355978635308455 and parameters: {'topK': 186, 'alpha': 0.47026763320163306, 'normalize_similarity': True, 'implicit': True}. Best is trial 128 with value: 0.05332611477891539.\n"
     ]
    },
    {
     "name": "stdout",
     "output_type": "stream",
     "text": [
      "P3alphaRecommender: Similarity column 38121 (100.0%), 2320.99 column/sec. Elapsed time 16.42 sec\n",
      "EvaluatorHoldout: Processed 35595 (100.0%) in 32.06 sec. Users per second: 1110\n"
     ]
    },
    {
     "name": "stderr",
     "output_type": "stream",
     "text": [
      "[I 2024-12-02 20:07:10,372] Trial 505 finished with value: 0.05210414116482201 and parameters: {'topK': 24, 'alpha': 0.22065817623555042, 'normalize_similarity': True, 'implicit': True}. Best is trial 128 with value: 0.05332611477891539.\n"
     ]
    },
    {
     "name": "stdout",
     "output_type": "stream",
     "text": [
      "P3alphaRecommender: Similarity column 38121 (100.0%), 2112.02 column/sec. Elapsed time 18.05 sec\n",
      "EvaluatorHoldout: Processed 35595 (100.0%) in 34.18 sec. Users per second: 1041\n"
     ]
    },
    {
     "name": "stderr",
     "output_type": "stream",
     "text": [
      "[I 2024-12-02 20:08:05,263] Trial 506 finished with value: 0.04782567553405972 and parameters: {'topK': 60, 'alpha': 1.0193966689609084, 'normalize_similarity': True, 'implicit': True}. Best is trial 128 with value: 0.05332611477891539.\n"
     ]
    },
    {
     "name": "stdout",
     "output_type": "stream",
     "text": [
      "P3alphaRecommender: Similarity column 38121 (100.0%), 2358.04 column/sec. Elapsed time 16.17 sec\n",
      "EvaluatorHoldout: Processed 35595 (100.0%) in 31.12 sec. Users per second: 1144\n"
     ]
    },
    {
     "name": "stderr",
     "output_type": "stream",
     "text": [
      "[I 2024-12-02 20:08:53,920] Trial 507 finished with value: 0.05253773492353162 and parameters: {'topK': 21, 'alpha': 0.3287023632626959, 'normalize_similarity': True, 'implicit': True}. Best is trial 128 with value: 0.05332611477891539.\n"
     ]
    },
    {
     "name": "stdout",
     "output_type": "stream",
     "text": [
      "P3alphaRecommender: Similarity column 38121 (100.0%), 2368.66 column/sec. Elapsed time 16.09 sec\n",
      "EvaluatorHoldout: Processed 35595 (100.0%) in 31.26 sec. Users per second: 1139\n"
     ]
    },
    {
     "name": "stderr",
     "output_type": "stream",
     "text": [
      "[I 2024-12-02 20:09:42,665] Trial 508 finished with value: 0.05256446977348625 and parameters: {'topK': 22, 'alpha': 0.36495837519297375, 'normalize_similarity': True, 'implicit': True}. Best is trial 128 with value: 0.05332611477891539.\n"
     ]
    },
    {
     "name": "stdout",
     "output_type": "stream",
     "text": [
      "P3alphaRecommender: Similarity column 38121 (100.0%), 2053.25 column/sec. Elapsed time 18.57 sec\n",
      "EvaluatorHoldout: Processed 35595 (100.0%) in 33.86 sec. Users per second: 1051\n"
     ]
    },
    {
     "name": "stderr",
     "output_type": "stream",
     "text": [
      "[I 2024-12-02 20:10:37,948] Trial 509 finished with value: 0.04866997884043634 and parameters: {'topK': 72, 'alpha': 0.3610218580347178, 'normalize_similarity': True, 'implicit': True}. Best is trial 128 with value: 0.05332611477891539.\n"
     ]
    },
    {
     "name": "stdout",
     "output_type": "stream",
     "text": [
      "P3alphaRecommender: Similarity column 38121 (100.0%), 1826.19 column/sec. Elapsed time 20.87 sec\n",
      "EvaluatorHoldout: Processed 35595 (100.0%) in 31.44 sec. Users per second: 1132\n"
     ]
    },
    {
     "name": "stderr",
     "output_type": "stream",
     "text": [
      "[I 2024-12-02 20:11:34,664] Trial 510 finished with value: 0.0460108607192451 and parameters: {'topK': 124, 'alpha': 0.40425383862005676, 'normalize_similarity': True, 'implicit': True}. Best is trial 128 with value: 0.05332611477891539.\n"
     ]
    },
    {
     "name": "stdout",
     "output_type": "stream",
     "text": [
      "P3alphaRecommender: Similarity column 38121 (100.0%), 2360.26 column/sec. Elapsed time 16.15 sec\n",
      "EvaluatorHoldout: Processed 35595 (100.0%) in 31.53 sec. Users per second: 1129\n"
     ]
    },
    {
     "name": "stderr",
     "output_type": "stream",
     "text": [
      "[I 2024-12-02 20:12:23,745] Trial 511 finished with value: 0.05252984969798957 and parameters: {'topK': 22, 'alpha': 0.35249761862024265, 'normalize_similarity': True, 'implicit': True}. Best is trial 128 with value: 0.05332611477891539.\n"
     ]
    },
    {
     "name": "stdout",
     "output_type": "stream",
     "text": [
      "P3alphaRecommender: Similarity column 38121 (100.0%), 2536.46 column/sec. Elapsed time 15.03 sec\n",
      "EvaluatorHoldout: Processed 35595 (100.0%) in 27.99 sec. Users per second: 1272\n"
     ]
    },
    {
     "name": "stderr",
     "output_type": "stream",
     "text": [
      "[I 2024-12-02 20:13:07,646] Trial 512 finished with value: 0.03673784328546108 and parameters: {'topK': 2, 'alpha': 0.43920705470959026, 'normalize_similarity': True, 'implicit': True}. Best is trial 128 with value: 0.05332611477891539.\n"
     ]
    },
    {
     "name": "stdout",
     "output_type": "stream",
     "text": [
      "P3alphaRecommender: Similarity column 38121 (100.0%), 2175.87 column/sec. Elapsed time 17.52 sec\n",
      "EvaluatorHoldout: Processed 35595 (100.0%) in 33.52 sec. Users per second: 1062\n"
     ]
    },
    {
     "name": "stderr",
     "output_type": "stream",
     "text": [
      "[I 2024-12-02 20:14:00,924] Trial 513 finished with value: 0.050035125095595094 and parameters: {'topK': 51, 'alpha': 0.3752549046978076, 'normalize_similarity': True, 'implicit': True}. Best is trial 128 with value: 0.05332611477891539.\n"
     ]
    },
    {
     "name": "stdout",
     "output_type": "stream",
     "text": [
      "P3alphaRecommender: Similarity column 38121 (100.0%), 638.64 column/sec. Elapsed time 59.69 sec\n",
      "EvaluatorHoldout: Processed 35595 (100.0%) in 52.47 sec. Users per second: 678\n"
     ]
    },
    {
     "name": "stderr",
     "output_type": "stream",
     "text": [
      "[I 2024-12-02 20:16:28,622] Trial 514 finished with value: 0.034313094624934974 and parameters: {'topK': 954, 'alpha': 0.4230222150447065, 'normalize_similarity': True, 'implicit': True}. Best is trial 128 with value: 0.05332611477891539.\n"
     ]
    },
    {
     "name": "stdout",
     "output_type": "stream",
     "text": [
      "P3alphaRecommender: Similarity column 38121 (100.0%), 544.48 column/sec. Elapsed time 1.17 min\n",
      "EvaluatorHoldout: Processed 35595 (100.0%) in 55.38 sec. Users per second: 643\n"
     ]
    },
    {
     "name": "stderr",
     "output_type": "stream",
     "text": [
      "[I 2024-12-02 20:19:20,894] Trial 515 finished with value: 0.03300310927386245 and parameters: {'topK': 1251, 'alpha': 0.35877540186949985, 'normalize_similarity': True, 'implicit': True}. Best is trial 128 with value: 0.05332611477891539.\n"
     ]
    },
    {
     "name": "stdout",
     "output_type": "stream",
     "text": [
      "P3alphaRecommender: Similarity column 38121 (100.0%), 564.40 column/sec. Elapsed time 1.13 min\n",
      "EvaluatorHoldout: Processed 35595 (100.0%) in 54.48 sec. Users per second: 653\n"
     ]
    },
    {
     "name": "stderr",
     "output_type": "stream",
     "text": [
      "[I 2024-12-02 20:22:06,186] Trial 516 finished with value: 0.0336142705525333 and parameters: {'topK': 1195, 'alpha': 0.4813230579176002, 'normalize_similarity': True, 'implicit': True}. Best is trial 128 with value: 0.05332611477891539.\n"
     ]
    },
    {
     "name": "stdout",
     "output_type": "stream",
     "text": [
      "P3alphaRecommender: Similarity column 38121 (100.0%), 3616.48 column/sec. Elapsed time 10.54 sec\n",
      "EvaluatorHoldout: Processed 35595 (100.0%) in 27.31 sec. Users per second: 1304\n"
     ]
    },
    {
     "name": "stderr",
     "output_type": "stream",
     "text": [
      "[I 2024-12-02 20:22:44,881] Trial 517 finished with value: 0.020260347337886085 and parameters: {'topK': 1, 'alpha': 0.39668639365882274, 'normalize_similarity': True, 'implicit': True}. Best is trial 128 with value: 0.05332611477891539.\n"
     ]
    },
    {
     "name": "stdout",
     "output_type": "stream",
     "text": [
      "P3alphaRecommender: Similarity column 38121 (100.0%), 1991.86 column/sec. Elapsed time 19.14 sec\n",
      "EvaluatorHoldout: Processed 35595 (100.0%) in 30.45 sec. Users per second: 1169\n"
     ]
    },
    {
     "name": "stderr",
     "output_type": "stream",
     "text": [
      "[I 2024-12-02 20:23:37,648] Trial 518 finished with value: 0.04791286229339148 and parameters: {'topK': 84, 'alpha': 0.3464004287192041, 'normalize_similarity': True, 'implicit': True}. Best is trial 128 with value: 0.05332611477891539.\n"
     ]
    },
    {
     "name": "stdout",
     "output_type": "stream",
     "text": [
      "P3alphaRecommender: Similarity column 38121 (100.0%), 2190.00 column/sec. Elapsed time 17.41 sec\n",
      "EvaluatorHoldout: Processed 35595 (100.0%) in 32.80 sec. Users per second: 1085\n"
     ]
    },
    {
     "name": "stderr",
     "output_type": "stream",
     "text": [
      "[I 2024-12-02 20:24:29,959] Trial 519 finished with value: 0.050635643047777755 and parameters: {'topK': 44, 'alpha': 0.5273870654101881, 'normalize_similarity': True, 'implicit': True}. Best is trial 128 with value: 0.05332611477891539.\n"
     ]
    },
    {
     "name": "stdout",
     "output_type": "stream",
     "text": [
      "P3alphaRecommender: Similarity column 38121 (100.0%), 3394.48 column/sec. Elapsed time 11.23 sec\n",
      "EvaluatorHoldout: Processed 35595 (100.0%) in 25.10 sec. Users per second: 1418\n"
     ]
    },
    {
     "name": "stderr",
     "output_type": "stream",
     "text": [
      "[I 2024-12-02 20:25:06,610] Trial 520 finished with value: 0.00028209999175022335 and parameters: {'topK': 0, 'alpha': 0.45108146728464504, 'normalize_similarity': False, 'implicit': True}. Best is trial 128 with value: 0.05332611477891539.\n"
     ]
    },
    {
     "name": "stdout",
     "output_type": "stream",
     "text": [
      "P3alphaRecommender: Similarity column 38121 (100.0%), 2187.67 column/sec. Elapsed time 17.43 sec\n",
      "EvaluatorHoldout: Processed 35595 (100.0%) in 33.15 sec. Users per second: 1074\n"
     ]
    },
    {
     "name": "stderr",
     "output_type": "stream",
     "text": [
      "[I 2024-12-02 20:25:59,291] Trial 521 finished with value: 0.05039966599553448 and parameters: {'topK': 47, 'alpha': 0.3948701053468735, 'normalize_similarity': True, 'implicit': True}. Best is trial 128 with value: 0.05332611477891539.\n"
     ]
    },
    {
     "name": "stdout",
     "output_type": "stream",
     "text": [
      "P3alphaRecommender: Similarity column 38121 (100.0%), 1099.83 column/sec. Elapsed time 34.66 sec\n",
      "EvaluatorHoldout: Processed 35595 (100.0%) in 42.00 sec. Users per second: 848\n"
     ]
    },
    {
     "name": "stderr",
     "output_type": "stream",
     "text": [
      "[I 2024-12-02 20:27:30,969] Trial 522 finished with value: 0.03855415086388417 and parameters: {'topK': 409, 'alpha': 0.33885136771081364, 'normalize_similarity': True, 'implicit': True}. Best is trial 128 with value: 0.05332611477891539.\n"
     ]
    },
    {
     "name": "stdout",
     "output_type": "stream",
     "text": [
      "P3alphaRecommender: Similarity column 38121 (100.0%), 2305.14 column/sec. Elapsed time 16.54 sec\n",
      "EvaluatorHoldout: Processed 35595 (100.0%) in 32.00 sec. Users per second: 1112\n"
     ]
    },
    {
     "name": "stderr",
     "output_type": "stream",
     "text": [
      "[I 2024-12-02 20:28:21,071] Trial 523 finished with value: 0.05212396292505653 and parameters: {'topK': 27, 'alpha': 0.44938863627854336, 'normalize_similarity': True, 'implicit': True}. Best is trial 128 with value: 0.05332611477891539.\n"
     ]
    },
    {
     "name": "stdout",
     "output_type": "stream",
     "text": [
      "P3alphaRecommender: Similarity column 38121 (100.0%), 1912.33 column/sec. Elapsed time 19.93 sec\n",
      "EvaluatorHoldout: Processed 35595 (100.0%) in 31.17 sec. Users per second: 1142\n"
     ]
    },
    {
     "name": "stderr",
     "output_type": "stream",
     "text": [
      "[I 2024-12-02 20:29:16,090] Trial 524 finished with value: 0.04699302224986867 and parameters: {'topK': 105, 'alpha': 0.40865009337631786, 'normalize_similarity': True, 'implicit': True}. Best is trial 128 with value: 0.05332611477891539.\n"
     ]
    },
    {
     "name": "stdout",
     "output_type": "stream",
     "text": [
      "P3alphaRecommender: Similarity column 38121 (100.0%), 2056.03 column/sec. Elapsed time 18.54 sec\n",
      "EvaluatorHoldout: Processed 35595 (100.0%) in 34.30 sec. Users per second: 1038\n"
     ]
    },
    {
     "name": "stderr",
     "output_type": "stream",
     "text": [
      "[I 2024-12-02 20:30:11,856] Trial 525 finished with value: 0.048581439786663204 and parameters: {'topK': 74, 'alpha': 0.5033414814161421, 'normalize_similarity': True, 'implicit': True}. Best is trial 128 with value: 0.05332611477891539.\n"
     ]
    },
    {
     "name": "stdout",
     "output_type": "stream",
     "text": [
      "P3alphaRecommender: Similarity column 38121 (100.0%), 2299.36 column/sec. Elapsed time 16.58 sec\n",
      "EvaluatorHoldout: Processed 35595 (100.0%) in 31.85 sec. Users per second: 1118\n"
     ]
    },
    {
     "name": "stderr",
     "output_type": "stream",
     "text": [
      "[I 2024-12-02 20:31:01,800] Trial 526 finished with value: 0.052125706526463186 and parameters: {'topK': 26, 'alpha': 0.3711257800191118, 'normalize_similarity': True, 'implicit': True}. Best is trial 128 with value: 0.05332611477891539.\n"
     ]
    },
    {
     "name": "stdout",
     "output_type": "stream",
     "text": [
      "P3alphaRecommender: Similarity column 38121 (100.0%), 2166.34 column/sec. Elapsed time 17.60 sec\n",
      "EvaluatorHoldout: Processed 35595 (100.0%) in 33.18 sec. Users per second: 1073\n"
     ]
    },
    {
     "name": "stderr",
     "output_type": "stream",
     "text": [
      "[I 2024-12-02 20:31:54,722] Trial 527 finished with value: 0.050215559970299105 and parameters: {'topK': 49, 'alpha': 0.3219978870528374, 'normalize_similarity': True, 'implicit': True}. Best is trial 128 with value: 0.05332611477891539.\n"
     ]
    },
    {
     "name": "stdout",
     "output_type": "stream",
     "text": [
      "P3alphaRecommender: Similarity column 38121 (100.0%), 1726.67 column/sec. Elapsed time 22.08 sec\n",
      "EvaluatorHoldout: Processed 35595 (100.0%) in 32.22 sec. Users per second: 1105\n"
     ]
    },
    {
     "name": "stderr",
     "output_type": "stream",
     "text": [
      "[I 2024-12-02 20:32:54,270] Trial 528 finished with value: 0.04493849903120712 and parameters: {'topK': 148, 'alpha': 0.4355372925385175, 'normalize_similarity': True, 'implicit': True}. Best is trial 128 with value: 0.05332611477891539.\n"
     ]
    },
    {
     "name": "stdout",
     "output_type": "stream",
     "text": [
      "P3alphaRecommender: Similarity column 38121 (100.0%), 2046.91 column/sec. Elapsed time 18.62 sec\n",
      "EvaluatorHoldout: Processed 35595 (100.0%) in 34.05 sec. Users per second: 1046\n"
     ]
    },
    {
     "name": "stderr",
     "output_type": "stream",
     "text": [
      "[I 2024-12-02 20:33:49,809] Trial 529 finished with value: 0.04860529167418988 and parameters: {'topK': 74, 'alpha': 0.47129649704372223, 'normalize_similarity': True, 'implicit': True}. Best is trial 128 with value: 0.05332611477891539.\n"
     ]
    },
    {
     "name": "stdout",
     "output_type": "stream",
     "text": [
      "P3alphaRecommender: Similarity column 38121 (100.0%), 2295.85 column/sec. Elapsed time 16.60 sec\n",
      "EvaluatorHoldout: Processed 35595 (100.0%) in 32.11 sec. Users per second: 1109\n"
     ]
    },
    {
     "name": "stderr",
     "output_type": "stream",
     "text": [
      "[I 2024-12-02 20:34:40,042] Trial 530 finished with value: 0.052320147068986265 and parameters: {'topK': 25, 'alpha': 0.3791385597992238, 'normalize_similarity': True, 'implicit': True}. Best is trial 128 with value: 0.05332611477891539.\n"
     ]
    },
    {
     "name": "stdout",
     "output_type": "stream",
     "text": [
      "P3alphaRecommender: Similarity column 38121 (100.0%), 3364.34 column/sec. Elapsed time 11.33 sec\n",
      "EvaluatorHoldout: Processed 35595 (100.0%) in 25.49 sec. Users per second: 1397\n"
     ]
    },
    {
     "name": "stderr",
     "output_type": "stream",
     "text": [
      "[I 2024-12-02 20:35:17,207] Trial 531 finished with value: 0.00028209999175022335 and parameters: {'topK': 0, 'alpha': 0.3075926545750301, 'normalize_similarity': True, 'implicit': True}. Best is trial 128 with value: 0.05332611477891539.\n"
     ]
    },
    {
     "name": "stdout",
     "output_type": "stream",
     "text": [
      "P3alphaRecommender: Similarity column 38121 (100.0%), 2172.84 column/sec. Elapsed time 17.54 sec\n",
      "EvaluatorHoldout: Processed 35595 (100.0%) in 33.30 sec. Users per second: 1069\n"
     ]
    },
    {
     "name": "stderr",
     "output_type": "stream",
     "text": [
      "[I 2024-12-02 20:36:10,329] Trial 532 finished with value: 0.050155051204354095 and parameters: {'topK': 50, 'alpha': 0.42156367730573696, 'normalize_similarity': True, 'implicit': True}. Best is trial 128 with value: 0.05332611477891539.\n"
     ]
    },
    {
     "name": "stdout",
     "output_type": "stream",
     "text": [
      "P3alphaRecommender: Similarity column 38121 (100.0%), 1907.28 column/sec. Elapsed time 19.99 sec\n",
      "EvaluatorHoldout: Processed 35595 (100.0%) in 31.21 sec. Users per second: 1141\n"
     ]
    },
    {
     "name": "stderr",
     "output_type": "stream",
     "text": [
      "[I 2024-12-02 20:37:05,325] Trial 533 finished with value: 0.0468610380894393 and parameters: {'topK': 105, 'alpha': 0.35777156286780126, 'normalize_similarity': True, 'implicit': True}. Best is trial 128 with value: 0.05332611477891539.\n"
     ]
    },
    {
     "name": "stdout",
     "output_type": "stream",
     "text": [
      "P3alphaRecommender: Similarity column 38121 (100.0%), 2291.48 column/sec. Elapsed time 16.64 sec\n",
      "EvaluatorHoldout: Processed 35595 (100.0%) in 32.51 sec. Users per second: 1095\n"
     ]
    },
    {
     "name": "stderr",
     "output_type": "stream",
     "text": [
      "[I 2024-12-02 20:37:56,177] Trial 534 finished with value: 0.05163843905310241 and parameters: {'topK': 31, 'alpha': 0.5536580527637673, 'normalize_similarity': True, 'implicit': True}. Best is trial 128 with value: 0.05332611477891539.\n"
     ]
    },
    {
     "name": "stdout",
     "output_type": "stream",
     "text": [
      "P3alphaRecommender: Similarity column 38121 (100.0%), 2017.70 column/sec. Elapsed time 18.89 sec\n",
      "EvaluatorHoldout: Processed 35595 (100.0%) in 34.27 sec. Users per second: 1039\n"
     ]
    },
    {
     "name": "stderr",
     "output_type": "stream",
     "text": [
      "[I 2024-12-02 20:38:52,328] Trial 535 finished with value: 0.048420893562273706 and parameters: {'topK': 76, 'alpha': 0.4841246236072154, 'normalize_similarity': True, 'implicit': True}. Best is trial 128 with value: 0.05332611477891539.\n"
     ]
    },
    {
     "name": "stdout",
     "output_type": "stream",
     "text": [
      "P3alphaRecommender: Similarity column 38121 (100.0%), 2315.24 column/sec. Elapsed time 16.47 sec\n",
      "EvaluatorHoldout: Processed 35595 (100.0%) in 31.50 sec. Users per second: 1130\n"
     ]
    },
    {
     "name": "stderr",
     "output_type": "stream",
     "text": [
      "[I 2024-12-02 20:39:41,772] Trial 536 finished with value: 0.052223748430868355 and parameters: {'topK': 25, 'alpha': 0.33249281840740474, 'normalize_similarity': True, 'implicit': True}. Best is trial 128 with value: 0.05332611477891539.\n"
     ]
    },
    {
     "name": "stdout",
     "output_type": "stream",
     "text": [
      "P3alphaRecommender: Similarity column 38121 (100.0%), 2152.99 column/sec. Elapsed time 17.71 sec\n",
      "EvaluatorHoldout: Processed 35595 (100.0%) in 33.46 sec. Users per second: 1064\n"
     ]
    },
    {
     "name": "stderr",
     "output_type": "stream",
     "text": [
      "[I 2024-12-02 20:40:35,205] Trial 537 finished with value: 0.04993538752767388 and parameters: {'topK': 53, 'alpha': 0.39836089927447543, 'normalize_similarity': True, 'implicit': True}. Best is trial 128 with value: 0.05332611477891539.\n"
     ]
    },
    {
     "name": "stdout",
     "output_type": "stream",
     "text": [
      "P3alphaRecommender: Similarity column 38121 (100.0%), 2331.50 column/sec. Elapsed time 16.35 sec\n",
      "EvaluatorHoldout: Processed 35595 (100.0%) in 32.00 sec. Users per second: 1112\n"
     ]
    },
    {
     "name": "stderr",
     "output_type": "stream",
     "text": [
      "[I 2024-12-02 20:41:25,089] Trial 538 finished with value: 0.05226003964351875 and parameters: {'topK': 24, 'alpha': 0.2806636541635495, 'normalize_similarity': True, 'implicit': True}. Best is trial 128 with value: 0.05332611477891539.\n"
     ]
    },
    {
     "name": "stdout",
     "output_type": "stream",
     "text": [
      "P3alphaRecommender: Similarity column 38121 (100.0%), 2005.23 column/sec. Elapsed time 19.01 sec\n",
      "EvaluatorHoldout: Processed 35595 (100.0%) in 34.80 sec. Users per second: 1023\n"
     ]
    },
    {
     "name": "stderr",
     "output_type": "stream",
     "text": [
      "[I 2024-12-02 20:42:21,811] Trial 539 finished with value: 0.03953339041286629 and parameters: {'topK': 72, 'alpha': 0.4423500399960747, 'normalize_similarity': False, 'implicit': True}. Best is trial 128 with value: 0.05332611477891539.\n"
     ]
    },
    {
     "name": "stdout",
     "output_type": "stream",
     "text": [
      "P3alphaRecommender: Similarity column 38121 (100.0%), 3516.04 column/sec. Elapsed time 10.84 sec\n",
      "EvaluatorHoldout: Processed 35595 (100.0%) in 27.31 sec. Users per second: 1303\n"
     ]
    },
    {
     "name": "stderr",
     "output_type": "stream",
     "text": [
      "[I 2024-12-02 20:43:00,859] Trial 540 finished with value: 0.02055820217303544 and parameters: {'topK': 1, 'alpha': 0.3532929346536938, 'normalize_similarity': True, 'implicit': True}. Best is trial 128 with value: 0.05332611477891539.\n"
     ]
    },
    {
     "name": "stdout",
     "output_type": "stream",
     "text": [
      "P3alphaRecommender: Similarity column 38121 (100.0%), 3394.04 column/sec. Elapsed time 11.23 sec\n",
      "EvaluatorHoldout: Processed 35595 (100.0%) in 25.44 sec. Users per second: 1399\n"
     ]
    },
    {
     "name": "stderr",
     "output_type": "stream",
     "text": [
      "[I 2024-12-02 20:43:37,882] Trial 541 finished with value: 0.00028209999175022335 and parameters: {'topK': 0, 'alpha': 0.3953459522333901, 'normalize_similarity': True, 'implicit': True}. Best is trial 128 with value: 0.05332611477891539.\n"
     ]
    },
    {
     "name": "stdout",
     "output_type": "stream",
     "text": [
      "P3alphaRecommender: Similarity column 38121 (100.0%), 2144.09 column/sec. Elapsed time 17.78 sec\n",
      "EvaluatorHoldout: Processed 35595 (100.0%) in 33.75 sec. Users per second: 1055\n"
     ]
    },
    {
     "name": "stderr",
     "output_type": "stream",
     "text": [
      "[I 2024-12-02 20:44:31,769] Trial 542 finished with value: 0.05006808964162342 and parameters: {'topK': 51, 'alpha': 0.5092626883685507, 'normalize_similarity': True, 'implicit': True}. Best is trial 128 with value: 0.05332611477891539.\n"
     ]
    },
    {
     "name": "stdout",
     "output_type": "stream",
     "text": [
      "P3alphaRecommender: Similarity column 38121 (100.0%), 1952.26 column/sec. Elapsed time 19.53 sec\n",
      "EvaluatorHoldout: Processed 35595 (100.0%) in 30.85 sec. Users per second: 1154\n"
     ]
    },
    {
     "name": "stderr",
     "output_type": "stream",
     "text": [
      "[I 2024-12-02 20:45:25,597] Trial 543 finished with value: 0.047471063351592756 and parameters: {'topK': 91, 'alpha': 0.30454568304749463, 'normalize_similarity': True, 'implicit': True}. Best is trial 128 with value: 0.05332611477891539.\n"
     ]
    },
    {
     "name": "stdout",
     "output_type": "stream",
     "text": [
      "P3alphaRecommender: Similarity column 38121 (100.0%), 2178.83 column/sec. Elapsed time 17.50 sec\n",
      "EvaluatorHoldout: Processed 35595 (100.0%) in 33.29 sec. Users per second: 1069\n"
     ]
    },
    {
     "name": "stderr",
     "output_type": "stream",
     "text": [
      "[I 2024-12-02 20:46:18,449] Trial 544 finished with value: 0.050586612619480706 and parameters: {'topK': 45, 'alpha': 0.4661344234965554, 'normalize_similarity': True, 'implicit': True}. Best is trial 128 with value: 0.05332611477891539.\n"
     ]
    },
    {
     "name": "stdout",
     "output_type": "stream",
     "text": [
      "P3alphaRecommender: Similarity column 38121 (100.0%), 2315.30 column/sec. Elapsed time 16.46 sec\n",
      "EvaluatorHoldout: Processed 35595 (100.0%) in 31.70 sec. Users per second: 1123\n"
     ]
    },
    {
     "name": "stderr",
     "output_type": "stream",
     "text": [
      "[I 2024-12-02 20:47:08,118] Trial 545 finished with value: 0.052285753304925436 and parameters: {'topK': 25, 'alpha': 0.4246739893390716, 'normalize_similarity': True, 'implicit': True}. Best is trial 128 with value: 0.05332611477891539.\n"
     ]
    },
    {
     "name": "stdout",
     "output_type": "stream",
     "text": [
      "P3alphaRecommender: Similarity column 38121 (100.0%), 3380.19 column/sec. Elapsed time 11.28 sec\n",
      "EvaluatorHoldout: Processed 35595 (100.0%) in 25.15 sec. Users per second: 1415\n"
     ]
    },
    {
     "name": "stderr",
     "output_type": "stream",
     "text": [
      "[I 2024-12-02 20:47:44,867] Trial 546 finished with value: 0.00028209999175022335 and parameters: {'topK': 0, 'alpha': 0.5822957955246578, 'normalize_similarity': True, 'implicit': True}. Best is trial 128 with value: 0.05332611477891539.\n"
     ]
    },
    {
     "name": "stdout",
     "output_type": "stream",
     "text": [
      "P3alphaRecommender: Similarity column 38121 (100.0%), 1878.28 column/sec. Elapsed time 20.30 sec\n",
      "EvaluatorHoldout: Processed 35595 (100.0%) in 31.47 sec. Users per second: 1131\n"
     ]
    },
    {
     "name": "stderr",
     "output_type": "stream",
     "text": [
      "[I 2024-12-02 20:48:40,523] Trial 547 finished with value: 0.046556170944285616 and parameters: {'topK': 110, 'alpha': 0.34179210124814674, 'normalize_similarity': True, 'implicit': True}. Best is trial 128 with value: 0.05332611477891539.\n"
     ]
    },
    {
     "name": "stdout",
     "output_type": "stream",
     "text": [
      "P3alphaRecommender: Similarity column 38121 (100.0%), 2078.50 column/sec. Elapsed time 18.34 sec\n",
      "EvaluatorHoldout: Processed 35595 (100.0%) in 33.72 sec. Users per second: 1056\n"
     ]
    },
    {
     "name": "stderr",
     "output_type": "stream",
     "text": [
      "[I 2024-12-02 20:49:35,173] Trial 548 finished with value: 0.04915545588933519 and parameters: {'topK': 65, 'alpha': 0.382707376150213, 'normalize_similarity': True, 'implicit': True}. Best is trial 128 with value: 0.05332611477891539.\n"
     ]
    },
    {
     "name": "stdout",
     "output_type": "stream",
     "text": [
      "P3alphaRecommender: Similarity column 38121 (100.0%), 2210.38 column/sec. Elapsed time 17.25 sec\n",
      "EvaluatorHoldout: Processed 35595 (100.0%) in 33.34 sec. Users per second: 1067\n"
     ]
    },
    {
     "name": "stderr",
     "output_type": "stream",
     "text": [
      "[I 2024-12-02 20:50:28,011] Trial 549 finished with value: 0.05071047855392382 and parameters: {'topK': 43, 'alpha': 0.5326684150975153, 'normalize_similarity': True, 'implicit': True}. Best is trial 128 with value: 0.05332611477891539.\n"
     ]
    },
    {
     "name": "stdout",
     "output_type": "stream",
     "text": [
      "P3alphaRecommender: Similarity column 38121 (100.0%), 1185.16 column/sec. Elapsed time 32.17 sec\n",
      "EvaluatorHoldout: Processed 35595 (100.0%) in 40.89 sec. Users per second: 870\n"
     ]
    },
    {
     "name": "stderr",
     "output_type": "stream",
     "text": [
      "[I 2024-12-02 20:51:54,076] Trial 550 finished with value: 0.039002837254205676 and parameters: {'topK': 360, 'alpha': 0.2685984931602016, 'normalize_similarity': True, 'implicit': True}. Best is trial 128 with value: 0.05332611477891539.\n"
     ]
    },
    {
     "name": "stdout",
     "output_type": "stream",
     "text": [
      "P3alphaRecommender: Similarity column 38121 (100.0%), 3403.71 column/sec. Elapsed time 11.20 sec\n",
      "EvaluatorHoldout: Processed 35595 (100.0%) in 25.14 sec. Users per second: 1416\n"
     ]
    },
    {
     "name": "stderr",
     "output_type": "stream",
     "text": [
      "[I 2024-12-02 20:52:30,734] Trial 551 finished with value: 0.00028209999175022335 and parameters: {'topK': 0, 'alpha': 0.42636664639653293, 'normalize_similarity': True, 'implicit': True}. Best is trial 128 with value: 0.05332611477891539.\n"
     ]
    },
    {
     "name": "stdout",
     "output_type": "stream",
     "text": [
      "P3alphaRecommender: Similarity column 38121 (100.0%), 2304.72 column/sec. Elapsed time 16.54 sec\n",
      "EvaluatorHoldout: Processed 35595 (100.0%) in 32.20 sec. Users per second: 1105\n"
     ]
    },
    {
     "name": "stderr",
     "output_type": "stream",
     "text": [
      "[I 2024-12-02 20:53:21,119] Trial 552 finished with value: 0.051743498841685075 and parameters: {'topK': 31, 'alpha': 0.47508170178204184, 'normalize_similarity': True, 'implicit': True}. Best is trial 128 with value: 0.05332611477891539.\n"
     ]
    },
    {
     "name": "stdout",
     "output_type": "stream",
     "text": [
      "P3alphaRecommender: Similarity column 38121 (100.0%), 1980.91 column/sec. Elapsed time 19.24 sec\n",
      "EvaluatorHoldout: Processed 35595 (100.0%) in 30.69 sec. Users per second: 1160\n"
     ]
    },
    {
     "name": "stderr",
     "output_type": "stream",
     "text": [
      "[I 2024-12-02 20:54:14,266] Trial 553 finished with value: 0.04775435064225456 and parameters: {'topK': 85, 'alpha': 0.32031670792549244, 'normalize_similarity': True, 'implicit': True}. Best is trial 128 with value: 0.05332611477891539.\n"
     ]
    },
    {
     "name": "stdout",
     "output_type": "stream",
     "text": [
      "P3alphaRecommender: Similarity column 38121 (100.0%), 1379.96 column/sec. Elapsed time 27.62 sec\n",
      "EvaluatorHoldout: Processed 35595 (100.0%) in 39.32 sec. Users per second: 905\n"
     ]
    },
    {
     "name": "stderr",
     "output_type": "stream",
     "text": [
      "[I 2024-12-02 20:55:30,488] Trial 554 finished with value: 0.04136664347810439 and parameters: {'topK': 261, 'alpha': 0.37116595729302193, 'normalize_similarity': True, 'implicit': True}. Best is trial 128 with value: 0.05332611477891539.\n"
     ]
    },
    {
     "name": "stdout",
     "output_type": "stream",
     "text": [
      "P3alphaRecommender: Similarity column 38121 (100.0%), 2116.17 column/sec. Elapsed time 18.01 sec\n",
      "EvaluatorHoldout: Processed 35595 (100.0%) in 34.86 sec. Users per second: 1021\n"
     ]
    },
    {
     "name": "stderr",
     "output_type": "stream",
     "text": [
      "[I 2024-12-02 20:56:25,886] Trial 555 finished with value: 0.04900708254458617 and parameters: {'topK': 55, 'alpha': 0.8479293003886308, 'normalize_similarity': True, 'implicit': True}. Best is trial 128 with value: 0.05332611477891539.\n"
     ]
    },
    {
     "name": "stdout",
     "output_type": "stream",
     "text": [
      "P3alphaRecommender: Similarity column 38121 (100.0%), 2298.97 column/sec. Elapsed time 16.58 sec\n",
      "EvaluatorHoldout: Processed 35595 (100.0%) in 32.23 sec. Users per second: 1104\n"
     ]
    },
    {
     "name": "stderr",
     "output_type": "stream",
     "text": [
      "[I 2024-12-02 20:57:16,267] Trial 556 finished with value: 0.052216746154375805 and parameters: {'topK': 26, 'alpha': 0.3975426972915472, 'normalize_similarity': True, 'implicit': True}. Best is trial 128 with value: 0.05332611477891539.\n"
     ]
    },
    {
     "name": "stdout",
     "output_type": "stream",
     "text": [
      "P3alphaRecommender: Similarity column 38121 (100.0%), 1826.39 column/sec. Elapsed time 20.87 sec\n",
      "EvaluatorHoldout: Processed 35595 (100.0%) in 32.37 sec. Users per second: 1100\n"
     ]
    },
    {
     "name": "stderr",
     "output_type": "stream",
     "text": [
      "[I 2024-12-02 20:58:13,730] Trial 557 finished with value: 0.04577994613118775 and parameters: {'topK': 121, 'alpha': 0.2677970666812063, 'normalize_similarity': True, 'implicit': True}. Best is trial 128 with value: 0.05332611477891539.\n"
     ]
    },
    {
     "name": "stdout",
     "output_type": "stream",
     "text": [
      "P3alphaRecommender: Similarity column 38121 (100.0%), 2020.27 column/sec. Elapsed time 18.87 sec\n",
      "EvaluatorHoldout: Processed 35595 (100.0%) in 34.79 sec. Users per second: 1023\n"
     ]
    },
    {
     "name": "stderr",
     "output_type": "stream",
     "text": [
      "[I 2024-12-02 20:59:10,263] Trial 558 finished with value: 0.03721292450116569 and parameters: {'topK': 72, 'alpha': 0.32968533509162007, 'normalize_similarity': False, 'implicit': True}. Best is trial 128 with value: 0.05332611477891539.\n"
     ]
    },
    {
     "name": "stdout",
     "output_type": "stream",
     "text": [
      "P3alphaRecommender: Similarity column 38121 (100.0%), 2324.17 column/sec. Elapsed time 16.40 sec\n",
      "EvaluatorHoldout: Processed 35595 (100.0%) in 31.66 sec. Users per second: 1124\n"
     ]
    },
    {
     "name": "stderr",
     "output_type": "stream",
     "text": [
      "[I 2024-12-02 20:59:59,851] Trial 559 finished with value: 0.052409137630796285 and parameters: {'topK': 24, 'alpha': 0.4600088328055137, 'normalize_similarity': True, 'implicit': True}. Best is trial 128 with value: 0.05332611477891539.\n"
     ]
    },
    {
     "name": "stdout",
     "output_type": "stream",
     "text": [
      "P3alphaRecommender: Similarity column 38121 (100.0%), 3387.83 column/sec. Elapsed time 11.25 sec\n",
      "EvaluatorHoldout: Processed 35595 (100.0%) in 25.28 sec. Users per second: 1408\n"
     ]
    },
    {
     "name": "stderr",
     "output_type": "stream",
     "text": [
      "[I 2024-12-02 21:00:36,719] Trial 560 finished with value: 0.00028209999175022335 and parameters: {'topK': 0, 'alpha': 0.4162574601388285, 'normalize_similarity': True, 'implicit': True}. Best is trial 128 with value: 0.05332611477891539.\n"
     ]
    },
    {
     "name": "stdout",
     "output_type": "stream",
     "text": [
      "P3alphaRecommender: Similarity column 38121 (100.0%), 2159.50 column/sec. Elapsed time 17.65 sec\n",
      "EvaluatorHoldout: Processed 35595 (100.0%) in 33.39 sec. Users per second: 1066\n"
     ]
    },
    {
     "name": "stderr",
     "output_type": "stream",
     "text": [
      "[I 2024-12-02 21:01:30,044] Trial 561 finished with value: 0.05001111490154702 and parameters: {'topK': 53, 'alpha': 0.4990158924300967, 'normalize_similarity': True, 'implicit': True}. Best is trial 128 with value: 0.05332611477891539.\n"
     ]
    },
    {
     "name": "stdout",
     "output_type": "stream",
     "text": [
      "P3alphaRecommender: Similarity column 38121 (100.0%), 1947.39 column/sec. Elapsed time 19.58 sec\n",
      "EvaluatorHoldout: Processed 35595 (100.0%) in 31.48 sec. Users per second: 1131\n"
     ]
    },
    {
     "name": "stderr",
     "output_type": "stream",
     "text": [
      "[I 2024-12-02 21:02:24,659] Trial 562 finished with value: 0.04731677134963944 and parameters: {'topK': 93, 'alpha': 0.2987916405921984, 'normalize_similarity': True, 'implicit': True}. Best is trial 128 with value: 0.05332611477891539.\n"
     ]
    },
    {
     "name": "stdout",
     "output_type": "stream",
     "text": [
      "P3alphaRecommender: Similarity column 38121 (100.0%), 2205.11 column/sec. Elapsed time 17.29 sec\n",
      "EvaluatorHoldout: Processed 35595 (100.0%) in 32.63 sec. Users per second: 1091\n"
     ]
    },
    {
     "name": "stderr",
     "output_type": "stream",
     "text": [
      "[I 2024-12-02 21:03:16,538] Trial 563 finished with value: 0.050777014116034656 and parameters: {'topK': 41, 'alpha': 0.3659795857150424, 'normalize_similarity': True, 'implicit': True}. Best is trial 128 with value: 0.05332611477891539.\n"
     ]
    },
    {
     "name": "stdout",
     "output_type": "stream",
     "text": [
      "P3alphaRecommender: Similarity column 38121 (100.0%), 2318.50 column/sec. Elapsed time 16.44 sec\n",
      "EvaluatorHoldout: Processed 35595 (100.0%) in 32.19 sec. Users per second: 1106\n"
     ]
    },
    {
     "name": "stderr",
     "output_type": "stream",
     "text": [
      "[I 2024-12-02 21:04:06,646] Trial 564 finished with value: 0.05229060060602227 and parameters: {'topK': 25, 'alpha': 0.43104371797850816, 'normalize_similarity': True, 'implicit': True}. Best is trial 128 with value: 0.05332611477891539.\n"
     ]
    },
    {
     "name": "stdout",
     "output_type": "stream",
     "text": [
      "P3alphaRecommender: Similarity column 38121 (100.0%), 2037.57 column/sec. Elapsed time 18.71 sec\n",
      "EvaluatorHoldout: Processed 35595 (100.0%) in 34.67 sec. Users per second: 1027\n"
     ]
    },
    {
     "name": "stderr",
     "output_type": "stream",
     "text": [
      "[I 2024-12-02 21:05:02,558] Trial 565 finished with value: 0.049399120841385896 and parameters: {'topK': 62, 'alpha': 0.34800253353464755, 'normalize_similarity': True, 'implicit': True}. Best is trial 128 with value: 0.05332611477891539.\n"
     ]
    },
    {
     "name": "stdout",
     "output_type": "stream",
     "text": [
      "P3alphaRecommender: Similarity column 38121 (100.0%), 600.56 column/sec. Elapsed time 1.06 min\n",
      "EvaluatorHoldout: Processed 35595 (100.0%) in 53.14 sec. Users per second: 670\n"
     ]
    },
    {
     "name": "stderr",
     "output_type": "stream",
     "text": [
      "[I 2024-12-02 21:07:39,290] Trial 566 finished with value: 0.03382992416894545 and parameters: {'topK': 1049, 'alpha': 0.38890663530518316, 'normalize_similarity': True, 'implicit': True}. Best is trial 128 with value: 0.05332611477891539.\n"
     ]
    },
    {
     "name": "stdout",
     "output_type": "stream",
     "text": [
      "P3alphaRecommender: Similarity column 38121 (100.0%), 908.30 column/sec. Elapsed time 41.97 sec\n",
      "EvaluatorHoldout: Processed 35595 (100.0%) in 45.53 sec. Users per second: 782\n"
     ]
    },
    {
     "name": "stderr",
     "output_type": "stream",
     "text": [
      "[I 2024-12-02 21:09:27,599] Trial 567 finished with value: 0.03703430680695622 and parameters: {'topK': 557, 'alpha': 0.4565175418774058, 'normalize_similarity': True, 'implicit': True}. Best is trial 128 with value: 0.05332611477891539.\n"
     ]
    },
    {
     "name": "stdout",
     "output_type": "stream",
     "text": [
      "P3alphaRecommender: Similarity column 38121 (100.0%), 3393.48 column/sec. Elapsed time 11.23 sec\n",
      "EvaluatorHoldout: Processed 35595 (100.0%) in 25.38 sec. Users per second: 1402\n"
     ]
    },
    {
     "name": "stderr",
     "output_type": "stream",
     "text": [
      "[I 2024-12-02 21:10:04,553] Trial 568 finished with value: 0.00028209999175022335 and parameters: {'topK': 0, 'alpha': 0.2874090356688825, 'normalize_similarity': True, 'implicit': True}. Best is trial 128 with value: 0.05332611477891539.\n"
     ]
    },
    {
     "name": "stdout",
     "output_type": "stream",
     "text": [
      "P3alphaRecommender: Similarity column 38121 (100.0%), 1754.01 column/sec. Elapsed time 21.73 sec\n",
      "EvaluatorHoldout: Processed 35595 (100.0%) in 32.73 sec. Users per second: 1088\n"
     ]
    },
    {
     "name": "stderr",
     "output_type": "stream",
     "text": [
      "[I 2024-12-02 21:11:04,363] Trial 569 finished with value: 0.044989740176632875 and parameters: {'topK': 146, 'alpha': 0.5259050226562629, 'normalize_similarity': True, 'implicit': True}. Best is trial 128 with value: 0.05332611477891539.\n"
     ]
    },
    {
     "name": "stdout",
     "output_type": "stream",
     "text": [
      "P3alphaRecommender: Similarity column 38121 (100.0%), 2034.11 column/sec. Elapsed time 18.74 sec\n",
      "EvaluatorHoldout: Processed 35595 (100.0%) in 34.74 sec. Users per second: 1025\n"
     ]
    },
    {
     "name": "stderr",
     "output_type": "stream",
     "text": [
      "[I 2024-12-02 21:12:00,932] Trial 570 finished with value: 0.048031990180534855 and parameters: {'topK': 78, 'alpha': 0.6814865697961159, 'normalize_similarity': True, 'implicit': True}. Best is trial 128 with value: 0.05332611477891539.\n"
     ]
    },
    {
     "name": "stdout",
     "output_type": "stream",
     "text": [
      "P3alphaRecommender: Similarity column 38121 (100.0%), 2297.46 column/sec. Elapsed time 16.59 sec\n",
      "EvaluatorHoldout: Processed 35595 (100.0%) in 32.02 sec. Users per second: 1112\n"
     ]
    },
    {
     "name": "stderr",
     "output_type": "stream",
     "text": [
      "[I 2024-12-02 21:12:51,145] Trial 571 finished with value: 0.051689466150273394 and parameters: {'topK': 29, 'alpha': 0.33467672142702376, 'normalize_similarity': True, 'implicit': True}. Best is trial 128 with value: 0.05332611477891539.\n"
     ]
    },
    {
     "name": "stdout",
     "output_type": "stream",
     "text": [
      "P3alphaRecommender: Similarity column 38121 (100.0%), 2144.67 column/sec. Elapsed time 17.77 sec\n",
      "EvaluatorHoldout: Processed 35595 (100.0%) in 33.29 sec. Users per second: 1069\n"
     ]
    },
    {
     "name": "stderr",
     "output_type": "stream",
     "text": [
      "[I 2024-12-02 21:13:44,511] Trial 572 finished with value: 0.04987587430907926 and parameters: {'topK': 54, 'alpha': 0.4105393303976918, 'normalize_similarity': True, 'implicit': True}. Best is trial 128 with value: 0.05332611477891539.\n"
     ]
    },
    {
     "name": "stdout",
     "output_type": "stream",
     "text": [
      "P3alphaRecommender: Similarity column 38121 (100.0%), 2301.08 column/sec. Elapsed time 16.57 sec\n",
      "EvaluatorHoldout: Processed 35595 (100.0%) in 32.00 sec. Users per second: 1112\n"
     ]
    },
    {
     "name": "stderr",
     "output_type": "stream",
     "text": [
      "[I 2024-12-02 21:14:34,642] Trial 573 finished with value: 0.05208847550819548 and parameters: {'topK': 27, 'alpha': 0.48172152768567483, 'normalize_similarity': True, 'implicit': True}. Best is trial 128 with value: 0.05332611477891539.\n"
     ]
    },
    {
     "name": "stdout",
     "output_type": "stream",
     "text": [
      "P3alphaRecommender: Similarity column 38121 (100.0%), 1948.16 column/sec. Elapsed time 19.57 sec\n",
      "EvaluatorHoldout: Processed 35595 (100.0%) in 30.82 sec. Users per second: 1155\n"
     ]
    },
    {
     "name": "stderr",
     "output_type": "stream",
     "text": [
      "[I 2024-12-02 21:15:28,550] Trial 574 finished with value: 0.047200879827511324 and parameters: {'topK': 97, 'alpha': 0.36928708966213714, 'normalize_similarity': True, 'implicit': True}. Best is trial 128 with value: 0.05332611477891539.\n"
     ]
    },
    {
     "name": "stdout",
     "output_type": "stream",
     "text": [
      "P3alphaRecommender: Similarity column 38121 (100.0%), 2190.00 column/sec. Elapsed time 17.41 sec\n",
      "EvaluatorHoldout: Processed 35595 (100.0%) in 34.77 sec. Users per second: 1024\n"
     ]
    },
    {
     "name": "stderr",
     "output_type": "stream",
     "text": [
      "[I 2024-12-02 21:16:23,287] Trial 575 finished with value: 0.04382048932322664 and parameters: {'topK': 49, 'alpha': 1.8824720506178962, 'normalize_similarity': True, 'implicit': True}. Best is trial 128 with value: 0.05332611477891539.\n"
     ]
    },
    {
     "name": "stdout",
     "output_type": "stream",
     "text": [
      "P3alphaRecommender: Similarity column 38121 (100.0%), 2257.71 column/sec. Elapsed time 16.88 sec\n",
      "EvaluatorHoldout: Processed 35595 (100.0%) in 32.10 sec. Users per second: 1109\n"
     ]
    },
    {
     "name": "stderr",
     "output_type": "stream",
     "text": [
      "[I 2024-12-02 21:17:13,910] Trial 576 finished with value: 0.05137707498600706 and parameters: {'topK': 31, 'alpha': 0.23736485384004752, 'normalize_similarity': True, 'implicit': True}. Best is trial 128 with value: 0.05332611477891539.\n"
     ]
    },
    {
     "name": "stdout",
     "output_type": "stream",
     "text": [
      "P3alphaRecommender: Similarity column 38121 (100.0%), 2031.06 column/sec. Elapsed time 18.77 sec\n",
      "EvaluatorHoldout: Processed 35595 (100.0%) in 34.10 sec. Users per second: 1044\n"
     ]
    },
    {
     "name": "stderr",
     "output_type": "stream",
     "text": [
      "[I 2024-12-02 21:18:09,556] Trial 577 finished with value: 0.03400747385155174 and parameters: {'topK': 74, 'alpha': 0.1618417248978241, 'normalize_similarity': False, 'implicit': True}. Best is trial 128 with value: 0.05332611477891539.\n"
     ]
    },
    {
     "name": "stdout",
     "output_type": "stream",
     "text": [
      "P3alphaRecommender: Similarity column 38121 (100.0%), 2349.38 column/sec. Elapsed time 16.23 sec\n",
      "EvaluatorHoldout: Processed 35595 (100.0%) in 31.40 sec. Users per second: 1133\n"
     ]
    },
    {
     "name": "stderr",
     "output_type": "stream",
     "text": [
      "[I 2024-12-02 21:18:58,670] Trial 578 finished with value: 0.05257441744314726 and parameters: {'topK': 22, 'alpha': 0.43571550235142004, 'normalize_similarity': True, 'implicit': True}. Best is trial 128 with value: 0.05332611477891539.\n"
     ]
    },
    {
     "name": "stdout",
     "output_type": "stream",
     "text": [
      "P3alphaRecommender: Similarity column 38121 (100.0%), 2351.99 column/sec. Elapsed time 16.21 sec\n",
      "EvaluatorHoldout: Processed 35595 (100.0%) in 31.52 sec. Users per second: 1129\n"
     ]
    },
    {
     "name": "stderr",
     "output_type": "stream",
     "text": [
      "[I 2024-12-02 21:19:47,820] Trial 579 finished with value: 0.05234201343598545 and parameters: {'topK': 23, 'alpha': 0.304899190864237, 'normalize_similarity': True, 'implicit': True}. Best is trial 128 with value: 0.05332611477891539.\n"
     ]
    },
    {
     "name": "stdout",
     "output_type": "stream",
     "text": [
      "P3alphaRecommender: Similarity column 38121 (100.0%), 2140.17 column/sec. Elapsed time 17.81 sec\n",
      "EvaluatorHoldout: Processed 35595 (100.0%) in 33.46 sec. Users per second: 1064\n"
     ]
    },
    {
     "name": "stderr",
     "output_type": "stream",
     "text": [
      "[I 2024-12-02 21:20:41,497] Trial 580 finished with value: 0.04955108172406745 and parameters: {'topK': 59, 'alpha': 0.38303642846969965, 'normalize_similarity': True, 'implicit': True}. Best is trial 128 with value: 0.05332611477891539.\n"
     ]
    },
    {
     "name": "stdout",
     "output_type": "stream",
     "text": [
      "P3alphaRecommender: Similarity column 38121 (100.0%), 1931.90 column/sec. Elapsed time 19.73 sec\n",
      "EvaluatorHoldout: Processed 35595 (100.0%) in 31.11 sec. Users per second: 1144\n"
     ]
    },
    {
     "name": "stderr",
     "output_type": "stream",
     "text": [
      "[I 2024-12-02 21:21:36,230] Trial 581 finished with value: 0.046970977509323865 and parameters: {'topK': 105, 'alpha': 0.44493478482474286, 'normalize_similarity': True, 'implicit': True}. Best is trial 128 with value: 0.05332611477891539.\n"
     ]
    },
    {
     "name": "stdout",
     "output_type": "stream",
     "text": [
      "P3alphaRecommender: Similarity column 38121 (100.0%), 2344.13 column/sec. Elapsed time 16.26 sec\n",
      "EvaluatorHoldout: Processed 35595 (100.0%) in 31.44 sec. Users per second: 1132\n"
     ]
    },
    {
     "name": "stderr",
     "output_type": "stream",
     "text": [
      "[I 2024-12-02 21:22:25,435] Trial 582 finished with value: 0.052542790698709776 and parameters: {'topK': 22, 'alpha': 0.34983788162564033, 'normalize_similarity': True, 'implicit': True}. Best is trial 128 with value: 0.05332611477891539.\n"
     ]
    },
    {
     "name": "stdout",
     "output_type": "stream",
     "text": [
      "P3alphaRecommender: Similarity column 38121 (100.0%), 2188.34 column/sec. Elapsed time 17.42 sec\n",
      "EvaluatorHoldout: Processed 35595 (100.0%) in 32.81 sec. Users per second: 1085\n"
     ]
    },
    {
     "name": "stderr",
     "output_type": "stream",
     "text": [
      "[I 2024-12-02 21:23:17,795] Trial 583 finished with value: 0.05000692646773388 and parameters: {'topK': 50, 'alpha': 0.2671917252201085, 'normalize_similarity': True, 'implicit': False}. Best is trial 128 with value: 0.05332611477891539.\n"
     ]
    },
    {
     "name": "stdout",
     "output_type": "stream",
     "text": [
      "P3alphaRecommender: Similarity column 38121 (100.0%), 2330.45 column/sec. Elapsed time 16.36 sec\n",
      "EvaluatorHoldout: Processed 35595 (100.0%) in 31.80 sec. Users per second: 1119\n"
     ]
    },
    {
     "name": "stderr",
     "output_type": "stream",
     "text": [
      "[I 2024-12-02 21:24:07,440] Trial 584 finished with value: 0.05218501461548044 and parameters: {'topK': 25, 'alpha': 0.3133581044580959, 'normalize_similarity': True, 'implicit': True}. Best is trial 128 with value: 0.05332611477891539.\n"
     ]
    },
    {
     "name": "stdout",
     "output_type": "stream",
     "text": [
      "P3alphaRecommender: Similarity column 38121 (100.0%), 3532.12 column/sec. Elapsed time 10.79 sec\n",
      "EvaluatorHoldout: Processed 35595 (100.0%) in 26.86 sec. Users per second: 1325\n"
     ]
    },
    {
     "name": "stderr",
     "output_type": "stream",
     "text": [
      "[I 2024-12-02 21:24:45,954] Trial 585 finished with value: 0.02065385052742796 and parameters: {'topK': 1, 'alpha': 0.32751078702403597, 'normalize_similarity': True, 'implicit': True}. Best is trial 128 with value: 0.05332611477891539.\n"
     ]
    },
    {
     "name": "stdout",
     "output_type": "stream",
     "text": [
      "P3alphaRecommender: Similarity column 38121 (100.0%), 2035.85 column/sec. Elapsed time 18.72 sec\n",
      "EvaluatorHoldout: Processed 35595 (100.0%) in 34.14 sec. Users per second: 1043\n"
     ]
    },
    {
     "name": "stderr",
     "output_type": "stream",
     "text": [
      "[I 2024-12-02 21:25:41,814] Trial 586 finished with value: 0.04833688742622403 and parameters: {'topK': 79, 'alpha': 0.4145985372656225, 'normalize_similarity': True, 'implicit': True}. Best is trial 128 with value: 0.05332611477891539.\n"
     ]
    },
    {
     "name": "stdout",
     "output_type": "stream",
     "text": [
      "P3alphaRecommender: Similarity column 38121 (100.0%), 1828.76 column/sec. Elapsed time 20.85 sec\n",
      "EvaluatorHoldout: Processed 35595 (100.0%) in 31.66 sec. Users per second: 1124\n"
     ]
    },
    {
     "name": "stderr",
     "output_type": "stream",
     "text": [
      "[I 2024-12-02 21:26:38,642] Trial 587 finished with value: 0.04599076136518041 and parameters: {'topK': 124, 'alpha': 0.3587950039112631, 'normalize_similarity': True, 'implicit': True}. Best is trial 128 with value: 0.05332611477891539.\n"
     ]
    },
    {
     "name": "stdout",
     "output_type": "stream",
     "text": [
      "P3alphaRecommender: Similarity column 38121 (100.0%), 2157.55 column/sec. Elapsed time 17.67 sec\n",
      "EvaluatorHoldout: Processed 35595 (100.0%) in 33.20 sec. Users per second: 1072\n"
     ]
    },
    {
     "name": "stderr",
     "output_type": "stream",
     "text": [
      "[I 2024-12-02 21:27:31,708] Trial 588 finished with value: 0.04986139595136464 and parameters: {'topK': 53, 'alpha': 0.2605649814516988, 'normalize_similarity': True, 'implicit': True}. Best is trial 128 with value: 0.05332611477891539.\n"
     ]
    },
    {
     "name": "stdout",
     "output_type": "stream",
     "text": [
      "P3alphaRecommender: Similarity column 38121 (100.0%), 1986.79 column/sec. Elapsed time 19.19 sec\n",
      "EvaluatorHoldout: Processed 35595 (100.0%) in 28.45 sec. Users per second: 1251\n"
     ]
    },
    {
     "name": "stderr",
     "output_type": "stream",
     "text": [
      "[I 2024-12-02 21:28:20,280] Trial 589 finished with value: 0.04354369817412217 and parameters: {'topK': 3, 'alpha': 0.41945028449883554, 'normalize_similarity': True, 'implicit': True}. Best is trial 128 with value: 0.05332611477891539.\n"
     ]
    },
    {
     "name": "stdout",
     "output_type": "stream",
     "text": [
      "P3alphaRecommender: Similarity column 38121 (100.0%), 2026.64 column/sec. Elapsed time 18.81 sec\n",
      "EvaluatorHoldout: Processed 35595 (100.0%) in 31.38 sec. Users per second: 1134\n"
     ]
    },
    {
     "name": "stderr",
     "output_type": "stream",
     "text": [
      "[I 2024-12-02 21:29:13,853] Trial 590 finished with value: 0.04612065855512807 and parameters: {'topK': 82, 'alpha': 1.128520872932695, 'normalize_similarity': True, 'implicit': False}. Best is trial 128 with value: 0.05332611477891539.\n"
     ]
    },
    {
     "name": "stdout",
     "output_type": "stream",
     "text": [
      "P3alphaRecommender: Similarity column 38121 (100.0%), 2212.76 column/sec. Elapsed time 17.23 sec\n",
      "EvaluatorHoldout: Processed 35595 (100.0%) in 32.78 sec. Users per second: 1086\n"
     ]
    },
    {
     "name": "stderr",
     "output_type": "stream",
     "text": [
      "[I 2024-12-02 21:30:06,008] Trial 591 finished with value: 0.04972397697197355 and parameters: {'topK': 46, 'alpha': 0.08422680605635469, 'normalize_similarity': True, 'implicit': True}. Best is trial 128 with value: 0.05332611477891539.\n"
     ]
    },
    {
     "name": "stdout",
     "output_type": "stream",
     "text": [
      "P3alphaRecommender: Similarity column 38121 (100.0%), 2353.03 column/sec. Elapsed time 16.20 sec\n",
      "EvaluatorHoldout: Processed 35595 (100.0%) in 31.75 sec. Users per second: 1121\n"
     ]
    },
    {
     "name": "stderr",
     "output_type": "stream",
     "text": [
      "[I 2024-12-02 21:30:55,384] Trial 592 finished with value: 0.052557995928621905 and parameters: {'topK': 21, 'alpha': 0.3478968133885274, 'normalize_similarity': True, 'implicit': True}. Best is trial 128 with value: 0.05332611477891539.\n"
     ]
    },
    {
     "name": "stdout",
     "output_type": "stream",
     "text": [
      "P3alphaRecommender: Similarity column 38121 (100.0%), 685.61 column/sec. Elapsed time 55.60 sec\n",
      "EvaluatorHoldout: Processed 35595 (100.0%) in 49.76 sec. Users per second: 715\n"
     ]
    },
    {
     "name": "stderr",
     "output_type": "stream",
     "text": [
      "[I 2024-12-02 21:33:12,415] Trial 593 finished with value: 0.03415318720080523 and parameters: {'topK': 863, 'alpha': 0.28895647565508464, 'normalize_similarity': True, 'implicit': True}. Best is trial 128 with value: 0.05332611477891539.\n"
     ]
    },
    {
     "name": "stdout",
     "output_type": "stream",
     "text": [
      "P3alphaRecommender: Similarity column 38121 (100.0%), 2517.58 column/sec. Elapsed time 15.14 sec\n",
      "EvaluatorHoldout: Processed 35595 (100.0%) in 28.30 sec. Users per second: 1258\n"
     ]
    },
    {
     "name": "stderr",
     "output_type": "stream",
     "text": [
      "[I 2024-12-02 21:33:56,796] Trial 594 finished with value: 0.036946637324217296 and parameters: {'topK': 2, 'alpha': 0.2036099495807824, 'normalize_similarity': True, 'implicit': True}. Best is trial 128 with value: 0.05332611477891539.\n"
     ]
    },
    {
     "name": "stdout",
     "output_type": "stream",
     "text": [
      "P3alphaRecommender: Similarity column 38121 (100.0%), 2211.76 column/sec. Elapsed time 17.24 sec\n",
      "EvaluatorHoldout: Processed 35595 (100.0%) in 33.10 sec. Users per second: 1075\n"
     ]
    },
    {
     "name": "stderr",
     "output_type": "stream",
     "text": [
      "[I 2024-12-02 21:34:49,168] Trial 595 finished with value: 0.05058603179062356 and parameters: {'topK': 44, 'alpha': 0.344755237765487, 'normalize_similarity': True, 'implicit': True}. Best is trial 128 with value: 0.05332611477891539.\n"
     ]
    },
    {
     "name": "stdout",
     "output_type": "stream",
     "text": [
      "P3alphaRecommender: Similarity column 38121 (100.0%), 2044.70 column/sec. Elapsed time 18.64 sec\n",
      "EvaluatorHoldout: Processed 35595 (100.0%) in 34.15 sec. Users per second: 1042\n"
     ]
    },
    {
     "name": "stderr",
     "output_type": "stream",
     "text": [
      "[I 2024-12-02 21:35:44,760] Trial 596 finished with value: 0.04855418988309673 and parameters: {'topK': 72, 'alpha': 0.31422305357002245, 'normalize_similarity': True, 'implicit': True}. Best is trial 128 with value: 0.05332611477891539.\n"
     ]
    },
    {
     "name": "stdout",
     "output_type": "stream",
     "text": [
      "P3alphaRecommender: Similarity column 38121 (100.0%), 3473.01 column/sec. Elapsed time 10.98 sec\n",
      "EvaluatorHoldout: Processed 35595 (100.0%) in 27.54 sec. Users per second: 1293\n"
     ]
    },
    {
     "name": "stderr",
     "output_type": "stream",
     "text": [
      "[I 2024-12-02 21:36:24,148] Trial 597 finished with value: 0.033239948093297 and parameters: {'topK': 1, 'alpha': 0.34750028338169053, 'normalize_similarity': False, 'implicit': True}. Best is trial 128 with value: 0.05332611477891539.\n"
     ]
    },
    {
     "name": "stdout",
     "output_type": "stream",
     "text": [
      "P3alphaRecommender: Similarity column 38121 (100.0%), 3389.65 column/sec. Elapsed time 11.25 sec\n",
      "EvaluatorHoldout: Processed 35595 (100.0%) in 25.49 sec. Users per second: 1396\n"
     ]
    },
    {
     "name": "stderr",
     "output_type": "stream",
     "text": [
      "[I 2024-12-02 21:37:01,219] Trial 598 finished with value: 0.00028209999175022335 and parameters: {'topK': 0, 'alpha': 0.25469751762950554, 'normalize_similarity': True, 'implicit': False}. Best is trial 128 with value: 0.05332611477891539.\n"
     ]
    },
    {
     "name": "stdout",
     "output_type": "stream",
     "text": [
      "P3alphaRecommender: Similarity column 38121 (100.0%), 2254.35 column/sec. Elapsed time 16.91 sec\n",
      "EvaluatorHoldout: Processed 35595 (100.0%) in 32.78 sec. Users per second: 1086\n"
     ]
    },
    {
     "name": "stderr",
     "output_type": "stream",
     "text": [
      "[I 2024-12-02 21:37:52,662] Trial 599 finished with value: 0.05152691433833285 and parameters: {'topK': 33, 'alpha': 0.3934635323954998, 'normalize_similarity': True, 'implicit': True}. Best is trial 128 with value: 0.05332611477891539.\n"
     ]
    }
   ],
   "source": [
    "if config['tune_parameters']:\n",
    "    \n",
    "    optuna_study = optuna.create_study(direction='maximize', study_name=f'hyperparameters_tuning_{config[\"model\"]}',\n",
    "                                storage=f'sqlite:///{config[\"database_path\"]}', load_if_exists=True)\n",
    "\n",
    "    optuna_study.optimize(objective_function_P3alphaRecommender, n_trials=200)"
   ]
  },
  {
   "cell_type": "markdown",
   "id": "8f2fa08d",
   "metadata": {
    "papermill": {
     "duration": 0.04585,
     "end_time": "2024-12-02T21:37:52.764532",
     "exception": false,
     "start_time": "2024-12-02T21:37:52.718682",
     "status": "completed"
    },
    "tags": []
   },
   "source": [
    "## Some optuna visualizations on recommender parameters"
   ]
  },
  {
   "cell_type": "code",
   "execution_count": 14,
   "id": "ecaf8dc0",
   "metadata": {
    "execution": {
     "iopub.execute_input": "2024-12-02T21:37:52.859790Z",
     "iopub.status.busy": "2024-12-02T21:37:52.859201Z",
     "iopub.status.idle": "2024-12-02T21:37:54.793678Z",
     "shell.execute_reply": "2024-12-02T21:37:54.792274Z"
    },
    "papermill": {
     "duration": 1.986679,
     "end_time": "2024-12-02T21:37:54.796713",
     "exception": false,
     "start_time": "2024-12-02T21:37:52.810034",
     "status": "completed"
    },
    "tags": []
   },
   "outputs": [
    {
     "data": {
      "text/html": [
       "        <script type=\"text/javascript\">\n",
       "        window.PlotlyConfig = {MathJaxConfig: 'local'};\n",
       "        if (window.MathJax && window.MathJax.Hub && window.MathJax.Hub.Config) {window.MathJax.Hub.Config({SVG: {font: \"STIX-Web\"}});}\n",
       "        if (typeof require !== 'undefined') {\n",
       "        require.undef(\"plotly\");\n",
       "        requirejs.config({\n",
       "            paths: {\n",
       "                'plotly': ['https://cdn.plot.ly/plotly-2.32.0.min']\n",
       "            }\n",
       "        });\n",
       "        require(['plotly'], function(Plotly) {\n",
       "            window._Plotly = Plotly;\n",
       "        });\n",
       "        }\n",
       "        </script>\n",
       "        "
      ]
     },
     "metadata": {},
     "output_type": "display_data"
    },
    {
     "data": {
      "text/html": [
       "<div>                            <div id=\"d023c856-51af-475d-a3df-c0e78964a0f0\" class=\"plotly-graph-div\" style=\"height:525px; width:1200px;\"></div>            <script type=\"text/javascript\">                require([\"plotly\"], function(Plotly) {                    window.PLOTLYENV=window.PLOTLYENV || {};                                    if (document.getElementById(\"d023c856-51af-475d-a3df-c0e78964a0f0\")) {                    Plotly.newPlot(                        \"d023c856-51af-475d-a3df-c0e78964a0f0\",                        [{\"marker\":{\"color\":[0,1,2,3,4,5,6,7,8,9,10,11,12,13,14,15,16,17,18,19,20,21,22,23,24,25,26,27,28,29,30,31,32,33,34,35,36,37,38,39,40,41,42,43,44,45,46,47,48,49,50,51,52,53,54,55,56,57,58,59,60,61,62,63,64,65,66,67,68,69,70,71,72,73,74,75,76,77,78,79,80,81,82,83,84,85,86,87,88,89,90,91,92,93,94,95,96,97,98,99,100,101,102,103,104,105,106,107,108,109,110,111,112,113,114,115,116,117,118,119,120,121,122,123,124,125,126,127,128,129,130,131,132,133,134,135,136,137,138,139,140,141,142,143,144,145,146,147,148,149,150,151,152,153,154,155,156,157,158,159,160,161,162,163,164,165,166,167,168,169,170,171,172,173,174,175,176,177,178,179,180,181,182,183,184,185,186,187,188,189,190,191,192,193,194,195,196,197,198,199,200,201,202,203,204,205,206,207,208,209,210,211,212,213,214,215,216,217,218,219,220,221,222,223,224,225,226,227,228,229,230,231,232,233,234,235,236,237,238,239,240,241,242,243,244,245,246,247,248,249,250,251,252,253,254,255,256,257,258,259,260,261,262,263,264,265,266,267,268,269,270,271,272,273,274,275,276,277,278,279,280,281,282,283,284,285,286,287,288,289,290,291,292,293,294,295,296,297,298,299,300,301,302,303,304,305,306,307,308,309,310,311,312,313,314,315,316,317,318,319,320,321,322,323,324,325,326,327,328,329,330,331,332,333,334,335,336,337,338,339,340,341,342,343,344,345,346,347,348,349,350,351,352,353,354,355,356,357,358,359,360,361,362,363,364,365,366,367,368,369,370,371,372,373,374,375,376,377,378,379,380,381,382,383,384,385,386,387,388,389,390,391,392,393,394,395,396,397,398,399,400,401,402,403,404,405,406,407,408,409,410,411,412,413,414,415,416,417,418,419,420,421,422,423,424,425,426,427,428,429,430,431,432,433,434,435,436,437,438,439,440,441,442,443,444,445,446,447,448,449,450,451,452,453,454,455,456,457,458,459,460,461,462,463,464,465,466,467,468,469,470,471,472,473,474,475,476,477,478,479,480,481,482,483,484,485,486,487,488,489,490,491,492,493,494,495,496,497,498,499,500,501,502,503,504,505,506,507,508,509,510,511,512,513,514,515,516,517,518,519,520,521,522,523,524,525,526,527,528,529,530,531,532,533,534,535,536,537,538,539,540,541,542,543,544,545,546,547,548,549,550,551,552,553,554,555,556,557,558,559,560,561,562,563,564,565,566,567,568,569,570,571,572,573,574,575,576,577,578,579,580,581,582,583,584,585,586,587,588,589,590,591,592,593,594,595,596,597,598,599],\"colorbar\":{\"title\":{\"text\":\"Trial\"},\"x\":1.0,\"xpad\":40},\"colorscale\":[[0.0,\"rgb(247,251,255)\"],[0.125,\"rgb(222,235,247)\"],[0.25,\"rgb(198,219,239)\"],[0.375,\"rgb(158,202,225)\"],[0.5,\"rgb(107,174,214)\"],[0.625,\"rgb(66,146,198)\"],[0.75,\"rgb(33,113,181)\"],[0.875,\"rgb(8,81,156)\"],[1.0,\"rgb(8,48,107)\"]],\"line\":{\"color\":\"Grey\",\"width\":0.5},\"showscale\":true},\"mode\":\"markers\",\"name\":\"Feasible Trial\",\"showlegend\":false,\"x\":[0.13970224044516044,0.900420696436468,0.2746459090128892,1.0803031892164712,1.125702136698511,0.12131348126886277,1.9035941649883537,1.7318890381484007,0.6865170641798204,0.32815198170941917,1.3911804182033483,1.3934114203042636,1.4721210096831958,1.4238255760167111,1.5503111835605372,1.6505962869840984,1.9183829033405395,1.9772848588113183,1.9928332605386654,1.8320734944006234,1.7174920849306676,1.8841252318750703,1.798195608304144,1.2069573377768994,1.9814339198236601,1.6135570933843837,1.8139512015739636,0.8208335498096523,1.2674078153858062,1.8454264478406797,0.5745028317856684,1.9958392052631937,1.5996801945276657,1.736510395820371,1.8940087670634707,1.994365686268915,1.5150602384848373,1.7016029345384138,0.002603046543897536,0.9736489007196081,1.8131323156896184,0.8797215936108498,0.7751751442383075,0.8062809227326186,0.8168793406409641,0.5385571967030147,0.5231074314724962,0.3320066326612452,0.7221957450866141,1.0120178076093256,0.4796642242844803,0.4045700260964513,0.6040727091466473,0.6639698355244541,0.6718778178824124,0.6632266127513817,0.6261525879372072,0.6367022402639457,0.7487700552448928,0.7249077968561344,0.43503766551925976,0.2429927467600869,0.21843651588137336,0.20654362434819667,0.21384084450039043,0.13779150779361493,0.24942194438947612,0.2341722924691252,0.06444237937622799,0.3802911700441819,0.06876653309774669,0.2266274759516383,0.18592583128363024,0.32601635587033406,0.2967764768583923,0.31915314872364947,0.09476162345242153,0.4432372927829938,0.4317328176933879,0.018119534563767248,0.03158471425211695,0.30774035819385653,0.2944790097122115,0.1550416563153536,0.3592454346016715,0.16192244487075158,0.4386892652187496,0.27913192887283794,0.09930026998158548,0.4792311919665272,0.3586705652631851,0.032440420110027346,0.15118039543070538,0.15164364464860913,0.13979437698155728,0.08883540869678166,0.05511414789607254,0.16116607169574937,0.28912391215840266,0.052029492276303074,0.26039504739208863,0.007342520616717224,0.1781818363982699,0.12634980295465773,0.12034697000886488,0.0937917023846361,0.12146659341309754,0.31649949862950966,0.12789776035431857,0.17418282457443152,0.15908361253905012,0.04671329051148687,0.17854003755561154,0.19424313319702063,0.2086900884643583,0.3322832572552486,0.34713532018009263,0.39072288098673325,0.2613202720173038,0.2835294400746661,0.2578375037252607,0.3231546840798435,0.4934465684970684,0.3181701809234449,0.3871748971021878,0.42816824160639316,0.3817001823658266,0.5292410223596432,0.2412806492363928,1.3204181245593927,0.23498874255076382,0.32633840542128184,0.34341937301314857,0.3498365282165739,0.45803042784324743,0.573919698964462,0.32107525325803893,1.1454864644946072,0.41023646665652713,0.2663050001300709,0.38708524268393574,0.3780363147595567,0.3823629419537749,0.20613712417945856,0.3420983957139295,0.27603360076454786,0.2767845315249703,0.23374993213027792,0.19364545191153126,0.40130000394938925,0.30049095904524864,0.3552525728863243,0.37407459945200194,0.48286950625578223,0.2537735747831653,0.2415494776691889,0.2762526423483673,0.3441723005409292,0.41604837373107034,0.4078569560244515,0.5121165811176089,0.3125196744644095,0.4549155623367528,0.4439427546651896,0.3844294604673984,0.5659010449512127,0.44994558385132066,0.35447109659858117,0.5316355467892911,0.4734069856346528,0.5789551406336793,0.25797718166129036,0.2605288838374385,0.2672926887649198,0.21470669232571982,0.4038026846934145,0.39480335020003055,0.4169630674592603,0.3638993669870958,0.38609280803442564,0.41034731712344497,0.4635016215716624,0.4961217728402752,0.4419552278478031,0.3767058732394614,0.5493164188154647,0.3867687413193176,0.4540456172891898,0.3566132842205112,0.4152813447820159,0.49862770261594136,0.3212229953435077,0.3795947960136025,0.3912551363503272,0.3954271241088314,0.4532212993799947,0.4255436643319266,0.37892421323128406,0.37379799702603816,0.3194297552844457,0.31548195470754337,0.47360323588904746,0.5111942235662785,0.932177120385234,0.47308166335583995,0.342307665558974,0.4180780182505416,0.4556017803988097,0.5551302097523018,0.3150104044183229,0.393235609884879,0.3730437669035787,0.3545211716268095,0.4106913980184231,0.46958581171787184,0.4833380335883968,0.44663955195694566,0.5210261349544641,0.2966226702065967,0.6119330154509116,0.29678816249050355,0.33665939518821936,0.40913668587281593,0.3007349059922073,0.35044348120998814,0.4349219263769706,0.4745383594747042,0.4850207656820933,0.46932142706101077,0.4704255703270069,0.3944218603145258,0.4436858900289888,0.5229017409204633,0.5124576468698194,0.42352360254526344,0.37665263646167624,0.3732823816971237,1.0414700472283365,0.38315412633926016,0.3427841950615291,0.46485471424339586,0.4187000103191777,0.48271076894553133,0.39162786744005584,0.39934643171859047,0.3591552880168884,0.36889307530931287,0.30519665150193154,0.42253912585309444,0.3723015259784719,0.45551572099274595,0.28437477987816895,0.2791060999306894,0.22942976043591318,0.33702817155366904,0.2986596644028946,0.38188567028734377,0.3330911439267888,0.2795530060646119,0.41683894333598415,0.24191128398821798,0.20308266145483664,0.3493632641207492,0.39203623330113213,0.3086093508149274,0.42493445657058304,0.34365468987692915,0.3171698376804365,0.38192047123529604,0.4365272309117898,0.3676858292958544,0.4471552100009647,0.30926819845077647,0.2597385963720305,0.40189935419074063,0.3135310408135986,0.4880366679024298,0.3701648638635074,0.19152650493751994,0.28786167663438483,0.8631195160825139,0.40632432130490287,0.45098321269385555,0.5281711820424484,0.4629234452799559,1.4790681317652061,0.4938207582700834,0.23978646955316363,0.23823024140899918,0.21988470652477696,0.2972385175006186,0.25080260094383466,0.3341948633499777,0.20278725555198412,0.42464063968469595,0.3335712621052753,0.2844829895290906,0.39589726890051624,0.3483362380852447,0.17666289092533904,0.2547827080020546,0.43296622140538715,0.3887147334625776,0.29543461792325504,0.36030909335271916,1.1872465016868285,0.31385200076800723,0.4113937860947464,0.44247716752484684,0.34948112738576437,0.3895242365689868,0.5619613258347875,0.23070070410600996,0.31725525137738697,0.46450434462802187,0.2742145603812486,0.3968006769396318,0.3602187761597358,0.5060640017225834,0.1649918824568129,0.4298261332336075,0.322468454393874,0.26094198481664704,0.3103334177743994,0.21446494037122577,0.34550368534798137,0.2866871192743738,0.37422014903270095,0.24091190670221374,0.3327551478682975,0.4515996785354847,1.3168392471567434,0.4994067099116061,0.444888386398224,0.5884272179459519,0.545520686501803,0.4043766081301982,0.46569968008483287,1.610300968057552,0.5068580876435377,0.5233466650874534,0.47492219345403436,0.46329020567118795,0.5275834236041691,0.4818163965524806,0.6183172778217281,0.44825081073678547,0.5071442585846713,0.4276399049573996,0.41917825437388695,0.469996131274689,0.4057104527392775,0.5563070903382265,0.49819795894659635,0.31836413315810785,0.4415013844740518,0.3796130305317524,1.7733769181746493,0.29486875365333176,0.36253803830598513,0.45206905123690627,0.41733278431595094,0.33153284981100256,0.2667671302433653,0.7499628891106458,0.699162926220687,0.5029690231460112,0.39265199838378584,0.4563348311184297,0.37756258360238104,0.34593586796010106,0.29110649538033406,0.23986700174557915,0.3704901377211149,0.32213541697767,0.5444263021742655,0.43678465285896495,0.41521584596287126,0.47606070678657064,0.2792492707283581,1.5595693854751838,0.36607935888095355,0.3229829624973942,0.5109417753901448,0.39494391112646443,0.5816027561988361,0.19901186828019468,0.41947581745967766,0.3516550797316302,0.46967427395657596,0.6493792928974084,0.2439975971543897,0.29591000381912236,0.43922062048531973,1.6614752169694535,0.37429353689470324,0.31884996260297516,0.26284766790015845,0.3640756160596335,0.9517992592054156,0.3941067023926109,0.3389137576901117,0.4887196721104268,0.2229630578058886,0.5375085542947187,0.29666349127020136,0.45086637823623765,0.38561986633160605,0.35326526948958403,0.2720804023910111,0.41963639141753606,0.32397673927434795,0.4960909364980862,0.3767378497704161,0.4524713133906302,0.14357570006637613,0.3047134360286069,0.4079115712100849,0.19056355034512848,0.808777181278196,0.35713080690307686,0.25281209068245714,0.47275941618698386,1.943033841905732,1.0809077517895025,0.528710230770971,0.4022291065038847,0.33530571018279287,0.4363735435406726,0.29059706471681973,0.3723206876346885,0.23630532708271693,0.5816723568217832,1.3860905266957269,0.4294494302498853,0.5003566218804071,0.33548846824962875,0.3912577178889078,0.46643702314315905,0.3112040052908337,0.35702992942497636,0.42213604212158307,0.26333758426083237,0.532298820583269,0.38426906922130943,0.1781762397495808,0.4591231960369472,0.29237036978253744,0.3271874483354187,0.4143649142094117,0.491333117530995,0.2352964711354163,0.35797311259579395,0.20980780969546492,0.2783986126331363,0.44438937990004834,0.39745610275860366,0.3276409741368353,0.4680654963381383,0.3674768936359954,0.4200651034569013,0.5554675519693801,0.3045887413353488,0.5080785548016916,0.3776202032034317,0.2644270709339837,0.43963229735354104,0.8962737975607945,0.12555056139479193,0.3353634689598081,0.3982023961566207,0.21750228515031506,0.4915995492722809,0.35994154281941987,0.3087591155208334,0.43585148530265116,0.6146915856429664,0.3940549574488753,0.27428789001684173,0.4699366967440355,0.3442486788941549,0.5316198497985632,0.4214902917095317,0.308607157086049,0.3716914059214449,0.25818566499229045,0.4634671371580615,0.40822507113731366,0.3302399186939696,0.4945307180061737,0.3696688662132591,0.4422727880600964,0.1922508615381754,0.2878547211712888,0.23997502472494392,0.5655996542736403,0.3990741044351001,0.33998764256462666,0.44271633644317954,0.5106070801419661,1.226215552823029,0.3726595316798942,0.29868804685853007,0.4095419601622821,0.47026763320163306,0.22065817623555042,1.0193966689609084,0.3287023632626959,0.36495837519297375,0.3610218580347178,0.40425383862005676,0.35249761862024265,0.43920705470959026,0.3752549046978076,0.4230222150447065,0.35877540186949985,0.4813230579176002,0.39668639365882274,0.3464004287192041,0.5273870654101881,0.45108146728464504,0.3948701053468735,0.33885136771081364,0.44938863627854336,0.40865009337631786,0.5033414814161421,0.3711257800191118,0.3219978870528374,0.4355372925385175,0.47129649704372223,0.3791385597992238,0.3075926545750301,0.42156367730573696,0.35777156286780126,0.5536580527637673,0.4841246236072154,0.33249281840740474,0.39836089927447543,0.2806636541635495,0.4423500399960747,0.3532929346536938,0.3953459522333901,0.5092626883685507,0.30454568304749463,0.4661344234965554,0.4246739893390716,0.5822957955246578,0.34179210124814674,0.382707376150213,0.5326684150975153,0.2685984931602016,0.42636664639653293,0.47508170178204184,0.32031670792549244,0.37116595729302193,0.8479293003886308,0.3975426972915472,0.2677970666812063,0.32968533509162007,0.4600088328055137,0.4162574601388285,0.4990158924300967,0.2987916405921984,0.3659795857150424,0.43104371797850816,0.34800253353464755,0.38890663530518316,0.4565175418774058,0.2874090356688825,0.5259050226562629,0.6814865697961159,0.33467672142702376,0.4105393303976918,0.48172152768567483,0.36928708966213714,1.8824720506178962,0.23736485384004752,0.1618417248978241,0.43571550235142004,0.304899190864237,0.38303642846969965,0.44493478482474286,0.34983788162564033,0.2671917252201085,0.3133581044580959,0.32751078702403597,0.4145985372656225,0.3587950039112631,0.2605649814516988,0.41945028449883554,1.128520872932695,0.08422680605635469,0.3478968133885274,0.28895647565508464,0.2036099495807824,0.344755237765487,0.31422305357002245,0.34750028338169053,0.25469751762950554,0.3934635323954998],\"y\":[0.026439897033870327,0.03487950309589463,0.03404955105608191,0.03575589803276156,0.03482190627807867,0.029905137604041183,0.02620527227606833,0.02992433617170172,0.03461959165836014,0.03265141349886284,0.03626605417650371,0.036314046693733414,0.03705292566059388,0.037721862130625984,0.03766818841597467,0.03767605691899699,0.042706138502596996,0.04548248371783819,0.02057877421699597,0.04642285790094288,0.0402747119824642,0.045810624151330345,0.04071581192293221,0.039803561673766766,0.04564818716735939,0.03836943836859406,0.02691884226650314,0.045038471829241505,0.03457277752136456,0.00028209999175022335,0.042466717726092736,0.04216377144105594,0.04339842184005504,0.037996609787800846,0.039102759884680094,0.04111136417857713,0.03894964626296129,0.04310886806377577,0.028588602599347927,0.03711739431924718,0.04044177887477345,0.04671227455255944,0.0499208054903359,0.047704401590198786,0.04110919248066151,0.04614070551196392,0.03614812919595787,0.033104359672415914,0.043058429599304775,0.03572003157211605,0.04747547698200718,0.04593376209874155,0.04913950483503634,0.04922186101579093,0.04875024247653658,0.03572891457467824,0.048114301767902996,0.039221662575222,0.04861177778223528,0.04343702076044954,0.05003946514692218,0.049170351195212555,0.04921896244567789,0.049978608552564,0.04332941580434042,0.04397519046949989,0.05044443998510413,0.039884795216020064,0.0504332604231449,0.043211142995380994,0.037823326577433994,0.050115996316584664,0.04484037685870659,0.05168747505557268,0.05131877359268681,0.04392043870973329,0.041284447833540454,0.05148157066825263,0.04603171147186994,0.0500308296376547,0.035836500578597955,0.051655929694065315,0.04450834788192402,0.050827995504984694,0.04672582759750734,0.0499938193566497,0.04123215428419645,0.04281005558565462,0.04586056985888287,0.04151407590240134,0.044669806041064436,0.05114726296942715,0.052149027752692236,0.05167098553613323,0.02086482072343813,0.04595166745819788,0.050476618572697717,0.046980434651735174,0.032528770538040486,0.04397427073090628,0.03785599457744277,0.046099980601875395,0.04994096727514188,0.05086017743708228,0.05142499949832274,0.0327620095563615,0.00028209999175022335,0.04371660457037457,0.044906735162106505,0.05155876739420579,0.03477129947357398,0.05127247450930369,0.04786368136241557,0.05233988967596006,0.04735089755338207,0.05228674104843317,0.046021992343313924,0.04874247319379883,0.05253145840440208,0.04232615937230202,0.035773921564691516,0.053025623359797304,0.00028209999175022335,0.04702923430925792,0.05231757737509755,0.032771015190735955,0.04937572715090423,0.04540628922824291,0.05332611477891539,0.01669097786607284,0.048561217800786476,0.051494290931710145,0.05222898034992236,0.046597545802980346,0.036639159236292275,0.049484717846494414,0.046736198904338944,0.04908996381246523,0.04488187211954436,0.04803806379975599,0.052315226188801994,0.05256229027172812,0.00028209999175022335,0.049812029957835305,0.03319853644505884,0.052038343623255164,0.04766083385172987,0.049239788671940427,0.036573858910983484,0.046756748651605944,0.0442050381607888,0.052134081164420525,0.00028209999175022335,0.04966144478112261,0.05178529845238455,0.04813619377609944,0.05024351221970106,0.04592216335895071,0.052293871530911286,0.04804499026749167,0.035274473407847645,0.051658988800369274,0.05251371692564101,0.02018643380000288,0.04956132816941717,0.05220080178908453,0.00028209999175022335,0.04760971422328194,0.05031411692831666,0.03644101744270177,0.04075972303047583,0.05192472970833517,0.0520298184826187,0.049673079195622756,0.03707560362722458,0.05238286878172927,0.05234707924467548,0.04862709784011752,0.049861594391933765,0.05279444344109127,0.04778316465884765,0.05281176239751699,0.00028209999175022335,0.050282106680756423,0.052288947306223084,0.00028209999175022335,0.04890837508388954,0.05056842409202113,0.04693830839448045,0.051908302619636304,0.04916577814344171,0.00028209999175022335,0.05242786239372675,0.05245785813505832,0.05013604104375097,0.00028209999175022335,0.047897727298062624,0.05215019832908386,0.050257209078319785,0.052175580884597075,0.04590572066256699,0.05223213867651081,0.04930494852808221,0.05073509410319182,0.048777384241141426,0.02062464966320815,0.050709294599516196,0.04761659386796186,0.04537068363890785,0.049964030974564165,0.00028209999175022335,0.05172683763770782,0.05168442932728453,0.04906798707683486,0.0524643754584741,0.0502384731670429,0.04808183778263658,0.052043583346152215,0.05251039471835755,0.019503998911921182,0.0465467751177807,0.050190353558662006,0.05209020461675123,0.00028209999175022335,0.04879519372481683,0.050926668405807,0.05230871555439417,0.049315410136520785,0.052505144961949,0.047915064091842714,0.04995855490671976,0.00028209999175022335,0.05222464141342997,0.05216531102771952,0.049954770043052994,0.05243181113808841,0.048633034334676015,0.05056756566933367,0.03688004379070419,0.05034477599627035,0.00028209999175022335,0.05169930010679951,0.050751116506909166,0.052378990271951094,0.048959955139051395,0.05235828667750101,0.00028209999175022335,0.04977340874074769,0.04781270331796911,0.05213420268139845,0.050112771099916374,0.05226088803269414,0.04775108083220012,0.00028209999175022335,0.04994456373175096,0.032373760582566906,0.03520749860088138,0.04636864572115167,0.05217135231673613,0.00028209999175022335,0.04864697199758141,0.03280471329796975,0.05056014198534036,0.047384780723169505,0.05238426566955667,0.04954695683582973,0.00028209999175022335,0.0510660996617577,0.048513915366210185,0.05164681369105975,0.04663421828908386,0.0498941297266184,0.05245017692425851,0.05228631406675897,0.00028209999175022335,0.048275054236704217,0.049986130342007086,0.05169693554248773,0.04737255990563845,0.04513421048524147,0.049507306626352415,0.0525147916262523,0.05251900458642811,0.01992198610024119,0.049097077572423396,0.03347468656423502,0.05077931290510125,0.05238970160335334,0.00028209999175022335,0.048551467456859974,0.05028721262349424,0.052184281054275014,0.04771907058463989,0.02098988733480906,0.03931997315477999,0.05028831853947577,0.04872792906083948,0.051922293794605195,0.045853520759334694,0.03303755654998706,0.051779185813949954,0.04749448937227959,0.049879420598129186,0.00028209999175022335,0.00028209999175022335,0.04657031039226405,0.03876394490932908,0.037077098620502395,0.05060362722604427,0.04727254697355697,0.05246207778424221,0.00028209999175022335,0.048637823664370666,0.0515219455202582,0.05002795447906943,0.04818269241488607,0.05219580732981291,0.03978236755206695,0.03836120865914232,0.04602881513142628,0.03457975304182526,0.052395876672529054,0.00028209999175022335,0.04996866645707577,0.0519453965132412,0.04871469262893438,0.03746207109523434,0.04544820032240853,0.05208572967043062,0.04795510003411214,0.05260537305712022,0.04701988976514723,0.00028209999175022335,0.033338990004391375,0.04733282385389265,0.052150820406823534,0.04947184596552289,0.05247523060354756,0.045416497769214054,0.052426726377209174,0.036485482623070824,0.0484599885840909,0.0467000258641622,0.036345720261226774,0.05075054682639847,0.00028209999175022335,0.03197221720546533,0.04860630171439076,0.051541691471736276,0.04995664853945318,0.00028209999175022335,0.0521768183510684,0.04801235571252246,0.046422884656974785,0.05008759032947623,0.05215775913774032,0.048850682390292874,0.046225776315112876,0.050234154297574454,0.04773716100664944,0.020160677774879007,0.05047799204899731,0.044684072580194044,0.05222890119666173,0.0481755195686912,0.00028209999175022335,0.04320552199903077,0.04658697048140624,0.04955498253053892,0.05256432818948454,0.00028209999175022335,0.04025088462130049,0.049883052729447874,0.04764695973440014,0.051489848315594604,0.04917311598516655,0.03476351681282037,0.051908662711231124,0.04719688314525899,0.0500593493378979,0.047790317438018884,0.03257665937564696,0.03693640537171824,0.04844750912491972,0.05045434083170954,0.035276472306390624,0.04500522857454867,0.0506569196672424,0.048044737200024,0.051693515229754614,0.00028209999175022335,0.04909821916311431,0.051699598882487915,0.04745591274857878,0.04470236813178052,0.05242735514395696,0.051937667364551104,0.04874719897791813,0.00028209999175022335,0.04558183889747153,0.05091832944255851,0.05221154879519633,0.0491198447258268,0.05022755893573262,0.00028209999175022335,0.04722513974452283,0.0521061467523731,0.04902972595134235,0.051985581843354674,0.00028209999175022335,0.05014747478801238,0.04768422865704619,0.04405706392684752,0.04570909727378178,0.05048825744653629,0.033887971379963557,0.052279665192853424,0.03300511597624842,0.00028209999175022335,0.04834934012936378,0.05192404854435843,0.04713111235972424,0.05042908090800889,0.02611180453826854,0.050408532275576345,0.04864627299625001,0.02040481430199058,0.05054520208607697,0.046070474272958906,0.0497353683525178,0.020520900920184205,0.04771213631306158,0.05137448856959852,0.048577099735336166,0.03376092259256924,0.04916132772348353,0.052208615665208846,0.047662720151972704,0.04209302403360415,0.049865404896797756,0.05226939979531446,0.047103988432474035,0.00028209999175022335,0.049791133496989326,0.05216085280391873,0.020861389262358164,0.048708800727762194,0.05019858103844455,0.00028209999175022335,0.04649879374889743,0.05065078361728009,0.04754556663701038,0.04469094442103133,0.05190612088820903,0.04958088348416865,0.05229845127169003,0.04873581874572003,0.020641639743409334,0.050612357496258135,0.00028209999175022335,0.050691323464815204,0.040921920324995094,0.051699756074174874,0.048784856977859815,0.051726004856217866,0.04638779412125224,0.00028209999175022335,0.048446805664250116,0.05101114165757879,0.04837553316967363,0.051898281370887714,0.04538168817182574,0.04973682990075555,0.00028209999175022335,0.04994569194442561,0.05214011799409826,0.04711775664051107,0.03556091791026356,0.04830154159336458,0.05230913473222598,0.03844717133001847,0.0522165287616173,0.049175381329193205,0.00028209999175022335,0.04765520170703329,0.050752057427361115,0.05205062241218803,0.045580586938149655,0.00028209999175022335,0.05006935720863057,0.048477856039169,0.051792027594385615,0.03669925439857871,0.04965818946391883,0.00028209999175022335,0.04701463443456527,0.05066432662871591,0.0481575027257688,0.05237916530099266,0.04362360729280081,0.00028209999175022335,0.049391884449615266,0.05047602882516331,0.0474608280545897,0.04355978635308455,0.05210414116482201,0.04782567553405972,0.05253773492353162,0.05256446977348625,0.04866997884043634,0.0460108607192451,0.05252984969798957,0.03673784328546108,0.050035125095595094,0.034313094624934974,0.03300310927386245,0.0336142705525333,0.020260347337886085,0.04791286229339148,0.050635643047777755,0.00028209999175022335,0.05039966599553448,0.03855415086388417,0.05212396292505653,0.04699302224986867,0.048581439786663204,0.052125706526463186,0.050215559970299105,0.04493849903120712,0.04860529167418988,0.052320147068986265,0.00028209999175022335,0.050155051204354095,0.0468610380894393,0.05163843905310241,0.048420893562273706,0.052223748430868355,0.04993538752767388,0.05226003964351875,0.03953339041286629,0.02055820217303544,0.00028209999175022335,0.05006808964162342,0.047471063351592756,0.050586612619480706,0.052285753304925436,0.00028209999175022335,0.046556170944285616,0.04915545588933519,0.05071047855392382,0.039002837254205676,0.00028209999175022335,0.051743498841685075,0.04775435064225456,0.04136664347810439,0.04900708254458617,0.052216746154375805,0.04577994613118775,0.03721292450116569,0.052409137630796285,0.00028209999175022335,0.05001111490154702,0.04731677134963944,0.050777014116034656,0.05229060060602227,0.049399120841385896,0.03382992416894545,0.03703430680695622,0.00028209999175022335,0.044989740176632875,0.048031990180534855,0.051689466150273394,0.04987587430907926,0.05208847550819548,0.047200879827511324,0.04382048932322664,0.05137707498600706,0.03400747385155174,0.05257441744314726,0.05234201343598545,0.04955108172406745,0.046970977509323865,0.052542790698709776,0.05000692646773388,0.05218501461548044,0.02065385052742796,0.04833688742622403,0.04599076136518041,0.04986139595136464,0.04354369817412217,0.04612065855512807,0.04972397697197355,0.052557995928621905,0.03415318720080523,0.036946637324217296,0.05058603179062356,0.04855418988309673,0.033239948093297,0.00028209999175022335,0.05152691433833285],\"type\":\"scatter\",\"xaxis\":\"x\",\"yaxis\":\"y\"},{\"marker\":{\"color\":[0,1,2,3,4,5,6,7,8,9,10,11,12,13,14,15,16,17,18,19,20,21,22,23,24,25,26,27,28,29,30,31,32,33,34,35,36,37,38,39,40,41,42,43,44,45,46,47,48,49,50,51,52,53,54,55,56,57,58,59,60,61,62,63,64,65,66,67,68,69,70,71,72,73,74,75,76,77,78,79,80,81,82,83,84,85,86,87,88,89,90,91,92,93,94,95,96,97,98,99,100,101,102,103,104,105,106,107,108,109,110,111,112,113,114,115,116,117,118,119,120,121,122,123,124,125,126,127,128,129,130,131,132,133,134,135,136,137,138,139,140,141,142,143,144,145,146,147,148,149,150,151,152,153,154,155,156,157,158,159,160,161,162,163,164,165,166,167,168,169,170,171,172,173,174,175,176,177,178,179,180,181,182,183,184,185,186,187,188,189,190,191,192,193,194,195,196,197,198,199,200,201,202,203,204,205,206,207,208,209,210,211,212,213,214,215,216,217,218,219,220,221,222,223,224,225,226,227,228,229,230,231,232,233,234,235,236,237,238,239,240,241,242,243,244,245,246,247,248,249,250,251,252,253,254,255,256,257,258,259,260,261,262,263,264,265,266,267,268,269,270,271,272,273,274,275,276,277,278,279,280,281,282,283,284,285,286,287,288,289,290,291,292,293,294,295,296,297,298,299,300,301,302,303,304,305,306,307,308,309,310,311,312,313,314,315,316,317,318,319,320,321,322,323,324,325,326,327,328,329,330,331,332,333,334,335,336,337,338,339,340,341,342,343,344,345,346,347,348,349,350,351,352,353,354,355,356,357,358,359,360,361,362,363,364,365,366,367,368,369,370,371,372,373,374,375,376,377,378,379,380,381,382,383,384,385,386,387,388,389,390,391,392,393,394,395,396,397,398,399,400,401,402,403,404,405,406,407,408,409,410,411,412,413,414,415,416,417,418,419,420,421,422,423,424,425,426,427,428,429,430,431,432,433,434,435,436,437,438,439,440,441,442,443,444,445,446,447,448,449,450,451,452,453,454,455,456,457,458,459,460,461,462,463,464,465,466,467,468,469,470,471,472,473,474,475,476,477,478,479,480,481,482,483,484,485,486,487,488,489,490,491,492,493,494,495,496,497,498,499,500,501,502,503,504,505,506,507,508,509,510,511,512,513,514,515,516,517,518,519,520,521,522,523,524,525,526,527,528,529,530,531,532,533,534,535,536,537,538,539,540,541,542,543,544,545,546,547,548,549,550,551,552,553,554,555,556,557,558,559,560,561,562,563,564,565,566,567,568,569,570,571,572,573,574,575,576,577,578,579,580,581,582,583,584,585,586,587,588,589,590,591,592,593,594,595,596,597,598,599],\"colorbar\":{\"title\":{\"text\":\"Trial\"},\"x\":1.0,\"xpad\":40},\"colorscale\":[[0.0,\"rgb(247,251,255)\"],[0.125,\"rgb(222,235,247)\"],[0.25,\"rgb(198,219,239)\"],[0.375,\"rgb(158,202,225)\"],[0.5,\"rgb(107,174,214)\"],[0.625,\"rgb(66,146,198)\"],[0.75,\"rgb(33,113,181)\"],[0.875,\"rgb(8,81,156)\"],[1.0,\"rgb(8,48,107)\"]],\"line\":{\"color\":\"Grey\",\"width\":0.5},\"showscale\":false},\"mode\":\"markers\",\"name\":\"Feasible Trial\",\"showlegend\":false,\"x\":[false,false,true,false,true,false,false,true,true,true,false,false,false,false,false,false,false,false,false,false,false,false,false,false,false,false,true,false,false,false,false,false,false,false,false,false,true,false,false,true,false,false,false,false,false,true,true,true,true,true,true,true,true,true,true,true,true,true,true,true,true,true,true,true,true,true,true,true,true,true,true,true,true,true,true,true,true,true,true,true,true,true,true,true,true,true,true,true,true,true,true,true,true,true,true,true,true,true,true,true,true,true,true,true,true,true,true,true,true,true,true,true,true,true,true,true,true,true,true,true,true,true,true,true,true,true,true,true,true,true,true,true,true,true,true,true,true,true,true,true,true,true,true,true,true,true,true,true,true,true,true,true,true,true,true,true,true,true,true,true,true,true,true,true,true,true,true,true,true,true,true,true,true,true,true,true,true,true,true,true,true,true,true,true,true,true,true,true,true,true,true,true,true,true,true,true,true,true,true,true,false,true,true,true,true,true,true,true,true,true,true,true,true,true,true,true,true,true,true,true,true,true,true,true,true,true,true,true,true,true,true,true,true,true,true,true,true,true,false,true,true,true,true,true,true,true,true,true,true,true,true,true,true,true,true,true,true,true,true,true,true,true,true,true,true,false,true,true,true,true,true,true,true,true,true,true,true,true,true,true,true,false,false,false,false,false,false,false,false,false,true,true,false,false,false,false,false,false,false,false,false,false,false,false,true,true,true,false,true,true,true,true,true,true,true,true,true,false,true,true,true,true,true,true,true,false,true,true,true,true,true,true,false,true,true,true,true,true,false,true,true,true,true,true,true,false,true,true,true,true,true,false,true,true,true,true,true,true,false,true,true,true,true,true,false,true,true,true,true,true,true,false,true,true,true,true,true,false,true,true,true,true,true,false,true,true,true,true,true,true,false,true,true,true,true,true,false,true,true,true,true,true,true,false,true,true,true,true,true,false,true,true,true,true,true,false,true,true,true,true,true,false,true,true,true,true,true,true,false,true,true,true,true,true,false,true,true,true,true,true,false,true,true,true,true,true,false,true,true,true,true,true,true,false,true,true,true,true,true,false,true,true,true,true,true,false,true,true,true,true,true,false,true,true,true,true,true,true,false,true,true,true,true,true,false,true,true,true,true,true,false,true,true,true,true,true,false,true,true,true,true,true,true,false,true,true,true,true,true,true,true,true,true,true,true,true,true,true,true,true,true,true,true,true,true,true,true,true,true,true,true,true,true,true,true,true,true,true,true,true,true,true,true,true,true,true,true,true,true,true,true,true,true,true,true,true,true,true,true,true,true,true,true,true,true,true,true,true,true,true,true,true,true,true,true,true,true,true,true,true,true,true,true,false,true,true,true,true,true,true,false,true,true,true,true,true,true,true,false,true],\"y\":[0.026439897033870327,0.03487950309589463,0.03404955105608191,0.03575589803276156,0.03482190627807867,0.029905137604041183,0.02620527227606833,0.02992433617170172,0.03461959165836014,0.03265141349886284,0.03626605417650371,0.036314046693733414,0.03705292566059388,0.037721862130625984,0.03766818841597467,0.03767605691899699,0.042706138502596996,0.04548248371783819,0.02057877421699597,0.04642285790094288,0.0402747119824642,0.045810624151330345,0.04071581192293221,0.039803561673766766,0.04564818716735939,0.03836943836859406,0.02691884226650314,0.045038471829241505,0.03457277752136456,0.00028209999175022335,0.042466717726092736,0.04216377144105594,0.04339842184005504,0.037996609787800846,0.039102759884680094,0.04111136417857713,0.03894964626296129,0.04310886806377577,0.028588602599347927,0.03711739431924718,0.04044177887477345,0.04671227455255944,0.0499208054903359,0.047704401590198786,0.04110919248066151,0.04614070551196392,0.03614812919595787,0.033104359672415914,0.043058429599304775,0.03572003157211605,0.04747547698200718,0.04593376209874155,0.04913950483503634,0.04922186101579093,0.04875024247653658,0.03572891457467824,0.048114301767902996,0.039221662575222,0.04861177778223528,0.04343702076044954,0.05003946514692218,0.049170351195212555,0.04921896244567789,0.049978608552564,0.04332941580434042,0.04397519046949989,0.05044443998510413,0.039884795216020064,0.0504332604231449,0.043211142995380994,0.037823326577433994,0.050115996316584664,0.04484037685870659,0.05168747505557268,0.05131877359268681,0.04392043870973329,0.041284447833540454,0.05148157066825263,0.04603171147186994,0.0500308296376547,0.035836500578597955,0.051655929694065315,0.04450834788192402,0.050827995504984694,0.04672582759750734,0.0499938193566497,0.04123215428419645,0.04281005558565462,0.04586056985888287,0.04151407590240134,0.044669806041064436,0.05114726296942715,0.052149027752692236,0.05167098553613323,0.02086482072343813,0.04595166745819788,0.050476618572697717,0.046980434651735174,0.032528770538040486,0.04397427073090628,0.03785599457744277,0.046099980601875395,0.04994096727514188,0.05086017743708228,0.05142499949832274,0.0327620095563615,0.00028209999175022335,0.04371660457037457,0.044906735162106505,0.05155876739420579,0.03477129947357398,0.05127247450930369,0.04786368136241557,0.05233988967596006,0.04735089755338207,0.05228674104843317,0.046021992343313924,0.04874247319379883,0.05253145840440208,0.04232615937230202,0.035773921564691516,0.053025623359797304,0.00028209999175022335,0.04702923430925792,0.05231757737509755,0.032771015190735955,0.04937572715090423,0.04540628922824291,0.05332611477891539,0.01669097786607284,0.048561217800786476,0.051494290931710145,0.05222898034992236,0.046597545802980346,0.036639159236292275,0.049484717846494414,0.046736198904338944,0.04908996381246523,0.04488187211954436,0.04803806379975599,0.052315226188801994,0.05256229027172812,0.00028209999175022335,0.049812029957835305,0.03319853644505884,0.052038343623255164,0.04766083385172987,0.049239788671940427,0.036573858910983484,0.046756748651605944,0.0442050381607888,0.052134081164420525,0.00028209999175022335,0.04966144478112261,0.05178529845238455,0.04813619377609944,0.05024351221970106,0.04592216335895071,0.052293871530911286,0.04804499026749167,0.035274473407847645,0.051658988800369274,0.05251371692564101,0.02018643380000288,0.04956132816941717,0.05220080178908453,0.00028209999175022335,0.04760971422328194,0.05031411692831666,0.03644101744270177,0.04075972303047583,0.05192472970833517,0.0520298184826187,0.049673079195622756,0.03707560362722458,0.05238286878172927,0.05234707924467548,0.04862709784011752,0.049861594391933765,0.05279444344109127,0.04778316465884765,0.05281176239751699,0.00028209999175022335,0.050282106680756423,0.052288947306223084,0.00028209999175022335,0.04890837508388954,0.05056842409202113,0.04693830839448045,0.051908302619636304,0.04916577814344171,0.00028209999175022335,0.05242786239372675,0.05245785813505832,0.05013604104375097,0.00028209999175022335,0.047897727298062624,0.05215019832908386,0.050257209078319785,0.052175580884597075,0.04590572066256699,0.05223213867651081,0.04930494852808221,0.05073509410319182,0.048777384241141426,0.02062464966320815,0.050709294599516196,0.04761659386796186,0.04537068363890785,0.049964030974564165,0.00028209999175022335,0.05172683763770782,0.05168442932728453,0.04906798707683486,0.0524643754584741,0.0502384731670429,0.04808183778263658,0.052043583346152215,0.05251039471835755,0.019503998911921182,0.0465467751177807,0.050190353558662006,0.05209020461675123,0.00028209999175022335,0.04879519372481683,0.050926668405807,0.05230871555439417,0.049315410136520785,0.052505144961949,0.047915064091842714,0.04995855490671976,0.00028209999175022335,0.05222464141342997,0.05216531102771952,0.049954770043052994,0.05243181113808841,0.048633034334676015,0.05056756566933367,0.03688004379070419,0.05034477599627035,0.00028209999175022335,0.05169930010679951,0.050751116506909166,0.052378990271951094,0.048959955139051395,0.05235828667750101,0.00028209999175022335,0.04977340874074769,0.04781270331796911,0.05213420268139845,0.050112771099916374,0.05226088803269414,0.04775108083220012,0.00028209999175022335,0.04994456373175096,0.032373760582566906,0.03520749860088138,0.04636864572115167,0.05217135231673613,0.00028209999175022335,0.04864697199758141,0.03280471329796975,0.05056014198534036,0.047384780723169505,0.05238426566955667,0.04954695683582973,0.00028209999175022335,0.0510660996617577,0.048513915366210185,0.05164681369105975,0.04663421828908386,0.0498941297266184,0.05245017692425851,0.05228631406675897,0.00028209999175022335,0.048275054236704217,0.049986130342007086,0.05169693554248773,0.04737255990563845,0.04513421048524147,0.049507306626352415,0.0525147916262523,0.05251900458642811,0.01992198610024119,0.049097077572423396,0.03347468656423502,0.05077931290510125,0.05238970160335334,0.00028209999175022335,0.048551467456859974,0.05028721262349424,0.052184281054275014,0.04771907058463989,0.02098988733480906,0.03931997315477999,0.05028831853947577,0.04872792906083948,0.051922293794605195,0.045853520759334694,0.03303755654998706,0.051779185813949954,0.04749448937227959,0.049879420598129186,0.00028209999175022335,0.00028209999175022335,0.04657031039226405,0.03876394490932908,0.037077098620502395,0.05060362722604427,0.04727254697355697,0.05246207778424221,0.00028209999175022335,0.048637823664370666,0.0515219455202582,0.05002795447906943,0.04818269241488607,0.05219580732981291,0.03978236755206695,0.03836120865914232,0.04602881513142628,0.03457975304182526,0.052395876672529054,0.00028209999175022335,0.04996866645707577,0.0519453965132412,0.04871469262893438,0.03746207109523434,0.04544820032240853,0.05208572967043062,0.04795510003411214,0.05260537305712022,0.04701988976514723,0.00028209999175022335,0.033338990004391375,0.04733282385389265,0.052150820406823534,0.04947184596552289,0.05247523060354756,0.045416497769214054,0.052426726377209174,0.036485482623070824,0.0484599885840909,0.0467000258641622,0.036345720261226774,0.05075054682639847,0.00028209999175022335,0.03197221720546533,0.04860630171439076,0.051541691471736276,0.04995664853945318,0.00028209999175022335,0.0521768183510684,0.04801235571252246,0.046422884656974785,0.05008759032947623,0.05215775913774032,0.048850682390292874,0.046225776315112876,0.050234154297574454,0.04773716100664944,0.020160677774879007,0.05047799204899731,0.044684072580194044,0.05222890119666173,0.0481755195686912,0.00028209999175022335,0.04320552199903077,0.04658697048140624,0.04955498253053892,0.05256432818948454,0.00028209999175022335,0.04025088462130049,0.049883052729447874,0.04764695973440014,0.051489848315594604,0.04917311598516655,0.03476351681282037,0.051908662711231124,0.04719688314525899,0.0500593493378979,0.047790317438018884,0.03257665937564696,0.03693640537171824,0.04844750912491972,0.05045434083170954,0.035276472306390624,0.04500522857454867,0.0506569196672424,0.048044737200024,0.051693515229754614,0.00028209999175022335,0.04909821916311431,0.051699598882487915,0.04745591274857878,0.04470236813178052,0.05242735514395696,0.051937667364551104,0.04874719897791813,0.00028209999175022335,0.04558183889747153,0.05091832944255851,0.05221154879519633,0.0491198447258268,0.05022755893573262,0.00028209999175022335,0.04722513974452283,0.0521061467523731,0.04902972595134235,0.051985581843354674,0.00028209999175022335,0.05014747478801238,0.04768422865704619,0.04405706392684752,0.04570909727378178,0.05048825744653629,0.033887971379963557,0.052279665192853424,0.03300511597624842,0.00028209999175022335,0.04834934012936378,0.05192404854435843,0.04713111235972424,0.05042908090800889,0.02611180453826854,0.050408532275576345,0.04864627299625001,0.02040481430199058,0.05054520208607697,0.046070474272958906,0.0497353683525178,0.020520900920184205,0.04771213631306158,0.05137448856959852,0.048577099735336166,0.03376092259256924,0.04916132772348353,0.052208615665208846,0.047662720151972704,0.04209302403360415,0.049865404896797756,0.05226939979531446,0.047103988432474035,0.00028209999175022335,0.049791133496989326,0.05216085280391873,0.020861389262358164,0.048708800727762194,0.05019858103844455,0.00028209999175022335,0.04649879374889743,0.05065078361728009,0.04754556663701038,0.04469094442103133,0.05190612088820903,0.04958088348416865,0.05229845127169003,0.04873581874572003,0.020641639743409334,0.050612357496258135,0.00028209999175022335,0.050691323464815204,0.040921920324995094,0.051699756074174874,0.048784856977859815,0.051726004856217866,0.04638779412125224,0.00028209999175022335,0.048446805664250116,0.05101114165757879,0.04837553316967363,0.051898281370887714,0.04538168817182574,0.04973682990075555,0.00028209999175022335,0.04994569194442561,0.05214011799409826,0.04711775664051107,0.03556091791026356,0.04830154159336458,0.05230913473222598,0.03844717133001847,0.0522165287616173,0.049175381329193205,0.00028209999175022335,0.04765520170703329,0.050752057427361115,0.05205062241218803,0.045580586938149655,0.00028209999175022335,0.05006935720863057,0.048477856039169,0.051792027594385615,0.03669925439857871,0.04965818946391883,0.00028209999175022335,0.04701463443456527,0.05066432662871591,0.0481575027257688,0.05237916530099266,0.04362360729280081,0.00028209999175022335,0.049391884449615266,0.05047602882516331,0.0474608280545897,0.04355978635308455,0.05210414116482201,0.04782567553405972,0.05253773492353162,0.05256446977348625,0.04866997884043634,0.0460108607192451,0.05252984969798957,0.03673784328546108,0.050035125095595094,0.034313094624934974,0.03300310927386245,0.0336142705525333,0.020260347337886085,0.04791286229339148,0.050635643047777755,0.00028209999175022335,0.05039966599553448,0.03855415086388417,0.05212396292505653,0.04699302224986867,0.048581439786663204,0.052125706526463186,0.050215559970299105,0.04493849903120712,0.04860529167418988,0.052320147068986265,0.00028209999175022335,0.050155051204354095,0.0468610380894393,0.05163843905310241,0.048420893562273706,0.052223748430868355,0.04993538752767388,0.05226003964351875,0.03953339041286629,0.02055820217303544,0.00028209999175022335,0.05006808964162342,0.047471063351592756,0.050586612619480706,0.052285753304925436,0.00028209999175022335,0.046556170944285616,0.04915545588933519,0.05071047855392382,0.039002837254205676,0.00028209999175022335,0.051743498841685075,0.04775435064225456,0.04136664347810439,0.04900708254458617,0.052216746154375805,0.04577994613118775,0.03721292450116569,0.052409137630796285,0.00028209999175022335,0.05001111490154702,0.04731677134963944,0.050777014116034656,0.05229060060602227,0.049399120841385896,0.03382992416894545,0.03703430680695622,0.00028209999175022335,0.044989740176632875,0.048031990180534855,0.051689466150273394,0.04987587430907926,0.05208847550819548,0.047200879827511324,0.04382048932322664,0.05137707498600706,0.03400747385155174,0.05257441744314726,0.05234201343598545,0.04955108172406745,0.046970977509323865,0.052542790698709776,0.05000692646773388,0.05218501461548044,0.02065385052742796,0.04833688742622403,0.04599076136518041,0.04986139595136464,0.04354369817412217,0.04612065855512807,0.04972397697197355,0.052557995928621905,0.03415318720080523,0.036946637324217296,0.05058603179062356,0.04855418988309673,0.033239948093297,0.00028209999175022335,0.05152691433833285],\"type\":\"scatter\",\"xaxis\":\"x2\",\"yaxis\":\"y2\"},{\"marker\":{\"color\":[0,1,2,3,4,5,6,7,8,9,10,11,12,13,14,15,16,17,18,19,20,21,22,23,24,25,26,27,28,29,30,31,32,33,34,35,36,37,38,39,40,41,42,43,44,45,46,47,48,49,50,51,52,53,54,55,56,57,58,59,60,61,62,63,64,65,66,67,68,69,70,71,72,73,74,75,76,77,78,79,80,81,82,83,84,85,86,87,88,89,90,91,92,93,94,95,96,97,98,99,100,101,102,103,104,105,106,107,108,109,110,111,112,113,114,115,116,117,118,119,120,121,122,123,124,125,126,127,128,129,130,131,132,133,134,135,136,137,138,139,140,141,142,143,144,145,146,147,148,149,150,151,152,153,154,155,156,157,158,159,160,161,162,163,164,165,166,167,168,169,170,171,172,173,174,175,176,177,178,179,180,181,182,183,184,185,186,187,188,189,190,191,192,193,194,195,196,197,198,199,200,201,202,203,204,205,206,207,208,209,210,211,212,213,214,215,216,217,218,219,220,221,222,223,224,225,226,227,228,229,230,231,232,233,234,235,236,237,238,239,240,241,242,243,244,245,246,247,248,249,250,251,252,253,254,255,256,257,258,259,260,261,262,263,264,265,266,267,268,269,270,271,272,273,274,275,276,277,278,279,280,281,282,283,284,285,286,287,288,289,290,291,292,293,294,295,296,297,298,299,300,301,302,303,304,305,306,307,308,309,310,311,312,313,314,315,316,317,318,319,320,321,322,323,324,325,326,327,328,329,330,331,332,333,334,335,336,337,338,339,340,341,342,343,344,345,346,347,348,349,350,351,352,353,354,355,356,357,358,359,360,361,362,363,364,365,366,367,368,369,370,371,372,373,374,375,376,377,378,379,380,381,382,383,384,385,386,387,388,389,390,391,392,393,394,395,396,397,398,399,400,401,402,403,404,405,406,407,408,409,410,411,412,413,414,415,416,417,418,419,420,421,422,423,424,425,426,427,428,429,430,431,432,433,434,435,436,437,438,439,440,441,442,443,444,445,446,447,448,449,450,451,452,453,454,455,456,457,458,459,460,461,462,463,464,465,466,467,468,469,470,471,472,473,474,475,476,477,478,479,480,481,482,483,484,485,486,487,488,489,490,491,492,493,494,495,496,497,498,499,500,501,502,503,504,505,506,507,508,509,510,511,512,513,514,515,516,517,518,519,520,521,522,523,524,525,526,527,528,529,530,531,532,533,534,535,536,537,538,539,540,541,542,543,544,545,546,547,548,549,550,551,552,553,554,555,556,557,558,559,560,561,562,563,564,565,566,567,568,569,570,571,572,573,574,575,576,577,578,579,580,581,582,583,584,585,586,587,588,589,590,591,592,593,594,595,596,597,598,599],\"colorbar\":{\"title\":{\"text\":\"Trial\"},\"x\":1.0,\"xpad\":40},\"colorscale\":[[0.0,\"rgb(247,251,255)\"],[0.125,\"rgb(222,235,247)\"],[0.25,\"rgb(198,219,239)\"],[0.375,\"rgb(158,202,225)\"],[0.5,\"rgb(107,174,214)\"],[0.625,\"rgb(66,146,198)\"],[0.75,\"rgb(33,113,181)\"],[0.875,\"rgb(8,81,156)\"],[1.0,\"rgb(8,48,107)\"]],\"line\":{\"color\":\"Grey\",\"width\":0.5},\"showscale\":false},\"mode\":\"markers\",\"name\":\"Feasible Trial\",\"showlegend\":false,\"x\":[false,true,true,true,true,false,false,false,true,true,true,true,true,true,true,true,true,true,false,true,true,true,true,true,true,true,false,true,true,false,true,true,true,true,true,true,true,true,false,true,true,true,true,true,true,true,false,true,true,true,true,true,true,true,true,true,true,false,true,true,true,true,true,true,true,true,true,true,true,false,true,true,true,true,true,true,true,true,true,true,true,true,true,true,true,true,false,true,true,true,true,true,true,true,true,true,true,true,true,true,false,true,true,true,true,true,true,true,true,true,true,true,true,true,true,true,true,true,true,true,false,true,true,true,true,true,true,true,true,true,true,true,true,true,true,true,true,true,true,true,true,true,true,true,true,true,true,true,false,true,true,true,true,true,true,true,true,true,true,true,true,true,true,true,true,true,true,true,true,true,false,true,true,true,true,true,true,true,true,true,true,true,true,true,true,true,true,true,true,true,true,true,true,true,true,true,true,true,true,true,true,true,true,true,true,true,true,true,false,true,true,true,true,true,true,true,true,true,true,true,true,true,true,true,true,true,true,true,true,true,true,true,true,true,true,true,true,true,true,true,true,true,true,true,true,true,false,true,true,true,true,true,true,true,true,true,true,true,true,true,true,true,true,true,true,true,false,true,true,true,true,true,true,true,true,true,true,true,true,true,true,true,true,true,true,false,true,true,true,true,true,true,true,true,true,true,true,true,true,true,true,true,true,true,true,true,false,true,true,true,true,true,true,true,true,true,true,true,true,true,true,true,true,true,true,true,false,true,true,true,true,true,true,true,true,true,true,true,true,true,true,true,true,true,true,true,false,true,true,true,true,true,true,true,true,true,true,true,true,true,true,true,true,true,true,true,false,true,true,true,true,true,true,true,true,true,true,true,true,true,true,true,true,true,true,false,true,true,true,true,true,true,true,true,true,true,true,true,true,true,true,true,true,true,false,true,true,true,true,true,true,true,true,true,true,true,true,true,true,true,true,true,true,false,true,true,true,true,true,true,true,true,true,true,true,true,true,true,true,true,true,true,false,true,true,true,true,true,true,true,true,true,true,true,true,true,true,true,true,true,true,false,true,true,true,true,true,true,true,true,true,true,true,true,true,true,true,true,true,true,false,true,true,true,true,true,true,true,true,true,true,true,true,true,true,true,true,true,true,false,true,true,true,true,true,true,true,true,true,true,true,true,true,true,true,true,true,true,true,true,false,true,true,true,true,true,true,true,true,true,true,true,true,true,true,true,true,true,true,false,true,true,true,true,true,true,true,true,true,true,true,true,true,true,true,true,true,true,false,true,true,true,true,true,true,true,true,true,true,true,true,true,true,true,true,true,true,false,true,true,true,true,true,true,true,true,true,true,true,true,true,true,true,true,true,true,true,false,true,true],\"y\":[0.026439897033870327,0.03487950309589463,0.03404955105608191,0.03575589803276156,0.03482190627807867,0.029905137604041183,0.02620527227606833,0.02992433617170172,0.03461959165836014,0.03265141349886284,0.03626605417650371,0.036314046693733414,0.03705292566059388,0.037721862130625984,0.03766818841597467,0.03767605691899699,0.042706138502596996,0.04548248371783819,0.02057877421699597,0.04642285790094288,0.0402747119824642,0.045810624151330345,0.04071581192293221,0.039803561673766766,0.04564818716735939,0.03836943836859406,0.02691884226650314,0.045038471829241505,0.03457277752136456,0.00028209999175022335,0.042466717726092736,0.04216377144105594,0.04339842184005504,0.037996609787800846,0.039102759884680094,0.04111136417857713,0.03894964626296129,0.04310886806377577,0.028588602599347927,0.03711739431924718,0.04044177887477345,0.04671227455255944,0.0499208054903359,0.047704401590198786,0.04110919248066151,0.04614070551196392,0.03614812919595787,0.033104359672415914,0.043058429599304775,0.03572003157211605,0.04747547698200718,0.04593376209874155,0.04913950483503634,0.04922186101579093,0.04875024247653658,0.03572891457467824,0.048114301767902996,0.039221662575222,0.04861177778223528,0.04343702076044954,0.05003946514692218,0.049170351195212555,0.04921896244567789,0.049978608552564,0.04332941580434042,0.04397519046949989,0.05044443998510413,0.039884795216020064,0.0504332604231449,0.043211142995380994,0.037823326577433994,0.050115996316584664,0.04484037685870659,0.05168747505557268,0.05131877359268681,0.04392043870973329,0.041284447833540454,0.05148157066825263,0.04603171147186994,0.0500308296376547,0.035836500578597955,0.051655929694065315,0.04450834788192402,0.050827995504984694,0.04672582759750734,0.0499938193566497,0.04123215428419645,0.04281005558565462,0.04586056985888287,0.04151407590240134,0.044669806041064436,0.05114726296942715,0.052149027752692236,0.05167098553613323,0.02086482072343813,0.04595166745819788,0.050476618572697717,0.046980434651735174,0.032528770538040486,0.04397427073090628,0.03785599457744277,0.046099980601875395,0.04994096727514188,0.05086017743708228,0.05142499949832274,0.0327620095563615,0.00028209999175022335,0.04371660457037457,0.044906735162106505,0.05155876739420579,0.03477129947357398,0.05127247450930369,0.04786368136241557,0.05233988967596006,0.04735089755338207,0.05228674104843317,0.046021992343313924,0.04874247319379883,0.05253145840440208,0.04232615937230202,0.035773921564691516,0.053025623359797304,0.00028209999175022335,0.04702923430925792,0.05231757737509755,0.032771015190735955,0.04937572715090423,0.04540628922824291,0.05332611477891539,0.01669097786607284,0.048561217800786476,0.051494290931710145,0.05222898034992236,0.046597545802980346,0.036639159236292275,0.049484717846494414,0.046736198904338944,0.04908996381246523,0.04488187211954436,0.04803806379975599,0.052315226188801994,0.05256229027172812,0.00028209999175022335,0.049812029957835305,0.03319853644505884,0.052038343623255164,0.04766083385172987,0.049239788671940427,0.036573858910983484,0.046756748651605944,0.0442050381607888,0.052134081164420525,0.00028209999175022335,0.04966144478112261,0.05178529845238455,0.04813619377609944,0.05024351221970106,0.04592216335895071,0.052293871530911286,0.04804499026749167,0.035274473407847645,0.051658988800369274,0.05251371692564101,0.02018643380000288,0.04956132816941717,0.05220080178908453,0.00028209999175022335,0.04760971422328194,0.05031411692831666,0.03644101744270177,0.04075972303047583,0.05192472970833517,0.0520298184826187,0.049673079195622756,0.03707560362722458,0.05238286878172927,0.05234707924467548,0.04862709784011752,0.049861594391933765,0.05279444344109127,0.04778316465884765,0.05281176239751699,0.00028209999175022335,0.050282106680756423,0.052288947306223084,0.00028209999175022335,0.04890837508388954,0.05056842409202113,0.04693830839448045,0.051908302619636304,0.04916577814344171,0.00028209999175022335,0.05242786239372675,0.05245785813505832,0.05013604104375097,0.00028209999175022335,0.047897727298062624,0.05215019832908386,0.050257209078319785,0.052175580884597075,0.04590572066256699,0.05223213867651081,0.04930494852808221,0.05073509410319182,0.048777384241141426,0.02062464966320815,0.050709294599516196,0.04761659386796186,0.04537068363890785,0.049964030974564165,0.00028209999175022335,0.05172683763770782,0.05168442932728453,0.04906798707683486,0.0524643754584741,0.0502384731670429,0.04808183778263658,0.052043583346152215,0.05251039471835755,0.019503998911921182,0.0465467751177807,0.050190353558662006,0.05209020461675123,0.00028209999175022335,0.04879519372481683,0.050926668405807,0.05230871555439417,0.049315410136520785,0.052505144961949,0.047915064091842714,0.04995855490671976,0.00028209999175022335,0.05222464141342997,0.05216531102771952,0.049954770043052994,0.05243181113808841,0.048633034334676015,0.05056756566933367,0.03688004379070419,0.05034477599627035,0.00028209999175022335,0.05169930010679951,0.050751116506909166,0.052378990271951094,0.048959955139051395,0.05235828667750101,0.00028209999175022335,0.04977340874074769,0.04781270331796911,0.05213420268139845,0.050112771099916374,0.05226088803269414,0.04775108083220012,0.00028209999175022335,0.04994456373175096,0.032373760582566906,0.03520749860088138,0.04636864572115167,0.05217135231673613,0.00028209999175022335,0.04864697199758141,0.03280471329796975,0.05056014198534036,0.047384780723169505,0.05238426566955667,0.04954695683582973,0.00028209999175022335,0.0510660996617577,0.048513915366210185,0.05164681369105975,0.04663421828908386,0.0498941297266184,0.05245017692425851,0.05228631406675897,0.00028209999175022335,0.048275054236704217,0.049986130342007086,0.05169693554248773,0.04737255990563845,0.04513421048524147,0.049507306626352415,0.0525147916262523,0.05251900458642811,0.01992198610024119,0.049097077572423396,0.03347468656423502,0.05077931290510125,0.05238970160335334,0.00028209999175022335,0.048551467456859974,0.05028721262349424,0.052184281054275014,0.04771907058463989,0.02098988733480906,0.03931997315477999,0.05028831853947577,0.04872792906083948,0.051922293794605195,0.045853520759334694,0.03303755654998706,0.051779185813949954,0.04749448937227959,0.049879420598129186,0.00028209999175022335,0.00028209999175022335,0.04657031039226405,0.03876394490932908,0.037077098620502395,0.05060362722604427,0.04727254697355697,0.05246207778424221,0.00028209999175022335,0.048637823664370666,0.0515219455202582,0.05002795447906943,0.04818269241488607,0.05219580732981291,0.03978236755206695,0.03836120865914232,0.04602881513142628,0.03457975304182526,0.052395876672529054,0.00028209999175022335,0.04996866645707577,0.0519453965132412,0.04871469262893438,0.03746207109523434,0.04544820032240853,0.05208572967043062,0.04795510003411214,0.05260537305712022,0.04701988976514723,0.00028209999175022335,0.033338990004391375,0.04733282385389265,0.052150820406823534,0.04947184596552289,0.05247523060354756,0.045416497769214054,0.052426726377209174,0.036485482623070824,0.0484599885840909,0.0467000258641622,0.036345720261226774,0.05075054682639847,0.00028209999175022335,0.03197221720546533,0.04860630171439076,0.051541691471736276,0.04995664853945318,0.00028209999175022335,0.0521768183510684,0.04801235571252246,0.046422884656974785,0.05008759032947623,0.05215775913774032,0.048850682390292874,0.046225776315112876,0.050234154297574454,0.04773716100664944,0.020160677774879007,0.05047799204899731,0.044684072580194044,0.05222890119666173,0.0481755195686912,0.00028209999175022335,0.04320552199903077,0.04658697048140624,0.04955498253053892,0.05256432818948454,0.00028209999175022335,0.04025088462130049,0.049883052729447874,0.04764695973440014,0.051489848315594604,0.04917311598516655,0.03476351681282037,0.051908662711231124,0.04719688314525899,0.0500593493378979,0.047790317438018884,0.03257665937564696,0.03693640537171824,0.04844750912491972,0.05045434083170954,0.035276472306390624,0.04500522857454867,0.0506569196672424,0.048044737200024,0.051693515229754614,0.00028209999175022335,0.04909821916311431,0.051699598882487915,0.04745591274857878,0.04470236813178052,0.05242735514395696,0.051937667364551104,0.04874719897791813,0.00028209999175022335,0.04558183889747153,0.05091832944255851,0.05221154879519633,0.0491198447258268,0.05022755893573262,0.00028209999175022335,0.04722513974452283,0.0521061467523731,0.04902972595134235,0.051985581843354674,0.00028209999175022335,0.05014747478801238,0.04768422865704619,0.04405706392684752,0.04570909727378178,0.05048825744653629,0.033887971379963557,0.052279665192853424,0.03300511597624842,0.00028209999175022335,0.04834934012936378,0.05192404854435843,0.04713111235972424,0.05042908090800889,0.02611180453826854,0.050408532275576345,0.04864627299625001,0.02040481430199058,0.05054520208607697,0.046070474272958906,0.0497353683525178,0.020520900920184205,0.04771213631306158,0.05137448856959852,0.048577099735336166,0.03376092259256924,0.04916132772348353,0.052208615665208846,0.047662720151972704,0.04209302403360415,0.049865404896797756,0.05226939979531446,0.047103988432474035,0.00028209999175022335,0.049791133496989326,0.05216085280391873,0.020861389262358164,0.048708800727762194,0.05019858103844455,0.00028209999175022335,0.04649879374889743,0.05065078361728009,0.04754556663701038,0.04469094442103133,0.05190612088820903,0.04958088348416865,0.05229845127169003,0.04873581874572003,0.020641639743409334,0.050612357496258135,0.00028209999175022335,0.050691323464815204,0.040921920324995094,0.051699756074174874,0.048784856977859815,0.051726004856217866,0.04638779412125224,0.00028209999175022335,0.048446805664250116,0.05101114165757879,0.04837553316967363,0.051898281370887714,0.04538168817182574,0.04973682990075555,0.00028209999175022335,0.04994569194442561,0.05214011799409826,0.04711775664051107,0.03556091791026356,0.04830154159336458,0.05230913473222598,0.03844717133001847,0.0522165287616173,0.049175381329193205,0.00028209999175022335,0.04765520170703329,0.050752057427361115,0.05205062241218803,0.045580586938149655,0.00028209999175022335,0.05006935720863057,0.048477856039169,0.051792027594385615,0.03669925439857871,0.04965818946391883,0.00028209999175022335,0.04701463443456527,0.05066432662871591,0.0481575027257688,0.05237916530099266,0.04362360729280081,0.00028209999175022335,0.049391884449615266,0.05047602882516331,0.0474608280545897,0.04355978635308455,0.05210414116482201,0.04782567553405972,0.05253773492353162,0.05256446977348625,0.04866997884043634,0.0460108607192451,0.05252984969798957,0.03673784328546108,0.050035125095595094,0.034313094624934974,0.03300310927386245,0.0336142705525333,0.020260347337886085,0.04791286229339148,0.050635643047777755,0.00028209999175022335,0.05039966599553448,0.03855415086388417,0.05212396292505653,0.04699302224986867,0.048581439786663204,0.052125706526463186,0.050215559970299105,0.04493849903120712,0.04860529167418988,0.052320147068986265,0.00028209999175022335,0.050155051204354095,0.0468610380894393,0.05163843905310241,0.048420893562273706,0.052223748430868355,0.04993538752767388,0.05226003964351875,0.03953339041286629,0.02055820217303544,0.00028209999175022335,0.05006808964162342,0.047471063351592756,0.050586612619480706,0.052285753304925436,0.00028209999175022335,0.046556170944285616,0.04915545588933519,0.05071047855392382,0.039002837254205676,0.00028209999175022335,0.051743498841685075,0.04775435064225456,0.04136664347810439,0.04900708254458617,0.052216746154375805,0.04577994613118775,0.03721292450116569,0.052409137630796285,0.00028209999175022335,0.05001111490154702,0.04731677134963944,0.050777014116034656,0.05229060060602227,0.049399120841385896,0.03382992416894545,0.03703430680695622,0.00028209999175022335,0.044989740176632875,0.048031990180534855,0.051689466150273394,0.04987587430907926,0.05208847550819548,0.047200879827511324,0.04382048932322664,0.05137707498600706,0.03400747385155174,0.05257441744314726,0.05234201343598545,0.04955108172406745,0.046970977509323865,0.052542790698709776,0.05000692646773388,0.05218501461548044,0.02065385052742796,0.04833688742622403,0.04599076136518041,0.04986139595136464,0.04354369817412217,0.04612065855512807,0.04972397697197355,0.052557995928621905,0.03415318720080523,0.036946637324217296,0.05058603179062356,0.04855418988309673,0.033239948093297,0.00028209999175022335,0.05152691433833285],\"type\":\"scatter\",\"xaxis\":\"x3\",\"yaxis\":\"y3\"},{\"marker\":{\"color\":[0,1,2,3,4,5,6,7,8,9,10,11,12,13,14,15,16,17,18,19,20,21,22,23,24,25,26,27,28,29,30,31,32,33,34,35,36,37,38,39,40,41,42,43,44,45,46,47,48,49,50,51,52,53,54,55,56,57,58,59,60,61,62,63,64,65,66,67,68,69,70,71,72,73,74,75,76,77,78,79,80,81,82,83,84,85,86,87,88,89,90,91,92,93,94,95,96,97,98,99,100,101,102,103,104,105,106,107,108,109,110,111,112,113,114,115,116,117,118,119,120,121,122,123,124,125,126,127,128,129,130,131,132,133,134,135,136,137,138,139,140,141,142,143,144,145,146,147,148,149,150,151,152,153,154,155,156,157,158,159,160,161,162,163,164,165,166,167,168,169,170,171,172,173,174,175,176,177,178,179,180,181,182,183,184,185,186,187,188,189,190,191,192,193,194,195,196,197,198,199,200,201,202,203,204,205,206,207,208,209,210,211,212,213,214,215,216,217,218,219,220,221,222,223,224,225,226,227,228,229,230,231,232,233,234,235,236,237,238,239,240,241,242,243,244,245,246,247,248,249,250,251,252,253,254,255,256,257,258,259,260,261,262,263,264,265,266,267,268,269,270,271,272,273,274,275,276,277,278,279,280,281,282,283,284,285,286,287,288,289,290,291,292,293,294,295,296,297,298,299,300,301,302,303,304,305,306,307,308,309,310,311,312,313,314,315,316,317,318,319,320,321,322,323,324,325,326,327,328,329,330,331,332,333,334,335,336,337,338,339,340,341,342,343,344,345,346,347,348,349,350,351,352,353,354,355,356,357,358,359,360,361,362,363,364,365,366,367,368,369,370,371,372,373,374,375,376,377,378,379,380,381,382,383,384,385,386,387,388,389,390,391,392,393,394,395,396,397,398,399,400,401,402,403,404,405,406,407,408,409,410,411,412,413,414,415,416,417,418,419,420,421,422,423,424,425,426,427,428,429,430,431,432,433,434,435,436,437,438,439,440,441,442,443,444,445,446,447,448,449,450,451,452,453,454,455,456,457,458,459,460,461,462,463,464,465,466,467,468,469,470,471,472,473,474,475,476,477,478,479,480,481,482,483,484,485,486,487,488,489,490,491,492,493,494,495,496,497,498,499,500,501,502,503,504,505,506,507,508,509,510,511,512,513,514,515,516,517,518,519,520,521,522,523,524,525,526,527,528,529,530,531,532,533,534,535,536,537,538,539,540,541,542,543,544,545,546,547,548,549,550,551,552,553,554,555,556,557,558,559,560,561,562,563,564,565,566,567,568,569,570,571,572,573,574,575,576,577,578,579,580,581,582,583,584,585,586,587,588,589,590,591,592,593,594,595,596,597,598,599],\"colorbar\":{\"title\":{\"text\":\"Trial\"},\"x\":1.0,\"xpad\":40},\"colorscale\":[[0.0,\"rgb(247,251,255)\"],[0.125,\"rgb(222,235,247)\"],[0.25,\"rgb(198,219,239)\"],[0.375,\"rgb(158,202,225)\"],[0.5,\"rgb(107,174,214)\"],[0.625,\"rgb(66,146,198)\"],[0.75,\"rgb(33,113,181)\"],[0.875,\"rgb(8,81,156)\"],[1.0,\"rgb(8,48,107)\"]],\"line\":{\"color\":\"Grey\",\"width\":0.5},\"showscale\":false},\"mode\":\"markers\",\"name\":\"Feasible Trial\",\"showlegend\":false,\"x\":[1240,1268,870,1054,1371,305,284,582,1160,1333,909,893,705,582,561,515,71,12,29,17,199,20,163,342,16,419,151,131,1478,0,221,76,5,423,247,110,373,88,255,684,173,92,46,76,274,123,317,1174,196,1018,96,126,64,61,68,821,80,222,66,180,52,61,60,49,178,151,43,309,37,5,386,47,133,29,34,3,225,34,124,40,513,29,153,36,108,5,37,197,106,259,154,28,23,26,1,104,36,90,1323,141,27,94,49,33,29,956,0,175,126,28,680,27,76,21,87,24,122,71,21,212,78,16,0,99,25,1485,62,137,14,1,69,31,25,110,2,59,104,33,150,80,25,22,0,52,1152,26,85,60,21,108,161,26,0,57,28,76,48,124,25,83,822,29,22,1,59,25,0,90,49,624,109,27,26,55,477,24,24,74,55,19,88,18,0,48,25,0,69,45,101,28,66,0,23,23,50,0,86,26,49,25,122,26,64,29,71,1,43,93,20,52,0,29,29,67,23,49,84,27,20,1,107,49,27,0,70,39,25,63,22,86,52,0,25,26,53,23,74,25,2,48,0,31,43,24,68,24,0,55,88,26,50,24,84,0,52,1395,750,114,25,0,68,1095,45,95,23,59,0,36,76,32,111,54,22,23,0,78,53,30,86,138,49,23,22,1,67,104,42,22,0,69,47,24,88,1,375,48,68,28,126,993,28,94,54,0,0,67,31,542,45,96,23,0,68,31,51,78,26,331,447,108,909,23,0,52,25,71,46,136,25,83,21,49,0,1236,97,26,60,23,49,23,643,76,111,2,43,0,752,74,33,53,0,26,83,116,51,27,70,23,48,88,1,46,151,24,71,0,29,113,59,22,0,297,52,89,31,65,870,28,100,50,21,1434,2,77,46,1,131,44,82,31,0,62,29,95,58,23,27,68,0,111,40,25,67,46,0,94,27,67,27,0,50,88,172,130,47,802,24,1314,0,67,28,94,47,593,24,73,1,45,123,55,1,82,34,24,1099,66,25,91,237,54,25,103,0,55,26,1,72,48,0,114,44,84,152,26,57,25,72,1,44,0,43,93,29,70,30,108,0,59,32,77,28,124,56,0,53,27,99,714,75,25,50,25,65,0,90,39,27,133,0,52,77,30,497,56,0,104,44,80,24,26,0,62,44,94,186,24,60,21,22,72,124,22,2,51,954,1251,1195,1,84,44,0,47,409,27,105,74,26,49,148,74,25,0,50,105,31,76,25,53,24,72,1,0,51,91,45,25,0,110,65,43,360,0,31,85,261,55,26,121,72,24,0,53,93,41,25,62,1049,557,0,146,78,29,54,27,97,49,31,74,22,23,59,105,22,50,25,1,79,124,53,3,82,46,21,863,2,44,72,1,0,33],\"y\":[0.026439897033870327,0.03487950309589463,0.03404955105608191,0.03575589803276156,0.03482190627807867,0.029905137604041183,0.02620527227606833,0.02992433617170172,0.03461959165836014,0.03265141349886284,0.03626605417650371,0.036314046693733414,0.03705292566059388,0.037721862130625984,0.03766818841597467,0.03767605691899699,0.042706138502596996,0.04548248371783819,0.02057877421699597,0.04642285790094288,0.0402747119824642,0.045810624151330345,0.04071581192293221,0.039803561673766766,0.04564818716735939,0.03836943836859406,0.02691884226650314,0.045038471829241505,0.03457277752136456,0.00028209999175022335,0.042466717726092736,0.04216377144105594,0.04339842184005504,0.037996609787800846,0.039102759884680094,0.04111136417857713,0.03894964626296129,0.04310886806377577,0.028588602599347927,0.03711739431924718,0.04044177887477345,0.04671227455255944,0.0499208054903359,0.047704401590198786,0.04110919248066151,0.04614070551196392,0.03614812919595787,0.033104359672415914,0.043058429599304775,0.03572003157211605,0.04747547698200718,0.04593376209874155,0.04913950483503634,0.04922186101579093,0.04875024247653658,0.03572891457467824,0.048114301767902996,0.039221662575222,0.04861177778223528,0.04343702076044954,0.05003946514692218,0.049170351195212555,0.04921896244567789,0.049978608552564,0.04332941580434042,0.04397519046949989,0.05044443998510413,0.039884795216020064,0.0504332604231449,0.043211142995380994,0.037823326577433994,0.050115996316584664,0.04484037685870659,0.05168747505557268,0.05131877359268681,0.04392043870973329,0.041284447833540454,0.05148157066825263,0.04603171147186994,0.0500308296376547,0.035836500578597955,0.051655929694065315,0.04450834788192402,0.050827995504984694,0.04672582759750734,0.0499938193566497,0.04123215428419645,0.04281005558565462,0.04586056985888287,0.04151407590240134,0.044669806041064436,0.05114726296942715,0.052149027752692236,0.05167098553613323,0.02086482072343813,0.04595166745819788,0.050476618572697717,0.046980434651735174,0.032528770538040486,0.04397427073090628,0.03785599457744277,0.046099980601875395,0.04994096727514188,0.05086017743708228,0.05142499949832274,0.0327620095563615,0.00028209999175022335,0.04371660457037457,0.044906735162106505,0.05155876739420579,0.03477129947357398,0.05127247450930369,0.04786368136241557,0.05233988967596006,0.04735089755338207,0.05228674104843317,0.046021992343313924,0.04874247319379883,0.05253145840440208,0.04232615937230202,0.035773921564691516,0.053025623359797304,0.00028209999175022335,0.04702923430925792,0.05231757737509755,0.032771015190735955,0.04937572715090423,0.04540628922824291,0.05332611477891539,0.01669097786607284,0.048561217800786476,0.051494290931710145,0.05222898034992236,0.046597545802980346,0.036639159236292275,0.049484717846494414,0.046736198904338944,0.04908996381246523,0.04488187211954436,0.04803806379975599,0.052315226188801994,0.05256229027172812,0.00028209999175022335,0.049812029957835305,0.03319853644505884,0.052038343623255164,0.04766083385172987,0.049239788671940427,0.036573858910983484,0.046756748651605944,0.0442050381607888,0.052134081164420525,0.00028209999175022335,0.04966144478112261,0.05178529845238455,0.04813619377609944,0.05024351221970106,0.04592216335895071,0.052293871530911286,0.04804499026749167,0.035274473407847645,0.051658988800369274,0.05251371692564101,0.02018643380000288,0.04956132816941717,0.05220080178908453,0.00028209999175022335,0.04760971422328194,0.05031411692831666,0.03644101744270177,0.04075972303047583,0.05192472970833517,0.0520298184826187,0.049673079195622756,0.03707560362722458,0.05238286878172927,0.05234707924467548,0.04862709784011752,0.049861594391933765,0.05279444344109127,0.04778316465884765,0.05281176239751699,0.00028209999175022335,0.050282106680756423,0.052288947306223084,0.00028209999175022335,0.04890837508388954,0.05056842409202113,0.04693830839448045,0.051908302619636304,0.04916577814344171,0.00028209999175022335,0.05242786239372675,0.05245785813505832,0.05013604104375097,0.00028209999175022335,0.047897727298062624,0.05215019832908386,0.050257209078319785,0.052175580884597075,0.04590572066256699,0.05223213867651081,0.04930494852808221,0.05073509410319182,0.048777384241141426,0.02062464966320815,0.050709294599516196,0.04761659386796186,0.04537068363890785,0.049964030974564165,0.00028209999175022335,0.05172683763770782,0.05168442932728453,0.04906798707683486,0.0524643754584741,0.0502384731670429,0.04808183778263658,0.052043583346152215,0.05251039471835755,0.019503998911921182,0.0465467751177807,0.050190353558662006,0.05209020461675123,0.00028209999175022335,0.04879519372481683,0.050926668405807,0.05230871555439417,0.049315410136520785,0.052505144961949,0.047915064091842714,0.04995855490671976,0.00028209999175022335,0.05222464141342997,0.05216531102771952,0.049954770043052994,0.05243181113808841,0.048633034334676015,0.05056756566933367,0.03688004379070419,0.05034477599627035,0.00028209999175022335,0.05169930010679951,0.050751116506909166,0.052378990271951094,0.048959955139051395,0.05235828667750101,0.00028209999175022335,0.04977340874074769,0.04781270331796911,0.05213420268139845,0.050112771099916374,0.05226088803269414,0.04775108083220012,0.00028209999175022335,0.04994456373175096,0.032373760582566906,0.03520749860088138,0.04636864572115167,0.05217135231673613,0.00028209999175022335,0.04864697199758141,0.03280471329796975,0.05056014198534036,0.047384780723169505,0.05238426566955667,0.04954695683582973,0.00028209999175022335,0.0510660996617577,0.048513915366210185,0.05164681369105975,0.04663421828908386,0.0498941297266184,0.05245017692425851,0.05228631406675897,0.00028209999175022335,0.048275054236704217,0.049986130342007086,0.05169693554248773,0.04737255990563845,0.04513421048524147,0.049507306626352415,0.0525147916262523,0.05251900458642811,0.01992198610024119,0.049097077572423396,0.03347468656423502,0.05077931290510125,0.05238970160335334,0.00028209999175022335,0.048551467456859974,0.05028721262349424,0.052184281054275014,0.04771907058463989,0.02098988733480906,0.03931997315477999,0.05028831853947577,0.04872792906083948,0.051922293794605195,0.045853520759334694,0.03303755654998706,0.051779185813949954,0.04749448937227959,0.049879420598129186,0.00028209999175022335,0.00028209999175022335,0.04657031039226405,0.03876394490932908,0.037077098620502395,0.05060362722604427,0.04727254697355697,0.05246207778424221,0.00028209999175022335,0.048637823664370666,0.0515219455202582,0.05002795447906943,0.04818269241488607,0.05219580732981291,0.03978236755206695,0.03836120865914232,0.04602881513142628,0.03457975304182526,0.052395876672529054,0.00028209999175022335,0.04996866645707577,0.0519453965132412,0.04871469262893438,0.03746207109523434,0.04544820032240853,0.05208572967043062,0.04795510003411214,0.05260537305712022,0.04701988976514723,0.00028209999175022335,0.033338990004391375,0.04733282385389265,0.052150820406823534,0.04947184596552289,0.05247523060354756,0.045416497769214054,0.052426726377209174,0.036485482623070824,0.0484599885840909,0.0467000258641622,0.036345720261226774,0.05075054682639847,0.00028209999175022335,0.03197221720546533,0.04860630171439076,0.051541691471736276,0.04995664853945318,0.00028209999175022335,0.0521768183510684,0.04801235571252246,0.046422884656974785,0.05008759032947623,0.05215775913774032,0.048850682390292874,0.046225776315112876,0.050234154297574454,0.04773716100664944,0.020160677774879007,0.05047799204899731,0.044684072580194044,0.05222890119666173,0.0481755195686912,0.00028209999175022335,0.04320552199903077,0.04658697048140624,0.04955498253053892,0.05256432818948454,0.00028209999175022335,0.04025088462130049,0.049883052729447874,0.04764695973440014,0.051489848315594604,0.04917311598516655,0.03476351681282037,0.051908662711231124,0.04719688314525899,0.0500593493378979,0.047790317438018884,0.03257665937564696,0.03693640537171824,0.04844750912491972,0.05045434083170954,0.035276472306390624,0.04500522857454867,0.0506569196672424,0.048044737200024,0.051693515229754614,0.00028209999175022335,0.04909821916311431,0.051699598882487915,0.04745591274857878,0.04470236813178052,0.05242735514395696,0.051937667364551104,0.04874719897791813,0.00028209999175022335,0.04558183889747153,0.05091832944255851,0.05221154879519633,0.0491198447258268,0.05022755893573262,0.00028209999175022335,0.04722513974452283,0.0521061467523731,0.04902972595134235,0.051985581843354674,0.00028209999175022335,0.05014747478801238,0.04768422865704619,0.04405706392684752,0.04570909727378178,0.05048825744653629,0.033887971379963557,0.052279665192853424,0.03300511597624842,0.00028209999175022335,0.04834934012936378,0.05192404854435843,0.04713111235972424,0.05042908090800889,0.02611180453826854,0.050408532275576345,0.04864627299625001,0.02040481430199058,0.05054520208607697,0.046070474272958906,0.0497353683525178,0.020520900920184205,0.04771213631306158,0.05137448856959852,0.048577099735336166,0.03376092259256924,0.04916132772348353,0.052208615665208846,0.047662720151972704,0.04209302403360415,0.049865404896797756,0.05226939979531446,0.047103988432474035,0.00028209999175022335,0.049791133496989326,0.05216085280391873,0.020861389262358164,0.048708800727762194,0.05019858103844455,0.00028209999175022335,0.04649879374889743,0.05065078361728009,0.04754556663701038,0.04469094442103133,0.05190612088820903,0.04958088348416865,0.05229845127169003,0.04873581874572003,0.020641639743409334,0.050612357496258135,0.00028209999175022335,0.050691323464815204,0.040921920324995094,0.051699756074174874,0.048784856977859815,0.051726004856217866,0.04638779412125224,0.00028209999175022335,0.048446805664250116,0.05101114165757879,0.04837553316967363,0.051898281370887714,0.04538168817182574,0.04973682990075555,0.00028209999175022335,0.04994569194442561,0.05214011799409826,0.04711775664051107,0.03556091791026356,0.04830154159336458,0.05230913473222598,0.03844717133001847,0.0522165287616173,0.049175381329193205,0.00028209999175022335,0.04765520170703329,0.050752057427361115,0.05205062241218803,0.045580586938149655,0.00028209999175022335,0.05006935720863057,0.048477856039169,0.051792027594385615,0.03669925439857871,0.04965818946391883,0.00028209999175022335,0.04701463443456527,0.05066432662871591,0.0481575027257688,0.05237916530099266,0.04362360729280081,0.00028209999175022335,0.049391884449615266,0.05047602882516331,0.0474608280545897,0.04355978635308455,0.05210414116482201,0.04782567553405972,0.05253773492353162,0.05256446977348625,0.04866997884043634,0.0460108607192451,0.05252984969798957,0.03673784328546108,0.050035125095595094,0.034313094624934974,0.03300310927386245,0.0336142705525333,0.020260347337886085,0.04791286229339148,0.050635643047777755,0.00028209999175022335,0.05039966599553448,0.03855415086388417,0.05212396292505653,0.04699302224986867,0.048581439786663204,0.052125706526463186,0.050215559970299105,0.04493849903120712,0.04860529167418988,0.052320147068986265,0.00028209999175022335,0.050155051204354095,0.0468610380894393,0.05163843905310241,0.048420893562273706,0.052223748430868355,0.04993538752767388,0.05226003964351875,0.03953339041286629,0.02055820217303544,0.00028209999175022335,0.05006808964162342,0.047471063351592756,0.050586612619480706,0.052285753304925436,0.00028209999175022335,0.046556170944285616,0.04915545588933519,0.05071047855392382,0.039002837254205676,0.00028209999175022335,0.051743498841685075,0.04775435064225456,0.04136664347810439,0.04900708254458617,0.052216746154375805,0.04577994613118775,0.03721292450116569,0.052409137630796285,0.00028209999175022335,0.05001111490154702,0.04731677134963944,0.050777014116034656,0.05229060060602227,0.049399120841385896,0.03382992416894545,0.03703430680695622,0.00028209999175022335,0.044989740176632875,0.048031990180534855,0.051689466150273394,0.04987587430907926,0.05208847550819548,0.047200879827511324,0.04382048932322664,0.05137707498600706,0.03400747385155174,0.05257441744314726,0.05234201343598545,0.04955108172406745,0.046970977509323865,0.052542790698709776,0.05000692646773388,0.05218501461548044,0.02065385052742796,0.04833688742622403,0.04599076136518041,0.04986139595136464,0.04354369817412217,0.04612065855512807,0.04972397697197355,0.052557995928621905,0.03415318720080523,0.036946637324217296,0.05058603179062356,0.04855418988309673,0.033239948093297,0.00028209999175022335,0.05152691433833285],\"type\":\"scatter\",\"xaxis\":\"x4\",\"yaxis\":\"y4\"}],                        {\"template\":{\"data\":{\"histogram2dcontour\":[{\"type\":\"histogram2dcontour\",\"colorbar\":{\"outlinewidth\":0,\"ticks\":\"\"},\"colorscale\":[[0.0,\"#0d0887\"],[0.1111111111111111,\"#46039f\"],[0.2222222222222222,\"#7201a8\"],[0.3333333333333333,\"#9c179e\"],[0.4444444444444444,\"#bd3786\"],[0.5555555555555556,\"#d8576b\"],[0.6666666666666666,\"#ed7953\"],[0.7777777777777778,\"#fb9f3a\"],[0.8888888888888888,\"#fdca26\"],[1.0,\"#f0f921\"]]}],\"choropleth\":[{\"type\":\"choropleth\",\"colorbar\":{\"outlinewidth\":0,\"ticks\":\"\"}}],\"histogram2d\":[{\"type\":\"histogram2d\",\"colorbar\":{\"outlinewidth\":0,\"ticks\":\"\"},\"colorscale\":[[0.0,\"#0d0887\"],[0.1111111111111111,\"#46039f\"],[0.2222222222222222,\"#7201a8\"],[0.3333333333333333,\"#9c179e\"],[0.4444444444444444,\"#bd3786\"],[0.5555555555555556,\"#d8576b\"],[0.6666666666666666,\"#ed7953\"],[0.7777777777777778,\"#fb9f3a\"],[0.8888888888888888,\"#fdca26\"],[1.0,\"#f0f921\"]]}],\"heatmap\":[{\"type\":\"heatmap\",\"colorbar\":{\"outlinewidth\":0,\"ticks\":\"\"},\"colorscale\":[[0.0,\"#0d0887\"],[0.1111111111111111,\"#46039f\"],[0.2222222222222222,\"#7201a8\"],[0.3333333333333333,\"#9c179e\"],[0.4444444444444444,\"#bd3786\"],[0.5555555555555556,\"#d8576b\"],[0.6666666666666666,\"#ed7953\"],[0.7777777777777778,\"#fb9f3a\"],[0.8888888888888888,\"#fdca26\"],[1.0,\"#f0f921\"]]}],\"heatmapgl\":[{\"type\":\"heatmapgl\",\"colorbar\":{\"outlinewidth\":0,\"ticks\":\"\"},\"colorscale\":[[0.0,\"#0d0887\"],[0.1111111111111111,\"#46039f\"],[0.2222222222222222,\"#7201a8\"],[0.3333333333333333,\"#9c179e\"],[0.4444444444444444,\"#bd3786\"],[0.5555555555555556,\"#d8576b\"],[0.6666666666666666,\"#ed7953\"],[0.7777777777777778,\"#fb9f3a\"],[0.8888888888888888,\"#fdca26\"],[1.0,\"#f0f921\"]]}],\"contourcarpet\":[{\"type\":\"contourcarpet\",\"colorbar\":{\"outlinewidth\":0,\"ticks\":\"\"}}],\"contour\":[{\"type\":\"contour\",\"colorbar\":{\"outlinewidth\":0,\"ticks\":\"\"},\"colorscale\":[[0.0,\"#0d0887\"],[0.1111111111111111,\"#46039f\"],[0.2222222222222222,\"#7201a8\"],[0.3333333333333333,\"#9c179e\"],[0.4444444444444444,\"#bd3786\"],[0.5555555555555556,\"#d8576b\"],[0.6666666666666666,\"#ed7953\"],[0.7777777777777778,\"#fb9f3a\"],[0.8888888888888888,\"#fdca26\"],[1.0,\"#f0f921\"]]}],\"surface\":[{\"type\":\"surface\",\"colorbar\":{\"outlinewidth\":0,\"ticks\":\"\"},\"colorscale\":[[0.0,\"#0d0887\"],[0.1111111111111111,\"#46039f\"],[0.2222222222222222,\"#7201a8\"],[0.3333333333333333,\"#9c179e\"],[0.4444444444444444,\"#bd3786\"],[0.5555555555555556,\"#d8576b\"],[0.6666666666666666,\"#ed7953\"],[0.7777777777777778,\"#fb9f3a\"],[0.8888888888888888,\"#fdca26\"],[1.0,\"#f0f921\"]]}],\"mesh3d\":[{\"type\":\"mesh3d\",\"colorbar\":{\"outlinewidth\":0,\"ticks\":\"\"}}],\"scatter\":[{\"fillpattern\":{\"fillmode\":\"overlay\",\"size\":10,\"solidity\":0.2},\"type\":\"scatter\"}],\"parcoords\":[{\"type\":\"parcoords\",\"line\":{\"colorbar\":{\"outlinewidth\":0,\"ticks\":\"\"}}}],\"scatterpolargl\":[{\"type\":\"scatterpolargl\",\"marker\":{\"colorbar\":{\"outlinewidth\":0,\"ticks\":\"\"}}}],\"bar\":[{\"error_x\":{\"color\":\"#2a3f5f\"},\"error_y\":{\"color\":\"#2a3f5f\"},\"marker\":{\"line\":{\"color\":\"#E5ECF6\",\"width\":0.5},\"pattern\":{\"fillmode\":\"overlay\",\"size\":10,\"solidity\":0.2}},\"type\":\"bar\"}],\"scattergeo\":[{\"type\":\"scattergeo\",\"marker\":{\"colorbar\":{\"outlinewidth\":0,\"ticks\":\"\"}}}],\"scatterpolar\":[{\"type\":\"scatterpolar\",\"marker\":{\"colorbar\":{\"outlinewidth\":0,\"ticks\":\"\"}}}],\"histogram\":[{\"marker\":{\"pattern\":{\"fillmode\":\"overlay\",\"size\":10,\"solidity\":0.2}},\"type\":\"histogram\"}],\"scattergl\":[{\"type\":\"scattergl\",\"marker\":{\"colorbar\":{\"outlinewidth\":0,\"ticks\":\"\"}}}],\"scatter3d\":[{\"type\":\"scatter3d\",\"line\":{\"colorbar\":{\"outlinewidth\":0,\"ticks\":\"\"}},\"marker\":{\"colorbar\":{\"outlinewidth\":0,\"ticks\":\"\"}}}],\"scattermapbox\":[{\"type\":\"scattermapbox\",\"marker\":{\"colorbar\":{\"outlinewidth\":0,\"ticks\":\"\"}}}],\"scatterternary\":[{\"type\":\"scatterternary\",\"marker\":{\"colorbar\":{\"outlinewidth\":0,\"ticks\":\"\"}}}],\"scattercarpet\":[{\"type\":\"scattercarpet\",\"marker\":{\"colorbar\":{\"outlinewidth\":0,\"ticks\":\"\"}}}],\"carpet\":[{\"aaxis\":{\"endlinecolor\":\"#2a3f5f\",\"gridcolor\":\"white\",\"linecolor\":\"white\",\"minorgridcolor\":\"white\",\"startlinecolor\":\"#2a3f5f\"},\"baxis\":{\"endlinecolor\":\"#2a3f5f\",\"gridcolor\":\"white\",\"linecolor\":\"white\",\"minorgridcolor\":\"white\",\"startlinecolor\":\"#2a3f5f\"},\"type\":\"carpet\"}],\"table\":[{\"cells\":{\"fill\":{\"color\":\"#EBF0F8\"},\"line\":{\"color\":\"white\"}},\"header\":{\"fill\":{\"color\":\"#C8D4E3\"},\"line\":{\"color\":\"white\"}},\"type\":\"table\"}],\"barpolar\":[{\"marker\":{\"line\":{\"color\":\"#E5ECF6\",\"width\":0.5},\"pattern\":{\"fillmode\":\"overlay\",\"size\":10,\"solidity\":0.2}},\"type\":\"barpolar\"}],\"pie\":[{\"automargin\":true,\"type\":\"pie\"}]},\"layout\":{\"autotypenumbers\":\"strict\",\"colorway\":[\"#636efa\",\"#EF553B\",\"#00cc96\",\"#ab63fa\",\"#FFA15A\",\"#19d3f3\",\"#FF6692\",\"#B6E880\",\"#FF97FF\",\"#FECB52\"],\"font\":{\"color\":\"#2a3f5f\"},\"hovermode\":\"closest\",\"hoverlabel\":{\"align\":\"left\"},\"paper_bgcolor\":\"white\",\"plot_bgcolor\":\"#E5ECF6\",\"polar\":{\"bgcolor\":\"#E5ECF6\",\"angularaxis\":{\"gridcolor\":\"white\",\"linecolor\":\"white\",\"ticks\":\"\"},\"radialaxis\":{\"gridcolor\":\"white\",\"linecolor\":\"white\",\"ticks\":\"\"}},\"ternary\":{\"bgcolor\":\"#E5ECF6\",\"aaxis\":{\"gridcolor\":\"white\",\"linecolor\":\"white\",\"ticks\":\"\"},\"baxis\":{\"gridcolor\":\"white\",\"linecolor\":\"white\",\"ticks\":\"\"},\"caxis\":{\"gridcolor\":\"white\",\"linecolor\":\"white\",\"ticks\":\"\"}},\"coloraxis\":{\"colorbar\":{\"outlinewidth\":0,\"ticks\":\"\"}},\"colorscale\":{\"sequential\":[[0.0,\"#0d0887\"],[0.1111111111111111,\"#46039f\"],[0.2222222222222222,\"#7201a8\"],[0.3333333333333333,\"#9c179e\"],[0.4444444444444444,\"#bd3786\"],[0.5555555555555556,\"#d8576b\"],[0.6666666666666666,\"#ed7953\"],[0.7777777777777778,\"#fb9f3a\"],[0.8888888888888888,\"#fdca26\"],[1.0,\"#f0f921\"]],\"sequentialminus\":[[0.0,\"#0d0887\"],[0.1111111111111111,\"#46039f\"],[0.2222222222222222,\"#7201a8\"],[0.3333333333333333,\"#9c179e\"],[0.4444444444444444,\"#bd3786\"],[0.5555555555555556,\"#d8576b\"],[0.6666666666666666,\"#ed7953\"],[0.7777777777777778,\"#fb9f3a\"],[0.8888888888888888,\"#fdca26\"],[1.0,\"#f0f921\"]],\"diverging\":[[0,\"#8e0152\"],[0.1,\"#c51b7d\"],[0.2,\"#de77ae\"],[0.3,\"#f1b6da\"],[0.4,\"#fde0ef\"],[0.5,\"#f7f7f7\"],[0.6,\"#e6f5d0\"],[0.7,\"#b8e186\"],[0.8,\"#7fbc41\"],[0.9,\"#4d9221\"],[1,\"#276419\"]]},\"xaxis\":{\"gridcolor\":\"white\",\"linecolor\":\"white\",\"ticks\":\"\",\"title\":{\"standoff\":15},\"zerolinecolor\":\"white\",\"automargin\":true,\"zerolinewidth\":2},\"yaxis\":{\"gridcolor\":\"white\",\"linecolor\":\"white\",\"ticks\":\"\",\"title\":{\"standoff\":15},\"zerolinecolor\":\"white\",\"automargin\":true,\"zerolinewidth\":2},\"scene\":{\"xaxis\":{\"backgroundcolor\":\"#E5ECF6\",\"gridcolor\":\"white\",\"linecolor\":\"white\",\"showbackground\":true,\"ticks\":\"\",\"zerolinecolor\":\"white\",\"gridwidth\":2},\"yaxis\":{\"backgroundcolor\":\"#E5ECF6\",\"gridcolor\":\"white\",\"linecolor\":\"white\",\"showbackground\":true,\"ticks\":\"\",\"zerolinecolor\":\"white\",\"gridwidth\":2},\"zaxis\":{\"backgroundcolor\":\"#E5ECF6\",\"gridcolor\":\"white\",\"linecolor\":\"white\",\"showbackground\":true,\"ticks\":\"\",\"zerolinecolor\":\"white\",\"gridwidth\":2}},\"shapedefaults\":{\"line\":{\"color\":\"#2a3f5f\"}},\"annotationdefaults\":{\"arrowcolor\":\"#2a3f5f\",\"arrowhead\":0,\"arrowwidth\":1},\"geo\":{\"bgcolor\":\"white\",\"landcolor\":\"#E5ECF6\",\"subunitcolor\":\"white\",\"showland\":true,\"showlakes\":true,\"lakecolor\":\"white\"},\"title\":{\"x\":0.05},\"mapbox\":{\"style\":\"light\"}}},\"xaxis\":{\"anchor\":\"y\",\"domain\":[0.0,0.2125],\"title\":{\"text\":\"alpha\"}},\"yaxis\":{\"anchor\":\"x\",\"domain\":[0.0,1.0],\"title\":{\"text\":\"Objective Value\"}},\"xaxis2\":{\"anchor\":\"y2\",\"domain\":[0.2625,0.475],\"title\":{\"text\":\"implicit\"},\"type\":\"category\",\"categoryorder\":\"array\",\"categoryarray\":[true,false]},\"yaxis2\":{\"anchor\":\"x2\",\"domain\":[0.0,1.0],\"matches\":\"y\",\"showticklabels\":false},\"xaxis3\":{\"anchor\":\"y3\",\"domain\":[0.525,0.7375],\"title\":{\"text\":\"normalize_similarity\"},\"type\":\"category\",\"categoryorder\":\"array\",\"categoryarray\":[true,false]},\"yaxis3\":{\"anchor\":\"x3\",\"domain\":[0.0,1.0],\"matches\":\"y\",\"showticklabels\":false},\"xaxis4\":{\"anchor\":\"y4\",\"domain\":[0.7875,1.0],\"title\":{\"text\":\"topK\"}},\"yaxis4\":{\"anchor\":\"x4\",\"domain\":[0.0,1.0],\"matches\":\"y\",\"showticklabels\":false},\"title\":{\"text\":\"Slice Plot\"},\"width\":1200},                        {\"responsive\": true}                    ).then(function(){\n",
       "                            \n",
       "var gd = document.getElementById('d023c856-51af-475d-a3df-c0e78964a0f0');\n",
       "var x = new MutationObserver(function (mutations, observer) {{\n",
       "        var display = window.getComputedStyle(gd).display;\n",
       "        if (!display || display === 'none') {{\n",
       "            console.log([gd, 'removed!']);\n",
       "            Plotly.purge(gd);\n",
       "            observer.disconnect();\n",
       "        }}\n",
       "}});\n",
       "\n",
       "// Listen for the removal of the full notebook cells\n",
       "var notebookContainer = gd.closest('#notebook-container');\n",
       "if (notebookContainer) {{\n",
       "    x.observe(notebookContainer, {childList: true});\n",
       "}}\n",
       "\n",
       "// Listen for the clearing of the current output cell\n",
       "var outputEl = gd.closest('.output');\n",
       "if (outputEl) {{\n",
       "    x.observe(outputEl, {childList: true});\n",
       "}}\n",
       "\n",
       "                        })                };                });            </script>        </div>"
      ]
     },
     "metadata": {},
     "output_type": "display_data"
    }
   ],
   "source": [
    "if not config['tune_parameters']:\n",
    "    optuna_study = optuna.load_study(study_name=f'hyperparameters_tuning_{config[\"model\"]}', storage=f'sqlite:///{config[\"database_path\"]}')\n",
    "    \n",
    "fig = optuna.visualization.plot_slice(optuna_study)\n",
    "fig.show()"
   ]
  },
  {
   "cell_type": "code",
   "execution_count": 15,
   "id": "1d7ddd4a",
   "metadata": {
    "execution": {
     "iopub.execute_input": "2024-12-02T21:37:54.899340Z",
     "iopub.status.busy": "2024-12-02T21:37:54.898883Z",
     "iopub.status.idle": "2024-12-02T21:38:10.842684Z",
     "shell.execute_reply": "2024-12-02T21:38:10.841477Z"
    },
    "papermill": {
     "duration": 16.000139,
     "end_time": "2024-12-02T21:38:10.845374",
     "exception": false,
     "start_time": "2024-12-02T21:37:54.845235",
     "status": "completed"
    },
    "tags": []
   },
   "outputs": [
    {
     "data": {
      "text/html": [
       "<div>                            <div id=\"60816eae-9fef-4b8f-ab42-ec329e03aeaf\" class=\"plotly-graph-div\" style=\"height:525px; width:100%;\"></div>            <script type=\"text/javascript\">                require([\"plotly\"], function(Plotly) {                    window.PLOTLYENV=window.PLOTLYENV || {};                                    if (document.getElementById(\"60816eae-9fef-4b8f-ab42-ec329e03aeaf\")) {                    Plotly.newPlot(                        \"60816eae-9fef-4b8f-ab42-ec329e03aeaf\",                        [{\"cliponaxis\":false,\"hovertemplate\":[\"implicit (CategoricalDistribution): 0.02734477466072293\\u003cextra\\u003e\\u003c\\u002fextra\\u003e\",\"alpha (FloatDistribution): 0.07728519390038398\\u003cextra\\u003e\\u003c\\u002fextra\\u003e\",\"normalize_similarity (CategoricalDistribution): 0.3603768178154948\\u003cextra\\u003e\\u003c\\u002fextra\\u003e\",\"topK (IntDistribution): 0.5349932136233982\\u003cextra\\u003e\\u003c\\u002fextra\\u003e\"],\"name\":\"Objective Value\",\"orientation\":\"h\",\"text\":[\"0.03\",\"0.08\",\"0.36\",\"0.53\"],\"textposition\":\"outside\",\"x\":[0.02734477466072293,0.07728519390038398,0.3603768178154948,0.5349932136233982],\"y\":[\"implicit\",\"alpha\",\"normalize_similarity\",\"topK\"],\"type\":\"bar\"}],                        {\"title\":{\"text\":\"Hyperparameter Importances\"},\"xaxis\":{\"title\":{\"text\":\"Hyperparameter Importance\"}},\"yaxis\":{\"title\":{\"text\":\"Hyperparameter\"}},\"template\":{\"data\":{\"histogram2dcontour\":[{\"type\":\"histogram2dcontour\",\"colorbar\":{\"outlinewidth\":0,\"ticks\":\"\"},\"colorscale\":[[0.0,\"#0d0887\"],[0.1111111111111111,\"#46039f\"],[0.2222222222222222,\"#7201a8\"],[0.3333333333333333,\"#9c179e\"],[0.4444444444444444,\"#bd3786\"],[0.5555555555555556,\"#d8576b\"],[0.6666666666666666,\"#ed7953\"],[0.7777777777777778,\"#fb9f3a\"],[0.8888888888888888,\"#fdca26\"],[1.0,\"#f0f921\"]]}],\"choropleth\":[{\"type\":\"choropleth\",\"colorbar\":{\"outlinewidth\":0,\"ticks\":\"\"}}],\"histogram2d\":[{\"type\":\"histogram2d\",\"colorbar\":{\"outlinewidth\":0,\"ticks\":\"\"},\"colorscale\":[[0.0,\"#0d0887\"],[0.1111111111111111,\"#46039f\"],[0.2222222222222222,\"#7201a8\"],[0.3333333333333333,\"#9c179e\"],[0.4444444444444444,\"#bd3786\"],[0.5555555555555556,\"#d8576b\"],[0.6666666666666666,\"#ed7953\"],[0.7777777777777778,\"#fb9f3a\"],[0.8888888888888888,\"#fdca26\"],[1.0,\"#f0f921\"]]}],\"heatmap\":[{\"type\":\"heatmap\",\"colorbar\":{\"outlinewidth\":0,\"ticks\":\"\"},\"colorscale\":[[0.0,\"#0d0887\"],[0.1111111111111111,\"#46039f\"],[0.2222222222222222,\"#7201a8\"],[0.3333333333333333,\"#9c179e\"],[0.4444444444444444,\"#bd3786\"],[0.5555555555555556,\"#d8576b\"],[0.6666666666666666,\"#ed7953\"],[0.7777777777777778,\"#fb9f3a\"],[0.8888888888888888,\"#fdca26\"],[1.0,\"#f0f921\"]]}],\"heatmapgl\":[{\"type\":\"heatmapgl\",\"colorbar\":{\"outlinewidth\":0,\"ticks\":\"\"},\"colorscale\":[[0.0,\"#0d0887\"],[0.1111111111111111,\"#46039f\"],[0.2222222222222222,\"#7201a8\"],[0.3333333333333333,\"#9c179e\"],[0.4444444444444444,\"#bd3786\"],[0.5555555555555556,\"#d8576b\"],[0.6666666666666666,\"#ed7953\"],[0.7777777777777778,\"#fb9f3a\"],[0.8888888888888888,\"#fdca26\"],[1.0,\"#f0f921\"]]}],\"contourcarpet\":[{\"type\":\"contourcarpet\",\"colorbar\":{\"outlinewidth\":0,\"ticks\":\"\"}}],\"contour\":[{\"type\":\"contour\",\"colorbar\":{\"outlinewidth\":0,\"ticks\":\"\"},\"colorscale\":[[0.0,\"#0d0887\"],[0.1111111111111111,\"#46039f\"],[0.2222222222222222,\"#7201a8\"],[0.3333333333333333,\"#9c179e\"],[0.4444444444444444,\"#bd3786\"],[0.5555555555555556,\"#d8576b\"],[0.6666666666666666,\"#ed7953\"],[0.7777777777777778,\"#fb9f3a\"],[0.8888888888888888,\"#fdca26\"],[1.0,\"#f0f921\"]]}],\"surface\":[{\"type\":\"surface\",\"colorbar\":{\"outlinewidth\":0,\"ticks\":\"\"},\"colorscale\":[[0.0,\"#0d0887\"],[0.1111111111111111,\"#46039f\"],[0.2222222222222222,\"#7201a8\"],[0.3333333333333333,\"#9c179e\"],[0.4444444444444444,\"#bd3786\"],[0.5555555555555556,\"#d8576b\"],[0.6666666666666666,\"#ed7953\"],[0.7777777777777778,\"#fb9f3a\"],[0.8888888888888888,\"#fdca26\"],[1.0,\"#f0f921\"]]}],\"mesh3d\":[{\"type\":\"mesh3d\",\"colorbar\":{\"outlinewidth\":0,\"ticks\":\"\"}}],\"scatter\":[{\"fillpattern\":{\"fillmode\":\"overlay\",\"size\":10,\"solidity\":0.2},\"type\":\"scatter\"}],\"parcoords\":[{\"type\":\"parcoords\",\"line\":{\"colorbar\":{\"outlinewidth\":0,\"ticks\":\"\"}}}],\"scatterpolargl\":[{\"type\":\"scatterpolargl\",\"marker\":{\"colorbar\":{\"outlinewidth\":0,\"ticks\":\"\"}}}],\"bar\":[{\"error_x\":{\"color\":\"#2a3f5f\"},\"error_y\":{\"color\":\"#2a3f5f\"},\"marker\":{\"line\":{\"color\":\"#E5ECF6\",\"width\":0.5},\"pattern\":{\"fillmode\":\"overlay\",\"size\":10,\"solidity\":0.2}},\"type\":\"bar\"}],\"scattergeo\":[{\"type\":\"scattergeo\",\"marker\":{\"colorbar\":{\"outlinewidth\":0,\"ticks\":\"\"}}}],\"scatterpolar\":[{\"type\":\"scatterpolar\",\"marker\":{\"colorbar\":{\"outlinewidth\":0,\"ticks\":\"\"}}}],\"histogram\":[{\"marker\":{\"pattern\":{\"fillmode\":\"overlay\",\"size\":10,\"solidity\":0.2}},\"type\":\"histogram\"}],\"scattergl\":[{\"type\":\"scattergl\",\"marker\":{\"colorbar\":{\"outlinewidth\":0,\"ticks\":\"\"}}}],\"scatter3d\":[{\"type\":\"scatter3d\",\"line\":{\"colorbar\":{\"outlinewidth\":0,\"ticks\":\"\"}},\"marker\":{\"colorbar\":{\"outlinewidth\":0,\"ticks\":\"\"}}}],\"scattermapbox\":[{\"type\":\"scattermapbox\",\"marker\":{\"colorbar\":{\"outlinewidth\":0,\"ticks\":\"\"}}}],\"scatterternary\":[{\"type\":\"scatterternary\",\"marker\":{\"colorbar\":{\"outlinewidth\":0,\"ticks\":\"\"}}}],\"scattercarpet\":[{\"type\":\"scattercarpet\",\"marker\":{\"colorbar\":{\"outlinewidth\":0,\"ticks\":\"\"}}}],\"carpet\":[{\"aaxis\":{\"endlinecolor\":\"#2a3f5f\",\"gridcolor\":\"white\",\"linecolor\":\"white\",\"minorgridcolor\":\"white\",\"startlinecolor\":\"#2a3f5f\"},\"baxis\":{\"endlinecolor\":\"#2a3f5f\",\"gridcolor\":\"white\",\"linecolor\":\"white\",\"minorgridcolor\":\"white\",\"startlinecolor\":\"#2a3f5f\"},\"type\":\"carpet\"}],\"table\":[{\"cells\":{\"fill\":{\"color\":\"#EBF0F8\"},\"line\":{\"color\":\"white\"}},\"header\":{\"fill\":{\"color\":\"#C8D4E3\"},\"line\":{\"color\":\"white\"}},\"type\":\"table\"}],\"barpolar\":[{\"marker\":{\"line\":{\"color\":\"#E5ECF6\",\"width\":0.5},\"pattern\":{\"fillmode\":\"overlay\",\"size\":10,\"solidity\":0.2}},\"type\":\"barpolar\"}],\"pie\":[{\"automargin\":true,\"type\":\"pie\"}]},\"layout\":{\"autotypenumbers\":\"strict\",\"colorway\":[\"#636efa\",\"#EF553B\",\"#00cc96\",\"#ab63fa\",\"#FFA15A\",\"#19d3f3\",\"#FF6692\",\"#B6E880\",\"#FF97FF\",\"#FECB52\"],\"font\":{\"color\":\"#2a3f5f\"},\"hovermode\":\"closest\",\"hoverlabel\":{\"align\":\"left\"},\"paper_bgcolor\":\"white\",\"plot_bgcolor\":\"#E5ECF6\",\"polar\":{\"bgcolor\":\"#E5ECF6\",\"angularaxis\":{\"gridcolor\":\"white\",\"linecolor\":\"white\",\"ticks\":\"\"},\"radialaxis\":{\"gridcolor\":\"white\",\"linecolor\":\"white\",\"ticks\":\"\"}},\"ternary\":{\"bgcolor\":\"#E5ECF6\",\"aaxis\":{\"gridcolor\":\"white\",\"linecolor\":\"white\",\"ticks\":\"\"},\"baxis\":{\"gridcolor\":\"white\",\"linecolor\":\"white\",\"ticks\":\"\"},\"caxis\":{\"gridcolor\":\"white\",\"linecolor\":\"white\",\"ticks\":\"\"}},\"coloraxis\":{\"colorbar\":{\"outlinewidth\":0,\"ticks\":\"\"}},\"colorscale\":{\"sequential\":[[0.0,\"#0d0887\"],[0.1111111111111111,\"#46039f\"],[0.2222222222222222,\"#7201a8\"],[0.3333333333333333,\"#9c179e\"],[0.4444444444444444,\"#bd3786\"],[0.5555555555555556,\"#d8576b\"],[0.6666666666666666,\"#ed7953\"],[0.7777777777777778,\"#fb9f3a\"],[0.8888888888888888,\"#fdca26\"],[1.0,\"#f0f921\"]],\"sequentialminus\":[[0.0,\"#0d0887\"],[0.1111111111111111,\"#46039f\"],[0.2222222222222222,\"#7201a8\"],[0.3333333333333333,\"#9c179e\"],[0.4444444444444444,\"#bd3786\"],[0.5555555555555556,\"#d8576b\"],[0.6666666666666666,\"#ed7953\"],[0.7777777777777778,\"#fb9f3a\"],[0.8888888888888888,\"#fdca26\"],[1.0,\"#f0f921\"]],\"diverging\":[[0,\"#8e0152\"],[0.1,\"#c51b7d\"],[0.2,\"#de77ae\"],[0.3,\"#f1b6da\"],[0.4,\"#fde0ef\"],[0.5,\"#f7f7f7\"],[0.6,\"#e6f5d0\"],[0.7,\"#b8e186\"],[0.8,\"#7fbc41\"],[0.9,\"#4d9221\"],[1,\"#276419\"]]},\"xaxis\":{\"gridcolor\":\"white\",\"linecolor\":\"white\",\"ticks\":\"\",\"title\":{\"standoff\":15},\"zerolinecolor\":\"white\",\"automargin\":true,\"zerolinewidth\":2},\"yaxis\":{\"gridcolor\":\"white\",\"linecolor\":\"white\",\"ticks\":\"\",\"title\":{\"standoff\":15},\"zerolinecolor\":\"white\",\"automargin\":true,\"zerolinewidth\":2},\"scene\":{\"xaxis\":{\"backgroundcolor\":\"#E5ECF6\",\"gridcolor\":\"white\",\"linecolor\":\"white\",\"showbackground\":true,\"ticks\":\"\",\"zerolinecolor\":\"white\",\"gridwidth\":2},\"yaxis\":{\"backgroundcolor\":\"#E5ECF6\",\"gridcolor\":\"white\",\"linecolor\":\"white\",\"showbackground\":true,\"ticks\":\"\",\"zerolinecolor\":\"white\",\"gridwidth\":2},\"zaxis\":{\"backgroundcolor\":\"#E5ECF6\",\"gridcolor\":\"white\",\"linecolor\":\"white\",\"showbackground\":true,\"ticks\":\"\",\"zerolinecolor\":\"white\",\"gridwidth\":2}},\"shapedefaults\":{\"line\":{\"color\":\"#2a3f5f\"}},\"annotationdefaults\":{\"arrowcolor\":\"#2a3f5f\",\"arrowhead\":0,\"arrowwidth\":1},\"geo\":{\"bgcolor\":\"white\",\"landcolor\":\"#E5ECF6\",\"subunitcolor\":\"white\",\"showland\":true,\"showlakes\":true,\"lakecolor\":\"white\"},\"title\":{\"x\":0.05},\"mapbox\":{\"style\":\"light\"}}}},                        {\"responsive\": true}                    ).then(function(){\n",
       "                            \n",
       "var gd = document.getElementById('60816eae-9fef-4b8f-ab42-ec329e03aeaf');\n",
       "var x = new MutationObserver(function (mutations, observer) {{\n",
       "        var display = window.getComputedStyle(gd).display;\n",
       "        if (!display || display === 'none') {{\n",
       "            console.log([gd, 'removed!']);\n",
       "            Plotly.purge(gd);\n",
       "            observer.disconnect();\n",
       "        }}\n",
       "}});\n",
       "\n",
       "// Listen for the removal of the full notebook cells\n",
       "var notebookContainer = gd.closest('#notebook-container');\n",
       "if (notebookContainer) {{\n",
       "    x.observe(notebookContainer, {childList: true});\n",
       "}}\n",
       "\n",
       "// Listen for the clearing of the current output cell\n",
       "var outputEl = gd.closest('.output');\n",
       "if (outputEl) {{\n",
       "    x.observe(outputEl, {childList: true});\n",
       "}}\n",
       "\n",
       "                        })                };                });            </script>        </div>"
      ]
     },
     "metadata": {},
     "output_type": "display_data"
    }
   ],
   "source": [
    "if not config['tune_parameters']:\n",
    "    optuna_study = optuna.load_study(study_name=f'hyperparameters_tuning_{config[\"model\"]}', storage=f'sqlite:///{config[\"database_path\"]}')\n",
    "    \n",
    "fig = optuna.visualization.plot_param_importances(optuna_study)\n",
    "fig.show()"
   ]
  },
  {
   "cell_type": "markdown",
   "id": "277886da",
   "metadata": {
    "papermill": {
     "duration": 0.047635,
     "end_time": "2024-12-02T21:38:10.940723",
     "exception": false,
     "start_time": "2024-12-02T21:38:10.893088",
     "status": "completed"
    },
    "tags": []
   },
   "source": [
    "## Let's train the recommender with best parameter values"
   ]
  },
  {
   "cell_type": "code",
   "execution_count": 16,
   "id": "c3061954",
   "metadata": {
    "execution": {
     "iopub.execute_input": "2024-12-02T21:38:11.038387Z",
     "iopub.status.busy": "2024-12-02T21:38:11.037984Z",
     "iopub.status.idle": "2024-12-02T21:38:30.552944Z",
     "shell.execute_reply": "2024-12-02T21:38:30.551727Z"
    },
    "papermill": {
     "duration": 19.567384,
     "end_time": "2024-12-02T21:38:30.555719",
     "exception": false,
     "start_time": "2024-12-02T21:38:10.988335",
     "status": "completed"
    },
    "tags": []
   },
   "outputs": [
    {
     "name": "stdout",
     "output_type": "stream",
     "text": [
      "P3alphaRecommender: Similarity column 38121 (100.0%), 2064.56 column/sec. Elapsed time 18.46 sec\n"
     ]
    }
   ],
   "source": [
    "if config['tune_best_params']:\n",
    "\n",
    "    if config['tune_parameters']:\n",
    "        best_params = optuna_study.best_trial.params\n",
    "    else: \n",
    "        with open(f'{K_PATH}/{GH_PATH}/{config[\"model\"]}Recommender/best_params_{config[\"model\"]}.json', 'r') as best_params_json:\n",
    "            best_params = json.load(best_params_json)\n",
    "\n",
    "    recommender_instance = P3alphaRecommender(URM_train + URM_validation)\n",
    "    recommender_instance.fit(**best_params)"
   ]
  },
  {
   "cell_type": "markdown",
   "id": "0b3de221",
   "metadata": {
    "papermill": {
     "duration": 0.04682,
     "end_time": "2024-12-02T21:38:30.651086",
     "exception": false,
     "start_time": "2024-12-02T21:38:30.604266",
     "status": "completed"
    },
    "tags": []
   },
   "source": [
    "# Testing"
   ]
  },
  {
   "cell_type": "markdown",
   "id": "fe5c9dff",
   "metadata": {
    "papermill": {
     "duration": 0.046339,
     "end_time": "2024-12-02T21:38:30.744879",
     "exception": false,
     "start_time": "2024-12-02T21:38:30.698540",
     "status": "completed"
    },
    "tags": []
   },
   "source": [
    "Create the recommendations for the submission. "
   ]
  },
  {
   "cell_type": "code",
   "execution_count": 17,
   "id": "4db1feb3",
   "metadata": {
    "execution": {
     "iopub.execute_input": "2024-12-02T21:38:30.840681Z",
     "iopub.status.busy": "2024-12-02T21:38:30.840289Z",
     "iopub.status.idle": "2024-12-02T21:38:49.804332Z",
     "shell.execute_reply": "2024-12-02T21:38:49.803145Z"
    },
    "papermill": {
     "duration": 19.015624,
     "end_time": "2024-12-02T21:38:49.806844",
     "exception": false,
     "start_time": "2024-12-02T21:38:30.791220",
     "status": "completed"
    },
    "tags": []
   },
   "outputs": [
    {
     "name": "stdout",
     "output_type": "stream",
     "text": [
      "Submission file saved as /kaggle/working/submission_P3alpha.csv\n"
     ]
    }
   ],
   "source": [
    "if config['tune_best_params']:\n",
    "\n",
    "    data_target_users_test = pd.read_csv('/kaggle/input/recommender-system-2024-challenge-polimi/data_target_users_test.csv')\n",
    "    create_submission(data_target_users_test, recommender_instance, f'/kaggle/working/submission_{config[\"model\"]}.csv')"
   ]
  },
  {
   "cell_type": "markdown",
   "id": "3efff8a5",
   "metadata": {
    "execution": {
     "iopub.execute_input": "2024-11-14T00:04:16.877791Z",
     "iopub.status.busy": "2024-11-14T00:04:16.877275Z",
     "iopub.status.idle": "2024-11-14T00:04:16.883170Z",
     "shell.execute_reply": "2024-11-14T00:04:16.881889Z",
     "shell.execute_reply.started": "2024-11-14T00:04:16.877743Z"
    },
    "papermill": {
     "duration": 0.048257,
     "end_time": "2024-12-02T21:38:49.903679",
     "exception": false,
     "start_time": "2024-12-02T21:38:49.855422",
     "status": "completed"
    },
    "tags": []
   },
   "source": [
    "# Save Version on GitHub "
   ]
  },
  {
   "cell_type": "markdown",
   "id": "9a363289",
   "metadata": {
    "papermill": {
     "duration": 0.050493,
     "end_time": "2024-12-02T21:38:50.003294",
     "exception": false,
     "start_time": "2024-12-02T21:38:49.952801",
     "status": "completed"
    },
    "tags": []
   },
   "source": [
    "Write or import a json file where best hyperparameters are saved. "
   ]
  },
  {
   "cell_type": "code",
   "execution_count": 18,
   "id": "722d58d6",
   "metadata": {
    "execution": {
     "iopub.execute_input": "2024-12-02T21:38:50.108558Z",
     "iopub.status.busy": "2024-12-02T21:38:50.107259Z",
     "iopub.status.idle": "2024-12-02T21:38:51.056026Z",
     "shell.execute_reply": "2024-12-02T21:38:51.054851Z"
    },
    "papermill": {
     "duration": 1.00325,
     "end_time": "2024-12-02T21:38:51.058441",
     "exception": false,
     "start_time": "2024-12-02T21:38:50.055191",
     "status": "completed"
    },
    "tags": []
   },
   "outputs": [
    {
     "name": "stdout",
     "output_type": "stream",
     "text": [
      "File 'TrainedModels/WithoutKFCV/GraphBased/P3alphaRecommender/best_params_P3alpha.json' updated successfully.\n"
     ]
    }
   ],
   "source": [
    "if config['tune_parameters']:\n",
    "    with open(f'/kaggle/working/best_params_{config[\"model\"]}.json', 'w') as params_file:\n",
    "        json.dump(optuna_study.best_params, params_file)\n",
    "        \n",
    "    if config['save_github']:\n",
    "        upload_file(\n",
    "            f'/kaggle/working/best_params_{config[\"model\"]}.json', \n",
    "            f'{GH_PATH}/{config[\"model\"]}Recommender/best_params_{config[\"model\"]}.json', \n",
    "            f'{config[\"model\"]} tuning results (from kaggle notebook)',\n",
    "            repo\n",
    "        )\n",
    "elif config['copy_prev_best_params']:\n",
    "    shutil.copyfile(\n",
    "        f'{K_PATH}/{GH_PATH}/{config[\"model\"]}Recommender/'\\\n",
    "        f'best_params_{config[\"model\"]}.json', \n",
    "        f'/kaggle/working/best_params_{config[\"model\"]}.json'\n",
    "    )"
   ]
  },
  {
   "cell_type": "markdown",
   "id": "ff33ea07",
   "metadata": {
    "papermill": {
     "duration": 0.046211,
     "end_time": "2024-12-02T21:38:51.153793",
     "exception": false,
     "start_time": "2024-12-02T21:38:51.107582",
     "status": "completed"
    },
    "tags": []
   },
   "source": [
    "Save the history of the tuned model."
   ]
  },
  {
   "cell_type": "code",
   "execution_count": 19,
   "id": "39ddd972",
   "metadata": {
    "execution": {
     "iopub.execute_input": "2024-12-02T21:38:51.248297Z",
     "iopub.status.busy": "2024-12-02T21:38:51.247861Z",
     "iopub.status.idle": "2024-12-02T21:38:52.796650Z",
     "shell.execute_reply": "2024-12-02T21:38:52.795236Z"
    },
    "papermill": {
     "duration": 1.599109,
     "end_time": "2024-12-02T21:38:52.799400",
     "exception": false,
     "start_time": "2024-12-02T21:38:51.200291",
     "status": "completed"
    },
    "tags": []
   },
   "outputs": [
    {
     "name": "stdout",
     "output_type": "stream",
     "text": [
      "File 'TrainedModels/WithoutKFCV/GraphBased/P3alphaRecommender/history_P3alpha.db' updated successfully.\n"
     ]
    }
   ],
   "source": [
    "if config['save_github'] and config['tune_parameters']:\n",
    "    upload_file(\n",
    "        config['database_path'], \n",
    "        f'{GH_PATH}/{config[\"model\"]}Recommender/history_{config[\"model\"]}.db',\n",
    "        f'Tuning {config[\"model\"]} db updated results (from kaggle notebook)',\n",
    "        repo\n",
    "    )"
   ]
  },
  {
   "cell_type": "markdown",
   "id": "3b2e6328",
   "metadata": {
    "execution": {
     "iopub.execute_input": "2024-11-14T00:41:34.294243Z",
     "iopub.status.busy": "2024-11-14T00:41:34.293739Z",
     "iopub.status.idle": "2024-11-14T00:41:34.301478Z",
     "shell.execute_reply": "2024-11-14T00:41:34.299869Z",
     "shell.execute_reply.started": "2024-11-14T00:41:34.294186Z"
    },
    "papermill": {
     "duration": 0.067222,
     "end_time": "2024-12-02T21:38:52.915467",
     "exception": false,
     "start_time": "2024-12-02T21:38:52.848245",
     "status": "completed"
    },
    "tags": []
   },
   "source": [
    "Save the best trained model and its submission."
   ]
  },
  {
   "cell_type": "code",
   "execution_count": 20,
   "id": "0c8cc788",
   "metadata": {
    "execution": {
     "iopub.execute_input": "2024-12-02T21:38:53.027110Z",
     "iopub.status.busy": "2024-12-02T21:38:53.026714Z",
     "iopub.status.idle": "2024-12-02T21:38:54.703545Z",
     "shell.execute_reply": "2024-12-02T21:38:54.702276Z"
    },
    "papermill": {
     "duration": 1.728697,
     "end_time": "2024-12-02T21:38:54.705954",
     "exception": false,
     "start_time": "2024-12-02T21:38:52.977257",
     "status": "completed"
    },
    "tags": []
   },
   "outputs": [
    {
     "name": "stdout",
     "output_type": "stream",
     "text": [
      "File 'TrainedModels/WithoutKFCV/GraphBased/P3alphaRecommender/Submission/submission_P3alpha.csv' updated successfully.\n"
     ]
    }
   ],
   "source": [
    "if config['save_github'] and config['tune_best_params']: \n",
    "    upload_file(\n",
    "                f'/kaggle/working/submission_{config[\"model\"]}.csv', \n",
    "                f'{GH_PATH}/{config[\"model\"]}Recommender/Submission/submission_{config[\"model\"]}.csv', \n",
    "                f'New {config[\"model\"]} submission (from kaggle notebook)',\n",
    "                repo\n",
    "            )"
   ]
  }
 ],
 "metadata": {
  "kaggle": {
   "accelerator": "none",
   "dataSources": [
    {
     "databundleVersionId": 9982103,
     "sourceId": 87439,
     "sourceType": "competition"
    }
   ],
   "dockerImageVersionId": 30786,
   "isGpuEnabled": false,
   "isInternetEnabled": true,
   "language": "python",
   "sourceType": "notebook"
  },
  "kernelspec": {
   "display_name": "Python 3",
   "language": "python",
   "name": "python3"
  },
  "language_info": {
   "codemirror_mode": {
    "name": "ipython",
    "version": 3
   },
   "file_extension": ".py",
   "mimetype": "text/x-python",
   "name": "python",
   "nbconvert_exporter": "python",
   "pygments_lexer": "ipython3",
   "version": "3.10.14"
  },
  "papermill": {
   "default_parameters": {},
   "duration": 11581.540213,
   "end_time": "2024-12-02T21:38:55.981827",
   "environment_variables": {},
   "exception": null,
   "input_path": "__notebook__.ipynb",
   "output_path": "__notebook__.ipynb",
   "parameters": {},
   "start_time": "2024-12-02T18:25:54.441614",
   "version": "2.6.0"
  }
 },
 "nbformat": 4,
 "nbformat_minor": 5
}
