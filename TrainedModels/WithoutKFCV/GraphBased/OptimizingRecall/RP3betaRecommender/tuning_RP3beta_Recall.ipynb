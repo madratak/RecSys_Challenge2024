{
 "cells": [
  {
   "cell_type": "markdown",
   "id": "596cbd94",
   "metadata": {
    "papermill": {
     "duration": 0.006495,
     "end_time": "2024-12-16T01:11:23.986140",
     "exception": false,
     "start_time": "2024-12-16T01:11:23.979645",
     "status": "completed"
    },
    "tags": []
   },
   "source": [
    "# Set connection with GitHub"
   ]
  },
  {
   "cell_type": "code",
   "execution_count": 1,
   "id": "a94349d4",
   "metadata": {
    "execution": {
     "iopub.execute_input": "2024-12-16T01:11:24.000425Z",
     "iopub.status.busy": "2024-12-16T01:11:24.000010Z",
     "iopub.status.idle": "2024-12-16T01:11:24.006008Z",
     "shell.execute_reply": "2024-12-16T01:11:24.004870Z"
    },
    "papermill": {
     "duration": 0.015526,
     "end_time": "2024-12-16T01:11:24.008380",
     "exception": false,
     "start_time": "2024-12-16T01:11:23.992854",
     "status": "completed"
    },
    "tags": []
   },
   "outputs": [],
   "source": [
    "# ! cd /kaggle/working && rm -rf RECsys_Challenge2024"
   ]
  },
  {
   "cell_type": "code",
   "execution_count": 2,
   "id": "8f9d0795",
   "metadata": {
    "_cell_guid": "b1076dfc-b9ad-4769-8c92-a6c4dae69d19",
    "_uuid": "8f2839f25d086af736a60e9eeb907d3b93b6e0e5",
    "execution": {
     "iopub.execute_input": "2024-12-16T01:11:24.022915Z",
     "iopub.status.busy": "2024-12-16T01:11:24.022541Z",
     "iopub.status.idle": "2024-12-16T01:11:33.885348Z",
     "shell.execute_reply": "2024-12-16T01:11:33.884140Z"
    },
    "papermill": {
     "duration": 9.873549,
     "end_time": "2024-12-16T01:11:33.887868",
     "exception": false,
     "start_time": "2024-12-16T01:11:24.014319",
     "status": "completed"
    },
    "tags": []
   },
   "outputs": [
    {
     "name": "stdout",
     "output_type": "stream",
     "text": [
      "Cloning into 'RECsys_Challenge2024'...\r\n",
      "remote: Enumerating objects: 4023, done.\u001b[K\r\n",
      "remote: Counting objects: 100% (1496/1496), done.\u001b[K\r\n",
      "remote: Compressing objects: 100% (469/469), done.\u001b[K\r\n",
      "remote: Total 4023 (delta 822), reused 1485 (delta 816), pack-reused 2527 (from 1)\u001b[K\r\n",
      "Receiving objects: 100% (4023/4023), 168.07 MiB | 30.62 MiB/s, done.\r\n",
      "Resolving deltas: 100% (2341/2341), done.\r\n",
      "Updating files: 100% (374/374), done.\r\n"
     ]
    }
   ],
   "source": [
    "from kaggle_secrets import UserSecretsClient\n",
    "\n",
    "token = UserSecretsClient().get_secret(\"Token\")\n",
    "\n",
    "! git clone https://{token}@github.com/madratak/RECsys_Challenge2024.git"
   ]
  },
  {
   "cell_type": "code",
   "execution_count": 3,
   "id": "13b77126",
   "metadata": {
    "execution": {
     "iopub.execute_input": "2024-12-16T01:11:33.908160Z",
     "iopub.status.busy": "2024-12-16T01:11:33.907034Z",
     "iopub.status.idle": "2024-12-16T01:11:46.099015Z",
     "shell.execute_reply": "2024-12-16T01:11:46.097710Z"
    },
    "papermill": {
     "duration": 12.204689,
     "end_time": "2024-12-16T01:11:46.101604",
     "exception": false,
     "start_time": "2024-12-16T01:11:33.896915",
     "status": "completed"
    },
    "tags": []
   },
   "outputs": [
    {
     "name": "stdout",
     "output_type": "stream",
     "text": [
      "Collecting PyGithub\r\n",
      "  Downloading PyGithub-2.5.0-py3-none-any.whl.metadata (3.9 kB)\r\n",
      "Requirement already satisfied: requests in /opt/conda/lib/python3.10/site-packages (2.32.3)\r\n",
      "Collecting pynacl>=1.4.0 (from PyGithub)\r\n",
      "  Downloading PyNaCl-1.5.0-cp36-abi3-manylinux_2_17_x86_64.manylinux2014_x86_64.manylinux_2_24_x86_64.whl.metadata (8.6 kB)\r\n",
      "Requirement already satisfied: pyjwt>=2.4.0 in /opt/conda/lib/python3.10/site-packages (from pyjwt[crypto]>=2.4.0->PyGithub) (2.8.0)\r\n",
      "Requirement already satisfied: typing-extensions>=4.0.0 in /opt/conda/lib/python3.10/site-packages (from PyGithub) (4.12.2)\r\n",
      "Requirement already satisfied: urllib3>=1.26.0 in /opt/conda/lib/python3.10/site-packages (from PyGithub) (1.26.18)\r\n",
      "Requirement already satisfied: Deprecated in /opt/conda/lib/python3.10/site-packages (from PyGithub) (1.2.14)\r\n",
      "Requirement already satisfied: charset-normalizer<4,>=2 in /opt/conda/lib/python3.10/site-packages (from requests) (3.3.2)\r\n",
      "Requirement already satisfied: idna<4,>=2.5 in /opt/conda/lib/python3.10/site-packages (from requests) (3.7)\r\n",
      "Requirement already satisfied: certifi>=2017.4.17 in /opt/conda/lib/python3.10/site-packages (from requests) (2024.6.2)\r\n",
      "Requirement already satisfied: cryptography>=3.4.0 in /opt/conda/lib/python3.10/site-packages (from pyjwt[crypto]>=2.4.0->PyGithub) (42.0.8)\r\n",
      "Requirement already satisfied: cffi>=1.4.1 in /opt/conda/lib/python3.10/site-packages (from pynacl>=1.4.0->PyGithub) (1.16.0)\r\n",
      "Requirement already satisfied: wrapt<2,>=1.10 in /opt/conda/lib/python3.10/site-packages (from Deprecated->PyGithub) (1.16.0)\r\n",
      "Requirement already satisfied: pycparser in /opt/conda/lib/python3.10/site-packages (from cffi>=1.4.1->pynacl>=1.4.0->PyGithub) (2.22)\r\n",
      "Downloading PyGithub-2.5.0-py3-none-any.whl (375 kB)\r\n",
      "\u001b[2K   \u001b[90m━━━━━━━━━━━━━━━━━━━━━━━━━━━━━━━━━━━━━━━━\u001b[0m \u001b[32m375.9/375.9 kB\u001b[0m \u001b[31m10.2 MB/s\u001b[0m eta \u001b[36m0:00:00\u001b[0m\r\n",
      "\u001b[?25hDownloading PyNaCl-1.5.0-cp36-abi3-manylinux_2_17_x86_64.manylinux2014_x86_64.manylinux_2_24_x86_64.whl (856 kB)\r\n",
      "\u001b[2K   \u001b[90m━━━━━━━━━━━━━━━━━━━━━━━━━━━━━━━━━━━━━━━━\u001b[0m \u001b[32m856.7/856.7 kB\u001b[0m \u001b[31m35.0 MB/s\u001b[0m eta \u001b[36m0:00:00\u001b[0m\r\n",
      "\u001b[?25hInstalling collected packages: pynacl, PyGithub\r\n",
      "Successfully installed PyGithub-2.5.0 pynacl-1.5.0\r\n"
     ]
    }
   ],
   "source": [
    "! pip install PyGithub requests"
   ]
  },
  {
   "cell_type": "code",
   "execution_count": 4,
   "id": "abc340fa",
   "metadata": {
    "_kg_hide-input": false,
    "execution": {
     "iopub.execute_input": "2024-12-16T01:11:46.122852Z",
     "iopub.status.busy": "2024-12-16T01:11:46.122319Z",
     "iopub.status.idle": "2024-12-16T01:14:16.921675Z",
     "shell.execute_reply": "2024-12-16T01:14:16.920140Z"
    },
    "papermill": {
     "duration": 150.812966,
     "end_time": "2024-12-16T01:14:16.924328",
     "exception": false,
     "start_time": "2024-12-16T01:11:46.111362",
     "status": "completed"
    },
    "tags": []
   },
   "outputs": [
    {
     "name": "stdout",
     "output_type": "stream",
     "text": [
      "/kaggle/working/RECsys_Challenge2024\n",
      "run_compile_all_cython: Found 11 Cython files in 5 folders...\r\n",
      "run_compile_all_cython: All files will be compiled using your current python environment: '/opt/conda/bin/python'\r\n",
      "Compiling [1/11]: MatrixFactorizationImpressions_Cython_Epoch.pyx... \r\n",
      "In file included from \u001b[01m\u001b[K/opt/conda/lib/python3.10/site-packages/numpy/core/include/numpy/ndarraytypes.h:1929\u001b[m\u001b[K,\r\n",
      "                 from \u001b[01m\u001b[K/opt/conda/lib/python3.10/site-packages/numpy/core/include/numpy/ndarrayobject.h:12\u001b[m\u001b[K,\r\n",
      "                 from \u001b[01m\u001b[K/opt/conda/lib/python3.10/site-packages/numpy/core/include/numpy/arrayobject.h:5\u001b[m\u001b[K,\r\n",
      "                 from \u001b[01m\u001b[KMatrixFactorizationImpressions_Cython_Epoch.c:1252\u001b[m\u001b[K:\r\n",
      "\u001b[01m\u001b[K/opt/conda/lib/python3.10/site-packages/numpy/core/include/numpy/npy_1_7_deprecated_api.h:17:2:\u001b[m\u001b[K \u001b[01;35m\u001b[Kwarning: \u001b[m\u001b[K#warning \"Using deprecated NumPy API, disable it with \" \"#define NPY_NO_DEPRECATED_API NPY_1_7_API_VERSION\" [\u001b[01;35m\u001b[K-Wcpp\u001b[m\u001b[K]\r\n",
      "   17 | #\u001b[01;35m\u001b[Kwarning\u001b[m\u001b[K \"Using deprecated NumPy API, disable it with \" \\\r\n",
      "      |  \u001b[01;35m\u001b[K^~~~~~~\u001b[m\u001b[K\r\n",
      "\u001b[01m\u001b[KMatrixFactorizationImpressions_Cython_Epoch.c:\u001b[m\u001b[K In function '\u001b[01m\u001b[K__pyx_f_43MatrixFactorizationImpressions_Cython_Epoch_32MatrixFactorization_Cython_Epoch_sampleBPR_Cython\u001b[m\u001b[K':\r\n",
      "\u001b[01m\u001b[KMatrixFactorizationImpressions_Cython_Epoch.c:30351:17:\u001b[m\u001b[K \u001b[01;35m\u001b[Kwarning: \u001b[m\u001b[K'\u001b[01m\u001b[K__pyx_v_start_pos_impression_items\u001b[m\u001b[K' may be used uninitialized in this function [\u001b[01;35m\u001b[K-Wmaybe-uninitialized\u001b[m\u001b[K]\r\n",
      "30351 |       \u001b[01;35m\u001b[K__pyx_t_4 = (__pyx_v_start_pos_impression_items + __pyx_v_index)\u001b[m\u001b[K;\r\n",
      "      |       \u001b[01;35m\u001b[K~~~~~~~~~~^~~~~~~~~~~~~~~~~~~~~~~~~~~~~~~~~~~~~~~~~~~~~~~~~~~~~~\u001b[m\u001b[K\r\n",
      "\u001b[01m\u001b[KMatrixFactorizationImpressions_Cython_Epoch.c:\u001b[m\u001b[K In function '\u001b[01m\u001b[K__pyx_pf_43MatrixFactorizationImpressions_Cython_Epoch_32MatrixFactorization_Cython_Epoch_10epochIteration_Cython_ASY_SVD_SGD\u001b[m\u001b[K':\r\n",
      "\u001b[01m\u001b[KMatrixFactorizationImpressions_Cython_Epoch.c:26111:7:\u001b[m\u001b[K \u001b[01;35m\u001b[Kwarning: \u001b[m\u001b[K'\u001b[01m\u001b[K__pyx_v_end_pos_seen_items\u001b[m\u001b[K' may be used uninitialized in this function [\u001b[01;35m\u001b[K-Wmaybe-uninitialized\u001b[m\u001b[K]\r\n",
      "26111 |       \u001b[01;35m\u001b[Kfor\u001b[m\u001b[K (__pyx_t_21 = __pyx_v_start_pos_seen_items; __pyx_t_21 < __pyx_t_20; __pyx_t_21+=1) {\r\n",
      "      |       \u001b[01;35m\u001b[K^~~\u001b[m\u001b[K\r\n",
      "\u001b[01m\u001b[KMatrixFactorizationImpressions_Cython_Epoch.c:26111:7:\u001b[m\u001b[K \u001b[01;35m\u001b[Kwarning: \u001b[m\u001b[K'\u001b[01m\u001b[K__pyx_v_start_pos_seen_items\u001b[m\u001b[K' may be used uninitialized in this function [\u001b[01;35m\u001b[K-Wmaybe-uninitialized\u001b[m\u001b[K]\r\n",
      "/opt/conda/lib/python3.10/site-packages/Cython/Compiler/Main.py:381: FutureWarning: Cython directive 'language_level' not set, using '3str' for now (Py3). This has changed from earlier releases! File: /kaggle/working/RECsys_Challenge2024/Recommenders/MatrixFactorization/Cython/MatrixFactorizationImpressions_Cython_Epoch.pyx\r\n",
      "  tree = Parsing.p_module(s, pxd, full_module_name)\r\n",
      "Compiling [1/11]: MatrixFactorizationImpressions_Cython_Epoch.pyx... PASS\r\n",
      "\r\n",
      "Compiling [2/11]: MatrixFactorization_Cython_Epoch.pyx... \r\n",
      "In file included from \u001b[01m\u001b[K/opt/conda/lib/python3.10/site-packages/numpy/core/include/numpy/ndarraytypes.h:1929\u001b[m\u001b[K,\r\n",
      "                 from \u001b[01m\u001b[K/opt/conda/lib/python3.10/site-packages/numpy/core/include/numpy/ndarrayobject.h:12\u001b[m\u001b[K,\r\n",
      "                 from \u001b[01m\u001b[K/opt/conda/lib/python3.10/site-packages/numpy/core/include/numpy/arrayobject.h:5\u001b[m\u001b[K,\r\n",
      "                 from \u001b[01m\u001b[KMatrixFactorization_Cython_Epoch.c:1252\u001b[m\u001b[K:\r\n",
      "\u001b[01m\u001b[K/opt/conda/lib/python3.10/site-packages/numpy/core/include/numpy/npy_1_7_deprecated_api.h:17:2:\u001b[m\u001b[K \u001b[01;35m\u001b[Kwarning: \u001b[m\u001b[K#warning \"Using deprecated NumPy API, disable it with \" \"#define NPY_NO_DEPRECATED_API NPY_1_7_API_VERSION\" [\u001b[01;35m\u001b[K-Wcpp\u001b[m\u001b[K]\r\n",
      "   17 | #\u001b[01;35m\u001b[Kwarning\u001b[m\u001b[K \"Using deprecated NumPy API, disable it with \" \\\r\n",
      "      |  \u001b[01;35m\u001b[K^~~~~~~\u001b[m\u001b[K\r\n",
      "\u001b[01m\u001b[KMatrixFactorization_Cython_Epoch.c:\u001b[m\u001b[K In function '\u001b[01m\u001b[K__pyx_pf_32MatrixFactorization_Cython_Epoch_32MatrixFactorization_Cython_Epoch_10epochIteration_Cython_ASY_SVD_SGD\u001b[m\u001b[K':\r\n",
      "\u001b[01m\u001b[KMatrixFactorization_Cython_Epoch.c:26255:9:\u001b[m\u001b[K \u001b[01;35m\u001b[Kwarning: \u001b[m\u001b[K'\u001b[01m\u001b[K__pyx_v_end_pos_seen_items\u001b[m\u001b[K' may be used uninitialized in this function [\u001b[01;35m\u001b[K-Wmaybe-uninitialized\u001b[m\u001b[K]\r\n",
      "26255 |         \u001b[01;35m\u001b[Kfor\u001b[m\u001b[K (__pyx_t_21 = __pyx_v_start_pos_seen_items; __pyx_t_21 < __pyx_t_20; __pyx_t_21+=1) {\r\n",
      "      |         \u001b[01;35m\u001b[K^~~\u001b[m\u001b[K\r\n",
      "\u001b[01m\u001b[KMatrixFactorization_Cython_Epoch.c:26255:9:\u001b[m\u001b[K \u001b[01;35m\u001b[Kwarning: \u001b[m\u001b[K'\u001b[01m\u001b[K__pyx_v_start_pos_seen_items\u001b[m\u001b[K' may be used uninitialized in this function [\u001b[01;35m\u001b[K-Wmaybe-uninitialized\u001b[m\u001b[K]\r\n",
      "/opt/conda/lib/python3.10/site-packages/Cython/Compiler/Main.py:381: FutureWarning: Cython directive 'language_level' not set, using '3str' for now (Py3). This has changed from earlier releases! File: /kaggle/working/RECsys_Challenge2024/Recommenders/MatrixFactorization/Cython/MatrixFactorization_Cython_Epoch.pyx\r\n",
      "  tree = Parsing.p_module(s, pxd, full_module_name)\r\n",
      "Compiling [2/11]: MatrixFactorization_Cython_Epoch.pyx... PASS\r\n",
      "\r\n",
      "Compiling [3/11]: Compute_Similarity_Cython.pyx... \r\n",
      "warning: Compute_Similarity_Cython.pyx:21:0: The 'IF' statement is deprecated and will be removed in a future Cython version. Consider using runtime conditions or C macros instead. See https://github.com/cython/cython/issues/4310\r\n",
      "In file included from \u001b[01m\u001b[K/opt/conda/lib/python3.10/site-packages/numpy/core/include/numpy/ndarraytypes.h:1929\u001b[m\u001b[K,\r\n",
      "                 from \u001b[01m\u001b[K/opt/conda/lib/python3.10/site-packages/numpy/core/include/numpy/ndarrayobject.h:12\u001b[m\u001b[K,\r\n",
      "                 from \u001b[01m\u001b[K/opt/conda/lib/python3.10/site-packages/numpy/core/include/numpy/arrayobject.h:5\u001b[m\u001b[K,\r\n",
      "                 from \u001b[01m\u001b[KCompute_Similarity_Cython.c:1252\u001b[m\u001b[K:\r\n",
      "\u001b[01m\u001b[K/opt/conda/lib/python3.10/site-packages/numpy/core/include/numpy/npy_1_7_deprecated_api.h:17:2:\u001b[m\u001b[K \u001b[01;35m\u001b[Kwarning: \u001b[m\u001b[K#warning \"Using deprecated NumPy API, disable it with \" \"#define NPY_NO_DEPRECATED_API NPY_1_7_API_VERSION\" [\u001b[01;35m\u001b[K-Wcpp\u001b[m\u001b[K]\r\n",
      "   17 | #\u001b[01;35m\u001b[Kwarning\u001b[m\u001b[K \"Using deprecated NumPy API, disable it with \" \\\r\n",
      "      |  \u001b[01;35m\u001b[K^~~~~~~\u001b[m\u001b[K\r\n",
      "/opt/conda/lib/python3.10/site-packages/Cython/Compiler/Main.py:381: FutureWarning: Cython directive 'language_level' not set, using '3str' for now (Py3). This has changed from earlier releases! File: /kaggle/working/RECsys_Challenge2024/Recommenders/Similarity/Cython/Compute_Similarity_Cython.pyx\r\n",
      "  tree = Parsing.p_module(s, pxd, full_module_name)\r\n",
      "warning: Compute_Similarity_Cython.pyx:21:0: The 'IF' statement is deprecated and will be removed in a future Cython version. Consider using runtime conditions or C macros instead. See https://github.com/cython/cython/issues/4310\r\n",
      "Compiling [3/11]: Compute_Similarity_Cython.pyx... PASS\r\n",
      "\r\n",
      "Compiling [4/11]: Triangular_Matrix.pyx... \r\n",
      "warning: Triangular_Matrix.pyx:22:0: The 'IF' statement is deprecated and will be removed in a future Cython version. Consider using runtime conditions or C macros instead. See https://github.com/cython/cython/issues/4310\r\n",
      "In file included from \u001b[01m\u001b[K/opt/conda/lib/python3.10/site-packages/numpy/core/include/numpy/ndarraytypes.h:1929\u001b[m\u001b[K,\r\n",
      "                 from \u001b[01m\u001b[K/opt/conda/lib/python3.10/site-packages/numpy/core/include/numpy/ndarrayobject.h:12\u001b[m\u001b[K,\r\n",
      "                 from \u001b[01m\u001b[K/opt/conda/lib/python3.10/site-packages/numpy/core/include/numpy/arrayobject.h:5\u001b[m\u001b[K,\r\n",
      "                 from \u001b[01m\u001b[KTriangular_Matrix.c:1252\u001b[m\u001b[K:\r\n",
      "\u001b[01m\u001b[K/opt/conda/lib/python3.10/site-packages/numpy/core/include/numpy/npy_1_7_deprecated_api.h:17:2:\u001b[m\u001b[K \u001b[01;35m\u001b[Kwarning: \u001b[m\u001b[K#warning \"Using deprecated NumPy API, disable it with \" \"#define NPY_NO_DEPRECATED_API NPY_1_7_API_VERSION\" [\u001b[01;35m\u001b[K-Wcpp\u001b[m\u001b[K]\r\n",
      "   17 | #\u001b[01;35m\u001b[Kwarning\u001b[m\u001b[K \"Using deprecated NumPy API, disable it with \" \\\r\n",
      "      |  \u001b[01;35m\u001b[K^~~~~~~\u001b[m\u001b[K\r\n",
      "/opt/conda/lib/python3.10/site-packages/Cython/Compiler/Main.py:381: FutureWarning: Cython directive 'language_level' not set, using '3str' for now (Py3). This has changed from earlier releases! File: /kaggle/working/RECsys_Challenge2024/Recommenders/SLIM/Cython/Triangular_Matrix.pyx\r\n",
      "  tree = Parsing.p_module(s, pxd, full_module_name)\r\n",
      "warning: Triangular_Matrix.pyx:22:0: The 'IF' statement is deprecated and will be removed in a future Cython version. Consider using runtime conditions or C macros instead. See https://github.com/cython/cython/issues/4310\r\n",
      "Compiling [4/11]: Triangular_Matrix.pyx... PASS\r\n",
      "\r\n",
      "Compiling [5/11]: SLIM_BPR_Cython_Epoch.pyx... \r\n",
      "warning: SLIM_BPR_Cython_Epoch.pyx:24:0: The 'IF' statement is deprecated and will be removed in a future Cython version. Consider using runtime conditions or C macros instead. See https://github.com/cython/cython/issues/4310\r\n",
      "warning: SLIM_BPR_Cython_Epoch.pyx:632:34: Non-trivial type declarators in shared declaration (e.g. mix of pointers and values). Each pointer declaration should be on its own line.\r\n",
      "warning: SLIM_BPR_Cython_Epoch.pyx:632:66: Non-trivial type declarators in shared declaration (e.g. mix of pointers and values). Each pointer declaration should be on its own line.\r\n",
      "warning: SLIM_BPR_Cython_Epoch.pyx:817:35: Non-trivial type declarators in shared declaration (e.g. mix of pointers and values). Each pointer declaration should be on its own line.\r\n",
      "warning: SLIM_BPR_Cython_Epoch.pyx:817:52: Non-trivial type declarators in shared declaration (e.g. mix of pointers and values). Each pointer declaration should be on its own line.\r\n",
      "warning: SLIM_BPR_Cython_Epoch.pyx:916:35: Non-trivial type declarators in shared declaration (e.g. mix of pointers and values). Each pointer declaration should be on its own line.\r\n",
      "warning: SLIM_BPR_Cython_Epoch.pyx:916:53: Non-trivial type declarators in shared declaration (e.g. mix of pointers and values). Each pointer declaration should be on its own line.\r\n",
      "warning: SLIM_BPR_Cython_Epoch.pyx:916:69: Non-trivial type declarators in shared declaration (e.g. mix of pointers and values). Each pointer declaration should be on its own line.\r\n",
      "warning: SLIM_BPR_Cython_Epoch.pyx:1051:35: Non-trivial type declarators in shared declaration (e.g. mix of pointers and values). Each pointer declaration should be on its own line.\r\n",
      "warning: SLIM_BPR_Cython_Epoch.pyx:1051:42: Non-trivial type declarators in shared declaration (e.g. mix of pointers and values). Each pointer declaration should be on its own line.\r\n",
      "warning: SLIM_BPR_Cython_Epoch.pyx:1052:35: Non-trivial type declarators in shared declaration (e.g. mix of pointers and values). Each pointer declaration should be on its own line.\r\n",
      "warning: SLIM_BPR_Cython_Epoch.pyx:1052:53: Non-trivial type declarators in shared declaration (e.g. mix of pointers and values). Each pointer declaration should be on its own line.\r\n",
      "\r\n",
      "Error compiling Cython file:\r\n",
      "------------------------------------------------------------\r\n",
      "...\r\n",
      "            vector_pointer_to_list_elements[index].head = current_element\r\n",
      "            current_element = current_element.higher\r\n",
      "\r\n",
      "\r\n",
      "        # Sort array elements on their data field\r\n",
      "        qsort(vector_pointer_to_list_elements, list_length, sizeof(head_pointer_tree_s), compare_struct_on_data)\r\n",
      "                                                                                         ^\r\n",
      "------------------------------------------------------------\r\n",
      "\r\n",
      "SLIM_BPR_Cython_Epoch.pyx:990:89: Cannot assign type 'int (const void *, const void *) except? -1' to 'int (*)(const_void *, const_void *) noexcept'. Exception values are incompatible. Suggest adding 'noexcept' to the type of 'compare_struct_on_data'.\r\n",
      "\r\n",
      "Error compiling Cython file:\r\n",
      "------------------------------------------------------------\r\n",
      "...\r\n",
      "        # Sort array elements on their data field\r\n",
      "        qsort(vector_pointer_to_list_elements, list_length, sizeof(head_pointer_tree_s), compare_struct_on_data)\r\n",
      "\r\n",
      "        # Sort only the TopK according to their column field\r\n",
      "        # Sort is from lower to higher, therefore the elements to be considered are from len-topK to len\r\n",
      "        qsort(&vector_pointer_to_list_elements[list_length-TopK], TopK, sizeof(head_pointer_tree_s), compare_struct_on_column)\r\n",
      "                                                                                                     ^\r\n",
      "------------------------------------------------------------\r\n",
      "\r\n",
      "SLIM_BPR_Cython_Epoch.pyx:994:101: Cannot assign type 'int (const void *, const void *) except? -1' to 'int (*)(const_void *, const_void *) noexcept'. Exception values are incompatible. Suggest adding 'noexcept' to the type of 'compare_struct_on_column'.\r\n",
      "Traceback (most recent call last):\r\n",
      "  File \"/kaggle/working/RECsys_Challenge2024/CythonCompiler/compile_script.py\", line 48, in <module>\r\n",
      "    setup(\r\n",
      "  File \"/opt/conda/lib/python3.10/site-packages/setuptools/__init__.py\", line 103, in setup\r\n",
      "    return distutils.core.setup(**attrs)\r\n",
      "  File \"/opt/conda/lib/python3.10/site-packages/setuptools/_distutils/core.py\", line 184, in setup\r\n",
      "    return run_commands(dist)\r\n",
      "  File \"/opt/conda/lib/python3.10/site-packages/setuptools/_distutils/core.py\", line 200, in run_commands\r\n",
      "    dist.run_commands()\r\n",
      "  File \"/opt/conda/lib/python3.10/site-packages/setuptools/_distutils/dist.py\", line 969, in run_commands\r\n",
      "    self.run_command(cmd)\r\n",
      "  File \"/opt/conda/lib/python3.10/site-packages/setuptools/dist.py\", line 968, in run_command\r\n",
      "    super().run_command(command)\r\n",
      "  File \"/opt/conda/lib/python3.10/site-packages/setuptools/_distutils/dist.py\", line 988, in run_command\r\n",
      "    cmd_obj.run()\r\n",
      "  File \"/opt/conda/lib/python3.10/site-packages/setuptools/_distutils/command/build_ext.py\", line 359, in run\r\n",
      "    self.build_extensions()\r\n",
      "  File \"/opt/conda/lib/python3.10/site-packages/setuptools/_distutils/command/build_ext.py\", line 479, in build_extensions\r\n",
      "    self._build_extensions_serial()\r\n",
      "  File \"/opt/conda/lib/python3.10/site-packages/setuptools/_distutils/command/build_ext.py\", line 505, in _build_extensions_serial\r\n",
      "    self.build_extension(ext)\r\n",
      "  File \"/opt/conda/lib/python3.10/site-packages/Cython/Distutils/build_ext.py\", line 130, in build_extension\r\n",
      "    new_ext = cythonize(\r\n",
      "  File \"/opt/conda/lib/python3.10/site-packages/Cython/Build/Dependencies.py\", line 1154, in cythonize\r\n",
      "    cythonize_one(*args)\r\n",
      "  File \"/opt/conda/lib/python3.10/site-packages/Cython/Build/Dependencies.py\", line 1321, in cythonize_one\r\n",
      "    raise CompileError(None, pyx_file)\r\n",
      "Cython.Compiler.Errors.CompileError: SLIM_BPR_Cython_Epoch.pyx\r\n",
      "Traceback (most recent call last):\r\n",
      "  File \"/kaggle/working/RECsys_Challenge2024/run_compile_all_cython.py\", line 60, in <module>\r\n",
      "    run_compile_subprocess(file_path, [file_name])\r\n",
      "  File \"/kaggle/working/RECsys_Challenge2024/CythonCompiler/run_compile_subprocess.py\", line 51, in run_compile_subprocess\r\n",
      "    raise exc\r\n",
      "  File \"/kaggle/working/RECsys_Challenge2024/CythonCompiler/run_compile_subprocess.py\", line 32, in run_compile_subprocess\r\n",
      "    output = subprocess.check_output(' '.join(command),\r\n",
      "  File \"/opt/conda/lib/python3.10/subprocess.py\", line 421, in check_output\r\n",
      "    return run(*popenargs, stdout=PIPE, timeout=timeout, check=True,\r\n",
      "  File \"/opt/conda/lib/python3.10/subprocess.py\", line 526, in run\r\n",
      "    raise CalledProcessError(retcode, process.args,\r\n",
      "subprocess.CalledProcessError: Command '/opt/conda/bin/python /kaggle/working/RECsys_Challenge2024/CythonCompiler/compile_script.py SLIM_BPR_Cython_Epoch.pyx build_ext --inplace' returned non-zero exit status 1.\r\n",
      "Compiling [5/11]: SLIM_BPR_Cython_Epoch.pyx... FAIL: Command '/opt/conda/bin/python /kaggle/working/RECsys_Challenge2024/CythonCompiler/compile_script.py SLIM_BPR_Cython_Epoch.pyx build_ext --inplace' returned non-zero exit status 1.\r\n",
      "\r\n",
      "Compiling [6/11]: Sparse_Matrix_Tree_CSR.pyx... \r\n",
      "warning: Sparse_Matrix_Tree_CSR.pyx:132:34: Non-trivial type declarators in shared declaration (e.g. mix of pointers and values). Each pointer declaration should be on its own line.\r\n",
      "warning: Sparse_Matrix_Tree_CSR.pyx:132:66: Non-trivial type declarators in shared declaration (e.g. mix of pointers and values). Each pointer declaration should be on its own line.\r\n",
      "warning: Sparse_Matrix_Tree_CSR.pyx:343:35: Non-trivial type declarators in shared declaration (e.g. mix of pointers and values). Each pointer declaration should be on its own line.\r\n",
      "warning: Sparse_Matrix_Tree_CSR.pyx:343:52: Non-trivial type declarators in shared declaration (e.g. mix of pointers and values). Each pointer declaration should be on its own line.\r\n",
      "warning: Sparse_Matrix_Tree_CSR.pyx:442:35: Non-trivial type declarators in shared declaration (e.g. mix of pointers and values). Each pointer declaration should be on its own line.\r\n",
      "warning: Sparse_Matrix_Tree_CSR.pyx:442:53: Non-trivial type declarators in shared declaration (e.g. mix of pointers and values). Each pointer declaration should be on its own line.\r\n",
      "warning: Sparse_Matrix_Tree_CSR.pyx:442:69: Non-trivial type declarators in shared declaration (e.g. mix of pointers and values). Each pointer declaration should be on its own line.\r\n",
      "warning: Sparse_Matrix_Tree_CSR.pyx:577:35: Non-trivial type declarators in shared declaration (e.g. mix of pointers and values). Each pointer declaration should be on its own line.\r\n",
      "warning: Sparse_Matrix_Tree_CSR.pyx:577:42: Non-trivial type declarators in shared declaration (e.g. mix of pointers and values). Each pointer declaration should be on its own line.\r\n",
      "warning: Sparse_Matrix_Tree_CSR.pyx:578:35: Non-trivial type declarators in shared declaration (e.g. mix of pointers and values). Each pointer declaration should be on its own line.\r\n",
      "warning: Sparse_Matrix_Tree_CSR.pyx:578:53: Non-trivial type declarators in shared declaration (e.g. mix of pointers and values). Each pointer declaration should be on its own line.\r\n",
      "\r\n",
      "Error compiling Cython file:\r\n",
      "------------------------------------------------------------\r\n",
      "...\r\n",
      "            vector_pointer_to_list_elements[index].head = current_element\r\n",
      "            current_element = current_element.higher\r\n",
      "\r\n",
      "\r\n",
      "        # Sort array elements on their data field\r\n",
      "        qsort(vector_pointer_to_list_elements, list_length, sizeof(head_pointer_tree_s), compare_struct_on_data)\r\n",
      "                                                                                         ^\r\n",
      "------------------------------------------------------------\r\n",
      "\r\n",
      "Sparse_Matrix_Tree_CSR.pyx:516:89: Cannot assign type 'int (const void *, const void *) except? -1' to 'int (*)(const_void *, const_void *) noexcept'. Exception values are incompatible. Suggest adding 'noexcept' to the type of 'compare_struct_on_data'.\r\n",
      "\r\n",
      "Error compiling Cython file:\r\n",
      "------------------------------------------------------------\r\n",
      "...\r\n",
      "        # Sort array elements on their data field\r\n",
      "        qsort(vector_pointer_to_list_elements, list_length, sizeof(head_pointer_tree_s), compare_struct_on_data)\r\n",
      "\r\n",
      "        # Sort only the TopK according to their column field\r\n",
      "        # Sort is from lower to higher, therefore the elements to be considered are from len-topK to len\r\n",
      "        qsort(&vector_pointer_to_list_elements[list_length-TopK], TopK, sizeof(head_pointer_tree_s), compare_struct_on_column)\r\n",
      "                                                                                                     ^\r\n",
      "------------------------------------------------------------\r\n",
      "\r\n",
      "Sparse_Matrix_Tree_CSR.pyx:520:101: Cannot assign type 'int (const void *, const void *) except? -1' to 'int (*)(const_void *, const_void *) noexcept'. Exception values are incompatible. Suggest adding 'noexcept' to the type of 'compare_struct_on_column'.\r\n",
      "Traceback (most recent call last):\r\n",
      "  File \"/kaggle/working/RECsys_Challenge2024/CythonCompiler/compile_script.py\", line 48, in <module>\r\n",
      "    setup(\r\n",
      "  File \"/opt/conda/lib/python3.10/site-packages/setuptools/__init__.py\", line 103, in setup\r\n",
      "    return distutils.core.setup(**attrs)\r\n",
      "  File \"/opt/conda/lib/python3.10/site-packages/setuptools/_distutils/core.py\", line 184, in setup\r\n",
      "    return run_commands(dist)\r\n",
      "  File \"/opt/conda/lib/python3.10/site-packages/setuptools/_distutils/core.py\", line 200, in run_commands\r\n",
      "    dist.run_commands()\r\n",
      "  File \"/opt/conda/lib/python3.10/site-packages/setuptools/_distutils/dist.py\", line 969, in run_commands\r\n",
      "    self.run_command(cmd)\r\n",
      "  File \"/opt/conda/lib/python3.10/site-packages/setuptools/dist.py\", line 968, in run_command\r\n",
      "    super().run_command(command)\r\n",
      "  File \"/opt/conda/lib/python3.10/site-packages/setuptools/_distutils/dist.py\", line 988, in run_command\r\n",
      "    cmd_obj.run()\r\n",
      "  File \"/opt/conda/lib/python3.10/site-packages/setuptools/_distutils/command/build_ext.py\", line 359, in run\r\n",
      "    self.build_extensions()\r\n",
      "  File \"/opt/conda/lib/python3.10/site-packages/setuptools/_distutils/command/build_ext.py\", line 479, in build_extensions\r\n",
      "    self._build_extensions_serial()\r\n",
      "  File \"/opt/conda/lib/python3.10/site-packages/setuptools/_distutils/command/build_ext.py\", line 505, in _build_extensions_serial\r\n",
      "    self.build_extension(ext)\r\n",
      "  File \"/opt/conda/lib/python3.10/site-packages/Cython/Distutils/build_ext.py\", line 130, in build_extension\r\n",
      "    new_ext = cythonize(\r\n",
      "  File \"/opt/conda/lib/python3.10/site-packages/Cython/Build/Dependencies.py\", line 1154, in cythonize\r\n",
      "    cythonize_one(*args)\r\n",
      "  File \"/opt/conda/lib/python3.10/site-packages/Cython/Build/Dependencies.py\", line 1321, in cythonize_one\r\n",
      "    raise CompileError(None, pyx_file)\r\n",
      "Cython.Compiler.Errors.CompileError: Sparse_Matrix_Tree_CSR.pyx\r\n",
      "Traceback (most recent call last):\r\n",
      "  File \"/kaggle/working/RECsys_Challenge2024/run_compile_all_cython.py\", line 60, in <module>\r\n",
      "    run_compile_subprocess(file_path, [file_name])\r\n",
      "  File \"/kaggle/working/RECsys_Challenge2024/CythonCompiler/run_compile_subprocess.py\", line 51, in run_compile_subprocess\r\n",
      "    raise exc\r\n",
      "  File \"/kaggle/working/RECsys_Challenge2024/CythonCompiler/run_compile_subprocess.py\", line 32, in run_compile_subprocess\r\n",
      "    output = subprocess.check_output(' '.join(command),\r\n",
      "  File \"/opt/conda/lib/python3.10/subprocess.py\", line 421, in check_output\r\n",
      "    return run(*popenargs, stdout=PIPE, timeout=timeout, check=True,\r\n",
      "  File \"/opt/conda/lib/python3.10/subprocess.py\", line 526, in run\r\n",
      "    raise CalledProcessError(retcode, process.args,\r\n",
      "subprocess.CalledProcessError: Command '/opt/conda/bin/python /kaggle/working/RECsys_Challenge2024/CythonCompiler/compile_script.py Sparse_Matrix_Tree_CSR.pyx build_ext --inplace' returned non-zero exit status 1.\r\n",
      "Compiling [6/11]: Sparse_Matrix_Tree_CSR.pyx... FAIL: Command '/opt/conda/bin/python /kaggle/working/RECsys_Challenge2024/CythonCompiler/compile_script.py Sparse_Matrix_Tree_CSR.pyx build_ext --inplace' returned non-zero exit status 1.\r\n",
      "\r\n",
      "Compiling [7/11]: CFW_DVV_Similarity_Cython_SGD.pyx... \r\n",
      "In file included from \u001b[01m\u001b[K/opt/conda/lib/python3.10/site-packages/numpy/core/include/numpy/ndarraytypes.h:1929\u001b[m\u001b[K,\r\n",
      "                 from \u001b[01m\u001b[K/opt/conda/lib/python3.10/site-packages/numpy/core/include/numpy/ndarrayobject.h:12\u001b[m\u001b[K,\r\n",
      "                 from \u001b[01m\u001b[K/opt/conda/lib/python3.10/site-packages/numpy/core/include/numpy/arrayobject.h:5\u001b[m\u001b[K,\r\n",
      "                 from \u001b[01m\u001b[KCFW_DVV_Similarity_Cython_SGD.c:1252\u001b[m\u001b[K:\r\n",
      "\u001b[01m\u001b[K/opt/conda/lib/python3.10/site-packages/numpy/core/include/numpy/npy_1_7_deprecated_api.h:17:2:\u001b[m\u001b[K \u001b[01;35m\u001b[Kwarning: \u001b[m\u001b[K#warning \"Using deprecated NumPy API, disable it with \" \"#define NPY_NO_DEPRECATED_API NPY_1_7_API_VERSION\" [\u001b[01;35m\u001b[K-Wcpp\u001b[m\u001b[K]\r\n",
      "   17 | #\u001b[01;35m\u001b[Kwarning\u001b[m\u001b[K \"Using deprecated NumPy API, disable it with \" \\\r\n",
      "      |  \u001b[01;35m\u001b[K^~~~~~~\u001b[m\u001b[K\r\n",
      "/opt/conda/lib/python3.10/site-packages/Cython/Compiler/Main.py:381: FutureWarning: Cython directive 'language_level' not set, using '3str' for now (Py3). This has changed from earlier releases! File: /kaggle/working/RECsys_Challenge2024/Recommenders/FeatureWeighting/Cython/CFW_DVV_Similarity_Cython_SGD.pyx\r\n",
      "  tree = Parsing.p_module(s, pxd, full_module_name)\r\n",
      "Compiling [7/11]: CFW_DVV_Similarity_Cython_SGD.pyx... PASS\r\n",
      "\r\n",
      "Compiling [8/11]: CFW_D_Similarity_Cython_SGD.pyx... \r\n",
      "In file included from \u001b[01m\u001b[K/opt/conda/lib/python3.10/site-packages/numpy/core/include/numpy/ndarraytypes.h:1929\u001b[m\u001b[K,\r\n",
      "                 from \u001b[01m\u001b[K/opt/conda/lib/python3.10/site-packages/numpy/core/include/numpy/ndarrayobject.h:12\u001b[m\u001b[K,\r\n",
      "                 from \u001b[01m\u001b[K/opt/conda/lib/python3.10/site-packages/numpy/core/include/numpy/arrayobject.h:5\u001b[m\u001b[K,\r\n",
      "                 from \u001b[01m\u001b[KCFW_D_Similarity_Cython_SGD.c:1252\u001b[m\u001b[K:\r\n",
      "\u001b[01m\u001b[K/opt/conda/lib/python3.10/site-packages/numpy/core/include/numpy/npy_1_7_deprecated_api.h:17:2:\u001b[m\u001b[K \u001b[01;35m\u001b[Kwarning: \u001b[m\u001b[K#warning \"Using deprecated NumPy API, disable it with \" \"#define NPY_NO_DEPRECATED_API NPY_1_7_API_VERSION\" [\u001b[01;35m\u001b[K-Wcpp\u001b[m\u001b[K]\r\n",
      "   17 | #\u001b[01;35m\u001b[Kwarning\u001b[m\u001b[K \"Using deprecated NumPy API, disable it with \" \\\r\n",
      "      |  \u001b[01;35m\u001b[K^~~~~~~\u001b[m\u001b[K\r\n",
      "\u001b[01m\u001b[KCFW_D_Similarity_Cython_SGD.c:\u001b[m\u001b[K In function '\u001b[01m\u001b[K__pyx_pf_27CFW_D_Similarity_Cython_SGD_27CFW_D_Similarity_Cython_SGD_6fit\u001b[m\u001b[K':\r\n",
      "\u001b[01m\u001b[KCFW_D_Similarity_Cython_SGD.c:23373:55:\u001b[m\u001b[K \u001b[01;35m\u001b[Kwarning: \u001b[m\u001b[K'\u001b[01m\u001b[K__pyx_v_sample_num\u001b[m\u001b[K' may be used uninitialized in this function [\u001b[01;35m\u001b[K-Wmaybe-uninitialized\u001b[m\u001b[K]\r\n",
      "23373 |   __pyx_t_3 = PyFloat_FromDouble((__pyx_v_cum_loss / \u001b[01;35m\u001b[K((double)__pyx_v_sample_num)\u001b[m\u001b[K)); if (unlikely(!__pyx_t_3)) __PYX_ERR(0, 290, __pyx_L1_error)\r\n",
      "      |                                                      \u001b[01;35m\u001b[K~^~~~~~~~~~~~~~~~~~~~~~~~~~~\u001b[m\u001b[K\r\n",
      "/opt/conda/lib/python3.10/site-packages/Cython/Compiler/Main.py:381: FutureWarning: Cython directive 'language_level' not set, using '3str' for now (Py3). This has changed from earlier releases! File: /kaggle/working/RECsys_Challenge2024/Recommenders/FeatureWeighting/Cython/CFW_D_Similarity_Cython_SGD.pyx\r\n",
      "  tree = Parsing.p_module(s, pxd, full_module_name)\r\n",
      "Compiling [8/11]: CFW_D_Similarity_Cython_SGD.pyx... PASS\r\n",
      "\r\n",
      "Compiling [9/11]: HP3_Similarity_Cython_SGD.pyx... \r\n",
      "performance hint: HP3_Similarity_Cython_SGD.pyx:113:40: Index should be typed for more efficient access\r\n",
      "performance hint: HP3_Similarity_Cython_SGD.pyx:114:40: Index should be typed for more efficient access\r\n",
      "In file included from \u001b[01m\u001b[K/opt/conda/lib/python3.10/site-packages/numpy/core/include/numpy/ndarraytypes.h:1929\u001b[m\u001b[K,\r\n",
      "                 from \u001b[01m\u001b[K/opt/conda/lib/python3.10/site-packages/numpy/core/include/numpy/ndarrayobject.h:12\u001b[m\u001b[K,\r\n",
      "                 from \u001b[01m\u001b[K/opt/conda/lib/python3.10/site-packages/numpy/core/include/numpy/arrayobject.h:5\u001b[m\u001b[K,\r\n",
      "                 from \u001b[01m\u001b[KHP3_Similarity_Cython_SGD.c:1252\u001b[m\u001b[K:\r\n",
      "\u001b[01m\u001b[K/opt/conda/lib/python3.10/site-packages/numpy/core/include/numpy/npy_1_7_deprecated_api.h:17:2:\u001b[m\u001b[K \u001b[01;35m\u001b[Kwarning: \u001b[m\u001b[K#warning \"Using deprecated NumPy API, disable it with \" \"#define NPY_NO_DEPRECATED_API NPY_1_7_API_VERSION\" [\u001b[01;35m\u001b[K-Wcpp\u001b[m\u001b[K]\r\n",
      "   17 | #\u001b[01;35m\u001b[Kwarning\u001b[m\u001b[K \"Using deprecated NumPy API, disable it with \" \\\r\n",
      "      |  \u001b[01;35m\u001b[K^~~~~~~\u001b[m\u001b[K\r\n",
      "\u001b[01m\u001b[KHP3_Similarity_Cython_SGD.c:\u001b[m\u001b[K In function '\u001b[01m\u001b[K__pyx_pf_25HP3_Similarity_Cython_SGD_25HP3_Similarity_Cython_SGD_4fit\u001b[m\u001b[K':\r\n",
      "\u001b[01m\u001b[KHP3_Similarity_Cython_SGD.c:23631:55:\u001b[m\u001b[K \u001b[01;35m\u001b[Kwarning: \u001b[m\u001b[K'\u001b[01m\u001b[K__pyx_v_sample_num\u001b[m\u001b[K' may be used uninitialized in this function [\u001b[01;35m\u001b[K-Wmaybe-uninitialized\u001b[m\u001b[K]\r\n",
      "23631 |   __pyx_t_1 = PyFloat_FromDouble((__pyx_v_cum_loss / \u001b[01;35m\u001b[K((double)__pyx_v_sample_num)\u001b[m\u001b[K)); if (unlikely(!__pyx_t_1)) __PYX_ERR(0, 291, __pyx_L1_error)\r\n",
      "      |                                                      \u001b[01;35m\u001b[K~^~~~~~~~~~~~~~~~~~~~~~~~~~~\u001b[m\u001b[K\r\n",
      "/opt/conda/lib/python3.10/site-packages/Cython/Compiler/Main.py:381: FutureWarning: Cython directive 'language_level' not set, using '3str' for now (Py3). This has changed from earlier releases! File: /kaggle/working/RECsys_Challenge2024/Recommenders/FeatureWeighting/Cython/HP3_Similarity_Cython_SGD.pyx\r\n",
      "  tree = Parsing.p_module(s, pxd, full_module_name)\r\n",
      "performance hint: HP3_Similarity_Cython_SGD.pyx:113:40: Index should be typed for more efficient access\r\n",
      "performance hint: HP3_Similarity_Cython_SGD.pyx:114:40: Index should be typed for more efficient access\r\n",
      "Compiling [9/11]: HP3_Similarity_Cython_SGD.pyx... PASS\r\n",
      "\r\n",
      "Compiling [10/11]: FBSM_Rating_Cython_SGD.pyx... \r\n",
      "In file included from \u001b[01m\u001b[K/opt/conda/lib/python3.10/site-packages/numpy/core/include/numpy/ndarraytypes.h:1929\u001b[m\u001b[K,\r\n",
      "                 from \u001b[01m\u001b[K/opt/conda/lib/python3.10/site-packages/numpy/core/include/numpy/ndarrayobject.h:12\u001b[m\u001b[K,\r\n",
      "                 from \u001b[01m\u001b[K/opt/conda/lib/python3.10/site-packages/numpy/core/include/numpy/arrayobject.h:5\u001b[m\u001b[K,\r\n",
      "                 from \u001b[01m\u001b[KFBSM_Rating_Cython_SGD.c:1252\u001b[m\u001b[K:\r\n",
      "\u001b[01m\u001b[K/opt/conda/lib/python3.10/site-packages/numpy/core/include/numpy/npy_1_7_deprecated_api.h:17:2:\u001b[m\u001b[K \u001b[01;35m\u001b[Kwarning: \u001b[m\u001b[K#warning \"Using deprecated NumPy API, disable it with \" \"#define NPY_NO_DEPRECATED_API NPY_1_7_API_VERSION\" [\u001b[01;35m\u001b[K-Wcpp\u001b[m\u001b[K]\r\n",
      "   17 | #\u001b[01;35m\u001b[Kwarning\u001b[m\u001b[K \"Using deprecated NumPy API, disable it with \" \\\r\n",
      "      |  \u001b[01;35m\u001b[K^~~~~~~\u001b[m\u001b[K\r\n",
      "\u001b[01m\u001b[KFBSM_Rating_Cython_SGD.c:\u001b[m\u001b[K In function '\u001b[01m\u001b[K__pyx_pf_22FBSM_Rating_Cython_SGD_22FBSM_Rating_Cython_SGD_2fit\u001b[m\u001b[K':\r\n",
      "\u001b[01m\u001b[KFBSM_Rating_Cython_SGD.c:26607:55:\u001b[m\u001b[K \u001b[01;35m\u001b[Kwarning: \u001b[m\u001b[K'\u001b[01m\u001b[K__pyx_v_num_sample\u001b[m\u001b[K' may be used uninitialized in this function [\u001b[01;35m\u001b[K-Wmaybe-uninitialized\u001b[m\u001b[K]\r\n",
      "26607 |   __pyx_t_5 = PyFloat_FromDouble((__pyx_v_cum_loss / \u001b[01;35m\u001b[K((double)__pyx_v_num_sample)\u001b[m\u001b[K)); if (unlikely(!__pyx_t_5)) __PYX_ERR(0, 551, __pyx_L1_error)\r\n",
      "      |                                                      \u001b[01;35m\u001b[K~^~~~~~~~~~~~~~~~~~~~~~~~~~~\u001b[m\u001b[K\r\n",
      "/opt/conda/lib/python3.10/site-packages/Cython/Compiler/Main.py:381: FutureWarning: Cython directive 'language_level' not set, using '3str' for now (Py3). This has changed from earlier releases! File: /kaggle/working/RECsys_Challenge2024/Recommenders/FeatureWeighting/Cython/FBSM_Rating_Cython_SGD.pyx\r\n",
      "  tree = Parsing.p_module(s, pxd, full_module_name)\r\n",
      "Compiling [10/11]: FBSM_Rating_Cython_SGD.pyx... PASS\r\n",
      "\r\n",
      "Compiling [11/11]: DataIterator.pyx... \r\n",
      "In file included from \u001b[01m\u001b[K/opt/conda/lib/python3.10/site-packages/numpy/core/include/numpy/ndarraytypes.h:1929\u001b[m\u001b[K,\r\n",
      "                 from \u001b[01m\u001b[K/opt/conda/lib/python3.10/site-packages/numpy/core/include/numpy/ndarrayobject.h:12\u001b[m\u001b[K,\r\n",
      "                 from \u001b[01m\u001b[K/opt/conda/lib/python3.10/site-packages/numpy/core/include/numpy/arrayobject.h:5\u001b[m\u001b[K,\r\n",
      "                 from \u001b[01m\u001b[KDataIterator.c:1252\u001b[m\u001b[K:\r\n",
      "\u001b[01m\u001b[K/opt/conda/lib/python3.10/site-packages/numpy/core/include/numpy/npy_1_7_deprecated_api.h:17:2:\u001b[m\u001b[K \u001b[01;35m\u001b[Kwarning: \u001b[m\u001b[K#warning \"Using deprecated NumPy API, disable it with \" \"#define NPY_NO_DEPRECATED_API NPY_1_7_API_VERSION\" [\u001b[01;35m\u001b[K-Wcpp\u001b[m\u001b[K]\r\n",
      "   17 | #\u001b[01;35m\u001b[Kwarning\u001b[m\u001b[K \"Using deprecated NumPy API, disable it with \" \\\r\n",
      "      |  \u001b[01;35m\u001b[K^~~~~~~\u001b[m\u001b[K\r\n",
      "\u001b[01m\u001b[KDataIterator.c:\u001b[m\u001b[K In function '\u001b[01m\u001b[K__pyx_pf_12DataIterator_30InteractionAndNegativeIterator_6__next__\u001b[m\u001b[K':\r\n",
      "\u001b[01m\u001b[KDataIterator.c:25495:22:\u001b[m\u001b[K \u001b[01;35m\u001b[Kwarning: \u001b[m\u001b[K'\u001b[01m\u001b[K__pyx_v_i_batch\u001b[m\u001b[K' may be used uninitialized in this function [\u001b[01;35m\u001b[K-Wmaybe-uninitialized\u001b[m\u001b[K]\r\n",
      "25495 |     (__pyx_v_i_batch \u001b[01;35m\u001b[K+\u001b[m\u001b[K 1),\r\n",
      "      |                      \u001b[01;35m\u001b[K^\u001b[m\u001b[K\r\n",
      "\u001b[01m\u001b[KDataIterator.c:\u001b[m\u001b[K In function '\u001b[01m\u001b[K__pyx_pf_12DataIterator_11BPRIterator_6__next__\u001b[m\u001b[K':\r\n",
      "\u001b[01m\u001b[KDataIterator.c:23054:22:\u001b[m\u001b[K \u001b[01;35m\u001b[Kwarning: \u001b[m\u001b[K'\u001b[01m\u001b[K__pyx_v_i_batch\u001b[m\u001b[K' may be used uninitialized in this function [\u001b[01;35m\u001b[K-Wmaybe-uninitialized\u001b[m\u001b[K]\r\n",
      "23054 |     (__pyx_v_i_batch \u001b[01;35m\u001b[K+\u001b[m\u001b[K 1),\r\n",
      "      |                      \u001b[01;35m\u001b[K^\u001b[m\u001b[K\r\n",
      "\u001b[01m\u001b[KDataIterator.c:\u001b[m\u001b[K In function '\u001b[01m\u001b[K__pyx_pf_12DataIterator_19InteractionIterator_6__next__\u001b[m\u001b[K':\r\n",
      "\u001b[01m\u001b[KDataIterator.c:20937:22:\u001b[m\u001b[K \u001b[01;35m\u001b[Kwarning: \u001b[m\u001b[K'\u001b[01m\u001b[K__pyx_v_i_batch\u001b[m\u001b[K' may be used uninitialized in this function [\u001b[01;35m\u001b[K-Wmaybe-uninitialized\u001b[m\u001b[K]\r\n",
      "20937 |     (__pyx_v_i_batch \u001b[01;35m\u001b[K+\u001b[m\u001b[K 1),\r\n",
      "      |                      \u001b[01;35m\u001b[K^\u001b[m\u001b[K\r\n",
      "/opt/conda/lib/python3.10/site-packages/Cython/Compiler/Main.py:381: FutureWarning: Cython directive 'language_level' not set, using '3str' for now (Py3). This has changed from earlier releases! File: /kaggle/working/RECsys_Challenge2024/Utils/PyTorch/Cython/DataIterator.pyx\r\n",
      "  tree = Parsing.p_module(s, pxd, full_module_name)\r\n",
      "Compiling [11/11]: DataIterator.pyx... PASS\r\n",
      "\r\n",
      "run_compile_all_cython: Compilation finished. FAILS 2/11.\r\n",
      "Compilation log can be found here: './result_experiments/run_compile_all_cython.txt'\r\n"
     ]
    }
   ],
   "source": [
    "%cd /kaggle/working/RECsys_Challenge2024 \n",
    "! python run_compile_all_cython.py"
   ]
  },
  {
   "cell_type": "code",
   "execution_count": 5,
   "id": "20dab715",
   "metadata": {
    "execution": {
     "iopub.execute_input": "2024-12-16T01:14:16.951778Z",
     "iopub.status.busy": "2024-12-16T01:14:16.951334Z",
     "iopub.status.idle": "2024-12-16T01:14:18.594641Z",
     "shell.execute_reply": "2024-12-16T01:14:18.593541Z"
    },
    "papermill": {
     "duration": 1.660045,
     "end_time": "2024-12-16T01:14:18.597178",
     "exception": false,
     "start_time": "2024-12-16T01:14:16.937133",
     "status": "completed"
    },
    "tags": []
   },
   "outputs": [],
   "source": [
    "from Utils.notebookFunctions import *\n",
    "import numpy as np\n",
    "import pandas as pd\n",
    "import scipy.sparse as sps\n",
    "import time\n",
    "import shutil\n",
    "import optuna\n",
    "import json\n",
    "import os\n",
    "from Utils.seconds_to_biggest_unit import seconds_to_biggest_unit\n",
    "\n",
    "\n",
    "K_PATH = '/kaggle/working/RECsys_Challenge2024'\n",
    "GH_PATH = 'TrainedModels/WithoutKFCV/GraphBased'\n",
    "\n",
    "np.random.seed(42)"
   ]
  },
  {
   "cell_type": "markdown",
   "id": "c7e73114",
   "metadata": {
    "papermill": {
     "duration": 0.012507,
     "end_time": "2024-12-16T01:14:18.623294",
     "exception": false,
     "start_time": "2024-12-16T01:14:18.610787",
     "status": "completed"
    },
    "tags": []
   },
   "source": [
    "## Import the repository"
   ]
  },
  {
   "cell_type": "code",
   "execution_count": 6,
   "id": "7a6577df",
   "metadata": {
    "execution": {
     "iopub.execute_input": "2024-12-16T01:14:18.650253Z",
     "iopub.status.busy": "2024-12-16T01:14:18.649710Z",
     "iopub.status.idle": "2024-12-16T01:14:18.963950Z",
     "shell.execute_reply": "2024-12-16T01:14:18.962557Z"
    },
    "papermill": {
     "duration": 0.330667,
     "end_time": "2024-12-16T01:14:18.966585",
     "exception": false,
     "start_time": "2024-12-16T01:14:18.635918",
     "status": "completed"
    },
    "tags": []
   },
   "outputs": [
    {
     "name": "stdout",
     "output_type": "stream",
     "text": [
      "Repository 'RECsys_Challenge2024' found.\n"
     ]
    }
   ],
   "source": [
    "repo = get_repo_from_github(token)"
   ]
  },
  {
   "cell_type": "code",
   "execution_count": 7,
   "id": "83c125dd",
   "metadata": {
    "execution": {
     "iopub.execute_input": "2024-12-16T01:14:18.994760Z",
     "iopub.status.busy": "2024-12-16T01:14:18.993965Z",
     "iopub.status.idle": "2024-12-16T01:14:18.999249Z",
     "shell.execute_reply": "2024-12-16T01:14:18.998112Z"
    },
    "papermill": {
     "duration": 0.021486,
     "end_time": "2024-12-16T01:14:19.001277",
     "exception": false,
     "start_time": "2024-12-16T01:14:18.979791",
     "status": "completed"
    },
    "tags": []
   },
   "outputs": [],
   "source": [
    "config = {\n",
    "    'model': 'RP3beta',\n",
    "    'metric': 'Recall',\n",
    "    'tune_parameters': True,\n",
    "    'database_path': '/kaggle/working/history_RP3beta_Recall.db',\n",
    "    'copy_prev_best_params': False,\n",
    "    'tune_best_params': True,\n",
    "    'save_github': True\n",
    "}"
   ]
  },
  {
   "cell_type": "markdown",
   "id": "4a3d18d0",
   "metadata": {
    "papermill": {
     "duration": 0.012218,
     "end_time": "2024-12-16T01:14:19.026236",
     "exception": false,
     "start_time": "2024-12-16T01:14:19.014018",
     "status": "completed"
    },
    "tags": []
   },
   "source": [
    "Import the database where previous tuning trials have been saved."
   ]
  },
  {
   "cell_type": "code",
   "execution_count": 8,
   "id": "59d96c83",
   "metadata": {
    "execution": {
     "iopub.execute_input": "2024-12-16T01:14:19.053945Z",
     "iopub.status.busy": "2024-12-16T01:14:19.052843Z",
     "iopub.status.idle": "2024-12-16T01:14:19.059288Z",
     "shell.execute_reply": "2024-12-16T01:14:19.057767Z"
    },
    "papermill": {
     "duration": 0.022966,
     "end_time": "2024-12-16T01:14:19.061848",
     "exception": false,
     "start_time": "2024-12-16T01:14:19.038882",
     "status": "completed"
    },
    "tags": []
   },
   "outputs": [],
   "source": [
    "try:\n",
    "    shutil.copyfile(\n",
    "        f'{K_PATH}/{GH_PATH}/{config[\"model\"]}Recommender/Optimizing{config[\"metric\"]}/history_{config[\"model\"]}_{config[\"metric\"]}.db', \n",
    "        config['database_path']\n",
    "    )\n",
    "except FileNotFoundError:\n",
    "    pass # if not present optuna will create it"
   ]
  },
  {
   "cell_type": "markdown",
   "id": "8a4f08ff",
   "metadata": {
    "papermill": {
     "duration": 0.012421,
     "end_time": "2024-12-16T01:14:19.088086",
     "exception": false,
     "start_time": "2024-12-16T01:14:19.075665",
     "status": "completed"
    },
    "tags": []
   },
   "source": [
    "# Construction of URM and ICM matrices"
   ]
  },
  {
   "cell_type": "code",
   "execution_count": 9,
   "id": "2e5661ed",
   "metadata": {
    "execution": {
     "iopub.execute_input": "2024-12-16T01:14:19.115240Z",
     "iopub.status.busy": "2024-12-16T01:14:19.114808Z",
     "iopub.status.idle": "2024-12-16T01:14:19.926458Z",
     "shell.execute_reply": "2024-12-16T01:14:19.925437Z"
    },
    "papermill": {
     "duration": 0.827924,
     "end_time": "2024-12-16T01:14:19.928840",
     "exception": false,
     "start_time": "2024-12-16T01:14:19.100916",
     "status": "completed"
    },
    "tags": []
   },
   "outputs": [
    {
     "data": {
      "text/plain": [
       "<Compressed Sparse Row sparse matrix of dtype 'float64'\n",
       "\twith 1764607 stored elements and shape (35736, 38121)>"
      ]
     },
     "execution_count": 9,
     "metadata": {},
     "output_type": "execute_result"
    }
   ],
   "source": [
    "URM_all_dataframe = pd.read_csv(\"/kaggle/input/recommender-system-2024-challenge-polimi/data_train.csv\")\n",
    "\n",
    "n_users = len(URM_all_dataframe[\"user_id\"].unique())\n",
    "n_items = len(URM_all_dataframe[\"item_id\"].unique())\n",
    "\n",
    "URM_all = sps.csr_matrix((URM_all_dataframe[\"data\"].values, \n",
    "                          (URM_all_dataframe[\"user_id\"].values, URM_all_dataframe[\"item_id\"].values)),\n",
    "                        shape = (n_users, n_items))\n",
    "\n",
    "URM_all"
   ]
  },
  {
   "cell_type": "code",
   "execution_count": 10,
   "id": "7e7f0d30",
   "metadata": {
    "execution": {
     "iopub.execute_input": "2024-12-16T01:14:19.956646Z",
     "iopub.status.busy": "2024-12-16T01:14:19.956266Z",
     "iopub.status.idle": "2024-12-16T01:14:21.280718Z",
     "shell.execute_reply": "2024-12-16T01:14:21.279625Z"
    },
    "papermill": {
     "duration": 1.341152,
     "end_time": "2024-12-16T01:14:21.282994",
     "exception": false,
     "start_time": "2024-12-16T01:14:19.941842",
     "status": "completed"
    },
    "tags": []
   },
   "outputs": [
    {
     "data": {
      "text/plain": [
       "<Compressed Sparse Row sparse matrix of dtype 'float64'\n",
       "\twith 2940040 stored elements and shape (38121, 94331)>"
      ]
     },
     "execution_count": 10,
     "metadata": {},
     "output_type": "execute_result"
    }
   ],
   "source": [
    "ICM_dataframe = pd.read_csv(\"/kaggle/input/recommender-system-2024-challenge-polimi/data_ICM_metadata.csv\")\n",
    "\n",
    "n_items = len(ICM_dataframe[\"item_id\"].unique())\n",
    "n_features = len(ICM_dataframe[\"feature_id\"].unique())\n",
    "\n",
    "ICM_all = sps.csr_matrix((ICM_dataframe[\"data\"].values, \n",
    "                          (ICM_dataframe[\"item_id\"].values, ICM_dataframe[\"feature_id\"].values)),\n",
    "                        shape = (n_items, n_features))\n",
    "\n",
    "ICM_all"
   ]
  },
  {
   "cell_type": "markdown",
   "id": "babe271d",
   "metadata": {
    "papermill": {
     "duration": 0.012427,
     "end_time": "2024-12-16T01:14:21.308284",
     "exception": false,
     "start_time": "2024-12-16T01:14:21.295857",
     "status": "completed"
    },
    "tags": []
   },
   "source": [
    "# Training"
   ]
  },
  {
   "cell_type": "code",
   "execution_count": 11,
   "id": "01c28210",
   "metadata": {
    "execution": {
     "iopub.execute_input": "2024-12-16T01:14:21.335535Z",
     "iopub.status.busy": "2024-12-16T01:14:21.335166Z",
     "iopub.status.idle": "2024-12-16T01:14:24.245476Z",
     "shell.execute_reply": "2024-12-16T01:14:24.244332Z"
    },
    "papermill": {
     "duration": 2.92674,
     "end_time": "2024-12-16T01:14:24.247863",
     "exception": false,
     "start_time": "2024-12-16T01:14:21.321123",
     "status": "completed"
    },
    "tags": []
   },
   "outputs": [
    {
     "name": "stdout",
     "output_type": "stream",
     "text": [
      "Warning: 141 (0.39 %) of 35736 users have no sampled items\n",
      "EvaluatorHoldout: Ignoring 141 ( 0.4%) Users that have less than 1 test interactions\n"
     ]
    }
   ],
   "source": [
    "from Evaluation.Evaluator import EvaluatorHoldout\n",
    "from Data_manager.split_functions.split_train_validation_random_holdout import split_train_in_two_percentage_global_sample\n",
    "\n",
    "URM_train, URM_validation = split_train_in_two_percentage_global_sample(URM_all, train_percentage = 0.80)\n",
    "\n",
    "evaluator_validation = EvaluatorHoldout(URM_validation, cutoff_list=[50])"
   ]
  },
  {
   "cell_type": "code",
   "execution_count": 12,
   "id": "4b38f5e8",
   "metadata": {
    "execution": {
     "iopub.execute_input": "2024-12-16T01:14:24.276767Z",
     "iopub.status.busy": "2024-12-16T01:14:24.275984Z",
     "iopub.status.idle": "2024-12-16T01:14:25.320544Z",
     "shell.execute_reply": "2024-12-16T01:14:25.319280Z"
    },
    "papermill": {
     "duration": 1.061689,
     "end_time": "2024-12-16T01:14:25.323167",
     "exception": false,
     "start_time": "2024-12-16T01:14:24.261478",
     "status": "completed"
    },
    "tags": []
   },
   "outputs": [],
   "source": [
    "from Recommenders.GraphBased.RP3betaRecommender import RP3betaRecommender\n",
    "\n",
    "def objective_function_RP3beta(optuna_trial):\n",
    "    \n",
    "    recommender_instance = RP3betaRecommender(URM_train)\n",
    "    \n",
    "    full_hyperp = {\n",
    "                    \"topK\": optuna_trial.suggest_int(\"topK\", 0, 1500),\n",
    "                   \"alpha\": optuna_trial.suggest_float(\"alpha\", 0, 3, log=False),\n",
    "                   \"beta\": optuna_trial.suggest_float(\"beta\", 0, 3, log=False),\n",
    "                   \"normalize_similarity\": optuna_trial.suggest_categorical(\"normalize_similarity\", [True, False]),\n",
    "                   \"implicit\": optuna_trial.suggest_categorical(\"implicit\", [True, False]),\n",
    "                  }        \n",
    "    \n",
    "    recommender_instance.fit(**full_hyperp)\n",
    "    \n",
    "    result_df, _ = evaluator_validation.evaluateRecommender(recommender_instance)\n",
    "    \n",
    "    return result_df.loc[50][\"RECALL\"]"
   ]
  },
  {
   "cell_type": "code",
   "execution_count": 13,
   "id": "de11fc6d",
   "metadata": {
    "_kg_hide-output": true,
    "execution": {
     "iopub.execute_input": "2024-12-16T01:14:25.351927Z",
     "iopub.status.busy": "2024-12-16T01:14:25.351129Z",
     "iopub.status.idle": "2024-12-16T06:04:00.383253Z",
     "shell.execute_reply": "2024-12-16T06:04:00.382094Z"
    },
    "papermill": {
     "duration": 17375.050856,
     "end_time": "2024-12-16T06:04:00.387192",
     "exception": false,
     "start_time": "2024-12-16T01:14:25.336336",
     "status": "completed"
    },
    "tags": []
   },
   "outputs": [
    {
     "name": "stderr",
     "output_type": "stream",
     "text": [
      "[I 2024-12-16 01:14:27,213] A new study created in RDB with name: hyperparameters_tuning_RP3beta_Recall\n"
     ]
    },
    {
     "name": "stdout",
     "output_type": "stream",
     "text": [
      "RP3betaRecommender: Similarity column 38121 (100.0%), 1938.87 column/sec. Elapsed time 19.66 sec\n",
      "EvaluatorHoldout: Processed 35595 (100.0%) in 35.31 sec. Users per second: 1008\n"
     ]
    },
    {
     "name": "stderr",
     "output_type": "stream",
     "text": [
      "[I 2024-12-16 01:15:24,212] Trial 0 finished with value: 0.07739749877027387 and parameters: {'topK': 54, 'alpha': 0.6842933111707797, 'beta': 2.2341282577965647, 'normalize_similarity': True, 'implicit': True}. Best is trial 0 with value: 0.07739749877027387.\n"
     ]
    },
    {
     "name": "stdout",
     "output_type": "stream",
     "text": [
      "RP3betaRecommender: Similarity column 38121 (100.0%), 886.52 column/sec. Elapsed time 43.00 sec\n",
      "EvaluatorHoldout: Processed 35595 (100.0%) in 51.26 sec. Users per second: 694\n"
     ]
    },
    {
     "name": "stderr",
     "output_type": "stream",
     "text": [
      "[I 2024-12-16 01:17:21,417] Trial 1 finished with value: 0.07858667209228613 and parameters: {'topK': 530, 'alpha': 2.7790952329464527, 'beta': 1.5237060671181681, 'normalize_similarity': True, 'implicit': False}. Best is trial 1 with value: 0.07858667209228613.\n"
     ]
    },
    {
     "name": "stdout",
     "output_type": "stream",
     "text": [
      "RP3betaRecommender: Similarity column 38121 (100.0%), 533.21 column/sec. Elapsed time 1.19 min\n",
      "EvaluatorHoldout: Processed 35595 (100.0%) in 1.01 min. Users per second: 586\n"
     ]
    },
    {
     "name": "stderr",
     "output_type": "stream",
     "text": [
      "[I 2024-12-16 01:20:20,909] Trial 2 finished with value: 0.06510864611853484 and parameters: {'topK': 1163, 'alpha': 1.7067858787857335, 'beta': 2.3745177621820264, 'normalize_similarity': True, 'implicit': True}. Best is trial 1 with value: 0.07858667209228613.\n"
     ]
    },
    {
     "name": "stdout",
     "output_type": "stream",
     "text": [
      "RP3betaRecommender: Similarity column 38121 (100.0%), 1629.90 column/sec. Elapsed time 23.39 sec\n",
      "EvaluatorHoldout: Processed 35595 (100.0%) in 36.99 sec. Users per second: 962\n"
     ]
    },
    {
     "name": "stderr",
     "output_type": "stream",
     "text": [
      "[I 2024-12-16 01:21:24,877] Trial 3 finished with value: 0.07847320693421804 and parameters: {'topK': 135, 'alpha': 0.08735907408408583, 'beta': 2.0776403251470823, 'normalize_similarity': True, 'implicit': True}. Best is trial 1 with value: 0.07858667209228613.\n"
     ]
    },
    {
     "name": "stdout",
     "output_type": "stream",
     "text": [
      "RP3betaRecommender: Similarity column 38121 (100.0%), 1327.22 column/sec. Elapsed time 28.72 sec\n",
      "EvaluatorHoldout: Processed 35595 (100.0%) in 42.11 sec. Users per second: 845\n"
     ]
    },
    {
     "name": "stderr",
     "output_type": "stream",
     "text": [
      "[I 2024-12-16 01:22:45,719] Trial 4 finished with value: 0.04748853628419093 and parameters: {'topK': 242, 'alpha': 2.549235108607817, 'beta': 2.5466006144958317, 'normalize_similarity': False, 'implicit': False}. Best is trial 1 with value: 0.07858667209228613.\n"
     ]
    },
    {
     "name": "stdout",
     "output_type": "stream",
     "text": [
      "RP3betaRecommender: Similarity column 38121 (100.0%), 916.56 column/sec. Elapsed time 41.59 sec\n",
      "EvaluatorHoldout: Processed 35595 (100.0%) in 49.30 sec. Users per second: 722\n"
     ]
    },
    {
     "name": "stderr",
     "output_type": "stream",
     "text": [
      "[I 2024-12-16 01:24:38,742] Trial 5 finished with value: 0.06630303591406465 and parameters: {'topK': 504, 'alpha': 2.2575367053624023, 'beta': 1.5386822557146016, 'normalize_similarity': False, 'implicit': False}. Best is trial 1 with value: 0.07858667209228613.\n"
     ]
    },
    {
     "name": "stdout",
     "output_type": "stream",
     "text": [
      "RP3betaRecommender: Similarity column 38121 (100.0%), 528.69 column/sec. Elapsed time 1.20 min\n",
      "EvaluatorHoldout: Processed 35595 (100.0%) in 1.01 min. Users per second: 585\n"
     ]
    },
    {
     "name": "stderr",
     "output_type": "stream",
     "text": [
      "[I 2024-12-16 01:27:40,437] Trial 6 finished with value: 0.05559490574123661 and parameters: {'topK': 1202, 'alpha': 1.6521958054205281, 'beta': 2.876212775266612, 'normalize_similarity': True, 'implicit': False}. Best is trial 1 with value: 0.07858667209228613.\n"
     ]
    },
    {
     "name": "stdout",
     "output_type": "stream",
     "text": [
      "RP3betaRecommender: Similarity column 38121 (100.0%), 2275.34 column/sec. Elapsed time 16.75 sec\n",
      "EvaluatorHoldout: Processed 35595 (100.0%) in 29.69 sec. Users per second: 1199\n"
     ]
    },
    {
     "name": "stderr",
     "output_type": "stream",
     "text": [
      "[I 2024-12-16 01:28:27,784] Trial 7 finished with value: 0.03880682904742222 and parameters: {'topK': 4, 'alpha': 2.305417285762639, 'beta': 1.6970356288321415, 'normalize_similarity': False, 'implicit': False}. Best is trial 1 with value: 0.07858667209228613.\n"
     ]
    },
    {
     "name": "stdout",
     "output_type": "stream",
     "text": [
      "RP3betaRecommender: Similarity column 38121 (100.0%), 1235.33 column/sec. Elapsed time 30.86 sec\n",
      "EvaluatorHoldout: Processed 35595 (100.0%) in 41.83 sec. Users per second: 851\n"
     ]
    },
    {
     "name": "stderr",
     "output_type": "stream",
     "text": [
      "[I 2024-12-16 01:29:51,263] Trial 8 finished with value: 0.0511740666502776 and parameters: {'topK': 288, 'alpha': 1.746946434975432, 'beta': 2.9492486495685464, 'normalize_similarity': False, 'implicit': True}. Best is trial 1 with value: 0.07858667209228613.\n"
     ]
    },
    {
     "name": "stdout",
     "output_type": "stream",
     "text": [
      "RP3betaRecommender: Similarity column 38121 (100.0%), 618.19 column/sec. Elapsed time 1.03 min\n",
      "EvaluatorHoldout: Processed 35595 (100.0%) in 53.26 sec. Users per second: 668\n"
     ]
    },
    {
     "name": "stderr",
     "output_type": "stream",
     "text": [
      "[I 2024-12-16 01:32:18,455] Trial 9 finished with value: 0.04990227196529182 and parameters: {'topK': 912, 'alpha': 0.08732837704539587, 'beta': 2.5634944874786925, 'normalize_similarity': False, 'implicit': True}. Best is trial 1 with value: 0.07858667209228613.\n"
     ]
    },
    {
     "name": "stdout",
     "output_type": "stream",
     "text": [
      "RP3betaRecommender: Similarity column 38121 (100.0%), 758.88 column/sec. Elapsed time 50.23 sec\n",
      "EvaluatorHoldout: Processed 35595 (100.0%) in 52.71 sec. Users per second: 675\n"
     ]
    },
    {
     "name": "stderr",
     "output_type": "stream",
     "text": [
      "[I 2024-12-16 01:34:27,802] Trial 10 finished with value: 0.17203837452657234 and parameters: {'topK': 670, 'alpha': 2.717420708088634, 'beta': 0.5696247852175433, 'normalize_similarity': True, 'implicit': False}. Best is trial 10 with value: 0.17203837452657234.\n"
     ]
    },
    {
     "name": "stdout",
     "output_type": "stream",
     "text": [
      "RP3betaRecommender: Similarity column 38121 (100.0%), 787.48 column/sec. Elapsed time 48.41 sec\n",
      "EvaluatorHoldout: Processed 35595 (100.0%) in 52.52 sec. Users per second: 678\n"
     ]
    },
    {
     "name": "stderr",
     "output_type": "stream",
     "text": [
      "[I 2024-12-16 01:36:34,357] Trial 11 finished with value: 0.16417606308745472 and parameters: {'topK': 651, 'alpha': 2.8612235438411924, 'beta': 0.5834140213291801, 'normalize_similarity': True, 'implicit': False}. Best is trial 10 with value: 0.17203837452657234.\n"
     ]
    },
    {
     "name": "stdout",
     "output_type": "stream",
     "text": [
      "RP3betaRecommender: Similarity column 38121 (100.0%), 715.02 column/sec. Elapsed time 53.31 sec\n",
      "EvaluatorHoldout: Processed 35595 (100.0%) in 53.33 sec. Users per second: 667\n"
     ]
    },
    {
     "name": "stderr",
     "output_type": "stream",
     "text": [
      "[I 2024-12-16 01:38:48,536] Trial 12 finished with value: 0.18159872637332145 and parameters: {'topK': 732, 'alpha': 2.984792976473483, 'beta': 0.3926920541587776, 'normalize_similarity': True, 'implicit': False}. Best is trial 12 with value: 0.18159872637332145.\n"
     ]
    },
    {
     "name": "stdout",
     "output_type": "stream",
     "text": [
      "RP3betaRecommender: Similarity column 38121 (100.0%), 630.47 column/sec. Elapsed time 1.01 min\n",
      "EvaluatorHoldout: Processed 35595 (100.0%) in 54.62 sec. Users per second: 652\n"
     ]
    },
    {
     "name": "stderr",
     "output_type": "stream",
     "text": [
      "[I 2024-12-16 01:41:17,189] Trial 13 finished with value: 0.25157064039912846 and parameters: {'topK': 880, 'alpha': 1.0256104784482591, 'beta': 0.19392368153811917, 'normalize_similarity': True, 'implicit': False}. Best is trial 13 with value: 0.25157064039912846.\n"
     ]
    },
    {
     "name": "stdout",
     "output_type": "stream",
     "text": [
      "RP3betaRecommender: Similarity column 38121 (100.0%), 593.41 column/sec. Elapsed time 1.07 min\n",
      "EvaluatorHoldout: Processed 35595 (100.0%) in 56.71 sec. Users per second: 628\n"
     ]
    },
    {
     "name": "stderr",
     "output_type": "stream",
     "text": [
      "[I 2024-12-16 01:43:54,637] Trial 14 finished with value: 0.2508552735885827 and parameters: {'topK': 999, 'alpha': 1.0290459661276423, 'beta': 0.19305681151570345, 'normalize_similarity': True, 'implicit': False}. Best is trial 13 with value: 0.25157064039912846.\n"
     ]
    },
    {
     "name": "stdout",
     "output_type": "stream",
     "text": [
      "RP3betaRecommender: Similarity column 38121 (100.0%), 624.73 column/sec. Elapsed time 1.02 min\n",
      "EvaluatorHoldout: Processed 35595 (100.0%) in 55.02 sec. Users per second: 647\n"
     ]
    },
    {
     "name": "stderr",
     "output_type": "stream",
     "text": [
      "[I 2024-12-16 01:46:24,359] Trial 15 finished with value: 0.24598114807809007 and parameters: {'topK': 930, 'alpha': 1.0876748637151383, 'beta': 0.10083257841474938, 'normalize_similarity': True, 'implicit': False}. Best is trial 13 with value: 0.25157064039912846.\n"
     ]
    },
    {
     "name": "stdout",
     "output_type": "stream",
     "text": [
      "RP3betaRecommender: Similarity column 38121 (100.0%), 471.31 column/sec. Elapsed time 1.35 min\n",
      "EvaluatorHoldout: Processed 35595 (100.0%) in 1.06 min. Users per second: 559\n"
     ]
    },
    {
     "name": "stderr",
     "output_type": "stream",
     "text": [
      "[I 2024-12-16 01:49:44,190] Trial 16 finished with value: 0.1686420169674047 and parameters: {'topK': 1451, 'alpha': 0.9706440884073295, 'beta': 0.9978941071926082, 'normalize_similarity': True, 'implicit': False}. Best is trial 13 with value: 0.25157064039912846.\n"
     ]
    },
    {
     "name": "stdout",
     "output_type": "stream",
     "text": [
      "RP3betaRecommender: Similarity column 38121 (100.0%), 593.73 column/sec. Elapsed time 1.07 min\n",
      "EvaluatorHoldout: Processed 35595 (100.0%) in 58.44 sec. Users per second: 609\n"
     ]
    },
    {
     "name": "stderr",
     "output_type": "stream",
     "text": [
      "[I 2024-12-16 01:52:27,652] Trial 17 finished with value: 0.18140302202617758 and parameters: {'topK': 992, 'alpha': 1.2458650018551618, 'beta': 0.9034554537190127, 'normalize_similarity': True, 'implicit': False}. Best is trial 13 with value: 0.25157064039912846.\n"
     ]
    },
    {
     "name": "stdout",
     "output_type": "stream",
     "text": [
      "RP3betaRecommender: Similarity column 38121 (100.0%), 536.47 column/sec. Elapsed time 1.18 min\n",
      "EvaluatorHoldout: Processed 35595 (100.0%) in 56.95 sec. Users per second: 625\n"
     ]
    },
    {
     "name": "stderr",
     "output_type": "stream",
     "text": [
      "[I 2024-12-16 01:55:15,788] Trial 18 finished with value: 0.233245079980302 and parameters: {'topK': 1165, 'alpha': 0.548676980278768, 'beta': 0.005994249680674718, 'normalize_similarity': True, 'implicit': False}. Best is trial 13 with value: 0.25157064039912846.\n"
     ]
    },
    {
     "name": "stdout",
     "output_type": "stream",
     "text": [
      "RP3betaRecommender: Similarity column 38121 (100.0%), 466.36 column/sec. Elapsed time 1.36 min\n",
      "EvaluatorHoldout: Processed 35595 (100.0%) in 1.06 min. Users per second: 562\n"
     ]
    },
    {
     "name": "stderr",
     "output_type": "stream",
     "text": [
      "[I 2024-12-16 01:58:37,509] Trial 19 finished with value: 0.15629938351752104 and parameters: {'topK': 1417, 'alpha': 0.5798504522704576, 'beta': 1.055741150168445, 'normalize_similarity': True, 'implicit': False}. Best is trial 13 with value: 0.25157064039912846.\n"
     ]
    },
    {
     "name": "stdout",
     "output_type": "stream",
     "text": [
      "RP3betaRecommender: Similarity column 38121 (100.0%), 657.51 column/sec. Elapsed time 57.98 sec\n",
      "EvaluatorHoldout: Processed 35595 (100.0%) in 55.39 sec. Users per second: 643\n"
     ]
    },
    {
     "name": "stderr",
     "output_type": "stream",
     "text": [
      "[I 2024-12-16 02:01:04,286] Trial 20 finished with value: 0.24918758047126383 and parameters: {'topK': 850, 'alpha': 1.3390854427683583, 'beta': 0.2984941059570681, 'normalize_similarity': True, 'implicit': False}. Best is trial 13 with value: 0.25157064039912846.\n"
     ]
    },
    {
     "name": "stdout",
     "output_type": "stream",
     "text": [
      "RP3betaRecommender: Similarity column 38121 (100.0%), 628.47 column/sec. Elapsed time 1.01 min\n",
      "EvaluatorHoldout: Processed 35595 (100.0%) in 56.37 sec. Users per second: 631\n"
     ]
    },
    {
     "name": "stderr",
     "output_type": "stream",
     "text": [
      "[I 2024-12-16 02:03:34,973] Trial 21 finished with value: 0.2488223323954564 and parameters: {'topK': 887, 'alpha': 1.3436940160407234, 'beta': 0.2675826676543084, 'normalize_similarity': True, 'implicit': False}. Best is trial 13 with value: 0.25157064039912846.\n"
     ]
    },
    {
     "name": "stdout",
     "output_type": "stream",
     "text": [
      "RP3betaRecommender: Similarity column 38121 (100.0%), 570.25 column/sec. Elapsed time 1.11 min\n",
      "EvaluatorHoldout: Processed 35595 (100.0%) in 59.36 sec. Users per second: 600\n"
     ]
    },
    {
     "name": "stderr",
     "output_type": "stream",
     "text": [
      "[I 2024-12-16 02:06:24,745] Trial 22 finished with value: 0.23782650633308317 and parameters: {'topK': 1054, 'alpha': 0.8545033013911831, 'beta': 0.6976114550518708, 'normalize_similarity': True, 'implicit': False}. Best is trial 13 with value: 0.25157064039912846.\n"
     ]
    },
    {
     "name": "stdout",
     "output_type": "stream",
     "text": [
      "RP3betaRecommender: Similarity column 38121 (100.0%), 674.90 column/sec. Elapsed time 56.48 sec\n",
      "EvaluatorHoldout: Processed 35595 (100.0%) in 54.89 sec. Users per second: 648\n"
     ]
    },
    {
     "name": "stderr",
     "output_type": "stream",
     "text": [
      "[I 2024-12-16 02:08:47,169] Trial 23 finished with value: 0.2261583249136928 and parameters: {'topK': 819, 'alpha': 1.970988292314554, 'beta': 0.3235803843086358, 'normalize_similarity': True, 'implicit': False}. Best is trial 13 with value: 0.25157064039912846.\n"
     ]
    },
    {
     "name": "stdout",
     "output_type": "stream",
     "text": [
      "RP3betaRecommender: Similarity column 38121 (100.0%), 499.44 column/sec. Elapsed time 1.27 min\n",
      "EvaluatorHoldout: Processed 35595 (100.0%) in 1.04 min. Users per second: 572\n"
     ]
    },
    {
     "name": "stderr",
     "output_type": "stream",
     "text": [
      "[I 2024-12-16 02:11:56,344] Trial 24 finished with value: 0.13058067197264445 and parameters: {'topK': 1290, 'alpha': 1.3491473240230862, 'beta': 1.2050949459285225, 'normalize_similarity': True, 'implicit': False}. Best is trial 13 with value: 0.25157064039912846.\n"
     ]
    },
    {
     "name": "stdout",
     "output_type": "stream",
     "text": [
      "RP3betaRecommender: Similarity column 38121 (100.0%), 907.41 column/sec. Elapsed time 42.01 sec\n",
      "EvaluatorHoldout: Processed 35595 (100.0%) in 49.50 sec. Users per second: 719\n"
     ]
    },
    {
     "name": "stderr",
     "output_type": "stream",
     "text": [
      "[I 2024-12-16 02:13:49,318] Trial 25 finished with value: 0.22325233828975805 and parameters: {'topK': 511, 'alpha': 0.3121339841712707, 'beta': 0.7242377331609782, 'normalize_similarity': True, 'implicit': False}. Best is trial 13 with value: 0.25157064039912846.\n"
     ]
    },
    {
     "name": "stdout",
     "output_type": "stream",
     "text": [
      "RP3betaRecommender: Similarity column 38121 (100.0%), 566.94 column/sec. Elapsed time 1.12 min\n",
      "EvaluatorHoldout: Processed 35595 (100.0%) in 56.91 sec. Users per second: 625\n"
     ]
    },
    {
     "name": "stderr",
     "output_type": "stream",
     "text": [
      "[I 2024-12-16 02:16:32,329] Trial 26 finished with value: 0.24043284536845194 and parameters: {'topK': 1077, 'alpha': 1.135310716589425, 'beta': 0.19239838594181835, 'normalize_similarity': False, 'implicit': True}. Best is trial 13 with value: 0.25157064039912846.\n"
     ]
    },
    {
     "name": "stdout",
     "output_type": "stream",
     "text": [
      "RP3betaRecommender: Similarity column 38121 (100.0%), 697.44 column/sec. Elapsed time 54.66 sec\n",
      "EvaluatorHoldout: Processed 35595 (100.0%) in 54.90 sec. Users per second: 648\n"
     ]
    },
    {
     "name": "stderr",
     "output_type": "stream",
     "text": [
      "[I 2024-12-16 02:18:53,827] Trial 27 finished with value: 0.2404804648408771 and parameters: {'topK': 789, 'alpha': 1.4736747324148998, 'beta': 0.4464453096326307, 'normalize_similarity': True, 'implicit': False}. Best is trial 13 with value: 0.25157064039912846.\n"
     ]
    },
    {
     "name": "stdout",
     "output_type": "stream",
     "text": [
      "RP3betaRecommender: Similarity column 38121 (100.0%), 503.14 column/sec. Elapsed time 1.26 min\n",
      "EvaluatorHoldout: Processed 35595 (100.0%) in 1.04 min. Users per second: 568\n"
     ]
    },
    {
     "name": "stderr",
     "output_type": "stream",
     "text": [
      "[I 2024-12-16 02:22:05,000] Trial 28 finished with value: 0.1407625942679735 and parameters: {'topK': 1295, 'alpha': 0.8017904242072206, 'beta': 1.1844226940926954, 'normalize_similarity': True, 'implicit': False}. Best is trial 13 with value: 0.25157064039912846.\n"
     ]
    },
    {
     "name": "stdout",
     "output_type": "stream",
     "text": [
      "RP3betaRecommender: Similarity column 38121 (100.0%), 814.61 column/sec. Elapsed time 46.80 sec\n",
      "EvaluatorHoldout: Processed 35595 (100.0%) in 48.32 sec. Users per second: 737\n"
     ]
    },
    {
     "name": "stderr",
     "output_type": "stream",
     "text": [
      "[I 2024-12-16 02:24:01,275] Trial 29 finished with value: 0.24213118699221783 and parameters: {'topK': 613, 'alpha': 0.40580206396600815, 'beta': 0.0021979905722345205, 'normalize_similarity': True, 'implicit': True}. Best is trial 13 with value: 0.25157064039912846.\n"
     ]
    },
    {
     "name": "stdout",
     "output_type": "stream",
     "text": [
      "RP3betaRecommender: Similarity column 38121 (100.0%), 570.13 column/sec. Elapsed time 1.11 min\n",
      "EvaluatorHoldout: Processed 35595 (100.0%) in 59.44 sec. Users per second: 599\n"
     ]
    },
    {
     "name": "stderr",
     "output_type": "stream",
     "text": [
      "[I 2024-12-16 02:26:48,390] Trial 30 finished with value: 0.1596883890997764 and parameters: {'topK': 1052, 'alpha': 1.926235428132175, 'beta': 0.860339001855533, 'normalize_similarity': True, 'implicit': False}. Best is trial 13 with value: 0.25157064039912846.\n"
     ]
    },
    {
     "name": "stdout",
     "output_type": "stream",
     "text": [
      "RP3betaRecommender: Similarity column 38121 (100.0%), 656.99 column/sec. Elapsed time 58.02 sec\n",
      "EvaluatorHoldout: Processed 35595 (100.0%) in 55.80 sec. Users per second: 638\n"
     ]
    },
    {
     "name": "stderr",
     "output_type": "stream",
     "text": [
      "[I 2024-12-16 02:29:15,923] Trial 31 finished with value: 0.2489787020501028 and parameters: {'topK': 856, 'alpha': 1.3391832187970594, 'beta': 0.31661530570853125, 'normalize_similarity': True, 'implicit': False}. Best is trial 13 with value: 0.25157064039912846.\n"
     ]
    },
    {
     "name": "stdout",
     "output_type": "stream",
     "text": [
      "RP3betaRecommender: Similarity column 38121 (100.0%), 668.98 column/sec. Elapsed time 56.98 sec\n",
      "EvaluatorHoldout: Processed 35595 (100.0%) in 55.37 sec. Users per second: 643\n"
     ]
    },
    {
     "name": "stderr",
     "output_type": "stream",
     "text": [
      "[I 2024-12-16 02:31:41,107] Trial 32 finished with value: 0.258314122664155 and parameters: {'topK': 828, 'alpha': 0.923155180349764, 'beta': 0.4273052934004784, 'normalize_similarity': True, 'implicit': False}. Best is trial 32 with value: 0.258314122664155.\n"
     ]
    },
    {
     "name": "stdout",
     "output_type": "stream",
     "text": [
      "RP3betaRecommender: Similarity column 38121 (100.0%), 711.75 column/sec. Elapsed time 53.56 sec\n",
      "EvaluatorHoldout: Processed 35595 (100.0%) in 52.98 sec. Users per second: 672\n"
     ]
    },
    {
     "name": "stderr",
     "output_type": "stream",
     "text": [
      "[I 2024-12-16 02:33:56,023] Trial 33 finished with value: 0.2530453489667818 and parameters: {'topK': 756, 'alpha': 0.757670472343916, 'beta': 0.18289250360849532, 'normalize_similarity': True, 'implicit': False}. Best is trial 32 with value: 0.258314122664155.\n"
     ]
    },
    {
     "name": "stdout",
     "output_type": "stream",
     "text": [
      "RP3betaRecommender: Similarity column 38121 (100.0%), 724.35 column/sec. Elapsed time 52.63 sec\n",
      "EvaluatorHoldout: Processed 35595 (100.0%) in 55.03 sec. Users per second: 647\n"
     ]
    },
    {
     "name": "stderr",
     "output_type": "stream",
     "text": [
      "[I 2024-12-16 02:36:14,709] Trial 34 finished with value: 0.25641561538700847 and parameters: {'topK': 739, 'alpha': 0.7206053518329625, 'beta': 0.5490644161126382, 'normalize_similarity': True, 'implicit': False}. Best is trial 32 with value: 0.258314122664155.\n"
     ]
    },
    {
     "name": "stdout",
     "output_type": "stream",
     "text": [
      "RP3betaRecommender: Similarity column 38121 (100.0%), 730.53 column/sec. Elapsed time 52.18 sec\n",
      "EvaluatorHoldout: Processed 35595 (100.0%) in 55.08 sec. Users per second: 646\n"
     ]
    },
    {
     "name": "stderr",
     "output_type": "stream",
     "text": [
      "[I 2024-12-16 02:38:32,355] Trial 35 finished with value: 0.25738782419098777 and parameters: {'topK': 722, 'alpha': 0.7005658050642576, 'beta': 0.5344516427652981, 'normalize_similarity': True, 'implicit': True}. Best is trial 32 with value: 0.258314122664155.\n"
     ]
    },
    {
     "name": "stdout",
     "output_type": "stream",
     "text": [
      "RP3betaRecommender: Similarity column 38121 (100.0%), 852.01 column/sec. Elapsed time 44.74 sec\n",
      "EvaluatorHoldout: Processed 35595 (100.0%) in 51.51 sec. Users per second: 691\n"
     ]
    },
    {
     "name": "stderr",
     "output_type": "stream",
     "text": [
      "[I 2024-12-16 02:40:32,533] Trial 36 finished with value: 0.25687054752185123 and parameters: {'topK': 552, 'alpha': 0.7153312838281901, 'beta': 0.5423832995016332, 'normalize_similarity': True, 'implicit': True}. Best is trial 32 with value: 0.258314122664155.\n"
     ]
    },
    {
     "name": "stdout",
     "output_type": "stream",
     "text": [
      "RP3betaRecommender: Similarity column 38121 (100.0%), 994.93 column/sec. Elapsed time 38.32 sec\n",
      "EvaluatorHoldout: Processed 35595 (100.0%) in 44.80 sec. Users per second: 794\n"
     ]
    },
    {
     "name": "stderr",
     "output_type": "stream",
     "text": [
      "[I 2024-12-16 02:42:10,289] Trial 37 finished with value: 0.08349745506425506 and parameters: {'topK': 441, 'alpha': 0.39305135567063365, 'beta': 1.9281184042197543, 'normalize_similarity': False, 'implicit': True}. Best is trial 32 with value: 0.258314122664155.\n"
     ]
    },
    {
     "name": "stdout",
     "output_type": "stream",
     "text": [
      "RP3betaRecommender: Similarity column 38121 (100.0%), 1035.09 column/sec. Elapsed time 36.83 sec\n",
      "EvaluatorHoldout: Processed 35595 (100.0%) in 45.20 sec. Users per second: 787\n"
     ]
    },
    {
     "name": "stderr",
     "output_type": "stream",
     "text": [
      "[I 2024-12-16 02:43:46,783] Trial 38 finished with value: 0.12203873965555477 and parameters: {'topK': 412, 'alpha': 0.25550991548935476, 'beta': 1.281335652252467, 'normalize_similarity': True, 'implicit': True}. Best is trial 32 with value: 0.258314122664155.\n"
     ]
    },
    {
     "name": "stdout",
     "output_type": "stream",
     "text": [
      "RP3betaRecommender: Similarity column 38121 (100.0%), 838.46 column/sec. Elapsed time 45.47 sec\n",
      "EvaluatorHoldout: Processed 35595 (100.0%) in 52.19 sec. Users per second: 682\n"
     ]
    },
    {
     "name": "stderr",
     "output_type": "stream",
     "text": [
      "[I 2024-12-16 02:45:49,688] Trial 39 finished with value: 0.2570313447684518 and parameters: {'topK': 584, 'alpha': 0.6138137340895026, 'beta': 0.5533539261672089, 'normalize_similarity': True, 'implicit': True}. Best is trial 32 with value: 0.258314122664155.\n"
     ]
    },
    {
     "name": "stdout",
     "output_type": "stream",
     "text": [
      "RP3betaRecommender: Similarity column 38121 (100.0%), 1229.93 column/sec. Elapsed time 30.99 sec\n",
      "EvaluatorHoldout: Processed 35595 (100.0%) in 44.83 sec. Users per second: 794\n"
     ]
    },
    {
     "name": "stderr",
     "output_type": "stream",
     "text": [
      "[I 2024-12-16 02:47:18,338] Trial 40 finished with value: 0.2215173254355084 and parameters: {'topK': 291, 'alpha': 0.5847369283879368, 'beta': 0.7268451040071686, 'normalize_similarity': False, 'implicit': True}. Best is trial 32 with value: 0.258314122664155.\n"
     ]
    },
    {
     "name": "stdout",
     "output_type": "stream",
     "text": [
      "RP3betaRecommender: Similarity column 38121 (100.0%), 817.23 column/sec. Elapsed time 46.65 sec\n",
      "EvaluatorHoldout: Processed 35595 (100.0%) in 52.73 sec. Users per second: 675\n"
     ]
    },
    {
     "name": "stderr",
     "output_type": "stream",
     "text": [
      "[I 2024-12-16 02:49:24,838] Trial 41 finished with value: 0.25640094395641533 and parameters: {'topK': 616, 'alpha': 0.6818910222528388, 'beta': 0.5546054573265954, 'normalize_similarity': True, 'implicit': True}. Best is trial 32 with value: 0.258314122664155.\n"
     ]
    },
    {
     "name": "stdout",
     "output_type": "stream",
     "text": [
      "RP3betaRecommender: Similarity column 38121 (100.0%), 850.50 column/sec. Elapsed time 44.82 sec\n",
      "EvaluatorHoldout: Processed 35595 (100.0%) in 51.53 sec. Users per second: 691\n"
     ]
    },
    {
     "name": "stderr",
     "output_type": "stream",
     "text": [
      "[I 2024-12-16 02:51:25,895] Trial 42 finished with value: 0.25747448661980776 and parameters: {'topK': 574, 'alpha': 0.8865553433993096, 'beta': 0.47972469588101807, 'normalize_similarity': True, 'implicit': True}. Best is trial 32 with value: 0.258314122664155.\n"
     ]
    },
    {
     "name": "stdout",
     "output_type": "stream",
     "text": [
      "RP3betaRecommender: Similarity column 38121 (100.0%), 852.47 column/sec. Elapsed time 44.72 sec\n",
      "EvaluatorHoldout: Processed 35595 (100.0%) in 52.36 sec. Users per second: 680\n"
     ]
    },
    {
     "name": "stderr",
     "output_type": "stream",
     "text": [
      "[I 2024-12-16 02:53:28,188] Trial 43 finished with value: 0.19452109535474732 and parameters: {'topK': 574, 'alpha': 0.9116380783704365, 'beta': 0.8747737255961578, 'normalize_similarity': True, 'implicit': True}. Best is trial 32 with value: 0.258314122664155.\n"
     ]
    },
    {
     "name": "stdout",
     "output_type": "stream",
     "text": [
      "RP3betaRecommender: Similarity column 38121 (100.0%), 1034.64 column/sec. Elapsed time 36.84 sec\n",
      "EvaluatorHoldout: Processed 35595 (100.0%) in 44.62 sec. Users per second: 798\n"
     ]
    },
    {
     "name": "stderr",
     "output_type": "stream",
     "text": [
      "[I 2024-12-16 02:55:03,281] Trial 44 finished with value: 0.10745236609291679 and parameters: {'topK': 410, 'alpha': 0.16878461938751732, 'beta': 1.4215812021444212, 'normalize_similarity': True, 'implicit': True}. Best is trial 32 with value: 0.258314122664155.\n"
     ]
    },
    {
     "name": "stdout",
     "output_type": "stream",
     "text": [
      "RP3betaRecommender: Similarity column 38121 (100.0%), 764.58 column/sec. Elapsed time 49.86 sec\n",
      "EvaluatorHoldout: Processed 35595 (100.0%) in 52.75 sec. Users per second: 675\n"
     ]
    },
    {
     "name": "stderr",
     "output_type": "stream",
     "text": [
      "[I 2024-12-16 02:57:13,759] Trial 45 finished with value: 0.26115867252999747 and parameters: {'topK': 672, 'alpha': 0.5504142538805139, 'beta': 0.4255844438622478, 'normalize_similarity': True, 'implicit': True}. Best is trial 45 with value: 0.26115867252999747.\n"
     ]
    },
    {
     "name": "stdout",
     "output_type": "stream",
     "text": [
      "RP3betaRecommender: Similarity column 38121 (100.0%), 755.90 column/sec. Elapsed time 50.43 sec\n",
      "EvaluatorHoldout: Processed 35595 (100.0%) in 53.37 sec. Users per second: 667\n"
     ]
    },
    {
     "name": "stderr",
     "output_type": "stream",
     "text": [
      "[I 2024-12-16 02:59:27,007] Trial 46 finished with value: 0.25171831339056944 and parameters: {'topK': 695, 'alpha': 0.4424850425720553, 'beta': 0.4336670188270769, 'normalize_similarity': False, 'implicit': True}. Best is trial 45 with value: 0.26115867252999747.\n"
     ]
    },
    {
     "name": "stdout",
     "output_type": "stream",
     "text": [
      "RP3betaRecommender: Similarity column 38121 (100.0%), 1582.59 column/sec. Elapsed time 24.09 sec\n",
      "EvaluatorHoldout: Processed 35595 (100.0%) in 40.62 sec. Users per second: 876\n"
     ]
    },
    {
     "name": "stderr",
     "output_type": "stream",
     "text": [
      "[I 2024-12-16 03:00:37,813] Trial 47 finished with value: 0.21755633533860108 and parameters: {'topK': 148, 'alpha': 0.1488117220663337, 'beta': 0.7429128775711411, 'normalize_similarity': True, 'implicit': True}. Best is trial 45 with value: 0.26115867252999747.\n"
     ]
    },
    {
     "name": "stdout",
     "output_type": "stream",
     "text": [
      "RP3betaRecommender: Similarity column 38121 (100.0%), 1142.13 column/sec. Elapsed time 33.38 sec\n",
      "EvaluatorHoldout: Processed 35595 (100.0%) in 44.83 sec. Users per second: 794\n"
     ]
    },
    {
     "name": "stderr",
     "output_type": "stream",
     "text": [
      "[I 2024-12-16 03:02:09,345] Trial 48 finished with value: 0.24775298127240578 and parameters: {'topK': 339, 'alpha': 0.005625711269465317, 'beta': 0.4393566351249023, 'normalize_similarity': True, 'implicit': True}. Best is trial 45 with value: 0.26115867252999747.\n"
     ]
    },
    {
     "name": "stdout",
     "output_type": "stream",
     "text": [
      "RP3betaRecommender: Similarity column 38121 (100.0%), 950.44 column/sec. Elapsed time 40.11 sec\n",
      "EvaluatorHoldout: Processed 35595 (100.0%) in 47.07 sec. Users per second: 756\n"
     ]
    },
    {
     "name": "stderr",
     "output_type": "stream",
     "text": [
      "[I 2024-12-16 03:03:54,162] Trial 49 finished with value: 0.09984467314454523 and parameters: {'topK': 478, 'alpha': 0.5485218769385043, 'beta': 1.656428903242241, 'normalize_similarity': True, 'implicit': True}. Best is trial 45 with value: 0.26115867252999747.\n"
     ]
    },
    {
     "name": "stdout",
     "output_type": "stream",
     "text": [
      "RP3betaRecommender: Similarity column 38121 (100.0%), 817.89 column/sec. Elapsed time 46.61 sec\n",
      "EvaluatorHoldout: Processed 35595 (100.0%) in 53.46 sec. Users per second: 666\n"
     ]
    },
    {
     "name": "stderr",
     "output_type": "stream",
     "text": [
      "[I 2024-12-16 03:06:01,291] Trial 50 finished with value: 0.15870454080827973 and parameters: {'topK': 608, 'alpha': 1.114000574737778, 'beta': 1.0243476593663197, 'normalize_similarity': True, 'implicit': True}. Best is trial 45 with value: 0.26115867252999747.\n"
     ]
    },
    {
     "name": "stdout",
     "output_type": "stream",
     "text": [
      "RP3betaRecommender: Similarity column 38121 (100.0%), 853.96 column/sec. Elapsed time 44.64 sec\n",
      "EvaluatorHoldout: Processed 35595 (100.0%) in 51.77 sec. Users per second: 687\n"
     ]
    },
    {
     "name": "stderr",
     "output_type": "stream",
     "text": [
      "[I 2024-12-16 03:08:01,885] Trial 51 finished with value: 0.24979985526569679 and parameters: {'topK': 559, 'alpha': 0.9282390709937408, 'beta': 0.5841344263225343, 'normalize_similarity': True, 'implicit': True}. Best is trial 45 with value: 0.26115867252999747.\n"
     ]
    },
    {
     "name": "stdout",
     "output_type": "stream",
     "text": [
      "RP3betaRecommender: Similarity column 38121 (100.0%), 739.20 column/sec. Elapsed time 51.57 sec\n",
      "EvaluatorHoldout: Processed 35595 (100.0%) in 53.75 sec. Users per second: 662\n"
     ]
    },
    {
     "name": "stderr",
     "output_type": "stream",
     "text": [
      "[I 2024-12-16 03:10:16,362] Trial 52 finished with value: 0.26031260509464726 and parameters: {'topK': 698, 'alpha': 0.640633740296181, 'beta': 0.4826957073998426, 'normalize_similarity': True, 'implicit': True}. Best is trial 45 with value: 0.26115867252999747.\n"
     ]
    },
    {
     "name": "stdout",
     "output_type": "stream",
     "text": [
      "RP3betaRecommender: Similarity column 38121 (100.0%), 770.81 column/sec. Elapsed time 49.46 sec\n",
      "EvaluatorHoldout: Processed 35595 (100.0%) in 54.17 sec. Users per second: 657\n"
     ]
    },
    {
     "name": "stderr",
     "output_type": "stream",
     "text": [
      "[I 2024-12-16 03:12:29,172] Trial 53 finished with value: 0.23730216203755225 and parameters: {'topK': 674, 'alpha': 0.47678224748262465, 'beta': 0.6890883899457966, 'normalize_similarity': True, 'implicit': True}. Best is trial 45 with value: 0.26115867252999747.\n"
     ]
    },
    {
     "name": "stdout",
     "output_type": "stream",
     "text": [
      "RP3betaRecommender: Similarity column 38121 (100.0%), 741.79 column/sec. Elapsed time 51.39 sec\n",
      "EvaluatorHoldout: Processed 35595 (100.0%) in 51.15 sec. Users per second: 696\n"
     ]
    },
    {
     "name": "stderr",
     "output_type": "stream",
     "text": [
      "[I 2024-12-16 03:14:37,667] Trial 54 finished with value: 0.24838017746913532 and parameters: {'topK': 710, 'alpha': 0.6776755617701676, 'beta': 0.08987216262809639, 'normalize_similarity': True, 'implicit': True}. Best is trial 45 with value: 0.26115867252999747.\n"
     ]
    },
    {
     "name": "stdout",
     "output_type": "stream",
     "text": [
      "RP3betaRecommender: Similarity column 38121 (100.0%), 607.12 column/sec. Elapsed time 1.05 min\n",
      "EvaluatorHoldout: Processed 35595 (100.0%) in 56.93 sec. Users per second: 625\n"
     ]
    },
    {
     "name": "stderr",
     "output_type": "stream",
     "text": [
      "[I 2024-12-16 03:17:15,910] Trial 55 finished with value: 0.25459528452784413 and parameters: {'topK': 965, 'alpha': 0.3065706983090052, 'beta': 0.373004398027899, 'normalize_similarity': True, 'implicit': True}. Best is trial 45 with value: 0.26115867252999747.\n"
     ]
    },
    {
     "name": "stdout",
     "output_type": "stream",
     "text": [
      "RP3betaRecommender: Similarity column 38121 (100.0%), 704.06 column/sec. Elapsed time 54.14 sec\n",
      "EvaluatorHoldout: Processed 35595 (100.0%) in 55.31 sec. Users per second: 644\n"
     ]
    },
    {
     "name": "stderr",
     "output_type": "stream",
     "text": [
      "[I 2024-12-16 03:19:38,950] Trial 56 finished with value: 0.19421461310633029 and parameters: {'topK': 768, 'alpha': 0.8833093240353125, 'beta': 0.8014553393445172, 'normalize_similarity': False, 'implicit': True}. Best is trial 45 with value: 0.26115867252999747.\n"
     ]
    },
    {
     "name": "stdout",
     "output_type": "stream",
     "text": [
      "RP3betaRecommender: Similarity column 38121 (100.0%), 775.31 column/sec. Elapsed time 49.17 sec\n",
      "EvaluatorHoldout: Processed 35595 (100.0%) in 53.74 sec. Users per second: 662\n"
     ]
    },
    {
     "name": "stderr",
     "output_type": "stream",
     "text": [
      "[I 2024-12-16 03:21:49,292] Trial 57 finished with value: 0.23503902317854344 and parameters: {'topK': 663, 'alpha': 1.1760746063957639, 'beta': 0.6420546921479576, 'normalize_similarity': True, 'implicit': True}. Best is trial 45 with value: 0.26115867252999747.\n"
     ]
    },
    {
     "name": "stdout",
     "output_type": "stream",
     "text": [
      "RP3betaRecommender: Similarity column 38121 (100.0%), 687.66 column/sec. Elapsed time 55.44 sec\n",
      "EvaluatorHoldout: Processed 35595 (100.0%) in 54.38 sec. Users per second: 655\n"
     ]
    },
    {
     "name": "stderr",
     "output_type": "stream",
     "text": [
      "[I 2024-12-16 03:24:10,466] Trial 58 finished with value: 0.06453910647749937 and parameters: {'topK': 804, 'alpha': 1.0156444516242658, 'beta': 2.6128483200803694, 'normalize_similarity': True, 'implicit': True}. Best is trial 45 with value: 0.26115867252999747.\n"
     ]
    },
    {
     "name": "stdout",
     "output_type": "stream",
     "text": [
      "RP3betaRecommender: Similarity column 38121 (100.0%), 952.03 column/sec. Elapsed time 40.04 sec\n",
      "EvaluatorHoldout: Processed 35595 (100.0%) in 49.45 sec. Users per second: 720\n"
     ]
    },
    {
     "name": "stderr",
     "output_type": "stream",
     "text": [
      "[I 2024-12-16 03:26:00,503] Trial 59 finished with value: 0.2617747220071662 and parameters: {'topK': 476, 'alpha': 0.622402751485815, 'beta': 0.4594647498968944, 'normalize_similarity': True, 'implicit': True}. Best is trial 59 with value: 0.2617747220071662.\n"
     ]
    },
    {
     "name": "stdout",
     "output_type": "stream",
     "text": [
      "RP3betaRecommender: Similarity column 38121 (100.0%), 946.62 column/sec. Elapsed time 40.27 sec\n",
      "EvaluatorHoldout: Processed 35595 (100.0%) in 49.63 sec. Users per second: 717\n"
     ]
    },
    {
     "name": "stderr",
     "output_type": "stream",
     "text": [
      "[I 2024-12-16 03:27:50,511] Trial 60 finished with value: 0.2601960292624363 and parameters: {'topK': 481, 'alpha': 0.8167292220847582, 'beta': 0.44111372758217693, 'normalize_similarity': True, 'implicit': True}. Best is trial 59 with value: 0.2617747220071662.\n"
     ]
    },
    {
     "name": "stdout",
     "output_type": "stream",
     "text": [
      "RP3betaRecommender: Similarity column 38121 (100.0%), 941.06 column/sec. Elapsed time 40.51 sec\n",
      "EvaluatorHoldout: Processed 35595 (100.0%) in 49.60 sec. Users per second: 718\n"
     ]
    },
    {
     "name": "stderr",
     "output_type": "stream",
     "text": [
      "[I 2024-12-16 03:29:41,331] Trial 61 finished with value: 0.25964641192870347 and parameters: {'topK': 483, 'alpha': 0.8220867460019881, 'beta': 0.4580943992700817, 'normalize_similarity': True, 'implicit': True}. Best is trial 59 with value: 0.2617747220071662.\n"
     ]
    },
    {
     "name": "stdout",
     "output_type": "stream",
     "text": [
      "RP3betaRecommender: Similarity column 38121 (100.0%), 919.62 column/sec. Elapsed time 41.45 sec\n",
      "EvaluatorHoldout: Processed 35595 (100.0%) in 49.47 sec. Users per second: 720\n"
     ]
    },
    {
     "name": "stderr",
     "output_type": "stream",
     "text": [
      "[I 2024-12-16 03:31:32,666] Trial 62 finished with value: 0.25981709583749335 and parameters: {'topK': 486, 'alpha': 0.84322134265559, 'beta': 0.4330380963737339, 'normalize_similarity': True, 'implicit': True}. Best is trial 59 with value: 0.2617747220071662.\n"
     ]
    },
    {
     "name": "stdout",
     "output_type": "stream",
     "text": [
      "RP3betaRecommender: Similarity column 38121 (100.0%), 1107.62 column/sec. Elapsed time 34.42 sec\n",
      "EvaluatorHoldout: Processed 35595 (100.0%) in 45.57 sec. Users per second: 781\n"
     ]
    },
    {
     "name": "stderr",
     "output_type": "stream",
     "text": [
      "[I 2024-12-16 03:33:07,019] Trial 63 finished with value: 0.263058790663452 and parameters: {'topK': 360, 'alpha': 0.5018248596132917, 'beta': 0.23217324948307255, 'normalize_similarity': True, 'implicit': True}. Best is trial 63 with value: 0.263058790663452.\n"
     ]
    },
    {
     "name": "stdout",
     "output_type": "stream",
     "text": [
      "RP3betaRecommender: Similarity column 38121 (100.0%), 1096.93 column/sec. Elapsed time 34.75 sec\n",
      "EvaluatorHoldout: Processed 35595 (100.0%) in 44.38 sec. Users per second: 802\n"
     ]
    },
    {
     "name": "stderr",
     "output_type": "stream",
     "text": [
      "[I 2024-12-16 03:34:39,464] Trial 64 finished with value: 0.25875930749019266 and parameters: {'topK': 363, 'alpha': 0.48748485427668464, 'beta': 0.1118240520647037, 'normalize_similarity': True, 'implicit': True}. Best is trial 63 with value: 0.263058790663452.\n"
     ]
    },
    {
     "name": "stdout",
     "output_type": "stream",
     "text": [
      "RP3betaRecommender: Similarity column 38121 (100.0%), 1448.29 column/sec. Elapsed time 26.32 sec\n",
      "EvaluatorHoldout: Processed 35595 (100.0%) in 41.67 sec. Users per second: 854\n"
     ]
    },
    {
     "name": "stderr",
     "output_type": "stream",
     "text": [
      "[I 2024-12-16 03:35:55,570] Trial 65 finished with value: 0.2667073894769113 and parameters: {'topK': 192, 'alpha': 0.7923292639836853, 'beta': 0.28134949327063996, 'normalize_similarity': True, 'implicit': True}. Best is trial 65 with value: 0.2667073894769113.\n"
     ]
    },
    {
     "name": "stdout",
     "output_type": "stream",
     "text": [
      "RP3betaRecommender: Similarity column 38121 (100.0%), 1495.16 column/sec. Elapsed time 25.50 sec\n",
      "EvaluatorHoldout: Processed 35595 (100.0%) in 40.72 sec. Users per second: 874\n"
     ]
    },
    {
     "name": "stderr",
     "output_type": "stream",
     "text": [
      "[I 2024-12-16 03:37:09,028] Trial 66 finished with value: 0.26973685756984606 and parameters: {'topK': 170, 'alpha': 0.3276279771200636, 'beta': 0.29632917800230885, 'normalize_similarity': True, 'implicit': True}. Best is trial 66 with value: 0.26973685756984606.\n"
     ]
    },
    {
     "name": "stdout",
     "output_type": "stream",
     "text": [
      "RP3betaRecommender: Similarity column 38121 (100.0%), 1540.07 column/sec. Elapsed time 24.75 sec\n",
      "EvaluatorHoldout: Processed 35595 (100.0%) in 40.16 sec. Users per second: 886\n"
     ]
    },
    {
     "name": "stderr",
     "output_type": "stream",
     "text": [
      "[I 2024-12-16 03:38:20,555] Trial 67 finished with value: 0.2692715062171388 and parameters: {'topK': 164, 'alpha': 0.23740565015526416, 'beta': 0.24939343817274995, 'normalize_similarity': True, 'implicit': True}. Best is trial 66 with value: 0.26973685756984606.\n"
     ]
    },
    {
     "name": "stdout",
     "output_type": "stream",
     "text": [
      "RP3betaRecommender: Similarity column 38121 (100.0%), 1503.44 column/sec. Elapsed time 25.36 sec\n",
      "EvaluatorHoldout: Processed 35595 (100.0%) in 56.51 sec. Users per second: 630\n"
     ]
    },
    {
     "name": "stderr",
     "output_type": "stream",
     "text": [
      "[I 2024-12-16 03:39:49,367] Trial 68 finished with value: 0.26695611512670786 and parameters: {'topK': 173, 'alpha': 0.16773986145972708, 'beta': 0.2457846954072921, 'normalize_similarity': True, 'implicit': True}. Best is trial 66 with value: 0.26973685756984606.\n"
     ]
    },
    {
     "name": "stdout",
     "output_type": "stream",
     "text": [
      "RP3betaRecommender: Similarity column 38121 (100.0%), 1514.14 column/sec. Elapsed time 25.18 sec\n",
      "EvaluatorHoldout: Processed 35595 (100.0%) in 40.80 sec. Users per second: 872\n"
     ]
    },
    {
     "name": "stderr",
     "output_type": "stream",
     "text": [
      "[I 2024-12-16 03:41:01,820] Trial 69 finished with value: 0.22727445935185595 and parameters: {'topK': 153, 'alpha': 0.18681390003098225, 'beta': 0.27301862598079774, 'normalize_similarity': False, 'implicit': True}. Best is trial 66 with value: 0.26973685756984606.\n"
     ]
    },
    {
     "name": "stdout",
     "output_type": "stream",
     "text": [
      "RP3betaRecommender: Similarity column 38121 (100.0%), 1834.66 column/sec. Elapsed time 20.78 sec\n",
      "EvaluatorHoldout: Processed 35595 (100.0%) in 37.26 sec. Users per second: 955\n"
     ]
    },
    {
     "name": "stderr",
     "output_type": "stream",
     "text": [
      "[I 2024-12-16 03:42:02,835] Trial 70 finished with value: 0.26646646627785914 and parameters: {'topK': 71, 'alpha': 0.0046459525638849475, 'beta': 0.08644531587083487, 'normalize_similarity': True, 'implicit': True}. Best is trial 66 with value: 0.26973685756984606.\n"
     ]
    },
    {
     "name": "stdout",
     "output_type": "stream",
     "text": [
      "RP3betaRecommender: Similarity column 38121 (100.0%), 2138.26 column/sec. Elapsed time 17.83 sec\n",
      "EvaluatorHoldout: Processed 35595 (100.0%) in 33.78 sec. Users per second: 1054\n"
     ]
    },
    {
     "name": "stderr",
     "output_type": "stream",
     "text": [
      "[I 2024-12-16 03:42:55,748] Trial 71 finished with value: 0.2576353273565389 and parameters: {'topK': 17, 'alpha': 0.030014024213044083, 'beta': 0.10541731065453142, 'normalize_similarity': True, 'implicit': True}. Best is trial 66 with value: 0.26973685756984606.\n"
     ]
    },
    {
     "name": "stdout",
     "output_type": "stream",
     "text": [
      "RP3betaRecommender: Similarity column 38121 (100.0%), 1380.70 column/sec. Elapsed time 27.61 sec\n",
      "EvaluatorHoldout: Processed 35595 (100.0%) in 42.00 sec. Users per second: 848\n"
     ]
    },
    {
     "name": "stderr",
     "output_type": "stream",
     "text": [
      "[I 2024-12-16 03:44:13,828] Trial 72 finished with value: 0.2680955157291235 and parameters: {'topK': 210, 'alpha': 0.33972101168825725, 'beta': 0.247359425209174, 'normalize_similarity': True, 'implicit': True}. Best is trial 66 with value: 0.26973685756984606.\n"
     ]
    },
    {
     "name": "stdout",
     "output_type": "stream",
     "text": [
      "RP3betaRecommender: Similarity column 38121 (100.0%), 1415.57 column/sec. Elapsed time 26.93 sec\n",
      "EvaluatorHoldout: Processed 35595 (100.0%) in 41.53 sec. Users per second: 857\n"
     ]
    },
    {
     "name": "stderr",
     "output_type": "stream",
     "text": [
      "[I 2024-12-16 03:45:30,113] Trial 73 finished with value: 0.26851849611757345 and parameters: {'topK': 197, 'alpha': 0.3396437570488936, 'beta': 0.203099021668061, 'normalize_similarity': True, 'implicit': True}. Best is trial 66 with value: 0.26973685756984606.\n"
     ]
    },
    {
     "name": "stdout",
     "output_type": "stream",
     "text": [
      "RP3betaRecommender: Similarity column 38121 (100.0%), 1386.78 column/sec. Elapsed time 27.49 sec\n",
      "EvaluatorHoldout: Processed 35595 (100.0%) in 41.61 sec. Users per second: 855\n"
     ]
    },
    {
     "name": "stderr",
     "output_type": "stream",
     "text": [
      "[I 2024-12-16 03:46:47,294] Trial 74 finished with value: 0.26666032451272803 and parameters: {'topK': 205, 'alpha': 0.26451936556307293, 'beta': 0.20880177942396233, 'normalize_similarity': True, 'implicit': True}. Best is trial 66 with value: 0.26973685756984606.\n"
     ]
    },
    {
     "name": "stdout",
     "output_type": "stream",
     "text": [
      "RP3betaRecommender: Similarity column 38121 (100.0%), 1381.37 column/sec. Elapsed time 27.60 sec\n",
      "EvaluatorHoldout: Processed 35595 (100.0%) in 33.30 sec. Users per second: 1069\n"
     ]
    },
    {
     "name": "stderr",
     "output_type": "stream",
     "text": [
      "[I 2024-12-16 03:47:55,320] Trial 75 finished with value: 0.26162974566977376 and parameters: {'topK': 210, 'alpha': 0.3367488396772321, 'beta': 0.002556324824541961, 'normalize_similarity': True, 'implicit': True}. Best is trial 66 with value: 0.26973685756984606.\n"
     ]
    },
    {
     "name": "stdout",
     "output_type": "stream",
     "text": [
      "RP3betaRecommender: Similarity column 38121 (100.0%), 1783.94 column/sec. Elapsed time 21.37 sec\n",
      "EvaluatorHoldout: Processed 35595 (100.0%) in 38.02 sec. Users per second: 936\n"
     ]
    },
    {
     "name": "stderr",
     "output_type": "stream",
     "text": [
      "[I 2024-12-16 03:48:58,136] Trial 76 finished with value: 0.27108685488123224 and parameters: {'topK': 79, 'alpha': 0.0882893822042918, 'beta': 0.1760272099057997, 'normalize_similarity': True, 'implicit': True}. Best is trial 76 with value: 0.27108685488123224.\n"
     ]
    },
    {
     "name": "stdout",
     "output_type": "stream",
     "text": [
      "RP3betaRecommender: Similarity column 38121 (100.0%), 1404.56 column/sec. Elapsed time 27.14 sec\n",
      "EvaluatorHoldout: Processed 35595 (100.0%) in 51.35 sec. Users per second: 693\n"
     ]
    },
    {
     "name": "stderr",
     "output_type": "stream",
     "text": [
      "[I 2024-12-16 03:50:27,699] Trial 77 finished with value: 0.2660864708192767 and parameters: {'topK': 200, 'alpha': 0.234179064567552, 'beta': 0.3230856767225427, 'normalize_similarity': True, 'implicit': True}. Best is trial 76 with value: 0.27108685488123224.\n"
     ]
    },
    {
     "name": "stdout",
     "output_type": "stream",
     "text": [
      "RP3betaRecommender: Similarity column 38121 (100.0%), 1776.16 column/sec. Elapsed time 21.46 sec\n",
      "EvaluatorHoldout: Processed 35595 (100.0%) in 38.07 sec. Users per second: 935\n"
     ]
    },
    {
     "name": "stderr",
     "output_type": "stream",
     "text": [
      "[I 2024-12-16 03:51:30,901] Trial 78 finished with value: 0.27129235974016075 and parameters: {'topK': 85, 'alpha': 0.13071930184667588, 'beta': 0.17087233989554637, 'normalize_similarity': True, 'implicit': True}. Best is trial 78 with value: 0.27129235974016075.\n"
     ]
    },
    {
     "name": "stdout",
     "output_type": "stream",
     "text": [
      "RP3betaRecommender: Similarity column 38121 (100.0%), 1709.26 column/sec. Elapsed time 22.30 sec\n",
      "EvaluatorHoldout: Processed 35595 (100.0%) in 34.49 sec. Users per second: 1032\n"
     ]
    },
    {
     "name": "stderr",
     "output_type": "stream",
     "text": [
      "[I 2024-12-16 03:52:31,607] Trial 79 finished with value: 0.26850300084848233 and parameters: {'topK': 98, 'alpha': 0.08645528318327315, 'beta': 0.13361562624167062, 'normalize_similarity': True, 'implicit': True}. Best is trial 78 with value: 0.27129235974016075.\n"
     ]
    },
    {
     "name": "stdout",
     "output_type": "stream",
     "text": [
      "RP3betaRecommender: Similarity column 38121 (100.0%), 1776.48 column/sec. Elapsed time 21.46 sec\n",
      "EvaluatorHoldout: Processed 35595 (100.0%) in 37.67 sec. Users per second: 945\n"
     ]
    },
    {
     "name": "stderr",
     "output_type": "stream",
     "text": [
      "[I 2024-12-16 03:53:34,113] Trial 80 finished with value: 0.27145308527349027 and parameters: {'topK': 81, 'alpha': 0.12910051408405554, 'beta': 0.1591476230759188, 'normalize_similarity': True, 'implicit': True}. Best is trial 80 with value: 0.27145308527349027.\n"
     ]
    },
    {
     "name": "stdout",
     "output_type": "stream",
     "text": [
      "RP3betaRecommender: Similarity column 38121 (100.0%), 1762.02 column/sec. Elapsed time 21.63 sec\n",
      "EvaluatorHoldout: Processed 35595 (100.0%) in 37.64 sec. Users per second: 946\n"
     ]
    },
    {
     "name": "stderr",
     "output_type": "stream",
     "text": [
      "[I 2024-12-16 03:54:36,837] Trial 81 finished with value: 0.2698763331438474 and parameters: {'topK': 83, 'alpha': 0.0795133363837418, 'beta': 0.15300990916346063, 'normalize_similarity': True, 'implicit': True}. Best is trial 80 with value: 0.27145308527349027.\n"
     ]
    },
    {
     "name": "stdout",
     "output_type": "stream",
     "text": [
      "RP3betaRecommender: Similarity column 38121 (100.0%), 1701.44 column/sec. Elapsed time 22.41 sec\n",
      "EvaluatorHoldout: Processed 35595 (100.0%) in 34.58 sec. Users per second: 1029\n"
     ]
    },
    {
     "name": "stderr",
     "output_type": "stream",
     "text": [
      "[I 2024-12-16 03:55:37,947] Trial 82 finished with value: 0.2685480533428535 and parameters: {'topK': 104, 'alpha': 0.10692011918081007, 'beta': 0.1200948299647682, 'normalize_similarity': True, 'implicit': True}. Best is trial 80 with value: 0.27145308527349027.\n"
     ]
    },
    {
     "name": "stdout",
     "output_type": "stream",
     "text": [
      "RP3betaRecommender: Similarity column 38121 (100.0%), 1727.37 column/sec. Elapsed time 22.07 sec\n",
      "EvaluatorHoldout: Processed 35595 (100.0%) in 34.58 sec. Users per second: 1029\n"
     ]
    },
    {
     "name": "stderr",
     "output_type": "stream",
     "text": [
      "[I 2024-12-16 03:56:38,417] Trial 83 finished with value: 0.26858456071647 and parameters: {'topK': 95, 'alpha': 0.09350176829976635, 'beta': 0.12260218927434804, 'normalize_similarity': True, 'implicit': True}. Best is trial 80 with value: 0.27145308527349027.\n"
     ]
    },
    {
     "name": "stdout",
     "output_type": "stream",
     "text": [
      "RP3betaRecommender: Similarity column 38121 (100.0%), 2037.78 column/sec. Elapsed time 18.71 sec\n",
      "EvaluatorHoldout: Processed 35595 (100.0%) in 34.82 sec. Users per second: 1022\n"
     ]
    },
    {
     "name": "stderr",
     "output_type": "stream",
     "text": [
      "[I 2024-12-16 03:57:33,580] Trial 84 finished with value: 0.2631729590764075 and parameters: {'topK': 25, 'alpha': 0.098773101006079, 'beta': 0.056323428674872625, 'normalize_similarity': True, 'implicit': True}. Best is trial 80 with value: 0.27145308527349027.\n"
     ]
    },
    {
     "name": "stdout",
     "output_type": "stream",
     "text": [
      "RP3betaRecommender: Similarity column 38121 (100.0%), 1691.14 column/sec. Elapsed time 22.54 sec\n",
      "EvaluatorHoldout: Processed 35595 (100.0%) in 38.49 sec. Users per second: 925\n"
     ]
    },
    {
     "name": "stderr",
     "output_type": "stream",
     "text": [
      "[I 2024-12-16 03:58:38,961] Trial 85 finished with value: 0.2697394095808364 and parameters: {'topK': 108, 'alpha': 0.11041305295008595, 'beta': 0.1754647694297792, 'normalize_similarity': True, 'implicit': True}. Best is trial 80 with value: 0.27145308527349027.\n"
     ]
    },
    {
     "name": "stdout",
     "output_type": "stream",
     "text": [
      "RP3betaRecommender: Similarity column 38121 (100.0%), 1691.45 column/sec. Elapsed time 22.54 sec\n",
      "EvaluatorHoldout: Processed 35595 (100.0%) in 39.40 sec. Users per second: 903\n"
     ]
    },
    {
     "name": "stderr",
     "output_type": "stream",
     "text": [
      "[I 2024-12-16 03:59:45,752] Trial 86 finished with value: 0.26765032679547784 and parameters: {'topK': 107, 'alpha': 0.10547371838231298, 'beta': 0.3496764087400351, 'normalize_similarity': True, 'implicit': True}. Best is trial 80 with value: 0.27145308527349027.\n"
     ]
    },
    {
     "name": "stdout",
     "output_type": "stream",
     "text": [
      "RP3betaRecommender: Similarity column 38121 (100.0%), 1648.17 column/sec. Elapsed time 23.13 sec\n",
      "EvaluatorHoldout: Processed 35595 (100.0%) in 41.55 sec. Users per second: 857\n"
     ]
    },
    {
     "name": "stderr",
     "output_type": "stream",
     "text": [
      "[I 2024-12-16 04:00:53,883] Trial 87 finished with value: 0.22730731371042825 and parameters: {'topK': 62, 'alpha': 0.2121838261430929, 'beta': 0.14925586662737758, 'normalize_similarity': False, 'implicit': True}. Best is trial 80 with value: 0.27145308527349027.\n"
     ]
    },
    {
     "name": "stdout",
     "output_type": "stream",
     "text": [
      "RP3betaRecommender: Similarity column 38121 (100.0%), 1217.26 column/sec. Elapsed time 31.32 sec\n",
      "EvaluatorHoldout: Processed 35595 (100.0%) in 42.29 sec. Users per second: 842\n"
     ]
    },
    {
     "name": "stderr",
     "output_type": "stream",
     "text": [
      "[I 2024-12-16 04:02:17,080] Trial 88 finished with value: 0.2515095822233475 and parameters: {'topK': 290, 'alpha': 0.09107305108498412, 'beta': 0.001000603755464513, 'normalize_similarity': True, 'implicit': True}. Best is trial 80 with value: 0.27145308527349027.\n"
     ]
    },
    {
     "name": "stdout",
     "output_type": "stream",
     "text": [
      "RP3betaRecommender: Similarity column 38121 (100.0%), 1321.70 column/sec. Elapsed time 28.84 sec\n",
      "EvaluatorHoldout: Processed 35595 (100.0%) in 42.73 sec. Users per second: 833\n"
     ]
    },
    {
     "name": "stderr",
     "output_type": "stream",
     "text": [
      "[I 2024-12-16 04:03:38,047] Trial 89 finished with value: 0.2655218600906946 and parameters: {'topK': 245, 'alpha': 0.4094799481753313, 'beta': 0.15989001354282756, 'normalize_similarity': True, 'implicit': True}. Best is trial 80 with value: 0.27145308527349027.\n"
     ]
    },
    {
     "name": "stdout",
     "output_type": "stream",
     "text": [
      "RP3betaRecommender: Similarity column 38121 (100.0%), 1675.55 column/sec. Elapsed time 22.75 sec\n",
      "EvaluatorHoldout: Processed 35595 (100.0%) in 38.06 sec. Users per second: 935\n"
     ]
    },
    {
     "name": "stderr",
     "output_type": "stream",
     "text": [
      "[I 2024-12-16 04:04:42,211] Trial 90 finished with value: 0.08696038385081403 and parameters: {'topK': 112, 'alpha': 0.26665887772915486, 'beta': 1.987996479037058, 'normalize_similarity': True, 'implicit': True}. Best is trial 80 with value: 0.27145308527349027.\n"
     ]
    },
    {
     "name": "stdout",
     "output_type": "stream",
     "text": [
      "RP3betaRecommender: Similarity column 38121 (100.0%), 1305.66 column/sec. Elapsed time 29.20 sec\n",
      "EvaluatorHoldout: Processed 35595 (100.0%) in 43.14 sec. Users per second: 825\n"
     ]
    },
    {
     "name": "stderr",
     "output_type": "stream",
     "text": [
      "[I 2024-12-16 04:06:04,326] Trial 91 finished with value: 0.2651627111622933 and parameters: {'topK': 250, 'alpha': 0.367417418073104, 'beta': 0.18261655152875125, 'normalize_similarity': True, 'implicit': True}. Best is trial 80 with value: 0.27145308527349027.\n"
     ]
    },
    {
     "name": "stdout",
     "output_type": "stream",
     "text": [
      "RP3betaRecommender: Similarity column 38121 (100.0%), 1983.27 column/sec. Elapsed time 19.22 sec\n",
      "EvaluatorHoldout: Processed 35595 (100.0%) in 37.18 sec. Users per second: 957\n"
     ]
    },
    {
     "name": "stderr",
     "output_type": "stream",
     "text": [
      "[I 2024-12-16 04:07:03,296] Trial 92 finished with value: 0.26954539223774704 and parameters: {'topK': 48, 'alpha': 0.04961078487994268, 'beta': 0.35258520460148596, 'normalize_similarity': True, 'implicit': True}. Best is trial 80 with value: 0.27145308527349027.\n"
     ]
    },
    {
     "name": "stdout",
     "output_type": "stream",
     "text": [
      "RP3betaRecommender: Similarity column 38121 (100.0%), 1995.22 column/sec. Elapsed time 19.11 sec\n",
      "EvaluatorHoldout: Processed 35595 (100.0%) in 36.71 sec. Users per second: 970\n"
     ]
    },
    {
     "name": "stderr",
     "output_type": "stream",
     "text": [
      "[I 2024-12-16 04:08:01,543] Trial 93 finished with value: 0.2697015169715496 and parameters: {'topK': 44, 'alpha': 0.06172688530134311, 'beta': 0.3704846892123458, 'normalize_similarity': True, 'implicit': True}. Best is trial 80 with value: 0.27145308527349027.\n"
     ]
    },
    {
     "name": "stdout",
     "output_type": "stream",
     "text": [
      "RP3betaRecommender: Similarity column 38121 (100.0%), 1971.43 column/sec. Elapsed time 19.34 sec\n",
      "EvaluatorHoldout: Processed 35595 (100.0%) in 36.59 sec. Users per second: 973\n"
     ]
    },
    {
     "name": "stderr",
     "output_type": "stream",
     "text": [
      "[I 2024-12-16 04:08:59,883] Trial 94 finished with value: 0.26982590443442017 and parameters: {'topK': 43, 'alpha': 0.049218612017301086, 'beta': 0.35564167083472026, 'normalize_similarity': True, 'implicit': True}. Best is trial 80 with value: 0.27145308527349027.\n"
     ]
    },
    {
     "name": "stdout",
     "output_type": "stream",
     "text": [
      "RP3betaRecommender: Similarity column 38121 (100.0%), 2814.27 column/sec. Elapsed time 13.55 sec\n",
      "EvaluatorHoldout: Processed 35595 (100.0%) in 27.38 sec. Users per second: 1300\n"
     ]
    },
    {
     "name": "stderr",
     "output_type": "stream",
     "text": [
      "[I 2024-12-16 04:09:41,134] Trial 95 finished with value: 0.005972113065949917 and parameters: {'topK': 0, 'alpha': 0.047945244554041935, 'beta': 0.34490654424077705, 'normalize_similarity': True, 'implicit': True}. Best is trial 80 with value: 0.27145308527349027.\n"
     ]
    },
    {
     "name": "stdout",
     "output_type": "stream",
     "text": [
      "RP3betaRecommender: Similarity column 38121 (100.0%), 1959.68 column/sec. Elapsed time 19.45 sec\n",
      "EvaluatorHoldout: Processed 35595 (100.0%) in 51.50 sec. Users per second: 691\n"
     ]
    },
    {
     "name": "stderr",
     "output_type": "stream",
     "text": [
      "[I 2024-12-16 04:10:54,657] Trial 96 finished with value: 0.272147607614542 and parameters: {'topK': 43, 'alpha': 0.17376127330629348, 'beta': 0.3675499978110909, 'normalize_similarity': True, 'implicit': True}. Best is trial 96 with value: 0.272147607614542.\n"
     ]
    },
    {
     "name": "stdout",
     "output_type": "stream",
     "text": [
      "RP3betaRecommender: Similarity column 38121 (100.0%), 1976.29 column/sec. Elapsed time 19.29 sec\n",
      "EvaluatorHoldout: Processed 35595 (100.0%) in 37.09 sec. Users per second: 960\n"
     ]
    },
    {
     "name": "stderr",
     "output_type": "stream",
     "text": [
      "[I 2024-12-16 04:11:53,673] Trial 97 finished with value: 0.27217739073527913 and parameters: {'topK': 44, 'alpha': 0.1816325154300488, 'beta': 0.3797866332407285, 'normalize_similarity': True, 'implicit': True}. Best is trial 97 with value: 0.27217739073527913.\n"
     ]
    },
    {
     "name": "stdout",
     "output_type": "stream",
     "text": [
      "RP3betaRecommender: Similarity column 38121 (100.0%), 1950.00 column/sec. Elapsed time 19.55 sec\n",
      "EvaluatorHoldout: Processed 35595 (100.0%) in 36.27 sec. Users per second: 981\n"
     ]
    },
    {
     "name": "stderr",
     "output_type": "stream",
     "text": [
      "[I 2024-12-16 04:12:51,564] Trial 98 finished with value: 0.2693843755508265 and parameters: {'topK': 44, 'alpha': 0.18013924263762482, 'beta': 0.05860606184871647, 'normalize_similarity': True, 'implicit': True}. Best is trial 97 with value: 0.27217739073527913.\n"
     ]
    },
    {
     "name": "stdout",
     "output_type": "stream",
     "text": [
      "RP3betaRecommender: Similarity column 38121 (100.0%), 1607.17 column/sec. Elapsed time 23.72 sec\n",
      "EvaluatorHoldout: Processed 35595 (100.0%) in 41.80 sec. Users per second: 852\n"
     ]
    },
    {
     "name": "stderr",
     "output_type": "stream",
     "text": [
      "[I 2024-12-16 04:14:02,906] Trial 99 finished with value: 0.24017077921703353 and parameters: {'topK': 134, 'alpha': 0.15378984070527257, 'beta': 0.6381849093613018, 'normalize_similarity': True, 'implicit': True}. Best is trial 97 with value: 0.27217739073527913.\n"
     ]
    },
    {
     "name": "stdout",
     "output_type": "stream",
     "text": [
      "RP3betaRecommender: Similarity column 38121 (100.0%), 1812.69 column/sec. Elapsed time 21.03 sec\n",
      "EvaluatorHoldout: Processed 35595 (100.0%) in 39.06 sec. Users per second: 911\n"
     ]
    },
    {
     "name": "stderr",
     "output_type": "stream",
     "text": [
      "[I 2024-12-16 04:15:06,901] Trial 100 finished with value: 0.24577764682258543 and parameters: {'topK': 77, 'alpha': 0.27655109968079006, 'beta': 0.38314497086385296, 'normalize_similarity': False, 'implicit': True}. Best is trial 97 with value: 0.27217739073527913.\n"
     ]
    },
    {
     "name": "stdout",
     "output_type": "stream",
     "text": [
      "RP3betaRecommender: Similarity column 38121 (100.0%), 1974.91 column/sec. Elapsed time 19.30 sec\n",
      "EvaluatorHoldout: Processed 35595 (100.0%) in 37.34 sec. Users per second: 953\n"
     ]
    },
    {
     "name": "stderr",
     "output_type": "stream",
     "text": [
      "[I 2024-12-16 04:16:05,944] Trial 101 finished with value: 0.20131544471905774 and parameters: {'topK': 40, 'alpha': 2.34637802566666, 'beta': 0.3499814674304712, 'normalize_similarity': True, 'implicit': True}. Best is trial 97 with value: 0.27217739073527913.\n"
     ]
    },
    {
     "name": "stdout",
     "output_type": "stream",
     "text": [
      "RP3betaRecommender: Similarity column 38121 (100.0%), 1586.10 column/sec. Elapsed time 24.03 sec\n",
      "EvaluatorHoldout: Processed 35595 (100.0%) in 37.64 sec. Users per second: 946\n"
     ]
    },
    {
     "name": "stderr",
     "output_type": "stream",
     "text": [
      "[I 2024-12-16 04:17:11,313] Trial 102 finished with value: 0.0701017713155802 and parameters: {'topK': 134, 'alpha': 0.007685230544101959, 'beta': 2.262346180603675, 'normalize_similarity': True, 'implicit': True}. Best is trial 97 with value: 0.27217739073527913.\n"
     ]
    },
    {
     "name": "stdout",
     "output_type": "stream",
     "text": [
      "RP3betaRecommender: Similarity column 38121 (100.0%), 1906.30 column/sec. Elapsed time 20.00 sec\n",
      "EvaluatorHoldout: Processed 35595 (100.0%) in 37.99 sec. Users per second: 937\n"
     ]
    },
    {
     "name": "stderr",
     "output_type": "stream",
     "text": [
      "[I 2024-12-16 04:18:12,218] Trial 103 finished with value: 0.26311990303201926 and parameters: {'topK': 54, 'alpha': 0.1449154055827341, 'beta': 0.5086749948252849, 'normalize_similarity': True, 'implicit': True}. Best is trial 97 with value: 0.27217739073527913.\n"
     ]
    },
    {
     "name": "stdout",
     "output_type": "stream",
     "text": [
      "RP3betaRecommender: Similarity column 38121 (100.0%), 2202.23 column/sec. Elapsed time 17.31 sec\n",
      "EvaluatorHoldout: Processed 35595 (100.0%) in 33.63 sec. Users per second: 1058\n"
     ]
    },
    {
     "name": "stderr",
     "output_type": "stream",
     "text": [
      "[I 2024-12-16 04:19:04,352] Trial 104 finished with value: 0.24506801789415755 and parameters: {'topK': 8, 'alpha': 0.06034726103698385, 'beta': 0.3806479879228828, 'normalize_similarity': True, 'implicit': True}. Best is trial 97 with value: 0.27217739073527913.\n"
     ]
    },
    {
     "name": "stdout",
     "output_type": "stream",
     "text": [
      "RP3betaRecommender: Similarity column 38121 (100.0%), 1828.47 column/sec. Elapsed time 20.85 sec\n",
      "EvaluatorHoldout: Processed 35595 (100.0%) in 38.31 sec. Users per second: 929\n"
     ]
    },
    {
     "name": "stderr",
     "output_type": "stream",
     "text": [
      "[I 2024-12-16 04:20:07,111] Trial 105 finished with value: 0.27373312502108754 and parameters: {'topK': 78, 'alpha': 0.2074404991722025, 'beta': 0.28883547140646154, 'normalize_similarity': True, 'implicit': True}. Best is trial 105 with value: 0.27373312502108754.\n"
     ]
    },
    {
     "name": "stdout",
     "output_type": "stream",
     "text": [
      "RP3betaRecommender: Similarity column 38121 (100.0%), 1616.98 column/sec. Elapsed time 23.58 sec\n",
      "EvaluatorHoldout: Processed 35595 (100.0%) in 57.09 sec. Users per second: 623\n"
     ]
    },
    {
     "name": "stderr",
     "output_type": "stream",
     "text": [
      "[I 2024-12-16 04:21:33,353] Trial 106 finished with value: 0.27318575026644 and parameters: {'topK': 125, 'alpha': 0.4284118653982296, 'beta': 0.28328682139241507, 'normalize_similarity': True, 'implicit': True}. Best is trial 105 with value: 0.27373312502108754.\n"
     ]
    },
    {
     "name": "stdout",
     "output_type": "stream",
     "text": [
      "RP3betaRecommender: Similarity column 38121 (100.0%), 1598.37 column/sec. Elapsed time 23.85 sec\n",
      "EvaluatorHoldout: Processed 35595 (100.0%) in 40.26 sec. Users per second: 884\n"
     ]
    },
    {
     "name": "stderr",
     "output_type": "stream",
     "text": [
      "[I 2024-12-16 04:22:43,135] Trial 107 finished with value: 0.26975968262018385 and parameters: {'topK': 133, 'alpha': 0.20062532659791307, 'beta': 0.27688705702354005, 'normalize_similarity': True, 'implicit': True}. Best is trial 105 with value: 0.27373312502108754.\n"
     ]
    },
    {
     "name": "stdout",
     "output_type": "stream",
     "text": [
      "RP3betaRecommender: Similarity column 38121 (100.0%), 1771.07 column/sec. Elapsed time 21.52 sec\n",
      "EvaluatorHoldout: Processed 35595 (100.0%) in 37.45 sec. Users per second: 951\n"
     ]
    },
    {
     "name": "stderr",
     "output_type": "stream",
     "text": [
      "[I 2024-12-16 04:23:45,402] Trial 108 finished with value: 0.27095274859903284 and parameters: {'topK': 85, 'alpha': 0.42884740690965995, 'beta': 0.037589939137519054, 'normalize_similarity': True, 'implicit': True}. Best is trial 105 with value: 0.27373312502108754.\n"
     ]
    },
    {
     "name": "stdout",
     "output_type": "stream",
     "text": [
      "RP3betaRecommender: Similarity column 38121 (100.0%), 1581.69 column/sec. Elapsed time 24.10 sec\n",
      "EvaluatorHoldout: Processed 35595 (100.0%) in 41.52 sec. Users per second: 857\n"
     ]
    },
    {
     "name": "stderr",
     "output_type": "stream",
     "text": [
      "[I 2024-12-16 04:24:57,595] Trial 109 finished with value: 0.2537540614768321 and parameters: {'topK': 139, 'alpha': 0.43541061876742637, 'beta': 0.5996657880641572, 'normalize_similarity': True, 'implicit': True}. Best is trial 105 with value: 0.27373312502108754.\n"
     ]
    },
    {
     "name": "stdout",
     "output_type": "stream",
     "text": [
      "RP3betaRecommender: Similarity column 38121 (100.0%), 1803.98 column/sec. Elapsed time 21.13 sec\n",
      "EvaluatorHoldout: Processed 35595 (100.0%) in 38.39 sec. Users per second: 927\n"
     ]
    },
    {
     "name": "stderr",
     "output_type": "stream",
     "text": [
      "[I 2024-12-16 04:26:00,774] Trial 110 finished with value: 0.2737336407865632 and parameters: {'topK': 77, 'alpha': 0.20808380162906628, 'beta': 0.2969515039623618, 'normalize_similarity': True, 'implicit': True}. Best is trial 110 with value: 0.2737336407865632.\n"
     ]
    },
    {
     "name": "stdout",
     "output_type": "stream",
     "text": [
      "RP3betaRecommender: Similarity column 38121 (100.0%), 1797.03 column/sec. Elapsed time 21.21 sec\n",
      "EvaluatorHoldout: Processed 35595 (100.0%) in 36.92 sec. Users per second: 964\n"
     ]
    },
    {
     "name": "stderr",
     "output_type": "stream",
     "text": [
      "[I 2024-12-16 04:27:01,979] Trial 111 finished with value: 0.26921099011471145 and parameters: {'topK': 79, 'alpha': 0.19509854477002123, 'beta': 0.04779361528704372, 'normalize_similarity': True, 'implicit': True}. Best is trial 110 with value: 0.2737336407865632.\n"
     ]
    },
    {
     "name": "stdout",
     "output_type": "stream",
     "text": [
      "RP3betaRecommender: Similarity column 38121 (100.0%), 2225.17 column/sec. Elapsed time 17.13 sec\n",
      "EvaluatorHoldout: Processed 35595 (100.0%) in 32.38 sec. Users per second: 1099\n"
     ]
    },
    {
     "name": "stderr",
     "output_type": "stream",
     "text": [
      "[I 2024-12-16 04:27:52,517] Trial 112 finished with value: 0.17902215852437006 and parameters: {'topK': 4, 'alpha': 1.643511097682806, 'beta': 0.25310119345402454, 'normalize_similarity': True, 'implicit': True}. Best is trial 110 with value: 0.2737336407865632.\n"
     ]
    },
    {
     "name": "stdout",
     "output_type": "stream",
     "text": [
      "RP3betaRecommender: Similarity column 38121 (100.0%), 1836.67 column/sec. Elapsed time 20.76 sec\n",
      "EvaluatorHoldout: Processed 35595 (100.0%) in 38.92 sec. Users per second: 915\n"
     ]
    },
    {
     "name": "stderr",
     "output_type": "stream",
     "text": [
      "[I 2024-12-16 04:28:55,616] Trial 113 finished with value: 0.2744543893394464 and parameters: {'topK': 72, 'alpha': 0.2430599373256552, 'beta': 0.2982241877722824, 'normalize_similarity': True, 'implicit': True}. Best is trial 113 with value: 0.2744543893394464.\n"
     ]
    },
    {
     "name": "stdout",
     "output_type": "stream",
     "text": [
      "RP3betaRecommender: Similarity column 38121 (100.0%), 1835.66 column/sec. Elapsed time 20.77 sec\n",
      "EvaluatorHoldout: Processed 35595 (100.0%) in 37.75 sec. Users per second: 943\n"
     ]
    },
    {
     "name": "stderr",
     "output_type": "stream",
     "text": [
      "[I 2024-12-16 04:29:57,425] Trial 114 finished with value: 0.27509043678545714 and parameters: {'topK': 72, 'alpha': 0.28528371541082265, 'beta': 0.21894068175413117, 'normalize_similarity': True, 'implicit': True}. Best is trial 114 with value: 0.27509043678545714.\n"
     ]
    },
    {
     "name": "stdout",
     "output_type": "stream",
     "text": [
      "RP3betaRecommender: Similarity column 38121 (100.0%), 1806.66 column/sec. Elapsed time 21.10 sec\n",
      "EvaluatorHoldout: Processed 35595 (100.0%) in 38.12 sec. Users per second: 934\n"
     ]
    },
    {
     "name": "stderr",
     "output_type": "stream",
     "text": [
      "[I 2024-12-16 04:31:00,192] Trial 115 finished with value: 0.2753158191736394 and parameters: {'topK': 76, 'alpha': 0.3875261410650017, 'beta': 0.2132938080639606, 'normalize_similarity': True, 'implicit': True}. Best is trial 115 with value: 0.2753158191736394.\n"
     ]
    },
    {
     "name": "stdout",
     "output_type": "stream",
     "text": [
      "RP3betaRecommender: Similarity column 38121 (100.0%), 1372.13 column/sec. Elapsed time 27.78 sec\n",
      "EvaluatorHoldout: Processed 35595 (100.0%) in 40.92 sec. Users per second: 870\n"
     ]
    },
    {
     "name": "stderr",
     "output_type": "stream",
     "text": [
      "[I 2024-12-16 04:32:15,429] Trial 116 finished with value: 0.2667729289999982 and parameters: {'topK': 170, 'alpha': 0.3889453085774565, 'beta': 0.05614988942283866, 'normalize_similarity': True, 'implicit': True}. Best is trial 115 with value: 0.2753158191736394.\n"
     ]
    },
    {
     "name": "stdout",
     "output_type": "stream",
     "text": [
      "RP3betaRecommender: Similarity column 38121 (100.0%), 1840.81 column/sec. Elapsed time 20.71 sec\n",
      "EvaluatorHoldout: Processed 35595 (100.0%) in 38.33 sec. Users per second: 929\n"
     ]
    },
    {
     "name": "stderr",
     "output_type": "stream",
     "text": [
      "[I 2024-12-16 04:33:17,790] Trial 117 finished with value: 0.2740320957939774 and parameters: {'topK': 71, 'alpha': 0.522769052182095, 'beta': 0.19487450746149468, 'normalize_similarity': True, 'implicit': True}. Best is trial 115 with value: 0.2753158191736394.\n"
     ]
    },
    {
     "name": "stdout",
     "output_type": "stream",
     "text": [
      "RP3betaRecommender: Similarity column 38121 (100.0%), 1326.97 column/sec. Elapsed time 28.73 sec\n",
      "EvaluatorHoldout: Processed 35595 (100.0%) in 43.16 sec. Users per second: 825\n"
     ]
    },
    {
     "name": "stderr",
     "output_type": "stream",
     "text": [
      "[I 2024-12-16 04:34:39,192] Trial 118 finished with value: 0.2655377074520251 and parameters: {'topK': 239, 'alpha': 0.2951131942684535, 'beta': 0.21244238157048706, 'normalize_similarity': True, 'implicit': True}. Best is trial 115 with value: 0.2753158191736394.\n"
     ]
    },
    {
     "name": "stdout",
     "output_type": "stream",
     "text": [
      "RP3betaRecommender: Similarity column 38121 (100.0%), 1625.67 column/sec. Elapsed time 23.45 sec\n",
      "EvaluatorHoldout: Processed 35595 (100.0%) in 40.62 sec. Users per second: 876\n"
     ]
    },
    {
     "name": "stderr",
     "output_type": "stream",
     "text": [
      "[I 2024-12-16 04:35:49,073] Trial 119 finished with value: 0.27271199745284463 and parameters: {'topK': 128, 'alpha': 0.5130533363822334, 'beta': 0.2995611193257503, 'normalize_similarity': True, 'implicit': True}. Best is trial 115 with value: 0.2753158191736394.\n"
     ]
    },
    {
     "name": "stdout",
     "output_type": "stream",
     "text": [
      "RP3betaRecommender: Similarity column 38121 (100.0%), 1618.02 column/sec. Elapsed time 23.56 sec\n",
      "EvaluatorHoldout: Processed 35595 (100.0%) in 41.49 sec. Users per second: 858\n"
     ]
    },
    {
     "name": "stderr",
     "output_type": "stream",
     "text": [
      "[I 2024-12-16 04:37:00,246] Trial 120 finished with value: 0.26537491803544333 and parameters: {'topK': 125, 'alpha': 0.5411962636279632, 'beta': 0.494735666518211, 'normalize_similarity': True, 'implicit': True}. Best is trial 115 with value: 0.2753158191736394.\n"
     ]
    },
    {
     "name": "stdout",
     "output_type": "stream",
     "text": [
      "RP3betaRecommender: Similarity column 38121 (100.0%), 1858.57 column/sec. Elapsed time 20.51 sec\n",
      "EvaluatorHoldout: Processed 35595 (100.0%) in 38.01 sec. Users per second: 936\n"
     ]
    },
    {
     "name": "stderr",
     "output_type": "stream",
     "text": [
      "[I 2024-12-16 04:38:01,998] Trial 121 finished with value: 0.2753214911497019 and parameters: {'topK': 66, 'alpha': 0.2745635069048404, 'beta': 0.3063306775440863, 'normalize_similarity': True, 'implicit': True}. Best is trial 121 with value: 0.2753214911497019.\n"
     ]
    },
    {
     "name": "stdout",
     "output_type": "stream",
     "text": [
      "RP3betaRecommender: Similarity column 38121 (100.0%), 2808.94 column/sec. Elapsed time 13.57 sec\n",
      "EvaluatorHoldout: Processed 35595 (100.0%) in 27.30 sec. Users per second: 1304\n"
     ]
    },
    {
     "name": "stderr",
     "output_type": "stream",
     "text": [
      "[I 2024-12-16 04:38:43,173] Trial 122 finished with value: 0.005972113065949917 and parameters: {'topK': 0, 'alpha': 0.48120991675889113, 'beta': 0.2841263124363125, 'normalize_similarity': True, 'implicit': True}. Best is trial 121 with value: 0.2753214911497019.\n"
     ]
    },
    {
     "name": "stdout",
     "output_type": "stream",
     "text": [
      "RP3betaRecommender: Similarity column 38121 (100.0%), 2059.07 column/sec. Elapsed time 18.51 sec\n",
      "EvaluatorHoldout: Processed 35595 (100.0%) in 35.81 sec. Users per second: 994\n"
     ]
    },
    {
     "name": "stderr",
     "output_type": "stream",
     "text": [
      "[I 2024-12-16 04:39:39,424] Trial 123 finished with value: 0.2720444793270884 and parameters: {'topK': 31, 'alpha': 0.2945147085282961, 'beta': 0.2894124067799066, 'normalize_similarity': True, 'implicit': True}. Best is trial 121 with value: 0.2753214911497019.\n"
     ]
    },
    {
     "name": "stdout",
     "output_type": "stream",
     "text": [
      "RP3betaRecommender: Similarity column 38121 (100.0%), 1967.21 column/sec. Elapsed time 19.38 sec\n",
      "EvaluatorHoldout: Processed 35595 (100.0%) in 36.99 sec. Users per second: 962\n"
     ]
    },
    {
     "name": "stderr",
     "output_type": "stream",
     "text": [
      "[I 2024-12-16 04:40:38,339] Trial 124 finished with value: 0.2742920910887087 and parameters: {'topK': 44, 'alpha': 0.37235923436033014, 'beta': 0.30979645442126585, 'normalize_similarity': True, 'implicit': True}. Best is trial 121 with value: 0.2753214911497019.\n"
     ]
    },
    {
     "name": "stdout",
     "output_type": "stream",
     "text": [
      "RP3betaRecommender: Similarity column 38121 (100.0%), 2014.25 column/sec. Elapsed time 18.93 sec\n",
      "EvaluatorHoldout: Processed 35595 (100.0%) in 36.17 sec. Users per second: 984\n"
     ]
    },
    {
     "name": "stderr",
     "output_type": "stream",
     "text": [
      "[I 2024-12-16 04:41:35,495] Trial 125 finished with value: 0.26943851840490113 and parameters: {'topK': 30, 'alpha': 0.3773493192624401, 'beta': 0.40943590805445085, 'normalize_similarity': True, 'implicit': True}. Best is trial 121 with value: 0.2753214911497019.\n"
     ]
    },
    {
     "name": "stdout",
     "output_type": "stream",
     "text": [
      "RP3betaRecommender: Similarity column 38121 (100.0%), 1415.98 column/sec. Elapsed time 26.92 sec\n",
      "EvaluatorHoldout: Processed 35595 (100.0%) in 42.26 sec. Users per second: 842\n"
     ]
    },
    {
     "name": "stderr",
     "output_type": "stream",
     "text": [
      "[I 2024-12-16 04:42:52,136] Trial 126 finished with value: 0.2556229016729896 and parameters: {'topK': 159, 'alpha': 0.5190302646259634, 'beta': 0.29889297262409265, 'normalize_similarity': False, 'implicit': True}. Best is trial 121 with value: 0.2753214911497019.\n"
     ]
    },
    {
     "name": "stdout",
     "output_type": "stream",
     "text": [
      "RP3betaRecommender: Similarity column 38121 (100.0%), 1895.96 column/sec. Elapsed time 20.11 sec\n",
      "EvaluatorHoldout: Processed 35595 (100.0%) in 38.14 sec. Users per second: 933\n"
     ]
    },
    {
     "name": "stderr",
     "output_type": "stream",
     "text": [
      "[I 2024-12-16 04:43:53,744] Trial 127 finished with value: 0.26377586219385124 and parameters: {'topK': 58, 'alpha': 0.25739872657852697, 'beta': 0.527048406196921, 'normalize_similarity': True, 'implicit': True}. Best is trial 121 with value: 0.2753214911497019.\n"
     ]
    },
    {
     "name": "stdout",
     "output_type": "stream",
     "text": [
      "RP3betaRecommender: Similarity column 38121 (100.0%), 1662.01 column/sec. Elapsed time 22.94 sec\n",
      "EvaluatorHoldout: Processed 35595 (100.0%) in 40.34 sec. Users per second: 882\n"
     ]
    },
    {
     "name": "stderr",
     "output_type": "stream",
     "text": [
      "[I 2024-12-16 04:45:02,482] Trial 128 finished with value: 0.27211821882916365 and parameters: {'topK': 117, 'alpha': 0.5987458192852204, 'beta': 0.3088768913145768, 'normalize_similarity': True, 'implicit': True}. Best is trial 121 with value: 0.2753214911497019.\n"
     ]
    },
    {
     "name": "stdout",
     "output_type": "stream",
     "text": [
      "RP3betaRecommender: Similarity column 38121 (100.0%), 1657.20 column/sec. Elapsed time 23.00 sec\n",
      "EvaluatorHoldout: Processed 35595 (100.0%) in 40.56 sec. Users per second: 878\n"
     ]
    },
    {
     "name": "stderr",
     "output_type": "stream",
     "text": [
      "[I 2024-12-16 04:46:11,693] Trial 129 finished with value: 0.2706584846341203 and parameters: {'topK': 117, 'alpha': 0.4498172748869592, 'beta': 0.40428870127050076, 'normalize_similarity': True, 'implicit': True}. Best is trial 121 with value: 0.2753214911497019.\n"
     ]
    },
    {
     "name": "stdout",
     "output_type": "stream",
     "text": [
      "RP3betaRecommender: Similarity column 38121 (100.0%), 1481.80 column/sec. Elapsed time 25.73 sec\n",
      "EvaluatorHoldout: Processed 35595 (100.0%) in 42.93 sec. Users per second: 829\n"
     ]
    },
    {
     "name": "stderr",
     "output_type": "stream",
     "text": [
      "[I 2024-12-16 04:47:28,609] Trial 130 finished with value: 0.2643154658968802 and parameters: {'topK': 175, 'alpha': 0.5655126476979389, 'beta': 0.4792781360207962, 'normalize_similarity': True, 'implicit': True}. Best is trial 121 with value: 0.2753214911497019.\n"
     ]
    },
    {
     "name": "stdout",
     "output_type": "stream",
     "text": [
      "RP3betaRecommender: Similarity column 38121 (100.0%), 2090.68 column/sec. Elapsed time 18.23 sec\n",
      "EvaluatorHoldout: Processed 35595 (100.0%) in 35.21 sec. Users per second: 1011\n"
     ]
    },
    {
     "name": "stderr",
     "output_type": "stream",
     "text": [
      "[I 2024-12-16 04:48:23,702] Trial 131 finished with value: 0.26611258675355387 and parameters: {'topK': 20, 'alpha': 0.32502731662560935, 'beta': 0.3008634082831462, 'normalize_similarity': True, 'implicit': True}. Best is trial 121 with value: 0.2753214911497019.\n"
     ]
    },
    {
     "name": "stdout",
     "output_type": "stream",
     "text": [
      "RP3betaRecommender: Similarity column 38121 (100.0%), 1908.82 column/sec. Elapsed time 19.97 sec\n",
      "EvaluatorHoldout: Processed 35595 (100.0%) in 37.57 sec. Users per second: 948\n"
     ]
    },
    {
     "name": "stderr",
     "output_type": "stream",
     "text": [
      "[I 2024-12-16 04:49:24,112] Trial 132 finished with value: 0.2751468833261084 and parameters: {'topK': 59, 'alpha': 0.3742386065557858, 'beta': 0.22338721565508693, 'normalize_similarity': True, 'implicit': True}. Best is trial 121 with value: 0.2753214911497019.\n"
     ]
    },
    {
     "name": "stdout",
     "output_type": "stream",
     "text": [
      "RP3betaRecommender: Similarity column 38121 (100.0%), 1658.26 column/sec. Elapsed time 22.99 sec\n",
      "EvaluatorHoldout: Processed 35595 (100.0%) in 40.15 sec. Users per second: 887\n"
     ]
    },
    {
     "name": "stderr",
     "output_type": "stream",
     "text": [
      "[I 2024-12-16 04:50:32,697] Trial 133 finished with value: 0.27170612624448776 and parameters: {'topK': 123, 'alpha': 0.6579922341243858, 'beta': 0.2174620649944458, 'normalize_similarity': True, 'implicit': True}. Best is trial 121 with value: 0.2753214911497019.\n"
     ]
    },
    {
     "name": "stdout",
     "output_type": "stream",
     "text": [
      "RP3betaRecommender: Similarity column 38121 (100.0%), 1847.59 column/sec. Elapsed time 20.63 sec\n",
      "EvaluatorHoldout: Processed 35595 (100.0%) in 38.38 sec. Users per second: 927\n"
     ]
    },
    {
     "name": "stderr",
     "output_type": "stream",
     "text": [
      "[I 2024-12-16 04:51:35,207] Trial 134 finished with value: 0.2733555262823487 and parameters: {'topK': 70, 'alpha': 0.6035660830415684, 'beta': 0.2503815940036635, 'normalize_similarity': True, 'implicit': True}. Best is trial 121 with value: 0.2753214911497019.\n"
     ]
    },
    {
     "name": "stdout",
     "output_type": "stream",
     "text": [
      "RP3betaRecommender: Similarity column 38121 (100.0%), 1879.57 column/sec. Elapsed time 20.28 sec\n",
      "EvaluatorHoldout: Processed 35595 (100.0%) in 35.77 sec. Users per second: 995\n"
     ]
    },
    {
     "name": "stderr",
     "output_type": "stream",
     "text": [
      "[I 2024-12-16 04:52:33,196] Trial 135 finished with value: 0.06597788810483336 and parameters: {'topK': 62, 'alpha': 0.38247444693596144, 'beta': 2.7657182205998665, 'normalize_similarity': True, 'implicit': True}. Best is trial 121 with value: 0.2753214911497019.\n"
     ]
    },
    {
     "name": "stdout",
     "output_type": "stream",
     "text": [
      "RP3betaRecommender: Similarity column 38121 (100.0%), 1543.49 column/sec. Elapsed time 24.70 sec\n",
      "EvaluatorHoldout: Processed 35595 (100.0%) in 35.54 sec. Users per second: 1002\n"
     ]
    },
    {
     "name": "stderr",
     "output_type": "stream",
     "text": [
      "[I 2024-12-16 04:53:38,507] Trial 136 finished with value: 0.09926596914068031 and parameters: {'topK': 150, 'alpha': 0.49855415850556456, 'beta': 1.7544274504640427, 'normalize_similarity': True, 'implicit': False}. Best is trial 121 with value: 0.2753214911497019.\n"
     ]
    },
    {
     "name": "stdout",
     "output_type": "stream",
     "text": [
      "RP3betaRecommender: Similarity column 38121 (100.0%), 1843.08 column/sec. Elapsed time 20.68 sec\n",
      "EvaluatorHoldout: Processed 35595 (100.0%) in 37.75 sec. Users per second: 943\n"
     ]
    },
    {
     "name": "stderr",
     "output_type": "stream",
     "text": [
      "[I 2024-12-16 04:54:40,098] Trial 137 finished with value: 0.2746037598776359 and parameters: {'topK': 67, 'alpha': 0.24966639976527527, 'beta': 0.22443034793115926, 'normalize_similarity': True, 'implicit': True}. Best is trial 121 with value: 0.2753214911497019.\n"
     ]
    },
    {
     "name": "stdout",
     "output_type": "stream",
     "text": [
      "RP3betaRecommender: Similarity column 38121 (100.0%), 1732.45 column/sec. Elapsed time 22.00 sec\n",
      "EvaluatorHoldout: Processed 35595 (100.0%) in 39.05 sec. Users per second: 911\n"
     ]
    },
    {
     "name": "stderr",
     "output_type": "stream",
     "text": [
      "[I 2024-12-16 04:55:45,509] Trial 138 finished with value: 0.274661054177763 and parameters: {'topK': 97, 'alpha': 0.447006732144708, 'beta': 0.2308982557528761, 'normalize_similarity': True, 'implicit': True}. Best is trial 121 with value: 0.2753214911497019.\n"
     ]
    },
    {
     "name": "stdout",
     "output_type": "stream",
     "text": [
      "RP3betaRecommender: Similarity column 38121 (100.0%), 1802.41 column/sec. Elapsed time 21.15 sec\n",
      "EvaluatorHoldout: Processed 35595 (100.0%) in 37.93 sec. Users per second: 939\n"
     ]
    },
    {
     "name": "stderr",
     "output_type": "stream",
     "text": [
      "[I 2024-12-16 04:56:47,975] Trial 139 finished with value: 0.2733395725709268 and parameters: {'topK': 80, 'alpha': 0.44853116347658983, 'beta': 0.1160781881375186, 'normalize_similarity': True, 'implicit': True}. Best is trial 121 with value: 0.2753214911497019.\n"
     ]
    },
    {
     "name": "stdout",
     "output_type": "stream",
     "text": [
      "RP3betaRecommender: Similarity column 38121 (100.0%), 1767.65 column/sec. Elapsed time 21.57 sec\n",
      "EvaluatorHoldout: Processed 35595 (100.0%) in 34.40 sec. Users per second: 1035\n"
     ]
    },
    {
     "name": "stderr",
     "output_type": "stream",
     "text": [
      "[I 2024-12-16 04:57:47,541] Trial 140 finished with value: 0.27314294011755896 and parameters: {'topK': 87, 'alpha': 0.4144448927690557, 'beta': 0.09822605166074504, 'normalize_similarity': True, 'implicit': True}. Best is trial 121 with value: 0.2753214911497019.\n"
     ]
    },
    {
     "name": "stdout",
     "output_type": "stream",
     "text": [
      "RP3betaRecommender: Similarity column 38121 (100.0%), 1724.82 column/sec. Elapsed time 22.10 sec\n",
      "EvaluatorHoldout: Processed 35595 (100.0%) in 39.56 sec. Users per second: 900\n"
     ]
    },
    {
     "name": "stderr",
     "output_type": "stream",
     "text": [
      "[I 2024-12-16 04:58:53,457] Trial 141 finished with value: 0.27508571539442955 and parameters: {'topK': 92, 'alpha': 0.4359074500728897, 'beta': 0.2220381778937706, 'normalize_similarity': True, 'implicit': True}. Best is trial 121 with value: 0.2753214911497019.\n"
     ]
    },
    {
     "name": "stdout",
     "output_type": "stream",
     "text": [
      "RP3betaRecommender: Similarity column 38121 (100.0%), 1846.68 column/sec. Elapsed time 20.64 sec\n",
      "EvaluatorHoldout: Processed 35595 (100.0%) in 38.15 sec. Users per second: 933\n"
     ]
    },
    {
     "name": "stderr",
     "output_type": "stream",
     "text": [
      "[I 2024-12-16 04:59:55,423] Trial 142 finished with value: 0.27469056964193495 and parameters: {'topK': 67, 'alpha': 0.4552047235866496, 'beta': 0.20721310177140562, 'normalize_similarity': True, 'implicit': True}. Best is trial 121 with value: 0.2753214911497019.\n"
     ]
    },
    {
     "name": "stdout",
     "output_type": "stream",
     "text": [
      "RP3betaRecommender: Similarity column 38121 (100.0%), 1822.90 column/sec. Elapsed time 20.91 sec\n",
      "EvaluatorHoldout: Processed 35595 (100.0%) in 38.20 sec. Users per second: 932\n"
     ]
    },
    {
     "name": "stderr",
     "output_type": "stream",
     "text": [
      "[I 2024-12-16 05:00:57,834] Trial 143 finished with value: 0.27546375448352656 and parameters: {'topK': 70, 'alpha': 0.34880227147468656, 'beta': 0.22442313155864607, 'normalize_similarity': True, 'implicit': True}. Best is trial 143 with value: 0.27546375448352656.\n"
     ]
    },
    {
     "name": "stdout",
     "output_type": "stream",
     "text": [
      "RP3betaRecommender: Similarity column 38121 (100.0%), 1871.47 column/sec. Elapsed time 20.37 sec\n",
      "EvaluatorHoldout: Processed 35595 (100.0%) in 37.70 sec. Users per second: 944\n"
     ]
    },
    {
     "name": "stderr",
     "output_type": "stream",
     "text": [
      "[I 2024-12-16 05:01:59,005] Trial 144 finished with value: 0.27522041338403697 and parameters: {'topK': 64, 'alpha': 0.3530154999294918, 'beta': 0.22192124286976075, 'normalize_similarity': True, 'implicit': True}. Best is trial 143 with value: 0.27546375448352656.\n"
     ]
    },
    {
     "name": "stdout",
     "output_type": "stream",
     "text": [
      "RP3betaRecommender: Similarity column 38121 (100.0%), 2091.73 column/sec. Elapsed time 18.22 sec\n",
      "EvaluatorHoldout: Processed 35595 (100.0%) in 34.92 sec. Users per second: 1019\n"
     ]
    },
    {
     "name": "stderr",
     "output_type": "stream",
     "text": [
      "[I 2024-12-16 05:02:53,705] Trial 145 finished with value: 0.2666690318825953 and parameters: {'topK': 21, 'alpha': 0.3117773208367383, 'beta': 0.21481104185386082, 'normalize_similarity': True, 'implicit': True}. Best is trial 143 with value: 0.27546375448352656.\n"
     ]
    },
    {
     "name": "stdout",
     "output_type": "stream",
     "text": [
      "RP3betaRecommender: Similarity column 38121 (100.0%), 1732.48 column/sec. Elapsed time 22.00 sec\n",
      "EvaluatorHoldout: Processed 35595 (100.0%) in 39.03 sec. Users per second: 912\n"
     ]
    },
    {
     "name": "stderr",
     "output_type": "stream",
     "text": [
      "[I 2024-12-16 05:03:58,980] Trial 146 finished with value: 0.2727451558460175 and parameters: {'topK': 101, 'alpha': 0.2434301555886041, 'beta': 0.20730981599263246, 'normalize_similarity': True, 'implicit': True}. Best is trial 143 with value: 0.27546375448352656.\n"
     ]
    },
    {
     "name": "stdout",
     "output_type": "stream",
     "text": [
      "RP3betaRecommender: Similarity column 38121 (100.0%), 1442.65 column/sec. Elapsed time 26.42 sec\n",
      "EvaluatorHoldout: Processed 35595 (100.0%) in 41.26 sec. Users per second: 863\n"
     ]
    },
    {
     "name": "stderr",
     "output_type": "stream",
     "text": [
      "[I 2024-12-16 05:05:13,852] Trial 147 finished with value: 0.2681995495162941 and parameters: {'topK': 186, 'alpha': 0.354551778102284, 'beta': 0.14007548571563008, 'normalize_similarity': True, 'implicit': True}. Best is trial 143 with value: 0.27546375448352656.\n"
     ]
    },
    {
     "name": "stdout",
     "output_type": "stream",
     "text": [
      "RP3betaRecommender: Similarity column 38121 (100.0%), 1823.16 column/sec. Elapsed time 20.91 sec\n",
      "EvaluatorHoldout: Processed 35595 (100.0%) in 37.58 sec. Users per second: 947\n"
     ]
    },
    {
     "name": "stderr",
     "output_type": "stream",
     "text": [
      "[I 2024-12-16 05:06:15,149] Trial 148 finished with value: 0.236367314267053 and parameters: {'topK': 59, 'alpha': 0.24069446411112005, 'beta': 0.21638135627736996, 'normalize_similarity': False, 'implicit': True}. Best is trial 143 with value: 0.27546375448352656.\n"
     ]
    },
    {
     "name": "stdout",
     "output_type": "stream",
     "text": [
      "RP3betaRecommender: Similarity column 38121 (100.0%), 1727.42 column/sec. Elapsed time 22.07 sec\n",
      "EvaluatorHoldout: Processed 35595 (100.0%) in 31.06 sec. Users per second: 1146\n"
     ]
    },
    {
     "name": "stderr",
     "output_type": "stream",
     "text": [
      "[I 2024-12-16 05:07:09,209] Trial 149 finished with value: 0.17466048656773922 and parameters: {'topK': 3, 'alpha': 0.37517032350994967, 'beta': 0.0978154947681282, 'normalize_similarity': True, 'implicit': True}. Best is trial 143 with value: 0.27546375448352656.\n"
     ]
    },
    {
     "name": "stdout",
     "output_type": "stream",
     "text": [
      "RP3betaRecommender: Similarity column 38121 (100.0%), 1345.86 column/sec. Elapsed time 28.32 sec\n",
      "EvaluatorHoldout: Processed 35595 (100.0%) in 42.35 sec. Users per second: 841\n"
     ]
    },
    {
     "name": "stderr",
     "output_type": "stream",
     "text": [
      "[I 2024-12-16 05:08:27,771] Trial 150 finished with value: 0.12517152665809406 and parameters: {'topK': 227, 'alpha': 0.3129056635392348, 'beta': 1.321724506424514, 'normalize_similarity': True, 'implicit': True}. Best is trial 143 with value: 0.27546375448352656.\n"
     ]
    },
    {
     "name": "stdout",
     "output_type": "stream",
     "text": [
      "RP3betaRecommender: Similarity column 38121 (100.0%), 1846.31 column/sec. Elapsed time 20.65 sec\n",
      "EvaluatorHoldout: Processed 35595 (100.0%) in 38.19 sec. Users per second: 932\n"
     ]
    },
    {
     "name": "stderr",
     "output_type": "stream",
     "text": [
      "[I 2024-12-16 05:09:30,017] Trial 151 finished with value: 0.27515769969618364 and parameters: {'topK': 69, 'alpha': 0.4520914806254288, 'beta': 0.24435400171074528, 'normalize_similarity': True, 'implicit': True}. Best is trial 143 with value: 0.27546375448352656.\n"
     ]
    },
    {
     "name": "stdout",
     "output_type": "stream",
     "text": [
      "RP3betaRecommender: Similarity column 38121 (100.0%), 1738.18 column/sec. Elapsed time 21.93 sec\n",
      "EvaluatorHoldout: Processed 35595 (100.0%) in 39.72 sec. Users per second: 896\n"
     ]
    },
    {
     "name": "stderr",
     "output_type": "stream",
     "text": [
      "[I 2024-12-16 05:10:35,967] Trial 152 finished with value: 0.22975336509844752 and parameters: {'topK': 96, 'alpha': 1.9889712671159736, 'beta': 0.1709055877951211, 'normalize_similarity': True, 'implicit': True}. Best is trial 143 with value: 0.27546375448352656.\n"
     ]
    },
    {
     "name": "stdout",
     "output_type": "stream",
     "text": [
      "RP3betaRecommender: Similarity column 38121 (100.0%), 1891.03 column/sec. Elapsed time 20.16 sec\n",
      "EvaluatorHoldout: Processed 35595 (100.0%) in 37.67 sec. Users per second: 945\n"
     ]
    },
    {
     "name": "stderr",
     "output_type": "stream",
     "text": [
      "[I 2024-12-16 05:11:36,750] Trial 153 finished with value: 0.27532393972685837 and parameters: {'topK': 61, 'alpha': 0.35527240134383187, 'beta': 0.22754141409776749, 'normalize_similarity': True, 'implicit': True}. Best is trial 143 with value: 0.27546375448352656.\n"
     ]
    },
    {
     "name": "stdout",
     "output_type": "stream",
     "text": [
      "RP3betaRecommender: Similarity column 38121 (100.0%), 1542.56 column/sec. Elapsed time 24.71 sec\n",
      "EvaluatorHoldout: Processed 35595 (100.0%) in 42.25 sec. Users per second: 842\n"
     ]
    },
    {
     "name": "stderr",
     "output_type": "stream",
     "text": [
      "[I 2024-12-16 05:12:50,402] Trial 154 finished with value: 0.27213199258502513 and parameters: {'topK': 155, 'alpha': 0.49890294055034135, 'beta': 0.2322814809259216, 'normalize_similarity': True, 'implicit': True}. Best is trial 143 with value: 0.27546375448352656.\n"
     ]
    },
    {
     "name": "stdout",
     "output_type": "stream",
     "text": [
      "RP3betaRecommender: Similarity column 38121 (100.0%), 1997.19 column/sec. Elapsed time 19.09 sec\n",
      "EvaluatorHoldout: Processed 35595 (100.0%) in 35.93 sec. Users per second: 991\n"
     ]
    },
    {
     "name": "stderr",
     "output_type": "stream",
     "text": [
      "[I 2024-12-16 05:13:47,448] Trial 155 finished with value: 0.2716401397105091 and parameters: {'topK': 37, 'alpha': 0.34848541492799406, 'beta': 0.1338172498354467, 'normalize_similarity': True, 'implicit': True}. Best is trial 143 with value: 0.27546375448352656.\n"
     ]
    },
    {
     "name": "stdout",
     "output_type": "stream",
     "text": [
      "RP3betaRecommender: Similarity column 38121 (100.0%), 1912.80 column/sec. Elapsed time 19.93 sec\n",
      "EvaluatorHoldout: Processed 35595 (100.0%) in 36.73 sec. Users per second: 969\n"
     ]
    },
    {
     "name": "stderr",
     "output_type": "stream",
     "text": [
      "[I 2024-12-16 05:14:46,566] Trial 156 finished with value: 0.2706137774050363 and parameters: {'topK': 56, 'alpha': 0.45165157785319626, 'beta': 0.054272888518989065, 'normalize_similarity': True, 'implicit': True}. Best is trial 143 with value: 0.27546375448352656.\n"
     ]
    },
    {
     "name": "stdout",
     "output_type": "stream",
     "text": [
      "RP3betaRecommender: Similarity column 38121 (100.0%), 1689.88 column/sec. Elapsed time 22.56 sec\n",
      "EvaluatorHoldout: Processed 35595 (100.0%) in 40.52 sec. Users per second: 878\n"
     ]
    },
    {
     "name": "stderr",
     "output_type": "stream",
     "text": [
      "[I 2024-12-16 05:15:55,183] Trial 157 finished with value: 0.2699049323619637 and parameters: {'topK': 109, 'alpha': 0.5623069683593764, 'beta': 0.42275301272567706, 'normalize_similarity': True, 'implicit': True}. Best is trial 143 with value: 0.27546375448352656.\n"
     ]
    },
    {
     "name": "stdout",
     "output_type": "stream",
     "text": [
      "RP3betaRecommender: Similarity column 38121 (100.0%), 480.10 column/sec. Elapsed time 1.32 min\n",
      "EvaluatorHoldout: Processed 35595 (100.0%) in 1.04 min. Users per second: 568\n"
     ]
    },
    {
     "name": "stderr",
     "output_type": "stream",
     "text": [
      "[I 2024-12-16 05:19:11,425] Trial 158 finished with value: 0.24988080332698645 and parameters: {'topK': 1373, 'alpha': 0.26407251523231706, 'beta': 0.3353075345474496, 'normalize_similarity': True, 'implicit': False}. Best is trial 143 with value: 0.27546375448352656.\n"
     ]
    },
    {
     "name": "stdout",
     "output_type": "stream",
     "text": [
      "RP3betaRecommender: Similarity column 38121 (100.0%), 2063.12 column/sec. Elapsed time 18.48 sec\n",
      "EvaluatorHoldout: Processed 35595 (100.0%) in 36.03 sec. Users per second: 988\n"
     ]
    },
    {
     "name": "stderr",
     "output_type": "stream",
     "text": [
      "[I 2024-12-16 05:20:07,810] Trial 159 finished with value: 0.2704168505811787 and parameters: {'topK': 29, 'alpha': 0.40767260498436575, 'beta': 0.23660159280922963, 'normalize_similarity': True, 'implicit': True}. Best is trial 143 with value: 0.27546375448352656.\n"
     ]
    },
    {
     "name": "stdout",
     "output_type": "stream",
     "text": [
      "RP3betaRecommender: Similarity column 38121 (100.0%), 2846.51 column/sec. Elapsed time 13.39 sec\n",
      "EvaluatorHoldout: Processed 35595 (100.0%) in 30.21 sec. Users per second: 1178\n"
     ]
    },
    {
     "name": "stderr",
     "output_type": "stream",
     "text": [
      "[I 2024-12-16 05:20:52,282] Trial 160 finished with value: 0.08474160337386709 and parameters: {'topK': 1, 'alpha': 0.31157704755788396, 'beta': 0.1798576164364503, 'normalize_similarity': True, 'implicit': True}. Best is trial 143 with value: 0.27546375448352656.\n"
     ]
    },
    {
     "name": "stdout",
     "output_type": "stream",
     "text": [
      "RP3betaRecommender: Similarity column 38121 (100.0%), 1837.34 column/sec. Elapsed time 20.75 sec\n",
      "EvaluatorHoldout: Processed 35595 (100.0%) in 38.54 sec. Users per second: 924\n"
     ]
    },
    {
     "name": "stderr",
     "output_type": "stream",
     "text": [
      "[I 2024-12-16 05:21:55,188] Trial 161 finished with value: 0.27381926143168694 and parameters: {'topK': 75, 'alpha': 0.23928426463705288, 'beta': 0.33107256876304747, 'normalize_similarity': True, 'implicit': True}. Best is trial 143 with value: 0.27546375448352656.\n"
     ]
    },
    {
     "name": "stdout",
     "output_type": "stream",
     "text": [
      "RP3betaRecommender: Similarity column 38121 (100.0%), 1859.10 column/sec. Elapsed time 20.51 sec\n",
      "EvaluatorHoldout: Processed 35595 (100.0%) in 38.29 sec. Users per second: 930\n"
     ]
    },
    {
     "name": "stderr",
     "output_type": "stream",
     "text": [
      "[I 2024-12-16 05:22:57,385] Trial 162 finished with value: 0.27499397663655456 and parameters: {'topK': 66, 'alpha': 0.36899151355629545, 'beta': 0.33456054560027987, 'normalize_similarity': True, 'implicit': True}. Best is trial 143 with value: 0.27546375448352656.\n"
     ]
    },
    {
     "name": "stdout",
     "output_type": "stream",
     "text": [
      "RP3betaRecommender: Similarity column 38121 (100.0%), 1698.80 column/sec. Elapsed time 22.44 sec\n",
      "EvaluatorHoldout: Processed 35595 (100.0%) in 40.09 sec. Users per second: 888\n"
     ]
    },
    {
     "name": "stderr",
     "output_type": "stream",
     "text": [
      "[I 2024-12-16 05:24:04,518] Trial 163 finished with value: 0.20216971884036755 and parameters: {'topK': 103, 'alpha': 2.659475617059515, 'beta': 0.23680803610924833, 'normalize_similarity': True, 'implicit': True}. Best is trial 143 with value: 0.27546375448352656.\n"
     ]
    },
    {
     "name": "stdout",
     "output_type": "stream",
     "text": [
      "RP3betaRecommender: Similarity column 38121 (100.0%), 1896.71 column/sec. Elapsed time 20.10 sec\n",
      "EvaluatorHoldout: Processed 35595 (100.0%) in 37.93 sec. Users per second: 938\n"
     ]
    },
    {
     "name": "stderr",
     "output_type": "stream",
     "text": [
      "[I 2024-12-16 05:25:05,746] Trial 164 finished with value: 0.2745885307524775 and parameters: {'topK': 58, 'alpha': 0.3722232847074255, 'beta': 0.34415271217402843, 'normalize_similarity': True, 'implicit': True}. Best is trial 143 with value: 0.27546375448352656.\n"
     ]
    },
    {
     "name": "stdout",
     "output_type": "stream",
     "text": [
      "RP3betaRecommender: Similarity column 38121 (100.0%), 2025.16 column/sec. Elapsed time 18.82 sec\n",
      "EvaluatorHoldout: Processed 35595 (100.0%) in 36.02 sec. Users per second: 988\n"
     ]
    },
    {
     "name": "stderr",
     "output_type": "stream",
     "text": [
      "[I 2024-12-16 05:26:02,601] Trial 165 finished with value: 0.2709208966709604 and parameters: {'topK': 35, 'alpha': 0.4684643009115103, 'beta': 0.16647981210996454, 'normalize_similarity': True, 'implicit': True}. Best is trial 143 with value: 0.27546375448352656.\n"
     ]
    },
    {
     "name": "stdout",
     "output_type": "stream",
     "text": [
      "RP3betaRecommender: Similarity column 38121 (100.0%), 1570.78 column/sec. Elapsed time 24.27 sec\n",
      "EvaluatorHoldout: Processed 35595 (100.0%) in 35.24 sec. Users per second: 1010\n"
     ]
    },
    {
     "name": "stderr",
     "output_type": "stream",
     "text": [
      "[I 2024-12-16 05:27:07,140] Trial 166 finished with value: 0.26581814132618076 and parameters: {'topK': 144, 'alpha': 0.3786558452410987, 'beta': 0.0014948354205937542, 'normalize_similarity': True, 'implicit': True}. Best is trial 143 with value: 0.27546375448352656.\n"
     ]
    },
    {
     "name": "stdout",
     "output_type": "stream",
     "text": [
      "RP3betaRecommender: Similarity column 38121 (100.0%), 1902.32 column/sec. Elapsed time 20.04 sec\n",
      "EvaluatorHoldout: Processed 35595 (100.0%) in 37.16 sec. Users per second: 958\n"
     ]
    },
    {
     "name": "stderr",
     "output_type": "stream",
     "text": [
      "[I 2024-12-16 05:28:06,858] Trial 167 finished with value: 0.16374548356059165 and parameters: {'topK': 55, 'alpha': 0.5262083609711946, 'beta': 1.0991493598272468, 'normalize_similarity': True, 'implicit': True}. Best is trial 143 with value: 0.27546375448352656.\n"
     ]
    },
    {
     "name": "stdout",
     "output_type": "stream",
     "text": [
      "RP3betaRecommender: Similarity column 38121 (100.0%), 1718.36 column/sec. Elapsed time 22.18 sec\n",
      "EvaluatorHoldout: Processed 35595 (100.0%) in 34.48 sec. Users per second: 1032\n"
     ]
    },
    {
     "name": "stderr",
     "output_type": "stream",
     "text": [
      "[I 2024-12-16 05:29:07,442] Trial 168 finished with value: 0.27154294524149136 and parameters: {'topK': 100, 'alpha': 0.38560351100340545, 'beta': 0.08348414553062769, 'normalize_similarity': True, 'implicit': True}. Best is trial 143 with value: 0.27546375448352656.\n"
     ]
    },
    {
     "name": "stdout",
     "output_type": "stream",
     "text": [
      "RP3betaRecommender: Similarity column 38121 (100.0%), 1920.14 column/sec. Elapsed time 19.85 sec\n",
      "EvaluatorHoldout: Processed 35595 (100.0%) in 38.06 sec. Users per second: 935\n"
     ]
    },
    {
     "name": "stderr",
     "output_type": "stream",
     "text": [
      "[I 2024-12-16 05:30:08,437] Trial 169 finished with value: 0.2736025527156243 and parameters: {'topK': 56, 'alpha': 0.3097624216744505, 'beta': 0.37655787013063746, 'normalize_similarity': True, 'implicit': True}. Best is trial 143 with value: 0.27546375448352656.\n"
     ]
    },
    {
     "name": "stdout",
     "output_type": "stream",
     "text": [
      "RP3betaRecommender: Similarity column 38121 (100.0%), 552.10 column/sec. Elapsed time 1.15 min\n",
      "EvaluatorHoldout: Processed 35595 (100.0%) in 1.00 min. Users per second: 591\n"
     ]
    },
    {
     "name": "stderr",
     "output_type": "stream",
     "text": [
      "[I 2024-12-16 05:33:02,434] Trial 170 finished with value: 0.2583610901557852 and parameters: {'topK': 1115, 'alpha': 0.45126053213275064, 'beta': 0.42926810106905866, 'normalize_similarity': True, 'implicit': True}. Best is trial 143 with value: 0.27546375448352656.\n"
     ]
    },
    {
     "name": "stdout",
     "output_type": "stream",
     "text": [
      "RP3betaRecommender: Similarity column 38121 (100.0%), 1874.72 column/sec. Elapsed time 20.33 sec\n",
      "EvaluatorHoldout: Processed 35595 (100.0%) in 37.85 sec. Users per second: 940\n"
     ]
    },
    {
     "name": "stderr",
     "output_type": "stream",
     "text": [
      "[I 2024-12-16 05:34:03,841] Trial 171 finished with value: 0.2747097314467651 and parameters: {'topK': 70, 'alpha': 0.24527431953395767, 'beta': 0.24161232081111872, 'normalize_similarity': True, 'implicit': True}. Best is trial 143 with value: 0.27546375448352656.\n"
     ]
    },
    {
     "name": "stdout",
     "output_type": "stream",
     "text": [
      "RP3betaRecommender: Similarity column 38121 (100.0%), 2033.19 column/sec. Elapsed time 18.75 sec\n",
      "EvaluatorHoldout: Processed 35595 (100.0%) in 35.96 sec. Users per second: 990\n"
     ]
    },
    {
     "name": "stderr",
     "output_type": "stream",
     "text": [
      "[I 2024-12-16 05:35:00,498] Trial 172 finished with value: 0.2719837259850468 and parameters: {'topK': 32, 'alpha': 0.34851260326390815, 'beta': 0.2414492245713748, 'normalize_similarity': True, 'implicit': True}. Best is trial 143 with value: 0.27546375448352656.\n"
     ]
    },
    {
     "name": "stdout",
     "output_type": "stream",
     "text": [
      "RP3betaRecommender: Similarity column 38121 (100.0%), 1667.42 column/sec. Elapsed time 22.86 sec\n",
      "EvaluatorHoldout: Processed 35595 (100.0%) in 39.53 sec. Users per second: 900\n"
     ]
    },
    {
     "name": "stderr",
     "output_type": "stream",
     "text": [
      "[I 2024-12-16 05:36:07,378] Trial 173 finished with value: 0.272564679998845 and parameters: {'topK': 110, 'alpha': 0.3013484747447839, 'beta': 0.16204244430225362, 'normalize_similarity': True, 'implicit': True}. Best is trial 143 with value: 0.27546375448352656.\n"
     ]
    },
    {
     "name": "stdout",
     "output_type": "stream",
     "text": [
      "RP3betaRecommender: Similarity column 38121 (100.0%), 1819.20 column/sec. Elapsed time 20.95 sec\n",
      "EvaluatorHoldout: Processed 35595 (100.0%) in 38.31 sec. Users per second: 929\n"
     ]
    },
    {
     "name": "stderr",
     "output_type": "stream",
     "text": [
      "[I 2024-12-16 05:37:10,180] Trial 174 finished with value: 0.2748097252485712 and parameters: {'topK': 68, 'alpha': 0.41165176858428565, 'beta': 0.3247277682537771, 'normalize_similarity': True, 'implicit': True}. Best is trial 143 with value: 0.27546375448352656.\n"
     ]
    },
    {
     "name": "stdout",
     "output_type": "stream",
     "text": [
      "RP3betaRecommender: Similarity column 38121 (100.0%), 1574.62 column/sec. Elapsed time 24.21 sec\n",
      "EvaluatorHoldout: Processed 35595 (100.0%) in 41.29 sec. Users per second: 862\n"
     ]
    },
    {
     "name": "stderr",
     "output_type": "stream",
     "text": [
      "[I 2024-12-16 05:38:21,963] Trial 175 finished with value: 0.27179257303735904 and parameters: {'topK': 139, 'alpha': 0.4290511780100632, 'beta': 0.32592866709120294, 'normalize_similarity': True, 'implicit': True}. Best is trial 143 with value: 0.27546375448352656.\n"
     ]
    },
    {
     "name": "stdout",
     "output_type": "stream",
     "text": [
      "RP3betaRecommender: Similarity column 38121 (100.0%), 2055.36 column/sec. Elapsed time 18.55 sec\n",
      "EvaluatorHoldout: Processed 35595 (100.0%) in 35.86 sec. Users per second: 993\n"
     ]
    },
    {
     "name": "stderr",
     "output_type": "stream",
     "text": [
      "[I 2024-12-16 05:39:18,311] Trial 176 finished with value: 0.27215387190069446 and parameters: {'topK': 31, 'alpha': 0.27042890498463323, 'beta': 0.2632106132174726, 'normalize_similarity': True, 'implicit': True}. Best is trial 143 with value: 0.27546375448352656.\n"
     ]
    },
    {
     "name": "stdout",
     "output_type": "stream",
     "text": [
      "RP3betaRecommender: Similarity column 38121 (100.0%), 1749.91 column/sec. Elapsed time 21.78 sec\n",
      "EvaluatorHoldout: Processed 35595 (100.0%) in 39.73 sec. Users per second: 896\n"
     ]
    },
    {
     "name": "stderr",
     "output_type": "stream",
     "text": [
      "[I 2024-12-16 05:40:24,266] Trial 177 finished with value: 0.27366994981915127 and parameters: {'topK': 92, 'alpha': 0.37365889684360964, 'beta': 0.34491695032395986, 'normalize_similarity': True, 'implicit': True}. Best is trial 143 with value: 0.27546375448352656.\n"
     ]
    },
    {
     "name": "stdout",
     "output_type": "stream",
     "text": [
      "RP3betaRecommender: Similarity column 38121 (100.0%), 2111.38 column/sec. Elapsed time 18.05 sec\n",
      "EvaluatorHoldout: Processed 35595 (100.0%) in 31.59 sec. Users per second: 1127\n"
     ]
    },
    {
     "name": "stderr",
     "output_type": "stream",
     "text": [
      "[I 2024-12-16 05:41:14,876] Trial 178 finished with value: 0.1801675546864043 and parameters: {'topK': 2, 'alpha': 0.23988775568278173, 'beta': 0.46292320273164134, 'normalize_similarity': False, 'implicit': True}. Best is trial 143 with value: 0.27546375448352656.\n"
     ]
    },
    {
     "name": "stdout",
     "output_type": "stream",
     "text": [
      "RP3betaRecommender: Similarity column 38121 (100.0%), 1883.61 column/sec. Elapsed time 20.24 sec\n",
      "EvaluatorHoldout: Processed 35595 (100.0%) in 38.48 sec. Users per second: 925\n"
     ]
    },
    {
     "name": "stderr",
     "output_type": "stream",
     "text": [
      "[I 2024-12-16 05:42:16,908] Trial 179 finished with value: 0.27283691723376746 and parameters: {'topK': 63, 'alpha': 0.46815717848192356, 'beta': 0.38663224448337585, 'normalize_similarity': True, 'implicit': True}. Best is trial 143 with value: 0.27546375448352656.\n"
     ]
    },
    {
     "name": "stdout",
     "output_type": "stream",
     "text": [
      "RP3betaRecommender: Similarity column 38121 (100.0%), 1463.46 column/sec. Elapsed time 26.05 sec\n",
      "EvaluatorHoldout: Processed 35595 (100.0%) in 41.91 sec. Users per second: 849\n"
     ]
    },
    {
     "name": "stderr",
     "output_type": "stream",
     "text": [
      "[I 2024-12-16 05:43:32,391] Trial 180 finished with value: 0.2701039714392456 and parameters: {'topK': 173, 'alpha': 0.6092012888475287, 'beta': 0.27230992968865436, 'normalize_similarity': True, 'implicit': True}. Best is trial 143 with value: 0.27546375448352656.\n"
     ]
    },
    {
     "name": "stdout",
     "output_type": "stream",
     "text": [
      "RP3betaRecommender: Similarity column 38121 (100.0%), 1848.19 column/sec. Elapsed time 20.63 sec\n",
      "EvaluatorHoldout: Processed 35595 (100.0%) in 39.31 sec. Users per second: 906\n"
     ]
    },
    {
     "name": "stderr",
     "output_type": "stream",
     "text": [
      "[I 2024-12-16 05:44:35,452] Trial 181 finished with value: 0.27364616181392887 and parameters: {'topK': 65, 'alpha': 0.5156823458746543, 'beta': 0.18925210532639397, 'normalize_similarity': True, 'implicit': True}. Best is trial 143 with value: 0.27546375448352656.\n"
     ]
    },
    {
     "name": "stdout",
     "output_type": "stream",
     "text": [
      "RP3betaRecommender: Similarity column 38121 (100.0%), 1624.45 column/sec. Elapsed time 23.47 sec\n",
      "EvaluatorHoldout: Processed 35595 (100.0%) in 39.07 sec. Users per second: 911\n"
     ]
    },
    {
     "name": "stderr",
     "output_type": "stream",
     "text": [
      "[I 2024-12-16 05:45:42,898] Trial 182 finished with value: 0.27151831110808894 and parameters: {'topK': 122, 'alpha': 0.3362756773218905, 'beta': 0.12487447119183098, 'normalize_similarity': True, 'implicit': True}. Best is trial 143 with value: 0.27546375448352656.\n"
     ]
    },
    {
     "name": "stdout",
     "output_type": "stream",
     "text": [
      "RP3betaRecommender: Similarity column 38121 (100.0%), 1798.11 column/sec. Elapsed time 21.20 sec\n",
      "EvaluatorHoldout: Processed 35595 (100.0%) in 38.53 sec. Users per second: 924\n"
     ]
    },
    {
     "name": "stderr",
     "output_type": "stream",
     "text": [
      "[I 2024-12-16 05:46:46,210] Trial 183 finished with value: 0.2752645258878983 and parameters: {'topK': 78, 'alpha': 0.39429926192845083, 'beta': 0.21886678934602943, 'normalize_similarity': True, 'implicit': True}. Best is trial 143 with value: 0.27546375448352656.\n"
     ]
    },
    {
     "name": "stdout",
     "output_type": "stream",
     "text": [
      "RP3betaRecommender: Similarity column 38121 (100.0%), 1755.84 column/sec. Elapsed time 21.71 sec\n",
      "EvaluatorHoldout: Processed 35595 (100.0%) in 38.67 sec. Users per second: 921\n"
     ]
    },
    {
     "name": "stderr",
     "output_type": "stream",
     "text": [
      "[I 2024-12-16 05:47:50,673] Trial 184 finished with value: 0.2753211665774625 and parameters: {'topK': 90, 'alpha': 0.4167446503568797, 'beta': 0.23090365873959068, 'normalize_similarity': True, 'implicit': True}. Best is trial 143 with value: 0.27546375448352656.\n"
     ]
    },
    {
     "name": "stdout",
     "output_type": "stream",
     "text": [
      "RP3betaRecommender: Similarity column 38121 (100.0%), 1722.94 column/sec. Elapsed time 22.13 sec\n",
      "EvaluatorHoldout: Processed 35595 (100.0%) in 38.84 sec. Users per second: 917\n"
     ]
    },
    {
     "name": "stderr",
     "output_type": "stream",
     "text": [
      "[I 2024-12-16 05:48:55,927] Trial 185 finished with value: 0.27384008543403043 and parameters: {'topK': 98, 'alpha': 0.28210130211308015, 'beta': 0.2414677094832041, 'normalize_similarity': True, 'implicit': True}. Best is trial 143 with value: 0.27546375448352656.\n"
     ]
    },
    {
     "name": "stdout",
     "output_type": "stream",
     "text": [
      "RP3betaRecommender: Similarity column 38121 (100.0%), 1571.98 column/sec. Elapsed time 24.25 sec\n",
      "EvaluatorHoldout: Processed 35595 (100.0%) in 39.69 sec. Users per second: 897\n"
     ]
    },
    {
     "name": "stderr",
     "output_type": "stream",
     "text": [
      "[I 2024-12-16 05:50:05,254] Trial 186 finished with value: 0.2700440645176547 and parameters: {'topK': 143, 'alpha': 0.41796049072829905, 'beta': 0.09390290157725231, 'normalize_similarity': True, 'implicit': True}. Best is trial 143 with value: 0.27546375448352656.\n"
     ]
    },
    {
     "name": "stdout",
     "output_type": "stream",
     "text": [
      "RP3betaRecommender: Similarity column 38121 (100.0%), 1774.16 column/sec. Elapsed time 21.49 sec\n",
      "EvaluatorHoldout: Processed 35595 (100.0%) in 38.20 sec. Users per second: 932\n"
     ]
    },
    {
     "name": "stderr",
     "output_type": "stream",
     "text": [
      "[I 2024-12-16 05:51:08,703] Trial 187 finished with value: 0.2747176195382377 and parameters: {'topK': 85, 'alpha': 0.42193453703635736, 'beta': 0.19717172449765083, 'normalize_similarity': True, 'implicit': True}. Best is trial 143 with value: 0.27546375448352656.\n"
     ]
    },
    {
     "name": "stdout",
     "output_type": "stream",
     "text": [
      "RP3betaRecommender: Similarity column 38121 (100.0%), 1684.27 column/sec. Elapsed time 22.63 sec\n",
      "EvaluatorHoldout: Processed 35595 (100.0%) in 39.32 sec. Users per second: 905\n"
     ]
    },
    {
     "name": "stderr",
     "output_type": "stream",
     "text": [
      "[I 2024-12-16 05:52:15,134] Trial 188 finished with value: 0.2732823063897019 and parameters: {'topK': 108, 'alpha': 0.47772894537926364, 'beta': 0.15357567642180583, 'normalize_similarity': True, 'implicit': False}. Best is trial 143 with value: 0.27546375448352656.\n"
     ]
    },
    {
     "name": "stdout",
     "output_type": "stream",
     "text": [
      "RP3betaRecommender: Similarity column 38121 (100.0%), 1994.39 column/sec. Elapsed time 19.11 sec\n",
      "EvaluatorHoldout: Processed 35595 (100.0%) in 35.50 sec. Users per second: 1003\n"
     ]
    },
    {
     "name": "stderr",
     "output_type": "stream",
     "text": [
      "[I 2024-12-16 05:53:11,601] Trial 189 finished with value: 0.27054786893959876 and parameters: {'topK': 30, 'alpha': 0.41124071464932466, 'beta': 0.21514123413062805, 'normalize_similarity': True, 'implicit': True}. Best is trial 143 with value: 0.27546375448352656.\n"
     ]
    },
    {
     "name": "stdout",
     "output_type": "stream",
     "text": [
      "RP3betaRecommender: Similarity column 38121 (100.0%), 1516.90 column/sec. Elapsed time 25.13 sec\n",
      "EvaluatorHoldout: Processed 35595 (100.0%) in 40.25 sec. Users per second: 884\n"
     ]
    },
    {
     "name": "stderr",
     "output_type": "stream",
     "text": [
      "[I 2024-12-16 05:54:23,093] Trial 190 finished with value: 0.2686687342675211 and parameters: {'topK': 160, 'alpha': 0.5790415657304604, 'beta': 0.08769119741454787, 'normalize_similarity': True, 'implicit': True}. Best is trial 143 with value: 0.27546375448352656.\n"
     ]
    },
    {
     "name": "stdout",
     "output_type": "stream",
     "text": [
      "RP3betaRecommender: Similarity column 38121 (100.0%), 1839.52 column/sec. Elapsed time 20.72 sec\n",
      "EvaluatorHoldout: Processed 35595 (100.0%) in 38.05 sec. Users per second: 936\n"
     ]
    },
    {
     "name": "stderr",
     "output_type": "stream",
     "text": [
      "[I 2024-12-16 05:55:25,269] Trial 191 finished with value: 0.2757505849868378 and parameters: {'topK': 72, 'alpha': 0.3304167572370963, 'beta': 0.2579314074665905, 'normalize_similarity': True, 'implicit': True}. Best is trial 191 with value: 0.2757505849868378.\n"
     ]
    },
    {
     "name": "stdout",
     "output_type": "stream",
     "text": [
      "RP3betaRecommender: Similarity column 38121 (100.0%), 1791.81 column/sec. Elapsed time 21.28 sec\n",
      "EvaluatorHoldout: Processed 35595 (100.0%) in 38.32 sec. Users per second: 929\n"
     ]
    },
    {
     "name": "stderr",
     "output_type": "stream",
     "text": [
      "[I 2024-12-16 05:56:28,632] Trial 192 finished with value: 0.27541399887167856 and parameters: {'topK': 83, 'alpha': 0.3471416434792305, 'beta': 0.22677003351594113, 'normalize_similarity': True, 'implicit': True}. Best is trial 191 with value: 0.2757505849868378.\n"
     ]
    },
    {
     "name": "stdout",
     "output_type": "stream",
     "text": [
      "RP3betaRecommender: Similarity column 38121 (100.0%), 1757.24 column/sec. Elapsed time 21.69 sec\n",
      "EvaluatorHoldout: Processed 35595 (100.0%) in 38.52 sec. Users per second: 924\n"
     ]
    },
    {
     "name": "stderr",
     "output_type": "stream",
     "text": [
      "[I 2024-12-16 05:57:32,843] Trial 193 finished with value: 0.27464545374529936 and parameters: {'topK': 91, 'alpha': 0.32576072011932405, 'beta': 0.2113768457482333, 'normalize_similarity': True, 'implicit': True}. Best is trial 191 with value: 0.2757505849868378.\n"
     ]
    },
    {
     "name": "stdout",
     "output_type": "stream",
     "text": [
      "RP3betaRecommender: Similarity column 38121 (100.0%), 1739.13 column/sec. Elapsed time 21.92 sec\n",
      "EvaluatorHoldout: Processed 35595 (100.0%) in 38.20 sec. Users per second: 932\n"
     ]
    },
    {
     "name": "stderr",
     "output_type": "stream",
     "text": [
      "[I 2024-12-16 05:58:36,870] Trial 194 finished with value: 0.273382506654308 and parameters: {'topK': 95, 'alpha': 0.3324445933064746, 'beta': 0.14994689019907864, 'normalize_similarity': True, 'implicit': True}. Best is trial 191 with value: 0.2757505849868378.\n"
     ]
    },
    {
     "name": "stdout",
     "output_type": "stream",
     "text": [
      "RP3betaRecommender: Similarity column 38121 (100.0%), 1601.42 column/sec. Elapsed time 23.80 sec\n",
      "EvaluatorHoldout: Processed 35595 (100.0%) in 40.51 sec. Users per second: 879\n"
     ]
    },
    {
     "name": "stderr",
     "output_type": "stream",
     "text": [
      "[I 2024-12-16 05:59:47,128] Trial 195 finished with value: 0.27274013556010407 and parameters: {'topK': 134, 'alpha': 0.4326093152082561, 'beta': 0.2771081108798277, 'normalize_similarity': True, 'implicit': True}. Best is trial 191 with value: 0.2757505849868378.\n"
     ]
    },
    {
     "name": "stdout",
     "output_type": "stream",
     "text": [
      "RP3betaRecommender: Similarity column 38121 (100.0%), 1695.80 column/sec. Elapsed time 22.48 sec\n",
      "EvaluatorHoldout: Processed 35595 (100.0%) in 38.88 sec. Users per second: 916\n"
     ]
    },
    {
     "name": "stderr",
     "output_type": "stream",
     "text": [
      "[I 2024-12-16 06:00:52,673] Trial 196 finished with value: 0.2745526393666851 and parameters: {'topK': 94, 'alpha': 0.3312965278084388, 'beta': 0.2077689859694423, 'normalize_similarity': True, 'implicit': True}. Best is trial 191 with value: 0.2757505849868378.\n"
     ]
    },
    {
     "name": "stdout",
     "output_type": "stream",
     "text": [
      "RP3betaRecommender: Similarity column 38121 (100.0%), 2082.95 column/sec. Elapsed time 18.30 sec\n",
      "EvaluatorHoldout: Processed 35595 (100.0%) in 35.05 sec. Users per second: 1016\n"
     ]
    },
    {
     "name": "stderr",
     "output_type": "stream",
     "text": [
      "[I 2024-12-16 06:01:47,553] Trial 197 finished with value: 0.2640147372214224 and parameters: {'topK': 22, 'alpha': 0.4861538017476055, 'beta': 0.1390128872783642, 'normalize_similarity': True, 'implicit': True}. Best is trial 191 with value: 0.2757505849868378.\n"
     ]
    },
    {
     "name": "stdout",
     "output_type": "stream",
     "text": [
      "RP3betaRecommender: Similarity column 38121 (100.0%), 1615.42 column/sec. Elapsed time 23.60 sec\n",
      "EvaluatorHoldout: Processed 35595 (100.0%) in 40.59 sec. Users per second: 877\n"
     ]
    },
    {
     "name": "stderr",
     "output_type": "stream",
     "text": [
      "[I 2024-12-16 06:02:57,555] Trial 198 finished with value: 0.27293177551193704 and parameters: {'topK': 130, 'alpha': 0.3974926645267291, 'beta': 0.26306731809687206, 'normalize_similarity': True, 'implicit': True}. Best is trial 191 with value: 0.2757505849868378.\n"
     ]
    },
    {
     "name": "stdout",
     "output_type": "stream",
     "text": [
      "RP3betaRecommender: Similarity column 38121 (100.0%), 1791.10 column/sec. Elapsed time 21.28 sec\n",
      "EvaluatorHoldout: Processed 35595 (100.0%) in 37.99 sec. Users per second: 937\n"
     ]
    },
    {
     "name": "stderr",
     "output_type": "stream",
     "text": [
      "[I 2024-12-16 06:04:00,378] Trial 199 finished with value: 0.26864436921757767 and parameters: {'topK': 81, 'alpha': 0.7127339353621707, 'beta': 0.06566231250776164, 'normalize_similarity': True, 'implicit': True}. Best is trial 191 with value: 0.2757505849868378.\n"
     ]
    }
   ],
   "source": [
    "if config['tune_parameters']:\n",
    "    \n",
    "    optuna_study = optuna.create_study(direction='maximize', study_name=f'hyperparameters_tuning_{config[\"model\"]}_{config[\"metric\"]}',\n",
    "                                storage=f'sqlite:///{config[\"database_path\"]}', load_if_exists=True)\n",
    "\n",
    "    optuna_study.optimize(objective_function_RP3beta, n_trials=200)"
   ]
  },
  {
   "cell_type": "markdown",
   "id": "c106cbe8",
   "metadata": {
    "papermill": {
     "duration": 0.045485,
     "end_time": "2024-12-16T06:04:00.479159",
     "exception": false,
     "start_time": "2024-12-16T06:04:00.433674",
     "status": "completed"
    },
    "tags": []
   },
   "source": [
    "## Some optuna visualizations on recommender parameters"
   ]
  },
  {
   "cell_type": "code",
   "execution_count": 14,
   "id": "bb98e7f0",
   "metadata": {
    "execution": {
     "iopub.execute_input": "2024-12-16T06:04:00.573777Z",
     "iopub.status.busy": "2024-12-16T06:04:00.573378Z",
     "iopub.status.idle": "2024-12-16T06:04:02.207727Z",
     "shell.execute_reply": "2024-12-16T06:04:02.206496Z"
    },
    "papermill": {
     "duration": 1.685133,
     "end_time": "2024-12-16T06:04:02.210426",
     "exception": false,
     "start_time": "2024-12-16T06:04:00.525293",
     "status": "completed"
    },
    "tags": []
   },
   "outputs": [
    {
     "data": {
      "text/html": [
       "        <script type=\"text/javascript\">\n",
       "        window.PlotlyConfig = {MathJaxConfig: 'local'};\n",
       "        if (window.MathJax && window.MathJax.Hub && window.MathJax.Hub.Config) {window.MathJax.Hub.Config({SVG: {font: \"STIX-Web\"}});}\n",
       "        if (typeof require !== 'undefined') {\n",
       "        require.undef(\"plotly\");\n",
       "        requirejs.config({\n",
       "            paths: {\n",
       "                'plotly': ['https://cdn.plot.ly/plotly-2.32.0.min']\n",
       "            }\n",
       "        });\n",
       "        require(['plotly'], function(Plotly) {\n",
       "            window._Plotly = Plotly;\n",
       "        });\n",
       "        }\n",
       "        </script>\n",
       "        "
      ]
     },
     "metadata": {},
     "output_type": "display_data"
    },
    {
     "data": {
      "text/html": [
       "<div>                            <div id=\"83d8ad2d-9c22-4363-999a-f8b4f1434c12\" class=\"plotly-graph-div\" style=\"height:525px; width:1500px;\"></div>            <script type=\"text/javascript\">                require([\"plotly\"], function(Plotly) {                    window.PLOTLYENV=window.PLOTLYENV || {};                                    if (document.getElementById(\"83d8ad2d-9c22-4363-999a-f8b4f1434c12\")) {                    Plotly.newPlot(                        \"83d8ad2d-9c22-4363-999a-f8b4f1434c12\",                        [{\"marker\":{\"color\":[0,1,2,3,4,5,6,7,8,9,10,11,12,13,14,15,16,17,18,19,20,21,22,23,24,25,26,27,28,29,30,31,32,33,34,35,36,37,38,39,40,41,42,43,44,45,46,47,48,49,50,51,52,53,54,55,56,57,58,59,60,61,62,63,64,65,66,67,68,69,70,71,72,73,74,75,76,77,78,79,80,81,82,83,84,85,86,87,88,89,90,91,92,93,94,95,96,97,98,99,100,101,102,103,104,105,106,107,108,109,110,111,112,113,114,115,116,117,118,119,120,121,122,123,124,125,126,127,128,129,130,131,132,133,134,135,136,137,138,139,140,141,142,143,144,145,146,147,148,149,150,151,152,153,154,155,156,157,158,159,160,161,162,163,164,165,166,167,168,169,170,171,172,173,174,175,176,177,178,179,180,181,182,183,184,185,186,187,188,189,190,191,192,193,194,195,196,197,198,199],\"colorbar\":{\"title\":{\"text\":\"Trial\"},\"x\":1.0,\"xpad\":40},\"colorscale\":[[0.0,\"rgb(247,251,255)\"],[0.125,\"rgb(222,235,247)\"],[0.25,\"rgb(198,219,239)\"],[0.375,\"rgb(158,202,225)\"],[0.5,\"rgb(107,174,214)\"],[0.625,\"rgb(66,146,198)\"],[0.75,\"rgb(33,113,181)\"],[0.875,\"rgb(8,81,156)\"],[1.0,\"rgb(8,48,107)\"]],\"line\":{\"color\":\"Grey\",\"width\":0.5},\"showscale\":true},\"mode\":\"markers\",\"name\":\"Feasible Trial\",\"showlegend\":false,\"x\":[0.6842933111707797,2.7790952329464527,1.7067858787857335,0.08735907408408583,2.549235108607817,2.2575367053624023,1.6521958054205281,2.305417285762639,1.746946434975432,0.08732837704539587,2.717420708088634,2.8612235438411924,2.984792976473483,1.0256104784482591,1.0290459661276423,1.0876748637151383,0.9706440884073295,1.2458650018551618,0.548676980278768,0.5798504522704576,1.3390854427683583,1.3436940160407234,0.8545033013911831,1.970988292314554,1.3491473240230862,0.3121339841712707,1.135310716589425,1.4736747324148998,0.8017904242072206,0.40580206396600815,1.926235428132175,1.3391832187970594,0.923155180349764,0.757670472343916,0.7206053518329625,0.7005658050642576,0.7153312838281901,0.39305135567063365,0.25550991548935476,0.6138137340895026,0.5847369283879368,0.6818910222528388,0.8865553433993096,0.9116380783704365,0.16878461938751732,0.5504142538805139,0.4424850425720553,0.1488117220663337,0.005625711269465317,0.5485218769385043,1.114000574737778,0.9282390709937408,0.640633740296181,0.47678224748262465,0.6776755617701676,0.3065706983090052,0.8833093240353125,1.1760746063957639,1.0156444516242658,0.622402751485815,0.8167292220847582,0.8220867460019881,0.84322134265559,0.5018248596132917,0.48748485427668464,0.7923292639836853,0.3276279771200636,0.23740565015526416,0.16773986145972708,0.18681390003098225,0.0046459525638849475,0.030014024213044083,0.33972101168825725,0.3396437570488936,0.26451936556307293,0.3367488396772321,0.0882893822042918,0.234179064567552,0.13071930184667588,0.08645528318327315,0.12910051408405554,0.0795133363837418,0.10692011918081007,0.09350176829976635,0.098773101006079,0.11041305295008595,0.10547371838231298,0.2121838261430929,0.09107305108498412,0.4094799481753313,0.26665887772915486,0.367417418073104,0.04961078487994268,0.06172688530134311,0.049218612017301086,0.047945244554041935,0.17376127330629348,0.1816325154300488,0.18013924263762482,0.15378984070527257,0.27655109968079006,2.34637802566666,0.007685230544101959,0.1449154055827341,0.06034726103698385,0.2074404991722025,0.4284118653982296,0.20062532659791307,0.42884740690965995,0.43541061876742637,0.20808380162906628,0.19509854477002123,1.643511097682806,0.2430599373256552,0.28528371541082265,0.3875261410650017,0.3889453085774565,0.522769052182095,0.2951131942684535,0.5130533363822334,0.5411962636279632,0.2745635069048404,0.48120991675889113,0.2945147085282961,0.37235923436033014,0.3773493192624401,0.5190302646259634,0.25739872657852697,0.5987458192852204,0.4498172748869592,0.5655126476979389,0.32502731662560935,0.3742386065557858,0.6579922341243858,0.6035660830415684,0.38247444693596144,0.49855415850556456,0.24966639976527527,0.447006732144708,0.44853116347658983,0.4144448927690557,0.4359074500728897,0.4552047235866496,0.34880227147468656,0.3530154999294918,0.3117773208367383,0.2434301555886041,0.354551778102284,0.24069446411112005,0.37517032350994967,0.3129056635392348,0.4520914806254288,1.9889712671159736,0.35527240134383187,0.49890294055034135,0.34848541492799406,0.45165157785319626,0.5623069683593764,0.26407251523231706,0.40767260498436575,0.31157704755788396,0.23928426463705288,0.36899151355629545,2.659475617059515,0.3722232847074255,0.4684643009115103,0.3786558452410987,0.5262083609711946,0.38560351100340545,0.3097624216744505,0.45126053213275064,0.24527431953395767,0.34851260326390815,0.3013484747447839,0.41165176858428565,0.4290511780100632,0.27042890498463323,0.37365889684360964,0.23988775568278173,0.46815717848192356,0.6092012888475287,0.5156823458746543,0.3362756773218905,0.39429926192845083,0.4167446503568797,0.28210130211308015,0.41796049072829905,0.42193453703635736,0.47772894537926364,0.41124071464932466,0.5790415657304604,0.3304167572370963,0.3471416434792305,0.32576072011932405,0.3324445933064746,0.4326093152082561,0.3312965278084388,0.4861538017476055,0.3974926645267291,0.7127339353621707],\"y\":[0.07739749877027387,0.07858667209228613,0.06510864611853484,0.07847320693421804,0.04748853628419093,0.06630303591406465,0.05559490574123661,0.03880682904742222,0.0511740666502776,0.04990227196529182,0.17203837452657234,0.16417606308745472,0.18159872637332145,0.25157064039912846,0.2508552735885827,0.24598114807809007,0.1686420169674047,0.18140302202617758,0.233245079980302,0.15629938351752104,0.24918758047126383,0.2488223323954564,0.23782650633308317,0.2261583249136928,0.13058067197264445,0.22325233828975805,0.24043284536845194,0.2404804648408771,0.1407625942679735,0.24213118699221783,0.1596883890997764,0.2489787020501028,0.258314122664155,0.2530453489667818,0.25641561538700847,0.25738782419098777,0.25687054752185123,0.08349745506425506,0.12203873965555477,0.2570313447684518,0.2215173254355084,0.25640094395641533,0.25747448661980776,0.19452109535474732,0.10745236609291679,0.26115867252999747,0.25171831339056944,0.21755633533860108,0.24775298127240578,0.09984467314454523,0.15870454080827973,0.24979985526569679,0.26031260509464726,0.23730216203755225,0.24838017746913532,0.25459528452784413,0.19421461310633029,0.23503902317854344,0.06453910647749937,0.2617747220071662,0.2601960292624363,0.25964641192870347,0.25981709583749335,0.263058790663452,0.25875930749019266,0.2667073894769113,0.26973685756984606,0.2692715062171388,0.26695611512670786,0.22727445935185595,0.26646646627785914,0.2576353273565389,0.2680955157291235,0.26851849611757345,0.26666032451272803,0.26162974566977376,0.27108685488123224,0.2660864708192767,0.27129235974016075,0.26850300084848233,0.27145308527349027,0.2698763331438474,0.2685480533428535,0.26858456071647,0.2631729590764075,0.2697394095808364,0.26765032679547784,0.22730731371042825,0.2515095822233475,0.2655218600906946,0.08696038385081403,0.2651627111622933,0.26954539223774704,0.2697015169715496,0.26982590443442017,0.005972113065949917,0.272147607614542,0.27217739073527913,0.2693843755508265,0.24017077921703353,0.24577764682258543,0.20131544471905774,0.0701017713155802,0.26311990303201926,0.24506801789415755,0.27373312502108754,0.27318575026644,0.26975968262018385,0.27095274859903284,0.2537540614768321,0.2737336407865632,0.26921099011471145,0.17902215852437006,0.2744543893394464,0.27509043678545714,0.2753158191736394,0.2667729289999982,0.2740320957939774,0.2655377074520251,0.27271199745284463,0.26537491803544333,0.2753214911497019,0.005972113065949917,0.2720444793270884,0.2742920910887087,0.26943851840490113,0.2556229016729896,0.26377586219385124,0.27211821882916365,0.2706584846341203,0.2643154658968802,0.26611258675355387,0.2751468833261084,0.27170612624448776,0.2733555262823487,0.06597788810483336,0.09926596914068031,0.2746037598776359,0.274661054177763,0.2733395725709268,0.27314294011755896,0.27508571539442955,0.27469056964193495,0.27546375448352656,0.27522041338403697,0.2666690318825953,0.2727451558460175,0.2681995495162941,0.236367314267053,0.17466048656773922,0.12517152665809406,0.27515769969618364,0.22975336509844752,0.27532393972685837,0.27213199258502513,0.2716401397105091,0.2706137774050363,0.2699049323619637,0.24988080332698645,0.2704168505811787,0.08474160337386709,0.27381926143168694,0.27499397663655456,0.20216971884036755,0.2745885307524775,0.2709208966709604,0.26581814132618076,0.16374548356059165,0.27154294524149136,0.2736025527156243,0.2583610901557852,0.2747097314467651,0.2719837259850468,0.272564679998845,0.2748097252485712,0.27179257303735904,0.27215387190069446,0.27366994981915127,0.1801675546864043,0.27283691723376746,0.2701039714392456,0.27364616181392887,0.27151831110808894,0.2752645258878983,0.2753211665774625,0.27384008543403043,0.2700440645176547,0.2747176195382377,0.2732823063897019,0.27054786893959876,0.2686687342675211,0.2757505849868378,0.27541399887167856,0.27464545374529936,0.273382506654308,0.27274013556010407,0.2745526393666851,0.2640147372214224,0.27293177551193704,0.26864436921757767],\"type\":\"scatter\",\"xaxis\":\"x\",\"yaxis\":\"y\"},{\"marker\":{\"color\":[0,1,2,3,4,5,6,7,8,9,10,11,12,13,14,15,16,17,18,19,20,21,22,23,24,25,26,27,28,29,30,31,32,33,34,35,36,37,38,39,40,41,42,43,44,45,46,47,48,49,50,51,52,53,54,55,56,57,58,59,60,61,62,63,64,65,66,67,68,69,70,71,72,73,74,75,76,77,78,79,80,81,82,83,84,85,86,87,88,89,90,91,92,93,94,95,96,97,98,99,100,101,102,103,104,105,106,107,108,109,110,111,112,113,114,115,116,117,118,119,120,121,122,123,124,125,126,127,128,129,130,131,132,133,134,135,136,137,138,139,140,141,142,143,144,145,146,147,148,149,150,151,152,153,154,155,156,157,158,159,160,161,162,163,164,165,166,167,168,169,170,171,172,173,174,175,176,177,178,179,180,181,182,183,184,185,186,187,188,189,190,191,192,193,194,195,196,197,198,199],\"colorbar\":{\"title\":{\"text\":\"Trial\"},\"x\":1.0,\"xpad\":40},\"colorscale\":[[0.0,\"rgb(247,251,255)\"],[0.125,\"rgb(222,235,247)\"],[0.25,\"rgb(198,219,239)\"],[0.375,\"rgb(158,202,225)\"],[0.5,\"rgb(107,174,214)\"],[0.625,\"rgb(66,146,198)\"],[0.75,\"rgb(33,113,181)\"],[0.875,\"rgb(8,81,156)\"],[1.0,\"rgb(8,48,107)\"]],\"line\":{\"color\":\"Grey\",\"width\":0.5},\"showscale\":false},\"mode\":\"markers\",\"name\":\"Feasible Trial\",\"showlegend\":false,\"x\":[2.2341282577965647,1.5237060671181681,2.3745177621820264,2.0776403251470823,2.5466006144958317,1.5386822557146016,2.876212775266612,1.6970356288321415,2.9492486495685464,2.5634944874786925,0.5696247852175433,0.5834140213291801,0.3926920541587776,0.19392368153811917,0.19305681151570345,0.10083257841474938,0.9978941071926082,0.9034554537190127,0.005994249680674718,1.055741150168445,0.2984941059570681,0.2675826676543084,0.6976114550518708,0.3235803843086358,1.2050949459285225,0.7242377331609782,0.19239838594181835,0.4464453096326307,1.1844226940926954,0.0021979905722345205,0.860339001855533,0.31661530570853125,0.4273052934004784,0.18289250360849532,0.5490644161126382,0.5344516427652981,0.5423832995016332,1.9281184042197543,1.281335652252467,0.5533539261672089,0.7268451040071686,0.5546054573265954,0.47972469588101807,0.8747737255961578,1.4215812021444212,0.4255844438622478,0.4336670188270769,0.7429128775711411,0.4393566351249023,1.656428903242241,1.0243476593663197,0.5841344263225343,0.4826957073998426,0.6890883899457966,0.08987216262809639,0.373004398027899,0.8014553393445172,0.6420546921479576,2.6128483200803694,0.4594647498968944,0.44111372758217693,0.4580943992700817,0.4330380963737339,0.23217324948307255,0.1118240520647037,0.28134949327063996,0.29632917800230885,0.24939343817274995,0.2457846954072921,0.27301862598079774,0.08644531587083487,0.10541731065453142,0.247359425209174,0.203099021668061,0.20880177942396233,0.002556324824541961,0.1760272099057997,0.3230856767225427,0.17087233989554637,0.13361562624167062,0.1591476230759188,0.15300990916346063,0.1200948299647682,0.12260218927434804,0.056323428674872625,0.1754647694297792,0.3496764087400351,0.14925586662737758,0.001000603755464513,0.15989001354282756,1.987996479037058,0.18261655152875125,0.35258520460148596,0.3704846892123458,0.35564167083472026,0.34490654424077705,0.3675499978110909,0.3797866332407285,0.05860606184871647,0.6381849093613018,0.38314497086385296,0.3499814674304712,2.262346180603675,0.5086749948252849,0.3806479879228828,0.28883547140646154,0.28328682139241507,0.27688705702354005,0.037589939137519054,0.5996657880641572,0.2969515039623618,0.04779361528704372,0.25310119345402454,0.2982241877722824,0.21894068175413117,0.2132938080639606,0.05614988942283866,0.19487450746149468,0.21244238157048706,0.2995611193257503,0.494735666518211,0.3063306775440863,0.2841263124363125,0.2894124067799066,0.30979645442126585,0.40943590805445085,0.29889297262409265,0.527048406196921,0.3088768913145768,0.40428870127050076,0.4792781360207962,0.3008634082831462,0.22338721565508693,0.2174620649944458,0.2503815940036635,2.7657182205998665,1.7544274504640427,0.22443034793115926,0.2308982557528761,0.1160781881375186,0.09822605166074504,0.2220381778937706,0.20721310177140562,0.22442313155864607,0.22192124286976075,0.21481104185386082,0.20730981599263246,0.14007548571563008,0.21638135627736996,0.0978154947681282,1.321724506424514,0.24435400171074528,0.1709055877951211,0.22754141409776749,0.2322814809259216,0.1338172498354467,0.054272888518989065,0.42275301272567706,0.3353075345474496,0.23660159280922963,0.1798576164364503,0.33107256876304747,0.33456054560027987,0.23680803610924833,0.34415271217402843,0.16647981210996454,0.0014948354205937542,1.0991493598272468,0.08348414553062769,0.37655787013063746,0.42926810106905866,0.24161232081111872,0.2414492245713748,0.16204244430225362,0.3247277682537771,0.32592866709120294,0.2632106132174726,0.34491695032395986,0.46292320273164134,0.38663224448337585,0.27230992968865436,0.18925210532639397,0.12487447119183098,0.21886678934602943,0.23090365873959068,0.2414677094832041,0.09390290157725231,0.19717172449765083,0.15357567642180583,0.21514123413062805,0.08769119741454787,0.2579314074665905,0.22677003351594113,0.2113768457482333,0.14994689019907864,0.2771081108798277,0.2077689859694423,0.1390128872783642,0.26306731809687206,0.06566231250776164],\"y\":[0.07739749877027387,0.07858667209228613,0.06510864611853484,0.07847320693421804,0.04748853628419093,0.06630303591406465,0.05559490574123661,0.03880682904742222,0.0511740666502776,0.04990227196529182,0.17203837452657234,0.16417606308745472,0.18159872637332145,0.25157064039912846,0.2508552735885827,0.24598114807809007,0.1686420169674047,0.18140302202617758,0.233245079980302,0.15629938351752104,0.24918758047126383,0.2488223323954564,0.23782650633308317,0.2261583249136928,0.13058067197264445,0.22325233828975805,0.24043284536845194,0.2404804648408771,0.1407625942679735,0.24213118699221783,0.1596883890997764,0.2489787020501028,0.258314122664155,0.2530453489667818,0.25641561538700847,0.25738782419098777,0.25687054752185123,0.08349745506425506,0.12203873965555477,0.2570313447684518,0.2215173254355084,0.25640094395641533,0.25747448661980776,0.19452109535474732,0.10745236609291679,0.26115867252999747,0.25171831339056944,0.21755633533860108,0.24775298127240578,0.09984467314454523,0.15870454080827973,0.24979985526569679,0.26031260509464726,0.23730216203755225,0.24838017746913532,0.25459528452784413,0.19421461310633029,0.23503902317854344,0.06453910647749937,0.2617747220071662,0.2601960292624363,0.25964641192870347,0.25981709583749335,0.263058790663452,0.25875930749019266,0.2667073894769113,0.26973685756984606,0.2692715062171388,0.26695611512670786,0.22727445935185595,0.26646646627785914,0.2576353273565389,0.2680955157291235,0.26851849611757345,0.26666032451272803,0.26162974566977376,0.27108685488123224,0.2660864708192767,0.27129235974016075,0.26850300084848233,0.27145308527349027,0.2698763331438474,0.2685480533428535,0.26858456071647,0.2631729590764075,0.2697394095808364,0.26765032679547784,0.22730731371042825,0.2515095822233475,0.2655218600906946,0.08696038385081403,0.2651627111622933,0.26954539223774704,0.2697015169715496,0.26982590443442017,0.005972113065949917,0.272147607614542,0.27217739073527913,0.2693843755508265,0.24017077921703353,0.24577764682258543,0.20131544471905774,0.0701017713155802,0.26311990303201926,0.24506801789415755,0.27373312502108754,0.27318575026644,0.26975968262018385,0.27095274859903284,0.2537540614768321,0.2737336407865632,0.26921099011471145,0.17902215852437006,0.2744543893394464,0.27509043678545714,0.2753158191736394,0.2667729289999982,0.2740320957939774,0.2655377074520251,0.27271199745284463,0.26537491803544333,0.2753214911497019,0.005972113065949917,0.2720444793270884,0.2742920910887087,0.26943851840490113,0.2556229016729896,0.26377586219385124,0.27211821882916365,0.2706584846341203,0.2643154658968802,0.26611258675355387,0.2751468833261084,0.27170612624448776,0.2733555262823487,0.06597788810483336,0.09926596914068031,0.2746037598776359,0.274661054177763,0.2733395725709268,0.27314294011755896,0.27508571539442955,0.27469056964193495,0.27546375448352656,0.27522041338403697,0.2666690318825953,0.2727451558460175,0.2681995495162941,0.236367314267053,0.17466048656773922,0.12517152665809406,0.27515769969618364,0.22975336509844752,0.27532393972685837,0.27213199258502513,0.2716401397105091,0.2706137774050363,0.2699049323619637,0.24988080332698645,0.2704168505811787,0.08474160337386709,0.27381926143168694,0.27499397663655456,0.20216971884036755,0.2745885307524775,0.2709208966709604,0.26581814132618076,0.16374548356059165,0.27154294524149136,0.2736025527156243,0.2583610901557852,0.2747097314467651,0.2719837259850468,0.272564679998845,0.2748097252485712,0.27179257303735904,0.27215387190069446,0.27366994981915127,0.1801675546864043,0.27283691723376746,0.2701039714392456,0.27364616181392887,0.27151831110808894,0.2752645258878983,0.2753211665774625,0.27384008543403043,0.2700440645176547,0.2747176195382377,0.2732823063897019,0.27054786893959876,0.2686687342675211,0.2757505849868378,0.27541399887167856,0.27464545374529936,0.273382506654308,0.27274013556010407,0.2745526393666851,0.2640147372214224,0.27293177551193704,0.26864436921757767],\"type\":\"scatter\",\"xaxis\":\"x2\",\"yaxis\":\"y2\"},{\"marker\":{\"color\":[0,1,2,3,4,5,6,7,8,9,10,11,12,13,14,15,16,17,18,19,20,21,22,23,24,25,26,27,28,29,30,31,32,33,34,35,36,37,38,39,40,41,42,43,44,45,46,47,48,49,50,51,52,53,54,55,56,57,58,59,60,61,62,63,64,65,66,67,68,69,70,71,72,73,74,75,76,77,78,79,80,81,82,83,84,85,86,87,88,89,90,91,92,93,94,95,96,97,98,99,100,101,102,103,104,105,106,107,108,109,110,111,112,113,114,115,116,117,118,119,120,121,122,123,124,125,126,127,128,129,130,131,132,133,134,135,136,137,138,139,140,141,142,143,144,145,146,147,148,149,150,151,152,153,154,155,156,157,158,159,160,161,162,163,164,165,166,167,168,169,170,171,172,173,174,175,176,177,178,179,180,181,182,183,184,185,186,187,188,189,190,191,192,193,194,195,196,197,198,199],\"colorbar\":{\"title\":{\"text\":\"Trial\"},\"x\":1.0,\"xpad\":40},\"colorscale\":[[0.0,\"rgb(247,251,255)\"],[0.125,\"rgb(222,235,247)\"],[0.25,\"rgb(198,219,239)\"],[0.375,\"rgb(158,202,225)\"],[0.5,\"rgb(107,174,214)\"],[0.625,\"rgb(66,146,198)\"],[0.75,\"rgb(33,113,181)\"],[0.875,\"rgb(8,81,156)\"],[1.0,\"rgb(8,48,107)\"]],\"line\":{\"color\":\"Grey\",\"width\":0.5},\"showscale\":false},\"mode\":\"markers\",\"name\":\"Feasible Trial\",\"showlegend\":false,\"x\":[true,false,true,true,false,false,false,false,true,true,false,false,false,false,false,false,false,false,false,false,false,false,false,false,false,false,true,false,false,true,false,false,false,false,false,true,true,true,true,true,true,true,true,true,true,true,true,true,true,true,true,true,true,true,true,true,true,true,true,true,true,true,true,true,true,true,true,true,true,true,true,true,true,true,true,true,true,true,true,true,true,true,true,true,true,true,true,true,true,true,true,true,true,true,true,true,true,true,true,true,true,true,true,true,true,true,true,true,true,true,true,true,true,true,true,true,true,true,true,true,true,true,true,true,true,true,true,true,true,true,true,true,true,true,true,true,false,true,true,true,true,true,true,true,true,true,true,true,true,true,true,true,true,true,true,true,true,true,false,true,true,true,true,true,true,true,true,true,true,true,true,true,true,true,true,true,true,true,true,true,true,true,true,true,true,true,true,true,false,true,true,true,true,true,true,true,true,true,true,true],\"y\":[0.07739749877027387,0.07858667209228613,0.06510864611853484,0.07847320693421804,0.04748853628419093,0.06630303591406465,0.05559490574123661,0.03880682904742222,0.0511740666502776,0.04990227196529182,0.17203837452657234,0.16417606308745472,0.18159872637332145,0.25157064039912846,0.2508552735885827,0.24598114807809007,0.1686420169674047,0.18140302202617758,0.233245079980302,0.15629938351752104,0.24918758047126383,0.2488223323954564,0.23782650633308317,0.2261583249136928,0.13058067197264445,0.22325233828975805,0.24043284536845194,0.2404804648408771,0.1407625942679735,0.24213118699221783,0.1596883890997764,0.2489787020501028,0.258314122664155,0.2530453489667818,0.25641561538700847,0.25738782419098777,0.25687054752185123,0.08349745506425506,0.12203873965555477,0.2570313447684518,0.2215173254355084,0.25640094395641533,0.25747448661980776,0.19452109535474732,0.10745236609291679,0.26115867252999747,0.25171831339056944,0.21755633533860108,0.24775298127240578,0.09984467314454523,0.15870454080827973,0.24979985526569679,0.26031260509464726,0.23730216203755225,0.24838017746913532,0.25459528452784413,0.19421461310633029,0.23503902317854344,0.06453910647749937,0.2617747220071662,0.2601960292624363,0.25964641192870347,0.25981709583749335,0.263058790663452,0.25875930749019266,0.2667073894769113,0.26973685756984606,0.2692715062171388,0.26695611512670786,0.22727445935185595,0.26646646627785914,0.2576353273565389,0.2680955157291235,0.26851849611757345,0.26666032451272803,0.26162974566977376,0.27108685488123224,0.2660864708192767,0.27129235974016075,0.26850300084848233,0.27145308527349027,0.2698763331438474,0.2685480533428535,0.26858456071647,0.2631729590764075,0.2697394095808364,0.26765032679547784,0.22730731371042825,0.2515095822233475,0.2655218600906946,0.08696038385081403,0.2651627111622933,0.26954539223774704,0.2697015169715496,0.26982590443442017,0.005972113065949917,0.272147607614542,0.27217739073527913,0.2693843755508265,0.24017077921703353,0.24577764682258543,0.20131544471905774,0.0701017713155802,0.26311990303201926,0.24506801789415755,0.27373312502108754,0.27318575026644,0.26975968262018385,0.27095274859903284,0.2537540614768321,0.2737336407865632,0.26921099011471145,0.17902215852437006,0.2744543893394464,0.27509043678545714,0.2753158191736394,0.2667729289999982,0.2740320957939774,0.2655377074520251,0.27271199745284463,0.26537491803544333,0.2753214911497019,0.005972113065949917,0.2720444793270884,0.2742920910887087,0.26943851840490113,0.2556229016729896,0.26377586219385124,0.27211821882916365,0.2706584846341203,0.2643154658968802,0.26611258675355387,0.2751468833261084,0.27170612624448776,0.2733555262823487,0.06597788810483336,0.09926596914068031,0.2746037598776359,0.274661054177763,0.2733395725709268,0.27314294011755896,0.27508571539442955,0.27469056964193495,0.27546375448352656,0.27522041338403697,0.2666690318825953,0.2727451558460175,0.2681995495162941,0.236367314267053,0.17466048656773922,0.12517152665809406,0.27515769969618364,0.22975336509844752,0.27532393972685837,0.27213199258502513,0.2716401397105091,0.2706137774050363,0.2699049323619637,0.24988080332698645,0.2704168505811787,0.08474160337386709,0.27381926143168694,0.27499397663655456,0.20216971884036755,0.2745885307524775,0.2709208966709604,0.26581814132618076,0.16374548356059165,0.27154294524149136,0.2736025527156243,0.2583610901557852,0.2747097314467651,0.2719837259850468,0.272564679998845,0.2748097252485712,0.27179257303735904,0.27215387190069446,0.27366994981915127,0.1801675546864043,0.27283691723376746,0.2701039714392456,0.27364616181392887,0.27151831110808894,0.2752645258878983,0.2753211665774625,0.27384008543403043,0.2700440645176547,0.2747176195382377,0.2732823063897019,0.27054786893959876,0.2686687342675211,0.2757505849868378,0.27541399887167856,0.27464545374529936,0.273382506654308,0.27274013556010407,0.2745526393666851,0.2640147372214224,0.27293177551193704,0.26864436921757767],\"type\":\"scatter\",\"xaxis\":\"x3\",\"yaxis\":\"y3\"},{\"marker\":{\"color\":[0,1,2,3,4,5,6,7,8,9,10,11,12,13,14,15,16,17,18,19,20,21,22,23,24,25,26,27,28,29,30,31,32,33,34,35,36,37,38,39,40,41,42,43,44,45,46,47,48,49,50,51,52,53,54,55,56,57,58,59,60,61,62,63,64,65,66,67,68,69,70,71,72,73,74,75,76,77,78,79,80,81,82,83,84,85,86,87,88,89,90,91,92,93,94,95,96,97,98,99,100,101,102,103,104,105,106,107,108,109,110,111,112,113,114,115,116,117,118,119,120,121,122,123,124,125,126,127,128,129,130,131,132,133,134,135,136,137,138,139,140,141,142,143,144,145,146,147,148,149,150,151,152,153,154,155,156,157,158,159,160,161,162,163,164,165,166,167,168,169,170,171,172,173,174,175,176,177,178,179,180,181,182,183,184,185,186,187,188,189,190,191,192,193,194,195,196,197,198,199],\"colorbar\":{\"title\":{\"text\":\"Trial\"},\"x\":1.0,\"xpad\":40},\"colorscale\":[[0.0,\"rgb(247,251,255)\"],[0.125,\"rgb(222,235,247)\"],[0.25,\"rgb(198,219,239)\"],[0.375,\"rgb(158,202,225)\"],[0.5,\"rgb(107,174,214)\"],[0.625,\"rgb(66,146,198)\"],[0.75,\"rgb(33,113,181)\"],[0.875,\"rgb(8,81,156)\"],[1.0,\"rgb(8,48,107)\"]],\"line\":{\"color\":\"Grey\",\"width\":0.5},\"showscale\":false},\"mode\":\"markers\",\"name\":\"Feasible Trial\",\"showlegend\":false,\"x\":[true,true,true,true,false,false,true,false,false,false,true,true,true,true,true,true,true,true,true,true,true,true,true,true,true,true,false,true,true,true,true,true,true,true,true,true,true,false,true,true,false,true,true,true,true,true,false,true,true,true,true,true,true,true,true,true,false,true,true,true,true,true,true,true,true,true,true,true,true,false,true,true,true,true,true,true,true,true,true,true,true,true,true,true,true,true,true,false,true,true,true,true,true,true,true,true,true,true,true,true,false,true,true,true,true,true,true,true,true,true,true,true,true,true,true,true,true,true,true,true,true,true,true,true,true,true,false,true,true,true,true,true,true,true,true,true,true,true,true,true,true,true,true,true,true,true,true,true,false,true,true,true,true,true,true,true,true,true,true,true,true,true,true,true,true,true,true,true,true,true,true,true,true,true,true,true,true,true,false,true,true,true,true,true,true,true,true,true,true,true,true,true,true,true,true,true,true,true,true,true],\"y\":[0.07739749877027387,0.07858667209228613,0.06510864611853484,0.07847320693421804,0.04748853628419093,0.06630303591406465,0.05559490574123661,0.03880682904742222,0.0511740666502776,0.04990227196529182,0.17203837452657234,0.16417606308745472,0.18159872637332145,0.25157064039912846,0.2508552735885827,0.24598114807809007,0.1686420169674047,0.18140302202617758,0.233245079980302,0.15629938351752104,0.24918758047126383,0.2488223323954564,0.23782650633308317,0.2261583249136928,0.13058067197264445,0.22325233828975805,0.24043284536845194,0.2404804648408771,0.1407625942679735,0.24213118699221783,0.1596883890997764,0.2489787020501028,0.258314122664155,0.2530453489667818,0.25641561538700847,0.25738782419098777,0.25687054752185123,0.08349745506425506,0.12203873965555477,0.2570313447684518,0.2215173254355084,0.25640094395641533,0.25747448661980776,0.19452109535474732,0.10745236609291679,0.26115867252999747,0.25171831339056944,0.21755633533860108,0.24775298127240578,0.09984467314454523,0.15870454080827973,0.24979985526569679,0.26031260509464726,0.23730216203755225,0.24838017746913532,0.25459528452784413,0.19421461310633029,0.23503902317854344,0.06453910647749937,0.2617747220071662,0.2601960292624363,0.25964641192870347,0.25981709583749335,0.263058790663452,0.25875930749019266,0.2667073894769113,0.26973685756984606,0.2692715062171388,0.26695611512670786,0.22727445935185595,0.26646646627785914,0.2576353273565389,0.2680955157291235,0.26851849611757345,0.26666032451272803,0.26162974566977376,0.27108685488123224,0.2660864708192767,0.27129235974016075,0.26850300084848233,0.27145308527349027,0.2698763331438474,0.2685480533428535,0.26858456071647,0.2631729590764075,0.2697394095808364,0.26765032679547784,0.22730731371042825,0.2515095822233475,0.2655218600906946,0.08696038385081403,0.2651627111622933,0.26954539223774704,0.2697015169715496,0.26982590443442017,0.005972113065949917,0.272147607614542,0.27217739073527913,0.2693843755508265,0.24017077921703353,0.24577764682258543,0.20131544471905774,0.0701017713155802,0.26311990303201926,0.24506801789415755,0.27373312502108754,0.27318575026644,0.26975968262018385,0.27095274859903284,0.2537540614768321,0.2737336407865632,0.26921099011471145,0.17902215852437006,0.2744543893394464,0.27509043678545714,0.2753158191736394,0.2667729289999982,0.2740320957939774,0.2655377074520251,0.27271199745284463,0.26537491803544333,0.2753214911497019,0.005972113065949917,0.2720444793270884,0.2742920910887087,0.26943851840490113,0.2556229016729896,0.26377586219385124,0.27211821882916365,0.2706584846341203,0.2643154658968802,0.26611258675355387,0.2751468833261084,0.27170612624448776,0.2733555262823487,0.06597788810483336,0.09926596914068031,0.2746037598776359,0.274661054177763,0.2733395725709268,0.27314294011755896,0.27508571539442955,0.27469056964193495,0.27546375448352656,0.27522041338403697,0.2666690318825953,0.2727451558460175,0.2681995495162941,0.236367314267053,0.17466048656773922,0.12517152665809406,0.27515769969618364,0.22975336509844752,0.27532393972685837,0.27213199258502513,0.2716401397105091,0.2706137774050363,0.2699049323619637,0.24988080332698645,0.2704168505811787,0.08474160337386709,0.27381926143168694,0.27499397663655456,0.20216971884036755,0.2745885307524775,0.2709208966709604,0.26581814132618076,0.16374548356059165,0.27154294524149136,0.2736025527156243,0.2583610901557852,0.2747097314467651,0.2719837259850468,0.272564679998845,0.2748097252485712,0.27179257303735904,0.27215387190069446,0.27366994981915127,0.1801675546864043,0.27283691723376746,0.2701039714392456,0.27364616181392887,0.27151831110808894,0.2752645258878983,0.2753211665774625,0.27384008543403043,0.2700440645176547,0.2747176195382377,0.2732823063897019,0.27054786893959876,0.2686687342675211,0.2757505849868378,0.27541399887167856,0.27464545374529936,0.273382506654308,0.27274013556010407,0.2745526393666851,0.2640147372214224,0.27293177551193704,0.26864436921757767],\"type\":\"scatter\",\"xaxis\":\"x4\",\"yaxis\":\"y4\"},{\"marker\":{\"color\":[0,1,2,3,4,5,6,7,8,9,10,11,12,13,14,15,16,17,18,19,20,21,22,23,24,25,26,27,28,29,30,31,32,33,34,35,36,37,38,39,40,41,42,43,44,45,46,47,48,49,50,51,52,53,54,55,56,57,58,59,60,61,62,63,64,65,66,67,68,69,70,71,72,73,74,75,76,77,78,79,80,81,82,83,84,85,86,87,88,89,90,91,92,93,94,95,96,97,98,99,100,101,102,103,104,105,106,107,108,109,110,111,112,113,114,115,116,117,118,119,120,121,122,123,124,125,126,127,128,129,130,131,132,133,134,135,136,137,138,139,140,141,142,143,144,145,146,147,148,149,150,151,152,153,154,155,156,157,158,159,160,161,162,163,164,165,166,167,168,169,170,171,172,173,174,175,176,177,178,179,180,181,182,183,184,185,186,187,188,189,190,191,192,193,194,195,196,197,198,199],\"colorbar\":{\"title\":{\"text\":\"Trial\"},\"x\":1.0,\"xpad\":40},\"colorscale\":[[0.0,\"rgb(247,251,255)\"],[0.125,\"rgb(222,235,247)\"],[0.25,\"rgb(198,219,239)\"],[0.375,\"rgb(158,202,225)\"],[0.5,\"rgb(107,174,214)\"],[0.625,\"rgb(66,146,198)\"],[0.75,\"rgb(33,113,181)\"],[0.875,\"rgb(8,81,156)\"],[1.0,\"rgb(8,48,107)\"]],\"line\":{\"color\":\"Grey\",\"width\":0.5},\"showscale\":false},\"mode\":\"markers\",\"name\":\"Feasible Trial\",\"showlegend\":false,\"x\":[54,530,1163,135,242,504,1202,4,288,912,670,651,732,880,999,930,1451,992,1165,1417,850,887,1054,819,1290,511,1077,789,1295,613,1052,856,828,756,739,722,552,441,412,584,291,616,574,574,410,672,695,148,339,478,608,559,698,674,710,965,768,663,804,476,481,483,486,360,363,192,170,164,173,153,71,17,210,197,205,210,79,200,85,98,81,83,104,95,25,108,107,62,290,245,112,250,48,44,43,0,43,44,44,134,77,40,134,54,8,78,125,133,85,139,77,79,4,72,72,76,170,71,239,128,125,66,0,31,44,30,159,58,117,117,175,20,59,123,70,62,150,67,97,80,87,92,67,70,64,21,101,186,59,3,227,69,96,61,155,37,56,109,1373,29,1,75,66,103,58,35,144,55,100,56,1115,70,32,110,68,139,31,92,2,63,173,65,122,78,90,98,143,85,108,30,160,72,83,91,95,134,94,22,130,81],\"y\":[0.07739749877027387,0.07858667209228613,0.06510864611853484,0.07847320693421804,0.04748853628419093,0.06630303591406465,0.05559490574123661,0.03880682904742222,0.0511740666502776,0.04990227196529182,0.17203837452657234,0.16417606308745472,0.18159872637332145,0.25157064039912846,0.2508552735885827,0.24598114807809007,0.1686420169674047,0.18140302202617758,0.233245079980302,0.15629938351752104,0.24918758047126383,0.2488223323954564,0.23782650633308317,0.2261583249136928,0.13058067197264445,0.22325233828975805,0.24043284536845194,0.2404804648408771,0.1407625942679735,0.24213118699221783,0.1596883890997764,0.2489787020501028,0.258314122664155,0.2530453489667818,0.25641561538700847,0.25738782419098777,0.25687054752185123,0.08349745506425506,0.12203873965555477,0.2570313447684518,0.2215173254355084,0.25640094395641533,0.25747448661980776,0.19452109535474732,0.10745236609291679,0.26115867252999747,0.25171831339056944,0.21755633533860108,0.24775298127240578,0.09984467314454523,0.15870454080827973,0.24979985526569679,0.26031260509464726,0.23730216203755225,0.24838017746913532,0.25459528452784413,0.19421461310633029,0.23503902317854344,0.06453910647749937,0.2617747220071662,0.2601960292624363,0.25964641192870347,0.25981709583749335,0.263058790663452,0.25875930749019266,0.2667073894769113,0.26973685756984606,0.2692715062171388,0.26695611512670786,0.22727445935185595,0.26646646627785914,0.2576353273565389,0.2680955157291235,0.26851849611757345,0.26666032451272803,0.26162974566977376,0.27108685488123224,0.2660864708192767,0.27129235974016075,0.26850300084848233,0.27145308527349027,0.2698763331438474,0.2685480533428535,0.26858456071647,0.2631729590764075,0.2697394095808364,0.26765032679547784,0.22730731371042825,0.2515095822233475,0.2655218600906946,0.08696038385081403,0.2651627111622933,0.26954539223774704,0.2697015169715496,0.26982590443442017,0.005972113065949917,0.272147607614542,0.27217739073527913,0.2693843755508265,0.24017077921703353,0.24577764682258543,0.20131544471905774,0.0701017713155802,0.26311990303201926,0.24506801789415755,0.27373312502108754,0.27318575026644,0.26975968262018385,0.27095274859903284,0.2537540614768321,0.2737336407865632,0.26921099011471145,0.17902215852437006,0.2744543893394464,0.27509043678545714,0.2753158191736394,0.2667729289999982,0.2740320957939774,0.2655377074520251,0.27271199745284463,0.26537491803544333,0.2753214911497019,0.005972113065949917,0.2720444793270884,0.2742920910887087,0.26943851840490113,0.2556229016729896,0.26377586219385124,0.27211821882916365,0.2706584846341203,0.2643154658968802,0.26611258675355387,0.2751468833261084,0.27170612624448776,0.2733555262823487,0.06597788810483336,0.09926596914068031,0.2746037598776359,0.274661054177763,0.2733395725709268,0.27314294011755896,0.27508571539442955,0.27469056964193495,0.27546375448352656,0.27522041338403697,0.2666690318825953,0.2727451558460175,0.2681995495162941,0.236367314267053,0.17466048656773922,0.12517152665809406,0.27515769969618364,0.22975336509844752,0.27532393972685837,0.27213199258502513,0.2716401397105091,0.2706137774050363,0.2699049323619637,0.24988080332698645,0.2704168505811787,0.08474160337386709,0.27381926143168694,0.27499397663655456,0.20216971884036755,0.2745885307524775,0.2709208966709604,0.26581814132618076,0.16374548356059165,0.27154294524149136,0.2736025527156243,0.2583610901557852,0.2747097314467651,0.2719837259850468,0.272564679998845,0.2748097252485712,0.27179257303735904,0.27215387190069446,0.27366994981915127,0.1801675546864043,0.27283691723376746,0.2701039714392456,0.27364616181392887,0.27151831110808894,0.2752645258878983,0.2753211665774625,0.27384008543403043,0.2700440645176547,0.2747176195382377,0.2732823063897019,0.27054786893959876,0.2686687342675211,0.2757505849868378,0.27541399887167856,0.27464545374529936,0.273382506654308,0.27274013556010407,0.2745526393666851,0.2640147372214224,0.27293177551193704,0.26864436921757767],\"type\":\"scatter\",\"xaxis\":\"x5\",\"yaxis\":\"y5\"}],                        {\"template\":{\"data\":{\"histogram2dcontour\":[{\"type\":\"histogram2dcontour\",\"colorbar\":{\"outlinewidth\":0,\"ticks\":\"\"},\"colorscale\":[[0.0,\"#0d0887\"],[0.1111111111111111,\"#46039f\"],[0.2222222222222222,\"#7201a8\"],[0.3333333333333333,\"#9c179e\"],[0.4444444444444444,\"#bd3786\"],[0.5555555555555556,\"#d8576b\"],[0.6666666666666666,\"#ed7953\"],[0.7777777777777778,\"#fb9f3a\"],[0.8888888888888888,\"#fdca26\"],[1.0,\"#f0f921\"]]}],\"choropleth\":[{\"type\":\"choropleth\",\"colorbar\":{\"outlinewidth\":0,\"ticks\":\"\"}}],\"histogram2d\":[{\"type\":\"histogram2d\",\"colorbar\":{\"outlinewidth\":0,\"ticks\":\"\"},\"colorscale\":[[0.0,\"#0d0887\"],[0.1111111111111111,\"#46039f\"],[0.2222222222222222,\"#7201a8\"],[0.3333333333333333,\"#9c179e\"],[0.4444444444444444,\"#bd3786\"],[0.5555555555555556,\"#d8576b\"],[0.6666666666666666,\"#ed7953\"],[0.7777777777777778,\"#fb9f3a\"],[0.8888888888888888,\"#fdca26\"],[1.0,\"#f0f921\"]]}],\"heatmap\":[{\"type\":\"heatmap\",\"colorbar\":{\"outlinewidth\":0,\"ticks\":\"\"},\"colorscale\":[[0.0,\"#0d0887\"],[0.1111111111111111,\"#46039f\"],[0.2222222222222222,\"#7201a8\"],[0.3333333333333333,\"#9c179e\"],[0.4444444444444444,\"#bd3786\"],[0.5555555555555556,\"#d8576b\"],[0.6666666666666666,\"#ed7953\"],[0.7777777777777778,\"#fb9f3a\"],[0.8888888888888888,\"#fdca26\"],[1.0,\"#f0f921\"]]}],\"heatmapgl\":[{\"type\":\"heatmapgl\",\"colorbar\":{\"outlinewidth\":0,\"ticks\":\"\"},\"colorscale\":[[0.0,\"#0d0887\"],[0.1111111111111111,\"#46039f\"],[0.2222222222222222,\"#7201a8\"],[0.3333333333333333,\"#9c179e\"],[0.4444444444444444,\"#bd3786\"],[0.5555555555555556,\"#d8576b\"],[0.6666666666666666,\"#ed7953\"],[0.7777777777777778,\"#fb9f3a\"],[0.8888888888888888,\"#fdca26\"],[1.0,\"#f0f921\"]]}],\"contourcarpet\":[{\"type\":\"contourcarpet\",\"colorbar\":{\"outlinewidth\":0,\"ticks\":\"\"}}],\"contour\":[{\"type\":\"contour\",\"colorbar\":{\"outlinewidth\":0,\"ticks\":\"\"},\"colorscale\":[[0.0,\"#0d0887\"],[0.1111111111111111,\"#46039f\"],[0.2222222222222222,\"#7201a8\"],[0.3333333333333333,\"#9c179e\"],[0.4444444444444444,\"#bd3786\"],[0.5555555555555556,\"#d8576b\"],[0.6666666666666666,\"#ed7953\"],[0.7777777777777778,\"#fb9f3a\"],[0.8888888888888888,\"#fdca26\"],[1.0,\"#f0f921\"]]}],\"surface\":[{\"type\":\"surface\",\"colorbar\":{\"outlinewidth\":0,\"ticks\":\"\"},\"colorscale\":[[0.0,\"#0d0887\"],[0.1111111111111111,\"#46039f\"],[0.2222222222222222,\"#7201a8\"],[0.3333333333333333,\"#9c179e\"],[0.4444444444444444,\"#bd3786\"],[0.5555555555555556,\"#d8576b\"],[0.6666666666666666,\"#ed7953\"],[0.7777777777777778,\"#fb9f3a\"],[0.8888888888888888,\"#fdca26\"],[1.0,\"#f0f921\"]]}],\"mesh3d\":[{\"type\":\"mesh3d\",\"colorbar\":{\"outlinewidth\":0,\"ticks\":\"\"}}],\"scatter\":[{\"fillpattern\":{\"fillmode\":\"overlay\",\"size\":10,\"solidity\":0.2},\"type\":\"scatter\"}],\"parcoords\":[{\"type\":\"parcoords\",\"line\":{\"colorbar\":{\"outlinewidth\":0,\"ticks\":\"\"}}}],\"scatterpolargl\":[{\"type\":\"scatterpolargl\",\"marker\":{\"colorbar\":{\"outlinewidth\":0,\"ticks\":\"\"}}}],\"bar\":[{\"error_x\":{\"color\":\"#2a3f5f\"},\"error_y\":{\"color\":\"#2a3f5f\"},\"marker\":{\"line\":{\"color\":\"#E5ECF6\",\"width\":0.5},\"pattern\":{\"fillmode\":\"overlay\",\"size\":10,\"solidity\":0.2}},\"type\":\"bar\"}],\"scattergeo\":[{\"type\":\"scattergeo\",\"marker\":{\"colorbar\":{\"outlinewidth\":0,\"ticks\":\"\"}}}],\"scatterpolar\":[{\"type\":\"scatterpolar\",\"marker\":{\"colorbar\":{\"outlinewidth\":0,\"ticks\":\"\"}}}],\"histogram\":[{\"marker\":{\"pattern\":{\"fillmode\":\"overlay\",\"size\":10,\"solidity\":0.2}},\"type\":\"histogram\"}],\"scattergl\":[{\"type\":\"scattergl\",\"marker\":{\"colorbar\":{\"outlinewidth\":0,\"ticks\":\"\"}}}],\"scatter3d\":[{\"type\":\"scatter3d\",\"line\":{\"colorbar\":{\"outlinewidth\":0,\"ticks\":\"\"}},\"marker\":{\"colorbar\":{\"outlinewidth\":0,\"ticks\":\"\"}}}],\"scattermapbox\":[{\"type\":\"scattermapbox\",\"marker\":{\"colorbar\":{\"outlinewidth\":0,\"ticks\":\"\"}}}],\"scatterternary\":[{\"type\":\"scatterternary\",\"marker\":{\"colorbar\":{\"outlinewidth\":0,\"ticks\":\"\"}}}],\"scattercarpet\":[{\"type\":\"scattercarpet\",\"marker\":{\"colorbar\":{\"outlinewidth\":0,\"ticks\":\"\"}}}],\"carpet\":[{\"aaxis\":{\"endlinecolor\":\"#2a3f5f\",\"gridcolor\":\"white\",\"linecolor\":\"white\",\"minorgridcolor\":\"white\",\"startlinecolor\":\"#2a3f5f\"},\"baxis\":{\"endlinecolor\":\"#2a3f5f\",\"gridcolor\":\"white\",\"linecolor\":\"white\",\"minorgridcolor\":\"white\",\"startlinecolor\":\"#2a3f5f\"},\"type\":\"carpet\"}],\"table\":[{\"cells\":{\"fill\":{\"color\":\"#EBF0F8\"},\"line\":{\"color\":\"white\"}},\"header\":{\"fill\":{\"color\":\"#C8D4E3\"},\"line\":{\"color\":\"white\"}},\"type\":\"table\"}],\"barpolar\":[{\"marker\":{\"line\":{\"color\":\"#E5ECF6\",\"width\":0.5},\"pattern\":{\"fillmode\":\"overlay\",\"size\":10,\"solidity\":0.2}},\"type\":\"barpolar\"}],\"pie\":[{\"automargin\":true,\"type\":\"pie\"}]},\"layout\":{\"autotypenumbers\":\"strict\",\"colorway\":[\"#636efa\",\"#EF553B\",\"#00cc96\",\"#ab63fa\",\"#FFA15A\",\"#19d3f3\",\"#FF6692\",\"#B6E880\",\"#FF97FF\",\"#FECB52\"],\"font\":{\"color\":\"#2a3f5f\"},\"hovermode\":\"closest\",\"hoverlabel\":{\"align\":\"left\"},\"paper_bgcolor\":\"white\",\"plot_bgcolor\":\"#E5ECF6\",\"polar\":{\"bgcolor\":\"#E5ECF6\",\"angularaxis\":{\"gridcolor\":\"white\",\"linecolor\":\"white\",\"ticks\":\"\"},\"radialaxis\":{\"gridcolor\":\"white\",\"linecolor\":\"white\",\"ticks\":\"\"}},\"ternary\":{\"bgcolor\":\"#E5ECF6\",\"aaxis\":{\"gridcolor\":\"white\",\"linecolor\":\"white\",\"ticks\":\"\"},\"baxis\":{\"gridcolor\":\"white\",\"linecolor\":\"white\",\"ticks\":\"\"},\"caxis\":{\"gridcolor\":\"white\",\"linecolor\":\"white\",\"ticks\":\"\"}},\"coloraxis\":{\"colorbar\":{\"outlinewidth\":0,\"ticks\":\"\"}},\"colorscale\":{\"sequential\":[[0.0,\"#0d0887\"],[0.1111111111111111,\"#46039f\"],[0.2222222222222222,\"#7201a8\"],[0.3333333333333333,\"#9c179e\"],[0.4444444444444444,\"#bd3786\"],[0.5555555555555556,\"#d8576b\"],[0.6666666666666666,\"#ed7953\"],[0.7777777777777778,\"#fb9f3a\"],[0.8888888888888888,\"#fdca26\"],[1.0,\"#f0f921\"]],\"sequentialminus\":[[0.0,\"#0d0887\"],[0.1111111111111111,\"#46039f\"],[0.2222222222222222,\"#7201a8\"],[0.3333333333333333,\"#9c179e\"],[0.4444444444444444,\"#bd3786\"],[0.5555555555555556,\"#d8576b\"],[0.6666666666666666,\"#ed7953\"],[0.7777777777777778,\"#fb9f3a\"],[0.8888888888888888,\"#fdca26\"],[1.0,\"#f0f921\"]],\"diverging\":[[0,\"#8e0152\"],[0.1,\"#c51b7d\"],[0.2,\"#de77ae\"],[0.3,\"#f1b6da\"],[0.4,\"#fde0ef\"],[0.5,\"#f7f7f7\"],[0.6,\"#e6f5d0\"],[0.7,\"#b8e186\"],[0.8,\"#7fbc41\"],[0.9,\"#4d9221\"],[1,\"#276419\"]]},\"xaxis\":{\"gridcolor\":\"white\",\"linecolor\":\"white\",\"ticks\":\"\",\"title\":{\"standoff\":15},\"zerolinecolor\":\"white\",\"automargin\":true,\"zerolinewidth\":2},\"yaxis\":{\"gridcolor\":\"white\",\"linecolor\":\"white\",\"ticks\":\"\",\"title\":{\"standoff\":15},\"zerolinecolor\":\"white\",\"automargin\":true,\"zerolinewidth\":2},\"scene\":{\"xaxis\":{\"backgroundcolor\":\"#E5ECF6\",\"gridcolor\":\"white\",\"linecolor\":\"white\",\"showbackground\":true,\"ticks\":\"\",\"zerolinecolor\":\"white\",\"gridwidth\":2},\"yaxis\":{\"backgroundcolor\":\"#E5ECF6\",\"gridcolor\":\"white\",\"linecolor\":\"white\",\"showbackground\":true,\"ticks\":\"\",\"zerolinecolor\":\"white\",\"gridwidth\":2},\"zaxis\":{\"backgroundcolor\":\"#E5ECF6\",\"gridcolor\":\"white\",\"linecolor\":\"white\",\"showbackground\":true,\"ticks\":\"\",\"zerolinecolor\":\"white\",\"gridwidth\":2}},\"shapedefaults\":{\"line\":{\"color\":\"#2a3f5f\"}},\"annotationdefaults\":{\"arrowcolor\":\"#2a3f5f\",\"arrowhead\":0,\"arrowwidth\":1},\"geo\":{\"bgcolor\":\"white\",\"landcolor\":\"#E5ECF6\",\"subunitcolor\":\"white\",\"showland\":true,\"showlakes\":true,\"lakecolor\":\"white\"},\"title\":{\"x\":0.05},\"mapbox\":{\"style\":\"light\"}}},\"xaxis\":{\"anchor\":\"y\",\"domain\":[0.0,0.16799999999999998],\"title\":{\"text\":\"alpha\"}},\"yaxis\":{\"anchor\":\"x\",\"domain\":[0.0,1.0],\"title\":{\"text\":\"Objective Value\"}},\"xaxis2\":{\"anchor\":\"y2\",\"domain\":[0.208,0.376],\"title\":{\"text\":\"beta\"}},\"yaxis2\":{\"anchor\":\"x2\",\"domain\":[0.0,1.0],\"matches\":\"y\",\"showticklabels\":false},\"xaxis3\":{\"anchor\":\"y3\",\"domain\":[0.416,0.584],\"title\":{\"text\":\"implicit\"},\"type\":\"category\",\"categoryorder\":\"array\",\"categoryarray\":[true,false]},\"yaxis3\":{\"anchor\":\"x3\",\"domain\":[0.0,1.0],\"matches\":\"y\",\"showticklabels\":false},\"xaxis4\":{\"anchor\":\"y4\",\"domain\":[0.624,0.792],\"title\":{\"text\":\"normalize_similarity\"},\"type\":\"category\",\"categoryorder\":\"array\",\"categoryarray\":[true,false]},\"yaxis4\":{\"anchor\":\"x4\",\"domain\":[0.0,1.0],\"matches\":\"y\",\"showticklabels\":false},\"xaxis5\":{\"anchor\":\"y5\",\"domain\":[0.832,1.0],\"title\":{\"text\":\"topK\"}},\"yaxis5\":{\"anchor\":\"x5\",\"domain\":[0.0,1.0],\"matches\":\"y\",\"showticklabels\":false},\"title\":{\"text\":\"Slice Plot\"},\"width\":1500},                        {\"responsive\": true}                    ).then(function(){\n",
       "                            \n",
       "var gd = document.getElementById('83d8ad2d-9c22-4363-999a-f8b4f1434c12');\n",
       "var x = new MutationObserver(function (mutations, observer) {{\n",
       "        var display = window.getComputedStyle(gd).display;\n",
       "        if (!display || display === 'none') {{\n",
       "            console.log([gd, 'removed!']);\n",
       "            Plotly.purge(gd);\n",
       "            observer.disconnect();\n",
       "        }}\n",
       "}});\n",
       "\n",
       "// Listen for the removal of the full notebook cells\n",
       "var notebookContainer = gd.closest('#notebook-container');\n",
       "if (notebookContainer) {{\n",
       "    x.observe(notebookContainer, {childList: true});\n",
       "}}\n",
       "\n",
       "// Listen for the clearing of the current output cell\n",
       "var outputEl = gd.closest('.output');\n",
       "if (outputEl) {{\n",
       "    x.observe(outputEl, {childList: true});\n",
       "}}\n",
       "\n",
       "                        })                };                });            </script>        </div>"
      ]
     },
     "metadata": {},
     "output_type": "display_data"
    }
   ],
   "source": [
    "if not config['tune_parameters']:\n",
    "    optuna_study = optuna.load_study(study_name=f'hyperparameters_tuning_{config[\"model\"]}_{config[\"metric\"]}', storage=f'sqlite:///{config[\"database_path\"]}')\n",
    "    \n",
    "fig = optuna.visualization.plot_slice(optuna_study)\n",
    "fig.show()"
   ]
  },
  {
   "cell_type": "code",
   "execution_count": 15,
   "id": "9385cce3",
   "metadata": {
    "execution": {
     "iopub.execute_input": "2024-12-16T06:04:02.308017Z",
     "iopub.status.busy": "2024-12-16T06:04:02.307604Z",
     "iopub.status.idle": "2024-12-16T06:04:05.461121Z",
     "shell.execute_reply": "2024-12-16T06:04:05.460016Z"
    },
    "papermill": {
     "duration": 3.20419,
     "end_time": "2024-12-16T06:04:05.463568",
     "exception": false,
     "start_time": "2024-12-16T06:04:02.259378",
     "status": "completed"
    },
    "tags": []
   },
   "outputs": [
    {
     "data": {
      "text/html": [
       "<div>                            <div id=\"b074afca-52d6-4ec6-a724-03d7a69a910c\" class=\"plotly-graph-div\" style=\"height:525px; width:100%;\"></div>            <script type=\"text/javascript\">                require([\"plotly\"], function(Plotly) {                    window.PLOTLYENV=window.PLOTLYENV || {};                                    if (document.getElementById(\"b074afca-52d6-4ec6-a724-03d7a69a910c\")) {                    Plotly.newPlot(                        \"b074afca-52d6-4ec6-a724-03d7a69a910c\",                        [{\"cliponaxis\":false,\"hovertemplate\":[\"implicit (CategoricalDistribution): 0.0008532816402636452\\u003cextra\\u003e\\u003c\\u002fextra\\u003e\",\"normalize_similarity (CategoricalDistribution): 0.0026800717728877764\\u003cextra\\u003e\\u003c\\u002fextra\\u003e\",\"topK (IntDistribution): 0.002736686764680291\\u003cextra\\u003e\\u003c\\u002fextra\\u003e\",\"alpha (FloatDistribution): 0.017190176149941023\\u003cextra\\u003e\\u003c\\u002fextra\\u003e\",\"beta (FloatDistribution): 0.9765397836722272\\u003cextra\\u003e\\u003c\\u002fextra\\u003e\"],\"name\":\"Objective Value\",\"orientation\":\"h\",\"text\":[\"\\u003c0.01\",\"\\u003c0.01\",\"\\u003c0.01\",\"0.02\",\"0.98\"],\"textposition\":\"outside\",\"x\":[0.0008532816402636452,0.0026800717728877764,0.002736686764680291,0.017190176149941023,0.9765397836722272],\"y\":[\"implicit\",\"normalize_similarity\",\"topK\",\"alpha\",\"beta\"],\"type\":\"bar\"}],                        {\"title\":{\"text\":\"Hyperparameter Importances\"},\"xaxis\":{\"title\":{\"text\":\"Hyperparameter Importance\"}},\"yaxis\":{\"title\":{\"text\":\"Hyperparameter\"}},\"template\":{\"data\":{\"histogram2dcontour\":[{\"type\":\"histogram2dcontour\",\"colorbar\":{\"outlinewidth\":0,\"ticks\":\"\"},\"colorscale\":[[0.0,\"#0d0887\"],[0.1111111111111111,\"#46039f\"],[0.2222222222222222,\"#7201a8\"],[0.3333333333333333,\"#9c179e\"],[0.4444444444444444,\"#bd3786\"],[0.5555555555555556,\"#d8576b\"],[0.6666666666666666,\"#ed7953\"],[0.7777777777777778,\"#fb9f3a\"],[0.8888888888888888,\"#fdca26\"],[1.0,\"#f0f921\"]]}],\"choropleth\":[{\"type\":\"choropleth\",\"colorbar\":{\"outlinewidth\":0,\"ticks\":\"\"}}],\"histogram2d\":[{\"type\":\"histogram2d\",\"colorbar\":{\"outlinewidth\":0,\"ticks\":\"\"},\"colorscale\":[[0.0,\"#0d0887\"],[0.1111111111111111,\"#46039f\"],[0.2222222222222222,\"#7201a8\"],[0.3333333333333333,\"#9c179e\"],[0.4444444444444444,\"#bd3786\"],[0.5555555555555556,\"#d8576b\"],[0.6666666666666666,\"#ed7953\"],[0.7777777777777778,\"#fb9f3a\"],[0.8888888888888888,\"#fdca26\"],[1.0,\"#f0f921\"]]}],\"heatmap\":[{\"type\":\"heatmap\",\"colorbar\":{\"outlinewidth\":0,\"ticks\":\"\"},\"colorscale\":[[0.0,\"#0d0887\"],[0.1111111111111111,\"#46039f\"],[0.2222222222222222,\"#7201a8\"],[0.3333333333333333,\"#9c179e\"],[0.4444444444444444,\"#bd3786\"],[0.5555555555555556,\"#d8576b\"],[0.6666666666666666,\"#ed7953\"],[0.7777777777777778,\"#fb9f3a\"],[0.8888888888888888,\"#fdca26\"],[1.0,\"#f0f921\"]]}],\"heatmapgl\":[{\"type\":\"heatmapgl\",\"colorbar\":{\"outlinewidth\":0,\"ticks\":\"\"},\"colorscale\":[[0.0,\"#0d0887\"],[0.1111111111111111,\"#46039f\"],[0.2222222222222222,\"#7201a8\"],[0.3333333333333333,\"#9c179e\"],[0.4444444444444444,\"#bd3786\"],[0.5555555555555556,\"#d8576b\"],[0.6666666666666666,\"#ed7953\"],[0.7777777777777778,\"#fb9f3a\"],[0.8888888888888888,\"#fdca26\"],[1.0,\"#f0f921\"]]}],\"contourcarpet\":[{\"type\":\"contourcarpet\",\"colorbar\":{\"outlinewidth\":0,\"ticks\":\"\"}}],\"contour\":[{\"type\":\"contour\",\"colorbar\":{\"outlinewidth\":0,\"ticks\":\"\"},\"colorscale\":[[0.0,\"#0d0887\"],[0.1111111111111111,\"#46039f\"],[0.2222222222222222,\"#7201a8\"],[0.3333333333333333,\"#9c179e\"],[0.4444444444444444,\"#bd3786\"],[0.5555555555555556,\"#d8576b\"],[0.6666666666666666,\"#ed7953\"],[0.7777777777777778,\"#fb9f3a\"],[0.8888888888888888,\"#fdca26\"],[1.0,\"#f0f921\"]]}],\"surface\":[{\"type\":\"surface\",\"colorbar\":{\"outlinewidth\":0,\"ticks\":\"\"},\"colorscale\":[[0.0,\"#0d0887\"],[0.1111111111111111,\"#46039f\"],[0.2222222222222222,\"#7201a8\"],[0.3333333333333333,\"#9c179e\"],[0.4444444444444444,\"#bd3786\"],[0.5555555555555556,\"#d8576b\"],[0.6666666666666666,\"#ed7953\"],[0.7777777777777778,\"#fb9f3a\"],[0.8888888888888888,\"#fdca26\"],[1.0,\"#f0f921\"]]}],\"mesh3d\":[{\"type\":\"mesh3d\",\"colorbar\":{\"outlinewidth\":0,\"ticks\":\"\"}}],\"scatter\":[{\"fillpattern\":{\"fillmode\":\"overlay\",\"size\":10,\"solidity\":0.2},\"type\":\"scatter\"}],\"parcoords\":[{\"type\":\"parcoords\",\"line\":{\"colorbar\":{\"outlinewidth\":0,\"ticks\":\"\"}}}],\"scatterpolargl\":[{\"type\":\"scatterpolargl\",\"marker\":{\"colorbar\":{\"outlinewidth\":0,\"ticks\":\"\"}}}],\"bar\":[{\"error_x\":{\"color\":\"#2a3f5f\"},\"error_y\":{\"color\":\"#2a3f5f\"},\"marker\":{\"line\":{\"color\":\"#E5ECF6\",\"width\":0.5},\"pattern\":{\"fillmode\":\"overlay\",\"size\":10,\"solidity\":0.2}},\"type\":\"bar\"}],\"scattergeo\":[{\"type\":\"scattergeo\",\"marker\":{\"colorbar\":{\"outlinewidth\":0,\"ticks\":\"\"}}}],\"scatterpolar\":[{\"type\":\"scatterpolar\",\"marker\":{\"colorbar\":{\"outlinewidth\":0,\"ticks\":\"\"}}}],\"histogram\":[{\"marker\":{\"pattern\":{\"fillmode\":\"overlay\",\"size\":10,\"solidity\":0.2}},\"type\":\"histogram\"}],\"scattergl\":[{\"type\":\"scattergl\",\"marker\":{\"colorbar\":{\"outlinewidth\":0,\"ticks\":\"\"}}}],\"scatter3d\":[{\"type\":\"scatter3d\",\"line\":{\"colorbar\":{\"outlinewidth\":0,\"ticks\":\"\"}},\"marker\":{\"colorbar\":{\"outlinewidth\":0,\"ticks\":\"\"}}}],\"scattermapbox\":[{\"type\":\"scattermapbox\",\"marker\":{\"colorbar\":{\"outlinewidth\":0,\"ticks\":\"\"}}}],\"scatterternary\":[{\"type\":\"scatterternary\",\"marker\":{\"colorbar\":{\"outlinewidth\":0,\"ticks\":\"\"}}}],\"scattercarpet\":[{\"type\":\"scattercarpet\",\"marker\":{\"colorbar\":{\"outlinewidth\":0,\"ticks\":\"\"}}}],\"carpet\":[{\"aaxis\":{\"endlinecolor\":\"#2a3f5f\",\"gridcolor\":\"white\",\"linecolor\":\"white\",\"minorgridcolor\":\"white\",\"startlinecolor\":\"#2a3f5f\"},\"baxis\":{\"endlinecolor\":\"#2a3f5f\",\"gridcolor\":\"white\",\"linecolor\":\"white\",\"minorgridcolor\":\"white\",\"startlinecolor\":\"#2a3f5f\"},\"type\":\"carpet\"}],\"table\":[{\"cells\":{\"fill\":{\"color\":\"#EBF0F8\"},\"line\":{\"color\":\"white\"}},\"header\":{\"fill\":{\"color\":\"#C8D4E3\"},\"line\":{\"color\":\"white\"}},\"type\":\"table\"}],\"barpolar\":[{\"marker\":{\"line\":{\"color\":\"#E5ECF6\",\"width\":0.5},\"pattern\":{\"fillmode\":\"overlay\",\"size\":10,\"solidity\":0.2}},\"type\":\"barpolar\"}],\"pie\":[{\"automargin\":true,\"type\":\"pie\"}]},\"layout\":{\"autotypenumbers\":\"strict\",\"colorway\":[\"#636efa\",\"#EF553B\",\"#00cc96\",\"#ab63fa\",\"#FFA15A\",\"#19d3f3\",\"#FF6692\",\"#B6E880\",\"#FF97FF\",\"#FECB52\"],\"font\":{\"color\":\"#2a3f5f\"},\"hovermode\":\"closest\",\"hoverlabel\":{\"align\":\"left\"},\"paper_bgcolor\":\"white\",\"plot_bgcolor\":\"#E5ECF6\",\"polar\":{\"bgcolor\":\"#E5ECF6\",\"angularaxis\":{\"gridcolor\":\"white\",\"linecolor\":\"white\",\"ticks\":\"\"},\"radialaxis\":{\"gridcolor\":\"white\",\"linecolor\":\"white\",\"ticks\":\"\"}},\"ternary\":{\"bgcolor\":\"#E5ECF6\",\"aaxis\":{\"gridcolor\":\"white\",\"linecolor\":\"white\",\"ticks\":\"\"},\"baxis\":{\"gridcolor\":\"white\",\"linecolor\":\"white\",\"ticks\":\"\"},\"caxis\":{\"gridcolor\":\"white\",\"linecolor\":\"white\",\"ticks\":\"\"}},\"coloraxis\":{\"colorbar\":{\"outlinewidth\":0,\"ticks\":\"\"}},\"colorscale\":{\"sequential\":[[0.0,\"#0d0887\"],[0.1111111111111111,\"#46039f\"],[0.2222222222222222,\"#7201a8\"],[0.3333333333333333,\"#9c179e\"],[0.4444444444444444,\"#bd3786\"],[0.5555555555555556,\"#d8576b\"],[0.6666666666666666,\"#ed7953\"],[0.7777777777777778,\"#fb9f3a\"],[0.8888888888888888,\"#fdca26\"],[1.0,\"#f0f921\"]],\"sequentialminus\":[[0.0,\"#0d0887\"],[0.1111111111111111,\"#46039f\"],[0.2222222222222222,\"#7201a8\"],[0.3333333333333333,\"#9c179e\"],[0.4444444444444444,\"#bd3786\"],[0.5555555555555556,\"#d8576b\"],[0.6666666666666666,\"#ed7953\"],[0.7777777777777778,\"#fb9f3a\"],[0.8888888888888888,\"#fdca26\"],[1.0,\"#f0f921\"]],\"diverging\":[[0,\"#8e0152\"],[0.1,\"#c51b7d\"],[0.2,\"#de77ae\"],[0.3,\"#f1b6da\"],[0.4,\"#fde0ef\"],[0.5,\"#f7f7f7\"],[0.6,\"#e6f5d0\"],[0.7,\"#b8e186\"],[0.8,\"#7fbc41\"],[0.9,\"#4d9221\"],[1,\"#276419\"]]},\"xaxis\":{\"gridcolor\":\"white\",\"linecolor\":\"white\",\"ticks\":\"\",\"title\":{\"standoff\":15},\"zerolinecolor\":\"white\",\"automargin\":true,\"zerolinewidth\":2},\"yaxis\":{\"gridcolor\":\"white\",\"linecolor\":\"white\",\"ticks\":\"\",\"title\":{\"standoff\":15},\"zerolinecolor\":\"white\",\"automargin\":true,\"zerolinewidth\":2},\"scene\":{\"xaxis\":{\"backgroundcolor\":\"#E5ECF6\",\"gridcolor\":\"white\",\"linecolor\":\"white\",\"showbackground\":true,\"ticks\":\"\",\"zerolinecolor\":\"white\",\"gridwidth\":2},\"yaxis\":{\"backgroundcolor\":\"#E5ECF6\",\"gridcolor\":\"white\",\"linecolor\":\"white\",\"showbackground\":true,\"ticks\":\"\",\"zerolinecolor\":\"white\",\"gridwidth\":2},\"zaxis\":{\"backgroundcolor\":\"#E5ECF6\",\"gridcolor\":\"white\",\"linecolor\":\"white\",\"showbackground\":true,\"ticks\":\"\",\"zerolinecolor\":\"white\",\"gridwidth\":2}},\"shapedefaults\":{\"line\":{\"color\":\"#2a3f5f\"}},\"annotationdefaults\":{\"arrowcolor\":\"#2a3f5f\",\"arrowhead\":0,\"arrowwidth\":1},\"geo\":{\"bgcolor\":\"white\",\"landcolor\":\"#E5ECF6\",\"subunitcolor\":\"white\",\"showland\":true,\"showlakes\":true,\"lakecolor\":\"white\"},\"title\":{\"x\":0.05},\"mapbox\":{\"style\":\"light\"}}}},                        {\"responsive\": true}                    ).then(function(){\n",
       "                            \n",
       "var gd = document.getElementById('b074afca-52d6-4ec6-a724-03d7a69a910c');\n",
       "var x = new MutationObserver(function (mutations, observer) {{\n",
       "        var display = window.getComputedStyle(gd).display;\n",
       "        if (!display || display === 'none') {{\n",
       "            console.log([gd, 'removed!']);\n",
       "            Plotly.purge(gd);\n",
       "            observer.disconnect();\n",
       "        }}\n",
       "}});\n",
       "\n",
       "// Listen for the removal of the full notebook cells\n",
       "var notebookContainer = gd.closest('#notebook-container');\n",
       "if (notebookContainer) {{\n",
       "    x.observe(notebookContainer, {childList: true});\n",
       "}}\n",
       "\n",
       "// Listen for the clearing of the current output cell\n",
       "var outputEl = gd.closest('.output');\n",
       "if (outputEl) {{\n",
       "    x.observe(outputEl, {childList: true});\n",
       "}}\n",
       "\n",
       "                        })                };                });            </script>        </div>"
      ]
     },
     "metadata": {},
     "output_type": "display_data"
    }
   ],
   "source": [
    "if not config['tune_parameters']:\n",
    "    optuna_study = optuna.load_study(study_name=f'hyperparameters_tuning_{config[\"model\"]}_{config[\"metric\"]}', storage=f'sqlite:///{config[\"database_path\"]}')\n",
    "    \n",
    "fig = optuna.visualization.plot_param_importances(optuna_study)\n",
    "fig.show()"
   ]
  },
  {
   "cell_type": "markdown",
   "id": "9d2f5c9a",
   "metadata": {
    "papermill": {
     "duration": 0.048815,
     "end_time": "2024-12-16T06:04:05.560280",
     "exception": false,
     "start_time": "2024-12-16T06:04:05.511465",
     "status": "completed"
    },
    "tags": []
   },
   "source": [
    "## Let's train the recommender with best parameter values"
   ]
  },
  {
   "cell_type": "code",
   "execution_count": 16,
   "id": "3e5d35c1",
   "metadata": {
    "execution": {
     "iopub.execute_input": "2024-12-16T06:04:05.664202Z",
     "iopub.status.busy": "2024-12-16T06:04:05.663647Z",
     "iopub.status.idle": "2024-12-16T06:04:32.313556Z",
     "shell.execute_reply": "2024-12-16T06:04:32.312527Z"
    },
    "papermill": {
     "duration": 26.709832,
     "end_time": "2024-12-16T06:04:32.316086",
     "exception": false,
     "start_time": "2024-12-16T06:04:05.606254",
     "status": "completed"
    },
    "tags": []
   },
   "outputs": [
    {
     "name": "stdout",
     "output_type": "stream",
     "text": [
      "RP3betaRecommender: Similarity column 38121 (100.0%), 1626.22 column/sec. Elapsed time 23.44 sec\n"
     ]
    }
   ],
   "source": [
    "if config['tune_best_params']:\n",
    "\n",
    "    if config['tune_parameters']:\n",
    "        best_params = optuna_study.best_trial.params\n",
    "    else: \n",
    "        with open(f'{K_PATH}/{GH_PATH}/{config[\"model\"]}Recommender/Optimizing{config[\"metric\"]}/best_params_{config[\"model\"]}_{config[\"metric\"]}.json', 'r') as best_params_json:\n",
    "            best_params = json.load(best_params_json)\n",
    "\n",
    "    recommender_instance = RP3betaRecommender(URM_train + URM_validation)\n",
    "    recommender_instance.fit(**best_params)"
   ]
  },
  {
   "cell_type": "markdown",
   "id": "a05ca0d4",
   "metadata": {
    "papermill": {
     "duration": 0.046566,
     "end_time": "2024-12-16T06:04:32.408949",
     "exception": false,
     "start_time": "2024-12-16T06:04:32.362383",
     "status": "completed"
    },
    "tags": []
   },
   "source": [
    "# Testing"
   ]
  },
  {
   "cell_type": "markdown",
   "id": "5f03a79a",
   "metadata": {
    "papermill": {
     "duration": 0.047285,
     "end_time": "2024-12-16T06:04:32.504782",
     "exception": false,
     "start_time": "2024-12-16T06:04:32.457497",
     "status": "completed"
    },
    "tags": []
   },
   "source": [
    "Create the recommendations for the submission. "
   ]
  },
  {
   "cell_type": "code",
   "execution_count": 17,
   "id": "48bb0215",
   "metadata": {
    "execution": {
     "iopub.execute_input": "2024-12-16T06:04:32.602149Z",
     "iopub.status.busy": "2024-12-16T06:04:32.601719Z",
     "iopub.status.idle": "2024-12-16T06:05:01.315495Z",
     "shell.execute_reply": "2024-12-16T06:05:01.314292Z"
    },
    "papermill": {
     "duration": 28.765642,
     "end_time": "2024-12-16T06:05:01.317765",
     "exception": false,
     "start_time": "2024-12-16T06:04:32.552123",
     "status": "completed"
    },
    "tags": []
   },
   "outputs": [
    {
     "name": "stdout",
     "output_type": "stream",
     "text": [
      "Submission file saved as /kaggle/working/submission_RP3beta_Recall.csv\n"
     ]
    }
   ],
   "source": [
    "if config['tune_best_params']:\n",
    "\n",
    "    data_target_users_test = pd.read_csv('/kaggle/input/recommender-system-2024-challenge-polimi/data_target_users_test.csv')\n",
    "    create_submission(data_target_users_test, recommender_instance, f'/kaggle/working/submission_{config[\"model\"]}_{config[\"metric\"]}.csv')"
   ]
  },
  {
   "cell_type": "markdown",
   "id": "0f9f85bd",
   "metadata": {
    "execution": {
     "iopub.execute_input": "2024-11-14T00:04:16.877791Z",
     "iopub.status.busy": "2024-11-14T00:04:16.877275Z",
     "iopub.status.idle": "2024-11-14T00:04:16.883170Z",
     "shell.execute_reply": "2024-11-14T00:04:16.881889Z",
     "shell.execute_reply.started": "2024-11-14T00:04:16.877743Z"
    },
    "papermill": {
     "duration": 0.314231,
     "end_time": "2024-12-16T06:05:01.678460",
     "exception": false,
     "start_time": "2024-12-16T06:05:01.364229",
     "status": "completed"
    },
    "tags": []
   },
   "source": [
    "# Save Version on GitHub "
   ]
  },
  {
   "cell_type": "markdown",
   "id": "46ef6fc4",
   "metadata": {
    "papermill": {
     "duration": 0.04601,
     "end_time": "2024-12-16T06:05:01.771995",
     "exception": false,
     "start_time": "2024-12-16T06:05:01.725985",
     "status": "completed"
    },
    "tags": []
   },
   "source": [
    "Write or import a json file where best hyperparameters are saved. "
   ]
  },
  {
   "cell_type": "code",
   "execution_count": 18,
   "id": "cee2941c",
   "metadata": {
    "execution": {
     "iopub.execute_input": "2024-12-16T06:05:01.868504Z",
     "iopub.status.busy": "2024-12-16T06:05:01.868106Z",
     "iopub.status.idle": "2024-12-16T06:05:02.993723Z",
     "shell.execute_reply": "2024-12-16T06:05:02.992481Z"
    },
    "papermill": {
     "duration": 1.177083,
     "end_time": "2024-12-16T06:05:02.996115",
     "exception": false,
     "start_time": "2024-12-16T06:05:01.819032",
     "status": "completed"
    },
    "tags": []
   },
   "outputs": [
    {
     "name": "stdout",
     "output_type": "stream",
     "text": [
      "File 'TrainedModels/WithoutKFCV/GraphBased/RP3betaRecommender/OptimizingRecall/best_params_RP3beta_Recall.json' created successfully.\n"
     ]
    }
   ],
   "source": [
    "if config['tune_parameters']:\n",
    "    with open(f'/kaggle/working/best_params_{config[\"model\"]}_{config[\"metric\"]}.json', 'w') as params_file:\n",
    "        json.dump(optuna_study.best_params, params_file)\n",
    "        \n",
    "    if config['save_github']:\n",
    "        upload_file(\n",
    "            f'/kaggle/working/best_params_{config[\"model\"]}_{config[\"metric\"]}.json', \n",
    "            f'{GH_PATH}/{config[\"model\"]}Recommender/Optimizing{config[\"metric\"]}/best_params_{config[\"model\"]}_{config[\"metric\"]}.json', \n",
    "            f'{config[\"model\"]}_{config[\"metric\"]} tuning results (from kaggle notebook)',\n",
    "            repo\n",
    "        )\n",
    "elif config['copy_prev_best_params']:\n",
    "    shutil.copyfile(\n",
    "        f'{K_PATH}/{GH_PATH}/{config[\"model\"]}Recommender/Optimizing{config[\"metric\"]}/'\\\n",
    "        f'best_params_{config[\"model\"]}_{config[\"metric\"]}.json', \n",
    "        f'/kaggle/working/best_params_{config[\"model\"]}_{config[\"metric\"]}.json'\n",
    "    )"
   ]
  },
  {
   "cell_type": "markdown",
   "id": "9a774606",
   "metadata": {
    "execution": {
     "iopub.execute_input": "2024-11-14T00:41:34.294243Z",
     "iopub.status.busy": "2024-11-14T00:41:34.293739Z",
     "iopub.status.idle": "2024-11-14T00:41:34.301478Z",
     "shell.execute_reply": "2024-11-14T00:41:34.299869Z",
     "shell.execute_reply.started": "2024-11-14T00:41:34.294186Z"
    },
    "papermill": {
     "duration": 0.047175,
     "end_time": "2024-12-16T06:05:03.090610",
     "exception": false,
     "start_time": "2024-12-16T06:05:03.043435",
     "status": "completed"
    },
    "tags": []
   },
   "source": [
    "Save the history of the tuned model."
   ]
  },
  {
   "cell_type": "code",
   "execution_count": 19,
   "id": "2751dd87",
   "metadata": {
    "execution": {
     "iopub.execute_input": "2024-12-16T06:05:03.190234Z",
     "iopub.status.busy": "2024-12-16T06:05:03.189811Z",
     "iopub.status.idle": "2024-12-16T06:05:04.727375Z",
     "shell.execute_reply": "2024-12-16T06:05:04.726161Z"
    },
    "papermill": {
     "duration": 1.591129,
     "end_time": "2024-12-16T06:05:04.729898",
     "exception": false,
     "start_time": "2024-12-16T06:05:03.138769",
     "status": "completed"
    },
    "tags": []
   },
   "outputs": [
    {
     "name": "stdout",
     "output_type": "stream",
     "text": [
      "File 'TrainedModels/WithoutKFCV/GraphBased/RP3betaRecommender/OptimizingRecall/history_RP3beta_Recall.db' created successfully.\n"
     ]
    }
   ],
   "source": [
    "if config['save_github'] and config['tune_parameters']:\n",
    "    upload_file(\n",
    "        config['database_path'], \n",
    "        f'{GH_PATH}/{config[\"model\"]}Recommender/Optimizing{config[\"metric\"]}/history_{config[\"model\"]}_{config[\"metric\"]}.db',\n",
    "        f'Tuning {config[\"model\"]}_{config[\"metric\"]} db updated results (from kaggle notebook)',\n",
    "        repo\n",
    "    )"
   ]
  },
  {
   "cell_type": "markdown",
   "id": "f01a4716",
   "metadata": {
    "papermill": {
     "duration": 0.04732,
     "end_time": "2024-12-16T06:05:04.824239",
     "exception": false,
     "start_time": "2024-12-16T06:05:04.776919",
     "status": "completed"
    },
    "tags": []
   },
   "source": [
    "Save the best trained model and its submission."
   ]
  },
  {
   "cell_type": "code",
   "execution_count": 20,
   "id": "971c111e",
   "metadata": {
    "execution": {
     "iopub.execute_input": "2024-12-16T06:05:04.923731Z",
     "iopub.status.busy": "2024-12-16T06:05:04.923330Z",
     "iopub.status.idle": "2024-12-16T06:05:06.881774Z",
     "shell.execute_reply": "2024-12-16T06:05:06.880625Z"
    },
    "papermill": {
     "duration": 2.009371,
     "end_time": "2024-12-16T06:05:06.884021",
     "exception": false,
     "start_time": "2024-12-16T06:05:04.874650",
     "status": "completed"
    },
    "tags": []
   },
   "outputs": [
    {
     "name": "stdout",
     "output_type": "stream",
     "text": [
      "File 'TrainedModels/WithoutKFCV/GraphBased/RP3betaRecommender/OptimizingRecall/Submission/submission_RP3beta_Recall.csv' created successfully.\n"
     ]
    }
   ],
   "source": [
    "if config['save_github'] and config['tune_best_params']: \n",
    "    upload_file(\n",
    "                f'/kaggle/working/submission_{config[\"model\"]}_{config[\"metric\"]}.csv', \n",
    "                f'{GH_PATH}/{config[\"model\"]}Recommender/Optimizing{config[\"metric\"]}/Submission/submission_{config[\"model\"]}_{config[\"metric\"]}.csv', \n",
    "                f'New {config[\"model\"]}_{config[\"metric\"]} submission (from kaggle notebook)',\n",
    "                repo\n",
    "            )"
   ]
  }
 ],
 "metadata": {
  "kaggle": {
   "accelerator": "none",
   "dataSources": [
    {
     "databundleVersionId": 9982103,
     "sourceId": 87439,
     "sourceType": "competition"
    }
   ],
   "dockerImageVersionId": 30804,
   "isGpuEnabled": false,
   "isInternetEnabled": true,
   "language": "python",
   "sourceType": "notebook"
  },
  "kernelspec": {
   "display_name": "Python 3",
   "language": "python",
   "name": "python3"
  },
  "language_info": {
   "codemirror_mode": {
    "name": "ipython",
    "version": 3
   },
   "file_extension": ".py",
   "mimetype": "text/x-python",
   "name": "python",
   "nbconvert_exporter": "python",
   "pygments_lexer": "ipython3",
   "version": "3.10.14"
  },
  "papermill": {
   "default_parameters": {},
   "duration": 17626.731925,
   "end_time": "2024-12-16T06:05:08.055526",
   "environment_variables": {},
   "exception": null,
   "input_path": "__notebook__.ipynb",
   "output_path": "__notebook__.ipynb",
   "parameters": {},
   "start_time": "2024-12-16T01:11:21.323601",
   "version": "2.6.0"
  }
 },
 "nbformat": 4,
 "nbformat_minor": 5
}
