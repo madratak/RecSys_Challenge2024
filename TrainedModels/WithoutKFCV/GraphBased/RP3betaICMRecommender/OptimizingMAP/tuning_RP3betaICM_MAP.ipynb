{
 "cells": [
  {
   "cell_type": "markdown",
   "id": "9786f35f",
   "metadata": {
    "papermill": {
     "duration": 0.006857,
     "end_time": "2024-12-24T00:25:25.841439",
     "exception": false,
     "start_time": "2024-12-24T00:25:25.834582",
     "status": "completed"
    },
    "tags": []
   },
   "source": [
    "# Set connection with GitHub"
   ]
  },
  {
   "cell_type": "code",
   "execution_count": 1,
   "id": "861265a7",
   "metadata": {
    "execution": {
     "iopub.execute_input": "2024-12-24T00:25:25.855706Z",
     "iopub.status.busy": "2024-12-24T00:25:25.855302Z",
     "iopub.status.idle": "2024-12-24T00:25:25.861060Z",
     "shell.execute_reply": "2024-12-24T00:25:25.860124Z"
    },
    "papermill": {
     "duration": 0.015283,
     "end_time": "2024-12-24T00:25:25.863067",
     "exception": false,
     "start_time": "2024-12-24T00:25:25.847784",
     "status": "completed"
    },
    "tags": []
   },
   "outputs": [],
   "source": [
    "# ! cd /kaggle/working && rm -rf RECsys_Challenge2024"
   ]
  },
  {
   "cell_type": "code",
   "execution_count": 2,
   "id": "705346b6",
   "metadata": {
    "_cell_guid": "b1076dfc-b9ad-4769-8c92-a6c4dae69d19",
    "_uuid": "8f2839f25d086af736a60e9eeb907d3b93b6e0e5",
    "execution": {
     "iopub.execute_input": "2024-12-24T00:25:25.876921Z",
     "iopub.status.busy": "2024-12-24T00:25:25.876570Z",
     "iopub.status.idle": "2024-12-24T00:25:35.316656Z",
     "shell.execute_reply": "2024-12-24T00:25:35.315238Z"
    },
    "papermill": {
     "duration": 9.44953,
     "end_time": "2024-12-24T00:25:35.318819",
     "exception": false,
     "start_time": "2024-12-24T00:25:25.869289",
     "status": "completed"
    },
    "tags": []
   },
   "outputs": [
    {
     "name": "stdout",
     "output_type": "stream",
     "text": [
      "Cloning into 'RECsys_Challenge2024'...\r\n",
      "remote: Enumerating objects: 4394, done.\u001b[K\r\n",
      "remote: Counting objects: 100% (6/6), done.\u001b[K\r\n",
      "remote: Compressing objects: 100% (6/6), done.\u001b[K\r\n",
      "remote: Total 4394 (delta 0), reused 3 (delta 0), pack-reused 4388 (from 1)\u001b[K\r\n",
      "Receiving objects: 100% (4394/4394), 173.85 MiB | 30.04 MiB/s, done.\r\n",
      "Resolving deltas: 100% (2581/2581), done.\r\n",
      "Updating files: 100% (402/402), done.\r\n"
     ]
    }
   ],
   "source": [
    "from kaggle_secrets import UserSecretsClient\n",
    "\n",
    "token = UserSecretsClient().get_secret(\"Token\")\n",
    "\n",
    "! git clone https://{token}@github.com/madratak/RECsys_Challenge2024.git"
   ]
  },
  {
   "cell_type": "code",
   "execution_count": 3,
   "id": "c1e0b4e4",
   "metadata": {
    "execution": {
     "iopub.execute_input": "2024-12-24T00:25:35.339681Z",
     "iopub.status.busy": "2024-12-24T00:25:35.339316Z",
     "iopub.status.idle": "2024-12-24T00:25:42.218227Z",
     "shell.execute_reply": "2024-12-24T00:25:42.216825Z"
    },
    "papermill": {
     "duration": 6.891728,
     "end_time": "2024-12-24T00:25:42.220458",
     "exception": false,
     "start_time": "2024-12-24T00:25:35.328730",
     "status": "completed"
    },
    "tags": []
   },
   "outputs": [
    {
     "name": "stdout",
     "output_type": "stream",
     "text": [
      "Collecting PyGithub\r\n",
      "  Downloading PyGithub-2.5.0-py3-none-any.whl.metadata (3.9 kB)\r\n",
      "Requirement already satisfied: requests in /usr/local/lib/python3.10/dist-packages (2.32.3)\r\n",
      "Collecting pynacl>=1.4.0 (from PyGithub)\r\n",
      "  Downloading PyNaCl-1.5.0-cp36-abi3-manylinux_2_17_x86_64.manylinux2014_x86_64.manylinux_2_24_x86_64.whl.metadata (8.6 kB)\r\n",
      "Requirement already satisfied: pyjwt>=2.4.0 in /usr/local/lib/python3.10/dist-packages (from pyjwt[crypto]>=2.4.0->PyGithub) (2.9.0)\r\n",
      "Requirement already satisfied: typing-extensions>=4.0.0 in /usr/local/lib/python3.10/dist-packages (from PyGithub) (4.12.2)\r\n",
      "Requirement already satisfied: urllib3>=1.26.0 in /usr/local/lib/python3.10/dist-packages (from PyGithub) (2.2.3)\r\n",
      "Requirement already satisfied: Deprecated in /usr/local/lib/python3.10/dist-packages (from PyGithub) (1.2.15)\r\n",
      "Requirement already satisfied: charset-normalizer<4,>=2 in /usr/local/lib/python3.10/dist-packages (from requests) (3.3.2)\r\n",
      "Requirement already satisfied: idna<4,>=2.5 in /usr/local/lib/python3.10/dist-packages (from requests) (3.10)\r\n",
      "Requirement already satisfied: certifi>=2017.4.17 in /usr/local/lib/python3.10/dist-packages (from requests) (2024.8.30)\r\n",
      "Requirement already satisfied: cryptography>=3.4.0 in /usr/local/lib/python3.10/dist-packages (from pyjwt[crypto]>=2.4.0->PyGithub) (43.0.1)\r\n",
      "Requirement already satisfied: cffi>=1.4.1 in /usr/local/lib/python3.10/dist-packages (from pynacl>=1.4.0->PyGithub) (1.17.1)\r\n",
      "Requirement already satisfied: wrapt<2,>=1.10 in /usr/local/lib/python3.10/dist-packages (from Deprecated->PyGithub) (1.16.0)\r\n",
      "Requirement already satisfied: pycparser in /usr/local/lib/python3.10/dist-packages (from cffi>=1.4.1->pynacl>=1.4.0->PyGithub) (2.22)\r\n",
      "Downloading PyGithub-2.5.0-py3-none-any.whl (375 kB)\r\n",
      "\u001b[2K   \u001b[90m━━━━━━━━━━━━━━━━━━━━━━━━━━━━━━━━━━━━━━━━\u001b[0m \u001b[32m375.9/375.9 kB\u001b[0m \u001b[31m8.8 MB/s\u001b[0m eta \u001b[36m0:00:00\u001b[0m\r\n",
      "\u001b[?25hDownloading PyNaCl-1.5.0-cp36-abi3-manylinux_2_17_x86_64.manylinux2014_x86_64.manylinux_2_24_x86_64.whl (856 kB)\r\n",
      "\u001b[2K   \u001b[90m━━━━━━━━━━━━━━━━━━━━━━━━━━━━━━━━━━━━━━━━\u001b[0m \u001b[32m856.7/856.7 kB\u001b[0m \u001b[31m27.7 MB/s\u001b[0m eta \u001b[36m0:00:00\u001b[0m\r\n",
      "\u001b[?25hInstalling collected packages: pynacl, PyGithub\r\n",
      "Successfully installed PyGithub-2.5.0 pynacl-1.5.0\r\n"
     ]
    }
   ],
   "source": [
    "! pip install PyGithub requests"
   ]
  },
  {
   "cell_type": "code",
   "execution_count": 4,
   "id": "4ae6da06",
   "metadata": {
    "_kg_hide-input": false,
    "execution": {
     "iopub.execute_input": "2024-12-24T00:25:42.242247Z",
     "iopub.status.busy": "2024-12-24T00:25:42.241794Z",
     "iopub.status.idle": "2024-12-24T00:28:28.996701Z",
     "shell.execute_reply": "2024-12-24T00:28:28.995292Z"
    },
    "papermill": {
     "duration": 166.768493,
     "end_time": "2024-12-24T00:28:28.999111",
     "exception": false,
     "start_time": "2024-12-24T00:25:42.230618",
     "status": "completed"
    },
    "tags": []
   },
   "outputs": [
    {
     "name": "stdout",
     "output_type": "stream",
     "text": [
      "/kaggle/working/RECsys_Challenge2024\n",
      "run_compile_all_cython: Found 11 Cython files in 5 folders...\r\n",
      "run_compile_all_cython: All files will be compiled using your current python environment: '/usr/bin/python3'\r\n",
      "Compiling [1/11]: MatrixFactorizationImpressions_Cython_Epoch.pyx... \r\n",
      "In file included from \u001b[01m\u001b[K/usr/local/lib/python3.10/dist-packages/numpy/core/include/numpy/ndarraytypes.h:1929\u001b[m\u001b[K,\r\n",
      "                 from \u001b[01m\u001b[K/usr/local/lib/python3.10/dist-packages/numpy/core/include/numpy/ndarrayobject.h:12\u001b[m\u001b[K,\r\n",
      "                 from \u001b[01m\u001b[K/usr/local/lib/python3.10/dist-packages/numpy/core/include/numpy/arrayobject.h:5\u001b[m\u001b[K,\r\n",
      "                 from \u001b[01m\u001b[KMatrixFactorizationImpressions_Cython_Epoch.c:1252\u001b[m\u001b[K:\r\n",
      "\u001b[01m\u001b[K/usr/local/lib/python3.10/dist-packages/numpy/core/include/numpy/npy_1_7_deprecated_api.h:17:2:\u001b[m\u001b[K \u001b[01;35m\u001b[Kwarning: \u001b[m\u001b[K#warning \"Using deprecated NumPy API, disable it with \" \"#define NPY_NO_DEPRECATED_API NPY_1_7_API_VERSION\" [\u001b[01;35m\u001b[K\u001b]8;;https://gcc.gnu.org/onlinedocs/gcc/Warning-Options.html#index-Wcpp\u0007-Wcpp\u001b]8;;\u0007\u001b[m\u001b[K]\r\n",
      "   17 | #\u001b[01;35m\u001b[Kwarning\u001b[m\u001b[K \"Using deprecated NumPy API, disable it with \" \\\r\n",
      "      |  \u001b[01;35m\u001b[K^~~~~~~\u001b[m\u001b[K\r\n",
      "\u001b[01m\u001b[KMatrixFactorizationImpressions_Cython_Epoch.c:\u001b[m\u001b[K In function ‘\u001b[01m\u001b[K__pyx_f_43MatrixFactorizationImpressions_Cython_Epoch_32MatrixFactorization_Cython_Epoch_sampleBPR_Cython\u001b[m\u001b[K’:\r\n",
      "\u001b[01m\u001b[KMatrixFactorizationImpressions_Cython_Epoch.c:30353:17:\u001b[m\u001b[K \u001b[01;35m\u001b[Kwarning: \u001b[m\u001b[K‘\u001b[01m\u001b[K__pyx_v_start_pos_impression_items\u001b[m\u001b[K’ may be used uninitialized in this function [\u001b[01;35m\u001b[K\u001b]8;;https://gcc.gnu.org/onlinedocs/gcc/Warning-Options.html#index-Wmaybe-uninitialized\u0007-Wmaybe-uninitialized\u001b]8;;\u0007\u001b[m\u001b[K]\r\n",
      "30353 |       \u001b[01;35m\u001b[K__pyx_t_4 = (__pyx_v_start_pos_impression_items + __pyx_v_index)\u001b[m\u001b[K;\r\n",
      "      |       \u001b[01;35m\u001b[K~~~~~~~~~~^~~~~~~~~~~~~~~~~~~~~~~~~~~~~~~~~~~~~~~~~~~~~~~~~~~~~~\u001b[m\u001b[K\r\n",
      "\u001b[01m\u001b[KMatrixFactorizationImpressions_Cython_Epoch.c:\u001b[m\u001b[K In function ‘\u001b[01m\u001b[K__pyx_pf_43MatrixFactorizationImpressions_Cython_Epoch_32MatrixFactorization_Cython_Epoch_10epochIteration_Cython_ASY_SVD_SGD\u001b[m\u001b[K’:\r\n",
      "\u001b[01m\u001b[KMatrixFactorizationImpressions_Cython_Epoch.c:26112:66:\u001b[m\u001b[K \u001b[01;35m\u001b[Kwarning: \u001b[m\u001b[K‘\u001b[01m\u001b[K__pyx_v_end_pos_seen_items\u001b[m\u001b[K’ may be used uninitialized in this function [\u001b[01;35m\u001b[K\u001b]8;;https://gcc.gnu.org/onlinedocs/gcc/Warning-Options.html#index-Wmaybe-uninitialized\u0007-Wmaybe-uninitialized\u001b]8;;\u0007\u001b[m\u001b[K]\r\n",
      "26112 |       for (__pyx_t_22 = __pyx_v_start_pos_seen_items; \u001b[01;35m\u001b[K__pyx_t_22 < __pyx_t_21\u001b[m\u001b[K; __pyx_t_22+=1) {\r\n",
      "      |                                                       \u001b[01;35m\u001b[K~~~~~~~~~~~^~~~~~~~~~~~\u001b[m\u001b[K\r\n",
      "\u001b[01m\u001b[KMatrixFactorizationImpressions_Cython_Epoch.c:26112:66:\u001b[m\u001b[K \u001b[01;35m\u001b[Kwarning: \u001b[m\u001b[K‘\u001b[01m\u001b[K__pyx_v_start_pos_seen_items\u001b[m\u001b[K’ may be used uninitialized in this function [\u001b[01;35m\u001b[K\u001b]8;;https://gcc.gnu.org/onlinedocs/gcc/Warning-Options.html#index-Wmaybe-uninitialized\u0007-Wmaybe-uninitialized\u001b]8;;\u0007\u001b[m\u001b[K]\r\n",
      "/usr/local/lib/python3.10/dist-packages/Cython/Compiler/Main.py:381: FutureWarning: Cython directive 'language_level' not set, using '3str' for now (Py3). This has changed from earlier releases! File: /kaggle/working/RECsys_Challenge2024/Recommenders/MatrixFactorization/Cython/MatrixFactorizationImpressions_Cython_Epoch.pyx\r\n",
      "  tree = Parsing.p_module(s, pxd, full_module_name)\r\n",
      "Compiling [1/11]: MatrixFactorizationImpressions_Cython_Epoch.pyx... PASS\r\n",
      "\r\n",
      "Compiling [2/11]: MatrixFactorization_Cython_Epoch.pyx... \r\n",
      "In file included from \u001b[01m\u001b[K/usr/local/lib/python3.10/dist-packages/numpy/core/include/numpy/ndarraytypes.h:1929\u001b[m\u001b[K,\r\n",
      "                 from \u001b[01m\u001b[K/usr/local/lib/python3.10/dist-packages/numpy/core/include/numpy/ndarrayobject.h:12\u001b[m\u001b[K,\r\n",
      "                 from \u001b[01m\u001b[K/usr/local/lib/python3.10/dist-packages/numpy/core/include/numpy/arrayobject.h:5\u001b[m\u001b[K,\r\n",
      "                 from \u001b[01m\u001b[KMatrixFactorization_Cython_Epoch.c:1252\u001b[m\u001b[K:\r\n",
      "\u001b[01m\u001b[K/usr/local/lib/python3.10/dist-packages/numpy/core/include/numpy/npy_1_7_deprecated_api.h:17:2:\u001b[m\u001b[K \u001b[01;35m\u001b[Kwarning: \u001b[m\u001b[K#warning \"Using deprecated NumPy API, disable it with \" \"#define NPY_NO_DEPRECATED_API NPY_1_7_API_VERSION\" [\u001b[01;35m\u001b[K\u001b]8;;https://gcc.gnu.org/onlinedocs/gcc/Warning-Options.html#index-Wcpp\u0007-Wcpp\u001b]8;;\u0007\u001b[m\u001b[K]\r\n",
      "   17 | #\u001b[01;35m\u001b[Kwarning\u001b[m\u001b[K \"Using deprecated NumPy API, disable it with \" \\\r\n",
      "      |  \u001b[01;35m\u001b[K^~~~~~~\u001b[m\u001b[K\r\n",
      "\u001b[01m\u001b[KMatrixFactorization_Cython_Epoch.c:\u001b[m\u001b[K In function ‘\u001b[01m\u001b[K__pyx_pf_32MatrixFactorization_Cython_Epoch_32MatrixFactorization_Cython_Epoch_10epochIteration_Cython_ASY_SVD_SGD\u001b[m\u001b[K’:\r\n",
      "\u001b[01m\u001b[KMatrixFactorization_Cython_Epoch.c:26256:68:\u001b[m\u001b[K \u001b[01;35m\u001b[Kwarning: \u001b[m\u001b[K‘\u001b[01m\u001b[K__pyx_v_end_pos_seen_items\u001b[m\u001b[K’ may be used uninitialized in this function [\u001b[01;35m\u001b[K\u001b]8;;https://gcc.gnu.org/onlinedocs/gcc/Warning-Options.html#index-Wmaybe-uninitialized\u0007-Wmaybe-uninitialized\u001b]8;;\u0007\u001b[m\u001b[K]\r\n",
      "26256 |         for (__pyx_t_22 = __pyx_v_start_pos_seen_items; \u001b[01;35m\u001b[K__pyx_t_22 < __pyx_t_21\u001b[m\u001b[K; __pyx_t_22+=1) {\r\n",
      "      |                                                         \u001b[01;35m\u001b[K~~~~~~~~~~~^~~~~~~~~~~~\u001b[m\u001b[K\r\n",
      "\u001b[01m\u001b[KMatrixFactorization_Cython_Epoch.c:26256:68:\u001b[m\u001b[K \u001b[01;35m\u001b[Kwarning: \u001b[m\u001b[K‘\u001b[01m\u001b[K__pyx_v_start_pos_seen_items\u001b[m\u001b[K’ may be used uninitialized in this function [\u001b[01;35m\u001b[K\u001b]8;;https://gcc.gnu.org/onlinedocs/gcc/Warning-Options.html#index-Wmaybe-uninitialized\u0007-Wmaybe-uninitialized\u001b]8;;\u0007\u001b[m\u001b[K]\r\n",
      "/usr/local/lib/python3.10/dist-packages/Cython/Compiler/Main.py:381: FutureWarning: Cython directive 'language_level' not set, using '3str' for now (Py3). This has changed from earlier releases! File: /kaggle/working/RECsys_Challenge2024/Recommenders/MatrixFactorization/Cython/MatrixFactorization_Cython_Epoch.pyx\r\n",
      "  tree = Parsing.p_module(s, pxd, full_module_name)\r\n",
      "Compiling [2/11]: MatrixFactorization_Cython_Epoch.pyx... PASS\r\n",
      "\r\n",
      "Compiling [3/11]: Compute_Similarity_Cython.pyx... \r\n",
      "warning: Compute_Similarity_Cython.pyx:21:0: The 'IF' statement is deprecated and will be removed in a future Cython version. Consider using runtime conditions or C macros instead. See https://github.com/cython/cython/issues/4310\r\n",
      "In file included from \u001b[01m\u001b[K/usr/local/lib/python3.10/dist-packages/numpy/core/include/numpy/ndarraytypes.h:1929\u001b[m\u001b[K,\r\n",
      "                 from \u001b[01m\u001b[K/usr/local/lib/python3.10/dist-packages/numpy/core/include/numpy/ndarrayobject.h:12\u001b[m\u001b[K,\r\n",
      "                 from \u001b[01m\u001b[K/usr/local/lib/python3.10/dist-packages/numpy/core/include/numpy/arrayobject.h:5\u001b[m\u001b[K,\r\n",
      "                 from \u001b[01m\u001b[KCompute_Similarity_Cython.c:1252\u001b[m\u001b[K:\r\n",
      "\u001b[01m\u001b[K/usr/local/lib/python3.10/dist-packages/numpy/core/include/numpy/npy_1_7_deprecated_api.h:17:2:\u001b[m\u001b[K \u001b[01;35m\u001b[Kwarning: \u001b[m\u001b[K#warning \"Using deprecated NumPy API, disable it with \" \"#define NPY_NO_DEPRECATED_API NPY_1_7_API_VERSION\" [\u001b[01;35m\u001b[K\u001b]8;;https://gcc.gnu.org/onlinedocs/gcc/Warning-Options.html#index-Wcpp\u0007-Wcpp\u001b]8;;\u0007\u001b[m\u001b[K]\r\n",
      "   17 | #\u001b[01;35m\u001b[Kwarning\u001b[m\u001b[K \"Using deprecated NumPy API, disable it with \" \\\r\n",
      "      |  \u001b[01;35m\u001b[K^~~~~~~\u001b[m\u001b[K\r\n",
      "/usr/local/lib/python3.10/dist-packages/Cython/Compiler/Main.py:381: FutureWarning: Cython directive 'language_level' not set, using '3str' for now (Py3). This has changed from earlier releases! File: /kaggle/working/RECsys_Challenge2024/Recommenders/Similarity/Cython/Compute_Similarity_Cython.pyx\r\n",
      "  tree = Parsing.p_module(s, pxd, full_module_name)\r\n",
      "warning: Compute_Similarity_Cython.pyx:21:0: The 'IF' statement is deprecated and will be removed in a future Cython version. Consider using runtime conditions or C macros instead. See https://github.com/cython/cython/issues/4310\r\n",
      "Compiling [3/11]: Compute_Similarity_Cython.pyx... PASS\r\n",
      "\r\n",
      "Compiling [4/11]: Sparse_Matrix_Tree_CSR.pyx... \r\n",
      "warning: Sparse_Matrix_Tree_CSR.pyx:132:34: Non-trivial type declarators in shared declaration (e.g. mix of pointers and values). Each pointer declaration should be on its own line.\r\n",
      "warning: Sparse_Matrix_Tree_CSR.pyx:132:66: Non-trivial type declarators in shared declaration (e.g. mix of pointers and values). Each pointer declaration should be on its own line.\r\n",
      "warning: Sparse_Matrix_Tree_CSR.pyx:343:35: Non-trivial type declarators in shared declaration (e.g. mix of pointers and values). Each pointer declaration should be on its own line.\r\n",
      "warning: Sparse_Matrix_Tree_CSR.pyx:343:52: Non-trivial type declarators in shared declaration (e.g. mix of pointers and values). Each pointer declaration should be on its own line.\r\n",
      "warning: Sparse_Matrix_Tree_CSR.pyx:442:35: Non-trivial type declarators in shared declaration (e.g. mix of pointers and values). Each pointer declaration should be on its own line.\r\n",
      "warning: Sparse_Matrix_Tree_CSR.pyx:442:53: Non-trivial type declarators in shared declaration (e.g. mix of pointers and values). Each pointer declaration should be on its own line.\r\n",
      "warning: Sparse_Matrix_Tree_CSR.pyx:442:69: Non-trivial type declarators in shared declaration (e.g. mix of pointers and values). Each pointer declaration should be on its own line.\r\n",
      "warning: Sparse_Matrix_Tree_CSR.pyx:577:35: Non-trivial type declarators in shared declaration (e.g. mix of pointers and values). Each pointer declaration should be on its own line.\r\n",
      "warning: Sparse_Matrix_Tree_CSR.pyx:577:42: Non-trivial type declarators in shared declaration (e.g. mix of pointers and values). Each pointer declaration should be on its own line.\r\n",
      "warning: Sparse_Matrix_Tree_CSR.pyx:578:35: Non-trivial type declarators in shared declaration (e.g. mix of pointers and values). Each pointer declaration should be on its own line.\r\n",
      "warning: Sparse_Matrix_Tree_CSR.pyx:578:53: Non-trivial type declarators in shared declaration (e.g. mix of pointers and values). Each pointer declaration should be on its own line.\r\n",
      "\r\n",
      "Error compiling Cython file:\r\n",
      "------------------------------------------------------------\r\n",
      "...\r\n",
      "            vector_pointer_to_list_elements[index].head = current_element\r\n",
      "            current_element = current_element.higher\r\n",
      "\r\n",
      "\r\n",
      "        # Sort array elements on their data field\r\n",
      "        qsort(vector_pointer_to_list_elements, list_length, sizeof(head_pointer_tree_s), compare_struct_on_data)\r\n",
      "                                                                                         ^\r\n",
      "------------------------------------------------------------\r\n",
      "\r\n",
      "Sparse_Matrix_Tree_CSR.pyx:516:89: Cannot assign type 'int (const void *, const void *) except? -1' to 'int (*)(const_void *, const_void *) noexcept'. Exception values are incompatible. Suggest adding 'noexcept' to the type of 'compare_struct_on_data'.\r\n",
      "\r\n",
      "Error compiling Cython file:\r\n",
      "------------------------------------------------------------\r\n",
      "...\r\n",
      "        # Sort array elements on their data field\r\n",
      "        qsort(vector_pointer_to_list_elements, list_length, sizeof(head_pointer_tree_s), compare_struct_on_data)\r\n",
      "\r\n",
      "        # Sort only the TopK according to their column field\r\n",
      "        # Sort is from lower to higher, therefore the elements to be considered are from len-topK to len\r\n",
      "        qsort(&vector_pointer_to_list_elements[list_length-TopK], TopK, sizeof(head_pointer_tree_s), compare_struct_on_column)\r\n",
      "                                                                                                     ^\r\n",
      "------------------------------------------------------------\r\n",
      "\r\n",
      "Sparse_Matrix_Tree_CSR.pyx:520:101: Cannot assign type 'int (const void *, const void *) except? -1' to 'int (*)(const_void *, const_void *) noexcept'. Exception values are incompatible. Suggest adding 'noexcept' to the type of 'compare_struct_on_column'.\r\n",
      "Traceback (most recent call last):\r\n",
      "  File \"/kaggle/working/RECsys_Challenge2024/CythonCompiler/compile_script.py\", line 48, in <module>\r\n",
      "    setup(\r\n",
      "  File \"/usr/local/lib/python3.10/dist-packages/setuptools/__init__.py\", line 108, in setup\r\n",
      "    return distutils.core.setup(**attrs)\r\n",
      "  File \"/usr/local/lib/python3.10/dist-packages/setuptools/_distutils/core.py\", line 184, in setup\r\n",
      "    return run_commands(dist)\r\n",
      "  File \"/usr/local/lib/python3.10/dist-packages/setuptools/_distutils/core.py\", line 200, in run_commands\r\n",
      "    dist.run_commands()\r\n",
      "  File \"/usr/local/lib/python3.10/dist-packages/setuptools/_distutils/dist.py\", line 970, in run_commands\r\n",
      "    self.run_command(cmd)\r\n",
      "  File \"/usr/local/lib/python3.10/dist-packages/setuptools/dist.py\", line 956, in run_command\r\n",
      "    super().run_command(command)\r\n",
      "  File \"/usr/local/lib/python3.10/dist-packages/setuptools/_distutils/dist.py\", line 989, in run_command\r\n",
      "    cmd_obj.run()\r\n",
      "  File \"/usr/local/lib/python3.10/dist-packages/setuptools/_distutils/command/build_ext.py\", line 359, in run\r\n",
      "    self.build_extensions()\r\n",
      "  File \"/usr/local/lib/python3.10/dist-packages/setuptools/_distutils/command/build_ext.py\", line 479, in build_extensions\r\n",
      "    self._build_extensions_serial()\r\n",
      "  File \"/usr/local/lib/python3.10/dist-packages/setuptools/_distutils/command/build_ext.py\", line 505, in _build_extensions_serial\r\n",
      "    self.build_extension(ext)\r\n",
      "  File \"/usr/local/lib/python3.10/dist-packages/Cython/Distutils/build_ext.py\", line 130, in build_extension\r\n",
      "    new_ext = cythonize(\r\n",
      "  File \"/usr/local/lib/python3.10/dist-packages/Cython/Build/Dependencies.py\", line 1154, in cythonize\r\n",
      "    cythonize_one(*args)\r\n",
      "  File \"/usr/local/lib/python3.10/dist-packages/Cython/Build/Dependencies.py\", line 1321, in cythonize_one\r\n",
      "    raise CompileError(None, pyx_file)\r\n",
      "Cython.Compiler.Errors.CompileError: Sparse_Matrix_Tree_CSR.pyx\r\n",
      "Traceback (most recent call last):\r\n",
      "  File \"/kaggle/working/RECsys_Challenge2024/run_compile_all_cython.py\", line 60, in <module>\r\n",
      "    run_compile_subprocess(file_path, [file_name])\r\n",
      "  File \"/kaggle/working/RECsys_Challenge2024/CythonCompiler/run_compile_subprocess.py\", line 51, in run_compile_subprocess\r\n",
      "    raise exc\r\n",
      "  File \"/kaggle/working/RECsys_Challenge2024/CythonCompiler/run_compile_subprocess.py\", line 32, in run_compile_subprocess\r\n",
      "    output = subprocess.check_output(' '.join(command),\r\n",
      "  File \"/usr/lib/python3.10/subprocess.py\", line 421, in check_output\r\n",
      "    return run(*popenargs, stdout=PIPE, timeout=timeout, check=True,\r\n",
      "  File \"/usr/lib/python3.10/subprocess.py\", line 526, in run\r\n",
      "    raise CalledProcessError(retcode, process.args,\r\n",
      "subprocess.CalledProcessError: Command '/usr/bin/python3 /kaggle/working/RECsys_Challenge2024/CythonCompiler/compile_script.py Sparse_Matrix_Tree_CSR.pyx build_ext --inplace' returned non-zero exit status 1.\r\n",
      "Compiling [4/11]: Sparse_Matrix_Tree_CSR.pyx... FAIL: Command '/usr/bin/python3 /kaggle/working/RECsys_Challenge2024/CythonCompiler/compile_script.py Sparse_Matrix_Tree_CSR.pyx build_ext --inplace' returned non-zero exit status 1.\r\n",
      "\r\n",
      "Compiling [5/11]: SLIM_BPR_Cython_Epoch.pyx... \r\n",
      "warning: SLIM_BPR_Cython_Epoch.pyx:24:0: The 'IF' statement is deprecated and will be removed in a future Cython version. Consider using runtime conditions or C macros instead. See https://github.com/cython/cython/issues/4310\r\n",
      "warning: SLIM_BPR_Cython_Epoch.pyx:632:34: Non-trivial type declarators in shared declaration (e.g. mix of pointers and values). Each pointer declaration should be on its own line.\r\n",
      "warning: SLIM_BPR_Cython_Epoch.pyx:632:66: Non-trivial type declarators in shared declaration (e.g. mix of pointers and values). Each pointer declaration should be on its own line.\r\n",
      "warning: SLIM_BPR_Cython_Epoch.pyx:817:35: Non-trivial type declarators in shared declaration (e.g. mix of pointers and values). Each pointer declaration should be on its own line.\r\n",
      "warning: SLIM_BPR_Cython_Epoch.pyx:817:52: Non-trivial type declarators in shared declaration (e.g. mix of pointers and values). Each pointer declaration should be on its own line.\r\n",
      "warning: SLIM_BPR_Cython_Epoch.pyx:916:35: Non-trivial type declarators in shared declaration (e.g. mix of pointers and values). Each pointer declaration should be on its own line.\r\n",
      "warning: SLIM_BPR_Cython_Epoch.pyx:916:53: Non-trivial type declarators in shared declaration (e.g. mix of pointers and values). Each pointer declaration should be on its own line.\r\n",
      "warning: SLIM_BPR_Cython_Epoch.pyx:916:69: Non-trivial type declarators in shared declaration (e.g. mix of pointers and values). Each pointer declaration should be on its own line.\r\n",
      "warning: SLIM_BPR_Cython_Epoch.pyx:1051:35: Non-trivial type declarators in shared declaration (e.g. mix of pointers and values). Each pointer declaration should be on its own line.\r\n",
      "warning: SLIM_BPR_Cython_Epoch.pyx:1051:42: Non-trivial type declarators in shared declaration (e.g. mix of pointers and values). Each pointer declaration should be on its own line.\r\n",
      "warning: SLIM_BPR_Cython_Epoch.pyx:1052:35: Non-trivial type declarators in shared declaration (e.g. mix of pointers and values). Each pointer declaration should be on its own line.\r\n",
      "warning: SLIM_BPR_Cython_Epoch.pyx:1052:53: Non-trivial type declarators in shared declaration (e.g. mix of pointers and values). Each pointer declaration should be on its own line.\r\n",
      "\r\n",
      "Error compiling Cython file:\r\n",
      "------------------------------------------------------------\r\n",
      "...\r\n",
      "            vector_pointer_to_list_elements[index].head = current_element\r\n",
      "            current_element = current_element.higher\r\n",
      "\r\n",
      "\r\n",
      "        # Sort array elements on their data field\r\n",
      "        qsort(vector_pointer_to_list_elements, list_length, sizeof(head_pointer_tree_s), compare_struct_on_data)\r\n",
      "                                                                                         ^\r\n",
      "------------------------------------------------------------\r\n",
      "\r\n",
      "SLIM_BPR_Cython_Epoch.pyx:990:89: Cannot assign type 'int (const void *, const void *) except? -1' to 'int (*)(const_void *, const_void *) noexcept'. Exception values are incompatible. Suggest adding 'noexcept' to the type of 'compare_struct_on_data'.\r\n",
      "\r\n",
      "Error compiling Cython file:\r\n",
      "------------------------------------------------------------\r\n",
      "...\r\n",
      "        # Sort array elements on their data field\r\n",
      "        qsort(vector_pointer_to_list_elements, list_length, sizeof(head_pointer_tree_s), compare_struct_on_data)\r\n",
      "\r\n",
      "        # Sort only the TopK according to their column field\r\n",
      "        # Sort is from lower to higher, therefore the elements to be considered are from len-topK to len\r\n",
      "        qsort(&vector_pointer_to_list_elements[list_length-TopK], TopK, sizeof(head_pointer_tree_s), compare_struct_on_column)\r\n",
      "                                                                                                     ^\r\n",
      "------------------------------------------------------------\r\n",
      "\r\n",
      "SLIM_BPR_Cython_Epoch.pyx:994:101: Cannot assign type 'int (const void *, const void *) except? -1' to 'int (*)(const_void *, const_void *) noexcept'. Exception values are incompatible. Suggest adding 'noexcept' to the type of 'compare_struct_on_column'.\r\n",
      "Traceback (most recent call last):\r\n",
      "  File \"/kaggle/working/RECsys_Challenge2024/CythonCompiler/compile_script.py\", line 48, in <module>\r\n",
      "    setup(\r\n",
      "  File \"/usr/local/lib/python3.10/dist-packages/setuptools/__init__.py\", line 108, in setup\r\n",
      "    return distutils.core.setup(**attrs)\r\n",
      "  File \"/usr/local/lib/python3.10/dist-packages/setuptools/_distutils/core.py\", line 184, in setup\r\n",
      "    return run_commands(dist)\r\n",
      "  File \"/usr/local/lib/python3.10/dist-packages/setuptools/_distutils/core.py\", line 200, in run_commands\r\n",
      "    dist.run_commands()\r\n",
      "  File \"/usr/local/lib/python3.10/dist-packages/setuptools/_distutils/dist.py\", line 970, in run_commands\r\n",
      "    self.run_command(cmd)\r\n",
      "  File \"/usr/local/lib/python3.10/dist-packages/setuptools/dist.py\", line 956, in run_command\r\n",
      "    super().run_command(command)\r\n",
      "  File \"/usr/local/lib/python3.10/dist-packages/setuptools/_distutils/dist.py\", line 989, in run_command\r\n",
      "    cmd_obj.run()\r\n",
      "  File \"/usr/local/lib/python3.10/dist-packages/setuptools/_distutils/command/build_ext.py\", line 359, in run\r\n",
      "    self.build_extensions()\r\n",
      "  File \"/usr/local/lib/python3.10/dist-packages/setuptools/_distutils/command/build_ext.py\", line 479, in build_extensions\r\n",
      "    self._build_extensions_serial()\r\n",
      "  File \"/usr/local/lib/python3.10/dist-packages/setuptools/_distutils/command/build_ext.py\", line 505, in _build_extensions_serial\r\n",
      "    self.build_extension(ext)\r\n",
      "  File \"/usr/local/lib/python3.10/dist-packages/Cython/Distutils/build_ext.py\", line 130, in build_extension\r\n",
      "    new_ext = cythonize(\r\n",
      "  File \"/usr/local/lib/python3.10/dist-packages/Cython/Build/Dependencies.py\", line 1154, in cythonize\r\n",
      "    cythonize_one(*args)\r\n",
      "  File \"/usr/local/lib/python3.10/dist-packages/Cython/Build/Dependencies.py\", line 1321, in cythonize_one\r\n",
      "    raise CompileError(None, pyx_file)\r\n",
      "Cython.Compiler.Errors.CompileError: SLIM_BPR_Cython_Epoch.pyx\r\n",
      "Traceback (most recent call last):\r\n",
      "  File \"/kaggle/working/RECsys_Challenge2024/run_compile_all_cython.py\", line 60, in <module>\r\n",
      "    run_compile_subprocess(file_path, [file_name])\r\n",
      "  File \"/kaggle/working/RECsys_Challenge2024/CythonCompiler/run_compile_subprocess.py\", line 51, in run_compile_subprocess\r\n",
      "    raise exc\r\n",
      "  File \"/kaggle/working/RECsys_Challenge2024/CythonCompiler/run_compile_subprocess.py\", line 32, in run_compile_subprocess\r\n",
      "    output = subprocess.check_output(' '.join(command),\r\n",
      "  File \"/usr/lib/python3.10/subprocess.py\", line 421, in check_output\r\n",
      "    return run(*popenargs, stdout=PIPE, timeout=timeout, check=True,\r\n",
      "  File \"/usr/lib/python3.10/subprocess.py\", line 526, in run\r\n",
      "    raise CalledProcessError(retcode, process.args,\r\n",
      "subprocess.CalledProcessError: Command '/usr/bin/python3 /kaggle/working/RECsys_Challenge2024/CythonCompiler/compile_script.py SLIM_BPR_Cython_Epoch.pyx build_ext --inplace' returned non-zero exit status 1.\r\n",
      "Compiling [5/11]: SLIM_BPR_Cython_Epoch.pyx... FAIL: Command '/usr/bin/python3 /kaggle/working/RECsys_Challenge2024/CythonCompiler/compile_script.py SLIM_BPR_Cython_Epoch.pyx build_ext --inplace' returned non-zero exit status 1.\r\n",
      "\r\n",
      "Compiling [6/11]: Triangular_Matrix.pyx... \r\n",
      "warning: Triangular_Matrix.pyx:22:0: The 'IF' statement is deprecated and will be removed in a future Cython version. Consider using runtime conditions or C macros instead. See https://github.com/cython/cython/issues/4310\r\n",
      "In file included from \u001b[01m\u001b[K/usr/local/lib/python3.10/dist-packages/numpy/core/include/numpy/ndarraytypes.h:1929\u001b[m\u001b[K,\r\n",
      "                 from \u001b[01m\u001b[K/usr/local/lib/python3.10/dist-packages/numpy/core/include/numpy/ndarrayobject.h:12\u001b[m\u001b[K,\r\n",
      "                 from \u001b[01m\u001b[K/usr/local/lib/python3.10/dist-packages/numpy/core/include/numpy/arrayobject.h:5\u001b[m\u001b[K,\r\n",
      "                 from \u001b[01m\u001b[KTriangular_Matrix.c:1252\u001b[m\u001b[K:\r\n",
      "\u001b[01m\u001b[K/usr/local/lib/python3.10/dist-packages/numpy/core/include/numpy/npy_1_7_deprecated_api.h:17:2:\u001b[m\u001b[K \u001b[01;35m\u001b[Kwarning: \u001b[m\u001b[K#warning \"Using deprecated NumPy API, disable it with \" \"#define NPY_NO_DEPRECATED_API NPY_1_7_API_VERSION\" [\u001b[01;35m\u001b[K\u001b]8;;https://gcc.gnu.org/onlinedocs/gcc/Warning-Options.html#index-Wcpp\u0007-Wcpp\u001b]8;;\u0007\u001b[m\u001b[K]\r\n",
      "   17 | #\u001b[01;35m\u001b[Kwarning\u001b[m\u001b[K \"Using deprecated NumPy API, disable it with \" \\\r\n",
      "      |  \u001b[01;35m\u001b[K^~~~~~~\u001b[m\u001b[K\r\n",
      "In function ‘\u001b[01m\u001b[K__pyx_pf_17Triangular_Matrix_17Triangular_Matrix___init__\u001b[m\u001b[K’,\r\n",
      "    inlined from ‘\u001b[01m\u001b[K__pyx_pw_17Triangular_Matrix_17Triangular_Matrix_1__init__\u001b[m\u001b[K’ at \u001b[01m\u001b[KTriangular_Matrix.c:5541:13\u001b[m\u001b[K:\r\n",
      "\u001b[01m\u001b[KTriangular_Matrix.c:5599:43:\u001b[m\u001b[K \u001b[01;35m\u001b[Kwarning: \u001b[m\u001b[Kargument 1 value ‘\u001b[01m\u001b[K18446744073709551608\u001b[m\u001b[K’ exceeds maximum object size 9223372036854775807 [\u001b[01;35m\u001b[K\u001b]8;;https://gcc.gnu.org/onlinedocs/gcc/Warning-Options.html#index-Walloc-size-larger-than=\u0007-Walloc-size-larger-than=\u001b]8;;\u0007\u001b[m\u001b[K]\r\n",
      " 5599 |   __pyx_v_self->row_pointer = ((double **)\u001b[01;35m\u001b[Kmalloc((__pyx_v_self->num_rows * (sizeof(double *))))\u001b[m\u001b[K);\r\n",
      "      |                                           \u001b[01;35m\u001b[K^~~~~~~~~~~~~~~~~~~~~~~~~~~~~~~~~~~~~~~~~~~~~~~~~~~~~\u001b[m\u001b[K\r\n",
      "In file included from \u001b[01m\u001b[K/usr/include/python3.10/Python.h:34\u001b[m\u001b[K,\r\n",
      "                 from \u001b[01m\u001b[KTriangular_Matrix.c:41\u001b[m\u001b[K:\r\n",
      "\u001b[01m\u001b[KTriangular_Matrix.c:\u001b[m\u001b[K In function ‘\u001b[01m\u001b[K__pyx_pw_17Triangular_Matrix_17Triangular_Matrix_1__init__\u001b[m\u001b[K’:\r\n",
      "\u001b[01m\u001b[K/usr/include/stdlib.h:540:14:\u001b[m\u001b[K \u001b[01;36m\u001b[Knote: \u001b[m\u001b[Kin a call to allocation function ‘\u001b[01m\u001b[Kmalloc\u001b[m\u001b[K’ declared here\r\n",
      "  540 | extern void *\u001b[01;36m\u001b[Kmalloc\u001b[m\u001b[K (size_t __size) __THROW __attribute_malloc__\r\n",
      "      |              \u001b[01;36m\u001b[K^~~~~~\u001b[m\u001b[K\r\n",
      "/usr/local/lib/python3.10/dist-packages/Cython/Compiler/Main.py:381: FutureWarning: Cython directive 'language_level' not set, using '3str' for now (Py3). This has changed from earlier releases! File: /kaggle/working/RECsys_Challenge2024/Recommenders/SLIM/Cython/Triangular_Matrix.pyx\r\n",
      "  tree = Parsing.p_module(s, pxd, full_module_name)\r\n",
      "warning: Triangular_Matrix.pyx:22:0: The 'IF' statement is deprecated and will be removed in a future Cython version. Consider using runtime conditions or C macros instead. See https://github.com/cython/cython/issues/4310\r\n",
      "Compiling [6/11]: Triangular_Matrix.pyx... PASS\r\n",
      "\r\n",
      "Compiling [7/11]: FBSM_Rating_Cython_SGD.pyx... \r\n",
      "In file included from \u001b[01m\u001b[K/usr/local/lib/python3.10/dist-packages/numpy/core/include/numpy/ndarraytypes.h:1929\u001b[m\u001b[K,\r\n",
      "                 from \u001b[01m\u001b[K/usr/local/lib/python3.10/dist-packages/numpy/core/include/numpy/ndarrayobject.h:12\u001b[m\u001b[K,\r\n",
      "                 from \u001b[01m\u001b[K/usr/local/lib/python3.10/dist-packages/numpy/core/include/numpy/arrayobject.h:5\u001b[m\u001b[K,\r\n",
      "                 from \u001b[01m\u001b[KFBSM_Rating_Cython_SGD.c:1252\u001b[m\u001b[K:\r\n",
      "\u001b[01m\u001b[K/usr/local/lib/python3.10/dist-packages/numpy/core/include/numpy/npy_1_7_deprecated_api.h:17:2:\u001b[m\u001b[K \u001b[01;35m\u001b[Kwarning: \u001b[m\u001b[K#warning \"Using deprecated NumPy API, disable it with \" \"#define NPY_NO_DEPRECATED_API NPY_1_7_API_VERSION\" [\u001b[01;35m\u001b[K\u001b]8;;https://gcc.gnu.org/onlinedocs/gcc/Warning-Options.html#index-Wcpp\u0007-Wcpp\u001b]8;;\u0007\u001b[m\u001b[K]\r\n",
      "   17 | #\u001b[01;35m\u001b[Kwarning\u001b[m\u001b[K \"Using deprecated NumPy API, disable it with \" \\\r\n",
      "      |  \u001b[01;35m\u001b[K^~~~~~~\u001b[m\u001b[K\r\n",
      "\u001b[01m\u001b[KFBSM_Rating_Cython_SGD.c:\u001b[m\u001b[K In function ‘\u001b[01m\u001b[K__pyx_pf_22FBSM_Rating_Cython_SGD_22FBSM_Rating_Cython_SGD_2fit\u001b[m\u001b[K’:\r\n",
      "\u001b[01m\u001b[KFBSM_Rating_Cython_SGD.c:26607:55:\u001b[m\u001b[K \u001b[01;35m\u001b[Kwarning: \u001b[m\u001b[K‘\u001b[01m\u001b[K__pyx_v_num_sample\u001b[m\u001b[K’ may be used uninitialized in this function [\u001b[01;35m\u001b[K\u001b]8;;https://gcc.gnu.org/onlinedocs/gcc/Warning-Options.html#index-Wmaybe-uninitialized\u0007-Wmaybe-uninitialized\u001b]8;;\u0007\u001b[m\u001b[K]\r\n",
      "26607 |   __pyx_t_5 = PyFloat_FromDouble((__pyx_v_cum_loss / \u001b[01;35m\u001b[K((double)__pyx_v_num_sample)\u001b[m\u001b[K)); if (unlikely(!__pyx_t_5)) __PYX_ERR(0, 551, __pyx_L1_error)\r\n",
      "      |                                                      \u001b[01;35m\u001b[K~^~~~~~~~~~~~~~~~~~~~~~~~~~~\u001b[m\u001b[K\r\n",
      "/usr/local/lib/python3.10/dist-packages/Cython/Compiler/Main.py:381: FutureWarning: Cython directive 'language_level' not set, using '3str' for now (Py3). This has changed from earlier releases! File: /kaggle/working/RECsys_Challenge2024/Recommenders/FeatureWeighting/Cython/FBSM_Rating_Cython_SGD.pyx\r\n",
      "  tree = Parsing.p_module(s, pxd, full_module_name)\r\n",
      "Compiling [7/11]: FBSM_Rating_Cython_SGD.pyx... PASS\r\n",
      "\r\n",
      "Compiling [8/11]: HP3_Similarity_Cython_SGD.pyx... \r\n",
      "performance hint: HP3_Similarity_Cython_SGD.pyx:113:40: Index should be typed for more efficient access\r\n",
      "performance hint: HP3_Similarity_Cython_SGD.pyx:114:40: Index should be typed for more efficient access\r\n",
      "In file included from \u001b[01m\u001b[K/usr/local/lib/python3.10/dist-packages/numpy/core/include/numpy/ndarraytypes.h:1929\u001b[m\u001b[K,\r\n",
      "                 from \u001b[01m\u001b[K/usr/local/lib/python3.10/dist-packages/numpy/core/include/numpy/ndarrayobject.h:12\u001b[m\u001b[K,\r\n",
      "                 from \u001b[01m\u001b[K/usr/local/lib/python3.10/dist-packages/numpy/core/include/numpy/arrayobject.h:5\u001b[m\u001b[K,\r\n",
      "                 from \u001b[01m\u001b[KHP3_Similarity_Cython_SGD.c:1252\u001b[m\u001b[K:\r\n",
      "\u001b[01m\u001b[K/usr/local/lib/python3.10/dist-packages/numpy/core/include/numpy/npy_1_7_deprecated_api.h:17:2:\u001b[m\u001b[K \u001b[01;35m\u001b[Kwarning: \u001b[m\u001b[K#warning \"Using deprecated NumPy API, disable it with \" \"#define NPY_NO_DEPRECATED_API NPY_1_7_API_VERSION\" [\u001b[01;35m\u001b[K\u001b]8;;https://gcc.gnu.org/onlinedocs/gcc/Warning-Options.html#index-Wcpp\u0007-Wcpp\u001b]8;;\u0007\u001b[m\u001b[K]\r\n",
      "   17 | #\u001b[01;35m\u001b[Kwarning\u001b[m\u001b[K \"Using deprecated NumPy API, disable it with \" \\\r\n",
      "      |  \u001b[01;35m\u001b[K^~~~~~~\u001b[m\u001b[K\r\n",
      "\u001b[01m\u001b[KHP3_Similarity_Cython_SGD.c:\u001b[m\u001b[K In function ‘\u001b[01m\u001b[K__pyx_pf_25HP3_Similarity_Cython_SGD_25HP3_Similarity_Cython_SGD_4fit\u001b[m\u001b[K’:\r\n",
      "\u001b[01m\u001b[KHP3_Similarity_Cython_SGD.c:23631:55:\u001b[m\u001b[K \u001b[01;35m\u001b[Kwarning: \u001b[m\u001b[K‘\u001b[01m\u001b[K__pyx_v_sample_num\u001b[m\u001b[K’ may be used uninitialized in this function [\u001b[01;35m\u001b[K\u001b]8;;https://gcc.gnu.org/onlinedocs/gcc/Warning-Options.html#index-Wmaybe-uninitialized\u0007-Wmaybe-uninitialized\u001b]8;;\u0007\u001b[m\u001b[K]\r\n",
      "23631 |   __pyx_t_1 = PyFloat_FromDouble((__pyx_v_cum_loss / \u001b[01;35m\u001b[K((double)__pyx_v_sample_num)\u001b[m\u001b[K)); if (unlikely(!__pyx_t_1)) __PYX_ERR(0, 291, __pyx_L1_error)\r\n",
      "      |                                                      \u001b[01;35m\u001b[K~^~~~~~~~~~~~~~~~~~~~~~~~~~~\u001b[m\u001b[K\r\n",
      "/usr/local/lib/python3.10/dist-packages/Cython/Compiler/Main.py:381: FutureWarning: Cython directive 'language_level' not set, using '3str' for now (Py3). This has changed from earlier releases! File: /kaggle/working/RECsys_Challenge2024/Recommenders/FeatureWeighting/Cython/HP3_Similarity_Cython_SGD.pyx\r\n",
      "  tree = Parsing.p_module(s, pxd, full_module_name)\r\n",
      "performance hint: HP3_Similarity_Cython_SGD.pyx:113:40: Index should be typed for more efficient access\r\n",
      "performance hint: HP3_Similarity_Cython_SGD.pyx:114:40: Index should be typed for more efficient access\r\n",
      "Compiling [8/11]: HP3_Similarity_Cython_SGD.pyx... PASS\r\n",
      "\r\n",
      "Compiling [9/11]: CFW_D_Similarity_Cython_SGD.pyx... \r\n",
      "In file included from \u001b[01m\u001b[K/usr/local/lib/python3.10/dist-packages/numpy/core/include/numpy/ndarraytypes.h:1929\u001b[m\u001b[K,\r\n",
      "                 from \u001b[01m\u001b[K/usr/local/lib/python3.10/dist-packages/numpy/core/include/numpy/ndarrayobject.h:12\u001b[m\u001b[K,\r\n",
      "                 from \u001b[01m\u001b[K/usr/local/lib/python3.10/dist-packages/numpy/core/include/numpy/arrayobject.h:5\u001b[m\u001b[K,\r\n",
      "                 from \u001b[01m\u001b[KCFW_D_Similarity_Cython_SGD.c:1252\u001b[m\u001b[K:\r\n",
      "\u001b[01m\u001b[K/usr/local/lib/python3.10/dist-packages/numpy/core/include/numpy/npy_1_7_deprecated_api.h:17:2:\u001b[m\u001b[K \u001b[01;35m\u001b[Kwarning: \u001b[m\u001b[K#warning \"Using deprecated NumPy API, disable it with \" \"#define NPY_NO_DEPRECATED_API NPY_1_7_API_VERSION\" [\u001b[01;35m\u001b[K\u001b]8;;https://gcc.gnu.org/onlinedocs/gcc/Warning-Options.html#index-Wcpp\u0007-Wcpp\u001b]8;;\u0007\u001b[m\u001b[K]\r\n",
      "   17 | #\u001b[01;35m\u001b[Kwarning\u001b[m\u001b[K \"Using deprecated NumPy API, disable it with \" \\\r\n",
      "      |  \u001b[01;35m\u001b[K^~~~~~~\u001b[m\u001b[K\r\n",
      "\u001b[01m\u001b[KCFW_D_Similarity_Cython_SGD.c:\u001b[m\u001b[K In function ‘\u001b[01m\u001b[K__pyx_pf_27CFW_D_Similarity_Cython_SGD_27CFW_D_Similarity_Cython_SGD_6fit\u001b[m\u001b[K’:\r\n",
      "\u001b[01m\u001b[KCFW_D_Similarity_Cython_SGD.c:23373:55:\u001b[m\u001b[K \u001b[01;35m\u001b[Kwarning: \u001b[m\u001b[K‘\u001b[01m\u001b[K__pyx_v_sample_num\u001b[m\u001b[K’ may be used uninitialized in this function [\u001b[01;35m\u001b[K\u001b]8;;https://gcc.gnu.org/onlinedocs/gcc/Warning-Options.html#index-Wmaybe-uninitialized\u0007-Wmaybe-uninitialized\u001b]8;;\u0007\u001b[m\u001b[K]\r\n",
      "23373 |   __pyx_t_3 = PyFloat_FromDouble((__pyx_v_cum_loss / \u001b[01;35m\u001b[K((double)__pyx_v_sample_num)\u001b[m\u001b[K)); if (unlikely(!__pyx_t_3)) __PYX_ERR(0, 290, __pyx_L1_error)\r\n",
      "      |                                                      \u001b[01;35m\u001b[K~^~~~~~~~~~~~~~~~~~~~~~~~~~~\u001b[m\u001b[K\r\n",
      "/usr/local/lib/python3.10/dist-packages/Cython/Compiler/Main.py:381: FutureWarning: Cython directive 'language_level' not set, using '3str' for now (Py3). This has changed from earlier releases! File: /kaggle/working/RECsys_Challenge2024/Recommenders/FeatureWeighting/Cython/CFW_D_Similarity_Cython_SGD.pyx\r\n",
      "  tree = Parsing.p_module(s, pxd, full_module_name)\r\n",
      "Compiling [9/11]: CFW_D_Similarity_Cython_SGD.pyx... PASS\r\n",
      "\r\n",
      "Compiling [10/11]: CFW_DVV_Similarity_Cython_SGD.pyx... \r\n",
      "In file included from \u001b[01m\u001b[K/usr/local/lib/python3.10/dist-packages/numpy/core/include/numpy/ndarraytypes.h:1929\u001b[m\u001b[K,\r\n",
      "                 from \u001b[01m\u001b[K/usr/local/lib/python3.10/dist-packages/numpy/core/include/numpy/ndarrayobject.h:12\u001b[m\u001b[K,\r\n",
      "                 from \u001b[01m\u001b[K/usr/local/lib/python3.10/dist-packages/numpy/core/include/numpy/arrayobject.h:5\u001b[m\u001b[K,\r\n",
      "                 from \u001b[01m\u001b[KCFW_DVV_Similarity_Cython_SGD.c:1252\u001b[m\u001b[K:\r\n",
      "\u001b[01m\u001b[K/usr/local/lib/python3.10/dist-packages/numpy/core/include/numpy/npy_1_7_deprecated_api.h:17:2:\u001b[m\u001b[K \u001b[01;35m\u001b[Kwarning: \u001b[m\u001b[K#warning \"Using deprecated NumPy API, disable it with \" \"#define NPY_NO_DEPRECATED_API NPY_1_7_API_VERSION\" [\u001b[01;35m\u001b[K\u001b]8;;https://gcc.gnu.org/onlinedocs/gcc/Warning-Options.html#index-Wcpp\u0007-Wcpp\u001b]8;;\u0007\u001b[m\u001b[K]\r\n",
      "   17 | #\u001b[01;35m\u001b[Kwarning\u001b[m\u001b[K \"Using deprecated NumPy API, disable it with \" \\\r\n",
      "      |  \u001b[01;35m\u001b[K^~~~~~~\u001b[m\u001b[K\r\n",
      "/usr/local/lib/python3.10/dist-packages/Cython/Compiler/Main.py:381: FutureWarning: Cython directive 'language_level' not set, using '3str' for now (Py3). This has changed from earlier releases! File: /kaggle/working/RECsys_Challenge2024/Recommenders/FeatureWeighting/Cython/CFW_DVV_Similarity_Cython_SGD.pyx\r\n",
      "  tree = Parsing.p_module(s, pxd, full_module_name)\r\n",
      "Compiling [10/11]: CFW_DVV_Similarity_Cython_SGD.pyx... PASS\r\n",
      "\r\n",
      "Compiling [11/11]: DataIterator.pyx... \r\n",
      "In file included from \u001b[01m\u001b[K/usr/local/lib/python3.10/dist-packages/numpy/core/include/numpy/ndarraytypes.h:1929\u001b[m\u001b[K,\r\n",
      "                 from \u001b[01m\u001b[K/usr/local/lib/python3.10/dist-packages/numpy/core/include/numpy/ndarrayobject.h:12\u001b[m\u001b[K,\r\n",
      "                 from \u001b[01m\u001b[K/usr/local/lib/python3.10/dist-packages/numpy/core/include/numpy/arrayobject.h:5\u001b[m\u001b[K,\r\n",
      "                 from \u001b[01m\u001b[KDataIterator.c:1252\u001b[m\u001b[K:\r\n",
      "\u001b[01m\u001b[K/usr/local/lib/python3.10/dist-packages/numpy/core/include/numpy/npy_1_7_deprecated_api.h:17:2:\u001b[m\u001b[K \u001b[01;35m\u001b[Kwarning: \u001b[m\u001b[K#warning \"Using deprecated NumPy API, disable it with \" \"#define NPY_NO_DEPRECATED_API NPY_1_7_API_VERSION\" [\u001b[01;35m\u001b[K\u001b]8;;https://gcc.gnu.org/onlinedocs/gcc/Warning-Options.html#index-Wcpp\u0007-Wcpp\u001b]8;;\u0007\u001b[m\u001b[K]\r\n",
      "   17 | #\u001b[01;35m\u001b[Kwarning\u001b[m\u001b[K \"Using deprecated NumPy API, disable it with \" \\\r\n",
      "      |  \u001b[01;35m\u001b[K^~~~~~~\u001b[m\u001b[K\r\n",
      "\u001b[01m\u001b[KDataIterator.c:\u001b[m\u001b[K In function ‘\u001b[01m\u001b[K__pyx_pf_12DataIterator_19InteractionIterator_6__next__\u001b[m\u001b[K’:\r\n",
      "\u001b[01m\u001b[KDataIterator.c:20937:22:\u001b[m\u001b[K \u001b[01;35m\u001b[Kwarning: \u001b[m\u001b[K‘\u001b[01m\u001b[K__pyx_v_i_batch\u001b[m\u001b[K’ may be used uninitialized in this function [\u001b[01;35m\u001b[K\u001b]8;;https://gcc.gnu.org/onlinedocs/gcc/Warning-Options.html#index-Wmaybe-uninitialized\u0007-Wmaybe-uninitialized\u001b]8;;\u0007\u001b[m\u001b[K]\r\n",
      "20937 |     (__pyx_v_i_batch \u001b[01;35m\u001b[K+\u001b[m\u001b[K 1),\r\n",
      "      |                      \u001b[01;35m\u001b[K^\u001b[m\u001b[K\r\n",
      "\u001b[01m\u001b[KDataIterator.c:\u001b[m\u001b[K In function ‘\u001b[01m\u001b[K__pyx_pf_12DataIterator_30InteractionAndNegativeIterator_6__next__\u001b[m\u001b[K’:\r\n",
      "\u001b[01m\u001b[KDataIterator.c:25499:22:\u001b[m\u001b[K \u001b[01;35m\u001b[Kwarning: \u001b[m\u001b[K‘\u001b[01m\u001b[K__pyx_v_i_batch\u001b[m\u001b[K’ may be used uninitialized in this function [\u001b[01;35m\u001b[K\u001b]8;;https://gcc.gnu.org/onlinedocs/gcc/Warning-Options.html#index-Wmaybe-uninitialized\u0007-Wmaybe-uninitialized\u001b]8;;\u0007\u001b[m\u001b[K]\r\n",
      "25499 |     (__pyx_v_i_batch \u001b[01;35m\u001b[K+\u001b[m\u001b[K 1),\r\n",
      "      |                      \u001b[01;35m\u001b[K^\u001b[m\u001b[K\r\n",
      "\u001b[01m\u001b[KDataIterator.c:\u001b[m\u001b[K In function ‘\u001b[01m\u001b[K__pyx_pf_12DataIterator_11BPRIterator_6__next__\u001b[m\u001b[K’:\r\n",
      "\u001b[01m\u001b[KDataIterator.c:23056:22:\u001b[m\u001b[K \u001b[01;35m\u001b[Kwarning: \u001b[m\u001b[K‘\u001b[01m\u001b[K__pyx_v_i_batch\u001b[m\u001b[K’ may be used uninitialized in this function [\u001b[01;35m\u001b[K\u001b]8;;https://gcc.gnu.org/onlinedocs/gcc/Warning-Options.html#index-Wmaybe-uninitialized\u0007-Wmaybe-uninitialized\u001b]8;;\u0007\u001b[m\u001b[K]\r\n",
      "23056 |     (__pyx_v_i_batch \u001b[01;35m\u001b[K+\u001b[m\u001b[K 1),\r\n",
      "      |                      \u001b[01;35m\u001b[K^\u001b[m\u001b[K\r\n",
      "/usr/local/lib/python3.10/dist-packages/Cython/Compiler/Main.py:381: FutureWarning: Cython directive 'language_level' not set, using '3str' for now (Py3). This has changed from earlier releases! File: /kaggle/working/RECsys_Challenge2024/Utils/PyTorch/Cython/DataIterator.pyx\r\n",
      "  tree = Parsing.p_module(s, pxd, full_module_name)\r\n",
      "Compiling [11/11]: DataIterator.pyx... PASS\r\n",
      "\r\n",
      "run_compile_all_cython: Compilation finished. FAILS 2/11.\r\n",
      "Compilation log can be found here: './result_experiments/run_compile_all_cython.txt'\r\n"
     ]
    }
   ],
   "source": [
    "%cd /kaggle/working/RECsys_Challenge2024 \n",
    "! python run_compile_all_cython.py"
   ]
  },
  {
   "cell_type": "code",
   "execution_count": 5,
   "id": "35ba5779",
   "metadata": {
    "execution": {
     "iopub.execute_input": "2024-12-24T00:28:29.028427Z",
     "iopub.status.busy": "2024-12-24T00:28:29.027993Z",
     "iopub.status.idle": "2024-12-24T00:28:30.473825Z",
     "shell.execute_reply": "2024-12-24T00:28:30.472592Z"
    },
    "papermill": {
     "duration": 1.462373,
     "end_time": "2024-12-24T00:28:30.475941",
     "exception": false,
     "start_time": "2024-12-24T00:28:29.013568",
     "status": "completed"
    },
    "tags": []
   },
   "outputs": [],
   "source": [
    "from Utils.notebookFunctions import *\n",
    "import numpy as np\n",
    "import pandas as pd\n",
    "import scipy.sparse as sps\n",
    "import time\n",
    "import shutil\n",
    "import optuna\n",
    "import json\n",
    "import os\n",
    "from Utils.seconds_to_biggest_unit import seconds_to_biggest_unit\n",
    "\n",
    "\n",
    "K_PATH = '/kaggle/working/RECsys_Challenge2024'\n",
    "GH_PATH = 'TrainedModels/WithoutKFCV/GraphBased'\n",
    "\n",
    "np.random.seed(42)"
   ]
  },
  {
   "cell_type": "markdown",
   "id": "c8fafb50",
   "metadata": {
    "papermill": {
     "duration": 0.01316,
     "end_time": "2024-12-24T00:28:30.502934",
     "exception": false,
     "start_time": "2024-12-24T00:28:30.489774",
     "status": "completed"
    },
    "tags": []
   },
   "source": [
    "## Import the repository"
   ]
  },
  {
   "cell_type": "code",
   "execution_count": 6,
   "id": "9c11bfee",
   "metadata": {
    "execution": {
     "iopub.execute_input": "2024-12-24T00:28:30.532960Z",
     "iopub.status.busy": "2024-12-24T00:28:30.532453Z",
     "iopub.status.idle": "2024-12-24T00:28:30.818544Z",
     "shell.execute_reply": "2024-12-24T00:28:30.817302Z"
    },
    "papermill": {
     "duration": 0.30279,
     "end_time": "2024-12-24T00:28:30.820452",
     "exception": false,
     "start_time": "2024-12-24T00:28:30.517662",
     "status": "completed"
    },
    "tags": []
   },
   "outputs": [
    {
     "name": "stdout",
     "output_type": "stream",
     "text": [
      "Repository 'RECsys_Challenge2024' found.\n"
     ]
    }
   ],
   "source": [
    "repo = get_repo_from_github(token)"
   ]
  },
  {
   "cell_type": "code",
   "execution_count": 7,
   "id": "041e0476",
   "metadata": {
    "execution": {
     "iopub.execute_input": "2024-12-24T00:28:30.850062Z",
     "iopub.status.busy": "2024-12-24T00:28:30.849710Z",
     "iopub.status.idle": "2024-12-24T00:28:30.854541Z",
     "shell.execute_reply": "2024-12-24T00:28:30.853368Z"
    },
    "papermill": {
     "duration": 0.022063,
     "end_time": "2024-12-24T00:28:30.856288",
     "exception": false,
     "start_time": "2024-12-24T00:28:30.834225",
     "status": "completed"
    },
    "tags": []
   },
   "outputs": [],
   "source": [
    "config = {\n",
    "    'model': 'RP3betaICM',\n",
    "    'metric': 'MAP',\n",
    "    'tune_parameters': True,\n",
    "    'database_path': '/kaggle/working/history_RP3betaICM_MAP.db',\n",
    "    'copy_prev_best_params': False,\n",
    "    'tune_best_params': True,\n",
    "    'save_github': True\n",
    "}"
   ]
  },
  {
   "cell_type": "markdown",
   "id": "217b14d4",
   "metadata": {
    "papermill": {
     "duration": 0.013103,
     "end_time": "2024-12-24T00:28:30.883042",
     "exception": false,
     "start_time": "2024-12-24T00:28:30.869939",
     "status": "completed"
    },
    "tags": []
   },
   "source": [
    "Import the database where previous tuning trials have been saved."
   ]
  },
  {
   "cell_type": "code",
   "execution_count": 8,
   "id": "af134cd2",
   "metadata": {
    "execution": {
     "iopub.execute_input": "2024-12-24T00:28:30.911507Z",
     "iopub.status.busy": "2024-12-24T00:28:30.911081Z",
     "iopub.status.idle": "2024-12-24T00:28:30.916263Z",
     "shell.execute_reply": "2024-12-24T00:28:30.915241Z"
    },
    "papermill": {
     "duration": 0.021105,
     "end_time": "2024-12-24T00:28:30.917858",
     "exception": false,
     "start_time": "2024-12-24T00:28:30.896753",
     "status": "completed"
    },
    "tags": []
   },
   "outputs": [],
   "source": [
    "try:\n",
    "    shutil.copyfile(\n",
    "        f'{K_PATH}/{GH_PATH}/{config[\"model\"]}Recommender/Optimizing{config[\"metric\"]}/history_{config[\"model\"]}_{config[\"metric\"]}.db', \n",
    "        config['database_path']\n",
    "    )\n",
    "except FileNotFoundError:\n",
    "    pass # if not present optuna will create it"
   ]
  },
  {
   "cell_type": "markdown",
   "id": "63aa5812",
   "metadata": {
    "papermill": {
     "duration": 0.012919,
     "end_time": "2024-12-24T00:28:30.944819",
     "exception": false,
     "start_time": "2024-12-24T00:28:30.931900",
     "status": "completed"
    },
    "tags": []
   },
   "source": [
    "# Construction of URM and ICM matrices"
   ]
  },
  {
   "cell_type": "code",
   "execution_count": 9,
   "id": "e9e4d45a",
   "metadata": {
    "execution": {
     "iopub.execute_input": "2024-12-24T00:28:30.973422Z",
     "iopub.status.busy": "2024-12-24T00:28:30.973043Z",
     "iopub.status.idle": "2024-12-24T00:28:31.844197Z",
     "shell.execute_reply": "2024-12-24T00:28:31.843011Z"
    },
    "papermill": {
     "duration": 0.88714,
     "end_time": "2024-12-24T00:28:31.846185",
     "exception": false,
     "start_time": "2024-12-24T00:28:30.959045",
     "status": "completed"
    },
    "tags": []
   },
   "outputs": [
    {
     "data": {
      "text/plain": [
       "<35736x38121 sparse matrix of type '<class 'numpy.float64'>'\n",
       "\twith 1764607 stored elements in Compressed Sparse Row format>"
      ]
     },
     "execution_count": 9,
     "metadata": {},
     "output_type": "execute_result"
    }
   ],
   "source": [
    "URM_all_dataframe = pd.read_csv(\"/kaggle/input/recommender-system-2024-challenge-polimi/data_train.csv\")\n",
    "\n",
    "n_users = len(URM_all_dataframe[\"user_id\"].unique())\n",
    "n_items = len(URM_all_dataframe[\"item_id\"].unique())\n",
    "\n",
    "URM_all = sps.csr_matrix((URM_all_dataframe[\"data\"].values, \n",
    "                          (URM_all_dataframe[\"user_id\"].values, URM_all_dataframe[\"item_id\"].values)),\n",
    "                        shape = (n_users, n_items))\n",
    "\n",
    "URM_all"
   ]
  },
  {
   "cell_type": "code",
   "execution_count": 10,
   "id": "d9ce697b",
   "metadata": {
    "execution": {
     "iopub.execute_input": "2024-12-24T00:28:31.874955Z",
     "iopub.status.busy": "2024-12-24T00:28:31.874613Z",
     "iopub.status.idle": "2024-12-24T00:28:33.184082Z",
     "shell.execute_reply": "2024-12-24T00:28:33.183244Z"
    },
    "papermill": {
     "duration": 1.326029,
     "end_time": "2024-12-24T00:28:33.186144",
     "exception": false,
     "start_time": "2024-12-24T00:28:31.860115",
     "status": "completed"
    },
    "tags": []
   },
   "outputs": [
    {
     "data": {
      "text/plain": [
       "<38121x94331 sparse matrix of type '<class 'numpy.float64'>'\n",
       "\twith 2940040 stored elements in Compressed Sparse Row format>"
      ]
     },
     "execution_count": 10,
     "metadata": {},
     "output_type": "execute_result"
    }
   ],
   "source": [
    "ICM_dataframe = pd.read_csv(\"/kaggle/input/recommender-system-2024-challenge-polimi/data_ICM_metadata.csv\")\n",
    "\n",
    "n_items = len(ICM_dataframe[\"item_id\"].unique())\n",
    "n_features = len(ICM_dataframe[\"feature_id\"].unique())\n",
    "\n",
    "ICM_all = sps.csr_matrix((ICM_dataframe[\"data\"].values, \n",
    "                          (ICM_dataframe[\"item_id\"].values, ICM_dataframe[\"feature_id\"].values)),\n",
    "                        shape = (n_items, n_features))\n",
    "\n",
    "ICM_all"
   ]
  },
  {
   "cell_type": "markdown",
   "id": "ab2abfe8",
   "metadata": {
    "papermill": {
     "duration": 0.013141,
     "end_time": "2024-12-24T00:28:33.213000",
     "exception": false,
     "start_time": "2024-12-24T00:28:33.199859",
     "status": "completed"
    },
    "tags": []
   },
   "source": [
    "# Training"
   ]
  },
  {
   "cell_type": "code",
   "execution_count": 11,
   "id": "9f8c8612",
   "metadata": {
    "execution": {
     "iopub.execute_input": "2024-12-24T00:28:33.241592Z",
     "iopub.status.busy": "2024-12-24T00:28:33.241240Z",
     "iopub.status.idle": "2024-12-24T00:28:36.365603Z",
     "shell.execute_reply": "2024-12-24T00:28:36.364142Z"
    },
    "papermill": {
     "duration": 3.140908,
     "end_time": "2024-12-24T00:28:36.367651",
     "exception": false,
     "start_time": "2024-12-24T00:28:33.226743",
     "status": "completed"
    },
    "tags": []
   },
   "outputs": [
    {
     "name": "stdout",
     "output_type": "stream",
     "text": [
      "Warning: 141 (0.39 %) of 35736 users have no sampled items\n",
      "EvaluatorHoldout: Ignoring 141 ( 0.4%) Users that have less than 1 test interactions\n"
     ]
    }
   ],
   "source": [
    "from Evaluation.Evaluator import EvaluatorHoldout\n",
    "from Data_manager.split_functions.split_train_validation_random_holdout import split_train_in_two_percentage_global_sample\n",
    "\n",
    "URM_train, URM_validation = split_train_in_two_percentage_global_sample(URM_all, train_percentage = 0.80)\n",
    "\n",
    "evaluator_validation = EvaluatorHoldout(URM_validation, cutoff_list=[10])"
   ]
  },
  {
   "cell_type": "code",
   "execution_count": 12,
   "id": "814b1cb9",
   "metadata": {
    "execution": {
     "iopub.execute_input": "2024-12-24T00:28:36.396831Z",
     "iopub.status.busy": "2024-12-24T00:28:36.396418Z",
     "iopub.status.idle": "2024-12-24T00:28:37.471466Z",
     "shell.execute_reply": "2024-12-24T00:28:37.470314Z"
    },
    "papermill": {
     "duration": 1.091982,
     "end_time": "2024-12-24T00:28:37.473601",
     "exception": false,
     "start_time": "2024-12-24T00:28:36.381619",
     "status": "completed"
    },
    "tags": []
   },
   "outputs": [],
   "source": [
    "from Recommenders.GraphBased.RP3betaRecommender import RP3betaRecommender\n",
    "from Recommenders.KNN.ItemKNNCustomSimilarityRecommender import ItemKNNCustomSimilarityRecommender\n",
    "\n",
    "def objective_function_RP3beta(optuna_trial):\n",
    "    \n",
    "    rp3beta_icm_recommender = RP3betaRecommender(ICM_all.T)\n",
    "    \n",
    "    full_hyperp = {\n",
    "                    \"topK\": optuna_trial.suggest_int(\"topK\", 0, 1500),\n",
    "                   \"alpha\": optuna_trial.suggest_float(\"alpha\", 0, 3, log=False),\n",
    "                   \"beta\": optuna_trial.suggest_float(\"beta\", 0, 3, log=False),\n",
    "                   \"normalize_similarity\": optuna_trial.suggest_categorical(\"normalize_similarity\", [True, False]),\n",
    "                   \"implicit\": optuna_trial.suggest_categorical(\"implicit\", [True, False]),\n",
    "                  }        \n",
    "    \n",
    "    rp3beta_icm_recommender.fit(**full_hyperp)\n",
    "    \n",
    "    recommender_instance = ItemKNNCustomSimilarityRecommender(URM_train)\n",
    "    recommender_instance.fit(rp3beta_icm_recommender.W_sparse)\n",
    "    \n",
    "    result_df, _ = evaluator_validation.evaluateRecommender(recommender_instance)\n",
    "    \n",
    "    return result_df.loc[10][\"MAP\"]"
   ]
  },
  {
   "cell_type": "code",
   "execution_count": 13,
   "id": "ee121f87",
   "metadata": {
    "_kg_hide-output": true,
    "execution": {
     "iopub.execute_input": "2024-12-24T00:28:37.502526Z",
     "iopub.status.busy": "2024-12-24T00:28:37.501950Z",
     "iopub.status.idle": "2024-12-24T07:36:00.067435Z",
     "shell.execute_reply": "2024-12-24T07:36:00.065993Z"
    },
    "papermill": {
     "duration": 25642.58451,
     "end_time": "2024-12-24T07:36:00.071940",
     "exception": false,
     "start_time": "2024-12-24T00:28:37.487430",
     "status": "completed"
    },
    "tags": []
   },
   "outputs": [
    {
     "name": "stderr",
     "output_type": "stream",
     "text": [
      "[I 2024-12-24 00:28:38,818] A new study created in RDB with name: hyperparameters_tuning_RP3betaICM_MAP\n"
     ]
    },
    {
     "name": "stdout",
     "output_type": "stream",
     "text": [
      "RP3betaRecommender: Similarity column 38121 (100.0%), 290.46 column/sec. Elapsed time 2.19 min\n",
      "EvaluatorHoldout: Processed 35595 (100.0%) in 1.07 min. Users per second: 556\n"
     ]
    },
    {
     "name": "stderr",
     "output_type": "stream",
     "text": [
      "[I 2024-12-24 00:32:50,327] Trial 0 finished with value: 0.006955000813829319 and parameters: {'topK': 1492, 'alpha': 1.7460974509917935, 'beta': 0.1911757050046814, 'normalize_similarity': False, 'implicit': True}. Best is trial 0 with value: 0.006955000813829319.\n"
     ]
    },
    {
     "name": "stdout",
     "output_type": "stream",
     "text": [
      "RP3betaRecommender: Similarity column 38121 (100.0%), 312.39 column/sec. Elapsed time 2.03 min\n",
      "EvaluatorHoldout: Processed 35595 (100.0%) in 51.36 sec. Users per second: 693\n"
     ]
    },
    {
     "name": "stderr",
     "output_type": "stream",
     "text": [
      "[I 2024-12-24 00:36:18,007] Trial 1 finished with value: 0.004003837260895806 and parameters: {'topK': 1333, 'alpha': 1.4854859958756612, 'beta': 2.347751947736217, 'normalize_similarity': True, 'implicit': True}. Best is trial 0 with value: 0.006955000813829319.\n"
     ]
    },
    {
     "name": "stdout",
     "output_type": "stream",
     "text": [
      "RP3betaRecommender: Similarity column 38121 (100.0%), 347.10 column/sec. Elapsed time 1.83 min\n",
      "EvaluatorHoldout: Processed 35595 (100.0%) in 1.00 min. Users per second: 592\n"
     ]
    },
    {
     "name": "stderr",
     "output_type": "stream",
     "text": [
      "[I 2024-12-24 00:39:53,199] Trial 2 finished with value: 0.00629727177662281 and parameters: {'topK': 1077, 'alpha': 2.9490995074142052, 'beta': 0.9859677515925422, 'normalize_similarity': False, 'implicit': True}. Best is trial 0 with value: 0.006955000813829319.\n"
     ]
    },
    {
     "name": "stdout",
     "output_type": "stream",
     "text": [
      "RP3betaRecommender: Similarity column 38121 (100.0%), 316.83 column/sec. Elapsed time 2.01 min\n",
      "EvaluatorHoldout: Processed 35595 (100.0%) in 1.07 min. Users per second: 554\n"
     ]
    },
    {
     "name": "stderr",
     "output_type": "stream",
     "text": [
      "[I 2024-12-24 00:43:54,755] Trial 3 finished with value: 0.006152528333522871 and parameters: {'topK': 1293, 'alpha': 2.7297917494142587, 'beta': 1.9597635406871374, 'normalize_similarity': False, 'implicit': True}. Best is trial 0 with value: 0.006955000813829319.\n"
     ]
    },
    {
     "name": "stdout",
     "output_type": "stream",
     "text": [
      "RP3betaRecommender: Similarity column 38121 (100.0%), 584.43 column/sec. Elapsed time 1.09 min\n",
      "EvaluatorHoldout: Processed 35595 (100.0%) in 42.81 sec. Users per second: 831\n"
     ]
    },
    {
     "name": "stderr",
     "output_type": "stream",
     "text": [
      "[I 2024-12-24 00:45:55,206] Trial 4 finished with value: 0.008852048062751947 and parameters: {'topK': 259, 'alpha': 1.2116643990426135, 'beta': 0.7064672669893378, 'normalize_similarity': False, 'implicit': False}. Best is trial 4 with value: 0.008852048062751947.\n"
     ]
    },
    {
     "name": "stdout",
     "output_type": "stream",
     "text": [
      "RP3betaRecommender: Similarity column 38121 (100.0%), 627.52 column/sec. Elapsed time 1.01 min\n",
      "EvaluatorHoldout: Processed 35595 (100.0%) in 39.72 sec. Users per second: 896\n"
     ]
    },
    {
     "name": "stderr",
     "output_type": "stream",
     "text": [
      "[I 2024-12-24 00:47:43,869] Trial 5 finished with value: 0.006060187693563195 and parameters: {'topK': 197, 'alpha': 1.753183894554759, 'beta': 1.657159230192423, 'normalize_similarity': False, 'implicit': False}. Best is trial 4 with value: 0.008852048062751947.\n"
     ]
    },
    {
     "name": "stdout",
     "output_type": "stream",
     "text": [
      "RP3betaRecommender: Similarity column 38121 (100.0%), 491.72 column/sec. Elapsed time 1.29 min\n",
      "EvaluatorHoldout: Processed 35595 (100.0%) in 36.53 sec. Users per second: 974\n"
     ]
    },
    {
     "name": "stderr",
     "output_type": "stream",
     "text": [
      "[I 2024-12-24 00:49:45,649] Trial 6 finished with value: 0.004111397623618421 and parameters: {'topK': 492, 'alpha': 0.7669501205205087, 'beta': 1.9419728542105017, 'normalize_similarity': False, 'implicit': False}. Best is trial 4 with value: 0.008852048062751947.\n"
     ]
    },
    {
     "name": "stdout",
     "output_type": "stream",
     "text": [
      "RP3betaRecommender: Similarity column 38121 (100.0%), 479.48 column/sec. Elapsed time 1.33 min\n",
      "EvaluatorHoldout: Processed 35595 (100.0%) in 48.65 sec. Users per second: 732\n"
     ]
    },
    {
     "name": "stderr",
     "output_type": "stream",
     "text": [
      "[I 2024-12-24 00:52:15,049] Trial 7 finished with value: 0.009696914360631382 and parameters: {'topK': 483, 'alpha': 2.4630561682203416, 'beta': 0.8623295787272951, 'normalize_similarity': True, 'implicit': True}. Best is trial 7 with value: 0.009696914360631382.\n"
     ]
    },
    {
     "name": "stdout",
     "output_type": "stream",
     "text": [
      "RP3betaRecommender: Similarity column 38121 (100.0%), 450.61 column/sec. Elapsed time 1.41 min\n",
      "EvaluatorHoldout: Processed 35595 (100.0%) in 1.05 min. Users per second: 567\n"
     ]
    },
    {
     "name": "stderr",
     "output_type": "stream",
     "text": [
      "[I 2024-12-24 00:55:05,914] Trial 8 finished with value: 0.007295051025982387 and parameters: {'topK': 585, 'alpha': 1.4697636757027712, 'beta': 1.441458441204304, 'normalize_similarity': True, 'implicit': True}. Best is trial 7 with value: 0.009696914360631382.\n"
     ]
    },
    {
     "name": "stdout",
     "output_type": "stream",
     "text": [
      "RP3betaRecommender: Similarity column 38121 (100.0%), 649.82 column/sec. Elapsed time 58.66 sec\n",
      "EvaluatorHoldout: Processed 35595 (100.0%) in 33.13 sec. Users per second: 1074\n"
     ]
    },
    {
     "name": "stderr",
     "output_type": "stream",
     "text": [
      "[I 2024-12-24 00:56:40,521] Trial 9 finished with value: 0.0020743059596831158 and parameters: {'topK': 176, 'alpha': 0.38534211305287713, 'beta': 1.8738506398308974, 'normalize_similarity': True, 'implicit': False}. Best is trial 7 with value: 0.009696914360631382.\n"
     ]
    },
    {
     "name": "stdout",
     "output_type": "stream",
     "text": [
      "RP3betaRecommender: Similarity column 38121 (100.0%), 376.35 column/sec. Elapsed time 1.69 min\n",
      "EvaluatorHoldout: Processed 35595 (100.0%) in 55.64 sec. Users per second: 640\n"
     ]
    },
    {
     "name": "stderr",
     "output_type": "stream",
     "text": [
      "[I 2024-12-24 00:59:52,223] Trial 10 finished with value: 0.009086452083291705 and parameters: {'topK': 866, 'alpha': 2.3898949834609127, 'beta': 0.058840612049587016, 'normalize_similarity': True, 'implicit': True}. Best is trial 7 with value: 0.009696914360631382.\n"
     ]
    },
    {
     "name": "stdout",
     "output_type": "stream",
     "text": [
      "RP3betaRecommender: Similarity column 38121 (100.0%), 371.21 column/sec. Elapsed time 1.71 min\n",
      "EvaluatorHoldout: Processed 35595 (100.0%) in 55.64 sec. Users per second: 640\n"
     ]
    },
    {
     "name": "stderr",
     "output_type": "stream",
     "text": [
      "[I 2024-12-24 01:03:04,728] Trial 11 finished with value: 0.00901820190547557 and parameters: {'topK': 890, 'alpha': 2.3705499575391746, 'beta': 0.00670679214483378, 'normalize_similarity': True, 'implicit': True}. Best is trial 7 with value: 0.009696914360631382.\n"
     ]
    },
    {
     "name": "stdout",
     "output_type": "stream",
     "text": [
      "RP3betaRecommender: Similarity column 38121 (100.0%), 374.88 column/sec. Elapsed time 1.69 min\n",
      "EvaluatorHoldout: Processed 35595 (100.0%) in 56.63 sec. Users per second: 629\n"
     ]
    },
    {
     "name": "stderr",
     "output_type": "stream",
     "text": [
      "[I 2024-12-24 01:06:20,232] Trial 12 finished with value: 0.010103978398963874 and parameters: {'topK': 828, 'alpha': 2.2515171209234257, 'beta': 0.6214979068432124, 'normalize_similarity': True, 'implicit': True}. Best is trial 12 with value: 0.010103978398963874.\n"
     ]
    },
    {
     "name": "stdout",
     "output_type": "stream",
     "text": [
      "RP3betaRecommender: Similarity column 38121 (100.0%), 449.51 column/sec. Elapsed time 1.41 min\n",
      "EvaluatorHoldout: Processed 35595 (100.0%) in 51.62 sec. Users per second: 690\n"
     ]
    },
    {
     "name": "stderr",
     "output_type": "stream",
     "text": [
      "[I 2024-12-24 01:09:00,920] Trial 13 finished with value: 0.010042351453856102 and parameters: {'topK': 566, 'alpha': 2.302363026312677, 'beta': 0.7250172822837355, 'normalize_similarity': True, 'implicit': True}. Best is trial 12 with value: 0.010103978398963874.\n"
     ]
    },
    {
     "name": "stdout",
     "output_type": "stream",
     "text": [
      "RP3betaRecommender: Similarity column 38121 (100.0%), 414.90 column/sec. Elapsed time 1.53 min\n",
      "EvaluatorHoldout: Processed 35595 (100.0%) in 54.27 sec. Users per second: 656\n"
     ]
    },
    {
     "name": "stderr",
     "output_type": "stream",
     "text": [
      "[I 2024-12-24 01:11:57,108] Trial 14 finished with value: 0.010257217996999106 and parameters: {'topK': 697, 'alpha': 2.1699173109335614, 'beta': 0.599443868135427, 'normalize_similarity': True, 'implicit': True}. Best is trial 14 with value: 0.010257217996999106.\n"
     ]
    },
    {
     "name": "stdout",
     "output_type": "stream",
     "text": [
      "RP3betaRecommender: Similarity column 38121 (100.0%), 403.83 column/sec. Elapsed time 1.57 min\n",
      "EvaluatorHoldout: Processed 35595 (100.0%) in 44.49 sec. Users per second: 800\n"
     ]
    },
    {
     "name": "stderr",
     "output_type": "stream",
     "text": [
      "[I 2024-12-24 01:14:34,899] Trial 15 finished with value: 0.0033975400058416983 and parameters: {'topK': 767, 'alpha': 1.782552682395514, 'beta': 2.9365776812616664, 'normalize_similarity': True, 'implicit': True}. Best is trial 14 with value: 0.010257217996999106.\n"
     ]
    },
    {
     "name": "stdout",
     "output_type": "stream",
     "text": [
      "RP3betaRecommender: Similarity column 38121 (100.0%), 344.04 column/sec. Elapsed time 1.85 min\n",
      "EvaluatorHoldout: Processed 35595 (100.0%) in 1.01 min. Users per second: 588\n"
     ]
    },
    {
     "name": "stderr",
     "output_type": "stream",
     "text": [
      "[I 2024-12-24 01:18:11,161] Trial 16 finished with value: 0.010439102156759372 and parameters: {'topK': 1072, 'alpha': 2.0591612476498673, 'beta': 0.47063331816915244, 'normalize_similarity': True, 'implicit': True}. Best is trial 16 with value: 0.010439102156759372.\n"
     ]
    },
    {
     "name": "stdout",
     "output_type": "stream",
     "text": [
      "RP3betaRecommender: Similarity column 38121 (100.0%), 347.25 column/sec. Elapsed time 1.83 min\n",
      "EvaluatorHoldout: Processed 35595 (100.0%) in 1.04 min. Users per second: 572\n"
     ]
    },
    {
     "name": "stderr",
     "output_type": "stream",
     "text": [
      "[I 2024-12-24 01:21:52,574] Trial 17 finished with value: 0.009670387984758156 and parameters: {'topK': 1077, 'alpha': 1.9815773301335113, 'beta': 1.1179514718107508, 'normalize_similarity': True, 'implicit': True}. Best is trial 16 with value: 0.010439102156759372.\n"
     ]
    },
    {
     "name": "stdout",
     "output_type": "stream",
     "text": [
      "RP3betaRecommender: Similarity column 38121 (100.0%), 343.56 column/sec. Elapsed time 1.85 min\n",
      "EvaluatorHoldout: Processed 35595 (100.0%) in 1.00 min. Users per second: 591\n"
     ]
    },
    {
     "name": "stderr",
     "output_type": "stream",
     "text": [
      "[I 2024-12-24 01:25:27,331] Trial 18 finished with value: 0.01315999661090301 and parameters: {'topK': 1078, 'alpha': 1.1968601172289, 'beta': 0.33101606827355495, 'normalize_similarity': True, 'implicit': False}. Best is trial 18 with value: 0.01315999661090301.\n"
     ]
    },
    {
     "name": "stdout",
     "output_type": "stream",
     "text": [
      "RP3betaRecommender: Similarity column 38121 (100.0%), 343.81 column/sec. Elapsed time 1.85 min\n",
      "EvaluatorHoldout: Processed 35595 (100.0%) in 59.89 sec. Users per second: 594\n"
     ]
    },
    {
     "name": "stderr",
     "output_type": "stream",
     "text": [
      "[I 2024-12-24 01:29:01,333] Trial 19 finished with value: 0.014055765144471818 and parameters: {'topK': 1080, 'alpha': 0.9648230734527306, 'beta': 0.3248879865232761, 'normalize_similarity': True, 'implicit': False}. Best is trial 19 with value: 0.014055765144471818.\n"
     ]
    },
    {
     "name": "stdout",
     "output_type": "stream",
     "text": [
      "RP3betaRecommender: Similarity column 38121 (100.0%), 326.45 column/sec. Elapsed time 1.95 min\n",
      "EvaluatorHoldout: Processed 35595 (100.0%) in 58.31 sec. Users per second: 610\n"
     ]
    },
    {
     "name": "stderr",
     "output_type": "stream",
     "text": [
      "[I 2024-12-24 01:32:40,968] Trial 20 finished with value: 0.007789414421947156 and parameters: {'topK': 1207, 'alpha': 1.015004409655968, 'beta': 1.2067804986634327, 'normalize_similarity': True, 'implicit': False}. Best is trial 19 with value: 0.014055765144471818.\n"
     ]
    },
    {
     "name": "stdout",
     "output_type": "stream",
     "text": [
      "RP3betaRecommender: Similarity column 38121 (100.0%), 349.16 column/sec. Elapsed time 1.82 min\n",
      "EvaluatorHoldout: Processed 35595 (100.0%) in 52.73 sec. Users per second: 675\n"
     ]
    },
    {
     "name": "stderr",
     "output_type": "stream",
     "text": [
      "[I 2024-12-24 01:35:56,635] Trial 21 finished with value: 0.010118282842471883 and parameters: {'topK': 1025, 'alpha': 0.029904529719660178, 'beta': 0.32407442126484975, 'normalize_similarity': True, 'implicit': False}. Best is trial 19 with value: 0.014055765144471818.\n"
     ]
    },
    {
     "name": "stdout",
     "output_type": "stream",
     "text": [
      "RP3betaRecommender: Similarity column 38121 (100.0%), 360.33 column/sec. Elapsed time 1.76 min\n",
      "EvaluatorHoldout: Processed 35595 (100.0%) in 58.37 sec. Users per second: 610\n"
     ]
    },
    {
     "name": "stderr",
     "output_type": "stream",
     "text": [
      "[I 2024-12-24 01:39:20,355] Trial 22 finished with value: 0.015637350974477195 and parameters: {'topK': 976, 'alpha': 0.7246613385974536, 'beta': 0.381106200382391, 'normalize_similarity': True, 'implicit': False}. Best is trial 22 with value: 0.015637350974477195.\n"
     ]
    },
    {
     "name": "stdout",
     "output_type": "stream",
     "text": [
      "RP3betaRecommender: Similarity column 38121 (100.0%), 365.84 column/sec. Elapsed time 1.74 min\n",
      "EvaluatorHoldout: Processed 35595 (100.0%) in 57.70 sec. Users per second: 617\n"
     ]
    },
    {
     "name": "stderr",
     "output_type": "stream",
     "text": [
      "[I 2024-12-24 01:42:40,732] Trial 23 finished with value: 0.015893523256566015 and parameters: {'topK': 950, 'alpha': 0.7037356207023848, 'beta': 0.3974143645776863, 'normalize_similarity': True, 'implicit': False}. Best is trial 23 with value: 0.015893523256566015.\n"
     ]
    },
    {
     "name": "stdout",
     "output_type": "stream",
     "text": [
      "RP3betaRecommender: Similarity column 38121 (100.0%), 367.89 column/sec. Elapsed time 1.73 min\n",
      "EvaluatorHoldout: Processed 35595 (100.0%) in 56.86 sec. Users per second: 626\n"
     ]
    },
    {
     "name": "stderr",
     "output_type": "stream",
     "text": [
      "[I 2024-12-24 01:45:58,361] Trial 24 finished with value: 0.01633631328637671 and parameters: {'topK': 932, 'alpha': 0.6632411263116572, 'beta': 0.3644031323303653, 'normalize_similarity': True, 'implicit': False}. Best is trial 24 with value: 0.01633631328637671.\n"
     ]
    },
    {
     "name": "stdout",
     "output_type": "stream",
     "text": [
      "RP3betaRecommender: Similarity column 38121 (100.0%), 376.40 column/sec. Elapsed time 1.69 min\n",
      "EvaluatorHoldout: Processed 35595 (100.0%) in 41.05 sec. Users per second: 867\n"
     ]
    },
    {
     "name": "stderr",
     "output_type": "stream",
     "text": [
      "[I 2024-12-24 01:48:37,093] Trial 25 finished with value: 0.004788920550193202 and parameters: {'topK': 941, 'alpha': 0.4993648604549783, 'beta': 1.311628388620281, 'normalize_similarity': True, 'implicit': False}. Best is trial 24 with value: 0.01633631328637671.\n"
     ]
    },
    {
     "name": "stdout",
     "output_type": "stream",
     "text": [
      "RP3betaRecommender: Similarity column 38121 (100.0%), 329.33 column/sec. Elapsed time 1.93 min\n",
      "EvaluatorHoldout: Processed 35595 (100.0%) in 52.40 sec. Users per second: 679\n"
     ]
    },
    {
     "name": "stderr",
     "output_type": "stream",
     "text": [
      "[I 2024-12-24 01:51:59,493] Trial 26 finished with value: 0.009793877105086713 and parameters: {'topK': 1196, 'alpha': 0.4974535147542572, 'beta': 0.9448057758971087, 'normalize_similarity': True, 'implicit': False}. Best is trial 24 with value: 0.01633631328637671.\n"
     ]
    },
    {
     "name": "stdout",
     "output_type": "stream",
     "text": [
      "RP3betaRecommender: Similarity column 38121 (100.0%), 420.56 column/sec. Elapsed time 1.51 min\n",
      "EvaluatorHoldout: Processed 35595 (100.0%) in 50.04 sec. Users per second: 711\n"
     ]
    },
    {
     "name": "stderr",
     "output_type": "stream",
     "text": [
      "[I 2024-12-24 01:54:45,208] Trial 27 finished with value: 0.016267123302943137 and parameters: {'topK': 673, 'alpha': 0.2796473299772608, 'beta': 0.48675649059290865, 'normalize_similarity': True, 'implicit': False}. Best is trial 24 with value: 0.01633631328637671.\n"
     ]
    },
    {
     "name": "stdout",
     "output_type": "stream",
     "text": [
      "RP3betaRecommender: Similarity column 38121 (100.0%), 407.17 column/sec. Elapsed time 1.56 min\n",
      "EvaluatorHoldout: Processed 35595 (100.0%) in 49.10 sec. Users per second: 725\n"
     ]
    },
    {
     "name": "stderr",
     "output_type": "stream",
     "text": [
      "[I 2024-12-24 01:57:29,064] Trial 28 finished with value: 0.00960222922338409 and parameters: {'topK': 723, 'alpha': 0.024542255995752937, 'beta': 0.15116705906728745, 'normalize_similarity': True, 'implicit': False}. Best is trial 24 with value: 0.01633631328637671.\n"
     ]
    },
    {
     "name": "stdout",
     "output_type": "stream",
     "text": [
      "RP3betaRecommender: Similarity column 38121 (100.0%), 523.72 column/sec. Elapsed time 1.21 min\n",
      "EvaluatorHoldout: Processed 35595 (100.0%) in 43.41 sec. Users per second: 820\n"
     ]
    },
    {
     "name": "stderr",
     "output_type": "stream",
     "text": [
      "[I 2024-12-24 01:59:38,765] Trial 29 finished with value: 0.01258263043008129 and parameters: {'topK': 370, 'alpha': 0.22207945668036055, 'beta': 0.5535092534013041, 'normalize_similarity': False, 'implicit': False}. Best is trial 24 with value: 0.01633631328637671.\n"
     ]
    },
    {
     "name": "stdout",
     "output_type": "stream",
     "text": [
      "RP3betaRecommender: Similarity column 38121 (100.0%), 294.99 column/sec. Elapsed time 2.15 min\n",
      "EvaluatorHoldout: Processed 35595 (100.0%) in 1.06 min. Users per second: 557\n"
     ]
    },
    {
     "name": "stderr",
     "output_type": "stream",
     "text": [
      "[I 2024-12-24 02:03:50,578] Trial 30 finished with value: 0.011968937361900144 and parameters: {'topK': 1431, 'alpha': 0.6984117117391274, 'beta': 0.8220754490383905, 'normalize_similarity': True, 'implicit': False}. Best is trial 24 with value: 0.01633631328637671.\n"
     ]
    },
    {
     "name": "stdout",
     "output_type": "stream",
     "text": [
      "RP3betaRecommender: Similarity column 38121 (100.0%), 368.68 column/sec. Elapsed time 1.72 min\n",
      "EvaluatorHoldout: Processed 35595 (100.0%) in 57.80 sec. Users per second: 616\n"
     ]
    },
    {
     "name": "stderr",
     "output_type": "stream",
     "text": [
      "[I 2024-12-24 02:07:09,258] Trial 31 finished with value: 0.015554022657899845 and parameters: {'topK': 943, 'alpha': 0.7396618438237941, 'beta': 0.3826313060333483, 'normalize_similarity': True, 'implicit': False}. Best is trial 24 with value: 0.01633631328637671.\n"
     ]
    },
    {
     "name": "stdout",
     "output_type": "stream",
     "text": [
      "RP3betaRecommender: Similarity column 38121 (100.0%), 427.61 column/sec. Elapsed time 1.49 min\n",
      "EvaluatorHoldout: Processed 35595 (100.0%) in 46.80 sec. Users per second: 761\n"
     ]
    },
    {
     "name": "stderr",
     "output_type": "stream",
     "text": [
      "[I 2024-12-24 02:09:44,395] Trial 32 finished with value: 0.01482531098312856 and parameters: {'topK': 644, 'alpha': 0.29817848201686137, 'beta': 0.17769537708730265, 'normalize_similarity': True, 'implicit': False}. Best is trial 24 with value: 0.01633631328637671.\n"
     ]
    },
    {
     "name": "stdout",
     "output_type": "stream",
     "text": [
      "RP3betaRecommender: Similarity column 38121 (100.0%), 397.24 column/sec. Elapsed time 1.60 min\n",
      "EvaluatorHoldout: Processed 35595 (100.0%) in 55.53 sec. Users per second: 641\n"
     ]
    },
    {
     "name": "stderr",
     "output_type": "stream",
     "text": [
      "[I 2024-12-24 02:12:49,144] Trial 33 finished with value: 0.0170921165581933 and parameters: {'topK': 787, 'alpha': 0.6004841558273706, 'beta': 0.4692020916595774, 'normalize_similarity': True, 'implicit': False}. Best is trial 33 with value: 0.0170921165581933.\n"
     ]
    },
    {
     "name": "stdout",
     "output_type": "stream",
     "text": [
      "RP3betaRecommender: Similarity column 38121 (100.0%), 750.17 column/sec. Elapsed time 50.82 sec\n",
      "EvaluatorHoldout: Processed 35595 (100.0%) in 29.43 sec. Users per second: 1210\n"
     ]
    },
    {
     "name": "stderr",
     "output_type": "stream",
     "text": [
      "[I 2024-12-24 02:14:10,679] Trial 34 finished with value: 0.0018588206833044555 and parameters: {'topK': 40, 'alpha': 0.5589328746348898, 'beta': 2.379082840643206, 'normalize_similarity': True, 'implicit': False}. Best is trial 33 with value: 0.0170921165581933.\n"
     ]
    },
    {
     "name": "stdout",
     "output_type": "stream",
     "text": [
      "RP3betaRecommender: Similarity column 38121 (100.0%), 396.19 column/sec. Elapsed time 1.60 min\n",
      "EvaluatorHoldout: Processed 35595 (100.0%) in 54.84 sec. Users per second: 649\n"
     ]
    },
    {
     "name": "stderr",
     "output_type": "stream",
     "text": [
      "[I 2024-12-24 02:17:15,571] Trial 35 finished with value: 0.007924300496993386 and parameters: {'topK': 792, 'alpha': 1.0607624649254874, 'beta': 1.003500553300388, 'normalize_similarity': False, 'implicit': False}. Best is trial 33 with value: 0.0170921165581933.\n"
     ]
    },
    {
     "name": "stdout",
     "output_type": "stream",
     "text": [
      "RP3betaRecommender: Similarity column 38121 (100.0%), 433.32 column/sec. Elapsed time 1.47 min\n",
      "EvaluatorHoldout: Processed 35595 (100.0%) in 46.22 sec. Users per second: 770\n"
     ]
    },
    {
     "name": "stderr",
     "output_type": "stream",
     "text": [
      "[I 2024-12-24 02:19:49,102] Trial 36 finished with value: 0.013089155557339681 and parameters: {'topK': 621, 'alpha': 0.16757272725191374, 'beta': 0.2133021198017941, 'normalize_similarity': True, 'implicit': False}. Best is trial 33 with value: 0.0170921165581933.\n"
     ]
    },
    {
     "name": "stdout",
     "output_type": "stream",
     "text": [
      "RP3betaRecommender: Similarity column 38121 (100.0%), 330.87 column/sec. Elapsed time 1.92 min\n",
      "EvaluatorHoldout: Processed 35595 (100.0%) in 1.07 min. Users per second: 555\n"
     ]
    },
    {
     "name": "stderr",
     "output_type": "stream",
     "text": [
      "[I 2024-12-24 02:23:42,099] Trial 37 finished with value: 0.008289903834362419 and parameters: {'topK': 1186, 'alpha': 1.3260344261973227, 'beta': 0.7722023283343122, 'normalize_similarity': False, 'implicit': False}. Best is trial 33 with value: 0.0170921165581933.\n"
     ]
    },
    {
     "name": "stdout",
     "output_type": "stream",
     "text": [
      "RP3betaRecommender: Similarity column 38121 (100.0%), 493.41 column/sec. Elapsed time 1.29 min\n",
      "EvaluatorHoldout: Processed 35595 (100.0%) in 48.53 sec. Users per second: 733\n"
     ]
    },
    {
     "name": "stderr",
     "output_type": "stream",
     "text": [
      "[I 2024-12-24 02:26:08,405] Trial 38 finished with value: 0.015282923854563354 and parameters: {'topK': 439, 'alpha': 0.8151461064972322, 'beta': 0.5116450566179782, 'normalize_similarity': True, 'implicit': False}. Best is trial 33 with value: 0.0170921165581933.\n"
     ]
    },
    {
     "name": "stdout",
     "output_type": "stream",
     "text": [
      "RP3betaRecommender: Similarity column 38121 (100.0%), 421.68 column/sec. Elapsed time 1.51 min\n",
      "EvaluatorHoldout: Processed 35595 (100.0%) in 54.70 sec. Users per second: 651\n"
     ]
    },
    {
     "name": "stderr",
     "output_type": "stream",
     "text": [
      "[I 2024-12-24 02:29:05,533] Trial 39 finished with value: 0.011173080310459398 and parameters: {'topK': 682, 'alpha': 0.8835121329937975, 'beta': 0.6539332399540405, 'normalize_similarity': False, 'implicit': False}. Best is trial 33 with value: 0.0170921165581933.\n"
     ]
    },
    {
     "name": "stdout",
     "output_type": "stream",
     "text": [
      "RP3betaRecommender: Similarity column 38121 (100.0%), 395.42 column/sec. Elapsed time 1.61 min\n",
      "EvaluatorHoldout: Processed 35595 (100.0%) in 39.40 sec. Users per second: 904\n"
     ]
    },
    {
     "name": "stderr",
     "output_type": "stream",
     "text": [
      "[I 2024-12-24 02:31:34,535] Trial 40 finished with value: 0.0036768205807396477 and parameters: {'topK': 852, 'alpha': 0.5613425893060464, 'beta': 1.5776148298304247, 'normalize_similarity': True, 'implicit': False}. Best is trial 33 with value: 0.0170921165581933.\n"
     ]
    },
    {
     "name": "stdout",
     "output_type": "stream",
     "text": [
      "RP3betaRecommender: Similarity column 38121 (100.0%), 361.78 column/sec. Elapsed time 1.76 min\n",
      "EvaluatorHoldout: Processed 35595 (100.0%) in 57.97 sec. Users per second: 614\n"
     ]
    },
    {
     "name": "stderr",
     "output_type": "stream",
     "text": [
      "[I 2024-12-24 02:34:57,740] Trial 41 finished with value: 0.016318202797343303 and parameters: {'topK': 973, 'alpha': 0.6648402628826597, 'beta': 0.3917346202325938, 'normalize_similarity': True, 'implicit': False}. Best is trial 33 with value: 0.0170921165581933.\n"
     ]
    },
    {
     "name": "stdout",
     "output_type": "stream",
     "text": [
      "RP3betaRecommender: Similarity column 38121 (100.0%), 400.89 column/sec. Elapsed time 1.58 min\n",
      "EvaluatorHoldout: Processed 35595 (100.0%) in 49.43 sec. Users per second: 720\n"
     ]
    },
    {
     "name": "stderr",
     "output_type": "stream",
     "text": [
      "[I 2024-12-24 02:37:46,428] Trial 42 finished with value: 0.015391266831216563 and parameters: {'topK': 774, 'alpha': 0.39688578608161657, 'beta': 0.168238001159981, 'normalize_similarity': True, 'implicit': False}. Best is trial 33 with value: 0.0170921165581933.\n"
     ]
    },
    {
     "name": "stdout",
     "output_type": "stream",
     "text": [
      "RP3betaRecommender: Similarity column 38121 (100.0%), 377.54 column/sec. Elapsed time 1.68 min\n",
      "EvaluatorHoldout: Processed 35595 (100.0%) in 58.54 sec. Users per second: 608\n"
     ]
    },
    {
     "name": "stderr",
     "output_type": "stream",
     "text": [
      "[I 2024-12-24 02:41:05,589] Trial 43 finished with value: 0.01324736843278809 and parameters: {'topK': 906, 'alpha': 1.1577877997377586, 'beta': 0.4833888680974175, 'normalize_similarity': True, 'implicit': False}. Best is trial 33 with value: 0.0170921165581933.\n"
     ]
    },
    {
     "name": "stdout",
     "output_type": "stream",
     "text": [
      "RP3betaRecommender: Similarity column 38121 (100.0%), 354.75 column/sec. Elapsed time 1.79 min\n",
      "EvaluatorHoldout: Processed 35595 (100.0%) in 53.25 sec. Users per second: 668\n"
     ]
    },
    {
     "name": "stderr",
     "output_type": "stream",
     "text": [
      "[I 2024-12-24 02:44:17,334] Trial 44 finished with value: 0.013394684914280764 and parameters: {'topK': 1009, 'alpha': 0.6283998315241003, 'beta': 0.025880738485161814, 'normalize_similarity': True, 'implicit': False}. Best is trial 33 with value: 0.0170921165581933.\n"
     ]
    },
    {
     "name": "stdout",
     "output_type": "stream",
     "text": [
      "RP3betaRecommender: Similarity column 38121 (100.0%), 391.20 column/sec. Elapsed time 1.62 min\n",
      "EvaluatorHoldout: Processed 35595 (100.0%) in 47.43 sec. Users per second: 751\n"
     ]
    },
    {
     "name": "stderr",
     "output_type": "stream",
     "text": [
      "[I 2024-12-24 02:47:05,572] Trial 45 finished with value: 0.01076726042760622 and parameters: {'topK': 827, 'alpha': 0.37707762596763694, 'beta': 0.8494164939471109, 'normalize_similarity': True, 'implicit': False}. Best is trial 33 with value: 0.0170921165581933.\n"
     ]
    },
    {
     "name": "stdout",
     "output_type": "stream",
     "text": [
      "RP3betaRecommender: Similarity column 38121 (100.0%), 311.48 column/sec. Elapsed time 2.04 min\n",
      "EvaluatorHoldout: Processed 35595 (100.0%) in 42.66 sec. Users per second: 834\n"
     ]
    },
    {
     "name": "stderr",
     "output_type": "stream",
     "text": [
      "[I 2024-12-24 02:50:12,289] Trial 46 finished with value: 0.0021909477655368908 and parameters: {'topK': 1341, 'alpha': 0.1542934842249517, 'beta': 1.0332592231310511, 'normalize_similarity': True, 'implicit': False}. Best is trial 33 with value: 0.0170921165581933.\n"
     ]
    },
    {
     "name": "stdout",
     "output_type": "stream",
     "text": [
      "RP3betaRecommender: Similarity column 38121 (100.0%), 461.17 column/sec. Elapsed time 1.38 min\n",
      "EvaluatorHoldout: Processed 35595 (100.0%) in 51.15 sec. Users per second: 696\n"
     ]
    },
    {
     "name": "stderr",
     "output_type": "stream",
     "text": [
      "[I 2024-12-24 02:52:50,209] Trial 47 finished with value: 0.007712222155332205 and parameters: {'topK': 538, 'alpha': 1.5906948946979358, 'beta': 0.6921233385062938, 'normalize_similarity': False, 'implicit': False}. Best is trial 33 with value: 0.0170921165581933.\n"
     ]
    },
    {
     "name": "stdout",
     "output_type": "stream",
     "text": [
      "RP3betaRecommender: Similarity column 38121 (100.0%), 333.85 column/sec. Elapsed time 1.90 min\n",
      "EvaluatorHoldout: Processed 35595 (100.0%) in 1.01 min. Users per second: 586\n"
     ]
    },
    {
     "name": "stderr",
     "output_type": "stream",
     "text": [
      "[I 2024-12-24 02:56:30,447] Trial 48 finished with value: 0.00876202181954406 and parameters: {'topK': 1146, 'alpha': 2.976725562164409, 'beta': 0.25290487983444637, 'normalize_similarity': True, 'implicit': False}. Best is trial 33 with value: 0.0170921165581933.\n"
     ]
    },
    {
     "name": "stdout",
     "output_type": "stream",
     "text": [
      "RP3betaRecommender: Similarity column 38121 (100.0%), 379.03 column/sec. Elapsed time 1.68 min\n",
      "EvaluatorHoldout: Processed 35595 (100.0%) in 58.16 sec. Users per second: 612\n"
     ]
    },
    {
     "name": "stderr",
     "output_type": "stream",
     "text": [
      "[I 2024-12-24 02:59:49,883] Trial 49 finished with value: 0.006414486607491263 and parameters: {'topK': 893, 'alpha': 2.73747694215473, 'beta': 2.1651394098464953, 'normalize_similarity': True, 'implicit': False}. Best is trial 33 with value: 0.0170921165581933.\n"
     ]
    },
    {
     "name": "stdout",
     "output_type": "stream",
     "text": [
      "RP3betaRecommender: Similarity column 38121 (100.0%), 403.59 column/sec. Elapsed time 1.57 min\n",
      "EvaluatorHoldout: Processed 35595 (100.0%) in 55.45 sec. Users per second: 642\n"
     ]
    },
    {
     "name": "stderr",
     "output_type": "stream",
     "text": [
      "[I 2024-12-24 03:02:52,432] Trial 50 finished with value: 0.014672178409220466 and parameters: {'topK': 758, 'alpha': 0.883830856829773, 'beta': 0.43751217402763426, 'normalize_similarity': True, 'implicit': False}. Best is trial 33 with value: 0.0170921165581933.\n"
     ]
    },
    {
     "name": "stdout",
     "output_type": "stream",
     "text": [
      "RP3betaRecommender: Similarity column 38121 (100.0%), 361.46 column/sec. Elapsed time 1.76 min\n",
      "EvaluatorHoldout: Processed 35595 (100.0%) in 59.65 sec. Users per second: 597\n"
     ]
    },
    {
     "name": "stderr",
     "output_type": "stream",
     "text": [
      "[I 2024-12-24 03:06:22,241] Trial 51 finished with value: 0.015193378105093464 and parameters: {'topK': 987, 'alpha': 0.674546090380505, 'beta': 0.6046414144617693, 'normalize_similarity': True, 'implicit': False}. Best is trial 33 with value: 0.0170921165581933.\n"
     ]
    },
    {
     "name": "stdout",
     "output_type": "stream",
     "text": [
      "RP3betaRecommender: Similarity column 38121 (100.0%), 367.84 column/sec. Elapsed time 1.73 min\n",
      "EvaluatorHoldout: Processed 35595 (100.0%) in 54.62 sec. Users per second: 652\n"
     ]
    },
    {
     "name": "stderr",
     "output_type": "stream",
     "text": [
      "[I 2024-12-24 03:09:34,670] Trial 52 finished with value: 0.017047615703115204 and parameters: {'topK': 934, 'alpha': 0.3789335712965278, 'beta': 0.37455202868395165, 'normalize_similarity': True, 'implicit': False}. Best is trial 33 with value: 0.0170921165581933.\n"
     ]
    },
    {
     "name": "stdout",
     "output_type": "stream",
     "text": [
      "RP3betaRecommender: Similarity column 38121 (100.0%), 386.33 column/sec. Elapsed time 1.64 min\n",
      "EvaluatorHoldout: Processed 35595 (100.0%) in 49.63 sec. Users per second: 717\n"
     ]
    },
    {
     "name": "stderr",
     "output_type": "stream",
     "text": [
      "[I 2024-12-24 03:12:27,065] Trial 53 finished with value: 0.01404009391367213 and parameters: {'topK': 831, 'alpha': 0.4231781152394236, 'beta': 0.0926687807416372, 'normalize_similarity': True, 'implicit': False}. Best is trial 33 with value: 0.0170921165581933.\n"
     ]
    },
    {
     "name": "stdout",
     "output_type": "stream",
     "text": [
      "RP3betaRecommender: Similarity column 38121 (100.0%), 335.10 column/sec. Elapsed time 1.90 min\n",
      "EvaluatorHoldout: Processed 35595 (100.0%) in 56.51 sec. Users per second: 630\n"
     ]
    },
    {
     "name": "stderr",
     "output_type": "stream",
     "text": [
      "[I 2024-12-24 03:15:55,546] Trial 54 finished with value: 0.014784592762047888 and parameters: {'topK': 1125, 'alpha': 0.28210441954210913, 'beta': 0.298874050043169, 'normalize_similarity': True, 'implicit': False}. Best is trial 33 with value: 0.0170921165581933.\n"
     ]
    },
    {
     "name": "stdout",
     "output_type": "stream",
     "text": [
      "RP3betaRecommender: Similarity column 38121 (100.0%), 361.77 column/sec. Elapsed time 1.76 min\n",
      "EvaluatorHoldout: Processed 35595 (100.0%) in 59.37 sec. Users per second: 600\n"
     ]
    },
    {
     "name": "stderr",
     "output_type": "stream",
     "text": [
      "[I 2024-12-24 03:19:22,134] Trial 55 finished with value: 0.014706071612519465 and parameters: {'topK': 963, 'alpha': 0.830316640450618, 'beta': 0.4682631210105372, 'normalize_similarity': True, 'implicit': False}. Best is trial 33 with value: 0.0170921165581933.\n"
     ]
    },
    {
     "name": "stdout",
     "output_type": "stream",
     "text": [
      "RP3betaRecommender: Similarity column 38121 (100.0%), 377.84 column/sec. Elapsed time 1.68 min\n",
      "EvaluatorHoldout: Processed 35595 (100.0%) in 49.04 sec. Users per second: 726\n"
     ]
    },
    {
     "name": "stderr",
     "output_type": "stream",
     "text": [
      "[I 2024-12-24 03:22:17,247] Trial 56 finished with value: 0.00735647507118222 and parameters: {'topK': 902, 'alpha': 0.12305476122019696, 'beta': 0.7239338367229837, 'normalize_similarity': True, 'implicit': False}. Best is trial 33 with value: 0.0170921165581933.\n"
     ]
    },
    {
     "name": "stdout",
     "output_type": "stream",
     "text": [
      "RP3betaRecommender: Similarity column 38121 (100.0%), 443.73 column/sec. Elapsed time 1.43 min\n",
      "EvaluatorHoldout: Processed 35595 (100.0%) in 34.64 sec. Users per second: 1027\n"
     ]
    },
    {
     "name": "stderr",
     "output_type": "stream",
     "text": [
      "[I 2024-12-24 03:24:24,006] Trial 57 finished with value: 0.001072086323877311 and parameters: {'topK': 663, 'alpha': 0.5955734306444886, 'beta': 2.912894691063381, 'normalize_similarity': True, 'implicit': True}. Best is trial 33 with value: 0.0170921165581933.\n"
     ]
    },
    {
     "name": "stdout",
     "output_type": "stream",
     "text": [
      "RP3betaRecommender: Similarity column 38121 (100.0%), 354.88 column/sec. Elapsed time 1.79 min\n",
      "EvaluatorHoldout: Processed 35595 (100.0%) in 56.40 sec. Users per second: 631\n"
     ]
    },
    {
     "name": "stderr",
     "output_type": "stream",
     "text": [
      "[I 2024-12-24 03:27:46,706] Trial 58 finished with value: 0.015177822817098272 and parameters: {'topK': 1024, 'alpha': 0.29968419975515326, 'beta': 0.5798029322871325, 'normalize_similarity': True, 'implicit': False}. Best is trial 33 with value: 0.0170921165581933.\n"
     ]
    },
    {
     "name": "stdout",
     "output_type": "stream",
     "text": [
      "RP3betaRecommender: Similarity column 38121 (100.0%), 421.29 column/sec. Elapsed time 1.51 min\n",
      "EvaluatorHoldout: Processed 35595 (100.0%) in 47.35 sec. Users per second: 752\n"
     ]
    },
    {
     "name": "stderr",
     "output_type": "stream",
     "text": [
      "[I 2024-12-24 03:30:26,191] Trial 59 finished with value: 0.005186960001962128 and parameters: {'topK': 714, 'alpha': 1.315341902344771, 'beta': 1.8014476768429193, 'normalize_similarity': True, 'implicit': False}. Best is trial 33 with value: 0.0170921165581933.\n"
     ]
    },
    {
     "name": "stdout",
     "output_type": "stream",
     "text": [
      "RP3betaRecommender: Similarity column 38121 (100.0%), 392.71 column/sec. Elapsed time 1.62 min\n",
      "EvaluatorHoldout: Processed 35595 (100.0%) in 48.50 sec. Users per second: 734\n"
     ]
    },
    {
     "name": "stderr",
     "output_type": "stream",
     "text": [
      "[I 2024-12-24 03:33:13,691] Trial 60 finished with value: 0.013758945990720622 and parameters: {'topK': 808, 'alpha': 0.4758853000752445, 'beta': 0.0017414915693738653, 'normalize_similarity': False, 'implicit': True}. Best is trial 33 with value: 0.0170921165581933.\n"
     ]
    },
    {
     "name": "stdout",
     "output_type": "stream",
     "text": [
      "RP3betaRecommender: Similarity column 38121 (100.0%), 367.39 column/sec. Elapsed time 1.73 min\n",
      "EvaluatorHoldout: Processed 35595 (100.0%) in 57.87 sec. Users per second: 615\n"
     ]
    },
    {
     "name": "stderr",
     "output_type": "stream",
     "text": [
      "[I 2024-12-24 03:36:34,313] Trial 61 finished with value: 0.016200047046022775 and parameters: {'topK': 943, 'alpha': 0.6777901650408149, 'beta': 0.43887286018893035, 'normalize_similarity': True, 'implicit': False}. Best is trial 33 with value: 0.0170921165581933.\n"
     ]
    },
    {
     "name": "stdout",
     "output_type": "stream",
     "text": [
      "RP3betaRecommender: Similarity column 38121 (100.0%), 349.17 column/sec. Elapsed time 1.82 min\n",
      "EvaluatorHoldout: Processed 35595 (100.0%) in 1.00 min. Users per second: 591\n"
     ]
    },
    {
     "name": "stderr",
     "output_type": "stream",
     "text": [
      "[I 2024-12-24 03:40:07,832] Trial 62 finished with value: 0.014110208095037805 and parameters: {'topK': 1047, 'alpha': 0.9448029942833058, 'beta': 0.410099474026966, 'normalize_similarity': True, 'implicit': False}. Best is trial 33 with value: 0.0170921165581933.\n"
     ]
    },
    {
     "name": "stdout",
     "output_type": "stream",
     "text": [
      "RP3betaRecommender: Similarity column 38121 (100.0%), 372.83 column/sec. Elapsed time 1.70 min\n",
      "EvaluatorHoldout: Processed 35595 (100.0%) in 55.61 sec. Users per second: 640\n"
     ]
    },
    {
     "name": "stderr",
     "output_type": "stream",
     "text": [
      "[I 2024-12-24 03:43:19,319] Trial 63 finished with value: 0.015171283196989365 and parameters: {'topK': 877, 'alpha': 0.7693636716330391, 'beta': 0.2615706335554726, 'normalize_similarity': True, 'implicit': False}. Best is trial 33 with value: 0.0170921165581933.\n"
     ]
    },
    {
     "name": "stdout",
     "output_type": "stream",
     "text": [
      "RP3betaRecommender: Similarity column 38121 (100.0%), 372.30 column/sec. Elapsed time 1.71 min\n",
      "EvaluatorHoldout: Processed 35595 (100.0%) in 57.85 sec. Users per second: 615\n"
     ]
    },
    {
     "name": "stderr",
     "output_type": "stream",
     "text": [
      "[I 2024-12-24 03:46:37,476] Trial 64 finished with value: 0.013772800041026295 and parameters: {'topK': 927, 'alpha': 1.05595498095955, 'beta': 0.35294512616138485, 'normalize_similarity': True, 'implicit': False}. Best is trial 33 with value: 0.0170921165581933.\n"
     ]
    },
    {
     "name": "stdout",
     "output_type": "stream",
     "text": [
      "RP3betaRecommender: Similarity column 38121 (100.0%), 359.17 column/sec. Elapsed time 1.77 min\n",
      "EvaluatorHoldout: Processed 35595 (100.0%) in 51.71 sec. Users per second: 688\n"
     ]
    },
    {
     "name": "stderr",
     "output_type": "stream",
     "text": [
      "[I 2024-12-24 03:49:43,717] Trial 65 finished with value: 0.013126472417876104 and parameters: {'topK': 975, 'alpha': 0.34485712638606936, 'beta': 0.0982033621957556, 'normalize_similarity': True, 'implicit': False}. Best is trial 33 with value: 0.0170921165581933.\n"
     ]
    },
    {
     "name": "stdout",
     "output_type": "stream",
     "text": [
      "RP3betaRecommender: Similarity column 38121 (100.0%), 338.22 column/sec. Elapsed time 1.88 min\n",
      "EvaluatorHoldout: Processed 35595 (100.0%) in 52.78 sec. Users per second: 674\n"
     ]
    },
    {
     "name": "stderr",
     "output_type": "stream",
     "text": [
      "[I 2024-12-24 03:53:03,028] Trial 66 finished with value: 0.010356713645799404 and parameters: {'topK': 1127, 'alpha': 0.4859349553751389, 'beta': 0.910260505555264, 'normalize_similarity': True, 'implicit': False}. Best is trial 33 with value: 0.0170921165581933.\n"
     ]
    },
    {
     "name": "stdout",
     "output_type": "stream",
     "text": [
      "RP3betaRecommender: Similarity column 38121 (100.0%), 409.01 column/sec. Elapsed time 1.55 min\n",
      "EvaluatorHoldout: Processed 35595 (100.0%) in 54.77 sec. Users per second: 650\n"
     ]
    },
    {
     "name": "stderr",
     "output_type": "stream",
     "text": [
      "[I 2024-12-24 03:56:03,279] Trial 67 finished with value: 0.016458009752573718 and parameters: {'topK': 724, 'alpha': 0.6313408255626592, 'beta': 0.5362247599871399, 'normalize_similarity': True, 'implicit': False}. Best is trial 33 with value: 0.0170921165581933.\n"
     ]
    },
    {
     "name": "stdout",
     "output_type": "stream",
     "text": [
      "RP3betaRecommender: Similarity column 38121 (100.0%), 440.74 column/sec. Elapsed time 1.44 min\n",
      "EvaluatorHoldout: Processed 35595 (100.0%) in 47.06 sec. Users per second: 756\n"
     ]
    },
    {
     "name": "stderr",
     "output_type": "stream",
     "text": [
      "[I 2024-12-24 03:58:37,592] Trial 68 finished with value: 0.011184693543100931 and parameters: {'topK': 606, 'alpha': 0.08183730877002382, 'beta': 0.5724183791578955, 'normalize_similarity': True, 'implicit': False}. Best is trial 33 with value: 0.0170921165581933.\n"
     ]
    },
    {
     "name": "stdout",
     "output_type": "stream",
     "text": [
      "RP3betaRecommender: Similarity column 38121 (100.0%), 413.44 column/sec. Elapsed time 1.54 min\n",
      "EvaluatorHoldout: Processed 35595 (100.0%) in 46.30 sec. Users per second: 769\n"
     ]
    },
    {
     "name": "stderr",
     "output_type": "stream",
     "text": [
      "[I 2024-12-24 04:01:16,223] Trial 69 finished with value: 0.009790699826308966 and parameters: {'topK': 722, 'alpha': 0.2336292616393677, 'beta': 0.7652913219630755, 'normalize_similarity': True, 'implicit': False}. Best is trial 33 with value: 0.0170921165581933.\n"
     ]
    },
    {
     "name": "stdout",
     "output_type": "stream",
     "text": [
      "RP3betaRecommender: Similarity column 38121 (100.0%), 453.32 column/sec. Elapsed time 1.40 min\n",
      "EvaluatorHoldout: Processed 35595 (100.0%) in 39.96 sec. Users per second: 891\n"
     ]
    },
    {
     "name": "stderr",
     "output_type": "stream",
     "text": [
      "[I 2024-12-24 04:03:31,748] Trial 70 finished with value: 0.005344545225497624 and parameters: {'topK': 576, 'alpha': 0.6475188057722934, 'beta': 1.3717244378521447, 'normalize_similarity': True, 'implicit': True}. Best is trial 33 with value: 0.0170921165581933.\n"
     ]
    },
    {
     "name": "stdout",
     "output_type": "stream",
     "text": [
      "RP3betaRecommender: Similarity column 38121 (100.0%), 378.74 column/sec. Elapsed time 1.68 min\n",
      "EvaluatorHoldout: Processed 35595 (100.0%) in 56.44 sec. Users per second: 631\n"
     ]
    },
    {
     "name": "stderr",
     "output_type": "stream",
     "text": [
      "[I 2024-12-24 04:06:44,927] Trial 71 finished with value: 0.017423581428638386 and parameters: {'topK': 859, 'alpha': 0.542277782115566, 'beta': 0.4941364416717085, 'normalize_similarity': True, 'implicit': False}. Best is trial 71 with value: 0.017423581428638386.\n"
     ]
    },
    {
     "name": "stdout",
     "output_type": "stream",
     "text": [
      "RP3betaRecommender: Similarity column 38121 (100.0%), 404.64 column/sec. Elapsed time 1.57 min\n",
      "EvaluatorHoldout: Processed 35595 (100.0%) in 54.43 sec. Users per second: 654\n"
     ]
    },
    {
     "name": "stderr",
     "output_type": "stream",
     "text": [
      "[I 2024-12-24 04:09:44,893] Trial 72 finished with value: 0.01758896492061264 and parameters: {'topK': 749, 'alpha': 0.5431067136369285, 'beta': 0.4910094506405606, 'normalize_similarity': True, 'implicit': False}. Best is trial 72 with value: 0.01758896492061264.\n"
     ]
    },
    {
     "name": "stdout",
     "output_type": "stream",
     "text": [
      "RP3betaRecommender: Similarity column 38121 (100.0%), 401.05 column/sec. Elapsed time 1.58 min\n",
      "EvaluatorHoldout: Processed 35595 (100.0%) in 54.45 sec. Users per second: 654\n"
     ]
    },
    {
     "name": "stderr",
     "output_type": "stream",
     "text": [
      "[I 2024-12-24 04:12:46,807] Trial 73 finished with value: 0.01582028865299008 and parameters: {'topK': 748, 'alpha': 0.5458422011076948, 'beta': 0.6449316357564634, 'normalize_similarity': True, 'implicit': False}. Best is trial 72 with value: 0.01758896492061264.\n"
     ]
    },
    {
     "name": "stdout",
     "output_type": "stream",
     "text": [
      "RP3betaRecommender: Similarity column 38121 (100.0%), 469.14 column/sec. Elapsed time 1.35 min\n",
      "EvaluatorHoldout: Processed 35595 (100.0%) in 49.04 sec. Users per second: 726\n"
     ]
    },
    {
     "name": "stderr",
     "output_type": "stream",
     "text": [
      "[I 2024-12-24 04:15:18,121] Trial 74 finished with value: 0.01791064377242221 and parameters: {'topK': 495, 'alpha': 0.468028631781806, 'beta': 0.5291296994581898, 'normalize_similarity': True, 'implicit': False}. Best is trial 74 with value: 0.01791064377242221.\n"
     ]
    },
    {
     "name": "stdout",
     "output_type": "stream",
     "text": [
      "RP3betaRecommender: Similarity column 38121 (100.0%), 545.12 column/sec. Elapsed time 1.17 min\n",
      "EvaluatorHoldout: Processed 35595 (100.0%) in 42.46 sec. Users per second: 838\n"
     ]
    },
    {
     "name": "stderr",
     "output_type": "stream",
     "text": [
      "[I 2024-12-24 04:17:21,251] Trial 75 finished with value: 0.017869217631333204 and parameters: {'topK': 321, 'alpha': 0.4391466676886831, 'beta': 0.2355242281366773, 'normalize_similarity': True, 'implicit': False}. Best is trial 74 with value: 0.01791064377242221.\n"
     ]
    },
    {
     "name": "stdout",
     "output_type": "stream",
     "text": [
      "RP3betaRecommender: Similarity column 38121 (100.0%), 563.96 column/sec. Elapsed time 1.13 min\n",
      "EvaluatorHoldout: Processed 35595 (100.0%) in 41.78 sec. Users per second: 852\n"
     ]
    },
    {
     "name": "stderr",
     "output_type": "stream",
     "text": [
      "[I 2024-12-24 04:19:20,478] Trial 76 finished with value: 0.018436587089768766 and parameters: {'topK': 284, 'alpha': 0.40856590721452274, 'beta': 0.27677987063861725, 'normalize_similarity': True, 'implicit': False}. Best is trial 76 with value: 0.018436587089768766.\n"
     ]
    },
    {
     "name": "stdout",
     "output_type": "stream",
     "text": [
      "RP3betaRecommender: Similarity column 38121 (100.0%), 570.93 column/sec. Elapsed time 1.11 min\n",
      "EvaluatorHoldout: Processed 35595 (100.0%) in 40.85 sec. Users per second: 871\n"
     ]
    },
    {
     "name": "stderr",
     "output_type": "stream",
     "text": [
      "[I 2024-12-24 04:21:17,110] Trial 77 finished with value: 0.017610574875640227 and parameters: {'topK': 274, 'alpha': 0.4599806522376455, 'beta': 0.19062267059361554, 'normalize_similarity': True, 'implicit': False}. Best is trial 76 with value: 0.018436587089768766.\n"
     ]
    },
    {
     "name": "stdout",
     "output_type": "stream",
     "text": [
      "RP3betaRecommender: Similarity column 38121 (100.0%), 586.81 column/sec. Elapsed time 1.08 min\n",
      "EvaluatorHoldout: Processed 35595 (100.0%) in 40.37 sec. Users per second: 882\n"
     ]
    },
    {
     "name": "stderr",
     "output_type": "stream",
     "text": [
      "[I 2024-12-24 04:23:10,370] Trial 78 finished with value: 0.018206020330124847 and parameters: {'topK': 237, 'alpha': 0.4681784225503479, 'beta': 0.219357075631732, 'normalize_similarity': True, 'implicit': False}. Best is trial 76 with value: 0.018436587089768766.\n"
     ]
    },
    {
     "name": "stdout",
     "output_type": "stream",
     "text": [
      "RP3betaRecommender: Similarity column 38121 (100.0%), 573.67 column/sec. Elapsed time 1.11 min\n",
      "EvaluatorHoldout: Processed 35595 (100.0%) in 40.32 sec. Users per second: 883\n"
     ]
    },
    {
     "name": "stderr",
     "output_type": "stream",
     "text": [
      "[I 2024-12-24 04:25:05,273] Trial 79 finished with value: 0.016791081099762288 and parameters: {'topK': 260, 'alpha': 0.4613562265943166, 'beta': 0.15783604031628723, 'normalize_similarity': False, 'implicit': False}. Best is trial 76 with value: 0.018436587089768766.\n"
     ]
    },
    {
     "name": "stdout",
     "output_type": "stream",
     "text": [
      "RP3betaRecommender: Similarity column 38121 (100.0%), 548.54 column/sec. Elapsed time 1.16 min\n",
      "EvaluatorHoldout: Processed 35595 (100.0%) in 42.87 sec. Users per second: 830\n"
     ]
    },
    {
     "name": "stderr",
     "output_type": "stream",
     "text": [
      "[I 2024-12-24 04:27:09,103] Trial 80 finished with value: 0.017937254875729433 and parameters: {'topK': 315, 'alpha': 0.5438706727252032, 'beta': 0.25113755820773787, 'normalize_similarity': True, 'implicit': False}. Best is trial 76 with value: 0.018436587089768766.\n"
     ]
    },
    {
     "name": "stdout",
     "output_type": "stream",
     "text": [
      "RP3betaRecommender: Similarity column 38121 (100.0%), 564.48 column/sec. Elapsed time 1.13 min\n",
      "EvaluatorHoldout: Processed 35595 (100.0%) in 42.50 sec. Users per second: 838\n"
     ]
    },
    {
     "name": "stderr",
     "output_type": "stream",
     "text": [
      "[I 2024-12-24 04:29:09,730] Trial 81 finished with value: 0.01827410662724615 and parameters: {'topK': 282, 'alpha': 0.5456991215067956, 'beta': 0.27574848504000365, 'normalize_similarity': True, 'implicit': False}. Best is trial 76 with value: 0.018436587089768766.\n"
     ]
    },
    {
     "name": "stdout",
     "output_type": "stream",
     "text": [
      "RP3betaRecommender: Similarity column 38121 (100.0%), 548.27 column/sec. Elapsed time 1.16 min\n",
      "EvaluatorHoldout: Processed 35595 (100.0%) in 39.69 sec. Users per second: 897\n"
     ]
    },
    {
     "name": "stderr",
     "output_type": "stream",
     "text": [
      "[I 2024-12-24 04:31:06,994] Trial 82 finished with value: 0.013758170065797994 and parameters: {'topK': 301, 'alpha': 0.20123981482600603, 'beta': 0.09372225065714646, 'normalize_similarity': True, 'implicit': False}. Best is trial 76 with value: 0.018436587089768766.\n"
     ]
    },
    {
     "name": "stdout",
     "output_type": "stream",
     "text": [
      "RP3betaRecommender: Similarity column 38121 (100.0%), 622.50 column/sec. Elapsed time 1.02 min\n",
      "EvaluatorHoldout: Processed 35595 (100.0%) in 39.86 sec. Users per second: 893\n"
     ]
    },
    {
     "name": "stderr",
     "output_type": "stream",
     "text": [
      "[I 2024-12-24 04:32:54,241] Trial 83 finished with value: 0.018725970296345363 and parameters: {'topK': 162, 'alpha': 0.5444435133503124, 'beta': 0.23389078942888603, 'normalize_similarity': True, 'implicit': False}. Best is trial 83 with value: 0.018725970296345363.\n"
     ]
    },
    {
     "name": "stdout",
     "output_type": "stream",
     "text": [
      "RP3betaRecommender: Similarity column 38121 (100.0%), 635.91 column/sec. Elapsed time 59.95 sec\n",
      "EvaluatorHoldout: Processed 35595 (100.0%) in 37.77 sec. Users per second: 942\n"
     ]
    },
    {
     "name": "stderr",
     "output_type": "stream",
     "text": [
      "[I 2024-12-24 04:34:36,992] Trial 84 finished with value: 0.01907000046823054 and parameters: {'topK': 143, 'alpha': 0.42243157119109487, 'beta': 0.23900993246921745, 'normalize_similarity': True, 'implicit': False}. Best is trial 84 with value: 0.01907000046823054.\n"
     ]
    },
    {
     "name": "stdout",
     "output_type": "stream",
     "text": [
      "RP3betaRecommender: Similarity column 38121 (100.0%), 635.81 column/sec. Elapsed time 59.96 sec\n",
      "EvaluatorHoldout: Processed 35595 (100.0%) in 38.22 sec. Users per second: 931\n"
     ]
    },
    {
     "name": "stderr",
     "output_type": "stream",
     "text": [
      "[I 2024-12-24 04:36:20,358] Trial 85 finished with value: 0.019105475621910502 and parameters: {'topK': 145, 'alpha': 0.42317560424757406, 'beta': 0.2447676226580494, 'normalize_similarity': True, 'implicit': False}. Best is trial 85 with value: 0.019105475621910502.\n"
     ]
    },
    {
     "name": "stdout",
     "output_type": "stream",
     "text": [
      "RP3betaRecommender: Similarity column 38121 (100.0%), 638.25 column/sec. Elapsed time 59.73 sec\n",
      "EvaluatorHoldout: Processed 35595 (100.0%) in 38.01 sec. Users per second: 937\n"
     ]
    },
    {
     "name": "stderr",
     "output_type": "stream",
     "text": [
      "[I 2024-12-24 04:38:03,297] Trial 86 finished with value: 0.01910274316216162 and parameters: {'topK': 142, 'alpha': 0.3659744714089742, 'beta': 0.2597047746290456, 'normalize_similarity': True, 'implicit': False}. Best is trial 85 with value: 0.019105475621910502.\n"
     ]
    },
    {
     "name": "stdout",
     "output_type": "stream",
     "text": [
      "RP3betaRecommender: Similarity column 38121 (100.0%), 629.79 column/sec. Elapsed time 1.01 min\n",
      "EvaluatorHoldout: Processed 35595 (100.0%) in 38.15 sec. Users per second: 933\n"
     ]
    },
    {
     "name": "stderr",
     "output_type": "stream",
     "text": [
      "[I 2024-12-24 04:39:47,340] Trial 87 finished with value: 0.01860411552362677 and parameters: {'topK': 156, 'alpha': 0.3177939086917785, 'beta': 0.26071814414414163, 'normalize_similarity': True, 'implicit': False}. Best is trial 85 with value: 0.019105475621910502.\n"
     ]
    },
    {
     "name": "stdout",
     "output_type": "stream",
     "text": [
      "RP3betaRecommender: Similarity column 38121 (100.0%), 621.68 column/sec. Elapsed time 1.02 min\n",
      "EvaluatorHoldout: Processed 35595 (100.0%) in 37.56 sec. Users per second: 948\n"
     ]
    },
    {
     "name": "stderr",
     "output_type": "stream",
     "text": [
      "[I 2024-12-24 04:41:30,974] Trial 88 finished with value: 0.01242733953627375 and parameters: {'topK': 167, 'alpha': 0.01498167272555706, 'beta': 0.11840736366892565, 'normalize_similarity': True, 'implicit': True}. Best is trial 85 with value: 0.019105475621910502.\n"
     ]
    },
    {
     "name": "stdout",
     "output_type": "stream",
     "text": [
      "RP3betaRecommender: Similarity column 38121 (100.0%), 640.44 column/sec. Elapsed time 59.52 sec\n",
      "EvaluatorHoldout: Processed 35595 (100.0%) in 37.86 sec. Users per second: 940\n"
     ]
    },
    {
     "name": "stderr",
     "output_type": "stream",
     "text": [
      "[I 2024-12-24 04:43:13,112] Trial 89 finished with value: 0.01922092455467929 and parameters: {'topK': 130, 'alpha': 0.3395259087647604, 'beta': 0.2854673850914189, 'normalize_similarity': True, 'implicit': False}. Best is trial 89 with value: 0.01922092455467929.\n"
     ]
    },
    {
     "name": "stdout",
     "output_type": "stream",
     "text": [
      "RP3betaRecommender: Similarity column 38121 (100.0%), 650.83 column/sec. Elapsed time 58.57 sec\n",
      "EvaluatorHoldout: Processed 35595 (100.0%) in 37.50 sec. Users per second: 949\n"
     ]
    },
    {
     "name": "stderr",
     "output_type": "stream",
     "text": [
      "[I 2024-12-24 04:44:53,742] Trial 90 finished with value: 0.019596332862873062 and parameters: {'topK': 119, 'alpha': 0.35448019057467883, 'beta': 0.3077569974741729, 'normalize_similarity': True, 'implicit': False}. Best is trial 90 with value: 0.019596332862873062.\n"
     ]
    },
    {
     "name": "stdout",
     "output_type": "stream",
     "text": [
      "RP3betaRecommender: Similarity column 38121 (100.0%), 666.73 column/sec. Elapsed time 57.18 sec\n",
      "EvaluatorHoldout: Processed 35595 (100.0%) in 36.61 sec. Users per second: 972\n"
     ]
    },
    {
     "name": "stderr",
     "output_type": "stream",
     "text": [
      "[I 2024-12-24 04:46:31,290] Trial 91 finished with value: 0.01972456560467509 and parameters: {'topK': 94, 'alpha': 0.3155848105161053, 'beta': 0.3026290028041769, 'normalize_similarity': True, 'implicit': False}. Best is trial 91 with value: 0.01972456560467509.\n"
     ]
    },
    {
     "name": "stdout",
     "output_type": "stream",
     "text": [
      "RP3betaRecommender: Similarity column 38121 (100.0%), 651.02 column/sec. Elapsed time 58.56 sec\n",
      "EvaluatorHoldout: Processed 35595 (100.0%) in 37.77 sec. Users per second: 942\n"
     ]
    },
    {
     "name": "stderr",
     "output_type": "stream",
     "text": [
      "[I 2024-12-24 04:48:12,284] Trial 92 finished with value: 0.019607364151822612 and parameters: {'topK': 121, 'alpha': 0.3391438762556881, 'beta': 0.3290496692657702, 'normalize_similarity': True, 'implicit': False}. Best is trial 91 with value: 0.01972456560467509.\n"
     ]
    },
    {
     "name": "stdout",
     "output_type": "stream",
     "text": [
      "RP3betaRecommender: Similarity column 38121 (100.0%), 651.66 column/sec. Elapsed time 58.50 sec\n",
      "EvaluatorHoldout: Processed 35595 (100.0%) in 36.85 sec. Users per second: 966\n"
     ]
    },
    {
     "name": "stderr",
     "output_type": "stream",
     "text": [
      "[I 2024-12-24 04:49:51,734] Trial 93 finished with value: 0.01662281576019482 and parameters: {'topK': 109, 'alpha': 0.1077349526324688, 'beta': 0.32128630870065517, 'normalize_similarity': True, 'implicit': False}. Best is trial 91 with value: 0.01972456560467509.\n"
     ]
    },
    {
     "name": "stdout",
     "output_type": "stream",
     "text": [
      "RP3betaRecommender: Similarity column 38121 (100.0%), 722.47 column/sec. Elapsed time 52.76 sec\n",
      "EvaluatorHoldout: Processed 35595 (100.0%) in 32.32 sec. Users per second: 1101\n"
     ]
    },
    {
     "name": "stderr",
     "output_type": "stream",
     "text": [
      "[I 2024-12-24 04:51:18,240] Trial 94 finished with value: 0.023107177974434116 and parameters: {'topK': 9, 'alpha': 0.34157046881880787, 'beta': 0.3083563477321993, 'normalize_similarity': True, 'implicit': False}. Best is trial 94 with value: 0.023107177974434116.\n"
     ]
    },
    {
     "name": "stdout",
     "output_type": "stream",
     "text": [
      "RP3betaRecommender: Similarity column 38121 (100.0%), 700.78 column/sec. Elapsed time 54.40 sec\n",
      "EvaluatorHoldout: Processed 35595 (100.0%) in 33.25 sec. Users per second: 1070\n"
     ]
    },
    {
     "name": "stderr",
     "output_type": "stream",
     "text": [
      "[I 2024-12-24 04:52:47,658] Trial 95 finished with value: 0.01823101715284616 and parameters: {'topK': 35, 'alpha': 0.3163196168749599, 'beta': 0.04879930793018916, 'normalize_similarity': True, 'implicit': False}. Best is trial 94 with value: 0.023107177974434116.\n"
     ]
    },
    {
     "name": "stdout",
     "output_type": "stream",
     "text": [
      "RP3betaRecommender: Similarity column 38121 (100.0%), 666.73 column/sec. Elapsed time 57.18 sec\n",
      "EvaluatorHoldout: Processed 35595 (100.0%) in 35.50 sec. Users per second: 1003\n"
     ]
    },
    {
     "name": "stderr",
     "output_type": "stream",
     "text": [
      "[I 2024-12-24 04:54:23,423] Trial 96 finished with value: 0.014109918238026547 and parameters: {'topK': 88, 'alpha': 0.23049766625014367, 'beta': 0.18799246084018037, 'normalize_similarity': False, 'implicit': False}. Best is trial 94 with value: 0.023107177974434116.\n"
     ]
    },
    {
     "name": "stdout",
     "output_type": "stream",
     "text": [
      "RP3betaRecommender: Similarity column 38121 (100.0%), 630.28 column/sec. Elapsed time 1.01 min\n",
      "EvaluatorHoldout: Processed 35595 (100.0%) in 38.20 sec. Users per second: 932\n"
     ]
    },
    {
     "name": "stderr",
     "output_type": "stream",
     "text": [
      "[I 2024-12-24 04:56:07,746] Trial 97 finished with value: 0.018330225174304483 and parameters: {'topK': 152, 'alpha': 0.24702966968642476, 'beta': 0.3529909242290089, 'normalize_similarity': True, 'implicit': False}. Best is trial 94 with value: 0.023107177974434116.\n"
     ]
    },
    {
     "name": "stdout",
     "output_type": "stream",
     "text": [
      "RP3betaRecommender: Similarity column 38121 (100.0%), 590.81 column/sec. Elapsed time 1.08 min\n",
      "EvaluatorHoldout: Processed 35595 (100.0%) in 38.64 sec. Users per second: 921\n"
     ]
    },
    {
     "name": "stderr",
     "output_type": "stream",
     "text": [
      "[I 2024-12-24 04:57:57,238] Trial 98 finished with value: 0.017033923303835005 and parameters: {'topK': 217, 'alpha': 0.33841222586476394, 'beta': 0.15809692923732874, 'normalize_similarity': True, 'implicit': False}. Best is trial 94 with value: 0.023107177974434116.\n"
     ]
    },
    {
     "name": "stdout",
     "output_type": "stream",
     "text": [
      "RP3betaRecommender: Similarity column 38121 (100.0%), 722.16 column/sec. Elapsed time 52.79 sec\n",
      "EvaluatorHoldout: Processed 35595 (100.0%) in 30.03 sec. Users per second: 1185\n"
     ]
    },
    {
     "name": "stderr",
     "output_type": "stream",
     "text": [
      "[I 2024-12-24 04:59:21,270] Trial 99 finished with value: 0.018087287094451038 and parameters: {'topK': 4, 'alpha': 0.17626450803482469, 'beta': 0.07115575588055806, 'normalize_similarity': True, 'implicit': False}. Best is trial 94 with value: 0.023107177974434116.\n"
     ]
    },
    {
     "name": "stdout",
     "output_type": "stream",
     "text": [
      "RP3betaRecommender: Similarity column 38121 (100.0%), 652.15 column/sec. Elapsed time 58.45 sec\n",
      "EvaluatorHoldout: Processed 35595 (100.0%) in 37.01 sec. Users per second: 962\n"
     ]
    },
    {
     "name": "stderr",
     "output_type": "stream",
     "text": [
      "[I 2024-12-24 05:01:01,001] Trial 100 finished with value: 0.01631958853682435 and parameters: {'topK': 108, 'alpha': 0.08267874749197357, 'beta': 0.4311303450352507, 'normalize_similarity': True, 'implicit': False}. Best is trial 94 with value: 0.023107177974434116.\n"
     ]
    },
    {
     "name": "stdout",
     "output_type": "stream",
     "text": [
      "RP3betaRecommender: Similarity column 38121 (100.0%), 640.74 column/sec. Elapsed time 59.50 sec\n",
      "EvaluatorHoldout: Processed 35595 (100.0%) in 38.52 sec. Users per second: 924\n"
     ]
    },
    {
     "name": "stderr",
     "output_type": "stream",
     "text": [
      "[I 2024-12-24 05:02:44,485] Trial 101 finished with value: 0.019760244773097606 and parameters: {'topK': 132, 'alpha': 0.404071076874002, 'beta': 0.3304564906469858, 'normalize_similarity': True, 'implicit': False}. Best is trial 94 with value: 0.023107177974434116.\n"
     ]
    },
    {
     "name": "stdout",
     "output_type": "stream",
     "text": [
      "RP3betaRecommender: Similarity column 38121 (100.0%), 636.59 column/sec. Elapsed time 59.88 sec\n",
      "EvaluatorHoldout: Processed 35595 (100.0%) in 38.23 sec. Users per second: 931\n"
     ]
    },
    {
     "name": "stderr",
     "output_type": "stream",
     "text": [
      "[I 2024-12-24 05:04:27,949] Trial 102 finished with value: 0.019415145474774607 and parameters: {'topK': 140, 'alpha': 0.3594446212256374, 'beta': 0.3138962964391322, 'normalize_similarity': True, 'implicit': False}. Best is trial 94 with value: 0.023107177974434116.\n"
     ]
    },
    {
     "name": "stdout",
     "output_type": "stream",
     "text": [
      "RP3betaRecommender: Similarity column 38121 (100.0%), 672.79 column/sec. Elapsed time 56.66 sec\n",
      "EvaluatorHoldout: Processed 35595 (100.0%) in 36.17 sec. Users per second: 984\n"
     ]
    },
    {
     "name": "stderr",
     "output_type": "stream",
     "text": [
      "[I 2024-12-24 05:06:04,138] Trial 103 finished with value: 0.020502056869945433 and parameters: {'topK': 75, 'alpha': 0.37944951424697454, 'beta': 0.3243794728903933, 'normalize_similarity': True, 'implicit': False}. Best is trial 94 with value: 0.023107177974434116.\n"
     ]
    },
    {
     "name": "stdout",
     "output_type": "stream",
     "text": [
      "RP3betaRecommender: Similarity column 38121 (100.0%), 670.94 column/sec. Elapsed time 56.82 sec\n",
      "EvaluatorHoldout: Processed 35595 (100.0%) in 36.73 sec. Users per second: 969\n"
     ]
    },
    {
     "name": "stderr",
     "output_type": "stream",
     "text": [
      "[I 2024-12-24 05:07:41,506] Trial 104 finished with value: 0.02045542556583416 and parameters: {'topK': 82, 'alpha': 0.38066891052610474, 'beta': 0.332652399039224, 'normalize_similarity': True, 'implicit': False}. Best is trial 94 with value: 0.023107177974434116.\n"
     ]
    },
    {
     "name": "stdout",
     "output_type": "stream",
     "text": [
      "RP3betaRecommender: Similarity column 38121 (100.0%), 693.80 column/sec. Elapsed time 54.95 sec\n",
      "EvaluatorHoldout: Processed 35595 (100.0%) in 35.11 sec. Users per second: 1014\n"
     ]
    },
    {
     "name": "stderr",
     "output_type": "stream",
     "text": [
      "[I 2024-12-24 05:09:14,229] Trial 105 finished with value: 0.020966864884268757 and parameters: {'topK': 51, 'alpha': 0.3643549119505377, 'beta': 0.33071535020364856, 'normalize_similarity': True, 'implicit': False}. Best is trial 94 with value: 0.023107177974434116.\n"
     ]
    },
    {
     "name": "stdout",
     "output_type": "stream",
     "text": [
      "RP3betaRecommender: Similarity column 38121 (100.0%), 692.78 column/sec. Elapsed time 55.03 sec\n",
      "EvaluatorHoldout: Processed 35595 (100.0%) in 35.04 sec. Users per second: 1016\n"
     ]
    },
    {
     "name": "stderr",
     "output_type": "stream",
     "text": [
      "[I 2024-12-24 05:10:47,065] Trial 106 finished with value: 0.02022158565163185 and parameters: {'topK': 54, 'alpha': 0.27721745906011996, 'beta': 0.3389525245646069, 'normalize_similarity': True, 'implicit': False}. Best is trial 94 with value: 0.023107177974434116.\n"
     ]
    },
    {
     "name": "stdout",
     "output_type": "stream",
     "text": [
      "RP3betaRecommender: Similarity column 38121 (100.0%), 688.61 column/sec. Elapsed time 55.36 sec\n",
      "EvaluatorHoldout: Processed 35595 (100.0%) in 34.85 sec. Users per second: 1021\n"
     ]
    },
    {
     "name": "stderr",
     "output_type": "stream",
     "text": [
      "[I 2024-12-24 05:12:19,963] Trial 107 finished with value: 0.01876058925700728 and parameters: {'topK': 59, 'alpha': 0.16599202844306232, 'beta': 0.3469362250044336, 'normalize_similarity': True, 'implicit': False}. Best is trial 94 with value: 0.023107177974434116.\n"
     ]
    },
    {
     "name": "stdout",
     "output_type": "stream",
     "text": [
      "RP3betaRecommender: Similarity column 38121 (100.0%), 602.75 column/sec. Elapsed time 1.05 min\n",
      "EvaluatorHoldout: Processed 35595 (100.0%) in 36.39 sec. Users per second: 978\n"
     ]
    },
    {
     "name": "stderr",
     "output_type": "stream",
     "text": [
      "[I 2024-12-24 05:14:07,134] Trial 108 finished with value: 0.018028237647074646 and parameters: {'topK': 199, 'alpha': 0.2519326869924905, 'beta': 0.41968157362549446, 'normalize_similarity': True, 'implicit': True}. Best is trial 94 with value: 0.023107177974434116.\n"
     ]
    },
    {
     "name": "stdout",
     "output_type": "stream",
     "text": [
      "RP3betaRecommender: Similarity column 38121 (100.0%), 681.01 column/sec. Elapsed time 55.98 sec\n",
      "EvaluatorHoldout: Processed 35595 (100.0%) in 36.74 sec. Users per second: 969\n"
     ]
    },
    {
     "name": "stderr",
     "output_type": "stream",
     "text": [
      "[I 2024-12-24 05:15:43,633] Trial 109 finished with value: 0.010637395567863585 and parameters: {'topK': 69, 'alpha': 1.975530016145548, 'beta': 0.6734811218287203, 'normalize_similarity': True, 'implicit': False}. Best is trial 94 with value: 0.023107177974434116.\n"
     ]
    },
    {
     "name": "stdout",
     "output_type": "stream",
     "text": [
      "RP3betaRecommender: Similarity column 38121 (100.0%), 716.50 column/sec. Elapsed time 53.20 sec\n",
      "EvaluatorHoldout: Processed 35595 (100.0%) in 32.38 sec. Users per second: 1099\n"
     ]
    },
    {
     "name": "stderr",
     "output_type": "stream",
     "text": [
      "[I 2024-12-24 05:17:10,730] Trial 110 finished with value: 0.014735993774763697 and parameters: {'topK': 17, 'alpha': 0.06923332037033053, 'beta': 0.5981251463563451, 'normalize_similarity': False, 'implicit': False}. Best is trial 94 with value: 0.023107177974434116.\n"
     ]
    },
    {
     "name": "stdout",
     "output_type": "stream",
     "text": [
      "RP3betaRecommender: Similarity column 38121 (100.0%), 646.08 column/sec. Elapsed time 59.00 sec\n",
      "EvaluatorHoldout: Processed 35595 (100.0%) in 37.83 sec. Users per second: 941\n"
     ]
    },
    {
     "name": "stderr",
     "output_type": "stream",
     "text": [
      "[I 2024-12-24 05:18:52,216] Trial 111 finished with value: 0.018999186170699022 and parameters: {'topK': 122, 'alpha': 0.2869189664520552, 'beta': 0.31623112273543785, 'normalize_similarity': True, 'implicit': False}. Best is trial 94 with value: 0.023107177974434116.\n"
     ]
    },
    {
     "name": "stdout",
     "output_type": "stream",
     "text": [
      "RP3betaRecommender: Similarity column 38121 (100.0%), 677.22 column/sec. Elapsed time 56.29 sec\n",
      "EvaluatorHoldout: Processed 35595 (100.0%) in 36.06 sec. Users per second: 987\n"
     ]
    },
    {
     "name": "stderr",
     "output_type": "stream",
     "text": [
      "[I 2024-12-24 05:20:27,917] Trial 112 finished with value: 0.02059830054604568 and parameters: {'topK': 70, 'alpha': 0.364639152651554, 'beta': 0.38887838284496, 'normalize_similarity': True, 'implicit': False}. Best is trial 94 with value: 0.023107177974434116.\n"
     ]
    },
    {
     "name": "stdout",
     "output_type": "stream",
     "text": [
      "RP3betaRecommender: Similarity column 38121 (100.0%), 673.08 column/sec. Elapsed time 56.64 sec\n",
      "EvaluatorHoldout: Processed 35595 (100.0%) in 36.54 sec. Users per second: 974\n"
     ]
    },
    {
     "name": "stderr",
     "output_type": "stream",
     "text": [
      "[I 2024-12-24 05:22:04,693] Trial 113 finished with value: 0.020458214882150605 and parameters: {'topK': 77, 'alpha': 0.35658712178308055, 'beta': 0.38478840929248187, 'normalize_similarity': True, 'implicit': False}. Best is trial 94 with value: 0.023107177974434116.\n"
     ]
    },
    {
     "name": "stdout",
     "output_type": "stream",
     "text": [
      "RP3betaRecommender: Similarity column 38121 (100.0%), 671.28 column/sec. Elapsed time 56.79 sec\n",
      "EvaluatorHoldout: Processed 35595 (100.0%) in 36.11 sec. Users per second: 986\n"
     ]
    },
    {
     "name": "stderr",
     "output_type": "stream",
     "text": [
      "[I 2024-12-24 05:23:41,039] Trial 114 finished with value: 0.018702484074586856 and parameters: {'topK': 80, 'alpha': 0.19345299177767442, 'beta': 0.3874829845031903, 'normalize_similarity': True, 'implicit': False}. Best is trial 94 with value: 0.023107177974434116.\n"
     ]
    },
    {
     "name": "stdout",
     "output_type": "stream",
     "text": [
      "RP3betaRecommender: Similarity column 38121 (100.0%), 693.70 column/sec. Elapsed time 54.95 sec\n",
      "EvaluatorHoldout: Processed 35595 (100.0%) in 34.83 sec. Users per second: 1022\n"
     ]
    },
    {
     "name": "stderr",
     "output_type": "stream",
     "text": [
      "[I 2024-12-24 05:25:13,362] Trial 115 finished with value: 0.020471906166596283 and parameters: {'topK': 48, 'alpha': 0.27772752397110084, 'beta': 0.3470016780622355, 'normalize_similarity': True, 'implicit': False}. Best is trial 94 with value: 0.023107177974434116.\n"
     ]
    },
    {
     "name": "stdout",
     "output_type": "stream",
     "text": [
      "RP3betaRecommender: Similarity column 38121 (100.0%), 699.83 column/sec. Elapsed time 54.47 sec\n",
      "EvaluatorHoldout: Processed 35595 (100.0%) in 34.98 sec. Users per second: 1018\n"
     ]
    },
    {
     "name": "stderr",
     "output_type": "stream",
     "text": [
      "[I 2024-12-24 05:26:45,598] Trial 116 finished with value: 0.020060255698477136 and parameters: {'topK': 49, 'alpha': 0.27370413316355263, 'beta': 0.5311447508445212, 'normalize_similarity': True, 'implicit': False}. Best is trial 94 with value: 0.023107177974434116.\n"
     ]
    },
    {
     "name": "stdout",
     "output_type": "stream",
     "text": [
      "RP3betaRecommender: Similarity column 38121 (100.0%), 704.89 column/sec. Elapsed time 54.08 sec\n",
      "EvaluatorHoldout: Processed 35595 (100.0%) in 33.93 sec. Users per second: 1049\n"
     ]
    },
    {
     "name": "stderr",
     "output_type": "stream",
     "text": [
      "[I 2024-12-24 05:28:15,655] Trial 117 finished with value: 0.018928292719906703 and parameters: {'topK': 32, 'alpha': 0.12609094862184697, 'beta': 0.5221634659421087, 'normalize_similarity': True, 'implicit': False}. Best is trial 94 with value: 0.023107177974434116.\n"
     ]
    },
    {
     "name": "stdout",
     "output_type": "stream",
     "text": [
      "RP3betaRecommender: Similarity column 38121 (100.0%), 688.25 column/sec. Elapsed time 55.39 sec\n",
      "EvaluatorHoldout: Processed 35595 (100.0%) in 35.27 sec. Users per second: 1009\n"
     ]
    },
    {
     "name": "stderr",
     "output_type": "stream",
     "text": [
      "[I 2024-12-24 05:29:49,327] Trial 118 finished with value: 0.02006971618539247 and parameters: {'topK': 57, 'alpha': 0.2630331074394475, 'beta': 0.43959617094549513, 'normalize_similarity': True, 'implicit': False}. Best is trial 94 with value: 0.023107177974434116.\n"
     ]
    },
    {
     "name": "stdout",
     "output_type": "stream",
     "text": [
      "RP3betaRecommender: Similarity column 38121 (100.0%), 684.90 column/sec. Elapsed time 55.66 sec\n",
      "EvaluatorHoldout: Processed 35595 (100.0%) in 35.46 sec. Users per second: 1004\n"
     ]
    },
    {
     "name": "stderr",
     "output_type": "stream",
     "text": [
      "[I 2024-12-24 05:31:23,482] Trial 119 finished with value: 0.01956180977799171 and parameters: {'topK': 63, 'alpha': 0.22773089797851687, 'beta': 0.4186387197933628, 'normalize_similarity': True, 'implicit': False}. Best is trial 94 with value: 0.023107177974434116.\n"
     ]
    },
    {
     "name": "stdout",
     "output_type": "stream",
     "text": [
      "RP3betaRecommender: Similarity column 38121 (100.0%), 779.90 column/sec. Elapsed time 48.88 sec\n",
      "EvaluatorHoldout: Processed 35595 (100.0%) in 29.61 sec. Users per second: 1202\n"
     ]
    },
    {
     "name": "stderr",
     "output_type": "stream",
     "text": [
      "[I 2024-12-24 05:32:43,221] Trial 120 finished with value: 0.020653126999734508 and parameters: {'topK': 3, 'alpha': 0.26275842408105987, 'beta': 0.45067007044900187, 'normalize_similarity': True, 'implicit': False}. Best is trial 94 with value: 0.023107177974434116.\n"
     ]
    },
    {
     "name": "stdout",
     "output_type": "stream",
     "text": [
      "RP3betaRecommender: Similarity column 38121 (100.0%), 695.99 column/sec. Elapsed time 54.77 sec\n",
      "EvaluatorHoldout: Processed 35595 (100.0%) in 35.12 sec. Users per second: 1014\n"
     ]
    },
    {
     "name": "stderr",
     "output_type": "stream",
     "text": [
      "[I 2024-12-24 05:34:15,985] Trial 121 finished with value: 0.02031552384965766 and parameters: {'topK': 50, 'alpha': 0.28223649372823306, 'beta': 0.4685973570842519, 'normalize_similarity': True, 'implicit': False}. Best is trial 94 with value: 0.023107177974434116.\n"
     ]
    },
    {
     "name": "stdout",
     "output_type": "stream",
     "text": [
      "RP3betaRecommender: Similarity column 38121 (100.0%), 776.68 column/sec. Elapsed time 49.08 sec\n",
      "EvaluatorHoldout: Processed 35595 (100.0%) in 29.41 sec. Users per second: 1211\n"
     ]
    },
    {
     "name": "stderr",
     "output_type": "stream",
     "text": [
      "[I 2024-12-24 05:35:35,677] Trial 122 finished with value: 0.019444034185289942 and parameters: {'topK': 3, 'alpha': 0.14843839761601435, 'beta': 0.5574992243112211, 'normalize_similarity': True, 'implicit': False}. Best is trial 94 with value: 0.023107177974434116.\n"
     ]
    },
    {
     "name": "stdout",
     "output_type": "stream",
     "text": [
      "RP3betaRecommender: Similarity column 38121 (100.0%), 697.11 column/sec. Elapsed time 54.68 sec\n",
      "EvaluatorHoldout: Processed 35595 (100.0%) in 34.32 sec. Users per second: 1037\n"
     ]
    },
    {
     "name": "stderr",
     "output_type": "stream",
     "text": [
      "[I 2024-12-24 05:37:07,075] Trial 123 finished with value: 0.016792929495626715 and parameters: {'topK': 46, 'alpha': 0.025078622285698238, 'beta': 0.4550433127784324, 'normalize_similarity': True, 'implicit': False}. Best is trial 94 with value: 0.023107177974434116.\n"
     ]
    },
    {
     "name": "stdout",
     "output_type": "stream",
     "text": [
      "RP3betaRecommender: Similarity column 38121 (100.0%), 702.32 column/sec. Elapsed time 54.28 sec\n",
      "EvaluatorHoldout: Processed 35595 (100.0%) in 34.46 sec. Users per second: 1033\n"
     ]
    },
    {
     "name": "stderr",
     "output_type": "stream",
     "text": [
      "[I 2024-12-24 05:38:38,116] Trial 124 finished with value: 0.01836733579042886 and parameters: {'topK': 45, 'alpha': 0.26094500538298643, 'beta': 0.6459290364398934, 'normalize_similarity': True, 'implicit': False}. Best is trial 94 with value: 0.023107177974434116.\n"
     ]
    },
    {
     "name": "stdout",
     "output_type": "stream",
     "text": [
      "RP3betaRecommender: Similarity column 38121 (100.0%), 684.78 column/sec. Elapsed time 55.67 sec\n",
      "EvaluatorHoldout: Processed 35595 (100.0%) in 34.45 sec. Users per second: 1033\n"
     ]
    },
    {
     "name": "stderr",
     "output_type": "stream",
     "text": [
      "[I 2024-12-24 05:40:10,866] Trial 125 finished with value: 0.014344878561060993 and parameters: {'topK': 77, 'alpha': 0.39446824281572074, 'beta': 0.7876907594719686, 'normalize_similarity': True, 'implicit': False}. Best is trial 94 with value: 0.023107177974434116.\n"
     ]
    },
    {
     "name": "stdout",
     "output_type": "stream",
     "text": [
      "RP3betaRecommender: Similarity column 38121 (100.0%), 603.24 column/sec. Elapsed time 1.05 min\n",
      "EvaluatorHoldout: Processed 35595 (100.0%) in 35.42 sec. Users per second: 1005\n"
     ]
    },
    {
     "name": "stderr",
     "output_type": "stream",
     "text": [
      "[I 2024-12-24 05:41:57,174] Trial 126 finished with value: 0.018321250755300444 and parameters: {'topK': 187, 'alpha': 0.2784274924074932, 'beta': 0.4774132048572643, 'normalize_similarity': True, 'implicit': False}. Best is trial 94 with value: 0.023107177974434116.\n"
     ]
    },
    {
     "name": "stdout",
     "output_type": "stream",
     "text": [
      "RP3betaRecommender: Similarity column 38121 (100.0%), 843.11 column/sec. Elapsed time 45.21 sec\n",
      "EvaluatorHoldout: Processed 35595 (100.0%) in 28.87 sec. Users per second: 1233\n"
     ]
    },
    {
     "name": "stderr",
     "output_type": "stream",
     "text": [
      "[I 2024-12-24 05:43:12,445] Trial 127 finished with value: 0.017800976372194348 and parameters: {'topK': 2, 'alpha': 0.1674426977438265, 'beta': 0.38521700510086987, 'normalize_similarity': True, 'implicit': False}. Best is trial 94 with value: 0.023107177974434116.\n"
     ]
    },
    {
     "name": "stdout",
     "output_type": "stream",
     "text": [
      "RP3betaRecommender: Similarity column 38121 (100.0%), 708.92 column/sec. Elapsed time 53.77 sec\n",
      "EvaluatorHoldout: Processed 35595 (100.0%) in 34.88 sec. Users per second: 1020\n"
     ]
    },
    {
     "name": "stderr",
     "output_type": "stream",
     "text": [
      "[I 2024-12-24 05:44:43,761] Trial 128 finished with value: 0.01139314867212071 and parameters: {'topK': 37, 'alpha': 1.6617491904684556, 'beta': 0.6054358641967335, 'normalize_similarity': True, 'implicit': True}. Best is trial 94 with value: 0.023107177974434116.\n"
     ]
    },
    {
     "name": "stdout",
     "output_type": "stream",
     "text": [
      "RP3betaRecommender: Similarity column 38121 (100.0%), 663.37 column/sec. Elapsed time 57.47 sec\n",
      "EvaluatorHoldout: Processed 35595 (100.0%) in 37.45 sec. Users per second: 951\n"
     ]
    },
    {
     "name": "stderr",
     "output_type": "stream",
     "text": [
      "[I 2024-12-24 05:46:23,286] Trial 129 finished with value: 0.019111971763467617 and parameters: {'topK': 93, 'alpha': 0.5054278259489354, 'beta': 0.5377836583460731, 'normalize_similarity': True, 'implicit': False}. Best is trial 94 with value: 0.023107177974434116.\n"
     ]
    },
    {
     "name": "stdout",
     "output_type": "stream",
     "text": [
      "RP3betaRecommender: Similarity column 38121 (100.0%), 686.17 column/sec. Elapsed time 55.56 sec\n",
      "EvaluatorHoldout: Processed 35595 (100.0%) in 36.08 sec. Users per second: 987\n"
     ]
    },
    {
     "name": "stderr",
     "output_type": "stream",
     "text": [
      "[I 2024-12-24 05:47:58,624] Trial 130 finished with value: 0.00906356341291035 and parameters: {'topK': 68, 'alpha': 2.483339478454059, 'beta': 0.1498628982117829, 'normalize_similarity': True, 'implicit': False}. Best is trial 94 with value: 0.023107177974434116.\n"
     ]
    },
    {
     "name": "stdout",
     "output_type": "stream",
     "text": [
      "RP3betaRecommender: Similarity column 38121 (100.0%), 665.34 column/sec. Elapsed time 57.30 sec\n",
      "EvaluatorHoldout: Processed 35595 (100.0%) in 37.03 sec. Users per second: 961\n"
     ]
    },
    {
     "name": "stderr",
     "output_type": "stream",
     "text": [
      "[I 2024-12-24 05:49:37,116] Trial 131 finished with value: 0.02044452582737431 and parameters: {'topK': 91, 'alpha': 0.40761763579493016, 'beta': 0.39021015443175566, 'normalize_similarity': True, 'implicit': False}. Best is trial 94 with value: 0.023107177974434116.\n"
     ]
    },
    {
     "name": "stdout",
     "output_type": "stream",
     "text": [
      "RP3betaRecommender: Similarity column 38121 (100.0%), 766.35 column/sec. Elapsed time 49.74 sec\n",
      "EvaluatorHoldout: Processed 35595 (100.0%) in 25.91 sec. Users per second: 1374\n"
     ]
    },
    {
     "name": "stderr",
     "output_type": "stream",
     "text": [
      "[I 2024-12-24 05:50:53,852] Trial 132 finished with value: 0.0003611752141039954 and parameters: {'topK': 15, 'alpha': 0.2235267333438687, 'beta': 2.572425193885043, 'normalize_similarity': True, 'implicit': False}. Best is trial 94 with value: 0.023107177974434116.\n"
     ]
    },
    {
     "name": "stdout",
     "output_type": "stream",
     "text": [
      "RP3betaRecommender: Similarity column 38121 (100.0%), 692.58 column/sec. Elapsed time 55.04 sec\n",
      "EvaluatorHoldout: Processed 35595 (100.0%) in 35.12 sec. Users per second: 1013\n"
     ]
    },
    {
     "name": "stderr",
     "output_type": "stream",
     "text": [
      "[I 2024-12-24 05:52:26,890] Trial 133 finished with value: 0.02096298525965582 and parameters: {'topK': 50, 'alpha': 0.3958066041633768, 'beta': 0.44823473048482976, 'normalize_similarity': True, 'implicit': False}. Best is trial 94 with value: 0.023107177974434116.\n"
     ]
    },
    {
     "name": "stdout",
     "output_type": "stream",
     "text": [
      "RP3betaRecommender: Similarity column 38121 (100.0%), 689.75 column/sec. Elapsed time 55.27 sec\n",
      "EvaluatorHoldout: Processed 35595 (100.0%) in 36.27 sec. Users per second: 981\n"
     ]
    },
    {
     "name": "stderr",
     "output_type": "stream",
     "text": [
      "[I 2024-12-24 05:54:01,151] Trial 134 finished with value: 0.020315740127581524 and parameters: {'topK': 51, 'alpha': 0.2859813974918197, 'beta': 0.4547041165834522, 'normalize_similarity': True, 'implicit': False}. Best is trial 94 with value: 0.023107177974434116.\n"
     ]
    },
    {
     "name": "stdout",
     "output_type": "stream",
     "text": [
      "RP3betaRecommender: Similarity column 38121 (100.0%), 669.02 column/sec. Elapsed time 56.98 sec\n",
      "EvaluatorHoldout: Processed 35595 (100.0%) in 36.88 sec. Users per second: 965\n"
     ]
    },
    {
     "name": "stderr",
     "output_type": "stream",
     "text": [
      "[I 2024-12-24 05:55:39,174] Trial 135 finished with value: 0.020277444442214507 and parameters: {'topK': 85, 'alpha': 0.4126275242478778, 'beta': 0.44811410489121345, 'normalize_similarity': True, 'implicit': False}. Best is trial 94 with value: 0.023107177974434116.\n"
     ]
    },
    {
     "name": "stdout",
     "output_type": "stream",
     "text": [
      "RP3betaRecommender: Similarity column 38121 (100.0%), 676.96 column/sec. Elapsed time 56.31 sec\n",
      "EvaluatorHoldout: Processed 35595 (100.0%) in 33.55 sec. Users per second: 1061\n"
     ]
    },
    {
     "name": "stderr",
     "output_type": "stream",
     "text": [
      "[I 2024-12-24 05:57:11,462] Trial 136 finished with value: 0.007761646120263986 and parameters: {'topK': 97, 'alpha': 0.4276051355587205, 'beta': 1.1123374139788118, 'normalize_similarity': True, 'implicit': False}. Best is trial 94 with value: 0.023107177974434116.\n"
     ]
    },
    {
     "name": "stdout",
     "output_type": "stream",
     "text": [
      "RP3betaRecommender: Similarity column 38121 (100.0%), 606.90 column/sec. Elapsed time 1.05 min\n",
      "EvaluatorHoldout: Processed 35595 (100.0%) in 41.13 sec. Users per second: 865\n"
     ]
    },
    {
     "name": "stderr",
     "output_type": "stream",
     "text": [
      "[I 2024-12-24 05:59:03,738] Trial 137 finished with value: 0.017279321823780374 and parameters: {'topK': 190, 'alpha': 0.5869764040592595, 'beta': 0.38516049829410914, 'normalize_similarity': False, 'implicit': False}. Best is trial 94 with value: 0.023107177974434116.\n"
     ]
    },
    {
     "name": "stdout",
     "output_type": "stream",
     "text": [
      "RP3betaRecommender: Similarity column 38121 (100.0%), 714.69 column/sec. Elapsed time 53.34 sec\n",
      "EvaluatorHoldout: Processed 35595 (100.0%) in 33.37 sec. Users per second: 1067\n"
     ]
    },
    {
     "name": "stderr",
     "output_type": "stream",
     "text": [
      "[I 2024-12-24 06:00:32,299] Trial 138 finished with value: 0.016406269161220836 and parameters: {'topK': 25, 'alpha': 0.4966616515850108, 'beta': 0.7131087761112493, 'normalize_similarity': True, 'implicit': False}. Best is trial 94 with value: 0.023107177974434116.\n"
     ]
    },
    {
     "name": "stdout",
     "output_type": "stream",
     "text": [
      "RP3betaRecommender: Similarity column 38121 (100.0%), 665.68 column/sec. Elapsed time 57.27 sec\n",
      "EvaluatorHoldout: Processed 35595 (100.0%) in 36.82 sec. Users per second: 967\n"
     ]
    },
    {
     "name": "stderr",
     "output_type": "stream",
     "text": [
      "[I 2024-12-24 06:02:10,504] Trial 139 finished with value: 0.020254941504625243 and parameters: {'topK': 86, 'alpha': 0.39456039938527676, 'beta': 0.46012499292482306, 'normalize_similarity': True, 'implicit': False}. Best is trial 94 with value: 0.023107177974434116.\n"
     ]
    },
    {
     "name": "stdout",
     "output_type": "stream",
     "text": [
      "RP3betaRecommender: Similarity column 38121 (100.0%), 583.27 column/sec. Elapsed time 1.09 min\n",
      "EvaluatorHoldout: Processed 35595 (100.0%) in 41.65 sec. Users per second: 855\n"
     ]
    },
    {
     "name": "stderr",
     "output_type": "stream",
     "text": [
      "[I 2024-12-24 06:04:07,249] Trial 140 finished with value: 0.0189561134188188 and parameters: {'topK': 235, 'alpha': 0.3905919235132049, 'beta': 0.4847686088995182, 'normalize_similarity': True, 'implicit': False}. Best is trial 94 with value: 0.023107177974434116.\n"
     ]
    },
    {
     "name": "stdout",
     "output_type": "stream",
     "text": [
      "RP3betaRecommender: Similarity column 38121 (100.0%), 668.33 column/sec. Elapsed time 57.04 sec\n",
      "EvaluatorHoldout: Processed 35595 (100.0%) in 36.67 sec. Users per second: 971\n"
     ]
    },
    {
     "name": "stderr",
     "output_type": "stream",
     "text": [
      "[I 2024-12-24 06:05:44,874] Trial 141 finished with value: 0.01983896101869115 and parameters: {'topK': 89, 'alpha': 0.30817599337738, 'beta': 0.4365280582570237, 'normalize_similarity': True, 'implicit': False}. Best is trial 94 with value: 0.023107177974434116.\n"
     ]
    },
    {
     "name": "stdout",
     "output_type": "stream",
     "text": [
      "RP3betaRecommender: Similarity column 38121 (100.0%), 709.45 column/sec. Elapsed time 53.73 sec\n",
      "EvaluatorHoldout: Processed 35595 (100.0%) in 34.29 sec. Users per second: 1038\n"
     ]
    },
    {
     "name": "stderr",
     "output_type": "stream",
     "text": [
      "[I 2024-12-24 06:07:15,054] Trial 142 finished with value: 0.021700879827512523 and parameters: {'topK': 30, 'alpha': 0.47218969168816816, 'beta': 0.36807905469955515, 'normalize_similarity': True, 'implicit': False}. Best is trial 94 with value: 0.023107177974434116.\n"
     ]
    },
    {
     "name": "stdout",
     "output_type": "stream",
     "text": [
      "RP3betaRecommender: Similarity column 38121 (100.0%), 773.02 column/sec. Elapsed time 49.31 sec\n",
      "EvaluatorHoldout: Processed 35595 (100.0%) in 29.38 sec. Users per second: 1212\n"
     ]
    },
    {
     "name": "stderr",
     "output_type": "stream",
     "text": [
      "[I 2024-12-24 06:08:34,946] Trial 143 finished with value: 0.01749151053407289 and parameters: {'topK': 3, 'alpha': 0.46817026615983687, 'beta': 0.5783256091299249, 'normalize_similarity': True, 'implicit': False}. Best is trial 94 with value: 0.023107177974434116.\n"
     ]
    },
    {
     "name": "stdout",
     "output_type": "stream",
     "text": [
      "RP3betaRecommender: Similarity column 38121 (100.0%), 670.25 column/sec. Elapsed time 56.88 sec\n",
      "EvaluatorHoldout: Processed 35595 (100.0%) in 37.84 sec. Users per second: 941\n"
     ]
    },
    {
     "name": "stderr",
     "output_type": "stream",
     "text": [
      "[I 2024-12-24 06:10:14,571] Trial 144 finished with value: 0.019170211840881746 and parameters: {'topK': 103, 'alpha': 0.6104145977148776, 'beta': 0.3859191308876072, 'normalize_similarity': True, 'implicit': False}. Best is trial 94 with value: 0.023107177974434116.\n"
     ]
    },
    {
     "name": "stdout",
     "output_type": "stream",
     "text": [
      "RP3betaRecommender: Similarity column 38121 (100.0%), 705.60 column/sec. Elapsed time 54.03 sec\n",
      "EvaluatorHoldout: Processed 35595 (100.0%) in 34.43 sec. Users per second: 1034\n"
     ]
    },
    {
     "name": "stderr",
     "output_type": "stream",
     "text": [
      "[I 2024-12-24 06:11:45,378] Trial 145 finished with value: 0.021145550583392705 and parameters: {'topK': 34, 'alpha': 0.3799967286292592, 'beta': 0.4818857716419896, 'normalize_similarity': True, 'implicit': False}. Best is trial 94 with value: 0.023107177974434116.\n"
     ]
    },
    {
     "name": "stdout",
     "output_type": "stream",
     "text": [
      "RP3betaRecommender: Similarity column 38121 (100.0%), 712.79 column/sec. Elapsed time 53.48 sec\n",
      "EvaluatorHoldout: Processed 35595 (100.0%) in 33.50 sec. Users per second: 1063\n"
     ]
    },
    {
     "name": "stderr",
     "output_type": "stream",
     "text": [
      "[I 2024-12-24 06:13:14,098] Trial 146 finished with value: 0.021592841200721313 and parameters: {'topK': 21, 'alpha': 0.49876568503111984, 'beta': 0.20728234678572668, 'normalize_similarity': True, 'implicit': False}. Best is trial 94 with value: 0.023107177974434116.\n"
     ]
    },
    {
     "name": "stdout",
     "output_type": "stream",
     "text": [
      "RP3betaRecommender: Similarity column 38121 (100.0%), 705.58 column/sec. Elapsed time 54.03 sec\n",
      "EvaluatorHoldout: Processed 35595 (100.0%) in 33.64 sec. Users per second: 1058\n"
     ]
    },
    {
     "name": "stderr",
     "output_type": "stream",
     "text": [
      "[I 2024-12-24 06:14:43,661] Trial 147 finished with value: 0.02076965397761837 and parameters: {'topK': 28, 'alpha': 0.483030666088069, 'beta': 0.14340136694234928, 'normalize_similarity': True, 'implicit': False}. Best is trial 94 with value: 0.023107177974434116.\n"
     ]
    },
    {
     "name": "stdout",
     "output_type": "stream",
     "text": [
      "RP3betaRecommender: Similarity column 38121 (100.0%), 1012.26 column/sec. Elapsed time 37.66 sec\n",
      "EvaluatorHoldout: Processed 35595 (100.0%) in 25.22 sec. Users per second: 1411\n"
     ]
    },
    {
     "name": "stderr",
     "output_type": "stream",
     "text": [
      "[I 2024-12-24 06:15:47,152] Trial 148 finished with value: 0.00028209999175022335 and parameters: {'topK': 0, 'alpha': 0.5098097503830408, 'beta': 0.19899621604152962, 'normalize_similarity': True, 'implicit': False}. Best is trial 94 with value: 0.023107177974434116.\n"
     ]
    },
    {
     "name": "stdout",
     "output_type": "stream",
     "text": [
      "RP3betaRecommender: Similarity column 38121 (100.0%), 704.53 column/sec. Elapsed time 54.11 sec\n",
      "EvaluatorHoldout: Processed 35595 (100.0%) in 34.30 sec. Users per second: 1038\n"
     ]
    },
    {
     "name": "stderr",
     "output_type": "stream",
     "text": [
      "[I 2024-12-24 06:17:17,524] Trial 149 finished with value: 0.019842122689783796 and parameters: {'topK': 28, 'alpha': 0.614370106886896, 'beta': 0.11192926456182523, 'normalize_similarity': True, 'implicit': False}. Best is trial 94 with value: 0.023107177974434116.\n"
     ]
    },
    {
     "name": "stdout",
     "output_type": "stream",
     "text": [
      "RP3betaRecommender: Similarity column 38121 (100.0%), 692.38 column/sec. Elapsed time 55.06 sec\n",
      "EvaluatorHoldout: Processed 35595 (100.0%) in 34.27 sec. Users per second: 1039\n"
     ]
    },
    {
     "name": "stderr",
     "output_type": "stream",
     "text": [
      "[I 2024-12-24 06:18:49,104] Trial 150 finished with value: 0.0206131311915129 and parameters: {'topK': 42, 'alpha': 0.4685714972925582, 'beta': 0.21199768591746088, 'normalize_similarity': True, 'implicit': True}. Best is trial 94 with value: 0.023107177974434116.\n"
     ]
    },
    {
     "name": "stdout",
     "output_type": "stream",
     "text": [
      "RP3betaRecommender: Similarity column 38121 (100.0%), 704.10 column/sec. Elapsed time 54.14 sec\n",
      "EvaluatorHoldout: Processed 35595 (100.0%) in 34.73 sec. Users per second: 1025\n"
     ]
    },
    {
     "name": "stderr",
     "output_type": "stream",
     "text": [
      "[I 2024-12-24 06:20:20,438] Trial 151 finished with value: 0.018666035670249735 and parameters: {'topK': 36, 'alpha': 0.740856289463132, 'beta': 0.17951348973043746, 'normalize_similarity': True, 'implicit': False}. Best is trial 94 with value: 0.023107177974434116.\n"
     ]
    },
    {
     "name": "stdout",
     "output_type": "stream",
     "text": [
      "RP3betaRecommender: Similarity column 38121 (100.0%), 677.84 column/sec. Elapsed time 56.24 sec\n",
      "EvaluatorHoldout: Processed 35595 (100.0%) in 34.41 sec. Users per second: 1035\n"
     ]
    },
    {
     "name": "stderr",
     "output_type": "stream",
     "text": [
      "[I 2024-12-24 06:21:53,463] Trial 152 finished with value: 0.017542652459213846 and parameters: {'topK': 65, 'alpha': 0.4806453863075066, 'beta': 0.002942960647083659, 'normalize_similarity': True, 'implicit': True}. Best is trial 94 with value: 0.023107177974434116.\n"
     ]
    },
    {
     "name": "stdout",
     "output_type": "stream",
     "text": [
      "RP3betaRecommender: Similarity column 38121 (100.0%), 642.28 column/sec. Elapsed time 59.35 sec\n",
      "EvaluatorHoldout: Processed 35595 (100.0%) in 36.71 sec. Users per second: 970\n"
     ]
    },
    {
     "name": "stderr",
     "output_type": "stream",
     "text": [
      "[I 2024-12-24 06:23:33,622] Trial 153 finished with value: 0.019029518592097533 and parameters: {'topK': 116, 'alpha': 0.3585037156646123, 'beta': 0.21847274492409166, 'normalize_similarity': True, 'implicit': True}. Best is trial 94 with value: 0.023107177974434116.\n"
     ]
    },
    {
     "name": "stdout",
     "output_type": "stream",
     "text": [
      "RP3betaRecommender: Similarity column 38121 (100.0%), 701.75 column/sec. Elapsed time 54.32 sec\n",
      "EvaluatorHoldout: Processed 35595 (100.0%) in 33.72 sec. Users per second: 1056\n"
     ]
    },
    {
     "name": "stderr",
     "output_type": "stream",
     "text": [
      "[I 2024-12-24 06:25:03,540] Trial 154 finished with value: 0.020218351516286506 and parameters: {'topK': 33, 'alpha': 0.45866745092987427, 'beta': 0.12841654098262484, 'normalize_similarity': True, 'implicit': True}. Best is trial 94 with value: 0.023107177974434116.\n"
     ]
    },
    {
     "name": "stdout",
     "output_type": "stream",
     "text": [
      "RP3betaRecommender: Similarity column 38121 (100.0%), 951.90 column/sec. Elapsed time 40.05 sec\n",
      "EvaluatorHoldout: Processed 35595 (100.0%) in 27.82 sec. Users per second: 1279\n"
     ]
    },
    {
     "name": "stderr",
     "output_type": "stream",
     "text": [
      "[I 2024-12-24 06:26:12,556] Trial 155 finished with value: 0.007959460152464933 and parameters: {'topK': 1, 'alpha': 0.5484715143029719, 'beta': 0.2814814235758936, 'normalize_similarity': True, 'implicit': True}. Best is trial 94 with value: 0.023107177974434116.\n"
     ]
    },
    {
     "name": "stdout",
     "output_type": "stream",
     "text": [
      "RP3betaRecommender: Similarity column 38121 (100.0%), 622.53 column/sec. Elapsed time 1.02 min\n",
      "EvaluatorHoldout: Processed 35595 (100.0%) in 38.95 sec. Users per second: 914\n"
     ]
    },
    {
     "name": "stderr",
     "output_type": "stream",
     "text": [
      "[I 2024-12-24 06:27:59,286] Trial 156 finished with value: 0.019381000318842732 and parameters: {'topK': 172, 'alpha': 0.3650148406230084, 'beta': 0.359373406582895, 'normalize_similarity': True, 'implicit': True}. Best is trial 94 with value: 0.023107177974434116.\n"
     ]
    },
    {
     "name": "stdout",
     "output_type": "stream",
     "text": [
      "RP3betaRecommender: Similarity column 38121 (100.0%), 677.95 column/sec. Elapsed time 56.23 sec\n",
      "EvaluatorHoldout: Processed 35595 (100.0%) in 34.66 sec. Users per second: 1027\n"
     ]
    },
    {
     "name": "stderr",
     "output_type": "stream",
     "text": [
      "[I 2024-12-24 06:29:32,793] Trial 157 finished with value: 0.018455402154306487 and parameters: {'topK': 63, 'alpha': 0.2028809839835702, 'beta': 0.2081355600304281, 'normalize_similarity': True, 'implicit': False}. Best is trial 94 with value: 0.023107177974434116.\n"
     ]
    },
    {
     "name": "stdout",
     "output_type": "stream",
     "text": [
      "RP3betaRecommender: Similarity column 38121 (100.0%), 650.96 column/sec. Elapsed time 58.56 sec\n",
      "EvaluatorHoldout: Processed 35595 (100.0%) in 35.94 sec. Users per second: 990\n"
     ]
    },
    {
     "name": "stderr",
     "output_type": "stream",
     "text": [
      "[I 2024-12-24 06:31:10,800] Trial 158 finished with value: 0.017709695939995183 and parameters: {'topK': 113, 'alpha': 0.43014871928587817, 'beta': 0.08656204484107935, 'normalize_similarity': True, 'implicit': False}. Best is trial 94 with value: 0.023107177974434116.\n"
     ]
    },
    {
     "name": "stdout",
     "output_type": "stream",
     "text": [
      "RP3betaRecommender: Similarity column 38121 (100.0%), 753.76 column/sec. Elapsed time 50.57 sec\n",
      "EvaluatorHoldout: Processed 35595 (100.0%) in 28.48 sec. Users per second: 1250\n"
     ]
    },
    {
     "name": "stderr",
     "output_type": "stream",
     "text": [
      "[I 2024-12-24 06:32:31,053] Trial 159 finished with value: 0.002125026477323139 and parameters: {'topK': 26, 'alpha': 0.3334305949705553, 'beta': 1.7058469192542625, 'normalize_similarity': True, 'implicit': False}. Best is trial 94 with value: 0.023107177974434116.\n"
     ]
    },
    {
     "name": "stdout",
     "output_type": "stream",
     "text": [
      "RP3betaRecommender: Similarity column 38121 (100.0%), 678.80 column/sec. Elapsed time 56.16 sec\n",
      "EvaluatorHoldout: Processed 35595 (100.0%) in 37.67 sec. Users per second: 945\n"
     ]
    },
    {
     "name": "stderr",
     "output_type": "stream",
     "text": [
      "[I 2024-12-24 06:34:08,414] Trial 160 finished with value: 0.01799544701525325 and parameters: {'topK': 69, 'alpha': 0.5278248491886803, 'beta': 0.37923685438178867, 'normalize_similarity': False, 'implicit': False}. Best is trial 94 with value: 0.023107177974434116.\n"
     ]
    },
    {
     "name": "stdout",
     "output_type": "stream",
     "text": [
      "RP3betaRecommender: Similarity column 38121 (100.0%), 693.34 column/sec. Elapsed time 54.98 sec\n",
      "EvaluatorHoldout: Processed 35595 (100.0%) in 34.44 sec. Users per second: 1033\n"
     ]
    },
    {
     "name": "stderr",
     "output_type": "stream",
     "text": [
      "[I 2024-12-24 06:35:40,246] Trial 161 finished with value: 0.020647694410441713 and parameters: {'topK': 48, 'alpha': 0.3245997897054736, 'beta': 0.282519570959174, 'normalize_similarity': True, 'implicit': False}. Best is trial 94 with value: 0.023107177974434116.\n"
     ]
    },
    {
     "name": "stdout",
     "output_type": "stream",
     "text": [
      "RP3betaRecommender: Similarity column 38121 (100.0%), 702.40 column/sec. Elapsed time 54.27 sec\n",
      "EvaluatorHoldout: Processed 35595 (100.0%) in 34.03 sec. Users per second: 1046\n"
     ]
    },
    {
     "name": "stderr",
     "output_type": "stream",
     "text": [
      "[I 2024-12-24 06:37:10,545] Trial 162 finished with value: 0.021349046927849884 and parameters: {'topK': 31, 'alpha': 0.328495890374104, 'beta': 0.27698852899823795, 'normalize_similarity': True, 'implicit': False}. Best is trial 94 with value: 0.023107177974434116.\n"
     ]
    },
    {
     "name": "stdout",
     "output_type": "stream",
     "text": [
      "RP3betaRecommender: Similarity column 38121 (100.0%), 706.81 column/sec. Elapsed time 53.93 sec\n",
      "EvaluatorHoldout: Processed 35595 (100.0%) in 33.40 sec. Users per second: 1066\n"
     ]
    },
    {
     "name": "stderr",
     "output_type": "stream",
     "text": [
      "[I 2024-12-24 06:38:39,672] Trial 163 finished with value: 0.021978018805030683 and parameters: {'topK': 24, 'alpha': 0.36822062999924365, 'beta': 0.28145306838039663, 'normalize_similarity': True, 'implicit': False}. Best is trial 94 with value: 0.023107177974434116.\n"
     ]
    },
    {
     "name": "stdout",
     "output_type": "stream",
     "text": [
      "RP3betaRecommender: Similarity column 38121 (100.0%), 847.13 column/sec. Elapsed time 45.00 sec\n",
      "EvaluatorHoldout: Processed 35595 (100.0%) in 28.61 sec. Users per second: 1244\n"
     ]
    },
    {
     "name": "stderr",
     "output_type": "stream",
     "text": [
      "[I 2024-12-24 06:39:54,454] Trial 164 finished with value: 0.01842381777358612 and parameters: {'topK': 2, 'alpha': 0.34392410526595213, 'beta': 0.27844338955761644, 'normalize_similarity': True, 'implicit': False}. Best is trial 94 with value: 0.023107177974434116.\n"
     ]
    },
    {
     "name": "stdout",
     "output_type": "stream",
     "text": [
      "RP3betaRecommender: Similarity column 38121 (100.0%), 700.06 column/sec. Elapsed time 54.45 sec\n",
      "EvaluatorHoldout: Processed 35595 (100.0%) in 34.05 sec. Users per second: 1046\n"
     ]
    },
    {
     "name": "stderr",
     "output_type": "stream",
     "text": [
      "[I 2024-12-24 06:41:25,090] Trial 165 finished with value: 0.020815630873784883 and parameters: {'topK': 38, 'alpha': 0.4531230336886505, 'beta': 0.21736219076007268, 'normalize_similarity': True, 'implicit': False}. Best is trial 94 with value: 0.023107177974434116.\n"
     ]
    },
    {
     "name": "stdout",
     "output_type": "stream",
     "text": [
      "RP3betaRecommender: Similarity column 38121 (100.0%), 703.53 column/sec. Elapsed time 54.19 sec\n",
      "EvaluatorHoldout: Processed 35595 (100.0%) in 33.55 sec. Users per second: 1061\n"
     ]
    },
    {
     "name": "stderr",
     "output_type": "stream",
     "text": [
      "[I 2024-12-24 06:42:54,720] Trial 166 finished with value: 0.02061892721690429 and parameters: {'topK': 32, 'alpha': 0.4610782497894632, 'beta': 0.1521372783245516, 'normalize_similarity': True, 'implicit': False}. Best is trial 94 with value: 0.023107177974434116.\n"
     ]
    },
    {
     "name": "stdout",
     "output_type": "stream",
     "text": [
      "RP3betaRecommender: Similarity column 38121 (100.0%), 687.03 column/sec. Elapsed time 55.49 sec\n",
      "EvaluatorHoldout: Processed 35595 (100.0%) in 33.90 sec. Users per second: 1050\n"
     ]
    },
    {
     "name": "stderr",
     "output_type": "stream",
     "text": [
      "[I 2024-12-24 06:44:26,147] Trial 167 finished with value: 0.01907863820716751 and parameters: {'topK': 36, 'alpha': 0.5909034241441468, 'beta': 0.0455853947157526, 'normalize_similarity': True, 'implicit': False}. Best is trial 94 with value: 0.023107177974434116.\n"
     ]
    },
    {
     "name": "stdout",
     "output_type": "stream",
     "text": [
      "RP3betaRecommender: Similarity column 38121 (100.0%), 707.74 column/sec. Elapsed time 53.86 sec\n",
      "EvaluatorHoldout: Processed 35595 (100.0%) in 32.51 sec. Users per second: 1095\n"
     ]
    },
    {
     "name": "stderr",
     "output_type": "stream",
     "text": [
      "[I 2024-12-24 06:45:54,106] Trial 168 finished with value: 0.019375836404702782 and parameters: {'topK': 24, 'alpha': 0.19522434023687885, 'beta': 0.14240343096261526, 'normalize_similarity': True, 'implicit': False}. Best is trial 94 with value: 0.023107177974434116.\n"
     ]
    },
    {
     "name": "stdout",
     "output_type": "stream",
     "text": [
      "RP3betaRecommender: Similarity column 38121 (100.0%), 707.51 column/sec. Elapsed time 53.88 sec\n",
      "EvaluatorHoldout: Processed 35595 (100.0%) in 34.78 sec. Users per second: 1023\n"
     ]
    },
    {
     "name": "stderr",
     "output_type": "stream",
     "text": [
      "[I 2024-12-24 06:47:25,125] Trial 169 finished with value: 0.019559887803039876 and parameters: {'topK': 33, 'alpha': 0.6857868046154079, 'beta': 0.21458715555654712, 'normalize_similarity': True, 'implicit': True}. Best is trial 94 with value: 0.023107177974434116.\n"
     ]
    },
    {
     "name": "stdout",
     "output_type": "stream",
     "text": [
      "RP3betaRecommender: Similarity column 38121 (100.0%), 774.75 column/sec. Elapsed time 49.20 sec\n",
      "EvaluatorHoldout: Processed 35595 (100.0%) in 26.32 sec. Users per second: 1352\n"
     ]
    },
    {
     "name": "stderr",
     "output_type": "stream",
     "text": [
      "[I 2024-12-24 06:48:41,699] Trial 170 finished with value: 0.0029013951040920928 and parameters: {'topK': 3, 'alpha': 0.44376579864441085, 'beta': 1.995461748356047, 'normalize_similarity': True, 'implicit': False}. Best is trial 94 with value: 0.023107177974434116.\n"
     ]
    },
    {
     "name": "stdout",
     "output_type": "stream",
     "text": [
      "RP3betaRecommender: Similarity column 38121 (100.0%), 673.43 column/sec. Elapsed time 56.61 sec\n",
      "EvaluatorHoldout: Processed 35595 (100.0%) in 36.32 sec. Users per second: 980\n"
     ]
    },
    {
     "name": "stderr",
     "output_type": "stream",
     "text": [
      "[I 2024-12-24 06:50:17,559] Trial 171 finished with value: 0.019407964824736723 and parameters: {'topK': 67, 'alpha': 0.519773930996225, 'beta': 0.1568914245471085, 'normalize_similarity': True, 'implicit': False}. Best is trial 94 with value: 0.023107177974434116.\n"
     ]
    },
    {
     "name": "stdout",
     "output_type": "stream",
     "text": [
      "RP3betaRecommender: Similarity column 38121 (100.0%), 651.99 column/sec. Elapsed time 58.47 sec\n",
      "EvaluatorHoldout: Processed 35595 (100.0%) in 37.03 sec. Users per second: 961\n"
     ]
    },
    {
     "name": "stderr",
     "output_type": "stream",
     "text": [
      "[I 2024-12-24 06:51:57,396] Trial 172 finished with value: 0.019553465240570094 and parameters: {'topK': 114, 'alpha': 0.45340258588404425, 'beta': 0.25097313620173034, 'normalize_similarity': True, 'implicit': False}. Best is trial 94 with value: 0.023107177974434116.\n"
     ]
    },
    {
     "name": "stdout",
     "output_type": "stream",
     "text": [
      "RP3betaRecommender: Similarity column 38121 (100.0%), 675.39 column/sec. Elapsed time 56.44 sec\n",
      "EvaluatorHoldout: Processed 35595 (100.0%) in 35.61 sec. Users per second: 999\n"
     ]
    },
    {
     "name": "stderr",
     "output_type": "stream",
     "text": [
      "[I 2024-12-24 06:53:32,535] Trial 173 finished with value: 0.020329508335618585 and parameters: {'topK': 71, 'alpha': 0.3424964523142282, 'beta': 0.2979151279704883, 'normalize_similarity': True, 'implicit': False}. Best is trial 94 with value: 0.023107177974434116.\n"
     ]
    },
    {
     "name": "stdout",
     "output_type": "stream",
     "text": [
      "RP3betaRecommender: Similarity column 38121 (100.0%), 487.52 column/sec. Elapsed time 1.30 min\n",
      "EvaluatorHoldout: Processed 35595 (100.0%) in 43.06 sec. Users per second: 827\n"
     ]
    },
    {
     "name": "stderr",
     "output_type": "stream",
     "text": [
      "[I 2024-12-24 06:55:46,579] Trial 174 finished with value: 0.016291615105563897 and parameters: {'topK': 419, 'alpha': 0.31591864497020455, 'beta': 0.19455516241681953, 'normalize_similarity': True, 'implicit': False}. Best is trial 94 with value: 0.023107177974434116.\n"
     ]
    },
    {
     "name": "stdout",
     "output_type": "stream",
     "text": [
      "RP3betaRecommender: Similarity column 38121 (100.0%), 694.93 column/sec. Elapsed time 54.86 sec\n",
      "EvaluatorHoldout: Processed 35595 (100.0%) in 35.39 sec. Users per second: 1006\n"
     ]
    },
    {
     "name": "stderr",
     "output_type": "stream",
     "text": [
      "[I 2024-12-24 06:57:19,295] Trial 175 finished with value: 0.02105351875263361 and parameters: {'topK': 41, 'alpha': 0.48894001167104567, 'beta': 0.2975802514926073, 'normalize_similarity': True, 'implicit': False}. Best is trial 94 with value: 0.023107177974434116.\n"
     ]
    },
    {
     "name": "stdout",
     "output_type": "stream",
     "text": [
      "RP3betaRecommender: Similarity column 38121 (100.0%), 691.81 column/sec. Elapsed time 55.10 sec\n",
      "EvaluatorHoldout: Processed 35595 (100.0%) in 34.02 sec. Users per second: 1046\n"
     ]
    },
    {
     "name": "stderr",
     "output_type": "stream",
     "text": [
      "[I 2024-12-24 06:58:50,459] Trial 176 finished with value: 0.01923143075650445 and parameters: {'topK': 41, 'alpha': 0.4815906408754377, 'beta': 0.06876584479948783, 'normalize_similarity': True, 'implicit': False}. Best is trial 94 with value: 0.023107177974434116.\n"
     ]
    },
    {
     "name": "stdout",
     "output_type": "stream",
     "text": [
      "RP3betaRecommender: Similarity column 38121 (100.0%), 1004.22 column/sec. Elapsed time 37.96 sec\n",
      "EvaluatorHoldout: Processed 35595 (100.0%) in 25.48 sec. Users per second: 1397\n"
     ]
    },
    {
     "name": "stderr",
     "output_type": "stream",
     "text": [
      "[I 2024-12-24 06:59:54,518] Trial 177 finished with value: 0.00028209999175022335 and parameters: {'topK': 0, 'alpha': 0.64965257738825, 'beta': 0.27721704748599074, 'normalize_similarity': True, 'implicit': False}. Best is trial 94 with value: 0.023107177974434116.\n"
     ]
    },
    {
     "name": "stdout",
     "output_type": "stream",
     "text": [
      "RP3betaRecommender: Similarity column 38121 (100.0%), 637.82 column/sec. Elapsed time 59.77 sec\n",
      "EvaluatorHoldout: Processed 35595 (100.0%) in 38.12 sec. Users per second: 934\n"
     ]
    },
    {
     "name": "stderr",
     "output_type": "stream",
     "text": [
      "[I 2024-12-24 07:01:37,122] Trial 178 finished with value: 0.018220701587747547 and parameters: {'topK': 129, 'alpha': 0.5775615844312096, 'beta': 0.14382877133429367, 'normalize_similarity': True, 'implicit': False}. Best is trial 94 with value: 0.023107177974434116.\n"
     ]
    },
    {
     "name": "stdout",
     "output_type": "stream",
     "text": [
      "RP3betaRecommender: Similarity column 38121 (100.0%), 692.49 column/sec. Elapsed time 55.05 sec\n",
      "EvaluatorHoldout: Processed 35595 (100.0%) in 35.37 sec. Users per second: 1006\n"
     ]
    },
    {
     "name": "stderr",
     "output_type": "stream",
     "text": [
      "[I 2024-12-24 07:03:10,086] Trial 179 finished with value: 0.021104555883316698 and parameters: {'topK': 47, 'alpha': 0.41914186790197383, 'beta': 0.3196886105336148, 'normalize_similarity': True, 'implicit': False}. Best is trial 94 with value: 0.023107177974434116.\n"
     ]
    },
    {
     "name": "stdout",
     "output_type": "stream",
     "text": [
      "RP3betaRecommender: Similarity column 38121 (100.0%), 705.99 column/sec. Elapsed time 54.00 sec\n",
      "EvaluatorHoldout: Processed 35595 (100.0%) in 34.20 sec. Users per second: 1041\n"
     ]
    },
    {
     "name": "stderr",
     "output_type": "stream",
     "text": [
      "[I 2024-12-24 07:04:40,310] Trial 180 finished with value: 0.021220961344222765 and parameters: {'topK': 29, 'alpha': 0.5095059780703134, 'beta': 0.23013529784504727, 'normalize_similarity': True, 'implicit': False}. Best is trial 94 with value: 0.023107177974434116.\n"
     ]
    },
    {
     "name": "stdout",
     "output_type": "stream",
     "text": [
      "RP3betaRecommender: Similarity column 38121 (100.0%), 693.99 column/sec. Elapsed time 54.93 sec\n",
      "EvaluatorHoldout: Processed 35595 (100.0%) in 34.98 sec. Users per second: 1018\n"
     ]
    },
    {
     "name": "stderr",
     "output_type": "stream",
     "text": [
      "[I 2024-12-24 07:06:12,703] Trial 181 finished with value: 0.020832545145229437 and parameters: {'topK': 43, 'alpha': 0.510008305642226, 'beta': 0.27641194709437306, 'normalize_similarity': True, 'implicit': False}. Best is trial 94 with value: 0.023107177974434116.\n"
     ]
    },
    {
     "name": "stdout",
     "output_type": "stream",
     "text": [
      "RP3betaRecommender: Similarity column 38121 (100.0%), 702.26 column/sec. Elapsed time 54.28 sec\n",
      "EvaluatorHoldout: Processed 35595 (100.0%) in 34.26 sec. Users per second: 1039\n"
     ]
    },
    {
     "name": "stderr",
     "output_type": "stream",
     "text": [
      "[I 2024-12-24 07:07:43,292] Trial 182 finished with value: 0.02117501677826143 and parameters: {'topK': 30, 'alpha': 0.5083419265019531, 'beta': 0.22536665686057542, 'normalize_similarity': True, 'implicit': False}. Best is trial 94 with value: 0.023107177974434116.\n"
     ]
    },
    {
     "name": "stdout",
     "output_type": "stream",
     "text": [
      "RP3betaRecommender: Similarity column 38121 (100.0%), 697.12 column/sec. Elapsed time 54.68 sec\n",
      "EvaluatorHoldout: Processed 35595 (100.0%) in 34.63 sec. Users per second: 1028\n"
     ]
    },
    {
     "name": "stderr",
     "output_type": "stream",
     "text": [
      "[I 2024-12-24 07:09:14,814] Trial 183 finished with value: 0.020547185376936495 and parameters: {'topK': 37, 'alpha': 0.520603458087484, 'beta': 0.189476717322299, 'normalize_similarity': True, 'implicit': False}. Best is trial 94 with value: 0.023107177974434116.\n"
     ]
    },
    {
     "name": "stdout",
     "output_type": "stream",
     "text": [
      "RP3betaRecommender: Similarity column 38121 (100.0%), 698.27 column/sec. Elapsed time 54.59 sec\n",
      "EvaluatorHoldout: Processed 35595 (100.0%) in 34.24 sec. Users per second: 1039\n"
     ]
    },
    {
     "name": "stderr",
     "output_type": "stream",
     "text": [
      "[I 2024-12-24 07:10:45,712] Trial 184 finished with value: 0.02073097144462489 and parameters: {'topK': 27, 'alpha': 0.6019071146883188, 'beta': 0.23788429527816096, 'normalize_similarity': True, 'implicit': False}. Best is trial 94 with value: 0.023107177974434116.\n"
     ]
    },
    {
     "name": "stdout",
     "output_type": "stream",
     "text": [
      "RP3betaRecommender: Similarity column 38121 (100.0%), 710.77 column/sec. Elapsed time 53.63 sec\n",
      "EvaluatorHoldout: Processed 35595 (100.0%) in 33.79 sec. Users per second: 1054\n"
     ]
    },
    {
     "name": "stderr",
     "output_type": "stream",
     "text": [
      "[I 2024-12-24 07:12:14,982] Trial 185 finished with value: 0.020146626398838654 and parameters: {'topK': 24, 'alpha': 0.6044990660092776, 'beta': 0.11034006478482342, 'normalize_similarity': True, 'implicit': False}. Best is trial 94 with value: 0.023107177974434116.\n"
     ]
    },
    {
     "name": "stdout",
     "output_type": "stream",
     "text": [
      "RP3betaRecommender: Similarity column 38121 (100.0%), 767.51 column/sec. Elapsed time 49.67 sec\n",
      "EvaluatorHoldout: Processed 35595 (100.0%) in 30.48 sec. Users per second: 1168\n"
     ]
    },
    {
     "name": "stderr",
     "output_type": "stream",
     "text": [
      "[I 2024-12-24 07:13:36,402] Trial 186 finished with value: 0.01730479356606637 and parameters: {'topK': 3, 'alpha': 0.7048512007088286, 'beta': 0.25371069671827284, 'normalize_similarity': True, 'implicit': False}. Best is trial 94 with value: 0.023107177974434116.\n"
     ]
    },
    {
     "name": "stdout",
     "output_type": "stream",
     "text": [
      "RP3betaRecommender: Similarity column 38121 (100.0%), 652.70 column/sec. Elapsed time 58.40 sec\n",
      "EvaluatorHoldout: Processed 35595 (100.0%) in 37.69 sec. Users per second: 944\n"
     ]
    },
    {
     "name": "stderr",
     "output_type": "stream",
     "text": [
      "[I 2024-12-24 07:15:16,771] Trial 187 finished with value: 0.01971446185816167 and parameters: {'topK': 97, 'alpha': 0.5386592251867435, 'beta': 0.2883894830524852, 'normalize_similarity': True, 'implicit': False}. Best is trial 94 with value: 0.023107177974434116.\n"
     ]
    },
    {
     "name": "stdout",
     "output_type": "stream",
     "text": [
      "RP3betaRecommender: Similarity column 38121 (100.0%), 284.26 column/sec. Elapsed time 2.24 min\n",
      "EvaluatorHoldout: Processed 35595 (100.0%) in 1.02 min. Users per second: 579\n"
     ]
    },
    {
     "name": "stderr",
     "output_type": "stream",
     "text": [
      "[I 2024-12-24 07:19:26,775] Trial 188 finished with value: 0.015514277687476485 and parameters: {'topK': 1467, 'alpha': 0.42241002710183423, 'beta': 0.24278860744643765, 'normalize_similarity': True, 'implicit': False}. Best is trial 94 with value: 0.023107177974434116.\n"
     ]
    },
    {
     "name": "stdout",
     "output_type": "stream",
     "text": [
      "RP3betaRecommender: Similarity column 38121 (100.0%), 687.31 column/sec. Elapsed time 55.46 sec\n",
      "EvaluatorHoldout: Processed 35595 (100.0%) in 35.04 sec. Users per second: 1016\n"
     ]
    },
    {
     "name": "stderr",
     "output_type": "stream",
     "text": [
      "[I 2024-12-24 07:20:59,685] Trial 189 finished with value: 0.018566404011621022 and parameters: {'topK': 53, 'alpha': 0.5757488937360364, 'beta': 0.052052548167699705, 'normalize_similarity': True, 'implicit': False}. Best is trial 94 with value: 0.023107177974434116.\n"
     ]
    },
    {
     "name": "stdout",
     "output_type": "stream",
     "text": [
      "RP3betaRecommender: Similarity column 38121 (100.0%), 710.57 column/sec. Elapsed time 53.65 sec\n",
      "EvaluatorHoldout: Processed 35595 (100.0%) in 34.09 sec. Users per second: 1044\n"
     ]
    },
    {
     "name": "stderr",
     "output_type": "stream",
     "text": [
      "[I 2024-12-24 07:22:29,495] Trial 190 finished with value: 0.008132001997783798 and parameters: {'topK': 23, 'alpha': 1.3765661821560713, 'beta': 0.1451988858916796, 'normalize_similarity': False, 'implicit': False}. Best is trial 94 with value: 0.023107177974434116.\n"
     ]
    },
    {
     "name": "stdout",
     "output_type": "stream",
     "text": [
      "RP3betaRecommender: Similarity column 38121 (100.0%), 687.98 column/sec. Elapsed time 55.41 sec\n",
      "EvaluatorHoldout: Processed 35595 (100.0%) in 35.28 sec. Users per second: 1009\n"
     ]
    },
    {
     "name": "stderr",
     "output_type": "stream",
     "text": [
      "[I 2024-12-24 07:24:02,680] Trial 191 finished with value: 0.020433390858801585 and parameters: {'topK': 48, 'alpha': 0.480105718229663, 'beta': 0.20935230660416482, 'normalize_similarity': True, 'implicit': False}. Best is trial 94 with value: 0.023107177974434116.\n"
     ]
    },
    {
     "name": "stdout",
     "output_type": "stream",
     "text": [
      "RP3betaRecommender: Similarity column 38121 (100.0%), 711.24 column/sec. Elapsed time 53.60 sec\n",
      "EvaluatorHoldout: Processed 35595 (100.0%) in 33.93 sec. Users per second: 1049\n"
     ]
    },
    {
     "name": "stderr",
     "output_type": "stream",
     "text": [
      "[I 2024-12-24 07:25:32,116] Trial 192 finished with value: 0.02216849834001096 and parameters: {'topK': 23, 'alpha': 0.44649606196333147, 'beta': 0.32594663458045997, 'normalize_similarity': True, 'implicit': False}. Best is trial 94 with value: 0.023107177974434116.\n"
     ]
    },
    {
     "name": "stdout",
     "output_type": "stream",
     "text": [
      "RP3betaRecommender: Similarity column 38121 (100.0%), 661.60 column/sec. Elapsed time 57.62 sec\n",
      "EvaluatorHoldout: Processed 35595 (100.0%) in 37.08 sec. Users per second: 960\n"
     ]
    },
    {
     "name": "stderr",
     "output_type": "stream",
     "text": [
      "[I 2024-12-24 07:27:10,895] Trial 193 finished with value: 0.020175111539207487 and parameters: {'topK': 96, 'alpha': 0.4244904741133711, 'beta': 0.32064362639645055, 'normalize_similarity': True, 'implicit': False}. Best is trial 94 with value: 0.023107177974434116.\n"
     ]
    },
    {
     "name": "stdout",
     "output_type": "stream",
     "text": [
      "RP3betaRecommender: Similarity column 38121 (100.0%), 770.38 column/sec. Elapsed time 49.48 sec\n",
      "EvaluatorHoldout: Processed 35595 (100.0%) in 30.23 sec. Users per second: 1178\n"
     ]
    },
    {
     "name": "stderr",
     "output_type": "stream",
     "text": [
      "[I 2024-12-24 07:28:31,864] Trial 194 finished with value: 0.019817011039092582 and parameters: {'topK': 3, 'alpha': 0.504958274713807, 'beta': 0.2940265065407999, 'normalize_similarity': True, 'implicit': False}. Best is trial 94 with value: 0.023107177974434116.\n"
     ]
    },
    {
     "name": "stdout",
     "output_type": "stream",
     "text": [
      "RP3betaRecommender: Similarity column 38121 (100.0%), 710.25 column/sec. Elapsed time 53.67 sec\n",
      "EvaluatorHoldout: Processed 35595 (100.0%) in 48.57 sec. Users per second: 733\n"
     ]
    },
    {
     "name": "stderr",
     "output_type": "stream",
     "text": [
      "[I 2024-12-24 07:30:17,111] Trial 195 finished with value: 0.0036602987310951664 and parameters: {'topK': 62, 'alpha': 0.41098485369547516, 'beta': 1.5112373563840051, 'normalize_similarity': True, 'implicit': False}. Best is trial 94 with value: 0.023107177974434116.\n"
     ]
    },
    {
     "name": "stdout",
     "output_type": "stream",
     "text": [
      "RP3betaRecommender: Similarity column 38121 (100.0%), 707.33 column/sec. Elapsed time 53.89 sec\n",
      "EvaluatorHoldout: Processed 35595 (100.0%) in 34.32 sec. Users per second: 1037\n"
     ]
    },
    {
     "name": "stderr",
     "output_type": "stream",
     "text": [
      "[I 2024-12-24 07:31:47,371] Trial 196 finished with value: 0.021252638256220018 and parameters: {'topK': 27, 'alpha': 0.541089964592709, 'beta': 0.2427676454829431, 'normalize_similarity': True, 'implicit': False}. Best is trial 94 with value: 0.023107177974434116.\n"
     ]
    },
    {
     "name": "stdout",
     "output_type": "stream",
     "text": [
      "RP3betaRecommender: Similarity column 38121 (100.0%), 707.29 column/sec. Elapsed time 53.90 sec\n",
      "EvaluatorHoldout: Processed 35595 (100.0%) in 34.50 sec. Users per second: 1032\n"
     ]
    },
    {
     "name": "stderr",
     "output_type": "stream",
     "text": [
      "[I 2024-12-24 07:33:17,886] Trial 197 finished with value: 0.020792234953633894 and parameters: {'topK': 26, 'alpha': 0.6040433281782059, 'beta': 0.33840531264259904, 'normalize_similarity': True, 'implicit': False}. Best is trial 94 with value: 0.023107177974434116.\n"
     ]
    },
    {
     "name": "stdout",
     "output_type": "stream",
     "text": [
      "RP3betaRecommender: Similarity column 38121 (100.0%), 1015.59 column/sec. Elapsed time 37.54 sec\n",
      "EvaluatorHoldout: Processed 35595 (100.0%) in 25.58 sec. Users per second: 1392\n"
     ]
    },
    {
     "name": "stderr",
     "output_type": "stream",
     "text": [
      "[I 2024-12-24 07:34:21,595] Trial 198 finished with value: 0.00028209999175022335 and parameters: {'topK': 0, 'alpha': 0.6008827732860198, 'beta': 0.3512223905866906, 'normalize_similarity': True, 'implicit': False}. Best is trial 94 with value: 0.023107177974434116.\n"
     ]
    },
    {
     "name": "stdout",
     "output_type": "stream",
     "text": [
      "RP3betaRecommender: Similarity column 38121 (100.0%), 666.50 column/sec. Elapsed time 57.20 sec\n",
      "EvaluatorHoldout: Processed 35595 (100.0%) in 37.20 sec. Users per second: 957\n"
     ]
    },
    {
     "name": "stderr",
     "output_type": "stream",
     "text": [
      "[I 2024-12-24 07:36:00,062] Trial 199 finished with value: 0.01866292082221284 and parameters: {'topK': 86, 'alpha': 0.6665923604471304, 'beta': 0.22506548212025448, 'normalize_similarity': True, 'implicit': False}. Best is trial 94 with value: 0.023107177974434116.\n"
     ]
    }
   ],
   "source": [
    "if config['tune_parameters']:\n",
    "    \n",
    "    optuna_study = optuna.create_study(direction='maximize', study_name=f'hyperparameters_tuning_{config[\"model\"]}_{config[\"metric\"]}',\n",
    "                                storage=f'sqlite:///{config[\"database_path\"]}', load_if_exists=True)\n",
    "\n",
    "    optuna_study.optimize(objective_function_RP3beta, n_trials=200)"
   ]
  },
  {
   "cell_type": "markdown",
   "id": "27e76af1",
   "metadata": {
    "papermill": {
     "duration": 0.049356,
     "end_time": "2024-12-24T07:36:00.171430",
     "exception": false,
     "start_time": "2024-12-24T07:36:00.122074",
     "status": "completed"
    },
    "tags": []
   },
   "source": [
    "## Some optuna visualizations on recommender parameters"
   ]
  },
  {
   "cell_type": "code",
   "execution_count": 14,
   "id": "fba19f91",
   "metadata": {
    "execution": {
     "iopub.execute_input": "2024-12-24T07:36:00.271255Z",
     "iopub.status.busy": "2024-12-24T07:36:00.270815Z",
     "iopub.status.idle": "2024-12-24T07:36:02.067583Z",
     "shell.execute_reply": "2024-12-24T07:36:02.066310Z"
    },
    "papermill": {
     "duration": 1.849423,
     "end_time": "2024-12-24T07:36:02.070097",
     "exception": false,
     "start_time": "2024-12-24T07:36:00.220674",
     "status": "completed"
    },
    "tags": []
   },
   "outputs": [
    {
     "data": {
      "text/html": [
       "<html>\n",
       "<head><meta charset=\"utf-8\" /></head>\n",
       "<body>\n",
       "    <div>            <script src=\"https://cdnjs.cloudflare.com/ajax/libs/mathjax/2.7.5/MathJax.js?config=TeX-AMS-MML_SVG\"></script><script type=\"text/javascript\">if (window.MathJax && window.MathJax.Hub && window.MathJax.Hub.Config) {window.MathJax.Hub.Config({SVG: {font: \"STIX-Web\"}});}</script>                <script type=\"text/javascript\">window.PlotlyConfig = {MathJaxConfig: 'local'};</script>\n",
       "        <script charset=\"utf-8\" src=\"https://cdn.plot.ly/plotly-2.35.2.min.js\"></script>                <div id=\"f712b83a-6542-44d5-bac1-f3a1836e70ce\" class=\"plotly-graph-div\" style=\"height:525px; width:1500px;\"></div>            <script type=\"text/javascript\">                                    window.PLOTLYENV=window.PLOTLYENV || {};                                    if (document.getElementById(\"f712b83a-6542-44d5-bac1-f3a1836e70ce\")) {                    Plotly.newPlot(                        \"f712b83a-6542-44d5-bac1-f3a1836e70ce\",                        [{\"marker\":{\"color\":[0,1,2,3,4,5,6,7,8,9,10,11,12,13,14,15,16,17,18,19,20,21,22,23,24,25,26,27,28,29,30,31,32,33,34,35,36,37,38,39,40,41,42,43,44,45,46,47,48,49,50,51,52,53,54,55,56,57,58,59,60,61,62,63,64,65,66,67,68,69,70,71,72,73,74,75,76,77,78,79,80,81,82,83,84,85,86,87,88,89,90,91,92,93,94,95,96,97,98,99,100,101,102,103,104,105,106,107,108,109,110,111,112,113,114,115,116,117,118,119,120,121,122,123,124,125,126,127,128,129,130,131,132,133,134,135,136,137,138,139,140,141,142,143,144,145,146,147,148,149,150,151,152,153,154,155,156,157,158,159,160,161,162,163,164,165,166,167,168,169,170,171,172,173,174,175,176,177,178,179,180,181,182,183,184,185,186,187,188,189,190,191,192,193,194,195,196,197,198,199],\"colorbar\":{\"title\":{\"text\":\"Trial\"},\"x\":1.0,\"xpad\":40},\"colorscale\":[[0.0,\"rgb(247,251,255)\"],[0.125,\"rgb(222,235,247)\"],[0.25,\"rgb(198,219,239)\"],[0.375,\"rgb(158,202,225)\"],[0.5,\"rgb(107,174,214)\"],[0.625,\"rgb(66,146,198)\"],[0.75,\"rgb(33,113,181)\"],[0.875,\"rgb(8,81,156)\"],[1.0,\"rgb(8,48,107)\"]],\"line\":{\"color\":\"Grey\",\"width\":0.5},\"showscale\":true},\"mode\":\"markers\",\"name\":\"Feasible Trial\",\"showlegend\":false,\"x\":[1.7460974509917935,1.4854859958756612,2.9490995074142052,2.7297917494142587,1.2116643990426135,1.753183894554759,0.7669501205205087,2.4630561682203416,1.4697636757027712,0.38534211305287713,2.3898949834609127,2.3705499575391746,2.2515171209234257,2.302363026312677,2.1699173109335614,1.782552682395514,2.0591612476498673,1.9815773301335113,1.1968601172289,0.9648230734527306,1.015004409655968,0.029904529719660178,0.7246613385974536,0.7037356207023848,0.6632411263116572,0.4993648604549783,0.4974535147542572,0.2796473299772608,0.024542255995752937,0.22207945668036055,0.6984117117391274,0.7396618438237941,0.29817848201686137,0.6004841558273706,0.5589328746348898,1.0607624649254874,0.16757272725191374,1.3260344261973227,0.8151461064972322,0.8835121329937975,0.5613425893060464,0.6648402628826597,0.39688578608161657,1.1577877997377586,0.6283998315241003,0.37707762596763694,0.1542934842249517,1.5906948946979358,2.976725562164409,2.73747694215473,0.883830856829773,0.674546090380505,0.3789335712965278,0.4231781152394236,0.28210441954210913,0.830316640450618,0.12305476122019696,0.5955734306444886,0.29968419975515326,1.315341902344771,0.4758853000752445,0.6777901650408149,0.9448029942833058,0.7693636716330391,1.05595498095955,0.34485712638606936,0.4859349553751389,0.6313408255626592,0.08183730877002382,0.2336292616393677,0.6475188057722934,0.542277782115566,0.5431067136369285,0.5458422011076948,0.468028631781806,0.4391466676886831,0.40856590721452274,0.4599806522376455,0.4681784225503479,0.4613562265943166,0.5438706727252032,0.5456991215067956,0.20123981482600603,0.5444435133503124,0.42243157119109487,0.42317560424757406,0.3659744714089742,0.3177939086917785,0.01498167272555706,0.3395259087647604,0.35448019057467883,0.3155848105161053,0.3391438762556881,0.1077349526324688,0.34157046881880787,0.3163196168749599,0.23049766625014367,0.24702966968642476,0.33841222586476394,0.17626450803482469,0.08267874749197357,0.404071076874002,0.3594446212256374,0.37944951424697454,0.38066891052610474,0.3643549119505377,0.27721745906011996,0.16599202844306232,0.2519326869924905,1.975530016145548,0.06923332037033053,0.2869189664520552,0.364639152651554,0.35658712178308055,0.19345299177767442,0.27772752397110084,0.27370413316355263,0.12609094862184697,0.2630331074394475,0.22773089797851687,0.26275842408105987,0.28223649372823306,0.14843839761601435,0.025078622285698238,0.26094500538298643,0.39446824281572074,0.2784274924074932,0.1674426977438265,1.6617491904684556,0.5054278259489354,2.483339478454059,0.40761763579493016,0.2235267333438687,0.3958066041633768,0.2859813974918197,0.4126275242478778,0.4276051355587205,0.5869764040592595,0.4966616515850108,0.39456039938527676,0.3905919235132049,0.30817599337738,0.47218969168816816,0.46817026615983687,0.6104145977148776,0.3799967286292592,0.49876568503111984,0.483030666088069,0.5098097503830408,0.614370106886896,0.4685714972925582,0.740856289463132,0.4806453863075066,0.3585037156646123,0.45866745092987427,0.5484715143029719,0.3650148406230084,0.2028809839835702,0.43014871928587817,0.3334305949705553,0.5278248491886803,0.3245997897054736,0.328495890374104,0.36822062999924365,0.34392410526595213,0.4531230336886505,0.4610782497894632,0.5909034241441468,0.19522434023687885,0.6857868046154079,0.44376579864441085,0.519773930996225,0.45340258588404425,0.3424964523142282,0.31591864497020455,0.48894001167104567,0.4815906408754377,0.64965257738825,0.5775615844312096,0.41914186790197383,0.5095059780703134,0.510008305642226,0.5083419265019531,0.520603458087484,0.6019071146883188,0.6044990660092776,0.7048512007088286,0.5386592251867435,0.42241002710183423,0.5757488937360364,1.3765661821560713,0.480105718229663,0.44649606196333147,0.4244904741133711,0.504958274713807,0.41098485369547516,0.541089964592709,0.6040433281782059,0.6008827732860198,0.6665923604471304],\"y\":[0.006955000813829319,0.004003837260895806,0.00629727177662281,0.006152528333522871,0.008852048062751947,0.006060187693563195,0.004111397623618421,0.009696914360631382,0.007295051025982387,0.0020743059596831158,0.009086452083291705,0.00901820190547557,0.010103978398963874,0.010042351453856102,0.010257217996999106,0.0033975400058416983,0.010439102156759372,0.009670387984758156,0.01315999661090301,0.014055765144471818,0.007789414421947156,0.010118282842471883,0.015637350974477195,0.015893523256566015,0.01633631328637671,0.004788920550193202,0.009793877105086713,0.016267123302943137,0.00960222922338409,0.01258263043008129,0.011968937361900144,0.015554022657899845,0.01482531098312856,0.0170921165581933,0.0018588206833044555,0.007924300496993386,0.013089155557339681,0.008289903834362419,0.015282923854563354,0.011173080310459398,0.0036768205807396477,0.016318202797343303,0.015391266831216563,0.01324736843278809,0.013394684914280764,0.01076726042760622,0.0021909477655368908,0.007712222155332205,0.00876202181954406,0.006414486607491263,0.014672178409220466,0.015193378105093464,0.017047615703115204,0.01404009391367213,0.014784592762047888,0.014706071612519465,0.00735647507118222,0.001072086323877311,0.015177822817098272,0.005186960001962128,0.013758945990720622,0.016200047046022775,0.014110208095037805,0.015171283196989365,0.013772800041026295,0.013126472417876104,0.010356713645799404,0.016458009752573718,0.011184693543100931,0.009790699826308966,0.005344545225497624,0.017423581428638386,0.01758896492061264,0.01582028865299008,0.01791064377242221,0.017869217631333204,0.018436587089768766,0.017610574875640227,0.018206020330124847,0.016791081099762288,0.017937254875729433,0.01827410662724615,0.013758170065797994,0.018725970296345363,0.01907000046823054,0.019105475621910502,0.01910274316216162,0.01860411552362677,0.01242733953627375,0.01922092455467929,0.019596332862873062,0.01972456560467509,0.019607364151822612,0.01662281576019482,0.023107177974434116,0.01823101715284616,0.014109918238026547,0.018330225174304483,0.017033923303835005,0.018087287094451038,0.01631958853682435,0.019760244773097606,0.019415145474774607,0.020502056869945433,0.02045542556583416,0.020966864884268757,0.02022158565163185,0.01876058925700728,0.018028237647074646,0.010637395567863585,0.014735993774763697,0.018999186170699022,0.02059830054604568,0.020458214882150605,0.018702484074586856,0.020471906166596283,0.020060255698477136,0.018928292719906703,0.02006971618539247,0.01956180977799171,0.020653126999734508,0.02031552384965766,0.019444034185289942,0.016792929495626715,0.01836733579042886,0.014344878561060993,0.018321250755300444,0.017800976372194348,0.01139314867212071,0.019111971763467617,0.00906356341291035,0.02044452582737431,0.0003611752141039954,0.02096298525965582,0.020315740127581524,0.020277444442214507,0.007761646120263986,0.017279321823780374,0.016406269161220836,0.020254941504625243,0.0189561134188188,0.01983896101869115,0.021700879827512523,0.01749151053407289,0.019170211840881746,0.021145550583392705,0.021592841200721313,0.02076965397761837,0.00028209999175022335,0.019842122689783796,0.0206131311915129,0.018666035670249735,0.017542652459213846,0.019029518592097533,0.020218351516286506,0.007959460152464933,0.019381000318842732,0.018455402154306487,0.017709695939995183,0.002125026477323139,0.01799544701525325,0.020647694410441713,0.021349046927849884,0.021978018805030683,0.01842381777358612,0.020815630873784883,0.02061892721690429,0.01907863820716751,0.019375836404702782,0.019559887803039876,0.0029013951040920928,0.019407964824736723,0.019553465240570094,0.020329508335618585,0.016291615105563897,0.02105351875263361,0.01923143075650445,0.00028209999175022335,0.018220701587747547,0.021104555883316698,0.021220961344222765,0.020832545145229437,0.02117501677826143,0.020547185376936495,0.02073097144462489,0.020146626398838654,0.01730479356606637,0.01971446185816167,0.015514277687476485,0.018566404011621022,0.008132001997783798,0.020433390858801585,0.02216849834001096,0.020175111539207487,0.019817011039092582,0.0036602987310951664,0.021252638256220018,0.020792234953633894,0.00028209999175022335,0.01866292082221284],\"type\":\"scatter\",\"xaxis\":\"x\",\"yaxis\":\"y\"},{\"marker\":{\"color\":[0,1,2,3,4,5,6,7,8,9,10,11,12,13,14,15,16,17,18,19,20,21,22,23,24,25,26,27,28,29,30,31,32,33,34,35,36,37,38,39,40,41,42,43,44,45,46,47,48,49,50,51,52,53,54,55,56,57,58,59,60,61,62,63,64,65,66,67,68,69,70,71,72,73,74,75,76,77,78,79,80,81,82,83,84,85,86,87,88,89,90,91,92,93,94,95,96,97,98,99,100,101,102,103,104,105,106,107,108,109,110,111,112,113,114,115,116,117,118,119,120,121,122,123,124,125,126,127,128,129,130,131,132,133,134,135,136,137,138,139,140,141,142,143,144,145,146,147,148,149,150,151,152,153,154,155,156,157,158,159,160,161,162,163,164,165,166,167,168,169,170,171,172,173,174,175,176,177,178,179,180,181,182,183,184,185,186,187,188,189,190,191,192,193,194,195,196,197,198,199],\"colorbar\":{\"title\":{\"text\":\"Trial\"},\"x\":1.0,\"xpad\":40},\"colorscale\":[[0.0,\"rgb(247,251,255)\"],[0.125,\"rgb(222,235,247)\"],[0.25,\"rgb(198,219,239)\"],[0.375,\"rgb(158,202,225)\"],[0.5,\"rgb(107,174,214)\"],[0.625,\"rgb(66,146,198)\"],[0.75,\"rgb(33,113,181)\"],[0.875,\"rgb(8,81,156)\"],[1.0,\"rgb(8,48,107)\"]],\"line\":{\"color\":\"Grey\",\"width\":0.5},\"showscale\":false},\"mode\":\"markers\",\"name\":\"Feasible Trial\",\"showlegend\":false,\"x\":[0.1911757050046814,2.347751947736217,0.9859677515925422,1.9597635406871374,0.7064672669893378,1.657159230192423,1.9419728542105017,0.8623295787272951,1.441458441204304,1.8738506398308974,0.058840612049587016,0.00670679214483378,0.6214979068432124,0.7250172822837355,0.599443868135427,2.9365776812616664,0.47063331816915244,1.1179514718107508,0.33101606827355495,0.3248879865232761,1.2067804986634327,0.32407442126484975,0.381106200382391,0.3974143645776863,0.3644031323303653,1.311628388620281,0.9448057758971087,0.48675649059290865,0.15116705906728745,0.5535092534013041,0.8220754490383905,0.3826313060333483,0.17769537708730265,0.4692020916595774,2.379082840643206,1.003500553300388,0.2133021198017941,0.7722023283343122,0.5116450566179782,0.6539332399540405,1.5776148298304247,0.3917346202325938,0.168238001159981,0.4833888680974175,0.025880738485161814,0.8494164939471109,1.0332592231310511,0.6921233385062938,0.25290487983444637,2.1651394098464953,0.43751217402763426,0.6046414144617693,0.37455202868395165,0.0926687807416372,0.298874050043169,0.4682631210105372,0.7239338367229837,2.912894691063381,0.5798029322871325,1.8014476768429193,0.0017414915693738653,0.43887286018893035,0.410099474026966,0.2615706335554726,0.35294512616138485,0.0982033621957556,0.910260505555264,0.5362247599871399,0.5724183791578955,0.7652913219630755,1.3717244378521447,0.4941364416717085,0.4910094506405606,0.6449316357564634,0.5291296994581898,0.2355242281366773,0.27677987063861725,0.19062267059361554,0.219357075631732,0.15783604031628723,0.25113755820773787,0.27574848504000365,0.09372225065714646,0.23389078942888603,0.23900993246921745,0.2447676226580494,0.2597047746290456,0.26071814414414163,0.11840736366892565,0.2854673850914189,0.3077569974741729,0.3026290028041769,0.3290496692657702,0.32128630870065517,0.3083563477321993,0.04879930793018916,0.18799246084018037,0.3529909242290089,0.15809692923732874,0.07115575588055806,0.4311303450352507,0.3304564906469858,0.3138962964391322,0.3243794728903933,0.332652399039224,0.33071535020364856,0.3389525245646069,0.3469362250044336,0.41968157362549446,0.6734811218287203,0.5981251463563451,0.31623112273543785,0.38887838284496,0.38478840929248187,0.3874829845031903,0.3470016780622355,0.5311447508445212,0.5221634659421087,0.43959617094549513,0.4186387197933628,0.45067007044900187,0.4685973570842519,0.5574992243112211,0.4550433127784324,0.6459290364398934,0.7876907594719686,0.4774132048572643,0.38521700510086987,0.6054358641967335,0.5377836583460731,0.1498628982117829,0.39021015443175566,2.572425193885043,0.44823473048482976,0.4547041165834522,0.44811410489121345,1.1123374139788118,0.38516049829410914,0.7131087761112493,0.46012499292482306,0.4847686088995182,0.4365280582570237,0.36807905469955515,0.5783256091299249,0.3859191308876072,0.4818857716419896,0.20728234678572668,0.14340136694234928,0.19899621604152962,0.11192926456182523,0.21199768591746088,0.17951348973043746,0.002942960647083659,0.21847274492409166,0.12841654098262484,0.2814814235758936,0.359373406582895,0.2081355600304281,0.08656204484107935,1.7058469192542625,0.37923685438178867,0.282519570959174,0.27698852899823795,0.28145306838039663,0.27844338955761644,0.21736219076007268,0.1521372783245516,0.0455853947157526,0.14240343096261526,0.21458715555654712,1.995461748356047,0.1568914245471085,0.25097313620173034,0.2979151279704883,0.19455516241681953,0.2975802514926073,0.06876584479948783,0.27721704748599074,0.14382877133429367,0.3196886105336148,0.23013529784504727,0.27641194709437306,0.22536665686057542,0.189476717322299,0.23788429527816096,0.11034006478482342,0.25371069671827284,0.2883894830524852,0.24278860744643765,0.052052548167699705,0.1451988858916796,0.20935230660416482,0.32594663458045997,0.32064362639645055,0.2940265065407999,1.5112373563840051,0.2427676454829431,0.33840531264259904,0.3512223905866906,0.22506548212025448],\"y\":[0.006955000813829319,0.004003837260895806,0.00629727177662281,0.006152528333522871,0.008852048062751947,0.006060187693563195,0.004111397623618421,0.009696914360631382,0.007295051025982387,0.0020743059596831158,0.009086452083291705,0.00901820190547557,0.010103978398963874,0.010042351453856102,0.010257217996999106,0.0033975400058416983,0.010439102156759372,0.009670387984758156,0.01315999661090301,0.014055765144471818,0.007789414421947156,0.010118282842471883,0.015637350974477195,0.015893523256566015,0.01633631328637671,0.004788920550193202,0.009793877105086713,0.016267123302943137,0.00960222922338409,0.01258263043008129,0.011968937361900144,0.015554022657899845,0.01482531098312856,0.0170921165581933,0.0018588206833044555,0.007924300496993386,0.013089155557339681,0.008289903834362419,0.015282923854563354,0.011173080310459398,0.0036768205807396477,0.016318202797343303,0.015391266831216563,0.01324736843278809,0.013394684914280764,0.01076726042760622,0.0021909477655368908,0.007712222155332205,0.00876202181954406,0.006414486607491263,0.014672178409220466,0.015193378105093464,0.017047615703115204,0.01404009391367213,0.014784592762047888,0.014706071612519465,0.00735647507118222,0.001072086323877311,0.015177822817098272,0.005186960001962128,0.013758945990720622,0.016200047046022775,0.014110208095037805,0.015171283196989365,0.013772800041026295,0.013126472417876104,0.010356713645799404,0.016458009752573718,0.011184693543100931,0.009790699826308966,0.005344545225497624,0.017423581428638386,0.01758896492061264,0.01582028865299008,0.01791064377242221,0.017869217631333204,0.018436587089768766,0.017610574875640227,0.018206020330124847,0.016791081099762288,0.017937254875729433,0.01827410662724615,0.013758170065797994,0.018725970296345363,0.01907000046823054,0.019105475621910502,0.01910274316216162,0.01860411552362677,0.01242733953627375,0.01922092455467929,0.019596332862873062,0.01972456560467509,0.019607364151822612,0.01662281576019482,0.023107177974434116,0.01823101715284616,0.014109918238026547,0.018330225174304483,0.017033923303835005,0.018087287094451038,0.01631958853682435,0.019760244773097606,0.019415145474774607,0.020502056869945433,0.02045542556583416,0.020966864884268757,0.02022158565163185,0.01876058925700728,0.018028237647074646,0.010637395567863585,0.014735993774763697,0.018999186170699022,0.02059830054604568,0.020458214882150605,0.018702484074586856,0.020471906166596283,0.020060255698477136,0.018928292719906703,0.02006971618539247,0.01956180977799171,0.020653126999734508,0.02031552384965766,0.019444034185289942,0.016792929495626715,0.01836733579042886,0.014344878561060993,0.018321250755300444,0.017800976372194348,0.01139314867212071,0.019111971763467617,0.00906356341291035,0.02044452582737431,0.0003611752141039954,0.02096298525965582,0.020315740127581524,0.020277444442214507,0.007761646120263986,0.017279321823780374,0.016406269161220836,0.020254941504625243,0.0189561134188188,0.01983896101869115,0.021700879827512523,0.01749151053407289,0.019170211840881746,0.021145550583392705,0.021592841200721313,0.02076965397761837,0.00028209999175022335,0.019842122689783796,0.0206131311915129,0.018666035670249735,0.017542652459213846,0.019029518592097533,0.020218351516286506,0.007959460152464933,0.019381000318842732,0.018455402154306487,0.017709695939995183,0.002125026477323139,0.01799544701525325,0.020647694410441713,0.021349046927849884,0.021978018805030683,0.01842381777358612,0.020815630873784883,0.02061892721690429,0.01907863820716751,0.019375836404702782,0.019559887803039876,0.0029013951040920928,0.019407964824736723,0.019553465240570094,0.020329508335618585,0.016291615105563897,0.02105351875263361,0.01923143075650445,0.00028209999175022335,0.018220701587747547,0.021104555883316698,0.021220961344222765,0.020832545145229437,0.02117501677826143,0.020547185376936495,0.02073097144462489,0.020146626398838654,0.01730479356606637,0.01971446185816167,0.015514277687476485,0.018566404011621022,0.008132001997783798,0.020433390858801585,0.02216849834001096,0.020175111539207487,0.019817011039092582,0.0036602987310951664,0.021252638256220018,0.020792234953633894,0.00028209999175022335,0.01866292082221284],\"type\":\"scatter\",\"xaxis\":\"x2\",\"yaxis\":\"y2\"},{\"marker\":{\"color\":[0,1,2,3,4,5,6,7,8,9,10,11,12,13,14,15,16,17,18,19,20,21,22,23,24,25,26,27,28,29,30,31,32,33,34,35,36,37,38,39,40,41,42,43,44,45,46,47,48,49,50,51,52,53,54,55,56,57,58,59,60,61,62,63,64,65,66,67,68,69,70,71,72,73,74,75,76,77,78,79,80,81,82,83,84,85,86,87,88,89,90,91,92,93,94,95,96,97,98,99,100,101,102,103,104,105,106,107,108,109,110,111,112,113,114,115,116,117,118,119,120,121,122,123,124,125,126,127,128,129,130,131,132,133,134,135,136,137,138,139,140,141,142,143,144,145,146,147,148,149,150,151,152,153,154,155,156,157,158,159,160,161,162,163,164,165,166,167,168,169,170,171,172,173,174,175,176,177,178,179,180,181,182,183,184,185,186,187,188,189,190,191,192,193,194,195,196,197,198,199],\"colorbar\":{\"title\":{\"text\":\"Trial\"},\"x\":1.0,\"xpad\":40},\"colorscale\":[[0.0,\"rgb(247,251,255)\"],[0.125,\"rgb(222,235,247)\"],[0.25,\"rgb(198,219,239)\"],[0.375,\"rgb(158,202,225)\"],[0.5,\"rgb(107,174,214)\"],[0.625,\"rgb(66,146,198)\"],[0.75,\"rgb(33,113,181)\"],[0.875,\"rgb(8,81,156)\"],[1.0,\"rgb(8,48,107)\"]],\"line\":{\"color\":\"Grey\",\"width\":0.5},\"showscale\":false},\"mode\":\"markers\",\"name\":\"Feasible Trial\",\"showlegend\":false,\"x\":[true,true,true,true,false,false,false,true,true,false,true,true,true,true,true,true,true,true,false,false,false,false,false,false,false,false,false,false,false,false,false,false,false,false,false,false,false,false,false,false,false,false,false,false,false,false,false,false,false,false,false,false,false,false,false,false,false,true,false,false,true,false,false,false,false,false,false,false,false,false,true,false,false,false,false,false,false,false,false,false,false,false,false,false,false,false,false,false,true,false,false,false,false,false,false,false,false,false,false,false,false,false,false,false,false,false,false,false,true,false,false,false,false,false,false,false,false,false,false,false,false,false,false,false,false,false,false,false,true,false,false,false,false,false,false,false,false,false,false,false,false,false,false,false,false,false,false,false,false,false,true,false,true,true,true,true,true,false,false,false,false,false,false,false,false,false,false,false,false,true,false,false,false,false,false,false,false,false,false,false,false,false,false,false,false,false,false,false,false,false,false,false,false,false,false,false,false,false,false,false],\"y\":[0.006955000813829319,0.004003837260895806,0.00629727177662281,0.006152528333522871,0.008852048062751947,0.006060187693563195,0.004111397623618421,0.009696914360631382,0.007295051025982387,0.0020743059596831158,0.009086452083291705,0.00901820190547557,0.010103978398963874,0.010042351453856102,0.010257217996999106,0.0033975400058416983,0.010439102156759372,0.009670387984758156,0.01315999661090301,0.014055765144471818,0.007789414421947156,0.010118282842471883,0.015637350974477195,0.015893523256566015,0.01633631328637671,0.004788920550193202,0.009793877105086713,0.016267123302943137,0.00960222922338409,0.01258263043008129,0.011968937361900144,0.015554022657899845,0.01482531098312856,0.0170921165581933,0.0018588206833044555,0.007924300496993386,0.013089155557339681,0.008289903834362419,0.015282923854563354,0.011173080310459398,0.0036768205807396477,0.016318202797343303,0.015391266831216563,0.01324736843278809,0.013394684914280764,0.01076726042760622,0.0021909477655368908,0.007712222155332205,0.00876202181954406,0.006414486607491263,0.014672178409220466,0.015193378105093464,0.017047615703115204,0.01404009391367213,0.014784592762047888,0.014706071612519465,0.00735647507118222,0.001072086323877311,0.015177822817098272,0.005186960001962128,0.013758945990720622,0.016200047046022775,0.014110208095037805,0.015171283196989365,0.013772800041026295,0.013126472417876104,0.010356713645799404,0.016458009752573718,0.011184693543100931,0.009790699826308966,0.005344545225497624,0.017423581428638386,0.01758896492061264,0.01582028865299008,0.01791064377242221,0.017869217631333204,0.018436587089768766,0.017610574875640227,0.018206020330124847,0.016791081099762288,0.017937254875729433,0.01827410662724615,0.013758170065797994,0.018725970296345363,0.01907000046823054,0.019105475621910502,0.01910274316216162,0.01860411552362677,0.01242733953627375,0.01922092455467929,0.019596332862873062,0.01972456560467509,0.019607364151822612,0.01662281576019482,0.023107177974434116,0.01823101715284616,0.014109918238026547,0.018330225174304483,0.017033923303835005,0.018087287094451038,0.01631958853682435,0.019760244773097606,0.019415145474774607,0.020502056869945433,0.02045542556583416,0.020966864884268757,0.02022158565163185,0.01876058925700728,0.018028237647074646,0.010637395567863585,0.014735993774763697,0.018999186170699022,0.02059830054604568,0.020458214882150605,0.018702484074586856,0.020471906166596283,0.020060255698477136,0.018928292719906703,0.02006971618539247,0.01956180977799171,0.020653126999734508,0.02031552384965766,0.019444034185289942,0.016792929495626715,0.01836733579042886,0.014344878561060993,0.018321250755300444,0.017800976372194348,0.01139314867212071,0.019111971763467617,0.00906356341291035,0.02044452582737431,0.0003611752141039954,0.02096298525965582,0.020315740127581524,0.020277444442214507,0.007761646120263986,0.017279321823780374,0.016406269161220836,0.020254941504625243,0.0189561134188188,0.01983896101869115,0.021700879827512523,0.01749151053407289,0.019170211840881746,0.021145550583392705,0.021592841200721313,0.02076965397761837,0.00028209999175022335,0.019842122689783796,0.0206131311915129,0.018666035670249735,0.017542652459213846,0.019029518592097533,0.020218351516286506,0.007959460152464933,0.019381000318842732,0.018455402154306487,0.017709695939995183,0.002125026477323139,0.01799544701525325,0.020647694410441713,0.021349046927849884,0.021978018805030683,0.01842381777358612,0.020815630873784883,0.02061892721690429,0.01907863820716751,0.019375836404702782,0.019559887803039876,0.0029013951040920928,0.019407964824736723,0.019553465240570094,0.020329508335618585,0.016291615105563897,0.02105351875263361,0.01923143075650445,0.00028209999175022335,0.018220701587747547,0.021104555883316698,0.021220961344222765,0.020832545145229437,0.02117501677826143,0.020547185376936495,0.02073097144462489,0.020146626398838654,0.01730479356606637,0.01971446185816167,0.015514277687476485,0.018566404011621022,0.008132001997783798,0.020433390858801585,0.02216849834001096,0.020175111539207487,0.019817011039092582,0.0036602987310951664,0.021252638256220018,0.020792234953633894,0.00028209999175022335,0.01866292082221284],\"type\":\"scatter\",\"xaxis\":\"x3\",\"yaxis\":\"y3\"},{\"marker\":{\"color\":[0,1,2,3,4,5,6,7,8,9,10,11,12,13,14,15,16,17,18,19,20,21,22,23,24,25,26,27,28,29,30,31,32,33,34,35,36,37,38,39,40,41,42,43,44,45,46,47,48,49,50,51,52,53,54,55,56,57,58,59,60,61,62,63,64,65,66,67,68,69,70,71,72,73,74,75,76,77,78,79,80,81,82,83,84,85,86,87,88,89,90,91,92,93,94,95,96,97,98,99,100,101,102,103,104,105,106,107,108,109,110,111,112,113,114,115,116,117,118,119,120,121,122,123,124,125,126,127,128,129,130,131,132,133,134,135,136,137,138,139,140,141,142,143,144,145,146,147,148,149,150,151,152,153,154,155,156,157,158,159,160,161,162,163,164,165,166,167,168,169,170,171,172,173,174,175,176,177,178,179,180,181,182,183,184,185,186,187,188,189,190,191,192,193,194,195,196,197,198,199],\"colorbar\":{\"title\":{\"text\":\"Trial\"},\"x\":1.0,\"xpad\":40},\"colorscale\":[[0.0,\"rgb(247,251,255)\"],[0.125,\"rgb(222,235,247)\"],[0.25,\"rgb(198,219,239)\"],[0.375,\"rgb(158,202,225)\"],[0.5,\"rgb(107,174,214)\"],[0.625,\"rgb(66,146,198)\"],[0.75,\"rgb(33,113,181)\"],[0.875,\"rgb(8,81,156)\"],[1.0,\"rgb(8,48,107)\"]],\"line\":{\"color\":\"Grey\",\"width\":0.5},\"showscale\":false},\"mode\":\"markers\",\"name\":\"Feasible Trial\",\"showlegend\":false,\"x\":[false,true,false,false,false,false,false,true,true,true,true,true,true,true,true,true,true,true,true,true,true,true,true,true,true,true,true,true,true,false,true,true,true,true,true,false,true,false,true,false,true,true,true,true,true,true,true,false,true,true,true,true,true,true,true,true,true,true,true,true,false,true,true,true,true,true,true,true,true,true,true,true,true,true,true,true,true,true,true,false,true,true,true,true,true,true,true,true,true,true,true,true,true,true,true,true,false,true,true,true,true,true,true,true,true,true,true,true,true,true,false,true,true,true,true,true,true,true,true,true,true,true,true,true,true,true,true,true,true,true,true,true,true,true,true,true,true,false,true,true,true,true,true,true,true,true,true,true,true,true,true,true,true,true,true,true,true,true,true,true,false,true,true,true,true,true,true,true,true,true,true,true,true,true,true,true,true,true,true,true,true,true,true,true,true,true,true,true,true,true,false,true,true,true,true,true,true,true,true,true],\"y\":[0.006955000813829319,0.004003837260895806,0.00629727177662281,0.006152528333522871,0.008852048062751947,0.006060187693563195,0.004111397623618421,0.009696914360631382,0.007295051025982387,0.0020743059596831158,0.009086452083291705,0.00901820190547557,0.010103978398963874,0.010042351453856102,0.010257217996999106,0.0033975400058416983,0.010439102156759372,0.009670387984758156,0.01315999661090301,0.014055765144471818,0.007789414421947156,0.010118282842471883,0.015637350974477195,0.015893523256566015,0.01633631328637671,0.004788920550193202,0.009793877105086713,0.016267123302943137,0.00960222922338409,0.01258263043008129,0.011968937361900144,0.015554022657899845,0.01482531098312856,0.0170921165581933,0.0018588206833044555,0.007924300496993386,0.013089155557339681,0.008289903834362419,0.015282923854563354,0.011173080310459398,0.0036768205807396477,0.016318202797343303,0.015391266831216563,0.01324736843278809,0.013394684914280764,0.01076726042760622,0.0021909477655368908,0.007712222155332205,0.00876202181954406,0.006414486607491263,0.014672178409220466,0.015193378105093464,0.017047615703115204,0.01404009391367213,0.014784592762047888,0.014706071612519465,0.00735647507118222,0.001072086323877311,0.015177822817098272,0.005186960001962128,0.013758945990720622,0.016200047046022775,0.014110208095037805,0.015171283196989365,0.013772800041026295,0.013126472417876104,0.010356713645799404,0.016458009752573718,0.011184693543100931,0.009790699826308966,0.005344545225497624,0.017423581428638386,0.01758896492061264,0.01582028865299008,0.01791064377242221,0.017869217631333204,0.018436587089768766,0.017610574875640227,0.018206020330124847,0.016791081099762288,0.017937254875729433,0.01827410662724615,0.013758170065797994,0.018725970296345363,0.01907000046823054,0.019105475621910502,0.01910274316216162,0.01860411552362677,0.01242733953627375,0.01922092455467929,0.019596332862873062,0.01972456560467509,0.019607364151822612,0.01662281576019482,0.023107177974434116,0.01823101715284616,0.014109918238026547,0.018330225174304483,0.017033923303835005,0.018087287094451038,0.01631958853682435,0.019760244773097606,0.019415145474774607,0.020502056869945433,0.02045542556583416,0.020966864884268757,0.02022158565163185,0.01876058925700728,0.018028237647074646,0.010637395567863585,0.014735993774763697,0.018999186170699022,0.02059830054604568,0.020458214882150605,0.018702484074586856,0.020471906166596283,0.020060255698477136,0.018928292719906703,0.02006971618539247,0.01956180977799171,0.020653126999734508,0.02031552384965766,0.019444034185289942,0.016792929495626715,0.01836733579042886,0.014344878561060993,0.018321250755300444,0.017800976372194348,0.01139314867212071,0.019111971763467617,0.00906356341291035,0.02044452582737431,0.0003611752141039954,0.02096298525965582,0.020315740127581524,0.020277444442214507,0.007761646120263986,0.017279321823780374,0.016406269161220836,0.020254941504625243,0.0189561134188188,0.01983896101869115,0.021700879827512523,0.01749151053407289,0.019170211840881746,0.021145550583392705,0.021592841200721313,0.02076965397761837,0.00028209999175022335,0.019842122689783796,0.0206131311915129,0.018666035670249735,0.017542652459213846,0.019029518592097533,0.020218351516286506,0.007959460152464933,0.019381000318842732,0.018455402154306487,0.017709695939995183,0.002125026477323139,0.01799544701525325,0.020647694410441713,0.021349046927849884,0.021978018805030683,0.01842381777358612,0.020815630873784883,0.02061892721690429,0.01907863820716751,0.019375836404702782,0.019559887803039876,0.0029013951040920928,0.019407964824736723,0.019553465240570094,0.020329508335618585,0.016291615105563897,0.02105351875263361,0.01923143075650445,0.00028209999175022335,0.018220701587747547,0.021104555883316698,0.021220961344222765,0.020832545145229437,0.02117501677826143,0.020547185376936495,0.02073097144462489,0.020146626398838654,0.01730479356606637,0.01971446185816167,0.015514277687476485,0.018566404011621022,0.008132001997783798,0.020433390858801585,0.02216849834001096,0.020175111539207487,0.019817011039092582,0.0036602987310951664,0.021252638256220018,0.020792234953633894,0.00028209999175022335,0.01866292082221284],\"type\":\"scatter\",\"xaxis\":\"x4\",\"yaxis\":\"y4\"},{\"marker\":{\"color\":[0,1,2,3,4,5,6,7,8,9,10,11,12,13,14,15,16,17,18,19,20,21,22,23,24,25,26,27,28,29,30,31,32,33,34,35,36,37,38,39,40,41,42,43,44,45,46,47,48,49,50,51,52,53,54,55,56,57,58,59,60,61,62,63,64,65,66,67,68,69,70,71,72,73,74,75,76,77,78,79,80,81,82,83,84,85,86,87,88,89,90,91,92,93,94,95,96,97,98,99,100,101,102,103,104,105,106,107,108,109,110,111,112,113,114,115,116,117,118,119,120,121,122,123,124,125,126,127,128,129,130,131,132,133,134,135,136,137,138,139,140,141,142,143,144,145,146,147,148,149,150,151,152,153,154,155,156,157,158,159,160,161,162,163,164,165,166,167,168,169,170,171,172,173,174,175,176,177,178,179,180,181,182,183,184,185,186,187,188,189,190,191,192,193,194,195,196,197,198,199],\"colorbar\":{\"title\":{\"text\":\"Trial\"},\"x\":1.0,\"xpad\":40},\"colorscale\":[[0.0,\"rgb(247,251,255)\"],[0.125,\"rgb(222,235,247)\"],[0.25,\"rgb(198,219,239)\"],[0.375,\"rgb(158,202,225)\"],[0.5,\"rgb(107,174,214)\"],[0.625,\"rgb(66,146,198)\"],[0.75,\"rgb(33,113,181)\"],[0.875,\"rgb(8,81,156)\"],[1.0,\"rgb(8,48,107)\"]],\"line\":{\"color\":\"Grey\",\"width\":0.5},\"showscale\":false},\"mode\":\"markers\",\"name\":\"Feasible Trial\",\"showlegend\":false,\"x\":[1492,1333,1077,1293,259,197,492,483,585,176,866,890,828,566,697,767,1072,1077,1078,1080,1207,1025,976,950,932,941,1196,673,723,370,1431,943,644,787,40,792,621,1186,439,682,852,973,774,906,1009,827,1341,538,1146,893,758,987,934,831,1125,963,902,663,1024,714,808,943,1047,877,927,975,1127,724,606,722,576,859,749,748,495,321,284,274,237,260,315,282,301,162,143,145,142,156,167,130,119,94,121,109,9,35,88,152,217,4,108,132,140,75,82,51,54,59,199,69,17,122,70,77,80,48,49,32,57,63,3,50,3,46,45,77,187,2,37,93,68,91,15,50,51,85,97,190,25,86,235,89,30,3,103,34,21,28,0,28,42,36,65,116,33,1,172,63,113,26,69,48,31,24,2,38,32,36,24,33,3,67,114,71,419,41,41,0,129,47,29,43,30,37,27,24,3,97,1467,53,23,48,23,96,3,62,27,26,0,86],\"y\":[0.006955000813829319,0.004003837260895806,0.00629727177662281,0.006152528333522871,0.008852048062751947,0.006060187693563195,0.004111397623618421,0.009696914360631382,0.007295051025982387,0.0020743059596831158,0.009086452083291705,0.00901820190547557,0.010103978398963874,0.010042351453856102,0.010257217996999106,0.0033975400058416983,0.010439102156759372,0.009670387984758156,0.01315999661090301,0.014055765144471818,0.007789414421947156,0.010118282842471883,0.015637350974477195,0.015893523256566015,0.01633631328637671,0.004788920550193202,0.009793877105086713,0.016267123302943137,0.00960222922338409,0.01258263043008129,0.011968937361900144,0.015554022657899845,0.01482531098312856,0.0170921165581933,0.0018588206833044555,0.007924300496993386,0.013089155557339681,0.008289903834362419,0.015282923854563354,0.011173080310459398,0.0036768205807396477,0.016318202797343303,0.015391266831216563,0.01324736843278809,0.013394684914280764,0.01076726042760622,0.0021909477655368908,0.007712222155332205,0.00876202181954406,0.006414486607491263,0.014672178409220466,0.015193378105093464,0.017047615703115204,0.01404009391367213,0.014784592762047888,0.014706071612519465,0.00735647507118222,0.001072086323877311,0.015177822817098272,0.005186960001962128,0.013758945990720622,0.016200047046022775,0.014110208095037805,0.015171283196989365,0.013772800041026295,0.013126472417876104,0.010356713645799404,0.016458009752573718,0.011184693543100931,0.009790699826308966,0.005344545225497624,0.017423581428638386,0.01758896492061264,0.01582028865299008,0.01791064377242221,0.017869217631333204,0.018436587089768766,0.017610574875640227,0.018206020330124847,0.016791081099762288,0.017937254875729433,0.01827410662724615,0.013758170065797994,0.018725970296345363,0.01907000046823054,0.019105475621910502,0.01910274316216162,0.01860411552362677,0.01242733953627375,0.01922092455467929,0.019596332862873062,0.01972456560467509,0.019607364151822612,0.01662281576019482,0.023107177974434116,0.01823101715284616,0.014109918238026547,0.018330225174304483,0.017033923303835005,0.018087287094451038,0.01631958853682435,0.019760244773097606,0.019415145474774607,0.020502056869945433,0.02045542556583416,0.020966864884268757,0.02022158565163185,0.01876058925700728,0.018028237647074646,0.010637395567863585,0.014735993774763697,0.018999186170699022,0.02059830054604568,0.020458214882150605,0.018702484074586856,0.020471906166596283,0.020060255698477136,0.018928292719906703,0.02006971618539247,0.01956180977799171,0.020653126999734508,0.02031552384965766,0.019444034185289942,0.016792929495626715,0.01836733579042886,0.014344878561060993,0.018321250755300444,0.017800976372194348,0.01139314867212071,0.019111971763467617,0.00906356341291035,0.02044452582737431,0.0003611752141039954,0.02096298525965582,0.020315740127581524,0.020277444442214507,0.007761646120263986,0.017279321823780374,0.016406269161220836,0.020254941504625243,0.0189561134188188,0.01983896101869115,0.021700879827512523,0.01749151053407289,0.019170211840881746,0.021145550583392705,0.021592841200721313,0.02076965397761837,0.00028209999175022335,0.019842122689783796,0.0206131311915129,0.018666035670249735,0.017542652459213846,0.019029518592097533,0.020218351516286506,0.007959460152464933,0.019381000318842732,0.018455402154306487,0.017709695939995183,0.002125026477323139,0.01799544701525325,0.020647694410441713,0.021349046927849884,0.021978018805030683,0.01842381777358612,0.020815630873784883,0.02061892721690429,0.01907863820716751,0.019375836404702782,0.019559887803039876,0.0029013951040920928,0.019407964824736723,0.019553465240570094,0.020329508335618585,0.016291615105563897,0.02105351875263361,0.01923143075650445,0.00028209999175022335,0.018220701587747547,0.021104555883316698,0.021220961344222765,0.020832545145229437,0.02117501677826143,0.020547185376936495,0.02073097144462489,0.020146626398838654,0.01730479356606637,0.01971446185816167,0.015514277687476485,0.018566404011621022,0.008132001997783798,0.020433390858801585,0.02216849834001096,0.020175111539207487,0.019817011039092582,0.0036602987310951664,0.021252638256220018,0.020792234953633894,0.00028209999175022335,0.01866292082221284],\"type\":\"scatter\",\"xaxis\":\"x5\",\"yaxis\":\"y5\"}],                        {\"template\":{\"data\":{\"histogram2dcontour\":[{\"type\":\"histogram2dcontour\",\"colorbar\":{\"outlinewidth\":0,\"ticks\":\"\"},\"colorscale\":[[0.0,\"#0d0887\"],[0.1111111111111111,\"#46039f\"],[0.2222222222222222,\"#7201a8\"],[0.3333333333333333,\"#9c179e\"],[0.4444444444444444,\"#bd3786\"],[0.5555555555555556,\"#d8576b\"],[0.6666666666666666,\"#ed7953\"],[0.7777777777777778,\"#fb9f3a\"],[0.8888888888888888,\"#fdca26\"],[1.0,\"#f0f921\"]]}],\"choropleth\":[{\"type\":\"choropleth\",\"colorbar\":{\"outlinewidth\":0,\"ticks\":\"\"}}],\"histogram2d\":[{\"type\":\"histogram2d\",\"colorbar\":{\"outlinewidth\":0,\"ticks\":\"\"},\"colorscale\":[[0.0,\"#0d0887\"],[0.1111111111111111,\"#46039f\"],[0.2222222222222222,\"#7201a8\"],[0.3333333333333333,\"#9c179e\"],[0.4444444444444444,\"#bd3786\"],[0.5555555555555556,\"#d8576b\"],[0.6666666666666666,\"#ed7953\"],[0.7777777777777778,\"#fb9f3a\"],[0.8888888888888888,\"#fdca26\"],[1.0,\"#f0f921\"]]}],\"heatmap\":[{\"type\":\"heatmap\",\"colorbar\":{\"outlinewidth\":0,\"ticks\":\"\"},\"colorscale\":[[0.0,\"#0d0887\"],[0.1111111111111111,\"#46039f\"],[0.2222222222222222,\"#7201a8\"],[0.3333333333333333,\"#9c179e\"],[0.4444444444444444,\"#bd3786\"],[0.5555555555555556,\"#d8576b\"],[0.6666666666666666,\"#ed7953\"],[0.7777777777777778,\"#fb9f3a\"],[0.8888888888888888,\"#fdca26\"],[1.0,\"#f0f921\"]]}],\"heatmapgl\":[{\"type\":\"heatmapgl\",\"colorbar\":{\"outlinewidth\":0,\"ticks\":\"\"},\"colorscale\":[[0.0,\"#0d0887\"],[0.1111111111111111,\"#46039f\"],[0.2222222222222222,\"#7201a8\"],[0.3333333333333333,\"#9c179e\"],[0.4444444444444444,\"#bd3786\"],[0.5555555555555556,\"#d8576b\"],[0.6666666666666666,\"#ed7953\"],[0.7777777777777778,\"#fb9f3a\"],[0.8888888888888888,\"#fdca26\"],[1.0,\"#f0f921\"]]}],\"contourcarpet\":[{\"type\":\"contourcarpet\",\"colorbar\":{\"outlinewidth\":0,\"ticks\":\"\"}}],\"contour\":[{\"type\":\"contour\",\"colorbar\":{\"outlinewidth\":0,\"ticks\":\"\"},\"colorscale\":[[0.0,\"#0d0887\"],[0.1111111111111111,\"#46039f\"],[0.2222222222222222,\"#7201a8\"],[0.3333333333333333,\"#9c179e\"],[0.4444444444444444,\"#bd3786\"],[0.5555555555555556,\"#d8576b\"],[0.6666666666666666,\"#ed7953\"],[0.7777777777777778,\"#fb9f3a\"],[0.8888888888888888,\"#fdca26\"],[1.0,\"#f0f921\"]]}],\"surface\":[{\"type\":\"surface\",\"colorbar\":{\"outlinewidth\":0,\"ticks\":\"\"},\"colorscale\":[[0.0,\"#0d0887\"],[0.1111111111111111,\"#46039f\"],[0.2222222222222222,\"#7201a8\"],[0.3333333333333333,\"#9c179e\"],[0.4444444444444444,\"#bd3786\"],[0.5555555555555556,\"#d8576b\"],[0.6666666666666666,\"#ed7953\"],[0.7777777777777778,\"#fb9f3a\"],[0.8888888888888888,\"#fdca26\"],[1.0,\"#f0f921\"]]}],\"mesh3d\":[{\"type\":\"mesh3d\",\"colorbar\":{\"outlinewidth\":0,\"ticks\":\"\"}}],\"scatter\":[{\"fillpattern\":{\"fillmode\":\"overlay\",\"size\":10,\"solidity\":0.2},\"type\":\"scatter\"}],\"parcoords\":[{\"type\":\"parcoords\",\"line\":{\"colorbar\":{\"outlinewidth\":0,\"ticks\":\"\"}}}],\"scatterpolargl\":[{\"type\":\"scatterpolargl\",\"marker\":{\"colorbar\":{\"outlinewidth\":0,\"ticks\":\"\"}}}],\"bar\":[{\"error_x\":{\"color\":\"#2a3f5f\"},\"error_y\":{\"color\":\"#2a3f5f\"},\"marker\":{\"line\":{\"color\":\"#E5ECF6\",\"width\":0.5},\"pattern\":{\"fillmode\":\"overlay\",\"size\":10,\"solidity\":0.2}},\"type\":\"bar\"}],\"scattergeo\":[{\"type\":\"scattergeo\",\"marker\":{\"colorbar\":{\"outlinewidth\":0,\"ticks\":\"\"}}}],\"scatterpolar\":[{\"type\":\"scatterpolar\",\"marker\":{\"colorbar\":{\"outlinewidth\":0,\"ticks\":\"\"}}}],\"histogram\":[{\"marker\":{\"pattern\":{\"fillmode\":\"overlay\",\"size\":10,\"solidity\":0.2}},\"type\":\"histogram\"}],\"scattergl\":[{\"type\":\"scattergl\",\"marker\":{\"colorbar\":{\"outlinewidth\":0,\"ticks\":\"\"}}}],\"scatter3d\":[{\"type\":\"scatter3d\",\"line\":{\"colorbar\":{\"outlinewidth\":0,\"ticks\":\"\"}},\"marker\":{\"colorbar\":{\"outlinewidth\":0,\"ticks\":\"\"}}}],\"scattermapbox\":[{\"type\":\"scattermapbox\",\"marker\":{\"colorbar\":{\"outlinewidth\":0,\"ticks\":\"\"}}}],\"scatterternary\":[{\"type\":\"scatterternary\",\"marker\":{\"colorbar\":{\"outlinewidth\":0,\"ticks\":\"\"}}}],\"scattercarpet\":[{\"type\":\"scattercarpet\",\"marker\":{\"colorbar\":{\"outlinewidth\":0,\"ticks\":\"\"}}}],\"carpet\":[{\"aaxis\":{\"endlinecolor\":\"#2a3f5f\",\"gridcolor\":\"white\",\"linecolor\":\"white\",\"minorgridcolor\":\"white\",\"startlinecolor\":\"#2a3f5f\"},\"baxis\":{\"endlinecolor\":\"#2a3f5f\",\"gridcolor\":\"white\",\"linecolor\":\"white\",\"minorgridcolor\":\"white\",\"startlinecolor\":\"#2a3f5f\"},\"type\":\"carpet\"}],\"table\":[{\"cells\":{\"fill\":{\"color\":\"#EBF0F8\"},\"line\":{\"color\":\"white\"}},\"header\":{\"fill\":{\"color\":\"#C8D4E3\"},\"line\":{\"color\":\"white\"}},\"type\":\"table\"}],\"barpolar\":[{\"marker\":{\"line\":{\"color\":\"#E5ECF6\",\"width\":0.5},\"pattern\":{\"fillmode\":\"overlay\",\"size\":10,\"solidity\":0.2}},\"type\":\"barpolar\"}],\"pie\":[{\"automargin\":true,\"type\":\"pie\"}]},\"layout\":{\"autotypenumbers\":\"strict\",\"colorway\":[\"#636efa\",\"#EF553B\",\"#00cc96\",\"#ab63fa\",\"#FFA15A\",\"#19d3f3\",\"#FF6692\",\"#B6E880\",\"#FF97FF\",\"#FECB52\"],\"font\":{\"color\":\"#2a3f5f\"},\"hovermode\":\"closest\",\"hoverlabel\":{\"align\":\"left\"},\"paper_bgcolor\":\"white\",\"plot_bgcolor\":\"#E5ECF6\",\"polar\":{\"bgcolor\":\"#E5ECF6\",\"angularaxis\":{\"gridcolor\":\"white\",\"linecolor\":\"white\",\"ticks\":\"\"},\"radialaxis\":{\"gridcolor\":\"white\",\"linecolor\":\"white\",\"ticks\":\"\"}},\"ternary\":{\"bgcolor\":\"#E5ECF6\",\"aaxis\":{\"gridcolor\":\"white\",\"linecolor\":\"white\",\"ticks\":\"\"},\"baxis\":{\"gridcolor\":\"white\",\"linecolor\":\"white\",\"ticks\":\"\"},\"caxis\":{\"gridcolor\":\"white\",\"linecolor\":\"white\",\"ticks\":\"\"}},\"coloraxis\":{\"colorbar\":{\"outlinewidth\":0,\"ticks\":\"\"}},\"colorscale\":{\"sequential\":[[0.0,\"#0d0887\"],[0.1111111111111111,\"#46039f\"],[0.2222222222222222,\"#7201a8\"],[0.3333333333333333,\"#9c179e\"],[0.4444444444444444,\"#bd3786\"],[0.5555555555555556,\"#d8576b\"],[0.6666666666666666,\"#ed7953\"],[0.7777777777777778,\"#fb9f3a\"],[0.8888888888888888,\"#fdca26\"],[1.0,\"#f0f921\"]],\"sequentialminus\":[[0.0,\"#0d0887\"],[0.1111111111111111,\"#46039f\"],[0.2222222222222222,\"#7201a8\"],[0.3333333333333333,\"#9c179e\"],[0.4444444444444444,\"#bd3786\"],[0.5555555555555556,\"#d8576b\"],[0.6666666666666666,\"#ed7953\"],[0.7777777777777778,\"#fb9f3a\"],[0.8888888888888888,\"#fdca26\"],[1.0,\"#f0f921\"]],\"diverging\":[[0,\"#8e0152\"],[0.1,\"#c51b7d\"],[0.2,\"#de77ae\"],[0.3,\"#f1b6da\"],[0.4,\"#fde0ef\"],[0.5,\"#f7f7f7\"],[0.6,\"#e6f5d0\"],[0.7,\"#b8e186\"],[0.8,\"#7fbc41\"],[0.9,\"#4d9221\"],[1,\"#276419\"]]},\"xaxis\":{\"gridcolor\":\"white\",\"linecolor\":\"white\",\"ticks\":\"\",\"title\":{\"standoff\":15},\"zerolinecolor\":\"white\",\"automargin\":true,\"zerolinewidth\":2},\"yaxis\":{\"gridcolor\":\"white\",\"linecolor\":\"white\",\"ticks\":\"\",\"title\":{\"standoff\":15},\"zerolinecolor\":\"white\",\"automargin\":true,\"zerolinewidth\":2},\"scene\":{\"xaxis\":{\"backgroundcolor\":\"#E5ECF6\",\"gridcolor\":\"white\",\"linecolor\":\"white\",\"showbackground\":true,\"ticks\":\"\",\"zerolinecolor\":\"white\",\"gridwidth\":2},\"yaxis\":{\"backgroundcolor\":\"#E5ECF6\",\"gridcolor\":\"white\",\"linecolor\":\"white\",\"showbackground\":true,\"ticks\":\"\",\"zerolinecolor\":\"white\",\"gridwidth\":2},\"zaxis\":{\"backgroundcolor\":\"#E5ECF6\",\"gridcolor\":\"white\",\"linecolor\":\"white\",\"showbackground\":true,\"ticks\":\"\",\"zerolinecolor\":\"white\",\"gridwidth\":2}},\"shapedefaults\":{\"line\":{\"color\":\"#2a3f5f\"}},\"annotationdefaults\":{\"arrowcolor\":\"#2a3f5f\",\"arrowhead\":0,\"arrowwidth\":1},\"geo\":{\"bgcolor\":\"white\",\"landcolor\":\"#E5ECF6\",\"subunitcolor\":\"white\",\"showland\":true,\"showlakes\":true,\"lakecolor\":\"white\"},\"title\":{\"x\":0.05},\"mapbox\":{\"style\":\"light\"}}},\"xaxis\":{\"anchor\":\"y\",\"domain\":[0.0,0.16799999999999998],\"title\":{\"text\":\"alpha\"}},\"yaxis\":{\"anchor\":\"x\",\"domain\":[0.0,1.0],\"title\":{\"text\":\"Objective Value\"}},\"xaxis2\":{\"anchor\":\"y2\",\"domain\":[0.208,0.376],\"title\":{\"text\":\"beta\"}},\"yaxis2\":{\"anchor\":\"x2\",\"domain\":[0.0,1.0],\"matches\":\"y\",\"showticklabels\":false},\"xaxis3\":{\"anchor\":\"y3\",\"domain\":[0.416,0.584],\"title\":{\"text\":\"implicit\"},\"type\":\"category\",\"categoryorder\":\"array\",\"categoryarray\":[true,false]},\"yaxis3\":{\"anchor\":\"x3\",\"domain\":[0.0,1.0],\"matches\":\"y\",\"showticklabels\":false},\"xaxis4\":{\"anchor\":\"y4\",\"domain\":[0.624,0.792],\"title\":{\"text\":\"normalize_similarity\"},\"type\":\"category\",\"categoryorder\":\"array\",\"categoryarray\":[true,false]},\"yaxis4\":{\"anchor\":\"x4\",\"domain\":[0.0,1.0],\"matches\":\"y\",\"showticklabels\":false},\"xaxis5\":{\"anchor\":\"y5\",\"domain\":[0.832,1.0],\"title\":{\"text\":\"topK\"}},\"yaxis5\":{\"anchor\":\"x5\",\"domain\":[0.0,1.0],\"matches\":\"y\",\"showticklabels\":false},\"title\":{\"text\":\"Slice Plot\"},\"width\":1500},                        {\"responsive\": true}                    ).then(function(){\n",
       "                            \n",
       "var gd = document.getElementById('f712b83a-6542-44d5-bac1-f3a1836e70ce');\n",
       "var x = new MutationObserver(function (mutations, observer) {{\n",
       "        var display = window.getComputedStyle(gd).display;\n",
       "        if (!display || display === 'none') {{\n",
       "            console.log([gd, 'removed!']);\n",
       "            Plotly.purge(gd);\n",
       "            observer.disconnect();\n",
       "        }}\n",
       "}});\n",
       "\n",
       "// Listen for the removal of the full notebook cells\n",
       "var notebookContainer = gd.closest('#notebook-container');\n",
       "if (notebookContainer) {{\n",
       "    x.observe(notebookContainer, {childList: true});\n",
       "}}\n",
       "\n",
       "// Listen for the clearing of the current output cell\n",
       "var outputEl = gd.closest('.output');\n",
       "if (outputEl) {{\n",
       "    x.observe(outputEl, {childList: true});\n",
       "}}\n",
       "\n",
       "                        })                };                            </script>        </div>\n",
       "</body>\n",
       "</html>"
      ]
     },
     "metadata": {},
     "output_type": "display_data"
    }
   ],
   "source": [
    "if not config['tune_parameters']:\n",
    "    optuna_study = optuna.load_study(study_name=f'hyperparameters_tuning_{config[\"model\"]}_{config[\"metric\"]}', storage=f'sqlite:///{config[\"database_path\"]}')\n",
    "    \n",
    "fig = optuna.visualization.plot_slice(optuna_study)\n",
    "fig.show()"
   ]
  },
  {
   "cell_type": "code",
   "execution_count": 15,
   "id": "ad59642f",
   "metadata": {
    "execution": {
     "iopub.execute_input": "2024-12-24T07:36:02.177556Z",
     "iopub.status.busy": "2024-12-24T07:36:02.177141Z",
     "iopub.status.idle": "2024-12-24T07:36:05.279746Z",
     "shell.execute_reply": "2024-12-24T07:36:05.278518Z"
    },
    "papermill": {
     "duration": 3.157822,
     "end_time": "2024-12-24T07:36:05.281672",
     "exception": false,
     "start_time": "2024-12-24T07:36:02.123850",
     "status": "completed"
    },
    "tags": []
   },
   "outputs": [
    {
     "data": {
      "text/html": [
       "<html>\n",
       "<head><meta charset=\"utf-8\" /></head>\n",
       "<body>\n",
       "    <div>            <script src=\"https://cdnjs.cloudflare.com/ajax/libs/mathjax/2.7.5/MathJax.js?config=TeX-AMS-MML_SVG\"></script><script type=\"text/javascript\">if (window.MathJax && window.MathJax.Hub && window.MathJax.Hub.Config) {window.MathJax.Hub.Config({SVG: {font: \"STIX-Web\"}});}</script>                <script type=\"text/javascript\">window.PlotlyConfig = {MathJaxConfig: 'local'};</script>\n",
       "        <script charset=\"utf-8\" src=\"https://cdn.plot.ly/plotly-2.35.2.min.js\"></script>                <div id=\"db6f154d-df28-46bd-9bfa-518e320b08df\" class=\"plotly-graph-div\" style=\"height:525px; width:100%;\"></div>            <script type=\"text/javascript\">                                    window.PLOTLYENV=window.PLOTLYENV || {};                                    if (document.getElementById(\"db6f154d-df28-46bd-9bfa-518e320b08df\")) {                    Plotly.newPlot(                        \"db6f154d-df28-46bd-9bfa-518e320b08df\",                        [{\"cliponaxis\":false,\"hovertemplate\":[\"implicit (CategoricalDistribution): 0.0011602716360216534\\u003cextra\\u003e\\u003c\\u002fextra\\u003e\",\"normalize_similarity (CategoricalDistribution): 0.0029645778348475504\\u003cextra\\u003e\\u003c\\u002fextra\\u003e\",\"topK (IntDistribution): 0.023368081979542654\\u003cextra\\u003e\\u003c\\u002fextra\\u003e\",\"alpha (FloatDistribution): 0.049169530121495816\\u003cextra\\u003e\\u003c\\u002fextra\\u003e\",\"beta (FloatDistribution): 0.9233375384280924\\u003cextra\\u003e\\u003c\\u002fextra\\u003e\"],\"name\":\"Objective Value\",\"orientation\":\"h\",\"text\":[\"\\u003c0.01\",\"\\u003c0.01\",\"0.02\",\"0.05\",\"0.92\"],\"textposition\":\"outside\",\"x\":[0.0011602716360216534,0.0029645778348475504,0.023368081979542654,0.049169530121495816,0.9233375384280924],\"y\":[\"implicit\",\"normalize_similarity\",\"topK\",\"alpha\",\"beta\"],\"type\":\"bar\"}],                        {\"title\":{\"text\":\"Hyperparameter Importances\"},\"xaxis\":{\"title\":{\"text\":\"Hyperparameter Importance\"}},\"yaxis\":{\"title\":{\"text\":\"Hyperparameter\"}},\"template\":{\"data\":{\"histogram2dcontour\":[{\"type\":\"histogram2dcontour\",\"colorbar\":{\"outlinewidth\":0,\"ticks\":\"\"},\"colorscale\":[[0.0,\"#0d0887\"],[0.1111111111111111,\"#46039f\"],[0.2222222222222222,\"#7201a8\"],[0.3333333333333333,\"#9c179e\"],[0.4444444444444444,\"#bd3786\"],[0.5555555555555556,\"#d8576b\"],[0.6666666666666666,\"#ed7953\"],[0.7777777777777778,\"#fb9f3a\"],[0.8888888888888888,\"#fdca26\"],[1.0,\"#f0f921\"]]}],\"choropleth\":[{\"type\":\"choropleth\",\"colorbar\":{\"outlinewidth\":0,\"ticks\":\"\"}}],\"histogram2d\":[{\"type\":\"histogram2d\",\"colorbar\":{\"outlinewidth\":0,\"ticks\":\"\"},\"colorscale\":[[0.0,\"#0d0887\"],[0.1111111111111111,\"#46039f\"],[0.2222222222222222,\"#7201a8\"],[0.3333333333333333,\"#9c179e\"],[0.4444444444444444,\"#bd3786\"],[0.5555555555555556,\"#d8576b\"],[0.6666666666666666,\"#ed7953\"],[0.7777777777777778,\"#fb9f3a\"],[0.8888888888888888,\"#fdca26\"],[1.0,\"#f0f921\"]]}],\"heatmap\":[{\"type\":\"heatmap\",\"colorbar\":{\"outlinewidth\":0,\"ticks\":\"\"},\"colorscale\":[[0.0,\"#0d0887\"],[0.1111111111111111,\"#46039f\"],[0.2222222222222222,\"#7201a8\"],[0.3333333333333333,\"#9c179e\"],[0.4444444444444444,\"#bd3786\"],[0.5555555555555556,\"#d8576b\"],[0.6666666666666666,\"#ed7953\"],[0.7777777777777778,\"#fb9f3a\"],[0.8888888888888888,\"#fdca26\"],[1.0,\"#f0f921\"]]}],\"heatmapgl\":[{\"type\":\"heatmapgl\",\"colorbar\":{\"outlinewidth\":0,\"ticks\":\"\"},\"colorscale\":[[0.0,\"#0d0887\"],[0.1111111111111111,\"#46039f\"],[0.2222222222222222,\"#7201a8\"],[0.3333333333333333,\"#9c179e\"],[0.4444444444444444,\"#bd3786\"],[0.5555555555555556,\"#d8576b\"],[0.6666666666666666,\"#ed7953\"],[0.7777777777777778,\"#fb9f3a\"],[0.8888888888888888,\"#fdca26\"],[1.0,\"#f0f921\"]]}],\"contourcarpet\":[{\"type\":\"contourcarpet\",\"colorbar\":{\"outlinewidth\":0,\"ticks\":\"\"}}],\"contour\":[{\"type\":\"contour\",\"colorbar\":{\"outlinewidth\":0,\"ticks\":\"\"},\"colorscale\":[[0.0,\"#0d0887\"],[0.1111111111111111,\"#46039f\"],[0.2222222222222222,\"#7201a8\"],[0.3333333333333333,\"#9c179e\"],[0.4444444444444444,\"#bd3786\"],[0.5555555555555556,\"#d8576b\"],[0.6666666666666666,\"#ed7953\"],[0.7777777777777778,\"#fb9f3a\"],[0.8888888888888888,\"#fdca26\"],[1.0,\"#f0f921\"]]}],\"surface\":[{\"type\":\"surface\",\"colorbar\":{\"outlinewidth\":0,\"ticks\":\"\"},\"colorscale\":[[0.0,\"#0d0887\"],[0.1111111111111111,\"#46039f\"],[0.2222222222222222,\"#7201a8\"],[0.3333333333333333,\"#9c179e\"],[0.4444444444444444,\"#bd3786\"],[0.5555555555555556,\"#d8576b\"],[0.6666666666666666,\"#ed7953\"],[0.7777777777777778,\"#fb9f3a\"],[0.8888888888888888,\"#fdca26\"],[1.0,\"#f0f921\"]]}],\"mesh3d\":[{\"type\":\"mesh3d\",\"colorbar\":{\"outlinewidth\":0,\"ticks\":\"\"}}],\"scatter\":[{\"fillpattern\":{\"fillmode\":\"overlay\",\"size\":10,\"solidity\":0.2},\"type\":\"scatter\"}],\"parcoords\":[{\"type\":\"parcoords\",\"line\":{\"colorbar\":{\"outlinewidth\":0,\"ticks\":\"\"}}}],\"scatterpolargl\":[{\"type\":\"scatterpolargl\",\"marker\":{\"colorbar\":{\"outlinewidth\":0,\"ticks\":\"\"}}}],\"bar\":[{\"error_x\":{\"color\":\"#2a3f5f\"},\"error_y\":{\"color\":\"#2a3f5f\"},\"marker\":{\"line\":{\"color\":\"#E5ECF6\",\"width\":0.5},\"pattern\":{\"fillmode\":\"overlay\",\"size\":10,\"solidity\":0.2}},\"type\":\"bar\"}],\"scattergeo\":[{\"type\":\"scattergeo\",\"marker\":{\"colorbar\":{\"outlinewidth\":0,\"ticks\":\"\"}}}],\"scatterpolar\":[{\"type\":\"scatterpolar\",\"marker\":{\"colorbar\":{\"outlinewidth\":0,\"ticks\":\"\"}}}],\"histogram\":[{\"marker\":{\"pattern\":{\"fillmode\":\"overlay\",\"size\":10,\"solidity\":0.2}},\"type\":\"histogram\"}],\"scattergl\":[{\"type\":\"scattergl\",\"marker\":{\"colorbar\":{\"outlinewidth\":0,\"ticks\":\"\"}}}],\"scatter3d\":[{\"type\":\"scatter3d\",\"line\":{\"colorbar\":{\"outlinewidth\":0,\"ticks\":\"\"}},\"marker\":{\"colorbar\":{\"outlinewidth\":0,\"ticks\":\"\"}}}],\"scattermapbox\":[{\"type\":\"scattermapbox\",\"marker\":{\"colorbar\":{\"outlinewidth\":0,\"ticks\":\"\"}}}],\"scatterternary\":[{\"type\":\"scatterternary\",\"marker\":{\"colorbar\":{\"outlinewidth\":0,\"ticks\":\"\"}}}],\"scattercarpet\":[{\"type\":\"scattercarpet\",\"marker\":{\"colorbar\":{\"outlinewidth\":0,\"ticks\":\"\"}}}],\"carpet\":[{\"aaxis\":{\"endlinecolor\":\"#2a3f5f\",\"gridcolor\":\"white\",\"linecolor\":\"white\",\"minorgridcolor\":\"white\",\"startlinecolor\":\"#2a3f5f\"},\"baxis\":{\"endlinecolor\":\"#2a3f5f\",\"gridcolor\":\"white\",\"linecolor\":\"white\",\"minorgridcolor\":\"white\",\"startlinecolor\":\"#2a3f5f\"},\"type\":\"carpet\"}],\"table\":[{\"cells\":{\"fill\":{\"color\":\"#EBF0F8\"},\"line\":{\"color\":\"white\"}},\"header\":{\"fill\":{\"color\":\"#C8D4E3\"},\"line\":{\"color\":\"white\"}},\"type\":\"table\"}],\"barpolar\":[{\"marker\":{\"line\":{\"color\":\"#E5ECF6\",\"width\":0.5},\"pattern\":{\"fillmode\":\"overlay\",\"size\":10,\"solidity\":0.2}},\"type\":\"barpolar\"}],\"pie\":[{\"automargin\":true,\"type\":\"pie\"}]},\"layout\":{\"autotypenumbers\":\"strict\",\"colorway\":[\"#636efa\",\"#EF553B\",\"#00cc96\",\"#ab63fa\",\"#FFA15A\",\"#19d3f3\",\"#FF6692\",\"#B6E880\",\"#FF97FF\",\"#FECB52\"],\"font\":{\"color\":\"#2a3f5f\"},\"hovermode\":\"closest\",\"hoverlabel\":{\"align\":\"left\"},\"paper_bgcolor\":\"white\",\"plot_bgcolor\":\"#E5ECF6\",\"polar\":{\"bgcolor\":\"#E5ECF6\",\"angularaxis\":{\"gridcolor\":\"white\",\"linecolor\":\"white\",\"ticks\":\"\"},\"radialaxis\":{\"gridcolor\":\"white\",\"linecolor\":\"white\",\"ticks\":\"\"}},\"ternary\":{\"bgcolor\":\"#E5ECF6\",\"aaxis\":{\"gridcolor\":\"white\",\"linecolor\":\"white\",\"ticks\":\"\"},\"baxis\":{\"gridcolor\":\"white\",\"linecolor\":\"white\",\"ticks\":\"\"},\"caxis\":{\"gridcolor\":\"white\",\"linecolor\":\"white\",\"ticks\":\"\"}},\"coloraxis\":{\"colorbar\":{\"outlinewidth\":0,\"ticks\":\"\"}},\"colorscale\":{\"sequential\":[[0.0,\"#0d0887\"],[0.1111111111111111,\"#46039f\"],[0.2222222222222222,\"#7201a8\"],[0.3333333333333333,\"#9c179e\"],[0.4444444444444444,\"#bd3786\"],[0.5555555555555556,\"#d8576b\"],[0.6666666666666666,\"#ed7953\"],[0.7777777777777778,\"#fb9f3a\"],[0.8888888888888888,\"#fdca26\"],[1.0,\"#f0f921\"]],\"sequentialminus\":[[0.0,\"#0d0887\"],[0.1111111111111111,\"#46039f\"],[0.2222222222222222,\"#7201a8\"],[0.3333333333333333,\"#9c179e\"],[0.4444444444444444,\"#bd3786\"],[0.5555555555555556,\"#d8576b\"],[0.6666666666666666,\"#ed7953\"],[0.7777777777777778,\"#fb9f3a\"],[0.8888888888888888,\"#fdca26\"],[1.0,\"#f0f921\"]],\"diverging\":[[0,\"#8e0152\"],[0.1,\"#c51b7d\"],[0.2,\"#de77ae\"],[0.3,\"#f1b6da\"],[0.4,\"#fde0ef\"],[0.5,\"#f7f7f7\"],[0.6,\"#e6f5d0\"],[0.7,\"#b8e186\"],[0.8,\"#7fbc41\"],[0.9,\"#4d9221\"],[1,\"#276419\"]]},\"xaxis\":{\"gridcolor\":\"white\",\"linecolor\":\"white\",\"ticks\":\"\",\"title\":{\"standoff\":15},\"zerolinecolor\":\"white\",\"automargin\":true,\"zerolinewidth\":2},\"yaxis\":{\"gridcolor\":\"white\",\"linecolor\":\"white\",\"ticks\":\"\",\"title\":{\"standoff\":15},\"zerolinecolor\":\"white\",\"automargin\":true,\"zerolinewidth\":2},\"scene\":{\"xaxis\":{\"backgroundcolor\":\"#E5ECF6\",\"gridcolor\":\"white\",\"linecolor\":\"white\",\"showbackground\":true,\"ticks\":\"\",\"zerolinecolor\":\"white\",\"gridwidth\":2},\"yaxis\":{\"backgroundcolor\":\"#E5ECF6\",\"gridcolor\":\"white\",\"linecolor\":\"white\",\"showbackground\":true,\"ticks\":\"\",\"zerolinecolor\":\"white\",\"gridwidth\":2},\"zaxis\":{\"backgroundcolor\":\"#E5ECF6\",\"gridcolor\":\"white\",\"linecolor\":\"white\",\"showbackground\":true,\"ticks\":\"\",\"zerolinecolor\":\"white\",\"gridwidth\":2}},\"shapedefaults\":{\"line\":{\"color\":\"#2a3f5f\"}},\"annotationdefaults\":{\"arrowcolor\":\"#2a3f5f\",\"arrowhead\":0,\"arrowwidth\":1},\"geo\":{\"bgcolor\":\"white\",\"landcolor\":\"#E5ECF6\",\"subunitcolor\":\"white\",\"showland\":true,\"showlakes\":true,\"lakecolor\":\"white\"},\"title\":{\"x\":0.05},\"mapbox\":{\"style\":\"light\"}}}},                        {\"responsive\": true}                    ).then(function(){\n",
       "                            \n",
       "var gd = document.getElementById('db6f154d-df28-46bd-9bfa-518e320b08df');\n",
       "var x = new MutationObserver(function (mutations, observer) {{\n",
       "        var display = window.getComputedStyle(gd).display;\n",
       "        if (!display || display === 'none') {{\n",
       "            console.log([gd, 'removed!']);\n",
       "            Plotly.purge(gd);\n",
       "            observer.disconnect();\n",
       "        }}\n",
       "}});\n",
       "\n",
       "// Listen for the removal of the full notebook cells\n",
       "var notebookContainer = gd.closest('#notebook-container');\n",
       "if (notebookContainer) {{\n",
       "    x.observe(notebookContainer, {childList: true});\n",
       "}}\n",
       "\n",
       "// Listen for the clearing of the current output cell\n",
       "var outputEl = gd.closest('.output');\n",
       "if (outputEl) {{\n",
       "    x.observe(outputEl, {childList: true});\n",
       "}}\n",
       "\n",
       "                        })                };                            </script>        </div>\n",
       "</body>\n",
       "</html>"
      ]
     },
     "metadata": {},
     "output_type": "display_data"
    }
   ],
   "source": [
    "if not config['tune_parameters']:\n",
    "    optuna_study = optuna.load_study(study_name=f'hyperparameters_tuning_{config[\"model\"]}_{config[\"metric\"]}', storage=f'sqlite:///{config[\"database_path\"]}')\n",
    "    \n",
    "fig = optuna.visualization.plot_param_importances(optuna_study)\n",
    "fig.show()"
   ]
  },
  {
   "cell_type": "markdown",
   "id": "4eb79941",
   "metadata": {
    "papermill": {
     "duration": 0.048629,
     "end_time": "2024-12-24T07:36:05.379052",
     "exception": false,
     "start_time": "2024-12-24T07:36:05.330423",
     "status": "completed"
    },
    "tags": []
   },
   "source": [
    "## Let's train the recommender with best parameter values"
   ]
  },
  {
   "cell_type": "code",
   "execution_count": 16,
   "id": "40a3367e",
   "metadata": {
    "execution": {
     "iopub.execute_input": "2024-12-24T07:36:05.477745Z",
     "iopub.status.busy": "2024-12-24T07:36:05.477380Z",
     "iopub.status.idle": "2024-12-24T07:36:59.766520Z",
     "shell.execute_reply": "2024-12-24T07:36:59.765131Z"
    },
    "papermill": {
     "duration": 54.341015,
     "end_time": "2024-12-24T07:36:59.768867",
     "exception": false,
     "start_time": "2024-12-24T07:36:05.427852",
     "status": "completed"
    },
    "tags": []
   },
   "outputs": [
    {
     "name": "stdout",
     "output_type": "stream",
     "text": [
      "RP3betaRecommender: Similarity column 38121 (100.0%), 718.67 column/sec. Elapsed time 53.04 sec\n"
     ]
    }
   ],
   "source": [
    "if config['tune_best_params']:\n",
    "\n",
    "    if config['tune_parameters']:\n",
    "        best_params = optuna_study.best_trial.params\n",
    "    else: \n",
    "        with open(f'{K_PATH}/{GH_PATH}/{config[\"model\"]}Recommender/Optimizing{config[\"metric\"]}/best_params_{config[\"model\"]}_{config[\"metric\"]}.json', 'r') as best_params_json:\n",
    "            best_params = json.load(best_params_json)\n",
    "\n",
    "    rp3beta_icm_recommender = RP3betaRecommender(ICM_all.T)\n",
    "    rp3beta_icm_recommender.fit(**best_params)\n",
    "    \n",
    "    recommender_instance = ItemKNNCustomSimilarityRecommender(URM_train + URM_validation)\n",
    "    recommender_instance.fit(rp3beta_icm_recommender.W_sparse)"
   ]
  },
  {
   "cell_type": "markdown",
   "id": "6a4928b0",
   "metadata": {
    "papermill": {
     "duration": 0.050958,
     "end_time": "2024-12-24T07:36:59.871846",
     "exception": false,
     "start_time": "2024-12-24T07:36:59.820888",
     "status": "completed"
    },
    "tags": []
   },
   "source": [
    "# Testing"
   ]
  },
  {
   "cell_type": "markdown",
   "id": "5328648d",
   "metadata": {
    "papermill": {
     "duration": 0.049164,
     "end_time": "2024-12-24T07:36:59.972023",
     "exception": false,
     "start_time": "2024-12-24T07:36:59.922859",
     "status": "completed"
    },
    "tags": []
   },
   "source": [
    "Create the recommendations for the submission. "
   ]
  },
  {
   "cell_type": "code",
   "execution_count": 17,
   "id": "98792ad0",
   "metadata": {
    "execution": {
     "iopub.execute_input": "2024-12-24T07:37:00.075430Z",
     "iopub.status.busy": "2024-12-24T07:37:00.075017Z",
     "iopub.status.idle": "2024-12-24T07:37:24.649197Z",
     "shell.execute_reply": "2024-12-24T07:37:24.647868Z"
    },
    "papermill": {
     "duration": 24.627987,
     "end_time": "2024-12-24T07:37:24.651263",
     "exception": false,
     "start_time": "2024-12-24T07:37:00.023276",
     "status": "completed"
    },
    "tags": []
   },
   "outputs": [
    {
     "name": "stdout",
     "output_type": "stream",
     "text": [
      "Submission file saved as /kaggle/working/submission_RP3betaICM_MAP.csv\n"
     ]
    }
   ],
   "source": [
    "if config['tune_best_params']:\n",
    "\n",
    "    data_target_users_test = pd.read_csv('/kaggle/input/recommender-system-2024-challenge-polimi/data_target_users_test.csv')\n",
    "    create_submission(data_target_users_test, recommender_instance, f'/kaggle/working/submission_{config[\"model\"]}_{config[\"metric\"]}.csv')"
   ]
  },
  {
   "cell_type": "markdown",
   "id": "b2b4da1e",
   "metadata": {
    "execution": {
     "iopub.execute_input": "2024-11-14T00:04:16.877791Z",
     "iopub.status.busy": "2024-11-14T00:04:16.877275Z",
     "iopub.status.idle": "2024-11-14T00:04:16.883170Z",
     "shell.execute_reply": "2024-11-14T00:04:16.881889Z",
     "shell.execute_reply.started": "2024-11-14T00:04:16.877743Z"
    },
    "papermill": {
     "duration": 0.050848,
     "end_time": "2024-12-24T07:37:24.750678",
     "exception": false,
     "start_time": "2024-12-24T07:37:24.699830",
     "status": "completed"
    },
    "tags": []
   },
   "source": [
    "# Save Version on GitHub "
   ]
  },
  {
   "cell_type": "markdown",
   "id": "7af769e3",
   "metadata": {
    "papermill": {
     "duration": 0.049408,
     "end_time": "2024-12-24T07:37:24.848998",
     "exception": false,
     "start_time": "2024-12-24T07:37:24.799590",
     "status": "completed"
    },
    "tags": []
   },
   "source": [
    "Write or import a json file where best hyperparameters are saved. "
   ]
  },
  {
   "cell_type": "code",
   "execution_count": 18,
   "id": "1fbd2ca0",
   "metadata": {
    "execution": {
     "iopub.execute_input": "2024-12-24T07:37:24.948938Z",
     "iopub.status.busy": "2024-12-24T07:37:24.948489Z",
     "iopub.status.idle": "2024-12-24T07:37:26.010613Z",
     "shell.execute_reply": "2024-12-24T07:37:26.009598Z"
    },
    "papermill": {
     "duration": 1.114719,
     "end_time": "2024-12-24T07:37:26.012466",
     "exception": false,
     "start_time": "2024-12-24T07:37:24.897747",
     "status": "completed"
    },
    "tags": []
   },
   "outputs": [
    {
     "name": "stdout",
     "output_type": "stream",
     "text": [
      "File 'TrainedModels/WithoutKFCV/GraphBased/RP3betaICMRecommender/OptimizingMAP/best_params_RP3betaICM_MAP.json' created successfully.\n"
     ]
    }
   ],
   "source": [
    "if config['tune_parameters']:\n",
    "    with open(f'/kaggle/working/best_params_{config[\"model\"]}_{config[\"metric\"]}.json', 'w') as params_file:\n",
    "        json.dump(optuna_study.best_params, params_file)\n",
    "        \n",
    "    if config['save_github']:\n",
    "        upload_file(\n",
    "            f'/kaggle/working/best_params_{config[\"model\"]}_{config[\"metric\"]}.json', \n",
    "            f'{GH_PATH}/{config[\"model\"]}Recommender/Optimizing{config[\"metric\"]}/best_params_{config[\"model\"]}_{config[\"metric\"]}.json', \n",
    "            f'{config[\"model\"]}_{config[\"metric\"]} tuning results (from kaggle notebook)',\n",
    "            repo\n",
    "        )\n",
    "elif config['copy_prev_best_params']:\n",
    "    shutil.copyfile(\n",
    "        f'{K_PATH}/{GH_PATH}/{config[\"model\"]}Recommender/Optimizing{config[\"metric\"]}/'\\\n",
    "        f'best_params_{config[\"model\"]}_{config[\"metric\"]}.json', \n",
    "        f'/kaggle/working/best_params_{config[\"model\"]}_{config[\"metric\"]}.json'\n",
    "    )"
   ]
  },
  {
   "cell_type": "markdown",
   "id": "698e7212",
   "metadata": {
    "execution": {
     "iopub.execute_input": "2024-11-14T00:41:34.294243Z",
     "iopub.status.busy": "2024-11-14T00:41:34.293739Z",
     "iopub.status.idle": "2024-11-14T00:41:34.301478Z",
     "shell.execute_reply": "2024-11-14T00:41:34.299869Z",
     "shell.execute_reply.started": "2024-11-14T00:41:34.294186Z"
    },
    "papermill": {
     "duration": 0.049261,
     "end_time": "2024-12-24T07:37:26.113484",
     "exception": false,
     "start_time": "2024-12-24T07:37:26.064223",
     "status": "completed"
    },
    "tags": []
   },
   "source": [
    "Save the history of the tuned model."
   ]
  },
  {
   "cell_type": "code",
   "execution_count": 19,
   "id": "1de1f5b1",
   "metadata": {
    "execution": {
     "iopub.execute_input": "2024-12-24T07:37:26.212098Z",
     "iopub.status.busy": "2024-12-24T07:37:26.211740Z",
     "iopub.status.idle": "2024-12-24T07:37:27.719138Z",
     "shell.execute_reply": "2024-12-24T07:37:27.717929Z"
    },
    "papermill": {
     "duration": 1.558435,
     "end_time": "2024-12-24T07:37:27.720992",
     "exception": false,
     "start_time": "2024-12-24T07:37:26.162557",
     "status": "completed"
    },
    "tags": []
   },
   "outputs": [
    {
     "name": "stdout",
     "output_type": "stream",
     "text": [
      "File 'TrainedModels/WithoutKFCV/GraphBased/RP3betaICMRecommender/OptimizingMAP/history_RP3betaICM_MAP.db' created successfully.\n"
     ]
    }
   ],
   "source": [
    "if config['save_github'] and config['tune_parameters']:\n",
    "    upload_file(\n",
    "        config['database_path'], \n",
    "        f'{GH_PATH}/{config[\"model\"]}Recommender/Optimizing{config[\"metric\"]}/history_{config[\"model\"]}_{config[\"metric\"]}.db',\n",
    "        f'Tuning {config[\"model\"]}_{config[\"metric\"]} db updated results (from kaggle notebook)',\n",
    "        repo\n",
    "    )"
   ]
  },
  {
   "cell_type": "markdown",
   "id": "96fa8759",
   "metadata": {
    "papermill": {
     "duration": 0.049361,
     "end_time": "2024-12-24T07:37:27.821286",
     "exception": false,
     "start_time": "2024-12-24T07:37:27.771925",
     "status": "completed"
    },
    "tags": []
   },
   "source": [
    "Save the best trained model and its submission."
   ]
  },
  {
   "cell_type": "code",
   "execution_count": 20,
   "id": "d1f02bb0",
   "metadata": {
    "execution": {
     "iopub.execute_input": "2024-12-24T07:37:28.225799Z",
     "iopub.status.busy": "2024-12-24T07:37:28.225092Z",
     "iopub.status.idle": "2024-12-24T07:37:29.979320Z",
     "shell.execute_reply": "2024-12-24T07:37:29.977985Z"
    },
    "papermill": {
     "duration": 1.806123,
     "end_time": "2024-12-24T07:37:29.981430",
     "exception": false,
     "start_time": "2024-12-24T07:37:28.175307",
     "status": "completed"
    },
    "tags": []
   },
   "outputs": [
    {
     "name": "stdout",
     "output_type": "stream",
     "text": [
      "File 'TrainedModels/WithoutKFCV/GraphBased/RP3betaICMRecommender/OptimizingMAP/Submission/submission_RP3betaICM_MAP.csv' created successfully.\n"
     ]
    }
   ],
   "source": [
    "if config['save_github'] and config['tune_best_params']: \n",
    "    upload_file(\n",
    "                f'/kaggle/working/submission_{config[\"model\"]}_{config[\"metric\"]}.csv', \n",
    "                f'{GH_PATH}/{config[\"model\"]}Recommender/Optimizing{config[\"metric\"]}/Submission/submission_{config[\"model\"]}_{config[\"metric\"]}.csv', \n",
    "                f'New {config[\"model\"]}_{config[\"metric\"]} submission (from kaggle notebook)',\n",
    "                repo\n",
    "            )"
   ]
  }
 ],
 "metadata": {
  "kaggle": {
   "accelerator": "none",
   "dataSources": [
    {
     "databundleVersionId": 9982103,
     "sourceId": 87439,
     "sourceType": "competition"
    }
   ],
   "dockerImageVersionId": 30822,
   "isGpuEnabled": false,
   "isInternetEnabled": true,
   "language": "python",
   "sourceType": "notebook"
  },
  "kernelspec": {
   "display_name": "Python 3",
   "language": "python",
   "name": "python3"
  },
  "language_info": {
   "codemirror_mode": {
    "name": "ipython",
    "version": 3
   },
   "file_extension": ".py",
   "mimetype": "text/x-python",
   "name": "python",
   "nbconvert_exporter": "python",
   "pygments_lexer": "ipython3",
   "version": "3.10.12"
  },
  "papermill": {
   "default_parameters": {},
   "duration": 25927.828716,
   "end_time": "2024-12-24T07:37:31.292590",
   "environment_variables": {},
   "exception": null,
   "input_path": "__notebook__.ipynb",
   "output_path": "__notebook__.ipynb",
   "parameters": {},
   "start_time": "2024-12-24T00:25:23.463874",
   "version": "2.6.0"
  }
 },
 "nbformat": 4,
 "nbformat_minor": 5
}
