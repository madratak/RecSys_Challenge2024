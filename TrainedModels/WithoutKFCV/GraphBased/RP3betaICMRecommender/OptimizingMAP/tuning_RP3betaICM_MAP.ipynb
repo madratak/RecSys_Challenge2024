{
 "cells": [
  {
   "cell_type": "markdown",
   "id": "edcab217",
   "metadata": {
    "papermill": {
     "duration": 0.007687,
     "end_time": "2024-12-24T14:57:06.115691",
     "exception": false,
     "start_time": "2024-12-24T14:57:06.108004",
     "status": "completed"
    },
    "tags": []
   },
   "source": [
    "# Set connection with GitHub"
   ]
  },
  {
   "cell_type": "code",
   "execution_count": 1,
   "id": "e5e93dd0",
   "metadata": {
    "execution": {
     "iopub.execute_input": "2024-12-24T14:57:06.129705Z",
     "iopub.status.busy": "2024-12-24T14:57:06.129184Z",
     "iopub.status.idle": "2024-12-24T14:57:06.135405Z",
     "shell.execute_reply": "2024-12-24T14:57:06.134355Z"
    },
    "papermill": {
     "duration": 0.015229,
     "end_time": "2024-12-24T14:57:06.137360",
     "exception": false,
     "start_time": "2024-12-24T14:57:06.122131",
     "status": "completed"
    },
    "tags": []
   },
   "outputs": [],
   "source": [
    "# ! cd /kaggle/working && rm -rf RECsys_Challenge2024"
   ]
  },
  {
   "cell_type": "code",
   "execution_count": 2,
   "id": "53f9a916",
   "metadata": {
    "_cell_guid": "b1076dfc-b9ad-4769-8c92-a6c4dae69d19",
    "_uuid": "8f2839f25d086af736a60e9eeb907d3b93b6e0e5",
    "execution": {
     "iopub.execute_input": "2024-12-24T14:57:06.150477Z",
     "iopub.status.busy": "2024-12-24T14:57:06.150091Z",
     "iopub.status.idle": "2024-12-24T14:57:16.013141Z",
     "shell.execute_reply": "2024-12-24T14:57:16.011886Z"
    },
    "papermill": {
     "duration": 9.87178,
     "end_time": "2024-12-24T14:57:16.015060",
     "exception": false,
     "start_time": "2024-12-24T14:57:06.143280",
     "status": "completed"
    },
    "tags": []
   },
   "outputs": [
    {
     "name": "stdout",
     "output_type": "stream",
     "text": [
      "Cloning into 'RECsys_Challenge2024'...\r\n",
      "remote: Enumerating objects: 4445, done.\u001b[K\r\n",
      "remote: Counting objects: 100% (57/57), done.\u001b[K\r\n",
      "remote: Compressing objects: 100% (41/41), done.\u001b[K\r\n",
      "remote: Total 4445 (delta 27), reused 10 (delta 4), pack-reused 4388 (from 1)\u001b[K\r\n",
      "Receiving objects: 100% (4445/4445), 174.83 MiB | 26.92 MiB/s, done.\r\n",
      "Resolving deltas: 100% (2608/2608), done.\r\n",
      "Updating files: 100% (406/406), done.\r\n"
     ]
    }
   ],
   "source": [
    "from kaggle_secrets import UserSecretsClient\n",
    "\n",
    "token = UserSecretsClient().get_secret(\"Token\")\n",
    "\n",
    "! git clone https://{token}@github.com/madratak/RECsys_Challenge2024.git"
   ]
  },
  {
   "cell_type": "code",
   "execution_count": 3,
   "id": "a910d1bd",
   "metadata": {
    "execution": {
     "iopub.execute_input": "2024-12-24T14:57:16.036681Z",
     "iopub.status.busy": "2024-12-24T14:57:16.036208Z",
     "iopub.status.idle": "2024-12-24T14:57:22.719199Z",
     "shell.execute_reply": "2024-12-24T14:57:22.717769Z"
    },
    "papermill": {
     "duration": 6.696177,
     "end_time": "2024-12-24T14:57:22.721349",
     "exception": false,
     "start_time": "2024-12-24T14:57:16.025172",
     "status": "completed"
    },
    "tags": []
   },
   "outputs": [
    {
     "name": "stdout",
     "output_type": "stream",
     "text": [
      "Collecting PyGithub\r\n",
      "  Downloading PyGithub-2.5.0-py3-none-any.whl.metadata (3.9 kB)\r\n",
      "Requirement already satisfied: requests in /usr/local/lib/python3.10/dist-packages (2.32.3)\r\n",
      "Collecting pynacl>=1.4.0 (from PyGithub)\r\n",
      "  Downloading PyNaCl-1.5.0-cp36-abi3-manylinux_2_17_x86_64.manylinux2014_x86_64.manylinux_2_24_x86_64.whl.metadata (8.6 kB)\r\n",
      "Requirement already satisfied: pyjwt>=2.4.0 in /usr/local/lib/python3.10/dist-packages (from pyjwt[crypto]>=2.4.0->PyGithub) (2.9.0)\r\n",
      "Requirement already satisfied: typing-extensions>=4.0.0 in /usr/local/lib/python3.10/dist-packages (from PyGithub) (4.12.2)\r\n",
      "Requirement already satisfied: urllib3>=1.26.0 in /usr/local/lib/python3.10/dist-packages (from PyGithub) (2.2.3)\r\n",
      "Requirement already satisfied: Deprecated in /usr/local/lib/python3.10/dist-packages (from PyGithub) (1.2.15)\r\n",
      "Requirement already satisfied: charset-normalizer<4,>=2 in /usr/local/lib/python3.10/dist-packages (from requests) (3.3.2)\r\n",
      "Requirement already satisfied: idna<4,>=2.5 in /usr/local/lib/python3.10/dist-packages (from requests) (3.10)\r\n",
      "Requirement already satisfied: certifi>=2017.4.17 in /usr/local/lib/python3.10/dist-packages (from requests) (2024.8.30)\r\n",
      "Requirement already satisfied: cryptography>=3.4.0 in /usr/local/lib/python3.10/dist-packages (from pyjwt[crypto]>=2.4.0->PyGithub) (43.0.1)\r\n",
      "Requirement already satisfied: cffi>=1.4.1 in /usr/local/lib/python3.10/dist-packages (from pynacl>=1.4.0->PyGithub) (1.17.1)\r\n",
      "Requirement already satisfied: wrapt<2,>=1.10 in /usr/local/lib/python3.10/dist-packages (from Deprecated->PyGithub) (1.16.0)\r\n",
      "Requirement already satisfied: pycparser in /usr/local/lib/python3.10/dist-packages (from cffi>=1.4.1->pynacl>=1.4.0->PyGithub) (2.22)\r\n",
      "Downloading PyGithub-2.5.0-py3-none-any.whl (375 kB)\r\n",
      "\u001b[2K   \u001b[90m━━━━━━━━━━━━━━━━━━━━━━━━━━━━━━━━━━━━━━━━\u001b[0m \u001b[32m375.9/375.9 kB\u001b[0m \u001b[31m6.8 MB/s\u001b[0m eta \u001b[36m0:00:00\u001b[0m\r\n",
      "\u001b[?25hDownloading PyNaCl-1.5.0-cp36-abi3-manylinux_2_17_x86_64.manylinux2014_x86_64.manylinux_2_24_x86_64.whl (856 kB)\r\n",
      "\u001b[2K   \u001b[90m━━━━━━━━━━━━━━━━━━━━━━━━━━━━━━━━━━━━━━━━\u001b[0m \u001b[32m856.7/856.7 kB\u001b[0m \u001b[31m25.7 MB/s\u001b[0m eta \u001b[36m0:00:00\u001b[0m\r\n",
      "\u001b[?25hInstalling collected packages: pynacl, PyGithub\r\n",
      "Successfully installed PyGithub-2.5.0 pynacl-1.5.0\r\n"
     ]
    }
   ],
   "source": [
    "! pip install PyGithub requests"
   ]
  },
  {
   "cell_type": "code",
   "execution_count": 4,
   "id": "e65409d0",
   "metadata": {
    "_kg_hide-input": false,
    "execution": {
     "iopub.execute_input": "2024-12-24T14:57:22.743858Z",
     "iopub.status.busy": "2024-12-24T14:57:22.743437Z",
     "iopub.status.idle": "2024-12-24T15:00:02.822796Z",
     "shell.execute_reply": "2024-12-24T15:00:02.821322Z"
    },
    "papermill": {
     "duration": 160.092955,
     "end_time": "2024-12-24T15:00:02.824975",
     "exception": false,
     "start_time": "2024-12-24T14:57:22.732020",
     "status": "completed"
    },
    "tags": []
   },
   "outputs": [
    {
     "name": "stdout",
     "output_type": "stream",
     "text": [
      "/kaggle/working/RECsys_Challenge2024\n",
      "run_compile_all_cython: Found 11 Cython files in 5 folders...\r\n",
      "run_compile_all_cython: All files will be compiled using your current python environment: '/usr/bin/python3'\r\n",
      "Compiling [1/11]: MatrixFactorizationImpressions_Cython_Epoch.pyx... \r\n",
      "In file included from \u001b[01m\u001b[K/usr/local/lib/python3.10/dist-packages/numpy/core/include/numpy/ndarraytypes.h:1929\u001b[m\u001b[K,\r\n",
      "                 from \u001b[01m\u001b[K/usr/local/lib/python3.10/dist-packages/numpy/core/include/numpy/ndarrayobject.h:12\u001b[m\u001b[K,\r\n",
      "                 from \u001b[01m\u001b[K/usr/local/lib/python3.10/dist-packages/numpy/core/include/numpy/arrayobject.h:5\u001b[m\u001b[K,\r\n",
      "                 from \u001b[01m\u001b[KMatrixFactorizationImpressions_Cython_Epoch.c:1252\u001b[m\u001b[K:\r\n",
      "\u001b[01m\u001b[K/usr/local/lib/python3.10/dist-packages/numpy/core/include/numpy/npy_1_7_deprecated_api.h:17:2:\u001b[m\u001b[K \u001b[01;35m\u001b[Kwarning: \u001b[m\u001b[K#warning \"Using deprecated NumPy API, disable it with \" \"#define NPY_NO_DEPRECATED_API NPY_1_7_API_VERSION\" [\u001b[01;35m\u001b[K\u001b]8;;https://gcc.gnu.org/onlinedocs/gcc/Warning-Options.html#index-Wcpp\u0007-Wcpp\u001b]8;;\u0007\u001b[m\u001b[K]\r\n",
      "   17 | #\u001b[01;35m\u001b[Kwarning\u001b[m\u001b[K \"Using deprecated NumPy API, disable it with \" \\\r\n",
      "      |  \u001b[01;35m\u001b[K^~~~~~~\u001b[m\u001b[K\r\n",
      "\u001b[01m\u001b[KMatrixFactorizationImpressions_Cython_Epoch.c:\u001b[m\u001b[K In function ‘\u001b[01m\u001b[K__pyx_f_43MatrixFactorizationImpressions_Cython_Epoch_32MatrixFactorization_Cython_Epoch_sampleBPR_Cython\u001b[m\u001b[K’:\r\n",
      "\u001b[01m\u001b[KMatrixFactorizationImpressions_Cython_Epoch.c:30353:17:\u001b[m\u001b[K \u001b[01;35m\u001b[Kwarning: \u001b[m\u001b[K‘\u001b[01m\u001b[K__pyx_v_start_pos_impression_items\u001b[m\u001b[K’ may be used uninitialized in this function [\u001b[01;35m\u001b[K\u001b]8;;https://gcc.gnu.org/onlinedocs/gcc/Warning-Options.html#index-Wmaybe-uninitialized\u0007-Wmaybe-uninitialized\u001b]8;;\u0007\u001b[m\u001b[K]\r\n",
      "30353 |       \u001b[01;35m\u001b[K__pyx_t_4 = (__pyx_v_start_pos_impression_items + __pyx_v_index)\u001b[m\u001b[K;\r\n",
      "      |       \u001b[01;35m\u001b[K~~~~~~~~~~^~~~~~~~~~~~~~~~~~~~~~~~~~~~~~~~~~~~~~~~~~~~~~~~~~~~~~\u001b[m\u001b[K\r\n",
      "\u001b[01m\u001b[KMatrixFactorizationImpressions_Cython_Epoch.c:\u001b[m\u001b[K In function ‘\u001b[01m\u001b[K__pyx_pf_43MatrixFactorizationImpressions_Cython_Epoch_32MatrixFactorization_Cython_Epoch_10epochIteration_Cython_ASY_SVD_SGD\u001b[m\u001b[K’:\r\n",
      "\u001b[01m\u001b[KMatrixFactorizationImpressions_Cython_Epoch.c:26112:66:\u001b[m\u001b[K \u001b[01;35m\u001b[Kwarning: \u001b[m\u001b[K‘\u001b[01m\u001b[K__pyx_v_end_pos_seen_items\u001b[m\u001b[K’ may be used uninitialized in this function [\u001b[01;35m\u001b[K\u001b]8;;https://gcc.gnu.org/onlinedocs/gcc/Warning-Options.html#index-Wmaybe-uninitialized\u0007-Wmaybe-uninitialized\u001b]8;;\u0007\u001b[m\u001b[K]\r\n",
      "26112 |       for (__pyx_t_22 = __pyx_v_start_pos_seen_items; \u001b[01;35m\u001b[K__pyx_t_22 < __pyx_t_21\u001b[m\u001b[K; __pyx_t_22+=1) {\r\n",
      "      |                                                       \u001b[01;35m\u001b[K~~~~~~~~~~~^~~~~~~~~~~~\u001b[m\u001b[K\r\n",
      "\u001b[01m\u001b[KMatrixFactorizationImpressions_Cython_Epoch.c:26112:66:\u001b[m\u001b[K \u001b[01;35m\u001b[Kwarning: \u001b[m\u001b[K‘\u001b[01m\u001b[K__pyx_v_start_pos_seen_items\u001b[m\u001b[K’ may be used uninitialized in this function [\u001b[01;35m\u001b[K\u001b]8;;https://gcc.gnu.org/onlinedocs/gcc/Warning-Options.html#index-Wmaybe-uninitialized\u0007-Wmaybe-uninitialized\u001b]8;;\u0007\u001b[m\u001b[K]\r\n",
      "/usr/local/lib/python3.10/dist-packages/Cython/Compiler/Main.py:381: FutureWarning: Cython directive 'language_level' not set, using '3str' for now (Py3). This has changed from earlier releases! File: /kaggle/working/RECsys_Challenge2024/Recommenders/MatrixFactorization/Cython/MatrixFactorizationImpressions_Cython_Epoch.pyx\r\n",
      "  tree = Parsing.p_module(s, pxd, full_module_name)\r\n",
      "Compiling [1/11]: MatrixFactorizationImpressions_Cython_Epoch.pyx... PASS\r\n",
      "\r\n",
      "Compiling [2/11]: MatrixFactorization_Cython_Epoch.pyx... \r\n",
      "In file included from \u001b[01m\u001b[K/usr/local/lib/python3.10/dist-packages/numpy/core/include/numpy/ndarraytypes.h:1929\u001b[m\u001b[K,\r\n",
      "                 from \u001b[01m\u001b[K/usr/local/lib/python3.10/dist-packages/numpy/core/include/numpy/ndarrayobject.h:12\u001b[m\u001b[K,\r\n",
      "                 from \u001b[01m\u001b[K/usr/local/lib/python3.10/dist-packages/numpy/core/include/numpy/arrayobject.h:5\u001b[m\u001b[K,\r\n",
      "                 from \u001b[01m\u001b[KMatrixFactorization_Cython_Epoch.c:1252\u001b[m\u001b[K:\r\n",
      "\u001b[01m\u001b[K/usr/local/lib/python3.10/dist-packages/numpy/core/include/numpy/npy_1_7_deprecated_api.h:17:2:\u001b[m\u001b[K \u001b[01;35m\u001b[Kwarning: \u001b[m\u001b[K#warning \"Using deprecated NumPy API, disable it with \" \"#define NPY_NO_DEPRECATED_API NPY_1_7_API_VERSION\" [\u001b[01;35m\u001b[K\u001b]8;;https://gcc.gnu.org/onlinedocs/gcc/Warning-Options.html#index-Wcpp\u0007-Wcpp\u001b]8;;\u0007\u001b[m\u001b[K]\r\n",
      "   17 | #\u001b[01;35m\u001b[Kwarning\u001b[m\u001b[K \"Using deprecated NumPy API, disable it with \" \\\r\n",
      "      |  \u001b[01;35m\u001b[K^~~~~~~\u001b[m\u001b[K\r\n",
      "\u001b[01m\u001b[KMatrixFactorization_Cython_Epoch.c:\u001b[m\u001b[K In function ‘\u001b[01m\u001b[K__pyx_pf_32MatrixFactorization_Cython_Epoch_32MatrixFactorization_Cython_Epoch_10epochIteration_Cython_ASY_SVD_SGD\u001b[m\u001b[K’:\r\n",
      "\u001b[01m\u001b[KMatrixFactorization_Cython_Epoch.c:26256:68:\u001b[m\u001b[K \u001b[01;35m\u001b[Kwarning: \u001b[m\u001b[K‘\u001b[01m\u001b[K__pyx_v_end_pos_seen_items\u001b[m\u001b[K’ may be used uninitialized in this function [\u001b[01;35m\u001b[K\u001b]8;;https://gcc.gnu.org/onlinedocs/gcc/Warning-Options.html#index-Wmaybe-uninitialized\u0007-Wmaybe-uninitialized\u001b]8;;\u0007\u001b[m\u001b[K]\r\n",
      "26256 |         for (__pyx_t_22 = __pyx_v_start_pos_seen_items; \u001b[01;35m\u001b[K__pyx_t_22 < __pyx_t_21\u001b[m\u001b[K; __pyx_t_22+=1) {\r\n",
      "      |                                                         \u001b[01;35m\u001b[K~~~~~~~~~~~^~~~~~~~~~~~\u001b[m\u001b[K\r\n",
      "\u001b[01m\u001b[KMatrixFactorization_Cython_Epoch.c:26256:68:\u001b[m\u001b[K \u001b[01;35m\u001b[Kwarning: \u001b[m\u001b[K‘\u001b[01m\u001b[K__pyx_v_start_pos_seen_items\u001b[m\u001b[K’ may be used uninitialized in this function [\u001b[01;35m\u001b[K\u001b]8;;https://gcc.gnu.org/onlinedocs/gcc/Warning-Options.html#index-Wmaybe-uninitialized\u0007-Wmaybe-uninitialized\u001b]8;;\u0007\u001b[m\u001b[K]\r\n",
      "/usr/local/lib/python3.10/dist-packages/Cython/Compiler/Main.py:381: FutureWarning: Cython directive 'language_level' not set, using '3str' for now (Py3). This has changed from earlier releases! File: /kaggle/working/RECsys_Challenge2024/Recommenders/MatrixFactorization/Cython/MatrixFactorization_Cython_Epoch.pyx\r\n",
      "  tree = Parsing.p_module(s, pxd, full_module_name)\r\n",
      "Compiling [2/11]: MatrixFactorization_Cython_Epoch.pyx... PASS\r\n",
      "\r\n",
      "Compiling [3/11]: Compute_Similarity_Cython.pyx... \r\n",
      "warning: Compute_Similarity_Cython.pyx:21:0: The 'IF' statement is deprecated and will be removed in a future Cython version. Consider using runtime conditions or C macros instead. See https://github.com/cython/cython/issues/4310\r\n",
      "In file included from \u001b[01m\u001b[K/usr/local/lib/python3.10/dist-packages/numpy/core/include/numpy/ndarraytypes.h:1929\u001b[m\u001b[K,\r\n",
      "                 from \u001b[01m\u001b[K/usr/local/lib/python3.10/dist-packages/numpy/core/include/numpy/ndarrayobject.h:12\u001b[m\u001b[K,\r\n",
      "                 from \u001b[01m\u001b[K/usr/local/lib/python3.10/dist-packages/numpy/core/include/numpy/arrayobject.h:5\u001b[m\u001b[K,\r\n",
      "                 from \u001b[01m\u001b[KCompute_Similarity_Cython.c:1252\u001b[m\u001b[K:\r\n",
      "\u001b[01m\u001b[K/usr/local/lib/python3.10/dist-packages/numpy/core/include/numpy/npy_1_7_deprecated_api.h:17:2:\u001b[m\u001b[K \u001b[01;35m\u001b[Kwarning: \u001b[m\u001b[K#warning \"Using deprecated NumPy API, disable it with \" \"#define NPY_NO_DEPRECATED_API NPY_1_7_API_VERSION\" [\u001b[01;35m\u001b[K\u001b]8;;https://gcc.gnu.org/onlinedocs/gcc/Warning-Options.html#index-Wcpp\u0007-Wcpp\u001b]8;;\u0007\u001b[m\u001b[K]\r\n",
      "   17 | #\u001b[01;35m\u001b[Kwarning\u001b[m\u001b[K \"Using deprecated NumPy API, disable it with \" \\\r\n",
      "      |  \u001b[01;35m\u001b[K^~~~~~~\u001b[m\u001b[K\r\n",
      "/usr/local/lib/python3.10/dist-packages/Cython/Compiler/Main.py:381: FutureWarning: Cython directive 'language_level' not set, using '3str' for now (Py3). This has changed from earlier releases! File: /kaggle/working/RECsys_Challenge2024/Recommenders/Similarity/Cython/Compute_Similarity_Cython.pyx\r\n",
      "  tree = Parsing.p_module(s, pxd, full_module_name)\r\n",
      "warning: Compute_Similarity_Cython.pyx:21:0: The 'IF' statement is deprecated and will be removed in a future Cython version. Consider using runtime conditions or C macros instead. See https://github.com/cython/cython/issues/4310\r\n",
      "Compiling [3/11]: Compute_Similarity_Cython.pyx... PASS\r\n",
      "\r\n",
      "Compiling [4/11]: SLIM_BPR_Cython_Epoch.pyx... \r\n",
      "warning: SLIM_BPR_Cython_Epoch.pyx:24:0: The 'IF' statement is deprecated and will be removed in a future Cython version. Consider using runtime conditions or C macros instead. See https://github.com/cython/cython/issues/4310\r\n",
      "warning: SLIM_BPR_Cython_Epoch.pyx:632:34: Non-trivial type declarators in shared declaration (e.g. mix of pointers and values). Each pointer declaration should be on its own line.\r\n",
      "warning: SLIM_BPR_Cython_Epoch.pyx:632:66: Non-trivial type declarators in shared declaration (e.g. mix of pointers and values). Each pointer declaration should be on its own line.\r\n",
      "warning: SLIM_BPR_Cython_Epoch.pyx:817:35: Non-trivial type declarators in shared declaration (e.g. mix of pointers and values). Each pointer declaration should be on its own line.\r\n",
      "warning: SLIM_BPR_Cython_Epoch.pyx:817:52: Non-trivial type declarators in shared declaration (e.g. mix of pointers and values). Each pointer declaration should be on its own line.\r\n",
      "warning: SLIM_BPR_Cython_Epoch.pyx:916:35: Non-trivial type declarators in shared declaration (e.g. mix of pointers and values). Each pointer declaration should be on its own line.\r\n",
      "warning: SLIM_BPR_Cython_Epoch.pyx:916:53: Non-trivial type declarators in shared declaration (e.g. mix of pointers and values). Each pointer declaration should be on its own line.\r\n",
      "warning: SLIM_BPR_Cython_Epoch.pyx:916:69: Non-trivial type declarators in shared declaration (e.g. mix of pointers and values). Each pointer declaration should be on its own line.\r\n",
      "warning: SLIM_BPR_Cython_Epoch.pyx:1051:35: Non-trivial type declarators in shared declaration (e.g. mix of pointers and values). Each pointer declaration should be on its own line.\r\n",
      "warning: SLIM_BPR_Cython_Epoch.pyx:1051:42: Non-trivial type declarators in shared declaration (e.g. mix of pointers and values). Each pointer declaration should be on its own line.\r\n",
      "warning: SLIM_BPR_Cython_Epoch.pyx:1052:35: Non-trivial type declarators in shared declaration (e.g. mix of pointers and values). Each pointer declaration should be on its own line.\r\n",
      "warning: SLIM_BPR_Cython_Epoch.pyx:1052:53: Non-trivial type declarators in shared declaration (e.g. mix of pointers and values). Each pointer declaration should be on its own line.\r\n",
      "\r\n",
      "Error compiling Cython file:\r\n",
      "------------------------------------------------------------\r\n",
      "...\r\n",
      "            vector_pointer_to_list_elements[index].head = current_element\r\n",
      "            current_element = current_element.higher\r\n",
      "\r\n",
      "\r\n",
      "        # Sort array elements on their data field\r\n",
      "        qsort(vector_pointer_to_list_elements, list_length, sizeof(head_pointer_tree_s), compare_struct_on_data)\r\n",
      "                                                                                         ^\r\n",
      "------------------------------------------------------------\r\n",
      "\r\n",
      "SLIM_BPR_Cython_Epoch.pyx:990:89: Cannot assign type 'int (const void *, const void *) except? -1' to 'int (*)(const_void *, const_void *) noexcept'. Exception values are incompatible. Suggest adding 'noexcept' to the type of 'compare_struct_on_data'.\r\n",
      "\r\n",
      "Error compiling Cython file:\r\n",
      "------------------------------------------------------------\r\n",
      "...\r\n",
      "        # Sort array elements on their data field\r\n",
      "        qsort(vector_pointer_to_list_elements, list_length, sizeof(head_pointer_tree_s), compare_struct_on_data)\r\n",
      "\r\n",
      "        # Sort only the TopK according to their column field\r\n",
      "        # Sort is from lower to higher, therefore the elements to be considered are from len-topK to len\r\n",
      "        qsort(&vector_pointer_to_list_elements[list_length-TopK], TopK, sizeof(head_pointer_tree_s), compare_struct_on_column)\r\n",
      "                                                                                                     ^\r\n",
      "------------------------------------------------------------\r\n",
      "\r\n",
      "SLIM_BPR_Cython_Epoch.pyx:994:101: Cannot assign type 'int (const void *, const void *) except? -1' to 'int (*)(const_void *, const_void *) noexcept'. Exception values are incompatible. Suggest adding 'noexcept' to the type of 'compare_struct_on_column'.\r\n",
      "Traceback (most recent call last):\r\n",
      "  File \"/kaggle/working/RECsys_Challenge2024/CythonCompiler/compile_script.py\", line 48, in <module>\r\n",
      "    setup(\r\n",
      "  File \"/usr/local/lib/python3.10/dist-packages/setuptools/__init__.py\", line 108, in setup\r\n",
      "    return distutils.core.setup(**attrs)\r\n",
      "  File \"/usr/local/lib/python3.10/dist-packages/setuptools/_distutils/core.py\", line 184, in setup\r\n",
      "    return run_commands(dist)\r\n",
      "  File \"/usr/local/lib/python3.10/dist-packages/setuptools/_distutils/core.py\", line 200, in run_commands\r\n",
      "    dist.run_commands()\r\n",
      "  File \"/usr/local/lib/python3.10/dist-packages/setuptools/_distutils/dist.py\", line 970, in run_commands\r\n",
      "    self.run_command(cmd)\r\n",
      "  File \"/usr/local/lib/python3.10/dist-packages/setuptools/dist.py\", line 956, in run_command\r\n",
      "    super().run_command(command)\r\n",
      "  File \"/usr/local/lib/python3.10/dist-packages/setuptools/_distutils/dist.py\", line 989, in run_command\r\n",
      "    cmd_obj.run()\r\n",
      "  File \"/usr/local/lib/python3.10/dist-packages/setuptools/_distutils/command/build_ext.py\", line 359, in run\r\n",
      "    self.build_extensions()\r\n",
      "  File \"/usr/local/lib/python3.10/dist-packages/setuptools/_distutils/command/build_ext.py\", line 479, in build_extensions\r\n",
      "    self._build_extensions_serial()\r\n",
      "  File \"/usr/local/lib/python3.10/dist-packages/setuptools/_distutils/command/build_ext.py\", line 505, in _build_extensions_serial\r\n",
      "    self.build_extension(ext)\r\n",
      "  File \"/usr/local/lib/python3.10/dist-packages/Cython/Distutils/build_ext.py\", line 130, in build_extension\r\n",
      "    new_ext = cythonize(\r\n",
      "  File \"/usr/local/lib/python3.10/dist-packages/Cython/Build/Dependencies.py\", line 1154, in cythonize\r\n",
      "    cythonize_one(*args)\r\n",
      "  File \"/usr/local/lib/python3.10/dist-packages/Cython/Build/Dependencies.py\", line 1321, in cythonize_one\r\n",
      "    raise CompileError(None, pyx_file)\r\n",
      "Cython.Compiler.Errors.CompileError: SLIM_BPR_Cython_Epoch.pyx\r\n",
      "Traceback (most recent call last):\r\n",
      "  File \"/kaggle/working/RECsys_Challenge2024/run_compile_all_cython.py\", line 60, in <module>\r\n",
      "    run_compile_subprocess(file_path, [file_name])\r\n",
      "  File \"/kaggle/working/RECsys_Challenge2024/CythonCompiler/run_compile_subprocess.py\", line 51, in run_compile_subprocess\r\n",
      "    raise exc\r\n",
      "  File \"/kaggle/working/RECsys_Challenge2024/CythonCompiler/run_compile_subprocess.py\", line 32, in run_compile_subprocess\r\n",
      "    output = subprocess.check_output(' '.join(command),\r\n",
      "  File \"/usr/lib/python3.10/subprocess.py\", line 421, in check_output\r\n",
      "    return run(*popenargs, stdout=PIPE, timeout=timeout, check=True,\r\n",
      "  File \"/usr/lib/python3.10/subprocess.py\", line 526, in run\r\n",
      "    raise CalledProcessError(retcode, process.args,\r\n",
      "subprocess.CalledProcessError: Command '/usr/bin/python3 /kaggle/working/RECsys_Challenge2024/CythonCompiler/compile_script.py SLIM_BPR_Cython_Epoch.pyx build_ext --inplace' returned non-zero exit status 1.\r\n",
      "Compiling [4/11]: SLIM_BPR_Cython_Epoch.pyx... FAIL: Command '/usr/bin/python3 /kaggle/working/RECsys_Challenge2024/CythonCompiler/compile_script.py SLIM_BPR_Cython_Epoch.pyx build_ext --inplace' returned non-zero exit status 1.\r\n",
      "\r\n",
      "Compiling [5/11]: Sparse_Matrix_Tree_CSR.pyx... \r\n",
      "warning: Sparse_Matrix_Tree_CSR.pyx:132:34: Non-trivial type declarators in shared declaration (e.g. mix of pointers and values). Each pointer declaration should be on its own line.\r\n",
      "warning: Sparse_Matrix_Tree_CSR.pyx:132:66: Non-trivial type declarators in shared declaration (e.g. mix of pointers and values). Each pointer declaration should be on its own line.\r\n",
      "warning: Sparse_Matrix_Tree_CSR.pyx:343:35: Non-trivial type declarators in shared declaration (e.g. mix of pointers and values). Each pointer declaration should be on its own line.\r\n",
      "warning: Sparse_Matrix_Tree_CSR.pyx:343:52: Non-trivial type declarators in shared declaration (e.g. mix of pointers and values). Each pointer declaration should be on its own line.\r\n",
      "warning: Sparse_Matrix_Tree_CSR.pyx:442:35: Non-trivial type declarators in shared declaration (e.g. mix of pointers and values). Each pointer declaration should be on its own line.\r\n",
      "warning: Sparse_Matrix_Tree_CSR.pyx:442:53: Non-trivial type declarators in shared declaration (e.g. mix of pointers and values). Each pointer declaration should be on its own line.\r\n",
      "warning: Sparse_Matrix_Tree_CSR.pyx:442:69: Non-trivial type declarators in shared declaration (e.g. mix of pointers and values). Each pointer declaration should be on its own line.\r\n",
      "warning: Sparse_Matrix_Tree_CSR.pyx:577:35: Non-trivial type declarators in shared declaration (e.g. mix of pointers and values). Each pointer declaration should be on its own line.\r\n",
      "warning: Sparse_Matrix_Tree_CSR.pyx:577:42: Non-trivial type declarators in shared declaration (e.g. mix of pointers and values). Each pointer declaration should be on its own line.\r\n",
      "warning: Sparse_Matrix_Tree_CSR.pyx:578:35: Non-trivial type declarators in shared declaration (e.g. mix of pointers and values). Each pointer declaration should be on its own line.\r\n",
      "warning: Sparse_Matrix_Tree_CSR.pyx:578:53: Non-trivial type declarators in shared declaration (e.g. mix of pointers and values). Each pointer declaration should be on its own line.\r\n",
      "\r\n",
      "Error compiling Cython file:\r\n",
      "------------------------------------------------------------\r\n",
      "...\r\n",
      "            vector_pointer_to_list_elements[index].head = current_element\r\n",
      "            current_element = current_element.higher\r\n",
      "\r\n",
      "\r\n",
      "        # Sort array elements on their data field\r\n",
      "        qsort(vector_pointer_to_list_elements, list_length, sizeof(head_pointer_tree_s), compare_struct_on_data)\r\n",
      "                                                                                         ^\r\n",
      "------------------------------------------------------------\r\n",
      "\r\n",
      "Sparse_Matrix_Tree_CSR.pyx:516:89: Cannot assign type 'int (const void *, const void *) except? -1' to 'int (*)(const_void *, const_void *) noexcept'. Exception values are incompatible. Suggest adding 'noexcept' to the type of 'compare_struct_on_data'.\r\n",
      "\r\n",
      "Error compiling Cython file:\r\n",
      "------------------------------------------------------------\r\n",
      "...\r\n",
      "        # Sort array elements on their data field\r\n",
      "        qsort(vector_pointer_to_list_elements, list_length, sizeof(head_pointer_tree_s), compare_struct_on_data)\r\n",
      "\r\n",
      "        # Sort only the TopK according to their column field\r\n",
      "        # Sort is from lower to higher, therefore the elements to be considered are from len-topK to len\r\n",
      "        qsort(&vector_pointer_to_list_elements[list_length-TopK], TopK, sizeof(head_pointer_tree_s), compare_struct_on_column)\r\n",
      "                                                                                                     ^\r\n",
      "------------------------------------------------------------\r\n",
      "\r\n",
      "Sparse_Matrix_Tree_CSR.pyx:520:101: Cannot assign type 'int (const void *, const void *) except? -1' to 'int (*)(const_void *, const_void *) noexcept'. Exception values are incompatible. Suggest adding 'noexcept' to the type of 'compare_struct_on_column'.\r\n",
      "Traceback (most recent call last):\r\n",
      "  File \"/kaggle/working/RECsys_Challenge2024/CythonCompiler/compile_script.py\", line 48, in <module>\r\n",
      "    setup(\r\n",
      "  File \"/usr/local/lib/python3.10/dist-packages/setuptools/__init__.py\", line 108, in setup\r\n",
      "    return distutils.core.setup(**attrs)\r\n",
      "  File \"/usr/local/lib/python3.10/dist-packages/setuptools/_distutils/core.py\", line 184, in setup\r\n",
      "    return run_commands(dist)\r\n",
      "  File \"/usr/local/lib/python3.10/dist-packages/setuptools/_distutils/core.py\", line 200, in run_commands\r\n",
      "    dist.run_commands()\r\n",
      "  File \"/usr/local/lib/python3.10/dist-packages/setuptools/_distutils/dist.py\", line 970, in run_commands\r\n",
      "    self.run_command(cmd)\r\n",
      "  File \"/usr/local/lib/python3.10/dist-packages/setuptools/dist.py\", line 956, in run_command\r\n",
      "    super().run_command(command)\r\n",
      "  File \"/usr/local/lib/python3.10/dist-packages/setuptools/_distutils/dist.py\", line 989, in run_command\r\n",
      "    cmd_obj.run()\r\n",
      "  File \"/usr/local/lib/python3.10/dist-packages/setuptools/_distutils/command/build_ext.py\", line 359, in run\r\n",
      "    self.build_extensions()\r\n",
      "  File \"/usr/local/lib/python3.10/dist-packages/setuptools/_distutils/command/build_ext.py\", line 479, in build_extensions\r\n",
      "    self._build_extensions_serial()\r\n",
      "  File \"/usr/local/lib/python3.10/dist-packages/setuptools/_distutils/command/build_ext.py\", line 505, in _build_extensions_serial\r\n",
      "    self.build_extension(ext)\r\n",
      "  File \"/usr/local/lib/python3.10/dist-packages/Cython/Distutils/build_ext.py\", line 130, in build_extension\r\n",
      "    new_ext = cythonize(\r\n",
      "  File \"/usr/local/lib/python3.10/dist-packages/Cython/Build/Dependencies.py\", line 1154, in cythonize\r\n",
      "    cythonize_one(*args)\r\n",
      "  File \"/usr/local/lib/python3.10/dist-packages/Cython/Build/Dependencies.py\", line 1321, in cythonize_one\r\n",
      "    raise CompileError(None, pyx_file)\r\n",
      "Cython.Compiler.Errors.CompileError: Sparse_Matrix_Tree_CSR.pyx\r\n",
      "Traceback (most recent call last):\r\n",
      "  File \"/kaggle/working/RECsys_Challenge2024/run_compile_all_cython.py\", line 60, in <module>\r\n",
      "    run_compile_subprocess(file_path, [file_name])\r\n",
      "  File \"/kaggle/working/RECsys_Challenge2024/CythonCompiler/run_compile_subprocess.py\", line 51, in run_compile_subprocess\r\n",
      "    raise exc\r\n",
      "  File \"/kaggle/working/RECsys_Challenge2024/CythonCompiler/run_compile_subprocess.py\", line 32, in run_compile_subprocess\r\n",
      "    output = subprocess.check_output(' '.join(command),\r\n",
      "  File \"/usr/lib/python3.10/subprocess.py\", line 421, in check_output\r\n",
      "    return run(*popenargs, stdout=PIPE, timeout=timeout, check=True,\r\n",
      "  File \"/usr/lib/python3.10/subprocess.py\", line 526, in run\r\n",
      "    raise CalledProcessError(retcode, process.args,\r\n",
      "subprocess.CalledProcessError: Command '/usr/bin/python3 /kaggle/working/RECsys_Challenge2024/CythonCompiler/compile_script.py Sparse_Matrix_Tree_CSR.pyx build_ext --inplace' returned non-zero exit status 1.\r\n",
      "Compiling [5/11]: Sparse_Matrix_Tree_CSR.pyx... FAIL: Command '/usr/bin/python3 /kaggle/working/RECsys_Challenge2024/CythonCompiler/compile_script.py Sparse_Matrix_Tree_CSR.pyx build_ext --inplace' returned non-zero exit status 1.\r\n",
      "\r\n",
      "Compiling [6/11]: Triangular_Matrix.pyx... \r\n",
      "warning: Triangular_Matrix.pyx:22:0: The 'IF' statement is deprecated and will be removed in a future Cython version. Consider using runtime conditions or C macros instead. See https://github.com/cython/cython/issues/4310\r\n",
      "In file included from \u001b[01m\u001b[K/usr/local/lib/python3.10/dist-packages/numpy/core/include/numpy/ndarraytypes.h:1929\u001b[m\u001b[K,\r\n",
      "                 from \u001b[01m\u001b[K/usr/local/lib/python3.10/dist-packages/numpy/core/include/numpy/ndarrayobject.h:12\u001b[m\u001b[K,\r\n",
      "                 from \u001b[01m\u001b[K/usr/local/lib/python3.10/dist-packages/numpy/core/include/numpy/arrayobject.h:5\u001b[m\u001b[K,\r\n",
      "                 from \u001b[01m\u001b[KTriangular_Matrix.c:1252\u001b[m\u001b[K:\r\n",
      "\u001b[01m\u001b[K/usr/local/lib/python3.10/dist-packages/numpy/core/include/numpy/npy_1_7_deprecated_api.h:17:2:\u001b[m\u001b[K \u001b[01;35m\u001b[Kwarning: \u001b[m\u001b[K#warning \"Using deprecated NumPy API, disable it with \" \"#define NPY_NO_DEPRECATED_API NPY_1_7_API_VERSION\" [\u001b[01;35m\u001b[K\u001b]8;;https://gcc.gnu.org/onlinedocs/gcc/Warning-Options.html#index-Wcpp\u0007-Wcpp\u001b]8;;\u0007\u001b[m\u001b[K]\r\n",
      "   17 | #\u001b[01;35m\u001b[Kwarning\u001b[m\u001b[K \"Using deprecated NumPy API, disable it with \" \\\r\n",
      "      |  \u001b[01;35m\u001b[K^~~~~~~\u001b[m\u001b[K\r\n",
      "In function ‘\u001b[01m\u001b[K__pyx_pf_17Triangular_Matrix_17Triangular_Matrix___init__\u001b[m\u001b[K’,\r\n",
      "    inlined from ‘\u001b[01m\u001b[K__pyx_pw_17Triangular_Matrix_17Triangular_Matrix_1__init__\u001b[m\u001b[K’ at \u001b[01m\u001b[KTriangular_Matrix.c:5541:13\u001b[m\u001b[K:\r\n",
      "\u001b[01m\u001b[KTriangular_Matrix.c:5599:43:\u001b[m\u001b[K \u001b[01;35m\u001b[Kwarning: \u001b[m\u001b[Kargument 1 value ‘\u001b[01m\u001b[K18446744073709551608\u001b[m\u001b[K’ exceeds maximum object size 9223372036854775807 [\u001b[01;35m\u001b[K\u001b]8;;https://gcc.gnu.org/onlinedocs/gcc/Warning-Options.html#index-Walloc-size-larger-than=\u0007-Walloc-size-larger-than=\u001b]8;;\u0007\u001b[m\u001b[K]\r\n",
      " 5599 |   __pyx_v_self->row_pointer = ((double **)\u001b[01;35m\u001b[Kmalloc((__pyx_v_self->num_rows * (sizeof(double *))))\u001b[m\u001b[K);\r\n",
      "      |                                           \u001b[01;35m\u001b[K^~~~~~~~~~~~~~~~~~~~~~~~~~~~~~~~~~~~~~~~~~~~~~~~~~~~~\u001b[m\u001b[K\r\n",
      "In file included from \u001b[01m\u001b[K/usr/include/python3.10/Python.h:34\u001b[m\u001b[K,\r\n",
      "                 from \u001b[01m\u001b[KTriangular_Matrix.c:41\u001b[m\u001b[K:\r\n",
      "\u001b[01m\u001b[KTriangular_Matrix.c:\u001b[m\u001b[K In function ‘\u001b[01m\u001b[K__pyx_pw_17Triangular_Matrix_17Triangular_Matrix_1__init__\u001b[m\u001b[K’:\r\n",
      "\u001b[01m\u001b[K/usr/include/stdlib.h:540:14:\u001b[m\u001b[K \u001b[01;36m\u001b[Knote: \u001b[m\u001b[Kin a call to allocation function ‘\u001b[01m\u001b[Kmalloc\u001b[m\u001b[K’ declared here\r\n",
      "  540 | extern void *\u001b[01;36m\u001b[Kmalloc\u001b[m\u001b[K (size_t __size) __THROW __attribute_malloc__\r\n",
      "      |              \u001b[01;36m\u001b[K^~~~~~\u001b[m\u001b[K\r\n",
      "/usr/local/lib/python3.10/dist-packages/Cython/Compiler/Main.py:381: FutureWarning: Cython directive 'language_level' not set, using '3str' for now (Py3). This has changed from earlier releases! File: /kaggle/working/RECsys_Challenge2024/Recommenders/SLIM/Cython/Triangular_Matrix.pyx\r\n",
      "  tree = Parsing.p_module(s, pxd, full_module_name)\r\n",
      "warning: Triangular_Matrix.pyx:22:0: The 'IF' statement is deprecated and will be removed in a future Cython version. Consider using runtime conditions or C macros instead. See https://github.com/cython/cython/issues/4310\r\n",
      "Compiling [6/11]: Triangular_Matrix.pyx... PASS\r\n",
      "\r\n",
      "Compiling [7/11]: FBSM_Rating_Cython_SGD.pyx... \r\n",
      "In file included from \u001b[01m\u001b[K/usr/local/lib/python3.10/dist-packages/numpy/core/include/numpy/ndarraytypes.h:1929\u001b[m\u001b[K,\r\n",
      "                 from \u001b[01m\u001b[K/usr/local/lib/python3.10/dist-packages/numpy/core/include/numpy/ndarrayobject.h:12\u001b[m\u001b[K,\r\n",
      "                 from \u001b[01m\u001b[K/usr/local/lib/python3.10/dist-packages/numpy/core/include/numpy/arrayobject.h:5\u001b[m\u001b[K,\r\n",
      "                 from \u001b[01m\u001b[KFBSM_Rating_Cython_SGD.c:1252\u001b[m\u001b[K:\r\n",
      "\u001b[01m\u001b[K/usr/local/lib/python3.10/dist-packages/numpy/core/include/numpy/npy_1_7_deprecated_api.h:17:2:\u001b[m\u001b[K \u001b[01;35m\u001b[Kwarning: \u001b[m\u001b[K#warning \"Using deprecated NumPy API, disable it with \" \"#define NPY_NO_DEPRECATED_API NPY_1_7_API_VERSION\" [\u001b[01;35m\u001b[K\u001b]8;;https://gcc.gnu.org/onlinedocs/gcc/Warning-Options.html#index-Wcpp\u0007-Wcpp\u001b]8;;\u0007\u001b[m\u001b[K]\r\n",
      "   17 | #\u001b[01;35m\u001b[Kwarning\u001b[m\u001b[K \"Using deprecated NumPy API, disable it with \" \\\r\n",
      "      |  \u001b[01;35m\u001b[K^~~~~~~\u001b[m\u001b[K\r\n",
      "\u001b[01m\u001b[KFBSM_Rating_Cython_SGD.c:\u001b[m\u001b[K In function ‘\u001b[01m\u001b[K__pyx_pf_22FBSM_Rating_Cython_SGD_22FBSM_Rating_Cython_SGD_2fit\u001b[m\u001b[K’:\r\n",
      "\u001b[01m\u001b[KFBSM_Rating_Cython_SGD.c:26607:55:\u001b[m\u001b[K \u001b[01;35m\u001b[Kwarning: \u001b[m\u001b[K‘\u001b[01m\u001b[K__pyx_v_num_sample\u001b[m\u001b[K’ may be used uninitialized in this function [\u001b[01;35m\u001b[K\u001b]8;;https://gcc.gnu.org/onlinedocs/gcc/Warning-Options.html#index-Wmaybe-uninitialized\u0007-Wmaybe-uninitialized\u001b]8;;\u0007\u001b[m\u001b[K]\r\n",
      "26607 |   __pyx_t_5 = PyFloat_FromDouble((__pyx_v_cum_loss / \u001b[01;35m\u001b[K((double)__pyx_v_num_sample)\u001b[m\u001b[K)); if (unlikely(!__pyx_t_5)) __PYX_ERR(0, 551, __pyx_L1_error)\r\n",
      "      |                                                      \u001b[01;35m\u001b[K~^~~~~~~~~~~~~~~~~~~~~~~~~~~\u001b[m\u001b[K\r\n",
      "/usr/local/lib/python3.10/dist-packages/Cython/Compiler/Main.py:381: FutureWarning: Cython directive 'language_level' not set, using '3str' for now (Py3). This has changed from earlier releases! File: /kaggle/working/RECsys_Challenge2024/Recommenders/FeatureWeighting/Cython/FBSM_Rating_Cython_SGD.pyx\r\n",
      "  tree = Parsing.p_module(s, pxd, full_module_name)\r\n",
      "Compiling [7/11]: FBSM_Rating_Cython_SGD.pyx... PASS\r\n",
      "\r\n",
      "Compiling [8/11]: CFW_D_Similarity_Cython_SGD.pyx... \r\n",
      "In file included from \u001b[01m\u001b[K/usr/local/lib/python3.10/dist-packages/numpy/core/include/numpy/ndarraytypes.h:1929\u001b[m\u001b[K,\r\n",
      "                 from \u001b[01m\u001b[K/usr/local/lib/python3.10/dist-packages/numpy/core/include/numpy/ndarrayobject.h:12\u001b[m\u001b[K,\r\n",
      "                 from \u001b[01m\u001b[K/usr/local/lib/python3.10/dist-packages/numpy/core/include/numpy/arrayobject.h:5\u001b[m\u001b[K,\r\n",
      "                 from \u001b[01m\u001b[KCFW_D_Similarity_Cython_SGD.c:1252\u001b[m\u001b[K:\r\n",
      "\u001b[01m\u001b[K/usr/local/lib/python3.10/dist-packages/numpy/core/include/numpy/npy_1_7_deprecated_api.h:17:2:\u001b[m\u001b[K \u001b[01;35m\u001b[Kwarning: \u001b[m\u001b[K#warning \"Using deprecated NumPy API, disable it with \" \"#define NPY_NO_DEPRECATED_API NPY_1_7_API_VERSION\" [\u001b[01;35m\u001b[K\u001b]8;;https://gcc.gnu.org/onlinedocs/gcc/Warning-Options.html#index-Wcpp\u0007-Wcpp\u001b]8;;\u0007\u001b[m\u001b[K]\r\n",
      "   17 | #\u001b[01;35m\u001b[Kwarning\u001b[m\u001b[K \"Using deprecated NumPy API, disable it with \" \\\r\n",
      "      |  \u001b[01;35m\u001b[K^~~~~~~\u001b[m\u001b[K\r\n",
      "\u001b[01m\u001b[KCFW_D_Similarity_Cython_SGD.c:\u001b[m\u001b[K In function ‘\u001b[01m\u001b[K__pyx_pf_27CFW_D_Similarity_Cython_SGD_27CFW_D_Similarity_Cython_SGD_6fit\u001b[m\u001b[K’:\r\n",
      "\u001b[01m\u001b[KCFW_D_Similarity_Cython_SGD.c:23373:55:\u001b[m\u001b[K \u001b[01;35m\u001b[Kwarning: \u001b[m\u001b[K‘\u001b[01m\u001b[K__pyx_v_sample_num\u001b[m\u001b[K’ may be used uninitialized in this function [\u001b[01;35m\u001b[K\u001b]8;;https://gcc.gnu.org/onlinedocs/gcc/Warning-Options.html#index-Wmaybe-uninitialized\u0007-Wmaybe-uninitialized\u001b]8;;\u0007\u001b[m\u001b[K]\r\n",
      "23373 |   __pyx_t_3 = PyFloat_FromDouble((__pyx_v_cum_loss / \u001b[01;35m\u001b[K((double)__pyx_v_sample_num)\u001b[m\u001b[K)); if (unlikely(!__pyx_t_3)) __PYX_ERR(0, 290, __pyx_L1_error)\r\n",
      "      |                                                      \u001b[01;35m\u001b[K~^~~~~~~~~~~~~~~~~~~~~~~~~~~\u001b[m\u001b[K\r\n",
      "/usr/local/lib/python3.10/dist-packages/Cython/Compiler/Main.py:381: FutureWarning: Cython directive 'language_level' not set, using '3str' for now (Py3). This has changed from earlier releases! File: /kaggle/working/RECsys_Challenge2024/Recommenders/FeatureWeighting/Cython/CFW_D_Similarity_Cython_SGD.pyx\r\n",
      "  tree = Parsing.p_module(s, pxd, full_module_name)\r\n",
      "Compiling [8/11]: CFW_D_Similarity_Cython_SGD.pyx... PASS\r\n",
      "\r\n",
      "Compiling [9/11]: HP3_Similarity_Cython_SGD.pyx... \r\n",
      "performance hint: HP3_Similarity_Cython_SGD.pyx:113:40: Index should be typed for more efficient access\r\n",
      "performance hint: HP3_Similarity_Cython_SGD.pyx:114:40: Index should be typed for more efficient access\r\n",
      "In file included from \u001b[01m\u001b[K/usr/local/lib/python3.10/dist-packages/numpy/core/include/numpy/ndarraytypes.h:1929\u001b[m\u001b[K,\r\n",
      "                 from \u001b[01m\u001b[K/usr/local/lib/python3.10/dist-packages/numpy/core/include/numpy/ndarrayobject.h:12\u001b[m\u001b[K,\r\n",
      "                 from \u001b[01m\u001b[K/usr/local/lib/python3.10/dist-packages/numpy/core/include/numpy/arrayobject.h:5\u001b[m\u001b[K,\r\n",
      "                 from \u001b[01m\u001b[KHP3_Similarity_Cython_SGD.c:1252\u001b[m\u001b[K:\r\n",
      "\u001b[01m\u001b[K/usr/local/lib/python3.10/dist-packages/numpy/core/include/numpy/npy_1_7_deprecated_api.h:17:2:\u001b[m\u001b[K \u001b[01;35m\u001b[Kwarning: \u001b[m\u001b[K#warning \"Using deprecated NumPy API, disable it with \" \"#define NPY_NO_DEPRECATED_API NPY_1_7_API_VERSION\" [\u001b[01;35m\u001b[K\u001b]8;;https://gcc.gnu.org/onlinedocs/gcc/Warning-Options.html#index-Wcpp\u0007-Wcpp\u001b]8;;\u0007\u001b[m\u001b[K]\r\n",
      "   17 | #\u001b[01;35m\u001b[Kwarning\u001b[m\u001b[K \"Using deprecated NumPy API, disable it with \" \\\r\n",
      "      |  \u001b[01;35m\u001b[K^~~~~~~\u001b[m\u001b[K\r\n",
      "\u001b[01m\u001b[KHP3_Similarity_Cython_SGD.c:\u001b[m\u001b[K In function ‘\u001b[01m\u001b[K__pyx_pf_25HP3_Similarity_Cython_SGD_25HP3_Similarity_Cython_SGD_4fit\u001b[m\u001b[K’:\r\n",
      "\u001b[01m\u001b[KHP3_Similarity_Cython_SGD.c:23631:55:\u001b[m\u001b[K \u001b[01;35m\u001b[Kwarning: \u001b[m\u001b[K‘\u001b[01m\u001b[K__pyx_v_sample_num\u001b[m\u001b[K’ may be used uninitialized in this function [\u001b[01;35m\u001b[K\u001b]8;;https://gcc.gnu.org/onlinedocs/gcc/Warning-Options.html#index-Wmaybe-uninitialized\u0007-Wmaybe-uninitialized\u001b]8;;\u0007\u001b[m\u001b[K]\r\n",
      "23631 |   __pyx_t_1 = PyFloat_FromDouble((__pyx_v_cum_loss / \u001b[01;35m\u001b[K((double)__pyx_v_sample_num)\u001b[m\u001b[K)); if (unlikely(!__pyx_t_1)) __PYX_ERR(0, 291, __pyx_L1_error)\r\n",
      "      |                                                      \u001b[01;35m\u001b[K~^~~~~~~~~~~~~~~~~~~~~~~~~~~\u001b[m\u001b[K\r\n",
      "/usr/local/lib/python3.10/dist-packages/Cython/Compiler/Main.py:381: FutureWarning: Cython directive 'language_level' not set, using '3str' for now (Py3). This has changed from earlier releases! File: /kaggle/working/RECsys_Challenge2024/Recommenders/FeatureWeighting/Cython/HP3_Similarity_Cython_SGD.pyx\r\n",
      "  tree = Parsing.p_module(s, pxd, full_module_name)\r\n",
      "performance hint: HP3_Similarity_Cython_SGD.pyx:113:40: Index should be typed for more efficient access\r\n",
      "performance hint: HP3_Similarity_Cython_SGD.pyx:114:40: Index should be typed for more efficient access\r\n",
      "Compiling [9/11]: HP3_Similarity_Cython_SGD.pyx... PASS\r\n",
      "\r\n",
      "Compiling [10/11]: CFW_DVV_Similarity_Cython_SGD.pyx... \r\n",
      "In file included from \u001b[01m\u001b[K/usr/local/lib/python3.10/dist-packages/numpy/core/include/numpy/ndarraytypes.h:1929\u001b[m\u001b[K,\r\n",
      "                 from \u001b[01m\u001b[K/usr/local/lib/python3.10/dist-packages/numpy/core/include/numpy/ndarrayobject.h:12\u001b[m\u001b[K,\r\n",
      "                 from \u001b[01m\u001b[K/usr/local/lib/python3.10/dist-packages/numpy/core/include/numpy/arrayobject.h:5\u001b[m\u001b[K,\r\n",
      "                 from \u001b[01m\u001b[KCFW_DVV_Similarity_Cython_SGD.c:1252\u001b[m\u001b[K:\r\n",
      "\u001b[01m\u001b[K/usr/local/lib/python3.10/dist-packages/numpy/core/include/numpy/npy_1_7_deprecated_api.h:17:2:\u001b[m\u001b[K \u001b[01;35m\u001b[Kwarning: \u001b[m\u001b[K#warning \"Using deprecated NumPy API, disable it with \" \"#define NPY_NO_DEPRECATED_API NPY_1_7_API_VERSION\" [\u001b[01;35m\u001b[K\u001b]8;;https://gcc.gnu.org/onlinedocs/gcc/Warning-Options.html#index-Wcpp\u0007-Wcpp\u001b]8;;\u0007\u001b[m\u001b[K]\r\n",
      "   17 | #\u001b[01;35m\u001b[Kwarning\u001b[m\u001b[K \"Using deprecated NumPy API, disable it with \" \\\r\n",
      "      |  \u001b[01;35m\u001b[K^~~~~~~\u001b[m\u001b[K\r\n",
      "/usr/local/lib/python3.10/dist-packages/Cython/Compiler/Main.py:381: FutureWarning: Cython directive 'language_level' not set, using '3str' for now (Py3). This has changed from earlier releases! File: /kaggle/working/RECsys_Challenge2024/Recommenders/FeatureWeighting/Cython/CFW_DVV_Similarity_Cython_SGD.pyx\r\n",
      "  tree = Parsing.p_module(s, pxd, full_module_name)\r\n",
      "Compiling [10/11]: CFW_DVV_Similarity_Cython_SGD.pyx... PASS\r\n",
      "\r\n",
      "Compiling [11/11]: DataIterator.pyx... \r\n",
      "In file included from \u001b[01m\u001b[K/usr/local/lib/python3.10/dist-packages/numpy/core/include/numpy/ndarraytypes.h:1929\u001b[m\u001b[K,\r\n",
      "                 from \u001b[01m\u001b[K/usr/local/lib/python3.10/dist-packages/numpy/core/include/numpy/ndarrayobject.h:12\u001b[m\u001b[K,\r\n",
      "                 from \u001b[01m\u001b[K/usr/local/lib/python3.10/dist-packages/numpy/core/include/numpy/arrayobject.h:5\u001b[m\u001b[K,\r\n",
      "                 from \u001b[01m\u001b[KDataIterator.c:1252\u001b[m\u001b[K:\r\n",
      "\u001b[01m\u001b[K/usr/local/lib/python3.10/dist-packages/numpy/core/include/numpy/npy_1_7_deprecated_api.h:17:2:\u001b[m\u001b[K \u001b[01;35m\u001b[Kwarning: \u001b[m\u001b[K#warning \"Using deprecated NumPy API, disable it with \" \"#define NPY_NO_DEPRECATED_API NPY_1_7_API_VERSION\" [\u001b[01;35m\u001b[K\u001b]8;;https://gcc.gnu.org/onlinedocs/gcc/Warning-Options.html#index-Wcpp\u0007-Wcpp\u001b]8;;\u0007\u001b[m\u001b[K]\r\n",
      "   17 | #\u001b[01;35m\u001b[Kwarning\u001b[m\u001b[K \"Using deprecated NumPy API, disable it with \" \\\r\n",
      "      |  \u001b[01;35m\u001b[K^~~~~~~\u001b[m\u001b[K\r\n",
      "\u001b[01m\u001b[KDataIterator.c:\u001b[m\u001b[K In function ‘\u001b[01m\u001b[K__pyx_pf_12DataIterator_19InteractionIterator_6__next__\u001b[m\u001b[K’:\r\n",
      "\u001b[01m\u001b[KDataIterator.c:20937:22:\u001b[m\u001b[K \u001b[01;35m\u001b[Kwarning: \u001b[m\u001b[K‘\u001b[01m\u001b[K__pyx_v_i_batch\u001b[m\u001b[K’ may be used uninitialized in this function [\u001b[01;35m\u001b[K\u001b]8;;https://gcc.gnu.org/onlinedocs/gcc/Warning-Options.html#index-Wmaybe-uninitialized\u0007-Wmaybe-uninitialized\u001b]8;;\u0007\u001b[m\u001b[K]\r\n",
      "20937 |     (__pyx_v_i_batch \u001b[01;35m\u001b[K+\u001b[m\u001b[K 1),\r\n",
      "      |                      \u001b[01;35m\u001b[K^\u001b[m\u001b[K\r\n",
      "\u001b[01m\u001b[KDataIterator.c:\u001b[m\u001b[K In function ‘\u001b[01m\u001b[K__pyx_pf_12DataIterator_30InteractionAndNegativeIterator_6__next__\u001b[m\u001b[K’:\r\n",
      "\u001b[01m\u001b[KDataIterator.c:25499:22:\u001b[m\u001b[K \u001b[01;35m\u001b[Kwarning: \u001b[m\u001b[K‘\u001b[01m\u001b[K__pyx_v_i_batch\u001b[m\u001b[K’ may be used uninitialized in this function [\u001b[01;35m\u001b[K\u001b]8;;https://gcc.gnu.org/onlinedocs/gcc/Warning-Options.html#index-Wmaybe-uninitialized\u0007-Wmaybe-uninitialized\u001b]8;;\u0007\u001b[m\u001b[K]\r\n",
      "25499 |     (__pyx_v_i_batch \u001b[01;35m\u001b[K+\u001b[m\u001b[K 1),\r\n",
      "      |                      \u001b[01;35m\u001b[K^\u001b[m\u001b[K\r\n",
      "\u001b[01m\u001b[KDataIterator.c:\u001b[m\u001b[K In function ‘\u001b[01m\u001b[K__pyx_pf_12DataIterator_11BPRIterator_6__next__\u001b[m\u001b[K’:\r\n",
      "\u001b[01m\u001b[KDataIterator.c:23056:22:\u001b[m\u001b[K \u001b[01;35m\u001b[Kwarning: \u001b[m\u001b[K‘\u001b[01m\u001b[K__pyx_v_i_batch\u001b[m\u001b[K’ may be used uninitialized in this function [\u001b[01;35m\u001b[K\u001b]8;;https://gcc.gnu.org/onlinedocs/gcc/Warning-Options.html#index-Wmaybe-uninitialized\u0007-Wmaybe-uninitialized\u001b]8;;\u0007\u001b[m\u001b[K]\r\n",
      "23056 |     (__pyx_v_i_batch \u001b[01;35m\u001b[K+\u001b[m\u001b[K 1),\r\n",
      "      |                      \u001b[01;35m\u001b[K^\u001b[m\u001b[K\r\n",
      "/usr/local/lib/python3.10/dist-packages/Cython/Compiler/Main.py:381: FutureWarning: Cython directive 'language_level' not set, using '3str' for now (Py3). This has changed from earlier releases! File: /kaggle/working/RECsys_Challenge2024/Utils/PyTorch/Cython/DataIterator.pyx\r\n",
      "  tree = Parsing.p_module(s, pxd, full_module_name)\r\n",
      "Compiling [11/11]: DataIterator.pyx... PASS\r\n",
      "\r\n",
      "run_compile_all_cython: Compilation finished. FAILS 2/11.\r\n",
      "Compilation log can be found here: './result_experiments/run_compile_all_cython.txt'\r\n"
     ]
    }
   ],
   "source": [
    "%cd /kaggle/working/RECsys_Challenge2024 \n",
    "! python run_compile_all_cython.py"
   ]
  },
  {
   "cell_type": "code",
   "execution_count": 5,
   "id": "4f5999df",
   "metadata": {
    "execution": {
     "iopub.execute_input": "2024-12-24T15:00:02.854109Z",
     "iopub.status.busy": "2024-12-24T15:00:02.853648Z",
     "iopub.status.idle": "2024-12-24T15:00:04.198357Z",
     "shell.execute_reply": "2024-12-24T15:00:04.197272Z"
    },
    "papermill": {
     "duration": 1.36149,
     "end_time": "2024-12-24T15:00:04.200458",
     "exception": false,
     "start_time": "2024-12-24T15:00:02.838968",
     "status": "completed"
    },
    "tags": []
   },
   "outputs": [],
   "source": [
    "from Utils.notebookFunctions import *\n",
    "import numpy as np\n",
    "import pandas as pd\n",
    "import scipy.sparse as sps\n",
    "import time\n",
    "import shutil\n",
    "import optuna\n",
    "import json\n",
    "import os\n",
    "from Utils.seconds_to_biggest_unit import seconds_to_biggest_unit\n",
    "\n",
    "\n",
    "K_PATH = '/kaggle/working/RECsys_Challenge2024'\n",
    "GH_PATH = 'TrainedModels/WithoutKFCV/GraphBased'\n",
    "\n",
    "np.random.seed(42)"
   ]
  },
  {
   "cell_type": "markdown",
   "id": "aa350a70",
   "metadata": {
    "papermill": {
     "duration": 0.013315,
     "end_time": "2024-12-24T15:00:04.227945",
     "exception": false,
     "start_time": "2024-12-24T15:00:04.214630",
     "status": "completed"
    },
    "tags": []
   },
   "source": [
    "## Import the repository"
   ]
  },
  {
   "cell_type": "code",
   "execution_count": 6,
   "id": "37255d9a",
   "metadata": {
    "execution": {
     "iopub.execute_input": "2024-12-24T15:00:04.256747Z",
     "iopub.status.busy": "2024-12-24T15:00:04.256157Z",
     "iopub.status.idle": "2024-12-24T15:00:04.539236Z",
     "shell.execute_reply": "2024-12-24T15:00:04.538019Z"
    },
    "papermill": {
     "duration": 0.299693,
     "end_time": "2024-12-24T15:00:04.541372",
     "exception": false,
     "start_time": "2024-12-24T15:00:04.241679",
     "status": "completed"
    },
    "tags": []
   },
   "outputs": [
    {
     "name": "stdout",
     "output_type": "stream",
     "text": [
      "Repository 'RECsys_Challenge2024' found.\n"
     ]
    }
   ],
   "source": [
    "repo = get_repo_from_github(token)"
   ]
  },
  {
   "cell_type": "code",
   "execution_count": 7,
   "id": "cd1b5ec4",
   "metadata": {
    "execution": {
     "iopub.execute_input": "2024-12-24T15:00:04.574382Z",
     "iopub.status.busy": "2024-12-24T15:00:04.573978Z",
     "iopub.status.idle": "2024-12-24T15:00:04.578521Z",
     "shell.execute_reply": "2024-12-24T15:00:04.577488Z"
    },
    "papermill": {
     "duration": 0.023142,
     "end_time": "2024-12-24T15:00:04.580208",
     "exception": false,
     "start_time": "2024-12-24T15:00:04.557066",
     "status": "completed"
    },
    "tags": []
   },
   "outputs": [],
   "source": [
    "config = {\n",
    "    'model': 'RP3betaICM',\n",
    "    'metric': 'MAP',\n",
    "    'tune_parameters': True,\n",
    "    'database_path': '/kaggle/working/history_RP3betaICM_MAP.db',\n",
    "    'copy_prev_best_params': False,\n",
    "    'tune_best_params': True,\n",
    "    'save_github': True\n",
    "}"
   ]
  },
  {
   "cell_type": "markdown",
   "id": "40533b35",
   "metadata": {
    "papermill": {
     "duration": 0.013052,
     "end_time": "2024-12-24T15:00:04.607190",
     "exception": false,
     "start_time": "2024-12-24T15:00:04.594138",
     "status": "completed"
    },
    "tags": []
   },
   "source": [
    "Import the database where previous tuning trials have been saved."
   ]
  },
  {
   "cell_type": "code",
   "execution_count": 8,
   "id": "cfa4e252",
   "metadata": {
    "execution": {
     "iopub.execute_input": "2024-12-24T15:00:04.635361Z",
     "iopub.status.busy": "2024-12-24T15:00:04.634961Z",
     "iopub.status.idle": "2024-12-24T15:00:04.641155Z",
     "shell.execute_reply": "2024-12-24T15:00:04.640039Z"
    },
    "papermill": {
     "duration": 0.022146,
     "end_time": "2024-12-24T15:00:04.642867",
     "exception": false,
     "start_time": "2024-12-24T15:00:04.620721",
     "status": "completed"
    },
    "tags": []
   },
   "outputs": [],
   "source": [
    "try:\n",
    "    shutil.copyfile(\n",
    "        f'{K_PATH}/{GH_PATH}/{config[\"model\"]}Recommender/Optimizing{config[\"metric\"]}/history_{config[\"model\"]}_{config[\"metric\"]}.db', \n",
    "        config['database_path']\n",
    "    )\n",
    "except FileNotFoundError:\n",
    "    pass # if not present optuna will create it"
   ]
  },
  {
   "cell_type": "markdown",
   "id": "50a70215",
   "metadata": {
    "papermill": {
     "duration": 0.0134,
     "end_time": "2024-12-24T15:00:04.670581",
     "exception": false,
     "start_time": "2024-12-24T15:00:04.657181",
     "status": "completed"
    },
    "tags": []
   },
   "source": [
    "# Construction of URM and ICM matrices"
   ]
  },
  {
   "cell_type": "code",
   "execution_count": 9,
   "id": "7ba6067c",
   "metadata": {
    "execution": {
     "iopub.execute_input": "2024-12-24T15:00:04.699082Z",
     "iopub.status.busy": "2024-12-24T15:00:04.698630Z",
     "iopub.status.idle": "2024-12-24T15:00:05.507132Z",
     "shell.execute_reply": "2024-12-24T15:00:05.506101Z"
    },
    "papermill": {
     "duration": 0.824732,
     "end_time": "2024-12-24T15:00:05.508880",
     "exception": false,
     "start_time": "2024-12-24T15:00:04.684148",
     "status": "completed"
    },
    "tags": []
   },
   "outputs": [
    {
     "data": {
      "text/plain": [
       "<35736x38121 sparse matrix of type '<class 'numpy.float64'>'\n",
       "\twith 1764607 stored elements in Compressed Sparse Row format>"
      ]
     },
     "execution_count": 9,
     "metadata": {},
     "output_type": "execute_result"
    }
   ],
   "source": [
    "URM_all_dataframe = pd.read_csv(\"/kaggle/input/recommender-system-2024-challenge-polimi/data_train.csv\")\n",
    "\n",
    "n_users = len(URM_all_dataframe[\"user_id\"].unique())\n",
    "n_items = len(URM_all_dataframe[\"item_id\"].unique())\n",
    "\n",
    "URM_all = sps.csr_matrix((URM_all_dataframe[\"data\"].values, \n",
    "                          (URM_all_dataframe[\"user_id\"].values, URM_all_dataframe[\"item_id\"].values)),\n",
    "                        shape = (n_users, n_items))\n",
    "\n",
    "URM_all"
   ]
  },
  {
   "cell_type": "code",
   "execution_count": 10,
   "id": "bba466bb",
   "metadata": {
    "execution": {
     "iopub.execute_input": "2024-12-24T15:00:05.537884Z",
     "iopub.status.busy": "2024-12-24T15:00:05.537511Z",
     "iopub.status.idle": "2024-12-24T15:00:06.758727Z",
     "shell.execute_reply": "2024-12-24T15:00:06.757749Z"
    },
    "papermill": {
     "duration": 1.237382,
     "end_time": "2024-12-24T15:00:06.760309",
     "exception": false,
     "start_time": "2024-12-24T15:00:05.522927",
     "status": "completed"
    },
    "tags": []
   },
   "outputs": [
    {
     "data": {
      "text/plain": [
       "<38121x94331 sparse matrix of type '<class 'numpy.float64'>'\n",
       "\twith 2940040 stored elements in Compressed Sparse Row format>"
      ]
     },
     "execution_count": 10,
     "metadata": {},
     "output_type": "execute_result"
    }
   ],
   "source": [
    "ICM_dataframe = pd.read_csv(\"/kaggle/input/recommender-system-2024-challenge-polimi/data_ICM_metadata.csv\")\n",
    "\n",
    "n_items = len(ICM_dataframe[\"item_id\"].unique())\n",
    "n_features = len(ICM_dataframe[\"feature_id\"].unique())\n",
    "\n",
    "ICM_all = sps.csr_matrix((ICM_dataframe[\"data\"].values, \n",
    "                          (ICM_dataframe[\"item_id\"].values, ICM_dataframe[\"feature_id\"].values)),\n",
    "                        shape = (n_items, n_features))\n",
    "\n",
    "ICM_all"
   ]
  },
  {
   "cell_type": "markdown",
   "id": "1a23cd65",
   "metadata": {
    "papermill": {
     "duration": 0.014346,
     "end_time": "2024-12-24T15:00:06.788449",
     "exception": false,
     "start_time": "2024-12-24T15:00:06.774103",
     "status": "completed"
    },
    "tags": []
   },
   "source": [
    "# Training"
   ]
  },
  {
   "cell_type": "code",
   "execution_count": 11,
   "id": "4491ad1c",
   "metadata": {
    "execution": {
     "iopub.execute_input": "2024-12-24T15:00:06.818184Z",
     "iopub.status.busy": "2024-12-24T15:00:06.817837Z",
     "iopub.status.idle": "2024-12-24T15:00:09.922483Z",
     "shell.execute_reply": "2024-12-24T15:00:09.921274Z"
    },
    "papermill": {
     "duration": 3.121568,
     "end_time": "2024-12-24T15:00:09.924327",
     "exception": false,
     "start_time": "2024-12-24T15:00:06.802759",
     "status": "completed"
    },
    "tags": []
   },
   "outputs": [
    {
     "name": "stdout",
     "output_type": "stream",
     "text": [
      "Warning: 141 (0.39 %) of 35736 users have no sampled items\n",
      "EvaluatorHoldout: Ignoring 141 ( 0.4%) Users that have less than 1 test interactions\n"
     ]
    }
   ],
   "source": [
    "from Evaluation.Evaluator import EvaluatorHoldout\n",
    "from Data_manager.split_functions.split_train_validation_random_holdout import split_train_in_two_percentage_global_sample\n",
    "\n",
    "URM_train, URM_validation = split_train_in_two_percentage_global_sample(URM_all, train_percentage = 0.80)\n",
    "\n",
    "evaluator_validation = EvaluatorHoldout(URM_validation, cutoff_list=[10])"
   ]
  },
  {
   "cell_type": "code",
   "execution_count": 12,
   "id": "7b232778",
   "metadata": {
    "execution": {
     "iopub.execute_input": "2024-12-24T15:00:09.954834Z",
     "iopub.status.busy": "2024-12-24T15:00:09.954441Z",
     "iopub.status.idle": "2024-12-24T15:00:10.958630Z",
     "shell.execute_reply": "2024-12-24T15:00:10.957562Z"
    },
    "papermill": {
     "duration": 1.021479,
     "end_time": "2024-12-24T15:00:10.960919",
     "exception": false,
     "start_time": "2024-12-24T15:00:09.939440",
     "status": "completed"
    },
    "tags": []
   },
   "outputs": [],
   "source": [
    "from Recommenders.GraphBased.RP3betaRecommender import RP3betaRecommender\n",
    "from Recommenders.KNN.ItemKNNCustomSimilarityRecommender import ItemKNNCustomSimilarityRecommender\n",
    "\n",
    "def objective_function_RP3beta(optuna_trial):\n",
    "    \n",
    "    rp3beta_icm_recommender = RP3betaRecommender(ICM_all.T)\n",
    "    \n",
    "    full_hyperp = {\n",
    "                    \"topK\": optuna_trial.suggest_int(\"topK\", 0, 1500),\n",
    "                   \"alpha\": optuna_trial.suggest_float(\"alpha\", 0, 3, log=False),\n",
    "                   \"beta\": optuna_trial.suggest_float(\"beta\", 0, 3, log=False),\n",
    "                   \"normalize_similarity\": optuna_trial.suggest_categorical(\"normalize_similarity\", [True, False]),\n",
    "                   \"implicit\": optuna_trial.suggest_categorical(\"implicit\", [True, False]),\n",
    "                  }        \n",
    "    \n",
    "    rp3beta_icm_recommender.fit(**full_hyperp)\n",
    "    \n",
    "    recommender_instance = ItemKNNCustomSimilarityRecommender(URM_train)\n",
    "    recommender_instance.fit(rp3beta_icm_recommender.W_sparse)\n",
    "    \n",
    "    result_df, _ = evaluator_validation.evaluateRecommender(recommender_instance)\n",
    "    \n",
    "    return result_df.loc[10][\"MAP\"]"
   ]
  },
  {
   "cell_type": "code",
   "execution_count": 13,
   "id": "b4297fd1",
   "metadata": {
    "_kg_hide-output": true,
    "execution": {
     "iopub.execute_input": "2024-12-24T15:00:10.990569Z",
     "iopub.status.busy": "2024-12-24T15:00:10.989963Z",
     "iopub.status.idle": "2024-12-24T20:20:24.356652Z",
     "shell.execute_reply": "2024-12-24T20:20:24.355394Z"
    },
    "papermill": {
     "duration": 19213.383794,
     "end_time": "2024-12-24T20:20:24.358856",
     "exception": false,
     "start_time": "2024-12-24T15:00:10.975062",
     "status": "completed"
    },
    "tags": []
   },
   "outputs": [
    {
     "name": "stderr",
     "output_type": "stream",
     "text": [
      "[I 2024-12-24 15:00:11,965] Using an existing study with name 'hyperparameters_tuning_RP3betaICM_MAP' instead of creating a new one.\n"
     ]
    },
    {
     "name": "stdout",
     "output_type": "stream",
     "text": [
      "RP3betaRecommender: Similarity column 38121 (100.0%), 721.35 column/sec. Elapsed time 52.85 sec\n",
      "EvaluatorHoldout: Processed 35595 (100.0%) in 34.24 sec. Users per second: 1040\n"
     ]
    },
    {
     "name": "stderr",
     "output_type": "stream",
     "text": [
      "[I 2024-12-24 15:01:42,327] Trial 400 finished with value: 0.009166478259609472 and parameters: {'topK': 53, 'alpha': 2.373014855521039, 'beta': 0.13006214854066522, 'normalize_similarity': True, 'implicit': False}. Best is trial 94 with value: 0.023107177974434116.\n"
     ]
    },
    {
     "name": "stdout",
     "output_type": "stream",
     "text": [
      "RP3betaRecommender: Similarity column 38121 (100.0%), 737.97 column/sec. Elapsed time 51.66 sec\n",
      "EvaluatorHoldout: Processed 35595 (100.0%) in 32.76 sec. Users per second: 1086\n"
     ]
    },
    {
     "name": "stderr",
     "output_type": "stream",
     "text": [
      "[I 2024-12-24 15:03:08,798] Trial 401 finished with value: 0.020392969183740152 and parameters: {'topK': 25, 'alpha': 0.513773709578176, 'beta': 0.5190179986585953, 'normalize_similarity': True, 'implicit': False}. Best is trial 94 with value: 0.023107177974434116.\n"
     ]
    },
    {
     "name": "stdout",
     "output_type": "stream",
     "text": [
      "RP3betaRecommender: Similarity column 38121 (100.0%), 697.56 column/sec. Elapsed time 54.65 sec\n",
      "EvaluatorHoldout: Processed 35595 (100.0%) in 34.68 sec. Users per second: 1026\n"
     ]
    },
    {
     "name": "stderr",
     "output_type": "stream",
     "text": [
      "[I 2024-12-24 15:04:41,549] Trial 402 finished with value: 0.02060564842128247 and parameters: {'topK': 76, 'alpha': 0.4133789985926885, 'beta': 0.3276677524566826, 'normalize_similarity': True, 'implicit': False}. Best is trial 94 with value: 0.023107177974434116.\n"
     ]
    },
    {
     "name": "stdout",
     "output_type": "stream",
     "text": [
      "RP3betaRecommender: Similarity column 38121 (100.0%), 1067.00 column/sec. Elapsed time 35.73 sec\n",
      "EvaluatorHoldout: Processed 35595 (100.0%) in 24.45 sec. Users per second: 1456\n"
     ]
    },
    {
     "name": "stderr",
     "output_type": "stream",
     "text": [
      "[I 2024-12-24 15:05:42,296] Trial 403 finished with value: 0.00028209999175022335 and parameters: {'topK': 0, 'alpha': 0.6101823916849141, 'beta': 0.20865360235992536, 'normalize_similarity': True, 'implicit': True}. Best is trial 94 with value: 0.023107177974434116.\n"
     ]
    },
    {
     "name": "stdout",
     "output_type": "stream",
     "text": [
      "RP3betaRecommender: Similarity column 38121 (100.0%), 669.67 column/sec. Elapsed time 56.92 sec\n",
      "EvaluatorHoldout: Processed 35595 (100.0%) in 36.44 sec. Users per second: 977\n"
     ]
    },
    {
     "name": "stderr",
     "output_type": "stream",
     "text": [
      "[I 2024-12-24 15:07:20,784] Trial 404 finished with value: 0.01924626028713674 and parameters: {'topK': 125, 'alpha': 0.31066374699775273, 'beta': 0.46085891259675843, 'normalize_similarity': True, 'implicit': False}. Best is trial 94 with value: 0.023107177974434116.\n"
     ]
    },
    {
     "name": "stdout",
     "output_type": "stream",
     "text": [
      "RP3betaRecommender: Similarity column 38121 (100.0%), 728.00 column/sec. Elapsed time 52.36 sec\n",
      "EvaluatorHoldout: Processed 35595 (100.0%) in 33.80 sec. Users per second: 1053\n"
     ]
    },
    {
     "name": "stderr",
     "output_type": "stream",
     "text": [
      "[I 2024-12-24 15:08:49,888] Trial 405 finished with value: 0.009141445762179156 and parameters: {'topK': 46, 'alpha': 2.683826211984205, 'beta': 0.3851742540423326, 'normalize_similarity': True, 'implicit': False}. Best is trial 94 with value: 0.023107177974434116.\n"
     ]
    },
    {
     "name": "stdout",
     "output_type": "stream",
     "text": [
      "RP3betaRecommender: Similarity column 38121 (100.0%), 687.88 column/sec. Elapsed time 55.42 sec\n",
      "EvaluatorHoldout: Processed 35595 (100.0%) in 35.31 sec. Users per second: 1008\n"
     ]
    },
    {
     "name": "stderr",
     "output_type": "stream",
     "text": [
      "[I 2024-12-24 15:10:24,540] Trial 406 finished with value: 0.0201332918614839 and parameters: {'topK': 94, 'alpha': 0.46171672839090316, 'beta': 0.2976642323576064, 'normalize_similarity': True, 'implicit': False}. Best is trial 94 with value: 0.023107177974434116.\n"
     ]
    },
    {
     "name": "stdout",
     "output_type": "stream",
     "text": [
      "RP3betaRecommender: Similarity column 38121 (100.0%), 429.80 column/sec. Elapsed time 1.48 min\n",
      "EvaluatorHoldout: Processed 35595 (100.0%) in 48.38 sec. Users per second: 736\n"
     ]
    },
    {
     "name": "stderr",
     "output_type": "stream",
     "text": [
      "[I 2024-12-24 15:13:06,713] Trial 407 finished with value: 0.014689364700321771 and parameters: {'topK': 685, 'alpha': 0.23612990033061693, 'beta': 0.5704271795908404, 'normalize_similarity': True, 'implicit': True}. Best is trial 94 with value: 0.023107177974434116.\n"
     ]
    },
    {
     "name": "stdout",
     "output_type": "stream",
     "text": [
      "RP3betaRecommender: Similarity column 38121 (100.0%), 320.13 column/sec. Elapsed time 1.98 min\n",
      "EvaluatorHoldout: Processed 35595 (100.0%) in 58.57 sec. Users per second: 608\n"
     ]
    },
    {
     "name": "stderr",
     "output_type": "stream",
     "text": [
      "[I 2024-12-24 15:16:50,674] Trial 408 finished with value: 0.016548949045367238 and parameters: {'topK': 1295, 'alpha': 0.3798891189169976, 'beta': 0.37209190183499885, 'normalize_similarity': True, 'implicit': False}. Best is trial 94 with value: 0.023107177974434116.\n"
     ]
    },
    {
     "name": "stdout",
     "output_type": "stream",
     "text": [
      "RP3betaRecommender: Similarity column 38121 (100.0%), 723.28 column/sec. Elapsed time 52.71 sec\n",
      "EvaluatorHoldout: Processed 35595 (100.0%) in 33.00 sec. Users per second: 1079\n"
     ]
    },
    {
     "name": "stderr",
     "output_type": "stream",
     "text": [
      "[I 2024-12-24 15:18:18,263] Trial 409 finished with value: 0.021826653244057102 and parameters: {'topK': 26, 'alpha': 0.43800270914819217, 'beta': 0.2679480671478319, 'normalize_similarity': True, 'implicit': False}. Best is trial 94 with value: 0.023107177974434116.\n"
     ]
    },
    {
     "name": "stdout",
     "output_type": "stream",
     "text": [
      "RP3betaRecommender: Similarity column 38121 (100.0%), 706.47 column/sec. Elapsed time 53.96 sec\n",
      "EvaluatorHoldout: Processed 35595 (100.0%) in 33.71 sec. Users per second: 1056\n"
     ]
    },
    {
     "name": "stderr",
     "output_type": "stream",
     "text": [
      "[I 2024-12-24 15:19:48,299] Trial 410 finished with value: 0.01940351551961327 and parameters: {'topK': 56, 'alpha': 0.33185150758507376, 'beta': 0.15446216903424898, 'normalize_similarity': True, 'implicit': False}. Best is trial 94 with value: 0.023107177974434116.\n"
     ]
    },
    {
     "name": "stdout",
     "output_type": "stream",
     "text": [
      "RP3betaRecommender: Similarity column 38121 (100.0%), 716.86 column/sec. Elapsed time 53.18 sec\n",
      "EvaluatorHoldout: Processed 35595 (100.0%) in 34.00 sec. Users per second: 1047\n"
     ]
    },
    {
     "name": "stderr",
     "output_type": "stream",
     "text": [
      "[I 2024-12-24 15:21:17,435] Trial 411 finished with value: 0.021288271716421458 and parameters: {'topK': 30, 'alpha': 0.4178356424593116, 'beta': 0.22179069136283933, 'normalize_similarity': True, 'implicit': True}. Best is trial 94 with value: 0.023107177974434116.\n"
     ]
    },
    {
     "name": "stdout",
     "output_type": "stream",
     "text": [
      "RP3betaRecommender: Similarity column 38121 (100.0%), 723.57 column/sec. Elapsed time 52.68 sec\n",
      "EvaluatorHoldout: Processed 35595 (100.0%) in 31.43 sec. Users per second: 1132\n"
     ]
    },
    {
     "name": "stderr",
     "output_type": "stream",
     "text": [
      "[I 2024-12-24 15:22:43,253] Trial 412 finished with value: 0.0025745467639694225 and parameters: {'topK': 70, 'alpha': 0.2827163182749172, 'beta': 1.5491500634851467, 'normalize_similarity': True, 'implicit': False}. Best is trial 94 with value: 0.023107177974434116.\n"
     ]
    },
    {
     "name": "stdout",
     "output_type": "stream",
     "text": [
      "RP3betaRecommender: Similarity column 38121 (100.0%), 717.61 column/sec. Elapsed time 53.12 sec\n",
      "EvaluatorHoldout: Processed 35595 (100.0%) in 32.17 sec. Users per second: 1107\n"
     ]
    },
    {
     "name": "stderr",
     "output_type": "stream",
     "text": [
      "[I 2024-12-24 15:24:10,232] Trial 413 finished with value: 0.019468653079061746 and parameters: {'topK': 23, 'alpha': 0.12705143121846674, 'beta': 0.2873917596045389, 'normalize_similarity': True, 'implicit': False}. Best is trial 94 with value: 0.023107177974434116.\n"
     ]
    },
    {
     "name": "stdout",
     "output_type": "stream",
     "text": [
      "RP3betaRecommender: Similarity column 38121 (100.0%), 965.98 column/sec. Elapsed time 39.46 sec\n",
      "EvaluatorHoldout: Processed 35595 (100.0%) in 26.95 sec. Users per second: 1321\n"
     ]
    },
    {
     "name": "stderr",
     "output_type": "stream",
     "text": [
      "[I 2024-12-24 15:25:17,772] Trial 414 finished with value: 0.00897047806339856 and parameters: {'topK': 1, 'alpha': 0.3787622761814162, 'beta': 0.24346809182877494, 'normalize_similarity': True, 'implicit': False}. Best is trial 94 with value: 0.023107177974434116.\n"
     ]
    },
    {
     "name": "stdout",
     "output_type": "stream",
     "text": [
      "RP3betaRecommender: Similarity column 38121 (100.0%), 672.12 column/sec. Elapsed time 56.72 sec\n",
      "EvaluatorHoldout: Processed 35595 (100.0%) in 36.62 sec. Users per second: 972\n"
     ]
    },
    {
     "name": "stderr",
     "output_type": "stream",
     "text": [
      "[I 2024-12-24 15:26:55,851] Trial 415 finished with value: 0.019752122087773005 and parameters: {'topK': 112, 'alpha': 0.5260222886203585, 'beta': 0.3138031314963696, 'normalize_similarity': True, 'implicit': True}. Best is trial 94 with value: 0.023107177974434116.\n"
     ]
    },
    {
     "name": "stdout",
     "output_type": "stream",
     "text": [
      "RP3betaRecommender: Similarity column 38121 (100.0%), 1049.00 column/sec. Elapsed time 36.34 sec\n",
      "EvaluatorHoldout: Processed 35595 (100.0%) in 24.56 sec. Users per second: 1449\n"
     ]
    },
    {
     "name": "stderr",
     "output_type": "stream",
     "text": [
      "[I 2024-12-24 15:27:57,329] Trial 416 finished with value: 0.00028209999175022335 and parameters: {'topK': 0, 'alpha': 0.4361511022571693, 'beta': 0.17466469566576287, 'normalize_similarity': False, 'implicit': False}. Best is trial 94 with value: 0.023107177974434116.\n"
     ]
    },
    {
     "name": "stdout",
     "output_type": "stream",
     "text": [
      "RP3betaRecommender: Similarity column 38121 (100.0%), 712.47 column/sec. Elapsed time 53.51 sec\n",
      "EvaluatorHoldout: Processed 35595 (100.0%) in 33.53 sec. Users per second: 1062\n"
     ]
    },
    {
     "name": "stderr",
     "output_type": "stream",
     "text": [
      "[I 2024-12-24 15:29:26,857] Trial 417 finished with value: 0.02050383614606093 and parameters: {'topK': 51, 'alpha': 0.3340976274186105, 'beta': 0.27050989781703066, 'normalize_similarity': True, 'implicit': False}. Best is trial 94 with value: 0.023107177974434116.\n"
     ]
    },
    {
     "name": "stdout",
     "output_type": "stream",
     "text": [
      "RP3betaRecommender: Similarity column 38121 (100.0%), 689.98 column/sec. Elapsed time 55.25 sec\n",
      "EvaluatorHoldout: Processed 35595 (100.0%) in 34.95 sec. Users per second: 1018\n"
     ]
    },
    {
     "name": "stderr",
     "output_type": "stream",
     "text": [
      "[I 2024-12-24 15:31:00,584] Trial 418 finished with value: 0.019191679097073085 and parameters: {'topK': 87, 'alpha': 0.245634406601381, 'beta': 0.34329666263205294, 'normalize_similarity': True, 'implicit': False}. Best is trial 94 with value: 0.023107177974434116.\n"
     ]
    },
    {
     "name": "stdout",
     "output_type": "stream",
     "text": [
      "RP3betaRecommender: Similarity column 38121 (100.0%), 721.46 column/sec. Elapsed time 52.84 sec\n",
      "EvaluatorHoldout: Processed 35595 (100.0%) in 34.28 sec. Users per second: 1038\n"
     ]
    },
    {
     "name": "stderr",
     "output_type": "stream",
     "text": [
      "[I 2024-12-24 15:32:30,812] Trial 419 finished with value: 0.010574447543685011 and parameters: {'topK': 49, 'alpha': 1.8985500607937258, 'beta': 0.36083409211655654, 'normalize_similarity': True, 'implicit': True}. Best is trial 94 with value: 0.023107177974434116.\n"
     ]
    },
    {
     "name": "stdout",
     "output_type": "stream",
     "text": [
      "RP3betaRecommender: Similarity column 38121 (100.0%), 742.24 column/sec. Elapsed time 51.36 sec\n",
      "EvaluatorHoldout: Processed 35595 (100.0%) in 31.12 sec. Users per second: 1144\n"
     ]
    },
    {
     "name": "stderr",
     "output_type": "stream",
     "text": [
      "[I 2024-12-24 15:33:54,810] Trial 420 finished with value: 0.01348236666020099 and parameters: {'topK': 25, 'alpha': 0.4726874917337391, 'beta': 0.8400063102197056, 'normalize_similarity': True, 'implicit': False}. Best is trial 94 with value: 0.023107177974434116.\n"
     ]
    },
    {
     "name": "stdout",
     "output_type": "stream",
     "text": [
      "RP3betaRecommender: Similarity column 38121 (100.0%), 698.24 column/sec. Elapsed time 54.60 sec\n",
      "EvaluatorHoldout: Processed 35595 (100.0%) in 33.78 sec. Users per second: 1054\n"
     ]
    },
    {
     "name": "stderr",
     "output_type": "stream",
     "text": [
      "[I 2024-12-24 15:35:25,792] Trial 421 finished with value: 0.018158247435322912 and parameters: {'topK': 76, 'alpha': 0.37820184614697305, 'beta': 0.09428562833824997, 'normalize_similarity': True, 'implicit': False}. Best is trial 94 with value: 0.023107177974434116.\n"
     ]
    },
    {
     "name": "stdout",
     "output_type": "stream",
     "text": [
      "RP3betaRecommender: Similarity column 38121 (100.0%), 722.82 column/sec. Elapsed time 52.74 sec\n",
      "EvaluatorHoldout: Processed 35595 (100.0%) in 33.72 sec. Users per second: 1055\n"
     ]
    },
    {
     "name": "stderr",
     "output_type": "stream",
     "text": [
      "[I 2024-12-24 15:36:54,596] Trial 422 finished with value: 0.02027838201816278 and parameters: {'topK': 40, 'alpha': 0.5825318160276325, 'beta': 0.2072512606587897, 'normalize_similarity': True, 'implicit': True}. Best is trial 94 with value: 0.023107177974434116.\n"
     ]
    },
    {
     "name": "stdout",
     "output_type": "stream",
     "text": [
      "RP3betaRecommender: Similarity column 38121 (100.0%), 728.62 column/sec. Elapsed time 52.32 sec\n",
      "EvaluatorHoldout: Processed 35595 (100.0%) in 32.75 sec. Users per second: 1087\n"
     ]
    },
    {
     "name": "stderr",
     "output_type": "stream",
     "text": [
      "[I 2024-12-24 15:38:21,580] Trial 423 finished with value: 0.021900741810981735 and parameters: {'topK': 27, 'alpha': 0.4339897015154028, 'beta': 0.2817681232654888, 'normalize_similarity': True, 'implicit': False}. Best is trial 94 with value: 0.023107177974434116.\n"
     ]
    },
    {
     "name": "stdout",
     "output_type": "stream",
     "text": [
      "RP3betaRecommender: Similarity column 38121 (100.0%), 705.50 column/sec. Elapsed time 54.03 sec\n",
      "EvaluatorHoldout: Processed 35595 (100.0%) in 35.20 sec. Users per second: 1011\n"
     ]
    },
    {
     "name": "stderr",
     "output_type": "stream",
     "text": [
      "[I 2024-12-24 15:39:54,555] Trial 424 finished with value: 0.011848867439470345 and parameters: {'topK': 67, 'alpha': 1.5290532299458839, 'beta': 0.2736258050345403, 'normalize_similarity': True, 'implicit': False}. Best is trial 94 with value: 0.023107177974434116.\n"
     ]
    },
    {
     "name": "stdout",
     "output_type": "stream",
     "text": [
      "RP3betaRecommender: Similarity column 38121 (100.0%), 519.33 column/sec. Elapsed time 1.22 min\n",
      "EvaluatorHoldout: Processed 35595 (100.0%) in 43.00 sec. Users per second: 828\n"
     ]
    },
    {
     "name": "stderr",
     "output_type": "stream",
     "text": [
      "[I 2024-12-24 15:42:05,456] Trial 425 finished with value: 0.017603160110324114 and parameters: {'topK': 394, 'alpha': 0.3126152183854374, 'beta': 0.4052605668322224, 'normalize_similarity': True, 'implicit': False}. Best is trial 94 with value: 0.023107177974434116.\n"
     ]
    },
    {
     "name": "stdout",
     "output_type": "stream",
     "text": [
      "RP3betaRecommender: Similarity column 38121 (100.0%), 971.54 column/sec. Elapsed time 39.24 sec\n",
      "EvaluatorHoldout: Processed 35595 (100.0%) in 26.93 sec. Users per second: 1322\n"
     ]
    },
    {
     "name": "stderr",
     "output_type": "stream",
     "text": [
      "[I 2024-12-24 15:43:12,734] Trial 426 finished with value: 0.008694459494712495 and parameters: {'topK': 1, 'alpha': 0.4112125446945109, 'beta': 0.2397133434547951, 'normalize_similarity': True, 'implicit': False}. Best is trial 94 with value: 0.023107177974434116.\n"
     ]
    },
    {
     "name": "stdout",
     "output_type": "stream",
     "text": [
      "RP3betaRecommender: Similarity column 38121 (100.0%), 672.76 column/sec. Elapsed time 56.66 sec\n",
      "EvaluatorHoldout: Processed 35595 (100.0%) in 36.44 sec. Users per second: 977\n"
     ]
    },
    {
     "name": "stderr",
     "output_type": "stream",
     "text": [
      "[I 2024-12-24 15:44:50,866] Trial 427 finished with value: 0.019832323293132195 and parameters: {'topK': 120, 'alpha': 0.5074018149764662, 'beta': 0.332845890474488, 'normalize_similarity': True, 'implicit': True}. Best is trial 94 with value: 0.023107177974434116.\n"
     ]
    },
    {
     "name": "stdout",
     "output_type": "stream",
     "text": [
      "RP3betaRecommender: Similarity column 38121 (100.0%), 719.54 column/sec. Elapsed time 52.98 sec\n",
      "EvaluatorHoldout: Processed 35595 (100.0%) in 33.09 sec. Users per second: 1076\n"
     ]
    },
    {
     "name": "stderr",
     "output_type": "stream",
     "text": [
      "[I 2024-12-24 15:46:19,228] Trial 428 finished with value: 0.019769030785044148 and parameters: {'topK': 41, 'alpha': 0.19124327307194816, 'beta': 0.4631641121524722, 'normalize_similarity': True, 'implicit': False}. Best is trial 94 with value: 0.023107177974434116.\n"
     ]
    },
    {
     "name": "stdout",
     "output_type": "stream",
     "text": [
      "RP3betaRecommender: Similarity column 38121 (100.0%), 685.15 column/sec. Elapsed time 55.64 sec\n",
      "EvaluatorHoldout: Processed 35595 (100.0%) in 34.46 sec. Users per second: 1033\n"
     ]
    },
    {
     "name": "stderr",
     "output_type": "stream",
     "text": [
      "[I 2024-12-24 15:47:52,552] Trial 429 finished with value: 0.01847056056116323 and parameters: {'topK': 97, 'alpha': 0.35703841995892704, 'beta': 0.15355620451213994, 'normalize_similarity': True, 'implicit': False}. Best is trial 94 with value: 0.023107177974434116.\n"
     ]
    },
    {
     "name": "stdout",
     "output_type": "stream",
     "text": [
      "RP3betaRecommender: Similarity column 38121 (100.0%), 733.12 column/sec. Elapsed time 52.00 sec\n",
      "EvaluatorHoldout: Processed 35595 (100.0%) in 32.57 sec. Users per second: 1093\n"
     ]
    },
    {
     "name": "stderr",
     "output_type": "stream",
     "text": [
      "[I 2024-12-24 15:49:18,963] Trial 430 finished with value: 0.021813372218765843 and parameters: {'topK': 24, 'alpha': 0.30720640134025645, 'beta': 0.38775789491017465, 'normalize_similarity': True, 'implicit': True}. Best is trial 94 with value: 0.023107177974434116.\n"
     ]
    },
    {
     "name": "stdout",
     "output_type": "stream",
     "text": [
      "RP3betaRecommender: Similarity column 38121 (100.0%), 710.68 column/sec. Elapsed time 53.64 sec\n",
      "EvaluatorHoldout: Processed 35595 (100.0%) in 34.05 sec. Users per second: 1045\n"
     ]
    },
    {
     "name": "stderr",
     "output_type": "stream",
     "text": [
      "[I 2024-12-24 15:50:49,554] Trial 431 finished with value: 0.020075270291662943 and parameters: {'topK': 58, 'alpha': 0.265082590039607, 'beta': 0.4060736385246589, 'normalize_similarity': True, 'implicit': True}. Best is trial 94 with value: 0.023107177974434116.\n"
     ]
    },
    {
     "name": "stdout",
     "output_type": "stream",
     "text": [
      "RP3betaRecommender: Similarity column 38121 (100.0%), 735.97 column/sec. Elapsed time 51.80 sec\n",
      "EvaluatorHoldout: Processed 35595 (100.0%) in 32.62 sec. Users per second: 1091\n"
     ]
    },
    {
     "name": "stderr",
     "output_type": "stream",
     "text": [
      "[I 2024-12-24 15:52:15,888] Trial 432 finished with value: 0.021481174901950013 and parameters: {'topK': 22, 'alpha': 0.41588992759389454, 'beta': 0.4990313059556309, 'normalize_similarity': True, 'implicit': True}. Best is trial 94 with value: 0.023107177974434116.\n"
     ]
    },
    {
     "name": "stdout",
     "output_type": "stream",
     "text": [
      "RP3betaRecommender: Similarity column 38121 (100.0%), 697.82 column/sec. Elapsed time 54.63 sec\n",
      "EvaluatorHoldout: Processed 35595 (100.0%) in 34.55 sec. Users per second: 1030\n"
     ]
    },
    {
     "name": "stderr",
     "output_type": "stream",
     "text": [
      "[I 2024-12-24 15:53:48,540] Trial 433 finished with value: 0.019828790382098446 and parameters: {'topK': 75, 'alpha': 0.28798227043039726, 'beta': 0.43441870031981095, 'normalize_similarity': True, 'implicit': True}. Best is trial 94 with value: 0.023107177974434116.\n"
     ]
    },
    {
     "name": "stdout",
     "output_type": "stream",
     "text": [
      "RP3betaRecommender: Similarity column 38121 (100.0%), 972.55 column/sec. Elapsed time 39.20 sec\n",
      "EvaluatorHoldout: Processed 35595 (100.0%) in 26.59 sec. Users per second: 1339\n"
     ]
    },
    {
     "name": "stderr",
     "output_type": "stream",
     "text": [
      "[I 2024-12-24 15:54:55,425] Trial 434 finished with value: 0.008238383980272004 and parameters: {'topK': 1, 'alpha': 0.16665506154509263, 'beta': 0.3558482985357378, 'normalize_similarity': True, 'implicit': True}. Best is trial 94 with value: 0.023107177974434116.\n"
     ]
    },
    {
     "name": "stdout",
     "output_type": "stream",
     "text": [
      "RP3betaRecommender: Similarity column 38121 (100.0%), 768.33 column/sec. Elapsed time 49.62 sec\n",
      "EvaluatorHoldout: Processed 35595 (100.0%) in 28.71 sec. Users per second: 1240\n"
     ]
    },
    {
     "name": "stderr",
     "output_type": "stream",
     "text": [
      "[I 2024-12-24 15:56:14,997] Trial 435 finished with value: 0.002055019320084632 and parameters: {'topK': 46, 'alpha': 0.469988893708391, 'beta': 2.0513946869905175, 'normalize_similarity': True, 'implicit': True}. Best is trial 94 with value: 0.023107177974434116.\n"
     ]
    },
    {
     "name": "stdout",
     "output_type": "stream",
     "text": [
      "RP3betaRecommender: Similarity column 38121 (100.0%), 356.78 column/sec. Elapsed time 1.78 min\n",
      "EvaluatorHoldout: Processed 35595 (100.0%) in 54.77 sec. Users per second: 650\n"
     ]
    },
    {
     "name": "stderr",
     "output_type": "stream",
     "text": [
      "[I 2024-12-24 15:59:34,298] Trial 436 finished with value: 0.016881297979696785 and parameters: {'topK': 1055, 'alpha': 0.3683093698934724, 'beta': 0.38757754290668567, 'normalize_similarity': True, 'implicit': True}. Best is trial 94 with value: 0.023107177974434116.\n"
     ]
    },
    {
     "name": "stdout",
     "output_type": "stream",
     "text": [
      "RP3betaRecommender: Similarity column 38121 (100.0%), 636.99 column/sec. Elapsed time 59.85 sec\n",
      "EvaluatorHoldout: Processed 35595 (100.0%) in 37.89 sec. Users per second: 939\n"
     ]
    },
    {
     "name": "stderr",
     "output_type": "stream",
     "text": [
      "[I 2024-12-24 16:01:18,792] Trial 437 finished with value: 0.017707208743871345 and parameters: {'topK': 181, 'alpha': 0.22559238951444058, 'beta': 0.4894364933350592, 'normalize_similarity': True, 'implicit': True}. Best is trial 94 with value: 0.023107177974434116.\n"
     ]
    },
    {
     "name": "stdout",
     "output_type": "stream",
     "text": [
      "RP3betaRecommender: Similarity column 38121 (100.0%), 736.34 column/sec. Elapsed time 51.77 sec\n",
      "EvaluatorHoldout: Processed 35595 (100.0%) in 33.22 sec. Users per second: 1071\n"
     ]
    },
    {
     "name": "stderr",
     "output_type": "stream",
     "text": [
      "[I 2024-12-24 16:02:45,989] Trial 438 finished with value: 0.014752154417978607 and parameters: {'topK': 28, 'alpha': 1.1091520347457546, 'beta': 0.320836509562909, 'normalize_similarity': True, 'implicit': True}. Best is trial 94 with value: 0.023107177974434116.\n"
     ]
    },
    {
     "name": "stdout",
     "output_type": "stream",
     "text": [
      "RP3betaRecommender: Similarity column 38121 (100.0%), 687.53 column/sec. Elapsed time 55.45 sec\n",
      "EvaluatorHoldout: Processed 35595 (100.0%) in 36.34 sec. Users per second: 979\n"
     ]
    },
    {
     "name": "stderr",
     "output_type": "stream",
     "text": [
      "[I 2024-12-24 16:04:22,275] Trial 439 finished with value: 0.017227801969689923 and parameters: {'topK': 93, 'alpha': 0.5590163962724397, 'beta': 0.4330625940371727, 'normalize_similarity': False, 'implicit': True}. Best is trial 94 with value: 0.023107177974434116.\n"
     ]
    },
    {
     "name": "stdout",
     "output_type": "stream",
     "text": [
      "RP3betaRecommender: Similarity column 38121 (100.0%), 656.24 column/sec. Elapsed time 58.09 sec\n",
      "EvaluatorHoldout: Processed 35595 (100.0%) in 37.48 sec. Users per second: 950\n"
     ]
    },
    {
     "name": "stderr",
     "output_type": "stream",
     "text": [
      "[I 2024-12-24 16:06:03,495] Trial 440 finished with value: 0.019968106810078833 and parameters: {'topK': 140, 'alpha': 0.4285405196549774, 'beta': 0.3711603311291576, 'normalize_similarity': True, 'implicit': True}. Best is trial 94 with value: 0.023107177974434116.\n"
     ]
    },
    {
     "name": "stdout",
     "output_type": "stream",
     "text": [
      "RP3betaRecommender: Similarity column 38121 (100.0%), 707.67 column/sec. Elapsed time 53.87 sec\n",
      "EvaluatorHoldout: Processed 35595 (100.0%) in 34.19 sec. Users per second: 1041\n"
     ]
    },
    {
     "name": "stderr",
     "output_type": "stream",
     "text": [
      "[I 2024-12-24 16:07:34,203] Trial 441 finished with value: 0.020281461191490508 and parameters: {'topK': 57, 'alpha': 0.3185117760396623, 'beta': 0.28889756012208145, 'normalize_similarity': True, 'implicit': True}. Best is trial 94 with value: 0.023107177974434116.\n"
     ]
    },
    {
     "name": "stdout",
     "output_type": "stream",
     "text": [
      "RP3betaRecommender: Similarity column 38121 (100.0%), 1060.24 column/sec. Elapsed time 35.96 sec\n",
      "EvaluatorHoldout: Processed 35595 (100.0%) in 24.47 sec. Users per second: 1455\n"
     ]
    },
    {
     "name": "stderr",
     "output_type": "stream",
     "text": [
      "[I 2024-12-24 16:08:35,210] Trial 442 finished with value: 0.00028209999175022335 and parameters: {'topK': 0, 'alpha': 0.515391507266829, 'beta': 0.5515803688909166, 'normalize_similarity': True, 'implicit': True}. Best is trial 94 with value: 0.023107177974434116.\n"
     ]
    },
    {
     "name": "stdout",
     "output_type": "stream",
     "text": [
      "RP3betaRecommender: Similarity column 38121 (100.0%), 724.29 column/sec. Elapsed time 52.63 sec\n",
      "EvaluatorHoldout: Processed 35595 (100.0%) in 33.06 sec. Users per second: 1077\n"
     ]
    },
    {
     "name": "stderr",
     "output_type": "stream",
     "text": [
      "[I 2024-12-24 16:10:02,925] Trial 443 finished with value: 0.021831451492428808 and parameters: {'topK': 29, 'alpha': 0.3953841343703998, 'beta': 0.335029449625336, 'normalize_similarity': True, 'implicit': False}. Best is trial 94 with value: 0.023107177974434116.\n"
     ]
    },
    {
     "name": "stdout",
     "output_type": "stream",
     "text": [
      "RP3betaRecommender: Similarity column 38121 (100.0%), 697.27 column/sec. Elapsed time 54.67 sec\n",
      "EvaluatorHoldout: Processed 35595 (100.0%) in 34.38 sec. Users per second: 1035\n"
     ]
    },
    {
     "name": "stderr",
     "output_type": "stream",
     "text": [
      "[I 2024-12-24 16:11:35,086] Trial 444 finished with value: 0.02014733543368177 and parameters: {'topK': 71, 'alpha': 0.4711874465828678, 'beta': 0.2513395974493853, 'normalize_similarity': True, 'implicit': False}. Best is trial 94 with value: 0.023107177974434116.\n"
     ]
    },
    {
     "name": "stdout",
     "output_type": "stream",
     "text": [
      "RP3betaRecommender: Similarity column 38121 (100.0%), 717.25 column/sec. Elapsed time 53.15 sec\n",
      "EvaluatorHoldout: Processed 35595 (100.0%) in 33.62 sec. Users per second: 1059\n"
     ]
    },
    {
     "name": "stderr",
     "output_type": "stream",
     "text": [
      "[I 2024-12-24 16:13:04,113] Trial 445 finished with value: 0.020543301292985063 and parameters: {'topK': 45, 'alpha': 0.4206743232221411, 'beta': 0.20814295206897776, 'normalize_similarity': True, 'implicit': False}. Best is trial 94 with value: 0.023107177974434116.\n"
     ]
    },
    {
     "name": "stdout",
     "output_type": "stream",
     "text": [
      "RP3betaRecommender: Similarity column 38121 (100.0%), 674.49 column/sec. Elapsed time 56.52 sec\n",
      "EvaluatorHoldout: Processed 35595 (100.0%) in 36.09 sec. Users per second: 986\n"
     ]
    },
    {
     "name": "stderr",
     "output_type": "stream",
     "text": [
      "[I 2024-12-24 16:14:40,842] Trial 446 finished with value: 0.020114190284438702 and parameters: {'topK': 98, 'alpha': 0.38875024178706746, 'beta': 0.32065664933590965, 'normalize_similarity': True, 'implicit': False}. Best is trial 94 with value: 0.023107177974434116.\n"
     ]
    },
    {
     "name": "stdout",
     "output_type": "stream",
     "text": [
      "RP3betaRecommender: Similarity column 38121 (100.0%), 287.87 column/sec. Elapsed time 2.21 min\n",
      "EvaluatorHoldout: Processed 35595 (100.0%) in 1.04 min. Users per second: 569\n"
     ]
    },
    {
     "name": "stderr",
     "output_type": "stream",
     "text": [
      "[I 2024-12-24 16:18:50,622] Trial 447 finished with value: 0.01671737046178693 and parameters: {'topK': 1498, 'alpha': 0.5030752390931095, 'beta': 0.32373065557520836, 'normalize_similarity': True, 'implicit': False}. Best is trial 94 with value: 0.023107177974434116.\n"
     ]
    },
    {
     "name": "stdout",
     "output_type": "stream",
     "text": [
      "RP3betaRecommender: Similarity column 38121 (100.0%), 721.21 column/sec. Elapsed time 52.86 sec\n",
      "EvaluatorHoldout: Processed 35595 (100.0%) in 33.24 sec. Users per second: 1071\n"
     ]
    },
    {
     "name": "stderr",
     "output_type": "stream",
     "text": [
      "[I 2024-12-24 16:20:18,769] Trial 448 finished with value: 0.021667729104096294 and parameters: {'topK': 25, 'alpha': 0.4380722999039368, 'beta': 0.45107550003842434, 'normalize_similarity': True, 'implicit': False}. Best is trial 94 with value: 0.023107177974434116.\n"
     ]
    },
    {
     "name": "stdout",
     "output_type": "stream",
     "text": [
      "RP3betaRecommender: Similarity column 38121 (100.0%), 706.50 column/sec. Elapsed time 53.96 sec\n",
      "EvaluatorHoldout: Processed 35595 (100.0%) in 34.82 sec. Users per second: 1022\n"
     ]
    },
    {
     "name": "stderr",
     "output_type": "stream",
     "text": [
      "[I 2024-12-24 16:21:50,589] Trial 449 finished with value: 0.019731940235943553 and parameters: {'topK': 56, 'alpha': 0.6232474023892527, 'beta': 0.2820235506123061, 'normalize_similarity': True, 'implicit': False}. Best is trial 94 with value: 0.023107177974434116.\n"
     ]
    },
    {
     "name": "stdout",
     "output_type": "stream",
     "text": [
      "RP3betaRecommender: Similarity column 38121 (100.0%), 957.44 column/sec. Elapsed time 39.82 sec\n",
      "EvaluatorHoldout: Processed 35595 (100.0%) in 26.38 sec. Users per second: 1349\n"
     ]
    },
    {
     "name": "stderr",
     "output_type": "stream",
     "text": [
      "[I 2024-12-24 16:22:57,890] Trial 450 finished with value: 0.008261515684609023 and parameters: {'topK': 1, 'alpha': 0.36899120187620216, 'beta': 0.7393592058542359, 'normalize_similarity': True, 'implicit': False}. Best is trial 94 with value: 0.023107177974434116.\n"
     ]
    },
    {
     "name": "stdout",
     "output_type": "stream",
     "text": [
      "RP3betaRecommender: Similarity column 38121 (100.0%), 1056.29 column/sec. Elapsed time 36.09 sec\n",
      "EvaluatorHoldout: Processed 35595 (100.0%) in 24.85 sec. Users per second: 1433\n"
     ]
    },
    {
     "name": "stderr",
     "output_type": "stream",
     "text": [
      "[I 2024-12-24 16:23:59,418] Trial 451 finished with value: 0.00028209999175022335 and parameters: {'topK': 0, 'alpha': 0.5611795266430321, 'beta': 0.36792717428129085, 'normalize_similarity': True, 'implicit': False}. Best is trial 94 with value: 0.023107177974434116.\n"
     ]
    },
    {
     "name": "stdout",
     "output_type": "stream",
     "text": [
      "RP3betaRecommender: Similarity column 38121 (100.0%), 693.87 column/sec. Elapsed time 54.94 sec\n",
      "EvaluatorHoldout: Processed 35595 (100.0%) in 34.88 sec. Users per second: 1021\n"
     ]
    },
    {
     "name": "stderr",
     "output_type": "stream",
     "text": [
      "[I 2024-12-24 16:25:32,380] Trial 452 finished with value: 0.01954803822545074 and parameters: {'topK': 77, 'alpha': 0.4989102329036804, 'beta': 0.19437184785722178, 'normalize_similarity': True, 'implicit': False}. Best is trial 94 with value: 0.023107177974434116.\n"
     ]
    },
    {
     "name": "stdout",
     "output_type": "stream",
     "text": [
      "RP3betaRecommender: Similarity column 38121 (100.0%), 713.82 column/sec. Elapsed time 53.40 sec\n",
      "EvaluatorHoldout: Processed 35595 (100.0%) in 34.16 sec. Users per second: 1042\n"
     ]
    },
    {
     "name": "stderr",
     "output_type": "stream",
     "text": [
      "[I 2024-12-24 16:27:02,483] Trial 453 finished with value: 0.021192885348173658 and parameters: {'topK': 43, 'alpha': 0.36783025933929486, 'beta': 0.4205031398119181, 'normalize_similarity': True, 'implicit': False}. Best is trial 94 with value: 0.023107177974434116.\n"
     ]
    },
    {
     "name": "stdout",
     "output_type": "stream",
     "text": [
      "RP3betaRecommender: Similarity column 38121 (100.0%), 728.12 column/sec. Elapsed time 52.36 sec\n",
      "EvaluatorHoldout: Processed 35595 (100.0%) in 33.17 sec. Users per second: 1073\n"
     ]
    },
    {
     "name": "stderr",
     "output_type": "stream",
     "text": [
      "[I 2024-12-24 16:28:30,021] Trial 454 finished with value: 0.021415837787097623 and parameters: {'topK': 32, 'alpha': 0.4344099483884371, 'beta': 0.26213999649482306, 'normalize_similarity': True, 'implicit': False}. Best is trial 94 with value: 0.023107177974434116.\n"
     ]
    },
    {
     "name": "stdout",
     "output_type": "stream",
     "text": [
      "RP3betaRecommender: Similarity column 38121 (100.0%), 623.78 column/sec. Elapsed time 1.02 min\n",
      "EvaluatorHoldout: Processed 35595 (100.0%) in 37.30 sec. Users per second: 954\n"
     ]
    },
    {
     "name": "stderr",
     "output_type": "stream",
     "text": [
      "[I 2024-12-24 16:30:13,030] Trial 455 finished with value: 0.01640617774477894 and parameters: {'topK': 117, 'alpha': 0.3186046615325945, 'beta': 0.3477577487202951, 'normalize_similarity': False, 'implicit': False}. Best is trial 94 with value: 0.023107177974434116.\n"
     ]
    },
    {
     "name": "stdout",
     "output_type": "stream",
     "text": [
      "RP3betaRecommender: Similarity column 38121 (100.0%), 399.51 column/sec. Elapsed time 1.59 min\n",
      "EvaluatorHoldout: Processed 35595 (100.0%) in 52.73 sec. Users per second: 675\n"
     ]
    },
    {
     "name": "stderr",
     "output_type": "stream",
     "text": [
      "[I 2024-12-24 16:33:12,696] Trial 456 finished with value: 0.017510429278233847 and parameters: {'topK': 804, 'alpha': 0.3990365068633104, 'beta': 0.482543313756837, 'normalize_similarity': True, 'implicit': False}. Best is trial 94 with value: 0.023107177974434116.\n"
     ]
    },
    {
     "name": "stdout",
     "output_type": "stream",
     "text": [
      "RP3betaRecommender: Similarity column 38121 (100.0%), 703.81 column/sec. Elapsed time 54.16 sec\n",
      "EvaluatorHoldout: Processed 35595 (100.0%) in 34.33 sec. Users per second: 1037\n"
     ]
    },
    {
     "name": "stderr",
     "output_type": "stream",
     "text": [
      "[I 2024-12-24 16:34:43,706] Trial 457 finished with value: 0.019155317649839364 and parameters: {'topK': 61, 'alpha': 0.4655757036941318, 'beta': 0.11612446521747105, 'normalize_similarity': True, 'implicit': False}. Best is trial 94 with value: 0.023107177974434116.\n"
     ]
    },
    {
     "name": "stdout",
     "output_type": "stream",
     "text": [
      "RP3betaRecommender: Similarity column 38121 (100.0%), 1047.80 column/sec. Elapsed time 36.38 sec\n",
      "EvaluatorHoldout: Processed 35595 (100.0%) in 25.29 sec. Users per second: 1408\n"
     ]
    },
    {
     "name": "stderr",
     "output_type": "stream",
     "text": [
      "[I 2024-12-24 16:35:45,986] Trial 458 finished with value: 0.00028209999175022335 and parameters: {'topK': 0, 'alpha': 0.799817764828697, 'beta': 0.3099769561944416, 'normalize_similarity': True, 'implicit': False}. Best is trial 94 with value: 0.023107177974434116.\n"
     ]
    },
    {
     "name": "stdout",
     "output_type": "stream",
     "text": [
      "RP3betaRecommender: Similarity column 38121 (100.0%), 720.29 column/sec. Elapsed time 52.92 sec\n",
      "EvaluatorHoldout: Processed 35595 (100.0%) in 33.47 sec. Users per second: 1063\n"
     ]
    },
    {
     "name": "stderr",
     "output_type": "stream",
     "text": [
      "[I 2024-12-24 16:37:14,373] Trial 459 finished with value: 0.021273328472653997 and parameters: {'topK': 29, 'alpha': 0.2637647909026672, 'beta': 0.39604605678581034, 'normalize_similarity': True, 'implicit': False}. Best is trial 94 with value: 0.023107177974434116.\n"
     ]
    },
    {
     "name": "stdout",
     "output_type": "stream",
     "text": [
      "RP3betaRecommender: Similarity column 38121 (100.0%), 678.75 column/sec. Elapsed time 56.16 sec\n",
      "EvaluatorHoldout: Processed 35595 (100.0%) in 36.12 sec. Users per second: 986\n"
     ]
    },
    {
     "name": "stderr",
     "output_type": "stream",
     "text": [
      "[I 2024-12-24 16:38:50,512] Trial 460 finished with value: 0.019328513903102962 and parameters: {'topK': 93, 'alpha': 0.5439011158308991, 'beta': 0.21939470954187207, 'normalize_similarity': True, 'implicit': False}. Best is trial 94 with value: 0.023107177974434116.\n"
     ]
    },
    {
     "name": "stdout",
     "output_type": "stream",
     "text": [
      "RP3betaRecommender: Similarity column 38121 (100.0%), 702.90 column/sec. Elapsed time 54.23 sec\n",
      "EvaluatorHoldout: Processed 35595 (100.0%) in 34.78 sec. Users per second: 1023\n"
     ]
    },
    {
     "name": "stderr",
     "output_type": "stream",
     "text": [
      "[I 2024-12-24 16:40:22,177] Trial 461 finished with value: 0.020878496400198683 and parameters: {'topK': 50, 'alpha': 0.33886708213084116, 'beta': 0.352446340376951, 'normalize_similarity': True, 'implicit': False}. Best is trial 94 with value: 0.023107177974434116.\n"
     ]
    },
    {
     "name": "stdout",
     "output_type": "stream",
     "text": [
      "RP3betaRecommender: Similarity column 38121 (100.0%), 697.32 column/sec. Elapsed time 54.67 sec\n",
      "EvaluatorHoldout: Processed 35595 (100.0%) in 32.96 sec. Users per second: 1080\n"
     ]
    },
    {
     "name": "stderr",
     "output_type": "stream",
     "text": [
      "[I 2024-12-24 16:41:52,046] Trial 462 finished with value: 0.010046450700896735 and parameters: {'topK': 75, 'alpha': 0.41295366410228945, 'beta': 0.986654806040622, 'normalize_similarity': True, 'implicit': False}. Best is trial 94 with value: 0.023107177974434116.\n"
     ]
    },
    {
     "name": "stdout",
     "output_type": "stream",
     "text": [
      "RP3betaRecommender: Similarity column 38121 (100.0%), 335.94 column/sec. Elapsed time 1.89 min\n",
      "EvaluatorHoldout: Processed 35595 (100.0%) in 56.69 sec. Users per second: 628\n"
     ]
    },
    {
     "name": "stderr",
     "output_type": "stream",
     "text": [
      "[I 2024-12-24 16:45:22,841] Trial 463 finished with value: 0.016477163726847807 and parameters: {'topK': 1159, 'alpha': 0.4901701350112245, 'beta': 0.2741709162498102, 'normalize_similarity': True, 'implicit': False}. Best is trial 94 with value: 0.023107177974434116.\n"
     ]
    },
    {
     "name": "stdout",
     "output_type": "stream",
     "text": [
      "RP3betaRecommender: Similarity column 38121 (100.0%), 723.15 column/sec. Elapsed time 52.71 sec\n",
      "EvaluatorHoldout: Processed 35595 (100.0%) in 33.43 sec. Users per second: 1065\n"
     ]
    },
    {
     "name": "stderr",
     "output_type": "stream",
     "text": [
      "[I 2024-12-24 16:46:51,019] Trial 464 finished with value: 0.021223758464381882 and parameters: {'topK': 27, 'alpha': 0.36638949375947727, 'beta': 0.5148024466532098, 'normalize_similarity': True, 'implicit': False}. Best is trial 94 with value: 0.023107177974434116.\n"
     ]
    },
    {
     "name": "stdout",
     "output_type": "stream",
     "text": [
      "RP3betaRecommender: Similarity column 38121 (100.0%), 543.50 column/sec. Elapsed time 1.17 min\n",
      "EvaluatorHoldout: Processed 35595 (100.0%) in 41.99 sec. Users per second: 848\n"
     ]
    },
    {
     "name": "stderr",
     "output_type": "stream",
     "text": [
      "[I 2024-12-24 16:48:55,604] Trial 465 finished with value: 0.017114463418930474 and parameters: {'topK': 338, 'alpha': 0.2514282245091515, 'beta': 0.43926526503896157, 'normalize_similarity': True, 'implicit': False}. Best is trial 94 with value: 0.023107177974434116.\n"
     ]
    },
    {
     "name": "stdout",
     "output_type": "stream",
     "text": [
      "RP3betaRecommender: Similarity column 38121 (100.0%), 1043.21 column/sec. Elapsed time 36.54 sec\n",
      "EvaluatorHoldout: Processed 35595 (100.0%) in 24.77 sec. Users per second: 1437\n"
     ]
    },
    {
     "name": "stderr",
     "output_type": "stream",
     "text": [
      "[I 2024-12-24 16:49:57,494] Trial 466 finished with value: 0.00028209999175022335 and parameters: {'topK': 0, 'alpha': 0.6767923925079354, 'beta': 0.3203711104862418, 'normalize_similarity': True, 'implicit': False}. Best is trial 94 with value: 0.023107177974434116.\n"
     ]
    },
    {
     "name": "stdout",
     "output_type": "stream",
     "text": [
      "RP3betaRecommender: Similarity column 38121 (100.0%), 711.95 column/sec. Elapsed time 53.54 sec\n",
      "EvaluatorHoldout: Processed 35595 (100.0%) in 34.79 sec. Users per second: 1023\n"
     ]
    },
    {
     "name": "stderr",
     "output_type": "stream",
     "text": [
      "[I 2024-12-24 16:51:28,498] Trial 467 finished with value: 0.021223662588601207 and parameters: {'topK': 44, 'alpha': 0.448654918879696, 'beta': 0.4022223801760827, 'normalize_similarity': True, 'implicit': False}. Best is trial 94 with value: 0.023107177974434116.\n"
     ]
    },
    {
     "name": "stdout",
     "output_type": "stream",
     "text": [
      "RP3betaRecommender: Similarity column 38121 (100.0%), 725.56 column/sec. Elapsed time 52.54 sec\n",
      "EvaluatorHoldout: Processed 35595 (100.0%) in 31.59 sec. Users per second: 1127\n"
     ]
    },
    {
     "name": "stderr",
     "output_type": "stream",
     "text": [
      "[I 2024-12-24 16:52:54,475] Trial 468 finished with value: 0.005075446435539154 and parameters: {'topK': 72, 'alpha': 0.34176549610682244, 'beta': 1.2764534545952566, 'normalize_similarity': True, 'implicit': False}. Best is trial 94 with value: 0.023107177974434116.\n"
     ]
    },
    {
     "name": "stdout",
     "output_type": "stream",
     "text": [
      "RP3betaRecommender: Similarity column 38121 (100.0%), 725.33 column/sec. Elapsed time 52.56 sec\n",
      "EvaluatorHoldout: Processed 35595 (100.0%) in 33.69 sec. Users per second: 1056\n"
     ]
    },
    {
     "name": "stderr",
     "output_type": "stream",
     "text": [
      "[I 2024-12-24 16:54:22,773] Trial 469 finished with value: 0.020484129213796023 and parameters: {'topK': 30, 'alpha': 0.5792653474809051, 'beta': 0.16882545024896453, 'normalize_similarity': True, 'implicit': False}. Best is trial 94 with value: 0.023107177974434116.\n"
     ]
    },
    {
     "name": "stdout",
     "output_type": "stream",
     "text": [
      "RP3betaRecommender: Similarity column 38121 (100.0%), 665.24 column/sec. Elapsed time 57.30 sec\n",
      "EvaluatorHoldout: Processed 35595 (100.0%) in 36.94 sec. Users per second: 964\n"
     ]
    },
    {
     "name": "stderr",
     "output_type": "stream",
     "text": [
      "[I 2024-12-24 16:56:02,133] Trial 470 finished with value: 0.019938413188939786 and parameters: {'topK': 127, 'alpha': 0.4025437245022878, 'beta': 0.360774667210727, 'normalize_similarity': True, 'implicit': False}. Best is trial 94 with value: 0.023107177974434116.\n"
     ]
    },
    {
     "name": "stdout",
     "output_type": "stream",
     "text": [
      "RP3betaRecommender: Similarity column 38121 (100.0%), 682.03 column/sec. Elapsed time 55.89 sec\n",
      "EvaluatorHoldout: Processed 35595 (100.0%) in 35.15 sec. Users per second: 1013\n"
     ]
    },
    {
     "name": "stderr",
     "output_type": "stream",
     "text": [
      "[I 2024-12-24 16:57:36,669] Trial 471 finished with value: 0.019112277228164262 and parameters: {'topK': 95, 'alpha': 0.284268761471597, 'beta': 0.2481734647526029, 'normalize_similarity': True, 'implicit': False}. Best is trial 94 with value: 0.023107177974434116.\n"
     ]
    },
    {
     "name": "stdout",
     "output_type": "stream",
     "text": [
      "RP3betaRecommender: Similarity column 38121 (100.0%), 734.00 column/sec. Elapsed time 51.94 sec\n",
      "EvaluatorHoldout: Processed 35595 (100.0%) in 33.00 sec. Users per second: 1079\n"
     ]
    },
    {
     "name": "stderr",
     "output_type": "stream",
     "text": [
      "[I 2024-12-24 16:59:03,490] Trial 472 finished with value: 0.019188303377725906 and parameters: {'topK': 26, 'alpha': 0.46469645739618803, 'beta': 0.6031182612196895, 'normalize_similarity': True, 'implicit': False}. Best is trial 94 with value: 0.023107177974434116.\n"
     ]
    },
    {
     "name": "stdout",
     "output_type": "stream",
     "text": [
      "RP3betaRecommender: Similarity column 38121 (100.0%), 743.76 column/sec. Elapsed time 51.25 sec\n",
      "EvaluatorHoldout: Processed 35595 (100.0%) in 30.89 sec. Users per second: 1152\n"
     ]
    },
    {
     "name": "stderr",
     "output_type": "stream",
     "text": [
      "[I 2024-12-24 17:00:27,169] Trial 473 finished with value: 0.003991501615395398 and parameters: {'topK': 59, 'alpha': 0.38314837758130993, 'beta': 1.4297576674973356, 'normalize_similarity': True, 'implicit': False}. Best is trial 94 with value: 0.023107177974434116.\n"
     ]
    },
    {
     "name": "stdout",
     "output_type": "stream",
     "text": [
      "RP3betaRecommender: Similarity column 38121 (100.0%), 644.28 column/sec. Elapsed time 59.17 sec\n",
      "EvaluatorHoldout: Processed 35595 (100.0%) in 39.14 sec. Users per second: 910\n"
     ]
    },
    {
     "name": "stderr",
     "output_type": "stream",
     "text": [
      "[I 2024-12-24 17:02:12,758] Trial 474 finished with value: 0.017228787483528445 and parameters: {'topK': 163, 'alpha': 0.5171186345563946, 'beta': 0.47244387608174065, 'normalize_similarity': False, 'implicit': False}. Best is trial 94 with value: 0.023107177974434116.\n"
     ]
    },
    {
     "name": "stdout",
     "output_type": "stream",
     "text": [
      "RP3betaRecommender: Similarity column 38121 (100.0%), 711.01 column/sec. Elapsed time 53.62 sec\n",
      "EvaluatorHoldout: Processed 35595 (100.0%) in 34.05 sec. Users per second: 1045\n"
     ]
    },
    {
     "name": "stderr",
     "output_type": "stream",
     "text": [
      "[I 2024-12-24 17:03:42,872] Trial 475 finished with value: 0.020427696283363952 and parameters: {'topK': 50, 'alpha': 0.3050292127867903, 'beta': 0.29554808656321674, 'normalize_similarity': True, 'implicit': False}. Best is trial 94 with value: 0.023107177974434116.\n"
     ]
    },
    {
     "name": "stdout",
     "output_type": "stream",
     "text": [
      "RP3betaRecommender: Similarity column 38121 (100.0%), 754.21 column/sec. Elapsed time 50.54 sec\n",
      "EvaluatorHoldout: Processed 35595 (100.0%) in 29.88 sec. Users per second: 1191\n"
     ]
    },
    {
     "name": "stderr",
     "output_type": "stream",
     "text": [
      "[I 2024-12-24 17:05:04,604] Trial 476 finished with value: 0.008299414488837253 and parameters: {'topK': 26, 'alpha': 0.2071614708204315, 'beta': 1.0795646746642737, 'normalize_similarity': True, 'implicit': False}. Best is trial 94 with value: 0.023107177974434116.\n"
     ]
    },
    {
     "name": "stdout",
     "output_type": "stream",
     "text": [
      "RP3betaRecommender: Similarity column 38121 (100.0%), 1049.94 column/sec. Elapsed time 36.31 sec\n",
      "EvaluatorHoldout: Processed 35595 (100.0%) in 24.78 sec. Users per second: 1436\n"
     ]
    },
    {
     "name": "stderr",
     "output_type": "stream",
     "text": [
      "[I 2024-12-24 17:06:06,279] Trial 477 finished with value: 0.00028209999175022335 and parameters: {'topK': 0, 'alpha': 0.43065452052602354, 'beta': 0.40336242436009095, 'normalize_similarity': True, 'implicit': False}. Best is trial 94 with value: 0.023107177974434116.\n"
     ]
    },
    {
     "name": "stdout",
     "output_type": "stream",
     "text": [
      "RP3betaRecommender: Similarity column 38121 (100.0%), 690.81 column/sec. Elapsed time 55.18 sec\n",
      "EvaluatorHoldout: Processed 35595 (100.0%) in 34.96 sec. Users per second: 1018\n"
     ]
    },
    {
     "name": "stderr",
     "output_type": "stream",
     "text": [
      "[I 2024-12-24 17:07:39,447] Trial 478 finished with value: 0.019452720976951863 and parameters: {'topK': 79, 'alpha': 0.348168145982812, 'beta': 0.21203279082205245, 'normalize_similarity': True, 'implicit': True}. Best is trial 94 with value: 0.023107177974434116.\n"
     ]
    },
    {
     "name": "stdout",
     "output_type": "stream",
     "text": [
      "RP3betaRecommender: Similarity column 38121 (100.0%), 994.89 column/sec. Elapsed time 38.32 sec\n",
      "EvaluatorHoldout: Processed 35595 (100.0%) in 34.54 sec. Users per second: 1031\n"
     ]
    },
    {
     "name": "stderr",
     "output_type": "stream",
     "text": [
      "[I 2024-12-24 17:08:52,956] Trial 479 finished with value: 0.00028209999175022335 and parameters: {'topK': 0, 'alpha': 0.0005156162338462167, 'beta': 0.341182572595772, 'normalize_similarity': True, 'implicit': False}. Best is trial 94 with value: 0.023107177974434116.\n"
     ]
    },
    {
     "name": "stdout",
     "output_type": "stream",
     "text": [
      "RP3betaRecommender: Similarity column 38121 (100.0%), 665.36 column/sec. Elapsed time 57.29 sec\n",
      "EvaluatorHoldout: Processed 35595 (100.0%) in 35.81 sec. Users per second: 994\n"
     ]
    },
    {
     "name": "stderr",
     "output_type": "stream",
     "text": [
      "[I 2024-12-24 17:10:29,453] Trial 480 finished with value: 0.02053735587974923 and parameters: {'topK': 49, 'alpha': 0.5208837155844631, 'beta': 0.4365669781106637, 'normalize_similarity': True, 'implicit': False}. Best is trial 94 with value: 0.023107177974434116.\n"
     ]
    },
    {
     "name": "stdout",
     "output_type": "stream",
     "text": [
      "RP3betaRecommender: Similarity column 38121 (100.0%), 665.65 column/sec. Elapsed time 57.27 sec\n",
      "EvaluatorHoldout: Processed 35595 (100.0%) in 36.23 sec. Users per second: 982\n"
     ]
    },
    {
     "name": "stderr",
     "output_type": "stream",
     "text": [
      "[I 2024-12-24 17:12:06,955] Trial 481 finished with value: 0.019972308621908217 and parameters: {'topK': 96, 'alpha': 0.46978439142042683, 'beta': 0.28387184743064886, 'normalize_similarity': True, 'implicit': False}. Best is trial 94 with value: 0.023107177974434116.\n"
     ]
    },
    {
     "name": "stdout",
     "output_type": "stream",
     "text": [
      "RP3betaRecommender: Similarity column 38121 (100.0%), 712.49 column/sec. Elapsed time 53.50 sec\n",
      "EvaluatorHoldout: Processed 35595 (100.0%) in 33.97 sec. Users per second: 1048\n"
     ]
    },
    {
     "name": "stderr",
     "output_type": "stream",
     "text": [
      "[I 2024-12-24 17:13:36,623] Trial 482 finished with value: 0.021769276048668806 and parameters: {'topK': 31, 'alpha': 0.3943610093902605, 'beta': 0.37174815051940036, 'normalize_similarity': True, 'implicit': True}. Best is trial 94 with value: 0.023107177974434116.\n"
     ]
    },
    {
     "name": "stdout",
     "output_type": "stream",
     "text": [
      "RP3betaRecommender: Similarity column 38121 (100.0%), 699.61 column/sec. Elapsed time 54.49 sec\n",
      "EvaluatorHoldout: Processed 35595 (100.0%) in 35.97 sec. Users per second: 990\n"
     ]
    },
    {
     "name": "stderr",
     "output_type": "stream",
     "text": [
      "[I 2024-12-24 17:15:10,795] Trial 483 finished with value: 0.018653305373280037 and parameters: {'topK': 66, 'alpha': 0.6034268658382107, 'beta': 0.5241858254777326, 'normalize_similarity': True, 'implicit': False}. Best is trial 94 with value: 0.023107177974434116.\n"
     ]
    },
    {
     "name": "stdout",
     "output_type": "stream",
     "text": [
      "RP3betaRecommender: Similarity column 38121 (100.0%), 775.40 column/sec. Elapsed time 49.16 sec\n",
      "EvaluatorHoldout: Processed 35595 (100.0%) in 26.04 sec. Users per second: 1367\n"
     ]
    },
    {
     "name": "stderr",
     "output_type": "stream",
     "text": [
      "[I 2024-12-24 17:16:27,122] Trial 484 finished with value: 0.0005045975781331873 and parameters: {'topK': 25, 'alpha': 0.28861614650901984, 'beta': 2.384169008128714, 'normalize_similarity': True, 'implicit': False}. Best is trial 94 with value: 0.023107177974434116.\n"
     ]
    },
    {
     "name": "stdout",
     "output_type": "stream",
     "text": [
      "RP3betaRecommender: Similarity column 38121 (100.0%), 704.36 column/sec. Elapsed time 54.12 sec\n",
      "EvaluatorHoldout: Processed 35595 (100.0%) in 33.53 sec. Users per second: 1062\n"
     ]
    },
    {
     "name": "stderr",
     "output_type": "stream",
     "text": [
      "[I 2024-12-24 17:17:56,926] Trial 485 finished with value: 0.01851235571252428 and parameters: {'topK': 51, 'alpha': 0.42602575732557363, 'beta': 0.057189761522941446, 'normalize_similarity': True, 'implicit': False}. Best is trial 94 with value: 0.023107177974434116.\n"
     ]
    },
    {
     "name": "stdout",
     "output_type": "stream",
     "text": [
      "RP3betaRecommender: Similarity column 38121 (100.0%), 665.73 column/sec. Elapsed time 57.26 sec\n",
      "EvaluatorHoldout: Processed 35595 (100.0%) in 36.24 sec. Users per second: 982\n"
     ]
    },
    {
     "name": "stderr",
     "output_type": "stream",
     "text": [
      "[I 2024-12-24 17:19:34,494] Trial 486 finished with value: 0.01931637558333717 and parameters: {'topK': 112, 'alpha': 0.3560513443254583, 'beta': 0.2534897979913272, 'normalize_similarity': True, 'implicit': True}. Best is trial 94 with value: 0.023107177974434116.\n"
     ]
    },
    {
     "name": "stdout",
     "output_type": "stream",
     "text": [
      "RP3betaRecommender: Similarity column 38121 (100.0%), 727.43 column/sec. Elapsed time 52.40 sec\n",
      "EvaluatorHoldout: Processed 35595 (100.0%) in 33.45 sec. Users per second: 1064\n"
     ]
    },
    {
     "name": "stderr",
     "output_type": "stream",
     "text": [
      "[I 2024-12-24 17:21:02,239] Trial 487 finished with value: 0.021734644824825768 and parameters: {'topK': 21, 'alpha': 0.5220717139429517, 'beta': 0.31960126519961846, 'normalize_similarity': True, 'implicit': False}. Best is trial 94 with value: 0.023107177974434116.\n"
     ]
    },
    {
     "name": "stdout",
     "output_type": "stream",
     "text": [
      "RP3betaRecommender: Similarity column 38121 (100.0%), 596.47 column/sec. Elapsed time 1.07 min\n",
      "EvaluatorHoldout: Processed 35595 (100.0%) in 41.92 sec. Users per second: 849\n"
     ]
    },
    {
     "name": "stderr",
     "output_type": "stream",
     "text": [
      "[I 2024-12-24 17:22:58,717] Trial 488 finished with value: 0.010165985502690275 and parameters: {'topK': 232, 'alpha': 2.13597289089355, 'beta': 0.45103842086743057, 'normalize_similarity': True, 'implicit': False}. Best is trial 94 with value: 0.023107177974434116.\n"
     ]
    },
    {
     "name": "stdout",
     "output_type": "stream",
     "text": [
      "RP3betaRecommender: Similarity column 38121 (100.0%), 1038.72 column/sec. Elapsed time 36.70 sec\n",
      "EvaluatorHoldout: Processed 35595 (100.0%) in 25.08 sec. Users per second: 1419\n"
     ]
    },
    {
     "name": "stderr",
     "output_type": "stream",
     "text": [
      "[I 2024-12-24 17:24:01,095] Trial 489 finished with value: 0.00028209999175022335 and parameters: {'topK': 0, 'alpha': 0.2302451969847519, 'beta': 0.16000581015281073, 'normalize_similarity': True, 'implicit': True}. Best is trial 94 with value: 0.023107177974434116.\n"
     ]
    },
    {
     "name": "stdout",
     "output_type": "stream",
     "text": [
      "RP3betaRecommender: Similarity column 38121 (100.0%), 684.93 column/sec. Elapsed time 55.66 sec\n",
      "EvaluatorHoldout: Processed 35595 (100.0%) in 35.81 sec. Users per second: 994\n"
     ]
    },
    {
     "name": "stderr",
     "output_type": "stream",
     "text": [
      "[I 2024-12-24 17:25:36,190] Trial 490 finished with value: 0.020019802808045432 and parameters: {'topK': 80, 'alpha': 0.3156079657281899, 'beta': 0.3946650557204268, 'normalize_similarity': True, 'implicit': False}. Best is trial 94 with value: 0.023107177974434116.\n"
     ]
    },
    {
     "name": "stdout",
     "output_type": "stream",
     "text": [
      "RP3betaRecommender: Similarity column 38121 (100.0%), 708.96 column/sec. Elapsed time 53.77 sec\n",
      "EvaluatorHoldout: Processed 35595 (100.0%) in 34.81 sec. Users per second: 1022\n"
     ]
    },
    {
     "name": "stderr",
     "output_type": "stream",
     "text": [
      "[I 2024-12-24 17:27:07,503] Trial 491 finished with value: 0.02107572737387291 and parameters: {'topK': 48, 'alpha': 0.46407044282876275, 'beta': 0.3322187559740654, 'normalize_similarity': True, 'implicit': False}. Best is trial 94 with value: 0.023107177974434116.\n"
     ]
    },
    {
     "name": "stdout",
     "output_type": "stream",
     "text": [
      "RP3betaRecommender: Similarity column 38121 (100.0%), 714.86 column/sec. Elapsed time 53.33 sec\n",
      "EvaluatorHoldout: Processed 35595 (100.0%) in 33.08 sec. Users per second: 1076\n"
     ]
    },
    {
     "name": "stderr",
     "output_type": "stream",
     "text": [
      "[I 2024-12-24 17:28:35,831] Trial 492 finished with value: 0.021278710894387095 and parameters: {'topK': 28, 'alpha': 0.3848762283713266, 'beta': 0.21344006070832694, 'normalize_similarity': True, 'implicit': False}. Best is trial 94 with value: 0.023107177974434116.\n"
     ]
    },
    {
     "name": "stdout",
     "output_type": "stream",
     "text": [
      "RP3betaRecommender: Similarity column 38121 (100.0%), 692.28 column/sec. Elapsed time 55.07 sec\n",
      "EvaluatorHoldout: Processed 35595 (100.0%) in 35.93 sec. Users per second: 991\n"
     ]
    },
    {
     "name": "stderr",
     "output_type": "stream",
     "text": [
      "[I 2024-12-24 17:30:10,585] Trial 493 finished with value: 0.017650732334887533 and parameters: {'topK': 72, 'alpha': 0.4414546652650979, 'beta': 0.4919817178402352, 'normalize_similarity': False, 'implicit': True}. Best is trial 94 with value: 0.023107177974434116.\n"
     ]
    },
    {
     "name": "stdout",
     "output_type": "stream",
     "text": [
      "RP3betaRecommender: Similarity column 38121 (100.0%), 720.34 column/sec. Elapsed time 52.92 sec\n",
      "EvaluatorHoldout: Processed 35595 (100.0%) in 32.77 sec. Users per second: 1086\n"
     ]
    },
    {
     "name": "stderr",
     "output_type": "stream",
     "text": [
      "[I 2024-12-24 17:31:38,043] Trial 494 finished with value: 0.019352927667297567 and parameters: {'topK': 26, 'alpha': 0.12271604816667409, 'beta': 0.2878772590943268, 'normalize_similarity': True, 'implicit': False}. Best is trial 94 with value: 0.023107177974434116.\n"
     ]
    },
    {
     "name": "stdout",
     "output_type": "stream",
     "text": [
      "RP3betaRecommender: Similarity column 38121 (100.0%), 1041.97 column/sec. Elapsed time 36.59 sec\n",
      "EvaluatorHoldout: Processed 35595 (100.0%) in 25.10 sec. Users per second: 1418\n"
     ]
    },
    {
     "name": "stderr",
     "output_type": "stream",
     "text": [
      "[I 2024-12-24 17:32:40,343] Trial 495 finished with value: 0.00028209999175022335 and parameters: {'topK': 0, 'alpha': 0.5565186294628307, 'beta': 0.38613404927691536, 'normalize_similarity': True, 'implicit': False}. Best is trial 94 with value: 0.023107177974434116.\n"
     ]
    },
    {
     "name": "stdout",
     "output_type": "stream",
     "text": [
      "RP3betaRecommender: Similarity column 38121 (100.0%), 700.23 column/sec. Elapsed time 54.44 sec\n",
      "EvaluatorHoldout: Processed 35595 (100.0%) in 35.07 sec. Users per second: 1015\n"
     ]
    },
    {
     "name": "stderr",
     "output_type": "stream",
     "text": [
      "[I 2024-12-24 17:34:12,905] Trial 496 finished with value: 0.020540771733144066 and parameters: {'topK': 59, 'alpha': 0.3429381056198826, 'beta': 0.43530008655613167, 'normalize_similarity': True, 'implicit': False}. Best is trial 94 with value: 0.023107177974434116.\n"
     ]
    },
    {
     "name": "stdout",
     "output_type": "stream",
     "text": [
      "RP3betaRecommender: Similarity column 38121 (100.0%), 672.30 column/sec. Elapsed time 56.70 sec\n",
      "EvaluatorHoldout: Processed 35595 (100.0%) in 35.74 sec. Users per second: 996\n"
     ]
    },
    {
     "name": "stderr",
     "output_type": "stream",
     "text": [
      "[I 2024-12-24 17:35:49,149] Trial 497 finished with value: 0.018887574498826058 and parameters: {'topK': 103, 'alpha': 0.2792080904279194, 'beta': 0.2507576570354635, 'normalize_similarity': True, 'implicit': True}. Best is trial 94 with value: 0.023107177974434116.\n"
     ]
    },
    {
     "name": "stdout",
     "output_type": "stream",
     "text": [
      "RP3betaRecommender: Similarity column 38121 (100.0%), 648.66 column/sec. Elapsed time 58.77 sec\n",
      "EvaluatorHoldout: Processed 35595 (100.0%) in 38.08 sec. Users per second: 935\n"
     ]
    },
    {
     "name": "stderr",
     "output_type": "stream",
     "text": [
      "[I 2024-12-24 17:37:31,838] Trial 498 finished with value: 0.01977178108214756 and parameters: {'topK': 141, 'alpha': 0.48924527573210075, 'beta': 0.3456356754828275, 'normalize_similarity': True, 'implicit': False}. Best is trial 94 with value: 0.023107177974434116.\n"
     ]
    },
    {
     "name": "stdout",
     "output_type": "stream",
     "text": [
      "RP3betaRecommender: Similarity column 38121 (100.0%), 714.70 column/sec. Elapsed time 53.34 sec\n",
      "EvaluatorHoldout: Processed 35595 (100.0%) in 34.51 sec. Users per second: 1031\n"
     ]
    },
    {
     "name": "stderr",
     "output_type": "stream",
     "text": [
      "[I 2024-12-24 17:39:02,267] Trial 499 finished with value: 0.019748646033306623 and parameters: {'topK': 42, 'alpha': 0.4063835985815386, 'beta': 0.5729071273578616, 'normalize_similarity': True, 'implicit': False}. Best is trial 94 with value: 0.023107177974434116.\n"
     ]
    },
    {
     "name": "stdout",
     "output_type": "stream",
     "text": [
      "RP3betaRecommender: Similarity column 38121 (100.0%), 1039.51 column/sec. Elapsed time 36.67 sec\n",
      "EvaluatorHoldout: Processed 35595 (100.0%) in 25.22 sec. Users per second: 1411\n"
     ]
    },
    {
     "name": "stderr",
     "output_type": "stream",
     "text": [
      "[I 2024-12-24 17:40:04,766] Trial 500 finished with value: 0.00028209999175022335 and parameters: {'topK': 0, 'alpha': 1.0153753311498872, 'beta': 0.2895372413600342, 'normalize_similarity': True, 'implicit': True}. Best is trial 94 with value: 0.023107177974434116.\n"
     ]
    },
    {
     "name": "stdout",
     "output_type": "stream",
     "text": [
      "RP3betaRecommender: Similarity column 38121 (100.0%), 687.26 column/sec. Elapsed time 55.47 sec\n",
      "EvaluatorHoldout: Processed 35595 (100.0%) in 35.77 sec. Users per second: 995\n"
     ]
    },
    {
     "name": "stderr",
     "output_type": "stream",
     "text": [
      "[I 2024-12-24 17:41:39,653] Trial 501 finished with value: 0.020336424769842206 and parameters: {'topK': 80, 'alpha': 0.35181054717812643, 'beta': 0.38877781075087847, 'normalize_similarity': True, 'implicit': False}. Best is trial 94 with value: 0.023107177974434116.\n"
     ]
    },
    {
     "name": "stdout",
     "output_type": "stream",
     "text": [
      "RP3betaRecommender: Similarity column 38121 (100.0%), 712.70 column/sec. Elapsed time 53.49 sec\n",
      "EvaluatorHoldout: Processed 35595 (100.0%) in 34.78 sec. Users per second: 1023\n"
     ]
    },
    {
     "name": "stderr",
     "output_type": "stream",
     "text": [
      "[I 2024-12-24 17:43:10,567] Trial 502 finished with value: 0.020803648630871353 and parameters: {'topK': 42, 'alpha': 0.44622041900602166, 'beta': 0.48240355677643554, 'normalize_similarity': True, 'implicit': False}. Best is trial 94 with value: 0.023107177974434116.\n"
     ]
    },
    {
     "name": "stdout",
     "output_type": "stream",
     "text": [
      "RP3betaRecommender: Similarity column 38121 (100.0%), 715.40 column/sec. Elapsed time 53.29 sec\n",
      "EvaluatorHoldout: Processed 35595 (100.0%) in 32.96 sec. Users per second: 1080\n"
     ]
    },
    {
     "name": "stderr",
     "output_type": "stream",
     "text": [
      "[I 2024-12-24 17:44:38,596] Trial 503 finished with value: 0.019361541994706685 and parameters: {'topK': 30, 'alpha': 0.175068761608091, 'beta': 0.21375482720219988, 'normalize_similarity': True, 'implicit': False}. Best is trial 94 with value: 0.023107177974434116.\n"
     ]
    },
    {
     "name": "stdout",
     "output_type": "stream",
     "text": [
      "RP3betaRecommender: Similarity column 38121 (100.0%), 684.73 column/sec. Elapsed time 55.67 sec\n",
      "EvaluatorHoldout: Processed 35595 (100.0%) in 36.03 sec. Users per second: 988\n"
     ]
    },
    {
     "name": "stderr",
     "output_type": "stream",
     "text": [
      "[I 2024-12-24 17:46:14,069] Trial 504 finished with value: 0.0131901985966465 and parameters: {'topK': 75, 'alpha': 1.2579607449751742, 'beta': 0.11789544977514563, 'normalize_similarity': True, 'implicit': True}. Best is trial 94 with value: 0.023107177974434116.\n"
     ]
    },
    {
     "name": "stdout",
     "output_type": "stream",
     "text": [
      "RP3betaRecommender: Similarity column 38121 (100.0%), 704.70 column/sec. Elapsed time 54.10 sec\n",
      "EvaluatorHoldout: Processed 35595 (100.0%) in 34.55 sec. Users per second: 1030\n"
     ]
    },
    {
     "name": "stderr",
     "output_type": "stream",
     "text": [
      "[I 2024-12-24 17:47:45,397] Trial 505 finished with value: 0.020411621482417697 and parameters: {'topK': 54, 'alpha': 0.2994107817116899, 'beta': 0.3417418628900577, 'normalize_similarity': True, 'implicit': False}. Best is trial 94 with value: 0.023107177974434116.\n"
     ]
    },
    {
     "name": "stdout",
     "output_type": "stream",
     "text": [
      "RP3betaRecommender: Similarity column 38121 (100.0%), 676.86 column/sec. Elapsed time 56.32 sec\n",
      "EvaluatorHoldout: Processed 35595 (100.0%) in 36.86 sec. Users per second: 966\n"
     ]
    },
    {
     "name": "stderr",
     "output_type": "stream",
     "text": [
      "[I 2024-12-24 17:49:23,256] Trial 506 finished with value: 0.020076483231771837 and parameters: {'topK': 108, 'alpha': 0.39584502690578754, 'beta': 0.42886516818690634, 'normalize_similarity': True, 'implicit': False}. Best is trial 94 with value: 0.023107177974434116.\n"
     ]
    },
    {
     "name": "stdout",
     "output_type": "stream",
     "text": [
      "RP3betaRecommender: Similarity column 38121 (100.0%), 1044.83 column/sec. Elapsed time 36.49 sec\n",
      "EvaluatorHoldout: Processed 35595 (100.0%) in 25.70 sec. Users per second: 1385\n"
     ]
    },
    {
     "name": "stderr",
     "output_type": "stream",
     "text": [
      "[I 2024-12-24 17:50:26,022] Trial 507 finished with value: 0.00028209999175022335 and parameters: {'topK': 0, 'alpha': 0.5360611869620551, 'beta': 0.28295088653856526, 'normalize_similarity': True, 'implicit': False}. Best is trial 94 with value: 0.023107177974434116.\n"
     ]
    },
    {
     "name": "stdout",
     "output_type": "stream",
     "text": [
      "RP3betaRecommender: Similarity column 38121 (100.0%), 724.79 column/sec. Elapsed time 52.60 sec\n",
      "EvaluatorHoldout: Processed 35595 (100.0%) in 33.93 sec. Users per second: 1049\n"
     ]
    },
    {
     "name": "stderr",
     "output_type": "stream",
     "text": [
      "[I 2024-12-24 17:51:54,738] Trial 508 finished with value: 0.00885196667982184 and parameters: {'topK': 29, 'alpha': 2.907200519347453, 'beta': 0.35258121015928756, 'normalize_similarity': True, 'implicit': True}. Best is trial 94 with value: 0.023107177974434116.\n"
     ]
    },
    {
     "name": "stdout",
     "output_type": "stream",
     "text": [
      "RP3betaRecommender: Similarity column 38121 (100.0%), 704.00 column/sec. Elapsed time 54.15 sec\n",
      "EvaluatorHoldout: Processed 35595 (100.0%) in 33.83 sec. Users per second: 1052\n"
     ]
    },
    {
     "name": "stderr",
     "output_type": "stream",
     "text": [
      "[I 2024-12-24 17:53:25,162] Trial 509 finished with value: 0.01884498447035321 and parameters: {'topK': 58, 'alpha': 0.24304623020105895, 'beta': 0.18712300669460266, 'normalize_similarity': True, 'implicit': False}. Best is trial 94 with value: 0.023107177974434116.\n"
     ]
    },
    {
     "name": "stdout",
     "output_type": "stream",
     "text": [
      "RP3betaRecommender: Similarity column 38121 (100.0%), 734.92 column/sec. Elapsed time 51.87 sec\n",
      "EvaluatorHoldout: Processed 35595 (100.0%) in 33.54 sec. Users per second: 1061\n"
     ]
    },
    {
     "name": "stderr",
     "output_type": "stream",
     "text": [
      "[I 2024-12-24 17:54:52,599] Trial 510 finished with value: 0.018942558144201593 and parameters: {'topK': 25, 'alpha': 0.6174534639296374, 'beta': 0.540279439617916, 'normalize_similarity': True, 'implicit': False}. Best is trial 94 with value: 0.023107177974434116.\n"
     ]
    },
    {
     "name": "stdout",
     "output_type": "stream",
     "text": [
      "RP3betaRecommender: Similarity column 38121 (100.0%), 695.86 column/sec. Elapsed time 54.78 sec\n",
      "EvaluatorHoldout: Processed 35595 (100.0%) in 36.00 sec. Users per second: 989\n"
     ]
    },
    {
     "name": "stderr",
     "output_type": "stream",
     "text": [
      "[I 2024-12-24 17:56:27,217] Trial 511 finished with value: 0.020484604133360788 and parameters: {'topK': 77, 'alpha': 0.479059985490793, 'beta': 0.4126782211598184, 'normalize_similarity': True, 'implicit': True}. Best is trial 94 with value: 0.023107177974434116.\n"
     ]
    },
    {
     "name": "stdout",
     "output_type": "stream",
     "text": [
      "RP3betaRecommender: Similarity column 38121 (100.0%), 725.87 column/sec. Elapsed time 52.52 sec\n",
      "EvaluatorHoldout: Processed 35595 (100.0%) in 33.11 sec. Users per second: 1075\n"
     ]
    },
    {
     "name": "stderr",
     "output_type": "stream",
     "text": [
      "[I 2024-12-24 17:57:54,788] Trial 512 finished with value: 0.018075275865836384 and parameters: {'topK': 30, 'alpha': 0.35709670728365495, 'beta': 0.31440797317821906, 'normalize_similarity': False, 'implicit': False}. Best is trial 94 with value: 0.023107177974434116.\n"
     ]
    },
    {
     "name": "stdout",
     "output_type": "stream",
     "text": [
      "RP3betaRecommender: Similarity column 38121 (100.0%), 682.64 column/sec. Elapsed time 55.84 sec\n",
      "EvaluatorHoldout: Processed 35595 (100.0%) in 35.61 sec. Users per second: 1000\n"
     ]
    },
    {
     "name": "stderr",
     "output_type": "stream",
     "text": [
      "[I 2024-12-24 17:59:29,991] Trial 513 finished with value: 0.019738763024055753 and parameters: {'topK': 97, 'alpha': 0.41957259273288877, 'beta': 0.2504654009120072, 'normalize_similarity': True, 'implicit': False}. Best is trial 94 with value: 0.023107177974434116.\n"
     ]
    },
    {
     "name": "stdout",
     "output_type": "stream",
     "text": [
      "RP3betaRecommender: Similarity column 38121 (100.0%), 1053.36 column/sec. Elapsed time 36.19 sec\n",
      "EvaluatorHoldout: Processed 35595 (100.0%) in 24.69 sec. Users per second: 1442\n"
     ]
    },
    {
     "name": "stderr",
     "output_type": "stream",
     "text": [
      "[I 2024-12-24 18:00:31,455] Trial 514 finished with value: 0.00028209999175022335 and parameters: {'topK': 0, 'alpha': 0.32204501420586473, 'beta': 0.47036413046313413, 'normalize_similarity': True, 'implicit': False}. Best is trial 94 with value: 0.023107177974434116.\n"
     ]
    },
    {
     "name": "stdout",
     "output_type": "stream",
     "text": [
      "RP3betaRecommender: Similarity column 38121 (100.0%), 711.02 column/sec. Elapsed time 53.61 sec\n",
      "EvaluatorHoldout: Processed 35595 (100.0%) in 34.85 sec. Users per second: 1021\n"
     ]
    },
    {
     "name": "stderr",
     "output_type": "stream",
     "text": [
      "[I 2024-12-24 18:02:02,886] Trial 515 finished with value: 0.02083241247990485 and parameters: {'topK': 53, 'alpha': 0.4922469535645274, 'beta': 0.38419847093954346, 'normalize_similarity': True, 'implicit': True}. Best is trial 94 with value: 0.023107177974434116.\n"
     ]
    },
    {
     "name": "stdout",
     "output_type": "stream",
     "text": [
      "RP3betaRecommender: Similarity column 38121 (100.0%), 731.16 column/sec. Elapsed time 52.14 sec\n",
      "EvaluatorHoldout: Processed 35595 (100.0%) in 33.00 sec. Users per second: 1079\n"
     ]
    },
    {
     "name": "stderr",
     "output_type": "stream",
     "text": [
      "[I 2024-12-24 18:03:29,888] Trial 516 finished with value: 0.022056930146689524 and parameters: {'topK': 25, 'alpha': 0.39792477170961893, 'beta': 0.31990466752940394, 'normalize_similarity': True, 'implicit': False}. Best is trial 94 with value: 0.023107177974434116.\n"
     ]
    },
    {
     "name": "stdout",
     "output_type": "stream",
     "text": [
      "RP3betaRecommender: Similarity column 38121 (100.0%), 659.92 column/sec. Elapsed time 57.77 sec\n",
      "EvaluatorHoldout: Processed 35595 (100.0%) in 36.04 sec. Users per second: 988\n"
     ]
    },
    {
     "name": "stderr",
     "output_type": "stream",
     "text": [
      "[I 2024-12-24 18:05:08,046] Trial 517 finished with value: 0.01812360840763712 and parameters: {'topK': 131, 'alpha': 0.2604843078514376, 'beta': 0.23433840452223997, 'normalize_similarity': True, 'implicit': False}. Best is trial 94 with value: 0.023107177974434116.\n"
     ]
    },
    {
     "name": "stdout",
     "output_type": "stream",
     "text": [
      "RP3betaRecommender: Similarity column 38121 (100.0%), 366.16 column/sec. Elapsed time 1.74 min\n",
      "EvaluatorHoldout: Processed 35595 (100.0%) in 53.65 sec. Users per second: 663\n"
     ]
    },
    {
     "name": "stderr",
     "output_type": "stream",
     "text": [
      "[I 2024-12-24 18:08:19,841] Trial 518 finished with value: 0.01648871341391377 and parameters: {'topK': 1001, 'alpha': 0.3787103851867559, 'beta': 0.3046012031590708, 'normalize_similarity': True, 'implicit': False}. Best is trial 94 with value: 0.023107177974434116.\n"
     ]
    },
    {
     "name": "stdout",
     "output_type": "stream",
     "text": [
      "RP3betaRecommender: Similarity column 38121 (100.0%), 700.50 column/sec. Elapsed time 54.42 sec\n",
      "EvaluatorHoldout: Processed 35595 (100.0%) in 34.98 sec. Users per second: 1018\n"
     ]
    },
    {
     "name": "stderr",
     "output_type": "stream",
     "text": [
      "[I 2024-12-24 18:09:51,634] Trial 519 finished with value: 0.01874986120308497 and parameters: {'topK': 62, 'alpha': 0.3084335028140866, 'beta': 0.13883314083665874, 'normalize_similarity': True, 'implicit': False}. Best is trial 94 with value: 0.023107177974434116.\n"
     ]
    },
    {
     "name": "stdout",
     "output_type": "stream",
     "text": [
      "RP3betaRecommender: Similarity column 38121 (100.0%), 724.78 column/sec. Elapsed time 52.60 sec\n",
      "EvaluatorHoldout: Processed 35595 (100.0%) in 33.41 sec. Users per second: 1065\n"
     ]
    },
    {
     "name": "stderr",
     "output_type": "stream",
     "text": [
      "[I 2024-12-24 18:11:19,655] Trial 520 finished with value: 0.021948096642786605 and parameters: {'topK': 24, 'alpha': 0.40228344853200165, 'beta': 0.2640125364669269, 'normalize_similarity': True, 'implicit': True}. Best is trial 94 with value: 0.023107177974434116.\n"
     ]
    },
    {
     "name": "stdout",
     "output_type": "stream",
     "text": [
      "RP3betaRecommender: Similarity column 38121 (100.0%), 710.95 column/sec. Elapsed time 53.62 sec\n",
      "EvaluatorHoldout: Processed 35595 (100.0%) in 36.03 sec. Users per second: 988\n"
     ]
    },
    {
     "name": "stderr",
     "output_type": "stream",
     "text": [
      "[I 2024-12-24 18:12:51,333] Trial 521 finished with value: 0.021959457922795113 and parameters: {'topK': 27, 'alpha': 0.3824516212626111, 'beta': 0.33654409801363877, 'normalize_similarity': True, 'implicit': True}. Best is trial 94 with value: 0.023107177974434116.\n"
     ]
    },
    {
     "name": "stdout",
     "output_type": "stream",
     "text": [
      "RP3betaRecommender: Similarity column 38121 (100.0%), 986.77 column/sec. Elapsed time 38.63 sec\n",
      "EvaluatorHoldout: Processed 35595 (100.0%) in 25.79 sec. Users per second: 1380\n"
     ]
    },
    {
     "name": "stderr",
     "output_type": "stream",
     "text": [
      "[I 2024-12-24 18:13:56,413] Trial 522 finished with value: 0.00028209999175022335 and parameters: {'topK': 0, 'alpha': 0.2237533576843893, 'beta': 0.3531778290559524, 'normalize_similarity': True, 'implicit': True}. Best is trial 94 with value: 0.023107177974434116.\n"
     ]
    },
    {
     "name": "stdout",
     "output_type": "stream",
     "text": [
      "RP3betaRecommender: Similarity column 38121 (100.0%), 703.84 column/sec. Elapsed time 54.16 sec\n",
      "EvaluatorHoldout: Processed 35595 (100.0%) in 34.39 sec. Users per second: 1035\n"
     ]
    },
    {
     "name": "stderr",
     "output_type": "stream",
     "text": [
      "[I 2024-12-24 18:15:27,815] Trial 523 finished with value: 0.020656252996117987 and parameters: {'topK': 55, 'alpha': 0.32912998095817936, 'beta': 0.3553250780031825, 'normalize_similarity': True, 'implicit': True}. Best is trial 94 with value: 0.023107177974434116.\n"
     ]
    },
    {
     "name": "stdout",
     "output_type": "stream",
     "text": [
      "RP3betaRecommender: Similarity column 38121 (100.0%), 683.21 column/sec. Elapsed time 55.80 sec\n",
      "EvaluatorHoldout: Processed 35595 (100.0%) in 34.94 sec. Users per second: 1019\n"
     ]
    },
    {
     "name": "stderr",
     "output_type": "stream",
     "text": [
      "[I 2024-12-24 18:17:01,799] Trial 524 finished with value: 0.0192796116807916 and parameters: {'topK': 89, 'alpha': 0.3629864021524606, 'beta': 0.2089300664774199, 'normalize_similarity': True, 'implicit': True}. Best is trial 94 with value: 0.023107177974434116.\n"
     ]
    },
    {
     "name": "stdout",
     "output_type": "stream",
     "text": [
      "RP3betaRecommender: Similarity column 38121 (100.0%), 388.07 column/sec. Elapsed time 1.64 min\n",
      "EvaluatorHoldout: Processed 35595 (100.0%) in 51.98 sec. Users per second: 685\n"
     ]
    },
    {
     "name": "stderr",
     "output_type": "stream",
     "text": [
      "[I 2024-12-24 18:20:01,429] Trial 525 finished with value: 0.015525695824052705 and parameters: {'topK': 876, 'alpha': 0.28966655763111915, 'beta': 0.3131676423060508, 'normalize_similarity': True, 'implicit': True}. Best is trial 94 with value: 0.023107177974434116.\n"
     ]
    },
    {
     "name": "stdout",
     "output_type": "stream",
     "text": [
      "RP3betaRecommender: Similarity column 38121 (100.0%), 730.87 column/sec. Elapsed time 52.16 sec\n",
      "EvaluatorHoldout: Processed 35595 (100.0%) in 33.49 sec. Users per second: 1063\n"
     ]
    },
    {
     "name": "stderr",
     "output_type": "stream",
     "text": [
      "[I 2024-12-24 18:21:29,178] Trial 526 finished with value: 0.011261539096136901 and parameters: {'topK': 26, 'alpha': 1.6818751130293976, 'beta': 0.4092578024378489, 'normalize_similarity': True, 'implicit': True}. Best is trial 94 with value: 0.023107177974434116.\n"
     ]
    },
    {
     "name": "stdout",
     "output_type": "stream",
     "text": [
      "RP3betaRecommender: Similarity column 38121 (100.0%), 712.86 column/sec. Elapsed time 53.48 sec\n",
      "EvaluatorHoldout: Processed 35595 (100.0%) in 33.94 sec. Users per second: 1049\n"
     ]
    },
    {
     "name": "stderr",
     "output_type": "stream",
     "text": [
      "[I 2024-12-24 18:22:59,061] Trial 527 finished with value: 0.020612321821550473 and parameters: {'topK': 51, 'alpha': 0.3893843037127928, 'beta': 0.2565258483808032, 'normalize_similarity': True, 'implicit': True}. Best is trial 94 with value: 0.023107177974434116.\n"
     ]
    },
    {
     "name": "stdout",
     "output_type": "stream",
     "text": [
      "RP3betaRecommender: Similarity column 38121 (100.0%), 728.11 column/sec. Elapsed time 52.36 sec\n",
      "EvaluatorHoldout: Processed 35595 (100.0%) in 32.67 sec. Users per second: 1090\n"
     ]
    },
    {
     "name": "stderr",
     "output_type": "stream",
     "text": [
      "[I 2024-12-24 18:24:25,946] Trial 528 finished with value: 0.020768820081293587 and parameters: {'topK': 26, 'alpha': 0.20501194959450061, 'beta': 0.3619548938022863, 'normalize_similarity': True, 'implicit': True}. Best is trial 94 with value: 0.023107177974434116.\n"
     ]
    },
    {
     "name": "stdout",
     "output_type": "stream",
     "text": [
      "RP3betaRecommender: Similarity column 38121 (100.0%), 684.12 column/sec. Elapsed time 55.72 sec\n",
      "EvaluatorHoldout: Processed 35595 (100.0%) in 36.79 sec. Users per second: 967\n"
     ]
    },
    {
     "name": "stderr",
     "output_type": "stream",
     "text": [
      "[I 2024-12-24 18:26:02,519] Trial 529 finished with value: 0.02028940438843492 and parameters: {'topK': 78, 'alpha': 0.47034720350260145, 'beta': 0.4583365235483897, 'normalize_similarity': True, 'implicit': True}. Best is trial 94 with value: 0.023107177974434116.\n"
     ]
    },
    {
     "name": "stdout",
     "output_type": "stream",
     "text": [
      "RP3betaRecommender: Similarity column 38121 (100.0%), 694.47 column/sec. Elapsed time 54.89 sec\n",
      "EvaluatorHoldout: Processed 35595 (100.0%) in 33.59 sec. Users per second: 1060\n"
     ]
    },
    {
     "name": "stderr",
     "output_type": "stream",
     "text": [
      "[I 2024-12-24 18:27:33,256] Trial 530 finished with value: 0.019759400843260812 and parameters: {'topK': 50, 'alpha': 0.3370312607342577, 'beta': 0.17248516058881305, 'normalize_similarity': True, 'implicit': True}. Best is trial 94 with value: 0.023107177974434116.\n"
     ]
    },
    {
     "name": "stdout",
     "output_type": "stream",
     "text": [
      "RP3betaRecommender: Similarity column 38121 (100.0%), 409.70 column/sec. Elapsed time 1.55 min\n",
      "EvaluatorHoldout: Processed 35595 (100.0%) in 51.54 sec. Users per second: 691\n"
     ]
    },
    {
     "name": "stderr",
     "output_type": "stream",
     "text": [
      "[I 2024-12-24 18:30:25,987] Trial 531 finished with value: 0.0171948452275044 and parameters: {'topK': 768, 'alpha': 0.56614025653579, 'beta': 0.3133354652443456, 'normalize_similarity': True, 'implicit': True}. Best is trial 94 with value: 0.023107177974434116.\n"
     ]
    },
    {
     "name": "stdout",
     "output_type": "stream",
     "text": [
      "RP3betaRecommender: Similarity column 38121 (100.0%), 677.66 column/sec. Elapsed time 56.25 sec\n",
      "EvaluatorHoldout: Processed 35595 (100.0%) in 36.57 sec. Users per second: 973\n"
     ]
    },
    {
     "name": "stderr",
     "output_type": "stream",
     "text": [
      "[I 2024-12-24 18:32:03,343] Trial 532 finished with value: 0.017963228293611862 and parameters: {'topK': 105, 'alpha': 0.4199869535626917, 'beta': 0.3942931727363129, 'normalize_similarity': False, 'implicit': True}. Best is trial 94 with value: 0.023107177974434116.\n"
     ]
    },
    {
     "name": "stdout",
     "output_type": "stream",
     "text": [
      "RP3betaRecommender: Similarity column 38121 (100.0%), 727.44 column/sec. Elapsed time 52.40 sec\n",
      "EvaluatorHoldout: Processed 35595 (100.0%) in 32.38 sec. Users per second: 1099\n"
     ]
    },
    {
     "name": "stderr",
     "output_type": "stream",
     "text": [
      "[I 2024-12-24 18:33:29,857] Trial 533 finished with value: 0.018401196663522853 and parameters: {'topK': 23, 'alpha': 0.06203991486864324, 'beta': 0.26122695175087124, 'normalize_similarity': True, 'implicit': True}. Best is trial 94 with value: 0.023107177974434116.\n"
     ]
    },
    {
     "name": "stdout",
     "output_type": "stream",
     "text": [
      "RP3betaRecommender: Similarity column 38121 (100.0%), 695.86 column/sec. Elapsed time 54.78 sec\n",
      "EvaluatorHoldout: Processed 35595 (100.0%) in 34.91 sec. Users per second: 1020\n"
     ]
    },
    {
     "name": "stderr",
     "output_type": "stream",
     "text": [
      "[I 2024-12-24 18:35:02,684] Trial 534 finished with value: 0.01953851642262927 and parameters: {'topK': 73, 'alpha': 0.2539241098414557, 'beta': 0.33395764482272733, 'normalize_similarity': True, 'implicit': True}. Best is trial 94 with value: 0.023107177974434116.\n"
     ]
    },
    {
     "name": "stdout",
     "output_type": "stream",
     "text": [
      "RP3betaRecommender: Similarity column 38121 (100.0%), 733.43 column/sec. Elapsed time 51.98 sec\n",
      "EvaluatorHoldout: Processed 35595 (100.0%) in 33.33 sec. Users per second: 1068\n"
     ]
    },
    {
     "name": "stderr",
     "output_type": "stream",
     "text": [
      "[I 2024-12-24 18:36:30,001] Trial 535 finished with value: 0.02097344352359078 and parameters: {'topK': 24, 'alpha': 0.5006179252094203, 'beta': 0.48800904525097083, 'normalize_similarity': True, 'implicit': True}. Best is trial 94 with value: 0.023107177974434116.\n"
     ]
    },
    {
     "name": "stdout",
     "output_type": "stream",
     "text": [
      "RP3betaRecommender: Similarity column 38121 (100.0%), 713.20 column/sec. Elapsed time 53.45 sec\n",
      "EvaluatorHoldout: Processed 35595 (100.0%) in 34.31 sec. Users per second: 1038\n"
     ]
    },
    {
     "name": "stderr",
     "output_type": "stream",
     "text": [
      "[I 2024-12-24 18:38:00,576] Trial 536 finished with value: 0.020911375103958015 and parameters: {'topK': 50, 'alpha': 0.36308991152984116, 'beta': 0.42468243674653244, 'normalize_similarity': True, 'implicit': False}. Best is trial 94 with value: 0.023107177974434116.\n"
     ]
    },
    {
     "name": "stdout",
     "output_type": "stream",
     "text": [
      "RP3betaRecommender: Similarity column 38121 (100.0%), 1053.43 column/sec. Elapsed time 36.19 sec\n",
      "EvaluatorHoldout: Processed 35595 (100.0%) in 24.82 sec. Users per second: 1434\n"
     ]
    },
    {
     "name": "stderr",
     "output_type": "stream",
     "text": [
      "[I 2024-12-24 18:39:02,168] Trial 537 finished with value: 0.00028209999175022335 and parameters: {'topK': 0, 'alpha': 0.432479262296115, 'beta': 1.8358361866746997, 'normalize_similarity': True, 'implicit': False}. Best is trial 94 with value: 0.023107177974434116.\n"
     ]
    },
    {
     "name": "stdout",
     "output_type": "stream",
     "text": [
      "RP3betaRecommender: Similarity column 38121 (100.0%), 1052.41 column/sec. Elapsed time 36.22 sec\n",
      "EvaluatorHoldout: Processed 35595 (100.0%) in 24.80 sec. Users per second: 1435\n"
     ]
    },
    {
     "name": "stderr",
     "output_type": "stream",
     "text": [
      "[I 2024-12-24 18:40:03,775] Trial 538 finished with value: 0.00028209999175022335 and parameters: {'topK': 0, 'alpha': 0.29377820994722914, 'beta': 0.37142614970905014, 'normalize_similarity': True, 'implicit': False}. Best is trial 94 with value: 0.023107177974434116.\n"
     ]
    },
    {
     "name": "stdout",
     "output_type": "stream",
     "text": [
      "RP3betaRecommender: Similarity column 38121 (100.0%), 658.56 column/sec. Elapsed time 57.89 sec\n",
      "EvaluatorHoldout: Processed 35595 (100.0%) in 36.40 sec. Users per second: 978\n"
     ]
    },
    {
     "name": "stderr",
     "output_type": "stream",
     "text": [
      "[I 2024-12-24 18:41:42,312] Trial 539 finished with value: 0.018944485693326765 and parameters: {'topK': 121, 'alpha': 0.36821732304939064, 'beta': 0.21338272261633245, 'normalize_similarity': True, 'implicit': True}. Best is trial 94 with value: 0.023107177974434116.\n"
     ]
    },
    {
     "name": "stdout",
     "output_type": "stream",
     "text": [
      "RP3betaRecommender: Similarity column 38121 (100.0%), 615.91 column/sec. Elapsed time 1.03 min\n",
      "EvaluatorHoldout: Processed 35595 (100.0%) in 36.12 sec. Users per second: 985\n"
     ]
    },
    {
     "name": "stderr",
     "output_type": "stream",
     "text": [
      "[I 2024-12-24 18:43:24,875] Trial 540 finished with value: 0.02007030035875368 and parameters: {'topK': 82, 'alpha': 0.5051959024127969, 'beta': 0.29397614494093066, 'normalize_similarity': True, 'implicit': False}. Best is trial 94 with value: 0.023107177974434116.\n"
     ]
    },
    {
     "name": "stdout",
     "output_type": "stream",
     "text": [
      "RP3betaRecommender: Similarity column 38121 (100.0%), 708.94 column/sec. Elapsed time 53.77 sec\n",
      "EvaluatorHoldout: Processed 35595 (100.0%) in 36.53 sec. Users per second: 974\n"
     ]
    },
    {
     "name": "stderr",
     "output_type": "stream",
     "text": [
      "[I 2024-12-24 18:44:57,962] Trial 541 finished with value: 0.020205476290811066 and parameters: {'topK': 46, 'alpha': 0.4413128426165822, 'beta': 0.5232857006112954, 'normalize_similarity': True, 'implicit': False}. Best is trial 94 with value: 0.023107177974434116.\n"
     ]
    },
    {
     "name": "stdout",
     "output_type": "stream",
     "text": [
      "RP3betaRecommender: Similarity column 38121 (100.0%), 294.65 column/sec. Elapsed time 2.16 min\n",
      "EvaluatorHoldout: Processed 35595 (100.0%) in 1.00 min. Users per second: 593\n"
     ]
    },
    {
     "name": "stderr",
     "output_type": "stream",
     "text": [
      "[I 2024-12-24 18:48:59,730] Trial 542 finished with value: 0.015570513292173994 and parameters: {'topK': 1400, 'alpha': 0.30407514332101293, 'beta': 0.43097921533375194, 'normalize_similarity': True, 'implicit': True}. Best is trial 94 with value: 0.023107177974434116.\n"
     ]
    },
    {
     "name": "stdout",
     "output_type": "stream",
     "text": [
      "RP3betaRecommender: Similarity column 38121 (100.0%), 1047.10 column/sec. Elapsed time 36.41 sec\n",
      "EvaluatorHoldout: Processed 35595 (100.0%) in 24.83 sec. Users per second: 1434\n"
     ]
    },
    {
     "name": "stderr",
     "output_type": "stream",
     "text": [
      "[I 2024-12-24 18:50:01,555] Trial 543 finished with value: 0.00028209999175022335 and parameters: {'topK': 0, 'alpha': 0.15215650752040666, 'beta': 0.3433088557995441, 'normalize_similarity': True, 'implicit': False}. Best is trial 94 with value: 0.023107177974434116.\n"
     ]
    },
    {
     "name": "stdout",
     "output_type": "stream",
     "text": [
      "RP3betaRecommender: Similarity column 38121 (100.0%), 564.35 column/sec. Elapsed time 1.13 min\n",
      "EvaluatorHoldout: Processed 35595 (100.0%) in 41.32 sec. Users per second: 861\n"
     ]
    },
    {
     "name": "stderr",
     "output_type": "stream",
     "text": [
      "[I 2024-12-24 18:52:00,138] Trial 544 finished with value: 0.01814460631843695 and parameters: {'topK': 290, 'alpha': 0.4099816270336215, 'beta': 0.25220840686594576, 'normalize_similarity': True, 'implicit': False}. Best is trial 94 with value: 0.023107177974434116.\n"
     ]
    },
    {
     "name": "stdout",
     "output_type": "stream",
     "text": [
      "RP3betaRecommender: Similarity column 38121 (100.0%), 759.04 column/sec. Elapsed time 50.22 sec\n",
      "EvaluatorHoldout: Processed 35595 (100.0%) in 29.77 sec. Users per second: 1196\n"
     ]
    },
    {
     "name": "stderr",
     "output_type": "stream",
     "text": [
      "[I 2024-12-24 18:53:21,472] Trial 545 finished with value: 0.0014970222766261532 and parameters: {'topK': 52, 'alpha': 0.7071676150689028, 'beta': 2.9759850264469137, 'normalize_similarity': True, 'implicit': False}. Best is trial 94 with value: 0.023107177974434116.\n"
     ]
    },
    {
     "name": "stdout",
     "output_type": "stream",
     "text": [
      "RP3betaRecommender: Similarity column 38121 (100.0%), 726.72 column/sec. Elapsed time 52.46 sec\n",
      "EvaluatorHoldout: Processed 35595 (100.0%) in 33.75 sec. Users per second: 1055\n"
     ]
    },
    {
     "name": "stderr",
     "output_type": "stream",
     "text": [
      "[I 2024-12-24 18:54:49,728] Trial 546 finished with value: 0.021169422537943183 and parameters: {'topK': 26, 'alpha': 0.5673945565082845, 'beta': 0.30346176112128564, 'normalize_similarity': True, 'implicit': True}. Best is trial 94 with value: 0.023107177974434116.\n"
     ]
    },
    {
     "name": "stdout",
     "output_type": "stream",
     "text": [
      "RP3betaRecommender: Similarity column 38121 (100.0%), 692.32 column/sec. Elapsed time 55.06 sec\n",
      "EvaluatorHoldout: Processed 35595 (100.0%) in 35.63 sec. Users per second: 999\n"
     ]
    },
    {
     "name": "stderr",
     "output_type": "stream",
     "text": [
      "[I 2024-12-24 18:56:23,980] Trial 547 finished with value: 0.020408158805967254 and parameters: {'topK': 78, 'alpha': 0.3549001817397833, 'beta': 0.39053926065842715, 'normalize_similarity': True, 'implicit': False}. Best is trial 94 with value: 0.023107177974434116.\n"
     ]
    },
    {
     "name": "stdout",
     "output_type": "stream",
     "text": [
      "RP3betaRecommender: Similarity column 38121 (100.0%), 722.10 column/sec. Elapsed time 52.79 sec\n",
      "EvaluatorHoldout: Processed 35595 (100.0%) in 32.37 sec. Users per second: 1100\n"
     ]
    },
    {
     "name": "stderr",
     "output_type": "stream",
     "text": [
      "[I 2024-12-24 18:57:50,812] Trial 548 finished with value: 0.02003549745037293 and parameters: {'topK': 27, 'alpha': 0.24722939663958587, 'beta': 0.17175021312505, 'normalize_similarity': True, 'implicit': False}. Best is trial 94 with value: 0.023107177974434116.\n"
     ]
    },
    {
     "name": "stdout",
     "output_type": "stream",
     "text": [
      "RP3betaRecommender: Similarity column 38121 (100.0%), 711.62 column/sec. Elapsed time 53.57 sec\n",
      "EvaluatorHoldout: Processed 35595 (100.0%) in 35.46 sec. Users per second: 1004\n"
     ]
    },
    {
     "name": "stderr",
     "output_type": "stream",
     "text": [
      "[I 2024-12-24 18:59:23,230] Trial 549 finished with value: 0.0165324840522903 and parameters: {'topK': 59, 'alpha': 0.8803079424426321, 'beta': 0.4650516953740287, 'normalize_similarity': True, 'implicit': True}. Best is trial 94 with value: 0.023107177974434116.\n"
     ]
    },
    {
     "name": "stdout",
     "output_type": "stream",
     "text": [
      "RP3betaRecommender: Similarity column 38121 (100.0%), 678.58 column/sec. Elapsed time 56.18 sec\n",
      "EvaluatorHoldout: Processed 35595 (100.0%) in 36.59 sec. Users per second: 973\n"
     ]
    },
    {
     "name": "stderr",
     "output_type": "stream",
     "text": [
      "[I 2024-12-24 19:01:00,773] Trial 550 finished with value: 0.017286727670419225 and parameters: {'topK': 109, 'alpha': 0.4768417508840852, 'beta': 0.6415810063237775, 'normalize_similarity': True, 'implicit': False}. Best is trial 94 with value: 0.023107177974434116.\n"
     ]
    },
    {
     "name": "stdout",
     "output_type": "stream",
     "text": [
      "RP3betaRecommender: Similarity column 38121 (100.0%), 722.77 column/sec. Elapsed time 52.74 sec\n",
      "EvaluatorHoldout: Processed 35595 (100.0%) in 32.49 sec. Users per second: 1095\n"
     ]
    },
    {
     "name": "stderr",
     "output_type": "stream",
     "text": [
      "[I 2024-12-24 19:02:27,634] Trial 551 finished with value: 0.017155828244113276 and parameters: {'topK': 26, 'alpha': 0.4020684098810147, 'beta': 0.1055097642420077, 'normalize_similarity': False, 'implicit': False}. Best is trial 94 with value: 0.023107177974434116.\n"
     ]
    },
    {
     "name": "stdout",
     "output_type": "stream",
     "text": [
      "RP3betaRecommender: Similarity column 38121 (100.0%), 640.66 column/sec. Elapsed time 59.50 sec\n",
      "EvaluatorHoldout: Processed 35595 (100.0%) in 37.84 sec. Users per second: 941\n"
     ]
    },
    {
     "name": "stderr",
     "output_type": "stream",
     "text": [
      "[I 2024-12-24 19:04:11,173] Trial 552 finished with value: 0.01896057164261964 and parameters: {'topK': 167, 'alpha': 0.3174082176114919, 'beta': 0.35026170571274007, 'normalize_similarity': True, 'implicit': False}. Best is trial 94 with value: 0.023107177974434116.\n"
     ]
    },
    {
     "name": "stdout",
     "output_type": "stream",
     "text": [
      "RP3betaRecommender: Similarity column 38121 (100.0%), 708.61 column/sec. Elapsed time 53.80 sec\n",
      "EvaluatorHoldout: Processed 35595 (100.0%) in 34.57 sec. Users per second: 1030\n"
     ]
    },
    {
     "name": "stderr",
     "output_type": "stream",
     "text": [
      "[I 2024-12-24 19:05:42,139] Trial 553 finished with value: 0.0204046771773277 and parameters: {'topK': 49, 'alpha': 0.5296375991502755, 'beta': 0.23728826235129044, 'normalize_similarity': True, 'implicit': True}. Best is trial 94 with value: 0.023107177974434116.\n"
     ]
    },
    {
     "name": "stdout",
     "output_type": "stream",
     "text": [
      "RP3betaRecommender: Similarity column 38121 (100.0%), 687.14 column/sec. Elapsed time 55.48 sec\n",
      "EvaluatorHoldout: Processed 35595 (100.0%) in 36.28 sec. Users per second: 981\n"
     ]
    },
    {
     "name": "stderr",
     "output_type": "stream",
     "text": [
      "[I 2024-12-24 19:07:17,968] Trial 554 finished with value: 0.020470287426671528 and parameters: {'topK': 87, 'alpha': 0.44833385918460883, 'beta': 0.4021610765780551, 'normalize_similarity': True, 'implicit': False}. Best is trial 94 with value: 0.023107177974434116.\n"
     ]
    },
    {
     "name": "stdout",
     "output_type": "stream",
     "text": [
      "RP3betaRecommender: Similarity column 38121 (100.0%), 1046.74 column/sec. Elapsed time 36.42 sec\n",
      "EvaluatorHoldout: Processed 35595 (100.0%) in 24.75 sec. Users per second: 1438\n"
     ]
    },
    {
     "name": "stderr",
     "output_type": "stream",
     "text": [
      "[I 2024-12-24 19:08:19,705] Trial 555 finished with value: 0.00028209999175022335 and parameters: {'topK': 0, 'alpha': 0.37081533171342085, 'beta': 2.8397755235393434, 'normalize_similarity': True, 'implicit': False}. Best is trial 94 with value: 0.023107177974434116.\n"
     ]
    },
    {
     "name": "stdout",
     "output_type": "stream",
     "text": [
      "RP3betaRecommender: Similarity column 38121 (100.0%), 1047.59 column/sec. Elapsed time 36.39 sec\n",
      "EvaluatorHoldout: Processed 35595 (100.0%) in 24.94 sec. Users per second: 1427\n"
     ]
    },
    {
     "name": "stderr",
     "output_type": "stream",
     "text": [
      "[I 2024-12-24 19:09:21,609] Trial 556 finished with value: 0.00028209999175022335 and parameters: {'topK': 0, 'alpha': 0.29759009478761056, 'beta': 0.2912800195617031, 'normalize_similarity': True, 'implicit': True}. Best is trial 94 with value: 0.023107177974434116.\n"
     ]
    },
    {
     "name": "stdout",
     "output_type": "stream",
     "text": [
      "RP3betaRecommender: Similarity column 38121 (100.0%), 718.34 column/sec. Elapsed time 53.07 sec\n",
      "EvaluatorHoldout: Processed 35595 (100.0%) in 34.47 sec. Users per second: 1033\n"
     ]
    },
    {
     "name": "stderr",
     "output_type": "stream",
     "text": [
      "[I 2024-12-24 19:10:51,858] Trial 557 finished with value: 0.009699614490175172 and parameters: {'topK': 44, 'alpha': 2.0093328989474193, 'beta': 0.015277629317422659, 'normalize_similarity': True, 'implicit': False}. Best is trial 94 with value: 0.023107177974434116.\n"
     ]
    },
    {
     "name": "stdout",
     "output_type": "stream",
     "text": [
      "RP3betaRecommender: Similarity column 38121 (100.0%), 693.78 column/sec. Elapsed time 54.95 sec\n",
      "EvaluatorHoldout: Processed 35595 (100.0%) in 34.81 sec. Users per second: 1022\n"
     ]
    },
    {
     "name": "stderr",
     "output_type": "stream",
     "text": [
      "[I 2024-12-24 19:12:24,870] Trial 558 finished with value: 0.018753788765588156 and parameters: {'topK': 73, 'alpha': 0.18479219641408365, 'beta': 0.4538495643940782, 'normalize_similarity': True, 'implicit': False}. Best is trial 94 with value: 0.023107177974434116.\n"
     ]
    },
    {
     "name": "stdout",
     "output_type": "stream",
     "text": [
      "RP3betaRecommender: Similarity column 38121 (100.0%), 481.54 column/sec. Elapsed time 1.32 min\n",
      "EvaluatorHoldout: Processed 35595 (100.0%) in 45.93 sec. Users per second: 775\n"
     ]
    },
    {
     "name": "stderr",
     "output_type": "stream",
     "text": [
      "[I 2024-12-24 19:14:48,058] Trial 559 finished with value: 0.018147607453338595 and parameters: {'topK': 492, 'alpha': 0.4755164932163734, 'beta': 0.3326008715825951, 'normalize_similarity': True, 'implicit': True}. Best is trial 94 with value: 0.023107177974434116.\n"
     ]
    },
    {
     "name": "stdout",
     "output_type": "stream",
     "text": [
      "RP3betaRecommender: Similarity column 38121 (100.0%), 728.37 column/sec. Elapsed time 52.34 sec\n",
      "EvaluatorHoldout: Processed 35595 (100.0%) in 34.21 sec. Users per second: 1040\n"
     ]
    },
    {
     "name": "stderr",
     "output_type": "stream",
     "text": [
      "[I 2024-12-24 19:16:16,862] Trial 560 finished with value: 0.020624844759273498 and parameters: {'topK': 26, 'alpha': 0.3980738728219805, 'beta': 0.55118591200386, 'normalize_similarity': True, 'implicit': False}. Best is trial 94 with value: 0.023107177974434116.\n"
     ]
    },
    {
     "name": "stdout",
     "output_type": "stream",
     "text": [
      "RP3betaRecommender: Similarity column 38121 (100.0%), 654.19 column/sec. Elapsed time 58.27 sec\n",
      "EvaluatorHoldout: Processed 35595 (100.0%) in 37.63 sec. Users per second: 946\n"
     ]
    },
    {
     "name": "stderr",
     "output_type": "stream",
     "text": [
      "[I 2024-12-24 19:17:58,033] Trial 561 finished with value: 0.018402175488353406 and parameters: {'topK': 133, 'alpha': 0.6212682768652726, 'beta': 0.20902792718999383, 'normalize_similarity': True, 'implicit': False}. Best is trial 94 with value: 0.023107177974434116.\n"
     ]
    },
    {
     "name": "stdout",
     "output_type": "stream",
     "text": [
      "RP3betaRecommender: Similarity column 38121 (100.0%), 692.89 column/sec. Elapsed time 55.02 sec\n",
      "EvaluatorHoldout: Processed 35595 (100.0%) in 34.83 sec. Users per second: 1022\n"
     ]
    },
    {
     "name": "stderr",
     "output_type": "stream",
     "text": [
      "[I 2024-12-24 19:19:30,798] Trial 562 finished with value: 0.019870328006653254 and parameters: {'topK': 62, 'alpha': 0.25733462671104157, 'beta': 0.3743203521712945, 'normalize_similarity': True, 'implicit': False}. Best is trial 94 with value: 0.023107177974434116.\n"
     ]
    },
    {
     "name": "stdout",
     "output_type": "stream",
     "text": [
      "RP3betaRecommender: Similarity column 38121 (100.0%), 721.82 column/sec. Elapsed time 52.81 sec\n",
      "EvaluatorHoldout: Processed 35595 (100.0%) in 33.34 sec. Users per second: 1068\n"
     ]
    },
    {
     "name": "stderr",
     "output_type": "stream",
     "text": [
      "[I 2024-12-24 19:20:58,807] Trial 563 finished with value: 0.02175516670122622 and parameters: {'topK': 26, 'alpha': 0.3498931146900593, 'beta': 0.28249008094022504, 'normalize_similarity': True, 'implicit': True}. Best is trial 94 with value: 0.023107177974434116.\n"
     ]
    },
    {
     "name": "stdout",
     "output_type": "stream",
     "text": [
      "RP3betaRecommender: Similarity column 38121 (100.0%), 677.67 column/sec. Elapsed time 56.25 sec\n",
      "EvaluatorHoldout: Processed 35595 (100.0%) in 37.60 sec. Users per second: 947\n"
     ]
    },
    {
     "name": "stderr",
     "output_type": "stream",
     "text": [
      "[I 2024-12-24 19:22:37,660] Trial 564 finished with value: 0.009564459739976145 and parameters: {'topK': 103, 'alpha': 2.4539193261905257, 'beta': 0.49271448523738737, 'normalize_similarity': True, 'implicit': False}. Best is trial 94 with value: 0.023107177974434116.\n"
     ]
    },
    {
     "name": "stdout",
     "output_type": "stream",
     "text": [
      "RP3betaRecommender: Similarity column 38121 (100.0%), 711.84 column/sec. Elapsed time 53.55 sec\n",
      "EvaluatorHoldout: Processed 35595 (100.0%) in 35.13 sec. Users per second: 1013\n"
     ]
    },
    {
     "name": "stderr",
     "output_type": "stream",
     "text": [
      "[I 2024-12-24 19:24:09,401] Trial 565 finished with value: 0.020486256318325232 and parameters: {'topK': 52, 'alpha': 0.5355753717022453, 'beta': 0.41820357675970626, 'normalize_similarity': True, 'implicit': False}. Best is trial 94 with value: 0.023107177974434116.\n"
     ]
    },
    {
     "name": "stdout",
     "output_type": "stream",
     "text": [
      "RP3betaRecommender: Similarity column 38121 (100.0%), 1046.49 column/sec. Elapsed time 36.43 sec\n",
      "EvaluatorHoldout: Processed 35595 (100.0%) in 24.76 sec. Users per second: 1438\n"
     ]
    },
    {
     "name": "stderr",
     "output_type": "stream",
     "text": [
      "[I 2024-12-24 19:25:11,183] Trial 566 finished with value: 0.00028209999175022335 and parameters: {'topK': 0, 'alpha': 0.42817503916995925, 'beta': 0.3320907702712511, 'normalize_similarity': True, 'implicit': True}. Best is trial 94 with value: 0.023107177974434116.\n"
     ]
    },
    {
     "name": "stdout",
     "output_type": "stream",
     "text": [
      "RP3betaRecommender: Similarity column 38121 (100.0%), 379.92 column/sec. Elapsed time 1.67 min\n",
      "EvaluatorHoldout: Processed 35595 (100.0%) in 51.40 sec. Users per second: 692\n"
     ]
    },
    {
     "name": "stderr",
     "output_type": "stream",
     "text": [
      "[I 2024-12-24 19:28:13,564] Trial 567 finished with value: 0.015177854032468782 and parameters: {'topK': 915, 'alpha': 0.3134826157035474, 'beta': 0.2528574887574585, 'normalize_similarity': True, 'implicit': False}. Best is trial 94 with value: 0.023107177974434116.\n"
     ]
    },
    {
     "name": "stdout",
     "output_type": "stream",
     "text": [
      "RP3betaRecommender: Similarity column 38121 (100.0%), 727.88 column/sec. Elapsed time 52.37 sec\n",
      "EvaluatorHoldout: Processed 35595 (100.0%) in 33.35 sec. Users per second: 1067\n"
     ]
    },
    {
     "name": "stderr",
     "output_type": "stream",
     "text": [
      "[I 2024-12-24 19:29:41,318] Trial 568 finished with value: 0.02180870217637996 and parameters: {'topK': 27, 'alpha': 0.4695801760512402, 'beta': 0.37639186663848656, 'normalize_similarity': True, 'implicit': False}. Best is trial 94 with value: 0.023107177974434116.\n"
     ]
    },
    {
     "name": "stdout",
     "output_type": "stream",
     "text": [
      "RP3betaRecommender: Similarity column 38121 (100.0%), 694.11 column/sec. Elapsed time 54.92 sec\n",
      "EvaluatorHoldout: Processed 35595 (100.0%) in 34.68 sec. Users per second: 1026\n"
     ]
    },
    {
     "name": "stderr",
     "output_type": "stream",
     "text": [
      "[I 2024-12-24 19:31:13,778] Trial 569 finished with value: 0.019415838901932395 and parameters: {'topK': 74, 'alpha': 0.40156143550559364, 'beta': 0.18117276850463615, 'normalize_similarity': True, 'implicit': True}. Best is trial 94 with value: 0.023107177974434116.\n"
     ]
    },
    {
     "name": "stdout",
     "output_type": "stream",
     "text": [
      "RP3betaRecommender: Similarity column 38121 (100.0%), 716.64 column/sec. Elapsed time 53.19 sec\n",
      "EvaluatorHoldout: Processed 35595 (100.0%) in 33.71 sec. Users per second: 1056\n"
     ]
    },
    {
     "name": "stderr",
     "output_type": "stream",
     "text": [
      "[I 2024-12-24 19:32:43,049] Trial 570 finished with value: 0.020974320898467298 and parameters: {'topK': 44, 'alpha': 0.3403082030955978, 'beta': 0.3031629527888806, 'normalize_similarity': True, 'implicit': False}. Best is trial 94 with value: 0.023107177974434116.\n"
     ]
    },
    {
     "name": "stdout",
     "output_type": "stream",
     "text": [
      "RP3betaRecommender: Similarity column 38121 (100.0%), 684.95 column/sec. Elapsed time 55.66 sec\n",
      "EvaluatorHoldout: Processed 35595 (100.0%) in 35.73 sec. Users per second: 996\n"
     ]
    },
    {
     "name": "stderr",
     "output_type": "stream",
     "text": [
      "[I 2024-12-24 19:34:18,325] Trial 571 finished with value: 0.015410842212991773 and parameters: {'topK': 93, 'alpha': 0.2284057220415271, 'beta': 0.43358408821633754, 'normalize_similarity': False, 'implicit': False}. Best is trial 94 with value: 0.023107177974434116.\n"
     ]
    },
    {
     "name": "stdout",
     "output_type": "stream",
     "text": [
      "RP3betaRecommender: Similarity column 38121 (100.0%), 721.04 column/sec. Elapsed time 52.87 sec\n",
      "EvaluatorHoldout: Processed 35595 (100.0%) in 33.59 sec. Users per second: 1060\n"
     ]
    },
    {
     "name": "stderr",
     "output_type": "stream",
     "text": [
      "[I 2024-12-24 19:35:47,087] Trial 572 finished with value: 0.021033582164428914 and parameters: {'topK': 34, 'alpha': 0.5125412941113479, 'beta': 0.25701399269412156, 'normalize_similarity': True, 'implicit': False}. Best is trial 94 with value: 0.023107177974434116.\n"
     ]
    },
    {
     "name": "stdout",
     "output_type": "stream",
     "text": [
      "RP3betaRecommender: Similarity column 38121 (100.0%), 697.64 column/sec. Elapsed time 54.64 sec\n",
      "EvaluatorHoldout: Processed 35595 (100.0%) in 34.77 sec. Users per second: 1024\n"
     ]
    },
    {
     "name": "stderr",
     "output_type": "stream",
     "text": [
      "[I 2024-12-24 19:37:19,686] Trial 573 finished with value: 0.02076069070696099 and parameters: {'topK': 67, 'alpha': 0.3966288042065891, 'beta': 0.370558004715925, 'normalize_similarity': True, 'implicit': True}. Best is trial 94 with value: 0.023107177974434116.\n"
     ]
    },
    {
     "name": "stdout",
     "output_type": "stream",
     "text": [
      "RP3betaRecommender: Similarity column 38121 (100.0%), 738.97 column/sec. Elapsed time 51.59 sec\n",
      "EvaluatorHoldout: Processed 35595 (100.0%) in 33.12 sec. Users per second: 1075\n"
     ]
    },
    {
     "name": "stderr",
     "output_type": "stream",
     "text": [
      "[I 2024-12-24 19:38:46,499] Trial 574 finished with value: 0.012894805316423829 and parameters: {'topK': 21, 'alpha': 1.3395208110018886, 'beta': 0.49099597954318397, 'normalize_similarity': True, 'implicit': False}. Best is trial 94 with value: 0.023107177974434116.\n"
     ]
    },
    {
     "name": "stdout",
     "output_type": "stream",
     "text": [
      "RP3betaRecommender: Similarity column 38121 (100.0%), 961.58 column/sec. Elapsed time 39.64 sec\n",
      "EvaluatorHoldout: Processed 35595 (100.0%) in 26.97 sec. Users per second: 1320\n"
     ]
    },
    {
     "name": "stderr",
     "output_type": "stream",
     "text": [
      "[I 2024-12-24 19:39:54,277] Trial 575 finished with value: 0.008247816596320736 and parameters: {'topK': 1, 'alpha': 0.46755699346078317, 'beta': 0.3310832539989649, 'normalize_similarity': True, 'implicit': False}. Best is trial 94 with value: 0.023107177974434116.\n"
     ]
    },
    {
     "name": "stdout",
     "output_type": "stream",
     "text": [
      "RP3betaRecommender: Similarity column 38121 (100.0%), 712.59 column/sec. Elapsed time 53.50 sec\n",
      "EvaluatorHoldout: Processed 35595 (100.0%) in 34.23 sec. Users per second: 1040\n"
     ]
    },
    {
     "name": "stderr",
     "output_type": "stream",
     "text": [
      "[I 2024-12-24 19:41:24,667] Trial 576 finished with value: 0.020357921011734562 and parameters: {'topK': 50, 'alpha': 0.2795297051801702, 'beta': 0.424796349097293, 'normalize_similarity': True, 'implicit': True}. Best is trial 94 with value: 0.023107177974434116.\n"
     ]
    },
    {
     "name": "stdout",
     "output_type": "stream",
     "text": [
      "RP3betaRecommender: Similarity column 38121 (100.0%), 1050.69 column/sec. Elapsed time 36.28 sec\n",
      "EvaluatorHoldout: Processed 35595 (100.0%) in 24.73 sec. Users per second: 1440\n"
     ]
    },
    {
     "name": "stderr",
     "output_type": "stream",
     "text": [
      "[I 2024-12-24 19:42:26,267] Trial 577 finished with value: 0.00028209999175022335 and parameters: {'topK': 0, 'alpha': 0.5703021518137418, 'beta': 0.14468671363396998, 'normalize_similarity': True, 'implicit': False}. Best is trial 94 with value: 0.023107177974434116.\n"
     ]
    },
    {
     "name": "stdout",
     "output_type": "stream",
     "text": [
      "RP3betaRecommender: Similarity column 38121 (100.0%), 678.29 column/sec. Elapsed time 56.20 sec\n",
      "EvaluatorHoldout: Processed 35595 (100.0%) in 35.20 sec. Users per second: 1011\n"
     ]
    },
    {
     "name": "stderr",
     "output_type": "stream",
     "text": [
      "[I 2024-12-24 19:44:01,128] Trial 578 finished with value: 0.01944122145744557 and parameters: {'topK': 93, 'alpha': 0.3584056764964366, 'beta': 0.2243352529564931, 'normalize_similarity': True, 'implicit': False}. Best is trial 94 with value: 0.023107177974434116.\n"
     ]
    },
    {
     "name": "stdout",
     "output_type": "stream",
     "text": [
      "RP3betaRecommender: Similarity column 38121 (100.0%), 710.13 column/sec. Elapsed time 53.68 sec\n",
      "EvaluatorHoldout: Processed 35595 (100.0%) in 34.21 sec. Users per second: 1040\n"
     ]
    },
    {
     "name": "stderr",
     "output_type": "stream",
     "text": [
      "[I 2024-12-24 19:45:31,465] Trial 579 finished with value: 0.021014576463164528 and parameters: {'topK': 45, 'alpha': 0.43974588667188685, 'beta': 0.2956333157913094, 'normalize_similarity': True, 'implicit': True}. Best is trial 94 with value: 0.023107177974434116.\n"
     ]
    },
    {
     "name": "stdout",
     "output_type": "stream",
     "text": [
      "RP3betaRecommender: Similarity column 38121 (100.0%), 729.30 column/sec. Elapsed time 52.27 sec\n",
      "EvaluatorHoldout: Processed 35595 (100.0%) in 32.89 sec. Users per second: 1082\n"
     ]
    },
    {
     "name": "stderr",
     "output_type": "stream",
     "text": [
      "[I 2024-12-24 19:46:58,489] Trial 580 finished with value: 0.02195282242690552 and parameters: {'topK': 25, 'alpha': 0.3268403627799771, 'beta': 0.3697030793615478, 'normalize_similarity': True, 'implicit': False}. Best is trial 94 with value: 0.023107177974434116.\n"
     ]
    },
    {
     "name": "stdout",
     "output_type": "stream",
     "text": [
      "RP3betaRecommender: Similarity column 38121 (100.0%), 702.92 column/sec. Elapsed time 54.23 sec\n",
      "EvaluatorHoldout: Processed 35595 (100.0%) in 35.79 sec. Users per second: 995\n"
     ]
    },
    {
     "name": "stderr",
     "output_type": "stream",
     "text": [
      "[I 2024-12-24 19:48:32,263] Trial 581 finished with value: 0.010866876478549734 and parameters: {'topK': 70, 'alpha': 1.8562911468997298, 'beta': 0.5063964458119369, 'normalize_similarity': True, 'implicit': False}. Best is trial 94 with value: 0.023107177974434116.\n"
     ]
    },
    {
     "name": "stdout",
     "output_type": "stream",
     "text": [
      "RP3betaRecommender: Similarity column 38121 (100.0%), 651.61 column/sec. Elapsed time 58.50 sec\n",
      "EvaluatorHoldout: Processed 35595 (100.0%) in 36.92 sec. Users per second: 964\n"
     ]
    },
    {
     "name": "stderr",
     "output_type": "stream",
     "text": [
      "[I 2024-12-24 19:50:13,000] Trial 582 finished with value: 0.01798179920935932 and parameters: {'topK': 141, 'alpha': 0.20822411046614078, 'beta': 0.4125922787284057, 'normalize_similarity': True, 'implicit': False}. Best is trial 94 with value: 0.023107177974434116.\n"
     ]
    },
    {
     "name": "stdout",
     "output_type": "stream",
     "text": [
      "RP3betaRecommender: Similarity column 38121 (100.0%), 469.03 column/sec. Elapsed time 1.35 min\n",
      "EvaluatorHoldout: Processed 35595 (100.0%) in 46.02 sec. Users per second: 773\n"
     ]
    },
    {
     "name": "stderr",
     "output_type": "stream",
     "text": [
      "[I 2024-12-24 19:52:39,233] Trial 583 finished with value: 0.01688574728482042 and parameters: {'topK': 534, 'alpha': 0.2910742911366913, 'beta': 0.37856052371490206, 'normalize_similarity': True, 'implicit': True}. Best is trial 94 with value: 0.023107177974434116.\n"
     ]
    },
    {
     "name": "stdout",
     "output_type": "stream",
     "text": [
      "RP3betaRecommender: Similarity column 38121 (100.0%), 729.73 column/sec. Elapsed time 52.24 sec\n",
      "EvaluatorHoldout: Processed 35595 (100.0%) in 32.86 sec. Users per second: 1083\n"
     ]
    },
    {
     "name": "stderr",
     "output_type": "stream",
     "text": [
      "[I 2024-12-24 19:54:06,196] Trial 584 finished with value: 0.019471600701899797 and parameters: {'topK': 25, 'alpha': 0.15000326268578715, 'beta': 0.5543606887759528, 'normalize_similarity': True, 'implicit': False}. Best is trial 94 with value: 0.023107177974434116.\n"
     ]
    },
    {
     "name": "stdout",
     "output_type": "stream",
     "text": [
      "RP3betaRecommender: Similarity column 38121 (100.0%), 438.83 column/sec. Elapsed time 1.45 min\n",
      "EvaluatorHoldout: Processed 35595 (100.0%) in 48.54 sec. Users per second: 733\n"
     ]
    },
    {
     "name": "stderr",
     "output_type": "stream",
     "text": [
      "[I 2024-12-24 19:56:45,488] Trial 585 finished with value: 0.01715944365291195 and parameters: {'topK': 651, 'alpha': 0.32828139758299557, 'beta': 0.4400186552847204, 'normalize_similarity': True, 'implicit': False}. Best is trial 94 with value: 0.023107177974434116.\n"
     ]
    },
    {
     "name": "stdout",
     "output_type": "stream",
     "text": [
      "RP3betaRecommender: Similarity column 38121 (100.0%), 697.33 column/sec. Elapsed time 54.67 sec\n",
      "EvaluatorHoldout: Processed 35595 (100.0%) in 34.25 sec. Users per second: 1039\n"
     ]
    },
    {
     "name": "stderr",
     "output_type": "stream",
     "text": [
      "[I 2024-12-24 19:58:17,174] Trial 586 finished with value: 0.019298272898146434 and parameters: {'topK': 63, 'alpha': 0.24416376815935611, 'beta': 0.2785860382258193, 'normalize_similarity': True, 'implicit': True}. Best is trial 94 with value: 0.023107177974434116.\n"
     ]
    },
    {
     "name": "stdout",
     "output_type": "stream",
     "text": [
      "RP3betaRecommender: Similarity column 38121 (100.0%), 450.36 column/sec. Elapsed time 1.41 min\n",
      "EvaluatorHoldout: Processed 35595 (100.0%) in 47.27 sec. Users per second: 753\n"
     ]
    },
    {
     "name": "stderr",
     "output_type": "stream",
     "text": [
      "[I 2024-12-24 20:00:50,720] Trial 587 finished with value: 0.017316330989950963 and parameters: {'topK': 598, 'alpha': 0.33787435820202444, 'beta': 0.37092392227597043, 'normalize_similarity': True, 'implicit': False}. Best is trial 94 with value: 0.023107177974434116.\n"
     ]
    },
    {
     "name": "stdout",
     "output_type": "stream",
     "text": [
      "RP3betaRecommender: Similarity column 38121 (100.0%), 669.98 column/sec. Elapsed time 56.90 sec\n",
      "EvaluatorHoldout: Processed 35595 (100.0%) in 37.02 sec. Users per second: 962\n"
     ]
    },
    {
     "name": "stderr",
     "output_type": "stream",
     "text": [
      "[I 2024-12-24 20:02:29,613] Trial 588 finished with value: 0.019808660927497675 and parameters: {'topK': 112, 'alpha': 0.38304473009329465, 'beta': 0.4678436806496112, 'normalize_similarity': True, 'implicit': False}. Best is trial 94 with value: 0.023107177974434116.\n"
     ]
    },
    {
     "name": "stdout",
     "output_type": "stream",
     "text": [
      "RP3betaRecommender: Similarity column 38121 (100.0%), 724.18 column/sec. Elapsed time 52.64 sec\n",
      "EvaluatorHoldout: Processed 35595 (100.0%) in 33.37 sec. Users per second: 1067\n"
     ]
    },
    {
     "name": "stderr",
     "output_type": "stream",
     "text": [
      "[I 2024-12-24 20:03:57,672] Trial 589 finished with value: 0.021792301843713374 and parameters: {'topK': 29, 'alpha': 0.4565296196698854, 'beta': 0.32401049693516537, 'normalize_similarity': True, 'implicit': True}. Best is trial 94 with value: 0.023107177974434116.\n"
     ]
    },
    {
     "name": "stdout",
     "output_type": "stream",
     "text": [
      "RP3betaRecommender: Similarity column 38121 (100.0%), 717.23 column/sec. Elapsed time 53.15 sec\n",
      "EvaluatorHoldout: Processed 35595 (100.0%) in 32.90 sec. Users per second: 1082\n"
     ]
    },
    {
     "name": "stderr",
     "output_type": "stream",
     "text": [
      "[I 2024-12-24 20:05:25,500] Trial 590 finished with value: 0.016118475708867902 and parameters: {'topK': 29, 'alpha': 0.2770481128441463, 'beta': 0.20018680140275252, 'normalize_similarity': False, 'implicit': False}. Best is trial 94 with value: 0.023107177974434116.\n"
     ]
    },
    {
     "name": "stdout",
     "output_type": "stream",
     "text": [
      "RP3betaRecommender: Similarity column 38121 (100.0%), 1045.98 column/sec. Elapsed time 36.45 sec\n",
      "EvaluatorHoldout: Processed 35595 (100.0%) in 24.88 sec. Users per second: 1431\n"
     ]
    },
    {
     "name": "stderr",
     "output_type": "stream",
     "text": [
      "[I 2024-12-24 20:06:27,437] Trial 591 finished with value: 0.00028209999175022335 and parameters: {'topK': 0, 'alpha': 0.49812005487558847, 'beta': 0.2654039978837258, 'normalize_similarity': True, 'implicit': False}. Best is trial 94 with value: 0.023107177974434116.\n"
     ]
    },
    {
     "name": "stdout",
     "output_type": "stream",
     "text": [
      "RP3betaRecommender: Similarity column 38121 (100.0%), 613.85 column/sec. Elapsed time 1.04 min\n",
      "EvaluatorHoldout: Processed 35595 (100.0%) in 40.38 sec. Users per second: 881\n"
     ]
    },
    {
     "name": "stderr",
     "output_type": "stream",
     "text": [
      "[I 2024-12-24 20:08:17,701] Trial 592 finished with value: 0.019512668981063304 and parameters: {'topK': 198, 'alpha': 0.4058763787609708, 'beta': 0.3957277506037325, 'normalize_similarity': True, 'implicit': False}. Best is trial 94 with value: 0.023107177974434116.\n"
     ]
    },
    {
     "name": "stdout",
     "output_type": "stream",
     "text": [
      "RP3betaRecommender: Similarity column 38121 (100.0%), 691.75 column/sec. Elapsed time 55.11 sec\n",
      "EvaluatorHoldout: Processed 35595 (100.0%) in 35.91 sec. Users per second: 991\n"
     ]
    },
    {
     "name": "stderr",
     "output_type": "stream",
     "text": [
      "[I 2024-12-24 20:09:52,461] Trial 593 finished with value: 0.01924395815356616 and parameters: {'topK': 72, 'alpha': 0.6530731234794309, 'beta': 0.3322323058110047, 'normalize_similarity': True, 'implicit': True}. Best is trial 94 with value: 0.023107177974434116.\n"
     ]
    },
    {
     "name": "stdout",
     "output_type": "stream",
     "text": [
      "RP3betaRecommender: Similarity column 38121 (100.0%), 398.47 column/sec. Elapsed time 1.59 min\n",
      "EvaluatorHoldout: Processed 35595 (100.0%) in 52.04 sec. Users per second: 684\n"
     ]
    },
    {
     "name": "stderr",
     "output_type": "stream",
     "text": [
      "[I 2024-12-24 20:12:50,947] Trial 594 finished with value: 0.016833758085338487 and parameters: {'topK': 829, 'alpha': 0.3299272575245148, 'beta': 0.46416897199878926, 'normalize_similarity': True, 'implicit': False}. Best is trial 94 with value: 0.023107177974434116.\n"
     ]
    },
    {
     "name": "stdout",
     "output_type": "stream",
     "text": [
      "RP3betaRecommender: Similarity column 38121 (100.0%), 712.27 column/sec. Elapsed time 53.52 sec\n",
      "EvaluatorHoldout: Processed 35595 (100.0%) in 34.77 sec. Users per second: 1024\n"
     ]
    },
    {
     "name": "stderr",
     "output_type": "stream",
     "text": [
      "[I 2024-12-24 20:14:22,104] Trial 595 finished with value: 0.018304626340867346 and parameters: {'topK': 50, 'alpha': 0.5394085551414258, 'beta': 0.5974064283398548, 'normalize_similarity': True, 'implicit': False}. Best is trial 94 with value: 0.023107177974434116.\n"
     ]
    },
    {
     "name": "stdout",
     "output_type": "stream",
     "text": [
      "RP3betaRecommender: Similarity column 38121 (100.0%), 693.72 column/sec. Elapsed time 54.95 sec\n",
      "EvaluatorHoldout: Processed 35595 (100.0%) in 35.49 sec. Users per second: 1003\n"
     ]
    },
    {
     "name": "stderr",
     "output_type": "stream",
     "text": [
      "[I 2024-12-24 20:15:56,526] Trial 596 finished with value: 0.006145620817976512 and parameters: {'topK': 96, 'alpha': 1.4696296164734266, 'beta': 1.6274653044266538, 'normalize_similarity': True, 'implicit': True}. Best is trial 94 with value: 0.023107177974434116.\n"
     ]
    },
    {
     "name": "stdout",
     "output_type": "stream",
     "text": [
      "RP3betaRecommender: Similarity column 38121 (100.0%), 728.51 column/sec. Elapsed time 52.33 sec\n",
      "EvaluatorHoldout: Processed 35595 (100.0%) in 33.46 sec. Users per second: 1064\n"
     ]
    },
    {
     "name": "stderr",
     "output_type": "stream",
     "text": [
      "[I 2024-12-24 20:17:24,226] Trial 597 finished with value: 0.02214613252708466 and parameters: {'topK': 24, 'alpha': 0.4197420526674706, 'beta': 0.364638073434262, 'normalize_similarity': True, 'implicit': False}. Best is trial 94 with value: 0.023107177974434116.\n"
     ]
    },
    {
     "name": "stdout",
     "output_type": "stream",
     "text": [
      "RP3betaRecommender: Similarity column 38121 (100.0%), 724.38 column/sec. Elapsed time 52.63 sec\n",
      "EvaluatorHoldout: Processed 35595 (100.0%) in 32.97 sec. Users per second: 1080\n"
     ]
    },
    {
     "name": "stderr",
     "output_type": "stream",
     "text": [
      "[I 2024-12-24 20:18:51,737] Trial 598 finished with value: 0.020676593154469156 and parameters: {'topK': 26, 'alpha': 0.24169038076792843, 'beta': 0.5202342542590253, 'normalize_similarity': True, 'implicit': False}. Best is trial 94 with value: 0.023107177974434116.\n"
     ]
    },
    {
     "name": "stdout",
     "output_type": "stream",
     "text": [
      "RP3betaRecommender: Similarity column 38121 (100.0%), 700.44 column/sec. Elapsed time 54.42 sec\n",
      "EvaluatorHoldout: Processed 35595 (100.0%) in 35.02 sec. Users per second: 1017\n"
     ]
    },
    {
     "name": "stderr",
     "output_type": "stream",
     "text": [
      "[I 2024-12-24 20:20:24,351] Trial 599 finished with value: 0.020717777376437055 and parameters: {'topK': 63, 'alpha': 0.3853736848852177, 'beta': 0.3939691887893977, 'normalize_similarity': True, 'implicit': False}. Best is trial 94 with value: 0.023107177974434116.\n"
     ]
    }
   ],
   "source": [
    "if config['tune_parameters']:\n",
    "    \n",
    "    optuna_study = optuna.create_study(direction='maximize', study_name=f'hyperparameters_tuning_{config[\"model\"]}_{config[\"metric\"]}',\n",
    "                                storage=f'sqlite:///{config[\"database_path\"]}', load_if_exists=True)\n",
    "\n",
    "    optuna_study.optimize(objective_function_RP3beta, n_trials=200)"
   ]
  },
  {
   "cell_type": "markdown",
   "id": "68301fdf",
   "metadata": {
    "papermill": {
     "duration": 0.0477,
     "end_time": "2024-12-24T20:20:24.454450",
     "exception": false,
     "start_time": "2024-12-24T20:20:24.406750",
     "status": "completed"
    },
    "tags": []
   },
   "source": [
    "## Some optuna visualizations on recommender parameters"
   ]
  },
  {
   "cell_type": "code",
   "execution_count": 14,
   "id": "dcedf53d",
   "metadata": {
    "execution": {
     "iopub.execute_input": "2024-12-24T20:20:24.552087Z",
     "iopub.status.busy": "2024-12-24T20:20:24.551714Z",
     "iopub.status.idle": "2024-12-24T20:20:26.063104Z",
     "shell.execute_reply": "2024-12-24T20:20:26.061865Z"
    },
    "papermill": {
     "duration": 1.563197,
     "end_time": "2024-12-24T20:20:26.064918",
     "exception": false,
     "start_time": "2024-12-24T20:20:24.501721",
     "status": "completed"
    },
    "tags": []
   },
   "outputs": [
    {
     "data": {
      "text/html": [
       "<html>\n",
       "<head><meta charset=\"utf-8\" /></head>\n",
       "<body>\n",
       "    <div>            <script src=\"https://cdnjs.cloudflare.com/ajax/libs/mathjax/2.7.5/MathJax.js?config=TeX-AMS-MML_SVG\"></script><script type=\"text/javascript\">if (window.MathJax && window.MathJax.Hub && window.MathJax.Hub.Config) {window.MathJax.Hub.Config({SVG: {font: \"STIX-Web\"}});}</script>                <script type=\"text/javascript\">window.PlotlyConfig = {MathJaxConfig: 'local'};</script>\n",
       "        <script charset=\"utf-8\" src=\"https://cdn.plot.ly/plotly-2.35.2.min.js\"></script>                <div id=\"e7020767-ad06-4655-bf01-bf7c6e827f27\" class=\"plotly-graph-div\" style=\"height:525px; width:1500px;\"></div>            <script type=\"text/javascript\">                                    window.PLOTLYENV=window.PLOTLYENV || {};                                    if (document.getElementById(\"e7020767-ad06-4655-bf01-bf7c6e827f27\")) {                    Plotly.newPlot(                        \"e7020767-ad06-4655-bf01-bf7c6e827f27\",                        [{\"marker\":{\"color\":[0,1,2,3,4,5,6,7,8,9,10,11,12,13,14,15,16,17,18,19,20,21,22,23,24,25,26,27,28,29,30,31,32,33,34,35,36,37,38,39,40,41,42,43,44,45,46,47,48,49,50,51,52,53,54,55,56,57,58,59,60,61,62,63,64,65,66,67,68,69,70,71,72,73,74,75,76,77,78,79,80,81,82,83,84,85,86,87,88,89,90,91,92,93,94,95,96,97,98,99,100,101,102,103,104,105,106,107,108,109,110,111,112,113,114,115,116,117,118,119,120,121,122,123,124,125,126,127,128,129,130,131,132,133,134,135,136,137,138,139,140,141,142,143,144,145,146,147,148,149,150,151,152,153,154,155,156,157,158,159,160,161,162,163,164,165,166,167,168,169,170,171,172,173,174,175,176,177,178,179,180,181,182,183,184,185,186,187,188,189,190,191,192,193,194,195,196,197,198,199,200,201,202,203,204,205,206,207,208,209,210,211,212,213,214,215,216,217,218,219,220,221,222,223,224,225,226,227,228,229,230,231,232,233,234,235,236,237,238,239,240,241,242,243,244,245,246,247,248,249,250,251,252,253,254,255,256,257,258,259,260,261,262,263,264,265,266,267,268,269,270,271,272,273,274,275,276,277,278,279,280,281,282,283,284,285,286,287,288,289,290,291,292,293,294,295,296,297,298,299,300,301,302,303,304,305,306,307,308,309,310,311,312,313,314,315,316,317,318,319,320,321,322,323,324,325,326,327,328,329,330,331,332,333,334,335,336,337,338,339,340,341,342,343,344,345,346,347,348,349,350,351,352,353,354,355,356,357,358,359,360,361,362,363,364,365,366,367,368,369,370,371,372,373,374,375,376,377,378,379,380,381,382,383,384,385,386,387,388,389,390,391,392,393,394,395,396,397,398,399,400,401,402,403,404,405,406,407,408,409,410,411,412,413,414,415,416,417,418,419,420,421,422,423,424,425,426,427,428,429,430,431,432,433,434,435,436,437,438,439,440,441,442,443,444,445,446,447,448,449,450,451,452,453,454,455,456,457,458,459,460,461,462,463,464,465,466,467,468,469,470,471,472,473,474,475,476,477,478,479,480,481,482,483,484,485,486,487,488,489,490,491,492,493,494,495,496,497,498,499,500,501,502,503,504,505,506,507,508,509,510,511,512,513,514,515,516,517,518,519,520,521,522,523,524,525,526,527,528,529,530,531,532,533,534,535,536,537,538,539,540,541,542,543,544,545,546,547,548,549,550,551,552,553,554,555,556,557,558,559,560,561,562,563,564,565,566,567,568,569,570,571,572,573,574,575,576,577,578,579,580,581,582,583,584,585,586,587,588,589,590,591,592,593,594,595,596,597,598,599],\"colorbar\":{\"title\":{\"text\":\"Trial\"},\"x\":1.0,\"xpad\":40},\"colorscale\":[[0.0,\"rgb(247,251,255)\"],[0.125,\"rgb(222,235,247)\"],[0.25,\"rgb(198,219,239)\"],[0.375,\"rgb(158,202,225)\"],[0.5,\"rgb(107,174,214)\"],[0.625,\"rgb(66,146,198)\"],[0.75,\"rgb(33,113,181)\"],[0.875,\"rgb(8,81,156)\"],[1.0,\"rgb(8,48,107)\"]],\"line\":{\"color\":\"Grey\",\"width\":0.5},\"showscale\":true},\"mode\":\"markers\",\"name\":\"Feasible Trial\",\"showlegend\":false,\"x\":[1.7460974509917935,1.4854859958756612,2.9490995074142052,2.7297917494142587,1.2116643990426135,1.753183894554759,0.7669501205205087,2.4630561682203416,1.4697636757027712,0.38534211305287713,2.3898949834609127,2.3705499575391746,2.2515171209234257,2.302363026312677,2.1699173109335614,1.782552682395514,2.0591612476498673,1.9815773301335113,1.1968601172289,0.9648230734527306,1.015004409655968,0.029904529719660178,0.7246613385974536,0.7037356207023848,0.6632411263116572,0.4993648604549783,0.4974535147542572,0.2796473299772608,0.024542255995752937,0.22207945668036055,0.6984117117391274,0.7396618438237941,0.29817848201686137,0.6004841558273706,0.5589328746348898,1.0607624649254874,0.16757272725191374,1.3260344261973227,0.8151461064972322,0.8835121329937975,0.5613425893060464,0.6648402628826597,0.39688578608161657,1.1577877997377586,0.6283998315241003,0.37707762596763694,0.1542934842249517,1.5906948946979358,2.976725562164409,2.73747694215473,0.883830856829773,0.674546090380505,0.3789335712965278,0.4231781152394236,0.28210441954210913,0.830316640450618,0.12305476122019696,0.5955734306444886,0.29968419975515326,1.315341902344771,0.4758853000752445,0.6777901650408149,0.9448029942833058,0.7693636716330391,1.05595498095955,0.34485712638606936,0.4859349553751389,0.6313408255626592,0.08183730877002382,0.2336292616393677,0.6475188057722934,0.542277782115566,0.5431067136369285,0.5458422011076948,0.468028631781806,0.4391466676886831,0.40856590721452274,0.4599806522376455,0.4681784225503479,0.4613562265943166,0.5438706727252032,0.5456991215067956,0.20123981482600603,0.5444435133503124,0.42243157119109487,0.42317560424757406,0.3659744714089742,0.3177939086917785,0.01498167272555706,0.3395259087647604,0.35448019057467883,0.3155848105161053,0.3391438762556881,0.1077349526324688,0.34157046881880787,0.3163196168749599,0.23049766625014367,0.24702966968642476,0.33841222586476394,0.17626450803482469,0.08267874749197357,0.404071076874002,0.3594446212256374,0.37944951424697454,0.38066891052610474,0.3643549119505377,0.27721745906011996,0.16599202844306232,0.2519326869924905,1.975530016145548,0.06923332037033053,0.2869189664520552,0.364639152651554,0.35658712178308055,0.19345299177767442,0.27772752397110084,0.27370413316355263,0.12609094862184697,0.2630331074394475,0.22773089797851687,0.26275842408105987,0.28223649372823306,0.14843839761601435,0.025078622285698238,0.26094500538298643,0.39446824281572074,0.2784274924074932,0.1674426977438265,1.6617491904684556,0.5054278259489354,2.483339478454059,0.40761763579493016,0.2235267333438687,0.3958066041633768,0.2859813974918197,0.4126275242478778,0.4276051355587205,0.5869764040592595,0.4966616515850108,0.39456039938527676,0.3905919235132049,0.30817599337738,0.47218969168816816,0.46817026615983687,0.6104145977148776,0.3799967286292592,0.49876568503111984,0.483030666088069,0.5098097503830408,0.614370106886896,0.4685714972925582,0.740856289463132,0.4806453863075066,0.3585037156646123,0.45866745092987427,0.5484715143029719,0.3650148406230084,0.2028809839835702,0.43014871928587817,0.3334305949705553,0.5278248491886803,0.3245997897054736,0.328495890374104,0.36822062999924365,0.34392410526595213,0.4531230336886505,0.4610782497894632,0.5909034241441468,0.19522434023687885,0.6857868046154079,0.44376579864441085,0.519773930996225,0.45340258588404425,0.3424964523142282,0.31591864497020455,0.48894001167104567,0.4815906408754377,0.64965257738825,0.5775615844312096,0.41914186790197383,0.5095059780703134,0.510008305642226,0.5083419265019531,0.520603458087484,0.6019071146883188,0.6044990660092776,0.7048512007088286,0.5386592251867435,0.42241002710183423,0.5757488937360364,1.3765661821560713,0.480105718229663,0.44649606196333147,0.4244904741133711,0.504958274713807,0.41098485369547516,0.541089964592709,0.6040433281782059,0.6008827732860198,0.6665923604471304,0.7353318308841013,0.5564877850397256,0.6455463759888026,0.5528988275498229,0.5181730340530316,0.8278205714704905,0.5862118733322113,0.5008920156634,0.4443563591808537,0.638851568487194,0.43682717470468513,0.5475730005076106,0.5414063202041719,0.5414782345639719,0.4777025509386667,0.39419303739073747,0.4510001621937566,0.545541819255478,0.38970103952587176,0.4996780961052891,0.47709414332704286,0.5027331242047041,0.503977399526474,0.41344165881266404,0.5201244361509078,2.86114246086104,0.5425093842496408,0.5317022388516468,0.37481142106971393,0.5595437700158787,0.4551101340398931,1.888572054386187,0.45272153278817473,0.4585444390290758,0.44123007731150526,0.36844159726880427,0.3517790138008565,0.35208991381339627,0.36936157946529014,0.47734632529491333,0.47449161920929855,0.4489013307499534,0.32466572305936103,0.3902815161252913,0.5033608784370281,0.43153713596750176,0.4172684620304764,0.30477220707344926,0.30631227808677247,0.4340600527359238,0.34171608374996365,0.3126544814682496,0.2409821119662192,0.35672132316343175,0.2844773631976969,0.2656824097460156,0.3102340850949229,0.36974262808020214,0.2432939499081001,0.39382894701722193,0.4488631661882436,0.29058284303593174,0.4315617943021644,0.43150869565208533,0.33475616748376463,0.3954117931505159,0.44624067660413674,0.33223517923811025,0.45755555092814876,2.133886554337951,0.2061664399126457,0.3836518736090421,0.29834359419917506,0.38288942285099176,0.3571193035115966,0.26910919063608807,2.537875796686719,0.4226127905449902,0.4003396340790026,1.1682674561287874,0.3155670889554183,0.4398874532728211,0.22085348476624278,0.4610404068324349,0.4855530995941967,0.44341268072018203,0.44949632152369623,0.38043492722719663,0.4507762067529953,0.3931074484816677,0.34241133298880916,0.44921155050972933,0.397069736935775,0.26245317268295887,0.46928892351121654,0.3423874205829398,0.35989418794480277,0.4463781736780132,0.40738544575783386,0.3251961762101213,0.4219238893823191,0.4823325236083671,0.35427648958851243,0.16026825489228722,0.3514017695147076,0.328604736589025,1.2654422786215604,0.27211050049615937,0.386986595655755,0.2127066595496574,0.405038242285066,0.3233728430674642,0.29080249956138216,1.0640378160183896,0.234189289490256,0.3453427028584161,0.31777966181976036,0.41296617468374447,0.44308386553689405,0.3650883033558698,0.4333928036755388,0.14381907808975203,0.2772817138205797,2.288909680197233,0.4986610103675741,0.40940952490936655,1.4411877910633923,0.3036111953042615,0.6099349452033026,0.3582943470817003,0.568584201672881,0.21872918242683892,0.45783213595732747,0.4031560465035088,0.3574848927667598,0.30593735524929966,1.7464713296426297,0.4144179810007891,0.2503510426608693,0.3797643898843206,0.4989126409602973,0.44026695512955133,0.32289625916432185,0.2125011638644151,1.613592893299204,0.28976061692292027,0.33123531549568264,0.1706070784979256,0.361460437773525,0.09589416894685057,0.2868532830716011,0.39992653171078413,0.4153976325567588,0.37737627448943145,0.5222818565559741,0.41391414273919913,0.4935554522112504,0.24318857620643872,0.9264251231542306,0.41740314122106487,0.34831935625718224,0.5686509691830968,0.4870590120448321,0.41913029489519665,0.32395616611857747,0.3679837736214528,0.45907332884073043,0.2623898981627538,0.5547319752155538,0.39305155001314596,0.481165219015725,0.32953018873560513,0.26886161356502764,0.19325210367317652,0.31926091319254146,0.35137003946857126,0.29276676074851693,0.38362800968535427,0.39727003101423697,0.5108096427814846,0.44349091757813497,0.3758098327015901,0.573146973870046,0.45388633921066124,0.357406952918732,0.5201319819645435,0.408038610220017,0.2571491206560198,0.3296556685490583,0.4856424570651435,0.39260558046275573,0.4439353107821189,0.6455129633946068,0.20471964276733062,0.32830441852673065,0.5436336244274096,0.3891750392175456,0.4589804699865398,0.2733349403547618,0.3549511090388391,2.373014855521039,0.513773709578176,0.4133789985926885,0.6101823916849141,0.31066374699775273,2.683826211984205,0.46171672839090316,0.23612990033061693,0.3798891189169976,0.43800270914819217,0.33185150758507376,0.4178356424593116,0.2827163182749172,0.12705143121846674,0.3787622761814162,0.5260222886203585,0.4361511022571693,0.3340976274186105,0.245634406601381,1.8985500607937258,0.4726874917337391,0.37820184614697305,0.5825318160276325,0.4339897015154028,1.5290532299458839,0.3126152183854374,0.4112125446945109,0.5074018149764662,0.19124327307194816,0.35703841995892704,0.30720640134025645,0.265082590039607,0.41588992759389454,0.28798227043039726,0.16665506154509263,0.469988893708391,0.3683093698934724,0.22559238951444058,1.1091520347457546,0.5590163962724397,0.4285405196549774,0.3185117760396623,0.515391507266829,0.3953841343703998,0.4711874465828678,0.4206743232221411,0.38875024178706746,0.5030752390931095,0.4380722999039368,0.6232474023892527,0.36899120187620216,0.5611795266430321,0.4989102329036804,0.36783025933929486,0.4344099483884371,0.3186046615325945,0.3990365068633104,0.4655757036941318,0.799817764828697,0.2637647909026672,0.5439011158308991,0.33886708213084116,0.41295366410228945,0.4901701350112245,0.36638949375947727,0.2514282245091515,0.6767923925079354,0.448654918879696,0.34176549610682244,0.5792653474809051,0.4025437245022878,0.284268761471597,0.46469645739618803,0.38314837758130993,0.5171186345563946,0.3050292127867903,0.2071614708204315,0.43065452052602354,0.348168145982812,0.0005156162338462167,0.5208837155844631,0.46978439142042683,0.3943610093902605,0.6034268658382107,0.28861614650901984,0.42602575732557363,0.3560513443254583,0.5220717139429517,2.13597289089355,0.2302451969847519,0.3156079657281899,0.46407044282876275,0.3848762283713266,0.4414546652650979,0.12271604816667409,0.5565186294628307,0.3429381056198826,0.2792080904279194,0.48924527573210075,0.4063835985815386,1.0153753311498872,0.35181054717812643,0.44622041900602166,0.175068761608091,1.2579607449751742,0.2994107817116899,0.39584502690578754,0.5360611869620551,2.907200519347453,0.24304623020105895,0.6174534639296374,0.479059985490793,0.35709670728365495,0.41957259273288877,0.32204501420586473,0.4922469535645274,0.39792477170961893,0.2604843078514376,0.3787103851867559,0.3084335028140866,0.40228344853200165,0.3824516212626111,0.2237533576843893,0.32912998095817936,0.3629864021524606,0.28966655763111915,1.6818751130293976,0.3893843037127928,0.20501194959450061,0.47034720350260145,0.3370312607342577,0.56614025653579,0.4199869535626917,0.06203991486864324,0.2539241098414557,0.5006179252094203,0.36308991152984116,0.432479262296115,0.29377820994722914,0.36821732304939064,0.5051959024127969,0.4413128426165822,0.30407514332101293,0.15215650752040666,0.4099816270336215,0.7071676150689028,0.5673945565082845,0.3549001817397833,0.24722939663958587,0.8803079424426321,0.4768417508840852,0.4020684098810147,0.3174082176114919,0.5296375991502755,0.44833385918460883,0.37081533171342085,0.29759009478761056,2.0093328989474193,0.18479219641408365,0.4755164932163734,0.3980738728219805,0.6212682768652726,0.25733462671104157,0.3498931146900593,2.4539193261905257,0.5355753717022453,0.42817503916995925,0.3134826157035474,0.4695801760512402,0.40156143550559364,0.3403082030955978,0.2284057220415271,0.5125412941113479,0.3966288042065891,1.3395208110018886,0.46755699346078317,0.2795297051801702,0.5703021518137418,0.3584056764964366,0.43974588667188685,0.3268403627799771,1.8562911468997298,0.20822411046614078,0.2910742911366913,0.15000326268578715,0.32828139758299557,0.24416376815935611,0.33787435820202444,0.38304473009329465,0.4565296196698854,0.2770481128441463,0.49812005487558847,0.4058763787609708,0.6530731234794309,0.3299272575245148,0.5394085551414258,1.4696296164734266,0.4197420526674706,0.24169038076792843,0.3853736848852177],\"y\":[0.006955000813829319,0.004003837260895806,0.00629727177662281,0.006152528333522871,0.008852048062751947,0.006060187693563195,0.004111397623618421,0.009696914360631382,0.007295051025982387,0.0020743059596831158,0.009086452083291705,0.00901820190547557,0.010103978398963874,0.010042351453856102,0.010257217996999106,0.0033975400058416983,0.010439102156759372,0.009670387984758156,0.01315999661090301,0.014055765144471818,0.007789414421947156,0.010118282842471883,0.015637350974477195,0.015893523256566015,0.01633631328637671,0.004788920550193202,0.009793877105086713,0.016267123302943137,0.00960222922338409,0.01258263043008129,0.011968937361900144,0.015554022657899845,0.01482531098312856,0.0170921165581933,0.0018588206833044555,0.007924300496993386,0.013089155557339681,0.008289903834362419,0.015282923854563354,0.011173080310459398,0.0036768205807396477,0.016318202797343303,0.015391266831216563,0.01324736843278809,0.013394684914280764,0.01076726042760622,0.0021909477655368908,0.007712222155332205,0.00876202181954406,0.006414486607491263,0.014672178409220466,0.015193378105093464,0.017047615703115204,0.01404009391367213,0.014784592762047888,0.014706071612519465,0.00735647507118222,0.001072086323877311,0.015177822817098272,0.005186960001962128,0.013758945990720622,0.016200047046022775,0.014110208095037805,0.015171283196989365,0.013772800041026295,0.013126472417876104,0.010356713645799404,0.016458009752573718,0.011184693543100931,0.009790699826308966,0.005344545225497624,0.017423581428638386,0.01758896492061264,0.01582028865299008,0.01791064377242221,0.017869217631333204,0.018436587089768766,0.017610574875640227,0.018206020330124847,0.016791081099762288,0.017937254875729433,0.01827410662724615,0.013758170065797994,0.018725970296345363,0.01907000046823054,0.019105475621910502,0.01910274316216162,0.01860411552362677,0.01242733953627375,0.01922092455467929,0.019596332862873062,0.01972456560467509,0.019607364151822612,0.01662281576019482,0.023107177974434116,0.01823101715284616,0.014109918238026547,0.018330225174304483,0.017033923303835005,0.018087287094451038,0.01631958853682435,0.019760244773097606,0.019415145474774607,0.020502056869945433,0.02045542556583416,0.020966864884268757,0.02022158565163185,0.01876058925700728,0.018028237647074646,0.010637395567863585,0.014735993774763697,0.018999186170699022,0.02059830054604568,0.020458214882150605,0.018702484074586856,0.020471906166596283,0.020060255698477136,0.018928292719906703,0.02006971618539247,0.01956180977799171,0.020653126999734508,0.02031552384965766,0.019444034185289942,0.016792929495626715,0.01836733579042886,0.014344878561060993,0.018321250755300444,0.017800976372194348,0.01139314867212071,0.019111971763467617,0.00906356341291035,0.02044452582737431,0.0003611752141039954,0.02096298525965582,0.020315740127581524,0.020277444442214507,0.007761646120263986,0.017279321823780374,0.016406269161220836,0.020254941504625243,0.0189561134188188,0.01983896101869115,0.021700879827512523,0.01749151053407289,0.019170211840881746,0.021145550583392705,0.021592841200721313,0.02076965397761837,0.00028209999175022335,0.019842122689783796,0.0206131311915129,0.018666035670249735,0.017542652459213846,0.019029518592097533,0.020218351516286506,0.007959460152464933,0.019381000318842732,0.018455402154306487,0.017709695939995183,0.002125026477323139,0.01799544701525325,0.020647694410441713,0.021349046927849884,0.021978018805030683,0.01842381777358612,0.020815630873784883,0.02061892721690429,0.01907863820716751,0.019375836404702782,0.019559887803039876,0.0029013951040920928,0.019407964824736723,0.019553465240570094,0.020329508335618585,0.016291615105563897,0.02105351875263361,0.01923143075650445,0.00028209999175022335,0.018220701587747547,0.021104555883316698,0.021220961344222765,0.020832545145229437,0.02117501677826143,0.020547185376936495,0.02073097144462489,0.020146626398838654,0.01730479356606637,0.01971446185816167,0.015514277687476485,0.018566404011621022,0.008132001997783798,0.020433390858801585,0.02216849834001096,0.020175111539207487,0.019817011039092582,0.0036602987310951664,0.021252638256220018,0.020792234953633894,0.00028209999175022335,0.01866292082221284,0.006494008878543251,0.02077057929038535,0.020264990624240406,0.02006104611625037,0.00028209999175022335,0.017896360510772643,0.0201839811637535,0.019162707888792957,0.0218630102319523,0.019464299649718818,0.019427949350831714,0.021209879887713615,0.021239710633515756,0.020502086970481236,0.02156971284088837,0.020397594632739824,0.020365918835577312,0.02112834534010242,0.020554233361649923,0.021410708432832014,0.020136298570558795,0.021851788306276054,0.017142794712116396,0.020542970187091326,0.02113848141682082,0.00028209999175022335,0.020061975888355787,0.021302878280122027,0.021133874920010346,0.016468240590238156,0.021974753454314953,0.010559060595723261,0.02187212512012317,0.02173363701429419,0.00028209999175022335,0.022094922597029356,0.022398296978574702,0.00028209999175022335,0.020329258612654968,0.021757268164558228,0.02048449376472952,0.020636188201927492,0.00028209999175022335,0.022034236572373675,0.020780842458254803,0.02190298151381141,0.020878171983312866,0.02175321128123457,0.018362287819093576,0.020752251408593436,0.02189429026281081,0.019941465606235793,0.021209862050359147,0.02091056461916103,0.02154373273399791,0.02093965177024575,0.020072424118778732,0.00028209999175022335,0.020136090096477658,0.017707414988283186,0.02176152571812062,0.020018350178484863,0.021813809233952215,0.00028209999175022335,0.02019238813191594,0.01966205905502137,0.01996392395043879,0.02042522580975991,0.0008238204491891859,0.010194365848601228,0.015154296461292157,0.021672974401166344,0.019809097942684064,0.02105942514665623,0.00028209999175022335,0.01866276251569134,0.0094628202641268,0.021337900810930465,0.00028209999175022335,0.0095994142658704,0.01978534750511144,0.021745069643720867,0.018733489856119438,0.021585786526999873,0.019941170175051297,0.022133459086682662,0.00028209999175022335,0.020073122005275244,0.01978276666287606,0.02152837923107602,0.019903580180023438,0.020423436500132484,0.021110788923894494,0.019294762283805663,0.02102171363465059,0.021811551693767896,0.02039260574764144,0.022112850253178738,0.02149438792232692,0.016499579707333793,0.00028209999175022335,0.021062042778435305,0.021956804616307033,0.016054330352265722,0.00028209999175022335,0.0010874164152714577,0.009759837858447381,0.019320364461746693,0.020826160487137903,0.020859353574271183,0.020499335558543084,0.02189519773822318,0.019841136061110615,0.014979306439062322,0.018683787182522924,0.017828239653777084,0.0015668577493271984,0.02202120081070745,0.02078896402874466,0.00028209999175022335,0.019897497642124465,0.018946524725917912,0.019331088056330274,0.009662253036252351,0.02081506788228219,0.018419242492146003,0.005006934271578228,0.0039622394352693425,0.01959923589232468,0.017939734268010824,0.020440619446729744,0.00028209999175022335,0.0032111786700914106,0.021831098089841988,0.020949272793351768,0.02142727264619353,0.01122079857836313,0.011762784366450885,0.021480045574440637,0.00028209999175022335,0.01745826950904921,0.020249534556529704,0.021741390689346485,0.018495999973243995,0.011540317995438386,0.00028209999175022335,0.02165516937682937,0.01821586543499742,0.021009345658945047,0.016405916873468727,0.016009573085215997,0.02208455240503248,0.02065656514982242,0.021181862977901634,0.00028209999175022335,0.02104881860971162,0.019000789302938397,0.001482893976994275,0.01201158424694069,0.02077656260799931,0.02127135744497707,0.00028209999175022335,0.02054310842658918,0.020277953921653685,0.0008752054082859024,0.02080192955582726,0.019765342911992584,0.009080797641901912,0.02062823385663651,0.01949218054970254,0.007560159822696749,0.02196333977707728,0.00028209999175022335,0.01898111693054795,0.020206819666575084,0.020027909885684682,0.020447499091409624,0.021990100268228854,0.015467241698384,0.01995478565074003,0.021221212182021016,0.020026523031369113,0.0016304456885999257,0.017459849229760842,0.019833315495978648,0.020049012590942498,0.01974406517769339,0.021292123470167776,0.020142394486473546,0.021544772874734688,0.01761092158921919,0.017153228449688702,0.01572895582356214,0.016641178201861114,0.02070747853385843,0.019609297275120976,0.00028209999175022335,0.01840982771345179,0.01980183368004683,0.02155078852255399,0.009166478259609472,0.020392969183740152,0.02060564842128247,0.00028209999175022335,0.01924626028713674,0.009141445762179156,0.0201332918614839,0.014689364700321771,0.016548949045367238,0.021826653244057102,0.01940351551961327,0.021288271716421458,0.0025745467639694225,0.019468653079061746,0.00897047806339856,0.019752122087773005,0.00028209999175022335,0.02050383614606093,0.019191679097073085,0.010574447543685011,0.01348236666020099,0.018158247435322912,0.02027838201816278,0.021900741810981735,0.011848867439470345,0.017603160110324114,0.008694459494712495,0.019832323293132195,0.019769030785044148,0.01847056056116323,0.021813372218765843,0.020075270291662943,0.021481174901950013,0.019828790382098446,0.008238383980272004,0.002055019320084632,0.016881297979696785,0.017707208743871345,0.014752154417978607,0.017227801969689923,0.019968106810078833,0.020281461191490508,0.00028209999175022335,0.021831451492428808,0.02014733543368177,0.020543301292985063,0.020114190284438702,0.01671737046178693,0.021667729104096294,0.019731940235943553,0.008261515684609023,0.00028209999175022335,0.01954803822545074,0.021192885348173658,0.021415837787097623,0.01640617774477894,0.017510429278233847,0.019155317649839364,0.00028209999175022335,0.021273328472653997,0.019328513903102962,0.020878496400198683,0.010046450700896735,0.016477163726847807,0.021223758464381882,0.017114463418930474,0.00028209999175022335,0.021223662588601207,0.005075446435539154,0.020484129213796023,0.019938413188939786,0.019112277228164262,0.019188303377725906,0.003991501615395398,0.017228787483528445,0.020427696283363952,0.008299414488837253,0.00028209999175022335,0.019452720976951863,0.00028209999175022335,0.02053735587974923,0.019972308621908217,0.021769276048668806,0.018653305373280037,0.0005045975781331873,0.01851235571252428,0.01931637558333717,0.021734644824825768,0.010165985502690275,0.00028209999175022335,0.020019802808045432,0.02107572737387291,0.021278710894387095,0.017650732334887533,0.019352927667297567,0.00028209999175022335,0.020540771733144066,0.018887574498826058,0.01977178108214756,0.019748646033306623,0.00028209999175022335,0.020336424769842206,0.020803648630871353,0.019361541994706685,0.0131901985966465,0.020411621482417697,0.020076483231771837,0.00028209999175022335,0.00885196667982184,0.01884498447035321,0.018942558144201593,0.020484604133360788,0.018075275865836384,0.019738763024055753,0.00028209999175022335,0.02083241247990485,0.022056930146689524,0.01812360840763712,0.01648871341391377,0.01874986120308497,0.021948096642786605,0.021959457922795113,0.00028209999175022335,0.020656252996117987,0.0192796116807916,0.015525695824052705,0.011261539096136901,0.020612321821550473,0.020768820081293587,0.02028940438843492,0.019759400843260812,0.0171948452275044,0.017963228293611862,0.018401196663522853,0.01953851642262927,0.02097344352359078,0.020911375103958015,0.00028209999175022335,0.00028209999175022335,0.018944485693326765,0.02007030035875368,0.020205476290811066,0.015570513292173994,0.00028209999175022335,0.01814460631843695,0.0014970222766261532,0.021169422537943183,0.020408158805967254,0.02003549745037293,0.0165324840522903,0.017286727670419225,0.017155828244113276,0.01896057164261964,0.0204046771773277,0.020470287426671528,0.00028209999175022335,0.00028209999175022335,0.009699614490175172,0.018753788765588156,0.018147607453338595,0.020624844759273498,0.018402175488353406,0.019870328006653254,0.02175516670122622,0.009564459739976145,0.020486256318325232,0.00028209999175022335,0.015177854032468782,0.02180870217637996,0.019415838901932395,0.020974320898467298,0.015410842212991773,0.021033582164428914,0.02076069070696099,0.012894805316423829,0.008247816596320736,0.020357921011734562,0.00028209999175022335,0.01944122145744557,0.021014576463164528,0.02195282242690552,0.010866876478549734,0.01798179920935932,0.01688574728482042,0.019471600701899797,0.01715944365291195,0.019298272898146434,0.017316330989950963,0.019808660927497675,0.021792301843713374,0.016118475708867902,0.00028209999175022335,0.019512668981063304,0.01924395815356616,0.016833758085338487,0.018304626340867346,0.006145620817976512,0.02214613252708466,0.020676593154469156,0.020717777376437055],\"type\":\"scatter\",\"xaxis\":\"x\",\"yaxis\":\"y\"},{\"marker\":{\"color\":[0,1,2,3,4,5,6,7,8,9,10,11,12,13,14,15,16,17,18,19,20,21,22,23,24,25,26,27,28,29,30,31,32,33,34,35,36,37,38,39,40,41,42,43,44,45,46,47,48,49,50,51,52,53,54,55,56,57,58,59,60,61,62,63,64,65,66,67,68,69,70,71,72,73,74,75,76,77,78,79,80,81,82,83,84,85,86,87,88,89,90,91,92,93,94,95,96,97,98,99,100,101,102,103,104,105,106,107,108,109,110,111,112,113,114,115,116,117,118,119,120,121,122,123,124,125,126,127,128,129,130,131,132,133,134,135,136,137,138,139,140,141,142,143,144,145,146,147,148,149,150,151,152,153,154,155,156,157,158,159,160,161,162,163,164,165,166,167,168,169,170,171,172,173,174,175,176,177,178,179,180,181,182,183,184,185,186,187,188,189,190,191,192,193,194,195,196,197,198,199,200,201,202,203,204,205,206,207,208,209,210,211,212,213,214,215,216,217,218,219,220,221,222,223,224,225,226,227,228,229,230,231,232,233,234,235,236,237,238,239,240,241,242,243,244,245,246,247,248,249,250,251,252,253,254,255,256,257,258,259,260,261,262,263,264,265,266,267,268,269,270,271,272,273,274,275,276,277,278,279,280,281,282,283,284,285,286,287,288,289,290,291,292,293,294,295,296,297,298,299,300,301,302,303,304,305,306,307,308,309,310,311,312,313,314,315,316,317,318,319,320,321,322,323,324,325,326,327,328,329,330,331,332,333,334,335,336,337,338,339,340,341,342,343,344,345,346,347,348,349,350,351,352,353,354,355,356,357,358,359,360,361,362,363,364,365,366,367,368,369,370,371,372,373,374,375,376,377,378,379,380,381,382,383,384,385,386,387,388,389,390,391,392,393,394,395,396,397,398,399,400,401,402,403,404,405,406,407,408,409,410,411,412,413,414,415,416,417,418,419,420,421,422,423,424,425,426,427,428,429,430,431,432,433,434,435,436,437,438,439,440,441,442,443,444,445,446,447,448,449,450,451,452,453,454,455,456,457,458,459,460,461,462,463,464,465,466,467,468,469,470,471,472,473,474,475,476,477,478,479,480,481,482,483,484,485,486,487,488,489,490,491,492,493,494,495,496,497,498,499,500,501,502,503,504,505,506,507,508,509,510,511,512,513,514,515,516,517,518,519,520,521,522,523,524,525,526,527,528,529,530,531,532,533,534,535,536,537,538,539,540,541,542,543,544,545,546,547,548,549,550,551,552,553,554,555,556,557,558,559,560,561,562,563,564,565,566,567,568,569,570,571,572,573,574,575,576,577,578,579,580,581,582,583,584,585,586,587,588,589,590,591,592,593,594,595,596,597,598,599],\"colorbar\":{\"title\":{\"text\":\"Trial\"},\"x\":1.0,\"xpad\":40},\"colorscale\":[[0.0,\"rgb(247,251,255)\"],[0.125,\"rgb(222,235,247)\"],[0.25,\"rgb(198,219,239)\"],[0.375,\"rgb(158,202,225)\"],[0.5,\"rgb(107,174,214)\"],[0.625,\"rgb(66,146,198)\"],[0.75,\"rgb(33,113,181)\"],[0.875,\"rgb(8,81,156)\"],[1.0,\"rgb(8,48,107)\"]],\"line\":{\"color\":\"Grey\",\"width\":0.5},\"showscale\":false},\"mode\":\"markers\",\"name\":\"Feasible Trial\",\"showlegend\":false,\"x\":[0.1911757050046814,2.347751947736217,0.9859677515925422,1.9597635406871374,0.7064672669893378,1.657159230192423,1.9419728542105017,0.8623295787272951,1.441458441204304,1.8738506398308974,0.058840612049587016,0.00670679214483378,0.6214979068432124,0.7250172822837355,0.599443868135427,2.9365776812616664,0.47063331816915244,1.1179514718107508,0.33101606827355495,0.3248879865232761,1.2067804986634327,0.32407442126484975,0.381106200382391,0.3974143645776863,0.3644031323303653,1.311628388620281,0.9448057758971087,0.48675649059290865,0.15116705906728745,0.5535092534013041,0.8220754490383905,0.3826313060333483,0.17769537708730265,0.4692020916595774,2.379082840643206,1.003500553300388,0.2133021198017941,0.7722023283343122,0.5116450566179782,0.6539332399540405,1.5776148298304247,0.3917346202325938,0.168238001159981,0.4833888680974175,0.025880738485161814,0.8494164939471109,1.0332592231310511,0.6921233385062938,0.25290487983444637,2.1651394098464953,0.43751217402763426,0.6046414144617693,0.37455202868395165,0.0926687807416372,0.298874050043169,0.4682631210105372,0.7239338367229837,2.912894691063381,0.5798029322871325,1.8014476768429193,0.0017414915693738653,0.43887286018893035,0.410099474026966,0.2615706335554726,0.35294512616138485,0.0982033621957556,0.910260505555264,0.5362247599871399,0.5724183791578955,0.7652913219630755,1.3717244378521447,0.4941364416717085,0.4910094506405606,0.6449316357564634,0.5291296994581898,0.2355242281366773,0.27677987063861725,0.19062267059361554,0.219357075631732,0.15783604031628723,0.25113755820773787,0.27574848504000365,0.09372225065714646,0.23389078942888603,0.23900993246921745,0.2447676226580494,0.2597047746290456,0.26071814414414163,0.11840736366892565,0.2854673850914189,0.3077569974741729,0.3026290028041769,0.3290496692657702,0.32128630870065517,0.3083563477321993,0.04879930793018916,0.18799246084018037,0.3529909242290089,0.15809692923732874,0.07115575588055806,0.4311303450352507,0.3304564906469858,0.3138962964391322,0.3243794728903933,0.332652399039224,0.33071535020364856,0.3389525245646069,0.3469362250044336,0.41968157362549446,0.6734811218287203,0.5981251463563451,0.31623112273543785,0.38887838284496,0.38478840929248187,0.3874829845031903,0.3470016780622355,0.5311447508445212,0.5221634659421087,0.43959617094549513,0.4186387197933628,0.45067007044900187,0.4685973570842519,0.5574992243112211,0.4550433127784324,0.6459290364398934,0.7876907594719686,0.4774132048572643,0.38521700510086987,0.6054358641967335,0.5377836583460731,0.1498628982117829,0.39021015443175566,2.572425193885043,0.44823473048482976,0.4547041165834522,0.44811410489121345,1.1123374139788118,0.38516049829410914,0.7131087761112493,0.46012499292482306,0.4847686088995182,0.4365280582570237,0.36807905469955515,0.5783256091299249,0.3859191308876072,0.4818857716419896,0.20728234678572668,0.14340136694234928,0.19899621604152962,0.11192926456182523,0.21199768591746088,0.17951348973043746,0.002942960647083659,0.21847274492409166,0.12841654098262484,0.2814814235758936,0.359373406582895,0.2081355600304281,0.08656204484107935,1.7058469192542625,0.37923685438178867,0.282519570959174,0.27698852899823795,0.28145306838039663,0.27844338955761644,0.21736219076007268,0.1521372783245516,0.0455853947157526,0.14240343096261526,0.21458715555654712,1.995461748356047,0.1568914245471085,0.25097313620173034,0.2979151279704883,0.19455516241681953,0.2975802514926073,0.06876584479948783,0.27721704748599074,0.14382877133429367,0.3196886105336148,0.23013529784504727,0.27641194709437306,0.22536665686057542,0.189476717322299,0.23788429527816096,0.11034006478482342,0.25371069671827284,0.2883894830524852,0.24278860744643765,0.052052548167699705,0.1451988858916796,0.20935230660416482,0.32594663458045997,0.32064362639645055,0.2940265065407999,1.5112373563840051,0.2427676454829431,0.33840531264259904,0.3512223905866906,0.22506548212025448,1.2688758586217257,0.32651049103587776,0.34401128529020214,0.3313557292537808,0.41642219892691057,0.2547289136583049,0.3939408583290947,0.1955614685116881,0.30211940029837225,0.2967604983454856,0.25442308865502367,0.3583125681782948,0.352292953274586,0.34034459959496344,0.3925110853886147,0.3883270407202496,0.506902577976053,0.3487518972744558,0.3846638860767366,0.4289485686877299,0.4135440700415238,0.31521939578257063,0.2927710381037612,0.4943937348051957,0.442004804419156,0.4240302349855053,0.4397199914025864,0.3588939824148489,0.5188641166775286,0.500316726308875,0.36131477432356945,0.3595794392064216,0.37373658359729933,0.4130889325122545,0.5515783618362256,0.4063189821220271,0.4089925748433344,0.48911208197265627,0.41329274589222925,0.4338106821145718,0.4203613438279023,0.5383927047789082,0.4678531204246899,0.383486861572407,0.38295925280269294,0.38216622239035497,0.3754792517551317,0.3700536421313909,0.36242310784027,0.30176697025243926,0.394087189444259,0.39524080092034525,0.4206371354513588,0.3527750683149926,0.30954252761231343,0.2890394801368876,0.4195399568053083,0.2826241747966913,0.3656796844721463,0.4696587921219928,0.31384288878513644,0.31957469820191015,0.4199420426110107,0.44213816116533605,0.4071837945593499,0.5785562346701076,0.2889216159646195,0.48439391590280667,2.8593795567824967,0.395395495533579,0.3339410256925806,0.24988007658595862,0.44914267257616347,0.31158771606747426,0.38063577964946216,0.27088931775480335,0.5517456222743966,0.49199659148450386,0.5120043193065009,0.4433183574599116,0.4939269975052131,0.26445772811501844,0.18609258642491924,0.2598016429797425,0.24176260956369697,0.3275463944168449,0.3041605569650029,0.19047316510640655,0.33088867735322114,0.24758948647511828,0.35521699496717485,0.25492256749362585,0.18143058530598677,0.3163350301161495,0.37712856580848375,0.2734240701711701,0.24440952881883532,0.4033928476244954,0.17284194657581242,0.26269057261378737,0.4268003634532152,0.34067546751996985,0.39509595370276385,0.6100573301542034,0.4122204567926285,2.3408159563884876,1.0347322737523537,0.37964238007518963,0.4615814680738768,0.32168128671682056,0.3921658725105445,0.4548283611163519,0.5581441984846446,0.45970000547418965,0.5113223707433329,0.42241754029264283,1.9142795006583584,0.3476674651350129,0.3639103874012487,0.46113515427367474,0.39399161975973573,0.3313864132848723,0.5215653939954641,0.4282202779691491,0.3250622877874864,0.3913753472379546,0.4541074160949888,1.3805453133174364,0.30657618655358065,0.6204757144859082,0.3706661965994503,0.5283015754277498,1.66860229421994,0.2971109709558903,0.31484858904886004,0.2772003439053804,0.42611067580672524,0.9104296729365293,0.3614502108575262,0.4777504965509525,0.2918888595527118,0.20172695487998804,0.35219200640910847,0.28850258425768227,0.3470690939257773,0.23612659012336698,0.35367006343817575,0.2922158780634617,0.40785564160452514,0.4664633539773638,0.2225124580071361,0.3435185523266646,0.3101964806740447,0.16864591937596765,0.2648311179993221,0.4098996448113549,0.5501690581982251,1.7795191489420583,0.10585125894893832,0.3611699459093032,0.5062926806779287,0.42718752444357005,0.24109184675254888,0.3179157412202337,2.1647528057479843,0.3740317712731017,0.4764914390128259,0.28535851373911275,0.4051208286268067,0.19970517052600656,1.1719341154389071,0.3369556972715943,0.36058842816521103,0.461720017885353,0.587849714270209,0.33811806975587705,0.4295532100461422,0.3139733248944746,0.2986798705872741,0.23776947895893868,0.3435665368922582,0.41379861633990167,2.6697538315602047,0.4873811498089301,0.15570710666859044,0.2918601873624654,0.3871532465833219,0.3179638934433178,0.24173826738404924,0.43727081723267125,0.3274122201283317,0.5254171822984062,0.20503414632829167,0.6571374824244977,0.3921163583423712,0.28217876724959606,0.45171687293708707,0.34814517859585437,0.39803871263650503,0.25147500657743965,0.13006214854066522,0.5190179986585953,0.3276677524566826,0.20865360235992536,0.46085891259675843,0.3851742540423326,0.2976642323576064,0.5704271795908404,0.37209190183499885,0.2679480671478319,0.15446216903424898,0.22179069136283933,1.5491500634851467,0.2873917596045389,0.24346809182877494,0.3138031314963696,0.17466469566576287,0.27050989781703066,0.34329666263205294,0.36083409211655654,0.8400063102197056,0.09428562833824997,0.2072512606587897,0.2817681232654888,0.2736258050345403,0.4052605668322224,0.2397133434547951,0.332845890474488,0.4631641121524722,0.15355620451213994,0.38775789491017465,0.4060736385246589,0.4990313059556309,0.43441870031981095,0.3558482985357378,2.0513946869905175,0.38757754290668567,0.4894364933350592,0.320836509562909,0.4330625940371727,0.3711603311291576,0.28889756012208145,0.5515803688909166,0.335029449625336,0.2513395974493853,0.20814295206897776,0.32065664933590965,0.32373065557520836,0.45107550003842434,0.2820235506123061,0.7393592058542359,0.36792717428129085,0.19437184785722178,0.4205031398119181,0.26213999649482306,0.3477577487202951,0.482543313756837,0.11612446521747105,0.3099769561944416,0.39604605678581034,0.21939470954187207,0.352446340376951,0.986654806040622,0.2741709162498102,0.5148024466532098,0.43926526503896157,0.3203711104862418,0.4022223801760827,1.2764534545952566,0.16882545024896453,0.360774667210727,0.2481734647526029,0.6031182612196895,1.4297576674973356,0.47244387608174065,0.29554808656321674,1.0795646746642737,0.40336242436009095,0.21203279082205245,0.341182572595772,0.4365669781106637,0.28387184743064886,0.37174815051940036,0.5241858254777326,2.384169008128714,0.057189761522941446,0.2534897979913272,0.31960126519961846,0.45103842086743057,0.16000581015281073,0.3946650557204268,0.3322187559740654,0.21344006070832694,0.4919817178402352,0.2878772590943268,0.38613404927691536,0.43530008655613167,0.2507576570354635,0.3456356754828275,0.5729071273578616,0.2895372413600342,0.38877781075087847,0.48240355677643554,0.21375482720219988,0.11789544977514563,0.3417418628900577,0.42886516818690634,0.28295088653856526,0.35258121015928756,0.18712300669460266,0.540279439617916,0.4126782211598184,0.31440797317821906,0.2504654009120072,0.47036413046313413,0.38419847093954346,0.31990466752940394,0.23433840452223997,0.3046012031590708,0.13883314083665874,0.2640125364669269,0.33654409801363877,0.3531778290559524,0.3553250780031825,0.2089300664774199,0.3131676423060508,0.4092578024378489,0.2565258483808032,0.3619548938022863,0.4583365235483897,0.17248516058881305,0.3133354652443456,0.3942931727363129,0.26122695175087124,0.33395764482272733,0.48800904525097083,0.42468243674653244,1.8358361866746997,0.37142614970905014,0.21338272261633245,0.29397614494093066,0.5232857006112954,0.43097921533375194,0.3433088557995441,0.25220840686594576,2.9759850264469137,0.30346176112128564,0.39053926065842715,0.17175021312505,0.4650516953740287,0.6415810063237775,0.1055097642420077,0.35026170571274007,0.23728826235129044,0.4021610765780551,2.8397755235393434,0.2912800195617031,0.015277629317422659,0.4538495643940782,0.3326008715825951,0.55118591200386,0.20902792718999383,0.3743203521712945,0.28249008094022504,0.49271448523738737,0.41820357675970626,0.3320907702712511,0.2528574887574585,0.37639186663848656,0.18117276850463615,0.3031629527888806,0.43358408821633754,0.25701399269412156,0.370558004715925,0.49099597954318397,0.3310832539989649,0.424796349097293,0.14468671363396998,0.2243352529564931,0.2956333157913094,0.3697030793615478,0.5063964458119369,0.4125922787284057,0.37856052371490206,0.5543606887759528,0.4400186552847204,0.2785860382258193,0.37092392227597043,0.4678436806496112,0.32401049693516537,0.20018680140275252,0.2654039978837258,0.3957277506037325,0.3322323058110047,0.46416897199878926,0.5974064283398548,1.6274653044266538,0.364638073434262,0.5202342542590253,0.3939691887893977],\"y\":[0.006955000813829319,0.004003837260895806,0.00629727177662281,0.006152528333522871,0.008852048062751947,0.006060187693563195,0.004111397623618421,0.009696914360631382,0.007295051025982387,0.0020743059596831158,0.009086452083291705,0.00901820190547557,0.010103978398963874,0.010042351453856102,0.010257217996999106,0.0033975400058416983,0.010439102156759372,0.009670387984758156,0.01315999661090301,0.014055765144471818,0.007789414421947156,0.010118282842471883,0.015637350974477195,0.015893523256566015,0.01633631328637671,0.004788920550193202,0.009793877105086713,0.016267123302943137,0.00960222922338409,0.01258263043008129,0.011968937361900144,0.015554022657899845,0.01482531098312856,0.0170921165581933,0.0018588206833044555,0.007924300496993386,0.013089155557339681,0.008289903834362419,0.015282923854563354,0.011173080310459398,0.0036768205807396477,0.016318202797343303,0.015391266831216563,0.01324736843278809,0.013394684914280764,0.01076726042760622,0.0021909477655368908,0.007712222155332205,0.00876202181954406,0.006414486607491263,0.014672178409220466,0.015193378105093464,0.017047615703115204,0.01404009391367213,0.014784592762047888,0.014706071612519465,0.00735647507118222,0.001072086323877311,0.015177822817098272,0.005186960001962128,0.013758945990720622,0.016200047046022775,0.014110208095037805,0.015171283196989365,0.013772800041026295,0.013126472417876104,0.010356713645799404,0.016458009752573718,0.011184693543100931,0.009790699826308966,0.005344545225497624,0.017423581428638386,0.01758896492061264,0.01582028865299008,0.01791064377242221,0.017869217631333204,0.018436587089768766,0.017610574875640227,0.018206020330124847,0.016791081099762288,0.017937254875729433,0.01827410662724615,0.013758170065797994,0.018725970296345363,0.01907000046823054,0.019105475621910502,0.01910274316216162,0.01860411552362677,0.01242733953627375,0.01922092455467929,0.019596332862873062,0.01972456560467509,0.019607364151822612,0.01662281576019482,0.023107177974434116,0.01823101715284616,0.014109918238026547,0.018330225174304483,0.017033923303835005,0.018087287094451038,0.01631958853682435,0.019760244773097606,0.019415145474774607,0.020502056869945433,0.02045542556583416,0.020966864884268757,0.02022158565163185,0.01876058925700728,0.018028237647074646,0.010637395567863585,0.014735993774763697,0.018999186170699022,0.02059830054604568,0.020458214882150605,0.018702484074586856,0.020471906166596283,0.020060255698477136,0.018928292719906703,0.02006971618539247,0.01956180977799171,0.020653126999734508,0.02031552384965766,0.019444034185289942,0.016792929495626715,0.01836733579042886,0.014344878561060993,0.018321250755300444,0.017800976372194348,0.01139314867212071,0.019111971763467617,0.00906356341291035,0.02044452582737431,0.0003611752141039954,0.02096298525965582,0.020315740127581524,0.020277444442214507,0.007761646120263986,0.017279321823780374,0.016406269161220836,0.020254941504625243,0.0189561134188188,0.01983896101869115,0.021700879827512523,0.01749151053407289,0.019170211840881746,0.021145550583392705,0.021592841200721313,0.02076965397761837,0.00028209999175022335,0.019842122689783796,0.0206131311915129,0.018666035670249735,0.017542652459213846,0.019029518592097533,0.020218351516286506,0.007959460152464933,0.019381000318842732,0.018455402154306487,0.017709695939995183,0.002125026477323139,0.01799544701525325,0.020647694410441713,0.021349046927849884,0.021978018805030683,0.01842381777358612,0.020815630873784883,0.02061892721690429,0.01907863820716751,0.019375836404702782,0.019559887803039876,0.0029013951040920928,0.019407964824736723,0.019553465240570094,0.020329508335618585,0.016291615105563897,0.02105351875263361,0.01923143075650445,0.00028209999175022335,0.018220701587747547,0.021104555883316698,0.021220961344222765,0.020832545145229437,0.02117501677826143,0.020547185376936495,0.02073097144462489,0.020146626398838654,0.01730479356606637,0.01971446185816167,0.015514277687476485,0.018566404011621022,0.008132001997783798,0.020433390858801585,0.02216849834001096,0.020175111539207487,0.019817011039092582,0.0036602987310951664,0.021252638256220018,0.020792234953633894,0.00028209999175022335,0.01866292082221284,0.006494008878543251,0.02077057929038535,0.020264990624240406,0.02006104611625037,0.00028209999175022335,0.017896360510772643,0.0201839811637535,0.019162707888792957,0.0218630102319523,0.019464299649718818,0.019427949350831714,0.021209879887713615,0.021239710633515756,0.020502086970481236,0.02156971284088837,0.020397594632739824,0.020365918835577312,0.02112834534010242,0.020554233361649923,0.021410708432832014,0.020136298570558795,0.021851788306276054,0.017142794712116396,0.020542970187091326,0.02113848141682082,0.00028209999175022335,0.020061975888355787,0.021302878280122027,0.021133874920010346,0.016468240590238156,0.021974753454314953,0.010559060595723261,0.02187212512012317,0.02173363701429419,0.00028209999175022335,0.022094922597029356,0.022398296978574702,0.00028209999175022335,0.020329258612654968,0.021757268164558228,0.02048449376472952,0.020636188201927492,0.00028209999175022335,0.022034236572373675,0.020780842458254803,0.02190298151381141,0.020878171983312866,0.02175321128123457,0.018362287819093576,0.020752251408593436,0.02189429026281081,0.019941465606235793,0.021209862050359147,0.02091056461916103,0.02154373273399791,0.02093965177024575,0.020072424118778732,0.00028209999175022335,0.020136090096477658,0.017707414988283186,0.02176152571812062,0.020018350178484863,0.021813809233952215,0.00028209999175022335,0.02019238813191594,0.01966205905502137,0.01996392395043879,0.02042522580975991,0.0008238204491891859,0.010194365848601228,0.015154296461292157,0.021672974401166344,0.019809097942684064,0.02105942514665623,0.00028209999175022335,0.01866276251569134,0.0094628202641268,0.021337900810930465,0.00028209999175022335,0.0095994142658704,0.01978534750511144,0.021745069643720867,0.018733489856119438,0.021585786526999873,0.019941170175051297,0.022133459086682662,0.00028209999175022335,0.020073122005275244,0.01978276666287606,0.02152837923107602,0.019903580180023438,0.020423436500132484,0.021110788923894494,0.019294762283805663,0.02102171363465059,0.021811551693767896,0.02039260574764144,0.022112850253178738,0.02149438792232692,0.016499579707333793,0.00028209999175022335,0.021062042778435305,0.021956804616307033,0.016054330352265722,0.00028209999175022335,0.0010874164152714577,0.009759837858447381,0.019320364461746693,0.020826160487137903,0.020859353574271183,0.020499335558543084,0.02189519773822318,0.019841136061110615,0.014979306439062322,0.018683787182522924,0.017828239653777084,0.0015668577493271984,0.02202120081070745,0.02078896402874466,0.00028209999175022335,0.019897497642124465,0.018946524725917912,0.019331088056330274,0.009662253036252351,0.02081506788228219,0.018419242492146003,0.005006934271578228,0.0039622394352693425,0.01959923589232468,0.017939734268010824,0.020440619446729744,0.00028209999175022335,0.0032111786700914106,0.021831098089841988,0.020949272793351768,0.02142727264619353,0.01122079857836313,0.011762784366450885,0.021480045574440637,0.00028209999175022335,0.01745826950904921,0.020249534556529704,0.021741390689346485,0.018495999973243995,0.011540317995438386,0.00028209999175022335,0.02165516937682937,0.01821586543499742,0.021009345658945047,0.016405916873468727,0.016009573085215997,0.02208455240503248,0.02065656514982242,0.021181862977901634,0.00028209999175022335,0.02104881860971162,0.019000789302938397,0.001482893976994275,0.01201158424694069,0.02077656260799931,0.02127135744497707,0.00028209999175022335,0.02054310842658918,0.020277953921653685,0.0008752054082859024,0.02080192955582726,0.019765342911992584,0.009080797641901912,0.02062823385663651,0.01949218054970254,0.007560159822696749,0.02196333977707728,0.00028209999175022335,0.01898111693054795,0.020206819666575084,0.020027909885684682,0.020447499091409624,0.021990100268228854,0.015467241698384,0.01995478565074003,0.021221212182021016,0.020026523031369113,0.0016304456885999257,0.017459849229760842,0.019833315495978648,0.020049012590942498,0.01974406517769339,0.021292123470167776,0.020142394486473546,0.021544772874734688,0.01761092158921919,0.017153228449688702,0.01572895582356214,0.016641178201861114,0.02070747853385843,0.019609297275120976,0.00028209999175022335,0.01840982771345179,0.01980183368004683,0.02155078852255399,0.009166478259609472,0.020392969183740152,0.02060564842128247,0.00028209999175022335,0.01924626028713674,0.009141445762179156,0.0201332918614839,0.014689364700321771,0.016548949045367238,0.021826653244057102,0.01940351551961327,0.021288271716421458,0.0025745467639694225,0.019468653079061746,0.00897047806339856,0.019752122087773005,0.00028209999175022335,0.02050383614606093,0.019191679097073085,0.010574447543685011,0.01348236666020099,0.018158247435322912,0.02027838201816278,0.021900741810981735,0.011848867439470345,0.017603160110324114,0.008694459494712495,0.019832323293132195,0.019769030785044148,0.01847056056116323,0.021813372218765843,0.020075270291662943,0.021481174901950013,0.019828790382098446,0.008238383980272004,0.002055019320084632,0.016881297979696785,0.017707208743871345,0.014752154417978607,0.017227801969689923,0.019968106810078833,0.020281461191490508,0.00028209999175022335,0.021831451492428808,0.02014733543368177,0.020543301292985063,0.020114190284438702,0.01671737046178693,0.021667729104096294,0.019731940235943553,0.008261515684609023,0.00028209999175022335,0.01954803822545074,0.021192885348173658,0.021415837787097623,0.01640617774477894,0.017510429278233847,0.019155317649839364,0.00028209999175022335,0.021273328472653997,0.019328513903102962,0.020878496400198683,0.010046450700896735,0.016477163726847807,0.021223758464381882,0.017114463418930474,0.00028209999175022335,0.021223662588601207,0.005075446435539154,0.020484129213796023,0.019938413188939786,0.019112277228164262,0.019188303377725906,0.003991501615395398,0.017228787483528445,0.020427696283363952,0.008299414488837253,0.00028209999175022335,0.019452720976951863,0.00028209999175022335,0.02053735587974923,0.019972308621908217,0.021769276048668806,0.018653305373280037,0.0005045975781331873,0.01851235571252428,0.01931637558333717,0.021734644824825768,0.010165985502690275,0.00028209999175022335,0.020019802808045432,0.02107572737387291,0.021278710894387095,0.017650732334887533,0.019352927667297567,0.00028209999175022335,0.020540771733144066,0.018887574498826058,0.01977178108214756,0.019748646033306623,0.00028209999175022335,0.020336424769842206,0.020803648630871353,0.019361541994706685,0.0131901985966465,0.020411621482417697,0.020076483231771837,0.00028209999175022335,0.00885196667982184,0.01884498447035321,0.018942558144201593,0.020484604133360788,0.018075275865836384,0.019738763024055753,0.00028209999175022335,0.02083241247990485,0.022056930146689524,0.01812360840763712,0.01648871341391377,0.01874986120308497,0.021948096642786605,0.021959457922795113,0.00028209999175022335,0.020656252996117987,0.0192796116807916,0.015525695824052705,0.011261539096136901,0.020612321821550473,0.020768820081293587,0.02028940438843492,0.019759400843260812,0.0171948452275044,0.017963228293611862,0.018401196663522853,0.01953851642262927,0.02097344352359078,0.020911375103958015,0.00028209999175022335,0.00028209999175022335,0.018944485693326765,0.02007030035875368,0.020205476290811066,0.015570513292173994,0.00028209999175022335,0.01814460631843695,0.0014970222766261532,0.021169422537943183,0.020408158805967254,0.02003549745037293,0.0165324840522903,0.017286727670419225,0.017155828244113276,0.01896057164261964,0.0204046771773277,0.020470287426671528,0.00028209999175022335,0.00028209999175022335,0.009699614490175172,0.018753788765588156,0.018147607453338595,0.020624844759273498,0.018402175488353406,0.019870328006653254,0.02175516670122622,0.009564459739976145,0.020486256318325232,0.00028209999175022335,0.015177854032468782,0.02180870217637996,0.019415838901932395,0.020974320898467298,0.015410842212991773,0.021033582164428914,0.02076069070696099,0.012894805316423829,0.008247816596320736,0.020357921011734562,0.00028209999175022335,0.01944122145744557,0.021014576463164528,0.02195282242690552,0.010866876478549734,0.01798179920935932,0.01688574728482042,0.019471600701899797,0.01715944365291195,0.019298272898146434,0.017316330989950963,0.019808660927497675,0.021792301843713374,0.016118475708867902,0.00028209999175022335,0.019512668981063304,0.01924395815356616,0.016833758085338487,0.018304626340867346,0.006145620817976512,0.02214613252708466,0.020676593154469156,0.020717777376437055],\"type\":\"scatter\",\"xaxis\":\"x2\",\"yaxis\":\"y2\"},{\"marker\":{\"color\":[0,1,2,3,4,5,6,7,8,9,10,11,12,13,14,15,16,17,18,19,20,21,22,23,24,25,26,27,28,29,30,31,32,33,34,35,36,37,38,39,40,41,42,43,44,45,46,47,48,49,50,51,52,53,54,55,56,57,58,59,60,61,62,63,64,65,66,67,68,69,70,71,72,73,74,75,76,77,78,79,80,81,82,83,84,85,86,87,88,89,90,91,92,93,94,95,96,97,98,99,100,101,102,103,104,105,106,107,108,109,110,111,112,113,114,115,116,117,118,119,120,121,122,123,124,125,126,127,128,129,130,131,132,133,134,135,136,137,138,139,140,141,142,143,144,145,146,147,148,149,150,151,152,153,154,155,156,157,158,159,160,161,162,163,164,165,166,167,168,169,170,171,172,173,174,175,176,177,178,179,180,181,182,183,184,185,186,187,188,189,190,191,192,193,194,195,196,197,198,199,200,201,202,203,204,205,206,207,208,209,210,211,212,213,214,215,216,217,218,219,220,221,222,223,224,225,226,227,228,229,230,231,232,233,234,235,236,237,238,239,240,241,242,243,244,245,246,247,248,249,250,251,252,253,254,255,256,257,258,259,260,261,262,263,264,265,266,267,268,269,270,271,272,273,274,275,276,277,278,279,280,281,282,283,284,285,286,287,288,289,290,291,292,293,294,295,296,297,298,299,300,301,302,303,304,305,306,307,308,309,310,311,312,313,314,315,316,317,318,319,320,321,322,323,324,325,326,327,328,329,330,331,332,333,334,335,336,337,338,339,340,341,342,343,344,345,346,347,348,349,350,351,352,353,354,355,356,357,358,359,360,361,362,363,364,365,366,367,368,369,370,371,372,373,374,375,376,377,378,379,380,381,382,383,384,385,386,387,388,389,390,391,392,393,394,395,396,397,398,399,400,401,402,403,404,405,406,407,408,409,410,411,412,413,414,415,416,417,418,419,420,421,422,423,424,425,426,427,428,429,430,431,432,433,434,435,436,437,438,439,440,441,442,443,444,445,446,447,448,449,450,451,452,453,454,455,456,457,458,459,460,461,462,463,464,465,466,467,468,469,470,471,472,473,474,475,476,477,478,479,480,481,482,483,484,485,486,487,488,489,490,491,492,493,494,495,496,497,498,499,500,501,502,503,504,505,506,507,508,509,510,511,512,513,514,515,516,517,518,519,520,521,522,523,524,525,526,527,528,529,530,531,532,533,534,535,536,537,538,539,540,541,542,543,544,545,546,547,548,549,550,551,552,553,554,555,556,557,558,559,560,561,562,563,564,565,566,567,568,569,570,571,572,573,574,575,576,577,578,579,580,581,582,583,584,585,586,587,588,589,590,591,592,593,594,595,596,597,598,599],\"colorbar\":{\"title\":{\"text\":\"Trial\"},\"x\":1.0,\"xpad\":40},\"colorscale\":[[0.0,\"rgb(247,251,255)\"],[0.125,\"rgb(222,235,247)\"],[0.25,\"rgb(198,219,239)\"],[0.375,\"rgb(158,202,225)\"],[0.5,\"rgb(107,174,214)\"],[0.625,\"rgb(66,146,198)\"],[0.75,\"rgb(33,113,181)\"],[0.875,\"rgb(8,81,156)\"],[1.0,\"rgb(8,48,107)\"]],\"line\":{\"color\":\"Grey\",\"width\":0.5},\"showscale\":false},\"mode\":\"markers\",\"name\":\"Feasible Trial\",\"showlegend\":false,\"x\":[true,true,true,true,false,false,false,true,true,false,true,true,true,true,true,true,true,true,false,false,false,false,false,false,false,false,false,false,false,false,false,false,false,false,false,false,false,false,false,false,false,false,false,false,false,false,false,false,false,false,false,false,false,false,false,false,false,true,false,false,true,false,false,false,false,false,false,false,false,false,true,false,false,false,false,false,false,false,false,false,false,false,false,false,false,false,false,false,true,false,false,false,false,false,false,false,false,false,false,false,false,false,false,false,false,false,false,false,true,false,false,false,false,false,false,false,false,false,false,false,false,false,false,false,false,false,false,false,true,false,false,false,false,false,false,false,false,false,false,false,false,false,false,false,false,false,false,false,false,false,true,false,true,true,true,true,true,false,false,false,false,false,false,false,false,false,false,false,false,true,false,false,false,false,false,false,false,false,false,false,false,false,false,false,false,false,false,false,false,false,false,false,false,false,false,false,false,false,false,false,false,false,false,false,false,false,false,false,false,false,false,false,false,false,false,false,false,false,false,false,false,false,false,false,false,false,false,false,false,false,false,false,false,false,false,false,false,false,false,false,false,false,false,false,false,false,false,false,false,false,false,false,false,false,false,false,false,false,false,false,false,false,false,false,false,false,false,false,false,false,false,false,false,false,false,false,false,false,false,false,false,false,false,false,false,false,false,false,false,false,false,false,false,false,false,false,false,true,true,true,true,true,true,true,true,true,true,true,true,true,true,true,true,true,true,true,true,true,true,true,true,true,true,true,true,true,true,false,false,false,false,false,false,true,true,true,true,true,true,true,true,true,false,false,false,true,false,false,false,false,true,false,false,false,false,true,false,false,false,true,false,false,false,false,true,false,false,false,true,false,false,false,false,true,false,false,false,true,true,true,true,true,true,true,true,true,true,true,false,false,false,true,false,false,false,true,false,false,false,true,false,false,false,true,false,false,false,true,false,false,false,true,false,false,false,true,false,false,false,true,false,false,true,false,false,false,false,true,false,false,true,true,true,true,true,true,true,true,true,true,true,true,true,false,false,false,false,false,false,false,false,false,false,false,false,false,false,false,false,false,false,false,false,false,false,false,false,false,false,false,false,false,false,false,false,false,false,false,true,false,false,false,true,false,false,false,true,false,false,true,false,false,false,true,false,false,false,true,false,false,true,false,false,false,true,false,false,false,true,false,false,true,false,false,false,true,false,false,false,false,true,true,true,true,true,true,true,true,true,true,true,true,true,true,true,true,false,false,false,true,false,false,true,false,false,false,true,false,false,true,false,false,false,true,false,false,true,false,false,true,false,false,false,true,false,false,true,false,false,true,false,false,false,true,false,false,true,false,false,true,false,false,false,true,false,false,true,false,false,true,false,false,false,true,false,false,true,false,false,false],\"y\":[0.006955000813829319,0.004003837260895806,0.00629727177662281,0.006152528333522871,0.008852048062751947,0.006060187693563195,0.004111397623618421,0.009696914360631382,0.007295051025982387,0.0020743059596831158,0.009086452083291705,0.00901820190547557,0.010103978398963874,0.010042351453856102,0.010257217996999106,0.0033975400058416983,0.010439102156759372,0.009670387984758156,0.01315999661090301,0.014055765144471818,0.007789414421947156,0.010118282842471883,0.015637350974477195,0.015893523256566015,0.01633631328637671,0.004788920550193202,0.009793877105086713,0.016267123302943137,0.00960222922338409,0.01258263043008129,0.011968937361900144,0.015554022657899845,0.01482531098312856,0.0170921165581933,0.0018588206833044555,0.007924300496993386,0.013089155557339681,0.008289903834362419,0.015282923854563354,0.011173080310459398,0.0036768205807396477,0.016318202797343303,0.015391266831216563,0.01324736843278809,0.013394684914280764,0.01076726042760622,0.0021909477655368908,0.007712222155332205,0.00876202181954406,0.006414486607491263,0.014672178409220466,0.015193378105093464,0.017047615703115204,0.01404009391367213,0.014784592762047888,0.014706071612519465,0.00735647507118222,0.001072086323877311,0.015177822817098272,0.005186960001962128,0.013758945990720622,0.016200047046022775,0.014110208095037805,0.015171283196989365,0.013772800041026295,0.013126472417876104,0.010356713645799404,0.016458009752573718,0.011184693543100931,0.009790699826308966,0.005344545225497624,0.017423581428638386,0.01758896492061264,0.01582028865299008,0.01791064377242221,0.017869217631333204,0.018436587089768766,0.017610574875640227,0.018206020330124847,0.016791081099762288,0.017937254875729433,0.01827410662724615,0.013758170065797994,0.018725970296345363,0.01907000046823054,0.019105475621910502,0.01910274316216162,0.01860411552362677,0.01242733953627375,0.01922092455467929,0.019596332862873062,0.01972456560467509,0.019607364151822612,0.01662281576019482,0.023107177974434116,0.01823101715284616,0.014109918238026547,0.018330225174304483,0.017033923303835005,0.018087287094451038,0.01631958853682435,0.019760244773097606,0.019415145474774607,0.020502056869945433,0.02045542556583416,0.020966864884268757,0.02022158565163185,0.01876058925700728,0.018028237647074646,0.010637395567863585,0.014735993774763697,0.018999186170699022,0.02059830054604568,0.020458214882150605,0.018702484074586856,0.020471906166596283,0.020060255698477136,0.018928292719906703,0.02006971618539247,0.01956180977799171,0.020653126999734508,0.02031552384965766,0.019444034185289942,0.016792929495626715,0.01836733579042886,0.014344878561060993,0.018321250755300444,0.017800976372194348,0.01139314867212071,0.019111971763467617,0.00906356341291035,0.02044452582737431,0.0003611752141039954,0.02096298525965582,0.020315740127581524,0.020277444442214507,0.007761646120263986,0.017279321823780374,0.016406269161220836,0.020254941504625243,0.0189561134188188,0.01983896101869115,0.021700879827512523,0.01749151053407289,0.019170211840881746,0.021145550583392705,0.021592841200721313,0.02076965397761837,0.00028209999175022335,0.019842122689783796,0.0206131311915129,0.018666035670249735,0.017542652459213846,0.019029518592097533,0.020218351516286506,0.007959460152464933,0.019381000318842732,0.018455402154306487,0.017709695939995183,0.002125026477323139,0.01799544701525325,0.020647694410441713,0.021349046927849884,0.021978018805030683,0.01842381777358612,0.020815630873784883,0.02061892721690429,0.01907863820716751,0.019375836404702782,0.019559887803039876,0.0029013951040920928,0.019407964824736723,0.019553465240570094,0.020329508335618585,0.016291615105563897,0.02105351875263361,0.01923143075650445,0.00028209999175022335,0.018220701587747547,0.021104555883316698,0.021220961344222765,0.020832545145229437,0.02117501677826143,0.020547185376936495,0.02073097144462489,0.020146626398838654,0.01730479356606637,0.01971446185816167,0.015514277687476485,0.018566404011621022,0.008132001997783798,0.020433390858801585,0.02216849834001096,0.020175111539207487,0.019817011039092582,0.0036602987310951664,0.021252638256220018,0.020792234953633894,0.00028209999175022335,0.01866292082221284,0.006494008878543251,0.02077057929038535,0.020264990624240406,0.02006104611625037,0.00028209999175022335,0.017896360510772643,0.0201839811637535,0.019162707888792957,0.0218630102319523,0.019464299649718818,0.019427949350831714,0.021209879887713615,0.021239710633515756,0.020502086970481236,0.02156971284088837,0.020397594632739824,0.020365918835577312,0.02112834534010242,0.020554233361649923,0.021410708432832014,0.020136298570558795,0.021851788306276054,0.017142794712116396,0.020542970187091326,0.02113848141682082,0.00028209999175022335,0.020061975888355787,0.021302878280122027,0.021133874920010346,0.016468240590238156,0.021974753454314953,0.010559060595723261,0.02187212512012317,0.02173363701429419,0.00028209999175022335,0.022094922597029356,0.022398296978574702,0.00028209999175022335,0.020329258612654968,0.021757268164558228,0.02048449376472952,0.020636188201927492,0.00028209999175022335,0.022034236572373675,0.020780842458254803,0.02190298151381141,0.020878171983312866,0.02175321128123457,0.018362287819093576,0.020752251408593436,0.02189429026281081,0.019941465606235793,0.021209862050359147,0.02091056461916103,0.02154373273399791,0.02093965177024575,0.020072424118778732,0.00028209999175022335,0.020136090096477658,0.017707414988283186,0.02176152571812062,0.020018350178484863,0.021813809233952215,0.00028209999175022335,0.02019238813191594,0.01966205905502137,0.01996392395043879,0.02042522580975991,0.0008238204491891859,0.010194365848601228,0.015154296461292157,0.021672974401166344,0.019809097942684064,0.02105942514665623,0.00028209999175022335,0.01866276251569134,0.0094628202641268,0.021337900810930465,0.00028209999175022335,0.0095994142658704,0.01978534750511144,0.021745069643720867,0.018733489856119438,0.021585786526999873,0.019941170175051297,0.022133459086682662,0.00028209999175022335,0.020073122005275244,0.01978276666287606,0.02152837923107602,0.019903580180023438,0.020423436500132484,0.021110788923894494,0.019294762283805663,0.02102171363465059,0.021811551693767896,0.02039260574764144,0.022112850253178738,0.02149438792232692,0.016499579707333793,0.00028209999175022335,0.021062042778435305,0.021956804616307033,0.016054330352265722,0.00028209999175022335,0.0010874164152714577,0.009759837858447381,0.019320364461746693,0.020826160487137903,0.020859353574271183,0.020499335558543084,0.02189519773822318,0.019841136061110615,0.014979306439062322,0.018683787182522924,0.017828239653777084,0.0015668577493271984,0.02202120081070745,0.02078896402874466,0.00028209999175022335,0.019897497642124465,0.018946524725917912,0.019331088056330274,0.009662253036252351,0.02081506788228219,0.018419242492146003,0.005006934271578228,0.0039622394352693425,0.01959923589232468,0.017939734268010824,0.020440619446729744,0.00028209999175022335,0.0032111786700914106,0.021831098089841988,0.020949272793351768,0.02142727264619353,0.01122079857836313,0.011762784366450885,0.021480045574440637,0.00028209999175022335,0.01745826950904921,0.020249534556529704,0.021741390689346485,0.018495999973243995,0.011540317995438386,0.00028209999175022335,0.02165516937682937,0.01821586543499742,0.021009345658945047,0.016405916873468727,0.016009573085215997,0.02208455240503248,0.02065656514982242,0.021181862977901634,0.00028209999175022335,0.02104881860971162,0.019000789302938397,0.001482893976994275,0.01201158424694069,0.02077656260799931,0.02127135744497707,0.00028209999175022335,0.02054310842658918,0.020277953921653685,0.0008752054082859024,0.02080192955582726,0.019765342911992584,0.009080797641901912,0.02062823385663651,0.01949218054970254,0.007560159822696749,0.02196333977707728,0.00028209999175022335,0.01898111693054795,0.020206819666575084,0.020027909885684682,0.020447499091409624,0.021990100268228854,0.015467241698384,0.01995478565074003,0.021221212182021016,0.020026523031369113,0.0016304456885999257,0.017459849229760842,0.019833315495978648,0.020049012590942498,0.01974406517769339,0.021292123470167776,0.020142394486473546,0.021544772874734688,0.01761092158921919,0.017153228449688702,0.01572895582356214,0.016641178201861114,0.02070747853385843,0.019609297275120976,0.00028209999175022335,0.01840982771345179,0.01980183368004683,0.02155078852255399,0.009166478259609472,0.020392969183740152,0.02060564842128247,0.00028209999175022335,0.01924626028713674,0.009141445762179156,0.0201332918614839,0.014689364700321771,0.016548949045367238,0.021826653244057102,0.01940351551961327,0.021288271716421458,0.0025745467639694225,0.019468653079061746,0.00897047806339856,0.019752122087773005,0.00028209999175022335,0.02050383614606093,0.019191679097073085,0.010574447543685011,0.01348236666020099,0.018158247435322912,0.02027838201816278,0.021900741810981735,0.011848867439470345,0.017603160110324114,0.008694459494712495,0.019832323293132195,0.019769030785044148,0.01847056056116323,0.021813372218765843,0.020075270291662943,0.021481174901950013,0.019828790382098446,0.008238383980272004,0.002055019320084632,0.016881297979696785,0.017707208743871345,0.014752154417978607,0.017227801969689923,0.019968106810078833,0.020281461191490508,0.00028209999175022335,0.021831451492428808,0.02014733543368177,0.020543301292985063,0.020114190284438702,0.01671737046178693,0.021667729104096294,0.019731940235943553,0.008261515684609023,0.00028209999175022335,0.01954803822545074,0.021192885348173658,0.021415837787097623,0.01640617774477894,0.017510429278233847,0.019155317649839364,0.00028209999175022335,0.021273328472653997,0.019328513903102962,0.020878496400198683,0.010046450700896735,0.016477163726847807,0.021223758464381882,0.017114463418930474,0.00028209999175022335,0.021223662588601207,0.005075446435539154,0.020484129213796023,0.019938413188939786,0.019112277228164262,0.019188303377725906,0.003991501615395398,0.017228787483528445,0.020427696283363952,0.008299414488837253,0.00028209999175022335,0.019452720976951863,0.00028209999175022335,0.02053735587974923,0.019972308621908217,0.021769276048668806,0.018653305373280037,0.0005045975781331873,0.01851235571252428,0.01931637558333717,0.021734644824825768,0.010165985502690275,0.00028209999175022335,0.020019802808045432,0.02107572737387291,0.021278710894387095,0.017650732334887533,0.019352927667297567,0.00028209999175022335,0.020540771733144066,0.018887574498826058,0.01977178108214756,0.019748646033306623,0.00028209999175022335,0.020336424769842206,0.020803648630871353,0.019361541994706685,0.0131901985966465,0.020411621482417697,0.020076483231771837,0.00028209999175022335,0.00885196667982184,0.01884498447035321,0.018942558144201593,0.020484604133360788,0.018075275865836384,0.019738763024055753,0.00028209999175022335,0.02083241247990485,0.022056930146689524,0.01812360840763712,0.01648871341391377,0.01874986120308497,0.021948096642786605,0.021959457922795113,0.00028209999175022335,0.020656252996117987,0.0192796116807916,0.015525695824052705,0.011261539096136901,0.020612321821550473,0.020768820081293587,0.02028940438843492,0.019759400843260812,0.0171948452275044,0.017963228293611862,0.018401196663522853,0.01953851642262927,0.02097344352359078,0.020911375103958015,0.00028209999175022335,0.00028209999175022335,0.018944485693326765,0.02007030035875368,0.020205476290811066,0.015570513292173994,0.00028209999175022335,0.01814460631843695,0.0014970222766261532,0.021169422537943183,0.020408158805967254,0.02003549745037293,0.0165324840522903,0.017286727670419225,0.017155828244113276,0.01896057164261964,0.0204046771773277,0.020470287426671528,0.00028209999175022335,0.00028209999175022335,0.009699614490175172,0.018753788765588156,0.018147607453338595,0.020624844759273498,0.018402175488353406,0.019870328006653254,0.02175516670122622,0.009564459739976145,0.020486256318325232,0.00028209999175022335,0.015177854032468782,0.02180870217637996,0.019415838901932395,0.020974320898467298,0.015410842212991773,0.021033582164428914,0.02076069070696099,0.012894805316423829,0.008247816596320736,0.020357921011734562,0.00028209999175022335,0.01944122145744557,0.021014576463164528,0.02195282242690552,0.010866876478549734,0.01798179920935932,0.01688574728482042,0.019471600701899797,0.01715944365291195,0.019298272898146434,0.017316330989950963,0.019808660927497675,0.021792301843713374,0.016118475708867902,0.00028209999175022335,0.019512668981063304,0.01924395815356616,0.016833758085338487,0.018304626340867346,0.006145620817976512,0.02214613252708466,0.020676593154469156,0.020717777376437055],\"type\":\"scatter\",\"xaxis\":\"x3\",\"yaxis\":\"y3\"},{\"marker\":{\"color\":[0,1,2,3,4,5,6,7,8,9,10,11,12,13,14,15,16,17,18,19,20,21,22,23,24,25,26,27,28,29,30,31,32,33,34,35,36,37,38,39,40,41,42,43,44,45,46,47,48,49,50,51,52,53,54,55,56,57,58,59,60,61,62,63,64,65,66,67,68,69,70,71,72,73,74,75,76,77,78,79,80,81,82,83,84,85,86,87,88,89,90,91,92,93,94,95,96,97,98,99,100,101,102,103,104,105,106,107,108,109,110,111,112,113,114,115,116,117,118,119,120,121,122,123,124,125,126,127,128,129,130,131,132,133,134,135,136,137,138,139,140,141,142,143,144,145,146,147,148,149,150,151,152,153,154,155,156,157,158,159,160,161,162,163,164,165,166,167,168,169,170,171,172,173,174,175,176,177,178,179,180,181,182,183,184,185,186,187,188,189,190,191,192,193,194,195,196,197,198,199,200,201,202,203,204,205,206,207,208,209,210,211,212,213,214,215,216,217,218,219,220,221,222,223,224,225,226,227,228,229,230,231,232,233,234,235,236,237,238,239,240,241,242,243,244,245,246,247,248,249,250,251,252,253,254,255,256,257,258,259,260,261,262,263,264,265,266,267,268,269,270,271,272,273,274,275,276,277,278,279,280,281,282,283,284,285,286,287,288,289,290,291,292,293,294,295,296,297,298,299,300,301,302,303,304,305,306,307,308,309,310,311,312,313,314,315,316,317,318,319,320,321,322,323,324,325,326,327,328,329,330,331,332,333,334,335,336,337,338,339,340,341,342,343,344,345,346,347,348,349,350,351,352,353,354,355,356,357,358,359,360,361,362,363,364,365,366,367,368,369,370,371,372,373,374,375,376,377,378,379,380,381,382,383,384,385,386,387,388,389,390,391,392,393,394,395,396,397,398,399,400,401,402,403,404,405,406,407,408,409,410,411,412,413,414,415,416,417,418,419,420,421,422,423,424,425,426,427,428,429,430,431,432,433,434,435,436,437,438,439,440,441,442,443,444,445,446,447,448,449,450,451,452,453,454,455,456,457,458,459,460,461,462,463,464,465,466,467,468,469,470,471,472,473,474,475,476,477,478,479,480,481,482,483,484,485,486,487,488,489,490,491,492,493,494,495,496,497,498,499,500,501,502,503,504,505,506,507,508,509,510,511,512,513,514,515,516,517,518,519,520,521,522,523,524,525,526,527,528,529,530,531,532,533,534,535,536,537,538,539,540,541,542,543,544,545,546,547,548,549,550,551,552,553,554,555,556,557,558,559,560,561,562,563,564,565,566,567,568,569,570,571,572,573,574,575,576,577,578,579,580,581,582,583,584,585,586,587,588,589,590,591,592,593,594,595,596,597,598,599],\"colorbar\":{\"title\":{\"text\":\"Trial\"},\"x\":1.0,\"xpad\":40},\"colorscale\":[[0.0,\"rgb(247,251,255)\"],[0.125,\"rgb(222,235,247)\"],[0.25,\"rgb(198,219,239)\"],[0.375,\"rgb(158,202,225)\"],[0.5,\"rgb(107,174,214)\"],[0.625,\"rgb(66,146,198)\"],[0.75,\"rgb(33,113,181)\"],[0.875,\"rgb(8,81,156)\"],[1.0,\"rgb(8,48,107)\"]],\"line\":{\"color\":\"Grey\",\"width\":0.5},\"showscale\":false},\"mode\":\"markers\",\"name\":\"Feasible Trial\",\"showlegend\":false,\"x\":[false,true,false,false,false,false,false,true,true,true,true,true,true,true,true,true,true,true,true,true,true,true,true,true,true,true,true,true,true,false,true,true,true,true,true,false,true,false,true,false,true,true,true,true,true,true,true,false,true,true,true,true,true,true,true,true,true,true,true,true,false,true,true,true,true,true,true,true,true,true,true,true,true,true,true,true,true,true,true,false,true,true,true,true,true,true,true,true,true,true,true,true,true,true,true,true,false,true,true,true,true,true,true,true,true,true,true,true,true,true,false,true,true,true,true,true,true,true,true,true,true,true,true,true,true,true,true,true,true,true,true,true,true,true,true,true,true,false,true,true,true,true,true,true,true,true,true,true,true,true,true,true,true,true,true,true,true,true,true,true,false,true,true,true,true,true,true,true,true,true,true,true,true,true,true,true,true,true,true,true,true,true,true,true,true,true,true,true,true,true,false,true,true,true,true,true,true,true,true,true,true,true,true,true,true,true,true,true,true,true,true,true,true,true,true,true,true,true,true,true,true,true,true,true,true,true,true,true,true,false,true,true,true,true,true,true,true,true,true,true,true,true,true,true,true,true,true,true,true,true,true,true,true,true,true,true,true,true,true,false,true,true,true,true,true,true,true,true,true,true,true,true,true,true,true,true,true,true,true,false,true,true,true,true,true,true,true,true,true,true,true,true,true,true,true,true,true,true,true,false,true,true,true,true,true,true,true,true,true,true,true,true,true,true,true,true,true,true,true,false,true,true,true,true,true,true,true,true,true,true,true,true,true,true,true,true,true,true,true,false,true,true,true,true,true,true,true,true,true,true,true,true,true,true,true,true,true,true,false,true,true,true,true,true,true,true,true,true,true,true,true,true,true,true,true,true,true,true,false,true,true,true,true,true,true,true,true,true,true,true,true,true,true,true,true,true,true,false,true,true,true,true,true,true,true,true,true,true,true,true,true,true,true,true,true,true,false,true,true,true,true,true,true,true,true,true,true,true,true,true,true,true,true,true,true,true,true,true,true,false,true,true,true,true,true,true,true,true,true,true,true,true,true,true,true,false,true,true,true,true,true,true,true,true,true,true,true,true,true,true,true,true,true,true,false,true,true,true,true,true,true,true,true,true,true,true,true,true,true,true,true,true,true,false,true,true,true,true,true,true,true,true,true,true,true,true,true,true,true,true,true,true,false,true,true,true,true,true,true,true,true,true,true,true,true,true,true,true,true,true,true,true,false,true,true,true,true,true,true,true,true,true,true,true,true,true,true,true,true,true,true,false,true,true,true,true,true,true,true,true,true,true,true,true,true,true,true,true,true,true,true,false,true,true,true,true,true,true,true,true,true,true,true,true,true,true,true,true,true,true,false,true,true,true,true,true,true,true,true,true],\"y\":[0.006955000813829319,0.004003837260895806,0.00629727177662281,0.006152528333522871,0.008852048062751947,0.006060187693563195,0.004111397623618421,0.009696914360631382,0.007295051025982387,0.0020743059596831158,0.009086452083291705,0.00901820190547557,0.010103978398963874,0.010042351453856102,0.010257217996999106,0.0033975400058416983,0.010439102156759372,0.009670387984758156,0.01315999661090301,0.014055765144471818,0.007789414421947156,0.010118282842471883,0.015637350974477195,0.015893523256566015,0.01633631328637671,0.004788920550193202,0.009793877105086713,0.016267123302943137,0.00960222922338409,0.01258263043008129,0.011968937361900144,0.015554022657899845,0.01482531098312856,0.0170921165581933,0.0018588206833044555,0.007924300496993386,0.013089155557339681,0.008289903834362419,0.015282923854563354,0.011173080310459398,0.0036768205807396477,0.016318202797343303,0.015391266831216563,0.01324736843278809,0.013394684914280764,0.01076726042760622,0.0021909477655368908,0.007712222155332205,0.00876202181954406,0.006414486607491263,0.014672178409220466,0.015193378105093464,0.017047615703115204,0.01404009391367213,0.014784592762047888,0.014706071612519465,0.00735647507118222,0.001072086323877311,0.015177822817098272,0.005186960001962128,0.013758945990720622,0.016200047046022775,0.014110208095037805,0.015171283196989365,0.013772800041026295,0.013126472417876104,0.010356713645799404,0.016458009752573718,0.011184693543100931,0.009790699826308966,0.005344545225497624,0.017423581428638386,0.01758896492061264,0.01582028865299008,0.01791064377242221,0.017869217631333204,0.018436587089768766,0.017610574875640227,0.018206020330124847,0.016791081099762288,0.017937254875729433,0.01827410662724615,0.013758170065797994,0.018725970296345363,0.01907000046823054,0.019105475621910502,0.01910274316216162,0.01860411552362677,0.01242733953627375,0.01922092455467929,0.019596332862873062,0.01972456560467509,0.019607364151822612,0.01662281576019482,0.023107177974434116,0.01823101715284616,0.014109918238026547,0.018330225174304483,0.017033923303835005,0.018087287094451038,0.01631958853682435,0.019760244773097606,0.019415145474774607,0.020502056869945433,0.02045542556583416,0.020966864884268757,0.02022158565163185,0.01876058925700728,0.018028237647074646,0.010637395567863585,0.014735993774763697,0.018999186170699022,0.02059830054604568,0.020458214882150605,0.018702484074586856,0.020471906166596283,0.020060255698477136,0.018928292719906703,0.02006971618539247,0.01956180977799171,0.020653126999734508,0.02031552384965766,0.019444034185289942,0.016792929495626715,0.01836733579042886,0.014344878561060993,0.018321250755300444,0.017800976372194348,0.01139314867212071,0.019111971763467617,0.00906356341291035,0.02044452582737431,0.0003611752141039954,0.02096298525965582,0.020315740127581524,0.020277444442214507,0.007761646120263986,0.017279321823780374,0.016406269161220836,0.020254941504625243,0.0189561134188188,0.01983896101869115,0.021700879827512523,0.01749151053407289,0.019170211840881746,0.021145550583392705,0.021592841200721313,0.02076965397761837,0.00028209999175022335,0.019842122689783796,0.0206131311915129,0.018666035670249735,0.017542652459213846,0.019029518592097533,0.020218351516286506,0.007959460152464933,0.019381000318842732,0.018455402154306487,0.017709695939995183,0.002125026477323139,0.01799544701525325,0.020647694410441713,0.021349046927849884,0.021978018805030683,0.01842381777358612,0.020815630873784883,0.02061892721690429,0.01907863820716751,0.019375836404702782,0.019559887803039876,0.0029013951040920928,0.019407964824736723,0.019553465240570094,0.020329508335618585,0.016291615105563897,0.02105351875263361,0.01923143075650445,0.00028209999175022335,0.018220701587747547,0.021104555883316698,0.021220961344222765,0.020832545145229437,0.02117501677826143,0.020547185376936495,0.02073097144462489,0.020146626398838654,0.01730479356606637,0.01971446185816167,0.015514277687476485,0.018566404011621022,0.008132001997783798,0.020433390858801585,0.02216849834001096,0.020175111539207487,0.019817011039092582,0.0036602987310951664,0.021252638256220018,0.020792234953633894,0.00028209999175022335,0.01866292082221284,0.006494008878543251,0.02077057929038535,0.020264990624240406,0.02006104611625037,0.00028209999175022335,0.017896360510772643,0.0201839811637535,0.019162707888792957,0.0218630102319523,0.019464299649718818,0.019427949350831714,0.021209879887713615,0.021239710633515756,0.020502086970481236,0.02156971284088837,0.020397594632739824,0.020365918835577312,0.02112834534010242,0.020554233361649923,0.021410708432832014,0.020136298570558795,0.021851788306276054,0.017142794712116396,0.020542970187091326,0.02113848141682082,0.00028209999175022335,0.020061975888355787,0.021302878280122027,0.021133874920010346,0.016468240590238156,0.021974753454314953,0.010559060595723261,0.02187212512012317,0.02173363701429419,0.00028209999175022335,0.022094922597029356,0.022398296978574702,0.00028209999175022335,0.020329258612654968,0.021757268164558228,0.02048449376472952,0.020636188201927492,0.00028209999175022335,0.022034236572373675,0.020780842458254803,0.02190298151381141,0.020878171983312866,0.02175321128123457,0.018362287819093576,0.020752251408593436,0.02189429026281081,0.019941465606235793,0.021209862050359147,0.02091056461916103,0.02154373273399791,0.02093965177024575,0.020072424118778732,0.00028209999175022335,0.020136090096477658,0.017707414988283186,0.02176152571812062,0.020018350178484863,0.021813809233952215,0.00028209999175022335,0.02019238813191594,0.01966205905502137,0.01996392395043879,0.02042522580975991,0.0008238204491891859,0.010194365848601228,0.015154296461292157,0.021672974401166344,0.019809097942684064,0.02105942514665623,0.00028209999175022335,0.01866276251569134,0.0094628202641268,0.021337900810930465,0.00028209999175022335,0.0095994142658704,0.01978534750511144,0.021745069643720867,0.018733489856119438,0.021585786526999873,0.019941170175051297,0.022133459086682662,0.00028209999175022335,0.020073122005275244,0.01978276666287606,0.02152837923107602,0.019903580180023438,0.020423436500132484,0.021110788923894494,0.019294762283805663,0.02102171363465059,0.021811551693767896,0.02039260574764144,0.022112850253178738,0.02149438792232692,0.016499579707333793,0.00028209999175022335,0.021062042778435305,0.021956804616307033,0.016054330352265722,0.00028209999175022335,0.0010874164152714577,0.009759837858447381,0.019320364461746693,0.020826160487137903,0.020859353574271183,0.020499335558543084,0.02189519773822318,0.019841136061110615,0.014979306439062322,0.018683787182522924,0.017828239653777084,0.0015668577493271984,0.02202120081070745,0.02078896402874466,0.00028209999175022335,0.019897497642124465,0.018946524725917912,0.019331088056330274,0.009662253036252351,0.02081506788228219,0.018419242492146003,0.005006934271578228,0.0039622394352693425,0.01959923589232468,0.017939734268010824,0.020440619446729744,0.00028209999175022335,0.0032111786700914106,0.021831098089841988,0.020949272793351768,0.02142727264619353,0.01122079857836313,0.011762784366450885,0.021480045574440637,0.00028209999175022335,0.01745826950904921,0.020249534556529704,0.021741390689346485,0.018495999973243995,0.011540317995438386,0.00028209999175022335,0.02165516937682937,0.01821586543499742,0.021009345658945047,0.016405916873468727,0.016009573085215997,0.02208455240503248,0.02065656514982242,0.021181862977901634,0.00028209999175022335,0.02104881860971162,0.019000789302938397,0.001482893976994275,0.01201158424694069,0.02077656260799931,0.02127135744497707,0.00028209999175022335,0.02054310842658918,0.020277953921653685,0.0008752054082859024,0.02080192955582726,0.019765342911992584,0.009080797641901912,0.02062823385663651,0.01949218054970254,0.007560159822696749,0.02196333977707728,0.00028209999175022335,0.01898111693054795,0.020206819666575084,0.020027909885684682,0.020447499091409624,0.021990100268228854,0.015467241698384,0.01995478565074003,0.021221212182021016,0.020026523031369113,0.0016304456885999257,0.017459849229760842,0.019833315495978648,0.020049012590942498,0.01974406517769339,0.021292123470167776,0.020142394486473546,0.021544772874734688,0.01761092158921919,0.017153228449688702,0.01572895582356214,0.016641178201861114,0.02070747853385843,0.019609297275120976,0.00028209999175022335,0.01840982771345179,0.01980183368004683,0.02155078852255399,0.009166478259609472,0.020392969183740152,0.02060564842128247,0.00028209999175022335,0.01924626028713674,0.009141445762179156,0.0201332918614839,0.014689364700321771,0.016548949045367238,0.021826653244057102,0.01940351551961327,0.021288271716421458,0.0025745467639694225,0.019468653079061746,0.00897047806339856,0.019752122087773005,0.00028209999175022335,0.02050383614606093,0.019191679097073085,0.010574447543685011,0.01348236666020099,0.018158247435322912,0.02027838201816278,0.021900741810981735,0.011848867439470345,0.017603160110324114,0.008694459494712495,0.019832323293132195,0.019769030785044148,0.01847056056116323,0.021813372218765843,0.020075270291662943,0.021481174901950013,0.019828790382098446,0.008238383980272004,0.002055019320084632,0.016881297979696785,0.017707208743871345,0.014752154417978607,0.017227801969689923,0.019968106810078833,0.020281461191490508,0.00028209999175022335,0.021831451492428808,0.02014733543368177,0.020543301292985063,0.020114190284438702,0.01671737046178693,0.021667729104096294,0.019731940235943553,0.008261515684609023,0.00028209999175022335,0.01954803822545074,0.021192885348173658,0.021415837787097623,0.01640617774477894,0.017510429278233847,0.019155317649839364,0.00028209999175022335,0.021273328472653997,0.019328513903102962,0.020878496400198683,0.010046450700896735,0.016477163726847807,0.021223758464381882,0.017114463418930474,0.00028209999175022335,0.021223662588601207,0.005075446435539154,0.020484129213796023,0.019938413188939786,0.019112277228164262,0.019188303377725906,0.003991501615395398,0.017228787483528445,0.020427696283363952,0.008299414488837253,0.00028209999175022335,0.019452720976951863,0.00028209999175022335,0.02053735587974923,0.019972308621908217,0.021769276048668806,0.018653305373280037,0.0005045975781331873,0.01851235571252428,0.01931637558333717,0.021734644824825768,0.010165985502690275,0.00028209999175022335,0.020019802808045432,0.02107572737387291,0.021278710894387095,0.017650732334887533,0.019352927667297567,0.00028209999175022335,0.020540771733144066,0.018887574498826058,0.01977178108214756,0.019748646033306623,0.00028209999175022335,0.020336424769842206,0.020803648630871353,0.019361541994706685,0.0131901985966465,0.020411621482417697,0.020076483231771837,0.00028209999175022335,0.00885196667982184,0.01884498447035321,0.018942558144201593,0.020484604133360788,0.018075275865836384,0.019738763024055753,0.00028209999175022335,0.02083241247990485,0.022056930146689524,0.01812360840763712,0.01648871341391377,0.01874986120308497,0.021948096642786605,0.021959457922795113,0.00028209999175022335,0.020656252996117987,0.0192796116807916,0.015525695824052705,0.011261539096136901,0.020612321821550473,0.020768820081293587,0.02028940438843492,0.019759400843260812,0.0171948452275044,0.017963228293611862,0.018401196663522853,0.01953851642262927,0.02097344352359078,0.020911375103958015,0.00028209999175022335,0.00028209999175022335,0.018944485693326765,0.02007030035875368,0.020205476290811066,0.015570513292173994,0.00028209999175022335,0.01814460631843695,0.0014970222766261532,0.021169422537943183,0.020408158805967254,0.02003549745037293,0.0165324840522903,0.017286727670419225,0.017155828244113276,0.01896057164261964,0.0204046771773277,0.020470287426671528,0.00028209999175022335,0.00028209999175022335,0.009699614490175172,0.018753788765588156,0.018147607453338595,0.020624844759273498,0.018402175488353406,0.019870328006653254,0.02175516670122622,0.009564459739976145,0.020486256318325232,0.00028209999175022335,0.015177854032468782,0.02180870217637996,0.019415838901932395,0.020974320898467298,0.015410842212991773,0.021033582164428914,0.02076069070696099,0.012894805316423829,0.008247816596320736,0.020357921011734562,0.00028209999175022335,0.01944122145744557,0.021014576463164528,0.02195282242690552,0.010866876478549734,0.01798179920935932,0.01688574728482042,0.019471600701899797,0.01715944365291195,0.019298272898146434,0.017316330989950963,0.019808660927497675,0.021792301843713374,0.016118475708867902,0.00028209999175022335,0.019512668981063304,0.01924395815356616,0.016833758085338487,0.018304626340867346,0.006145620817976512,0.02214613252708466,0.020676593154469156,0.020717777376437055],\"type\":\"scatter\",\"xaxis\":\"x4\",\"yaxis\":\"y4\"},{\"marker\":{\"color\":[0,1,2,3,4,5,6,7,8,9,10,11,12,13,14,15,16,17,18,19,20,21,22,23,24,25,26,27,28,29,30,31,32,33,34,35,36,37,38,39,40,41,42,43,44,45,46,47,48,49,50,51,52,53,54,55,56,57,58,59,60,61,62,63,64,65,66,67,68,69,70,71,72,73,74,75,76,77,78,79,80,81,82,83,84,85,86,87,88,89,90,91,92,93,94,95,96,97,98,99,100,101,102,103,104,105,106,107,108,109,110,111,112,113,114,115,116,117,118,119,120,121,122,123,124,125,126,127,128,129,130,131,132,133,134,135,136,137,138,139,140,141,142,143,144,145,146,147,148,149,150,151,152,153,154,155,156,157,158,159,160,161,162,163,164,165,166,167,168,169,170,171,172,173,174,175,176,177,178,179,180,181,182,183,184,185,186,187,188,189,190,191,192,193,194,195,196,197,198,199,200,201,202,203,204,205,206,207,208,209,210,211,212,213,214,215,216,217,218,219,220,221,222,223,224,225,226,227,228,229,230,231,232,233,234,235,236,237,238,239,240,241,242,243,244,245,246,247,248,249,250,251,252,253,254,255,256,257,258,259,260,261,262,263,264,265,266,267,268,269,270,271,272,273,274,275,276,277,278,279,280,281,282,283,284,285,286,287,288,289,290,291,292,293,294,295,296,297,298,299,300,301,302,303,304,305,306,307,308,309,310,311,312,313,314,315,316,317,318,319,320,321,322,323,324,325,326,327,328,329,330,331,332,333,334,335,336,337,338,339,340,341,342,343,344,345,346,347,348,349,350,351,352,353,354,355,356,357,358,359,360,361,362,363,364,365,366,367,368,369,370,371,372,373,374,375,376,377,378,379,380,381,382,383,384,385,386,387,388,389,390,391,392,393,394,395,396,397,398,399,400,401,402,403,404,405,406,407,408,409,410,411,412,413,414,415,416,417,418,419,420,421,422,423,424,425,426,427,428,429,430,431,432,433,434,435,436,437,438,439,440,441,442,443,444,445,446,447,448,449,450,451,452,453,454,455,456,457,458,459,460,461,462,463,464,465,466,467,468,469,470,471,472,473,474,475,476,477,478,479,480,481,482,483,484,485,486,487,488,489,490,491,492,493,494,495,496,497,498,499,500,501,502,503,504,505,506,507,508,509,510,511,512,513,514,515,516,517,518,519,520,521,522,523,524,525,526,527,528,529,530,531,532,533,534,535,536,537,538,539,540,541,542,543,544,545,546,547,548,549,550,551,552,553,554,555,556,557,558,559,560,561,562,563,564,565,566,567,568,569,570,571,572,573,574,575,576,577,578,579,580,581,582,583,584,585,586,587,588,589,590,591,592,593,594,595,596,597,598,599],\"colorbar\":{\"title\":{\"text\":\"Trial\"},\"x\":1.0,\"xpad\":40},\"colorscale\":[[0.0,\"rgb(247,251,255)\"],[0.125,\"rgb(222,235,247)\"],[0.25,\"rgb(198,219,239)\"],[0.375,\"rgb(158,202,225)\"],[0.5,\"rgb(107,174,214)\"],[0.625,\"rgb(66,146,198)\"],[0.75,\"rgb(33,113,181)\"],[0.875,\"rgb(8,81,156)\"],[1.0,\"rgb(8,48,107)\"]],\"line\":{\"color\":\"Grey\",\"width\":0.5},\"showscale\":false},\"mode\":\"markers\",\"name\":\"Feasible Trial\",\"showlegend\":false,\"x\":[1492,1333,1077,1293,259,197,492,483,585,176,866,890,828,566,697,767,1072,1077,1078,1080,1207,1025,976,950,932,941,1196,673,723,370,1431,943,644,787,40,792,621,1186,439,682,852,973,774,906,1009,827,1341,538,1146,893,758,987,934,831,1125,963,902,663,1024,714,808,943,1047,877,927,975,1127,724,606,722,576,859,749,748,495,321,284,274,237,260,315,282,301,162,143,145,142,156,167,130,119,94,121,109,9,35,88,152,217,4,108,132,140,75,82,51,54,59,199,69,17,122,70,77,80,48,49,32,57,63,3,50,3,46,45,77,187,2,37,93,68,91,15,50,51,85,97,190,25,86,235,89,30,3,103,34,21,28,0,28,42,36,65,116,33,1,172,63,113,26,69,48,31,24,2,38,32,36,24,33,3,67,114,71,419,41,41,0,129,47,29,43,30,37,27,24,3,97,1467,53,23,48,23,96,3,62,27,26,0,86,1253,36,27,73,0,29,54,102,28,63,127,29,30,55,29,90,54,29,77,27,108,23,2,55,27,0,72,29,25,26,25,26,28,28,0,23,19,0,81,21,75,24,0,25,55,29,64,25,2,62,28,89,25,52,24,3,71,0,49,99,29,64,29,0,76,41,102,55,25,1392,519,26,83,46,0,117,58,26,0,355,81,27,54,28,82,24,0,55,142,29,108,62,27,87,50,24,57,22,4,81,0,50,27,121,0,72,38,100,53,26,78,22,52,25,101,2,60,27,69,0,138,45,91,29,54,431,1,30,75,119,43,0,79,28,49,27,104,69,23,0,627,53,28,91,51,0,30,73,50,111,469,25,69,23,0,51,93,147,30,69,27,0,51,91,25,61,121,1,39,82,46,24,0,68,26,95,51,25,1,71,45,113,21,1103,47,80,154,25,55,25,563,1223,2,84,54,105,0,33,70,29,53,25,76,0,125,46,94,685,1295,26,56,30,70,23,1,112,0,51,87,49,25,76,40,27,67,394,1,120,41,97,24,58,22,75,1,46,1055,181,28,93,140,57,0,29,71,45,98,1498,25,56,1,0,77,43,32,117,804,61,0,29,93,50,75,1159,27,338,0,44,72,30,127,95,26,59,163,50,26,0,79,0,49,96,31,66,25,51,112,21,232,0,80,48,28,72,26,0,59,103,141,42,0,80,42,30,75,54,108,0,29,58,25,77,30,97,0,53,25,131,1001,62,24,27,0,55,89,876,26,51,26,78,50,768,105,23,73,24,50,0,0,121,82,46,1400,0,290,52,26,78,27,59,109,26,167,49,87,0,0,44,73,492,26,133,62,26,103,52,0,915,27,74,44,93,34,67,21,1,50,0,93,45,25,70,141,534,25,651,63,598,112,29,29,0,198,72,829,50,96,24,26,63],\"y\":[0.006955000813829319,0.004003837260895806,0.00629727177662281,0.006152528333522871,0.008852048062751947,0.006060187693563195,0.004111397623618421,0.009696914360631382,0.007295051025982387,0.0020743059596831158,0.009086452083291705,0.00901820190547557,0.010103978398963874,0.010042351453856102,0.010257217996999106,0.0033975400058416983,0.010439102156759372,0.009670387984758156,0.01315999661090301,0.014055765144471818,0.007789414421947156,0.010118282842471883,0.015637350974477195,0.015893523256566015,0.01633631328637671,0.004788920550193202,0.009793877105086713,0.016267123302943137,0.00960222922338409,0.01258263043008129,0.011968937361900144,0.015554022657899845,0.01482531098312856,0.0170921165581933,0.0018588206833044555,0.007924300496993386,0.013089155557339681,0.008289903834362419,0.015282923854563354,0.011173080310459398,0.0036768205807396477,0.016318202797343303,0.015391266831216563,0.01324736843278809,0.013394684914280764,0.01076726042760622,0.0021909477655368908,0.007712222155332205,0.00876202181954406,0.006414486607491263,0.014672178409220466,0.015193378105093464,0.017047615703115204,0.01404009391367213,0.014784592762047888,0.014706071612519465,0.00735647507118222,0.001072086323877311,0.015177822817098272,0.005186960001962128,0.013758945990720622,0.016200047046022775,0.014110208095037805,0.015171283196989365,0.013772800041026295,0.013126472417876104,0.010356713645799404,0.016458009752573718,0.011184693543100931,0.009790699826308966,0.005344545225497624,0.017423581428638386,0.01758896492061264,0.01582028865299008,0.01791064377242221,0.017869217631333204,0.018436587089768766,0.017610574875640227,0.018206020330124847,0.016791081099762288,0.017937254875729433,0.01827410662724615,0.013758170065797994,0.018725970296345363,0.01907000046823054,0.019105475621910502,0.01910274316216162,0.01860411552362677,0.01242733953627375,0.01922092455467929,0.019596332862873062,0.01972456560467509,0.019607364151822612,0.01662281576019482,0.023107177974434116,0.01823101715284616,0.014109918238026547,0.018330225174304483,0.017033923303835005,0.018087287094451038,0.01631958853682435,0.019760244773097606,0.019415145474774607,0.020502056869945433,0.02045542556583416,0.020966864884268757,0.02022158565163185,0.01876058925700728,0.018028237647074646,0.010637395567863585,0.014735993774763697,0.018999186170699022,0.02059830054604568,0.020458214882150605,0.018702484074586856,0.020471906166596283,0.020060255698477136,0.018928292719906703,0.02006971618539247,0.01956180977799171,0.020653126999734508,0.02031552384965766,0.019444034185289942,0.016792929495626715,0.01836733579042886,0.014344878561060993,0.018321250755300444,0.017800976372194348,0.01139314867212071,0.019111971763467617,0.00906356341291035,0.02044452582737431,0.0003611752141039954,0.02096298525965582,0.020315740127581524,0.020277444442214507,0.007761646120263986,0.017279321823780374,0.016406269161220836,0.020254941504625243,0.0189561134188188,0.01983896101869115,0.021700879827512523,0.01749151053407289,0.019170211840881746,0.021145550583392705,0.021592841200721313,0.02076965397761837,0.00028209999175022335,0.019842122689783796,0.0206131311915129,0.018666035670249735,0.017542652459213846,0.019029518592097533,0.020218351516286506,0.007959460152464933,0.019381000318842732,0.018455402154306487,0.017709695939995183,0.002125026477323139,0.01799544701525325,0.020647694410441713,0.021349046927849884,0.021978018805030683,0.01842381777358612,0.020815630873784883,0.02061892721690429,0.01907863820716751,0.019375836404702782,0.019559887803039876,0.0029013951040920928,0.019407964824736723,0.019553465240570094,0.020329508335618585,0.016291615105563897,0.02105351875263361,0.01923143075650445,0.00028209999175022335,0.018220701587747547,0.021104555883316698,0.021220961344222765,0.020832545145229437,0.02117501677826143,0.020547185376936495,0.02073097144462489,0.020146626398838654,0.01730479356606637,0.01971446185816167,0.015514277687476485,0.018566404011621022,0.008132001997783798,0.020433390858801585,0.02216849834001096,0.020175111539207487,0.019817011039092582,0.0036602987310951664,0.021252638256220018,0.020792234953633894,0.00028209999175022335,0.01866292082221284,0.006494008878543251,0.02077057929038535,0.020264990624240406,0.02006104611625037,0.00028209999175022335,0.017896360510772643,0.0201839811637535,0.019162707888792957,0.0218630102319523,0.019464299649718818,0.019427949350831714,0.021209879887713615,0.021239710633515756,0.020502086970481236,0.02156971284088837,0.020397594632739824,0.020365918835577312,0.02112834534010242,0.020554233361649923,0.021410708432832014,0.020136298570558795,0.021851788306276054,0.017142794712116396,0.020542970187091326,0.02113848141682082,0.00028209999175022335,0.020061975888355787,0.021302878280122027,0.021133874920010346,0.016468240590238156,0.021974753454314953,0.010559060595723261,0.02187212512012317,0.02173363701429419,0.00028209999175022335,0.022094922597029356,0.022398296978574702,0.00028209999175022335,0.020329258612654968,0.021757268164558228,0.02048449376472952,0.020636188201927492,0.00028209999175022335,0.022034236572373675,0.020780842458254803,0.02190298151381141,0.020878171983312866,0.02175321128123457,0.018362287819093576,0.020752251408593436,0.02189429026281081,0.019941465606235793,0.021209862050359147,0.02091056461916103,0.02154373273399791,0.02093965177024575,0.020072424118778732,0.00028209999175022335,0.020136090096477658,0.017707414988283186,0.02176152571812062,0.020018350178484863,0.021813809233952215,0.00028209999175022335,0.02019238813191594,0.01966205905502137,0.01996392395043879,0.02042522580975991,0.0008238204491891859,0.010194365848601228,0.015154296461292157,0.021672974401166344,0.019809097942684064,0.02105942514665623,0.00028209999175022335,0.01866276251569134,0.0094628202641268,0.021337900810930465,0.00028209999175022335,0.0095994142658704,0.01978534750511144,0.021745069643720867,0.018733489856119438,0.021585786526999873,0.019941170175051297,0.022133459086682662,0.00028209999175022335,0.020073122005275244,0.01978276666287606,0.02152837923107602,0.019903580180023438,0.020423436500132484,0.021110788923894494,0.019294762283805663,0.02102171363465059,0.021811551693767896,0.02039260574764144,0.022112850253178738,0.02149438792232692,0.016499579707333793,0.00028209999175022335,0.021062042778435305,0.021956804616307033,0.016054330352265722,0.00028209999175022335,0.0010874164152714577,0.009759837858447381,0.019320364461746693,0.020826160487137903,0.020859353574271183,0.020499335558543084,0.02189519773822318,0.019841136061110615,0.014979306439062322,0.018683787182522924,0.017828239653777084,0.0015668577493271984,0.02202120081070745,0.02078896402874466,0.00028209999175022335,0.019897497642124465,0.018946524725917912,0.019331088056330274,0.009662253036252351,0.02081506788228219,0.018419242492146003,0.005006934271578228,0.0039622394352693425,0.01959923589232468,0.017939734268010824,0.020440619446729744,0.00028209999175022335,0.0032111786700914106,0.021831098089841988,0.020949272793351768,0.02142727264619353,0.01122079857836313,0.011762784366450885,0.021480045574440637,0.00028209999175022335,0.01745826950904921,0.020249534556529704,0.021741390689346485,0.018495999973243995,0.011540317995438386,0.00028209999175022335,0.02165516937682937,0.01821586543499742,0.021009345658945047,0.016405916873468727,0.016009573085215997,0.02208455240503248,0.02065656514982242,0.021181862977901634,0.00028209999175022335,0.02104881860971162,0.019000789302938397,0.001482893976994275,0.01201158424694069,0.02077656260799931,0.02127135744497707,0.00028209999175022335,0.02054310842658918,0.020277953921653685,0.0008752054082859024,0.02080192955582726,0.019765342911992584,0.009080797641901912,0.02062823385663651,0.01949218054970254,0.007560159822696749,0.02196333977707728,0.00028209999175022335,0.01898111693054795,0.020206819666575084,0.020027909885684682,0.020447499091409624,0.021990100268228854,0.015467241698384,0.01995478565074003,0.021221212182021016,0.020026523031369113,0.0016304456885999257,0.017459849229760842,0.019833315495978648,0.020049012590942498,0.01974406517769339,0.021292123470167776,0.020142394486473546,0.021544772874734688,0.01761092158921919,0.017153228449688702,0.01572895582356214,0.016641178201861114,0.02070747853385843,0.019609297275120976,0.00028209999175022335,0.01840982771345179,0.01980183368004683,0.02155078852255399,0.009166478259609472,0.020392969183740152,0.02060564842128247,0.00028209999175022335,0.01924626028713674,0.009141445762179156,0.0201332918614839,0.014689364700321771,0.016548949045367238,0.021826653244057102,0.01940351551961327,0.021288271716421458,0.0025745467639694225,0.019468653079061746,0.00897047806339856,0.019752122087773005,0.00028209999175022335,0.02050383614606093,0.019191679097073085,0.010574447543685011,0.01348236666020099,0.018158247435322912,0.02027838201816278,0.021900741810981735,0.011848867439470345,0.017603160110324114,0.008694459494712495,0.019832323293132195,0.019769030785044148,0.01847056056116323,0.021813372218765843,0.020075270291662943,0.021481174901950013,0.019828790382098446,0.008238383980272004,0.002055019320084632,0.016881297979696785,0.017707208743871345,0.014752154417978607,0.017227801969689923,0.019968106810078833,0.020281461191490508,0.00028209999175022335,0.021831451492428808,0.02014733543368177,0.020543301292985063,0.020114190284438702,0.01671737046178693,0.021667729104096294,0.019731940235943553,0.008261515684609023,0.00028209999175022335,0.01954803822545074,0.021192885348173658,0.021415837787097623,0.01640617774477894,0.017510429278233847,0.019155317649839364,0.00028209999175022335,0.021273328472653997,0.019328513903102962,0.020878496400198683,0.010046450700896735,0.016477163726847807,0.021223758464381882,0.017114463418930474,0.00028209999175022335,0.021223662588601207,0.005075446435539154,0.020484129213796023,0.019938413188939786,0.019112277228164262,0.019188303377725906,0.003991501615395398,0.017228787483528445,0.020427696283363952,0.008299414488837253,0.00028209999175022335,0.019452720976951863,0.00028209999175022335,0.02053735587974923,0.019972308621908217,0.021769276048668806,0.018653305373280037,0.0005045975781331873,0.01851235571252428,0.01931637558333717,0.021734644824825768,0.010165985502690275,0.00028209999175022335,0.020019802808045432,0.02107572737387291,0.021278710894387095,0.017650732334887533,0.019352927667297567,0.00028209999175022335,0.020540771733144066,0.018887574498826058,0.01977178108214756,0.019748646033306623,0.00028209999175022335,0.020336424769842206,0.020803648630871353,0.019361541994706685,0.0131901985966465,0.020411621482417697,0.020076483231771837,0.00028209999175022335,0.00885196667982184,0.01884498447035321,0.018942558144201593,0.020484604133360788,0.018075275865836384,0.019738763024055753,0.00028209999175022335,0.02083241247990485,0.022056930146689524,0.01812360840763712,0.01648871341391377,0.01874986120308497,0.021948096642786605,0.021959457922795113,0.00028209999175022335,0.020656252996117987,0.0192796116807916,0.015525695824052705,0.011261539096136901,0.020612321821550473,0.020768820081293587,0.02028940438843492,0.019759400843260812,0.0171948452275044,0.017963228293611862,0.018401196663522853,0.01953851642262927,0.02097344352359078,0.020911375103958015,0.00028209999175022335,0.00028209999175022335,0.018944485693326765,0.02007030035875368,0.020205476290811066,0.015570513292173994,0.00028209999175022335,0.01814460631843695,0.0014970222766261532,0.021169422537943183,0.020408158805967254,0.02003549745037293,0.0165324840522903,0.017286727670419225,0.017155828244113276,0.01896057164261964,0.0204046771773277,0.020470287426671528,0.00028209999175022335,0.00028209999175022335,0.009699614490175172,0.018753788765588156,0.018147607453338595,0.020624844759273498,0.018402175488353406,0.019870328006653254,0.02175516670122622,0.009564459739976145,0.020486256318325232,0.00028209999175022335,0.015177854032468782,0.02180870217637996,0.019415838901932395,0.020974320898467298,0.015410842212991773,0.021033582164428914,0.02076069070696099,0.012894805316423829,0.008247816596320736,0.020357921011734562,0.00028209999175022335,0.01944122145744557,0.021014576463164528,0.02195282242690552,0.010866876478549734,0.01798179920935932,0.01688574728482042,0.019471600701899797,0.01715944365291195,0.019298272898146434,0.017316330989950963,0.019808660927497675,0.021792301843713374,0.016118475708867902,0.00028209999175022335,0.019512668981063304,0.01924395815356616,0.016833758085338487,0.018304626340867346,0.006145620817976512,0.02214613252708466,0.020676593154469156,0.020717777376437055],\"type\":\"scatter\",\"xaxis\":\"x5\",\"yaxis\":\"y5\"}],                        {\"template\":{\"data\":{\"histogram2dcontour\":[{\"type\":\"histogram2dcontour\",\"colorbar\":{\"outlinewidth\":0,\"ticks\":\"\"},\"colorscale\":[[0.0,\"#0d0887\"],[0.1111111111111111,\"#46039f\"],[0.2222222222222222,\"#7201a8\"],[0.3333333333333333,\"#9c179e\"],[0.4444444444444444,\"#bd3786\"],[0.5555555555555556,\"#d8576b\"],[0.6666666666666666,\"#ed7953\"],[0.7777777777777778,\"#fb9f3a\"],[0.8888888888888888,\"#fdca26\"],[1.0,\"#f0f921\"]]}],\"choropleth\":[{\"type\":\"choropleth\",\"colorbar\":{\"outlinewidth\":0,\"ticks\":\"\"}}],\"histogram2d\":[{\"type\":\"histogram2d\",\"colorbar\":{\"outlinewidth\":0,\"ticks\":\"\"},\"colorscale\":[[0.0,\"#0d0887\"],[0.1111111111111111,\"#46039f\"],[0.2222222222222222,\"#7201a8\"],[0.3333333333333333,\"#9c179e\"],[0.4444444444444444,\"#bd3786\"],[0.5555555555555556,\"#d8576b\"],[0.6666666666666666,\"#ed7953\"],[0.7777777777777778,\"#fb9f3a\"],[0.8888888888888888,\"#fdca26\"],[1.0,\"#f0f921\"]]}],\"heatmap\":[{\"type\":\"heatmap\",\"colorbar\":{\"outlinewidth\":0,\"ticks\":\"\"},\"colorscale\":[[0.0,\"#0d0887\"],[0.1111111111111111,\"#46039f\"],[0.2222222222222222,\"#7201a8\"],[0.3333333333333333,\"#9c179e\"],[0.4444444444444444,\"#bd3786\"],[0.5555555555555556,\"#d8576b\"],[0.6666666666666666,\"#ed7953\"],[0.7777777777777778,\"#fb9f3a\"],[0.8888888888888888,\"#fdca26\"],[1.0,\"#f0f921\"]]}],\"heatmapgl\":[{\"type\":\"heatmapgl\",\"colorbar\":{\"outlinewidth\":0,\"ticks\":\"\"},\"colorscale\":[[0.0,\"#0d0887\"],[0.1111111111111111,\"#46039f\"],[0.2222222222222222,\"#7201a8\"],[0.3333333333333333,\"#9c179e\"],[0.4444444444444444,\"#bd3786\"],[0.5555555555555556,\"#d8576b\"],[0.6666666666666666,\"#ed7953\"],[0.7777777777777778,\"#fb9f3a\"],[0.8888888888888888,\"#fdca26\"],[1.0,\"#f0f921\"]]}],\"contourcarpet\":[{\"type\":\"contourcarpet\",\"colorbar\":{\"outlinewidth\":0,\"ticks\":\"\"}}],\"contour\":[{\"type\":\"contour\",\"colorbar\":{\"outlinewidth\":0,\"ticks\":\"\"},\"colorscale\":[[0.0,\"#0d0887\"],[0.1111111111111111,\"#46039f\"],[0.2222222222222222,\"#7201a8\"],[0.3333333333333333,\"#9c179e\"],[0.4444444444444444,\"#bd3786\"],[0.5555555555555556,\"#d8576b\"],[0.6666666666666666,\"#ed7953\"],[0.7777777777777778,\"#fb9f3a\"],[0.8888888888888888,\"#fdca26\"],[1.0,\"#f0f921\"]]}],\"surface\":[{\"type\":\"surface\",\"colorbar\":{\"outlinewidth\":0,\"ticks\":\"\"},\"colorscale\":[[0.0,\"#0d0887\"],[0.1111111111111111,\"#46039f\"],[0.2222222222222222,\"#7201a8\"],[0.3333333333333333,\"#9c179e\"],[0.4444444444444444,\"#bd3786\"],[0.5555555555555556,\"#d8576b\"],[0.6666666666666666,\"#ed7953\"],[0.7777777777777778,\"#fb9f3a\"],[0.8888888888888888,\"#fdca26\"],[1.0,\"#f0f921\"]]}],\"mesh3d\":[{\"type\":\"mesh3d\",\"colorbar\":{\"outlinewidth\":0,\"ticks\":\"\"}}],\"scatter\":[{\"fillpattern\":{\"fillmode\":\"overlay\",\"size\":10,\"solidity\":0.2},\"type\":\"scatter\"}],\"parcoords\":[{\"type\":\"parcoords\",\"line\":{\"colorbar\":{\"outlinewidth\":0,\"ticks\":\"\"}}}],\"scatterpolargl\":[{\"type\":\"scatterpolargl\",\"marker\":{\"colorbar\":{\"outlinewidth\":0,\"ticks\":\"\"}}}],\"bar\":[{\"error_x\":{\"color\":\"#2a3f5f\"},\"error_y\":{\"color\":\"#2a3f5f\"},\"marker\":{\"line\":{\"color\":\"#E5ECF6\",\"width\":0.5},\"pattern\":{\"fillmode\":\"overlay\",\"size\":10,\"solidity\":0.2}},\"type\":\"bar\"}],\"scattergeo\":[{\"type\":\"scattergeo\",\"marker\":{\"colorbar\":{\"outlinewidth\":0,\"ticks\":\"\"}}}],\"scatterpolar\":[{\"type\":\"scatterpolar\",\"marker\":{\"colorbar\":{\"outlinewidth\":0,\"ticks\":\"\"}}}],\"histogram\":[{\"marker\":{\"pattern\":{\"fillmode\":\"overlay\",\"size\":10,\"solidity\":0.2}},\"type\":\"histogram\"}],\"scattergl\":[{\"type\":\"scattergl\",\"marker\":{\"colorbar\":{\"outlinewidth\":0,\"ticks\":\"\"}}}],\"scatter3d\":[{\"type\":\"scatter3d\",\"line\":{\"colorbar\":{\"outlinewidth\":0,\"ticks\":\"\"}},\"marker\":{\"colorbar\":{\"outlinewidth\":0,\"ticks\":\"\"}}}],\"scattermapbox\":[{\"type\":\"scattermapbox\",\"marker\":{\"colorbar\":{\"outlinewidth\":0,\"ticks\":\"\"}}}],\"scatterternary\":[{\"type\":\"scatterternary\",\"marker\":{\"colorbar\":{\"outlinewidth\":0,\"ticks\":\"\"}}}],\"scattercarpet\":[{\"type\":\"scattercarpet\",\"marker\":{\"colorbar\":{\"outlinewidth\":0,\"ticks\":\"\"}}}],\"carpet\":[{\"aaxis\":{\"endlinecolor\":\"#2a3f5f\",\"gridcolor\":\"white\",\"linecolor\":\"white\",\"minorgridcolor\":\"white\",\"startlinecolor\":\"#2a3f5f\"},\"baxis\":{\"endlinecolor\":\"#2a3f5f\",\"gridcolor\":\"white\",\"linecolor\":\"white\",\"minorgridcolor\":\"white\",\"startlinecolor\":\"#2a3f5f\"},\"type\":\"carpet\"}],\"table\":[{\"cells\":{\"fill\":{\"color\":\"#EBF0F8\"},\"line\":{\"color\":\"white\"}},\"header\":{\"fill\":{\"color\":\"#C8D4E3\"},\"line\":{\"color\":\"white\"}},\"type\":\"table\"}],\"barpolar\":[{\"marker\":{\"line\":{\"color\":\"#E5ECF6\",\"width\":0.5},\"pattern\":{\"fillmode\":\"overlay\",\"size\":10,\"solidity\":0.2}},\"type\":\"barpolar\"}],\"pie\":[{\"automargin\":true,\"type\":\"pie\"}]},\"layout\":{\"autotypenumbers\":\"strict\",\"colorway\":[\"#636efa\",\"#EF553B\",\"#00cc96\",\"#ab63fa\",\"#FFA15A\",\"#19d3f3\",\"#FF6692\",\"#B6E880\",\"#FF97FF\",\"#FECB52\"],\"font\":{\"color\":\"#2a3f5f\"},\"hovermode\":\"closest\",\"hoverlabel\":{\"align\":\"left\"},\"paper_bgcolor\":\"white\",\"plot_bgcolor\":\"#E5ECF6\",\"polar\":{\"bgcolor\":\"#E5ECF6\",\"angularaxis\":{\"gridcolor\":\"white\",\"linecolor\":\"white\",\"ticks\":\"\"},\"radialaxis\":{\"gridcolor\":\"white\",\"linecolor\":\"white\",\"ticks\":\"\"}},\"ternary\":{\"bgcolor\":\"#E5ECF6\",\"aaxis\":{\"gridcolor\":\"white\",\"linecolor\":\"white\",\"ticks\":\"\"},\"baxis\":{\"gridcolor\":\"white\",\"linecolor\":\"white\",\"ticks\":\"\"},\"caxis\":{\"gridcolor\":\"white\",\"linecolor\":\"white\",\"ticks\":\"\"}},\"coloraxis\":{\"colorbar\":{\"outlinewidth\":0,\"ticks\":\"\"}},\"colorscale\":{\"sequential\":[[0.0,\"#0d0887\"],[0.1111111111111111,\"#46039f\"],[0.2222222222222222,\"#7201a8\"],[0.3333333333333333,\"#9c179e\"],[0.4444444444444444,\"#bd3786\"],[0.5555555555555556,\"#d8576b\"],[0.6666666666666666,\"#ed7953\"],[0.7777777777777778,\"#fb9f3a\"],[0.8888888888888888,\"#fdca26\"],[1.0,\"#f0f921\"]],\"sequentialminus\":[[0.0,\"#0d0887\"],[0.1111111111111111,\"#46039f\"],[0.2222222222222222,\"#7201a8\"],[0.3333333333333333,\"#9c179e\"],[0.4444444444444444,\"#bd3786\"],[0.5555555555555556,\"#d8576b\"],[0.6666666666666666,\"#ed7953\"],[0.7777777777777778,\"#fb9f3a\"],[0.8888888888888888,\"#fdca26\"],[1.0,\"#f0f921\"]],\"diverging\":[[0,\"#8e0152\"],[0.1,\"#c51b7d\"],[0.2,\"#de77ae\"],[0.3,\"#f1b6da\"],[0.4,\"#fde0ef\"],[0.5,\"#f7f7f7\"],[0.6,\"#e6f5d0\"],[0.7,\"#b8e186\"],[0.8,\"#7fbc41\"],[0.9,\"#4d9221\"],[1,\"#276419\"]]},\"xaxis\":{\"gridcolor\":\"white\",\"linecolor\":\"white\",\"ticks\":\"\",\"title\":{\"standoff\":15},\"zerolinecolor\":\"white\",\"automargin\":true,\"zerolinewidth\":2},\"yaxis\":{\"gridcolor\":\"white\",\"linecolor\":\"white\",\"ticks\":\"\",\"title\":{\"standoff\":15},\"zerolinecolor\":\"white\",\"automargin\":true,\"zerolinewidth\":2},\"scene\":{\"xaxis\":{\"backgroundcolor\":\"#E5ECF6\",\"gridcolor\":\"white\",\"linecolor\":\"white\",\"showbackground\":true,\"ticks\":\"\",\"zerolinecolor\":\"white\",\"gridwidth\":2},\"yaxis\":{\"backgroundcolor\":\"#E5ECF6\",\"gridcolor\":\"white\",\"linecolor\":\"white\",\"showbackground\":true,\"ticks\":\"\",\"zerolinecolor\":\"white\",\"gridwidth\":2},\"zaxis\":{\"backgroundcolor\":\"#E5ECF6\",\"gridcolor\":\"white\",\"linecolor\":\"white\",\"showbackground\":true,\"ticks\":\"\",\"zerolinecolor\":\"white\",\"gridwidth\":2}},\"shapedefaults\":{\"line\":{\"color\":\"#2a3f5f\"}},\"annotationdefaults\":{\"arrowcolor\":\"#2a3f5f\",\"arrowhead\":0,\"arrowwidth\":1},\"geo\":{\"bgcolor\":\"white\",\"landcolor\":\"#E5ECF6\",\"subunitcolor\":\"white\",\"showland\":true,\"showlakes\":true,\"lakecolor\":\"white\"},\"title\":{\"x\":0.05},\"mapbox\":{\"style\":\"light\"}}},\"xaxis\":{\"anchor\":\"y\",\"domain\":[0.0,0.16799999999999998],\"title\":{\"text\":\"alpha\"}},\"yaxis\":{\"anchor\":\"x\",\"domain\":[0.0,1.0],\"title\":{\"text\":\"Objective Value\"}},\"xaxis2\":{\"anchor\":\"y2\",\"domain\":[0.208,0.376],\"title\":{\"text\":\"beta\"}},\"yaxis2\":{\"anchor\":\"x2\",\"domain\":[0.0,1.0],\"matches\":\"y\",\"showticklabels\":false},\"xaxis3\":{\"anchor\":\"y3\",\"domain\":[0.416,0.584],\"title\":{\"text\":\"implicit\"},\"type\":\"category\",\"categoryorder\":\"array\",\"categoryarray\":[true,false]},\"yaxis3\":{\"anchor\":\"x3\",\"domain\":[0.0,1.0],\"matches\":\"y\",\"showticklabels\":false},\"xaxis4\":{\"anchor\":\"y4\",\"domain\":[0.624,0.792],\"title\":{\"text\":\"normalize_similarity\"},\"type\":\"category\",\"categoryorder\":\"array\",\"categoryarray\":[true,false]},\"yaxis4\":{\"anchor\":\"x4\",\"domain\":[0.0,1.0],\"matches\":\"y\",\"showticklabels\":false},\"xaxis5\":{\"anchor\":\"y5\",\"domain\":[0.832,1.0],\"title\":{\"text\":\"topK\"}},\"yaxis5\":{\"anchor\":\"x5\",\"domain\":[0.0,1.0],\"matches\":\"y\",\"showticklabels\":false},\"title\":{\"text\":\"Slice Plot\"},\"width\":1500},                        {\"responsive\": true}                    ).then(function(){\n",
       "                            \n",
       "var gd = document.getElementById('e7020767-ad06-4655-bf01-bf7c6e827f27');\n",
       "var x = new MutationObserver(function (mutations, observer) {{\n",
       "        var display = window.getComputedStyle(gd).display;\n",
       "        if (!display || display === 'none') {{\n",
       "            console.log([gd, 'removed!']);\n",
       "            Plotly.purge(gd);\n",
       "            observer.disconnect();\n",
       "        }}\n",
       "}});\n",
       "\n",
       "// Listen for the removal of the full notebook cells\n",
       "var notebookContainer = gd.closest('#notebook-container');\n",
       "if (notebookContainer) {{\n",
       "    x.observe(notebookContainer, {childList: true});\n",
       "}}\n",
       "\n",
       "// Listen for the clearing of the current output cell\n",
       "var outputEl = gd.closest('.output');\n",
       "if (outputEl) {{\n",
       "    x.observe(outputEl, {childList: true});\n",
       "}}\n",
       "\n",
       "                        })                };                            </script>        </div>\n",
       "</body>\n",
       "</html>"
      ]
     },
     "metadata": {},
     "output_type": "display_data"
    }
   ],
   "source": [
    "if not config['tune_parameters']:\n",
    "    optuna_study = optuna.load_study(study_name=f'hyperparameters_tuning_{config[\"model\"]}_{config[\"metric\"]}', storage=f'sqlite:///{config[\"database_path\"]}')\n",
    "    \n",
    "fig = optuna.visualization.plot_slice(optuna_study)\n",
    "fig.show()"
   ]
  },
  {
   "cell_type": "code",
   "execution_count": 15,
   "id": "1018220b",
   "metadata": {
    "execution": {
     "iopub.execute_input": "2024-12-24T20:20:26.167128Z",
     "iopub.status.busy": "2024-12-24T20:20:26.166724Z",
     "iopub.status.idle": "2024-12-24T20:20:40.148870Z",
     "shell.execute_reply": "2024-12-24T20:20:40.147703Z"
    },
    "papermill": {
     "duration": 14.034091,
     "end_time": "2024-12-24T20:20:40.150686",
     "exception": false,
     "start_time": "2024-12-24T20:20:26.116595",
     "status": "completed"
    },
    "tags": []
   },
   "outputs": [
    {
     "data": {
      "text/html": [
       "<html>\n",
       "<head><meta charset=\"utf-8\" /></head>\n",
       "<body>\n",
       "    <div>            <script src=\"https://cdnjs.cloudflare.com/ajax/libs/mathjax/2.7.5/MathJax.js?config=TeX-AMS-MML_SVG\"></script><script type=\"text/javascript\">if (window.MathJax && window.MathJax.Hub && window.MathJax.Hub.Config) {window.MathJax.Hub.Config({SVG: {font: \"STIX-Web\"}});}</script>                <script type=\"text/javascript\">window.PlotlyConfig = {MathJaxConfig: 'local'};</script>\n",
       "        <script charset=\"utf-8\" src=\"https://cdn.plot.ly/plotly-2.35.2.min.js\"></script>                <div id=\"e51a3025-ef2d-4aab-8a59-2be14a549704\" class=\"plotly-graph-div\" style=\"height:525px; width:100%;\"></div>            <script type=\"text/javascript\">                                    window.PLOTLYENV=window.PLOTLYENV || {};                                    if (document.getElementById(\"e51a3025-ef2d-4aab-8a59-2be14a549704\")) {                    Plotly.newPlot(                        \"e51a3025-ef2d-4aab-8a59-2be14a549704\",                        [{\"cliponaxis\":false,\"hovertemplate\":[\"implicit (CategoricalDistribution): 0.0006687694293048703\\u003cextra\\u003e\\u003c\\u002fextra\\u003e\",\"normalize_similarity (CategoricalDistribution): 0.002055891183395135\\u003cextra\\u003e\\u003c\\u002fextra\\u003e\",\"topK (IntDistribution): 0.0156742598641795\\u003cextra\\u003e\\u003c\\u002fextra\\u003e\",\"alpha (FloatDistribution): 0.03296237415696706\\u003cextra\\u003e\\u003c\\u002fextra\\u003e\",\"beta (FloatDistribution): 0.9486387053661535\\u003cextra\\u003e\\u003c\\u002fextra\\u003e\"],\"name\":\"Objective Value\",\"orientation\":\"h\",\"text\":[\"\\u003c0.01\",\"\\u003c0.01\",\"0.02\",\"0.03\",\"0.95\"],\"textposition\":\"outside\",\"x\":[0.0006687694293048703,0.002055891183395135,0.0156742598641795,0.03296237415696706,0.9486387053661535],\"y\":[\"implicit\",\"normalize_similarity\",\"topK\",\"alpha\",\"beta\"],\"type\":\"bar\"}],                        {\"title\":{\"text\":\"Hyperparameter Importances\"},\"xaxis\":{\"title\":{\"text\":\"Hyperparameter Importance\"}},\"yaxis\":{\"title\":{\"text\":\"Hyperparameter\"}},\"template\":{\"data\":{\"histogram2dcontour\":[{\"type\":\"histogram2dcontour\",\"colorbar\":{\"outlinewidth\":0,\"ticks\":\"\"},\"colorscale\":[[0.0,\"#0d0887\"],[0.1111111111111111,\"#46039f\"],[0.2222222222222222,\"#7201a8\"],[0.3333333333333333,\"#9c179e\"],[0.4444444444444444,\"#bd3786\"],[0.5555555555555556,\"#d8576b\"],[0.6666666666666666,\"#ed7953\"],[0.7777777777777778,\"#fb9f3a\"],[0.8888888888888888,\"#fdca26\"],[1.0,\"#f0f921\"]]}],\"choropleth\":[{\"type\":\"choropleth\",\"colorbar\":{\"outlinewidth\":0,\"ticks\":\"\"}}],\"histogram2d\":[{\"type\":\"histogram2d\",\"colorbar\":{\"outlinewidth\":0,\"ticks\":\"\"},\"colorscale\":[[0.0,\"#0d0887\"],[0.1111111111111111,\"#46039f\"],[0.2222222222222222,\"#7201a8\"],[0.3333333333333333,\"#9c179e\"],[0.4444444444444444,\"#bd3786\"],[0.5555555555555556,\"#d8576b\"],[0.6666666666666666,\"#ed7953\"],[0.7777777777777778,\"#fb9f3a\"],[0.8888888888888888,\"#fdca26\"],[1.0,\"#f0f921\"]]}],\"heatmap\":[{\"type\":\"heatmap\",\"colorbar\":{\"outlinewidth\":0,\"ticks\":\"\"},\"colorscale\":[[0.0,\"#0d0887\"],[0.1111111111111111,\"#46039f\"],[0.2222222222222222,\"#7201a8\"],[0.3333333333333333,\"#9c179e\"],[0.4444444444444444,\"#bd3786\"],[0.5555555555555556,\"#d8576b\"],[0.6666666666666666,\"#ed7953\"],[0.7777777777777778,\"#fb9f3a\"],[0.8888888888888888,\"#fdca26\"],[1.0,\"#f0f921\"]]}],\"heatmapgl\":[{\"type\":\"heatmapgl\",\"colorbar\":{\"outlinewidth\":0,\"ticks\":\"\"},\"colorscale\":[[0.0,\"#0d0887\"],[0.1111111111111111,\"#46039f\"],[0.2222222222222222,\"#7201a8\"],[0.3333333333333333,\"#9c179e\"],[0.4444444444444444,\"#bd3786\"],[0.5555555555555556,\"#d8576b\"],[0.6666666666666666,\"#ed7953\"],[0.7777777777777778,\"#fb9f3a\"],[0.8888888888888888,\"#fdca26\"],[1.0,\"#f0f921\"]]}],\"contourcarpet\":[{\"type\":\"contourcarpet\",\"colorbar\":{\"outlinewidth\":0,\"ticks\":\"\"}}],\"contour\":[{\"type\":\"contour\",\"colorbar\":{\"outlinewidth\":0,\"ticks\":\"\"},\"colorscale\":[[0.0,\"#0d0887\"],[0.1111111111111111,\"#46039f\"],[0.2222222222222222,\"#7201a8\"],[0.3333333333333333,\"#9c179e\"],[0.4444444444444444,\"#bd3786\"],[0.5555555555555556,\"#d8576b\"],[0.6666666666666666,\"#ed7953\"],[0.7777777777777778,\"#fb9f3a\"],[0.8888888888888888,\"#fdca26\"],[1.0,\"#f0f921\"]]}],\"surface\":[{\"type\":\"surface\",\"colorbar\":{\"outlinewidth\":0,\"ticks\":\"\"},\"colorscale\":[[0.0,\"#0d0887\"],[0.1111111111111111,\"#46039f\"],[0.2222222222222222,\"#7201a8\"],[0.3333333333333333,\"#9c179e\"],[0.4444444444444444,\"#bd3786\"],[0.5555555555555556,\"#d8576b\"],[0.6666666666666666,\"#ed7953\"],[0.7777777777777778,\"#fb9f3a\"],[0.8888888888888888,\"#fdca26\"],[1.0,\"#f0f921\"]]}],\"mesh3d\":[{\"type\":\"mesh3d\",\"colorbar\":{\"outlinewidth\":0,\"ticks\":\"\"}}],\"scatter\":[{\"fillpattern\":{\"fillmode\":\"overlay\",\"size\":10,\"solidity\":0.2},\"type\":\"scatter\"}],\"parcoords\":[{\"type\":\"parcoords\",\"line\":{\"colorbar\":{\"outlinewidth\":0,\"ticks\":\"\"}}}],\"scatterpolargl\":[{\"type\":\"scatterpolargl\",\"marker\":{\"colorbar\":{\"outlinewidth\":0,\"ticks\":\"\"}}}],\"bar\":[{\"error_x\":{\"color\":\"#2a3f5f\"},\"error_y\":{\"color\":\"#2a3f5f\"},\"marker\":{\"line\":{\"color\":\"#E5ECF6\",\"width\":0.5},\"pattern\":{\"fillmode\":\"overlay\",\"size\":10,\"solidity\":0.2}},\"type\":\"bar\"}],\"scattergeo\":[{\"type\":\"scattergeo\",\"marker\":{\"colorbar\":{\"outlinewidth\":0,\"ticks\":\"\"}}}],\"scatterpolar\":[{\"type\":\"scatterpolar\",\"marker\":{\"colorbar\":{\"outlinewidth\":0,\"ticks\":\"\"}}}],\"histogram\":[{\"marker\":{\"pattern\":{\"fillmode\":\"overlay\",\"size\":10,\"solidity\":0.2}},\"type\":\"histogram\"}],\"scattergl\":[{\"type\":\"scattergl\",\"marker\":{\"colorbar\":{\"outlinewidth\":0,\"ticks\":\"\"}}}],\"scatter3d\":[{\"type\":\"scatter3d\",\"line\":{\"colorbar\":{\"outlinewidth\":0,\"ticks\":\"\"}},\"marker\":{\"colorbar\":{\"outlinewidth\":0,\"ticks\":\"\"}}}],\"scattermapbox\":[{\"type\":\"scattermapbox\",\"marker\":{\"colorbar\":{\"outlinewidth\":0,\"ticks\":\"\"}}}],\"scatterternary\":[{\"type\":\"scatterternary\",\"marker\":{\"colorbar\":{\"outlinewidth\":0,\"ticks\":\"\"}}}],\"scattercarpet\":[{\"type\":\"scattercarpet\",\"marker\":{\"colorbar\":{\"outlinewidth\":0,\"ticks\":\"\"}}}],\"carpet\":[{\"aaxis\":{\"endlinecolor\":\"#2a3f5f\",\"gridcolor\":\"white\",\"linecolor\":\"white\",\"minorgridcolor\":\"white\",\"startlinecolor\":\"#2a3f5f\"},\"baxis\":{\"endlinecolor\":\"#2a3f5f\",\"gridcolor\":\"white\",\"linecolor\":\"white\",\"minorgridcolor\":\"white\",\"startlinecolor\":\"#2a3f5f\"},\"type\":\"carpet\"}],\"table\":[{\"cells\":{\"fill\":{\"color\":\"#EBF0F8\"},\"line\":{\"color\":\"white\"}},\"header\":{\"fill\":{\"color\":\"#C8D4E3\"},\"line\":{\"color\":\"white\"}},\"type\":\"table\"}],\"barpolar\":[{\"marker\":{\"line\":{\"color\":\"#E5ECF6\",\"width\":0.5},\"pattern\":{\"fillmode\":\"overlay\",\"size\":10,\"solidity\":0.2}},\"type\":\"barpolar\"}],\"pie\":[{\"automargin\":true,\"type\":\"pie\"}]},\"layout\":{\"autotypenumbers\":\"strict\",\"colorway\":[\"#636efa\",\"#EF553B\",\"#00cc96\",\"#ab63fa\",\"#FFA15A\",\"#19d3f3\",\"#FF6692\",\"#B6E880\",\"#FF97FF\",\"#FECB52\"],\"font\":{\"color\":\"#2a3f5f\"},\"hovermode\":\"closest\",\"hoverlabel\":{\"align\":\"left\"},\"paper_bgcolor\":\"white\",\"plot_bgcolor\":\"#E5ECF6\",\"polar\":{\"bgcolor\":\"#E5ECF6\",\"angularaxis\":{\"gridcolor\":\"white\",\"linecolor\":\"white\",\"ticks\":\"\"},\"radialaxis\":{\"gridcolor\":\"white\",\"linecolor\":\"white\",\"ticks\":\"\"}},\"ternary\":{\"bgcolor\":\"#E5ECF6\",\"aaxis\":{\"gridcolor\":\"white\",\"linecolor\":\"white\",\"ticks\":\"\"},\"baxis\":{\"gridcolor\":\"white\",\"linecolor\":\"white\",\"ticks\":\"\"},\"caxis\":{\"gridcolor\":\"white\",\"linecolor\":\"white\",\"ticks\":\"\"}},\"coloraxis\":{\"colorbar\":{\"outlinewidth\":0,\"ticks\":\"\"}},\"colorscale\":{\"sequential\":[[0.0,\"#0d0887\"],[0.1111111111111111,\"#46039f\"],[0.2222222222222222,\"#7201a8\"],[0.3333333333333333,\"#9c179e\"],[0.4444444444444444,\"#bd3786\"],[0.5555555555555556,\"#d8576b\"],[0.6666666666666666,\"#ed7953\"],[0.7777777777777778,\"#fb9f3a\"],[0.8888888888888888,\"#fdca26\"],[1.0,\"#f0f921\"]],\"sequentialminus\":[[0.0,\"#0d0887\"],[0.1111111111111111,\"#46039f\"],[0.2222222222222222,\"#7201a8\"],[0.3333333333333333,\"#9c179e\"],[0.4444444444444444,\"#bd3786\"],[0.5555555555555556,\"#d8576b\"],[0.6666666666666666,\"#ed7953\"],[0.7777777777777778,\"#fb9f3a\"],[0.8888888888888888,\"#fdca26\"],[1.0,\"#f0f921\"]],\"diverging\":[[0,\"#8e0152\"],[0.1,\"#c51b7d\"],[0.2,\"#de77ae\"],[0.3,\"#f1b6da\"],[0.4,\"#fde0ef\"],[0.5,\"#f7f7f7\"],[0.6,\"#e6f5d0\"],[0.7,\"#b8e186\"],[0.8,\"#7fbc41\"],[0.9,\"#4d9221\"],[1,\"#276419\"]]},\"xaxis\":{\"gridcolor\":\"white\",\"linecolor\":\"white\",\"ticks\":\"\",\"title\":{\"standoff\":15},\"zerolinecolor\":\"white\",\"automargin\":true,\"zerolinewidth\":2},\"yaxis\":{\"gridcolor\":\"white\",\"linecolor\":\"white\",\"ticks\":\"\",\"title\":{\"standoff\":15},\"zerolinecolor\":\"white\",\"automargin\":true,\"zerolinewidth\":2},\"scene\":{\"xaxis\":{\"backgroundcolor\":\"#E5ECF6\",\"gridcolor\":\"white\",\"linecolor\":\"white\",\"showbackground\":true,\"ticks\":\"\",\"zerolinecolor\":\"white\",\"gridwidth\":2},\"yaxis\":{\"backgroundcolor\":\"#E5ECF6\",\"gridcolor\":\"white\",\"linecolor\":\"white\",\"showbackground\":true,\"ticks\":\"\",\"zerolinecolor\":\"white\",\"gridwidth\":2},\"zaxis\":{\"backgroundcolor\":\"#E5ECF6\",\"gridcolor\":\"white\",\"linecolor\":\"white\",\"showbackground\":true,\"ticks\":\"\",\"zerolinecolor\":\"white\",\"gridwidth\":2}},\"shapedefaults\":{\"line\":{\"color\":\"#2a3f5f\"}},\"annotationdefaults\":{\"arrowcolor\":\"#2a3f5f\",\"arrowhead\":0,\"arrowwidth\":1},\"geo\":{\"bgcolor\":\"white\",\"landcolor\":\"#E5ECF6\",\"subunitcolor\":\"white\",\"showland\":true,\"showlakes\":true,\"lakecolor\":\"white\"},\"title\":{\"x\":0.05},\"mapbox\":{\"style\":\"light\"}}}},                        {\"responsive\": true}                    ).then(function(){\n",
       "                            \n",
       "var gd = document.getElementById('e51a3025-ef2d-4aab-8a59-2be14a549704');\n",
       "var x = new MutationObserver(function (mutations, observer) {{\n",
       "        var display = window.getComputedStyle(gd).display;\n",
       "        if (!display || display === 'none') {{\n",
       "            console.log([gd, 'removed!']);\n",
       "            Plotly.purge(gd);\n",
       "            observer.disconnect();\n",
       "        }}\n",
       "}});\n",
       "\n",
       "// Listen for the removal of the full notebook cells\n",
       "var notebookContainer = gd.closest('#notebook-container');\n",
       "if (notebookContainer) {{\n",
       "    x.observe(notebookContainer, {childList: true});\n",
       "}}\n",
       "\n",
       "// Listen for the clearing of the current output cell\n",
       "var outputEl = gd.closest('.output');\n",
       "if (outputEl) {{\n",
       "    x.observe(outputEl, {childList: true});\n",
       "}}\n",
       "\n",
       "                        })                };                            </script>        </div>\n",
       "</body>\n",
       "</html>"
      ]
     },
     "metadata": {},
     "output_type": "display_data"
    }
   ],
   "source": [
    "if not config['tune_parameters']:\n",
    "    optuna_study = optuna.load_study(study_name=f'hyperparameters_tuning_{config[\"model\"]}_{config[\"metric\"]}', storage=f'sqlite:///{config[\"database_path\"]}')\n",
    "    \n",
    "fig = optuna.visualization.plot_param_importances(optuna_study)\n",
    "fig.show()"
   ]
  },
  {
   "cell_type": "markdown",
   "id": "e9853d9c",
   "metadata": {
    "papermill": {
     "duration": 0.048734,
     "end_time": "2024-12-24T20:20:40.249049",
     "exception": false,
     "start_time": "2024-12-24T20:20:40.200315",
     "status": "completed"
    },
    "tags": []
   },
   "source": [
    "## Let's train the recommender with best parameter values"
   ]
  },
  {
   "cell_type": "code",
   "execution_count": 16,
   "id": "d95fba66",
   "metadata": {
    "execution": {
     "iopub.execute_input": "2024-12-24T20:20:40.349745Z",
     "iopub.status.busy": "2024-12-24T20:20:40.349362Z",
     "iopub.status.idle": "2024-12-24T20:21:33.628103Z",
     "shell.execute_reply": "2024-12-24T20:21:33.626930Z"
    },
    "papermill": {
     "duration": 53.331671,
     "end_time": "2024-12-24T20:21:33.630236",
     "exception": false,
     "start_time": "2024-12-24T20:20:40.298565",
     "status": "completed"
    },
    "tags": []
   },
   "outputs": [
    {
     "name": "stdout",
     "output_type": "stream",
     "text": [
      "RP3betaRecommender: Similarity column 38121 (100.0%), 732.67 column/sec. Elapsed time 52.03 sec\n"
     ]
    }
   ],
   "source": [
    "if config['tune_best_params']:\n",
    "\n",
    "    if config['tune_parameters']:\n",
    "        best_params = optuna_study.best_trial.params\n",
    "    else: \n",
    "        with open(f'{K_PATH}/{GH_PATH}/{config[\"model\"]}Recommender/Optimizing{config[\"metric\"]}/best_params_{config[\"model\"]}_{config[\"metric\"]}.json', 'r') as best_params_json:\n",
    "            best_params = json.load(best_params_json)\n",
    "\n",
    "    rp3beta_icm_recommender = RP3betaRecommender(ICM_all.T)\n",
    "    rp3beta_icm_recommender.fit(**best_params)\n",
    "    \n",
    "    recommender_instance = ItemKNNCustomSimilarityRecommender(URM_train + URM_validation)\n",
    "    recommender_instance.fit(rp3beta_icm_recommender.W_sparse)"
   ]
  },
  {
   "cell_type": "markdown",
   "id": "be50b8e9",
   "metadata": {
    "papermill": {
     "duration": 0.048527,
     "end_time": "2024-12-24T20:21:33.728077",
     "exception": false,
     "start_time": "2024-12-24T20:21:33.679550",
     "status": "completed"
    },
    "tags": []
   },
   "source": [
    "# Testing"
   ]
  },
  {
   "cell_type": "markdown",
   "id": "23b669e6",
   "metadata": {
    "papermill": {
     "duration": 0.048788,
     "end_time": "2024-12-24T20:21:33.825777",
     "exception": false,
     "start_time": "2024-12-24T20:21:33.776989",
     "status": "completed"
    },
    "tags": []
   },
   "source": [
    "Create the recommendations for the submission. "
   ]
  },
  {
   "cell_type": "code",
   "execution_count": 17,
   "id": "00901782",
   "metadata": {
    "execution": {
     "iopub.execute_input": "2024-12-24T20:21:33.925786Z",
     "iopub.status.busy": "2024-12-24T20:21:33.925416Z",
     "iopub.status.idle": "2024-12-24T20:21:54.627289Z",
     "shell.execute_reply": "2024-12-24T20:21:54.625931Z"
    },
    "papermill": {
     "duration": 20.754536,
     "end_time": "2024-12-24T20:21:54.629113",
     "exception": false,
     "start_time": "2024-12-24T20:21:33.874577",
     "status": "completed"
    },
    "tags": []
   },
   "outputs": [
    {
     "name": "stdout",
     "output_type": "stream",
     "text": [
      "Submission file saved as /kaggle/working/submission_RP3betaICM_MAP.csv\n"
     ]
    }
   ],
   "source": [
    "if config['tune_best_params']:\n",
    "\n",
    "    data_target_users_test = pd.read_csv('/kaggle/input/recommender-system-2024-challenge-polimi/data_target_users_test.csv')\n",
    "    create_submission(data_target_users_test, recommender_instance, f'/kaggle/working/submission_{config[\"model\"]}_{config[\"metric\"]}.csv')"
   ]
  },
  {
   "cell_type": "markdown",
   "id": "b88f4471",
   "metadata": {
    "execution": {
     "iopub.execute_input": "2024-11-14T00:04:16.877791Z",
     "iopub.status.busy": "2024-11-14T00:04:16.877275Z",
     "iopub.status.idle": "2024-11-14T00:04:16.883170Z",
     "shell.execute_reply": "2024-11-14T00:04:16.881889Z",
     "shell.execute_reply.started": "2024-11-14T00:04:16.877743Z"
    },
    "papermill": {
     "duration": 0.049338,
     "end_time": "2024-12-24T20:21:54.727851",
     "exception": false,
     "start_time": "2024-12-24T20:21:54.678513",
     "status": "completed"
    },
    "tags": []
   },
   "source": [
    "# Save Version on GitHub "
   ]
  },
  {
   "cell_type": "markdown",
   "id": "521c1a2e",
   "metadata": {
    "papermill": {
     "duration": 0.048896,
     "end_time": "2024-12-24T20:21:54.825919",
     "exception": false,
     "start_time": "2024-12-24T20:21:54.777023",
     "status": "completed"
    },
    "tags": []
   },
   "source": [
    "Write or import a json file where best hyperparameters are saved. "
   ]
  },
  {
   "cell_type": "code",
   "execution_count": 18,
   "id": "b14540aa",
   "metadata": {
    "execution": {
     "iopub.execute_input": "2024-12-24T20:21:54.925162Z",
     "iopub.status.busy": "2024-12-24T20:21:54.924778Z",
     "iopub.status.idle": "2024-12-24T20:21:55.998389Z",
     "shell.execute_reply": "2024-12-24T20:21:55.997128Z"
    },
    "papermill": {
     "duration": 1.12495,
     "end_time": "2024-12-24T20:21:56.000134",
     "exception": false,
     "start_time": "2024-12-24T20:21:54.875184",
     "status": "completed"
    },
    "tags": []
   },
   "outputs": [
    {
     "name": "stdout",
     "output_type": "stream",
     "text": [
      "File 'TrainedModels/WithoutKFCV/GraphBased/RP3betaICMRecommender/OptimizingMAP/best_params_RP3betaICM_MAP.json' updated successfully.\n"
     ]
    }
   ],
   "source": [
    "if config['tune_parameters']:\n",
    "    with open(f'/kaggle/working/best_params_{config[\"model\"]}_{config[\"metric\"]}.json', 'w') as params_file:\n",
    "        json.dump(optuna_study.best_params, params_file)\n",
    "        \n",
    "    if config['save_github']:\n",
    "        upload_file(\n",
    "            f'/kaggle/working/best_params_{config[\"model\"]}_{config[\"metric\"]}.json', \n",
    "            f'{GH_PATH}/{config[\"model\"]}Recommender/Optimizing{config[\"metric\"]}/best_params_{config[\"model\"]}_{config[\"metric\"]}.json', \n",
    "            f'{config[\"model\"]}_{config[\"metric\"]} tuning results (from kaggle notebook)',\n",
    "            repo\n",
    "        )\n",
    "elif config['copy_prev_best_params']:\n",
    "    shutil.copyfile(\n",
    "        f'{K_PATH}/{GH_PATH}/{config[\"model\"]}Recommender/Optimizing{config[\"metric\"]}/'\\\n",
    "        f'best_params_{config[\"model\"]}_{config[\"metric\"]}.json', \n",
    "        f'/kaggle/working/best_params_{config[\"model\"]}_{config[\"metric\"]}.json'\n",
    "    )"
   ]
  },
  {
   "cell_type": "markdown",
   "id": "bc5e60e1",
   "metadata": {
    "execution": {
     "iopub.execute_input": "2024-11-14T00:41:34.294243Z",
     "iopub.status.busy": "2024-11-14T00:41:34.293739Z",
     "iopub.status.idle": "2024-11-14T00:41:34.301478Z",
     "shell.execute_reply": "2024-11-14T00:41:34.299869Z",
     "shell.execute_reply.started": "2024-11-14T00:41:34.294186Z"
    },
    "papermill": {
     "duration": 0.049759,
     "end_time": "2024-12-24T20:21:56.100697",
     "exception": false,
     "start_time": "2024-12-24T20:21:56.050938",
     "status": "completed"
    },
    "tags": []
   },
   "source": [
    "Save the history of the tuned model."
   ]
  },
  {
   "cell_type": "code",
   "execution_count": 19,
   "id": "583a136f",
   "metadata": {
    "execution": {
     "iopub.execute_input": "2024-12-24T20:21:56.201000Z",
     "iopub.status.busy": "2024-12-24T20:21:56.200595Z",
     "iopub.status.idle": "2024-12-24T20:21:57.574142Z",
     "shell.execute_reply": "2024-12-24T20:21:57.572956Z"
    },
    "papermill": {
     "duration": 1.425831,
     "end_time": "2024-12-24T20:21:57.576043",
     "exception": false,
     "start_time": "2024-12-24T20:21:56.150212",
     "status": "completed"
    },
    "tags": []
   },
   "outputs": [
    {
     "name": "stdout",
     "output_type": "stream",
     "text": [
      "File 'TrainedModels/WithoutKFCV/GraphBased/RP3betaICMRecommender/OptimizingMAP/history_RP3betaICM_MAP.db' updated successfully.\n"
     ]
    }
   ],
   "source": [
    "if config['save_github'] and config['tune_parameters']:\n",
    "    upload_file(\n",
    "        config['database_path'], \n",
    "        f'{GH_PATH}/{config[\"model\"]}Recommender/Optimizing{config[\"metric\"]}/history_{config[\"model\"]}_{config[\"metric\"]}.db',\n",
    "        f'Tuning {config[\"model\"]}_{config[\"metric\"]} db updated results (from kaggle notebook)',\n",
    "        repo\n",
    "    )"
   ]
  },
  {
   "cell_type": "markdown",
   "id": "446ede4c",
   "metadata": {
    "papermill": {
     "duration": 0.048757,
     "end_time": "2024-12-24T20:21:57.676202",
     "exception": false,
     "start_time": "2024-12-24T20:21:57.627445",
     "status": "completed"
    },
    "tags": []
   },
   "source": [
    "Save the best trained model and its submission."
   ]
  },
  {
   "cell_type": "code",
   "execution_count": 20,
   "id": "d543f7e9",
   "metadata": {
    "execution": {
     "iopub.execute_input": "2024-12-24T20:21:57.776639Z",
     "iopub.status.busy": "2024-12-24T20:21:57.776214Z",
     "iopub.status.idle": "2024-12-24T20:21:59.167854Z",
     "shell.execute_reply": "2024-12-24T20:21:59.166716Z"
    },
    "papermill": {
     "duration": 1.444016,
     "end_time": "2024-12-24T20:21:59.169764",
     "exception": false,
     "start_time": "2024-12-24T20:21:57.725748",
     "status": "completed"
    },
    "tags": []
   },
   "outputs": [
    {
     "name": "stdout",
     "output_type": "stream",
     "text": [
      "File 'TrainedModels/WithoutKFCV/GraphBased/RP3betaICMRecommender/OptimizingMAP/Submission/submission_RP3betaICM_MAP.csv' updated successfully.\n"
     ]
    }
   ],
   "source": [
    "if config['save_github'] and config['tune_best_params']: \n",
    "    upload_file(\n",
    "                f'/kaggle/working/submission_{config[\"model\"]}_{config[\"metric\"]}.csv', \n",
    "                f'{GH_PATH}/{config[\"model\"]}Recommender/Optimizing{config[\"metric\"]}/Submission/submission_{config[\"model\"]}_{config[\"metric\"]}.csv', \n",
    "                f'New {config[\"model\"]}_{config[\"metric\"]} submission (from kaggle notebook)',\n",
    "                repo\n",
    "            )"
   ]
  }
 ],
 "metadata": {
  "kaggle": {
   "accelerator": "none",
   "dataSources": [
    {
     "databundleVersionId": 9982103,
     "sourceId": 87439,
     "sourceType": "competition"
    }
   ],
   "dockerImageVersionId": 30822,
   "isGpuEnabled": false,
   "isInternetEnabled": true,
   "language": "python",
   "sourceType": "notebook"
  },
  "kernelspec": {
   "display_name": "Python 3",
   "language": "python",
   "name": "python3"
  },
  "language_info": {
   "codemirror_mode": {
    "name": "ipython",
    "version": 3
   },
   "file_extension": ".py",
   "mimetype": "text/x-python",
   "name": "python",
   "nbconvert_exporter": "python",
   "pygments_lexer": "ipython3",
   "version": "3.10.12"
  },
  "papermill": {
   "default_parameters": {},
   "duration": 19496.702901,
   "end_time": "2024-12-24T20:22:00.472102",
   "environment_variables": {},
   "exception": null,
   "input_path": "__notebook__.ipynb",
   "output_path": "__notebook__.ipynb",
   "parameters": {},
   "start_time": "2024-12-24T14:57:03.769201",
   "version": "2.6.0"
  }
 },
 "nbformat": 4,
 "nbformat_minor": 5
}
