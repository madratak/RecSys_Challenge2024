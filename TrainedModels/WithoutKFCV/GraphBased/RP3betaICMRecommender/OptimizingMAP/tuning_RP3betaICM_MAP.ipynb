{
 "cells": [
  {
   "cell_type": "markdown",
   "id": "1637c4b7",
   "metadata": {
    "papermill": {
     "duration": 0.007059,
     "end_time": "2024-12-24T09:24:59.727542",
     "exception": false,
     "start_time": "2024-12-24T09:24:59.720483",
     "status": "completed"
    },
    "tags": []
   },
   "source": [
    "# Set connection with GitHub"
   ]
  },
  {
   "cell_type": "code",
   "execution_count": 1,
   "id": "f032cf37",
   "metadata": {
    "execution": {
     "iopub.execute_input": "2024-12-24T09:24:59.741922Z",
     "iopub.status.busy": "2024-12-24T09:24:59.741490Z",
     "iopub.status.idle": "2024-12-24T09:24:59.747385Z",
     "shell.execute_reply": "2024-12-24T09:24:59.746187Z"
    },
    "papermill": {
     "duration": 0.015382,
     "end_time": "2024-12-24T09:24:59.749332",
     "exception": false,
     "start_time": "2024-12-24T09:24:59.733950",
     "status": "completed"
    },
    "tags": []
   },
   "outputs": [],
   "source": [
    "# ! cd /kaggle/working && rm -rf RECsys_Challenge2024"
   ]
  },
  {
   "cell_type": "code",
   "execution_count": 2,
   "id": "3a34fc2b",
   "metadata": {
    "_cell_guid": "b1076dfc-b9ad-4769-8c92-a6c4dae69d19",
    "_uuid": "8f2839f25d086af736a60e9eeb907d3b93b6e0e5",
    "execution": {
     "iopub.execute_input": "2024-12-24T09:24:59.762926Z",
     "iopub.status.busy": "2024-12-24T09:24:59.762564Z",
     "iopub.status.idle": "2024-12-24T09:25:09.586050Z",
     "shell.execute_reply": "2024-12-24T09:25:09.584630Z"
    },
    "papermill": {
     "duration": 9.832684,
     "end_time": "2024-12-24T09:25:09.588148",
     "exception": false,
     "start_time": "2024-12-24T09:24:59.755464",
     "status": "completed"
    },
    "tags": []
   },
   "outputs": [
    {
     "name": "stdout",
     "output_type": "stream",
     "text": [
      "Cloning into 'RECsys_Challenge2024'...\r\n",
      "remote: Enumerating objects: 4427, done.\u001b[K\r\n",
      "remote: Counting objects: 100% (39/39), done.\u001b[K\r\n",
      "remote: Compressing objects: 100% (27/27), done.\u001b[K\r\n",
      "remote: Total 4427 (delta 13), reused 15 (delta 4), pack-reused 4388 (from 1)\u001b[K\r\n",
      "Receiving objects: 100% (4427/4427), 174.77 MiB | 29.20 MiB/s, done.\r\n",
      "Resolving deltas: 100% (2594/2594), done.\r\n",
      "Updating files: 100% (406/406), done.\r\n"
     ]
    }
   ],
   "source": [
    "from kaggle_secrets import UserSecretsClient\n",
    "\n",
    "token = UserSecretsClient().get_secret(\"Token\")\n",
    "\n",
    "! git clone https://{token}@github.com/madratak/RECsys_Challenge2024.git"
   ]
  },
  {
   "cell_type": "code",
   "execution_count": 3,
   "id": "33d6152c",
   "metadata": {
    "execution": {
     "iopub.execute_input": "2024-12-24T09:25:09.609271Z",
     "iopub.status.busy": "2024-12-24T09:25:09.608904Z",
     "iopub.status.idle": "2024-12-24T09:25:16.749174Z",
     "shell.execute_reply": "2024-12-24T09:25:16.747819Z"
    },
    "papermill": {
     "duration": 7.153284,
     "end_time": "2024-12-24T09:25:16.751449",
     "exception": false,
     "start_time": "2024-12-24T09:25:09.598165",
     "status": "completed"
    },
    "tags": []
   },
   "outputs": [
    {
     "name": "stdout",
     "output_type": "stream",
     "text": [
      "Collecting PyGithub\r\n",
      "  Downloading PyGithub-2.5.0-py3-none-any.whl.metadata (3.9 kB)\r\n",
      "Requirement already satisfied: requests in /usr/local/lib/python3.10/dist-packages (2.32.3)\r\n",
      "Collecting pynacl>=1.4.0 (from PyGithub)\r\n",
      "  Downloading PyNaCl-1.5.0-cp36-abi3-manylinux_2_17_x86_64.manylinux2014_x86_64.manylinux_2_24_x86_64.whl.metadata (8.6 kB)\r\n",
      "Requirement already satisfied: pyjwt>=2.4.0 in /usr/local/lib/python3.10/dist-packages (from pyjwt[crypto]>=2.4.0->PyGithub) (2.9.0)\r\n",
      "Requirement already satisfied: typing-extensions>=4.0.0 in /usr/local/lib/python3.10/dist-packages (from PyGithub) (4.12.2)\r\n",
      "Requirement already satisfied: urllib3>=1.26.0 in /usr/local/lib/python3.10/dist-packages (from PyGithub) (2.2.3)\r\n",
      "Requirement already satisfied: Deprecated in /usr/local/lib/python3.10/dist-packages (from PyGithub) (1.2.15)\r\n",
      "Requirement already satisfied: charset-normalizer<4,>=2 in /usr/local/lib/python3.10/dist-packages (from requests) (3.3.2)\r\n",
      "Requirement already satisfied: idna<4,>=2.5 in /usr/local/lib/python3.10/dist-packages (from requests) (3.10)\r\n",
      "Requirement already satisfied: certifi>=2017.4.17 in /usr/local/lib/python3.10/dist-packages (from requests) (2024.8.30)\r\n",
      "Requirement already satisfied: cryptography>=3.4.0 in /usr/local/lib/python3.10/dist-packages (from pyjwt[crypto]>=2.4.0->PyGithub) (43.0.1)\r\n",
      "Requirement already satisfied: cffi>=1.4.1 in /usr/local/lib/python3.10/dist-packages (from pynacl>=1.4.0->PyGithub) (1.17.1)\r\n",
      "Requirement already satisfied: wrapt<2,>=1.10 in /usr/local/lib/python3.10/dist-packages (from Deprecated->PyGithub) (1.16.0)\r\n",
      "Requirement already satisfied: pycparser in /usr/local/lib/python3.10/dist-packages (from cffi>=1.4.1->pynacl>=1.4.0->PyGithub) (2.22)\r\n",
      "Downloading PyGithub-2.5.0-py3-none-any.whl (375 kB)\r\n",
      "\u001b[2K   \u001b[90m━━━━━━━━━━━━━━━━━━━━━━━━━━━━━━━━━━━━━━━━\u001b[0m \u001b[32m375.9/375.9 kB\u001b[0m \u001b[31m11.8 MB/s\u001b[0m eta \u001b[36m0:00:00\u001b[0m\r\n",
      "\u001b[?25hDownloading PyNaCl-1.5.0-cp36-abi3-manylinux_2_17_x86_64.manylinux2014_x86_64.manylinux_2_24_x86_64.whl (856 kB)\r\n",
      "\u001b[2K   \u001b[90m━━━━━━━━━━━━━━━━━━━━━━━━━━━━━━━━━━━━━━━━\u001b[0m \u001b[32m856.7/856.7 kB\u001b[0m \u001b[31m33.1 MB/s\u001b[0m eta \u001b[36m0:00:00\u001b[0m\r\n",
      "\u001b[?25hInstalling collected packages: pynacl, PyGithub\r\n",
      "Successfully installed PyGithub-2.5.0 pynacl-1.5.0\r\n"
     ]
    }
   ],
   "source": [
    "! pip install PyGithub requests"
   ]
  },
  {
   "cell_type": "code",
   "execution_count": 4,
   "id": "3324bf0c",
   "metadata": {
    "_kg_hide-input": false,
    "execution": {
     "iopub.execute_input": "2024-12-24T09:25:16.775565Z",
     "iopub.status.busy": "2024-12-24T09:25:16.775135Z",
     "iopub.status.idle": "2024-12-24T09:28:11.454859Z",
     "shell.execute_reply": "2024-12-24T09:28:11.453523Z"
    },
    "papermill": {
     "duration": 174.693637,
     "end_time": "2024-12-24T09:28:11.456990",
     "exception": false,
     "start_time": "2024-12-24T09:25:16.763353",
     "status": "completed"
    },
    "tags": []
   },
   "outputs": [
    {
     "name": "stdout",
     "output_type": "stream",
     "text": [
      "/kaggle/working/RECsys_Challenge2024\n",
      "run_compile_all_cython: Found 11 Cython files in 5 folders...\r\n",
      "run_compile_all_cython: All files will be compiled using your current python environment: '/usr/bin/python3'\r\n",
      "Compiling [1/11]: MatrixFactorization_Cython_Epoch.pyx... \r\n",
      "In file included from \u001b[01m\u001b[K/usr/local/lib/python3.10/dist-packages/numpy/core/include/numpy/ndarraytypes.h:1929\u001b[m\u001b[K,\r\n",
      "                 from \u001b[01m\u001b[K/usr/local/lib/python3.10/dist-packages/numpy/core/include/numpy/ndarrayobject.h:12\u001b[m\u001b[K,\r\n",
      "                 from \u001b[01m\u001b[K/usr/local/lib/python3.10/dist-packages/numpy/core/include/numpy/arrayobject.h:5\u001b[m\u001b[K,\r\n",
      "                 from \u001b[01m\u001b[KMatrixFactorization_Cython_Epoch.c:1252\u001b[m\u001b[K:\r\n",
      "\u001b[01m\u001b[K/usr/local/lib/python3.10/dist-packages/numpy/core/include/numpy/npy_1_7_deprecated_api.h:17:2:\u001b[m\u001b[K \u001b[01;35m\u001b[Kwarning: \u001b[m\u001b[K#warning \"Using deprecated NumPy API, disable it with \" \"#define NPY_NO_DEPRECATED_API NPY_1_7_API_VERSION\" [\u001b[01;35m\u001b[K\u001b]8;;https://gcc.gnu.org/onlinedocs/gcc/Warning-Options.html#index-Wcpp\u0007-Wcpp\u001b]8;;\u0007\u001b[m\u001b[K]\r\n",
      "   17 | #\u001b[01;35m\u001b[Kwarning\u001b[m\u001b[K \"Using deprecated NumPy API, disable it with \" \\\r\n",
      "      |  \u001b[01;35m\u001b[K^~~~~~~\u001b[m\u001b[K\r\n",
      "\u001b[01m\u001b[KMatrixFactorization_Cython_Epoch.c:\u001b[m\u001b[K In function ‘\u001b[01m\u001b[K__pyx_pf_32MatrixFactorization_Cython_Epoch_32MatrixFactorization_Cython_Epoch_10epochIteration_Cython_ASY_SVD_SGD\u001b[m\u001b[K’:\r\n",
      "\u001b[01m\u001b[KMatrixFactorization_Cython_Epoch.c:26256:68:\u001b[m\u001b[K \u001b[01;35m\u001b[Kwarning: \u001b[m\u001b[K‘\u001b[01m\u001b[K__pyx_v_end_pos_seen_items\u001b[m\u001b[K’ may be used uninitialized in this function [\u001b[01;35m\u001b[K\u001b]8;;https://gcc.gnu.org/onlinedocs/gcc/Warning-Options.html#index-Wmaybe-uninitialized\u0007-Wmaybe-uninitialized\u001b]8;;\u0007\u001b[m\u001b[K]\r\n",
      "26256 |         for (__pyx_t_22 = __pyx_v_start_pos_seen_items; \u001b[01;35m\u001b[K__pyx_t_22 < __pyx_t_21\u001b[m\u001b[K; __pyx_t_22+=1) {\r\n",
      "      |                                                         \u001b[01;35m\u001b[K~~~~~~~~~~~^~~~~~~~~~~~\u001b[m\u001b[K\r\n",
      "\u001b[01m\u001b[KMatrixFactorization_Cython_Epoch.c:26256:68:\u001b[m\u001b[K \u001b[01;35m\u001b[Kwarning: \u001b[m\u001b[K‘\u001b[01m\u001b[K__pyx_v_start_pos_seen_items\u001b[m\u001b[K’ may be used uninitialized in this function [\u001b[01;35m\u001b[K\u001b]8;;https://gcc.gnu.org/onlinedocs/gcc/Warning-Options.html#index-Wmaybe-uninitialized\u0007-Wmaybe-uninitialized\u001b]8;;\u0007\u001b[m\u001b[K]\r\n",
      "/usr/local/lib/python3.10/dist-packages/Cython/Compiler/Main.py:381: FutureWarning: Cython directive 'language_level' not set, using '3str' for now (Py3). This has changed from earlier releases! File: /kaggle/working/RECsys_Challenge2024/Recommenders/MatrixFactorization/Cython/MatrixFactorization_Cython_Epoch.pyx\r\n",
      "  tree = Parsing.p_module(s, pxd, full_module_name)\r\n",
      "Compiling [1/11]: MatrixFactorization_Cython_Epoch.pyx... PASS\r\n",
      "\r\n",
      "Compiling [2/11]: MatrixFactorizationImpressions_Cython_Epoch.pyx... \r\n",
      "In file included from \u001b[01m\u001b[K/usr/local/lib/python3.10/dist-packages/numpy/core/include/numpy/ndarraytypes.h:1929\u001b[m\u001b[K,\r\n",
      "                 from \u001b[01m\u001b[K/usr/local/lib/python3.10/dist-packages/numpy/core/include/numpy/ndarrayobject.h:12\u001b[m\u001b[K,\r\n",
      "                 from \u001b[01m\u001b[K/usr/local/lib/python3.10/dist-packages/numpy/core/include/numpy/arrayobject.h:5\u001b[m\u001b[K,\r\n",
      "                 from \u001b[01m\u001b[KMatrixFactorizationImpressions_Cython_Epoch.c:1252\u001b[m\u001b[K:\r\n",
      "\u001b[01m\u001b[K/usr/local/lib/python3.10/dist-packages/numpy/core/include/numpy/npy_1_7_deprecated_api.h:17:2:\u001b[m\u001b[K \u001b[01;35m\u001b[Kwarning: \u001b[m\u001b[K#warning \"Using deprecated NumPy API, disable it with \" \"#define NPY_NO_DEPRECATED_API NPY_1_7_API_VERSION\" [\u001b[01;35m\u001b[K\u001b]8;;https://gcc.gnu.org/onlinedocs/gcc/Warning-Options.html#index-Wcpp\u0007-Wcpp\u001b]8;;\u0007\u001b[m\u001b[K]\r\n",
      "   17 | #\u001b[01;35m\u001b[Kwarning\u001b[m\u001b[K \"Using deprecated NumPy API, disable it with \" \\\r\n",
      "      |  \u001b[01;35m\u001b[K^~~~~~~\u001b[m\u001b[K\r\n",
      "\u001b[01m\u001b[KMatrixFactorizationImpressions_Cython_Epoch.c:\u001b[m\u001b[K In function ‘\u001b[01m\u001b[K__pyx_f_43MatrixFactorizationImpressions_Cython_Epoch_32MatrixFactorization_Cython_Epoch_sampleBPR_Cython\u001b[m\u001b[K’:\r\n",
      "\u001b[01m\u001b[KMatrixFactorizationImpressions_Cython_Epoch.c:30353:17:\u001b[m\u001b[K \u001b[01;35m\u001b[Kwarning: \u001b[m\u001b[K‘\u001b[01m\u001b[K__pyx_v_start_pos_impression_items\u001b[m\u001b[K’ may be used uninitialized in this function [\u001b[01;35m\u001b[K\u001b]8;;https://gcc.gnu.org/onlinedocs/gcc/Warning-Options.html#index-Wmaybe-uninitialized\u0007-Wmaybe-uninitialized\u001b]8;;\u0007\u001b[m\u001b[K]\r\n",
      "30353 |       \u001b[01;35m\u001b[K__pyx_t_4 = (__pyx_v_start_pos_impression_items + __pyx_v_index)\u001b[m\u001b[K;\r\n",
      "      |       \u001b[01;35m\u001b[K~~~~~~~~~~^~~~~~~~~~~~~~~~~~~~~~~~~~~~~~~~~~~~~~~~~~~~~~~~~~~~~~\u001b[m\u001b[K\r\n",
      "\u001b[01m\u001b[KMatrixFactorizationImpressions_Cython_Epoch.c:\u001b[m\u001b[K In function ‘\u001b[01m\u001b[K__pyx_pf_43MatrixFactorizationImpressions_Cython_Epoch_32MatrixFactorization_Cython_Epoch_10epochIteration_Cython_ASY_SVD_SGD\u001b[m\u001b[K’:\r\n",
      "\u001b[01m\u001b[KMatrixFactorizationImpressions_Cython_Epoch.c:26112:66:\u001b[m\u001b[K \u001b[01;35m\u001b[Kwarning: \u001b[m\u001b[K‘\u001b[01m\u001b[K__pyx_v_end_pos_seen_items\u001b[m\u001b[K’ may be used uninitialized in this function [\u001b[01;35m\u001b[K\u001b]8;;https://gcc.gnu.org/onlinedocs/gcc/Warning-Options.html#index-Wmaybe-uninitialized\u0007-Wmaybe-uninitialized\u001b]8;;\u0007\u001b[m\u001b[K]\r\n",
      "26112 |       for (__pyx_t_22 = __pyx_v_start_pos_seen_items; \u001b[01;35m\u001b[K__pyx_t_22 < __pyx_t_21\u001b[m\u001b[K; __pyx_t_22+=1) {\r\n",
      "      |                                                       \u001b[01;35m\u001b[K~~~~~~~~~~~^~~~~~~~~~~~\u001b[m\u001b[K\r\n",
      "\u001b[01m\u001b[KMatrixFactorizationImpressions_Cython_Epoch.c:26112:66:\u001b[m\u001b[K \u001b[01;35m\u001b[Kwarning: \u001b[m\u001b[K‘\u001b[01m\u001b[K__pyx_v_start_pos_seen_items\u001b[m\u001b[K’ may be used uninitialized in this function [\u001b[01;35m\u001b[K\u001b]8;;https://gcc.gnu.org/onlinedocs/gcc/Warning-Options.html#index-Wmaybe-uninitialized\u0007-Wmaybe-uninitialized\u001b]8;;\u0007\u001b[m\u001b[K]\r\n",
      "/usr/local/lib/python3.10/dist-packages/Cython/Compiler/Main.py:381: FutureWarning: Cython directive 'language_level' not set, using '3str' for now (Py3). This has changed from earlier releases! File: /kaggle/working/RECsys_Challenge2024/Recommenders/MatrixFactorization/Cython/MatrixFactorizationImpressions_Cython_Epoch.pyx\r\n",
      "  tree = Parsing.p_module(s, pxd, full_module_name)\r\n",
      "Compiling [2/11]: MatrixFactorizationImpressions_Cython_Epoch.pyx... PASS\r\n",
      "\r\n",
      "Compiling [3/11]: Compute_Similarity_Cython.pyx... \r\n",
      "warning: Compute_Similarity_Cython.pyx:21:0: The 'IF' statement is deprecated and will be removed in a future Cython version. Consider using runtime conditions or C macros instead. See https://github.com/cython/cython/issues/4310\r\n",
      "In file included from \u001b[01m\u001b[K/usr/local/lib/python3.10/dist-packages/numpy/core/include/numpy/ndarraytypes.h:1929\u001b[m\u001b[K,\r\n",
      "                 from \u001b[01m\u001b[K/usr/local/lib/python3.10/dist-packages/numpy/core/include/numpy/ndarrayobject.h:12\u001b[m\u001b[K,\r\n",
      "                 from \u001b[01m\u001b[K/usr/local/lib/python3.10/dist-packages/numpy/core/include/numpy/arrayobject.h:5\u001b[m\u001b[K,\r\n",
      "                 from \u001b[01m\u001b[KCompute_Similarity_Cython.c:1252\u001b[m\u001b[K:\r\n",
      "\u001b[01m\u001b[K/usr/local/lib/python3.10/dist-packages/numpy/core/include/numpy/npy_1_7_deprecated_api.h:17:2:\u001b[m\u001b[K \u001b[01;35m\u001b[Kwarning: \u001b[m\u001b[K#warning \"Using deprecated NumPy API, disable it with \" \"#define NPY_NO_DEPRECATED_API NPY_1_7_API_VERSION\" [\u001b[01;35m\u001b[K\u001b]8;;https://gcc.gnu.org/onlinedocs/gcc/Warning-Options.html#index-Wcpp\u0007-Wcpp\u001b]8;;\u0007\u001b[m\u001b[K]\r\n",
      "   17 | #\u001b[01;35m\u001b[Kwarning\u001b[m\u001b[K \"Using deprecated NumPy API, disable it with \" \\\r\n",
      "      |  \u001b[01;35m\u001b[K^~~~~~~\u001b[m\u001b[K\r\n",
      "/usr/local/lib/python3.10/dist-packages/Cython/Compiler/Main.py:381: FutureWarning: Cython directive 'language_level' not set, using '3str' for now (Py3). This has changed from earlier releases! File: /kaggle/working/RECsys_Challenge2024/Recommenders/Similarity/Cython/Compute_Similarity_Cython.pyx\r\n",
      "  tree = Parsing.p_module(s, pxd, full_module_name)\r\n",
      "warning: Compute_Similarity_Cython.pyx:21:0: The 'IF' statement is deprecated and will be removed in a future Cython version. Consider using runtime conditions or C macros instead. See https://github.com/cython/cython/issues/4310\r\n",
      "Compiling [3/11]: Compute_Similarity_Cython.pyx... PASS\r\n",
      "\r\n",
      "Compiling [4/11]: Sparse_Matrix_Tree_CSR.pyx... \r\n",
      "warning: Sparse_Matrix_Tree_CSR.pyx:132:34: Non-trivial type declarators in shared declaration (e.g. mix of pointers and values). Each pointer declaration should be on its own line.\r\n",
      "warning: Sparse_Matrix_Tree_CSR.pyx:132:66: Non-trivial type declarators in shared declaration (e.g. mix of pointers and values). Each pointer declaration should be on its own line.\r\n",
      "warning: Sparse_Matrix_Tree_CSR.pyx:343:35: Non-trivial type declarators in shared declaration (e.g. mix of pointers and values). Each pointer declaration should be on its own line.\r\n",
      "warning: Sparse_Matrix_Tree_CSR.pyx:343:52: Non-trivial type declarators in shared declaration (e.g. mix of pointers and values). Each pointer declaration should be on its own line.\r\n",
      "warning: Sparse_Matrix_Tree_CSR.pyx:442:35: Non-trivial type declarators in shared declaration (e.g. mix of pointers and values). Each pointer declaration should be on its own line.\r\n",
      "warning: Sparse_Matrix_Tree_CSR.pyx:442:53: Non-trivial type declarators in shared declaration (e.g. mix of pointers and values). Each pointer declaration should be on its own line.\r\n",
      "warning: Sparse_Matrix_Tree_CSR.pyx:442:69: Non-trivial type declarators in shared declaration (e.g. mix of pointers and values). Each pointer declaration should be on its own line.\r\n",
      "warning: Sparse_Matrix_Tree_CSR.pyx:577:35: Non-trivial type declarators in shared declaration (e.g. mix of pointers and values). Each pointer declaration should be on its own line.\r\n",
      "warning: Sparse_Matrix_Tree_CSR.pyx:577:42: Non-trivial type declarators in shared declaration (e.g. mix of pointers and values). Each pointer declaration should be on its own line.\r\n",
      "warning: Sparse_Matrix_Tree_CSR.pyx:578:35: Non-trivial type declarators in shared declaration (e.g. mix of pointers and values). Each pointer declaration should be on its own line.\r\n",
      "warning: Sparse_Matrix_Tree_CSR.pyx:578:53: Non-trivial type declarators in shared declaration (e.g. mix of pointers and values). Each pointer declaration should be on its own line.\r\n",
      "\r\n",
      "Error compiling Cython file:\r\n",
      "------------------------------------------------------------\r\n",
      "...\r\n",
      "            vector_pointer_to_list_elements[index].head = current_element\r\n",
      "            current_element = current_element.higher\r\n",
      "\r\n",
      "\r\n",
      "        # Sort array elements on their data field\r\n",
      "        qsort(vector_pointer_to_list_elements, list_length, sizeof(head_pointer_tree_s), compare_struct_on_data)\r\n",
      "                                                                                         ^\r\n",
      "------------------------------------------------------------\r\n",
      "\r\n",
      "Sparse_Matrix_Tree_CSR.pyx:516:89: Cannot assign type 'int (const void *, const void *) except? -1' to 'int (*)(const_void *, const_void *) noexcept'. Exception values are incompatible. Suggest adding 'noexcept' to the type of 'compare_struct_on_data'.\r\n",
      "\r\n",
      "Error compiling Cython file:\r\n",
      "------------------------------------------------------------\r\n",
      "...\r\n",
      "        # Sort array elements on their data field\r\n",
      "        qsort(vector_pointer_to_list_elements, list_length, sizeof(head_pointer_tree_s), compare_struct_on_data)\r\n",
      "\r\n",
      "        # Sort only the TopK according to their column field\r\n",
      "        # Sort is from lower to higher, therefore the elements to be considered are from len-topK to len\r\n",
      "        qsort(&vector_pointer_to_list_elements[list_length-TopK], TopK, sizeof(head_pointer_tree_s), compare_struct_on_column)\r\n",
      "                                                                                                     ^\r\n",
      "------------------------------------------------------------\r\n",
      "\r\n",
      "Sparse_Matrix_Tree_CSR.pyx:520:101: Cannot assign type 'int (const void *, const void *) except? -1' to 'int (*)(const_void *, const_void *) noexcept'. Exception values are incompatible. Suggest adding 'noexcept' to the type of 'compare_struct_on_column'.\r\n",
      "Traceback (most recent call last):\r\n",
      "  File \"/kaggle/working/RECsys_Challenge2024/CythonCompiler/compile_script.py\", line 48, in <module>\r\n",
      "    setup(\r\n",
      "  File \"/usr/local/lib/python3.10/dist-packages/setuptools/__init__.py\", line 108, in setup\r\n",
      "    return distutils.core.setup(**attrs)\r\n",
      "  File \"/usr/local/lib/python3.10/dist-packages/setuptools/_distutils/core.py\", line 184, in setup\r\n",
      "    return run_commands(dist)\r\n",
      "  File \"/usr/local/lib/python3.10/dist-packages/setuptools/_distutils/core.py\", line 200, in run_commands\r\n",
      "    dist.run_commands()\r\n",
      "  File \"/usr/local/lib/python3.10/dist-packages/setuptools/_distutils/dist.py\", line 970, in run_commands\r\n",
      "    self.run_command(cmd)\r\n",
      "  File \"/usr/local/lib/python3.10/dist-packages/setuptools/dist.py\", line 956, in run_command\r\n",
      "    super().run_command(command)\r\n",
      "  File \"/usr/local/lib/python3.10/dist-packages/setuptools/_distutils/dist.py\", line 989, in run_command\r\n",
      "    cmd_obj.run()\r\n",
      "  File \"/usr/local/lib/python3.10/dist-packages/setuptools/_distutils/command/build_ext.py\", line 359, in run\r\n",
      "    self.build_extensions()\r\n",
      "  File \"/usr/local/lib/python3.10/dist-packages/setuptools/_distutils/command/build_ext.py\", line 479, in build_extensions\r\n",
      "    self._build_extensions_serial()\r\n",
      "  File \"/usr/local/lib/python3.10/dist-packages/setuptools/_distutils/command/build_ext.py\", line 505, in _build_extensions_serial\r\n",
      "    self.build_extension(ext)\r\n",
      "  File \"/usr/local/lib/python3.10/dist-packages/Cython/Distutils/build_ext.py\", line 130, in build_extension\r\n",
      "    new_ext = cythonize(\r\n",
      "  File \"/usr/local/lib/python3.10/dist-packages/Cython/Build/Dependencies.py\", line 1154, in cythonize\r\n",
      "    cythonize_one(*args)\r\n",
      "  File \"/usr/local/lib/python3.10/dist-packages/Cython/Build/Dependencies.py\", line 1321, in cythonize_one\r\n",
      "    raise CompileError(None, pyx_file)\r\n",
      "Cython.Compiler.Errors.CompileError: Sparse_Matrix_Tree_CSR.pyx\r\n",
      "Traceback (most recent call last):\r\n",
      "  File \"/kaggle/working/RECsys_Challenge2024/run_compile_all_cython.py\", line 60, in <module>\r\n",
      "    run_compile_subprocess(file_path, [file_name])\r\n",
      "  File \"/kaggle/working/RECsys_Challenge2024/CythonCompiler/run_compile_subprocess.py\", line 51, in run_compile_subprocess\r\n",
      "    raise exc\r\n",
      "  File \"/kaggle/working/RECsys_Challenge2024/CythonCompiler/run_compile_subprocess.py\", line 32, in run_compile_subprocess\r\n",
      "    output = subprocess.check_output(' '.join(command),\r\n",
      "  File \"/usr/lib/python3.10/subprocess.py\", line 421, in check_output\r\n",
      "    return run(*popenargs, stdout=PIPE, timeout=timeout, check=True,\r\n",
      "  File \"/usr/lib/python3.10/subprocess.py\", line 526, in run\r\n",
      "    raise CalledProcessError(retcode, process.args,\r\n",
      "subprocess.CalledProcessError: Command '/usr/bin/python3 /kaggle/working/RECsys_Challenge2024/CythonCompiler/compile_script.py Sparse_Matrix_Tree_CSR.pyx build_ext --inplace' returned non-zero exit status 1.\r\n",
      "Compiling [4/11]: Sparse_Matrix_Tree_CSR.pyx... FAIL: Command '/usr/bin/python3 /kaggle/working/RECsys_Challenge2024/CythonCompiler/compile_script.py Sparse_Matrix_Tree_CSR.pyx build_ext --inplace' returned non-zero exit status 1.\r\n",
      "\r\n",
      "Compiling [5/11]: SLIM_BPR_Cython_Epoch.pyx... \r\n",
      "warning: SLIM_BPR_Cython_Epoch.pyx:24:0: The 'IF' statement is deprecated and will be removed in a future Cython version. Consider using runtime conditions or C macros instead. See https://github.com/cython/cython/issues/4310\r\n",
      "warning: SLIM_BPR_Cython_Epoch.pyx:632:34: Non-trivial type declarators in shared declaration (e.g. mix of pointers and values). Each pointer declaration should be on its own line.\r\n",
      "warning: SLIM_BPR_Cython_Epoch.pyx:632:66: Non-trivial type declarators in shared declaration (e.g. mix of pointers and values). Each pointer declaration should be on its own line.\r\n",
      "warning: SLIM_BPR_Cython_Epoch.pyx:817:35: Non-trivial type declarators in shared declaration (e.g. mix of pointers and values). Each pointer declaration should be on its own line.\r\n",
      "warning: SLIM_BPR_Cython_Epoch.pyx:817:52: Non-trivial type declarators in shared declaration (e.g. mix of pointers and values). Each pointer declaration should be on its own line.\r\n",
      "warning: SLIM_BPR_Cython_Epoch.pyx:916:35: Non-trivial type declarators in shared declaration (e.g. mix of pointers and values). Each pointer declaration should be on its own line.\r\n",
      "warning: SLIM_BPR_Cython_Epoch.pyx:916:53: Non-trivial type declarators in shared declaration (e.g. mix of pointers and values). Each pointer declaration should be on its own line.\r\n",
      "warning: SLIM_BPR_Cython_Epoch.pyx:916:69: Non-trivial type declarators in shared declaration (e.g. mix of pointers and values). Each pointer declaration should be on its own line.\r\n",
      "warning: SLIM_BPR_Cython_Epoch.pyx:1051:35: Non-trivial type declarators in shared declaration (e.g. mix of pointers and values). Each pointer declaration should be on its own line.\r\n",
      "warning: SLIM_BPR_Cython_Epoch.pyx:1051:42: Non-trivial type declarators in shared declaration (e.g. mix of pointers and values). Each pointer declaration should be on its own line.\r\n",
      "warning: SLIM_BPR_Cython_Epoch.pyx:1052:35: Non-trivial type declarators in shared declaration (e.g. mix of pointers and values). Each pointer declaration should be on its own line.\r\n",
      "warning: SLIM_BPR_Cython_Epoch.pyx:1052:53: Non-trivial type declarators in shared declaration (e.g. mix of pointers and values). Each pointer declaration should be on its own line.\r\n",
      "\r\n",
      "Error compiling Cython file:\r\n",
      "------------------------------------------------------------\r\n",
      "...\r\n",
      "            vector_pointer_to_list_elements[index].head = current_element\r\n",
      "            current_element = current_element.higher\r\n",
      "\r\n",
      "\r\n",
      "        # Sort array elements on their data field\r\n",
      "        qsort(vector_pointer_to_list_elements, list_length, sizeof(head_pointer_tree_s), compare_struct_on_data)\r\n",
      "                                                                                         ^\r\n",
      "------------------------------------------------------------\r\n",
      "\r\n",
      "SLIM_BPR_Cython_Epoch.pyx:990:89: Cannot assign type 'int (const void *, const void *) except? -1' to 'int (*)(const_void *, const_void *) noexcept'. Exception values are incompatible. Suggest adding 'noexcept' to the type of 'compare_struct_on_data'.\r\n",
      "\r\n",
      "Error compiling Cython file:\r\n",
      "------------------------------------------------------------\r\n",
      "...\r\n",
      "        # Sort array elements on their data field\r\n",
      "        qsort(vector_pointer_to_list_elements, list_length, sizeof(head_pointer_tree_s), compare_struct_on_data)\r\n",
      "\r\n",
      "        # Sort only the TopK according to their column field\r\n",
      "        # Sort is from lower to higher, therefore the elements to be considered are from len-topK to len\r\n",
      "        qsort(&vector_pointer_to_list_elements[list_length-TopK], TopK, sizeof(head_pointer_tree_s), compare_struct_on_column)\r\n",
      "                                                                                                     ^\r\n",
      "------------------------------------------------------------\r\n",
      "\r\n",
      "SLIM_BPR_Cython_Epoch.pyx:994:101: Cannot assign type 'int (const void *, const void *) except? -1' to 'int (*)(const_void *, const_void *) noexcept'. Exception values are incompatible. Suggest adding 'noexcept' to the type of 'compare_struct_on_column'.\r\n",
      "Traceback (most recent call last):\r\n",
      "  File \"/kaggle/working/RECsys_Challenge2024/CythonCompiler/compile_script.py\", line 48, in <module>\r\n",
      "    setup(\r\n",
      "  File \"/usr/local/lib/python3.10/dist-packages/setuptools/__init__.py\", line 108, in setup\r\n",
      "    return distutils.core.setup(**attrs)\r\n",
      "  File \"/usr/local/lib/python3.10/dist-packages/setuptools/_distutils/core.py\", line 184, in setup\r\n",
      "    return run_commands(dist)\r\n",
      "  File \"/usr/local/lib/python3.10/dist-packages/setuptools/_distutils/core.py\", line 200, in run_commands\r\n",
      "    dist.run_commands()\r\n",
      "  File \"/usr/local/lib/python3.10/dist-packages/setuptools/_distutils/dist.py\", line 970, in run_commands\r\n",
      "    self.run_command(cmd)\r\n",
      "  File \"/usr/local/lib/python3.10/dist-packages/setuptools/dist.py\", line 956, in run_command\r\n",
      "    super().run_command(command)\r\n",
      "  File \"/usr/local/lib/python3.10/dist-packages/setuptools/_distutils/dist.py\", line 989, in run_command\r\n",
      "    cmd_obj.run()\r\n",
      "  File \"/usr/local/lib/python3.10/dist-packages/setuptools/_distutils/command/build_ext.py\", line 359, in run\r\n",
      "    self.build_extensions()\r\n",
      "  File \"/usr/local/lib/python3.10/dist-packages/setuptools/_distutils/command/build_ext.py\", line 479, in build_extensions\r\n",
      "    self._build_extensions_serial()\r\n",
      "  File \"/usr/local/lib/python3.10/dist-packages/setuptools/_distutils/command/build_ext.py\", line 505, in _build_extensions_serial\r\n",
      "    self.build_extension(ext)\r\n",
      "  File \"/usr/local/lib/python3.10/dist-packages/Cython/Distutils/build_ext.py\", line 130, in build_extension\r\n",
      "    new_ext = cythonize(\r\n",
      "  File \"/usr/local/lib/python3.10/dist-packages/Cython/Build/Dependencies.py\", line 1154, in cythonize\r\n",
      "    cythonize_one(*args)\r\n",
      "  File \"/usr/local/lib/python3.10/dist-packages/Cython/Build/Dependencies.py\", line 1321, in cythonize_one\r\n",
      "    raise CompileError(None, pyx_file)\r\n",
      "Cython.Compiler.Errors.CompileError: SLIM_BPR_Cython_Epoch.pyx\r\n",
      "Traceback (most recent call last):\r\n",
      "  File \"/kaggle/working/RECsys_Challenge2024/run_compile_all_cython.py\", line 60, in <module>\r\n",
      "    run_compile_subprocess(file_path, [file_name])\r\n",
      "  File \"/kaggle/working/RECsys_Challenge2024/CythonCompiler/run_compile_subprocess.py\", line 51, in run_compile_subprocess\r\n",
      "    raise exc\r\n",
      "  File \"/kaggle/working/RECsys_Challenge2024/CythonCompiler/run_compile_subprocess.py\", line 32, in run_compile_subprocess\r\n",
      "    output = subprocess.check_output(' '.join(command),\r\n",
      "  File \"/usr/lib/python3.10/subprocess.py\", line 421, in check_output\r\n",
      "    return run(*popenargs, stdout=PIPE, timeout=timeout, check=True,\r\n",
      "  File \"/usr/lib/python3.10/subprocess.py\", line 526, in run\r\n",
      "    raise CalledProcessError(retcode, process.args,\r\n",
      "subprocess.CalledProcessError: Command '/usr/bin/python3 /kaggle/working/RECsys_Challenge2024/CythonCompiler/compile_script.py SLIM_BPR_Cython_Epoch.pyx build_ext --inplace' returned non-zero exit status 1.\r\n",
      "Compiling [5/11]: SLIM_BPR_Cython_Epoch.pyx... FAIL: Command '/usr/bin/python3 /kaggle/working/RECsys_Challenge2024/CythonCompiler/compile_script.py SLIM_BPR_Cython_Epoch.pyx build_ext --inplace' returned non-zero exit status 1.\r\n",
      "\r\n",
      "Compiling [6/11]: Triangular_Matrix.pyx... \r\n",
      "warning: Triangular_Matrix.pyx:22:0: The 'IF' statement is deprecated and will be removed in a future Cython version. Consider using runtime conditions or C macros instead. See https://github.com/cython/cython/issues/4310\r\n",
      "In file included from \u001b[01m\u001b[K/usr/local/lib/python3.10/dist-packages/numpy/core/include/numpy/ndarraytypes.h:1929\u001b[m\u001b[K,\r\n",
      "                 from \u001b[01m\u001b[K/usr/local/lib/python3.10/dist-packages/numpy/core/include/numpy/ndarrayobject.h:12\u001b[m\u001b[K,\r\n",
      "                 from \u001b[01m\u001b[K/usr/local/lib/python3.10/dist-packages/numpy/core/include/numpy/arrayobject.h:5\u001b[m\u001b[K,\r\n",
      "                 from \u001b[01m\u001b[KTriangular_Matrix.c:1252\u001b[m\u001b[K:\r\n",
      "\u001b[01m\u001b[K/usr/local/lib/python3.10/dist-packages/numpy/core/include/numpy/npy_1_7_deprecated_api.h:17:2:\u001b[m\u001b[K \u001b[01;35m\u001b[Kwarning: \u001b[m\u001b[K#warning \"Using deprecated NumPy API, disable it with \" \"#define NPY_NO_DEPRECATED_API NPY_1_7_API_VERSION\" [\u001b[01;35m\u001b[K\u001b]8;;https://gcc.gnu.org/onlinedocs/gcc/Warning-Options.html#index-Wcpp\u0007-Wcpp\u001b]8;;\u0007\u001b[m\u001b[K]\r\n",
      "   17 | #\u001b[01;35m\u001b[Kwarning\u001b[m\u001b[K \"Using deprecated NumPy API, disable it with \" \\\r\n",
      "      |  \u001b[01;35m\u001b[K^~~~~~~\u001b[m\u001b[K\r\n",
      "In function ‘\u001b[01m\u001b[K__pyx_pf_17Triangular_Matrix_17Triangular_Matrix___init__\u001b[m\u001b[K’,\r\n",
      "    inlined from ‘\u001b[01m\u001b[K__pyx_pw_17Triangular_Matrix_17Triangular_Matrix_1__init__\u001b[m\u001b[K’ at \u001b[01m\u001b[KTriangular_Matrix.c:5541:13\u001b[m\u001b[K:\r\n",
      "\u001b[01m\u001b[KTriangular_Matrix.c:5599:43:\u001b[m\u001b[K \u001b[01;35m\u001b[Kwarning: \u001b[m\u001b[Kargument 1 value ‘\u001b[01m\u001b[K18446744073709551608\u001b[m\u001b[K’ exceeds maximum object size 9223372036854775807 [\u001b[01;35m\u001b[K\u001b]8;;https://gcc.gnu.org/onlinedocs/gcc/Warning-Options.html#index-Walloc-size-larger-than=\u0007-Walloc-size-larger-than=\u001b]8;;\u0007\u001b[m\u001b[K]\r\n",
      " 5599 |   __pyx_v_self->row_pointer = ((double **)\u001b[01;35m\u001b[Kmalloc((__pyx_v_self->num_rows * (sizeof(double *))))\u001b[m\u001b[K);\r\n",
      "      |                                           \u001b[01;35m\u001b[K^~~~~~~~~~~~~~~~~~~~~~~~~~~~~~~~~~~~~~~~~~~~~~~~~~~~~\u001b[m\u001b[K\r\n",
      "In file included from \u001b[01m\u001b[K/usr/include/python3.10/Python.h:34\u001b[m\u001b[K,\r\n",
      "                 from \u001b[01m\u001b[KTriangular_Matrix.c:41\u001b[m\u001b[K:\r\n",
      "\u001b[01m\u001b[KTriangular_Matrix.c:\u001b[m\u001b[K In function ‘\u001b[01m\u001b[K__pyx_pw_17Triangular_Matrix_17Triangular_Matrix_1__init__\u001b[m\u001b[K’:\r\n",
      "\u001b[01m\u001b[K/usr/include/stdlib.h:540:14:\u001b[m\u001b[K \u001b[01;36m\u001b[Knote: \u001b[m\u001b[Kin a call to allocation function ‘\u001b[01m\u001b[Kmalloc\u001b[m\u001b[K’ declared here\r\n",
      "  540 | extern void *\u001b[01;36m\u001b[Kmalloc\u001b[m\u001b[K (size_t __size) __THROW __attribute_malloc__\r\n",
      "      |              \u001b[01;36m\u001b[K^~~~~~\u001b[m\u001b[K\r\n",
      "/usr/local/lib/python3.10/dist-packages/Cython/Compiler/Main.py:381: FutureWarning: Cython directive 'language_level' not set, using '3str' for now (Py3). This has changed from earlier releases! File: /kaggle/working/RECsys_Challenge2024/Recommenders/SLIM/Cython/Triangular_Matrix.pyx\r\n",
      "  tree = Parsing.p_module(s, pxd, full_module_name)\r\n",
      "warning: Triangular_Matrix.pyx:22:0: The 'IF' statement is deprecated and will be removed in a future Cython version. Consider using runtime conditions or C macros instead. See https://github.com/cython/cython/issues/4310\r\n",
      "Compiling [6/11]: Triangular_Matrix.pyx... PASS\r\n",
      "\r\n",
      "Compiling [7/11]: HP3_Similarity_Cython_SGD.pyx... \r\n",
      "performance hint: HP3_Similarity_Cython_SGD.pyx:113:40: Index should be typed for more efficient access\r\n",
      "performance hint: HP3_Similarity_Cython_SGD.pyx:114:40: Index should be typed for more efficient access\r\n",
      "In file included from \u001b[01m\u001b[K/usr/local/lib/python3.10/dist-packages/numpy/core/include/numpy/ndarraytypes.h:1929\u001b[m\u001b[K,\r\n",
      "                 from \u001b[01m\u001b[K/usr/local/lib/python3.10/dist-packages/numpy/core/include/numpy/ndarrayobject.h:12\u001b[m\u001b[K,\r\n",
      "                 from \u001b[01m\u001b[K/usr/local/lib/python3.10/dist-packages/numpy/core/include/numpy/arrayobject.h:5\u001b[m\u001b[K,\r\n",
      "                 from \u001b[01m\u001b[KHP3_Similarity_Cython_SGD.c:1252\u001b[m\u001b[K:\r\n",
      "\u001b[01m\u001b[K/usr/local/lib/python3.10/dist-packages/numpy/core/include/numpy/npy_1_7_deprecated_api.h:17:2:\u001b[m\u001b[K \u001b[01;35m\u001b[Kwarning: \u001b[m\u001b[K#warning \"Using deprecated NumPy API, disable it with \" \"#define NPY_NO_DEPRECATED_API NPY_1_7_API_VERSION\" [\u001b[01;35m\u001b[K\u001b]8;;https://gcc.gnu.org/onlinedocs/gcc/Warning-Options.html#index-Wcpp\u0007-Wcpp\u001b]8;;\u0007\u001b[m\u001b[K]\r\n",
      "   17 | #\u001b[01;35m\u001b[Kwarning\u001b[m\u001b[K \"Using deprecated NumPy API, disable it with \" \\\r\n",
      "      |  \u001b[01;35m\u001b[K^~~~~~~\u001b[m\u001b[K\r\n",
      "\u001b[01m\u001b[KHP3_Similarity_Cython_SGD.c:\u001b[m\u001b[K In function ‘\u001b[01m\u001b[K__pyx_pf_25HP3_Similarity_Cython_SGD_25HP3_Similarity_Cython_SGD_4fit\u001b[m\u001b[K’:\r\n",
      "\u001b[01m\u001b[KHP3_Similarity_Cython_SGD.c:23631:55:\u001b[m\u001b[K \u001b[01;35m\u001b[Kwarning: \u001b[m\u001b[K‘\u001b[01m\u001b[K__pyx_v_sample_num\u001b[m\u001b[K’ may be used uninitialized in this function [\u001b[01;35m\u001b[K\u001b]8;;https://gcc.gnu.org/onlinedocs/gcc/Warning-Options.html#index-Wmaybe-uninitialized\u0007-Wmaybe-uninitialized\u001b]8;;\u0007\u001b[m\u001b[K]\r\n",
      "23631 |   __pyx_t_1 = PyFloat_FromDouble((__pyx_v_cum_loss / \u001b[01;35m\u001b[K((double)__pyx_v_sample_num)\u001b[m\u001b[K)); if (unlikely(!__pyx_t_1)) __PYX_ERR(0, 291, __pyx_L1_error)\r\n",
      "      |                                                      \u001b[01;35m\u001b[K~^~~~~~~~~~~~~~~~~~~~~~~~~~~\u001b[m\u001b[K\r\n",
      "/usr/local/lib/python3.10/dist-packages/Cython/Compiler/Main.py:381: FutureWarning: Cython directive 'language_level' not set, using '3str' for now (Py3). This has changed from earlier releases! File: /kaggle/working/RECsys_Challenge2024/Recommenders/FeatureWeighting/Cython/HP3_Similarity_Cython_SGD.pyx\r\n",
      "  tree = Parsing.p_module(s, pxd, full_module_name)\r\n",
      "performance hint: HP3_Similarity_Cython_SGD.pyx:113:40: Index should be typed for more efficient access\r\n",
      "performance hint: HP3_Similarity_Cython_SGD.pyx:114:40: Index should be typed for more efficient access\r\n",
      "Compiling [7/11]: HP3_Similarity_Cython_SGD.pyx... PASS\r\n",
      "\r\n",
      "Compiling [8/11]: CFW_D_Similarity_Cython_SGD.pyx... \r\n",
      "In file included from \u001b[01m\u001b[K/usr/local/lib/python3.10/dist-packages/numpy/core/include/numpy/ndarraytypes.h:1929\u001b[m\u001b[K,\r\n",
      "                 from \u001b[01m\u001b[K/usr/local/lib/python3.10/dist-packages/numpy/core/include/numpy/ndarrayobject.h:12\u001b[m\u001b[K,\r\n",
      "                 from \u001b[01m\u001b[K/usr/local/lib/python3.10/dist-packages/numpy/core/include/numpy/arrayobject.h:5\u001b[m\u001b[K,\r\n",
      "                 from \u001b[01m\u001b[KCFW_D_Similarity_Cython_SGD.c:1252\u001b[m\u001b[K:\r\n",
      "\u001b[01m\u001b[K/usr/local/lib/python3.10/dist-packages/numpy/core/include/numpy/npy_1_7_deprecated_api.h:17:2:\u001b[m\u001b[K \u001b[01;35m\u001b[Kwarning: \u001b[m\u001b[K#warning \"Using deprecated NumPy API, disable it with \" \"#define NPY_NO_DEPRECATED_API NPY_1_7_API_VERSION\" [\u001b[01;35m\u001b[K\u001b]8;;https://gcc.gnu.org/onlinedocs/gcc/Warning-Options.html#index-Wcpp\u0007-Wcpp\u001b]8;;\u0007\u001b[m\u001b[K]\r\n",
      "   17 | #\u001b[01;35m\u001b[Kwarning\u001b[m\u001b[K \"Using deprecated NumPy API, disable it with \" \\\r\n",
      "      |  \u001b[01;35m\u001b[K^~~~~~~\u001b[m\u001b[K\r\n",
      "\u001b[01m\u001b[KCFW_D_Similarity_Cython_SGD.c:\u001b[m\u001b[K In function ‘\u001b[01m\u001b[K__pyx_pf_27CFW_D_Similarity_Cython_SGD_27CFW_D_Similarity_Cython_SGD_6fit\u001b[m\u001b[K’:\r\n",
      "\u001b[01m\u001b[KCFW_D_Similarity_Cython_SGD.c:23373:55:\u001b[m\u001b[K \u001b[01;35m\u001b[Kwarning: \u001b[m\u001b[K‘\u001b[01m\u001b[K__pyx_v_sample_num\u001b[m\u001b[K’ may be used uninitialized in this function [\u001b[01;35m\u001b[K\u001b]8;;https://gcc.gnu.org/onlinedocs/gcc/Warning-Options.html#index-Wmaybe-uninitialized\u0007-Wmaybe-uninitialized\u001b]8;;\u0007\u001b[m\u001b[K]\r\n",
      "23373 |   __pyx_t_3 = PyFloat_FromDouble((__pyx_v_cum_loss / \u001b[01;35m\u001b[K((double)__pyx_v_sample_num)\u001b[m\u001b[K)); if (unlikely(!__pyx_t_3)) __PYX_ERR(0, 290, __pyx_L1_error)\r\n",
      "      |                                                      \u001b[01;35m\u001b[K~^~~~~~~~~~~~~~~~~~~~~~~~~~~\u001b[m\u001b[K\r\n",
      "/usr/local/lib/python3.10/dist-packages/Cython/Compiler/Main.py:381: FutureWarning: Cython directive 'language_level' not set, using '3str' for now (Py3). This has changed from earlier releases! File: /kaggle/working/RECsys_Challenge2024/Recommenders/FeatureWeighting/Cython/CFW_D_Similarity_Cython_SGD.pyx\r\n",
      "  tree = Parsing.p_module(s, pxd, full_module_name)\r\n",
      "Compiling [8/11]: CFW_D_Similarity_Cython_SGD.pyx... PASS\r\n",
      "\r\n",
      "Compiling [9/11]: FBSM_Rating_Cython_SGD.pyx... \r\n",
      "In file included from \u001b[01m\u001b[K/usr/local/lib/python3.10/dist-packages/numpy/core/include/numpy/ndarraytypes.h:1929\u001b[m\u001b[K,\r\n",
      "                 from \u001b[01m\u001b[K/usr/local/lib/python3.10/dist-packages/numpy/core/include/numpy/ndarrayobject.h:12\u001b[m\u001b[K,\r\n",
      "                 from \u001b[01m\u001b[K/usr/local/lib/python3.10/dist-packages/numpy/core/include/numpy/arrayobject.h:5\u001b[m\u001b[K,\r\n",
      "                 from \u001b[01m\u001b[KFBSM_Rating_Cython_SGD.c:1252\u001b[m\u001b[K:\r\n",
      "\u001b[01m\u001b[K/usr/local/lib/python3.10/dist-packages/numpy/core/include/numpy/npy_1_7_deprecated_api.h:17:2:\u001b[m\u001b[K \u001b[01;35m\u001b[Kwarning: \u001b[m\u001b[K#warning \"Using deprecated NumPy API, disable it with \" \"#define NPY_NO_DEPRECATED_API NPY_1_7_API_VERSION\" [\u001b[01;35m\u001b[K\u001b]8;;https://gcc.gnu.org/onlinedocs/gcc/Warning-Options.html#index-Wcpp\u0007-Wcpp\u001b]8;;\u0007\u001b[m\u001b[K]\r\n",
      "   17 | #\u001b[01;35m\u001b[Kwarning\u001b[m\u001b[K \"Using deprecated NumPy API, disable it with \" \\\r\n",
      "      |  \u001b[01;35m\u001b[K^~~~~~~\u001b[m\u001b[K\r\n",
      "\u001b[01m\u001b[KFBSM_Rating_Cython_SGD.c:\u001b[m\u001b[K In function ‘\u001b[01m\u001b[K__pyx_pf_22FBSM_Rating_Cython_SGD_22FBSM_Rating_Cython_SGD_2fit\u001b[m\u001b[K’:\r\n",
      "\u001b[01m\u001b[KFBSM_Rating_Cython_SGD.c:26607:55:\u001b[m\u001b[K \u001b[01;35m\u001b[Kwarning: \u001b[m\u001b[K‘\u001b[01m\u001b[K__pyx_v_num_sample\u001b[m\u001b[K’ may be used uninitialized in this function [\u001b[01;35m\u001b[K\u001b]8;;https://gcc.gnu.org/onlinedocs/gcc/Warning-Options.html#index-Wmaybe-uninitialized\u0007-Wmaybe-uninitialized\u001b]8;;\u0007\u001b[m\u001b[K]\r\n",
      "26607 |   __pyx_t_5 = PyFloat_FromDouble((__pyx_v_cum_loss / \u001b[01;35m\u001b[K((double)__pyx_v_num_sample)\u001b[m\u001b[K)); if (unlikely(!__pyx_t_5)) __PYX_ERR(0, 551, __pyx_L1_error)\r\n",
      "      |                                                      \u001b[01;35m\u001b[K~^~~~~~~~~~~~~~~~~~~~~~~~~~~\u001b[m\u001b[K\r\n",
      "/usr/local/lib/python3.10/dist-packages/Cython/Compiler/Main.py:381: FutureWarning: Cython directive 'language_level' not set, using '3str' for now (Py3). This has changed from earlier releases! File: /kaggle/working/RECsys_Challenge2024/Recommenders/FeatureWeighting/Cython/FBSM_Rating_Cython_SGD.pyx\r\n",
      "  tree = Parsing.p_module(s, pxd, full_module_name)\r\n",
      "Compiling [9/11]: FBSM_Rating_Cython_SGD.pyx... PASS\r\n",
      "\r\n",
      "Compiling [10/11]: CFW_DVV_Similarity_Cython_SGD.pyx... \r\n",
      "In file included from \u001b[01m\u001b[K/usr/local/lib/python3.10/dist-packages/numpy/core/include/numpy/ndarraytypes.h:1929\u001b[m\u001b[K,\r\n",
      "                 from \u001b[01m\u001b[K/usr/local/lib/python3.10/dist-packages/numpy/core/include/numpy/ndarrayobject.h:12\u001b[m\u001b[K,\r\n",
      "                 from \u001b[01m\u001b[K/usr/local/lib/python3.10/dist-packages/numpy/core/include/numpy/arrayobject.h:5\u001b[m\u001b[K,\r\n",
      "                 from \u001b[01m\u001b[KCFW_DVV_Similarity_Cython_SGD.c:1252\u001b[m\u001b[K:\r\n",
      "\u001b[01m\u001b[K/usr/local/lib/python3.10/dist-packages/numpy/core/include/numpy/npy_1_7_deprecated_api.h:17:2:\u001b[m\u001b[K \u001b[01;35m\u001b[Kwarning: \u001b[m\u001b[K#warning \"Using deprecated NumPy API, disable it with \" \"#define NPY_NO_DEPRECATED_API NPY_1_7_API_VERSION\" [\u001b[01;35m\u001b[K\u001b]8;;https://gcc.gnu.org/onlinedocs/gcc/Warning-Options.html#index-Wcpp\u0007-Wcpp\u001b]8;;\u0007\u001b[m\u001b[K]\r\n",
      "   17 | #\u001b[01;35m\u001b[Kwarning\u001b[m\u001b[K \"Using deprecated NumPy API, disable it with \" \\\r\n",
      "      |  \u001b[01;35m\u001b[K^~~~~~~\u001b[m\u001b[K\r\n",
      "/usr/local/lib/python3.10/dist-packages/Cython/Compiler/Main.py:381: FutureWarning: Cython directive 'language_level' not set, using '3str' for now (Py3). This has changed from earlier releases! File: /kaggle/working/RECsys_Challenge2024/Recommenders/FeatureWeighting/Cython/CFW_DVV_Similarity_Cython_SGD.pyx\r\n",
      "  tree = Parsing.p_module(s, pxd, full_module_name)\r\n",
      "Compiling [10/11]: CFW_DVV_Similarity_Cython_SGD.pyx... PASS\r\n",
      "\r\n",
      "Compiling [11/11]: DataIterator.pyx... \r\n",
      "In file included from \u001b[01m\u001b[K/usr/local/lib/python3.10/dist-packages/numpy/core/include/numpy/ndarraytypes.h:1929\u001b[m\u001b[K,\r\n",
      "                 from \u001b[01m\u001b[K/usr/local/lib/python3.10/dist-packages/numpy/core/include/numpy/ndarrayobject.h:12\u001b[m\u001b[K,\r\n",
      "                 from \u001b[01m\u001b[K/usr/local/lib/python3.10/dist-packages/numpy/core/include/numpy/arrayobject.h:5\u001b[m\u001b[K,\r\n",
      "                 from \u001b[01m\u001b[KDataIterator.c:1252\u001b[m\u001b[K:\r\n",
      "\u001b[01m\u001b[K/usr/local/lib/python3.10/dist-packages/numpy/core/include/numpy/npy_1_7_deprecated_api.h:17:2:\u001b[m\u001b[K \u001b[01;35m\u001b[Kwarning: \u001b[m\u001b[K#warning \"Using deprecated NumPy API, disable it with \" \"#define NPY_NO_DEPRECATED_API NPY_1_7_API_VERSION\" [\u001b[01;35m\u001b[K\u001b]8;;https://gcc.gnu.org/onlinedocs/gcc/Warning-Options.html#index-Wcpp\u0007-Wcpp\u001b]8;;\u0007\u001b[m\u001b[K]\r\n",
      "   17 | #\u001b[01;35m\u001b[Kwarning\u001b[m\u001b[K \"Using deprecated NumPy API, disable it with \" \\\r\n",
      "      |  \u001b[01;35m\u001b[K^~~~~~~\u001b[m\u001b[K\r\n",
      "\u001b[01m\u001b[KDataIterator.c:\u001b[m\u001b[K In function ‘\u001b[01m\u001b[K__pyx_pf_12DataIterator_19InteractionIterator_6__next__\u001b[m\u001b[K’:\r\n",
      "\u001b[01m\u001b[KDataIterator.c:20937:22:\u001b[m\u001b[K \u001b[01;35m\u001b[Kwarning: \u001b[m\u001b[K‘\u001b[01m\u001b[K__pyx_v_i_batch\u001b[m\u001b[K’ may be used uninitialized in this function [\u001b[01;35m\u001b[K\u001b]8;;https://gcc.gnu.org/onlinedocs/gcc/Warning-Options.html#index-Wmaybe-uninitialized\u0007-Wmaybe-uninitialized\u001b]8;;\u0007\u001b[m\u001b[K]\r\n",
      "20937 |     (__pyx_v_i_batch \u001b[01;35m\u001b[K+\u001b[m\u001b[K 1),\r\n",
      "      |                      \u001b[01;35m\u001b[K^\u001b[m\u001b[K\r\n",
      "\u001b[01m\u001b[KDataIterator.c:\u001b[m\u001b[K In function ‘\u001b[01m\u001b[K__pyx_pf_12DataIterator_30InteractionAndNegativeIterator_6__next__\u001b[m\u001b[K’:\r\n",
      "\u001b[01m\u001b[KDataIterator.c:25499:22:\u001b[m\u001b[K \u001b[01;35m\u001b[Kwarning: \u001b[m\u001b[K‘\u001b[01m\u001b[K__pyx_v_i_batch\u001b[m\u001b[K’ may be used uninitialized in this function [\u001b[01;35m\u001b[K\u001b]8;;https://gcc.gnu.org/onlinedocs/gcc/Warning-Options.html#index-Wmaybe-uninitialized\u0007-Wmaybe-uninitialized\u001b]8;;\u0007\u001b[m\u001b[K]\r\n",
      "25499 |     (__pyx_v_i_batch \u001b[01;35m\u001b[K+\u001b[m\u001b[K 1),\r\n",
      "      |                      \u001b[01;35m\u001b[K^\u001b[m\u001b[K\r\n",
      "\u001b[01m\u001b[KDataIterator.c:\u001b[m\u001b[K In function ‘\u001b[01m\u001b[K__pyx_pf_12DataIterator_11BPRIterator_6__next__\u001b[m\u001b[K’:\r\n",
      "\u001b[01m\u001b[KDataIterator.c:23056:22:\u001b[m\u001b[K \u001b[01;35m\u001b[Kwarning: \u001b[m\u001b[K‘\u001b[01m\u001b[K__pyx_v_i_batch\u001b[m\u001b[K’ may be used uninitialized in this function [\u001b[01;35m\u001b[K\u001b]8;;https://gcc.gnu.org/onlinedocs/gcc/Warning-Options.html#index-Wmaybe-uninitialized\u0007-Wmaybe-uninitialized\u001b]8;;\u0007\u001b[m\u001b[K]\r\n",
      "23056 |     (__pyx_v_i_batch \u001b[01;35m\u001b[K+\u001b[m\u001b[K 1),\r\n",
      "      |                      \u001b[01;35m\u001b[K^\u001b[m\u001b[K\r\n",
      "/usr/local/lib/python3.10/dist-packages/Cython/Compiler/Main.py:381: FutureWarning: Cython directive 'language_level' not set, using '3str' for now (Py3). This has changed from earlier releases! File: /kaggle/working/RECsys_Challenge2024/Utils/PyTorch/Cython/DataIterator.pyx\r\n",
      "  tree = Parsing.p_module(s, pxd, full_module_name)\r\n",
      "Compiling [11/11]: DataIterator.pyx... PASS\r\n",
      "\r\n",
      "run_compile_all_cython: Compilation finished. FAILS 2/11.\r\n",
      "Compilation log can be found here: './result_experiments/run_compile_all_cython.txt'\r\n"
     ]
    }
   ],
   "source": [
    "%cd /kaggle/working/RECsys_Challenge2024 \n",
    "! python run_compile_all_cython.py"
   ]
  },
  {
   "cell_type": "code",
   "execution_count": 5,
   "id": "892def09",
   "metadata": {
    "execution": {
     "iopub.execute_input": "2024-12-24T09:28:11.488672Z",
     "iopub.status.busy": "2024-12-24T09:28:11.488214Z",
     "iopub.status.idle": "2024-12-24T09:28:13.122225Z",
     "shell.execute_reply": "2024-12-24T09:28:13.121109Z"
    },
    "papermill": {
     "duration": 1.652672,
     "end_time": "2024-12-24T09:28:13.124407",
     "exception": false,
     "start_time": "2024-12-24T09:28:11.471735",
     "status": "completed"
    },
    "tags": []
   },
   "outputs": [],
   "source": [
    "from Utils.notebookFunctions import *\n",
    "import numpy as np\n",
    "import pandas as pd\n",
    "import scipy.sparse as sps\n",
    "import time\n",
    "import shutil\n",
    "import optuna\n",
    "import json\n",
    "import os\n",
    "from Utils.seconds_to_biggest_unit import seconds_to_biggest_unit\n",
    "\n",
    "\n",
    "K_PATH = '/kaggle/working/RECsys_Challenge2024'\n",
    "GH_PATH = 'TrainedModels/WithoutKFCV/GraphBased'\n",
    "\n",
    "np.random.seed(42)"
   ]
  },
  {
   "cell_type": "markdown",
   "id": "4a6aed91",
   "metadata": {
    "papermill": {
     "duration": 0.013279,
     "end_time": "2024-12-24T09:28:13.152187",
     "exception": false,
     "start_time": "2024-12-24T09:28:13.138908",
     "status": "completed"
    },
    "tags": []
   },
   "source": [
    "## Import the repository"
   ]
  },
  {
   "cell_type": "code",
   "execution_count": 6,
   "id": "60baeba3",
   "metadata": {
    "execution": {
     "iopub.execute_input": "2024-12-24T09:28:13.181450Z",
     "iopub.status.busy": "2024-12-24T09:28:13.180893Z",
     "iopub.status.idle": "2024-12-24T09:28:13.615026Z",
     "shell.execute_reply": "2024-12-24T09:28:13.613969Z"
    },
    "papermill": {
     "duration": 0.451188,
     "end_time": "2024-12-24T09:28:13.616966",
     "exception": false,
     "start_time": "2024-12-24T09:28:13.165778",
     "status": "completed"
    },
    "tags": []
   },
   "outputs": [
    {
     "name": "stdout",
     "output_type": "stream",
     "text": [
      "Repository 'RECsys_Challenge2024' found.\n"
     ]
    }
   ],
   "source": [
    "repo = get_repo_from_github(token)"
   ]
  },
  {
   "cell_type": "code",
   "execution_count": 7,
   "id": "4ff0cc77",
   "metadata": {
    "execution": {
     "iopub.execute_input": "2024-12-24T09:28:13.646516Z",
     "iopub.status.busy": "2024-12-24T09:28:13.646155Z",
     "iopub.status.idle": "2024-12-24T09:28:13.650634Z",
     "shell.execute_reply": "2024-12-24T09:28:13.649444Z"
    },
    "papermill": {
     "duration": 0.020871,
     "end_time": "2024-12-24T09:28:13.652261",
     "exception": false,
     "start_time": "2024-12-24T09:28:13.631390",
     "status": "completed"
    },
    "tags": []
   },
   "outputs": [],
   "source": [
    "config = {\n",
    "    'model': 'RP3betaICM',\n",
    "    'metric': 'MAP',\n",
    "    'tune_parameters': True,\n",
    "    'database_path': '/kaggle/working/history_RP3betaICM_MAP.db',\n",
    "    'copy_prev_best_params': False,\n",
    "    'tune_best_params': True,\n",
    "    'save_github': True\n",
    "}"
   ]
  },
  {
   "cell_type": "markdown",
   "id": "449f197b",
   "metadata": {
    "papermill": {
     "duration": 0.014286,
     "end_time": "2024-12-24T09:28:13.680883",
     "exception": false,
     "start_time": "2024-12-24T09:28:13.666597",
     "status": "completed"
    },
    "tags": []
   },
   "source": [
    "Import the database where previous tuning trials have been saved."
   ]
  },
  {
   "cell_type": "code",
   "execution_count": 8,
   "id": "d33bcc30",
   "metadata": {
    "execution": {
     "iopub.execute_input": "2024-12-24T09:28:13.715949Z",
     "iopub.status.busy": "2024-12-24T09:28:13.715573Z",
     "iopub.status.idle": "2024-12-24T09:28:13.726583Z",
     "shell.execute_reply": "2024-12-24T09:28:13.723185Z"
    },
    "papermill": {
     "duration": 0.033356,
     "end_time": "2024-12-24T09:28:13.729220",
     "exception": false,
     "start_time": "2024-12-24T09:28:13.695864",
     "status": "completed"
    },
    "tags": []
   },
   "outputs": [],
   "source": [
    "try:\n",
    "    shutil.copyfile(\n",
    "        f'{K_PATH}/{GH_PATH}/{config[\"model\"]}Recommender/Optimizing{config[\"metric\"]}/history_{config[\"model\"]}_{config[\"metric\"]}.db', \n",
    "        config['database_path']\n",
    "    )\n",
    "except FileNotFoundError:\n",
    "    pass # if not present optuna will create it"
   ]
  },
  {
   "cell_type": "markdown",
   "id": "d2dac05d",
   "metadata": {
    "papermill": {
     "duration": 0.014121,
     "end_time": "2024-12-24T09:28:13.758087",
     "exception": false,
     "start_time": "2024-12-24T09:28:13.743966",
     "status": "completed"
    },
    "tags": []
   },
   "source": [
    "# Construction of URM and ICM matrices"
   ]
  },
  {
   "cell_type": "code",
   "execution_count": 9,
   "id": "777ec4ac",
   "metadata": {
    "execution": {
     "iopub.execute_input": "2024-12-24T09:28:13.789576Z",
     "iopub.status.busy": "2024-12-24T09:28:13.789134Z",
     "iopub.status.idle": "2024-12-24T09:28:14.738254Z",
     "shell.execute_reply": "2024-12-24T09:28:14.736892Z"
    },
    "papermill": {
     "duration": 0.967226,
     "end_time": "2024-12-24T09:28:14.740506",
     "exception": false,
     "start_time": "2024-12-24T09:28:13.773280",
     "status": "completed"
    },
    "tags": []
   },
   "outputs": [
    {
     "data": {
      "text/plain": [
       "<35736x38121 sparse matrix of type '<class 'numpy.float64'>'\n",
       "\twith 1764607 stored elements in Compressed Sparse Row format>"
      ]
     },
     "execution_count": 9,
     "metadata": {},
     "output_type": "execute_result"
    }
   ],
   "source": [
    "URM_all_dataframe = pd.read_csv(\"/kaggle/input/recommender-system-2024-challenge-polimi/data_train.csv\")\n",
    "\n",
    "n_users = len(URM_all_dataframe[\"user_id\"].unique())\n",
    "n_items = len(URM_all_dataframe[\"item_id\"].unique())\n",
    "\n",
    "URM_all = sps.csr_matrix((URM_all_dataframe[\"data\"].values, \n",
    "                          (URM_all_dataframe[\"user_id\"].values, URM_all_dataframe[\"item_id\"].values)),\n",
    "                        shape = (n_users, n_items))\n",
    "\n",
    "URM_all"
   ]
  },
  {
   "cell_type": "code",
   "execution_count": 10,
   "id": "6d3cd6eb",
   "metadata": {
    "execution": {
     "iopub.execute_input": "2024-12-24T09:28:14.772122Z",
     "iopub.status.busy": "2024-12-24T09:28:14.771594Z",
     "iopub.status.idle": "2024-12-24T09:28:16.152718Z",
     "shell.execute_reply": "2024-12-24T09:28:16.151418Z"
    },
    "papermill": {
     "duration": 1.39912,
     "end_time": "2024-12-24T09:28:16.154788",
     "exception": false,
     "start_time": "2024-12-24T09:28:14.755668",
     "status": "completed"
    },
    "tags": []
   },
   "outputs": [
    {
     "data": {
      "text/plain": [
       "<38121x94331 sparse matrix of type '<class 'numpy.float64'>'\n",
       "\twith 2940040 stored elements in Compressed Sparse Row format>"
      ]
     },
     "execution_count": 10,
     "metadata": {},
     "output_type": "execute_result"
    }
   ],
   "source": [
    "ICM_dataframe = pd.read_csv(\"/kaggle/input/recommender-system-2024-challenge-polimi/data_ICM_metadata.csv\")\n",
    "\n",
    "n_items = len(ICM_dataframe[\"item_id\"].unique())\n",
    "n_features = len(ICM_dataframe[\"feature_id\"].unique())\n",
    "\n",
    "ICM_all = sps.csr_matrix((ICM_dataframe[\"data\"].values, \n",
    "                          (ICM_dataframe[\"item_id\"].values, ICM_dataframe[\"feature_id\"].values)),\n",
    "                        shape = (n_items, n_features))\n",
    "\n",
    "ICM_all"
   ]
  },
  {
   "cell_type": "markdown",
   "id": "70d05447",
   "metadata": {
    "papermill": {
     "duration": 0.016138,
     "end_time": "2024-12-24T09:28:16.186054",
     "exception": false,
     "start_time": "2024-12-24T09:28:16.169916",
     "status": "completed"
    },
    "tags": []
   },
   "source": [
    "# Training"
   ]
  },
  {
   "cell_type": "code",
   "execution_count": 11,
   "id": "345321a8",
   "metadata": {
    "execution": {
     "iopub.execute_input": "2024-12-24T09:28:16.214945Z",
     "iopub.status.busy": "2024-12-24T09:28:16.214550Z",
     "iopub.status.idle": "2024-12-24T09:28:19.459391Z",
     "shell.execute_reply": "2024-12-24T09:28:19.457568Z"
    },
    "papermill": {
     "duration": 3.262325,
     "end_time": "2024-12-24T09:28:19.462123",
     "exception": false,
     "start_time": "2024-12-24T09:28:16.199798",
     "status": "completed"
    },
    "tags": []
   },
   "outputs": [
    {
     "name": "stdout",
     "output_type": "stream",
     "text": [
      "Warning: 141 (0.39 %) of 35736 users have no sampled items\n",
      "EvaluatorHoldout: Ignoring 141 ( 0.4%) Users that have less than 1 test interactions\n"
     ]
    }
   ],
   "source": [
    "from Evaluation.Evaluator import EvaluatorHoldout\n",
    "from Data_manager.split_functions.split_train_validation_random_holdout import split_train_in_two_percentage_global_sample\n",
    "\n",
    "URM_train, URM_validation = split_train_in_two_percentage_global_sample(URM_all, train_percentage = 0.80)\n",
    "\n",
    "evaluator_validation = EvaluatorHoldout(URM_validation, cutoff_list=[10])"
   ]
  },
  {
   "cell_type": "code",
   "execution_count": 12,
   "id": "e9dcb4a0",
   "metadata": {
    "execution": {
     "iopub.execute_input": "2024-12-24T09:28:19.492357Z",
     "iopub.status.busy": "2024-12-24T09:28:19.491867Z",
     "iopub.status.idle": "2024-12-24T09:28:20.840519Z",
     "shell.execute_reply": "2024-12-24T09:28:20.839347Z"
    },
    "papermill": {
     "duration": 1.366809,
     "end_time": "2024-12-24T09:28:20.842970",
     "exception": false,
     "start_time": "2024-12-24T09:28:19.476161",
     "status": "completed"
    },
    "tags": []
   },
   "outputs": [],
   "source": [
    "from Recommenders.GraphBased.RP3betaRecommender import RP3betaRecommender\n",
    "from Recommenders.KNN.ItemKNNCustomSimilarityRecommender import ItemKNNCustomSimilarityRecommender\n",
    "\n",
    "def objective_function_RP3beta(optuna_trial):\n",
    "    \n",
    "    rp3beta_icm_recommender = RP3betaRecommender(ICM_all.T)\n",
    "    \n",
    "    full_hyperp = {\n",
    "                    \"topK\": optuna_trial.suggest_int(\"topK\", 0, 1500),\n",
    "                   \"alpha\": optuna_trial.suggest_float(\"alpha\", 0, 3, log=False),\n",
    "                   \"beta\": optuna_trial.suggest_float(\"beta\", 0, 3, log=False),\n",
    "                   \"normalize_similarity\": optuna_trial.suggest_categorical(\"normalize_similarity\", [True, False]),\n",
    "                   \"implicit\": optuna_trial.suggest_categorical(\"implicit\", [True, False]),\n",
    "                  }        \n",
    "    \n",
    "    rp3beta_icm_recommender.fit(**full_hyperp)\n",
    "    \n",
    "    recommender_instance = ItemKNNCustomSimilarityRecommender(URM_train)\n",
    "    recommender_instance.fit(rp3beta_icm_recommender.W_sparse)\n",
    "    \n",
    "    result_df, _ = evaluator_validation.evaluateRecommender(recommender_instance)\n",
    "    \n",
    "    return result_df.loc[10][\"MAP\"]"
   ]
  },
  {
   "cell_type": "code",
   "execution_count": 13,
   "id": "a98d305d",
   "metadata": {
    "_kg_hide-output": true,
    "execution": {
     "iopub.execute_input": "2024-12-24T09:28:20.876352Z",
     "iopub.status.busy": "2024-12-24T09:28:20.875592Z",
     "iopub.status.idle": "2024-12-24T14:39:52.948153Z",
     "shell.execute_reply": "2024-12-24T14:39:52.946825Z"
    },
    "papermill": {
     "duration": 18692.092405,
     "end_time": "2024-12-24T14:39:52.951099",
     "exception": false,
     "start_time": "2024-12-24T09:28:20.858694",
     "status": "completed"
    },
    "tags": []
   },
   "outputs": [
    {
     "name": "stderr",
     "output_type": "stream",
     "text": [
      "[I 2024-12-24 09:28:21,968] Using an existing study with name 'hyperparameters_tuning_RP3betaICM_MAP' instead of creating a new one.\n"
     ]
    },
    {
     "name": "stdout",
     "output_type": "stream",
     "text": [
      "RP3betaRecommender: Similarity column 38121 (100.0%), 318.21 column/sec. Elapsed time 2.00 min\n",
      "EvaluatorHoldout: Processed 35595 (100.0%) in 50.53 sec. Users per second: 704\n"
     ]
    },
    {
     "name": "stderr",
     "output_type": "stream",
     "text": [
      "[I 2024-12-24 09:31:45,874] Trial 200 finished with value: 0.006494008878543251 and parameters: {'topK': 1253, 'alpha': 0.7353318308841013, 'beta': 1.2688758586217257, 'normalize_similarity': True, 'implicit': False}. Best is trial 94 with value: 0.023107177974434116.\n"
     ]
    },
    {
     "name": "stdout",
     "output_type": "stream",
     "text": [
      "RP3betaRecommender: Similarity column 38121 (100.0%), 706.86 column/sec. Elapsed time 53.93 sec\n",
      "EvaluatorHoldout: Processed 35595 (100.0%) in 34.88 sec. Users per second: 1021\n"
     ]
    },
    {
     "name": "stderr",
     "output_type": "stream",
     "text": [
      "[I 2024-12-24 09:33:17,155] Trial 201 finished with value: 0.02077057929038535 and parameters: {'topK': 36, 'alpha': 0.5564877850397256, 'beta': 0.32651049103587776, 'normalize_similarity': True, 'implicit': False}. Best is trial 94 with value: 0.023107177974434116.\n"
     ]
    },
    {
     "name": "stdout",
     "output_type": "stream",
     "text": [
      "RP3betaRecommender: Similarity column 38121 (100.0%), 720.14 column/sec. Elapsed time 52.94 sec\n",
      "EvaluatorHoldout: Processed 35595 (100.0%) in 33.86 sec. Users per second: 1051\n"
     ]
    },
    {
     "name": "stderr",
     "output_type": "stream",
     "text": [
      "[I 2024-12-24 09:34:46,166] Trial 202 finished with value: 0.020264990624240406 and parameters: {'topK': 27, 'alpha': 0.6455463759888026, 'beta': 0.34401128529020214, 'normalize_similarity': True, 'implicit': False}. Best is trial 94 with value: 0.023107177974434116.\n"
     ]
    },
    {
     "name": "stdout",
     "output_type": "stream",
     "text": [
      "RP3betaRecommender: Similarity column 38121 (100.0%), 694.60 column/sec. Elapsed time 54.88 sec\n",
      "EvaluatorHoldout: Processed 35595 (100.0%) in 35.89 sec. Users per second: 992\n"
     ]
    },
    {
     "name": "stderr",
     "output_type": "stream",
     "text": [
      "[I 2024-12-24 09:36:20,623] Trial 203 finished with value: 0.02006104611625037 and parameters: {'topK': 73, 'alpha': 0.5528988275498229, 'beta': 0.3313557292537808, 'normalize_similarity': True, 'implicit': False}. Best is trial 94 with value: 0.023107177974434116.\n"
     ]
    },
    {
     "name": "stdout",
     "output_type": "stream",
     "text": [
      "RP3betaRecommender: Similarity column 38121 (100.0%), 1033.14 column/sec. Elapsed time 36.90 sec\n",
      "EvaluatorHoldout: Processed 35595 (100.0%) in 25.58 sec. Users per second: 1391\n"
     ]
    },
    {
     "name": "stderr",
     "output_type": "stream",
     "text": [
      "[I 2024-12-24 09:37:23,741] Trial 204 finished with value: 0.00028209999175022335 and parameters: {'topK': 0, 'alpha': 0.5181730340530316, 'beta': 0.41642219892691057, 'normalize_similarity': True, 'implicit': False}. Best is trial 94 with value: 0.023107177974434116.\n"
     ]
    },
    {
     "name": "stdout",
     "output_type": "stream",
     "text": [
      "RP3betaRecommender: Similarity column 38121 (100.0%), 713.48 column/sec. Elapsed time 53.43 sec\n",
      "EvaluatorHoldout: Processed 35595 (100.0%) in 33.87 sec. Users per second: 1051\n"
     ]
    },
    {
     "name": "stderr",
     "output_type": "stream",
     "text": [
      "[I 2024-12-24 09:38:53,281] Trial 205 finished with value: 0.017896360510772643 and parameters: {'topK': 29, 'alpha': 0.8278205714704905, 'beta': 0.2547289136583049, 'normalize_similarity': True, 'implicit': False}. Best is trial 94 with value: 0.023107177974434116.\n"
     ]
    },
    {
     "name": "stdout",
     "output_type": "stream",
     "text": [
      "RP3betaRecommender: Similarity column 38121 (100.0%), 710.61 column/sec. Elapsed time 53.65 sec\n",
      "EvaluatorHoldout: Processed 35595 (100.0%) in 36.75 sec. Users per second: 968\n"
     ]
    },
    {
     "name": "stderr",
     "output_type": "stream",
     "text": [
      "[I 2024-12-24 09:40:26,814] Trial 206 finished with value: 0.0201839811637535 and parameters: {'topK': 54, 'alpha': 0.5862118733322113, 'beta': 0.3939408583290947, 'normalize_similarity': True, 'implicit': False}. Best is trial 94 with value: 0.023107177974434116.\n"
     ]
    },
    {
     "name": "stdout",
     "output_type": "stream",
     "text": [
      "RP3betaRecommender: Similarity column 38121 (100.0%), 676.71 column/sec. Elapsed time 56.33 sec\n",
      "EvaluatorHoldout: Processed 35595 (100.0%) in 36.04 sec. Users per second: 988\n"
     ]
    },
    {
     "name": "stderr",
     "output_type": "stream",
     "text": [
      "[I 2024-12-24 09:42:03,095] Trial 207 finished with value: 0.019162707888792957 and parameters: {'topK': 102, 'alpha': 0.5008920156634, 'beta': 0.1955614685116881, 'normalize_similarity': True, 'implicit': False}. Best is trial 94 with value: 0.023107177974434116.\n"
     ]
    },
    {
     "name": "stdout",
     "output_type": "stream",
     "text": [
      "RP3betaRecommender: Similarity column 38121 (100.0%), 709.36 column/sec. Elapsed time 53.74 sec\n",
      "EvaluatorHoldout: Processed 35595 (100.0%) in 34.59 sec. Users per second: 1029\n"
     ]
    },
    {
     "name": "stderr",
     "output_type": "stream",
     "text": [
      "[I 2024-12-24 09:43:33,494] Trial 208 finished with value: 0.0218630102319523 and parameters: {'topK': 28, 'alpha': 0.4443563591808537, 'beta': 0.30211940029837225, 'normalize_similarity': True, 'implicit': False}. Best is trial 94 with value: 0.023107177974434116.\n"
     ]
    },
    {
     "name": "stdout",
     "output_type": "stream",
     "text": [
      "RP3betaRecommender: Similarity column 38121 (100.0%), 683.49 column/sec. Elapsed time 55.77 sec\n",
      "EvaluatorHoldout: Processed 35595 (100.0%) in 36.59 sec. Users per second: 973\n"
     ]
    },
    {
     "name": "stderr",
     "output_type": "stream",
     "text": [
      "[I 2024-12-24 09:45:09,506] Trial 209 finished with value: 0.019464299649718818 and parameters: {'topK': 63, 'alpha': 0.638851568487194, 'beta': 0.2967604983454856, 'normalize_similarity': True, 'implicit': False}. Best is trial 94 with value: 0.023107177974434116.\n"
     ]
    },
    {
     "name": "stdout",
     "output_type": "stream",
     "text": [
      "RP3betaRecommender: Similarity column 38121 (100.0%), 632.45 column/sec. Elapsed time 1.00 min\n",
      "EvaluatorHoldout: Processed 35595 (100.0%) in 37.59 sec. Users per second: 947\n"
     ]
    },
    {
     "name": "stderr",
     "output_type": "stream",
     "text": [
      "[I 2024-12-24 09:46:52,219] Trial 210 finished with value: 0.019427949350831714 and parameters: {'topK': 127, 'alpha': 0.43682717470468513, 'beta': 0.25442308865502367, 'normalize_similarity': True, 'implicit': False}. Best is trial 94 with value: 0.023107177974434116.\n"
     ]
    },
    {
     "name": "stdout",
     "output_type": "stream",
     "text": [
      "RP3betaRecommender: Similarity column 38121 (100.0%), 712.17 column/sec. Elapsed time 53.53 sec\n",
      "EvaluatorHoldout: Processed 35595 (100.0%) in 35.60 sec. Users per second: 1000\n"
     ]
    },
    {
     "name": "stderr",
     "output_type": "stream",
     "text": [
      "[I 2024-12-24 09:48:23,717] Trial 211 finished with value: 0.021209879887713615 and parameters: {'topK': 29, 'alpha': 0.5475730005076106, 'beta': 0.3583125681782948, 'normalize_similarity': True, 'implicit': False}. Best is trial 94 with value: 0.023107177974434116.\n"
     ]
    },
    {
     "name": "stdout",
     "output_type": "stream",
     "text": [
      "RP3betaRecommender: Similarity column 38121 (100.0%), 708.46 column/sec. Elapsed time 53.81 sec\n",
      "EvaluatorHoldout: Processed 35595 (100.0%) in 35.32 sec. Users per second: 1008\n"
     ]
    },
    {
     "name": "stderr",
     "output_type": "stream",
     "text": [
      "[I 2024-12-24 09:49:55,066] Trial 212 finished with value: 0.021239710633515756 and parameters: {'topK': 30, 'alpha': 0.5414063202041719, 'beta': 0.352292953274586, 'normalize_similarity': True, 'implicit': False}. Best is trial 94 with value: 0.023107177974434116.\n"
     ]
    },
    {
     "name": "stdout",
     "output_type": "stream",
     "text": [
      "RP3betaRecommender: Similarity column 38121 (100.0%), 703.54 column/sec. Elapsed time 54.18 sec\n",
      "EvaluatorHoldout: Processed 35595 (100.0%) in 35.36 sec. Users per second: 1007\n"
     ]
    },
    {
     "name": "stderr",
     "output_type": "stream",
     "text": [
      "[I 2024-12-24 09:51:27,739] Trial 213 finished with value: 0.020502086970481236 and parameters: {'topK': 55, 'alpha': 0.5414782345639719, 'beta': 0.34034459959496344, 'normalize_similarity': True, 'implicit': False}. Best is trial 94 with value: 0.023107177974434116.\n"
     ]
    },
    {
     "name": "stdout",
     "output_type": "stream",
     "text": [
      "RP3betaRecommender: Similarity column 38121 (100.0%), 711.34 column/sec. Elapsed time 53.59 sec\n",
      "EvaluatorHoldout: Processed 35595 (100.0%) in 34.15 sec. Users per second: 1042\n"
     ]
    },
    {
     "name": "stderr",
     "output_type": "stream",
     "text": [
      "[I 2024-12-24 09:52:57,699] Trial 214 finished with value: 0.02156971284088837 and parameters: {'topK': 29, 'alpha': 0.4777025509386667, 'beta': 0.3925110853886147, 'normalize_similarity': True, 'implicit': False}. Best is trial 94 with value: 0.023107177974434116.\n"
     ]
    },
    {
     "name": "stdout",
     "output_type": "stream",
     "text": [
      "RP3betaRecommender: Similarity column 38121 (100.0%), 678.64 column/sec. Elapsed time 56.17 sec\n",
      "EvaluatorHoldout: Processed 35595 (100.0%) in 38.30 sec. Users per second: 929\n"
     ]
    },
    {
     "name": "stderr",
     "output_type": "stream",
     "text": [
      "[I 2024-12-24 09:54:36,322] Trial 215 finished with value: 0.020397594632739824 and parameters: {'topK': 90, 'alpha': 0.39419303739073747, 'beta': 0.3883270407202496, 'normalize_similarity': True, 'implicit': False}. Best is trial 94 with value: 0.023107177974434116.\n"
     ]
    },
    {
     "name": "stdout",
     "output_type": "stream",
     "text": [
      "RP3betaRecommender: Similarity column 38121 (100.0%), 694.20 column/sec. Elapsed time 54.91 sec\n",
      "EvaluatorHoldout: Processed 35595 (100.0%) in 35.62 sec. Users per second: 999\n"
     ]
    },
    {
     "name": "stderr",
     "output_type": "stream",
     "text": [
      "[I 2024-12-24 09:56:10,173] Trial 216 finished with value: 0.020365918835577312 and parameters: {'topK': 54, 'alpha': 0.4510001621937566, 'beta': 0.506902577976053, 'normalize_similarity': True, 'implicit': False}. Best is trial 94 with value: 0.023107177974434116.\n"
     ]
    },
    {
     "name": "stdout",
     "output_type": "stream",
     "text": [
      "RP3betaRecommender: Similarity column 38121 (100.0%), 711.47 column/sec. Elapsed time 53.58 sec\n",
      "EvaluatorHoldout: Processed 35595 (100.0%) in 34.19 sec. Users per second: 1041\n"
     ]
    },
    {
     "name": "stderr",
     "output_type": "stream",
     "text": [
      "[I 2024-12-24 09:57:40,230] Trial 217 finished with value: 0.02112834534010242 and parameters: {'topK': 29, 'alpha': 0.545541819255478, 'beta': 0.3487518972744558, 'normalize_similarity': True, 'implicit': False}. Best is trial 94 with value: 0.023107177974434116.\n"
     ]
    },
    {
     "name": "stdout",
     "output_type": "stream",
     "text": [
      "RP3betaRecommender: Similarity column 38121 (100.0%), 685.81 column/sec. Elapsed time 55.59 sec\n",
      "EvaluatorHoldout: Processed 35595 (100.0%) in 36.18 sec. Users per second: 984\n"
     ]
    },
    {
     "name": "stderr",
     "output_type": "stream",
     "text": [
      "[I 2024-12-24 09:59:15,751] Trial 218 finished with value: 0.020554233361649923 and parameters: {'topK': 77, 'alpha': 0.38970103952587176, 'beta': 0.3846638860767366, 'normalize_similarity': True, 'implicit': False}. Best is trial 94 with value: 0.023107177974434116.\n"
     ]
    },
    {
     "name": "stdout",
     "output_type": "stream",
     "text": [
      "RP3betaRecommender: Similarity column 38121 (100.0%), 719.67 column/sec. Elapsed time 52.97 sec\n",
      "EvaluatorHoldout: Processed 35595 (100.0%) in 33.85 sec. Users per second: 1052\n"
     ]
    },
    {
     "name": "stderr",
     "output_type": "stream",
     "text": [
      "[I 2024-12-24 10:00:44,804] Trial 219 finished with value: 0.021410708432832014 and parameters: {'topK': 27, 'alpha': 0.4996780961052891, 'beta': 0.4289485686877299, 'normalize_similarity': True, 'implicit': False}. Best is trial 94 with value: 0.023107177974434116.\n"
     ]
    },
    {
     "name": "stdout",
     "output_type": "stream",
     "text": [
      "RP3betaRecommender: Similarity column 38121 (100.0%), 666.38 column/sec. Elapsed time 57.21 sec\n",
      "EvaluatorHoldout: Processed 35595 (100.0%) in 37.28 sec. Users per second: 955\n"
     ]
    },
    {
     "name": "stderr",
     "output_type": "stream",
     "text": [
      "[I 2024-12-24 10:02:24,292] Trial 220 finished with value: 0.020136298570558795 and parameters: {'topK': 108, 'alpha': 0.47709414332704286, 'beta': 0.4135440700415238, 'normalize_similarity': True, 'implicit': False}. Best is trial 94 with value: 0.023107177974434116.\n"
     ]
    },
    {
     "name": "stdout",
     "output_type": "stream",
     "text": [
      "RP3betaRecommender: Similarity column 38121 (100.0%), 722.01 column/sec. Elapsed time 52.80 sec\n",
      "EvaluatorHoldout: Processed 35595 (100.0%) in 34.13 sec. Users per second: 1043\n"
     ]
    },
    {
     "name": "stderr",
     "output_type": "stream",
     "text": [
      "[I 2024-12-24 10:03:53,178] Trial 221 finished with value: 0.021851788306276054 and parameters: {'topK': 23, 'alpha': 0.5027331242047041, 'beta': 0.31521939578257063, 'normalize_similarity': True, 'implicit': False}. Best is trial 94 with value: 0.023107177974434116.\n"
     ]
    },
    {
     "name": "stdout",
     "output_type": "stream",
     "text": [
      "RP3betaRecommender: Similarity column 38121 (100.0%), 851.97 column/sec. Elapsed time 44.74 sec\n",
      "EvaluatorHoldout: Processed 35595 (100.0%) in 29.24 sec. Users per second: 1217\n"
     ]
    },
    {
     "name": "stderr",
     "output_type": "stream",
     "text": [
      "[I 2024-12-24 10:05:08,419] Trial 222 finished with value: 0.017142794712116396 and parameters: {'topK': 2, 'alpha': 0.503977399526474, 'beta': 0.2927710381037612, 'normalize_similarity': True, 'implicit': False}. Best is trial 94 with value: 0.023107177974434116.\n"
     ]
    },
    {
     "name": "stdout",
     "output_type": "stream",
     "text": [
      "RP3betaRecommender: Similarity column 38121 (100.0%), 695.11 column/sec. Elapsed time 54.84 sec\n",
      "EvaluatorHoldout: Processed 35595 (100.0%) in 35.46 sec. Users per second: 1004\n"
     ]
    },
    {
     "name": "stderr",
     "output_type": "stream",
     "text": [
      "[I 2024-12-24 10:06:41,819] Trial 223 finished with value: 0.020542970187091326 and parameters: {'topK': 55, 'alpha': 0.41344165881266404, 'beta': 0.4943937348051957, 'normalize_similarity': True, 'implicit': False}. Best is trial 94 with value: 0.023107177974434116.\n"
     ]
    },
    {
     "name": "stdout",
     "output_type": "stream",
     "text": [
      "RP3betaRecommender: Similarity column 38121 (100.0%), 717.17 column/sec. Elapsed time 53.15 sec\n",
      "EvaluatorHoldout: Processed 35595 (100.0%) in 34.11 sec. Users per second: 1044\n"
     ]
    },
    {
     "name": "stderr",
     "output_type": "stream",
     "text": [
      "[I 2024-12-24 10:08:11,335] Trial 224 finished with value: 0.02113848141682082 and parameters: {'topK': 27, 'alpha': 0.5201244361509078, 'beta': 0.442004804419156, 'normalize_similarity': True, 'implicit': False}. Best is trial 94 with value: 0.023107177974434116.\n"
     ]
    },
    {
     "name": "stdout",
     "output_type": "stream",
     "text": [
      "RP3betaRecommender: Similarity column 38121 (100.0%), 1046.26 column/sec. Elapsed time 36.44 sec\n",
      "EvaluatorHoldout: Processed 35595 (100.0%) in 24.97 sec. Users per second: 1425\n"
     ]
    },
    {
     "name": "stderr",
     "output_type": "stream",
     "text": [
      "[I 2024-12-24 10:09:13,357] Trial 225 finished with value: 0.00028209999175022335 and parameters: {'topK': 0, 'alpha': 2.86114246086104, 'beta': 0.4240302349855053, 'normalize_similarity': True, 'implicit': False}. Best is trial 94 with value: 0.023107177974434116.\n"
     ]
    },
    {
     "name": "stdout",
     "output_type": "stream",
     "text": [
      "RP3betaRecommender: Similarity column 38121 (100.0%), 682.87 column/sec. Elapsed time 55.82 sec\n",
      "EvaluatorHoldout: Processed 35595 (100.0%) in 36.39 sec. Users per second: 978\n"
     ]
    },
    {
     "name": "stderr",
     "output_type": "stream",
     "text": [
      "[I 2024-12-24 10:10:49,454] Trial 226 finished with value: 0.020061975888355787 and parameters: {'topK': 72, 'alpha': 0.5425093842496408, 'beta': 0.4397199914025864, 'normalize_similarity': True, 'implicit': False}. Best is trial 94 with value: 0.023107177974434116.\n"
     ]
    },
    {
     "name": "stdout",
     "output_type": "stream",
     "text": [
      "RP3betaRecommender: Similarity column 38121 (100.0%), 710.40 column/sec. Elapsed time 53.66 sec\n",
      "EvaluatorHoldout: Processed 35595 (100.0%) in 34.05 sec. Users per second: 1045\n"
     ]
    },
    {
     "name": "stderr",
     "output_type": "stream",
     "text": [
      "[I 2024-12-24 10:12:19,405] Trial 227 finished with value: 0.021302878280122027 and parameters: {'topK': 29, 'alpha': 0.5317022388516468, 'beta': 0.3588939824148489, 'normalize_similarity': True, 'implicit': False}. Best is trial 94 with value: 0.023107177974434116.\n"
     ]
    },
    {
     "name": "stdout",
     "output_type": "stream",
     "text": [
      "RP3betaRecommender: Similarity column 38121 (100.0%), 721.11 column/sec. Elapsed time 52.86 sec\n",
      "EvaluatorHoldout: Processed 35595 (100.0%) in 36.28 sec. Users per second: 981\n"
     ]
    },
    {
     "name": "stderr",
     "output_type": "stream",
     "text": [
      "[I 2024-12-24 10:13:50,680] Trial 228 finished with value: 0.021133874920010346 and parameters: {'topK': 25, 'alpha': 0.37481142106971393, 'beta': 0.5188641166775286, 'normalize_similarity': True, 'implicit': False}. Best is trial 94 with value: 0.023107177974434116.\n"
     ]
    },
    {
     "name": "stdout",
     "output_type": "stream",
     "text": [
      "RP3betaRecommender: Similarity column 38121 (100.0%), 722.26 column/sec. Elapsed time 52.78 sec\n",
      "EvaluatorHoldout: Processed 35595 (100.0%) in 33.80 sec. Users per second: 1053\n"
     ]
    },
    {
     "name": "stderr",
     "output_type": "stream",
     "text": [
      "[I 2024-12-24 10:15:19,395] Trial 229 finished with value: 0.016468240590238156 and parameters: {'topK': 26, 'alpha': 0.5595437700158787, 'beta': 0.500316726308875, 'normalize_similarity': False, 'implicit': False}. Best is trial 94 with value: 0.023107177974434116.\n"
     ]
    },
    {
     "name": "stdout",
     "output_type": "stream",
     "text": [
      "RP3betaRecommender: Similarity column 38121 (100.0%), 719.39 column/sec. Elapsed time 52.99 sec\n",
      "EvaluatorHoldout: Processed 35595 (100.0%) in 34.00 sec. Users per second: 1047\n"
     ]
    },
    {
     "name": "stderr",
     "output_type": "stream",
     "text": [
      "[I 2024-12-24 10:16:48,408] Trial 230 finished with value: 0.021974753454314953 and parameters: {'topK': 25, 'alpha': 0.4551101340398931, 'beta': 0.36131477432356945, 'normalize_similarity': True, 'implicit': False}. Best is trial 94 with value: 0.023107177974434116.\n"
     ]
    },
    {
     "name": "stdout",
     "output_type": "stream",
     "text": [
      "RP3betaRecommender: Similarity column 38121 (100.0%), 724.24 column/sec. Elapsed time 52.64 sec\n",
      "EvaluatorHoldout: Processed 35595 (100.0%) in 34.44 sec. Users per second: 1033\n"
     ]
    },
    {
     "name": "stderr",
     "output_type": "stream",
     "text": [
      "[I 2024-12-24 10:18:17,685] Trial 231 finished with value: 0.010559060595723261 and parameters: {'topK': 26, 'alpha': 1.888572054386187, 'beta': 0.3595794392064216, 'normalize_similarity': True, 'implicit': False}. Best is trial 94 with value: 0.023107177974434116.\n"
     ]
    },
    {
     "name": "stdout",
     "output_type": "stream",
     "text": [
      "RP3betaRecommender: Similarity column 38121 (100.0%), 713.58 column/sec. Elapsed time 53.42 sec\n",
      "EvaluatorHoldout: Processed 35595 (100.0%) in 34.16 sec. Users per second: 1042\n"
     ]
    },
    {
     "name": "stderr",
     "output_type": "stream",
     "text": [
      "[I 2024-12-24 10:19:47,409] Trial 232 finished with value: 0.02187212512012317 and parameters: {'topK': 28, 'alpha': 0.45272153278817473, 'beta': 0.37373658359729933, 'normalize_similarity': True, 'implicit': False}. Best is trial 94 with value: 0.023107177974434116.\n"
     ]
    },
    {
     "name": "stdout",
     "output_type": "stream",
     "text": [
      "RP3betaRecommender: Similarity column 38121 (100.0%), 720.57 column/sec. Elapsed time 52.90 sec\n",
      "EvaluatorHoldout: Processed 35595 (100.0%) in 33.94 sec. Users per second: 1049\n"
     ]
    },
    {
     "name": "stderr",
     "output_type": "stream",
     "text": [
      "[I 2024-12-24 10:21:16,399] Trial 233 finished with value: 0.02173363701429419 and parameters: {'topK': 28, 'alpha': 0.4585444390290758, 'beta': 0.4130889325122545, 'normalize_similarity': True, 'implicit': False}. Best is trial 94 with value: 0.023107177974434116.\n"
     ]
    },
    {
     "name": "stdout",
     "output_type": "stream",
     "text": [
      "RP3betaRecommender: Similarity column 38121 (100.0%), 1042.01 column/sec. Elapsed time 36.58 sec\n",
      "EvaluatorHoldout: Processed 35595 (100.0%) in 25.27 sec. Users per second: 1408\n"
     ]
    },
    {
     "name": "stderr",
     "output_type": "stream",
     "text": [
      "[I 2024-12-24 10:22:18,882] Trial 234 finished with value: 0.00028209999175022335 and parameters: {'topK': 0, 'alpha': 0.44123007731150526, 'beta': 0.5515783618362256, 'normalize_similarity': True, 'implicit': False}. Best is trial 94 with value: 0.023107177974434116.\n"
     ]
    },
    {
     "name": "stdout",
     "output_type": "stream",
     "text": [
      "RP3betaRecommender: Similarity column 38121 (100.0%), 719.69 column/sec. Elapsed time 52.97 sec\n",
      "EvaluatorHoldout: Processed 35595 (100.0%) in 34.02 sec. Users per second: 1046\n"
     ]
    },
    {
     "name": "stderr",
     "output_type": "stream",
     "text": [
      "[I 2024-12-24 10:23:47,904] Trial 235 finished with value: 0.022094922597029356 and parameters: {'topK': 23, 'alpha': 0.36844159726880427, 'beta': 0.4063189821220271, 'normalize_similarity': True, 'implicit': False}. Best is trial 94 with value: 0.023107177974434116.\n"
     ]
    },
    {
     "name": "stdout",
     "output_type": "stream",
     "text": [
      "RP3betaRecommender: Similarity column 38121 (100.0%), 722.58 column/sec. Elapsed time 52.76 sec\n",
      "EvaluatorHoldout: Processed 35595 (100.0%) in 33.11 sec. Users per second: 1075\n"
     ]
    },
    {
     "name": "stderr",
     "output_type": "stream",
     "text": [
      "[I 2024-12-24 10:25:15,548] Trial 236 finished with value: 0.022398296978574702 and parameters: {'topK': 19, 'alpha': 0.3517790138008565, 'beta': 0.4089925748433344, 'normalize_similarity': True, 'implicit': False}. Best is trial 94 with value: 0.023107177974434116.\n"
     ]
    },
    {
     "name": "stdout",
     "output_type": "stream",
     "text": [
      "RP3betaRecommender: Similarity column 38121 (100.0%), 1039.08 column/sec. Elapsed time 36.69 sec\n",
      "EvaluatorHoldout: Processed 35595 (100.0%) in 25.09 sec. Users per second: 1418\n"
     ]
    },
    {
     "name": "stderr",
     "output_type": "stream",
     "text": [
      "[I 2024-12-24 10:26:17,946] Trial 237 finished with value: 0.00028209999175022335 and parameters: {'topK': 0, 'alpha': 0.35208991381339627, 'beta': 0.48911208197265627, 'normalize_similarity': True, 'implicit': False}. Best is trial 94 with value: 0.023107177974434116.\n"
     ]
    },
    {
     "name": "stdout",
     "output_type": "stream",
     "text": [
      "RP3betaRecommender: Similarity column 38121 (100.0%), 683.95 column/sec. Elapsed time 55.74 sec\n",
      "EvaluatorHoldout: Processed 35595 (100.0%) in 36.33 sec. Users per second: 980\n"
     ]
    },
    {
     "name": "stderr",
     "output_type": "stream",
     "text": [
      "[I 2024-12-24 10:27:53,872] Trial 238 finished with value: 0.020329258612654968 and parameters: {'topK': 81, 'alpha': 0.36936157946529014, 'beta': 0.41329274589222925, 'normalize_similarity': True, 'implicit': False}. Best is trial 94 with value: 0.023107177974434116.\n"
     ]
    },
    {
     "name": "stdout",
     "output_type": "stream",
     "text": [
      "RP3betaRecommender: Similarity column 38121 (100.0%), 726.23 column/sec. Elapsed time 52.49 sec\n",
      "EvaluatorHoldout: Processed 35595 (100.0%) in 33.64 sec. Users per second: 1058\n"
     ]
    },
    {
     "name": "stderr",
     "output_type": "stream",
     "text": [
      "[I 2024-12-24 10:29:21,958] Trial 239 finished with value: 0.021757268164558228 and parameters: {'topK': 21, 'alpha': 0.47734632529491333, 'beta': 0.4338106821145718, 'normalize_similarity': True, 'implicit': False}. Best is trial 94 with value: 0.023107177974434116.\n"
     ]
    },
    {
     "name": "stdout",
     "output_type": "stream",
     "text": [
      "RP3betaRecommender: Similarity column 38121 (100.0%), 682.35 column/sec. Elapsed time 55.87 sec\n",
      "EvaluatorHoldout: Processed 35595 (100.0%) in 36.40 sec. Users per second: 978\n"
     ]
    },
    {
     "name": "stderr",
     "output_type": "stream",
     "text": [
      "[I 2024-12-24 10:30:58,024] Trial 240 finished with value: 0.02048449376472952 and parameters: {'topK': 75, 'alpha': 0.47449161920929855, 'beta': 0.4203613438279023, 'normalize_similarity': True, 'implicit': False}. Best is trial 94 with value: 0.023107177974434116.\n"
     ]
    },
    {
     "name": "stdout",
     "output_type": "stream",
     "text": [
      "RP3betaRecommender: Similarity column 38121 (100.0%), 721.04 column/sec. Elapsed time 52.87 sec\n",
      "EvaluatorHoldout: Processed 35595 (100.0%) in 33.58 sec. Users per second: 1060\n"
     ]
    },
    {
     "name": "stderr",
     "output_type": "stream",
     "text": [
      "[I 2024-12-24 10:32:26,520] Trial 241 finished with value: 0.020636188201927492 and parameters: {'topK': 24, 'alpha': 0.4489013307499534, 'beta': 0.5383927047789082, 'normalize_similarity': True, 'implicit': False}. Best is trial 94 with value: 0.023107177974434116.\n"
     ]
    },
    {
     "name": "stdout",
     "output_type": "stream",
     "text": [
      "RP3betaRecommender: Similarity column 38121 (100.0%), 1049.94 column/sec. Elapsed time 36.31 sec\n",
      "EvaluatorHoldout: Processed 35595 (100.0%) in 26.31 sec. Users per second: 1353\n"
     ]
    },
    {
     "name": "stderr",
     "output_type": "stream",
     "text": [
      "[I 2024-12-24 10:33:29,758] Trial 242 finished with value: 0.00028209999175022335 and parameters: {'topK': 0, 'alpha': 0.32466572305936103, 'beta': 0.4678531204246899, 'normalize_similarity': True, 'implicit': False}. Best is trial 94 with value: 0.023107177974434116.\n"
     ]
    },
    {
     "name": "stdout",
     "output_type": "stream",
     "text": [
      "RP3betaRecommender: Similarity column 38121 (100.0%), 718.49 column/sec. Elapsed time 53.06 sec\n",
      "EvaluatorHoldout: Processed 35595 (100.0%) in 33.94 sec. Users per second: 1049\n"
     ]
    },
    {
     "name": "stderr",
     "output_type": "stream",
     "text": [
      "[I 2024-12-24 10:34:58,948] Trial 243 finished with value: 0.022034236572373675 and parameters: {'topK': 25, 'alpha': 0.3902815161252913, 'beta': 0.383486861572407, 'normalize_similarity': True, 'implicit': False}. Best is trial 94 with value: 0.023107177974434116.\n"
     ]
    },
    {
     "name": "stdout",
     "output_type": "stream",
     "text": [
      "RP3betaRecommender: Similarity column 38121 (100.0%), 701.85 column/sec. Elapsed time 54.32 sec\n",
      "EvaluatorHoldout: Processed 35595 (100.0%) in 36.87 sec. Users per second: 965\n"
     ]
    },
    {
     "name": "stderr",
     "output_type": "stream",
     "text": [
      "[I 2024-12-24 10:36:33,271] Trial 244 finished with value: 0.020780842458254803 and parameters: {'topK': 55, 'alpha': 0.5033608784370281, 'beta': 0.38295925280269294, 'normalize_similarity': True, 'implicit': False}. Best is trial 94 with value: 0.023107177974434116.\n"
     ]
    },
    {
     "name": "stdout",
     "output_type": "stream",
     "text": [
      "RP3betaRecommender: Similarity column 38121 (100.0%), 701.10 column/sec. Elapsed time 54.37 sec\n",
      "EvaluatorHoldout: Processed 35595 (100.0%) in 35.21 sec. Users per second: 1011\n"
     ]
    },
    {
     "name": "stderr",
     "output_type": "stream",
     "text": [
      "[I 2024-12-24 10:38:05,150] Trial 245 finished with value: 0.02190298151381141 and parameters: {'topK': 29, 'alpha': 0.43153713596750176, 'beta': 0.38216622239035497, 'normalize_similarity': True, 'implicit': False}. Best is trial 94 with value: 0.023107177974434116.\n"
     ]
    },
    {
     "name": "stdout",
     "output_type": "stream",
     "text": [
      "RP3betaRecommender: Similarity column 38121 (100.0%), 688.13 column/sec. Elapsed time 55.40 sec\n",
      "EvaluatorHoldout: Processed 35595 (100.0%) in 35.77 sec. Users per second: 995\n"
     ]
    },
    {
     "name": "stderr",
     "output_type": "stream",
     "text": [
      "[I 2024-12-24 10:39:39,627] Trial 246 finished with value: 0.020878171983312866 and parameters: {'topK': 64, 'alpha': 0.4172684620304764, 'beta': 0.3754792517551317, 'normalize_similarity': True, 'implicit': False}. Best is trial 94 with value: 0.023107177974434116.\n"
     ]
    },
    {
     "name": "stdout",
     "output_type": "stream",
     "text": [
      "RP3betaRecommender: Similarity column 38121 (100.0%), 722.28 column/sec. Elapsed time 52.78 sec\n",
      "EvaluatorHoldout: Processed 35595 (100.0%) in 33.37 sec. Users per second: 1067\n"
     ]
    },
    {
     "name": "stderr",
     "output_type": "stream",
     "text": [
      "[I 2024-12-24 10:41:07,720] Trial 247 finished with value: 0.02175321128123457 and parameters: {'topK': 25, 'alpha': 0.30477220707344926, 'beta': 0.3700536421313909, 'normalize_similarity': True, 'implicit': False}. Best is trial 94 with value: 0.023107177974434116.\n"
     ]
    },
    {
     "name": "stdout",
     "output_type": "stream",
     "text": [
      "RP3betaRecommender: Similarity column 38121 (100.0%), 861.04 column/sec. Elapsed time 44.27 sec\n",
      "EvaluatorHoldout: Processed 35595 (100.0%) in 28.95 sec. Users per second: 1229\n"
     ]
    },
    {
     "name": "stderr",
     "output_type": "stream",
     "text": [
      "[I 2024-12-24 10:42:22,367] Trial 248 finished with value: 0.018362287819093576 and parameters: {'topK': 2, 'alpha': 0.30631227808677247, 'beta': 0.36242310784027, 'normalize_similarity': True, 'implicit': False}. Best is trial 94 with value: 0.023107177974434116.\n"
     ]
    },
    {
     "name": "stdout",
     "output_type": "stream",
     "text": [
      "RP3betaRecommender: Similarity column 38121 (100.0%), 695.85 column/sec. Elapsed time 54.78 sec\n",
      "EvaluatorHoldout: Processed 35595 (100.0%) in 34.96 sec. Users per second: 1018\n"
     ]
    },
    {
     "name": "stderr",
     "output_type": "stream",
     "text": [
      "[I 2024-12-24 10:43:55,236] Trial 249 finished with value: 0.020752251408593436 and parameters: {'topK': 62, 'alpha': 0.4340600527359238, 'beta': 0.30176697025243926, 'normalize_similarity': True, 'implicit': False}. Best is trial 94 with value: 0.023107177974434116.\n"
     ]
    },
    {
     "name": "stdout",
     "output_type": "stream",
     "text": [
      "RP3betaRecommender: Similarity column 38121 (100.0%), 712.77 column/sec. Elapsed time 53.48 sec\n",
      "EvaluatorHoldout: Processed 35595 (100.0%) in 34.43 sec. Users per second: 1034\n"
     ]
    },
    {
     "name": "stderr",
     "output_type": "stream",
     "text": [
      "[I 2024-12-24 10:45:25,367] Trial 250 finished with value: 0.02189429026281081 and parameters: {'topK': 28, 'alpha': 0.34171608374996365, 'beta': 0.394087189444259, 'normalize_similarity': True, 'implicit': False}. Best is trial 94 with value: 0.023107177974434116.\n"
     ]
    },
    {
     "name": "stdout",
     "output_type": "stream",
     "text": [
      "RP3betaRecommender: Similarity column 38121 (100.0%), 680.64 column/sec. Elapsed time 56.01 sec\n",
      "EvaluatorHoldout: Processed 35595 (100.0%) in 36.04 sec. Users per second: 988\n"
     ]
    },
    {
     "name": "stderr",
     "output_type": "stream",
     "text": [
      "[I 2024-12-24 10:47:01,303] Trial 251 finished with value: 0.019941465606235793 and parameters: {'topK': 89, 'alpha': 0.3126544814682496, 'beta': 0.39524080092034525, 'normalize_similarity': True, 'implicit': False}. Best is trial 94 with value: 0.023107177974434116.\n"
     ]
    },
    {
     "name": "stdout",
     "output_type": "stream",
     "text": [
      "RP3betaRecommender: Similarity column 38121 (100.0%), 721.90 column/sec. Elapsed time 52.81 sec\n",
      "EvaluatorHoldout: Processed 35595 (100.0%) in 33.49 sec. Users per second: 1063\n"
     ]
    },
    {
     "name": "stderr",
     "output_type": "stream",
     "text": [
      "[I 2024-12-24 10:48:29,552] Trial 252 finished with value: 0.021209862050359147 and parameters: {'topK': 25, 'alpha': 0.2409821119662192, 'beta': 0.4206371354513588, 'normalize_similarity': True, 'implicit': False}. Best is trial 94 with value: 0.023107177974434116.\n"
     ]
    },
    {
     "name": "stdout",
     "output_type": "stream",
     "text": [
      "RP3betaRecommender: Similarity column 38121 (100.0%), 700.76 column/sec. Elapsed time 54.40 sec\n",
      "EvaluatorHoldout: Processed 35595 (100.0%) in 35.30 sec. Users per second: 1008\n"
     ]
    },
    {
     "name": "stderr",
     "output_type": "stream",
     "text": [
      "[I 2024-12-24 10:50:02,036] Trial 253 finished with value: 0.02091056461916103 and parameters: {'topK': 52, 'alpha': 0.35672132316343175, 'beta': 0.3527750683149926, 'normalize_similarity': True, 'implicit': False}. Best is trial 94 with value: 0.023107177974434116.\n"
     ]
    },
    {
     "name": "stdout",
     "output_type": "stream",
     "text": [
      "RP3betaRecommender: Similarity column 38121 (100.0%), 706.48 column/sec. Elapsed time 53.96 sec\n",
      "EvaluatorHoldout: Processed 35595 (100.0%) in 33.36 sec. Users per second: 1067\n"
     ]
    },
    {
     "name": "stderr",
     "output_type": "stream",
     "text": [
      "[I 2024-12-24 10:51:31,204] Trial 254 finished with value: 0.02154373273399791 and parameters: {'topK': 24, 'alpha': 0.2844773631976969, 'beta': 0.30954252761231343, 'normalize_similarity': True, 'implicit': False}. Best is trial 94 with value: 0.023107177974434116.\n"
     ]
    },
    {
     "name": "stdout",
     "output_type": "stream",
     "text": [
      "RP3betaRecommender: Similarity column 38121 (100.0%), 787.60 column/sec. Elapsed time 48.40 sec\n",
      "EvaluatorHoldout: Processed 35595 (100.0%) in 29.08 sec. Users per second: 1224\n"
     ]
    },
    {
     "name": "stderr",
     "output_type": "stream",
     "text": [
      "[I 2024-12-24 10:52:49,910] Trial 255 finished with value: 0.02093965177024575 and parameters: {'topK': 3, 'alpha': 0.2656824097460156, 'beta': 0.2890394801368876, 'normalize_similarity': True, 'implicit': False}. Best is trial 94 with value: 0.023107177974434116.\n"
     ]
    },
    {
     "name": "stdout",
     "output_type": "stream",
     "text": [
      "RP3betaRecommender: Similarity column 38121 (100.0%), 675.92 column/sec. Elapsed time 56.40 sec\n",
      "EvaluatorHoldout: Processed 35595 (100.0%) in 37.93 sec. Users per second: 938\n"
     ]
    },
    {
     "name": "stderr",
     "output_type": "stream",
     "text": [
      "[I 2024-12-24 10:54:27,878] Trial 256 finished with value: 0.020072424118778732 and parameters: {'topK': 71, 'alpha': 0.3102340850949229, 'beta': 0.4195399568053083, 'normalize_similarity': True, 'implicit': False}. Best is trial 94 with value: 0.023107177974434116.\n"
     ]
    },
    {
     "name": "stdout",
     "output_type": "stream",
     "text": [
      "RP3betaRecommender: Similarity column 38121 (100.0%), 999.90 column/sec. Elapsed time 38.12 sec\n",
      "EvaluatorHoldout: Processed 35595 (100.0%) in 25.86 sec. Users per second: 1376\n"
     ]
    },
    {
     "name": "stderr",
     "output_type": "stream",
     "text": [
      "[I 2024-12-24 10:55:32,545] Trial 257 finished with value: 0.00028209999175022335 and parameters: {'topK': 0, 'alpha': 0.36974262808020214, 'beta': 0.2826241747966913, 'normalize_similarity': True, 'implicit': False}. Best is trial 94 with value: 0.023107177974434116.\n"
     ]
    },
    {
     "name": "stdout",
     "output_type": "stream",
     "text": [
      "RP3betaRecommender: Similarity column 38121 (100.0%), 697.66 column/sec. Elapsed time 54.64 sec\n",
      "EvaluatorHoldout: Processed 35595 (100.0%) in 34.35 sec. Users per second: 1036\n"
     ]
    },
    {
     "name": "stderr",
     "output_type": "stream",
     "text": [
      "[I 2024-12-24 10:57:04,108] Trial 258 finished with value: 0.020136090096477658 and parameters: {'topK': 49, 'alpha': 0.2432939499081001, 'beta': 0.3656796844721463, 'normalize_similarity': True, 'implicit': False}. Best is trial 94 with value: 0.023107177974434116.\n"
     ]
    },
    {
     "name": "stdout",
     "output_type": "stream",
     "text": [
      "RP3betaRecommender: Similarity column 38121 (100.0%), 667.42 column/sec. Elapsed time 57.12 sec\n",
      "EvaluatorHoldout: Processed 35595 (100.0%) in 41.20 sec. Users per second: 864\n"
     ]
    },
    {
     "name": "stderr",
     "output_type": "stream",
     "text": [
      "[I 2024-12-24 10:58:47,166] Trial 259 finished with value: 0.017707414988283186 and parameters: {'topK': 99, 'alpha': 0.39382894701722193, 'beta': 0.4696587921219928, 'normalize_similarity': False, 'implicit': False}. Best is trial 94 with value: 0.023107177974434116.\n"
     ]
    },
    {
     "name": "stdout",
     "output_type": "stream",
     "text": [
      "RP3betaRecommender: Similarity column 38121 (100.0%), 681.75 column/sec. Elapsed time 55.92 sec\n",
      "EvaluatorHoldout: Processed 35595 (100.0%) in 36.46 sec. Users per second: 976\n"
     ]
    },
    {
     "name": "stderr",
     "output_type": "stream",
     "text": [
      "[I 2024-12-24 11:00:21,854] Trial 260 finished with value: 0.02176152571812062 and parameters: {'topK': 29, 'alpha': 0.4488631661882436, 'beta': 0.31384288878513644, 'normalize_similarity': True, 'implicit': False}. Best is trial 94 with value: 0.023107177974434116.\n"
     ]
    },
    {
     "name": "stdout",
     "output_type": "stream",
     "text": [
      "RP3betaRecommender: Similarity column 38121 (100.0%), 669.64 column/sec. Elapsed time 56.93 sec\n",
      "EvaluatorHoldout: Processed 35595 (100.0%) in 36.53 sec. Users per second: 974\n"
     ]
    },
    {
     "name": "stderr",
     "output_type": "stream",
     "text": [
      "[I 2024-12-24 11:01:58,442] Trial 261 finished with value: 0.020018350178484863 and parameters: {'topK': 64, 'alpha': 0.29058284303593174, 'beta': 0.31957469820191015, 'normalize_similarity': True, 'implicit': False}. Best is trial 94 with value: 0.023107177974434116.\n"
     ]
    },
    {
     "name": "stdout",
     "output_type": "stream",
     "text": [
      "RP3betaRecommender: Similarity column 38121 (100.0%), 695.87 column/sec. Elapsed time 54.78 sec\n",
      "EvaluatorHoldout: Processed 35595 (100.0%) in 35.64 sec. Users per second: 999\n"
     ]
    },
    {
     "name": "stderr",
     "output_type": "stream",
     "text": [
      "[I 2024-12-24 11:03:31,226] Trial 262 finished with value: 0.021813809233952215 and parameters: {'topK': 29, 'alpha': 0.4315617943021644, 'beta': 0.4199420426110107, 'normalize_similarity': True, 'implicit': False}. Best is trial 94 with value: 0.023107177974434116.\n"
     ]
    },
    {
     "name": "stdout",
     "output_type": "stream",
     "text": [
      "RP3betaRecommender: Similarity column 38121 (100.0%), 1012.77 column/sec. Elapsed time 37.64 sec\n",
      "EvaluatorHoldout: Processed 35595 (100.0%) in 26.42 sec. Users per second: 1347\n"
     ]
    },
    {
     "name": "stderr",
     "output_type": "stream",
     "text": [
      "[I 2024-12-24 11:04:35,990] Trial 263 finished with value: 0.00028209999175022335 and parameters: {'topK': 0, 'alpha': 0.43150869565208533, 'beta': 0.44213816116533605, 'normalize_similarity': True, 'implicit': False}. Best is trial 94 with value: 0.023107177974434116.\n"
     ]
    },
    {
     "name": "stdout",
     "output_type": "stream",
     "text": [
      "RP3betaRecommender: Similarity column 38121 (100.0%), 661.11 column/sec. Elapsed time 57.66 sec\n",
      "EvaluatorHoldout: Processed 35595 (100.0%) in 36.84 sec. Users per second: 966\n"
     ]
    },
    {
     "name": "stderr",
     "output_type": "stream",
     "text": [
      "[I 2024-12-24 11:06:14,263] Trial 264 finished with value: 0.02019238813191594 and parameters: {'topK': 76, 'alpha': 0.33475616748376463, 'beta': 0.4071837945593499, 'normalize_similarity': True, 'implicit': False}. Best is trial 94 with value: 0.023107177974434116.\n"
     ]
    },
    {
     "name": "stdout",
     "output_type": "stream",
     "text": [
      "RP3betaRecommender: Similarity column 38121 (100.0%), 712.17 column/sec. Elapsed time 53.53 sec\n",
      "EvaluatorHoldout: Processed 35595 (100.0%) in 34.83 sec. Users per second: 1022\n"
     ]
    },
    {
     "name": "stderr",
     "output_type": "stream",
     "text": [
      "[I 2024-12-24 11:07:45,172] Trial 265 finished with value: 0.01966205905502137 and parameters: {'topK': 41, 'alpha': 0.3954117931505159, 'beta': 0.5785562346701076, 'normalize_similarity': True, 'implicit': False}. Best is trial 94 with value: 0.023107177974434116.\n"
     ]
    },
    {
     "name": "stdout",
     "output_type": "stream",
     "text": [
      "RP3betaRecommender: Similarity column 38121 (100.0%), 668.73 column/sec. Elapsed time 57.01 sec\n",
      "EvaluatorHoldout: Processed 35595 (100.0%) in 35.99 sec. Users per second: 989\n"
     ]
    },
    {
     "name": "stderr",
     "output_type": "stream",
     "text": [
      "[I 2024-12-24 11:09:22,310] Trial 266 finished with value: 0.01996392395043879 and parameters: {'topK': 102, 'alpha': 0.44624067660413674, 'beta': 0.2889216159646195, 'normalize_similarity': True, 'implicit': False}. Best is trial 94 with value: 0.023107177974434116.\n"
     ]
    },
    {
     "name": "stdout",
     "output_type": "stream",
     "text": [
      "RP3betaRecommender: Similarity column 38121 (100.0%), 709.83 column/sec. Elapsed time 53.70 sec\n",
      "EvaluatorHoldout: Processed 35595 (100.0%) in 34.72 sec. Users per second: 1025\n"
     ]
    },
    {
     "name": "stderr",
     "output_type": "stream",
     "text": [
      "[I 2024-12-24 11:10:53,696] Trial 267 finished with value: 0.02042522580975991 and parameters: {'topK': 55, 'alpha': 0.33223517923811025, 'beta': 0.48439391590280667, 'normalize_similarity': True, 'implicit': False}. Best is trial 94 with value: 0.023107177974434116.\n"
     ]
    },
    {
     "name": "stdout",
     "output_type": "stream",
     "text": [
      "RP3betaRecommender: Similarity column 38121 (100.0%), 778.76 column/sec. Elapsed time 48.95 sec\n",
      "EvaluatorHoldout: Processed 35595 (100.0%) in 28.13 sec. Users per second: 1265\n"
     ]
    },
    {
     "name": "stderr",
     "output_type": "stream",
     "text": [
      "[I 2024-12-24 11:12:11,978] Trial 268 finished with value: 0.0008238204491891859 and parameters: {'topK': 25, 'alpha': 0.45755555092814876, 'beta': 2.8593795567824967, 'normalize_similarity': True, 'implicit': False}. Best is trial 94 with value: 0.023107177974434116.\n"
     ]
    },
    {
     "name": "stdout",
     "output_type": "stream",
     "text": [
      "RP3betaRecommender: Similarity column 38121 (100.0%), 308.28 column/sec. Elapsed time 2.06 min\n",
      "EvaluatorHoldout: Processed 35595 (100.0%) in 1.07 min. Users per second: 555\n"
     ]
    },
    {
     "name": "stderr",
     "output_type": "stream",
     "text": [
      "[I 2024-12-24 11:16:17,889] Trial 269 finished with value: 0.010194365848601228 and parameters: {'topK': 1392, 'alpha': 2.133886554337951, 'beta': 0.395395495533579, 'normalize_similarity': True, 'implicit': False}. Best is trial 94 with value: 0.023107177974434116.\n"
     ]
    },
    {
     "name": "stdout",
     "output_type": "stream",
     "text": [
      "RP3betaRecommender: Similarity column 38121 (100.0%), 465.44 column/sec. Elapsed time 1.37 min\n",
      "EvaluatorHoldout: Processed 35595 (100.0%) in 44.63 sec. Users per second: 798\n"
     ]
    },
    {
     "name": "stderr",
     "output_type": "stream",
     "text": [
      "[I 2024-12-24 11:18:41,703] Trial 270 finished with value: 0.015154296461292157 and parameters: {'topK': 519, 'alpha': 0.2061664399126457, 'beta': 0.3339410256925806, 'normalize_similarity': True, 'implicit': False}. Best is trial 94 with value: 0.023107177974434116.\n"
     ]
    },
    {
     "name": "stdout",
     "output_type": "stream",
     "text": [
      "RP3betaRecommender: Similarity column 38121 (100.0%), 726.01 column/sec. Elapsed time 52.51 sec\n",
      "EvaluatorHoldout: Processed 35595 (100.0%) in 33.03 sec. Users per second: 1078\n"
     ]
    },
    {
     "name": "stderr",
     "output_type": "stream",
     "text": [
      "[I 2024-12-24 11:20:09,139] Trial 271 finished with value: 0.021672974401166344 and parameters: {'topK': 26, 'alpha': 0.3836518736090421, 'beta': 0.24988007658595862, 'normalize_similarity': True, 'implicit': False}. Best is trial 94 with value: 0.023107177974434116.\n"
     ]
    },
    {
     "name": "stdout",
     "output_type": "stream",
     "text": [
      "RP3betaRecommender: Similarity column 38121 (100.0%), 688.62 column/sec. Elapsed time 55.36 sec\n",
      "EvaluatorHoldout: Processed 35595 (100.0%) in 35.79 sec. Users per second: 995\n"
     ]
    },
    {
     "name": "stderr",
     "output_type": "stream",
     "text": [
      "[I 2024-12-24 11:21:44,098] Trial 272 finished with value: 0.019809097942684064 and parameters: {'topK': 83, 'alpha': 0.29834359419917506, 'beta': 0.44914267257616347, 'normalize_similarity': True, 'implicit': False}. Best is trial 94 with value: 0.023107177974434116.\n"
     ]
    },
    {
     "name": "stdout",
     "output_type": "stream",
     "text": [
      "RP3betaRecommender: Similarity column 38121 (100.0%), 711.91 column/sec. Elapsed time 53.55 sec\n",
      "EvaluatorHoldout: Processed 35595 (100.0%) in 34.19 sec. Users per second: 1041\n"
     ]
    },
    {
     "name": "stderr",
     "output_type": "stream",
     "text": [
      "[I 2024-12-24 11:23:14,291] Trial 273 finished with value: 0.02105942514665623 and parameters: {'topK': 46, 'alpha': 0.38288942285099176, 'beta': 0.31158771606747426, 'normalize_similarity': True, 'implicit': False}. Best is trial 94 with value: 0.023107177974434116.\n"
     ]
    },
    {
     "name": "stdout",
     "output_type": "stream",
     "text": [
      "RP3betaRecommender: Similarity column 38121 (100.0%), 1048.83 column/sec. Elapsed time 36.35 sec\n",
      "EvaluatorHoldout: Processed 35595 (100.0%) in 24.95 sec. Users per second: 1427\n"
     ]
    },
    {
     "name": "stderr",
     "output_type": "stream",
     "text": [
      "[I 2024-12-24 11:24:16,221] Trial 274 finished with value: 0.00028209999175022335 and parameters: {'topK': 0, 'alpha': 0.3571193035115966, 'beta': 0.38063577964946216, 'normalize_similarity': True, 'implicit': False}. Best is trial 94 with value: 0.023107177974434116.\n"
     ]
    },
    {
     "name": "stdout",
     "output_type": "stream",
     "text": [
      "RP3betaRecommender: Similarity column 38121 (100.0%), 662.00 column/sec. Elapsed time 57.58 sec\n",
      "EvaluatorHoldout: Processed 35595 (100.0%) in 36.38 sec. Users per second: 979\n"
     ]
    },
    {
     "name": "stderr",
     "output_type": "stream",
     "text": [
      "[I 2024-12-24 11:25:54,462] Trial 275 finished with value: 0.01866276251569134 and parameters: {'topK': 117, 'alpha': 0.26910919063608807, 'beta': 0.27088931775480335, 'normalize_similarity': True, 'implicit': False}. Best is trial 94 with value: 0.023107177974434116.\n"
     ]
    },
    {
     "name": "stdout",
     "output_type": "stream",
     "text": [
      "RP3betaRecommender: Similarity column 38121 (100.0%), 645.45 column/sec. Elapsed time 59.06 sec\n",
      "EvaluatorHoldout: Processed 35595 (100.0%) in 36.20 sec. Users per second: 983\n"
     ]
    },
    {
     "name": "stderr",
     "output_type": "stream",
     "text": [
      "[I 2024-12-24 11:27:33,144] Trial 276 finished with value: 0.0094628202641268 and parameters: {'topK': 58, 'alpha': 2.537875796686719, 'beta': 0.5517456222743966, 'normalize_similarity': True, 'implicit': False}. Best is trial 94 with value: 0.023107177974434116.\n"
     ]
    },
    {
     "name": "stdout",
     "output_type": "stream",
     "text": [
      "RP3betaRecommender: Similarity column 38121 (100.0%), 717.32 column/sec. Elapsed time 53.14 sec\n",
      "EvaluatorHoldout: Processed 35595 (100.0%) in 33.89 sec. Users per second: 1050\n"
     ]
    },
    {
     "name": "stderr",
     "output_type": "stream",
     "text": [
      "[I 2024-12-24 11:29:02,307] Trial 277 finished with value: 0.021337900810930465 and parameters: {'topK': 26, 'alpha': 0.4226127905449902, 'beta': 0.49199659148450386, 'normalize_similarity': True, 'implicit': False}. Best is trial 94 with value: 0.023107177974434116.\n"
     ]
    },
    {
     "name": "stdout",
     "output_type": "stream",
     "text": [
      "RP3betaRecommender: Similarity column 38121 (100.0%), 1022.82 column/sec. Elapsed time 37.27 sec\n",
      "EvaluatorHoldout: Processed 35595 (100.0%) in 25.23 sec. Users per second: 1411\n"
     ]
    },
    {
     "name": "stderr",
     "output_type": "stream",
     "text": [
      "[I 2024-12-24 11:30:05,432] Trial 278 finished with value: 0.00028209999175022335 and parameters: {'topK': 0, 'alpha': 0.4003396340790026, 'beta': 0.5120043193065009, 'normalize_similarity': True, 'implicit': False}. Best is trial 94 with value: 0.023107177974434116.\n"
     ]
    },
    {
     "name": "stdout",
     "output_type": "stream",
     "text": [
      "RP3betaRecommender: Similarity column 38121 (100.0%), 526.92 column/sec. Elapsed time 1.21 min\n",
      "EvaluatorHoldout: Processed 35595 (100.0%) in 46.54 sec. Users per second: 765\n"
     ]
    },
    {
     "name": "stderr",
     "output_type": "stream",
     "text": [
      "[I 2024-12-24 11:32:21,227] Trial 279 finished with value: 0.0095994142658704 and parameters: {'topK': 355, 'alpha': 1.1682674561287874, 'beta': 0.4433183574599116, 'normalize_similarity': False, 'implicit': False}. Best is trial 94 with value: 0.023107177974434116.\n"
     ]
    },
    {
     "name": "stdout",
     "output_type": "stream",
     "text": [
      "RP3betaRecommender: Similarity column 38121 (100.0%), 678.21 column/sec. Elapsed time 56.21 sec\n",
      "EvaluatorHoldout: Processed 35595 (100.0%) in 38.63 sec. Users per second: 921\n"
     ]
    },
    {
     "name": "stderr",
     "output_type": "stream",
     "text": [
      "[I 2024-12-24 11:33:59,975] Trial 280 finished with value: 0.01978534750511144 and parameters: {'topK': 81, 'alpha': 0.3155670889554183, 'beta': 0.4939269975052131, 'normalize_similarity': True, 'implicit': False}. Best is trial 94 with value: 0.023107177974434116.\n"
     ]
    },
    {
     "name": "stdout",
     "output_type": "stream",
     "text": [
      "RP3betaRecommender: Similarity column 38121 (100.0%), 707.34 column/sec. Elapsed time 53.89 sec\n",
      "EvaluatorHoldout: Processed 35595 (100.0%) in 33.71 sec. Users per second: 1056\n"
     ]
    },
    {
     "name": "stderr",
     "output_type": "stream",
     "text": [
      "[I 2024-12-24 11:35:29,577] Trial 281 finished with value: 0.021745069643720867 and parameters: {'topK': 27, 'alpha': 0.4398874532728211, 'beta': 0.26445772811501844, 'normalize_similarity': True, 'implicit': False}. Best is trial 94 with value: 0.023107177974434116.\n"
     ]
    },
    {
     "name": "stdout",
     "output_type": "stream",
     "text": [
      "RP3betaRecommender: Similarity column 38121 (100.0%), 698.04 column/sec. Elapsed time 54.61 sec\n",
      "EvaluatorHoldout: Processed 35595 (100.0%) in 34.17 sec. Users per second: 1042\n"
     ]
    },
    {
     "name": "stderr",
     "output_type": "stream",
     "text": [
      "[I 2024-12-24 11:37:00,686] Trial 282 finished with value: 0.018733489856119438 and parameters: {'topK': 54, 'alpha': 0.22085348476624278, 'beta': 0.18609258642491924, 'normalize_similarity': True, 'implicit': False}. Best is trial 94 with value: 0.023107177974434116.\n"
     ]
    },
    {
     "name": "stdout",
     "output_type": "stream",
     "text": [
      "RP3betaRecommender: Similarity column 38121 (100.0%), 715.99 column/sec. Elapsed time 53.24 sec\n",
      "EvaluatorHoldout: Processed 35595 (100.0%) in 34.31 sec. Users per second: 1037\n"
     ]
    },
    {
     "name": "stderr",
     "output_type": "stream",
     "text": [
      "[I 2024-12-24 11:38:30,220] Trial 283 finished with value: 0.021585786526999873 and parameters: {'topK': 28, 'alpha': 0.4610404068324349, 'beta': 0.2598016429797425, 'normalize_similarity': True, 'implicit': False}. Best is trial 94 with value: 0.023107177974434116.\n"
     ]
    },
    {
     "name": "stdout",
     "output_type": "stream",
     "text": [
      "RP3betaRecommender: Similarity column 38121 (100.0%), 675.14 column/sec. Elapsed time 56.46 sec\n",
      "EvaluatorHoldout: Processed 35595 (100.0%) in 36.06 sec. Users per second: 987\n"
     ]
    },
    {
     "name": "stderr",
     "output_type": "stream",
     "text": [
      "[I 2024-12-24 11:40:06,260] Trial 284 finished with value: 0.019941170175051297 and parameters: {'topK': 82, 'alpha': 0.4855530995941967, 'beta': 0.24176260956369697, 'normalize_similarity': True, 'implicit': False}. Best is trial 94 with value: 0.023107177974434116.\n"
     ]
    },
    {
     "name": "stdout",
     "output_type": "stream",
     "text": [
      "RP3betaRecommender: Similarity column 38121 (100.0%), 710.59 column/sec. Elapsed time 53.65 sec\n",
      "EvaluatorHoldout: Processed 35595 (100.0%) in 34.85 sec. Users per second: 1021\n"
     ]
    },
    {
     "name": "stderr",
     "output_type": "stream",
     "text": [
      "[I 2024-12-24 11:41:36,821] Trial 285 finished with value: 0.022133459086682662 and parameters: {'topK': 24, 'alpha': 0.44341268072018203, 'beta': 0.3275463944168449, 'normalize_similarity': True, 'implicit': False}. Best is trial 94 with value: 0.023107177974434116.\n"
     ]
    },
    {
     "name": "stdout",
     "output_type": "stream",
     "text": [
      "RP3betaRecommender: Similarity column 38121 (100.0%), 1023.62 column/sec. Elapsed time 37.24 sec\n",
      "EvaluatorHoldout: Processed 35595 (100.0%) in 26.03 sec. Users per second: 1367\n"
     ]
    },
    {
     "name": "stderr",
     "output_type": "stream",
     "text": [
      "[I 2024-12-24 11:42:40,760] Trial 286 finished with value: 0.00028209999175022335 and parameters: {'topK': 0, 'alpha': 0.44949632152369623, 'beta': 0.3041605569650029, 'normalize_similarity': True, 'implicit': False}. Best is trial 94 with value: 0.023107177974434116.\n"
     ]
    },
    {
     "name": "stdout",
     "output_type": "stream",
     "text": [
      "RP3betaRecommender: Similarity column 38121 (100.0%), 686.28 column/sec. Elapsed time 55.55 sec\n",
      "EvaluatorHoldout: Processed 35595 (100.0%) in 34.93 sec. Users per second: 1019\n"
     ]
    },
    {
     "name": "stderr",
     "output_type": "stream",
     "text": [
      "[I 2024-12-24 11:44:13,775] Trial 287 finished with value: 0.020073122005275244 and parameters: {'topK': 55, 'alpha': 0.38043492722719663, 'beta': 0.19047316510640655, 'normalize_similarity': True, 'implicit': False}. Best is trial 94 with value: 0.023107177974434116.\n"
     ]
    },
    {
     "name": "stdout",
     "output_type": "stream",
     "text": [
      "RP3betaRecommender: Similarity column 38121 (100.0%), 639.29 column/sec. Elapsed time 59.63 sec\n",
      "EvaluatorHoldout: Processed 35595 (100.0%) in 38.64 sec. Users per second: 921\n"
     ]
    },
    {
     "name": "stderr",
     "output_type": "stream",
     "text": [
      "[I 2024-12-24 11:45:57,708] Trial 288 finished with value: 0.01978276666287606 and parameters: {'topK': 142, 'alpha': 0.4507762067529953, 'beta': 0.33088867735322114, 'normalize_similarity': True, 'implicit': False}. Best is trial 94 with value: 0.023107177974434116.\n"
     ]
    },
    {
     "name": "stdout",
     "output_type": "stream",
     "text": [
      "RP3betaRecommender: Similarity column 38121 (100.0%), 704.43 column/sec. Elapsed time 54.12 sec\n",
      "EvaluatorHoldout: Processed 35595 (100.0%) in 34.82 sec. Users per second: 1022\n"
     ]
    },
    {
     "name": "stderr",
     "output_type": "stream",
     "text": [
      "[I 2024-12-24 11:47:28,731] Trial 289 finished with value: 0.02152837923107602 and parameters: {'topK': 29, 'alpha': 0.3931074484816677, 'beta': 0.24758948647511828, 'normalize_similarity': True, 'implicit': False}. Best is trial 94 with value: 0.023107177974434116.\n"
     ]
    },
    {
     "name": "stdout",
     "output_type": "stream",
     "text": [
      "RP3betaRecommender: Similarity column 38121 (100.0%), 651.45 column/sec. Elapsed time 58.52 sec\n",
      "EvaluatorHoldout: Processed 35595 (100.0%) in 39.71 sec. Users per second: 896\n"
     ]
    },
    {
     "name": "stderr",
     "output_type": "stream",
     "text": [
      "[I 2024-12-24 11:49:11,696] Trial 290 finished with value: 0.019903580180023438 and parameters: {'topK': 108, 'alpha': 0.34241133298880916, 'beta': 0.35521699496717485, 'normalize_similarity': True, 'implicit': False}. Best is trial 94 with value: 0.023107177974434116.\n"
     ]
    },
    {
     "name": "stdout",
     "output_type": "stream",
     "text": [
      "RP3betaRecommender: Similarity column 38121 (100.0%), 654.02 column/sec. Elapsed time 58.29 sec\n",
      "EvaluatorHoldout: Processed 35595 (100.0%) in 35.80 sec. Users per second: 994\n"
     ]
    },
    {
     "name": "stderr",
     "output_type": "stream",
     "text": [
      "[I 2024-12-24 11:50:48,906] Trial 291 finished with value: 0.020423436500132484 and parameters: {'topK': 62, 'alpha': 0.44921155050972933, 'beta': 0.25492256749362585, 'normalize_similarity': True, 'implicit': False}. Best is trial 94 with value: 0.023107177974434116.\n"
     ]
    },
    {
     "name": "stdout",
     "output_type": "stream",
     "text": [
      "RP3betaRecommender: Similarity column 38121 (100.0%), 711.53 column/sec. Elapsed time 53.58 sec\n",
      "EvaluatorHoldout: Processed 35595 (100.0%) in 33.93 sec. Users per second: 1049\n"
     ]
    },
    {
     "name": "stderr",
     "output_type": "stream",
     "text": [
      "[I 2024-12-24 11:52:18,213] Trial 292 finished with value: 0.021110788923894494 and parameters: {'topK': 27, 'alpha': 0.397069736935775, 'beta': 0.18143058530598677, 'normalize_similarity': True, 'implicit': False}. Best is trial 94 with value: 0.023107177974434116.\n"
     ]
    },
    {
     "name": "stdout",
     "output_type": "stream",
     "text": [
      "RP3betaRecommender: Similarity column 38121 (100.0%), 658.22 column/sec. Elapsed time 57.92 sec\n",
      "EvaluatorHoldout: Processed 35595 (100.0%) in 40.46 sec. Users per second: 880\n"
     ]
    },
    {
     "name": "stderr",
     "output_type": "stream",
     "text": [
      "[I 2024-12-24 11:54:00,567] Trial 293 finished with value: 0.019294762283805663 and parameters: {'topK': 87, 'alpha': 0.26245317268295887, 'beta': 0.3163350301161495, 'normalize_similarity': True, 'implicit': False}. Best is trial 94 with value: 0.023107177974434116.\n"
     ]
    },
    {
     "name": "stdout",
     "output_type": "stream",
     "text": [
      "RP3betaRecommender: Similarity column 38121 (100.0%), 670.67 column/sec. Elapsed time 56.84 sec\n",
      "EvaluatorHoldout: Processed 35595 (100.0%) in 35.91 sec. Users per second: 991\n"
     ]
    },
    {
     "name": "stderr",
     "output_type": "stream",
     "text": [
      "[I 2024-12-24 11:55:36,321] Trial 294 finished with value: 0.02102171363465059 and parameters: {'topK': 50, 'alpha': 0.46928892351121654, 'beta': 0.37712856580848375, 'normalize_similarity': True, 'implicit': False}. Best is trial 94 with value: 0.023107177974434116.\n"
     ]
    },
    {
     "name": "stdout",
     "output_type": "stream",
     "text": [
      "RP3betaRecommender: Similarity column 38121 (100.0%), 713.40 column/sec. Elapsed time 53.44 sec\n",
      "EvaluatorHoldout: Processed 35595 (100.0%) in 33.91 sec. Users per second: 1050\n"
     ]
    },
    {
     "name": "stderr",
     "output_type": "stream",
     "text": [
      "[I 2024-12-24 11:57:05,507] Trial 295 finished with value: 0.021811551693767896 and parameters: {'topK': 24, 'alpha': 0.3423874205829398, 'beta': 0.2734240701711701, 'normalize_similarity': True, 'implicit': False}. Best is trial 94 with value: 0.023107177974434116.\n"
     ]
    },
    {
     "name": "stdout",
     "output_type": "stream",
     "text": [
      "RP3betaRecommender: Similarity column 38121 (100.0%), 683.85 column/sec. Elapsed time 55.74 sec\n",
      "EvaluatorHoldout: Processed 35595 (100.0%) in 35.89 sec. Users per second: 992\n"
     ]
    },
    {
     "name": "stderr",
     "output_type": "stream",
     "text": [
      "[I 2024-12-24 11:58:39,901] Trial 296 finished with value: 0.02039260574764144 and parameters: {'topK': 57, 'alpha': 0.35989418794480277, 'beta': 0.24440952881883532, 'normalize_similarity': True, 'implicit': False}. Best is trial 94 with value: 0.023107177974434116.\n"
     ]
    },
    {
     "name": "stdout",
     "output_type": "stream",
     "text": [
      "RP3betaRecommender: Similarity column 38121 (100.0%), 687.26 column/sec. Elapsed time 55.47 sec\n",
      "EvaluatorHoldout: Processed 35595 (100.0%) in 37.35 sec. Users per second: 953\n"
     ]
    },
    {
     "name": "stderr",
     "output_type": "stream",
     "text": [
      "[I 2024-12-24 12:00:15,022] Trial 297 finished with value: 0.022112850253178738 and parameters: {'topK': 22, 'alpha': 0.4463781736780132, 'beta': 0.4033928476244954, 'normalize_similarity': True, 'implicit': True}. Best is trial 94 with value: 0.023107177974434116.\n"
     ]
    },
    {
     "name": "stdout",
     "output_type": "stream",
     "text": [
      "RP3betaRecommender: Similarity column 38121 (100.0%), 725.96 column/sec. Elapsed time 52.51 sec\n",
      "EvaluatorHoldout: Processed 35595 (100.0%) in 30.50 sec. Users per second: 1167\n"
     ]
    },
    {
     "name": "stderr",
     "output_type": "stream",
     "text": [
      "[I 2024-12-24 12:01:39,409] Trial 298 finished with value: 0.02149438792232692 and parameters: {'topK': 4, 'alpha': 0.40738544575783386, 'beta': 0.17284194657581242, 'normalize_similarity': True, 'implicit': True}. Best is trial 94 with value: 0.023107177974434116.\n"
     ]
    },
    {
     "name": "stdout",
     "output_type": "stream",
     "text": [
      "RP3betaRecommender: Similarity column 38121 (100.0%), 675.71 column/sec. Elapsed time 56.42 sec\n",
      "EvaluatorHoldout: Processed 35595 (100.0%) in 35.62 sec. Users per second: 999\n"
     ]
    },
    {
     "name": "stderr",
     "output_type": "stream",
     "text": [
      "[I 2024-12-24 12:03:14,831] Trial 299 finished with value: 0.016499579707333793 and parameters: {'topK': 81, 'alpha': 0.3251961762101213, 'beta': 0.26269057261378737, 'normalize_similarity': False, 'implicit': True}. Best is trial 94 with value: 0.023107177974434116.\n"
     ]
    },
    {
     "name": "stdout",
     "output_type": "stream",
     "text": [
      "RP3betaRecommender: Similarity column 38121 (100.0%), 1033.75 column/sec. Elapsed time 36.88 sec\n",
      "EvaluatorHoldout: Processed 35595 (100.0%) in 24.85 sec. Users per second: 1432\n"
     ]
    },
    {
     "name": "stderr",
     "output_type": "stream",
     "text": [
      "[I 2024-12-24 12:04:17,214] Trial 300 finished with value: 0.00028209999175022335 and parameters: {'topK': 0, 'alpha': 0.4219238893823191, 'beta': 0.4268003634532152, 'normalize_similarity': True, 'implicit': True}. Best is trial 94 with value: 0.023107177974434116.\n"
     ]
    },
    {
     "name": "stdout",
     "output_type": "stream",
     "text": [
      "RP3betaRecommender: Similarity column 38121 (100.0%), 706.08 column/sec. Elapsed time 53.99 sec\n",
      "EvaluatorHoldout: Processed 35595 (100.0%) in 34.94 sec. Users per second: 1019\n"
     ]
    },
    {
     "name": "stderr",
     "output_type": "stream",
     "text": [
      "[I 2024-12-24 12:05:48,957] Trial 301 finished with value: 0.021062042778435305 and parameters: {'topK': 50, 'alpha': 0.4823325236083671, 'beta': 0.34067546751996985, 'normalize_similarity': True, 'implicit': True}. Best is trial 94 with value: 0.023107177974434116.\n"
     ]
    },
    {
     "name": "stdout",
     "output_type": "stream",
     "text": [
      "RP3betaRecommender: Similarity column 38121 (100.0%), 724.32 column/sec. Elapsed time 52.63 sec\n",
      "EvaluatorHoldout: Processed 35595 (100.0%) in 33.66 sec. Users per second: 1057\n"
     ]
    },
    {
     "name": "stderr",
     "output_type": "stream",
     "text": [
      "[I 2024-12-24 12:07:17,257] Trial 302 finished with value: 0.021956804616307033 and parameters: {'topK': 27, 'alpha': 0.35427648958851243, 'beta': 0.39509595370276385, 'normalize_similarity': True, 'implicit': True}. Best is trial 94 with value: 0.023107177974434116.\n"
     ]
    },
    {
     "name": "stdout",
     "output_type": "stream",
     "text": [
      "RP3betaRecommender: Similarity column 38121 (100.0%), 662.27 column/sec. Elapsed time 57.56 sec\n",
      "EvaluatorHoldout: Processed 35595 (100.0%) in 36.38 sec. Users per second: 978\n"
     ]
    },
    {
     "name": "stderr",
     "output_type": "stream",
     "text": [
      "[I 2024-12-24 12:08:55,612] Trial 303 finished with value: 0.016054330352265722 and parameters: {'topK': 121, 'alpha': 0.16026825489228722, 'beta': 0.6100573301542034, 'normalize_similarity': True, 'implicit': True}. Best is trial 94 with value: 0.023107177974434116.\n"
     ]
    },
    {
     "name": "stdout",
     "output_type": "stream",
     "text": [
      "RP3betaRecommender: Similarity column 38121 (100.0%), 1039.70 column/sec. Elapsed time 36.67 sec\n",
      "EvaluatorHoldout: Processed 35595 (100.0%) in 24.78 sec. Users per second: 1436\n"
     ]
    },
    {
     "name": "stderr",
     "output_type": "stream",
     "text": [
      "[I 2024-12-24 12:09:57,662] Trial 304 finished with value: 0.00028209999175022335 and parameters: {'topK': 0, 'alpha': 0.3514017695147076, 'beta': 0.4122204567926285, 'normalize_similarity': True, 'implicit': True}. Best is trial 94 with value: 0.023107177974434116.\n"
     ]
    },
    {
     "name": "stdout",
     "output_type": "stream",
     "text": [
      "RP3betaRecommender: Similarity column 38121 (100.0%), 738.43 column/sec. Elapsed time 51.62 sec\n",
      "EvaluatorHoldout: Processed 35595 (100.0%) in 30.13 sec. Users per second: 1181\n"
     ]
    },
    {
     "name": "stderr",
     "output_type": "stream",
     "text": [
      "[I 2024-12-24 12:11:20,932] Trial 305 finished with value: 0.0010874164152714577 and parameters: {'topK': 72, 'alpha': 0.328604736589025, 'beta': 2.3408159563884876, 'normalize_similarity': True, 'implicit': True}. Best is trial 94 with value: 0.023107177974434116.\n"
     ]
    },
    {
     "name": "stdout",
     "output_type": "stream",
     "text": [
      "RP3betaRecommender: Similarity column 38121 (100.0%), 726.28 column/sec. Elapsed time 52.49 sec\n",
      "EvaluatorHoldout: Processed 35595 (100.0%) in 35.16 sec. Users per second: 1012\n"
     ]
    },
    {
     "name": "stderr",
     "output_type": "stream",
     "text": [
      "[I 2024-12-24 12:12:50,993] Trial 306 finished with value: 0.009759837858447381 and parameters: {'topK': 38, 'alpha': 1.2654422786215604, 'beta': 1.0347322737523537, 'normalize_similarity': True, 'implicit': True}. Best is trial 94 with value: 0.023107177974434116.\n"
     ]
    },
    {
     "name": "stdout",
     "output_type": "stream",
     "text": [
      "RP3betaRecommender: Similarity column 38121 (100.0%), 668.09 column/sec. Elapsed time 57.06 sec\n",
      "EvaluatorHoldout: Processed 35595 (100.0%) in 36.54 sec. Users per second: 974\n"
     ]
    },
    {
     "name": "stderr",
     "output_type": "stream",
     "text": [
      "[I 2024-12-24 12:14:28,734] Trial 307 finished with value: 0.019320364461746693 and parameters: {'topK': 100, 'alpha': 0.27211050049615937, 'beta': 0.37964238007518963, 'normalize_similarity': True, 'implicit': True}. Best is trial 94 with value: 0.023107177974434116.\n"
     ]
    },
    {
     "name": "stdout",
     "output_type": "stream",
     "text": [
      "RP3betaRecommender: Similarity column 38121 (100.0%), 682.77 column/sec. Elapsed time 55.83 sec\n",
      "EvaluatorHoldout: Processed 35595 (100.0%) in 35.35 sec. Users per second: 1007\n"
     ]
    },
    {
     "name": "stderr",
     "output_type": "stream",
     "text": [
      "[I 2024-12-24 12:16:02,967] Trial 308 finished with value: 0.020826160487137903 and parameters: {'topK': 53, 'alpha': 0.386986595655755, 'beta': 0.4615814680738768, 'normalize_similarity': True, 'implicit': True}. Best is trial 94 with value: 0.023107177974434116.\n"
     ]
    },
    {
     "name": "stdout",
     "output_type": "stream",
     "text": [
      "RP3betaRecommender: Similarity column 38121 (100.0%), 714.86 column/sec. Elapsed time 53.33 sec\n",
      "EvaluatorHoldout: Processed 35595 (100.0%) in 33.45 sec. Users per second: 1064\n"
     ]
    },
    {
     "name": "stderr",
     "output_type": "stream",
     "text": [
      "[I 2024-12-24 12:17:31,651] Trial 309 finished with value: 0.020859353574271183 and parameters: {'topK': 26, 'alpha': 0.2127066595496574, 'beta': 0.32168128671682056, 'normalize_similarity': True, 'implicit': True}. Best is trial 94 with value: 0.023107177974434116.\n"
     ]
    },
    {
     "name": "stdout",
     "output_type": "stream",
     "text": [
      "RP3betaRecommender: Similarity column 38121 (100.0%), 680.77 column/sec. Elapsed time 56.00 sec\n",
      "EvaluatorHoldout: Processed 35595 (100.0%) in 36.36 sec. Users per second: 979\n"
     ]
    },
    {
     "name": "stderr",
     "output_type": "stream",
     "text": [
      "[I 2024-12-24 12:19:07,735] Trial 310 finished with value: 0.020499335558543084 and parameters: {'topK': 78, 'alpha': 0.405038242285066, 'beta': 0.3921658725105445, 'normalize_similarity': True, 'implicit': True}. Best is trial 94 with value: 0.023107177974434116.\n"
     ]
    },
    {
     "name": "stdout",
     "output_type": "stream",
     "text": [
      "RP3betaRecommender: Similarity column 38121 (100.0%), 714.17 column/sec. Elapsed time 53.38 sec\n",
      "EvaluatorHoldout: Processed 35595 (100.0%) in 33.43 sec. Users per second: 1065\n"
     ]
    },
    {
     "name": "stderr",
     "output_type": "stream",
     "text": [
      "[I 2024-12-24 12:20:36,470] Trial 311 finished with value: 0.02189519773822318 and parameters: {'topK': 22, 'alpha': 0.3233728430674642, 'beta': 0.4548283611163519, 'normalize_similarity': True, 'implicit': True}. Best is trial 94 with value: 0.023107177974434116.\n"
     ]
    },
    {
     "name": "stdout",
     "output_type": "stream",
     "text": [
      "RP3betaRecommender: Similarity column 38121 (100.0%), 691.77 column/sec. Elapsed time 55.11 sec\n",
      "EvaluatorHoldout: Processed 35595 (100.0%) in 35.93 sec. Users per second: 991\n"
     ]
    },
    {
     "name": "stderr",
     "output_type": "stream",
     "text": [
      "[I 2024-12-24 12:22:10,363] Trial 312 finished with value: 0.019841136061110615 and parameters: {'topK': 52, 'alpha': 0.29080249956138216, 'beta': 0.5581441984846446, 'normalize_similarity': True, 'implicit': True}. Best is trial 94 with value: 0.023107177974434116.\n"
     ]
    },
    {
     "name": "stdout",
     "output_type": "stream",
     "text": [
      "RP3betaRecommender: Similarity column 38121 (100.0%), 713.02 column/sec. Elapsed time 53.46 sec\n",
      "EvaluatorHoldout: Processed 35595 (100.0%) in 34.62 sec. Users per second: 1028\n"
     ]
    },
    {
     "name": "stderr",
     "output_type": "stream",
     "text": [
      "[I 2024-12-24 12:23:40,609] Trial 313 finished with value: 0.014979306439062322 and parameters: {'topK': 25, 'alpha': 1.0640378160183896, 'beta': 0.45970000547418965, 'normalize_similarity': True, 'implicit': True}. Best is trial 94 with value: 0.023107177974434116.\n"
     ]
    },
    {
     "name": "stdout",
     "output_type": "stream",
     "text": [
      "RP3betaRecommender: Similarity column 38121 (100.0%), 665.00 column/sec. Elapsed time 57.32 sec\n",
      "EvaluatorHoldout: Processed 35595 (100.0%) in 36.72 sec. Users per second: 969\n"
     ]
    },
    {
     "name": "stderr",
     "output_type": "stream",
     "text": [
      "[I 2024-12-24 12:25:18,906] Trial 314 finished with value: 0.018683787182522924 and parameters: {'topK': 101, 'alpha': 0.234189289490256, 'beta': 0.5113223707433329, 'normalize_similarity': True, 'implicit': True}. Best is trial 94 with value: 0.023107177974434116.\n"
     ]
    },
    {
     "name": "stdout",
     "output_type": "stream",
     "text": [
      "RP3betaRecommender: Similarity column 38121 (100.0%), 855.90 column/sec. Elapsed time 44.54 sec\n",
      "EvaluatorHoldout: Processed 35595 (100.0%) in 29.06 sec. Users per second: 1225\n"
     ]
    },
    {
     "name": "stderr",
     "output_type": "stream",
     "text": [
      "[I 2024-12-24 12:26:33,736] Trial 315 finished with value: 0.017828239653777084 and parameters: {'topK': 2, 'alpha': 0.3453427028584161, 'beta': 0.42241754029264283, 'normalize_similarity': True, 'implicit': True}. Best is trial 94 with value: 0.023107177974434116.\n"
     ]
    },
    {
     "name": "stdout",
     "output_type": "stream",
     "text": [
      "RP3betaRecommender: Similarity column 38121 (100.0%), 727.45 column/sec. Elapsed time 52.40 sec\n",
      "EvaluatorHoldout: Processed 35595 (100.0%) in 32.34 sec. Users per second: 1101\n"
     ]
    },
    {
     "name": "stderr",
     "output_type": "stream",
     "text": [
      "[I 2024-12-24 12:28:00,082] Trial 316 finished with value: 0.0015668577493271984 and parameters: {'topK': 60, 'alpha': 0.31777966181976036, 'beta': 1.9142795006583584, 'normalize_similarity': True, 'implicit': True}. Best is trial 94 with value: 0.023107177974434116.\n"
     ]
    },
    {
     "name": "stdout",
     "output_type": "stream",
     "text": [
      "RP3betaRecommender: Similarity column 38121 (100.0%), 719.27 column/sec. Elapsed time 53.00 sec\n",
      "EvaluatorHoldout: Processed 35595 (100.0%) in 33.96 sec. Users per second: 1048\n"
     ]
    },
    {
     "name": "stderr",
     "output_type": "stream",
     "text": [
      "[I 2024-12-24 12:29:29,134] Trial 317 finished with value: 0.02202120081070745 and parameters: {'topK': 27, 'alpha': 0.41296617468374447, 'beta': 0.3476674651350129, 'normalize_similarity': True, 'implicit': True}. Best is trial 94 with value: 0.023107177974434116.\n"
     ]
    },
    {
     "name": "stdout",
     "output_type": "stream",
     "text": [
      "RP3betaRecommender: Similarity column 38121 (100.0%), 691.11 column/sec. Elapsed time 55.16 sec\n",
      "EvaluatorHoldout: Processed 35595 (100.0%) in 35.82 sec. Users per second: 994\n"
     ]
    },
    {
     "name": "stderr",
     "output_type": "stream",
     "text": [
      "[I 2024-12-24 12:31:03,625] Trial 318 finished with value: 0.02078896402874466 and parameters: {'topK': 69, 'alpha': 0.44308386553689405, 'beta': 0.3639103874012487, 'normalize_similarity': True, 'implicit': True}. Best is trial 94 with value: 0.023107177974434116.\n"
     ]
    },
    {
     "name": "stdout",
     "output_type": "stream",
     "text": [
      "RP3betaRecommender: Similarity column 38121 (100.0%), 1033.59 column/sec. Elapsed time 36.88 sec\n",
      "EvaluatorHoldout: Processed 35595 (100.0%) in 25.38 sec. Users per second: 1403\n"
     ]
    },
    {
     "name": "stderr",
     "output_type": "stream",
     "text": [
      "[I 2024-12-24 12:32:06,524] Trial 319 finished with value: 0.00028209999175022335 and parameters: {'topK': 0, 'alpha': 0.3650883033558698, 'beta': 0.46113515427367474, 'normalize_similarity': False, 'implicit': True}. Best is trial 94 with value: 0.023107177974434116.\n"
     ]
    },
    {
     "name": "stdout",
     "output_type": "stream",
     "text": [
      "RP3betaRecommender: Similarity column 38121 (100.0%), 643.25 column/sec. Elapsed time 59.26 sec\n",
      "EvaluatorHoldout: Processed 35595 (100.0%) in 39.95 sec. Users per second: 891\n"
     ]
    },
    {
     "name": "stderr",
     "output_type": "stream",
     "text": [
      "[I 2024-12-24 12:33:51,716] Trial 320 finished with value: 0.019897497642124465 and parameters: {'topK': 138, 'alpha': 0.4333928036755388, 'beta': 0.39399161975973573, 'normalize_similarity': True, 'implicit': True}. Best is trial 94 with value: 0.023107177974434116.\n"
     ]
    },
    {
     "name": "stdout",
     "output_type": "stream",
     "text": [
      "RP3betaRecommender: Similarity column 38121 (100.0%), 702.20 column/sec. Elapsed time 54.29 sec\n",
      "EvaluatorHoldout: Processed 35595 (100.0%) in 34.66 sec. Users per second: 1027\n"
     ]
    },
    {
     "name": "stderr",
     "output_type": "stream",
     "text": [
      "[I 2024-12-24 12:35:23,040] Trial 321 finished with value: 0.018946524725917912 and parameters: {'topK': 45, 'alpha': 0.14381907808975203, 'beta': 0.3313864132848723, 'normalize_similarity': True, 'implicit': True}. Best is trial 94 with value: 0.023107177974434116.\n"
     ]
    },
    {
     "name": "stdout",
     "output_type": "stream",
     "text": [
      "RP3betaRecommender: Similarity column 38121 (100.0%), 675.33 column/sec. Elapsed time 56.45 sec\n",
      "EvaluatorHoldout: Processed 35595 (100.0%) in 36.73 sec. Users per second: 969\n"
     ]
    },
    {
     "name": "stderr",
     "output_type": "stream",
     "text": [
      "[I 2024-12-24 12:37:00,380] Trial 322 finished with value: 0.019331088056330274 and parameters: {'topK': 91, 'alpha': 0.2772817138205797, 'beta': 0.5215653939954641, 'normalize_similarity': True, 'implicit': True}. Best is trial 94 with value: 0.023107177974434116.\n"
     ]
    },
    {
     "name": "stdout",
     "output_type": "stream",
     "text": [
      "RP3betaRecommender: Similarity column 38121 (100.0%), 717.95 column/sec. Elapsed time 53.10 sec\n",
      "EvaluatorHoldout: Processed 35595 (100.0%) in 34.58 sec. Users per second: 1029\n"
     ]
    },
    {
     "name": "stderr",
     "output_type": "stream",
     "text": [
      "[I 2024-12-24 12:38:30,387] Trial 323 finished with value: 0.009662253036252351 and parameters: {'topK': 29, 'alpha': 2.288909680197233, 'beta': 0.4282202779691491, 'normalize_similarity': True, 'implicit': True}. Best is trial 94 with value: 0.023107177974434116.\n"
     ]
    },
    {
     "name": "stdout",
     "output_type": "stream",
     "text": [
      "RP3betaRecommender: Similarity column 38121 (100.0%), 692.39 column/sec. Elapsed time 55.06 sec\n",
      "EvaluatorHoldout: Processed 35595 (100.0%) in 36.58 sec. Users per second: 973\n"
     ]
    },
    {
     "name": "stderr",
     "output_type": "stream",
     "text": [
      "[I 2024-12-24 12:40:05,172] Trial 324 finished with value: 0.02081506788228219 and parameters: {'topK': 54, 'alpha': 0.4986610103675741, 'beta': 0.3250622877874864, 'normalize_similarity': True, 'implicit': True}. Best is trial 94 with value: 0.023107177974434116.\n"
     ]
    },
    {
     "name": "stdout",
     "output_type": "stream",
     "text": [
      "RP3betaRecommender: Similarity column 38121 (100.0%), 490.64 column/sec. Elapsed time 1.29 min\n",
      "EvaluatorHoldout: Processed 35595 (100.0%) in 45.83 sec. Users per second: 777\n"
     ]
    },
    {
     "name": "stderr",
     "output_type": "stream",
     "text": [
      "[I 2024-12-24 12:42:25,735] Trial 325 finished with value: 0.018419242492146003 and parameters: {'topK': 431, 'alpha': 0.40940952490936655, 'beta': 0.3913753472379546, 'normalize_similarity': True, 'implicit': True}. Best is trial 94 with value: 0.023107177974434116.\n"
     ]
    },
    {
     "name": "stdout",
     "output_type": "stream",
     "text": [
      "RP3betaRecommender: Similarity column 38121 (100.0%), 954.27 column/sec. Elapsed time 39.95 sec\n",
      "EvaluatorHoldout: Processed 35595 (100.0%) in 28.33 sec. Users per second: 1256\n"
     ]
    },
    {
     "name": "stderr",
     "output_type": "stream",
     "text": [
      "[I 2024-12-24 12:43:35,232] Trial 326 finished with value: 0.005006934271578228 and parameters: {'topK': 1, 'alpha': 1.4411877910633923, 'beta': 0.4541074160949888, 'normalize_similarity': True, 'implicit': True}. Best is trial 94 with value: 0.023107177974434116.\n"
     ]
    },
    {
     "name": "stdout",
     "output_type": "stream",
     "text": [
      "RP3betaRecommender: Similarity column 38121 (100.0%), 741.89 column/sec. Elapsed time 51.38 sec\n",
      "EvaluatorHoldout: Processed 35595 (100.0%) in 29.96 sec. Users per second: 1188\n"
     ]
    },
    {
     "name": "stderr",
     "output_type": "stream",
     "text": [
      "[I 2024-12-24 12:44:57,904] Trial 327 finished with value: 0.0039622394352693425 and parameters: {'topK': 30, 'alpha': 0.3036111953042615, 'beta': 1.3805453133174364, 'normalize_similarity': True, 'implicit': False}. Best is trial 94 with value: 0.023107177974434116.\n"
     ]
    },
    {
     "name": "stdout",
     "output_type": "stream",
     "text": [
      "RP3betaRecommender: Similarity column 38121 (100.0%), 686.52 column/sec. Elapsed time 55.53 sec\n",
      "EvaluatorHoldout: Processed 35595 (100.0%) in 37.02 sec. Users per second: 962\n"
     ]
    },
    {
     "name": "stderr",
     "output_type": "stream",
     "text": [
      "[I 2024-12-24 12:46:34,297] Trial 328 finished with value: 0.01959923589232468 and parameters: {'topK': 75, 'alpha': 0.6099349452033026, 'beta': 0.30657618655358065, 'normalize_similarity': True, 'implicit': False}. Best is trial 94 with value: 0.023107177974434116.\n"
     ]
    },
    {
     "name": "stdout",
     "output_type": "stream",
     "text": [
      "RP3betaRecommender: Similarity column 38121 (100.0%), 658.05 column/sec. Elapsed time 57.93 sec\n",
      "EvaluatorHoldout: Processed 35595 (100.0%) in 37.52 sec. Users per second: 949\n"
     ]
    },
    {
     "name": "stderr",
     "output_type": "stream",
     "text": [
      "[I 2024-12-24 12:48:14,667] Trial 329 finished with value: 0.017939734268010824 and parameters: {'topK': 119, 'alpha': 0.3582943470817003, 'beta': 0.6204757144859082, 'normalize_similarity': True, 'implicit': False}. Best is trial 94 with value: 0.023107177974434116.\n"
     ]
    },
    {
     "name": "stdout",
     "output_type": "stream",
     "text": [
      "RP3betaRecommender: Similarity column 38121 (100.0%), 703.20 column/sec. Elapsed time 54.21 sec\n",
      "EvaluatorHoldout: Processed 35595 (100.0%) in 35.48 sec. Users per second: 1003\n"
     ]
    },
    {
     "name": "stderr",
     "output_type": "stream",
     "text": [
      "[I 2024-12-24 12:49:47,183] Trial 330 finished with value: 0.020440619446729744 and parameters: {'topK': 43, 'alpha': 0.568584201672881, 'beta': 0.3706661965994503, 'normalize_similarity': True, 'implicit': False}. Best is trial 94 with value: 0.023107177974434116.\n"
     ]
    },
    {
     "name": "stdout",
     "output_type": "stream",
     "text": [
      "RP3betaRecommender: Similarity column 38121 (100.0%), 1032.37 column/sec. Elapsed time 36.93 sec\n",
      "EvaluatorHoldout: Processed 35595 (100.0%) in 25.52 sec. Users per second: 1395\n"
     ]
    },
    {
     "name": "stderr",
     "output_type": "stream",
     "text": [
      "[I 2024-12-24 12:50:50,261] Trial 331 finished with value: 0.00028209999175022335 and parameters: {'topK': 0, 'alpha': 0.21872918242683892, 'beta': 0.5283015754277498, 'normalize_similarity': True, 'implicit': False}. Best is trial 94 with value: 0.023107177974434116.\n"
     ]
    },
    {
     "name": "stdout",
     "output_type": "stream",
     "text": [
      "RP3betaRecommender: Similarity column 38121 (100.0%), 723.45 column/sec. Elapsed time 52.69 sec\n",
      "EvaluatorHoldout: Processed 35595 (100.0%) in 32.12 sec. Users per second: 1108\n"
     ]
    },
    {
     "name": "stderr",
     "output_type": "stream",
     "text": [
      "[I 2024-12-24 12:52:16,934] Trial 332 finished with value: 0.0032111786700914106 and parameters: {'topK': 79, 'alpha': 0.45783213595732747, 'beta': 1.66860229421994, 'normalize_similarity': True, 'implicit': False}. Best is trial 94 with value: 0.023107177974434116.\n"
     ]
    },
    {
     "name": "stdout",
     "output_type": "stream",
     "text": [
      "RP3betaRecommender: Similarity column 38121 (100.0%), 717.81 column/sec. Elapsed time 53.11 sec\n",
      "EvaluatorHoldout: Processed 35595 (100.0%) in 34.01 sec. Users per second: 1047\n"
     ]
    },
    {
     "name": "stderr",
     "output_type": "stream",
     "text": [
      "[I 2024-12-24 12:53:46,051] Trial 333 finished with value: 0.021831098089841988 and parameters: {'topK': 28, 'alpha': 0.4031560465035088, 'beta': 0.2971109709558903, 'normalize_similarity': True, 'implicit': True}. Best is trial 94 with value: 0.023107177974434116.\n"
     ]
    },
    {
     "name": "stdout",
     "output_type": "stream",
     "text": [
      "RP3betaRecommender: Similarity column 38121 (100.0%), 697.88 column/sec. Elapsed time 54.62 sec\n",
      "EvaluatorHoldout: Processed 35595 (100.0%) in 35.31 sec. Users per second: 1008\n"
     ]
    },
    {
     "name": "stderr",
     "output_type": "stream",
     "text": [
      "[I 2024-12-24 12:55:18,587] Trial 334 finished with value: 0.020949272793351768 and parameters: {'topK': 49, 'alpha': 0.3574848927667598, 'beta': 0.31484858904886004, 'normalize_similarity': True, 'implicit': True}. Best is trial 94 with value: 0.023107177974434116.\n"
     ]
    },
    {
     "name": "stdout",
     "output_type": "stream",
     "text": [
      "RP3betaRecommender: Similarity column 38121 (100.0%), 701.92 column/sec. Elapsed time 54.31 sec\n",
      "EvaluatorHoldout: Processed 35595 (100.0%) in 34.63 sec. Users per second: 1028\n"
     ]
    },
    {
     "name": "stderr",
     "output_type": "stream",
     "text": [
      "[I 2024-12-24 12:56:49,472] Trial 335 finished with value: 0.02142727264619353 and parameters: {'topK': 27, 'alpha': 0.30593735524929966, 'beta': 0.2772003439053804, 'normalize_similarity': True, 'implicit': True}. Best is trial 94 with value: 0.023107177974434116.\n"
     ]
    },
    {
     "name": "stdout",
     "output_type": "stream",
     "text": [
      "RP3betaRecommender: Similarity column 38121 (100.0%), 653.55 column/sec. Elapsed time 58.33 sec\n",
      "EvaluatorHoldout: Processed 35595 (100.0%) in 38.19 sec. Users per second: 932\n"
     ]
    },
    {
     "name": "stderr",
     "output_type": "stream",
     "text": [
      "[I 2024-12-24 12:58:31,302] Trial 336 finished with value: 0.01122079857836313 and parameters: {'topK': 104, 'alpha': 1.7464713296426297, 'beta': 0.42611067580672524, 'normalize_similarity': True, 'implicit': True}. Best is trial 94 with value: 0.023107177974434116.\n"
     ]
    },
    {
     "name": "stdout",
     "output_type": "stream",
     "text": [
      "RP3betaRecommender: Similarity column 38121 (100.0%), 689.84 column/sec. Elapsed time 55.26 sec\n",
      "EvaluatorHoldout: Processed 35595 (100.0%) in 35.87 sec. Users per second: 992\n"
     ]
    },
    {
     "name": "stderr",
     "output_type": "stream",
     "text": [
      "[I 2024-12-24 13:00:04,749] Trial 337 finished with value: 0.011762784366450885 and parameters: {'topK': 69, 'alpha': 0.4144179810007891, 'beta': 0.9104296729365293, 'normalize_similarity': True, 'implicit': True}. Best is trial 94 with value: 0.023107177974434116.\n"
     ]
    },
    {
     "name": "stdout",
     "output_type": "stream",
     "text": [
      "RP3betaRecommender: Similarity column 38121 (100.0%), 707.11 column/sec. Elapsed time 53.91 sec\n",
      "EvaluatorHoldout: Processed 35595 (100.0%) in 33.74 sec. Users per second: 1055\n"
     ]
    },
    {
     "name": "stderr",
     "output_type": "stream",
     "text": [
      "[I 2024-12-24 13:01:34,291] Trial 338 finished with value: 0.021480045574440637 and parameters: {'topK': 23, 'alpha': 0.2503510426608693, 'beta': 0.3614502108575262, 'normalize_similarity': True, 'implicit': True}. Best is trial 94 with value: 0.023107177974434116.\n"
     ]
    },
    {
     "name": "stdout",
     "output_type": "stream",
     "text": [
      "RP3betaRecommender: Similarity column 38121 (100.0%), 1034.34 column/sec. Elapsed time 36.86 sec\n",
      "EvaluatorHoldout: Processed 35595 (100.0%) in 26.99 sec. Users per second: 1319\n"
     ]
    },
    {
     "name": "stderr",
     "output_type": "stream",
     "text": [
      "[I 2024-12-24 13:02:38,808] Trial 339 finished with value: 0.00028209999175022335 and parameters: {'topK': 0, 'alpha': 0.3797643898843206, 'beta': 0.4777504965509525, 'normalize_similarity': False, 'implicit': True}. Best is trial 94 with value: 0.023107177974434116.\n"
     ]
    },
    {
     "name": "stdout",
     "output_type": "stream",
     "text": [
      "RP3betaRecommender: Similarity column 38121 (100.0%), 435.87 column/sec. Elapsed time 1.46 min\n",
      "EvaluatorHoldout: Processed 35595 (100.0%) in 49.48 sec. Users per second: 719\n"
     ]
    },
    {
     "name": "stderr",
     "output_type": "stream",
     "text": [
      "[I 2024-12-24 13:05:19,026] Trial 340 finished with value: 0.01745826950904921 and parameters: {'topK': 627, 'alpha': 0.4989126409602973, 'beta': 0.2918888595527118, 'normalize_similarity': True, 'implicit': True}. Best is trial 94 with value: 0.023107177974434116.\n"
     ]
    },
    {
     "name": "stdout",
     "output_type": "stream",
     "text": [
      "RP3betaRecommender: Similarity column 38121 (100.0%), 703.87 column/sec. Elapsed time 54.16 sec\n",
      "EvaluatorHoldout: Processed 35595 (100.0%) in 34.89 sec. Users per second: 1020\n"
     ]
    },
    {
     "name": "stderr",
     "output_type": "stream",
     "text": [
      "[I 2024-12-24 13:06:50,610] Trial 341 finished with value: 0.020249534556529704 and parameters: {'topK': 53, 'alpha': 0.44026695512955133, 'beta': 0.20172695487998804, 'normalize_similarity': True, 'implicit': True}. Best is trial 94 with value: 0.023107177974434116.\n"
     ]
    },
    {
     "name": "stdout",
     "output_type": "stream",
     "text": [
      "RP3betaRecommender: Similarity column 38121 (100.0%), 716.33 column/sec. Elapsed time 53.22 sec\n",
      "EvaluatorHoldout: Processed 35595 (100.0%) in 33.83 sec. Users per second: 1052\n"
     ]
    },
    {
     "name": "stderr",
     "output_type": "stream",
     "text": [
      "[I 2024-12-24 13:08:19,707] Trial 342 finished with value: 0.021741390689346485 and parameters: {'topK': 28, 'alpha': 0.32289625916432185, 'beta': 0.35219200640910847, 'normalize_similarity': True, 'implicit': False}. Best is trial 94 with value: 0.023107177974434116.\n"
     ]
    },
    {
     "name": "stdout",
     "output_type": "stream",
     "text": [
      "RP3betaRecommender: Similarity column 38121 (100.0%), 676.12 column/sec. Elapsed time 56.38 sec\n",
      "EvaluatorHoldout: Processed 35595 (100.0%) in 36.25 sec. Users per second: 982\n"
     ]
    },
    {
     "name": "stderr",
     "output_type": "stream",
     "text": [
      "[I 2024-12-24 13:09:56,028] Trial 343 finished with value: 0.018495999973243995 and parameters: {'topK': 91, 'alpha': 0.2125011638644151, 'beta': 0.28850258425768227, 'normalize_similarity': True, 'implicit': False}. Best is trial 94 with value: 0.023107177974434116.\n"
     ]
    },
    {
     "name": "stdout",
     "output_type": "stream",
     "text": [
      "RP3betaRecommender: Similarity column 38121 (100.0%), 711.44 column/sec. Elapsed time 53.58 sec\n",
      "EvaluatorHoldout: Processed 35595 (100.0%) in 37.21 sec. Users per second: 957\n"
     ]
    },
    {
     "name": "stderr",
     "output_type": "stream",
     "text": [
      "[I 2024-12-24 13:11:30,083] Trial 344 finished with value: 0.011540317995438386 and parameters: {'topK': 51, 'alpha': 1.613592893299204, 'beta': 0.3470690939257773, 'normalize_similarity': True, 'implicit': False}. Best is trial 94 with value: 0.023107177974434116.\n"
     ]
    },
    {
     "name": "stdout",
     "output_type": "stream",
     "text": [
      "RP3betaRecommender: Similarity column 38121 (100.0%), 997.53 column/sec. Elapsed time 38.22 sec\n",
      "EvaluatorHoldout: Processed 35595 (100.0%) in 26.92 sec. Users per second: 1322\n"
     ]
    },
    {
     "name": "stderr",
     "output_type": "stream",
     "text": [
      "[I 2024-12-24 13:12:35,943] Trial 345 finished with value: 0.00028209999175022335 and parameters: {'topK': 0, 'alpha': 0.28976061692292027, 'beta': 0.23612659012336698, 'normalize_similarity': True, 'implicit': True}. Best is trial 94 with value: 0.023107177974434116.\n"
     ]
    },
    {
     "name": "stdout",
     "output_type": "stream",
     "text": [
      "RP3betaRecommender: Similarity column 38121 (100.0%), 693.49 column/sec. Elapsed time 54.97 sec\n",
      "EvaluatorHoldout: Processed 35595 (100.0%) in 35.03 sec. Users per second: 1016\n"
     ]
    },
    {
     "name": "stderr",
     "output_type": "stream",
     "text": [
      "[I 2024-12-24 13:14:08,112] Trial 346 finished with value: 0.02165516937682937 and parameters: {'topK': 30, 'alpha': 0.33123531549568264, 'beta': 0.35367006343817575, 'normalize_similarity': True, 'implicit': False}. Best is trial 94 with value: 0.023107177974434116.\n"
     ]
    },
    {
     "name": "stdout",
     "output_type": "stream",
     "text": [
      "RP3betaRecommender: Similarity column 38121 (100.0%), 668.78 column/sec. Elapsed time 57.00 sec\n",
      "EvaluatorHoldout: Processed 35595 (100.0%) in 37.75 sec. Users per second: 943\n"
     ]
    },
    {
     "name": "stderr",
     "output_type": "stream",
     "text": [
      "[I 2024-12-24 13:15:46,390] Trial 347 finished with value: 0.01821586543499742 and parameters: {'topK': 73, 'alpha': 0.1706070784979256, 'beta': 0.2922158780634617, 'normalize_similarity': True, 'implicit': False}. Best is trial 94 with value: 0.023107177974434116.\n"
     ]
    },
    {
     "name": "stdout",
     "output_type": "stream",
     "text": [
      "RP3betaRecommender: Similarity column 38121 (100.0%), 689.12 column/sec. Elapsed time 55.32 sec\n",
      "EvaluatorHoldout: Processed 35595 (100.0%) in 36.13 sec. Users per second: 985\n"
     ]
    },
    {
     "name": "stderr",
     "output_type": "stream",
     "text": [
      "[I 2024-12-24 13:17:20,870] Trial 348 finished with value: 0.021009345658945047 and parameters: {'topK': 50, 'alpha': 0.361460437773525, 'beta': 0.40785564160452514, 'normalize_similarity': True, 'implicit': False}. Best is trial 94 with value: 0.023107177974434116.\n"
     ]
    },
    {
     "name": "stdout",
     "output_type": "stream",
     "text": [
      "RP3betaRecommender: Similarity column 38121 (100.0%), 646.16 column/sec. Elapsed time 59.00 sec\n",
      "EvaluatorHoldout: Processed 35595 (100.0%) in 37.35 sec. Users per second: 953\n"
     ]
    },
    {
     "name": "stderr",
     "output_type": "stream",
     "text": [
      "[I 2024-12-24 13:19:01,669] Trial 349 finished with value: 0.016405916873468727 and parameters: {'topK': 111, 'alpha': 0.09589416894685057, 'beta': 0.4664633539773638, 'normalize_similarity': True, 'implicit': False}. Best is trial 94 with value: 0.023107177974434116.\n"
     ]
    },
    {
     "name": "stdout",
     "output_type": "stream",
     "text": [
      "RP3betaRecommender: Similarity column 38121 (100.0%), 478.47 column/sec. Elapsed time 1.33 min\n",
      "EvaluatorHoldout: Processed 35595 (100.0%) in 44.20 sec. Users per second: 805\n"
     ]
    },
    {
     "name": "stderr",
     "output_type": "stream",
     "text": [
      "[I 2024-12-24 13:21:20,457] Trial 350 finished with value: 0.016009573085215997 and parameters: {'topK': 469, 'alpha': 0.2868532830716011, 'beta': 0.2225124580071361, 'normalize_similarity': True, 'implicit': True}. Best is trial 94 with value: 0.023107177974434116.\n"
     ]
    },
    {
     "name": "stdout",
     "output_type": "stream",
     "text": [
      "RP3betaRecommender: Similarity column 38121 (100.0%), 713.08 column/sec. Elapsed time 53.46 sec\n",
      "EvaluatorHoldout: Processed 35595 (100.0%) in 34.48 sec. Users per second: 1032\n"
     ]
    },
    {
     "name": "stderr",
     "output_type": "stream",
     "text": [
      "[I 2024-12-24 13:22:50,419] Trial 351 finished with value: 0.02208455240503248 and parameters: {'topK': 25, 'alpha': 0.39992653171078413, 'beta': 0.3435185523266646, 'normalize_similarity': True, 'implicit': False}. Best is trial 94 with value: 0.023107177974434116.\n"
     ]
    },
    {
     "name": "stdout",
     "output_type": "stream",
     "text": [
      "RP3betaRecommender: Similarity column 38121 (100.0%), 662.90 column/sec. Elapsed time 57.51 sec\n",
      "EvaluatorHoldout: Processed 35595 (100.0%) in 36.27 sec. Users per second: 981\n"
     ]
    },
    {
     "name": "stderr",
     "output_type": "stream",
     "text": [
      "[I 2024-12-24 13:24:27,588] Trial 352 finished with value: 0.02065656514982242 and parameters: {'topK': 69, 'alpha': 0.4153976325567588, 'beta': 0.3101964806740447, 'normalize_similarity': True, 'implicit': False}. Best is trial 94 with value: 0.023107177974434116.\n"
     ]
    },
    {
     "name": "stdout",
     "output_type": "stream",
     "text": [
      "RP3betaRecommender: Similarity column 38121 (100.0%), 706.06 column/sec. Elapsed time 53.99 sec\n",
      "EvaluatorHoldout: Processed 35595 (100.0%) in 33.53 sec. Users per second: 1062\n"
     ]
    },
    {
     "name": "stderr",
     "output_type": "stream",
     "text": [
      "[I 2024-12-24 13:25:56,904] Trial 353 finished with value: 0.021181862977901634 and parameters: {'topK': 23, 'alpha': 0.37737627448943145, 'beta': 0.16864591937596765, 'normalize_similarity': True, 'implicit': False}. Best is trial 94 with value: 0.023107177974434116.\n"
     ]
    },
    {
     "name": "stdout",
     "output_type": "stream",
     "text": [
      "RP3betaRecommender: Similarity column 38121 (100.0%), 1028.60 column/sec. Elapsed time 37.06 sec\n",
      "EvaluatorHoldout: Processed 35595 (100.0%) in 25.76 sec. Users per second: 1382\n"
     ]
    },
    {
     "name": "stderr",
     "output_type": "stream",
     "text": [
      "[I 2024-12-24 13:27:00,400] Trial 354 finished with value: 0.00028209999175022335 and parameters: {'topK': 0, 'alpha': 0.5222818565559741, 'beta': 0.2648311179993221, 'normalize_similarity': True, 'implicit': False}. Best is trial 94 with value: 0.023107177974434116.\n"
     ]
    },
    {
     "name": "stdout",
     "output_type": "stream",
     "text": [
      "RP3betaRecommender: Similarity column 38121 (100.0%), 692.39 column/sec. Elapsed time 55.06 sec\n",
      "EvaluatorHoldout: Processed 35595 (100.0%) in 35.69 sec. Users per second: 997\n"
     ]
    },
    {
     "name": "stderr",
     "output_type": "stream",
     "text": [
      "[I 2024-12-24 13:28:34,136] Trial 355 finished with value: 0.02104881860971162 and parameters: {'topK': 51, 'alpha': 0.41391414273919913, 'beta': 0.4098996448113549, 'normalize_similarity': True, 'implicit': True}. Best is trial 94 with value: 0.023107177974434116.\n"
     ]
    },
    {
     "name": "stdout",
     "output_type": "stream",
     "text": [
      "RP3betaRecommender: Similarity column 38121 (100.0%), 672.04 column/sec. Elapsed time 56.72 sec\n",
      "EvaluatorHoldout: Processed 35595 (100.0%) in 38.58 sec. Users per second: 923\n"
     ]
    },
    {
     "name": "stderr",
     "output_type": "stream",
     "text": [
      "[I 2024-12-24 13:30:14,113] Trial 356 finished with value: 0.019000789302938397 and parameters: {'topK': 93, 'alpha': 0.4935554522112504, 'beta': 0.5501690581982251, 'normalize_similarity': True, 'implicit': False}. Best is trial 94 with value: 0.023107177974434116.\n"
     ]
    },
    {
     "name": "stdout",
     "output_type": "stream",
     "text": [
      "RP3betaRecommender: Similarity column 38121 (100.0%), 674.16 column/sec. Elapsed time 56.55 sec\n",
      "EvaluatorHoldout: Processed 35595 (100.0%) in 32.63 sec. Users per second: 1091\n"
     ]
    },
    {
     "name": "stderr",
     "output_type": "stream",
     "text": [
      "[I 2024-12-24 13:31:45,574] Trial 357 finished with value: 0.001482893976994275 and parameters: {'topK': 147, 'alpha': 0.24318857620643872, 'beta': 1.7795191489420583, 'normalize_similarity': True, 'implicit': False}. Best is trial 94 with value: 0.023107177974434116.\n"
     ]
    },
    {
     "name": "stdout",
     "output_type": "stream",
     "text": [
      "RP3betaRecommender: Similarity column 38121 (100.0%), 705.81 column/sec. Elapsed time 54.01 sec\n",
      "EvaluatorHoldout: Processed 35595 (100.0%) in 35.38 sec. Users per second: 1006\n"
     ]
    },
    {
     "name": "stderr",
     "output_type": "stream",
     "text": [
      "[I 2024-12-24 13:33:17,457] Trial 358 finished with value: 0.01201158424694069 and parameters: {'topK': 30, 'alpha': 0.9264251231542306, 'beta': 0.10585125894893832, 'normalize_similarity': False, 'implicit': False}. Best is trial 94 with value: 0.023107177974434116.\n"
     ]
    },
    {
     "name": "stdout",
     "output_type": "stream",
     "text": [
      "RP3betaRecommender: Similarity column 38121 (100.0%), 687.64 column/sec. Elapsed time 55.44 sec\n",
      "EvaluatorHoldout: Processed 35595 (100.0%) in 36.19 sec. Users per second: 984\n"
     ]
    },
    {
     "name": "stderr",
     "output_type": "stream",
     "text": [
      "[I 2024-12-24 13:34:52,512] Trial 359 finished with value: 0.02077656260799931 and parameters: {'topK': 69, 'alpha': 0.41740314122106487, 'beta': 0.3611699459093032, 'normalize_similarity': True, 'implicit': True}. Best is trial 94 with value: 0.023107177974434116.\n"
     ]
    },
    {
     "name": "stdout",
     "output_type": "stream",
     "text": [
      "RP3betaRecommender: Similarity column 38121 (100.0%), 711.10 column/sec. Elapsed time 53.61 sec\n",
      "EvaluatorHoldout: Processed 35595 (100.0%) in 34.55 sec. Users per second: 1030\n"
     ]
    },
    {
     "name": "stderr",
     "output_type": "stream",
     "text": [
      "[I 2024-12-24 13:36:22,885] Trial 360 finished with value: 0.02127135744497707 and parameters: {'topK': 27, 'alpha': 0.34831935625718224, 'beta': 0.5062926806779287, 'normalize_similarity': True, 'implicit': False}. Best is trial 94 with value: 0.023107177974434116.\n"
     ]
    },
    {
     "name": "stdout",
     "output_type": "stream",
     "text": [
      "RP3betaRecommender: Similarity column 38121 (100.0%), 1037.61 column/sec. Elapsed time 36.74 sec\n",
      "EvaluatorHoldout: Processed 35595 (100.0%) in 25.33 sec. Users per second: 1406\n"
     ]
    },
    {
     "name": "stderr",
     "output_type": "stream",
     "text": [
      "[I 2024-12-24 13:37:25,596] Trial 361 finished with value: 0.00028209999175022335 and parameters: {'topK': 0, 'alpha': 0.5686509691830968, 'beta': 0.42718752444357005, 'normalize_similarity': True, 'implicit': False}. Best is trial 94 with value: 0.023107177974434116.\n"
     ]
    },
    {
     "name": "stdout",
     "output_type": "stream",
     "text": [
      "RP3betaRecommender: Similarity column 38121 (100.0%), 696.62 column/sec. Elapsed time 54.72 sec\n",
      "EvaluatorHoldout: Processed 35595 (100.0%) in 35.50 sec. Users per second: 1003\n"
     ]
    },
    {
     "name": "stderr",
     "output_type": "stream",
     "text": [
      "[I 2024-12-24 13:38:58,543] Trial 362 finished with value: 0.02054310842658918 and parameters: {'topK': 51, 'alpha': 0.4870590120448321, 'beta': 0.24109184675254888, 'normalize_similarity': True, 'implicit': False}. Best is trial 94 with value: 0.023107177974434116.\n"
     ]
    },
    {
     "name": "stdout",
     "output_type": "stream",
     "text": [
      "RP3betaRecommender: Similarity column 38121 (100.0%), 668.51 column/sec. Elapsed time 57.02 sec\n",
      "EvaluatorHoldout: Processed 35595 (100.0%) in 37.02 sec. Users per second: 962\n"
     ]
    },
    {
     "name": "stderr",
     "output_type": "stream",
     "text": [
      "[I 2024-12-24 13:40:36,568] Trial 363 finished with value: 0.020277953921653685 and parameters: {'topK': 91, 'alpha': 0.41913029489519665, 'beta': 0.3179157412202337, 'normalize_similarity': True, 'implicit': False}. Best is trial 94 with value: 0.023107177974434116.\n"
     ]
    },
    {
     "name": "stdout",
     "output_type": "stream",
     "text": [
      "RP3betaRecommender: Similarity column 38121 (100.0%), 762.49 column/sec. Elapsed time 50.00 sec\n",
      "EvaluatorHoldout: Processed 35595 (100.0%) in 27.16 sec. Users per second: 1311\n"
     ]
    },
    {
     "name": "stderr",
     "output_type": "stream",
     "text": [
      "[I 2024-12-24 13:41:54,991] Trial 364 finished with value: 0.0008752054082859024 and parameters: {'topK': 25, 'alpha': 0.32395616611857747, 'beta': 2.1647528057479843, 'normalize_similarity': True, 'implicit': True}. Best is trial 94 with value: 0.023107177974434116.\n"
     ]
    },
    {
     "name": "stdout",
     "output_type": "stream",
     "text": [
      "RP3betaRecommender: Similarity column 38121 (100.0%), 696.80 column/sec. Elapsed time 54.71 sec\n",
      "EvaluatorHoldout: Processed 35595 (100.0%) in 35.63 sec. Users per second: 999\n"
     ]
    },
    {
     "name": "stderr",
     "output_type": "stream",
     "text": [
      "[I 2024-12-24 13:43:28,410] Trial 365 finished with value: 0.02080192955582726 and parameters: {'topK': 61, 'alpha': 0.3679837736214528, 'beta': 0.3740317712731017, 'normalize_similarity': True, 'implicit': False}. Best is trial 94 with value: 0.023107177974434116.\n"
     ]
    },
    {
     "name": "stdout",
     "output_type": "stream",
     "text": [
      "RP3betaRecommender: Similarity column 38121 (100.0%), 659.62 column/sec. Elapsed time 57.79 sec\n",
      "EvaluatorHoldout: Processed 35595 (100.0%) in 38.96 sec. Users per second: 914\n"
     ]
    },
    {
     "name": "stderr",
     "output_type": "stream",
     "text": [
      "[I 2024-12-24 13:45:10,819] Trial 366 finished with value: 0.019765342911992584 and parameters: {'topK': 121, 'alpha': 0.45907332884073043, 'beta': 0.4764914390128259, 'normalize_similarity': True, 'implicit': False}. Best is trial 94 with value: 0.023107177974434116.\n"
     ]
    },
    {
     "name": "stdout",
     "output_type": "stream",
     "text": [
      "RP3betaRecommender: Similarity column 38121 (100.0%), 943.75 column/sec. Elapsed time 40.39 sec\n",
      "EvaluatorHoldout: Processed 35595 (100.0%) in 27.81 sec. Users per second: 1280\n"
     ]
    },
    {
     "name": "stderr",
     "output_type": "stream",
     "text": [
      "[I 2024-12-24 13:46:20,218] Trial 367 finished with value: 0.009080797641901912 and parameters: {'topK': 1, 'alpha': 0.2623898981627538, 'beta': 0.28535851373911275, 'normalize_similarity': True, 'implicit': False}. Best is trial 94 with value: 0.023107177974434116.\n"
     ]
    },
    {
     "name": "stdout",
     "output_type": "stream",
     "text": [
      "RP3betaRecommender: Similarity column 38121 (100.0%), 713.29 column/sec. Elapsed time 53.44 sec\n",
      "EvaluatorHoldout: Processed 35595 (100.0%) in 35.42 sec. Users per second: 1005\n"
     ]
    },
    {
     "name": "stderr",
     "output_type": "stream",
     "text": [
      "[I 2024-12-24 13:47:51,728] Trial 368 finished with value: 0.02062823385663651 and parameters: {'topK': 39, 'alpha': 0.5547319752155538, 'beta': 0.4051208286268067, 'normalize_similarity': True, 'implicit': True}. Best is trial 94 with value: 0.023107177974434116.\n"
     ]
    },
    {
     "name": "stdout",
     "output_type": "stream",
     "text": [
      "RP3betaRecommender: Similarity column 38121 (100.0%), 676.41 column/sec. Elapsed time 56.36 sec\n",
      "EvaluatorHoldout: Processed 35595 (100.0%) in 35.73 sec. Users per second: 996\n"
     ]
    },
    {
     "name": "stderr",
     "output_type": "stream",
     "text": [
      "[I 2024-12-24 13:49:27,049] Trial 369 finished with value: 0.01949218054970254 and parameters: {'topK': 82, 'alpha': 0.39305155001314596, 'beta': 0.19970517052600656, 'normalize_similarity': True, 'implicit': False}. Best is trial 94 with value: 0.023107177974434116.\n"
     ]
    },
    {
     "name": "stdout",
     "output_type": "stream",
     "text": [
      "RP3betaRecommender: Similarity column 38121 (100.0%), 716.97 column/sec. Elapsed time 53.17 sec\n",
      "EvaluatorHoldout: Processed 35595 (100.0%) in 34.81 sec. Users per second: 1022\n"
     ]
    },
    {
     "name": "stderr",
     "output_type": "stream",
     "text": [
      "[I 2024-12-24 13:50:56,930] Trial 370 finished with value: 0.007560159822696749 and parameters: {'topK': 46, 'alpha': 0.481165219015725, 'beta': 1.1719341154389071, 'normalize_similarity': True, 'implicit': False}. Best is trial 94 with value: 0.023107177974434116.\n"
     ]
    },
    {
     "name": "stdout",
     "output_type": "stream",
     "text": [
      "RP3betaRecommender: Similarity column 38121 (100.0%), 720.87 column/sec. Elapsed time 52.88 sec\n",
      "EvaluatorHoldout: Processed 35595 (100.0%) in 34.60 sec. Users per second: 1029\n"
     ]
    },
    {
     "name": "stderr",
     "output_type": "stream",
     "text": [
      "[I 2024-12-24 13:52:26,597] Trial 371 finished with value: 0.02196333977707728 and parameters: {'topK': 24, 'alpha': 0.32953018873560513, 'beta': 0.3369556972715943, 'normalize_similarity': True, 'implicit': False}. Best is trial 94 with value: 0.023107177974434116.\n"
     ]
    },
    {
     "name": "stdout",
     "output_type": "stream",
     "text": [
      "RP3betaRecommender: Similarity column 38121 (100.0%), 1022.46 column/sec. Elapsed time 37.28 sec\n",
      "EvaluatorHoldout: Processed 35595 (100.0%) in 26.02 sec. Users per second: 1368\n"
     ]
    },
    {
     "name": "stderr",
     "output_type": "stream",
     "text": [
      "[I 2024-12-24 13:53:30,609] Trial 372 finished with value: 0.00028209999175022335 and parameters: {'topK': 0, 'alpha': 0.26886161356502764, 'beta': 0.36058842816521103, 'normalize_similarity': True, 'implicit': False}. Best is trial 94 with value: 0.023107177974434116.\n"
     ]
    },
    {
     "name": "stdout",
     "output_type": "stream",
     "text": [
      "RP3betaRecommender: Similarity column 38121 (100.0%), 671.13 column/sec. Elapsed time 56.80 sec\n",
      "EvaluatorHoldout: Processed 35595 (100.0%) in 36.03 sec. Users per second: 988\n"
     ]
    },
    {
     "name": "stderr",
     "output_type": "stream",
     "text": [
      "[I 2024-12-24 13:55:06,870] Trial 373 finished with value: 0.01898111693054795 and parameters: {'topK': 68, 'alpha': 0.19325210367317652, 'beta': 0.461720017885353, 'normalize_similarity': True, 'implicit': True}. Best is trial 94 with value: 0.023107177974434116.\n"
     ]
    },
    {
     "name": "stdout",
     "output_type": "stream",
     "text": [
      "RP3betaRecommender: Similarity column 38121 (100.0%), 714.78 column/sec. Elapsed time 53.33 sec\n",
      "EvaluatorHoldout: Processed 35595 (100.0%) in 33.86 sec. Users per second: 1051\n"
     ]
    },
    {
     "name": "stderr",
     "output_type": "stream",
     "text": [
      "[I 2024-12-24 13:56:36,063] Trial 374 finished with value: 0.020206819666575084 and parameters: {'topK': 26, 'alpha': 0.31926091319254146, 'beta': 0.587849714270209, 'normalize_similarity': True, 'implicit': False}. Best is trial 94 with value: 0.023107177974434116.\n"
     ]
    },
    {
     "name": "stdout",
     "output_type": "stream",
     "text": [
      "RP3betaRecommender: Similarity column 38121 (100.0%), 661.62 column/sec. Elapsed time 57.62 sec\n",
      "EvaluatorHoldout: Processed 35595 (100.0%) in 37.36 sec. Users per second: 953\n"
     ]
    },
    {
     "name": "stderr",
     "output_type": "stream",
     "text": [
      "[I 2024-12-24 13:58:15,098] Trial 375 finished with value: 0.020027909885684682 and parameters: {'topK': 95, 'alpha': 0.35137003946857126, 'beta': 0.33811806975587705, 'normalize_similarity': True, 'implicit': False}. Best is trial 94 with value: 0.023107177974434116.\n"
     ]
    },
    {
     "name": "stdout",
     "output_type": "stream",
     "text": [
      "RP3betaRecommender: Similarity column 38121 (100.0%), 696.58 column/sec. Elapsed time 54.73 sec\n",
      "EvaluatorHoldout: Processed 35595 (100.0%) in 35.77 sec. Users per second: 995\n"
     ]
    },
    {
     "name": "stderr",
     "output_type": "stream",
     "text": [
      "[I 2024-12-24 13:59:48,397] Trial 376 finished with value: 0.020447499091409624 and parameters: {'topK': 51, 'alpha': 0.29276676074851693, 'beta': 0.4295532100461422, 'normalize_similarity': True, 'implicit': False}. Best is trial 94 with value: 0.023107177974434116.\n"
     ]
    },
    {
     "name": "stdout",
     "output_type": "stream",
     "text": [
      "RP3betaRecommender: Similarity column 38121 (100.0%), 715.17 column/sec. Elapsed time 53.30 sec\n",
      "EvaluatorHoldout: Processed 35595 (100.0%) in 33.88 sec. Users per second: 1051\n"
     ]
    },
    {
     "name": "stderr",
     "output_type": "stream",
     "text": [
      "[I 2024-12-24 14:01:17,510] Trial 377 finished with value: 0.021990100268228854 and parameters: {'topK': 25, 'alpha': 0.38362800968535427, 'beta': 0.3139733248944746, 'normalize_similarity': True, 'implicit': True}. Best is trial 94 with value: 0.023107177974434116.\n"
     ]
    },
    {
     "name": "stdout",
     "output_type": "stream",
     "text": [
      "RP3betaRecommender: Similarity column 38121 (100.0%), 948.86 column/sec. Elapsed time 40.18 sec\n",
      "EvaluatorHoldout: Processed 35595 (100.0%) in 28.48 sec. Users per second: 1250\n"
     ]
    },
    {
     "name": "stderr",
     "output_type": "stream",
     "text": [
      "[I 2024-12-24 14:02:27,471] Trial 378 finished with value: 0.015467241698384 and parameters: {'topK': 1, 'alpha': 0.39727003101423697, 'beta': 0.2986798705872741, 'normalize_similarity': False, 'implicit': True}. Best is trial 94 with value: 0.023107177974434116.\n"
     ]
    },
    {
     "name": "stdout",
     "output_type": "stream",
     "text": [
      "RP3betaRecommender: Similarity column 38121 (100.0%), 683.49 column/sec. Elapsed time 55.77 sec\n",
      "EvaluatorHoldout: Processed 35595 (100.0%) in 36.01 sec. Users per second: 989\n"
     ]
    },
    {
     "name": "stderr",
     "output_type": "stream",
     "text": [
      "[I 2024-12-24 14:04:02,538] Trial 379 finished with value: 0.01995478565074003 and parameters: {'topK': 71, 'alpha': 0.5108096427814846, 'beta': 0.23776947895893868, 'normalize_similarity': True, 'implicit': True}. Best is trial 94 with value: 0.023107177974434116.\n"
     ]
    },
    {
     "name": "stdout",
     "output_type": "stream",
     "text": [
      "RP3betaRecommender: Similarity column 38121 (100.0%), 698.59 column/sec. Elapsed time 54.57 sec\n",
      "EvaluatorHoldout: Processed 35595 (100.0%) in 36.00 sec. Users per second: 989\n"
     ]
    },
    {
     "name": "stderr",
     "output_type": "stream",
     "text": [
      "[I 2024-12-24 14:05:35,807] Trial 380 finished with value: 0.021221212182021016 and parameters: {'topK': 45, 'alpha': 0.44349091757813497, 'beta': 0.3435665368922582, 'normalize_similarity': True, 'implicit': True}. Best is trial 94 with value: 0.023107177974434116.\n"
     ]
    },
    {
     "name": "stdout",
     "output_type": "stream",
     "text": [
      "RP3betaRecommender: Similarity column 38121 (100.0%), 636.77 column/sec. Elapsed time 59.87 sec\n",
      "EvaluatorHoldout: Processed 35595 (100.0%) in 38.57 sec. Users per second: 923\n"
     ]
    },
    {
     "name": "stderr",
     "output_type": "stream",
     "text": [
      "[I 2024-12-24 14:07:19,422] Trial 381 finished with value: 0.020026523031369113 and parameters: {'topK': 113, 'alpha': 0.3758098327015901, 'beta': 0.41379861633990167, 'normalize_similarity': True, 'implicit': True}. Best is trial 94 with value: 0.023107177974434116.\n"
     ]
    },
    {
     "name": "stdout",
     "output_type": "stream",
     "text": [
      "RP3betaRecommender: Similarity column 38121 (100.0%), 763.64 column/sec. Elapsed time 49.92 sec\n",
      "EvaluatorHoldout: Processed 35595 (100.0%) in 29.06 sec. Users per second: 1225\n"
     ]
    },
    {
     "name": "stderr",
     "output_type": "stream",
     "text": [
      "[I 2024-12-24 14:08:39,669] Trial 382 finished with value: 0.0016304456885999257 and parameters: {'topK': 21, 'alpha': 0.573146973870046, 'beta': 2.6697538315602047, 'normalize_similarity': True, 'implicit': True}. Best is trial 94 with value: 0.023107177974434116.\n"
     ]
    },
    {
     "name": "stdout",
     "output_type": "stream",
     "text": [
      "RP3betaRecommender: Similarity column 38121 (100.0%), 338.97 column/sec. Elapsed time 1.87 min\n",
      "EvaluatorHoldout: Processed 35595 (100.0%) in 59.81 sec. Users per second: 595\n"
     ]
    },
    {
     "name": "stderr",
     "output_type": "stream",
     "text": [
      "[I 2024-12-24 14:12:18,175] Trial 383 finished with value: 0.017459849229760842 and parameters: {'topK': 1103, 'alpha': 0.45388633921066124, 'beta': 0.4873811498089301, 'normalize_similarity': True, 'implicit': True}. Best is trial 94 with value: 0.023107177974434116.\n"
     ]
    },
    {
     "name": "stdout",
     "output_type": "stream",
     "text": [
      "RP3betaRecommender: Similarity column 38121 (100.0%), 702.35 column/sec. Elapsed time 54.28 sec\n",
      "EvaluatorHoldout: Processed 35595 (100.0%) in 34.53 sec. Users per second: 1031\n"
     ]
    },
    {
     "name": "stderr",
     "output_type": "stream",
     "text": [
      "[I 2024-12-24 14:13:49,187] Trial 384 finished with value: 0.019833315495978648 and parameters: {'topK': 47, 'alpha': 0.357406952918732, 'beta': 0.15570710666859044, 'normalize_similarity': True, 'implicit': True}. Best is trial 94 with value: 0.023107177974434116.\n"
     ]
    },
    {
     "name": "stdout",
     "output_type": "stream",
     "text": [
      "RP3betaRecommender: Similarity column 38121 (100.0%), 679.01 column/sec. Elapsed time 56.14 sec\n",
      "EvaluatorHoldout: Processed 35595 (100.0%) in 36.48 sec. Users per second: 976\n"
     ]
    },
    {
     "name": "stderr",
     "output_type": "stream",
     "text": [
      "[I 2024-12-24 14:15:25,596] Trial 385 finished with value: 0.020049012590942498 and parameters: {'topK': 80, 'alpha': 0.5201319819645435, 'beta': 0.2918601873624654, 'normalize_similarity': True, 'implicit': True}. Best is trial 94 with value: 0.023107177974434116.\n"
     ]
    },
    {
     "name": "stdout",
     "output_type": "stream",
     "text": [
      "RP3betaRecommender: Similarity column 38121 (100.0%), 636.71 column/sec. Elapsed time 59.87 sec\n",
      "EvaluatorHoldout: Processed 35595 (100.0%) in 38.89 sec. Users per second: 915\n"
     ]
    },
    {
     "name": "stderr",
     "output_type": "stream",
     "text": [
      "[I 2024-12-24 14:17:10,674] Trial 386 finished with value: 0.01974406517769339 and parameters: {'topK': 154, 'alpha': 0.408038610220017, 'beta': 0.3871532465833219, 'normalize_similarity': True, 'implicit': True}. Best is trial 94 with value: 0.023107177974434116.\n"
     ]
    },
    {
     "name": "stdout",
     "output_type": "stream",
     "text": [
      "RP3betaRecommender: Similarity column 38121 (100.0%), 710.22 column/sec. Elapsed time 53.67 sec\n",
      "EvaluatorHoldout: Processed 35595 (100.0%) in 33.64 sec. Users per second: 1058\n"
     ]
    },
    {
     "name": "stderr",
     "output_type": "stream",
     "text": [
      "[I 2024-12-24 14:18:39,856] Trial 387 finished with value: 0.021292123470167776 and parameters: {'topK': 25, 'alpha': 0.2571491206560198, 'beta': 0.3179638934433178, 'normalize_similarity': True, 'implicit': True}. Best is trial 94 with value: 0.023107177974434116.\n"
     ]
    },
    {
     "name": "stdout",
     "output_type": "stream",
     "text": [
      "RP3betaRecommender: Similarity column 38121 (100.0%), 692.99 column/sec. Elapsed time 55.01 sec\n",
      "EvaluatorHoldout: Processed 35595 (100.0%) in 34.81 sec. Users per second: 1022\n"
     ]
    },
    {
     "name": "stderr",
     "output_type": "stream",
     "text": [
      "[I 2024-12-24 14:20:12,244] Trial 388 finished with value: 0.020142394486473546 and parameters: {'topK': 55, 'alpha': 0.3296556685490583, 'beta': 0.24173826738404924, 'normalize_similarity': True, 'implicit': False}. Best is trial 94 with value: 0.023107177974434116.\n"
     ]
    },
    {
     "name": "stdout",
     "output_type": "stream",
     "text": [
      "RP3betaRecommender: Similarity column 38121 (100.0%), 721.83 column/sec. Elapsed time 52.81 sec\n",
      "EvaluatorHoldout: Processed 35595 (100.0%) in 34.48 sec. Users per second: 1032\n"
     ]
    },
    {
     "name": "stderr",
     "output_type": "stream",
     "text": [
      "[I 2024-12-24 14:21:41,668] Trial 389 finished with value: 0.021544772874734688 and parameters: {'topK': 25, 'alpha': 0.4856424570651435, 'beta': 0.43727081723267125, 'normalize_similarity': True, 'implicit': False}. Best is trial 94 with value: 0.023107177974434116.\n"
     ]
    },
    {
     "name": "stdout",
     "output_type": "stream",
     "text": [
      "RP3betaRecommender: Similarity column 38121 (100.0%), 454.04 column/sec. Elapsed time 1.40 min\n",
      "EvaluatorHoldout: Processed 35595 (100.0%) in 47.63 sec. Users per second: 747\n"
     ]
    },
    {
     "name": "stderr",
     "output_type": "stream",
     "text": [
      "[I 2024-12-24 14:24:14,055] Trial 390 finished with value: 0.01761092158921919 and parameters: {'topK': 563, 'alpha': 0.39260558046275573, 'beta': 0.3274122201283317, 'normalize_similarity': True, 'implicit': False}. Best is trial 94 with value: 0.023107177974434116.\n"
     ]
    },
    {
     "name": "stdout",
     "output_type": "stream",
     "text": [
      "RP3betaRecommender: Similarity column 38121 (100.0%), 323.96 column/sec. Elapsed time 1.96 min\n",
      "EvaluatorHoldout: Processed 35595 (100.0%) in 1.02 min. Users per second: 581\n"
     ]
    },
    {
     "name": "stderr",
     "output_type": "stream",
     "text": [
      "[I 2024-12-24 14:28:03,620] Trial 391 finished with value: 0.017153228449688702 and parameters: {'topK': 1223, 'alpha': 0.4439353107821189, 'beta': 0.5254171822984062, 'normalize_similarity': True, 'implicit': True}. Best is trial 94 with value: 0.023107177974434116.\n"
     ]
    },
    {
     "name": "stdout",
     "output_type": "stream",
     "text": [
      "RP3betaRecommender: Similarity column 38121 (100.0%), 856.22 column/sec. Elapsed time 44.52 sec\n",
      "EvaluatorHoldout: Processed 35595 (100.0%) in 29.63 sec. Users per second: 1201\n"
     ]
    },
    {
     "name": "stderr",
     "output_type": "stream",
     "text": [
      "[I 2024-12-24 14:29:19,046] Trial 392 finished with value: 0.01572895582356214 and parameters: {'topK': 2, 'alpha': 0.6455129633946068, 'beta': 0.20503414632829167, 'normalize_similarity': True, 'implicit': False}. Best is trial 94 with value: 0.023107177974434116.\n"
     ]
    },
    {
     "name": "stdout",
     "output_type": "stream",
     "text": [
      "RP3betaRecommender: Similarity column 38121 (100.0%), 680.24 column/sec. Elapsed time 56.04 sec\n",
      "EvaluatorHoldout: Processed 35595 (100.0%) in 35.40 sec. Users per second: 1005\n"
     ]
    },
    {
     "name": "stderr",
     "output_type": "stream",
     "text": [
      "[I 2024-12-24 14:30:53,762] Trial 393 finished with value: 0.016641178201861114 and parameters: {'topK': 84, 'alpha': 0.20471964276733062, 'beta': 0.6571374824244977, 'normalize_similarity': True, 'implicit': False}. Best is trial 94 with value: 0.023107177974434116.\n"
     ]
    },
    {
     "name": "stdout",
     "output_type": "stream",
     "text": [
      "RP3betaRecommender: Similarity column 38121 (100.0%), 685.19 column/sec. Elapsed time 55.64 sec\n",
      "EvaluatorHoldout: Processed 35595 (100.0%) in 36.05 sec. Users per second: 987\n"
     ]
    },
    {
     "name": "stderr",
     "output_type": "stream",
     "text": [
      "[I 2024-12-24 14:32:28,350] Trial 394 finished with value: 0.02070747853385843 and parameters: {'topK': 54, 'alpha': 0.32830441852673065, 'beta': 0.3921163583423712, 'normalize_similarity': True, 'implicit': False}. Best is trial 94 with value: 0.023107177974434116.\n"
     ]
    },
    {
     "name": "stdout",
     "output_type": "stream",
     "text": [
      "RP3betaRecommender: Similarity column 38121 (100.0%), 663.76 column/sec. Elapsed time 57.43 sec\n",
      "EvaluatorHoldout: Processed 35595 (100.0%) in 38.08 sec. Users per second: 935\n"
     ]
    },
    {
     "name": "stderr",
     "output_type": "stream",
     "text": [
      "[I 2024-12-24 14:34:08,664] Trial 395 finished with value: 0.019609297275120976 and parameters: {'topK': 105, 'alpha': 0.5436336244274096, 'beta': 0.28217876724959606, 'normalize_similarity': True, 'implicit': True}. Best is trial 94 with value: 0.023107177974434116.\n"
     ]
    },
    {
     "name": "stdout",
     "output_type": "stream",
     "text": [
      "RP3betaRecommender: Similarity column 38121 (100.0%), 1016.47 column/sec. Elapsed time 37.50 sec\n",
      "EvaluatorHoldout: Processed 35595 (100.0%) in 25.72 sec. Users per second: 1384\n"
     ]
    },
    {
     "name": "stderr",
     "output_type": "stream",
     "text": [
      "[I 2024-12-24 14:35:12,570] Trial 396 finished with value: 0.00028209999175022335 and parameters: {'topK': 0, 'alpha': 0.3891750392175456, 'beta': 0.45171687293708707, 'normalize_similarity': True, 'implicit': False}. Best is trial 94 with value: 0.023107177974434116.\n"
     ]
    },
    {
     "name": "stdout",
     "output_type": "stream",
     "text": [
      "RP3betaRecommender: Similarity column 38121 (100.0%), 705.48 column/sec. Elapsed time 54.04 sec\n",
      "EvaluatorHoldout: Processed 35595 (100.0%) in 34.75 sec. Users per second: 1024\n"
     ]
    },
    {
     "name": "stderr",
     "output_type": "stream",
     "text": [
      "[I 2024-12-24 14:36:43,710] Trial 397 finished with value: 0.01840982771345179 and parameters: {'topK': 33, 'alpha': 0.4589804699865398, 'beta': 0.34814517859585437, 'normalize_similarity': False, 'implicit': False}. Best is trial 94 with value: 0.023107177974434116.\n"
     ]
    },
    {
     "name": "stdout",
     "output_type": "stream",
     "text": [
      "RP3betaRecommender: Similarity column 38121 (100.0%), 673.17 column/sec. Elapsed time 56.63 sec\n",
      "EvaluatorHoldout: Processed 35595 (100.0%) in 38.70 sec. Users per second: 920\n"
     ]
    },
    {
     "name": "stderr",
     "output_type": "stream",
     "text": [
      "[I 2024-12-24 14:38:22,525] Trial 398 finished with value: 0.01980183368004683 and parameters: {'topK': 70, 'alpha': 0.2733349403547618, 'beta': 0.39803871263650503, 'normalize_similarity': True, 'implicit': False}. Best is trial 94 with value: 0.023107177974434116.\n"
     ]
    },
    {
     "name": "stdout",
     "output_type": "stream",
     "text": [
      "RP3betaRecommender: Similarity column 38121 (100.0%), 705.52 column/sec. Elapsed time 54.03 sec\n",
      "EvaluatorHoldout: Processed 35595 (100.0%) in 34.35 sec. Users per second: 1036\n"
     ]
    },
    {
     "name": "stderr",
     "output_type": "stream",
     "text": [
      "[I 2024-12-24 14:39:52,942] Trial 399 finished with value: 0.02155078852255399 and parameters: {'topK': 29, 'alpha': 0.3549511090388391, 'beta': 0.25147500657743965, 'normalize_similarity': True, 'implicit': True}. Best is trial 94 with value: 0.023107177974434116.\n"
     ]
    }
   ],
   "source": [
    "if config['tune_parameters']:\n",
    "    \n",
    "    optuna_study = optuna.create_study(direction='maximize', study_name=f'hyperparameters_tuning_{config[\"model\"]}_{config[\"metric\"]}',\n",
    "                                storage=f'sqlite:///{config[\"database_path\"]}', load_if_exists=True)\n",
    "\n",
    "    optuna_study.optimize(objective_function_RP3beta, n_trials=200)"
   ]
  },
  {
   "cell_type": "markdown",
   "id": "8708a6ad",
   "metadata": {
    "papermill": {
     "duration": 0.051064,
     "end_time": "2024-12-24T14:39:53.053439",
     "exception": false,
     "start_time": "2024-12-24T14:39:53.002375",
     "status": "completed"
    },
    "tags": []
   },
   "source": [
    "## Some optuna visualizations on recommender parameters"
   ]
  },
  {
   "cell_type": "code",
   "execution_count": 14,
   "id": "fd4031ee",
   "metadata": {
    "execution": {
     "iopub.execute_input": "2024-12-24T14:39:53.160344Z",
     "iopub.status.busy": "2024-12-24T14:39:53.159894Z",
     "iopub.status.idle": "2024-12-24T14:39:54.875316Z",
     "shell.execute_reply": "2024-12-24T14:39:54.874015Z"
    },
    "papermill": {
     "duration": 1.77362,
     "end_time": "2024-12-24T14:39:54.877644",
     "exception": false,
     "start_time": "2024-12-24T14:39:53.104024",
     "status": "completed"
    },
    "tags": []
   },
   "outputs": [
    {
     "data": {
      "text/html": [
       "<html>\n",
       "<head><meta charset=\"utf-8\" /></head>\n",
       "<body>\n",
       "    <div>            <script src=\"https://cdnjs.cloudflare.com/ajax/libs/mathjax/2.7.5/MathJax.js?config=TeX-AMS-MML_SVG\"></script><script type=\"text/javascript\">if (window.MathJax && window.MathJax.Hub && window.MathJax.Hub.Config) {window.MathJax.Hub.Config({SVG: {font: \"STIX-Web\"}});}</script>                <script type=\"text/javascript\">window.PlotlyConfig = {MathJaxConfig: 'local'};</script>\n",
       "        <script charset=\"utf-8\" src=\"https://cdn.plot.ly/plotly-2.35.2.min.js\"></script>                <div id=\"82c4aa21-a7d1-4372-b4ad-9919e23d91b1\" class=\"plotly-graph-div\" style=\"height:525px; width:1500px;\"></div>            <script type=\"text/javascript\">                                    window.PLOTLYENV=window.PLOTLYENV || {};                                    if (document.getElementById(\"82c4aa21-a7d1-4372-b4ad-9919e23d91b1\")) {                    Plotly.newPlot(                        \"82c4aa21-a7d1-4372-b4ad-9919e23d91b1\",                        [{\"marker\":{\"color\":[0,1,2,3,4,5,6,7,8,9,10,11,12,13,14,15,16,17,18,19,20,21,22,23,24,25,26,27,28,29,30,31,32,33,34,35,36,37,38,39,40,41,42,43,44,45,46,47,48,49,50,51,52,53,54,55,56,57,58,59,60,61,62,63,64,65,66,67,68,69,70,71,72,73,74,75,76,77,78,79,80,81,82,83,84,85,86,87,88,89,90,91,92,93,94,95,96,97,98,99,100,101,102,103,104,105,106,107,108,109,110,111,112,113,114,115,116,117,118,119,120,121,122,123,124,125,126,127,128,129,130,131,132,133,134,135,136,137,138,139,140,141,142,143,144,145,146,147,148,149,150,151,152,153,154,155,156,157,158,159,160,161,162,163,164,165,166,167,168,169,170,171,172,173,174,175,176,177,178,179,180,181,182,183,184,185,186,187,188,189,190,191,192,193,194,195,196,197,198,199,200,201,202,203,204,205,206,207,208,209,210,211,212,213,214,215,216,217,218,219,220,221,222,223,224,225,226,227,228,229,230,231,232,233,234,235,236,237,238,239,240,241,242,243,244,245,246,247,248,249,250,251,252,253,254,255,256,257,258,259,260,261,262,263,264,265,266,267,268,269,270,271,272,273,274,275,276,277,278,279,280,281,282,283,284,285,286,287,288,289,290,291,292,293,294,295,296,297,298,299,300,301,302,303,304,305,306,307,308,309,310,311,312,313,314,315,316,317,318,319,320,321,322,323,324,325,326,327,328,329,330,331,332,333,334,335,336,337,338,339,340,341,342,343,344,345,346,347,348,349,350,351,352,353,354,355,356,357,358,359,360,361,362,363,364,365,366,367,368,369,370,371,372,373,374,375,376,377,378,379,380,381,382,383,384,385,386,387,388,389,390,391,392,393,394,395,396,397,398,399],\"colorbar\":{\"title\":{\"text\":\"Trial\"},\"x\":1.0,\"xpad\":40},\"colorscale\":[[0.0,\"rgb(247,251,255)\"],[0.125,\"rgb(222,235,247)\"],[0.25,\"rgb(198,219,239)\"],[0.375,\"rgb(158,202,225)\"],[0.5,\"rgb(107,174,214)\"],[0.625,\"rgb(66,146,198)\"],[0.75,\"rgb(33,113,181)\"],[0.875,\"rgb(8,81,156)\"],[1.0,\"rgb(8,48,107)\"]],\"line\":{\"color\":\"Grey\",\"width\":0.5},\"showscale\":true},\"mode\":\"markers\",\"name\":\"Feasible Trial\",\"showlegend\":false,\"x\":[1.7460974509917935,1.4854859958756612,2.9490995074142052,2.7297917494142587,1.2116643990426135,1.753183894554759,0.7669501205205087,2.4630561682203416,1.4697636757027712,0.38534211305287713,2.3898949834609127,2.3705499575391746,2.2515171209234257,2.302363026312677,2.1699173109335614,1.782552682395514,2.0591612476498673,1.9815773301335113,1.1968601172289,0.9648230734527306,1.015004409655968,0.029904529719660178,0.7246613385974536,0.7037356207023848,0.6632411263116572,0.4993648604549783,0.4974535147542572,0.2796473299772608,0.024542255995752937,0.22207945668036055,0.6984117117391274,0.7396618438237941,0.29817848201686137,0.6004841558273706,0.5589328746348898,1.0607624649254874,0.16757272725191374,1.3260344261973227,0.8151461064972322,0.8835121329937975,0.5613425893060464,0.6648402628826597,0.39688578608161657,1.1577877997377586,0.6283998315241003,0.37707762596763694,0.1542934842249517,1.5906948946979358,2.976725562164409,2.73747694215473,0.883830856829773,0.674546090380505,0.3789335712965278,0.4231781152394236,0.28210441954210913,0.830316640450618,0.12305476122019696,0.5955734306444886,0.29968419975515326,1.315341902344771,0.4758853000752445,0.6777901650408149,0.9448029942833058,0.7693636716330391,1.05595498095955,0.34485712638606936,0.4859349553751389,0.6313408255626592,0.08183730877002382,0.2336292616393677,0.6475188057722934,0.542277782115566,0.5431067136369285,0.5458422011076948,0.468028631781806,0.4391466676886831,0.40856590721452274,0.4599806522376455,0.4681784225503479,0.4613562265943166,0.5438706727252032,0.5456991215067956,0.20123981482600603,0.5444435133503124,0.42243157119109487,0.42317560424757406,0.3659744714089742,0.3177939086917785,0.01498167272555706,0.3395259087647604,0.35448019057467883,0.3155848105161053,0.3391438762556881,0.1077349526324688,0.34157046881880787,0.3163196168749599,0.23049766625014367,0.24702966968642476,0.33841222586476394,0.17626450803482469,0.08267874749197357,0.404071076874002,0.3594446212256374,0.37944951424697454,0.38066891052610474,0.3643549119505377,0.27721745906011996,0.16599202844306232,0.2519326869924905,1.975530016145548,0.06923332037033053,0.2869189664520552,0.364639152651554,0.35658712178308055,0.19345299177767442,0.27772752397110084,0.27370413316355263,0.12609094862184697,0.2630331074394475,0.22773089797851687,0.26275842408105987,0.28223649372823306,0.14843839761601435,0.025078622285698238,0.26094500538298643,0.39446824281572074,0.2784274924074932,0.1674426977438265,1.6617491904684556,0.5054278259489354,2.483339478454059,0.40761763579493016,0.2235267333438687,0.3958066041633768,0.2859813974918197,0.4126275242478778,0.4276051355587205,0.5869764040592595,0.4966616515850108,0.39456039938527676,0.3905919235132049,0.30817599337738,0.47218969168816816,0.46817026615983687,0.6104145977148776,0.3799967286292592,0.49876568503111984,0.483030666088069,0.5098097503830408,0.614370106886896,0.4685714972925582,0.740856289463132,0.4806453863075066,0.3585037156646123,0.45866745092987427,0.5484715143029719,0.3650148406230084,0.2028809839835702,0.43014871928587817,0.3334305949705553,0.5278248491886803,0.3245997897054736,0.328495890374104,0.36822062999924365,0.34392410526595213,0.4531230336886505,0.4610782497894632,0.5909034241441468,0.19522434023687885,0.6857868046154079,0.44376579864441085,0.519773930996225,0.45340258588404425,0.3424964523142282,0.31591864497020455,0.48894001167104567,0.4815906408754377,0.64965257738825,0.5775615844312096,0.41914186790197383,0.5095059780703134,0.510008305642226,0.5083419265019531,0.520603458087484,0.6019071146883188,0.6044990660092776,0.7048512007088286,0.5386592251867435,0.42241002710183423,0.5757488937360364,1.3765661821560713,0.480105718229663,0.44649606196333147,0.4244904741133711,0.504958274713807,0.41098485369547516,0.541089964592709,0.6040433281782059,0.6008827732860198,0.6665923604471304,0.7353318308841013,0.5564877850397256,0.6455463759888026,0.5528988275498229,0.5181730340530316,0.8278205714704905,0.5862118733322113,0.5008920156634,0.4443563591808537,0.638851568487194,0.43682717470468513,0.5475730005076106,0.5414063202041719,0.5414782345639719,0.4777025509386667,0.39419303739073747,0.4510001621937566,0.545541819255478,0.38970103952587176,0.4996780961052891,0.47709414332704286,0.5027331242047041,0.503977399526474,0.41344165881266404,0.5201244361509078,2.86114246086104,0.5425093842496408,0.5317022388516468,0.37481142106971393,0.5595437700158787,0.4551101340398931,1.888572054386187,0.45272153278817473,0.4585444390290758,0.44123007731150526,0.36844159726880427,0.3517790138008565,0.35208991381339627,0.36936157946529014,0.47734632529491333,0.47449161920929855,0.4489013307499534,0.32466572305936103,0.3902815161252913,0.5033608784370281,0.43153713596750176,0.4172684620304764,0.30477220707344926,0.30631227808677247,0.4340600527359238,0.34171608374996365,0.3126544814682496,0.2409821119662192,0.35672132316343175,0.2844773631976969,0.2656824097460156,0.3102340850949229,0.36974262808020214,0.2432939499081001,0.39382894701722193,0.4488631661882436,0.29058284303593174,0.4315617943021644,0.43150869565208533,0.33475616748376463,0.3954117931505159,0.44624067660413674,0.33223517923811025,0.45755555092814876,2.133886554337951,0.2061664399126457,0.3836518736090421,0.29834359419917506,0.38288942285099176,0.3571193035115966,0.26910919063608807,2.537875796686719,0.4226127905449902,0.4003396340790026,1.1682674561287874,0.3155670889554183,0.4398874532728211,0.22085348476624278,0.4610404068324349,0.4855530995941967,0.44341268072018203,0.44949632152369623,0.38043492722719663,0.4507762067529953,0.3931074484816677,0.34241133298880916,0.44921155050972933,0.397069736935775,0.26245317268295887,0.46928892351121654,0.3423874205829398,0.35989418794480277,0.4463781736780132,0.40738544575783386,0.3251961762101213,0.4219238893823191,0.4823325236083671,0.35427648958851243,0.16026825489228722,0.3514017695147076,0.328604736589025,1.2654422786215604,0.27211050049615937,0.386986595655755,0.2127066595496574,0.405038242285066,0.3233728430674642,0.29080249956138216,1.0640378160183896,0.234189289490256,0.3453427028584161,0.31777966181976036,0.41296617468374447,0.44308386553689405,0.3650883033558698,0.4333928036755388,0.14381907808975203,0.2772817138205797,2.288909680197233,0.4986610103675741,0.40940952490936655,1.4411877910633923,0.3036111953042615,0.6099349452033026,0.3582943470817003,0.568584201672881,0.21872918242683892,0.45783213595732747,0.4031560465035088,0.3574848927667598,0.30593735524929966,1.7464713296426297,0.4144179810007891,0.2503510426608693,0.3797643898843206,0.4989126409602973,0.44026695512955133,0.32289625916432185,0.2125011638644151,1.613592893299204,0.28976061692292027,0.33123531549568264,0.1706070784979256,0.361460437773525,0.09589416894685057,0.2868532830716011,0.39992653171078413,0.4153976325567588,0.37737627448943145,0.5222818565559741,0.41391414273919913,0.4935554522112504,0.24318857620643872,0.9264251231542306,0.41740314122106487,0.34831935625718224,0.5686509691830968,0.4870590120448321,0.41913029489519665,0.32395616611857747,0.3679837736214528,0.45907332884073043,0.2623898981627538,0.5547319752155538,0.39305155001314596,0.481165219015725,0.32953018873560513,0.26886161356502764,0.19325210367317652,0.31926091319254146,0.35137003946857126,0.29276676074851693,0.38362800968535427,0.39727003101423697,0.5108096427814846,0.44349091757813497,0.3758098327015901,0.573146973870046,0.45388633921066124,0.357406952918732,0.5201319819645435,0.408038610220017,0.2571491206560198,0.3296556685490583,0.4856424570651435,0.39260558046275573,0.4439353107821189,0.6455129633946068,0.20471964276733062,0.32830441852673065,0.5436336244274096,0.3891750392175456,0.4589804699865398,0.2733349403547618,0.3549511090388391],\"y\":[0.006955000813829319,0.004003837260895806,0.00629727177662281,0.006152528333522871,0.008852048062751947,0.006060187693563195,0.004111397623618421,0.009696914360631382,0.007295051025982387,0.0020743059596831158,0.009086452083291705,0.00901820190547557,0.010103978398963874,0.010042351453856102,0.010257217996999106,0.0033975400058416983,0.010439102156759372,0.009670387984758156,0.01315999661090301,0.014055765144471818,0.007789414421947156,0.010118282842471883,0.015637350974477195,0.015893523256566015,0.01633631328637671,0.004788920550193202,0.009793877105086713,0.016267123302943137,0.00960222922338409,0.01258263043008129,0.011968937361900144,0.015554022657899845,0.01482531098312856,0.0170921165581933,0.0018588206833044555,0.007924300496993386,0.013089155557339681,0.008289903834362419,0.015282923854563354,0.011173080310459398,0.0036768205807396477,0.016318202797343303,0.015391266831216563,0.01324736843278809,0.013394684914280764,0.01076726042760622,0.0021909477655368908,0.007712222155332205,0.00876202181954406,0.006414486607491263,0.014672178409220466,0.015193378105093464,0.017047615703115204,0.01404009391367213,0.014784592762047888,0.014706071612519465,0.00735647507118222,0.001072086323877311,0.015177822817098272,0.005186960001962128,0.013758945990720622,0.016200047046022775,0.014110208095037805,0.015171283196989365,0.013772800041026295,0.013126472417876104,0.010356713645799404,0.016458009752573718,0.011184693543100931,0.009790699826308966,0.005344545225497624,0.017423581428638386,0.01758896492061264,0.01582028865299008,0.01791064377242221,0.017869217631333204,0.018436587089768766,0.017610574875640227,0.018206020330124847,0.016791081099762288,0.017937254875729433,0.01827410662724615,0.013758170065797994,0.018725970296345363,0.01907000046823054,0.019105475621910502,0.01910274316216162,0.01860411552362677,0.01242733953627375,0.01922092455467929,0.019596332862873062,0.01972456560467509,0.019607364151822612,0.01662281576019482,0.023107177974434116,0.01823101715284616,0.014109918238026547,0.018330225174304483,0.017033923303835005,0.018087287094451038,0.01631958853682435,0.019760244773097606,0.019415145474774607,0.020502056869945433,0.02045542556583416,0.020966864884268757,0.02022158565163185,0.01876058925700728,0.018028237647074646,0.010637395567863585,0.014735993774763697,0.018999186170699022,0.02059830054604568,0.020458214882150605,0.018702484074586856,0.020471906166596283,0.020060255698477136,0.018928292719906703,0.02006971618539247,0.01956180977799171,0.020653126999734508,0.02031552384965766,0.019444034185289942,0.016792929495626715,0.01836733579042886,0.014344878561060993,0.018321250755300444,0.017800976372194348,0.01139314867212071,0.019111971763467617,0.00906356341291035,0.02044452582737431,0.0003611752141039954,0.02096298525965582,0.020315740127581524,0.020277444442214507,0.007761646120263986,0.017279321823780374,0.016406269161220836,0.020254941504625243,0.0189561134188188,0.01983896101869115,0.021700879827512523,0.01749151053407289,0.019170211840881746,0.021145550583392705,0.021592841200721313,0.02076965397761837,0.00028209999175022335,0.019842122689783796,0.0206131311915129,0.018666035670249735,0.017542652459213846,0.019029518592097533,0.020218351516286506,0.007959460152464933,0.019381000318842732,0.018455402154306487,0.017709695939995183,0.002125026477323139,0.01799544701525325,0.020647694410441713,0.021349046927849884,0.021978018805030683,0.01842381777358612,0.020815630873784883,0.02061892721690429,0.01907863820716751,0.019375836404702782,0.019559887803039876,0.0029013951040920928,0.019407964824736723,0.019553465240570094,0.020329508335618585,0.016291615105563897,0.02105351875263361,0.01923143075650445,0.00028209999175022335,0.018220701587747547,0.021104555883316698,0.021220961344222765,0.020832545145229437,0.02117501677826143,0.020547185376936495,0.02073097144462489,0.020146626398838654,0.01730479356606637,0.01971446185816167,0.015514277687476485,0.018566404011621022,0.008132001997783798,0.020433390858801585,0.02216849834001096,0.020175111539207487,0.019817011039092582,0.0036602987310951664,0.021252638256220018,0.020792234953633894,0.00028209999175022335,0.01866292082221284,0.006494008878543251,0.02077057929038535,0.020264990624240406,0.02006104611625037,0.00028209999175022335,0.017896360510772643,0.0201839811637535,0.019162707888792957,0.0218630102319523,0.019464299649718818,0.019427949350831714,0.021209879887713615,0.021239710633515756,0.020502086970481236,0.02156971284088837,0.020397594632739824,0.020365918835577312,0.02112834534010242,0.020554233361649923,0.021410708432832014,0.020136298570558795,0.021851788306276054,0.017142794712116396,0.020542970187091326,0.02113848141682082,0.00028209999175022335,0.020061975888355787,0.021302878280122027,0.021133874920010346,0.016468240590238156,0.021974753454314953,0.010559060595723261,0.02187212512012317,0.02173363701429419,0.00028209999175022335,0.022094922597029356,0.022398296978574702,0.00028209999175022335,0.020329258612654968,0.021757268164558228,0.02048449376472952,0.020636188201927492,0.00028209999175022335,0.022034236572373675,0.020780842458254803,0.02190298151381141,0.020878171983312866,0.02175321128123457,0.018362287819093576,0.020752251408593436,0.02189429026281081,0.019941465606235793,0.021209862050359147,0.02091056461916103,0.02154373273399791,0.02093965177024575,0.020072424118778732,0.00028209999175022335,0.020136090096477658,0.017707414988283186,0.02176152571812062,0.020018350178484863,0.021813809233952215,0.00028209999175022335,0.02019238813191594,0.01966205905502137,0.01996392395043879,0.02042522580975991,0.0008238204491891859,0.010194365848601228,0.015154296461292157,0.021672974401166344,0.019809097942684064,0.02105942514665623,0.00028209999175022335,0.01866276251569134,0.0094628202641268,0.021337900810930465,0.00028209999175022335,0.0095994142658704,0.01978534750511144,0.021745069643720867,0.018733489856119438,0.021585786526999873,0.019941170175051297,0.022133459086682662,0.00028209999175022335,0.020073122005275244,0.01978276666287606,0.02152837923107602,0.019903580180023438,0.020423436500132484,0.021110788923894494,0.019294762283805663,0.02102171363465059,0.021811551693767896,0.02039260574764144,0.022112850253178738,0.02149438792232692,0.016499579707333793,0.00028209999175022335,0.021062042778435305,0.021956804616307033,0.016054330352265722,0.00028209999175022335,0.0010874164152714577,0.009759837858447381,0.019320364461746693,0.020826160487137903,0.020859353574271183,0.020499335558543084,0.02189519773822318,0.019841136061110615,0.014979306439062322,0.018683787182522924,0.017828239653777084,0.0015668577493271984,0.02202120081070745,0.02078896402874466,0.00028209999175022335,0.019897497642124465,0.018946524725917912,0.019331088056330274,0.009662253036252351,0.02081506788228219,0.018419242492146003,0.005006934271578228,0.0039622394352693425,0.01959923589232468,0.017939734268010824,0.020440619446729744,0.00028209999175022335,0.0032111786700914106,0.021831098089841988,0.020949272793351768,0.02142727264619353,0.01122079857836313,0.011762784366450885,0.021480045574440637,0.00028209999175022335,0.01745826950904921,0.020249534556529704,0.021741390689346485,0.018495999973243995,0.011540317995438386,0.00028209999175022335,0.02165516937682937,0.01821586543499742,0.021009345658945047,0.016405916873468727,0.016009573085215997,0.02208455240503248,0.02065656514982242,0.021181862977901634,0.00028209999175022335,0.02104881860971162,0.019000789302938397,0.001482893976994275,0.01201158424694069,0.02077656260799931,0.02127135744497707,0.00028209999175022335,0.02054310842658918,0.020277953921653685,0.0008752054082859024,0.02080192955582726,0.019765342911992584,0.009080797641901912,0.02062823385663651,0.01949218054970254,0.007560159822696749,0.02196333977707728,0.00028209999175022335,0.01898111693054795,0.020206819666575084,0.020027909885684682,0.020447499091409624,0.021990100268228854,0.015467241698384,0.01995478565074003,0.021221212182021016,0.020026523031369113,0.0016304456885999257,0.017459849229760842,0.019833315495978648,0.020049012590942498,0.01974406517769339,0.021292123470167776,0.020142394486473546,0.021544772874734688,0.01761092158921919,0.017153228449688702,0.01572895582356214,0.016641178201861114,0.02070747853385843,0.019609297275120976,0.00028209999175022335,0.01840982771345179,0.01980183368004683,0.02155078852255399],\"type\":\"scatter\",\"xaxis\":\"x\",\"yaxis\":\"y\"},{\"marker\":{\"color\":[0,1,2,3,4,5,6,7,8,9,10,11,12,13,14,15,16,17,18,19,20,21,22,23,24,25,26,27,28,29,30,31,32,33,34,35,36,37,38,39,40,41,42,43,44,45,46,47,48,49,50,51,52,53,54,55,56,57,58,59,60,61,62,63,64,65,66,67,68,69,70,71,72,73,74,75,76,77,78,79,80,81,82,83,84,85,86,87,88,89,90,91,92,93,94,95,96,97,98,99,100,101,102,103,104,105,106,107,108,109,110,111,112,113,114,115,116,117,118,119,120,121,122,123,124,125,126,127,128,129,130,131,132,133,134,135,136,137,138,139,140,141,142,143,144,145,146,147,148,149,150,151,152,153,154,155,156,157,158,159,160,161,162,163,164,165,166,167,168,169,170,171,172,173,174,175,176,177,178,179,180,181,182,183,184,185,186,187,188,189,190,191,192,193,194,195,196,197,198,199,200,201,202,203,204,205,206,207,208,209,210,211,212,213,214,215,216,217,218,219,220,221,222,223,224,225,226,227,228,229,230,231,232,233,234,235,236,237,238,239,240,241,242,243,244,245,246,247,248,249,250,251,252,253,254,255,256,257,258,259,260,261,262,263,264,265,266,267,268,269,270,271,272,273,274,275,276,277,278,279,280,281,282,283,284,285,286,287,288,289,290,291,292,293,294,295,296,297,298,299,300,301,302,303,304,305,306,307,308,309,310,311,312,313,314,315,316,317,318,319,320,321,322,323,324,325,326,327,328,329,330,331,332,333,334,335,336,337,338,339,340,341,342,343,344,345,346,347,348,349,350,351,352,353,354,355,356,357,358,359,360,361,362,363,364,365,366,367,368,369,370,371,372,373,374,375,376,377,378,379,380,381,382,383,384,385,386,387,388,389,390,391,392,393,394,395,396,397,398,399],\"colorbar\":{\"title\":{\"text\":\"Trial\"},\"x\":1.0,\"xpad\":40},\"colorscale\":[[0.0,\"rgb(247,251,255)\"],[0.125,\"rgb(222,235,247)\"],[0.25,\"rgb(198,219,239)\"],[0.375,\"rgb(158,202,225)\"],[0.5,\"rgb(107,174,214)\"],[0.625,\"rgb(66,146,198)\"],[0.75,\"rgb(33,113,181)\"],[0.875,\"rgb(8,81,156)\"],[1.0,\"rgb(8,48,107)\"]],\"line\":{\"color\":\"Grey\",\"width\":0.5},\"showscale\":false},\"mode\":\"markers\",\"name\":\"Feasible Trial\",\"showlegend\":false,\"x\":[0.1911757050046814,2.347751947736217,0.9859677515925422,1.9597635406871374,0.7064672669893378,1.657159230192423,1.9419728542105017,0.8623295787272951,1.441458441204304,1.8738506398308974,0.058840612049587016,0.00670679214483378,0.6214979068432124,0.7250172822837355,0.599443868135427,2.9365776812616664,0.47063331816915244,1.1179514718107508,0.33101606827355495,0.3248879865232761,1.2067804986634327,0.32407442126484975,0.381106200382391,0.3974143645776863,0.3644031323303653,1.311628388620281,0.9448057758971087,0.48675649059290865,0.15116705906728745,0.5535092534013041,0.8220754490383905,0.3826313060333483,0.17769537708730265,0.4692020916595774,2.379082840643206,1.003500553300388,0.2133021198017941,0.7722023283343122,0.5116450566179782,0.6539332399540405,1.5776148298304247,0.3917346202325938,0.168238001159981,0.4833888680974175,0.025880738485161814,0.8494164939471109,1.0332592231310511,0.6921233385062938,0.25290487983444637,2.1651394098464953,0.43751217402763426,0.6046414144617693,0.37455202868395165,0.0926687807416372,0.298874050043169,0.4682631210105372,0.7239338367229837,2.912894691063381,0.5798029322871325,1.8014476768429193,0.0017414915693738653,0.43887286018893035,0.410099474026966,0.2615706335554726,0.35294512616138485,0.0982033621957556,0.910260505555264,0.5362247599871399,0.5724183791578955,0.7652913219630755,1.3717244378521447,0.4941364416717085,0.4910094506405606,0.6449316357564634,0.5291296994581898,0.2355242281366773,0.27677987063861725,0.19062267059361554,0.219357075631732,0.15783604031628723,0.25113755820773787,0.27574848504000365,0.09372225065714646,0.23389078942888603,0.23900993246921745,0.2447676226580494,0.2597047746290456,0.26071814414414163,0.11840736366892565,0.2854673850914189,0.3077569974741729,0.3026290028041769,0.3290496692657702,0.32128630870065517,0.3083563477321993,0.04879930793018916,0.18799246084018037,0.3529909242290089,0.15809692923732874,0.07115575588055806,0.4311303450352507,0.3304564906469858,0.3138962964391322,0.3243794728903933,0.332652399039224,0.33071535020364856,0.3389525245646069,0.3469362250044336,0.41968157362549446,0.6734811218287203,0.5981251463563451,0.31623112273543785,0.38887838284496,0.38478840929248187,0.3874829845031903,0.3470016780622355,0.5311447508445212,0.5221634659421087,0.43959617094549513,0.4186387197933628,0.45067007044900187,0.4685973570842519,0.5574992243112211,0.4550433127784324,0.6459290364398934,0.7876907594719686,0.4774132048572643,0.38521700510086987,0.6054358641967335,0.5377836583460731,0.1498628982117829,0.39021015443175566,2.572425193885043,0.44823473048482976,0.4547041165834522,0.44811410489121345,1.1123374139788118,0.38516049829410914,0.7131087761112493,0.46012499292482306,0.4847686088995182,0.4365280582570237,0.36807905469955515,0.5783256091299249,0.3859191308876072,0.4818857716419896,0.20728234678572668,0.14340136694234928,0.19899621604152962,0.11192926456182523,0.21199768591746088,0.17951348973043746,0.002942960647083659,0.21847274492409166,0.12841654098262484,0.2814814235758936,0.359373406582895,0.2081355600304281,0.08656204484107935,1.7058469192542625,0.37923685438178867,0.282519570959174,0.27698852899823795,0.28145306838039663,0.27844338955761644,0.21736219076007268,0.1521372783245516,0.0455853947157526,0.14240343096261526,0.21458715555654712,1.995461748356047,0.1568914245471085,0.25097313620173034,0.2979151279704883,0.19455516241681953,0.2975802514926073,0.06876584479948783,0.27721704748599074,0.14382877133429367,0.3196886105336148,0.23013529784504727,0.27641194709437306,0.22536665686057542,0.189476717322299,0.23788429527816096,0.11034006478482342,0.25371069671827284,0.2883894830524852,0.24278860744643765,0.052052548167699705,0.1451988858916796,0.20935230660416482,0.32594663458045997,0.32064362639645055,0.2940265065407999,1.5112373563840051,0.2427676454829431,0.33840531264259904,0.3512223905866906,0.22506548212025448,1.2688758586217257,0.32651049103587776,0.34401128529020214,0.3313557292537808,0.41642219892691057,0.2547289136583049,0.3939408583290947,0.1955614685116881,0.30211940029837225,0.2967604983454856,0.25442308865502367,0.3583125681782948,0.352292953274586,0.34034459959496344,0.3925110853886147,0.3883270407202496,0.506902577976053,0.3487518972744558,0.3846638860767366,0.4289485686877299,0.4135440700415238,0.31521939578257063,0.2927710381037612,0.4943937348051957,0.442004804419156,0.4240302349855053,0.4397199914025864,0.3588939824148489,0.5188641166775286,0.500316726308875,0.36131477432356945,0.3595794392064216,0.37373658359729933,0.4130889325122545,0.5515783618362256,0.4063189821220271,0.4089925748433344,0.48911208197265627,0.41329274589222925,0.4338106821145718,0.4203613438279023,0.5383927047789082,0.4678531204246899,0.383486861572407,0.38295925280269294,0.38216622239035497,0.3754792517551317,0.3700536421313909,0.36242310784027,0.30176697025243926,0.394087189444259,0.39524080092034525,0.4206371354513588,0.3527750683149926,0.30954252761231343,0.2890394801368876,0.4195399568053083,0.2826241747966913,0.3656796844721463,0.4696587921219928,0.31384288878513644,0.31957469820191015,0.4199420426110107,0.44213816116533605,0.4071837945593499,0.5785562346701076,0.2889216159646195,0.48439391590280667,2.8593795567824967,0.395395495533579,0.3339410256925806,0.24988007658595862,0.44914267257616347,0.31158771606747426,0.38063577964946216,0.27088931775480335,0.5517456222743966,0.49199659148450386,0.5120043193065009,0.4433183574599116,0.4939269975052131,0.26445772811501844,0.18609258642491924,0.2598016429797425,0.24176260956369697,0.3275463944168449,0.3041605569650029,0.19047316510640655,0.33088867735322114,0.24758948647511828,0.35521699496717485,0.25492256749362585,0.18143058530598677,0.3163350301161495,0.37712856580848375,0.2734240701711701,0.24440952881883532,0.4033928476244954,0.17284194657581242,0.26269057261378737,0.4268003634532152,0.34067546751996985,0.39509595370276385,0.6100573301542034,0.4122204567926285,2.3408159563884876,1.0347322737523537,0.37964238007518963,0.4615814680738768,0.32168128671682056,0.3921658725105445,0.4548283611163519,0.5581441984846446,0.45970000547418965,0.5113223707433329,0.42241754029264283,1.9142795006583584,0.3476674651350129,0.3639103874012487,0.46113515427367474,0.39399161975973573,0.3313864132848723,0.5215653939954641,0.4282202779691491,0.3250622877874864,0.3913753472379546,0.4541074160949888,1.3805453133174364,0.30657618655358065,0.6204757144859082,0.3706661965994503,0.5283015754277498,1.66860229421994,0.2971109709558903,0.31484858904886004,0.2772003439053804,0.42611067580672524,0.9104296729365293,0.3614502108575262,0.4777504965509525,0.2918888595527118,0.20172695487998804,0.35219200640910847,0.28850258425768227,0.3470690939257773,0.23612659012336698,0.35367006343817575,0.2922158780634617,0.40785564160452514,0.4664633539773638,0.2225124580071361,0.3435185523266646,0.3101964806740447,0.16864591937596765,0.2648311179993221,0.4098996448113549,0.5501690581982251,1.7795191489420583,0.10585125894893832,0.3611699459093032,0.5062926806779287,0.42718752444357005,0.24109184675254888,0.3179157412202337,2.1647528057479843,0.3740317712731017,0.4764914390128259,0.28535851373911275,0.4051208286268067,0.19970517052600656,1.1719341154389071,0.3369556972715943,0.36058842816521103,0.461720017885353,0.587849714270209,0.33811806975587705,0.4295532100461422,0.3139733248944746,0.2986798705872741,0.23776947895893868,0.3435665368922582,0.41379861633990167,2.6697538315602047,0.4873811498089301,0.15570710666859044,0.2918601873624654,0.3871532465833219,0.3179638934433178,0.24173826738404924,0.43727081723267125,0.3274122201283317,0.5254171822984062,0.20503414632829167,0.6571374824244977,0.3921163583423712,0.28217876724959606,0.45171687293708707,0.34814517859585437,0.39803871263650503,0.25147500657743965],\"y\":[0.006955000813829319,0.004003837260895806,0.00629727177662281,0.006152528333522871,0.008852048062751947,0.006060187693563195,0.004111397623618421,0.009696914360631382,0.007295051025982387,0.0020743059596831158,0.009086452083291705,0.00901820190547557,0.010103978398963874,0.010042351453856102,0.010257217996999106,0.0033975400058416983,0.010439102156759372,0.009670387984758156,0.01315999661090301,0.014055765144471818,0.007789414421947156,0.010118282842471883,0.015637350974477195,0.015893523256566015,0.01633631328637671,0.004788920550193202,0.009793877105086713,0.016267123302943137,0.00960222922338409,0.01258263043008129,0.011968937361900144,0.015554022657899845,0.01482531098312856,0.0170921165581933,0.0018588206833044555,0.007924300496993386,0.013089155557339681,0.008289903834362419,0.015282923854563354,0.011173080310459398,0.0036768205807396477,0.016318202797343303,0.015391266831216563,0.01324736843278809,0.013394684914280764,0.01076726042760622,0.0021909477655368908,0.007712222155332205,0.00876202181954406,0.006414486607491263,0.014672178409220466,0.015193378105093464,0.017047615703115204,0.01404009391367213,0.014784592762047888,0.014706071612519465,0.00735647507118222,0.001072086323877311,0.015177822817098272,0.005186960001962128,0.013758945990720622,0.016200047046022775,0.014110208095037805,0.015171283196989365,0.013772800041026295,0.013126472417876104,0.010356713645799404,0.016458009752573718,0.011184693543100931,0.009790699826308966,0.005344545225497624,0.017423581428638386,0.01758896492061264,0.01582028865299008,0.01791064377242221,0.017869217631333204,0.018436587089768766,0.017610574875640227,0.018206020330124847,0.016791081099762288,0.017937254875729433,0.01827410662724615,0.013758170065797994,0.018725970296345363,0.01907000046823054,0.019105475621910502,0.01910274316216162,0.01860411552362677,0.01242733953627375,0.01922092455467929,0.019596332862873062,0.01972456560467509,0.019607364151822612,0.01662281576019482,0.023107177974434116,0.01823101715284616,0.014109918238026547,0.018330225174304483,0.017033923303835005,0.018087287094451038,0.01631958853682435,0.019760244773097606,0.019415145474774607,0.020502056869945433,0.02045542556583416,0.020966864884268757,0.02022158565163185,0.01876058925700728,0.018028237647074646,0.010637395567863585,0.014735993774763697,0.018999186170699022,0.02059830054604568,0.020458214882150605,0.018702484074586856,0.020471906166596283,0.020060255698477136,0.018928292719906703,0.02006971618539247,0.01956180977799171,0.020653126999734508,0.02031552384965766,0.019444034185289942,0.016792929495626715,0.01836733579042886,0.014344878561060993,0.018321250755300444,0.017800976372194348,0.01139314867212071,0.019111971763467617,0.00906356341291035,0.02044452582737431,0.0003611752141039954,0.02096298525965582,0.020315740127581524,0.020277444442214507,0.007761646120263986,0.017279321823780374,0.016406269161220836,0.020254941504625243,0.0189561134188188,0.01983896101869115,0.021700879827512523,0.01749151053407289,0.019170211840881746,0.021145550583392705,0.021592841200721313,0.02076965397761837,0.00028209999175022335,0.019842122689783796,0.0206131311915129,0.018666035670249735,0.017542652459213846,0.019029518592097533,0.020218351516286506,0.007959460152464933,0.019381000318842732,0.018455402154306487,0.017709695939995183,0.002125026477323139,0.01799544701525325,0.020647694410441713,0.021349046927849884,0.021978018805030683,0.01842381777358612,0.020815630873784883,0.02061892721690429,0.01907863820716751,0.019375836404702782,0.019559887803039876,0.0029013951040920928,0.019407964824736723,0.019553465240570094,0.020329508335618585,0.016291615105563897,0.02105351875263361,0.01923143075650445,0.00028209999175022335,0.018220701587747547,0.021104555883316698,0.021220961344222765,0.020832545145229437,0.02117501677826143,0.020547185376936495,0.02073097144462489,0.020146626398838654,0.01730479356606637,0.01971446185816167,0.015514277687476485,0.018566404011621022,0.008132001997783798,0.020433390858801585,0.02216849834001096,0.020175111539207487,0.019817011039092582,0.0036602987310951664,0.021252638256220018,0.020792234953633894,0.00028209999175022335,0.01866292082221284,0.006494008878543251,0.02077057929038535,0.020264990624240406,0.02006104611625037,0.00028209999175022335,0.017896360510772643,0.0201839811637535,0.019162707888792957,0.0218630102319523,0.019464299649718818,0.019427949350831714,0.021209879887713615,0.021239710633515756,0.020502086970481236,0.02156971284088837,0.020397594632739824,0.020365918835577312,0.02112834534010242,0.020554233361649923,0.021410708432832014,0.020136298570558795,0.021851788306276054,0.017142794712116396,0.020542970187091326,0.02113848141682082,0.00028209999175022335,0.020061975888355787,0.021302878280122027,0.021133874920010346,0.016468240590238156,0.021974753454314953,0.010559060595723261,0.02187212512012317,0.02173363701429419,0.00028209999175022335,0.022094922597029356,0.022398296978574702,0.00028209999175022335,0.020329258612654968,0.021757268164558228,0.02048449376472952,0.020636188201927492,0.00028209999175022335,0.022034236572373675,0.020780842458254803,0.02190298151381141,0.020878171983312866,0.02175321128123457,0.018362287819093576,0.020752251408593436,0.02189429026281081,0.019941465606235793,0.021209862050359147,0.02091056461916103,0.02154373273399791,0.02093965177024575,0.020072424118778732,0.00028209999175022335,0.020136090096477658,0.017707414988283186,0.02176152571812062,0.020018350178484863,0.021813809233952215,0.00028209999175022335,0.02019238813191594,0.01966205905502137,0.01996392395043879,0.02042522580975991,0.0008238204491891859,0.010194365848601228,0.015154296461292157,0.021672974401166344,0.019809097942684064,0.02105942514665623,0.00028209999175022335,0.01866276251569134,0.0094628202641268,0.021337900810930465,0.00028209999175022335,0.0095994142658704,0.01978534750511144,0.021745069643720867,0.018733489856119438,0.021585786526999873,0.019941170175051297,0.022133459086682662,0.00028209999175022335,0.020073122005275244,0.01978276666287606,0.02152837923107602,0.019903580180023438,0.020423436500132484,0.021110788923894494,0.019294762283805663,0.02102171363465059,0.021811551693767896,0.02039260574764144,0.022112850253178738,0.02149438792232692,0.016499579707333793,0.00028209999175022335,0.021062042778435305,0.021956804616307033,0.016054330352265722,0.00028209999175022335,0.0010874164152714577,0.009759837858447381,0.019320364461746693,0.020826160487137903,0.020859353574271183,0.020499335558543084,0.02189519773822318,0.019841136061110615,0.014979306439062322,0.018683787182522924,0.017828239653777084,0.0015668577493271984,0.02202120081070745,0.02078896402874466,0.00028209999175022335,0.019897497642124465,0.018946524725917912,0.019331088056330274,0.009662253036252351,0.02081506788228219,0.018419242492146003,0.005006934271578228,0.0039622394352693425,0.01959923589232468,0.017939734268010824,0.020440619446729744,0.00028209999175022335,0.0032111786700914106,0.021831098089841988,0.020949272793351768,0.02142727264619353,0.01122079857836313,0.011762784366450885,0.021480045574440637,0.00028209999175022335,0.01745826950904921,0.020249534556529704,0.021741390689346485,0.018495999973243995,0.011540317995438386,0.00028209999175022335,0.02165516937682937,0.01821586543499742,0.021009345658945047,0.016405916873468727,0.016009573085215997,0.02208455240503248,0.02065656514982242,0.021181862977901634,0.00028209999175022335,0.02104881860971162,0.019000789302938397,0.001482893976994275,0.01201158424694069,0.02077656260799931,0.02127135744497707,0.00028209999175022335,0.02054310842658918,0.020277953921653685,0.0008752054082859024,0.02080192955582726,0.019765342911992584,0.009080797641901912,0.02062823385663651,0.01949218054970254,0.007560159822696749,0.02196333977707728,0.00028209999175022335,0.01898111693054795,0.020206819666575084,0.020027909885684682,0.020447499091409624,0.021990100268228854,0.015467241698384,0.01995478565074003,0.021221212182021016,0.020026523031369113,0.0016304456885999257,0.017459849229760842,0.019833315495978648,0.020049012590942498,0.01974406517769339,0.021292123470167776,0.020142394486473546,0.021544772874734688,0.01761092158921919,0.017153228449688702,0.01572895582356214,0.016641178201861114,0.02070747853385843,0.019609297275120976,0.00028209999175022335,0.01840982771345179,0.01980183368004683,0.02155078852255399],\"type\":\"scatter\",\"xaxis\":\"x2\",\"yaxis\":\"y2\"},{\"marker\":{\"color\":[0,1,2,3,4,5,6,7,8,9,10,11,12,13,14,15,16,17,18,19,20,21,22,23,24,25,26,27,28,29,30,31,32,33,34,35,36,37,38,39,40,41,42,43,44,45,46,47,48,49,50,51,52,53,54,55,56,57,58,59,60,61,62,63,64,65,66,67,68,69,70,71,72,73,74,75,76,77,78,79,80,81,82,83,84,85,86,87,88,89,90,91,92,93,94,95,96,97,98,99,100,101,102,103,104,105,106,107,108,109,110,111,112,113,114,115,116,117,118,119,120,121,122,123,124,125,126,127,128,129,130,131,132,133,134,135,136,137,138,139,140,141,142,143,144,145,146,147,148,149,150,151,152,153,154,155,156,157,158,159,160,161,162,163,164,165,166,167,168,169,170,171,172,173,174,175,176,177,178,179,180,181,182,183,184,185,186,187,188,189,190,191,192,193,194,195,196,197,198,199,200,201,202,203,204,205,206,207,208,209,210,211,212,213,214,215,216,217,218,219,220,221,222,223,224,225,226,227,228,229,230,231,232,233,234,235,236,237,238,239,240,241,242,243,244,245,246,247,248,249,250,251,252,253,254,255,256,257,258,259,260,261,262,263,264,265,266,267,268,269,270,271,272,273,274,275,276,277,278,279,280,281,282,283,284,285,286,287,288,289,290,291,292,293,294,295,296,297,298,299,300,301,302,303,304,305,306,307,308,309,310,311,312,313,314,315,316,317,318,319,320,321,322,323,324,325,326,327,328,329,330,331,332,333,334,335,336,337,338,339,340,341,342,343,344,345,346,347,348,349,350,351,352,353,354,355,356,357,358,359,360,361,362,363,364,365,366,367,368,369,370,371,372,373,374,375,376,377,378,379,380,381,382,383,384,385,386,387,388,389,390,391,392,393,394,395,396,397,398,399],\"colorbar\":{\"title\":{\"text\":\"Trial\"},\"x\":1.0,\"xpad\":40},\"colorscale\":[[0.0,\"rgb(247,251,255)\"],[0.125,\"rgb(222,235,247)\"],[0.25,\"rgb(198,219,239)\"],[0.375,\"rgb(158,202,225)\"],[0.5,\"rgb(107,174,214)\"],[0.625,\"rgb(66,146,198)\"],[0.75,\"rgb(33,113,181)\"],[0.875,\"rgb(8,81,156)\"],[1.0,\"rgb(8,48,107)\"]],\"line\":{\"color\":\"Grey\",\"width\":0.5},\"showscale\":false},\"mode\":\"markers\",\"name\":\"Feasible Trial\",\"showlegend\":false,\"x\":[true,true,true,true,false,false,false,true,true,false,true,true,true,true,true,true,true,true,false,false,false,false,false,false,false,false,false,false,false,false,false,false,false,false,false,false,false,false,false,false,false,false,false,false,false,false,false,false,false,false,false,false,false,false,false,false,false,true,false,false,true,false,false,false,false,false,false,false,false,false,true,false,false,false,false,false,false,false,false,false,false,false,false,false,false,false,false,false,true,false,false,false,false,false,false,false,false,false,false,false,false,false,false,false,false,false,false,false,true,false,false,false,false,false,false,false,false,false,false,false,false,false,false,false,false,false,false,false,true,false,false,false,false,false,false,false,false,false,false,false,false,false,false,false,false,false,false,false,false,false,true,false,true,true,true,true,true,false,false,false,false,false,false,false,false,false,false,false,false,true,false,false,false,false,false,false,false,false,false,false,false,false,false,false,false,false,false,false,false,false,false,false,false,false,false,false,false,false,false,false,false,false,false,false,false,false,false,false,false,false,false,false,false,false,false,false,false,false,false,false,false,false,false,false,false,false,false,false,false,false,false,false,false,false,false,false,false,false,false,false,false,false,false,false,false,false,false,false,false,false,false,false,false,false,false,false,false,false,false,false,false,false,false,false,false,false,false,false,false,false,false,false,false,false,false,false,false,false,false,false,false,false,false,false,false,false,false,false,false,false,false,false,false,false,false,false,false,true,true,true,true,true,true,true,true,true,true,true,true,true,true,true,true,true,true,true,true,true,true,true,true,true,true,true,true,true,true,false,false,false,false,false,false,true,true,true,true,true,true,true,true,true,false,false,false,true,false,false,false,false,true,false,false,false,false,true,false,false,false,true,false,false,false,false,true,false,false,false,true,false,false,false,false,true,false,false,false,true,true,true,true,true,true,true,true,true,true,true,false,false,false,true,false,false,false,true,false,false,false,true],\"y\":[0.006955000813829319,0.004003837260895806,0.00629727177662281,0.006152528333522871,0.008852048062751947,0.006060187693563195,0.004111397623618421,0.009696914360631382,0.007295051025982387,0.0020743059596831158,0.009086452083291705,0.00901820190547557,0.010103978398963874,0.010042351453856102,0.010257217996999106,0.0033975400058416983,0.010439102156759372,0.009670387984758156,0.01315999661090301,0.014055765144471818,0.007789414421947156,0.010118282842471883,0.015637350974477195,0.015893523256566015,0.01633631328637671,0.004788920550193202,0.009793877105086713,0.016267123302943137,0.00960222922338409,0.01258263043008129,0.011968937361900144,0.015554022657899845,0.01482531098312856,0.0170921165581933,0.0018588206833044555,0.007924300496993386,0.013089155557339681,0.008289903834362419,0.015282923854563354,0.011173080310459398,0.0036768205807396477,0.016318202797343303,0.015391266831216563,0.01324736843278809,0.013394684914280764,0.01076726042760622,0.0021909477655368908,0.007712222155332205,0.00876202181954406,0.006414486607491263,0.014672178409220466,0.015193378105093464,0.017047615703115204,0.01404009391367213,0.014784592762047888,0.014706071612519465,0.00735647507118222,0.001072086323877311,0.015177822817098272,0.005186960001962128,0.013758945990720622,0.016200047046022775,0.014110208095037805,0.015171283196989365,0.013772800041026295,0.013126472417876104,0.010356713645799404,0.016458009752573718,0.011184693543100931,0.009790699826308966,0.005344545225497624,0.017423581428638386,0.01758896492061264,0.01582028865299008,0.01791064377242221,0.017869217631333204,0.018436587089768766,0.017610574875640227,0.018206020330124847,0.016791081099762288,0.017937254875729433,0.01827410662724615,0.013758170065797994,0.018725970296345363,0.01907000046823054,0.019105475621910502,0.01910274316216162,0.01860411552362677,0.01242733953627375,0.01922092455467929,0.019596332862873062,0.01972456560467509,0.019607364151822612,0.01662281576019482,0.023107177974434116,0.01823101715284616,0.014109918238026547,0.018330225174304483,0.017033923303835005,0.018087287094451038,0.01631958853682435,0.019760244773097606,0.019415145474774607,0.020502056869945433,0.02045542556583416,0.020966864884268757,0.02022158565163185,0.01876058925700728,0.018028237647074646,0.010637395567863585,0.014735993774763697,0.018999186170699022,0.02059830054604568,0.020458214882150605,0.018702484074586856,0.020471906166596283,0.020060255698477136,0.018928292719906703,0.02006971618539247,0.01956180977799171,0.020653126999734508,0.02031552384965766,0.019444034185289942,0.016792929495626715,0.01836733579042886,0.014344878561060993,0.018321250755300444,0.017800976372194348,0.01139314867212071,0.019111971763467617,0.00906356341291035,0.02044452582737431,0.0003611752141039954,0.02096298525965582,0.020315740127581524,0.020277444442214507,0.007761646120263986,0.017279321823780374,0.016406269161220836,0.020254941504625243,0.0189561134188188,0.01983896101869115,0.021700879827512523,0.01749151053407289,0.019170211840881746,0.021145550583392705,0.021592841200721313,0.02076965397761837,0.00028209999175022335,0.019842122689783796,0.0206131311915129,0.018666035670249735,0.017542652459213846,0.019029518592097533,0.020218351516286506,0.007959460152464933,0.019381000318842732,0.018455402154306487,0.017709695939995183,0.002125026477323139,0.01799544701525325,0.020647694410441713,0.021349046927849884,0.021978018805030683,0.01842381777358612,0.020815630873784883,0.02061892721690429,0.01907863820716751,0.019375836404702782,0.019559887803039876,0.0029013951040920928,0.019407964824736723,0.019553465240570094,0.020329508335618585,0.016291615105563897,0.02105351875263361,0.01923143075650445,0.00028209999175022335,0.018220701587747547,0.021104555883316698,0.021220961344222765,0.020832545145229437,0.02117501677826143,0.020547185376936495,0.02073097144462489,0.020146626398838654,0.01730479356606637,0.01971446185816167,0.015514277687476485,0.018566404011621022,0.008132001997783798,0.020433390858801585,0.02216849834001096,0.020175111539207487,0.019817011039092582,0.0036602987310951664,0.021252638256220018,0.020792234953633894,0.00028209999175022335,0.01866292082221284,0.006494008878543251,0.02077057929038535,0.020264990624240406,0.02006104611625037,0.00028209999175022335,0.017896360510772643,0.0201839811637535,0.019162707888792957,0.0218630102319523,0.019464299649718818,0.019427949350831714,0.021209879887713615,0.021239710633515756,0.020502086970481236,0.02156971284088837,0.020397594632739824,0.020365918835577312,0.02112834534010242,0.020554233361649923,0.021410708432832014,0.020136298570558795,0.021851788306276054,0.017142794712116396,0.020542970187091326,0.02113848141682082,0.00028209999175022335,0.020061975888355787,0.021302878280122027,0.021133874920010346,0.016468240590238156,0.021974753454314953,0.010559060595723261,0.02187212512012317,0.02173363701429419,0.00028209999175022335,0.022094922597029356,0.022398296978574702,0.00028209999175022335,0.020329258612654968,0.021757268164558228,0.02048449376472952,0.020636188201927492,0.00028209999175022335,0.022034236572373675,0.020780842458254803,0.02190298151381141,0.020878171983312866,0.02175321128123457,0.018362287819093576,0.020752251408593436,0.02189429026281081,0.019941465606235793,0.021209862050359147,0.02091056461916103,0.02154373273399791,0.02093965177024575,0.020072424118778732,0.00028209999175022335,0.020136090096477658,0.017707414988283186,0.02176152571812062,0.020018350178484863,0.021813809233952215,0.00028209999175022335,0.02019238813191594,0.01966205905502137,0.01996392395043879,0.02042522580975991,0.0008238204491891859,0.010194365848601228,0.015154296461292157,0.021672974401166344,0.019809097942684064,0.02105942514665623,0.00028209999175022335,0.01866276251569134,0.0094628202641268,0.021337900810930465,0.00028209999175022335,0.0095994142658704,0.01978534750511144,0.021745069643720867,0.018733489856119438,0.021585786526999873,0.019941170175051297,0.022133459086682662,0.00028209999175022335,0.020073122005275244,0.01978276666287606,0.02152837923107602,0.019903580180023438,0.020423436500132484,0.021110788923894494,0.019294762283805663,0.02102171363465059,0.021811551693767896,0.02039260574764144,0.022112850253178738,0.02149438792232692,0.016499579707333793,0.00028209999175022335,0.021062042778435305,0.021956804616307033,0.016054330352265722,0.00028209999175022335,0.0010874164152714577,0.009759837858447381,0.019320364461746693,0.020826160487137903,0.020859353574271183,0.020499335558543084,0.02189519773822318,0.019841136061110615,0.014979306439062322,0.018683787182522924,0.017828239653777084,0.0015668577493271984,0.02202120081070745,0.02078896402874466,0.00028209999175022335,0.019897497642124465,0.018946524725917912,0.019331088056330274,0.009662253036252351,0.02081506788228219,0.018419242492146003,0.005006934271578228,0.0039622394352693425,0.01959923589232468,0.017939734268010824,0.020440619446729744,0.00028209999175022335,0.0032111786700914106,0.021831098089841988,0.020949272793351768,0.02142727264619353,0.01122079857836313,0.011762784366450885,0.021480045574440637,0.00028209999175022335,0.01745826950904921,0.020249534556529704,0.021741390689346485,0.018495999973243995,0.011540317995438386,0.00028209999175022335,0.02165516937682937,0.01821586543499742,0.021009345658945047,0.016405916873468727,0.016009573085215997,0.02208455240503248,0.02065656514982242,0.021181862977901634,0.00028209999175022335,0.02104881860971162,0.019000789302938397,0.001482893976994275,0.01201158424694069,0.02077656260799931,0.02127135744497707,0.00028209999175022335,0.02054310842658918,0.020277953921653685,0.0008752054082859024,0.02080192955582726,0.019765342911992584,0.009080797641901912,0.02062823385663651,0.01949218054970254,0.007560159822696749,0.02196333977707728,0.00028209999175022335,0.01898111693054795,0.020206819666575084,0.020027909885684682,0.020447499091409624,0.021990100268228854,0.015467241698384,0.01995478565074003,0.021221212182021016,0.020026523031369113,0.0016304456885999257,0.017459849229760842,0.019833315495978648,0.020049012590942498,0.01974406517769339,0.021292123470167776,0.020142394486473546,0.021544772874734688,0.01761092158921919,0.017153228449688702,0.01572895582356214,0.016641178201861114,0.02070747853385843,0.019609297275120976,0.00028209999175022335,0.01840982771345179,0.01980183368004683,0.02155078852255399],\"type\":\"scatter\",\"xaxis\":\"x3\",\"yaxis\":\"y3\"},{\"marker\":{\"color\":[0,1,2,3,4,5,6,7,8,9,10,11,12,13,14,15,16,17,18,19,20,21,22,23,24,25,26,27,28,29,30,31,32,33,34,35,36,37,38,39,40,41,42,43,44,45,46,47,48,49,50,51,52,53,54,55,56,57,58,59,60,61,62,63,64,65,66,67,68,69,70,71,72,73,74,75,76,77,78,79,80,81,82,83,84,85,86,87,88,89,90,91,92,93,94,95,96,97,98,99,100,101,102,103,104,105,106,107,108,109,110,111,112,113,114,115,116,117,118,119,120,121,122,123,124,125,126,127,128,129,130,131,132,133,134,135,136,137,138,139,140,141,142,143,144,145,146,147,148,149,150,151,152,153,154,155,156,157,158,159,160,161,162,163,164,165,166,167,168,169,170,171,172,173,174,175,176,177,178,179,180,181,182,183,184,185,186,187,188,189,190,191,192,193,194,195,196,197,198,199,200,201,202,203,204,205,206,207,208,209,210,211,212,213,214,215,216,217,218,219,220,221,222,223,224,225,226,227,228,229,230,231,232,233,234,235,236,237,238,239,240,241,242,243,244,245,246,247,248,249,250,251,252,253,254,255,256,257,258,259,260,261,262,263,264,265,266,267,268,269,270,271,272,273,274,275,276,277,278,279,280,281,282,283,284,285,286,287,288,289,290,291,292,293,294,295,296,297,298,299,300,301,302,303,304,305,306,307,308,309,310,311,312,313,314,315,316,317,318,319,320,321,322,323,324,325,326,327,328,329,330,331,332,333,334,335,336,337,338,339,340,341,342,343,344,345,346,347,348,349,350,351,352,353,354,355,356,357,358,359,360,361,362,363,364,365,366,367,368,369,370,371,372,373,374,375,376,377,378,379,380,381,382,383,384,385,386,387,388,389,390,391,392,393,394,395,396,397,398,399],\"colorbar\":{\"title\":{\"text\":\"Trial\"},\"x\":1.0,\"xpad\":40},\"colorscale\":[[0.0,\"rgb(247,251,255)\"],[0.125,\"rgb(222,235,247)\"],[0.25,\"rgb(198,219,239)\"],[0.375,\"rgb(158,202,225)\"],[0.5,\"rgb(107,174,214)\"],[0.625,\"rgb(66,146,198)\"],[0.75,\"rgb(33,113,181)\"],[0.875,\"rgb(8,81,156)\"],[1.0,\"rgb(8,48,107)\"]],\"line\":{\"color\":\"Grey\",\"width\":0.5},\"showscale\":false},\"mode\":\"markers\",\"name\":\"Feasible Trial\",\"showlegend\":false,\"x\":[false,true,false,false,false,false,false,true,true,true,true,true,true,true,true,true,true,true,true,true,true,true,true,true,true,true,true,true,true,false,true,true,true,true,true,false,true,false,true,false,true,true,true,true,true,true,true,false,true,true,true,true,true,true,true,true,true,true,true,true,false,true,true,true,true,true,true,true,true,true,true,true,true,true,true,true,true,true,true,false,true,true,true,true,true,true,true,true,true,true,true,true,true,true,true,true,false,true,true,true,true,true,true,true,true,true,true,true,true,true,false,true,true,true,true,true,true,true,true,true,true,true,true,true,true,true,true,true,true,true,true,true,true,true,true,true,true,false,true,true,true,true,true,true,true,true,true,true,true,true,true,true,true,true,true,true,true,true,true,true,false,true,true,true,true,true,true,true,true,true,true,true,true,true,true,true,true,true,true,true,true,true,true,true,true,true,true,true,true,true,false,true,true,true,true,true,true,true,true,true,true,true,true,true,true,true,true,true,true,true,true,true,true,true,true,true,true,true,true,true,true,true,true,true,true,true,true,true,true,false,true,true,true,true,true,true,true,true,true,true,true,true,true,true,true,true,true,true,true,true,true,true,true,true,true,true,true,true,true,false,true,true,true,true,true,true,true,true,true,true,true,true,true,true,true,true,true,true,true,false,true,true,true,true,true,true,true,true,true,true,true,true,true,true,true,true,true,true,true,false,true,true,true,true,true,true,true,true,true,true,true,true,true,true,true,true,true,true,true,false,true,true,true,true,true,true,true,true,true,true,true,true,true,true,true,true,true,true,true,false,true,true,true,true,true,true,true,true,true,true,true,true,true,true,true,true,true,true,false,true,true,true,true,true,true,true,true,true,true,true,true,true,true,true,true,true,true,true,false,true,true,true,true,true,true,true,true,true,true,true,true,true,true,true,true,true,true,false,true,true],\"y\":[0.006955000813829319,0.004003837260895806,0.00629727177662281,0.006152528333522871,0.008852048062751947,0.006060187693563195,0.004111397623618421,0.009696914360631382,0.007295051025982387,0.0020743059596831158,0.009086452083291705,0.00901820190547557,0.010103978398963874,0.010042351453856102,0.010257217996999106,0.0033975400058416983,0.010439102156759372,0.009670387984758156,0.01315999661090301,0.014055765144471818,0.007789414421947156,0.010118282842471883,0.015637350974477195,0.015893523256566015,0.01633631328637671,0.004788920550193202,0.009793877105086713,0.016267123302943137,0.00960222922338409,0.01258263043008129,0.011968937361900144,0.015554022657899845,0.01482531098312856,0.0170921165581933,0.0018588206833044555,0.007924300496993386,0.013089155557339681,0.008289903834362419,0.015282923854563354,0.011173080310459398,0.0036768205807396477,0.016318202797343303,0.015391266831216563,0.01324736843278809,0.013394684914280764,0.01076726042760622,0.0021909477655368908,0.007712222155332205,0.00876202181954406,0.006414486607491263,0.014672178409220466,0.015193378105093464,0.017047615703115204,0.01404009391367213,0.014784592762047888,0.014706071612519465,0.00735647507118222,0.001072086323877311,0.015177822817098272,0.005186960001962128,0.013758945990720622,0.016200047046022775,0.014110208095037805,0.015171283196989365,0.013772800041026295,0.013126472417876104,0.010356713645799404,0.016458009752573718,0.011184693543100931,0.009790699826308966,0.005344545225497624,0.017423581428638386,0.01758896492061264,0.01582028865299008,0.01791064377242221,0.017869217631333204,0.018436587089768766,0.017610574875640227,0.018206020330124847,0.016791081099762288,0.017937254875729433,0.01827410662724615,0.013758170065797994,0.018725970296345363,0.01907000046823054,0.019105475621910502,0.01910274316216162,0.01860411552362677,0.01242733953627375,0.01922092455467929,0.019596332862873062,0.01972456560467509,0.019607364151822612,0.01662281576019482,0.023107177974434116,0.01823101715284616,0.014109918238026547,0.018330225174304483,0.017033923303835005,0.018087287094451038,0.01631958853682435,0.019760244773097606,0.019415145474774607,0.020502056869945433,0.02045542556583416,0.020966864884268757,0.02022158565163185,0.01876058925700728,0.018028237647074646,0.010637395567863585,0.014735993774763697,0.018999186170699022,0.02059830054604568,0.020458214882150605,0.018702484074586856,0.020471906166596283,0.020060255698477136,0.018928292719906703,0.02006971618539247,0.01956180977799171,0.020653126999734508,0.02031552384965766,0.019444034185289942,0.016792929495626715,0.01836733579042886,0.014344878561060993,0.018321250755300444,0.017800976372194348,0.01139314867212071,0.019111971763467617,0.00906356341291035,0.02044452582737431,0.0003611752141039954,0.02096298525965582,0.020315740127581524,0.020277444442214507,0.007761646120263986,0.017279321823780374,0.016406269161220836,0.020254941504625243,0.0189561134188188,0.01983896101869115,0.021700879827512523,0.01749151053407289,0.019170211840881746,0.021145550583392705,0.021592841200721313,0.02076965397761837,0.00028209999175022335,0.019842122689783796,0.0206131311915129,0.018666035670249735,0.017542652459213846,0.019029518592097533,0.020218351516286506,0.007959460152464933,0.019381000318842732,0.018455402154306487,0.017709695939995183,0.002125026477323139,0.01799544701525325,0.020647694410441713,0.021349046927849884,0.021978018805030683,0.01842381777358612,0.020815630873784883,0.02061892721690429,0.01907863820716751,0.019375836404702782,0.019559887803039876,0.0029013951040920928,0.019407964824736723,0.019553465240570094,0.020329508335618585,0.016291615105563897,0.02105351875263361,0.01923143075650445,0.00028209999175022335,0.018220701587747547,0.021104555883316698,0.021220961344222765,0.020832545145229437,0.02117501677826143,0.020547185376936495,0.02073097144462489,0.020146626398838654,0.01730479356606637,0.01971446185816167,0.015514277687476485,0.018566404011621022,0.008132001997783798,0.020433390858801585,0.02216849834001096,0.020175111539207487,0.019817011039092582,0.0036602987310951664,0.021252638256220018,0.020792234953633894,0.00028209999175022335,0.01866292082221284,0.006494008878543251,0.02077057929038535,0.020264990624240406,0.02006104611625037,0.00028209999175022335,0.017896360510772643,0.0201839811637535,0.019162707888792957,0.0218630102319523,0.019464299649718818,0.019427949350831714,0.021209879887713615,0.021239710633515756,0.020502086970481236,0.02156971284088837,0.020397594632739824,0.020365918835577312,0.02112834534010242,0.020554233361649923,0.021410708432832014,0.020136298570558795,0.021851788306276054,0.017142794712116396,0.020542970187091326,0.02113848141682082,0.00028209999175022335,0.020061975888355787,0.021302878280122027,0.021133874920010346,0.016468240590238156,0.021974753454314953,0.010559060595723261,0.02187212512012317,0.02173363701429419,0.00028209999175022335,0.022094922597029356,0.022398296978574702,0.00028209999175022335,0.020329258612654968,0.021757268164558228,0.02048449376472952,0.020636188201927492,0.00028209999175022335,0.022034236572373675,0.020780842458254803,0.02190298151381141,0.020878171983312866,0.02175321128123457,0.018362287819093576,0.020752251408593436,0.02189429026281081,0.019941465606235793,0.021209862050359147,0.02091056461916103,0.02154373273399791,0.02093965177024575,0.020072424118778732,0.00028209999175022335,0.020136090096477658,0.017707414988283186,0.02176152571812062,0.020018350178484863,0.021813809233952215,0.00028209999175022335,0.02019238813191594,0.01966205905502137,0.01996392395043879,0.02042522580975991,0.0008238204491891859,0.010194365848601228,0.015154296461292157,0.021672974401166344,0.019809097942684064,0.02105942514665623,0.00028209999175022335,0.01866276251569134,0.0094628202641268,0.021337900810930465,0.00028209999175022335,0.0095994142658704,0.01978534750511144,0.021745069643720867,0.018733489856119438,0.021585786526999873,0.019941170175051297,0.022133459086682662,0.00028209999175022335,0.020073122005275244,0.01978276666287606,0.02152837923107602,0.019903580180023438,0.020423436500132484,0.021110788923894494,0.019294762283805663,0.02102171363465059,0.021811551693767896,0.02039260574764144,0.022112850253178738,0.02149438792232692,0.016499579707333793,0.00028209999175022335,0.021062042778435305,0.021956804616307033,0.016054330352265722,0.00028209999175022335,0.0010874164152714577,0.009759837858447381,0.019320364461746693,0.020826160487137903,0.020859353574271183,0.020499335558543084,0.02189519773822318,0.019841136061110615,0.014979306439062322,0.018683787182522924,0.017828239653777084,0.0015668577493271984,0.02202120081070745,0.02078896402874466,0.00028209999175022335,0.019897497642124465,0.018946524725917912,0.019331088056330274,0.009662253036252351,0.02081506788228219,0.018419242492146003,0.005006934271578228,0.0039622394352693425,0.01959923589232468,0.017939734268010824,0.020440619446729744,0.00028209999175022335,0.0032111786700914106,0.021831098089841988,0.020949272793351768,0.02142727264619353,0.01122079857836313,0.011762784366450885,0.021480045574440637,0.00028209999175022335,0.01745826950904921,0.020249534556529704,0.021741390689346485,0.018495999973243995,0.011540317995438386,0.00028209999175022335,0.02165516937682937,0.01821586543499742,0.021009345658945047,0.016405916873468727,0.016009573085215997,0.02208455240503248,0.02065656514982242,0.021181862977901634,0.00028209999175022335,0.02104881860971162,0.019000789302938397,0.001482893976994275,0.01201158424694069,0.02077656260799931,0.02127135744497707,0.00028209999175022335,0.02054310842658918,0.020277953921653685,0.0008752054082859024,0.02080192955582726,0.019765342911992584,0.009080797641901912,0.02062823385663651,0.01949218054970254,0.007560159822696749,0.02196333977707728,0.00028209999175022335,0.01898111693054795,0.020206819666575084,0.020027909885684682,0.020447499091409624,0.021990100268228854,0.015467241698384,0.01995478565074003,0.021221212182021016,0.020026523031369113,0.0016304456885999257,0.017459849229760842,0.019833315495978648,0.020049012590942498,0.01974406517769339,0.021292123470167776,0.020142394486473546,0.021544772874734688,0.01761092158921919,0.017153228449688702,0.01572895582356214,0.016641178201861114,0.02070747853385843,0.019609297275120976,0.00028209999175022335,0.01840982771345179,0.01980183368004683,0.02155078852255399],\"type\":\"scatter\",\"xaxis\":\"x4\",\"yaxis\":\"y4\"},{\"marker\":{\"color\":[0,1,2,3,4,5,6,7,8,9,10,11,12,13,14,15,16,17,18,19,20,21,22,23,24,25,26,27,28,29,30,31,32,33,34,35,36,37,38,39,40,41,42,43,44,45,46,47,48,49,50,51,52,53,54,55,56,57,58,59,60,61,62,63,64,65,66,67,68,69,70,71,72,73,74,75,76,77,78,79,80,81,82,83,84,85,86,87,88,89,90,91,92,93,94,95,96,97,98,99,100,101,102,103,104,105,106,107,108,109,110,111,112,113,114,115,116,117,118,119,120,121,122,123,124,125,126,127,128,129,130,131,132,133,134,135,136,137,138,139,140,141,142,143,144,145,146,147,148,149,150,151,152,153,154,155,156,157,158,159,160,161,162,163,164,165,166,167,168,169,170,171,172,173,174,175,176,177,178,179,180,181,182,183,184,185,186,187,188,189,190,191,192,193,194,195,196,197,198,199,200,201,202,203,204,205,206,207,208,209,210,211,212,213,214,215,216,217,218,219,220,221,222,223,224,225,226,227,228,229,230,231,232,233,234,235,236,237,238,239,240,241,242,243,244,245,246,247,248,249,250,251,252,253,254,255,256,257,258,259,260,261,262,263,264,265,266,267,268,269,270,271,272,273,274,275,276,277,278,279,280,281,282,283,284,285,286,287,288,289,290,291,292,293,294,295,296,297,298,299,300,301,302,303,304,305,306,307,308,309,310,311,312,313,314,315,316,317,318,319,320,321,322,323,324,325,326,327,328,329,330,331,332,333,334,335,336,337,338,339,340,341,342,343,344,345,346,347,348,349,350,351,352,353,354,355,356,357,358,359,360,361,362,363,364,365,366,367,368,369,370,371,372,373,374,375,376,377,378,379,380,381,382,383,384,385,386,387,388,389,390,391,392,393,394,395,396,397,398,399],\"colorbar\":{\"title\":{\"text\":\"Trial\"},\"x\":1.0,\"xpad\":40},\"colorscale\":[[0.0,\"rgb(247,251,255)\"],[0.125,\"rgb(222,235,247)\"],[0.25,\"rgb(198,219,239)\"],[0.375,\"rgb(158,202,225)\"],[0.5,\"rgb(107,174,214)\"],[0.625,\"rgb(66,146,198)\"],[0.75,\"rgb(33,113,181)\"],[0.875,\"rgb(8,81,156)\"],[1.0,\"rgb(8,48,107)\"]],\"line\":{\"color\":\"Grey\",\"width\":0.5},\"showscale\":false},\"mode\":\"markers\",\"name\":\"Feasible Trial\",\"showlegend\":false,\"x\":[1492,1333,1077,1293,259,197,492,483,585,176,866,890,828,566,697,767,1072,1077,1078,1080,1207,1025,976,950,932,941,1196,673,723,370,1431,943,644,787,40,792,621,1186,439,682,852,973,774,906,1009,827,1341,538,1146,893,758,987,934,831,1125,963,902,663,1024,714,808,943,1047,877,927,975,1127,724,606,722,576,859,749,748,495,321,284,274,237,260,315,282,301,162,143,145,142,156,167,130,119,94,121,109,9,35,88,152,217,4,108,132,140,75,82,51,54,59,199,69,17,122,70,77,80,48,49,32,57,63,3,50,3,46,45,77,187,2,37,93,68,91,15,50,51,85,97,190,25,86,235,89,30,3,103,34,21,28,0,28,42,36,65,116,33,1,172,63,113,26,69,48,31,24,2,38,32,36,24,33,3,67,114,71,419,41,41,0,129,47,29,43,30,37,27,24,3,97,1467,53,23,48,23,96,3,62,27,26,0,86,1253,36,27,73,0,29,54,102,28,63,127,29,30,55,29,90,54,29,77,27,108,23,2,55,27,0,72,29,25,26,25,26,28,28,0,23,19,0,81,21,75,24,0,25,55,29,64,25,2,62,28,89,25,52,24,3,71,0,49,99,29,64,29,0,76,41,102,55,25,1392,519,26,83,46,0,117,58,26,0,355,81,27,54,28,82,24,0,55,142,29,108,62,27,87,50,24,57,22,4,81,0,50,27,121,0,72,38,100,53,26,78,22,52,25,101,2,60,27,69,0,138,45,91,29,54,431,1,30,75,119,43,0,79,28,49,27,104,69,23,0,627,53,28,91,51,0,30,73,50,111,469,25,69,23,0,51,93,147,30,69,27,0,51,91,25,61,121,1,39,82,46,24,0,68,26,95,51,25,1,71,45,113,21,1103,47,80,154,25,55,25,563,1223,2,84,54,105,0,33,70,29],\"y\":[0.006955000813829319,0.004003837260895806,0.00629727177662281,0.006152528333522871,0.008852048062751947,0.006060187693563195,0.004111397623618421,0.009696914360631382,0.007295051025982387,0.0020743059596831158,0.009086452083291705,0.00901820190547557,0.010103978398963874,0.010042351453856102,0.010257217996999106,0.0033975400058416983,0.010439102156759372,0.009670387984758156,0.01315999661090301,0.014055765144471818,0.007789414421947156,0.010118282842471883,0.015637350974477195,0.015893523256566015,0.01633631328637671,0.004788920550193202,0.009793877105086713,0.016267123302943137,0.00960222922338409,0.01258263043008129,0.011968937361900144,0.015554022657899845,0.01482531098312856,0.0170921165581933,0.0018588206833044555,0.007924300496993386,0.013089155557339681,0.008289903834362419,0.015282923854563354,0.011173080310459398,0.0036768205807396477,0.016318202797343303,0.015391266831216563,0.01324736843278809,0.013394684914280764,0.01076726042760622,0.0021909477655368908,0.007712222155332205,0.00876202181954406,0.006414486607491263,0.014672178409220466,0.015193378105093464,0.017047615703115204,0.01404009391367213,0.014784592762047888,0.014706071612519465,0.00735647507118222,0.001072086323877311,0.015177822817098272,0.005186960001962128,0.013758945990720622,0.016200047046022775,0.014110208095037805,0.015171283196989365,0.013772800041026295,0.013126472417876104,0.010356713645799404,0.016458009752573718,0.011184693543100931,0.009790699826308966,0.005344545225497624,0.017423581428638386,0.01758896492061264,0.01582028865299008,0.01791064377242221,0.017869217631333204,0.018436587089768766,0.017610574875640227,0.018206020330124847,0.016791081099762288,0.017937254875729433,0.01827410662724615,0.013758170065797994,0.018725970296345363,0.01907000046823054,0.019105475621910502,0.01910274316216162,0.01860411552362677,0.01242733953627375,0.01922092455467929,0.019596332862873062,0.01972456560467509,0.019607364151822612,0.01662281576019482,0.023107177974434116,0.01823101715284616,0.014109918238026547,0.018330225174304483,0.017033923303835005,0.018087287094451038,0.01631958853682435,0.019760244773097606,0.019415145474774607,0.020502056869945433,0.02045542556583416,0.020966864884268757,0.02022158565163185,0.01876058925700728,0.018028237647074646,0.010637395567863585,0.014735993774763697,0.018999186170699022,0.02059830054604568,0.020458214882150605,0.018702484074586856,0.020471906166596283,0.020060255698477136,0.018928292719906703,0.02006971618539247,0.01956180977799171,0.020653126999734508,0.02031552384965766,0.019444034185289942,0.016792929495626715,0.01836733579042886,0.014344878561060993,0.018321250755300444,0.017800976372194348,0.01139314867212071,0.019111971763467617,0.00906356341291035,0.02044452582737431,0.0003611752141039954,0.02096298525965582,0.020315740127581524,0.020277444442214507,0.007761646120263986,0.017279321823780374,0.016406269161220836,0.020254941504625243,0.0189561134188188,0.01983896101869115,0.021700879827512523,0.01749151053407289,0.019170211840881746,0.021145550583392705,0.021592841200721313,0.02076965397761837,0.00028209999175022335,0.019842122689783796,0.0206131311915129,0.018666035670249735,0.017542652459213846,0.019029518592097533,0.020218351516286506,0.007959460152464933,0.019381000318842732,0.018455402154306487,0.017709695939995183,0.002125026477323139,0.01799544701525325,0.020647694410441713,0.021349046927849884,0.021978018805030683,0.01842381777358612,0.020815630873784883,0.02061892721690429,0.01907863820716751,0.019375836404702782,0.019559887803039876,0.0029013951040920928,0.019407964824736723,0.019553465240570094,0.020329508335618585,0.016291615105563897,0.02105351875263361,0.01923143075650445,0.00028209999175022335,0.018220701587747547,0.021104555883316698,0.021220961344222765,0.020832545145229437,0.02117501677826143,0.020547185376936495,0.02073097144462489,0.020146626398838654,0.01730479356606637,0.01971446185816167,0.015514277687476485,0.018566404011621022,0.008132001997783798,0.020433390858801585,0.02216849834001096,0.020175111539207487,0.019817011039092582,0.0036602987310951664,0.021252638256220018,0.020792234953633894,0.00028209999175022335,0.01866292082221284,0.006494008878543251,0.02077057929038535,0.020264990624240406,0.02006104611625037,0.00028209999175022335,0.017896360510772643,0.0201839811637535,0.019162707888792957,0.0218630102319523,0.019464299649718818,0.019427949350831714,0.021209879887713615,0.021239710633515756,0.020502086970481236,0.02156971284088837,0.020397594632739824,0.020365918835577312,0.02112834534010242,0.020554233361649923,0.021410708432832014,0.020136298570558795,0.021851788306276054,0.017142794712116396,0.020542970187091326,0.02113848141682082,0.00028209999175022335,0.020061975888355787,0.021302878280122027,0.021133874920010346,0.016468240590238156,0.021974753454314953,0.010559060595723261,0.02187212512012317,0.02173363701429419,0.00028209999175022335,0.022094922597029356,0.022398296978574702,0.00028209999175022335,0.020329258612654968,0.021757268164558228,0.02048449376472952,0.020636188201927492,0.00028209999175022335,0.022034236572373675,0.020780842458254803,0.02190298151381141,0.020878171983312866,0.02175321128123457,0.018362287819093576,0.020752251408593436,0.02189429026281081,0.019941465606235793,0.021209862050359147,0.02091056461916103,0.02154373273399791,0.02093965177024575,0.020072424118778732,0.00028209999175022335,0.020136090096477658,0.017707414988283186,0.02176152571812062,0.020018350178484863,0.021813809233952215,0.00028209999175022335,0.02019238813191594,0.01966205905502137,0.01996392395043879,0.02042522580975991,0.0008238204491891859,0.010194365848601228,0.015154296461292157,0.021672974401166344,0.019809097942684064,0.02105942514665623,0.00028209999175022335,0.01866276251569134,0.0094628202641268,0.021337900810930465,0.00028209999175022335,0.0095994142658704,0.01978534750511144,0.021745069643720867,0.018733489856119438,0.021585786526999873,0.019941170175051297,0.022133459086682662,0.00028209999175022335,0.020073122005275244,0.01978276666287606,0.02152837923107602,0.019903580180023438,0.020423436500132484,0.021110788923894494,0.019294762283805663,0.02102171363465059,0.021811551693767896,0.02039260574764144,0.022112850253178738,0.02149438792232692,0.016499579707333793,0.00028209999175022335,0.021062042778435305,0.021956804616307033,0.016054330352265722,0.00028209999175022335,0.0010874164152714577,0.009759837858447381,0.019320364461746693,0.020826160487137903,0.020859353574271183,0.020499335558543084,0.02189519773822318,0.019841136061110615,0.014979306439062322,0.018683787182522924,0.017828239653777084,0.0015668577493271984,0.02202120081070745,0.02078896402874466,0.00028209999175022335,0.019897497642124465,0.018946524725917912,0.019331088056330274,0.009662253036252351,0.02081506788228219,0.018419242492146003,0.005006934271578228,0.0039622394352693425,0.01959923589232468,0.017939734268010824,0.020440619446729744,0.00028209999175022335,0.0032111786700914106,0.021831098089841988,0.020949272793351768,0.02142727264619353,0.01122079857836313,0.011762784366450885,0.021480045574440637,0.00028209999175022335,0.01745826950904921,0.020249534556529704,0.021741390689346485,0.018495999973243995,0.011540317995438386,0.00028209999175022335,0.02165516937682937,0.01821586543499742,0.021009345658945047,0.016405916873468727,0.016009573085215997,0.02208455240503248,0.02065656514982242,0.021181862977901634,0.00028209999175022335,0.02104881860971162,0.019000789302938397,0.001482893976994275,0.01201158424694069,0.02077656260799931,0.02127135744497707,0.00028209999175022335,0.02054310842658918,0.020277953921653685,0.0008752054082859024,0.02080192955582726,0.019765342911992584,0.009080797641901912,0.02062823385663651,0.01949218054970254,0.007560159822696749,0.02196333977707728,0.00028209999175022335,0.01898111693054795,0.020206819666575084,0.020027909885684682,0.020447499091409624,0.021990100268228854,0.015467241698384,0.01995478565074003,0.021221212182021016,0.020026523031369113,0.0016304456885999257,0.017459849229760842,0.019833315495978648,0.020049012590942498,0.01974406517769339,0.021292123470167776,0.020142394486473546,0.021544772874734688,0.01761092158921919,0.017153228449688702,0.01572895582356214,0.016641178201861114,0.02070747853385843,0.019609297275120976,0.00028209999175022335,0.01840982771345179,0.01980183368004683,0.02155078852255399],\"type\":\"scatter\",\"xaxis\":\"x5\",\"yaxis\":\"y5\"}],                        {\"template\":{\"data\":{\"histogram2dcontour\":[{\"type\":\"histogram2dcontour\",\"colorbar\":{\"outlinewidth\":0,\"ticks\":\"\"},\"colorscale\":[[0.0,\"#0d0887\"],[0.1111111111111111,\"#46039f\"],[0.2222222222222222,\"#7201a8\"],[0.3333333333333333,\"#9c179e\"],[0.4444444444444444,\"#bd3786\"],[0.5555555555555556,\"#d8576b\"],[0.6666666666666666,\"#ed7953\"],[0.7777777777777778,\"#fb9f3a\"],[0.8888888888888888,\"#fdca26\"],[1.0,\"#f0f921\"]]}],\"choropleth\":[{\"type\":\"choropleth\",\"colorbar\":{\"outlinewidth\":0,\"ticks\":\"\"}}],\"histogram2d\":[{\"type\":\"histogram2d\",\"colorbar\":{\"outlinewidth\":0,\"ticks\":\"\"},\"colorscale\":[[0.0,\"#0d0887\"],[0.1111111111111111,\"#46039f\"],[0.2222222222222222,\"#7201a8\"],[0.3333333333333333,\"#9c179e\"],[0.4444444444444444,\"#bd3786\"],[0.5555555555555556,\"#d8576b\"],[0.6666666666666666,\"#ed7953\"],[0.7777777777777778,\"#fb9f3a\"],[0.8888888888888888,\"#fdca26\"],[1.0,\"#f0f921\"]]}],\"heatmap\":[{\"type\":\"heatmap\",\"colorbar\":{\"outlinewidth\":0,\"ticks\":\"\"},\"colorscale\":[[0.0,\"#0d0887\"],[0.1111111111111111,\"#46039f\"],[0.2222222222222222,\"#7201a8\"],[0.3333333333333333,\"#9c179e\"],[0.4444444444444444,\"#bd3786\"],[0.5555555555555556,\"#d8576b\"],[0.6666666666666666,\"#ed7953\"],[0.7777777777777778,\"#fb9f3a\"],[0.8888888888888888,\"#fdca26\"],[1.0,\"#f0f921\"]]}],\"heatmapgl\":[{\"type\":\"heatmapgl\",\"colorbar\":{\"outlinewidth\":0,\"ticks\":\"\"},\"colorscale\":[[0.0,\"#0d0887\"],[0.1111111111111111,\"#46039f\"],[0.2222222222222222,\"#7201a8\"],[0.3333333333333333,\"#9c179e\"],[0.4444444444444444,\"#bd3786\"],[0.5555555555555556,\"#d8576b\"],[0.6666666666666666,\"#ed7953\"],[0.7777777777777778,\"#fb9f3a\"],[0.8888888888888888,\"#fdca26\"],[1.0,\"#f0f921\"]]}],\"contourcarpet\":[{\"type\":\"contourcarpet\",\"colorbar\":{\"outlinewidth\":0,\"ticks\":\"\"}}],\"contour\":[{\"type\":\"contour\",\"colorbar\":{\"outlinewidth\":0,\"ticks\":\"\"},\"colorscale\":[[0.0,\"#0d0887\"],[0.1111111111111111,\"#46039f\"],[0.2222222222222222,\"#7201a8\"],[0.3333333333333333,\"#9c179e\"],[0.4444444444444444,\"#bd3786\"],[0.5555555555555556,\"#d8576b\"],[0.6666666666666666,\"#ed7953\"],[0.7777777777777778,\"#fb9f3a\"],[0.8888888888888888,\"#fdca26\"],[1.0,\"#f0f921\"]]}],\"surface\":[{\"type\":\"surface\",\"colorbar\":{\"outlinewidth\":0,\"ticks\":\"\"},\"colorscale\":[[0.0,\"#0d0887\"],[0.1111111111111111,\"#46039f\"],[0.2222222222222222,\"#7201a8\"],[0.3333333333333333,\"#9c179e\"],[0.4444444444444444,\"#bd3786\"],[0.5555555555555556,\"#d8576b\"],[0.6666666666666666,\"#ed7953\"],[0.7777777777777778,\"#fb9f3a\"],[0.8888888888888888,\"#fdca26\"],[1.0,\"#f0f921\"]]}],\"mesh3d\":[{\"type\":\"mesh3d\",\"colorbar\":{\"outlinewidth\":0,\"ticks\":\"\"}}],\"scatter\":[{\"fillpattern\":{\"fillmode\":\"overlay\",\"size\":10,\"solidity\":0.2},\"type\":\"scatter\"}],\"parcoords\":[{\"type\":\"parcoords\",\"line\":{\"colorbar\":{\"outlinewidth\":0,\"ticks\":\"\"}}}],\"scatterpolargl\":[{\"type\":\"scatterpolargl\",\"marker\":{\"colorbar\":{\"outlinewidth\":0,\"ticks\":\"\"}}}],\"bar\":[{\"error_x\":{\"color\":\"#2a3f5f\"},\"error_y\":{\"color\":\"#2a3f5f\"},\"marker\":{\"line\":{\"color\":\"#E5ECF6\",\"width\":0.5},\"pattern\":{\"fillmode\":\"overlay\",\"size\":10,\"solidity\":0.2}},\"type\":\"bar\"}],\"scattergeo\":[{\"type\":\"scattergeo\",\"marker\":{\"colorbar\":{\"outlinewidth\":0,\"ticks\":\"\"}}}],\"scatterpolar\":[{\"type\":\"scatterpolar\",\"marker\":{\"colorbar\":{\"outlinewidth\":0,\"ticks\":\"\"}}}],\"histogram\":[{\"marker\":{\"pattern\":{\"fillmode\":\"overlay\",\"size\":10,\"solidity\":0.2}},\"type\":\"histogram\"}],\"scattergl\":[{\"type\":\"scattergl\",\"marker\":{\"colorbar\":{\"outlinewidth\":0,\"ticks\":\"\"}}}],\"scatter3d\":[{\"type\":\"scatter3d\",\"line\":{\"colorbar\":{\"outlinewidth\":0,\"ticks\":\"\"}},\"marker\":{\"colorbar\":{\"outlinewidth\":0,\"ticks\":\"\"}}}],\"scattermapbox\":[{\"type\":\"scattermapbox\",\"marker\":{\"colorbar\":{\"outlinewidth\":0,\"ticks\":\"\"}}}],\"scatterternary\":[{\"type\":\"scatterternary\",\"marker\":{\"colorbar\":{\"outlinewidth\":0,\"ticks\":\"\"}}}],\"scattercarpet\":[{\"type\":\"scattercarpet\",\"marker\":{\"colorbar\":{\"outlinewidth\":0,\"ticks\":\"\"}}}],\"carpet\":[{\"aaxis\":{\"endlinecolor\":\"#2a3f5f\",\"gridcolor\":\"white\",\"linecolor\":\"white\",\"minorgridcolor\":\"white\",\"startlinecolor\":\"#2a3f5f\"},\"baxis\":{\"endlinecolor\":\"#2a3f5f\",\"gridcolor\":\"white\",\"linecolor\":\"white\",\"minorgridcolor\":\"white\",\"startlinecolor\":\"#2a3f5f\"},\"type\":\"carpet\"}],\"table\":[{\"cells\":{\"fill\":{\"color\":\"#EBF0F8\"},\"line\":{\"color\":\"white\"}},\"header\":{\"fill\":{\"color\":\"#C8D4E3\"},\"line\":{\"color\":\"white\"}},\"type\":\"table\"}],\"barpolar\":[{\"marker\":{\"line\":{\"color\":\"#E5ECF6\",\"width\":0.5},\"pattern\":{\"fillmode\":\"overlay\",\"size\":10,\"solidity\":0.2}},\"type\":\"barpolar\"}],\"pie\":[{\"automargin\":true,\"type\":\"pie\"}]},\"layout\":{\"autotypenumbers\":\"strict\",\"colorway\":[\"#636efa\",\"#EF553B\",\"#00cc96\",\"#ab63fa\",\"#FFA15A\",\"#19d3f3\",\"#FF6692\",\"#B6E880\",\"#FF97FF\",\"#FECB52\"],\"font\":{\"color\":\"#2a3f5f\"},\"hovermode\":\"closest\",\"hoverlabel\":{\"align\":\"left\"},\"paper_bgcolor\":\"white\",\"plot_bgcolor\":\"#E5ECF6\",\"polar\":{\"bgcolor\":\"#E5ECF6\",\"angularaxis\":{\"gridcolor\":\"white\",\"linecolor\":\"white\",\"ticks\":\"\"},\"radialaxis\":{\"gridcolor\":\"white\",\"linecolor\":\"white\",\"ticks\":\"\"}},\"ternary\":{\"bgcolor\":\"#E5ECF6\",\"aaxis\":{\"gridcolor\":\"white\",\"linecolor\":\"white\",\"ticks\":\"\"},\"baxis\":{\"gridcolor\":\"white\",\"linecolor\":\"white\",\"ticks\":\"\"},\"caxis\":{\"gridcolor\":\"white\",\"linecolor\":\"white\",\"ticks\":\"\"}},\"coloraxis\":{\"colorbar\":{\"outlinewidth\":0,\"ticks\":\"\"}},\"colorscale\":{\"sequential\":[[0.0,\"#0d0887\"],[0.1111111111111111,\"#46039f\"],[0.2222222222222222,\"#7201a8\"],[0.3333333333333333,\"#9c179e\"],[0.4444444444444444,\"#bd3786\"],[0.5555555555555556,\"#d8576b\"],[0.6666666666666666,\"#ed7953\"],[0.7777777777777778,\"#fb9f3a\"],[0.8888888888888888,\"#fdca26\"],[1.0,\"#f0f921\"]],\"sequentialminus\":[[0.0,\"#0d0887\"],[0.1111111111111111,\"#46039f\"],[0.2222222222222222,\"#7201a8\"],[0.3333333333333333,\"#9c179e\"],[0.4444444444444444,\"#bd3786\"],[0.5555555555555556,\"#d8576b\"],[0.6666666666666666,\"#ed7953\"],[0.7777777777777778,\"#fb9f3a\"],[0.8888888888888888,\"#fdca26\"],[1.0,\"#f0f921\"]],\"diverging\":[[0,\"#8e0152\"],[0.1,\"#c51b7d\"],[0.2,\"#de77ae\"],[0.3,\"#f1b6da\"],[0.4,\"#fde0ef\"],[0.5,\"#f7f7f7\"],[0.6,\"#e6f5d0\"],[0.7,\"#b8e186\"],[0.8,\"#7fbc41\"],[0.9,\"#4d9221\"],[1,\"#276419\"]]},\"xaxis\":{\"gridcolor\":\"white\",\"linecolor\":\"white\",\"ticks\":\"\",\"title\":{\"standoff\":15},\"zerolinecolor\":\"white\",\"automargin\":true,\"zerolinewidth\":2},\"yaxis\":{\"gridcolor\":\"white\",\"linecolor\":\"white\",\"ticks\":\"\",\"title\":{\"standoff\":15},\"zerolinecolor\":\"white\",\"automargin\":true,\"zerolinewidth\":2},\"scene\":{\"xaxis\":{\"backgroundcolor\":\"#E5ECF6\",\"gridcolor\":\"white\",\"linecolor\":\"white\",\"showbackground\":true,\"ticks\":\"\",\"zerolinecolor\":\"white\",\"gridwidth\":2},\"yaxis\":{\"backgroundcolor\":\"#E5ECF6\",\"gridcolor\":\"white\",\"linecolor\":\"white\",\"showbackground\":true,\"ticks\":\"\",\"zerolinecolor\":\"white\",\"gridwidth\":2},\"zaxis\":{\"backgroundcolor\":\"#E5ECF6\",\"gridcolor\":\"white\",\"linecolor\":\"white\",\"showbackground\":true,\"ticks\":\"\",\"zerolinecolor\":\"white\",\"gridwidth\":2}},\"shapedefaults\":{\"line\":{\"color\":\"#2a3f5f\"}},\"annotationdefaults\":{\"arrowcolor\":\"#2a3f5f\",\"arrowhead\":0,\"arrowwidth\":1},\"geo\":{\"bgcolor\":\"white\",\"landcolor\":\"#E5ECF6\",\"subunitcolor\":\"white\",\"showland\":true,\"showlakes\":true,\"lakecolor\":\"white\"},\"title\":{\"x\":0.05},\"mapbox\":{\"style\":\"light\"}}},\"xaxis\":{\"anchor\":\"y\",\"domain\":[0.0,0.16799999999999998],\"title\":{\"text\":\"alpha\"}},\"yaxis\":{\"anchor\":\"x\",\"domain\":[0.0,1.0],\"title\":{\"text\":\"Objective Value\"}},\"xaxis2\":{\"anchor\":\"y2\",\"domain\":[0.208,0.376],\"title\":{\"text\":\"beta\"}},\"yaxis2\":{\"anchor\":\"x2\",\"domain\":[0.0,1.0],\"matches\":\"y\",\"showticklabels\":false},\"xaxis3\":{\"anchor\":\"y3\",\"domain\":[0.416,0.584],\"title\":{\"text\":\"implicit\"},\"type\":\"category\",\"categoryorder\":\"array\",\"categoryarray\":[true,false]},\"yaxis3\":{\"anchor\":\"x3\",\"domain\":[0.0,1.0],\"matches\":\"y\",\"showticklabels\":false},\"xaxis4\":{\"anchor\":\"y4\",\"domain\":[0.624,0.792],\"title\":{\"text\":\"normalize_similarity\"},\"type\":\"category\",\"categoryorder\":\"array\",\"categoryarray\":[true,false]},\"yaxis4\":{\"anchor\":\"x4\",\"domain\":[0.0,1.0],\"matches\":\"y\",\"showticklabels\":false},\"xaxis5\":{\"anchor\":\"y5\",\"domain\":[0.832,1.0],\"title\":{\"text\":\"topK\"}},\"yaxis5\":{\"anchor\":\"x5\",\"domain\":[0.0,1.0],\"matches\":\"y\",\"showticklabels\":false},\"title\":{\"text\":\"Slice Plot\"},\"width\":1500},                        {\"responsive\": true}                    ).then(function(){\n",
       "                            \n",
       "var gd = document.getElementById('82c4aa21-a7d1-4372-b4ad-9919e23d91b1');\n",
       "var x = new MutationObserver(function (mutations, observer) {{\n",
       "        var display = window.getComputedStyle(gd).display;\n",
       "        if (!display || display === 'none') {{\n",
       "            console.log([gd, 'removed!']);\n",
       "            Plotly.purge(gd);\n",
       "            observer.disconnect();\n",
       "        }}\n",
       "}});\n",
       "\n",
       "// Listen for the removal of the full notebook cells\n",
       "var notebookContainer = gd.closest('#notebook-container');\n",
       "if (notebookContainer) {{\n",
       "    x.observe(notebookContainer, {childList: true});\n",
       "}}\n",
       "\n",
       "// Listen for the clearing of the current output cell\n",
       "var outputEl = gd.closest('.output');\n",
       "if (outputEl) {{\n",
       "    x.observe(outputEl, {childList: true});\n",
       "}}\n",
       "\n",
       "                        })                };                            </script>        </div>\n",
       "</body>\n",
       "</html>"
      ]
     },
     "metadata": {},
     "output_type": "display_data"
    }
   ],
   "source": [
    "if not config['tune_parameters']:\n",
    "    optuna_study = optuna.load_study(study_name=f'hyperparameters_tuning_{config[\"model\"]}_{config[\"metric\"]}', storage=f'sqlite:///{config[\"database_path\"]}')\n",
    "    \n",
    "fig = optuna.visualization.plot_slice(optuna_study)\n",
    "fig.show()"
   ]
  },
  {
   "cell_type": "code",
   "execution_count": 15,
   "id": "a6c2ffed",
   "metadata": {
    "execution": {
     "iopub.execute_input": "2024-12-24T14:39:54.983090Z",
     "iopub.status.busy": "2024-12-24T14:39:54.982735Z",
     "iopub.status.idle": "2024-12-24T14:40:02.884010Z",
     "shell.execute_reply": "2024-12-24T14:40:02.882763Z"
    },
    "papermill": {
     "duration": 7.954175,
     "end_time": "2024-12-24T14:40:02.885823",
     "exception": false,
     "start_time": "2024-12-24T14:39:54.931648",
     "status": "completed"
    },
    "tags": []
   },
   "outputs": [
    {
     "data": {
      "text/html": [
       "<html>\n",
       "<head><meta charset=\"utf-8\" /></head>\n",
       "<body>\n",
       "    <div>            <script src=\"https://cdnjs.cloudflare.com/ajax/libs/mathjax/2.7.5/MathJax.js?config=TeX-AMS-MML_SVG\"></script><script type=\"text/javascript\">if (window.MathJax && window.MathJax.Hub && window.MathJax.Hub.Config) {window.MathJax.Hub.Config({SVG: {font: \"STIX-Web\"}});}</script>                <script type=\"text/javascript\">window.PlotlyConfig = {MathJaxConfig: 'local'};</script>\n",
       "        <script charset=\"utf-8\" src=\"https://cdn.plot.ly/plotly-2.35.2.min.js\"></script>                <div id=\"3b261455-5d9e-46f7-a9c2-2edbf42ca103\" class=\"plotly-graph-div\" style=\"height:525px; width:100%;\"></div>            <script type=\"text/javascript\">                                    window.PLOTLYENV=window.PLOTLYENV || {};                                    if (document.getElementById(\"3b261455-5d9e-46f7-a9c2-2edbf42ca103\")) {                    Plotly.newPlot(                        \"3b261455-5d9e-46f7-a9c2-2edbf42ca103\",                        [{\"cliponaxis\":false,\"hovertemplate\":[\"implicit (CategoricalDistribution): 0.000520087828391275\\u003cextra\\u003e\\u003c\\u002fextra\\u003e\",\"normalize_similarity (CategoricalDistribution): 0.0027809425089692016\\u003cextra\\u003e\\u003c\\u002fextra\\u003e\",\"topK (IntDistribution): 0.01735428516911967\\u003cextra\\u003e\\u003c\\u002fextra\\u003e\",\"alpha (FloatDistribution): 0.04646154812325289\\u003cextra\\u003e\\u003c\\u002fextra\\u003e\",\"beta (FloatDistribution): 0.9328831363702671\\u003cextra\\u003e\\u003c\\u002fextra\\u003e\"],\"name\":\"Objective Value\",\"orientation\":\"h\",\"text\":[\"\\u003c0.01\",\"\\u003c0.01\",\"0.02\",\"0.05\",\"0.93\"],\"textposition\":\"outside\",\"x\":[0.000520087828391275,0.0027809425089692016,0.01735428516911967,0.04646154812325289,0.9328831363702671],\"y\":[\"implicit\",\"normalize_similarity\",\"topK\",\"alpha\",\"beta\"],\"type\":\"bar\"}],                        {\"title\":{\"text\":\"Hyperparameter Importances\"},\"xaxis\":{\"title\":{\"text\":\"Hyperparameter Importance\"}},\"yaxis\":{\"title\":{\"text\":\"Hyperparameter\"}},\"template\":{\"data\":{\"histogram2dcontour\":[{\"type\":\"histogram2dcontour\",\"colorbar\":{\"outlinewidth\":0,\"ticks\":\"\"},\"colorscale\":[[0.0,\"#0d0887\"],[0.1111111111111111,\"#46039f\"],[0.2222222222222222,\"#7201a8\"],[0.3333333333333333,\"#9c179e\"],[0.4444444444444444,\"#bd3786\"],[0.5555555555555556,\"#d8576b\"],[0.6666666666666666,\"#ed7953\"],[0.7777777777777778,\"#fb9f3a\"],[0.8888888888888888,\"#fdca26\"],[1.0,\"#f0f921\"]]}],\"choropleth\":[{\"type\":\"choropleth\",\"colorbar\":{\"outlinewidth\":0,\"ticks\":\"\"}}],\"histogram2d\":[{\"type\":\"histogram2d\",\"colorbar\":{\"outlinewidth\":0,\"ticks\":\"\"},\"colorscale\":[[0.0,\"#0d0887\"],[0.1111111111111111,\"#46039f\"],[0.2222222222222222,\"#7201a8\"],[0.3333333333333333,\"#9c179e\"],[0.4444444444444444,\"#bd3786\"],[0.5555555555555556,\"#d8576b\"],[0.6666666666666666,\"#ed7953\"],[0.7777777777777778,\"#fb9f3a\"],[0.8888888888888888,\"#fdca26\"],[1.0,\"#f0f921\"]]}],\"heatmap\":[{\"type\":\"heatmap\",\"colorbar\":{\"outlinewidth\":0,\"ticks\":\"\"},\"colorscale\":[[0.0,\"#0d0887\"],[0.1111111111111111,\"#46039f\"],[0.2222222222222222,\"#7201a8\"],[0.3333333333333333,\"#9c179e\"],[0.4444444444444444,\"#bd3786\"],[0.5555555555555556,\"#d8576b\"],[0.6666666666666666,\"#ed7953\"],[0.7777777777777778,\"#fb9f3a\"],[0.8888888888888888,\"#fdca26\"],[1.0,\"#f0f921\"]]}],\"heatmapgl\":[{\"type\":\"heatmapgl\",\"colorbar\":{\"outlinewidth\":0,\"ticks\":\"\"},\"colorscale\":[[0.0,\"#0d0887\"],[0.1111111111111111,\"#46039f\"],[0.2222222222222222,\"#7201a8\"],[0.3333333333333333,\"#9c179e\"],[0.4444444444444444,\"#bd3786\"],[0.5555555555555556,\"#d8576b\"],[0.6666666666666666,\"#ed7953\"],[0.7777777777777778,\"#fb9f3a\"],[0.8888888888888888,\"#fdca26\"],[1.0,\"#f0f921\"]]}],\"contourcarpet\":[{\"type\":\"contourcarpet\",\"colorbar\":{\"outlinewidth\":0,\"ticks\":\"\"}}],\"contour\":[{\"type\":\"contour\",\"colorbar\":{\"outlinewidth\":0,\"ticks\":\"\"},\"colorscale\":[[0.0,\"#0d0887\"],[0.1111111111111111,\"#46039f\"],[0.2222222222222222,\"#7201a8\"],[0.3333333333333333,\"#9c179e\"],[0.4444444444444444,\"#bd3786\"],[0.5555555555555556,\"#d8576b\"],[0.6666666666666666,\"#ed7953\"],[0.7777777777777778,\"#fb9f3a\"],[0.8888888888888888,\"#fdca26\"],[1.0,\"#f0f921\"]]}],\"surface\":[{\"type\":\"surface\",\"colorbar\":{\"outlinewidth\":0,\"ticks\":\"\"},\"colorscale\":[[0.0,\"#0d0887\"],[0.1111111111111111,\"#46039f\"],[0.2222222222222222,\"#7201a8\"],[0.3333333333333333,\"#9c179e\"],[0.4444444444444444,\"#bd3786\"],[0.5555555555555556,\"#d8576b\"],[0.6666666666666666,\"#ed7953\"],[0.7777777777777778,\"#fb9f3a\"],[0.8888888888888888,\"#fdca26\"],[1.0,\"#f0f921\"]]}],\"mesh3d\":[{\"type\":\"mesh3d\",\"colorbar\":{\"outlinewidth\":0,\"ticks\":\"\"}}],\"scatter\":[{\"fillpattern\":{\"fillmode\":\"overlay\",\"size\":10,\"solidity\":0.2},\"type\":\"scatter\"}],\"parcoords\":[{\"type\":\"parcoords\",\"line\":{\"colorbar\":{\"outlinewidth\":0,\"ticks\":\"\"}}}],\"scatterpolargl\":[{\"type\":\"scatterpolargl\",\"marker\":{\"colorbar\":{\"outlinewidth\":0,\"ticks\":\"\"}}}],\"bar\":[{\"error_x\":{\"color\":\"#2a3f5f\"},\"error_y\":{\"color\":\"#2a3f5f\"},\"marker\":{\"line\":{\"color\":\"#E5ECF6\",\"width\":0.5},\"pattern\":{\"fillmode\":\"overlay\",\"size\":10,\"solidity\":0.2}},\"type\":\"bar\"}],\"scattergeo\":[{\"type\":\"scattergeo\",\"marker\":{\"colorbar\":{\"outlinewidth\":0,\"ticks\":\"\"}}}],\"scatterpolar\":[{\"type\":\"scatterpolar\",\"marker\":{\"colorbar\":{\"outlinewidth\":0,\"ticks\":\"\"}}}],\"histogram\":[{\"marker\":{\"pattern\":{\"fillmode\":\"overlay\",\"size\":10,\"solidity\":0.2}},\"type\":\"histogram\"}],\"scattergl\":[{\"type\":\"scattergl\",\"marker\":{\"colorbar\":{\"outlinewidth\":0,\"ticks\":\"\"}}}],\"scatter3d\":[{\"type\":\"scatter3d\",\"line\":{\"colorbar\":{\"outlinewidth\":0,\"ticks\":\"\"}},\"marker\":{\"colorbar\":{\"outlinewidth\":0,\"ticks\":\"\"}}}],\"scattermapbox\":[{\"type\":\"scattermapbox\",\"marker\":{\"colorbar\":{\"outlinewidth\":0,\"ticks\":\"\"}}}],\"scatterternary\":[{\"type\":\"scatterternary\",\"marker\":{\"colorbar\":{\"outlinewidth\":0,\"ticks\":\"\"}}}],\"scattercarpet\":[{\"type\":\"scattercarpet\",\"marker\":{\"colorbar\":{\"outlinewidth\":0,\"ticks\":\"\"}}}],\"carpet\":[{\"aaxis\":{\"endlinecolor\":\"#2a3f5f\",\"gridcolor\":\"white\",\"linecolor\":\"white\",\"minorgridcolor\":\"white\",\"startlinecolor\":\"#2a3f5f\"},\"baxis\":{\"endlinecolor\":\"#2a3f5f\",\"gridcolor\":\"white\",\"linecolor\":\"white\",\"minorgridcolor\":\"white\",\"startlinecolor\":\"#2a3f5f\"},\"type\":\"carpet\"}],\"table\":[{\"cells\":{\"fill\":{\"color\":\"#EBF0F8\"},\"line\":{\"color\":\"white\"}},\"header\":{\"fill\":{\"color\":\"#C8D4E3\"},\"line\":{\"color\":\"white\"}},\"type\":\"table\"}],\"barpolar\":[{\"marker\":{\"line\":{\"color\":\"#E5ECF6\",\"width\":0.5},\"pattern\":{\"fillmode\":\"overlay\",\"size\":10,\"solidity\":0.2}},\"type\":\"barpolar\"}],\"pie\":[{\"automargin\":true,\"type\":\"pie\"}]},\"layout\":{\"autotypenumbers\":\"strict\",\"colorway\":[\"#636efa\",\"#EF553B\",\"#00cc96\",\"#ab63fa\",\"#FFA15A\",\"#19d3f3\",\"#FF6692\",\"#B6E880\",\"#FF97FF\",\"#FECB52\"],\"font\":{\"color\":\"#2a3f5f\"},\"hovermode\":\"closest\",\"hoverlabel\":{\"align\":\"left\"},\"paper_bgcolor\":\"white\",\"plot_bgcolor\":\"#E5ECF6\",\"polar\":{\"bgcolor\":\"#E5ECF6\",\"angularaxis\":{\"gridcolor\":\"white\",\"linecolor\":\"white\",\"ticks\":\"\"},\"radialaxis\":{\"gridcolor\":\"white\",\"linecolor\":\"white\",\"ticks\":\"\"}},\"ternary\":{\"bgcolor\":\"#E5ECF6\",\"aaxis\":{\"gridcolor\":\"white\",\"linecolor\":\"white\",\"ticks\":\"\"},\"baxis\":{\"gridcolor\":\"white\",\"linecolor\":\"white\",\"ticks\":\"\"},\"caxis\":{\"gridcolor\":\"white\",\"linecolor\":\"white\",\"ticks\":\"\"}},\"coloraxis\":{\"colorbar\":{\"outlinewidth\":0,\"ticks\":\"\"}},\"colorscale\":{\"sequential\":[[0.0,\"#0d0887\"],[0.1111111111111111,\"#46039f\"],[0.2222222222222222,\"#7201a8\"],[0.3333333333333333,\"#9c179e\"],[0.4444444444444444,\"#bd3786\"],[0.5555555555555556,\"#d8576b\"],[0.6666666666666666,\"#ed7953\"],[0.7777777777777778,\"#fb9f3a\"],[0.8888888888888888,\"#fdca26\"],[1.0,\"#f0f921\"]],\"sequentialminus\":[[0.0,\"#0d0887\"],[0.1111111111111111,\"#46039f\"],[0.2222222222222222,\"#7201a8\"],[0.3333333333333333,\"#9c179e\"],[0.4444444444444444,\"#bd3786\"],[0.5555555555555556,\"#d8576b\"],[0.6666666666666666,\"#ed7953\"],[0.7777777777777778,\"#fb9f3a\"],[0.8888888888888888,\"#fdca26\"],[1.0,\"#f0f921\"]],\"diverging\":[[0,\"#8e0152\"],[0.1,\"#c51b7d\"],[0.2,\"#de77ae\"],[0.3,\"#f1b6da\"],[0.4,\"#fde0ef\"],[0.5,\"#f7f7f7\"],[0.6,\"#e6f5d0\"],[0.7,\"#b8e186\"],[0.8,\"#7fbc41\"],[0.9,\"#4d9221\"],[1,\"#276419\"]]},\"xaxis\":{\"gridcolor\":\"white\",\"linecolor\":\"white\",\"ticks\":\"\",\"title\":{\"standoff\":15},\"zerolinecolor\":\"white\",\"automargin\":true,\"zerolinewidth\":2},\"yaxis\":{\"gridcolor\":\"white\",\"linecolor\":\"white\",\"ticks\":\"\",\"title\":{\"standoff\":15},\"zerolinecolor\":\"white\",\"automargin\":true,\"zerolinewidth\":2},\"scene\":{\"xaxis\":{\"backgroundcolor\":\"#E5ECF6\",\"gridcolor\":\"white\",\"linecolor\":\"white\",\"showbackground\":true,\"ticks\":\"\",\"zerolinecolor\":\"white\",\"gridwidth\":2},\"yaxis\":{\"backgroundcolor\":\"#E5ECF6\",\"gridcolor\":\"white\",\"linecolor\":\"white\",\"showbackground\":true,\"ticks\":\"\",\"zerolinecolor\":\"white\",\"gridwidth\":2},\"zaxis\":{\"backgroundcolor\":\"#E5ECF6\",\"gridcolor\":\"white\",\"linecolor\":\"white\",\"showbackground\":true,\"ticks\":\"\",\"zerolinecolor\":\"white\",\"gridwidth\":2}},\"shapedefaults\":{\"line\":{\"color\":\"#2a3f5f\"}},\"annotationdefaults\":{\"arrowcolor\":\"#2a3f5f\",\"arrowhead\":0,\"arrowwidth\":1},\"geo\":{\"bgcolor\":\"white\",\"landcolor\":\"#E5ECF6\",\"subunitcolor\":\"white\",\"showland\":true,\"showlakes\":true,\"lakecolor\":\"white\"},\"title\":{\"x\":0.05},\"mapbox\":{\"style\":\"light\"}}}},                        {\"responsive\": true}                    ).then(function(){\n",
       "                            \n",
       "var gd = document.getElementById('3b261455-5d9e-46f7-a9c2-2edbf42ca103');\n",
       "var x = new MutationObserver(function (mutations, observer) {{\n",
       "        var display = window.getComputedStyle(gd).display;\n",
       "        if (!display || display === 'none') {{\n",
       "            console.log([gd, 'removed!']);\n",
       "            Plotly.purge(gd);\n",
       "            observer.disconnect();\n",
       "        }}\n",
       "}});\n",
       "\n",
       "// Listen for the removal of the full notebook cells\n",
       "var notebookContainer = gd.closest('#notebook-container');\n",
       "if (notebookContainer) {{\n",
       "    x.observe(notebookContainer, {childList: true});\n",
       "}}\n",
       "\n",
       "// Listen for the clearing of the current output cell\n",
       "var outputEl = gd.closest('.output');\n",
       "if (outputEl) {{\n",
       "    x.observe(outputEl, {childList: true});\n",
       "}}\n",
       "\n",
       "                        })                };                            </script>        </div>\n",
       "</body>\n",
       "</html>"
      ]
     },
     "metadata": {},
     "output_type": "display_data"
    }
   ],
   "source": [
    "if not config['tune_parameters']:\n",
    "    optuna_study = optuna.load_study(study_name=f'hyperparameters_tuning_{config[\"model\"]}_{config[\"metric\"]}', storage=f'sqlite:///{config[\"database_path\"]}')\n",
    "    \n",
    "fig = optuna.visualization.plot_param_importances(optuna_study)\n",
    "fig.show()"
   ]
  },
  {
   "cell_type": "markdown",
   "id": "a8e5663f",
   "metadata": {
    "papermill": {
     "duration": 0.04873,
     "end_time": "2024-12-24T14:40:02.986990",
     "exception": false,
     "start_time": "2024-12-24T14:40:02.938260",
     "status": "completed"
    },
    "tags": []
   },
   "source": [
    "## Let's train the recommender with best parameter values"
   ]
  },
  {
   "cell_type": "code",
   "execution_count": 16,
   "id": "652a7da6",
   "metadata": {
    "execution": {
     "iopub.execute_input": "2024-12-24T14:40:03.088852Z",
     "iopub.status.busy": "2024-12-24T14:40:03.088453Z",
     "iopub.status.idle": "2024-12-24T14:40:58.296664Z",
     "shell.execute_reply": "2024-12-24T14:40:58.295442Z"
    },
    "papermill": {
     "duration": 55.262522,
     "end_time": "2024-12-24T14:40:58.298866",
     "exception": false,
     "start_time": "2024-12-24T14:40:03.036344",
     "status": "completed"
    },
    "tags": []
   },
   "outputs": [
    {
     "name": "stdout",
     "output_type": "stream",
     "text": [
      "RP3betaRecommender: Similarity column 38121 (100.0%), 707.46 column/sec. Elapsed time 53.88 sec\n"
     ]
    }
   ],
   "source": [
    "if config['tune_best_params']:\n",
    "\n",
    "    if config['tune_parameters']:\n",
    "        best_params = optuna_study.best_trial.params\n",
    "    else: \n",
    "        with open(f'{K_PATH}/{GH_PATH}/{config[\"model\"]}Recommender/Optimizing{config[\"metric\"]}/best_params_{config[\"model\"]}_{config[\"metric\"]}.json', 'r') as best_params_json:\n",
    "            best_params = json.load(best_params_json)\n",
    "\n",
    "    rp3beta_icm_recommender = RP3betaRecommender(ICM_all.T)\n",
    "    rp3beta_icm_recommender.fit(**best_params)\n",
    "    \n",
    "    recommender_instance = ItemKNNCustomSimilarityRecommender(URM_train + URM_validation)\n",
    "    recommender_instance.fit(rp3beta_icm_recommender.W_sparse)"
   ]
  },
  {
   "cell_type": "markdown",
   "id": "f04f6c74",
   "metadata": {
    "papermill": {
     "duration": 0.052258,
     "end_time": "2024-12-24T14:40:58.404480",
     "exception": false,
     "start_time": "2024-12-24T14:40:58.352222",
     "status": "completed"
    },
    "tags": []
   },
   "source": [
    "# Testing"
   ]
  },
  {
   "cell_type": "markdown",
   "id": "da2d2646",
   "metadata": {
    "papermill": {
     "duration": 0.050167,
     "end_time": "2024-12-24T14:40:58.505874",
     "exception": false,
     "start_time": "2024-12-24T14:40:58.455707",
     "status": "completed"
    },
    "tags": []
   },
   "source": [
    "Create the recommendations for the submission. "
   ]
  },
  {
   "cell_type": "code",
   "execution_count": 17,
   "id": "08f1ccf0",
   "metadata": {
    "execution": {
     "iopub.execute_input": "2024-12-24T14:40:58.606818Z",
     "iopub.status.busy": "2024-12-24T14:40:58.606466Z",
     "iopub.status.idle": "2024-12-24T14:41:19.044025Z",
     "shell.execute_reply": "2024-12-24T14:41:19.042741Z"
    },
    "papermill": {
     "duration": 20.490439,
     "end_time": "2024-12-24T14:41:19.045945",
     "exception": false,
     "start_time": "2024-12-24T14:40:58.555506",
     "status": "completed"
    },
    "tags": []
   },
   "outputs": [
    {
     "name": "stdout",
     "output_type": "stream",
     "text": [
      "Submission file saved as /kaggle/working/submission_RP3betaICM_MAP.csv\n"
     ]
    }
   ],
   "source": [
    "if config['tune_best_params']:\n",
    "\n",
    "    data_target_users_test = pd.read_csv('/kaggle/input/recommender-system-2024-challenge-polimi/data_target_users_test.csv')\n",
    "    create_submission(data_target_users_test, recommender_instance, f'/kaggle/working/submission_{config[\"model\"]}_{config[\"metric\"]}.csv')"
   ]
  },
  {
   "cell_type": "markdown",
   "id": "db1fb1a8",
   "metadata": {
    "execution": {
     "iopub.execute_input": "2024-11-14T00:04:16.877791Z",
     "iopub.status.busy": "2024-11-14T00:04:16.877275Z",
     "iopub.status.idle": "2024-11-14T00:04:16.883170Z",
     "shell.execute_reply": "2024-11-14T00:04:16.881889Z",
     "shell.execute_reply.started": "2024-11-14T00:04:16.877743Z"
    },
    "papermill": {
     "duration": 0.051357,
     "end_time": "2024-12-24T14:41:19.151553",
     "exception": false,
     "start_time": "2024-12-24T14:41:19.100196",
     "status": "completed"
    },
    "tags": []
   },
   "source": [
    "# Save Version on GitHub "
   ]
  },
  {
   "cell_type": "markdown",
   "id": "7e171725",
   "metadata": {
    "papermill": {
     "duration": 0.050658,
     "end_time": "2024-12-24T14:41:19.253266",
     "exception": false,
     "start_time": "2024-12-24T14:41:19.202608",
     "status": "completed"
    },
    "tags": []
   },
   "source": [
    "Write or import a json file where best hyperparameters are saved. "
   ]
  },
  {
   "cell_type": "code",
   "execution_count": 18,
   "id": "7be3a74a",
   "metadata": {
    "execution": {
     "iopub.execute_input": "2024-12-24T14:41:19.364425Z",
     "iopub.status.busy": "2024-12-24T14:41:19.364019Z",
     "iopub.status.idle": "2024-12-24T14:41:20.446058Z",
     "shell.execute_reply": "2024-12-24T14:41:20.444499Z"
    },
    "papermill": {
     "duration": 1.141068,
     "end_time": "2024-12-24T14:41:20.448895",
     "exception": false,
     "start_time": "2024-12-24T14:41:19.307827",
     "status": "completed"
    },
    "tags": []
   },
   "outputs": [
    {
     "name": "stdout",
     "output_type": "stream",
     "text": [
      "File 'TrainedModels/WithoutKFCV/GraphBased/RP3betaICMRecommender/OptimizingMAP/best_params_RP3betaICM_MAP.json' updated successfully.\n"
     ]
    }
   ],
   "source": [
    "if config['tune_parameters']:\n",
    "    with open(f'/kaggle/working/best_params_{config[\"model\"]}_{config[\"metric\"]}.json', 'w') as params_file:\n",
    "        json.dump(optuna_study.best_params, params_file)\n",
    "        \n",
    "    if config['save_github']:\n",
    "        upload_file(\n",
    "            f'/kaggle/working/best_params_{config[\"model\"]}_{config[\"metric\"]}.json', \n",
    "            f'{GH_PATH}/{config[\"model\"]}Recommender/Optimizing{config[\"metric\"]}/best_params_{config[\"model\"]}_{config[\"metric\"]}.json', \n",
    "            f'{config[\"model\"]}_{config[\"metric\"]} tuning results (from kaggle notebook)',\n",
    "            repo\n",
    "        )\n",
    "elif config['copy_prev_best_params']:\n",
    "    shutil.copyfile(\n",
    "        f'{K_PATH}/{GH_PATH}/{config[\"model\"]}Recommender/Optimizing{config[\"metric\"]}/'\\\n",
    "        f'best_params_{config[\"model\"]}_{config[\"metric\"]}.json', \n",
    "        f'/kaggle/working/best_params_{config[\"model\"]}_{config[\"metric\"]}.json'\n",
    "    )"
   ]
  },
  {
   "cell_type": "markdown",
   "id": "deff038f",
   "metadata": {
    "execution": {
     "iopub.execute_input": "2024-11-14T00:41:34.294243Z",
     "iopub.status.busy": "2024-11-14T00:41:34.293739Z",
     "iopub.status.idle": "2024-11-14T00:41:34.301478Z",
     "shell.execute_reply": "2024-11-14T00:41:34.299869Z",
     "shell.execute_reply.started": "2024-11-14T00:41:34.294186Z"
    },
    "papermill": {
     "duration": 0.054242,
     "end_time": "2024-12-24T14:41:20.555955",
     "exception": false,
     "start_time": "2024-12-24T14:41:20.501713",
     "status": "completed"
    },
    "tags": []
   },
   "source": [
    "Save the history of the tuned model."
   ]
  },
  {
   "cell_type": "code",
   "execution_count": 19,
   "id": "a75613f3",
   "metadata": {
    "execution": {
     "iopub.execute_input": "2024-12-24T14:41:20.657703Z",
     "iopub.status.busy": "2024-12-24T14:41:20.657322Z",
     "iopub.status.idle": "2024-12-24T14:41:22.280897Z",
     "shell.execute_reply": "2024-12-24T14:41:22.279447Z"
    },
    "papermill": {
     "duration": 1.675936,
     "end_time": "2024-12-24T14:41:22.283002",
     "exception": false,
     "start_time": "2024-12-24T14:41:20.607066",
     "status": "completed"
    },
    "tags": []
   },
   "outputs": [
    {
     "name": "stdout",
     "output_type": "stream",
     "text": [
      "File 'TrainedModels/WithoutKFCV/GraphBased/RP3betaICMRecommender/OptimizingMAP/history_RP3betaICM_MAP.db' updated successfully.\n"
     ]
    }
   ],
   "source": [
    "if config['save_github'] and config['tune_parameters']:\n",
    "    upload_file(\n",
    "        config['database_path'], \n",
    "        f'{GH_PATH}/{config[\"model\"]}Recommender/Optimizing{config[\"metric\"]}/history_{config[\"model\"]}_{config[\"metric\"]}.db',\n",
    "        f'Tuning {config[\"model\"]}_{config[\"metric\"]} db updated results (from kaggle notebook)',\n",
    "        repo\n",
    "    )"
   ]
  },
  {
   "cell_type": "markdown",
   "id": "91b1ae2d",
   "metadata": {
    "papermill": {
     "duration": 0.064947,
     "end_time": "2024-12-24T14:41:22.402168",
     "exception": false,
     "start_time": "2024-12-24T14:41:22.337221",
     "status": "completed"
    },
    "tags": []
   },
   "source": [
    "Save the best trained model and its submission."
   ]
  },
  {
   "cell_type": "code",
   "execution_count": 20,
   "id": "ec9f6b3d",
   "metadata": {
    "execution": {
     "iopub.execute_input": "2024-12-24T14:41:22.523332Z",
     "iopub.status.busy": "2024-12-24T14:41:22.522933Z",
     "iopub.status.idle": "2024-12-24T14:41:24.468013Z",
     "shell.execute_reply": "2024-12-24T14:41:24.466635Z"
    },
    "papermill": {
     "duration": 2.008534,
     "end_time": "2024-12-24T14:41:24.470110",
     "exception": false,
     "start_time": "2024-12-24T14:41:22.461576",
     "status": "completed"
    },
    "tags": []
   },
   "outputs": [
    {
     "name": "stdout",
     "output_type": "stream",
     "text": [
      "File 'TrainedModels/WithoutKFCV/GraphBased/RP3betaICMRecommender/OptimizingMAP/Submission/submission_RP3betaICM_MAP.csv' updated successfully.\n"
     ]
    }
   ],
   "source": [
    "if config['save_github'] and config['tune_best_params']: \n",
    "    upload_file(\n",
    "                f'/kaggle/working/submission_{config[\"model\"]}_{config[\"metric\"]}.csv', \n",
    "                f'{GH_PATH}/{config[\"model\"]}Recommender/Optimizing{config[\"metric\"]}/Submission/submission_{config[\"model\"]}_{config[\"metric\"]}.csv', \n",
    "                f'New {config[\"model\"]}_{config[\"metric\"]} submission (from kaggle notebook)',\n",
    "                repo\n",
    "            )"
   ]
  }
 ],
 "metadata": {
  "kaggle": {
   "accelerator": "none",
   "dataSources": [
    {
     "databundleVersionId": 9982103,
     "sourceId": 87439,
     "sourceType": "competition"
    }
   ],
   "dockerImageVersionId": 30822,
   "isGpuEnabled": false,
   "isInternetEnabled": true,
   "language": "python",
   "sourceType": "notebook"
  },
  "kernelspec": {
   "display_name": "Python 3",
   "language": "python",
   "name": "python3"
  },
  "language_info": {
   "codemirror_mode": {
    "name": "ipython",
    "version": 3
   },
   "file_extension": ".py",
   "mimetype": "text/x-python",
   "name": "python",
   "nbconvert_exporter": "python",
   "pygments_lexer": "ipython3",
   "version": "3.10.12"
  },
  "papermill": {
   "default_parameters": {},
   "duration": 18988.597805,
   "end_time": "2024-12-24T14:41:25.902345",
   "environment_variables": {},
   "exception": null,
   "input_path": "__notebook__.ipynb",
   "output_path": "__notebook__.ipynb",
   "parameters": {},
   "start_time": "2024-12-24T09:24:57.304540",
   "version": "2.6.0"
  }
 },
 "nbformat": 4,
 "nbformat_minor": 5
}
