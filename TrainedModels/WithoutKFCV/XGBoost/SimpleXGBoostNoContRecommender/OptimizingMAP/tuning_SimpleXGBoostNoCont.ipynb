{
 "cells": [
  {
   "cell_type": "markdown",
   "id": "8b3a2f33",
   "metadata": {
    "papermill": {
     "duration": 0.008967,
     "end_time": "2024-12-30T19:55:23.200521",
     "exception": false,
     "start_time": "2024-12-30T19:55:23.191554",
     "status": "completed"
    },
    "tags": []
   },
   "source": [
    "# Set connection with GitHub"
   ]
  },
  {
   "cell_type": "code",
   "execution_count": 1,
   "id": "59fab722",
   "metadata": {
    "execution": {
     "iopub.execute_input": "2024-12-30T19:55:23.218039Z",
     "iopub.status.busy": "2024-12-30T19:55:23.217541Z",
     "iopub.status.idle": "2024-12-30T19:55:23.224521Z",
     "shell.execute_reply": "2024-12-30T19:55:23.223251Z"
    },
    "papermill": {
     "duration": 0.017723,
     "end_time": "2024-12-30T19:55:23.226304",
     "exception": false,
     "start_time": "2024-12-30T19:55:23.208581",
     "status": "completed"
    },
    "tags": []
   },
   "outputs": [],
   "source": [
    "# ! cd /kaggle/working && rm -rf RECsys_Challenge2024"
   ]
  },
  {
   "cell_type": "code",
   "execution_count": 2,
   "id": "9ef1eeba",
   "metadata": {
    "_cell_guid": "b1076dfc-b9ad-4769-8c92-a6c4dae69d19",
    "_uuid": "8f2839f25d086af736a60e9eeb907d3b93b6e0e5",
    "execution": {
     "iopub.execute_input": "2024-12-30T19:55:23.244053Z",
     "iopub.status.busy": "2024-12-30T19:55:23.243565Z",
     "iopub.status.idle": "2024-12-30T19:55:38.386195Z",
     "shell.execute_reply": "2024-12-30T19:55:38.384843Z"
    },
    "papermill": {
     "duration": 15.15405,
     "end_time": "2024-12-30T19:55:38.388516",
     "exception": false,
     "start_time": "2024-12-30T19:55:23.234466",
     "status": "completed"
    },
    "tags": []
   },
   "outputs": [
    {
     "name": "stdout",
     "output_type": "stream",
     "text": [
      "Cloning into 'RECsys_Challenge2024'...\r\n",
      "remote: Enumerating objects: 5099, done.\u001b[K\r\n",
      "remote: Counting objects: 100% (171/171), done.\u001b[K\r\n",
      "remote: Compressing objects: 100% (102/102), done.\u001b[K\r\n",
      "remote: Total 5099 (delta 85), reused 103 (delta 40), pack-reused 4928 (from 3)\u001b[K\r\n",
      "Receiving objects: 100% (5099/5099), 379.22 MiB | 36.16 MiB/s, done.\r\n",
      "Resolving deltas: 100% (2934/2934), done.\r\n",
      "Updating files: 100% (422/422), done.\r\n"
     ]
    }
   ],
   "source": [
    "from kaggle_secrets import UserSecretsClient\n",
    "\n",
    "token = UserSecretsClient().get_secret(\"Token\")\n",
    "\n",
    "! git clone https://{token}@github.com/madratak/RECsys_Challenge2024.git"
   ]
  },
  {
   "cell_type": "code",
   "execution_count": 3,
   "id": "c18d561a",
   "metadata": {
    "execution": {
     "iopub.execute_input": "2024-12-30T19:55:38.416137Z",
     "iopub.status.busy": "2024-12-30T19:55:38.415693Z",
     "iopub.status.idle": "2024-12-30T19:55:45.601563Z",
     "shell.execute_reply": "2024-12-30T19:55:45.599931Z"
    },
    "papermill": {
     "duration": 7.202092,
     "end_time": "2024-12-30T19:55:45.604017",
     "exception": false,
     "start_time": "2024-12-30T19:55:38.401925",
     "status": "completed"
    },
    "tags": []
   },
   "outputs": [
    {
     "name": "stdout",
     "output_type": "stream",
     "text": [
      "Collecting PyGithub\r\n",
      "  Downloading PyGithub-2.5.0-py3-none-any.whl.metadata (3.9 kB)\r\n",
      "Requirement already satisfied: requests in /usr/local/lib/python3.10/dist-packages (2.32.3)\r\n",
      "Collecting pynacl>=1.4.0 (from PyGithub)\r\n",
      "  Downloading PyNaCl-1.5.0-cp36-abi3-manylinux_2_17_x86_64.manylinux2014_x86_64.manylinux_2_24_x86_64.whl.metadata (8.6 kB)\r\n",
      "Requirement already satisfied: pyjwt>=2.4.0 in /usr/local/lib/python3.10/dist-packages (from pyjwt[crypto]>=2.4.0->PyGithub) (2.9.0)\r\n",
      "Requirement already satisfied: typing-extensions>=4.0.0 in /usr/local/lib/python3.10/dist-packages (from PyGithub) (4.12.2)\r\n",
      "Requirement already satisfied: urllib3>=1.26.0 in /usr/local/lib/python3.10/dist-packages (from PyGithub) (2.2.3)\r\n",
      "Requirement already satisfied: Deprecated in /usr/local/lib/python3.10/dist-packages (from PyGithub) (1.2.15)\r\n",
      "Requirement already satisfied: charset-normalizer<4,>=2 in /usr/local/lib/python3.10/dist-packages (from requests) (3.3.2)\r\n",
      "Requirement already satisfied: idna<4,>=2.5 in /usr/local/lib/python3.10/dist-packages (from requests) (3.10)\r\n",
      "Requirement already satisfied: certifi>=2017.4.17 in /usr/local/lib/python3.10/dist-packages (from requests) (2024.8.30)\r\n",
      "Requirement already satisfied: cryptography>=3.4.0 in /usr/local/lib/python3.10/dist-packages (from pyjwt[crypto]>=2.4.0->PyGithub) (43.0.1)\r\n",
      "Requirement already satisfied: cffi>=1.4.1 in /usr/local/lib/python3.10/dist-packages (from pynacl>=1.4.0->PyGithub) (1.17.1)\r\n",
      "Requirement already satisfied: wrapt<2,>=1.10 in /usr/local/lib/python3.10/dist-packages (from Deprecated->PyGithub) (1.16.0)\r\n",
      "Requirement already satisfied: pycparser in /usr/local/lib/python3.10/dist-packages (from cffi>=1.4.1->pynacl>=1.4.0->PyGithub) (2.22)\r\n",
      "Downloading PyGithub-2.5.0-py3-none-any.whl (375 kB)\r\n",
      "\u001b[2K   \u001b[90m━━━━━━━━━━━━━━━━━━━━━━━━━━━━━━━━━━━━━━━━\u001b[0m \u001b[32m375.9/375.9 kB\u001b[0m \u001b[31m9.0 MB/s\u001b[0m eta \u001b[36m0:00:00\u001b[0m\r\n",
      "\u001b[?25hDownloading PyNaCl-1.5.0-cp36-abi3-manylinux_2_17_x86_64.manylinux2014_x86_64.manylinux_2_24_x86_64.whl (856 kB)\r\n",
      "\u001b[2K   \u001b[90m━━━━━━━━━━━━━━━━━━━━━━━━━━━━━━━━━━━━━━━━\u001b[0m \u001b[32m856.7/856.7 kB\u001b[0m \u001b[31m27.3 MB/s\u001b[0m eta \u001b[36m0:00:00\u001b[0m\r\n",
      "\u001b[?25hInstalling collected packages: pynacl, PyGithub\r\n",
      "Successfully installed PyGithub-2.5.0 pynacl-1.5.0\r\n"
     ]
    }
   ],
   "source": [
    "! pip install PyGithub requests"
   ]
  },
  {
   "cell_type": "code",
   "execution_count": 4,
   "id": "aed28729",
   "metadata": {
    "execution": {
     "iopub.execute_input": "2024-12-30T19:55:45.632555Z",
     "iopub.status.busy": "2024-12-30T19:55:45.632094Z",
     "iopub.status.idle": "2024-12-30T19:55:50.782427Z",
     "shell.execute_reply": "2024-12-30T19:55:50.780944Z"
    },
    "papermill": {
     "duration": 5.167413,
     "end_time": "2024-12-30T19:55:50.784908",
     "exception": false,
     "start_time": "2024-12-30T19:55:45.617495",
     "status": "completed"
    },
    "tags": []
   },
   "outputs": [
    {
     "name": "stdout",
     "output_type": "stream",
     "text": [
      "Collecting implicit\r\n",
      "  Downloading implicit-0.7.2-cp310-cp310-manylinux2014_x86_64.whl.metadata (6.1 kB)\r\n",
      "Requirement already satisfied: numpy>=1.17.0 in /usr/local/lib/python3.10/dist-packages (from implicit) (1.26.4)\r\n",
      "Requirement already satisfied: scipy>=0.16 in /usr/local/lib/python3.10/dist-packages (from implicit) (1.13.1)\r\n",
      "Requirement already satisfied: tqdm>=4.27 in /usr/local/lib/python3.10/dist-packages (from implicit) (4.66.5)\r\n",
      "Requirement already satisfied: threadpoolctl in /usr/local/lib/python3.10/dist-packages (from implicit) (3.5.0)\r\n",
      "Downloading implicit-0.7.2-cp310-cp310-manylinux2014_x86_64.whl (8.9 MB)\r\n",
      "\u001b[2K   \u001b[90m━━━━━━━━━━━━━━━━━━━━━━━━━━━━━━━━━━━━━━━━\u001b[0m \u001b[32m8.9/8.9 MB\u001b[0m \u001b[31m56.6 MB/s\u001b[0m eta \u001b[36m0:00:00\u001b[0m\r\n",
      "\u001b[?25hInstalling collected packages: implicit\r\n",
      "Successfully installed implicit-0.7.2\r\n"
     ]
    }
   ],
   "source": [
    "! pip install implicit"
   ]
  },
  {
   "cell_type": "code",
   "execution_count": 5,
   "id": "42032a15",
   "metadata": {
    "_kg_hide-input": false,
    "execution": {
     "iopub.execute_input": "2024-12-30T19:55:50.815583Z",
     "iopub.status.busy": "2024-12-30T19:55:50.815068Z",
     "iopub.status.idle": "2024-12-30T19:58:50.732181Z",
     "shell.execute_reply": "2024-12-30T19:58:50.730994Z"
    },
    "papermill": {
     "duration": 179.934783,
     "end_time": "2024-12-30T19:58:50.734387",
     "exception": false,
     "start_time": "2024-12-30T19:55:50.799604",
     "status": "completed"
    },
    "tags": []
   },
   "outputs": [
    {
     "name": "stdout",
     "output_type": "stream",
     "text": [
      "/kaggle/working/RECsys_Challenge2024\n",
      "run_compile_all_cython: Found 11 Cython files in 5 folders...\r\n",
      "run_compile_all_cython: All files will be compiled using your current python environment: '/usr/bin/python3'\r\n",
      "Compiling [1/11]: MatrixFactorization_Cython_Epoch.pyx... \r\n",
      "In file included from \u001b[01m\u001b[K/usr/local/lib/python3.10/dist-packages/numpy/core/include/numpy/ndarraytypes.h:1929\u001b[m\u001b[K,\r\n",
      "                 from \u001b[01m\u001b[K/usr/local/lib/python3.10/dist-packages/numpy/core/include/numpy/ndarrayobject.h:12\u001b[m\u001b[K,\r\n",
      "                 from \u001b[01m\u001b[K/usr/local/lib/python3.10/dist-packages/numpy/core/include/numpy/arrayobject.h:5\u001b[m\u001b[K,\r\n",
      "                 from \u001b[01m\u001b[KMatrixFactorization_Cython_Epoch.c:1252\u001b[m\u001b[K:\r\n",
      "\u001b[01m\u001b[K/usr/local/lib/python3.10/dist-packages/numpy/core/include/numpy/npy_1_7_deprecated_api.h:17:2:\u001b[m\u001b[K \u001b[01;35m\u001b[Kwarning: \u001b[m\u001b[K#warning \"Using deprecated NumPy API, disable it with \" \"#define NPY_NO_DEPRECATED_API NPY_1_7_API_VERSION\" [\u001b[01;35m\u001b[K\u001b]8;;https://gcc.gnu.org/onlinedocs/gcc/Warning-Options.html#index-Wcpp\u0007-Wcpp\u001b]8;;\u0007\u001b[m\u001b[K]\r\n",
      "   17 | #\u001b[01;35m\u001b[Kwarning\u001b[m\u001b[K \"Using deprecated NumPy API, disable it with \" \\\r\n",
      "      |  \u001b[01;35m\u001b[K^~~~~~~\u001b[m\u001b[K\r\n",
      "\u001b[01m\u001b[KMatrixFactorization_Cython_Epoch.c:\u001b[m\u001b[K In function ‘\u001b[01m\u001b[K__pyx_pf_32MatrixFactorization_Cython_Epoch_32MatrixFactorization_Cython_Epoch_10epochIteration_Cython_ASY_SVD_SGD\u001b[m\u001b[K’:\r\n",
      "\u001b[01m\u001b[KMatrixFactorization_Cython_Epoch.c:26256:68:\u001b[m\u001b[K \u001b[01;35m\u001b[Kwarning: \u001b[m\u001b[K‘\u001b[01m\u001b[K__pyx_v_end_pos_seen_items\u001b[m\u001b[K’ may be used uninitialized in this function [\u001b[01;35m\u001b[K\u001b]8;;https://gcc.gnu.org/onlinedocs/gcc/Warning-Options.html#index-Wmaybe-uninitialized\u0007-Wmaybe-uninitialized\u001b]8;;\u0007\u001b[m\u001b[K]\r\n",
      "26256 |         for (__pyx_t_22 = __pyx_v_start_pos_seen_items; \u001b[01;35m\u001b[K__pyx_t_22 < __pyx_t_21\u001b[m\u001b[K; __pyx_t_22+=1) {\r\n",
      "      |                                                         \u001b[01;35m\u001b[K~~~~~~~~~~~^~~~~~~~~~~~\u001b[m\u001b[K\r\n",
      "\u001b[01m\u001b[KMatrixFactorization_Cython_Epoch.c:26256:68:\u001b[m\u001b[K \u001b[01;35m\u001b[Kwarning: \u001b[m\u001b[K‘\u001b[01m\u001b[K__pyx_v_start_pos_seen_items\u001b[m\u001b[K’ may be used uninitialized in this function [\u001b[01;35m\u001b[K\u001b]8;;https://gcc.gnu.org/onlinedocs/gcc/Warning-Options.html#index-Wmaybe-uninitialized\u0007-Wmaybe-uninitialized\u001b]8;;\u0007\u001b[m\u001b[K]\r\n",
      "/usr/local/lib/python3.10/dist-packages/Cython/Compiler/Main.py:381: FutureWarning: Cython directive 'language_level' not set, using '3str' for now (Py3). This has changed from earlier releases! File: /kaggle/working/RECsys_Challenge2024/Recommenders/MatrixFactorization/Cython/MatrixFactorization_Cython_Epoch.pyx\r\n",
      "  tree = Parsing.p_module(s, pxd, full_module_name)\r\n",
      "Compiling [1/11]: MatrixFactorization_Cython_Epoch.pyx... PASS\r\n",
      "\r\n",
      "Compiling [2/11]: MatrixFactorizationImpressions_Cython_Epoch.pyx... \r\n",
      "In file included from \u001b[01m\u001b[K/usr/local/lib/python3.10/dist-packages/numpy/core/include/numpy/ndarraytypes.h:1929\u001b[m\u001b[K,\r\n",
      "                 from \u001b[01m\u001b[K/usr/local/lib/python3.10/dist-packages/numpy/core/include/numpy/ndarrayobject.h:12\u001b[m\u001b[K,\r\n",
      "                 from \u001b[01m\u001b[K/usr/local/lib/python3.10/dist-packages/numpy/core/include/numpy/arrayobject.h:5\u001b[m\u001b[K,\r\n",
      "                 from \u001b[01m\u001b[KMatrixFactorizationImpressions_Cython_Epoch.c:1252\u001b[m\u001b[K:\r\n",
      "\u001b[01m\u001b[K/usr/local/lib/python3.10/dist-packages/numpy/core/include/numpy/npy_1_7_deprecated_api.h:17:2:\u001b[m\u001b[K \u001b[01;35m\u001b[Kwarning: \u001b[m\u001b[K#warning \"Using deprecated NumPy API, disable it with \" \"#define NPY_NO_DEPRECATED_API NPY_1_7_API_VERSION\" [\u001b[01;35m\u001b[K\u001b]8;;https://gcc.gnu.org/onlinedocs/gcc/Warning-Options.html#index-Wcpp\u0007-Wcpp\u001b]8;;\u0007\u001b[m\u001b[K]\r\n",
      "   17 | #\u001b[01;35m\u001b[Kwarning\u001b[m\u001b[K \"Using deprecated NumPy API, disable it with \" \\\r\n",
      "      |  \u001b[01;35m\u001b[K^~~~~~~\u001b[m\u001b[K\r\n",
      "\u001b[01m\u001b[KMatrixFactorizationImpressions_Cython_Epoch.c:\u001b[m\u001b[K In function ‘\u001b[01m\u001b[K__pyx_f_43MatrixFactorizationImpressions_Cython_Epoch_32MatrixFactorization_Cython_Epoch_sampleBPR_Cython\u001b[m\u001b[K’:\r\n",
      "\u001b[01m\u001b[KMatrixFactorizationImpressions_Cython_Epoch.c:30353:17:\u001b[m\u001b[K \u001b[01;35m\u001b[Kwarning: \u001b[m\u001b[K‘\u001b[01m\u001b[K__pyx_v_start_pos_impression_items\u001b[m\u001b[K’ may be used uninitialized in this function [\u001b[01;35m\u001b[K\u001b]8;;https://gcc.gnu.org/onlinedocs/gcc/Warning-Options.html#index-Wmaybe-uninitialized\u0007-Wmaybe-uninitialized\u001b]8;;\u0007\u001b[m\u001b[K]\r\n",
      "30353 |       \u001b[01;35m\u001b[K__pyx_t_4 = (__pyx_v_start_pos_impression_items + __pyx_v_index)\u001b[m\u001b[K;\r\n",
      "      |       \u001b[01;35m\u001b[K~~~~~~~~~~^~~~~~~~~~~~~~~~~~~~~~~~~~~~~~~~~~~~~~~~~~~~~~~~~~~~~~\u001b[m\u001b[K\r\n",
      "\u001b[01m\u001b[KMatrixFactorizationImpressions_Cython_Epoch.c:\u001b[m\u001b[K In function ‘\u001b[01m\u001b[K__pyx_pf_43MatrixFactorizationImpressions_Cython_Epoch_32MatrixFactorization_Cython_Epoch_10epochIteration_Cython_ASY_SVD_SGD\u001b[m\u001b[K’:\r\n",
      "\u001b[01m\u001b[KMatrixFactorizationImpressions_Cython_Epoch.c:26112:66:\u001b[m\u001b[K \u001b[01;35m\u001b[Kwarning: \u001b[m\u001b[K‘\u001b[01m\u001b[K__pyx_v_end_pos_seen_items\u001b[m\u001b[K’ may be used uninitialized in this function [\u001b[01;35m\u001b[K\u001b]8;;https://gcc.gnu.org/onlinedocs/gcc/Warning-Options.html#index-Wmaybe-uninitialized\u0007-Wmaybe-uninitialized\u001b]8;;\u0007\u001b[m\u001b[K]\r\n",
      "26112 |       for (__pyx_t_22 = __pyx_v_start_pos_seen_items; \u001b[01;35m\u001b[K__pyx_t_22 < __pyx_t_21\u001b[m\u001b[K; __pyx_t_22+=1) {\r\n",
      "      |                                                       \u001b[01;35m\u001b[K~~~~~~~~~~~^~~~~~~~~~~~\u001b[m\u001b[K\r\n",
      "\u001b[01m\u001b[KMatrixFactorizationImpressions_Cython_Epoch.c:26112:66:\u001b[m\u001b[K \u001b[01;35m\u001b[Kwarning: \u001b[m\u001b[K‘\u001b[01m\u001b[K__pyx_v_start_pos_seen_items\u001b[m\u001b[K’ may be used uninitialized in this function [\u001b[01;35m\u001b[K\u001b]8;;https://gcc.gnu.org/onlinedocs/gcc/Warning-Options.html#index-Wmaybe-uninitialized\u0007-Wmaybe-uninitialized\u001b]8;;\u0007\u001b[m\u001b[K]\r\n",
      "/usr/local/lib/python3.10/dist-packages/Cython/Compiler/Main.py:381: FutureWarning: Cython directive 'language_level' not set, using '3str' for now (Py3). This has changed from earlier releases! File: /kaggle/working/RECsys_Challenge2024/Recommenders/MatrixFactorization/Cython/MatrixFactorizationImpressions_Cython_Epoch.pyx\r\n",
      "  tree = Parsing.p_module(s, pxd, full_module_name)\r\n",
      "Compiling [2/11]: MatrixFactorizationImpressions_Cython_Epoch.pyx... PASS\r\n",
      "\r\n",
      "Compiling [3/11]: Compute_Similarity_Cython.pyx... \r\n",
      "warning: Compute_Similarity_Cython.pyx:21:0: The 'IF' statement is deprecated and will be removed in a future Cython version. Consider using runtime conditions or C macros instead. See https://github.com/cython/cython/issues/4310\r\n",
      "In file included from \u001b[01m\u001b[K/usr/local/lib/python3.10/dist-packages/numpy/core/include/numpy/ndarraytypes.h:1929\u001b[m\u001b[K,\r\n",
      "                 from \u001b[01m\u001b[K/usr/local/lib/python3.10/dist-packages/numpy/core/include/numpy/ndarrayobject.h:12\u001b[m\u001b[K,\r\n",
      "                 from \u001b[01m\u001b[K/usr/local/lib/python3.10/dist-packages/numpy/core/include/numpy/arrayobject.h:5\u001b[m\u001b[K,\r\n",
      "                 from \u001b[01m\u001b[KCompute_Similarity_Cython.c:1252\u001b[m\u001b[K:\r\n",
      "\u001b[01m\u001b[K/usr/local/lib/python3.10/dist-packages/numpy/core/include/numpy/npy_1_7_deprecated_api.h:17:2:\u001b[m\u001b[K \u001b[01;35m\u001b[Kwarning: \u001b[m\u001b[K#warning \"Using deprecated NumPy API, disable it with \" \"#define NPY_NO_DEPRECATED_API NPY_1_7_API_VERSION\" [\u001b[01;35m\u001b[K\u001b]8;;https://gcc.gnu.org/onlinedocs/gcc/Warning-Options.html#index-Wcpp\u0007-Wcpp\u001b]8;;\u0007\u001b[m\u001b[K]\r\n",
      "   17 | #\u001b[01;35m\u001b[Kwarning\u001b[m\u001b[K \"Using deprecated NumPy API, disable it with \" \\\r\n",
      "      |  \u001b[01;35m\u001b[K^~~~~~~\u001b[m\u001b[K\r\n",
      "/usr/local/lib/python3.10/dist-packages/Cython/Compiler/Main.py:381: FutureWarning: Cython directive 'language_level' not set, using '3str' for now (Py3). This has changed from earlier releases! File: /kaggle/working/RECsys_Challenge2024/Recommenders/Similarity/Cython/Compute_Similarity_Cython.pyx\r\n",
      "  tree = Parsing.p_module(s, pxd, full_module_name)\r\n",
      "warning: Compute_Similarity_Cython.pyx:21:0: The 'IF' statement is deprecated and will be removed in a future Cython version. Consider using runtime conditions or C macros instead. See https://github.com/cython/cython/issues/4310\r\n",
      "Compiling [3/11]: Compute_Similarity_Cython.pyx... PASS\r\n",
      "\r\n",
      "Compiling [4/11]: Sparse_Matrix_Tree_CSR.pyx... \r\n",
      "warning: Sparse_Matrix_Tree_CSR.pyx:132:34: Non-trivial type declarators in shared declaration (e.g. mix of pointers and values). Each pointer declaration should be on its own line.\r\n",
      "warning: Sparse_Matrix_Tree_CSR.pyx:132:66: Non-trivial type declarators in shared declaration (e.g. mix of pointers and values). Each pointer declaration should be on its own line.\r\n",
      "warning: Sparse_Matrix_Tree_CSR.pyx:343:35: Non-trivial type declarators in shared declaration (e.g. mix of pointers and values). Each pointer declaration should be on its own line.\r\n",
      "warning: Sparse_Matrix_Tree_CSR.pyx:343:52: Non-trivial type declarators in shared declaration (e.g. mix of pointers and values). Each pointer declaration should be on its own line.\r\n",
      "warning: Sparse_Matrix_Tree_CSR.pyx:442:35: Non-trivial type declarators in shared declaration (e.g. mix of pointers and values). Each pointer declaration should be on its own line.\r\n",
      "warning: Sparse_Matrix_Tree_CSR.pyx:442:53: Non-trivial type declarators in shared declaration (e.g. mix of pointers and values). Each pointer declaration should be on its own line.\r\n",
      "warning: Sparse_Matrix_Tree_CSR.pyx:442:69: Non-trivial type declarators in shared declaration (e.g. mix of pointers and values). Each pointer declaration should be on its own line.\r\n",
      "warning: Sparse_Matrix_Tree_CSR.pyx:577:35: Non-trivial type declarators in shared declaration (e.g. mix of pointers and values). Each pointer declaration should be on its own line.\r\n",
      "warning: Sparse_Matrix_Tree_CSR.pyx:577:42: Non-trivial type declarators in shared declaration (e.g. mix of pointers and values). Each pointer declaration should be on its own line.\r\n",
      "warning: Sparse_Matrix_Tree_CSR.pyx:578:35: Non-trivial type declarators in shared declaration (e.g. mix of pointers and values). Each pointer declaration should be on its own line.\r\n",
      "warning: Sparse_Matrix_Tree_CSR.pyx:578:53: Non-trivial type declarators in shared declaration (e.g. mix of pointers and values). Each pointer declaration should be on its own line.\r\n",
      "\r\n",
      "Error compiling Cython file:\r\n",
      "------------------------------------------------------------\r\n",
      "...\r\n",
      "            vector_pointer_to_list_elements[index].head = current_element\r\n",
      "            current_element = current_element.higher\r\n",
      "\r\n",
      "\r\n",
      "        # Sort array elements on their data field\r\n",
      "        qsort(vector_pointer_to_list_elements, list_length, sizeof(head_pointer_tree_s), compare_struct_on_data)\r\n",
      "                                                                                         ^\r\n",
      "------------------------------------------------------------\r\n",
      "\r\n",
      "Sparse_Matrix_Tree_CSR.pyx:516:89: Cannot assign type 'int (const void *, const void *) except? -1' to 'int (*)(const_void *, const_void *) noexcept'. Exception values are incompatible. Suggest adding 'noexcept' to the type of 'compare_struct_on_data'.\r\n",
      "\r\n",
      "Error compiling Cython file:\r\n",
      "------------------------------------------------------------\r\n",
      "...\r\n",
      "        # Sort array elements on their data field\r\n",
      "        qsort(vector_pointer_to_list_elements, list_length, sizeof(head_pointer_tree_s), compare_struct_on_data)\r\n",
      "\r\n",
      "        # Sort only the TopK according to their column field\r\n",
      "        # Sort is from lower to higher, therefore the elements to be considered are from len-topK to len\r\n",
      "        qsort(&vector_pointer_to_list_elements[list_length-TopK], TopK, sizeof(head_pointer_tree_s), compare_struct_on_column)\r\n",
      "                                                                                                     ^\r\n",
      "------------------------------------------------------------\r\n",
      "\r\n",
      "Sparse_Matrix_Tree_CSR.pyx:520:101: Cannot assign type 'int (const void *, const void *) except? -1' to 'int (*)(const_void *, const_void *) noexcept'. Exception values are incompatible. Suggest adding 'noexcept' to the type of 'compare_struct_on_column'.\r\n",
      "Traceback (most recent call last):\r\n",
      "  File \"/kaggle/working/RECsys_Challenge2024/CythonCompiler/compile_script.py\", line 48, in <module>\r\n",
      "    setup(\r\n",
      "  File \"/usr/local/lib/python3.10/dist-packages/setuptools/__init__.py\", line 108, in setup\r\n",
      "    return distutils.core.setup(**attrs)\r\n",
      "  File \"/usr/local/lib/python3.10/dist-packages/setuptools/_distutils/core.py\", line 184, in setup\r\n",
      "    return run_commands(dist)\r\n",
      "  File \"/usr/local/lib/python3.10/dist-packages/setuptools/_distutils/core.py\", line 200, in run_commands\r\n",
      "    dist.run_commands()\r\n",
      "  File \"/usr/local/lib/python3.10/dist-packages/setuptools/_distutils/dist.py\", line 970, in run_commands\r\n",
      "    self.run_command(cmd)\r\n",
      "  File \"/usr/local/lib/python3.10/dist-packages/setuptools/dist.py\", line 956, in run_command\r\n",
      "    super().run_command(command)\r\n",
      "  File \"/usr/local/lib/python3.10/dist-packages/setuptools/_distutils/dist.py\", line 989, in run_command\r\n",
      "    cmd_obj.run()\r\n",
      "  File \"/usr/local/lib/python3.10/dist-packages/setuptools/_distutils/command/build_ext.py\", line 359, in run\r\n",
      "    self.build_extensions()\r\n",
      "  File \"/usr/local/lib/python3.10/dist-packages/setuptools/_distutils/command/build_ext.py\", line 479, in build_extensions\r\n",
      "    self._build_extensions_serial()\r\n",
      "  File \"/usr/local/lib/python3.10/dist-packages/setuptools/_distutils/command/build_ext.py\", line 505, in _build_extensions_serial\r\n",
      "    self.build_extension(ext)\r\n",
      "  File \"/usr/local/lib/python3.10/dist-packages/Cython/Distutils/build_ext.py\", line 130, in build_extension\r\n",
      "    new_ext = cythonize(\r\n",
      "  File \"/usr/local/lib/python3.10/dist-packages/Cython/Build/Dependencies.py\", line 1154, in cythonize\r\n",
      "    cythonize_one(*args)\r\n",
      "  File \"/usr/local/lib/python3.10/dist-packages/Cython/Build/Dependencies.py\", line 1321, in cythonize_one\r\n",
      "    raise CompileError(None, pyx_file)\r\n",
      "Cython.Compiler.Errors.CompileError: Sparse_Matrix_Tree_CSR.pyx\r\n",
      "Traceback (most recent call last):\r\n",
      "  File \"/kaggle/working/RECsys_Challenge2024/run_compile_all_cython.py\", line 60, in <module>\r\n",
      "    run_compile_subprocess(file_path, [file_name])\r\n",
      "  File \"/kaggle/working/RECsys_Challenge2024/CythonCompiler/run_compile_subprocess.py\", line 51, in run_compile_subprocess\r\n",
      "    raise exc\r\n",
      "  File \"/kaggle/working/RECsys_Challenge2024/CythonCompiler/run_compile_subprocess.py\", line 32, in run_compile_subprocess\r\n",
      "    output = subprocess.check_output(' '.join(command),\r\n",
      "  File \"/usr/lib/python3.10/subprocess.py\", line 421, in check_output\r\n",
      "    return run(*popenargs, stdout=PIPE, timeout=timeout, check=True,\r\n",
      "  File \"/usr/lib/python3.10/subprocess.py\", line 526, in run\r\n",
      "    raise CalledProcessError(retcode, process.args,\r\n",
      "subprocess.CalledProcessError: Command '/usr/bin/python3 /kaggle/working/RECsys_Challenge2024/CythonCompiler/compile_script.py Sparse_Matrix_Tree_CSR.pyx build_ext --inplace' returned non-zero exit status 1.\r\n",
      "Compiling [4/11]: Sparse_Matrix_Tree_CSR.pyx... FAIL: Command '/usr/bin/python3 /kaggle/working/RECsys_Challenge2024/CythonCompiler/compile_script.py Sparse_Matrix_Tree_CSR.pyx build_ext --inplace' returned non-zero exit status 1.\r\n",
      "\r\n",
      "Compiling [5/11]: SLIM_BPR_Cython_Epoch.pyx... \r\n",
      "warning: SLIM_BPR_Cython_Epoch.pyx:24:0: The 'IF' statement is deprecated and will be removed in a future Cython version. Consider using runtime conditions or C macros instead. See https://github.com/cython/cython/issues/4310\r\n",
      "warning: SLIM_BPR_Cython_Epoch.pyx:632:34: Non-trivial type declarators in shared declaration (e.g. mix of pointers and values). Each pointer declaration should be on its own line.\r\n",
      "warning: SLIM_BPR_Cython_Epoch.pyx:632:66: Non-trivial type declarators in shared declaration (e.g. mix of pointers and values). Each pointer declaration should be on its own line.\r\n",
      "warning: SLIM_BPR_Cython_Epoch.pyx:817:35: Non-trivial type declarators in shared declaration (e.g. mix of pointers and values). Each pointer declaration should be on its own line.\r\n",
      "warning: SLIM_BPR_Cython_Epoch.pyx:817:52: Non-trivial type declarators in shared declaration (e.g. mix of pointers and values). Each pointer declaration should be on its own line.\r\n",
      "warning: SLIM_BPR_Cython_Epoch.pyx:916:35: Non-trivial type declarators in shared declaration (e.g. mix of pointers and values). Each pointer declaration should be on its own line.\r\n",
      "warning: SLIM_BPR_Cython_Epoch.pyx:916:53: Non-trivial type declarators in shared declaration (e.g. mix of pointers and values). Each pointer declaration should be on its own line.\r\n",
      "warning: SLIM_BPR_Cython_Epoch.pyx:916:69: Non-trivial type declarators in shared declaration (e.g. mix of pointers and values). Each pointer declaration should be on its own line.\r\n",
      "warning: SLIM_BPR_Cython_Epoch.pyx:1051:35: Non-trivial type declarators in shared declaration (e.g. mix of pointers and values). Each pointer declaration should be on its own line.\r\n",
      "warning: SLIM_BPR_Cython_Epoch.pyx:1051:42: Non-trivial type declarators in shared declaration (e.g. mix of pointers and values). Each pointer declaration should be on its own line.\r\n",
      "warning: SLIM_BPR_Cython_Epoch.pyx:1052:35: Non-trivial type declarators in shared declaration (e.g. mix of pointers and values). Each pointer declaration should be on its own line.\r\n",
      "warning: SLIM_BPR_Cython_Epoch.pyx:1052:53: Non-trivial type declarators in shared declaration (e.g. mix of pointers and values). Each pointer declaration should be on its own line.\r\n",
      "\r\n",
      "Error compiling Cython file:\r\n",
      "------------------------------------------------------------\r\n",
      "...\r\n",
      "            vector_pointer_to_list_elements[index].head = current_element\r\n",
      "            current_element = current_element.higher\r\n",
      "\r\n",
      "\r\n",
      "        # Sort array elements on their data field\r\n",
      "        qsort(vector_pointer_to_list_elements, list_length, sizeof(head_pointer_tree_s), compare_struct_on_data)\r\n",
      "                                                                                         ^\r\n",
      "------------------------------------------------------------\r\n",
      "\r\n",
      "SLIM_BPR_Cython_Epoch.pyx:990:89: Cannot assign type 'int (const void *, const void *) except? -1' to 'int (*)(const_void *, const_void *) noexcept'. Exception values are incompatible. Suggest adding 'noexcept' to the type of 'compare_struct_on_data'.\r\n",
      "\r\n",
      "Error compiling Cython file:\r\n",
      "------------------------------------------------------------\r\n",
      "...\r\n",
      "        # Sort array elements on their data field\r\n",
      "        qsort(vector_pointer_to_list_elements, list_length, sizeof(head_pointer_tree_s), compare_struct_on_data)\r\n",
      "\r\n",
      "        # Sort only the TopK according to their column field\r\n",
      "        # Sort is from lower to higher, therefore the elements to be considered are from len-topK to len\r\n",
      "        qsort(&vector_pointer_to_list_elements[list_length-TopK], TopK, sizeof(head_pointer_tree_s), compare_struct_on_column)\r\n",
      "                                                                                                     ^\r\n",
      "------------------------------------------------------------\r\n",
      "\r\n",
      "SLIM_BPR_Cython_Epoch.pyx:994:101: Cannot assign type 'int (const void *, const void *) except? -1' to 'int (*)(const_void *, const_void *) noexcept'. Exception values are incompatible. Suggest adding 'noexcept' to the type of 'compare_struct_on_column'.\r\n",
      "Traceback (most recent call last):\r\n",
      "  File \"/kaggle/working/RECsys_Challenge2024/CythonCompiler/compile_script.py\", line 48, in <module>\r\n",
      "    setup(\r\n",
      "  File \"/usr/local/lib/python3.10/dist-packages/setuptools/__init__.py\", line 108, in setup\r\n",
      "    return distutils.core.setup(**attrs)\r\n",
      "  File \"/usr/local/lib/python3.10/dist-packages/setuptools/_distutils/core.py\", line 184, in setup\r\n",
      "    return run_commands(dist)\r\n",
      "  File \"/usr/local/lib/python3.10/dist-packages/setuptools/_distutils/core.py\", line 200, in run_commands\r\n",
      "    dist.run_commands()\r\n",
      "  File \"/usr/local/lib/python3.10/dist-packages/setuptools/_distutils/dist.py\", line 970, in run_commands\r\n",
      "    self.run_command(cmd)\r\n",
      "  File \"/usr/local/lib/python3.10/dist-packages/setuptools/dist.py\", line 956, in run_command\r\n",
      "    super().run_command(command)\r\n",
      "  File \"/usr/local/lib/python3.10/dist-packages/setuptools/_distutils/dist.py\", line 989, in run_command\r\n",
      "    cmd_obj.run()\r\n",
      "  File \"/usr/local/lib/python3.10/dist-packages/setuptools/_distutils/command/build_ext.py\", line 359, in run\r\n",
      "    self.build_extensions()\r\n",
      "  File \"/usr/local/lib/python3.10/dist-packages/setuptools/_distutils/command/build_ext.py\", line 479, in build_extensions\r\n",
      "    self._build_extensions_serial()\r\n",
      "  File \"/usr/local/lib/python3.10/dist-packages/setuptools/_distutils/command/build_ext.py\", line 505, in _build_extensions_serial\r\n",
      "    self.build_extension(ext)\r\n",
      "  File \"/usr/local/lib/python3.10/dist-packages/Cython/Distutils/build_ext.py\", line 130, in build_extension\r\n",
      "    new_ext = cythonize(\r\n",
      "  File \"/usr/local/lib/python3.10/dist-packages/Cython/Build/Dependencies.py\", line 1154, in cythonize\r\n",
      "    cythonize_one(*args)\r\n",
      "  File \"/usr/local/lib/python3.10/dist-packages/Cython/Build/Dependencies.py\", line 1321, in cythonize_one\r\n",
      "    raise CompileError(None, pyx_file)\r\n",
      "Cython.Compiler.Errors.CompileError: SLIM_BPR_Cython_Epoch.pyx\r\n",
      "Traceback (most recent call last):\r\n",
      "  File \"/kaggle/working/RECsys_Challenge2024/run_compile_all_cython.py\", line 60, in <module>\r\n",
      "    run_compile_subprocess(file_path, [file_name])\r\n",
      "  File \"/kaggle/working/RECsys_Challenge2024/CythonCompiler/run_compile_subprocess.py\", line 51, in run_compile_subprocess\r\n",
      "    raise exc\r\n",
      "  File \"/kaggle/working/RECsys_Challenge2024/CythonCompiler/run_compile_subprocess.py\", line 32, in run_compile_subprocess\r\n",
      "    output = subprocess.check_output(' '.join(command),\r\n",
      "  File \"/usr/lib/python3.10/subprocess.py\", line 421, in check_output\r\n",
      "    return run(*popenargs, stdout=PIPE, timeout=timeout, check=True,\r\n",
      "  File \"/usr/lib/python3.10/subprocess.py\", line 526, in run\r\n",
      "    raise CalledProcessError(retcode, process.args,\r\n",
      "subprocess.CalledProcessError: Command '/usr/bin/python3 /kaggle/working/RECsys_Challenge2024/CythonCompiler/compile_script.py SLIM_BPR_Cython_Epoch.pyx build_ext --inplace' returned non-zero exit status 1.\r\n",
      "Compiling [5/11]: SLIM_BPR_Cython_Epoch.pyx... FAIL: Command '/usr/bin/python3 /kaggle/working/RECsys_Challenge2024/CythonCompiler/compile_script.py SLIM_BPR_Cython_Epoch.pyx build_ext --inplace' returned non-zero exit status 1.\r\n",
      "\r\n",
      "Compiling [6/11]: Triangular_Matrix.pyx... \r\n",
      "warning: Triangular_Matrix.pyx:22:0: The 'IF' statement is deprecated and will be removed in a future Cython version. Consider using runtime conditions or C macros instead. See https://github.com/cython/cython/issues/4310\r\n",
      "In file included from \u001b[01m\u001b[K/usr/local/lib/python3.10/dist-packages/numpy/core/include/numpy/ndarraytypes.h:1929\u001b[m\u001b[K,\r\n",
      "                 from \u001b[01m\u001b[K/usr/local/lib/python3.10/dist-packages/numpy/core/include/numpy/ndarrayobject.h:12\u001b[m\u001b[K,\r\n",
      "                 from \u001b[01m\u001b[K/usr/local/lib/python3.10/dist-packages/numpy/core/include/numpy/arrayobject.h:5\u001b[m\u001b[K,\r\n",
      "                 from \u001b[01m\u001b[KTriangular_Matrix.c:1252\u001b[m\u001b[K:\r\n",
      "\u001b[01m\u001b[K/usr/local/lib/python3.10/dist-packages/numpy/core/include/numpy/npy_1_7_deprecated_api.h:17:2:\u001b[m\u001b[K \u001b[01;35m\u001b[Kwarning: \u001b[m\u001b[K#warning \"Using deprecated NumPy API, disable it with \" \"#define NPY_NO_DEPRECATED_API NPY_1_7_API_VERSION\" [\u001b[01;35m\u001b[K\u001b]8;;https://gcc.gnu.org/onlinedocs/gcc/Warning-Options.html#index-Wcpp\u0007-Wcpp\u001b]8;;\u0007\u001b[m\u001b[K]\r\n",
      "   17 | #\u001b[01;35m\u001b[Kwarning\u001b[m\u001b[K \"Using deprecated NumPy API, disable it with \" \\\r\n",
      "      |  \u001b[01;35m\u001b[K^~~~~~~\u001b[m\u001b[K\r\n",
      "In function ‘\u001b[01m\u001b[K__pyx_pf_17Triangular_Matrix_17Triangular_Matrix___init__\u001b[m\u001b[K’,\r\n",
      "    inlined from ‘\u001b[01m\u001b[K__pyx_pw_17Triangular_Matrix_17Triangular_Matrix_1__init__\u001b[m\u001b[K’ at \u001b[01m\u001b[KTriangular_Matrix.c:5541:13\u001b[m\u001b[K:\r\n",
      "\u001b[01m\u001b[KTriangular_Matrix.c:5599:43:\u001b[m\u001b[K \u001b[01;35m\u001b[Kwarning: \u001b[m\u001b[Kargument 1 value ‘\u001b[01m\u001b[K18446744073709551608\u001b[m\u001b[K’ exceeds maximum object size 9223372036854775807 [\u001b[01;35m\u001b[K\u001b]8;;https://gcc.gnu.org/onlinedocs/gcc/Warning-Options.html#index-Walloc-size-larger-than=\u0007-Walloc-size-larger-than=\u001b]8;;\u0007\u001b[m\u001b[K]\r\n",
      " 5599 |   __pyx_v_self->row_pointer = ((double **)\u001b[01;35m\u001b[Kmalloc((__pyx_v_self->num_rows * (sizeof(double *))))\u001b[m\u001b[K);\r\n",
      "      |                                           \u001b[01;35m\u001b[K^~~~~~~~~~~~~~~~~~~~~~~~~~~~~~~~~~~~~~~~~~~~~~~~~~~~~\u001b[m\u001b[K\r\n",
      "In file included from \u001b[01m\u001b[K/usr/include/python3.10/Python.h:34\u001b[m\u001b[K,\r\n",
      "                 from \u001b[01m\u001b[KTriangular_Matrix.c:41\u001b[m\u001b[K:\r\n",
      "\u001b[01m\u001b[KTriangular_Matrix.c:\u001b[m\u001b[K In function ‘\u001b[01m\u001b[K__pyx_pw_17Triangular_Matrix_17Triangular_Matrix_1__init__\u001b[m\u001b[K’:\r\n",
      "\u001b[01m\u001b[K/usr/include/stdlib.h:540:14:\u001b[m\u001b[K \u001b[01;36m\u001b[Knote: \u001b[m\u001b[Kin a call to allocation function ‘\u001b[01m\u001b[Kmalloc\u001b[m\u001b[K’ declared here\r\n",
      "  540 | extern void *\u001b[01;36m\u001b[Kmalloc\u001b[m\u001b[K (size_t __size) __THROW __attribute_malloc__\r\n",
      "      |              \u001b[01;36m\u001b[K^~~~~~\u001b[m\u001b[K\r\n",
      "/usr/local/lib/python3.10/dist-packages/Cython/Compiler/Main.py:381: FutureWarning: Cython directive 'language_level' not set, using '3str' for now (Py3). This has changed from earlier releases! File: /kaggle/working/RECsys_Challenge2024/Recommenders/SLIM/Cython/Triangular_Matrix.pyx\r\n",
      "  tree = Parsing.p_module(s, pxd, full_module_name)\r\n",
      "warning: Triangular_Matrix.pyx:22:0: The 'IF' statement is deprecated and will be removed in a future Cython version. Consider using runtime conditions or C macros instead. See https://github.com/cython/cython/issues/4310\r\n",
      "Compiling [6/11]: Triangular_Matrix.pyx... PASS\r\n",
      "\r\n",
      "Compiling [7/11]: CFW_D_Similarity_Cython_SGD.pyx... \r\n",
      "In file included from \u001b[01m\u001b[K/usr/local/lib/python3.10/dist-packages/numpy/core/include/numpy/ndarraytypes.h:1929\u001b[m\u001b[K,\r\n",
      "                 from \u001b[01m\u001b[K/usr/local/lib/python3.10/dist-packages/numpy/core/include/numpy/ndarrayobject.h:12\u001b[m\u001b[K,\r\n",
      "                 from \u001b[01m\u001b[K/usr/local/lib/python3.10/dist-packages/numpy/core/include/numpy/arrayobject.h:5\u001b[m\u001b[K,\r\n",
      "                 from \u001b[01m\u001b[KCFW_D_Similarity_Cython_SGD.c:1252\u001b[m\u001b[K:\r\n",
      "\u001b[01m\u001b[K/usr/local/lib/python3.10/dist-packages/numpy/core/include/numpy/npy_1_7_deprecated_api.h:17:2:\u001b[m\u001b[K \u001b[01;35m\u001b[Kwarning: \u001b[m\u001b[K#warning \"Using deprecated NumPy API, disable it with \" \"#define NPY_NO_DEPRECATED_API NPY_1_7_API_VERSION\" [\u001b[01;35m\u001b[K\u001b]8;;https://gcc.gnu.org/onlinedocs/gcc/Warning-Options.html#index-Wcpp\u0007-Wcpp\u001b]8;;\u0007\u001b[m\u001b[K]\r\n",
      "   17 | #\u001b[01;35m\u001b[Kwarning\u001b[m\u001b[K \"Using deprecated NumPy API, disable it with \" \\\r\n",
      "      |  \u001b[01;35m\u001b[K^~~~~~~\u001b[m\u001b[K\r\n",
      "\u001b[01m\u001b[KCFW_D_Similarity_Cython_SGD.c:\u001b[m\u001b[K In function ‘\u001b[01m\u001b[K__pyx_pf_27CFW_D_Similarity_Cython_SGD_27CFW_D_Similarity_Cython_SGD_6fit\u001b[m\u001b[K’:\r\n",
      "\u001b[01m\u001b[KCFW_D_Similarity_Cython_SGD.c:23373:55:\u001b[m\u001b[K \u001b[01;35m\u001b[Kwarning: \u001b[m\u001b[K‘\u001b[01m\u001b[K__pyx_v_sample_num\u001b[m\u001b[K’ may be used uninitialized in this function [\u001b[01;35m\u001b[K\u001b]8;;https://gcc.gnu.org/onlinedocs/gcc/Warning-Options.html#index-Wmaybe-uninitialized\u0007-Wmaybe-uninitialized\u001b]8;;\u0007\u001b[m\u001b[K]\r\n",
      "23373 |   __pyx_t_3 = PyFloat_FromDouble((__pyx_v_cum_loss / \u001b[01;35m\u001b[K((double)__pyx_v_sample_num)\u001b[m\u001b[K)); if (unlikely(!__pyx_t_3)) __PYX_ERR(0, 290, __pyx_L1_error)\r\n",
      "      |                                                      \u001b[01;35m\u001b[K~^~~~~~~~~~~~~~~~~~~~~~~~~~~\u001b[m\u001b[K\r\n",
      "/usr/local/lib/python3.10/dist-packages/Cython/Compiler/Main.py:381: FutureWarning: Cython directive 'language_level' not set, using '3str' for now (Py3). This has changed from earlier releases! File: /kaggle/working/RECsys_Challenge2024/Recommenders/FeatureWeighting/Cython/CFW_D_Similarity_Cython_SGD.pyx\r\n",
      "  tree = Parsing.p_module(s, pxd, full_module_name)\r\n",
      "Compiling [7/11]: CFW_D_Similarity_Cython_SGD.pyx... PASS\r\n",
      "\r\n",
      "Compiling [8/11]: FBSM_Rating_Cython_SGD.pyx... \r\n",
      "In file included from \u001b[01m\u001b[K/usr/local/lib/python3.10/dist-packages/numpy/core/include/numpy/ndarraytypes.h:1929\u001b[m\u001b[K,\r\n",
      "                 from \u001b[01m\u001b[K/usr/local/lib/python3.10/dist-packages/numpy/core/include/numpy/ndarrayobject.h:12\u001b[m\u001b[K,\r\n",
      "                 from \u001b[01m\u001b[K/usr/local/lib/python3.10/dist-packages/numpy/core/include/numpy/arrayobject.h:5\u001b[m\u001b[K,\r\n",
      "                 from \u001b[01m\u001b[KFBSM_Rating_Cython_SGD.c:1252\u001b[m\u001b[K:\r\n",
      "\u001b[01m\u001b[K/usr/local/lib/python3.10/dist-packages/numpy/core/include/numpy/npy_1_7_deprecated_api.h:17:2:\u001b[m\u001b[K \u001b[01;35m\u001b[Kwarning: \u001b[m\u001b[K#warning \"Using deprecated NumPy API, disable it with \" \"#define NPY_NO_DEPRECATED_API NPY_1_7_API_VERSION\" [\u001b[01;35m\u001b[K\u001b]8;;https://gcc.gnu.org/onlinedocs/gcc/Warning-Options.html#index-Wcpp\u0007-Wcpp\u001b]8;;\u0007\u001b[m\u001b[K]\r\n",
      "   17 | #\u001b[01;35m\u001b[Kwarning\u001b[m\u001b[K \"Using deprecated NumPy API, disable it with \" \\\r\n",
      "      |  \u001b[01;35m\u001b[K^~~~~~~\u001b[m\u001b[K\r\n",
      "\u001b[01m\u001b[KFBSM_Rating_Cython_SGD.c:\u001b[m\u001b[K In function ‘\u001b[01m\u001b[K__pyx_pf_22FBSM_Rating_Cython_SGD_22FBSM_Rating_Cython_SGD_2fit\u001b[m\u001b[K’:\r\n",
      "\u001b[01m\u001b[KFBSM_Rating_Cython_SGD.c:26607:55:\u001b[m\u001b[K \u001b[01;35m\u001b[Kwarning: \u001b[m\u001b[K‘\u001b[01m\u001b[K__pyx_v_num_sample\u001b[m\u001b[K’ may be used uninitialized in this function [\u001b[01;35m\u001b[K\u001b]8;;https://gcc.gnu.org/onlinedocs/gcc/Warning-Options.html#index-Wmaybe-uninitialized\u0007-Wmaybe-uninitialized\u001b]8;;\u0007\u001b[m\u001b[K]\r\n",
      "26607 |   __pyx_t_5 = PyFloat_FromDouble((__pyx_v_cum_loss / \u001b[01;35m\u001b[K((double)__pyx_v_num_sample)\u001b[m\u001b[K)); if (unlikely(!__pyx_t_5)) __PYX_ERR(0, 551, __pyx_L1_error)\r\n",
      "      |                                                      \u001b[01;35m\u001b[K~^~~~~~~~~~~~~~~~~~~~~~~~~~~\u001b[m\u001b[K\r\n",
      "/usr/local/lib/python3.10/dist-packages/Cython/Compiler/Main.py:381: FutureWarning: Cython directive 'language_level' not set, using '3str' for now (Py3). This has changed from earlier releases! File: /kaggle/working/RECsys_Challenge2024/Recommenders/FeatureWeighting/Cython/FBSM_Rating_Cython_SGD.pyx\r\n",
      "  tree = Parsing.p_module(s, pxd, full_module_name)\r\n",
      "Compiling [8/11]: FBSM_Rating_Cython_SGD.pyx... PASS\r\n",
      "\r\n",
      "Compiling [9/11]: HP3_Similarity_Cython_SGD.pyx... \r\n",
      "performance hint: HP3_Similarity_Cython_SGD.pyx:113:40: Index should be typed for more efficient access\r\n",
      "performance hint: HP3_Similarity_Cython_SGD.pyx:114:40: Index should be typed for more efficient access\r\n",
      "In file included from \u001b[01m\u001b[K/usr/local/lib/python3.10/dist-packages/numpy/core/include/numpy/ndarraytypes.h:1929\u001b[m\u001b[K,\r\n",
      "                 from \u001b[01m\u001b[K/usr/local/lib/python3.10/dist-packages/numpy/core/include/numpy/ndarrayobject.h:12\u001b[m\u001b[K,\r\n",
      "                 from \u001b[01m\u001b[K/usr/local/lib/python3.10/dist-packages/numpy/core/include/numpy/arrayobject.h:5\u001b[m\u001b[K,\r\n",
      "                 from \u001b[01m\u001b[KHP3_Similarity_Cython_SGD.c:1252\u001b[m\u001b[K:\r\n",
      "\u001b[01m\u001b[K/usr/local/lib/python3.10/dist-packages/numpy/core/include/numpy/npy_1_7_deprecated_api.h:17:2:\u001b[m\u001b[K \u001b[01;35m\u001b[Kwarning: \u001b[m\u001b[K#warning \"Using deprecated NumPy API, disable it with \" \"#define NPY_NO_DEPRECATED_API NPY_1_7_API_VERSION\" [\u001b[01;35m\u001b[K\u001b]8;;https://gcc.gnu.org/onlinedocs/gcc/Warning-Options.html#index-Wcpp\u0007-Wcpp\u001b]8;;\u0007\u001b[m\u001b[K]\r\n",
      "   17 | #\u001b[01;35m\u001b[Kwarning\u001b[m\u001b[K \"Using deprecated NumPy API, disable it with \" \\\r\n",
      "      |  \u001b[01;35m\u001b[K^~~~~~~\u001b[m\u001b[K\r\n",
      "\u001b[01m\u001b[KHP3_Similarity_Cython_SGD.c:\u001b[m\u001b[K In function ‘\u001b[01m\u001b[K__pyx_pf_25HP3_Similarity_Cython_SGD_25HP3_Similarity_Cython_SGD_4fit\u001b[m\u001b[K’:\r\n",
      "\u001b[01m\u001b[KHP3_Similarity_Cython_SGD.c:23631:55:\u001b[m\u001b[K \u001b[01;35m\u001b[Kwarning: \u001b[m\u001b[K‘\u001b[01m\u001b[K__pyx_v_sample_num\u001b[m\u001b[K’ may be used uninitialized in this function [\u001b[01;35m\u001b[K\u001b]8;;https://gcc.gnu.org/onlinedocs/gcc/Warning-Options.html#index-Wmaybe-uninitialized\u0007-Wmaybe-uninitialized\u001b]8;;\u0007\u001b[m\u001b[K]\r\n",
      "23631 |   __pyx_t_1 = PyFloat_FromDouble((__pyx_v_cum_loss / \u001b[01;35m\u001b[K((double)__pyx_v_sample_num)\u001b[m\u001b[K)); if (unlikely(!__pyx_t_1)) __PYX_ERR(0, 291, __pyx_L1_error)\r\n",
      "      |                                                      \u001b[01;35m\u001b[K~^~~~~~~~~~~~~~~~~~~~~~~~~~~\u001b[m\u001b[K\r\n",
      "/usr/local/lib/python3.10/dist-packages/Cython/Compiler/Main.py:381: FutureWarning: Cython directive 'language_level' not set, using '3str' for now (Py3). This has changed from earlier releases! File: /kaggle/working/RECsys_Challenge2024/Recommenders/FeatureWeighting/Cython/HP3_Similarity_Cython_SGD.pyx\r\n",
      "  tree = Parsing.p_module(s, pxd, full_module_name)\r\n",
      "performance hint: HP3_Similarity_Cython_SGD.pyx:113:40: Index should be typed for more efficient access\r\n",
      "performance hint: HP3_Similarity_Cython_SGD.pyx:114:40: Index should be typed for more efficient access\r\n",
      "Compiling [9/11]: HP3_Similarity_Cython_SGD.pyx... PASS\r\n",
      "\r\n",
      "Compiling [10/11]: CFW_DVV_Similarity_Cython_SGD.pyx... \r\n",
      "In file included from \u001b[01m\u001b[K/usr/local/lib/python3.10/dist-packages/numpy/core/include/numpy/ndarraytypes.h:1929\u001b[m\u001b[K,\r\n",
      "                 from \u001b[01m\u001b[K/usr/local/lib/python3.10/dist-packages/numpy/core/include/numpy/ndarrayobject.h:12\u001b[m\u001b[K,\r\n",
      "                 from \u001b[01m\u001b[K/usr/local/lib/python3.10/dist-packages/numpy/core/include/numpy/arrayobject.h:5\u001b[m\u001b[K,\r\n",
      "                 from \u001b[01m\u001b[KCFW_DVV_Similarity_Cython_SGD.c:1252\u001b[m\u001b[K:\r\n",
      "\u001b[01m\u001b[K/usr/local/lib/python3.10/dist-packages/numpy/core/include/numpy/npy_1_7_deprecated_api.h:17:2:\u001b[m\u001b[K \u001b[01;35m\u001b[Kwarning: \u001b[m\u001b[K#warning \"Using deprecated NumPy API, disable it with \" \"#define NPY_NO_DEPRECATED_API NPY_1_7_API_VERSION\" [\u001b[01;35m\u001b[K\u001b]8;;https://gcc.gnu.org/onlinedocs/gcc/Warning-Options.html#index-Wcpp\u0007-Wcpp\u001b]8;;\u0007\u001b[m\u001b[K]\r\n",
      "   17 | #\u001b[01;35m\u001b[Kwarning\u001b[m\u001b[K \"Using deprecated NumPy API, disable it with \" \\\r\n",
      "      |  \u001b[01;35m\u001b[K^~~~~~~\u001b[m\u001b[K\r\n",
      "/usr/local/lib/python3.10/dist-packages/Cython/Compiler/Main.py:381: FutureWarning: Cython directive 'language_level' not set, using '3str' for now (Py3). This has changed from earlier releases! File: /kaggle/working/RECsys_Challenge2024/Recommenders/FeatureWeighting/Cython/CFW_DVV_Similarity_Cython_SGD.pyx\r\n",
      "  tree = Parsing.p_module(s, pxd, full_module_name)\r\n",
      "Compiling [10/11]: CFW_DVV_Similarity_Cython_SGD.pyx... PASS\r\n",
      "\r\n",
      "Compiling [11/11]: DataIterator.pyx... \r\n",
      "In file included from \u001b[01m\u001b[K/usr/local/lib/python3.10/dist-packages/numpy/core/include/numpy/ndarraytypes.h:1929\u001b[m\u001b[K,\r\n",
      "                 from \u001b[01m\u001b[K/usr/local/lib/python3.10/dist-packages/numpy/core/include/numpy/ndarrayobject.h:12\u001b[m\u001b[K,\r\n",
      "                 from \u001b[01m\u001b[K/usr/local/lib/python3.10/dist-packages/numpy/core/include/numpy/arrayobject.h:5\u001b[m\u001b[K,\r\n",
      "                 from \u001b[01m\u001b[KDataIterator.c:1252\u001b[m\u001b[K:\r\n",
      "\u001b[01m\u001b[K/usr/local/lib/python3.10/dist-packages/numpy/core/include/numpy/npy_1_7_deprecated_api.h:17:2:\u001b[m\u001b[K \u001b[01;35m\u001b[Kwarning: \u001b[m\u001b[K#warning \"Using deprecated NumPy API, disable it with \" \"#define NPY_NO_DEPRECATED_API NPY_1_7_API_VERSION\" [\u001b[01;35m\u001b[K\u001b]8;;https://gcc.gnu.org/onlinedocs/gcc/Warning-Options.html#index-Wcpp\u0007-Wcpp\u001b]8;;\u0007\u001b[m\u001b[K]\r\n",
      "   17 | #\u001b[01;35m\u001b[Kwarning\u001b[m\u001b[K \"Using deprecated NumPy API, disable it with \" \\\r\n",
      "      |  \u001b[01;35m\u001b[K^~~~~~~\u001b[m\u001b[K\r\n",
      "\u001b[01m\u001b[KDataIterator.c:\u001b[m\u001b[K In function ‘\u001b[01m\u001b[K__pyx_pf_12DataIterator_19InteractionIterator_6__next__\u001b[m\u001b[K’:\r\n",
      "\u001b[01m\u001b[KDataIterator.c:20937:22:\u001b[m\u001b[K \u001b[01;35m\u001b[Kwarning: \u001b[m\u001b[K‘\u001b[01m\u001b[K__pyx_v_i_batch\u001b[m\u001b[K’ may be used uninitialized in this function [\u001b[01;35m\u001b[K\u001b]8;;https://gcc.gnu.org/onlinedocs/gcc/Warning-Options.html#index-Wmaybe-uninitialized\u0007-Wmaybe-uninitialized\u001b]8;;\u0007\u001b[m\u001b[K]\r\n",
      "20937 |     (__pyx_v_i_batch \u001b[01;35m\u001b[K+\u001b[m\u001b[K 1),\r\n",
      "      |                      \u001b[01;35m\u001b[K^\u001b[m\u001b[K\r\n",
      "\u001b[01m\u001b[KDataIterator.c:\u001b[m\u001b[K In function ‘\u001b[01m\u001b[K__pyx_pf_12DataIterator_30InteractionAndNegativeIterator_6__next__\u001b[m\u001b[K’:\r\n",
      "\u001b[01m\u001b[KDataIterator.c:25499:22:\u001b[m\u001b[K \u001b[01;35m\u001b[Kwarning: \u001b[m\u001b[K‘\u001b[01m\u001b[K__pyx_v_i_batch\u001b[m\u001b[K’ may be used uninitialized in this function [\u001b[01;35m\u001b[K\u001b]8;;https://gcc.gnu.org/onlinedocs/gcc/Warning-Options.html#index-Wmaybe-uninitialized\u0007-Wmaybe-uninitialized\u001b]8;;\u0007\u001b[m\u001b[K]\r\n",
      "25499 |     (__pyx_v_i_batch \u001b[01;35m\u001b[K+\u001b[m\u001b[K 1),\r\n",
      "      |                      \u001b[01;35m\u001b[K^\u001b[m\u001b[K\r\n",
      "\u001b[01m\u001b[KDataIterator.c:\u001b[m\u001b[K In function ‘\u001b[01m\u001b[K__pyx_pf_12DataIterator_11BPRIterator_6__next__\u001b[m\u001b[K’:\r\n",
      "\u001b[01m\u001b[KDataIterator.c:23056:22:\u001b[m\u001b[K \u001b[01;35m\u001b[Kwarning: \u001b[m\u001b[K‘\u001b[01m\u001b[K__pyx_v_i_batch\u001b[m\u001b[K’ may be used uninitialized in this function [\u001b[01;35m\u001b[K\u001b]8;;https://gcc.gnu.org/onlinedocs/gcc/Warning-Options.html#index-Wmaybe-uninitialized\u0007-Wmaybe-uninitialized\u001b]8;;\u0007\u001b[m\u001b[K]\r\n",
      "23056 |     (__pyx_v_i_batch \u001b[01;35m\u001b[K+\u001b[m\u001b[K 1),\r\n",
      "      |                      \u001b[01;35m\u001b[K^\u001b[m\u001b[K\r\n",
      "/usr/local/lib/python3.10/dist-packages/Cython/Compiler/Main.py:381: FutureWarning: Cython directive 'language_level' not set, using '3str' for now (Py3). This has changed from earlier releases! File: /kaggle/working/RECsys_Challenge2024/Utils/PyTorch/Cython/DataIterator.pyx\r\n",
      "  tree = Parsing.p_module(s, pxd, full_module_name)\r\n",
      "Compiling [11/11]: DataIterator.pyx... PASS\r\n",
      "\r\n",
      "run_compile_all_cython: Compilation finished. FAILS 2/11.\r\n",
      "Compilation log can be found here: './result_experiments/run_compile_all_cython.txt'\r\n"
     ]
    }
   ],
   "source": [
    "%cd /kaggle/working/RECsys_Challenge2024\n",
    "! python run_compile_all_cython.py"
   ]
  },
  {
   "cell_type": "code",
   "execution_count": 6,
   "id": "d8ed8fb6",
   "metadata": {
    "execution": {
     "iopub.execute_input": "2024-12-30T19:58:50.770555Z",
     "iopub.status.busy": "2024-12-30T19:58:50.770021Z",
     "iopub.status.idle": "2024-12-30T19:58:53.859738Z",
     "shell.execute_reply": "2024-12-30T19:58:53.858313Z"
    },
    "papermill": {
     "duration": 3.110163,
     "end_time": "2024-12-30T19:58:53.861919",
     "exception": false,
     "start_time": "2024-12-30T19:58:50.751756",
     "status": "completed"
    },
    "tags": []
   },
   "outputs": [],
   "source": [
    "from Utils.notebookFunctions import *\n",
    "from Utils.xgboost_functions import *\n",
    "import numpy as np\n",
    "import pandas as pd\n",
    "import scipy.sparse as sps\n",
    "import time\n",
    "import shutil\n",
    "import optuna\n",
    "import json\n",
    "import os\n",
    "from Utils.seconds_to_biggest_unit import seconds_to_biggest_unit\n",
    "from tqdm import tqdm\n",
    "from xgboost import XGBRanker\n",
    "\n",
    "%matplotlib inline\n",
    "from xgboost import plot_importance\n",
    "\n",
    "K_PATH = '/kaggle/working/RECsys_Challenge2024'\n",
    "GH_PATH = 'TrainedModels/WithoutKFCV'\n",
    "D_PATH = 'XGBoost'\n",
    "\n",
    "np.random.seed(42)"
   ]
  },
  {
   "cell_type": "code",
   "execution_count": 7,
   "id": "713c036b",
   "metadata": {
    "execution": {
     "iopub.execute_input": "2024-12-30T19:58:53.898462Z",
     "iopub.status.busy": "2024-12-30T19:58:53.897796Z",
     "iopub.status.idle": "2024-12-30T19:58:58.838928Z",
     "shell.execute_reply": "2024-12-30T19:58:58.837821Z"
    },
    "papermill": {
     "duration": 4.961971,
     "end_time": "2024-12-30T19:58:58.841320",
     "exception": false,
     "start_time": "2024-12-30T19:58:53.879349",
     "status": "completed"
    },
    "tags": []
   },
   "outputs": [],
   "source": [
    "from Recommenders.GraphBased.RP3betaRecommender import RP3betaRecommender\n",
    "from Recommenders.GraphBased.P3alphaRecommender import P3alphaRecommender\n",
    "from Recommenders.KNN.ItemKNNCFRecommender import ItemKNNCFRecommender\n",
    "from Recommenders.KNN.ItemKNNCBFRecommender import ItemKNNCBFRecommender\n",
    "from Recommenders.KNN.UserKNNCFRecommender import UserKNNCFRecommender\n",
    "from Recommenders.MatrixFactorization.FasterIALSRecommender import FasterIALSRecommender\n",
    "from Recommenders.MatrixFactorization.NMFRecommender import NMFRecommender\n",
    "from Recommenders.MatrixFactorization.PureSVDRecommender import PureSVDItemRecommender\n",
    "from Recommenders.MatrixFactorization.PureSVDRecommender import ScaledPureSVDRecommender\n",
    "from Recommenders.Neural.MultVAE_PyTorch_Recommender import MultVAERecommender_PyTorch_OptimizerMask \n",
    "from Recommenders.SLIM.SLIMElasticNetRecommender import SLIMElasticNetRecommender\n",
    "from Recommenders.SLIM.SLIM_BPR_Python import SLIM_BPR_Python"
   ]
  },
  {
   "cell_type": "markdown",
   "id": "efacb53e",
   "metadata": {
    "papermill": {
     "duration": 0.016634,
     "end_time": "2024-12-30T19:58:58.877007",
     "exception": false,
     "start_time": "2024-12-30T19:58:58.860373",
     "status": "completed"
    },
    "tags": []
   },
   "source": [
    "## Import the repository"
   ]
  },
  {
   "cell_type": "code",
   "execution_count": 8,
   "id": "77a5b3ba",
   "metadata": {
    "execution": {
     "iopub.execute_input": "2024-12-30T19:58:58.912505Z",
     "iopub.status.busy": "2024-12-30T19:58:58.911810Z",
     "iopub.status.idle": "2024-12-30T19:58:59.164001Z",
     "shell.execute_reply": "2024-12-30T19:58:59.162643Z"
    },
    "papermill": {
     "duration": 0.272627,
     "end_time": "2024-12-30T19:58:59.166280",
     "exception": false,
     "start_time": "2024-12-30T19:58:58.893653",
     "status": "completed"
    },
    "tags": []
   },
   "outputs": [
    {
     "name": "stdout",
     "output_type": "stream",
     "text": [
      "Repository 'RECsys_Challenge2024' found.\n"
     ]
    }
   ],
   "source": [
    "repo = get_repo_from_github(token)"
   ]
  },
  {
   "cell_type": "code",
   "execution_count": 9,
   "id": "5fe953fb",
   "metadata": {
    "execution": {
     "iopub.execute_input": "2024-12-30T19:58:59.203156Z",
     "iopub.status.busy": "2024-12-30T19:58:59.202669Z",
     "iopub.status.idle": "2024-12-30T19:58:59.207691Z",
     "shell.execute_reply": "2024-12-30T19:58:59.206546Z"
    },
    "papermill": {
     "duration": 0.02526,
     "end_time": "2024-12-30T19:58:59.209454",
     "exception": false,
     "start_time": "2024-12-30T19:58:59.184194",
     "status": "completed"
    },
    "tags": []
   },
   "outputs": [],
   "source": [
    "config = {\n",
    "    'model': 'SimpleXGBoostNoCont',\n",
    "    'metric': 'MAP',\n",
    "    'categorical': True,\n",
    "    'contents': False,\n",
    "    'tune_parameters': False,\n",
    "    'database_path': '/kaggle/working/history_SimpleXGBoostNoCont_MAP.db',\n",
    "    'copy_prev_best_params': False,\n",
    "    'tune_best_params': True,\n",
    "    'save_github': True\n",
    "}"
   ]
  },
  {
   "cell_type": "markdown",
   "id": "c7e8633c",
   "metadata": {
    "papermill": {
     "duration": 0.017278,
     "end_time": "2024-12-30T19:58:59.244168",
     "exception": false,
     "start_time": "2024-12-30T19:58:59.226890",
     "status": "completed"
    },
    "tags": []
   },
   "source": [
    "Import the database where previous tuning trials have been saved."
   ]
  },
  {
   "cell_type": "code",
   "execution_count": 10,
   "id": "64ab5ab7",
   "metadata": {
    "execution": {
     "iopub.execute_input": "2024-12-30T19:58:59.288519Z",
     "iopub.status.busy": "2024-12-30T19:58:59.287875Z",
     "iopub.status.idle": "2024-12-30T19:58:59.295054Z",
     "shell.execute_reply": "2024-12-30T19:58:59.293804Z"
    },
    "papermill": {
     "duration": 0.03626,
     "end_time": "2024-12-30T19:58:59.297517",
     "exception": false,
     "start_time": "2024-12-30T19:58:59.261257",
     "status": "completed"
    },
    "tags": []
   },
   "outputs": [],
   "source": [
    "try:\n",
    "    shutil.copyfile(\n",
    "        f'{K_PATH}/{GH_PATH}/{D_PATH}/{config[\"model\"]}Recommender/Optimizing{config[\"metric\"]}/history_{config[\"model\"]}_{config[\"metric\"]}.db', \n",
    "        config['database_path']\n",
    "    )\n",
    "except FileNotFoundError:\n",
    "    pass # if not present optuna will create it"
   ]
  },
  {
   "cell_type": "markdown",
   "id": "fca36a4d",
   "metadata": {
    "papermill": {
     "duration": 0.019229,
     "end_time": "2024-12-30T19:58:59.352395",
     "exception": false,
     "start_time": "2024-12-30T19:58:59.333166",
     "status": "completed"
    },
    "tags": []
   },
   "source": [
    "# Construction of URM and ICM matrices"
   ]
  },
  {
   "cell_type": "code",
   "execution_count": 11,
   "id": "6b9444fe",
   "metadata": {
    "execution": {
     "iopub.execute_input": "2024-12-30T19:58:59.397702Z",
     "iopub.status.busy": "2024-12-30T19:58:59.397205Z",
     "iopub.status.idle": "2024-12-30T19:59:00.347280Z",
     "shell.execute_reply": "2024-12-30T19:59:00.346073Z"
    },
    "papermill": {
     "duration": 0.970909,
     "end_time": "2024-12-30T19:59:00.349379",
     "exception": false,
     "start_time": "2024-12-30T19:58:59.378470",
     "status": "completed"
    },
    "tags": []
   },
   "outputs": [
    {
     "data": {
      "text/plain": [
       "<35736x38121 sparse matrix of type '<class 'numpy.float64'>'\n",
       "\twith 1764607 stored elements in Compressed Sparse Row format>"
      ]
     },
     "execution_count": 11,
     "metadata": {},
     "output_type": "execute_result"
    }
   ],
   "source": [
    "URM_all_dataframe = pd.read_csv(\"/kaggle/input/recommender-system-2024-challenge-polimi/data_train.csv\")\n",
    "\n",
    "n_users = len(URM_all_dataframe[\"user_id\"].unique())\n",
    "n_items = len(URM_all_dataframe[\"item_id\"].unique())\n",
    "\n",
    "URM_all = sps.csr_matrix((URM_all_dataframe[\"data\"].values, \n",
    "                          (URM_all_dataframe[\"user_id\"].values, URM_all_dataframe[\"item_id\"].values)),\n",
    "                        shape = (n_users, n_items))\n",
    "\n",
    "URM_all"
   ]
  },
  {
   "cell_type": "code",
   "execution_count": 12,
   "id": "efc5d481",
   "metadata": {
    "execution": {
     "iopub.execute_input": "2024-12-30T19:59:00.386320Z",
     "iopub.status.busy": "2024-12-30T19:59:00.385871Z",
     "iopub.status.idle": "2024-12-30T19:59:01.753290Z",
     "shell.execute_reply": "2024-12-30T19:59:01.752029Z"
    },
    "papermill": {
     "duration": 1.387996,
     "end_time": "2024-12-30T19:59:01.755261",
     "exception": false,
     "start_time": "2024-12-30T19:59:00.367265",
     "status": "completed"
    },
    "tags": []
   },
   "outputs": [
    {
     "data": {
      "text/plain": [
       "<38121x94331 sparse matrix of type '<class 'numpy.float64'>'\n",
       "\twith 2940040 stored elements in Compressed Sparse Row format>"
      ]
     },
     "execution_count": 12,
     "metadata": {},
     "output_type": "execute_result"
    }
   ],
   "source": [
    "ICM_dataframe = pd.read_csv(\"/kaggle/input/recommender-system-2024-challenge-polimi/data_ICM_metadata.csv\")\n",
    "\n",
    "n_items = len(ICM_dataframe[\"item_id\"].unique())\n",
    "n_features = len(ICM_dataframe[\"feature_id\"].unique())\n",
    "\n",
    "ICM_all = sps.csr_matrix((ICM_dataframe[\"data\"].values, \n",
    "                          (ICM_dataframe[\"item_id\"].values, ICM_dataframe[\"feature_id\"].values)),\n",
    "                        shape = (n_items, n_features))\n",
    "\n",
    "ICM_all"
   ]
  },
  {
   "cell_type": "markdown",
   "id": "25dfcfcc",
   "metadata": {
    "papermill": {
     "duration": 0.017759,
     "end_time": "2024-12-30T19:59:01.790682",
     "exception": false,
     "start_time": "2024-12-30T19:59:01.772923",
     "status": "completed"
    },
    "tags": []
   },
   "source": [
    "# Training\n",
    "Split the dataset in train, validation and test set."
   ]
  },
  {
   "cell_type": "code",
   "execution_count": 13,
   "id": "4a869ff2",
   "metadata": {
    "execution": {
     "iopub.execute_input": "2024-12-30T19:59:01.827188Z",
     "iopub.status.busy": "2024-12-30T19:59:01.826704Z",
     "iopub.status.idle": "2024-12-30T19:59:07.456064Z",
     "shell.execute_reply": "2024-12-30T19:59:07.454653Z"
    },
    "papermill": {
     "duration": 5.649995,
     "end_time": "2024-12-30T19:59:07.458272",
     "exception": false,
     "start_time": "2024-12-30T19:59:01.808277",
     "status": "completed"
    },
    "tags": []
   },
   "outputs": [
    {
     "name": "stdout",
     "output_type": "stream",
     "text": [
      "Warning: 141 (0.39 %) of 35736 users have no sampled items\n",
      "Warning: 391 (1.09 %) of 35736 users have no sampled items\n",
      "EvaluatorHoldout: Ignoring 141 ( 0.4%) Users that have less than 1 test interactions\n"
     ]
    }
   ],
   "source": [
    "from Evaluation.Evaluator import EvaluatorHoldout\n",
    "from Data_manager.split_functions.split_train_validation_random_holdout import split_train_in_two_percentage_global_sample\n",
    "\n",
    "URM_train, URM_test = split_train_in_two_percentage_global_sample(URM_all, train_percentage = 0.80)\n",
    "URM_train, URM_validation = split_train_in_two_percentage_global_sample(URM_train, train_percentage = 0.80)\n",
    "\n",
    "evaluator_test = EvaluatorHoldout(URM_test, cutoff_list=[10])"
   ]
  },
  {
   "cell_type": "markdown",
   "id": "8d44cb56",
   "metadata": {
    "papermill": {
     "duration": 0.018403,
     "end_time": "2024-12-30T19:59:07.494959",
     "exception": false,
     "start_time": "2024-12-30T19:59:07.476556",
     "status": "completed"
    },
    "tags": []
   },
   "source": [
    "## Candidate Generators\n",
    "\n",
    "Import the best previously trained recommenders to use them as candidate generators."
   ]
  },
  {
   "cell_type": "code",
   "execution_count": 14,
   "id": "03081851",
   "metadata": {
    "execution": {
     "iopub.execute_input": "2024-12-30T19:59:07.532245Z",
     "iopub.status.busy": "2024-12-30T19:59:07.531796Z",
     "iopub.status.idle": "2024-12-30T19:59:07.537520Z",
     "shell.execute_reply": "2024-12-30T19:59:07.536258Z"
    },
    "papermill": {
     "duration": 0.026872,
     "end_time": "2024-12-30T19:59:07.539440",
     "exception": false,
     "start_time": "2024-12-30T19:59:07.512568",
     "status": "completed"
    },
    "tags": []
   },
   "outputs": [],
   "source": [
    "cg_recommenders = {\n",
    "    \"RP3beta\": RP3betaRecommender,\n",
    "    \"ItemKNNCF\": ItemKNNCFRecommender,\n",
    "    \"SLIMElasticNet\": SLIMElasticNetRecommender\n",
    "}\n",
    "\n",
    "if config[\"tune_parameters\"]:\n",
    "    print(\"***TRAINING CONTENT GENERATION RECOMMENDERS***\\n\")\n",
    "    candidate_generator_recommenders = fit_recommenders(\"Recall\", \"Train\", URM_train, ICM_all, cg_recommenders, GH_PATH, \"cg\", repo)"
   ]
  },
  {
   "cell_type": "markdown",
   "id": "c34d8e00",
   "metadata": {
    "papermill": {
     "duration": 0.017586,
     "end_time": "2024-12-30T19:59:07.575840",
     "exception": false,
     "start_time": "2024-12-30T19:59:07.558254",
     "status": "completed"
    },
    "tags": []
   },
   "source": [
    "## Features\n",
    "Import the other previously trained recommenders to use them as features."
   ]
  },
  {
   "cell_type": "code",
   "execution_count": 15,
   "id": "cd3feb30",
   "metadata": {
    "execution": {
     "iopub.execute_input": "2024-12-30T19:59:07.613627Z",
     "iopub.status.busy": "2024-12-30T19:59:07.613126Z",
     "iopub.status.idle": "2024-12-30T19:59:07.618977Z",
     "shell.execute_reply": "2024-12-30T19:59:07.617864Z"
    },
    "papermill": {
     "duration": 0.026922,
     "end_time": "2024-12-30T19:59:07.620892",
     "exception": false,
     "start_time": "2024-12-30T19:59:07.593970",
     "status": "completed"
    },
    "tags": []
   },
   "outputs": [],
   "source": [
    "f_recommenders = {\n",
    "    \"RP3beta\": RP3betaRecommender,\n",
    "    # \"P3alpha\": P3alphaRecommender,\n",
    "    \"ItemKNNCF\": ItemKNNCFRecommender,\n",
    "    \"ItemKNNCBF\": ItemKNNCBFRecommender,\n",
    "    # \"UserKNNCF\": UserKNNCFRecommender,\n",
    "    \"FasterIALS\": FasterIALSRecommender,\n",
    "    # \"NMF\": NMFRecommender,\n",
    "    \"PureSVDItem\": PureSVDItemRecommender,\n",
    "    # \"ScaledPureSVD\": ScaledPureSVDRecommender,\n",
    "    \"MultVAE\": MultVAERecommender_PyTorch_OptimizerMask,\n",
    "    \"SLIMElasticNet\": SLIMElasticNetRecommender,\n",
    "    # \"SLIM_BPR\": SLIM_BPR_Python,\n",
    "}\n",
    "\n",
    "if config[\"tune_parameters\"]:\n",
    "    print(\"***TRAINING FEATURE RECOMMENDERS***\\n\")\n",
    "    features_recommenders = fit_recommenders(\"MAP\", \"Train\", URM_train, ICM_all, f_recommenders, GH_PATH, \"f\", repo)"
   ]
  },
  {
   "cell_type": "markdown",
   "id": "4e43f889",
   "metadata": {
    "papermill": {
     "duration": 0.017997,
     "end_time": "2024-12-30T19:59:07.657621",
     "exception": false,
     "start_time": "2024-12-30T19:59:07.639624",
     "status": "completed"
    },
    "tags": []
   },
   "source": [
    "## Training dataframe building\n",
    "Build the dataframe with the predictions, the popularity of the item, the user activity, the profile length and item features.\n",
    "\n",
    "Then, set features and target to use for the training."
   ]
  },
  {
   "cell_type": "code",
   "execution_count": 16,
   "id": "599d1bf6",
   "metadata": {
    "execution": {
     "iopub.execute_input": "2024-12-30T19:59:07.695204Z",
     "iopub.status.busy": "2024-12-30T19:59:07.694794Z",
     "iopub.status.idle": "2024-12-30T19:59:07.700436Z",
     "shell.execute_reply": "2024-12-30T19:59:07.699440Z"
    },
    "papermill": {
     "duration": 0.026481,
     "end_time": "2024-12-30T19:59:07.702038",
     "exception": false,
     "start_time": "2024-12-30T19:59:07.675557",
     "status": "completed"
    },
    "tags": []
   },
   "outputs": [],
   "source": [
    "if config[\"tune_parameters\"]:\n",
    "    training_dataframe, groups_train = create_XGBoost_dataframe(URM_train, candidate_generator_recommenders, features_recommenders, ICM_all, URM_validation, cutoff=50, categorical=config[\"categorical\"], contents=config[\"contents\"])\n",
    "    display(training_dataframe)\n",
    "    print(\"-\" * 40)\n",
    "    display(groups_train)\n",
    "\n",
    "    del candidate_generator_recommenders\n",
    "    del features_recommenders\n",
    "\n",
    "    # Extract labels and features\n",
    "    y_train = training_dataframe[\"Label\"]\n",
    "    X_train = training_dataframe.drop(columns=[\"Label\"])"
   ]
  },
  {
   "cell_type": "markdown",
   "id": "a7c1f5bf",
   "metadata": {
    "papermill": {
     "duration": 0.018209,
     "end_time": "2024-12-30T19:59:07.738516",
     "exception": false,
     "start_time": "2024-12-30T19:59:07.720307",
     "status": "completed"
    },
    "tags": []
   },
   "source": [
    "## XGBoost training\n",
    "Let's train XGBoost to rerank those prediction using as lable whether they should be recommended or not."
   ]
  },
  {
   "cell_type": "code",
   "execution_count": 17,
   "id": "ffce5bd2",
   "metadata": {
    "execution": {
     "iopub.execute_input": "2024-12-30T19:59:07.776063Z",
     "iopub.status.busy": "2024-12-30T19:59:07.775581Z",
     "iopub.status.idle": "2024-12-30T19:59:07.785886Z",
     "shell.execute_reply": "2024-12-30T19:59:07.784591Z"
    },
    "papermill": {
     "duration": 0.031792,
     "end_time": "2024-12-30T19:59:07.788032",
     "exception": false,
     "start_time": "2024-12-30T19:59:07.756240",
     "status": "completed"
    },
    "tags": []
   },
   "outputs": [],
   "source": [
    "from Recommenders.XGBoost.XGBoostRankerRecommender import XGBoostRankerRecommender\n",
    "\n",
    "def objective_function_XGBoostRanker(optuna_trial):\n",
    "    \n",
    "    recommender_instance = XGBoostRankerRecommender(URM_train, training_dataframe)\n",
    "\n",
    "    full_hyperp = {\n",
    "            \"n_estimators\": optuna_trial.suggest_int(\"n_estimators\", 50, 500),\n",
    "            \"learning_rate\": optuna_trial.suggest_float(\"learning_rate\", 1e-4, 0.3, log=True),\n",
    "            \"reg_alpha\": optuna_trial.suggest_float(\"reg_alpha\", 1e-4, 1.0, log=True),\n",
    "            \"reg_lambda\": optuna_trial.suggest_float(\"reg_lambda\", 1e-4, 1.0, log=True),\n",
    "            \"max_depth\": optuna_trial.suggest_int(\"max_depth\", 3, 12),\n",
    "            \"max_leaves\": optuna_trial.suggest_int(\"max_leaves\", 2, 256),\n",
    "            \"grow_policy\": optuna_trial.suggest_categorical(\"grow_policy\", [\"depthwise\", \"lossguide\"]),\n",
    "            \"booster\": optuna_trial.suggest_categorical(\"booster\", [\"gbtree\", \"dart\"]),\n",
    "            # \"tree_method\": optuna_trial.suggest_categorical(\"tree_method\", [\"hist\", \"gpu_hist\", \"approx\"]),\n",
    "            \"tree_method\": \"hist\",\n",
    "            \"objective\": optuna_trial.suggest_categorical(\"objective\", [\"map\", \"pairwise\", \"ndcg\"])\n",
    "        }\n",
    "\n",
    "    recommender_instance.fit(\n",
    "        X_train,\n",
    "        y_train,\n",
    "        groups_train,\n",
    "        **full_hyperp\n",
    "    )\n",
    "\n",
    "    result_df, _ = evaluator_test.evaluateRecommender(recommender_instance)\n",
    "    \n",
    "    return result_df.loc[10][\"MAP\"]"
   ]
  },
  {
   "cell_type": "code",
   "execution_count": 18,
   "id": "36ebe7bb",
   "metadata": {
    "execution": {
     "iopub.execute_input": "2024-12-30T19:59:07.826438Z",
     "iopub.status.busy": "2024-12-30T19:59:07.826000Z",
     "iopub.status.idle": "2024-12-30T19:59:07.831354Z",
     "shell.execute_reply": "2024-12-30T19:59:07.830155Z"
    },
    "papermill": {
     "duration": 0.026463,
     "end_time": "2024-12-30T19:59:07.833076",
     "exception": false,
     "start_time": "2024-12-30T19:59:07.806613",
     "status": "completed"
    },
    "tags": []
   },
   "outputs": [],
   "source": [
    "if config['tune_parameters']:\n",
    "    \n",
    "    optuna_study = optuna.create_study(direction='maximize', study_name=f'hyperparameters_tuning_{config[\"model\"]}_{config[\"metric\"]}',\n",
    "                                storage=f'sqlite:///{config[\"database_path\"]}', load_if_exists=True)\n",
    "\n",
    "    optuna_study.optimize(objective_function_XGBoostRanker, n_trials=10)"
   ]
  },
  {
   "cell_type": "markdown",
   "id": "cc38fbb3",
   "metadata": {
    "papermill": {
     "duration": 0.017494,
     "end_time": "2024-12-30T19:59:07.868735",
     "exception": false,
     "start_time": "2024-12-30T19:59:07.851241",
     "status": "completed"
    },
    "tags": []
   },
   "source": [
    "### Some optuna visualizations on recommender parameters"
   ]
  },
  {
   "cell_type": "code",
   "execution_count": 19,
   "id": "22c714c7",
   "metadata": {
    "execution": {
     "iopub.execute_input": "2024-12-30T19:59:07.909005Z",
     "iopub.status.busy": "2024-12-30T19:59:07.908557Z",
     "iopub.status.idle": "2024-12-30T19:59:10.192481Z",
     "shell.execute_reply": "2024-12-30T19:59:10.191243Z"
    },
    "papermill": {
     "duration": 2.305251,
     "end_time": "2024-12-30T19:59:10.194378",
     "exception": false,
     "start_time": "2024-12-30T19:59:07.889127",
     "status": "completed"
    },
    "tags": []
   },
   "outputs": [
    {
     "data": {
      "text/html": [
       "<html>\n",
       "<head><meta charset=\"utf-8\" /></head>\n",
       "<body>\n",
       "    <div>            <script src=\"https://cdnjs.cloudflare.com/ajax/libs/mathjax/2.7.5/MathJax.js?config=TeX-AMS-MML_SVG\"></script><script type=\"text/javascript\">if (window.MathJax && window.MathJax.Hub && window.MathJax.Hub.Config) {window.MathJax.Hub.Config({SVG: {font: \"STIX-Web\"}});}</script>                <script type=\"text/javascript\">window.PlotlyConfig = {MathJaxConfig: 'local'};</script>\n",
       "        <script charset=\"utf-8\" src=\"https://cdn.plot.ly/plotly-2.35.2.min.js\"></script>                <div id=\"a570fefa-93ae-4fe1-9235-585e15e3b618\" class=\"plotly-graph-div\" style=\"height:525px; width:2700px;\"></div>            <script type=\"text/javascript\">                                    window.PLOTLYENV=window.PLOTLYENV || {};                                    if (document.getElementById(\"a570fefa-93ae-4fe1-9235-585e15e3b618\")) {                    Plotly.newPlot(                        \"a570fefa-93ae-4fe1-9235-585e15e3b618\",                        [{\"marker\":{\"color\":[0,1,2,3,4,5,6,7,8,9,10,11,12,13,14,15,16,17,18],\"colorbar\":{\"title\":{\"text\":\"Trial\"},\"x\":1.0,\"xpad\":40},\"colorscale\":[[0.0,\"rgb(247,251,255)\"],[0.125,\"rgb(222,235,247)\"],[0.25,\"rgb(198,219,239)\"],[0.375,\"rgb(158,202,225)\"],[0.5,\"rgb(107,174,214)\"],[0.625,\"rgb(66,146,198)\"],[0.75,\"rgb(33,113,181)\"],[0.875,\"rgb(8,81,156)\"],[1.0,\"rgb(8,48,107)\"]],\"line\":{\"color\":\"Grey\",\"width\":0.5},\"showscale\":true},\"mode\":\"markers\",\"name\":\"Feasible Trial\",\"showlegend\":false,\"x\":[\"dart\",\"dart\",\"gbtree\",\"gbtree\",\"gbtree\",\"dart\",\"gbtree\",\"gbtree\",\"gbtree\",\"gbtree\",\"dart\",\"gbtree\",\"gbtree\",\"dart\",\"dart\",\"dart\",\"dart\",\"dart\",\"dart\"],\"y\":[0.031954227118574714,0.03948647371108265,0.03745563961408741,0.03187514966655156,0.03783143588474271,0.04346428292719768,0.04288577515568518,0.03988007723574358,0.035461977449123064,0.04099703565464058,0.03921020541943277,0.042159315446924764,0.0322244886810824,0.04136019638927185,0.040809725594595496,0.04275127146892712,0.04258241861149436,0.04330807563930067,0.04176266730880998],\"type\":\"scatter\",\"xaxis\":\"x\",\"yaxis\":\"y\"},{\"marker\":{\"color\":[0,1,2,3,4,5,6,7,8,9,10,11,12,13,14,15,16,17,18],\"colorbar\":{\"title\":{\"text\":\"Trial\"},\"x\":1.0,\"xpad\":40},\"colorscale\":[[0.0,\"rgb(247,251,255)\"],[0.125,\"rgb(222,235,247)\"],[0.25,\"rgb(198,219,239)\"],[0.375,\"rgb(158,202,225)\"],[0.5,\"rgb(107,174,214)\"],[0.625,\"rgb(66,146,198)\"],[0.75,\"rgb(33,113,181)\"],[0.875,\"rgb(8,81,156)\"],[1.0,\"rgb(8,48,107)\"]],\"line\":{\"color\":\"Grey\",\"width\":0.5},\"showscale\":false},\"mode\":\"markers\",\"name\":\"Feasible Trial\",\"showlegend\":false,\"x\":[\"lossguide\",\"lossguide\",\"lossguide\",\"depthwise\",\"lossguide\",\"depthwise\",\"depthwise\",\"depthwise\",\"lossguide\",\"depthwise\",\"depthwise\",\"depthwise\",\"depthwise\",\"depthwise\",\"depthwise\",\"depthwise\",\"depthwise\",\"depthwise\",\"depthwise\"],\"y\":[0.031954227118574714,0.03948647371108265,0.03745563961408741,0.03187514966655156,0.03783143588474271,0.04346428292719768,0.04288577515568518,0.03988007723574358,0.035461977449123064,0.04099703565464058,0.03921020541943277,0.042159315446924764,0.0322244886810824,0.04136019638927185,0.040809725594595496,0.04275127146892712,0.04258241861149436,0.04330807563930067,0.04176266730880998],\"type\":\"scatter\",\"xaxis\":\"x2\",\"yaxis\":\"y2\"},{\"marker\":{\"color\":[0,1,2,3,4,5,6,7,8,9,10,11,12,13,14,15,16,17,18],\"colorbar\":{\"title\":{\"text\":\"Trial\"},\"x\":1.0,\"xpad\":40},\"colorscale\":[[0.0,\"rgb(247,251,255)\"],[0.125,\"rgb(222,235,247)\"],[0.25,\"rgb(198,219,239)\"],[0.375,\"rgb(158,202,225)\"],[0.5,\"rgb(107,174,214)\"],[0.625,\"rgb(66,146,198)\"],[0.75,\"rgb(33,113,181)\"],[0.875,\"rgb(8,81,156)\"],[1.0,\"rgb(8,48,107)\"]],\"line\":{\"color\":\"Grey\",\"width\":0.5},\"showscale\":false},\"mode\":\"markers\",\"name\":\"Feasible Trial\",\"showlegend\":false,\"x\":[0.09939294930878227,0.26758478677765385,0.0016267231091725777,0.030276753243697985,0.008885138428932975,0.014162022372128404,0.00010232847781131581,0.00017204005377655164,0.06246466497777964,0.13842930953507782,0.0021293293407450018,0.016565116778213408,0.026579258964320035,0.00010095339932527205,0.0006648324904431237,0.0034108864775085675,0.0007015906159424433,0.00863033731840661,0.007548147653724544],\"y\":[0.031954227118574714,0.03948647371108265,0.03745563961408741,0.03187514966655156,0.03783143588474271,0.04346428292719768,0.04288577515568518,0.03988007723574358,0.035461977449123064,0.04099703565464058,0.03921020541943277,0.042159315446924764,0.0322244886810824,0.04136019638927185,0.040809725594595496,0.04275127146892712,0.04258241861149436,0.04330807563930067,0.04176266730880998],\"type\":\"scatter\",\"xaxis\":\"x3\",\"yaxis\":\"y3\"},{\"marker\":{\"color\":[0,1,2,3,4,5,6,7,8,9,10,11,12,13,14,15,16,17,18],\"colorbar\":{\"title\":{\"text\":\"Trial\"},\"x\":1.0,\"xpad\":40},\"colorscale\":[[0.0,\"rgb(247,251,255)\"],[0.125,\"rgb(222,235,247)\"],[0.25,\"rgb(198,219,239)\"],[0.375,\"rgb(158,202,225)\"],[0.5,\"rgb(107,174,214)\"],[0.625,\"rgb(66,146,198)\"],[0.75,\"rgb(33,113,181)\"],[0.875,\"rgb(8,81,156)\"],[1.0,\"rgb(8,48,107)\"]],\"line\":{\"color\":\"Grey\",\"width\":0.5},\"showscale\":false},\"mode\":\"markers\",\"name\":\"Feasible Trial\",\"showlegend\":false,\"x\":[9,4,10,11,9,3,3,7,9,3,10,10,11,5,6,3,5,4,5],\"y\":[0.031954227118574714,0.03948647371108265,0.03745563961408741,0.03187514966655156,0.03783143588474271,0.04346428292719768,0.04288577515568518,0.03988007723574358,0.035461977449123064,0.04099703565464058,0.03921020541943277,0.042159315446924764,0.0322244886810824,0.04136019638927185,0.040809725594595496,0.04275127146892712,0.04258241861149436,0.04330807563930067,0.04176266730880998],\"type\":\"scatter\",\"xaxis\":\"x4\",\"yaxis\":\"y4\"},{\"marker\":{\"color\":[0,1,2,3,4,5,6,7,8,9,10,11,12,13,14,15,16,17,18],\"colorbar\":{\"title\":{\"text\":\"Trial\"},\"x\":1.0,\"xpad\":40},\"colorscale\":[[0.0,\"rgb(247,251,255)\"],[0.125,\"rgb(222,235,247)\"],[0.25,\"rgb(198,219,239)\"],[0.375,\"rgb(158,202,225)\"],[0.5,\"rgb(107,174,214)\"],[0.625,\"rgb(66,146,198)\"],[0.75,\"rgb(33,113,181)\"],[0.875,\"rgb(8,81,156)\"],[1.0,\"rgb(8,48,107)\"]],\"line\":{\"color\":\"Grey\",\"width\":0.5},\"showscale\":false},\"mode\":\"markers\",\"name\":\"Feasible Trial\",\"showlegend\":false,\"x\":[231,192,67,108,54,130,40,185,159,32,116,17,254,78,155,94,149,5,133],\"y\":[0.031954227118574714,0.03948647371108265,0.03745563961408741,0.03187514966655156,0.03783143588474271,0.04346428292719768,0.04288577515568518,0.03988007723574358,0.035461977449123064,0.04099703565464058,0.03921020541943277,0.042159315446924764,0.0322244886810824,0.04136019638927185,0.040809725594595496,0.04275127146892712,0.04258241861149436,0.04330807563930067,0.04176266730880998],\"type\":\"scatter\",\"xaxis\":\"x5\",\"yaxis\":\"y5\"},{\"marker\":{\"color\":[0,1,2,3,4,5,6,7,8,9,10,11,12,13,14,15,16,17,18],\"colorbar\":{\"title\":{\"text\":\"Trial\"},\"x\":1.0,\"xpad\":40},\"colorscale\":[[0.0,\"rgb(247,251,255)\"],[0.125,\"rgb(222,235,247)\"],[0.25,\"rgb(198,219,239)\"],[0.375,\"rgb(158,202,225)\"],[0.5,\"rgb(107,174,214)\"],[0.625,\"rgb(66,146,198)\"],[0.75,\"rgb(33,113,181)\"],[0.875,\"rgb(8,81,156)\"],[1.0,\"rgb(8,48,107)\"]],\"line\":{\"color\":\"Grey\",\"width\":0.5},\"showscale\":false},\"mode\":\"markers\",\"name\":\"Feasible Trial\",\"showlegend\":false,\"x\":[237,222,428,254,131,93,181,242,191,312,211,142,172,52,55,331,136,90,95],\"y\":[0.031954227118574714,0.03948647371108265,0.03745563961408741,0.03187514966655156,0.03783143588474271,0.04346428292719768,0.04288577515568518,0.03988007723574358,0.035461977449123064,0.04099703565464058,0.03921020541943277,0.042159315446924764,0.0322244886810824,0.04136019638927185,0.040809725594595496,0.04275127146892712,0.04258241861149436,0.04330807563930067,0.04176266730880998],\"type\":\"scatter\",\"xaxis\":\"x6\",\"yaxis\":\"y6\"},{\"marker\":{\"color\":[0,1,2,3,4,5,6,7,8,9,10,11,12,13,14,15,16,17,18],\"colorbar\":{\"title\":{\"text\":\"Trial\"},\"x\":1.0,\"xpad\":40},\"colorscale\":[[0.0,\"rgb(247,251,255)\"],[0.125,\"rgb(222,235,247)\"],[0.25,\"rgb(198,219,239)\"],[0.375,\"rgb(158,202,225)\"],[0.5,\"rgb(107,174,214)\"],[0.625,\"rgb(66,146,198)\"],[0.75,\"rgb(33,113,181)\"],[0.875,\"rgb(8,81,156)\"],[1.0,\"rgb(8,48,107)\"]],\"line\":{\"color\":\"Grey\",\"width\":0.5},\"showscale\":false},\"mode\":\"markers\",\"name\":\"Feasible Trial\",\"showlegend\":false,\"x\":[\"pairwise\",\"pairwise\",\"map\",\"pairwise\",\"pairwise\",\"map\",\"ndcg\",\"ndcg\",\"map\",\"map\",\"map\",\"pairwise\",\"pairwise\",\"ndcg\",\"ndcg\",\"ndcg\",\"ndcg\",\"map\",\"map\"],\"y\":[0.031954227118574714,0.03948647371108265,0.03745563961408741,0.03187514966655156,0.03783143588474271,0.04346428292719768,0.04288577515568518,0.03988007723574358,0.035461977449123064,0.04099703565464058,0.03921020541943277,0.042159315446924764,0.0322244886810824,0.04136019638927185,0.040809725594595496,0.04275127146892712,0.04258241861149436,0.04330807563930067,0.04176266730880998],\"type\":\"scatter\",\"xaxis\":\"x7\",\"yaxis\":\"y7\"},{\"marker\":{\"color\":[0,1,2,3,4,5,6,7,8,9,10,11,12,13,14,15,16,17,18],\"colorbar\":{\"title\":{\"text\":\"Trial\"},\"x\":1.0,\"xpad\":40},\"colorscale\":[[0.0,\"rgb(247,251,255)\"],[0.125,\"rgb(222,235,247)\"],[0.25,\"rgb(198,219,239)\"],[0.375,\"rgb(158,202,225)\"],[0.5,\"rgb(107,174,214)\"],[0.625,\"rgb(66,146,198)\"],[0.75,\"rgb(33,113,181)\"],[0.875,\"rgb(8,81,156)\"],[1.0,\"rgb(8,48,107)\"]],\"line\":{\"color\":\"Grey\",\"width\":0.5},\"showscale\":false},\"mode\":\"markers\",\"name\":\"Feasible Trial\",\"showlegend\":false,\"x\":[0.0002778346406092002,0.0007861413139681974,0.010987959443986568,0.00034855148315837404,0.0005665360304645941,0.0004217393810310225,0.6889490673469476,0.0005406315079567791,0.0008935491272742499,0.0047976784846268635,0.013512467570383718,0.000668058588850845,0.03743335270553042,0.7928007018769608,0.7335319261621505,0.13405051052284325,0.00012067880377391522,0.0024555856898937417,0.0022159413185017236],\"y\":[0.031954227118574714,0.03948647371108265,0.03745563961408741,0.03187514966655156,0.03783143588474271,0.04346428292719768,0.04288577515568518,0.03988007723574358,0.035461977449123064,0.04099703565464058,0.03921020541943277,0.042159315446924764,0.0322244886810824,0.04136019638927185,0.040809725594595496,0.04275127146892712,0.04258241861149436,0.04330807563930067,0.04176266730880998],\"type\":\"scatter\",\"xaxis\":\"x8\",\"yaxis\":\"y8\"},{\"marker\":{\"color\":[0,1,2,3,4,5,6,7,8,9,10,11,12,13,14,15,16,17,18],\"colorbar\":{\"title\":{\"text\":\"Trial\"},\"x\":1.0,\"xpad\":40},\"colorscale\":[[0.0,\"rgb(247,251,255)\"],[0.125,\"rgb(222,235,247)\"],[0.25,\"rgb(198,219,239)\"],[0.375,\"rgb(158,202,225)\"],[0.5,\"rgb(107,174,214)\"],[0.625,\"rgb(66,146,198)\"],[0.75,\"rgb(33,113,181)\"],[0.875,\"rgb(8,81,156)\"],[1.0,\"rgb(8,48,107)\"]],\"line\":{\"color\":\"Grey\",\"width\":0.5},\"showscale\":false},\"mode\":\"markers\",\"name\":\"Feasible Trial\",\"showlegend\":false,\"x\":[0.32601545766214135,0.006592260369537938,0.026763366418682998,0.5075474358251495,0.008028779674626221,0.013135344040332814,0.00020565777149626348,0.35114114938625635,0.9511495456016006,0.003248881589190326,0.0011814372888325226,0.015849413177970378,0.8777597223202629,0.0001098975119071197,0.00015840928354574166,0.048505658096494084,0.0005120948694607404,0.09265943659017739,0.08396613229283392],\"y\":[0.031954227118574714,0.03948647371108265,0.03745563961408741,0.03187514966655156,0.03783143588474271,0.04346428292719768,0.04288577515568518,0.03988007723574358,0.035461977449123064,0.04099703565464058,0.03921020541943277,0.042159315446924764,0.0322244886810824,0.04136019638927185,0.040809725594595496,0.04275127146892712,0.04258241861149436,0.04330807563930067,0.04176266730880998],\"type\":\"scatter\",\"xaxis\":\"x9\",\"yaxis\":\"y9\"}],                        {\"template\":{\"data\":{\"histogram2dcontour\":[{\"type\":\"histogram2dcontour\",\"colorbar\":{\"outlinewidth\":0,\"ticks\":\"\"},\"colorscale\":[[0.0,\"#0d0887\"],[0.1111111111111111,\"#46039f\"],[0.2222222222222222,\"#7201a8\"],[0.3333333333333333,\"#9c179e\"],[0.4444444444444444,\"#bd3786\"],[0.5555555555555556,\"#d8576b\"],[0.6666666666666666,\"#ed7953\"],[0.7777777777777778,\"#fb9f3a\"],[0.8888888888888888,\"#fdca26\"],[1.0,\"#f0f921\"]]}],\"choropleth\":[{\"type\":\"choropleth\",\"colorbar\":{\"outlinewidth\":0,\"ticks\":\"\"}}],\"histogram2d\":[{\"type\":\"histogram2d\",\"colorbar\":{\"outlinewidth\":0,\"ticks\":\"\"},\"colorscale\":[[0.0,\"#0d0887\"],[0.1111111111111111,\"#46039f\"],[0.2222222222222222,\"#7201a8\"],[0.3333333333333333,\"#9c179e\"],[0.4444444444444444,\"#bd3786\"],[0.5555555555555556,\"#d8576b\"],[0.6666666666666666,\"#ed7953\"],[0.7777777777777778,\"#fb9f3a\"],[0.8888888888888888,\"#fdca26\"],[1.0,\"#f0f921\"]]}],\"heatmap\":[{\"type\":\"heatmap\",\"colorbar\":{\"outlinewidth\":0,\"ticks\":\"\"},\"colorscale\":[[0.0,\"#0d0887\"],[0.1111111111111111,\"#46039f\"],[0.2222222222222222,\"#7201a8\"],[0.3333333333333333,\"#9c179e\"],[0.4444444444444444,\"#bd3786\"],[0.5555555555555556,\"#d8576b\"],[0.6666666666666666,\"#ed7953\"],[0.7777777777777778,\"#fb9f3a\"],[0.8888888888888888,\"#fdca26\"],[1.0,\"#f0f921\"]]}],\"heatmapgl\":[{\"type\":\"heatmapgl\",\"colorbar\":{\"outlinewidth\":0,\"ticks\":\"\"},\"colorscale\":[[0.0,\"#0d0887\"],[0.1111111111111111,\"#46039f\"],[0.2222222222222222,\"#7201a8\"],[0.3333333333333333,\"#9c179e\"],[0.4444444444444444,\"#bd3786\"],[0.5555555555555556,\"#d8576b\"],[0.6666666666666666,\"#ed7953\"],[0.7777777777777778,\"#fb9f3a\"],[0.8888888888888888,\"#fdca26\"],[1.0,\"#f0f921\"]]}],\"contourcarpet\":[{\"type\":\"contourcarpet\",\"colorbar\":{\"outlinewidth\":0,\"ticks\":\"\"}}],\"contour\":[{\"type\":\"contour\",\"colorbar\":{\"outlinewidth\":0,\"ticks\":\"\"},\"colorscale\":[[0.0,\"#0d0887\"],[0.1111111111111111,\"#46039f\"],[0.2222222222222222,\"#7201a8\"],[0.3333333333333333,\"#9c179e\"],[0.4444444444444444,\"#bd3786\"],[0.5555555555555556,\"#d8576b\"],[0.6666666666666666,\"#ed7953\"],[0.7777777777777778,\"#fb9f3a\"],[0.8888888888888888,\"#fdca26\"],[1.0,\"#f0f921\"]]}],\"surface\":[{\"type\":\"surface\",\"colorbar\":{\"outlinewidth\":0,\"ticks\":\"\"},\"colorscale\":[[0.0,\"#0d0887\"],[0.1111111111111111,\"#46039f\"],[0.2222222222222222,\"#7201a8\"],[0.3333333333333333,\"#9c179e\"],[0.4444444444444444,\"#bd3786\"],[0.5555555555555556,\"#d8576b\"],[0.6666666666666666,\"#ed7953\"],[0.7777777777777778,\"#fb9f3a\"],[0.8888888888888888,\"#fdca26\"],[1.0,\"#f0f921\"]]}],\"mesh3d\":[{\"type\":\"mesh3d\",\"colorbar\":{\"outlinewidth\":0,\"ticks\":\"\"}}],\"scatter\":[{\"fillpattern\":{\"fillmode\":\"overlay\",\"size\":10,\"solidity\":0.2},\"type\":\"scatter\"}],\"parcoords\":[{\"type\":\"parcoords\",\"line\":{\"colorbar\":{\"outlinewidth\":0,\"ticks\":\"\"}}}],\"scatterpolargl\":[{\"type\":\"scatterpolargl\",\"marker\":{\"colorbar\":{\"outlinewidth\":0,\"ticks\":\"\"}}}],\"bar\":[{\"error_x\":{\"color\":\"#2a3f5f\"},\"error_y\":{\"color\":\"#2a3f5f\"},\"marker\":{\"line\":{\"color\":\"#E5ECF6\",\"width\":0.5},\"pattern\":{\"fillmode\":\"overlay\",\"size\":10,\"solidity\":0.2}},\"type\":\"bar\"}],\"scattergeo\":[{\"type\":\"scattergeo\",\"marker\":{\"colorbar\":{\"outlinewidth\":0,\"ticks\":\"\"}}}],\"scatterpolar\":[{\"type\":\"scatterpolar\",\"marker\":{\"colorbar\":{\"outlinewidth\":0,\"ticks\":\"\"}}}],\"histogram\":[{\"marker\":{\"pattern\":{\"fillmode\":\"overlay\",\"size\":10,\"solidity\":0.2}},\"type\":\"histogram\"}],\"scattergl\":[{\"type\":\"scattergl\",\"marker\":{\"colorbar\":{\"outlinewidth\":0,\"ticks\":\"\"}}}],\"scatter3d\":[{\"type\":\"scatter3d\",\"line\":{\"colorbar\":{\"outlinewidth\":0,\"ticks\":\"\"}},\"marker\":{\"colorbar\":{\"outlinewidth\":0,\"ticks\":\"\"}}}],\"scattermapbox\":[{\"type\":\"scattermapbox\",\"marker\":{\"colorbar\":{\"outlinewidth\":0,\"ticks\":\"\"}}}],\"scatterternary\":[{\"type\":\"scatterternary\",\"marker\":{\"colorbar\":{\"outlinewidth\":0,\"ticks\":\"\"}}}],\"scattercarpet\":[{\"type\":\"scattercarpet\",\"marker\":{\"colorbar\":{\"outlinewidth\":0,\"ticks\":\"\"}}}],\"carpet\":[{\"aaxis\":{\"endlinecolor\":\"#2a3f5f\",\"gridcolor\":\"white\",\"linecolor\":\"white\",\"minorgridcolor\":\"white\",\"startlinecolor\":\"#2a3f5f\"},\"baxis\":{\"endlinecolor\":\"#2a3f5f\",\"gridcolor\":\"white\",\"linecolor\":\"white\",\"minorgridcolor\":\"white\",\"startlinecolor\":\"#2a3f5f\"},\"type\":\"carpet\"}],\"table\":[{\"cells\":{\"fill\":{\"color\":\"#EBF0F8\"},\"line\":{\"color\":\"white\"}},\"header\":{\"fill\":{\"color\":\"#C8D4E3\"},\"line\":{\"color\":\"white\"}},\"type\":\"table\"}],\"barpolar\":[{\"marker\":{\"line\":{\"color\":\"#E5ECF6\",\"width\":0.5},\"pattern\":{\"fillmode\":\"overlay\",\"size\":10,\"solidity\":0.2}},\"type\":\"barpolar\"}],\"pie\":[{\"automargin\":true,\"type\":\"pie\"}]},\"layout\":{\"autotypenumbers\":\"strict\",\"colorway\":[\"#636efa\",\"#EF553B\",\"#00cc96\",\"#ab63fa\",\"#FFA15A\",\"#19d3f3\",\"#FF6692\",\"#B6E880\",\"#FF97FF\",\"#FECB52\"],\"font\":{\"color\":\"#2a3f5f\"},\"hovermode\":\"closest\",\"hoverlabel\":{\"align\":\"left\"},\"paper_bgcolor\":\"white\",\"plot_bgcolor\":\"#E5ECF6\",\"polar\":{\"bgcolor\":\"#E5ECF6\",\"angularaxis\":{\"gridcolor\":\"white\",\"linecolor\":\"white\",\"ticks\":\"\"},\"radialaxis\":{\"gridcolor\":\"white\",\"linecolor\":\"white\",\"ticks\":\"\"}},\"ternary\":{\"bgcolor\":\"#E5ECF6\",\"aaxis\":{\"gridcolor\":\"white\",\"linecolor\":\"white\",\"ticks\":\"\"},\"baxis\":{\"gridcolor\":\"white\",\"linecolor\":\"white\",\"ticks\":\"\"},\"caxis\":{\"gridcolor\":\"white\",\"linecolor\":\"white\",\"ticks\":\"\"}},\"coloraxis\":{\"colorbar\":{\"outlinewidth\":0,\"ticks\":\"\"}},\"colorscale\":{\"sequential\":[[0.0,\"#0d0887\"],[0.1111111111111111,\"#46039f\"],[0.2222222222222222,\"#7201a8\"],[0.3333333333333333,\"#9c179e\"],[0.4444444444444444,\"#bd3786\"],[0.5555555555555556,\"#d8576b\"],[0.6666666666666666,\"#ed7953\"],[0.7777777777777778,\"#fb9f3a\"],[0.8888888888888888,\"#fdca26\"],[1.0,\"#f0f921\"]],\"sequentialminus\":[[0.0,\"#0d0887\"],[0.1111111111111111,\"#46039f\"],[0.2222222222222222,\"#7201a8\"],[0.3333333333333333,\"#9c179e\"],[0.4444444444444444,\"#bd3786\"],[0.5555555555555556,\"#d8576b\"],[0.6666666666666666,\"#ed7953\"],[0.7777777777777778,\"#fb9f3a\"],[0.8888888888888888,\"#fdca26\"],[1.0,\"#f0f921\"]],\"diverging\":[[0,\"#8e0152\"],[0.1,\"#c51b7d\"],[0.2,\"#de77ae\"],[0.3,\"#f1b6da\"],[0.4,\"#fde0ef\"],[0.5,\"#f7f7f7\"],[0.6,\"#e6f5d0\"],[0.7,\"#b8e186\"],[0.8,\"#7fbc41\"],[0.9,\"#4d9221\"],[1,\"#276419\"]]},\"xaxis\":{\"gridcolor\":\"white\",\"linecolor\":\"white\",\"ticks\":\"\",\"title\":{\"standoff\":15},\"zerolinecolor\":\"white\",\"automargin\":true,\"zerolinewidth\":2},\"yaxis\":{\"gridcolor\":\"white\",\"linecolor\":\"white\",\"ticks\":\"\",\"title\":{\"standoff\":15},\"zerolinecolor\":\"white\",\"automargin\":true,\"zerolinewidth\":2},\"scene\":{\"xaxis\":{\"backgroundcolor\":\"#E5ECF6\",\"gridcolor\":\"white\",\"linecolor\":\"white\",\"showbackground\":true,\"ticks\":\"\",\"zerolinecolor\":\"white\",\"gridwidth\":2},\"yaxis\":{\"backgroundcolor\":\"#E5ECF6\",\"gridcolor\":\"white\",\"linecolor\":\"white\",\"showbackground\":true,\"ticks\":\"\",\"zerolinecolor\":\"white\",\"gridwidth\":2},\"zaxis\":{\"backgroundcolor\":\"#E5ECF6\",\"gridcolor\":\"white\",\"linecolor\":\"white\",\"showbackground\":true,\"ticks\":\"\",\"zerolinecolor\":\"white\",\"gridwidth\":2}},\"shapedefaults\":{\"line\":{\"color\":\"#2a3f5f\"}},\"annotationdefaults\":{\"arrowcolor\":\"#2a3f5f\",\"arrowhead\":0,\"arrowwidth\":1},\"geo\":{\"bgcolor\":\"white\",\"landcolor\":\"#E5ECF6\",\"subunitcolor\":\"white\",\"showland\":true,\"showlakes\":true,\"lakecolor\":\"white\"},\"title\":{\"x\":0.05},\"mapbox\":{\"style\":\"light\"}}},\"xaxis\":{\"anchor\":\"y\",\"domain\":[0.0,0.09135802469135802],\"title\":{\"text\":\"booster\"},\"type\":\"category\",\"categoryorder\":\"array\",\"categoryarray\":[\"gbtree\",\"dart\"]},\"yaxis\":{\"anchor\":\"x\",\"domain\":[0.0,1.0],\"title\":{\"text\":\"Objective Value\"}},\"xaxis2\":{\"anchor\":\"y2\",\"domain\":[0.11358024691358025,0.20493827160493827],\"title\":{\"text\":\"grow_policy\"},\"type\":\"category\",\"categoryorder\":\"array\",\"categoryarray\":[\"depthwise\",\"lossguide\"]},\"yaxis2\":{\"anchor\":\"x2\",\"domain\":[0.0,1.0],\"matches\":\"y\",\"showticklabels\":false},\"xaxis3\":{\"anchor\":\"y3\",\"domain\":[0.2271604938271605,0.31851851851851853],\"title\":{\"text\":\"learning_rate\"},\"type\":\"log\"},\"yaxis3\":{\"anchor\":\"x3\",\"domain\":[0.0,1.0],\"matches\":\"y\",\"showticklabels\":false},\"xaxis4\":{\"anchor\":\"y4\",\"domain\":[0.34074074074074073,0.43209876543209874],\"title\":{\"text\":\"max_depth\"}},\"yaxis4\":{\"anchor\":\"x4\",\"domain\":[0.0,1.0],\"matches\":\"y\",\"showticklabels\":false},\"xaxis5\":{\"anchor\":\"y5\",\"domain\":[0.454320987654321,0.5456790123456791],\"title\":{\"text\":\"max_leaves\"}},\"yaxis5\":{\"anchor\":\"x5\",\"domain\":[0.0,1.0],\"matches\":\"y\",\"showticklabels\":false},\"xaxis6\":{\"anchor\":\"y6\",\"domain\":[0.5679012345679012,0.6592592592592592],\"title\":{\"text\":\"n_estimators\"}},\"yaxis6\":{\"anchor\":\"x6\",\"domain\":[0.0,1.0],\"matches\":\"y\",\"showticklabels\":false},\"xaxis7\":{\"anchor\":\"y7\",\"domain\":[0.6814814814814815,0.7728395061728395],\"title\":{\"text\":\"objective\"},\"type\":\"category\",\"categoryorder\":\"array\",\"categoryarray\":[\"map\",\"pairwise\",\"ndcg\"]},\"yaxis7\":{\"anchor\":\"x7\",\"domain\":[0.0,1.0],\"matches\":\"y\",\"showticklabels\":false},\"xaxis8\":{\"anchor\":\"y8\",\"domain\":[0.7950617283950617,0.8864197530864197],\"title\":{\"text\":\"reg_alpha\"},\"type\":\"log\"},\"yaxis8\":{\"anchor\":\"x8\",\"domain\":[0.0,1.0],\"matches\":\"y\",\"showticklabels\":false},\"xaxis9\":{\"anchor\":\"y9\",\"domain\":[0.908641975308642,1.0],\"title\":{\"text\":\"reg_lambda\"},\"type\":\"log\"},\"yaxis9\":{\"anchor\":\"x9\",\"domain\":[0.0,1.0],\"matches\":\"y\",\"showticklabels\":false},\"title\":{\"text\":\"Slice Plot\"},\"width\":2700},                        {\"responsive\": true}                    ).then(function(){\n",
       "                            \n",
       "var gd = document.getElementById('a570fefa-93ae-4fe1-9235-585e15e3b618');\n",
       "var x = new MutationObserver(function (mutations, observer) {{\n",
       "        var display = window.getComputedStyle(gd).display;\n",
       "        if (!display || display === 'none') {{\n",
       "            console.log([gd, 'removed!']);\n",
       "            Plotly.purge(gd);\n",
       "            observer.disconnect();\n",
       "        }}\n",
       "}});\n",
       "\n",
       "// Listen for the removal of the full notebook cells\n",
       "var notebookContainer = gd.closest('#notebook-container');\n",
       "if (notebookContainer) {{\n",
       "    x.observe(notebookContainer, {childList: true});\n",
       "}}\n",
       "\n",
       "// Listen for the clearing of the current output cell\n",
       "var outputEl = gd.closest('.output');\n",
       "if (outputEl) {{\n",
       "    x.observe(outputEl, {childList: true});\n",
       "}}\n",
       "\n",
       "                        })                };                            </script>        </div>\n",
       "</body>\n",
       "</html>"
      ]
     },
     "metadata": {},
     "output_type": "display_data"
    }
   ],
   "source": [
    "if not config['tune_parameters']:\n",
    "    optuna_study = optuna.load_study(study_name=f'hyperparameters_tuning_{config[\"model\"]}_{config[\"metric\"]}', storage=f'sqlite:///{config[\"database_path\"]}')\n",
    "    \n",
    "fig = optuna.visualization.plot_slice(optuna_study)\n",
    "fig.show()"
   ]
  },
  {
   "cell_type": "code",
   "execution_count": 20,
   "id": "eff9ac55",
   "metadata": {
    "execution": {
     "iopub.execute_input": "2024-12-30T19:59:10.234345Z",
     "iopub.status.busy": "2024-12-30T19:59:10.233884Z",
     "iopub.status.idle": "2024-12-30T19:59:10.704133Z",
     "shell.execute_reply": "2024-12-30T19:59:10.702912Z"
    },
    "papermill": {
     "duration": 0.492901,
     "end_time": "2024-12-30T19:59:10.706135",
     "exception": false,
     "start_time": "2024-12-30T19:59:10.213234",
     "status": "completed"
    },
    "tags": []
   },
   "outputs": [
    {
     "data": {
      "text/html": [
       "<html>\n",
       "<head><meta charset=\"utf-8\" /></head>\n",
       "<body>\n",
       "    <div>            <script src=\"https://cdnjs.cloudflare.com/ajax/libs/mathjax/2.7.5/MathJax.js?config=TeX-AMS-MML_SVG\"></script><script type=\"text/javascript\">if (window.MathJax && window.MathJax.Hub && window.MathJax.Hub.Config) {window.MathJax.Hub.Config({SVG: {font: \"STIX-Web\"}});}</script>                <script type=\"text/javascript\">window.PlotlyConfig = {MathJaxConfig: 'local'};</script>\n",
       "        <script charset=\"utf-8\" src=\"https://cdn.plot.ly/plotly-2.35.2.min.js\"></script>                <div id=\"519fa123-52b8-4f86-9cf5-d1eb63392de7\" class=\"plotly-graph-div\" style=\"height:525px; width:100%;\"></div>            <script type=\"text/javascript\">                                    window.PLOTLYENV=window.PLOTLYENV || {};                                    if (document.getElementById(\"519fa123-52b8-4f86-9cf5-d1eb63392de7\")) {                    Plotly.newPlot(                        \"519fa123-52b8-4f86-9cf5-d1eb63392de7\",                        [{\"cliponaxis\":false,\"hovertemplate\":[\"reg_alpha (FloatDistribution): 0.0010288194870847797\\u003cextra\\u003e\\u003c\\u002fextra\\u003e\",\"booster (CategoricalDistribution): 0.0028766206835658856\\u003cextra\\u003e\\u003c\\u002fextra\\u003e\",\"n_estimators (IntDistribution): 0.02102132105963374\\u003cextra\\u003e\\u003c\\u002fextra\\u003e\",\"grow_policy (CategoricalDistribution): 0.08971876697234368\\u003cextra\\u003e\\u003c\\u002fextra\\u003e\",\"learning_rate (FloatDistribution): 0.10497854773279168\\u003cextra\\u003e\\u003c\\u002fextra\\u003e\",\"max_leaves (IntDistribution): 0.10764570210681987\\u003cextra\\u003e\\u003c\\u002fextra\\u003e\",\"objective (CategoricalDistribution): 0.1181128152906788\\u003cextra\\u003e\\u003c\\u002fextra\\u003e\",\"max_depth (IntDistribution): 0.1761180476363406\\u003cextra\\u003e\\u003c\\u002fextra\\u003e\",\"reg_lambda (FloatDistribution): 0.37849935903074095\\u003cextra\\u003e\\u003c\\u002fextra\\u003e\"],\"name\":\"Objective Value\",\"orientation\":\"h\",\"text\":[\"\\u003c0.01\",\"\\u003c0.01\",\"0.02\",\"0.09\",\"0.10\",\"0.11\",\"0.12\",\"0.18\",\"0.38\"],\"textposition\":\"outside\",\"x\":[0.0010288194870847797,0.0028766206835658856,0.02102132105963374,0.08971876697234368,0.10497854773279168,0.10764570210681987,0.1181128152906788,0.1761180476363406,0.37849935903074095],\"y\":[\"reg_alpha\",\"booster\",\"n_estimators\",\"grow_policy\",\"learning_rate\",\"max_leaves\",\"objective\",\"max_depth\",\"reg_lambda\"],\"type\":\"bar\"}],                        {\"title\":{\"text\":\"Hyperparameter Importances\"},\"xaxis\":{\"title\":{\"text\":\"Hyperparameter Importance\"}},\"yaxis\":{\"title\":{\"text\":\"Hyperparameter\"}},\"template\":{\"data\":{\"histogram2dcontour\":[{\"type\":\"histogram2dcontour\",\"colorbar\":{\"outlinewidth\":0,\"ticks\":\"\"},\"colorscale\":[[0.0,\"#0d0887\"],[0.1111111111111111,\"#46039f\"],[0.2222222222222222,\"#7201a8\"],[0.3333333333333333,\"#9c179e\"],[0.4444444444444444,\"#bd3786\"],[0.5555555555555556,\"#d8576b\"],[0.6666666666666666,\"#ed7953\"],[0.7777777777777778,\"#fb9f3a\"],[0.8888888888888888,\"#fdca26\"],[1.0,\"#f0f921\"]]}],\"choropleth\":[{\"type\":\"choropleth\",\"colorbar\":{\"outlinewidth\":0,\"ticks\":\"\"}}],\"histogram2d\":[{\"type\":\"histogram2d\",\"colorbar\":{\"outlinewidth\":0,\"ticks\":\"\"},\"colorscale\":[[0.0,\"#0d0887\"],[0.1111111111111111,\"#46039f\"],[0.2222222222222222,\"#7201a8\"],[0.3333333333333333,\"#9c179e\"],[0.4444444444444444,\"#bd3786\"],[0.5555555555555556,\"#d8576b\"],[0.6666666666666666,\"#ed7953\"],[0.7777777777777778,\"#fb9f3a\"],[0.8888888888888888,\"#fdca26\"],[1.0,\"#f0f921\"]]}],\"heatmap\":[{\"type\":\"heatmap\",\"colorbar\":{\"outlinewidth\":0,\"ticks\":\"\"},\"colorscale\":[[0.0,\"#0d0887\"],[0.1111111111111111,\"#46039f\"],[0.2222222222222222,\"#7201a8\"],[0.3333333333333333,\"#9c179e\"],[0.4444444444444444,\"#bd3786\"],[0.5555555555555556,\"#d8576b\"],[0.6666666666666666,\"#ed7953\"],[0.7777777777777778,\"#fb9f3a\"],[0.8888888888888888,\"#fdca26\"],[1.0,\"#f0f921\"]]}],\"heatmapgl\":[{\"type\":\"heatmapgl\",\"colorbar\":{\"outlinewidth\":0,\"ticks\":\"\"},\"colorscale\":[[0.0,\"#0d0887\"],[0.1111111111111111,\"#46039f\"],[0.2222222222222222,\"#7201a8\"],[0.3333333333333333,\"#9c179e\"],[0.4444444444444444,\"#bd3786\"],[0.5555555555555556,\"#d8576b\"],[0.6666666666666666,\"#ed7953\"],[0.7777777777777778,\"#fb9f3a\"],[0.8888888888888888,\"#fdca26\"],[1.0,\"#f0f921\"]]}],\"contourcarpet\":[{\"type\":\"contourcarpet\",\"colorbar\":{\"outlinewidth\":0,\"ticks\":\"\"}}],\"contour\":[{\"type\":\"contour\",\"colorbar\":{\"outlinewidth\":0,\"ticks\":\"\"},\"colorscale\":[[0.0,\"#0d0887\"],[0.1111111111111111,\"#46039f\"],[0.2222222222222222,\"#7201a8\"],[0.3333333333333333,\"#9c179e\"],[0.4444444444444444,\"#bd3786\"],[0.5555555555555556,\"#d8576b\"],[0.6666666666666666,\"#ed7953\"],[0.7777777777777778,\"#fb9f3a\"],[0.8888888888888888,\"#fdca26\"],[1.0,\"#f0f921\"]]}],\"surface\":[{\"type\":\"surface\",\"colorbar\":{\"outlinewidth\":0,\"ticks\":\"\"},\"colorscale\":[[0.0,\"#0d0887\"],[0.1111111111111111,\"#46039f\"],[0.2222222222222222,\"#7201a8\"],[0.3333333333333333,\"#9c179e\"],[0.4444444444444444,\"#bd3786\"],[0.5555555555555556,\"#d8576b\"],[0.6666666666666666,\"#ed7953\"],[0.7777777777777778,\"#fb9f3a\"],[0.8888888888888888,\"#fdca26\"],[1.0,\"#f0f921\"]]}],\"mesh3d\":[{\"type\":\"mesh3d\",\"colorbar\":{\"outlinewidth\":0,\"ticks\":\"\"}}],\"scatter\":[{\"fillpattern\":{\"fillmode\":\"overlay\",\"size\":10,\"solidity\":0.2},\"type\":\"scatter\"}],\"parcoords\":[{\"type\":\"parcoords\",\"line\":{\"colorbar\":{\"outlinewidth\":0,\"ticks\":\"\"}}}],\"scatterpolargl\":[{\"type\":\"scatterpolargl\",\"marker\":{\"colorbar\":{\"outlinewidth\":0,\"ticks\":\"\"}}}],\"bar\":[{\"error_x\":{\"color\":\"#2a3f5f\"},\"error_y\":{\"color\":\"#2a3f5f\"},\"marker\":{\"line\":{\"color\":\"#E5ECF6\",\"width\":0.5},\"pattern\":{\"fillmode\":\"overlay\",\"size\":10,\"solidity\":0.2}},\"type\":\"bar\"}],\"scattergeo\":[{\"type\":\"scattergeo\",\"marker\":{\"colorbar\":{\"outlinewidth\":0,\"ticks\":\"\"}}}],\"scatterpolar\":[{\"type\":\"scatterpolar\",\"marker\":{\"colorbar\":{\"outlinewidth\":0,\"ticks\":\"\"}}}],\"histogram\":[{\"marker\":{\"pattern\":{\"fillmode\":\"overlay\",\"size\":10,\"solidity\":0.2}},\"type\":\"histogram\"}],\"scattergl\":[{\"type\":\"scattergl\",\"marker\":{\"colorbar\":{\"outlinewidth\":0,\"ticks\":\"\"}}}],\"scatter3d\":[{\"type\":\"scatter3d\",\"line\":{\"colorbar\":{\"outlinewidth\":0,\"ticks\":\"\"}},\"marker\":{\"colorbar\":{\"outlinewidth\":0,\"ticks\":\"\"}}}],\"scattermapbox\":[{\"type\":\"scattermapbox\",\"marker\":{\"colorbar\":{\"outlinewidth\":0,\"ticks\":\"\"}}}],\"scatterternary\":[{\"type\":\"scatterternary\",\"marker\":{\"colorbar\":{\"outlinewidth\":0,\"ticks\":\"\"}}}],\"scattercarpet\":[{\"type\":\"scattercarpet\",\"marker\":{\"colorbar\":{\"outlinewidth\":0,\"ticks\":\"\"}}}],\"carpet\":[{\"aaxis\":{\"endlinecolor\":\"#2a3f5f\",\"gridcolor\":\"white\",\"linecolor\":\"white\",\"minorgridcolor\":\"white\",\"startlinecolor\":\"#2a3f5f\"},\"baxis\":{\"endlinecolor\":\"#2a3f5f\",\"gridcolor\":\"white\",\"linecolor\":\"white\",\"minorgridcolor\":\"white\",\"startlinecolor\":\"#2a3f5f\"},\"type\":\"carpet\"}],\"table\":[{\"cells\":{\"fill\":{\"color\":\"#EBF0F8\"},\"line\":{\"color\":\"white\"}},\"header\":{\"fill\":{\"color\":\"#C8D4E3\"},\"line\":{\"color\":\"white\"}},\"type\":\"table\"}],\"barpolar\":[{\"marker\":{\"line\":{\"color\":\"#E5ECF6\",\"width\":0.5},\"pattern\":{\"fillmode\":\"overlay\",\"size\":10,\"solidity\":0.2}},\"type\":\"barpolar\"}],\"pie\":[{\"automargin\":true,\"type\":\"pie\"}]},\"layout\":{\"autotypenumbers\":\"strict\",\"colorway\":[\"#636efa\",\"#EF553B\",\"#00cc96\",\"#ab63fa\",\"#FFA15A\",\"#19d3f3\",\"#FF6692\",\"#B6E880\",\"#FF97FF\",\"#FECB52\"],\"font\":{\"color\":\"#2a3f5f\"},\"hovermode\":\"closest\",\"hoverlabel\":{\"align\":\"left\"},\"paper_bgcolor\":\"white\",\"plot_bgcolor\":\"#E5ECF6\",\"polar\":{\"bgcolor\":\"#E5ECF6\",\"angularaxis\":{\"gridcolor\":\"white\",\"linecolor\":\"white\",\"ticks\":\"\"},\"radialaxis\":{\"gridcolor\":\"white\",\"linecolor\":\"white\",\"ticks\":\"\"}},\"ternary\":{\"bgcolor\":\"#E5ECF6\",\"aaxis\":{\"gridcolor\":\"white\",\"linecolor\":\"white\",\"ticks\":\"\"},\"baxis\":{\"gridcolor\":\"white\",\"linecolor\":\"white\",\"ticks\":\"\"},\"caxis\":{\"gridcolor\":\"white\",\"linecolor\":\"white\",\"ticks\":\"\"}},\"coloraxis\":{\"colorbar\":{\"outlinewidth\":0,\"ticks\":\"\"}},\"colorscale\":{\"sequential\":[[0.0,\"#0d0887\"],[0.1111111111111111,\"#46039f\"],[0.2222222222222222,\"#7201a8\"],[0.3333333333333333,\"#9c179e\"],[0.4444444444444444,\"#bd3786\"],[0.5555555555555556,\"#d8576b\"],[0.6666666666666666,\"#ed7953\"],[0.7777777777777778,\"#fb9f3a\"],[0.8888888888888888,\"#fdca26\"],[1.0,\"#f0f921\"]],\"sequentialminus\":[[0.0,\"#0d0887\"],[0.1111111111111111,\"#46039f\"],[0.2222222222222222,\"#7201a8\"],[0.3333333333333333,\"#9c179e\"],[0.4444444444444444,\"#bd3786\"],[0.5555555555555556,\"#d8576b\"],[0.6666666666666666,\"#ed7953\"],[0.7777777777777778,\"#fb9f3a\"],[0.8888888888888888,\"#fdca26\"],[1.0,\"#f0f921\"]],\"diverging\":[[0,\"#8e0152\"],[0.1,\"#c51b7d\"],[0.2,\"#de77ae\"],[0.3,\"#f1b6da\"],[0.4,\"#fde0ef\"],[0.5,\"#f7f7f7\"],[0.6,\"#e6f5d0\"],[0.7,\"#b8e186\"],[0.8,\"#7fbc41\"],[0.9,\"#4d9221\"],[1,\"#276419\"]]},\"xaxis\":{\"gridcolor\":\"white\",\"linecolor\":\"white\",\"ticks\":\"\",\"title\":{\"standoff\":15},\"zerolinecolor\":\"white\",\"automargin\":true,\"zerolinewidth\":2},\"yaxis\":{\"gridcolor\":\"white\",\"linecolor\":\"white\",\"ticks\":\"\",\"title\":{\"standoff\":15},\"zerolinecolor\":\"white\",\"automargin\":true,\"zerolinewidth\":2},\"scene\":{\"xaxis\":{\"backgroundcolor\":\"#E5ECF6\",\"gridcolor\":\"white\",\"linecolor\":\"white\",\"showbackground\":true,\"ticks\":\"\",\"zerolinecolor\":\"white\",\"gridwidth\":2},\"yaxis\":{\"backgroundcolor\":\"#E5ECF6\",\"gridcolor\":\"white\",\"linecolor\":\"white\",\"showbackground\":true,\"ticks\":\"\",\"zerolinecolor\":\"white\",\"gridwidth\":2},\"zaxis\":{\"backgroundcolor\":\"#E5ECF6\",\"gridcolor\":\"white\",\"linecolor\":\"white\",\"showbackground\":true,\"ticks\":\"\",\"zerolinecolor\":\"white\",\"gridwidth\":2}},\"shapedefaults\":{\"line\":{\"color\":\"#2a3f5f\"}},\"annotationdefaults\":{\"arrowcolor\":\"#2a3f5f\",\"arrowhead\":0,\"arrowwidth\":1},\"geo\":{\"bgcolor\":\"white\",\"landcolor\":\"#E5ECF6\",\"subunitcolor\":\"white\",\"showland\":true,\"showlakes\":true,\"lakecolor\":\"white\"},\"title\":{\"x\":0.05},\"mapbox\":{\"style\":\"light\"}}}},                        {\"responsive\": true}                    ).then(function(){\n",
       "                            \n",
       "var gd = document.getElementById('519fa123-52b8-4f86-9cf5-d1eb63392de7');\n",
       "var x = new MutationObserver(function (mutations, observer) {{\n",
       "        var display = window.getComputedStyle(gd).display;\n",
       "        if (!display || display === 'none') {{\n",
       "            console.log([gd, 'removed!']);\n",
       "            Plotly.purge(gd);\n",
       "            observer.disconnect();\n",
       "        }}\n",
       "}});\n",
       "\n",
       "// Listen for the removal of the full notebook cells\n",
       "var notebookContainer = gd.closest('#notebook-container');\n",
       "if (notebookContainer) {{\n",
       "    x.observe(notebookContainer, {childList: true});\n",
       "}}\n",
       "\n",
       "// Listen for the clearing of the current output cell\n",
       "var outputEl = gd.closest('.output');\n",
       "if (outputEl) {{\n",
       "    x.observe(outputEl, {childList: true});\n",
       "}}\n",
       "\n",
       "                        })                };                            </script>        </div>\n",
       "</body>\n",
       "</html>"
      ]
     },
     "metadata": {},
     "output_type": "display_data"
    }
   ],
   "source": [
    "if not config['tune_parameters']:\n",
    "    optuna_study = optuna.load_study(study_name=f'hyperparameters_tuning_{config[\"model\"]}_{config[\"metric\"]}', storage=f'sqlite:///{config[\"database_path\"]}')\n",
    "    \n",
    "fig = optuna.visualization.plot_param_importances(optuna_study)\n",
    "fig.show()"
   ]
  },
  {
   "cell_type": "markdown",
   "id": "90c13051",
   "metadata": {
    "papermill": {
     "duration": 0.019029,
     "end_time": "2024-12-30T19:59:10.745311",
     "exception": false,
     "start_time": "2024-12-30T19:59:10.726282",
     "status": "completed"
    },
    "tags": []
   },
   "source": [
    "# Testing\n",
    "Let's train the recommender with best parameter values: both candidate generator and feature one.\n",
    "Then create the new dataframe."
   ]
  },
  {
   "cell_type": "code",
   "execution_count": 21,
   "id": "0f997751",
   "metadata": {
    "execution": {
     "iopub.execute_input": "2024-12-30T19:59:10.785610Z",
     "iopub.status.busy": "2024-12-30T19:59:10.785040Z",
     "iopub.status.idle": "2024-12-30T20:35:26.756151Z",
     "shell.execute_reply": "2024-12-30T20:35:26.754826Z"
    },
    "papermill": {
     "duration": 2175.994372,
     "end_time": "2024-12-30T20:35:26.758325",
     "exception": false,
     "start_time": "2024-12-30T19:59:10.763953",
     "status": "completed"
    },
    "tags": []
   },
   "outputs": [
    {
     "name": "stdout",
     "output_type": "stream",
     "text": [
      "***TRAINING CONTENT GENERATION RECOMMENDERS***\n",
      "\n",
      "RP3beta Model - TRAINING with its best parameters.\n",
      "RP3betaRecommender: Similarity column 38121 (100.0%), 1751.35 column/sec. Elapsed time 21.77 sec\n",
      "Training of RP3beta completed in 25.18 sec.\n",
      "\n",
      "ItemKNNCF Model - TRAINING with its best parameters.\n",
      "Similarity column 38121 (100.0%), 2653.36 column/sec. Elapsed time 14.37 sec\n",
      "Training of ItemKNNCF completed in 14.87 sec.\n",
      "\n",
      "SLIMElasticNet Model - TRAINING with its best parameters.\n",
      "Model for SLIMElasticNet already exists. Loading the saved model.\n",
      "SLIMElasticNetRecommender: Loading model from file 'TrainedModels/WithoutKFCV/XGBoost/CandidateGenerator/TrainValbest_SLIMElasticNet_Recall_TrainVal_tuned'\n",
      "SLIMElasticNetRecommender: Loading complete\n",
      "***TRAINING FEATURE RECOMMENDERS***\n",
      "\n",
      "RP3beta Model - TRAINING with its best parameters.\n",
      "RP3betaRecommender: Similarity column 38121 (100.0%), 1995.93 column/sec. Elapsed time 19.10 sec\n",
      "Training of RP3beta completed in 20.33 sec.\n",
      "\n",
      "ItemKNNCF Model - TRAINING with its best parameters.\n",
      "Similarity column 38121 (100.0%), 2781.21 column/sec. Elapsed time 13.71 sec\n",
      "Training of ItemKNNCF completed in 14.01 sec.\n",
      "\n",
      "ItemKNNCBF Model - TRAINING with its best parameters.\n",
      "Similarity column 38121 (100.0%), 695.51 column/sec. Elapsed time 54.81 sec\n",
      "Training of ItemKNNCBF completed in 55.32 sec.\n",
      "\n",
      "FasterIALS Model - TRAINING with its best parameters.\n",
      "Model for FasterIALS already exists. Loading the saved model.\n",
      "IALSRecommender: Loading model from file 'TrainedModels/WithoutKFCV/XGBoost/Feature/TrainValbest_FasterIALS_MAP_TrainVal_tuned'\n",
      "IALSRecommender: Loading complete\n",
      "PureSVDItem Model - TRAINING with its best parameters.\n",
      "PureSVDItemRecommender: Computing SVD decomposition...\n",
      "PureSVDItemRecommender: Computing SVD decomposition... Done!\n",
      "Training of PureSVDItem completed in 4.13 min.\n",
      "\n",
      "MultVAE Model - TRAINING with its best parameters.\n",
      "Model for MultVAE already exists. Loading the saved model.\n",
      "SLIMElasticNet Model - TRAINING with its best parameters.\n",
      "Model for SLIMElasticNet already exists. Loading the saved model.\n",
      "SLIMElasticNetRecommender: Loading model from file 'TrainedModels/WithoutKFCV/XGBoost/Feature/TrainValbest_SLIMElasticNet_MAP_TrainVal_tuned'\n",
      "SLIMElasticNetRecommender: Loading complete\n"
     ]
    },
    {
     "name": "stderr",
     "output_type": "stream",
     "text": [
      "100%|██████████| 35736/35736 [01:27<00:00, 406.73it/s]\n",
      "  0%|          | 0/35736 [00:00<?, ?it/s]/kaggle/working/RECsys_Challenge2024/Recommenders/Neural/MultVAE_PyTorch_Recommender.py:188: UserWarning:\n",
      "\n",
      "Sparse CSR tensor support is in beta state. If you miss a functionality in the sparse tensor support, please submit a feature request to https://github.com/pytorch/pytorch/issues. (Triggered internally at ../aten/src/ATen/SparseCsrTensorImpl.cpp:53.)\n",
      "\n",
      "100%|██████████| 35736/35736 [27:48<00:00, 21.42it/s]\n"
     ]
    },
    {
     "data": {
      "text/html": [
       "<div>\n",
       "<style scoped>\n",
       "    .dataframe tbody tr th:only-of-type {\n",
       "        vertical-align: middle;\n",
       "    }\n",
       "\n",
       "    .dataframe tbody tr th {\n",
       "        vertical-align: top;\n",
       "    }\n",
       "\n",
       "    .dataframe thead th {\n",
       "        text-align: right;\n",
       "    }\n",
       "</style>\n",
       "<table border=\"1\" class=\"dataframe\">\n",
       "  <thead>\n",
       "    <tr style=\"text-align: right;\">\n",
       "      <th></th>\n",
       "      <th>UserID</th>\n",
       "      <th>ItemID</th>\n",
       "      <th>Label</th>\n",
       "      <th>RP3beta</th>\n",
       "      <th>ItemKNNCF</th>\n",
       "      <th>ItemKNNCBF</th>\n",
       "      <th>FasterIALS</th>\n",
       "      <th>PureSVDItem</th>\n",
       "      <th>MultVAE</th>\n",
       "      <th>SLIMElasticNet</th>\n",
       "      <th>item_popularity</th>\n",
       "      <th>user_profile_len</th>\n",
       "    </tr>\n",
       "  </thead>\n",
       "  <tbody>\n",
       "    <tr>\n",
       "      <th>0</th>\n",
       "      <td>0</td>\n",
       "      <td>51.0</td>\n",
       "      <td>False</td>\n",
       "      <td>0.215024</td>\n",
       "      <td>0.903856</td>\n",
       "      <td>0.000000</td>\n",
       "      <td>0.192419</td>\n",
       "      <td>0.043012</td>\n",
       "      <td>5.770544</td>\n",
       "      <td>0.196252</td>\n",
       "      <td>130</td>\n",
       "      <td>95</td>\n",
       "    </tr>\n",
       "    <tr>\n",
       "      <th>1</th>\n",
       "      <td>0</td>\n",
       "      <td>11966.0</td>\n",
       "      <td>False</td>\n",
       "      <td>0.201938</td>\n",
       "      <td>2.823273</td>\n",
       "      <td>0.000000</td>\n",
       "      <td>0.754257</td>\n",
       "      <td>0.156377</td>\n",
       "      <td>10.304276</td>\n",
       "      <td>0.147537</td>\n",
       "      <td>39</td>\n",
       "      <td>95</td>\n",
       "    </tr>\n",
       "    <tr>\n",
       "      <th>2</th>\n",
       "      <td>0</td>\n",
       "      <td>11875.0</td>\n",
       "      <td>False</td>\n",
       "      <td>0.062943</td>\n",
       "      <td>0.737080</td>\n",
       "      <td>0.000000</td>\n",
       "      <td>0.528419</td>\n",
       "      <td>0.079752</td>\n",
       "      <td>8.908233</td>\n",
       "      <td>0.058803</td>\n",
       "      <td>25</td>\n",
       "      <td>95</td>\n",
       "    </tr>\n",
       "    <tr>\n",
       "      <th>3</th>\n",
       "      <td>0</td>\n",
       "      <td>9911.0</td>\n",
       "      <td>False</td>\n",
       "      <td>0.053466</td>\n",
       "      <td>1.294928</td>\n",
       "      <td>0.000000</td>\n",
       "      <td>0.686548</td>\n",
       "      <td>0.073656</td>\n",
       "      <td>10.691162</td>\n",
       "      <td>0.090868</td>\n",
       "      <td>20</td>\n",
       "      <td>95</td>\n",
       "    </tr>\n",
       "    <tr>\n",
       "      <th>4</th>\n",
       "      <td>0</td>\n",
       "      <td>9316.0</td>\n",
       "      <td>False</td>\n",
       "      <td>0.070576</td>\n",
       "      <td>0.000000</td>\n",
       "      <td>0.000000</td>\n",
       "      <td>0.270280</td>\n",
       "      <td>0.042631</td>\n",
       "      <td>8.507269</td>\n",
       "      <td>0.043835</td>\n",
       "      <td>30</td>\n",
       "      <td>95</td>\n",
       "    </tr>\n",
       "    <tr>\n",
       "      <th>...</th>\n",
       "      <td>...</td>\n",
       "      <td>...</td>\n",
       "      <td>...</td>\n",
       "      <td>...</td>\n",
       "      <td>...</td>\n",
       "      <td>...</td>\n",
       "      <td>...</td>\n",
       "      <td>...</td>\n",
       "      <td>...</td>\n",
       "      <td>...</td>\n",
       "      <td>...</td>\n",
       "      <td>...</td>\n",
       "    </tr>\n",
       "    <tr>\n",
       "      <th>2878785</th>\n",
       "      <td>35735</td>\n",
       "      <td>35713.0</td>\n",
       "      <td>False</td>\n",
       "      <td>0.159385</td>\n",
       "      <td>1.153576</td>\n",
       "      <td>0.000000</td>\n",
       "      <td>0.681071</td>\n",
       "      <td>0.097949</td>\n",
       "      <td>7.235845</td>\n",
       "      <td>0.157077</td>\n",
       "      <td>31</td>\n",
       "      <td>26</td>\n",
       "    </tr>\n",
       "    <tr>\n",
       "      <th>2878786</th>\n",
       "      <td>35735</td>\n",
       "      <td>35712.0</td>\n",
       "      <td>False</td>\n",
       "      <td>0.055760</td>\n",
       "      <td>2.999887</td>\n",
       "      <td>0.098820</td>\n",
       "      <td>0.638844</td>\n",
       "      <td>0.115371</td>\n",
       "      <td>7.426314</td>\n",
       "      <td>0.165201</td>\n",
       "      <td>21</td>\n",
       "      <td>26</td>\n",
       "    </tr>\n",
       "    <tr>\n",
       "      <th>2878787</th>\n",
       "      <td>35735</td>\n",
       "      <td>35660.0</td>\n",
       "      <td>False</td>\n",
       "      <td>0.107449</td>\n",
       "      <td>2.679675</td>\n",
       "      <td>0.000000</td>\n",
       "      <td>0.685326</td>\n",
       "      <td>0.086949</td>\n",
       "      <td>8.342996</td>\n",
       "      <td>0.181524</td>\n",
       "      <td>23</td>\n",
       "      <td>26</td>\n",
       "    </tr>\n",
       "    <tr>\n",
       "      <th>2878788</th>\n",
       "      <td>35735</td>\n",
       "      <td>36032.0</td>\n",
       "      <td>False</td>\n",
       "      <td>0.000000</td>\n",
       "      <td>0.000000</td>\n",
       "      <td>0.000000</td>\n",
       "      <td>0.511405</td>\n",
       "      <td>0.061282</td>\n",
       "      <td>6.000887</td>\n",
       "      <td>0.000000</td>\n",
       "      <td>16</td>\n",
       "      <td>26</td>\n",
       "    </tr>\n",
       "    <tr>\n",
       "      <th>2878789</th>\n",
       "      <td>35735</td>\n",
       "      <td>38033.0</td>\n",
       "      <td>False</td>\n",
       "      <td>0.000000</td>\n",
       "      <td>0.000000</td>\n",
       "      <td>0.113198</td>\n",
       "      <td>0.654848</td>\n",
       "      <td>0.122250</td>\n",
       "      <td>8.008853</td>\n",
       "      <td>0.076176</td>\n",
       "      <td>29</td>\n",
       "      <td>26</td>\n",
       "    </tr>\n",
       "  </tbody>\n",
       "</table>\n",
       "<p>2878790 rows × 12 columns</p>\n",
       "</div>"
      ],
      "text/plain": [
       "        UserID   ItemID  Label   RP3beta  ItemKNNCF  ItemKNNCBF  FasterIALS  \\\n",
       "0            0     51.0  False  0.215024   0.903856    0.000000    0.192419   \n",
       "1            0  11966.0  False  0.201938   2.823273    0.000000    0.754257   \n",
       "2            0  11875.0  False  0.062943   0.737080    0.000000    0.528419   \n",
       "3            0   9911.0  False  0.053466   1.294928    0.000000    0.686548   \n",
       "4            0   9316.0  False  0.070576   0.000000    0.000000    0.270280   \n",
       "...        ...      ...    ...       ...        ...         ...         ...   \n",
       "2878785  35735  35713.0  False  0.159385   1.153576    0.000000    0.681071   \n",
       "2878786  35735  35712.0  False  0.055760   2.999887    0.098820    0.638844   \n",
       "2878787  35735  35660.0  False  0.107449   2.679675    0.000000    0.685326   \n",
       "2878788  35735  36032.0  False  0.000000   0.000000    0.000000    0.511405   \n",
       "2878789  35735  38033.0  False  0.000000   0.000000    0.113198    0.654848   \n",
       "\n",
       "         PureSVDItem    MultVAE  SLIMElasticNet  item_popularity  \\\n",
       "0           0.043012   5.770544        0.196252              130   \n",
       "1           0.156377  10.304276        0.147537               39   \n",
       "2           0.079752   8.908233        0.058803               25   \n",
       "3           0.073656  10.691162        0.090868               20   \n",
       "4           0.042631   8.507269        0.043835               30   \n",
       "...              ...        ...             ...              ...   \n",
       "2878785     0.097949   7.235845        0.157077               31   \n",
       "2878786     0.115371   7.426314        0.165201               21   \n",
       "2878787     0.086949   8.342996        0.181524               23   \n",
       "2878788     0.061282   6.000887        0.000000               16   \n",
       "2878789     0.122250   8.008853        0.076176               29   \n",
       "\n",
       "         user_profile_len  \n",
       "0                      95  \n",
       "1                      95  \n",
       "2                      95  \n",
       "3                      95  \n",
       "4                      95  \n",
       "...                   ...  \n",
       "2878785                26  \n",
       "2878786                26  \n",
       "2878787                26  \n",
       "2878788                26  \n",
       "2878789                26  \n",
       "\n",
       "[2878790 rows x 12 columns]"
      ]
     },
     "metadata": {},
     "output_type": "display_data"
    }
   ],
   "source": [
    "if config['tune_best_params']:\n",
    "\n",
    "    print(\"***TRAINING CONTENT GENERATION RECOMMENDERS***\\n\")\n",
    "    candidate_generator_recommenders = fit_recommenders(\"Recall\", \"TrainVal\", URM_train + URM_validation, ICM_all, cg_recommenders, GH_PATH, \"cg\", repo)\n",
    "\n",
    "    print(\"***TRAINING FEATURE RECOMMENDERS***\\n\")\n",
    "    features_recommenders = fit_recommenders(\"MAP\", \"TrainVal\", URM_train + URM_validation, ICM_all, f_recommenders, GH_PATH, \"f\", repo)\n",
    "\n",
    "    train_val_dataframe, groups_train_val = create_XGBoost_dataframe(URM_train + URM_validation, candidate_generator_recommenders, features_recommenders, ICM_all, URM_test, cutoff=50, categorical=config[\"categorical\"], contents=config[\"contents\"])\n",
    "\n",
    "    del candidate_generator_recommenders\n",
    "    del features_recommenders\n",
    "\n",
    "    display(train_val_dataframe)\n",
    "    \n",
    "    # Extract labels and features\n",
    "    y_train_val = train_val_dataframe[\"Label\"]\n",
    "    X_train_val = train_val_dataframe.drop(columns=[\"Label\"])"
   ]
  },
  {
   "cell_type": "markdown",
   "id": "69d8991f",
   "metadata": {
    "papermill": {
     "duration": 0.830197,
     "end_time": "2024-12-30T20:35:28.315251",
     "exception": false,
     "start_time": "2024-12-30T20:35:27.485054",
     "status": "completed"
    },
    "tags": []
   },
   "source": [
    "### Train best XGBoost model"
   ]
  },
  {
   "cell_type": "code",
   "execution_count": 22,
   "id": "7eaaf533",
   "metadata": {
    "execution": {
     "iopub.execute_input": "2024-12-30T20:35:29.917254Z",
     "iopub.status.busy": "2024-12-30T20:35:29.916211Z",
     "iopub.status.idle": "2024-12-30T20:56:41.436751Z",
     "shell.execute_reply": "2024-12-30T20:56:41.435635Z"
    },
    "papermill": {
     "duration": 1272.285977,
     "end_time": "2024-12-30T20:56:41.439686",
     "exception": false,
     "start_time": "2024-12-30T20:35:29.153709",
     "status": "completed"
    },
    "tags": []
   },
   "outputs": [],
   "source": [
    "if config['tune_best_params']:\n",
    "\n",
    "    if config['tune_parameters']:\n",
    "        best_params = optuna_study.best_trial.params\n",
    "    else: \n",
    "        with open(f'{K_PATH}/{GH_PATH}/{D_PATH}/{config[\"model\"]}Recommender/Optimizing{config[\"metric\"]}/best_params_{config[\"model\"]}_{config[\"metric\"]}.json', 'r') as best_params_json:\n",
    "            best_params = json.load(best_params_json)\n",
    "\n",
    "    recommender_instance = XGBoostRankerRecommender(URM_train + URM_validation, train_val_dataframe)\n",
    "    recommender_instance.fit(\n",
    "        X_train_val,\n",
    "        y_train_val,\n",
    "        groups_train_val,\n",
    "        **best_params\n",
    "    )"
   ]
  },
  {
   "cell_type": "markdown",
   "id": "e50e6e32",
   "metadata": {
    "papermill": {
     "duration": 0.712103,
     "end_time": "2024-12-30T20:56:42.988921",
     "exception": false,
     "start_time": "2024-12-30T20:56:42.276818",
     "status": "completed"
    },
    "tags": []
   },
   "source": [
    "## Feature importance"
   ]
  },
  {
   "cell_type": "code",
   "execution_count": 23,
   "id": "6894cbce",
   "metadata": {
    "execution": {
     "iopub.execute_input": "2024-12-30T20:56:44.540010Z",
     "iopub.status.busy": "2024-12-30T20:56:44.539563Z",
     "iopub.status.idle": "2024-12-30T20:56:44.862961Z",
     "shell.execute_reply": "2024-12-30T20:56:44.861661Z"
    },
    "papermill": {
     "duration": 1.045355,
     "end_time": "2024-12-30T20:56:44.865053",
     "exception": false,
     "start_time": "2024-12-30T20:56:43.819698",
     "status": "completed"
    },
    "tags": []
   },
   "outputs": [
    {
     "data": {
      "text/plain": [
       "<Axes: title={'center': 'Gain'}, xlabel='F score', ylabel='Features'>"
      ]
     },
     "execution_count": 23,
     "metadata": {},
     "output_type": "execute_result"
    },
    {
     "data": {
      "image/png": "[encoded data removed]",
      "text/plain": [
       "<Figure size 640x480 with 1 Axes>"
      ]
     },
     "metadata": {},
     "output_type": "display_data"
    }
   ],
   "source": [
    "plot_importance(recommender_instance.model, importance_type='gain', title='Gain')"
   ]
  },
  {
   "cell_type": "code",
   "execution_count": 24,
   "id": "4a49865d",
   "metadata": {
    "execution": {
     "iopub.execute_input": "2024-12-30T20:56:46.416545Z",
     "iopub.status.busy": "2024-12-30T20:56:46.415862Z",
     "iopub.status.idle": "2024-12-30T20:56:46.677562Z",
     "shell.execute_reply": "2024-12-30T20:56:46.676397Z"
    },
    "papermill": {
     "duration": 1.09445,
     "end_time": "2024-12-30T20:56:46.679348",
     "exception": false,
     "start_time": "2024-12-30T20:56:45.584898",
     "status": "completed"
    },
    "tags": []
   },
   "outputs": [
    {
     "data": {
      "text/plain": [
       "<Axes: title={'center': 'Cover'}, xlabel='F score', ylabel='Features'>"
      ]
     },
     "execution_count": 24,
     "metadata": {},
     "output_type": "execute_result"
    },
    {
     "data": {
      "image/png": "[encoded data removed]",
      "text/plain": [
       "<Figure size 640x480 with 1 Axes>"
      ]
     },
     "metadata": {},
     "output_type": "display_data"
    }
   ],
   "source": [
    "plot_importance(recommender_instance.model, importance_type='cover', title='Cover')"
   ]
  },
  {
   "cell_type": "code",
   "execution_count": 25,
   "id": "4bd1300c",
   "metadata": {
    "_kg_hide-output": true,
    "execution": {
     "iopub.execute_input": "2024-12-30T20:56:48.231222Z",
     "iopub.status.busy": "2024-12-30T20:56:48.230739Z",
     "iopub.status.idle": "2024-12-30T20:56:48.569947Z",
     "shell.execute_reply": "2024-12-30T20:56:48.568815Z"
    },
    "papermill": {
     "duration": 1.172087,
     "end_time": "2024-12-30T20:56:48.571792",
     "exception": false,
     "start_time": "2024-12-30T20:56:47.399705",
     "status": "completed"
    },
    "tags": []
   },
   "outputs": [
    {
     "data": {
      "text/plain": [
       "<Axes: title={'center': 'Weight (Frequence)'}, xlabel='F score', ylabel='Features'>"
      ]
     },
     "execution_count": 25,
     "metadata": {},
     "output_type": "execute_result"
    },
    {
     "data": {
      "image/png": "[encoded data removed]",
      "text/plain": [
       "<Figure size 640x480 with 1 Axes>"
      ]
     },
     "metadata": {},
     "output_type": "display_data"
    }
   ],
   "source": [
    "plot_importance(recommender_instance.model, importance_type='weight', title='Weight (Frequence)')"
   ]
  },
  {
   "cell_type": "markdown",
   "id": "d4caa2cd",
   "metadata": {
    "papermill": {
     "duration": 0.848435,
     "end_time": "2024-12-30T20:56:50.160895",
     "exception": false,
     "start_time": "2024-12-30T20:56:49.312460",
     "status": "completed"
    },
    "tags": []
   },
   "source": [
    "# Submission\n",
    "Train the candidate generator and feature generators with URM_all."
   ]
  },
  {
   "cell_type": "code",
   "execution_count": 26,
   "id": "2dab342e",
   "metadata": {
    "execution": {
     "iopub.execute_input": "2024-12-30T20:56:51.708202Z",
     "iopub.status.busy": "2024-12-30T20:56:51.707755Z",
     "iopub.status.idle": "2024-12-30T21:33:21.761657Z",
     "shell.execute_reply": "2024-12-30T21:33:21.760251Z"
    },
    "papermill": {
     "duration": 2190.884985,
     "end_time": "2024-12-30T21:33:21.763957",
     "exception": false,
     "start_time": "2024-12-30T20:56:50.878972",
     "status": "completed"
    },
    "tags": []
   },
   "outputs": [
    {
     "name": "stdout",
     "output_type": "stream",
     "text": [
      "***TRAINING CONTENT GENERATION RECOMMENDERS***\n",
      "\n",
      "RP3beta Model - TRAINING with its best parameters.\n",
      "RP3betaRecommender: Similarity column 38121 (100.0%), 1572.01 column/sec. Elapsed time 24.25 sec\n",
      "Training of RP3beta completed in 27.45 sec.\n",
      "\n",
      "ItemKNNCF Model - TRAINING with its best parameters.\n",
      "Similarity column 38121 (100.0%), 2391.74 column/sec. Elapsed time 15.94 sec\n",
      "Training of ItemKNNCF completed in 16.56 sec.\n",
      "\n",
      "SLIMElasticNet Model - TRAINING with its best parameters.\n",
      "Model for SLIMElasticNet already exists. Loading the saved model.\n",
      "SLIMElasticNetRecommender: Loading model from file 'TrainedModels/WithoutKFCV/XGBoost/CandidateGenerator/TrainValTestbest_SLIMElasticNet_Recall_TrainValTest_tuned'\n",
      "SLIMElasticNetRecommender: Loading complete\n",
      "***TRAINING FEATURE RECOMMENDERS***\n",
      "\n",
      "RP3beta Model - TRAINING with its best parameters.\n",
      "RP3betaRecommender: Similarity column 38121 (100.0%), 1772.92 column/sec. Elapsed time 21.50 sec\n",
      "Training of RP3beta completed in 22.84 sec.\n",
      "\n",
      "ItemKNNCF Model - TRAINING with its best parameters.\n",
      "Similarity column 38121 (100.0%), 2511.05 column/sec. Elapsed time 15.18 sec\n",
      "Training of ItemKNNCF completed in 15.55 sec.\n",
      "\n",
      "ItemKNNCBF Model - TRAINING with its best parameters.\n",
      "Similarity column 38121 (100.0%), 702.50 column/sec. Elapsed time 54.26 sec\n",
      "Training of ItemKNNCBF completed in 54.67 sec.\n",
      "\n",
      "FasterIALS Model - TRAINING with its best parameters.\n",
      "Model for FasterIALS already exists. Loading the saved model.\n",
      "IALSRecommender: Loading model from file 'TrainedModels/WithoutKFCV/XGBoost/Feature/TrainValTestbest_FasterIALS_MAP_TrainValTest_tuned'\n",
      "IALSRecommender: Loading complete\n",
      "PureSVDItem Model - TRAINING with its best parameters.\n",
      "PureSVDItemRecommender: Computing SVD decomposition...\n",
      "PureSVDItemRecommender: Computing SVD decomposition... Done!\n",
      "Training of PureSVDItem completed in 4.20 min.\n",
      "\n",
      "MultVAE Model - TRAINING with its best parameters.\n",
      "Model for MultVAE already exists. Loading the saved model.\n",
      "SLIMElasticNet Model - TRAINING with its best parameters.\n",
      "Model for SLIMElasticNet already exists. Loading the saved model.\n",
      "SLIMElasticNetRecommender: Loading model from file 'TrainedModels/WithoutKFCV/XGBoost/Feature/TrainValTestbest_SLIMElasticNet_MAP_TrainValTest_tuned'\n",
      "SLIMElasticNetRecommender: Loading complete\n"
     ]
    },
    {
     "name": "stderr",
     "output_type": "stream",
     "text": [
      "100%|██████████| 35736/35736 [01:31<00:00, 391.97it/s]\n",
      "100%|██████████| 35736/35736 [27:49<00:00, 21.40it/s]\n"
     ]
    }
   ],
   "source": [
    "if config['tune_best_params']:\n",
    "\n",
    "    print(\"***TRAINING CONTENT GENERATION RECOMMENDERS***\\n\")\n",
    "    candidate_generator_recommenders = fit_recommenders(\"Recall\", \"TrainValTest\", URM_all, ICM_all, cg_recommenders, GH_PATH, \"cg\", repo)\n",
    "    \n",
    "    print(\"***TRAINING FEATURE RECOMMENDERS***\\n\")\n",
    "    features_recommenders = fit_recommenders(\"MAP\", \"TrainValTest\", URM_all, ICM_all, f_recommenders, GH_PATH, \"f\", repo)\n",
    "\n",
    "    all_dataframe, all_groups = create_XGBoost_dataframe(URM_all, candidate_generator_recommenders, features_recommenders, ICM_all, cutoff=50, categorical=config[\"categorical\"], contents=config[\"contents\"])\n",
    "\n",
    "    del candidate_generator_recommenders\n",
    "    del features_recommenders\n",
    "    \n",
    "    recommender_instance.set_recommendations_dataframe(all_dataframe)"
   ]
  },
  {
   "cell_type": "markdown",
   "id": "c3995c43",
   "metadata": {
    "papermill": {
     "duration": 1.68014,
     "end_time": "2024-12-30T21:33:25.016367",
     "exception": false,
     "start_time": "2024-12-30T21:33:23.336227",
     "status": "completed"
    },
    "tags": []
   },
   "source": [
    "Create the recommendations for the submission."
   ]
  },
  {
   "cell_type": "code",
   "execution_count": 27,
   "id": "f65f34e5",
   "metadata": {
    "execution": {
     "iopub.execute_input": "2024-12-30T21:33:29.247350Z",
     "iopub.status.busy": "2024-12-30T21:33:29.246827Z",
     "iopub.status.idle": "2024-12-30T21:42:02.877467Z",
     "shell.execute_reply": "2024-12-30T21:42:02.875521Z"
    },
    "papermill": {
     "duration": 517.622859,
     "end_time": "2024-12-30T21:42:04.621861",
     "exception": false,
     "start_time": "2024-12-30T21:33:26.999002",
     "status": "completed"
    },
    "tags": []
   },
   "outputs": [
    {
     "name": "stdout",
     "output_type": "stream",
     "text": [
      "Submission file saved as /kaggle/working/submission_SimpleXGBoostNoCont_MAP.csv\n"
     ]
    }
   ],
   "source": [
    "if config['tune_best_params']:\n",
    "\n",
    "    data_target_users_test = pd.read_csv('/kaggle/input/recommender-system-2024-challenge-polimi/data_target_users_test.csv')\n",
    "    create_submission(data_target_users_test, recommender_instance, f'/kaggle/working/submission_{config[\"model\"]}_{config[\"metric\"]}.csv')"
   ]
  },
  {
   "cell_type": "markdown",
   "id": "e8e8f036",
   "metadata": {
    "execution": {
     "iopub.execute_input": "2024-11-14T00:04:16.877791Z",
     "iopub.status.busy": "2024-11-14T00:04:16.877275Z",
     "iopub.status.idle": "2024-11-14T00:04:16.883170Z",
     "shell.execute_reply": "2024-11-14T00:04:16.881889Z",
     "shell.execute_reply.started": "2024-11-14T00:04:16.877743Z"
    },
    "papermill": {
     "duration": 1.685495,
     "end_time": "2024-12-30T21:42:07.893668",
     "exception": false,
     "start_time": "2024-12-30T21:42:06.208173",
     "status": "completed"
    },
    "tags": []
   },
   "source": [
    "# Save Version on GitHub "
   ]
  },
  {
   "cell_type": "markdown",
   "id": "367919d9",
   "metadata": {
    "papermill": {
     "duration": 1.592682,
     "end_time": "2024-12-30T21:42:11.130980",
     "exception": false,
     "start_time": "2024-12-30T21:42:09.538298",
     "status": "completed"
    },
    "tags": []
   },
   "source": [
    "Write or import a json file where best hyperparameters are saved. "
   ]
  },
  {
   "cell_type": "code",
   "execution_count": 28,
   "id": "3666b7a2",
   "metadata": {
    "execution": {
     "iopub.execute_input": "2024-12-30T21:42:14.149650Z",
     "iopub.status.busy": "2024-12-30T21:42:14.149060Z",
     "iopub.status.idle": "2024-12-30T21:42:14.157375Z",
     "shell.execute_reply": "2024-12-30T21:42:14.156114Z"
    },
    "papermill": {
     "duration": 1.593974,
     "end_time": "2024-12-30T21:42:14.159803",
     "exception": false,
     "start_time": "2024-12-30T21:42:12.565829",
     "status": "completed"
    },
    "tags": []
   },
   "outputs": [],
   "source": [
    "if config['tune_parameters']:\n",
    "    with open(f'/kaggle/working/best_params_{config[\"model\"]}_{config[\"metric\"]}.json', 'w') as params_file:\n",
    "        json.dump(optuna_study.best_params, params_file)\n",
    "        \n",
    "    if config['save_github']:\n",
    "        upload_file(\n",
    "            f'/kaggle/working/best_params_{config[\"model\"]}_{config[\"metric\"]}.json', \n",
    "            f'{GH_PATH}/{D_PATH}/{config[\"model\"]}Recommender/Optimizing{config[\"metric\"]}/best_params_{config[\"model\"]}_{config[\"metric\"]}.json', \n",
    "            f'{config[\"model\"]}_{config[\"metric\"]} tuning results (from kaggle notebook)',\n",
    "            repo\n",
    "        )\n",
    "elif config['copy_prev_best_params']:\n",
    "    shutil.copyfile(\n",
    "        f'{K_PATH}/{GH_PATH}/{D_PATH}/{config[\"model\"]}Recommender/Optimizing{config[\"metric\"]}/'\\\n",
    "        f'best_params_{config[\"model\"]}_{config[\"metric\"]}.json', \n",
    "        f'/kaggle/working/best_params_{config[\"model\"]}_{config[\"metric\"]}.json'\n",
    "    )"
   ]
  },
  {
   "cell_type": "markdown",
   "id": "bb75daa9",
   "metadata": {
    "execution": {
     "iopub.execute_input": "2024-11-14T00:41:34.294243Z",
     "iopub.status.busy": "2024-11-14T00:41:34.293739Z",
     "iopub.status.idle": "2024-11-14T00:41:34.301478Z",
     "shell.execute_reply": "2024-11-14T00:41:34.299869Z",
     "shell.execute_reply.started": "2024-11-14T00:41:34.294186Z"
    },
    "papermill": {
     "duration": 1.575388,
     "end_time": "2024-12-30T21:42:17.300397",
     "exception": false,
     "start_time": "2024-12-30T21:42:15.725009",
     "status": "completed"
    },
    "tags": []
   },
   "source": [
    "Save the history of the tuned model."
   ]
  },
  {
   "cell_type": "code",
   "execution_count": 29,
   "id": "3dc0f39f",
   "metadata": {
    "execution": {
     "iopub.execute_input": "2024-12-30T21:42:20.510078Z",
     "iopub.status.busy": "2024-12-30T21:42:20.509590Z",
     "iopub.status.idle": "2024-12-30T21:42:20.515472Z",
     "shell.execute_reply": "2024-12-30T21:42:20.514275Z"
    },
    "papermill": {
     "duration": 1.635279,
     "end_time": "2024-12-30T21:42:20.517243",
     "exception": false,
     "start_time": "2024-12-30T21:42:18.881964",
     "status": "completed"
    },
    "tags": []
   },
   "outputs": [],
   "source": [
    "if config['save_github'] and config['tune_parameters']:\n",
    "    upload_file(\n",
    "        config['database_path'], \n",
    "        f'{GH_PATH}/{D_PATH}/{config[\"model\"]}Recommender/Optimizing{config[\"metric\"]}/history_{config[\"model\"]}_{config[\"metric\"]}.db',\n",
    "        f'Tuning {config[\"model\"]}_{config[\"metric\"]} db updated results (from kaggle notebook)',\n",
    "        repo\n",
    "    )"
   ]
  },
  {
   "cell_type": "markdown",
   "id": "de92cce8",
   "metadata": {
    "papermill": {
     "duration": 1.585855,
     "end_time": "2024-12-30T21:42:23.687879",
     "exception": false,
     "start_time": "2024-12-30T21:42:22.102024",
     "status": "completed"
    },
    "tags": []
   },
   "source": [
    "Save the best trained model and its submission."
   ]
  },
  {
   "cell_type": "code",
   "execution_count": 30,
   "id": "b72d2072",
   "metadata": {
    "execution": {
     "iopub.execute_input": "2024-12-30T21:42:26.883948Z",
     "iopub.status.busy": "2024-12-30T21:42:26.883481Z",
     "iopub.status.idle": "2024-12-30T21:42:28.248575Z",
     "shell.execute_reply": "2024-12-30T21:42:28.247018Z"
    },
    "papermill": {
     "duration": 2.9725,
     "end_time": "2024-12-30T21:42:28.250730",
     "exception": false,
     "start_time": "2024-12-30T21:42:25.278230",
     "status": "completed"
    },
    "tags": []
   },
   "outputs": [
    {
     "name": "stdout",
     "output_type": "stream",
     "text": [
      "File 'TrainedModels/WithoutKFCV/XGBoost/SimpleXGBoostNoContRecommender/OptimizingMAP/Submission/submission_SimpleXGBoostNoCont_MAP.csv' created successfully.\n"
     ]
    }
   ],
   "source": [
    "if config['save_github'] and config['tune_best_params']: \n",
    "    upload_file(\n",
    "                f'/kaggle/working/submission_{config[\"model\"]}_{config[\"metric\"]}.csv', \n",
    "                f'{GH_PATH}/{D_PATH}/{config[\"model\"]}Recommender/Optimizing{config[\"metric\"]}/Submission/submission_{config[\"model\"]}_{config[\"metric\"]}.csv', \n",
    "                f'New {config[\"model\"]}_{config[\"metric\"]} submission (from kaggle notebook)',\n",
    "                repo\n",
    "            )"
   ]
  }
 ],
 "metadata": {
  "kaggle": {
   "accelerator": "none",
   "dataSources": [
    {
     "databundleVersionId": 9982103,
     "sourceId": 87439,
     "sourceType": "competition"
    },
    {
     "datasetId": 6390368,
     "sourceId": 10321338,
     "sourceType": "datasetVersion"
    },
    {
     "datasetId": 6390688,
     "sourceId": 10321786,
     "sourceType": "datasetVersion"
    },
    {
     "datasetId": 6390755,
     "sourceId": 10321877,
     "sourceType": "datasetVersion"
    },
    {
     "datasetId": 6391122,
     "sourceId": 10322447,
     "sourceType": "datasetVersion"
    },
    {
     "datasetId": 6392420,
     "sourceId": 10324491,
     "sourceType": "datasetVersion"
    },
    {
     "datasetId": 6392432,
     "sourceId": 10324507,
     "sourceType": "datasetVersion"
    },
    {
     "datasetId": 6392448,
     "sourceId": 10324524,
     "sourceType": "datasetVersion"
    },
    {
     "datasetId": 6392454,
     "sourceId": 10324531,
     "sourceType": "datasetVersion"
    },
    {
     "datasetId": 6392495,
     "sourceId": 10324583,
     "sourceType": "datasetVersion"
    },
    {
     "datasetId": 6392508,
     "sourceId": 10324599,
     "sourceType": "datasetVersion"
    },
    {
     "datasetId": 6392523,
     "sourceId": 10324620,
     "sourceType": "datasetVersion"
    },
    {
     "datasetId": 6392689,
     "sourceId": 10324848,
     "sourceType": "datasetVersion"
    },
    {
     "datasetId": 6392704,
     "sourceId": 10324867,
     "sourceType": "datasetVersion"
    },
    {
     "datasetId": 6392721,
     "sourceId": 10324888,
     "sourceType": "datasetVersion"
    },
    {
     "datasetId": 6392739,
     "sourceId": 10324912,
     "sourceType": "datasetVersion"
    }
   ],
   "dockerImageVersionId": 30822,
   "isGpuEnabled": false,
   "isInternetEnabled": true,
   "language": "python",
   "sourceType": "notebook"
  },
  "kernelspec": {
   "display_name": "Python 3",
   "language": "python",
   "name": "python3"
  },
  "language_info": {
   "codemirror_mode": {
    "name": "ipython",
    "version": 3
   },
   "file_extension": ".py",
   "mimetype": "text/x-python",
   "name": "python",
   "nbconvert_exporter": "python",
   "pygments_lexer": "ipython3",
   "version": "3.10.12"
  },
  "papermill": {
   "default_parameters": {},
   "duration": 6431.780514,
   "end_time": "2024-12-30T21:42:32.542263",
   "environment_variables": {},
   "exception": null,
   "input_path": "__notebook__.ipynb",
   "output_path": "__notebook__.ipynb",
   "parameters": {},
   "start_time": "2024-12-30T19:55:20.761749",
   "version": "2.6.0"
  }
 },
 "nbformat": 4,
 "nbformat_minor": 5
}
