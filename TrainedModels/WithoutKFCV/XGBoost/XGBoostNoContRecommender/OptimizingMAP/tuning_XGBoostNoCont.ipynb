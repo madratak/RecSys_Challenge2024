{
 "cells": [
  {
   "cell_type": "markdown",
   "id": "4242a05c",
   "metadata": {
    "papermill": {
     "duration": 0.009009,
     "end_time": "2024-12-30T17:09:13.084304",
     "exception": false,
     "start_time": "2024-12-30T17:09:13.075295",
     "status": "completed"
    },
    "tags": []
   },
   "source": [
    "# Set connection with GitHub"
   ]
  },
  {
   "cell_type": "code",
   "execution_count": 1,
   "id": "b1078103",
   "metadata": {
    "execution": {
     "iopub.execute_input": "2024-12-30T17:09:13.102475Z",
     "iopub.status.busy": "2024-12-30T17:09:13.102107Z",
     "iopub.status.idle": "2024-12-30T17:09:13.107268Z",
     "shell.execute_reply": "2024-12-30T17:09:13.106253Z"
    },
    "papermill": {
     "duration": 0.016194,
     "end_time": "2024-12-30T17:09:13.109043",
     "exception": false,
     "start_time": "2024-12-30T17:09:13.092849",
     "status": "completed"
    },
    "tags": []
   },
   "outputs": [],
   "source": [
    "# ! cd /kaggle/working && rm -rf RECsys_Challenge2024"
   ]
  },
  {
   "cell_type": "code",
   "execution_count": 2,
   "id": "253807b0",
   "metadata": {
    "_cell_guid": "b1076dfc-b9ad-4769-8c92-a6c4dae69d19",
    "_uuid": "8f2839f25d086af736a60e9eeb907d3b93b6e0e5",
    "execution": {
     "iopub.execute_input": "2024-12-30T17:09:13.126757Z",
     "iopub.status.busy": "2024-12-30T17:09:13.126338Z",
     "iopub.status.idle": "2024-12-30T17:09:34.332387Z",
     "shell.execute_reply": "2024-12-30T17:09:34.331252Z"
    },
    "papermill": {
     "duration": 21.21693,
     "end_time": "2024-12-30T17:09:34.334373",
     "exception": false,
     "start_time": "2024-12-30T17:09:13.117443",
     "status": "completed"
    },
    "tags": []
   },
   "outputs": [
    {
     "name": "stdout",
     "output_type": "stream",
     "text": [
      "Cloning into 'RECsys_Challenge2024'...\r\n",
      "remote: Enumerating objects: 5056, done.\u001b[K\r\n",
      "remote: Counting objects: 100% (128/128), done.\u001b[K\r\n",
      "remote: Compressing objects: 100% (81/81), done.\u001b[K\r\n",
      "remote: Total 5056 (delta 61), reused 74 (delta 27), pack-reused 4928 (from 3)\u001b[K\r\n",
      "Receiving objects: 100% (5056/5056), 379.09 MiB | 22.91 MiB/s, done.\r\n",
      "Resolving deltas: 100% (2910/2910), done.\r\n",
      "Updating files: 100% (421/421), done.\r\n"
     ]
    }
   ],
   "source": [
    "from kaggle_secrets import UserSecretsClient\n",
    "\n",
    "token = UserSecretsClient().get_secret(\"Token\")\n",
    "\n",
    "! git clone https://{token}@github.com/madratak/RECsys_Challenge2024.git"
   ]
  },
  {
   "cell_type": "code",
   "execution_count": 3,
   "id": "777366ef",
   "metadata": {
    "execution": {
     "iopub.execute_input": "2024-12-30T17:09:34.361831Z",
     "iopub.status.busy": "2024-12-30T17:09:34.361407Z",
     "iopub.status.idle": "2024-12-30T17:09:40.854366Z",
     "shell.execute_reply": "2024-12-30T17:09:40.852876Z"
    },
    "papermill": {
     "duration": 6.508746,
     "end_time": "2024-12-30T17:09:40.856552",
     "exception": false,
     "start_time": "2024-12-30T17:09:34.347806",
     "status": "completed"
    },
    "tags": []
   },
   "outputs": [
    {
     "name": "stdout",
     "output_type": "stream",
     "text": [
      "Collecting PyGithub\r\n",
      "  Downloading PyGithub-2.5.0-py3-none-any.whl.metadata (3.9 kB)\r\n",
      "Requirement already satisfied: requests in /usr/local/lib/python3.10/dist-packages (2.32.3)\r\n",
      "Collecting pynacl>=1.4.0 (from PyGithub)\r\n",
      "  Downloading PyNaCl-1.5.0-cp36-abi3-manylinux_2_17_x86_64.manylinux2014_x86_64.manylinux_2_24_x86_64.whl.metadata (8.6 kB)\r\n",
      "Requirement already satisfied: pyjwt>=2.4.0 in /usr/local/lib/python3.10/dist-packages (from pyjwt[crypto]>=2.4.0->PyGithub) (2.9.0)\r\n",
      "Requirement already satisfied: typing-extensions>=4.0.0 in /usr/local/lib/python3.10/dist-packages (from PyGithub) (4.12.2)\r\n",
      "Requirement already satisfied: urllib3>=1.26.0 in /usr/local/lib/python3.10/dist-packages (from PyGithub) (2.2.3)\r\n",
      "Requirement already satisfied: Deprecated in /usr/local/lib/python3.10/dist-packages (from PyGithub) (1.2.15)\r\n",
      "Requirement already satisfied: charset-normalizer<4,>=2 in /usr/local/lib/python3.10/dist-packages (from requests) (3.3.2)\r\n",
      "Requirement already satisfied: idna<4,>=2.5 in /usr/local/lib/python3.10/dist-packages (from requests) (3.10)\r\n",
      "Requirement already satisfied: certifi>=2017.4.17 in /usr/local/lib/python3.10/dist-packages (from requests) (2024.8.30)\r\n",
      "Requirement already satisfied: cryptography>=3.4.0 in /usr/local/lib/python3.10/dist-packages (from pyjwt[crypto]>=2.4.0->PyGithub) (43.0.1)\r\n",
      "Requirement already satisfied: cffi>=1.4.1 in /usr/local/lib/python3.10/dist-packages (from pynacl>=1.4.0->PyGithub) (1.17.1)\r\n",
      "Requirement already satisfied: wrapt<2,>=1.10 in /usr/local/lib/python3.10/dist-packages (from Deprecated->PyGithub) (1.16.0)\r\n",
      "Requirement already satisfied: pycparser in /usr/local/lib/python3.10/dist-packages (from cffi>=1.4.1->pynacl>=1.4.0->PyGithub) (2.22)\r\n",
      "Downloading PyGithub-2.5.0-py3-none-any.whl (375 kB)\r\n",
      "\u001b[2K   \u001b[90m━━━━━━━━━━━━━━━━━━━━━━━━━━━━━━━━━━━━━━━━\u001b[0m \u001b[32m375.9/375.9 kB\u001b[0m \u001b[31m6.6 MB/s\u001b[0m eta \u001b[36m0:00:00\u001b[0m\r\n",
      "\u001b[?25hDownloading PyNaCl-1.5.0-cp36-abi3-manylinux_2_17_x86_64.manylinux2014_x86_64.manylinux_2_24_x86_64.whl (856 kB)\r\n",
      "\u001b[2K   \u001b[90m━━━━━━━━━━━━━━━━━━━━━━━━━━━━━━━━━━━━━━━━\u001b[0m \u001b[32m856.7/856.7 kB\u001b[0m \u001b[31m23.6 MB/s\u001b[0m eta \u001b[36m0:00:00\u001b[0m\r\n",
      "\u001b[?25hInstalling collected packages: pynacl, PyGithub\r\n",
      "Successfully installed PyGithub-2.5.0 pynacl-1.5.0\r\n"
     ]
    }
   ],
   "source": [
    "! pip install PyGithub requests"
   ]
  },
  {
   "cell_type": "code",
   "execution_count": 4,
   "id": "51e02375",
   "metadata": {
    "execution": {
     "iopub.execute_input": "2024-12-30T17:09:40.888475Z",
     "iopub.status.busy": "2024-12-30T17:09:40.888129Z",
     "iopub.status.idle": "2024-12-30T17:09:45.760582Z",
     "shell.execute_reply": "2024-12-30T17:09:45.759254Z"
    },
    "papermill": {
     "duration": 4.891946,
     "end_time": "2024-12-30T17:09:45.762532",
     "exception": false,
     "start_time": "2024-12-30T17:09:40.870586",
     "status": "completed"
    },
    "tags": []
   },
   "outputs": [
    {
     "name": "stdout",
     "output_type": "stream",
     "text": [
      "Collecting implicit\r\n",
      "  Downloading implicit-0.7.2-cp310-cp310-manylinux2014_x86_64.whl.metadata (6.1 kB)\r\n",
      "Requirement already satisfied: numpy>=1.17.0 in /usr/local/lib/python3.10/dist-packages (from implicit) (1.26.4)\r\n",
      "Requirement already satisfied: scipy>=0.16 in /usr/local/lib/python3.10/dist-packages (from implicit) (1.13.1)\r\n",
      "Requirement already satisfied: tqdm>=4.27 in /usr/local/lib/python3.10/dist-packages (from implicit) (4.66.5)\r\n",
      "Requirement already satisfied: threadpoolctl in /usr/local/lib/python3.10/dist-packages (from implicit) (3.5.0)\r\n",
      "Downloading implicit-0.7.2-cp310-cp310-manylinux2014_x86_64.whl (8.9 MB)\r\n",
      "\u001b[2K   \u001b[90m━━━━━━━━━━━━━━━━━━━━━━━━━━━━━━━━━━━━━━━━\u001b[0m \u001b[32m8.9/8.9 MB\u001b[0m \u001b[31m58.4 MB/s\u001b[0m eta \u001b[36m0:00:00\u001b[0m\r\n",
      "\u001b[?25hInstalling collected packages: implicit\r\n",
      "Successfully installed implicit-0.7.2\r\n"
     ]
    }
   ],
   "source": [
    "! pip install implicit"
   ]
  },
  {
   "cell_type": "code",
   "execution_count": 5,
   "id": "ac3c3dec",
   "metadata": {
    "_kg_hide-input": false,
    "execution": {
     "iopub.execute_input": "2024-12-30T17:09:45.792588Z",
     "iopub.status.busy": "2024-12-30T17:09:45.792177Z",
     "iopub.status.idle": "2024-12-30T17:12:27.434301Z",
     "shell.execute_reply": "2024-12-30T17:12:27.433055Z"
    },
    "papermill": {
     "duration": 161.659405,
     "end_time": "2024-12-30T17:12:27.436336",
     "exception": false,
     "start_time": "2024-12-30T17:09:45.776931",
     "status": "completed"
    },
    "tags": []
   },
   "outputs": [
    {
     "name": "stdout",
     "output_type": "stream",
     "text": [
      "/kaggle/working/RECsys_Challenge2024\n",
      "run_compile_all_cython: Found 11 Cython files in 5 folders...\r\n",
      "run_compile_all_cython: All files will be compiled using your current python environment: '/usr/bin/python3'\r\n",
      "Compiling [1/11]: MatrixFactorizationImpressions_Cython_Epoch.pyx... \r\n",
      "In file included from \u001b[01m\u001b[K/usr/local/lib/python3.10/dist-packages/numpy/core/include/numpy/ndarraytypes.h:1929\u001b[m\u001b[K,\r\n",
      "                 from \u001b[01m\u001b[K/usr/local/lib/python3.10/dist-packages/numpy/core/include/numpy/ndarrayobject.h:12\u001b[m\u001b[K,\r\n",
      "                 from \u001b[01m\u001b[K/usr/local/lib/python3.10/dist-packages/numpy/core/include/numpy/arrayobject.h:5\u001b[m\u001b[K,\r\n",
      "                 from \u001b[01m\u001b[KMatrixFactorizationImpressions_Cython_Epoch.c:1252\u001b[m\u001b[K:\r\n",
      "\u001b[01m\u001b[K/usr/local/lib/python3.10/dist-packages/numpy/core/include/numpy/npy_1_7_deprecated_api.h:17:2:\u001b[m\u001b[K \u001b[01;35m\u001b[Kwarning: \u001b[m\u001b[K#warning \"Using deprecated NumPy API, disable it with \" \"#define NPY_NO_DEPRECATED_API NPY_1_7_API_VERSION\" [\u001b[01;35m\u001b[K\u001b]8;;https://gcc.gnu.org/onlinedocs/gcc/Warning-Options.html#index-Wcpp\u0007-Wcpp\u001b]8;;\u0007\u001b[m\u001b[K]\r\n",
      "   17 | #\u001b[01;35m\u001b[Kwarning\u001b[m\u001b[K \"Using deprecated NumPy API, disable it with \" \\\r\n",
      "      |  \u001b[01;35m\u001b[K^~~~~~~\u001b[m\u001b[K\r\n",
      "\u001b[01m\u001b[KMatrixFactorizationImpressions_Cython_Epoch.c:\u001b[m\u001b[K In function ‘\u001b[01m\u001b[K__pyx_f_43MatrixFactorizationImpressions_Cython_Epoch_32MatrixFactorization_Cython_Epoch_sampleBPR_Cython\u001b[m\u001b[K’:\r\n",
      "\u001b[01m\u001b[KMatrixFactorizationImpressions_Cython_Epoch.c:30353:17:\u001b[m\u001b[K \u001b[01;35m\u001b[Kwarning: \u001b[m\u001b[K‘\u001b[01m\u001b[K__pyx_v_start_pos_impression_items\u001b[m\u001b[K’ may be used uninitialized in this function [\u001b[01;35m\u001b[K\u001b]8;;https://gcc.gnu.org/onlinedocs/gcc/Warning-Options.html#index-Wmaybe-uninitialized\u0007-Wmaybe-uninitialized\u001b]8;;\u0007\u001b[m\u001b[K]\r\n",
      "30353 |       \u001b[01;35m\u001b[K__pyx_t_4 = (__pyx_v_start_pos_impression_items + __pyx_v_index)\u001b[m\u001b[K;\r\n",
      "      |       \u001b[01;35m\u001b[K~~~~~~~~~~^~~~~~~~~~~~~~~~~~~~~~~~~~~~~~~~~~~~~~~~~~~~~~~~~~~~~~\u001b[m\u001b[K\r\n",
      "\u001b[01m\u001b[KMatrixFactorizationImpressions_Cython_Epoch.c:\u001b[m\u001b[K In function ‘\u001b[01m\u001b[K__pyx_pf_43MatrixFactorizationImpressions_Cython_Epoch_32MatrixFactorization_Cython_Epoch_10epochIteration_Cython_ASY_SVD_SGD\u001b[m\u001b[K’:\r\n",
      "\u001b[01m\u001b[KMatrixFactorizationImpressions_Cython_Epoch.c:26112:66:\u001b[m\u001b[K \u001b[01;35m\u001b[Kwarning: \u001b[m\u001b[K‘\u001b[01m\u001b[K__pyx_v_end_pos_seen_items\u001b[m\u001b[K’ may be used uninitialized in this function [\u001b[01;35m\u001b[K\u001b]8;;https://gcc.gnu.org/onlinedocs/gcc/Warning-Options.html#index-Wmaybe-uninitialized\u0007-Wmaybe-uninitialized\u001b]8;;\u0007\u001b[m\u001b[K]\r\n",
      "26112 |       for (__pyx_t_22 = __pyx_v_start_pos_seen_items; \u001b[01;35m\u001b[K__pyx_t_22 < __pyx_t_21\u001b[m\u001b[K; __pyx_t_22+=1) {\r\n",
      "      |                                                       \u001b[01;35m\u001b[K~~~~~~~~~~~^~~~~~~~~~~~\u001b[m\u001b[K\r\n",
      "\u001b[01m\u001b[KMatrixFactorizationImpressions_Cython_Epoch.c:26112:66:\u001b[m\u001b[K \u001b[01;35m\u001b[Kwarning: \u001b[m\u001b[K‘\u001b[01m\u001b[K__pyx_v_start_pos_seen_items\u001b[m\u001b[K’ may be used uninitialized in this function [\u001b[01;35m\u001b[K\u001b]8;;https://gcc.gnu.org/onlinedocs/gcc/Warning-Options.html#index-Wmaybe-uninitialized\u0007-Wmaybe-uninitialized\u001b]8;;\u0007\u001b[m\u001b[K]\r\n",
      "/usr/local/lib/python3.10/dist-packages/Cython/Compiler/Main.py:381: FutureWarning: Cython directive 'language_level' not set, using '3str' for now (Py3). This has changed from earlier releases! File: /kaggle/working/RECsys_Challenge2024/Recommenders/MatrixFactorization/Cython/MatrixFactorizationImpressions_Cython_Epoch.pyx\r\n",
      "  tree = Parsing.p_module(s, pxd, full_module_name)\r\n",
      "Compiling [1/11]: MatrixFactorizationImpressions_Cython_Epoch.pyx... PASS\r\n",
      "\r\n",
      "Compiling [2/11]: MatrixFactorization_Cython_Epoch.pyx... \r\n",
      "In file included from \u001b[01m\u001b[K/usr/local/lib/python3.10/dist-packages/numpy/core/include/numpy/ndarraytypes.h:1929\u001b[m\u001b[K,\r\n",
      "                 from \u001b[01m\u001b[K/usr/local/lib/python3.10/dist-packages/numpy/core/include/numpy/ndarrayobject.h:12\u001b[m\u001b[K,\r\n",
      "                 from \u001b[01m\u001b[K/usr/local/lib/python3.10/dist-packages/numpy/core/include/numpy/arrayobject.h:5\u001b[m\u001b[K,\r\n",
      "                 from \u001b[01m\u001b[KMatrixFactorization_Cython_Epoch.c:1252\u001b[m\u001b[K:\r\n",
      "\u001b[01m\u001b[K/usr/local/lib/python3.10/dist-packages/numpy/core/include/numpy/npy_1_7_deprecated_api.h:17:2:\u001b[m\u001b[K \u001b[01;35m\u001b[Kwarning: \u001b[m\u001b[K#warning \"Using deprecated NumPy API, disable it with \" \"#define NPY_NO_DEPRECATED_API NPY_1_7_API_VERSION\" [\u001b[01;35m\u001b[K\u001b]8;;https://gcc.gnu.org/onlinedocs/gcc/Warning-Options.html#index-Wcpp\u0007-Wcpp\u001b]8;;\u0007\u001b[m\u001b[K]\r\n",
      "   17 | #\u001b[01;35m\u001b[Kwarning\u001b[m\u001b[K \"Using deprecated NumPy API, disable it with \" \\\r\n",
      "      |  \u001b[01;35m\u001b[K^~~~~~~\u001b[m\u001b[K\r\n",
      "\u001b[01m\u001b[KMatrixFactorization_Cython_Epoch.c:\u001b[m\u001b[K In function ‘\u001b[01m\u001b[K__pyx_pf_32MatrixFactorization_Cython_Epoch_32MatrixFactorization_Cython_Epoch_10epochIteration_Cython_ASY_SVD_SGD\u001b[m\u001b[K’:\r\n",
      "\u001b[01m\u001b[KMatrixFactorization_Cython_Epoch.c:26256:68:\u001b[m\u001b[K \u001b[01;35m\u001b[Kwarning: \u001b[m\u001b[K‘\u001b[01m\u001b[K__pyx_v_end_pos_seen_items\u001b[m\u001b[K’ may be used uninitialized in this function [\u001b[01;35m\u001b[K\u001b]8;;https://gcc.gnu.org/onlinedocs/gcc/Warning-Options.html#index-Wmaybe-uninitialized\u0007-Wmaybe-uninitialized\u001b]8;;\u0007\u001b[m\u001b[K]\r\n",
      "26256 |         for (__pyx_t_22 = __pyx_v_start_pos_seen_items; \u001b[01;35m\u001b[K__pyx_t_22 < __pyx_t_21\u001b[m\u001b[K; __pyx_t_22+=1) {\r\n",
      "      |                                                         \u001b[01;35m\u001b[K~~~~~~~~~~~^~~~~~~~~~~~\u001b[m\u001b[K\r\n",
      "\u001b[01m\u001b[KMatrixFactorization_Cython_Epoch.c:26256:68:\u001b[m\u001b[K \u001b[01;35m\u001b[Kwarning: \u001b[m\u001b[K‘\u001b[01m\u001b[K__pyx_v_start_pos_seen_items\u001b[m\u001b[K’ may be used uninitialized in this function [\u001b[01;35m\u001b[K\u001b]8;;https://gcc.gnu.org/onlinedocs/gcc/Warning-Options.html#index-Wmaybe-uninitialized\u0007-Wmaybe-uninitialized\u001b]8;;\u0007\u001b[m\u001b[K]\r\n",
      "/usr/local/lib/python3.10/dist-packages/Cython/Compiler/Main.py:381: FutureWarning: Cython directive 'language_level' not set, using '3str' for now (Py3). This has changed from earlier releases! File: /kaggle/working/RECsys_Challenge2024/Recommenders/MatrixFactorization/Cython/MatrixFactorization_Cython_Epoch.pyx\r\n",
      "  tree = Parsing.p_module(s, pxd, full_module_name)\r\n",
      "Compiling [2/11]: MatrixFactorization_Cython_Epoch.pyx... PASS\r\n",
      "\r\n",
      "Compiling [3/11]: Compute_Similarity_Cython.pyx... \r\n",
      "warning: Compute_Similarity_Cython.pyx:21:0: The 'IF' statement is deprecated and will be removed in a future Cython version. Consider using runtime conditions or C macros instead. See https://github.com/cython/cython/issues/4310\r\n",
      "In file included from \u001b[01m\u001b[K/usr/local/lib/python3.10/dist-packages/numpy/core/include/numpy/ndarraytypes.h:1929\u001b[m\u001b[K,\r\n",
      "                 from \u001b[01m\u001b[K/usr/local/lib/python3.10/dist-packages/numpy/core/include/numpy/ndarrayobject.h:12\u001b[m\u001b[K,\r\n",
      "                 from \u001b[01m\u001b[K/usr/local/lib/python3.10/dist-packages/numpy/core/include/numpy/arrayobject.h:5\u001b[m\u001b[K,\r\n",
      "                 from \u001b[01m\u001b[KCompute_Similarity_Cython.c:1252\u001b[m\u001b[K:\r\n",
      "\u001b[01m\u001b[K/usr/local/lib/python3.10/dist-packages/numpy/core/include/numpy/npy_1_7_deprecated_api.h:17:2:\u001b[m\u001b[K \u001b[01;35m\u001b[Kwarning: \u001b[m\u001b[K#warning \"Using deprecated NumPy API, disable it with \" \"#define NPY_NO_DEPRECATED_API NPY_1_7_API_VERSION\" [\u001b[01;35m\u001b[K\u001b]8;;https://gcc.gnu.org/onlinedocs/gcc/Warning-Options.html#index-Wcpp\u0007-Wcpp\u001b]8;;\u0007\u001b[m\u001b[K]\r\n",
      "   17 | #\u001b[01;35m\u001b[Kwarning\u001b[m\u001b[K \"Using deprecated NumPy API, disable it with \" \\\r\n",
      "      |  \u001b[01;35m\u001b[K^~~~~~~\u001b[m\u001b[K\r\n",
      "/usr/local/lib/python3.10/dist-packages/Cython/Compiler/Main.py:381: FutureWarning: Cython directive 'language_level' not set, using '3str' for now (Py3). This has changed from earlier releases! File: /kaggle/working/RECsys_Challenge2024/Recommenders/Similarity/Cython/Compute_Similarity_Cython.pyx\r\n",
      "  tree = Parsing.p_module(s, pxd, full_module_name)\r\n",
      "warning: Compute_Similarity_Cython.pyx:21:0: The 'IF' statement is deprecated and will be removed in a future Cython version. Consider using runtime conditions or C macros instead. See https://github.com/cython/cython/issues/4310\r\n",
      "Compiling [3/11]: Compute_Similarity_Cython.pyx... PASS\r\n",
      "\r\n",
      "Compiling [4/11]: Sparse_Matrix_Tree_CSR.pyx... \r\n",
      "warning: Sparse_Matrix_Tree_CSR.pyx:132:34: Non-trivial type declarators in shared declaration (e.g. mix of pointers and values). Each pointer declaration should be on its own line.\r\n",
      "warning: Sparse_Matrix_Tree_CSR.pyx:132:66: Non-trivial type declarators in shared declaration (e.g. mix of pointers and values). Each pointer declaration should be on its own line.\r\n",
      "warning: Sparse_Matrix_Tree_CSR.pyx:343:35: Non-trivial type declarators in shared declaration (e.g. mix of pointers and values). Each pointer declaration should be on its own line.\r\n",
      "warning: Sparse_Matrix_Tree_CSR.pyx:343:52: Non-trivial type declarators in shared declaration (e.g. mix of pointers and values). Each pointer declaration should be on its own line.\r\n",
      "warning: Sparse_Matrix_Tree_CSR.pyx:442:35: Non-trivial type declarators in shared declaration (e.g. mix of pointers and values). Each pointer declaration should be on its own line.\r\n",
      "warning: Sparse_Matrix_Tree_CSR.pyx:442:53: Non-trivial type declarators in shared declaration (e.g. mix of pointers and values). Each pointer declaration should be on its own line.\r\n",
      "warning: Sparse_Matrix_Tree_CSR.pyx:442:69: Non-trivial type declarators in shared declaration (e.g. mix of pointers and values). Each pointer declaration should be on its own line.\r\n",
      "warning: Sparse_Matrix_Tree_CSR.pyx:577:35: Non-trivial type declarators in shared declaration (e.g. mix of pointers and values). Each pointer declaration should be on its own line.\r\n",
      "warning: Sparse_Matrix_Tree_CSR.pyx:577:42: Non-trivial type declarators in shared declaration (e.g. mix of pointers and values). Each pointer declaration should be on its own line.\r\n",
      "warning: Sparse_Matrix_Tree_CSR.pyx:578:35: Non-trivial type declarators in shared declaration (e.g. mix of pointers and values). Each pointer declaration should be on its own line.\r\n",
      "warning: Sparse_Matrix_Tree_CSR.pyx:578:53: Non-trivial type declarators in shared declaration (e.g. mix of pointers and values). Each pointer declaration should be on its own line.\r\n",
      "\r\n",
      "Error compiling Cython file:\r\n",
      "------------------------------------------------------------\r\n",
      "...\r\n",
      "            vector_pointer_to_list_elements[index].head = current_element\r\n",
      "            current_element = current_element.higher\r\n",
      "\r\n",
      "\r\n",
      "        # Sort array elements on their data field\r\n",
      "        qsort(vector_pointer_to_list_elements, list_length, sizeof(head_pointer_tree_s), compare_struct_on_data)\r\n",
      "                                                                                         ^\r\n",
      "------------------------------------------------------------\r\n",
      "\r\n",
      "Sparse_Matrix_Tree_CSR.pyx:516:89: Cannot assign type 'int (const void *, const void *) except? -1' to 'int (*)(const_void *, const_void *) noexcept'. Exception values are incompatible. Suggest adding 'noexcept' to the type of 'compare_struct_on_data'.\r\n",
      "\r\n",
      "Error compiling Cython file:\r\n",
      "------------------------------------------------------------\r\n",
      "...\r\n",
      "        # Sort array elements on their data field\r\n",
      "        qsort(vector_pointer_to_list_elements, list_length, sizeof(head_pointer_tree_s), compare_struct_on_data)\r\n",
      "\r\n",
      "        # Sort only the TopK according to their column field\r\n",
      "        # Sort is from lower to higher, therefore the elements to be considered are from len-topK to len\r\n",
      "        qsort(&vector_pointer_to_list_elements[list_length-TopK], TopK, sizeof(head_pointer_tree_s), compare_struct_on_column)\r\n",
      "                                                                                                     ^\r\n",
      "------------------------------------------------------------\r\n",
      "\r\n",
      "Sparse_Matrix_Tree_CSR.pyx:520:101: Cannot assign type 'int (const void *, const void *) except? -1' to 'int (*)(const_void *, const_void *) noexcept'. Exception values are incompatible. Suggest adding 'noexcept' to the type of 'compare_struct_on_column'.\r\n",
      "Traceback (most recent call last):\r\n",
      "  File \"/kaggle/working/RECsys_Challenge2024/CythonCompiler/compile_script.py\", line 48, in <module>\r\n",
      "    setup(\r\n",
      "  File \"/usr/local/lib/python3.10/dist-packages/setuptools/__init__.py\", line 108, in setup\r\n",
      "    return distutils.core.setup(**attrs)\r\n",
      "  File \"/usr/local/lib/python3.10/dist-packages/setuptools/_distutils/core.py\", line 184, in setup\r\n",
      "    return run_commands(dist)\r\n",
      "  File \"/usr/local/lib/python3.10/dist-packages/setuptools/_distutils/core.py\", line 200, in run_commands\r\n",
      "    dist.run_commands()\r\n",
      "  File \"/usr/local/lib/python3.10/dist-packages/setuptools/_distutils/dist.py\", line 970, in run_commands\r\n",
      "    self.run_command(cmd)\r\n",
      "  File \"/usr/local/lib/python3.10/dist-packages/setuptools/dist.py\", line 956, in run_command\r\n",
      "    super().run_command(command)\r\n",
      "  File \"/usr/local/lib/python3.10/dist-packages/setuptools/_distutils/dist.py\", line 989, in run_command\r\n",
      "    cmd_obj.run()\r\n",
      "  File \"/usr/local/lib/python3.10/dist-packages/setuptools/_distutils/command/build_ext.py\", line 359, in run\r\n",
      "    self.build_extensions()\r\n",
      "  File \"/usr/local/lib/python3.10/dist-packages/setuptools/_distutils/command/build_ext.py\", line 479, in build_extensions\r\n",
      "    self._build_extensions_serial()\r\n",
      "  File \"/usr/local/lib/python3.10/dist-packages/setuptools/_distutils/command/build_ext.py\", line 505, in _build_extensions_serial\r\n",
      "    self.build_extension(ext)\r\n",
      "  File \"/usr/local/lib/python3.10/dist-packages/Cython/Distutils/build_ext.py\", line 130, in build_extension\r\n",
      "    new_ext = cythonize(\r\n",
      "  File \"/usr/local/lib/python3.10/dist-packages/Cython/Build/Dependencies.py\", line 1154, in cythonize\r\n",
      "    cythonize_one(*args)\r\n",
      "  File \"/usr/local/lib/python3.10/dist-packages/Cython/Build/Dependencies.py\", line 1321, in cythonize_one\r\n",
      "    raise CompileError(None, pyx_file)\r\n",
      "Cython.Compiler.Errors.CompileError: Sparse_Matrix_Tree_CSR.pyx\r\n",
      "Traceback (most recent call last):\r\n",
      "  File \"/kaggle/working/RECsys_Challenge2024/run_compile_all_cython.py\", line 60, in <module>\r\n",
      "    run_compile_subprocess(file_path, [file_name])\r\n",
      "  File \"/kaggle/working/RECsys_Challenge2024/CythonCompiler/run_compile_subprocess.py\", line 51, in run_compile_subprocess\r\n",
      "    raise exc\r\n",
      "  File \"/kaggle/working/RECsys_Challenge2024/CythonCompiler/run_compile_subprocess.py\", line 32, in run_compile_subprocess\r\n",
      "    output = subprocess.check_output(' '.join(command),\r\n",
      "  File \"/usr/lib/python3.10/subprocess.py\", line 421, in check_output\r\n",
      "    return run(*popenargs, stdout=PIPE, timeout=timeout, check=True,\r\n",
      "  File \"/usr/lib/python3.10/subprocess.py\", line 526, in run\r\n",
      "    raise CalledProcessError(retcode, process.args,\r\n",
      "subprocess.CalledProcessError: Command '/usr/bin/python3 /kaggle/working/RECsys_Challenge2024/CythonCompiler/compile_script.py Sparse_Matrix_Tree_CSR.pyx build_ext --inplace' returned non-zero exit status 1.\r\n",
      "Compiling [4/11]: Sparse_Matrix_Tree_CSR.pyx... FAIL: Command '/usr/bin/python3 /kaggle/working/RECsys_Challenge2024/CythonCompiler/compile_script.py Sparse_Matrix_Tree_CSR.pyx build_ext --inplace' returned non-zero exit status 1.\r\n",
      "\r\n",
      "Compiling [5/11]: SLIM_BPR_Cython_Epoch.pyx... \r\n",
      "warning: SLIM_BPR_Cython_Epoch.pyx:24:0: The 'IF' statement is deprecated and will be removed in a future Cython version. Consider using runtime conditions or C macros instead. See https://github.com/cython/cython/issues/4310\r\n",
      "warning: SLIM_BPR_Cython_Epoch.pyx:632:34: Non-trivial type declarators in shared declaration (e.g. mix of pointers and values). Each pointer declaration should be on its own line.\r\n",
      "warning: SLIM_BPR_Cython_Epoch.pyx:632:66: Non-trivial type declarators in shared declaration (e.g. mix of pointers and values). Each pointer declaration should be on its own line.\r\n",
      "warning: SLIM_BPR_Cython_Epoch.pyx:817:35: Non-trivial type declarators in shared declaration (e.g. mix of pointers and values). Each pointer declaration should be on its own line.\r\n",
      "warning: SLIM_BPR_Cython_Epoch.pyx:817:52: Non-trivial type declarators in shared declaration (e.g. mix of pointers and values). Each pointer declaration should be on its own line.\r\n",
      "warning: SLIM_BPR_Cython_Epoch.pyx:916:35: Non-trivial type declarators in shared declaration (e.g. mix of pointers and values). Each pointer declaration should be on its own line.\r\n",
      "warning: SLIM_BPR_Cython_Epoch.pyx:916:53: Non-trivial type declarators in shared declaration (e.g. mix of pointers and values). Each pointer declaration should be on its own line.\r\n",
      "warning: SLIM_BPR_Cython_Epoch.pyx:916:69: Non-trivial type declarators in shared declaration (e.g. mix of pointers and values). Each pointer declaration should be on its own line.\r\n",
      "warning: SLIM_BPR_Cython_Epoch.pyx:1051:35: Non-trivial type declarators in shared declaration (e.g. mix of pointers and values). Each pointer declaration should be on its own line.\r\n",
      "warning: SLIM_BPR_Cython_Epoch.pyx:1051:42: Non-trivial type declarators in shared declaration (e.g. mix of pointers and values). Each pointer declaration should be on its own line.\r\n",
      "warning: SLIM_BPR_Cython_Epoch.pyx:1052:35: Non-trivial type declarators in shared declaration (e.g. mix of pointers and values). Each pointer declaration should be on its own line.\r\n",
      "warning: SLIM_BPR_Cython_Epoch.pyx:1052:53: Non-trivial type declarators in shared declaration (e.g. mix of pointers and values). Each pointer declaration should be on its own line.\r\n",
      "\r\n",
      "Error compiling Cython file:\r\n",
      "------------------------------------------------------------\r\n",
      "...\r\n",
      "            vector_pointer_to_list_elements[index].head = current_element\r\n",
      "            current_element = current_element.higher\r\n",
      "\r\n",
      "\r\n",
      "        # Sort array elements on their data field\r\n",
      "        qsort(vector_pointer_to_list_elements, list_length, sizeof(head_pointer_tree_s), compare_struct_on_data)\r\n",
      "                                                                                         ^\r\n",
      "------------------------------------------------------------\r\n",
      "\r\n",
      "SLIM_BPR_Cython_Epoch.pyx:990:89: Cannot assign type 'int (const void *, const void *) except? -1' to 'int (*)(const_void *, const_void *) noexcept'. Exception values are incompatible. Suggest adding 'noexcept' to the type of 'compare_struct_on_data'.\r\n",
      "\r\n",
      "Error compiling Cython file:\r\n",
      "------------------------------------------------------------\r\n",
      "...\r\n",
      "        # Sort array elements on their data field\r\n",
      "        qsort(vector_pointer_to_list_elements, list_length, sizeof(head_pointer_tree_s), compare_struct_on_data)\r\n",
      "\r\n",
      "        # Sort only the TopK according to their column field\r\n",
      "        # Sort is from lower to higher, therefore the elements to be considered are from len-topK to len\r\n",
      "        qsort(&vector_pointer_to_list_elements[list_length-TopK], TopK, sizeof(head_pointer_tree_s), compare_struct_on_column)\r\n",
      "                                                                                                     ^\r\n",
      "------------------------------------------------------------\r\n",
      "\r\n",
      "SLIM_BPR_Cython_Epoch.pyx:994:101: Cannot assign type 'int (const void *, const void *) except? -1' to 'int (*)(const_void *, const_void *) noexcept'. Exception values are incompatible. Suggest adding 'noexcept' to the type of 'compare_struct_on_column'.\r\n",
      "Traceback (most recent call last):\r\n",
      "  File \"/kaggle/working/RECsys_Challenge2024/CythonCompiler/compile_script.py\", line 48, in <module>\r\n",
      "    setup(\r\n",
      "  File \"/usr/local/lib/python3.10/dist-packages/setuptools/__init__.py\", line 108, in setup\r\n",
      "    return distutils.core.setup(**attrs)\r\n",
      "  File \"/usr/local/lib/python3.10/dist-packages/setuptools/_distutils/core.py\", line 184, in setup\r\n",
      "    return run_commands(dist)\r\n",
      "  File \"/usr/local/lib/python3.10/dist-packages/setuptools/_distutils/core.py\", line 200, in run_commands\r\n",
      "    dist.run_commands()\r\n",
      "  File \"/usr/local/lib/python3.10/dist-packages/setuptools/_distutils/dist.py\", line 970, in run_commands\r\n",
      "    self.run_command(cmd)\r\n",
      "  File \"/usr/local/lib/python3.10/dist-packages/setuptools/dist.py\", line 956, in run_command\r\n",
      "    super().run_command(command)\r\n",
      "  File \"/usr/local/lib/python3.10/dist-packages/setuptools/_distutils/dist.py\", line 989, in run_command\r\n",
      "    cmd_obj.run()\r\n",
      "  File \"/usr/local/lib/python3.10/dist-packages/setuptools/_distutils/command/build_ext.py\", line 359, in run\r\n",
      "    self.build_extensions()\r\n",
      "  File \"/usr/local/lib/python3.10/dist-packages/setuptools/_distutils/command/build_ext.py\", line 479, in build_extensions\r\n",
      "    self._build_extensions_serial()\r\n",
      "  File \"/usr/local/lib/python3.10/dist-packages/setuptools/_distutils/command/build_ext.py\", line 505, in _build_extensions_serial\r\n",
      "    self.build_extension(ext)\r\n",
      "  File \"/usr/local/lib/python3.10/dist-packages/Cython/Distutils/build_ext.py\", line 130, in build_extension\r\n",
      "    new_ext = cythonize(\r\n",
      "  File \"/usr/local/lib/python3.10/dist-packages/Cython/Build/Dependencies.py\", line 1154, in cythonize\r\n",
      "    cythonize_one(*args)\r\n",
      "  File \"/usr/local/lib/python3.10/dist-packages/Cython/Build/Dependencies.py\", line 1321, in cythonize_one\r\n",
      "    raise CompileError(None, pyx_file)\r\n",
      "Cython.Compiler.Errors.CompileError: SLIM_BPR_Cython_Epoch.pyx\r\n",
      "Traceback (most recent call last):\r\n",
      "  File \"/kaggle/working/RECsys_Challenge2024/run_compile_all_cython.py\", line 60, in <module>\r\n",
      "    run_compile_subprocess(file_path, [file_name])\r\n",
      "  File \"/kaggle/working/RECsys_Challenge2024/CythonCompiler/run_compile_subprocess.py\", line 51, in run_compile_subprocess\r\n",
      "    raise exc\r\n",
      "  File \"/kaggle/working/RECsys_Challenge2024/CythonCompiler/run_compile_subprocess.py\", line 32, in run_compile_subprocess\r\n",
      "    output = subprocess.check_output(' '.join(command),\r\n",
      "  File \"/usr/lib/python3.10/subprocess.py\", line 421, in check_output\r\n",
      "    return run(*popenargs, stdout=PIPE, timeout=timeout, check=True,\r\n",
      "  File \"/usr/lib/python3.10/subprocess.py\", line 526, in run\r\n",
      "    raise CalledProcessError(retcode, process.args,\r\n",
      "subprocess.CalledProcessError: Command '/usr/bin/python3 /kaggle/working/RECsys_Challenge2024/CythonCompiler/compile_script.py SLIM_BPR_Cython_Epoch.pyx build_ext --inplace' returned non-zero exit status 1.\r\n",
      "Compiling [5/11]: SLIM_BPR_Cython_Epoch.pyx... FAIL: Command '/usr/bin/python3 /kaggle/working/RECsys_Challenge2024/CythonCompiler/compile_script.py SLIM_BPR_Cython_Epoch.pyx build_ext --inplace' returned non-zero exit status 1.\r\n",
      "\r\n",
      "Compiling [6/11]: Triangular_Matrix.pyx... \r\n",
      "warning: Triangular_Matrix.pyx:22:0: The 'IF' statement is deprecated and will be removed in a future Cython version. Consider using runtime conditions or C macros instead. See https://github.com/cython/cython/issues/4310\r\n",
      "In file included from \u001b[01m\u001b[K/usr/local/lib/python3.10/dist-packages/numpy/core/include/numpy/ndarraytypes.h:1929\u001b[m\u001b[K,\r\n",
      "                 from \u001b[01m\u001b[K/usr/local/lib/python3.10/dist-packages/numpy/core/include/numpy/ndarrayobject.h:12\u001b[m\u001b[K,\r\n",
      "                 from \u001b[01m\u001b[K/usr/local/lib/python3.10/dist-packages/numpy/core/include/numpy/arrayobject.h:5\u001b[m\u001b[K,\r\n",
      "                 from \u001b[01m\u001b[KTriangular_Matrix.c:1252\u001b[m\u001b[K:\r\n",
      "\u001b[01m\u001b[K/usr/local/lib/python3.10/dist-packages/numpy/core/include/numpy/npy_1_7_deprecated_api.h:17:2:\u001b[m\u001b[K \u001b[01;35m\u001b[Kwarning: \u001b[m\u001b[K#warning \"Using deprecated NumPy API, disable it with \" \"#define NPY_NO_DEPRECATED_API NPY_1_7_API_VERSION\" [\u001b[01;35m\u001b[K\u001b]8;;https://gcc.gnu.org/onlinedocs/gcc/Warning-Options.html#index-Wcpp\u0007-Wcpp\u001b]8;;\u0007\u001b[m\u001b[K]\r\n",
      "   17 | #\u001b[01;35m\u001b[Kwarning\u001b[m\u001b[K \"Using deprecated NumPy API, disable it with \" \\\r\n",
      "      |  \u001b[01;35m\u001b[K^~~~~~~\u001b[m\u001b[K\r\n",
      "In function ‘\u001b[01m\u001b[K__pyx_pf_17Triangular_Matrix_17Triangular_Matrix___init__\u001b[m\u001b[K’,\r\n",
      "    inlined from ‘\u001b[01m\u001b[K__pyx_pw_17Triangular_Matrix_17Triangular_Matrix_1__init__\u001b[m\u001b[K’ at \u001b[01m\u001b[KTriangular_Matrix.c:5541:13\u001b[m\u001b[K:\r\n",
      "\u001b[01m\u001b[KTriangular_Matrix.c:5599:43:\u001b[m\u001b[K \u001b[01;35m\u001b[Kwarning: \u001b[m\u001b[Kargument 1 value ‘\u001b[01m\u001b[K18446744073709551608\u001b[m\u001b[K’ exceeds maximum object size 9223372036854775807 [\u001b[01;35m\u001b[K\u001b]8;;https://gcc.gnu.org/onlinedocs/gcc/Warning-Options.html#index-Walloc-size-larger-than=\u0007-Walloc-size-larger-than=\u001b]8;;\u0007\u001b[m\u001b[K]\r\n",
      " 5599 |   __pyx_v_self->row_pointer = ((double **)\u001b[01;35m\u001b[Kmalloc((__pyx_v_self->num_rows * (sizeof(double *))))\u001b[m\u001b[K);\r\n",
      "      |                                           \u001b[01;35m\u001b[K^~~~~~~~~~~~~~~~~~~~~~~~~~~~~~~~~~~~~~~~~~~~~~~~~~~~~\u001b[m\u001b[K\r\n",
      "In file included from \u001b[01m\u001b[K/usr/include/python3.10/Python.h:34\u001b[m\u001b[K,\r\n",
      "                 from \u001b[01m\u001b[KTriangular_Matrix.c:41\u001b[m\u001b[K:\r\n",
      "\u001b[01m\u001b[KTriangular_Matrix.c:\u001b[m\u001b[K In function ‘\u001b[01m\u001b[K__pyx_pw_17Triangular_Matrix_17Triangular_Matrix_1__init__\u001b[m\u001b[K’:\r\n",
      "\u001b[01m\u001b[K/usr/include/stdlib.h:540:14:\u001b[m\u001b[K \u001b[01;36m\u001b[Knote: \u001b[m\u001b[Kin a call to allocation function ‘\u001b[01m\u001b[Kmalloc\u001b[m\u001b[K’ declared here\r\n",
      "  540 | extern void *\u001b[01;36m\u001b[Kmalloc\u001b[m\u001b[K (size_t __size) __THROW __attribute_malloc__\r\n",
      "      |              \u001b[01;36m\u001b[K^~~~~~\u001b[m\u001b[K\r\n",
      "/usr/local/lib/python3.10/dist-packages/Cython/Compiler/Main.py:381: FutureWarning: Cython directive 'language_level' not set, using '3str' for now (Py3). This has changed from earlier releases! File: /kaggle/working/RECsys_Challenge2024/Recommenders/SLIM/Cython/Triangular_Matrix.pyx\r\n",
      "  tree = Parsing.p_module(s, pxd, full_module_name)\r\n",
      "warning: Triangular_Matrix.pyx:22:0: The 'IF' statement is deprecated and will be removed in a future Cython version. Consider using runtime conditions or C macros instead. See https://github.com/cython/cython/issues/4310\r\n",
      "Compiling [6/11]: Triangular_Matrix.pyx... PASS\r\n",
      "\r\n",
      "Compiling [7/11]: CFW_D_Similarity_Cython_SGD.pyx... \r\n",
      "In file included from \u001b[01m\u001b[K/usr/local/lib/python3.10/dist-packages/numpy/core/include/numpy/ndarraytypes.h:1929\u001b[m\u001b[K,\r\n",
      "                 from \u001b[01m\u001b[K/usr/local/lib/python3.10/dist-packages/numpy/core/include/numpy/ndarrayobject.h:12\u001b[m\u001b[K,\r\n",
      "                 from \u001b[01m\u001b[K/usr/local/lib/python3.10/dist-packages/numpy/core/include/numpy/arrayobject.h:5\u001b[m\u001b[K,\r\n",
      "                 from \u001b[01m\u001b[KCFW_D_Similarity_Cython_SGD.c:1252\u001b[m\u001b[K:\r\n",
      "\u001b[01m\u001b[K/usr/local/lib/python3.10/dist-packages/numpy/core/include/numpy/npy_1_7_deprecated_api.h:17:2:\u001b[m\u001b[K \u001b[01;35m\u001b[Kwarning: \u001b[m\u001b[K#warning \"Using deprecated NumPy API, disable it with \" \"#define NPY_NO_DEPRECATED_API NPY_1_7_API_VERSION\" [\u001b[01;35m\u001b[K\u001b]8;;https://gcc.gnu.org/onlinedocs/gcc/Warning-Options.html#index-Wcpp\u0007-Wcpp\u001b]8;;\u0007\u001b[m\u001b[K]\r\n",
      "   17 | #\u001b[01;35m\u001b[Kwarning\u001b[m\u001b[K \"Using deprecated NumPy API, disable it with \" \\\r\n",
      "      |  \u001b[01;35m\u001b[K^~~~~~~\u001b[m\u001b[K\r\n",
      "\u001b[01m\u001b[KCFW_D_Similarity_Cython_SGD.c:\u001b[m\u001b[K In function ‘\u001b[01m\u001b[K__pyx_pf_27CFW_D_Similarity_Cython_SGD_27CFW_D_Similarity_Cython_SGD_6fit\u001b[m\u001b[K’:\r\n",
      "\u001b[01m\u001b[KCFW_D_Similarity_Cython_SGD.c:23373:55:\u001b[m\u001b[K \u001b[01;35m\u001b[Kwarning: \u001b[m\u001b[K‘\u001b[01m\u001b[K__pyx_v_sample_num\u001b[m\u001b[K’ may be used uninitialized in this function [\u001b[01;35m\u001b[K\u001b]8;;https://gcc.gnu.org/onlinedocs/gcc/Warning-Options.html#index-Wmaybe-uninitialized\u0007-Wmaybe-uninitialized\u001b]8;;\u0007\u001b[m\u001b[K]\r\n",
      "23373 |   __pyx_t_3 = PyFloat_FromDouble((__pyx_v_cum_loss / \u001b[01;35m\u001b[K((double)__pyx_v_sample_num)\u001b[m\u001b[K)); if (unlikely(!__pyx_t_3)) __PYX_ERR(0, 290, __pyx_L1_error)\r\n",
      "      |                                                      \u001b[01;35m\u001b[K~^~~~~~~~~~~~~~~~~~~~~~~~~~~\u001b[m\u001b[K\r\n",
      "/usr/local/lib/python3.10/dist-packages/Cython/Compiler/Main.py:381: FutureWarning: Cython directive 'language_level' not set, using '3str' for now (Py3). This has changed from earlier releases! File: /kaggle/working/RECsys_Challenge2024/Recommenders/FeatureWeighting/Cython/CFW_D_Similarity_Cython_SGD.pyx\r\n",
      "  tree = Parsing.p_module(s, pxd, full_module_name)\r\n",
      "Compiling [7/11]: CFW_D_Similarity_Cython_SGD.pyx... PASS\r\n",
      "\r\n",
      "Compiling [8/11]: CFW_DVV_Similarity_Cython_SGD.pyx... \r\n",
      "In file included from \u001b[01m\u001b[K/usr/local/lib/python3.10/dist-packages/numpy/core/include/numpy/ndarraytypes.h:1929\u001b[m\u001b[K,\r\n",
      "                 from \u001b[01m\u001b[K/usr/local/lib/python3.10/dist-packages/numpy/core/include/numpy/ndarrayobject.h:12\u001b[m\u001b[K,\r\n",
      "                 from \u001b[01m\u001b[K/usr/local/lib/python3.10/dist-packages/numpy/core/include/numpy/arrayobject.h:5\u001b[m\u001b[K,\r\n",
      "                 from \u001b[01m\u001b[KCFW_DVV_Similarity_Cython_SGD.c:1252\u001b[m\u001b[K:\r\n",
      "\u001b[01m\u001b[K/usr/local/lib/python3.10/dist-packages/numpy/core/include/numpy/npy_1_7_deprecated_api.h:17:2:\u001b[m\u001b[K \u001b[01;35m\u001b[Kwarning: \u001b[m\u001b[K#warning \"Using deprecated NumPy API, disable it with \" \"#define NPY_NO_DEPRECATED_API NPY_1_7_API_VERSION\" [\u001b[01;35m\u001b[K\u001b]8;;https://gcc.gnu.org/onlinedocs/gcc/Warning-Options.html#index-Wcpp\u0007-Wcpp\u001b]8;;\u0007\u001b[m\u001b[K]\r\n",
      "   17 | #\u001b[01;35m\u001b[Kwarning\u001b[m\u001b[K \"Using deprecated NumPy API, disable it with \" \\\r\n",
      "      |  \u001b[01;35m\u001b[K^~~~~~~\u001b[m\u001b[K\r\n",
      "/usr/local/lib/python3.10/dist-packages/Cython/Compiler/Main.py:381: FutureWarning: Cython directive 'language_level' not set, using '3str' for now (Py3). This has changed from earlier releases! File: /kaggle/working/RECsys_Challenge2024/Recommenders/FeatureWeighting/Cython/CFW_DVV_Similarity_Cython_SGD.pyx\r\n",
      "  tree = Parsing.p_module(s, pxd, full_module_name)\r\n",
      "Compiling [8/11]: CFW_DVV_Similarity_Cython_SGD.pyx... PASS\r\n",
      "\r\n",
      "Compiling [9/11]: FBSM_Rating_Cython_SGD.pyx... \r\n",
      "In file included from \u001b[01m\u001b[K/usr/local/lib/python3.10/dist-packages/numpy/core/include/numpy/ndarraytypes.h:1929\u001b[m\u001b[K,\r\n",
      "                 from \u001b[01m\u001b[K/usr/local/lib/python3.10/dist-packages/numpy/core/include/numpy/ndarrayobject.h:12\u001b[m\u001b[K,\r\n",
      "                 from \u001b[01m\u001b[K/usr/local/lib/python3.10/dist-packages/numpy/core/include/numpy/arrayobject.h:5\u001b[m\u001b[K,\r\n",
      "                 from \u001b[01m\u001b[KFBSM_Rating_Cython_SGD.c:1252\u001b[m\u001b[K:\r\n",
      "\u001b[01m\u001b[K/usr/local/lib/python3.10/dist-packages/numpy/core/include/numpy/npy_1_7_deprecated_api.h:17:2:\u001b[m\u001b[K \u001b[01;35m\u001b[Kwarning: \u001b[m\u001b[K#warning \"Using deprecated NumPy API, disable it with \" \"#define NPY_NO_DEPRECATED_API NPY_1_7_API_VERSION\" [\u001b[01;35m\u001b[K\u001b]8;;https://gcc.gnu.org/onlinedocs/gcc/Warning-Options.html#index-Wcpp\u0007-Wcpp\u001b]8;;\u0007\u001b[m\u001b[K]\r\n",
      "   17 | #\u001b[01;35m\u001b[Kwarning\u001b[m\u001b[K \"Using deprecated NumPy API, disable it with \" \\\r\n",
      "      |  \u001b[01;35m\u001b[K^~~~~~~\u001b[m\u001b[K\r\n",
      "\u001b[01m\u001b[KFBSM_Rating_Cython_SGD.c:\u001b[m\u001b[K In function ‘\u001b[01m\u001b[K__pyx_pf_22FBSM_Rating_Cython_SGD_22FBSM_Rating_Cython_SGD_2fit\u001b[m\u001b[K’:\r\n",
      "\u001b[01m\u001b[KFBSM_Rating_Cython_SGD.c:26607:55:\u001b[m\u001b[K \u001b[01;35m\u001b[Kwarning: \u001b[m\u001b[K‘\u001b[01m\u001b[K__pyx_v_num_sample\u001b[m\u001b[K’ may be used uninitialized in this function [\u001b[01;35m\u001b[K\u001b]8;;https://gcc.gnu.org/onlinedocs/gcc/Warning-Options.html#index-Wmaybe-uninitialized\u0007-Wmaybe-uninitialized\u001b]8;;\u0007\u001b[m\u001b[K]\r\n",
      "26607 |   __pyx_t_5 = PyFloat_FromDouble((__pyx_v_cum_loss / \u001b[01;35m\u001b[K((double)__pyx_v_num_sample)\u001b[m\u001b[K)); if (unlikely(!__pyx_t_5)) __PYX_ERR(0, 551, __pyx_L1_error)\r\n",
      "      |                                                      \u001b[01;35m\u001b[K~^~~~~~~~~~~~~~~~~~~~~~~~~~~\u001b[m\u001b[K\r\n",
      "/usr/local/lib/python3.10/dist-packages/Cython/Compiler/Main.py:381: FutureWarning: Cython directive 'language_level' not set, using '3str' for now (Py3). This has changed from earlier releases! File: /kaggle/working/RECsys_Challenge2024/Recommenders/FeatureWeighting/Cython/FBSM_Rating_Cython_SGD.pyx\r\n",
      "  tree = Parsing.p_module(s, pxd, full_module_name)\r\n",
      "Compiling [9/11]: FBSM_Rating_Cython_SGD.pyx... PASS\r\n",
      "\r\n",
      "Compiling [10/11]: HP3_Similarity_Cython_SGD.pyx... \r\n",
      "performance hint: HP3_Similarity_Cython_SGD.pyx:113:40: Index should be typed for more efficient access\r\n",
      "performance hint: HP3_Similarity_Cython_SGD.pyx:114:40: Index should be typed for more efficient access\r\n",
      "In file included from \u001b[01m\u001b[K/usr/local/lib/python3.10/dist-packages/numpy/core/include/numpy/ndarraytypes.h:1929\u001b[m\u001b[K,\r\n",
      "                 from \u001b[01m\u001b[K/usr/local/lib/python3.10/dist-packages/numpy/core/include/numpy/ndarrayobject.h:12\u001b[m\u001b[K,\r\n",
      "                 from \u001b[01m\u001b[K/usr/local/lib/python3.10/dist-packages/numpy/core/include/numpy/arrayobject.h:5\u001b[m\u001b[K,\r\n",
      "                 from \u001b[01m\u001b[KHP3_Similarity_Cython_SGD.c:1252\u001b[m\u001b[K:\r\n",
      "\u001b[01m\u001b[K/usr/local/lib/python3.10/dist-packages/numpy/core/include/numpy/npy_1_7_deprecated_api.h:17:2:\u001b[m\u001b[K \u001b[01;35m\u001b[Kwarning: \u001b[m\u001b[K#warning \"Using deprecated NumPy API, disable it with \" \"#define NPY_NO_DEPRECATED_API NPY_1_7_API_VERSION\" [\u001b[01;35m\u001b[K\u001b]8;;https://gcc.gnu.org/onlinedocs/gcc/Warning-Options.html#index-Wcpp\u0007-Wcpp\u001b]8;;\u0007\u001b[m\u001b[K]\r\n",
      "   17 | #\u001b[01;35m\u001b[Kwarning\u001b[m\u001b[K \"Using deprecated NumPy API, disable it with \" \\\r\n",
      "      |  \u001b[01;35m\u001b[K^~~~~~~\u001b[m\u001b[K\r\n",
      "\u001b[01m\u001b[KHP3_Similarity_Cython_SGD.c:\u001b[m\u001b[K In function ‘\u001b[01m\u001b[K__pyx_pf_25HP3_Similarity_Cython_SGD_25HP3_Similarity_Cython_SGD_4fit\u001b[m\u001b[K’:\r\n",
      "\u001b[01m\u001b[KHP3_Similarity_Cython_SGD.c:23631:55:\u001b[m\u001b[K \u001b[01;35m\u001b[Kwarning: \u001b[m\u001b[K‘\u001b[01m\u001b[K__pyx_v_sample_num\u001b[m\u001b[K’ may be used uninitialized in this function [\u001b[01;35m\u001b[K\u001b]8;;https://gcc.gnu.org/onlinedocs/gcc/Warning-Options.html#index-Wmaybe-uninitialized\u0007-Wmaybe-uninitialized\u001b]8;;\u0007\u001b[m\u001b[K]\r\n",
      "23631 |   __pyx_t_1 = PyFloat_FromDouble((__pyx_v_cum_loss / \u001b[01;35m\u001b[K((double)__pyx_v_sample_num)\u001b[m\u001b[K)); if (unlikely(!__pyx_t_1)) __PYX_ERR(0, 291, __pyx_L1_error)\r\n",
      "      |                                                      \u001b[01;35m\u001b[K~^~~~~~~~~~~~~~~~~~~~~~~~~~~\u001b[m\u001b[K\r\n",
      "/usr/local/lib/python3.10/dist-packages/Cython/Compiler/Main.py:381: FutureWarning: Cython directive 'language_level' not set, using '3str' for now (Py3). This has changed from earlier releases! File: /kaggle/working/RECsys_Challenge2024/Recommenders/FeatureWeighting/Cython/HP3_Similarity_Cython_SGD.pyx\r\n",
      "  tree = Parsing.p_module(s, pxd, full_module_name)\r\n",
      "performance hint: HP3_Similarity_Cython_SGD.pyx:113:40: Index should be typed for more efficient access\r\n",
      "performance hint: HP3_Similarity_Cython_SGD.pyx:114:40: Index should be typed for more efficient access\r\n",
      "Compiling [10/11]: HP3_Similarity_Cython_SGD.pyx... PASS\r\n",
      "\r\n",
      "Compiling [11/11]: DataIterator.pyx... \r\n",
      "In file included from \u001b[01m\u001b[K/usr/local/lib/python3.10/dist-packages/numpy/core/include/numpy/ndarraytypes.h:1929\u001b[m\u001b[K,\r\n",
      "                 from \u001b[01m\u001b[K/usr/local/lib/python3.10/dist-packages/numpy/core/include/numpy/ndarrayobject.h:12\u001b[m\u001b[K,\r\n",
      "                 from \u001b[01m\u001b[K/usr/local/lib/python3.10/dist-packages/numpy/core/include/numpy/arrayobject.h:5\u001b[m\u001b[K,\r\n",
      "                 from \u001b[01m\u001b[KDataIterator.c:1252\u001b[m\u001b[K:\r\n",
      "\u001b[01m\u001b[K/usr/local/lib/python3.10/dist-packages/numpy/core/include/numpy/npy_1_7_deprecated_api.h:17:2:\u001b[m\u001b[K \u001b[01;35m\u001b[Kwarning: \u001b[m\u001b[K#warning \"Using deprecated NumPy API, disable it with \" \"#define NPY_NO_DEPRECATED_API NPY_1_7_API_VERSION\" [\u001b[01;35m\u001b[K\u001b]8;;https://gcc.gnu.org/onlinedocs/gcc/Warning-Options.html#index-Wcpp\u0007-Wcpp\u001b]8;;\u0007\u001b[m\u001b[K]\r\n",
      "   17 | #\u001b[01;35m\u001b[Kwarning\u001b[m\u001b[K \"Using deprecated NumPy API, disable it with \" \\\r\n",
      "      |  \u001b[01;35m\u001b[K^~~~~~~\u001b[m\u001b[K\r\n",
      "\u001b[01m\u001b[KDataIterator.c:\u001b[m\u001b[K In function ‘\u001b[01m\u001b[K__pyx_pf_12DataIterator_19InteractionIterator_6__next__\u001b[m\u001b[K’:\r\n",
      "\u001b[01m\u001b[KDataIterator.c:20937:22:\u001b[m\u001b[K \u001b[01;35m\u001b[Kwarning: \u001b[m\u001b[K‘\u001b[01m\u001b[K__pyx_v_i_batch\u001b[m\u001b[K’ may be used uninitialized in this function [\u001b[01;35m\u001b[K\u001b]8;;https://gcc.gnu.org/onlinedocs/gcc/Warning-Options.html#index-Wmaybe-uninitialized\u0007-Wmaybe-uninitialized\u001b]8;;\u0007\u001b[m\u001b[K]\r\n",
      "20937 |     (__pyx_v_i_batch \u001b[01;35m\u001b[K+\u001b[m\u001b[K 1),\r\n",
      "      |                      \u001b[01;35m\u001b[K^\u001b[m\u001b[K\r\n",
      "\u001b[01m\u001b[KDataIterator.c:\u001b[m\u001b[K In function ‘\u001b[01m\u001b[K__pyx_pf_12DataIterator_30InteractionAndNegativeIterator_6__next__\u001b[m\u001b[K’:\r\n",
      "\u001b[01m\u001b[KDataIterator.c:25499:22:\u001b[m\u001b[K \u001b[01;35m\u001b[Kwarning: \u001b[m\u001b[K‘\u001b[01m\u001b[K__pyx_v_i_batch\u001b[m\u001b[K’ may be used uninitialized in this function [\u001b[01;35m\u001b[K\u001b]8;;https://gcc.gnu.org/onlinedocs/gcc/Warning-Options.html#index-Wmaybe-uninitialized\u0007-Wmaybe-uninitialized\u001b]8;;\u0007\u001b[m\u001b[K]\r\n",
      "25499 |     (__pyx_v_i_batch \u001b[01;35m\u001b[K+\u001b[m\u001b[K 1),\r\n",
      "      |                      \u001b[01;35m\u001b[K^\u001b[m\u001b[K\r\n",
      "\u001b[01m\u001b[KDataIterator.c:\u001b[m\u001b[K In function ‘\u001b[01m\u001b[K__pyx_pf_12DataIterator_11BPRIterator_6__next__\u001b[m\u001b[K’:\r\n",
      "\u001b[01m\u001b[KDataIterator.c:23056:22:\u001b[m\u001b[K \u001b[01;35m\u001b[Kwarning: \u001b[m\u001b[K‘\u001b[01m\u001b[K__pyx_v_i_batch\u001b[m\u001b[K’ may be used uninitialized in this function [\u001b[01;35m\u001b[K\u001b]8;;https://gcc.gnu.org/onlinedocs/gcc/Warning-Options.html#index-Wmaybe-uninitialized\u0007-Wmaybe-uninitialized\u001b]8;;\u0007\u001b[m\u001b[K]\r\n",
      "23056 |     (__pyx_v_i_batch \u001b[01;35m\u001b[K+\u001b[m\u001b[K 1),\r\n",
      "      |                      \u001b[01;35m\u001b[K^\u001b[m\u001b[K\r\n",
      "/usr/local/lib/python3.10/dist-packages/Cython/Compiler/Main.py:381: FutureWarning: Cython directive 'language_level' not set, using '3str' for now (Py3). This has changed from earlier releases! File: /kaggle/working/RECsys_Challenge2024/Utils/PyTorch/Cython/DataIterator.pyx\r\n",
      "  tree = Parsing.p_module(s, pxd, full_module_name)\r\n",
      "Compiling [11/11]: DataIterator.pyx... PASS\r\n",
      "\r\n",
      "run_compile_all_cython: Compilation finished. FAILS 2/11.\r\n",
      "Compilation log can be found here: './result_experiments/run_compile_all_cython.txt'\r\n"
     ]
    }
   ],
   "source": [
    "%cd /kaggle/working/RECsys_Challenge2024\n",
    "! python run_compile_all_cython.py"
   ]
  },
  {
   "cell_type": "code",
   "execution_count": 6,
   "id": "d13d28dc",
   "metadata": {
    "execution": {
     "iopub.execute_input": "2024-12-30T17:12:27.472949Z",
     "iopub.status.busy": "2024-12-30T17:12:27.472524Z",
     "iopub.status.idle": "2024-12-30T17:12:30.096969Z",
     "shell.execute_reply": "2024-12-30T17:12:30.096062Z"
    },
    "papermill": {
     "duration": 2.644907,
     "end_time": "2024-12-30T17:12:30.098945",
     "exception": false,
     "start_time": "2024-12-30T17:12:27.454038",
     "status": "completed"
    },
    "tags": []
   },
   "outputs": [],
   "source": [
    "from Utils.notebookFunctions import *\n",
    "from Utils.xgboost_functions import *\n",
    "import numpy as np\n",
    "import pandas as pd\n",
    "import scipy.sparse as sps\n",
    "import time\n",
    "import shutil\n",
    "import optuna\n",
    "import json\n",
    "import os\n",
    "from Utils.seconds_to_biggest_unit import seconds_to_biggest_unit\n",
    "from tqdm import tqdm\n",
    "from xgboost import XGBRanker\n",
    "\n",
    "%matplotlib inline\n",
    "from xgboost import plot_importance\n",
    "\n",
    "K_PATH = '/kaggle/working/RECsys_Challenge2024'\n",
    "GH_PATH = 'TrainedModels/WithoutKFCV'\n",
    "D_PATH = 'XGBoost'\n",
    "\n",
    "np.random.seed(42)"
   ]
  },
  {
   "cell_type": "code",
   "execution_count": 7,
   "id": "e0900af5",
   "metadata": {
    "execution": {
     "iopub.execute_input": "2024-12-30T17:12:30.135600Z",
     "iopub.status.busy": "2024-12-30T17:12:30.135036Z",
     "iopub.status.idle": "2024-12-30T17:12:34.281906Z",
     "shell.execute_reply": "2024-12-30T17:12:34.280778Z"
    },
    "papermill": {
     "duration": 4.167561,
     "end_time": "2024-12-30T17:12:34.284173",
     "exception": false,
     "start_time": "2024-12-30T17:12:30.116612",
     "status": "completed"
    },
    "tags": []
   },
   "outputs": [],
   "source": [
    "from Recommenders.GraphBased.RP3betaRecommender import RP3betaRecommender\n",
    "from Recommenders.GraphBased.P3alphaRecommender import P3alphaRecommender\n",
    "from Recommenders.KNN.ItemKNNCFRecommender import ItemKNNCFRecommender\n",
    "from Recommenders.KNN.ItemKNNCBFRecommender import ItemKNNCBFRecommender\n",
    "from Recommenders.KNN.UserKNNCFRecommender import UserKNNCFRecommender\n",
    "from Recommenders.MatrixFactorization.FasterIALSRecommender import FasterIALSRecommender\n",
    "from Recommenders.MatrixFactorization.NMFRecommender import NMFRecommender\n",
    "from Recommenders.MatrixFactorization.PureSVDRecommender import PureSVDItemRecommender\n",
    "from Recommenders.MatrixFactorization.PureSVDRecommender import ScaledPureSVDRecommender\n",
    "from Recommenders.Neural.MultVAE_PyTorch_Recommender import MultVAERecommender_PyTorch_OptimizerMask \n",
    "from Recommenders.SLIM.SLIMElasticNetRecommender import SLIMElasticNetRecommender\n",
    "from Recommenders.SLIM.SLIM_BPR_Python import SLIM_BPR_Python"
   ]
  },
  {
   "cell_type": "markdown",
   "id": "0c6641cf",
   "metadata": {
    "papermill": {
     "duration": 0.017579,
     "end_time": "2024-12-30T17:12:34.328489",
     "exception": false,
     "start_time": "2024-12-30T17:12:34.310910",
     "status": "completed"
    },
    "tags": []
   },
   "source": [
    "## Import the repository"
   ]
  },
  {
   "cell_type": "code",
   "execution_count": 8,
   "id": "b32ec06d",
   "metadata": {
    "execution": {
     "iopub.execute_input": "2024-12-30T17:12:34.365203Z",
     "iopub.status.busy": "2024-12-30T17:12:34.364452Z",
     "iopub.status.idle": "2024-12-30T17:12:34.801091Z",
     "shell.execute_reply": "2024-12-30T17:12:34.799785Z"
    },
    "papermill": {
     "duration": 0.456929,
     "end_time": "2024-12-30T17:12:34.802798",
     "exception": false,
     "start_time": "2024-12-30T17:12:34.345869",
     "status": "completed"
    },
    "tags": []
   },
   "outputs": [
    {
     "name": "stdout",
     "output_type": "stream",
     "text": [
      "Repository 'RECsys_Challenge2024' found.\n"
     ]
    }
   ],
   "source": [
    "repo = get_repo_from_github(token)"
   ]
  },
  {
   "cell_type": "code",
   "execution_count": 9,
   "id": "31ef1516",
   "metadata": {
    "execution": {
     "iopub.execute_input": "2024-12-30T17:12:34.839065Z",
     "iopub.status.busy": "2024-12-30T17:12:34.838640Z",
     "iopub.status.idle": "2024-12-30T17:12:34.843367Z",
     "shell.execute_reply": "2024-12-30T17:12:34.842161Z"
    },
    "papermill": {
     "duration": 0.024814,
     "end_time": "2024-12-30T17:12:34.845187",
     "exception": false,
     "start_time": "2024-12-30T17:12:34.820373",
     "status": "completed"
    },
    "tags": []
   },
   "outputs": [],
   "source": [
    "config = {\n",
    "    'model': 'XGBoostNoCont',\n",
    "    'metric': 'MAP',\n",
    "    'categorical': True,\n",
    "    'contents': False,\n",
    "    'tune_parameters': False,\n",
    "    'database_path': '/kaggle/working/history_XGBoostNoCont_MAP.db',\n",
    "    'copy_prev_best_params': False,\n",
    "    'tune_best_params': True,\n",
    "    'save_github': True\n",
    "}"
   ]
  },
  {
   "cell_type": "markdown",
   "id": "6da0faf2",
   "metadata": {
    "papermill": {
     "duration": 0.01749,
     "end_time": "2024-12-30T17:12:34.880058",
     "exception": false,
     "start_time": "2024-12-30T17:12:34.862568",
     "status": "completed"
    },
    "tags": []
   },
   "source": [
    "Import the database where previous tuning trials have been saved."
   ]
  },
  {
   "cell_type": "code",
   "execution_count": 10,
   "id": "c43c8752",
   "metadata": {
    "execution": {
     "iopub.execute_input": "2024-12-30T17:12:34.917026Z",
     "iopub.status.busy": "2024-12-30T17:12:34.916591Z",
     "iopub.status.idle": "2024-12-30T17:12:34.922061Z",
     "shell.execute_reply": "2024-12-30T17:12:34.920912Z"
    },
    "papermill": {
     "duration": 0.026933,
     "end_time": "2024-12-30T17:12:34.924254",
     "exception": false,
     "start_time": "2024-12-30T17:12:34.897321",
     "status": "completed"
    },
    "tags": []
   },
   "outputs": [],
   "source": [
    "try:\n",
    "    shutil.copyfile(\n",
    "        f'{K_PATH}/{GH_PATH}/{D_PATH}/{config[\"model\"]}Recommender/Optimizing{config[\"metric\"]}/history_{config[\"model\"]}_{config[\"metric\"]}.db', \n",
    "        config['database_path']\n",
    "    )\n",
    "except FileNotFoundError:\n",
    "    pass # if not present optuna will create it"
   ]
  },
  {
   "cell_type": "markdown",
   "id": "66eff2c2",
   "metadata": {
    "papermill": {
     "duration": 0.017523,
     "end_time": "2024-12-30T17:12:34.959575",
     "exception": false,
     "start_time": "2024-12-30T17:12:34.942052",
     "status": "completed"
    },
    "tags": []
   },
   "source": [
    "# Construction of URM and ICM matrices"
   ]
  },
  {
   "cell_type": "code",
   "execution_count": 11,
   "id": "065f9b81",
   "metadata": {
    "execution": {
     "iopub.execute_input": "2024-12-30T17:12:34.995545Z",
     "iopub.status.busy": "2024-12-30T17:12:34.995160Z",
     "iopub.status.idle": "2024-12-30T17:12:35.830330Z",
     "shell.execute_reply": "2024-12-30T17:12:35.829202Z"
    },
    "papermill": {
     "duration": 0.855484,
     "end_time": "2024-12-30T17:12:35.832334",
     "exception": false,
     "start_time": "2024-12-30T17:12:34.976850",
     "status": "completed"
    },
    "tags": []
   },
   "outputs": [
    {
     "data": {
      "text/plain": [
       "<35736x38121 sparse matrix of type '<class 'numpy.float64'>'\n",
       "\twith 1764607 stored elements in Compressed Sparse Row format>"
      ]
     },
     "execution_count": 11,
     "metadata": {},
     "output_type": "execute_result"
    }
   ],
   "source": [
    "URM_all_dataframe = pd.read_csv(\"/kaggle/input/recommender-system-2024-challenge-polimi/data_train.csv\")\n",
    "\n",
    "n_users = len(URM_all_dataframe[\"user_id\"].unique())\n",
    "n_items = len(URM_all_dataframe[\"item_id\"].unique())\n",
    "\n",
    "URM_all = sps.csr_matrix((URM_all_dataframe[\"data\"].values, \n",
    "                          (URM_all_dataframe[\"user_id\"].values, URM_all_dataframe[\"item_id\"].values)),\n",
    "                        shape = (n_users, n_items))\n",
    "\n",
    "URM_all"
   ]
  },
  {
   "cell_type": "code",
   "execution_count": 12,
   "id": "9034a750",
   "metadata": {
    "execution": {
     "iopub.execute_input": "2024-12-30T17:12:35.869213Z",
     "iopub.status.busy": "2024-12-30T17:12:35.868824Z",
     "iopub.status.idle": "2024-12-30T17:12:37.096637Z",
     "shell.execute_reply": "2024-12-30T17:12:37.095720Z"
    },
    "papermill": {
     "duration": 1.248268,
     "end_time": "2024-12-30T17:12:37.098360",
     "exception": false,
     "start_time": "2024-12-30T17:12:35.850092",
     "status": "completed"
    },
    "tags": []
   },
   "outputs": [
    {
     "data": {
      "text/plain": [
       "<38121x94331 sparse matrix of type '<class 'numpy.float64'>'\n",
       "\twith 2940040 stored elements in Compressed Sparse Row format>"
      ]
     },
     "execution_count": 12,
     "metadata": {},
     "output_type": "execute_result"
    }
   ],
   "source": [
    "ICM_dataframe = pd.read_csv(\"/kaggle/input/recommender-system-2024-challenge-polimi/data_ICM_metadata.csv\")\n",
    "\n",
    "n_items = len(ICM_dataframe[\"item_id\"].unique())\n",
    "n_features = len(ICM_dataframe[\"feature_id\"].unique())\n",
    "\n",
    "ICM_all = sps.csr_matrix((ICM_dataframe[\"data\"].values, \n",
    "                          (ICM_dataframe[\"item_id\"].values, ICM_dataframe[\"feature_id\"].values)),\n",
    "                        shape = (n_items, n_features))\n",
    "\n",
    "ICM_all"
   ]
  },
  {
   "cell_type": "markdown",
   "id": "06b24a2b",
   "metadata": {
    "papermill": {
     "duration": 0.016991,
     "end_time": "2024-12-30T17:12:37.133076",
     "exception": false,
     "start_time": "2024-12-30T17:12:37.116085",
     "status": "completed"
    },
    "tags": []
   },
   "source": [
    "# Training\n",
    "Split the dataset in train, validation and test set."
   ]
  },
  {
   "cell_type": "code",
   "execution_count": 13,
   "id": "c1ec0860",
   "metadata": {
    "execution": {
     "iopub.execute_input": "2024-12-30T17:12:37.168972Z",
     "iopub.status.busy": "2024-12-30T17:12:37.168537Z",
     "iopub.status.idle": "2024-12-30T17:12:42.477799Z",
     "shell.execute_reply": "2024-12-30T17:12:42.476415Z"
    },
    "papermill": {
     "duration": 5.329186,
     "end_time": "2024-12-30T17:12:42.479508",
     "exception": false,
     "start_time": "2024-12-30T17:12:37.150322",
     "status": "completed"
    },
    "tags": []
   },
   "outputs": [
    {
     "name": "stdout",
     "output_type": "stream",
     "text": [
      "Warning: 141 (0.39 %) of 35736 users have no sampled items\n",
      "Warning: 391 (1.09 %) of 35736 users have no sampled items\n",
      "EvaluatorHoldout: Ignoring 141 ( 0.4%) Users that have less than 1 test interactions\n"
     ]
    }
   ],
   "source": [
    "from Evaluation.Evaluator import EvaluatorHoldout\n",
    "from Data_manager.split_functions.split_train_validation_random_holdout import split_train_in_two_percentage_global_sample\n",
    "\n",
    "URM_train, URM_test = split_train_in_two_percentage_global_sample(URM_all, train_percentage = 0.80)\n",
    "URM_train, URM_validation = split_train_in_two_percentage_global_sample(URM_train, train_percentage = 0.80)\n",
    "\n",
    "evaluator_test = EvaluatorHoldout(URM_test, cutoff_list=[10])"
   ]
  },
  {
   "cell_type": "markdown",
   "id": "7ee5b8e2",
   "metadata": {
    "papermill": {
     "duration": 0.017356,
     "end_time": "2024-12-30T17:12:42.514732",
     "exception": false,
     "start_time": "2024-12-30T17:12:42.497376",
     "status": "completed"
    },
    "tags": []
   },
   "source": [
    "## Candidate Generators\n",
    "\n",
    "Import the best previously trained recommenders to use them as candidate generators."
   ]
  },
  {
   "cell_type": "code",
   "execution_count": 14,
   "id": "afe31ddc",
   "metadata": {
    "execution": {
     "iopub.execute_input": "2024-12-30T17:12:42.552228Z",
     "iopub.status.busy": "2024-12-30T17:12:42.551793Z",
     "iopub.status.idle": "2024-12-30T17:12:42.556638Z",
     "shell.execute_reply": "2024-12-30T17:12:42.555637Z"
    },
    "papermill": {
     "duration": 0.025758,
     "end_time": "2024-12-30T17:12:42.558318",
     "exception": false,
     "start_time": "2024-12-30T17:12:42.532560",
     "status": "completed"
    },
    "tags": []
   },
   "outputs": [],
   "source": [
    "cg_recommenders = {\n",
    "    \"RP3beta\": RP3betaRecommender,\n",
    "    \"ItemKNNCF\": ItemKNNCFRecommender,\n",
    "    \"SLIMElasticNet\": SLIMElasticNetRecommender\n",
    "}\n",
    "\n",
    "if config[\"tune_parameters\"]:\n",
    "    print(\"***TRAINING CONTENT GENERATION RECOMMENDERS***\\n\")\n",
    "    candidate_generator_recommenders = fit_recommenders(\"Recall\", \"Train\", URM_train, ICM_all, cg_recommenders, GH_PATH, \"cg\", repo)"
   ]
  },
  {
   "cell_type": "markdown",
   "id": "04311c78",
   "metadata": {
    "papermill": {
     "duration": 0.017619,
     "end_time": "2024-12-30T17:12:42.594590",
     "exception": false,
     "start_time": "2024-12-30T17:12:42.576971",
     "status": "completed"
    },
    "tags": []
   },
   "source": [
    "## Features\n",
    "Import the other previously trained recommenders to use them as features."
   ]
  },
  {
   "cell_type": "code",
   "execution_count": 15,
   "id": "c80885df",
   "metadata": {
    "execution": {
     "iopub.execute_input": "2024-12-30T17:12:42.631938Z",
     "iopub.status.busy": "2024-12-30T17:12:42.631439Z",
     "iopub.status.idle": "2024-12-30T17:12:42.637608Z",
     "shell.execute_reply": "2024-12-30T17:12:42.636457Z"
    },
    "papermill": {
     "duration": 0.026864,
     "end_time": "2024-12-30T17:12:42.639450",
     "exception": false,
     "start_time": "2024-12-30T17:12:42.612586",
     "status": "completed"
    },
    "tags": []
   },
   "outputs": [],
   "source": [
    "f_recommenders = {\n",
    "    \"RP3beta\": RP3betaRecommender,\n",
    "    \"P3alpha\": P3alphaRecommender,\n",
    "    \"ItemKNNCF\": ItemKNNCFRecommender,\n",
    "    \"ItemKNNCBF\": ItemKNNCBFRecommender,\n",
    "    \"UserKNNCF\": UserKNNCFRecommender,\n",
    "    \"FasterIALS\": FasterIALSRecommender,\n",
    "    # \"NMF\": NMFRecommender,\n",
    "    \"PureSVDItem\": PureSVDItemRecommender,\n",
    "    \"ScaledPureSVD\": ScaledPureSVDRecommender,\n",
    "    \"MultVAE\": MultVAERecommender_PyTorch_OptimizerMask,\n",
    "    \"SLIMElasticNet\": SLIMElasticNetRecommender,\n",
    "    \"SLIM_BPR\": SLIM_BPR_Python,\n",
    "}\n",
    "\n",
    "if config[\"tune_parameters\"]:\n",
    "    print(\"***TRAINING FEATURE RECOMMENDERS***\\n\")\n",
    "    features_recommenders = fit_recommenders(\"MAP\", \"Train\", URM_train, ICM_all, f_recommenders, GH_PATH, \"f\", repo)"
   ]
  },
  {
   "cell_type": "markdown",
   "id": "a6a1d482",
   "metadata": {
    "papermill": {
     "duration": 0.01744,
     "end_time": "2024-12-30T17:12:42.674823",
     "exception": false,
     "start_time": "2024-12-30T17:12:42.657383",
     "status": "completed"
    },
    "tags": []
   },
   "source": [
    "## Training dataframe building\n",
    "Build the dataframe with the predictions, the popularity of the item, the user activity, the profile length and item features.\n",
    "\n",
    "Then, set features and target to use for the training."
   ]
  },
  {
   "cell_type": "code",
   "execution_count": 16,
   "id": "2a84d0d4",
   "metadata": {
    "execution": {
     "iopub.execute_input": "2024-12-30T17:12:42.711825Z",
     "iopub.status.busy": "2024-12-30T17:12:42.711370Z",
     "iopub.status.idle": "2024-12-30T17:12:42.716648Z",
     "shell.execute_reply": "2024-12-30T17:12:42.715753Z"
    },
    "papermill": {
     "duration": 0.025772,
     "end_time": "2024-12-30T17:12:42.718280",
     "exception": false,
     "start_time": "2024-12-30T17:12:42.692508",
     "status": "completed"
    },
    "tags": []
   },
   "outputs": [],
   "source": [
    "if config[\"tune_parameters\"]:\n",
    "    training_dataframe, groups_train = create_XGBoost_dataframe(URM_train, candidate_generator_recommenders, features_recommenders, ICM_all, URM_validation, cutoff=50, categorical=config[\"categorical\"], contents=config[\"contents\"])\n",
    "    display(training_dataframe)\n",
    "    print(\"-\" * 40)\n",
    "    display(groups_train)\n",
    "\n",
    "    y_train = training_dataframe[\"Label\"]\n",
    "    X_train = training_dataframe.drop(columns=[\"Label\"])\n",
    "\n",
    "    del candidate_generator_recommenders\n",
    "    del features_recommenders\n",
    "\n",
    "    # Extract labels and features\n",
    "    y_train_val = training_dataframe[\"Label\"]\n",
    "    X_train_val = training_dataframe.drop(columns=[\"Label\"])"
   ]
  },
  {
   "cell_type": "markdown",
   "id": "a7e2a35c",
   "metadata": {
    "papermill": {
     "duration": 0.017114,
     "end_time": "2024-12-30T17:12:42.753016",
     "exception": false,
     "start_time": "2024-12-30T17:12:42.735902",
     "status": "completed"
    },
    "tags": []
   },
   "source": [
    "## XGBoost training\n",
    "Let's train XGBoost to rerank those prediction using as lable whether they should be recommended or not."
   ]
  },
  {
   "cell_type": "code",
   "execution_count": 17,
   "id": "36f1083f",
   "metadata": {
    "execution": {
     "iopub.execute_input": "2024-12-30T17:12:42.789300Z",
     "iopub.status.busy": "2024-12-30T17:12:42.788939Z",
     "iopub.status.idle": "2024-12-30T17:12:42.797857Z",
     "shell.execute_reply": "2024-12-30T17:12:42.796889Z"
    },
    "papermill": {
     "duration": 0.029306,
     "end_time": "2024-12-30T17:12:42.799763",
     "exception": false,
     "start_time": "2024-12-30T17:12:42.770457",
     "status": "completed"
    },
    "tags": []
   },
   "outputs": [],
   "source": [
    "from Recommenders.XGBoost.XGBoostRankerRecommender import XGBoostRankerRecommender\n",
    "\n",
    "def objective_function_XGBoostRanker(optuna_trial):\n",
    "    \n",
    "    recommender_instance = XGBoostRankerRecommender(URM_train, training_dataframe)\n",
    "\n",
    "    full_hyperp = {\n",
    "            \"n_estimators\": optuna_trial.suggest_int(\"n_estimators\", 50, 500),\n",
    "            \"learning_rate\": optuna_trial.suggest_float(\"learning_rate\", 1e-4, 0.3, log=True),\n",
    "            \"reg_alpha\": optuna_trial.suggest_float(\"reg_alpha\", 1e-4, 1.0, log=True),\n",
    "            \"reg_lambda\": optuna_trial.suggest_float(\"reg_lambda\", 1e-4, 1.0, log=True),\n",
    "            \"max_depth\": optuna_trial.suggest_int(\"max_depth\", 3, 12),\n",
    "            \"max_leaves\": optuna_trial.suggest_int(\"max_leaves\", 2, 256),\n",
    "            \"grow_policy\": optuna_trial.suggest_categorical(\"grow_policy\", [\"depthwise\", \"lossguide\"]),\n",
    "            \"booster\": optuna_trial.suggest_categorical(\"booster\", [\"gbtree\", \"dart\"]),\n",
    "            # \"tree_method\": optuna_trial.suggest_categorical(\"tree_method\", [\"hist\", \"gpu_hist\", \"approx\"]),\n",
    "            \"tree_method\": \"hist\",\n",
    "            \"objective\": optuna_trial.suggest_categorical(\"objective\", [\"map\", \"pairwise\", \"ndcg\"])\n",
    "        }\n",
    "\n",
    "    recommender_instance.fit(\n",
    "        X_train,\n",
    "        y_train,\n",
    "        groups_train,\n",
    "        **full_hyperp\n",
    "    )\n",
    "\n",
    "    result_df, _ = evaluator_test.evaluateRecommender(recommender_instance)\n",
    "    \n",
    "    return result_df.loc[10][\"MAP\"]"
   ]
  },
  {
   "cell_type": "code",
   "execution_count": 18,
   "id": "19617629",
   "metadata": {
    "execution": {
     "iopub.execute_input": "2024-12-30T17:12:42.836971Z",
     "iopub.status.busy": "2024-12-30T17:12:42.836507Z",
     "iopub.status.idle": "2024-12-30T17:12:42.841282Z",
     "shell.execute_reply": "2024-12-30T17:12:42.840280Z"
    },
    "papermill": {
     "duration": 0.02511,
     "end_time": "2024-12-30T17:12:42.843022",
     "exception": false,
     "start_time": "2024-12-30T17:12:42.817912",
     "status": "completed"
    },
    "tags": []
   },
   "outputs": [],
   "source": [
    "if config['tune_parameters']:\n",
    "    \n",
    "    optuna_study = optuna.create_study(direction='maximize', study_name=f'hyperparameters_tuning_{config[\"model\"]}_{config[\"metric\"]}',\n",
    "                                storage=f'sqlite:///{config[\"database_path\"]}', load_if_exists=True)\n",
    "\n",
    "    optuna_study.optimize(objective_function_XGBoostRanker, n_trials=10)"
   ]
  },
  {
   "cell_type": "markdown",
   "id": "a71d96bc",
   "metadata": {
    "papermill": {
     "duration": 0.017895,
     "end_time": "2024-12-30T17:12:42.878849",
     "exception": false,
     "start_time": "2024-12-30T17:12:42.860954",
     "status": "completed"
    },
    "tags": []
   },
   "source": [
    "### Some optuna visualizations on recommender parameters"
   ]
  },
  {
   "cell_type": "code",
   "execution_count": 19,
   "id": "28daa2c6",
   "metadata": {
    "execution": {
     "iopub.execute_input": "2024-12-30T17:12:42.916230Z",
     "iopub.status.busy": "2024-12-30T17:12:42.915874Z",
     "iopub.status.idle": "2024-12-30T17:12:44.897723Z",
     "shell.execute_reply": "2024-12-30T17:12:44.896569Z"
    },
    "papermill": {
     "duration": 2.00234,
     "end_time": "2024-12-30T17:12:44.899439",
     "exception": false,
     "start_time": "2024-12-30T17:12:42.897099",
     "status": "completed"
    },
    "tags": []
   },
   "outputs": [
    {
     "data": {
      "text/html": [
       "<html>\n",
       "<head><meta charset=\"utf-8\" /></head>\n",
       "<body>\n",
       "    <div>            <script src=\"https://cdnjs.cloudflare.com/ajax/libs/mathjax/2.7.5/MathJax.js?config=TeX-AMS-MML_SVG\"></script><script type=\"text/javascript\">if (window.MathJax && window.MathJax.Hub && window.MathJax.Hub.Config) {window.MathJax.Hub.Config({SVG: {font: \"STIX-Web\"}});}</script>                <script type=\"text/javascript\">window.PlotlyConfig = {MathJaxConfig: 'local'};</script>\n",
       "        <script charset=\"utf-8\" src=\"https://cdn.plot.ly/plotly-2.35.2.min.js\"></script>                <div id=\"24b78a2d-5224-4992-bb37-e1cfe6526ccb\" class=\"plotly-graph-div\" style=\"height:525px; width:2700px;\"></div>            <script type=\"text/javascript\">                                    window.PLOTLYENV=window.PLOTLYENV || {};                                    if (document.getElementById(\"24b78a2d-5224-4992-bb37-e1cfe6526ccb\")) {                    Plotly.newPlot(                        \"24b78a2d-5224-4992-bb37-e1cfe6526ccb\",                        [{\"marker\":{\"color\":[0,1,2,3,4,5,6,7,8,9,10,11,12,13,14,15,16,17,18,19,20,21,22],\"colorbar\":{\"title\":{\"text\":\"Trial\"},\"x\":1.0,\"xpad\":40},\"colorscale\":[[0.0,\"rgb(247,251,255)\"],[0.125,\"rgb(222,235,247)\"],[0.25,\"rgb(198,219,239)\"],[0.375,\"rgb(158,202,225)\"],[0.5,\"rgb(107,174,214)\"],[0.625,\"rgb(66,146,198)\"],[0.75,\"rgb(33,113,181)\"],[0.875,\"rgb(8,81,156)\"],[1.0,\"rgb(8,48,107)\"]],\"line\":{\"color\":\"Grey\",\"width\":0.5},\"showscale\":true},\"mode\":\"markers\",\"name\":\"Feasible Trial\",\"showlegend\":false,\"x\":[\"dart\",\"gbtree\",\"gbtree\",\"dart\",\"dart\",\"dart\",\"gbtree\",\"gbtree\",\"gbtree\",\"dart\",\"gbtree\",\"gbtree\",\"gbtree\",\"gbtree\",\"gbtree\",\"gbtree\",\"gbtree\",\"gbtree\",\"gbtree\",\"gbtree\",\"gbtree\",\"gbtree\",\"gbtree\"],\"y\":[0.03729673331148116,0.043327299848157946,0.0395278764406434,0.03444978896179766,0.041879352593215374,0.03721360900964606,0.039850514050259765,0.04151817514944224,0.03855101260431924,0.035214156393463876,0.03709830054604483,0.04297812917366083,0.02854047630195813,0.041463434538022224,0.03982969674267463,0.04109581223508581,0.04248795532634401,0.042909221243396016,0.03607756016205089,0.04189960244995912,0.04136267689638794,0.043826522808400596,0.04318589087552267],\"type\":\"scatter\",\"xaxis\":\"x\",\"yaxis\":\"y\"},{\"marker\":{\"color\":[0,1,2,3,4,5,6,7,8,9,10,11,12,13,14,15,16,17,18,19,20,21,22],\"colorbar\":{\"title\":{\"text\":\"Trial\"},\"x\":1.0,\"xpad\":40},\"colorscale\":[[0.0,\"rgb(247,251,255)\"],[0.125,\"rgb(222,235,247)\"],[0.25,\"rgb(198,219,239)\"],[0.375,\"rgb(158,202,225)\"],[0.5,\"rgb(107,174,214)\"],[0.625,\"rgb(66,146,198)\"],[0.75,\"rgb(33,113,181)\"],[0.875,\"rgb(8,81,156)\"],[1.0,\"rgb(8,48,107)\"]],\"line\":{\"color\":\"Grey\",\"width\":0.5},\"showscale\":false},\"mode\":\"markers\",\"name\":\"Feasible Trial\",\"showlegend\":false,\"x\":[\"lossguide\",\"depthwise\",\"lossguide\",\"lossguide\",\"depthwise\",\"depthwise\",\"depthwise\",\"depthwise\",\"lossguide\",\"depthwise\",\"depthwise\",\"depthwise\",\"lossguide\",\"depthwise\",\"depthwise\",\"depthwise\",\"depthwise\",\"depthwise\",\"depthwise\",\"depthwise\",\"depthwise\",\"depthwise\",\"depthwise\"],\"y\":[0.03729673331148116,0.043327299848157946,0.0395278764406434,0.03444978896179766,0.041879352593215374,0.03721360900964606,0.039850514050259765,0.04151817514944224,0.03855101260431924,0.035214156393463876,0.03709830054604483,0.04297812917366083,0.02854047630195813,0.041463434538022224,0.03982969674267463,0.04109581223508581,0.04248795532634401,0.042909221243396016,0.03607756016205089,0.04189960244995912,0.04136267689638794,0.043826522808400596,0.04318589087552267],\"type\":\"scatter\",\"xaxis\":\"x2\",\"yaxis\":\"y2\"},{\"marker\":{\"color\":[0,1,2,3,4,5,6,7,8,9,10,11,12,13,14,15,16,17,18,19,20,21,22],\"colorbar\":{\"title\":{\"text\":\"Trial\"},\"x\":1.0,\"xpad\":40},\"colorscale\":[[0.0,\"rgb(247,251,255)\"],[0.125,\"rgb(222,235,247)\"],[0.25,\"rgb(198,219,239)\"],[0.375,\"rgb(158,202,225)\"],[0.5,\"rgb(107,174,214)\"],[0.625,\"rgb(66,146,198)\"],[0.75,\"rgb(33,113,181)\"],[0.875,\"rgb(8,81,156)\"],[1.0,\"rgb(8,48,107)\"]],\"line\":{\"color\":\"Grey\",\"width\":0.5},\"showscale\":false},\"mode\":\"markers\",\"name\":\"Feasible Trial\",\"showlegend\":false,\"x\":[0.022187175506860723,0.15492361048488582,0.002604995241860349,0.26959633885945655,0.00039947368812883784,0.033496587968083524,0.00019486997763685712,0.07676129166021804,0.0057233539883731754,0.10543113563185151,0.005178157186903607,0.007250818169370521,0.24423099734700815,0.0007290228751849314,0.02676575230725608,0.0023453420744141097,0.010702580355175576,0.0012386793361826684,0.11627044784854776,0.015296554993163831,0.00012086486201357677,0.0011926349158872076,0.0005343468388907712],\"y\":[0.03729673331148116,0.043327299848157946,0.0395278764406434,0.03444978896179766,0.041879352593215374,0.03721360900964606,0.039850514050259765,0.04151817514944224,0.03855101260431924,0.035214156393463876,0.03709830054604483,0.04297812917366083,0.02854047630195813,0.041463434538022224,0.03982969674267463,0.04109581223508581,0.04248795532634401,0.042909221243396016,0.03607756016205089,0.04189960244995912,0.04136267689638794,0.043826522808400596,0.04318589087552267],\"type\":\"scatter\",\"xaxis\":\"x3\",\"yaxis\":\"y3\"},{\"marker\":{\"color\":[0,1,2,3,4,5,6,7,8,9,10,11,12,13,14,15,16,17,18,19,20,21,22],\"colorbar\":{\"title\":{\"text\":\"Trial\"},\"x\":1.0,\"xpad\":40},\"colorscale\":[[0.0,\"rgb(247,251,255)\"],[0.125,\"rgb(222,235,247)\"],[0.25,\"rgb(198,219,239)\"],[0.375,\"rgb(158,202,225)\"],[0.5,\"rgb(107,174,214)\"],[0.625,\"rgb(66,146,198)\"],[0.75,\"rgb(33,113,181)\"],[0.875,\"rgb(8,81,156)\"],[1.0,\"rgb(8,48,107)\"]],\"line\":{\"color\":\"Grey\",\"width\":0.5},\"showscale\":false},\"mode\":\"markers\",\"name\":\"Feasible Trial\",\"showlegend\":false,\"x\":[8,5,6,11,3,8,9,3,7,8,7,6,9,5,5,5,4,12,6,4,6,12,10],\"y\":[0.03729673331148116,0.043327299848157946,0.0395278764406434,0.03444978896179766,0.041879352593215374,0.03721360900964606,0.039850514050259765,0.04151817514944224,0.03855101260431924,0.035214156393463876,0.03709830054604483,0.04297812917366083,0.02854047630195813,0.041463434538022224,0.03982969674267463,0.04109581223508581,0.04248795532634401,0.042909221243396016,0.03607756016205089,0.04189960244995912,0.04136267689638794,0.043826522808400596,0.04318589087552267],\"type\":\"scatter\",\"xaxis\":\"x4\",\"yaxis\":\"y4\"},{\"marker\":{\"color\":[0,1,2,3,4,5,6,7,8,9,10,11,12,13,14,15,16,17,18,19,20,21,22],\"colorbar\":{\"title\":{\"text\":\"Trial\"},\"x\":1.0,\"xpad\":40},\"colorscale\":[[0.0,\"rgb(247,251,255)\"],[0.125,\"rgb(222,235,247)\"],[0.25,\"rgb(198,219,239)\"],[0.375,\"rgb(158,202,225)\"],[0.5,\"rgb(107,174,214)\"],[0.625,\"rgb(66,146,198)\"],[0.75,\"rgb(33,113,181)\"],[0.875,\"rgb(8,81,156)\"],[1.0,\"rgb(8,48,107)\"]],\"line\":{\"color\":\"Grey\",\"width\":0.5},\"showscale\":false},\"mode\":\"markers\",\"name\":\"Feasible Trial\",\"showlegend\":false,\"x\":[240,3,121,25,99,115,217,145,221,224,154,26,213,3,56,63,45,4,83,179,30,8,28],\"y\":[0.03729673331148116,0.043327299848157946,0.0395278764406434,0.03444978896179766,0.041879352593215374,0.03721360900964606,0.039850514050259765,0.04151817514944224,0.03855101260431924,0.035214156393463876,0.03709830054604483,0.04297812917366083,0.02854047630195813,0.041463434538022224,0.03982969674267463,0.04109581223508581,0.04248795532634401,0.042909221243396016,0.03607756016205089,0.04189960244995912,0.04136267689638794,0.043826522808400596,0.04318589087552267],\"type\":\"scatter\",\"xaxis\":\"x5\",\"yaxis\":\"y5\"},{\"marker\":{\"color\":[0,1,2,3,4,5,6,7,8,9,10,11,12,13,14,15,16,17,18,19,20,21,22],\"colorbar\":{\"title\":{\"text\":\"Trial\"},\"x\":1.0,\"xpad\":40},\"colorscale\":[[0.0,\"rgb(247,251,255)\"],[0.125,\"rgb(222,235,247)\"],[0.25,\"rgb(198,219,239)\"],[0.375,\"rgb(158,202,225)\"],[0.5,\"rgb(107,174,214)\"],[0.625,\"rgb(66,146,198)\"],[0.75,\"rgb(33,113,181)\"],[0.875,\"rgb(8,81,156)\"],[1.0,\"rgb(8,48,107)\"]],\"line\":{\"color\":\"Grey\",\"width\":0.5},\"showscale\":false},\"mode\":\"markers\",\"name\":\"Feasible Trial\",\"showlegend\":false,\"x\":[53,486,315,78,228,123,121,495,125,124,428,122,352,249,201,408,190,495,300,392,174,484,458],\"y\":[0.03729673331148116,0.043327299848157946,0.0395278764406434,0.03444978896179766,0.041879352593215374,0.03721360900964606,0.039850514050259765,0.04151817514944224,0.03855101260431924,0.035214156393463876,0.03709830054604483,0.04297812917366083,0.02854047630195813,0.041463434538022224,0.03982969674267463,0.04109581223508581,0.04248795532634401,0.042909221243396016,0.03607756016205089,0.04189960244995912,0.04136267689638794,0.043826522808400596,0.04318589087552267],\"type\":\"scatter\",\"xaxis\":\"x6\",\"yaxis\":\"y6\"},{\"marker\":{\"color\":[0,1,2,3,4,5,6,7,8,9,10,11,12,13,14,15,16,17,18,19,20,21,22],\"colorbar\":{\"title\":{\"text\":\"Trial\"},\"x\":1.0,\"xpad\":40},\"colorscale\":[[0.0,\"rgb(247,251,255)\"],[0.125,\"rgb(222,235,247)\"],[0.25,\"rgb(198,219,239)\"],[0.375,\"rgb(158,202,225)\"],[0.5,\"rgb(107,174,214)\"],[0.625,\"rgb(66,146,198)\"],[0.75,\"rgb(33,113,181)\"],[0.875,\"rgb(8,81,156)\"],[1.0,\"rgb(8,48,107)\"]],\"line\":{\"color\":\"Grey\",\"width\":0.5},\"showscale\":false},\"mode\":\"markers\",\"name\":\"Feasible Trial\",\"showlegend\":false,\"x\":[\"ndcg\",\"ndcg\",\"ndcg\",\"map\",\"pairwise\",\"map\",\"map\",\"pairwise\",\"ndcg\",\"ndcg\",\"pairwise\",\"map\",\"ndcg\",\"map\",\"map\",\"ndcg\",\"map\",\"map\",\"ndcg\",\"pairwise\",\"ndcg\",\"map\",\"map\"],\"y\":[0.03729673331148116,0.043327299848157946,0.0395278764406434,0.03444978896179766,0.041879352593215374,0.03721360900964606,0.039850514050259765,0.04151817514944224,0.03855101260431924,0.035214156393463876,0.03709830054604483,0.04297812917366083,0.02854047630195813,0.041463434538022224,0.03982969674267463,0.04109581223508581,0.04248795532634401,0.042909221243396016,0.03607756016205089,0.04189960244995912,0.04136267689638794,0.043826522808400596,0.04318589087552267],\"type\":\"scatter\",\"xaxis\":\"x7\",\"yaxis\":\"y7\"},{\"marker\":{\"color\":[0,1,2,3,4,5,6,7,8,9,10,11,12,13,14,15,16,17,18,19,20,21,22],\"colorbar\":{\"title\":{\"text\":\"Trial\"},\"x\":1.0,\"xpad\":40},\"colorscale\":[[0.0,\"rgb(247,251,255)\"],[0.125,\"rgb(222,235,247)\"],[0.25,\"rgb(198,219,239)\"],[0.375,\"rgb(158,202,225)\"],[0.5,\"rgb(107,174,214)\"],[0.625,\"rgb(66,146,198)\"],[0.75,\"rgb(33,113,181)\"],[0.875,\"rgb(8,81,156)\"],[1.0,\"rgb(8,48,107)\"]],\"line\":{\"color\":\"Grey\",\"width\":0.5},\"showscale\":false},\"mode\":\"markers\",\"name\":\"Feasible Trial\",\"showlegend\":false,\"x\":[0.0020690757739612532,0.042672890887086146,0.00032139163320712695,0.00017876937092240947,0.8100370964103039,0.002073627704830683,0.01246844370741425,0.006771778642616205,0.015374495411517487,0.002587691382901186,0.342948245859963,0.0017523296016208453,0.00016879421871553876,0.10180559373631357,0.04985421553984133,0.050561245243699836,0.0006584995162999843,0.0007480054708871422,0.005277736921869667,0.024781056117223033,0.14747158294557883,0.0007586902841498234,0.0007541678928791232],\"y\":[0.03729673331148116,0.043327299848157946,0.0395278764406434,0.03444978896179766,0.041879352593215374,0.03721360900964606,0.039850514050259765,0.04151817514944224,0.03855101260431924,0.035214156393463876,0.03709830054604483,0.04297812917366083,0.02854047630195813,0.041463434538022224,0.03982969674267463,0.04109581223508581,0.04248795532634401,0.042909221243396016,0.03607756016205089,0.04189960244995912,0.04136267689638794,0.043826522808400596,0.04318589087552267],\"type\":\"scatter\",\"xaxis\":\"x8\",\"yaxis\":\"y8\"},{\"marker\":{\"color\":[0,1,2,3,4,5,6,7,8,9,10,11,12,13,14,15,16,17,18,19,20,21,22],\"colorbar\":{\"title\":{\"text\":\"Trial\"},\"x\":1.0,\"xpad\":40},\"colorscale\":[[0.0,\"rgb(247,251,255)\"],[0.125,\"rgb(222,235,247)\"],[0.25,\"rgb(198,219,239)\"],[0.375,\"rgb(158,202,225)\"],[0.5,\"rgb(107,174,214)\"],[0.625,\"rgb(66,146,198)\"],[0.75,\"rgb(33,113,181)\"],[0.875,\"rgb(8,81,156)\"],[1.0,\"rgb(8,48,107)\"]],\"line\":{\"color\":\"Grey\",\"width\":0.5},\"showscale\":false},\"mode\":\"markers\",\"name\":\"Feasible Trial\",\"showlegend\":false,\"x\":[0.022312948254703525,0.00019522345290843958,0.03663174514994069,0.6128866491390621,0.00014146914746124628,0.8663401863094993,0.007353430646461762,0.8338928704704734,0.17889858951461135,0.06118900763891222,0.0001868265577358714,0.00473608581942052,0.00047852834537331234,0.0021888893749564867,0.0009804667011644533,0.004670100569012303,0.0006253755003355303,0.0017903745341484067,0.014417599423463658,0.0034726001453223086,0.0003403992592368917,0.0025488725934985335,0.0009303852314922053],\"y\":[0.03729673331148116,0.043327299848157946,0.0395278764406434,0.03444978896179766,0.041879352593215374,0.03721360900964606,0.039850514050259765,0.04151817514944224,0.03855101260431924,0.035214156393463876,0.03709830054604483,0.04297812917366083,0.02854047630195813,0.041463434538022224,0.03982969674267463,0.04109581223508581,0.04248795532634401,0.042909221243396016,0.03607756016205089,0.04189960244995912,0.04136267689638794,0.043826522808400596,0.04318589087552267],\"type\":\"scatter\",\"xaxis\":\"x9\",\"yaxis\":\"y9\"}],                        {\"template\":{\"data\":{\"histogram2dcontour\":[{\"type\":\"histogram2dcontour\",\"colorbar\":{\"outlinewidth\":0,\"ticks\":\"\"},\"colorscale\":[[0.0,\"#0d0887\"],[0.1111111111111111,\"#46039f\"],[0.2222222222222222,\"#7201a8\"],[0.3333333333333333,\"#9c179e\"],[0.4444444444444444,\"#bd3786\"],[0.5555555555555556,\"#d8576b\"],[0.6666666666666666,\"#ed7953\"],[0.7777777777777778,\"#fb9f3a\"],[0.8888888888888888,\"#fdca26\"],[1.0,\"#f0f921\"]]}],\"choropleth\":[{\"type\":\"choropleth\",\"colorbar\":{\"outlinewidth\":0,\"ticks\":\"\"}}],\"histogram2d\":[{\"type\":\"histogram2d\",\"colorbar\":{\"outlinewidth\":0,\"ticks\":\"\"},\"colorscale\":[[0.0,\"#0d0887\"],[0.1111111111111111,\"#46039f\"],[0.2222222222222222,\"#7201a8\"],[0.3333333333333333,\"#9c179e\"],[0.4444444444444444,\"#bd3786\"],[0.5555555555555556,\"#d8576b\"],[0.6666666666666666,\"#ed7953\"],[0.7777777777777778,\"#fb9f3a\"],[0.8888888888888888,\"#fdca26\"],[1.0,\"#f0f921\"]]}],\"heatmap\":[{\"type\":\"heatmap\",\"colorbar\":{\"outlinewidth\":0,\"ticks\":\"\"},\"colorscale\":[[0.0,\"#0d0887\"],[0.1111111111111111,\"#46039f\"],[0.2222222222222222,\"#7201a8\"],[0.3333333333333333,\"#9c179e\"],[0.4444444444444444,\"#bd3786\"],[0.5555555555555556,\"#d8576b\"],[0.6666666666666666,\"#ed7953\"],[0.7777777777777778,\"#fb9f3a\"],[0.8888888888888888,\"#fdca26\"],[1.0,\"#f0f921\"]]}],\"heatmapgl\":[{\"type\":\"heatmapgl\",\"colorbar\":{\"outlinewidth\":0,\"ticks\":\"\"},\"colorscale\":[[0.0,\"#0d0887\"],[0.1111111111111111,\"#46039f\"],[0.2222222222222222,\"#7201a8\"],[0.3333333333333333,\"#9c179e\"],[0.4444444444444444,\"#bd3786\"],[0.5555555555555556,\"#d8576b\"],[0.6666666666666666,\"#ed7953\"],[0.7777777777777778,\"#fb9f3a\"],[0.8888888888888888,\"#fdca26\"],[1.0,\"#f0f921\"]]}],\"contourcarpet\":[{\"type\":\"contourcarpet\",\"colorbar\":{\"outlinewidth\":0,\"ticks\":\"\"}}],\"contour\":[{\"type\":\"contour\",\"colorbar\":{\"outlinewidth\":0,\"ticks\":\"\"},\"colorscale\":[[0.0,\"#0d0887\"],[0.1111111111111111,\"#46039f\"],[0.2222222222222222,\"#7201a8\"],[0.3333333333333333,\"#9c179e\"],[0.4444444444444444,\"#bd3786\"],[0.5555555555555556,\"#d8576b\"],[0.6666666666666666,\"#ed7953\"],[0.7777777777777778,\"#fb9f3a\"],[0.8888888888888888,\"#fdca26\"],[1.0,\"#f0f921\"]]}],\"surface\":[{\"type\":\"surface\",\"colorbar\":{\"outlinewidth\":0,\"ticks\":\"\"},\"colorscale\":[[0.0,\"#0d0887\"],[0.1111111111111111,\"#46039f\"],[0.2222222222222222,\"#7201a8\"],[0.3333333333333333,\"#9c179e\"],[0.4444444444444444,\"#bd3786\"],[0.5555555555555556,\"#d8576b\"],[0.6666666666666666,\"#ed7953\"],[0.7777777777777778,\"#fb9f3a\"],[0.8888888888888888,\"#fdca26\"],[1.0,\"#f0f921\"]]}],\"mesh3d\":[{\"type\":\"mesh3d\",\"colorbar\":{\"outlinewidth\":0,\"ticks\":\"\"}}],\"scatter\":[{\"fillpattern\":{\"fillmode\":\"overlay\",\"size\":10,\"solidity\":0.2},\"type\":\"scatter\"}],\"parcoords\":[{\"type\":\"parcoords\",\"line\":{\"colorbar\":{\"outlinewidth\":0,\"ticks\":\"\"}}}],\"scatterpolargl\":[{\"type\":\"scatterpolargl\",\"marker\":{\"colorbar\":{\"outlinewidth\":0,\"ticks\":\"\"}}}],\"bar\":[{\"error_x\":{\"color\":\"#2a3f5f\"},\"error_y\":{\"color\":\"#2a3f5f\"},\"marker\":{\"line\":{\"color\":\"#E5ECF6\",\"width\":0.5},\"pattern\":{\"fillmode\":\"overlay\",\"size\":10,\"solidity\":0.2}},\"type\":\"bar\"}],\"scattergeo\":[{\"type\":\"scattergeo\",\"marker\":{\"colorbar\":{\"outlinewidth\":0,\"ticks\":\"\"}}}],\"scatterpolar\":[{\"type\":\"scatterpolar\",\"marker\":{\"colorbar\":{\"outlinewidth\":0,\"ticks\":\"\"}}}],\"histogram\":[{\"marker\":{\"pattern\":{\"fillmode\":\"overlay\",\"size\":10,\"solidity\":0.2}},\"type\":\"histogram\"}],\"scattergl\":[{\"type\":\"scattergl\",\"marker\":{\"colorbar\":{\"outlinewidth\":0,\"ticks\":\"\"}}}],\"scatter3d\":[{\"type\":\"scatter3d\",\"line\":{\"colorbar\":{\"outlinewidth\":0,\"ticks\":\"\"}},\"marker\":{\"colorbar\":{\"outlinewidth\":0,\"ticks\":\"\"}}}],\"scattermapbox\":[{\"type\":\"scattermapbox\",\"marker\":{\"colorbar\":{\"outlinewidth\":0,\"ticks\":\"\"}}}],\"scatterternary\":[{\"type\":\"scatterternary\",\"marker\":{\"colorbar\":{\"outlinewidth\":0,\"ticks\":\"\"}}}],\"scattercarpet\":[{\"type\":\"scattercarpet\",\"marker\":{\"colorbar\":{\"outlinewidth\":0,\"ticks\":\"\"}}}],\"carpet\":[{\"aaxis\":{\"endlinecolor\":\"#2a3f5f\",\"gridcolor\":\"white\",\"linecolor\":\"white\",\"minorgridcolor\":\"white\",\"startlinecolor\":\"#2a3f5f\"},\"baxis\":{\"endlinecolor\":\"#2a3f5f\",\"gridcolor\":\"white\",\"linecolor\":\"white\",\"minorgridcolor\":\"white\",\"startlinecolor\":\"#2a3f5f\"},\"type\":\"carpet\"}],\"table\":[{\"cells\":{\"fill\":{\"color\":\"#EBF0F8\"},\"line\":{\"color\":\"white\"}},\"header\":{\"fill\":{\"color\":\"#C8D4E3\"},\"line\":{\"color\":\"white\"}},\"type\":\"table\"}],\"barpolar\":[{\"marker\":{\"line\":{\"color\":\"#E5ECF6\",\"width\":0.5},\"pattern\":{\"fillmode\":\"overlay\",\"size\":10,\"solidity\":0.2}},\"type\":\"barpolar\"}],\"pie\":[{\"automargin\":true,\"type\":\"pie\"}]},\"layout\":{\"autotypenumbers\":\"strict\",\"colorway\":[\"#636efa\",\"#EF553B\",\"#00cc96\",\"#ab63fa\",\"#FFA15A\",\"#19d3f3\",\"#FF6692\",\"#B6E880\",\"#FF97FF\",\"#FECB52\"],\"font\":{\"color\":\"#2a3f5f\"},\"hovermode\":\"closest\",\"hoverlabel\":{\"align\":\"left\"},\"paper_bgcolor\":\"white\",\"plot_bgcolor\":\"#E5ECF6\",\"polar\":{\"bgcolor\":\"#E5ECF6\",\"angularaxis\":{\"gridcolor\":\"white\",\"linecolor\":\"white\",\"ticks\":\"\"},\"radialaxis\":{\"gridcolor\":\"white\",\"linecolor\":\"white\",\"ticks\":\"\"}},\"ternary\":{\"bgcolor\":\"#E5ECF6\",\"aaxis\":{\"gridcolor\":\"white\",\"linecolor\":\"white\",\"ticks\":\"\"},\"baxis\":{\"gridcolor\":\"white\",\"linecolor\":\"white\",\"ticks\":\"\"},\"caxis\":{\"gridcolor\":\"white\",\"linecolor\":\"white\",\"ticks\":\"\"}},\"coloraxis\":{\"colorbar\":{\"outlinewidth\":0,\"ticks\":\"\"}},\"colorscale\":{\"sequential\":[[0.0,\"#0d0887\"],[0.1111111111111111,\"#46039f\"],[0.2222222222222222,\"#7201a8\"],[0.3333333333333333,\"#9c179e\"],[0.4444444444444444,\"#bd3786\"],[0.5555555555555556,\"#d8576b\"],[0.6666666666666666,\"#ed7953\"],[0.7777777777777778,\"#fb9f3a\"],[0.8888888888888888,\"#fdca26\"],[1.0,\"#f0f921\"]],\"sequentialminus\":[[0.0,\"#0d0887\"],[0.1111111111111111,\"#46039f\"],[0.2222222222222222,\"#7201a8\"],[0.3333333333333333,\"#9c179e\"],[0.4444444444444444,\"#bd3786\"],[0.5555555555555556,\"#d8576b\"],[0.6666666666666666,\"#ed7953\"],[0.7777777777777778,\"#fb9f3a\"],[0.8888888888888888,\"#fdca26\"],[1.0,\"#f0f921\"]],\"diverging\":[[0,\"#8e0152\"],[0.1,\"#c51b7d\"],[0.2,\"#de77ae\"],[0.3,\"#f1b6da\"],[0.4,\"#fde0ef\"],[0.5,\"#f7f7f7\"],[0.6,\"#e6f5d0\"],[0.7,\"#b8e186\"],[0.8,\"#7fbc41\"],[0.9,\"#4d9221\"],[1,\"#276419\"]]},\"xaxis\":{\"gridcolor\":\"white\",\"linecolor\":\"white\",\"ticks\":\"\",\"title\":{\"standoff\":15},\"zerolinecolor\":\"white\",\"automargin\":true,\"zerolinewidth\":2},\"yaxis\":{\"gridcolor\":\"white\",\"linecolor\":\"white\",\"ticks\":\"\",\"title\":{\"standoff\":15},\"zerolinecolor\":\"white\",\"automargin\":true,\"zerolinewidth\":2},\"scene\":{\"xaxis\":{\"backgroundcolor\":\"#E5ECF6\",\"gridcolor\":\"white\",\"linecolor\":\"white\",\"showbackground\":true,\"ticks\":\"\",\"zerolinecolor\":\"white\",\"gridwidth\":2},\"yaxis\":{\"backgroundcolor\":\"#E5ECF6\",\"gridcolor\":\"white\",\"linecolor\":\"white\",\"showbackground\":true,\"ticks\":\"\",\"zerolinecolor\":\"white\",\"gridwidth\":2},\"zaxis\":{\"backgroundcolor\":\"#E5ECF6\",\"gridcolor\":\"white\",\"linecolor\":\"white\",\"showbackground\":true,\"ticks\":\"\",\"zerolinecolor\":\"white\",\"gridwidth\":2}},\"shapedefaults\":{\"line\":{\"color\":\"#2a3f5f\"}},\"annotationdefaults\":{\"arrowcolor\":\"#2a3f5f\",\"arrowhead\":0,\"arrowwidth\":1},\"geo\":{\"bgcolor\":\"white\",\"landcolor\":\"#E5ECF6\",\"subunitcolor\":\"white\",\"showland\":true,\"showlakes\":true,\"lakecolor\":\"white\"},\"title\":{\"x\":0.05},\"mapbox\":{\"style\":\"light\"}}},\"xaxis\":{\"anchor\":\"y\",\"domain\":[0.0,0.09135802469135802],\"title\":{\"text\":\"booster\"},\"type\":\"category\",\"categoryorder\":\"array\",\"categoryarray\":[\"gbtree\",\"dart\"]},\"yaxis\":{\"anchor\":\"x\",\"domain\":[0.0,1.0],\"title\":{\"text\":\"Objective Value\"}},\"xaxis2\":{\"anchor\":\"y2\",\"domain\":[0.11358024691358025,0.20493827160493827],\"title\":{\"text\":\"grow_policy\"},\"type\":\"category\",\"categoryorder\":\"array\",\"categoryarray\":[\"depthwise\",\"lossguide\"]},\"yaxis2\":{\"anchor\":\"x2\",\"domain\":[0.0,1.0],\"matches\":\"y\",\"showticklabels\":false},\"xaxis3\":{\"anchor\":\"y3\",\"domain\":[0.2271604938271605,0.31851851851851853],\"title\":{\"text\":\"learning_rate\"},\"type\":\"log\"},\"yaxis3\":{\"anchor\":\"x3\",\"domain\":[0.0,1.0],\"matches\":\"y\",\"showticklabels\":false},\"xaxis4\":{\"anchor\":\"y4\",\"domain\":[0.34074074074074073,0.43209876543209874],\"title\":{\"text\":\"max_depth\"}},\"yaxis4\":{\"anchor\":\"x4\",\"domain\":[0.0,1.0],\"matches\":\"y\",\"showticklabels\":false},\"xaxis5\":{\"anchor\":\"y5\",\"domain\":[0.454320987654321,0.5456790123456791],\"title\":{\"text\":\"max_leaves\"}},\"yaxis5\":{\"anchor\":\"x5\",\"domain\":[0.0,1.0],\"matches\":\"y\",\"showticklabels\":false},\"xaxis6\":{\"anchor\":\"y6\",\"domain\":[0.5679012345679012,0.6592592592592592],\"title\":{\"text\":\"n_estimators\"}},\"yaxis6\":{\"anchor\":\"x6\",\"domain\":[0.0,1.0],\"matches\":\"y\",\"showticklabels\":false},\"xaxis7\":{\"anchor\":\"y7\",\"domain\":[0.6814814814814815,0.7728395061728395],\"title\":{\"text\":\"objective\"},\"type\":\"category\",\"categoryorder\":\"array\",\"categoryarray\":[\"map\",\"pairwise\",\"ndcg\"]},\"yaxis7\":{\"anchor\":\"x7\",\"domain\":[0.0,1.0],\"matches\":\"y\",\"showticklabels\":false},\"xaxis8\":{\"anchor\":\"y8\",\"domain\":[0.7950617283950617,0.8864197530864197],\"title\":{\"text\":\"reg_alpha\"},\"type\":\"log\"},\"yaxis8\":{\"anchor\":\"x8\",\"domain\":[0.0,1.0],\"matches\":\"y\",\"showticklabels\":false},\"xaxis9\":{\"anchor\":\"y9\",\"domain\":[0.908641975308642,1.0],\"title\":{\"text\":\"reg_lambda\"},\"type\":\"log\"},\"yaxis9\":{\"anchor\":\"x9\",\"domain\":[0.0,1.0],\"matches\":\"y\",\"showticklabels\":false},\"title\":{\"text\":\"Slice Plot\"},\"width\":2700},                        {\"responsive\": true}                    ).then(function(){\n",
       "                            \n",
       "var gd = document.getElementById('24b78a2d-5224-4992-bb37-e1cfe6526ccb');\n",
       "var x = new MutationObserver(function (mutations, observer) {{\n",
       "        var display = window.getComputedStyle(gd).display;\n",
       "        if (!display || display === 'none') {{\n",
       "            console.log([gd, 'removed!']);\n",
       "            Plotly.purge(gd);\n",
       "            observer.disconnect();\n",
       "        }}\n",
       "}});\n",
       "\n",
       "// Listen for the removal of the full notebook cells\n",
       "var notebookContainer = gd.closest('#notebook-container');\n",
       "if (notebookContainer) {{\n",
       "    x.observe(notebookContainer, {childList: true});\n",
       "}}\n",
       "\n",
       "// Listen for the clearing of the current output cell\n",
       "var outputEl = gd.closest('.output');\n",
       "if (outputEl) {{\n",
       "    x.observe(outputEl, {childList: true});\n",
       "}}\n",
       "\n",
       "                        })                };                            </script>        </div>\n",
       "</body>\n",
       "</html>"
      ]
     },
     "metadata": {},
     "output_type": "display_data"
    }
   ],
   "source": [
    "if not config['tune_parameters']:\n",
    "    optuna_study = optuna.load_study(study_name=f'hyperparameters_tuning_{config[\"model\"]}_{config[\"metric\"]}', storage=f'sqlite:///{config[\"database_path\"]}')\n",
    "    \n",
    "fig = optuna.visualization.plot_slice(optuna_study)\n",
    "fig.show()"
   ]
  },
  {
   "cell_type": "code",
   "execution_count": 20,
   "id": "9a8f232f",
   "metadata": {
    "execution": {
     "iopub.execute_input": "2024-12-30T17:12:44.938740Z",
     "iopub.status.busy": "2024-12-30T17:12:44.938311Z",
     "iopub.status.idle": "2024-12-30T17:12:45.428497Z",
     "shell.execute_reply": "2024-12-30T17:12:45.427427Z"
    },
    "papermill": {
     "duration": 0.511342,
     "end_time": "2024-12-30T17:12:45.430311",
     "exception": false,
     "start_time": "2024-12-30T17:12:44.918969",
     "status": "completed"
    },
    "tags": []
   },
   "outputs": [
    {
     "data": {
      "text/html": [
       "<html>\n",
       "<head><meta charset=\"utf-8\" /></head>\n",
       "<body>\n",
       "    <div>            <script src=\"https://cdnjs.cloudflare.com/ajax/libs/mathjax/2.7.5/MathJax.js?config=TeX-AMS-MML_SVG\"></script><script type=\"text/javascript\">if (window.MathJax && window.MathJax.Hub && window.MathJax.Hub.Config) {window.MathJax.Hub.Config({SVG: {font: \"STIX-Web\"}});}</script>                <script type=\"text/javascript\">window.PlotlyConfig = {MathJaxConfig: 'local'};</script>\n",
       "        <script charset=\"utf-8\" src=\"https://cdn.plot.ly/plotly-2.35.2.min.js\"></script>                <div id=\"70ce939b-2e45-47c6-b45a-e23a91bf4e34\" class=\"plotly-graph-div\" style=\"height:525px; width:100%;\"></div>            <script type=\"text/javascript\">                                    window.PLOTLYENV=window.PLOTLYENV || {};                                    if (document.getElementById(\"70ce939b-2e45-47c6-b45a-e23a91bf4e34\")) {                    Plotly.newPlot(                        \"70ce939b-2e45-47c6-b45a-e23a91bf4e34\",                        [{\"cliponaxis\":false,\"hovertemplate\":[\"objective (CategoricalDistribution): 0.011448348838539346\\u003cextra\\u003e\\u003c\\u002fextra\\u003e\",\"reg_alpha (FloatDistribution): 0.02174485555644565\\u003cextra\\u003e\\u003c\\u002fextra\\u003e\",\"grow_policy (CategoricalDistribution): 0.0360682458558041\\u003cextra\\u003e\\u003c\\u002fextra\\u003e\",\"booster (CategoricalDistribution): 0.05104447982376202\\u003cextra\\u003e\\u003c\\u002fextra\\u003e\",\"reg_lambda (FloatDistribution): 0.054975127691943945\\u003cextra\\u003e\\u003c\\u002fextra\\u003e\",\"n_estimators (IntDistribution): 0.06297653184860873\\u003cextra\\u003e\\u003c\\u002fextra\\u003e\",\"max_depth (IntDistribution): 0.11256419323902142\\u003cextra\\u003e\\u003c\\u002fextra\\u003e\",\"max_leaves (IntDistribution): 0.15378434585792028\\u003cextra\\u003e\\u003c\\u002fextra\\u003e\",\"learning_rate (FloatDistribution): 0.4953938712879545\\u003cextra\\u003e\\u003c\\u002fextra\\u003e\"],\"name\":\"Objective Value\",\"orientation\":\"h\",\"text\":[\"0.01\",\"0.02\",\"0.04\",\"0.05\",\"0.05\",\"0.06\",\"0.11\",\"0.15\",\"0.50\"],\"textposition\":\"outside\",\"x\":[0.011448348838539346,0.02174485555644565,0.0360682458558041,0.05104447982376202,0.054975127691943945,0.06297653184860873,0.11256419323902142,0.15378434585792028,0.4953938712879545],\"y\":[\"objective\",\"reg_alpha\",\"grow_policy\",\"booster\",\"reg_lambda\",\"n_estimators\",\"max_depth\",\"max_leaves\",\"learning_rate\"],\"type\":\"bar\"}],                        {\"title\":{\"text\":\"Hyperparameter Importances\"},\"xaxis\":{\"title\":{\"text\":\"Hyperparameter Importance\"}},\"yaxis\":{\"title\":{\"text\":\"Hyperparameter\"}},\"template\":{\"data\":{\"histogram2dcontour\":[{\"type\":\"histogram2dcontour\",\"colorbar\":{\"outlinewidth\":0,\"ticks\":\"\"},\"colorscale\":[[0.0,\"#0d0887\"],[0.1111111111111111,\"#46039f\"],[0.2222222222222222,\"#7201a8\"],[0.3333333333333333,\"#9c179e\"],[0.4444444444444444,\"#bd3786\"],[0.5555555555555556,\"#d8576b\"],[0.6666666666666666,\"#ed7953\"],[0.7777777777777778,\"#fb9f3a\"],[0.8888888888888888,\"#fdca26\"],[1.0,\"#f0f921\"]]}],\"choropleth\":[{\"type\":\"choropleth\",\"colorbar\":{\"outlinewidth\":0,\"ticks\":\"\"}}],\"histogram2d\":[{\"type\":\"histogram2d\",\"colorbar\":{\"outlinewidth\":0,\"ticks\":\"\"},\"colorscale\":[[0.0,\"#0d0887\"],[0.1111111111111111,\"#46039f\"],[0.2222222222222222,\"#7201a8\"],[0.3333333333333333,\"#9c179e\"],[0.4444444444444444,\"#bd3786\"],[0.5555555555555556,\"#d8576b\"],[0.6666666666666666,\"#ed7953\"],[0.7777777777777778,\"#fb9f3a\"],[0.8888888888888888,\"#fdca26\"],[1.0,\"#f0f921\"]]}],\"heatmap\":[{\"type\":\"heatmap\",\"colorbar\":{\"outlinewidth\":0,\"ticks\":\"\"},\"colorscale\":[[0.0,\"#0d0887\"],[0.1111111111111111,\"#46039f\"],[0.2222222222222222,\"#7201a8\"],[0.3333333333333333,\"#9c179e\"],[0.4444444444444444,\"#bd3786\"],[0.5555555555555556,\"#d8576b\"],[0.6666666666666666,\"#ed7953\"],[0.7777777777777778,\"#fb9f3a\"],[0.8888888888888888,\"#fdca26\"],[1.0,\"#f0f921\"]]}],\"heatmapgl\":[{\"type\":\"heatmapgl\",\"colorbar\":{\"outlinewidth\":0,\"ticks\":\"\"},\"colorscale\":[[0.0,\"#0d0887\"],[0.1111111111111111,\"#46039f\"],[0.2222222222222222,\"#7201a8\"],[0.3333333333333333,\"#9c179e\"],[0.4444444444444444,\"#bd3786\"],[0.5555555555555556,\"#d8576b\"],[0.6666666666666666,\"#ed7953\"],[0.7777777777777778,\"#fb9f3a\"],[0.8888888888888888,\"#fdca26\"],[1.0,\"#f0f921\"]]}],\"contourcarpet\":[{\"type\":\"contourcarpet\",\"colorbar\":{\"outlinewidth\":0,\"ticks\":\"\"}}],\"contour\":[{\"type\":\"contour\",\"colorbar\":{\"outlinewidth\":0,\"ticks\":\"\"},\"colorscale\":[[0.0,\"#0d0887\"],[0.1111111111111111,\"#46039f\"],[0.2222222222222222,\"#7201a8\"],[0.3333333333333333,\"#9c179e\"],[0.4444444444444444,\"#bd3786\"],[0.5555555555555556,\"#d8576b\"],[0.6666666666666666,\"#ed7953\"],[0.7777777777777778,\"#fb9f3a\"],[0.8888888888888888,\"#fdca26\"],[1.0,\"#f0f921\"]]}],\"surface\":[{\"type\":\"surface\",\"colorbar\":{\"outlinewidth\":0,\"ticks\":\"\"},\"colorscale\":[[0.0,\"#0d0887\"],[0.1111111111111111,\"#46039f\"],[0.2222222222222222,\"#7201a8\"],[0.3333333333333333,\"#9c179e\"],[0.4444444444444444,\"#bd3786\"],[0.5555555555555556,\"#d8576b\"],[0.6666666666666666,\"#ed7953\"],[0.7777777777777778,\"#fb9f3a\"],[0.8888888888888888,\"#fdca26\"],[1.0,\"#f0f921\"]]}],\"mesh3d\":[{\"type\":\"mesh3d\",\"colorbar\":{\"outlinewidth\":0,\"ticks\":\"\"}}],\"scatter\":[{\"fillpattern\":{\"fillmode\":\"overlay\",\"size\":10,\"solidity\":0.2},\"type\":\"scatter\"}],\"parcoords\":[{\"type\":\"parcoords\",\"line\":{\"colorbar\":{\"outlinewidth\":0,\"ticks\":\"\"}}}],\"scatterpolargl\":[{\"type\":\"scatterpolargl\",\"marker\":{\"colorbar\":{\"outlinewidth\":0,\"ticks\":\"\"}}}],\"bar\":[{\"error_x\":{\"color\":\"#2a3f5f\"},\"error_y\":{\"color\":\"#2a3f5f\"},\"marker\":{\"line\":{\"color\":\"#E5ECF6\",\"width\":0.5},\"pattern\":{\"fillmode\":\"overlay\",\"size\":10,\"solidity\":0.2}},\"type\":\"bar\"}],\"scattergeo\":[{\"type\":\"scattergeo\",\"marker\":{\"colorbar\":{\"outlinewidth\":0,\"ticks\":\"\"}}}],\"scatterpolar\":[{\"type\":\"scatterpolar\",\"marker\":{\"colorbar\":{\"outlinewidth\":0,\"ticks\":\"\"}}}],\"histogram\":[{\"marker\":{\"pattern\":{\"fillmode\":\"overlay\",\"size\":10,\"solidity\":0.2}},\"type\":\"histogram\"}],\"scattergl\":[{\"type\":\"scattergl\",\"marker\":{\"colorbar\":{\"outlinewidth\":0,\"ticks\":\"\"}}}],\"scatter3d\":[{\"type\":\"scatter3d\",\"line\":{\"colorbar\":{\"outlinewidth\":0,\"ticks\":\"\"}},\"marker\":{\"colorbar\":{\"outlinewidth\":0,\"ticks\":\"\"}}}],\"scattermapbox\":[{\"type\":\"scattermapbox\",\"marker\":{\"colorbar\":{\"outlinewidth\":0,\"ticks\":\"\"}}}],\"scatterternary\":[{\"type\":\"scatterternary\",\"marker\":{\"colorbar\":{\"outlinewidth\":0,\"ticks\":\"\"}}}],\"scattercarpet\":[{\"type\":\"scattercarpet\",\"marker\":{\"colorbar\":{\"outlinewidth\":0,\"ticks\":\"\"}}}],\"carpet\":[{\"aaxis\":{\"endlinecolor\":\"#2a3f5f\",\"gridcolor\":\"white\",\"linecolor\":\"white\",\"minorgridcolor\":\"white\",\"startlinecolor\":\"#2a3f5f\"},\"baxis\":{\"endlinecolor\":\"#2a3f5f\",\"gridcolor\":\"white\",\"linecolor\":\"white\",\"minorgridcolor\":\"white\",\"startlinecolor\":\"#2a3f5f\"},\"type\":\"carpet\"}],\"table\":[{\"cells\":{\"fill\":{\"color\":\"#EBF0F8\"},\"line\":{\"color\":\"white\"}},\"header\":{\"fill\":{\"color\":\"#C8D4E3\"},\"line\":{\"color\":\"white\"}},\"type\":\"table\"}],\"barpolar\":[{\"marker\":{\"line\":{\"color\":\"#E5ECF6\",\"width\":0.5},\"pattern\":{\"fillmode\":\"overlay\",\"size\":10,\"solidity\":0.2}},\"type\":\"barpolar\"}],\"pie\":[{\"automargin\":true,\"type\":\"pie\"}]},\"layout\":{\"autotypenumbers\":\"strict\",\"colorway\":[\"#636efa\",\"#EF553B\",\"#00cc96\",\"#ab63fa\",\"#FFA15A\",\"#19d3f3\",\"#FF6692\",\"#B6E880\",\"#FF97FF\",\"#FECB52\"],\"font\":{\"color\":\"#2a3f5f\"},\"hovermode\":\"closest\",\"hoverlabel\":{\"align\":\"left\"},\"paper_bgcolor\":\"white\",\"plot_bgcolor\":\"#E5ECF6\",\"polar\":{\"bgcolor\":\"#E5ECF6\",\"angularaxis\":{\"gridcolor\":\"white\",\"linecolor\":\"white\",\"ticks\":\"\"},\"radialaxis\":{\"gridcolor\":\"white\",\"linecolor\":\"white\",\"ticks\":\"\"}},\"ternary\":{\"bgcolor\":\"#E5ECF6\",\"aaxis\":{\"gridcolor\":\"white\",\"linecolor\":\"white\",\"ticks\":\"\"},\"baxis\":{\"gridcolor\":\"white\",\"linecolor\":\"white\",\"ticks\":\"\"},\"caxis\":{\"gridcolor\":\"white\",\"linecolor\":\"white\",\"ticks\":\"\"}},\"coloraxis\":{\"colorbar\":{\"outlinewidth\":0,\"ticks\":\"\"}},\"colorscale\":{\"sequential\":[[0.0,\"#0d0887\"],[0.1111111111111111,\"#46039f\"],[0.2222222222222222,\"#7201a8\"],[0.3333333333333333,\"#9c179e\"],[0.4444444444444444,\"#bd3786\"],[0.5555555555555556,\"#d8576b\"],[0.6666666666666666,\"#ed7953\"],[0.7777777777777778,\"#fb9f3a\"],[0.8888888888888888,\"#fdca26\"],[1.0,\"#f0f921\"]],\"sequentialminus\":[[0.0,\"#0d0887\"],[0.1111111111111111,\"#46039f\"],[0.2222222222222222,\"#7201a8\"],[0.3333333333333333,\"#9c179e\"],[0.4444444444444444,\"#bd3786\"],[0.5555555555555556,\"#d8576b\"],[0.6666666666666666,\"#ed7953\"],[0.7777777777777778,\"#fb9f3a\"],[0.8888888888888888,\"#fdca26\"],[1.0,\"#f0f921\"]],\"diverging\":[[0,\"#8e0152\"],[0.1,\"#c51b7d\"],[0.2,\"#de77ae\"],[0.3,\"#f1b6da\"],[0.4,\"#fde0ef\"],[0.5,\"#f7f7f7\"],[0.6,\"#e6f5d0\"],[0.7,\"#b8e186\"],[0.8,\"#7fbc41\"],[0.9,\"#4d9221\"],[1,\"#276419\"]]},\"xaxis\":{\"gridcolor\":\"white\",\"linecolor\":\"white\",\"ticks\":\"\",\"title\":{\"standoff\":15},\"zerolinecolor\":\"white\",\"automargin\":true,\"zerolinewidth\":2},\"yaxis\":{\"gridcolor\":\"white\",\"linecolor\":\"white\",\"ticks\":\"\",\"title\":{\"standoff\":15},\"zerolinecolor\":\"white\",\"automargin\":true,\"zerolinewidth\":2},\"scene\":{\"xaxis\":{\"backgroundcolor\":\"#E5ECF6\",\"gridcolor\":\"white\",\"linecolor\":\"white\",\"showbackground\":true,\"ticks\":\"\",\"zerolinecolor\":\"white\",\"gridwidth\":2},\"yaxis\":{\"backgroundcolor\":\"#E5ECF6\",\"gridcolor\":\"white\",\"linecolor\":\"white\",\"showbackground\":true,\"ticks\":\"\",\"zerolinecolor\":\"white\",\"gridwidth\":2},\"zaxis\":{\"backgroundcolor\":\"#E5ECF6\",\"gridcolor\":\"white\",\"linecolor\":\"white\",\"showbackground\":true,\"ticks\":\"\",\"zerolinecolor\":\"white\",\"gridwidth\":2}},\"shapedefaults\":{\"line\":{\"color\":\"#2a3f5f\"}},\"annotationdefaults\":{\"arrowcolor\":\"#2a3f5f\",\"arrowhead\":0,\"arrowwidth\":1},\"geo\":{\"bgcolor\":\"white\",\"landcolor\":\"#E5ECF6\",\"subunitcolor\":\"white\",\"showland\":true,\"showlakes\":true,\"lakecolor\":\"white\"},\"title\":{\"x\":0.05},\"mapbox\":{\"style\":\"light\"}}}},                        {\"responsive\": true}                    ).then(function(){\n",
       "                            \n",
       "var gd = document.getElementById('70ce939b-2e45-47c6-b45a-e23a91bf4e34');\n",
       "var x = new MutationObserver(function (mutations, observer) {{\n",
       "        var display = window.getComputedStyle(gd).display;\n",
       "        if (!display || display === 'none') {{\n",
       "            console.log([gd, 'removed!']);\n",
       "            Plotly.purge(gd);\n",
       "            observer.disconnect();\n",
       "        }}\n",
       "}});\n",
       "\n",
       "// Listen for the removal of the full notebook cells\n",
       "var notebookContainer = gd.closest('#notebook-container');\n",
       "if (notebookContainer) {{\n",
       "    x.observe(notebookContainer, {childList: true});\n",
       "}}\n",
       "\n",
       "// Listen for the clearing of the current output cell\n",
       "var outputEl = gd.closest('.output');\n",
       "if (outputEl) {{\n",
       "    x.observe(outputEl, {childList: true});\n",
       "}}\n",
       "\n",
       "                        })                };                            </script>        </div>\n",
       "</body>\n",
       "</html>"
      ]
     },
     "metadata": {},
     "output_type": "display_data"
    }
   ],
   "source": [
    "if not config['tune_parameters']:\n",
    "    optuna_study = optuna.load_study(study_name=f'hyperparameters_tuning_{config[\"model\"]}_{config[\"metric\"]}', storage=f'sqlite:///{config[\"database_path\"]}')\n",
    "    \n",
    "fig = optuna.visualization.plot_param_importances(optuna_study)\n",
    "fig.show()"
   ]
  },
  {
   "cell_type": "markdown",
   "id": "09a73d43",
   "metadata": {
    "papermill": {
     "duration": 0.01814,
     "end_time": "2024-12-30T17:12:45.467014",
     "exception": false,
     "start_time": "2024-12-30T17:12:45.448874",
     "status": "completed"
    },
    "tags": []
   },
   "source": [
    "# Testing\n",
    "Let's train the recommender with best parameter values: both candidate generator and feature one.\n",
    "Then create the new dataframe."
   ]
  },
  {
   "cell_type": "code",
   "execution_count": 21,
   "id": "c100b5d5",
   "metadata": {
    "execution": {
     "iopub.execute_input": "2024-12-30T17:12:45.505578Z",
     "iopub.status.busy": "2024-12-30T17:12:45.505176Z",
     "iopub.status.idle": "2024-12-30T17:55:43.250333Z",
     "shell.execute_reply": "2024-12-30T17:55:43.249190Z"
    },
    "papermill": {
     "duration": 2577.76703,
     "end_time": "2024-12-30T17:55:43.252490",
     "exception": false,
     "start_time": "2024-12-30T17:12:45.485460",
     "status": "completed"
    },
    "tags": []
   },
   "outputs": [
    {
     "name": "stdout",
     "output_type": "stream",
     "text": [
      "***TRAINING CONTENT GENERATION RECOMMENDERS***\n",
      "\n",
      "RP3beta Model - TRAINING with its best parameters.\n",
      "RP3betaRecommender: Similarity column 38121 (100.0%), 1872.62 column/sec. Elapsed time 20.36 sec\n",
      "Training of RP3beta completed in 23.63 sec.\n",
      "\n",
      "ItemKNNCF Model - TRAINING with its best parameters.\n",
      "Similarity column 38121 (100.0%), 2721.37 column/sec. Elapsed time 14.01 sec\n",
      "Training of ItemKNNCF completed in 14.42 sec.\n",
      "\n",
      "SLIMElasticNet Model - TRAINING with its best parameters.\n",
      "Model for SLIMElasticNet already exists. Loading the saved model.\n",
      "SLIMElasticNetRecommender: Loading model from file 'TrainedModels/WithoutKFCV/XGBoost/CandidateGenerator/TrainValbest_SLIMElasticNet_Recall_TrainVal_tuned'\n",
      "SLIMElasticNetRecommender: Loading complete\n",
      "***TRAINING FEATURE RECOMMENDERS***\n",
      "\n",
      "RP3beta Model - TRAINING with its best parameters.\n",
      "RP3betaRecommender: Similarity column 38121 (100.0%), 2173.40 column/sec. Elapsed time 17.54 sec\n",
      "Training of RP3beta completed in 18.71 sec.\n",
      "\n",
      "P3alpha Model - TRAINING with its best parameters.\n",
      "P3alphaRecommender: Similarity column 38121 (100.0%), 2456.89 column/sec. Elapsed time 15.52 sec\n",
      "Training of P3alpha completed in 16.52 sec.\n",
      "\n",
      "ItemKNNCF Model - TRAINING with its best parameters.\n",
      "Similarity column 38121 (100.0%), 2857.56 column/sec. Elapsed time 13.34 sec\n",
      "Training of ItemKNNCF completed in 13.55 sec.\n",
      "\n",
      "ItemKNNCBF Model - TRAINING with its best parameters.\n",
      "Similarity column 38121 (100.0%), 707.09 column/sec. Elapsed time 53.91 sec\n",
      "Training of ItemKNNCBF completed in 54.29 sec.\n",
      "\n",
      "UserKNNCF Model - TRAINING with its best parameters.\n",
      "Similarity column 35736 (100.0%), 3018.37 column/sec. Elapsed time 11.84 sec\n",
      "Training of UserKNNCF completed in 13.02 sec.\n",
      "\n",
      "FasterIALS Model - TRAINING with its best parameters.\n",
      "Model for FasterIALS already exists. Loading the saved model.\n",
      "IALSRecommender: Loading model from file 'TrainedModels/WithoutKFCV/XGBoost/Feature/TrainValbest_FasterIALS_MAP_TrainVal_tuned'\n",
      "IALSRecommender: Loading complete\n",
      "PureSVDItem Model - TRAINING with its best parameters.\n",
      "PureSVDItemRecommender: Computing SVD decomposition...\n",
      "PureSVDItemRecommender: Computing SVD decomposition... Done!\n",
      "Training of PureSVDItem completed in 3.27 min.\n",
      "\n",
      "ScaledPureSVD Model - TRAINING with its best parameters.\n",
      "ScaledPureSVDRecommender: Computing SVD decomposition...\n",
      "ScaledPureSVDRecommender: Computing SVD decomposition... done in 3.33 min\n",
      "Training of ScaledPureSVD completed in 3.33 min.\n",
      "\n",
      "MultVAE Model - TRAINING with its best parameters.\n",
      "Model for MultVAE already exists. Loading the saved model.\n",
      "SLIMElasticNet Model - TRAINING with its best parameters.\n",
      "Model for SLIMElasticNet already exists. Loading the saved model.\n",
      "SLIMElasticNetRecommender: Loading model from file 'TrainedModels/WithoutKFCV/XGBoost/Feature/TrainValbest_SLIMElasticNet_MAP_TrainVal_tuned'\n",
      "SLIMElasticNetRecommender: Loading complete\n",
      "SLIM_BPR Model - TRAINING with its best parameters.\n",
      "Epoch 1, Iteration 35736 in 12.37 seconds. Samples per second 2888.99\n",
      "Epoch 2, Iteration 35736 in 7.90 seconds. Samples per second 4522.34\n",
      "Epoch 3, Iteration 35736 in 7.49 seconds. Samples per second 4769.84\n",
      "Epoch 4, Iteration 35736 in 6.10 seconds. Samples per second 5859.83\n",
      "Epoch 5, Iteration 35736 in 4.62 seconds. Samples per second 7740.35\n",
      "Epoch 6, Iteration 35736 in 4.29 seconds. Samples per second 8330.88\n",
      "Epoch 7, Iteration 35736 in 3.96 seconds. Samples per second 9027.49\n",
      "Epoch 8, Iteration 35736 in 3.78 seconds. Samples per second 9445.73\n",
      "Epoch 9, Iteration 35736 in 3.64 seconds. Samples per second 9823.63\n",
      "Epoch 10, Iteration 35736 in 3.55 seconds. Samples per second 10069.57\n",
      "Epoch 11, Iteration 35736 in 3.42 seconds. Samples per second 10451.09\n",
      "Epoch 12, Iteration 35736 in 3.25 seconds. Samples per second 10996.30\n",
      "Epoch 13, Iteration 35736 in 3.17 seconds. Samples per second 11262.92\n",
      "Epoch 14, Iteration 35736 in 3.19 seconds. Samples per second 11218.92\n",
      "Epoch 15, Iteration 35736 in 3.09 seconds. Samples per second 11560.93\n",
      "Epoch 16, Iteration 35736 in 3.18 seconds. Samples per second 11249.82\n",
      "Epoch 17, Iteration 35736 in 3.40 seconds. Samples per second 10499.04\n",
      "Epoch 18, Iteration 35736 in 3.05 seconds. Samples per second 11726.55\n",
      "Epoch 19, Iteration 35736 in 3.05 seconds. Samples per second 11698.28\n",
      "Epoch 20, Iteration 35736 in 3.03 seconds. Samples per second 11780.07\n",
      "Epoch 21, Iteration 35736 in 2.99 seconds. Samples per second 11933.77\n",
      "Epoch 22, Iteration 35736 in 3.03 seconds. Samples per second 11799.91\n",
      "Epoch 23, Iteration 35736 in 3.04 seconds. Samples per second 11738.03\n",
      "Epoch 24, Iteration 35736 in 3.03 seconds. Samples per second 11776.79\n",
      "Epoch 25, Iteration 35736 in 3.00 seconds. Samples per second 11909.92\n",
      "Epoch 26, Iteration 35736 in 2.99 seconds. Samples per second 11966.53\n",
      "Epoch 27, Iteration 35736 in 3.04 seconds. Samples per second 11764.30\n",
      "Epoch 28, Iteration 35736 in 3.08 seconds. Samples per second 11620.62\n",
      "Epoch 29, Iteration 35736 in 2.96 seconds. Samples per second 12078.28\n",
      "Train completed in 1.94 minutes\n",
      "Training of SLIM_BPR completed in 3.79 min.\n",
      "\n"
     ]
    },
    {
     "name": "stderr",
     "output_type": "stream",
     "text": [
      "100%|██████████| 35736/35736 [01:27<00:00, 409.19it/s]\n",
      "  0%|          | 0/35736 [00:00<?, ?it/s]/kaggle/working/RECsys_Challenge2024/Recommenders/Neural/MultVAE_PyTorch_Recommender.py:188: UserWarning:\n",
      "\n",
      "Sparse CSR tensor support is in beta state. If you miss a functionality in the sparse tensor support, please submit a feature request to https://github.com/pytorch/pytorch/issues. (Triggered internally at ../aten/src/ATen/SparseCsrTensorImpl.cpp:53.)\n",
      "\n",
      "100%|██████████| 35736/35736 [27:51<00:00, 21.38it/s]\n"
     ]
    },
    {
     "data": {
      "text/html": [
       "<div>\n",
       "<style scoped>\n",
       "    .dataframe tbody tr th:only-of-type {\n",
       "        vertical-align: middle;\n",
       "    }\n",
       "\n",
       "    .dataframe tbody tr th {\n",
       "        vertical-align: top;\n",
       "    }\n",
       "\n",
       "    .dataframe thead th {\n",
       "        text-align: right;\n",
       "    }\n",
       "</style>\n",
       "<table border=\"1\" class=\"dataframe\">\n",
       "  <thead>\n",
       "    <tr style=\"text-align: right;\">\n",
       "      <th></th>\n",
       "      <th>UserID</th>\n",
       "      <th>ItemID</th>\n",
       "      <th>Label</th>\n",
       "      <th>RP3beta</th>\n",
       "      <th>P3alpha</th>\n",
       "      <th>ItemKNNCF</th>\n",
       "      <th>ItemKNNCBF</th>\n",
       "      <th>UserKNNCF</th>\n",
       "      <th>FasterIALS</th>\n",
       "      <th>PureSVDItem</th>\n",
       "      <th>ScaledPureSVD</th>\n",
       "      <th>MultVAE</th>\n",
       "      <th>SLIMElasticNet</th>\n",
       "      <th>SLIM_BPR</th>\n",
       "      <th>item_popularity</th>\n",
       "      <th>user_profile_len</th>\n",
       "    </tr>\n",
       "  </thead>\n",
       "  <tbody>\n",
       "    <tr>\n",
       "      <th>0</th>\n",
       "      <td>0</td>\n",
       "      <td>51.0</td>\n",
       "      <td>False</td>\n",
       "      <td>0.215024</td>\n",
       "      <td>0.255903</td>\n",
       "      <td>0.903856</td>\n",
       "      <td>0.000000</td>\n",
       "      <td>1.609895</td>\n",
       "      <td>0.192419</td>\n",
       "      <td>0.043012</td>\n",
       "      <td>0.082647</td>\n",
       "      <td>5.770544</td>\n",
       "      <td>0.196252</td>\n",
       "      <td>0.177864</td>\n",
       "      <td>130</td>\n",
       "      <td>95</td>\n",
       "    </tr>\n",
       "    <tr>\n",
       "      <th>1</th>\n",
       "      <td>0</td>\n",
       "      <td>11966.0</td>\n",
       "      <td>False</td>\n",
       "      <td>0.201938</td>\n",
       "      <td>0.228664</td>\n",
       "      <td>2.823273</td>\n",
       "      <td>0.000000</td>\n",
       "      <td>6.625040</td>\n",
       "      <td>0.754257</td>\n",
       "      <td>0.156377</td>\n",
       "      <td>0.206720</td>\n",
       "      <td>10.304276</td>\n",
       "      <td>0.147537</td>\n",
       "      <td>0.323840</td>\n",
       "      <td>39</td>\n",
       "      <td>95</td>\n",
       "    </tr>\n",
       "    <tr>\n",
       "      <th>2</th>\n",
       "      <td>0</td>\n",
       "      <td>11875.0</td>\n",
       "      <td>False</td>\n",
       "      <td>0.062943</td>\n",
       "      <td>0.064775</td>\n",
       "      <td>0.737080</td>\n",
       "      <td>0.000000</td>\n",
       "      <td>4.920146</td>\n",
       "      <td>0.528419</td>\n",
       "      <td>0.079752</td>\n",
       "      <td>0.130636</td>\n",
       "      <td>8.908233</td>\n",
       "      <td>0.058803</td>\n",
       "      <td>0.336365</td>\n",
       "      <td>25</td>\n",
       "      <td>95</td>\n",
       "    </tr>\n",
       "    <tr>\n",
       "      <th>3</th>\n",
       "      <td>0</td>\n",
       "      <td>9911.0</td>\n",
       "      <td>False</td>\n",
       "      <td>0.053466</td>\n",
       "      <td>0.054613</td>\n",
       "      <td>1.294928</td>\n",
       "      <td>0.000000</td>\n",
       "      <td>6.497062</td>\n",
       "      <td>0.686548</td>\n",
       "      <td>0.073656</td>\n",
       "      <td>0.119974</td>\n",
       "      <td>10.691162</td>\n",
       "      <td>0.090868</td>\n",
       "      <td>0.433880</td>\n",
       "      <td>20</td>\n",
       "      <td>95</td>\n",
       "    </tr>\n",
       "    <tr>\n",
       "      <th>4</th>\n",
       "      <td>0</td>\n",
       "      <td>9316.0</td>\n",
       "      <td>False</td>\n",
       "      <td>0.070576</td>\n",
       "      <td>0.081482</td>\n",
       "      <td>0.000000</td>\n",
       "      <td>0.000000</td>\n",
       "      <td>2.357813</td>\n",
       "      <td>0.270280</td>\n",
       "      <td>0.042631</td>\n",
       "      <td>0.095729</td>\n",
       "      <td>8.507269</td>\n",
       "      <td>0.043835</td>\n",
       "      <td>0.000000</td>\n",
       "      <td>30</td>\n",
       "      <td>95</td>\n",
       "    </tr>\n",
       "    <tr>\n",
       "      <th>...</th>\n",
       "      <td>...</td>\n",
       "      <td>...</td>\n",
       "      <td>...</td>\n",
       "      <td>...</td>\n",
       "      <td>...</td>\n",
       "      <td>...</td>\n",
       "      <td>...</td>\n",
       "      <td>...</td>\n",
       "      <td>...</td>\n",
       "      <td>...</td>\n",
       "      <td>...</td>\n",
       "      <td>...</td>\n",
       "      <td>...</td>\n",
       "      <td>...</td>\n",
       "      <td>...</td>\n",
       "      <td>...</td>\n",
       "    </tr>\n",
       "    <tr>\n",
       "      <th>2878785</th>\n",
       "      <td>35735</td>\n",
       "      <td>35713.0</td>\n",
       "      <td>False</td>\n",
       "      <td>0.159385</td>\n",
       "      <td>0.071131</td>\n",
       "      <td>1.153576</td>\n",
       "      <td>0.000000</td>\n",
       "      <td>7.246850</td>\n",
       "      <td>0.681071</td>\n",
       "      <td>0.097949</td>\n",
       "      <td>0.143913</td>\n",
       "      <td>7.235845</td>\n",
       "      <td>0.157077</td>\n",
       "      <td>0.108542</td>\n",
       "      <td>31</td>\n",
       "      <td>26</td>\n",
       "    </tr>\n",
       "    <tr>\n",
       "      <th>2878786</th>\n",
       "      <td>35735</td>\n",
       "      <td>35712.0</td>\n",
       "      <td>False</td>\n",
       "      <td>0.055760</td>\n",
       "      <td>0.060550</td>\n",
       "      <td>2.999887</td>\n",
       "      <td>0.098820</td>\n",
       "      <td>8.845325</td>\n",
       "      <td>0.638844</td>\n",
       "      <td>0.115371</td>\n",
       "      <td>0.150799</td>\n",
       "      <td>7.426314</td>\n",
       "      <td>0.165201</td>\n",
       "      <td>0.000000</td>\n",
       "      <td>21</td>\n",
       "      <td>26</td>\n",
       "    </tr>\n",
       "    <tr>\n",
       "      <th>2878787</th>\n",
       "      <td>35735</td>\n",
       "      <td>35660.0</td>\n",
       "      <td>False</td>\n",
       "      <td>0.107449</td>\n",
       "      <td>0.068256</td>\n",
       "      <td>2.679675</td>\n",
       "      <td>0.000000</td>\n",
       "      <td>8.898523</td>\n",
       "      <td>0.685326</td>\n",
       "      <td>0.086949</td>\n",
       "      <td>0.114186</td>\n",
       "      <td>8.342996</td>\n",
       "      <td>0.181524</td>\n",
       "      <td>0.131393</td>\n",
       "      <td>23</td>\n",
       "      <td>26</td>\n",
       "    </tr>\n",
       "    <tr>\n",
       "      <th>2878788</th>\n",
       "      <td>35735</td>\n",
       "      <td>36032.0</td>\n",
       "      <td>False</td>\n",
       "      <td>0.000000</td>\n",
       "      <td>0.000000</td>\n",
       "      <td>0.000000</td>\n",
       "      <td>0.000000</td>\n",
       "      <td>6.976595</td>\n",
       "      <td>0.511405</td>\n",
       "      <td>0.061282</td>\n",
       "      <td>0.069838</td>\n",
       "      <td>6.000887</td>\n",
       "      <td>0.000000</td>\n",
       "      <td>0.178431</td>\n",
       "      <td>16</td>\n",
       "      <td>26</td>\n",
       "    </tr>\n",
       "    <tr>\n",
       "      <th>2878789</th>\n",
       "      <td>35735</td>\n",
       "      <td>38033.0</td>\n",
       "      <td>False</td>\n",
       "      <td>0.000000</td>\n",
       "      <td>0.000000</td>\n",
       "      <td>0.000000</td>\n",
       "      <td>0.113198</td>\n",
       "      <td>7.860221</td>\n",
       "      <td>0.654848</td>\n",
       "      <td>0.122250</td>\n",
       "      <td>0.172471</td>\n",
       "      <td>8.008853</td>\n",
       "      <td>0.076176</td>\n",
       "      <td>0.000000</td>\n",
       "      <td>29</td>\n",
       "      <td>26</td>\n",
       "    </tr>\n",
       "  </tbody>\n",
       "</table>\n",
       "<p>2878790 rows × 16 columns</p>\n",
       "</div>"
      ],
      "text/plain": [
       "        UserID   ItemID  Label   RP3beta   P3alpha  ItemKNNCF  ItemKNNCBF  \\\n",
       "0            0     51.0  False  0.215024  0.255903   0.903856    0.000000   \n",
       "1            0  11966.0  False  0.201938  0.228664   2.823273    0.000000   \n",
       "2            0  11875.0  False  0.062943  0.064775   0.737080    0.000000   \n",
       "3            0   9911.0  False  0.053466  0.054613   1.294928    0.000000   \n",
       "4            0   9316.0  False  0.070576  0.081482   0.000000    0.000000   \n",
       "...        ...      ...    ...       ...       ...        ...         ...   \n",
       "2878785  35735  35713.0  False  0.159385  0.071131   1.153576    0.000000   \n",
       "2878786  35735  35712.0  False  0.055760  0.060550   2.999887    0.098820   \n",
       "2878787  35735  35660.0  False  0.107449  0.068256   2.679675    0.000000   \n",
       "2878788  35735  36032.0  False  0.000000  0.000000   0.000000    0.000000   \n",
       "2878789  35735  38033.0  False  0.000000  0.000000   0.000000    0.113198   \n",
       "\n",
       "         UserKNNCF  FasterIALS  PureSVDItem  ScaledPureSVD    MultVAE  \\\n",
       "0         1.609895    0.192419     0.043012       0.082647   5.770544   \n",
       "1         6.625040    0.754257     0.156377       0.206720  10.304276   \n",
       "2         4.920146    0.528419     0.079752       0.130636   8.908233   \n",
       "3         6.497062    0.686548     0.073656       0.119974  10.691162   \n",
       "4         2.357813    0.270280     0.042631       0.095729   8.507269   \n",
       "...            ...         ...          ...            ...        ...   \n",
       "2878785   7.246850    0.681071     0.097949       0.143913   7.235845   \n",
       "2878786   8.845325    0.638844     0.115371       0.150799   7.426314   \n",
       "2878787   8.898523    0.685326     0.086949       0.114186   8.342996   \n",
       "2878788   6.976595    0.511405     0.061282       0.069838   6.000887   \n",
       "2878789   7.860221    0.654848     0.122250       0.172471   8.008853   \n",
       "\n",
       "         SLIMElasticNet  SLIM_BPR  item_popularity  user_profile_len  \n",
       "0              0.196252  0.177864              130                95  \n",
       "1              0.147537  0.323840               39                95  \n",
       "2              0.058803  0.336365               25                95  \n",
       "3              0.090868  0.433880               20                95  \n",
       "4              0.043835  0.000000               30                95  \n",
       "...                 ...       ...              ...               ...  \n",
       "2878785        0.157077  0.108542               31                26  \n",
       "2878786        0.165201  0.000000               21                26  \n",
       "2878787        0.181524  0.131393               23                26  \n",
       "2878788        0.000000  0.178431               16                26  \n",
       "2878789        0.076176  0.000000               29                26  \n",
       "\n",
       "[2878790 rows x 16 columns]"
      ]
     },
     "metadata": {},
     "output_type": "display_data"
    }
   ],
   "source": [
    "if config['tune_best_params']:\n",
    "\n",
    "    print(\"***TRAINING CONTENT GENERATION RECOMMENDERS***\\n\")\n",
    "    candidate_generator_recommenders = fit_recommenders(\"Recall\", \"TrainVal\", URM_train + URM_validation, ICM_all, cg_recommenders, GH_PATH, \"cg\", repo)\n",
    "\n",
    "    print(\"***TRAINING FEATURE RECOMMENDERS***\\n\")\n",
    "    features_recommenders = fit_recommenders(\"MAP\", \"TrainVal\", URM_train + URM_validation, ICM_all, f_recommenders, GH_PATH, \"f\", repo)\n",
    "\n",
    "    train_val_dataframe, groups_train_val = create_XGBoost_dataframe(URM_train + URM_validation, candidate_generator_recommenders, features_recommenders, ICM_all, URM_test, cutoff=50, categorical=config[\"categorical\"], contents=config[\"contents\"])\n",
    "\n",
    "    del candidate_generator_recommenders\n",
    "    del features_recommenders\n",
    "\n",
    "    display(train_val_dataframe)\n",
    "    \n",
    "    # Extract labels and features\n",
    "    y_train_val = train_val_dataframe[\"Label\"]\n",
    "    X_train_val = train_val_dataframe.drop(columns=[\"Label\"])"
   ]
  },
  {
   "cell_type": "markdown",
   "id": "50358858",
   "metadata": {
    "papermill": {
     "duration": 0.727957,
     "end_time": "2024-12-30T17:55:44.772998",
     "exception": false,
     "start_time": "2024-12-30T17:55:44.045041",
     "status": "completed"
    },
    "tags": []
   },
   "source": [
    "### Train best XGBoost model"
   ]
  },
  {
   "cell_type": "code",
   "execution_count": 22,
   "id": "8531f997",
   "metadata": {
    "execution": {
     "iopub.execute_input": "2024-12-30T17:55:46.281385Z",
     "iopub.status.busy": "2024-12-30T17:55:46.280844Z",
     "iopub.status.idle": "2024-12-30T18:00:05.789324Z",
     "shell.execute_reply": "2024-12-30T18:00:05.788269Z"
    },
    "papermill": {
     "duration": 260.224668,
     "end_time": "2024-12-30T18:00:05.791617",
     "exception": false,
     "start_time": "2024-12-30T17:55:45.566949",
     "status": "completed"
    },
    "tags": []
   },
   "outputs": [],
   "source": [
    "if config['tune_best_params']:\n",
    "\n",
    "    if config['tune_parameters']:\n",
    "        best_params = optuna_study.best_trial.params\n",
    "    else: \n",
    "        with open(f'{K_PATH}/{GH_PATH}/{D_PATH}/{config[\"model\"]}Recommender/Optimizing{config[\"metric\"]}/best_params_{config[\"model\"]}_{config[\"metric\"]}.json', 'r') as best_params_json:\n",
    "            best_params = json.load(best_params_json)\n",
    "\n",
    "    recommender_instance = XGBoostRankerRecommender(URM_train + URM_validation, train_val_dataframe)\n",
    "    recommender_instance.fit(\n",
    "        X_train_val,\n",
    "        y_train_val,\n",
    "        groups_train_val,\n",
    "        **best_params\n",
    "    )"
   ]
  },
  {
   "cell_type": "markdown",
   "id": "a9e6fae5",
   "metadata": {
    "papermill": {
     "duration": 0.719774,
     "end_time": "2024-12-30T18:00:07.350246",
     "exception": false,
     "start_time": "2024-12-30T18:00:06.630472",
     "status": "completed"
    },
    "tags": []
   },
   "source": [
    "## Feature importance"
   ]
  },
  {
   "cell_type": "code",
   "execution_count": 23,
   "id": "ed30887f",
   "metadata": {
    "execution": {
     "iopub.execute_input": "2024-12-30T18:00:08.869711Z",
     "iopub.status.busy": "2024-12-30T18:00:08.869326Z",
     "iopub.status.idle": "2024-12-30T18:00:09.210029Z",
     "shell.execute_reply": "2024-12-30T18:00:09.208910Z"
    },
    "papermill": {
     "duration": 1.061195,
     "end_time": "2024-12-30T18:00:09.212033",
     "exception": false,
     "start_time": "2024-12-30T18:00:08.150838",
     "status": "completed"
    },
    "tags": []
   },
   "outputs": [
    {
     "data": {
      "text/plain": [
       "<Axes: title={'center': 'Gain'}, xlabel='F score', ylabel='Features'>"
      ]
     },
     "execution_count": 23,
     "metadata": {},
     "output_type": "execute_result"
    },
    {
     "data": {
      "image/png": "[encoded data removed]",
      "text/plain": [
       "<Figure size 640x480 with 1 Axes>"
      ]
     },
     "metadata": {},
     "output_type": "display_data"
    }
   ],
   "source": [
    "plot_importance(recommender_instance.model, importance_type='gain', title='Gain')"
   ]
  },
  {
   "cell_type": "code",
   "execution_count": 24,
   "id": "3cd75590",
   "metadata": {
    "execution": {
     "iopub.execute_input": "2024-12-30T18:00:10.745999Z",
     "iopub.status.busy": "2024-12-30T18:00:10.745438Z",
     "iopub.status.idle": "2024-12-30T18:00:11.057207Z",
     "shell.execute_reply": "2024-12-30T18:00:11.056136Z"
    },
    "papermill": {
     "duration": 1.056335,
     "end_time": "2024-12-30T18:00:11.059389",
     "exception": false,
     "start_time": "2024-12-30T18:00:10.003054",
     "status": "completed"
    },
    "tags": []
   },
   "outputs": [
    {
     "data": {
      "text/plain": [
       "<Axes: title={'center': 'Cover'}, xlabel='F score', ylabel='Features'>"
      ]
     },
     "execution_count": 24,
     "metadata": {},
     "output_type": "execute_result"
    },
    {
     "data": {
      "image/png": "[encoded data removed]",
      "text/plain": [
       "<Figure size 640x480 with 1 Axes>"
      ]
     },
     "metadata": {},
     "output_type": "display_data"
    }
   ],
   "source": [
    "plot_importance(recommender_instance.model, importance_type='cover', title='Cover')"
   ]
  },
  {
   "cell_type": "code",
   "execution_count": 25,
   "id": "fc0d32cf",
   "metadata": {
    "_kg_hide-output": true,
    "execution": {
     "iopub.execute_input": "2024-12-30T18:00:12.590129Z",
     "iopub.status.busy": "2024-12-30T18:00:12.589711Z",
     "iopub.status.idle": "2024-12-30T18:00:12.872478Z",
     "shell.execute_reply": "2024-12-30T18:00:12.871345Z"
    },
    "papermill": {
     "duration": 1.012781,
     "end_time": "2024-12-30T18:00:12.874515",
     "exception": false,
     "start_time": "2024-12-30T18:00:11.861734",
     "status": "completed"
    },
    "tags": []
   },
   "outputs": [
    {
     "data": {
      "text/plain": [
       "<Axes: title={'center': 'Weight (Frequence)'}, xlabel='F score', ylabel='Features'>"
      ]
     },
     "execution_count": 25,
     "metadata": {},
     "output_type": "execute_result"
    },
    {
     "data": {
      "image/png": "[encoded data removed]",
      "text/plain": [
       "<Figure size 640x480 with 1 Axes>"
      ]
     },
     "metadata": {},
     "output_type": "display_data"
    }
   ],
   "source": [
    "plot_importance(recommender_instance.model, importance_type='weight', title='Weight (Frequence)')"
   ]
  },
  {
   "cell_type": "markdown",
   "id": "d723cfd3",
   "metadata": {
    "papermill": {
     "duration": 0.728211,
     "end_time": "2024-12-30T18:00:14.407827",
     "exception": false,
     "start_time": "2024-12-30T18:00:13.679616",
     "status": "completed"
    },
    "tags": []
   },
   "source": [
    "# Submission\n",
    "Train the candidate generator and feature generators with URM_all."
   ]
  },
  {
   "cell_type": "code",
   "execution_count": 26,
   "id": "9b7537f7",
   "metadata": {
    "execution": {
     "iopub.execute_input": "2024-12-30T18:00:15.931652Z",
     "iopub.status.busy": "2024-12-30T18:00:15.931261Z",
     "iopub.status.idle": "2024-12-30T18:44:28.667390Z",
     "shell.execute_reply": "2024-12-30T18:44:28.666197Z"
    },
    "papermill": {
     "duration": 2653.459914,
     "end_time": "2024-12-30T18:44:28.669552",
     "exception": false,
     "start_time": "2024-12-30T18:00:15.209638",
     "status": "completed"
    },
    "tags": []
   },
   "outputs": [
    {
     "name": "stdout",
     "output_type": "stream",
     "text": [
      "***TRAINING CONTENT GENERATION RECOMMENDERS***\n",
      "\n",
      "RP3beta Model - TRAINING with its best parameters.\n",
      "RP3betaRecommender: Similarity column 38121 (100.0%), 1709.65 column/sec. Elapsed time 22.30 sec\n",
      "Training of RP3beta completed in 25.38 sec.\n",
      "\n",
      "ItemKNNCF Model - TRAINING with its best parameters.\n",
      "Similarity column 38121 (100.0%), 2464.40 column/sec. Elapsed time 15.47 sec\n",
      "Training of ItemKNNCF completed in 15.96 sec.\n",
      "\n",
      "SLIMElasticNet Model - TRAINING with its best parameters.\n",
      "Model for SLIMElasticNet already exists. Loading the saved model.\n",
      "SLIMElasticNetRecommender: Loading model from file 'TrainedModels/WithoutKFCV/XGBoost/CandidateGenerator/TrainValTestbest_SLIMElasticNet_Recall_TrainValTest_tuned'\n",
      "SLIMElasticNetRecommender: Loading complete\n",
      "***TRAINING FEATURE RECOMMENDERS***\n",
      "\n",
      "RP3beta Model - TRAINING with its best parameters.\n",
      "RP3betaRecommender: Similarity column 38121 (100.0%), 1943.80 column/sec. Elapsed time 19.61 sec\n",
      "Training of RP3beta completed in 20.82 sec.\n",
      "\n",
      "P3alpha Model - TRAINING with its best parameters.\n",
      "P3alphaRecommender: Similarity column 38121 (100.0%), 2146.76 column/sec. Elapsed time 17.76 sec\n",
      "Training of P3alpha completed in 18.79 sec.\n",
      "\n",
      "ItemKNNCF Model - TRAINING with its best parameters.\n",
      "Similarity column 38121 (100.0%), 2579.59 column/sec. Elapsed time 14.78 sec\n",
      "Training of ItemKNNCF completed in 15.04 sec.\n",
      "\n",
      "ItemKNNCBF Model - TRAINING with its best parameters.\n",
      "Similarity column 38121 (100.0%), 714.87 column/sec. Elapsed time 53.33 sec\n",
      "Training of ItemKNNCBF completed in 53.73 sec.\n",
      "\n",
      "UserKNNCF Model - TRAINING with its best parameters.\n",
      "Similarity column 35736 (100.0%), 2595.54 column/sec. Elapsed time 13.77 sec\n",
      "Training of UserKNNCF completed in 15.39 sec.\n",
      "\n",
      "FasterIALS Model - TRAINING with its best parameters.\n",
      "Model for FasterIALS already exists. Loading the saved model.\n",
      "IALSRecommender: Loading model from file 'TrainedModels/WithoutKFCV/XGBoost/Feature/TrainValTestbest_FasterIALS_MAP_TrainValTest_tuned'\n",
      "IALSRecommender: Loading complete\n",
      "PureSVDItem Model - TRAINING with its best parameters.\n",
      "PureSVDItemRecommender: Computing SVD decomposition...\n",
      "PureSVDItemRecommender: Computing SVD decomposition... Done!\n",
      "Training of PureSVDItem completed in 4.33 min.\n",
      "\n",
      "ScaledPureSVD Model - TRAINING with its best parameters.\n",
      "ScaledPureSVDRecommender: Computing SVD decomposition...\n",
      "ScaledPureSVDRecommender: Computing SVD decomposition... done in 3.24 min\n",
      "Training of ScaledPureSVD completed in 3.24 min.\n",
      "\n",
      "MultVAE Model - TRAINING with its best parameters.\n",
      "Model for MultVAE already exists. Loading the saved model.\n",
      "SLIMElasticNet Model - TRAINING with its best parameters.\n",
      "Model for SLIMElasticNet already exists. Loading the saved model.\n",
      "SLIMElasticNetRecommender: Loading model from file 'TrainedModels/WithoutKFCV/XGBoost/Feature/TrainValTestbest_SLIMElasticNet_MAP_TrainValTest_tuned'\n",
      "SLIMElasticNetRecommender: Loading complete\n",
      "SLIM_BPR Model - TRAINING with its best parameters.\n",
      "Epoch 1, Iteration 35736 in 15.35 seconds. Samples per second 2327.89\n",
      "Epoch 2, Iteration 35736 in 8.83 seconds. Samples per second 4046.41\n",
      "Epoch 3, Iteration 35736 in 6.57 seconds. Samples per second 5442.08\n",
      "Epoch 4, Iteration 35736 in 5.42 seconds. Samples per second 6594.55\n",
      "Epoch 5, Iteration 35736 in 4.80 seconds. Samples per second 7442.28\n",
      "Epoch 6, Iteration 35736 in 4.37 seconds. Samples per second 8176.92\n",
      "Epoch 7, Iteration 35736 in 4.03 seconds. Samples per second 8856.66\n",
      "Epoch 8, Iteration 35736 in 3.71 seconds. Samples per second 9640.02\n",
      "Epoch 9, Iteration 35736 in 3.63 seconds. Samples per second 9850.89\n",
      "Epoch 10, Iteration 35736 in 3.51 seconds. Samples per second 10188.07\n",
      "Epoch 11, Iteration 35736 in 3.40 seconds. Samples per second 10500.28\n",
      "Epoch 12, Iteration 35736 in 3.28 seconds. Samples per second 10898.65\n",
      "Epoch 13, Iteration 35736 in 3.25 seconds. Samples per second 11005.60\n",
      "Epoch 14, Iteration 35736 in 3.16 seconds. Samples per second 11326.65\n",
      "Epoch 15, Iteration 35736 in 3.15 seconds. Samples per second 11356.01\n",
      "Epoch 16, Iteration 35736 in 3.18 seconds. Samples per second 11232.23\n",
      "Epoch 17, Iteration 35736 in 3.12 seconds. Samples per second 11453.43\n",
      "Epoch 18, Iteration 35736 in 3.14 seconds. Samples per second 11392.22\n",
      "Epoch 19, Iteration 35736 in 3.01 seconds. Samples per second 11861.91\n",
      "Epoch 20, Iteration 35736 in 2.98 seconds. Samples per second 11984.65\n",
      "Epoch 21, Iteration 35736 in 3.10 seconds. Samples per second 11529.92\n",
      "Epoch 22, Iteration 35736 in 3.06 seconds. Samples per second 11695.53\n",
      "Epoch 23, Iteration 35736 in 3.01 seconds. Samples per second 11888.21\n",
      "Epoch 24, Iteration 35736 in 3.16 seconds. Samples per second 11308.58\n",
      "Epoch 25, Iteration 35736 in 3.09 seconds. Samples per second 11583.46\n",
      "Epoch 26, Iteration 35736 in 2.96 seconds. Samples per second 12092.73\n",
      "Epoch 27, Iteration 35736 in 3.00 seconds. Samples per second 11910.70\n",
      "Epoch 28, Iteration 35736 in 2.99 seconds. Samples per second 11962.31\n",
      "Epoch 29, Iteration 35736 in 2.98 seconds. Samples per second 11998.41\n",
      "Train completed in 1.99 minutes\n",
      "Training of SLIM_BPR completed in 3.93 min.\n",
      "\n"
     ]
    },
    {
     "name": "stderr",
     "output_type": "stream",
     "text": [
      "100%|██████████| 35736/35736 [01:29<00:00, 398.11it/s]\n",
      "100%|██████████| 35736/35736 [27:42<00:00, 21.49it/s]\n"
     ]
    }
   ],
   "source": [
    "if config['tune_best_params']:\n",
    "\n",
    "    print(\"***TRAINING CONTENT GENERATION RECOMMENDERS***\\n\")\n",
    "    candidate_generator_recommenders = fit_recommenders(\"Recall\", \"TrainValTest\", URM_all, ICM_all, cg_recommenders, GH_PATH, \"cg\", repo)\n",
    "\n",
    "    print(\"***TRAINING FEATURE RECOMMENDERS***\\n\")\n",
    "    features_recommenders = fit_recommenders(\"MAP\", \"TrainValTest\", URM_all, ICM_all, f_recommenders, GH_PATH, \"f\", repo)\n",
    "\n",
    "    all_dataframe, all_groups = create_XGBoost_dataframe(URM_train + URM_validation + URM_test, candidate_generator_recommenders, features_recommenders, ICM_all, cutoff=50, categorical=config[\"categorical\"], contents=config[\"contents\"])\n",
    "\n",
    "    del candidate_generator_recommenders\n",
    "    del features_recommenders\n",
    "    \n",
    "    recommender_instance.set_recommendations_dataframe(all_dataframe)"
   ]
  },
  {
   "cell_type": "markdown",
   "id": "0cb14451",
   "metadata": {
    "papermill": {
     "duration": 1.481395,
     "end_time": "2024-12-30T18:44:31.695695",
     "exception": false,
     "start_time": "2024-12-30T18:44:30.214300",
     "status": "completed"
    },
    "tags": []
   },
   "source": [
    "Create the recommendations for the submission."
   ]
  },
  {
   "cell_type": "code",
   "execution_count": 27,
   "id": "5f63ab3a",
   "metadata": {
    "execution": {
     "iopub.execute_input": "2024-12-30T18:44:39.308136Z",
     "iopub.status.busy": "2024-12-30T18:44:39.306097Z",
     "iopub.status.idle": "2024-12-30T18:50:14.596943Z",
     "shell.execute_reply": "2024-12-30T18:50:14.595752Z"
    },
    "papermill": {
     "duration": 342.682703,
     "end_time": "2024-12-30T18:50:16.142099",
     "exception": false,
     "start_time": "2024-12-30T18:44:33.459396",
     "status": "completed"
    },
    "tags": []
   },
   "outputs": [
    {
     "name": "stdout",
     "output_type": "stream",
     "text": [
      "Submission file saved as /kaggle/working/submission_XGBoostNoCont_MAP.csv\n"
     ]
    }
   ],
   "source": [
    "if config['tune_best_params']:\n",
    "\n",
    "    data_target_users_test = pd.read_csv('/kaggle/input/recommender-system-2024-challenge-polimi/data_target_users_test.csv')\n",
    "    create_submission(data_target_users_test, recommender_instance, f'/kaggle/working/submission_{config[\"model\"]}_{config[\"metric\"]}.csv')"
   ]
  },
  {
   "cell_type": "markdown",
   "id": "f84c7684",
   "metadata": {
    "execution": {
     "iopub.execute_input": "2024-11-14T00:04:16.877791Z",
     "iopub.status.busy": "2024-11-14T00:04:16.877275Z",
     "iopub.status.idle": "2024-11-14T00:04:16.883170Z",
     "shell.execute_reply": "2024-11-14T00:04:16.881889Z",
     "shell.execute_reply.started": "2024-11-14T00:04:16.877743Z"
    },
    "papermill": {
     "duration": 1.543917,
     "end_time": "2024-12-30T18:50:19.220777",
     "exception": false,
     "start_time": "2024-12-30T18:50:17.676860",
     "status": "completed"
    },
    "tags": []
   },
   "source": [
    "# Save Version on GitHub "
   ]
  },
  {
   "cell_type": "markdown",
   "id": "515a0210",
   "metadata": {
    "papermill": {
     "duration": 1.554538,
     "end_time": "2024-12-30T18:50:22.350310",
     "exception": false,
     "start_time": "2024-12-30T18:50:20.795772",
     "status": "completed"
    },
    "tags": []
   },
   "source": [
    "Write or import a json file where best hyperparameters are saved. "
   ]
  },
  {
   "cell_type": "code",
   "execution_count": 28,
   "id": "07a92f0b",
   "metadata": {
    "execution": {
     "iopub.execute_input": "2024-12-30T18:50:25.358709Z",
     "iopub.status.busy": "2024-12-30T18:50:25.358108Z",
     "iopub.status.idle": "2024-12-30T18:50:25.366842Z",
     "shell.execute_reply": "2024-12-30T18:50:25.365582Z"
    },
    "papermill": {
     "duration": 1.558346,
     "end_time": "2024-12-30T18:50:25.368694",
     "exception": false,
     "start_time": "2024-12-30T18:50:23.810348",
     "status": "completed"
    },
    "tags": []
   },
   "outputs": [],
   "source": [
    "if config['tune_parameters']:\n",
    "    with open(f'/kaggle/working/best_params_{config[\"model\"]}_{config[\"metric\"]}.json', 'w') as params_file:\n",
    "        json.dump(optuna_study.best_params, params_file)\n",
    "        \n",
    "    if config['save_github']:\n",
    "        upload_file(\n",
    "            f'/kaggle/working/best_params_{config[\"model\"]}_{config[\"metric\"]}.json', \n",
    "            f'{GH_PATH}/{D_PATH}/{config[\"model\"]}Recommender/Optimizing{config[\"metric\"]}/best_params_{config[\"model\"]}_{config[\"metric\"]}.json', \n",
    "            f'{config[\"model\"]}_{config[\"metric\"]} tuning results (from kaggle notebook)',\n",
    "            repo\n",
    "        )\n",
    "elif config['copy_prev_best_params']:\n",
    "    shutil.copyfile(\n",
    "        f'{K_PATH}/{GH_PATH}/{D_PATH}/{config[\"model\"]}Recommender/Optimizing{config[\"metric\"]}/'\\\n",
    "        f'best_params_{config[\"model\"]}_{config[\"metric\"]}.json', \n",
    "        f'/kaggle/working/best_params_{config[\"model\"]}_{config[\"metric\"]}.json'\n",
    "    )"
   ]
  },
  {
   "cell_type": "markdown",
   "id": "30e6b1c4",
   "metadata": {
    "execution": {
     "iopub.execute_input": "2024-11-14T00:41:34.294243Z",
     "iopub.status.busy": "2024-11-14T00:41:34.293739Z",
     "iopub.status.idle": "2024-11-14T00:41:34.301478Z",
     "shell.execute_reply": "2024-11-14T00:41:34.299869Z",
     "shell.execute_reply.started": "2024-11-14T00:41:34.294186Z"
    },
    "papermill": {
     "duration": 1.525449,
     "end_time": "2024-12-30T18:50:28.461132",
     "exception": false,
     "start_time": "2024-12-30T18:50:26.935683",
     "status": "completed"
    },
    "tags": []
   },
   "source": [
    "Save the history of the tuned model."
   ]
  },
  {
   "cell_type": "code",
   "execution_count": 29,
   "id": "c4881b6e",
   "metadata": {
    "execution": {
     "iopub.execute_input": "2024-12-30T18:50:31.666372Z",
     "iopub.status.busy": "2024-12-30T18:50:31.665987Z",
     "iopub.status.idle": "2024-12-30T18:50:31.670705Z",
     "shell.execute_reply": "2024-12-30T18:50:31.669717Z"
    },
    "papermill": {
     "duration": 1.679964,
     "end_time": "2024-12-30T18:50:31.672372",
     "exception": false,
     "start_time": "2024-12-30T18:50:29.992408",
     "status": "completed"
    },
    "tags": []
   },
   "outputs": [],
   "source": [
    "if config['save_github'] and config['tune_parameters']:\n",
    "    upload_file(\n",
    "        config['database_path'], \n",
    "        f'{GH_PATH}/{D_PATH}/{config[\"model\"]}Recommender/Optimizing{config[\"metric\"]}/history_{config[\"model\"]}_{config[\"metric\"]}.db',\n",
    "        f'Tuning {config[\"model\"]}_{config[\"metric\"]} db updated results (from kaggle notebook)',\n",
    "        repo\n",
    "    )"
   ]
  },
  {
   "cell_type": "markdown",
   "id": "92f39bc6",
   "metadata": {
    "papermill": {
     "duration": 1.539111,
     "end_time": "2024-12-30T18:50:34.746403",
     "exception": false,
     "start_time": "2024-12-30T18:50:33.207292",
     "status": "completed"
    },
    "tags": []
   },
   "source": [
    "Save the best trained model and its submission."
   ]
  },
  {
   "cell_type": "code",
   "execution_count": 30,
   "id": "40fb6b6e",
   "metadata": {
    "execution": {
     "iopub.execute_input": "2024-12-30T18:50:37.802773Z",
     "iopub.status.busy": "2024-12-30T18:50:37.802370Z",
     "iopub.status.idle": "2024-12-30T18:50:40.411900Z",
     "shell.execute_reply": "2024-12-30T18:50:40.410577Z"
    },
    "papermill": {
     "duration": 4.141199,
     "end_time": "2024-12-30T18:50:40.413849",
     "exception": false,
     "start_time": "2024-12-30T18:50:36.272650",
     "status": "completed"
    },
    "tags": []
   },
   "outputs": [
    {
     "name": "stdout",
     "output_type": "stream",
     "text": [
      "File 'TrainedModels/WithoutKFCV/XGBoost/XGBoostNoContRecommender/Optimizing_MAP/Submission/submission_XGBoostNoCont_MAP.csv' created successfully.\n"
     ]
    }
   ],
   "source": [
    "if config['save_github'] and config['tune_best_params']: \n",
    "    upload_file(\n",
    "                f'/kaggle/working/submission_{config[\"model\"]}_{config[\"metric\"]}.csv', \n",
    "                f'{GH_PATH}/{D_PATH}/{config[\"model\"]}Recommender/Optimizing_{config[\"metric\"]}/Submission/submission_{config[\"model\"]}_{config[\"metric\"]}.csv', \n",
    "                f'New {config[\"model\"]}_{config[\"metric\"]} submission (from kaggle notebook)',\n",
    "                repo\n",
    "            )"
   ]
  }
 ],
 "metadata": {
  "kaggle": {
   "accelerator": "none",
   "dataSources": [
    {
     "databundleVersionId": 9982103,
     "sourceId": 87439,
     "sourceType": "competition"
    },
    {
     "datasetId": 6390368,
     "sourceId": 10321338,
     "sourceType": "datasetVersion"
    },
    {
     "datasetId": 6390688,
     "sourceId": 10321786,
     "sourceType": "datasetVersion"
    },
    {
     "datasetId": 6390755,
     "sourceId": 10321877,
     "sourceType": "datasetVersion"
    },
    {
     "datasetId": 6391122,
     "sourceId": 10322447,
     "sourceType": "datasetVersion"
    },
    {
     "datasetId": 6392432,
     "sourceId": 10324507,
     "sourceType": "datasetVersion"
    },
    {
     "datasetId": 6392454,
     "sourceId": 10324531,
     "sourceType": "datasetVersion"
    },
    {
     "datasetId": 6392495,
     "sourceId": 10324583,
     "sourceType": "datasetVersion"
    },
    {
     "datasetId": 6392523,
     "sourceId": 10324620,
     "sourceType": "datasetVersion"
    },
    {
     "datasetId": 6392689,
     "sourceId": 10324848,
     "sourceType": "datasetVersion"
    },
    {
     "datasetId": 6392704,
     "sourceId": 10324867,
     "sourceType": "datasetVersion"
    },
    {
     "datasetId": 6392721,
     "sourceId": 10324888,
     "sourceType": "datasetVersion"
    },
    {
     "datasetId": 6392739,
     "sourceId": 10324912,
     "sourceType": "datasetVersion"
    }
   ],
   "dockerImageVersionId": 30822,
   "isGpuEnabled": false,
   "isInternetEnabled": true,
   "language": "python",
   "sourceType": "notebook"
  },
  "kernelspec": {
   "display_name": "Python 3",
   "language": "python",
   "name": "python3"
  },
  "language_info": {
   "codemirror_mode": {
    "name": "ipython",
    "version": 3
   },
   "file_extension": ".py",
   "mimetype": "text/x-python",
   "name": "python",
   "nbconvert_exporter": "python",
   "pygments_lexer": "ipython3",
   "version": "3.10.12"
  },
  "papermill": {
   "default_parameters": {},
   "duration": 6093.985907,
   "end_time": "2024-12-30T18:50:44.882425",
   "environment_variables": {},
   "exception": null,
   "input_path": "__notebook__.ipynb",
   "output_path": "__notebook__.ipynb",
   "parameters": {},
   "start_time": "2024-12-30T17:09:10.896518",
   "version": "2.6.0"
  }
 },
 "nbformat": 4,
 "nbformat_minor": 5
}
