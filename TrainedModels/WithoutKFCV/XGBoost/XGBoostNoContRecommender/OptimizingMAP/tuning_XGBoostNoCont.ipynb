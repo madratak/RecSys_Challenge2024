{
 "cells": [
  {
   "cell_type": "markdown",
   "id": "ee6ab9aa",
   "metadata": {
    "papermill": {
     "duration": 0.014415,
     "end_time": "2025-01-06T13:17:39.683862",
     "exception": false,
     "start_time": "2025-01-06T13:17:39.669447",
     "status": "completed"
    },
    "tags": []
   },
   "source": [
    "# Set connection with GitHub"
   ]
  },
  {
   "cell_type": "code",
   "execution_count": 1,
   "id": "ed2c0ea9",
   "metadata": {
    "execution": {
     "iopub.execute_input": "2025-01-06T13:17:39.701396Z",
     "iopub.status.busy": "2025-01-06T13:17:39.700987Z",
     "iopub.status.idle": "2025-01-06T13:17:39.706511Z",
     "shell.execute_reply": "2025-01-06T13:17:39.705577Z"
    },
    "papermill": {
     "duration": 0.015982,
     "end_time": "2025-01-06T13:17:39.708067",
     "exception": false,
     "start_time": "2025-01-06T13:17:39.692085",
     "status": "completed"
    },
    "tags": []
   },
   "outputs": [],
   "source": [
    "# ! cd /kaggle/working && rm -rf RECsys_Challenge2024"
   ]
  },
  {
   "cell_type": "code",
   "execution_count": 2,
   "id": "12fd142c",
   "metadata": {
    "_cell_guid": "b1076dfc-b9ad-4769-8c92-a6c4dae69d19",
    "_uuid": "8f2839f25d086af736a60e9eeb907d3b93b6e0e5",
    "execution": {
     "iopub.execute_input": "2025-01-06T13:17:39.725304Z",
     "iopub.status.busy": "2025-01-06T13:17:39.724981Z",
     "iopub.status.idle": "2025-01-06T13:17:55.489607Z",
     "shell.execute_reply": "2025-01-06T13:17:55.488270Z"
    },
    "papermill": {
     "duration": 15.775412,
     "end_time": "2025-01-06T13:17:55.491561",
     "exception": false,
     "start_time": "2025-01-06T13:17:39.716149",
     "status": "completed"
    },
    "tags": []
   },
   "outputs": [
    {
     "name": "stdout",
     "output_type": "stream",
     "text": [
      "Cloning into 'RECsys_Challenge2024'...\r\n",
      "remote: Enumerating objects: 6882, done.\u001b[K\r\n",
      "remote: Counting objects: 100% (60/60), done.\u001b[K\r\n",
      "remote: Compressing objects: 100% (50/50), done.\u001b[K\r\n",
      "remote: Total 6882 (delta 18), reused 0 (delta 0), pack-reused 6822 (from 3)\u001b[K\r\n",
      "Receiving objects: 100% (6882/6882), 412.47 MiB | 37.24 MiB/s, done.\r\n",
      "Resolving deltas: 100% (3749/3749), done.\r\n",
      "Updating files: 100% (506/506), done.\r\n"
     ]
    }
   ],
   "source": [
    "from kaggle_secrets import UserSecretsClient\n",
    "\n",
    "token = UserSecretsClient().get_secret(\"Token\")\n",
    "\n",
    "! git clone https://{token}@github.com/madratak/RECsys_Challenge2024.git"
   ]
  },
  {
   "cell_type": "code",
   "execution_count": 3,
   "id": "3960538c",
   "metadata": {
    "execution": {
     "iopub.execute_input": "2025-01-06T13:17:55.520790Z",
     "iopub.status.busy": "2025-01-06T13:17:55.520412Z",
     "iopub.status.idle": "2025-01-06T13:18:02.238843Z",
     "shell.execute_reply": "2025-01-06T13:18:02.237370Z"
    },
    "papermill": {
     "duration": 6.734349,
     "end_time": "2025-01-06T13:18:02.240864",
     "exception": false,
     "start_time": "2025-01-06T13:17:55.506515",
     "status": "completed"
    },
    "tags": []
   },
   "outputs": [
    {
     "name": "stdout",
     "output_type": "stream",
     "text": [
      "Collecting PyGithub\r\n",
      "  Downloading PyGithub-2.5.0-py3-none-any.whl.metadata (3.9 kB)\r\n",
      "Requirement already satisfied: requests in /usr/local/lib/python3.10/dist-packages (2.32.3)\r\n",
      "Collecting pynacl>=1.4.0 (from PyGithub)\r\n",
      "  Downloading PyNaCl-1.5.0-cp36-abi3-manylinux_2_17_x86_64.manylinux2014_x86_64.manylinux_2_24_x86_64.whl.metadata (8.6 kB)\r\n",
      "Requirement already satisfied: pyjwt>=2.4.0 in /usr/local/lib/python3.10/dist-packages (from pyjwt[crypto]>=2.4.0->PyGithub) (2.9.0)\r\n",
      "Requirement already satisfied: typing-extensions>=4.0.0 in /usr/local/lib/python3.10/dist-packages (from PyGithub) (4.12.2)\r\n",
      "Requirement already satisfied: urllib3>=1.26.0 in /usr/local/lib/python3.10/dist-packages (from PyGithub) (2.2.3)\r\n",
      "Requirement already satisfied: Deprecated in /usr/local/lib/python3.10/dist-packages (from PyGithub) (1.2.15)\r\n",
      "Requirement already satisfied: charset-normalizer<4,>=2 in /usr/local/lib/python3.10/dist-packages (from requests) (3.3.2)\r\n",
      "Requirement already satisfied: idna<4,>=2.5 in /usr/local/lib/python3.10/dist-packages (from requests) (3.10)\r\n",
      "Requirement already satisfied: certifi>=2017.4.17 in /usr/local/lib/python3.10/dist-packages (from requests) (2024.8.30)\r\n",
      "Requirement already satisfied: cryptography>=3.4.0 in /usr/local/lib/python3.10/dist-packages (from pyjwt[crypto]>=2.4.0->PyGithub) (43.0.1)\r\n",
      "Requirement already satisfied: cffi>=1.4.1 in /usr/local/lib/python3.10/dist-packages (from pynacl>=1.4.0->PyGithub) (1.17.1)\r\n",
      "Requirement already satisfied: wrapt<2,>=1.10 in /usr/local/lib/python3.10/dist-packages (from Deprecated->PyGithub) (1.16.0)\r\n",
      "Requirement already satisfied: pycparser in /usr/local/lib/python3.10/dist-packages (from cffi>=1.4.1->pynacl>=1.4.0->PyGithub) (2.22)\r\n",
      "Downloading PyGithub-2.5.0-py3-none-any.whl (375 kB)\r\n",
      "\u001b[2K   \u001b[90m━━━━━━━━━━━━━━━━━━━━━━━━━━━━━━━━━━━━━━━━\u001b[0m \u001b[32m375.9/375.9 kB\u001b[0m \u001b[31m6.8 MB/s\u001b[0m eta \u001b[36m0:00:00\u001b[0m\r\n",
      "\u001b[?25hDownloading PyNaCl-1.5.0-cp36-abi3-manylinux_2_17_x86_64.manylinux2014_x86_64.manylinux_2_24_x86_64.whl (856 kB)\r\n",
      "\u001b[2K   \u001b[90m━━━━━━━━━━━━━━━━━━━━━━━━━━━━━━━━━━━━━━━━\u001b[0m \u001b[32m856.7/856.7 kB\u001b[0m \u001b[31m23.4 MB/s\u001b[0m eta \u001b[36m0:00:00\u001b[0m\r\n",
      "\u001b[?25hInstalling collected packages: pynacl, PyGithub\r\n",
      "Successfully installed PyGithub-2.5.0 pynacl-1.5.0\r\n"
     ]
    }
   ],
   "source": [
    "! pip install PyGithub requests"
   ]
  },
  {
   "cell_type": "code",
   "execution_count": 4,
   "id": "aaf5dd7d",
   "metadata": {
    "execution": {
     "iopub.execute_input": "2025-01-06T13:18:02.270279Z",
     "iopub.status.busy": "2025-01-06T13:18:02.269922Z",
     "iopub.status.idle": "2025-01-06T13:18:06.977280Z",
     "shell.execute_reply": "2025-01-06T13:18:06.975867Z"
    },
    "papermill": {
     "duration": 4.724906,
     "end_time": "2025-01-06T13:18:06.979454",
     "exception": false,
     "start_time": "2025-01-06T13:18:02.254548",
     "status": "completed"
    },
    "tags": []
   },
   "outputs": [
    {
     "name": "stdout",
     "output_type": "stream",
     "text": [
      "Collecting implicit\r\n",
      "  Downloading implicit-0.7.2-cp310-cp310-manylinux2014_x86_64.whl.metadata (6.1 kB)\r\n",
      "Requirement already satisfied: numpy>=1.17.0 in /usr/local/lib/python3.10/dist-packages (from implicit) (1.26.4)\r\n",
      "Requirement already satisfied: scipy>=0.16 in /usr/local/lib/python3.10/dist-packages (from implicit) (1.13.1)\r\n",
      "Requirement already satisfied: tqdm>=4.27 in /usr/local/lib/python3.10/dist-packages (from implicit) (4.66.5)\r\n",
      "Requirement already satisfied: threadpoolctl in /usr/local/lib/python3.10/dist-packages (from implicit) (3.5.0)\r\n",
      "Downloading implicit-0.7.2-cp310-cp310-manylinux2014_x86_64.whl (8.9 MB)\r\n",
      "\u001b[2K   \u001b[90m━━━━━━━━━━━━━━━━━━━━━━━━━━━━━━━━━━━━━━━━\u001b[0m \u001b[32m8.9/8.9 MB\u001b[0m \u001b[31m57.3 MB/s\u001b[0m eta \u001b[36m0:00:00\u001b[0m\r\n",
      "\u001b[?25hInstalling collected packages: implicit\r\n",
      "Successfully installed implicit-0.7.2\r\n"
     ]
    }
   ],
   "source": [
    "! pip install implicit"
   ]
  },
  {
   "cell_type": "code",
   "execution_count": 5,
   "id": "0dd04d41",
   "metadata": {
    "execution": {
     "iopub.execute_input": "2025-01-06T13:18:07.010193Z",
     "iopub.status.busy": "2025-01-06T13:18:07.009744Z",
     "iopub.status.idle": "2025-01-06T13:18:13.384386Z",
     "shell.execute_reply": "2025-01-06T13:18:13.382976Z"
    },
    "papermill": {
     "duration": 6.39209,
     "end_time": "2025-01-06T13:18:13.386412",
     "exception": false,
     "start_time": "2025-01-06T13:18:06.994322",
     "status": "completed"
    },
    "tags": []
   },
   "outputs": [
    {
     "name": "stdout",
     "output_type": "stream",
     "text": [
      "Collecting timeout-decorator\r\n",
      "  Downloading timeout-decorator-0.5.0.tar.gz (4.8 kB)\r\n",
      "  Preparing metadata (setup.py) ... \u001b[?25l\u001b[?25hdone\r\n",
      "Building wheels for collected packages: timeout-decorator\r\n",
      "  Building wheel for timeout-decorator (setup.py) ... \u001b[?25l\u001b[?25hdone\r\n",
      "  Created wheel for timeout-decorator: filename=timeout_decorator-0.5.0-py3-none-any.whl size=5005 sha256=dc77d9a5a5f587915a79a2ded38699c8c4b1f355797f9f87eefac02b194454a5\r\n",
      "  Stored in directory: /root/.cache/pip/wheels/68/2f/bc/76f1192d474666d41ae6f09813fccbd00fe3f07e8261c4cff5\r\n",
      "Successfully built timeout-decorator\r\n",
      "Installing collected packages: timeout-decorator\r\n",
      "Successfully installed timeout-decorator-0.5.0\r\n"
     ]
    }
   ],
   "source": [
    "!pip install timeout-decorator"
   ]
  },
  {
   "cell_type": "code",
   "execution_count": 6,
   "id": "8a144b28",
   "metadata": {
    "_kg_hide-input": false,
    "execution": {
     "iopub.execute_input": "2025-01-06T13:18:13.416996Z",
     "iopub.status.busy": "2025-01-06T13:18:13.416584Z",
     "iopub.status.idle": "2025-01-06T13:20:55.826566Z",
     "shell.execute_reply": "2025-01-06T13:20:55.825095Z"
    },
    "papermill": {
     "duration": 162.42756,
     "end_time": "2025-01-06T13:20:55.828607",
     "exception": false,
     "start_time": "2025-01-06T13:18:13.401047",
     "status": "completed"
    },
    "tags": []
   },
   "outputs": [
    {
     "name": "stdout",
     "output_type": "stream",
     "text": [
      "/kaggle/working/RECsys_Challenge2024\n",
      "run_compile_all_cython: Found 11 Cython files in 5 folders...\r\n",
      "run_compile_all_cython: All files will be compiled using your current python environment: '/usr/bin/python3'\r\n",
      "Compiling [1/11]: MatrixFactorizationImpressions_Cython_Epoch.pyx... \r\n",
      "In file included from \u001b[01m\u001b[K/usr/local/lib/python3.10/dist-packages/numpy/core/include/numpy/ndarraytypes.h:1929\u001b[m\u001b[K,\r\n",
      "                 from \u001b[01m\u001b[K/usr/local/lib/python3.10/dist-packages/numpy/core/include/numpy/ndarrayobject.h:12\u001b[m\u001b[K,\r\n",
      "                 from \u001b[01m\u001b[K/usr/local/lib/python3.10/dist-packages/numpy/core/include/numpy/arrayobject.h:5\u001b[m\u001b[K,\r\n",
      "                 from \u001b[01m\u001b[KMatrixFactorizationImpressions_Cython_Epoch.c:1252\u001b[m\u001b[K:\r\n",
      "\u001b[01m\u001b[K/usr/local/lib/python3.10/dist-packages/numpy/core/include/numpy/npy_1_7_deprecated_api.h:17:2:\u001b[m\u001b[K \u001b[01;35m\u001b[Kwarning: \u001b[m\u001b[K#warning \"Using deprecated NumPy API, disable it with \" \"#define NPY_NO_DEPRECATED_API NPY_1_7_API_VERSION\" [\u001b[01;35m\u001b[K\u001b]8;;https://gcc.gnu.org/onlinedocs/gcc/Warning-Options.html#index-Wcpp\u0007-Wcpp\u001b]8;;\u0007\u001b[m\u001b[K]\r\n",
      "   17 | #\u001b[01;35m\u001b[Kwarning\u001b[m\u001b[K \"Using deprecated NumPy API, disable it with \" \\\r\n",
      "      |  \u001b[01;35m\u001b[K^~~~~~~\u001b[m\u001b[K\r\n",
      "\u001b[01m\u001b[KMatrixFactorizationImpressions_Cython_Epoch.c:\u001b[m\u001b[K In function ‘\u001b[01m\u001b[K__pyx_f_43MatrixFactorizationImpressions_Cython_Epoch_32MatrixFactorization_Cython_Epoch_sampleBPR_Cython\u001b[m\u001b[K’:\r\n",
      "\u001b[01m\u001b[KMatrixFactorizationImpressions_Cython_Epoch.c:30353:17:\u001b[m\u001b[K \u001b[01;35m\u001b[Kwarning: \u001b[m\u001b[K‘\u001b[01m\u001b[K__pyx_v_start_pos_impression_items\u001b[m\u001b[K’ may be used uninitialized in this function [\u001b[01;35m\u001b[K\u001b]8;;https://gcc.gnu.org/onlinedocs/gcc/Warning-Options.html#index-Wmaybe-uninitialized\u0007-Wmaybe-uninitialized\u001b]8;;\u0007\u001b[m\u001b[K]\r\n",
      "30353 |       \u001b[01;35m\u001b[K__pyx_t_4 = (__pyx_v_start_pos_impression_items + __pyx_v_index)\u001b[m\u001b[K;\r\n",
      "      |       \u001b[01;35m\u001b[K~~~~~~~~~~^~~~~~~~~~~~~~~~~~~~~~~~~~~~~~~~~~~~~~~~~~~~~~~~~~~~~~\u001b[m\u001b[K\r\n",
      "\u001b[01m\u001b[KMatrixFactorizationImpressions_Cython_Epoch.c:\u001b[m\u001b[K In function ‘\u001b[01m\u001b[K__pyx_pf_43MatrixFactorizationImpressions_Cython_Epoch_32MatrixFactorization_Cython_Epoch_10epochIteration_Cython_ASY_SVD_SGD\u001b[m\u001b[K’:\r\n",
      "\u001b[01m\u001b[KMatrixFactorizationImpressions_Cython_Epoch.c:26112:66:\u001b[m\u001b[K \u001b[01;35m\u001b[Kwarning: \u001b[m\u001b[K‘\u001b[01m\u001b[K__pyx_v_end_pos_seen_items\u001b[m\u001b[K’ may be used uninitialized in this function [\u001b[01;35m\u001b[K\u001b]8;;https://gcc.gnu.org/onlinedocs/gcc/Warning-Options.html#index-Wmaybe-uninitialized\u0007-Wmaybe-uninitialized\u001b]8;;\u0007\u001b[m\u001b[K]\r\n",
      "26112 |       for (__pyx_t_22 = __pyx_v_start_pos_seen_items; \u001b[01;35m\u001b[K__pyx_t_22 < __pyx_t_21\u001b[m\u001b[K; __pyx_t_22+=1) {\r\n",
      "      |                                                       \u001b[01;35m\u001b[K~~~~~~~~~~~^~~~~~~~~~~~\u001b[m\u001b[K\r\n",
      "\u001b[01m\u001b[KMatrixFactorizationImpressions_Cython_Epoch.c:26112:66:\u001b[m\u001b[K \u001b[01;35m\u001b[Kwarning: \u001b[m\u001b[K‘\u001b[01m\u001b[K__pyx_v_start_pos_seen_items\u001b[m\u001b[K’ may be used uninitialized in this function [\u001b[01;35m\u001b[K\u001b]8;;https://gcc.gnu.org/onlinedocs/gcc/Warning-Options.html#index-Wmaybe-uninitialized\u0007-Wmaybe-uninitialized\u001b]8;;\u0007\u001b[m\u001b[K]\r\n",
      "/usr/local/lib/python3.10/dist-packages/Cython/Compiler/Main.py:381: FutureWarning: Cython directive 'language_level' not set, using '3str' for now (Py3). This has changed from earlier releases! File: /kaggle/working/RECsys_Challenge2024/Recommenders/MatrixFactorization/Cython/MatrixFactorizationImpressions_Cython_Epoch.pyx\r\n",
      "  tree = Parsing.p_module(s, pxd, full_module_name)\r\n",
      "Compiling [1/11]: MatrixFactorizationImpressions_Cython_Epoch.pyx... PASS\r\n",
      "\r\n",
      "Compiling [2/11]: MatrixFactorization_Cython_Epoch.pyx... \r\n",
      "In file included from \u001b[01m\u001b[K/usr/local/lib/python3.10/dist-packages/numpy/core/include/numpy/ndarraytypes.h:1929\u001b[m\u001b[K,\r\n",
      "                 from \u001b[01m\u001b[K/usr/local/lib/python3.10/dist-packages/numpy/core/include/numpy/ndarrayobject.h:12\u001b[m\u001b[K,\r\n",
      "                 from \u001b[01m\u001b[K/usr/local/lib/python3.10/dist-packages/numpy/core/include/numpy/arrayobject.h:5\u001b[m\u001b[K,\r\n",
      "                 from \u001b[01m\u001b[KMatrixFactorization_Cython_Epoch.c:1252\u001b[m\u001b[K:\r\n",
      "\u001b[01m\u001b[K/usr/local/lib/python3.10/dist-packages/numpy/core/include/numpy/npy_1_7_deprecated_api.h:17:2:\u001b[m\u001b[K \u001b[01;35m\u001b[Kwarning: \u001b[m\u001b[K#warning \"Using deprecated NumPy API, disable it with \" \"#define NPY_NO_DEPRECATED_API NPY_1_7_API_VERSION\" [\u001b[01;35m\u001b[K\u001b]8;;https://gcc.gnu.org/onlinedocs/gcc/Warning-Options.html#index-Wcpp\u0007-Wcpp\u001b]8;;\u0007\u001b[m\u001b[K]\r\n",
      "   17 | #\u001b[01;35m\u001b[Kwarning\u001b[m\u001b[K \"Using deprecated NumPy API, disable it with \" \\\r\n",
      "      |  \u001b[01;35m\u001b[K^~~~~~~\u001b[m\u001b[K\r\n",
      "\u001b[01m\u001b[KMatrixFactorization_Cython_Epoch.c:\u001b[m\u001b[K In function ‘\u001b[01m\u001b[K__pyx_pf_32MatrixFactorization_Cython_Epoch_32MatrixFactorization_Cython_Epoch_10epochIteration_Cython_ASY_SVD_SGD\u001b[m\u001b[K’:\r\n",
      "\u001b[01m\u001b[KMatrixFactorization_Cython_Epoch.c:26256:68:\u001b[m\u001b[K \u001b[01;35m\u001b[Kwarning: \u001b[m\u001b[K‘\u001b[01m\u001b[K__pyx_v_end_pos_seen_items\u001b[m\u001b[K’ may be used uninitialized in this function [\u001b[01;35m\u001b[K\u001b]8;;https://gcc.gnu.org/onlinedocs/gcc/Warning-Options.html#index-Wmaybe-uninitialized\u0007-Wmaybe-uninitialized\u001b]8;;\u0007\u001b[m\u001b[K]\r\n",
      "26256 |         for (__pyx_t_22 = __pyx_v_start_pos_seen_items; \u001b[01;35m\u001b[K__pyx_t_22 < __pyx_t_21\u001b[m\u001b[K; __pyx_t_22+=1) {\r\n",
      "      |                                                         \u001b[01;35m\u001b[K~~~~~~~~~~~^~~~~~~~~~~~\u001b[m\u001b[K\r\n",
      "\u001b[01m\u001b[KMatrixFactorization_Cython_Epoch.c:26256:68:\u001b[m\u001b[K \u001b[01;35m\u001b[Kwarning: \u001b[m\u001b[K‘\u001b[01m\u001b[K__pyx_v_start_pos_seen_items\u001b[m\u001b[K’ may be used uninitialized in this function [\u001b[01;35m\u001b[K\u001b]8;;https://gcc.gnu.org/onlinedocs/gcc/Warning-Options.html#index-Wmaybe-uninitialized\u0007-Wmaybe-uninitialized\u001b]8;;\u0007\u001b[m\u001b[K]\r\n",
      "/usr/local/lib/python3.10/dist-packages/Cython/Compiler/Main.py:381: FutureWarning: Cython directive 'language_level' not set, using '3str' for now (Py3). This has changed from earlier releases! File: /kaggle/working/RECsys_Challenge2024/Recommenders/MatrixFactorization/Cython/MatrixFactorization_Cython_Epoch.pyx\r\n",
      "  tree = Parsing.p_module(s, pxd, full_module_name)\r\n",
      "Compiling [2/11]: MatrixFactorization_Cython_Epoch.pyx... PASS\r\n",
      "\r\n",
      "Compiling [3/11]: Compute_Similarity_Cython.pyx... \r\n",
      "warning: Compute_Similarity_Cython.pyx:21:0: The 'IF' statement is deprecated and will be removed in a future Cython version. Consider using runtime conditions or C macros instead. See https://github.com/cython/cython/issues/4310\r\n",
      "In file included from \u001b[01m\u001b[K/usr/local/lib/python3.10/dist-packages/numpy/core/include/numpy/ndarraytypes.h:1929\u001b[m\u001b[K,\r\n",
      "                 from \u001b[01m\u001b[K/usr/local/lib/python3.10/dist-packages/numpy/core/include/numpy/ndarrayobject.h:12\u001b[m\u001b[K,\r\n",
      "                 from \u001b[01m\u001b[K/usr/local/lib/python3.10/dist-packages/numpy/core/include/numpy/arrayobject.h:5\u001b[m\u001b[K,\r\n",
      "                 from \u001b[01m\u001b[KCompute_Similarity_Cython.c:1252\u001b[m\u001b[K:\r\n",
      "\u001b[01m\u001b[K/usr/local/lib/python3.10/dist-packages/numpy/core/include/numpy/npy_1_7_deprecated_api.h:17:2:\u001b[m\u001b[K \u001b[01;35m\u001b[Kwarning: \u001b[m\u001b[K#warning \"Using deprecated NumPy API, disable it with \" \"#define NPY_NO_DEPRECATED_API NPY_1_7_API_VERSION\" [\u001b[01;35m\u001b[K\u001b]8;;https://gcc.gnu.org/onlinedocs/gcc/Warning-Options.html#index-Wcpp\u0007-Wcpp\u001b]8;;\u0007\u001b[m\u001b[K]\r\n",
      "   17 | #\u001b[01;35m\u001b[Kwarning\u001b[m\u001b[K \"Using deprecated NumPy API, disable it with \" \\\r\n",
      "      |  \u001b[01;35m\u001b[K^~~~~~~\u001b[m\u001b[K\r\n",
      "/usr/local/lib/python3.10/dist-packages/Cython/Compiler/Main.py:381: FutureWarning: Cython directive 'language_level' not set, using '3str' for now (Py3). This has changed from earlier releases! File: /kaggle/working/RECsys_Challenge2024/Recommenders/Similarity/Cython/Compute_Similarity_Cython.pyx\r\n",
      "  tree = Parsing.p_module(s, pxd, full_module_name)\r\n",
      "warning: Compute_Similarity_Cython.pyx:21:0: The 'IF' statement is deprecated and will be removed in a future Cython version. Consider using runtime conditions or C macros instead. See https://github.com/cython/cython/issues/4310\r\n",
      "Compiling [3/11]: Compute_Similarity_Cython.pyx... PASS\r\n",
      "\r\n",
      "Compiling [4/11]: SLIM_BPR_Cython_Epoch.pyx... \r\n",
      "warning: SLIM_BPR_Cython_Epoch.pyx:24:0: The 'IF' statement is deprecated and will be removed in a future Cython version. Consider using runtime conditions or C macros instead. See https://github.com/cython/cython/issues/4310\r\n",
      "warning: SLIM_BPR_Cython_Epoch.pyx:632:34: Non-trivial type declarators in shared declaration (e.g. mix of pointers and values). Each pointer declaration should be on its own line.\r\n",
      "warning: SLIM_BPR_Cython_Epoch.pyx:632:66: Non-trivial type declarators in shared declaration (e.g. mix of pointers and values). Each pointer declaration should be on its own line.\r\n",
      "warning: SLIM_BPR_Cython_Epoch.pyx:817:35: Non-trivial type declarators in shared declaration (e.g. mix of pointers and values). Each pointer declaration should be on its own line.\r\n",
      "warning: SLIM_BPR_Cython_Epoch.pyx:817:52: Non-trivial type declarators in shared declaration (e.g. mix of pointers and values). Each pointer declaration should be on its own line.\r\n",
      "warning: SLIM_BPR_Cython_Epoch.pyx:916:35: Non-trivial type declarators in shared declaration (e.g. mix of pointers and values). Each pointer declaration should be on its own line.\r\n",
      "warning: SLIM_BPR_Cython_Epoch.pyx:916:53: Non-trivial type declarators in shared declaration (e.g. mix of pointers and values). Each pointer declaration should be on its own line.\r\n",
      "warning: SLIM_BPR_Cython_Epoch.pyx:916:69: Non-trivial type declarators in shared declaration (e.g. mix of pointers and values). Each pointer declaration should be on its own line.\r\n",
      "warning: SLIM_BPR_Cython_Epoch.pyx:1051:35: Non-trivial type declarators in shared declaration (e.g. mix of pointers and values). Each pointer declaration should be on its own line.\r\n",
      "warning: SLIM_BPR_Cython_Epoch.pyx:1051:42: Non-trivial type declarators in shared declaration (e.g. mix of pointers and values). Each pointer declaration should be on its own line.\r\n",
      "warning: SLIM_BPR_Cython_Epoch.pyx:1052:35: Non-trivial type declarators in shared declaration (e.g. mix of pointers and values). Each pointer declaration should be on its own line.\r\n",
      "warning: SLIM_BPR_Cython_Epoch.pyx:1052:53: Non-trivial type declarators in shared declaration (e.g. mix of pointers and values). Each pointer declaration should be on its own line.\r\n",
      "\r\n",
      "Error compiling Cython file:\r\n",
      "------------------------------------------------------------\r\n",
      "...\r\n",
      "            vector_pointer_to_list_elements[index].head = current_element\r\n",
      "            current_element = current_element.higher\r\n",
      "\r\n",
      "\r\n",
      "        # Sort array elements on their data field\r\n",
      "        qsort(vector_pointer_to_list_elements, list_length, sizeof(head_pointer_tree_s), compare_struct_on_data)\r\n",
      "                                                                                         ^\r\n",
      "------------------------------------------------------------\r\n",
      "\r\n",
      "SLIM_BPR_Cython_Epoch.pyx:990:89: Cannot assign type 'int (const void *, const void *) except? -1' to 'int (*)(const_void *, const_void *) noexcept'. Exception values are incompatible. Suggest adding 'noexcept' to the type of 'compare_struct_on_data'.\r\n",
      "\r\n",
      "Error compiling Cython file:\r\n",
      "------------------------------------------------------------\r\n",
      "...\r\n",
      "        # Sort array elements on their data field\r\n",
      "        qsort(vector_pointer_to_list_elements, list_length, sizeof(head_pointer_tree_s), compare_struct_on_data)\r\n",
      "\r\n",
      "        # Sort only the TopK according to their column field\r\n",
      "        # Sort is from lower to higher, therefore the elements to be considered are from len-topK to len\r\n",
      "        qsort(&vector_pointer_to_list_elements[list_length-TopK], TopK, sizeof(head_pointer_tree_s), compare_struct_on_column)\r\n",
      "                                                                                                     ^\r\n",
      "------------------------------------------------------------\r\n",
      "\r\n",
      "SLIM_BPR_Cython_Epoch.pyx:994:101: Cannot assign type 'int (const void *, const void *) except? -1' to 'int (*)(const_void *, const_void *) noexcept'. Exception values are incompatible. Suggest adding 'noexcept' to the type of 'compare_struct_on_column'.\r\n",
      "Traceback (most recent call last):\r\n",
      "  File \"/kaggle/working/RECsys_Challenge2024/CythonCompiler/compile_script.py\", line 48, in <module>\r\n",
      "    setup(\r\n",
      "  File \"/usr/local/lib/python3.10/dist-packages/setuptools/__init__.py\", line 108, in setup\r\n",
      "    return distutils.core.setup(**attrs)\r\n",
      "  File \"/usr/local/lib/python3.10/dist-packages/setuptools/_distutils/core.py\", line 184, in setup\r\n",
      "    return run_commands(dist)\r\n",
      "  File \"/usr/local/lib/python3.10/dist-packages/setuptools/_distutils/core.py\", line 200, in run_commands\r\n",
      "    dist.run_commands()\r\n",
      "  File \"/usr/local/lib/python3.10/dist-packages/setuptools/_distutils/dist.py\", line 970, in run_commands\r\n",
      "    self.run_command(cmd)\r\n",
      "  File \"/usr/local/lib/python3.10/dist-packages/setuptools/dist.py\", line 956, in run_command\r\n",
      "    super().run_command(command)\r\n",
      "  File \"/usr/local/lib/python3.10/dist-packages/setuptools/_distutils/dist.py\", line 989, in run_command\r\n",
      "    cmd_obj.run()\r\n",
      "  File \"/usr/local/lib/python3.10/dist-packages/setuptools/_distutils/command/build_ext.py\", line 359, in run\r\n",
      "    self.build_extensions()\r\n",
      "  File \"/usr/local/lib/python3.10/dist-packages/setuptools/_distutils/command/build_ext.py\", line 479, in build_extensions\r\n",
      "    self._build_extensions_serial()\r\n",
      "  File \"/usr/local/lib/python3.10/dist-packages/setuptools/_distutils/command/build_ext.py\", line 505, in _build_extensions_serial\r\n",
      "    self.build_extension(ext)\r\n",
      "  File \"/usr/local/lib/python3.10/dist-packages/Cython/Distutils/build_ext.py\", line 130, in build_extension\r\n",
      "    new_ext = cythonize(\r\n",
      "  File \"/usr/local/lib/python3.10/dist-packages/Cython/Build/Dependencies.py\", line 1154, in cythonize\r\n",
      "    cythonize_one(*args)\r\n",
      "  File \"/usr/local/lib/python3.10/dist-packages/Cython/Build/Dependencies.py\", line 1321, in cythonize_one\r\n",
      "    raise CompileError(None, pyx_file)\r\n",
      "Cython.Compiler.Errors.CompileError: SLIM_BPR_Cython_Epoch.pyx\r\n",
      "Traceback (most recent call last):\r\n",
      "  File \"/kaggle/working/RECsys_Challenge2024/run_compile_all_cython.py\", line 60, in <module>\r\n",
      "    run_compile_subprocess(file_path, [file_name])\r\n",
      "  File \"/kaggle/working/RECsys_Challenge2024/CythonCompiler/run_compile_subprocess.py\", line 51, in run_compile_subprocess\r\n",
      "    raise exc\r\n",
      "  File \"/kaggle/working/RECsys_Challenge2024/CythonCompiler/run_compile_subprocess.py\", line 32, in run_compile_subprocess\r\n",
      "    output = subprocess.check_output(' '.join(command),\r\n",
      "  File \"/usr/lib/python3.10/subprocess.py\", line 421, in check_output\r\n",
      "    return run(*popenargs, stdout=PIPE, timeout=timeout, check=True,\r\n",
      "  File \"/usr/lib/python3.10/subprocess.py\", line 526, in run\r\n",
      "    raise CalledProcessError(retcode, process.args,\r\n",
      "subprocess.CalledProcessError: Command '/usr/bin/python3 /kaggle/working/RECsys_Challenge2024/CythonCompiler/compile_script.py SLIM_BPR_Cython_Epoch.pyx build_ext --inplace' returned non-zero exit status 1.\r\n",
      "Compiling [4/11]: SLIM_BPR_Cython_Epoch.pyx... FAIL: Command '/usr/bin/python3 /kaggle/working/RECsys_Challenge2024/CythonCompiler/compile_script.py SLIM_BPR_Cython_Epoch.pyx build_ext --inplace' returned non-zero exit status 1.\r\n",
      "\r\n",
      "Compiling [5/11]: Sparse_Matrix_Tree_CSR.pyx... \r\n",
      "warning: Sparse_Matrix_Tree_CSR.pyx:132:34: Non-trivial type declarators in shared declaration (e.g. mix of pointers and values). Each pointer declaration should be on its own line.\r\n",
      "warning: Sparse_Matrix_Tree_CSR.pyx:132:66: Non-trivial type declarators in shared declaration (e.g. mix of pointers and values). Each pointer declaration should be on its own line.\r\n",
      "warning: Sparse_Matrix_Tree_CSR.pyx:343:35: Non-trivial type declarators in shared declaration (e.g. mix of pointers and values). Each pointer declaration should be on its own line.\r\n",
      "warning: Sparse_Matrix_Tree_CSR.pyx:343:52: Non-trivial type declarators in shared declaration (e.g. mix of pointers and values). Each pointer declaration should be on its own line.\r\n",
      "warning: Sparse_Matrix_Tree_CSR.pyx:442:35: Non-trivial type declarators in shared declaration (e.g. mix of pointers and values). Each pointer declaration should be on its own line.\r\n",
      "warning: Sparse_Matrix_Tree_CSR.pyx:442:53: Non-trivial type declarators in shared declaration (e.g. mix of pointers and values). Each pointer declaration should be on its own line.\r\n",
      "warning: Sparse_Matrix_Tree_CSR.pyx:442:69: Non-trivial type declarators in shared declaration (e.g. mix of pointers and values). Each pointer declaration should be on its own line.\r\n",
      "warning: Sparse_Matrix_Tree_CSR.pyx:577:35: Non-trivial type declarators in shared declaration (e.g. mix of pointers and values). Each pointer declaration should be on its own line.\r\n",
      "warning: Sparse_Matrix_Tree_CSR.pyx:577:42: Non-trivial type declarators in shared declaration (e.g. mix of pointers and values). Each pointer declaration should be on its own line.\r\n",
      "warning: Sparse_Matrix_Tree_CSR.pyx:578:35: Non-trivial type declarators in shared declaration (e.g. mix of pointers and values). Each pointer declaration should be on its own line.\r\n",
      "warning: Sparse_Matrix_Tree_CSR.pyx:578:53: Non-trivial type declarators in shared declaration (e.g. mix of pointers and values). Each pointer declaration should be on its own line.\r\n",
      "\r\n",
      "Error compiling Cython file:\r\n",
      "------------------------------------------------------------\r\n",
      "...\r\n",
      "            vector_pointer_to_list_elements[index].head = current_element\r\n",
      "            current_element = current_element.higher\r\n",
      "\r\n",
      "\r\n",
      "        # Sort array elements on their data field\r\n",
      "        qsort(vector_pointer_to_list_elements, list_length, sizeof(head_pointer_tree_s), compare_struct_on_data)\r\n",
      "                                                                                         ^\r\n",
      "------------------------------------------------------------\r\n",
      "\r\n",
      "Sparse_Matrix_Tree_CSR.pyx:516:89: Cannot assign type 'int (const void *, const void *) except? -1' to 'int (*)(const_void *, const_void *) noexcept'. Exception values are incompatible. Suggest adding 'noexcept' to the type of 'compare_struct_on_data'.\r\n",
      "\r\n",
      "Error compiling Cython file:\r\n",
      "------------------------------------------------------------\r\n",
      "...\r\n",
      "        # Sort array elements on their data field\r\n",
      "        qsort(vector_pointer_to_list_elements, list_length, sizeof(head_pointer_tree_s), compare_struct_on_data)\r\n",
      "\r\n",
      "        # Sort only the TopK according to their column field\r\n",
      "        # Sort is from lower to higher, therefore the elements to be considered are from len-topK to len\r\n",
      "        qsort(&vector_pointer_to_list_elements[list_length-TopK], TopK, sizeof(head_pointer_tree_s), compare_struct_on_column)\r\n",
      "                                                                                                     ^\r\n",
      "------------------------------------------------------------\r\n",
      "\r\n",
      "Sparse_Matrix_Tree_CSR.pyx:520:101: Cannot assign type 'int (const void *, const void *) except? -1' to 'int (*)(const_void *, const_void *) noexcept'. Exception values are incompatible. Suggest adding 'noexcept' to the type of 'compare_struct_on_column'.\r\n",
      "Traceback (most recent call last):\r\n",
      "  File \"/kaggle/working/RECsys_Challenge2024/CythonCompiler/compile_script.py\", line 48, in <module>\r\n",
      "    setup(\r\n",
      "  File \"/usr/local/lib/python3.10/dist-packages/setuptools/__init__.py\", line 108, in setup\r\n",
      "    return distutils.core.setup(**attrs)\r\n",
      "  File \"/usr/local/lib/python3.10/dist-packages/setuptools/_distutils/core.py\", line 184, in setup\r\n",
      "    return run_commands(dist)\r\n",
      "  File \"/usr/local/lib/python3.10/dist-packages/setuptools/_distutils/core.py\", line 200, in run_commands\r\n",
      "    dist.run_commands()\r\n",
      "  File \"/usr/local/lib/python3.10/dist-packages/setuptools/_distutils/dist.py\", line 970, in run_commands\r\n",
      "    self.run_command(cmd)\r\n",
      "  File \"/usr/local/lib/python3.10/dist-packages/setuptools/dist.py\", line 956, in run_command\r\n",
      "    super().run_command(command)\r\n",
      "  File \"/usr/local/lib/python3.10/dist-packages/setuptools/_distutils/dist.py\", line 989, in run_command\r\n",
      "    cmd_obj.run()\r\n",
      "  File \"/usr/local/lib/python3.10/dist-packages/setuptools/_distutils/command/build_ext.py\", line 359, in run\r\n",
      "    self.build_extensions()\r\n",
      "  File \"/usr/local/lib/python3.10/dist-packages/setuptools/_distutils/command/build_ext.py\", line 479, in build_extensions\r\n",
      "    self._build_extensions_serial()\r\n",
      "  File \"/usr/local/lib/python3.10/dist-packages/setuptools/_distutils/command/build_ext.py\", line 505, in _build_extensions_serial\r\n",
      "    self.build_extension(ext)\r\n",
      "  File \"/usr/local/lib/python3.10/dist-packages/Cython/Distutils/build_ext.py\", line 130, in build_extension\r\n",
      "    new_ext = cythonize(\r\n",
      "  File \"/usr/local/lib/python3.10/dist-packages/Cython/Build/Dependencies.py\", line 1154, in cythonize\r\n",
      "    cythonize_one(*args)\r\n",
      "  File \"/usr/local/lib/python3.10/dist-packages/Cython/Build/Dependencies.py\", line 1321, in cythonize_one\r\n",
      "    raise CompileError(None, pyx_file)\r\n",
      "Cython.Compiler.Errors.CompileError: Sparse_Matrix_Tree_CSR.pyx\r\n",
      "Traceback (most recent call last):\r\n",
      "  File \"/kaggle/working/RECsys_Challenge2024/run_compile_all_cython.py\", line 60, in <module>\r\n",
      "    run_compile_subprocess(file_path, [file_name])\r\n",
      "  File \"/kaggle/working/RECsys_Challenge2024/CythonCompiler/run_compile_subprocess.py\", line 51, in run_compile_subprocess\r\n",
      "    raise exc\r\n",
      "  File \"/kaggle/working/RECsys_Challenge2024/CythonCompiler/run_compile_subprocess.py\", line 32, in run_compile_subprocess\r\n",
      "    output = subprocess.check_output(' '.join(command),\r\n",
      "  File \"/usr/lib/python3.10/subprocess.py\", line 421, in check_output\r\n",
      "    return run(*popenargs, stdout=PIPE, timeout=timeout, check=True,\r\n",
      "  File \"/usr/lib/python3.10/subprocess.py\", line 526, in run\r\n",
      "    raise CalledProcessError(retcode, process.args,\r\n",
      "subprocess.CalledProcessError: Command '/usr/bin/python3 /kaggle/working/RECsys_Challenge2024/CythonCompiler/compile_script.py Sparse_Matrix_Tree_CSR.pyx build_ext --inplace' returned non-zero exit status 1.\r\n",
      "Compiling [5/11]: Sparse_Matrix_Tree_CSR.pyx... FAIL: Command '/usr/bin/python3 /kaggle/working/RECsys_Challenge2024/CythonCompiler/compile_script.py Sparse_Matrix_Tree_CSR.pyx build_ext --inplace' returned non-zero exit status 1.\r\n",
      "\r\n",
      "Compiling [6/11]: Triangular_Matrix.pyx... \r\n",
      "warning: Triangular_Matrix.pyx:22:0: The 'IF' statement is deprecated and will be removed in a future Cython version. Consider using runtime conditions or C macros instead. See https://github.com/cython/cython/issues/4310\r\n",
      "In file included from \u001b[01m\u001b[K/usr/local/lib/python3.10/dist-packages/numpy/core/include/numpy/ndarraytypes.h:1929\u001b[m\u001b[K,\r\n",
      "                 from \u001b[01m\u001b[K/usr/local/lib/python3.10/dist-packages/numpy/core/include/numpy/ndarrayobject.h:12\u001b[m\u001b[K,\r\n",
      "                 from \u001b[01m\u001b[K/usr/local/lib/python3.10/dist-packages/numpy/core/include/numpy/arrayobject.h:5\u001b[m\u001b[K,\r\n",
      "                 from \u001b[01m\u001b[KTriangular_Matrix.c:1252\u001b[m\u001b[K:\r\n",
      "\u001b[01m\u001b[K/usr/local/lib/python3.10/dist-packages/numpy/core/include/numpy/npy_1_7_deprecated_api.h:17:2:\u001b[m\u001b[K \u001b[01;35m\u001b[Kwarning: \u001b[m\u001b[K#warning \"Using deprecated NumPy API, disable it with \" \"#define NPY_NO_DEPRECATED_API NPY_1_7_API_VERSION\" [\u001b[01;35m\u001b[K\u001b]8;;https://gcc.gnu.org/onlinedocs/gcc/Warning-Options.html#index-Wcpp\u0007-Wcpp\u001b]8;;\u0007\u001b[m\u001b[K]\r\n",
      "   17 | #\u001b[01;35m\u001b[Kwarning\u001b[m\u001b[K \"Using deprecated NumPy API, disable it with \" \\\r\n",
      "      |  \u001b[01;35m\u001b[K^~~~~~~\u001b[m\u001b[K\r\n",
      "In function ‘\u001b[01m\u001b[K__pyx_pf_17Triangular_Matrix_17Triangular_Matrix___init__\u001b[m\u001b[K’,\r\n",
      "    inlined from ‘\u001b[01m\u001b[K__pyx_pw_17Triangular_Matrix_17Triangular_Matrix_1__init__\u001b[m\u001b[K’ at \u001b[01m\u001b[KTriangular_Matrix.c:5541:13\u001b[m\u001b[K:\r\n",
      "\u001b[01m\u001b[KTriangular_Matrix.c:5599:43:\u001b[m\u001b[K \u001b[01;35m\u001b[Kwarning: \u001b[m\u001b[Kargument 1 value ‘\u001b[01m\u001b[K18446744073709551608\u001b[m\u001b[K’ exceeds maximum object size 9223372036854775807 [\u001b[01;35m\u001b[K\u001b]8;;https://gcc.gnu.org/onlinedocs/gcc/Warning-Options.html#index-Walloc-size-larger-than=\u0007-Walloc-size-larger-than=\u001b]8;;\u0007\u001b[m\u001b[K]\r\n",
      " 5599 |   __pyx_v_self->row_pointer = ((double **)\u001b[01;35m\u001b[Kmalloc((__pyx_v_self->num_rows * (sizeof(double *))))\u001b[m\u001b[K);\r\n",
      "      |                                           \u001b[01;35m\u001b[K^~~~~~~~~~~~~~~~~~~~~~~~~~~~~~~~~~~~~~~~~~~~~~~~~~~~~\u001b[m\u001b[K\r\n",
      "In file included from \u001b[01m\u001b[K/usr/include/python3.10/Python.h:34\u001b[m\u001b[K,\r\n",
      "                 from \u001b[01m\u001b[KTriangular_Matrix.c:41\u001b[m\u001b[K:\r\n",
      "\u001b[01m\u001b[KTriangular_Matrix.c:\u001b[m\u001b[K In function ‘\u001b[01m\u001b[K__pyx_pw_17Triangular_Matrix_17Triangular_Matrix_1__init__\u001b[m\u001b[K’:\r\n",
      "\u001b[01m\u001b[K/usr/include/stdlib.h:540:14:\u001b[m\u001b[K \u001b[01;36m\u001b[Knote: \u001b[m\u001b[Kin a call to allocation function ‘\u001b[01m\u001b[Kmalloc\u001b[m\u001b[K’ declared here\r\n",
      "  540 | extern void *\u001b[01;36m\u001b[Kmalloc\u001b[m\u001b[K (size_t __size) __THROW __attribute_malloc__\r\n",
      "      |              \u001b[01;36m\u001b[K^~~~~~\u001b[m\u001b[K\r\n",
      "/usr/local/lib/python3.10/dist-packages/Cython/Compiler/Main.py:381: FutureWarning: Cython directive 'language_level' not set, using '3str' for now (Py3). This has changed from earlier releases! File: /kaggle/working/RECsys_Challenge2024/Recommenders/SLIM/Cython/Triangular_Matrix.pyx\r\n",
      "  tree = Parsing.p_module(s, pxd, full_module_name)\r\n",
      "warning: Triangular_Matrix.pyx:22:0: The 'IF' statement is deprecated and will be removed in a future Cython version. Consider using runtime conditions or C macros instead. See https://github.com/cython/cython/issues/4310\r\n",
      "Compiling [6/11]: Triangular_Matrix.pyx... PASS\r\n",
      "\r\n",
      "Compiling [7/11]: CFW_DVV_Similarity_Cython_SGD.pyx... \r\n",
      "In file included from \u001b[01m\u001b[K/usr/local/lib/python3.10/dist-packages/numpy/core/include/numpy/ndarraytypes.h:1929\u001b[m\u001b[K,\r\n",
      "                 from \u001b[01m\u001b[K/usr/local/lib/python3.10/dist-packages/numpy/core/include/numpy/ndarrayobject.h:12\u001b[m\u001b[K,\r\n",
      "                 from \u001b[01m\u001b[K/usr/local/lib/python3.10/dist-packages/numpy/core/include/numpy/arrayobject.h:5\u001b[m\u001b[K,\r\n",
      "                 from \u001b[01m\u001b[KCFW_DVV_Similarity_Cython_SGD.c:1252\u001b[m\u001b[K:\r\n",
      "\u001b[01m\u001b[K/usr/local/lib/python3.10/dist-packages/numpy/core/include/numpy/npy_1_7_deprecated_api.h:17:2:\u001b[m\u001b[K \u001b[01;35m\u001b[Kwarning: \u001b[m\u001b[K#warning \"Using deprecated NumPy API, disable it with \" \"#define NPY_NO_DEPRECATED_API NPY_1_7_API_VERSION\" [\u001b[01;35m\u001b[K\u001b]8;;https://gcc.gnu.org/onlinedocs/gcc/Warning-Options.html#index-Wcpp\u0007-Wcpp\u001b]8;;\u0007\u001b[m\u001b[K]\r\n",
      "   17 | #\u001b[01;35m\u001b[Kwarning\u001b[m\u001b[K \"Using deprecated NumPy API, disable it with \" \\\r\n",
      "      |  \u001b[01;35m\u001b[K^~~~~~~\u001b[m\u001b[K\r\n",
      "/usr/local/lib/python3.10/dist-packages/Cython/Compiler/Main.py:381: FutureWarning: Cython directive 'language_level' not set, using '3str' for now (Py3). This has changed from earlier releases! File: /kaggle/working/RECsys_Challenge2024/Recommenders/FeatureWeighting/Cython/CFW_DVV_Similarity_Cython_SGD.pyx\r\n",
      "  tree = Parsing.p_module(s, pxd, full_module_name)\r\n",
      "Compiling [7/11]: CFW_DVV_Similarity_Cython_SGD.pyx... PASS\r\n",
      "\r\n",
      "Compiling [8/11]: CFW_D_Similarity_Cython_SGD.pyx... \r\n",
      "In file included from \u001b[01m\u001b[K/usr/local/lib/python3.10/dist-packages/numpy/core/include/numpy/ndarraytypes.h:1929\u001b[m\u001b[K,\r\n",
      "                 from \u001b[01m\u001b[K/usr/local/lib/python3.10/dist-packages/numpy/core/include/numpy/ndarrayobject.h:12\u001b[m\u001b[K,\r\n",
      "                 from \u001b[01m\u001b[K/usr/local/lib/python3.10/dist-packages/numpy/core/include/numpy/arrayobject.h:5\u001b[m\u001b[K,\r\n",
      "                 from \u001b[01m\u001b[KCFW_D_Similarity_Cython_SGD.c:1252\u001b[m\u001b[K:\r\n",
      "\u001b[01m\u001b[K/usr/local/lib/python3.10/dist-packages/numpy/core/include/numpy/npy_1_7_deprecated_api.h:17:2:\u001b[m\u001b[K \u001b[01;35m\u001b[Kwarning: \u001b[m\u001b[K#warning \"Using deprecated NumPy API, disable it with \" \"#define NPY_NO_DEPRECATED_API NPY_1_7_API_VERSION\" [\u001b[01;35m\u001b[K\u001b]8;;https://gcc.gnu.org/onlinedocs/gcc/Warning-Options.html#index-Wcpp\u0007-Wcpp\u001b]8;;\u0007\u001b[m\u001b[K]\r\n",
      "   17 | #\u001b[01;35m\u001b[Kwarning\u001b[m\u001b[K \"Using deprecated NumPy API, disable it with \" \\\r\n",
      "      |  \u001b[01;35m\u001b[K^~~~~~~\u001b[m\u001b[K\r\n",
      "\u001b[01m\u001b[KCFW_D_Similarity_Cython_SGD.c:\u001b[m\u001b[K In function ‘\u001b[01m\u001b[K__pyx_pf_27CFW_D_Similarity_Cython_SGD_27CFW_D_Similarity_Cython_SGD_6fit\u001b[m\u001b[K’:\r\n",
      "\u001b[01m\u001b[KCFW_D_Similarity_Cython_SGD.c:23373:55:\u001b[m\u001b[K \u001b[01;35m\u001b[Kwarning: \u001b[m\u001b[K‘\u001b[01m\u001b[K__pyx_v_sample_num\u001b[m\u001b[K’ may be used uninitialized in this function [\u001b[01;35m\u001b[K\u001b]8;;https://gcc.gnu.org/onlinedocs/gcc/Warning-Options.html#index-Wmaybe-uninitialized\u0007-Wmaybe-uninitialized\u001b]8;;\u0007\u001b[m\u001b[K]\r\n",
      "23373 |   __pyx_t_3 = PyFloat_FromDouble((__pyx_v_cum_loss / \u001b[01;35m\u001b[K((double)__pyx_v_sample_num)\u001b[m\u001b[K)); if (unlikely(!__pyx_t_3)) __PYX_ERR(0, 290, __pyx_L1_error)\r\n",
      "      |                                                      \u001b[01;35m\u001b[K~^~~~~~~~~~~~~~~~~~~~~~~~~~~\u001b[m\u001b[K\r\n",
      "/usr/local/lib/python3.10/dist-packages/Cython/Compiler/Main.py:381: FutureWarning: Cython directive 'language_level' not set, using '3str' for now (Py3). This has changed from earlier releases! File: /kaggle/working/RECsys_Challenge2024/Recommenders/FeatureWeighting/Cython/CFW_D_Similarity_Cython_SGD.pyx\r\n",
      "  tree = Parsing.p_module(s, pxd, full_module_name)\r\n",
      "Compiling [8/11]: CFW_D_Similarity_Cython_SGD.pyx... PASS\r\n",
      "\r\n",
      "Compiling [9/11]: HP3_Similarity_Cython_SGD.pyx... \r\n",
      "performance hint: HP3_Similarity_Cython_SGD.pyx:113:40: Index should be typed for more efficient access\r\n",
      "performance hint: HP3_Similarity_Cython_SGD.pyx:114:40: Index should be typed for more efficient access\r\n",
      "In file included from \u001b[01m\u001b[K/usr/local/lib/python3.10/dist-packages/numpy/core/include/numpy/ndarraytypes.h:1929\u001b[m\u001b[K,\r\n",
      "                 from \u001b[01m\u001b[K/usr/local/lib/python3.10/dist-packages/numpy/core/include/numpy/ndarrayobject.h:12\u001b[m\u001b[K,\r\n",
      "                 from \u001b[01m\u001b[K/usr/local/lib/python3.10/dist-packages/numpy/core/include/numpy/arrayobject.h:5\u001b[m\u001b[K,\r\n",
      "                 from \u001b[01m\u001b[KHP3_Similarity_Cython_SGD.c:1252\u001b[m\u001b[K:\r\n",
      "\u001b[01m\u001b[K/usr/local/lib/python3.10/dist-packages/numpy/core/include/numpy/npy_1_7_deprecated_api.h:17:2:\u001b[m\u001b[K \u001b[01;35m\u001b[Kwarning: \u001b[m\u001b[K#warning \"Using deprecated NumPy API, disable it with \" \"#define NPY_NO_DEPRECATED_API NPY_1_7_API_VERSION\" [\u001b[01;35m\u001b[K\u001b]8;;https://gcc.gnu.org/onlinedocs/gcc/Warning-Options.html#index-Wcpp\u0007-Wcpp\u001b]8;;\u0007\u001b[m\u001b[K]\r\n",
      "   17 | #\u001b[01;35m\u001b[Kwarning\u001b[m\u001b[K \"Using deprecated NumPy API, disable it with \" \\\r\n",
      "      |  \u001b[01;35m\u001b[K^~~~~~~\u001b[m\u001b[K\r\n",
      "\u001b[01m\u001b[KHP3_Similarity_Cython_SGD.c:\u001b[m\u001b[K In function ‘\u001b[01m\u001b[K__pyx_pf_25HP3_Similarity_Cython_SGD_25HP3_Similarity_Cython_SGD_4fit\u001b[m\u001b[K’:\r\n",
      "\u001b[01m\u001b[KHP3_Similarity_Cython_SGD.c:23631:55:\u001b[m\u001b[K \u001b[01;35m\u001b[Kwarning: \u001b[m\u001b[K‘\u001b[01m\u001b[K__pyx_v_sample_num\u001b[m\u001b[K’ may be used uninitialized in this function [\u001b[01;35m\u001b[K\u001b]8;;https://gcc.gnu.org/onlinedocs/gcc/Warning-Options.html#index-Wmaybe-uninitialized\u0007-Wmaybe-uninitialized\u001b]8;;\u0007\u001b[m\u001b[K]\r\n",
      "23631 |   __pyx_t_1 = PyFloat_FromDouble((__pyx_v_cum_loss / \u001b[01;35m\u001b[K((double)__pyx_v_sample_num)\u001b[m\u001b[K)); if (unlikely(!__pyx_t_1)) __PYX_ERR(0, 291, __pyx_L1_error)\r\n",
      "      |                                                      \u001b[01;35m\u001b[K~^~~~~~~~~~~~~~~~~~~~~~~~~~~\u001b[m\u001b[K\r\n",
      "/usr/local/lib/python3.10/dist-packages/Cython/Compiler/Main.py:381: FutureWarning: Cython directive 'language_level' not set, using '3str' for now (Py3). This has changed from earlier releases! File: /kaggle/working/RECsys_Challenge2024/Recommenders/FeatureWeighting/Cython/HP3_Similarity_Cython_SGD.pyx\r\n",
      "  tree = Parsing.p_module(s, pxd, full_module_name)\r\n",
      "performance hint: HP3_Similarity_Cython_SGD.pyx:113:40: Index should be typed for more efficient access\r\n",
      "performance hint: HP3_Similarity_Cython_SGD.pyx:114:40: Index should be typed for more efficient access\r\n",
      "Compiling [9/11]: HP3_Similarity_Cython_SGD.pyx... PASS\r\n",
      "\r\n",
      "Compiling [10/11]: FBSM_Rating_Cython_SGD.pyx... \r\n",
      "In file included from \u001b[01m\u001b[K/usr/local/lib/python3.10/dist-packages/numpy/core/include/numpy/ndarraytypes.h:1929\u001b[m\u001b[K,\r\n",
      "                 from \u001b[01m\u001b[K/usr/local/lib/python3.10/dist-packages/numpy/core/include/numpy/ndarrayobject.h:12\u001b[m\u001b[K,\r\n",
      "                 from \u001b[01m\u001b[K/usr/local/lib/python3.10/dist-packages/numpy/core/include/numpy/arrayobject.h:5\u001b[m\u001b[K,\r\n",
      "                 from \u001b[01m\u001b[KFBSM_Rating_Cython_SGD.c:1252\u001b[m\u001b[K:\r\n",
      "\u001b[01m\u001b[K/usr/local/lib/python3.10/dist-packages/numpy/core/include/numpy/npy_1_7_deprecated_api.h:17:2:\u001b[m\u001b[K \u001b[01;35m\u001b[Kwarning: \u001b[m\u001b[K#warning \"Using deprecated NumPy API, disable it with \" \"#define NPY_NO_DEPRECATED_API NPY_1_7_API_VERSION\" [\u001b[01;35m\u001b[K\u001b]8;;https://gcc.gnu.org/onlinedocs/gcc/Warning-Options.html#index-Wcpp\u0007-Wcpp\u001b]8;;\u0007\u001b[m\u001b[K]\r\n",
      "   17 | #\u001b[01;35m\u001b[Kwarning\u001b[m\u001b[K \"Using deprecated NumPy API, disable it with \" \\\r\n",
      "      |  \u001b[01;35m\u001b[K^~~~~~~\u001b[m\u001b[K\r\n",
      "\u001b[01m\u001b[KFBSM_Rating_Cython_SGD.c:\u001b[m\u001b[K In function ‘\u001b[01m\u001b[K__pyx_pf_22FBSM_Rating_Cython_SGD_22FBSM_Rating_Cython_SGD_2fit\u001b[m\u001b[K’:\r\n",
      "\u001b[01m\u001b[KFBSM_Rating_Cython_SGD.c:26607:55:\u001b[m\u001b[K \u001b[01;35m\u001b[Kwarning: \u001b[m\u001b[K‘\u001b[01m\u001b[K__pyx_v_num_sample\u001b[m\u001b[K’ may be used uninitialized in this function [\u001b[01;35m\u001b[K\u001b]8;;https://gcc.gnu.org/onlinedocs/gcc/Warning-Options.html#index-Wmaybe-uninitialized\u0007-Wmaybe-uninitialized\u001b]8;;\u0007\u001b[m\u001b[K]\r\n",
      "26607 |   __pyx_t_5 = PyFloat_FromDouble((__pyx_v_cum_loss / \u001b[01;35m\u001b[K((double)__pyx_v_num_sample)\u001b[m\u001b[K)); if (unlikely(!__pyx_t_5)) __PYX_ERR(0, 551, __pyx_L1_error)\r\n",
      "      |                                                      \u001b[01;35m\u001b[K~^~~~~~~~~~~~~~~~~~~~~~~~~~~\u001b[m\u001b[K\r\n",
      "/usr/local/lib/python3.10/dist-packages/Cython/Compiler/Main.py:381: FutureWarning: Cython directive 'language_level' not set, using '3str' for now (Py3). This has changed from earlier releases! File: /kaggle/working/RECsys_Challenge2024/Recommenders/FeatureWeighting/Cython/FBSM_Rating_Cython_SGD.pyx\r\n",
      "  tree = Parsing.p_module(s, pxd, full_module_name)\r\n",
      "Compiling [10/11]: FBSM_Rating_Cython_SGD.pyx... PASS\r\n",
      "\r\n",
      "Compiling [11/11]: DataIterator.pyx... \r\n",
      "In file included from \u001b[01m\u001b[K/usr/local/lib/python3.10/dist-packages/numpy/core/include/numpy/ndarraytypes.h:1929\u001b[m\u001b[K,\r\n",
      "                 from \u001b[01m\u001b[K/usr/local/lib/python3.10/dist-packages/numpy/core/include/numpy/ndarrayobject.h:12\u001b[m\u001b[K,\r\n",
      "                 from \u001b[01m\u001b[K/usr/local/lib/python3.10/dist-packages/numpy/core/include/numpy/arrayobject.h:5\u001b[m\u001b[K,\r\n",
      "                 from \u001b[01m\u001b[KDataIterator.c:1252\u001b[m\u001b[K:\r\n",
      "\u001b[01m\u001b[K/usr/local/lib/python3.10/dist-packages/numpy/core/include/numpy/npy_1_7_deprecated_api.h:17:2:\u001b[m\u001b[K \u001b[01;35m\u001b[Kwarning: \u001b[m\u001b[K#warning \"Using deprecated NumPy API, disable it with \" \"#define NPY_NO_DEPRECATED_API NPY_1_7_API_VERSION\" [\u001b[01;35m\u001b[K\u001b]8;;https://gcc.gnu.org/onlinedocs/gcc/Warning-Options.html#index-Wcpp\u0007-Wcpp\u001b]8;;\u0007\u001b[m\u001b[K]\r\n",
      "   17 | #\u001b[01;35m\u001b[Kwarning\u001b[m\u001b[K \"Using deprecated NumPy API, disable it with \" \\\r\n",
      "      |  \u001b[01;35m\u001b[K^~~~~~~\u001b[m\u001b[K\r\n",
      "\u001b[01m\u001b[KDataIterator.c:\u001b[m\u001b[K In function ‘\u001b[01m\u001b[K__pyx_pf_12DataIterator_19InteractionIterator_6__next__\u001b[m\u001b[K’:\r\n",
      "\u001b[01m\u001b[KDataIterator.c:20937:22:\u001b[m\u001b[K \u001b[01;35m\u001b[Kwarning: \u001b[m\u001b[K‘\u001b[01m\u001b[K__pyx_v_i_batch\u001b[m\u001b[K’ may be used uninitialized in this function [\u001b[01;35m\u001b[K\u001b]8;;https://gcc.gnu.org/onlinedocs/gcc/Warning-Options.html#index-Wmaybe-uninitialized\u0007-Wmaybe-uninitialized\u001b]8;;\u0007\u001b[m\u001b[K]\r\n",
      "20937 |     (__pyx_v_i_batch \u001b[01;35m\u001b[K+\u001b[m\u001b[K 1),\r\n",
      "      |                      \u001b[01;35m\u001b[K^\u001b[m\u001b[K\r\n",
      "\u001b[01m\u001b[KDataIterator.c:\u001b[m\u001b[K In function ‘\u001b[01m\u001b[K__pyx_pf_12DataIterator_30InteractionAndNegativeIterator_6__next__\u001b[m\u001b[K’:\r\n",
      "\u001b[01m\u001b[KDataIterator.c:25499:22:\u001b[m\u001b[K \u001b[01;35m\u001b[Kwarning: \u001b[m\u001b[K‘\u001b[01m\u001b[K__pyx_v_i_batch\u001b[m\u001b[K’ may be used uninitialized in this function [\u001b[01;35m\u001b[K\u001b]8;;https://gcc.gnu.org/onlinedocs/gcc/Warning-Options.html#index-Wmaybe-uninitialized\u0007-Wmaybe-uninitialized\u001b]8;;\u0007\u001b[m\u001b[K]\r\n",
      "25499 |     (__pyx_v_i_batch \u001b[01;35m\u001b[K+\u001b[m\u001b[K 1),\r\n",
      "      |                      \u001b[01;35m\u001b[K^\u001b[m\u001b[K\r\n",
      "\u001b[01m\u001b[KDataIterator.c:\u001b[m\u001b[K In function ‘\u001b[01m\u001b[K__pyx_pf_12DataIterator_11BPRIterator_6__next__\u001b[m\u001b[K’:\r\n",
      "\u001b[01m\u001b[KDataIterator.c:23056:22:\u001b[m\u001b[K \u001b[01;35m\u001b[Kwarning: \u001b[m\u001b[K‘\u001b[01m\u001b[K__pyx_v_i_batch\u001b[m\u001b[K’ may be used uninitialized in this function [\u001b[01;35m\u001b[K\u001b]8;;https://gcc.gnu.org/onlinedocs/gcc/Warning-Options.html#index-Wmaybe-uninitialized\u0007-Wmaybe-uninitialized\u001b]8;;\u0007\u001b[m\u001b[K]\r\n",
      "23056 |     (__pyx_v_i_batch \u001b[01;35m\u001b[K+\u001b[m\u001b[K 1),\r\n",
      "      |                      \u001b[01;35m\u001b[K^\u001b[m\u001b[K\r\n",
      "/usr/local/lib/python3.10/dist-packages/Cython/Compiler/Main.py:381: FutureWarning: Cython directive 'language_level' not set, using '3str' for now (Py3). This has changed from earlier releases! File: /kaggle/working/RECsys_Challenge2024/Utils/PyTorch/Cython/DataIterator.pyx\r\n",
      "  tree = Parsing.p_module(s, pxd, full_module_name)\r\n",
      "Compiling [11/11]: DataIterator.pyx... PASS\r\n",
      "\r\n",
      "run_compile_all_cython: Compilation finished. FAILS 2/11.\r\n",
      "Compilation log can be found here: './result_experiments/run_compile_all_cython.txt'\r\n"
     ]
    }
   ],
   "source": [
    "%cd /kaggle/working/RECsys_Challenge2024\n",
    "! python run_compile_all_cython.py"
   ]
  },
  {
   "cell_type": "code",
   "execution_count": 7,
   "id": "a57a7356",
   "metadata": {
    "execution": {
     "iopub.execute_input": "2025-01-06T13:20:55.866201Z",
     "iopub.status.busy": "2025-01-06T13:20:55.865771Z",
     "iopub.status.idle": "2025-01-06T13:20:58.765939Z",
     "shell.execute_reply": "2025-01-06T13:20:58.764961Z"
    },
    "papermill": {
     "duration": 2.921154,
     "end_time": "2025-01-06T13:20:58.767845",
     "exception": false,
     "start_time": "2025-01-06T13:20:55.846691",
     "status": "completed"
    },
    "tags": []
   },
   "outputs": [],
   "source": [
    "from Utils.notebookFunctions import *\n",
    "from Utils.xgboost_functions import *\n",
    "import numpy as np\n",
    "import pandas as pd\n",
    "import scipy.sparse as sps\n",
    "import time\n",
    "import shutil\n",
    "import optuna\n",
    "import json\n",
    "import os\n",
    "import gc\n",
    "from Utils.seconds_to_biggest_unit import seconds_to_biggest_unit\n",
    "from tqdm import tqdm\n",
    "from xgboost import XGBRanker\n",
    "\n",
    "import warnings\n",
    "import string\n",
    "from scipy.stats import skew, kurtosis\n",
    "from numpy import linalg as LA\n",
    "\n",
    "import timeout_decorator\n",
    "\n",
    "%matplotlib inline\n",
    "from xgboost import plot_importance\n",
    "\n",
    "K_PATH = '/kaggle/working/RECsys_Challenge2024'\n",
    "GH_PATH = 'TrainedModels/WithoutKFCV'\n",
    "D_PATH = 'XGBoost'\n",
    "\n",
    "np.random.seed(42)"
   ]
  },
  {
   "cell_type": "code",
   "execution_count": 8,
   "id": "65634b28",
   "metadata": {
    "execution": {
     "iopub.execute_input": "2025-01-06T13:20:58.805026Z",
     "iopub.status.busy": "2025-01-06T13:20:58.804466Z",
     "iopub.status.idle": "2025-01-06T13:21:03.440235Z",
     "shell.execute_reply": "2025-01-06T13:21:03.439211Z"
    },
    "papermill": {
     "duration": 4.65628,
     "end_time": "2025-01-06T13:21:03.442221",
     "exception": false,
     "start_time": "2025-01-06T13:20:58.785941",
     "status": "completed"
    },
    "tags": []
   },
   "outputs": [],
   "source": [
    "from Recommenders.GraphBased.RP3betaRecommender import RP3betaRecommender\n",
    "from Recommenders.GraphBased.P3alphaRecommender import P3alphaRecommender\n",
    "from Recommenders.Hybrid.LinearCombinationRecommender import LinearCombinationRecommender\n",
    "from Recommenders.KNN.ItemKNNCFRecommender import ItemKNNCFRecommender\n",
    "from Recommenders.KNN.ItemKNNCBFRecommender import ItemKNNCBFRecommender\n",
    "from Recommenders.KNN.UserKNNCFRecommender import UserKNNCFRecommender\n",
    "from Recommenders.MatrixFactorization.FasterIALSRecommender import FasterIALSRecommender\n",
    "from Recommenders.MatrixFactorization.NMFRecommender import NMFRecommender\n",
    "from Recommenders.MatrixFactorization.PureSVDRecommender import PureSVDItemRecommender\n",
    "from Recommenders.MatrixFactorization.PureSVDRecommender import ScaledPureSVDRecommender\n",
    "from Recommenders.Neural.MultVAE_PyTorch_Recommender import MultVAERecommender_PyTorch_OptimizerMask \n",
    "from Recommenders.SLIM.SLIMElasticNetRecommender import SLIMElasticNetRecommender\n",
    "from Recommenders.SLIM.SLIM_BPR_Python import SLIM_BPR_Python"
   ]
  },
  {
   "cell_type": "markdown",
   "id": "1e98432e",
   "metadata": {
    "papermill": {
     "duration": 0.017445,
     "end_time": "2025-01-06T13:21:03.477707",
     "exception": false,
     "start_time": "2025-01-06T13:21:03.460262",
     "status": "completed"
    },
    "tags": []
   },
   "source": [
    "## Import the repository"
   ]
  },
  {
   "cell_type": "code",
   "execution_count": 9,
   "id": "55d6e02b",
   "metadata": {
    "execution": {
     "iopub.execute_input": "2025-01-06T13:21:03.514967Z",
     "iopub.status.busy": "2025-01-06T13:21:03.514341Z",
     "iopub.status.idle": "2025-01-06T13:21:03.783618Z",
     "shell.execute_reply": "2025-01-06T13:21:03.782205Z"
    },
    "papermill": {
     "duration": 0.290041,
     "end_time": "2025-01-06T13:21:03.785392",
     "exception": false,
     "start_time": "2025-01-06T13:21:03.495351",
     "status": "completed"
    },
    "tags": []
   },
   "outputs": [
    {
     "name": "stdout",
     "output_type": "stream",
     "text": [
      "Repository 'RECsys_Challenge2024' found.\n"
     ]
    }
   ],
   "source": [
    "repo = get_repo_from_github(token)"
   ]
  },
  {
   "cell_type": "code",
   "execution_count": 10,
   "id": "002c7ffd",
   "metadata": {
    "execution": {
     "iopub.execute_input": "2025-01-06T13:21:03.822466Z",
     "iopub.status.busy": "2025-01-06T13:21:03.822055Z",
     "iopub.status.idle": "2025-01-06T13:21:03.826848Z",
     "shell.execute_reply": "2025-01-06T13:21:03.825666Z"
    },
    "papermill": {
     "duration": 0.025346,
     "end_time": "2025-01-06T13:21:03.828718",
     "exception": false,
     "start_time": "2025-01-06T13:21:03.803372",
     "status": "completed"
    },
    "tags": []
   },
   "outputs": [],
   "source": [
    "config = {\n",
    "    'model': 'XGBoostNoCont',\n",
    "    'metric': 'MAP',\n",
    "    'categorical': True,\n",
    "    'contents': False,\n",
    "    'tune_parameters': True,\n",
    "    'database_path': '/kaggle/working/history_XGBoostNoCont_MAP.db',\n",
    "    'copy_prev_best_params': False,\n",
    "    'tune_best_params': True,\n",
    "    'save_github': True\n",
    "}"
   ]
  },
  {
   "cell_type": "markdown",
   "id": "3ff7c71f",
   "metadata": {
    "papermill": {
     "duration": 0.017556,
     "end_time": "2025-01-06T13:21:03.864465",
     "exception": false,
     "start_time": "2025-01-06T13:21:03.846909",
     "status": "completed"
    },
    "tags": []
   },
   "source": [
    "Import the database where previous tuning trials have been saved."
   ]
  },
  {
   "cell_type": "code",
   "execution_count": 11,
   "id": "a6410b65",
   "metadata": {
    "execution": {
     "iopub.execute_input": "2025-01-06T13:21:03.903201Z",
     "iopub.status.busy": "2025-01-06T13:21:03.902783Z",
     "iopub.status.idle": "2025-01-06T13:21:03.908483Z",
     "shell.execute_reply": "2025-01-06T13:21:03.907425Z"
    },
    "papermill": {
     "duration": 0.027156,
     "end_time": "2025-01-06T13:21:03.910228",
     "exception": false,
     "start_time": "2025-01-06T13:21:03.883072",
     "status": "completed"
    },
    "tags": []
   },
   "outputs": [],
   "source": [
    "try:\n",
    "    shutil.copyfile(\n",
    "        f'{K_PATH}/{GH_PATH}/{D_PATH}/{config[\"model\"]}Recommender/Optimizing{config[\"metric\"]}/history_{config[\"model\"]}_{config[\"metric\"]}.db', \n",
    "        config['database_path']\n",
    "    )\n",
    "except FileNotFoundError:\n",
    "    pass # if not present optuna will create it"
   ]
  },
  {
   "cell_type": "markdown",
   "id": "7ca71b26",
   "metadata": {
    "papermill": {
     "duration": 0.017651,
     "end_time": "2025-01-06T13:21:03.945918",
     "exception": false,
     "start_time": "2025-01-06T13:21:03.928267",
     "status": "completed"
    },
    "tags": []
   },
   "source": [
    "# Construction of URM and ICM matrices"
   ]
  },
  {
   "cell_type": "code",
   "execution_count": 12,
   "id": "7b092fd4",
   "metadata": {
    "execution": {
     "iopub.execute_input": "2025-01-06T13:21:03.986962Z",
     "iopub.status.busy": "2025-01-06T13:21:03.986547Z",
     "iopub.status.idle": "2025-01-06T13:21:04.837085Z",
     "shell.execute_reply": "2025-01-06T13:21:04.835985Z"
    },
    "papermill": {
     "duration": 0.874447,
     "end_time": "2025-01-06T13:21:04.838695",
     "exception": false,
     "start_time": "2025-01-06T13:21:03.964248",
     "status": "completed"
    },
    "tags": []
   },
   "outputs": [
    {
     "data": {
      "text/plain": [
       "<35736x38121 sparse matrix of type '<class 'numpy.float64'>'\n",
       "\twith 1764607 stored elements in Compressed Sparse Row format>"
      ]
     },
     "execution_count": 12,
     "metadata": {},
     "output_type": "execute_result"
    }
   ],
   "source": [
    "URM_all_dataframe = pd.read_csv(\"/kaggle/input/recommender-system-2024-challenge-polimi/data_train.csv\")\n",
    "\n",
    "n_users = len(URM_all_dataframe[\"user_id\"].unique())\n",
    "n_items = len(URM_all_dataframe[\"item_id\"].unique())\n",
    "\n",
    "URM_all = sps.csr_matrix((URM_all_dataframe[\"data\"].values, \n",
    "                          (URM_all_dataframe[\"user_id\"].values, URM_all_dataframe[\"item_id\"].values)),\n",
    "                        shape = (n_users, n_items))\n",
    "\n",
    "URM_all"
   ]
  },
  {
   "cell_type": "code",
   "execution_count": 13,
   "id": "53a8473d",
   "metadata": {
    "execution": {
     "iopub.execute_input": "2025-01-06T13:21:04.876307Z",
     "iopub.status.busy": "2025-01-06T13:21:04.875971Z",
     "iopub.status.idle": "2025-01-06T13:21:06.164208Z",
     "shell.execute_reply": "2025-01-06T13:21:06.163179Z"
    },
    "papermill": {
     "duration": 1.308772,
     "end_time": "2025-01-06T13:21:06.165922",
     "exception": false,
     "start_time": "2025-01-06T13:21:04.857150",
     "status": "completed"
    },
    "tags": []
   },
   "outputs": [
    {
     "data": {
      "text/plain": [
       "<38121x94331 sparse matrix of type '<class 'numpy.float64'>'\n",
       "\twith 2940040 stored elements in Compressed Sparse Row format>"
      ]
     },
     "execution_count": 13,
     "metadata": {},
     "output_type": "execute_result"
    }
   ],
   "source": [
    "ICM_dataframe = pd.read_csv(\"/kaggle/input/recommender-system-2024-challenge-polimi/data_ICM_metadata.csv\")\n",
    "\n",
    "n_items = len(ICM_dataframe[\"item_id\"].unique())\n",
    "n_features = len(ICM_dataframe[\"feature_id\"].unique())\n",
    "\n",
    "ICM_all = sps.csr_matrix((ICM_dataframe[\"data\"].values, \n",
    "                          (ICM_dataframe[\"item_id\"].values, ICM_dataframe[\"feature_id\"].values)),\n",
    "                        shape = (n_items, n_features))\n",
    "\n",
    "ICM_all"
   ]
  },
  {
   "cell_type": "markdown",
   "id": "96072743",
   "metadata": {
    "papermill": {
     "duration": 0.018088,
     "end_time": "2025-01-06T13:21:06.202477",
     "exception": false,
     "start_time": "2025-01-06T13:21:06.184389",
     "status": "completed"
    },
    "tags": []
   },
   "source": [
    "## Import dataframes"
   ]
  },
  {
   "cell_type": "code",
   "execution_count": 14,
   "id": "21e43e01",
   "metadata": {
    "execution": {
     "iopub.execute_input": "2025-01-06T13:21:06.240313Z",
     "iopub.status.busy": "2025-01-06T13:21:06.239977Z",
     "iopub.status.idle": "2025-01-06T13:21:06.246036Z",
     "shell.execute_reply": "2025-01-06T13:21:06.244855Z"
    },
    "papermill": {
     "duration": 0.027054,
     "end_time": "2025-01-06T13:21:06.247638",
     "exception": false,
     "start_time": "2025-01-06T13:21:06.220584",
     "status": "completed"
    },
    "tags": []
   },
   "outputs": [
    {
     "name": "stdout",
     "output_type": "stream",
     "text": [
      "Dataframe directory is ready to be used.\n"
     ]
    }
   ],
   "source": [
    "dataframes_path = f'/kaggle/input/dataframes-{config[\"model\"].lower()}'\n",
    "\n",
    "if os.path.exists(dataframes_path):\n",
    "    print(\"Dataframe directory is ready to be used.\")\n",
    "else:\n",
    "    print(\"No dataframes directory is present.\")"
   ]
  },
  {
   "cell_type": "markdown",
   "id": "9c3b2e1a",
   "metadata": {
    "papermill": {
     "duration": 0.018006,
     "end_time": "2025-01-06T13:21:06.284220",
     "exception": false,
     "start_time": "2025-01-06T13:21:06.266214",
     "status": "completed"
    },
    "tags": []
   },
   "source": [
    "# Training\n",
    "Split the dataset in train, validation and test set."
   ]
  },
  {
   "cell_type": "code",
   "execution_count": 15,
   "id": "fcba109e",
   "metadata": {
    "execution": {
     "iopub.execute_input": "2025-01-06T13:21:06.321834Z",
     "iopub.status.busy": "2025-01-06T13:21:06.321451Z",
     "iopub.status.idle": "2025-01-06T13:21:11.805293Z",
     "shell.execute_reply": "2025-01-06T13:21:11.803976Z"
    },
    "papermill": {
     "duration": 5.504714,
     "end_time": "2025-01-06T13:21:11.807077",
     "exception": false,
     "start_time": "2025-01-06T13:21:06.302363",
     "status": "completed"
    },
    "tags": []
   },
   "outputs": [
    {
     "name": "stdout",
     "output_type": "stream",
     "text": [
      "Warning: 141 (0.39 %) of 35736 users have no sampled items\n",
      "Warning: 391 (1.09 %) of 35736 users have no sampled items\n",
      "EvaluatorHoldout: Ignoring 141 ( 0.4%) Users that have less than 1 test interactions\n"
     ]
    }
   ],
   "source": [
    "from Evaluation.Evaluator import EvaluatorHoldout\n",
    "from Data_manager.split_functions.split_train_validation_random_holdout import split_train_in_two_percentage_global_sample\n",
    "\n",
    "URM_train, URM_test = split_train_in_two_percentage_global_sample(URM_all, train_percentage = 0.80)\n",
    "URM_train, URM_validation = split_train_in_two_percentage_global_sample(URM_train, train_percentage = 0.80)\n",
    "\n",
    "evaluator_test = EvaluatorHoldout(URM_test, cutoff_list=[10])"
   ]
  },
  {
   "cell_type": "markdown",
   "id": "bde83396",
   "metadata": {
    "papermill": {
     "duration": 0.018202,
     "end_time": "2025-01-06T13:21:11.843903",
     "exception": false,
     "start_time": "2025-01-06T13:21:11.825701",
     "status": "completed"
    },
    "tags": []
   },
   "source": [
    "Function to fit the hybrid recommender that is going to be used as candidate generator."
   ]
  },
  {
   "cell_type": "markdown",
   "id": "44c9fbc3",
   "metadata": {
    "papermill": {
     "duration": 0.019126,
     "end_time": "2025-01-06T13:21:11.881435",
     "exception": false,
     "start_time": "2025-01-06T13:21:11.862309",
     "status": "completed"
    },
    "tags": []
   },
   "source": [
    "## Candidate Generators\n",
    "\n",
    "Select the best previously trained recommenders to use inside the hybrid recommender (candidate generator)."
   ]
  },
  {
   "cell_type": "code",
   "execution_count": 16,
   "id": "9e3bbf08",
   "metadata": {
    "execution": {
     "iopub.execute_input": "2025-01-06T13:21:11.920026Z",
     "iopub.status.busy": "2025-01-06T13:21:11.919629Z",
     "iopub.status.idle": "2025-01-06T13:21:11.923950Z",
     "shell.execute_reply": "2025-01-06T13:21:11.922857Z"
    },
    "papermill": {
     "duration": 0.025485,
     "end_time": "2025-01-06T13:21:11.925521",
     "exception": false,
     "start_time": "2025-01-06T13:21:11.900036",
     "status": "completed"
    },
    "tags": []
   },
   "outputs": [],
   "source": [
    "cg_recommenders = {\n",
    "    \"ItemKNNCF\": ItemKNNCFRecommender,\n",
    "    \"SLIMElasticNet\": SLIMElasticNetRecommender,\n",
    "    \"RP3beta\": RP3betaRecommender,\n",
    "}"
   ]
  },
  {
   "cell_type": "markdown",
   "id": "ebdbe6b1",
   "metadata": {
    "papermill": {
     "duration": 0.018044,
     "end_time": "2025-01-06T13:21:11.962583",
     "exception": false,
     "start_time": "2025-01-06T13:21:11.944539",
     "status": "completed"
    },
    "tags": []
   },
   "source": [
    "## Features\n",
    "Select the other previously trained recommenders to use them as features."
   ]
  },
  {
   "cell_type": "code",
   "execution_count": 17,
   "id": "e12cf097",
   "metadata": {
    "execution": {
     "iopub.execute_input": "2025-01-06T13:21:12.001191Z",
     "iopub.status.busy": "2025-01-06T13:21:12.000799Z",
     "iopub.status.idle": "2025-01-06T13:21:12.006550Z",
     "shell.execute_reply": "2025-01-06T13:21:12.005432Z"
    },
    "papermill": {
     "duration": 0.027371,
     "end_time": "2025-01-06T13:21:12.008372",
     "exception": false,
     "start_time": "2025-01-06T13:21:11.981001",
     "status": "completed"
    },
    "tags": []
   },
   "outputs": [],
   "source": [
    "f_recommenders = {\n",
    "    \"RP3beta\": RP3betaRecommender,\n",
    "    \"P3alpha\": P3alphaRecommender,\n",
    "    \"ItemKNNCF\": ItemKNNCFRecommender,\n",
    "    \"ItemKNNCBF\": ItemKNNCBFRecommender,\n",
    "    \"UserKNNCF\": UserKNNCFRecommender,\n",
    "    \"FasterIALS\": FasterIALSRecommender,\n",
    "    \"NMF\": NMFRecommender,\n",
    "    \"PureSVDItem\": PureSVDItemRecommender,\n",
    "    \"ScaledPureSVD\": ScaledPureSVDRecommender,\n",
    "    \"MultVAE\": MultVAERecommender_PyTorch_OptimizerMask,\n",
    "    \"SLIMElasticNet\": SLIMElasticNetRecommender,\n",
    "    \"SLIM_BPR\": SLIM_BPR_Python,\n",
    "}"
   ]
  },
  {
   "cell_type": "markdown",
   "id": "7f25a4d3",
   "metadata": {
    "papermill": {
     "duration": 0.018183,
     "end_time": "2025-01-06T13:21:12.045335",
     "exception": false,
     "start_time": "2025-01-06T13:21:12.027152",
     "status": "completed"
    },
    "tags": []
   },
   "source": [
    "## Training dataframe building\n",
    "Build the dataframe with the predictions, the popularity of the item, the user activity, the profile length, item features and others.\n",
    "\n",
    "Then, set features and target to use for the training."
   ]
  },
  {
   "cell_type": "code",
   "execution_count": 18,
   "id": "5fe95439",
   "metadata": {
    "execution": {
     "iopub.execute_input": "2025-01-06T13:21:12.084649Z",
     "iopub.status.busy": "2025-01-06T13:21:12.084314Z",
     "iopub.status.idle": "2025-01-06T13:21:16.500970Z",
     "shell.execute_reply": "2025-01-06T13:21:16.499752Z"
    },
    "papermill": {
     "duration": 4.438295,
     "end_time": "2025-01-06T13:21:16.503062",
     "exception": false,
     "start_time": "2025-01-06T13:21:12.064767",
     "status": "completed"
    },
    "tags": []
   },
   "outputs": [
    {
     "name": "stdout",
     "output_type": "stream",
     "text": [
      "training_dataframe and groups_train loaded.\n"
     ]
    },
    {
     "data": {
      "text/html": [
       "<div>\n",
       "<style scoped>\n",
       "    .dataframe tbody tr th:only-of-type {\n",
       "        vertical-align: middle;\n",
       "    }\n",
       "\n",
       "    .dataframe tbody tr th {\n",
       "        vertical-align: top;\n",
       "    }\n",
       "\n",
       "    .dataframe thead th {\n",
       "        text-align: right;\n",
       "    }\n",
       "</style>\n",
       "<table border=\"1\" class=\"dataframe\">\n",
       "  <thead>\n",
       "    <tr style=\"text-align: right;\">\n",
       "      <th></th>\n",
       "      <th>UserID</th>\n",
       "      <th>ItemID</th>\n",
       "      <th>Label</th>\n",
       "      <th>feature_recommender_count</th>\n",
       "      <th>RP3beta_score</th>\n",
       "      <th>RP3beta_position</th>\n",
       "      <th>P3alpha_score</th>\n",
       "      <th>P3alpha_position</th>\n",
       "      <th>ItemKNNCF_score</th>\n",
       "      <th>ItemKNNCF_position</th>\n",
       "      <th>...</th>\n",
       "      <th>SLIM_BPR_position</th>\n",
       "      <th>Mean_Position</th>\n",
       "      <th>Std_Position</th>\n",
       "      <th>Min_Position</th>\n",
       "      <th>Max_Position</th>\n",
       "      <th>Median_Position</th>\n",
       "      <th>Skew_Position</th>\n",
       "      <th>Kurtosis_Position</th>\n",
       "      <th>item_popularity</th>\n",
       "      <th>user_profile_len</th>\n",
       "    </tr>\n",
       "  </thead>\n",
       "  <tbody>\n",
       "    <tr>\n",
       "      <th>0</th>\n",
       "      <td>0</td>\n",
       "      <td>399.0</td>\n",
       "      <td>False</td>\n",
       "      <td>7</td>\n",
       "      <td>0.643288</td>\n",
       "      <td>6.0</td>\n",
       "      <td>0.469522</td>\n",
       "      <td>24.0</td>\n",
       "      <td>0.514353</td>\n",
       "      <td>9.0</td>\n",
       "      <td>...</td>\n",
       "      <td>1.0</td>\n",
       "      <td>19.500000</td>\n",
       "      <td>24.130328</td>\n",
       "      <td>1.0</td>\n",
       "      <td>71.0</td>\n",
       "      <td>7.5</td>\n",
       "      <td>1.151161</td>\n",
       "      <td>-0.043285</td>\n",
       "      <td>0.146779</td>\n",
       "      <td>0.017751</td>\n",
       "    </tr>\n",
       "    <tr>\n",
       "      <th>1</th>\n",
       "      <td>0</td>\n",
       "      <td>13736.0</td>\n",
       "      <td>False</td>\n",
       "      <td>0</td>\n",
       "      <td>0.268304</td>\n",
       "      <td>43.0</td>\n",
       "      <td>0.341841</td>\n",
       "      <td>39.0</td>\n",
       "      <td>0.000000</td>\n",
       "      <td>51.0</td>\n",
       "      <td>...</td>\n",
       "      <td>53.0</td>\n",
       "      <td>36.916667</td>\n",
       "      <td>17.238742</td>\n",
       "      <td>11.0</td>\n",
       "      <td>59.0</td>\n",
       "      <td>41.0</td>\n",
       "      <td>-0.342628</td>\n",
       "      <td>-1.406343</td>\n",
       "      <td>0.060190</td>\n",
       "      <td>0.017751</td>\n",
       "    </tr>\n",
       "    <tr>\n",
       "      <th>2</th>\n",
       "      <td>0</td>\n",
       "      <td>11966.0</td>\n",
       "      <td>False</td>\n",
       "      <td>2</td>\n",
       "      <td>0.000000</td>\n",
       "      <td>73.0</td>\n",
       "      <td>0.000000</td>\n",
       "      <td>77.0</td>\n",
       "      <td>0.000000</td>\n",
       "      <td>46.0</td>\n",
       "      <td>...</td>\n",
       "      <td>52.0</td>\n",
       "      <td>39.500000</td>\n",
       "      <td>27.268030</td>\n",
       "      <td>7.0</td>\n",
       "      <td>87.0</td>\n",
       "      <td>28.5</td>\n",
       "      <td>0.540626</td>\n",
       "      <td>-1.068238</td>\n",
       "      <td>0.031679</td>\n",
       "      <td>0.017751</td>\n",
       "    </tr>\n",
       "    <tr>\n",
       "      <th>3</th>\n",
       "      <td>0</td>\n",
       "      <td>11919.0</td>\n",
       "      <td>False</td>\n",
       "      <td>3</td>\n",
       "      <td>0.532764</td>\n",
       "      <td>11.0</td>\n",
       "      <td>0.640380</td>\n",
       "      <td>8.0</td>\n",
       "      <td>0.774916</td>\n",
       "      <td>3.0</td>\n",
       "      <td>...</td>\n",
       "      <td>24.0</td>\n",
       "      <td>24.333333</td>\n",
       "      <td>15.933574</td>\n",
       "      <td>3.0</td>\n",
       "      <td>57.0</td>\n",
       "      <td>25.5</td>\n",
       "      <td>0.462244</td>\n",
       "      <td>-0.545135</td>\n",
       "      <td>0.022175</td>\n",
       "      <td>0.017751</td>\n",
       "    </tr>\n",
       "    <tr>\n",
       "      <th>4</th>\n",
       "      <td>0</td>\n",
       "      <td>11548.0</td>\n",
       "      <td>False</td>\n",
       "      <td>0</td>\n",
       "      <td>0.491637</td>\n",
       "      <td>13.0</td>\n",
       "      <td>0.000000</td>\n",
       "      <td>68.0</td>\n",
       "      <td>0.480740</td>\n",
       "      <td>11.0</td>\n",
       "      <td>...</td>\n",
       "      <td>39.0</td>\n",
       "      <td>38.750000</td>\n",
       "      <td>23.848480</td>\n",
       "      <td>11.0</td>\n",
       "      <td>81.0</td>\n",
       "      <td>36.5</td>\n",
       "      <td>0.332176</td>\n",
       "      <td>-1.110081</td>\n",
       "      <td>0.026399</td>\n",
       "      <td>0.017751</td>\n",
       "    </tr>\n",
       "    <tr>\n",
       "      <th>...</th>\n",
       "      <td>...</td>\n",
       "      <td>...</td>\n",
       "      <td>...</td>\n",
       "      <td>...</td>\n",
       "      <td>...</td>\n",
       "      <td>...</td>\n",
       "      <td>...</td>\n",
       "      <td>...</td>\n",
       "      <td>...</td>\n",
       "      <td>...</td>\n",
       "      <td>...</td>\n",
       "      <td>...</td>\n",
       "      <td>...</td>\n",
       "      <td>...</td>\n",
       "      <td>...</td>\n",
       "      <td>...</td>\n",
       "      <td>...</td>\n",
       "      <td>...</td>\n",
       "      <td>...</td>\n",
       "      <td>...</td>\n",
       "      <td>...</td>\n",
       "    </tr>\n",
       "    <tr>\n",
       "      <th>2945959</th>\n",
       "      <td>35735</td>\n",
       "      <td>35750.0</td>\n",
       "      <td>False</td>\n",
       "      <td>0</td>\n",
       "      <td>0.131501</td>\n",
       "      <td>41.0</td>\n",
       "      <td>0.131075</td>\n",
       "      <td>36.0</td>\n",
       "      <td>0.146385</td>\n",
       "      <td>44.0</td>\n",
       "      <td>...</td>\n",
       "      <td>19.0</td>\n",
       "      <td>45.583333</td>\n",
       "      <td>12.623631</td>\n",
       "      <td>19.0</td>\n",
       "      <td>61.0</td>\n",
       "      <td>46.0</td>\n",
       "      <td>-0.590622</td>\n",
       "      <td>-0.351705</td>\n",
       "      <td>0.013728</td>\n",
       "      <td>0.006455</td>\n",
       "    </tr>\n",
       "    <tr>\n",
       "      <th>2945960</th>\n",
       "      <td>35735</td>\n",
       "      <td>35753.0</td>\n",
       "      <td>False</td>\n",
       "      <td>6</td>\n",
       "      <td>0.685558</td>\n",
       "      <td>2.0</td>\n",
       "      <td>0.682698</td>\n",
       "      <td>4.0</td>\n",
       "      <td>0.703247</td>\n",
       "      <td>5.0</td>\n",
       "      <td>...</td>\n",
       "      <td>16.0</td>\n",
       "      <td>16.166667</td>\n",
       "      <td>16.557521</td>\n",
       "      <td>2.0</td>\n",
       "      <td>61.0</td>\n",
       "      <td>10.5</td>\n",
       "      <td>1.734254</td>\n",
       "      <td>2.522402</td>\n",
       "      <td>0.016895</td>\n",
       "      <td>0.006455</td>\n",
       "    </tr>\n",
       "    <tr>\n",
       "      <th>2945961</th>\n",
       "      <td>35735</td>\n",
       "      <td>36034.0</td>\n",
       "      <td>False</td>\n",
       "      <td>11</td>\n",
       "      <td>0.999998</td>\n",
       "      <td>1.0</td>\n",
       "      <td>0.999998</td>\n",
       "      <td>1.0</td>\n",
       "      <td>0.937448</td>\n",
       "      <td>2.0</td>\n",
       "      <td>...</td>\n",
       "      <td>1.0</td>\n",
       "      <td>2.333333</td>\n",
       "      <td>2.870962</td>\n",
       "      <td>1.0</td>\n",
       "      <td>11.0</td>\n",
       "      <td>1.0</td>\n",
       "      <td>2.563566</td>\n",
       "      <td>5.279196</td>\n",
       "      <td>0.055966</td>\n",
       "      <td>0.006455</td>\n",
       "    </tr>\n",
       "    <tr>\n",
       "      <th>2945962</th>\n",
       "      <td>35735</td>\n",
       "      <td>34997.0</td>\n",
       "      <td>False</td>\n",
       "      <td>1</td>\n",
       "      <td>0.000000</td>\n",
       "      <td>59.0</td>\n",
       "      <td>0.000000</td>\n",
       "      <td>55.0</td>\n",
       "      <td>0.000000</td>\n",
       "      <td>63.0</td>\n",
       "      <td>...</td>\n",
       "      <td>56.0</td>\n",
       "      <td>47.000000</td>\n",
       "      <td>16.303931</td>\n",
       "      <td>9.0</td>\n",
       "      <td>64.0</td>\n",
       "      <td>49.5</td>\n",
       "      <td>-1.075036</td>\n",
       "      <td>0.447158</td>\n",
       "      <td>0.078141</td>\n",
       "      <td>0.006455</td>\n",
       "    </tr>\n",
       "    <tr>\n",
       "      <th>2945963</th>\n",
       "      <td>35735</td>\n",
       "      <td>38033.0</td>\n",
       "      <td>False</td>\n",
       "      <td>1</td>\n",
       "      <td>0.000000</td>\n",
       "      <td>66.0</td>\n",
       "      <td>0.000000</td>\n",
       "      <td>66.0</td>\n",
       "      <td>0.000000</td>\n",
       "      <td>66.0</td>\n",
       "      <td>...</td>\n",
       "      <td>66.0</td>\n",
       "      <td>44.833333</td>\n",
       "      <td>18.915282</td>\n",
       "      <td>10.0</td>\n",
       "      <td>66.0</td>\n",
       "      <td>45.5</td>\n",
       "      <td>-0.245838</td>\n",
       "      <td>-1.069257</td>\n",
       "      <td>0.025343</td>\n",
       "      <td>0.006455</td>\n",
       "    </tr>\n",
       "  </tbody>\n",
       "</table>\n",
       "<p>2945964 rows × 37 columns</p>\n",
       "</div>"
      ],
      "text/plain": [
       "         UserID   ItemID  Label  feature_recommender_count  RP3beta_score  \\\n",
       "0             0    399.0  False                          7       0.643288   \n",
       "1             0  13736.0  False                          0       0.268304   \n",
       "2             0  11966.0  False                          2       0.000000   \n",
       "3             0  11919.0  False                          3       0.532764   \n",
       "4             0  11548.0  False                          0       0.491637   \n",
       "...         ...      ...    ...                        ...            ...   \n",
       "2945959   35735  35750.0  False                          0       0.131501   \n",
       "2945960   35735  35753.0  False                          6       0.685558   \n",
       "2945961   35735  36034.0  False                         11       0.999998   \n",
       "2945962   35735  34997.0  False                          1       0.000000   \n",
       "2945963   35735  38033.0  False                          1       0.000000   \n",
       "\n",
       "         RP3beta_position  P3alpha_score  P3alpha_position  ItemKNNCF_score  \\\n",
       "0                     6.0       0.469522              24.0         0.514353   \n",
       "1                    43.0       0.341841              39.0         0.000000   \n",
       "2                    73.0       0.000000              77.0         0.000000   \n",
       "3                    11.0       0.640380               8.0         0.774916   \n",
       "4                    13.0       0.000000              68.0         0.480740   \n",
       "...                   ...            ...               ...              ...   \n",
       "2945959              41.0       0.131075              36.0         0.146385   \n",
       "2945960               2.0       0.682698               4.0         0.703247   \n",
       "2945961               1.0       0.999998               1.0         0.937448   \n",
       "2945962              59.0       0.000000              55.0         0.000000   \n",
       "2945963              66.0       0.000000              66.0         0.000000   \n",
       "\n",
       "         ItemKNNCF_position  ...  SLIM_BPR_position  Mean_Position  \\\n",
       "0                       9.0  ...                1.0      19.500000   \n",
       "1                      51.0  ...               53.0      36.916667   \n",
       "2                      46.0  ...               52.0      39.500000   \n",
       "3                       3.0  ...               24.0      24.333333   \n",
       "4                      11.0  ...               39.0      38.750000   \n",
       "...                     ...  ...                ...            ...   \n",
       "2945959                44.0  ...               19.0      45.583333   \n",
       "2945960                 5.0  ...               16.0      16.166667   \n",
       "2945961                 2.0  ...                1.0       2.333333   \n",
       "2945962                63.0  ...               56.0      47.000000   \n",
       "2945963                66.0  ...               66.0      44.833333   \n",
       "\n",
       "         Std_Position  Min_Position  Max_Position  Median_Position  \\\n",
       "0           24.130328           1.0          71.0              7.5   \n",
       "1           17.238742          11.0          59.0             41.0   \n",
       "2           27.268030           7.0          87.0             28.5   \n",
       "3           15.933574           3.0          57.0             25.5   \n",
       "4           23.848480          11.0          81.0             36.5   \n",
       "...               ...           ...           ...              ...   \n",
       "2945959     12.623631          19.0          61.0             46.0   \n",
       "2945960     16.557521           2.0          61.0             10.5   \n",
       "2945961      2.870962           1.0          11.0              1.0   \n",
       "2945962     16.303931           9.0          64.0             49.5   \n",
       "2945963     18.915282          10.0          66.0             45.5   \n",
       "\n",
       "         Skew_Position  Kurtosis_Position  item_popularity  user_profile_len  \n",
       "0             1.151161          -0.043285         0.146779          0.017751  \n",
       "1            -0.342628          -1.406343         0.060190          0.017751  \n",
       "2             0.540626          -1.068238         0.031679          0.017751  \n",
       "3             0.462244          -0.545135         0.022175          0.017751  \n",
       "4             0.332176          -1.110081         0.026399          0.017751  \n",
       "...                ...                ...              ...               ...  \n",
       "2945959      -0.590622          -0.351705         0.013728          0.006455  \n",
       "2945960       1.734254           2.522402         0.016895          0.006455  \n",
       "2945961       2.563566           5.279196         0.055966          0.006455  \n",
       "2945962      -1.075036           0.447158         0.078141          0.006455  \n",
       "2945963      -0.245838          -1.069257         0.025343          0.006455  \n",
       "\n",
       "[2945964 rows x 37 columns]"
      ]
     },
     "metadata": {},
     "output_type": "display_data"
    }
   ],
   "source": [
    "if config[\"tune_parameters\"]:\n",
    "    \n",
    "    if os.path.exists(dataframes_path + f'/training_dataframe_{config[\"model\"]}.parquet'):\n",
    "        training_dataframe = pd.read_parquet(dataframes_path + f'/training_dataframe_{config[\"model\"]}.parquet')\n",
    "        groups_train = training_dataframe.groupby(\"UserID\").size().values\n",
    "        print(\"training_dataframe and groups_train loaded.\")\n",
    "    \n",
    "    else:\n",
    "        print(\"***TRAINING CONTENT GENERATION RECOMMENDERS***\\n\")\n",
    "        candidate_generator_recommenders = fit_recommenders(\"Recall\", \"Train\", URM_train, ICM_all, cg_recommenders, GH_PATH, \"cg\", repo)\n",
    "    \n",
    "        print(\"***TRAINING FEATURE RECOMMENDERS***\\n\")\n",
    "        features_recommenders = fit_recommenders(\"MAP\", \"Train\", URM_train, ICM_all, f_recommenders, GH_PATH, \"f\", repo)\n",
    "\n",
    "        print()\n",
    "        training_dataframe, groups_train = create_XGBoost_dataframe(URM_train, candidate_generator_recommenders, features_recommenders, ICM_all, URM_validation, cutoff=50, categorical=config[\"categorical\"], contents=config[\"contents\"])\n",
    "        training_dataframe.to_parquet(f'/kaggle/working/training_dataframe_{config[\"model\"]}.parquet')\n",
    "\n",
    "        del candidate_generator_recommenders, features_recommenders\n",
    "        \n",
    "    display(training_dataframe)\n",
    "\n",
    "    y_train = training_dataframe[\"Label\"]\n",
    "    X_train = training_dataframe.drop(columns=[\"Label\"])\n",
    "\n",
    "    del training_dataframe"
   ]
  },
  {
   "cell_type": "markdown",
   "id": "ea158555",
   "metadata": {
    "papermill": {
     "duration": 0.019925,
     "end_time": "2025-01-06T13:21:16.542939",
     "exception": false,
     "start_time": "2025-01-06T13:21:16.523014",
     "status": "completed"
    },
    "tags": []
   },
   "source": [
    "## Validation and Testing dataframe building\n",
    "\n",
    "The first dataset excludes the label column since it is used to evaluate the performance of the model with the hyperparameters chosen by Optuna. In contrast, the second dataset includes the label column and is used to train the final model selected by Optuna."
   ]
  },
  {
   "cell_type": "code",
   "execution_count": 19,
   "id": "d098ad46",
   "metadata": {
    "execution": {
     "iopub.execute_input": "2025-01-06T13:21:16.583628Z",
     "iopub.status.busy": "2025-01-06T13:21:16.583237Z",
     "iopub.status.idle": "2025-01-06T13:21:20.028458Z",
     "shell.execute_reply": "2025-01-06T13:21:20.027347Z"
    },
    "papermill": {
     "duration": 3.468307,
     "end_time": "2025-01-06T13:21:20.030415",
     "exception": false,
     "start_time": "2025-01-06T13:21:16.562108",
     "status": "completed"
    },
    "tags": []
   },
   "outputs": [
    {
     "name": "stdout",
     "output_type": "stream",
     "text": [
      "testing_dataframe and groups_test loaded.\n"
     ]
    },
    {
     "data": {
      "text/html": [
       "<div>\n",
       "<style scoped>\n",
       "    .dataframe tbody tr th:only-of-type {\n",
       "        vertical-align: middle;\n",
       "    }\n",
       "\n",
       "    .dataframe tbody tr th {\n",
       "        vertical-align: top;\n",
       "    }\n",
       "\n",
       "    .dataframe thead th {\n",
       "        text-align: right;\n",
       "    }\n",
       "</style>\n",
       "<table border=\"1\" class=\"dataframe\">\n",
       "  <thead>\n",
       "    <tr style=\"text-align: right;\">\n",
       "      <th></th>\n",
       "      <th>UserID</th>\n",
       "      <th>ItemID</th>\n",
       "      <th>feature_recommender_count</th>\n",
       "      <th>RP3beta_score</th>\n",
       "      <th>RP3beta_position</th>\n",
       "      <th>P3alpha_score</th>\n",
       "      <th>P3alpha_position</th>\n",
       "      <th>ItemKNNCF_score</th>\n",
       "      <th>ItemKNNCF_position</th>\n",
       "      <th>ItemKNNCBF_score</th>\n",
       "      <th>...</th>\n",
       "      <th>SLIM_BPR_position</th>\n",
       "      <th>Mean_Position</th>\n",
       "      <th>Std_Position</th>\n",
       "      <th>Min_Position</th>\n",
       "      <th>Max_Position</th>\n",
       "      <th>Median_Position</th>\n",
       "      <th>Skew_Position</th>\n",
       "      <th>Kurtosis_Position</th>\n",
       "      <th>item_popularity</th>\n",
       "      <th>user_profile_len</th>\n",
       "    </tr>\n",
       "  </thead>\n",
       "  <tbody>\n",
       "    <tr>\n",
       "      <th>0</th>\n",
       "      <td>0</td>\n",
       "      <td>51.0</td>\n",
       "      <td>2</td>\n",
       "      <td>0.774121</td>\n",
       "      <td>6.0</td>\n",
       "      <td>0.788552</td>\n",
       "      <td>4.0</td>\n",
       "      <td>0.286975</td>\n",
       "      <td>41.0</td>\n",
       "      <td>0.000000</td>\n",
       "      <td>...</td>\n",
       "      <td>38.0</td>\n",
       "      <td>51.833333</td>\n",
       "      <td>33.141112</td>\n",
       "      <td>4.0</td>\n",
       "      <td>89.0</td>\n",
       "      <td>47.5</td>\n",
       "      <td>-0.193114</td>\n",
       "      <td>-1.452967</td>\n",
       "      <td>0.109336</td>\n",
       "      <td>0.020373</td>\n",
       "    </tr>\n",
       "    <tr>\n",
       "      <th>1</th>\n",
       "      <td>0</td>\n",
       "      <td>11966.0</td>\n",
       "      <td>7</td>\n",
       "      <td>0.727009</td>\n",
       "      <td>9.0</td>\n",
       "      <td>0.704616</td>\n",
       "      <td>6.0</td>\n",
       "      <td>0.896390</td>\n",
       "      <td>3.0</td>\n",
       "      <td>0.000000</td>\n",
       "      <td>...</td>\n",
       "      <td>23.0</td>\n",
       "      <td>16.916667</td>\n",
       "      <td>15.506353</td>\n",
       "      <td>3.0</td>\n",
       "      <td>51.0</td>\n",
       "      <td>9.5</td>\n",
       "      <td>1.285972</td>\n",
       "      <td>0.255258</td>\n",
       "      <td>0.032801</td>\n",
       "      <td>0.020373</td>\n",
       "    </tr>\n",
       "    <tr>\n",
       "      <th>2</th>\n",
       "      <td>0</td>\n",
       "      <td>11875.0</td>\n",
       "      <td>0</td>\n",
       "      <td>0.226606</td>\n",
       "      <td>71.0</td>\n",
       "      <td>0.199602</td>\n",
       "      <td>64.0</td>\n",
       "      <td>0.234023</td>\n",
       "      <td>49.0</td>\n",
       "      <td>0.000000</td>\n",
       "      <td>...</td>\n",
       "      <td>22.0</td>\n",
       "      <td>50.333333</td>\n",
       "      <td>22.166040</td>\n",
       "      <td>22.0</td>\n",
       "      <td>92.0</td>\n",
       "      <td>46.5</td>\n",
       "      <td>0.406129</td>\n",
       "      <td>-0.797269</td>\n",
       "      <td>0.021026</td>\n",
       "      <td>0.020373</td>\n",
       "    </tr>\n",
       "    <tr>\n",
       "      <th>3</th>\n",
       "      <td>0</td>\n",
       "      <td>9911.0</td>\n",
       "      <td>2</td>\n",
       "      <td>0.192488</td>\n",
       "      <td>77.0</td>\n",
       "      <td>0.168287</td>\n",
       "      <td>71.0</td>\n",
       "      <td>0.411140</td>\n",
       "      <td>32.0</td>\n",
       "      <td>0.000000</td>\n",
       "      <td>...</td>\n",
       "      <td>32.0</td>\n",
       "      <td>45.000000</td>\n",
       "      <td>27.349589</td>\n",
       "      <td>4.0</td>\n",
       "      <td>84.0</td>\n",
       "      <td>40.5</td>\n",
       "      <td>0.001365</td>\n",
       "      <td>-1.334524</td>\n",
       "      <td>0.016821</td>\n",
       "      <td>0.020373</td>\n",
       "    </tr>\n",
       "    <tr>\n",
       "      <th>4</th>\n",
       "      <td>0</td>\n",
       "      <td>9316.0</td>\n",
       "      <td>0</td>\n",
       "      <td>0.254083</td>\n",
       "      <td>61.0</td>\n",
       "      <td>0.251083</td>\n",
       "      <td>47.0</td>\n",
       "      <td>0.000000</td>\n",
       "      <td>92.0</td>\n",
       "      <td>0.000000</td>\n",
       "      <td>...</td>\n",
       "      <td>93.0</td>\n",
       "      <td>66.000000</td>\n",
       "      <td>22.506565</td>\n",
       "      <td>31.0</td>\n",
       "      <td>95.0</td>\n",
       "      <td>64.0</td>\n",
       "      <td>-0.037929</td>\n",
       "      <td>-1.435534</td>\n",
       "      <td>0.025231</td>\n",
       "      <td>0.020373</td>\n",
       "    </tr>\n",
       "    <tr>\n",
       "      <th>...</th>\n",
       "      <td>...</td>\n",
       "      <td>...</td>\n",
       "      <td>...</td>\n",
       "      <td>...</td>\n",
       "      <td>...</td>\n",
       "      <td>...</td>\n",
       "      <td>...</td>\n",
       "      <td>...</td>\n",
       "      <td>...</td>\n",
       "      <td>...</td>\n",
       "      <td>...</td>\n",
       "      <td>...</td>\n",
       "      <td>...</td>\n",
       "      <td>...</td>\n",
       "      <td>...</td>\n",
       "      <td>...</td>\n",
       "      <td>...</td>\n",
       "      <td>...</td>\n",
       "      <td>...</td>\n",
       "      <td>...</td>\n",
       "      <td>...</td>\n",
       "    </tr>\n",
       "    <tr>\n",
       "      <th>2878785</th>\n",
       "      <td>35735</td>\n",
       "      <td>35713.0</td>\n",
       "      <td>0</td>\n",
       "      <td>0.356445</td>\n",
       "      <td>18.0</td>\n",
       "      <td>0.132292</td>\n",
       "      <td>34.0</td>\n",
       "      <td>0.076987</td>\n",
       "      <td>53.0</td>\n",
       "      <td>0.000000</td>\n",
       "      <td>...</td>\n",
       "      <td>35.0</td>\n",
       "      <td>37.416667</td>\n",
       "      <td>12.929588</td>\n",
       "      <td>18.0</td>\n",
       "      <td>66.0</td>\n",
       "      <td>34.5</td>\n",
       "      <td>0.750278</td>\n",
       "      <td>0.206371</td>\n",
       "      <td>0.026072</td>\n",
       "      <td>0.005576</td>\n",
       "    </tr>\n",
       "    <tr>\n",
       "      <th>2878786</th>\n",
       "      <td>35735</td>\n",
       "      <td>35712.0</td>\n",
       "      <td>0</td>\n",
       "      <td>0.124700</td>\n",
       "      <td>44.0</td>\n",
       "      <td>0.112612</td>\n",
       "      <td>42.0</td>\n",
       "      <td>0.200205</td>\n",
       "      <td>27.0</td>\n",
       "      <td>0.232427</td>\n",
       "      <td>...</td>\n",
       "      <td>15.0</td>\n",
       "      <td>28.416667</td>\n",
       "      <td>9.995075</td>\n",
       "      <td>12.0</td>\n",
       "      <td>44.0</td>\n",
       "      <td>27.5</td>\n",
       "      <td>-0.012696</td>\n",
       "      <td>-0.893587</td>\n",
       "      <td>0.017662</td>\n",
       "      <td>0.005576</td>\n",
       "    </tr>\n",
       "    <tr>\n",
       "      <th>2878787</th>\n",
       "      <td>35735</td>\n",
       "      <td>35660.0</td>\n",
       "      <td>1</td>\n",
       "      <td>0.240297</td>\n",
       "      <td>31.0</td>\n",
       "      <td>0.126944</td>\n",
       "      <td>37.0</td>\n",
       "      <td>0.178835</td>\n",
       "      <td>31.0</td>\n",
       "      <td>0.000000</td>\n",
       "      <td>...</td>\n",
       "      <td>34.0</td>\n",
       "      <td>32.416667</td>\n",
       "      <td>11.858701</td>\n",
       "      <td>10.0</td>\n",
       "      <td>57.0</td>\n",
       "      <td>31.0</td>\n",
       "      <td>0.271387</td>\n",
       "      <td>0.283409</td>\n",
       "      <td>0.019344</td>\n",
       "      <td>0.005576</td>\n",
       "    </tr>\n",
       "    <tr>\n",
       "      <th>2878788</th>\n",
       "      <td>35735</td>\n",
       "      <td>36032.0</td>\n",
       "      <td>0</td>\n",
       "      <td>0.000000</td>\n",
       "      <td>61.0</td>\n",
       "      <td>0.000000</td>\n",
       "      <td>59.0</td>\n",
       "      <td>0.000000</td>\n",
       "      <td>62.0</td>\n",
       "      <td>0.000000</td>\n",
       "      <td>...</td>\n",
       "      <td>59.0</td>\n",
       "      <td>58.250000</td>\n",
       "      <td>9.016399</td>\n",
       "      <td>36.0</td>\n",
       "      <td>67.0</td>\n",
       "      <td>61.0</td>\n",
       "      <td>-1.634772</td>\n",
       "      <td>1.437730</td>\n",
       "      <td>0.013457</td>\n",
       "      <td>0.005576</td>\n",
       "    </tr>\n",
       "    <tr>\n",
       "      <th>2878789</th>\n",
       "      <td>35735</td>\n",
       "      <td>38033.0</td>\n",
       "      <td>1</td>\n",
       "      <td>0.000000</td>\n",
       "      <td>67.0</td>\n",
       "      <td>0.000000</td>\n",
       "      <td>67.0</td>\n",
       "      <td>0.000000</td>\n",
       "      <td>67.0</td>\n",
       "      <td>0.266242</td>\n",
       "      <td>...</td>\n",
       "      <td>67.0</td>\n",
       "      <td>41.583333</td>\n",
       "      <td>21.060339</td>\n",
       "      <td>9.0</td>\n",
       "      <td>67.0</td>\n",
       "      <td>33.5</td>\n",
       "      <td>0.140871</td>\n",
       "      <td>-1.434609</td>\n",
       "      <td>0.024390</td>\n",
       "      <td>0.005576</td>\n",
       "    </tr>\n",
       "  </tbody>\n",
       "</table>\n",
       "<p>2878790 rows × 36 columns</p>\n",
       "</div>"
      ],
      "text/plain": [
       "         UserID   ItemID  feature_recommender_count  RP3beta_score  \\\n",
       "0             0     51.0                          2       0.774121   \n",
       "1             0  11966.0                          7       0.727009   \n",
       "2             0  11875.0                          0       0.226606   \n",
       "3             0   9911.0                          2       0.192488   \n",
       "4             0   9316.0                          0       0.254083   \n",
       "...         ...      ...                        ...            ...   \n",
       "2878785   35735  35713.0                          0       0.356445   \n",
       "2878786   35735  35712.0                          0       0.124700   \n",
       "2878787   35735  35660.0                          1       0.240297   \n",
       "2878788   35735  36032.0                          0       0.000000   \n",
       "2878789   35735  38033.0                          1       0.000000   \n",
       "\n",
       "         RP3beta_position  P3alpha_score  P3alpha_position  ItemKNNCF_score  \\\n",
       "0                     6.0       0.788552               4.0         0.286975   \n",
       "1                     9.0       0.704616               6.0         0.896390   \n",
       "2                    71.0       0.199602              64.0         0.234023   \n",
       "3                    77.0       0.168287              71.0         0.411140   \n",
       "4                    61.0       0.251083              47.0         0.000000   \n",
       "...                   ...            ...               ...              ...   \n",
       "2878785              18.0       0.132292              34.0         0.076987   \n",
       "2878786              44.0       0.112612              42.0         0.200205   \n",
       "2878787              31.0       0.126944              37.0         0.178835   \n",
       "2878788              61.0       0.000000              59.0         0.000000   \n",
       "2878789              67.0       0.000000              67.0         0.000000   \n",
       "\n",
       "         ItemKNNCF_position  ItemKNNCBF_score  ...  SLIM_BPR_position  \\\n",
       "0                      41.0          0.000000  ...               38.0   \n",
       "1                       3.0          0.000000  ...               23.0   \n",
       "2                      49.0          0.000000  ...               22.0   \n",
       "3                      32.0          0.000000  ...               32.0   \n",
       "4                      92.0          0.000000  ...               93.0   \n",
       "...                     ...               ...  ...                ...   \n",
       "2878785                53.0          0.000000  ...               35.0   \n",
       "2878786                27.0          0.232427  ...               15.0   \n",
       "2878787                31.0          0.000000  ...               34.0   \n",
       "2878788                62.0          0.000000  ...               59.0   \n",
       "2878789                67.0          0.266242  ...               67.0   \n",
       "\n",
       "         Mean_Position  Std_Position  Min_Position  Max_Position  \\\n",
       "0            51.833333     33.141112           4.0          89.0   \n",
       "1            16.916667     15.506353           3.0          51.0   \n",
       "2            50.333333     22.166040          22.0          92.0   \n",
       "3            45.000000     27.349589           4.0          84.0   \n",
       "4            66.000000     22.506565          31.0          95.0   \n",
       "...                ...           ...           ...           ...   \n",
       "2878785      37.416667     12.929588          18.0          66.0   \n",
       "2878786      28.416667      9.995075          12.0          44.0   \n",
       "2878787      32.416667     11.858701          10.0          57.0   \n",
       "2878788      58.250000      9.016399          36.0          67.0   \n",
       "2878789      41.583333     21.060339           9.0          67.0   \n",
       "\n",
       "         Median_Position  Skew_Position  Kurtosis_Position  item_popularity  \\\n",
       "0                   47.5      -0.193114          -1.452967         0.109336   \n",
       "1                    9.5       1.285972           0.255258         0.032801   \n",
       "2                   46.5       0.406129          -0.797269         0.021026   \n",
       "3                   40.5       0.001365          -1.334524         0.016821   \n",
       "4                   64.0      -0.037929          -1.435534         0.025231   \n",
       "...                  ...            ...                ...              ...   \n",
       "2878785             34.5       0.750278           0.206371         0.026072   \n",
       "2878786             27.5      -0.012696          -0.893587         0.017662   \n",
       "2878787             31.0       0.271387           0.283409         0.019344   \n",
       "2878788             61.0      -1.634772           1.437730         0.013457   \n",
       "2878789             33.5       0.140871          -1.434609         0.024390   \n",
       "\n",
       "         user_profile_len  \n",
       "0                0.020373  \n",
       "1                0.020373  \n",
       "2                0.020373  \n",
       "3                0.020373  \n",
       "4                0.020373  \n",
       "...                   ...  \n",
       "2878785          0.005576  \n",
       "2878786          0.005576  \n",
       "2878787          0.005576  \n",
       "2878788          0.005576  \n",
       "2878789          0.005576  \n",
       "\n",
       "[2878790 rows x 36 columns]"
      ]
     },
     "metadata": {},
     "output_type": "display_data"
    }
   ],
   "source": [
    "if config[\"tune_parameters\"] or config[\"tune_best_params\"]:\n",
    "    \n",
    "    if os.path.exists(dataframes_path + f'/testing_dataframe_{config[\"model\"]}.parquet' ):\n",
    "        testing_dataframe = pd.read_parquet(dataframes_path + f'/testing_dataframe_{config[\"model\"]}.parquet')\n",
    "        groups_test = testing_dataframe.groupby(\"UserID\").size().values\n",
    "        print(\"testing_dataframe and groups_test loaded.\")\n",
    "    \n",
    "    else:\n",
    "\n",
    "        print(\"***TRAINING CONTENT GENERATION RECOMMENDERS***\\n\")\n",
    "        candidate_generator_recommenders = fit_recommenders(\"Recall\", \"TrainVal\", URM_train + URM_validation, ICM_all, cg_recommenders, GH_PATH, \"cg\", repo)\n",
    "\n",
    "        print(\"***TRAINING FEATURE RECOMMENDERS***\\n\")\n",
    "        features_recommenders = fit_recommenders(\"MAP\", \"TrainVal\", URM_train + URM_validation, ICM_all, f_recommenders, GH_PATH, \"f\", repo)\n",
    "\n",
    "        print()\n",
    "        testing_dataframe, groups_test = create_XGBoost_dataframe(URM_train + URM_validation, candidate_generator_recommenders, features_recommenders, ICM_all, URM_test, cutoff=50, categorical=config[\"categorical\"], contents=config[\"contents\"])\n",
    "        testing_dataframe.to_parquet(f'/kaggle/working/testing_dataframe_{config[\"model\"]}.parquet')\n",
    "\n",
    "        del candidate_generator_recommenders, features_recommenders\n",
    "\n",
    "    if config[\"tune_parameters\"]:\n",
    "        validation_dataframe = testing_dataframe.drop(columns=[\"Label\"])\n",
    "        display(validation_dataframe)"
   ]
  },
  {
   "cell_type": "markdown",
   "id": "c11b862a",
   "metadata": {
    "papermill": {
     "duration": 0.020571,
     "end_time": "2025-01-06T13:21:20.073163",
     "exception": false,
     "start_time": "2025-01-06T13:21:20.052592",
     "status": "completed"
    },
    "tags": []
   },
   "source": [
    "## XGBoost training\n",
    "Let's train XGBoost to rerank those prediction using as lable whether they should be recommended or not."
   ]
  },
  {
   "cell_type": "code",
   "execution_count": 20,
   "id": "667b36ae",
   "metadata": {
    "execution": {
     "iopub.execute_input": "2025-01-06T13:21:20.126520Z",
     "iopub.status.busy": "2025-01-06T13:21:20.126139Z",
     "iopub.status.idle": "2025-01-06T13:21:20.136476Z",
     "shell.execute_reply": "2025-01-06T13:21:20.135493Z"
    },
    "papermill": {
     "duration": 0.03817,
     "end_time": "2025-01-06T13:21:20.138675",
     "exception": false,
     "start_time": "2025-01-06T13:21:20.100505",
     "status": "completed"
    },
    "tags": []
   },
   "outputs": [],
   "source": [
    "from Recommenders.XGBoost.XGBoostRankerRecommender import XGBoostRankerRecommender\n",
    "from timeout_decorator.timeout_decorator import TimeoutError\n",
    "\n",
    "@timeout_decorator.timeout(3600*2, timeout_exception=optuna.TrialPruned, use_signals=False)\n",
    "def objective_function_XGBoostRanker(optuna_trial):\n",
    "    \n",
    "    recommender_instance = XGBoostRankerRecommender(URM_train + URM_validation, X_train, y_train, validation_dataframe)\n",
    "\n",
    "    full_hyperp = {\n",
    "            \"n_estimators\": optuna_trial.suggest_int(\"n_estimators\", 50, 500),\n",
    "            \"learning_rate\": optuna_trial.suggest_float(\"learning_rate\", 1e-4, 0.3, log=True),\n",
    "            \"reg_alpha\": optuna_trial.suggest_float(\"reg_alpha\", 1e-4, 1.0, log=True),\n",
    "            \"reg_lambda\": optuna_trial.suggest_float(\"reg_lambda\", 1e-4, 1.0, log=True),\n",
    "            \"max_depth\": optuna_trial.suggest_int(\"max_depth\", 3, 7),\n",
    "            \"max_leaves\": optuna_trial.suggest_int(\"max_leaves\", 2, 128),\n",
    "            \"grow_policy\": optuna_trial.suggest_categorical(\"grow_policy\", [\"depthwise\", \"lossguide\"]),\n",
    "            \"booster\": optuna_trial.suggest_categorical(\"booster\", [\"gbtree\", \"dart\"]),\n",
    "            # \"tree_method\": optuna_trial.suggest_categorical(\"tree_method\", [\"hist\", \"gpu_hist\", \"approx\"]),\n",
    "            \"tree_method\": \"hist\",\n",
    "            \"objective\": optuna_trial.suggest_categorical(\"objective\", [\"map\", \"pairwise\", \"ndcg\"])\n",
    "        }\n",
    "\n",
    "    recommender_instance.fit(\n",
    "        groups_train,\n",
    "        **full_hyperp\n",
    "    )\n",
    "\n",
    "    result_df, _ = evaluator_test.evaluateRecommender(recommender_instance)\n",
    "    \n",
    "    return result_df.loc[10][\"MAP\"]"
   ]
  },
  {
   "cell_type": "code",
   "execution_count": 21,
   "id": "89360d91",
   "metadata": {
    "execution": {
     "iopub.execute_input": "2025-01-06T13:21:20.181451Z",
     "iopub.status.busy": "2025-01-06T13:21:20.180991Z",
     "iopub.status.idle": "2025-01-06T18:52:49.322160Z",
     "shell.execute_reply": "2025-01-06T18:52:49.320264Z"
    },
    "papermill": {
     "duration": 19889.166501,
     "end_time": "2025-01-06T18:52:49.326489",
     "exception": false,
     "start_time": "2025-01-06T13:21:20.159988",
     "status": "completed"
    },
    "tags": []
   },
   "outputs": [
    {
     "name": "stderr",
     "output_type": "stream",
     "text": [
      "[I 2025-01-06 13:21:21,244] Using an existing study with name 'hyperparameters_tuning_XGBoostNoCont_MAP' instead of creating a new one.\n",
      "[I 2025-01-06 15:21:21,400] Trial 10 pruned. \n"
     ]
    },
    {
     "name": "stdout",
     "output_type": "stream",
     "text": [
      "EvaluatorHoldout: Processed 24000 (67.4%) in 5.07 min. Users per second: 79\n",
      "EvaluatorHoldout: Processed 35595 (100.0%) in 7.51 min. Users per second: 79\n"
     ]
    },
    {
     "name": "stderr",
     "output_type": "stream",
     "text": [
      "[I 2025-01-06 15:30:47,584] Trial 11 finished with value: 0.06171044064954552 and parameters: {'n_estimators': 209, 'learning_rate': 0.044967780307919064, 'reg_alpha': 0.02087549135224905, 'reg_lambda': 0.9995279404889728, 'max_depth': 4, 'max_leaves': 116, 'grow_policy': 'lossguide', 'booster': 'gbtree', 'objective': 'pairwise'}. Best is trial 7 with value: 0.062178943225928276.\n"
     ]
    },
    {
     "name": "stdout",
     "output_type": "stream",
     "text": [
      "EvaluatorHoldout: Processed 23000 (64.6%) in 5.03 min. Users per second: 76\n",
      "EvaluatorHoldout: Processed 35595 (100.0%) in 7.77 min. Users per second: 76\n"
     ]
    },
    {
     "name": "stderr",
     "output_type": "stream",
     "text": [
      "[I 2025-01-06 15:42:48,918] Trial 12 finished with value: 0.06214829753599076 and parameters: {'n_estimators': 483, 'learning_rate': 0.0529410855281716, 'reg_alpha': 0.0010823537159121975, 'reg_lambda': 0.15015363613880733, 'max_depth': 5, 'max_leaves': 105, 'grow_policy': 'lossguide', 'booster': 'gbtree', 'objective': 'pairwise'}. Best is trial 7 with value: 0.062178943225928276.\n"
     ]
    },
    {
     "name": "stdout",
     "output_type": "stream",
     "text": [
      "EvaluatorHoldout: Processed 24000 (67.4%) in 5.02 min. Users per second: 80\n",
      "EvaluatorHoldout: Processed 35595 (100.0%) in 7.45 min. Users per second: 80\n"
     ]
    },
    {
     "name": "stderr",
     "output_type": "stream",
     "text": [
      "[I 2025-01-06 15:54:10,599] Trial 13 finished with value: 0.05994341545205235 and parameters: {'n_estimators': 486, 'learning_rate': 0.000775784847967646, 'reg_alpha': 0.0007186794218985551, 'reg_lambda': 0.0005173345825077994, 'max_depth': 3, 'max_leaves': 96, 'grow_policy': 'lossguide', 'booster': 'gbtree', 'objective': 'pairwise'}. Best is trial 7 with value: 0.062178943225928276.\n"
     ]
    },
    {
     "name": "stdout",
     "output_type": "stream",
     "text": [
      "EvaluatorHoldout: Processed 24000 (67.4%) in 5.04 min. Users per second: 79\n",
      "EvaluatorHoldout: Processed 35595 (100.0%) in 7.47 min. Users per second: 79\n"
     ]
    },
    {
     "name": "stderr",
     "output_type": "stream",
     "text": [
      "[I 2025-01-06 16:05:03,037] Trial 14 finished with value: 0.06207694588815363 and parameters: {'n_estimators': 405, 'learning_rate': 0.054397323366720304, 'reg_alpha': 0.0006222498043822534, 'reg_lambda': 0.0949949009787005, 'max_depth': 4, 'max_leaves': 73, 'grow_policy': 'lossguide', 'booster': 'gbtree', 'objective': 'pairwise'}. Best is trial 7 with value: 0.062178943225928276.\n"
     ]
    },
    {
     "name": "stdout",
     "output_type": "stream",
     "text": [
      "EvaluatorHoldout: Processed 23000 (64.6%) in 5.03 min. Users per second: 76\n",
      "EvaluatorHoldout: Processed 35595 (100.0%) in 7.75 min. Users per second: 77\n"
     ]
    },
    {
     "name": "stderr",
     "output_type": "stream",
     "text": [
      "[I 2025-01-06 16:17:05,171] Trial 15 finished with value: 0.06193816904014774 and parameters: {'n_estimators': 429, 'learning_rate': 0.03117334190629584, 'reg_alpha': 0.0013555249016922058, 'reg_lambda': 0.0012530426165400224, 'max_depth': 5, 'max_leaves': 128, 'grow_policy': 'lossguide', 'booster': 'gbtree', 'objective': 'map'}. Best is trial 7 with value: 0.062178943225928276.\n"
     ]
    },
    {
     "name": "stdout",
     "output_type": "stream",
     "text": [
      "EvaluatorHoldout: Processed 24000 (67.4%) in 5.05 min. Users per second: 79\n",
      "EvaluatorHoldout: Processed 35595 (100.0%) in 7.46 min. Users per second: 79\n"
     ]
    },
    {
     "name": "stderr",
     "output_type": "stream",
     "text": [
      "[I 2025-01-06 16:28:05,290] Trial 16 finished with value: 0.060182832884052864 and parameters: {'n_estimators': 436, 'learning_rate': 0.0030484083316595916, 'reg_alpha': 0.00025982178696125027, 'reg_lambda': 0.009180078159656565, 'max_depth': 3, 'max_leaves': 89, 'grow_policy': 'lossguide', 'booster': 'gbtree', 'objective': 'pairwise'}. Best is trial 7 with value: 0.062178943225928276.\n"
     ]
    },
    {
     "name": "stdout",
     "output_type": "stream",
     "text": [
      "EvaluatorHoldout: Processed 23000 (64.6%) in 5.09 min. Users per second: 75\n",
      "EvaluatorHoldout: Processed 35595 (100.0%) in 7.91 min. Users per second: 75\n"
     ]
    },
    {
     "name": "stderr",
     "output_type": "stream",
     "text": [
      "[I 2025-01-06 16:40:16,704] Trial 17 finished with value: 0.06212628735532024 and parameters: {'n_estimators': 498, 'learning_rate': 0.0884133887187369, 'reg_alpha': 0.015257382056950857, 'reg_lambda': 0.04903907345736138, 'max_depth': 4, 'max_leaves': 64, 'grow_policy': 'lossguide', 'booster': 'gbtree', 'objective': 'map'}. Best is trial 7 with value: 0.062178943225928276.\n",
      "[I 2025-01-06 18:40:16,848] Trial 18 pruned. \n"
     ]
    },
    {
     "name": "stdout",
     "output_type": "stream",
     "text": [
      "EvaluatorHoldout: Processed 22000 (61.8%) in 5.13 min. Users per second: 71\n",
      "EvaluatorHoldout: Processed 35595 (100.0%) in 8.29 min. Users per second: 72\n"
     ]
    },
    {
     "name": "stderr",
     "output_type": "stream",
     "text": [
      "[I 2025-01-06 18:52:49,312] Trial 19 finished with value: 0.06194914793186855 and parameters: {'n_estimators': 453, 'learning_rate': 0.021100821465375428, 'reg_alpha': 0.0012799093913154961, 'reg_lambda': 0.0006039821476054801, 'max_depth': 5, 'max_leaves': 104, 'grow_policy': 'lossguide', 'booster': 'gbtree', 'objective': 'pairwise'}. Best is trial 7 with value: 0.062178943225928276.\n"
     ]
    }
   ],
   "source": [
    "if config['tune_parameters']:\n",
    "    \n",
    "    optuna_study = optuna.create_study(direction='maximize', study_name=f'hyperparameters_tuning_{config[\"model\"]}_{config[\"metric\"]}',\n",
    "                                storage=f'sqlite:///{config[\"database_path\"]}', load_if_exists=True)\n",
    "\n",
    "    optuna_study.optimize(objective_function_XGBoostRanker, n_trials=10, timeout=11 * 3600)"
   ]
  },
  {
   "cell_type": "markdown",
   "id": "79d0f061",
   "metadata": {
    "papermill": {
     "duration": 0.022782,
     "end_time": "2025-01-06T18:52:49.374443",
     "exception": false,
     "start_time": "2025-01-06T18:52:49.351661",
     "status": "completed"
    },
    "tags": []
   },
   "source": [
    "### Some optuna visualizations on recommender parameters"
   ]
  },
  {
   "cell_type": "code",
   "execution_count": 22,
   "id": "c1336bb1",
   "metadata": {
    "execution": {
     "iopub.execute_input": "2025-01-06T18:52:49.423161Z",
     "iopub.status.busy": "2025-01-06T18:52:49.422716Z",
     "iopub.status.idle": "2025-01-06T18:52:50.611247Z",
     "shell.execute_reply": "2025-01-06T18:52:50.609980Z"
    },
    "papermill": {
     "duration": 1.216313,
     "end_time": "2025-01-06T18:52:50.613073",
     "exception": false,
     "start_time": "2025-01-06T18:52:49.396760",
     "status": "completed"
    },
    "tags": []
   },
   "outputs": [
    {
     "data": {
      "text/html": [
       "<html>\n",
       "<head><meta charset=\"utf-8\" /></head>\n",
       "<body>\n",
       "    <div>            <script src=\"https://cdnjs.cloudflare.com/ajax/libs/mathjax/2.7.5/MathJax.js?config=TeX-AMS-MML_SVG\"></script><script type=\"text/javascript\">if (window.MathJax && window.MathJax.Hub && window.MathJax.Hub.Config) {window.MathJax.Hub.Config({SVG: {font: \"STIX-Web\"}});}</script>                <script type=\"text/javascript\">window.PlotlyConfig = {MathJaxConfig: 'local'};</script>\n",
       "        <script charset=\"utf-8\" src=\"https://cdn.plot.ly/plotly-2.35.2.min.js\"></script>                <div id=\"3685fa9f-7f53-4380-aaab-d06357fbf658\" class=\"plotly-graph-div\" style=\"height:525px; width:2700px;\"></div>            <script type=\"text/javascript\">                                    window.PLOTLYENV=window.PLOTLYENV || {};                                    if (document.getElementById(\"3685fa9f-7f53-4380-aaab-d06357fbf658\")) {                    Plotly.newPlot(                        \"3685fa9f-7f53-4380-aaab-d06357fbf658\",                        [{\"marker\":{\"color\":[0,1,2,3,4,5,6,7,8,9,11,12,13,14,15,16,17,19],\"colorbar\":{\"title\":{\"text\":\"Trial\"},\"x\":1.0,\"xpad\":40},\"colorscale\":[[0.0,\"rgb(247,251,255)\"],[0.125,\"rgb(222,235,247)\"],[0.25,\"rgb(198,219,239)\"],[0.375,\"rgb(158,202,225)\"],[0.5,\"rgb(107,174,214)\"],[0.625,\"rgb(66,146,198)\"],[0.75,\"rgb(33,113,181)\"],[0.875,\"rgb(8,81,156)\"],[1.0,\"rgb(8,48,107)\"]],\"line\":{\"color\":\"Grey\",\"width\":0.5},\"showscale\":true},\"mode\":\"markers\",\"name\":\"Feasible Trial\",\"showlegend\":false,\"x\":[\"gbtree\",\"gbtree\",\"dart\",\"gbtree\",\"gbtree\",\"dart\",\"gbtree\",\"gbtree\",\"dart\",\"gbtree\",\"gbtree\",\"gbtree\",\"gbtree\",\"gbtree\",\"gbtree\",\"gbtree\",\"gbtree\",\"gbtree\"],\"y\":[0.06136887426225632,0.06170810172643119,0.06185571921328157,0.062103219196559555,0.06152062444118754,0.06144328724606677,0.06189065144248259,0.062178943225928276,0.06118859992374349,0.06044589149982981,0.06171044064954552,0.06214829753599076,0.05994341545205235,0.06207694588815363,0.06193816904014774,0.060182832884052864,0.06212628735532024,0.06194914793186855],\"type\":\"scatter\",\"xaxis\":\"x\",\"yaxis\":\"y\"},{\"marker\":{\"color\":[0,1,2,3,4,5,6,7,8,9,11,12,13,14,15,16,17,19],\"colorbar\":{\"title\":{\"text\":\"Trial\"},\"x\":1.0,\"xpad\":40},\"colorscale\":[[0.0,\"rgb(247,251,255)\"],[0.125,\"rgb(222,235,247)\"],[0.25,\"rgb(198,219,239)\"],[0.375,\"rgb(158,202,225)\"],[0.5,\"rgb(107,174,214)\"],[0.625,\"rgb(66,146,198)\"],[0.75,\"rgb(33,113,181)\"],[0.875,\"rgb(8,81,156)\"],[1.0,\"rgb(8,48,107)\"]],\"line\":{\"color\":\"Grey\",\"width\":0.5},\"showscale\":false},\"mode\":\"markers\",\"name\":\"Feasible Trial\",\"showlegend\":false,\"x\":[\"depthwise\",\"lossguide\",\"depthwise\",\"lossguide\",\"lossguide\",\"depthwise\",\"depthwise\",\"lossguide\",\"depthwise\",\"depthwise\",\"lossguide\",\"lossguide\",\"lossguide\",\"lossguide\",\"lossguide\",\"lossguide\",\"lossguide\",\"lossguide\"],\"y\":[0.06136887426225632,0.06170810172643119,0.06185571921328157,0.062103219196559555,0.06152062444118754,0.06144328724606677,0.06189065144248259,0.062178943225928276,0.06118859992374349,0.06044589149982981,0.06171044064954552,0.06214829753599076,0.05994341545205235,0.06207694588815363,0.06193816904014774,0.060182832884052864,0.06212628735532024,0.06194914793186855],\"type\":\"scatter\",\"xaxis\":\"x2\",\"yaxis\":\"y2\"},{\"marker\":{\"color\":[0,1,2,3,4,5,6,7,8,9,11,12,13,14,15,16,17,19],\"colorbar\":{\"title\":{\"text\":\"Trial\"},\"x\":1.0,\"xpad\":40},\"colorscale\":[[0.0,\"rgb(247,251,255)\"],[0.125,\"rgb(222,235,247)\"],[0.25,\"rgb(198,219,239)\"],[0.375,\"rgb(158,202,225)\"],[0.5,\"rgb(107,174,214)\"],[0.625,\"rgb(66,146,198)\"],[0.75,\"rgb(33,113,181)\"],[0.875,\"rgb(8,81,156)\"],[1.0,\"rgb(8,48,107)\"]],\"line\":{\"color\":\"Grey\",\"width\":0.5},\"showscale\":false},\"mode\":\"markers\",\"name\":\"Feasible Trial\",\"showlegend\":false,\"x\":[0.27318120912922245,0.015352573546639194,0.2046852900932292,0.06011804926390996,0.007716794529987463,0.2073036852262827,0.01529854970441063,0.02994157875139953,0.00817012078540874,0.0021220019120560436,0.044967780307919064,0.0529410855281716,0.000775784847967646,0.054397323366720304,0.03117334190629584,0.0030484083316595916,0.0884133887187369,0.021100821465375428],\"y\":[0.06136887426225632,0.06170810172643119,0.06185571921328157,0.062103219196559555,0.06152062444118754,0.06144328724606677,0.06189065144248259,0.062178943225928276,0.06118859992374349,0.06044589149982981,0.06171044064954552,0.06214829753599076,0.05994341545205235,0.06207694588815363,0.06193816904014774,0.060182832884052864,0.06212628735532024,0.06194914793186855],\"type\":\"scatter\",\"xaxis\":\"x3\",\"yaxis\":\"y3\"},{\"marker\":{\"color\":[0,1,2,3,4,5,6,7,8,9,11,12,13,14,15,16,17,19],\"colorbar\":{\"title\":{\"text\":\"Trial\"},\"x\":1.0,\"xpad\":40},\"colorscale\":[[0.0,\"rgb(247,251,255)\"],[0.125,\"rgb(222,235,247)\"],[0.25,\"rgb(198,219,239)\"],[0.375,\"rgb(158,202,225)\"],[0.5,\"rgb(107,174,214)\"],[0.625,\"rgb(66,146,198)\"],[0.75,\"rgb(33,113,181)\"],[0.875,\"rgb(8,81,156)\"],[1.0,\"rgb(8,48,107)\"]],\"line\":{\"color\":\"Grey\",\"width\":0.5},\"showscale\":false},\"mode\":\"markers\",\"name\":\"Feasible Trial\",\"showlegend\":false,\"x\":[7,4,6,5,6,6,7,4,5,4,4,5,3,4,5,3,4,5],\"y\":[0.06136887426225632,0.06170810172643119,0.06185571921328157,0.062103219196559555,0.06152062444118754,0.06144328724606677,0.06189065144248259,0.062178943225928276,0.06118859992374349,0.06044589149982981,0.06171044064954552,0.06214829753599076,0.05994341545205235,0.06207694588815363,0.06193816904014774,0.060182832884052864,0.06212628735532024,0.06194914793186855],\"type\":\"scatter\",\"xaxis\":\"x4\",\"yaxis\":\"y4\"},{\"marker\":{\"color\":[0,1,2,3,4,5,6,7,8,9,11,12,13,14,15,16,17,19],\"colorbar\":{\"title\":{\"text\":\"Trial\"},\"x\":1.0,\"xpad\":40},\"colorscale\":[[0.0,\"rgb(247,251,255)\"],[0.125,\"rgb(222,235,247)\"],[0.25,\"rgb(198,219,239)\"],[0.375,\"rgb(158,202,225)\"],[0.5,\"rgb(107,174,214)\"],[0.625,\"rgb(66,146,198)\"],[0.75,\"rgb(33,113,181)\"],[0.875,\"rgb(8,81,156)\"],[1.0,\"rgb(8,48,107)\"]],\"line\":{\"color\":\"Grey\",\"width\":0.5},\"showscale\":false},\"mode\":\"markers\",\"name\":\"Feasible Trial\",\"showlegend\":false,\"x\":[59,29,51,115,106,37,82,73,92,76,116,105,96,73,128,89,64,104],\"y\":[0.06136887426225632,0.06170810172643119,0.06185571921328157,0.062103219196559555,0.06152062444118754,0.06144328724606677,0.06189065144248259,0.062178943225928276,0.06118859992374349,0.06044589149982981,0.06171044064954552,0.06214829753599076,0.05994341545205235,0.06207694588815363,0.06193816904014774,0.060182832884052864,0.06212628735532024,0.06194914793186855],\"type\":\"scatter\",\"xaxis\":\"x5\",\"yaxis\":\"y5\"},{\"marker\":{\"color\":[0,1,2,3,4,5,6,7,8,9,11,12,13,14,15,16,17,19],\"colorbar\":{\"title\":{\"text\":\"Trial\"},\"x\":1.0,\"xpad\":40},\"colorscale\":[[0.0,\"rgb(247,251,255)\"],[0.125,\"rgb(222,235,247)\"],[0.25,\"rgb(198,219,239)\"],[0.375,\"rgb(158,202,225)\"],[0.5,\"rgb(107,174,214)\"],[0.625,\"rgb(66,146,198)\"],[0.75,\"rgb(33,113,181)\"],[0.875,\"rgb(8,81,156)\"],[1.0,\"rgb(8,48,107)\"]],\"line\":{\"color\":\"Grey\",\"width\":0.5},\"showscale\":false},\"mode\":\"markers\",\"name\":\"Feasible Trial\",\"showlegend\":false,\"x\":[84,374,118,203,291,308,342,430,117,128,209,483,486,405,429,436,498,453],\"y\":[0.06136887426225632,0.06170810172643119,0.06185571921328157,0.062103219196559555,0.06152062444118754,0.06144328724606677,0.06189065144248259,0.062178943225928276,0.06118859992374349,0.06044589149982981,0.06171044064954552,0.06214829753599076,0.05994341545205235,0.06207694588815363,0.06193816904014774,0.060182832884052864,0.06212628735532024,0.06194914793186855],\"type\":\"scatter\",\"xaxis\":\"x6\",\"yaxis\":\"y6\"},{\"marker\":{\"color\":[0,1,2,3,4,5,6,7,8,9,11,12,13,14,15,16,17,19],\"colorbar\":{\"title\":{\"text\":\"Trial\"},\"x\":1.0,\"xpad\":40},\"colorscale\":[[0.0,\"rgb(247,251,255)\"],[0.125,\"rgb(222,235,247)\"],[0.25,\"rgb(198,219,239)\"],[0.375,\"rgb(158,202,225)\"],[0.5,\"rgb(107,174,214)\"],[0.625,\"rgb(66,146,198)\"],[0.75,\"rgb(33,113,181)\"],[0.875,\"rgb(8,81,156)\"],[1.0,\"rgb(8,48,107)\"]],\"line\":{\"color\":\"Grey\",\"width\":0.5},\"showscale\":false},\"mode\":\"markers\",\"name\":\"Feasible Trial\",\"showlegend\":false,\"x\":[\"ndcg\",\"ndcg\",\"ndcg\",\"pairwise\",\"map\",\"ndcg\",\"ndcg\",\"map\",\"map\",\"ndcg\",\"pairwise\",\"pairwise\",\"pairwise\",\"pairwise\",\"map\",\"pairwise\",\"map\",\"pairwise\"],\"y\":[0.06136887426225632,0.06170810172643119,0.06185571921328157,0.062103219196559555,0.06152062444118754,0.06144328724606677,0.06189065144248259,0.062178943225928276,0.06118859992374349,0.06044589149982981,0.06171044064954552,0.06214829753599076,0.05994341545205235,0.06207694588815363,0.06193816904014774,0.060182832884052864,0.06212628735532024,0.06194914793186855],\"type\":\"scatter\",\"xaxis\":\"x7\",\"yaxis\":\"y7\"},{\"marker\":{\"color\":[0,1,2,3,4,5,6,7,8,9,11,12,13,14,15,16,17,19],\"colorbar\":{\"title\":{\"text\":\"Trial\"},\"x\":1.0,\"xpad\":40},\"colorscale\":[[0.0,\"rgb(247,251,255)\"],[0.125,\"rgb(222,235,247)\"],[0.25,\"rgb(198,219,239)\"],[0.375,\"rgb(158,202,225)\"],[0.5,\"rgb(107,174,214)\"],[0.625,\"rgb(66,146,198)\"],[0.75,\"rgb(33,113,181)\"],[0.875,\"rgb(8,81,156)\"],[1.0,\"rgb(8,48,107)\"]],\"line\":{\"color\":\"Grey\",\"width\":0.5},\"showscale\":false},\"mode\":\"markers\",\"name\":\"Feasible Trial\",\"showlegend\":false,\"x\":[0.025023214903676663,0.0022752231103094597,0.08706572980699837,0.007376084112197694,0.004401175676299696,0.00021715243923436486,0.00014366343578445047,0.0009197123431035817,0.003022445656245815,0.6542437111748842,0.02087549135224905,0.0010823537159121975,0.0007186794218985551,0.0006222498043822534,0.0013555249016922058,0.00025982178696125027,0.015257382056950857,0.0012799093913154961],\"y\":[0.06136887426225632,0.06170810172643119,0.06185571921328157,0.062103219196559555,0.06152062444118754,0.06144328724606677,0.06189065144248259,0.062178943225928276,0.06118859992374349,0.06044589149982981,0.06171044064954552,0.06214829753599076,0.05994341545205235,0.06207694588815363,0.06193816904014774,0.060182832884052864,0.06212628735532024,0.06194914793186855],\"type\":\"scatter\",\"xaxis\":\"x8\",\"yaxis\":\"y8\"},{\"marker\":{\"color\":[0,1,2,3,4,5,6,7,8,9,11,12,13,14,15,16,17,19],\"colorbar\":{\"title\":{\"text\":\"Trial\"},\"x\":1.0,\"xpad\":40},\"colorscale\":[[0.0,\"rgb(247,251,255)\"],[0.125,\"rgb(222,235,247)\"],[0.25,\"rgb(198,219,239)\"],[0.375,\"rgb(158,202,225)\"],[0.5,\"rgb(107,174,214)\"],[0.625,\"rgb(66,146,198)\"],[0.75,\"rgb(33,113,181)\"],[0.875,\"rgb(8,81,156)\"],[1.0,\"rgb(8,48,107)\"]],\"line\":{\"color\":\"Grey\",\"width\":0.5},\"showscale\":false},\"mode\":\"markers\",\"name\":\"Feasible Trial\",\"showlegend\":false,\"x\":[0.00032304430486128816,0.7839803659107626,0.002481032235433467,0.1717949848385499,0.14085721790373446,0.002118124504148407,0.03157604454835497,0.0011313356057390397,0.018641859667852978,0.004971768847976937,0.9995279404889728,0.15015363613880733,0.0005173345825077994,0.0949949009787005,0.0012530426165400224,0.009180078159656565,0.04903907345736138,0.0006039821476054801],\"y\":[0.06136887426225632,0.06170810172643119,0.06185571921328157,0.062103219196559555,0.06152062444118754,0.06144328724606677,0.06189065144248259,0.062178943225928276,0.06118859992374349,0.06044589149982981,0.06171044064954552,0.06214829753599076,0.05994341545205235,0.06207694588815363,0.06193816904014774,0.060182832884052864,0.06212628735532024,0.06194914793186855],\"type\":\"scatter\",\"xaxis\":\"x9\",\"yaxis\":\"y9\"}],                        {\"template\":{\"data\":{\"histogram2dcontour\":[{\"type\":\"histogram2dcontour\",\"colorbar\":{\"outlinewidth\":0,\"ticks\":\"\"},\"colorscale\":[[0.0,\"#0d0887\"],[0.1111111111111111,\"#46039f\"],[0.2222222222222222,\"#7201a8\"],[0.3333333333333333,\"#9c179e\"],[0.4444444444444444,\"#bd3786\"],[0.5555555555555556,\"#d8576b\"],[0.6666666666666666,\"#ed7953\"],[0.7777777777777778,\"#fb9f3a\"],[0.8888888888888888,\"#fdca26\"],[1.0,\"#f0f921\"]]}],\"choropleth\":[{\"type\":\"choropleth\",\"colorbar\":{\"outlinewidth\":0,\"ticks\":\"\"}}],\"histogram2d\":[{\"type\":\"histogram2d\",\"colorbar\":{\"outlinewidth\":0,\"ticks\":\"\"},\"colorscale\":[[0.0,\"#0d0887\"],[0.1111111111111111,\"#46039f\"],[0.2222222222222222,\"#7201a8\"],[0.3333333333333333,\"#9c179e\"],[0.4444444444444444,\"#bd3786\"],[0.5555555555555556,\"#d8576b\"],[0.6666666666666666,\"#ed7953\"],[0.7777777777777778,\"#fb9f3a\"],[0.8888888888888888,\"#fdca26\"],[1.0,\"#f0f921\"]]}],\"heatmap\":[{\"type\":\"heatmap\",\"colorbar\":{\"outlinewidth\":0,\"ticks\":\"\"},\"colorscale\":[[0.0,\"#0d0887\"],[0.1111111111111111,\"#46039f\"],[0.2222222222222222,\"#7201a8\"],[0.3333333333333333,\"#9c179e\"],[0.4444444444444444,\"#bd3786\"],[0.5555555555555556,\"#d8576b\"],[0.6666666666666666,\"#ed7953\"],[0.7777777777777778,\"#fb9f3a\"],[0.8888888888888888,\"#fdca26\"],[1.0,\"#f0f921\"]]}],\"heatmapgl\":[{\"type\":\"heatmapgl\",\"colorbar\":{\"outlinewidth\":0,\"ticks\":\"\"},\"colorscale\":[[0.0,\"#0d0887\"],[0.1111111111111111,\"#46039f\"],[0.2222222222222222,\"#7201a8\"],[0.3333333333333333,\"#9c179e\"],[0.4444444444444444,\"#bd3786\"],[0.5555555555555556,\"#d8576b\"],[0.6666666666666666,\"#ed7953\"],[0.7777777777777778,\"#fb9f3a\"],[0.8888888888888888,\"#fdca26\"],[1.0,\"#f0f921\"]]}],\"contourcarpet\":[{\"type\":\"contourcarpet\",\"colorbar\":{\"outlinewidth\":0,\"ticks\":\"\"}}],\"contour\":[{\"type\":\"contour\",\"colorbar\":{\"outlinewidth\":0,\"ticks\":\"\"},\"colorscale\":[[0.0,\"#0d0887\"],[0.1111111111111111,\"#46039f\"],[0.2222222222222222,\"#7201a8\"],[0.3333333333333333,\"#9c179e\"],[0.4444444444444444,\"#bd3786\"],[0.5555555555555556,\"#d8576b\"],[0.6666666666666666,\"#ed7953\"],[0.7777777777777778,\"#fb9f3a\"],[0.8888888888888888,\"#fdca26\"],[1.0,\"#f0f921\"]]}],\"surface\":[{\"type\":\"surface\",\"colorbar\":{\"outlinewidth\":0,\"ticks\":\"\"},\"colorscale\":[[0.0,\"#0d0887\"],[0.1111111111111111,\"#46039f\"],[0.2222222222222222,\"#7201a8\"],[0.3333333333333333,\"#9c179e\"],[0.4444444444444444,\"#bd3786\"],[0.5555555555555556,\"#d8576b\"],[0.6666666666666666,\"#ed7953\"],[0.7777777777777778,\"#fb9f3a\"],[0.8888888888888888,\"#fdca26\"],[1.0,\"#f0f921\"]]}],\"mesh3d\":[{\"type\":\"mesh3d\",\"colorbar\":{\"outlinewidth\":0,\"ticks\":\"\"}}],\"scatter\":[{\"fillpattern\":{\"fillmode\":\"overlay\",\"size\":10,\"solidity\":0.2},\"type\":\"scatter\"}],\"parcoords\":[{\"type\":\"parcoords\",\"line\":{\"colorbar\":{\"outlinewidth\":0,\"ticks\":\"\"}}}],\"scatterpolargl\":[{\"type\":\"scatterpolargl\",\"marker\":{\"colorbar\":{\"outlinewidth\":0,\"ticks\":\"\"}}}],\"bar\":[{\"error_x\":{\"color\":\"#2a3f5f\"},\"error_y\":{\"color\":\"#2a3f5f\"},\"marker\":{\"line\":{\"color\":\"#E5ECF6\",\"width\":0.5},\"pattern\":{\"fillmode\":\"overlay\",\"size\":10,\"solidity\":0.2}},\"type\":\"bar\"}],\"scattergeo\":[{\"type\":\"scattergeo\",\"marker\":{\"colorbar\":{\"outlinewidth\":0,\"ticks\":\"\"}}}],\"scatterpolar\":[{\"type\":\"scatterpolar\",\"marker\":{\"colorbar\":{\"outlinewidth\":0,\"ticks\":\"\"}}}],\"histogram\":[{\"marker\":{\"pattern\":{\"fillmode\":\"overlay\",\"size\":10,\"solidity\":0.2}},\"type\":\"histogram\"}],\"scattergl\":[{\"type\":\"scattergl\",\"marker\":{\"colorbar\":{\"outlinewidth\":0,\"ticks\":\"\"}}}],\"scatter3d\":[{\"type\":\"scatter3d\",\"line\":{\"colorbar\":{\"outlinewidth\":0,\"ticks\":\"\"}},\"marker\":{\"colorbar\":{\"outlinewidth\":0,\"ticks\":\"\"}}}],\"scattermapbox\":[{\"type\":\"scattermapbox\",\"marker\":{\"colorbar\":{\"outlinewidth\":0,\"ticks\":\"\"}}}],\"scatterternary\":[{\"type\":\"scatterternary\",\"marker\":{\"colorbar\":{\"outlinewidth\":0,\"ticks\":\"\"}}}],\"scattercarpet\":[{\"type\":\"scattercarpet\",\"marker\":{\"colorbar\":{\"outlinewidth\":0,\"ticks\":\"\"}}}],\"carpet\":[{\"aaxis\":{\"endlinecolor\":\"#2a3f5f\",\"gridcolor\":\"white\",\"linecolor\":\"white\",\"minorgridcolor\":\"white\",\"startlinecolor\":\"#2a3f5f\"},\"baxis\":{\"endlinecolor\":\"#2a3f5f\",\"gridcolor\":\"white\",\"linecolor\":\"white\",\"minorgridcolor\":\"white\",\"startlinecolor\":\"#2a3f5f\"},\"type\":\"carpet\"}],\"table\":[{\"cells\":{\"fill\":{\"color\":\"#EBF0F8\"},\"line\":{\"color\":\"white\"}},\"header\":{\"fill\":{\"color\":\"#C8D4E3\"},\"line\":{\"color\":\"white\"}},\"type\":\"table\"}],\"barpolar\":[{\"marker\":{\"line\":{\"color\":\"#E5ECF6\",\"width\":0.5},\"pattern\":{\"fillmode\":\"overlay\",\"size\":10,\"solidity\":0.2}},\"type\":\"barpolar\"}],\"pie\":[{\"automargin\":true,\"type\":\"pie\"}]},\"layout\":{\"autotypenumbers\":\"strict\",\"colorway\":[\"#636efa\",\"#EF553B\",\"#00cc96\",\"#ab63fa\",\"#FFA15A\",\"#19d3f3\",\"#FF6692\",\"#B6E880\",\"#FF97FF\",\"#FECB52\"],\"font\":{\"color\":\"#2a3f5f\"},\"hovermode\":\"closest\",\"hoverlabel\":{\"align\":\"left\"},\"paper_bgcolor\":\"white\",\"plot_bgcolor\":\"#E5ECF6\",\"polar\":{\"bgcolor\":\"#E5ECF6\",\"angularaxis\":{\"gridcolor\":\"white\",\"linecolor\":\"white\",\"ticks\":\"\"},\"radialaxis\":{\"gridcolor\":\"white\",\"linecolor\":\"white\",\"ticks\":\"\"}},\"ternary\":{\"bgcolor\":\"#E5ECF6\",\"aaxis\":{\"gridcolor\":\"white\",\"linecolor\":\"white\",\"ticks\":\"\"},\"baxis\":{\"gridcolor\":\"white\",\"linecolor\":\"white\",\"ticks\":\"\"},\"caxis\":{\"gridcolor\":\"white\",\"linecolor\":\"white\",\"ticks\":\"\"}},\"coloraxis\":{\"colorbar\":{\"outlinewidth\":0,\"ticks\":\"\"}},\"colorscale\":{\"sequential\":[[0.0,\"#0d0887\"],[0.1111111111111111,\"#46039f\"],[0.2222222222222222,\"#7201a8\"],[0.3333333333333333,\"#9c179e\"],[0.4444444444444444,\"#bd3786\"],[0.5555555555555556,\"#d8576b\"],[0.6666666666666666,\"#ed7953\"],[0.7777777777777778,\"#fb9f3a\"],[0.8888888888888888,\"#fdca26\"],[1.0,\"#f0f921\"]],\"sequentialminus\":[[0.0,\"#0d0887\"],[0.1111111111111111,\"#46039f\"],[0.2222222222222222,\"#7201a8\"],[0.3333333333333333,\"#9c179e\"],[0.4444444444444444,\"#bd3786\"],[0.5555555555555556,\"#d8576b\"],[0.6666666666666666,\"#ed7953\"],[0.7777777777777778,\"#fb9f3a\"],[0.8888888888888888,\"#fdca26\"],[1.0,\"#f0f921\"]],\"diverging\":[[0,\"#8e0152\"],[0.1,\"#c51b7d\"],[0.2,\"#de77ae\"],[0.3,\"#f1b6da\"],[0.4,\"#fde0ef\"],[0.5,\"#f7f7f7\"],[0.6,\"#e6f5d0\"],[0.7,\"#b8e186\"],[0.8,\"#7fbc41\"],[0.9,\"#4d9221\"],[1,\"#276419\"]]},\"xaxis\":{\"gridcolor\":\"white\",\"linecolor\":\"white\",\"ticks\":\"\",\"title\":{\"standoff\":15},\"zerolinecolor\":\"white\",\"automargin\":true,\"zerolinewidth\":2},\"yaxis\":{\"gridcolor\":\"white\",\"linecolor\":\"white\",\"ticks\":\"\",\"title\":{\"standoff\":15},\"zerolinecolor\":\"white\",\"automargin\":true,\"zerolinewidth\":2},\"scene\":{\"xaxis\":{\"backgroundcolor\":\"#E5ECF6\",\"gridcolor\":\"white\",\"linecolor\":\"white\",\"showbackground\":true,\"ticks\":\"\",\"zerolinecolor\":\"white\",\"gridwidth\":2},\"yaxis\":{\"backgroundcolor\":\"#E5ECF6\",\"gridcolor\":\"white\",\"linecolor\":\"white\",\"showbackground\":true,\"ticks\":\"\",\"zerolinecolor\":\"white\",\"gridwidth\":2},\"zaxis\":{\"backgroundcolor\":\"#E5ECF6\",\"gridcolor\":\"white\",\"linecolor\":\"white\",\"showbackground\":true,\"ticks\":\"\",\"zerolinecolor\":\"white\",\"gridwidth\":2}},\"shapedefaults\":{\"line\":{\"color\":\"#2a3f5f\"}},\"annotationdefaults\":{\"arrowcolor\":\"#2a3f5f\",\"arrowhead\":0,\"arrowwidth\":1},\"geo\":{\"bgcolor\":\"white\",\"landcolor\":\"#E5ECF6\",\"subunitcolor\":\"white\",\"showland\":true,\"showlakes\":true,\"lakecolor\":\"white\"},\"title\":{\"x\":0.05},\"mapbox\":{\"style\":\"light\"}}},\"xaxis\":{\"anchor\":\"y\",\"domain\":[0.0,0.09135802469135802],\"title\":{\"text\":\"booster\"},\"type\":\"category\",\"categoryorder\":\"array\",\"categoryarray\":[\"gbtree\",\"dart\"]},\"yaxis\":{\"anchor\":\"x\",\"domain\":[0.0,1.0],\"title\":{\"text\":\"Objective Value\"}},\"xaxis2\":{\"anchor\":\"y2\",\"domain\":[0.11358024691358025,0.20493827160493827],\"title\":{\"text\":\"grow_policy\"},\"type\":\"category\",\"categoryorder\":\"array\",\"categoryarray\":[\"depthwise\",\"lossguide\"]},\"yaxis2\":{\"anchor\":\"x2\",\"domain\":[0.0,1.0],\"matches\":\"y\",\"showticklabels\":false},\"xaxis3\":{\"anchor\":\"y3\",\"domain\":[0.2271604938271605,0.31851851851851853],\"title\":{\"text\":\"learning_rate\"},\"type\":\"log\"},\"yaxis3\":{\"anchor\":\"x3\",\"domain\":[0.0,1.0],\"matches\":\"y\",\"showticklabels\":false},\"xaxis4\":{\"anchor\":\"y4\",\"domain\":[0.34074074074074073,0.43209876543209874],\"title\":{\"text\":\"max_depth\"}},\"yaxis4\":{\"anchor\":\"x4\",\"domain\":[0.0,1.0],\"matches\":\"y\",\"showticklabels\":false},\"xaxis5\":{\"anchor\":\"y5\",\"domain\":[0.454320987654321,0.5456790123456791],\"title\":{\"text\":\"max_leaves\"}},\"yaxis5\":{\"anchor\":\"x5\",\"domain\":[0.0,1.0],\"matches\":\"y\",\"showticklabels\":false},\"xaxis6\":{\"anchor\":\"y6\",\"domain\":[0.5679012345679012,0.6592592592592592],\"title\":{\"text\":\"n_estimators\"}},\"yaxis6\":{\"anchor\":\"x6\",\"domain\":[0.0,1.0],\"matches\":\"y\",\"showticklabels\":false},\"xaxis7\":{\"anchor\":\"y7\",\"domain\":[0.6814814814814815,0.7728395061728395],\"title\":{\"text\":\"objective\"},\"type\":\"category\",\"categoryorder\":\"array\",\"categoryarray\":[\"map\",\"pairwise\",\"ndcg\"]},\"yaxis7\":{\"anchor\":\"x7\",\"domain\":[0.0,1.0],\"matches\":\"y\",\"showticklabels\":false},\"xaxis8\":{\"anchor\":\"y8\",\"domain\":[0.7950617283950617,0.8864197530864197],\"title\":{\"text\":\"reg_alpha\"},\"type\":\"log\"},\"yaxis8\":{\"anchor\":\"x8\",\"domain\":[0.0,1.0],\"matches\":\"y\",\"showticklabels\":false},\"xaxis9\":{\"anchor\":\"y9\",\"domain\":[0.908641975308642,1.0],\"title\":{\"text\":\"reg_lambda\"},\"type\":\"log\"},\"yaxis9\":{\"anchor\":\"x9\",\"domain\":[0.0,1.0],\"matches\":\"y\",\"showticklabels\":false},\"title\":{\"text\":\"Slice Plot\"},\"width\":2700},                        {\"responsive\": true}                    ).then(function(){\n",
       "                            \n",
       "var gd = document.getElementById('3685fa9f-7f53-4380-aaab-d06357fbf658');\n",
       "var x = new MutationObserver(function (mutations, observer) {{\n",
       "        var display = window.getComputedStyle(gd).display;\n",
       "        if (!display || display === 'none') {{\n",
       "            console.log([gd, 'removed!']);\n",
       "            Plotly.purge(gd);\n",
       "            observer.disconnect();\n",
       "        }}\n",
       "}});\n",
       "\n",
       "// Listen for the removal of the full notebook cells\n",
       "var notebookContainer = gd.closest('#notebook-container');\n",
       "if (notebookContainer) {{\n",
       "    x.observe(notebookContainer, {childList: true});\n",
       "}}\n",
       "\n",
       "// Listen for the clearing of the current output cell\n",
       "var outputEl = gd.closest('.output');\n",
       "if (outputEl) {{\n",
       "    x.observe(outputEl, {childList: true});\n",
       "}}\n",
       "\n",
       "                        })                };                            </script>        </div>\n",
       "</body>\n",
       "</html>"
      ]
     },
     "metadata": {},
     "output_type": "display_data"
    }
   ],
   "source": [
    "if not config['tune_parameters']:\n",
    "    optuna_study = optuna.load_study(study_name=f'hyperparameters_tuning_{config[\"model\"]}_{config[\"metric\"]}', storage=f'sqlite:///{config[\"database_path\"]}')\n",
    "    \n",
    "fig = optuna.visualization.plot_slice(optuna_study)\n",
    "fig.show()"
   ]
  },
  {
   "cell_type": "code",
   "execution_count": 23,
   "id": "331e7235",
   "metadata": {
    "execution": {
     "iopub.execute_input": "2025-01-06T18:52:50.663095Z",
     "iopub.status.busy": "2025-01-06T18:52:50.662614Z",
     "iopub.status.idle": "2025-01-06T18:52:51.052005Z",
     "shell.execute_reply": "2025-01-06T18:52:51.050924Z"
    },
    "papermill": {
     "duration": 0.415631,
     "end_time": "2025-01-06T18:52:51.053909",
     "exception": false,
     "start_time": "2025-01-06T18:52:50.638278",
     "status": "completed"
    },
    "tags": []
   },
   "outputs": [
    {
     "data": {
      "text/html": [
       "<html>\n",
       "<head><meta charset=\"utf-8\" /></head>\n",
       "<body>\n",
       "    <div>            <script src=\"https://cdnjs.cloudflare.com/ajax/libs/mathjax/2.7.5/MathJax.js?config=TeX-AMS-MML_SVG\"></script><script type=\"text/javascript\">if (window.MathJax && window.MathJax.Hub && window.MathJax.Hub.Config) {window.MathJax.Hub.Config({SVG: {font: \"STIX-Web\"}});}</script>                <script type=\"text/javascript\">window.PlotlyConfig = {MathJaxConfig: 'local'};</script>\n",
       "        <script charset=\"utf-8\" src=\"https://cdn.plot.ly/plotly-2.35.2.min.js\"></script>                <div id=\"94a1c935-7d1a-460f-99f2-00e7320700ea\" class=\"plotly-graph-div\" style=\"height:525px; width:100%;\"></div>            <script type=\"text/javascript\">                                    window.PLOTLYENV=window.PLOTLYENV || {};                                    if (document.getElementById(\"94a1c935-7d1a-460f-99f2-00e7320700ea\")) {                    Plotly.newPlot(                        \"94a1c935-7d1a-460f-99f2-00e7320700ea\",                        [{\"cliponaxis\":false,\"hovertemplate\":[\"booster (CategoricalDistribution): 0.016430324119706203\\u003cextra\\u003e\\u003c\\u002fextra\\u003e\",\"objective (CategoricalDistribution): 0.025553158663464224\\u003cextra\\u003e\\u003c\\u002fextra\\u003e\",\"reg_alpha (FloatDistribution): 0.03842749097946264\\u003cextra\\u003e\\u003c\\u002fextra\\u003e\",\"reg_lambda (FloatDistribution): 0.0436037968073858\\u003cextra\\u003e\\u003c\\u002fextra\\u003e\",\"max_leaves (IntDistribution): 0.044341875999703\\u003cextra\\u003e\\u003c\\u002fextra\\u003e\",\"grow_policy (CategoricalDistribution): 0.044729224752399245\\u003cextra\\u003e\\u003c\\u002fextra\\u003e\",\"max_depth (IntDistribution): 0.13355724926883883\\u003cextra\\u003e\\u003c\\u002fextra\\u003e\",\"n_estimators (IntDistribution): 0.222325434009383\\u003cextra\\u003e\\u003c\\u002fextra\\u003e\",\"learning_rate (FloatDistribution): 0.431031445399657\\u003cextra\\u003e\\u003c\\u002fextra\\u003e\"],\"name\":\"Objective Value\",\"orientation\":\"h\",\"text\":[\"0.02\",\"0.03\",\"0.04\",\"0.04\",\"0.04\",\"0.04\",\"0.13\",\"0.22\",\"0.43\"],\"textposition\":\"outside\",\"x\":[0.016430324119706203,0.025553158663464224,0.03842749097946264,0.0436037968073858,0.044341875999703,0.044729224752399245,0.13355724926883883,0.222325434009383,0.431031445399657],\"y\":[\"booster\",\"objective\",\"reg_alpha\",\"reg_lambda\",\"max_leaves\",\"grow_policy\",\"max_depth\",\"n_estimators\",\"learning_rate\"],\"type\":\"bar\"}],                        {\"title\":{\"text\":\"Hyperparameter Importances\"},\"xaxis\":{\"title\":{\"text\":\"Hyperparameter Importance\"}},\"yaxis\":{\"title\":{\"text\":\"Hyperparameter\"}},\"template\":{\"data\":{\"histogram2dcontour\":[{\"type\":\"histogram2dcontour\",\"colorbar\":{\"outlinewidth\":0,\"ticks\":\"\"},\"colorscale\":[[0.0,\"#0d0887\"],[0.1111111111111111,\"#46039f\"],[0.2222222222222222,\"#7201a8\"],[0.3333333333333333,\"#9c179e\"],[0.4444444444444444,\"#bd3786\"],[0.5555555555555556,\"#d8576b\"],[0.6666666666666666,\"#ed7953\"],[0.7777777777777778,\"#fb9f3a\"],[0.8888888888888888,\"#fdca26\"],[1.0,\"#f0f921\"]]}],\"choropleth\":[{\"type\":\"choropleth\",\"colorbar\":{\"outlinewidth\":0,\"ticks\":\"\"}}],\"histogram2d\":[{\"type\":\"histogram2d\",\"colorbar\":{\"outlinewidth\":0,\"ticks\":\"\"},\"colorscale\":[[0.0,\"#0d0887\"],[0.1111111111111111,\"#46039f\"],[0.2222222222222222,\"#7201a8\"],[0.3333333333333333,\"#9c179e\"],[0.4444444444444444,\"#bd3786\"],[0.5555555555555556,\"#d8576b\"],[0.6666666666666666,\"#ed7953\"],[0.7777777777777778,\"#fb9f3a\"],[0.8888888888888888,\"#fdca26\"],[1.0,\"#f0f921\"]]}],\"heatmap\":[{\"type\":\"heatmap\",\"colorbar\":{\"outlinewidth\":0,\"ticks\":\"\"},\"colorscale\":[[0.0,\"#0d0887\"],[0.1111111111111111,\"#46039f\"],[0.2222222222222222,\"#7201a8\"],[0.3333333333333333,\"#9c179e\"],[0.4444444444444444,\"#bd3786\"],[0.5555555555555556,\"#d8576b\"],[0.6666666666666666,\"#ed7953\"],[0.7777777777777778,\"#fb9f3a\"],[0.8888888888888888,\"#fdca26\"],[1.0,\"#f0f921\"]]}],\"heatmapgl\":[{\"type\":\"heatmapgl\",\"colorbar\":{\"outlinewidth\":0,\"ticks\":\"\"},\"colorscale\":[[0.0,\"#0d0887\"],[0.1111111111111111,\"#46039f\"],[0.2222222222222222,\"#7201a8\"],[0.3333333333333333,\"#9c179e\"],[0.4444444444444444,\"#bd3786\"],[0.5555555555555556,\"#d8576b\"],[0.6666666666666666,\"#ed7953\"],[0.7777777777777778,\"#fb9f3a\"],[0.8888888888888888,\"#fdca26\"],[1.0,\"#f0f921\"]]}],\"contourcarpet\":[{\"type\":\"contourcarpet\",\"colorbar\":{\"outlinewidth\":0,\"ticks\":\"\"}}],\"contour\":[{\"type\":\"contour\",\"colorbar\":{\"outlinewidth\":0,\"ticks\":\"\"},\"colorscale\":[[0.0,\"#0d0887\"],[0.1111111111111111,\"#46039f\"],[0.2222222222222222,\"#7201a8\"],[0.3333333333333333,\"#9c179e\"],[0.4444444444444444,\"#bd3786\"],[0.5555555555555556,\"#d8576b\"],[0.6666666666666666,\"#ed7953\"],[0.7777777777777778,\"#fb9f3a\"],[0.8888888888888888,\"#fdca26\"],[1.0,\"#f0f921\"]]}],\"surface\":[{\"type\":\"surface\",\"colorbar\":{\"outlinewidth\":0,\"ticks\":\"\"},\"colorscale\":[[0.0,\"#0d0887\"],[0.1111111111111111,\"#46039f\"],[0.2222222222222222,\"#7201a8\"],[0.3333333333333333,\"#9c179e\"],[0.4444444444444444,\"#bd3786\"],[0.5555555555555556,\"#d8576b\"],[0.6666666666666666,\"#ed7953\"],[0.7777777777777778,\"#fb9f3a\"],[0.8888888888888888,\"#fdca26\"],[1.0,\"#f0f921\"]]}],\"mesh3d\":[{\"type\":\"mesh3d\",\"colorbar\":{\"outlinewidth\":0,\"ticks\":\"\"}}],\"scatter\":[{\"fillpattern\":{\"fillmode\":\"overlay\",\"size\":10,\"solidity\":0.2},\"type\":\"scatter\"}],\"parcoords\":[{\"type\":\"parcoords\",\"line\":{\"colorbar\":{\"outlinewidth\":0,\"ticks\":\"\"}}}],\"scatterpolargl\":[{\"type\":\"scatterpolargl\",\"marker\":{\"colorbar\":{\"outlinewidth\":0,\"ticks\":\"\"}}}],\"bar\":[{\"error_x\":{\"color\":\"#2a3f5f\"},\"error_y\":{\"color\":\"#2a3f5f\"},\"marker\":{\"line\":{\"color\":\"#E5ECF6\",\"width\":0.5},\"pattern\":{\"fillmode\":\"overlay\",\"size\":10,\"solidity\":0.2}},\"type\":\"bar\"}],\"scattergeo\":[{\"type\":\"scattergeo\",\"marker\":{\"colorbar\":{\"outlinewidth\":0,\"ticks\":\"\"}}}],\"scatterpolar\":[{\"type\":\"scatterpolar\",\"marker\":{\"colorbar\":{\"outlinewidth\":0,\"ticks\":\"\"}}}],\"histogram\":[{\"marker\":{\"pattern\":{\"fillmode\":\"overlay\",\"size\":10,\"solidity\":0.2}},\"type\":\"histogram\"}],\"scattergl\":[{\"type\":\"scattergl\",\"marker\":{\"colorbar\":{\"outlinewidth\":0,\"ticks\":\"\"}}}],\"scatter3d\":[{\"type\":\"scatter3d\",\"line\":{\"colorbar\":{\"outlinewidth\":0,\"ticks\":\"\"}},\"marker\":{\"colorbar\":{\"outlinewidth\":0,\"ticks\":\"\"}}}],\"scattermapbox\":[{\"type\":\"scattermapbox\",\"marker\":{\"colorbar\":{\"outlinewidth\":0,\"ticks\":\"\"}}}],\"scatterternary\":[{\"type\":\"scatterternary\",\"marker\":{\"colorbar\":{\"outlinewidth\":0,\"ticks\":\"\"}}}],\"scattercarpet\":[{\"type\":\"scattercarpet\",\"marker\":{\"colorbar\":{\"outlinewidth\":0,\"ticks\":\"\"}}}],\"carpet\":[{\"aaxis\":{\"endlinecolor\":\"#2a3f5f\",\"gridcolor\":\"white\",\"linecolor\":\"white\",\"minorgridcolor\":\"white\",\"startlinecolor\":\"#2a3f5f\"},\"baxis\":{\"endlinecolor\":\"#2a3f5f\",\"gridcolor\":\"white\",\"linecolor\":\"white\",\"minorgridcolor\":\"white\",\"startlinecolor\":\"#2a3f5f\"},\"type\":\"carpet\"}],\"table\":[{\"cells\":{\"fill\":{\"color\":\"#EBF0F8\"},\"line\":{\"color\":\"white\"}},\"header\":{\"fill\":{\"color\":\"#C8D4E3\"},\"line\":{\"color\":\"white\"}},\"type\":\"table\"}],\"barpolar\":[{\"marker\":{\"line\":{\"color\":\"#E5ECF6\",\"width\":0.5},\"pattern\":{\"fillmode\":\"overlay\",\"size\":10,\"solidity\":0.2}},\"type\":\"barpolar\"}],\"pie\":[{\"automargin\":true,\"type\":\"pie\"}]},\"layout\":{\"autotypenumbers\":\"strict\",\"colorway\":[\"#636efa\",\"#EF553B\",\"#00cc96\",\"#ab63fa\",\"#FFA15A\",\"#19d3f3\",\"#FF6692\",\"#B6E880\",\"#FF97FF\",\"#FECB52\"],\"font\":{\"color\":\"#2a3f5f\"},\"hovermode\":\"closest\",\"hoverlabel\":{\"align\":\"left\"},\"paper_bgcolor\":\"white\",\"plot_bgcolor\":\"#E5ECF6\",\"polar\":{\"bgcolor\":\"#E5ECF6\",\"angularaxis\":{\"gridcolor\":\"white\",\"linecolor\":\"white\",\"ticks\":\"\"},\"radialaxis\":{\"gridcolor\":\"white\",\"linecolor\":\"white\",\"ticks\":\"\"}},\"ternary\":{\"bgcolor\":\"#E5ECF6\",\"aaxis\":{\"gridcolor\":\"white\",\"linecolor\":\"white\",\"ticks\":\"\"},\"baxis\":{\"gridcolor\":\"white\",\"linecolor\":\"white\",\"ticks\":\"\"},\"caxis\":{\"gridcolor\":\"white\",\"linecolor\":\"white\",\"ticks\":\"\"}},\"coloraxis\":{\"colorbar\":{\"outlinewidth\":0,\"ticks\":\"\"}},\"colorscale\":{\"sequential\":[[0.0,\"#0d0887\"],[0.1111111111111111,\"#46039f\"],[0.2222222222222222,\"#7201a8\"],[0.3333333333333333,\"#9c179e\"],[0.4444444444444444,\"#bd3786\"],[0.5555555555555556,\"#d8576b\"],[0.6666666666666666,\"#ed7953\"],[0.7777777777777778,\"#fb9f3a\"],[0.8888888888888888,\"#fdca26\"],[1.0,\"#f0f921\"]],\"sequentialminus\":[[0.0,\"#0d0887\"],[0.1111111111111111,\"#46039f\"],[0.2222222222222222,\"#7201a8\"],[0.3333333333333333,\"#9c179e\"],[0.4444444444444444,\"#bd3786\"],[0.5555555555555556,\"#d8576b\"],[0.6666666666666666,\"#ed7953\"],[0.7777777777777778,\"#fb9f3a\"],[0.8888888888888888,\"#fdca26\"],[1.0,\"#f0f921\"]],\"diverging\":[[0,\"#8e0152\"],[0.1,\"#c51b7d\"],[0.2,\"#de77ae\"],[0.3,\"#f1b6da\"],[0.4,\"#fde0ef\"],[0.5,\"#f7f7f7\"],[0.6,\"#e6f5d0\"],[0.7,\"#b8e186\"],[0.8,\"#7fbc41\"],[0.9,\"#4d9221\"],[1,\"#276419\"]]},\"xaxis\":{\"gridcolor\":\"white\",\"linecolor\":\"white\",\"ticks\":\"\",\"title\":{\"standoff\":15},\"zerolinecolor\":\"white\",\"automargin\":true,\"zerolinewidth\":2},\"yaxis\":{\"gridcolor\":\"white\",\"linecolor\":\"white\",\"ticks\":\"\",\"title\":{\"standoff\":15},\"zerolinecolor\":\"white\",\"automargin\":true,\"zerolinewidth\":2},\"scene\":{\"xaxis\":{\"backgroundcolor\":\"#E5ECF6\",\"gridcolor\":\"white\",\"linecolor\":\"white\",\"showbackground\":true,\"ticks\":\"\",\"zerolinecolor\":\"white\",\"gridwidth\":2},\"yaxis\":{\"backgroundcolor\":\"#E5ECF6\",\"gridcolor\":\"white\",\"linecolor\":\"white\",\"showbackground\":true,\"ticks\":\"\",\"zerolinecolor\":\"white\",\"gridwidth\":2},\"zaxis\":{\"backgroundcolor\":\"#E5ECF6\",\"gridcolor\":\"white\",\"linecolor\":\"white\",\"showbackground\":true,\"ticks\":\"\",\"zerolinecolor\":\"white\",\"gridwidth\":2}},\"shapedefaults\":{\"line\":{\"color\":\"#2a3f5f\"}},\"annotationdefaults\":{\"arrowcolor\":\"#2a3f5f\",\"arrowhead\":0,\"arrowwidth\":1},\"geo\":{\"bgcolor\":\"white\",\"landcolor\":\"#E5ECF6\",\"subunitcolor\":\"white\",\"showland\":true,\"showlakes\":true,\"lakecolor\":\"white\"},\"title\":{\"x\":0.05},\"mapbox\":{\"style\":\"light\"}}}},                        {\"responsive\": true}                    ).then(function(){\n",
       "                            \n",
       "var gd = document.getElementById('94a1c935-7d1a-460f-99f2-00e7320700ea');\n",
       "var x = new MutationObserver(function (mutations, observer) {{\n",
       "        var display = window.getComputedStyle(gd).display;\n",
       "        if (!display || display === 'none') {{\n",
       "            console.log([gd, 'removed!']);\n",
       "            Plotly.purge(gd);\n",
       "            observer.disconnect();\n",
       "        }}\n",
       "}});\n",
       "\n",
       "// Listen for the removal of the full notebook cells\n",
       "var notebookContainer = gd.closest('#notebook-container');\n",
       "if (notebookContainer) {{\n",
       "    x.observe(notebookContainer, {childList: true});\n",
       "}}\n",
       "\n",
       "// Listen for the clearing of the current output cell\n",
       "var outputEl = gd.closest('.output');\n",
       "if (outputEl) {{\n",
       "    x.observe(outputEl, {childList: true});\n",
       "}}\n",
       "\n",
       "                        })                };                            </script>        </div>\n",
       "</body>\n",
       "</html>"
      ]
     },
     "metadata": {},
     "output_type": "display_data"
    }
   ],
   "source": [
    "if not config['tune_parameters']:\n",
    "    optuna_study = optuna.load_study(study_name=f'hyperparameters_tuning_{config[\"model\"]}_{config[\"metric\"]}', storage=f'sqlite:///{config[\"database_path\"]}')\n",
    "    \n",
    "fig = optuna.visualization.plot_param_importances(optuna_study)\n",
    "fig.show()"
   ]
  },
  {
   "cell_type": "markdown",
   "id": "ad16cd47",
   "metadata": {
    "papermill": {
     "duration": 0.022624,
     "end_time": "2025-01-06T18:52:51.100616",
     "exception": false,
     "start_time": "2025-01-06T18:52:51.077992",
     "status": "completed"
    },
    "tags": []
   },
   "source": [
    "# Testing\n",
    "## Prediction dataframe building"
   ]
  },
  {
   "cell_type": "code",
   "execution_count": 24,
   "id": "41ba39cf",
   "metadata": {
    "execution": {
     "iopub.execute_input": "2025-01-06T18:52:51.148306Z",
     "iopub.status.busy": "2025-01-06T18:52:51.147945Z",
     "iopub.status.idle": "2025-01-06T18:52:51.947383Z",
     "shell.execute_reply": "2025-01-06T18:52:51.946046Z"
    },
    "papermill": {
     "duration": 0.82596,
     "end_time": "2025-01-06T18:52:51.949562",
     "exception": false,
     "start_time": "2025-01-06T18:52:51.123602",
     "status": "completed"
    },
    "tags": []
   },
   "outputs": [
    {
     "data": {
      "text/html": [
       "<div>\n",
       "<style scoped>\n",
       "    .dataframe tbody tr th:only-of-type {\n",
       "        vertical-align: middle;\n",
       "    }\n",
       "\n",
       "    .dataframe tbody tr th {\n",
       "        vertical-align: top;\n",
       "    }\n",
       "\n",
       "    .dataframe thead th {\n",
       "        text-align: right;\n",
       "    }\n",
       "</style>\n",
       "<table border=\"1\" class=\"dataframe\">\n",
       "  <thead>\n",
       "    <tr style=\"text-align: right;\">\n",
       "      <th></th>\n",
       "      <th>UserID</th>\n",
       "      <th>ItemID</th>\n",
       "      <th>Label</th>\n",
       "      <th>feature_recommender_count</th>\n",
       "      <th>RP3beta_score</th>\n",
       "      <th>RP3beta_position</th>\n",
       "      <th>P3alpha_score</th>\n",
       "      <th>P3alpha_position</th>\n",
       "      <th>ItemKNNCF_score</th>\n",
       "      <th>ItemKNNCF_position</th>\n",
       "      <th>...</th>\n",
       "      <th>SLIM_BPR_position</th>\n",
       "      <th>Mean_Position</th>\n",
       "      <th>Std_Position</th>\n",
       "      <th>Min_Position</th>\n",
       "      <th>Max_Position</th>\n",
       "      <th>Median_Position</th>\n",
       "      <th>Skew_Position</th>\n",
       "      <th>Kurtosis_Position</th>\n",
       "      <th>item_popularity</th>\n",
       "      <th>user_profile_len</th>\n",
       "    </tr>\n",
       "  </thead>\n",
       "  <tbody>\n",
       "    <tr>\n",
       "      <th>0</th>\n",
       "      <td>0</td>\n",
       "      <td>51.0</td>\n",
       "      <td>False</td>\n",
       "      <td>2</td>\n",
       "      <td>0.774121</td>\n",
       "      <td>6.0</td>\n",
       "      <td>0.788552</td>\n",
       "      <td>4.0</td>\n",
       "      <td>0.286975</td>\n",
       "      <td>41.0</td>\n",
       "      <td>...</td>\n",
       "      <td>38.0</td>\n",
       "      <td>51.833333</td>\n",
       "      <td>33.141112</td>\n",
       "      <td>4.0</td>\n",
       "      <td>89.0</td>\n",
       "      <td>47.5</td>\n",
       "      <td>-0.193114</td>\n",
       "      <td>-1.452967</td>\n",
       "      <td>0.109336</td>\n",
       "      <td>0.020373</td>\n",
       "    </tr>\n",
       "    <tr>\n",
       "      <th>1</th>\n",
       "      <td>0</td>\n",
       "      <td>11966.0</td>\n",
       "      <td>False</td>\n",
       "      <td>7</td>\n",
       "      <td>0.727009</td>\n",
       "      <td>9.0</td>\n",
       "      <td>0.704616</td>\n",
       "      <td>6.0</td>\n",
       "      <td>0.896390</td>\n",
       "      <td>3.0</td>\n",
       "      <td>...</td>\n",
       "      <td>23.0</td>\n",
       "      <td>16.916667</td>\n",
       "      <td>15.506353</td>\n",
       "      <td>3.0</td>\n",
       "      <td>51.0</td>\n",
       "      <td>9.5</td>\n",
       "      <td>1.285972</td>\n",
       "      <td>0.255258</td>\n",
       "      <td>0.032801</td>\n",
       "      <td>0.020373</td>\n",
       "    </tr>\n",
       "    <tr>\n",
       "      <th>2</th>\n",
       "      <td>0</td>\n",
       "      <td>11875.0</td>\n",
       "      <td>False</td>\n",
       "      <td>0</td>\n",
       "      <td>0.226606</td>\n",
       "      <td>71.0</td>\n",
       "      <td>0.199602</td>\n",
       "      <td>64.0</td>\n",
       "      <td>0.234023</td>\n",
       "      <td>49.0</td>\n",
       "      <td>...</td>\n",
       "      <td>22.0</td>\n",
       "      <td>50.333333</td>\n",
       "      <td>22.166040</td>\n",
       "      <td>22.0</td>\n",
       "      <td>92.0</td>\n",
       "      <td>46.5</td>\n",
       "      <td>0.406129</td>\n",
       "      <td>-0.797269</td>\n",
       "      <td>0.021026</td>\n",
       "      <td>0.020373</td>\n",
       "    </tr>\n",
       "    <tr>\n",
       "      <th>3</th>\n",
       "      <td>0</td>\n",
       "      <td>9911.0</td>\n",
       "      <td>False</td>\n",
       "      <td>2</td>\n",
       "      <td>0.192488</td>\n",
       "      <td>77.0</td>\n",
       "      <td>0.168287</td>\n",
       "      <td>71.0</td>\n",
       "      <td>0.411140</td>\n",
       "      <td>32.0</td>\n",
       "      <td>...</td>\n",
       "      <td>32.0</td>\n",
       "      <td>45.000000</td>\n",
       "      <td>27.349589</td>\n",
       "      <td>4.0</td>\n",
       "      <td>84.0</td>\n",
       "      <td>40.5</td>\n",
       "      <td>0.001365</td>\n",
       "      <td>-1.334524</td>\n",
       "      <td>0.016821</td>\n",
       "      <td>0.020373</td>\n",
       "    </tr>\n",
       "    <tr>\n",
       "      <th>4</th>\n",
       "      <td>0</td>\n",
       "      <td>9316.0</td>\n",
       "      <td>False</td>\n",
       "      <td>0</td>\n",
       "      <td>0.254083</td>\n",
       "      <td>61.0</td>\n",
       "      <td>0.251083</td>\n",
       "      <td>47.0</td>\n",
       "      <td>0.000000</td>\n",
       "      <td>92.0</td>\n",
       "      <td>...</td>\n",
       "      <td>93.0</td>\n",
       "      <td>66.000000</td>\n",
       "      <td>22.506565</td>\n",
       "      <td>31.0</td>\n",
       "      <td>95.0</td>\n",
       "      <td>64.0</td>\n",
       "      <td>-0.037929</td>\n",
       "      <td>-1.435534</td>\n",
       "      <td>0.025231</td>\n",
       "      <td>0.020373</td>\n",
       "    </tr>\n",
       "    <tr>\n",
       "      <th>...</th>\n",
       "      <td>...</td>\n",
       "      <td>...</td>\n",
       "      <td>...</td>\n",
       "      <td>...</td>\n",
       "      <td>...</td>\n",
       "      <td>...</td>\n",
       "      <td>...</td>\n",
       "      <td>...</td>\n",
       "      <td>...</td>\n",
       "      <td>...</td>\n",
       "      <td>...</td>\n",
       "      <td>...</td>\n",
       "      <td>...</td>\n",
       "      <td>...</td>\n",
       "      <td>...</td>\n",
       "      <td>...</td>\n",
       "      <td>...</td>\n",
       "      <td>...</td>\n",
       "      <td>...</td>\n",
       "      <td>...</td>\n",
       "      <td>...</td>\n",
       "    </tr>\n",
       "    <tr>\n",
       "      <th>2878785</th>\n",
       "      <td>35735</td>\n",
       "      <td>35713.0</td>\n",
       "      <td>False</td>\n",
       "      <td>0</td>\n",
       "      <td>0.356445</td>\n",
       "      <td>18.0</td>\n",
       "      <td>0.132292</td>\n",
       "      <td>34.0</td>\n",
       "      <td>0.076987</td>\n",
       "      <td>53.0</td>\n",
       "      <td>...</td>\n",
       "      <td>35.0</td>\n",
       "      <td>37.416667</td>\n",
       "      <td>12.929588</td>\n",
       "      <td>18.0</td>\n",
       "      <td>66.0</td>\n",
       "      <td>34.5</td>\n",
       "      <td>0.750278</td>\n",
       "      <td>0.206371</td>\n",
       "      <td>0.026072</td>\n",
       "      <td>0.005576</td>\n",
       "    </tr>\n",
       "    <tr>\n",
       "      <th>2878786</th>\n",
       "      <td>35735</td>\n",
       "      <td>35712.0</td>\n",
       "      <td>False</td>\n",
       "      <td>0</td>\n",
       "      <td>0.124700</td>\n",
       "      <td>44.0</td>\n",
       "      <td>0.112612</td>\n",
       "      <td>42.0</td>\n",
       "      <td>0.200205</td>\n",
       "      <td>27.0</td>\n",
       "      <td>...</td>\n",
       "      <td>15.0</td>\n",
       "      <td>28.416667</td>\n",
       "      <td>9.995075</td>\n",
       "      <td>12.0</td>\n",
       "      <td>44.0</td>\n",
       "      <td>27.5</td>\n",
       "      <td>-0.012696</td>\n",
       "      <td>-0.893587</td>\n",
       "      <td>0.017662</td>\n",
       "      <td>0.005576</td>\n",
       "    </tr>\n",
       "    <tr>\n",
       "      <th>2878787</th>\n",
       "      <td>35735</td>\n",
       "      <td>35660.0</td>\n",
       "      <td>False</td>\n",
       "      <td>1</td>\n",
       "      <td>0.240297</td>\n",
       "      <td>31.0</td>\n",
       "      <td>0.126944</td>\n",
       "      <td>37.0</td>\n",
       "      <td>0.178835</td>\n",
       "      <td>31.0</td>\n",
       "      <td>...</td>\n",
       "      <td>34.0</td>\n",
       "      <td>32.416667</td>\n",
       "      <td>11.858701</td>\n",
       "      <td>10.0</td>\n",
       "      <td>57.0</td>\n",
       "      <td>31.0</td>\n",
       "      <td>0.271387</td>\n",
       "      <td>0.283409</td>\n",
       "      <td>0.019344</td>\n",
       "      <td>0.005576</td>\n",
       "    </tr>\n",
       "    <tr>\n",
       "      <th>2878788</th>\n",
       "      <td>35735</td>\n",
       "      <td>36032.0</td>\n",
       "      <td>False</td>\n",
       "      <td>0</td>\n",
       "      <td>0.000000</td>\n",
       "      <td>61.0</td>\n",
       "      <td>0.000000</td>\n",
       "      <td>59.0</td>\n",
       "      <td>0.000000</td>\n",
       "      <td>62.0</td>\n",
       "      <td>...</td>\n",
       "      <td>59.0</td>\n",
       "      <td>58.250000</td>\n",
       "      <td>9.016399</td>\n",
       "      <td>36.0</td>\n",
       "      <td>67.0</td>\n",
       "      <td>61.0</td>\n",
       "      <td>-1.634772</td>\n",
       "      <td>1.437730</td>\n",
       "      <td>0.013457</td>\n",
       "      <td>0.005576</td>\n",
       "    </tr>\n",
       "    <tr>\n",
       "      <th>2878789</th>\n",
       "      <td>35735</td>\n",
       "      <td>38033.0</td>\n",
       "      <td>False</td>\n",
       "      <td>1</td>\n",
       "      <td>0.000000</td>\n",
       "      <td>67.0</td>\n",
       "      <td>0.000000</td>\n",
       "      <td>67.0</td>\n",
       "      <td>0.000000</td>\n",
       "      <td>67.0</td>\n",
       "      <td>...</td>\n",
       "      <td>67.0</td>\n",
       "      <td>41.583333</td>\n",
       "      <td>21.060339</td>\n",
       "      <td>9.0</td>\n",
       "      <td>67.0</td>\n",
       "      <td>33.5</td>\n",
       "      <td>0.140871</td>\n",
       "      <td>-1.434609</td>\n",
       "      <td>0.024390</td>\n",
       "      <td>0.005576</td>\n",
       "    </tr>\n",
       "  </tbody>\n",
       "</table>\n",
       "<p>2878790 rows × 37 columns</p>\n",
       "</div>"
      ],
      "text/plain": [
       "         UserID   ItemID  Label  feature_recommender_count  RP3beta_score  \\\n",
       "0             0     51.0  False                          2       0.774121   \n",
       "1             0  11966.0  False                          7       0.727009   \n",
       "2             0  11875.0  False                          0       0.226606   \n",
       "3             0   9911.0  False                          2       0.192488   \n",
       "4             0   9316.0  False                          0       0.254083   \n",
       "...         ...      ...    ...                        ...            ...   \n",
       "2878785   35735  35713.0  False                          0       0.356445   \n",
       "2878786   35735  35712.0  False                          0       0.124700   \n",
       "2878787   35735  35660.0  False                          1       0.240297   \n",
       "2878788   35735  36032.0  False                          0       0.000000   \n",
       "2878789   35735  38033.0  False                          1       0.000000   \n",
       "\n",
       "         RP3beta_position  P3alpha_score  P3alpha_position  ItemKNNCF_score  \\\n",
       "0                     6.0       0.788552               4.0         0.286975   \n",
       "1                     9.0       0.704616               6.0         0.896390   \n",
       "2                    71.0       0.199602              64.0         0.234023   \n",
       "3                    77.0       0.168287              71.0         0.411140   \n",
       "4                    61.0       0.251083              47.0         0.000000   \n",
       "...                   ...            ...               ...              ...   \n",
       "2878785              18.0       0.132292              34.0         0.076987   \n",
       "2878786              44.0       0.112612              42.0         0.200205   \n",
       "2878787              31.0       0.126944              37.0         0.178835   \n",
       "2878788              61.0       0.000000              59.0         0.000000   \n",
       "2878789              67.0       0.000000              67.0         0.000000   \n",
       "\n",
       "         ItemKNNCF_position  ...  SLIM_BPR_position  Mean_Position  \\\n",
       "0                      41.0  ...               38.0      51.833333   \n",
       "1                       3.0  ...               23.0      16.916667   \n",
       "2                      49.0  ...               22.0      50.333333   \n",
       "3                      32.0  ...               32.0      45.000000   \n",
       "4                      92.0  ...               93.0      66.000000   \n",
       "...                     ...  ...                ...            ...   \n",
       "2878785                53.0  ...               35.0      37.416667   \n",
       "2878786                27.0  ...               15.0      28.416667   \n",
       "2878787                31.0  ...               34.0      32.416667   \n",
       "2878788                62.0  ...               59.0      58.250000   \n",
       "2878789                67.0  ...               67.0      41.583333   \n",
       "\n",
       "         Std_Position  Min_Position  Max_Position  Median_Position  \\\n",
       "0           33.141112           4.0          89.0             47.5   \n",
       "1           15.506353           3.0          51.0              9.5   \n",
       "2           22.166040          22.0          92.0             46.5   \n",
       "3           27.349589           4.0          84.0             40.5   \n",
       "4           22.506565          31.0          95.0             64.0   \n",
       "...               ...           ...           ...              ...   \n",
       "2878785     12.929588          18.0          66.0             34.5   \n",
       "2878786      9.995075          12.0          44.0             27.5   \n",
       "2878787     11.858701          10.0          57.0             31.0   \n",
       "2878788      9.016399          36.0          67.0             61.0   \n",
       "2878789     21.060339           9.0          67.0             33.5   \n",
       "\n",
       "         Skew_Position  Kurtosis_Position  item_popularity  user_profile_len  \n",
       "0            -0.193114          -1.452967         0.109336          0.020373  \n",
       "1             1.285972           0.255258         0.032801          0.020373  \n",
       "2             0.406129          -0.797269         0.021026          0.020373  \n",
       "3             0.001365          -1.334524         0.016821          0.020373  \n",
       "4            -0.037929          -1.435534         0.025231          0.020373  \n",
       "...                ...                ...              ...               ...  \n",
       "2878785       0.750278           0.206371         0.026072          0.005576  \n",
       "2878786      -0.012696          -0.893587         0.017662          0.005576  \n",
       "2878787       0.271387           0.283409         0.019344          0.005576  \n",
       "2878788      -1.634772           1.437730         0.013457          0.005576  \n",
       "2878789       0.140871          -1.434609         0.024390          0.005576  \n",
       "\n",
       "[2878790 rows x 37 columns]"
      ]
     },
     "metadata": {},
     "output_type": "display_data"
    }
   ],
   "source": [
    "if config[\"tune_best_params\"]:\n",
    "    display(testing_dataframe)"
   ]
  },
  {
   "cell_type": "code",
   "execution_count": 25,
   "id": "b8f2c515",
   "metadata": {
    "execution": {
     "iopub.execute_input": "2025-01-06T18:52:51.999361Z",
     "iopub.status.busy": "2025-01-06T18:52:51.998998Z",
     "iopub.status.idle": "2025-01-06T18:52:56.576880Z",
     "shell.execute_reply": "2025-01-06T18:52:56.575943Z"
    },
    "papermill": {
     "duration": 4.604592,
     "end_time": "2025-01-06T18:52:56.578895",
     "exception": false,
     "start_time": "2025-01-06T18:52:51.974303",
     "status": "completed"
    },
    "tags": []
   },
   "outputs": [
    {
     "name": "stdout",
     "output_type": "stream",
     "text": [
      "prediction_dataframe loaded.\n"
     ]
    },
    {
     "data": {
      "text/html": [
       "<div>\n",
       "<style scoped>\n",
       "    .dataframe tbody tr th:only-of-type {\n",
       "        vertical-align: middle;\n",
       "    }\n",
       "\n",
       "    .dataframe tbody tr th {\n",
       "        vertical-align: top;\n",
       "    }\n",
       "\n",
       "    .dataframe thead th {\n",
       "        text-align: right;\n",
       "    }\n",
       "</style>\n",
       "<table border=\"1\" class=\"dataframe\">\n",
       "  <thead>\n",
       "    <tr style=\"text-align: right;\">\n",
       "      <th></th>\n",
       "      <th>UserID</th>\n",
       "      <th>ItemID</th>\n",
       "      <th>feature_recommender_count</th>\n",
       "      <th>RP3beta_score</th>\n",
       "      <th>RP3beta_position</th>\n",
       "      <th>P3alpha_score</th>\n",
       "      <th>P3alpha_position</th>\n",
       "      <th>ItemKNNCF_score</th>\n",
       "      <th>ItemKNNCF_position</th>\n",
       "      <th>ItemKNNCBF_score</th>\n",
       "      <th>...</th>\n",
       "      <th>SLIM_BPR_position</th>\n",
       "      <th>Mean_Position</th>\n",
       "      <th>Std_Position</th>\n",
       "      <th>Min_Position</th>\n",
       "      <th>Max_Position</th>\n",
       "      <th>Median_Position</th>\n",
       "      <th>Skew_Position</th>\n",
       "      <th>Kurtosis_Position</th>\n",
       "      <th>item_popularity</th>\n",
       "      <th>user_profile_len</th>\n",
       "    </tr>\n",
       "  </thead>\n",
       "  <tbody>\n",
       "    <tr>\n",
       "      <th>0</th>\n",
       "      <td>0</td>\n",
       "      <td>39.0</td>\n",
       "      <td>0</td>\n",
       "      <td>0.236158</td>\n",
       "      <td>59.0</td>\n",
       "      <td>0.323663</td>\n",
       "      <td>47.0</td>\n",
       "      <td>0.000000</td>\n",
       "      <td>63.0</td>\n",
       "      <td>0.000000</td>\n",
       "      <td>...</td>\n",
       "      <td>22.0</td>\n",
       "      <td>55.666667</td>\n",
       "      <td>16.433521</td>\n",
       "      <td>22.0</td>\n",
       "      <td>81.0</td>\n",
       "      <td>57.0</td>\n",
       "      <td>-0.385940</td>\n",
       "      <td>-0.293715</td>\n",
       "      <td>0.214286</td>\n",
       "      <td>0.019338</td>\n",
       "    </tr>\n",
       "    <tr>\n",
       "      <th>1</th>\n",
       "      <td>0</td>\n",
       "      <td>11919.0</td>\n",
       "      <td>1</td>\n",
       "      <td>0.709458</td>\n",
       "      <td>9.0</td>\n",
       "      <td>0.432642</td>\n",
       "      <td>32.0</td>\n",
       "      <td>0.357771</td>\n",
       "      <td>26.0</td>\n",
       "      <td>0.000000</td>\n",
       "      <td>...</td>\n",
       "      <td>27.0</td>\n",
       "      <td>28.666667</td>\n",
       "      <td>12.521497</td>\n",
       "      <td>9.0</td>\n",
       "      <td>52.0</td>\n",
       "      <td>27.5</td>\n",
       "      <td>0.268094</td>\n",
       "      <td>-0.733311</td>\n",
       "      <td>0.019728</td>\n",
       "      <td>0.019338</td>\n",
       "    </tr>\n",
       "    <tr>\n",
       "      <th>2</th>\n",
       "      <td>0</td>\n",
       "      <td>11699.0</td>\n",
       "      <td>5</td>\n",
       "      <td>0.426796</td>\n",
       "      <td>36.0</td>\n",
       "      <td>0.294473</td>\n",
       "      <td>51.0</td>\n",
       "      <td>0.000000</td>\n",
       "      <td>64.0</td>\n",
       "      <td>0.194269</td>\n",
       "      <td>...</td>\n",
       "      <td>38.0</td>\n",
       "      <td>26.083333</td>\n",
       "      <td>24.500309</td>\n",
       "      <td>1.0</td>\n",
       "      <td>67.0</td>\n",
       "      <td>19.0</td>\n",
       "      <td>0.538694</td>\n",
       "      <td>-1.189453</td>\n",
       "      <td>0.089796</td>\n",
       "      <td>0.019338</td>\n",
       "    </tr>\n",
       "    <tr>\n",
       "      <th>3</th>\n",
       "      <td>0</td>\n",
       "      <td>11584.0</td>\n",
       "      <td>0</td>\n",
       "      <td>0.188448</td>\n",
       "      <td>68.0</td>\n",
       "      <td>0.196660</td>\n",
       "      <td>63.0</td>\n",
       "      <td>0.245690</td>\n",
       "      <td>42.0</td>\n",
       "      <td>0.230949</td>\n",
       "      <td>...</td>\n",
       "      <td>71.0</td>\n",
       "      <td>53.166667</td>\n",
       "      <td>14.910846</td>\n",
       "      <td>18.0</td>\n",
       "      <td>71.0</td>\n",
       "      <td>55.5</td>\n",
       "      <td>-0.942672</td>\n",
       "      <td>0.546270</td>\n",
       "      <td>0.012245</td>\n",
       "      <td>0.019338</td>\n",
       "    </tr>\n",
       "    <tr>\n",
       "      <th>4</th>\n",
       "      <td>0</td>\n",
       "      <td>11580.0</td>\n",
       "      <td>0</td>\n",
       "      <td>0.163338</td>\n",
       "      <td>71.0</td>\n",
       "      <td>0.188450</td>\n",
       "      <td>65.0</td>\n",
       "      <td>0.296874</td>\n",
       "      <td>33.0</td>\n",
       "      <td>0.000000</td>\n",
       "      <td>...</td>\n",
       "      <td>59.0</td>\n",
       "      <td>42.083333</td>\n",
       "      <td>18.554384</td>\n",
       "      <td>19.0</td>\n",
       "      <td>71.0</td>\n",
       "      <td>36.5</td>\n",
       "      <td>0.360805</td>\n",
       "      <td>-1.306579</td>\n",
       "      <td>0.031973</td>\n",
       "      <td>0.019338</td>\n",
       "    </tr>\n",
       "    <tr>\n",
       "      <th>...</th>\n",
       "      <td>...</td>\n",
       "      <td>...</td>\n",
       "      <td>...</td>\n",
       "      <td>...</td>\n",
       "      <td>...</td>\n",
       "      <td>...</td>\n",
       "      <td>...</td>\n",
       "      <td>...</td>\n",
       "      <td>...</td>\n",
       "      <td>...</td>\n",
       "      <td>...</td>\n",
       "      <td>...</td>\n",
       "      <td>...</td>\n",
       "      <td>...</td>\n",
       "      <td>...</td>\n",
       "      <td>...</td>\n",
       "      <td>...</td>\n",
       "      <td>...</td>\n",
       "      <td>...</td>\n",
       "      <td>...</td>\n",
       "      <td>...</td>\n",
       "    </tr>\n",
       "    <tr>\n",
       "      <th>2857517</th>\n",
       "      <td>35735</td>\n",
       "      <td>36087.0</td>\n",
       "      <td>1</td>\n",
       "      <td>0.339111</td>\n",
       "      <td>12.0</td>\n",
       "      <td>0.333030</td>\n",
       "      <td>12.0</td>\n",
       "      <td>0.331644</td>\n",
       "      <td>18.0</td>\n",
       "      <td>0.143745</td>\n",
       "      <td>...</td>\n",
       "      <td>28.0</td>\n",
       "      <td>21.333333</td>\n",
       "      <td>10.654349</td>\n",
       "      <td>5.0</td>\n",
       "      <td>43.0</td>\n",
       "      <td>21.0</td>\n",
       "      <td>0.451969</td>\n",
       "      <td>-0.363567</td>\n",
       "      <td>0.058503</td>\n",
       "      <td>0.006277</td>\n",
       "    </tr>\n",
       "    <tr>\n",
       "      <th>2857518</th>\n",
       "      <td>35735</td>\n",
       "      <td>36092.0</td>\n",
       "      <td>1</td>\n",
       "      <td>0.148061</td>\n",
       "      <td>35.0</td>\n",
       "      <td>0.000000</td>\n",
       "      <td>52.0</td>\n",
       "      <td>0.247781</td>\n",
       "      <td>24.0</td>\n",
       "      <td>0.000000</td>\n",
       "      <td>...</td>\n",
       "      <td>10.0</td>\n",
       "      <td>33.500000</td>\n",
       "      <td>11.681376</td>\n",
       "      <td>10.0</td>\n",
       "      <td>54.0</td>\n",
       "      <td>33.0</td>\n",
       "      <td>0.044855</td>\n",
       "      <td>0.251864</td>\n",
       "      <td>0.017007</td>\n",
       "      <td>0.006277</td>\n",
       "    </tr>\n",
       "    <tr>\n",
       "      <th>2857519</th>\n",
       "      <td>35735</td>\n",
       "      <td>36093.0</td>\n",
       "      <td>0</td>\n",
       "      <td>0.235773</td>\n",
       "      <td>21.0</td>\n",
       "      <td>0.149448</td>\n",
       "      <td>27.0</td>\n",
       "      <td>0.222966</td>\n",
       "      <td>26.0</td>\n",
       "      <td>0.143745</td>\n",
       "      <td>...</td>\n",
       "      <td>53.0</td>\n",
       "      <td>29.750000</td>\n",
       "      <td>10.779821</td>\n",
       "      <td>12.0</td>\n",
       "      <td>53.0</td>\n",
       "      <td>26.5</td>\n",
       "      <td>0.569094</td>\n",
       "      <td>0.100314</td>\n",
       "      <td>0.044898</td>\n",
       "      <td>0.006277</td>\n",
       "    </tr>\n",
       "    <tr>\n",
       "      <th>2857520</th>\n",
       "      <td>35735</td>\n",
       "      <td>36164.0</td>\n",
       "      <td>0</td>\n",
       "      <td>0.095781</td>\n",
       "      <td>43.0</td>\n",
       "      <td>0.089794</td>\n",
       "      <td>40.0</td>\n",
       "      <td>0.096826</td>\n",
       "      <td>52.0</td>\n",
       "      <td>0.000000</td>\n",
       "      <td>...</td>\n",
       "      <td>17.0</td>\n",
       "      <td>34.916667</td>\n",
       "      <td>13.473599</td>\n",
       "      <td>17.0</td>\n",
       "      <td>55.0</td>\n",
       "      <td>34.5</td>\n",
       "      <td>0.056608</td>\n",
       "      <td>-1.445555</td>\n",
       "      <td>0.016327</td>\n",
       "      <td>0.006277</td>\n",
       "    </tr>\n",
       "    <tr>\n",
       "      <th>2857521</th>\n",
       "      <td>35735</td>\n",
       "      <td>38033.0</td>\n",
       "      <td>2</td>\n",
       "      <td>0.232069</td>\n",
       "      <td>22.0</td>\n",
       "      <td>0.220189</td>\n",
       "      <td>18.0</td>\n",
       "      <td>0.168042</td>\n",
       "      <td>36.0</td>\n",
       "      <td>0.999998</td>\n",
       "      <td>...</td>\n",
       "      <td>12.0</td>\n",
       "      <td>22.250000</td>\n",
       "      <td>13.205543</td>\n",
       "      <td>1.0</td>\n",
       "      <td>48.0</td>\n",
       "      <td>20.5</td>\n",
       "      <td>0.518949</td>\n",
       "      <td>-0.349306</td>\n",
       "      <td>0.026531</td>\n",
       "      <td>0.006277</td>\n",
       "    </tr>\n",
       "  </tbody>\n",
       "</table>\n",
       "<p>2857522 rows × 36 columns</p>\n",
       "</div>"
      ],
      "text/plain": [
       "         UserID   ItemID  feature_recommender_count  RP3beta_score  \\\n",
       "0             0     39.0                          0       0.236158   \n",
       "1             0  11919.0                          1       0.709458   \n",
       "2             0  11699.0                          5       0.426796   \n",
       "3             0  11584.0                          0       0.188448   \n",
       "4             0  11580.0                          0       0.163338   \n",
       "...         ...      ...                        ...            ...   \n",
       "2857517   35735  36087.0                          1       0.339111   \n",
       "2857518   35735  36092.0                          1       0.148061   \n",
       "2857519   35735  36093.0                          0       0.235773   \n",
       "2857520   35735  36164.0                          0       0.095781   \n",
       "2857521   35735  38033.0                          2       0.232069   \n",
       "\n",
       "         RP3beta_position  P3alpha_score  P3alpha_position  ItemKNNCF_score  \\\n",
       "0                    59.0       0.323663              47.0         0.000000   \n",
       "1                     9.0       0.432642              32.0         0.357771   \n",
       "2                    36.0       0.294473              51.0         0.000000   \n",
       "3                    68.0       0.196660              63.0         0.245690   \n",
       "4                    71.0       0.188450              65.0         0.296874   \n",
       "...                   ...            ...               ...              ...   \n",
       "2857517              12.0       0.333030              12.0         0.331644   \n",
       "2857518              35.0       0.000000              52.0         0.247781   \n",
       "2857519              21.0       0.149448              27.0         0.222966   \n",
       "2857520              43.0       0.089794              40.0         0.096826   \n",
       "2857521              22.0       0.220189              18.0         0.168042   \n",
       "\n",
       "         ItemKNNCF_position  ItemKNNCBF_score  ...  SLIM_BPR_position  \\\n",
       "0                      63.0          0.000000  ...               22.0   \n",
       "1                      26.0          0.000000  ...               27.0   \n",
       "2                      64.0          0.194269  ...               38.0   \n",
       "3                      42.0          0.230949  ...               71.0   \n",
       "4                      33.0          0.000000  ...               59.0   \n",
       "...                     ...               ...  ...                ...   \n",
       "2857517                18.0          0.143745  ...               28.0   \n",
       "2857518                24.0          0.000000  ...               10.0   \n",
       "2857519                26.0          0.143745  ...               53.0   \n",
       "2857520                52.0          0.000000  ...               17.0   \n",
       "2857521                36.0          0.999998  ...               12.0   \n",
       "\n",
       "         Mean_Position  Std_Position  Min_Position  Max_Position  \\\n",
       "0            55.666667     16.433521          22.0          81.0   \n",
       "1            28.666667     12.521497           9.0          52.0   \n",
       "2            26.083333     24.500309           1.0          67.0   \n",
       "3            53.166667     14.910846          18.0          71.0   \n",
       "4            42.083333     18.554384          19.0          71.0   \n",
       "...                ...           ...           ...           ...   \n",
       "2857517      21.333333     10.654349           5.0          43.0   \n",
       "2857518      33.500000     11.681376          10.0          54.0   \n",
       "2857519      29.750000     10.779821          12.0          53.0   \n",
       "2857520      34.916667     13.473599          17.0          55.0   \n",
       "2857521      22.250000     13.205543           1.0          48.0   \n",
       "\n",
       "         Median_Position  Skew_Position  Kurtosis_Position  item_popularity  \\\n",
       "0                   57.0      -0.385940          -0.293715         0.214286   \n",
       "1                   27.5       0.268094          -0.733311         0.019728   \n",
       "2                   19.0       0.538694          -1.189453         0.089796   \n",
       "3                   55.5      -0.942672           0.546270         0.012245   \n",
       "4                   36.5       0.360805          -1.306579         0.031973   \n",
       "...                  ...            ...                ...              ...   \n",
       "2857517             21.0       0.451969          -0.363567         0.058503   \n",
       "2857518             33.0       0.044855           0.251864         0.017007   \n",
       "2857519             26.5       0.569094           0.100314         0.044898   \n",
       "2857520             34.5       0.056608          -1.445555         0.016327   \n",
       "2857521             20.5       0.518949          -0.349306         0.026531   \n",
       "\n",
       "         user_profile_len  \n",
       "0                0.019338  \n",
       "1                0.019338  \n",
       "2                0.019338  \n",
       "3                0.019338  \n",
       "4                0.019338  \n",
       "...                   ...  \n",
       "2857517          0.006277  \n",
       "2857518          0.006277  \n",
       "2857519          0.006277  \n",
       "2857520          0.006277  \n",
       "2857521          0.006277  \n",
       "\n",
       "[2857522 rows x 36 columns]"
      ]
     },
     "metadata": {},
     "output_type": "display_data"
    }
   ],
   "source": [
    "if config[\"tune_best_params\"]:\n",
    "    \n",
    "    if os.path.exists(dataframes_path + f'/prediction_dataframe_{config[\"model\"]}.parquet'):\n",
    "        prediction_dataframe = pd.read_parquet(dataframes_path + f'/prediction_dataframe_{config[\"model\"]}.parquet')\n",
    "        print(\"prediction_dataframe loaded.\")\n",
    "    \n",
    "    else:\n",
    "\n",
    "        print(\"***TRAINING CONTENT GENERATION RECOMMENDERS***\\n\")\n",
    "        candidate_generator_recommenders = fit_recommenders(\"Recall\", \"TrainValTest\", URM_all, ICM_all, cg_recommenders, GH_PATH, \"cg\", repo)\n",
    "\n",
    "        print(\"***TRAINING FEATURE RECOMMENDERS***\\n\")\n",
    "        features_recommenders = fit_recommenders(\"MAP\", \"TrainValTest\", URM_all, ICM_all, f_recommenders, GH_PATH, \"f\", repo)\n",
    "\n",
    "        print()\n",
    "        prediction_dataframe = create_XGBoost_dataframe(URM_all, candidate_generator_recommenders, features_recommenders, ICM_all, cutoff=50, categorical=config[\"categorical\"], contents=config[\"contents\"])\n",
    "        prediction_dataframe.to_parquet(f'/kaggle/working/prediction_dataframe_{config[\"model\"]}.parquet')\n",
    "\n",
    "        del candidate_generator_recommenders, features_recommenders\n",
    "    \n",
    "    display(prediction_dataframe)\n",
    "\n",
    "    y_test = testing_dataframe[\"Label\"]\n",
    "    X_test = testing_dataframe.drop(columns=[\"Label\"])\n",
    "\n",
    "    del testing_dataframe"
   ]
  },
  {
   "cell_type": "markdown",
   "id": "48fd6228",
   "metadata": {
    "papermill": {
     "duration": 0.024431,
     "end_time": "2025-01-06T18:52:56.629142",
     "exception": false,
     "start_time": "2025-01-06T18:52:56.604711",
     "status": "completed"
    },
    "tags": []
   },
   "source": [
    "### Train best XGBoost model"
   ]
  },
  {
   "cell_type": "code",
   "execution_count": 26,
   "id": "bd8bd2c1",
   "metadata": {
    "execution": {
     "iopub.execute_input": "2025-01-06T18:52:56.679178Z",
     "iopub.status.busy": "2025-01-06T18:52:56.678771Z",
     "iopub.status.idle": "2025-01-06T18:57:09.671602Z",
     "shell.execute_reply": "2025-01-06T18:57:09.670394Z"
    },
    "papermill": {
     "duration": 253.020532,
     "end_time": "2025-01-06T18:57:09.673858",
     "exception": false,
     "start_time": "2025-01-06T18:52:56.653326",
     "status": "completed"
    },
    "tags": []
   },
   "outputs": [],
   "source": [
    "if config['tune_best_params']:\n",
    "\n",
    "    if config['tune_parameters']:\n",
    "        best_params = optuna_study.best_trial.params\n",
    "    else: \n",
    "        with open(f'{K_PATH}/{GH_PATH}/{D_PATH}/{config[\"model\"]}Recommender/Optimizing{config[\"metric\"]}/best_params_{config[\"model\"]}_{config[\"metric\"]}.json', 'r') as best_params_json:\n",
    "            best_params = json.load(best_params_json)\n",
    "\n",
    "    recommender_instance = XGBoostRankerRecommender(URM_all, X_test, y_test, prediction_dataframe)\n",
    "    recommender_instance.fit(\n",
    "        groups_test,\n",
    "        **best_params\n",
    "    )"
   ]
  },
  {
   "cell_type": "markdown",
   "id": "7b91959c",
   "metadata": {
    "papermill": {
     "duration": 0.023715,
     "end_time": "2025-01-06T18:57:09.723044",
     "exception": false,
     "start_time": "2025-01-06T18:57:09.699329",
     "status": "completed"
    },
    "tags": []
   },
   "source": [
    "## Feature importance"
   ]
  },
  {
   "cell_type": "code",
   "execution_count": 27,
   "id": "3937fa56",
   "metadata": {
    "execution": {
     "iopub.execute_input": "2025-01-06T18:57:09.774883Z",
     "iopub.status.busy": "2025-01-06T18:57:09.774450Z",
     "iopub.status.idle": "2025-01-06T18:57:10.582257Z",
     "shell.execute_reply": "2025-01-06T18:57:10.580918Z"
    },
    "papermill": {
     "duration": 0.837441,
     "end_time": "2025-01-06T18:57:10.586189",
     "exception": false,
     "start_time": "2025-01-06T18:57:09.748748",
     "status": "completed"
    },
    "tags": []
   },
   "outputs": [
    {
     "data": {
      "image/png": "[encoded data removed]",
      "text/plain": [
       "<Figure size 640x480 with 1 Axes>"
      ]
     },
     "metadata": {},
     "output_type": "display_data"
    }
   ],
   "source": [
    "if config['tune_best_params']:\n",
    "    plot_importance(recommender_instance.model, importance_type='gain', title='Gain')"
   ]
  },
  {
   "cell_type": "code",
   "execution_count": 28,
   "id": "bfef0f2a",
   "metadata": {
    "execution": {
     "iopub.execute_input": "2025-01-06T18:57:10.648592Z",
     "iopub.status.busy": "2025-01-06T18:57:10.648235Z",
     "iopub.status.idle": "2025-01-06T18:57:11.380864Z",
     "shell.execute_reply": "2025-01-06T18:57:11.379642Z"
    },
    "papermill": {
     "duration": 0.768185,
     "end_time": "2025-01-06T18:57:11.384513",
     "exception": false,
     "start_time": "2025-01-06T18:57:10.616328",
     "status": "completed"
    },
    "tags": []
   },
   "outputs": [
    {
     "data": {
      "image/png": "[encoded data removed]",
      "text/plain": [
       "<Figure size 640x480 with 1 Axes>"
      ]
     },
     "metadata": {},
     "output_type": "display_data"
    }
   ],
   "source": [
    "if config['tune_best_params']:\n",
    "    plot_importance(recommender_instance.model, importance_type='cover', title='Cover')"
   ]
  },
  {
   "cell_type": "code",
   "execution_count": 29,
   "id": "7d5e2ad2",
   "metadata": {
    "_kg_hide-output": true,
    "execution": {
     "iopub.execute_input": "2025-01-06T18:57:11.452994Z",
     "iopub.status.busy": "2025-01-06T18:57:11.452595Z",
     "iopub.status.idle": "2025-01-06T18:57:12.117502Z",
     "shell.execute_reply": "2025-01-06T18:57:12.116074Z"
    },
    "papermill": {
     "duration": 0.701448,
     "end_time": "2025-01-06T18:57:12.119898",
     "exception": false,
     "start_time": "2025-01-06T18:57:11.418450",
     "status": "completed"
    },
    "tags": []
   },
   "outputs": [
    {
     "data": {
      "image/png": "[encoded data removed]",
      "text/plain": [
       "<Figure size 640x480 with 1 Axes>"
      ]
     },
     "metadata": {},
     "output_type": "display_data"
    }
   ],
   "source": [
    "if config['tune_best_params']:\n",
    "    plot_importance(recommender_instance.model, importance_type='weight', title='Weight (Frequence)')"
   ]
  },
  {
   "attachments": {},
   "cell_type": "markdown",
   "id": "020190e3",
   "metadata": {
    "papermill": {
     "duration": 0.315678,
     "end_time": "2025-01-06T18:57:12.472414",
     "exception": false,
     "start_time": "2025-01-06T18:57:12.156736",
     "status": "completed"
    },
    "tags": []
   },
   "source": [
    "# Submission\n",
    "\n",
    "Create the recommendations for the submission."
   ]
  },
  {
   "cell_type": "code",
   "execution_count": 30,
   "id": "8e605453",
   "metadata": {
    "execution": {
     "iopub.execute_input": "2025-01-06T18:57:12.544267Z",
     "iopub.status.busy": "2025-01-06T18:57:12.543906Z",
     "iopub.status.idle": "2025-01-06T19:04:17.031207Z",
     "shell.execute_reply": "2025-01-06T19:04:17.029937Z"
    },
    "papermill": {
     "duration": 424.56158,
     "end_time": "2025-01-06T19:04:17.069195",
     "exception": false,
     "start_time": "2025-01-06T18:57:12.507615",
     "status": "completed"
    },
    "tags": []
   },
   "outputs": [
    {
     "name": "stdout",
     "output_type": "stream",
     "text": [
      "Submission file saved as /kaggle/working/submission_XGBoostNoCont_MAP.csv\n"
     ]
    }
   ],
   "source": [
    "if config['tune_best_params']:\n",
    "\n",
    "    data_target_users_test = pd.read_csv('/kaggle/input/recommender-system-2024-challenge-polimi/data_target_users_test.csv')\n",
    "    create_submission(data_target_users_test, recommender_instance, f'/kaggle/working/submission_{config[\"model\"]}_{config[\"metric\"]}.csv')"
   ]
  },
  {
   "attachments": {},
   "cell_type": "markdown",
   "id": "dcfb9a99",
   "metadata": {
    "papermill": {
     "duration": 0.035286,
     "end_time": "2025-01-06T19:04:17.140209",
     "exception": false,
     "start_time": "2025-01-06T19:04:17.104923",
     "status": "completed"
    },
    "tags": []
   },
   "source": [
    "# Save Version on GitHub \n",
    "\n",
    "Write or import a json file where best hyperparameters are saved. "
   ]
  },
  {
   "cell_type": "code",
   "execution_count": 31,
   "id": "46c7e81b",
   "metadata": {
    "execution": {
     "iopub.execute_input": "2025-01-06T19:04:17.216285Z",
     "iopub.status.busy": "2025-01-06T19:04:17.215773Z",
     "iopub.status.idle": "2025-01-06T19:04:18.906336Z",
     "shell.execute_reply": "2025-01-06T19:04:18.904801Z"
    },
    "papermill": {
     "duration": 1.732511,
     "end_time": "2025-01-06T19:04:18.908239",
     "exception": false,
     "start_time": "2025-01-06T19:04:17.175728",
     "status": "completed"
    },
    "tags": []
   },
   "outputs": [
    {
     "name": "stdout",
     "output_type": "stream",
     "text": [
      "File 'TrainedModels/WithoutKFCV/XGBoost/XGBoostNoContRecommender/OptimizingMAP/best_params_XGBoostNoCont_MAP.json' updated successfully.\n"
     ]
    }
   ],
   "source": [
    "if config['tune_parameters']:\n",
    "    with open(f'/kaggle/working/best_params_{config[\"model\"]}_{config[\"metric\"]}.json', 'w') as params_file:\n",
    "        json.dump(optuna_study.best_params, params_file)\n",
    "        \n",
    "    if config['save_github']:\n",
    "        upload_file(\n",
    "            f'/kaggle/working/best_params_{config[\"model\"]}_{config[\"metric\"]}.json', \n",
    "            f'{GH_PATH}/{D_PATH}/{config[\"model\"]}Recommender/Optimizing{config[\"metric\"]}/best_params_{config[\"model\"]}_{config[\"metric\"]}.json', \n",
    "            f'{config[\"model\"]}_{config[\"metric\"]} tuning results (from kaggle notebook)',\n",
    "            repo\n",
    "        )\n",
    "elif config['copy_prev_best_params']:\n",
    "    shutil.copyfile(\n",
    "        f'{K_PATH}/{GH_PATH}/{D_PATH}/{config[\"model\"]}Recommender/Optimizing{config[\"metric\"]}/'\\\n",
    "        f'best_params_{config[\"model\"]}_{config[\"metric\"]}.json', \n",
    "        f'/kaggle/working/best_params_{config[\"model\"]}_{config[\"metric\"]}.json'\n",
    "    )"
   ]
  },
  {
   "cell_type": "markdown",
   "id": "aa2f55ab",
   "metadata": {
    "execution": {
     "iopub.execute_input": "2024-11-14T00:41:34.294243Z",
     "iopub.status.busy": "2024-11-14T00:41:34.293739Z",
     "iopub.status.idle": "2024-11-14T00:41:34.301478Z",
     "shell.execute_reply": "2024-11-14T00:41:34.299869Z",
     "shell.execute_reply.started": "2024-11-14T00:41:34.294186Z"
    },
    "papermill": {
     "duration": 0.036088,
     "end_time": "2025-01-06T19:04:18.980079",
     "exception": false,
     "start_time": "2025-01-06T19:04:18.943991",
     "status": "completed"
    },
    "tags": []
   },
   "source": [
    "Save the history of the tuned model."
   ]
  },
  {
   "cell_type": "code",
   "execution_count": 32,
   "id": "0025aef0",
   "metadata": {
    "execution": {
     "iopub.execute_input": "2025-01-06T19:04:19.053246Z",
     "iopub.status.busy": "2025-01-06T19:04:19.052856Z",
     "iopub.status.idle": "2025-01-06T19:04:20.488285Z",
     "shell.execute_reply": "2025-01-06T19:04:20.486919Z"
    },
    "papermill": {
     "duration": 1.474254,
     "end_time": "2025-01-06T19:04:20.490195",
     "exception": false,
     "start_time": "2025-01-06T19:04:19.015941",
     "status": "completed"
    },
    "tags": []
   },
   "outputs": [
    {
     "name": "stdout",
     "output_type": "stream",
     "text": [
      "File 'TrainedModels/WithoutKFCV/XGBoost/XGBoostNoContRecommender/OptimizingMAP/history_XGBoostNoCont_MAP.db' updated successfully.\n"
     ]
    }
   ],
   "source": [
    "if config['save_github'] and config['tune_parameters']:\n",
    "    upload_file(\n",
    "        config['database_path'], \n",
    "        f'{GH_PATH}/{D_PATH}/{config[\"model\"]}Recommender/Optimizing{config[\"metric\"]}/history_{config[\"model\"]}_{config[\"metric\"]}.db',\n",
    "        f'Tuning {config[\"model\"]}_{config[\"metric\"]} db updated results (from kaggle notebook)',\n",
    "        repo\n",
    "    )"
   ]
  },
  {
   "cell_type": "markdown",
   "id": "f1746cde",
   "metadata": {
    "papermill": {
     "duration": 0.036923,
     "end_time": "2025-01-06T19:04:20.563629",
     "exception": false,
     "start_time": "2025-01-06T19:04:20.526706",
     "status": "completed"
    },
    "tags": []
   },
   "source": [
    "Save the best trained model and its submission."
   ]
  },
  {
   "cell_type": "code",
   "execution_count": 33,
   "id": "72d469af",
   "metadata": {
    "execution": {
     "iopub.execute_input": "2025-01-06T19:04:20.638372Z",
     "iopub.status.busy": "2025-01-06T19:04:20.637957Z",
     "iopub.status.idle": "2025-01-06T19:04:22.098272Z",
     "shell.execute_reply": "2025-01-06T19:04:22.096880Z"
    },
    "papermill": {
     "duration": 1.50038,
     "end_time": "2025-01-06T19:04:22.100718",
     "exception": false,
     "start_time": "2025-01-06T19:04:20.600338",
     "status": "completed"
    },
    "tags": []
   },
   "outputs": [
    {
     "name": "stdout",
     "output_type": "stream",
     "text": [
      "File 'TrainedModels/WithoutKFCV/XGBoost/XGBoostNoContRecommender/OptimizingMAP/Submission/submission_XGBoostNoCont_MAP.csv' updated successfully.\n"
     ]
    }
   ],
   "source": [
    "if config['save_github'] and config['tune_best_params']: \n",
    "    upload_file(\n",
    "                f'/kaggle/working/submission_{config[\"model\"]}_{config[\"metric\"]}.csv', \n",
    "                f'{GH_PATH}/{D_PATH}/{config[\"model\"]}Recommender/Optimizing{config[\"metric\"]}/Submission/submission_{config[\"model\"]}_{config[\"metric\"]}.csv', \n",
    "                f'New {config[\"model\"]}_{config[\"metric\"]} submission (from kaggle notebook)',\n",
    "                repo\n",
    "            )"
   ]
  }
 ],
 "metadata": {
  "kaggle": {
   "accelerator": "none",
   "dataSources": [
    {
     "databundleVersionId": 9982103,
     "sourceId": 87439,
     "sourceType": "competition"
    },
    {
     "datasetId": 6390368,
     "sourceId": 10321338,
     "sourceType": "datasetVersion"
    },
    {
     "datasetId": 6390688,
     "sourceId": 10321786,
     "sourceType": "datasetVersion"
    },
    {
     "datasetId": 6390755,
     "sourceId": 10321877,
     "sourceType": "datasetVersion"
    },
    {
     "datasetId": 6391122,
     "sourceId": 10322447,
     "sourceType": "datasetVersion"
    },
    {
     "datasetId": 6392420,
     "sourceId": 10324491,
     "sourceType": "datasetVersion"
    },
    {
     "datasetId": 6392432,
     "sourceId": 10324507,
     "sourceType": "datasetVersion"
    },
    {
     "datasetId": 6392448,
     "sourceId": 10324524,
     "sourceType": "datasetVersion"
    },
    {
     "datasetId": 6392454,
     "sourceId": 10324531,
     "sourceType": "datasetVersion"
    },
    {
     "datasetId": 6392495,
     "sourceId": 10324583,
     "sourceType": "datasetVersion"
    },
    {
     "datasetId": 6392508,
     "sourceId": 10324599,
     "sourceType": "datasetVersion"
    },
    {
     "datasetId": 6392523,
     "sourceId": 10324620,
     "sourceType": "datasetVersion"
    },
    {
     "datasetId": 6392689,
     "sourceId": 10324848,
     "sourceType": "datasetVersion"
    },
    {
     "datasetId": 6392704,
     "sourceId": 10324867,
     "sourceType": "datasetVersion"
    },
    {
     "datasetId": 6392721,
     "sourceId": 10324888,
     "sourceType": "datasetVersion"
    },
    {
     "datasetId": 6392739,
     "sourceId": 10324912,
     "sourceType": "datasetVersion"
    },
    {
     "datasetId": 6417824,
     "sourceId": 10376903,
     "sourceType": "datasetVersion"
    }
   ],
   "dockerImageVersionId": 30822,
   "isGpuEnabled": false,
   "isInternetEnabled": true,
   "language": "python",
   "sourceType": "notebook"
  },
  "kernelspec": {
   "display_name": "Python 3",
   "language": "python",
   "name": "python3"
  },
  "language_info": {
   "codemirror_mode": {
    "name": "ipython",
    "version": 3
   },
   "file_extension": ".py",
   "mimetype": "text/x-python",
   "name": "python",
   "nbconvert_exporter": "python",
   "pygments_lexer": "ipython3",
   "version": "3.10.12"
  },
  "papermill": {
   "default_parameters": {},
   "duration": 20807.988408,
   "end_time": "2025-01-06T19:04:25.353701",
   "environment_variables": {},
   "exception": null,
   "input_path": "__notebook__.ipynb",
   "output_path": "__notebook__.ipynb",
   "parameters": {},
   "start_time": "2025-01-06T13:17:37.365293",
   "version": "2.6.0"
  }
 },
 "nbformat": 4,
 "nbformat_minor": 5
}
