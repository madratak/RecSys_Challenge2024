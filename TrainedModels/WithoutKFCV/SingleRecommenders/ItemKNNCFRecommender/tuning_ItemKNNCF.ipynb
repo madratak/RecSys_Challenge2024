{
 "cells": [
  {
   "cell_type": "markdown",
   "id": "5a399fe8",
   "metadata": {
    "papermill": {
     "duration": 0.006515,
     "end_time": "2024-11-19T00:39:43.414310",
     "exception": false,
     "start_time": "2024-11-19T00:39:43.407795",
     "status": "completed"
    },
    "tags": []
   },
   "source": [
    "# Set connection with GitHub"
   ]
  },
  {
   "cell_type": "code",
   "execution_count": 1,
   "id": "7a124953",
   "metadata": {
    "execution": {
     "iopub.execute_input": "2024-11-19T00:39:43.427511Z",
     "iopub.status.busy": "2024-11-19T00:39:43.427143Z",
     "iopub.status.idle": "2024-11-19T00:39:43.432496Z",
     "shell.execute_reply": "2024-11-19T00:39:43.431367Z"
    },
    "papermill": {
     "duration": 0.014251,
     "end_time": "2024-11-19T00:39:43.434490",
     "exception": false,
     "start_time": "2024-11-19T00:39:43.420239",
     "status": "completed"
    },
    "tags": []
   },
   "outputs": [],
   "source": [
    "# ! cd /kaggle/working && rm -rf RECsys_Challenge2024"
   ]
  },
  {
   "cell_type": "code",
   "execution_count": 2,
   "id": "fff07c27",
   "metadata": {
    "_cell_guid": "b1076dfc-b9ad-4769-8c92-a6c4dae69d19",
    "_uuid": "8f2839f25d086af736a60e9eeb907d3b93b6e0e5",
    "execution": {
     "iopub.execute_input": "2024-11-19T00:39:43.447467Z",
     "iopub.status.busy": "2024-11-19T00:39:43.447042Z",
     "iopub.status.idle": "2024-11-19T00:39:56.380255Z",
     "shell.execute_reply": "2024-11-19T00:39:56.378841Z"
    },
    "papermill": {
     "duration": 12.942413,
     "end_time": "2024-11-19T00:39:56.382782",
     "exception": false,
     "start_time": "2024-11-19T00:39:43.440369",
     "status": "completed"
    },
    "tags": []
   },
   "outputs": [
    {
     "name": "stdout",
     "output_type": "stream",
     "text": [
      "Cloning into 'RECsys_Challenge2024'...\r\n",
      "remote: Enumerating objects: 2029, done.\u001b[K\r\n",
      "remote: Counting objects: 100% (411/411), done.\u001b[K\r\n",
      "remote: Compressing objects: 100% (215/215), done.\u001b[K\r\n",
      "remote: Total 2029 (delta 248), reused 323 (delta 188), pack-reused 1618 (from 1)\u001b[K\r\n",
      "Receiving objects: 100% (2029/2029), 141.68 MiB | 22.46 MiB/s, done.\r\n",
      "Resolving deltas: 100% (1193/1193), done.\r\n"
     ]
    }
   ],
   "source": [
    "from kaggle_secrets import UserSecretsClient\n",
    "\n",
    "token = UserSecretsClient().get_secret(\"Token\")\n",
    "\n",
    "! git clone https://{token}@github.com/madratak/RECsys_Challenge2024.git"
   ]
  },
  {
   "cell_type": "code",
   "execution_count": 3,
   "id": "fd151ea0",
   "metadata": {
    "execution": {
     "iopub.execute_input": "2024-11-19T00:39:56.403221Z",
     "iopub.status.busy": "2024-11-19T00:39:56.402796Z",
     "iopub.status.idle": "2024-11-19T00:40:08.584593Z",
     "shell.execute_reply": "2024-11-19T00:40:08.583379Z"
    },
    "papermill": {
     "duration": 12.195403,
     "end_time": "2024-11-19T00:40:08.587181",
     "exception": false,
     "start_time": "2024-11-19T00:39:56.391778",
     "status": "completed"
    },
    "tags": []
   },
   "outputs": [
    {
     "name": "stdout",
     "output_type": "stream",
     "text": [
      "Collecting PyGithub\r\n",
      "  Downloading PyGithub-2.5.0-py3-none-any.whl.metadata (3.9 kB)\r\n",
      "Requirement already satisfied: requests in /opt/conda/lib/python3.10/site-packages (2.32.3)\r\n",
      "Collecting pynacl>=1.4.0 (from PyGithub)\r\n",
      "  Downloading PyNaCl-1.5.0-cp36-abi3-manylinux_2_17_x86_64.manylinux2014_x86_64.manylinux_2_24_x86_64.whl.metadata (8.6 kB)\r\n",
      "Requirement already satisfied: pyjwt>=2.4.0 in /opt/conda/lib/python3.10/site-packages (from pyjwt[crypto]>=2.4.0->PyGithub) (2.8.0)\r\n",
      "Requirement already satisfied: typing-extensions>=4.0.0 in /opt/conda/lib/python3.10/site-packages (from PyGithub) (4.12.2)\r\n",
      "Requirement already satisfied: urllib3>=1.26.0 in /opt/conda/lib/python3.10/site-packages (from PyGithub) (1.26.18)\r\n",
      "Requirement already satisfied: Deprecated in /opt/conda/lib/python3.10/site-packages (from PyGithub) (1.2.14)\r\n",
      "Requirement already satisfied: charset-normalizer<4,>=2 in /opt/conda/lib/python3.10/site-packages (from requests) (3.3.2)\r\n",
      "Requirement already satisfied: idna<4,>=2.5 in /opt/conda/lib/python3.10/site-packages (from requests) (3.7)\r\n",
      "Requirement already satisfied: certifi>=2017.4.17 in /opt/conda/lib/python3.10/site-packages (from requests) (2024.8.30)\r\n",
      "Requirement already satisfied: cryptography>=3.4.0 in /opt/conda/lib/python3.10/site-packages (from pyjwt[crypto]>=2.4.0->PyGithub) (42.0.8)\r\n",
      "Requirement already satisfied: cffi>=1.4.1 in /opt/conda/lib/python3.10/site-packages (from pynacl>=1.4.0->PyGithub) (1.16.0)\r\n",
      "Requirement already satisfied: wrapt<2,>=1.10 in /opt/conda/lib/python3.10/site-packages (from Deprecated->PyGithub) (1.16.0)\r\n",
      "Requirement already satisfied: pycparser in /opt/conda/lib/python3.10/site-packages (from cffi>=1.4.1->pynacl>=1.4.0->PyGithub) (2.22)\r\n",
      "Downloading PyGithub-2.5.0-py3-none-any.whl (375 kB)\r\n",
      "\u001b[2K   \u001b[90m━━━━━━━━━━━━━━━━━━━━━━━━━━━━━━━━━━━━━━━━\u001b[0m \u001b[32m375.9/375.9 kB\u001b[0m \u001b[31m6.9 MB/s\u001b[0m eta \u001b[36m0:00:00\u001b[0m\r\n",
      "\u001b[?25hDownloading PyNaCl-1.5.0-cp36-abi3-manylinux_2_17_x86_64.manylinux2014_x86_64.manylinux_2_24_x86_64.whl (856 kB)\r\n",
      "\u001b[2K   \u001b[90m━━━━━━━━━━━━━━━━━━━━━━━━━━━━━━━━━━━━━━━━\u001b[0m \u001b[32m856.7/856.7 kB\u001b[0m \u001b[31m27.1 MB/s\u001b[0m eta \u001b[36m0:00:00\u001b[0m\r\n",
      "\u001b[?25hInstalling collected packages: pynacl, PyGithub\r\n",
      "Successfully installed PyGithub-2.5.0 pynacl-1.5.0\r\n"
     ]
    }
   ],
   "source": [
    "! pip install PyGithub requests"
   ]
  },
  {
   "cell_type": "code",
   "execution_count": null,
   "id": "9ed95f64",
   "metadata": {
    "_kg_hide-input": false,
    "execution": {
     "iopub.execute_input": "2024-11-19T00:40:08.607592Z",
     "iopub.status.busy": "2024-11-19T00:40:08.607186Z",
     "iopub.status.idle": "2024-11-19T00:42:33.954751Z",
     "shell.execute_reply": "2024-11-19T00:42:33.953704Z"
    },
    "papermill": {
     "duration": 145.360918,
     "end_time": "2024-11-19T00:42:33.957258",
     "exception": false,
     "start_time": "2024-11-19T00:40:08.596340",
     "status": "completed"
    },
    "tags": []
   },
   "outputs": [
    {
     "name": "stdout",
     "output_type": "stream",
     "text": [
      "run_compile_all_cython: Found 11 Cython files in 5 folders...\r\n",
      "run_compile_all_cython: All files will be compiled using your current python environment: '/opt/conda/bin/python'\r\n",
      "Compiling [1/11]: MatrixFactorizationImpressions_Cython_Epoch.pyx... \r\n",
      "In file included from \u001b[01m\u001b[K/opt/conda/lib/python3.10/site-packages/numpy/core/include/numpy/ndarraytypes.h:1929\u001b[m\u001b[K,\r\n",
      "                 from \u001b[01m\u001b[K/opt/conda/lib/python3.10/site-packages/numpy/core/include/numpy/ndarrayobject.h:12\u001b[m\u001b[K,\r\n",
      "                 from \u001b[01m\u001b[K/opt/conda/lib/python3.10/site-packages/numpy/core/include/numpy/arrayobject.h:5\u001b[m\u001b[K,\r\n",
      "                 from \u001b[01m\u001b[KMatrixFactorizationImpressions_Cython_Epoch.c:1252\u001b[m\u001b[K:\r\n",
      "\u001b[01m\u001b[K/opt/conda/lib/python3.10/site-packages/numpy/core/include/numpy/npy_1_7_deprecated_api.h:17:2:\u001b[m\u001b[K \u001b[01;35m\u001b[Kwarning: \u001b[m\u001b[K#warning \"Using deprecated NumPy API, disable it with \" \"#define NPY_NO_DEPRECATED_API NPY_1_7_API_VERSION\" [\u001b[01;35m\u001b[K-Wcpp\u001b[m\u001b[K]\r\n",
      "   17 | #\u001b[01;35m\u001b[Kwarning\u001b[m\u001b[K \"Using deprecated NumPy API, disable it with \" \\\r\n",
      "      |  \u001b[01;35m\u001b[K^~~~~~~\u001b[m\u001b[K\r\n",
      "\u001b[01m\u001b[KMatrixFactorizationImpressions_Cython_Epoch.c:\u001b[m\u001b[K In function '\u001b[01m\u001b[K__pyx_f_43MatrixFactorizationImpressions_Cython_Epoch_32MatrixFactorization_Cython_Epoch_sampleBPR_Cython\u001b[m\u001b[K':\r\n",
      "\u001b[01m\u001b[KMatrixFactorizationImpressions_Cython_Epoch.c:30351:17:\u001b[m\u001b[K \u001b[01;35m\u001b[Kwarning: \u001b[m\u001b[K'\u001b[01m\u001b[K__pyx_v_start_pos_impression_items\u001b[m\u001b[K' may be used uninitialized in this function [\u001b[01;35m\u001b[K-Wmaybe-uninitialized\u001b[m\u001b[K]\r\n",
      "30351 |       \u001b[01;35m\u001b[K__pyx_t_4 = (__pyx_v_start_pos_impression_items + __pyx_v_index)\u001b[m\u001b[K;\r\n",
      "      |       \u001b[01;35m\u001b[K~~~~~~~~~~^~~~~~~~~~~~~~~~~~~~~~~~~~~~~~~~~~~~~~~~~~~~~~~~~~~~~~\u001b[m\u001b[K\r\n",
      "\u001b[01m\u001b[KMatrixFactorizationImpressions_Cython_Epoch.c:\u001b[m\u001b[K In function '\u001b[01m\u001b[K__pyx_pf_43MatrixFactorizationImpressions_Cython_Epoch_32MatrixFactorization_Cython_Epoch_10epochIteration_Cython_ASY_SVD_SGD\u001b[m\u001b[K':\r\n",
      "\u001b[01m\u001b[KMatrixFactorizationImpressions_Cython_Epoch.c:26111:7:\u001b[m\u001b[K \u001b[01;35m\u001b[Kwarning: \u001b[m\u001b[K'\u001b[01m\u001b[K__pyx_v_end_pos_seen_items\u001b[m\u001b[K' may be used uninitialized in this function [\u001b[01;35m\u001b[K-Wmaybe-uninitialized\u001b[m\u001b[K]\r\n",
      "26111 |       \u001b[01;35m\u001b[Kfor\u001b[m\u001b[K (__pyx_t_21 = __pyx_v_start_pos_seen_items; __pyx_t_21 < __pyx_t_20; __pyx_t_21+=1) {\r\n",
      "      |       \u001b[01;35m\u001b[K^~~\u001b[m\u001b[K\r\n",
      "\u001b[01m\u001b[KMatrixFactorizationImpressions_Cython_Epoch.c:26111:7:\u001b[m\u001b[K \u001b[01;35m\u001b[Kwarning: \u001b[m\u001b[K'\u001b[01m\u001b[K__pyx_v_start_pos_seen_items\u001b[m\u001b[K' may be used uninitialized in this function [\u001b[01;35m\u001b[K-Wmaybe-uninitialized\u001b[m\u001b[K]\r\n",
      "/opt/conda/lib/python3.10/site-packages/Cython/Compiler/Main.py:381: FutureWarning: Cython directive 'language_level' not set, using '3str' for now (Py3). This has changed from earlier releases! File: /kaggle/working/RECsys_Challenge2024/Recommenders/MatrixFactorization/Cython/MatrixFactorizationImpressions_Cython_Epoch.pyx\r\n",
      "  tree = Parsing.p_module(s, pxd, full_module_name)\r\n",
      "Compiling [1/11]: MatrixFactorizationImpressions_Cython_Epoch.pyx... PASS\r\n",
      "\r\n",
      "Compiling [2/11]: MatrixFactorization_Cython_Epoch.pyx... \r\n",
      "In file included from \u001b[01m\u001b[K/opt/conda/lib/python3.10/site-packages/numpy/core/include/numpy/ndarraytypes.h:1929\u001b[m\u001b[K,\r\n",
      "                 from \u001b[01m\u001b[K/opt/conda/lib/python3.10/site-packages/numpy/core/include/numpy/ndarrayobject.h:12\u001b[m\u001b[K,\r\n",
      "                 from \u001b[01m\u001b[K/opt/conda/lib/python3.10/site-packages/numpy/core/include/numpy/arrayobject.h:5\u001b[m\u001b[K,\r\n",
      "                 from \u001b[01m\u001b[KMatrixFactorization_Cython_Epoch.c:1252\u001b[m\u001b[K:\r\n",
      "\u001b[01m\u001b[K/opt/conda/lib/python3.10/site-packages/numpy/core/include/numpy/npy_1_7_deprecated_api.h:17:2:\u001b[m\u001b[K \u001b[01;35m\u001b[Kwarning: \u001b[m\u001b[K#warning \"Using deprecated NumPy API, disable it with \" \"#define NPY_NO_DEPRECATED_API NPY_1_7_API_VERSION\" [\u001b[01;35m\u001b[K-Wcpp\u001b[m\u001b[K]\r\n",
      "   17 | #\u001b[01;35m\u001b[Kwarning\u001b[m\u001b[K \"Using deprecated NumPy API, disable it with \" \\\r\n",
      "      |  \u001b[01;35m\u001b[K^~~~~~~\u001b[m\u001b[K\r\n",
      "\u001b[01m\u001b[KMatrixFactorization_Cython_Epoch.c:\u001b[m\u001b[K In function '\u001b[01m\u001b[K__pyx_pf_32MatrixFactorization_Cython_Epoch_32MatrixFactorization_Cython_Epoch_10epochIteration_Cython_ASY_SVD_SGD\u001b[m\u001b[K':\r\n",
      "\u001b[01m\u001b[KMatrixFactorization_Cython_Epoch.c:26255:9:\u001b[m\u001b[K \u001b[01;35m\u001b[Kwarning: \u001b[m\u001b[K'\u001b[01m\u001b[K__pyx_v_end_pos_seen_items\u001b[m\u001b[K' may be used uninitialized in this function [\u001b[01;35m\u001b[K-Wmaybe-uninitialized\u001b[m\u001b[K]\r\n",
      "26255 |         \u001b[01;35m\u001b[Kfor\u001b[m\u001b[K (__pyx_t_21 = __pyx_v_start_pos_seen_items; __pyx_t_21 < __pyx_t_20; __pyx_t_21+=1) {\r\n",
      "      |         \u001b[01;35m\u001b[K^~~\u001b[m\u001b[K\r\n",
      "\u001b[01m\u001b[KMatrixFactorization_Cython_Epoch.c:26255:9:\u001b[m\u001b[K \u001b[01;35m\u001b[Kwarning: \u001b[m\u001b[K'\u001b[01m\u001b[K__pyx_v_start_pos_seen_items\u001b[m\u001b[K' may be used uninitialized in this function [\u001b[01;35m\u001b[K-Wmaybe-uninitialized\u001b[m\u001b[K]\r\n",
      "/opt/conda/lib/python3.10/site-packages/Cython/Compiler/Main.py:381: FutureWarning: Cython directive 'language_level' not set, using '3str' for now (Py3). This has changed from earlier releases! File: /kaggle/working/RECsys_Challenge2024/Recommenders/MatrixFactorization/Cython/MatrixFactorization_Cython_Epoch.pyx\r\n",
      "  tree = Parsing.p_module(s, pxd, full_module_name)\r\n",
      "Compiling [2/11]: MatrixFactorization_Cython_Epoch.pyx... PASS\r\n",
      "\r\n",
      "Compiling [3/11]: Compute_Similarity_Cython.pyx... \r\n",
      "warning: Compute_Similarity_Cython.pyx:21:0: The 'IF' statement is deprecated and will be removed in a future Cython version. Consider using runtime conditions or C macros instead. See https://github.com/cython/cython/issues/4310\r\n",
      "In file included from \u001b[01m\u001b[K/opt/conda/lib/python3.10/site-packages/numpy/core/include/numpy/ndarraytypes.h:1929\u001b[m\u001b[K,\r\n",
      "                 from \u001b[01m\u001b[K/opt/conda/lib/python3.10/site-packages/numpy/core/include/numpy/ndarrayobject.h:12\u001b[m\u001b[K,\r\n",
      "                 from \u001b[01m\u001b[K/opt/conda/lib/python3.10/site-packages/numpy/core/include/numpy/arrayobject.h:5\u001b[m\u001b[K,\r\n",
      "                 from \u001b[01m\u001b[KCompute_Similarity_Cython.c:1252\u001b[m\u001b[K:\r\n",
      "\u001b[01m\u001b[K/opt/conda/lib/python3.10/site-packages/numpy/core/include/numpy/npy_1_7_deprecated_api.h:17:2:\u001b[m\u001b[K \u001b[01;35m\u001b[Kwarning: \u001b[m\u001b[K#warning \"Using deprecated NumPy API, disable it with \" \"#define NPY_NO_DEPRECATED_API NPY_1_7_API_VERSION\" [\u001b[01;35m\u001b[K-Wcpp\u001b[m\u001b[K]\r\n",
      "   17 | #\u001b[01;35m\u001b[Kwarning\u001b[m\u001b[K \"Using deprecated NumPy API, disable it with \" \\\r\n",
      "      |  \u001b[01;35m\u001b[K^~~~~~~\u001b[m\u001b[K\r\n",
      "/opt/conda/lib/python3.10/site-packages/Cython/Compiler/Main.py:381: FutureWarning: Cython directive 'language_level' not set, using '3str' for now (Py3). This has changed from earlier releases! File: /kaggle/working/RECsys_Challenge2024/Recommenders/Similarity/Cython/Compute_Similarity_Cython.pyx\r\n",
      "  tree = Parsing.p_module(s, pxd, full_module_name)\r\n",
      "warning: Compute_Similarity_Cython.pyx:21:0: The 'IF' statement is deprecated and will be removed in a future Cython version. Consider using runtime conditions or C macros instead. See https://github.com/cython/cython/issues/4310\r\n",
      "Compiling [3/11]: Compute_Similarity_Cython.pyx... PASS\r\n",
      "\r\n",
      "Compiling [4/11]: SLIM_BPR_Cython_Epoch.pyx... \r\n",
      "warning: SLIM_BPR_Cython_Epoch.pyx:24:0: The 'IF' statement is deprecated and will be removed in a future Cython version. Consider using runtime conditions or C macros instead. See https://github.com/cython/cython/issues/4310\r\n",
      "warning: SLIM_BPR_Cython_Epoch.pyx:632:34: Non-trivial type declarators in shared declaration (e.g. mix of pointers and values). Each pointer declaration should be on its own line.\r\n",
      "warning: SLIM_BPR_Cython_Epoch.pyx:632:66: Non-trivial type declarators in shared declaration (e.g. mix of pointers and values). Each pointer declaration should be on its own line.\r\n",
      "warning: SLIM_BPR_Cython_Epoch.pyx:817:35: Non-trivial type declarators in shared declaration (e.g. mix of pointers and values). Each pointer declaration should be on its own line.\r\n",
      "warning: SLIM_BPR_Cython_Epoch.pyx:817:52: Non-trivial type declarators in shared declaration (e.g. mix of pointers and values). Each pointer declaration should be on its own line.\r\n",
      "warning: SLIM_BPR_Cython_Epoch.pyx:916:35: Non-trivial type declarators in shared declaration (e.g. mix of pointers and values). Each pointer declaration should be on its own line.\r\n",
      "warning: SLIM_BPR_Cython_Epoch.pyx:916:53: Non-trivial type declarators in shared declaration (e.g. mix of pointers and values). Each pointer declaration should be on its own line.\r\n",
      "warning: SLIM_BPR_Cython_Epoch.pyx:916:69: Non-trivial type declarators in shared declaration (e.g. mix of pointers and values). Each pointer declaration should be on its own line.\r\n",
      "warning: SLIM_BPR_Cython_Epoch.pyx:1051:35: Non-trivial type declarators in shared declaration (e.g. mix of pointers and values). Each pointer declaration should be on its own line.\r\n",
      "warning: SLIM_BPR_Cython_Epoch.pyx:1051:42: Non-trivial type declarators in shared declaration (e.g. mix of pointers and values). Each pointer declaration should be on its own line.\r\n",
      "warning: SLIM_BPR_Cython_Epoch.pyx:1052:35: Non-trivial type declarators in shared declaration (e.g. mix of pointers and values). Each pointer declaration should be on its own line.\r\n",
      "warning: SLIM_BPR_Cython_Epoch.pyx:1052:53: Non-trivial type declarators in shared declaration (e.g. mix of pointers and values). Each pointer declaration should be on its own line.\r\n",
      "\r\n",
      "Error compiling Cython file:\r\n",
      "------------------------------------------------------------\r\n",
      "...\r\n",
      "            vector_pointer_to_list_elements[index].head = current_element\r\n",
      "            current_element = current_element.higher\r\n",
      "\r\n",
      "\r\n",
      "        # Sort array elements on their data field\r\n",
      "        qsort(vector_pointer_to_list_elements, list_length, sizeof(head_pointer_tree_s), compare_struct_on_data)\r\n",
      "                                                                                         ^\r\n",
      "------------------------------------------------------------\r\n",
      "\r\n",
      "SLIM_BPR_Cython_Epoch.pyx:990:89: Cannot assign type 'int (const void *, const void *) except? -1' to 'int (*)(const_void *, const_void *) noexcept'. Exception values are incompatible. Suggest adding 'noexcept' to the type of 'compare_struct_on_data'.\r\n",
      "\r\n",
      "Error compiling Cython file:\r\n",
      "------------------------------------------------------------\r\n",
      "...\r\n",
      "        # Sort array elements on their data field\r\n",
      "        qsort(vector_pointer_to_list_elements, list_length, sizeof(head_pointer_tree_s), compare_struct_on_data)\r\n",
      "\r\n",
      "        # Sort only the TopK according to their column field\r\n",
      "        # Sort is from lower to higher, therefore the elements to be considered are from len-topK to len\r\n",
      "        qsort(&vector_pointer_to_list_elements[list_length-TopK], TopK, sizeof(head_pointer_tree_s), compare_struct_on_column)\r\n",
      "                                                                                                     ^\r\n",
      "------------------------------------------------------------\r\n",
      "\r\n",
      "SLIM_BPR_Cython_Epoch.pyx:994:101: Cannot assign type 'int (const void *, const void *) except? -1' to 'int (*)(const_void *, const_void *) noexcept'. Exception values are incompatible. Suggest adding 'noexcept' to the type of 'compare_struct_on_column'.\r\n",
      "Traceback (most recent call last):\r\n",
      "  File \"/kaggle/working/RECsys_Challenge2024/CythonCompiler/compile_script.py\", line 48, in <module>\r\n",
      "    setup(\r\n",
      "  File \"/opt/conda/lib/python3.10/site-packages/setuptools/__init__.py\", line 103, in setup\r\n",
      "    return distutils.core.setup(**attrs)\r\n",
      "  File \"/opt/conda/lib/python3.10/site-packages/setuptools/_distutils/core.py\", line 184, in setup\r\n",
      "    return run_commands(dist)\r\n",
      "  File \"/opt/conda/lib/python3.10/site-packages/setuptools/_distutils/core.py\", line 200, in run_commands\r\n",
      "    dist.run_commands()\r\n",
      "  File \"/opt/conda/lib/python3.10/site-packages/setuptools/_distutils/dist.py\", line 969, in run_commands\r\n",
      "    self.run_command(cmd)\r\n",
      "  File \"/opt/conda/lib/python3.10/site-packages/setuptools/dist.py\", line 968, in run_command\r\n",
      "    super().run_command(command)\r\n",
      "  File \"/opt/conda/lib/python3.10/site-packages/setuptools/_distutils/dist.py\", line 988, in run_command\r\n",
      "    cmd_obj.run()\r\n",
      "  File \"/opt/conda/lib/python3.10/site-packages/setuptools/_distutils/command/build_ext.py\", line 359, in run\r\n",
      "    self.build_extensions()\r\n",
      "  File \"/opt/conda/lib/python3.10/site-packages/setuptools/_distutils/command/build_ext.py\", line 479, in build_extensions\r\n",
      "    self._build_extensions_serial()\r\n",
      "  File \"/opt/conda/lib/python3.10/site-packages/setuptools/_distutils/command/build_ext.py\", line 505, in _build_extensions_serial\r\n",
      "    self.build_extension(ext)\r\n",
      "  File \"/opt/conda/lib/python3.10/site-packages/Cython/Distutils/build_ext.py\", line 130, in build_extension\r\n",
      "    new_ext = cythonize(\r\n",
      "  File \"/opt/conda/lib/python3.10/site-packages/Cython/Build/Dependencies.py\", line 1154, in cythonize\r\n",
      "    cythonize_one(*args)\r\n",
      "  File \"/opt/conda/lib/python3.10/site-packages/Cython/Build/Dependencies.py\", line 1321, in cythonize_one\r\n",
      "    raise CompileError(None, pyx_file)\r\n",
      "Cython.Compiler.Errors.CompileError: SLIM_BPR_Cython_Epoch.pyx\r\n",
      "Traceback (most recent call last):\r\n",
      "  File \"/kaggle/working/RECsys_Challenge2024/run_compile_all_cython.py\", line 60, in <module>\r\n",
      "    run_compile_subprocess(file_path, [file_name])\r\n",
      "  File \"/kaggle/working/RECsys_Challenge2024/CythonCompiler/run_compile_subprocess.py\", line 51, in run_compile_subprocess\r\n",
      "    raise exc\r\n",
      "  File \"/kaggle/working/RECsys_Challenge2024/CythonCompiler/run_compile_subprocess.py\", line 32, in run_compile_subprocess\r\n",
      "    output = subprocess.check_output(' '.join(command),\r\n",
      "  File \"/opt/conda/lib/python3.10/subprocess.py\", line 421, in check_output\r\n",
      "    return run(*popenargs, stdout=PIPE, timeout=timeout, check=True,\r\n",
      "  File \"/opt/conda/lib/python3.10/subprocess.py\", line 526, in run\r\n",
      "    raise CalledProcessError(retcode, process.args,\r\n",
      "subprocess.CalledProcessError: Command '/opt/conda/bin/python /kaggle/working/RECsys_Challenge2024/CythonCompiler/compile_script.py SLIM_BPR_Cython_Epoch.pyx build_ext --inplace' returned non-zero exit status 1.\r\n",
      "Compiling [4/11]: SLIM_BPR_Cython_Epoch.pyx... FAIL: Command '/opt/conda/bin/python /kaggle/working/RECsys_Challenge2024/CythonCompiler/compile_script.py SLIM_BPR_Cython_Epoch.pyx build_ext --inplace' returned non-zero exit status 1.\r\n",
      "\r\n",
      "Compiling [5/11]: Triangular_Matrix.pyx... \r\n",
      "warning: Triangular_Matrix.pyx:22:0: The 'IF' statement is deprecated and will be removed in a future Cython version. Consider using runtime conditions or C macros instead. See https://github.com/cython/cython/issues/4310\r\n",
      "In file included from \u001b[01m\u001b[K/opt/conda/lib/python3.10/site-packages/numpy/core/include/numpy/ndarraytypes.h:1929\u001b[m\u001b[K,\r\n",
      "                 from \u001b[01m\u001b[K/opt/conda/lib/python3.10/site-packages/numpy/core/include/numpy/ndarrayobject.h:12\u001b[m\u001b[K,\r\n",
      "                 from \u001b[01m\u001b[K/opt/conda/lib/python3.10/site-packages/numpy/core/include/numpy/arrayobject.h:5\u001b[m\u001b[K,\r\n",
      "                 from \u001b[01m\u001b[KTriangular_Matrix.c:1252\u001b[m\u001b[K:\r\n",
      "\u001b[01m\u001b[K/opt/conda/lib/python3.10/site-packages/numpy/core/include/numpy/npy_1_7_deprecated_api.h:17:2:\u001b[m\u001b[K \u001b[01;35m\u001b[Kwarning: \u001b[m\u001b[K#warning \"Using deprecated NumPy API, disable it with \" \"#define NPY_NO_DEPRECATED_API NPY_1_7_API_VERSION\" [\u001b[01;35m\u001b[K-Wcpp\u001b[m\u001b[K]\r\n",
      "   17 | #\u001b[01;35m\u001b[Kwarning\u001b[m\u001b[K \"Using deprecated NumPy API, disable it with \" \\\r\n",
      "      |  \u001b[01;35m\u001b[K^~~~~~~\u001b[m\u001b[K\r\n",
      "/opt/conda/lib/python3.10/site-packages/Cython/Compiler/Main.py:381: FutureWarning: Cython directive 'language_level' not set, using '3str' for now (Py3). This has changed from earlier releases! File: /kaggle/working/RECsys_Challenge2024/Recommenders/SLIM/Cython/Triangular_Matrix.pyx\r\n",
      "  tree = Parsing.p_module(s, pxd, full_module_name)\r\n",
      "warning: Triangular_Matrix.pyx:22:0: The 'IF' statement is deprecated and will be removed in a future Cython version. Consider using runtime conditions or C macros instead. See https://github.com/cython/cython/issues/4310\r\n",
      "Compiling [5/11]: Triangular_Matrix.pyx... PASS\r\n",
      "\r\n",
      "Compiling [6/11]: Sparse_Matrix_Tree_CSR.pyx... \r\n",
      "warning: Sparse_Matrix_Tree_CSR.pyx:132:34: Non-trivial type declarators in shared declaration (e.g. mix of pointers and values). Each pointer declaration should be on its own line.\r\n",
      "warning: Sparse_Matrix_Tree_CSR.pyx:132:66: Non-trivial type declarators in shared declaration (e.g. mix of pointers and values). Each pointer declaration should be on its own line.\r\n",
      "warning: Sparse_Matrix_Tree_CSR.pyx:343:35: Non-trivial type declarators in shared declaration (e.g. mix of pointers and values). Each pointer declaration should be on its own line.\r\n",
      "warning: Sparse_Matrix_Tree_CSR.pyx:343:52: Non-trivial type declarators in shared declaration (e.g. mix of pointers and values). Each pointer declaration should be on its own line.\r\n",
      "warning: Sparse_Matrix_Tree_CSR.pyx:442:35: Non-trivial type declarators in shared declaration (e.g. mix of pointers and values). Each pointer declaration should be on its own line.\r\n",
      "warning: Sparse_Matrix_Tree_CSR.pyx:442:53: Non-trivial type declarators in shared declaration (e.g. mix of pointers and values). Each pointer declaration should be on its own line.\r\n",
      "warning: Sparse_Matrix_Tree_CSR.pyx:442:69: Non-trivial type declarators in shared declaration (e.g. mix of pointers and values). Each pointer declaration should be on its own line.\r\n",
      "warning: Sparse_Matrix_Tree_CSR.pyx:577:35: Non-trivial type declarators in shared declaration (e.g. mix of pointers and values). Each pointer declaration should be on its own line.\r\n",
      "warning: Sparse_Matrix_Tree_CSR.pyx:577:42: Non-trivial type declarators in shared declaration (e.g. mix of pointers and values). Each pointer declaration should be on its own line.\r\n",
      "warning: Sparse_Matrix_Tree_CSR.pyx:578:35: Non-trivial type declarators in shared declaration (e.g. mix of pointers and values). Each pointer declaration should be on its own line.\r\n",
      "warning: Sparse_Matrix_Tree_CSR.pyx:578:53: Non-trivial type declarators in shared declaration (e.g. mix of pointers and values). Each pointer declaration should be on its own line.\r\n",
      "\r\n",
      "Error compiling Cython file:\r\n",
      "------------------------------------------------------------\r\n",
      "...\r\n",
      "            vector_pointer_to_list_elements[index].head = current_element\r\n",
      "            current_element = current_element.higher\r\n",
      "\r\n",
      "\r\n",
      "        # Sort array elements on their data field\r\n",
      "        qsort(vector_pointer_to_list_elements, list_length, sizeof(head_pointer_tree_s), compare_struct_on_data)\r\n",
      "                                                                                         ^\r\n",
      "------------------------------------------------------------\r\n",
      "\r\n",
      "Sparse_Matrix_Tree_CSR.pyx:516:89: Cannot assign type 'int (const void *, const void *) except? -1' to 'int (*)(const_void *, const_void *) noexcept'. Exception values are incompatible. Suggest adding 'noexcept' to the type of 'compare_struct_on_data'.\r\n",
      "\r\n",
      "Error compiling Cython file:\r\n",
      "------------------------------------------------------------\r\n",
      "...\r\n",
      "        # Sort array elements on their data field\r\n",
      "        qsort(vector_pointer_to_list_elements, list_length, sizeof(head_pointer_tree_s), compare_struct_on_data)\r\n",
      "\r\n",
      "        # Sort only the TopK according to their column field\r\n",
      "        # Sort is from lower to higher, therefore the elements to be considered are from len-topK to len\r\n",
      "        qsort(&vector_pointer_to_list_elements[list_length-TopK], TopK, sizeof(head_pointer_tree_s), compare_struct_on_column)\r\n",
      "                                                                                                     ^\r\n",
      "------------------------------------------------------------\r\n",
      "\r\n",
      "Sparse_Matrix_Tree_CSR.pyx:520:101: Cannot assign type 'int (const void *, const void *) except? -1' to 'int (*)(const_void *, const_void *) noexcept'. Exception values are incompatible. Suggest adding 'noexcept' to the type of 'compare_struct_on_column'.\r\n",
      "Traceback (most recent call last):\r\n",
      "  File \"/kaggle/working/RECsys_Challenge2024/CythonCompiler/compile_script.py\", line 48, in <module>\r\n",
      "    setup(\r\n",
      "  File \"/opt/conda/lib/python3.10/site-packages/setuptools/__init__.py\", line 103, in setup\r\n",
      "    return distutils.core.setup(**attrs)\r\n",
      "  File \"/opt/conda/lib/python3.10/site-packages/setuptools/_distutils/core.py\", line 184, in setup\r\n",
      "    return run_commands(dist)\r\n",
      "  File \"/opt/conda/lib/python3.10/site-packages/setuptools/_distutils/core.py\", line 200, in run_commands\r\n",
      "    dist.run_commands()\r\n",
      "  File \"/opt/conda/lib/python3.10/site-packages/setuptools/_distutils/dist.py\", line 969, in run_commands\r\n",
      "    self.run_command(cmd)\r\n",
      "  File \"/opt/conda/lib/python3.10/site-packages/setuptools/dist.py\", line 968, in run_command\r\n",
      "    super().run_command(command)\r\n",
      "  File \"/opt/conda/lib/python3.10/site-packages/setuptools/_distutils/dist.py\", line 988, in run_command\r\n",
      "    cmd_obj.run()\r\n",
      "  File \"/opt/conda/lib/python3.10/site-packages/setuptools/_distutils/command/build_ext.py\", line 359, in run\r\n",
      "    self.build_extensions()\r\n",
      "  File \"/opt/conda/lib/python3.10/site-packages/setuptools/_distutils/command/build_ext.py\", line 479, in build_extensions\r\n",
      "    self._build_extensions_serial()\r\n",
      "  File \"/opt/conda/lib/python3.10/site-packages/setuptools/_distutils/command/build_ext.py\", line 505, in _build_extensions_serial\r\n",
      "    self.build_extension(ext)\r\n",
      "  File \"/opt/conda/lib/python3.10/site-packages/Cython/Distutils/build_ext.py\", line 130, in build_extension\r\n",
      "    new_ext = cythonize(\r\n",
      "  File \"/opt/conda/lib/python3.10/site-packages/Cython/Build/Dependencies.py\", line 1154, in cythonize\r\n",
      "    cythonize_one(*args)\r\n",
      "  File \"/opt/conda/lib/python3.10/site-packages/Cython/Build/Dependencies.py\", line 1321, in cythonize_one\r\n",
      "    raise CompileError(None, pyx_file)\r\n",
      "Cython.Compiler.Errors.CompileError: Sparse_Matrix_Tree_CSR.pyx\r\n",
      "Traceback (most recent call last):\r\n",
      "  File \"/kaggle/working/RECsys_Challenge2024/run_compile_all_cython.py\", line 60, in <module>\r\n",
      "    run_compile_subprocess(file_path, [file_name])\r\n",
      "  File \"/kaggle/working/RECsys_Challenge2024/CythonCompiler/run_compile_subprocess.py\", line 51, in run_compile_subprocess\r\n",
      "    raise exc\r\n",
      "  File \"/kaggle/working/RECsys_Challenge2024/CythonCompiler/run_compile_subprocess.py\", line 32, in run_compile_subprocess\r\n",
      "    output = subprocess.check_output(' '.join(command),\r\n",
      "  File \"/opt/conda/lib/python3.10/subprocess.py\", line 421, in check_output\r\n",
      "    return run(*popenargs, stdout=PIPE, timeout=timeout, check=True,\r\n",
      "  File \"/opt/conda/lib/python3.10/subprocess.py\", line 526, in run\r\n",
      "    raise CalledProcessError(retcode, process.args,\r\n",
      "subprocess.CalledProcessError: Command '/opt/conda/bin/python /kaggle/working/RECsys_Challenge2024/CythonCompiler/compile_script.py Sparse_Matrix_Tree_CSR.pyx build_ext --inplace' returned non-zero exit status 1.\r\n",
      "Compiling [6/11]: Sparse_Matrix_Tree_CSR.pyx... FAIL: Command '/opt/conda/bin/python /kaggle/working/RECsys_Challenge2024/CythonCompiler/compile_script.py Sparse_Matrix_Tree_CSR.pyx build_ext --inplace' returned non-zero exit status 1.\r\n",
      "\r\n",
      "Compiling [7/11]: CFW_D_Similarity_Cython_SGD.pyx... \r\n",
      "In file included from \u001b[01m\u001b[K/opt/conda/lib/python3.10/site-packages/numpy/core/include/numpy/ndarraytypes.h:1929\u001b[m\u001b[K,\r\n",
      "                 from \u001b[01m\u001b[K/opt/conda/lib/python3.10/site-packages/numpy/core/include/numpy/ndarrayobject.h:12\u001b[m\u001b[K,\r\n",
      "                 from \u001b[01m\u001b[K/opt/conda/lib/python3.10/site-packages/numpy/core/include/numpy/arrayobject.h:5\u001b[m\u001b[K,\r\n",
      "                 from \u001b[01m\u001b[KCFW_D_Similarity_Cython_SGD.c:1252\u001b[m\u001b[K:\r\n",
      "\u001b[01m\u001b[K/opt/conda/lib/python3.10/site-packages/numpy/core/include/numpy/npy_1_7_deprecated_api.h:17:2:\u001b[m\u001b[K \u001b[01;35m\u001b[Kwarning: \u001b[m\u001b[K#warning \"Using deprecated NumPy API, disable it with \" \"#define NPY_NO_DEPRECATED_API NPY_1_7_API_VERSION\" [\u001b[01;35m\u001b[K-Wcpp\u001b[m\u001b[K]\r\n",
      "   17 | #\u001b[01;35m\u001b[Kwarning\u001b[m\u001b[K \"Using deprecated NumPy API, disable it with \" \\\r\n",
      "      |  \u001b[01;35m\u001b[K^~~~~~~\u001b[m\u001b[K\r\n",
      "\u001b[01m\u001b[KCFW_D_Similarity_Cython_SGD.c:\u001b[m\u001b[K In function '\u001b[01m\u001b[K__pyx_pf_27CFW_D_Similarity_Cython_SGD_27CFW_D_Similarity_Cython_SGD_6fit\u001b[m\u001b[K':\r\n",
      "\u001b[01m\u001b[KCFW_D_Similarity_Cython_SGD.c:23373:55:\u001b[m\u001b[K \u001b[01;35m\u001b[Kwarning: \u001b[m\u001b[K'\u001b[01m\u001b[K__pyx_v_sample_num\u001b[m\u001b[K' may be used uninitialized in this function [\u001b[01;35m\u001b[K-Wmaybe-uninitialized\u001b[m\u001b[K]\r\n",
      "23373 |   __pyx_t_3 = PyFloat_FromDouble((__pyx_v_cum_loss / \u001b[01;35m\u001b[K((double)__pyx_v_sample_num)\u001b[m\u001b[K)); if (unlikely(!__pyx_t_3)) __PYX_ERR(0, 290, __pyx_L1_error)\r\n",
      "      |                                                      \u001b[01;35m\u001b[K~^~~~~~~~~~~~~~~~~~~~~~~~~~~\u001b[m\u001b[K\r\n",
      "/opt/conda/lib/python3.10/site-packages/Cython/Compiler/Main.py:381: FutureWarning: Cython directive 'language_level' not set, using '3str' for now (Py3). This has changed from earlier releases! File: /kaggle/working/RECsys_Challenge2024/Recommenders/FeatureWeighting/Cython/CFW_D_Similarity_Cython_SGD.pyx\r\n",
      "  tree = Parsing.p_module(s, pxd, full_module_name)\r\n",
      "Compiling [7/11]: CFW_D_Similarity_Cython_SGD.pyx... PASS\r\n",
      "\r\n",
      "Compiling [8/11]: HP3_Similarity_Cython_SGD.pyx... \r\n",
      "performance hint: HP3_Similarity_Cython_SGD.pyx:113:40: Index should be typed for more efficient access\r\n",
      "performance hint: HP3_Similarity_Cython_SGD.pyx:114:40: Index should be typed for more efficient access\r\n",
      "In file included from \u001b[01m\u001b[K/opt/conda/lib/python3.10/site-packages/numpy/core/include/numpy/ndarraytypes.h:1929\u001b[m\u001b[K,\r\n",
      "                 from \u001b[01m\u001b[K/opt/conda/lib/python3.10/site-packages/numpy/core/include/numpy/ndarrayobject.h:12\u001b[m\u001b[K,\r\n",
      "                 from \u001b[01m\u001b[K/opt/conda/lib/python3.10/site-packages/numpy/core/include/numpy/arrayobject.h:5\u001b[m\u001b[K,\r\n",
      "                 from \u001b[01m\u001b[KHP3_Similarity_Cython_SGD.c:1252\u001b[m\u001b[K:\r\n",
      "\u001b[01m\u001b[K/opt/conda/lib/python3.10/site-packages/numpy/core/include/numpy/npy_1_7_deprecated_api.h:17:2:\u001b[m\u001b[K \u001b[01;35m\u001b[Kwarning: \u001b[m\u001b[K#warning \"Using deprecated NumPy API, disable it with \" \"#define NPY_NO_DEPRECATED_API NPY_1_7_API_VERSION\" [\u001b[01;35m\u001b[K-Wcpp\u001b[m\u001b[K]\r\n",
      "   17 | #\u001b[01;35m\u001b[Kwarning\u001b[m\u001b[K \"Using deprecated NumPy API, disable it with \" \\\r\n",
      "      |  \u001b[01;35m\u001b[K^~~~~~~\u001b[m\u001b[K\r\n",
      "\u001b[01m\u001b[KHP3_Similarity_Cython_SGD.c:\u001b[m\u001b[K In function '\u001b[01m\u001b[K__pyx_pf_25HP3_Similarity_Cython_SGD_25HP3_Similarity_Cython_SGD_4fit\u001b[m\u001b[K':\r\n",
      "\u001b[01m\u001b[KHP3_Similarity_Cython_SGD.c:23631:55:\u001b[m\u001b[K \u001b[01;35m\u001b[Kwarning: \u001b[m\u001b[K'\u001b[01m\u001b[K__pyx_v_sample_num\u001b[m\u001b[K' may be used uninitialized in this function [\u001b[01;35m\u001b[K-Wmaybe-uninitialized\u001b[m\u001b[K]\r\n",
      "23631 |   __pyx_t_1 = PyFloat_FromDouble((__pyx_v_cum_loss / \u001b[01;35m\u001b[K((double)__pyx_v_sample_num)\u001b[m\u001b[K)); if (unlikely(!__pyx_t_1)) __PYX_ERR(0, 291, __pyx_L1_error)\r\n",
      "      |                                                      \u001b[01;35m\u001b[K~^~~~~~~~~~~~~~~~~~~~~~~~~~~\u001b[m\u001b[K\r\n",
      "/opt/conda/lib/python3.10/site-packages/Cython/Compiler/Main.py:381: FutureWarning: Cython directive 'language_level' not set, using '3str' for now (Py3). This has changed from earlier releases! File: /kaggle/working/RECsys_Challenge2024/Recommenders/FeatureWeighting/Cython/HP3_Similarity_Cython_SGD.pyx\r\n",
      "  tree = Parsing.p_module(s, pxd, full_module_name)\r\n",
      "performance hint: HP3_Similarity_Cython_SGD.pyx:113:40: Index should be typed for more efficient access\r\n",
      "performance hint: HP3_Similarity_Cython_SGD.pyx:114:40: Index should be typed for more efficient access\r\n",
      "Compiling [8/11]: HP3_Similarity_Cython_SGD.pyx... PASS\r\n",
      "\r\n",
      "Compiling [9/11]: FBSM_Rating_Cython_SGD.pyx... \r\n",
      "In file included from \u001b[01m\u001b[K/opt/conda/lib/python3.10/site-packages/numpy/core/include/numpy/ndarraytypes.h:1929\u001b[m\u001b[K,\r\n",
      "                 from \u001b[01m\u001b[K/opt/conda/lib/python3.10/site-packages/numpy/core/include/numpy/ndarrayobject.h:12\u001b[m\u001b[K,\r\n",
      "                 from \u001b[01m\u001b[K/opt/conda/lib/python3.10/site-packages/numpy/core/include/numpy/arrayobject.h:5\u001b[m\u001b[K,\r\n",
      "                 from \u001b[01m\u001b[KFBSM_Rating_Cython_SGD.c:1252\u001b[m\u001b[K:\r\n",
      "\u001b[01m\u001b[K/opt/conda/lib/python3.10/site-packages/numpy/core/include/numpy/npy_1_7_deprecated_api.h:17:2:\u001b[m\u001b[K \u001b[01;35m\u001b[Kwarning: \u001b[m\u001b[K#warning \"Using deprecated NumPy API, disable it with \" \"#define NPY_NO_DEPRECATED_API NPY_1_7_API_VERSION\" [\u001b[01;35m\u001b[K-Wcpp\u001b[m\u001b[K]\r\n",
      "   17 | #\u001b[01;35m\u001b[Kwarning\u001b[m\u001b[K \"Using deprecated NumPy API, disable it with \" \\\r\n",
      "      |  \u001b[01;35m\u001b[K^~~~~~~\u001b[m\u001b[K\r\n",
      "\u001b[01m\u001b[KFBSM_Rating_Cython_SGD.c:\u001b[m\u001b[K In function '\u001b[01m\u001b[K__pyx_pf_22FBSM_Rating_Cython_SGD_22FBSM_Rating_Cython_SGD_2fit\u001b[m\u001b[K':\r\n",
      "\u001b[01m\u001b[KFBSM_Rating_Cython_SGD.c:26607:55:\u001b[m\u001b[K \u001b[01;35m\u001b[Kwarning: \u001b[m\u001b[K'\u001b[01m\u001b[K__pyx_v_num_sample\u001b[m\u001b[K' may be used uninitialized in this function [\u001b[01;35m\u001b[K-Wmaybe-uninitialized\u001b[m\u001b[K]\r\n",
      "26607 |   __pyx_t_5 = PyFloat_FromDouble((__pyx_v_cum_loss / \u001b[01;35m\u001b[K((double)__pyx_v_num_sample)\u001b[m\u001b[K)); if (unlikely(!__pyx_t_5)) __PYX_ERR(0, 551, __pyx_L1_error)\r\n",
      "      |                                                      \u001b[01;35m\u001b[K~^~~~~~~~~~~~~~~~~~~~~~~~~~~\u001b[m\u001b[K\r\n",
      "/opt/conda/lib/python3.10/site-packages/Cython/Compiler/Main.py:381: FutureWarning: Cython directive 'language_level' not set, using '3str' for now (Py3). This has changed from earlier releases! File: /kaggle/working/RECsys_Challenge2024/Recommenders/FeatureWeighting/Cython/FBSM_Rating_Cython_SGD.pyx\r\n",
      "  tree = Parsing.p_module(s, pxd, full_module_name)\r\n",
      "Compiling [9/11]: FBSM_Rating_Cython_SGD.pyx... PASS\r\n",
      "\r\n",
      "Compiling [10/11]: CFW_DVV_Similarity_Cython_SGD.pyx... \r\n",
      "In file included from \u001b[01m\u001b[K/opt/conda/lib/python3.10/site-packages/numpy/core/include/numpy/ndarraytypes.h:1929\u001b[m\u001b[K,\r\n",
      "                 from \u001b[01m\u001b[K/opt/conda/lib/python3.10/site-packages/numpy/core/include/numpy/ndarrayobject.h:12\u001b[m\u001b[K,\r\n",
      "                 from \u001b[01m\u001b[K/opt/conda/lib/python3.10/site-packages/numpy/core/include/numpy/arrayobject.h:5\u001b[m\u001b[K,\r\n",
      "                 from \u001b[01m\u001b[KCFW_DVV_Similarity_Cython_SGD.c:1252\u001b[m\u001b[K:\r\n",
      "\u001b[01m\u001b[K/opt/conda/lib/python3.10/site-packages/numpy/core/include/numpy/npy_1_7_deprecated_api.h:17:2:\u001b[m\u001b[K \u001b[01;35m\u001b[Kwarning: \u001b[m\u001b[K#warning \"Using deprecated NumPy API, disable it with \" \"#define NPY_NO_DEPRECATED_API NPY_1_7_API_VERSION\" [\u001b[01;35m\u001b[K-Wcpp\u001b[m\u001b[K]\r\n",
      "   17 | #\u001b[01;35m\u001b[Kwarning\u001b[m\u001b[K \"Using deprecated NumPy API, disable it with \" \\\r\n",
      "      |  \u001b[01;35m\u001b[K^~~~~~~\u001b[m\u001b[K\r\n",
      "/opt/conda/lib/python3.10/site-packages/Cython/Compiler/Main.py:381: FutureWarning: Cython directive 'language_level' not set, using '3str' for now (Py3). This has changed from earlier releases! File: /kaggle/working/RECsys_Challenge2024/Recommenders/FeatureWeighting/Cython/CFW_DVV_Similarity_Cython_SGD.pyx\r\n",
      "  tree = Parsing.p_module(s, pxd, full_module_name)\r\n",
      "Compiling [10/11]: CFW_DVV_Similarity_Cython_SGD.pyx... PASS\r\n",
      "\r\n",
      "Compiling [11/11]: DataIterator.pyx... \r\n",
      "In file included from \u001b[01m\u001b[K/opt/conda/lib/python3.10/site-packages/numpy/core/include/numpy/ndarraytypes.h:1929\u001b[m\u001b[K,\r\n",
      "                 from \u001b[01m\u001b[K/opt/conda/lib/python3.10/site-packages/numpy/core/include/numpy/ndarrayobject.h:12\u001b[m\u001b[K,\r\n",
      "                 from \u001b[01m\u001b[K/opt/conda/lib/python3.10/site-packages/numpy/core/include/numpy/arrayobject.h:5\u001b[m\u001b[K,\r\n",
      "                 from \u001b[01m\u001b[KDataIterator.c:1252\u001b[m\u001b[K:\r\n",
      "\u001b[01m\u001b[K/opt/conda/lib/python3.10/site-packages/numpy/core/include/numpy/npy_1_7_deprecated_api.h:17:2:\u001b[m\u001b[K \u001b[01;35m\u001b[Kwarning: \u001b[m\u001b[K#warning \"Using deprecated NumPy API, disable it with \" \"#define NPY_NO_DEPRECATED_API NPY_1_7_API_VERSION\" [\u001b[01;35m\u001b[K-Wcpp\u001b[m\u001b[K]\r\n",
      "   17 | #\u001b[01;35m\u001b[Kwarning\u001b[m\u001b[K \"Using deprecated NumPy API, disable it with \" \\\r\n",
      "      |  \u001b[01;35m\u001b[K^~~~~~~\u001b[m\u001b[K\r\n",
      "\u001b[01m\u001b[KDataIterator.c:\u001b[m\u001b[K In function '\u001b[01m\u001b[K__pyx_pf_12DataIterator_30InteractionAndNegativeIterator_6__next__\u001b[m\u001b[K':\r\n",
      "\u001b[01m\u001b[KDataIterator.c:25495:22:\u001b[m\u001b[K \u001b[01;35m\u001b[Kwarning: \u001b[m\u001b[K'\u001b[01m\u001b[K__pyx_v_i_batch\u001b[m\u001b[K' may be used uninitialized in this function [\u001b[01;35m\u001b[K-Wmaybe-uninitialized\u001b[m\u001b[K]\r\n",
      "25495 |     (__pyx_v_i_batch \u001b[01;35m\u001b[K+\u001b[m\u001b[K 1),\r\n",
      "      |                      \u001b[01;35m\u001b[K^\u001b[m\u001b[K\r\n",
      "\u001b[01m\u001b[KDataIterator.c:\u001b[m\u001b[K In function '\u001b[01m\u001b[K__pyx_pf_12DataIterator_11BPRIterator_6__next__\u001b[m\u001b[K':\r\n",
      "\u001b[01m\u001b[KDataIterator.c:23054:22:\u001b[m\u001b[K \u001b[01;35m\u001b[Kwarning: \u001b[m\u001b[K'\u001b[01m\u001b[K__pyx_v_i_batch\u001b[m\u001b[K' may be used uninitialized in this function [\u001b[01;35m\u001b[K-Wmaybe-uninitialized\u001b[m\u001b[K]\r\n",
      "23054 |     (__pyx_v_i_batch \u001b[01;35m\u001b[K+\u001b[m\u001b[K 1),\r\n",
      "      |                      \u001b[01;35m\u001b[K^\u001b[m\u001b[K\r\n",
      "\u001b[01m\u001b[KDataIterator.c:\u001b[m\u001b[K In function '\u001b[01m\u001b[K__pyx_pf_12DataIterator_19InteractionIterator_6__next__\u001b[m\u001b[K':\r\n",
      "\u001b[01m\u001b[KDataIterator.c:20937:22:\u001b[m\u001b[K \u001b[01;35m\u001b[Kwarning: \u001b[m\u001b[K'\u001b[01m\u001b[K__pyx_v_i_batch\u001b[m\u001b[K' may be used uninitialized in this function [\u001b[01;35m\u001b[K-Wmaybe-uninitialized\u001b[m\u001b[K]\r\n",
      "20937 |     (__pyx_v_i_batch \u001b[01;35m\u001b[K+\u001b[m\u001b[K 1),\r\n",
      "      |                      \u001b[01;35m\u001b[K^\u001b[m\u001b[K\r\n",
      "/opt/conda/lib/python3.10/site-packages/Cython/Compiler/Main.py:381: FutureWarning: Cython directive 'language_level' not set, using '3str' for now (Py3). This has changed from earlier releases! File: /kaggle/working/RECsys_Challenge2024/Utils/PyTorch/Cython/DataIterator.pyx\r\n",
      "  tree = Parsing.p_module(s, pxd, full_module_name)\r\n",
      "Compiling [11/11]: DataIterator.pyx... PASS\r\n",
      "\r\n",
      "run_compile_all_cython: Compilation finished. FAILS 2/11.\r\n",
      "Compilation log can be found here: './result_experiments/run_compile_all_cython.txt'\r\n"
     ]
    }
   ],
   "source": [
    "% cd /kaggle/working/RECsys_Challenge2024\n",
    "! python run_compile_all_cython.py"
   ]
  },
  {
   "cell_type": "code",
   "execution_count": null,
   "id": "e9a486cb",
   "metadata": {
    "execution": {
     "iopub.execute_input": "2024-11-19T00:42:33.984552Z",
     "iopub.status.busy": "2024-11-19T00:42:33.983509Z",
     "iopub.status.idle": "2024-11-19T00:42:35.505124Z",
     "shell.execute_reply": "2024-11-19T00:42:35.504130Z"
    },
    "papermill": {
     "duration": 1.537725,
     "end_time": "2024-11-19T00:42:35.507440",
     "exception": false,
     "start_time": "2024-11-19T00:42:33.969715",
     "status": "completed"
    },
    "tags": []
   },
   "outputs": [],
   "source": [
    "from Utils.notebookFunctions import *\n",
    "import numpy as np\n",
    "import pandas as pd\n",
    "import scipy.sparse as sps\n",
    "import time\n",
    "import shutil\n",
    "import optuna\n",
    "import json\n",
    "import os\n",
    "from Utils.seconds_to_biggest_unit import seconds_to_biggest_unit\n",
    "\n",
    "\n",
    "K_PATH = '/kaggle/working/RecSys_Challenge2024'\n",
    "GH_PATH = 'TrainedModels/WithoutKFCV/SingleRecommenders'\n",
    "\n",
    "np.random.seed(42)"
   ]
  },
  {
   "cell_type": "markdown",
   "id": "a45ca07e",
   "metadata": {
    "papermill": {
     "duration": 0.011883,
     "end_time": "2024-11-19T00:42:35.532309",
     "exception": false,
     "start_time": "2024-11-19T00:42:35.520426",
     "status": "completed"
    },
    "tags": []
   },
   "source": [
    "## Import the repository **RECsys_Challenge2024**"
   ]
  },
  {
   "cell_type": "code",
   "execution_count": null,
   "id": "a86fec4b",
   "metadata": {
    "execution": {
     "iopub.execute_input": "2024-11-19T00:42:35.558319Z",
     "iopub.status.busy": "2024-11-19T00:42:35.557811Z",
     "iopub.status.idle": "2024-11-19T00:42:36.203023Z",
     "shell.execute_reply": "2024-11-19T00:42:36.201898Z"
    },
    "papermill": {
     "duration": 0.661067,
     "end_time": "2024-11-19T00:42:36.205331",
     "exception": false,
     "start_time": "2024-11-19T00:42:35.544264",
     "status": "completed"
    },
    "tags": []
   },
   "outputs": [
    {
     "name": "stdout",
     "output_type": "stream",
     "text": [
      "Repository 'RECsys_Challenge2024' found.\n"
     ]
    }
   ],
   "source": [
    "repo = get_repo_from_github(token)"
   ]
  },
  {
   "cell_type": "code",
   "execution_count": 8,
   "id": "ac2882bd",
   "metadata": {
    "execution": {
     "iopub.execute_input": "2024-11-19T00:42:36.267287Z",
     "iopub.status.busy": "2024-11-19T00:42:36.266530Z",
     "iopub.status.idle": "2024-11-19T00:42:36.271373Z",
     "shell.execute_reply": "2024-11-19T00:42:36.270358Z"
    },
    "papermill": {
     "duration": 0.019901,
     "end_time": "2024-11-19T00:42:36.273409",
     "exception": false,
     "start_time": "2024-11-19T00:42:36.253508",
     "status": "completed"
    },
    "tags": []
   },
   "outputs": [],
   "source": [
    "config = {\n",
    "    'model': 'ItemKNNCF',\n",
    "    'tune_parameters': True,\n",
    "    'database_path': '/kaggle/working/history_ItemKNNCF.db',\n",
    "    'copy_prev_best_params': False,\n",
    "    'tune_best_params': True,\n",
    "    'save_github': True\n",
    "}"
   ]
  },
  {
   "cell_type": "markdown",
   "id": "e30654f9",
   "metadata": {
    "papermill": {
     "duration": 0.012246,
     "end_time": "2024-11-19T00:42:36.297998",
     "exception": false,
     "start_time": "2024-11-19T00:42:36.285752",
     "status": "completed"
    },
    "tags": []
   },
   "source": [
    "Import the database where previous tuning trials have been saved."
   ]
  },
  {
   "cell_type": "code",
   "execution_count": null,
   "id": "f284a3b4",
   "metadata": {
    "execution": {
     "iopub.execute_input": "2024-11-19T00:42:36.324905Z",
     "iopub.status.busy": "2024-11-19T00:42:36.324517Z",
     "iopub.status.idle": "2024-11-19T00:42:36.330809Z",
     "shell.execute_reply": "2024-11-19T00:42:36.329709Z"
    },
    "papermill": {
     "duration": 0.021932,
     "end_time": "2024-11-19T00:42:36.333031",
     "exception": false,
     "start_time": "2024-11-19T00:42:36.311099",
     "status": "completed"
    },
    "tags": []
   },
   "outputs": [],
   "source": [
    "try:\n",
    "    shutil.copyfile(\n",
    "        f'{K_PATH}/{GH_PATH}/{config[\"model\"]}Recommender/history_{config[\"model\"]}.db', \n",
    "        config['database_path']\n",
    "    )\n",
    "except FileNotFoundError:\n",
    "    pass # if not present optuna will create it"
   ]
  },
  {
   "cell_type": "markdown",
   "id": "fd698b07",
   "metadata": {
    "papermill": {
     "duration": 0.011931,
     "end_time": "2024-11-19T00:42:36.357588",
     "exception": false,
     "start_time": "2024-11-19T00:42:36.345657",
     "status": "completed"
    },
    "tags": []
   },
   "source": [
    "# Construction of URM and ICM matrices"
   ]
  },
  {
   "cell_type": "code",
   "execution_count": 10,
   "id": "45784fd0",
   "metadata": {
    "execution": {
     "iopub.execute_input": "2024-11-19T00:42:36.383405Z",
     "iopub.status.busy": "2024-11-19T00:42:36.383027Z",
     "iopub.status.idle": "2024-11-19T00:42:37.172165Z",
     "shell.execute_reply": "2024-11-19T00:42:37.171104Z"
    },
    "papermill": {
     "duration": 0.804551,
     "end_time": "2024-11-19T00:42:37.174226",
     "exception": false,
     "start_time": "2024-11-19T00:42:36.369675",
     "status": "completed"
    },
    "tags": []
   },
   "outputs": [
    {
     "data": {
      "text/plain": [
       "<Compressed Sparse Row sparse matrix of dtype 'float64'\n",
       "\twith 1764607 stored elements and shape (35736, 38121)>"
      ]
     },
     "execution_count": 10,
     "metadata": {},
     "output_type": "execute_result"
    }
   ],
   "source": [
    "URM_all_dataframe = pd.read_csv(\"/kaggle/input/recommender-system-2024-challenge-polimi/data_train.csv\")\n",
    "\n",
    "n_users = len(URM_all_dataframe[\"user_id\"].unique())\n",
    "n_items = len(URM_all_dataframe[\"item_id\"].unique())\n",
    "\n",
    "URM_all = sps.csr_matrix((URM_all_dataframe[\"data\"].values, \n",
    "                          (URM_all_dataframe[\"user_id\"].values, URM_all_dataframe[\"item_id\"].values)),\n",
    "                        shape = (n_users, n_items))\n",
    "\n",
    "URM_all"
   ]
  },
  {
   "cell_type": "code",
   "execution_count": 11,
   "id": "8bae5637",
   "metadata": {
    "execution": {
     "iopub.execute_input": "2024-11-19T00:42:37.201314Z",
     "iopub.status.busy": "2024-11-19T00:42:37.200572Z",
     "iopub.status.idle": "2024-11-19T00:42:38.390203Z",
     "shell.execute_reply": "2024-11-19T00:42:38.389145Z"
    },
    "papermill": {
     "duration": 1.205412,
     "end_time": "2024-11-19T00:42:38.392279",
     "exception": false,
     "start_time": "2024-11-19T00:42:37.186867",
     "status": "completed"
    },
    "tags": []
   },
   "outputs": [
    {
     "data": {
      "text/plain": [
       "<Compressed Sparse Row sparse matrix of dtype 'float64'\n",
       "\twith 2940040 stored elements and shape (38121, 94331)>"
      ]
     },
     "execution_count": 11,
     "metadata": {},
     "output_type": "execute_result"
    }
   ],
   "source": [
    "ICM_dataframe = pd.read_csv(\"/kaggle/input/recommender-system-2024-challenge-polimi/data_ICM_metadata.csv\")\n",
    "\n",
    "n_items = len(ICM_dataframe[\"item_id\"].unique())\n",
    "n_features = len(ICM_dataframe[\"feature_id\"].unique())\n",
    "\n",
    "ICM_all = sps.csr_matrix((ICM_dataframe[\"data\"].values, \n",
    "                          (ICM_dataframe[\"item_id\"].values, ICM_dataframe[\"feature_id\"].values)),\n",
    "                        shape = (n_items, n_features))\n",
    "\n",
    "ICM_all"
   ]
  },
  {
   "cell_type": "markdown",
   "id": "6ab51c15",
   "metadata": {
    "papermill": {
     "duration": 0.01203,
     "end_time": "2024-11-19T00:42:38.416737",
     "exception": false,
     "start_time": "2024-11-19T00:42:38.404707",
     "status": "completed"
    },
    "tags": []
   },
   "source": [
    "# Training"
   ]
  },
  {
   "cell_type": "code",
   "execution_count": 13,
   "id": "3b1a97bc",
   "metadata": {
    "execution": {
     "iopub.execute_input": "2024-11-19T00:42:38.480798Z",
     "iopub.status.busy": "2024-11-19T00:42:38.480393Z",
     "iopub.status.idle": "2024-11-19T00:42:41.555906Z",
     "shell.execute_reply": "2024-11-19T00:42:41.554784Z"
    },
    "papermill": {
     "duration": 3.093285,
     "end_time": "2024-11-19T00:42:41.557977",
     "exception": false,
     "start_time": "2024-11-19T00:42:38.464692",
     "status": "completed"
    },
    "tags": []
   },
   "outputs": [
    {
     "name": "stdout",
     "output_type": "stream",
     "text": [
      "Warning: 141 (0.39 %) of 35736 users have no sampled items\n",
      "EvaluatorHoldout: Ignoring 141 ( 0.4%) Users that have less than 1 test interactions\n"
     ]
    }
   ],
   "source": [
    "from Evaluation.Evaluator import EvaluatorHoldout\n",
    "from Data_manager.split_functions.split_train_validation_random_holdout import split_train_in_two_percentage_global_sample\n",
    "\n",
    "URM_train, URM_validation = split_train_in_two_percentage_global_sample(URM_all, train_percentage = 0.80)\n",
    "\n",
    "evaluator_validation = EvaluatorHoldout(URM_validation, cutoff_list=[10])"
   ]
  },
  {
   "cell_type": "code",
   "execution_count": 14,
   "id": "7b4ef790",
   "metadata": {
    "execution": {
     "iopub.execute_input": "2024-11-19T00:42:41.586008Z",
     "iopub.status.busy": "2024-11-19T00:42:41.585342Z",
     "iopub.status.idle": "2024-11-19T00:42:41.602908Z",
     "shell.execute_reply": "2024-11-19T00:42:41.601713Z"
    },
    "papermill": {
     "duration": 0.034777,
     "end_time": "2024-11-19T00:42:41.605252",
     "exception": false,
     "start_time": "2024-11-19T00:42:41.570475",
     "status": "completed"
    },
    "tags": []
   },
   "outputs": [],
   "source": [
    "from Recommenders.KNN.ItemKNNCFRecommender import ItemKNNCFRecommender\n",
    "\n",
    "def objective_function_ItemKNNCF(optuna_trial):\n",
    "    \n",
    "    recommender_instance = ItemKNNCFRecommender(URM_train)\n",
    "    similarity = optuna_trial.suggest_categorical(\"similarity\", ['cosine', 'dice', 'jaccard', 'asymmetric', 'tversky', 'euclidean'])\n",
    "    \n",
    "    full_hyperp = {\"similarity\": similarity,\n",
    "                   \"topK\": optuna_trial.suggest_int(\"topK\", 0, 750),\n",
    "                   \"shrink\": optuna_trial.suggest_int(\"shrink\", 0, 1000),\n",
    "                   'feature_weighting': optuna_trial.suggest_categorical('feature_weighting', [\"BM25\", \"TF-IDF\", \"none\"])\n",
    "                  }\n",
    "    \n",
    "    if similarity == \"asymmetric\":\n",
    "        full_hyperp[\"asymmetric_alpha\"] = optuna_trial.suggest_float(\"asymmetric_alpha\", 0, 2, log=False)\n",
    "        full_hyperp[\"normalize\"] = True     \n",
    "\n",
    "    elif similarity == \"tversky\":\n",
    "        full_hyperp[\"tversky_alpha\"] = optuna_trial.suggest_float(\"tversky_alpha\", 0, 2, log=False)\n",
    "        full_hyperp[\"tversky_beta\"] = optuna_trial.suggest_float(\"tversky_beta\", 0, 2, log=False)\n",
    "        full_hyperp[\"normalize\"] = True \n",
    "\n",
    "    elif similarity == \"euclidean\":\n",
    "        full_hyperp[\"normalize_avg_row\"] = optuna_trial.suggest_categorical(\"normalize_avg_row\", [True, False])\n",
    "        full_hyperp[\"similarity_from_distance_mode\"] = optuna_trial.suggest_categorical(\"similarity_from_distance_mode\", [\"lin\", \"log\", \"exp\"])\n",
    "        full_hyperp[\"normalize\"] = optuna_trial.suggest_categorical(\"normalize\", [True, False])\n",
    "        \n",
    "    \n",
    "    recommender_instance.fit(**full_hyperp)\n",
    "    \n",
    "    result_df, _ = evaluator_validation.evaluateRecommender(recommender_instance)\n",
    "    \n",
    "    return result_df.loc[10][\"MAP\"]"
   ]
  },
  {
   "cell_type": "code",
   "execution_count": 15,
   "id": "7c765e09",
   "metadata": {
    "_kg_hide-output": true,
    "execution": {
     "iopub.execute_input": "2024-11-19T00:42:41.632582Z",
     "iopub.status.busy": "2024-11-19T00:42:41.632226Z",
     "iopub.status.idle": "2024-11-19T03:17:06.800974Z",
     "shell.execute_reply": "2024-11-19T03:17:06.799832Z"
    },
    "papermill": {
     "duration": 9265.184976,
     "end_time": "2024-11-19T03:17:06.803291",
     "exception": false,
     "start_time": "2024-11-19T00:42:41.618315",
     "status": "completed"
    },
    "tags": []
   },
   "outputs": [
    {
     "name": "stderr",
     "output_type": "stream",
     "text": [
      "[I 2024-11-19 00:42:43,279] Using an existing study with name 'hyperparameters_tuning_ItemKNNCF' instead of creating a new one.\n"
     ]
    },
    {
     "name": "stdout",
     "output_type": "stream",
     "text": [
      "Similarity column 38121 (100.0%), 2540.72 column/sec. Elapsed time 15.00 sec\n",
      "EvaluatorHoldout: Processed 35595 (100.0%) in 27.93 sec. Users per second: 1275\n"
     ]
    },
    {
     "name": "stderr",
     "output_type": "stream",
     "text": [
      "[I 2024-11-19 00:43:26,777] Trial 400 finished with value: 0.04895781019716825 and parameters: {'similarity': 'cosine', 'topK': 2, 'shrink': 281, 'feature_weighting': 'TF-IDF'}. Best is trial 388 with value: 0.05027369636809012.\n"
     ]
    },
    {
     "name": "stdout",
     "output_type": "stream",
     "text": [
      "Similarity column 38121 (100.0%), 3553.35 column/sec. Elapsed time 10.73 sec\n",
      "EvaluatorHoldout: Processed 35595 (100.0%) in 27.81 sec. Users per second: 1280\n"
     ]
    },
    {
     "name": "stderr",
     "output_type": "stream",
     "text": [
      "[I 2024-11-19 00:44:05,890] Trial 401 finished with value: 0.034788033141803586 and parameters: {'similarity': 'jaccard', 'topK': 1, 'shrink': 301, 'feature_weighting': 'TF-IDF'}. Best is trial 388 with value: 0.05027369636809012.\n"
     ]
    },
    {
     "name": "stdout",
     "output_type": "stream",
     "text": [
      "Similarity column 38121 (100.0%), 3432.23 column/sec. Elapsed time 11.11 sec\n",
      "EvaluatorHoldout: Processed 35595 (100.0%) in 27.39 sec. Users per second: 1300\n"
     ]
    },
    {
     "name": "stderr",
     "output_type": "stream",
     "text": [
      "[I 2024-11-19 00:44:44,807] Trial 402 finished with value: 0.04185713059396017 and parameters: {'similarity': 'cosine', 'topK': 1, 'shrink': 338, 'feature_weighting': 'TF-IDF'}. Best is trial 388 with value: 0.05027369636809012.\n"
     ]
    },
    {
     "name": "stdout",
     "output_type": "stream",
     "text": [
      "Similarity column 38121 (100.0%), 2950.41 column/sec. Elapsed time 12.92 sec\n",
      "EvaluatorHoldout: Processed 35595 (100.0%) in 31.92 sec. Users per second: 1115\n"
     ]
    },
    {
     "name": "stderr",
     "output_type": "stream",
     "text": [
      "[I 2024-11-19 00:45:30,081] Trial 403 finished with value: 0.04878155706726952 and parameters: {'similarity': 'cosine', 'topK': 23, 'shrink': 356, 'feature_weighting': 'TF-IDF'}. Best is trial 388 with value: 0.05027369636809012.\n"
     ]
    },
    {
     "name": "stdout",
     "output_type": "stream",
     "text": [
      "Similarity column 38121 (100.0%), 3812.49 column/sec. Elapsed time 10.00 sec\n",
      "EvaluatorHoldout: Processed 35595 (100.0%) in 23.97 sec. Users per second: 1485\n"
     ]
    },
    {
     "name": "stderr",
     "output_type": "stream",
     "text": [
      "[I 2024-11-19 00:46:04,438] Trial 404 finished with value: 0.00028209999175022335 and parameters: {'similarity': 'cosine', 'topK': 0, 'shrink': 283, 'feature_weighting': 'TF-IDF'}. Best is trial 388 with value: 0.05027369636809012.\n"
     ]
    },
    {
     "name": "stdout",
     "output_type": "stream",
     "text": [
      "Similarity column 38121 (100.0%), 2987.71 column/sec. Elapsed time 12.76 sec\n",
      "EvaluatorHoldout: Processed 35595 (100.0%) in 32.11 sec. Users per second: 1109\n"
     ]
    },
    {
     "name": "stderr",
     "output_type": "stream",
     "text": [
      "[I 2024-11-19 00:46:49,718] Trial 405 finished with value: 0.048597933765441303 and parameters: {'similarity': 'cosine', 'topK': 25, 'shrink': 314, 'feature_weighting': 'TF-IDF'}. Best is trial 388 with value: 0.05027369636809012.\n"
     ]
    },
    {
     "name": "stdout",
     "output_type": "stream",
     "text": [
      "Similarity column 38121 (100.0%), 2970.82 column/sec. Elapsed time 12.83 sec\n",
      "EvaluatorHoldout: Processed 35595 (100.0%) in 31.80 sec. Users per second: 1119\n"
     ]
    },
    {
     "name": "stderr",
     "output_type": "stream",
     "text": [
      "[I 2024-11-19 00:47:34,758] Trial 406 finished with value: 0.0487910521140591 and parameters: {'similarity': 'cosine', 'topK': 23, 'shrink': 377, 'feature_weighting': 'TF-IDF'}. Best is trial 388 with value: 0.05027369636809012.\n"
     ]
    },
    {
     "name": "stdout",
     "output_type": "stream",
     "text": [
      "Similarity column 38121 (100.0%), 3806.84 column/sec. Elapsed time 10.01 sec\n",
      "EvaluatorHoldout: Processed 35595 (100.0%) in 24.06 sec. Users per second: 1479\n"
     ]
    },
    {
     "name": "stderr",
     "output_type": "stream",
     "text": [
      "[I 2024-11-19 00:48:09,217] Trial 407 finished with value: 0.00028209999175022335 and parameters: {'similarity': 'cosine', 'topK': 0, 'shrink': 326, 'feature_weighting': 'TF-IDF'}. Best is trial 388 with value: 0.05027369636809012.\n"
     ]
    },
    {
     "name": "stdout",
     "output_type": "stream",
     "text": [
      "Similarity column 38121 (100.0%), 2981.89 column/sec. Elapsed time 12.78 sec\n",
      "EvaluatorHoldout: Processed 35595 (100.0%) in 31.91 sec. Users per second: 1116\n"
     ]
    },
    {
     "name": "stderr",
     "output_type": "stream",
     "text": [
      "[I 2024-11-19 00:48:54,334] Trial 408 finished with value: 0.04882828759166541 and parameters: {'similarity': 'cosine', 'topK': 23, 'shrink': 514, 'feature_weighting': 'TF-IDF'}. Best is trial 388 with value: 0.05027369636809012.\n"
     ]
    },
    {
     "name": "stdout",
     "output_type": "stream",
     "text": [
      "Similarity column 38121 (100.0%), 3804.69 column/sec. Elapsed time 10.02 sec\n",
      "EvaluatorHoldout: Processed 35595 (100.0%) in 23.90 sec. Users per second: 1489\n"
     ]
    },
    {
     "name": "stderr",
     "output_type": "stream",
     "text": [
      "[I 2024-11-19 00:49:28,638] Trial 409 finished with value: 0.00028209999175022335 and parameters: {'similarity': 'cosine', 'topK': 0, 'shrink': 270, 'feature_weighting': 'TF-IDF'}. Best is trial 388 with value: 0.05027369636809012.\n"
     ]
    },
    {
     "name": "stdout",
     "output_type": "stream",
     "text": [
      "Similarity column 38121 (100.0%), 549.09 column/sec. Elapsed time 1.16 min\n",
      "EvaluatorHoldout: Processed 35595 (100.0%) in 26.06 sec. Users per second: 1366\n"
     ]
    },
    {
     "name": "stderr",
     "output_type": "stream",
     "text": [
      "[I 2024-11-19 00:51:04,499] Trial 410 finished with value: 0.028506588672833684 and parameters: {'similarity': 'euclidean', 'topK': 20, 'shrink': 302, 'feature_weighting': 'TF-IDF', 'normalize_avg_row': True, 'similarity_from_distance_mode': 'lin', 'normalize': False}. Best is trial 388 with value: 0.05027369636809012.\n"
     ]
    },
    {
     "name": "stdout",
     "output_type": "stream",
     "text": [
      "Similarity column 38121 (100.0%), 2957.58 column/sec. Elapsed time 12.89 sec\n",
      "EvaluatorHoldout: Processed 35595 (100.0%) in 31.72 sec. Users per second: 1122\n"
     ]
    },
    {
     "name": "stderr",
     "output_type": "stream",
     "text": [
      "[I 2024-11-19 00:51:49,522] Trial 411 finished with value: 0.04881006227466208 and parameters: {'similarity': 'cosine', 'topK': 23, 'shrink': 388, 'feature_weighting': 'TF-IDF'}. Best is trial 388 with value: 0.05027369636809012.\n"
     ]
    },
    {
     "name": "stdout",
     "output_type": "stream",
     "text": [
      "Similarity column 38121 (100.0%), 2979.41 column/sec. Elapsed time 12.79 sec\n",
      "EvaluatorHoldout: Processed 35595 (100.0%) in 31.70 sec. Users per second: 1123\n"
     ]
    },
    {
     "name": "stderr",
     "output_type": "stream",
     "text": [
      "[I 2024-11-19 00:52:34,431] Trial 412 finished with value: 0.04885276490143535 and parameters: {'similarity': 'cosine', 'topK': 22, 'shrink': 345, 'feature_weighting': 'TF-IDF'}. Best is trial 388 with value: 0.05027369636809012.\n"
     ]
    },
    {
     "name": "stdout",
     "output_type": "stream",
     "text": [
      "Similarity column 38121 (100.0%), 2956.99 column/sec. Elapsed time 12.89 sec\n",
      "EvaluatorHoldout: Processed 35595 (100.0%) in 31.86 sec. Users per second: 1117\n"
     ]
    },
    {
     "name": "stderr",
     "output_type": "stream",
     "text": [
      "[I 2024-11-19 00:53:19,602] Trial 413 finished with value: 0.0487750408586884 and parameters: {'similarity': 'cosine', 'topK': 23, 'shrink': 322, 'feature_weighting': 'TF-IDF'}. Best is trial 388 with value: 0.05027369636809012.\n"
     ]
    },
    {
     "name": "stdout",
     "output_type": "stream",
     "text": [
      "Similarity column 38121 (100.0%), 3484.89 column/sec. Elapsed time 10.94 sec\n",
      "EvaluatorHoldout: Processed 35595 (100.0%) in 26.91 sec. Users per second: 1323\n"
     ]
    },
    {
     "name": "stderr",
     "output_type": "stream",
     "text": [
      "[I 2024-11-19 00:53:57,837] Trial 414 finished with value: 0.041791421124331526 and parameters: {'similarity': 'cosine', 'topK': 1, 'shrink': 407, 'feature_weighting': 'TF-IDF'}. Best is trial 388 with value: 0.05027369636809012.\n"
     ]
    },
    {
     "name": "stdout",
     "output_type": "stream",
     "text": [
      "Similarity column 38121 (100.0%), 2979.80 column/sec. Elapsed time 12.79 sec\n",
      "EvaluatorHoldout: Processed 35595 (100.0%) in 32.27 sec. Users per second: 1103\n"
     ]
    },
    {
     "name": "stderr",
     "output_type": "stream",
     "text": [
      "[I 2024-11-19 00:54:43,311] Trial 415 finished with value: 0.04860345442667228 and parameters: {'similarity': 'cosine', 'topK': 27, 'shrink': 361, 'feature_weighting': 'TF-IDF'}. Best is trial 388 with value: 0.05027369636809012.\n"
     ]
    },
    {
     "name": "stdout",
     "output_type": "stream",
     "text": [
      "Similarity column 38121 (100.0%), 3780.41 column/sec. Elapsed time 10.08 sec\n",
      "EvaluatorHoldout: Processed 35595 (100.0%) in 23.94 sec. Users per second: 1487\n"
     ]
    },
    {
     "name": "stderr",
     "output_type": "stream",
     "text": [
      "[I 2024-11-19 00:55:17,724] Trial 416 finished with value: 0.00028209999175022335 and parameters: {'similarity': 'cosine', 'topK': 0, 'shrink': 475, 'feature_weighting': 'TF-IDF'}. Best is trial 388 with value: 0.05027369636809012.\n"
     ]
    },
    {
     "name": "stdout",
     "output_type": "stream",
     "text": [
      "Similarity column 38121 (100.0%), 3786.44 column/sec. Elapsed time 10.07 sec\n",
      "EvaluatorHoldout: Processed 35595 (100.0%) in 23.89 sec. Users per second: 1490\n"
     ]
    },
    {
     "name": "stderr",
     "output_type": "stream",
     "text": [
      "[I 2024-11-19 00:55:52,063] Trial 417 finished with value: 0.00028209999175022335 and parameters: {'similarity': 'cosine', 'topK': 0, 'shrink': 547, 'feature_weighting': 'TF-IDF'}. Best is trial 388 with value: 0.05027369636809012.\n"
     ]
    },
    {
     "name": "stdout",
     "output_type": "stream",
     "text": [
      "Similarity column 38121 (100.0%), 2964.80 column/sec. Elapsed time 12.86 sec\n",
      "EvaluatorHoldout: Processed 35595 (100.0%) in 31.75 sec. Users per second: 1121\n"
     ]
    },
    {
     "name": "stderr",
     "output_type": "stream",
     "text": [
      "[I 2024-11-19 00:56:37,069] Trial 418 finished with value: 0.04874261812230436 and parameters: {'similarity': 'cosine', 'topK': 23, 'shrink': 300, 'feature_weighting': 'TF-IDF'}. Best is trial 388 with value: 0.05027369636809012.\n"
     ]
    },
    {
     "name": "stdout",
     "output_type": "stream",
     "text": [
      "Similarity column 38121 (100.0%), 2747.36 column/sec. Elapsed time 13.88 sec\n",
      "EvaluatorHoldout: Processed 35595 (100.0%) in 33.41 sec. Users per second: 1066\n"
     ]
    },
    {
     "name": "stderr",
     "output_type": "stream",
     "text": [
      "[I 2024-11-19 00:57:24,991] Trial 419 finished with value: 0.041512108219228315 and parameters: {'similarity': 'tversky', 'topK': 24, 'shrink': 262, 'feature_weighting': 'TF-IDF', 'tversky_alpha': 1.2131331281357889, 'tversky_beta': 0.27934768997721426}. Best is trial 388 with value: 0.05027369636809012.\n"
     ]
    },
    {
     "name": "stdout",
     "output_type": "stream",
     "text": [
      "Similarity column 38121 (100.0%), 3810.30 column/sec. Elapsed time 10.00 sec\n",
      "EvaluatorHoldout: Processed 35595 (100.0%) in 23.73 sec. Users per second: 1500\n"
     ]
    },
    {
     "name": "stderr",
     "output_type": "stream",
     "text": [
      "[I 2024-11-19 00:57:59,004] Trial 420 finished with value: 0.00028209999175022335 and parameters: {'similarity': 'cosine', 'topK': 0, 'shrink': 418, 'feature_weighting': 'none'}. Best is trial 388 with value: 0.05027369636809012.\n"
     ]
    },
    {
     "name": "stdout",
     "output_type": "stream",
     "text": [
      "Similarity column 38121 (100.0%), 2958.12 column/sec. Elapsed time 12.89 sec\n",
      "EvaluatorHoldout: Processed 35595 (100.0%) in 31.32 sec. Users per second: 1136\n"
     ]
    },
    {
     "name": "stderr",
     "output_type": "stream",
     "text": [
      "[I 2024-11-19 00:58:43,634] Trial 421 finished with value: 0.04298627081117441 and parameters: {'similarity': 'cosine', 'topK': 24, 'shrink': 337, 'feature_weighting': 'BM25'}. Best is trial 388 with value: 0.05027369636809012.\n"
     ]
    },
    {
     "name": "stdout",
     "output_type": "stream",
     "text": [
      "Similarity column 38121 (100.0%), 2891.28 column/sec. Elapsed time 13.18 sec\n",
      "EvaluatorHoldout: Processed 35595 (100.0%) in 42.11 sec. Users per second: 845\n"
     ]
    },
    {
     "name": "stderr",
     "output_type": "stream",
     "text": [
      "[I 2024-11-19 00:59:39,898] Trial 422 finished with value: 0.04499553174268527 and parameters: {'similarity': 'cosine', 'topK': 306, 'shrink': 448, 'feature_weighting': 'TF-IDF'}. Best is trial 388 with value: 0.05027369636809012.\n"
     ]
    },
    {
     "name": "stdout",
     "output_type": "stream",
     "text": [
      "Similarity column 38121 (100.0%), 3806.49 column/sec. Elapsed time 10.01 sec\n",
      "EvaluatorHoldout: Processed 35595 (100.0%) in 23.83 sec. Users per second: 1494\n"
     ]
    },
    {
     "name": "stderr",
     "output_type": "stream",
     "text": [
      "[I 2024-11-19 01:00:14,123] Trial 423 finished with value: 0.00028209999175022335 and parameters: {'similarity': 'cosine', 'topK': 0, 'shrink': 628, 'feature_weighting': 'TF-IDF'}. Best is trial 388 with value: 0.05027369636809012.\n"
     ]
    },
    {
     "name": "stdout",
     "output_type": "stream",
     "text": [
      "Similarity column 38121 (100.0%), 2963.36 column/sec. Elapsed time 12.86 sec\n",
      "EvaluatorHoldout: Processed 35595 (100.0%) in 37.11 sec. Users per second: 959\n"
     ]
    },
    {
     "name": "stderr",
     "output_type": "stream",
     "text": [
      "[I 2024-11-19 01:01:04,543] Trial 424 finished with value: 0.014529632305233074 and parameters: {'similarity': 'asymmetric', 'topK': 25, 'shrink': 283, 'feature_weighting': 'TF-IDF', 'asymmetric_alpha': 1.7804198585633895}. Best is trial 388 with value: 0.05027369636809012.\n"
     ]
    },
    {
     "name": "stdout",
     "output_type": "stream",
     "text": [
      "Similarity column 38121 (100.0%), 2995.32 column/sec. Elapsed time 12.73 sec\n",
      "EvaluatorHoldout: Processed 35595 (100.0%) in 31.60 sec. Users per second: 1126\n"
     ]
    },
    {
     "name": "stderr",
     "output_type": "stream",
     "text": [
      "[I 2024-11-19 01:01:49,276] Trial 425 finished with value: 0.04871506386887579 and parameters: {'similarity': 'cosine', 'topK': 24, 'shrink': 314, 'feature_weighting': 'TF-IDF'}. Best is trial 388 with value: 0.05027369636809012.\n"
     ]
    },
    {
     "name": "stdout",
     "output_type": "stream",
     "text": [
      "Similarity column 38121 (100.0%), 4019.96 column/sec. Elapsed time 9.48 sec\n",
      "EvaluatorHoldout: Processed 35595 (100.0%) in 24.12 sec. Users per second: 1476\n"
     ]
    },
    {
     "name": "stderr",
     "output_type": "stream",
     "text": [
      "[I 2024-11-19 01:02:23,442] Trial 426 finished with value: 0.00028209999175022335 and parameters: {'similarity': 'dice', 'topK': 0, 'shrink': 356, 'feature_weighting': 'TF-IDF'}. Best is trial 388 with value: 0.05027369636809012.\n"
     ]
    },
    {
     "name": "stdout",
     "output_type": "stream",
     "text": [
      "Similarity column 38121 (100.0%), 2991.84 column/sec. Elapsed time 12.74 sec\n",
      "EvaluatorHoldout: Processed 35595 (100.0%) in 31.88 sec. Users per second: 1117\n"
     ]
    },
    {
     "name": "stderr",
     "output_type": "stream",
     "text": [
      "[I 2024-11-19 01:03:08,467] Trial 427 finished with value: 0.04872931145581623 and parameters: {'similarity': 'cosine', 'topK': 25, 'shrink': 494, 'feature_weighting': 'TF-IDF'}. Best is trial 388 with value: 0.05027369636809012.\n"
     ]
    },
    {
     "name": "stdout",
     "output_type": "stream",
     "text": [
      "Similarity column 38121 (100.0%), 2983.24 column/sec. Elapsed time 12.78 sec\n",
      "EvaluatorHoldout: Processed 35595 (100.0%) in 31.93 sec. Users per second: 1115\n"
     ]
    },
    {
     "name": "stderr",
     "output_type": "stream",
     "text": [
      "[I 2024-11-19 01:03:53,605] Trial 428 finished with value: 0.04864581368437048 and parameters: {'similarity': 'cosine', 'topK': 25, 'shrink': 333, 'feature_weighting': 'TF-IDF'}. Best is trial 388 with value: 0.05027369636809012.\n"
     ]
    },
    {
     "name": "stdout",
     "output_type": "stream",
     "text": [
      "Similarity column 38121 (100.0%), 3890.44 column/sec. Elapsed time 9.80 sec\n",
      "EvaluatorHoldout: Processed 35595 (100.0%) in 24.23 sec. Users per second: 1469\n"
     ]
    },
    {
     "name": "stderr",
     "output_type": "stream",
     "text": [
      "[I 2024-11-19 01:04:28,218] Trial 429 finished with value: 0.00028209999175022335 and parameters: {'similarity': 'jaccard', 'topK': 0, 'shrink': 387, 'feature_weighting': 'TF-IDF'}. Best is trial 388 with value: 0.05027369636809012.\n"
     ]
    },
    {
     "name": "stdout",
     "output_type": "stream",
     "text": [
      "Similarity column 38121 (100.0%), 2960.31 column/sec. Elapsed time 12.88 sec\n",
      "EvaluatorHoldout: Processed 35595 (100.0%) in 31.72 sec. Users per second: 1122\n"
     ]
    },
    {
     "name": "stderr",
     "output_type": "stream",
     "text": [
      "[I 2024-11-19 01:05:13,242] Trial 430 finished with value: 0.04885928556935519 and parameters: {'similarity': 'cosine', 'topK': 22, 'shrink': 373, 'feature_weighting': 'TF-IDF'}. Best is trial 388 with value: 0.05027369636809012.\n"
     ]
    },
    {
     "name": "stdout",
     "output_type": "stream",
     "text": [
      "Similarity column 38121 (100.0%), 2989.73 column/sec. Elapsed time 12.75 sec\n",
      "EvaluatorHoldout: Processed 35595 (100.0%) in 31.64 sec. Users per second: 1125\n"
     ]
    },
    {
     "name": "stderr",
     "output_type": "stream",
     "text": [
      "[I 2024-11-19 01:05:58,058] Trial 431 finished with value: 0.04874426584793011 and parameters: {'similarity': 'cosine', 'topK': 23, 'shrink': 289, 'feature_weighting': 'TF-IDF'}. Best is trial 388 with value: 0.05027369636809012.\n"
     ]
    },
    {
     "name": "stdout",
     "output_type": "stream",
     "text": [
      "Similarity column 38121 (100.0%), 3792.45 column/sec. Elapsed time 10.05 sec\n",
      "EvaluatorHoldout: Processed 35595 (100.0%) in 24.07 sec. Users per second: 1479\n"
     ]
    },
    {
     "name": "stderr",
     "output_type": "stream",
     "text": [
      "[I 2024-11-19 01:06:32,564] Trial 432 finished with value: 0.00028209999175022335 and parameters: {'similarity': 'cosine', 'topK': 0, 'shrink': 310, 'feature_weighting': 'TF-IDF'}. Best is trial 388 with value: 0.05027369636809012.\n"
     ]
    },
    {
     "name": "stdout",
     "output_type": "stream",
     "text": [
      "Similarity column 38121 (100.0%), 2985.08 column/sec. Elapsed time 12.77 sec\n",
      "EvaluatorHoldout: Processed 35595 (100.0%) in 32.02 sec. Users per second: 1112\n"
     ]
    },
    {
     "name": "stderr",
     "output_type": "stream",
     "text": [
      "[I 2024-11-19 01:07:17,803] Trial 433 finished with value: 0.048823106955005774 and parameters: {'similarity': 'cosine', 'topK': 24, 'shrink': 523, 'feature_weighting': 'TF-IDF'}. Best is trial 388 with value: 0.05027369636809012.\n"
     ]
    },
    {
     "name": "stdout",
     "output_type": "stream",
     "text": [
      "Similarity column 38121 (100.0%), 2978.61 column/sec. Elapsed time 12.80 sec\n",
      "EvaluatorHoldout: Processed 35595 (100.0%) in 31.82 sec. Users per second: 1119\n"
     ]
    },
    {
     "name": "stderr",
     "output_type": "stream",
     "text": [
      "[I 2024-11-19 01:08:02,840] Trial 434 finished with value: 0.04883078482130113 and parameters: {'similarity': 'cosine', 'topK': 22, 'shrink': 480, 'feature_weighting': 'TF-IDF'}. Best is trial 388 with value: 0.05027369636809012.\n"
     ]
    },
    {
     "name": "stdout",
     "output_type": "stream",
     "text": [
      "Similarity column 38121 (100.0%), 2948.69 column/sec. Elapsed time 12.93 sec\n",
      "EvaluatorHoldout: Processed 35595 (100.0%) in 32.46 sec. Users per second: 1097\n"
     ]
    },
    {
     "name": "stderr",
     "output_type": "stream",
     "text": [
      "[I 2024-11-19 01:08:48,644] Trial 435 finished with value: 0.04877147227294537 and parameters: {'similarity': 'cosine', 'topK': 23, 'shrink': 339, 'feature_weighting': 'TF-IDF'}. Best is trial 388 with value: 0.05027369636809012.\n"
     ]
    },
    {
     "name": "stdout",
     "output_type": "stream",
     "text": [
      "Similarity column 38121 (100.0%), 625.85 column/sec. Elapsed time 1.02 min\n",
      "EvaluatorHoldout: Processed 35595 (100.0%) in 26.98 sec. Users per second: 1319\n"
     ]
    },
    {
     "name": "stderr",
     "output_type": "stream",
     "text": [
      "[I 2024-11-19 01:10:16,929] Trial 436 finished with value: 0.040976274088788144 and parameters: {'similarity': 'euclidean', 'topK': 1, 'shrink': 460, 'feature_weighting': 'TF-IDF', 'normalize_avg_row': False, 'similarity_from_distance_mode': 'exp', 'normalize': True}. Best is trial 388 with value: 0.05027369636809012.\n"
     ]
    },
    {
     "name": "stdout",
     "output_type": "stream",
     "text": [
      "Similarity column 38121 (100.0%), 3802.22 column/sec. Elapsed time 10.03 sec\n",
      "EvaluatorHoldout: Processed 35595 (100.0%) in 24.34 sec. Users per second: 1463\n"
     ]
    },
    {
     "name": "stderr",
     "output_type": "stream",
     "text": [
      "[I 2024-11-19 01:10:51,687] Trial 437 finished with value: 0.00028209999175022335 and parameters: {'similarity': 'cosine', 'topK': 0, 'shrink': 432, 'feature_weighting': 'TF-IDF'}. Best is trial 388 with value: 0.05027369636809012.\n"
     ]
    },
    {
     "name": "stdout",
     "output_type": "stream",
     "text": [
      "Similarity column 38121 (100.0%), 2976.49 column/sec. Elapsed time 12.81 sec\n",
      "EvaluatorHoldout: Processed 35595 (100.0%) in 32.44 sec. Users per second: 1097\n"
     ]
    },
    {
     "name": "stderr",
     "output_type": "stream",
     "text": [
      "[I 2024-11-19 01:11:37,384] Trial 438 finished with value: 0.04885410047335713 and parameters: {'similarity': 'cosine', 'topK': 23, 'shrink': 604, 'feature_weighting': 'TF-IDF'}. Best is trial 388 with value: 0.05027369636809012.\n"
     ]
    },
    {
     "name": "stdout",
     "output_type": "stream",
     "text": [
      "Similarity column 38121 (100.0%), 2748.96 column/sec. Elapsed time 13.87 sec\n",
      "EvaluatorHoldout: Processed 35595 (100.0%) in 35.25 sec. Users per second: 1010\n"
     ]
    },
    {
     "name": "stderr",
     "output_type": "stream",
     "text": [
      "[I 2024-11-19 01:12:26,979] Trial 439 finished with value: 0.048751817737909375 and parameters: {'similarity': 'cosine', 'topK': 23, 'shrink': 304, 'feature_weighting': 'TF-IDF'}. Best is trial 388 with value: 0.05027369636809012.\n"
     ]
    },
    {
     "name": "stdout",
     "output_type": "stream",
     "text": [
      "Similarity column 38121 (100.0%), 3727.38 column/sec. Elapsed time 10.23 sec\n",
      "EvaluatorHoldout: Processed 35595 (100.0%) in 24.93 sec. Users per second: 1428\n"
     ]
    },
    {
     "name": "stderr",
     "output_type": "stream",
     "text": [
      "[I 2024-11-19 01:13:02,582] Trial 440 finished with value: 0.00028209999175022335 and parameters: {'similarity': 'cosine', 'topK': 0, 'shrink': 259, 'feature_weighting': 'TF-IDF'}. Best is trial 388 with value: 0.05027369636809012.\n"
     ]
    },
    {
     "name": "stdout",
     "output_type": "stream",
     "text": [
      "Similarity column 38121 (100.0%), 2892.61 column/sec. Elapsed time 13.18 sec\n",
      "EvaluatorHoldout: Processed 35595 (100.0%) in 34.39 sec. Users per second: 1035\n"
     ]
    },
    {
     "name": "stderr",
     "output_type": "stream",
     "text": [
      "[I 2024-11-19 01:13:50,504] Trial 441 finished with value: 0.04014466540467225 and parameters: {'similarity': 'cosine', 'topK': 23, 'shrink': 355, 'feature_weighting': 'none'}. Best is trial 388 with value: 0.05027369636809012.\n"
     ]
    },
    {
     "name": "stdout",
     "output_type": "stream",
     "text": [
      "Similarity column 38121 (100.0%), 2928.78 column/sec. Elapsed time 13.02 sec\n",
      "EvaluatorHoldout: Processed 35595 (100.0%) in 32.80 sec. Users per second: 1085\n"
     ]
    },
    {
     "name": "stderr",
     "output_type": "stream",
     "text": [
      "[I 2024-11-19 01:14:36,779] Trial 442 finished with value: 0.048799792417784864 and parameters: {'similarity': 'cosine', 'topK': 24, 'shrink': 505, 'feature_weighting': 'TF-IDF'}. Best is trial 388 with value: 0.05027369636809012.\n"
     ]
    },
    {
     "name": "stdout",
     "output_type": "stream",
     "text": [
      "Similarity column 38121 (100.0%), 3715.62 column/sec. Elapsed time 10.26 sec\n",
      "EvaluatorHoldout: Processed 35595 (100.0%) in 24.42 sec. Users per second: 1457\n"
     ]
    },
    {
     "name": "stderr",
     "output_type": "stream",
     "text": [
      "[I 2024-11-19 01:15:11,887] Trial 443 finished with value: 0.00028209999175022335 and parameters: {'similarity': 'cosine', 'topK': 0, 'shrink': 212, 'feature_weighting': 'BM25'}. Best is trial 388 with value: 0.05027369636809012.\n"
     ]
    },
    {
     "name": "stdout",
     "output_type": "stream",
     "text": [
      "Similarity column 38121 (100.0%), 2959.75 column/sec. Elapsed time 12.88 sec\n",
      "EvaluatorHoldout: Processed 35595 (100.0%) in 32.40 sec. Users per second: 1099\n"
     ]
    },
    {
     "name": "stderr",
     "output_type": "stream",
     "text": [
      "[I 2024-11-19 01:15:57,595] Trial 444 finished with value: 0.04893435184627561 and parameters: {'similarity': 'cosine', 'topK': 21, 'shrink': 338, 'feature_weighting': 'TF-IDF'}. Best is trial 388 with value: 0.05027369636809012.\n"
     ]
    },
    {
     "name": "stdout",
     "output_type": "stream",
     "text": [
      "Similarity column 38121 (100.0%), 2841.89 column/sec. Elapsed time 13.41 sec\n",
      "EvaluatorHoldout: Processed 35595 (100.0%) in 33.32 sec. Users per second: 1068\n"
     ]
    },
    {
     "name": "stderr",
     "output_type": "stream",
     "text": [
      "[I 2024-11-19 01:16:44,778] Trial 445 finished with value: 0.048665007792692436 and parameters: {'similarity': 'cosine', 'topK': 24, 'shrink': 279, 'feature_weighting': 'TF-IDF'}. Best is trial 388 with value: 0.05027369636809012.\n"
     ]
    },
    {
     "name": "stdout",
     "output_type": "stream",
     "text": [
      "Similarity column 38121 (100.0%), 3726.69 column/sec. Elapsed time 10.23 sec\n",
      "EvaluatorHoldout: Processed 35595 (100.0%) in 24.37 sec. Users per second: 1461\n"
     ]
    },
    {
     "name": "stderr",
     "output_type": "stream",
     "text": [
      "[I 2024-11-19 01:17:19,795] Trial 446 finished with value: 0.00028209999175022335 and parameters: {'similarity': 'cosine', 'topK': 0, 'shrink': 319, 'feature_weighting': 'TF-IDF'}. Best is trial 388 with value: 0.05027369636809012.\n"
     ]
    },
    {
     "name": "stdout",
     "output_type": "stream",
     "text": [
      "Similarity column 38121 (100.0%), 2951.20 column/sec. Elapsed time 12.92 sec\n",
      "EvaluatorHoldout: Processed 35595 (100.0%) in 32.47 sec. Users per second: 1096\n"
     ]
    },
    {
     "name": "stderr",
     "output_type": "stream",
     "text": [
      "[I 2024-11-19 01:18:05,612] Trial 447 finished with value: 0.04859417342813724 and parameters: {'similarity': 'cosine', 'topK': 27, 'shrink': 377, 'feature_weighting': 'TF-IDF'}. Best is trial 388 with value: 0.05027369636809012.\n"
     ]
    },
    {
     "name": "stdout",
     "output_type": "stream",
     "text": [
      "Similarity column 38121 (100.0%), 2938.68 column/sec. Elapsed time 12.97 sec\n",
      "EvaluatorHoldout: Processed 35595 (100.0%) in 32.33 sec. Users per second: 1101\n"
     ]
    },
    {
     "name": "stderr",
     "output_type": "stream",
     "text": [
      "[I 2024-11-19 01:18:51,347] Trial 448 finished with value: 0.04882810698845047 and parameters: {'similarity': 'cosine', 'topK': 23, 'shrink': 401, 'feature_weighting': 'TF-IDF'}. Best is trial 388 with value: 0.05027369636809012.\n"
     ]
    },
    {
     "name": "stdout",
     "output_type": "stream",
     "text": [
      "Similarity column 38121 (100.0%), 2716.31 column/sec. Elapsed time 14.03 sec\n",
      "EvaluatorHoldout: Processed 35595 (100.0%) in 32.64 sec. Users per second: 1091\n"
     ]
    },
    {
     "name": "stderr",
     "output_type": "stream",
     "text": [
      "[I 2024-11-19 01:19:38,667] Trial 449 finished with value: 0.04511204980189243 and parameters: {'similarity': 'tversky', 'topK': 22, 'shrink': 304, 'feature_weighting': 'TF-IDF', 'tversky_alpha': 0.9486931698424705, 'tversky_beta': 1.9729712539023916}. Best is trial 388 with value: 0.05027369636809012.\n"
     ]
    },
    {
     "name": "stdout",
     "output_type": "stream",
     "text": [
      "Similarity column 38121 (100.0%), 2858.16 column/sec. Elapsed time 13.34 sec\n",
      "EvaluatorHoldout: Processed 35595 (100.0%) in 41.56 sec. Users per second: 857\n"
     ]
    },
    {
     "name": "stderr",
     "output_type": "stream",
     "text": [
      "[I 2024-11-19 01:20:34,318] Trial 450 finished with value: 0.04509610766627008 and parameters: {'similarity': 'cosine', 'topK': 265, 'shrink': 367, 'feature_weighting': 'TF-IDF'}. Best is trial 388 with value: 0.05027369636809012.\n"
     ]
    },
    {
     "name": "stdout",
     "output_type": "stream",
     "text": [
      "Similarity column 38121 (100.0%), 3770.61 column/sec. Elapsed time 10.11 sec\n",
      "EvaluatorHoldout: Processed 35595 (100.0%) in 24.20 sec. Users per second: 1471\n"
     ]
    },
    {
     "name": "stderr",
     "output_type": "stream",
     "text": [
      "[I 2024-11-19 01:21:09,051] Trial 451 finished with value: 0.00028209999175022335 and parameters: {'similarity': 'cosine', 'topK': 0, 'shrink': 544, 'feature_weighting': 'TF-IDF'}. Best is trial 388 with value: 0.05027369636809012.\n"
     ]
    },
    {
     "name": "stdout",
     "output_type": "stream",
     "text": [
      "Similarity column 38121 (100.0%), 3784.24 column/sec. Elapsed time 10.07 sec\n",
      "EvaluatorHoldout: Processed 35595 (100.0%) in 24.17 sec. Users per second: 1472\n"
     ]
    },
    {
     "name": "stderr",
     "output_type": "stream",
     "text": [
      "[I 2024-11-19 01:21:43,690] Trial 452 finished with value: 0.00028209999175022335 and parameters: {'similarity': 'cosine', 'topK': 0, 'shrink': 246, 'feature_weighting': 'TF-IDF'}. Best is trial 388 with value: 0.05027369636809012.\n"
     ]
    },
    {
     "name": "stdout",
     "output_type": "stream",
     "text": [
      "Similarity column 38121 (100.0%), 2980.95 column/sec. Elapsed time 12.79 sec\n",
      "EvaluatorHoldout: Processed 35595 (100.0%) in 34.66 sec. Users per second: 1027\n"
     ]
    },
    {
     "name": "stderr",
     "output_type": "stream",
     "text": [
      "[I 2024-11-19 01:22:31,572] Trial 453 finished with value: 0.038064981482594996 and parameters: {'similarity': 'asymmetric', 'topK': 22, 'shrink': 729, 'feature_weighting': 'TF-IDF', 'asymmetric_alpha': 0.9971200759670609}. Best is trial 388 with value: 0.05027369636809012.\n"
     ]
    },
    {
     "name": "stdout",
     "output_type": "stream",
     "text": [
      "Similarity column 38121 (100.0%), 3018.37 column/sec. Elapsed time 12.63 sec\n",
      "EvaluatorHoldout: Processed 35595 (100.0%) in 33.22 sec. Users per second: 1071\n"
     ]
    },
    {
     "name": "stderr",
     "output_type": "stream",
     "text": [
      "[I 2024-11-19 01:23:18,034] Trial 454 finished with value: 0.042910652691097624 and parameters: {'similarity': 'dice', 'topK': 23, 'shrink': 323, 'feature_weighting': 'TF-IDF'}. Best is trial 388 with value: 0.05027369636809012.\n"
     ]
    },
    {
     "name": "stdout",
     "output_type": "stream",
     "text": [
      "Similarity column 38121 (100.0%), 3759.13 column/sec. Elapsed time 10.14 sec\n",
      "EvaluatorHoldout: Processed 35595 (100.0%) in 25.23 sec. Users per second: 1411\n"
     ]
    },
    {
     "name": "stderr",
     "output_type": "stream",
     "text": [
      "[I 2024-11-19 01:23:53,814] Trial 455 finished with value: 0.00028209999175022335 and parameters: {'similarity': 'cosine', 'topK': 0, 'shrink': 290, 'feature_weighting': 'TF-IDF'}. Best is trial 388 with value: 0.05027369636809012.\n"
     ]
    },
    {
     "name": "stdout",
     "output_type": "stream",
     "text": [
      "Similarity column 38121 (100.0%), 2904.41 column/sec. Elapsed time 13.13 sec\n",
      "EvaluatorHoldout: Processed 35595 (100.0%) in 35.47 sec. Users per second: 1004\n"
     ]
    },
    {
     "name": "stderr",
     "output_type": "stream",
     "text": [
      "[I 2024-11-19 01:24:43,060] Trial 456 finished with value: 0.04265200436123149 and parameters: {'similarity': 'jaccard', 'topK': 24, 'shrink': 344, 'feature_weighting': 'TF-IDF'}. Best is trial 388 with value: 0.05027369636809012.\n"
     ]
    },
    {
     "name": "stdout",
     "output_type": "stream",
     "text": [
      "Similarity column 38121 (100.0%), 2703.73 column/sec. Elapsed time 14.10 sec\n",
      "EvaluatorHoldout: Processed 35595 (100.0%) in 33.07 sec. Users per second: 1076\n"
     ]
    },
    {
     "name": "stderr",
     "output_type": "stream",
     "text": [
      "[I 2024-11-19 01:25:30,797] Trial 457 finished with value: 0.04880828188371183 and parameters: {'similarity': 'cosine', 'topK': 23, 'shrink': 436, 'feature_weighting': 'TF-IDF'}. Best is trial 388 with value: 0.05027369636809012.\n"
     ]
    },
    {
     "name": "stdout",
     "output_type": "stream",
     "text": [
      "Similarity column 38121 (100.0%), 2745.76 column/sec. Elapsed time 13.88 sec\n",
      "EvaluatorHoldout: Processed 35595 (100.0%) in 49.94 sec. Users per second: 713\n"
     ]
    },
    {
     "name": "stderr",
     "output_type": "stream",
     "text": [
      "[I 2024-11-19 01:26:35,920] Trial 458 finished with value: 0.04404566028312178 and parameters: {'similarity': 'cosine', 'topK': 598, 'shrink': 393, 'feature_weighting': 'TF-IDF'}. Best is trial 388 with value: 0.05027369636809012.\n"
     ]
    },
    {
     "name": "stdout",
     "output_type": "stream",
     "text": [
      "Similarity column 38121 (100.0%), 2928.23 column/sec. Elapsed time 13.02 sec\n",
      "EvaluatorHoldout: Processed 35595 (100.0%) in 32.46 sec. Users per second: 1097\n"
     ]
    },
    {
     "name": "stderr",
     "output_type": "stream",
     "text": [
      "[I 2024-11-19 01:27:21,843] Trial 459 finished with value: 0.048800561653699226 and parameters: {'similarity': 'cosine', 'topK': 22, 'shrink': 488, 'feature_weighting': 'TF-IDF'}. Best is trial 388 with value: 0.05027369636809012.\n"
     ]
    },
    {
     "name": "stdout",
     "output_type": "stream",
     "text": [
      "Similarity column 38121 (100.0%), 2946.31 column/sec. Elapsed time 12.94 sec\n",
      "EvaluatorHoldout: Processed 35595 (100.0%) in 32.27 sec. Users per second: 1103\n"
     ]
    },
    {
     "name": "stderr",
     "output_type": "stream",
     "text": [
      "[I 2024-11-19 01:28:07,494] Trial 460 finished with value: 0.04879377676996519 and parameters: {'similarity': 'cosine', 'topK': 23, 'shrink': 273, 'feature_weighting': 'TF-IDF'}. Best is trial 388 with value: 0.05027369636809012.\n"
     ]
    },
    {
     "name": "stdout",
     "output_type": "stream",
     "text": [
      "Similarity column 38121 (100.0%), 3701.19 column/sec. Elapsed time 10.30 sec\n",
      "EvaluatorHoldout: Processed 35595 (100.0%) in 24.58 sec. Users per second: 1448\n"
     ]
    },
    {
     "name": "stderr",
     "output_type": "stream",
     "text": [
      "[I 2024-11-19 01:28:42,797] Trial 461 finished with value: 0.00028209999175022335 and parameters: {'similarity': 'cosine', 'topK': 0, 'shrink': 757, 'feature_weighting': 'TF-IDF'}. Best is trial 388 with value: 0.05027369636809012.\n"
     ]
    },
    {
     "name": "stdout",
     "output_type": "stream",
     "text": [
      "Similarity column 38121 (100.0%), 2918.69 column/sec. Elapsed time 13.06 sec\n",
      "EvaluatorHoldout: Processed 35595 (100.0%) in 32.46 sec. Users per second: 1097\n"
     ]
    },
    {
     "name": "stderr",
     "output_type": "stream",
     "text": [
      "[I 2024-11-19 01:29:28,779] Trial 462 finished with value: 0.04893460937308202 and parameters: {'similarity': 'cosine', 'topK': 21, 'shrink': 466, 'feature_weighting': 'TF-IDF'}. Best is trial 388 with value: 0.05027369636809012.\n"
     ]
    },
    {
     "name": "stdout",
     "output_type": "stream",
     "text": [
      "Similarity column 38121 (100.0%), 2932.18 column/sec. Elapsed time 13.00 sec\n",
      "EvaluatorHoldout: Processed 35595 (100.0%) in 32.20 sec. Users per second: 1105\n"
     ]
    },
    {
     "name": "stderr",
     "output_type": "stream",
     "text": [
      "[I 2024-11-19 01:30:14,427] Trial 463 finished with value: 0.04889354778292603 and parameters: {'similarity': 'cosine', 'topK': 22, 'shrink': 328, 'feature_weighting': 'TF-IDF'}. Best is trial 388 with value: 0.05027369636809012.\n"
     ]
    },
    {
     "name": "stdout",
     "output_type": "stream",
     "text": [
      "Similarity column 38121 (100.0%), 686.64 column/sec. Elapsed time 55.52 sec\n",
      "EvaluatorHoldout: Processed 35595 (100.0%) in 24.24 sec. Users per second: 1469\n"
     ]
    },
    {
     "name": "stderr",
     "output_type": "stream",
     "text": [
      "[I 2024-11-19 01:31:34,490] Trial 464 finished with value: 0.00028209999175022335 and parameters: {'similarity': 'euclidean', 'topK': 0, 'shrink': 350, 'feature_weighting': 'none', 'normalize_avg_row': True, 'similarity_from_distance_mode': 'log', 'normalize': False}. Best is trial 388 with value: 0.05027369636809012.\n"
     ]
    },
    {
     "name": "stdout",
     "output_type": "stream",
     "text": [
      "Similarity column 38121 (100.0%), 2958.48 column/sec. Elapsed time 12.89 sec\n",
      "EvaluatorHoldout: Processed 35595 (100.0%) in 31.55 sec. Users per second: 1128\n"
     ]
    },
    {
     "name": "stderr",
     "output_type": "stream",
     "text": [
      "[I 2024-11-19 01:32:19,356] Trial 465 finished with value: 0.04321814527187332 and parameters: {'similarity': 'cosine', 'topK': 22, 'shrink': 519, 'feature_weighting': 'BM25'}. Best is trial 388 with value: 0.05027369636809012.\n"
     ]
    },
    {
     "name": "stdout",
     "output_type": "stream",
     "text": [
      "Similarity column 38121 (100.0%), 2817.42 column/sec. Elapsed time 13.53 sec\n",
      "EvaluatorHoldout: Processed 35595 (100.0%) in 46.11 sec. Users per second: 772\n"
     ]
    },
    {
     "name": "stderr",
     "output_type": "stream",
     "text": [
      "[I 2024-11-19 01:33:20,102] Trial 466 finished with value: 0.04446097521276453 and parameters: {'similarity': 'cosine', 'topK': 453, 'shrink': 413, 'feature_weighting': 'TF-IDF'}. Best is trial 388 with value: 0.05027369636809012.\n"
     ]
    },
    {
     "name": "stdout",
     "output_type": "stream",
     "text": [
      "Similarity column 38121 (100.0%), 2967.57 column/sec. Elapsed time 12.85 sec\n",
      "EvaluatorHoldout: Processed 35595 (100.0%) in 31.67 sec. Users per second: 1124\n"
     ]
    },
    {
     "name": "stderr",
     "output_type": "stream",
     "text": [
      "[I 2024-11-19 01:34:05,063] Trial 467 finished with value: 0.0490939259348427 and parameters: {'similarity': 'cosine', 'topK': 20, 'shrink': 307, 'feature_weighting': 'TF-IDF'}. Best is trial 388 with value: 0.05027369636809012.\n"
     ]
    },
    {
     "name": "stdout",
     "output_type": "stream",
     "text": [
      "Similarity column 38121 (100.0%), 2951.49 column/sec. Elapsed time 12.92 sec\n",
      "EvaluatorHoldout: Processed 35595 (100.0%) in 32.11 sec. Users per second: 1109\n"
     ]
    },
    {
     "name": "stderr",
     "output_type": "stream",
     "text": [
      "[I 2024-11-19 01:34:50,522] Trial 468 finished with value: 0.04886683411483058 and parameters: {'similarity': 'cosine', 'topK': 22, 'shrink': 661, 'feature_weighting': 'TF-IDF'}. Best is trial 388 with value: 0.05027369636809012.\n"
     ]
    },
    {
     "name": "stdout",
     "output_type": "stream",
     "text": [
      "Similarity column 38121 (100.0%), 3779.04 column/sec. Elapsed time 10.09 sec\n",
      "EvaluatorHoldout: Processed 35595 (100.0%) in 24.22 sec. Users per second: 1470\n"
     ]
    },
    {
     "name": "stderr",
     "output_type": "stream",
     "text": [
      "[I 2024-11-19 01:35:25,260] Trial 469 finished with value: 0.00028209999175022335 and parameters: {'similarity': 'cosine', 'topK': 0, 'shrink': 580, 'feature_weighting': 'TF-IDF'}. Best is trial 388 with value: 0.05027369636809012.\n"
     ]
    },
    {
     "name": "stdout",
     "output_type": "stream",
     "text": [
      "Similarity column 38121 (100.0%), 3732.09 column/sec. Elapsed time 10.21 sec\n",
      "EvaluatorHoldout: Processed 35595 (100.0%) in 24.41 sec. Users per second: 1458\n"
     ]
    },
    {
     "name": "stderr",
     "output_type": "stream",
     "text": [
      "[I 2024-11-19 01:36:00,316] Trial 470 finished with value: 0.00028209999175022335 and parameters: {'similarity': 'cosine', 'topK': 0, 'shrink': 367, 'feature_weighting': 'TF-IDF'}. Best is trial 388 with value: 0.05027369636809012.\n"
     ]
    },
    {
     "name": "stdout",
     "output_type": "stream",
     "text": [
      "Similarity column 38121 (100.0%), 2929.76 column/sec. Elapsed time 13.01 sec\n",
      "EvaluatorHoldout: Processed 35595 (100.0%) in 32.38 sec. Users per second: 1099\n"
     ]
    },
    {
     "name": "stderr",
     "output_type": "stream",
     "text": [
      "[I 2024-11-19 01:36:46,161] Trial 471 finished with value: 0.04903386979176919 and parameters: {'similarity': 'cosine', 'topK': 20, 'shrink': 288, 'feature_weighting': 'TF-IDF'}. Best is trial 388 with value: 0.05027369636809012.\n"
     ]
    },
    {
     "name": "stdout",
     "output_type": "stream",
     "text": [
      "Similarity column 38121 (100.0%), 3707.06 column/sec. Elapsed time 10.28 sec\n",
      "EvaluatorHoldout: Processed 35595 (100.0%) in 24.67 sec. Users per second: 1443\n"
     ]
    },
    {
     "name": "stderr",
     "output_type": "stream",
     "text": [
      "[I 2024-11-19 01:37:21,546] Trial 472 finished with value: 0.00028209999175022335 and parameters: {'similarity': 'cosine', 'topK': 0, 'shrink': 325, 'feature_weighting': 'TF-IDF'}. Best is trial 388 with value: 0.05027369636809012.\n"
     ]
    },
    {
     "name": "stdout",
     "output_type": "stream",
     "text": [
      "Similarity column 38121 (100.0%), 2943.21 column/sec. Elapsed time 12.95 sec\n",
      "EvaluatorHoldout: Processed 35595 (100.0%) in 32.39 sec. Users per second: 1099\n"
     ]
    },
    {
     "name": "stderr",
     "output_type": "stream",
     "text": [
      "[I 2024-11-19 01:38:07,348] Trial 473 finished with value: 0.04867334118176733 and parameters: {'similarity': 'cosine', 'topK': 25, 'shrink': 442, 'feature_weighting': 'TF-IDF'}. Best is trial 388 with value: 0.05027369636809012.\n"
     ]
    },
    {
     "name": "stdout",
     "output_type": "stream",
     "text": [
      "Similarity column 38121 (100.0%), 2610.39 column/sec. Elapsed time 14.60 sec\n",
      "EvaluatorHoldout: Processed 35595 (100.0%) in 46.33 sec. Users per second: 768\n"
     ]
    },
    {
     "name": "stderr",
     "output_type": "stream",
     "text": [
      "[I 2024-11-19 01:39:09,695] Trial 474 finished with value: 0.034494375659144934 and parameters: {'similarity': 'tversky', 'topK': 402, 'shrink': 305, 'feature_weighting': 'TF-IDF', 'tversky_alpha': 0.372034135192737, 'tversky_beta': 1.0600866111332425}. Best is trial 388 with value: 0.05027369636809012.\n"
     ]
    },
    {
     "name": "stdout",
     "output_type": "stream",
     "text": [
      "Similarity column 38121 (100.0%), 2971.07 column/sec. Elapsed time 12.83 sec\n",
      "EvaluatorHoldout: Processed 35595 (100.0%) in 31.47 sec. Users per second: 1131\n"
     ]
    },
    {
     "name": "stderr",
     "output_type": "stream",
     "text": [
      "[I 2024-11-19 01:39:54,405] Trial 475 finished with value: 0.04924621011957545 and parameters: {'similarity': 'cosine', 'topK': 18, 'shrink': 387, 'feature_weighting': 'TF-IDF'}. Best is trial 388 with value: 0.05027369636809012.\n"
     ]
    },
    {
     "name": "stdout",
     "output_type": "stream",
     "text": [
      "Similarity column 38121 (100.0%), 2951.49 column/sec. Elapsed time 12.92 sec\n",
      "EvaluatorHoldout: Processed 35595 (100.0%) in 32.20 sec. Users per second: 1106\n"
     ]
    },
    {
     "name": "stderr",
     "output_type": "stream",
     "text": [
      "[I 2024-11-19 01:40:39,947] Trial 476 finished with value: 0.04930018149508038 and parameters: {'similarity': 'cosine', 'topK': 18, 'shrink': 485, 'feature_weighting': 'TF-IDF'}. Best is trial 388 with value: 0.05027369636809012.\n"
     ]
    },
    {
     "name": "stdout",
     "output_type": "stream",
     "text": [
      "Similarity column 38121 (100.0%), 2913.26 column/sec. Elapsed time 13.09 sec\n",
      "EvaluatorHoldout: Processed 35595 (100.0%) in 32.65 sec. Users per second: 1090\n"
     ]
    },
    {
     "name": "stderr",
     "output_type": "stream",
     "text": [
      "[I 2024-11-19 01:41:26,148] Trial 477 finished with value: 0.048607454453428296 and parameters: {'similarity': 'cosine', 'topK': 27, 'shrink': 352, 'feature_weighting': 'TF-IDF'}. Best is trial 388 with value: 0.05027369636809012.\n"
     ]
    },
    {
     "name": "stdout",
     "output_type": "stream",
     "text": [
      "Similarity column 38121 (100.0%), 3736.86 column/sec. Elapsed time 10.20 sec\n",
      "EvaluatorHoldout: Processed 35595 (100.0%) in 24.20 sec. Users per second: 1471\n"
     ]
    },
    {
     "name": "stderr",
     "output_type": "stream",
     "text": [
      "[I 2024-11-19 01:42:00,944] Trial 478 finished with value: 0.00028209999175022335 and parameters: {'similarity': 'cosine', 'topK': 0, 'shrink': 560, 'feature_weighting': 'TF-IDF'}. Best is trial 388 with value: 0.05027369636809012.\n"
     ]
    },
    {
     "name": "stdout",
     "output_type": "stream",
     "text": [
      "Similarity column 38121 (100.0%), 3745.73 column/sec. Elapsed time 10.18 sec\n",
      "EvaluatorHoldout: Processed 35595 (100.0%) in 24.43 sec. Users per second: 1457\n"
     ]
    },
    {
     "name": "stderr",
     "output_type": "stream",
     "text": [
      "[I 2024-11-19 01:42:35,946] Trial 479 finished with value: 0.00028209999175022335 and parameters: {'similarity': 'cosine', 'topK': 0, 'shrink': 271, 'feature_weighting': 'TF-IDF'}. Best is trial 388 with value: 0.05027369636809012.\n"
     ]
    },
    {
     "name": "stdout",
     "output_type": "stream",
     "text": [
      "Similarity column 38121 (100.0%), 2907.22 column/sec. Elapsed time 13.11 sec\n",
      "EvaluatorHoldout: Processed 35595 (100.0%) in 31.90 sec. Users per second: 1116\n"
     ]
    },
    {
     "name": "stderr",
     "output_type": "stream",
     "text": [
      "[I 2024-11-19 01:43:21,407] Trial 480 finished with value: 0.04841987906273442 and parameters: {'similarity': 'asymmetric', 'topK': 17, 'shrink': 506, 'feature_weighting': 'TF-IDF', 'asymmetric_alpha': 0.5631786828819325}. Best is trial 388 with value: 0.05027369636809012.\n"
     ]
    },
    {
     "name": "stdout",
     "output_type": "stream",
     "text": [
      "Similarity column 38121 (100.0%), 2967.92 column/sec. Elapsed time 12.84 sec\n",
      "EvaluatorHoldout: Processed 35595 (100.0%) in 32.31 sec. Users per second: 1102\n"
     ]
    },
    {
     "name": "stderr",
     "output_type": "stream",
     "text": [
      "[I 2024-11-19 01:44:06,999] Trial 481 finished with value: 0.04858919569138523 and parameters: {'similarity': 'cosine', 'topK': 27, 'shrink': 330, 'feature_weighting': 'TF-IDF'}. Best is trial 388 with value: 0.05027369636809012.\n"
     ]
    },
    {
     "name": "stdout",
     "output_type": "stream",
     "text": [
      "Similarity column 38121 (100.0%), 3000.53 column/sec. Elapsed time 12.70 sec\n",
      "EvaluatorHoldout: Processed 35595 (100.0%) in 31.93 sec. Users per second: 1115\n"
     ]
    },
    {
     "name": "stderr",
     "output_type": "stream",
     "text": [
      "[I 2024-11-19 01:44:52,239] Trial 482 finished with value: 0.04267829104765305 and parameters: {'similarity': 'dice', 'topK': 13, 'shrink': 373, 'feature_weighting': 'TF-IDF'}. Best is trial 388 with value: 0.05027369636809012.\n"
     ]
    },
    {
     "name": "stdout",
     "output_type": "stream",
     "text": [
      "Similarity column 38121 (100.0%), 3797.31 column/sec. Elapsed time 10.04 sec\n",
      "EvaluatorHoldout: Processed 35595 (100.0%) in 24.35 sec. Users per second: 1462\n"
     ]
    },
    {
     "name": "stderr",
     "output_type": "stream",
     "text": [
      "[I 2024-11-19 01:45:27,038] Trial 483 finished with value: 0.00028209999175022335 and parameters: {'similarity': 'cosine', 'topK': 0, 'shrink': 802, 'feature_weighting': 'TF-IDF'}. Best is trial 388 with value: 0.05027369636809012.\n"
     ]
    },
    {
     "name": "stdout",
     "output_type": "stream",
     "text": [
      "Similarity column 38121 (100.0%), 2849.99 column/sec. Elapsed time 13.38 sec\n",
      "EvaluatorHoldout: Processed 35595 (100.0%) in 44.84 sec. Users per second: 794\n"
     ]
    },
    {
     "name": "stderr",
     "output_type": "stream",
     "text": [
      "[I 2024-11-19 01:46:26,279] Trial 484 finished with value: 0.039325401284734024 and parameters: {'similarity': 'jaccard', 'topK': 323, 'shrink': 232, 'feature_weighting': 'TF-IDF'}. Best is trial 388 with value: 0.05027369636809012.\n"
     ]
    },
    {
     "name": "stdout",
     "output_type": "stream",
     "text": [
      "Similarity column 38121 (100.0%), 2919.31 column/sec. Elapsed time 13.06 sec\n",
      "EvaluatorHoldout: Processed 35595 (100.0%) in 33.30 sec. Users per second: 1069\n"
     ]
    },
    {
     "name": "stderr",
     "output_type": "stream",
     "text": [
      "[I 2024-11-19 01:47:12,975] Trial 485 finished with value: 0.04087593451015122 and parameters: {'similarity': 'cosine', 'topK': 18, 'shrink': 294, 'feature_weighting': 'none'}. Best is trial 388 with value: 0.05027369636809012.\n"
     ]
    },
    {
     "name": "stdout",
     "output_type": "stream",
     "text": [
      "Similarity column 38121 (100.0%), 2950.30 column/sec. Elapsed time 12.92 sec\n",
      "EvaluatorHoldout: Processed 35595 (100.0%) in 32.12 sec. Users per second: 1108\n"
     ]
    },
    {
     "name": "stderr",
     "output_type": "stream",
     "text": [
      "[I 2024-11-19 01:47:58,463] Trial 486 finished with value: 0.048603843503968014 and parameters: {'similarity': 'cosine', 'topK': 25, 'shrink': 313, 'feature_weighting': 'TF-IDF'}. Best is trial 388 with value: 0.05027369636809012.\n"
     ]
    },
    {
     "name": "stdout",
     "output_type": "stream",
     "text": [
      "Similarity column 38121 (100.0%), 2932.16 column/sec. Elapsed time 13.00 sec\n",
      "EvaluatorHoldout: Processed 35595 (100.0%) in 32.05 sec. Users per second: 1111\n"
     ]
    },
    {
     "name": "stderr",
     "output_type": "stream",
     "text": [
      "[I 2024-11-19 01:48:43,981] Trial 487 finished with value: 0.04293730281361824 and parameters: {'similarity': 'cosine', 'topK': 28, 'shrink': 783, 'feature_weighting': 'BM25'}. Best is trial 388 with value: 0.05027369636809012.\n"
     ]
    },
    {
     "name": "stdout",
     "output_type": "stream",
     "text": [
      "Similarity column 38121 (100.0%), 2948.06 column/sec. Elapsed time 12.93 sec\n",
      "EvaluatorHoldout: Processed 35595 (100.0%) in 33.86 sec. Users per second: 1051\n"
     ]
    },
    {
     "name": "stderr",
     "output_type": "stream",
     "text": [
      "[I 2024-11-19 01:49:31,269] Trial 488 finished with value: 0.04773155673281921 and parameters: {'similarity': 'cosine', 'topK': 48, 'shrink': 469, 'feature_weighting': 'TF-IDF'}. Best is trial 388 with value: 0.05027369636809012.\n"
     ]
    },
    {
     "name": "stdout",
     "output_type": "stream",
     "text": [
      "Similarity column 38121 (100.0%), 3799.54 column/sec. Elapsed time 10.03 sec\n",
      "EvaluatorHoldout: Processed 35595 (100.0%) in 24.10 sec. Users per second: 1477\n"
     ]
    },
    {
     "name": "stderr",
     "output_type": "stream",
     "text": [
      "[I 2024-11-19 01:50:05,824] Trial 489 finished with value: 0.00028209999175022335 and parameters: {'similarity': 'cosine', 'topK': 0, 'shrink': 416, 'feature_weighting': 'TF-IDF'}. Best is trial 388 with value: 0.05027369636809012.\n"
     ]
    },
    {
     "name": "stdout",
     "output_type": "stream",
     "text": [
      "Similarity column 38121 (100.0%), 2959.38 column/sec. Elapsed time 12.88 sec\n",
      "EvaluatorHoldout: Processed 35595 (100.0%) in 31.64 sec. Users per second: 1125\n"
     ]
    },
    {
     "name": "stderr",
     "output_type": "stream",
     "text": [
      "[I 2024-11-19 01:50:50,800] Trial 490 finished with value: 0.04929693286688461 and parameters: {'similarity': 'cosine', 'topK': 17, 'shrink': 699, 'feature_weighting': 'TF-IDF'}. Best is trial 388 with value: 0.05027369636809012.\n"
     ]
    },
    {
     "name": "stdout",
     "output_type": "stream",
     "text": [
      "Similarity column 38121 (100.0%), 2844.57 column/sec. Elapsed time 13.40 sec\n",
      "EvaluatorHoldout: Processed 35595 (100.0%) in 43.93 sec. Users per second: 810\n"
     ]
    },
    {
     "name": "stderr",
     "output_type": "stream",
     "text": [
      "[I 2024-11-19 01:51:49,027] Trial 491 finished with value: 0.04471223553334623 and parameters: {'similarity': 'cosine', 'topK': 376, 'shrink': 259, 'feature_weighting': 'TF-IDF'}. Best is trial 388 with value: 0.05027369636809012.\n"
     ]
    },
    {
     "name": "stdout",
     "output_type": "stream",
     "text": [
      "Similarity column 38121 (100.0%), 509.97 column/sec. Elapsed time 1.25 min\n",
      "EvaluatorHoldout: Processed 35595 (100.0%) in 32.16 sec. Users per second: 1107\n"
     ]
    },
    {
     "name": "stderr",
     "output_type": "stream",
     "text": [
      "[I 2024-11-19 01:53:36,356] Trial 492 finished with value: 0.034200931109905894 and parameters: {'similarity': 'euclidean', 'topK': 30, 'shrink': 533, 'feature_weighting': 'TF-IDF', 'normalize_avg_row': False, 'similarity_from_distance_mode': 'exp', 'normalize': True}. Best is trial 388 with value: 0.05027369636809012.\n"
     ]
    },
    {
     "name": "stdout",
     "output_type": "stream",
     "text": [
      "Similarity column 38121 (100.0%), 2970.08 column/sec. Elapsed time 12.84 sec\n",
      "EvaluatorHoldout: Processed 35595 (100.0%) in 31.81 sec. Users per second: 1119\n"
     ]
    },
    {
     "name": "stderr",
     "output_type": "stream",
     "text": [
      "[I 2024-11-19 01:54:21,414] Trial 493 finished with value: 0.04918416288180113 and parameters: {'similarity': 'cosine', 'topK': 16, 'shrink': 830, 'feature_weighting': 'TF-IDF'}. Best is trial 388 with value: 0.05027369636809012.\n"
     ]
    },
    {
     "name": "stdout",
     "output_type": "stream",
     "text": [
      "Similarity column 38121 (100.0%), 2964.32 column/sec. Elapsed time 12.86 sec\n",
      "EvaluatorHoldout: Processed 35595 (100.0%) in 33.94 sec. Users per second: 1049\n"
     ]
    },
    {
     "name": "stderr",
     "output_type": "stream",
     "text": [
      "[I 2024-11-19 01:55:08,697] Trial 494 finished with value: 0.047654230686045435 and parameters: {'similarity': 'cosine', 'topK': 49, 'shrink': 350, 'feature_weighting': 'TF-IDF'}. Best is trial 388 with value: 0.05027369636809012.\n"
     ]
    },
    {
     "name": "stdout",
     "output_type": "stream",
     "text": [
      "Similarity column 38121 (100.0%), 3789.12 column/sec. Elapsed time 10.06 sec\n",
      "EvaluatorHoldout: Processed 35595 (100.0%) in 24.26 sec. Users per second: 1467\n"
     ]
    },
    {
     "name": "stderr",
     "output_type": "stream",
     "text": [
      "[I 2024-11-19 01:55:43,432] Trial 495 finished with value: 0.00028209999175022335 and parameters: {'similarity': 'cosine', 'topK': 0, 'shrink': 843, 'feature_weighting': 'TF-IDF'}. Best is trial 388 with value: 0.05027369636809012.\n"
     ]
    },
    {
     "name": "stdout",
     "output_type": "stream",
     "text": [
      "Similarity column 38121 (100.0%), 2935.37 column/sec. Elapsed time 12.99 sec\n",
      "EvaluatorHoldout: Processed 35595 (100.0%) in 32.62 sec. Users per second: 1091\n"
     ]
    },
    {
     "name": "stderr",
     "output_type": "stream",
     "text": [
      "[I 2024-11-19 01:56:29,497] Trial 496 finished with value: 0.04849309805862525 and parameters: {'similarity': 'cosine', 'topK': 29, 'shrink': 335, 'feature_weighting': 'TF-IDF'}. Best is trial 388 with value: 0.05027369636809012.\n"
     ]
    },
    {
     "name": "stdout",
     "output_type": "stream",
     "text": [
      "Similarity column 38121 (100.0%), 2957.22 column/sec. Elapsed time 12.89 sec\n",
      "EvaluatorHoldout: Processed 35595 (100.0%) in 31.46 sec. Users per second: 1131\n"
     ]
    },
    {
     "name": "stderr",
     "output_type": "stream",
     "text": [
      "[I 2024-11-19 01:57:14,289] Trial 497 finished with value: 0.04948125294037464 and parameters: {'similarity': 'cosine', 'topK': 16, 'shrink': 448, 'feature_weighting': 'TF-IDF'}. Best is trial 388 with value: 0.05027369636809012.\n"
     ]
    },
    {
     "name": "stdout",
     "output_type": "stream",
     "text": [
      "Similarity column 38121 (100.0%), 2975.78 column/sec. Elapsed time 12.81 sec\n",
      "EvaluatorHoldout: Processed 35595 (100.0%) in 31.36 sec. Users per second: 1135\n"
     ]
    },
    {
     "name": "stderr",
     "output_type": "stream",
     "text": [
      "[I 2024-11-19 01:57:58,881] Trial 498 finished with value: 0.04941583555742689 and parameters: {'similarity': 'cosine', 'topK': 15, 'shrink': 288, 'feature_weighting': 'TF-IDF'}. Best is trial 388 with value: 0.05027369636809012.\n"
     ]
    },
    {
     "name": "stdout",
     "output_type": "stream",
     "text": [
      "Similarity column 38121 (100.0%), 2924.95 column/sec. Elapsed time 13.03 sec\n",
      "EvaluatorHoldout: Processed 35595 (100.0%) in 33.68 sec. Users per second: 1057\n"
     ]
    },
    {
     "name": "stderr",
     "output_type": "stream",
     "text": [
      "[I 2024-11-19 01:58:46,073] Trial 499 finished with value: 0.047599735338250355 and parameters: {'similarity': 'cosine', 'topK': 49, 'shrink': 322, 'feature_weighting': 'TF-IDF'}. Best is trial 388 with value: 0.05027369636809012.\n"
     ]
    },
    {
     "name": "stdout",
     "output_type": "stream",
     "text": [
      "Similarity column 38121 (100.0%), 3794.74 column/sec. Elapsed time 10.05 sec\n",
      "EvaluatorHoldout: Processed 35595 (100.0%) in 23.95 sec. Users per second: 1486\n"
     ]
    },
    {
     "name": "stderr",
     "output_type": "stream",
     "text": [
      "[I 2024-11-19 01:59:20,471] Trial 500 finished with value: 0.00028209999175022335 and parameters: {'similarity': 'cosine', 'topK': 0, 'shrink': 398, 'feature_weighting': 'TF-IDF'}. Best is trial 388 with value: 0.05027369636809012.\n"
     ]
    },
    {
     "name": "stdout",
     "output_type": "stream",
     "text": [
      "Similarity column 38121 (100.0%), 2964.69 column/sec. Elapsed time 12.86 sec\n",
      "EvaluatorHoldout: Processed 35595 (100.0%) in 32.50 sec. Users per second: 1095\n"
     ]
    },
    {
     "name": "stderr",
     "output_type": "stream",
     "text": [
      "[I 2024-11-19 02:00:06,281] Trial 501 finished with value: 0.048489839396917395 and parameters: {'similarity': 'cosine', 'topK': 29, 'shrink': 355, 'feature_weighting': 'TF-IDF'}. Best is trial 388 with value: 0.05027369636809012.\n"
     ]
    },
    {
     "name": "stdout",
     "output_type": "stream",
     "text": [
      "Similarity column 38121 (100.0%), 2929.51 column/sec. Elapsed time 13.01 sec\n",
      "EvaluatorHoldout: Processed 35595 (100.0%) in 31.61 sec. Users per second: 1126\n"
     ]
    },
    {
     "name": "stderr",
     "output_type": "stream",
     "text": [
      "[I 2024-11-19 02:00:51,336] Trial 502 finished with value: 0.049406298146920054 and parameters: {'similarity': 'cosine', 'topK': 16, 'shrink': 299, 'feature_weighting': 'TF-IDF'}. Best is trial 388 with value: 0.05027369636809012.\n"
     ]
    },
    {
     "name": "stdout",
     "output_type": "stream",
     "text": [
      "Similarity column 38121 (100.0%), 2710.40 column/sec. Elapsed time 14.06 sec\n",
      "EvaluatorHoldout: Processed 35595 (100.0%) in 34.21 sec. Users per second: 1040\n"
     ]
    },
    {
     "name": "stderr",
     "output_type": "stream",
     "text": [
      "[I 2024-11-19 02:01:40,305] Trial 503 finished with value: 0.042158245205651784 and parameters: {'similarity': 'tversky', 'topK': 30, 'shrink': 373, 'feature_weighting': 'TF-IDF', 'tversky_alpha': 1.3566726138440257, 'tversky_beta': 0.7293730271329065}. Best is trial 388 with value: 0.05027369636809012.\n"
     ]
    },
    {
     "name": "stdout",
     "output_type": "stream",
     "text": [
      "Similarity column 38121 (100.0%), 2954.92 column/sec. Elapsed time 12.90 sec\n",
      "EvaluatorHoldout: Processed 35595 (100.0%) in 33.05 sec. Users per second: 1077\n"
     ]
    },
    {
     "name": "stderr",
     "output_type": "stream",
     "text": [
      "[I 2024-11-19 02:02:26,716] Trial 504 finished with value: 0.04827348566433931 and parameters: {'similarity': 'cosine', 'topK': 29, 'shrink': 814, 'feature_weighting': 'TF-IDF'}. Best is trial 388 with value: 0.05027369636809012.\n"
     ]
    },
    {
     "name": "stdout",
     "output_type": "stream",
     "text": [
      "Similarity column 38121 (100.0%), 2944.54 column/sec. Elapsed time 12.95 sec\n",
      "EvaluatorHoldout: Processed 35595 (100.0%) in 33.94 sec. Users per second: 1049\n"
     ]
    },
    {
     "name": "stderr",
     "output_type": "stream",
     "text": [
      "[I 2024-11-19 02:03:14,073] Trial 505 finished with value: 0.047596452150179956 and parameters: {'similarity': 'cosine', 'topK': 49, 'shrink': 317, 'feature_weighting': 'TF-IDF'}. Best is trial 388 with value: 0.05027369636809012.\n"
     ]
    },
    {
     "name": "stdout",
     "output_type": "stream",
     "text": [
      "Similarity column 38121 (100.0%), 3761.95 column/sec. Elapsed time 10.13 sec\n",
      "EvaluatorHoldout: Processed 35595 (100.0%) in 24.02 sec. Users per second: 1482\n"
     ]
    },
    {
     "name": "stderr",
     "output_type": "stream",
     "text": [
      "[I 2024-11-19 02:03:48,633] Trial 506 finished with value: 0.00028209999175022335 and parameters: {'similarity': 'cosine', 'topK': 0, 'shrink': 498, 'feature_weighting': 'TF-IDF'}. Best is trial 388 with value: 0.05027369636809012.\n"
     ]
    },
    {
     "name": "stdout",
     "output_type": "stream",
     "text": [
      "Similarity column 38121 (100.0%), 2898.79 column/sec. Elapsed time 13.15 sec\n",
      "EvaluatorHoldout: Processed 35595 (100.0%) in 33.15 sec. Users per second: 1074\n"
     ]
    },
    {
     "name": "stderr",
     "output_type": "stream",
     "text": [
      "[I 2024-11-19 02:04:35,274] Trial 507 finished with value: 0.040494266405347965 and parameters: {'similarity': 'cosine', 'topK': 15, 'shrink': 339, 'feature_weighting': 'none'}. Best is trial 388 with value: 0.05027369636809012.\n"
     ]
    },
    {
     "name": "stdout",
     "output_type": "stream",
     "text": [
      "Similarity column 38121 (100.0%), 2966.95 column/sec. Elapsed time 12.85 sec\n",
      "EvaluatorHoldout: Processed 35595 (100.0%) in 35.41 sec. Users per second: 1005\n"
     ]
    },
    {
     "name": "stderr",
     "output_type": "stream",
     "text": [
      "[I 2024-11-19 02:05:24,188] Trial 508 finished with value: 0.04325721019315453 and parameters: {'similarity': 'dice', 'topK': 30, 'shrink': 271, 'feature_weighting': 'TF-IDF'}. Best is trial 388 with value: 0.05027369636809012.\n"
     ]
    },
    {
     "name": "stdout",
     "output_type": "stream",
     "text": [
      "Similarity column 38121 (100.0%), 2764.88 column/sec. Elapsed time 13.79 sec\n",
      "EvaluatorHoldout: Processed 35595 (100.0%) in 42.20 sec. Users per second: 844\n"
     ]
    },
    {
     "name": "stderr",
     "output_type": "stream",
     "text": [
      "[I 2024-11-19 02:06:21,036] Trial 509 finished with value: 0.0412346370209819 and parameters: {'similarity': 'cosine', 'topK': 215, 'shrink': 425, 'feature_weighting': 'BM25'}. Best is trial 388 with value: 0.05027369636809012.\n"
     ]
    },
    {
     "name": "stdout",
     "output_type": "stream",
     "text": [
      "Similarity column 38121 (100.0%), 2914.42 column/sec. Elapsed time 13.08 sec\n",
      "EvaluatorHoldout: Processed 35595 (100.0%) in 31.80 sec. Users per second: 1120\n"
     ]
    },
    {
     "name": "stderr",
     "output_type": "stream",
     "text": [
      "[I 2024-11-19 02:07:06,374] Trial 510 finished with value: 0.04934878605653808 and parameters: {'similarity': 'cosine', 'topK': 14, 'shrink': 851, 'feature_weighting': 'TF-IDF'}. Best is trial 388 with value: 0.05027369636809012.\n"
     ]
    },
    {
     "name": "stdout",
     "output_type": "stream",
     "text": [
      "Similarity column 38121 (100.0%), 2831.52 column/sec. Elapsed time 13.46 sec\n",
      "EvaluatorHoldout: Processed 35595 (100.0%) in 38.66 sec. Users per second: 921\n"
     ]
    },
    {
     "name": "stderr",
     "output_type": "stream",
     "text": [
      "[I 2024-11-19 02:07:59,183] Trial 511 finished with value: 0.04451252516739061 and parameters: {'similarity': 'asymmetric', 'topK': 185, 'shrink': 678, 'feature_weighting': 'TF-IDF', 'asymmetric_alpha': 0.22825560149612345}. Best is trial 388 with value: 0.05027369636809012.\n"
     ]
    },
    {
     "name": "stdout",
     "output_type": "stream",
     "text": [
      "Similarity column 38121 (100.0%), 2915.63 column/sec. Elapsed time 13.07 sec\n",
      "EvaluatorHoldout: Processed 35595 (100.0%) in 31.59 sec. Users per second: 1127\n"
     ]
    },
    {
     "name": "stderr",
     "output_type": "stream",
     "text": [
      "[I 2024-11-19 02:08:44,308] Trial 512 finished with value: 0.04959732952505643 and parameters: {'similarity': 'cosine', 'topK': 14, 'shrink': 457, 'feature_weighting': 'TF-IDF'}. Best is trial 388 with value: 0.05027369636809012.\n"
     ]
    },
    {
     "name": "stdout",
     "output_type": "stream",
     "text": [
      "Similarity column 38121 (100.0%), 3757.93 column/sec. Elapsed time 10.14 sec\n",
      "EvaluatorHoldout: Processed 35595 (100.0%) in 24.35 sec. Users per second: 1462\n"
     ]
    },
    {
     "name": "stderr",
     "output_type": "stream",
     "text": [
      "[I 2024-11-19 02:09:19,227] Trial 513 finished with value: 0.00028209999175022335 and parameters: {'similarity': 'cosine', 'topK': 0, 'shrink': 774, 'feature_weighting': 'TF-IDF'}. Best is trial 388 with value: 0.05027369636809012.\n"
     ]
    },
    {
     "name": "stdout",
     "output_type": "stream",
     "text": [
      "Similarity column 38121 (100.0%), 2933.97 column/sec. Elapsed time 12.99 sec\n",
      "EvaluatorHoldout: Processed 35595 (100.0%) in 34.44 sec. Users per second: 1034\n"
     ]
    },
    {
     "name": "stderr",
     "output_type": "stream",
     "text": [
      "[I 2024-11-19 02:10:07,145] Trial 514 finished with value: 0.047590941522461065 and parameters: {'similarity': 'cosine', 'topK': 48, 'shrink': 740, 'feature_weighting': 'TF-IDF'}. Best is trial 388 with value: 0.05027369636809012.\n"
     ]
    },
    {
     "name": "stdout",
     "output_type": "stream",
     "text": [
      "Similarity column 38121 (100.0%), 2849.12 column/sec. Elapsed time 13.38 sec\n",
      "EvaluatorHoldout: Processed 35595 (100.0%) in 32.74 sec. Users per second: 1087\n"
     ]
    },
    {
     "name": "stderr",
     "output_type": "stream",
     "text": [
      "[I 2024-11-19 02:10:53,727] Trial 515 finished with value: 0.048341058022682945 and parameters: {'similarity': 'cosine', 'topK': 30, 'shrink': 307, 'feature_weighting': 'TF-IDF'}. Best is trial 388 with value: 0.05027369636809012.\n"
     ]
    },
    {
     "name": "stdout",
     "output_type": "stream",
     "text": [
      "Similarity column 38121 (100.0%), 2968.04 column/sec. Elapsed time 12.84 sec\n",
      "EvaluatorHoldout: Processed 35595 (100.0%) in 31.36 sec. Users per second: 1135\n"
     ]
    },
    {
     "name": "stderr",
     "output_type": "stream",
     "text": [
      "[I 2024-11-19 02:11:38,362] Trial 516 finished with value: 0.04940803394448374 and parameters: {'similarity': 'cosine', 'topK': 15, 'shrink': 640, 'feature_weighting': 'TF-IDF'}. Best is trial 388 with value: 0.05027369636809012.\n"
     ]
    },
    {
     "name": "stdout",
     "output_type": "stream",
     "text": [
      "Similarity column 38121 (100.0%), 2945.50 column/sec. Elapsed time 12.94 sec\n",
      "EvaluatorHoldout: Processed 35595 (100.0%) in 31.11 sec. Users per second: 1144\n"
     ]
    },
    {
     "name": "stderr",
     "output_type": "stream",
     "text": [
      "[I 2024-11-19 02:12:22,834] Trial 517 finished with value: 0.04956472618545775 and parameters: {'similarity': 'cosine', 'topK': 14, 'shrink': 383, 'feature_weighting': 'TF-IDF'}. Best is trial 388 with value: 0.05027369636809012.\n"
     ]
    },
    {
     "name": "stdout",
     "output_type": "stream",
     "text": [
      "Similarity column 38121 (100.0%), 3873.18 column/sec. Elapsed time 9.84 sec\n",
      "EvaluatorHoldout: Processed 35595 (100.0%) in 24.31 sec. Users per second: 1464\n"
     ]
    },
    {
     "name": "stderr",
     "output_type": "stream",
     "text": [
      "[I 2024-11-19 02:12:57,634] Trial 518 finished with value: 0.00028209999175022335 and parameters: {'similarity': 'jaccard', 'topK': 0, 'shrink': 340, 'feature_weighting': 'TF-IDF'}. Best is trial 388 with value: 0.05027369636809012.\n"
     ]
    },
    {
     "name": "stdout",
     "output_type": "stream",
     "text": [
      "Similarity column 38121 (100.0%), 535.13 column/sec. Elapsed time 1.19 min\n",
      "EvaluatorHoldout: Processed 35595 (100.0%) in 26.52 sec. Users per second: 1342\n"
     ]
    },
    {
     "name": "stderr",
     "output_type": "stream",
     "text": [
      "[I 2024-11-19 02:14:35,805] Trial 519 finished with value: 0.028335109264944706 and parameters: {'similarity': 'euclidean', 'topK': 29, 'shrink': 834, 'feature_weighting': 'TF-IDF', 'normalize_avg_row': True, 'similarity_from_distance_mode': 'lin', 'normalize': False}. Best is trial 388 with value: 0.05027369636809012.\n"
     ]
    },
    {
     "name": "stdout",
     "output_type": "stream",
     "text": [
      "Similarity column 38121 (100.0%), 2962.27 column/sec. Elapsed time 12.87 sec\n",
      "EvaluatorHoldout: Processed 35595 (100.0%) in 32.80 sec. Users per second: 1085\n"
     ]
    },
    {
     "name": "stderr",
     "output_type": "stream",
     "text": [
      "[I 2024-11-19 02:15:21,926] Trial 520 finished with value: 0.04828541551002376 and parameters: {'similarity': 'cosine', 'topK': 31, 'shrink': 513, 'feature_weighting': 'TF-IDF'}. Best is trial 388 with value: 0.05027369636809012.\n"
     ]
    },
    {
     "name": "stdout",
     "output_type": "stream",
     "text": [
      "Similarity column 38121 (100.0%), 2971.90 column/sec. Elapsed time 12.83 sec\n",
      "EvaluatorHoldout: Processed 35595 (100.0%) in 31.22 sec. Users per second: 1140\n"
     ]
    },
    {
     "name": "stderr",
     "output_type": "stream",
     "text": [
      "[I 2024-11-19 02:16:06,415] Trial 521 finished with value: 0.0495127269524639 and parameters: {'similarity': 'cosine', 'topK': 15, 'shrink': 481, 'feature_weighting': 'TF-IDF'}. Best is trial 388 with value: 0.05027369636809012.\n"
     ]
    },
    {
     "name": "stdout",
     "output_type": "stream",
     "text": [
      "Similarity column 38121 (100.0%), 2956.80 column/sec. Elapsed time 12.89 sec\n",
      "EvaluatorHoldout: Processed 35595 (100.0%) in 33.81 sec. Users per second: 1053\n"
     ]
    },
    {
     "name": "stderr",
     "output_type": "stream",
     "text": [
      "[I 2024-11-19 02:16:53,600] Trial 522 finished with value: 0.04756424011754668 and parameters: {'similarity': 'cosine', 'topK': 50, 'shrink': 365, 'feature_weighting': 'TF-IDF'}. Best is trial 388 with value: 0.05027369636809012.\n"
     ]
    },
    {
     "name": "stdout",
     "output_type": "stream",
     "text": [
      "Similarity column 38121 (100.0%), 3788.83 column/sec. Elapsed time 10.06 sec\n",
      "EvaluatorHoldout: Processed 35595 (100.0%) in 24.28 sec. Users per second: 1466\n"
     ]
    },
    {
     "name": "stderr",
     "output_type": "stream",
     "text": [
      "[I 2024-11-19 02:17:28,346] Trial 523 finished with value: 0.00028209999175022335 and parameters: {'similarity': 'cosine', 'topK': 0, 'shrink': 284, 'feature_weighting': 'TF-IDF'}. Best is trial 388 with value: 0.05027369636809012.\n"
     ]
    },
    {
     "name": "stdout",
     "output_type": "stream",
     "text": [
      "Similarity column 38121 (100.0%), 2940.79 column/sec. Elapsed time 12.96 sec\n",
      "EvaluatorHoldout: Processed 35595 (100.0%) in 31.33 sec. Users per second: 1136\n"
     ]
    },
    {
     "name": "stderr",
     "output_type": "stream",
     "text": [
      "[I 2024-11-19 02:18:13,083] Trial 524 finished with value: 0.049441751003907033 and parameters: {'similarity': 'cosine', 'topK': 15, 'shrink': 309, 'feature_weighting': 'TF-IDF'}. Best is trial 388 with value: 0.05027369636809012.\n"
     ]
    },
    {
     "name": "stdout",
     "output_type": "stream",
     "text": [
      "Similarity column 38121 (100.0%), 2855.05 column/sec. Elapsed time 13.35 sec\n",
      "EvaluatorHoldout: Processed 35595 (100.0%) in 33.09 sec. Users per second: 1076\n"
     ]
    },
    {
     "name": "stderr",
     "output_type": "stream",
     "text": [
      "[I 2024-11-19 02:19:00,008] Trial 525 finished with value: 0.04829822830475835 and parameters: {'similarity': 'cosine', 'topK': 29, 'shrink': 858, 'feature_weighting': 'TF-IDF'}. Best is trial 388 with value: 0.05027369636809012.\n"
     ]
    },
    {
     "name": "stdout",
     "output_type": "stream",
     "text": [
      "Similarity column 38121 (100.0%), 2931.31 column/sec. Elapsed time 13.00 sec\n",
      "EvaluatorHoldout: Processed 35595 (100.0%) in 33.94 sec. Users per second: 1049\n"
     ]
    },
    {
     "name": "stderr",
     "output_type": "stream",
     "text": [
      "[I 2024-11-19 02:19:47,450] Trial 526 finished with value: 0.04760112999640838 and parameters: {'similarity': 'cosine', 'topK': 48, 'shrink': 256, 'feature_weighting': 'TF-IDF'}. Best is trial 388 with value: 0.05027369636809012.\n"
     ]
    },
    {
     "name": "stdout",
     "output_type": "stream",
     "text": [
      "Similarity column 38121 (100.0%), 3764.17 column/sec. Elapsed time 10.13 sec\n",
      "EvaluatorHoldout: Processed 35595 (100.0%) in 24.34 sec. Users per second: 1462\n"
     ]
    },
    {
     "name": "stderr",
     "output_type": "stream",
     "text": [
      "[I 2024-11-19 02:20:22,328] Trial 527 finished with value: 0.00028209999175022335 and parameters: {'similarity': 'cosine', 'topK': 0, 'shrink': 325, 'feature_weighting': 'TF-IDF'}. Best is trial 388 with value: 0.05027369636809012.\n"
     ]
    },
    {
     "name": "stdout",
     "output_type": "stream",
     "text": [
      "Similarity column 38121 (100.0%), 2940.28 column/sec. Elapsed time 12.97 sec\n",
      "EvaluatorHoldout: Processed 35595 (100.0%) in 31.67 sec. Users per second: 1124\n"
     ]
    },
    {
     "name": "stderr",
     "output_type": "stream",
     "text": [
      "[I 2024-11-19 02:21:07,394] Trial 528 finished with value: 0.04921266697435913 and parameters: {'similarity': 'cosine', 'topK': 16, 'shrink': 815, 'feature_weighting': 'TF-IDF'}. Best is trial 388 with value: 0.05027369636809012.\n"
     ]
    },
    {
     "name": "stdout",
     "output_type": "stream",
     "text": [
      "Similarity column 38121 (100.0%), 2904.58 column/sec. Elapsed time 13.12 sec\n",
      "EvaluatorHoldout: Processed 35595 (100.0%) in 34.95 sec. Users per second: 1019\n"
     ]
    },
    {
     "name": "stderr",
     "output_type": "stream",
     "text": [
      "[I 2024-11-19 02:21:55,823] Trial 529 finished with value: 0.03858161035636673 and parameters: {'similarity': 'cosine', 'topK': 31, 'shrink': 538, 'feature_weighting': 'none'}. Best is trial 388 with value: 0.05027369636809012.\n"
     ]
    },
    {
     "name": "stdout",
     "output_type": "stream",
     "text": [
      "Similarity column 38121 (100.0%), 2945.21 column/sec. Elapsed time 12.94 sec\n",
      "EvaluatorHoldout: Processed 35595 (100.0%) in 31.41 sec. Users per second: 1133\n"
     ]
    },
    {
     "name": "stderr",
     "output_type": "stream",
     "text": [
      "[I 2024-11-19 02:22:40,592] Trial 530 finished with value: 0.04956969611836693 and parameters: {'similarity': 'cosine', 'topK': 14, 'shrink': 358, 'feature_weighting': 'TF-IDF'}. Best is trial 388 with value: 0.05027369636809012.\n"
     ]
    },
    {
     "name": "stdout",
     "output_type": "stream",
     "text": [
      "Similarity column 38121 (100.0%), 2716.07 column/sec. Elapsed time 14.04 sec\n",
      "EvaluatorHoldout: Processed 35595 (100.0%) in 33.22 sec. Users per second: 1071\n"
     ]
    },
    {
     "name": "stderr",
     "output_type": "stream",
     "text": [
      "[I 2024-11-19 02:23:28,552] Trial 531 finished with value: 0.04905556893356988 and parameters: {'similarity': 'tversky', 'topK': 29, 'shrink': 195, 'feature_weighting': 'BM25', 'tversky_alpha': 0.5051956003050774, 'tversky_beta': 1.0759397584780637}. Best is trial 388 with value: 0.05027369636809012.\n"
     ]
    },
    {
     "name": "stdout",
     "output_type": "stream",
     "text": [
      "Similarity column 38121 (100.0%), 2941.97 column/sec. Elapsed time 12.96 sec\n",
      "EvaluatorHoldout: Processed 35595 (100.0%) in 34.27 sec. Users per second: 1039\n"
     ]
    },
    {
     "name": "stderr",
     "output_type": "stream",
     "text": [
      "[I 2024-11-19 02:24:16,252] Trial 532 finished with value: 0.04755193122807794 and parameters: {'similarity': 'cosine', 'topK': 49, 'shrink': 793, 'feature_weighting': 'TF-IDF'}. Best is trial 388 with value: 0.05027369636809012.\n"
     ]
    },
    {
     "name": "stdout",
     "output_type": "stream",
     "text": [
      "Similarity column 38121 (100.0%), 2967.63 column/sec. Elapsed time 12.85 sec\n",
      "EvaluatorHoldout: Processed 35595 (100.0%) in 31.27 sec. Users per second: 1138\n"
     ]
    },
    {
     "name": "stderr",
     "output_type": "stream",
     "text": [
      "[I 2024-11-19 02:25:00,787] Trial 533 finished with value: 0.04958797494743398 and parameters: {'similarity': 'cosine', 'topK': 14, 'shrink': 292, 'feature_weighting': 'TF-IDF'}. Best is trial 388 with value: 0.05027369636809012.\n"
     ]
    },
    {
     "name": "stdout",
     "output_type": "stream",
     "text": [
      "Similarity column 38121 (100.0%), 2963.55 column/sec. Elapsed time 12.86 sec\n",
      "EvaluatorHoldout: Processed 35595 (100.0%) in 31.11 sec. Users per second: 1144\n"
     ]
    },
    {
     "name": "stderr",
     "output_type": "stream",
     "text": [
      "[I 2024-11-19 02:25:45,178] Trial 534 finished with value: 0.04950411373988958 and parameters: {'similarity': 'cosine', 'topK': 15, 'shrink': 415, 'feature_weighting': 'TF-IDF'}. Best is trial 388 with value: 0.05027369636809012.\n"
     ]
    },
    {
     "name": "stdout",
     "output_type": "stream",
     "text": [
      "Similarity column 38121 (100.0%), 2940.55 column/sec. Elapsed time 12.96 sec\n",
      "EvaluatorHoldout: Processed 35595 (100.0%) in 38.07 sec. Users per second: 935\n"
     ]
    },
    {
     "name": "stderr",
     "output_type": "stream",
     "text": [
      "[I 2024-11-19 02:26:36,664] Trial 535 finished with value: 0.01577179891950238 and parameters: {'similarity': 'asymmetric', 'topK': 30, 'shrink': 343, 'feature_weighting': 'TF-IDF', 'asymmetric_alpha': 1.8065286949536488}. Best is trial 388 with value: 0.05027369636809012.\n"
     ]
    },
    {
     "name": "stdout",
     "output_type": "stream",
     "text": [
      "Similarity column 38121 (100.0%), 3949.77 column/sec. Elapsed time 9.65 sec\n",
      "EvaluatorHoldout: Processed 35595 (100.0%) in 24.09 sec. Users per second: 1478\n"
     ]
    },
    {
     "name": "stderr",
     "output_type": "stream",
     "text": [
      "[I 2024-11-19 02:27:10,989] Trial 536 finished with value: 0.00028209999175022335 and parameters: {'similarity': 'dice', 'topK': 0, 'shrink': 608, 'feature_weighting': 'TF-IDF'}. Best is trial 388 with value: 0.05027369636809012.\n"
     ]
    },
    {
     "name": "stdout",
     "output_type": "stream",
     "text": [
      "Similarity column 38121 (100.0%), 2952.18 column/sec. Elapsed time 12.91 sec\n",
      "EvaluatorHoldout: Processed 35595 (100.0%) in 33.65 sec. Users per second: 1058\n"
     ]
    },
    {
     "name": "stderr",
     "output_type": "stream",
     "text": [
      "[I 2024-11-19 02:27:58,038] Trial 537 finished with value: 0.047688533033664084 and parameters: {'similarity': 'cosine', 'topK': 48, 'shrink': 388, 'feature_weighting': 'TF-IDF'}. Best is trial 388 with value: 0.05027369636809012.\n"
     ]
    },
    {
     "name": "stdout",
     "output_type": "stream",
     "text": [
      "Similarity column 38121 (100.0%), 2973.60 column/sec. Elapsed time 12.82 sec\n",
      "EvaluatorHoldout: Processed 35595 (100.0%) in 31.20 sec. Users per second: 1141\n"
     ]
    },
    {
     "name": "stderr",
     "output_type": "stream",
     "text": [
      "[I 2024-11-19 02:28:42,481] Trial 538 finished with value: 0.04961715017045649 and parameters: {'similarity': 'cosine', 'topK': 14, 'shrink': 463, 'feature_weighting': 'TF-IDF'}. Best is trial 388 with value: 0.05027369636809012.\n"
     ]
    },
    {
     "name": "stdout",
     "output_type": "stream",
     "text": [
      "Similarity column 38121 (100.0%), 2946.27 column/sec. Elapsed time 12.94 sec\n",
      "EvaluatorHoldout: Processed 35595 (100.0%) in 32.97 sec. Users per second: 1080\n"
     ]
    },
    {
     "name": "stderr",
     "output_type": "stream",
     "text": [
      "[I 2024-11-19 02:29:28,826] Trial 539 finished with value: 0.04818482620842294 and parameters: {'similarity': 'cosine', 'topK': 31, 'shrink': 861, 'feature_weighting': 'TF-IDF'}. Best is trial 388 with value: 0.05027369636809012.\n"
     ]
    },
    {
     "name": "stdout",
     "output_type": "stream",
     "text": [
      "Similarity column 38121 (100.0%), 3884.82 column/sec. Elapsed time 9.81 sec\n",
      "EvaluatorHoldout: Processed 35595 (100.0%) in 24.09 sec. Users per second: 1478\n"
     ]
    },
    {
     "name": "stderr",
     "output_type": "stream",
     "text": [
      "[I 2024-11-19 02:30:03,321] Trial 540 finished with value: 0.00028209999175022335 and parameters: {'similarity': 'jaccard', 'topK': 0, 'shrink': 324, 'feature_weighting': 'TF-IDF'}. Best is trial 388 with value: 0.05027369636809012.\n"
     ]
    },
    {
     "name": "stdout",
     "output_type": "stream",
     "text": [
      "Similarity column 38121 (100.0%), 2969.96 column/sec. Elapsed time 12.84 sec\n",
      "EvaluatorHoldout: Processed 35595 (100.0%) in 31.99 sec. Users per second: 1113\n"
     ]
    },
    {
     "name": "stderr",
     "output_type": "stream",
     "text": [
      "[I 2024-11-19 02:30:48,565] Trial 541 finished with value: 0.04919396896746053 and parameters: {'similarity': 'cosine', 'topK': 16, 'shrink': 832, 'feature_weighting': 'TF-IDF'}. Best is trial 388 with value: 0.05027369636809012.\n"
     ]
    },
    {
     "name": "stdout",
     "output_type": "stream",
     "text": [
      "Similarity column 38121 (100.0%), 2944.83 column/sec. Elapsed time 12.95 sec\n",
      "EvaluatorHoldout: Processed 35595 (100.0%) in 32.46 sec. Users per second: 1097\n"
     ]
    },
    {
     "name": "stderr",
     "output_type": "stream",
     "text": [
      "[I 2024-11-19 02:31:34,429] Trial 542 finished with value: 0.04826015893082719 and parameters: {'similarity': 'cosine', 'topK': 31, 'shrink': 273, 'feature_weighting': 'TF-IDF'}. Best is trial 388 with value: 0.05027369636809012.\n"
     ]
    },
    {
     "name": "stdout",
     "output_type": "stream",
     "text": [
      "Similarity column 38121 (100.0%), 3803.25 column/sec. Elapsed time 10.02 sec\n",
      "EvaluatorHoldout: Processed 35595 (100.0%) in 24.18 sec. Users per second: 1472\n"
     ]
    },
    {
     "name": "stderr",
     "output_type": "stream",
     "text": [
      "[I 2024-11-19 02:32:09,048] Trial 543 finished with value: 0.00028209999175022335 and parameters: {'similarity': 'cosine', 'topK': 0, 'shrink': 360, 'feature_weighting': 'TF-IDF'}. Best is trial 388 with value: 0.05027369636809012.\n"
     ]
    },
    {
     "name": "stdout",
     "output_type": "stream",
     "text": [
      "Similarity column 38121 (100.0%), 2898.11 column/sec. Elapsed time 13.15 sec\n",
      "EvaluatorHoldout: Processed 35595 (100.0%) in 33.91 sec. Users per second: 1050\n"
     ]
    },
    {
     "name": "stderr",
     "output_type": "stream",
     "text": [
      "[I 2024-11-19 02:32:56,726] Trial 544 finished with value: 0.04765343692376816 and parameters: {'similarity': 'cosine', 'topK': 49, 'shrink': 495, 'feature_weighting': 'TF-IDF'}. Best is trial 388 with value: 0.05027369636809012.\n"
     ]
    },
    {
     "name": "stdout",
     "output_type": "stream",
     "text": [
      "Similarity column 38121 (100.0%), 2956.13 column/sec. Elapsed time 12.90 sec\n",
      "EvaluatorHoldout: Processed 35595 (100.0%) in 31.49 sec. Users per second: 1130\n"
     ]
    },
    {
     "name": "stderr",
     "output_type": "stream",
     "text": [
      "[I 2024-11-19 02:33:41,553] Trial 545 finished with value: 0.04932080928077356 and parameters: {'similarity': 'cosine', 'topK': 17, 'shrink': 293, 'feature_weighting': 'TF-IDF'}. Best is trial 388 with value: 0.05027369636809012.\n"
     ]
    },
    {
     "name": "stdout",
     "output_type": "stream",
     "text": [
      "Similarity column 38121 (100.0%), 2961.88 column/sec. Elapsed time 12.87 sec\n",
      "EvaluatorHoldout: Processed 35595 (100.0%) in 32.77 sec. Users per second: 1086\n"
     ]
    },
    {
     "name": "stderr",
     "output_type": "stream",
     "text": [
      "[I 2024-11-19 02:34:27,685] Trial 546 finished with value: 0.04831929867981105 and parameters: {'similarity': 'cosine', 'topK': 28, 'shrink': 758, 'feature_weighting': 'TF-IDF'}. Best is trial 388 with value: 0.05027369636809012.\n"
     ]
    },
    {
     "name": "stdout",
     "output_type": "stream",
     "text": [
      "Similarity column 38121 (100.0%), 2786.68 column/sec. Elapsed time 13.68 sec\n",
      "EvaluatorHoldout: Processed 35595 (100.0%) in 47.84 sec. Users per second: 744\n"
     ]
    },
    {
     "name": "stderr",
     "output_type": "stream",
     "text": [
      "[I 2024-11-19 02:35:30,369] Trial 547 finished with value: 0.04421155659903911 and parameters: {'similarity': 'cosine', 'topK': 518, 'shrink': 436, 'feature_weighting': 'TF-IDF'}. Best is trial 388 with value: 0.05027369636809012.\n"
     ]
    },
    {
     "name": "stdout",
     "output_type": "stream",
     "text": [
      "Similarity column 38121 (100.0%), 493.19 column/sec. Elapsed time 1.29 min\n",
      "EvaluatorHoldout: Processed 35595 (100.0%) in 30.91 sec. Users per second: 1152\n"
     ]
    },
    {
     "name": "stderr",
     "output_type": "stream",
     "text": [
      "[I 2024-11-19 02:37:18,986] Trial 548 finished with value: 0.03876327377886464 and parameters: {'similarity': 'euclidean', 'topK': 16, 'shrink': 398, 'feature_weighting': 'TF-IDF', 'normalize_avg_row': False, 'similarity_from_distance_mode': 'log', 'normalize': True}. Best is trial 388 with value: 0.05027369636809012.\n"
     ]
    },
    {
     "name": "stdout",
     "output_type": "stream",
     "text": [
      "Similarity column 38121 (100.0%), 2943.21 column/sec. Elapsed time 12.95 sec\n",
      "EvaluatorHoldout: Processed 35595 (100.0%) in 32.66 sec. Users per second: 1090\n"
     ]
    },
    {
     "name": "stderr",
     "output_type": "stream",
     "text": [
      "[I 2024-11-19 02:38:05,042] Trial 549 finished with value: 0.048228187702480066 and parameters: {'similarity': 'cosine', 'topK': 32, 'shrink': 340, 'feature_weighting': 'TF-IDF'}. Best is trial 388 with value: 0.05027369636809012.\n"
     ]
    },
    {
     "name": "stdout",
     "output_type": "stream",
     "text": [
      "Similarity column 38121 (100.0%), 3784.58 column/sec. Elapsed time 10.07 sec\n",
      "EvaluatorHoldout: Processed 35595 (100.0%) in 24.22 sec. Users per second: 1469\n"
     ]
    },
    {
     "name": "stderr",
     "output_type": "stream",
     "text": [
      "[I 2024-11-19 02:38:39,734] Trial 550 finished with value: 0.00028209999175022335 and parameters: {'similarity': 'cosine', 'topK': 0, 'shrink': 848, 'feature_weighting': 'TF-IDF'}. Best is trial 388 with value: 0.05027369636809012.\n"
     ]
    },
    {
     "name": "stdout",
     "output_type": "stream",
     "text": [
      "Similarity column 38121 (100.0%), 2962.68 column/sec. Elapsed time 12.87 sec\n",
      "EvaluatorHoldout: Processed 35595 (100.0%) in 31.22 sec. Users per second: 1140\n"
     ]
    },
    {
     "name": "stderr",
     "output_type": "stream",
     "text": [
      "[I 2024-11-19 02:39:24,239] Trial 551 finished with value: 0.0493105873617864 and parameters: {'similarity': 'cosine', 'topK': 17, 'shrink': 305, 'feature_weighting': 'TF-IDF'}. Best is trial 388 with value: 0.05027369636809012.\n"
     ]
    },
    {
     "name": "stdout",
     "output_type": "stream",
     "text": [
      "Similarity column 38121 (100.0%), 2942.69 column/sec. Elapsed time 12.95 sec\n",
      "EvaluatorHoldout: Processed 35595 (100.0%) in 33.14 sec. Users per second: 1074\n"
     ]
    },
    {
     "name": "stderr",
     "output_type": "stream",
     "text": [
      "[I 2024-11-19 02:40:10,807] Trial 552 finished with value: 0.04205334372359111 and parameters: {'similarity': 'cosine', 'topK': 45, 'shrink': 248, 'feature_weighting': 'BM25'}. Best is trial 388 with value: 0.05027369636809012.\n"
     ]
    },
    {
     "name": "stdout",
     "output_type": "stream",
     "text": [
      "Similarity column 38121 (100.0%), 2921.71 column/sec. Elapsed time 13.05 sec\n",
      "EvaluatorHoldout: Processed 35595 (100.0%) in 32.96 sec. Users per second: 1080\n"
     ]
    },
    {
     "name": "stderr",
     "output_type": "stream",
     "text": [
      "[I 2024-11-19 02:40:57,145] Trial 553 finished with value: 0.038777900409588735 and parameters: {'similarity': 'cosine', 'topK': 14, 'shrink': 558, 'feature_weighting': 'none'}. Best is trial 388 with value: 0.05027369636809012.\n"
     ]
    },
    {
     "name": "stdout",
     "output_type": "stream",
     "text": [
      "Similarity column 38121 (100.0%), 2920.50 column/sec. Elapsed time 13.05 sec\n",
      "EvaluatorHoldout: Processed 35595 (100.0%) in 32.49 sec. Users per second: 1096\n"
     ]
    },
    {
     "name": "stderr",
     "output_type": "stream",
     "text": [
      "[I 2024-11-19 02:41:43,149] Trial 554 finished with value: 0.04848251270353919 and parameters: {'similarity': 'cosine', 'topK': 29, 'shrink': 315, 'feature_weighting': 'TF-IDF'}. Best is trial 388 with value: 0.05027369636809012.\n"
     ]
    },
    {
     "name": "stdout",
     "output_type": "stream",
     "text": [
      "Similarity column 38121 (100.0%), 2973.90 column/sec. Elapsed time 12.82 sec\n",
      "EvaluatorHoldout: Processed 35595 (100.0%) in 30.86 sec. Users per second: 1153\n"
     ]
    },
    {
     "name": "stderr",
     "output_type": "stream",
     "text": [
      "[I 2024-11-19 02:42:27,238] Trial 555 finished with value: 0.04982875582222217 and parameters: {'similarity': 'cosine', 'topK': 12, 'shrink': 524, 'feature_weighting': 'TF-IDF'}. Best is trial 388 with value: 0.05027369636809012.\n"
     ]
    },
    {
     "name": "stdout",
     "output_type": "stream",
     "text": [
      "Similarity column 38121 (100.0%), 2938.59 column/sec. Elapsed time 12.97 sec\n",
      "EvaluatorHoldout: Processed 35595 (100.0%) in 33.03 sec. Users per second: 1078\n"
     ]
    },
    {
     "name": "stderr",
     "output_type": "stream",
     "text": [
      "[I 2024-11-19 02:43:13,685] Trial 556 finished with value: 0.04829151254077328 and parameters: {'similarity': 'cosine', 'topK': 30, 'shrink': 802, 'feature_weighting': 'TF-IDF'}. Best is trial 388 with value: 0.05027369636809012.\n"
     ]
    },
    {
     "name": "stdout",
     "output_type": "stream",
     "text": [
      "Similarity column 38121 (100.0%), 2808.99 column/sec. Elapsed time 13.57 sec\n",
      "EvaluatorHoldout: Processed 35595 (100.0%) in 50.38 sec. Users per second: 707\n"
     ]
    },
    {
     "name": "stderr",
     "output_type": "stream",
     "text": [
      "[I 2024-11-19 02:44:18,923] Trial 557 finished with value: 0.04398139340954174 and parameters: {'similarity': 'cosine', 'topK': 642, 'shrink': 376, 'feature_weighting': 'TF-IDF'}. Best is trial 388 with value: 0.05027369636809012.\n"
     ]
    },
    {
     "name": "stdout",
     "output_type": "stream",
     "text": [
      "Similarity column 38121 (100.0%), 2725.84 column/sec. Elapsed time 13.99 sec\n",
      "EvaluatorHoldout: Processed 35595 (100.0%) in 35.73 sec. Users per second: 996\n"
     ]
    },
    {
     "name": "stderr",
     "output_type": "stream",
     "text": [
      "[I 2024-11-19 02:45:09,360] Trial 558 finished with value: 0.04095023378082638 and parameters: {'similarity': 'tversky', 'topK': 50, 'shrink': 722, 'feature_weighting': 'TF-IDF', 'tversky_alpha': 1.791910591256225, 'tversky_beta': 1.6490267604238833}. Best is trial 388 with value: 0.05027369636809012.\n"
     ]
    },
    {
     "name": "stdout",
     "output_type": "stream",
     "text": [
      "Similarity column 38121 (100.0%), 3749.74 column/sec. Elapsed time 10.17 sec\n",
      "EvaluatorHoldout: Processed 35595 (100.0%) in 24.16 sec. Users per second: 1473\n"
     ]
    },
    {
     "name": "stderr",
     "output_type": "stream",
     "text": [
      "[I 2024-11-19 02:45:44,106] Trial 559 finished with value: 0.00028209999175022335 and parameters: {'similarity': 'cosine', 'topK': 0, 'shrink': 332, 'feature_weighting': 'TF-IDF'}. Best is trial 388 with value: 0.05027369636809012.\n"
     ]
    },
    {
     "name": "stdout",
     "output_type": "stream",
     "text": [
      "Similarity column 38121 (100.0%), 2949.87 column/sec. Elapsed time 12.92 sec\n",
      "EvaluatorHoldout: Processed 35595 (100.0%) in 31.16 sec. Users per second: 1142\n"
     ]
    },
    {
     "name": "stderr",
     "output_type": "stream",
     "text": [
      "[I 2024-11-19 02:46:28,613] Trial 560 finished with value: 0.049566543365951704 and parameters: {'similarity': 'cosine', 'topK': 14, 'shrink': 282, 'feature_weighting': 'TF-IDF'}. Best is trial 388 with value: 0.05027369636809012.\n"
     ]
    },
    {
     "name": "stdout",
     "output_type": "stream",
     "text": [
      "Similarity column 38121 (100.0%), 2949.36 column/sec. Elapsed time 12.93 sec\n",
      "EvaluatorHoldout: Processed 35595 (100.0%) in 32.67 sec. Users per second: 1090\n"
     ]
    },
    {
     "name": "stderr",
     "output_type": "stream",
     "text": [
      "[I 2024-11-19 02:47:14,695] Trial 561 finished with value: 0.04843801853746874 and parameters: {'similarity': 'cosine', 'topK': 29, 'shrink': 480, 'feature_weighting': 'TF-IDF'}. Best is trial 388 with value: 0.05027369636809012.\n"
     ]
    },
    {
     "name": "stdout",
     "output_type": "stream",
     "text": [
      "Similarity column 38121 (100.0%), 2977.42 column/sec. Elapsed time 12.80 sec\n",
      "EvaluatorHoldout: Processed 35595 (100.0%) in 31.51 sec. Users per second: 1130\n"
     ]
    },
    {
     "name": "stderr",
     "output_type": "stream",
     "text": [
      "[I 2024-11-19 02:47:59,435] Trial 562 finished with value: 0.0491689520777156 and parameters: {'similarity': 'cosine', 'topK': 15, 'shrink': 829, 'feature_weighting': 'TF-IDF'}. Best is trial 388 with value: 0.05027369636809012.\n"
     ]
    },
    {
     "name": "stdout",
     "output_type": "stream",
     "text": [
      "Similarity column 38121 (100.0%), 3720.26 column/sec. Elapsed time 10.25 sec\n",
      "EvaluatorHoldout: Processed 35595 (100.0%) in 24.60 sec. Users per second: 1447\n"
     ]
    },
    {
     "name": "stderr",
     "output_type": "stream",
     "text": [
      "[I 2024-11-19 02:48:34,710] Trial 563 finished with value: 0.00028209999175022335 and parameters: {'similarity': 'asymmetric', 'topK': 0, 'shrink': 80, 'feature_weighting': 'TF-IDF', 'asymmetric_alpha': 1.192926468115317}. Best is trial 388 with value: 0.05027369636809012.\n"
     ]
    },
    {
     "name": "stdout",
     "output_type": "stream",
     "text": [
      "Similarity column 38121 (100.0%), 2922.61 column/sec. Elapsed time 13.04 sec\n",
      "EvaluatorHoldout: Processed 35595 (100.0%) in 33.87 sec. Users per second: 1051\n"
     ]
    },
    {
     "name": "stderr",
     "output_type": "stream",
     "text": [
      "[I 2024-11-19 02:49:22,116] Trial 564 finished with value: 0.04773450324082276 and parameters: {'similarity': 'cosine', 'topK': 47, 'shrink': 354, 'feature_weighting': 'TF-IDF'}. Best is trial 388 with value: 0.05027369636809012.\n"
     ]
    },
    {
     "name": "stdout",
     "output_type": "stream",
     "text": [
      "Similarity column 38121 (100.0%), 2993.49 column/sec. Elapsed time 12.73 sec\n",
      "EvaluatorHoldout: Processed 35595 (100.0%) in 34.00 sec. Users per second: 1047\n"
     ]
    },
    {
     "name": "stderr",
     "output_type": "stream",
     "text": [
      "[I 2024-11-19 02:50:09,485] Trial 565 finished with value: 0.041523389231141586 and parameters: {'similarity': 'dice', 'topK': 30, 'shrink': 451, 'feature_weighting': 'TF-IDF'}. Best is trial 388 with value: 0.05027369636809012.\n"
     ]
    },
    {
     "name": "stdout",
     "output_type": "stream",
     "text": [
      "Similarity column 38121 (100.0%), 2939.09 column/sec. Elapsed time 12.97 sec\n",
      "EvaluatorHoldout: Processed 35595 (100.0%) in 31.86 sec. Users per second: 1117\n"
     ]
    },
    {
     "name": "stderr",
     "output_type": "stream",
     "text": [
      "[I 2024-11-19 02:50:54,752] Trial 566 finished with value: 0.04917590864598698 and parameters: {'similarity': 'cosine', 'topK': 15, 'shrink': 866, 'feature_weighting': 'TF-IDF'}. Best is trial 388 with value: 0.05027369636809012.\n"
     ]
    },
    {
     "name": "stdout",
     "output_type": "stream",
     "text": [
      "Similarity column 38121 (100.0%), 2971.31 column/sec. Elapsed time 12.83 sec\n",
      "EvaluatorHoldout: Processed 35595 (100.0%) in 33.84 sec. Users per second: 1052\n"
     ]
    },
    {
     "name": "stderr",
     "output_type": "stream",
     "text": [
      "[I 2024-11-19 02:51:42,054] Trial 567 finished with value: 0.042786055425118166 and parameters: {'similarity': 'jaccard', 'topK': 32, 'shrink': 314, 'feature_weighting': 'TF-IDF'}. Best is trial 388 with value: 0.05027369636809012.\n"
     ]
    },
    {
     "name": "stdout",
     "output_type": "stream",
     "text": [
      "Similarity column 38121 (100.0%), 2990.20 column/sec. Elapsed time 12.75 sec\n",
      "EvaluatorHoldout: Processed 35595 (100.0%) in 31.51 sec. Users per second: 1130\n"
     ]
    },
    {
     "name": "stderr",
     "output_type": "stream",
     "text": [
      "[I 2024-11-19 02:52:26,738] Trial 568 finished with value: 0.04916852844054531 and parameters: {'similarity': 'cosine', 'topK': 15, 'shrink': 780, 'feature_weighting': 'TF-IDF'}. Best is trial 388 with value: 0.05027369636809012.\n"
     ]
    },
    {
     "name": "stdout",
     "output_type": "stream",
     "text": [
      "Similarity column 38121 (100.0%), 3794.44 column/sec. Elapsed time 10.05 sec\n",
      "EvaluatorHoldout: Processed 35595 (100.0%) in 24.27 sec. Users per second: 1467\n"
     ]
    },
    {
     "name": "stderr",
     "output_type": "stream",
     "text": [
      "[I 2024-11-19 02:53:01,457] Trial 569 finished with value: 0.00028209999175022335 and parameters: {'similarity': 'cosine', 'topK': 0, 'shrink': 411, 'feature_weighting': 'TF-IDF'}. Best is trial 388 with value: 0.05027369636809012.\n"
     ]
    },
    {
     "name": "stdout",
     "output_type": "stream",
     "text": [
      "Similarity column 38121 (100.0%), 2972.75 column/sec. Elapsed time 12.82 sec\n",
      "EvaluatorHoldout: Processed 35595 (100.0%) in 33.79 sec. Users per second: 1053\n"
     ]
    },
    {
     "name": "stderr",
     "output_type": "stream",
     "text": [
      "[I 2024-11-19 02:53:48,547] Trial 570 finished with value: 0.047877797398866065 and parameters: {'similarity': 'cosine', 'topK': 45, 'shrink': 507, 'feature_weighting': 'TF-IDF'}. Best is trial 388 with value: 0.05027369636809012.\n"
     ]
    },
    {
     "name": "stdout",
     "output_type": "stream",
     "text": [
      "Similarity column 38121 (100.0%), 3798.84 column/sec. Elapsed time 10.03 sec\n",
      "EvaluatorHoldout: Processed 35595 (100.0%) in 24.24 sec. Users per second: 1469\n"
     ]
    },
    {
     "name": "stderr",
     "output_type": "stream",
     "text": [
      "[I 2024-11-19 02:54:23,226] Trial 571 finished with value: 0.00028209999175022335 and parameters: {'similarity': 'cosine', 'topK': 0, 'shrink': 329, 'feature_weighting': 'TF-IDF'}. Best is trial 388 with value: 0.05027369636809012.\n"
     ]
    },
    {
     "name": "stdout",
     "output_type": "stream",
     "text": [
      "Similarity column 38121 (100.0%), 2956.35 column/sec. Elapsed time 12.89 sec\n",
      "EvaluatorHoldout: Processed 35595 (100.0%) in 32.54 sec. Users per second: 1094\n"
     ]
    },
    {
     "name": "stderr",
     "output_type": "stream",
     "text": [
      "[I 2024-11-19 02:55:09,092] Trial 572 finished with value: 0.048313802544942906 and parameters: {'similarity': 'cosine', 'topK': 30, 'shrink': 269, 'feature_weighting': 'TF-IDF'}. Best is trial 388 with value: 0.05027369636809012.\n"
     ]
    },
    {
     "name": "stdout",
     "output_type": "stream",
     "text": [
      "Similarity column 38121 (100.0%), 2957.14 column/sec. Elapsed time 12.89 sec\n",
      "EvaluatorHoldout: Processed 35595 (100.0%) in 31.34 sec. Users per second: 1136\n"
     ]
    },
    {
     "name": "stderr",
     "output_type": "stream",
     "text": [
      "[I 2024-11-19 02:55:53,754] Trial 573 finished with value: 0.049451958430043595 and parameters: {'similarity': 'cosine', 'topK': 15, 'shrink': 364, 'feature_weighting': 'TF-IDF'}. Best is trial 388 with value: 0.05027369636809012.\n"
     ]
    },
    {
     "name": "stdout",
     "output_type": "stream",
     "text": [
      "Similarity column 38121 (100.0%), 2808.25 column/sec. Elapsed time 13.57 sec\n",
      "EvaluatorHoldout: Processed 35595 (100.0%) in 33.88 sec. Users per second: 1051\n"
     ]
    },
    {
     "name": "stderr",
     "output_type": "stream",
     "text": [
      "[I 2024-11-19 02:56:41,570] Trial 574 finished with value: 0.03759886019304348 and parameters: {'similarity': 'cosine', 'topK': 15, 'shrink': 815, 'feature_weighting': 'none'}. Best is trial 388 with value: 0.05027369636809012.\n"
     ]
    },
    {
     "name": "stdout",
     "output_type": "stream",
     "text": [
      "Similarity column 38121 (100.0%), 501.54 column/sec. Elapsed time 1.27 min\n",
      "EvaluatorHoldout: Processed 35595 (100.0%) in 26.67 sec. Users per second: 1335\n"
     ]
    },
    {
     "name": "stderr",
     "output_type": "stream",
     "text": [
      "[I 2024-11-19 02:58:24,655] Trial 575 finished with value: 0.02829481245136515 and parameters: {'similarity': 'euclidean', 'topK': 30, 'shrink': 296, 'feature_weighting': 'TF-IDF', 'normalize_avg_row': True, 'similarity_from_distance_mode': 'log', 'normalize': False}. Best is trial 388 with value: 0.05027369636809012.\n"
     ]
    },
    {
     "name": "stdout",
     "output_type": "stream",
     "text": [
      "Similarity column 38121 (100.0%), 2932.03 column/sec. Elapsed time 13.00 sec\n",
      "EvaluatorHoldout: Processed 35595 (100.0%) in 34.68 sec. Users per second: 1026\n"
     ]
    },
    {
     "name": "stderr",
     "output_type": "stream",
     "text": [
      "[I 2024-11-19 02:59:12,822] Trial 576 finished with value: 0.04769446729855308 and parameters: {'similarity': 'cosine', 'topK': 45, 'shrink': 850, 'feature_weighting': 'TF-IDF'}. Best is trial 388 with value: 0.05027369636809012.\n"
     ]
    },
    {
     "name": "stdout",
     "output_type": "stream",
     "text": [
      "Similarity column 38121 (100.0%), 2944.03 column/sec. Elapsed time 12.95 sec\n",
      "EvaluatorHoldout: Processed 35595 (100.0%) in 32.32 sec. Users per second: 1101\n"
     ]
    },
    {
     "name": "stderr",
     "output_type": "stream",
     "text": [
      "[I 2024-11-19 02:59:58,571] Trial 577 finished with value: 0.04915264985049877 and parameters: {'similarity': 'cosine', 'topK': 19, 'shrink': 582, 'feature_weighting': 'TF-IDF'}. Best is trial 388 with value: 0.05027369636809012.\n"
     ]
    },
    {
     "name": "stdout",
     "output_type": "stream",
     "text": [
      "Similarity column 38121 (100.0%), 3692.78 column/sec. Elapsed time 10.32 sec\n",
      "EvaluatorHoldout: Processed 35595 (100.0%) in 25.23 sec. Users per second: 1411\n"
     ]
    },
    {
     "name": "stderr",
     "output_type": "stream",
     "text": [
      "[I 2024-11-19 03:00:34,548] Trial 578 finished with value: 0.00028209999175022335 and parameters: {'similarity': 'cosine', 'topK': 0, 'shrink': 473, 'feature_weighting': 'BM25'}. Best is trial 388 with value: 0.05027369636809012.\n"
     ]
    },
    {
     "name": "stdout",
     "output_type": "stream",
     "text": [
      "Similarity column 38121 (100.0%), 2914.28 column/sec. Elapsed time 13.08 sec\n",
      "EvaluatorHoldout: Processed 35595 (100.0%) in 33.29 sec. Users per second: 1069\n"
     ]
    },
    {
     "name": "stderr",
     "output_type": "stream",
     "text": [
      "[I 2024-11-19 03:01:21,397] Trial 579 finished with value: 0.04846619598347187 and parameters: {'similarity': 'cosine', 'topK': 29, 'shrink': 387, 'feature_weighting': 'TF-IDF'}. Best is trial 388 with value: 0.05027369636809012.\n"
     ]
    },
    {
     "name": "stdout",
     "output_type": "stream",
     "text": [
      "Similarity column 38121 (100.0%), 2981.39 column/sec. Elapsed time 12.79 sec\n",
      "EvaluatorHoldout: Processed 35595 (100.0%) in 31.47 sec. Users per second: 1131\n"
     ]
    },
    {
     "name": "stderr",
     "output_type": "stream",
     "text": [
      "[I 2024-11-19 03:02:06,087] Trial 580 finished with value: 0.049175167280938806 and parameters: {'similarity': 'cosine', 'topK': 15, 'shrink': 868, 'feature_weighting': 'TF-IDF'}. Best is trial 388 with value: 0.05027369636809012.\n"
     ]
    },
    {
     "name": "stdout",
     "output_type": "stream",
     "text": [
      "Similarity column 38121 (100.0%), 2930.81 column/sec. Elapsed time 13.01 sec\n",
      "EvaluatorHoldout: Processed 35595 (100.0%) in 33.87 sec. Users per second: 1051\n"
     ]
    },
    {
     "name": "stderr",
     "output_type": "stream",
     "text": [
      "[I 2024-11-19 03:02:53,436] Trial 581 finished with value: 0.0478032573239045 and parameters: {'similarity': 'cosine', 'topK': 42, 'shrink': 339, 'feature_weighting': 'TF-IDF'}. Best is trial 388 with value: 0.05027369636809012.\n"
     ]
    },
    {
     "name": "stdout",
     "output_type": "stream",
     "text": [
      "Similarity column 38121 (100.0%), 3753.04 column/sec. Elapsed time 10.16 sec\n",
      "EvaluatorHoldout: Processed 35595 (100.0%) in 24.36 sec. Users per second: 1461\n"
     ]
    },
    {
     "name": "stderr",
     "output_type": "stream",
     "text": [
      "[I 2024-11-19 03:03:28,370] Trial 582 finished with value: 0.00028209999175022335 and parameters: {'similarity': 'cosine', 'topK': 0, 'shrink': 318, 'feature_weighting': 'TF-IDF'}. Best is trial 388 with value: 0.05027369636809012.\n"
     ]
    },
    {
     "name": "stdout",
     "output_type": "stream",
     "text": [
      "Similarity column 38121 (100.0%), 2864.49 column/sec. Elapsed time 13.31 sec\n",
      "EvaluatorHoldout: Processed 35595 (100.0%) in 41.61 sec. Users per second: 855\n"
     ]
    },
    {
     "name": "stderr",
     "output_type": "stream",
     "text": [
      "[I 2024-11-19 03:04:24,096] Trial 583 finished with value: 0.04511283464549178 and parameters: {'similarity': 'cosine', 'topK': 263, 'shrink': 365, 'feature_weighting': 'TF-IDF'}. Best is trial 388 with value: 0.05027369636809012.\n"
     ]
    },
    {
     "name": "stdout",
     "output_type": "stream",
     "text": [
      "Similarity column 38121 (100.0%), 2921.50 column/sec. Elapsed time 13.05 sec\n",
      "EvaluatorHoldout: Processed 35595 (100.0%) in 31.76 sec. Users per second: 1121\n"
     ]
    },
    {
     "name": "stderr",
     "output_type": "stream",
     "text": [
      "[I 2024-11-19 03:05:09,343] Trial 584 finished with value: 0.04948785499122454 and parameters: {'similarity': 'cosine', 'topK': 16, 'shrink': 439, 'feature_weighting': 'TF-IDF'}. Best is trial 388 with value: 0.05027369636809012.\n"
     ]
    },
    {
     "name": "stdout",
     "output_type": "stream",
     "text": [
      "Similarity column 38121 (100.0%), 2956.77 column/sec. Elapsed time 12.89 sec\n",
      "EvaluatorHoldout: Processed 35595 (100.0%) in 33.45 sec. Users per second: 1064\n"
     ]
    },
    {
     "name": "stderr",
     "output_type": "stream",
     "text": [
      "[I 2024-11-19 03:05:56,154] Trial 585 finished with value: 0.04819976945219049 and parameters: {'similarity': 'cosine', 'topK': 31, 'shrink': 837, 'feature_weighting': 'TF-IDF'}. Best is trial 388 with value: 0.05027369636809012.\n"
     ]
    },
    {
     "name": "stdout",
     "output_type": "stream",
     "text": [
      "Similarity column 38121 (100.0%), 2570.57 column/sec. Elapsed time 14.83 sec\n",
      "EvaluatorHoldout: Processed 35595 (100.0%) in 51.16 sec. Users per second: 696\n"
     ]
    },
    {
     "name": "stderr",
     "output_type": "stream",
     "text": [
      "[I 2024-11-19 03:07:03,616] Trial 586 finished with value: 0.031686913178905665 and parameters: {'similarity': 'tversky', 'topK': 562, 'shrink': 294, 'feature_weighting': 'TF-IDF', 'tversky_alpha': 0.2621902142143995, 'tversky_beta': 0.2451427565611093}. Best is trial 388 with value: 0.05027369636809012.\n"
     ]
    },
    {
     "name": "stdout",
     "output_type": "stream",
     "text": [
      "Similarity column 38121 (100.0%), 2962.20 column/sec. Elapsed time 12.87 sec\n",
      "EvaluatorHoldout: Processed 35595 (100.0%) in 34.06 sec. Users per second: 1045\n"
     ]
    },
    {
     "name": "stderr",
     "output_type": "stream",
     "text": [
      "[I 2024-11-19 03:07:51,047] Trial 587 finished with value: 0.047631124622905384 and parameters: {'similarity': 'cosine', 'topK': 49, 'shrink': 536, 'feature_weighting': 'TF-IDF'}. Best is trial 388 with value: 0.05027369636809012.\n"
     ]
    },
    {
     "name": "stdout",
     "output_type": "stream",
     "text": [
      "Similarity column 38121 (100.0%), 3798.71 column/sec. Elapsed time 10.04 sec\n",
      "EvaluatorHoldout: Processed 35595 (100.0%) in 24.29 sec. Users per second: 1465\n"
     ]
    },
    {
     "name": "stderr",
     "output_type": "stream",
     "text": [
      "[I 2024-11-19 03:08:25,791] Trial 588 finished with value: 0.00028209999175022335 and parameters: {'similarity': 'cosine', 'topK': 0, 'shrink': 805, 'feature_weighting': 'TF-IDF'}. Best is trial 388 with value: 0.05027369636809012.\n"
     ]
    },
    {
     "name": "stdout",
     "output_type": "stream",
     "text": [
      "Similarity column 38121 (100.0%), 2843.02 column/sec. Elapsed time 13.41 sec\n",
      "EvaluatorHoldout: Processed 35595 (100.0%) in 43.87 sec. Users per second: 811\n"
     ]
    },
    {
     "name": "stderr",
     "output_type": "stream",
     "text": [
      "[I 2024-11-19 03:09:23,960] Trial 589 finished with value: 0.04481447924958075 and parameters: {'similarity': 'cosine', 'topK': 355, 'shrink': 348, 'feature_weighting': 'TF-IDF'}. Best is trial 388 with value: 0.05027369636809012.\n"
     ]
    },
    {
     "name": "stdout",
     "output_type": "stream",
     "text": [
      "Similarity column 38121 (100.0%), 2961.30 column/sec. Elapsed time 12.87 sec\n",
      "EvaluatorHoldout: Processed 35595 (100.0%) in 31.29 sec. Users per second: 1137\n"
     ]
    },
    {
     "name": "stderr",
     "output_type": "stream",
     "text": [
      "[I 2024-11-19 03:10:08,549] Trial 590 finished with value: 0.04950422187885134 and parameters: {'similarity': 'cosine', 'topK': 15, 'shrink': 492, 'feature_weighting': 'TF-IDF'}. Best is trial 388 with value: 0.05027369636809012.\n"
     ]
    },
    {
     "name": "stdout",
     "output_type": "stream",
     "text": [
      "Similarity column 38121 (100.0%), 2939.75 column/sec. Elapsed time 12.97 sec\n",
      "EvaluatorHoldout: Processed 35595 (100.0%) in 32.55 sec. Users per second: 1094\n"
     ]
    },
    {
     "name": "stderr",
     "output_type": "stream",
     "text": [
      "[I 2024-11-19 03:10:54,499] Trial 591 finished with value: 0.04822362802872529 and parameters: {'similarity': 'cosine', 'topK': 30, 'shrink': 254, 'feature_weighting': 'TF-IDF'}. Best is trial 388 with value: 0.05027369636809012.\n"
     ]
    },
    {
     "name": "stdout",
     "output_type": "stream",
     "text": [
      "Similarity column 38121 (100.0%), 2970.98 column/sec. Elapsed time 12.83 sec\n",
      "EvaluatorHoldout: Processed 35595 (100.0%) in 32.41 sec. Users per second: 1098\n"
     ]
    },
    {
     "name": "stderr",
     "output_type": "stream",
     "text": [
      "[I 2024-11-19 03:11:40,191] Trial 592 finished with value: 0.03911443108872375 and parameters: {'similarity': 'asymmetric', 'topK': 13, 'shrink': 128, 'feature_weighting': 'TF-IDF', 'asymmetric_alpha': 0.8655923467192206}. Best is trial 388 with value: 0.05027369636809012.\n"
     ]
    },
    {
     "name": "stdout",
     "output_type": "stream",
     "text": [
      "Similarity column 38121 (100.0%), 2991.98 column/sec. Elapsed time 12.74 sec\n",
      "EvaluatorHoldout: Processed 35595 (100.0%) in 33.95 sec. Users per second: 1048\n"
     ]
    },
    {
     "name": "stderr",
     "output_type": "stream",
     "text": [
      "[I 2024-11-19 03:12:27,542] Trial 593 finished with value: 0.04316793423367208 and parameters: {'similarity': 'dice', 'topK': 31, 'shrink': 278, 'feature_weighting': 'TF-IDF'}. Best is trial 388 with value: 0.05027369636809012.\n"
     ]
    },
    {
     "name": "stdout",
     "output_type": "stream",
     "text": [
      "Similarity column 38121 (100.0%), 2971.88 column/sec. Elapsed time 12.83 sec\n",
      "EvaluatorHoldout: Processed 35595 (100.0%) in 31.36 sec. Users per second: 1135\n"
     ]
    },
    {
     "name": "stderr",
     "output_type": "stream",
     "text": [
      "[I 2024-11-19 03:13:12,159] Trial 594 finished with value: 0.049351859655692554 and parameters: {'similarity': 'cosine', 'topK': 14, 'shrink': 866, 'feature_weighting': 'TF-IDF'}. Best is trial 388 with value: 0.05027369636809012.\n"
     ]
    },
    {
     "name": "stdout",
     "output_type": "stream",
     "text": [
      "Similarity column 38121 (100.0%), 2983.86 column/sec. Elapsed time 12.78 sec\n",
      "EvaluatorHoldout: Processed 35595 (100.0%) in 34.24 sec. Users per second: 1039\n"
     ]
    },
    {
     "name": "stderr",
     "output_type": "stream",
     "text": [
      "[I 2024-11-19 03:13:59,725] Trial 595 finished with value: 0.04240938066475178 and parameters: {'similarity': 'jaccard', 'topK': 38, 'shrink': 316, 'feature_weighting': 'none'}. Best is trial 388 with value: 0.05027369636809012.\n"
     ]
    },
    {
     "name": "stdout",
     "output_type": "stream",
     "text": [
      "Similarity column 38121 (100.0%), 3789.17 column/sec. Elapsed time 10.06 sec\n",
      "EvaluatorHoldout: Processed 35595 (100.0%) in 24.30 sec. Users per second: 1465\n"
     ]
    },
    {
     "name": "stderr",
     "output_type": "stream",
     "text": [
      "[I 2024-11-19 03:14:34,493] Trial 596 finished with value: 0.00028209999175022335 and parameters: {'similarity': 'cosine', 'topK': 0, 'shrink': 398, 'feature_weighting': 'TF-IDF'}. Best is trial 388 with value: 0.05027369636809012.\n"
     ]
    },
    {
     "name": "stdout",
     "output_type": "stream",
     "text": [
      "Similarity column 38121 (100.0%), 2945.63 column/sec. Elapsed time 12.94 sec\n",
      "EvaluatorHoldout: Processed 35595 (100.0%) in 31.73 sec. Users per second: 1122\n"
     ]
    },
    {
     "name": "stderr",
     "output_type": "stream",
     "text": [
      "[I 2024-11-19 03:15:19,616] Trial 597 finished with value: 0.043069676051343264 and parameters: {'similarity': 'cosine', 'topK': 24, 'shrink': 419, 'feature_weighting': 'BM25'}. Best is trial 388 with value: 0.05027369636809012.\n"
     ]
    },
    {
     "name": "stdout",
     "output_type": "stream",
     "text": [
      "Similarity column 38121 (100.0%), 2828.45 column/sec. Elapsed time 13.48 sec\n",
      "EvaluatorHoldout: Processed 35595 (100.0%) in 45.42 sec. Users per second: 784\n"
     ]
    },
    {
     "name": "stderr",
     "output_type": "stream",
     "text": [
      "[I 2024-11-19 03:16:19,497] Trial 598 finished with value: 0.04460478553925493 and parameters: {'similarity': 'cosine', 'topK': 418, 'shrink': 376, 'feature_weighting': 'TF-IDF'}. Best is trial 388 with value: 0.05027369636809012.\n"
     ]
    },
    {
     "name": "stdout",
     "output_type": "stream",
     "text": [
      "Similarity column 38121 (100.0%), 2946.60 column/sec. Elapsed time 12.94 sec\n",
      "EvaluatorHoldout: Processed 35595 (100.0%) in 33.89 sec. Users per second: 1050\n"
     ]
    },
    {
     "name": "stderr",
     "output_type": "stream",
     "text": [
      "[I 2024-11-19 03:17:06,796] Trial 599 finished with value: 0.047653878398293034 and parameters: {'similarity': 'cosine', 'topK': 48, 'shrink': 340, 'feature_weighting': 'TF-IDF'}. Best is trial 388 with value: 0.05027369636809012.\n"
     ]
    }
   ],
   "source": [
    "if config['tune_parameters']:\n",
    "    \n",
    "    optuna_study = optuna.create_study(direction='maximize', study_name=f'hyperparameters_tuning_{config[\"model\"]}',\n",
    "                                storage=f'sqlite:///{config[\"database_path\"]}', load_if_exists=True)\n",
    "\n",
    "    optuna_study.optimize(objective_function_ItemKNNCF, n_trials=200)"
   ]
  },
  {
   "cell_type": "markdown",
   "id": "54d13244",
   "metadata": {
    "papermill": {
     "duration": 0.043782,
     "end_time": "2024-11-19T03:17:06.890606",
     "exception": false,
     "start_time": "2024-11-19T03:17:06.846824",
     "status": "completed"
    },
    "tags": []
   },
   "source": [
    "## Some optuna visualizations on recommender parameters"
   ]
  },
  {
   "cell_type": "code",
   "execution_count": 16,
   "id": "99f9bf9d",
   "metadata": {
    "execution": {
     "iopub.execute_input": "2024-11-19T03:17:06.980081Z",
     "iopub.status.busy": "2024-11-19T03:17:06.979520Z",
     "iopub.status.idle": "2024-11-19T03:17:09.735878Z",
     "shell.execute_reply": "2024-11-19T03:17:09.734537Z"
    },
    "papermill": {
     "duration": 2.804507,
     "end_time": "2024-11-19T03:17:09.738712",
     "exception": false,
     "start_time": "2024-11-19T03:17:06.934205",
     "status": "completed"
    },
    "tags": []
   },
   "outputs": [
    {
     "data": {
      "text/html": [
       "        <script type=\"text/javascript\">\n",
       "        window.PlotlyConfig = {MathJaxConfig: 'local'};\n",
       "        if (window.MathJax && window.MathJax.Hub && window.MathJax.Hub.Config) {window.MathJax.Hub.Config({SVG: {font: \"STIX-Web\"}});}\n",
       "        if (typeof require !== 'undefined') {\n",
       "        require.undef(\"plotly\");\n",
       "        requirejs.config({\n",
       "            paths: {\n",
       "                'plotly': ['https://cdn.plot.ly/plotly-2.32.0.min']\n",
       "            }\n",
       "        });\n",
       "        require(['plotly'], function(Plotly) {\n",
       "            window._Plotly = Plotly;\n",
       "        });\n",
       "        }\n",
       "        </script>\n",
       "        "
      ]
     },
     "metadata": {},
     "output_type": "display_data"
    },
    {
     "data": {
      "text/html": [
       "<div>                            <div id=\"78b4cda8-8f14-421b-879c-ead657b499d1\" class=\"plotly-graph-div\" style=\"height:525px; width:3000px;\"></div>            <script type=\"text/javascript\">                require([\"plotly\"], function(Plotly) {                    window.PLOTLYENV=window.PLOTLYENV || {};                                    if (document.getElementById(\"78b4cda8-8f14-421b-879c-ead657b499d1\")) {                    Plotly.newPlot(                        \"78b4cda8-8f14-421b-879c-ead657b499d1\",                        [{\"marker\":{\"color\":[2,3,7,35,39,49,78,97,128,160,199,249,277,306,335,369,397,424,453,480,511,535,563,592],\"colorbar\":{\"title\":{\"text\":\"Trial\"},\"x\":1.0,\"xpad\":40},\"colorscale\":[[0.0,\"rgb(247,251,255)\"],[0.125,\"rgb(222,235,247)\"],[0.25,\"rgb(198,219,239)\"],[0.375,\"rgb(158,202,225)\"],[0.5,\"rgb(107,174,214)\"],[0.625,\"rgb(66,146,198)\"],[0.75,\"rgb(33,113,181)\"],[0.875,\"rgb(8,81,156)\"],[1.0,\"rgb(8,48,107)\"]],\"line\":{\"color\":\"Grey\",\"width\":0.5},\"showscale\":true},\"mode\":\"markers\",\"name\":\"Feasible Trial\",\"showlegend\":false,\"x\":[0.7191418693824498,1.4910434152658711,1.5846022966325468,0.012635744304884788,1.996733777536354,0.005100603760291422,0.7343048266037115,1.1114106433854172,0.4284210498398733,1.9468879395865366,1.2559896952128466,0.32236043097524303,0.7368488854786798,1.6216612744076107,0.9633293491534307,1.3409404229581403,0.37571053596827864,1.7804198585633895,0.9971200759670609,0.5631786828819325,0.22825560149612345,1.8065286949536488,1.192926468115317,0.8655923467192206],\"y\":[0.03659388580079572,0.03654694011331058,0.03454623442297158,0.04092732838792521,0.011591760925937264,0.041887212177560584,0.04178191938853411,0.034041091690690126,0.04705453436700623,0.020721504268701677,0.032028948911586114,0.0487287150192735,0.04286203475162412,0.01991731605785529,0.039861042548778335,0.02150385955758865,0.047252773151212145,0.014529632305233074,0.038064981482594996,0.04841987906273442,0.04451252516739061,0.01577179891950238,0.00028209999175022335,0.03911443108872375],\"type\":\"scatter\",\"xaxis\":\"x\",\"yaxis\":\"y\"},{\"marker\":{\"color\":[0,1,2,3,4,5,6,7,8,9,10,11,12,13,14,15,16,17,18,19,20,21,22,23,24,25,26,27,28,29,30,31,32,33,34,35,36,37,38,39,40,41,42,43,44,45,46,47,48,49,50,51,52,53,54,55,56,57,58,59,60,61,62,63,64,65,66,67,68,69,70,71,72,73,74,75,76,77,78,79,80,81,82,83,84,85,86,87,88,89,90,91,92,93,94,95,96,97,98,99,100,101,102,103,104,105,106,107,108,109,110,111,112,113,114,115,116,117,118,119,120,121,122,123,124,125,126,127,128,129,130,131,132,133,134,135,136,137,138,139,140,141,142,143,144,145,146,147,148,149,150,151,152,153,154,155,156,157,158,159,160,161,162,163,164,165,166,167,168,169,170,171,172,173,174,175,176,177,178,179,180,181,182,183,184,185,186,187,188,189,190,191,192,193,194,195,196,197,198,199,200,201,202,203,204,205,206,207,208,209,210,211,212,213,214,215,216,217,218,219,220,221,222,223,224,225,226,227,228,229,230,231,232,233,234,235,236,237,238,239,240,241,242,243,244,245,246,247,248,249,250,251,252,253,254,255,256,257,258,259,260,261,262,263,264,265,266,267,268,269,270,271,272,273,274,275,276,277,278,279,280,281,282,283,284,285,286,287,288,289,290,291,292,293,294,295,296,297,298,299,300,301,302,303,304,305,306,307,308,309,310,311,312,313,314,315,316,317,318,319,320,321,322,323,324,325,326,327,328,329,330,331,332,333,334,335,336,337,338,339,340,341,342,343,344,345,346,347,348,349,350,351,352,353,354,355,356,357,358,359,360,361,362,363,364,365,366,367,368,369,370,371,372,373,374,375,376,377,378,379,380,381,382,383,384,385,386,387,388,389,390,391,392,393,394,395,396,397,398,399,400,401,402,403,404,405,406,407,408,409,410,411,412,413,414,415,416,417,418,419,420,421,422,423,424,425,426,427,428,429,430,431,432,433,434,435,436,437,438,439,440,441,442,443,444,445,446,447,448,449,450,451,452,453,454,455,456,457,458,459,460,461,462,463,464,465,466,467,468,469,470,471,472,473,474,475,476,477,478,479,480,481,482,483,484,485,486,487,488,489,490,491,492,493,494,495,496,497,498,499,500,501,502,503,504,505,506,507,508,509,510,511,512,513,514,515,516,517,518,519,520,521,522,523,524,525,526,527,528,529,530,531,532,533,534,535,536,537,538,539,540,541,542,543,544,545,546,547,548,549,550,551,552,553,554,555,556,557,558,559,560,561,562,563,564,565,566,567,568,569,570,571,572,573,574,575,576,577,578,579,580,581,582,583,584,585,586,587,588,589,590,591,592,593,594,595,596,597,598,599],\"colorbar\":{\"title\":{\"text\":\"Trial\"},\"x\":1.0,\"xpad\":40},\"colorscale\":[[0.0,\"rgb(247,251,255)\"],[0.125,\"rgb(222,235,247)\"],[0.25,\"rgb(198,219,239)\"],[0.375,\"rgb(158,202,225)\"],[0.5,\"rgb(107,174,214)\"],[0.625,\"rgb(66,146,198)\"],[0.75,\"rgb(33,113,181)\"],[0.875,\"rgb(8,81,156)\"],[1.0,\"rgb(8,48,107)\"]],\"line\":{\"color\":\"Grey\",\"width\":0.5},\"showscale\":false},\"mode\":\"markers\",\"name\":\"Feasible Trial\",\"showlegend\":false,\"x\":[\"BM25\",\"none\",\"none\",\"BM25\",\"BM25\",\"TF-IDF\",\"none\",\"none\",\"TF-IDF\",\"BM25\",\"TF-IDF\",\"TF-IDF\",\"TF-IDF\",\"TF-IDF\",\"TF-IDF\",\"TF-IDF\",\"TF-IDF\",\"TF-IDF\",\"TF-IDF\",\"TF-IDF\",\"TF-IDF\",\"TF-IDF\",\"TF-IDF\",\"TF-IDF\",\"TF-IDF\",\"TF-IDF\",\"TF-IDF\",\"TF-IDF\",\"none\",\"BM25\",\"BM25\",\"TF-IDF\",\"TF-IDF\",\"TF-IDF\",\"none\",\"TF-IDF\",\"TF-IDF\",\"BM25\",\"none\",\"TF-IDF\",\"TF-IDF\",\"TF-IDF\",\"TF-IDF\",\"TF-IDF\",\"TF-IDF\",\"TF-IDF\",\"none\",\"BM25\",\"TF-IDF\",\"TF-IDF\",\"TF-IDF\",\"TF-IDF\",\"TF-IDF\",\"TF-IDF\",\"TF-IDF\",\"TF-IDF\",\"TF-IDF\",\"TF-IDF\",\"TF-IDF\",\"TF-IDF\",\"none\",\"TF-IDF\",\"TF-IDF\",\"TF-IDF\",\"TF-IDF\",\"TF-IDF\",\"TF-IDF\",\"BM25\",\"TF-IDF\",\"TF-IDF\",\"TF-IDF\",\"TF-IDF\",\"TF-IDF\",\"TF-IDF\",\"TF-IDF\",\"TF-IDF\",\"TF-IDF\",\"TF-IDF\",\"BM25\",\"TF-IDF\",\"none\",\"TF-IDF\",\"TF-IDF\",\"TF-IDF\",\"TF-IDF\",\"TF-IDF\",\"TF-IDF\",\"TF-IDF\",\"TF-IDF\",\"TF-IDF\",\"TF-IDF\",\"TF-IDF\",\"TF-IDF\",\"TF-IDF\",\"TF-IDF\",\"TF-IDF\",\"TF-IDF\",\"TF-IDF\",\"none\",\"BM25\",\"TF-IDF\",\"TF-IDF\",\"TF-IDF\",\"TF-IDF\",\"TF-IDF\",\"TF-IDF\",\"TF-IDF\",\"TF-IDF\",\"TF-IDF\",\"TF-IDF\",\"TF-IDF\",\"TF-IDF\",\"TF-IDF\",\"TF-IDF\",\"TF-IDF\",\"TF-IDF\",\"TF-IDF\",\"TF-IDF\",\"TF-IDF\",\"none\",\"BM25\",\"TF-IDF\",\"TF-IDF\",\"TF-IDF\",\"TF-IDF\",\"TF-IDF\",\"TF-IDF\",\"TF-IDF\",\"TF-IDF\",\"TF-IDF\",\"TF-IDF\",\"TF-IDF\",\"TF-IDF\",\"TF-IDF\",\"TF-IDF\",\"TF-IDF\",\"TF-IDF\",\"TF-IDF\",\"TF-IDF\",\"TF-IDF\",\"TF-IDF\",\"TF-IDF\",\"TF-IDF\",\"TF-IDF\",\"TF-IDF\",\"TF-IDF\",\"TF-IDF\",\"none\",\"TF-IDF\",\"BM25\",\"TF-IDF\",\"TF-IDF\",\"TF-IDF\",\"TF-IDF\",\"TF-IDF\",\"TF-IDF\",\"TF-IDF\",\"TF-IDF\",\"TF-IDF\",\"TF-IDF\",\"TF-IDF\",\"TF-IDF\",\"TF-IDF\",\"TF-IDF\",\"TF-IDF\",\"TF-IDF\",\"TF-IDF\",\"TF-IDF\",\"TF-IDF\",\"TF-IDF\",\"TF-IDF\",\"TF-IDF\",\"TF-IDF\",\"TF-IDF\",\"TF-IDF\",\"TF-IDF\",\"TF-IDF\",\"TF-IDF\",\"none\",\"TF-IDF\",\"TF-IDF\",\"TF-IDF\",\"TF-IDF\",\"TF-IDF\",\"TF-IDF\",\"BM25\",\"TF-IDF\",\"TF-IDF\",\"TF-IDF\",\"TF-IDF\",\"TF-IDF\",\"TF-IDF\",\"TF-IDF\",\"TF-IDF\",\"TF-IDF\",\"TF-IDF\",\"TF-IDF\",\"TF-IDF\",\"TF-IDF\",\"TF-IDF\",\"TF-IDF\",\"TF-IDF\",\"TF-IDF\",\"TF-IDF\",\"TF-IDF\",\"TF-IDF\",\"TF-IDF\",\"TF-IDF\",\"TF-IDF\",\"TF-IDF\",\"TF-IDF\",\"TF-IDF\",\"TF-IDF\",\"TF-IDF\",\"TF-IDF\",\"TF-IDF\",\"TF-IDF\",\"TF-IDF\",\"none\",\"TF-IDF\",\"BM25\",\"TF-IDF\",\"TF-IDF\",\"TF-IDF\",\"TF-IDF\",\"TF-IDF\",\"TF-IDF\",\"TF-IDF\",\"TF-IDF\",\"TF-IDF\",\"TF-IDF\",\"TF-IDF\",\"TF-IDF\",\"TF-IDF\",\"TF-IDF\",\"TF-IDF\",\"TF-IDF\",\"TF-IDF\",\"TF-IDF\",\"TF-IDF\",\"TF-IDF\",\"TF-IDF\",\"TF-IDF\",\"TF-IDF\",\"TF-IDF\",\"TF-IDF\",\"TF-IDF\",\"TF-IDF\",\"TF-IDF\",\"TF-IDF\",\"TF-IDF\",\"TF-IDF\",\"TF-IDF\",\"TF-IDF\",\"TF-IDF\",\"none\",\"TF-IDF\",\"BM25\",\"TF-IDF\",\"TF-IDF\",\"TF-IDF\",\"TF-IDF\",\"TF-IDF\",\"TF-IDF\",\"TF-IDF\",\"TF-IDF\",\"TF-IDF\",\"TF-IDF\",\"TF-IDF\",\"TF-IDF\",\"TF-IDF\",\"TF-IDF\",\"TF-IDF\",\"TF-IDF\",\"TF-IDF\",\"TF-IDF\",\"TF-IDF\",\"TF-IDF\",\"none\",\"BM25\",\"TF-IDF\",\"TF-IDF\",\"TF-IDF\",\"TF-IDF\",\"TF-IDF\",\"TF-IDF\",\"TF-IDF\",\"TF-IDF\",\"TF-IDF\",\"TF-IDF\",\"TF-IDF\",\"TF-IDF\",\"TF-IDF\",\"TF-IDF\",\"TF-IDF\",\"TF-IDF\",\"TF-IDF\",\"TF-IDF\",\"TF-IDF\",\"TF-IDF\",\"none\",\"TF-IDF\",\"BM25\",\"TF-IDF\",\"TF-IDF\",\"TF-IDF\",\"TF-IDF\",\"TF-IDF\",\"TF-IDF\",\"TF-IDF\",\"TF-IDF\",\"TF-IDF\",\"TF-IDF\",\"TF-IDF\",\"TF-IDF\",\"TF-IDF\",\"TF-IDF\",\"TF-IDF\",\"TF-IDF\",\"TF-IDF\",\"TF-IDF\",\"TF-IDF\",\"TF-IDF\",\"TF-IDF\",\"none\",\"BM25\",\"TF-IDF\",\"TF-IDF\",\"TF-IDF\",\"TF-IDF\",\"TF-IDF\",\"TF-IDF\",\"TF-IDF\",\"TF-IDF\",\"TF-IDF\",\"TF-IDF\",\"TF-IDF\",\"TF-IDF\",\"TF-IDF\",\"TF-IDF\",\"TF-IDF\",\"TF-IDF\",\"TF-IDF\",\"TF-IDF\",\"TF-IDF\",\"TF-IDF\",\"TF-IDF\",\"TF-IDF\",\"TF-IDF\",\"BM25\",\"none\",\"TF-IDF\",\"TF-IDF\",\"TF-IDF\",\"TF-IDF\",\"TF-IDF\",\"TF-IDF\",\"TF-IDF\",\"TF-IDF\",\"TF-IDF\",\"TF-IDF\",\"TF-IDF\",\"TF-IDF\",\"TF-IDF\",\"TF-IDF\",\"TF-IDF\",\"TF-IDF\",\"TF-IDF\",\"TF-IDF\",\"TF-IDF\",\"TF-IDF\",\"none\",\"TF-IDF\",\"TF-IDF\",\"BM25\",\"TF-IDF\",\"TF-IDF\",\"TF-IDF\",\"TF-IDF\",\"TF-IDF\",\"TF-IDF\",\"TF-IDF\",\"TF-IDF\",\"TF-IDF\",\"TF-IDF\",\"TF-IDF\",\"TF-IDF\",\"TF-IDF\",\"TF-IDF\",\"TF-IDF\",\"TF-IDF\",\"TF-IDF\",\"TF-IDF\",\"TF-IDF\",\"TF-IDF\",\"TF-IDF\",\"none\",\"TF-IDF\",\"TF-IDF\",\"BM25\",\"TF-IDF\",\"TF-IDF\",\"TF-IDF\",\"TF-IDF\",\"TF-IDF\",\"TF-IDF\",\"TF-IDF\",\"TF-IDF\",\"TF-IDF\",\"TF-IDF\",\"TF-IDF\",\"TF-IDF\",\"TF-IDF\",\"TF-IDF\",\"TF-IDF\",\"TF-IDF\",\"TF-IDF\",\"TF-IDF\",\"TF-IDF\",\"TF-IDF\",\"none\",\"BM25\",\"TF-IDF\",\"TF-IDF\",\"TF-IDF\",\"TF-IDF\",\"TF-IDF\",\"TF-IDF\",\"TF-IDF\",\"TF-IDF\",\"TF-IDF\",\"TF-IDF\",\"TF-IDF\",\"TF-IDF\",\"TF-IDF\",\"TF-IDF\",\"TF-IDF\",\"TF-IDF\",\"TF-IDF\",\"TF-IDF\",\"TF-IDF\",\"none\",\"TF-IDF\",\"BM25\",\"TF-IDF\",\"TF-IDF\",\"TF-IDF\",\"TF-IDF\",\"TF-IDF\",\"TF-IDF\",\"TF-IDF\",\"TF-IDF\",\"TF-IDF\",\"TF-IDF\",\"TF-IDF\",\"TF-IDF\",\"TF-IDF\",\"TF-IDF\",\"TF-IDF\",\"TF-IDF\",\"TF-IDF\",\"TF-IDF\",\"TF-IDF\",\"TF-IDF\",\"none\",\"BM25\",\"TF-IDF\",\"TF-IDF\",\"TF-IDF\",\"TF-IDF\",\"TF-IDF\",\"TF-IDF\",\"TF-IDF\",\"TF-IDF\",\"TF-IDF\",\"TF-IDF\",\"TF-IDF\",\"TF-IDF\",\"TF-IDF\",\"TF-IDF\",\"TF-IDF\",\"TF-IDF\",\"TF-IDF\",\"TF-IDF\",\"TF-IDF\",\"none\",\"TF-IDF\",\"BM25\",\"TF-IDF\",\"TF-IDF\",\"TF-IDF\",\"TF-IDF\",\"TF-IDF\",\"TF-IDF\",\"TF-IDF\",\"TF-IDF\",\"TF-IDF\",\"TF-IDF\",\"TF-IDF\",\"TF-IDF\",\"TF-IDF\",\"TF-IDF\",\"TF-IDF\",\"TF-IDF\",\"TF-IDF\",\"TF-IDF\",\"TF-IDF\",\"none\",\"TF-IDF\",\"BM25\",\"TF-IDF\",\"TF-IDF\",\"TF-IDF\",\"TF-IDF\",\"TF-IDF\",\"TF-IDF\",\"TF-IDF\",\"TF-IDF\",\"TF-IDF\",\"TF-IDF\",\"TF-IDF\",\"TF-IDF\",\"TF-IDF\",\"TF-IDF\",\"TF-IDF\",\"TF-IDF\",\"TF-IDF\",\"TF-IDF\",\"TF-IDF\",\"none\",\"TF-IDF\",\"BM25\",\"TF-IDF\",\"TF-IDF\",\"TF-IDF\",\"TF-IDF\",\"TF-IDF\",\"TF-IDF\",\"TF-IDF\",\"TF-IDF\",\"TF-IDF\",\"TF-IDF\",\"TF-IDF\",\"TF-IDF\",\"TF-IDF\",\"TF-IDF\",\"TF-IDF\",\"TF-IDF\",\"TF-IDF\",\"TF-IDF\",\"TF-IDF\",\"TF-IDF\",\"BM25\",\"none\",\"TF-IDF\",\"TF-IDF\",\"TF-IDF\",\"TF-IDF\",\"TF-IDF\",\"TF-IDF\",\"TF-IDF\",\"TF-IDF\",\"TF-IDF\",\"TF-IDF\",\"TF-IDF\",\"TF-IDF\",\"TF-IDF\",\"TF-IDF\",\"TF-IDF\",\"TF-IDF\",\"TF-IDF\",\"TF-IDF\",\"TF-IDF\",\"TF-IDF\",\"none\",\"TF-IDF\",\"TF-IDF\",\"TF-IDF\",\"BM25\",\"TF-IDF\",\"TF-IDF\",\"TF-IDF\",\"TF-IDF\",\"TF-IDF\",\"TF-IDF\",\"TF-IDF\",\"TF-IDF\",\"TF-IDF\",\"TF-IDF\",\"TF-IDF\",\"TF-IDF\",\"TF-IDF\",\"TF-IDF\",\"TF-IDF\",\"TF-IDF\",\"none\",\"TF-IDF\",\"BM25\",\"TF-IDF\",\"TF-IDF\"],\"y\":[0.03693410769748605,0.02950565890072772,0.03659388580079572,0.03654694011331058,0.03780927185688956,0.0394110428832288,0.024006979979799066,0.03454623442297158,0.03826173976637384,0.036433943816791194,0.041522422669492146,0.04131477022142686,0.04362394620253716,0.043617225979213074,0.04339865261082951,0.043702796228289695,0.04360893160935133,0.0432735570137575,0.043445371986879006,0.043007080314916686,0.016478841553009393,0.04360525822915029,0.04371697358064655,0.04376835296556982,0.043749756408625315,0.04333191637848008,0.0436234556752871,0.04380381028189539,0.03640595812234979,0.01400613716479738,0.03822558567838665,0.04387137483639633,0.04385864230975724,0.04390049654735531,0.03476588918097434,0.04092732838792521,0.044148636445727155,0.03706749431991632,0.03209564835439163,0.011591760925937264,0.04357808078983646,0.04379978461394221,0.04385834576373801,0.04407368276710715,0.02664175345654471,0.04409705304606093,0.03395454150194877,0.041960781231533836,0.043791258358471294,0.041887212177560584,0.044148536110607775,0.04427531956735329,0.04416902788647253,0.04425917118731959,0.04423339732484115,0.04454130908344809,0.034599044140762536,0.0351619341935386,0.04498923069719356,0.04564349259861089,0.026123542632391486,0.04501886188759169,0.045815864989061414,0.04582322401264476,0.04585618744383831,0.04589327910777384,0.046648907350549156,0.04147025286679578,0.047004881860969336,0.040136277388698786,0.03795062174328781,0.047033718174255966,0.04706022225343587,0.04662457385444997,0.04730033980160257,0.04710087246960237,0.03733892311431149,0.04712724834279667,0.04178191938853411,0.0470467204908823,0.03729530186377906,0.046471053318080775,0.04728495396847546,0.04843907986006404,0.04769853867472737,0.028051728328171495,0.049890490906291725,0.04603569477610609,0.047727137528231385,0.0478646300867101,0.04929765973908228,0.048944583798775025,0.04811644002077834,0.04928062283582542,0.036526392595712706,0.04619822652102311,0.0495917932561403,0.034041091690690126,0.037363637883864154,0.04376502518411324,0.038940388675954084,0.04990843528496086,0.04621956780089785,0.04537196792843485,0.04208870516413552,0.04815071003819207,0.045927074205622864,0.0491778763291599,0.049169851749285315,0.026130944019691776,0.04959505637718693,0.049204049302446054,0.04653824440297099,0.04923222228911028,0.049630018706923754,0.049163671105936585,0.04598442464497911,0.04659938639500214,0.03889954670822616,0.03753201470689754,0.041501527323481016,0.04994933299442155,0.04731299317498052,0.04958215774018373,0.0469154576284774,0.04958890471953923,0.038527291152447664,0.04628601640590519,0.04705453436700623,0.03853470703259859,0.04300299890523063,0.04934406919109634,0.047456965152496595,0.04936614291734233,0.046291718785185655,0.04691905074058289,0.04990779314019738,0.04750510482790124,0.04557724243417271,0.027839313306443386,0.045828794841435455,0.049178870761675396,0.04990601943825513,0.047479724502057466,0.047791412205653895,0.04639345190714603,0.04994261946010584,0.03555692011317694,0.04965573348316518,0.041714290173622895,0.04768739590231192,0.04937826005524956,0.04735551631337386,0.04955581085269061,0.049890490906291725,0.036165744698402495,0.04775906193352281,0.0461564882262297,0.04676283118950449,0.038704727121919094,0.020721504268701677,0.04266998218494037,0.049368361438313337,0.049891370510837627,0.047042289023113325,0.04769802362111488,0.03691360142877094,0.049847380250033324,0.04706535829670938,0.047753553535473406,0.046548871006939496,0.049369569919083554,0.04769689540844034,0.04211797626293863,0.04985111606097521,0.049833714606784874,0.04704128009774709,0.03216165771454326,0.03513438997362186,0.049599267107693364,0.042075960374315144,0.047679371322437436,0.047767542480773,0.04961234634791127,0.04704922775403017,0.04429842340082375,0.04235441820123484,0.04706412751924592,0.04647413026173918,0.047812290829145336,0.04783566556743799,0.04986886980291764,0.049604045289041235,0.04706217767342759,0.047862567642591385,0.04067031886500772,0.04984269348512744,0.046984877267850875,0.0476645573994904,0.032028948911586114,0.046223529923275414,0.04784513162852644,0.0496052058319212,0.047072919105365825,0.04982159969854696,0.03855078406321408,0.04959879664746728,0.037138225004848154,0.04989037384865253,0.04726728606880146,0.04983274470063162,0.04770897575680381,0.04949320731242169,0.047869821871716546,0.04699137229457346,0.04794841214099339,0.049839740288116004,0.04983492308755505,0.03564598202440494,0.04654776174645384,0.03401599899218879,0.047679371322437436,0.049876711549908144,0.0498932412033952,0.04781848930984878,0.043576516676809916,0.04960045329177033,0.0469845718031542,0.04783291638516917,0.04699631212694691,0.04960773316209277,0.049891370510837627,0.049839740288116004,0.042753741942530905,0.04778610224817374,0.04771773501271849,0.047227781902664294,0.04790619446729666,0.049922257005061546,0.047126517011260284,0.03752938815644112,0.04798966994204884,0.04958462152477983,0.04781723735052673,0.049841190688007284,0.04720709837523838,0.04794431623845675,0.04959987246291307,0.046775688577625436,0.0487287150192735,0.03921865363647783,0.04654642171519377,0.04991914550152862,0.04716087510061216,0.03869163450368519,0.03726155358898585,0.046845421485537664,0.04442570853316567,0.047282264987277965,0.046554255658341676,0.04781072448644982,0.0497992662158258,0.03184703799579367,0.04713369766129812,0.04617743262496576,0.04984070350526126,0.048027089367374085,0.04667624644088867,0.047160021137263454,0.04984681168435722,0.04793105305052016,0.04699879374889738,0.035521332361196284,0.04793104078733903,0.04454054319203769,0.04985138027678925,0.046743104190215726,0.04286203475162412,0.03732658969848043,0.04774713877684623,0.04992362602202267,0.036958753347289916,0.04665704118422019,0.0478389844302174,0.0479255413079667,0.04616927872427092,0.04700468565006971,0.047823019997902276,0.048008279877009404,0.02786422094239185,0.04937769817858145,0.04656114310686431,0.04961626499173696,0.04711250353959838,0.047818091313875516,0.047909463162516375,0.050162974334274815,0.04714728861062439,0.04783431215816197,0.04353304927346051,0.041301690981208984,0.04646627290706358,0.042093668408037015,0.050059829831635996,0.05017742928046168,0.04675033277814398,0.01991731605785529,0.04188282864768165,0.04728393389476257,0.044369952307371646,0.04048520279957126,0.04992678211894203,0.0467714611245989,0.04600632891635682,0.047480200536456595,0.050232338231915176,0.04725691030263145,0.047917116502449786,0.027957140181538873,0.0480567762995051,0.04711755262576847,0.049686207488565406,0.048049530989057065,0.04653595118807746,0.04169842719126168,0.04200254070818617,0.04806544302414315,0.0499307397819809,0.046850165107011156,0.04264243462051979,0.047939016314488304,0.03830173891909947,0.04300625756693852,0.04803477169300822,0.04992604967257115,0.039861042548778335,0.03829865194192891,0.0459246204545387,0.04782007237506429,0.03867653964240434,0.046904817646493076,0.04482561198848429,0.050234773030810226,0.0499758002840579,0.04791684671246223,0.047185257649436416,0.05023720114069726,0.04792758479989635,0.0279084743041758,0.04248813369988957,0.03890101494547179,0.048208082774242086,0.0502402490986546,0.04678151804805659,0.050244874547654264,0.04619565013812629,0.04731299763431907,0.048155151539473424,0.04814683821742212,0.035079569094106415,0.04999021844070141,0.04702152188308767,0.050186830681139945,0.047824749106458266,0.04670318084624698,0.04986284189191714,0.043199344700185785,0.0452460807987548,0.04732027861947637,0.02150385955758865,0.03808101169015483,0.039461509218566324,0.05024410977107824,0.04421671939834431,0.040711889934602265,0.046260912559056684,0.04732151051177439,0.047946819042265956,0.028006635495888783,0.047983650949725724,0.05026688472832435,0.047252597007336285,0.043308226141979135,0.043912482134772904,0.04999271232583328,0.050256474402279865,0.04784084062992422,0.04664311021032273,0.05027369636809012,0.04706450656302998,0.03648499432549027,0.04733004903042649,0.04822117204797194,0.04315358408194302,0.05024410977107824,0.050242880108449496,0.04075289020885151,0.047252773151212145,0.04293838531807183,0.041376904416304566,0.04895781019716825,0.034788033141803586,0.04185713059396017,0.04878155706726952,0.00028209999175022335,0.048597933765441303,0.0487910521140591,0.00028209999175022335,0.04882828759166541,0.00028209999175022335,0.028506588672833684,0.04881006227466208,0.04885276490143535,0.0487750408586884,0.041791421124331526,0.04860345442667228,0.00028209999175022335,0.00028209999175022335,0.04874261812230436,0.041512108219228315,0.00028209999175022335,0.04298627081117441,0.04499553174268527,0.00028209999175022335,0.014529632305233074,0.04871506386887579,0.00028209999175022335,0.04872931145581623,0.04864581368437048,0.00028209999175022335,0.04885928556935519,0.04874426584793011,0.00028209999175022335,0.048823106955005774,0.04883078482130113,0.04877147227294537,0.040976274088788144,0.00028209999175022335,0.04885410047335713,0.048751817737909375,0.00028209999175022335,0.04014466540467225,0.048799792417784864,0.00028209999175022335,0.04893435184627561,0.048665007792692436,0.00028209999175022335,0.04859417342813724,0.04882810698845047,0.04511204980189243,0.04509610766627008,0.00028209999175022335,0.00028209999175022335,0.038064981482594996,0.042910652691097624,0.00028209999175022335,0.04265200436123149,0.04880828188371183,0.04404566028312178,0.048800561653699226,0.04879377676996519,0.00028209999175022335,0.04893460937308202,0.04889354778292603,0.00028209999175022335,0.04321814527187332,0.04446097521276453,0.0490939259348427,0.04886683411483058,0.00028209999175022335,0.00028209999175022335,0.04903386979176919,0.00028209999175022335,0.04867334118176733,0.034494375659144934,0.04924621011957545,0.04930018149508038,0.048607454453428296,0.00028209999175022335,0.00028209999175022335,0.04841987906273442,0.04858919569138523,0.04267829104765305,0.00028209999175022335,0.039325401284734024,0.04087593451015122,0.048603843503968014,0.04293730281361824,0.04773155673281921,0.00028209999175022335,0.04929693286688461,0.04471223553334623,0.034200931109905894,0.04918416288180113,0.047654230686045435,0.00028209999175022335,0.04849309805862525,0.04948125294037464,0.04941583555742689,0.047599735338250355,0.00028209999175022335,0.048489839396917395,0.049406298146920054,0.042158245205651784,0.04827348566433931,0.047596452150179956,0.00028209999175022335,0.040494266405347965,0.04325721019315453,0.0412346370209819,0.04934878605653808,0.04451252516739061,0.04959732952505643,0.00028209999175022335,0.047590941522461065,0.048341058022682945,0.04940803394448374,0.04956472618545775,0.00028209999175022335,0.028335109264944706,0.04828541551002376,0.0495127269524639,0.04756424011754668,0.00028209999175022335,0.049441751003907033,0.04829822830475835,0.04760112999640838,0.00028209999175022335,0.04921266697435913,0.03858161035636673,0.04956969611836693,0.04905556893356988,0.04755193122807794,0.04958797494743398,0.04950411373988958,0.01577179891950238,0.00028209999175022335,0.047688533033664084,0.04961715017045649,0.04818482620842294,0.00028209999175022335,0.04919396896746053,0.04826015893082719,0.00028209999175022335,0.04765343692376816,0.04932080928077356,0.04831929867981105,0.04421155659903911,0.03876327377886464,0.048228187702480066,0.00028209999175022335,0.0493105873617864,0.04205334372359111,0.038777900409588735,0.04848251270353919,0.04982875582222217,0.04829151254077328,0.04398139340954174,0.04095023378082638,0.00028209999175022335,0.049566543365951704,0.04843801853746874,0.0491689520777156,0.00028209999175022335,0.04773450324082276,0.041523389231141586,0.04917590864598698,0.042786055425118166,0.04916852844054531,0.00028209999175022335,0.047877797398866065,0.00028209999175022335,0.048313802544942906,0.049451958430043595,0.03759886019304348,0.02829481245136515,0.04769446729855308,0.04915264985049877,0.00028209999175022335,0.04846619598347187,0.049175167280938806,0.0478032573239045,0.00028209999175022335,0.04511283464549178,0.04948785499122454,0.04819976945219049,0.031686913178905665,0.047631124622905384,0.00028209999175022335,0.04481447924958075,0.04950422187885134,0.04822362802872529,0.03911443108872375,0.04316793423367208,0.049351859655692554,0.04240938066475178,0.00028209999175022335,0.043069676051343264,0.04460478553925493,0.047653878398293034],\"type\":\"scatter\",\"xaxis\":\"x2\",\"yaxis\":\"y2\"},{\"marker\":{\"color\":[6,20,29,44,60,85,109,139,177,220,262,289,318,348,378,410,436,464,492,519,548,575],\"colorbar\":{\"title\":{\"text\":\"Trial\"},\"x\":1.0,\"xpad\":40},\"colorscale\":[[0.0,\"rgb(247,251,255)\"],[0.125,\"rgb(222,235,247)\"],[0.25,\"rgb(198,219,239)\"],[0.375,\"rgb(158,202,225)\"],[0.5,\"rgb(107,174,214)\"],[0.625,\"rgb(66,146,198)\"],[0.75,\"rgb(33,113,181)\"],[0.875,\"rgb(8,81,156)\"],[1.0,\"rgb(8,48,107)\"]],\"line\":{\"color\":\"Grey\",\"width\":0.5},\"showscale\":false},\"mode\":\"markers\",\"name\":\"Feasible Trial\",\"showlegend\":false,\"x\":[false,true,true,false,true,false,true,false,true,false,true,false,true,false,true,false,true,false,true,false,true,false],\"y\":[0.024006979979799066,0.016478841553009393,0.01400613716479738,0.02664175345654471,0.026123542632391486,0.028051728328171495,0.026130944019691776,0.027839313306443386,0.03216165771454326,0.03401599899218879,0.03184703799579367,0.02786422094239185,0.027957140181538873,0.0279084743041758,0.028006635495888783,0.028506588672833684,0.040976274088788144,0.00028209999175022335,0.034200931109905894,0.028335109264944706,0.03876327377886464,0.02829481245136515],\"type\":\"scatter\",\"xaxis\":\"x3\",\"yaxis\":\"y3\"},{\"marker\":{\"color\":[6,20,29,44,60,85,109,139,177,220,262,289,318,348,378,410,436,464,492,519,548,575],\"colorbar\":{\"title\":{\"text\":\"Trial\"},\"x\":1.0,\"xpad\":40},\"colorscale\":[[0.0,\"rgb(247,251,255)\"],[0.125,\"rgb(222,235,247)\"],[0.25,\"rgb(198,219,239)\"],[0.375,\"rgb(158,202,225)\"],[0.5,\"rgb(107,174,214)\"],[0.625,\"rgb(66,146,198)\"],[0.75,\"rgb(33,113,181)\"],[0.875,\"rgb(8,81,156)\"],[1.0,\"rgb(8,48,107)\"]],\"line\":{\"color\":\"Grey\",\"width\":0.5},\"showscale\":false},\"mode\":\"markers\",\"name\":\"Feasible Trial\",\"showlegend\":false,\"x\":[true,false,false,true,false,true,true,false,true,false,false,true,false,true,false,true,false,true,false,true,false,true],\"y\":[0.024006979979799066,0.016478841553009393,0.01400613716479738,0.02664175345654471,0.026123542632391486,0.028051728328171495,0.026130944019691776,0.027839313306443386,0.03216165771454326,0.03401599899218879,0.03184703799579367,0.02786422094239185,0.027957140181538873,0.0279084743041758,0.028006635495888783,0.028506588672833684,0.040976274088788144,0.00028209999175022335,0.034200931109905894,0.028335109264944706,0.03876327377886464,0.02829481245136515],\"type\":\"scatter\",\"xaxis\":\"x4\",\"yaxis\":\"y4\"},{\"marker\":{\"color\":[0,1,2,3,4,5,6,7,8,9,10,11,12,13,14,15,16,17,18,19,20,21,22,23,24,25,26,27,28,29,30,31,32,33,34,35,36,37,38,39,40,41,42,43,44,45,46,47,48,49,50,51,52,53,54,55,56,57,58,59,60,61,62,63,64,65,66,67,68,69,70,71,72,73,74,75,76,77,78,79,80,81,82,83,84,85,86,87,88,89,90,91,92,93,94,95,96,97,98,99,100,101,102,103,104,105,106,107,108,109,110,111,112,113,114,115,116,117,118,119,120,121,122,123,124,125,126,127,128,129,130,131,132,133,134,135,136,137,138,139,140,141,142,143,144,145,146,147,148,149,150,151,152,153,154,155,156,157,158,159,160,161,162,163,164,165,166,167,168,169,170,171,172,173,174,175,176,177,178,179,180,181,182,183,184,185,186,187,188,189,190,191,192,193,194,195,196,197,198,199,200,201,202,203,204,205,206,207,208,209,210,211,212,213,214,215,216,217,218,219,220,221,222,223,224,225,226,227,228,229,230,231,232,233,234,235,236,237,238,239,240,241,242,243,244,245,246,247,248,249,250,251,252,253,254,255,256,257,258,259,260,261,262,263,264,265,266,267,268,269,270,271,272,273,274,275,276,277,278,279,280,281,282,283,284,285,286,287,288,289,290,291,292,293,294,295,296,297,298,299,300,301,302,303,304,305,306,307,308,309,310,311,312,313,314,315,316,317,318,319,320,321,322,323,324,325,326,327,328,329,330,331,332,333,334,335,336,337,338,339,340,341,342,343,344,345,346,347,348,349,350,351,352,353,354,355,356,357,358,359,360,361,362,363,364,365,366,367,368,369,370,371,372,373,374,375,376,377,378,379,380,381,382,383,384,385,386,387,388,389,390,391,392,393,394,395,396,397,398,399,400,401,402,403,404,405,406,407,408,409,410,411,412,413,414,415,416,417,418,419,420,421,422,423,424,425,426,427,428,429,430,431,432,433,434,435,436,437,438,439,440,441,442,443,444,445,446,447,448,449,450,451,452,453,454,455,456,457,458,459,460,461,462,463,464,465,466,467,468,469,470,471,472,473,474,475,476,477,478,479,480,481,482,483,484,485,486,487,488,489,490,491,492,493,494,495,496,497,498,499,500,501,502,503,504,505,506,507,508,509,510,511,512,513,514,515,516,517,518,519,520,521,522,523,524,525,526,527,528,529,530,531,532,533,534,535,536,537,538,539,540,541,542,543,544,545,546,547,548,549,550,551,552,553,554,555,556,557,558,559,560,561,562,563,564,565,566,567,568,569,570,571,572,573,574,575,576,577,578,579,580,581,582,583,584,585,586,587,588,589,590,591,592,593,594,595,596,597,598,599],\"colorbar\":{\"title\":{\"text\":\"Trial\"},\"x\":1.0,\"xpad\":40},\"colorscale\":[[0.0,\"rgb(247,251,255)\"],[0.125,\"rgb(222,235,247)\"],[0.25,\"rgb(198,219,239)\"],[0.375,\"rgb(158,202,225)\"],[0.5,\"rgb(107,174,214)\"],[0.625,\"rgb(66,146,198)\"],[0.75,\"rgb(33,113,181)\"],[0.875,\"rgb(8,81,156)\"],[1.0,\"rgb(8,48,107)\"]],\"line\":{\"color\":\"Grey\",\"width\":0.5},\"showscale\":false},\"mode\":\"markers\",\"name\":\"Feasible Trial\",\"showlegend\":false,\"x\":[896,500,323,446,438,165,410,803,546,614,13,51,1,36,222,132,171,227,685,335,116,9,97,280,295,293,250,371,375,561,974,292,274,358,475,378,363,500,428,205,333,372,407,436,541,467,620,461,709,524,588,589,594,599,605,609,669,778,631,752,772,647,636,711,729,849,849,854,729,723,852,735,927,950,967,977,971,931,935,907,906,941,997,995,992,999,892,896,912,995,993,996,992,998,877,962,978,990,883,917,954,817,979,821,999,877,826,875,870,879,800,819,800,824,763,789,794,825,765,833,792,862,754,863,853,865,808,891,859,837,920,870,947,812,819,839,814,689,767,897,805,861,813,777,805,747,848,931,848,845,785,865,865,899,892,899,838,890,919,852,810,873,885,902,907,893,838,937,940,919,863,887,960,903,938,942,947,938,908,966,960,924,975,957,963,949,937,975,923,830,850,907,919,932,960,916,940,938,973,915,940,887,959,955,954,949,911,915,893,889,932,930,966,902,948,878,926,928,932,899,877,924,906,898,896,847,908,871,886,933,904,902,926,887,858,925,905,841,873,875,917,891,859,822,936,942,938,906,924,887,944,915,871,900,875,925,164,942,878,906,926,974,859,894,952,921,566,904,873,918,885,840,903,924,861,914,892,398,912,828,876,870,31,849,886,870,905,816,857,886,842,915,887,915,873,795,487,550,826,495,514,501,861,476,521,834,449,469,478,531,504,805,487,808,95,459,438,453,461,424,413,787,459,347,241,494,435,843,821,770,476,842,688,657,804,789,795,806,843,522,851,820,392,748,743,830,390,711,402,312,351,361,318,276,291,271,313,384,284,381,306,292,568,323,261,314,348,535,582,296,771,427,302,336,244,292,569,229,329,298,365,405,394,370,336,348,341,320,334,360,374,328,345,314,302,303,303,330,259,364,281,301,338,356,283,314,377,326,514,270,302,388,345,322,407,361,475,547,300,262,418,337,448,628,283,314,356,494,333,387,373,289,310,523,480,339,460,432,604,304,259,355,505,212,338,279,319,377,401,304,367,544,246,729,323,290,344,436,393,488,273,757,466,328,350,519,413,307,661,580,367,288,325,442,305,387,485,352,560,271,506,330,373,802,232,294,313,783,469,416,699,259,533,830,350,843,335,448,288,322,398,355,299,373,814,317,498,339,271,425,851,678,457,774,740,307,640,383,340,834,513,481,365,284,309,858,256,325,815,538,358,195,793,292,415,343,608,388,463,861,324,832,273,360,495,293,758,436,398,340,848,305,248,558,315,524,802,376,722,332,282,480,829,80,354,451,866,314,780,411,507,329,269,364,815,296,850,582,473,387,868,339,318,365,439,837,294,536,805,348,492,254,128,278,866,316,398,419,376,340],\"y\":[0.03693410769748605,0.02950565890072772,0.03659388580079572,0.03654694011331058,0.03780927185688956,0.0394110428832288,0.024006979979799066,0.03454623442297158,0.03826173976637384,0.036433943816791194,0.041522422669492146,0.04131477022142686,0.04362394620253716,0.043617225979213074,0.04339865261082951,0.043702796228289695,0.04360893160935133,0.0432735570137575,0.043445371986879006,0.043007080314916686,0.016478841553009393,0.04360525822915029,0.04371697358064655,0.04376835296556982,0.043749756408625315,0.04333191637848008,0.0436234556752871,0.04380381028189539,0.03640595812234979,0.01400613716479738,0.03822558567838665,0.04387137483639633,0.04385864230975724,0.04390049654735531,0.03476588918097434,0.04092732838792521,0.044148636445727155,0.03706749431991632,0.03209564835439163,0.011591760925937264,0.04357808078983646,0.04379978461394221,0.04385834576373801,0.04407368276710715,0.02664175345654471,0.04409705304606093,0.03395454150194877,0.041960781231533836,0.043791258358471294,0.041887212177560584,0.044148536110607775,0.04427531956735329,0.04416902788647253,0.04425917118731959,0.04423339732484115,0.04454130908344809,0.034599044140762536,0.0351619341935386,0.04498923069719356,0.04564349259861089,0.026123542632391486,0.04501886188759169,0.045815864989061414,0.04582322401264476,0.04585618744383831,0.04589327910777384,0.046648907350549156,0.04147025286679578,0.047004881860969336,0.040136277388698786,0.03795062174328781,0.047033718174255966,0.04706022225343587,0.04662457385444997,0.04730033980160257,0.04710087246960237,0.03733892311431149,0.04712724834279667,0.04178191938853411,0.0470467204908823,0.03729530186377906,0.046471053318080775,0.04728495396847546,0.04843907986006404,0.04769853867472737,0.028051728328171495,0.049890490906291725,0.04603569477610609,0.047727137528231385,0.0478646300867101,0.04929765973908228,0.048944583798775025,0.04811644002077834,0.04928062283582542,0.036526392595712706,0.04619822652102311,0.0495917932561403,0.034041091690690126,0.037363637883864154,0.04376502518411324,0.038940388675954084,0.04990843528496086,0.04621956780089785,0.04537196792843485,0.04208870516413552,0.04815071003819207,0.045927074205622864,0.0491778763291599,0.049169851749285315,0.026130944019691776,0.04959505637718693,0.049204049302446054,0.04653824440297099,0.04923222228911028,0.049630018706923754,0.049163671105936585,0.04598442464497911,0.04659938639500214,0.03889954670822616,0.03753201470689754,0.041501527323481016,0.04994933299442155,0.04731299317498052,0.04958215774018373,0.0469154576284774,0.04958890471953923,0.038527291152447664,0.04628601640590519,0.04705453436700623,0.03853470703259859,0.04300299890523063,0.04934406919109634,0.047456965152496595,0.04936614291734233,0.046291718785185655,0.04691905074058289,0.04990779314019738,0.04750510482790124,0.04557724243417271,0.027839313306443386,0.045828794841435455,0.049178870761675396,0.04990601943825513,0.047479724502057466,0.047791412205653895,0.04639345190714603,0.04994261946010584,0.03555692011317694,0.04965573348316518,0.041714290173622895,0.04768739590231192,0.04937826005524956,0.04735551631337386,0.04955581085269061,0.049890490906291725,0.036165744698402495,0.04775906193352281,0.0461564882262297,0.04676283118950449,0.038704727121919094,0.020721504268701677,0.04266998218494037,0.049368361438313337,0.049891370510837627,0.047042289023113325,0.04769802362111488,0.03691360142877094,0.049847380250033324,0.04706535829670938,0.047753553535473406,0.046548871006939496,0.049369569919083554,0.04769689540844034,0.04211797626293863,0.04985111606097521,0.049833714606784874,0.04704128009774709,0.03216165771454326,0.03513438997362186,0.049599267107693364,0.042075960374315144,0.047679371322437436,0.047767542480773,0.04961234634791127,0.04704922775403017,0.04429842340082375,0.04235441820123484,0.04706412751924592,0.04647413026173918,0.047812290829145336,0.04783566556743799,0.04986886980291764,0.049604045289041235,0.04706217767342759,0.047862567642591385,0.04067031886500772,0.04984269348512744,0.046984877267850875,0.0476645573994904,0.032028948911586114,0.046223529923275414,0.04784513162852644,0.0496052058319212,0.047072919105365825,0.04982159969854696,0.03855078406321408,0.04959879664746728,0.037138225004848154,0.04989037384865253,0.04726728606880146,0.04983274470063162,0.04770897575680381,0.04949320731242169,0.047869821871716546,0.04699137229457346,0.04794841214099339,0.049839740288116004,0.04983492308755505,0.03564598202440494,0.04654776174645384,0.03401599899218879,0.047679371322437436,0.049876711549908144,0.0498932412033952,0.04781848930984878,0.043576516676809916,0.04960045329177033,0.0469845718031542,0.04783291638516917,0.04699631212694691,0.04960773316209277,0.049891370510837627,0.049839740288116004,0.042753741942530905,0.04778610224817374,0.04771773501271849,0.047227781902664294,0.04790619446729666,0.049922257005061546,0.047126517011260284,0.03752938815644112,0.04798966994204884,0.04958462152477983,0.04781723735052673,0.049841190688007284,0.04720709837523838,0.04794431623845675,0.04959987246291307,0.046775688577625436,0.0487287150192735,0.03921865363647783,0.04654642171519377,0.04991914550152862,0.04716087510061216,0.03869163450368519,0.03726155358898585,0.046845421485537664,0.04442570853316567,0.047282264987277965,0.046554255658341676,0.04781072448644982,0.0497992662158258,0.03184703799579367,0.04713369766129812,0.04617743262496576,0.04984070350526126,0.048027089367374085,0.04667624644088867,0.047160021137263454,0.04984681168435722,0.04793105305052016,0.04699879374889738,0.035521332361196284,0.04793104078733903,0.04454054319203769,0.04985138027678925,0.046743104190215726,0.04286203475162412,0.03732658969848043,0.04774713877684623,0.04992362602202267,0.036958753347289916,0.04665704118422019,0.0478389844302174,0.0479255413079667,0.04616927872427092,0.04700468565006971,0.047823019997902276,0.048008279877009404,0.02786422094239185,0.04937769817858145,0.04656114310686431,0.04961626499173696,0.04711250353959838,0.047818091313875516,0.047909463162516375,0.050162974334274815,0.04714728861062439,0.04783431215816197,0.04353304927346051,0.041301690981208984,0.04646627290706358,0.042093668408037015,0.050059829831635996,0.05017742928046168,0.04675033277814398,0.01991731605785529,0.04188282864768165,0.04728393389476257,0.044369952307371646,0.04048520279957126,0.04992678211894203,0.0467714611245989,0.04600632891635682,0.047480200536456595,0.050232338231915176,0.04725691030263145,0.047917116502449786,0.027957140181538873,0.0480567762995051,0.04711755262576847,0.049686207488565406,0.048049530989057065,0.04653595118807746,0.04169842719126168,0.04200254070818617,0.04806544302414315,0.0499307397819809,0.046850165107011156,0.04264243462051979,0.047939016314488304,0.03830173891909947,0.04300625756693852,0.04803477169300822,0.04992604967257115,0.039861042548778335,0.03829865194192891,0.0459246204545387,0.04782007237506429,0.03867653964240434,0.046904817646493076,0.04482561198848429,0.050234773030810226,0.0499758002840579,0.04791684671246223,0.047185257649436416,0.05023720114069726,0.04792758479989635,0.0279084743041758,0.04248813369988957,0.03890101494547179,0.048208082774242086,0.0502402490986546,0.04678151804805659,0.050244874547654264,0.04619565013812629,0.04731299763431907,0.048155151539473424,0.04814683821742212,0.035079569094106415,0.04999021844070141,0.04702152188308767,0.050186830681139945,0.047824749106458266,0.04670318084624698,0.04986284189191714,0.043199344700185785,0.0452460807987548,0.04732027861947637,0.02150385955758865,0.03808101169015483,0.039461509218566324,0.05024410977107824,0.04421671939834431,0.040711889934602265,0.046260912559056684,0.04732151051177439,0.047946819042265956,0.028006635495888783,0.047983650949725724,0.05026688472832435,0.047252597007336285,0.043308226141979135,0.043912482134772904,0.04999271232583328,0.050256474402279865,0.04784084062992422,0.04664311021032273,0.05027369636809012,0.04706450656302998,0.03648499432549027,0.04733004903042649,0.04822117204797194,0.04315358408194302,0.05024410977107824,0.050242880108449496,0.04075289020885151,0.047252773151212145,0.04293838531807183,0.041376904416304566,0.04895781019716825,0.034788033141803586,0.04185713059396017,0.04878155706726952,0.00028209999175022335,0.048597933765441303,0.0487910521140591,0.00028209999175022335,0.04882828759166541,0.00028209999175022335,0.028506588672833684,0.04881006227466208,0.04885276490143535,0.0487750408586884,0.041791421124331526,0.04860345442667228,0.00028209999175022335,0.00028209999175022335,0.04874261812230436,0.041512108219228315,0.00028209999175022335,0.04298627081117441,0.04499553174268527,0.00028209999175022335,0.014529632305233074,0.04871506386887579,0.00028209999175022335,0.04872931145581623,0.04864581368437048,0.00028209999175022335,0.04885928556935519,0.04874426584793011,0.00028209999175022335,0.048823106955005774,0.04883078482130113,0.04877147227294537,0.040976274088788144,0.00028209999175022335,0.04885410047335713,0.048751817737909375,0.00028209999175022335,0.04014466540467225,0.048799792417784864,0.00028209999175022335,0.04893435184627561,0.048665007792692436,0.00028209999175022335,0.04859417342813724,0.04882810698845047,0.04511204980189243,0.04509610766627008,0.00028209999175022335,0.00028209999175022335,0.038064981482594996,0.042910652691097624,0.00028209999175022335,0.04265200436123149,0.04880828188371183,0.04404566028312178,0.048800561653699226,0.04879377676996519,0.00028209999175022335,0.04893460937308202,0.04889354778292603,0.00028209999175022335,0.04321814527187332,0.04446097521276453,0.0490939259348427,0.04886683411483058,0.00028209999175022335,0.00028209999175022335,0.04903386979176919,0.00028209999175022335,0.04867334118176733,0.034494375659144934,0.04924621011957545,0.04930018149508038,0.048607454453428296,0.00028209999175022335,0.00028209999175022335,0.04841987906273442,0.04858919569138523,0.04267829104765305,0.00028209999175022335,0.039325401284734024,0.04087593451015122,0.048603843503968014,0.04293730281361824,0.04773155673281921,0.00028209999175022335,0.04929693286688461,0.04471223553334623,0.034200931109905894,0.04918416288180113,0.047654230686045435,0.00028209999175022335,0.04849309805862525,0.04948125294037464,0.04941583555742689,0.047599735338250355,0.00028209999175022335,0.048489839396917395,0.049406298146920054,0.042158245205651784,0.04827348566433931,0.047596452150179956,0.00028209999175022335,0.040494266405347965,0.04325721019315453,0.0412346370209819,0.04934878605653808,0.04451252516739061,0.04959732952505643,0.00028209999175022335,0.047590941522461065,0.048341058022682945,0.04940803394448374,0.04956472618545775,0.00028209999175022335,0.028335109264944706,0.04828541551002376,0.0495127269524639,0.04756424011754668,0.00028209999175022335,0.049441751003907033,0.04829822830475835,0.04760112999640838,0.00028209999175022335,0.04921266697435913,0.03858161035636673,0.04956969611836693,0.04905556893356988,0.04755193122807794,0.04958797494743398,0.04950411373988958,0.01577179891950238,0.00028209999175022335,0.047688533033664084,0.04961715017045649,0.04818482620842294,0.00028209999175022335,0.04919396896746053,0.04826015893082719,0.00028209999175022335,0.04765343692376816,0.04932080928077356,0.04831929867981105,0.04421155659903911,0.03876327377886464,0.048228187702480066,0.00028209999175022335,0.0493105873617864,0.04205334372359111,0.038777900409588735,0.04848251270353919,0.04982875582222217,0.04829151254077328,0.04398139340954174,0.04095023378082638,0.00028209999175022335,0.049566543365951704,0.04843801853746874,0.0491689520777156,0.00028209999175022335,0.04773450324082276,0.041523389231141586,0.04917590864598698,0.042786055425118166,0.04916852844054531,0.00028209999175022335,0.047877797398866065,0.00028209999175022335,0.048313802544942906,0.049451958430043595,0.03759886019304348,0.02829481245136515,0.04769446729855308,0.04915264985049877,0.00028209999175022335,0.04846619598347187,0.049175167280938806,0.0478032573239045,0.00028209999175022335,0.04511283464549178,0.04948785499122454,0.04819976945219049,0.031686913178905665,0.047631124622905384,0.00028209999175022335,0.04481447924958075,0.04950422187885134,0.04822362802872529,0.03911443108872375,0.04316793423367208,0.049351859655692554,0.04240938066475178,0.00028209999175022335,0.043069676051343264,0.04460478553925493,0.047653878398293034],\"type\":\"scatter\",\"xaxis\":\"x5\",\"yaxis\":\"y5\"},{\"marker\":{\"color\":[0,1,2,3,4,5,6,7,8,9,10,11,12,13,14,15,16,17,18,19,20,21,22,23,24,25,26,27,28,29,30,31,32,33,34,35,36,37,38,39,40,41,42,43,44,45,46,47,48,49,50,51,52,53,54,55,56,57,58,59,60,61,62,63,64,65,66,67,68,69,70,71,72,73,74,75,76,77,78,79,80,81,82,83,84,85,86,87,88,89,90,91,92,93,94,95,96,97,98,99,100,101,102,103,104,105,106,107,108,109,110,111,112,113,114,115,116,117,118,119,120,121,122,123,124,125,126,127,128,129,130,131,132,133,134,135,136,137,138,139,140,141,142,143,144,145,146,147,148,149,150,151,152,153,154,155,156,157,158,159,160,161,162,163,164,165,166,167,168,169,170,171,172,173,174,175,176,177,178,179,180,181,182,183,184,185,186,187,188,189,190,191,192,193,194,195,196,197,198,199,200,201,202,203,204,205,206,207,208,209,210,211,212,213,214,215,216,217,218,219,220,221,222,223,224,225,226,227,228,229,230,231,232,233,234,235,236,237,238,239,240,241,242,243,244,245,246,247,248,249,250,251,252,253,254,255,256,257,258,259,260,261,262,263,264,265,266,267,268,269,270,271,272,273,274,275,276,277,278,279,280,281,282,283,284,285,286,287,288,289,290,291,292,293,294,295,296,297,298,299,300,301,302,303,304,305,306,307,308,309,310,311,312,313,314,315,316,317,318,319,320,321,322,323,324,325,326,327,328,329,330,331,332,333,334,335,336,337,338,339,340,341,342,343,344,345,346,347,348,349,350,351,352,353,354,355,356,357,358,359,360,361,362,363,364,365,366,367,368,369,370,371,372,373,374,375,376,377,378,379,380,381,382,383,384,385,386,387,388,389,390,391,392,393,394,395,396,397,398,399,400,401,402,403,404,405,406,407,408,409,410,411,412,413,414,415,416,417,418,419,420,421,422,423,424,425,426,427,428,429,430,431,432,433,434,435,436,437,438,439,440,441,442,443,444,445,446,447,448,449,450,451,452,453,454,455,456,457,458,459,460,461,462,463,464,465,466,467,468,469,470,471,472,473,474,475,476,477,478,479,480,481,482,483,484,485,486,487,488,489,490,491,492,493,494,495,496,497,498,499,500,501,502,503,504,505,506,507,508,509,510,511,512,513,514,515,516,517,518,519,520,521,522,523,524,525,526,527,528,529,530,531,532,533,534,535,536,537,538,539,540,541,542,543,544,545,546,547,548,549,550,551,552,553,554,555,556,557,558,559,560,561,562,563,564,565,566,567,568,569,570,571,572,573,574,575,576,577,578,579,580,581,582,583,584,585,586,587,588,589,590,591,592,593,594,595,596,597,598,599],\"colorbar\":{\"title\":{\"text\":\"Trial\"},\"x\":1.0,\"xpad\":40},\"colorscale\":[[0.0,\"rgb(247,251,255)\"],[0.125,\"rgb(222,235,247)\"],[0.25,\"rgb(198,219,239)\"],[0.375,\"rgb(158,202,225)\"],[0.5,\"rgb(107,174,214)\"],[0.625,\"rgb(66,146,198)\"],[0.75,\"rgb(33,113,181)\"],[0.875,\"rgb(8,81,156)\"],[1.0,\"rgb(8,48,107)\"]],\"line\":{\"color\":\"Grey\",\"width\":0.5},\"showscale\":false},\"mode\":\"markers\",\"name\":\"Feasible Trial\",\"showlegend\":false,\"x\":[\"jaccard\",\"tversky\",\"asymmetric\",\"asymmetric\",\"dice\",\"dice\",\"euclidean\",\"asymmetric\",\"dice\",\"tversky\",\"dice\",\"dice\",\"cosine\",\"cosine\",\"cosine\",\"cosine\",\"cosine\",\"cosine\",\"cosine\",\"jaccard\",\"euclidean\",\"cosine\",\"cosine\",\"cosine\",\"cosine\",\"cosine\",\"cosine\",\"cosine\",\"jaccard\",\"euclidean\",\"tversky\",\"cosine\",\"cosine\",\"cosine\",\"jaccard\",\"asymmetric\",\"cosine\",\"tversky\",\"cosine\",\"asymmetric\",\"cosine\",\"cosine\",\"cosine\",\"cosine\",\"euclidean\",\"cosine\",\"dice\",\"tversky\",\"cosine\",\"asymmetric\",\"cosine\",\"cosine\",\"cosine\",\"cosine\",\"cosine\",\"cosine\",\"dice\",\"jaccard\",\"cosine\",\"cosine\",\"euclidean\",\"cosine\",\"cosine\",\"cosine\",\"cosine\",\"cosine\",\"cosine\",\"cosine\",\"cosine\",\"dice\",\"tversky\",\"cosine\",\"cosine\",\"cosine\",\"cosine\",\"cosine\",\"jaccard\",\"cosine\",\"asymmetric\",\"cosine\",\"cosine\",\"cosine\",\"cosine\",\"cosine\",\"cosine\",\"euclidean\",\"cosine\",\"cosine\",\"cosine\",\"cosine\",\"cosine\",\"cosine\",\"cosine\",\"cosine\",\"tversky\",\"cosine\",\"cosine\",\"asymmetric\",\"cosine\",\"jaccard\",\"dice\",\"cosine\",\"cosine\",\"cosine\",\"cosine\",\"cosine\",\"cosine\",\"cosine\",\"cosine\",\"euclidean\",\"cosine\",\"cosine\",\"cosine\",\"cosine\",\"cosine\",\"cosine\",\"cosine\",\"cosine\",\"tversky\",\"cosine\",\"cosine\",\"cosine\",\"cosine\",\"cosine\",\"cosine\",\"cosine\",\"dice\",\"cosine\",\"asymmetric\",\"jaccard\",\"cosine\",\"cosine\",\"cosine\",\"cosine\",\"cosine\",\"cosine\",\"cosine\",\"cosine\",\"cosine\",\"euclidean\",\"cosine\",\"cosine\",\"cosine\",\"cosine\",\"cosine\",\"cosine\",\"cosine\",\"cosine\",\"cosine\",\"cosine\",\"cosine\",\"cosine\",\"cosine\",\"cosine\",\"cosine\",\"tversky\",\"cosine\",\"cosine\",\"cosine\",\"dice\",\"asymmetric\",\"cosine\",\"cosine\",\"cosine\",\"cosine\",\"cosine\",\"jaccard\",\"cosine\",\"cosine\",\"cosine\",\"cosine\",\"cosine\",\"cosine\",\"cosine\",\"cosine\",\"cosine\",\"cosine\",\"euclidean\",\"cosine\",\"cosine\",\"cosine\",\"cosine\",\"cosine\",\"cosine\",\"cosine\",\"cosine\",\"cosine\",\"cosine\",\"cosine\",\"cosine\",\"cosine\",\"cosine\",\"cosine\",\"cosine\",\"cosine\",\"tversky\",\"cosine\",\"cosine\",\"cosine\",\"asymmetric\",\"cosine\",\"cosine\",\"cosine\",\"cosine\",\"cosine\",\"dice\",\"cosine\",\"jaccard\",\"cosine\",\"cosine\",\"cosine\",\"cosine\",\"cosine\",\"cosine\",\"cosine\",\"cosine\",\"cosine\",\"cosine\",\"cosine\",\"cosine\",\"euclidean\",\"cosine\",\"cosine\",\"cosine\",\"cosine\",\"cosine\",\"cosine\",\"cosine\",\"cosine\",\"cosine\",\"cosine\",\"cosine\",\"cosine\",\"cosine\",\"cosine\",\"cosine\",\"cosine\",\"cosine\",\"cosine\",\"cosine\",\"tversky\",\"cosine\",\"cosine\",\"cosine\",\"cosine\",\"cosine\",\"cosine\",\"cosine\",\"cosine\",\"asymmetric\",\"dice\",\"cosine\",\"cosine\",\"cosine\",\"jaccard\",\"cosine\",\"cosine\",\"cosine\",\"cosine\",\"cosine\",\"cosine\",\"cosine\",\"euclidean\",\"cosine\",\"cosine\",\"cosine\",\"cosine\",\"cosine\",\"cosine\",\"cosine\",\"cosine\",\"cosine\",\"tversky\",\"cosine\",\"cosine\",\"cosine\",\"cosine\",\"asymmetric\",\"cosine\",\"dice\",\"cosine\",\"jaccard\",\"cosine\",\"cosine\",\"cosine\",\"cosine\",\"cosine\",\"cosine\",\"cosine\",\"euclidean\",\"cosine\",\"cosine\",\"cosine\",\"cosine\",\"cosine\",\"cosine\",\"cosine\",\"cosine\",\"cosine\",\"cosine\",\"tversky\",\"cosine\",\"cosine\",\"cosine\",\"cosine\",\"cosine\",\"asymmetric\",\"dice\",\"cosine\",\"cosine\",\"jaccard\",\"cosine\",\"cosine\",\"cosine\",\"cosine\",\"cosine\",\"cosine\",\"cosine\",\"euclidean\",\"cosine\",\"cosine\",\"cosine\",\"cosine\",\"cosine\",\"cosine\",\"cosine\",\"cosine\",\"cosine\",\"cosine\",\"cosine\",\"cosine\",\"tversky\",\"cosine\",\"cosine\",\"cosine\",\"asymmetric\",\"dice\",\"cosine\",\"cosine\",\"jaccard\",\"cosine\",\"cosine\",\"cosine\",\"cosine\",\"cosine\",\"cosine\",\"cosine\",\"cosine\",\"euclidean\",\"cosine\",\"cosine\",\"cosine\",\"cosine\",\"cosine\",\"cosine\",\"cosine\",\"cosine\",\"cosine\",\"cosine\",\"tversky\",\"cosine\",\"cosine\",\"cosine\",\"cosine\",\"cosine\",\"cosine\",\"dice\",\"cosine\",\"cosine\",\"asymmetric\",\"jaccard\",\"cosine\",\"cosine\",\"cosine\",\"cosine\",\"cosine\",\"cosine\",\"cosine\",\"euclidean\",\"cosine\",\"cosine\",\"cosine\",\"cosine\",\"cosine\",\"cosine\",\"cosine\",\"cosine\",\"cosine\",\"cosine\",\"cosine\",\"tversky\",\"cosine\",\"cosine\",\"cosine\",\"cosine\",\"cosine\",\"cosine\",\"asymmetric\",\"dice\",\"cosine\",\"cosine\",\"jaccard\",\"cosine\",\"cosine\",\"cosine\",\"cosine\",\"cosine\",\"cosine\",\"cosine\",\"cosine\",\"euclidean\",\"cosine\",\"cosine\",\"cosine\",\"cosine\",\"cosine\",\"cosine\",\"cosine\",\"cosine\",\"tversky\",\"cosine\",\"cosine\",\"cosine\",\"cosine\",\"asymmetric\",\"cosine\",\"dice\",\"cosine\",\"cosine\",\"jaccard\",\"cosine\",\"cosine\",\"cosine\",\"cosine\",\"cosine\",\"cosine\",\"euclidean\",\"cosine\",\"cosine\",\"cosine\",\"cosine\",\"cosine\",\"cosine\",\"cosine\",\"cosine\",\"cosine\",\"cosine\",\"cosine\",\"cosine\",\"tversky\",\"cosine\",\"cosine\",\"cosine\",\"asymmetric\",\"dice\",\"cosine\",\"jaccard\",\"cosine\",\"cosine\",\"cosine\",\"cosine\",\"cosine\",\"cosine\",\"cosine\",\"euclidean\",\"cosine\",\"cosine\",\"cosine\",\"cosine\",\"cosine\",\"cosine\",\"cosine\",\"cosine\",\"cosine\",\"tversky\",\"cosine\",\"cosine\",\"cosine\",\"cosine\",\"cosine\",\"asymmetric\",\"cosine\",\"dice\",\"cosine\",\"jaccard\",\"cosine\",\"cosine\",\"cosine\",\"cosine\",\"cosine\",\"cosine\",\"cosine\",\"euclidean\",\"cosine\",\"cosine\",\"cosine\",\"cosine\",\"cosine\",\"cosine\",\"cosine\",\"cosine\",\"cosine\",\"cosine\",\"tversky\",\"cosine\",\"cosine\",\"cosine\",\"cosine\",\"dice\",\"cosine\",\"cosine\",\"asymmetric\",\"cosine\",\"cosine\",\"cosine\",\"cosine\",\"cosine\",\"cosine\",\"jaccard\",\"euclidean\",\"cosine\",\"cosine\",\"cosine\",\"cosine\",\"cosine\",\"cosine\",\"cosine\",\"cosine\",\"cosine\",\"cosine\",\"cosine\",\"tversky\",\"cosine\",\"cosine\",\"cosine\",\"asymmetric\",\"dice\",\"cosine\",\"cosine\",\"cosine\",\"jaccard\",\"cosine\",\"cosine\",\"cosine\",\"cosine\",\"cosine\",\"cosine\",\"cosine\",\"euclidean\",\"cosine\",\"cosine\",\"cosine\",\"cosine\",\"cosine\",\"cosine\",\"cosine\",\"cosine\",\"cosine\",\"tversky\",\"cosine\",\"cosine\",\"cosine\",\"cosine\",\"asymmetric\",\"cosine\",\"dice\",\"cosine\",\"jaccard\",\"cosine\",\"cosine\",\"cosine\",\"cosine\",\"cosine\",\"cosine\",\"cosine\",\"euclidean\",\"cosine\",\"cosine\",\"cosine\",\"cosine\",\"cosine\",\"cosine\",\"cosine\",\"cosine\",\"cosine\",\"cosine\",\"tversky\",\"cosine\",\"cosine\",\"cosine\",\"cosine\",\"cosine\",\"asymmetric\",\"dice\",\"cosine\",\"jaccard\",\"cosine\",\"cosine\",\"cosine\",\"cosine\"],\"y\":[0.03693410769748605,0.02950565890072772,0.03659388580079572,0.03654694011331058,0.03780927185688956,0.0394110428832288,0.024006979979799066,0.03454623442297158,0.03826173976637384,0.036433943816791194,0.041522422669492146,0.04131477022142686,0.04362394620253716,0.043617225979213074,0.04339865261082951,0.043702796228289695,0.04360893160935133,0.0432735570137575,0.043445371986879006,0.043007080314916686,0.016478841553009393,0.04360525822915029,0.04371697358064655,0.04376835296556982,0.043749756408625315,0.04333191637848008,0.0436234556752871,0.04380381028189539,0.03640595812234979,0.01400613716479738,0.03822558567838665,0.04387137483639633,0.04385864230975724,0.04390049654735531,0.03476588918097434,0.04092732838792521,0.044148636445727155,0.03706749431991632,0.03209564835439163,0.011591760925937264,0.04357808078983646,0.04379978461394221,0.04385834576373801,0.04407368276710715,0.02664175345654471,0.04409705304606093,0.03395454150194877,0.041960781231533836,0.043791258358471294,0.041887212177560584,0.044148536110607775,0.04427531956735329,0.04416902788647253,0.04425917118731959,0.04423339732484115,0.04454130908344809,0.034599044140762536,0.0351619341935386,0.04498923069719356,0.04564349259861089,0.026123542632391486,0.04501886188759169,0.045815864989061414,0.04582322401264476,0.04585618744383831,0.04589327910777384,0.046648907350549156,0.04147025286679578,0.047004881860969336,0.040136277388698786,0.03795062174328781,0.047033718174255966,0.04706022225343587,0.04662457385444997,0.04730033980160257,0.04710087246960237,0.03733892311431149,0.04712724834279667,0.04178191938853411,0.0470467204908823,0.03729530186377906,0.046471053318080775,0.04728495396847546,0.04843907986006404,0.04769853867472737,0.028051728328171495,0.049890490906291725,0.04603569477610609,0.047727137528231385,0.0478646300867101,0.04929765973908228,0.048944583798775025,0.04811644002077834,0.04928062283582542,0.036526392595712706,0.04619822652102311,0.0495917932561403,0.034041091690690126,0.037363637883864154,0.04376502518411324,0.038940388675954084,0.04990843528496086,0.04621956780089785,0.04537196792843485,0.04208870516413552,0.04815071003819207,0.045927074205622864,0.0491778763291599,0.049169851749285315,0.026130944019691776,0.04959505637718693,0.049204049302446054,0.04653824440297099,0.04923222228911028,0.049630018706923754,0.049163671105936585,0.04598442464497911,0.04659938639500214,0.03889954670822616,0.03753201470689754,0.041501527323481016,0.04994933299442155,0.04731299317498052,0.04958215774018373,0.0469154576284774,0.04958890471953923,0.038527291152447664,0.04628601640590519,0.04705453436700623,0.03853470703259859,0.04300299890523063,0.04934406919109634,0.047456965152496595,0.04936614291734233,0.046291718785185655,0.04691905074058289,0.04990779314019738,0.04750510482790124,0.04557724243417271,0.027839313306443386,0.045828794841435455,0.049178870761675396,0.04990601943825513,0.047479724502057466,0.047791412205653895,0.04639345190714603,0.04994261946010584,0.03555692011317694,0.04965573348316518,0.041714290173622895,0.04768739590231192,0.04937826005524956,0.04735551631337386,0.04955581085269061,0.049890490906291725,0.036165744698402495,0.04775906193352281,0.0461564882262297,0.04676283118950449,0.038704727121919094,0.020721504268701677,0.04266998218494037,0.049368361438313337,0.049891370510837627,0.047042289023113325,0.04769802362111488,0.03691360142877094,0.049847380250033324,0.04706535829670938,0.047753553535473406,0.046548871006939496,0.049369569919083554,0.04769689540844034,0.04211797626293863,0.04985111606097521,0.049833714606784874,0.04704128009774709,0.03216165771454326,0.03513438997362186,0.049599267107693364,0.042075960374315144,0.047679371322437436,0.047767542480773,0.04961234634791127,0.04704922775403017,0.04429842340082375,0.04235441820123484,0.04706412751924592,0.04647413026173918,0.047812290829145336,0.04783566556743799,0.04986886980291764,0.049604045289041235,0.04706217767342759,0.047862567642591385,0.04067031886500772,0.04984269348512744,0.046984877267850875,0.0476645573994904,0.032028948911586114,0.046223529923275414,0.04784513162852644,0.0496052058319212,0.047072919105365825,0.04982159969854696,0.03855078406321408,0.04959879664746728,0.037138225004848154,0.04989037384865253,0.04726728606880146,0.04983274470063162,0.04770897575680381,0.04949320731242169,0.047869821871716546,0.04699137229457346,0.04794841214099339,0.049839740288116004,0.04983492308755505,0.03564598202440494,0.04654776174645384,0.03401599899218879,0.047679371322437436,0.049876711549908144,0.0498932412033952,0.04781848930984878,0.043576516676809916,0.04960045329177033,0.0469845718031542,0.04783291638516917,0.04699631212694691,0.04960773316209277,0.049891370510837627,0.049839740288116004,0.042753741942530905,0.04778610224817374,0.04771773501271849,0.047227781902664294,0.04790619446729666,0.049922257005061546,0.047126517011260284,0.03752938815644112,0.04798966994204884,0.04958462152477983,0.04781723735052673,0.049841190688007284,0.04720709837523838,0.04794431623845675,0.04959987246291307,0.046775688577625436,0.0487287150192735,0.03921865363647783,0.04654642171519377,0.04991914550152862,0.04716087510061216,0.03869163450368519,0.03726155358898585,0.046845421485537664,0.04442570853316567,0.047282264987277965,0.046554255658341676,0.04781072448644982,0.0497992662158258,0.03184703799579367,0.04713369766129812,0.04617743262496576,0.04984070350526126,0.048027089367374085,0.04667624644088867,0.047160021137263454,0.04984681168435722,0.04793105305052016,0.04699879374889738,0.035521332361196284,0.04793104078733903,0.04454054319203769,0.04985138027678925,0.046743104190215726,0.04286203475162412,0.03732658969848043,0.04774713877684623,0.04992362602202267,0.036958753347289916,0.04665704118422019,0.0478389844302174,0.0479255413079667,0.04616927872427092,0.04700468565006971,0.047823019997902276,0.048008279877009404,0.02786422094239185,0.04937769817858145,0.04656114310686431,0.04961626499173696,0.04711250353959838,0.047818091313875516,0.047909463162516375,0.050162974334274815,0.04714728861062439,0.04783431215816197,0.04353304927346051,0.041301690981208984,0.04646627290706358,0.042093668408037015,0.050059829831635996,0.05017742928046168,0.04675033277814398,0.01991731605785529,0.04188282864768165,0.04728393389476257,0.044369952307371646,0.04048520279957126,0.04992678211894203,0.0467714611245989,0.04600632891635682,0.047480200536456595,0.050232338231915176,0.04725691030263145,0.047917116502449786,0.027957140181538873,0.0480567762995051,0.04711755262576847,0.049686207488565406,0.048049530989057065,0.04653595118807746,0.04169842719126168,0.04200254070818617,0.04806544302414315,0.0499307397819809,0.046850165107011156,0.04264243462051979,0.047939016314488304,0.03830173891909947,0.04300625756693852,0.04803477169300822,0.04992604967257115,0.039861042548778335,0.03829865194192891,0.0459246204545387,0.04782007237506429,0.03867653964240434,0.046904817646493076,0.04482561198848429,0.050234773030810226,0.0499758002840579,0.04791684671246223,0.047185257649436416,0.05023720114069726,0.04792758479989635,0.0279084743041758,0.04248813369988957,0.03890101494547179,0.048208082774242086,0.0502402490986546,0.04678151804805659,0.050244874547654264,0.04619565013812629,0.04731299763431907,0.048155151539473424,0.04814683821742212,0.035079569094106415,0.04999021844070141,0.04702152188308767,0.050186830681139945,0.047824749106458266,0.04670318084624698,0.04986284189191714,0.043199344700185785,0.0452460807987548,0.04732027861947637,0.02150385955758865,0.03808101169015483,0.039461509218566324,0.05024410977107824,0.04421671939834431,0.040711889934602265,0.046260912559056684,0.04732151051177439,0.047946819042265956,0.028006635495888783,0.047983650949725724,0.05026688472832435,0.047252597007336285,0.043308226141979135,0.043912482134772904,0.04999271232583328,0.050256474402279865,0.04784084062992422,0.04664311021032273,0.05027369636809012,0.04706450656302998,0.03648499432549027,0.04733004903042649,0.04822117204797194,0.04315358408194302,0.05024410977107824,0.050242880108449496,0.04075289020885151,0.047252773151212145,0.04293838531807183,0.041376904416304566,0.04895781019716825,0.034788033141803586,0.04185713059396017,0.04878155706726952,0.00028209999175022335,0.048597933765441303,0.0487910521140591,0.00028209999175022335,0.04882828759166541,0.00028209999175022335,0.028506588672833684,0.04881006227466208,0.04885276490143535,0.0487750408586884,0.041791421124331526,0.04860345442667228,0.00028209999175022335,0.00028209999175022335,0.04874261812230436,0.041512108219228315,0.00028209999175022335,0.04298627081117441,0.04499553174268527,0.00028209999175022335,0.014529632305233074,0.04871506386887579,0.00028209999175022335,0.04872931145581623,0.04864581368437048,0.00028209999175022335,0.04885928556935519,0.04874426584793011,0.00028209999175022335,0.048823106955005774,0.04883078482130113,0.04877147227294537,0.040976274088788144,0.00028209999175022335,0.04885410047335713,0.048751817737909375,0.00028209999175022335,0.04014466540467225,0.048799792417784864,0.00028209999175022335,0.04893435184627561,0.048665007792692436,0.00028209999175022335,0.04859417342813724,0.04882810698845047,0.04511204980189243,0.04509610766627008,0.00028209999175022335,0.00028209999175022335,0.038064981482594996,0.042910652691097624,0.00028209999175022335,0.04265200436123149,0.04880828188371183,0.04404566028312178,0.048800561653699226,0.04879377676996519,0.00028209999175022335,0.04893460937308202,0.04889354778292603,0.00028209999175022335,0.04321814527187332,0.04446097521276453,0.0490939259348427,0.04886683411483058,0.00028209999175022335,0.00028209999175022335,0.04903386979176919,0.00028209999175022335,0.04867334118176733,0.034494375659144934,0.04924621011957545,0.04930018149508038,0.048607454453428296,0.00028209999175022335,0.00028209999175022335,0.04841987906273442,0.04858919569138523,0.04267829104765305,0.00028209999175022335,0.039325401284734024,0.04087593451015122,0.048603843503968014,0.04293730281361824,0.04773155673281921,0.00028209999175022335,0.04929693286688461,0.04471223553334623,0.034200931109905894,0.04918416288180113,0.047654230686045435,0.00028209999175022335,0.04849309805862525,0.04948125294037464,0.04941583555742689,0.047599735338250355,0.00028209999175022335,0.048489839396917395,0.049406298146920054,0.042158245205651784,0.04827348566433931,0.047596452150179956,0.00028209999175022335,0.040494266405347965,0.04325721019315453,0.0412346370209819,0.04934878605653808,0.04451252516739061,0.04959732952505643,0.00028209999175022335,0.047590941522461065,0.048341058022682945,0.04940803394448374,0.04956472618545775,0.00028209999175022335,0.028335109264944706,0.04828541551002376,0.0495127269524639,0.04756424011754668,0.00028209999175022335,0.049441751003907033,0.04829822830475835,0.04760112999640838,0.00028209999175022335,0.04921266697435913,0.03858161035636673,0.04956969611836693,0.04905556893356988,0.04755193122807794,0.04958797494743398,0.04950411373988958,0.01577179891950238,0.00028209999175022335,0.047688533033664084,0.04961715017045649,0.04818482620842294,0.00028209999175022335,0.04919396896746053,0.04826015893082719,0.00028209999175022335,0.04765343692376816,0.04932080928077356,0.04831929867981105,0.04421155659903911,0.03876327377886464,0.048228187702480066,0.00028209999175022335,0.0493105873617864,0.04205334372359111,0.038777900409588735,0.04848251270353919,0.04982875582222217,0.04829151254077328,0.04398139340954174,0.04095023378082638,0.00028209999175022335,0.049566543365951704,0.04843801853746874,0.0491689520777156,0.00028209999175022335,0.04773450324082276,0.041523389231141586,0.04917590864598698,0.042786055425118166,0.04916852844054531,0.00028209999175022335,0.047877797398866065,0.00028209999175022335,0.048313802544942906,0.049451958430043595,0.03759886019304348,0.02829481245136515,0.04769446729855308,0.04915264985049877,0.00028209999175022335,0.04846619598347187,0.049175167280938806,0.0478032573239045,0.00028209999175022335,0.04511283464549178,0.04948785499122454,0.04819976945219049,0.031686913178905665,0.047631124622905384,0.00028209999175022335,0.04481447924958075,0.04950422187885134,0.04822362802872529,0.03911443108872375,0.04316793423367208,0.049351859655692554,0.04240938066475178,0.00028209999175022335,0.043069676051343264,0.04460478553925493,0.047653878398293034],\"type\":\"scatter\",\"xaxis\":\"x6\",\"yaxis\":\"y6\"},{\"marker\":{\"color\":[6,20,29,44,60,85,109,139,177,220,262,289,318,348,378,410,436,464,492,519,548,575],\"colorbar\":{\"title\":{\"text\":\"Trial\"},\"x\":1.0,\"xpad\":40},\"colorscale\":[[0.0,\"rgb(247,251,255)\"],[0.125,\"rgb(222,235,247)\"],[0.25,\"rgb(198,219,239)\"],[0.375,\"rgb(158,202,225)\"],[0.5,\"rgb(107,174,214)\"],[0.625,\"rgb(66,146,198)\"],[0.75,\"rgb(33,113,181)\"],[0.875,\"rgb(8,81,156)\"],[1.0,\"rgb(8,48,107)\"]],\"line\":{\"color\":\"Grey\",\"width\":0.5},\"showscale\":false},\"mode\":\"markers\",\"name\":\"Feasible Trial\",\"showlegend\":false,\"x\":[\"exp\",\"lin\",\"log\",\"log\",\"lin\",\"exp\",\"log\",\"lin\",\"exp\",\"lin\",\"exp\",\"log\",\"exp\",\"log\",\"lin\",\"lin\",\"exp\",\"log\",\"exp\",\"lin\",\"log\",\"log\"],\"y\":[0.024006979979799066,0.016478841553009393,0.01400613716479738,0.02664175345654471,0.026123542632391486,0.028051728328171495,0.026130944019691776,0.027839313306443386,0.03216165771454326,0.03401599899218879,0.03184703799579367,0.02786422094239185,0.027957140181538873,0.0279084743041758,0.028006635495888783,0.028506588672833684,0.040976274088788144,0.00028209999175022335,0.034200931109905894,0.028335109264944706,0.03876327377886464,0.02829481245136515],\"type\":\"scatter\",\"xaxis\":\"x7\",\"yaxis\":\"y7\"},{\"marker\":{\"color\":[0,1,2,3,4,5,6,7,8,9,10,11,12,13,14,15,16,17,18,19,20,21,22,23,24,25,26,27,28,29,30,31,32,33,34,35,36,37,38,39,40,41,42,43,44,45,46,47,48,49,50,51,52,53,54,55,56,57,58,59,60,61,62,63,64,65,66,67,68,69,70,71,72,73,74,75,76,77,78,79,80,81,82,83,84,85,86,87,88,89,90,91,92,93,94,95,96,97,98,99,100,101,102,103,104,105,106,107,108,109,110,111,112,113,114,115,116,117,118,119,120,121,122,123,124,125,126,127,128,129,130,131,132,133,134,135,136,137,138,139,140,141,142,143,144,145,146,147,148,149,150,151,152,153,154,155,156,157,158,159,160,161,162,163,164,165,166,167,168,169,170,171,172,173,174,175,176,177,178,179,180,181,182,183,184,185,186,187,188,189,190,191,192,193,194,195,196,197,198,199,200,201,202,203,204,205,206,207,208,209,210,211,212,213,214,215,216,217,218,219,220,221,222,223,224,225,226,227,228,229,230,231,232,233,234,235,236,237,238,239,240,241,242,243,244,245,246,247,248,249,250,251,252,253,254,255,256,257,258,259,260,261,262,263,264,265,266,267,268,269,270,271,272,273,274,275,276,277,278,279,280,281,282,283,284,285,286,287,288,289,290,291,292,293,294,295,296,297,298,299,300,301,302,303,304,305,306,307,308,309,310,311,312,313,314,315,316,317,318,319,320,321,322,323,324,325,326,327,328,329,330,331,332,333,334,335,336,337,338,339,340,341,342,343,344,345,346,347,348,349,350,351,352,353,354,355,356,357,358,359,360,361,362,363,364,365,366,367,368,369,370,371,372,373,374,375,376,377,378,379,380,381,382,383,384,385,386,387,388,389,390,391,392,393,394,395,396,397,398,399,400,401,402,403,404,405,406,407,408,409,410,411,412,413,414,415,416,417,418,419,420,421,422,423,424,425,426,427,428,429,430,431,432,433,434,435,436,437,438,439,440,441,442,443,444,445,446,447,448,449,450,451,452,453,454,455,456,457,458,459,460,461,462,463,464,465,466,467,468,469,470,471,472,473,474,475,476,477,478,479,480,481,482,483,484,485,486,487,488,489,490,491,492,493,494,495,496,497,498,499,500,501,502,503,504,505,506,507,508,509,510,511,512,513,514,515,516,517,518,519,520,521,522,523,524,525,526,527,528,529,530,531,532,533,534,535,536,537,538,539,540,541,542,543,544,545,546,547,548,549,550,551,552,553,554,555,556,557,558,559,560,561,562,563,564,565,566,567,568,569,570,571,572,573,574,575,576,577,578,579,580,581,582,583,584,585,586,587,588,589,590,591,592,593,594,595,596,597,598,599],\"colorbar\":{\"title\":{\"text\":\"Trial\"},\"x\":1.0,\"xpad\":40},\"colorscale\":[[0.0,\"rgb(247,251,255)\"],[0.125,\"rgb(222,235,247)\"],[0.25,\"rgb(198,219,239)\"],[0.375,\"rgb(158,202,225)\"],[0.5,\"rgb(107,174,214)\"],[0.625,\"rgb(66,146,198)\"],[0.75,\"rgb(33,113,181)\"],[0.875,\"rgb(8,81,156)\"],[1.0,\"rgb(8,48,107)\"]],\"line\":{\"color\":\"Grey\",\"width\":0.5},\"showscale\":false},\"mode\":\"markers\",\"name\":\"Feasible Trial\",\"showlegend\":false,\"x\":[677,1482,241,1000,851,410,1465,349,123,1365,539,494,592,658,1085,776,862,1188,758,12,951,621,690,777,785,1168,899,741,477,1028,788,697,716,690,650,332,556,405,547,217,921,735,698,574,437,563,547,331,581,244,497,477,493,485,485,402,389,241,276,184,110,289,172,169,164,153,90,135,78,18,173,71,65,87,52,63,71,63,68,68,23,97,52,25,41,45,10,127,45,36,13,18,31,14,16,116,11,209,11,131,31,10,109,204,1334,31,144,15,15,104,12,16,98,17,12,15,142,94,90,10,134,10,54,12,78,12,54,107,80,49,822,14,48,13,118,79,10,51,191,76,156,16,10,50,43,114,10,69,11,92,46,13,52,12,10,78,43,122,83,41,12,1082,13,10,69,45,109,10,64,41,94,13,42,1492,10,10,66,41,84,11,1412,44,38,11,66,11,1234,64,100,39,39,10,11,68,37,11,10,71,42,10,107,39,11,64,10,38,11,85,10,54,10,42,12,40,71,35,10,10,65,94,43,44,10,10,41,624,11,73,37,71,11,10,10,961,42,43,60,36,10,63,12,34,12,39,10,60,35,11,80,39,11,93,10,61,38,11,67,10,53,92,38,10,43,62,118,10,38,89,62,10,35,73,41,36,357,10,84,59,10,40,10,96,59,40,36,122,71,39,34,68,13,95,11,63,39,36,10,69,38,878,12,111,61,11,10,87,46,10,60,447,40,10,93,136,38,10,61,43,83,37,68,11,36,105,10,61,36,10,83,1230,39,61,1030,36,10,10,64,143,39,106,77,286,10,10,39,61,10,39,91,36,59,34,10,82,10,118,58,35,35,729,11,69,10,41,90,12,10,241,57,38,72,10,10,519,820,114,58,36,83,37,10,60,1125,669,11,10,39,99,10,66,1442,56,33,1320,10,10,10,89,41,150,2,1,1,23,0,25,23,0,23,0,20,23,22,23,1,27,0,0,23,24,0,24,306,0,25,24,0,25,25,0,22,23,0,24,22,23,1,0,23,23,0,23,24,0,21,24,0,27,23,22,265,0,0,22,23,0,24,23,598,22,23,0,21,22,0,22,453,20,22,0,0,20,0,25,402,18,18,27,0,0,17,27,13,0,323,18,25,28,48,0,17,376,30,16,49,0,29,16,15,49,0,29,16,30,29,49,0,15,30,215,14,185,14,0,48,30,15,14,0,29,31,15,50,0,15,29,48,0,16,31,14,29,49,14,15,30,0,48,14,31,0,16,31,0,49,17,28,518,16,32,0,17,45,14,29,12,30,642,50,0,14,29,15,0,47,30,15,32,15,0,45,0,30,15,15,30,45,19,0,29,15,42,0,263,16,31,562,49,0,355,15,30,13,31,14,38,0,24,418,48],\"y\":[0.03693410769748605,0.02950565890072772,0.03659388580079572,0.03654694011331058,0.03780927185688956,0.0394110428832288,0.024006979979799066,0.03454623442297158,0.03826173976637384,0.036433943816791194,0.041522422669492146,0.04131477022142686,0.04362394620253716,0.043617225979213074,0.04339865261082951,0.043702796228289695,0.04360893160935133,0.0432735570137575,0.043445371986879006,0.043007080314916686,0.016478841553009393,0.04360525822915029,0.04371697358064655,0.04376835296556982,0.043749756408625315,0.04333191637848008,0.0436234556752871,0.04380381028189539,0.03640595812234979,0.01400613716479738,0.03822558567838665,0.04387137483639633,0.04385864230975724,0.04390049654735531,0.03476588918097434,0.04092732838792521,0.044148636445727155,0.03706749431991632,0.03209564835439163,0.011591760925937264,0.04357808078983646,0.04379978461394221,0.04385834576373801,0.04407368276710715,0.02664175345654471,0.04409705304606093,0.03395454150194877,0.041960781231533836,0.043791258358471294,0.041887212177560584,0.044148536110607775,0.04427531956735329,0.04416902788647253,0.04425917118731959,0.04423339732484115,0.04454130908344809,0.034599044140762536,0.0351619341935386,0.04498923069719356,0.04564349259861089,0.026123542632391486,0.04501886188759169,0.045815864989061414,0.04582322401264476,0.04585618744383831,0.04589327910777384,0.046648907350549156,0.04147025286679578,0.047004881860969336,0.040136277388698786,0.03795062174328781,0.047033718174255966,0.04706022225343587,0.04662457385444997,0.04730033980160257,0.04710087246960237,0.03733892311431149,0.04712724834279667,0.04178191938853411,0.0470467204908823,0.03729530186377906,0.046471053318080775,0.04728495396847546,0.04843907986006404,0.04769853867472737,0.028051728328171495,0.049890490906291725,0.04603569477610609,0.047727137528231385,0.0478646300867101,0.04929765973908228,0.048944583798775025,0.04811644002077834,0.04928062283582542,0.036526392595712706,0.04619822652102311,0.0495917932561403,0.034041091690690126,0.037363637883864154,0.04376502518411324,0.038940388675954084,0.04990843528496086,0.04621956780089785,0.04537196792843485,0.04208870516413552,0.04815071003819207,0.045927074205622864,0.0491778763291599,0.049169851749285315,0.026130944019691776,0.04959505637718693,0.049204049302446054,0.04653824440297099,0.04923222228911028,0.049630018706923754,0.049163671105936585,0.04598442464497911,0.04659938639500214,0.03889954670822616,0.03753201470689754,0.041501527323481016,0.04994933299442155,0.04731299317498052,0.04958215774018373,0.0469154576284774,0.04958890471953923,0.038527291152447664,0.04628601640590519,0.04705453436700623,0.03853470703259859,0.04300299890523063,0.04934406919109634,0.047456965152496595,0.04936614291734233,0.046291718785185655,0.04691905074058289,0.04990779314019738,0.04750510482790124,0.04557724243417271,0.027839313306443386,0.045828794841435455,0.049178870761675396,0.04990601943825513,0.047479724502057466,0.047791412205653895,0.04639345190714603,0.04994261946010584,0.03555692011317694,0.04965573348316518,0.041714290173622895,0.04768739590231192,0.04937826005524956,0.04735551631337386,0.04955581085269061,0.049890490906291725,0.036165744698402495,0.04775906193352281,0.0461564882262297,0.04676283118950449,0.038704727121919094,0.020721504268701677,0.04266998218494037,0.049368361438313337,0.049891370510837627,0.047042289023113325,0.04769802362111488,0.03691360142877094,0.049847380250033324,0.04706535829670938,0.047753553535473406,0.046548871006939496,0.049369569919083554,0.04769689540844034,0.04211797626293863,0.04985111606097521,0.049833714606784874,0.04704128009774709,0.03216165771454326,0.03513438997362186,0.049599267107693364,0.042075960374315144,0.047679371322437436,0.047767542480773,0.04961234634791127,0.04704922775403017,0.04429842340082375,0.04235441820123484,0.04706412751924592,0.04647413026173918,0.047812290829145336,0.04783566556743799,0.04986886980291764,0.049604045289041235,0.04706217767342759,0.047862567642591385,0.04067031886500772,0.04984269348512744,0.046984877267850875,0.0476645573994904,0.032028948911586114,0.046223529923275414,0.04784513162852644,0.0496052058319212,0.047072919105365825,0.04982159969854696,0.03855078406321408,0.04959879664746728,0.037138225004848154,0.04989037384865253,0.04726728606880146,0.04983274470063162,0.04770897575680381,0.04949320731242169,0.047869821871716546,0.04699137229457346,0.04794841214099339,0.049839740288116004,0.04983492308755505,0.03564598202440494,0.04654776174645384,0.03401599899218879,0.047679371322437436,0.049876711549908144,0.0498932412033952,0.04781848930984878,0.043576516676809916,0.04960045329177033,0.0469845718031542,0.04783291638516917,0.04699631212694691,0.04960773316209277,0.049891370510837627,0.049839740288116004,0.042753741942530905,0.04778610224817374,0.04771773501271849,0.047227781902664294,0.04790619446729666,0.049922257005061546,0.047126517011260284,0.03752938815644112,0.04798966994204884,0.04958462152477983,0.04781723735052673,0.049841190688007284,0.04720709837523838,0.04794431623845675,0.04959987246291307,0.046775688577625436,0.0487287150192735,0.03921865363647783,0.04654642171519377,0.04991914550152862,0.04716087510061216,0.03869163450368519,0.03726155358898585,0.046845421485537664,0.04442570853316567,0.047282264987277965,0.046554255658341676,0.04781072448644982,0.0497992662158258,0.03184703799579367,0.04713369766129812,0.04617743262496576,0.04984070350526126,0.048027089367374085,0.04667624644088867,0.047160021137263454,0.04984681168435722,0.04793105305052016,0.04699879374889738,0.035521332361196284,0.04793104078733903,0.04454054319203769,0.04985138027678925,0.046743104190215726,0.04286203475162412,0.03732658969848043,0.04774713877684623,0.04992362602202267,0.036958753347289916,0.04665704118422019,0.0478389844302174,0.0479255413079667,0.04616927872427092,0.04700468565006971,0.047823019997902276,0.048008279877009404,0.02786422094239185,0.04937769817858145,0.04656114310686431,0.04961626499173696,0.04711250353959838,0.047818091313875516,0.047909463162516375,0.050162974334274815,0.04714728861062439,0.04783431215816197,0.04353304927346051,0.041301690981208984,0.04646627290706358,0.042093668408037015,0.050059829831635996,0.05017742928046168,0.04675033277814398,0.01991731605785529,0.04188282864768165,0.04728393389476257,0.044369952307371646,0.04048520279957126,0.04992678211894203,0.0467714611245989,0.04600632891635682,0.047480200536456595,0.050232338231915176,0.04725691030263145,0.047917116502449786,0.027957140181538873,0.0480567762995051,0.04711755262576847,0.049686207488565406,0.048049530989057065,0.04653595118807746,0.04169842719126168,0.04200254070818617,0.04806544302414315,0.0499307397819809,0.046850165107011156,0.04264243462051979,0.047939016314488304,0.03830173891909947,0.04300625756693852,0.04803477169300822,0.04992604967257115,0.039861042548778335,0.03829865194192891,0.0459246204545387,0.04782007237506429,0.03867653964240434,0.046904817646493076,0.04482561198848429,0.050234773030810226,0.0499758002840579,0.04791684671246223,0.047185257649436416,0.05023720114069726,0.04792758479989635,0.0279084743041758,0.04248813369988957,0.03890101494547179,0.048208082774242086,0.0502402490986546,0.04678151804805659,0.050244874547654264,0.04619565013812629,0.04731299763431907,0.048155151539473424,0.04814683821742212,0.035079569094106415,0.04999021844070141,0.04702152188308767,0.050186830681139945,0.047824749106458266,0.04670318084624698,0.04986284189191714,0.043199344700185785,0.0452460807987548,0.04732027861947637,0.02150385955758865,0.03808101169015483,0.039461509218566324,0.05024410977107824,0.04421671939834431,0.040711889934602265,0.046260912559056684,0.04732151051177439,0.047946819042265956,0.028006635495888783,0.047983650949725724,0.05026688472832435,0.047252597007336285,0.043308226141979135,0.043912482134772904,0.04999271232583328,0.050256474402279865,0.04784084062992422,0.04664311021032273,0.05027369636809012,0.04706450656302998,0.03648499432549027,0.04733004903042649,0.04822117204797194,0.04315358408194302,0.05024410977107824,0.050242880108449496,0.04075289020885151,0.047252773151212145,0.04293838531807183,0.041376904416304566,0.04895781019716825,0.034788033141803586,0.04185713059396017,0.04878155706726952,0.00028209999175022335,0.048597933765441303,0.0487910521140591,0.00028209999175022335,0.04882828759166541,0.00028209999175022335,0.028506588672833684,0.04881006227466208,0.04885276490143535,0.0487750408586884,0.041791421124331526,0.04860345442667228,0.00028209999175022335,0.00028209999175022335,0.04874261812230436,0.041512108219228315,0.00028209999175022335,0.04298627081117441,0.04499553174268527,0.00028209999175022335,0.014529632305233074,0.04871506386887579,0.00028209999175022335,0.04872931145581623,0.04864581368437048,0.00028209999175022335,0.04885928556935519,0.04874426584793011,0.00028209999175022335,0.048823106955005774,0.04883078482130113,0.04877147227294537,0.040976274088788144,0.00028209999175022335,0.04885410047335713,0.048751817737909375,0.00028209999175022335,0.04014466540467225,0.048799792417784864,0.00028209999175022335,0.04893435184627561,0.048665007792692436,0.00028209999175022335,0.04859417342813724,0.04882810698845047,0.04511204980189243,0.04509610766627008,0.00028209999175022335,0.00028209999175022335,0.038064981482594996,0.042910652691097624,0.00028209999175022335,0.04265200436123149,0.04880828188371183,0.04404566028312178,0.048800561653699226,0.04879377676996519,0.00028209999175022335,0.04893460937308202,0.04889354778292603,0.00028209999175022335,0.04321814527187332,0.04446097521276453,0.0490939259348427,0.04886683411483058,0.00028209999175022335,0.00028209999175022335,0.04903386979176919,0.00028209999175022335,0.04867334118176733,0.034494375659144934,0.04924621011957545,0.04930018149508038,0.048607454453428296,0.00028209999175022335,0.00028209999175022335,0.04841987906273442,0.04858919569138523,0.04267829104765305,0.00028209999175022335,0.039325401284734024,0.04087593451015122,0.048603843503968014,0.04293730281361824,0.04773155673281921,0.00028209999175022335,0.04929693286688461,0.04471223553334623,0.034200931109905894,0.04918416288180113,0.047654230686045435,0.00028209999175022335,0.04849309805862525,0.04948125294037464,0.04941583555742689,0.047599735338250355,0.00028209999175022335,0.048489839396917395,0.049406298146920054,0.042158245205651784,0.04827348566433931,0.047596452150179956,0.00028209999175022335,0.040494266405347965,0.04325721019315453,0.0412346370209819,0.04934878605653808,0.04451252516739061,0.04959732952505643,0.00028209999175022335,0.047590941522461065,0.048341058022682945,0.04940803394448374,0.04956472618545775,0.00028209999175022335,0.028335109264944706,0.04828541551002376,0.0495127269524639,0.04756424011754668,0.00028209999175022335,0.049441751003907033,0.04829822830475835,0.04760112999640838,0.00028209999175022335,0.04921266697435913,0.03858161035636673,0.04956969611836693,0.04905556893356988,0.04755193122807794,0.04958797494743398,0.04950411373988958,0.01577179891950238,0.00028209999175022335,0.047688533033664084,0.04961715017045649,0.04818482620842294,0.00028209999175022335,0.04919396896746053,0.04826015893082719,0.00028209999175022335,0.04765343692376816,0.04932080928077356,0.04831929867981105,0.04421155659903911,0.03876327377886464,0.048228187702480066,0.00028209999175022335,0.0493105873617864,0.04205334372359111,0.038777900409588735,0.04848251270353919,0.04982875582222217,0.04829151254077328,0.04398139340954174,0.04095023378082638,0.00028209999175022335,0.049566543365951704,0.04843801853746874,0.0491689520777156,0.00028209999175022335,0.04773450324082276,0.041523389231141586,0.04917590864598698,0.042786055425118166,0.04916852844054531,0.00028209999175022335,0.047877797398866065,0.00028209999175022335,0.048313802544942906,0.049451958430043595,0.03759886019304348,0.02829481245136515,0.04769446729855308,0.04915264985049877,0.00028209999175022335,0.04846619598347187,0.049175167280938806,0.0478032573239045,0.00028209999175022335,0.04511283464549178,0.04948785499122454,0.04819976945219049,0.031686913178905665,0.047631124622905384,0.00028209999175022335,0.04481447924958075,0.04950422187885134,0.04822362802872529,0.03911443108872375,0.04316793423367208,0.049351859655692554,0.04240938066475178,0.00028209999175022335,0.043069676051343264,0.04460478553925493,0.047653878398293034],\"type\":\"scatter\",\"xaxis\":\"x8\",\"yaxis\":\"y8\"},{\"marker\":{\"color\":[1,9,30,37,47,70,94,118,155,195,240,272,300,331,359,390,419,449,474,503,531,558,586],\"colorbar\":{\"title\":{\"text\":\"Trial\"},\"x\":1.0,\"xpad\":40},\"colorscale\":[[0.0,\"rgb(247,251,255)\"],[0.125,\"rgb(222,235,247)\"],[0.25,\"rgb(198,219,239)\"],[0.375,\"rgb(158,202,225)\"],[0.5,\"rgb(107,174,214)\"],[0.625,\"rgb(66,146,198)\"],[0.75,\"rgb(33,113,181)\"],[0.875,\"rgb(8,81,156)\"],[1.0,\"rgb(8,48,107)\"]],\"line\":{\"color\":\"Grey\",\"width\":0.5},\"showscale\":false},\"mode\":\"markers\",\"name\":\"Feasible Trial\",\"showlegend\":false,\"x\":[0.32270059557383357,1.2303564826790012,1.9478721458151993,0.13265596871599628,1.1272377819295536,1.9697540471760904,0.68328175705964,1.5034034722282184,0.6994420243962102,1.539836993078731,0.6871436320493574,0.02482438887548466,0.4188810514047818,1.524283550828847,0.8643136869944861,1.690110589670352,1.2131331281357889,0.9486931698424705,0.372034135192737,1.3566726138440257,0.5051956003050774,1.791910591256225,0.2621902142143995],\"y\":[0.02950565890072772,0.036433943816791194,0.03822558567838665,0.03706749431991632,0.041960781231533836,0.03795062174328781,0.036526392595712706,0.03889954670822616,0.036165744698402495,0.04067031886500772,0.03752938815644112,0.035521332361196284,0.041301690981208984,0.03830173891909947,0.035079569094106415,0.03648499432549027,0.041512108219228315,0.04511204980189243,0.034494375659144934,0.042158245205651784,0.04905556893356988,0.04095023378082638,0.031686913178905665],\"type\":\"scatter\",\"xaxis\":\"x9\",\"yaxis\":\"y9\"},{\"marker\":{\"color\":[1,9,30,37,47,70,94,118,155,195,240,272,300,331,359,390,419,449,474,503,531,558,586],\"colorbar\":{\"title\":{\"text\":\"Trial\"},\"x\":1.0,\"xpad\":40},\"colorscale\":[[0.0,\"rgb(247,251,255)\"],[0.125,\"rgb(222,235,247)\"],[0.25,\"rgb(198,219,239)\"],[0.375,\"rgb(158,202,225)\"],[0.5,\"rgb(107,174,214)\"],[0.625,\"rgb(66,146,198)\"],[0.75,\"rgb(33,113,181)\"],[0.875,\"rgb(8,81,156)\"],[1.0,\"rgb(8,48,107)\"]],\"line\":{\"color\":\"Grey\",\"width\":0.5},\"showscale\":false},\"mode\":\"markers\",\"name\":\"Feasible Trial\",\"showlegend\":false,\"x\":[1.755974280134404,0.08973139198772029,0.5442079468381121,1.9603667862892429,1.3051907215920802,0.9700403752320141,0.0024468586884378585,1.284385729850481,0.6051450396956476,1.5646358305346668,0.4548823816200258,0.8153567477413055,1.2946150095193443,0.34119954779799766,1.536676355051346,0.8262428946276577,0.27934768997721426,1.9729712539023916,1.0600866111332425,0.7293730271329065,1.0759397584780637,1.6490267604238833,0.2451427565611093],\"y\":[0.02950565890072772,0.036433943816791194,0.03822558567838665,0.03706749431991632,0.041960781231533836,0.03795062174328781,0.036526392595712706,0.03889954670822616,0.036165744698402495,0.04067031886500772,0.03752938815644112,0.035521332361196284,0.041301690981208984,0.03830173891909947,0.035079569094106415,0.03648499432549027,0.041512108219228315,0.04511204980189243,0.034494375659144934,0.042158245205651784,0.04905556893356988,0.04095023378082638,0.031686913178905665],\"type\":\"scatter\",\"xaxis\":\"x10\",\"yaxis\":\"y10\"}],                        {\"template\":{\"data\":{\"histogram2dcontour\":[{\"type\":\"histogram2dcontour\",\"colorbar\":{\"outlinewidth\":0,\"ticks\":\"\"},\"colorscale\":[[0.0,\"#0d0887\"],[0.1111111111111111,\"#46039f\"],[0.2222222222222222,\"#7201a8\"],[0.3333333333333333,\"#9c179e\"],[0.4444444444444444,\"#bd3786\"],[0.5555555555555556,\"#d8576b\"],[0.6666666666666666,\"#ed7953\"],[0.7777777777777778,\"#fb9f3a\"],[0.8888888888888888,\"#fdca26\"],[1.0,\"#f0f921\"]]}],\"choropleth\":[{\"type\":\"choropleth\",\"colorbar\":{\"outlinewidth\":0,\"ticks\":\"\"}}],\"histogram2d\":[{\"type\":\"histogram2d\",\"colorbar\":{\"outlinewidth\":0,\"ticks\":\"\"},\"colorscale\":[[0.0,\"#0d0887\"],[0.1111111111111111,\"#46039f\"],[0.2222222222222222,\"#7201a8\"],[0.3333333333333333,\"#9c179e\"],[0.4444444444444444,\"#bd3786\"],[0.5555555555555556,\"#d8576b\"],[0.6666666666666666,\"#ed7953\"],[0.7777777777777778,\"#fb9f3a\"],[0.8888888888888888,\"#fdca26\"],[1.0,\"#f0f921\"]]}],\"heatmap\":[{\"type\":\"heatmap\",\"colorbar\":{\"outlinewidth\":0,\"ticks\":\"\"},\"colorscale\":[[0.0,\"#0d0887\"],[0.1111111111111111,\"#46039f\"],[0.2222222222222222,\"#7201a8\"],[0.3333333333333333,\"#9c179e\"],[0.4444444444444444,\"#bd3786\"],[0.5555555555555556,\"#d8576b\"],[0.6666666666666666,\"#ed7953\"],[0.7777777777777778,\"#fb9f3a\"],[0.8888888888888888,\"#fdca26\"],[1.0,\"#f0f921\"]]}],\"heatmapgl\":[{\"type\":\"heatmapgl\",\"colorbar\":{\"outlinewidth\":0,\"ticks\":\"\"},\"colorscale\":[[0.0,\"#0d0887\"],[0.1111111111111111,\"#46039f\"],[0.2222222222222222,\"#7201a8\"],[0.3333333333333333,\"#9c179e\"],[0.4444444444444444,\"#bd3786\"],[0.5555555555555556,\"#d8576b\"],[0.6666666666666666,\"#ed7953\"],[0.7777777777777778,\"#fb9f3a\"],[0.8888888888888888,\"#fdca26\"],[1.0,\"#f0f921\"]]}],\"contourcarpet\":[{\"type\":\"contourcarpet\",\"colorbar\":{\"outlinewidth\":0,\"ticks\":\"\"}}],\"contour\":[{\"type\":\"contour\",\"colorbar\":{\"outlinewidth\":0,\"ticks\":\"\"},\"colorscale\":[[0.0,\"#0d0887\"],[0.1111111111111111,\"#46039f\"],[0.2222222222222222,\"#7201a8\"],[0.3333333333333333,\"#9c179e\"],[0.4444444444444444,\"#bd3786\"],[0.5555555555555556,\"#d8576b\"],[0.6666666666666666,\"#ed7953\"],[0.7777777777777778,\"#fb9f3a\"],[0.8888888888888888,\"#fdca26\"],[1.0,\"#f0f921\"]]}],\"surface\":[{\"type\":\"surface\",\"colorbar\":{\"outlinewidth\":0,\"ticks\":\"\"},\"colorscale\":[[0.0,\"#0d0887\"],[0.1111111111111111,\"#46039f\"],[0.2222222222222222,\"#7201a8\"],[0.3333333333333333,\"#9c179e\"],[0.4444444444444444,\"#bd3786\"],[0.5555555555555556,\"#d8576b\"],[0.6666666666666666,\"#ed7953\"],[0.7777777777777778,\"#fb9f3a\"],[0.8888888888888888,\"#fdca26\"],[1.0,\"#f0f921\"]]}],\"mesh3d\":[{\"type\":\"mesh3d\",\"colorbar\":{\"outlinewidth\":0,\"ticks\":\"\"}}],\"scatter\":[{\"fillpattern\":{\"fillmode\":\"overlay\",\"size\":10,\"solidity\":0.2},\"type\":\"scatter\"}],\"parcoords\":[{\"type\":\"parcoords\",\"line\":{\"colorbar\":{\"outlinewidth\":0,\"ticks\":\"\"}}}],\"scatterpolargl\":[{\"type\":\"scatterpolargl\",\"marker\":{\"colorbar\":{\"outlinewidth\":0,\"ticks\":\"\"}}}],\"bar\":[{\"error_x\":{\"color\":\"#2a3f5f\"},\"error_y\":{\"color\":\"#2a3f5f\"},\"marker\":{\"line\":{\"color\":\"#E5ECF6\",\"width\":0.5},\"pattern\":{\"fillmode\":\"overlay\",\"size\":10,\"solidity\":0.2}},\"type\":\"bar\"}],\"scattergeo\":[{\"type\":\"scattergeo\",\"marker\":{\"colorbar\":{\"outlinewidth\":0,\"ticks\":\"\"}}}],\"scatterpolar\":[{\"type\":\"scatterpolar\",\"marker\":{\"colorbar\":{\"outlinewidth\":0,\"ticks\":\"\"}}}],\"histogram\":[{\"marker\":{\"pattern\":{\"fillmode\":\"overlay\",\"size\":10,\"solidity\":0.2}},\"type\":\"histogram\"}],\"scattergl\":[{\"type\":\"scattergl\",\"marker\":{\"colorbar\":{\"outlinewidth\":0,\"ticks\":\"\"}}}],\"scatter3d\":[{\"type\":\"scatter3d\",\"line\":{\"colorbar\":{\"outlinewidth\":0,\"ticks\":\"\"}},\"marker\":{\"colorbar\":{\"outlinewidth\":0,\"ticks\":\"\"}}}],\"scattermapbox\":[{\"type\":\"scattermapbox\",\"marker\":{\"colorbar\":{\"outlinewidth\":0,\"ticks\":\"\"}}}],\"scatterternary\":[{\"type\":\"scatterternary\",\"marker\":{\"colorbar\":{\"outlinewidth\":0,\"ticks\":\"\"}}}],\"scattercarpet\":[{\"type\":\"scattercarpet\",\"marker\":{\"colorbar\":{\"outlinewidth\":0,\"ticks\":\"\"}}}],\"carpet\":[{\"aaxis\":{\"endlinecolor\":\"#2a3f5f\",\"gridcolor\":\"white\",\"linecolor\":\"white\",\"minorgridcolor\":\"white\",\"startlinecolor\":\"#2a3f5f\"},\"baxis\":{\"endlinecolor\":\"#2a3f5f\",\"gridcolor\":\"white\",\"linecolor\":\"white\",\"minorgridcolor\":\"white\",\"startlinecolor\":\"#2a3f5f\"},\"type\":\"carpet\"}],\"table\":[{\"cells\":{\"fill\":{\"color\":\"#EBF0F8\"},\"line\":{\"color\":\"white\"}},\"header\":{\"fill\":{\"color\":\"#C8D4E3\"},\"line\":{\"color\":\"white\"}},\"type\":\"table\"}],\"barpolar\":[{\"marker\":{\"line\":{\"color\":\"#E5ECF6\",\"width\":0.5},\"pattern\":{\"fillmode\":\"overlay\",\"size\":10,\"solidity\":0.2}},\"type\":\"barpolar\"}],\"pie\":[{\"automargin\":true,\"type\":\"pie\"}]},\"layout\":{\"autotypenumbers\":\"strict\",\"colorway\":[\"#636efa\",\"#EF553B\",\"#00cc96\",\"#ab63fa\",\"#FFA15A\",\"#19d3f3\",\"#FF6692\",\"#B6E880\",\"#FF97FF\",\"#FECB52\"],\"font\":{\"color\":\"#2a3f5f\"},\"hovermode\":\"closest\",\"hoverlabel\":{\"align\":\"left\"},\"paper_bgcolor\":\"white\",\"plot_bgcolor\":\"#E5ECF6\",\"polar\":{\"bgcolor\":\"#E5ECF6\",\"angularaxis\":{\"gridcolor\":\"white\",\"linecolor\":\"white\",\"ticks\":\"\"},\"radialaxis\":{\"gridcolor\":\"white\",\"linecolor\":\"white\",\"ticks\":\"\"}},\"ternary\":{\"bgcolor\":\"#E5ECF6\",\"aaxis\":{\"gridcolor\":\"white\",\"linecolor\":\"white\",\"ticks\":\"\"},\"baxis\":{\"gridcolor\":\"white\",\"linecolor\":\"white\",\"ticks\":\"\"},\"caxis\":{\"gridcolor\":\"white\",\"linecolor\":\"white\",\"ticks\":\"\"}},\"coloraxis\":{\"colorbar\":{\"outlinewidth\":0,\"ticks\":\"\"}},\"colorscale\":{\"sequential\":[[0.0,\"#0d0887\"],[0.1111111111111111,\"#46039f\"],[0.2222222222222222,\"#7201a8\"],[0.3333333333333333,\"#9c179e\"],[0.4444444444444444,\"#bd3786\"],[0.5555555555555556,\"#d8576b\"],[0.6666666666666666,\"#ed7953\"],[0.7777777777777778,\"#fb9f3a\"],[0.8888888888888888,\"#fdca26\"],[1.0,\"#f0f921\"]],\"sequentialminus\":[[0.0,\"#0d0887\"],[0.1111111111111111,\"#46039f\"],[0.2222222222222222,\"#7201a8\"],[0.3333333333333333,\"#9c179e\"],[0.4444444444444444,\"#bd3786\"],[0.5555555555555556,\"#d8576b\"],[0.6666666666666666,\"#ed7953\"],[0.7777777777777778,\"#fb9f3a\"],[0.8888888888888888,\"#fdca26\"],[1.0,\"#f0f921\"]],\"diverging\":[[0,\"#8e0152\"],[0.1,\"#c51b7d\"],[0.2,\"#de77ae\"],[0.3,\"#f1b6da\"],[0.4,\"#fde0ef\"],[0.5,\"#f7f7f7\"],[0.6,\"#e6f5d0\"],[0.7,\"#b8e186\"],[0.8,\"#7fbc41\"],[0.9,\"#4d9221\"],[1,\"#276419\"]]},\"xaxis\":{\"gridcolor\":\"white\",\"linecolor\":\"white\",\"ticks\":\"\",\"title\":{\"standoff\":15},\"zerolinecolor\":\"white\",\"automargin\":true,\"zerolinewidth\":2},\"yaxis\":{\"gridcolor\":\"white\",\"linecolor\":\"white\",\"ticks\":\"\",\"title\":{\"standoff\":15},\"zerolinecolor\":\"white\",\"automargin\":true,\"zerolinewidth\":2},\"scene\":{\"xaxis\":{\"backgroundcolor\":\"#E5ECF6\",\"gridcolor\":\"white\",\"linecolor\":\"white\",\"showbackground\":true,\"ticks\":\"\",\"zerolinecolor\":\"white\",\"gridwidth\":2},\"yaxis\":{\"backgroundcolor\":\"#E5ECF6\",\"gridcolor\":\"white\",\"linecolor\":\"white\",\"showbackground\":true,\"ticks\":\"\",\"zerolinecolor\":\"white\",\"gridwidth\":2},\"zaxis\":{\"backgroundcolor\":\"#E5ECF6\",\"gridcolor\":\"white\",\"linecolor\":\"white\",\"showbackground\":true,\"ticks\":\"\",\"zerolinecolor\":\"white\",\"gridwidth\":2}},\"shapedefaults\":{\"line\":{\"color\":\"#2a3f5f\"}},\"annotationdefaults\":{\"arrowcolor\":\"#2a3f5f\",\"arrowhead\":0,\"arrowwidth\":1},\"geo\":{\"bgcolor\":\"white\",\"landcolor\":\"#E5ECF6\",\"subunitcolor\":\"white\",\"showland\":true,\"showlakes\":true,\"lakecolor\":\"white\"},\"title\":{\"x\":0.05},\"mapbox\":{\"style\":\"light\"}}},\"xaxis\":{\"anchor\":\"y\",\"domain\":[0.0,0.082],\"title\":{\"text\":\"asymmetric_alpha\"}},\"yaxis\":{\"anchor\":\"x\",\"domain\":[0.0,1.0],\"title\":{\"text\":\"Objective Value\"}},\"xaxis2\":{\"anchor\":\"y2\",\"domain\":[0.10200000000000001,0.184],\"title\":{\"text\":\"feature_weighting\"},\"type\":\"category\",\"categoryorder\":\"array\",\"categoryarray\":[\"BM25\",\"TF-IDF\",\"none\"]},\"yaxis2\":{\"anchor\":\"x2\",\"domain\":[0.0,1.0],\"matches\":\"y\",\"showticklabels\":false},\"xaxis3\":{\"anchor\":\"y3\",\"domain\":[0.20400000000000001,0.28600000000000003],\"title\":{\"text\":\"normalize\"},\"type\":\"category\",\"categoryorder\":\"array\",\"categoryarray\":[true,false]},\"yaxis3\":{\"anchor\":\"x3\",\"domain\":[0.0,1.0],\"matches\":\"y\",\"showticklabels\":false},\"xaxis4\":{\"anchor\":\"y4\",\"domain\":[0.306,0.388],\"title\":{\"text\":\"normalize_avg_row\"},\"type\":\"category\",\"categoryorder\":\"array\",\"categoryarray\":[true,false]},\"yaxis4\":{\"anchor\":\"x4\",\"domain\":[0.0,1.0],\"matches\":\"y\",\"showticklabels\":false},\"xaxis5\":{\"anchor\":\"y5\",\"domain\":[0.40800000000000003,0.49000000000000005],\"title\":{\"text\":\"shrink\"}},\"yaxis5\":{\"anchor\":\"x5\",\"domain\":[0.0,1.0],\"matches\":\"y\",\"showticklabels\":false},\"xaxis6\":{\"anchor\":\"y6\",\"domain\":[0.51,0.592],\"title\":{\"text\":\"similarity\"},\"type\":\"category\",\"categoryorder\":\"array\",\"categoryarray\":[\"cosine\",\"dice\",\"jaccard\",\"asymmetric\",\"tversky\",\"euclidean\"]},\"yaxis6\":{\"anchor\":\"x6\",\"domain\":[0.0,1.0],\"matches\":\"y\",\"showticklabels\":false},\"xaxis7\":{\"anchor\":\"y7\",\"domain\":[0.6120000000000001,0.6940000000000001],\"title\":{\"text\":\"similarity_from_distance_mode\"},\"type\":\"category\",\"categoryorder\":\"array\",\"categoryarray\":[\"lin\",\"log\",\"exp\"]},\"yaxis7\":{\"anchor\":\"x7\",\"domain\":[0.0,1.0],\"matches\":\"y\",\"showticklabels\":false},\"xaxis8\":{\"anchor\":\"y8\",\"domain\":[0.7140000000000001,0.796],\"title\":{\"text\":\"topK\"}},\"yaxis8\":{\"anchor\":\"x8\",\"domain\":[0.0,1.0],\"matches\":\"y\",\"showticklabels\":false},\"xaxis9\":{\"anchor\":\"y9\",\"domain\":[0.8160000000000001,0.898],\"title\":{\"text\":\"tversky_alpha\"}},\"yaxis9\":{\"anchor\":\"x9\",\"domain\":[0.0,1.0],\"matches\":\"y\",\"showticklabels\":false},\"xaxis10\":{\"anchor\":\"y10\",\"domain\":[0.9179999999999999,0.9999999999999999],\"title\":{\"text\":\"tversky_beta\"}},\"yaxis10\":{\"anchor\":\"x10\",\"domain\":[0.0,1.0],\"matches\":\"y\",\"showticklabels\":false},\"title\":{\"text\":\"Slice Plot\"},\"width\":3000},                        {\"responsive\": true}                    ).then(function(){\n",
       "                            \n",
       "var gd = document.getElementById('78b4cda8-8f14-421b-879c-ead657b499d1');\n",
       "var x = new MutationObserver(function (mutations, observer) {{\n",
       "        var display = window.getComputedStyle(gd).display;\n",
       "        if (!display || display === 'none') {{\n",
       "            console.log([gd, 'removed!']);\n",
       "            Plotly.purge(gd);\n",
       "            observer.disconnect();\n",
       "        }}\n",
       "}});\n",
       "\n",
       "// Listen for the removal of the full notebook cells\n",
       "var notebookContainer = gd.closest('#notebook-container');\n",
       "if (notebookContainer) {{\n",
       "    x.observe(notebookContainer, {childList: true});\n",
       "}}\n",
       "\n",
       "// Listen for the clearing of the current output cell\n",
       "var outputEl = gd.closest('.output');\n",
       "if (outputEl) {{\n",
       "    x.observe(outputEl, {childList: true});\n",
       "}}\n",
       "\n",
       "                        })                };                });            </script>        </div>"
      ]
     },
     "metadata": {},
     "output_type": "display_data"
    }
   ],
   "source": [
    "if not config['tune_parameters']:\n",
    "    optuna_study = optuna.load_study(study_name=f'hyperparameters_tuning_{config[\"model\"]}', storage=f'sqlite:///{config[\"database_path\"]}')\n",
    "    \n",
    "fig = optuna.visualization.plot_slice(optuna_study)\n",
    "fig.show()"
   ]
  },
  {
   "cell_type": "code",
   "execution_count": 17,
   "id": "d719f924",
   "metadata": {
    "execution": {
     "iopub.execute_input": "2024-11-19T03:17:09.831474Z",
     "iopub.status.busy": "2024-11-19T03:17:09.830977Z",
     "iopub.status.idle": "2024-11-19T03:17:16.532459Z",
     "shell.execute_reply": "2024-11-19T03:17:16.531357Z"
    },
    "papermill": {
     "duration": 6.750307,
     "end_time": "2024-11-19T03:17:16.534804",
     "exception": false,
     "start_time": "2024-11-19T03:17:09.784497",
     "status": "completed"
    },
    "tags": []
   },
   "outputs": [
    {
     "data": {
      "text/html": [
       "<div>                            <div id=\"9caf94f1-b09f-4327-b98d-5e9bb4f81e0b\" class=\"plotly-graph-div\" style=\"height:525px; width:100%;\"></div>            <script type=\"text/javascript\">                require([\"plotly\"], function(Plotly) {                    window.PLOTLYENV=window.PLOTLYENV || {};                                    if (document.getElementById(\"9caf94f1-b09f-4327-b98d-5e9bb4f81e0b\")) {                    Plotly.newPlot(                        \"9caf94f1-b09f-4327-b98d-5e9bb4f81e0b\",                        [{\"cliponaxis\":false,\"hovertemplate\":[\"feature_weighting (CategoricalDistribution): 0.0872514560434383\\u003cextra\\u003e\\u003c\\u002fextra\\u003e\",\"similarity (CategoricalDistribution): 0.38440970330158547\\u003cextra\\u003e\\u003c\\u002fextra\\u003e\",\"shrink (IntDistribution): 0.5283388406549763\\u003cextra\\u003e\\u003c\\u002fextra\\u003e\"],\"name\":\"Objective Value\",\"orientation\":\"h\",\"text\":[\"0.09\",\"0.38\",\"0.53\"],\"textposition\":\"outside\",\"x\":[0.0872514560434383,0.38440970330158547,0.5283388406549763],\"y\":[\"feature_weighting\",\"similarity\",\"shrink\"],\"type\":\"bar\"}],                        {\"title\":{\"text\":\"Hyperparameter Importances\"},\"xaxis\":{\"title\":{\"text\":\"Hyperparameter Importance\"}},\"yaxis\":{\"title\":{\"text\":\"Hyperparameter\"}},\"template\":{\"data\":{\"histogram2dcontour\":[{\"type\":\"histogram2dcontour\",\"colorbar\":{\"outlinewidth\":0,\"ticks\":\"\"},\"colorscale\":[[0.0,\"#0d0887\"],[0.1111111111111111,\"#46039f\"],[0.2222222222222222,\"#7201a8\"],[0.3333333333333333,\"#9c179e\"],[0.4444444444444444,\"#bd3786\"],[0.5555555555555556,\"#d8576b\"],[0.6666666666666666,\"#ed7953\"],[0.7777777777777778,\"#fb9f3a\"],[0.8888888888888888,\"#fdca26\"],[1.0,\"#f0f921\"]]}],\"choropleth\":[{\"type\":\"choropleth\",\"colorbar\":{\"outlinewidth\":0,\"ticks\":\"\"}}],\"histogram2d\":[{\"type\":\"histogram2d\",\"colorbar\":{\"outlinewidth\":0,\"ticks\":\"\"},\"colorscale\":[[0.0,\"#0d0887\"],[0.1111111111111111,\"#46039f\"],[0.2222222222222222,\"#7201a8\"],[0.3333333333333333,\"#9c179e\"],[0.4444444444444444,\"#bd3786\"],[0.5555555555555556,\"#d8576b\"],[0.6666666666666666,\"#ed7953\"],[0.7777777777777778,\"#fb9f3a\"],[0.8888888888888888,\"#fdca26\"],[1.0,\"#f0f921\"]]}],\"heatmap\":[{\"type\":\"heatmap\",\"colorbar\":{\"outlinewidth\":0,\"ticks\":\"\"},\"colorscale\":[[0.0,\"#0d0887\"],[0.1111111111111111,\"#46039f\"],[0.2222222222222222,\"#7201a8\"],[0.3333333333333333,\"#9c179e\"],[0.4444444444444444,\"#bd3786\"],[0.5555555555555556,\"#d8576b\"],[0.6666666666666666,\"#ed7953\"],[0.7777777777777778,\"#fb9f3a\"],[0.8888888888888888,\"#fdca26\"],[1.0,\"#f0f921\"]]}],\"heatmapgl\":[{\"type\":\"heatmapgl\",\"colorbar\":{\"outlinewidth\":0,\"ticks\":\"\"},\"colorscale\":[[0.0,\"#0d0887\"],[0.1111111111111111,\"#46039f\"],[0.2222222222222222,\"#7201a8\"],[0.3333333333333333,\"#9c179e\"],[0.4444444444444444,\"#bd3786\"],[0.5555555555555556,\"#d8576b\"],[0.6666666666666666,\"#ed7953\"],[0.7777777777777778,\"#fb9f3a\"],[0.8888888888888888,\"#fdca26\"],[1.0,\"#f0f921\"]]}],\"contourcarpet\":[{\"type\":\"contourcarpet\",\"colorbar\":{\"outlinewidth\":0,\"ticks\":\"\"}}],\"contour\":[{\"type\":\"contour\",\"colorbar\":{\"outlinewidth\":0,\"ticks\":\"\"},\"colorscale\":[[0.0,\"#0d0887\"],[0.1111111111111111,\"#46039f\"],[0.2222222222222222,\"#7201a8\"],[0.3333333333333333,\"#9c179e\"],[0.4444444444444444,\"#bd3786\"],[0.5555555555555556,\"#d8576b\"],[0.6666666666666666,\"#ed7953\"],[0.7777777777777778,\"#fb9f3a\"],[0.8888888888888888,\"#fdca26\"],[1.0,\"#f0f921\"]]}],\"surface\":[{\"type\":\"surface\",\"colorbar\":{\"outlinewidth\":0,\"ticks\":\"\"},\"colorscale\":[[0.0,\"#0d0887\"],[0.1111111111111111,\"#46039f\"],[0.2222222222222222,\"#7201a8\"],[0.3333333333333333,\"#9c179e\"],[0.4444444444444444,\"#bd3786\"],[0.5555555555555556,\"#d8576b\"],[0.6666666666666666,\"#ed7953\"],[0.7777777777777778,\"#fb9f3a\"],[0.8888888888888888,\"#fdca26\"],[1.0,\"#f0f921\"]]}],\"mesh3d\":[{\"type\":\"mesh3d\",\"colorbar\":{\"outlinewidth\":0,\"ticks\":\"\"}}],\"scatter\":[{\"fillpattern\":{\"fillmode\":\"overlay\",\"size\":10,\"solidity\":0.2},\"type\":\"scatter\"}],\"parcoords\":[{\"type\":\"parcoords\",\"line\":{\"colorbar\":{\"outlinewidth\":0,\"ticks\":\"\"}}}],\"scatterpolargl\":[{\"type\":\"scatterpolargl\",\"marker\":{\"colorbar\":{\"outlinewidth\":0,\"ticks\":\"\"}}}],\"bar\":[{\"error_x\":{\"color\":\"#2a3f5f\"},\"error_y\":{\"color\":\"#2a3f5f\"},\"marker\":{\"line\":{\"color\":\"#E5ECF6\",\"width\":0.5},\"pattern\":{\"fillmode\":\"overlay\",\"size\":10,\"solidity\":0.2}},\"type\":\"bar\"}],\"scattergeo\":[{\"type\":\"scattergeo\",\"marker\":{\"colorbar\":{\"outlinewidth\":0,\"ticks\":\"\"}}}],\"scatterpolar\":[{\"type\":\"scatterpolar\",\"marker\":{\"colorbar\":{\"outlinewidth\":0,\"ticks\":\"\"}}}],\"histogram\":[{\"marker\":{\"pattern\":{\"fillmode\":\"overlay\",\"size\":10,\"solidity\":0.2}},\"type\":\"histogram\"}],\"scattergl\":[{\"type\":\"scattergl\",\"marker\":{\"colorbar\":{\"outlinewidth\":0,\"ticks\":\"\"}}}],\"scatter3d\":[{\"type\":\"scatter3d\",\"line\":{\"colorbar\":{\"outlinewidth\":0,\"ticks\":\"\"}},\"marker\":{\"colorbar\":{\"outlinewidth\":0,\"ticks\":\"\"}}}],\"scattermapbox\":[{\"type\":\"scattermapbox\",\"marker\":{\"colorbar\":{\"outlinewidth\":0,\"ticks\":\"\"}}}],\"scatterternary\":[{\"type\":\"scatterternary\",\"marker\":{\"colorbar\":{\"outlinewidth\":0,\"ticks\":\"\"}}}],\"scattercarpet\":[{\"type\":\"scattercarpet\",\"marker\":{\"colorbar\":{\"outlinewidth\":0,\"ticks\":\"\"}}}],\"carpet\":[{\"aaxis\":{\"endlinecolor\":\"#2a3f5f\",\"gridcolor\":\"white\",\"linecolor\":\"white\",\"minorgridcolor\":\"white\",\"startlinecolor\":\"#2a3f5f\"},\"baxis\":{\"endlinecolor\":\"#2a3f5f\",\"gridcolor\":\"white\",\"linecolor\":\"white\",\"minorgridcolor\":\"white\",\"startlinecolor\":\"#2a3f5f\"},\"type\":\"carpet\"}],\"table\":[{\"cells\":{\"fill\":{\"color\":\"#EBF0F8\"},\"line\":{\"color\":\"white\"}},\"header\":{\"fill\":{\"color\":\"#C8D4E3\"},\"line\":{\"color\":\"white\"}},\"type\":\"table\"}],\"barpolar\":[{\"marker\":{\"line\":{\"color\":\"#E5ECF6\",\"width\":0.5},\"pattern\":{\"fillmode\":\"overlay\",\"size\":10,\"solidity\":0.2}},\"type\":\"barpolar\"}],\"pie\":[{\"automargin\":true,\"type\":\"pie\"}]},\"layout\":{\"autotypenumbers\":\"strict\",\"colorway\":[\"#636efa\",\"#EF553B\",\"#00cc96\",\"#ab63fa\",\"#FFA15A\",\"#19d3f3\",\"#FF6692\",\"#B6E880\",\"#FF97FF\",\"#FECB52\"],\"font\":{\"color\":\"#2a3f5f\"},\"hovermode\":\"closest\",\"hoverlabel\":{\"align\":\"left\"},\"paper_bgcolor\":\"white\",\"plot_bgcolor\":\"#E5ECF6\",\"polar\":{\"bgcolor\":\"#E5ECF6\",\"angularaxis\":{\"gridcolor\":\"white\",\"linecolor\":\"white\",\"ticks\":\"\"},\"radialaxis\":{\"gridcolor\":\"white\",\"linecolor\":\"white\",\"ticks\":\"\"}},\"ternary\":{\"bgcolor\":\"#E5ECF6\",\"aaxis\":{\"gridcolor\":\"white\",\"linecolor\":\"white\",\"ticks\":\"\"},\"baxis\":{\"gridcolor\":\"white\",\"linecolor\":\"white\",\"ticks\":\"\"},\"caxis\":{\"gridcolor\":\"white\",\"linecolor\":\"white\",\"ticks\":\"\"}},\"coloraxis\":{\"colorbar\":{\"outlinewidth\":0,\"ticks\":\"\"}},\"colorscale\":{\"sequential\":[[0.0,\"#0d0887\"],[0.1111111111111111,\"#46039f\"],[0.2222222222222222,\"#7201a8\"],[0.3333333333333333,\"#9c179e\"],[0.4444444444444444,\"#bd3786\"],[0.5555555555555556,\"#d8576b\"],[0.6666666666666666,\"#ed7953\"],[0.7777777777777778,\"#fb9f3a\"],[0.8888888888888888,\"#fdca26\"],[1.0,\"#f0f921\"]],\"sequentialminus\":[[0.0,\"#0d0887\"],[0.1111111111111111,\"#46039f\"],[0.2222222222222222,\"#7201a8\"],[0.3333333333333333,\"#9c179e\"],[0.4444444444444444,\"#bd3786\"],[0.5555555555555556,\"#d8576b\"],[0.6666666666666666,\"#ed7953\"],[0.7777777777777778,\"#fb9f3a\"],[0.8888888888888888,\"#fdca26\"],[1.0,\"#f0f921\"]],\"diverging\":[[0,\"#8e0152\"],[0.1,\"#c51b7d\"],[0.2,\"#de77ae\"],[0.3,\"#f1b6da\"],[0.4,\"#fde0ef\"],[0.5,\"#f7f7f7\"],[0.6,\"#e6f5d0\"],[0.7,\"#b8e186\"],[0.8,\"#7fbc41\"],[0.9,\"#4d9221\"],[1,\"#276419\"]]},\"xaxis\":{\"gridcolor\":\"white\",\"linecolor\":\"white\",\"ticks\":\"\",\"title\":{\"standoff\":15},\"zerolinecolor\":\"white\",\"automargin\":true,\"zerolinewidth\":2},\"yaxis\":{\"gridcolor\":\"white\",\"linecolor\":\"white\",\"ticks\":\"\",\"title\":{\"standoff\":15},\"zerolinecolor\":\"white\",\"automargin\":true,\"zerolinewidth\":2},\"scene\":{\"xaxis\":{\"backgroundcolor\":\"#E5ECF6\",\"gridcolor\":\"white\",\"linecolor\":\"white\",\"showbackground\":true,\"ticks\":\"\",\"zerolinecolor\":\"white\",\"gridwidth\":2},\"yaxis\":{\"backgroundcolor\":\"#E5ECF6\",\"gridcolor\":\"white\",\"linecolor\":\"white\",\"showbackground\":true,\"ticks\":\"\",\"zerolinecolor\":\"white\",\"gridwidth\":2},\"zaxis\":{\"backgroundcolor\":\"#E5ECF6\",\"gridcolor\":\"white\",\"linecolor\":\"white\",\"showbackground\":true,\"ticks\":\"\",\"zerolinecolor\":\"white\",\"gridwidth\":2}},\"shapedefaults\":{\"line\":{\"color\":\"#2a3f5f\"}},\"annotationdefaults\":{\"arrowcolor\":\"#2a3f5f\",\"arrowhead\":0,\"arrowwidth\":1},\"geo\":{\"bgcolor\":\"white\",\"landcolor\":\"#E5ECF6\",\"subunitcolor\":\"white\",\"showland\":true,\"showlakes\":true,\"lakecolor\":\"white\"},\"title\":{\"x\":0.05},\"mapbox\":{\"style\":\"light\"}}}},                        {\"responsive\": true}                    ).then(function(){\n",
       "                            \n",
       "var gd = document.getElementById('9caf94f1-b09f-4327-b98d-5e9bb4f81e0b');\n",
       "var x = new MutationObserver(function (mutations, observer) {{\n",
       "        var display = window.getComputedStyle(gd).display;\n",
       "        if (!display || display === 'none') {{\n",
       "            console.log([gd, 'removed!']);\n",
       "            Plotly.purge(gd);\n",
       "            observer.disconnect();\n",
       "        }}\n",
       "}});\n",
       "\n",
       "// Listen for the removal of the full notebook cells\n",
       "var notebookContainer = gd.closest('#notebook-container');\n",
       "if (notebookContainer) {{\n",
       "    x.observe(notebookContainer, {childList: true});\n",
       "}}\n",
       "\n",
       "// Listen for the clearing of the current output cell\n",
       "var outputEl = gd.closest('.output');\n",
       "if (outputEl) {{\n",
       "    x.observe(outputEl, {childList: true});\n",
       "}}\n",
       "\n",
       "                        })                };                });            </script>        </div>"
      ]
     },
     "metadata": {},
     "output_type": "display_data"
    }
   ],
   "source": [
    "if not config['tune_parameters']:\n",
    "    optuna_study = optuna.load_study(study_name=f'hyperparameters_tuning_{config[\"model\"]}', storage=f'sqlite:///{config[\"database_path\"]}')\n",
    "    \n",
    "fig = optuna.visualization.plot_param_importances(optuna_study)\n",
    "fig.show()"
   ]
  },
  {
   "cell_type": "markdown",
   "id": "d472bda5",
   "metadata": {
    "papermill": {
     "duration": 0.044937,
     "end_time": "2024-11-19T03:17:16.626806",
     "exception": false,
     "start_time": "2024-11-19T03:17:16.581869",
     "status": "completed"
    },
    "tags": []
   },
   "source": [
    "## Let's train the recommender with best parameter values"
   ]
  },
  {
   "cell_type": "code",
   "execution_count": null,
   "id": "8887f5aa",
   "metadata": {
    "execution": {
     "iopub.execute_input": "2024-11-19T03:17:16.718218Z",
     "iopub.status.busy": "2024-11-19T03:17:16.717826Z",
     "iopub.status.idle": "2024-11-19T03:17:31.508830Z",
     "shell.execute_reply": "2024-11-19T03:17:31.507833Z"
    },
    "papermill": {
     "duration": 14.839788,
     "end_time": "2024-11-19T03:17:31.511294",
     "exception": false,
     "start_time": "2024-11-19T03:17:16.671506",
     "status": "completed"
    },
    "tags": []
   },
   "outputs": [
    {
     "name": "stdout",
     "output_type": "stream",
     "text": [
      "Similarity column 38121 (100.0%), 2635.18 column/sec. Elapsed time 14.47 sec\n"
     ]
    }
   ],
   "source": [
    "if config['tune_best_params']:\n",
    "\n",
    "    if config['tune_parameters']:\n",
    "        best_params = optuna_study.best_trial.params\n",
    "    else: \n",
    "        with open(f'{K_PATH}/{GH_PATH}/{config[\"model\"]}Recommender/best_params_{config[\"model\"]}.json', 'r') as best_params_json:\n",
    "            best_params = json.load(best_params_json)\n",
    "\n",
    "    recommender_instance = ItemKNNCFRecommender(URM_train + URM_validation)\n",
    "    recommender_instance.fit(**best_params)"
   ]
  },
  {
   "cell_type": "markdown",
   "id": "2b398a2f",
   "metadata": {
    "papermill": {
     "duration": 0.044839,
     "end_time": "2024-11-19T03:17:31.601655",
     "exception": false,
     "start_time": "2024-11-19T03:17:31.556816",
     "status": "completed"
    },
    "tags": []
   },
   "source": [
    "# Testing"
   ]
  },
  {
   "cell_type": "markdown",
   "id": "4e12591f",
   "metadata": {
    "papermill": {
     "duration": 0.044501,
     "end_time": "2024-11-19T03:17:31.691195",
     "exception": false,
     "start_time": "2024-11-19T03:17:31.646694",
     "status": "completed"
    },
    "tags": []
   },
   "source": [
    "Create the recommendations for the submission. "
   ]
  },
  {
   "cell_type": "code",
   "execution_count": null,
   "id": "e7053743",
   "metadata": {
    "execution": {
     "iopub.execute_input": "2024-11-19T03:17:31.886958Z",
     "iopub.status.busy": "2024-11-19T03:17:31.886550Z",
     "iopub.status.idle": "2024-11-19T03:17:51.096095Z",
     "shell.execute_reply": "2024-11-19T03:17:51.094808Z"
    },
    "papermill": {
     "duration": 19.260595,
     "end_time": "2024-11-19T03:17:51.098534",
     "exception": false,
     "start_time": "2024-11-19T03:17:31.837939",
     "status": "completed"
    },
    "tags": []
   },
   "outputs": [
    {
     "name": "stdout",
     "output_type": "stream",
     "text": [
      "Submission file saved as /kaggle/working/submission_ItemKNNCF.csv\n"
     ]
    }
   ],
   "source": [
    "if config['tune_best_params']:\n",
    "\n",
    "    data_target_users_test = pd.read_csv('/kaggle/input/recommender-system-2024-challenge-polimi/data_target_users_test.csv')\n",
    "    create_submission(data_target_users_test, recommender_instance, f'/kaggle/working/submission_{config[\"model\"]}.csv')"
   ]
  },
  {
   "cell_type": "markdown",
   "id": "a126fed5",
   "metadata": {
    "execution": {
     "iopub.execute_input": "2024-11-14T00:04:16.877791Z",
     "iopub.status.busy": "2024-11-14T00:04:16.877275Z",
     "iopub.status.idle": "2024-11-14T00:04:16.883170Z",
     "shell.execute_reply": "2024-11-14T00:04:16.881889Z",
     "shell.execute_reply.started": "2024-11-14T00:04:16.877743Z"
    },
    "papermill": {
     "duration": 0.045027,
     "end_time": "2024-11-19T03:17:51.189351",
     "exception": false,
     "start_time": "2024-11-19T03:17:51.144324",
     "status": "completed"
    },
    "tags": []
   },
   "source": [
    "# Save Version on GitHub "
   ]
  },
  {
   "cell_type": "markdown",
   "id": "e4aa1b27",
   "metadata": {
    "papermill": {
     "duration": 0.045405,
     "end_time": "2024-11-19T03:17:51.279990",
     "exception": false,
     "start_time": "2024-11-19T03:17:51.234585",
     "status": "completed"
    },
    "tags": []
   },
   "source": [
    "Write or import a json file where best hyperparameters are saved. "
   ]
  },
  {
   "cell_type": "code",
   "execution_count": null,
   "id": "2eee27d7",
   "metadata": {
    "execution": {
     "iopub.execute_input": "2024-11-19T03:17:51.373097Z",
     "iopub.status.busy": "2024-11-19T03:17:51.372661Z",
     "iopub.status.idle": "2024-11-19T03:17:52.748132Z",
     "shell.execute_reply": "2024-11-19T03:17:52.746775Z"
    },
    "papermill": {
     "duration": 1.424502,
     "end_time": "2024-11-19T03:17:52.750207",
     "exception": false,
     "start_time": "2024-11-19T03:17:51.325705",
     "status": "completed"
    },
    "tags": []
   },
   "outputs": [
    {
     "name": "stdout",
     "output_type": "stream",
     "text": [
      "File 'TrainedModels/ItemKNNCFRecommender/best_params_ItemKNNCF.json' updated successfully.\n"
     ]
    }
   ],
   "source": [
    "if config['tune_parameters']:\n",
    "    with open(f'/kaggle/working/best_params_{config[\"model\"]}.json', 'w') as params_file:\n",
    "        json.dump(optuna_study.best_params, params_file)\n",
    "        \n",
    "    if config['save_github']:\n",
    "        upload_file(\n",
    "            f'/kaggle/working/best_params_{config[\"model\"]}.json', \n",
    "            f'{GH_PATH}/{config[\"model\"]}Recommender/best_params_{config[\"model\"]}.json', \n",
    "            f'{config[\"model\"]} tuning results (from kaggle notebook)'\n",
    "        )\n",
    "elif config['copy_prev_best_params']:\n",
    "    shutil.copyfile(\n",
    "        f'{K_PATH}/{GH_PATH}/{config[\"model\"]}Recommender/'\\\n",
    "        f'best_params_{config[\"model\"]}.json', \n",
    "        f'/kaggle/working/best_params_{config[\"model\"]}.json'\n",
    "    )"
   ]
  },
  {
   "cell_type": "markdown",
   "id": "34289de9",
   "metadata": {
    "papermill": {
     "duration": 0.046414,
     "end_time": "2024-11-19T03:17:52.843017",
     "exception": false,
     "start_time": "2024-11-19T03:17:52.796603",
     "status": "completed"
    },
    "tags": []
   },
   "source": [
    "Save the history of the tuned model."
   ]
  },
  {
   "cell_type": "code",
   "execution_count": null,
   "id": "3b274ceb",
   "metadata": {
    "execution": {
     "iopub.execute_input": "2024-11-19T03:17:52.936552Z",
     "iopub.status.busy": "2024-11-19T03:17:52.936153Z",
     "iopub.status.idle": "2024-11-19T03:17:55.370351Z",
     "shell.execute_reply": "2024-11-19T03:17:55.369138Z"
    },
    "papermill": {
     "duration": 2.483547,
     "end_time": "2024-11-19T03:17:55.372658",
     "exception": false,
     "start_time": "2024-11-19T03:17:52.889111",
     "status": "completed"
    },
    "tags": []
   },
   "outputs": [
    {
     "name": "stdout",
     "output_type": "stream",
     "text": [
      "File 'TrainedModels/ItemKNNCFRecommender/history_ItemKNNCF.db' updated successfully.\n"
     ]
    }
   ],
   "source": [
    "if config['save_github'] and config['tune_parameters']:\n",
    "    upload_file(\n",
    "        config['database_path'], \n",
    "        f'{GH_PATH}/{config[\"model\"]}Recommender/history_{config[\"model\"]}.db',\n",
    "        f'Tuning {config[\"model\"]} db updated results (from kaggle notebook)',\n",
    "        repo\n",
    "    )"
   ]
  },
  {
   "cell_type": "markdown",
   "id": "6416e77c",
   "metadata": {
    "execution": {
     "iopub.execute_input": "2024-11-14T00:41:34.294243Z",
     "iopub.status.busy": "2024-11-14T00:41:34.293739Z",
     "iopub.status.idle": "2024-11-14T00:41:34.301478Z",
     "shell.execute_reply": "2024-11-14T00:41:34.299869Z",
     "shell.execute_reply.started": "2024-11-14T00:41:34.294186Z"
    },
    "papermill": {
     "duration": 0.045291,
     "end_time": "2024-11-19T03:17:55.466964",
     "exception": false,
     "start_time": "2024-11-19T03:17:55.421673",
     "status": "completed"
    },
    "tags": []
   },
   "source": [
    "Save the best trained model and its submission."
   ]
  },
  {
   "cell_type": "code",
   "execution_count": null,
   "id": "911f9c8e",
   "metadata": {
    "execution": {
     "iopub.execute_input": "2024-11-19T03:17:55.561186Z",
     "iopub.status.busy": "2024-11-19T03:17:55.560793Z",
     "iopub.status.idle": "2024-11-19T03:18:00.878073Z",
     "shell.execute_reply": "2024-11-19T03:18:00.876889Z"
    },
    "papermill": {
     "duration": 5.368387,
     "end_time": "2024-11-19T03:18:00.880624",
     "exception": false,
     "start_time": "2024-11-19T03:17:55.512237",
     "status": "completed"
    },
    "tags": []
   },
   "outputs": [
    {
     "name": "stdout",
     "output_type": "stream",
     "text": [
      "File 'TrainedModels/ItemKNNCFRecommender/Submission/submission_ItemKNNCF.csv' updated successfully.\n",
      "ItemKNNCFRecommender: Saving model in file '/kaggle/working/best_ItemKNNCF_tuned'\n",
      "ItemKNNCFRecommender: Saving complete\n",
      "File 'TrainedModels/ItemKNNCFRecommender/best_ItemKNNCF_tuned.zip' updated successfully.\n"
     ]
    }
   ],
   "source": [
    "if config['save_github'] and config['tune_best_params']: \n",
    "    upload_file(\n",
    "                f'/kaggle/working/submission_{config[\"model\"]}.csv', \n",
    "                f'{GH_PATH}/{config[\"model\"]}Recommender/Submission/submission_{config[\"model\"]}.csv', \n",
    "                f'New {config[\"model\"]} submission (from kaggle notebook)',\n",
    "                repo\n",
    "            )"
   ]
  }
 ],
 "metadata": {
  "kaggle": {
   "accelerator": "none",
   "dataSources": [
    {
     "databundleVersionId": 9982103,
     "sourceId": 87439,
     "sourceType": "competition"
    }
   ],
   "dockerImageVersionId": 30786,
   "isGpuEnabled": false,
   "isInternetEnabled": true,
   "language": "python",
   "sourceType": "notebook"
  },
  "kernelspec": {
   "display_name": "Python 3",
   "language": "python",
   "name": "python3"
  },
  "language_info": {
   "codemirror_mode": {
    "name": "ipython",
    "version": 3
   },
   "file_extension": ".py",
   "mimetype": "text/x-python",
   "name": "python",
   "nbconvert_exporter": "python",
   "pygments_lexer": "ipython3",
   "version": "3.10.14"
  },
  "papermill": {
   "default_parameters": {},
   "duration": 9501.165279,
   "end_time": "2024-11-19T03:18:01.951012",
   "environment_variables": {},
   "exception": null,
   "input_path": "__notebook__.ipynb",
   "output_path": "__notebook__.ipynb",
   "parameters": {},
   "start_time": "2024-11-19T00:39:40.785733",
   "version": "2.6.0"
  }
 },
 "nbformat": 4,
 "nbformat_minor": 5
}
