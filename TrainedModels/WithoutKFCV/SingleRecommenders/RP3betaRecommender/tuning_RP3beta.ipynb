{
 "cells": [
  {
   "cell_type": "markdown",
   "id": "1509bfba",
   "metadata": {
    "papermill": {
     "duration": 0.007474,
     "end_time": "2024-11-19T00:42:11.247551",
     "exception": false,
     "start_time": "2024-11-19T00:42:11.240077",
     "status": "completed"
    },
    "tags": []
   },
   "source": [
    "# Set connection with GitHub"
   ]
  },
  {
   "cell_type": "code",
   "execution_count": 1,
   "id": "904f92f0",
   "metadata": {
    "execution": {
     "iopub.execute_input": "2024-11-19T00:42:11.263049Z",
     "iopub.status.busy": "2024-11-19T00:42:11.262621Z",
     "iopub.status.idle": "2024-11-19T00:42:11.268102Z",
     "shell.execute_reply": "2024-11-19T00:42:11.267106Z"
    },
    "papermill": {
     "duration": 0.015338,
     "end_time": "2024-11-19T00:42:11.270205",
     "exception": false,
     "start_time": "2024-11-19T00:42:11.254867",
     "status": "completed"
    },
    "tags": []
   },
   "outputs": [],
   "source": [
    "# ! cd /kaggle/working && rm -rf RECsys_Challenge2024"
   ]
  },
  {
   "cell_type": "code",
   "execution_count": 2,
   "id": "1892de0b",
   "metadata": {
    "_cell_guid": "b1076dfc-b9ad-4769-8c92-a6c4dae69d19",
    "_uuid": "8f2839f25d086af736a60e9eeb907d3b93b6e0e5",
    "execution": {
     "iopub.execute_input": "2024-11-19T00:42:11.284533Z",
     "iopub.status.busy": "2024-11-19T00:42:11.284145Z",
     "iopub.status.idle": "2024-11-19T00:42:21.432719Z",
     "shell.execute_reply": "2024-11-19T00:42:21.431427Z"
    },
    "papermill": {
     "duration": 10.15881,
     "end_time": "2024-11-19T00:42:21.435339",
     "exception": false,
     "start_time": "2024-11-19T00:42:11.276529",
     "status": "completed"
    },
    "tags": []
   },
   "outputs": [
    {
     "name": "stdout",
     "output_type": "stream",
     "text": [
      "Cloning into 'RECsys_Challenge2024'...\r\n",
      "remote: Enumerating objects: 2029, done.\u001b[K\r\n",
      "remote: Counting objects: 100% (411/411), done.\u001b[K\r\n",
      "remote: Compressing objects: 100% (215/215), done.\u001b[K\r\n",
      "remote: Total 2029 (delta 248), reused 323 (delta 188), pack-reused 1618 (from 1)\u001b[K\r\n",
      "Receiving objects: 100% (2029/2029), 141.68 MiB | 31.20 MiB/s, done.\r\n",
      "Resolving deltas: 100% (1193/1193), done.\r\n",
      "Updating files: 100% (238/238), done.\r\n"
     ]
    }
   ],
   "source": [
    "from kaggle_secrets import UserSecretsClient\n",
    "\n",
    "token = UserSecretsClient().get_secret(\"Token\")\n",
    "\n",
    "! git clone https://{token}@github.com/madratak/RECsys_Challenge2024.git"
   ]
  },
  {
   "cell_type": "code",
   "execution_count": 3,
   "id": "419fbc47",
   "metadata": {
    "execution": {
     "iopub.execute_input": "2024-11-19T00:42:21.456390Z",
     "iopub.status.busy": "2024-11-19T00:42:21.455958Z",
     "iopub.status.idle": "2024-11-19T00:42:34.527509Z",
     "shell.execute_reply": "2024-11-19T00:42:34.526002Z"
    },
    "papermill": {
     "duration": 13.085728,
     "end_time": "2024-11-19T00:42:34.530124",
     "exception": false,
     "start_time": "2024-11-19T00:42:21.444396",
     "status": "completed"
    },
    "tags": []
   },
   "outputs": [
    {
     "name": "stdout",
     "output_type": "stream",
     "text": [
      "Collecting PyGithub\r\n",
      "  Downloading PyGithub-2.5.0-py3-none-any.whl.metadata (3.9 kB)\r\n",
      "Requirement already satisfied: requests in /opt/conda/lib/python3.10/site-packages (2.32.3)\r\n",
      "Collecting pynacl>=1.4.0 (from PyGithub)\r\n",
      "  Downloading PyNaCl-1.5.0-cp36-abi3-manylinux_2_17_x86_64.manylinux2014_x86_64.manylinux_2_24_x86_64.whl.metadata (8.6 kB)\r\n",
      "Requirement already satisfied: pyjwt>=2.4.0 in /opt/conda/lib/python3.10/site-packages (from pyjwt[crypto]>=2.4.0->PyGithub) (2.8.0)\r\n",
      "Requirement already satisfied: typing-extensions>=4.0.0 in /opt/conda/lib/python3.10/site-packages (from PyGithub) (4.12.2)\r\n",
      "Requirement already satisfied: urllib3>=1.26.0 in /opt/conda/lib/python3.10/site-packages (from PyGithub) (1.26.18)\r\n",
      "Requirement already satisfied: Deprecated in /opt/conda/lib/python3.10/site-packages (from PyGithub) (1.2.14)\r\n",
      "Requirement already satisfied: charset-normalizer<4,>=2 in /opt/conda/lib/python3.10/site-packages (from requests) (3.3.2)\r\n",
      "Requirement already satisfied: idna<4,>=2.5 in /opt/conda/lib/python3.10/site-packages (from requests) (3.7)\r\n",
      "Requirement already satisfied: certifi>=2017.4.17 in /opt/conda/lib/python3.10/site-packages (from requests) (2024.8.30)\r\n",
      "Requirement already satisfied: cryptography>=3.4.0 in /opt/conda/lib/python3.10/site-packages (from pyjwt[crypto]>=2.4.0->PyGithub) (42.0.8)\r\n",
      "Requirement already satisfied: cffi>=1.4.1 in /opt/conda/lib/python3.10/site-packages (from pynacl>=1.4.0->PyGithub) (1.16.0)\r\n",
      "Requirement already satisfied: wrapt<2,>=1.10 in /opt/conda/lib/python3.10/site-packages (from Deprecated->PyGithub) (1.16.0)\r\n",
      "Requirement already satisfied: pycparser in /opt/conda/lib/python3.10/site-packages (from cffi>=1.4.1->pynacl>=1.4.0->PyGithub) (2.22)\r\n",
      "Downloading PyGithub-2.5.0-py3-none-any.whl (375 kB)\r\n",
      "\u001b[2K   \u001b[90m━━━━━━━━━━━━━━━━━━━━━━━━━━━━━━━━━━━━━━━━\u001b[0m \u001b[32m375.9/375.9 kB\u001b[0m \u001b[31m10.0 MB/s\u001b[0m eta \u001b[36m0:00:00\u001b[0m\r\n",
      "\u001b[?25hDownloading PyNaCl-1.5.0-cp36-abi3-manylinux_2_17_x86_64.manylinux2014_x86_64.manylinux_2_24_x86_64.whl (856 kB)\r\n",
      "\u001b[2K   \u001b[90m━━━━━━━━━━━━━━━━━━━━━━━━━━━━━━━━━━━━━━━━\u001b[0m \u001b[32m856.7/856.7 kB\u001b[0m \u001b[31m23.0 MB/s\u001b[0m eta \u001b[36m0:00:00\u001b[0m\r\n",
      "\u001b[?25hInstalling collected packages: pynacl, PyGithub\r\n",
      "Successfully installed PyGithub-2.5.0 pynacl-1.5.0\r\n"
     ]
    }
   ],
   "source": [
    "! pip install PyGithub requests"
   ]
  },
  {
   "cell_type": "code",
   "execution_count": 4,
   "id": "285a296c",
   "metadata": {
    "_kg_hide-input": false,
    "execution": {
     "iopub.execute_input": "2024-11-19T00:42:34.551982Z",
     "iopub.status.busy": "2024-11-19T00:42:34.551029Z",
     "iopub.status.idle": "2024-11-19T00:45:08.325998Z",
     "shell.execute_reply": "2024-11-19T00:45:08.324518Z"
    },
    "papermill": {
     "duration": 153.789157,
     "end_time": "2024-11-19T00:45:08.328917",
     "exception": false,
     "start_time": "2024-11-19T00:42:34.539760",
     "status": "completed"
    },
    "tags": []
   },
   "outputs": [
    {
     "name": "stdout",
     "output_type": "stream",
     "text": [
      "run_compile_all_cython: Found 11 Cython files in 5 folders...\r\n",
      "run_compile_all_cython: All files will be compiled using your current python environment: '/opt/conda/bin/python'\r\n",
      "Compiling [1/11]: MatrixFactorization_Cython_Epoch.pyx... \r\n",
      "In file included from \u001b[01m\u001b[K/opt/conda/lib/python3.10/site-packages/numpy/core/include/numpy/ndarraytypes.h:1929\u001b[m\u001b[K,\r\n",
      "                 from \u001b[01m\u001b[K/opt/conda/lib/python3.10/site-packages/numpy/core/include/numpy/ndarrayobject.h:12\u001b[m\u001b[K,\r\n",
      "                 from \u001b[01m\u001b[K/opt/conda/lib/python3.10/site-packages/numpy/core/include/numpy/arrayobject.h:5\u001b[m\u001b[K,\r\n",
      "                 from \u001b[01m\u001b[KMatrixFactorization_Cython_Epoch.c:1252\u001b[m\u001b[K:\r\n",
      "\u001b[01m\u001b[K/opt/conda/lib/python3.10/site-packages/numpy/core/include/numpy/npy_1_7_deprecated_api.h:17:2:\u001b[m\u001b[K \u001b[01;35m\u001b[Kwarning: \u001b[m\u001b[K#warning \"Using deprecated NumPy API, disable it with \" \"#define NPY_NO_DEPRECATED_API NPY_1_7_API_VERSION\" [\u001b[01;35m\u001b[K-Wcpp\u001b[m\u001b[K]\r\n",
      "   17 | #\u001b[01;35m\u001b[Kwarning\u001b[m\u001b[K \"Using deprecated NumPy API, disable it with \" \\\r\n",
      "      |  \u001b[01;35m\u001b[K^~~~~~~\u001b[m\u001b[K\r\n",
      "\u001b[01m\u001b[KMatrixFactorization_Cython_Epoch.c:\u001b[m\u001b[K In function '\u001b[01m\u001b[K__pyx_pf_32MatrixFactorization_Cython_Epoch_32MatrixFactorization_Cython_Epoch_10epochIteration_Cython_ASY_SVD_SGD\u001b[m\u001b[K':\r\n",
      "\u001b[01m\u001b[KMatrixFactorization_Cython_Epoch.c:26255:9:\u001b[m\u001b[K \u001b[01;35m\u001b[Kwarning: \u001b[m\u001b[K'\u001b[01m\u001b[K__pyx_v_end_pos_seen_items\u001b[m\u001b[K' may be used uninitialized in this function [\u001b[01;35m\u001b[K-Wmaybe-uninitialized\u001b[m\u001b[K]\r\n",
      "26255 |         \u001b[01;35m\u001b[Kfor\u001b[m\u001b[K (__pyx_t_21 = __pyx_v_start_pos_seen_items; __pyx_t_21 < __pyx_t_20; __pyx_t_21+=1) {\r\n",
      "      |         \u001b[01;35m\u001b[K^~~\u001b[m\u001b[K\r\n",
      "\u001b[01m\u001b[KMatrixFactorization_Cython_Epoch.c:26255:9:\u001b[m\u001b[K \u001b[01;35m\u001b[Kwarning: \u001b[m\u001b[K'\u001b[01m\u001b[K__pyx_v_start_pos_seen_items\u001b[m\u001b[K' may be used uninitialized in this function [\u001b[01;35m\u001b[K-Wmaybe-uninitialized\u001b[m\u001b[K]\r\n",
      "/opt/conda/lib/python3.10/site-packages/Cython/Compiler/Main.py:381: FutureWarning: Cython directive 'language_level' not set, using '3str' for now (Py3). This has changed from earlier releases! File: /kaggle/working/RECsys_Challenge2024/Recommenders/MatrixFactorization/Cython/MatrixFactorization_Cython_Epoch.pyx\r\n",
      "  tree = Parsing.p_module(s, pxd, full_module_name)\r\n",
      "Compiling [1/11]: MatrixFactorization_Cython_Epoch.pyx... PASS\r\n",
      "\r\n",
      "Compiling [2/11]: MatrixFactorizationImpressions_Cython_Epoch.pyx... \r\n",
      "In file included from \u001b[01m\u001b[K/opt/conda/lib/python3.10/site-packages/numpy/core/include/numpy/ndarraytypes.h:1929\u001b[m\u001b[K,\r\n",
      "                 from \u001b[01m\u001b[K/opt/conda/lib/python3.10/site-packages/numpy/core/include/numpy/ndarrayobject.h:12\u001b[m\u001b[K,\r\n",
      "                 from \u001b[01m\u001b[K/opt/conda/lib/python3.10/site-packages/numpy/core/include/numpy/arrayobject.h:5\u001b[m\u001b[K,\r\n",
      "                 from \u001b[01m\u001b[KMatrixFactorizationImpressions_Cython_Epoch.c:1252\u001b[m\u001b[K:\r\n",
      "\u001b[01m\u001b[K/opt/conda/lib/python3.10/site-packages/numpy/core/include/numpy/npy_1_7_deprecated_api.h:17:2:\u001b[m\u001b[K \u001b[01;35m\u001b[Kwarning: \u001b[m\u001b[K#warning \"Using deprecated NumPy API, disable it with \" \"#define NPY_NO_DEPRECATED_API NPY_1_7_API_VERSION\" [\u001b[01;35m\u001b[K-Wcpp\u001b[m\u001b[K]\r\n",
      "   17 | #\u001b[01;35m\u001b[Kwarning\u001b[m\u001b[K \"Using deprecated NumPy API, disable it with \" \\\r\n",
      "      |  \u001b[01;35m\u001b[K^~~~~~~\u001b[m\u001b[K\r\n",
      "\u001b[01m\u001b[KMatrixFactorizationImpressions_Cython_Epoch.c:\u001b[m\u001b[K In function '\u001b[01m\u001b[K__pyx_f_43MatrixFactorizationImpressions_Cython_Epoch_32MatrixFactorization_Cython_Epoch_sampleBPR_Cython\u001b[m\u001b[K':\r\n",
      "\u001b[01m\u001b[KMatrixFactorizationImpressions_Cython_Epoch.c:30351:17:\u001b[m\u001b[K \u001b[01;35m\u001b[Kwarning: \u001b[m\u001b[K'\u001b[01m\u001b[K__pyx_v_start_pos_impression_items\u001b[m\u001b[K' may be used uninitialized in this function [\u001b[01;35m\u001b[K-Wmaybe-uninitialized\u001b[m\u001b[K]\r\n",
      "30351 |       \u001b[01;35m\u001b[K__pyx_t_4 = (__pyx_v_start_pos_impression_items + __pyx_v_index)\u001b[m\u001b[K;\r\n",
      "      |       \u001b[01;35m\u001b[K~~~~~~~~~~^~~~~~~~~~~~~~~~~~~~~~~~~~~~~~~~~~~~~~~~~~~~~~~~~~~~~~\u001b[m\u001b[K\r\n",
      "\u001b[01m\u001b[KMatrixFactorizationImpressions_Cython_Epoch.c:\u001b[m\u001b[K In function '\u001b[01m\u001b[K__pyx_pf_43MatrixFactorizationImpressions_Cython_Epoch_32MatrixFactorization_Cython_Epoch_10epochIteration_Cython_ASY_SVD_SGD\u001b[m\u001b[K':\r\n",
      "\u001b[01m\u001b[KMatrixFactorizationImpressions_Cython_Epoch.c:26111:7:\u001b[m\u001b[K \u001b[01;35m\u001b[Kwarning: \u001b[m\u001b[K'\u001b[01m\u001b[K__pyx_v_end_pos_seen_items\u001b[m\u001b[K' may be used uninitialized in this function [\u001b[01;35m\u001b[K-Wmaybe-uninitialized\u001b[m\u001b[K]\r\n",
      "26111 |       \u001b[01;35m\u001b[Kfor\u001b[m\u001b[K (__pyx_t_21 = __pyx_v_start_pos_seen_items; __pyx_t_21 < __pyx_t_20; __pyx_t_21+=1) {\r\n",
      "      |       \u001b[01;35m\u001b[K^~~\u001b[m\u001b[K\r\n",
      "\u001b[01m\u001b[KMatrixFactorizationImpressions_Cython_Epoch.c:26111:7:\u001b[m\u001b[K \u001b[01;35m\u001b[Kwarning: \u001b[m\u001b[K'\u001b[01m\u001b[K__pyx_v_start_pos_seen_items\u001b[m\u001b[K' may be used uninitialized in this function [\u001b[01;35m\u001b[K-Wmaybe-uninitialized\u001b[m\u001b[K]\r\n",
      "/opt/conda/lib/python3.10/site-packages/Cython/Compiler/Main.py:381: FutureWarning: Cython directive 'language_level' not set, using '3str' for now (Py3). This has changed from earlier releases! File: /kaggle/working/RECsys_Challenge2024/Recommenders/MatrixFactorization/Cython/MatrixFactorizationImpressions_Cython_Epoch.pyx\r\n",
      "  tree = Parsing.p_module(s, pxd, full_module_name)\r\n",
      "Compiling [2/11]: MatrixFactorizationImpressions_Cython_Epoch.pyx... PASS\r\n",
      "\r\n",
      "Compiling [3/11]: Compute_Similarity_Cython.pyx... \r\n",
      "warning: Compute_Similarity_Cython.pyx:21:0: The 'IF' statement is deprecated and will be removed in a future Cython version. Consider using runtime conditions or C macros instead. See https://github.com/cython/cython/issues/4310\r\n",
      "In file included from \u001b[01m\u001b[K/opt/conda/lib/python3.10/site-packages/numpy/core/include/numpy/ndarraytypes.h:1929\u001b[m\u001b[K,\r\n",
      "                 from \u001b[01m\u001b[K/opt/conda/lib/python3.10/site-packages/numpy/core/include/numpy/ndarrayobject.h:12\u001b[m\u001b[K,\r\n",
      "                 from \u001b[01m\u001b[K/opt/conda/lib/python3.10/site-packages/numpy/core/include/numpy/arrayobject.h:5\u001b[m\u001b[K,\r\n",
      "                 from \u001b[01m\u001b[KCompute_Similarity_Cython.c:1252\u001b[m\u001b[K:\r\n",
      "\u001b[01m\u001b[K/opt/conda/lib/python3.10/site-packages/numpy/core/include/numpy/npy_1_7_deprecated_api.h:17:2:\u001b[m\u001b[K \u001b[01;35m\u001b[Kwarning: \u001b[m\u001b[K#warning \"Using deprecated NumPy API, disable it with \" \"#define NPY_NO_DEPRECATED_API NPY_1_7_API_VERSION\" [\u001b[01;35m\u001b[K-Wcpp\u001b[m\u001b[K]\r\n",
      "   17 | #\u001b[01;35m\u001b[Kwarning\u001b[m\u001b[K \"Using deprecated NumPy API, disable it with \" \\\r\n",
      "      |  \u001b[01;35m\u001b[K^~~~~~~\u001b[m\u001b[K\r\n",
      "/opt/conda/lib/python3.10/site-packages/Cython/Compiler/Main.py:381: FutureWarning: Cython directive 'language_level' not set, using '3str' for now (Py3). This has changed from earlier releases! File: /kaggle/working/RECsys_Challenge2024/Recommenders/Similarity/Cython/Compute_Similarity_Cython.pyx\r\n",
      "  tree = Parsing.p_module(s, pxd, full_module_name)\r\n",
      "warning: Compute_Similarity_Cython.pyx:21:0: The 'IF' statement is deprecated and will be removed in a future Cython version. Consider using runtime conditions or C macros instead. See https://github.com/cython/cython/issues/4310\r\n",
      "Compiling [3/11]: Compute_Similarity_Cython.pyx... PASS\r\n",
      "\r\n",
      "Compiling [4/11]: Sparse_Matrix_Tree_CSR.pyx... \r\n",
      "warning: Sparse_Matrix_Tree_CSR.pyx:132:34: Non-trivial type declarators in shared declaration (e.g. mix of pointers and values). Each pointer declaration should be on its own line.\r\n",
      "warning: Sparse_Matrix_Tree_CSR.pyx:132:66: Non-trivial type declarators in shared declaration (e.g. mix of pointers and values). Each pointer declaration should be on its own line.\r\n",
      "warning: Sparse_Matrix_Tree_CSR.pyx:343:35: Non-trivial type declarators in shared declaration (e.g. mix of pointers and values). Each pointer declaration should be on its own line.\r\n",
      "warning: Sparse_Matrix_Tree_CSR.pyx:343:52: Non-trivial type declarators in shared declaration (e.g. mix of pointers and values). Each pointer declaration should be on its own line.\r\n",
      "warning: Sparse_Matrix_Tree_CSR.pyx:442:35: Non-trivial type declarators in shared declaration (e.g. mix of pointers and values). Each pointer declaration should be on its own line.\r\n",
      "warning: Sparse_Matrix_Tree_CSR.pyx:442:53: Non-trivial type declarators in shared declaration (e.g. mix of pointers and values). Each pointer declaration should be on its own line.\r\n",
      "warning: Sparse_Matrix_Tree_CSR.pyx:442:69: Non-trivial type declarators in shared declaration (e.g. mix of pointers and values). Each pointer declaration should be on its own line.\r\n",
      "warning: Sparse_Matrix_Tree_CSR.pyx:577:35: Non-trivial type declarators in shared declaration (e.g. mix of pointers and values). Each pointer declaration should be on its own line.\r\n",
      "warning: Sparse_Matrix_Tree_CSR.pyx:577:42: Non-trivial type declarators in shared declaration (e.g. mix of pointers and values). Each pointer declaration should be on its own line.\r\n",
      "warning: Sparse_Matrix_Tree_CSR.pyx:578:35: Non-trivial type declarators in shared declaration (e.g. mix of pointers and values). Each pointer declaration should be on its own line.\r\n",
      "warning: Sparse_Matrix_Tree_CSR.pyx:578:53: Non-trivial type declarators in shared declaration (e.g. mix of pointers and values). Each pointer declaration should be on its own line.\r\n",
      "\r\n",
      "Error compiling Cython file:\r\n",
      "------------------------------------------------------------\r\n",
      "...\r\n",
      "            vector_pointer_to_list_elements[index].head = current_element\r\n",
      "            current_element = current_element.higher\r\n",
      "\r\n",
      "\r\n",
      "        # Sort array elements on their data field\r\n",
      "        qsort(vector_pointer_to_list_elements, list_length, sizeof(head_pointer_tree_s), compare_struct_on_data)\r\n",
      "                                                                                         ^\r\n",
      "------------------------------------------------------------\r\n",
      "\r\n",
      "Sparse_Matrix_Tree_CSR.pyx:516:89: Cannot assign type 'int (const void *, const void *) except? -1' to 'int (*)(const_void *, const_void *) noexcept'. Exception values are incompatible. Suggest adding 'noexcept' to the type of 'compare_struct_on_data'.\r\n",
      "\r\n",
      "Error compiling Cython file:\r\n",
      "------------------------------------------------------------\r\n",
      "...\r\n",
      "        # Sort array elements on their data field\r\n",
      "        qsort(vector_pointer_to_list_elements, list_length, sizeof(head_pointer_tree_s), compare_struct_on_data)\r\n",
      "\r\n",
      "        # Sort only the TopK according to their column field\r\n",
      "        # Sort is from lower to higher, therefore the elements to be considered are from len-topK to len\r\n",
      "        qsort(&vector_pointer_to_list_elements[list_length-TopK], TopK, sizeof(head_pointer_tree_s), compare_struct_on_column)\r\n",
      "                                                                                                     ^\r\n",
      "------------------------------------------------------------\r\n",
      "\r\n",
      "Sparse_Matrix_Tree_CSR.pyx:520:101: Cannot assign type 'int (const void *, const void *) except? -1' to 'int (*)(const_void *, const_void *) noexcept'. Exception values are incompatible. Suggest adding 'noexcept' to the type of 'compare_struct_on_column'.\r\n",
      "Traceback (most recent call last):\r\n",
      "  File \"/kaggle/working/RECsys_Challenge2024/CythonCompiler/compile_script.py\", line 48, in <module>\r\n",
      "    setup(\r\n",
      "  File \"/opt/conda/lib/python3.10/site-packages/setuptools/__init__.py\", line 103, in setup\r\n",
      "    return distutils.core.setup(**attrs)\r\n",
      "  File \"/opt/conda/lib/python3.10/site-packages/setuptools/_distutils/core.py\", line 184, in setup\r\n",
      "    return run_commands(dist)\r\n",
      "  File \"/opt/conda/lib/python3.10/site-packages/setuptools/_distutils/core.py\", line 200, in run_commands\r\n",
      "    dist.run_commands()\r\n",
      "  File \"/opt/conda/lib/python3.10/site-packages/setuptools/_distutils/dist.py\", line 969, in run_commands\r\n",
      "    self.run_command(cmd)\r\n",
      "  File \"/opt/conda/lib/python3.10/site-packages/setuptools/dist.py\", line 968, in run_command\r\n",
      "    super().run_command(command)\r\n",
      "  File \"/opt/conda/lib/python3.10/site-packages/setuptools/_distutils/dist.py\", line 988, in run_command\r\n",
      "    cmd_obj.run()\r\n",
      "  File \"/opt/conda/lib/python3.10/site-packages/setuptools/_distutils/command/build_ext.py\", line 359, in run\r\n",
      "    self.build_extensions()\r\n",
      "  File \"/opt/conda/lib/python3.10/site-packages/setuptools/_distutils/command/build_ext.py\", line 479, in build_extensions\r\n",
      "    self._build_extensions_serial()\r\n",
      "  File \"/opt/conda/lib/python3.10/site-packages/setuptools/_distutils/command/build_ext.py\", line 505, in _build_extensions_serial\r\n",
      "    self.build_extension(ext)\r\n",
      "  File \"/opt/conda/lib/python3.10/site-packages/Cython/Distutils/build_ext.py\", line 130, in build_extension\r\n",
      "    new_ext = cythonize(\r\n",
      "  File \"/opt/conda/lib/python3.10/site-packages/Cython/Build/Dependencies.py\", line 1154, in cythonize\r\n",
      "    cythonize_one(*args)\r\n",
      "  File \"/opt/conda/lib/python3.10/site-packages/Cython/Build/Dependencies.py\", line 1321, in cythonize_one\r\n",
      "    raise CompileError(None, pyx_file)\r\n",
      "Cython.Compiler.Errors.CompileError: Sparse_Matrix_Tree_CSR.pyx\r\n",
      "Traceback (most recent call last):\r\n",
      "  File \"/kaggle/working/RECsys_Challenge2024/run_compile_all_cython.py\", line 60, in <module>\r\n",
      "    run_compile_subprocess(file_path, [file_name])\r\n",
      "  File \"/kaggle/working/RECsys_Challenge2024/CythonCompiler/run_compile_subprocess.py\", line 51, in run_compile_subprocess\r\n",
      "    raise exc\r\n",
      "  File \"/kaggle/working/RECsys_Challenge2024/CythonCompiler/run_compile_subprocess.py\", line 32, in run_compile_subprocess\r\n",
      "    output = subprocess.check_output(' '.join(command),\r\n",
      "  File \"/opt/conda/lib/python3.10/subprocess.py\", line 421, in check_output\r\n",
      "    return run(*popenargs, stdout=PIPE, timeout=timeout, check=True,\r\n",
      "  File \"/opt/conda/lib/python3.10/subprocess.py\", line 526, in run\r\n",
      "    raise CalledProcessError(retcode, process.args,\r\n",
      "subprocess.CalledProcessError: Command '/opt/conda/bin/python /kaggle/working/RECsys_Challenge2024/CythonCompiler/compile_script.py Sparse_Matrix_Tree_CSR.pyx build_ext --inplace' returned non-zero exit status 1.\r\n",
      "Compiling [4/11]: Sparse_Matrix_Tree_CSR.pyx... FAIL: Command '/opt/conda/bin/python /kaggle/working/RECsys_Challenge2024/CythonCompiler/compile_script.py Sparse_Matrix_Tree_CSR.pyx build_ext --inplace' returned non-zero exit status 1.\r\n",
      "\r\n",
      "Compiling [5/11]: Triangular_Matrix.pyx... \r\n",
      "warning: Triangular_Matrix.pyx:22:0: The 'IF' statement is deprecated and will be removed in a future Cython version. Consider using runtime conditions or C macros instead. See https://github.com/cython/cython/issues/4310\r\n",
      "In file included from \u001b[01m\u001b[K/opt/conda/lib/python3.10/site-packages/numpy/core/include/numpy/ndarraytypes.h:1929\u001b[m\u001b[K,\r\n",
      "                 from \u001b[01m\u001b[K/opt/conda/lib/python3.10/site-packages/numpy/core/include/numpy/ndarrayobject.h:12\u001b[m\u001b[K,\r\n",
      "                 from \u001b[01m\u001b[K/opt/conda/lib/python3.10/site-packages/numpy/core/include/numpy/arrayobject.h:5\u001b[m\u001b[K,\r\n",
      "                 from \u001b[01m\u001b[KTriangular_Matrix.c:1252\u001b[m\u001b[K:\r\n",
      "\u001b[01m\u001b[K/opt/conda/lib/python3.10/site-packages/numpy/core/include/numpy/npy_1_7_deprecated_api.h:17:2:\u001b[m\u001b[K \u001b[01;35m\u001b[Kwarning: \u001b[m\u001b[K#warning \"Using deprecated NumPy API, disable it with \" \"#define NPY_NO_DEPRECATED_API NPY_1_7_API_VERSION\" [\u001b[01;35m\u001b[K-Wcpp\u001b[m\u001b[K]\r\n",
      "   17 | #\u001b[01;35m\u001b[Kwarning\u001b[m\u001b[K \"Using deprecated NumPy API, disable it with \" \\\r\n",
      "      |  \u001b[01;35m\u001b[K^~~~~~~\u001b[m\u001b[K\r\n",
      "/opt/conda/lib/python3.10/site-packages/Cython/Compiler/Main.py:381: FutureWarning: Cython directive 'language_level' not set, using '3str' for now (Py3). This has changed from earlier releases! File: /kaggle/working/RECsys_Challenge2024/Recommenders/SLIM/Cython/Triangular_Matrix.pyx\r\n",
      "  tree = Parsing.p_module(s, pxd, full_module_name)\r\n",
      "warning: Triangular_Matrix.pyx:22:0: The 'IF' statement is deprecated and will be removed in a future Cython version. Consider using runtime conditions or C macros instead. See https://github.com/cython/cython/issues/4310\r\n",
      "Compiling [5/11]: Triangular_Matrix.pyx... PASS\r\n",
      "\r\n",
      "Compiling [6/11]: SLIM_BPR_Cython_Epoch.pyx... \r\n",
      "warning: SLIM_BPR_Cython_Epoch.pyx:24:0: The 'IF' statement is deprecated and will be removed in a future Cython version. Consider using runtime conditions or C macros instead. See https://github.com/cython/cython/issues/4310\r\n",
      "warning: SLIM_BPR_Cython_Epoch.pyx:632:34: Non-trivial type declarators in shared declaration (e.g. mix of pointers and values). Each pointer declaration should be on its own line.\r\n",
      "warning: SLIM_BPR_Cython_Epoch.pyx:632:66: Non-trivial type declarators in shared declaration (e.g. mix of pointers and values). Each pointer declaration should be on its own line.\r\n",
      "warning: SLIM_BPR_Cython_Epoch.pyx:817:35: Non-trivial type declarators in shared declaration (e.g. mix of pointers and values). Each pointer declaration should be on its own line.\r\n",
      "warning: SLIM_BPR_Cython_Epoch.pyx:817:52: Non-trivial type declarators in shared declaration (e.g. mix of pointers and values). Each pointer declaration should be on its own line.\r\n",
      "warning: SLIM_BPR_Cython_Epoch.pyx:916:35: Non-trivial type declarators in shared declaration (e.g. mix of pointers and values). Each pointer declaration should be on its own line.\r\n",
      "warning: SLIM_BPR_Cython_Epoch.pyx:916:53: Non-trivial type declarators in shared declaration (e.g. mix of pointers and values). Each pointer declaration should be on its own line.\r\n",
      "warning: SLIM_BPR_Cython_Epoch.pyx:916:69: Non-trivial type declarators in shared declaration (e.g. mix of pointers and values). Each pointer declaration should be on its own line.\r\n",
      "warning: SLIM_BPR_Cython_Epoch.pyx:1051:35: Non-trivial type declarators in shared declaration (e.g. mix of pointers and values). Each pointer declaration should be on its own line.\r\n",
      "warning: SLIM_BPR_Cython_Epoch.pyx:1051:42: Non-trivial type declarators in shared declaration (e.g. mix of pointers and values). Each pointer declaration should be on its own line.\r\n",
      "warning: SLIM_BPR_Cython_Epoch.pyx:1052:35: Non-trivial type declarators in shared declaration (e.g. mix of pointers and values). Each pointer declaration should be on its own line.\r\n",
      "warning: SLIM_BPR_Cython_Epoch.pyx:1052:53: Non-trivial type declarators in shared declaration (e.g. mix of pointers and values). Each pointer declaration should be on its own line.\r\n",
      "\r\n",
      "Error compiling Cython file:\r\n",
      "------------------------------------------------------------\r\n",
      "...\r\n",
      "            vector_pointer_to_list_elements[index].head = current_element\r\n",
      "            current_element = current_element.higher\r\n",
      "\r\n",
      "\r\n",
      "        # Sort array elements on their data field\r\n",
      "        qsort(vector_pointer_to_list_elements, list_length, sizeof(head_pointer_tree_s), compare_struct_on_data)\r\n",
      "                                                                                         ^\r\n",
      "------------------------------------------------------------\r\n",
      "\r\n",
      "SLIM_BPR_Cython_Epoch.pyx:990:89: Cannot assign type 'int (const void *, const void *) except? -1' to 'int (*)(const_void *, const_void *) noexcept'. Exception values are incompatible. Suggest adding 'noexcept' to the type of 'compare_struct_on_data'.\r\n",
      "\r\n",
      "Error compiling Cython file:\r\n",
      "------------------------------------------------------------\r\n",
      "...\r\n",
      "        # Sort array elements on their data field\r\n",
      "        qsort(vector_pointer_to_list_elements, list_length, sizeof(head_pointer_tree_s), compare_struct_on_data)\r\n",
      "\r\n",
      "        # Sort only the TopK according to their column field\r\n",
      "        # Sort is from lower to higher, therefore the elements to be considered are from len-topK to len\r\n",
      "        qsort(&vector_pointer_to_list_elements[list_length-TopK], TopK, sizeof(head_pointer_tree_s), compare_struct_on_column)\r\n",
      "                                                                                                     ^\r\n",
      "------------------------------------------------------------\r\n",
      "\r\n",
      "SLIM_BPR_Cython_Epoch.pyx:994:101: Cannot assign type 'int (const void *, const void *) except? -1' to 'int (*)(const_void *, const_void *) noexcept'. Exception values are incompatible. Suggest adding 'noexcept' to the type of 'compare_struct_on_column'.\r\n",
      "Traceback (most recent call last):\r\n",
      "  File \"/kaggle/working/RECsys_Challenge2024/CythonCompiler/compile_script.py\", line 48, in <module>\r\n",
      "    setup(\r\n",
      "  File \"/opt/conda/lib/python3.10/site-packages/setuptools/__init__.py\", line 103, in setup\r\n",
      "    return distutils.core.setup(**attrs)\r\n",
      "  File \"/opt/conda/lib/python3.10/site-packages/setuptools/_distutils/core.py\", line 184, in setup\r\n",
      "    return run_commands(dist)\r\n",
      "  File \"/opt/conda/lib/python3.10/site-packages/setuptools/_distutils/core.py\", line 200, in run_commands\r\n",
      "    dist.run_commands()\r\n",
      "  File \"/opt/conda/lib/python3.10/site-packages/setuptools/_distutils/dist.py\", line 969, in run_commands\r\n",
      "    self.run_command(cmd)\r\n",
      "  File \"/opt/conda/lib/python3.10/site-packages/setuptools/dist.py\", line 968, in run_command\r\n",
      "    super().run_command(command)\r\n",
      "  File \"/opt/conda/lib/python3.10/site-packages/setuptools/_distutils/dist.py\", line 988, in run_command\r\n",
      "    cmd_obj.run()\r\n",
      "  File \"/opt/conda/lib/python3.10/site-packages/setuptools/_distutils/command/build_ext.py\", line 359, in run\r\n",
      "    self.build_extensions()\r\n",
      "  File \"/opt/conda/lib/python3.10/site-packages/setuptools/_distutils/command/build_ext.py\", line 479, in build_extensions\r\n",
      "    self._build_extensions_serial()\r\n",
      "  File \"/opt/conda/lib/python3.10/site-packages/setuptools/_distutils/command/build_ext.py\", line 505, in _build_extensions_serial\r\n",
      "    self.build_extension(ext)\r\n",
      "  File \"/opt/conda/lib/python3.10/site-packages/Cython/Distutils/build_ext.py\", line 130, in build_extension\r\n",
      "    new_ext = cythonize(\r\n",
      "  File \"/opt/conda/lib/python3.10/site-packages/Cython/Build/Dependencies.py\", line 1154, in cythonize\r\n",
      "    cythonize_one(*args)\r\n",
      "  File \"/opt/conda/lib/python3.10/site-packages/Cython/Build/Dependencies.py\", line 1321, in cythonize_one\r\n",
      "    raise CompileError(None, pyx_file)\r\n",
      "Cython.Compiler.Errors.CompileError: SLIM_BPR_Cython_Epoch.pyx\r\n",
      "Traceback (most recent call last):\r\n",
      "  File \"/kaggle/working/RECsys_Challenge2024/run_compile_all_cython.py\", line 60, in <module>\r\n",
      "    run_compile_subprocess(file_path, [file_name])\r\n",
      "  File \"/kaggle/working/RECsys_Challenge2024/CythonCompiler/run_compile_subprocess.py\", line 51, in run_compile_subprocess\r\n",
      "    raise exc\r\n",
      "  File \"/kaggle/working/RECsys_Challenge2024/CythonCompiler/run_compile_subprocess.py\", line 32, in run_compile_subprocess\r\n",
      "    output = subprocess.check_output(' '.join(command),\r\n",
      "  File \"/opt/conda/lib/python3.10/subprocess.py\", line 421, in check_output\r\n",
      "    return run(*popenargs, stdout=PIPE, timeout=timeout, check=True,\r\n",
      "  File \"/opt/conda/lib/python3.10/subprocess.py\", line 526, in run\r\n",
      "    raise CalledProcessError(retcode, process.args,\r\n",
      "subprocess.CalledProcessError: Command '/opt/conda/bin/python /kaggle/working/RECsys_Challenge2024/CythonCompiler/compile_script.py SLIM_BPR_Cython_Epoch.pyx build_ext --inplace' returned non-zero exit status 1.\r\n",
      "Compiling [6/11]: SLIM_BPR_Cython_Epoch.pyx... FAIL: Command '/opt/conda/bin/python /kaggle/working/RECsys_Challenge2024/CythonCompiler/compile_script.py SLIM_BPR_Cython_Epoch.pyx build_ext --inplace' returned non-zero exit status 1.\r\n",
      "\r\n",
      "Compiling [7/11]: HP3_Similarity_Cython_SGD.pyx... \r\n",
      "performance hint: HP3_Similarity_Cython_SGD.pyx:113:40: Index should be typed for more efficient access\r\n",
      "performance hint: HP3_Similarity_Cython_SGD.pyx:114:40: Index should be typed for more efficient access\r\n",
      "In file included from \u001b[01m\u001b[K/opt/conda/lib/python3.10/site-packages/numpy/core/include/numpy/ndarraytypes.h:1929\u001b[m\u001b[K,\r\n",
      "                 from \u001b[01m\u001b[K/opt/conda/lib/python3.10/site-packages/numpy/core/include/numpy/ndarrayobject.h:12\u001b[m\u001b[K,\r\n",
      "                 from \u001b[01m\u001b[K/opt/conda/lib/python3.10/site-packages/numpy/core/include/numpy/arrayobject.h:5\u001b[m\u001b[K,\r\n",
      "                 from \u001b[01m\u001b[KHP3_Similarity_Cython_SGD.c:1252\u001b[m\u001b[K:\r\n",
      "\u001b[01m\u001b[K/opt/conda/lib/python3.10/site-packages/numpy/core/include/numpy/npy_1_7_deprecated_api.h:17:2:\u001b[m\u001b[K \u001b[01;35m\u001b[Kwarning: \u001b[m\u001b[K#warning \"Using deprecated NumPy API, disable it with \" \"#define NPY_NO_DEPRECATED_API NPY_1_7_API_VERSION\" [\u001b[01;35m\u001b[K-Wcpp\u001b[m\u001b[K]\r\n",
      "   17 | #\u001b[01;35m\u001b[Kwarning\u001b[m\u001b[K \"Using deprecated NumPy API, disable it with \" \\\r\n",
      "      |  \u001b[01;35m\u001b[K^~~~~~~\u001b[m\u001b[K\r\n",
      "\u001b[01m\u001b[KHP3_Similarity_Cython_SGD.c:\u001b[m\u001b[K In function '\u001b[01m\u001b[K__pyx_pf_25HP3_Similarity_Cython_SGD_25HP3_Similarity_Cython_SGD_4fit\u001b[m\u001b[K':\r\n",
      "\u001b[01m\u001b[KHP3_Similarity_Cython_SGD.c:23631:55:\u001b[m\u001b[K \u001b[01;35m\u001b[Kwarning: \u001b[m\u001b[K'\u001b[01m\u001b[K__pyx_v_sample_num\u001b[m\u001b[K' may be used uninitialized in this function [\u001b[01;35m\u001b[K-Wmaybe-uninitialized\u001b[m\u001b[K]\r\n",
      "23631 |   __pyx_t_1 = PyFloat_FromDouble((__pyx_v_cum_loss / \u001b[01;35m\u001b[K((double)__pyx_v_sample_num)\u001b[m\u001b[K)); if (unlikely(!__pyx_t_1)) __PYX_ERR(0, 291, __pyx_L1_error)\r\n",
      "      |                                                      \u001b[01;35m\u001b[K~^~~~~~~~~~~~~~~~~~~~~~~~~~~\u001b[m\u001b[K\r\n",
      "/opt/conda/lib/python3.10/site-packages/Cython/Compiler/Main.py:381: FutureWarning: Cython directive 'language_level' not set, using '3str' for now (Py3). This has changed from earlier releases! File: /kaggle/working/RECsys_Challenge2024/Recommenders/FeatureWeighting/Cython/HP3_Similarity_Cython_SGD.pyx\r\n",
      "  tree = Parsing.p_module(s, pxd, full_module_name)\r\n",
      "performance hint: HP3_Similarity_Cython_SGD.pyx:113:40: Index should be typed for more efficient access\r\n",
      "performance hint: HP3_Similarity_Cython_SGD.pyx:114:40: Index should be typed for more efficient access\r\n",
      "Compiling [7/11]: HP3_Similarity_Cython_SGD.pyx... PASS\r\n",
      "\r\n",
      "Compiling [8/11]: CFW_D_Similarity_Cython_SGD.pyx... \r\n",
      "In file included from \u001b[01m\u001b[K/opt/conda/lib/python3.10/site-packages/numpy/core/include/numpy/ndarraytypes.h:1929\u001b[m\u001b[K,\r\n",
      "                 from \u001b[01m\u001b[K/opt/conda/lib/python3.10/site-packages/numpy/core/include/numpy/ndarrayobject.h:12\u001b[m\u001b[K,\r\n",
      "                 from \u001b[01m\u001b[K/opt/conda/lib/python3.10/site-packages/numpy/core/include/numpy/arrayobject.h:5\u001b[m\u001b[K,\r\n",
      "                 from \u001b[01m\u001b[KCFW_D_Similarity_Cython_SGD.c:1252\u001b[m\u001b[K:\r\n",
      "\u001b[01m\u001b[K/opt/conda/lib/python3.10/site-packages/numpy/core/include/numpy/npy_1_7_deprecated_api.h:17:2:\u001b[m\u001b[K \u001b[01;35m\u001b[Kwarning: \u001b[m\u001b[K#warning \"Using deprecated NumPy API, disable it with \" \"#define NPY_NO_DEPRECATED_API NPY_1_7_API_VERSION\" [\u001b[01;35m\u001b[K-Wcpp\u001b[m\u001b[K]\r\n",
      "   17 | #\u001b[01;35m\u001b[Kwarning\u001b[m\u001b[K \"Using deprecated NumPy API, disable it with \" \\\r\n",
      "      |  \u001b[01;35m\u001b[K^~~~~~~\u001b[m\u001b[K\r\n",
      "\u001b[01m\u001b[KCFW_D_Similarity_Cython_SGD.c:\u001b[m\u001b[K In function '\u001b[01m\u001b[K__pyx_pf_27CFW_D_Similarity_Cython_SGD_27CFW_D_Similarity_Cython_SGD_6fit\u001b[m\u001b[K':\r\n",
      "\u001b[01m\u001b[KCFW_D_Similarity_Cython_SGD.c:23373:55:\u001b[m\u001b[K \u001b[01;35m\u001b[Kwarning: \u001b[m\u001b[K'\u001b[01m\u001b[K__pyx_v_sample_num\u001b[m\u001b[K' may be used uninitialized in this function [\u001b[01;35m\u001b[K-Wmaybe-uninitialized\u001b[m\u001b[K]\r\n",
      "23373 |   __pyx_t_3 = PyFloat_FromDouble((__pyx_v_cum_loss / \u001b[01;35m\u001b[K((double)__pyx_v_sample_num)\u001b[m\u001b[K)); if (unlikely(!__pyx_t_3)) __PYX_ERR(0, 290, __pyx_L1_error)\r\n",
      "      |                                                      \u001b[01;35m\u001b[K~^~~~~~~~~~~~~~~~~~~~~~~~~~~\u001b[m\u001b[K\r\n",
      "/opt/conda/lib/python3.10/site-packages/Cython/Compiler/Main.py:381: FutureWarning: Cython directive 'language_level' not set, using '3str' for now (Py3). This has changed from earlier releases! File: /kaggle/working/RECsys_Challenge2024/Recommenders/FeatureWeighting/Cython/CFW_D_Similarity_Cython_SGD.pyx\r\n",
      "  tree = Parsing.p_module(s, pxd, full_module_name)\r\n",
      "Compiling [8/11]: CFW_D_Similarity_Cython_SGD.pyx... PASS\r\n",
      "\r\n",
      "Compiling [9/11]: CFW_DVV_Similarity_Cython_SGD.pyx... \r\n",
      "In file included from \u001b[01m\u001b[K/opt/conda/lib/python3.10/site-packages/numpy/core/include/numpy/ndarraytypes.h:1929\u001b[m\u001b[K,\r\n",
      "                 from \u001b[01m\u001b[K/opt/conda/lib/python3.10/site-packages/numpy/core/include/numpy/ndarrayobject.h:12\u001b[m\u001b[K,\r\n",
      "                 from \u001b[01m\u001b[K/opt/conda/lib/python3.10/site-packages/numpy/core/include/numpy/arrayobject.h:5\u001b[m\u001b[K,\r\n",
      "                 from \u001b[01m\u001b[KCFW_DVV_Similarity_Cython_SGD.c:1252\u001b[m\u001b[K:\r\n",
      "\u001b[01m\u001b[K/opt/conda/lib/python3.10/site-packages/numpy/core/include/numpy/npy_1_7_deprecated_api.h:17:2:\u001b[m\u001b[K \u001b[01;35m\u001b[Kwarning: \u001b[m\u001b[K#warning \"Using deprecated NumPy API, disable it with \" \"#define NPY_NO_DEPRECATED_API NPY_1_7_API_VERSION\" [\u001b[01;35m\u001b[K-Wcpp\u001b[m\u001b[K]\r\n",
      "   17 | #\u001b[01;35m\u001b[Kwarning\u001b[m\u001b[K \"Using deprecated NumPy API, disable it with \" \\\r\n",
      "      |  \u001b[01;35m\u001b[K^~~~~~~\u001b[m\u001b[K\r\n",
      "/opt/conda/lib/python3.10/site-packages/Cython/Compiler/Main.py:381: FutureWarning: Cython directive 'language_level' not set, using '3str' for now (Py3). This has changed from earlier releases! File: /kaggle/working/RECsys_Challenge2024/Recommenders/FeatureWeighting/Cython/CFW_DVV_Similarity_Cython_SGD.pyx\r\n",
      "  tree = Parsing.p_module(s, pxd, full_module_name)\r\n",
      "Compiling [9/11]: CFW_DVV_Similarity_Cython_SGD.pyx... PASS\r\n",
      "\r\n",
      "Compiling [10/11]: FBSM_Rating_Cython_SGD.pyx... \r\n",
      "In file included from \u001b[01m\u001b[K/opt/conda/lib/python3.10/site-packages/numpy/core/include/numpy/ndarraytypes.h:1929\u001b[m\u001b[K,\r\n",
      "                 from \u001b[01m\u001b[K/opt/conda/lib/python3.10/site-packages/numpy/core/include/numpy/ndarrayobject.h:12\u001b[m\u001b[K,\r\n",
      "                 from \u001b[01m\u001b[K/opt/conda/lib/python3.10/site-packages/numpy/core/include/numpy/arrayobject.h:5\u001b[m\u001b[K,\r\n",
      "                 from \u001b[01m\u001b[KFBSM_Rating_Cython_SGD.c:1252\u001b[m\u001b[K:\r\n",
      "\u001b[01m\u001b[K/opt/conda/lib/python3.10/site-packages/numpy/core/include/numpy/npy_1_7_deprecated_api.h:17:2:\u001b[m\u001b[K \u001b[01;35m\u001b[Kwarning: \u001b[m\u001b[K#warning \"Using deprecated NumPy API, disable it with \" \"#define NPY_NO_DEPRECATED_API NPY_1_7_API_VERSION\" [\u001b[01;35m\u001b[K-Wcpp\u001b[m\u001b[K]\r\n",
      "   17 | #\u001b[01;35m\u001b[Kwarning\u001b[m\u001b[K \"Using deprecated NumPy API, disable it with \" \\\r\n",
      "      |  \u001b[01;35m\u001b[K^~~~~~~\u001b[m\u001b[K\r\n",
      "\u001b[01m\u001b[KFBSM_Rating_Cython_SGD.c:\u001b[m\u001b[K In function '\u001b[01m\u001b[K__pyx_pf_22FBSM_Rating_Cython_SGD_22FBSM_Rating_Cython_SGD_2fit\u001b[m\u001b[K':\r\n",
      "\u001b[01m\u001b[KFBSM_Rating_Cython_SGD.c:26607:55:\u001b[m\u001b[K \u001b[01;35m\u001b[Kwarning: \u001b[m\u001b[K'\u001b[01m\u001b[K__pyx_v_num_sample\u001b[m\u001b[K' may be used uninitialized in this function [\u001b[01;35m\u001b[K-Wmaybe-uninitialized\u001b[m\u001b[K]\r\n",
      "26607 |   __pyx_t_5 = PyFloat_FromDouble((__pyx_v_cum_loss / \u001b[01;35m\u001b[K((double)__pyx_v_num_sample)\u001b[m\u001b[K)); if (unlikely(!__pyx_t_5)) __PYX_ERR(0, 551, __pyx_L1_error)\r\n",
      "      |                                                      \u001b[01;35m\u001b[K~^~~~~~~~~~~~~~~~~~~~~~~~~~~\u001b[m\u001b[K\r\n",
      "/opt/conda/lib/python3.10/site-packages/Cython/Compiler/Main.py:381: FutureWarning: Cython directive 'language_level' not set, using '3str' for now (Py3). This has changed from earlier releases! File: /kaggle/working/RECsys_Challenge2024/Recommenders/FeatureWeighting/Cython/FBSM_Rating_Cython_SGD.pyx\r\n",
      "  tree = Parsing.p_module(s, pxd, full_module_name)\r\n",
      "Compiling [10/11]: FBSM_Rating_Cython_SGD.pyx... PASS\r\n",
      "\r\n",
      "Compiling [11/11]: DataIterator.pyx... \r\n",
      "In file included from \u001b[01m\u001b[K/opt/conda/lib/python3.10/site-packages/numpy/core/include/numpy/ndarraytypes.h:1929\u001b[m\u001b[K,\r\n",
      "                 from \u001b[01m\u001b[K/opt/conda/lib/python3.10/site-packages/numpy/core/include/numpy/ndarrayobject.h:12\u001b[m\u001b[K,\r\n",
      "                 from \u001b[01m\u001b[K/opt/conda/lib/python3.10/site-packages/numpy/core/include/numpy/arrayobject.h:5\u001b[m\u001b[K,\r\n",
      "                 from \u001b[01m\u001b[KDataIterator.c:1252\u001b[m\u001b[K:\r\n",
      "\u001b[01m\u001b[K/opt/conda/lib/python3.10/site-packages/numpy/core/include/numpy/npy_1_7_deprecated_api.h:17:2:\u001b[m\u001b[K \u001b[01;35m\u001b[Kwarning: \u001b[m\u001b[K#warning \"Using deprecated NumPy API, disable it with \" \"#define NPY_NO_DEPRECATED_API NPY_1_7_API_VERSION\" [\u001b[01;35m\u001b[K-Wcpp\u001b[m\u001b[K]\r\n",
      "   17 | #\u001b[01;35m\u001b[Kwarning\u001b[m\u001b[K \"Using deprecated NumPy API, disable it with \" \\\r\n",
      "      |  \u001b[01;35m\u001b[K^~~~~~~\u001b[m\u001b[K\r\n",
      "\u001b[01m\u001b[KDataIterator.c:\u001b[m\u001b[K In function '\u001b[01m\u001b[K__pyx_pf_12DataIterator_30InteractionAndNegativeIterator_6__next__\u001b[m\u001b[K':\r\n",
      "\u001b[01m\u001b[KDataIterator.c:25495:22:\u001b[m\u001b[K \u001b[01;35m\u001b[Kwarning: \u001b[m\u001b[K'\u001b[01m\u001b[K__pyx_v_i_batch\u001b[m\u001b[K' may be used uninitialized in this function [\u001b[01;35m\u001b[K-Wmaybe-uninitialized\u001b[m\u001b[K]\r\n",
      "25495 |     (__pyx_v_i_batch \u001b[01;35m\u001b[K+\u001b[m\u001b[K 1),\r\n",
      "      |                      \u001b[01;35m\u001b[K^\u001b[m\u001b[K\r\n",
      "\u001b[01m\u001b[KDataIterator.c:\u001b[m\u001b[K In function '\u001b[01m\u001b[K__pyx_pf_12DataIterator_11BPRIterator_6__next__\u001b[m\u001b[K':\r\n",
      "\u001b[01m\u001b[KDataIterator.c:23054:22:\u001b[m\u001b[K \u001b[01;35m\u001b[Kwarning: \u001b[m\u001b[K'\u001b[01m\u001b[K__pyx_v_i_batch\u001b[m\u001b[K' may be used uninitialized in this function [\u001b[01;35m\u001b[K-Wmaybe-uninitialized\u001b[m\u001b[K]\r\n",
      "23054 |     (__pyx_v_i_batch \u001b[01;35m\u001b[K+\u001b[m\u001b[K 1),\r\n",
      "      |                      \u001b[01;35m\u001b[K^\u001b[m\u001b[K\r\n",
      "\u001b[01m\u001b[KDataIterator.c:\u001b[m\u001b[K In function '\u001b[01m\u001b[K__pyx_pf_12DataIterator_19InteractionIterator_6__next__\u001b[m\u001b[K':\r\n",
      "\u001b[01m\u001b[KDataIterator.c:20937:22:\u001b[m\u001b[K \u001b[01;35m\u001b[Kwarning: \u001b[m\u001b[K'\u001b[01m\u001b[K__pyx_v_i_batch\u001b[m\u001b[K' may be used uninitialized in this function [\u001b[01;35m\u001b[K-Wmaybe-uninitialized\u001b[m\u001b[K]\r\n",
      "20937 |     (__pyx_v_i_batch \u001b[01;35m\u001b[K+\u001b[m\u001b[K 1),\r\n",
      "      |                      \u001b[01;35m\u001b[K^\u001b[m\u001b[K\r\n",
      "/opt/conda/lib/python3.10/site-packages/Cython/Compiler/Main.py:381: FutureWarning: Cython directive 'language_level' not set, using '3str' for now (Py3). This has changed from earlier releases! File: /kaggle/working/RECsys_Challenge2024/Utils/PyTorch/Cython/DataIterator.pyx\r\n",
      "  tree = Parsing.p_module(s, pxd, full_module_name)\r\n",
      "Compiling [11/11]: DataIterator.pyx... PASS\r\n",
      "\r\n",
      "run_compile_all_cython: Compilation finished. FAILS 2/11.\r\n",
      "Compilation log can be found here: './result_experiments/run_compile_all_cython.txt'\r\n"
     ]
    }
   ],
   "source": [
    "! cd /kaggle/working/RECsys_Challenge2024 && python run_compile_all_cython.py"
   ]
  },
  {
   "cell_type": "code",
   "execution_count": 5,
   "id": "107e9d8c",
   "metadata": {
    "execution": {
     "iopub.execute_input": "2024-11-19T00:45:08.357108Z",
     "iopub.status.busy": "2024-11-19T00:45:08.356658Z",
     "iopub.status.idle": "2024-11-19T00:45:09.955487Z",
     "shell.execute_reply": "2024-11-19T00:45:09.954342Z"
    },
    "papermill": {
     "duration": 1.615853,
     "end_time": "2024-11-19T00:45:09.958143",
     "exception": false,
     "start_time": "2024-11-19T00:45:08.342290",
     "status": "completed"
    },
    "tags": []
   },
   "outputs": [],
   "source": [
    "import numpy as np\n",
    "import pandas as pd\n",
    "import scipy.sparse as sps\n",
    "import time\n",
    "import shutil\n",
    "import optuna\n",
    "import json\n",
    "import os\n",
    "\n",
    "np.random.seed(42)"
   ]
  },
  {
   "cell_type": "markdown",
   "id": "5fda8c72",
   "metadata": {
    "papermill": {
     "duration": 0.012156,
     "end_time": "2024-11-19T00:45:09.982997",
     "exception": false,
     "start_time": "2024-11-19T00:45:09.970841",
     "status": "completed"
    },
    "tags": []
   },
   "source": [
    "## Import the repository"
   ]
  },
  {
   "cell_type": "code",
   "execution_count": 6,
   "id": "2ba3677f",
   "metadata": {
    "execution": {
     "iopub.execute_input": "2024-11-19T00:45:10.010439Z",
     "iopub.status.busy": "2024-11-19T00:45:10.009862Z",
     "iopub.status.idle": "2024-11-19T00:45:10.426102Z",
     "shell.execute_reply": "2024-11-19T00:45:10.424778Z"
    },
    "papermill": {
     "duration": 0.43277,
     "end_time": "2024-11-19T00:45:10.428525",
     "exception": false,
     "start_time": "2024-11-19T00:45:09.995755",
     "status": "completed"
    },
    "tags": []
   },
   "outputs": [
    {
     "name": "stdout",
     "output_type": "stream",
     "text": [
      "Repository 'RECsys_Challenge2024' found.\n"
     ]
    }
   ],
   "source": [
    "from github import Github, Auth\n",
    "\n",
    "# Authenticate using a personal access token\n",
    "auth_token = Auth.Token(token)\n",
    "github_client = Github(auth=auth_token)\n",
    "\n",
    "# Define the repository name you want to find\n",
    "target_repo_name = 'RECsys_Challenge2024'\n",
    "repo = None\n",
    "\n",
    "# Search for the repository in the user's repositories\n",
    "try:\n",
    "    for repository in github_client.get_user().get_repos():\n",
    "        if repository.name == target_repo_name:\n",
    "            repo = repository\n",
    "            print(f\"Repository '{target_repo_name}' found.\")\n",
    "            break\n",
    "    if repo is None:\n",
    "        print(f\"Repository '{target_repo_name}' not found.\")\n",
    "except Exception as e:\n",
    "    print(\"An error occurred while accessing the repositories:\", e)"
   ]
  },
  {
   "cell_type": "code",
   "execution_count": 7,
   "id": "f5227172",
   "metadata": {
    "execution": {
     "iopub.execute_input": "2024-11-19T00:45:10.455813Z",
     "iopub.status.busy": "2024-11-19T00:45:10.455304Z",
     "iopub.status.idle": "2024-11-19T00:45:10.463021Z",
     "shell.execute_reply": "2024-11-19T00:45:10.461848Z"
    },
    "papermill": {
     "duration": 0.023697,
     "end_time": "2024-11-19T00:45:10.465039",
     "exception": false,
     "start_time": "2024-11-19T00:45:10.441342",
     "status": "completed"
    },
    "tags": []
   },
   "outputs": [],
   "source": [
    "def upload_file(filepath_kaggle, filepath_github, commit_message):\n",
    "    \"\"\"\n",
    "    Uploads a file from Kaggle to GitHub, updating it if it already exists in the repository,\n",
    "    or creating it if it does not.\n",
    "\n",
    "    Parameters:\n",
    "    - filepath_kaggle: Path to the file in the Kaggle environment.\n",
    "    - filepath_github: Target path in the GitHub repository where the file should be uploaded.\n",
    "    - commit_message: Message for the commit on GitHub.\n",
    "    \"\"\"\n",
    "    try:\n",
    "        \n",
    "        # Check if the file already exists in the GitHub repository\n",
    "        contents = repo.get_contents(filepath_github)\n",
    "        \n",
    "        # If it exists, update the file\n",
    "        with open(filepath_kaggle, \"rb\") as file:\n",
    "            repo.update_file(\n",
    "                contents.path, commit_message, file.read(), contents.sha\n",
    "            )\n",
    "        print(f\"File '{filepath_github}' updated successfully.\")\n",
    "    \n",
    "    except Exception as e:\n",
    "        \n",
    "        # If the file does not exist, create it\n",
    "        with open(filepath_kaggle, \"rb\") as file:\n",
    "            repo.create_file(\n",
    "                filepath_github, commit_message, file.read()\n",
    "            )\n",
    "        print(f\"File '{filepath_github}' created successfully.\")"
   ]
  },
  {
   "cell_type": "code",
   "execution_count": 8,
   "id": "74806828",
   "metadata": {
    "execution": {
     "iopub.execute_input": "2024-11-19T00:45:10.492424Z",
     "iopub.status.busy": "2024-11-19T00:45:10.492025Z",
     "iopub.status.idle": "2024-11-19T00:45:10.497217Z",
     "shell.execute_reply": "2024-11-19T00:45:10.495988Z"
    },
    "papermill": {
     "duration": 0.021718,
     "end_time": "2024-11-19T00:45:10.499462",
     "exception": false,
     "start_time": "2024-11-19T00:45:10.477744",
     "status": "completed"
    },
    "tags": []
   },
   "outputs": [],
   "source": [
    "config = {\n",
    "    'model': 'RP3beta',\n",
    "    'tune_parameters': True,\n",
    "    'database_path': '/kaggle/working/history_RP3beta.db',\n",
    "    'copy_prev_best_params': False,\n",
    "    'tune_best_params': True,\n",
    "    'save_github': True\n",
    "}"
   ]
  },
  {
   "cell_type": "markdown",
   "id": "27d9b4c4",
   "metadata": {
    "papermill": {
     "duration": 0.012465,
     "end_time": "2024-11-19T00:45:10.525047",
     "exception": false,
     "start_time": "2024-11-19T00:45:10.512582",
     "status": "completed"
    },
    "tags": []
   },
   "source": [
    "Import the database where previous tuning trials have been saved."
   ]
  },
  {
   "cell_type": "code",
   "execution_count": 9,
   "id": "2c545ba5",
   "metadata": {
    "execution": {
     "iopub.execute_input": "2024-11-19T00:45:10.553518Z",
     "iopub.status.busy": "2024-11-19T00:45:10.553099Z",
     "iopub.status.idle": "2024-11-19T00:45:10.560076Z",
     "shell.execute_reply": "2024-11-19T00:45:10.558759Z"
    },
    "papermill": {
     "duration": 0.024381,
     "end_time": "2024-11-19T00:45:10.562474",
     "exception": false,
     "start_time": "2024-11-19T00:45:10.538093",
     "status": "completed"
    },
    "tags": []
   },
   "outputs": [],
   "source": [
    "try:\n",
    "    shutil.copyfile(\n",
    "        f'/kaggle/working/RECsys_Challenge2024/TrainedModels/' \\\n",
    "        f'{config[\"model\"]}Recommender/history_{config[\"model\"]}.db', \n",
    "        config['database_path']\n",
    "    )\n",
    "except FileNotFoundError:\n",
    "    pass # if not present optuna will create it"
   ]
  },
  {
   "cell_type": "markdown",
   "id": "64cda032",
   "metadata": {
    "papermill": {
     "duration": 0.012834,
     "end_time": "2024-11-19T00:45:10.589080",
     "exception": false,
     "start_time": "2024-11-19T00:45:10.576246",
     "status": "completed"
    },
    "tags": []
   },
   "source": [
    "# Construction of URM and ICM matrices"
   ]
  },
  {
   "cell_type": "code",
   "execution_count": 10,
   "id": "a8f6a3b3",
   "metadata": {
    "execution": {
     "iopub.execute_input": "2024-11-19T00:45:10.617970Z",
     "iopub.status.busy": "2024-11-19T00:45:10.617500Z",
     "iopub.status.idle": "2024-11-19T00:45:11.633108Z",
     "shell.execute_reply": "2024-11-19T00:45:11.631967Z"
    },
    "papermill": {
     "duration": 1.033701,
     "end_time": "2024-11-19T00:45:11.635481",
     "exception": false,
     "start_time": "2024-11-19T00:45:10.601780",
     "status": "completed"
    },
    "tags": []
   },
   "outputs": [
    {
     "data": {
      "text/plain": [
       "<Compressed Sparse Row sparse matrix of dtype 'float64'\n",
       "\twith 1764607 stored elements and shape (35736, 38121)>"
      ]
     },
     "execution_count": 10,
     "metadata": {},
     "output_type": "execute_result"
    }
   ],
   "source": [
    "URM_all_dataframe = pd.read_csv(\"/kaggle/input/recommender-system-2024-challenge-polimi/data_train.csv\")\n",
    "\n",
    "n_users = len(URM_all_dataframe[\"user_id\"].unique())\n",
    "n_items = len(URM_all_dataframe[\"item_id\"].unique())\n",
    "\n",
    "URM_all = sps.csr_matrix((URM_all_dataframe[\"data\"].values, \n",
    "                          (URM_all_dataframe[\"user_id\"].values, URM_all_dataframe[\"item_id\"].values)),\n",
    "                        shape = (n_users, n_items))\n",
    "\n",
    "URM_all"
   ]
  },
  {
   "cell_type": "code",
   "execution_count": 11,
   "id": "c86225df",
   "metadata": {
    "execution": {
     "iopub.execute_input": "2024-11-19T00:45:11.663981Z",
     "iopub.status.busy": "2024-11-19T00:45:11.663539Z",
     "iopub.status.idle": "2024-11-19T00:45:13.109483Z",
     "shell.execute_reply": "2024-11-19T00:45:13.108013Z"
    },
    "papermill": {
     "duration": 1.463842,
     "end_time": "2024-11-19T00:45:13.112110",
     "exception": false,
     "start_time": "2024-11-19T00:45:11.648268",
     "status": "completed"
    },
    "tags": []
   },
   "outputs": [
    {
     "data": {
      "text/plain": [
       "<Compressed Sparse Row sparse matrix of dtype 'float64'\n",
       "\twith 2940040 stored elements and shape (38121, 94331)>"
      ]
     },
     "execution_count": 11,
     "metadata": {},
     "output_type": "execute_result"
    }
   ],
   "source": [
    "ICM_dataframe = pd.read_csv(\"/kaggle/input/recommender-system-2024-challenge-polimi/data_ICM_metadata.csv\")\n",
    "\n",
    "n_items = len(ICM_dataframe[\"item_id\"].unique())\n",
    "n_features = len(ICM_dataframe[\"feature_id\"].unique())\n",
    "\n",
    "ICM_all = sps.csr_matrix((ICM_dataframe[\"data\"].values, \n",
    "                          (ICM_dataframe[\"item_id\"].values, ICM_dataframe[\"feature_id\"].values)),\n",
    "                        shape = (n_items, n_features))\n",
    "\n",
    "ICM_all"
   ]
  },
  {
   "cell_type": "markdown",
   "id": "48e85045",
   "metadata": {
    "papermill": {
     "duration": 0.015847,
     "end_time": "2024-11-19T00:45:13.141003",
     "exception": false,
     "start_time": "2024-11-19T00:45:13.125156",
     "status": "completed"
    },
    "tags": []
   },
   "source": [
    "# Training"
   ]
  },
  {
   "cell_type": "code",
   "execution_count": 12,
   "id": "8abd6375",
   "metadata": {
    "execution": {
     "iopub.execute_input": "2024-11-19T00:45:13.169706Z",
     "iopub.status.busy": "2024-11-19T00:45:13.169287Z",
     "iopub.status.idle": "2024-11-19T00:45:13.176836Z",
     "shell.execute_reply": "2024-11-19T00:45:13.175667Z"
    },
    "papermill": {
     "duration": 0.023874,
     "end_time": "2024-11-19T00:45:13.178904",
     "exception": false,
     "start_time": "2024-11-19T00:45:13.155030",
     "status": "completed"
    },
    "tags": []
   },
   "outputs": [
    {
     "name": "stdout",
     "output_type": "stream",
     "text": [
      "/kaggle/working/RECsys_Challenge2024\n"
     ]
    }
   ],
   "source": [
    "%cd /kaggle/working/RECsys_Challenge2024/"
   ]
  },
  {
   "cell_type": "code",
   "execution_count": 13,
   "id": "4e410790",
   "metadata": {
    "execution": {
     "iopub.execute_input": "2024-11-19T00:45:13.207473Z",
     "iopub.status.busy": "2024-11-19T00:45:13.207055Z",
     "iopub.status.idle": "2024-11-19T00:45:16.298988Z",
     "shell.execute_reply": "2024-11-19T00:45:16.297639Z"
    },
    "papermill": {
     "duration": 3.109281,
     "end_time": "2024-11-19T00:45:16.301388",
     "exception": false,
     "start_time": "2024-11-19T00:45:13.192107",
     "status": "completed"
    },
    "tags": []
   },
   "outputs": [
    {
     "name": "stdout",
     "output_type": "stream",
     "text": [
      "Warning: 141 (0.39 %) of 35736 users have no sampled items\n",
      "EvaluatorHoldout: Ignoring 141 ( 0.4%) Users that have less than 1 test interactions\n"
     ]
    }
   ],
   "source": [
    "from Evaluation.Evaluator import EvaluatorHoldout\n",
    "from Data_manager.split_functions.split_train_validation_random_holdout import split_train_in_two_percentage_global_sample\n",
    "\n",
    "URM_train, URM_validation = split_train_in_two_percentage_global_sample(URM_all, train_percentage = 0.80)\n",
    "\n",
    "evaluator_validation = EvaluatorHoldout(URM_validation, cutoff_list=[10])"
   ]
  },
  {
   "cell_type": "code",
   "execution_count": 14,
   "id": "76e24613",
   "metadata": {
    "execution": {
     "iopub.execute_input": "2024-11-19T00:45:16.329618Z",
     "iopub.status.busy": "2024-11-19T00:45:16.329240Z",
     "iopub.status.idle": "2024-11-19T00:45:17.465834Z",
     "shell.execute_reply": "2024-11-19T00:45:17.464433Z"
    },
    "papermill": {
     "duration": 1.15353,
     "end_time": "2024-11-19T00:45:17.468558",
     "exception": false,
     "start_time": "2024-11-19T00:45:16.315028",
     "status": "completed"
    },
    "tags": []
   },
   "outputs": [],
   "source": [
    "from Recommenders.GraphBased.RP3betaRecommender import RP3betaRecommender\n",
    "\n",
    "def objective_function_RP3beta(optuna_trial):\n",
    "    \n",
    "    recommender_instance = RP3betaRecommender(URM_train)\n",
    "    \n",
    "    full_hyperp = {\n",
    "                    \"topK\": optuna_trial.suggest_int(\"topK\", 0, 1500),\n",
    "                   \"alpha\": optuna_trial.suggest_float(\"alpha\", 0, 3, log=False),\n",
    "                   \"beta\": optuna_trial.suggest_float(\"beta\", 0, 3, log=False),\n",
    "                   \"normalize_similarity\": optuna_trial.suggest_categorical(\"normalize_similarity\", [True, False]),\n",
    "                   \"implicit\": optuna_trial.suggest_categorical(\"implicit\", [True, False]),\n",
    "                  }        \n",
    "    \n",
    "    recommender_instance.fit(**full_hyperp)\n",
    "    \n",
    "    result_df, _ = evaluator_validation.evaluateRecommender(recommender_instance)\n",
    "    \n",
    "    return result_df.loc[10][\"MAP\"]"
   ]
  },
  {
   "cell_type": "code",
   "execution_count": 15,
   "id": "bdfc2303",
   "metadata": {
    "_kg_hide-output": true,
    "execution": {
     "iopub.execute_input": "2024-11-19T00:45:17.497513Z",
     "iopub.status.busy": "2024-11-19T00:45:17.496922Z",
     "iopub.status.idle": "2024-11-19T02:30:05.631605Z",
     "shell.execute_reply": "2024-11-19T02:30:05.630271Z"
    },
    "papermill": {
     "duration": 6288.153176,
     "end_time": "2024-11-19T02:30:05.635447",
     "exception": false,
     "start_time": "2024-11-19T00:45:17.482271",
     "status": "completed"
    },
    "tags": []
   },
   "outputs": [
    {
     "name": "stderr",
     "output_type": "stream",
     "text": [
      "[I 2024-11-19 00:45:19,178] Using an existing study with name 'hyperparameters_tuning_RP3beta' instead of creating a new one.\n"
     ]
    },
    {
     "name": "stdout",
     "output_type": "stream",
     "text": [
      "RP3betaRecommender: Similarity column 38121 (100.0%), 2072.87 column/sec. Elapsed time 18.39 sec\n",
      "EvaluatorHoldout: Processed 35595 (100.0%) in 33.29 sec. Users per second: 1069\n"
     ]
    },
    {
     "name": "stderr",
     "output_type": "stream",
     "text": [
      "[I 2024-11-19 00:46:13,044] Trial 100 finished with value: 0.05206425684006616 and parameters: {'topK': 29, 'alpha': 0.5782164575412156, 'beta': 0.42167415231201083, 'normalize_similarity': True, 'implicit': False}. Best is trial 89 with value: 0.052120791220452205.\n"
     ]
    },
    {
     "name": "stdout",
     "output_type": "stream",
     "text": [
      "RP3betaRecommender: Similarity column 38121 (100.0%), 2034.94 column/sec. Elapsed time 18.73 sec\n",
      "EvaluatorHoldout: Processed 35595 (100.0%) in 33.44 sec. Users per second: 1064\n"
     ]
    },
    {
     "name": "stderr",
     "output_type": "stream",
     "text": [
      "[I 2024-11-19 00:47:07,416] Trial 101 finished with value: 0.05203780850261918 and parameters: {'topK': 35, 'alpha': 0.3650604020313712, 'beta': 0.41448476856304284, 'normalize_similarity': True, 'implicit': False}. Best is trial 89 with value: 0.052120791220452205.\n"
     ]
    },
    {
     "name": "stdout",
     "output_type": "stream",
     "text": [
      "RP3betaRecommender: Similarity column 38121 (100.0%), 2044.32 column/sec. Elapsed time 18.65 sec\n",
      "EvaluatorHoldout: Processed 35595 (100.0%) in 33.16 sec. Users per second: 1073\n"
     ]
    },
    {
     "name": "stderr",
     "output_type": "stream",
     "text": [
      "[I 2024-11-19 00:48:01,297] Trial 102 finished with value: 0.05197371442841115 and parameters: {'topK': 31, 'alpha': 0.3733732905962485, 'beta': 0.43854266106213935, 'normalize_similarity': True, 'implicit': False}. Best is trial 89 with value: 0.052120791220452205.\n"
     ]
    },
    {
     "name": "stdout",
     "output_type": "stream",
     "text": [
      "RP3betaRecommender: Similarity column 38121 (100.0%), 2053.54 column/sec. Elapsed time 18.56 sec\n",
      "EvaluatorHoldout: Processed 35595 (100.0%) in 33.54 sec. Users per second: 1061\n"
     ]
    },
    {
     "name": "stderr",
     "output_type": "stream",
     "text": [
      "[I 2024-11-19 00:48:55,506] Trial 103 finished with value: 0.05208686680178294 and parameters: {'topK': 33, 'alpha': 0.37463634757885317, 'beta': 0.4172693078105404, 'normalize_similarity': True, 'implicit': False}. Best is trial 89 with value: 0.052120791220452205.\n"
     ]
    },
    {
     "name": "stdout",
     "output_type": "stream",
     "text": [
      "RP3betaRecommender: Similarity column 38121 (100.0%), 2067.78 column/sec. Elapsed time 18.44 sec\n",
      "EvaluatorHoldout: Processed 35595 (100.0%) in 32.91 sec. Users per second: 1082\n"
     ]
    },
    {
     "name": "stderr",
     "output_type": "stream",
     "text": [
      "[I 2024-11-19 00:49:48,750] Trial 104 finished with value: 0.0522386270142257 and parameters: {'topK': 26, 'alpha': 0.31706755366606404, 'beta': 0.4294853719356063, 'normalize_similarity': True, 'implicit': False}. Best is trial 104 with value: 0.0522386270142257.\n"
     ]
    },
    {
     "name": "stdout",
     "output_type": "stream",
     "text": [
      "RP3betaRecommender: Similarity column 38121 (100.0%), 2103.29 column/sec. Elapsed time 18.12 sec\n",
      "EvaluatorHoldout: Processed 35595 (100.0%) in 32.19 sec. Users per second: 1106\n"
     ]
    },
    {
     "name": "stderr",
     "output_type": "stream",
     "text": [
      "[I 2024-11-19 00:50:40,730] Trial 105 finished with value: 0.052604010729166976 and parameters: {'topK': 21, 'alpha': 0.33459408427042225, 'beta': 0.43424049814205146, 'normalize_similarity': True, 'implicit': False}. Best is trial 105 with value: 0.052604010729166976.\n"
     ]
    },
    {
     "name": "stdout",
     "output_type": "stream",
     "text": [
      "RP3betaRecommender: Similarity column 38121 (100.0%), 1641.01 column/sec. Elapsed time 23.23 sec\n",
      "EvaluatorHoldout: Processed 35595 (100.0%) in 37.74 sec. Users per second: 943\n"
     ]
    },
    {
     "name": "stderr",
     "output_type": "stream",
     "text": [
      "[I 2024-11-19 00:51:47,666] Trial 106 finished with value: 0.046504350084837276 and parameters: {'topK': 125, 'alpha': 0.34190841565997043, 'beta': 0.5565175746690098, 'normalize_similarity': True, 'implicit': False}. Best is trial 105 with value: 0.052604010729166976.\n"
     ]
    },
    {
     "name": "stdout",
     "output_type": "stream",
     "text": [
      "RP3betaRecommender: Similarity column 38121 (100.0%), 2104.58 column/sec. Elapsed time 18.11 sec\n",
      "EvaluatorHoldout: Processed 35595 (100.0%) in 32.18 sec. Users per second: 1106\n"
     ]
    },
    {
     "name": "stderr",
     "output_type": "stream",
     "text": [
      "[I 2024-11-19 00:52:39,617] Trial 107 finished with value: 0.05258412653819152 and parameters: {'topK': 21, 'alpha': 0.1832933271038561, 'beta': 0.4195972292281478, 'normalize_similarity': True, 'implicit': False}. Best is trial 105 with value: 0.052604010729166976.\n"
     ]
    },
    {
     "name": "stdout",
     "output_type": "stream",
     "text": [
      "RP3betaRecommender: Similarity column 38121 (100.0%), 2061.13 column/sec. Elapsed time 18.50 sec\n",
      "EvaluatorHoldout: Processed 35595 (100.0%) in 32.83 sec. Users per second: 1084\n"
     ]
    },
    {
     "name": "stderr",
     "output_type": "stream",
     "text": [
      "[I 2024-11-19 00:53:32,717] Trial 108 finished with value: 0.05134388078403931 and parameters: {'topK': 25, 'alpha': 0.05461063744847933, 'beta': 0.4509080342372877, 'normalize_similarity': True, 'implicit': False}. Best is trial 105 with value: 0.052604010729166976.\n"
     ]
    },
    {
     "name": "stdout",
     "output_type": "stream",
     "text": [
      "RP3betaRecommender: Similarity column 38121 (100.0%), 1749.81 column/sec. Elapsed time 21.79 sec\n",
      "EvaluatorHoldout: Processed 35595 (100.0%) in 36.52 sec. Users per second: 975\n"
     ]
    },
    {
     "name": "stderr",
     "output_type": "stream",
     "text": [
      "[I 2024-11-19 00:54:35,541] Trial 109 finished with value: 0.047756126573866145 and parameters: {'topK': 93, 'alpha': 0.17022633963538272, 'beta': 0.4963119615826337, 'normalize_similarity': True, 'implicit': False}. Best is trial 105 with value: 0.052604010729166976.\n"
     ]
    },
    {
     "name": "stdout",
     "output_type": "stream",
     "text": [
      "RP3betaRecommender: Similarity column 38121 (100.0%), 2115.91 column/sec. Elapsed time 18.02 sec\n",
      "EvaluatorHoldout: Processed 35595 (100.0%) in 32.41 sec. Users per second: 1098\n"
     ]
    },
    {
     "name": "stderr",
     "output_type": "stream",
     "text": [
      "[I 2024-11-19 00:55:27,652] Trial 110 finished with value: 0.04293335072475257 and parameters: {'topK': 22, 'alpha': 0.3311561092064421, 'beta': 0.7425589454079415, 'normalize_similarity': True, 'implicit': False}. Best is trial 105 with value: 0.052604010729166976.\n"
     ]
    },
    {
     "name": "stdout",
     "output_type": "stream",
     "text": [
      "RP3betaRecommender: Similarity column 38121 (100.0%), 2236.76 column/sec. Elapsed time 17.04 sec\n",
      "EvaluatorHoldout: Processed 35595 (100.0%) in 29.37 sec. Users per second: 1212\n"
     ]
    },
    {
     "name": "stderr",
     "output_type": "stream",
     "text": [
      "[I 2024-11-19 00:56:15,143] Trial 111 finished with value: 0.04707153782522357 and parameters: {'topK': 4, 'alpha': 0.5077512782313978, 'beta': 0.4106732254754244, 'normalize_similarity': True, 'implicit': False}. Best is trial 105 with value: 0.052604010729166976.\n"
     ]
    },
    {
     "name": "stdout",
     "output_type": "stream",
     "text": [
      "RP3betaRecommender: Similarity column 38121 (100.0%), 1546.98 column/sec. Elapsed time 24.64 sec\n",
      "EvaluatorHoldout: Processed 35595 (100.0%) in 38.40 sec. Users per second: 927\n"
     ]
    },
    {
     "name": "stderr",
     "output_type": "stream",
     "text": [
      "[I 2024-11-19 00:57:25,088] Trial 112 finished with value: 0.04524010305531437 and parameters: {'topK': 150, 'alpha': 0.22260271322262992, 'beta': 0.5645985025982128, 'normalize_similarity': True, 'implicit': False}. Best is trial 105 with value: 0.052604010729166976.\n"
     ]
    },
    {
     "name": "stdout",
     "output_type": "stream",
     "text": [
      "RP3betaRecommender: Similarity column 38121 (100.0%), 1648.95 column/sec. Elapsed time 23.12 sec\n",
      "EvaluatorHoldout: Processed 35595 (100.0%) in 38.24 sec. Users per second: 931\n"
     ]
    },
    {
     "name": "stderr",
     "output_type": "stream",
     "text": [
      "[I 2024-11-19 00:58:31,799] Trial 113 finished with value: 0.04912370874275444 and parameters: {'topK': 107, 'alpha': 0.39681256295973627, 'beta': 0.41780613908046665, 'normalize_similarity': True, 'implicit': False}. Best is trial 105 with value: 0.052604010729166976.\n"
     ]
    },
    {
     "name": "stdout",
     "output_type": "stream",
     "text": [
      "RP3betaRecommender: Similarity column 38121 (100.0%), 2653.27 column/sec. Elapsed time 14.37 sec\n",
      "EvaluatorHoldout: Processed 35595 (100.0%) in 27.71 sec. Users per second: 1285\n"
     ]
    },
    {
     "name": "stderr",
     "output_type": "stream",
     "text": [
      "[I 2024-11-19 00:59:14,220] Trial 114 finished with value: 0.00028209999175022335 and parameters: {'topK': 0, 'alpha': 0.4753785252325971, 'beta': 0.6712548166035965, 'normalize_similarity': True, 'implicit': False}. Best is trial 105 with value: 0.052604010729166976.\n"
     ]
    },
    {
     "name": "stdout",
     "output_type": "stream",
     "text": [
      "RP3betaRecommender: Similarity column 38121 (100.0%), 1964.99 column/sec. Elapsed time 19.40 sec\n",
      "EvaluatorHoldout: Processed 35595 (100.0%) in 35.30 sec. Users per second: 1008\n"
     ]
    },
    {
     "name": "stderr",
     "output_type": "stream",
     "text": [
      "[I 2024-11-19 01:00:11,231] Trial 115 finished with value: 0.049632166993311376 and parameters: {'topK': 31, 'alpha': 0.13077760742589262, 'beta': 0.5284689507090948, 'normalize_similarity': True, 'implicit': False}. Best is trial 105 with value: 0.052604010729166976.\n"
     ]
    },
    {
     "name": "stdout",
     "output_type": "stream",
     "text": [
      "RP3betaRecommender: Similarity column 38121 (100.0%), 1700.03 column/sec. Elapsed time 22.42 sec\n",
      "EvaluatorHoldout: Processed 35595 (100.0%) in 37.91 sec. Users per second: 939\n"
     ]
    },
    {
     "name": "stderr",
     "output_type": "stream",
     "text": [
      "[I 2024-11-19 01:01:16,015] Trial 116 finished with value: 0.04977008207412561 and parameters: {'topK': 86, 'alpha': 0.26471044626994433, 'beta': 0.3627394558840854, 'normalize_similarity': True, 'implicit': False}. Best is trial 105 with value: 0.052604010729166976.\n"
     ]
    },
    {
     "name": "stdout",
     "output_type": "stream",
     "text": [
      "RP3betaRecommender: Similarity column 38121 (100.0%), 619.85 column/sec. Elapsed time 1.03 min\n",
      "EvaluatorHoldout: Processed 35595 (100.0%) in 53.82 sec. Users per second: 661\n"
     ]
    },
    {
     "name": "stderr",
     "output_type": "stream",
     "text": [
      "[I 2024-11-19 01:03:46,975] Trial 117 finished with value: 0.041465544920031044 and parameters: {'topK': 788, 'alpha': 0.3532816322939277, 'beta': 0.36005758709102265, 'normalize_similarity': False, 'implicit': False}. Best is trial 105 with value: 0.052604010729166976.\n"
     ]
    },
    {
     "name": "stdout",
     "output_type": "stream",
     "text": [
      "RP3betaRecommender: Similarity column 38121 (100.0%), 1437.22 column/sec. Elapsed time 26.52 sec\n",
      "EvaluatorHoldout: Processed 35595 (100.0%) in 40.67 sec. Users per second: 875\n"
     ]
    },
    {
     "name": "stderr",
     "output_type": "stream",
     "text": [
      "[I 2024-11-19 01:05:02,738] Trial 118 finished with value: 0.047918962668644795 and parameters: {'topK': 168, 'alpha': 0.5853114868096579, 'beta': 0.4591470957347917, 'normalize_similarity': True, 'implicit': False}. Best is trial 105 with value: 0.052604010729166976.\n"
     ]
    },
    {
     "name": "stdout",
     "output_type": "stream",
     "text": [
      "RP3betaRecommender: Similarity column 38121 (100.0%), 1586.88 column/sec. Elapsed time 24.02 sec\n",
      "EvaluatorHoldout: Processed 35595 (100.0%) in 39.41 sec. Users per second: 903\n"
     ]
    },
    {
     "name": "stderr",
     "output_type": "stream",
     "text": [
      "[I 2024-11-19 01:06:12,278] Trial 119 finished with value: 0.04835917520072403 and parameters: {'topK': 123, 'alpha': 0.4073062417515624, 'beta': 0.4774801098333721, 'normalize_similarity': True, 'implicit': False}. Best is trial 105 with value: 0.052604010729166976.\n"
     ]
    },
    {
     "name": "stdout",
     "output_type": "stream",
     "text": [
      "RP3betaRecommender: Similarity column 38121 (100.0%), 1704.96 column/sec. Elapsed time 22.36 sec\n",
      "EvaluatorHoldout: Processed 35595 (100.0%) in 39.29 sec. Users per second: 906\n"
     ]
    },
    {
     "name": "stderr",
     "output_type": "stream",
     "text": [
      "[I 2024-11-19 01:07:18,303] Trial 120 finished with value: 0.04856325125920413 and parameters: {'topK': 84, 'alpha': 0.06300929952975703, 'beta': 0.381222073960045, 'normalize_similarity': True, 'implicit': False}. Best is trial 105 with value: 0.052604010729166976.\n"
     ]
    },
    {
     "name": "stdout",
     "output_type": "stream",
     "text": [
      "RP3betaRecommender: Similarity column 38121 (100.0%), 1920.12 column/sec. Elapsed time 19.85 sec\n",
      "EvaluatorHoldout: Processed 35595 (100.0%) in 34.14 sec. Users per second: 1043\n"
     ]
    },
    {
     "name": "stderr",
     "output_type": "stream",
     "text": [
      "[I 2024-11-19 01:08:14,420] Trial 121 finished with value: 0.05310638532699007 and parameters: {'topK': 30, 'alpha': 0.5503653599766366, 'beta': 0.2910767405467734, 'normalize_similarity': True, 'implicit': False}. Best is trial 121 with value: 0.05310638532699007.\n"
     ]
    },
    {
     "name": "stdout",
     "output_type": "stream",
     "text": [
      "RP3betaRecommender: Similarity column 38121 (100.0%), 1965.62 column/sec. Elapsed time 19.39 sec\n",
      "EvaluatorHoldout: Processed 35595 (100.0%) in 35.36 sec. Users per second: 1007\n"
     ]
    },
    {
     "name": "stderr",
     "output_type": "stream",
     "text": [
      "[I 2024-11-19 01:09:11,408] Trial 122 finished with value: 0.047694547566648864 and parameters: {'topK': 30, 'alpha': 0.4961036115946525, 'beta': 0.6127297615137522, 'normalize_similarity': True, 'implicit': False}. Best is trial 121 with value: 0.05310638532699007.\n"
     ]
    },
    {
     "name": "stdout",
     "output_type": "stream",
     "text": [
      "RP3betaRecommender: Similarity column 38121 (100.0%), 525.55 column/sec. Elapsed time 1.21 min\n",
      "EvaluatorHoldout: Processed 35595 (100.0%) in 55.98 sec. Users per second: 636\n"
     ]
    },
    {
     "name": "stderr",
     "output_type": "stream",
     "text": [
      "[I 2024-11-19 01:12:00,118] Trial 123 finished with value: 0.04210566402896622 and parameters: {'topK': 956, 'alpha': 0.5712386513814817, 'beta': 0.254420493258339, 'normalize_similarity': True, 'implicit': False}. Best is trial 121 with value: 0.05310638532699007.\n"
     ]
    },
    {
     "name": "stdout",
     "output_type": "stream",
     "text": [
      "RP3betaRecommender: Similarity column 38121 (100.0%), 2020.33 column/sec. Elapsed time 18.87 sec\n",
      "EvaluatorHoldout: Processed 35595 (100.0%) in 34.71 sec. Users per second: 1025\n"
     ]
    },
    {
     "name": "stderr",
     "output_type": "stream",
     "text": [
      "[I 2024-11-19 01:12:55,789] Trial 124 finished with value: 0.049467193760491586 and parameters: {'topK': 29, 'alpha': 0.3108094451503901, 'beta': 0.5614802779162442, 'normalize_similarity': True, 'implicit': False}. Best is trial 121 with value: 0.05310638532699007.\n"
     ]
    },
    {
     "name": "stdout",
     "output_type": "stream",
     "text": [
      "RP3betaRecommender: Similarity column 38121 (100.0%), 1745.67 column/sec. Elapsed time 21.84 sec\n",
      "EvaluatorHoldout: Processed 35595 (100.0%) in 36.37 sec. Users per second: 979\n"
     ]
    },
    {
     "name": "stderr",
     "output_type": "stream",
     "text": [
      "[I 2024-11-19 01:13:57,874] Trial 125 finished with value: 0.04937924445425327 and parameters: {'topK': 74, 'alpha': 0.18509095661181502, 'beta': 0.432105931871237, 'normalize_similarity': True, 'implicit': False}. Best is trial 121 with value: 0.05310638532699007.\n"
     ]
    },
    {
     "name": "stdout",
     "output_type": "stream",
     "text": [
      "RP3betaRecommender: Similarity column 38121 (100.0%), 1552.18 column/sec. Elapsed time 24.56 sec\n",
      "EvaluatorHoldout: Processed 35595 (100.0%) in 39.57 sec. Users per second: 899\n"
     ]
    },
    {
     "name": "stderr",
     "output_type": "stream",
     "text": [
      "[I 2024-11-19 01:15:08,207] Trial 126 finished with value: 0.034408866725974846 and parameters: {'topK': 135, 'alpha': 2.7802831159681345, 'beta': 0.3425169113021304, 'normalize_similarity': True, 'implicit': False}. Best is trial 121 with value: 0.05310638532699007.\n"
     ]
    },
    {
     "name": "stdout",
     "output_type": "stream",
     "text": [
      "RP3betaRecommender: Similarity column 38121 (100.0%), 1913.34 column/sec. Elapsed time 19.92 sec\n",
      "EvaluatorHoldout: Processed 35595 (100.0%) in 35.45 sec. Users per second: 1004\n"
     ]
    },
    {
     "name": "stderr",
     "output_type": "stream",
     "text": [
      "[I 2024-11-19 01:16:05,774] Trial 127 finished with value: 0.050787777844666246 and parameters: {'topK': 30, 'alpha': 0.4479117530632486, 'beta': 0.5042357624169845, 'normalize_similarity': True, 'implicit': False}. Best is trial 121 with value: 0.05310638532699007.\n"
     ]
    },
    {
     "name": "stdout",
     "output_type": "stream",
     "text": [
      "RP3betaRecommender: Similarity column 38121 (100.0%), 446.95 column/sec. Elapsed time 1.42 min\n",
      "EvaluatorHoldout: Processed 35595 (100.0%) in 59.92 sec. Users per second: 594\n"
     ]
    },
    {
     "name": "stderr",
     "output_type": "stream",
     "text": [
      "[I 2024-11-19 01:19:25,401] Trial 128 finished with value: 0.03950921633812344 and parameters: {'topK': 1378, 'alpha': 0.25963215917154364, 'beta': 0.23769884160249755, 'normalize_similarity': True, 'implicit': False}. Best is trial 121 with value: 0.05310638532699007.\n"
     ]
    },
    {
     "name": "stdout",
     "output_type": "stream",
     "text": [
      "RP3betaRecommender: Similarity column 38121 (100.0%), 1711.26 column/sec. Elapsed time 22.28 sec\n",
      "EvaluatorHoldout: Processed 35595 (100.0%) in 29.37 sec. Users per second: 1212\n"
     ]
    },
    {
     "name": "stderr",
     "output_type": "stream",
     "text": [
      "[I 2024-11-19 01:20:17,996] Trial 129 finished with value: 0.02352481064533301 and parameters: {'topK': 3, 'alpha': 2.2600585704792553, 'beta': 0.7419139664105933, 'normalize_similarity': True, 'implicit': False}. Best is trial 121 with value: 0.05310638532699007.\n"
     ]
    },
    {
     "name": "stdout",
     "output_type": "stream",
     "text": [
      "RP3betaRecommender: Similarity column 38121 (100.0%), 1832.22 column/sec. Elapsed time 20.81 sec\n",
      "EvaluatorHoldout: Processed 35595 (100.0%) in 35.72 sec. Users per second: 996\n"
     ]
    },
    {
     "name": "stderr",
     "output_type": "stream",
     "text": [
      "[I 2024-11-19 01:21:17,817] Trial 130 finished with value: 0.024618541484112053 and parameters: {'topK': 75, 'alpha': 0.562133817066131, 'beta': 1.166660252679181, 'normalize_similarity': True, 'implicit': False}. Best is trial 121 with value: 0.05310638532699007.\n"
     ]
    },
    {
     "name": "stdout",
     "output_type": "stream",
     "text": [
      "RP3betaRecommender: Similarity column 38121 (100.0%), 1917.28 column/sec. Elapsed time 19.88 sec\n",
      "EvaluatorHoldout: Processed 35595 (100.0%) in 35.45 sec. Users per second: 1004\n"
     ]
    },
    {
     "name": "stderr",
     "output_type": "stream",
     "text": [
      "[I 2024-11-19 01:22:16,167] Trial 131 finished with value: 0.05142130939560146 and parameters: {'topK': 54, 'alpha': 0.6250573106105788, 'beta': 0.28282348083574455, 'normalize_similarity': True, 'implicit': False}. Best is trial 121 with value: 0.05310638532699007.\n"
     ]
    },
    {
     "name": "stdout",
     "output_type": "stream",
     "text": [
      "RP3betaRecommender: Similarity column 38121 (100.0%), 1703.96 column/sec. Elapsed time 22.37 sec\n",
      "EvaluatorHoldout: Processed 35595 (100.0%) in 37.61 sec. Users per second: 946\n"
     ]
    },
    {
     "name": "stderr",
     "output_type": "stream",
     "text": [
      "[I 2024-11-19 01:23:21,350] Trial 132 finished with value: 0.04944538647972961 and parameters: {'topK': 106, 'alpha': 0.501876251106765, 'beta': 0.3162919248944611, 'normalize_similarity': True, 'implicit': False}. Best is trial 121 with value: 0.05310638532699007.\n"
     ]
    },
    {
     "name": "stdout",
     "output_type": "stream",
     "text": [
      "RP3betaRecommender: Similarity column 38121 (100.0%), 1959.76 column/sec. Elapsed time 19.45 sec\n",
      "EvaluatorHoldout: Processed 35595 (100.0%) in 34.73 sec. Users per second: 1025\n"
     ]
    },
    {
     "name": "stderr",
     "output_type": "stream",
     "text": [
      "[I 2024-11-19 01:24:18,356] Trial 133 finished with value: 0.05150252733017 and parameters: {'topK': 45, 'alpha': 0.380065565185371, 'beta': 0.3963701533685153, 'normalize_similarity': True, 'implicit': False}. Best is trial 121 with value: 0.05310638532699007.\n"
     ]
    },
    {
     "name": "stdout",
     "output_type": "stream",
     "text": [
      "RP3betaRecommender: Similarity column 38121 (100.0%), 2022.94 column/sec. Elapsed time 18.84 sec\n",
      "EvaluatorHoldout: Processed 35595 (100.0%) in 34.18 sec. Users per second: 1041\n"
     ]
    },
    {
     "name": "stderr",
     "output_type": "stream",
     "text": [
      "[I 2024-11-19 01:25:13,792] Trial 134 finished with value: 0.052160710105082685 and parameters: {'topK': 34, 'alpha': 0.3738744972841359, 'beta': 0.4116120710751212, 'normalize_similarity': True, 'implicit': False}. Best is trial 121 with value: 0.05310638532699007.\n"
     ]
    },
    {
     "name": "stdout",
     "output_type": "stream",
     "text": [
      "RP3betaRecommender: Similarity column 38121 (100.0%), 1814.83 column/sec. Elapsed time 21.01 sec\n",
      "EvaluatorHoldout: Processed 35595 (100.0%) in 37.03 sec. Users per second: 961\n"
     ]
    },
    {
     "name": "stderr",
     "output_type": "stream",
     "text": [
      "[I 2024-11-19 01:26:15,695] Trial 135 finished with value: 0.04945959281778748 and parameters: {'topK': 71, 'alpha': 0.3167983056534002, 'beta': 0.4735784344318861, 'normalize_similarity': True, 'implicit': False}. Best is trial 121 with value: 0.05310638532699007.\n"
     ]
    },
    {
     "name": "stdout",
     "output_type": "stream",
     "text": [
      "RP3betaRecommender: Similarity column 38121 (100.0%), 2806.89 column/sec. Elapsed time 13.58 sec\n",
      "EvaluatorHoldout: Processed 35595 (100.0%) in 25.65 sec. Users per second: 1388\n"
     ]
    },
    {
     "name": "stderr",
     "output_type": "stream",
     "text": [
      "[I 2024-11-19 01:26:55,277] Trial 136 finished with value: 0.00028209999175022335 and parameters: {'topK': 0, 'alpha': 0.4333805973743398, 'beta': 1.579414999168487, 'normalize_similarity': True, 'implicit': False}. Best is trial 121 with value: 0.05310638532699007.\n"
     ]
    },
    {
     "name": "stdout",
     "output_type": "stream",
     "text": [
      "RP3betaRecommender: Similarity column 38121 (100.0%), 1383.55 column/sec. Elapsed time 27.55 sec\n",
      "EvaluatorHoldout: Processed 35595 (100.0%) in 33.16 sec. Users per second: 1073\n"
     ]
    },
    {
     "name": "stderr",
     "output_type": "stream",
     "text": [
      "[I 2024-11-19 01:28:04,975] Trial 137 finished with value: 0.04047106669609666 and parameters: {'topK': 191, 'alpha': 0.223633149134855, 'beta': 0.6090734167081322, 'normalize_similarity': False, 'implicit': False}. Best is trial 121 with value: 0.05310638532699007.\n"
     ]
    },
    {
     "name": "stdout",
     "output_type": "stream",
     "text": [
      "RP3betaRecommender: Similarity column 38121 (100.0%), 1691.84 column/sec. Elapsed time 22.53 sec\n",
      "EvaluatorHoldout: Processed 35595 (100.0%) in 37.33 sec. Users per second: 954\n"
     ]
    },
    {
     "name": "stderr",
     "output_type": "stream",
     "text": [
      "[I 2024-11-19 01:29:09,609] Trial 138 finished with value: 0.04860987587430744 and parameters: {'topK': 103, 'alpha': 0.12997011328143537, 'beta': 0.3513573817008576, 'normalize_similarity': True, 'implicit': False}. Best is trial 121 with value: 0.05310638532699007.\n"
     ]
    },
    {
     "name": "stdout",
     "output_type": "stream",
     "text": [
      "RP3betaRecommender: Similarity column 38121 (100.0%), 1977.41 column/sec. Elapsed time 19.28 sec\n",
      "EvaluatorHoldout: Processed 35595 (100.0%) in 33.95 sec. Users per second: 1048\n"
     ]
    },
    {
     "name": "stderr",
     "output_type": "stream",
     "text": [
      "[I 2024-11-19 01:30:04,781] Trial 139 finished with value: 0.05319493664394451 and parameters: {'topK': 31, 'alpha': 0.36432647724467515, 'beta': 0.23656263298345312, 'normalize_similarity': True, 'implicit': False}. Best is trial 139 with value: 0.05319493664394451.\n"
     ]
    },
    {
     "name": "stdout",
     "output_type": "stream",
     "text": [
      "RP3betaRecommender: Similarity column 38121 (100.0%), 1424.25 column/sec. Elapsed time 26.77 sec\n",
      "EvaluatorHoldout: Processed 35595 (100.0%) in 34.48 sec. Users per second: 1032\n"
     ]
    },
    {
     "name": "stderr",
     "output_type": "stream",
     "text": [
      "[I 2024-11-19 01:31:12,016] Trial 140 finished with value: 0.04609406194467145 and parameters: {'topK': 146, 'alpha': 0.37578312010447307, 'beta': 0.06832170720569448, 'normalize_similarity': True, 'implicit': False}. Best is trial 139 with value: 0.05319493664394451.\n"
     ]
    },
    {
     "name": "stdout",
     "output_type": "stream",
     "text": [
      "RP3betaRecommender: Similarity column 38121 (100.0%), 1938.70 column/sec. Elapsed time 19.66 sec\n",
      "EvaluatorHoldout: Processed 35595 (100.0%) in 34.87 sec. Users per second: 1021\n"
     ]
    },
    {
     "name": "stderr",
     "output_type": "stream",
     "text": [
      "[I 2024-11-19 01:32:08,606] Trial 141 finished with value: 0.053252171140496435 and parameters: {'topK': 30, 'alpha': 0.5122981172817976, 'beta': 0.22535447726086189, 'normalize_similarity': True, 'implicit': False}. Best is trial 141 with value: 0.053252171140496435.\n"
     ]
    },
    {
     "name": "stdout",
     "output_type": "stream",
     "text": [
      "RP3betaRecommender: Similarity column 38121 (100.0%), 2765.17 column/sec. Elapsed time 13.79 sec\n",
      "EvaluatorHoldout: Processed 35595 (100.0%) in 25.85 sec. Users per second: 1377\n"
     ]
    },
    {
     "name": "stderr",
     "output_type": "stream",
     "text": [
      "[I 2024-11-19 01:32:48,619] Trial 142 finished with value: 0.00028209999175022335 and parameters: {'topK': 0, 'alpha': 0.5443308192678542, 'beta': 0.2166194841809774, 'normalize_similarity': True, 'implicit': False}. Best is trial 141 with value: 0.053252171140496435.\n"
     ]
    },
    {
     "name": "stdout",
     "output_type": "stream",
     "text": [
      "RP3betaRecommender: Similarity column 38121 (100.0%), 2022.83 column/sec. Elapsed time 18.85 sec\n",
      "EvaluatorHoldout: Processed 35595 (100.0%) in 33.87 sec. Users per second: 1051\n"
     ]
    },
    {
     "name": "stderr",
     "output_type": "stream",
     "text": [
      "[I 2024-11-19 01:33:43,265] Trial 143 finished with value: 0.05326754359560769 and parameters: {'topK': 28, 'alpha': 0.28698680315701985, 'beta': 0.2772299964112176, 'normalize_similarity': True, 'implicit': False}. Best is trial 143 with value: 0.05326754359560769.\n"
     ]
    },
    {
     "name": "stdout",
     "output_type": "stream",
     "text": [
      "RP3betaRecommender: Similarity column 38121 (100.0%), 1783.79 column/sec. Elapsed time 21.37 sec\n",
      "EvaluatorHoldout: Processed 35595 (100.0%) in 34.52 sec. Users per second: 1031\n"
     ]
    },
    {
     "name": "stderr",
     "output_type": "stream",
     "text": [
      "[I 2024-11-19 01:34:41,774] Trial 144 finished with value: 0.014185831789287687 and parameters: {'topK': 80, 'alpha': 0.2656761803004948, 'beta': 1.969877050084461, 'normalize_similarity': True, 'implicit': False}. Best is trial 143 with value: 0.05326754359560769.\n"
     ]
    },
    {
     "name": "stdout",
     "output_type": "stream",
     "text": [
      "RP3betaRecommender: Similarity column 38121 (100.0%), 1996.07 column/sec. Elapsed time 19.10 sec\n",
      "EvaluatorHoldout: Processed 35595 (100.0%) in 34.14 sec. Users per second: 1043\n"
     ]
    },
    {
     "name": "stderr",
     "output_type": "stream",
     "text": [
      "[I 2024-11-19 01:35:37,287] Trial 145 finished with value: 0.05269300797998477 and parameters: {'topK': 38, 'alpha': 0.3277617934659224, 'beta': 0.2914574883599191, 'normalize_similarity': True, 'implicit': False}. Best is trial 143 with value: 0.05326754359560769.\n"
     ]
    },
    {
     "name": "stdout",
     "output_type": "stream",
     "text": [
      "RP3betaRecommender: Similarity column 38121 (100.0%), 2039.49 column/sec. Elapsed time 18.69 sec\n",
      "EvaluatorHoldout: Processed 35595 (100.0%) in 33.42 sec. Users per second: 1065\n"
     ]
    },
    {
     "name": "stderr",
     "output_type": "stream",
     "text": [
      "[I 2024-11-19 01:36:31,198] Trial 146 finished with value: 0.05320658220679112 and parameters: {'topK': 26, 'alpha': 0.17105733583230504, 'beta': 0.2707370590742991, 'normalize_similarity': True, 'implicit': False}. Best is trial 143 with value: 0.05326754359560769.\n"
     ]
    },
    {
     "name": "stdout",
     "output_type": "stream",
     "text": [
      "RP3betaRecommender: Similarity column 38121 (100.0%), 1808.66 column/sec. Elapsed time 21.08 sec\n",
      "EvaluatorHoldout: Processed 35595 (100.0%) in 36.12 sec. Users per second: 985\n"
     ]
    },
    {
     "name": "stderr",
     "output_type": "stream",
     "text": [
      "[I 2024-11-19 01:37:32,203] Trial 147 finished with value: 0.049886842052453285 and parameters: {'topK': 77, 'alpha': 0.18265010539478824, 'beta': 0.2752808413336244, 'normalize_similarity': True, 'implicit': False}. Best is trial 143 with value: 0.05326754359560769.\n"
     ]
    },
    {
     "name": "stdout",
     "output_type": "stream",
     "text": [
      "RP3betaRecommender: Similarity column 38121 (100.0%), 1697.75 column/sec. Elapsed time 22.45 sec\n",
      "EvaluatorHoldout: Processed 35595 (100.0%) in 37.00 sec. Users per second: 962\n"
     ]
    },
    {
     "name": "stderr",
     "output_type": "stream",
     "text": [
      "[I 2024-11-19 01:38:36,254] Trial 148 finished with value: 0.047728187702480045 and parameters: {'topK': 104, 'alpha': 0.0015838067577997883, 'beta': 0.3022637766304651, 'normalize_similarity': True, 'implicit': False}. Best is trial 143 with value: 0.05326754359560769.\n"
     ]
    },
    {
     "name": "stdout",
     "output_type": "stream",
     "text": [
      "RP3betaRecommender: Similarity column 38121 (100.0%), 1987.75 column/sec. Elapsed time 19.18 sec\n",
      "EvaluatorHoldout: Processed 35595 (100.0%) in 33.20 sec. Users per second: 1072\n"
     ]
    },
    {
     "name": "stderr",
     "output_type": "stream",
     "text": [
      "[I 2024-11-19 01:39:30,388] Trial 149 finished with value: 0.052885774040850174 and parameters: {'topK': 26, 'alpha': 0.08030898965129339, 'beta': 0.21553380635468028, 'normalize_similarity': True, 'implicit': False}. Best is trial 143 with value: 0.05326754359560769.\n"
     ]
    },
    {
     "name": "stdout",
     "output_type": "stream",
     "text": [
      "RP3betaRecommender: Similarity column 38121 (100.0%), 2047.90 column/sec. Elapsed time 18.61 sec\n",
      "EvaluatorHoldout: Processed 35595 (100.0%) in 32.54 sec. Users per second: 1094\n"
     ]
    },
    {
     "name": "stderr",
     "output_type": "stream",
     "text": [
      "[I 2024-11-19 01:40:23,125] Trial 150 finished with value: 0.05314601212494 and parameters: {'topK': 22, 'alpha': 0.08215111407656647, 'beta': 0.22795107276285004, 'normalize_similarity': True, 'implicit': False}. Best is trial 143 with value: 0.05326754359560769.\n"
     ]
    },
    {
     "name": "stdout",
     "output_type": "stream",
     "text": [
      "RP3betaRecommender: Similarity column 38121 (100.0%), 2074.47 column/sec. Elapsed time 18.38 sec\n",
      "EvaluatorHoldout: Processed 35595 (100.0%) in 32.78 sec. Users per second: 1086\n"
     ]
    },
    {
     "name": "stderr",
     "output_type": "stream",
     "text": [
      "[I 2024-11-19 01:41:15,902] Trial 151 finished with value: 0.0529355904275818 and parameters: {'topK': 24, 'alpha': 0.07756651729178146, 'beta': 0.19942934357515224, 'normalize_similarity': True, 'implicit': False}. Best is trial 143 with value: 0.05326754359560769.\n"
     ]
    },
    {
     "name": "stdout",
     "output_type": "stream",
     "text": [
      "RP3betaRecommender: Similarity column 38121 (100.0%), 1840.65 column/sec. Elapsed time 20.71 sec\n",
      "EvaluatorHoldout: Processed 35595 (100.0%) in 35.28 sec. Users per second: 1009\n"
     ]
    },
    {
     "name": "stderr",
     "output_type": "stream",
     "text": [
      "[I 2024-11-19 01:42:14,854] Trial 152 finished with value: 0.04926120799024129 and parameters: {'topK': 64, 'alpha': 0.09971192520895295, 'beta': 0.0720975296417335, 'normalize_similarity': True, 'implicit': False}. Best is trial 143 with value: 0.05326754359560769.\n"
     ]
    },
    {
     "name": "stdout",
     "output_type": "stream",
     "text": [
      "RP3betaRecommender: Similarity column 38121 (100.0%), 2732.89 column/sec. Elapsed time 13.95 sec\n",
      "EvaluatorHoldout: Processed 35595 (100.0%) in 26.78 sec. Users per second: 1329\n"
     ]
    },
    {
     "name": "stderr",
     "output_type": "stream",
     "text": [
      "[I 2024-11-19 01:42:55,962] Trial 153 finished with value: 0.00028209999175022335 and parameters: {'topK': 0, 'alpha': 0.06553040724407316, 'beta': 0.22610702837255164, 'normalize_similarity': True, 'implicit': False}. Best is trial 143 with value: 0.05326754359560769.\n"
     ]
    },
    {
     "name": "stdout",
     "output_type": "stream",
     "text": [
      "RP3betaRecommender: Similarity column 38121 (100.0%), 1952.10 column/sec. Elapsed time 19.53 sec\n",
      "EvaluatorHoldout: Processed 35595 (100.0%) in 33.94 sec. Users per second: 1049\n"
     ]
    },
    {
     "name": "stderr",
     "output_type": "stream",
     "text": [
      "[I 2024-11-19 01:43:51,375] Trial 154 finished with value: 0.05303365462867992 and parameters: {'topK': 27, 'alpha': 0.16253628745385595, 'beta': 0.21174536614229766, 'normalize_similarity': True, 'implicit': False}. Best is trial 143 with value: 0.05326754359560769.\n"
     ]
    },
    {
     "name": "stdout",
     "output_type": "stream",
     "text": [
      "RP3betaRecommender: Similarity column 38121 (100.0%), 1779.13 column/sec. Elapsed time 21.43 sec\n",
      "EvaluatorHoldout: Processed 35595 (100.0%) in 34.85 sec. Users per second: 1021\n"
     ]
    },
    {
     "name": "stderr",
     "output_type": "stream",
     "text": [
      "[I 2024-11-19 01:44:50,676] Trial 155 finished with value: 0.04933083610369535 and parameters: {'topK': 70, 'alpha': 0.15332274905520904, 'beta': 0.10163431713352847, 'normalize_similarity': True, 'implicit': False}. Best is trial 143 with value: 0.05326754359560769.\n"
     ]
    },
    {
     "name": "stdout",
     "output_type": "stream",
     "text": [
      "RP3betaRecommender: Similarity column 38121 (100.0%), 1602.94 column/sec. Elapsed time 23.78 sec\n",
      "EvaluatorHoldout: Processed 35595 (100.0%) in 37.37 sec. Users per second: 952\n"
     ]
    },
    {
     "name": "stderr",
     "output_type": "stream",
     "text": [
      "[I 2024-11-19 01:45:56,755] Trial 156 finished with value: 0.047559488692230235 and parameters: {'topK': 116, 'alpha': 0.07225221546971848, 'beta': 0.22403091043996853, 'normalize_similarity': True, 'implicit': False}. Best is trial 143 with value: 0.05326754359560769.\n"
     ]
    },
    {
     "name": "stdout",
     "output_type": "stream",
     "text": [
      "RP3betaRecommender: Similarity column 38121 (100.0%), 2100.03 column/sec. Elapsed time 18.15 sec\n",
      "EvaluatorHoldout: Processed 35595 (100.0%) in 31.63 sec. Users per second: 1125\n"
     ]
    },
    {
     "name": "stderr",
     "output_type": "stream",
     "text": [
      "[I 2024-11-19 01:46:47,925] Trial 157 finished with value: 0.05401447501320864 and parameters: {'topK': 17, 'alpha': 0.20481399017918037, 'beta': 0.15556981201121, 'normalize_similarity': True, 'implicit': False}. Best is trial 157 with value: 0.05401447501320864.\n"
     ]
    },
    {
     "name": "stdout",
     "output_type": "stream",
     "text": [
      "RP3betaRecommender: Similarity column 38121 (100.0%), 2834.27 column/sec. Elapsed time 13.45 sec\n",
      "EvaluatorHoldout: Processed 35595 (100.0%) in 25.33 sec. Users per second: 1405\n"
     ]
    },
    {
     "name": "stderr",
     "output_type": "stream",
     "text": [
      "[I 2024-11-19 01:47:27,047] Trial 158 finished with value: 0.00028209999175022335 and parameters: {'topK': 0, 'alpha': 0.21701130367810834, 'beta': 0.05020246354026786, 'normalize_similarity': True, 'implicit': False}. Best is trial 157 with value: 0.05401447501320864.\n"
     ]
    },
    {
     "name": "stdout",
     "output_type": "stream",
     "text": [
      "RP3betaRecommender: Similarity column 38121 (100.0%), 1911.41 column/sec. Elapsed time 19.94 sec\n",
      "EvaluatorHoldout: Processed 35595 (100.0%) in 34.64 sec. Users per second: 1028\n"
     ]
    },
    {
     "name": "stderr",
     "output_type": "stream",
     "text": [
      "[I 2024-11-19 01:48:24,240] Trial 159 finished with value: 0.050381820837149656 and parameters: {'topK': 58, 'alpha': 0.14144727603042617, 'beta': 0.1381875493323198, 'normalize_similarity': True, 'implicit': False}. Best is trial 157 with value: 0.05401447501320864.\n"
     ]
    },
    {
     "name": "stdout",
     "output_type": "stream",
     "text": [
      "RP3betaRecommender: Similarity column 38121 (100.0%), 1719.35 column/sec. Elapsed time 22.17 sec\n",
      "EvaluatorHoldout: Processed 35595 (100.0%) in 31.71 sec. Users per second: 1123\n"
     ]
    },
    {
     "name": "stderr",
     "output_type": "stream",
     "text": [
      "[I 2024-11-19 01:49:22,027] Trial 160 finished with value: 0.04776268849066837 and parameters: {'topK': 95, 'alpha': 0.03244193248186478, 'beta': 0.13805880652432356, 'normalize_similarity': True, 'implicit': False}. Best is trial 157 with value: 0.05401447501320864.\n"
     ]
    },
    {
     "name": "stdout",
     "output_type": "stream",
     "text": [
      "RP3betaRecommender: Similarity column 38121 (100.0%), 2017.77 column/sec. Elapsed time 18.89 sec\n",
      "EvaluatorHoldout: Processed 35595 (100.0%) in 33.52 sec. Users per second: 1062\n"
     ]
    },
    {
     "name": "stderr",
     "output_type": "stream",
     "text": [
      "[I 2024-11-19 01:50:16,373] Trial 161 finished with value: 0.05301892320349807 and parameters: {'topK': 30, 'alpha': 0.2722520258019199, 'beta': 0.24560804223935304, 'normalize_similarity': True, 'implicit': False}. Best is trial 157 with value: 0.05401447501320864.\n"
     ]
    },
    {
     "name": "stdout",
     "output_type": "stream",
     "text": [
      "RP3betaRecommender: Similarity column 38121 (100.0%), 2080.81 column/sec. Elapsed time 18.32 sec\n",
      "EvaluatorHoldout: Processed 35595 (100.0%) in 32.63 sec. Users per second: 1091\n"
     ]
    },
    {
     "name": "stderr",
     "output_type": "stream",
     "text": [
      "[I 2024-11-19 01:51:09,179] Trial 162 finished with value: 0.0535771209171949 and parameters: {'topK': 25, 'alpha': 0.2751873347902815, 'beta': 0.2438078874490783, 'normalize_similarity': True, 'implicit': False}. Best is trial 157 with value: 0.05401447501320864.\n"
     ]
    },
    {
     "name": "stdout",
     "output_type": "stream",
     "text": [
      "RP3betaRecommender: Similarity column 38121 (100.0%), 2047.84 column/sec. Elapsed time 18.62 sec\n",
      "EvaluatorHoldout: Processed 35595 (100.0%) in 32.35 sec. Users per second: 1100\n"
     ]
    },
    {
     "name": "stderr",
     "output_type": "stream",
     "text": [
      "[I 2024-11-19 01:52:01,757] Trial 163 finished with value: 0.05353533356967648 and parameters: {'topK': 24, 'alpha': 0.2678523124150825, 'beta': 0.20363590582996663, 'normalize_similarity': True, 'implicit': False}. Best is trial 157 with value: 0.05401447501320864.\n"
     ]
    },
    {
     "name": "stdout",
     "output_type": "stream",
     "text": [
      "RP3betaRecommender: Similarity column 38121 (100.0%), 2040.39 column/sec. Elapsed time 18.68 sec\n",
      "EvaluatorHoldout: Processed 35595 (100.0%) in 32.86 sec. Users per second: 1083\n"
     ]
    },
    {
     "name": "stderr",
     "output_type": "stream",
     "text": [
      "[I 2024-11-19 01:52:55,072] Trial 164 finished with value: 0.05314066203341206 and parameters: {'topK': 28, 'alpha': 0.2308188865709454, 'beta': 0.21123821339281082, 'normalize_similarity': True, 'implicit': False}. Best is trial 157 with value: 0.05401447501320864.\n"
     ]
    },
    {
     "name": "stdout",
     "output_type": "stream",
     "text": [
      "RP3betaRecommender: Similarity column 38121 (100.0%), 1838.79 column/sec. Elapsed time 20.73 sec\n",
      "EvaluatorHoldout: Processed 35595 (100.0%) in 34.62 sec. Users per second: 1028\n"
     ]
    },
    {
     "name": "stderr",
     "output_type": "stream",
     "text": [
      "[I 2024-11-19 01:53:53,623] Trial 165 finished with value: 0.050152818190532314 and parameters: {'topK': 71, 'alpha': 0.21888038804496024, 'beta': 0.19025663581274205, 'normalize_similarity': True, 'implicit': False}. Best is trial 157 with value: 0.05401447501320864.\n"
     ]
    },
    {
     "name": "stdout",
     "output_type": "stream",
     "text": [
      "RP3betaRecommender: Similarity column 38121 (100.0%), 2107.57 column/sec. Elapsed time 18.09 sec\n",
      "EvaluatorHoldout: Processed 35595 (100.0%) in 32.17 sec. Users per second: 1106\n"
     ]
    },
    {
     "name": "stderr",
     "output_type": "stream",
     "text": [
      "[I 2024-11-19 01:54:45,405] Trial 166 finished with value: 0.0534045155263004 and parameters: {'topK': 21, 'alpha': 0.10618897742031479, 'beta': 0.21678049064873364, 'normalize_similarity': True, 'implicit': False}. Best is trial 157 with value: 0.05401447501320864.\n"
     ]
    },
    {
     "name": "stdout",
     "output_type": "stream",
     "text": [
      "RP3betaRecommender: Similarity column 38121 (100.0%), 1633.43 column/sec. Elapsed time 23.34 sec\n",
      "EvaluatorHoldout: Processed 35595 (100.0%) in 37.55 sec. Users per second: 948\n"
     ]
    },
    {
     "name": "stderr",
     "output_type": "stream",
     "text": [
      "[I 2024-11-19 01:55:51,215] Trial 167 finished with value: 0.03524834279827832 and parameters: {'topK': 122, 'alpha': 0.11733715102422207, 'beta': 0.125632467242239, 'normalize_similarity': False, 'implicit': False}. Best is trial 157 with value: 0.05401447501320864.\n"
     ]
    },
    {
     "name": "stdout",
     "output_type": "stream",
     "text": [
      "RP3betaRecommender: Similarity column 38121 (100.0%), 2790.02 column/sec. Elapsed time 13.66 sec\n",
      "EvaluatorHoldout: Processed 35595 (100.0%) in 25.70 sec. Users per second: 1385\n"
     ]
    },
    {
     "name": "stderr",
     "output_type": "stream",
     "text": [
      "[I 2024-11-19 01:56:30,944] Trial 168 finished with value: 0.00028209999175022335 and parameters: {'topK': 0, 'alpha': 0.2723370845704556, 'beta': 0.21470016290477237, 'normalize_similarity': True, 'implicit': False}. Best is trial 157 with value: 0.05401447501320864.\n"
     ]
    },
    {
     "name": "stdout",
     "output_type": "stream",
     "text": [
      "RP3betaRecommender: Similarity column 38121 (100.0%), 1823.91 column/sec. Elapsed time 20.90 sec\n",
      "EvaluatorHoldout: Processed 35595 (100.0%) in 34.90 sec. Users per second: 1020\n"
     ]
    },
    {
     "name": "stderr",
     "output_type": "stream",
     "text": [
      "[I 2024-11-19 01:57:29,755] Trial 169 finished with value: 0.04785950519178328 and parameters: {'topK': 73, 'alpha': 0.0972203376162209, 'beta': 0.009043057096669888, 'normalize_similarity': True, 'implicit': False}. Best is trial 157 with value: 0.05401447501320864.\n"
     ]
    },
    {
     "name": "stdout",
     "output_type": "stream",
     "text": [
      "RP3betaRecommender: Similarity column 38121 (100.0%), 1858.68 column/sec. Elapsed time 20.51 sec\n",
      "EvaluatorHoldout: Processed 35595 (100.0%) in 34.28 sec. Users per second: 1038\n"
     ]
    },
    {
     "name": "stderr",
     "output_type": "stream",
     "text": [
      "[I 2024-11-19 01:58:27,135] Trial 170 finished with value: 0.04952430228072687 and parameters: {'topK': 56, 'alpha': 0.03568757328765024, 'beta': 0.08585392028376937, 'normalize_similarity': True, 'implicit': False}. Best is trial 157 with value: 0.05401447501320864.\n"
     ]
    },
    {
     "name": "stdout",
     "output_type": "stream",
     "text": [
      "RP3betaRecommender: Similarity column 38121 (100.0%), 2083.98 column/sec. Elapsed time 18.29 sec\n",
      "EvaluatorHoldout: Processed 35595 (100.0%) in 32.17 sec. Users per second: 1107\n"
     ]
    },
    {
     "name": "stderr",
     "output_type": "stream",
     "text": [
      "[I 2024-11-19 01:59:19,134] Trial 171 finished with value: 0.05385784297330661 and parameters: {'topK': 19, 'alpha': 0.17687548559018784, 'beta': 0.2384463389304045, 'normalize_similarity': True, 'implicit': False}. Best is trial 157 with value: 0.05401447501320864.\n"
     ]
    },
    {
     "name": "stdout",
     "output_type": "stream",
     "text": [
      "RP3betaRecommender: Similarity column 38121 (100.0%), 2092.16 column/sec. Elapsed time 18.22 sec\n",
      "EvaluatorHoldout: Processed 35595 (100.0%) in 33.31 sec. Users per second: 1069\n"
     ]
    },
    {
     "name": "stderr",
     "output_type": "stream",
     "text": [
      "[I 2024-11-19 02:00:12,368] Trial 172 finished with value: 0.053352031340230165 and parameters: {'topK': 25, 'alpha': 0.17073920049264613, 'beta': 0.22851390310112146, 'normalize_similarity': True, 'implicit': False}. Best is trial 157 with value: 0.05401447501320864.\n"
     ]
    },
    {
     "name": "stdout",
     "output_type": "stream",
     "text": [
      "RP3betaRecommender: Similarity column 38121 (100.0%), 2012.66 column/sec. Elapsed time 18.94 sec\n",
      "EvaluatorHoldout: Processed 35595 (100.0%) in 34.62 sec. Users per second: 1028\n"
     ]
    },
    {
     "name": "stderr",
     "output_type": "stream",
     "text": [
      "[I 2024-11-19 02:01:07,716] Trial 173 finished with value: 0.053296438995130535 and parameters: {'topK': 26, 'alpha': 0.17005543811458967, 'beta': 0.24777723263357607, 'normalize_similarity': True, 'implicit': False}. Best is trial 157 with value: 0.05401447501320864.\n"
     ]
    },
    {
     "name": "stdout",
     "output_type": "stream",
     "text": [
      "RP3betaRecommender: Similarity column 38121 (100.0%), 2797.69 column/sec. Elapsed time 13.63 sec\n",
      "EvaluatorHoldout: Processed 35595 (100.0%) in 26.11 sec. Users per second: 1363\n"
     ]
    },
    {
     "name": "stderr",
     "output_type": "stream",
     "text": [
      "[I 2024-11-19 02:01:47,826] Trial 174 finished with value: 0.00028209999175022335 and parameters: {'topK': 0, 'alpha': 0.1745662978981046, 'beta': 0.1765994799168239, 'normalize_similarity': True, 'implicit': False}. Best is trial 157 with value: 0.05401447501320864.\n"
     ]
    },
    {
     "name": "stdout",
     "output_type": "stream",
     "text": [
      "RP3betaRecommender: Similarity column 38121 (100.0%), 1706.94 column/sec. Elapsed time 22.33 sec\n",
      "EvaluatorHoldout: Processed 35595 (100.0%) in 37.00 sec. Users per second: 962\n"
     ]
    },
    {
     "name": "stderr",
     "output_type": "stream",
     "text": [
      "[I 2024-11-19 02:02:51,440] Trial 175 finished with value: 0.048625488018870074 and parameters: {'topK': 96, 'alpha': 0.11472406962476638, 'beta': 0.2283274261637791, 'normalize_similarity': True, 'implicit': False}. Best is trial 157 with value: 0.05401447501320864.\n"
     ]
    },
    {
     "name": "stdout",
     "output_type": "stream",
     "text": [
      "RP3betaRecommender: Similarity column 38121 (100.0%), 1865.56 column/sec. Elapsed time 20.43 sec\n",
      "EvaluatorHoldout: Processed 35595 (100.0%) in 35.05 sec. Users per second: 1015\n"
     ]
    },
    {
     "name": "stderr",
     "output_type": "stream",
     "text": [
      "[I 2024-11-19 02:03:49,710] Trial 176 finished with value: 0.05099231990403315 and parameters: {'topK': 54, 'alpha': 0.23741005141094523, 'beta': 0.16117730573045375, 'normalize_similarity': True, 'implicit': False}. Best is trial 157 with value: 0.05401447501320864.\n"
     ]
    },
    {
     "name": "stdout",
     "output_type": "stream",
     "text": [
      "RP3betaRecommender: Similarity column 38121 (100.0%), 1841.86 column/sec. Elapsed time 20.70 sec\n",
      "EvaluatorHoldout: Processed 35595 (100.0%) in 32.63 sec. Users per second: 1091\n"
     ]
    },
    {
     "name": "stderr",
     "output_type": "stream",
     "text": [
      "[I 2024-11-19 02:04:44,649] Trial 177 finished with value: 0.052261692943317624 and parameters: {'topK': 24, 'alpha': 0.01966537959179679, 'beta': 0.08603625696365219, 'normalize_similarity': True, 'implicit': False}. Best is trial 157 with value: 0.05401447501320864.\n"
     ]
    },
    {
     "name": "stdout",
     "output_type": "stream",
     "text": [
      "RP3betaRecommender: Similarity column 38121 (100.0%), 507.69 column/sec. Elapsed time 1.25 min\n",
      "EvaluatorHoldout: Processed 35595 (100.0%) in 56.45 sec. Users per second: 631\n"
     ]
    },
    {
     "name": "stderr",
     "output_type": "stream",
     "text": [
      "[I 2024-11-19 02:07:42,360] Trial 178 finished with value: 0.04002690653449031 and parameters: {'topK': 1113, 'alpha': 0.15623766052050234, 'beta': 0.263726669619127, 'normalize_similarity': True, 'implicit': False}. Best is trial 157 with value: 0.05401447501320864.\n"
     ]
    },
    {
     "name": "stdout",
     "output_type": "stream",
     "text": [
      "RP3betaRecommender: Similarity column 38121 (100.0%), 809.68 column/sec. Elapsed time 47.08 sec\n",
      "EvaluatorHoldout: Processed 35595 (100.0%) in 45.25 sec. Users per second: 787\n"
     ]
    },
    {
     "name": "stderr",
     "output_type": "stream",
     "text": [
      "[I 2024-11-19 02:09:32,913] Trial 179 finished with value: 0.009091148881709506 and parameters: {'topK': 519, 'alpha': 0.23820334128923315, 'beta': 2.4092871549726573, 'normalize_similarity': True, 'implicit': False}. Best is trial 157 with value: 0.05401447501320864.\n"
     ]
    },
    {
     "name": "stdout",
     "output_type": "stream",
     "text": [
      "RP3betaRecommender: Similarity column 38121 (100.0%), 1753.53 column/sec. Elapsed time 21.74 sec\n",
      "EvaluatorHoldout: Processed 35595 (100.0%) in 36.25 sec. Users per second: 982\n"
     ]
    },
    {
     "name": "stderr",
     "output_type": "stream",
     "text": [
      "[I 2024-11-19 02:10:34,550] Trial 180 finished with value: 0.049185168462663645 and parameters: {'topK': 79, 'alpha': 0.09421519133507061, 'beta': 0.22202792302185284, 'normalize_similarity': True, 'implicit': False}. Best is trial 157 with value: 0.05401447501320864.\n"
     ]
    },
    {
     "name": "stdout",
     "output_type": "stream",
     "text": [
      "RP3betaRecommender: Similarity column 38121 (100.0%), 1997.32 column/sec. Elapsed time 19.09 sec\n",
      "EvaluatorHoldout: Processed 35595 (100.0%) in 33.63 sec. Users per second: 1059\n"
     ]
    },
    {
     "name": "stderr",
     "output_type": "stream",
     "text": [
      "[I 2024-11-19 02:11:29,215] Trial 181 finished with value: 0.05320589769831069 and parameters: {'topK': 29, 'alpha': 0.29017235548003373, 'beta': 0.28658007479864417, 'normalize_similarity': True, 'implicit': False}. Best is trial 157 with value: 0.05401447501320864.\n"
     ]
    },
    {
     "name": "stdout",
     "output_type": "stream",
     "text": [
      "RP3betaRecommender: Similarity column 38121 (100.0%), 2063.25 column/sec. Elapsed time 18.48 sec\n",
      "EvaluatorHoldout: Processed 35595 (100.0%) in 32.68 sec. Users per second: 1089\n"
     ]
    },
    {
     "name": "stderr",
     "output_type": "stream",
     "text": [
      "[I 2024-11-19 02:12:22,044] Trial 182 finished with value: 0.05317205689224032 and parameters: {'topK': 27, 'alpha': 0.27269466994006586, 'beta': 0.1422947933677573, 'normalize_similarity': True, 'implicit': False}. Best is trial 157 with value: 0.05401447501320864.\n"
     ]
    },
    {
     "name": "stdout",
     "output_type": "stream",
     "text": [
      "RP3betaRecommender: Similarity column 38121 (100.0%), 1918.20 column/sec. Elapsed time 19.87 sec\n",
      "EvaluatorHoldout: Processed 35595 (100.0%) in 34.26 sec. Users per second: 1039\n"
     ]
    },
    {
     "name": "stderr",
     "output_type": "stream",
     "text": [
      "[I 2024-11-19 02:13:18,785] Trial 183 finished with value: 0.05110382120727491 and parameters: {'topK': 52, 'alpha': 0.2694480209854036, 'beta': 0.13803762975135928, 'normalize_similarity': True, 'implicit': False}. Best is trial 157 with value: 0.05401447501320864.\n"
     ]
    },
    {
     "name": "stdout",
     "output_type": "stream",
     "text": [
      "RP3betaRecommender: Similarity column 38121 (100.0%), 2108.65 column/sec. Elapsed time 18.08 sec\n",
      "EvaluatorHoldout: Processed 35595 (100.0%) in 33.12 sec. Users per second: 1075\n"
     ]
    },
    {
     "name": "stderr",
     "output_type": "stream",
     "text": [
      "[I 2024-11-19 02:14:11,736] Trial 184 finished with value: 0.05347483372240894 and parameters: {'topK': 23, 'alpha': 0.1922398279975257, 'beta': 0.3098078451300784, 'normalize_similarity': True, 'implicit': False}. Best is trial 157 with value: 0.05401447501320864.\n"
     ]
    },
    {
     "name": "stdout",
     "output_type": "stream",
     "text": [
      "RP3betaRecommender: Similarity column 38121 (100.0%), 2118.27 column/sec. Elapsed time 18.00 sec\n",
      "EvaluatorHoldout: Processed 35595 (100.0%) in 29.06 sec. Users per second: 1225\n"
     ]
    },
    {
     "name": "stderr",
     "output_type": "stream",
     "text": [
      "[I 2024-11-19 02:14:59,776] Trial 185 finished with value: 0.03661419585861113 and parameters: {'topK': 2, 'alpha': 0.18619574448871196, 'beta': 0.3257188224323092, 'normalize_similarity': True, 'implicit': False}. Best is trial 157 with value: 0.05401447501320864.\n"
     ]
    },
    {
     "name": "stdout",
     "output_type": "stream",
     "text": [
      "RP3betaRecommender: Similarity column 38121 (100.0%), 1778.40 column/sec. Elapsed time 21.44 sec\n",
      "EvaluatorHoldout: Processed 35595 (100.0%) in 34.55 sec. Users per second: 1030\n"
     ]
    },
    {
     "name": "stderr",
     "output_type": "stream",
     "text": [
      "[I 2024-11-19 02:15:58,489] Trial 186 finished with value: 0.051523282207014034 and parameters: {'topK': 52, 'alpha': 0.25827716426341746, 'beta': 0.26240475071815506, 'normalize_similarity': True, 'implicit': False}. Best is trial 157 with value: 0.05401447501320864.\n"
     ]
    },
    {
     "name": "stdout",
     "output_type": "stream",
     "text": [
      "RP3betaRecommender: Similarity column 38121 (100.0%), 1744.70 column/sec. Elapsed time 21.85 sec\n",
      "EvaluatorHoldout: Processed 35595 (100.0%) in 36.91 sec. Users per second: 964\n"
     ]
    },
    {
     "name": "stderr",
     "output_type": "stream",
     "text": [
      "[I 2024-11-19 02:17:01,957] Trial 187 finished with value: 0.04948997763641507 and parameters: {'topK': 96, 'alpha': 0.2899484492887308, 'beta': 0.3367715181569346, 'normalize_similarity': True, 'implicit': False}. Best is trial 157 with value: 0.05401447501320864.\n"
     ]
    },
    {
     "name": "stdout",
     "output_type": "stream",
     "text": [
      "RP3betaRecommender: Similarity column 38121 (100.0%), 1988.64 column/sec. Elapsed time 19.17 sec\n",
      "EvaluatorHoldout: Processed 35595 (100.0%) in 32.94 sec. Users per second: 1081\n"
     ]
    },
    {
     "name": "stderr",
     "output_type": "stream",
     "text": [
      "[I 2024-11-19 02:17:55,950] Trial 188 finished with value: 0.052436122203713895 and parameters: {'topK': 33, 'alpha': 0.18781559551370625, 'beta': 0.13244056059115467, 'normalize_similarity': True, 'implicit': False}. Best is trial 157 with value: 0.05401447501320864.\n"
     ]
    },
    {
     "name": "stdout",
     "output_type": "stream",
     "text": [
      "RP3betaRecommender: Similarity column 38121 (100.0%), 1822.06 column/sec. Elapsed time 20.92 sec\n",
      "EvaluatorHoldout: Processed 35595 (100.0%) in 35.68 sec. Users per second: 998\n"
     ]
    },
    {
     "name": "stderr",
     "output_type": "stream",
     "text": [
      "[I 2024-11-19 02:18:56,074] Trial 189 finished with value: 0.05025239968160137 and parameters: {'topK': 73, 'alpha': 0.2139754044170969, 'beta': 0.27897685263279465, 'normalize_similarity': True, 'implicit': False}. Best is trial 157 with value: 0.05401447501320864.\n"
     ]
    },
    {
     "name": "stdout",
     "output_type": "stream",
     "text": [
      "RP3betaRecommender: Similarity column 38121 (100.0%), 1562.12 column/sec. Elapsed time 24.40 sec\n",
      "EvaluatorHoldout: Processed 35595 (100.0%) in 33.14 sec. Users per second: 1074\n"
     ]
    },
    {
     "name": "stderr",
     "output_type": "stream",
     "text": [
      "[I 2024-11-19 02:19:58,918] Trial 190 finished with value: 0.04612652592993778 and parameters: {'topK': 139, 'alpha': 0.3057178846956026, 'beta': 0.06675803495433284, 'normalize_similarity': True, 'implicit': False}. Best is trial 157 with value: 0.05401447501320864.\n"
     ]
    },
    {
     "name": "stdout",
     "output_type": "stream",
     "text": [
      "RP3betaRecommender: Similarity column 38121 (100.0%), 1795.50 column/sec. Elapsed time 21.23 sec\n",
      "EvaluatorHoldout: Processed 35595 (100.0%) in 33.39 sec. Users per second: 1066\n"
     ]
    },
    {
     "name": "stderr",
     "output_type": "stream",
     "text": [
      "[I 2024-11-19 02:20:55,219] Trial 191 finished with value: 0.053153239598033246 and parameters: {'topK': 24, 'alpha': 0.1449014873082219, 'beta': 0.18585128596836745, 'normalize_similarity': True, 'implicit': False}. Best is trial 157 with value: 0.05401447501320864.\n"
     ]
    },
    {
     "name": "stdout",
     "output_type": "stream",
     "text": [
      "RP3betaRecommender: Similarity column 38121 (100.0%), 479.78 column/sec. Elapsed time 1.32 min\n",
      "EvaluatorHoldout: Processed 35595 (100.0%) in 56.60 sec. Users per second: 629\n"
     ]
    },
    {
     "name": "stderr",
     "output_type": "stream",
     "text": [
      "[I 2024-11-19 02:23:58,774] Trial 192 finished with value: 0.0369828627616226 and parameters: {'topK': 1212, 'alpha': 0.14399663735447793, 'beta': 0.16478268330880136, 'normalize_similarity': True, 'implicit': False}. Best is trial 157 with value: 0.05401447501320864.\n"
     ]
    },
    {
     "name": "stdout",
     "output_type": "stream",
     "text": [
      "RP3betaRecommender: Similarity column 38121 (100.0%), 2874.94 column/sec. Elapsed time 13.26 sec\n",
      "EvaluatorHoldout: Processed 35595 (100.0%) in 25.00 sec. Users per second: 1424\n"
     ]
    },
    {
     "name": "stderr",
     "output_type": "stream",
     "text": [
      "[I 2024-11-19 02:24:37,344] Trial 193 finished with value: 0.00028209999175022335 and parameters: {'topK': 0, 'alpha': 0.22369766638096544, 'beta': 0.2672222063103815, 'normalize_similarity': True, 'implicit': False}. Best is trial 157 with value: 0.05401447501320864.\n"
     ]
    },
    {
     "name": "stdout",
     "output_type": "stream",
     "text": [
      "RP3betaRecommender: Similarity column 38121 (100.0%), 2082.98 column/sec. Elapsed time 18.30 sec\n",
      "EvaluatorHoldout: Processed 35595 (100.0%) in 33.30 sec. Users per second: 1069\n"
     ]
    },
    {
     "name": "stderr",
     "output_type": "stream",
     "text": [
      "[I 2024-11-19 02:25:30,826] Trial 194 finished with value: 0.0523960360938851 and parameters: {'topK': 32, 'alpha': 0.1383475193253896, 'beta': 0.20386177318726117, 'normalize_similarity': True, 'implicit': False}. Best is trial 157 with value: 0.05401447501320864.\n"
     ]
    },
    {
     "name": "stdout",
     "output_type": "stream",
     "text": [
      "RP3betaRecommender: Similarity column 38121 (100.0%), 1943.48 column/sec. Elapsed time 19.61 sec\n",
      "EvaluatorHoldout: Processed 35595 (100.0%) in 34.63 sec. Users per second: 1028\n"
     ]
    },
    {
     "name": "stderr",
     "output_type": "stream",
     "text": [
      "[I 2024-11-19 02:26:28,127] Trial 195 finished with value: 0.05133811262951408 and parameters: {'topK': 54, 'alpha': 0.29250155455584637, 'beta': 0.3248270198766776, 'normalize_similarity': True, 'implicit': False}. Best is trial 157 with value: 0.05401447501320864.\n"
     ]
    },
    {
     "name": "stdout",
     "output_type": "stream",
     "text": [
      "RP3betaRecommender: Similarity column 38121 (100.0%), 2109.86 column/sec. Elapsed time 18.07 sec\n",
      "EvaluatorHoldout: Processed 35595 (100.0%) in 32.50 sec. Users per second: 1095\n"
     ]
    },
    {
     "name": "stderr",
     "output_type": "stream",
     "text": [
      "[I 2024-11-19 02:27:20,370] Trial 196 finished with value: 0.053473150322073726 and parameters: {'topK': 24, 'alpha': 0.16130830130260276, 'beta': 0.24946223614348148, 'normalize_similarity': True, 'implicit': False}. Best is trial 157 with value: 0.05401447501320864.\n"
     ]
    },
    {
     "name": "stdout",
     "output_type": "stream",
     "text": [
      "RP3betaRecommender: Similarity column 38121 (100.0%), 1781.02 column/sec. Elapsed time 21.40 sec\n",
      "EvaluatorHoldout: Processed 35595 (100.0%) in 31.14 sec. Users per second: 1143\n"
     ]
    },
    {
     "name": "stderr",
     "output_type": "stream",
     "text": [
      "[I 2024-11-19 02:28:16,569] Trial 197 finished with value: 0.04766777258264647 and parameters: {'topK': 88, 'alpha': 0.0062757234876637535, 'beta': 0.12044005428727636, 'normalize_similarity': True, 'implicit': False}. Best is trial 157 with value: 0.05401447501320864.\n"
     ]
    },
    {
     "name": "stdout",
     "output_type": "stream",
     "text": [
      "RP3betaRecommender: Similarity column 38121 (100.0%), 1886.35 column/sec. Elapsed time 20.21 sec\n",
      "EvaluatorHoldout: Processed 35595 (100.0%) in 34.07 sec. Users per second: 1045\n"
     ]
    },
    {
     "name": "stderr",
     "output_type": "stream",
     "text": [
      "[I 2024-11-19 02:29:13,331] Trial 198 finished with value: 0.03597879250028289 and parameters: {'topK': 59, 'alpha': 0.1824370277220093, 'beta': 0.048446502913955525, 'normalize_similarity': False, 'implicit': False}. Best is trial 157 with value: 0.05401447501320864.\n"
     ]
    },
    {
     "name": "stdout",
     "output_type": "stream",
     "text": [
      "RP3betaRecommender: Similarity column 38121 (100.0%), 2093.15 column/sec. Elapsed time 18.21 sec\n",
      "EvaluatorHoldout: Processed 35595 (100.0%) in 32.38 sec. Users per second: 1099\n"
     ]
    },
    {
     "name": "stderr",
     "output_type": "stream",
     "text": [
      "[I 2024-11-19 02:30:05,626] Trial 199 finished with value: 0.05283782611700672 and parameters: {'topK': 26, 'alpha': 0.12719710168567624, 'beta': 0.17130310947902289, 'normalize_similarity': True, 'implicit': False}. Best is trial 157 with value: 0.05401447501320864.\n"
     ]
    }
   ],
   "source": [
    "if config['tune_parameters']:\n",
    "    \n",
    "    optuna_study = optuna.create_study(direction='maximize', study_name=f'hyperparameters_tuning_{config[\"model\"]}',\n",
    "                                storage=f'sqlite:///{config[\"database_path\"]}', load_if_exists=True)\n",
    "\n",
    "    optuna_study.optimize(objective_function_RP3beta, n_trials=100)"
   ]
  },
  {
   "cell_type": "markdown",
   "id": "bf14515d",
   "metadata": {
    "papermill": {
     "duration": 0.029165,
     "end_time": "2024-11-19T02:30:05.710519",
     "exception": false,
     "start_time": "2024-11-19T02:30:05.681354",
     "status": "completed"
    },
    "tags": []
   },
   "source": [
    "## Some optuna visualizations on recommender parameters"
   ]
  },
  {
   "cell_type": "code",
   "execution_count": 16,
   "id": "70cd6a4f",
   "metadata": {
    "execution": {
     "iopub.execute_input": "2024-11-19T02:30:05.774258Z",
     "iopub.status.busy": "2024-11-19T02:30:05.773076Z",
     "iopub.status.idle": "2024-11-19T02:30:07.371548Z",
     "shell.execute_reply": "2024-11-19T02:30:07.370427Z"
    },
    "papermill": {
     "duration": 1.634265,
     "end_time": "2024-11-19T02:30:07.373789",
     "exception": false,
     "start_time": "2024-11-19T02:30:05.739524",
     "status": "completed"
    },
    "tags": []
   },
   "outputs": [
    {
     "data": {
      "text/html": [
       "        <script type=\"text/javascript\">\n",
       "        window.PlotlyConfig = {MathJaxConfig: 'local'};\n",
       "        if (window.MathJax && window.MathJax.Hub && window.MathJax.Hub.Config) {window.MathJax.Hub.Config({SVG: {font: \"STIX-Web\"}});}\n",
       "        if (typeof require !== 'undefined') {\n",
       "        require.undef(\"plotly\");\n",
       "        requirejs.config({\n",
       "            paths: {\n",
       "                'plotly': ['https://cdn.plot.ly/plotly-2.32.0.min']\n",
       "            }\n",
       "        });\n",
       "        require(['plotly'], function(Plotly) {\n",
       "            window._Plotly = Plotly;\n",
       "        });\n",
       "        }\n",
       "        </script>\n",
       "        "
      ]
     },
     "metadata": {},
     "output_type": "display_data"
    },
    {
     "data": {
      "text/html": [
       "<div>                            <div id=\"8cfa5aea-9eff-4f35-b3f3-8c9169e5ea65\" class=\"plotly-graph-div\" style=\"height:525px; width:1500px;\"></div>            <script type=\"text/javascript\">                require([\"plotly\"], function(Plotly) {                    window.PLOTLYENV=window.PLOTLYENV || {};                                    if (document.getElementById(\"8cfa5aea-9eff-4f35-b3f3-8c9169e5ea65\")) {                    Plotly.newPlot(                        \"8cfa5aea-9eff-4f35-b3f3-8c9169e5ea65\",                        [{\"marker\":{\"color\":[0,1,2,3,4,5,6,7,8,9,10,11,12,13,14,15,16,17,18,19,20,21,22,23,24,25,26,27,28,29,30,31,32,33,34,35,36,37,38,39,40,41,42,43,44,45,46,47,48,49,50,51,52,53,54,55,56,57,58,59,60,61,62,63,64,65,66,67,68,69,70,71,72,73,74,75,76,77,78,79,80,81,82,83,84,85,86,87,88,89,90,91,92,93,94,95,96,97,98,99,100,101,102,103,104,105,106,107,108,109,110,111,112,113,114,115,116,117,118,119,120,121,122,123,124,125,126,127,128,129,130,131,132,133,134,135,136,137,138,139,140,141,142,143,144,145,146,147,148,149,150,151,152,153,154,155,156,157,158,159,160,161,162,163,164,165,166,167,168,169,170,171,172,173,174,175,176,177,178,179,180,181,182,183,184,185,186,187,188,189,190,191,192,193,194,195,196,197,198,199],\"colorbar\":{\"title\":{\"text\":\"Trial\"},\"x\":1.0,\"xpad\":40},\"colorscale\":[[0.0,\"rgb(247,251,255)\"],[0.125,\"rgb(222,235,247)\"],[0.25,\"rgb(198,219,239)\"],[0.375,\"rgb(158,202,225)\"],[0.5,\"rgb(107,174,214)\"],[0.625,\"rgb(66,146,198)\"],[0.75,\"rgb(33,113,181)\"],[0.875,\"rgb(8,81,156)\"],[1.0,\"rgb(8,48,107)\"]],\"line\":{\"color\":\"Grey\",\"width\":0.5},\"showscale\":true},\"mode\":\"markers\",\"name\":\"Feasible Trial\",\"showlegend\":false,\"x\":[0.06938129724222086,2.371255680611651,2.8186757745871986,0.44411119641106134,2.65772703585949,2.648281312455077,1.292254991742394,0.7583748718960671,2.9262580427681653,2.661376794029957,1.8806760738987958,1.9919562217990499,1.930785392678299,1.8844259008185482,1.419568302222062,1.2826568224150903,1.2392019323561194,0.8812039432120247,0.9148390313904293,0.835013219359038,1.6180844794928608,1.1827832816594928,0.5065451618587894,0.4658118441275824,0.374045087096221,0.41924858846546237,0.022735482136226837,0.42843071479513806,0.6123041171126009,0.20633074525032313,0.6415642570973924,0.9476707892177318,0.17075752269386646,0.2739982430485612,0.2019940894001882,0.23113020024048925,0.31639246231517926,0.5916002180174589,0.09724517169955155,1.0549118216716136,0.7082512743762734,0.2064105611779245,0.29589955979317667,0.5329789717406903,0.3236693529400789,0.0006198122422005348,0.4590885610334876,0.2922800833881636,0.7514608747679974,2.275595516540088,0.10933046036538663,0.26315437195973096,0.521569445565168,0.13522089137223636,0.39042054859392084,0.2643535208947848,0.5402820305465224,0.711754132652396,1.0972539343498824,0.8027993908091999,0.6533761954878698,0.5301935012368035,0.554489058142531,1.7132885335915051,0.4080869077260763,0.7018096105858859,0.9811162196299656,1.0075110179377667,0.8463553913326246,0.8600003939562066,0.9615588024692193,1.37937549572273,1.3529318084633557,1.2274540156231777,0.7015334493962782,1.545909879072728,0.9674470904263668,1.1356811116701835,1.3626142509706676,0.6949638836249208,0.8949319854320412,0.907703870942518,0.8109394339001105,1.0547381395185966,0.7667087203490479,0.7490875816425666,0.6470458864171513,0.6571789969434795,0.6627171941051234,0.6092627517273463,0.6066873926029952,0.7749024863195357,0.7974718073992941,0.7917124741276657,0.44997063368331935,0.44140327039487814,0.4622187186895268,0.3763014514896862,0.6273888968477916,0.447625270274625,0.5782164575412156,0.3650604020313712,0.3733732905962485,0.37463634757885317,0.31706755366606404,0.33459408427042225,0.34190841565997043,0.1832933271038561,0.05461063744847933,0.17022633963538272,0.3311561092064421,0.5077512782313978,0.22260271322262992,0.39681256295973627,0.4753785252325971,0.13077760742589262,0.26471044626994433,0.3532816322939277,0.5853114868096579,0.4073062417515624,0.06300929952975703,0.5503653599766366,0.4961036115946525,0.5712386513814817,0.3108094451503901,0.18509095661181502,2.7802831159681345,0.4479117530632486,0.25963215917154364,2.2600585704792553,0.562133817066131,0.6250573106105788,0.501876251106765,0.380065565185371,0.3738744972841359,0.3167983056534002,0.4333805973743398,0.223633149134855,0.12997011328143537,0.36432647724467515,0.37578312010447307,0.5122981172817976,0.5443308192678542,0.28698680315701985,0.2656761803004948,0.3277617934659224,0.17105733583230504,0.18265010539478824,0.0015838067577997883,0.08030898965129339,0.08215111407656647,0.07756651729178146,0.09971192520895295,0.06553040724407316,0.16253628745385595,0.15332274905520904,0.07225221546971848,0.20481399017918037,0.21701130367810834,0.14144727603042617,0.03244193248186478,0.2722520258019199,0.2751873347902815,0.2678523124150825,0.2308188865709454,0.21888038804496024,0.10618897742031479,0.11733715102422207,0.2723370845704556,0.0972203376162209,0.03568757328765024,0.17687548559018784,0.17073920049264613,0.17005543811458967,0.1745662978981046,0.11472406962476638,0.23741005141094523,0.01966537959179679,0.15623766052050234,0.23820334128923315,0.09421519133507061,0.29017235548003373,0.27269466994006586,0.2694480209854036,0.1922398279975257,0.18619574448871196,0.25827716426341746,0.2899484492887308,0.18781559551370625,0.2139754044170969,0.3057178846956026,0.1449014873082219,0.14399663735447793,0.22369766638096544,0.1383475193253896,0.29250155455584637,0.16130830130260276,0.0062757234876637535,0.1824370277220093,0.12719710168567624],\"y\":[0.007690281094410925,0.014469873823013657,0.013573137612960898,0.008924297152489465,0.006255244739652682,0.015284872585547199,0.0125617205912194,0.030369586641604482,0.031518091536843366,0.011183957752225967,0.04060552467463382,0.04075160034515132,0.04190627919473087,0.03193688920996045,0.04256307623016273,0.04239784881504089,0.018958664160518335,0.045300126868182584,0.014686972265143731,0.032115817943040074,0.006976451347500675,0.044445633973023854,0.0469401255749742,0.04569320196121547,0.02397848257624871,0.04722735046165127,0.04526143653134644,0.04511583578039391,0.022331313252931147,0.011015072564588215,0.03883306688784867,0.04417558311426664,0.04643481004332083,0.04688176398058251,0.031773151213942544,0.04672474286338416,0.041408640414538775,0.044796698751606294,0.026181038000253516,0.03565628421148766,0.041158685565342065,0.046913921386317656,0.047908246877903744,0.031124931716376304,0.04206558683781447,0.04311270978401059,0.016132052165343656,0.013049731659297929,0.03561248793191384,0.02893719021531857,0.04383458529265356,0.04512453372040241,0.00028209999175022335,0.0453105238162111,0.040036057097370535,0.04669298679812608,0.04827584130997334,0.04850664775906888,0.02502660218462957,0.04681197198643294,0.01900801789086661,0.04709185122754249,0.03409142201619964,0.03557113425507748,0.051379680354604974,0.051635156979866606,0.05032382490852609,0.043989015534104677,0.048346366865328644,0.0477486449184702,0.04949848716936618,0.0482561421815512,0.04918339253105198,0.0403882969116837,0.05020223212195237,0.04609927937087463,0.04681712921156513,0.042118980728966346,0.04727425935959277,0.04666603455541334,0.048335628777894206,0.04582550273468747,0.04824088232474075,0.013630629636318971,0.05046142895047078,0.047684268791093755,0.0514501089193443,0.05209358813994126,0.011162040102832593,0.052120791220452205,0.048767088743066934,0.0510442790029793,0.05064734100785326,0.04718271582641412,0.05154169258657075,0.051892855470603495,0.045365336891884,0.04283332441465471,0.04703403478729877,0.04614372113971604,0.05206425684006616,0.05203780850261918,0.05197371442841115,0.05208686680178294,0.0522386270142257,0.052604010729166976,0.046504350084837276,0.05258412653819152,0.05134388078403931,0.047756126573866145,0.04293335072475257,0.04707153782522357,0.04524010305531437,0.04912370874275444,0.00028209999175022335,0.049632166993311376,0.04977008207412561,0.041465544920031044,0.047918962668644795,0.04835917520072403,0.04856325125920413,0.05310638532699007,0.047694547566648864,0.04210566402896622,0.049467193760491586,0.04937924445425327,0.034408866725974846,0.050787777844666246,0.03950921633812344,0.02352481064533301,0.024618541484112053,0.05142130939560146,0.04944538647972961,0.05150252733017,0.052160710105082685,0.04945959281778748,0.00028209999175022335,0.04047106669609666,0.04860987587430744,0.05319493664394451,0.04609406194467145,0.053252171140496435,0.00028209999175022335,0.05326754359560769,0.014185831789287687,0.05269300797998477,0.05320658220679112,0.049886842052453285,0.047728187702480045,0.052885774040850174,0.05314601212494,0.0529355904275818,0.04926120799024129,0.00028209999175022335,0.05303365462867992,0.04933083610369535,0.047559488692230235,0.05401447501320864,0.00028209999175022335,0.050381820837149656,0.04776268849066837,0.05301892320349807,0.0535771209171949,0.05353533356967648,0.05314066203341206,0.050152818190532314,0.0534045155263004,0.03524834279827832,0.00028209999175022335,0.04785950519178328,0.04952430228072687,0.05385784297330661,0.053352031340230165,0.053296438995130535,0.00028209999175022335,0.048625488018870074,0.05099231990403315,0.052261692943317624,0.04002690653449031,0.009091148881709506,0.049185168462663645,0.05320589769831069,0.05317205689224032,0.05110382120727491,0.05347483372240894,0.03661419585861113,0.051523282207014034,0.04948997763641507,0.052436122203713895,0.05025239968160137,0.04612652592993778,0.053153239598033246,0.0369828627616226,0.00028209999175022335,0.0523960360938851,0.05133811262951408,0.053473150322073726,0.04766777258264647,0.03597879250028289,0.05283782611700672],\"type\":\"scatter\",\"xaxis\":\"x\",\"yaxis\":\"y\"},{\"marker\":{\"color\":[0,1,2,3,4,5,6,7,8,9,10,11,12,13,14,15,16,17,18,19,20,21,22,23,24,25,26,27,28,29,30,31,32,33,34,35,36,37,38,39,40,41,42,43,44,45,46,47,48,49,50,51,52,53,54,55,56,57,58,59,60,61,62,63,64,65,66,67,68,69,70,71,72,73,74,75,76,77,78,79,80,81,82,83,84,85,86,87,88,89,90,91,92,93,94,95,96,97,98,99,100,101,102,103,104,105,106,107,108,109,110,111,112,113,114,115,116,117,118,119,120,121,122,123,124,125,126,127,128,129,130,131,132,133,134,135,136,137,138,139,140,141,142,143,144,145,146,147,148,149,150,151,152,153,154,155,156,157,158,159,160,161,162,163,164,165,166,167,168,169,170,171,172,173,174,175,176,177,178,179,180,181,182,183,184,185,186,187,188,189,190,191,192,193,194,195,196,197,198,199],\"colorbar\":{\"title\":{\"text\":\"Trial\"},\"x\":1.0,\"xpad\":40},\"colorscale\":[[0.0,\"rgb(247,251,255)\"],[0.125,\"rgb(222,235,247)\"],[0.25,\"rgb(198,219,239)\"],[0.375,\"rgb(158,202,225)\"],[0.5,\"rgb(107,174,214)\"],[0.625,\"rgb(66,146,198)\"],[0.75,\"rgb(33,113,181)\"],[0.875,\"rgb(8,81,156)\"],[1.0,\"rgb(8,48,107)\"]],\"line\":{\"color\":\"Grey\",\"width\":0.5},\"showscale\":false},\"mode\":\"markers\",\"name\":\"Feasible Trial\",\"showlegend\":false,\"x\":[2.0140764224340613,0.5580901837342789,1.0751598003613152,2.454525527142742,2.6144256840710787,0.24989717973293624,1.8217878745716998,0.8820406988542648,0.1035435689030959,1.3956876354416856,0.14532764331626197,0.05265884060717364,0.09103229215733104,0.6994562806220757,0.4817786296431929,0.5447067580176834,1.2653263419565708,0.5343375567534111,1.676907420544703,0.8597207815077663,2.966539142203463,0.46661904397331155,0.48254992618431247,0.3953354110551781,1.036644825604093,0.32693646854084435,0.3667340034572917,0.7150398253177987,1.144289267993789,2.1198545797223574,0.7423800226983261,0.2496709796250952,0.33911290256328125,0.3556823643726509,0.004721890145511609,0.3084264202466711,0.6974443116253758,0.25881502730257155,0.9109218644378009,0.6049781556543851,0.23315483263725645,0.33253692036526983,0.38514563980609584,0.9386174779004149,0.13680031221336986,0.5602082747767942,1.4919381842765989,2.155503367665351,0.786677061465003,0.6373598852493775,0.45223237418225926,0.21558842695054747,0.3382368402231266,0.11061568956761539,0.02626469465333192,0.3980087372137056,0.5184066240429308,0.4848557795104007,1.0377318965550515,0.5223593715035041,1.3232859817965847,0.4608550575582072,0.8194415633671804,0.620653599406427,0.17034805628928884,0.1865496775404918,0.1757413056189374,0.20273558735992842,0.16333965035635947,0.09714800930509612,0.17039534544951582,0.0051800423600753265,0.17074044336196512,0.1798186716233261,0.13185740225081385,0.11253296595952197,0.17277617659622094,0.26350521897785567,0.0504206354200073,0.25648276796560776,0.09180836533162458,0.12794299512392165,0.004697467385720633,1.7859610116942648,0.1700745675928771,0.42627180745000204,0.29770128942327295,0.3170638175983739,2.686557229828865,0.28089858149459224,0.3020018945746128,0.21270666557234608,0.3039290881222534,0.2675099695885474,0.3787342706590415,0.406859355296856,0.38758796777911203,0.6650081927009336,0.3246106967182855,0.5983962013529263,0.42167415231201083,0.41448476856304284,0.43854266106213935,0.4172693078105404,0.4294853719356063,0.43424049814205146,0.5565175746690098,0.4195972292281478,0.4509080342372877,0.4963119615826337,0.7425589454079415,0.4106732254754244,0.5645985025982128,0.41780613908046665,0.6712548166035965,0.5284689507090948,0.3627394558840854,0.36005758709102265,0.4591470957347917,0.4774801098333721,0.381222073960045,0.2910767405467734,0.6127297615137522,0.254420493258339,0.5614802779162442,0.432105931871237,0.3425169113021304,0.5042357624169845,0.23769884160249755,0.7419139664105933,1.166660252679181,0.28282348083574455,0.3162919248944611,0.3963701533685153,0.4116120710751212,0.4735784344318861,1.579414999168487,0.6090734167081322,0.3513573817008576,0.23656263298345312,0.06832170720569448,0.22535447726086189,0.2166194841809774,0.2772299964112176,1.969877050084461,0.2914574883599191,0.2707370590742991,0.2752808413336244,0.3022637766304651,0.21553380635468028,0.22795107276285004,0.19942934357515224,0.0720975296417335,0.22610702837255164,0.21174536614229766,0.10163431713352847,0.22403091043996853,0.15556981201121,0.05020246354026786,0.1381875493323198,0.13805880652432356,0.24560804223935304,0.2438078874490783,0.20363590582996663,0.21123821339281082,0.19025663581274205,0.21678049064873364,0.125632467242239,0.21470016290477237,0.009043057096669888,0.08585392028376937,0.2384463389304045,0.22851390310112146,0.24777723263357607,0.1765994799168239,0.2283274261637791,0.16117730573045375,0.08603625696365219,0.263726669619127,2.4092871549726573,0.22202792302185284,0.28658007479864417,0.1422947933677573,0.13803762975135928,0.3098078451300784,0.3257188224323092,0.26240475071815506,0.3367715181569346,0.13244056059115467,0.27897685263279465,0.06675803495433284,0.18585128596836745,0.16478268330880136,0.2672222063103815,0.20386177318726117,0.3248270198766776,0.24946223614348148,0.12044005428727636,0.048446502913955525,0.17130310947902289],\"y\":[0.007690281094410925,0.014469873823013657,0.013573137612960898,0.008924297152489465,0.006255244739652682,0.015284872585547199,0.0125617205912194,0.030369586641604482,0.031518091536843366,0.011183957752225967,0.04060552467463382,0.04075160034515132,0.04190627919473087,0.03193688920996045,0.04256307623016273,0.04239784881504089,0.018958664160518335,0.045300126868182584,0.014686972265143731,0.032115817943040074,0.006976451347500675,0.044445633973023854,0.0469401255749742,0.04569320196121547,0.02397848257624871,0.04722735046165127,0.04526143653134644,0.04511583578039391,0.022331313252931147,0.011015072564588215,0.03883306688784867,0.04417558311426664,0.04643481004332083,0.04688176398058251,0.031773151213942544,0.04672474286338416,0.041408640414538775,0.044796698751606294,0.026181038000253516,0.03565628421148766,0.041158685565342065,0.046913921386317656,0.047908246877903744,0.031124931716376304,0.04206558683781447,0.04311270978401059,0.016132052165343656,0.013049731659297929,0.03561248793191384,0.02893719021531857,0.04383458529265356,0.04512453372040241,0.00028209999175022335,0.0453105238162111,0.040036057097370535,0.04669298679812608,0.04827584130997334,0.04850664775906888,0.02502660218462957,0.04681197198643294,0.01900801789086661,0.04709185122754249,0.03409142201619964,0.03557113425507748,0.051379680354604974,0.051635156979866606,0.05032382490852609,0.043989015534104677,0.048346366865328644,0.0477486449184702,0.04949848716936618,0.0482561421815512,0.04918339253105198,0.0403882969116837,0.05020223212195237,0.04609927937087463,0.04681712921156513,0.042118980728966346,0.04727425935959277,0.04666603455541334,0.048335628777894206,0.04582550273468747,0.04824088232474075,0.013630629636318971,0.05046142895047078,0.047684268791093755,0.0514501089193443,0.05209358813994126,0.011162040102832593,0.052120791220452205,0.048767088743066934,0.0510442790029793,0.05064734100785326,0.04718271582641412,0.05154169258657075,0.051892855470603495,0.045365336891884,0.04283332441465471,0.04703403478729877,0.04614372113971604,0.05206425684006616,0.05203780850261918,0.05197371442841115,0.05208686680178294,0.0522386270142257,0.052604010729166976,0.046504350084837276,0.05258412653819152,0.05134388078403931,0.047756126573866145,0.04293335072475257,0.04707153782522357,0.04524010305531437,0.04912370874275444,0.00028209999175022335,0.049632166993311376,0.04977008207412561,0.041465544920031044,0.047918962668644795,0.04835917520072403,0.04856325125920413,0.05310638532699007,0.047694547566648864,0.04210566402896622,0.049467193760491586,0.04937924445425327,0.034408866725974846,0.050787777844666246,0.03950921633812344,0.02352481064533301,0.024618541484112053,0.05142130939560146,0.04944538647972961,0.05150252733017,0.052160710105082685,0.04945959281778748,0.00028209999175022335,0.04047106669609666,0.04860987587430744,0.05319493664394451,0.04609406194467145,0.053252171140496435,0.00028209999175022335,0.05326754359560769,0.014185831789287687,0.05269300797998477,0.05320658220679112,0.049886842052453285,0.047728187702480045,0.052885774040850174,0.05314601212494,0.0529355904275818,0.04926120799024129,0.00028209999175022335,0.05303365462867992,0.04933083610369535,0.047559488692230235,0.05401447501320864,0.00028209999175022335,0.050381820837149656,0.04776268849066837,0.05301892320349807,0.0535771209171949,0.05353533356967648,0.05314066203341206,0.050152818190532314,0.0534045155263004,0.03524834279827832,0.00028209999175022335,0.04785950519178328,0.04952430228072687,0.05385784297330661,0.053352031340230165,0.053296438995130535,0.00028209999175022335,0.048625488018870074,0.05099231990403315,0.052261692943317624,0.04002690653449031,0.009091148881709506,0.049185168462663645,0.05320589769831069,0.05317205689224032,0.05110382120727491,0.05347483372240894,0.03661419585861113,0.051523282207014034,0.04948997763641507,0.052436122203713895,0.05025239968160137,0.04612652592993778,0.053153239598033246,0.0369828627616226,0.00028209999175022335,0.0523960360938851,0.05133811262951408,0.053473150322073726,0.04766777258264647,0.03597879250028289,0.05283782611700672],\"type\":\"scatter\",\"xaxis\":\"x2\",\"yaxis\":\"y2\"},{\"marker\":{\"color\":[0,1,2,3,4,5,6,7,8,9,10,11,12,13,14,15,16,17,18,19,20,21,22,23,24,25,26,27,28,29,30,31,32,33,34,35,36,37,38,39,40,41,42,43,44,45,46,47,48,49,50,51,52,53,54,55,56,57,58,59,60,61,62,63,64,65,66,67,68,69,70,71,72,73,74,75,76,77,78,79,80,81,82,83,84,85,86,87,88,89,90,91,92,93,94,95,96,97,98,99,100,101,102,103,104,105,106,107,108,109,110,111,112,113,114,115,116,117,118,119,120,121,122,123,124,125,126,127,128,129,130,131,132,133,134,135,136,137,138,139,140,141,142,143,144,145,146,147,148,149,150,151,152,153,154,155,156,157,158,159,160,161,162,163,164,165,166,167,168,169,170,171,172,173,174,175,176,177,178,179,180,181,182,183,184,185,186,187,188,189,190,191,192,193,194,195,196,197,198,199],\"colorbar\":{\"title\":{\"text\":\"Trial\"},\"x\":1.0,\"xpad\":40},\"colorscale\":[[0.0,\"rgb(247,251,255)\"],[0.125,\"rgb(222,235,247)\"],[0.25,\"rgb(198,219,239)\"],[0.375,\"rgb(158,202,225)\"],[0.5,\"rgb(107,174,214)\"],[0.625,\"rgb(66,146,198)\"],[0.75,\"rgb(33,113,181)\"],[0.875,\"rgb(8,81,156)\"],[1.0,\"rgb(8,48,107)\"]],\"line\":{\"color\":\"Grey\",\"width\":0.5},\"showscale\":false},\"mode\":\"markers\",\"name\":\"Feasible Trial\",\"showlegend\":false,\"x\":[false,false,false,true,true,false,true,true,true,true,true,true,true,true,true,true,true,true,false,true,true,true,true,true,true,true,false,true,true,false,true,true,true,true,false,true,true,false,true,true,true,true,true,true,true,true,true,true,false,true,true,true,true,true,true,true,true,true,true,true,true,true,true,true,true,true,false,false,false,false,false,false,false,false,false,false,false,false,false,false,false,false,false,false,false,false,false,false,false,false,false,false,false,false,false,false,false,false,false,false,false,false,false,false,false,false,false,false,false,false,false,false,false,false,false,false,false,false,false,false,false,false,false,false,false,false,false,false,false,false,false,false,false,false,false,false,false,false,false,false,false,false,false,false,false,false,false,false,false,false,false,false,false,false,false,false,false,false,false,false,false,false,false,false,false,false,false,false,false,false,false,false,false,false,false,false,false,false,false,false,false,false,false,false,false,false,false,false,false,false,false,false,false,false,false,false,false,false,false,false],\"y\":[0.007690281094410925,0.014469873823013657,0.013573137612960898,0.008924297152489465,0.006255244739652682,0.015284872585547199,0.0125617205912194,0.030369586641604482,0.031518091536843366,0.011183957752225967,0.04060552467463382,0.04075160034515132,0.04190627919473087,0.03193688920996045,0.04256307623016273,0.04239784881504089,0.018958664160518335,0.045300126868182584,0.014686972265143731,0.032115817943040074,0.006976451347500675,0.044445633973023854,0.0469401255749742,0.04569320196121547,0.02397848257624871,0.04722735046165127,0.04526143653134644,0.04511583578039391,0.022331313252931147,0.011015072564588215,0.03883306688784867,0.04417558311426664,0.04643481004332083,0.04688176398058251,0.031773151213942544,0.04672474286338416,0.041408640414538775,0.044796698751606294,0.026181038000253516,0.03565628421148766,0.041158685565342065,0.046913921386317656,0.047908246877903744,0.031124931716376304,0.04206558683781447,0.04311270978401059,0.016132052165343656,0.013049731659297929,0.03561248793191384,0.02893719021531857,0.04383458529265356,0.04512453372040241,0.00028209999175022335,0.0453105238162111,0.040036057097370535,0.04669298679812608,0.04827584130997334,0.04850664775906888,0.02502660218462957,0.04681197198643294,0.01900801789086661,0.04709185122754249,0.03409142201619964,0.03557113425507748,0.051379680354604974,0.051635156979866606,0.05032382490852609,0.043989015534104677,0.048346366865328644,0.0477486449184702,0.04949848716936618,0.0482561421815512,0.04918339253105198,0.0403882969116837,0.05020223212195237,0.04609927937087463,0.04681712921156513,0.042118980728966346,0.04727425935959277,0.04666603455541334,0.048335628777894206,0.04582550273468747,0.04824088232474075,0.013630629636318971,0.05046142895047078,0.047684268791093755,0.0514501089193443,0.05209358813994126,0.011162040102832593,0.052120791220452205,0.048767088743066934,0.0510442790029793,0.05064734100785326,0.04718271582641412,0.05154169258657075,0.051892855470603495,0.045365336891884,0.04283332441465471,0.04703403478729877,0.04614372113971604,0.05206425684006616,0.05203780850261918,0.05197371442841115,0.05208686680178294,0.0522386270142257,0.052604010729166976,0.046504350084837276,0.05258412653819152,0.05134388078403931,0.047756126573866145,0.04293335072475257,0.04707153782522357,0.04524010305531437,0.04912370874275444,0.00028209999175022335,0.049632166993311376,0.04977008207412561,0.041465544920031044,0.047918962668644795,0.04835917520072403,0.04856325125920413,0.05310638532699007,0.047694547566648864,0.04210566402896622,0.049467193760491586,0.04937924445425327,0.034408866725974846,0.050787777844666246,0.03950921633812344,0.02352481064533301,0.024618541484112053,0.05142130939560146,0.04944538647972961,0.05150252733017,0.052160710105082685,0.04945959281778748,0.00028209999175022335,0.04047106669609666,0.04860987587430744,0.05319493664394451,0.04609406194467145,0.053252171140496435,0.00028209999175022335,0.05326754359560769,0.014185831789287687,0.05269300797998477,0.05320658220679112,0.049886842052453285,0.047728187702480045,0.052885774040850174,0.05314601212494,0.0529355904275818,0.04926120799024129,0.00028209999175022335,0.05303365462867992,0.04933083610369535,0.047559488692230235,0.05401447501320864,0.00028209999175022335,0.050381820837149656,0.04776268849066837,0.05301892320349807,0.0535771209171949,0.05353533356967648,0.05314066203341206,0.050152818190532314,0.0534045155263004,0.03524834279827832,0.00028209999175022335,0.04785950519178328,0.04952430228072687,0.05385784297330661,0.053352031340230165,0.053296438995130535,0.00028209999175022335,0.048625488018870074,0.05099231990403315,0.052261692943317624,0.04002690653449031,0.009091148881709506,0.049185168462663645,0.05320589769831069,0.05317205689224032,0.05110382120727491,0.05347483372240894,0.03661419585861113,0.051523282207014034,0.04948997763641507,0.052436122203713895,0.05025239968160137,0.04612652592993778,0.053153239598033246,0.0369828627616226,0.00028209999175022335,0.0523960360938851,0.05133811262951408,0.053473150322073726,0.04766777258264647,0.03597879250028289,0.05283782611700672],\"type\":\"scatter\",\"xaxis\":\"x3\",\"yaxis\":\"y3\"},{\"marker\":{\"color\":[0,1,2,3,4,5,6,7,8,9,10,11,12,13,14,15,16,17,18,19,20,21,22,23,24,25,26,27,28,29,30,31,32,33,34,35,36,37,38,39,40,41,42,43,44,45,46,47,48,49,50,51,52,53,54,55,56,57,58,59,60,61,62,63,64,65,66,67,68,69,70,71,72,73,74,75,76,77,78,79,80,81,82,83,84,85,86,87,88,89,90,91,92,93,94,95,96,97,98,99,100,101,102,103,104,105,106,107,108,109,110,111,112,113,114,115,116,117,118,119,120,121,122,123,124,125,126,127,128,129,130,131,132,133,134,135,136,137,138,139,140,141,142,143,144,145,146,147,148,149,150,151,152,153,154,155,156,157,158,159,160,161,162,163,164,165,166,167,168,169,170,171,172,173,174,175,176,177,178,179,180,181,182,183,184,185,186,187,188,189,190,191,192,193,194,195,196,197,198,199],\"colorbar\":{\"title\":{\"text\":\"Trial\"},\"x\":1.0,\"xpad\":40},\"colorscale\":[[0.0,\"rgb(247,251,255)\"],[0.125,\"rgb(222,235,247)\"],[0.25,\"rgb(198,219,239)\"],[0.375,\"rgb(158,202,225)\"],[0.5,\"rgb(107,174,214)\"],[0.625,\"rgb(66,146,198)\"],[0.75,\"rgb(33,113,181)\"],[0.875,\"rgb(8,81,156)\"],[1.0,\"rgb(8,48,107)\"]],\"line\":{\"color\":\"Grey\",\"width\":0.5},\"showscale\":false},\"mode\":\"markers\",\"name\":\"Feasible Trial\",\"showlegend\":false,\"x\":[false,false,true,false,true,false,false,false,true,true,true,true,true,true,true,true,true,true,true,true,true,true,true,true,true,true,true,true,true,false,true,true,true,true,false,true,true,false,true,false,true,true,true,true,true,true,true,false,true,true,true,true,true,true,true,true,true,true,true,true,true,true,true,true,true,true,true,false,true,true,true,true,true,true,true,true,true,true,true,false,true,true,true,true,true,true,true,true,true,true,true,true,true,true,true,true,false,true,true,true,true,true,true,true,true,true,true,true,true,true,true,true,true,true,true,true,true,false,true,true,true,true,true,true,true,true,true,true,true,true,true,true,true,true,true,true,true,false,true,true,true,true,true,true,true,true,true,true,true,true,true,true,true,true,true,true,true,true,true,true,true,true,true,true,true,true,true,false,true,true,true,true,true,true,true,true,true,true,true,true,true,true,true,true,true,true,true,true,true,true,true,true,true,true,true,true,true,true,false,true],\"y\":[0.007690281094410925,0.014469873823013657,0.013573137612960898,0.008924297152489465,0.006255244739652682,0.015284872585547199,0.0125617205912194,0.030369586641604482,0.031518091536843366,0.011183957752225967,0.04060552467463382,0.04075160034515132,0.04190627919473087,0.03193688920996045,0.04256307623016273,0.04239784881504089,0.018958664160518335,0.045300126868182584,0.014686972265143731,0.032115817943040074,0.006976451347500675,0.044445633973023854,0.0469401255749742,0.04569320196121547,0.02397848257624871,0.04722735046165127,0.04526143653134644,0.04511583578039391,0.022331313252931147,0.011015072564588215,0.03883306688784867,0.04417558311426664,0.04643481004332083,0.04688176398058251,0.031773151213942544,0.04672474286338416,0.041408640414538775,0.044796698751606294,0.026181038000253516,0.03565628421148766,0.041158685565342065,0.046913921386317656,0.047908246877903744,0.031124931716376304,0.04206558683781447,0.04311270978401059,0.016132052165343656,0.013049731659297929,0.03561248793191384,0.02893719021531857,0.04383458529265356,0.04512453372040241,0.00028209999175022335,0.0453105238162111,0.040036057097370535,0.04669298679812608,0.04827584130997334,0.04850664775906888,0.02502660218462957,0.04681197198643294,0.01900801789086661,0.04709185122754249,0.03409142201619964,0.03557113425507748,0.051379680354604974,0.051635156979866606,0.05032382490852609,0.043989015534104677,0.048346366865328644,0.0477486449184702,0.04949848716936618,0.0482561421815512,0.04918339253105198,0.0403882969116837,0.05020223212195237,0.04609927937087463,0.04681712921156513,0.042118980728966346,0.04727425935959277,0.04666603455541334,0.048335628777894206,0.04582550273468747,0.04824088232474075,0.013630629636318971,0.05046142895047078,0.047684268791093755,0.0514501089193443,0.05209358813994126,0.011162040102832593,0.052120791220452205,0.048767088743066934,0.0510442790029793,0.05064734100785326,0.04718271582641412,0.05154169258657075,0.051892855470603495,0.045365336891884,0.04283332441465471,0.04703403478729877,0.04614372113971604,0.05206425684006616,0.05203780850261918,0.05197371442841115,0.05208686680178294,0.0522386270142257,0.052604010729166976,0.046504350084837276,0.05258412653819152,0.05134388078403931,0.047756126573866145,0.04293335072475257,0.04707153782522357,0.04524010305531437,0.04912370874275444,0.00028209999175022335,0.049632166993311376,0.04977008207412561,0.041465544920031044,0.047918962668644795,0.04835917520072403,0.04856325125920413,0.05310638532699007,0.047694547566648864,0.04210566402896622,0.049467193760491586,0.04937924445425327,0.034408866725974846,0.050787777844666246,0.03950921633812344,0.02352481064533301,0.024618541484112053,0.05142130939560146,0.04944538647972961,0.05150252733017,0.052160710105082685,0.04945959281778748,0.00028209999175022335,0.04047106669609666,0.04860987587430744,0.05319493664394451,0.04609406194467145,0.053252171140496435,0.00028209999175022335,0.05326754359560769,0.014185831789287687,0.05269300797998477,0.05320658220679112,0.049886842052453285,0.047728187702480045,0.052885774040850174,0.05314601212494,0.0529355904275818,0.04926120799024129,0.00028209999175022335,0.05303365462867992,0.04933083610369535,0.047559488692230235,0.05401447501320864,0.00028209999175022335,0.050381820837149656,0.04776268849066837,0.05301892320349807,0.0535771209171949,0.05353533356967648,0.05314066203341206,0.050152818190532314,0.0534045155263004,0.03524834279827832,0.00028209999175022335,0.04785950519178328,0.04952430228072687,0.05385784297330661,0.053352031340230165,0.053296438995130535,0.00028209999175022335,0.048625488018870074,0.05099231990403315,0.052261692943317624,0.04002690653449031,0.009091148881709506,0.049185168462663645,0.05320589769831069,0.05317205689224032,0.05110382120727491,0.05347483372240894,0.03661419585861113,0.051523282207014034,0.04948997763641507,0.052436122203713895,0.05025239968160137,0.04612652592993778,0.053153239598033246,0.0369828627616226,0.00028209999175022335,0.0523960360938851,0.05133811262951408,0.053473150322073726,0.04766777258264647,0.03597879250028289,0.05283782611700672],\"type\":\"scatter\",\"xaxis\":\"x4\",\"yaxis\":\"y4\"},{\"marker\":{\"color\":[0,1,2,3,4,5,6,7,8,9,10,11,12,13,14,15,16,17,18,19,20,21,22,23,24,25,26,27,28,29,30,31,32,33,34,35,36,37,38,39,40,41,42,43,44,45,46,47,48,49,50,51,52,53,54,55,56,57,58,59,60,61,62,63,64,65,66,67,68,69,70,71,72,73,74,75,76,77,78,79,80,81,82,83,84,85,86,87,88,89,90,91,92,93,94,95,96,97,98,99,100,101,102,103,104,105,106,107,108,109,110,111,112,113,114,115,116,117,118,119,120,121,122,123,124,125,126,127,128,129,130,131,132,133,134,135,136,137,138,139,140,141,142,143,144,145,146,147,148,149,150,151,152,153,154,155,156,157,158,159,160,161,162,163,164,165,166,167,168,169,170,171,172,173,174,175,176,177,178,179,180,181,182,183,184,185,186,187,188,189,190,191,192,193,194,195,196,197,198,199],\"colorbar\":{\"title\":{\"text\":\"Trial\"},\"x\":1.0,\"xpad\":40},\"colorscale\":[[0.0,\"rgb(247,251,255)\"],[0.125,\"rgb(222,235,247)\"],[0.25,\"rgb(198,219,239)\"],[0.375,\"rgb(158,202,225)\"],[0.5,\"rgb(107,174,214)\"],[0.625,\"rgb(66,146,198)\"],[0.75,\"rgb(33,113,181)\"],[0.875,\"rgb(8,81,156)\"],[1.0,\"rgb(8,48,107)\"]],\"line\":{\"color\":\"Grey\",\"width\":0.5},\"showscale\":false},\"mode\":\"markers\",\"name\":\"Feasible Trial\",\"showlegend\":false,\"x\":[835,883,1458,761,698,1294,704,1034,1130,1103,276,147,115,23,331,416,483,441,475,560,302,341,296,566,612,223,209,13,589,131,868,417,216,223,258,206,89,206,334,773,1409,198,174,80,378,142,955,50,267,182,506,248,0,160,360,258,91,81,69,115,661,299,296,152,55,46,43,41,96,96,60,28,8,3,65,55,128,1193,47,106,5,4,69,134,61,162,52,38,35,43,129,51,55,167,47,39,192,110,232,90,29,35,31,33,26,21,125,21,25,93,22,4,150,107,0,31,86,788,168,123,84,30,30,956,29,74,135,30,1378,3,75,54,106,45,34,71,0,191,103,31,146,30,0,28,80,38,26,77,104,26,22,24,64,0,27,70,116,17,0,58,95,30,25,24,28,71,21,122,0,73,56,19,25,26,0,96,54,24,1113,519,79,29,27,52,23,2,52,96,33,73,139,24,1212,0,32,54,24,88,59,26],\"y\":[0.007690281094410925,0.014469873823013657,0.013573137612960898,0.008924297152489465,0.006255244739652682,0.015284872585547199,0.0125617205912194,0.030369586641604482,0.031518091536843366,0.011183957752225967,0.04060552467463382,0.04075160034515132,0.04190627919473087,0.03193688920996045,0.04256307623016273,0.04239784881504089,0.018958664160518335,0.045300126868182584,0.014686972265143731,0.032115817943040074,0.006976451347500675,0.044445633973023854,0.0469401255749742,0.04569320196121547,0.02397848257624871,0.04722735046165127,0.04526143653134644,0.04511583578039391,0.022331313252931147,0.011015072564588215,0.03883306688784867,0.04417558311426664,0.04643481004332083,0.04688176398058251,0.031773151213942544,0.04672474286338416,0.041408640414538775,0.044796698751606294,0.026181038000253516,0.03565628421148766,0.041158685565342065,0.046913921386317656,0.047908246877903744,0.031124931716376304,0.04206558683781447,0.04311270978401059,0.016132052165343656,0.013049731659297929,0.03561248793191384,0.02893719021531857,0.04383458529265356,0.04512453372040241,0.00028209999175022335,0.0453105238162111,0.040036057097370535,0.04669298679812608,0.04827584130997334,0.04850664775906888,0.02502660218462957,0.04681197198643294,0.01900801789086661,0.04709185122754249,0.03409142201619964,0.03557113425507748,0.051379680354604974,0.051635156979866606,0.05032382490852609,0.043989015534104677,0.048346366865328644,0.0477486449184702,0.04949848716936618,0.0482561421815512,0.04918339253105198,0.0403882969116837,0.05020223212195237,0.04609927937087463,0.04681712921156513,0.042118980728966346,0.04727425935959277,0.04666603455541334,0.048335628777894206,0.04582550273468747,0.04824088232474075,0.013630629636318971,0.05046142895047078,0.047684268791093755,0.0514501089193443,0.05209358813994126,0.011162040102832593,0.052120791220452205,0.048767088743066934,0.0510442790029793,0.05064734100785326,0.04718271582641412,0.05154169258657075,0.051892855470603495,0.045365336891884,0.04283332441465471,0.04703403478729877,0.04614372113971604,0.05206425684006616,0.05203780850261918,0.05197371442841115,0.05208686680178294,0.0522386270142257,0.052604010729166976,0.046504350084837276,0.05258412653819152,0.05134388078403931,0.047756126573866145,0.04293335072475257,0.04707153782522357,0.04524010305531437,0.04912370874275444,0.00028209999175022335,0.049632166993311376,0.04977008207412561,0.041465544920031044,0.047918962668644795,0.04835917520072403,0.04856325125920413,0.05310638532699007,0.047694547566648864,0.04210566402896622,0.049467193760491586,0.04937924445425327,0.034408866725974846,0.050787777844666246,0.03950921633812344,0.02352481064533301,0.024618541484112053,0.05142130939560146,0.04944538647972961,0.05150252733017,0.052160710105082685,0.04945959281778748,0.00028209999175022335,0.04047106669609666,0.04860987587430744,0.05319493664394451,0.04609406194467145,0.053252171140496435,0.00028209999175022335,0.05326754359560769,0.014185831789287687,0.05269300797998477,0.05320658220679112,0.049886842052453285,0.047728187702480045,0.052885774040850174,0.05314601212494,0.0529355904275818,0.04926120799024129,0.00028209999175022335,0.05303365462867992,0.04933083610369535,0.047559488692230235,0.05401447501320864,0.00028209999175022335,0.050381820837149656,0.04776268849066837,0.05301892320349807,0.0535771209171949,0.05353533356967648,0.05314066203341206,0.050152818190532314,0.0534045155263004,0.03524834279827832,0.00028209999175022335,0.04785950519178328,0.04952430228072687,0.05385784297330661,0.053352031340230165,0.053296438995130535,0.00028209999175022335,0.048625488018870074,0.05099231990403315,0.052261692943317624,0.04002690653449031,0.009091148881709506,0.049185168462663645,0.05320589769831069,0.05317205689224032,0.05110382120727491,0.05347483372240894,0.03661419585861113,0.051523282207014034,0.04948997763641507,0.052436122203713895,0.05025239968160137,0.04612652592993778,0.053153239598033246,0.0369828627616226,0.00028209999175022335,0.0523960360938851,0.05133811262951408,0.053473150322073726,0.04766777258264647,0.03597879250028289,0.05283782611700672],\"type\":\"scatter\",\"xaxis\":\"x5\",\"yaxis\":\"y5\"}],                        {\"template\":{\"data\":{\"histogram2dcontour\":[{\"type\":\"histogram2dcontour\",\"colorbar\":{\"outlinewidth\":0,\"ticks\":\"\"},\"colorscale\":[[0.0,\"#0d0887\"],[0.1111111111111111,\"#46039f\"],[0.2222222222222222,\"#7201a8\"],[0.3333333333333333,\"#9c179e\"],[0.4444444444444444,\"#bd3786\"],[0.5555555555555556,\"#d8576b\"],[0.6666666666666666,\"#ed7953\"],[0.7777777777777778,\"#fb9f3a\"],[0.8888888888888888,\"#fdca26\"],[1.0,\"#f0f921\"]]}],\"choropleth\":[{\"type\":\"choropleth\",\"colorbar\":{\"outlinewidth\":0,\"ticks\":\"\"}}],\"histogram2d\":[{\"type\":\"histogram2d\",\"colorbar\":{\"outlinewidth\":0,\"ticks\":\"\"},\"colorscale\":[[0.0,\"#0d0887\"],[0.1111111111111111,\"#46039f\"],[0.2222222222222222,\"#7201a8\"],[0.3333333333333333,\"#9c179e\"],[0.4444444444444444,\"#bd3786\"],[0.5555555555555556,\"#d8576b\"],[0.6666666666666666,\"#ed7953\"],[0.7777777777777778,\"#fb9f3a\"],[0.8888888888888888,\"#fdca26\"],[1.0,\"#f0f921\"]]}],\"heatmap\":[{\"type\":\"heatmap\",\"colorbar\":{\"outlinewidth\":0,\"ticks\":\"\"},\"colorscale\":[[0.0,\"#0d0887\"],[0.1111111111111111,\"#46039f\"],[0.2222222222222222,\"#7201a8\"],[0.3333333333333333,\"#9c179e\"],[0.4444444444444444,\"#bd3786\"],[0.5555555555555556,\"#d8576b\"],[0.6666666666666666,\"#ed7953\"],[0.7777777777777778,\"#fb9f3a\"],[0.8888888888888888,\"#fdca26\"],[1.0,\"#f0f921\"]]}],\"heatmapgl\":[{\"type\":\"heatmapgl\",\"colorbar\":{\"outlinewidth\":0,\"ticks\":\"\"},\"colorscale\":[[0.0,\"#0d0887\"],[0.1111111111111111,\"#46039f\"],[0.2222222222222222,\"#7201a8\"],[0.3333333333333333,\"#9c179e\"],[0.4444444444444444,\"#bd3786\"],[0.5555555555555556,\"#d8576b\"],[0.6666666666666666,\"#ed7953\"],[0.7777777777777778,\"#fb9f3a\"],[0.8888888888888888,\"#fdca26\"],[1.0,\"#f0f921\"]]}],\"contourcarpet\":[{\"type\":\"contourcarpet\",\"colorbar\":{\"outlinewidth\":0,\"ticks\":\"\"}}],\"contour\":[{\"type\":\"contour\",\"colorbar\":{\"outlinewidth\":0,\"ticks\":\"\"},\"colorscale\":[[0.0,\"#0d0887\"],[0.1111111111111111,\"#46039f\"],[0.2222222222222222,\"#7201a8\"],[0.3333333333333333,\"#9c179e\"],[0.4444444444444444,\"#bd3786\"],[0.5555555555555556,\"#d8576b\"],[0.6666666666666666,\"#ed7953\"],[0.7777777777777778,\"#fb9f3a\"],[0.8888888888888888,\"#fdca26\"],[1.0,\"#f0f921\"]]}],\"surface\":[{\"type\":\"surface\",\"colorbar\":{\"outlinewidth\":0,\"ticks\":\"\"},\"colorscale\":[[0.0,\"#0d0887\"],[0.1111111111111111,\"#46039f\"],[0.2222222222222222,\"#7201a8\"],[0.3333333333333333,\"#9c179e\"],[0.4444444444444444,\"#bd3786\"],[0.5555555555555556,\"#d8576b\"],[0.6666666666666666,\"#ed7953\"],[0.7777777777777778,\"#fb9f3a\"],[0.8888888888888888,\"#fdca26\"],[1.0,\"#f0f921\"]]}],\"mesh3d\":[{\"type\":\"mesh3d\",\"colorbar\":{\"outlinewidth\":0,\"ticks\":\"\"}}],\"scatter\":[{\"fillpattern\":{\"fillmode\":\"overlay\",\"size\":10,\"solidity\":0.2},\"type\":\"scatter\"}],\"parcoords\":[{\"type\":\"parcoords\",\"line\":{\"colorbar\":{\"outlinewidth\":0,\"ticks\":\"\"}}}],\"scatterpolargl\":[{\"type\":\"scatterpolargl\",\"marker\":{\"colorbar\":{\"outlinewidth\":0,\"ticks\":\"\"}}}],\"bar\":[{\"error_x\":{\"color\":\"#2a3f5f\"},\"error_y\":{\"color\":\"#2a3f5f\"},\"marker\":{\"line\":{\"color\":\"#E5ECF6\",\"width\":0.5},\"pattern\":{\"fillmode\":\"overlay\",\"size\":10,\"solidity\":0.2}},\"type\":\"bar\"}],\"scattergeo\":[{\"type\":\"scattergeo\",\"marker\":{\"colorbar\":{\"outlinewidth\":0,\"ticks\":\"\"}}}],\"scatterpolar\":[{\"type\":\"scatterpolar\",\"marker\":{\"colorbar\":{\"outlinewidth\":0,\"ticks\":\"\"}}}],\"histogram\":[{\"marker\":{\"pattern\":{\"fillmode\":\"overlay\",\"size\":10,\"solidity\":0.2}},\"type\":\"histogram\"}],\"scattergl\":[{\"type\":\"scattergl\",\"marker\":{\"colorbar\":{\"outlinewidth\":0,\"ticks\":\"\"}}}],\"scatter3d\":[{\"type\":\"scatter3d\",\"line\":{\"colorbar\":{\"outlinewidth\":0,\"ticks\":\"\"}},\"marker\":{\"colorbar\":{\"outlinewidth\":0,\"ticks\":\"\"}}}],\"scattermapbox\":[{\"type\":\"scattermapbox\",\"marker\":{\"colorbar\":{\"outlinewidth\":0,\"ticks\":\"\"}}}],\"scatterternary\":[{\"type\":\"scatterternary\",\"marker\":{\"colorbar\":{\"outlinewidth\":0,\"ticks\":\"\"}}}],\"scattercarpet\":[{\"type\":\"scattercarpet\",\"marker\":{\"colorbar\":{\"outlinewidth\":0,\"ticks\":\"\"}}}],\"carpet\":[{\"aaxis\":{\"endlinecolor\":\"#2a3f5f\",\"gridcolor\":\"white\",\"linecolor\":\"white\",\"minorgridcolor\":\"white\",\"startlinecolor\":\"#2a3f5f\"},\"baxis\":{\"endlinecolor\":\"#2a3f5f\",\"gridcolor\":\"white\",\"linecolor\":\"white\",\"minorgridcolor\":\"white\",\"startlinecolor\":\"#2a3f5f\"},\"type\":\"carpet\"}],\"table\":[{\"cells\":{\"fill\":{\"color\":\"#EBF0F8\"},\"line\":{\"color\":\"white\"}},\"header\":{\"fill\":{\"color\":\"#C8D4E3\"},\"line\":{\"color\":\"white\"}},\"type\":\"table\"}],\"barpolar\":[{\"marker\":{\"line\":{\"color\":\"#E5ECF6\",\"width\":0.5},\"pattern\":{\"fillmode\":\"overlay\",\"size\":10,\"solidity\":0.2}},\"type\":\"barpolar\"}],\"pie\":[{\"automargin\":true,\"type\":\"pie\"}]},\"layout\":{\"autotypenumbers\":\"strict\",\"colorway\":[\"#636efa\",\"#EF553B\",\"#00cc96\",\"#ab63fa\",\"#FFA15A\",\"#19d3f3\",\"#FF6692\",\"#B6E880\",\"#FF97FF\",\"#FECB52\"],\"font\":{\"color\":\"#2a3f5f\"},\"hovermode\":\"closest\",\"hoverlabel\":{\"align\":\"left\"},\"paper_bgcolor\":\"white\",\"plot_bgcolor\":\"#E5ECF6\",\"polar\":{\"bgcolor\":\"#E5ECF6\",\"angularaxis\":{\"gridcolor\":\"white\",\"linecolor\":\"white\",\"ticks\":\"\"},\"radialaxis\":{\"gridcolor\":\"white\",\"linecolor\":\"white\",\"ticks\":\"\"}},\"ternary\":{\"bgcolor\":\"#E5ECF6\",\"aaxis\":{\"gridcolor\":\"white\",\"linecolor\":\"white\",\"ticks\":\"\"},\"baxis\":{\"gridcolor\":\"white\",\"linecolor\":\"white\",\"ticks\":\"\"},\"caxis\":{\"gridcolor\":\"white\",\"linecolor\":\"white\",\"ticks\":\"\"}},\"coloraxis\":{\"colorbar\":{\"outlinewidth\":0,\"ticks\":\"\"}},\"colorscale\":{\"sequential\":[[0.0,\"#0d0887\"],[0.1111111111111111,\"#46039f\"],[0.2222222222222222,\"#7201a8\"],[0.3333333333333333,\"#9c179e\"],[0.4444444444444444,\"#bd3786\"],[0.5555555555555556,\"#d8576b\"],[0.6666666666666666,\"#ed7953\"],[0.7777777777777778,\"#fb9f3a\"],[0.8888888888888888,\"#fdca26\"],[1.0,\"#f0f921\"]],\"sequentialminus\":[[0.0,\"#0d0887\"],[0.1111111111111111,\"#46039f\"],[0.2222222222222222,\"#7201a8\"],[0.3333333333333333,\"#9c179e\"],[0.4444444444444444,\"#bd3786\"],[0.5555555555555556,\"#d8576b\"],[0.6666666666666666,\"#ed7953\"],[0.7777777777777778,\"#fb9f3a\"],[0.8888888888888888,\"#fdca26\"],[1.0,\"#f0f921\"]],\"diverging\":[[0,\"#8e0152\"],[0.1,\"#c51b7d\"],[0.2,\"#de77ae\"],[0.3,\"#f1b6da\"],[0.4,\"#fde0ef\"],[0.5,\"#f7f7f7\"],[0.6,\"#e6f5d0\"],[0.7,\"#b8e186\"],[0.8,\"#7fbc41\"],[0.9,\"#4d9221\"],[1,\"#276419\"]]},\"xaxis\":{\"gridcolor\":\"white\",\"linecolor\":\"white\",\"ticks\":\"\",\"title\":{\"standoff\":15},\"zerolinecolor\":\"white\",\"automargin\":true,\"zerolinewidth\":2},\"yaxis\":{\"gridcolor\":\"white\",\"linecolor\":\"white\",\"ticks\":\"\",\"title\":{\"standoff\":15},\"zerolinecolor\":\"white\",\"automargin\":true,\"zerolinewidth\":2},\"scene\":{\"xaxis\":{\"backgroundcolor\":\"#E5ECF6\",\"gridcolor\":\"white\",\"linecolor\":\"white\",\"showbackground\":true,\"ticks\":\"\",\"zerolinecolor\":\"white\",\"gridwidth\":2},\"yaxis\":{\"backgroundcolor\":\"#E5ECF6\",\"gridcolor\":\"white\",\"linecolor\":\"white\",\"showbackground\":true,\"ticks\":\"\",\"zerolinecolor\":\"white\",\"gridwidth\":2},\"zaxis\":{\"backgroundcolor\":\"#E5ECF6\",\"gridcolor\":\"white\",\"linecolor\":\"white\",\"showbackground\":true,\"ticks\":\"\",\"zerolinecolor\":\"white\",\"gridwidth\":2}},\"shapedefaults\":{\"line\":{\"color\":\"#2a3f5f\"}},\"annotationdefaults\":{\"arrowcolor\":\"#2a3f5f\",\"arrowhead\":0,\"arrowwidth\":1},\"geo\":{\"bgcolor\":\"white\",\"landcolor\":\"#E5ECF6\",\"subunitcolor\":\"white\",\"showland\":true,\"showlakes\":true,\"lakecolor\":\"white\"},\"title\":{\"x\":0.05},\"mapbox\":{\"style\":\"light\"}}},\"xaxis\":{\"anchor\":\"y\",\"domain\":[0.0,0.16799999999999998],\"title\":{\"text\":\"alpha\"}},\"yaxis\":{\"anchor\":\"x\",\"domain\":[0.0,1.0],\"title\":{\"text\":\"Objective Value\"}},\"xaxis2\":{\"anchor\":\"y2\",\"domain\":[0.208,0.376],\"title\":{\"text\":\"beta\"}},\"yaxis2\":{\"anchor\":\"x2\",\"domain\":[0.0,1.0],\"matches\":\"y\",\"showticklabels\":false},\"xaxis3\":{\"anchor\":\"y3\",\"domain\":[0.416,0.584],\"title\":{\"text\":\"implicit\"},\"type\":\"category\",\"categoryorder\":\"array\",\"categoryarray\":[true,false]},\"yaxis3\":{\"anchor\":\"x3\",\"domain\":[0.0,1.0],\"matches\":\"y\",\"showticklabels\":false},\"xaxis4\":{\"anchor\":\"y4\",\"domain\":[0.624,0.792],\"title\":{\"text\":\"normalize_similarity\"},\"type\":\"category\",\"categoryorder\":\"array\",\"categoryarray\":[true,false]},\"yaxis4\":{\"anchor\":\"x4\",\"domain\":[0.0,1.0],\"matches\":\"y\",\"showticklabels\":false},\"xaxis5\":{\"anchor\":\"y5\",\"domain\":[0.832,1.0],\"title\":{\"text\":\"topK\"}},\"yaxis5\":{\"anchor\":\"x5\",\"domain\":[0.0,1.0],\"matches\":\"y\",\"showticklabels\":false},\"title\":{\"text\":\"Slice Plot\"},\"width\":1500},                        {\"responsive\": true}                    ).then(function(){\n",
       "                            \n",
       "var gd = document.getElementById('8cfa5aea-9eff-4f35-b3f3-8c9169e5ea65');\n",
       "var x = new MutationObserver(function (mutations, observer) {{\n",
       "        var display = window.getComputedStyle(gd).display;\n",
       "        if (!display || display === 'none') {{\n",
       "            console.log([gd, 'removed!']);\n",
       "            Plotly.purge(gd);\n",
       "            observer.disconnect();\n",
       "        }}\n",
       "}});\n",
       "\n",
       "// Listen for the removal of the full notebook cells\n",
       "var notebookContainer = gd.closest('#notebook-container');\n",
       "if (notebookContainer) {{\n",
       "    x.observe(notebookContainer, {childList: true});\n",
       "}}\n",
       "\n",
       "// Listen for the clearing of the current output cell\n",
       "var outputEl = gd.closest('.output');\n",
       "if (outputEl) {{\n",
       "    x.observe(outputEl, {childList: true});\n",
       "}}\n",
       "\n",
       "                        })                };                });            </script>        </div>"
      ]
     },
     "metadata": {},
     "output_type": "display_data"
    }
   ],
   "source": [
    "if not config['tune_parameters']:\n",
    "    optuna_study = optuna.load_study(study_name=f'hyperparameters_tuning_{config[\"model\"]}', storage=f'sqlite:///{config[\"database_path\"]}')\n",
    "    \n",
    "fig = optuna.visualization.plot_slice(optuna_study)\n",
    "fig.show()"
   ]
  },
  {
   "cell_type": "code",
   "execution_count": 17,
   "id": "36c83050",
   "metadata": {
    "execution": {
     "iopub.execute_input": "2024-11-19T02:30:07.439299Z",
     "iopub.status.busy": "2024-11-19T02:30:07.438852Z",
     "iopub.status.idle": "2024-11-19T02:30:10.669738Z",
     "shell.execute_reply": "2024-11-19T02:30:10.668216Z"
    },
    "papermill": {
     "duration": 3.268567,
     "end_time": "2024-11-19T02:30:10.672671",
     "exception": false,
     "start_time": "2024-11-19T02:30:07.404104",
     "status": "completed"
    },
    "tags": []
   },
   "outputs": [
    {
     "data": {
      "text/html": [
       "<div>                            <div id=\"45e72d4f-b648-44c5-80e7-8d4f61649d3c\" class=\"plotly-graph-div\" style=\"height:525px; width:100%;\"></div>            <script type=\"text/javascript\">                require([\"plotly\"], function(Plotly) {                    window.PLOTLYENV=window.PLOTLYENV || {};                                    if (document.getElementById(\"45e72d4f-b648-44c5-80e7-8d4f61649d3c\")) {                    Plotly.newPlot(                        \"45e72d4f-b648-44c5-80e7-8d4f61649d3c\",                        [{\"cliponaxis\":false,\"hovertemplate\":[\"implicit (CategoricalDistribution): 0.0012421700378737574\\u003cextra\\u003e\\u003c\\u002fextra\\u003e\",\"normalize_similarity (CategoricalDistribution): 0.003841246281294519\\u003cextra\\u003e\\u003c\\u002fextra\\u003e\",\"topK (IntDistribution): 0.012025538794583929\\u003cextra\\u003e\\u003c\\u002fextra\\u003e\",\"alpha (FloatDistribution): 0.044011861096622286\\u003cextra\\u003e\\u003c\\u002fextra\\u003e\",\"beta (FloatDistribution): 0.9388791837896254\\u003cextra\\u003e\\u003c\\u002fextra\\u003e\"],\"name\":\"Objective Value\",\"orientation\":\"h\",\"text\":[\"\\u003c0.01\",\"\\u003c0.01\",\"0.01\",\"0.04\",\"0.94\"],\"textposition\":\"outside\",\"x\":[0.0012421700378737574,0.003841246281294519,0.012025538794583929,0.044011861096622286,0.9388791837896254],\"y\":[\"implicit\",\"normalize_similarity\",\"topK\",\"alpha\",\"beta\"],\"type\":\"bar\"}],                        {\"title\":{\"text\":\"Hyperparameter Importances\"},\"xaxis\":{\"title\":{\"text\":\"Hyperparameter Importance\"}},\"yaxis\":{\"title\":{\"text\":\"Hyperparameter\"}},\"template\":{\"data\":{\"histogram2dcontour\":[{\"type\":\"histogram2dcontour\",\"colorbar\":{\"outlinewidth\":0,\"ticks\":\"\"},\"colorscale\":[[0.0,\"#0d0887\"],[0.1111111111111111,\"#46039f\"],[0.2222222222222222,\"#7201a8\"],[0.3333333333333333,\"#9c179e\"],[0.4444444444444444,\"#bd3786\"],[0.5555555555555556,\"#d8576b\"],[0.6666666666666666,\"#ed7953\"],[0.7777777777777778,\"#fb9f3a\"],[0.8888888888888888,\"#fdca26\"],[1.0,\"#f0f921\"]]}],\"choropleth\":[{\"type\":\"choropleth\",\"colorbar\":{\"outlinewidth\":0,\"ticks\":\"\"}}],\"histogram2d\":[{\"type\":\"histogram2d\",\"colorbar\":{\"outlinewidth\":0,\"ticks\":\"\"},\"colorscale\":[[0.0,\"#0d0887\"],[0.1111111111111111,\"#46039f\"],[0.2222222222222222,\"#7201a8\"],[0.3333333333333333,\"#9c179e\"],[0.4444444444444444,\"#bd3786\"],[0.5555555555555556,\"#d8576b\"],[0.6666666666666666,\"#ed7953\"],[0.7777777777777778,\"#fb9f3a\"],[0.8888888888888888,\"#fdca26\"],[1.0,\"#f0f921\"]]}],\"heatmap\":[{\"type\":\"heatmap\",\"colorbar\":{\"outlinewidth\":0,\"ticks\":\"\"},\"colorscale\":[[0.0,\"#0d0887\"],[0.1111111111111111,\"#46039f\"],[0.2222222222222222,\"#7201a8\"],[0.3333333333333333,\"#9c179e\"],[0.4444444444444444,\"#bd3786\"],[0.5555555555555556,\"#d8576b\"],[0.6666666666666666,\"#ed7953\"],[0.7777777777777778,\"#fb9f3a\"],[0.8888888888888888,\"#fdca26\"],[1.0,\"#f0f921\"]]}],\"heatmapgl\":[{\"type\":\"heatmapgl\",\"colorbar\":{\"outlinewidth\":0,\"ticks\":\"\"},\"colorscale\":[[0.0,\"#0d0887\"],[0.1111111111111111,\"#46039f\"],[0.2222222222222222,\"#7201a8\"],[0.3333333333333333,\"#9c179e\"],[0.4444444444444444,\"#bd3786\"],[0.5555555555555556,\"#d8576b\"],[0.6666666666666666,\"#ed7953\"],[0.7777777777777778,\"#fb9f3a\"],[0.8888888888888888,\"#fdca26\"],[1.0,\"#f0f921\"]]}],\"contourcarpet\":[{\"type\":\"contourcarpet\",\"colorbar\":{\"outlinewidth\":0,\"ticks\":\"\"}}],\"contour\":[{\"type\":\"contour\",\"colorbar\":{\"outlinewidth\":0,\"ticks\":\"\"},\"colorscale\":[[0.0,\"#0d0887\"],[0.1111111111111111,\"#46039f\"],[0.2222222222222222,\"#7201a8\"],[0.3333333333333333,\"#9c179e\"],[0.4444444444444444,\"#bd3786\"],[0.5555555555555556,\"#d8576b\"],[0.6666666666666666,\"#ed7953\"],[0.7777777777777778,\"#fb9f3a\"],[0.8888888888888888,\"#fdca26\"],[1.0,\"#f0f921\"]]}],\"surface\":[{\"type\":\"surface\",\"colorbar\":{\"outlinewidth\":0,\"ticks\":\"\"},\"colorscale\":[[0.0,\"#0d0887\"],[0.1111111111111111,\"#46039f\"],[0.2222222222222222,\"#7201a8\"],[0.3333333333333333,\"#9c179e\"],[0.4444444444444444,\"#bd3786\"],[0.5555555555555556,\"#d8576b\"],[0.6666666666666666,\"#ed7953\"],[0.7777777777777778,\"#fb9f3a\"],[0.8888888888888888,\"#fdca26\"],[1.0,\"#f0f921\"]]}],\"mesh3d\":[{\"type\":\"mesh3d\",\"colorbar\":{\"outlinewidth\":0,\"ticks\":\"\"}}],\"scatter\":[{\"fillpattern\":{\"fillmode\":\"overlay\",\"size\":10,\"solidity\":0.2},\"type\":\"scatter\"}],\"parcoords\":[{\"type\":\"parcoords\",\"line\":{\"colorbar\":{\"outlinewidth\":0,\"ticks\":\"\"}}}],\"scatterpolargl\":[{\"type\":\"scatterpolargl\",\"marker\":{\"colorbar\":{\"outlinewidth\":0,\"ticks\":\"\"}}}],\"bar\":[{\"error_x\":{\"color\":\"#2a3f5f\"},\"error_y\":{\"color\":\"#2a3f5f\"},\"marker\":{\"line\":{\"color\":\"#E5ECF6\",\"width\":0.5},\"pattern\":{\"fillmode\":\"overlay\",\"size\":10,\"solidity\":0.2}},\"type\":\"bar\"}],\"scattergeo\":[{\"type\":\"scattergeo\",\"marker\":{\"colorbar\":{\"outlinewidth\":0,\"ticks\":\"\"}}}],\"scatterpolar\":[{\"type\":\"scatterpolar\",\"marker\":{\"colorbar\":{\"outlinewidth\":0,\"ticks\":\"\"}}}],\"histogram\":[{\"marker\":{\"pattern\":{\"fillmode\":\"overlay\",\"size\":10,\"solidity\":0.2}},\"type\":\"histogram\"}],\"scattergl\":[{\"type\":\"scattergl\",\"marker\":{\"colorbar\":{\"outlinewidth\":0,\"ticks\":\"\"}}}],\"scatter3d\":[{\"type\":\"scatter3d\",\"line\":{\"colorbar\":{\"outlinewidth\":0,\"ticks\":\"\"}},\"marker\":{\"colorbar\":{\"outlinewidth\":0,\"ticks\":\"\"}}}],\"scattermapbox\":[{\"type\":\"scattermapbox\",\"marker\":{\"colorbar\":{\"outlinewidth\":0,\"ticks\":\"\"}}}],\"scatterternary\":[{\"type\":\"scatterternary\",\"marker\":{\"colorbar\":{\"outlinewidth\":0,\"ticks\":\"\"}}}],\"scattercarpet\":[{\"type\":\"scattercarpet\",\"marker\":{\"colorbar\":{\"outlinewidth\":0,\"ticks\":\"\"}}}],\"carpet\":[{\"aaxis\":{\"endlinecolor\":\"#2a3f5f\",\"gridcolor\":\"white\",\"linecolor\":\"white\",\"minorgridcolor\":\"white\",\"startlinecolor\":\"#2a3f5f\"},\"baxis\":{\"endlinecolor\":\"#2a3f5f\",\"gridcolor\":\"white\",\"linecolor\":\"white\",\"minorgridcolor\":\"white\",\"startlinecolor\":\"#2a3f5f\"},\"type\":\"carpet\"}],\"table\":[{\"cells\":{\"fill\":{\"color\":\"#EBF0F8\"},\"line\":{\"color\":\"white\"}},\"header\":{\"fill\":{\"color\":\"#C8D4E3\"},\"line\":{\"color\":\"white\"}},\"type\":\"table\"}],\"barpolar\":[{\"marker\":{\"line\":{\"color\":\"#E5ECF6\",\"width\":0.5},\"pattern\":{\"fillmode\":\"overlay\",\"size\":10,\"solidity\":0.2}},\"type\":\"barpolar\"}],\"pie\":[{\"automargin\":true,\"type\":\"pie\"}]},\"layout\":{\"autotypenumbers\":\"strict\",\"colorway\":[\"#636efa\",\"#EF553B\",\"#00cc96\",\"#ab63fa\",\"#FFA15A\",\"#19d3f3\",\"#FF6692\",\"#B6E880\",\"#FF97FF\",\"#FECB52\"],\"font\":{\"color\":\"#2a3f5f\"},\"hovermode\":\"closest\",\"hoverlabel\":{\"align\":\"left\"},\"paper_bgcolor\":\"white\",\"plot_bgcolor\":\"#E5ECF6\",\"polar\":{\"bgcolor\":\"#E5ECF6\",\"angularaxis\":{\"gridcolor\":\"white\",\"linecolor\":\"white\",\"ticks\":\"\"},\"radialaxis\":{\"gridcolor\":\"white\",\"linecolor\":\"white\",\"ticks\":\"\"}},\"ternary\":{\"bgcolor\":\"#E5ECF6\",\"aaxis\":{\"gridcolor\":\"white\",\"linecolor\":\"white\",\"ticks\":\"\"},\"baxis\":{\"gridcolor\":\"white\",\"linecolor\":\"white\",\"ticks\":\"\"},\"caxis\":{\"gridcolor\":\"white\",\"linecolor\":\"white\",\"ticks\":\"\"}},\"coloraxis\":{\"colorbar\":{\"outlinewidth\":0,\"ticks\":\"\"}},\"colorscale\":{\"sequential\":[[0.0,\"#0d0887\"],[0.1111111111111111,\"#46039f\"],[0.2222222222222222,\"#7201a8\"],[0.3333333333333333,\"#9c179e\"],[0.4444444444444444,\"#bd3786\"],[0.5555555555555556,\"#d8576b\"],[0.6666666666666666,\"#ed7953\"],[0.7777777777777778,\"#fb9f3a\"],[0.8888888888888888,\"#fdca26\"],[1.0,\"#f0f921\"]],\"sequentialminus\":[[0.0,\"#0d0887\"],[0.1111111111111111,\"#46039f\"],[0.2222222222222222,\"#7201a8\"],[0.3333333333333333,\"#9c179e\"],[0.4444444444444444,\"#bd3786\"],[0.5555555555555556,\"#d8576b\"],[0.6666666666666666,\"#ed7953\"],[0.7777777777777778,\"#fb9f3a\"],[0.8888888888888888,\"#fdca26\"],[1.0,\"#f0f921\"]],\"diverging\":[[0,\"#8e0152\"],[0.1,\"#c51b7d\"],[0.2,\"#de77ae\"],[0.3,\"#f1b6da\"],[0.4,\"#fde0ef\"],[0.5,\"#f7f7f7\"],[0.6,\"#e6f5d0\"],[0.7,\"#b8e186\"],[0.8,\"#7fbc41\"],[0.9,\"#4d9221\"],[1,\"#276419\"]]},\"xaxis\":{\"gridcolor\":\"white\",\"linecolor\":\"white\",\"ticks\":\"\",\"title\":{\"standoff\":15},\"zerolinecolor\":\"white\",\"automargin\":true,\"zerolinewidth\":2},\"yaxis\":{\"gridcolor\":\"white\",\"linecolor\":\"white\",\"ticks\":\"\",\"title\":{\"standoff\":15},\"zerolinecolor\":\"white\",\"automargin\":true,\"zerolinewidth\":2},\"scene\":{\"xaxis\":{\"backgroundcolor\":\"#E5ECF6\",\"gridcolor\":\"white\",\"linecolor\":\"white\",\"showbackground\":true,\"ticks\":\"\",\"zerolinecolor\":\"white\",\"gridwidth\":2},\"yaxis\":{\"backgroundcolor\":\"#E5ECF6\",\"gridcolor\":\"white\",\"linecolor\":\"white\",\"showbackground\":true,\"ticks\":\"\",\"zerolinecolor\":\"white\",\"gridwidth\":2},\"zaxis\":{\"backgroundcolor\":\"#E5ECF6\",\"gridcolor\":\"white\",\"linecolor\":\"white\",\"showbackground\":true,\"ticks\":\"\",\"zerolinecolor\":\"white\",\"gridwidth\":2}},\"shapedefaults\":{\"line\":{\"color\":\"#2a3f5f\"}},\"annotationdefaults\":{\"arrowcolor\":\"#2a3f5f\",\"arrowhead\":0,\"arrowwidth\":1},\"geo\":{\"bgcolor\":\"white\",\"landcolor\":\"#E5ECF6\",\"subunitcolor\":\"white\",\"showland\":true,\"showlakes\":true,\"lakecolor\":\"white\"},\"title\":{\"x\":0.05},\"mapbox\":{\"style\":\"light\"}}}},                        {\"responsive\": true}                    ).then(function(){\n",
       "                            \n",
       "var gd = document.getElementById('45e72d4f-b648-44c5-80e7-8d4f61649d3c');\n",
       "var x = new MutationObserver(function (mutations, observer) {{\n",
       "        var display = window.getComputedStyle(gd).display;\n",
       "        if (!display || display === 'none') {{\n",
       "            console.log([gd, 'removed!']);\n",
       "            Plotly.purge(gd);\n",
       "            observer.disconnect();\n",
       "        }}\n",
       "}});\n",
       "\n",
       "// Listen for the removal of the full notebook cells\n",
       "var notebookContainer = gd.closest('#notebook-container');\n",
       "if (notebookContainer) {{\n",
       "    x.observe(notebookContainer, {childList: true});\n",
       "}}\n",
       "\n",
       "// Listen for the clearing of the current output cell\n",
       "var outputEl = gd.closest('.output');\n",
       "if (outputEl) {{\n",
       "    x.observe(outputEl, {childList: true});\n",
       "}}\n",
       "\n",
       "                        })                };                });            </script>        </div>"
      ]
     },
     "metadata": {},
     "output_type": "display_data"
    }
   ],
   "source": [
    "if not config['tune_parameters']:\n",
    "    optuna_study = optuna.load_study(study_name=f'hyperparameters_tuning_{config[\"model\"]}', storage=f'sqlite:///{config[\"database_path\"]}')\n",
    "    \n",
    "fig = optuna.visualization.plot_param_importances(optuna_study)\n",
    "fig.show()"
   ]
  },
  {
   "cell_type": "markdown",
   "id": "6aa8695e",
   "metadata": {
    "papermill": {
     "duration": 0.03124,
     "end_time": "2024-11-19T02:30:10.735849",
     "exception": false,
     "start_time": "2024-11-19T02:30:10.704609",
     "status": "completed"
    },
    "tags": []
   },
   "source": [
    "## Let's train the recommender with best parameter values"
   ]
  },
  {
   "cell_type": "code",
   "execution_count": 18,
   "id": "e6aa80af",
   "metadata": {
    "execution": {
     "iopub.execute_input": "2024-11-19T02:30:10.803807Z",
     "iopub.status.busy": "2024-11-19T02:30:10.803439Z",
     "iopub.status.idle": "2024-11-19T02:30:32.355176Z",
     "shell.execute_reply": "2024-11-19T02:30:32.354127Z"
    },
    "papermill": {
     "duration": 21.588986,
     "end_time": "2024-11-19T02:30:32.357802",
     "exception": false,
     "start_time": "2024-11-19T02:30:10.768816",
     "status": "completed"
    },
    "tags": []
   },
   "outputs": [
    {
     "name": "stdout",
     "output_type": "stream",
     "text": [
      "RP3betaRecommender: Similarity column 38121 (100.0%), 1874.89 column/sec. Elapsed time 20.33 sec\n"
     ]
    }
   ],
   "source": [
    "if config['tune_best_params']:\n",
    "\n",
    "    if config['tune_parameters']:\n",
    "        best_params = optuna_study.best_trial.params\n",
    "    else: \n",
    "        with open(f'/kaggle/working/TrainedModels/{config[\"model\"]}Recommender/best_params_{config[\"model\"]}.json', 'r') as best_params_json:\n",
    "            best_params = json.load(best_params_json)\n",
    "\n",
    "    recommender_instance = RP3betaRecommender(URM_train + URM_validation)\n",
    "    recommender_instance.fit(**best_params)"
   ]
  },
  {
   "cell_type": "markdown",
   "id": "85c515ba",
   "metadata": {
    "papermill": {
     "duration": 0.030984,
     "end_time": "2024-11-19T02:30:32.418821",
     "exception": false,
     "start_time": "2024-11-19T02:30:32.387837",
     "status": "completed"
    },
    "tags": []
   },
   "source": [
    "# Testing"
   ]
  },
  {
   "cell_type": "markdown",
   "id": "044afa31",
   "metadata": {
    "papermill": {
     "duration": 0.029338,
     "end_time": "2024-11-19T02:30:32.478485",
     "exception": false,
     "start_time": "2024-11-19T02:30:32.449147",
     "status": "completed"
    },
    "tags": []
   },
   "source": [
    "Create the recommendations for the submission. "
   ]
  },
  {
   "cell_type": "code",
   "execution_count": 19,
   "id": "dffbe670",
   "metadata": {
    "execution": {
     "iopub.execute_input": "2024-11-19T02:30:32.540561Z",
     "iopub.status.busy": "2024-11-19T02:30:32.540053Z",
     "iopub.status.idle": "2024-11-19T02:30:32.547426Z",
     "shell.execute_reply": "2024-11-19T02:30:32.546223Z"
    },
    "papermill": {
     "duration": 0.04083,
     "end_time": "2024-11-19T02:30:32.549497",
     "exception": false,
     "start_time": "2024-11-19T02:30:32.508667",
     "status": "completed"
    },
    "tags": []
   },
   "outputs": [],
   "source": [
    "def create_submission(data_target_users_test, recommender_instance, cutoff=10, output_file=f\"/kaggle/working/submission_{config['model']}.csv\"):\n",
    "    \n",
    "    target_result = []\n",
    "\n",
    "    for target in data_target_users_test[\"user_id\"]:\n",
    "        target_result.append(recommender_instance.recommend(target, cutoff=cutoff, remove_seen_flag=True))\n",
    "\n",
    "    user_ids = data_target_users_test[\"user_id\"]\n",
    "    formatted_data = {\n",
    "        \"user_id\": user_ids,\n",
    "        \"item_list\": [\" \".join(map(str, items)) for items in target_result]\n",
    "    }\n",
    "\n",
    "    submission_df = pd.DataFrame(formatted_data)\n",
    "    submission_df.to_csv(output_file, index=False, header=[\"user_id\", \"item_list\"])\n",
    "\n",
    "    print(f\"Submission file saved as {output_file}\")"
   ]
  },
  {
   "cell_type": "code",
   "execution_count": 20,
   "id": "25e94dfa",
   "metadata": {
    "execution": {
     "iopub.execute_input": "2024-11-19T02:30:32.613419Z",
     "iopub.status.busy": "2024-11-19T02:30:32.612545Z",
     "iopub.status.idle": "2024-11-19T02:30:52.394648Z",
     "shell.execute_reply": "2024-11-19T02:30:52.393562Z"
    },
    "papermill": {
     "duration": 19.816147,
     "end_time": "2024-11-19T02:30:52.396916",
     "exception": false,
     "start_time": "2024-11-19T02:30:32.580769",
     "status": "completed"
    },
    "tags": []
   },
   "outputs": [
    {
     "name": "stdout",
     "output_type": "stream",
     "text": [
      "Submission file saved as /kaggle/working/submission_RP3beta.csv\n"
     ]
    }
   ],
   "source": [
    "if config['tune_best_params']:\n",
    "\n",
    "    data_target_users_test = pd.read_csv('/kaggle/input/recommender-system-2024-challenge-polimi/data_target_users_test.csv')\n",
    "    create_submission(data_target_users_test, recommender_instance)"
   ]
  },
  {
   "cell_type": "markdown",
   "id": "a6183e7f",
   "metadata": {
    "execution": {
     "iopub.execute_input": "2024-11-14T00:04:16.877791Z",
     "iopub.status.busy": "2024-11-14T00:04:16.877275Z",
     "iopub.status.idle": "2024-11-14T00:04:16.883170Z",
     "shell.execute_reply": "2024-11-14T00:04:16.881889Z",
     "shell.execute_reply.started": "2024-11-14T00:04:16.877743Z"
    },
    "papermill": {
     "duration": 0.02979,
     "end_time": "2024-11-19T02:30:52.459060",
     "exception": false,
     "start_time": "2024-11-19T02:30:52.429270",
     "status": "completed"
    },
    "tags": []
   },
   "source": [
    "# Save Version on GitHub "
   ]
  },
  {
   "cell_type": "markdown",
   "id": "d2fd98b7",
   "metadata": {
    "papermill": {
     "duration": 0.029542,
     "end_time": "2024-11-19T02:30:52.518580",
     "exception": false,
     "start_time": "2024-11-19T02:30:52.489038",
     "status": "completed"
    },
    "tags": []
   },
   "source": [
    "Write or import a json file where best hyperparameters are saved. "
   ]
  },
  {
   "cell_type": "code",
   "execution_count": 21,
   "id": "1ddd69b3",
   "metadata": {
    "execution": {
     "iopub.execute_input": "2024-11-19T02:30:52.580525Z",
     "iopub.status.busy": "2024-11-19T02:30:52.580169Z",
     "iopub.status.idle": "2024-11-19T02:30:53.541024Z",
     "shell.execute_reply": "2024-11-19T02:30:53.539789Z"
    },
    "papermill": {
     "duration": 0.994583,
     "end_time": "2024-11-19T02:30:53.543307",
     "exception": false,
     "start_time": "2024-11-19T02:30:52.548724",
     "status": "completed"
    },
    "tags": []
   },
   "outputs": [
    {
     "name": "stdout",
     "output_type": "stream",
     "text": [
      "File 'TrainedModels/RP3betaRecommender/best_params_RP3beta.json' updated successfully.\n"
     ]
    }
   ],
   "source": [
    "if config['tune_parameters']:\n",
    "    with open(f'/kaggle/working/best_params_{config[\"model\"]}.json', 'w') as params_file:\n",
    "        json.dump(optuna_study.best_params, params_file)\n",
    "        \n",
    "    if config['save_github']:\n",
    "        upload_file(\n",
    "            f'/kaggle/working/best_params_{config[\"model\"]}.json', \n",
    "            f'TrainedModels/{config[\"model\"]}Recommender/best_params_{config[\"model\"]}.json', \n",
    "            f'{config[\"model\"]} tuning results (from kaggle notebook)'\n",
    "        )\n",
    "elif config['copy_prev_best_params']:\n",
    "    shutil.copyfile(\n",
    "        f'/kaggle/working/RECsys_Challenge2024/TrainedModels/{config[\"model\"]}Recommender/'\\\n",
    "        f'best_params_{config[\"model\"]}.json', \n",
    "        f'/kaggle/working/best_params_{config[\"model\"]}.json'\n",
    "    )"
   ]
  },
  {
   "cell_type": "markdown",
   "id": "d1b4d1ec",
   "metadata": {
    "execution": {
     "iopub.execute_input": "2024-11-14T00:41:34.294243Z",
     "iopub.status.busy": "2024-11-14T00:41:34.293739Z",
     "iopub.status.idle": "2024-11-14T00:41:34.301478Z",
     "shell.execute_reply": "2024-11-14T00:41:34.299869Z",
     "shell.execute_reply.started": "2024-11-14T00:41:34.294186Z"
    },
    "papermill": {
     "duration": 0.032315,
     "end_time": "2024-11-19T02:30:53.606735",
     "exception": false,
     "start_time": "2024-11-19T02:30:53.574420",
     "status": "completed"
    },
    "tags": []
   },
   "source": [
    "Save the history of the tuned model."
   ]
  },
  {
   "cell_type": "code",
   "execution_count": 22,
   "id": "11c0f4b4",
   "metadata": {
    "execution": {
     "iopub.execute_input": "2024-11-19T02:30:53.670439Z",
     "iopub.status.busy": "2024-11-19T02:30:53.669856Z",
     "iopub.status.idle": "2024-11-19T02:30:55.104230Z",
     "shell.execute_reply": "2024-11-19T02:30:55.102560Z"
    },
    "papermill": {
     "duration": 1.469264,
     "end_time": "2024-11-19T02:30:55.107450",
     "exception": false,
     "start_time": "2024-11-19T02:30:53.638186",
     "status": "completed"
    },
    "tags": []
   },
   "outputs": [
    {
     "name": "stdout",
     "output_type": "stream",
     "text": [
      "File 'TrainedModels/RP3betaRecommender/history_RP3beta.db' updated successfully.\n"
     ]
    }
   ],
   "source": [
    "if config['save_github'] and config['tune_parameters']:\n",
    "    upload_file(\n",
    "        config['database_path'], \n",
    "        f'TrainedModels/{config[\"model\"]}Recommender/history_{config[\"model\"]}.db',\n",
    "        f'Tuning {config[\"model\"]} db updated results (from kaggle notebook)'\n",
    "    )"
   ]
  },
  {
   "cell_type": "markdown",
   "id": "142f2dd9",
   "metadata": {
    "papermill": {
     "duration": 0.031597,
     "end_time": "2024-11-19T02:30:55.185425",
     "exception": false,
     "start_time": "2024-11-19T02:30:55.153828",
     "status": "completed"
    },
    "tags": []
   },
   "source": [
    "Save the best trained model and its submission."
   ]
  },
  {
   "cell_type": "code",
   "execution_count": null,
   "id": "8ec9620c",
   "metadata": {
    "execution": {
     "iopub.execute_input": "2024-11-19T02:30:55.254158Z",
     "iopub.status.busy": "2024-11-19T02:30:55.253726Z",
     "iopub.status.idle": "2024-11-19T02:30:58.891973Z",
     "shell.execute_reply": "2024-11-19T02:30:58.890771Z"
    },
    "papermill": {
     "duration": 3.675934,
     "end_time": "2024-11-19T02:30:58.894351",
     "exception": false,
     "start_time": "2024-11-19T02:30:55.218417",
     "status": "completed"
    },
    "tags": []
   },
   "outputs": [
    {
     "name": "stdout",
     "output_type": "stream",
     "text": [
      "File 'TrainedModels/RP3betaRecommender/Submission/submission_RP3beta.csv' updated successfully.\n",
      "RP3betaRecommender: Saving model in file '/kaggle/working/best_RP3beta_tuned'\n",
      "RP3betaRecommender: Saving complete\n",
      "File 'TrainedModels/RP3betaRecommender/best_RP3beta_tuned.zip' updated successfully.\n"
     ]
    }
   ],
   "source": [
    "if config['save_github'] and config['tune_best_params']:\n",
    "    \n",
    "    upload_file(\n",
    "                f'/kaggle/working/submission_{config[\"model\"]}.csv', \n",
    "                f'TrainedModels/{config[\"model\"]}Recommender/Submission/'\\\n",
    "                    f'submission_{config[\"model\"]}.csv', \n",
    "                f'New {config[\"model\"]} submission (from kaggle notebook)'\n",
    "            )\n",
    "    \n",
    "    recommender_instance.save_model(folder_path='/kaggle/working/', file_name=f'best_{config[\"model\"]}_tuned')\n",
    "    \n",
    "    zip_file_path = f'/kaggle/working/best_{config[\"model\"]}_tuned.zip'\n",
    "    \n",
    "    # 50MB limitation management for GitHub pushes. \n",
    "    try:\n",
    "        upload_file(\n",
    "            zip_file_path,  \n",
    "            f'TrainedModels/{config[\"model\"]}Recommender/best_{config[\"model\"]}_tuned.zip', \n",
    "            f'New {config[\"model\"]} recommender tuned with best parameters (from kaggle notebook)'\n",
    "        )\n",
    "    except Exception as e:\n",
    "        print(f\"\\nThe best recommender was not saved on GitHub because its size is more than 50 MB.\")"
   ]
  }
 ],
 "metadata": {
  "kaggle": {
   "accelerator": "none",
   "dataSources": [
    {
     "databundleVersionId": 9982103,
     "sourceId": 87439,
     "sourceType": "competition"
    }
   ],
   "dockerImageVersionId": 30786,
   "isGpuEnabled": false,
   "isInternetEnabled": true,
   "language": "python",
   "sourceType": "notebook"
  },
  "kernelspec": {
   "display_name": "Python 3",
   "language": "python",
   "name": "python3"
  },
  "language_info": {
   "codemirror_mode": {
    "name": "ipython",
    "version": 3
   },
   "file_extension": ".py",
   "mimetype": "text/x-python",
   "name": "python",
   "nbconvert_exporter": "python",
   "pygments_lexer": "ipython3",
   "version": "3.10.14"
  },
  "papermill": {
   "default_parameters": {},
   "duration": 6532.116558,
   "end_time": "2024-11-19T02:31:00.048679",
   "environment_variables": {},
   "exception": null,
   "input_path": "__notebook__.ipynb",
   "output_path": "__notebook__.ipynb",
   "parameters": {},
   "start_time": "2024-11-19T00:42:07.932121",
   "version": "2.6.0"
  }
 },
 "nbformat": 4,
 "nbformat_minor": 5
}
