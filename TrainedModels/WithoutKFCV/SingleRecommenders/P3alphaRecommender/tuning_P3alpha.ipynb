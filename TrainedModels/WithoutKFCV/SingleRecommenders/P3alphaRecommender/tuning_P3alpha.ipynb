{
 "cells": [
  {
   "cell_type": "markdown",
   "id": "b2b12179",
   "metadata": {
    "papermill": {
     "duration": 0.006308,
     "end_time": "2024-11-19T00:43:22.069162",
     "exception": false,
     "start_time": "2024-11-19T00:43:22.062854",
     "status": "completed"
    },
    "tags": []
   },
   "source": [
    "# Set connection with GitHub"
   ]
  },
  {
   "cell_type": "code",
   "execution_count": 1,
   "id": "fbcf9d67",
   "metadata": {
    "execution": {
     "iopub.execute_input": "2024-11-19T00:43:22.082003Z",
     "iopub.status.busy": "2024-11-19T00:43:22.081625Z",
     "iopub.status.idle": "2024-11-19T00:43:22.086660Z",
     "shell.execute_reply": "2024-11-19T00:43:22.085720Z"
    },
    "papermill": {
     "duration": 0.01381,
     "end_time": "2024-11-19T00:43:22.088789",
     "exception": false,
     "start_time": "2024-11-19T00:43:22.074979",
     "status": "completed"
    },
    "tags": []
   },
   "outputs": [],
   "source": [
    "# ! cd /kaggle/working && rm -rf RECsys_Challenge2024"
   ]
  },
  {
   "cell_type": "code",
   "execution_count": 2,
   "id": "8e178914",
   "metadata": {
    "_cell_guid": "b1076dfc-b9ad-4769-8c92-a6c4dae69d19",
    "_uuid": "8f2839f25d086af736a60e9eeb907d3b93b6e0e5",
    "execution": {
     "iopub.execute_input": "2024-11-19T00:43:22.101647Z",
     "iopub.status.busy": "2024-11-19T00:43:22.101262Z",
     "iopub.status.idle": "2024-11-19T00:43:34.840997Z",
     "shell.execute_reply": "2024-11-19T00:43:34.839778Z"
    },
    "papermill": {
     "duration": 12.748935,
     "end_time": "2024-11-19T00:43:34.843506",
     "exception": false,
     "start_time": "2024-11-19T00:43:22.094571",
     "status": "completed"
    },
    "tags": []
   },
   "outputs": [
    {
     "name": "stdout",
     "output_type": "stream",
     "text": [
      "Cloning into 'RECsys_Challenge2024'...\r\n",
      "remote: Enumerating objects: 2029, done.\u001b[K\r\n",
      "remote: Counting objects: 100% (411/411), done.\u001b[K\r\n",
      "remote: Compressing objects: 100% (215/215), done.\u001b[K\r\n",
      "remote: Total 2029 (delta 248), reused 323 (delta 188), pack-reused 1618 (from 1)\u001b[K\r\n",
      "Receiving objects: 100% (2029/2029), 141.68 MiB | 22.01 MiB/s, done.\r\n",
      "Resolving deltas: 100% (1193/1193), done.\r\n"
     ]
    }
   ],
   "source": [
    "from kaggle_secrets import UserSecretsClient\n",
    "\n",
    "token = UserSecretsClient().get_secret(\"Token\")\n",
    "\n",
    "! git clone https://{token}@github.com/madratak/RECsys_Challenge2024.git"
   ]
  },
  {
   "cell_type": "code",
   "execution_count": 3,
   "id": "e6fa8eec",
   "metadata": {
    "execution": {
     "iopub.execute_input": "2024-11-19T00:43:34.863288Z",
     "iopub.status.busy": "2024-11-19T00:43:34.862864Z",
     "iopub.status.idle": "2024-11-19T00:43:46.570383Z",
     "shell.execute_reply": "2024-11-19T00:43:46.569157Z"
    },
    "papermill": {
     "duration": 11.720812,
     "end_time": "2024-11-19T00:43:46.572788",
     "exception": false,
     "start_time": "2024-11-19T00:43:34.851976",
     "status": "completed"
    },
    "tags": []
   },
   "outputs": [
    {
     "name": "stdout",
     "output_type": "stream",
     "text": [
      "Collecting PyGithub\r\n",
      "  Downloading PyGithub-2.5.0-py3-none-any.whl.metadata (3.9 kB)\r\n",
      "Requirement already satisfied: requests in /opt/conda/lib/python3.10/site-packages (2.32.3)\r\n",
      "Collecting pynacl>=1.4.0 (from PyGithub)\r\n",
      "  Downloading PyNaCl-1.5.0-cp36-abi3-manylinux_2_17_x86_64.manylinux2014_x86_64.manylinux_2_24_x86_64.whl.metadata (8.6 kB)\r\n",
      "Requirement already satisfied: pyjwt>=2.4.0 in /opt/conda/lib/python3.10/site-packages (from pyjwt[crypto]>=2.4.0->PyGithub) (2.8.0)\r\n",
      "Requirement already satisfied: typing-extensions>=4.0.0 in /opt/conda/lib/python3.10/site-packages (from PyGithub) (4.12.2)\r\n",
      "Requirement already satisfied: urllib3>=1.26.0 in /opt/conda/lib/python3.10/site-packages (from PyGithub) (1.26.18)\r\n",
      "Requirement already satisfied: Deprecated in /opt/conda/lib/python3.10/site-packages (from PyGithub) (1.2.14)\r\n",
      "Requirement already satisfied: charset-normalizer<4,>=2 in /opt/conda/lib/python3.10/site-packages (from requests) (3.3.2)\r\n",
      "Requirement already satisfied: idna<4,>=2.5 in /opt/conda/lib/python3.10/site-packages (from requests) (3.7)\r\n",
      "Requirement already satisfied: certifi>=2017.4.17 in /opt/conda/lib/python3.10/site-packages (from requests) (2024.8.30)\r\n",
      "Requirement already satisfied: cryptography>=3.4.0 in /opt/conda/lib/python3.10/site-packages (from pyjwt[crypto]>=2.4.0->PyGithub) (42.0.8)\r\n",
      "Requirement already satisfied: cffi>=1.4.1 in /opt/conda/lib/python3.10/site-packages (from pynacl>=1.4.0->PyGithub) (1.16.0)\r\n",
      "Requirement already satisfied: wrapt<2,>=1.10 in /opt/conda/lib/python3.10/site-packages (from Deprecated->PyGithub) (1.16.0)\r\n",
      "Requirement already satisfied: pycparser in /opt/conda/lib/python3.10/site-packages (from cffi>=1.4.1->pynacl>=1.4.0->PyGithub) (2.22)\r\n",
      "Downloading PyGithub-2.5.0-py3-none-any.whl (375 kB)\r\n",
      "\u001b[2K   \u001b[90m━━━━━━━━━━━━━━━━━━━━━━━━━━━━━━━━━━━━━━━━\u001b[0m \u001b[32m375.9/375.9 kB\u001b[0m \u001b[31m6.2 MB/s\u001b[0m eta \u001b[36m0:00:00\u001b[0m\r\n",
      "\u001b[?25hDownloading PyNaCl-1.5.0-cp36-abi3-manylinux_2_17_x86_64.manylinux2014_x86_64.manylinux_2_24_x86_64.whl (856 kB)\r\n",
      "\u001b[2K   \u001b[90m━━━━━━━━━━━━━━━━━━━━━━━━━━━━━━━━━━━━━━━━\u001b[0m \u001b[32m856.7/856.7 kB\u001b[0m \u001b[31m25.6 MB/s\u001b[0m eta \u001b[36m0:00:00\u001b[0m\r\n",
      "\u001b[?25hInstalling collected packages: pynacl, PyGithub\r\n",
      "Successfully installed PyGithub-2.5.0 pynacl-1.5.0\r\n"
     ]
    }
   ],
   "source": [
    "! pip install PyGithub requests"
   ]
  },
  {
   "cell_type": "code",
   "execution_count": null,
   "id": "3280e877",
   "metadata": {
    "_kg_hide-input": false,
    "execution": {
     "iopub.execute_input": "2024-11-19T00:43:46.592378Z",
     "iopub.status.busy": "2024-11-19T00:43:46.591956Z",
     "iopub.status.idle": "2024-11-19T00:46:08.870958Z",
     "shell.execute_reply": "2024-11-19T00:46:08.869698Z"
    },
    "papermill": {
     "duration": 142.291672,
     "end_time": "2024-11-19T00:46:08.873474",
     "exception": false,
     "start_time": "2024-11-19T00:43:46.581802",
     "status": "completed"
    },
    "tags": []
   },
   "outputs": [
    {
     "name": "stdout",
     "output_type": "stream",
     "text": [
      "run_compile_all_cython: Found 11 Cython files in 5 folders...\r\n",
      "run_compile_all_cython: All files will be compiled using your current python environment: '/opt/conda/bin/python'\r\n",
      "Compiling [1/11]: MatrixFactorization_Cython_Epoch.pyx... \r\n",
      "In file included from \u001b[01m\u001b[K/opt/conda/lib/python3.10/site-packages/numpy/core/include/numpy/ndarraytypes.h:1929\u001b[m\u001b[K,\r\n",
      "                 from \u001b[01m\u001b[K/opt/conda/lib/python3.10/site-packages/numpy/core/include/numpy/ndarrayobject.h:12\u001b[m\u001b[K,\r\n",
      "                 from \u001b[01m\u001b[K/opt/conda/lib/python3.10/site-packages/numpy/core/include/numpy/arrayobject.h:5\u001b[m\u001b[K,\r\n",
      "                 from \u001b[01m\u001b[KMatrixFactorization_Cython_Epoch.c:1252\u001b[m\u001b[K:\r\n",
      "\u001b[01m\u001b[K/opt/conda/lib/python3.10/site-packages/numpy/core/include/numpy/npy_1_7_deprecated_api.h:17:2:\u001b[m\u001b[K \u001b[01;35m\u001b[Kwarning: \u001b[m\u001b[K#warning \"Using deprecated NumPy API, disable it with \" \"#define NPY_NO_DEPRECATED_API NPY_1_7_API_VERSION\" [\u001b[01;35m\u001b[K-Wcpp\u001b[m\u001b[K]\r\n",
      "   17 | #\u001b[01;35m\u001b[Kwarning\u001b[m\u001b[K \"Using deprecated NumPy API, disable it with \" \\\r\n",
      "      |  \u001b[01;35m\u001b[K^~~~~~~\u001b[m\u001b[K\r\n",
      "\u001b[01m\u001b[KMatrixFactorization_Cython_Epoch.c:\u001b[m\u001b[K In function '\u001b[01m\u001b[K__pyx_pf_32MatrixFactorization_Cython_Epoch_32MatrixFactorization_Cython_Epoch_10epochIteration_Cython_ASY_SVD_SGD\u001b[m\u001b[K':\r\n",
      "\u001b[01m\u001b[KMatrixFactorization_Cython_Epoch.c:26255:9:\u001b[m\u001b[K \u001b[01;35m\u001b[Kwarning: \u001b[m\u001b[K'\u001b[01m\u001b[K__pyx_v_end_pos_seen_items\u001b[m\u001b[K' may be used uninitialized in this function [\u001b[01;35m\u001b[K-Wmaybe-uninitialized\u001b[m\u001b[K]\r\n",
      "26255 |         \u001b[01;35m\u001b[Kfor\u001b[m\u001b[K (__pyx_t_21 = __pyx_v_start_pos_seen_items; __pyx_t_21 < __pyx_t_20; __pyx_t_21+=1) {\r\n",
      "      |         \u001b[01;35m\u001b[K^~~\u001b[m\u001b[K\r\n",
      "\u001b[01m\u001b[KMatrixFactorization_Cython_Epoch.c:26255:9:\u001b[m\u001b[K \u001b[01;35m\u001b[Kwarning: \u001b[m\u001b[K'\u001b[01m\u001b[K__pyx_v_start_pos_seen_items\u001b[m\u001b[K' may be used uninitialized in this function [\u001b[01;35m\u001b[K-Wmaybe-uninitialized\u001b[m\u001b[K]\r\n",
      "/opt/conda/lib/python3.10/site-packages/Cython/Compiler/Main.py:381: FutureWarning: Cython directive 'language_level' not set, using '3str' for now (Py3). This has changed from earlier releases! File: /kaggle/working/RECsys_Challenge2024/Recommenders/MatrixFactorization/Cython/MatrixFactorization_Cython_Epoch.pyx\r\n",
      "  tree = Parsing.p_module(s, pxd, full_module_name)\r\n",
      "Compiling [1/11]: MatrixFactorization_Cython_Epoch.pyx... PASS\r\n",
      "\r\n",
      "Compiling [2/11]: MatrixFactorizationImpressions_Cython_Epoch.pyx... \r\n",
      "In file included from \u001b[01m\u001b[K/opt/conda/lib/python3.10/site-packages/numpy/core/include/numpy/ndarraytypes.h:1929\u001b[m\u001b[K,\r\n",
      "                 from \u001b[01m\u001b[K/opt/conda/lib/python3.10/site-packages/numpy/core/include/numpy/ndarrayobject.h:12\u001b[m\u001b[K,\r\n",
      "                 from \u001b[01m\u001b[K/opt/conda/lib/python3.10/site-packages/numpy/core/include/numpy/arrayobject.h:5\u001b[m\u001b[K,\r\n",
      "                 from \u001b[01m\u001b[KMatrixFactorizationImpressions_Cython_Epoch.c:1252\u001b[m\u001b[K:\r\n",
      "\u001b[01m\u001b[K/opt/conda/lib/python3.10/site-packages/numpy/core/include/numpy/npy_1_7_deprecated_api.h:17:2:\u001b[m\u001b[K \u001b[01;35m\u001b[Kwarning: \u001b[m\u001b[K#warning \"Using deprecated NumPy API, disable it with \" \"#define NPY_NO_DEPRECATED_API NPY_1_7_API_VERSION\" [\u001b[01;35m\u001b[K-Wcpp\u001b[m\u001b[K]\r\n",
      "   17 | #\u001b[01;35m\u001b[Kwarning\u001b[m\u001b[K \"Using deprecated NumPy API, disable it with \" \\\r\n",
      "      |  \u001b[01;35m\u001b[K^~~~~~~\u001b[m\u001b[K\r\n",
      "\u001b[01m\u001b[KMatrixFactorizationImpressions_Cython_Epoch.c:\u001b[m\u001b[K In function '\u001b[01m\u001b[K__pyx_f_43MatrixFactorizationImpressions_Cython_Epoch_32MatrixFactorization_Cython_Epoch_sampleBPR_Cython\u001b[m\u001b[K':\r\n",
      "\u001b[01m\u001b[KMatrixFactorizationImpressions_Cython_Epoch.c:30351:17:\u001b[m\u001b[K \u001b[01;35m\u001b[Kwarning: \u001b[m\u001b[K'\u001b[01m\u001b[K__pyx_v_start_pos_impression_items\u001b[m\u001b[K' may be used uninitialized in this function [\u001b[01;35m\u001b[K-Wmaybe-uninitialized\u001b[m\u001b[K]\r\n",
      "30351 |       \u001b[01;35m\u001b[K__pyx_t_4 = (__pyx_v_start_pos_impression_items + __pyx_v_index)\u001b[m\u001b[K;\r\n",
      "      |       \u001b[01;35m\u001b[K~~~~~~~~~~^~~~~~~~~~~~~~~~~~~~~~~~~~~~~~~~~~~~~~~~~~~~~~~~~~~~~~\u001b[m\u001b[K\r\n",
      "\u001b[01m\u001b[KMatrixFactorizationImpressions_Cython_Epoch.c:\u001b[m\u001b[K In function '\u001b[01m\u001b[K__pyx_pf_43MatrixFactorizationImpressions_Cython_Epoch_32MatrixFactorization_Cython_Epoch_10epochIteration_Cython_ASY_SVD_SGD\u001b[m\u001b[K':\r\n",
      "\u001b[01m\u001b[KMatrixFactorizationImpressions_Cython_Epoch.c:26111:7:\u001b[m\u001b[K \u001b[01;35m\u001b[Kwarning: \u001b[m\u001b[K'\u001b[01m\u001b[K__pyx_v_end_pos_seen_items\u001b[m\u001b[K' may be used uninitialized in this function [\u001b[01;35m\u001b[K-Wmaybe-uninitialized\u001b[m\u001b[K]\r\n",
      "26111 |       \u001b[01;35m\u001b[Kfor\u001b[m\u001b[K (__pyx_t_21 = __pyx_v_start_pos_seen_items; __pyx_t_21 < __pyx_t_20; __pyx_t_21+=1) {\r\n",
      "      |       \u001b[01;35m\u001b[K^~~\u001b[m\u001b[K\r\n",
      "\u001b[01m\u001b[KMatrixFactorizationImpressions_Cython_Epoch.c:26111:7:\u001b[m\u001b[K \u001b[01;35m\u001b[Kwarning: \u001b[m\u001b[K'\u001b[01m\u001b[K__pyx_v_start_pos_seen_items\u001b[m\u001b[K' may be used uninitialized in this function [\u001b[01;35m\u001b[K-Wmaybe-uninitialized\u001b[m\u001b[K]\r\n",
      "/opt/conda/lib/python3.10/site-packages/Cython/Compiler/Main.py:381: FutureWarning: Cython directive 'language_level' not set, using '3str' for now (Py3). This has changed from earlier releases! File: /kaggle/working/RECsys_Challenge2024/Recommenders/MatrixFactorization/Cython/MatrixFactorizationImpressions_Cython_Epoch.pyx\r\n",
      "  tree = Parsing.p_module(s, pxd, full_module_name)\r\n",
      "Compiling [2/11]: MatrixFactorizationImpressions_Cython_Epoch.pyx... PASS\r\n",
      "\r\n",
      "Compiling [3/11]: Compute_Similarity_Cython.pyx... \r\n",
      "warning: Compute_Similarity_Cython.pyx:21:0: The 'IF' statement is deprecated and will be removed in a future Cython version. Consider using runtime conditions or C macros instead. See https://github.com/cython/cython/issues/4310\r\n",
      "In file included from \u001b[01m\u001b[K/opt/conda/lib/python3.10/site-packages/numpy/core/include/numpy/ndarraytypes.h:1929\u001b[m\u001b[K,\r\n",
      "                 from \u001b[01m\u001b[K/opt/conda/lib/python3.10/site-packages/numpy/core/include/numpy/ndarrayobject.h:12\u001b[m\u001b[K,\r\n",
      "                 from \u001b[01m\u001b[K/opt/conda/lib/python3.10/site-packages/numpy/core/include/numpy/arrayobject.h:5\u001b[m\u001b[K,\r\n",
      "                 from \u001b[01m\u001b[KCompute_Similarity_Cython.c:1252\u001b[m\u001b[K:\r\n",
      "\u001b[01m\u001b[K/opt/conda/lib/python3.10/site-packages/numpy/core/include/numpy/npy_1_7_deprecated_api.h:17:2:\u001b[m\u001b[K \u001b[01;35m\u001b[Kwarning: \u001b[m\u001b[K#warning \"Using deprecated NumPy API, disable it with \" \"#define NPY_NO_DEPRECATED_API NPY_1_7_API_VERSION\" [\u001b[01;35m\u001b[K-Wcpp\u001b[m\u001b[K]\r\n",
      "   17 | #\u001b[01;35m\u001b[Kwarning\u001b[m\u001b[K \"Using deprecated NumPy API, disable it with \" \\\r\n",
      "      |  \u001b[01;35m\u001b[K^~~~~~~\u001b[m\u001b[K\r\n",
      "/opt/conda/lib/python3.10/site-packages/Cython/Compiler/Main.py:381: FutureWarning: Cython directive 'language_level' not set, using '3str' for now (Py3). This has changed from earlier releases! File: /kaggle/working/RECsys_Challenge2024/Recommenders/Similarity/Cython/Compute_Similarity_Cython.pyx\r\n",
      "  tree = Parsing.p_module(s, pxd, full_module_name)\r\n",
      "warning: Compute_Similarity_Cython.pyx:21:0: The 'IF' statement is deprecated and will be removed in a future Cython version. Consider using runtime conditions or C macros instead. See https://github.com/cython/cython/issues/4310\r\n",
      "Compiling [3/11]: Compute_Similarity_Cython.pyx... PASS\r\n",
      "\r\n",
      "Compiling [4/11]: Sparse_Matrix_Tree_CSR.pyx... \r\n",
      "warning: Sparse_Matrix_Tree_CSR.pyx:132:34: Non-trivial type declarators in shared declaration (e.g. mix of pointers and values). Each pointer declaration should be on its own line.\r\n",
      "warning: Sparse_Matrix_Tree_CSR.pyx:132:66: Non-trivial type declarators in shared declaration (e.g. mix of pointers and values). Each pointer declaration should be on its own line.\r\n",
      "warning: Sparse_Matrix_Tree_CSR.pyx:343:35: Non-trivial type declarators in shared declaration (e.g. mix of pointers and values). Each pointer declaration should be on its own line.\r\n",
      "warning: Sparse_Matrix_Tree_CSR.pyx:343:52: Non-trivial type declarators in shared declaration (e.g. mix of pointers and values). Each pointer declaration should be on its own line.\r\n",
      "warning: Sparse_Matrix_Tree_CSR.pyx:442:35: Non-trivial type declarators in shared declaration (e.g. mix of pointers and values). Each pointer declaration should be on its own line.\r\n",
      "warning: Sparse_Matrix_Tree_CSR.pyx:442:53: Non-trivial type declarators in shared declaration (e.g. mix of pointers and values). Each pointer declaration should be on its own line.\r\n",
      "warning: Sparse_Matrix_Tree_CSR.pyx:442:69: Non-trivial type declarators in shared declaration (e.g. mix of pointers and values). Each pointer declaration should be on its own line.\r\n",
      "warning: Sparse_Matrix_Tree_CSR.pyx:577:35: Non-trivial type declarators in shared declaration (e.g. mix of pointers and values). Each pointer declaration should be on its own line.\r\n",
      "warning: Sparse_Matrix_Tree_CSR.pyx:577:42: Non-trivial type declarators in shared declaration (e.g. mix of pointers and values). Each pointer declaration should be on its own line.\r\n",
      "warning: Sparse_Matrix_Tree_CSR.pyx:578:35: Non-trivial type declarators in shared declaration (e.g. mix of pointers and values). Each pointer declaration should be on its own line.\r\n",
      "warning: Sparse_Matrix_Tree_CSR.pyx:578:53: Non-trivial type declarators in shared declaration (e.g. mix of pointers and values). Each pointer declaration should be on its own line.\r\n",
      "\r\n",
      "Error compiling Cython file:\r\n",
      "------------------------------------------------------------\r\n",
      "...\r\n",
      "            vector_pointer_to_list_elements[index].head = current_element\r\n",
      "            current_element = current_element.higher\r\n",
      "\r\n",
      "\r\n",
      "        # Sort array elements on their data field\r\n",
      "        qsort(vector_pointer_to_list_elements, list_length, sizeof(head_pointer_tree_s), compare_struct_on_data)\r\n",
      "                                                                                         ^\r\n",
      "------------------------------------------------------------\r\n",
      "\r\n",
      "Sparse_Matrix_Tree_CSR.pyx:516:89: Cannot assign type 'int (const void *, const void *) except? -1' to 'int (*)(const_void *, const_void *) noexcept'. Exception values are incompatible. Suggest adding 'noexcept' to the type of 'compare_struct_on_data'.\r\n",
      "\r\n",
      "Error compiling Cython file:\r\n",
      "------------------------------------------------------------\r\n",
      "...\r\n",
      "        # Sort array elements on their data field\r\n",
      "        qsort(vector_pointer_to_list_elements, list_length, sizeof(head_pointer_tree_s), compare_struct_on_data)\r\n",
      "\r\n",
      "        # Sort only the TopK according to their column field\r\n",
      "        # Sort is from lower to higher, therefore the elements to be considered are from len-topK to len\r\n",
      "        qsort(&vector_pointer_to_list_elements[list_length-TopK], TopK, sizeof(head_pointer_tree_s), compare_struct_on_column)\r\n",
      "                                                                                                     ^\r\n",
      "------------------------------------------------------------\r\n",
      "\r\n",
      "Sparse_Matrix_Tree_CSR.pyx:520:101: Cannot assign type 'int (const void *, const void *) except? -1' to 'int (*)(const_void *, const_void *) noexcept'. Exception values are incompatible. Suggest adding 'noexcept' to the type of 'compare_struct_on_column'.\r\n",
      "Traceback (most recent call last):\r\n",
      "  File \"/kaggle/working/RECsys_Challenge2024/CythonCompiler/compile_script.py\", line 48, in <module>\r\n",
      "    setup(\r\n",
      "  File \"/opt/conda/lib/python3.10/site-packages/setuptools/__init__.py\", line 103, in setup\r\n",
      "    return distutils.core.setup(**attrs)\r\n",
      "  File \"/opt/conda/lib/python3.10/site-packages/setuptools/_distutils/core.py\", line 184, in setup\r\n",
      "    return run_commands(dist)\r\n",
      "  File \"/opt/conda/lib/python3.10/site-packages/setuptools/_distutils/core.py\", line 200, in run_commands\r\n",
      "    dist.run_commands()\r\n",
      "  File \"/opt/conda/lib/python3.10/site-packages/setuptools/_distutils/dist.py\", line 969, in run_commands\r\n",
      "    self.run_command(cmd)\r\n",
      "  File \"/opt/conda/lib/python3.10/site-packages/setuptools/dist.py\", line 968, in run_command\r\n",
      "    super().run_command(command)\r\n",
      "  File \"/opt/conda/lib/python3.10/site-packages/setuptools/_distutils/dist.py\", line 988, in run_command\r\n",
      "    cmd_obj.run()\r\n",
      "  File \"/opt/conda/lib/python3.10/site-packages/setuptools/_distutils/command/build_ext.py\", line 359, in run\r\n",
      "    self.build_extensions()\r\n",
      "  File \"/opt/conda/lib/python3.10/site-packages/setuptools/_distutils/command/build_ext.py\", line 479, in build_extensions\r\n",
      "    self._build_extensions_serial()\r\n",
      "  File \"/opt/conda/lib/python3.10/site-packages/setuptools/_distutils/command/build_ext.py\", line 505, in _build_extensions_serial\r\n",
      "    self.build_extension(ext)\r\n",
      "  File \"/opt/conda/lib/python3.10/site-packages/Cython/Distutils/build_ext.py\", line 130, in build_extension\r\n",
      "    new_ext = cythonize(\r\n",
      "  File \"/opt/conda/lib/python3.10/site-packages/Cython/Build/Dependencies.py\", line 1154, in cythonize\r\n",
      "    cythonize_one(*args)\r\n",
      "  File \"/opt/conda/lib/python3.10/site-packages/Cython/Build/Dependencies.py\", line 1321, in cythonize_one\r\n",
      "    raise CompileError(None, pyx_file)\r\n",
      "Cython.Compiler.Errors.CompileError: Sparse_Matrix_Tree_CSR.pyx\r\n",
      "Traceback (most recent call last):\r\n",
      "  File \"/kaggle/working/RECsys_Challenge2024/run_compile_all_cython.py\", line 60, in <module>\r\n",
      "    run_compile_subprocess(file_path, [file_name])\r\n",
      "  File \"/kaggle/working/RECsys_Challenge2024/CythonCompiler/run_compile_subprocess.py\", line 51, in run_compile_subprocess\r\n",
      "    raise exc\r\n",
      "  File \"/kaggle/working/RECsys_Challenge2024/CythonCompiler/run_compile_subprocess.py\", line 32, in run_compile_subprocess\r\n",
      "    output = subprocess.check_output(' '.join(command),\r\n",
      "  File \"/opt/conda/lib/python3.10/subprocess.py\", line 421, in check_output\r\n",
      "    return run(*popenargs, stdout=PIPE, timeout=timeout, check=True,\r\n",
      "  File \"/opt/conda/lib/python3.10/subprocess.py\", line 526, in run\r\n",
      "    raise CalledProcessError(retcode, process.args,\r\n",
      "subprocess.CalledProcessError: Command '/opt/conda/bin/python /kaggle/working/RECsys_Challenge2024/CythonCompiler/compile_script.py Sparse_Matrix_Tree_CSR.pyx build_ext --inplace' returned non-zero exit status 1.\r\n",
      "Compiling [4/11]: Sparse_Matrix_Tree_CSR.pyx... FAIL: Command '/opt/conda/bin/python /kaggle/working/RECsys_Challenge2024/CythonCompiler/compile_script.py Sparse_Matrix_Tree_CSR.pyx build_ext --inplace' returned non-zero exit status 1.\r\n",
      "\r\n",
      "Compiling [5/11]: SLIM_BPR_Cython_Epoch.pyx... \r\n",
      "warning: SLIM_BPR_Cython_Epoch.pyx:24:0: The 'IF' statement is deprecated and will be removed in a future Cython version. Consider using runtime conditions or C macros instead. See https://github.com/cython/cython/issues/4310\r\n",
      "warning: SLIM_BPR_Cython_Epoch.pyx:632:34: Non-trivial type declarators in shared declaration (e.g. mix of pointers and values). Each pointer declaration should be on its own line.\r\n",
      "warning: SLIM_BPR_Cython_Epoch.pyx:632:66: Non-trivial type declarators in shared declaration (e.g. mix of pointers and values). Each pointer declaration should be on its own line.\r\n",
      "warning: SLIM_BPR_Cython_Epoch.pyx:817:35: Non-trivial type declarators in shared declaration (e.g. mix of pointers and values). Each pointer declaration should be on its own line.\r\n",
      "warning: SLIM_BPR_Cython_Epoch.pyx:817:52: Non-trivial type declarators in shared declaration (e.g. mix of pointers and values). Each pointer declaration should be on its own line.\r\n",
      "warning: SLIM_BPR_Cython_Epoch.pyx:916:35: Non-trivial type declarators in shared declaration (e.g. mix of pointers and values). Each pointer declaration should be on its own line.\r\n",
      "warning: SLIM_BPR_Cython_Epoch.pyx:916:53: Non-trivial type declarators in shared declaration (e.g. mix of pointers and values). Each pointer declaration should be on its own line.\r\n",
      "warning: SLIM_BPR_Cython_Epoch.pyx:916:69: Non-trivial type declarators in shared declaration (e.g. mix of pointers and values). Each pointer declaration should be on its own line.\r\n",
      "warning: SLIM_BPR_Cython_Epoch.pyx:1051:35: Non-trivial type declarators in shared declaration (e.g. mix of pointers and values). Each pointer declaration should be on its own line.\r\n",
      "warning: SLIM_BPR_Cython_Epoch.pyx:1051:42: Non-trivial type declarators in shared declaration (e.g. mix of pointers and values). Each pointer declaration should be on its own line.\r\n",
      "warning: SLIM_BPR_Cython_Epoch.pyx:1052:35: Non-trivial type declarators in shared declaration (e.g. mix of pointers and values). Each pointer declaration should be on its own line.\r\n",
      "warning: SLIM_BPR_Cython_Epoch.pyx:1052:53: Non-trivial type declarators in shared declaration (e.g. mix of pointers and values). Each pointer declaration should be on its own line.\r\n",
      "\r\n",
      "Error compiling Cython file:\r\n",
      "------------------------------------------------------------\r\n",
      "...\r\n",
      "            vector_pointer_to_list_elements[index].head = current_element\r\n",
      "            current_element = current_element.higher\r\n",
      "\r\n",
      "\r\n",
      "        # Sort array elements on their data field\r\n",
      "        qsort(vector_pointer_to_list_elements, list_length, sizeof(head_pointer_tree_s), compare_struct_on_data)\r\n",
      "                                                                                         ^\r\n",
      "------------------------------------------------------------\r\n",
      "\r\n",
      "SLIM_BPR_Cython_Epoch.pyx:990:89: Cannot assign type 'int (const void *, const void *) except? -1' to 'int (*)(const_void *, const_void *) noexcept'. Exception values are incompatible. Suggest adding 'noexcept' to the type of 'compare_struct_on_data'.\r\n",
      "\r\n",
      "Error compiling Cython file:\r\n",
      "------------------------------------------------------------\r\n",
      "...\r\n",
      "        # Sort array elements on their data field\r\n",
      "        qsort(vector_pointer_to_list_elements, list_length, sizeof(head_pointer_tree_s), compare_struct_on_data)\r\n",
      "\r\n",
      "        # Sort only the TopK according to their column field\r\n",
      "        # Sort is from lower to higher, therefore the elements to be considered are from len-topK to len\r\n",
      "        qsort(&vector_pointer_to_list_elements[list_length-TopK], TopK, sizeof(head_pointer_tree_s), compare_struct_on_column)\r\n",
      "                                                                                                     ^\r\n",
      "------------------------------------------------------------\r\n",
      "\r\n",
      "SLIM_BPR_Cython_Epoch.pyx:994:101: Cannot assign type 'int (const void *, const void *) except? -1' to 'int (*)(const_void *, const_void *) noexcept'. Exception values are incompatible. Suggest adding 'noexcept' to the type of 'compare_struct_on_column'.\r\n",
      "Traceback (most recent call last):\r\n",
      "  File \"/kaggle/working/RECsys_Challenge2024/CythonCompiler/compile_script.py\", line 48, in <module>\r\n",
      "    setup(\r\n",
      "  File \"/opt/conda/lib/python3.10/site-packages/setuptools/__init__.py\", line 103, in setup\r\n",
      "    return distutils.core.setup(**attrs)\r\n",
      "  File \"/opt/conda/lib/python3.10/site-packages/setuptools/_distutils/core.py\", line 184, in setup\r\n",
      "    return run_commands(dist)\r\n",
      "  File \"/opt/conda/lib/python3.10/site-packages/setuptools/_distutils/core.py\", line 200, in run_commands\r\n",
      "    dist.run_commands()\r\n",
      "  File \"/opt/conda/lib/python3.10/site-packages/setuptools/_distutils/dist.py\", line 969, in run_commands\r\n",
      "    self.run_command(cmd)\r\n",
      "  File \"/opt/conda/lib/python3.10/site-packages/setuptools/dist.py\", line 968, in run_command\r\n",
      "    super().run_command(command)\r\n",
      "  File \"/opt/conda/lib/python3.10/site-packages/setuptools/_distutils/dist.py\", line 988, in run_command\r\n",
      "    cmd_obj.run()\r\n",
      "  File \"/opt/conda/lib/python3.10/site-packages/setuptools/_distutils/command/build_ext.py\", line 359, in run\r\n",
      "    self.build_extensions()\r\n",
      "  File \"/opt/conda/lib/python3.10/site-packages/setuptools/_distutils/command/build_ext.py\", line 479, in build_extensions\r\n",
      "    self._build_extensions_serial()\r\n",
      "  File \"/opt/conda/lib/python3.10/site-packages/setuptools/_distutils/command/build_ext.py\", line 505, in _build_extensions_serial\r\n",
      "    self.build_extension(ext)\r\n",
      "  File \"/opt/conda/lib/python3.10/site-packages/Cython/Distutils/build_ext.py\", line 130, in build_extension\r\n",
      "    new_ext = cythonize(\r\n",
      "  File \"/opt/conda/lib/python3.10/site-packages/Cython/Build/Dependencies.py\", line 1154, in cythonize\r\n",
      "    cythonize_one(*args)\r\n",
      "  File \"/opt/conda/lib/python3.10/site-packages/Cython/Build/Dependencies.py\", line 1321, in cythonize_one\r\n",
      "    raise CompileError(None, pyx_file)\r\n",
      "Cython.Compiler.Errors.CompileError: SLIM_BPR_Cython_Epoch.pyx\r\n",
      "Traceback (most recent call last):\r\n",
      "  File \"/kaggle/working/RECsys_Challenge2024/run_compile_all_cython.py\", line 60, in <module>\r\n",
      "    run_compile_subprocess(file_path, [file_name])\r\n",
      "  File \"/kaggle/working/RECsys_Challenge2024/CythonCompiler/run_compile_subprocess.py\", line 51, in run_compile_subprocess\r\n",
      "    raise exc\r\n",
      "  File \"/kaggle/working/RECsys_Challenge2024/CythonCompiler/run_compile_subprocess.py\", line 32, in run_compile_subprocess\r\n",
      "    output = subprocess.check_output(' '.join(command),\r\n",
      "  File \"/opt/conda/lib/python3.10/subprocess.py\", line 421, in check_output\r\n",
      "    return run(*popenargs, stdout=PIPE, timeout=timeout, check=True,\r\n",
      "  File \"/opt/conda/lib/python3.10/subprocess.py\", line 526, in run\r\n",
      "    raise CalledProcessError(retcode, process.args,\r\n",
      "subprocess.CalledProcessError: Command '/opt/conda/bin/python /kaggle/working/RECsys_Challenge2024/CythonCompiler/compile_script.py SLIM_BPR_Cython_Epoch.pyx build_ext --inplace' returned non-zero exit status 1.\r\n",
      "Compiling [5/11]: SLIM_BPR_Cython_Epoch.pyx... FAIL: Command '/opt/conda/bin/python /kaggle/working/RECsys_Challenge2024/CythonCompiler/compile_script.py SLIM_BPR_Cython_Epoch.pyx build_ext --inplace' returned non-zero exit status 1.\r\n",
      "\r\n",
      "Compiling [6/11]: Triangular_Matrix.pyx... \r\n",
      "warning: Triangular_Matrix.pyx:22:0: The 'IF' statement is deprecated and will be removed in a future Cython version. Consider using runtime conditions or C macros instead. See https://github.com/cython/cython/issues/4310\r\n",
      "In file included from \u001b[01m\u001b[K/opt/conda/lib/python3.10/site-packages/numpy/core/include/numpy/ndarraytypes.h:1929\u001b[m\u001b[K,\r\n",
      "                 from \u001b[01m\u001b[K/opt/conda/lib/python3.10/site-packages/numpy/core/include/numpy/ndarrayobject.h:12\u001b[m\u001b[K,\r\n",
      "                 from \u001b[01m\u001b[K/opt/conda/lib/python3.10/site-packages/numpy/core/include/numpy/arrayobject.h:5\u001b[m\u001b[K,\r\n",
      "                 from \u001b[01m\u001b[KTriangular_Matrix.c:1252\u001b[m\u001b[K:\r\n",
      "\u001b[01m\u001b[K/opt/conda/lib/python3.10/site-packages/numpy/core/include/numpy/npy_1_7_deprecated_api.h:17:2:\u001b[m\u001b[K \u001b[01;35m\u001b[Kwarning: \u001b[m\u001b[K#warning \"Using deprecated NumPy API, disable it with \" \"#define NPY_NO_DEPRECATED_API NPY_1_7_API_VERSION\" [\u001b[01;35m\u001b[K-Wcpp\u001b[m\u001b[K]\r\n",
      "   17 | #\u001b[01;35m\u001b[Kwarning\u001b[m\u001b[K \"Using deprecated NumPy API, disable it with \" \\\r\n",
      "      |  \u001b[01;35m\u001b[K^~~~~~~\u001b[m\u001b[K\r\n",
      "/opt/conda/lib/python3.10/site-packages/Cython/Compiler/Main.py:381: FutureWarning: Cython directive 'language_level' not set, using '3str' for now (Py3). This has changed from earlier releases! File: /kaggle/working/RECsys_Challenge2024/Recommenders/SLIM/Cython/Triangular_Matrix.pyx\r\n",
      "  tree = Parsing.p_module(s, pxd, full_module_name)\r\n",
      "warning: Triangular_Matrix.pyx:22:0: The 'IF' statement is deprecated and will be removed in a future Cython version. Consider using runtime conditions or C macros instead. See https://github.com/cython/cython/issues/4310\r\n",
      "Compiling [6/11]: Triangular_Matrix.pyx... PASS\r\n",
      "\r\n",
      "Compiling [7/11]: CFW_DVV_Similarity_Cython_SGD.pyx... \r\n",
      "In file included from \u001b[01m\u001b[K/opt/conda/lib/python3.10/site-packages/numpy/core/include/numpy/ndarraytypes.h:1929\u001b[m\u001b[K,\r\n",
      "                 from \u001b[01m\u001b[K/opt/conda/lib/python3.10/site-packages/numpy/core/include/numpy/ndarrayobject.h:12\u001b[m\u001b[K,\r\n",
      "                 from \u001b[01m\u001b[K/opt/conda/lib/python3.10/site-packages/numpy/core/include/numpy/arrayobject.h:5\u001b[m\u001b[K,\r\n",
      "                 from \u001b[01m\u001b[KCFW_DVV_Similarity_Cython_SGD.c:1252\u001b[m\u001b[K:\r\n",
      "\u001b[01m\u001b[K/opt/conda/lib/python3.10/site-packages/numpy/core/include/numpy/npy_1_7_deprecated_api.h:17:2:\u001b[m\u001b[K \u001b[01;35m\u001b[Kwarning: \u001b[m\u001b[K#warning \"Using deprecated NumPy API, disable it with \" \"#define NPY_NO_DEPRECATED_API NPY_1_7_API_VERSION\" [\u001b[01;35m\u001b[K-Wcpp\u001b[m\u001b[K]\r\n",
      "   17 | #\u001b[01;35m\u001b[Kwarning\u001b[m\u001b[K \"Using deprecated NumPy API, disable it with \" \\\r\n",
      "      |  \u001b[01;35m\u001b[K^~~~~~~\u001b[m\u001b[K\r\n",
      "/opt/conda/lib/python3.10/site-packages/Cython/Compiler/Main.py:381: FutureWarning: Cython directive 'language_level' not set, using '3str' for now (Py3). This has changed from earlier releases! File: /kaggle/working/RECsys_Challenge2024/Recommenders/FeatureWeighting/Cython/CFW_DVV_Similarity_Cython_SGD.pyx\r\n",
      "  tree = Parsing.p_module(s, pxd, full_module_name)\r\n",
      "Compiling [7/11]: CFW_DVV_Similarity_Cython_SGD.pyx... PASS\r\n",
      "\r\n",
      "Compiling [8/11]: CFW_D_Similarity_Cython_SGD.pyx... \r\n",
      "In file included from \u001b[01m\u001b[K/opt/conda/lib/python3.10/site-packages/numpy/core/include/numpy/ndarraytypes.h:1929\u001b[m\u001b[K,\r\n",
      "                 from \u001b[01m\u001b[K/opt/conda/lib/python3.10/site-packages/numpy/core/include/numpy/ndarrayobject.h:12\u001b[m\u001b[K,\r\n",
      "                 from \u001b[01m\u001b[K/opt/conda/lib/python3.10/site-packages/numpy/core/include/numpy/arrayobject.h:5\u001b[m\u001b[K,\r\n",
      "                 from \u001b[01m\u001b[KCFW_D_Similarity_Cython_SGD.c:1252\u001b[m\u001b[K:\r\n",
      "\u001b[01m\u001b[K/opt/conda/lib/python3.10/site-packages/numpy/core/include/numpy/npy_1_7_deprecated_api.h:17:2:\u001b[m\u001b[K \u001b[01;35m\u001b[Kwarning: \u001b[m\u001b[K#warning \"Using deprecated NumPy API, disable it with \" \"#define NPY_NO_DEPRECATED_API NPY_1_7_API_VERSION\" [\u001b[01;35m\u001b[K-Wcpp\u001b[m\u001b[K]\r\n",
      "   17 | #\u001b[01;35m\u001b[Kwarning\u001b[m\u001b[K \"Using deprecated NumPy API, disable it with \" \\\r\n",
      "      |  \u001b[01;35m\u001b[K^~~~~~~\u001b[m\u001b[K\r\n",
      "\u001b[01m\u001b[KCFW_D_Similarity_Cython_SGD.c:\u001b[m\u001b[K In function '\u001b[01m\u001b[K__pyx_pf_27CFW_D_Similarity_Cython_SGD_27CFW_D_Similarity_Cython_SGD_6fit\u001b[m\u001b[K':\r\n",
      "\u001b[01m\u001b[KCFW_D_Similarity_Cython_SGD.c:23373:55:\u001b[m\u001b[K \u001b[01;35m\u001b[Kwarning: \u001b[m\u001b[K'\u001b[01m\u001b[K__pyx_v_sample_num\u001b[m\u001b[K' may be used uninitialized in this function [\u001b[01;35m\u001b[K-Wmaybe-uninitialized\u001b[m\u001b[K]\r\n",
      "23373 |   __pyx_t_3 = PyFloat_FromDouble((__pyx_v_cum_loss / \u001b[01;35m\u001b[K((double)__pyx_v_sample_num)\u001b[m\u001b[K)); if (unlikely(!__pyx_t_3)) __PYX_ERR(0, 290, __pyx_L1_error)\r\n",
      "      |                                                      \u001b[01;35m\u001b[K~^~~~~~~~~~~~~~~~~~~~~~~~~~~\u001b[m\u001b[K\r\n",
      "/opt/conda/lib/python3.10/site-packages/Cython/Compiler/Main.py:381: FutureWarning: Cython directive 'language_level' not set, using '3str' for now (Py3). This has changed from earlier releases! File: /kaggle/working/RECsys_Challenge2024/Recommenders/FeatureWeighting/Cython/CFW_D_Similarity_Cython_SGD.pyx\r\n",
      "  tree = Parsing.p_module(s, pxd, full_module_name)\r\n",
      "Compiling [8/11]: CFW_D_Similarity_Cython_SGD.pyx... PASS\r\n",
      "\r\n",
      "Compiling [9/11]: FBSM_Rating_Cython_SGD.pyx... \r\n",
      "In file included from \u001b[01m\u001b[K/opt/conda/lib/python3.10/site-packages/numpy/core/include/numpy/ndarraytypes.h:1929\u001b[m\u001b[K,\r\n",
      "                 from \u001b[01m\u001b[K/opt/conda/lib/python3.10/site-packages/numpy/core/include/numpy/ndarrayobject.h:12\u001b[m\u001b[K,\r\n",
      "                 from \u001b[01m\u001b[K/opt/conda/lib/python3.10/site-packages/numpy/core/include/numpy/arrayobject.h:5\u001b[m\u001b[K,\r\n",
      "                 from \u001b[01m\u001b[KFBSM_Rating_Cython_SGD.c:1252\u001b[m\u001b[K:\r\n",
      "\u001b[01m\u001b[K/opt/conda/lib/python3.10/site-packages/numpy/core/include/numpy/npy_1_7_deprecated_api.h:17:2:\u001b[m\u001b[K \u001b[01;35m\u001b[Kwarning: \u001b[m\u001b[K#warning \"Using deprecated NumPy API, disable it with \" \"#define NPY_NO_DEPRECATED_API NPY_1_7_API_VERSION\" [\u001b[01;35m\u001b[K-Wcpp\u001b[m\u001b[K]\r\n",
      "   17 | #\u001b[01;35m\u001b[Kwarning\u001b[m\u001b[K \"Using deprecated NumPy API, disable it with \" \\\r\n",
      "      |  \u001b[01;35m\u001b[K^~~~~~~\u001b[m\u001b[K\r\n",
      "\u001b[01m\u001b[KFBSM_Rating_Cython_SGD.c:\u001b[m\u001b[K In function '\u001b[01m\u001b[K__pyx_pf_22FBSM_Rating_Cython_SGD_22FBSM_Rating_Cython_SGD_2fit\u001b[m\u001b[K':\r\n",
      "\u001b[01m\u001b[KFBSM_Rating_Cython_SGD.c:26607:55:\u001b[m\u001b[K \u001b[01;35m\u001b[Kwarning: \u001b[m\u001b[K'\u001b[01m\u001b[K__pyx_v_num_sample\u001b[m\u001b[K' may be used uninitialized in this function [\u001b[01;35m\u001b[K-Wmaybe-uninitialized\u001b[m\u001b[K]\r\n",
      "26607 |   __pyx_t_5 = PyFloat_FromDouble((__pyx_v_cum_loss / \u001b[01;35m\u001b[K((double)__pyx_v_num_sample)\u001b[m\u001b[K)); if (unlikely(!__pyx_t_5)) __PYX_ERR(0, 551, __pyx_L1_error)\r\n",
      "      |                                                      \u001b[01;35m\u001b[K~^~~~~~~~~~~~~~~~~~~~~~~~~~~\u001b[m\u001b[K\r\n",
      "/opt/conda/lib/python3.10/site-packages/Cython/Compiler/Main.py:381: FutureWarning: Cython directive 'language_level' not set, using '3str' for now (Py3). This has changed from earlier releases! File: /kaggle/working/RECsys_Challenge2024/Recommenders/FeatureWeighting/Cython/FBSM_Rating_Cython_SGD.pyx\r\n",
      "  tree = Parsing.p_module(s, pxd, full_module_name)\r\n",
      "Compiling [9/11]: FBSM_Rating_Cython_SGD.pyx... PASS\r\n",
      "\r\n",
      "Compiling [10/11]: HP3_Similarity_Cython_SGD.pyx... \r\n",
      "performance hint: HP3_Similarity_Cython_SGD.pyx:113:40: Index should be typed for more efficient access\r\n",
      "performance hint: HP3_Similarity_Cython_SGD.pyx:114:40: Index should be typed for more efficient access\r\n",
      "In file included from \u001b[01m\u001b[K/opt/conda/lib/python3.10/site-packages/numpy/core/include/numpy/ndarraytypes.h:1929\u001b[m\u001b[K,\r\n",
      "                 from \u001b[01m\u001b[K/opt/conda/lib/python3.10/site-packages/numpy/core/include/numpy/ndarrayobject.h:12\u001b[m\u001b[K,\r\n",
      "                 from \u001b[01m\u001b[K/opt/conda/lib/python3.10/site-packages/numpy/core/include/numpy/arrayobject.h:5\u001b[m\u001b[K,\r\n",
      "                 from \u001b[01m\u001b[KHP3_Similarity_Cython_SGD.c:1252\u001b[m\u001b[K:\r\n",
      "\u001b[01m\u001b[K/opt/conda/lib/python3.10/site-packages/numpy/core/include/numpy/npy_1_7_deprecated_api.h:17:2:\u001b[m\u001b[K \u001b[01;35m\u001b[Kwarning: \u001b[m\u001b[K#warning \"Using deprecated NumPy API, disable it with \" \"#define NPY_NO_DEPRECATED_API NPY_1_7_API_VERSION\" [\u001b[01;35m\u001b[K-Wcpp\u001b[m\u001b[K]\r\n",
      "   17 | #\u001b[01;35m\u001b[Kwarning\u001b[m\u001b[K \"Using deprecated NumPy API, disable it with \" \\\r\n",
      "      |  \u001b[01;35m\u001b[K^~~~~~~\u001b[m\u001b[K\r\n",
      "\u001b[01m\u001b[KHP3_Similarity_Cython_SGD.c:\u001b[m\u001b[K In function '\u001b[01m\u001b[K__pyx_pf_25HP3_Similarity_Cython_SGD_25HP3_Similarity_Cython_SGD_4fit\u001b[m\u001b[K':\r\n",
      "\u001b[01m\u001b[KHP3_Similarity_Cython_SGD.c:23631:55:\u001b[m\u001b[K \u001b[01;35m\u001b[Kwarning: \u001b[m\u001b[K'\u001b[01m\u001b[K__pyx_v_sample_num\u001b[m\u001b[K' may be used uninitialized in this function [\u001b[01;35m\u001b[K-Wmaybe-uninitialized\u001b[m\u001b[K]\r\n",
      "23631 |   __pyx_t_1 = PyFloat_FromDouble((__pyx_v_cum_loss / \u001b[01;35m\u001b[K((double)__pyx_v_sample_num)\u001b[m\u001b[K)); if (unlikely(!__pyx_t_1)) __PYX_ERR(0, 291, __pyx_L1_error)\r\n",
      "      |                                                      \u001b[01;35m\u001b[K~^~~~~~~~~~~~~~~~~~~~~~~~~~~\u001b[m\u001b[K\r\n",
      "/opt/conda/lib/python3.10/site-packages/Cython/Compiler/Main.py:381: FutureWarning: Cython directive 'language_level' not set, using '3str' for now (Py3). This has changed from earlier releases! File: /kaggle/working/RECsys_Challenge2024/Recommenders/FeatureWeighting/Cython/HP3_Similarity_Cython_SGD.pyx\r\n",
      "  tree = Parsing.p_module(s, pxd, full_module_name)\r\n",
      "performance hint: HP3_Similarity_Cython_SGD.pyx:113:40: Index should be typed for more efficient access\r\n",
      "performance hint: HP3_Similarity_Cython_SGD.pyx:114:40: Index should be typed for more efficient access\r\n",
      "Compiling [10/11]: HP3_Similarity_Cython_SGD.pyx... PASS\r\n",
      "\r\n",
      "Compiling [11/11]: DataIterator.pyx... \r\n",
      "In file included from \u001b[01m\u001b[K/opt/conda/lib/python3.10/site-packages/numpy/core/include/numpy/ndarraytypes.h:1929\u001b[m\u001b[K,\r\n",
      "                 from \u001b[01m\u001b[K/opt/conda/lib/python3.10/site-packages/numpy/core/include/numpy/ndarrayobject.h:12\u001b[m\u001b[K,\r\n",
      "                 from \u001b[01m\u001b[K/opt/conda/lib/python3.10/site-packages/numpy/core/include/numpy/arrayobject.h:5\u001b[m\u001b[K,\r\n",
      "                 from \u001b[01m\u001b[KDataIterator.c:1252\u001b[m\u001b[K:\r\n",
      "\u001b[01m\u001b[K/opt/conda/lib/python3.10/site-packages/numpy/core/include/numpy/npy_1_7_deprecated_api.h:17:2:\u001b[m\u001b[K \u001b[01;35m\u001b[Kwarning: \u001b[m\u001b[K#warning \"Using deprecated NumPy API, disable it with \" \"#define NPY_NO_DEPRECATED_API NPY_1_7_API_VERSION\" [\u001b[01;35m\u001b[K-Wcpp\u001b[m\u001b[K]\r\n",
      "   17 | #\u001b[01;35m\u001b[Kwarning\u001b[m\u001b[K \"Using deprecated NumPy API, disable it with \" \\\r\n",
      "      |  \u001b[01;35m\u001b[K^~~~~~~\u001b[m\u001b[K\r\n",
      "\u001b[01m\u001b[KDataIterator.c:\u001b[m\u001b[K In function '\u001b[01m\u001b[K__pyx_pf_12DataIterator_30InteractionAndNegativeIterator_6__next__\u001b[m\u001b[K':\r\n",
      "\u001b[01m\u001b[KDataIterator.c:25495:22:\u001b[m\u001b[K \u001b[01;35m\u001b[Kwarning: \u001b[m\u001b[K'\u001b[01m\u001b[K__pyx_v_i_batch\u001b[m\u001b[K' may be used uninitialized in this function [\u001b[01;35m\u001b[K-Wmaybe-uninitialized\u001b[m\u001b[K]\r\n",
      "25495 |     (__pyx_v_i_batch \u001b[01;35m\u001b[K+\u001b[m\u001b[K 1),\r\n",
      "      |                      \u001b[01;35m\u001b[K^\u001b[m\u001b[K\r\n",
      "\u001b[01m\u001b[KDataIterator.c:\u001b[m\u001b[K In function '\u001b[01m\u001b[K__pyx_pf_12DataIterator_11BPRIterator_6__next__\u001b[m\u001b[K':\r\n",
      "\u001b[01m\u001b[KDataIterator.c:23054:22:\u001b[m\u001b[K \u001b[01;35m\u001b[Kwarning: \u001b[m\u001b[K'\u001b[01m\u001b[K__pyx_v_i_batch\u001b[m\u001b[K' may be used uninitialized in this function [\u001b[01;35m\u001b[K-Wmaybe-uninitialized\u001b[m\u001b[K]\r\n",
      "23054 |     (__pyx_v_i_batch \u001b[01;35m\u001b[K+\u001b[m\u001b[K 1),\r\n",
      "      |                      \u001b[01;35m\u001b[K^\u001b[m\u001b[K\r\n",
      "\u001b[01m\u001b[KDataIterator.c:\u001b[m\u001b[K In function '\u001b[01m\u001b[K__pyx_pf_12DataIterator_19InteractionIterator_6__next__\u001b[m\u001b[K':\r\n",
      "\u001b[01m\u001b[KDataIterator.c:20937:22:\u001b[m\u001b[K \u001b[01;35m\u001b[Kwarning: \u001b[m\u001b[K'\u001b[01m\u001b[K__pyx_v_i_batch\u001b[m\u001b[K' may be used uninitialized in this function [\u001b[01;35m\u001b[K-Wmaybe-uninitialized\u001b[m\u001b[K]\r\n",
      "20937 |     (__pyx_v_i_batch \u001b[01;35m\u001b[K+\u001b[m\u001b[K 1),\r\n",
      "      |                      \u001b[01;35m\u001b[K^\u001b[m\u001b[K\r\n",
      "/opt/conda/lib/python3.10/site-packages/Cython/Compiler/Main.py:381: FutureWarning: Cython directive 'language_level' not set, using '3str' for now (Py3). This has changed from earlier releases! File: /kaggle/working/RECsys_Challenge2024/Utils/PyTorch/Cython/DataIterator.pyx\r\n",
      "  tree = Parsing.p_module(s, pxd, full_module_name)\r\n",
      "Compiling [11/11]: DataIterator.pyx... PASS\r\n",
      "\r\n",
      "run_compile_all_cython: Compilation finished. FAILS 2/11.\r\n",
      "Compilation log can be found here: './result_experiments/run_compile_all_cython.txt'\r\n"
     ]
    }
   ],
   "source": [
    "% cd /kaggle/working/RECsys_Challenge2024\n",
    "! python run_compile_all_cython.py"
   ]
  },
  {
   "cell_type": "code",
   "execution_count": null,
   "id": "35c1cb47",
   "metadata": {
    "execution": {
     "iopub.execute_input": "2024-11-19T00:46:08.899821Z",
     "iopub.status.busy": "2024-11-19T00:46:08.898983Z",
     "iopub.status.idle": "2024-11-19T00:46:10.300387Z",
     "shell.execute_reply": "2024-11-19T00:46:10.299488Z"
    },
    "papermill": {
     "duration": 1.417231,
     "end_time": "2024-11-19T00:46:10.302696",
     "exception": false,
     "start_time": "2024-11-19T00:46:08.885465",
     "status": "completed"
    },
    "tags": []
   },
   "outputs": [],
   "source": [
    "from Utils.notebookFunctions import *\n",
    "import numpy as np\n",
    "import pandas as pd\n",
    "import scipy.sparse as sps\n",
    "import time\n",
    "import shutil\n",
    "import optuna\n",
    "import json\n",
    "import os\n",
    "from Utils.seconds_to_biggest_unit import seconds_to_biggest_unit\n",
    "\n",
    "\n",
    "K_PATH = '/kaggle/working/RECsys_Challenge2024'\n",
    "GH_PATH = 'TrainedModels/WithoutKFCV/SingleRecommenders'\n",
    "\n",
    "np.random.seed(42)"
   ]
  },
  {
   "cell_type": "markdown",
   "id": "cbcf9d88",
   "metadata": {
    "papermill": {
     "duration": 0.011502,
     "end_time": "2024-11-19T00:46:10.326407",
     "exception": false,
     "start_time": "2024-11-19T00:46:10.314905",
     "status": "completed"
    },
    "tags": []
   },
   "source": [
    "## Import the repository **RECsys_Challenge2024**"
   ]
  },
  {
   "cell_type": "code",
   "execution_count": null,
   "id": "c4ca96ce",
   "metadata": {
    "execution": {
     "iopub.execute_input": "2024-11-19T00:46:10.352262Z",
     "iopub.status.busy": "2024-11-19T00:46:10.351387Z",
     "iopub.status.idle": "2024-11-19T00:46:10.970673Z",
     "shell.execute_reply": "2024-11-19T00:46:10.969512Z"
    },
    "papermill": {
     "duration": 0.634478,
     "end_time": "2024-11-19T00:46:10.972775",
     "exception": false,
     "start_time": "2024-11-19T00:46:10.338297",
     "status": "completed"
    },
    "tags": []
   },
   "outputs": [
    {
     "name": "stdout",
     "output_type": "stream",
     "text": [
      "Repository 'RECsys_Challenge2024' found.\n"
     ]
    }
   ],
   "source": [
    "repo = get_repo_from_github(token)"
   ]
  },
  {
   "cell_type": "code",
   "execution_count": 8,
   "id": "a3bac2e1",
   "metadata": {
    "execution": {
     "iopub.execute_input": "2024-11-19T00:46:11.032876Z",
     "iopub.status.busy": "2024-11-19T00:46:11.032481Z",
     "iopub.status.idle": "2024-11-19T00:46:11.037641Z",
     "shell.execute_reply": "2024-11-19T00:46:11.036475Z"
    },
    "papermill": {
     "duration": 0.020614,
     "end_time": "2024-11-19T00:46:11.039655",
     "exception": false,
     "start_time": "2024-11-19T00:46:11.019041",
     "status": "completed"
    },
    "tags": []
   },
   "outputs": [],
   "source": [
    "config = {\n",
    "    'model': 'P3alpha',\n",
    "    'tune_parameters': True,\n",
    "    'database_path': '/kaggle/working/history_P3alpha.db',\n",
    "    'copy_prev_best_params': False,\n",
    "    'tune_best_params': True,\n",
    "    'save_github': True\n",
    "}"
   ]
  },
  {
   "cell_type": "markdown",
   "id": "65f3eceb",
   "metadata": {
    "papermill": {
     "duration": 0.011507,
     "end_time": "2024-11-19T00:46:11.063128",
     "exception": false,
     "start_time": "2024-11-19T00:46:11.051621",
     "status": "completed"
    },
    "tags": []
   },
   "source": [
    "Import the database where previous tuning trials have been saved."
   ]
  },
  {
   "cell_type": "code",
   "execution_count": null,
   "id": "ec653dd2",
   "metadata": {
    "execution": {
     "iopub.execute_input": "2024-11-19T00:46:11.088496Z",
     "iopub.status.busy": "2024-11-19T00:46:11.087806Z",
     "iopub.status.idle": "2024-11-19T00:46:11.093500Z",
     "shell.execute_reply": "2024-11-19T00:46:11.092597Z"
    },
    "papermill": {
     "duration": 0.020695,
     "end_time": "2024-11-19T00:46:11.095564",
     "exception": false,
     "start_time": "2024-11-19T00:46:11.074869",
     "status": "completed"
    },
    "tags": []
   },
   "outputs": [],
   "source": [
    "try:\n",
    "    shutil.copyfile(\n",
    "        f'{K_PATH}/{GH_PATH}/{config[\"model\"]}Recommender/history_{config[\"model\"]}.db', \n",
    "        config['database_path']\n",
    "    )\n",
    "except FileNotFoundError:\n",
    "    pass # if not present optuna will create it"
   ]
  },
  {
   "cell_type": "markdown",
   "id": "7a81a5fc",
   "metadata": {
    "papermill": {
     "duration": 0.011579,
     "end_time": "2024-11-19T00:46:11.119262",
     "exception": false,
     "start_time": "2024-11-19T00:46:11.107683",
     "status": "completed"
    },
    "tags": []
   },
   "source": [
    "# Construction of URM and ICM matrices"
   ]
  },
  {
   "cell_type": "code",
   "execution_count": 10,
   "id": "37ad8433",
   "metadata": {
    "execution": {
     "iopub.execute_input": "2024-11-19T00:46:11.145022Z",
     "iopub.status.busy": "2024-11-19T00:46:11.144654Z",
     "iopub.status.idle": "2024-11-19T00:46:11.947574Z",
     "shell.execute_reply": "2024-11-19T00:46:11.946625Z"
    },
    "papermill": {
     "duration": 0.818189,
     "end_time": "2024-11-19T00:46:11.949717",
     "exception": false,
     "start_time": "2024-11-19T00:46:11.131528",
     "status": "completed"
    },
    "tags": []
   },
   "outputs": [
    {
     "data": {
      "text/plain": [
       "<Compressed Sparse Row sparse matrix of dtype 'float64'\n",
       "\twith 1764607 stored elements and shape (35736, 38121)>"
      ]
     },
     "execution_count": 10,
     "metadata": {},
     "output_type": "execute_result"
    }
   ],
   "source": [
    "URM_all_dataframe = pd.read_csv(\"/kaggle/input/recommender-system-2024-challenge-polimi/data_train.csv\")\n",
    "\n",
    "n_users = len(URM_all_dataframe[\"user_id\"].unique())\n",
    "n_items = len(URM_all_dataframe[\"item_id\"].unique())\n",
    "\n",
    "URM_all = sps.csr_matrix((URM_all_dataframe[\"data\"].values, \n",
    "                          (URM_all_dataframe[\"user_id\"].values, URM_all_dataframe[\"item_id\"].values)),\n",
    "                        shape = (n_users, n_items))\n",
    "\n",
    "URM_all"
   ]
  },
  {
   "cell_type": "code",
   "execution_count": 11,
   "id": "4a9bc3ac",
   "metadata": {
    "execution": {
     "iopub.execute_input": "2024-11-19T00:46:11.976045Z",
     "iopub.status.busy": "2024-11-19T00:46:11.975397Z",
     "iopub.status.idle": "2024-11-19T00:46:13.125305Z",
     "shell.execute_reply": "2024-11-19T00:46:13.124225Z"
    },
    "papermill": {
     "duration": 1.165673,
     "end_time": "2024-11-19T00:46:13.127689",
     "exception": false,
     "start_time": "2024-11-19T00:46:11.962016",
     "status": "completed"
    },
    "tags": []
   },
   "outputs": [
    {
     "data": {
      "text/plain": [
       "<Compressed Sparse Row sparse matrix of dtype 'float64'\n",
       "\twith 2940040 stored elements and shape (38121, 94331)>"
      ]
     },
     "execution_count": 11,
     "metadata": {},
     "output_type": "execute_result"
    }
   ],
   "source": [
    "ICM_dataframe = pd.read_csv(\"/kaggle/input/recommender-system-2024-challenge-polimi/data_ICM_metadata.csv\")\n",
    "\n",
    "n_items = len(ICM_dataframe[\"item_id\"].unique())\n",
    "n_features = len(ICM_dataframe[\"feature_id\"].unique())\n",
    "\n",
    "ICM_all = sps.csr_matrix((ICM_dataframe[\"data\"].values, \n",
    "                          (ICM_dataframe[\"item_id\"].values, ICM_dataframe[\"feature_id\"].values)),\n",
    "                        shape = (n_items, n_features))\n",
    "\n",
    "ICM_all"
   ]
  },
  {
   "cell_type": "markdown",
   "id": "5894bd71",
   "metadata": {
    "papermill": {
     "duration": 0.011945,
     "end_time": "2024-11-19T00:46:13.152352",
     "exception": false,
     "start_time": "2024-11-19T00:46:13.140407",
     "status": "completed"
    },
    "tags": []
   },
   "source": [
    "# Training"
   ]
  },
  {
   "cell_type": "code",
   "execution_count": 13,
   "id": "5b58cb51",
   "metadata": {
    "execution": {
     "iopub.execute_input": "2024-11-19T00:46:13.213086Z",
     "iopub.status.busy": "2024-11-19T00:46:13.212731Z",
     "iopub.status.idle": "2024-11-19T00:46:15.997991Z",
     "shell.execute_reply": "2024-11-19T00:46:15.996810Z"
    },
    "papermill": {
     "duration": 2.800819,
     "end_time": "2024-11-19T00:46:16.000067",
     "exception": false,
     "start_time": "2024-11-19T00:46:13.199248",
     "status": "completed"
    },
    "tags": []
   },
   "outputs": [
    {
     "name": "stdout",
     "output_type": "stream",
     "text": [
      "Warning: 141 (0.39 %) of 35736 users have no sampled items\n",
      "EvaluatorHoldout: Ignoring 141 ( 0.4%) Users that have less than 1 test interactions\n"
     ]
    }
   ],
   "source": [
    "from Evaluation.Evaluator import EvaluatorHoldout\n",
    "from Data_manager.split_functions.split_train_validation_random_holdout import split_train_in_two_percentage_global_sample\n",
    "\n",
    "URM_train, URM_validation = split_train_in_two_percentage_global_sample(URM_all, train_percentage = 0.80)\n",
    "\n",
    "evaluator_validation = EvaluatorHoldout(URM_validation, cutoff_list=[10])"
   ]
  },
  {
   "cell_type": "code",
   "execution_count": 14,
   "id": "29c4c466",
   "metadata": {
    "execution": {
     "iopub.execute_input": "2024-11-19T00:46:16.026163Z",
     "iopub.status.busy": "2024-11-19T00:46:16.025788Z",
     "iopub.status.idle": "2024-11-19T00:46:16.988929Z",
     "shell.execute_reply": "2024-11-19T00:46:16.987752Z"
    },
    "papermill": {
     "duration": 0.978876,
     "end_time": "2024-11-19T00:46:16.991352",
     "exception": false,
     "start_time": "2024-11-19T00:46:16.012476",
     "status": "completed"
    },
    "tags": []
   },
   "outputs": [],
   "source": [
    "from Recommenders.GraphBased.P3alphaRecommender import P3alphaRecommender\n",
    "\n",
    "def objective_function_P3alphaRecommender(optuna_trial):\n",
    "    \n",
    "    recommender_instance = P3alphaRecommender(URM_train)\n",
    "    \n",
    "    full_hyperp = {\n",
    "                   \"topK\": optuna_trial.suggest_int(\"topK\", 0, 1500),\n",
    "                   \"alpha\": optuna_trial.suggest_float(\"alpha\", 0, 2, log=False),\n",
    "                   \"normalize_similarity\": optuna_trial.suggest_categorical(\"normalize_similarity\", [True, False]),\n",
    "                   \"implicit\": optuna_trial.suggest_categorical(\"implicit\", [True, False]),\n",
    "\n",
    "    }\n",
    "\n",
    "    recommender_instance.fit(**full_hyperp)\n",
    "    \n",
    "    result_df, _ = evaluator_validation.evaluateRecommender(recommender_instance)\n",
    "    \n",
    "    return result_df.loc[10][\"MAP\"]"
   ]
  },
  {
   "cell_type": "code",
   "execution_count": 15,
   "id": "df1a0e96",
   "metadata": {
    "_kg_hide-output": true,
    "execution": {
     "iopub.execute_input": "2024-11-19T00:46:17.019739Z",
     "iopub.status.busy": "2024-11-19T00:46:17.018461Z",
     "iopub.status.idle": "2024-11-19T03:39:36.977835Z",
     "shell.execute_reply": "2024-11-19T03:39:36.976873Z"
    },
    "papermill": {
     "duration": 10399.975101,
     "end_time": "2024-11-19T03:39:36.979960",
     "exception": false,
     "start_time": "2024-11-19T00:46:17.004859",
     "status": "completed"
    },
    "tags": []
   },
   "outputs": [
    {
     "name": "stderr",
     "output_type": "stream",
     "text": [
      "[I 2024-11-19 00:46:18,521] Using an existing study with name 'hyperparameters_tuning_P3alpha' instead of creating a new one.\n"
     ]
    },
    {
     "name": "stdout",
     "output_type": "stream",
     "text": [
      "P3alphaRecommender: Similarity column 38121 (100.0%), 1956.35 column/sec. Elapsed time 19.49 sec\n",
      "EvaluatorHoldout: Processed 35595 (100.0%) in 29.34 sec. Users per second: 1213\n"
     ]
    },
    {
     "name": "stderr",
     "output_type": "stream",
     "text": [
      "[I 2024-11-19 00:47:11,474] Trial 200 finished with value: 0.04590572066256699 and parameters: {'topK': 122, 'alpha': 0.31548195470754337, 'normalize_similarity': True, 'implicit': False}. Best is trial 128 with value: 0.05332611477891539.\n"
     ]
    },
    {
     "name": "stdout",
     "output_type": "stream",
     "text": [
      "P3alphaRecommender: Similarity column 38121 (100.0%), 2459.00 column/sec. Elapsed time 15.50 sec\n",
      "EvaluatorHoldout: Processed 35595 (100.0%) in 29.22 sec. Users per second: 1218\n"
     ]
    },
    {
     "name": "stderr",
     "output_type": "stream",
     "text": [
      "[I 2024-11-19 00:47:57,604] Trial 201 finished with value: 0.05223213867651081 and parameters: {'topK': 26, 'alpha': 0.47360323588904746, 'normalize_similarity': True, 'implicit': True}. Best is trial 128 with value: 0.05332611477891539.\n"
     ]
    },
    {
     "name": "stdout",
     "output_type": "stream",
     "text": [
      "P3alphaRecommender: Similarity column 38121 (100.0%), 2189.80 column/sec. Elapsed time 17.41 sec\n",
      "EvaluatorHoldout: Processed 35595 (100.0%) in 31.11 sec. Users per second: 1144\n"
     ]
    },
    {
     "name": "stderr",
     "output_type": "stream",
     "text": [
      "[I 2024-11-19 00:48:48,531] Trial 202 finished with value: 0.04930494852808221 and parameters: {'topK': 64, 'alpha': 0.5111942235662785, 'normalize_similarity': True, 'implicit': True}. Best is trial 128 with value: 0.05332611477891539.\n"
     ]
    },
    {
     "name": "stdout",
     "output_type": "stream",
     "text": [
      "P3alphaRecommender: Similarity column 38121 (100.0%), 2428.96 column/sec. Elapsed time 15.69 sec\n",
      "EvaluatorHoldout: Processed 35595 (100.0%) in 30.13 sec. Users per second: 1181\n"
     ]
    },
    {
     "name": "stderr",
     "output_type": "stream",
     "text": [
      "[I 2024-11-19 00:49:35,897] Trial 203 finished with value: 0.05073509410319182 and parameters: {'topK': 29, 'alpha': 0.932177120385234, 'normalize_similarity': True, 'implicit': True}. Best is trial 128 with value: 0.05332611477891539.\n"
     ]
    },
    {
     "name": "stdout",
     "output_type": "stream",
     "text": [
      "P3alphaRecommender: Similarity column 38121 (100.0%), 2124.66 column/sec. Elapsed time 17.94 sec\n",
      "EvaluatorHoldout: Processed 35595 (100.0%) in 31.94 sec. Users per second: 1114\n"
     ]
    },
    {
     "name": "stderr",
     "output_type": "stream",
     "text": [
      "[I 2024-11-19 00:50:28,437] Trial 204 finished with value: 0.048777384241141426 and parameters: {'topK': 71, 'alpha': 0.47308166335583995, 'normalize_similarity': True, 'implicit': True}. Best is trial 128 with value: 0.05332611477891539.\n"
     ]
    },
    {
     "name": "stdout",
     "output_type": "stream",
     "text": [
      "P3alphaRecommender: Similarity column 38121 (100.0%), 3699.23 column/sec. Elapsed time 10.31 sec\n",
      "EvaluatorHoldout: Processed 35595 (100.0%) in 25.77 sec. Users per second: 1381\n"
     ]
    },
    {
     "name": "stderr",
     "output_type": "stream",
     "text": [
      "[I 2024-11-19 00:51:05,314] Trial 205 finished with value: 0.02062464966320815 and parameters: {'topK': 1, 'alpha': 0.342307665558974, 'normalize_similarity': True, 'implicit': True}. Best is trial 128 with value: 0.05332611477891539.\n"
     ]
    },
    {
     "name": "stdout",
     "output_type": "stream",
     "text": [
      "P3alphaRecommender: Similarity column 38121 (100.0%), 2288.23 column/sec. Elapsed time 16.66 sec\n",
      "EvaluatorHoldout: Processed 35595 (100.0%) in 30.12 sec. Users per second: 1182\n"
     ]
    },
    {
     "name": "stderr",
     "output_type": "stream",
     "text": [
      "[I 2024-11-19 00:51:54,088] Trial 206 finished with value: 0.050709294599516196 and parameters: {'topK': 43, 'alpha': 0.4180780182505416, 'normalize_similarity': True, 'implicit': True}. Best is trial 128 with value: 0.05332611477891539.\n"
     ]
    },
    {
     "name": "stdout",
     "output_type": "stream",
     "text": [
      "P3alphaRecommender: Similarity column 38121 (100.0%), 2060.40 column/sec. Elapsed time 18.50 sec\n",
      "EvaluatorHoldout: Processed 35595 (100.0%) in 28.58 sec. Users per second: 1245\n"
     ]
    },
    {
     "name": "stderr",
     "output_type": "stream",
     "text": [
      "[I 2024-11-19 00:52:44,420] Trial 207 finished with value: 0.04761659386796186 and parameters: {'topK': 93, 'alpha': 0.4556017803988097, 'normalize_similarity': True, 'implicit': True}. Best is trial 128 with value: 0.05332611477891539.\n"
     ]
    },
    {
     "name": "stdout",
     "output_type": "stream",
     "text": [
      "P3alphaRecommender: Similarity column 38121 (100.0%), 2471.30 column/sec. Elapsed time 15.43 sec\n",
      "EvaluatorHoldout: Processed 35595 (100.0%) in 28.91 sec. Users per second: 1231\n"
     ]
    },
    {
     "name": "stderr",
     "output_type": "stream",
     "text": [
      "[I 2024-11-19 00:53:30,013] Trial 208 finished with value: 0.04537068363890785 and parameters: {'topK': 20, 'alpha': 0.5551302097523018, 'normalize_similarity': False, 'implicit': True}. Best is trial 128 with value: 0.05332611477891539.\n"
     ]
    },
    {
     "name": "stdout",
     "output_type": "stream",
     "text": [
      "P3alphaRecommender: Similarity column 38121 (100.0%), 2308.83 column/sec. Elapsed time 16.51 sec\n",
      "EvaluatorHoldout: Processed 35595 (100.0%) in 30.65 sec. Users per second: 1161\n"
     ]
    },
    {
     "name": "stderr",
     "output_type": "stream",
     "text": [
      "[I 2024-11-19 00:54:19,234] Trial 209 finished with value: 0.049964030974564165 and parameters: {'topK': 52, 'alpha': 0.3150104044183229, 'normalize_similarity': True, 'implicit': True}. Best is trial 128 with value: 0.05332611477891539.\n"
     ]
    },
    {
     "name": "stdout",
     "output_type": "stream",
     "text": [
      "P3alphaRecommender: Similarity column 38121 (100.0%), 3562.36 column/sec. Elapsed time 10.70 sec\n",
      "EvaluatorHoldout: Processed 35595 (100.0%) in 23.38 sec. Users per second: 1522\n"
     ]
    },
    {
     "name": "stderr",
     "output_type": "stream",
     "text": [
      "[I 2024-11-19 00:54:53,607] Trial 210 finished with value: 0.00028209999175022335 and parameters: {'topK': 0, 'alpha': 0.393235609884879, 'normalize_similarity': True, 'implicit': True}. Best is trial 128 with value: 0.05332611477891539.\n"
     ]
    },
    {
     "name": "stdout",
     "output_type": "stream",
     "text": [
      "P3alphaRecommender: Similarity column 38121 (100.0%), 2412.64 column/sec. Elapsed time 15.80 sec\n",
      "EvaluatorHoldout: Processed 35595 (100.0%) in 29.36 sec. Users per second: 1212\n"
     ]
    },
    {
     "name": "stderr",
     "output_type": "stream",
     "text": [
      "[I 2024-11-19 00:55:40,221] Trial 211 finished with value: 0.05172683763770782 and parameters: {'topK': 29, 'alpha': 0.3730437669035787, 'normalize_similarity': True, 'implicit': True}. Best is trial 128 with value: 0.05332611477891539.\n"
     ]
    },
    {
     "name": "stdout",
     "output_type": "stream",
     "text": [
      "P3alphaRecommender: Similarity column 38121 (100.0%), 2331.28 column/sec. Elapsed time 16.35 sec\n",
      "EvaluatorHoldout: Processed 35595 (100.0%) in 30.34 sec. Users per second: 1173\n"
     ]
    },
    {
     "name": "stderr",
     "output_type": "stream",
     "text": [
      "[I 2024-11-19 00:56:28,410] Trial 212 finished with value: 0.05168442932728453 and parameters: {'topK': 29, 'alpha': 0.3545211716268095, 'normalize_similarity': True, 'implicit': True}. Best is trial 128 with value: 0.05332611477891539.\n"
     ]
    },
    {
     "name": "stdout",
     "output_type": "stream",
     "text": [
      "P3alphaRecommender: Similarity column 38121 (100.0%), 2170.30 column/sec. Elapsed time 17.56 sec\n",
      "EvaluatorHoldout: Processed 35595 (100.0%) in 31.53 sec. Users per second: 1129\n"
     ]
    },
    {
     "name": "stderr",
     "output_type": "stream",
     "text": [
      "[I 2024-11-19 00:57:20,023] Trial 213 finished with value: 0.04906798707683486 and parameters: {'topK': 67, 'alpha': 0.4106913980184231, 'normalize_similarity': True, 'implicit': True}. Best is trial 128 with value: 0.05332611477891539.\n"
     ]
    },
    {
     "name": "stdout",
     "output_type": "stream",
     "text": [
      "P3alphaRecommender: Similarity column 38121 (100.0%), 2411.01 column/sec. Elapsed time 15.81 sec\n",
      "EvaluatorHoldout: Processed 35595 (100.0%) in 29.37 sec. Users per second: 1212\n"
     ]
    },
    {
     "name": "stderr",
     "output_type": "stream",
     "text": [
      "[I 2024-11-19 00:58:06,544] Trial 214 finished with value: 0.0524643754584741 and parameters: {'topK': 23, 'alpha': 0.46958581171787184, 'normalize_similarity': True, 'implicit': True}. Best is trial 128 with value: 0.05332611477891539.\n"
     ]
    },
    {
     "name": "stdout",
     "output_type": "stream",
     "text": [
      "P3alphaRecommender: Similarity column 38121 (100.0%), 2302.45 column/sec. Elapsed time 16.56 sec\n",
      "EvaluatorHoldout: Processed 35595 (100.0%) in 30.25 sec. Users per second: 1177\n"
     ]
    },
    {
     "name": "stderr",
     "output_type": "stream",
     "text": [
      "[I 2024-11-19 00:58:55,348] Trial 215 finished with value: 0.0502384731670429 and parameters: {'topK': 49, 'alpha': 0.4833380335883968, 'normalize_similarity': True, 'implicit': True}. Best is trial 128 with value: 0.05332611477891539.\n"
     ]
    },
    {
     "name": "stdout",
     "output_type": "stream",
     "text": [
      "P3alphaRecommender: Similarity column 38121 (100.0%), 2139.04 column/sec. Elapsed time 17.82 sec\n",
      "EvaluatorHoldout: Processed 35595 (100.0%) in 31.43 sec. Users per second: 1133\n"
     ]
    },
    {
     "name": "stderr",
     "output_type": "stream",
     "text": [
      "[I 2024-11-19 00:59:47,539] Trial 216 finished with value: 0.04808183778263658 and parameters: {'topK': 84, 'alpha': 0.44663955195694566, 'normalize_similarity': True, 'implicit': True}. Best is trial 128 with value: 0.05332611477891539.\n"
     ]
    },
    {
     "name": "stdout",
     "output_type": "stream",
     "text": [
      "P3alphaRecommender: Similarity column 38121 (100.0%), 2422.26 column/sec. Elapsed time 15.74 sec\n",
      "EvaluatorHoldout: Processed 35595 (100.0%) in 29.41 sec. Users per second: 1210\n"
     ]
    },
    {
     "name": "stderr",
     "output_type": "stream",
     "text": [
      "[I 2024-11-19 01:00:34,104] Trial 217 finished with value: 0.052043583346152215 and parameters: {'topK': 27, 'alpha': 0.5210261349544641, 'normalize_similarity': True, 'implicit': True}. Best is trial 128 with value: 0.05332611477891539.\n"
     ]
    },
    {
     "name": "stdout",
     "output_type": "stream",
     "text": [
      "P3alphaRecommender: Similarity column 38121 (100.0%), 2492.97 column/sec. Elapsed time 15.29 sec\n",
      "EvaluatorHoldout: Processed 35595 (100.0%) in 28.83 sec. Users per second: 1235\n"
     ]
    },
    {
     "name": "stderr",
     "output_type": "stream",
     "text": [
      "[I 2024-11-19 01:01:19,446] Trial 218 finished with value: 0.05251039471835755 and parameters: {'topK': 20, 'alpha': 0.2966226702065967, 'normalize_similarity': True, 'implicit': True}. Best is trial 128 with value: 0.05332611477891539.\n"
     ]
    },
    {
     "name": "stdout",
     "output_type": "stream",
     "text": [
      "P3alphaRecommender: Similarity column 38121 (100.0%), 3685.41 column/sec. Elapsed time 10.34 sec\n",
      "EvaluatorHoldout: Processed 35595 (100.0%) in 24.98 sec. Users per second: 1425\n"
     ]
    },
    {
     "name": "stderr",
     "output_type": "stream",
     "text": [
      "[I 2024-11-19 01:01:55,582] Trial 219 finished with value: 0.019503998911921182 and parameters: {'topK': 1, 'alpha': 0.6119330154509116, 'normalize_similarity': True, 'implicit': True}. Best is trial 128 with value: 0.05332611477891539.\n"
     ]
    },
    {
     "name": "stdout",
     "output_type": "stream",
     "text": [
      "P3alphaRecommender: Similarity column 38121 (100.0%), 2004.13 column/sec. Elapsed time 19.02 sec\n",
      "EvaluatorHoldout: Processed 35595 (100.0%) in 28.98 sec. Users per second: 1228\n"
     ]
    },
    {
     "name": "stderr",
     "output_type": "stream",
     "text": [
      "[I 2024-11-19 01:02:47,134] Trial 220 finished with value: 0.0465467751177807 and parameters: {'topK': 107, 'alpha': 0.29678816249050355, 'normalize_similarity': True, 'implicit': True}. Best is trial 128 with value: 0.05332611477891539.\n"
     ]
    },
    {
     "name": "stdout",
     "output_type": "stream",
     "text": [
      "P3alphaRecommender: Similarity column 38121 (100.0%), 2298.32 column/sec. Elapsed time 16.59 sec\n",
      "EvaluatorHoldout: Processed 35595 (100.0%) in 30.25 sec. Users per second: 1177\n"
     ]
    },
    {
     "name": "stderr",
     "output_type": "stream",
     "text": [
      "[I 2024-11-19 01:03:35,931] Trial 221 finished with value: 0.050190353558662006 and parameters: {'topK': 49, 'alpha': 0.33665939518821936, 'normalize_similarity': True, 'implicit': True}. Best is trial 128 with value: 0.05332611477891539.\n"
     ]
    },
    {
     "name": "stdout",
     "output_type": "stream",
     "text": [
      "P3alphaRecommender: Similarity column 38121 (100.0%), 2452.25 column/sec. Elapsed time 15.55 sec\n",
      "EvaluatorHoldout: Processed 35595 (100.0%) in 29.39 sec. Users per second: 1211\n"
     ]
    },
    {
     "name": "stderr",
     "output_type": "stream",
     "text": [
      "[I 2024-11-19 01:04:22,270] Trial 222 finished with value: 0.05209020461675123 and parameters: {'topK': 27, 'alpha': 0.40913668587281593, 'normalize_similarity': True, 'implicit': True}. Best is trial 128 with value: 0.05332611477891539.\n"
     ]
    },
    {
     "name": "stdout",
     "output_type": "stream",
     "text": [
      "P3alphaRecommender: Similarity column 38121 (100.0%), 3503.79 column/sec. Elapsed time 10.88 sec\n",
      "EvaluatorHoldout: Processed 35595 (100.0%) in 23.55 sec. Users per second: 1512\n"
     ]
    },
    {
     "name": "stderr",
     "output_type": "stream",
     "text": [
      "[I 2024-11-19 01:04:57,004] Trial 223 finished with value: 0.00028209999175022335 and parameters: {'topK': 0, 'alpha': 0.3007349059922073, 'normalize_similarity': True, 'implicit': True}. Best is trial 128 with value: 0.05332611477891539.\n"
     ]
    },
    {
     "name": "stdout",
     "output_type": "stream",
     "text": [
      "P3alphaRecommender: Similarity column 38121 (100.0%), 2178.34 column/sec. Elapsed time 17.50 sec\n",
      "EvaluatorHoldout: Processed 35595 (100.0%) in 31.87 sec. Users per second: 1117\n"
     ]
    },
    {
     "name": "stderr",
     "output_type": "stream",
     "text": [
      "[I 2024-11-19 01:05:48,942] Trial 224 finished with value: 0.04879519372481683 and parameters: {'topK': 70, 'alpha': 0.35044348120998814, 'normalize_similarity': True, 'implicit': True}. Best is trial 128 with value: 0.05332611477891539.\n"
     ]
    },
    {
     "name": "stdout",
     "output_type": "stream",
     "text": [
      "P3alphaRecommender: Similarity column 38121 (100.0%), 2283.06 column/sec. Elapsed time 16.70 sec\n",
      "EvaluatorHoldout: Processed 35595 (100.0%) in 31.01 sec. Users per second: 1148\n"
     ]
    },
    {
     "name": "stderr",
     "output_type": "stream",
     "text": [
      "[I 2024-11-19 01:06:38,424] Trial 225 finished with value: 0.050926668405807 and parameters: {'topK': 39, 'alpha': 0.4349219263769706, 'normalize_similarity': True, 'implicit': True}. Best is trial 128 with value: 0.05332611477891539.\n"
     ]
    },
    {
     "name": "stdout",
     "output_type": "stream",
     "text": [
      "P3alphaRecommender: Similarity column 38121 (100.0%), 2420.46 column/sec. Elapsed time 15.75 sec\n",
      "EvaluatorHoldout: Processed 35595 (100.0%) in 29.58 sec. Users per second: 1203\n"
     ]
    },
    {
     "name": "stderr",
     "output_type": "stream",
     "text": [
      "[I 2024-11-19 01:07:25,157] Trial 226 finished with value: 0.05230871555439417 and parameters: {'topK': 25, 'alpha': 0.4745383594747042, 'normalize_similarity': True, 'implicit': True}. Best is trial 128 with value: 0.05332611477891539.\n"
     ]
    },
    {
     "name": "stdout",
     "output_type": "stream",
     "text": [
      "P3alphaRecommender: Similarity column 38121 (100.0%), 2131.87 column/sec. Elapsed time 17.88 sec\n",
      "EvaluatorHoldout: Processed 35595 (100.0%) in 32.27 sec. Users per second: 1103\n"
     ]
    },
    {
     "name": "stderr",
     "output_type": "stream",
     "text": [
      "[I 2024-11-19 01:08:17,800] Trial 227 finished with value: 0.049315410136520785 and parameters: {'topK': 63, 'alpha': 0.4850207656820933, 'normalize_similarity': True, 'implicit': True}. Best is trial 128 with value: 0.05332611477891539.\n"
     ]
    },
    {
     "name": "stdout",
     "output_type": "stream",
     "text": [
      "P3alphaRecommender: Similarity column 38121 (100.0%), 2395.70 column/sec. Elapsed time 15.91 sec\n",
      "EvaluatorHoldout: Processed 35595 (100.0%) in 29.07 sec. Users per second: 1225\n"
     ]
    },
    {
     "name": "stderr",
     "output_type": "stream",
     "text": [
      "[I 2024-11-19 01:09:04,099] Trial 228 finished with value: 0.052505144961949 and parameters: {'topK': 22, 'alpha': 0.46932142706101077, 'normalize_similarity': True, 'implicit': True}. Best is trial 128 with value: 0.05332611477891539.\n"
     ]
    },
    {
     "name": "stdout",
     "output_type": "stream",
     "text": [
      "P3alphaRecommender: Similarity column 38121 (100.0%), 2119.46 column/sec. Elapsed time 17.99 sec\n",
      "EvaluatorHoldout: Processed 35595 (100.0%) in 31.47 sec. Users per second: 1131\n"
     ]
    },
    {
     "name": "stderr",
     "output_type": "stream",
     "text": [
      "[I 2024-11-19 01:09:56,573] Trial 229 finished with value: 0.047915064091842714 and parameters: {'topK': 86, 'alpha': 0.4704255703270069, 'normalize_similarity': True, 'implicit': True}. Best is trial 128 with value: 0.05332611477891539.\n"
     ]
    },
    {
     "name": "stdout",
     "output_type": "stream",
     "text": [
      "P3alphaRecommender: Similarity column 38121 (100.0%), 2275.84 column/sec. Elapsed time 16.75 sec\n",
      "EvaluatorHoldout: Processed 35595 (100.0%) in 30.35 sec. Users per second: 1173\n"
     ]
    },
    {
     "name": "stderr",
     "output_type": "stream",
     "text": [
      "[I 2024-11-19 01:10:45,717] Trial 230 finished with value: 0.04995855490671976 and parameters: {'topK': 52, 'alpha': 0.3944218603145258, 'normalize_similarity': True, 'implicit': True}. Best is trial 128 with value: 0.05332611477891539.\n"
     ]
    },
    {
     "name": "stdout",
     "output_type": "stream",
     "text": [
      "P3alphaRecommender: Similarity column 38121 (100.0%), 3617.32 column/sec. Elapsed time 10.54 sec\n",
      "EvaluatorHoldout: Processed 35595 (100.0%) in 23.18 sec. Users per second: 1536\n"
     ]
    },
    {
     "name": "stderr",
     "output_type": "stream",
     "text": [
      "[I 2024-11-19 01:11:19,704] Trial 231 finished with value: 0.00028209999175022335 and parameters: {'topK': 0, 'alpha': 0.4436858900289888, 'normalize_similarity': True, 'implicit': True}. Best is trial 128 with value: 0.05332611477891539.\n"
     ]
    },
    {
     "name": "stdout",
     "output_type": "stream",
     "text": [
      "P3alphaRecommender: Similarity column 38121 (100.0%), 2455.21 column/sec. Elapsed time 15.53 sec\n",
      "EvaluatorHoldout: Processed 35595 (100.0%) in 29.21 sec. Users per second: 1219\n"
     ]
    },
    {
     "name": "stderr",
     "output_type": "stream",
     "text": [
      "[I 2024-11-19 01:12:05,801] Trial 232 finished with value: 0.05222464141342997 and parameters: {'topK': 25, 'alpha': 0.5229017409204633, 'normalize_similarity': True, 'implicit': True}. Best is trial 128 with value: 0.05332611477891539.\n"
     ]
    },
    {
     "name": "stdout",
     "output_type": "stream",
     "text": [
      "P3alphaRecommender: Similarity column 38121 (100.0%), 2439.73 column/sec. Elapsed time 15.63 sec\n",
      "EvaluatorHoldout: Processed 35595 (100.0%) in 29.31 sec. Users per second: 1215\n"
     ]
    },
    {
     "name": "stderr",
     "output_type": "stream",
     "text": [
      "[I 2024-11-19 01:12:52,140] Trial 233 finished with value: 0.05216531102771952 and parameters: {'topK': 26, 'alpha': 0.5124576468698194, 'normalize_similarity': True, 'implicit': True}. Best is trial 128 with value: 0.05332611477891539.\n"
     ]
    },
    {
     "name": "stdout",
     "output_type": "stream",
     "text": [
      "P3alphaRecommender: Similarity column 38121 (100.0%), 2274.65 column/sec. Elapsed time 16.76 sec\n",
      "EvaluatorHoldout: Processed 35595 (100.0%) in 30.61 sec. Users per second: 1163\n"
     ]
    },
    {
     "name": "stderr",
     "output_type": "stream",
     "text": [
      "[I 2024-11-19 01:13:41,620] Trial 234 finished with value: 0.049954770043052994 and parameters: {'topK': 53, 'alpha': 0.42352360254526344, 'normalize_similarity': True, 'implicit': True}. Best is trial 128 with value: 0.05332611477891539.\n"
     ]
    },
    {
     "name": "stdout",
     "output_type": "stream",
     "text": [
      "P3alphaRecommender: Similarity column 38121 (100.0%), 2431.31 column/sec. Elapsed time 15.68 sec\n",
      "EvaluatorHoldout: Processed 35595 (100.0%) in 29.58 sec. Users per second: 1203\n"
     ]
    },
    {
     "name": "stderr",
     "output_type": "stream",
     "text": [
      "[I 2024-11-19 01:14:28,229] Trial 235 finished with value: 0.05243181113808841 and parameters: {'topK': 23, 'alpha': 0.37665263646167624, 'normalize_similarity': True, 'implicit': True}. Best is trial 128 with value: 0.05332611477891539.\n"
     ]
    },
    {
     "name": "stdout",
     "output_type": "stream",
     "text": [
      "P3alphaRecommender: Similarity column 38121 (100.0%), 2141.07 column/sec. Elapsed time 17.80 sec\n",
      "EvaluatorHoldout: Processed 35595 (100.0%) in 31.23 sec. Users per second: 1140\n"
     ]
    },
    {
     "name": "stderr",
     "output_type": "stream",
     "text": [
      "[I 2024-11-19 01:15:19,918] Trial 236 finished with value: 0.048633034334676015 and parameters: {'topK': 74, 'alpha': 0.3732823816971237, 'normalize_similarity': True, 'implicit': True}. Best is trial 128 with value: 0.05332611477891539.\n"
     ]
    },
    {
     "name": "stdout",
     "output_type": "stream",
     "text": [
      "P3alphaRecommender: Similarity column 38121 (100.0%), 2415.36 column/sec. Elapsed time 15.78 sec\n",
      "EvaluatorHoldout: Processed 35595 (100.0%) in 30.16 sec. Users per second: 1180\n"
     ]
    },
    {
     "name": "stderr",
     "output_type": "stream",
     "text": [
      "[I 2024-11-19 01:16:07,341] Trial 237 finished with value: 0.05056756566933367 and parameters: {'topK': 25, 'alpha': 1.0414700472283365, 'normalize_similarity': True, 'implicit': True}. Best is trial 128 with value: 0.05332611477891539.\n"
     ]
    },
    {
     "name": "stdout",
     "output_type": "stream",
     "text": [
      "P3alphaRecommender: Similarity column 38121 (100.0%), 2671.00 column/sec. Elapsed time 14.27 sec\n",
      "EvaluatorHoldout: Processed 35595 (100.0%) in 25.71 sec. Users per second: 1384\n"
     ]
    },
    {
     "name": "stderr",
     "output_type": "stream",
     "text": [
      "[I 2024-11-19 01:16:48,229] Trial 238 finished with value: 0.03688004379070419 and parameters: {'topK': 2, 'alpha': 0.38315412633926016, 'normalize_similarity': True, 'implicit': False}. Best is trial 128 with value: 0.05332611477891539.\n"
     ]
    },
    {
     "name": "stdout",
     "output_type": "stream",
     "text": [
      "P3alphaRecommender: Similarity column 38121 (100.0%), 2326.72 column/sec. Elapsed time 16.38 sec\n",
      "EvaluatorHoldout: Processed 35595 (100.0%) in 30.30 sec. Users per second: 1175\n"
     ]
    },
    {
     "name": "stderr",
     "output_type": "stream",
     "text": [
      "[I 2024-11-19 01:17:36,840] Trial 239 finished with value: 0.05034477599627035 and parameters: {'topK': 48, 'alpha': 0.3427841950615291, 'normalize_similarity': True, 'implicit': True}. Best is trial 128 with value: 0.05332611477891539.\n"
     ]
    },
    {
     "name": "stdout",
     "output_type": "stream",
     "text": [
      "P3alphaRecommender: Similarity column 38121 (100.0%), 3585.64 column/sec. Elapsed time 10.63 sec\n",
      "EvaluatorHoldout: Processed 35595 (100.0%) in 23.43 sec. Users per second: 1519\n"
     ]
    },
    {
     "name": "stderr",
     "output_type": "stream",
     "text": [
      "[I 2024-11-19 01:18:11,184] Trial 240 finished with value: 0.00028209999175022335 and parameters: {'topK': 0, 'alpha': 0.46485471424339586, 'normalize_similarity': True, 'implicit': True}. Best is trial 128 with value: 0.05332611477891539.\n"
     ]
    },
    {
     "name": "stdout",
     "output_type": "stream",
     "text": [
      "P3alphaRecommender: Similarity column 38121 (100.0%), 2410.62 column/sec. Elapsed time 15.81 sec\n",
      "EvaluatorHoldout: Processed 35595 (100.0%) in 29.44 sec. Users per second: 1209\n"
     ]
    },
    {
     "name": "stderr",
     "output_type": "stream",
     "text": [
      "[I 2024-11-19 01:18:57,959] Trial 241 finished with value: 0.05169930010679951 and parameters: {'topK': 31, 'alpha': 0.4187000103191777, 'normalize_similarity': True, 'implicit': True}. Best is trial 128 with value: 0.05332611477891539.\n"
     ]
    },
    {
     "name": "stdout",
     "output_type": "stream",
     "text": [
      "P3alphaRecommender: Similarity column 38121 (100.0%), 2338.50 column/sec. Elapsed time 16.30 sec\n",
      "EvaluatorHoldout: Processed 35595 (100.0%) in 30.13 sec. Users per second: 1182\n"
     ]
    },
    {
     "name": "stderr",
     "output_type": "stream",
     "text": [
      "[I 2024-11-19 01:19:46,207] Trial 242 finished with value: 0.050751116506909166 and parameters: {'topK': 43, 'alpha': 0.48271076894553133, 'normalize_similarity': True, 'implicit': True}. Best is trial 128 with value: 0.05332611477891539.\n"
     ]
    },
    {
     "name": "stdout",
     "output_type": "stream",
     "text": [
      "P3alphaRecommender: Similarity column 38121 (100.0%), 2445.73 column/sec. Elapsed time 15.59 sec\n",
      "EvaluatorHoldout: Processed 35595 (100.0%) in 29.21 sec. Users per second: 1219\n"
     ]
    },
    {
     "name": "stderr",
     "output_type": "stream",
     "text": [
      "[I 2024-11-19 01:20:32,330] Trial 243 finished with value: 0.052378990271951094 and parameters: {'topK': 24, 'alpha': 0.39162786744005584, 'normalize_similarity': True, 'implicit': True}. Best is trial 128 with value: 0.05332611477891539.\n"
     ]
    },
    {
     "name": "stdout",
     "output_type": "stream",
     "text": [
      "P3alphaRecommender: Similarity column 38121 (100.0%), 2166.24 column/sec. Elapsed time 17.60 sec\n",
      "EvaluatorHoldout: Processed 35595 (100.0%) in 31.35 sec. Users per second: 1135\n"
     ]
    },
    {
     "name": "stderr",
     "output_type": "stream",
     "text": [
      "[I 2024-11-19 01:21:23,792] Trial 244 finished with value: 0.048959955139051395 and parameters: {'topK': 68, 'alpha': 0.39934643171859047, 'normalize_similarity': True, 'implicit': True}. Best is trial 128 with value: 0.05332611477891539.\n"
     ]
    },
    {
     "name": "stdout",
     "output_type": "stream",
     "text": [
      "P3alphaRecommender: Similarity column 38121 (100.0%), 2401.79 column/sec. Elapsed time 15.87 sec\n",
      "EvaluatorHoldout: Processed 35595 (100.0%) in 29.84 sec. Users per second: 1193\n"
     ]
    },
    {
     "name": "stderr",
     "output_type": "stream",
     "text": [
      "[I 2024-11-19 01:22:10,874] Trial 245 finished with value: 0.05235828667750101 and parameters: {'topK': 24, 'alpha': 0.3591552880168884, 'normalize_similarity': True, 'implicit': True}. Best is trial 128 with value: 0.05332611477891539.\n"
     ]
    },
    {
     "name": "stdout",
     "output_type": "stream",
     "text": [
      "P3alphaRecommender: Similarity column 38121 (100.0%), 3519.13 column/sec. Elapsed time 10.83 sec\n",
      "EvaluatorHoldout: Processed 35595 (100.0%) in 23.69 sec. Users per second: 1503\n"
     ]
    },
    {
     "name": "stderr",
     "output_type": "stream",
     "text": [
      "[I 2024-11-19 01:22:45,699] Trial 246 finished with value: 0.00028209999175022335 and parameters: {'topK': 0, 'alpha': 0.36889307530931287, 'normalize_similarity': False, 'implicit': True}. Best is trial 128 with value: 0.05332611477891539.\n"
     ]
    },
    {
     "name": "stdout",
     "output_type": "stream",
     "text": [
      "P3alphaRecommender: Similarity column 38121 (100.0%), 2264.39 column/sec. Elapsed time 16.83 sec\n",
      "EvaluatorHoldout: Processed 35595 (100.0%) in 30.95 sec. Users per second: 1150\n"
     ]
    },
    {
     "name": "stderr",
     "output_type": "stream",
     "text": [
      "[I 2024-11-19 01:23:35,663] Trial 247 finished with value: 0.04977340874074769 and parameters: {'topK': 55, 'alpha': 0.30519665150193154, 'normalize_similarity': True, 'implicit': True}. Best is trial 128 with value: 0.05332611477891539.\n"
     ]
    },
    {
     "name": "stdout",
     "output_type": "stream",
     "text": [
      "P3alphaRecommender: Similarity column 38121 (100.0%), 2052.36 column/sec. Elapsed time 18.57 sec\n",
      "EvaluatorHoldout: Processed 35595 (100.0%) in 28.82 sec. Users per second: 1235\n"
     ]
    },
    {
     "name": "stderr",
     "output_type": "stream",
     "text": [
      "[I 2024-11-19 01:24:26,165] Trial 248 finished with value: 0.04781270331796911 and parameters: {'topK': 88, 'alpha': 0.42253912585309444, 'normalize_similarity': True, 'implicit': True}. Best is trial 128 with value: 0.05332611477891539.\n"
     ]
    },
    {
     "name": "stdout",
     "output_type": "stream",
     "text": [
      "P3alphaRecommender: Similarity column 38121 (100.0%), 2442.54 column/sec. Elapsed time 15.61 sec\n",
      "EvaluatorHoldout: Processed 35595 (100.0%) in 29.56 sec. Users per second: 1204\n"
     ]
    },
    {
     "name": "stderr",
     "output_type": "stream",
     "text": [
      "[I 2024-11-19 01:25:12,819] Trial 249 finished with value: 0.05213420268139845 and parameters: {'topK': 26, 'alpha': 0.3723015259784719, 'normalize_similarity': True, 'implicit': True}. Best is trial 128 with value: 0.05332611477891539.\n"
     ]
    },
    {
     "name": "stdout",
     "output_type": "stream",
     "text": [
      "P3alphaRecommender: Similarity column 38121 (100.0%), 2234.54 column/sec. Elapsed time 17.06 sec\n",
      "EvaluatorHoldout: Processed 35595 (100.0%) in 30.52 sec. Users per second: 1166\n"
     ]
    },
    {
     "name": "stderr",
     "output_type": "stream",
     "text": [
      "[I 2024-11-19 01:26:02,462] Trial 250 finished with value: 0.050112771099916374 and parameters: {'topK': 50, 'alpha': 0.45551572099274595, 'normalize_similarity': True, 'implicit': True}. Best is trial 128 with value: 0.05332611477891539.\n"
     ]
    },
    {
     "name": "stdout",
     "output_type": "stream",
     "text": [
      "P3alphaRecommender: Similarity column 38121 (100.0%), 2475.82 column/sec. Elapsed time 15.40 sec\n",
      "EvaluatorHoldout: Processed 35595 (100.0%) in 28.89 sec. Users per second: 1232\n"
     ]
    },
    {
     "name": "stderr",
     "output_type": "stream",
     "text": [
      "[I 2024-11-19 01:26:48,076] Trial 251 finished with value: 0.05226088803269414 and parameters: {'topK': 24, 'alpha': 0.28437477987816895, 'normalize_similarity': True, 'implicit': True}. Best is trial 128 with value: 0.05332611477891539.\n"
     ]
    },
    {
     "name": "stdout",
     "output_type": "stream",
     "text": [
      "P3alphaRecommender: Similarity column 38121 (100.0%), 2107.96 column/sec. Elapsed time 18.08 sec\n",
      "EvaluatorHoldout: Processed 35595 (100.0%) in 31.11 sec. Users per second: 1144\n"
     ]
    },
    {
     "name": "stderr",
     "output_type": "stream",
     "text": [
      "[I 2024-11-19 01:27:40,142] Trial 252 finished with value: 0.04775108083220012 and parameters: {'topK': 84, 'alpha': 0.2791060999306894, 'normalize_similarity': True, 'implicit': True}. Best is trial 128 with value: 0.05332611477891539.\n"
     ]
    },
    {
     "name": "stdout",
     "output_type": "stream",
     "text": [
      "P3alphaRecommender: Similarity column 38121 (100.0%), 3606.00 column/sec. Elapsed time 10.57 sec\n",
      "EvaluatorHoldout: Processed 35595 (100.0%) in 23.25 sec. Users per second: 1531\n"
     ]
    },
    {
     "name": "stderr",
     "output_type": "stream",
     "text": [
      "[I 2024-11-19 01:28:14,245] Trial 253 finished with value: 0.00028209999175022335 and parameters: {'topK': 0, 'alpha': 0.22942976043591318, 'normalize_similarity': True, 'implicit': True}. Best is trial 128 with value: 0.05332611477891539.\n"
     ]
    },
    {
     "name": "stdout",
     "output_type": "stream",
     "text": [
      "P3alphaRecommender: Similarity column 38121 (100.0%), 2303.02 column/sec. Elapsed time 16.55 sec\n",
      "EvaluatorHoldout: Processed 35595 (100.0%) in 30.35 sec. Users per second: 1173\n"
     ]
    },
    {
     "name": "stderr",
     "output_type": "stream",
     "text": [
      "[I 2024-11-19 01:29:03,180] Trial 254 finished with value: 0.04994456373175096 and parameters: {'topK': 52, 'alpha': 0.33702817155366904, 'normalize_similarity': True, 'implicit': True}. Best is trial 128 with value: 0.05332611477891539.\n"
     ]
    },
    {
     "name": "stdout",
     "output_type": "stream",
     "text": [
      "P3alphaRecommender: Similarity column 38121 (100.0%), 577.45 column/sec. Elapsed time 1.10 min\n",
      "EvaluatorHoldout: Processed 35595 (100.0%) in 52.34 sec. Users per second: 680\n"
     ]
    },
    {
     "name": "stderr",
     "output_type": "stream",
     "text": [
      "[I 2024-11-19 01:31:46,011] Trial 255 finished with value: 0.032373760582566906 and parameters: {'topK': 1395, 'alpha': 0.2986596644028946, 'normalize_similarity': True, 'implicit': True}. Best is trial 128 with value: 0.05332611477891539.\n"
     ]
    },
    {
     "name": "stdout",
     "output_type": "stream",
     "text": [
      "P3alphaRecommender: Similarity column 38121 (100.0%), 858.96 column/sec. Elapsed time 44.38 sec\n",
      "EvaluatorHoldout: Processed 35595 (100.0%) in 44.31 sec. Users per second: 803\n"
     ]
    },
    {
     "name": "stderr",
     "output_type": "stream",
     "text": [
      "[I 2024-11-19 01:33:39,473] Trial 256 finished with value: 0.03520749860088138 and parameters: {'topK': 750, 'alpha': 0.38188567028734377, 'normalize_similarity': True, 'implicit': True}. Best is trial 128 with value: 0.05332611477891539.\n"
     ]
    },
    {
     "name": "stdout",
     "output_type": "stream",
     "text": [
      "P3alphaRecommender: Similarity column 38121 (100.0%), 2000.99 column/sec. Elapsed time 19.05 sec\n",
      "EvaluatorHoldout: Processed 35595 (100.0%) in 29.42 sec. Users per second: 1210\n"
     ]
    },
    {
     "name": "stderr",
     "output_type": "stream",
     "text": [
      "[I 2024-11-19 01:34:31,771] Trial 257 finished with value: 0.04636864572115167 and parameters: {'topK': 114, 'alpha': 0.3330911439267888, 'normalize_similarity': True, 'implicit': True}. Best is trial 128 with value: 0.05332611477891539.\n"
     ]
    },
    {
     "name": "stdout",
     "output_type": "stream",
     "text": [
      "P3alphaRecommender: Similarity column 38121 (100.0%), 2412.09 column/sec. Elapsed time 15.80 sec\n",
      "EvaluatorHoldout: Processed 35595 (100.0%) in 29.51 sec. Users per second: 1206\n"
     ]
    },
    {
     "name": "stderr",
     "output_type": "stream",
     "text": [
      "[I 2024-11-19 01:35:18,458] Trial 258 finished with value: 0.05217135231673613 and parameters: {'topK': 25, 'alpha': 0.2795530060646119, 'normalize_similarity': True, 'implicit': True}. Best is trial 128 with value: 0.05332611477891539.\n"
     ]
    },
    {
     "name": "stdout",
     "output_type": "stream",
     "text": [
      "P3alphaRecommender: Similarity column 38121 (100.0%), 3532.31 column/sec. Elapsed time 10.79 sec\n",
      "EvaluatorHoldout: Processed 35595 (100.0%) in 23.42 sec. Users per second: 1520\n"
     ]
    },
    {
     "name": "stderr",
     "output_type": "stream",
     "text": [
      "[I 2024-11-19 01:35:52,970] Trial 259 finished with value: 0.00028209999175022335 and parameters: {'topK': 0, 'alpha': 0.41683894333598415, 'normalize_similarity': True, 'implicit': True}. Best is trial 128 with value: 0.05332611477891539.\n"
     ]
    },
    {
     "name": "stdout",
     "output_type": "stream",
     "text": [
      "P3alphaRecommender: Similarity column 38121 (100.0%), 2215.53 column/sec. Elapsed time 17.21 sec\n",
      "EvaluatorHoldout: Processed 35595 (100.0%) in 31.45 sec. Users per second: 1132\n"
     ]
    },
    {
     "name": "stderr",
     "output_type": "stream",
     "text": [
      "[I 2024-11-19 01:36:44,084] Trial 260 finished with value: 0.04864697199758141 and parameters: {'topK': 68, 'alpha': 0.24191128398821798, 'normalize_similarity': True, 'implicit': True}. Best is trial 128 with value: 0.05332611477891539.\n"
     ]
    },
    {
     "name": "stdout",
     "output_type": "stream",
     "text": [
      "P3alphaRecommender: Similarity column 38121 (100.0%), 660.91 column/sec. Elapsed time 57.68 sec\n",
      "EvaluatorHoldout: Processed 35595 (100.0%) in 48.94 sec. Users per second: 727\n"
     ]
    },
    {
     "name": "stderr",
     "output_type": "stream",
     "text": [
      "[I 2024-11-19 01:39:06,142] Trial 261 finished with value: 0.03280471329796975 and parameters: {'topK': 1095, 'alpha': 0.20308266145483664, 'normalize_similarity': True, 'implicit': True}. Best is trial 128 with value: 0.05332611477891539.\n"
     ]
    },
    {
     "name": "stdout",
     "output_type": "stream",
     "text": [
      "P3alphaRecommender: Similarity column 38121 (100.0%), 2345.97 column/sec. Elapsed time 16.25 sec\n",
      "EvaluatorHoldout: Processed 35595 (100.0%) in 30.04 sec. Users per second: 1185\n"
     ]
    },
    {
     "name": "stderr",
     "output_type": "stream",
     "text": [
      "[I 2024-11-19 01:39:54,291] Trial 262 finished with value: 0.05056014198534036 and parameters: {'topK': 45, 'alpha': 0.3493632641207492, 'normalize_similarity': True, 'implicit': True}. Best is trial 128 with value: 0.05332611477891539.\n"
     ]
    },
    {
     "name": "stdout",
     "output_type": "stream",
     "text": [
      "P3alphaRecommender: Similarity column 38121 (100.0%), 2041.35 column/sec. Elapsed time 18.67 sec\n",
      "EvaluatorHoldout: Processed 35595 (100.0%) in 28.66 sec. Users per second: 1242\n"
     ]
    },
    {
     "name": "stderr",
     "output_type": "stream",
     "text": [
      "[I 2024-11-19 01:40:44,969] Trial 263 finished with value: 0.047384780723169505 and parameters: {'topK': 95, 'alpha': 0.39203623330113213, 'normalize_similarity': True, 'implicit': True}. Best is trial 128 with value: 0.05332611477891539.\n"
     ]
    },
    {
     "name": "stdout",
     "output_type": "stream",
     "text": [
      "P3alphaRecommender: Similarity column 38121 (100.0%), 2480.62 column/sec. Elapsed time 15.37 sec\n",
      "EvaluatorHoldout: Processed 35595 (100.0%) in 29.00 sec. Users per second: 1228\n"
     ]
    },
    {
     "name": "stderr",
     "output_type": "stream",
     "text": [
      "[I 2024-11-19 01:41:30,628] Trial 264 finished with value: 0.05238426566955667 and parameters: {'topK': 23, 'alpha': 0.3086093508149274, 'normalize_similarity': True, 'implicit': True}. Best is trial 128 with value: 0.05332611477891539.\n"
     ]
    },
    {
     "name": "stdout",
     "output_type": "stream",
     "text": [
      "P3alphaRecommender: Similarity column 38121 (100.0%), 2250.72 column/sec. Elapsed time 16.94 sec\n",
      "EvaluatorHoldout: Processed 35595 (100.0%) in 30.93 sec. Users per second: 1151\n"
     ]
    },
    {
     "name": "stderr",
     "output_type": "stream",
     "text": [
      "[I 2024-11-19 01:42:20,801] Trial 265 finished with value: 0.04954695683582973 and parameters: {'topK': 59, 'alpha': 0.42493445657058304, 'normalize_similarity': True, 'implicit': False}. Best is trial 128 with value: 0.05332611477891539.\n"
     ]
    },
    {
     "name": "stdout",
     "output_type": "stream",
     "text": [
      "P3alphaRecommender: Similarity column 38121 (100.0%), 3571.46 column/sec. Elapsed time 10.67 sec\n",
      "EvaluatorHoldout: Processed 35595 (100.0%) in 23.23 sec. Users per second: 1532\n"
     ]
    },
    {
     "name": "stderr",
     "output_type": "stream",
     "text": [
      "[I 2024-11-19 01:42:54,989] Trial 266 finished with value: 0.00028209999175022335 and parameters: {'topK': 0, 'alpha': 0.34365468987692915, 'normalize_similarity': False, 'implicit': True}. Best is trial 128 with value: 0.05332611477891539.\n"
     ]
    },
    {
     "name": "stdout",
     "output_type": "stream",
     "text": [
      "P3alphaRecommender: Similarity column 38121 (100.0%), 2411.73 column/sec. Elapsed time 15.81 sec\n",
      "EvaluatorHoldout: Processed 35595 (100.0%) in 29.61 sec. Users per second: 1202\n"
     ]
    },
    {
     "name": "stderr",
     "output_type": "stream",
     "text": [
      "[I 2024-11-19 01:43:42,031] Trial 267 finished with value: 0.0510660996617577 and parameters: {'topK': 36, 'alpha': 0.3171698376804365, 'normalize_similarity': True, 'implicit': True}. Best is trial 128 with value: 0.05332611477891539.\n"
     ]
    },
    {
     "name": "stdout",
     "output_type": "stream",
     "text": [
      "P3alphaRecommender: Similarity column 38121 (100.0%), 2153.27 column/sec. Elapsed time 17.70 sec\n",
      "EvaluatorHoldout: Processed 35595 (100.0%) in 31.10 sec. Users per second: 1144\n"
     ]
    },
    {
     "name": "stderr",
     "output_type": "stream",
     "text": [
      "[I 2024-11-19 01:44:33,555] Trial 268 finished with value: 0.048513915366210185 and parameters: {'topK': 76, 'alpha': 0.38192047123529604, 'normalize_similarity': True, 'implicit': True}. Best is trial 128 with value: 0.05332611477891539.\n"
     ]
    },
    {
     "name": "stdout",
     "output_type": "stream",
     "text": [
      "P3alphaRecommender: Similarity column 38121 (100.0%), 2393.88 column/sec. Elapsed time 15.92 sec\n",
      "EvaluatorHoldout: Processed 35595 (100.0%) in 29.60 sec. Users per second: 1202\n"
     ]
    },
    {
     "name": "stderr",
     "output_type": "stream",
     "text": [
      "[I 2024-11-19 01:45:20,630] Trial 269 finished with value: 0.05164681369105975 and parameters: {'topK': 32, 'alpha': 0.4365272309117898, 'normalize_similarity': True, 'implicit': True}. Best is trial 128 with value: 0.05332611477891539.\n"
     ]
    },
    {
     "name": "stdout",
     "output_type": "stream",
     "text": [
      "P3alphaRecommender: Similarity column 38121 (100.0%), 2013.81 column/sec. Elapsed time 18.93 sec\n",
      "EvaluatorHoldout: Processed 35595 (100.0%) in 28.99 sec. Users per second: 1228\n"
     ]
    },
    {
     "name": "stderr",
     "output_type": "stream",
     "text": [
      "[I 2024-11-19 01:46:12,203] Trial 270 finished with value: 0.04663421828908386 and parameters: {'topK': 111, 'alpha': 0.3676858292958544, 'normalize_similarity': True, 'implicit': True}. Best is trial 128 with value: 0.05332611477891539.\n"
     ]
    },
    {
     "name": "stdout",
     "output_type": "stream",
     "text": [
      "P3alphaRecommender: Similarity column 38121 (100.0%), 2289.34 column/sec. Elapsed time 16.65 sec\n",
      "EvaluatorHoldout: Processed 35595 (100.0%) in 30.60 sec. Users per second: 1163\n"
     ]
    },
    {
     "name": "stderr",
     "output_type": "stream",
     "text": [
      "[I 2024-11-19 01:47:01,588] Trial 271 finished with value: 0.0498941297266184 and parameters: {'topK': 54, 'alpha': 0.4471552100009647, 'normalize_similarity': True, 'implicit': True}. Best is trial 128 with value: 0.05332611477891539.\n"
     ]
    },
    {
     "name": "stdout",
     "output_type": "stream",
     "text": [
      "P3alphaRecommender: Similarity column 38121 (100.0%), 2501.13 column/sec. Elapsed time 15.24 sec\n",
      "EvaluatorHoldout: Processed 35595 (100.0%) in 28.79 sec. Users per second: 1236\n"
     ]
    },
    {
     "name": "stderr",
     "output_type": "stream",
     "text": [
      "[I 2024-11-19 01:47:46,879] Trial 272 finished with value: 0.05245017692425851 and parameters: {'topK': 22, 'alpha': 0.30926819845077647, 'normalize_similarity': True, 'implicit': True}. Best is trial 128 with value: 0.05332611477891539.\n"
     ]
    },
    {
     "name": "stdout",
     "output_type": "stream",
     "text": [
      "P3alphaRecommender: Similarity column 38121 (100.0%), 2479.68 column/sec. Elapsed time 15.37 sec\n",
      "EvaluatorHoldout: Processed 35595 (100.0%) in 28.94 sec. Users per second: 1230\n"
     ]
    },
    {
     "name": "stderr",
     "output_type": "stream",
     "text": [
      "[I 2024-11-19 01:48:32,462] Trial 273 finished with value: 0.05228631406675897 and parameters: {'topK': 23, 'alpha': 0.2597385963720305, 'normalize_similarity': True, 'implicit': True}. Best is trial 128 with value: 0.05332611477891539.\n"
     ]
    },
    {
     "name": "stdout",
     "output_type": "stream",
     "text": [
      "P3alphaRecommender: Similarity column 38121 (100.0%), 3627.58 column/sec. Elapsed time 10.51 sec\n",
      "EvaluatorHoldout: Processed 35595 (100.0%) in 23.23 sec. Users per second: 1532\n"
     ]
    },
    {
     "name": "stderr",
     "output_type": "stream",
     "text": [
      "[I 2024-11-19 01:49:06,474] Trial 274 finished with value: 0.00028209999175022335 and parameters: {'topK': 0, 'alpha': 0.40189935419074063, 'normalize_similarity': True, 'implicit': True}. Best is trial 128 with value: 0.05332611477891539.\n"
     ]
    },
    {
     "name": "stdout",
     "output_type": "stream",
     "text": [
      "P3alphaRecommender: Similarity column 38121 (100.0%), 2172.13 column/sec. Elapsed time 17.55 sec\n",
      "EvaluatorHoldout: Processed 35595 (100.0%) in 31.33 sec. Users per second: 1136\n"
     ]
    },
    {
     "name": "stderr",
     "output_type": "stream",
     "text": [
      "[I 2024-11-19 01:49:58,071] Trial 275 finished with value: 0.048275054236704217 and parameters: {'topK': 78, 'alpha': 0.3135310408135986, 'normalize_similarity': True, 'implicit': True}. Best is trial 128 with value: 0.05332611477891539.\n"
     ]
    },
    {
     "name": "stdout",
     "output_type": "stream",
     "text": [
      "P3alphaRecommender: Similarity column 38121 (100.0%), 2261.75 column/sec. Elapsed time 16.85 sec\n",
      "EvaluatorHoldout: Processed 35595 (100.0%) in 30.70 sec. Users per second: 1159\n"
     ]
    },
    {
     "name": "stderr",
     "output_type": "stream",
     "text": [
      "[I 2024-11-19 01:50:47,718] Trial 276 finished with value: 0.049986130342007086 and parameters: {'topK': 53, 'alpha': 0.4880366679024298, 'normalize_similarity': True, 'implicit': True}. Best is trial 128 with value: 0.05332611477891539.\n"
     ]
    },
    {
     "name": "stdout",
     "output_type": "stream",
     "text": [
      "P3alphaRecommender: Similarity column 38121 (100.0%), 2432.20 column/sec. Elapsed time 15.67 sec\n",
      "EvaluatorHoldout: Processed 35595 (100.0%) in 29.52 sec. Users per second: 1206\n"
     ]
    },
    {
     "name": "stderr",
     "output_type": "stream",
     "text": [
      "[I 2024-11-19 01:51:34,388] Trial 277 finished with value: 0.05169693554248773 and parameters: {'topK': 30, 'alpha': 0.3701648638635074, 'normalize_similarity': True, 'implicit': True}. Best is trial 128 with value: 0.05332611477891539.\n"
     ]
    },
    {
     "name": "stdout",
     "output_type": "stream",
     "text": [
      "P3alphaRecommender: Similarity column 38121 (100.0%), 2119.40 column/sec. Elapsed time 17.99 sec\n",
      "EvaluatorHoldout: Processed 35595 (100.0%) in 31.28 sec. Users per second: 1138\n"
     ]
    },
    {
     "name": "stderr",
     "output_type": "stream",
     "text": [
      "[I 2024-11-19 01:52:26,583] Trial 278 finished with value: 0.04737255990563845 and parameters: {'topK': 86, 'alpha': 0.19152650493751994, 'normalize_similarity': True, 'implicit': True}. Best is trial 128 with value: 0.05332611477891539.\n"
     ]
    },
    {
     "name": "stdout",
     "output_type": "stream",
     "text": [
      "P3alphaRecommender: Similarity column 38121 (100.0%), 1884.70 column/sec. Elapsed time 20.23 sec\n",
      "EvaluatorHoldout: Processed 35595 (100.0%) in 29.46 sec. Users per second: 1208\n"
     ]
    },
    {
     "name": "stderr",
     "output_type": "stream",
     "text": [
      "[I 2024-11-19 01:53:20,746] Trial 279 finished with value: 0.04513421048524147 and parameters: {'topK': 138, 'alpha': 0.28786167663438483, 'normalize_similarity': True, 'implicit': True}. Best is trial 128 with value: 0.05332611477891539.\n"
     ]
    },
    {
     "name": "stdout",
     "output_type": "stream",
     "text": [
      "P3alphaRecommender: Similarity column 38121 (100.0%), 2324.67 column/sec. Elapsed time 16.40 sec\n",
      "EvaluatorHoldout: Processed 35595 (100.0%) in 30.74 sec. Users per second: 1158\n"
     ]
    },
    {
     "name": "stderr",
     "output_type": "stream",
     "text": [
      "[I 2024-11-19 01:54:09,997] Trial 280 finished with value: 0.049507306626352415 and parameters: {'topK': 49, 'alpha': 0.8631195160825139, 'normalize_similarity': True, 'implicit': True}. Best is trial 128 with value: 0.05332611477891539.\n"
     ]
    },
    {
     "name": "stdout",
     "output_type": "stream",
     "text": [
      "P3alphaRecommender: Similarity column 38121 (100.0%), 2482.55 column/sec. Elapsed time 15.36 sec\n",
      "EvaluatorHoldout: Processed 35595 (100.0%) in 28.71 sec. Users per second: 1240\n"
     ]
    },
    {
     "name": "stderr",
     "output_type": "stream",
     "text": [
      "[I 2024-11-19 01:54:55,377] Trial 281 finished with value: 0.0525147916262523 and parameters: {'topK': 23, 'alpha': 0.40632432130490287, 'normalize_similarity': True, 'implicit': False}. Best is trial 128 with value: 0.05332611477891539.\n"
     ]
    },
    {
     "name": "stdout",
     "output_type": "stream",
     "text": [
      "P3alphaRecommender: Similarity column 38121 (100.0%), 2501.88 column/sec. Elapsed time 15.24 sec\n",
      "EvaluatorHoldout: Processed 35595 (100.0%) in 28.72 sec. Users per second: 1239\n"
     ]
    },
    {
     "name": "stderr",
     "output_type": "stream",
     "text": [
      "[I 2024-11-19 01:55:40,597] Trial 282 finished with value: 0.05251900458642811 and parameters: {'topK': 22, 'alpha': 0.45098321269385555, 'normalize_similarity': True, 'implicit': False}. Best is trial 128 with value: 0.05332611477891539.\n"
     ]
    },
    {
     "name": "stdout",
     "output_type": "stream",
     "text": [
      "P3alphaRecommender: Similarity column 38121 (100.0%), 3815.23 column/sec. Elapsed time 9.99 sec\n",
      "EvaluatorHoldout: Processed 35595 (100.0%) in 24.83 sec. Users per second: 1434\n"
     ]
    },
    {
     "name": "stderr",
     "output_type": "stream",
     "text": [
      "[I 2024-11-19 01:56:16,167] Trial 283 finished with value: 0.01992198610024119 and parameters: {'topK': 1, 'alpha': 0.5281711820424484, 'normalize_similarity': True, 'implicit': False}. Best is trial 128 with value: 0.05332611477891539.\n"
     ]
    },
    {
     "name": "stdout",
     "output_type": "stream",
     "text": [
      "P3alphaRecommender: Similarity column 38121 (100.0%), 2241.22 column/sec. Elapsed time 17.01 sec\n",
      "EvaluatorHoldout: Processed 35595 (100.0%) in 31.02 sec. Users per second: 1147\n"
     ]
    },
    {
     "name": "stderr",
     "output_type": "stream",
     "text": [
      "[I 2024-11-19 01:57:06,655] Trial 284 finished with value: 0.049097077572423396 and parameters: {'topK': 67, 'alpha': 0.4629234452799559, 'normalize_similarity': True, 'implicit': False}. Best is trial 128 with value: 0.05332611477891539.\n"
     ]
    },
    {
     "name": "stdout",
     "output_type": "stream",
     "text": [
      "P3alphaRecommender: Similarity column 38121 (100.0%), 2028.66 column/sec. Elapsed time 18.79 sec\n",
      "EvaluatorHoldout: Processed 35595 (100.0%) in 32.79 sec. Users per second: 1085\n"
     ]
    },
    {
     "name": "stderr",
     "output_type": "stream",
     "text": [
      "[I 2024-11-19 01:58:02,227] Trial 285 finished with value: 0.03347468656423502 and parameters: {'topK': 104, 'alpha': 1.4790681317652061, 'normalize_similarity': False, 'implicit': False}. Best is trial 128 with value: 0.05332611477891539.\n"
     ]
    },
    {
     "name": "stdout",
     "output_type": "stream",
     "text": [
      "P3alphaRecommender: Similarity column 38121 (100.0%), 2352.14 column/sec. Elapsed time 16.21 sec\n",
      "EvaluatorHoldout: Processed 35595 (100.0%) in 30.10 sec. Users per second: 1183\n"
     ]
    },
    {
     "name": "stderr",
     "output_type": "stream",
     "text": [
      "[I 2024-11-19 01:58:50,383] Trial 286 finished with value: 0.05077931290510125 and parameters: {'topK': 42, 'alpha': 0.4938207582700834, 'normalize_similarity': True, 'implicit': False}. Best is trial 128 with value: 0.05332611477891539.\n"
     ]
    },
    {
     "name": "stdout",
     "output_type": "stream",
     "text": [
      "P3alphaRecommender: Similarity column 38121 (100.0%), 2479.58 column/sec. Elapsed time 15.37 sec\n",
      "EvaluatorHoldout: Processed 35595 (100.0%) in 28.95 sec. Users per second: 1230\n"
     ]
    },
    {
     "name": "stderr",
     "output_type": "stream",
     "text": [
      "[I 2024-11-19 01:59:36,002] Trial 287 finished with value: 0.05238970160335334 and parameters: {'topK': 22, 'alpha': 0.23978646955316363, 'normalize_similarity': True, 'implicit': False}. Best is trial 128 with value: 0.05332611477891539.\n"
     ]
    },
    {
     "name": "stdout",
     "output_type": "stream",
     "text": [
      "P3alphaRecommender: Similarity column 38121 (100.0%), 3606.85 column/sec. Elapsed time 10.57 sec\n",
      "EvaluatorHoldout: Processed 35595 (100.0%) in 23.25 sec. Users per second: 1531\n"
     ]
    },
    {
     "name": "stderr",
     "output_type": "stream",
     "text": [
      "[I 2024-11-19 02:00:10,109] Trial 288 finished with value: 0.00028209999175022335 and parameters: {'topK': 0, 'alpha': 0.23823024140899918, 'normalize_similarity': True, 'implicit': False}. Best is trial 128 with value: 0.05332611477891539.\n"
     ]
    },
    {
     "name": "stdout",
     "output_type": "stream",
     "text": [
      "P3alphaRecommender: Similarity column 38121 (100.0%), 2226.95 column/sec. Elapsed time 17.12 sec\n",
      "EvaluatorHoldout: Processed 35595 (100.0%) in 30.89 sec. Users per second: 1152\n"
     ]
    },
    {
     "name": "stderr",
     "output_type": "stream",
     "text": [
      "[I 2024-11-19 02:01:00,604] Trial 289 finished with value: 0.048551467456859974 and parameters: {'topK': 69, 'alpha': 0.21988470652477696, 'normalize_similarity': True, 'implicit': False}. Best is trial 128 with value: 0.05332611477891539.\n"
     ]
    },
    {
     "name": "stdout",
     "output_type": "stream",
     "text": [
      "P3alphaRecommender: Similarity column 38121 (100.0%), 2335.81 column/sec. Elapsed time 16.32 sec\n",
      "EvaluatorHoldout: Processed 35595 (100.0%) in 30.05 sec. Users per second: 1185\n"
     ]
    },
    {
     "name": "stderr",
     "output_type": "stream",
     "text": [
      "[I 2024-11-19 02:01:48,863] Trial 290 finished with value: 0.05028721262349424 and parameters: {'topK': 47, 'alpha': 0.2972385175006186, 'normalize_similarity': True, 'implicit': True}. Best is trial 128 with value: 0.05332611477891539.\n"
     ]
    },
    {
     "name": "stdout",
     "output_type": "stream",
     "text": [
      "P3alphaRecommender: Similarity column 38121 (100.0%), 2482.92 column/sec. Elapsed time 15.35 sec\n",
      "EvaluatorHoldout: Processed 35595 (100.0%) in 28.80 sec. Users per second: 1236\n"
     ]
    },
    {
     "name": "stderr",
     "output_type": "stream",
     "text": [
      "[I 2024-11-19 02:02:34,330] Trial 291 finished with value: 0.052184281054275014 and parameters: {'topK': 24, 'alpha': 0.25080260094383466, 'normalize_similarity': True, 'implicit': True}. Best is trial 128 with value: 0.05332611477891539.\n"
     ]
    },
    {
     "name": "stdout",
     "output_type": "stream",
     "text": [
      "P3alphaRecommender: Similarity column 38121 (100.0%), 2121.58 column/sec. Elapsed time 17.97 sec\n",
      "EvaluatorHoldout: Processed 35595 (100.0%) in 28.23 sec. Users per second: 1261\n"
     ]
    },
    {
     "name": "stderr",
     "output_type": "stream",
     "text": [
      "[I 2024-11-19 02:03:23,558] Trial 292 finished with value: 0.04771907058463989 and parameters: {'topK': 88, 'alpha': 0.3341948633499777, 'normalize_similarity': True, 'implicit': False}. Best is trial 128 with value: 0.05332611477891539.\n"
     ]
    },
    {
     "name": "stdout",
     "output_type": "stream",
     "text": [
      "P3alphaRecommender: Similarity column 38121 (100.0%), 3792.66 column/sec. Elapsed time 10.05 sec\n",
      "EvaluatorHoldout: Processed 35595 (100.0%) in 24.76 sec. Users per second: 1438\n"
     ]
    },
    {
     "name": "stderr",
     "output_type": "stream",
     "text": [
      "[I 2024-11-19 02:03:59,127] Trial 293 finished with value: 0.02098988733480906 and parameters: {'topK': 1, 'alpha': 0.20278725555198412, 'normalize_similarity': True, 'implicit': False}. Best is trial 128 with value: 0.05332611477891539.\n"
     ]
    },
    {
     "name": "stdout",
     "output_type": "stream",
     "text": [
      "P3alphaRecommender: Similarity column 38121 (100.0%), 1273.90 column/sec. Elapsed time 29.92 sec\n",
      "EvaluatorHoldout: Processed 35595 (100.0%) in 38.09 sec. Users per second: 935\n"
     ]
    },
    {
     "name": "stderr",
     "output_type": "stream",
     "text": [
      "[I 2024-11-19 02:05:19,301] Trial 294 finished with value: 0.03931997315477999 and parameters: {'topK': 375, 'alpha': 0.42464063968469595, 'normalize_similarity': True, 'implicit': False}. Best is trial 128 with value: 0.05332611477891539.\n"
     ]
    },
    {
     "name": "stdout",
     "output_type": "stream",
     "text": [
      "P3alphaRecommender: Similarity column 38121 (100.0%), 2340.44 column/sec. Elapsed time 16.29 sec\n",
      "EvaluatorHoldout: Processed 35595 (100.0%) in 30.23 sec. Users per second: 1178\n"
     ]
    },
    {
     "name": "stderr",
     "output_type": "stream",
     "text": [
      "[I 2024-11-19 02:06:07,755] Trial 295 finished with value: 0.05028831853947577 and parameters: {'topK': 48, 'alpha': 0.3335712621052753, 'normalize_similarity': True, 'implicit': False}. Best is trial 128 with value: 0.05332611477891539.\n"
     ]
    },
    {
     "name": "stdout",
     "output_type": "stream",
     "text": [
      "P3alphaRecommender: Similarity column 38121 (100.0%), 2211.77 column/sec. Elapsed time 17.24 sec\n",
      "EvaluatorHoldout: Processed 35595 (100.0%) in 30.88 sec. Users per second: 1153\n"
     ]
    },
    {
     "name": "stderr",
     "output_type": "stream",
     "text": [
      "[I 2024-11-19 02:06:58,309] Trial 296 finished with value: 0.04872792906083948 and parameters: {'topK': 68, 'alpha': 0.2844829895290906, 'normalize_similarity': True, 'implicit': False}. Best is trial 128 with value: 0.05332611477891539.\n"
     ]
    },
    {
     "name": "stdout",
     "output_type": "stream",
     "text": [
      "P3alphaRecommender: Similarity column 38121 (100.0%), 2441.57 column/sec. Elapsed time 15.61 sec\n",
      "EvaluatorHoldout: Processed 35595 (100.0%) in 29.23 sec. Users per second: 1218\n"
     ]
    },
    {
     "name": "stderr",
     "output_type": "stream",
     "text": [
      "[I 2024-11-19 02:07:44,592] Trial 297 finished with value: 0.051922293794605195 and parameters: {'topK': 28, 'alpha': 0.39589726890051624, 'normalize_similarity': True, 'implicit': False}. Best is trial 128 with value: 0.05332611477891539.\n"
     ]
    },
    {
     "name": "stdout",
     "output_type": "stream",
     "text": [
      "P3alphaRecommender: Similarity column 38121 (100.0%), 1930.10 column/sec. Elapsed time 19.75 sec\n",
      "EvaluatorHoldout: Processed 35595 (100.0%) in 29.23 sec. Users per second: 1218\n"
     ]
    },
    {
     "name": "stderr",
     "output_type": "stream",
     "text": [
      "[I 2024-11-19 02:08:37,729] Trial 298 finished with value: 0.045853520759334694 and parameters: {'topK': 126, 'alpha': 0.3483362380852447, 'normalize_similarity': True, 'implicit': False}. Best is trial 128 with value: 0.05332611477891539.\n"
     ]
    },
    {
     "name": "stdout",
     "output_type": "stream",
     "text": [
      "P3alphaRecommender: Similarity column 38121 (100.0%), 717.44 column/sec. Elapsed time 53.13 sec\n",
      "EvaluatorHoldout: Processed 35595 (100.0%) in 47.29 sec. Users per second: 753\n"
     ]
    },
    {
     "name": "stderr",
     "output_type": "stream",
     "text": [
      "[I 2024-11-19 02:10:50,215] Trial 299 finished with value: 0.03303755654998706 and parameters: {'topK': 993, 'alpha': 0.17666289092533904, 'normalize_similarity': True, 'implicit': False}. Best is trial 128 with value: 0.05332611477891539.\n"
     ]
    },
    {
     "name": "stdout",
     "output_type": "stream",
     "text": [
      "P3alphaRecommender: Similarity column 38121 (100.0%), 2490.84 column/sec. Elapsed time 15.30 sec\n",
      "EvaluatorHoldout: Processed 35595 (100.0%) in 29.11 sec. Users per second: 1223\n"
     ]
    },
    {
     "name": "stderr",
     "output_type": "stream",
     "text": [
      "[I 2024-11-19 02:11:36,039] Trial 300 finished with value: 0.051779185813949954 and parameters: {'topK': 28, 'alpha': 0.2547827080020546, 'normalize_similarity': True, 'implicit': False}. Best is trial 128 with value: 0.05332611477891539.\n"
     ]
    },
    {
     "name": "stdout",
     "output_type": "stream",
     "text": [
      "P3alphaRecommender: Similarity column 38121 (100.0%), 2093.78 column/sec. Elapsed time 18.21 sec\n",
      "EvaluatorHoldout: Processed 35595 (100.0%) in 28.48 sec. Users per second: 1250\n"
     ]
    },
    {
     "name": "stderr",
     "output_type": "stream",
     "text": [
      "[I 2024-11-19 02:12:25,951] Trial 301 finished with value: 0.04749448937227959 and parameters: {'topK': 94, 'alpha': 0.43296622140538715, 'normalize_similarity': True, 'implicit': False}. Best is trial 128 with value: 0.05332611477891539.\n"
     ]
    },
    {
     "name": "stdout",
     "output_type": "stream",
     "text": [
      "P3alphaRecommender: Similarity column 38121 (100.0%), 2299.85 column/sec. Elapsed time 16.58 sec\n",
      "EvaluatorHoldout: Processed 35595 (100.0%) in 30.41 sec. Users per second: 1170\n"
     ]
    },
    {
     "name": "stderr",
     "output_type": "stream",
     "text": [
      "[I 2024-11-19 02:13:15,032] Trial 302 finished with value: 0.049879420598129186 and parameters: {'topK': 54, 'alpha': 0.3887147334625776, 'normalize_similarity': True, 'implicit': False}. Best is trial 128 with value: 0.05332611477891539.\n"
     ]
    },
    {
     "name": "stdout",
     "output_type": "stream",
     "text": [
      "P3alphaRecommender: Similarity column 38121 (100.0%), 3600.35 column/sec. Elapsed time 10.59 sec\n",
      "EvaluatorHoldout: Processed 35595 (100.0%) in 23.16 sec. Users per second: 1537\n"
     ]
    },
    {
     "name": "stderr",
     "output_type": "stream",
     "text": [
      "[I 2024-11-19 02:13:49,052] Trial 303 finished with value: 0.00028209999175022335 and parameters: {'topK': 0, 'alpha': 0.29543461792325504, 'normalize_similarity': True, 'implicit': False}. Best is trial 128 with value: 0.05332611477891539.\n"
     ]
    },
    {
     "name": "stdout",
     "output_type": "stream",
     "text": [
      "P3alphaRecommender: Similarity column 38121 (100.0%), 3596.00 column/sec. Elapsed time 10.60 sec\n",
      "EvaluatorHoldout: Processed 35595 (100.0%) in 23.46 sec. Users per second: 1517\n"
     ]
    },
    {
     "name": "stderr",
     "output_type": "stream",
     "text": [
      "[I 2024-11-19 02:14:23,392] Trial 304 finished with value: 0.00028209999175022335 and parameters: {'topK': 0, 'alpha': 0.36030909335271916, 'normalize_similarity': True, 'implicit': True}. Best is trial 128 with value: 0.05332611477891539.\n"
     ]
    },
    {
     "name": "stdout",
     "output_type": "stream",
     "text": [
      "P3alphaRecommender: Similarity column 38121 (100.0%), 2232.65 column/sec. Elapsed time 17.07 sec\n",
      "EvaluatorHoldout: Processed 35595 (100.0%) in 31.53 sec. Users per second: 1129\n"
     ]
    },
    {
     "name": "stderr",
     "output_type": "stream",
     "text": [
      "[I 2024-11-19 02:15:14,731] Trial 305 finished with value: 0.04657031039226405 and parameters: {'topK': 67, 'alpha': 1.1872465016868285, 'normalize_similarity': True, 'implicit': True}. Best is trial 128 with value: 0.05332611477891539.\n"
     ]
    },
    {
     "name": "stdout",
     "output_type": "stream",
     "text": [
      "P3alphaRecommender: Similarity column 38121 (100.0%), 2425.21 column/sec. Elapsed time 15.72 sec\n",
      "EvaluatorHoldout: Processed 35595 (100.0%) in 29.61 sec. Users per second: 1202\n"
     ]
    },
    {
     "name": "stderr",
     "output_type": "stream",
     "text": [
      "[I 2024-11-19 02:16:01,549] Trial 306 finished with value: 0.03876394490932908 and parameters: {'topK': 31, 'alpha': 0.31385200076800723, 'normalize_similarity': False, 'implicit': True}. Best is trial 128 with value: 0.05332611477891539.\n"
     ]
    },
    {
     "name": "stdout",
     "output_type": "stream",
     "text": [
      "P3alphaRecommender: Similarity column 38121 (100.0%), 1053.30 column/sec. Elapsed time 36.19 sec\n",
      "EvaluatorHoldout: Processed 35595 (100.0%) in 41.16 sec. Users per second: 865\n"
     ]
    },
    {
     "name": "stderr",
     "output_type": "stream",
     "text": [
      "[I 2024-11-19 02:17:36,444] Trial 307 finished with value: 0.037077098620502395 and parameters: {'topK': 542, 'alpha': 0.4113937860947464, 'normalize_similarity': True, 'implicit': False}. Best is trial 128 with value: 0.05332611477891539.\n"
     ]
    },
    {
     "name": "stdout",
     "output_type": "stream",
     "text": [
      "P3alphaRecommender: Similarity column 38121 (100.0%), 2363.98 column/sec. Elapsed time 16.13 sec\n",
      "EvaluatorHoldout: Processed 35595 (100.0%) in 30.35 sec. Users per second: 1173\n"
     ]
    },
    {
     "name": "stderr",
     "output_type": "stream",
     "text": [
      "[I 2024-11-19 02:18:24,801] Trial 308 finished with value: 0.05060362722604427 and parameters: {'topK': 45, 'alpha': 0.44247716752484684, 'normalize_similarity': True, 'implicit': True}. Best is trial 128 with value: 0.05332611477891539.\n"
     ]
    },
    {
     "name": "stdout",
     "output_type": "stream",
     "text": [
      "P3alphaRecommender: Similarity column 38121 (100.0%), 2040.91 column/sec. Elapsed time 18.68 sec\n",
      "EvaluatorHoldout: Processed 35595 (100.0%) in 28.58 sec. Users per second: 1245\n"
     ]
    },
    {
     "name": "stderr",
     "output_type": "stream",
     "text": [
      "[I 2024-11-19 02:19:15,360] Trial 309 finished with value: 0.04727254697355697 and parameters: {'topK': 96, 'alpha': 0.34948112738576437, 'normalize_similarity': True, 'implicit': True}. Best is trial 128 with value: 0.05332611477891539.\n"
     ]
    },
    {
     "name": "stdout",
     "output_type": "stream",
     "text": [
      "P3alphaRecommender: Similarity column 38121 (100.0%), 2474.41 column/sec. Elapsed time 15.41 sec\n",
      "EvaluatorHoldout: Processed 35595 (100.0%) in 28.92 sec. Users per second: 1231\n"
     ]
    },
    {
     "name": "stderr",
     "output_type": "stream",
     "text": [
      "[I 2024-11-19 02:20:00,989] Trial 310 finished with value: 0.05246207778424221 and parameters: {'topK': 23, 'alpha': 0.3895242365689868, 'normalize_similarity': True, 'implicit': True}. Best is trial 128 with value: 0.05332611477891539.\n"
     ]
    },
    {
     "name": "stdout",
     "output_type": "stream",
     "text": [
      "P3alphaRecommender: Similarity column 38121 (100.0%), 3598.14 column/sec. Elapsed time 10.59 sec\n",
      "EvaluatorHoldout: Processed 35595 (100.0%) in 23.26 sec. Users per second: 1531\n"
     ]
    },
    {
     "name": "stderr",
     "output_type": "stream",
     "text": [
      "[I 2024-11-19 02:20:35,123] Trial 311 finished with value: 0.00028209999175022335 and parameters: {'topK': 0, 'alpha': 0.5619613258347875, 'normalize_similarity': True, 'implicit': True}. Best is trial 128 with value: 0.05332611477891539.\n"
     ]
    },
    {
     "name": "stdout",
     "output_type": "stream",
     "text": [
      "P3alphaRecommender: Similarity column 38121 (100.0%), 2228.19 column/sec. Elapsed time 17.11 sec\n",
      "EvaluatorHoldout: Processed 35595 (100.0%) in 30.80 sec. Users per second: 1156\n"
     ]
    },
    {
     "name": "stderr",
     "output_type": "stream",
     "text": [
      "[I 2024-11-19 02:21:25,495] Trial 312 finished with value: 0.048637823664370666 and parameters: {'topK': 68, 'alpha': 0.23070070410600996, 'normalize_similarity': True, 'implicit': True}. Best is trial 128 with value: 0.05332611477891539.\n"
     ]
    },
    {
     "name": "stdout",
     "output_type": "stream",
     "text": [
      "P3alphaRecommender: Similarity column 38121 (100.0%), 2441.64 column/sec. Elapsed time 15.61 sec\n",
      "EvaluatorHoldout: Processed 35595 (100.0%) in 29.33 sec. Users per second: 1214\n"
     ]
    },
    {
     "name": "stderr",
     "output_type": "stream",
     "text": [
      "[I 2024-11-19 02:22:11,917] Trial 313 finished with value: 0.0515219455202582 and parameters: {'topK': 31, 'alpha': 0.31725525137738697, 'normalize_similarity': True, 'implicit': True}. Best is trial 128 with value: 0.05332611477891539.\n"
     ]
    },
    {
     "name": "stdout",
     "output_type": "stream",
     "text": [
      "P3alphaRecommender: Similarity column 38121 (100.0%), 2301.57 column/sec. Elapsed time 16.56 sec\n",
      "EvaluatorHoldout: Processed 35595 (100.0%) in 30.36 sec. Users per second: 1172\n"
     ]
    },
    {
     "name": "stderr",
     "output_type": "stream",
     "text": [
      "[I 2024-11-19 02:23:00,932] Trial 314 finished with value: 0.05002795447906943 and parameters: {'topK': 51, 'alpha': 0.46450434462802187, 'normalize_similarity': True, 'implicit': True}. Best is trial 128 with value: 0.05332611477891539.\n"
     ]
    },
    {
     "name": "stdout",
     "output_type": "stream",
     "text": [
      "P3alphaRecommender: Similarity column 38121 (100.0%), 2165.58 column/sec. Elapsed time 17.60 sec\n",
      "EvaluatorHoldout: Processed 35595 (100.0%) in 31.04 sec. Users per second: 1147\n"
     ]
    },
    {
     "name": "stderr",
     "output_type": "stream",
     "text": [
      "[I 2024-11-19 02:23:52,336] Trial 315 finished with value: 0.04818269241488607 and parameters: {'topK': 78, 'alpha': 0.2742145603812486, 'normalize_similarity': True, 'implicit': True}. Best is trial 128 with value: 0.05332611477891539.\n"
     ]
    },
    {
     "name": "stdout",
     "output_type": "stream",
     "text": [
      "P3alphaRecommender: Similarity column 38121 (100.0%), 2456.49 column/sec. Elapsed time 15.52 sec\n",
      "EvaluatorHoldout: Processed 35595 (100.0%) in 29.06 sec. Users per second: 1225\n"
     ]
    },
    {
     "name": "stderr",
     "output_type": "stream",
     "text": [
      "[I 2024-11-19 02:24:38,340] Trial 316 finished with value: 0.05219580732981291 and parameters: {'topK': 26, 'alpha': 0.3968006769396318, 'normalize_similarity': True, 'implicit': True}. Best is trial 128 with value: 0.05332611477891539.\n"
     ]
    },
    {
     "name": "stdout",
     "output_type": "stream",
     "text": [
      "P3alphaRecommender: Similarity column 38121 (100.0%), 1374.89 column/sec. Elapsed time 27.73 sec\n",
      "EvaluatorHoldout: Processed 35595 (100.0%) in 37.21 sec. Users per second: 957\n"
     ]
    },
    {
     "name": "stderr",
     "output_type": "stream",
     "text": [
      "[I 2024-11-19 02:25:53,814] Trial 317 finished with value: 0.03978236755206695 and parameters: {'topK': 331, 'alpha': 0.3602187761597358, 'normalize_similarity': True, 'implicit': False}. Best is trial 128 with value: 0.05332611477891539.\n"
     ]
    },
    {
     "name": "stdout",
     "output_type": "stream",
     "text": [
      "P3alphaRecommender: Similarity column 38121 (100.0%), 1174.40 column/sec. Elapsed time 32.46 sec\n",
      "EvaluatorHoldout: Processed 35595 (100.0%) in 39.61 sec. Users per second: 899\n"
     ]
    },
    {
     "name": "stderr",
     "output_type": "stream",
     "text": [
      "[I 2024-11-19 02:27:20,507] Trial 318 finished with value: 0.03836120865914232 and parameters: {'topK': 447, 'alpha': 0.5060640017225834, 'normalize_similarity': True, 'implicit': True}. Best is trial 128 with value: 0.05332611477891539.\n"
     ]
    },
    {
     "name": "stdout",
     "output_type": "stream",
     "text": [
      "P3alphaRecommender: Similarity column 38121 (100.0%), 2038.62 column/sec. Elapsed time 18.70 sec\n",
      "EvaluatorHoldout: Processed 35595 (100.0%) in 28.72 sec. Users per second: 1239\n"
     ]
    },
    {
     "name": "stderr",
     "output_type": "stream",
     "text": [
      "[I 2024-11-19 02:28:11,404] Trial 319 finished with value: 0.04602881513142628 and parameters: {'topK': 108, 'alpha': 0.1649918824568129, 'normalize_similarity': True, 'implicit': True}. Best is trial 128 with value: 0.05332611477891539.\n"
     ]
    },
    {
     "name": "stdout",
     "output_type": "stream",
     "text": [
      "P3alphaRecommender: Similarity column 38121 (100.0%), 757.62 column/sec. Elapsed time 50.32 sec\n",
      "EvaluatorHoldout: Processed 35595 (100.0%) in 46.96 sec. Users per second: 758\n"
     ]
    },
    {
     "name": "stderr",
     "output_type": "stream",
     "text": [
      "[I 2024-11-19 02:30:18,649] Trial 320 finished with value: 0.03457975304182526 and parameters: {'topK': 909, 'alpha': 0.4298261332336075, 'normalize_similarity': True, 'implicit': True}. Best is trial 128 with value: 0.05332611477891539.\n"
     ]
    },
    {
     "name": "stdout",
     "output_type": "stream",
     "text": [
      "P3alphaRecommender: Similarity column 38121 (100.0%), 2475.66 column/sec. Elapsed time 15.40 sec\n",
      "EvaluatorHoldout: Processed 35595 (100.0%) in 28.84 sec. Users per second: 1234\n"
     ]
    },
    {
     "name": "stderr",
     "output_type": "stream",
     "text": [
      "[I 2024-11-19 02:31:04,184] Trial 321 finished with value: 0.052395876672529054 and parameters: {'topK': 23, 'alpha': 0.322468454393874, 'normalize_similarity': True, 'implicit': True}. Best is trial 128 with value: 0.05332611477891539.\n"
     ]
    },
    {
     "name": "stdout",
     "output_type": "stream",
     "text": [
      "P3alphaRecommender: Similarity column 38121 (100.0%), 3654.03 column/sec. Elapsed time 10.43 sec\n",
      "EvaluatorHoldout: Processed 35595 (100.0%) in 23.35 sec. Users per second: 1525\n"
     ]
    },
    {
     "name": "stderr",
     "output_type": "stream",
     "text": [
      "[I 2024-11-19 02:31:38,235] Trial 322 finished with value: 0.00028209999175022335 and parameters: {'topK': 0, 'alpha': 0.26094198481664704, 'normalize_similarity': True, 'implicit': True}. Best is trial 128 with value: 0.05332611477891539.\n"
     ]
    },
    {
     "name": "stdout",
     "output_type": "stream",
     "text": [
      "P3alphaRecommender: Similarity column 38121 (100.0%), 2321.27 column/sec. Elapsed time 16.42 sec\n",
      "EvaluatorHoldout: Processed 35595 (100.0%) in 30.41 sec. Users per second: 1171\n"
     ]
    },
    {
     "name": "stderr",
     "output_type": "stream",
     "text": [
      "[I 2024-11-19 02:32:27,107] Trial 323 finished with value: 0.04996866645707577 and parameters: {'topK': 52, 'alpha': 0.3103334177743994, 'normalize_similarity': True, 'implicit': True}. Best is trial 128 with value: 0.05332611477891539.\n"
     ]
    },
    {
     "name": "stdout",
     "output_type": "stream",
     "text": [
      "P3alphaRecommender: Similarity column 38121 (100.0%), 2498.36 column/sec. Elapsed time 15.26 sec\n",
      "EvaluatorHoldout: Processed 35595 (100.0%) in 28.88 sec. Users per second: 1233\n"
     ]
    },
    {
     "name": "stderr",
     "output_type": "stream",
     "text": [
      "[I 2024-11-19 02:33:12,557] Trial 324 finished with value: 0.0519453965132412 and parameters: {'topK': 25, 'alpha': 0.21446494037122577, 'normalize_similarity': True, 'implicit': True}. Best is trial 128 with value: 0.05332611477891539.\n"
     ]
    },
    {
     "name": "stdout",
     "output_type": "stream",
     "text": [
      "P3alphaRecommender: Similarity column 38121 (100.0%), 2224.96 column/sec. Elapsed time 17.13 sec\n",
      "EvaluatorHoldout: Processed 35595 (100.0%) in 30.99 sec. Users per second: 1149\n"
     ]
    },
    {
     "name": "stderr",
     "output_type": "stream",
     "text": [
      "[I 2024-11-19 02:34:03,250] Trial 325 finished with value: 0.04871469262893438 and parameters: {'topK': 71, 'alpha': 0.34550368534798137, 'normalize_similarity': True, 'implicit': False}. Best is trial 128 with value: 0.05332611477891539.\n"
     ]
    },
    {
     "name": "stdout",
     "output_type": "stream",
     "text": [
      "P3alphaRecommender: Similarity column 38121 (100.0%), 2329.48 column/sec. Elapsed time 16.36 sec\n",
      "EvaluatorHoldout: Processed 35595 (100.0%) in 30.32 sec. Users per second: 1174\n"
     ]
    },
    {
     "name": "stderr",
     "output_type": "stream",
     "text": [
      "[I 2024-11-19 02:34:51,809] Trial 326 finished with value: 0.03746207109523434 and parameters: {'topK': 46, 'alpha': 0.2866871192743738, 'normalize_similarity': False, 'implicit': True}. Best is trial 128 with value: 0.05332611477891539.\n"
     ]
    },
    {
     "name": "stdout",
     "output_type": "stream",
     "text": [
      "P3alphaRecommender: Similarity column 38121 (100.0%), 1908.85 column/sec. Elapsed time 19.97 sec\n",
      "EvaluatorHoldout: Processed 35595 (100.0%) in 29.43 sec. Users per second: 1210\n"
     ]
    },
    {
     "name": "stderr",
     "output_type": "stream",
     "text": [
      "[I 2024-11-19 02:35:45,597] Trial 327 finished with value: 0.04544820032240853 and parameters: {'topK': 136, 'alpha': 0.37422014903270095, 'normalize_similarity': True, 'implicit': True}. Best is trial 128 with value: 0.05332611477891539.\n"
     ]
    },
    {
     "name": "stdout",
     "output_type": "stream",
     "text": [
      "P3alphaRecommender: Similarity column 38121 (100.0%), 2468.62 column/sec. Elapsed time 15.44 sec\n",
      "EvaluatorHoldout: Processed 35595 (100.0%) in 28.92 sec. Users per second: 1231\n"
     ]
    },
    {
     "name": "stderr",
     "output_type": "stream",
     "text": [
      "[I 2024-11-19 02:36:31,292] Trial 328 finished with value: 0.05208572967043062 and parameters: {'topK': 25, 'alpha': 0.24091190670221374, 'normalize_similarity': True, 'implicit': True}. Best is trial 128 with value: 0.05332611477891539.\n"
     ]
    },
    {
     "name": "stdout",
     "output_type": "stream",
     "text": [
      "P3alphaRecommender: Similarity column 38121 (100.0%), 2164.28 column/sec. Elapsed time 17.61 sec\n",
      "EvaluatorHoldout: Processed 35595 (100.0%) in 31.21 sec. Users per second: 1140\n"
     ]
    },
    {
     "name": "stderr",
     "output_type": "stream",
     "text": [
      "[I 2024-11-19 02:37:23,089] Trial 329 finished with value: 0.04795510003411214 and parameters: {'topK': 83, 'alpha': 0.3327551478682975, 'normalize_similarity': True, 'implicit': True}. Best is trial 128 with value: 0.05332611477891539.\n"
     ]
    },
    {
     "name": "stdout",
     "output_type": "stream",
     "text": [
      "P3alphaRecommender: Similarity column 38121 (100.0%), 2502.01 column/sec. Elapsed time 15.24 sec\n",
      "EvaluatorHoldout: Processed 35595 (100.0%) in 28.77 sec. Users per second: 1237\n"
     ]
    },
    {
     "name": "stderr",
     "output_type": "stream",
     "text": [
      "[I 2024-11-19 02:38:08,410] Trial 330 finished with value: 0.05260537305712022 and parameters: {'topK': 21, 'alpha': 0.4515996785354847, 'normalize_similarity': True, 'implicit': True}. Best is trial 128 with value: 0.05332611477891539.\n"
     ]
    },
    {
     "name": "stdout",
     "output_type": "stream",
     "text": [
      "P3alphaRecommender: Similarity column 38121 (100.0%), 2324.23 column/sec. Elapsed time 16.40 sec\n",
      "EvaluatorHoldout: Processed 35595 (100.0%) in 31.24 sec. Users per second: 1140\n"
     ]
    },
    {
     "name": "stderr",
     "output_type": "stream",
     "text": [
      "[I 2024-11-19 02:38:58,333] Trial 331 finished with value: 0.04701988976514723 and parameters: {'topK': 49, 'alpha': 1.3168392471567434, 'normalize_similarity': True, 'implicit': True}. Best is trial 128 with value: 0.05332611477891539.\n"
     ]
    },
    {
     "name": "stdout",
     "output_type": "stream",
     "text": [
      "P3alphaRecommender: Similarity column 38121 (100.0%), 3567.27 column/sec. Elapsed time 10.69 sec\n",
      "EvaluatorHoldout: Processed 35595 (100.0%) in 23.23 sec. Users per second: 1533\n"
     ]
    },
    {
     "name": "stderr",
     "output_type": "stream",
     "text": [
      "[I 2024-11-19 02:39:32,543] Trial 332 finished with value: 0.00028209999175022335 and parameters: {'topK': 0, 'alpha': 0.4994067099116061, 'normalize_similarity': True, 'implicit': False}. Best is trial 128 with value: 0.05332611477891539.\n"
     ]
    },
    {
     "name": "stdout",
     "output_type": "stream",
     "text": [
      "P3alphaRecommender: Similarity column 38121 (100.0%), 624.55 column/sec. Elapsed time 1.02 min\n",
      "EvaluatorHoldout: Processed 35595 (100.0%) in 51.05 sec. Users per second: 697\n"
     ]
    },
    {
     "name": "stderr",
     "output_type": "stream",
     "text": [
      "[I 2024-11-19 02:42:04,332] Trial 333 finished with value: 0.033338990004391375 and parameters: {'topK': 1236, 'alpha': 0.444888386398224, 'normalize_similarity': True, 'implicit': True}. Best is trial 128 with value: 0.05332611477891539.\n"
     ]
    },
    {
     "name": "stdout",
     "output_type": "stream",
     "text": [
      "P3alphaRecommender: Similarity column 38121 (100.0%), 2095.80 column/sec. Elapsed time 18.19 sec\n",
      "EvaluatorHoldout: Processed 35595 (100.0%) in 28.74 sec. Users per second: 1238\n"
     ]
    },
    {
     "name": "stderr",
     "output_type": "stream",
     "text": [
      "[I 2024-11-19 02:42:54,662] Trial 334 finished with value: 0.04733282385389265 and parameters: {'topK': 97, 'alpha': 0.5884272179459519, 'normalize_similarity': True, 'implicit': True}. Best is trial 128 with value: 0.05332611477891539.\n"
     ]
    },
    {
     "name": "stdout",
     "output_type": "stream",
     "text": [
      "P3alphaRecommender: Similarity column 38121 (100.0%), 2458.35 column/sec. Elapsed time 15.51 sec\n",
      "EvaluatorHoldout: Processed 35595 (100.0%) in 29.21 sec. Users per second: 1218\n"
     ]
    },
    {
     "name": "stderr",
     "output_type": "stream",
     "text": [
      "[I 2024-11-19 02:43:40,783] Trial 335 finished with value: 0.052150820406823534 and parameters: {'topK': 26, 'alpha': 0.545520686501803, 'normalize_similarity': True, 'implicit': True}. Best is trial 128 with value: 0.05332611477891539.\n"
     ]
    },
    {
     "name": "stdout",
     "output_type": "stream",
     "text": [
      "P3alphaRecommender: Similarity column 38121 (100.0%), 2242.18 column/sec. Elapsed time 17.00 sec\n",
      "EvaluatorHoldout: Processed 35595 (100.0%) in 30.91 sec. Users per second: 1152\n"
     ]
    },
    {
     "name": "stderr",
     "output_type": "stream",
     "text": [
      "[I 2024-11-19 02:44:30,998] Trial 336 finished with value: 0.04947184596552289 and parameters: {'topK': 60, 'alpha': 0.4043766081301982, 'normalize_similarity': True, 'implicit': True}. Best is trial 128 with value: 0.05332611477891539.\n"
     ]
    },
    {
     "name": "stdout",
     "output_type": "stream",
     "text": [
      "P3alphaRecommender: Similarity column 38121 (100.0%), 2475.89 column/sec. Elapsed time 15.40 sec\n",
      "EvaluatorHoldout: Processed 35595 (100.0%) in 29.04 sec. Users per second: 1226\n"
     ]
    },
    {
     "name": "stderr",
     "output_type": "stream",
     "text": [
      "[I 2024-11-19 02:45:16,760] Trial 337 finished with value: 0.05247523060354756 and parameters: {'topK': 23, 'alpha': 0.46569968008483287, 'normalize_similarity': True, 'implicit': True}. Best is trial 128 with value: 0.05332611477891539.\n"
     ]
    },
    {
     "name": "stdout",
     "output_type": "stream",
     "text": [
      "P3alphaRecommender: Similarity column 38121 (100.0%), 2315.98 column/sec. Elapsed time 16.46 sec\n",
      "EvaluatorHoldout: Processed 35595 (100.0%) in 31.49 sec. Users per second: 1130\n"
     ]
    },
    {
     "name": "stderr",
     "output_type": "stream",
     "text": [
      "[I 2024-11-19 02:46:06,910] Trial 338 finished with value: 0.045416497769214054 and parameters: {'topK': 49, 'alpha': 1.610300968057552, 'normalize_similarity': True, 'implicit': False}. Best is trial 128 with value: 0.05332611477891539.\n"
     ]
    },
    {
     "name": "stdout",
     "output_type": "stream",
     "text": [
      "P3alphaRecommender: Similarity column 38121 (100.0%), 2472.56 column/sec. Elapsed time 15.42 sec\n",
      "EvaluatorHoldout: Processed 35595 (100.0%) in 28.99 sec. Users per second: 1228\n"
     ]
    },
    {
     "name": "stderr",
     "output_type": "stream",
     "text": [
      "[I 2024-11-19 02:46:52,646] Trial 339 finished with value: 0.052426726377209174 and parameters: {'topK': 23, 'alpha': 0.5068580876435377, 'normalize_similarity': True, 'implicit': True}. Best is trial 128 with value: 0.05332611477891539.\n"
     ]
    },
    {
     "name": "stdout",
     "output_type": "stream",
     "text": [
      "P3alphaRecommender: Similarity column 38121 (100.0%), 936.80 column/sec. Elapsed time 40.69 sec\n",
      "EvaluatorHoldout: Processed 35595 (100.0%) in 43.17 sec. Users per second: 824\n"
     ]
    },
    {
     "name": "stderr",
     "output_type": "stream",
     "text": [
      "[I 2024-11-19 02:48:37,841] Trial 340 finished with value: 0.036485482623070824 and parameters: {'topK': 643, 'alpha': 0.5233466650874534, 'normalize_similarity': True, 'implicit': True}. Best is trial 128 with value: 0.05332611477891539.\n"
     ]
    },
    {
     "name": "stdout",
     "output_type": "stream",
     "text": [
      "P3alphaRecommender: Similarity column 38121 (100.0%), 2189.19 column/sec. Elapsed time 17.41 sec\n",
      "EvaluatorHoldout: Processed 35595 (100.0%) in 31.32 sec. Users per second: 1136\n"
     ]
    },
    {
     "name": "stderr",
     "output_type": "stream",
     "text": [
      "[I 2024-11-19 02:49:29,330] Trial 341 finished with value: 0.0484599885840909 and parameters: {'topK': 76, 'alpha': 0.47492219345403436, 'normalize_similarity': True, 'implicit': True}. Best is trial 128 with value: 0.05332611477891539.\n"
     ]
    },
    {
     "name": "stdout",
     "output_type": "stream",
     "text": [
      "P3alphaRecommender: Similarity column 38121 (100.0%), 1998.15 column/sec. Elapsed time 19.08 sec\n",
      "EvaluatorHoldout: Processed 35595 (100.0%) in 29.22 sec. Users per second: 1218\n"
     ]
    },
    {
     "name": "stderr",
     "output_type": "stream",
     "text": [
      "[I 2024-11-19 02:50:21,469] Trial 342 finished with value: 0.0467000258641622 and parameters: {'topK': 111, 'alpha': 0.46329020567118795, 'normalize_similarity': True, 'implicit': True}. Best is trial 128 with value: 0.05332611477891539.\n"
     ]
    },
    {
     "name": "stdout",
     "output_type": "stream",
     "text": [
      "P3alphaRecommender: Similarity column 38121 (100.0%), 2690.56 column/sec. Elapsed time 14.17 sec\n",
      "EvaluatorHoldout: Processed 35595 (100.0%) in 25.73 sec. Users per second: 1383\n"
     ]
    },
    {
     "name": "stderr",
     "output_type": "stream",
     "text": [
      "[I 2024-11-19 02:51:02,237] Trial 343 finished with value: 0.036345720261226774 and parameters: {'topK': 2, 'alpha': 0.5275834236041691, 'normalize_similarity': True, 'implicit': True}. Best is trial 128 with value: 0.05332611477891539.\n"
     ]
    },
    {
     "name": "stdout",
     "output_type": "stream",
     "text": [
      "P3alphaRecommender: Similarity column 38121 (100.0%), 2368.20 column/sec. Elapsed time 16.10 sec\n",
      "EvaluatorHoldout: Processed 35595 (100.0%) in 30.03 sec. Users per second: 1185\n"
     ]
    },
    {
     "name": "stderr",
     "output_type": "stream",
     "text": [
      "[I 2024-11-19 02:51:50,254] Trial 344 finished with value: 0.05075054682639847 and parameters: {'topK': 43, 'alpha': 0.4818163965524806, 'normalize_similarity': True, 'implicit': True}. Best is trial 128 with value: 0.05332611477891539.\n"
     ]
    },
    {
     "name": "stdout",
     "output_type": "stream",
     "text": [
      "P3alphaRecommender: Similarity column 38121 (100.0%), 3620.02 column/sec. Elapsed time 10.53 sec\n",
      "EvaluatorHoldout: Processed 35595 (100.0%) in 23.43 sec. Users per second: 1519\n"
     ]
    },
    {
     "name": "stderr",
     "output_type": "stream",
     "text": [
      "[I 2024-11-19 02:52:24,491] Trial 345 finished with value: 0.00028209999175022335 and parameters: {'topK': 0, 'alpha': 0.6183172778217281, 'normalize_similarity': True, 'implicit': False}. Best is trial 128 with value: 0.05332611477891539.\n"
     ]
    },
    {
     "name": "stdout",
     "output_type": "stream",
     "text": [
      "P3alphaRecommender: Similarity column 38121 (100.0%), 854.89 column/sec. Elapsed time 44.59 sec\n",
      "EvaluatorHoldout: Processed 35595 (100.0%) in 45.35 sec. Users per second: 785\n"
     ]
    },
    {
     "name": "stderr",
     "output_type": "stream",
     "text": [
      "[I 2024-11-19 02:54:19,551] Trial 346 finished with value: 0.03197221720546533 and parameters: {'topK': 752, 'alpha': 0.44825081073678547, 'normalize_similarity': False, 'implicit': True}. Best is trial 128 with value: 0.05332611477891539.\n"
     ]
    },
    {
     "name": "stdout",
     "output_type": "stream",
     "text": [
      "P3alphaRecommender: Similarity column 38121 (100.0%), 2204.97 column/sec. Elapsed time 17.29 sec\n",
      "EvaluatorHoldout: Processed 35595 (100.0%) in 31.41 sec. Users per second: 1133\n"
     ]
    },
    {
     "name": "stderr",
     "output_type": "stream",
     "text": [
      "[I 2024-11-19 02:55:10,941] Trial 347 finished with value: 0.04860630171439076 and parameters: {'topK': 74, 'alpha': 0.5071442585846713, 'normalize_similarity': True, 'implicit': True}. Best is trial 128 with value: 0.05332611477891539.\n"
     ]
    },
    {
     "name": "stdout",
     "output_type": "stream",
     "text": [
      "P3alphaRecommender: Similarity column 38121 (100.0%), 2416.15 column/sec. Elapsed time 15.78 sec\n",
      "EvaluatorHoldout: Processed 35595 (100.0%) in 29.59 sec. Users per second: 1203\n"
     ]
    },
    {
     "name": "stderr",
     "output_type": "stream",
     "text": [
      "[I 2024-11-19 02:55:57,876] Trial 348 finished with value: 0.051541691471736276 and parameters: {'topK': 33, 'alpha': 0.4276399049573996, 'normalize_similarity': True, 'implicit': True}. Best is trial 128 with value: 0.05332611477891539.\n"
     ]
    },
    {
     "name": "stdout",
     "output_type": "stream",
     "text": [
      "P3alphaRecommender: Similarity column 38121 (100.0%), 2292.08 column/sec. Elapsed time 16.63 sec\n",
      "EvaluatorHoldout: Processed 35595 (100.0%) in 30.58 sec. Users per second: 1164\n"
     ]
    },
    {
     "name": "stderr",
     "output_type": "stream",
     "text": [
      "[I 2024-11-19 02:56:47,188] Trial 349 finished with value: 0.04995664853945318 and parameters: {'topK': 53, 'alpha': 0.41917825437388695, 'normalize_similarity': True, 'implicit': True}. Best is trial 128 with value: 0.05332611477891539.\n"
     ]
    },
    {
     "name": "stdout",
     "output_type": "stream",
     "text": [
      "P3alphaRecommender: Similarity column 38121 (100.0%), 3608.66 column/sec. Elapsed time 10.56 sec\n",
      "EvaluatorHoldout: Processed 35595 (100.0%) in 23.33 sec. Users per second: 1526\n"
     ]
    },
    {
     "name": "stderr",
     "output_type": "stream",
     "text": [
      "[I 2024-11-19 02:57:21,357] Trial 350 finished with value: 0.00028209999175022335 and parameters: {'topK': 0, 'alpha': 0.469996131274689, 'normalize_similarity': True, 'implicit': True}. Best is trial 128 with value: 0.05332611477891539.\n"
     ]
    },
    {
     "name": "stdout",
     "output_type": "stream",
     "text": [
      "P3alphaRecommender: Similarity column 38121 (100.0%), 2467.41 column/sec. Elapsed time 15.45 sec\n",
      "EvaluatorHoldout: Processed 35595 (100.0%) in 29.17 sec. Users per second: 1220\n"
     ]
    },
    {
     "name": "stderr",
     "output_type": "stream",
     "text": [
      "[I 2024-11-19 02:58:07,348] Trial 351 finished with value: 0.0521768183510684 and parameters: {'topK': 26, 'alpha': 0.4057104527392775, 'normalize_similarity': True, 'implicit': False}. Best is trial 128 with value: 0.05332611477891539.\n"
     ]
    },
    {
     "name": "stdout",
     "output_type": "stream",
     "text": [
      "P3alphaRecommender: Similarity column 38121 (100.0%), 2140.46 column/sec. Elapsed time 17.81 sec\n",
      "EvaluatorHoldout: Processed 35595 (100.0%) in 31.64 sec. Users per second: 1125\n"
     ]
    },
    {
     "name": "stderr",
     "output_type": "stream",
     "text": [
      "[I 2024-11-19 02:58:59,807] Trial 352 finished with value: 0.04801235571252246 and parameters: {'topK': 83, 'alpha': 0.5563070903382265, 'normalize_similarity': True, 'implicit': True}. Best is trial 128 with value: 0.05332611477891539.\n"
     ]
    },
    {
     "name": "stdout",
     "output_type": "stream",
     "text": [
      "P3alphaRecommender: Similarity column 38121 (100.0%), 1973.52 column/sec. Elapsed time 19.32 sec\n",
      "EvaluatorHoldout: Processed 35595 (100.0%) in 29.47 sec. Users per second: 1208\n"
     ]
    },
    {
     "name": "stderr",
     "output_type": "stream",
     "text": [
      "[I 2024-11-19 02:59:52,575] Trial 353 finished with value: 0.046422884656974785 and parameters: {'topK': 116, 'alpha': 0.49819795894659635, 'normalize_similarity': True, 'implicit': True}. Best is trial 128 with value: 0.05332611477891539.\n"
     ]
    },
    {
     "name": "stdout",
     "output_type": "stream",
     "text": [
      "P3alphaRecommender: Similarity column 38121 (100.0%), 2262.70 column/sec. Elapsed time 16.85 sec\n",
      "EvaluatorHoldout: Processed 35595 (100.0%) in 30.47 sec. Users per second: 1168\n"
     ]
    },
    {
     "name": "stderr",
     "output_type": "stream",
     "text": [
      "[I 2024-11-19 03:00:41,956] Trial 354 finished with value: 0.05008759032947623 and parameters: {'topK': 51, 'alpha': 0.31836413315810785, 'normalize_similarity': True, 'implicit': True}. Best is trial 128 with value: 0.05332611477891539.\n"
     ]
    },
    {
     "name": "stdout",
     "output_type": "stream",
     "text": [
      "P3alphaRecommender: Similarity column 38121 (100.0%), 2452.64 column/sec. Elapsed time 15.54 sec\n",
      "EvaluatorHoldout: Processed 35595 (100.0%) in 29.33 sec. Users per second: 1214\n"
     ]
    },
    {
     "name": "stderr",
     "output_type": "stream",
     "text": [
      "[I 2024-11-19 03:01:28,246] Trial 355 finished with value: 0.05215775913774032 and parameters: {'topK': 27, 'alpha': 0.4415013844740518, 'normalize_similarity': True, 'implicit': True}. Best is trial 128 with value: 0.05332611477891539.\n"
     ]
    },
    {
     "name": "stdout",
     "output_type": "stream",
     "text": [
      "P3alphaRecommender: Similarity column 38121 (100.0%), 2186.78 column/sec. Elapsed time 17.43 sec\n",
      "EvaluatorHoldout: Processed 35595 (100.0%) in 31.19 sec. Users per second: 1141\n"
     ]
    },
    {
     "name": "stderr",
     "output_type": "stream",
     "text": [
      "[I 2024-11-19 03:02:19,501] Trial 356 finished with value: 0.048850682390292874 and parameters: {'topK': 70, 'alpha': 0.3796130305317524, 'normalize_similarity': True, 'implicit': True}. Best is trial 128 with value: 0.05332611477891539.\n"
     ]
    },
    {
     "name": "stdout",
     "output_type": "stream",
     "text": [
      "P3alphaRecommender: Similarity column 38121 (100.0%), 2475.34 column/sec. Elapsed time 15.40 sec\n",
      "EvaluatorHoldout: Processed 35595 (100.0%) in 29.76 sec. Users per second: 1196\n"
     ]
    },
    {
     "name": "stderr",
     "output_type": "stream",
     "text": [
      "[I 2024-11-19 03:03:06,106] Trial 357 finished with value: 0.046225776315112876 and parameters: {'topK': 23, 'alpha': 1.7733769181746493, 'normalize_similarity': True, 'implicit': True}. Best is trial 128 with value: 0.05332611477891539.\n"
     ]
    },
    {
     "name": "stdout",
     "output_type": "stream",
     "text": [
      "P3alphaRecommender: Similarity column 38121 (100.0%), 2327.93 column/sec. Elapsed time 16.38 sec\n",
      "EvaluatorHoldout: Processed 35595 (100.0%) in 30.20 sec. Users per second: 1179\n"
     ]
    },
    {
     "name": "stderr",
     "output_type": "stream",
     "text": [
      "[I 2024-11-19 03:03:54,643] Trial 358 finished with value: 0.050234154297574454 and parameters: {'topK': 48, 'alpha': 0.29486875365333176, 'normalize_similarity': True, 'implicit': False}. Best is trial 128 with value: 0.05332611477891539.\n"
     ]
    },
    {
     "name": "stdout",
     "output_type": "stream",
     "text": [
      "P3alphaRecommender: Similarity column 38121 (100.0%), 2112.53 column/sec. Elapsed time 18.05 sec\n",
      "EvaluatorHoldout: Processed 35595 (100.0%) in 28.41 sec. Users per second: 1253\n"
     ]
    },
    {
     "name": "stderr",
     "output_type": "stream",
     "text": [
      "[I 2024-11-19 03:04:44,184] Trial 359 finished with value: 0.04773716100664944 and parameters: {'topK': 88, 'alpha': 0.36253803830598513, 'normalize_similarity': True, 'implicit': True}. Best is trial 128 with value: 0.05332611477891539.\n"
     ]
    },
    {
     "name": "stdout",
     "output_type": "stream",
     "text": [
      "P3alphaRecommender: Similarity column 38121 (100.0%), 3773.07 column/sec. Elapsed time 10.10 sec\n",
      "EvaluatorHoldout: Processed 35595 (100.0%) in 25.09 sec. Users per second: 1419\n"
     ]
    },
    {
     "name": "stderr",
     "output_type": "stream",
     "text": [
      "[I 2024-11-19 03:05:20,171] Trial 360 finished with value: 0.020160677774879007 and parameters: {'topK': 1, 'alpha': 0.45206905123690627, 'normalize_similarity': True, 'implicit': True}. Best is trial 128 with value: 0.05332611477891539.\n"
     ]
    },
    {
     "name": "stdout",
     "output_type": "stream",
     "text": [
      "P3alphaRecommender: Similarity column 38121 (100.0%), 2324.99 column/sec. Elapsed time 16.40 sec\n",
      "EvaluatorHoldout: Processed 35595 (100.0%) in 30.42 sec. Users per second: 1170\n"
     ]
    },
    {
     "name": "stderr",
     "output_type": "stream",
     "text": [
      "[I 2024-11-19 03:06:08,897] Trial 361 finished with value: 0.05047799204899731 and parameters: {'topK': 46, 'alpha': 0.41733278431595094, 'normalize_similarity': True, 'implicit': True}. Best is trial 128 with value: 0.05332611477891539.\n"
     ]
    },
    {
     "name": "stdout",
     "output_type": "stream",
     "text": [
      "P3alphaRecommender: Similarity column 38121 (100.0%), 1827.21 column/sec. Elapsed time 20.86 sec\n",
      "EvaluatorHoldout: Processed 35595 (100.0%) in 30.21 sec. Users per second: 1178\n"
     ]
    },
    {
     "name": "stderr",
     "output_type": "stream",
     "text": [
      "[I 2024-11-19 03:07:04,885] Trial 362 finished with value: 0.044684072580194044 and parameters: {'topK': 151, 'alpha': 0.33153284981100256, 'normalize_similarity': True, 'implicit': True}. Best is trial 128 with value: 0.05332611477891539.\n"
     ]
    },
    {
     "name": "stdout",
     "output_type": "stream",
     "text": [
      "P3alphaRecommender: Similarity column 38121 (100.0%), 2466.87 column/sec. Elapsed time 15.45 sec\n",
      "EvaluatorHoldout: Processed 35595 (100.0%) in 29.01 sec. Users per second: 1227\n"
     ]
    },
    {
     "name": "stderr",
     "output_type": "stream",
     "text": [
      "[I 2024-11-19 03:07:50,718] Trial 363 finished with value: 0.05222890119666173 and parameters: {'topK': 24, 'alpha': 0.2667671302433653, 'normalize_similarity': True, 'implicit': True}. Best is trial 128 with value: 0.05332611477891539.\n"
     ]
    },
    {
     "name": "stdout",
     "output_type": "stream",
     "text": [
      "P3alphaRecommender: Similarity column 38121 (100.0%), 2212.44 column/sec. Elapsed time 17.23 sec\n",
      "EvaluatorHoldout: Processed 35595 (100.0%) in 31.59 sec. Users per second: 1127\n"
     ]
    },
    {
     "name": "stderr",
     "output_type": "stream",
     "text": [
      "[I 2024-11-19 03:08:42,438] Trial 364 finished with value: 0.0481755195686912 and parameters: {'topK': 71, 'alpha': 0.7499628891106458, 'normalize_similarity': True, 'implicit': False}. Best is trial 128 with value: 0.05332611477891539.\n"
     ]
    },
    {
     "name": "stdout",
     "output_type": "stream",
     "text": [
      "P3alphaRecommender: Similarity column 38121 (100.0%), 3614.71 column/sec. Elapsed time 10.55 sec\n",
      "EvaluatorHoldout: Processed 35595 (100.0%) in 23.54 sec. Users per second: 1512\n"
     ]
    },
    {
     "name": "stderr",
     "output_type": "stream",
     "text": [
      "[I 2024-11-19 03:09:16,812] Trial 365 finished with value: 0.00028209999175022335 and parameters: {'topK': 0, 'alpha': 0.699162926220687, 'normalize_similarity': True, 'implicit': True}. Best is trial 128 with value: 0.05332611477891539.\n"
     ]
    },
    {
     "name": "stdout",
     "output_type": "stream",
     "text": [
      "P3alphaRecommender: Similarity column 38121 (100.0%), 2421.45 column/sec. Elapsed time 15.74 sec\n",
      "EvaluatorHoldout: Processed 35595 (100.0%) in 30.16 sec. Users per second: 1180\n"
     ]
    },
    {
     "name": "stderr",
     "output_type": "stream",
     "text": [
      "[I 2024-11-19 03:10:04,224] Trial 366 finished with value: 0.04320552199903077 and parameters: {'topK': 29, 'alpha': 0.5029690231460112, 'normalize_similarity': False, 'implicit': True}. Best is trial 128 with value: 0.05332611477891539.\n"
     ]
    },
    {
     "name": "stdout",
     "output_type": "stream",
     "text": [
      "P3alphaRecommender: Similarity column 38121 (100.0%), 1975.56 column/sec. Elapsed time 19.30 sec\n",
      "EvaluatorHoldout: Processed 35595 (100.0%) in 29.20 sec. Users per second: 1219\n"
     ]
    },
    {
     "name": "stderr",
     "output_type": "stream",
     "text": [
      "[I 2024-11-19 03:10:56,506] Trial 367 finished with value: 0.04658697048140624 and parameters: {'topK': 113, 'alpha': 0.39265199838378584, 'normalize_similarity': True, 'implicit': True}. Best is trial 128 with value: 0.05332611477891539.\n"
     ]
    },
    {
     "name": "stdout",
     "output_type": "stream",
     "text": [
      "P3alphaRecommender: Similarity column 38121 (100.0%), 2252.26 column/sec. Elapsed time 16.93 sec\n",
      "EvaluatorHoldout: Processed 35595 (100.0%) in 30.90 sec. Users per second: 1152\n"
     ]
    },
    {
     "name": "stderr",
     "output_type": "stream",
     "text": [
      "[I 2024-11-19 03:11:46,585] Trial 368 finished with value: 0.04955498253053892 and parameters: {'topK': 59, 'alpha': 0.4563348311184297, 'normalize_similarity': True, 'implicit': True}. Best is trial 128 with value: 0.05332611477891539.\n"
     ]
    },
    {
     "name": "stdout",
     "output_type": "stream",
     "text": [
      "P3alphaRecommender: Similarity column 38121 (100.0%), 2491.81 column/sec. Elapsed time 15.30 sec\n",
      "EvaluatorHoldout: Processed 35595 (100.0%) in 28.97 sec. Users per second: 1229\n"
     ]
    },
    {
     "name": "stderr",
     "output_type": "stream",
     "text": [
      "[I 2024-11-19 03:12:32,145] Trial 369 finished with value: 0.05256432818948454 and parameters: {'topK': 22, 'alpha': 0.37756258360238104, 'normalize_similarity': True, 'implicit': True}. Best is trial 128 with value: 0.05332611477891539.\n"
     ]
    },
    {
     "name": "stdout",
     "output_type": "stream",
     "text": [
      "P3alphaRecommender: Similarity column 38121 (100.0%), 3632.61 column/sec. Elapsed time 10.49 sec\n",
      "EvaluatorHoldout: Processed 35595 (100.0%) in 23.49 sec. Users per second: 1515\n"
     ]
    },
    {
     "name": "stderr",
     "output_type": "stream",
     "text": [
      "[I 2024-11-19 03:13:06,408] Trial 370 finished with value: 0.00028209999175022335 and parameters: {'topK': 0, 'alpha': 0.34593586796010106, 'normalize_similarity': True, 'implicit': True}. Best is trial 128 with value: 0.05332611477891539.\n"
     ]
    },
    {
     "name": "stdout",
     "output_type": "stream",
     "text": [
      "P3alphaRecommender: Similarity column 38121 (100.0%), 1441.93 column/sec. Elapsed time 26.44 sec\n",
      "EvaluatorHoldout: Processed 35595 (100.0%) in 36.65 sec. Users per second: 971\n"
     ]
    },
    {
     "name": "stderr",
     "output_type": "stream",
     "text": [
      "[I 2024-11-19 03:14:19,079] Trial 371 finished with value: 0.04025088462130049 and parameters: {'topK': 297, 'alpha': 0.29110649538033406, 'normalize_similarity': True, 'implicit': False}. Best is trial 128 with value: 0.05332611477891539.\n"
     ]
    },
    {
     "name": "stdout",
     "output_type": "stream",
     "text": [
      "P3alphaRecommender: Similarity column 38121 (100.0%), 2292.19 column/sec. Elapsed time 16.63 sec\n",
      "EvaluatorHoldout: Processed 35595 (100.0%) in 30.63 sec. Users per second: 1162\n"
     ]
    },
    {
     "name": "stderr",
     "output_type": "stream",
     "text": [
      "[I 2024-11-19 03:15:08,410] Trial 372 finished with value: 0.049883052729447874 and parameters: {'topK': 52, 'alpha': 0.23986700174557915, 'normalize_similarity': True, 'implicit': True}. Best is trial 128 with value: 0.05332611477891539.\n"
     ]
    },
    {
     "name": "stdout",
     "output_type": "stream",
     "text": [
      "P3alphaRecommender: Similarity column 38121 (100.0%), 2117.03 column/sec. Elapsed time 18.01 sec\n",
      "EvaluatorHoldout: Processed 35595 (100.0%) in 28.76 sec. Users per second: 1238\n"
     ]
    },
    {
     "name": "stderr",
     "output_type": "stream",
     "text": [
      "[I 2024-11-19 03:15:58,291] Trial 373 finished with value: 0.04764695973440014 and parameters: {'topK': 89, 'alpha': 0.3704901377211149, 'normalize_similarity': True, 'implicit': True}. Best is trial 128 with value: 0.05332611477891539.\n"
     ]
    },
    {
     "name": "stdout",
     "output_type": "stream",
     "text": [
      "P3alphaRecommender: Similarity column 38121 (100.0%), 2363.24 column/sec. Elapsed time 16.13 sec\n",
      "EvaluatorHoldout: Processed 35595 (100.0%) in 29.80 sec. Users per second: 1195\n"
     ]
    },
    {
     "name": "stderr",
     "output_type": "stream",
     "text": [
      "[I 2024-11-19 03:16:45,756] Trial 374 finished with value: 0.051489848315594604 and parameters: {'topK': 31, 'alpha': 0.32213541697767, 'normalize_similarity': True, 'implicit': True}. Best is trial 128 with value: 0.05332611477891539.\n"
     ]
    },
    {
     "name": "stdout",
     "output_type": "stream",
     "text": [
      "P3alphaRecommender: Similarity column 38121 (100.0%), 2230.47 column/sec. Elapsed time 17.09 sec\n",
      "EvaluatorHoldout: Processed 35595 (100.0%) in 31.19 sec. Users per second: 1141\n"
     ]
    },
    {
     "name": "stderr",
     "output_type": "stream",
     "text": [
      "[I 2024-11-19 03:17:36,543] Trial 375 finished with value: 0.04917311598516655 and parameters: {'topK': 65, 'alpha': 0.5444263021742655, 'normalize_similarity': True, 'implicit': True}. Best is trial 128 with value: 0.05332611477891539.\n"
     ]
    },
    {
     "name": "stdout",
     "output_type": "stream",
     "text": [
      "P3alphaRecommender: Similarity column 38121 (100.0%), 781.23 column/sec. Elapsed time 48.80 sec\n",
      "EvaluatorHoldout: Processed 35595 (100.0%) in 46.28 sec. Users per second: 769\n"
     ]
    },
    {
     "name": "stderr",
     "output_type": "stream",
     "text": [
      "[I 2024-11-19 03:19:40,091] Trial 376 finished with value: 0.03476351681282037 and parameters: {'topK': 870, 'alpha': 0.43678465285896495, 'normalize_similarity': True, 'implicit': True}. Best is trial 128 with value: 0.05332611477891539.\n"
     ]
    },
    {
     "name": "stdout",
     "output_type": "stream",
     "text": [
      "P3alphaRecommender: Similarity column 38121 (100.0%), 2466.34 column/sec. Elapsed time 15.46 sec\n",
      "EvaluatorHoldout: Processed 35595 (100.0%) in 29.43 sec. Users per second: 1209\n"
     ]
    },
    {
     "name": "stderr",
     "output_type": "stream",
     "text": [
      "[I 2024-11-19 03:20:26,410] Trial 377 finished with value: 0.051908662711231124 and parameters: {'topK': 28, 'alpha': 0.41521584596287126, 'normalize_similarity': True, 'implicit': False}. Best is trial 128 with value: 0.05332611477891539.\n"
     ]
    },
    {
     "name": "stdout",
     "output_type": "stream",
     "text": [
      "P3alphaRecommender: Similarity column 38121 (100.0%), 2053.56 column/sec. Elapsed time 18.56 sec\n",
      "EvaluatorHoldout: Processed 35595 (100.0%) in 28.72 sec. Users per second: 1239\n"
     ]
    },
    {
     "name": "stderr",
     "output_type": "stream",
     "text": [
      "[I 2024-11-19 03:21:17,159] Trial 378 finished with value: 0.04719688314525899 and parameters: {'topK': 100, 'alpha': 0.47606070678657064, 'normalize_similarity': True, 'implicit': True}. Best is trial 128 with value: 0.05332611477891539.\n"
     ]
    },
    {
     "name": "stdout",
     "output_type": "stream",
     "text": [
      "P3alphaRecommender: Similarity column 38121 (100.0%), 2312.54 column/sec. Elapsed time 16.48 sec\n",
      "EvaluatorHoldout: Processed 35595 (100.0%) in 30.33 sec. Users per second: 1173\n"
     ]
    },
    {
     "name": "stderr",
     "output_type": "stream",
     "text": [
      "[I 2024-11-19 03:22:05,979] Trial 379 finished with value: 0.0500593493378979 and parameters: {'topK': 50, 'alpha': 0.2792492707283581, 'normalize_similarity': True, 'implicit': True}. Best is trial 128 with value: 0.05332611477891539.\n"
     ]
    },
    {
     "name": "stdout",
     "output_type": "stream",
     "text": [
      "P3alphaRecommender: Similarity column 38121 (100.0%), 2500.46 column/sec. Elapsed time 15.25 sec\n",
      "EvaluatorHoldout: Processed 35595 (100.0%) in 29.43 sec. Users per second: 1210\n"
     ]
    },
    {
     "name": "stderr",
     "output_type": "stream",
     "text": [
      "[I 2024-11-19 03:22:52,025] Trial 380 finished with value: 0.047790317438018884 and parameters: {'topK': 21, 'alpha': 1.5595693854751838, 'normalize_similarity': True, 'implicit': True}. Best is trial 128 with value: 0.05332611477891539.\n"
     ]
    },
    {
     "name": "stdout",
     "output_type": "stream",
     "text": [
      "P3alphaRecommender: Similarity column 38121 (100.0%), 569.49 column/sec. Elapsed time 1.12 min\n",
      "EvaluatorHoldout: Processed 35595 (100.0%) in 53.21 sec. Users per second: 669\n"
     ]
    },
    {
     "name": "stderr",
     "output_type": "stream",
     "text": [
      "[I 2024-11-19 03:25:37,873] Trial 381 finished with value: 0.03257665937564696 and parameters: {'topK': 1434, 'alpha': 0.36607935888095355, 'normalize_similarity': True, 'implicit': True}. Best is trial 128 with value: 0.05332611477891539.\n"
     ]
    },
    {
     "name": "stdout",
     "output_type": "stream",
     "text": [
      "P3alphaRecommender: Similarity column 38121 (100.0%), 2699.99 column/sec. Elapsed time 14.12 sec\n",
      "EvaluatorHoldout: Processed 35595 (100.0%) in 25.99 sec. Users per second: 1369\n"
     ]
    },
    {
     "name": "stderr",
     "output_type": "stream",
     "text": [
      "[I 2024-11-19 03:26:18,822] Trial 382 finished with value: 0.03693640537171824 and parameters: {'topK': 2, 'alpha': 0.3229829624973942, 'normalize_similarity': True, 'implicit': True}. Best is trial 128 with value: 0.05332611477891539.\n"
     ]
    },
    {
     "name": "stdout",
     "output_type": "stream",
     "text": [
      "P3alphaRecommender: Similarity column 38121 (100.0%), 2186.50 column/sec. Elapsed time 17.43 sec\n",
      "EvaluatorHoldout: Processed 35595 (100.0%) in 32.03 sec. Users per second: 1111\n"
     ]
    },
    {
     "name": "stderr",
     "output_type": "stream",
     "text": [
      "[I 2024-11-19 03:27:11,129] Trial 383 finished with value: 0.04844750912491972 and parameters: {'topK': 77, 'alpha': 0.5109417753901448, 'normalize_similarity': True, 'implicit': False}. Best is trial 128 with value: 0.05332611477891539.\n"
     ]
    },
    {
     "name": "stdout",
     "output_type": "stream",
     "text": [
      "P3alphaRecommender: Similarity column 38121 (100.0%), 2327.54 column/sec. Elapsed time 16.38 sec\n",
      "EvaluatorHoldout: Processed 35595 (100.0%) in 30.29 sec. Users per second: 1175\n"
     ]
    },
    {
     "name": "stderr",
     "output_type": "stream",
     "text": [
      "[I 2024-11-19 03:27:59,718] Trial 384 finished with value: 0.05045434083170954 and parameters: {'topK': 46, 'alpha': 0.39494391112646443, 'normalize_similarity': True, 'implicit': True}. Best is trial 128 with value: 0.05332611477891539.\n"
     ]
    },
    {
     "name": "stdout",
     "output_type": "stream",
     "text": [
      "P3alphaRecommender: Similarity column 38121 (100.0%), 3770.60 column/sec. Elapsed time 10.11 sec\n",
      "EvaluatorHoldout: Processed 35595 (100.0%) in 25.12 sec. Users per second: 1417\n"
     ]
    },
    {
     "name": "stderr",
     "output_type": "stream",
     "text": [
      "[I 2024-11-19 03:28:35,722] Trial 385 finished with value: 0.035276472306390624 and parameters: {'topK': 1, 'alpha': 0.5816027561988361, 'normalize_similarity': False, 'implicit': True}. Best is trial 128 with value: 0.05332611477891539.\n"
     ]
    },
    {
     "name": "stdout",
     "output_type": "stream",
     "text": [
      "P3alphaRecommender: Similarity column 38121 (100.0%), 1924.23 column/sec. Elapsed time 19.81 sec\n",
      "EvaluatorHoldout: Processed 35595 (100.0%) in 29.20 sec. Users per second: 1219\n"
     ]
    },
    {
     "name": "stderr",
     "output_type": "stream",
     "text": [
      "[I 2024-11-19 03:29:28,957] Trial 386 finished with value: 0.04500522857454867 and parameters: {'topK': 131, 'alpha': 0.19901186828019468, 'normalize_similarity': True, 'implicit': True}. Best is trial 128 with value: 0.05332611477891539.\n"
     ]
    },
    {
     "name": "stdout",
     "output_type": "stream",
     "text": [
      "P3alphaRecommender: Similarity column 38121 (100.0%), 2363.75 column/sec. Elapsed time 16.13 sec\n",
      "EvaluatorHoldout: Processed 35595 (100.0%) in 30.23 sec. Users per second: 1177\n"
     ]
    },
    {
     "name": "stderr",
     "output_type": "stream",
     "text": [
      "[I 2024-11-19 03:30:17,167] Trial 387 finished with value: 0.0506569196672424 and parameters: {'topK': 44, 'alpha': 0.41947581745967766, 'normalize_similarity': True, 'implicit': True}. Best is trial 128 with value: 0.05332611477891539.\n"
     ]
    },
    {
     "name": "stdout",
     "output_type": "stream",
     "text": [
      "P3alphaRecommender: Similarity column 38121 (100.0%), 2140.12 column/sec. Elapsed time 17.81 sec\n",
      "EvaluatorHoldout: Processed 35595 (100.0%) in 31.35 sec. Users per second: 1135\n"
     ]
    },
    {
     "name": "stderr",
     "output_type": "stream",
     "text": [
      "[I 2024-11-19 03:31:09,175] Trial 388 finished with value: 0.048044737200024 and parameters: {'topK': 82, 'alpha': 0.3516550797316302, 'normalize_similarity': True, 'implicit': True}. Best is trial 128 with value: 0.05332611477891539.\n"
     ]
    },
    {
     "name": "stdout",
     "output_type": "stream",
     "text": [
      "P3alphaRecommender: Similarity column 38121 (100.0%), 2434.11 column/sec. Elapsed time 15.66 sec\n",
      "EvaluatorHoldout: Processed 35595 (100.0%) in 29.55 sec. Users per second: 1205\n"
     ]
    },
    {
     "name": "stderr",
     "output_type": "stream",
     "text": [
      "[I 2024-11-19 03:31:55,904] Trial 389 finished with value: 0.051693515229754614 and parameters: {'topK': 31, 'alpha': 0.46967427395657596, 'normalize_similarity': True, 'implicit': True}. Best is trial 128 with value: 0.05332611477891539.\n"
     ]
    },
    {
     "name": "stdout",
     "output_type": "stream",
     "text": [
      "P3alphaRecommender: Similarity column 38121 (100.0%), 3583.31 column/sec. Elapsed time 10.64 sec\n",
      "EvaluatorHoldout: Processed 35595 (100.0%) in 23.30 sec. Users per second: 1527\n"
     ]
    },
    {
     "name": "stderr",
     "output_type": "stream",
     "text": [
      "[I 2024-11-19 03:32:30,123] Trial 390 finished with value: 0.00028209999175022335 and parameters: {'topK': 0, 'alpha': 0.6493792928974084, 'normalize_similarity': True, 'implicit': False}. Best is trial 128 with value: 0.05332611477891539.\n"
     ]
    },
    {
     "name": "stdout",
     "output_type": "stream",
     "text": [
      "P3alphaRecommender: Similarity column 38121 (100.0%), 2256.71 column/sec. Elapsed time 16.89 sec\n",
      "EvaluatorHoldout: Processed 35595 (100.0%) in 30.82 sec. Users per second: 1155\n"
     ]
    },
    {
     "name": "stderr",
     "output_type": "stream",
     "text": [
      "[I 2024-11-19 03:33:20,113] Trial 391 finished with value: 0.04909821916311431 and parameters: {'topK': 62, 'alpha': 0.2439975971543897, 'normalize_similarity': True, 'implicit': True}. Best is trial 128 with value: 0.05332611477891539.\n"
     ]
    },
    {
     "name": "stdout",
     "output_type": "stream",
     "text": [
      "P3alphaRecommender: Similarity column 38121 (100.0%), 2457.60 column/sec. Elapsed time 15.51 sec\n",
      "EvaluatorHoldout: Processed 35595 (100.0%) in 29.26 sec. Users per second: 1217\n"
     ]
    },
    {
     "name": "stderr",
     "output_type": "stream",
     "text": [
      "[I 2024-11-19 03:34:06,356] Trial 392 finished with value: 0.051699598882487915 and parameters: {'topK': 29, 'alpha': 0.29591000381912236, 'normalize_similarity': True, 'implicit': True}. Best is trial 128 with value: 0.05332611477891539.\n"
     ]
    },
    {
     "name": "stdout",
     "output_type": "stream",
     "text": [
      "P3alphaRecommender: Similarity column 38121 (100.0%), 2070.63 column/sec. Elapsed time 18.41 sec\n",
      "EvaluatorHoldout: Processed 35595 (100.0%) in 28.63 sec. Users per second: 1243\n"
     ]
    },
    {
     "name": "stderr",
     "output_type": "stream",
     "text": [
      "[I 2024-11-19 03:34:56,701] Trial 393 finished with value: 0.04745591274857878 and parameters: {'topK': 95, 'alpha': 0.43922062048531973, 'normalize_similarity': True, 'implicit': True}. Best is trial 128 with value: 0.05332611477891539.\n"
     ]
    },
    {
     "name": "stdout",
     "output_type": "stream",
     "text": [
      "P3alphaRecommender: Similarity column 38121 (100.0%), 2266.31 column/sec. Elapsed time 16.82 sec\n",
      "EvaluatorHoldout: Processed 35595 (100.0%) in 31.50 sec. Users per second: 1130\n"
     ]
    },
    {
     "name": "stderr",
     "output_type": "stream",
     "text": [
      "[I 2024-11-19 03:35:47,519] Trial 394 finished with value: 0.04470236813178052 and parameters: {'topK': 58, 'alpha': 1.6614752169694535, 'normalize_similarity': True, 'implicit': True}. Best is trial 128 with value: 0.05332611477891539.\n"
     ]
    },
    {
     "name": "stdout",
     "output_type": "stream",
     "text": [
      "P3alphaRecommender: Similarity column 38121 (100.0%), 2482.99 column/sec. Elapsed time 15.35 sec\n",
      "EvaluatorHoldout: Processed 35595 (100.0%) in 29.25 sec. Users per second: 1217\n"
     ]
    },
    {
     "name": "stderr",
     "output_type": "stream",
     "text": [
      "[I 2024-11-19 03:36:33,435] Trial 395 finished with value: 0.05242735514395696 and parameters: {'topK': 23, 'alpha': 0.37429353689470324, 'normalize_similarity': True, 'implicit': True}. Best is trial 128 with value: 0.05332611477891539.\n"
     ]
    },
    {
     "name": "stdout",
     "output_type": "stream",
     "text": [
      "P3alphaRecommender: Similarity column 38121 (100.0%), 2463.52 column/sec. Elapsed time 15.47 sec\n",
      "EvaluatorHoldout: Processed 35595 (100.0%) in 29.21 sec. Users per second: 1219\n"
     ]
    },
    {
     "name": "stderr",
     "output_type": "stream",
     "text": [
      "[I 2024-11-19 03:37:19,571] Trial 396 finished with value: 0.051937667364551104 and parameters: {'topK': 27, 'alpha': 0.31884996260297516, 'normalize_similarity': True, 'implicit': False}. Best is trial 128 with value: 0.05332611477891539.\n"
     ]
    },
    {
     "name": "stdout",
     "output_type": "stream",
     "text": [
      "P3alphaRecommender: Similarity column 38121 (100.0%), 2224.57 column/sec. Elapsed time 17.14 sec\n",
      "EvaluatorHoldout: Processed 35595 (100.0%) in 31.07 sec. Users per second: 1146\n"
     ]
    },
    {
     "name": "stderr",
     "output_type": "stream",
     "text": [
      "[I 2024-11-19 03:38:10,238] Trial 397 finished with value: 0.04874719897791813 and parameters: {'topK': 68, 'alpha': 0.26284766790015845, 'normalize_similarity': True, 'implicit': True}. Best is trial 128 with value: 0.05332611477891539.\n"
     ]
    },
    {
     "name": "stdout",
     "output_type": "stream",
     "text": [
      "P3alphaRecommender: Similarity column 38121 (100.0%), 3611.56 column/sec. Elapsed time 10.56 sec\n",
      "EvaluatorHoldout: Processed 35595 (100.0%) in 23.40 sec. Users per second: 1521\n"
     ]
    },
    {
     "name": "stderr",
     "output_type": "stream",
     "text": [
      "[I 2024-11-19 03:38:44,478] Trial 398 finished with value: 0.00028209999175022335 and parameters: {'topK': 0, 'alpha': 0.3640756160596335, 'normalize_similarity': True, 'implicit': True}. Best is trial 128 with value: 0.05332611477891539.\n"
     ]
    },
    {
     "name": "stdout",
     "output_type": "stream",
     "text": [
      "P3alphaRecommender: Similarity column 38121 (100.0%), 2018.35 column/sec. Elapsed time 18.89 sec\n",
      "EvaluatorHoldout: Processed 35595 (100.0%) in 29.53 sec. Users per second: 1205\n"
     ]
    },
    {
     "name": "stderr",
     "output_type": "stream",
     "text": [
      "[I 2024-11-19 03:39:36,974] Trial 399 finished with value: 0.04558183889747153 and parameters: {'topK': 111, 'alpha': 0.9517992592054156, 'normalize_similarity': True, 'implicit': True}. Best is trial 128 with value: 0.05332611477891539.\n"
     ]
    }
   ],
   "source": [
    "if config['tune_parameters']:\n",
    "    \n",
    "    optuna_study = optuna.create_study(direction='maximize', study_name=f'hyperparameters_tuning_{config[\"model\"]}',\n",
    "                                storage=f'sqlite:///{config[\"database_path\"]}', load_if_exists=True)\n",
    "\n",
    "    optuna_study.optimize(objective_function_P3alphaRecommender, n_trials=200)"
   ]
  },
  {
   "cell_type": "markdown",
   "id": "eea8a44a",
   "metadata": {
    "papermill": {
     "duration": 0.042437,
     "end_time": "2024-11-19T03:39:37.065225",
     "exception": false,
     "start_time": "2024-11-19T03:39:37.022788",
     "status": "completed"
    },
    "tags": []
   },
   "source": [
    "## Some optuna visualizations on recommender parameters"
   ]
  },
  {
   "cell_type": "code",
   "execution_count": 16,
   "id": "24222974",
   "metadata": {
    "execution": {
     "iopub.execute_input": "2024-11-19T03:39:37.153662Z",
     "iopub.status.busy": "2024-11-19T03:39:37.153274Z",
     "iopub.status.idle": "2024-11-19T03:39:38.397763Z",
     "shell.execute_reply": "2024-11-19T03:39:38.396683Z"
    },
    "papermill": {
     "duration": 1.291898,
     "end_time": "2024-11-19T03:39:38.399928",
     "exception": false,
     "start_time": "2024-11-19T03:39:37.108030",
     "status": "completed"
    },
    "tags": []
   },
   "outputs": [
    {
     "data": {
      "text/html": [
       "        <script type=\"text/javascript\">\n",
       "        window.PlotlyConfig = {MathJaxConfig: 'local'};\n",
       "        if (window.MathJax && window.MathJax.Hub && window.MathJax.Hub.Config) {window.MathJax.Hub.Config({SVG: {font: \"STIX-Web\"}});}\n",
       "        if (typeof require !== 'undefined') {\n",
       "        require.undef(\"plotly\");\n",
       "        requirejs.config({\n",
       "            paths: {\n",
       "                'plotly': ['https://cdn.plot.ly/plotly-2.32.0.min']\n",
       "            }\n",
       "        });\n",
       "        require(['plotly'], function(Plotly) {\n",
       "            window._Plotly = Plotly;\n",
       "        });\n",
       "        }\n",
       "        </script>\n",
       "        "
      ]
     },
     "metadata": {},
     "output_type": "display_data"
    },
    {
     "data": {
      "text/html": [
       "<div>                            <div id=\"1a26c5df-62ee-4b5f-80d7-668702a69668\" class=\"plotly-graph-div\" style=\"height:525px; width:1200px;\"></div>            <script type=\"text/javascript\">                require([\"plotly\"], function(Plotly) {                    window.PLOTLYENV=window.PLOTLYENV || {};                                    if (document.getElementById(\"1a26c5df-62ee-4b5f-80d7-668702a69668\")) {                    Plotly.newPlot(                        \"1a26c5df-62ee-4b5f-80d7-668702a69668\",                        [{\"marker\":{\"color\":[0,1,2,3,4,5,6,7,8,9,10,11,12,13,14,15,16,17,18,19,20,21,22,23,24,25,26,27,28,29,30,31,32,33,34,35,36,37,38,39,40,41,42,43,44,45,46,47,48,49,50,51,52,53,54,55,56,57,58,59,60,61,62,63,64,65,66,67,68,69,70,71,72,73,74,75,76,77,78,79,80,81,82,83,84,85,86,87,88,89,90,91,92,93,94,95,96,97,98,99,100,101,102,103,104,105,106,107,108,109,110,111,112,113,114,115,116,117,118,119,120,121,122,123,124,125,126,127,128,129,130,131,132,133,134,135,136,137,138,139,140,141,142,143,144,145,146,147,148,149,150,151,152,153,154,155,156,157,158,159,160,161,162,163,164,165,166,167,168,169,170,171,172,173,174,175,176,177,178,179,180,181,182,183,184,185,186,187,188,189,190,191,192,193,194,195,196,197,198,199,200,201,202,203,204,205,206,207,208,209,210,211,212,213,214,215,216,217,218,219,220,221,222,223,224,225,226,227,228,229,230,231,232,233,234,235,236,237,238,239,240,241,242,243,244,245,246,247,248,249,250,251,252,253,254,255,256,257,258,259,260,261,262,263,264,265,266,267,268,269,270,271,272,273,274,275,276,277,278,279,280,281,282,283,284,285,286,287,288,289,290,291,292,293,294,295,296,297,298,299,300,301,302,303,304,305,306,307,308,309,310,311,312,313,314,315,316,317,318,319,320,321,322,323,324,325,326,327,328,329,330,331,332,333,334,335,336,337,338,339,340,341,342,343,344,345,346,347,348,349,350,351,352,353,354,355,356,357,358,359,360,361,362,363,364,365,366,367,368,369,370,371,372,373,374,375,376,377,378,379,380,381,382,383,384,385,386,387,388,389,390,391,392,393,394,395,396,397,398,399],\"colorbar\":{\"title\":{\"text\":\"Trial\"},\"x\":1.0,\"xpad\":40},\"colorscale\":[[0.0,\"rgb(247,251,255)\"],[0.125,\"rgb(222,235,247)\"],[0.25,\"rgb(198,219,239)\"],[0.375,\"rgb(158,202,225)\"],[0.5,\"rgb(107,174,214)\"],[0.625,\"rgb(66,146,198)\"],[0.75,\"rgb(33,113,181)\"],[0.875,\"rgb(8,81,156)\"],[1.0,\"rgb(8,48,107)\"]],\"line\":{\"color\":\"Grey\",\"width\":0.5},\"showscale\":true},\"mode\":\"markers\",\"name\":\"Feasible Trial\",\"showlegend\":false,\"x\":[0.13970224044516044,0.900420696436468,0.2746459090128892,1.0803031892164712,1.125702136698511,0.12131348126886277,1.9035941649883537,1.7318890381484007,0.6865170641798204,0.32815198170941917,1.3911804182033483,1.3934114203042636,1.4721210096831958,1.4238255760167111,1.5503111835605372,1.6505962869840984,1.9183829033405395,1.9772848588113183,1.9928332605386654,1.8320734944006234,1.7174920849306676,1.8841252318750703,1.798195608304144,1.2069573377768994,1.9814339198236601,1.6135570933843837,1.8139512015739636,0.8208335498096523,1.2674078153858062,1.8454264478406797,0.5745028317856684,1.9958392052631937,1.5996801945276657,1.736510395820371,1.8940087670634707,1.994365686268915,1.5150602384848373,1.7016029345384138,0.002603046543897536,0.9736489007196081,1.8131323156896184,0.8797215936108498,0.7751751442383075,0.8062809227326186,0.8168793406409641,0.5385571967030147,0.5231074314724962,0.3320066326612452,0.7221957450866141,1.0120178076093256,0.4796642242844803,0.4045700260964513,0.6040727091466473,0.6639698355244541,0.6718778178824124,0.6632266127513817,0.6261525879372072,0.6367022402639457,0.7487700552448928,0.7249077968561344,0.43503766551925976,0.2429927467600869,0.21843651588137336,0.20654362434819667,0.21384084450039043,0.13779150779361493,0.24942194438947612,0.2341722924691252,0.06444237937622799,0.3802911700441819,0.06876653309774669,0.2266274759516383,0.18592583128363024,0.32601635587033406,0.2967764768583923,0.31915314872364947,0.09476162345242153,0.4432372927829938,0.4317328176933879,0.018119534563767248,0.03158471425211695,0.30774035819385653,0.2944790097122115,0.1550416563153536,0.3592454346016715,0.16192244487075158,0.4386892652187496,0.27913192887283794,0.09930026998158548,0.4792311919665272,0.3586705652631851,0.032440420110027346,0.15118039543070538,0.15164364464860913,0.13979437698155728,0.08883540869678166,0.05511414789607254,0.16116607169574937,0.28912391215840266,0.052029492276303074,0.26039504739208863,0.007342520616717224,0.1781818363982699,0.12634980295465773,0.12034697000886488,0.0937917023846361,0.12146659341309754,0.31649949862950966,0.12789776035431857,0.17418282457443152,0.15908361253905012,0.04671329051148687,0.17854003755561154,0.19424313319702063,0.2086900884643583,0.3322832572552486,0.34713532018009263,0.39072288098673325,0.2613202720173038,0.2835294400746661,0.2578375037252607,0.3231546840798435,0.4934465684970684,0.3181701809234449,0.3871748971021878,0.42816824160639316,0.3817001823658266,0.5292410223596432,0.2412806492363928,1.3204181245593927,0.23498874255076382,0.32633840542128184,0.34341937301314857,0.3498365282165739,0.45803042784324743,0.573919698964462,0.32107525325803893,1.1454864644946072,0.41023646665652713,0.2663050001300709,0.38708524268393574,0.3780363147595567,0.3823629419537749,0.20613712417945856,0.3420983957139295,0.27603360076454786,0.2767845315249703,0.23374993213027792,0.19364545191153126,0.40130000394938925,0.30049095904524864,0.3552525728863243,0.37407459945200194,0.48286950625578223,0.2537735747831653,0.2415494776691889,0.2762526423483673,0.3441723005409292,0.41604837373107034,0.4078569560244515,0.5121165811176089,0.3125196744644095,0.4549155623367528,0.4439427546651896,0.3844294604673984,0.5659010449512127,0.44994558385132066,0.35447109659858117,0.5316355467892911,0.4734069856346528,0.5789551406336793,0.25797718166129036,0.2605288838374385,0.2672926887649198,0.21470669232571982,0.4038026846934145,0.39480335020003055,0.4169630674592603,0.3638993669870958,0.38609280803442564,0.41034731712344497,0.4635016215716624,0.4961217728402752,0.4419552278478031,0.3767058732394614,0.5493164188154647,0.3867687413193176,0.4540456172891898,0.3566132842205112,0.4152813447820159,0.49862770261594136,0.3212229953435077,0.3795947960136025,0.3912551363503272,0.3954271241088314,0.4532212993799947,0.4255436643319266,0.37892421323128406,0.37379799702603816,0.3194297552844457,0.31548195470754337,0.47360323588904746,0.5111942235662785,0.932177120385234,0.47308166335583995,0.342307665558974,0.4180780182505416,0.4556017803988097,0.5551302097523018,0.3150104044183229,0.393235609884879,0.3730437669035787,0.3545211716268095,0.4106913980184231,0.46958581171787184,0.4833380335883968,0.44663955195694566,0.5210261349544641,0.2966226702065967,0.6119330154509116,0.29678816249050355,0.33665939518821936,0.40913668587281593,0.3007349059922073,0.35044348120998814,0.4349219263769706,0.4745383594747042,0.4850207656820933,0.46932142706101077,0.4704255703270069,0.3944218603145258,0.4436858900289888,0.5229017409204633,0.5124576468698194,0.42352360254526344,0.37665263646167624,0.3732823816971237,1.0414700472283365,0.38315412633926016,0.3427841950615291,0.46485471424339586,0.4187000103191777,0.48271076894553133,0.39162786744005584,0.39934643171859047,0.3591552880168884,0.36889307530931287,0.30519665150193154,0.42253912585309444,0.3723015259784719,0.45551572099274595,0.28437477987816895,0.2791060999306894,0.22942976043591318,0.33702817155366904,0.2986596644028946,0.38188567028734377,0.3330911439267888,0.2795530060646119,0.41683894333598415,0.24191128398821798,0.20308266145483664,0.3493632641207492,0.39203623330113213,0.3086093508149274,0.42493445657058304,0.34365468987692915,0.3171698376804365,0.38192047123529604,0.4365272309117898,0.3676858292958544,0.4471552100009647,0.30926819845077647,0.2597385963720305,0.40189935419074063,0.3135310408135986,0.4880366679024298,0.3701648638635074,0.19152650493751994,0.28786167663438483,0.8631195160825139,0.40632432130490287,0.45098321269385555,0.5281711820424484,0.4629234452799559,1.4790681317652061,0.4938207582700834,0.23978646955316363,0.23823024140899918,0.21988470652477696,0.2972385175006186,0.25080260094383466,0.3341948633499777,0.20278725555198412,0.42464063968469595,0.3335712621052753,0.2844829895290906,0.39589726890051624,0.3483362380852447,0.17666289092533904,0.2547827080020546,0.43296622140538715,0.3887147334625776,0.29543461792325504,0.36030909335271916,1.1872465016868285,0.31385200076800723,0.4113937860947464,0.44247716752484684,0.34948112738576437,0.3895242365689868,0.5619613258347875,0.23070070410600996,0.31725525137738697,0.46450434462802187,0.2742145603812486,0.3968006769396318,0.3602187761597358,0.5060640017225834,0.1649918824568129,0.4298261332336075,0.322468454393874,0.26094198481664704,0.3103334177743994,0.21446494037122577,0.34550368534798137,0.2866871192743738,0.37422014903270095,0.24091190670221374,0.3327551478682975,0.4515996785354847,1.3168392471567434,0.4994067099116061,0.444888386398224,0.5884272179459519,0.545520686501803,0.4043766081301982,0.46569968008483287,1.610300968057552,0.5068580876435377,0.5233466650874534,0.47492219345403436,0.46329020567118795,0.5275834236041691,0.4818163965524806,0.6183172778217281,0.44825081073678547,0.5071442585846713,0.4276399049573996,0.41917825437388695,0.469996131274689,0.4057104527392775,0.5563070903382265,0.49819795894659635,0.31836413315810785,0.4415013844740518,0.3796130305317524,1.7733769181746493,0.29486875365333176,0.36253803830598513,0.45206905123690627,0.41733278431595094,0.33153284981100256,0.2667671302433653,0.7499628891106458,0.699162926220687,0.5029690231460112,0.39265199838378584,0.4563348311184297,0.37756258360238104,0.34593586796010106,0.29110649538033406,0.23986700174557915,0.3704901377211149,0.32213541697767,0.5444263021742655,0.43678465285896495,0.41521584596287126,0.47606070678657064,0.2792492707283581,1.5595693854751838,0.36607935888095355,0.3229829624973942,0.5109417753901448,0.39494391112646443,0.5816027561988361,0.19901186828019468,0.41947581745967766,0.3516550797316302,0.46967427395657596,0.6493792928974084,0.2439975971543897,0.29591000381912236,0.43922062048531973,1.6614752169694535,0.37429353689470324,0.31884996260297516,0.26284766790015845,0.3640756160596335,0.9517992592054156],\"y\":[0.026439897033870327,0.03487950309589463,0.03404955105608191,0.03575589803276156,0.03482190627807867,0.029905137604041183,0.02620527227606833,0.02992433617170172,0.03461959165836014,0.03265141349886284,0.03626605417650371,0.036314046693733414,0.03705292566059388,0.037721862130625984,0.03766818841597467,0.03767605691899699,0.042706138502596996,0.04548248371783819,0.02057877421699597,0.04642285790094288,0.0402747119824642,0.045810624151330345,0.04071581192293221,0.039803561673766766,0.04564818716735939,0.03836943836859406,0.02691884226650314,0.045038471829241505,0.03457277752136456,0.00028209999175022335,0.042466717726092736,0.04216377144105594,0.04339842184005504,0.037996609787800846,0.039102759884680094,0.04111136417857713,0.03894964626296129,0.04310886806377577,0.028588602599347927,0.03711739431924718,0.04044177887477345,0.04671227455255944,0.0499208054903359,0.047704401590198786,0.04110919248066151,0.04614070551196392,0.03614812919595787,0.033104359672415914,0.043058429599304775,0.03572003157211605,0.04747547698200718,0.04593376209874155,0.04913950483503634,0.04922186101579093,0.04875024247653658,0.03572891457467824,0.048114301767902996,0.039221662575222,0.04861177778223528,0.04343702076044954,0.05003946514692218,0.049170351195212555,0.04921896244567789,0.049978608552564,0.04332941580434042,0.04397519046949989,0.05044443998510413,0.039884795216020064,0.0504332604231449,0.043211142995380994,0.037823326577433994,0.050115996316584664,0.04484037685870659,0.05168747505557268,0.05131877359268681,0.04392043870973329,0.041284447833540454,0.05148157066825263,0.04603171147186994,0.0500308296376547,0.035836500578597955,0.051655929694065315,0.04450834788192402,0.050827995504984694,0.04672582759750734,0.0499938193566497,0.04123215428419645,0.04281005558565462,0.04586056985888287,0.04151407590240134,0.044669806041064436,0.05114726296942715,0.052149027752692236,0.05167098553613323,0.02086482072343813,0.04595166745819788,0.050476618572697717,0.046980434651735174,0.032528770538040486,0.04397427073090628,0.03785599457744277,0.046099980601875395,0.04994096727514188,0.05086017743708228,0.05142499949832274,0.0327620095563615,0.00028209999175022335,0.04371660457037457,0.044906735162106505,0.05155876739420579,0.03477129947357398,0.05127247450930369,0.04786368136241557,0.05233988967596006,0.04735089755338207,0.05228674104843317,0.046021992343313924,0.04874247319379883,0.05253145840440208,0.04232615937230202,0.035773921564691516,0.053025623359797304,0.00028209999175022335,0.04702923430925792,0.05231757737509755,0.032771015190735955,0.04937572715090423,0.04540628922824291,0.05332611477891539,0.01669097786607284,0.048561217800786476,0.051494290931710145,0.05222898034992236,0.046597545802980346,0.036639159236292275,0.049484717846494414,0.046736198904338944,0.04908996381246523,0.04488187211954436,0.04803806379975599,0.052315226188801994,0.05256229027172812,0.00028209999175022335,0.049812029957835305,0.03319853644505884,0.052038343623255164,0.04766083385172987,0.049239788671940427,0.036573858910983484,0.046756748651605944,0.0442050381607888,0.052134081164420525,0.00028209999175022335,0.04966144478112261,0.05178529845238455,0.04813619377609944,0.05024351221970106,0.04592216335895071,0.052293871530911286,0.04804499026749167,0.035274473407847645,0.051658988800369274,0.05251371692564101,0.02018643380000288,0.04956132816941717,0.05220080178908453,0.00028209999175022335,0.04760971422328194,0.05031411692831666,0.03644101744270177,0.04075972303047583,0.05192472970833517,0.0520298184826187,0.049673079195622756,0.03707560362722458,0.05238286878172927,0.05234707924467548,0.04862709784011752,0.049861594391933765,0.05279444344109127,0.04778316465884765,0.05281176239751699,0.00028209999175022335,0.050282106680756423,0.052288947306223084,0.00028209999175022335,0.04890837508388954,0.05056842409202113,0.04693830839448045,0.051908302619636304,0.04916577814344171,0.00028209999175022335,0.05242786239372675,0.05245785813505832,0.05013604104375097,0.00028209999175022335,0.047897727298062624,0.05215019832908386,0.050257209078319785,0.052175580884597075,0.04590572066256699,0.05223213867651081,0.04930494852808221,0.05073509410319182,0.048777384241141426,0.02062464966320815,0.050709294599516196,0.04761659386796186,0.04537068363890785,0.049964030974564165,0.00028209999175022335,0.05172683763770782,0.05168442932728453,0.04906798707683486,0.0524643754584741,0.0502384731670429,0.04808183778263658,0.052043583346152215,0.05251039471835755,0.019503998911921182,0.0465467751177807,0.050190353558662006,0.05209020461675123,0.00028209999175022335,0.04879519372481683,0.050926668405807,0.05230871555439417,0.049315410136520785,0.052505144961949,0.047915064091842714,0.04995855490671976,0.00028209999175022335,0.05222464141342997,0.05216531102771952,0.049954770043052994,0.05243181113808841,0.048633034334676015,0.05056756566933367,0.03688004379070419,0.05034477599627035,0.00028209999175022335,0.05169930010679951,0.050751116506909166,0.052378990271951094,0.048959955139051395,0.05235828667750101,0.00028209999175022335,0.04977340874074769,0.04781270331796911,0.05213420268139845,0.050112771099916374,0.05226088803269414,0.04775108083220012,0.00028209999175022335,0.04994456373175096,0.032373760582566906,0.03520749860088138,0.04636864572115167,0.05217135231673613,0.00028209999175022335,0.04864697199758141,0.03280471329796975,0.05056014198534036,0.047384780723169505,0.05238426566955667,0.04954695683582973,0.00028209999175022335,0.0510660996617577,0.048513915366210185,0.05164681369105975,0.04663421828908386,0.0498941297266184,0.05245017692425851,0.05228631406675897,0.00028209999175022335,0.048275054236704217,0.049986130342007086,0.05169693554248773,0.04737255990563845,0.04513421048524147,0.049507306626352415,0.0525147916262523,0.05251900458642811,0.01992198610024119,0.049097077572423396,0.03347468656423502,0.05077931290510125,0.05238970160335334,0.00028209999175022335,0.048551467456859974,0.05028721262349424,0.052184281054275014,0.04771907058463989,0.02098988733480906,0.03931997315477999,0.05028831853947577,0.04872792906083948,0.051922293794605195,0.045853520759334694,0.03303755654998706,0.051779185813949954,0.04749448937227959,0.049879420598129186,0.00028209999175022335,0.00028209999175022335,0.04657031039226405,0.03876394490932908,0.037077098620502395,0.05060362722604427,0.04727254697355697,0.05246207778424221,0.00028209999175022335,0.048637823664370666,0.0515219455202582,0.05002795447906943,0.04818269241488607,0.05219580732981291,0.03978236755206695,0.03836120865914232,0.04602881513142628,0.03457975304182526,0.052395876672529054,0.00028209999175022335,0.04996866645707577,0.0519453965132412,0.04871469262893438,0.03746207109523434,0.04544820032240853,0.05208572967043062,0.04795510003411214,0.05260537305712022,0.04701988976514723,0.00028209999175022335,0.033338990004391375,0.04733282385389265,0.052150820406823534,0.04947184596552289,0.05247523060354756,0.045416497769214054,0.052426726377209174,0.036485482623070824,0.0484599885840909,0.0467000258641622,0.036345720261226774,0.05075054682639847,0.00028209999175022335,0.03197221720546533,0.04860630171439076,0.051541691471736276,0.04995664853945318,0.00028209999175022335,0.0521768183510684,0.04801235571252246,0.046422884656974785,0.05008759032947623,0.05215775913774032,0.048850682390292874,0.046225776315112876,0.050234154297574454,0.04773716100664944,0.020160677774879007,0.05047799204899731,0.044684072580194044,0.05222890119666173,0.0481755195686912,0.00028209999175022335,0.04320552199903077,0.04658697048140624,0.04955498253053892,0.05256432818948454,0.00028209999175022335,0.04025088462130049,0.049883052729447874,0.04764695973440014,0.051489848315594604,0.04917311598516655,0.03476351681282037,0.051908662711231124,0.04719688314525899,0.0500593493378979,0.047790317438018884,0.03257665937564696,0.03693640537171824,0.04844750912491972,0.05045434083170954,0.035276472306390624,0.04500522857454867,0.0506569196672424,0.048044737200024,0.051693515229754614,0.00028209999175022335,0.04909821916311431,0.051699598882487915,0.04745591274857878,0.04470236813178052,0.05242735514395696,0.051937667364551104,0.04874719897791813,0.00028209999175022335,0.04558183889747153],\"type\":\"scatter\",\"xaxis\":\"x\",\"yaxis\":\"y\"},{\"marker\":{\"color\":[0,1,2,3,4,5,6,7,8,9,10,11,12,13,14,15,16,17,18,19,20,21,22,23,24,25,26,27,28,29,30,31,32,33,34,35,36,37,38,39,40,41,42,43,44,45,46,47,48,49,50,51,52,53,54,55,56,57,58,59,60,61,62,63,64,65,66,67,68,69,70,71,72,73,74,75,76,77,78,79,80,81,82,83,84,85,86,87,88,89,90,91,92,93,94,95,96,97,98,99,100,101,102,103,104,105,106,107,108,109,110,111,112,113,114,115,116,117,118,119,120,121,122,123,124,125,126,127,128,129,130,131,132,133,134,135,136,137,138,139,140,141,142,143,144,145,146,147,148,149,150,151,152,153,154,155,156,157,158,159,160,161,162,163,164,165,166,167,168,169,170,171,172,173,174,175,176,177,178,179,180,181,182,183,184,185,186,187,188,189,190,191,192,193,194,195,196,197,198,199,200,201,202,203,204,205,206,207,208,209,210,211,212,213,214,215,216,217,218,219,220,221,222,223,224,225,226,227,228,229,230,231,232,233,234,235,236,237,238,239,240,241,242,243,244,245,246,247,248,249,250,251,252,253,254,255,256,257,258,259,260,261,262,263,264,265,266,267,268,269,270,271,272,273,274,275,276,277,278,279,280,281,282,283,284,285,286,287,288,289,290,291,292,293,294,295,296,297,298,299,300,301,302,303,304,305,306,307,308,309,310,311,312,313,314,315,316,317,318,319,320,321,322,323,324,325,326,327,328,329,330,331,332,333,334,335,336,337,338,339,340,341,342,343,344,345,346,347,348,349,350,351,352,353,354,355,356,357,358,359,360,361,362,363,364,365,366,367,368,369,370,371,372,373,374,375,376,377,378,379,380,381,382,383,384,385,386,387,388,389,390,391,392,393,394,395,396,397,398,399],\"colorbar\":{\"title\":{\"text\":\"Trial\"},\"x\":1.0,\"xpad\":40},\"colorscale\":[[0.0,\"rgb(247,251,255)\"],[0.125,\"rgb(222,235,247)\"],[0.25,\"rgb(198,219,239)\"],[0.375,\"rgb(158,202,225)\"],[0.5,\"rgb(107,174,214)\"],[0.625,\"rgb(66,146,198)\"],[0.75,\"rgb(33,113,181)\"],[0.875,\"rgb(8,81,156)\"],[1.0,\"rgb(8,48,107)\"]],\"line\":{\"color\":\"Grey\",\"width\":0.5},\"showscale\":false},\"mode\":\"markers\",\"name\":\"Feasible Trial\",\"showlegend\":false,\"x\":[false,false,true,false,true,false,false,true,true,true,false,false,false,false,false,false,false,false,false,false,false,false,false,false,false,false,true,false,false,false,false,false,false,false,false,false,true,false,false,true,false,false,false,false,false,true,true,true,true,true,true,true,true,true,true,true,true,true,true,true,true,true,true,true,true,true,true,true,true,true,true,true,true,true,true,true,true,true,true,true,true,true,true,true,true,true,true,true,true,true,true,true,true,true,true,true,true,true,true,true,true,true,true,true,true,true,true,true,true,true,true,true,true,true,true,true,true,true,true,true,true,true,true,true,true,true,true,true,true,true,true,true,true,true,true,true,true,true,true,true,true,true,true,true,true,true,true,true,true,true,true,true,true,true,true,true,true,true,true,true,true,true,true,true,true,true,true,true,true,true,true,true,true,true,true,true,true,true,true,true,true,true,true,true,true,true,true,true,true,true,true,true,true,true,true,true,true,true,true,true,false,true,true,true,true,true,true,true,true,true,true,true,true,true,true,true,true,true,true,true,true,true,true,true,true,true,true,true,true,true,true,true,true,true,true,true,true,true,false,true,true,true,true,true,true,true,true,true,true,true,true,true,true,true,true,true,true,true,true,true,true,true,true,true,true,false,true,true,true,true,true,true,true,true,true,true,true,true,true,true,true,false,false,false,false,false,false,false,false,false,true,true,false,false,false,false,false,false,false,false,false,false,false,false,true,true,true,false,true,true,true,true,true,true,true,true,true,false,true,true,true,true,true,true,true,false,true,true,true,true,true,true,false,true,true,true,true,true,false,true,true,true,true,true,true,false,true,true,true,true,true,false,true,true,true,true,true,true,false,true,true,true,true,true,false,true,true,true,true,true,true,false,true,true,true,true,true,false,true,true,true,true,true,false,true,true,true,true,true,true,false,true,true,true,true,true,false,true,true,true],\"y\":[0.026439897033870327,0.03487950309589463,0.03404955105608191,0.03575589803276156,0.03482190627807867,0.029905137604041183,0.02620527227606833,0.02992433617170172,0.03461959165836014,0.03265141349886284,0.03626605417650371,0.036314046693733414,0.03705292566059388,0.037721862130625984,0.03766818841597467,0.03767605691899699,0.042706138502596996,0.04548248371783819,0.02057877421699597,0.04642285790094288,0.0402747119824642,0.045810624151330345,0.04071581192293221,0.039803561673766766,0.04564818716735939,0.03836943836859406,0.02691884226650314,0.045038471829241505,0.03457277752136456,0.00028209999175022335,0.042466717726092736,0.04216377144105594,0.04339842184005504,0.037996609787800846,0.039102759884680094,0.04111136417857713,0.03894964626296129,0.04310886806377577,0.028588602599347927,0.03711739431924718,0.04044177887477345,0.04671227455255944,0.0499208054903359,0.047704401590198786,0.04110919248066151,0.04614070551196392,0.03614812919595787,0.033104359672415914,0.043058429599304775,0.03572003157211605,0.04747547698200718,0.04593376209874155,0.04913950483503634,0.04922186101579093,0.04875024247653658,0.03572891457467824,0.048114301767902996,0.039221662575222,0.04861177778223528,0.04343702076044954,0.05003946514692218,0.049170351195212555,0.04921896244567789,0.049978608552564,0.04332941580434042,0.04397519046949989,0.05044443998510413,0.039884795216020064,0.0504332604231449,0.043211142995380994,0.037823326577433994,0.050115996316584664,0.04484037685870659,0.05168747505557268,0.05131877359268681,0.04392043870973329,0.041284447833540454,0.05148157066825263,0.04603171147186994,0.0500308296376547,0.035836500578597955,0.051655929694065315,0.04450834788192402,0.050827995504984694,0.04672582759750734,0.0499938193566497,0.04123215428419645,0.04281005558565462,0.04586056985888287,0.04151407590240134,0.044669806041064436,0.05114726296942715,0.052149027752692236,0.05167098553613323,0.02086482072343813,0.04595166745819788,0.050476618572697717,0.046980434651735174,0.032528770538040486,0.04397427073090628,0.03785599457744277,0.046099980601875395,0.04994096727514188,0.05086017743708228,0.05142499949832274,0.0327620095563615,0.00028209999175022335,0.04371660457037457,0.044906735162106505,0.05155876739420579,0.03477129947357398,0.05127247450930369,0.04786368136241557,0.05233988967596006,0.04735089755338207,0.05228674104843317,0.046021992343313924,0.04874247319379883,0.05253145840440208,0.04232615937230202,0.035773921564691516,0.053025623359797304,0.00028209999175022335,0.04702923430925792,0.05231757737509755,0.032771015190735955,0.04937572715090423,0.04540628922824291,0.05332611477891539,0.01669097786607284,0.048561217800786476,0.051494290931710145,0.05222898034992236,0.046597545802980346,0.036639159236292275,0.049484717846494414,0.046736198904338944,0.04908996381246523,0.04488187211954436,0.04803806379975599,0.052315226188801994,0.05256229027172812,0.00028209999175022335,0.049812029957835305,0.03319853644505884,0.052038343623255164,0.04766083385172987,0.049239788671940427,0.036573858910983484,0.046756748651605944,0.0442050381607888,0.052134081164420525,0.00028209999175022335,0.04966144478112261,0.05178529845238455,0.04813619377609944,0.05024351221970106,0.04592216335895071,0.052293871530911286,0.04804499026749167,0.035274473407847645,0.051658988800369274,0.05251371692564101,0.02018643380000288,0.04956132816941717,0.05220080178908453,0.00028209999175022335,0.04760971422328194,0.05031411692831666,0.03644101744270177,0.04075972303047583,0.05192472970833517,0.0520298184826187,0.049673079195622756,0.03707560362722458,0.05238286878172927,0.05234707924467548,0.04862709784011752,0.049861594391933765,0.05279444344109127,0.04778316465884765,0.05281176239751699,0.00028209999175022335,0.050282106680756423,0.052288947306223084,0.00028209999175022335,0.04890837508388954,0.05056842409202113,0.04693830839448045,0.051908302619636304,0.04916577814344171,0.00028209999175022335,0.05242786239372675,0.05245785813505832,0.05013604104375097,0.00028209999175022335,0.047897727298062624,0.05215019832908386,0.050257209078319785,0.052175580884597075,0.04590572066256699,0.05223213867651081,0.04930494852808221,0.05073509410319182,0.048777384241141426,0.02062464966320815,0.050709294599516196,0.04761659386796186,0.04537068363890785,0.049964030974564165,0.00028209999175022335,0.05172683763770782,0.05168442932728453,0.04906798707683486,0.0524643754584741,0.0502384731670429,0.04808183778263658,0.052043583346152215,0.05251039471835755,0.019503998911921182,0.0465467751177807,0.050190353558662006,0.05209020461675123,0.00028209999175022335,0.04879519372481683,0.050926668405807,0.05230871555439417,0.049315410136520785,0.052505144961949,0.047915064091842714,0.04995855490671976,0.00028209999175022335,0.05222464141342997,0.05216531102771952,0.049954770043052994,0.05243181113808841,0.048633034334676015,0.05056756566933367,0.03688004379070419,0.05034477599627035,0.00028209999175022335,0.05169930010679951,0.050751116506909166,0.052378990271951094,0.048959955139051395,0.05235828667750101,0.00028209999175022335,0.04977340874074769,0.04781270331796911,0.05213420268139845,0.050112771099916374,0.05226088803269414,0.04775108083220012,0.00028209999175022335,0.04994456373175096,0.032373760582566906,0.03520749860088138,0.04636864572115167,0.05217135231673613,0.00028209999175022335,0.04864697199758141,0.03280471329796975,0.05056014198534036,0.047384780723169505,0.05238426566955667,0.04954695683582973,0.00028209999175022335,0.0510660996617577,0.048513915366210185,0.05164681369105975,0.04663421828908386,0.0498941297266184,0.05245017692425851,0.05228631406675897,0.00028209999175022335,0.048275054236704217,0.049986130342007086,0.05169693554248773,0.04737255990563845,0.04513421048524147,0.049507306626352415,0.0525147916262523,0.05251900458642811,0.01992198610024119,0.049097077572423396,0.03347468656423502,0.05077931290510125,0.05238970160335334,0.00028209999175022335,0.048551467456859974,0.05028721262349424,0.052184281054275014,0.04771907058463989,0.02098988733480906,0.03931997315477999,0.05028831853947577,0.04872792906083948,0.051922293794605195,0.045853520759334694,0.03303755654998706,0.051779185813949954,0.04749448937227959,0.049879420598129186,0.00028209999175022335,0.00028209999175022335,0.04657031039226405,0.03876394490932908,0.037077098620502395,0.05060362722604427,0.04727254697355697,0.05246207778424221,0.00028209999175022335,0.048637823664370666,0.0515219455202582,0.05002795447906943,0.04818269241488607,0.05219580732981291,0.03978236755206695,0.03836120865914232,0.04602881513142628,0.03457975304182526,0.052395876672529054,0.00028209999175022335,0.04996866645707577,0.0519453965132412,0.04871469262893438,0.03746207109523434,0.04544820032240853,0.05208572967043062,0.04795510003411214,0.05260537305712022,0.04701988976514723,0.00028209999175022335,0.033338990004391375,0.04733282385389265,0.052150820406823534,0.04947184596552289,0.05247523060354756,0.045416497769214054,0.052426726377209174,0.036485482623070824,0.0484599885840909,0.0467000258641622,0.036345720261226774,0.05075054682639847,0.00028209999175022335,0.03197221720546533,0.04860630171439076,0.051541691471736276,0.04995664853945318,0.00028209999175022335,0.0521768183510684,0.04801235571252246,0.046422884656974785,0.05008759032947623,0.05215775913774032,0.048850682390292874,0.046225776315112876,0.050234154297574454,0.04773716100664944,0.020160677774879007,0.05047799204899731,0.044684072580194044,0.05222890119666173,0.0481755195686912,0.00028209999175022335,0.04320552199903077,0.04658697048140624,0.04955498253053892,0.05256432818948454,0.00028209999175022335,0.04025088462130049,0.049883052729447874,0.04764695973440014,0.051489848315594604,0.04917311598516655,0.03476351681282037,0.051908662711231124,0.04719688314525899,0.0500593493378979,0.047790317438018884,0.03257665937564696,0.03693640537171824,0.04844750912491972,0.05045434083170954,0.035276472306390624,0.04500522857454867,0.0506569196672424,0.048044737200024,0.051693515229754614,0.00028209999175022335,0.04909821916311431,0.051699598882487915,0.04745591274857878,0.04470236813178052,0.05242735514395696,0.051937667364551104,0.04874719897791813,0.00028209999175022335,0.04558183889747153],\"type\":\"scatter\",\"xaxis\":\"x2\",\"yaxis\":\"y2\"},{\"marker\":{\"color\":[0,1,2,3,4,5,6,7,8,9,10,11,12,13,14,15,16,17,18,19,20,21,22,23,24,25,26,27,28,29,30,31,32,33,34,35,36,37,38,39,40,41,42,43,44,45,46,47,48,49,50,51,52,53,54,55,56,57,58,59,60,61,62,63,64,65,66,67,68,69,70,71,72,73,74,75,76,77,78,79,80,81,82,83,84,85,86,87,88,89,90,91,92,93,94,95,96,97,98,99,100,101,102,103,104,105,106,107,108,109,110,111,112,113,114,115,116,117,118,119,120,121,122,123,124,125,126,127,128,129,130,131,132,133,134,135,136,137,138,139,140,141,142,143,144,145,146,147,148,149,150,151,152,153,154,155,156,157,158,159,160,161,162,163,164,165,166,167,168,169,170,171,172,173,174,175,176,177,178,179,180,181,182,183,184,185,186,187,188,189,190,191,192,193,194,195,196,197,198,199,200,201,202,203,204,205,206,207,208,209,210,211,212,213,214,215,216,217,218,219,220,221,222,223,224,225,226,227,228,229,230,231,232,233,234,235,236,237,238,239,240,241,242,243,244,245,246,247,248,249,250,251,252,253,254,255,256,257,258,259,260,261,262,263,264,265,266,267,268,269,270,271,272,273,274,275,276,277,278,279,280,281,282,283,284,285,286,287,288,289,290,291,292,293,294,295,296,297,298,299,300,301,302,303,304,305,306,307,308,309,310,311,312,313,314,315,316,317,318,319,320,321,322,323,324,325,326,327,328,329,330,331,332,333,334,335,336,337,338,339,340,341,342,343,344,345,346,347,348,349,350,351,352,353,354,355,356,357,358,359,360,361,362,363,364,365,366,367,368,369,370,371,372,373,374,375,376,377,378,379,380,381,382,383,384,385,386,387,388,389,390,391,392,393,394,395,396,397,398,399],\"colorbar\":{\"title\":{\"text\":\"Trial\"},\"x\":1.0,\"xpad\":40},\"colorscale\":[[0.0,\"rgb(247,251,255)\"],[0.125,\"rgb(222,235,247)\"],[0.25,\"rgb(198,219,239)\"],[0.375,\"rgb(158,202,225)\"],[0.5,\"rgb(107,174,214)\"],[0.625,\"rgb(66,146,198)\"],[0.75,\"rgb(33,113,181)\"],[0.875,\"rgb(8,81,156)\"],[1.0,\"rgb(8,48,107)\"]],\"line\":{\"color\":\"Grey\",\"width\":0.5},\"showscale\":false},\"mode\":\"markers\",\"name\":\"Feasible Trial\",\"showlegend\":false,\"x\":[false,true,true,true,true,false,false,false,true,true,true,true,true,true,true,true,true,true,false,true,true,true,true,true,true,true,false,true,true,false,true,true,true,true,true,true,true,true,false,true,true,true,true,true,true,true,false,true,true,true,true,true,true,true,true,true,true,false,true,true,true,true,true,true,true,true,true,true,true,false,true,true,true,true,true,true,true,true,true,true,true,true,true,true,true,true,false,true,true,true,true,true,true,true,true,true,true,true,true,true,false,true,true,true,true,true,true,true,true,true,true,true,true,true,true,true,true,true,true,true,false,true,true,true,true,true,true,true,true,true,true,true,true,true,true,true,true,true,true,true,true,true,true,true,true,true,true,true,false,true,true,true,true,true,true,true,true,true,true,true,true,true,true,true,true,true,true,true,true,true,false,true,true,true,true,true,true,true,true,true,true,true,true,true,true,true,true,true,true,true,true,true,true,true,true,true,true,true,true,true,true,true,true,true,true,true,true,true,false,true,true,true,true,true,true,true,true,true,true,true,true,true,true,true,true,true,true,true,true,true,true,true,true,true,true,true,true,true,true,true,true,true,true,true,true,true,false,true,true,true,true,true,true,true,true,true,true,true,true,true,true,true,true,true,true,true,false,true,true,true,true,true,true,true,true,true,true,true,true,true,true,true,true,true,true,false,true,true,true,true,true,true,true,true,true,true,true,true,true,true,true,true,true,true,true,true,false,true,true,true,true,true,true,true,true,true,true,true,true,true,true,true,true,true,true,true,false,true,true,true,true,true,true,true,true,true,true,true,true,true,true,true,true,true,true,true,false,true,true,true,true,true,true,true,true,true,true,true,true,true,true,true,true,true,true,true,false,true,true,true,true,true,true,true,true,true,true,true,true,true,true,true,true,true,true,false,true,true,true,true,true,true,true,true,true,true,true,true,true,true],\"y\":[0.026439897033870327,0.03487950309589463,0.03404955105608191,0.03575589803276156,0.03482190627807867,0.029905137604041183,0.02620527227606833,0.02992433617170172,0.03461959165836014,0.03265141349886284,0.03626605417650371,0.036314046693733414,0.03705292566059388,0.037721862130625984,0.03766818841597467,0.03767605691899699,0.042706138502596996,0.04548248371783819,0.02057877421699597,0.04642285790094288,0.0402747119824642,0.045810624151330345,0.04071581192293221,0.039803561673766766,0.04564818716735939,0.03836943836859406,0.02691884226650314,0.045038471829241505,0.03457277752136456,0.00028209999175022335,0.042466717726092736,0.04216377144105594,0.04339842184005504,0.037996609787800846,0.039102759884680094,0.04111136417857713,0.03894964626296129,0.04310886806377577,0.028588602599347927,0.03711739431924718,0.04044177887477345,0.04671227455255944,0.0499208054903359,0.047704401590198786,0.04110919248066151,0.04614070551196392,0.03614812919595787,0.033104359672415914,0.043058429599304775,0.03572003157211605,0.04747547698200718,0.04593376209874155,0.04913950483503634,0.04922186101579093,0.04875024247653658,0.03572891457467824,0.048114301767902996,0.039221662575222,0.04861177778223528,0.04343702076044954,0.05003946514692218,0.049170351195212555,0.04921896244567789,0.049978608552564,0.04332941580434042,0.04397519046949989,0.05044443998510413,0.039884795216020064,0.0504332604231449,0.043211142995380994,0.037823326577433994,0.050115996316584664,0.04484037685870659,0.05168747505557268,0.05131877359268681,0.04392043870973329,0.041284447833540454,0.05148157066825263,0.04603171147186994,0.0500308296376547,0.035836500578597955,0.051655929694065315,0.04450834788192402,0.050827995504984694,0.04672582759750734,0.0499938193566497,0.04123215428419645,0.04281005558565462,0.04586056985888287,0.04151407590240134,0.044669806041064436,0.05114726296942715,0.052149027752692236,0.05167098553613323,0.02086482072343813,0.04595166745819788,0.050476618572697717,0.046980434651735174,0.032528770538040486,0.04397427073090628,0.03785599457744277,0.046099980601875395,0.04994096727514188,0.05086017743708228,0.05142499949832274,0.0327620095563615,0.00028209999175022335,0.04371660457037457,0.044906735162106505,0.05155876739420579,0.03477129947357398,0.05127247450930369,0.04786368136241557,0.05233988967596006,0.04735089755338207,0.05228674104843317,0.046021992343313924,0.04874247319379883,0.05253145840440208,0.04232615937230202,0.035773921564691516,0.053025623359797304,0.00028209999175022335,0.04702923430925792,0.05231757737509755,0.032771015190735955,0.04937572715090423,0.04540628922824291,0.05332611477891539,0.01669097786607284,0.048561217800786476,0.051494290931710145,0.05222898034992236,0.046597545802980346,0.036639159236292275,0.049484717846494414,0.046736198904338944,0.04908996381246523,0.04488187211954436,0.04803806379975599,0.052315226188801994,0.05256229027172812,0.00028209999175022335,0.049812029957835305,0.03319853644505884,0.052038343623255164,0.04766083385172987,0.049239788671940427,0.036573858910983484,0.046756748651605944,0.0442050381607888,0.052134081164420525,0.00028209999175022335,0.04966144478112261,0.05178529845238455,0.04813619377609944,0.05024351221970106,0.04592216335895071,0.052293871530911286,0.04804499026749167,0.035274473407847645,0.051658988800369274,0.05251371692564101,0.02018643380000288,0.04956132816941717,0.05220080178908453,0.00028209999175022335,0.04760971422328194,0.05031411692831666,0.03644101744270177,0.04075972303047583,0.05192472970833517,0.0520298184826187,0.049673079195622756,0.03707560362722458,0.05238286878172927,0.05234707924467548,0.04862709784011752,0.049861594391933765,0.05279444344109127,0.04778316465884765,0.05281176239751699,0.00028209999175022335,0.050282106680756423,0.052288947306223084,0.00028209999175022335,0.04890837508388954,0.05056842409202113,0.04693830839448045,0.051908302619636304,0.04916577814344171,0.00028209999175022335,0.05242786239372675,0.05245785813505832,0.05013604104375097,0.00028209999175022335,0.047897727298062624,0.05215019832908386,0.050257209078319785,0.052175580884597075,0.04590572066256699,0.05223213867651081,0.04930494852808221,0.05073509410319182,0.048777384241141426,0.02062464966320815,0.050709294599516196,0.04761659386796186,0.04537068363890785,0.049964030974564165,0.00028209999175022335,0.05172683763770782,0.05168442932728453,0.04906798707683486,0.0524643754584741,0.0502384731670429,0.04808183778263658,0.052043583346152215,0.05251039471835755,0.019503998911921182,0.0465467751177807,0.050190353558662006,0.05209020461675123,0.00028209999175022335,0.04879519372481683,0.050926668405807,0.05230871555439417,0.049315410136520785,0.052505144961949,0.047915064091842714,0.04995855490671976,0.00028209999175022335,0.05222464141342997,0.05216531102771952,0.049954770043052994,0.05243181113808841,0.048633034334676015,0.05056756566933367,0.03688004379070419,0.05034477599627035,0.00028209999175022335,0.05169930010679951,0.050751116506909166,0.052378990271951094,0.048959955139051395,0.05235828667750101,0.00028209999175022335,0.04977340874074769,0.04781270331796911,0.05213420268139845,0.050112771099916374,0.05226088803269414,0.04775108083220012,0.00028209999175022335,0.04994456373175096,0.032373760582566906,0.03520749860088138,0.04636864572115167,0.05217135231673613,0.00028209999175022335,0.04864697199758141,0.03280471329796975,0.05056014198534036,0.047384780723169505,0.05238426566955667,0.04954695683582973,0.00028209999175022335,0.0510660996617577,0.048513915366210185,0.05164681369105975,0.04663421828908386,0.0498941297266184,0.05245017692425851,0.05228631406675897,0.00028209999175022335,0.048275054236704217,0.049986130342007086,0.05169693554248773,0.04737255990563845,0.04513421048524147,0.049507306626352415,0.0525147916262523,0.05251900458642811,0.01992198610024119,0.049097077572423396,0.03347468656423502,0.05077931290510125,0.05238970160335334,0.00028209999175022335,0.048551467456859974,0.05028721262349424,0.052184281054275014,0.04771907058463989,0.02098988733480906,0.03931997315477999,0.05028831853947577,0.04872792906083948,0.051922293794605195,0.045853520759334694,0.03303755654998706,0.051779185813949954,0.04749448937227959,0.049879420598129186,0.00028209999175022335,0.00028209999175022335,0.04657031039226405,0.03876394490932908,0.037077098620502395,0.05060362722604427,0.04727254697355697,0.05246207778424221,0.00028209999175022335,0.048637823664370666,0.0515219455202582,0.05002795447906943,0.04818269241488607,0.05219580732981291,0.03978236755206695,0.03836120865914232,0.04602881513142628,0.03457975304182526,0.052395876672529054,0.00028209999175022335,0.04996866645707577,0.0519453965132412,0.04871469262893438,0.03746207109523434,0.04544820032240853,0.05208572967043062,0.04795510003411214,0.05260537305712022,0.04701988976514723,0.00028209999175022335,0.033338990004391375,0.04733282385389265,0.052150820406823534,0.04947184596552289,0.05247523060354756,0.045416497769214054,0.052426726377209174,0.036485482623070824,0.0484599885840909,0.0467000258641622,0.036345720261226774,0.05075054682639847,0.00028209999175022335,0.03197221720546533,0.04860630171439076,0.051541691471736276,0.04995664853945318,0.00028209999175022335,0.0521768183510684,0.04801235571252246,0.046422884656974785,0.05008759032947623,0.05215775913774032,0.048850682390292874,0.046225776315112876,0.050234154297574454,0.04773716100664944,0.020160677774879007,0.05047799204899731,0.044684072580194044,0.05222890119666173,0.0481755195686912,0.00028209999175022335,0.04320552199903077,0.04658697048140624,0.04955498253053892,0.05256432818948454,0.00028209999175022335,0.04025088462130049,0.049883052729447874,0.04764695973440014,0.051489848315594604,0.04917311598516655,0.03476351681282037,0.051908662711231124,0.04719688314525899,0.0500593493378979,0.047790317438018884,0.03257665937564696,0.03693640537171824,0.04844750912491972,0.05045434083170954,0.035276472306390624,0.04500522857454867,0.0506569196672424,0.048044737200024,0.051693515229754614,0.00028209999175022335,0.04909821916311431,0.051699598882487915,0.04745591274857878,0.04470236813178052,0.05242735514395696,0.051937667364551104,0.04874719897791813,0.00028209999175022335,0.04558183889747153],\"type\":\"scatter\",\"xaxis\":\"x3\",\"yaxis\":\"y3\"},{\"marker\":{\"color\":[0,1,2,3,4,5,6,7,8,9,10,11,12,13,14,15,16,17,18,19,20,21,22,23,24,25,26,27,28,29,30,31,32,33,34,35,36,37,38,39,40,41,42,43,44,45,46,47,48,49,50,51,52,53,54,55,56,57,58,59,60,61,62,63,64,65,66,67,68,69,70,71,72,73,74,75,76,77,78,79,80,81,82,83,84,85,86,87,88,89,90,91,92,93,94,95,96,97,98,99,100,101,102,103,104,105,106,107,108,109,110,111,112,113,114,115,116,117,118,119,120,121,122,123,124,125,126,127,128,129,130,131,132,133,134,135,136,137,138,139,140,141,142,143,144,145,146,147,148,149,150,151,152,153,154,155,156,157,158,159,160,161,162,163,164,165,166,167,168,169,170,171,172,173,174,175,176,177,178,179,180,181,182,183,184,185,186,187,188,189,190,191,192,193,194,195,196,197,198,199,200,201,202,203,204,205,206,207,208,209,210,211,212,213,214,215,216,217,218,219,220,221,222,223,224,225,226,227,228,229,230,231,232,233,234,235,236,237,238,239,240,241,242,243,244,245,246,247,248,249,250,251,252,253,254,255,256,257,258,259,260,261,262,263,264,265,266,267,268,269,270,271,272,273,274,275,276,277,278,279,280,281,282,283,284,285,286,287,288,289,290,291,292,293,294,295,296,297,298,299,300,301,302,303,304,305,306,307,308,309,310,311,312,313,314,315,316,317,318,319,320,321,322,323,324,325,326,327,328,329,330,331,332,333,334,335,336,337,338,339,340,341,342,343,344,345,346,347,348,349,350,351,352,353,354,355,356,357,358,359,360,361,362,363,364,365,366,367,368,369,370,371,372,373,374,375,376,377,378,379,380,381,382,383,384,385,386,387,388,389,390,391,392,393,394,395,396,397,398,399],\"colorbar\":{\"title\":{\"text\":\"Trial\"},\"x\":1.0,\"xpad\":40},\"colorscale\":[[0.0,\"rgb(247,251,255)\"],[0.125,\"rgb(222,235,247)\"],[0.25,\"rgb(198,219,239)\"],[0.375,\"rgb(158,202,225)\"],[0.5,\"rgb(107,174,214)\"],[0.625,\"rgb(66,146,198)\"],[0.75,\"rgb(33,113,181)\"],[0.875,\"rgb(8,81,156)\"],[1.0,\"rgb(8,48,107)\"]],\"line\":{\"color\":\"Grey\",\"width\":0.5},\"showscale\":false},\"mode\":\"markers\",\"name\":\"Feasible Trial\",\"showlegend\":false,\"x\":[1240,1268,870,1054,1371,305,284,582,1160,1333,909,893,705,582,561,515,71,12,29,17,199,20,163,342,16,419,151,131,1478,0,221,76,5,423,247,110,373,88,255,684,173,92,46,76,274,123,317,1174,196,1018,96,126,64,61,68,821,80,222,66,180,52,61,60,49,178,151,43,309,37,5,386,47,133,29,34,3,225,34,124,40,513,29,153,36,108,5,37,197,106,259,154,28,23,26,1,104,36,90,1323,141,27,94,49,33,29,956,0,175,126,28,680,27,76,21,87,24,122,71,21,212,78,16,0,99,25,1485,62,137,14,1,69,31,25,110,2,59,104,33,150,80,25,22,0,52,1152,26,85,60,21,108,161,26,0,57,28,76,48,124,25,83,822,29,22,1,59,25,0,90,49,624,109,27,26,55,477,24,24,74,55,19,88,18,0,48,25,0,69,45,101,28,66,0,23,23,50,0,86,26,49,25,122,26,64,29,71,1,43,93,20,52,0,29,29,67,23,49,84,27,20,1,107,49,27,0,70,39,25,63,22,86,52,0,25,26,53,23,74,25,2,48,0,31,43,24,68,24,0,55,88,26,50,24,84,0,52,1395,750,114,25,0,68,1095,45,95,23,59,0,36,76,32,111,54,22,23,0,78,53,30,86,138,49,23,22,1,67,104,42,22,0,69,47,24,88,1,375,48,68,28,126,993,28,94,54,0,0,67,31,542,45,96,23,0,68,31,51,78,26,331,447,108,909,23,0,52,25,71,46,136,25,83,21,49,0,1236,97,26,60,23,49,23,643,76,111,2,43,0,752,74,33,53,0,26,83,116,51,27,70,23,48,88,1,46,151,24,71,0,29,113,59,22,0,297,52,89,31,65,870,28,100,50,21,1434,2,77,46,1,131,44,82,31,0,62,29,95,58,23,27,68,0,111],\"y\":[0.026439897033870327,0.03487950309589463,0.03404955105608191,0.03575589803276156,0.03482190627807867,0.029905137604041183,0.02620527227606833,0.02992433617170172,0.03461959165836014,0.03265141349886284,0.03626605417650371,0.036314046693733414,0.03705292566059388,0.037721862130625984,0.03766818841597467,0.03767605691899699,0.042706138502596996,0.04548248371783819,0.02057877421699597,0.04642285790094288,0.0402747119824642,0.045810624151330345,0.04071581192293221,0.039803561673766766,0.04564818716735939,0.03836943836859406,0.02691884226650314,0.045038471829241505,0.03457277752136456,0.00028209999175022335,0.042466717726092736,0.04216377144105594,0.04339842184005504,0.037996609787800846,0.039102759884680094,0.04111136417857713,0.03894964626296129,0.04310886806377577,0.028588602599347927,0.03711739431924718,0.04044177887477345,0.04671227455255944,0.0499208054903359,0.047704401590198786,0.04110919248066151,0.04614070551196392,0.03614812919595787,0.033104359672415914,0.043058429599304775,0.03572003157211605,0.04747547698200718,0.04593376209874155,0.04913950483503634,0.04922186101579093,0.04875024247653658,0.03572891457467824,0.048114301767902996,0.039221662575222,0.04861177778223528,0.04343702076044954,0.05003946514692218,0.049170351195212555,0.04921896244567789,0.049978608552564,0.04332941580434042,0.04397519046949989,0.05044443998510413,0.039884795216020064,0.0504332604231449,0.043211142995380994,0.037823326577433994,0.050115996316584664,0.04484037685870659,0.05168747505557268,0.05131877359268681,0.04392043870973329,0.041284447833540454,0.05148157066825263,0.04603171147186994,0.0500308296376547,0.035836500578597955,0.051655929694065315,0.04450834788192402,0.050827995504984694,0.04672582759750734,0.0499938193566497,0.04123215428419645,0.04281005558565462,0.04586056985888287,0.04151407590240134,0.044669806041064436,0.05114726296942715,0.052149027752692236,0.05167098553613323,0.02086482072343813,0.04595166745819788,0.050476618572697717,0.046980434651735174,0.032528770538040486,0.04397427073090628,0.03785599457744277,0.046099980601875395,0.04994096727514188,0.05086017743708228,0.05142499949832274,0.0327620095563615,0.00028209999175022335,0.04371660457037457,0.044906735162106505,0.05155876739420579,0.03477129947357398,0.05127247450930369,0.04786368136241557,0.05233988967596006,0.04735089755338207,0.05228674104843317,0.046021992343313924,0.04874247319379883,0.05253145840440208,0.04232615937230202,0.035773921564691516,0.053025623359797304,0.00028209999175022335,0.04702923430925792,0.05231757737509755,0.032771015190735955,0.04937572715090423,0.04540628922824291,0.05332611477891539,0.01669097786607284,0.048561217800786476,0.051494290931710145,0.05222898034992236,0.046597545802980346,0.036639159236292275,0.049484717846494414,0.046736198904338944,0.04908996381246523,0.04488187211954436,0.04803806379975599,0.052315226188801994,0.05256229027172812,0.00028209999175022335,0.049812029957835305,0.03319853644505884,0.052038343623255164,0.04766083385172987,0.049239788671940427,0.036573858910983484,0.046756748651605944,0.0442050381607888,0.052134081164420525,0.00028209999175022335,0.04966144478112261,0.05178529845238455,0.04813619377609944,0.05024351221970106,0.04592216335895071,0.052293871530911286,0.04804499026749167,0.035274473407847645,0.051658988800369274,0.05251371692564101,0.02018643380000288,0.04956132816941717,0.05220080178908453,0.00028209999175022335,0.04760971422328194,0.05031411692831666,0.03644101744270177,0.04075972303047583,0.05192472970833517,0.0520298184826187,0.049673079195622756,0.03707560362722458,0.05238286878172927,0.05234707924467548,0.04862709784011752,0.049861594391933765,0.05279444344109127,0.04778316465884765,0.05281176239751699,0.00028209999175022335,0.050282106680756423,0.052288947306223084,0.00028209999175022335,0.04890837508388954,0.05056842409202113,0.04693830839448045,0.051908302619636304,0.04916577814344171,0.00028209999175022335,0.05242786239372675,0.05245785813505832,0.05013604104375097,0.00028209999175022335,0.047897727298062624,0.05215019832908386,0.050257209078319785,0.052175580884597075,0.04590572066256699,0.05223213867651081,0.04930494852808221,0.05073509410319182,0.048777384241141426,0.02062464966320815,0.050709294599516196,0.04761659386796186,0.04537068363890785,0.049964030974564165,0.00028209999175022335,0.05172683763770782,0.05168442932728453,0.04906798707683486,0.0524643754584741,0.0502384731670429,0.04808183778263658,0.052043583346152215,0.05251039471835755,0.019503998911921182,0.0465467751177807,0.050190353558662006,0.05209020461675123,0.00028209999175022335,0.04879519372481683,0.050926668405807,0.05230871555439417,0.049315410136520785,0.052505144961949,0.047915064091842714,0.04995855490671976,0.00028209999175022335,0.05222464141342997,0.05216531102771952,0.049954770043052994,0.05243181113808841,0.048633034334676015,0.05056756566933367,0.03688004379070419,0.05034477599627035,0.00028209999175022335,0.05169930010679951,0.050751116506909166,0.052378990271951094,0.048959955139051395,0.05235828667750101,0.00028209999175022335,0.04977340874074769,0.04781270331796911,0.05213420268139845,0.050112771099916374,0.05226088803269414,0.04775108083220012,0.00028209999175022335,0.04994456373175096,0.032373760582566906,0.03520749860088138,0.04636864572115167,0.05217135231673613,0.00028209999175022335,0.04864697199758141,0.03280471329796975,0.05056014198534036,0.047384780723169505,0.05238426566955667,0.04954695683582973,0.00028209999175022335,0.0510660996617577,0.048513915366210185,0.05164681369105975,0.04663421828908386,0.0498941297266184,0.05245017692425851,0.05228631406675897,0.00028209999175022335,0.048275054236704217,0.049986130342007086,0.05169693554248773,0.04737255990563845,0.04513421048524147,0.049507306626352415,0.0525147916262523,0.05251900458642811,0.01992198610024119,0.049097077572423396,0.03347468656423502,0.05077931290510125,0.05238970160335334,0.00028209999175022335,0.048551467456859974,0.05028721262349424,0.052184281054275014,0.04771907058463989,0.02098988733480906,0.03931997315477999,0.05028831853947577,0.04872792906083948,0.051922293794605195,0.045853520759334694,0.03303755654998706,0.051779185813949954,0.04749448937227959,0.049879420598129186,0.00028209999175022335,0.00028209999175022335,0.04657031039226405,0.03876394490932908,0.037077098620502395,0.05060362722604427,0.04727254697355697,0.05246207778424221,0.00028209999175022335,0.048637823664370666,0.0515219455202582,0.05002795447906943,0.04818269241488607,0.05219580732981291,0.03978236755206695,0.03836120865914232,0.04602881513142628,0.03457975304182526,0.052395876672529054,0.00028209999175022335,0.04996866645707577,0.0519453965132412,0.04871469262893438,0.03746207109523434,0.04544820032240853,0.05208572967043062,0.04795510003411214,0.05260537305712022,0.04701988976514723,0.00028209999175022335,0.033338990004391375,0.04733282385389265,0.052150820406823534,0.04947184596552289,0.05247523060354756,0.045416497769214054,0.052426726377209174,0.036485482623070824,0.0484599885840909,0.0467000258641622,0.036345720261226774,0.05075054682639847,0.00028209999175022335,0.03197221720546533,0.04860630171439076,0.051541691471736276,0.04995664853945318,0.00028209999175022335,0.0521768183510684,0.04801235571252246,0.046422884656974785,0.05008759032947623,0.05215775913774032,0.048850682390292874,0.046225776315112876,0.050234154297574454,0.04773716100664944,0.020160677774879007,0.05047799204899731,0.044684072580194044,0.05222890119666173,0.0481755195686912,0.00028209999175022335,0.04320552199903077,0.04658697048140624,0.04955498253053892,0.05256432818948454,0.00028209999175022335,0.04025088462130049,0.049883052729447874,0.04764695973440014,0.051489848315594604,0.04917311598516655,0.03476351681282037,0.051908662711231124,0.04719688314525899,0.0500593493378979,0.047790317438018884,0.03257665937564696,0.03693640537171824,0.04844750912491972,0.05045434083170954,0.035276472306390624,0.04500522857454867,0.0506569196672424,0.048044737200024,0.051693515229754614,0.00028209999175022335,0.04909821916311431,0.051699598882487915,0.04745591274857878,0.04470236813178052,0.05242735514395696,0.051937667364551104,0.04874719897791813,0.00028209999175022335,0.04558183889747153],\"type\":\"scatter\",\"xaxis\":\"x4\",\"yaxis\":\"y4\"}],                        {\"template\":{\"data\":{\"histogram2dcontour\":[{\"type\":\"histogram2dcontour\",\"colorbar\":{\"outlinewidth\":0,\"ticks\":\"\"},\"colorscale\":[[0.0,\"#0d0887\"],[0.1111111111111111,\"#46039f\"],[0.2222222222222222,\"#7201a8\"],[0.3333333333333333,\"#9c179e\"],[0.4444444444444444,\"#bd3786\"],[0.5555555555555556,\"#d8576b\"],[0.6666666666666666,\"#ed7953\"],[0.7777777777777778,\"#fb9f3a\"],[0.8888888888888888,\"#fdca26\"],[1.0,\"#f0f921\"]]}],\"choropleth\":[{\"type\":\"choropleth\",\"colorbar\":{\"outlinewidth\":0,\"ticks\":\"\"}}],\"histogram2d\":[{\"type\":\"histogram2d\",\"colorbar\":{\"outlinewidth\":0,\"ticks\":\"\"},\"colorscale\":[[0.0,\"#0d0887\"],[0.1111111111111111,\"#46039f\"],[0.2222222222222222,\"#7201a8\"],[0.3333333333333333,\"#9c179e\"],[0.4444444444444444,\"#bd3786\"],[0.5555555555555556,\"#d8576b\"],[0.6666666666666666,\"#ed7953\"],[0.7777777777777778,\"#fb9f3a\"],[0.8888888888888888,\"#fdca26\"],[1.0,\"#f0f921\"]]}],\"heatmap\":[{\"type\":\"heatmap\",\"colorbar\":{\"outlinewidth\":0,\"ticks\":\"\"},\"colorscale\":[[0.0,\"#0d0887\"],[0.1111111111111111,\"#46039f\"],[0.2222222222222222,\"#7201a8\"],[0.3333333333333333,\"#9c179e\"],[0.4444444444444444,\"#bd3786\"],[0.5555555555555556,\"#d8576b\"],[0.6666666666666666,\"#ed7953\"],[0.7777777777777778,\"#fb9f3a\"],[0.8888888888888888,\"#fdca26\"],[1.0,\"#f0f921\"]]}],\"heatmapgl\":[{\"type\":\"heatmapgl\",\"colorbar\":{\"outlinewidth\":0,\"ticks\":\"\"},\"colorscale\":[[0.0,\"#0d0887\"],[0.1111111111111111,\"#46039f\"],[0.2222222222222222,\"#7201a8\"],[0.3333333333333333,\"#9c179e\"],[0.4444444444444444,\"#bd3786\"],[0.5555555555555556,\"#d8576b\"],[0.6666666666666666,\"#ed7953\"],[0.7777777777777778,\"#fb9f3a\"],[0.8888888888888888,\"#fdca26\"],[1.0,\"#f0f921\"]]}],\"contourcarpet\":[{\"type\":\"contourcarpet\",\"colorbar\":{\"outlinewidth\":0,\"ticks\":\"\"}}],\"contour\":[{\"type\":\"contour\",\"colorbar\":{\"outlinewidth\":0,\"ticks\":\"\"},\"colorscale\":[[0.0,\"#0d0887\"],[0.1111111111111111,\"#46039f\"],[0.2222222222222222,\"#7201a8\"],[0.3333333333333333,\"#9c179e\"],[0.4444444444444444,\"#bd3786\"],[0.5555555555555556,\"#d8576b\"],[0.6666666666666666,\"#ed7953\"],[0.7777777777777778,\"#fb9f3a\"],[0.8888888888888888,\"#fdca26\"],[1.0,\"#f0f921\"]]}],\"surface\":[{\"type\":\"surface\",\"colorbar\":{\"outlinewidth\":0,\"ticks\":\"\"},\"colorscale\":[[0.0,\"#0d0887\"],[0.1111111111111111,\"#46039f\"],[0.2222222222222222,\"#7201a8\"],[0.3333333333333333,\"#9c179e\"],[0.4444444444444444,\"#bd3786\"],[0.5555555555555556,\"#d8576b\"],[0.6666666666666666,\"#ed7953\"],[0.7777777777777778,\"#fb9f3a\"],[0.8888888888888888,\"#fdca26\"],[1.0,\"#f0f921\"]]}],\"mesh3d\":[{\"type\":\"mesh3d\",\"colorbar\":{\"outlinewidth\":0,\"ticks\":\"\"}}],\"scatter\":[{\"fillpattern\":{\"fillmode\":\"overlay\",\"size\":10,\"solidity\":0.2},\"type\":\"scatter\"}],\"parcoords\":[{\"type\":\"parcoords\",\"line\":{\"colorbar\":{\"outlinewidth\":0,\"ticks\":\"\"}}}],\"scatterpolargl\":[{\"type\":\"scatterpolargl\",\"marker\":{\"colorbar\":{\"outlinewidth\":0,\"ticks\":\"\"}}}],\"bar\":[{\"error_x\":{\"color\":\"#2a3f5f\"},\"error_y\":{\"color\":\"#2a3f5f\"},\"marker\":{\"line\":{\"color\":\"#E5ECF6\",\"width\":0.5},\"pattern\":{\"fillmode\":\"overlay\",\"size\":10,\"solidity\":0.2}},\"type\":\"bar\"}],\"scattergeo\":[{\"type\":\"scattergeo\",\"marker\":{\"colorbar\":{\"outlinewidth\":0,\"ticks\":\"\"}}}],\"scatterpolar\":[{\"type\":\"scatterpolar\",\"marker\":{\"colorbar\":{\"outlinewidth\":0,\"ticks\":\"\"}}}],\"histogram\":[{\"marker\":{\"pattern\":{\"fillmode\":\"overlay\",\"size\":10,\"solidity\":0.2}},\"type\":\"histogram\"}],\"scattergl\":[{\"type\":\"scattergl\",\"marker\":{\"colorbar\":{\"outlinewidth\":0,\"ticks\":\"\"}}}],\"scatter3d\":[{\"type\":\"scatter3d\",\"line\":{\"colorbar\":{\"outlinewidth\":0,\"ticks\":\"\"}},\"marker\":{\"colorbar\":{\"outlinewidth\":0,\"ticks\":\"\"}}}],\"scattermapbox\":[{\"type\":\"scattermapbox\",\"marker\":{\"colorbar\":{\"outlinewidth\":0,\"ticks\":\"\"}}}],\"scatterternary\":[{\"type\":\"scatterternary\",\"marker\":{\"colorbar\":{\"outlinewidth\":0,\"ticks\":\"\"}}}],\"scattercarpet\":[{\"type\":\"scattercarpet\",\"marker\":{\"colorbar\":{\"outlinewidth\":0,\"ticks\":\"\"}}}],\"carpet\":[{\"aaxis\":{\"endlinecolor\":\"#2a3f5f\",\"gridcolor\":\"white\",\"linecolor\":\"white\",\"minorgridcolor\":\"white\",\"startlinecolor\":\"#2a3f5f\"},\"baxis\":{\"endlinecolor\":\"#2a3f5f\",\"gridcolor\":\"white\",\"linecolor\":\"white\",\"minorgridcolor\":\"white\",\"startlinecolor\":\"#2a3f5f\"},\"type\":\"carpet\"}],\"table\":[{\"cells\":{\"fill\":{\"color\":\"#EBF0F8\"},\"line\":{\"color\":\"white\"}},\"header\":{\"fill\":{\"color\":\"#C8D4E3\"},\"line\":{\"color\":\"white\"}},\"type\":\"table\"}],\"barpolar\":[{\"marker\":{\"line\":{\"color\":\"#E5ECF6\",\"width\":0.5},\"pattern\":{\"fillmode\":\"overlay\",\"size\":10,\"solidity\":0.2}},\"type\":\"barpolar\"}],\"pie\":[{\"automargin\":true,\"type\":\"pie\"}]},\"layout\":{\"autotypenumbers\":\"strict\",\"colorway\":[\"#636efa\",\"#EF553B\",\"#00cc96\",\"#ab63fa\",\"#FFA15A\",\"#19d3f3\",\"#FF6692\",\"#B6E880\",\"#FF97FF\",\"#FECB52\"],\"font\":{\"color\":\"#2a3f5f\"},\"hovermode\":\"closest\",\"hoverlabel\":{\"align\":\"left\"},\"paper_bgcolor\":\"white\",\"plot_bgcolor\":\"#E5ECF6\",\"polar\":{\"bgcolor\":\"#E5ECF6\",\"angularaxis\":{\"gridcolor\":\"white\",\"linecolor\":\"white\",\"ticks\":\"\"},\"radialaxis\":{\"gridcolor\":\"white\",\"linecolor\":\"white\",\"ticks\":\"\"}},\"ternary\":{\"bgcolor\":\"#E5ECF6\",\"aaxis\":{\"gridcolor\":\"white\",\"linecolor\":\"white\",\"ticks\":\"\"},\"baxis\":{\"gridcolor\":\"white\",\"linecolor\":\"white\",\"ticks\":\"\"},\"caxis\":{\"gridcolor\":\"white\",\"linecolor\":\"white\",\"ticks\":\"\"}},\"coloraxis\":{\"colorbar\":{\"outlinewidth\":0,\"ticks\":\"\"}},\"colorscale\":{\"sequential\":[[0.0,\"#0d0887\"],[0.1111111111111111,\"#46039f\"],[0.2222222222222222,\"#7201a8\"],[0.3333333333333333,\"#9c179e\"],[0.4444444444444444,\"#bd3786\"],[0.5555555555555556,\"#d8576b\"],[0.6666666666666666,\"#ed7953\"],[0.7777777777777778,\"#fb9f3a\"],[0.8888888888888888,\"#fdca26\"],[1.0,\"#f0f921\"]],\"sequentialminus\":[[0.0,\"#0d0887\"],[0.1111111111111111,\"#46039f\"],[0.2222222222222222,\"#7201a8\"],[0.3333333333333333,\"#9c179e\"],[0.4444444444444444,\"#bd3786\"],[0.5555555555555556,\"#d8576b\"],[0.6666666666666666,\"#ed7953\"],[0.7777777777777778,\"#fb9f3a\"],[0.8888888888888888,\"#fdca26\"],[1.0,\"#f0f921\"]],\"diverging\":[[0,\"#8e0152\"],[0.1,\"#c51b7d\"],[0.2,\"#de77ae\"],[0.3,\"#f1b6da\"],[0.4,\"#fde0ef\"],[0.5,\"#f7f7f7\"],[0.6,\"#e6f5d0\"],[0.7,\"#b8e186\"],[0.8,\"#7fbc41\"],[0.9,\"#4d9221\"],[1,\"#276419\"]]},\"xaxis\":{\"gridcolor\":\"white\",\"linecolor\":\"white\",\"ticks\":\"\",\"title\":{\"standoff\":15},\"zerolinecolor\":\"white\",\"automargin\":true,\"zerolinewidth\":2},\"yaxis\":{\"gridcolor\":\"white\",\"linecolor\":\"white\",\"ticks\":\"\",\"title\":{\"standoff\":15},\"zerolinecolor\":\"white\",\"automargin\":true,\"zerolinewidth\":2},\"scene\":{\"xaxis\":{\"backgroundcolor\":\"#E5ECF6\",\"gridcolor\":\"white\",\"linecolor\":\"white\",\"showbackground\":true,\"ticks\":\"\",\"zerolinecolor\":\"white\",\"gridwidth\":2},\"yaxis\":{\"backgroundcolor\":\"#E5ECF6\",\"gridcolor\":\"white\",\"linecolor\":\"white\",\"showbackground\":true,\"ticks\":\"\",\"zerolinecolor\":\"white\",\"gridwidth\":2},\"zaxis\":{\"backgroundcolor\":\"#E5ECF6\",\"gridcolor\":\"white\",\"linecolor\":\"white\",\"showbackground\":true,\"ticks\":\"\",\"zerolinecolor\":\"white\",\"gridwidth\":2}},\"shapedefaults\":{\"line\":{\"color\":\"#2a3f5f\"}},\"annotationdefaults\":{\"arrowcolor\":\"#2a3f5f\",\"arrowhead\":0,\"arrowwidth\":1},\"geo\":{\"bgcolor\":\"white\",\"landcolor\":\"#E5ECF6\",\"subunitcolor\":\"white\",\"showland\":true,\"showlakes\":true,\"lakecolor\":\"white\"},\"title\":{\"x\":0.05},\"mapbox\":{\"style\":\"light\"}}},\"xaxis\":{\"anchor\":\"y\",\"domain\":[0.0,0.2125],\"title\":{\"text\":\"alpha\"}},\"yaxis\":{\"anchor\":\"x\",\"domain\":[0.0,1.0],\"title\":{\"text\":\"Objective Value\"}},\"xaxis2\":{\"anchor\":\"y2\",\"domain\":[0.2625,0.475],\"title\":{\"text\":\"implicit\"},\"type\":\"category\",\"categoryorder\":\"array\",\"categoryarray\":[true,false]},\"yaxis2\":{\"anchor\":\"x2\",\"domain\":[0.0,1.0],\"matches\":\"y\",\"showticklabels\":false},\"xaxis3\":{\"anchor\":\"y3\",\"domain\":[0.525,0.7375],\"title\":{\"text\":\"normalize_similarity\"},\"type\":\"category\",\"categoryorder\":\"array\",\"categoryarray\":[true,false]},\"yaxis3\":{\"anchor\":\"x3\",\"domain\":[0.0,1.0],\"matches\":\"y\",\"showticklabels\":false},\"xaxis4\":{\"anchor\":\"y4\",\"domain\":[0.7875,1.0],\"title\":{\"text\":\"topK\"}},\"yaxis4\":{\"anchor\":\"x4\",\"domain\":[0.0,1.0],\"matches\":\"y\",\"showticklabels\":false},\"title\":{\"text\":\"Slice Plot\"},\"width\":1200},                        {\"responsive\": true}                    ).then(function(){\n",
       "                            \n",
       "var gd = document.getElementById('1a26c5df-62ee-4b5f-80d7-668702a69668');\n",
       "var x = new MutationObserver(function (mutations, observer) {{\n",
       "        var display = window.getComputedStyle(gd).display;\n",
       "        if (!display || display === 'none') {{\n",
       "            console.log([gd, 'removed!']);\n",
       "            Plotly.purge(gd);\n",
       "            observer.disconnect();\n",
       "        }}\n",
       "}});\n",
       "\n",
       "// Listen for the removal of the full notebook cells\n",
       "var notebookContainer = gd.closest('#notebook-container');\n",
       "if (notebookContainer) {{\n",
       "    x.observe(notebookContainer, {childList: true});\n",
       "}}\n",
       "\n",
       "// Listen for the clearing of the current output cell\n",
       "var outputEl = gd.closest('.output');\n",
       "if (outputEl) {{\n",
       "    x.observe(outputEl, {childList: true});\n",
       "}}\n",
       "\n",
       "                        })                };                });            </script>        </div>"
      ]
     },
     "metadata": {},
     "output_type": "display_data"
    }
   ],
   "source": [
    "if not config['tune_parameters']:\n",
    "    optuna_study = optuna.load_study(study_name=f'hyperparameters_tuning_{config[\"model\"]}', storage=f'sqlite:///{config[\"database_path\"]}')\n",
    "    \n",
    "fig = optuna.visualization.plot_slice(optuna_study)\n",
    "fig.show()"
   ]
  },
  {
   "cell_type": "code",
   "execution_count": 17,
   "id": "29db5f7a",
   "metadata": {
    "execution": {
     "iopub.execute_input": "2024-11-19T03:39:38.488900Z",
     "iopub.status.busy": "2024-11-19T03:39:38.488506Z",
     "iopub.status.idle": "2024-11-19T03:39:45.834946Z",
     "shell.execute_reply": "2024-11-19T03:39:45.833987Z"
    },
    "papermill": {
     "duration": 7.393092,
     "end_time": "2024-11-19T03:39:45.836989",
     "exception": false,
     "start_time": "2024-11-19T03:39:38.443897",
     "status": "completed"
    },
    "tags": []
   },
   "outputs": [
    {
     "data": {
      "text/html": [
       "<div>                            <div id=\"62844641-fbe1-42f9-998b-ab5d293308df\" class=\"plotly-graph-div\" style=\"height:525px; width:100%;\"></div>            <script type=\"text/javascript\">                require([\"plotly\"], function(Plotly) {                    window.PLOTLYENV=window.PLOTLYENV || {};                                    if (document.getElementById(\"62844641-fbe1-42f9-998b-ab5d293308df\")) {                    Plotly.newPlot(                        \"62844641-fbe1-42f9-998b-ab5d293308df\",                        [{\"cliponaxis\":false,\"hovertemplate\":[\"alpha (FloatDistribution): 0.03317429173547876\\u003cextra\\u003e\\u003c\\u002fextra\\u003e\",\"implicit (CategoricalDistribution): 0.03973264078103353\\u003cextra\\u003e\\u003c\\u002fextra\\u003e\",\"normalize_similarity (CategoricalDistribution): 0.3868206472033861\\u003cextra\\u003e\\u003c\\u002fextra\\u003e\",\"topK (IntDistribution): 0.5402724202801016\\u003cextra\\u003e\\u003c\\u002fextra\\u003e\"],\"name\":\"Objective Value\",\"orientation\":\"h\",\"text\":[\"0.03\",\"0.04\",\"0.39\",\"0.54\"],\"textposition\":\"outside\",\"x\":[0.03317429173547876,0.03973264078103353,0.3868206472033861,0.5402724202801016],\"y\":[\"alpha\",\"implicit\",\"normalize_similarity\",\"topK\"],\"type\":\"bar\"}],                        {\"title\":{\"text\":\"Hyperparameter Importances\"},\"xaxis\":{\"title\":{\"text\":\"Hyperparameter Importance\"}},\"yaxis\":{\"title\":{\"text\":\"Hyperparameter\"}},\"template\":{\"data\":{\"histogram2dcontour\":[{\"type\":\"histogram2dcontour\",\"colorbar\":{\"outlinewidth\":0,\"ticks\":\"\"},\"colorscale\":[[0.0,\"#0d0887\"],[0.1111111111111111,\"#46039f\"],[0.2222222222222222,\"#7201a8\"],[0.3333333333333333,\"#9c179e\"],[0.4444444444444444,\"#bd3786\"],[0.5555555555555556,\"#d8576b\"],[0.6666666666666666,\"#ed7953\"],[0.7777777777777778,\"#fb9f3a\"],[0.8888888888888888,\"#fdca26\"],[1.0,\"#f0f921\"]]}],\"choropleth\":[{\"type\":\"choropleth\",\"colorbar\":{\"outlinewidth\":0,\"ticks\":\"\"}}],\"histogram2d\":[{\"type\":\"histogram2d\",\"colorbar\":{\"outlinewidth\":0,\"ticks\":\"\"},\"colorscale\":[[0.0,\"#0d0887\"],[0.1111111111111111,\"#46039f\"],[0.2222222222222222,\"#7201a8\"],[0.3333333333333333,\"#9c179e\"],[0.4444444444444444,\"#bd3786\"],[0.5555555555555556,\"#d8576b\"],[0.6666666666666666,\"#ed7953\"],[0.7777777777777778,\"#fb9f3a\"],[0.8888888888888888,\"#fdca26\"],[1.0,\"#f0f921\"]]}],\"heatmap\":[{\"type\":\"heatmap\",\"colorbar\":{\"outlinewidth\":0,\"ticks\":\"\"},\"colorscale\":[[0.0,\"#0d0887\"],[0.1111111111111111,\"#46039f\"],[0.2222222222222222,\"#7201a8\"],[0.3333333333333333,\"#9c179e\"],[0.4444444444444444,\"#bd3786\"],[0.5555555555555556,\"#d8576b\"],[0.6666666666666666,\"#ed7953\"],[0.7777777777777778,\"#fb9f3a\"],[0.8888888888888888,\"#fdca26\"],[1.0,\"#f0f921\"]]}],\"heatmapgl\":[{\"type\":\"heatmapgl\",\"colorbar\":{\"outlinewidth\":0,\"ticks\":\"\"},\"colorscale\":[[0.0,\"#0d0887\"],[0.1111111111111111,\"#46039f\"],[0.2222222222222222,\"#7201a8\"],[0.3333333333333333,\"#9c179e\"],[0.4444444444444444,\"#bd3786\"],[0.5555555555555556,\"#d8576b\"],[0.6666666666666666,\"#ed7953\"],[0.7777777777777778,\"#fb9f3a\"],[0.8888888888888888,\"#fdca26\"],[1.0,\"#f0f921\"]]}],\"contourcarpet\":[{\"type\":\"contourcarpet\",\"colorbar\":{\"outlinewidth\":0,\"ticks\":\"\"}}],\"contour\":[{\"type\":\"contour\",\"colorbar\":{\"outlinewidth\":0,\"ticks\":\"\"},\"colorscale\":[[0.0,\"#0d0887\"],[0.1111111111111111,\"#46039f\"],[0.2222222222222222,\"#7201a8\"],[0.3333333333333333,\"#9c179e\"],[0.4444444444444444,\"#bd3786\"],[0.5555555555555556,\"#d8576b\"],[0.6666666666666666,\"#ed7953\"],[0.7777777777777778,\"#fb9f3a\"],[0.8888888888888888,\"#fdca26\"],[1.0,\"#f0f921\"]]}],\"surface\":[{\"type\":\"surface\",\"colorbar\":{\"outlinewidth\":0,\"ticks\":\"\"},\"colorscale\":[[0.0,\"#0d0887\"],[0.1111111111111111,\"#46039f\"],[0.2222222222222222,\"#7201a8\"],[0.3333333333333333,\"#9c179e\"],[0.4444444444444444,\"#bd3786\"],[0.5555555555555556,\"#d8576b\"],[0.6666666666666666,\"#ed7953\"],[0.7777777777777778,\"#fb9f3a\"],[0.8888888888888888,\"#fdca26\"],[1.0,\"#f0f921\"]]}],\"mesh3d\":[{\"type\":\"mesh3d\",\"colorbar\":{\"outlinewidth\":0,\"ticks\":\"\"}}],\"scatter\":[{\"fillpattern\":{\"fillmode\":\"overlay\",\"size\":10,\"solidity\":0.2},\"type\":\"scatter\"}],\"parcoords\":[{\"type\":\"parcoords\",\"line\":{\"colorbar\":{\"outlinewidth\":0,\"ticks\":\"\"}}}],\"scatterpolargl\":[{\"type\":\"scatterpolargl\",\"marker\":{\"colorbar\":{\"outlinewidth\":0,\"ticks\":\"\"}}}],\"bar\":[{\"error_x\":{\"color\":\"#2a3f5f\"},\"error_y\":{\"color\":\"#2a3f5f\"},\"marker\":{\"line\":{\"color\":\"#E5ECF6\",\"width\":0.5},\"pattern\":{\"fillmode\":\"overlay\",\"size\":10,\"solidity\":0.2}},\"type\":\"bar\"}],\"scattergeo\":[{\"type\":\"scattergeo\",\"marker\":{\"colorbar\":{\"outlinewidth\":0,\"ticks\":\"\"}}}],\"scatterpolar\":[{\"type\":\"scatterpolar\",\"marker\":{\"colorbar\":{\"outlinewidth\":0,\"ticks\":\"\"}}}],\"histogram\":[{\"marker\":{\"pattern\":{\"fillmode\":\"overlay\",\"size\":10,\"solidity\":0.2}},\"type\":\"histogram\"}],\"scattergl\":[{\"type\":\"scattergl\",\"marker\":{\"colorbar\":{\"outlinewidth\":0,\"ticks\":\"\"}}}],\"scatter3d\":[{\"type\":\"scatter3d\",\"line\":{\"colorbar\":{\"outlinewidth\":0,\"ticks\":\"\"}},\"marker\":{\"colorbar\":{\"outlinewidth\":0,\"ticks\":\"\"}}}],\"scattermapbox\":[{\"type\":\"scattermapbox\",\"marker\":{\"colorbar\":{\"outlinewidth\":0,\"ticks\":\"\"}}}],\"scatterternary\":[{\"type\":\"scatterternary\",\"marker\":{\"colorbar\":{\"outlinewidth\":0,\"ticks\":\"\"}}}],\"scattercarpet\":[{\"type\":\"scattercarpet\",\"marker\":{\"colorbar\":{\"outlinewidth\":0,\"ticks\":\"\"}}}],\"carpet\":[{\"aaxis\":{\"endlinecolor\":\"#2a3f5f\",\"gridcolor\":\"white\",\"linecolor\":\"white\",\"minorgridcolor\":\"white\",\"startlinecolor\":\"#2a3f5f\"},\"baxis\":{\"endlinecolor\":\"#2a3f5f\",\"gridcolor\":\"white\",\"linecolor\":\"white\",\"minorgridcolor\":\"white\",\"startlinecolor\":\"#2a3f5f\"},\"type\":\"carpet\"}],\"table\":[{\"cells\":{\"fill\":{\"color\":\"#EBF0F8\"},\"line\":{\"color\":\"white\"}},\"header\":{\"fill\":{\"color\":\"#C8D4E3\"},\"line\":{\"color\":\"white\"}},\"type\":\"table\"}],\"barpolar\":[{\"marker\":{\"line\":{\"color\":\"#E5ECF6\",\"width\":0.5},\"pattern\":{\"fillmode\":\"overlay\",\"size\":10,\"solidity\":0.2}},\"type\":\"barpolar\"}],\"pie\":[{\"automargin\":true,\"type\":\"pie\"}]},\"layout\":{\"autotypenumbers\":\"strict\",\"colorway\":[\"#636efa\",\"#EF553B\",\"#00cc96\",\"#ab63fa\",\"#FFA15A\",\"#19d3f3\",\"#FF6692\",\"#B6E880\",\"#FF97FF\",\"#FECB52\"],\"font\":{\"color\":\"#2a3f5f\"},\"hovermode\":\"closest\",\"hoverlabel\":{\"align\":\"left\"},\"paper_bgcolor\":\"white\",\"plot_bgcolor\":\"#E5ECF6\",\"polar\":{\"bgcolor\":\"#E5ECF6\",\"angularaxis\":{\"gridcolor\":\"white\",\"linecolor\":\"white\",\"ticks\":\"\"},\"radialaxis\":{\"gridcolor\":\"white\",\"linecolor\":\"white\",\"ticks\":\"\"}},\"ternary\":{\"bgcolor\":\"#E5ECF6\",\"aaxis\":{\"gridcolor\":\"white\",\"linecolor\":\"white\",\"ticks\":\"\"},\"baxis\":{\"gridcolor\":\"white\",\"linecolor\":\"white\",\"ticks\":\"\"},\"caxis\":{\"gridcolor\":\"white\",\"linecolor\":\"white\",\"ticks\":\"\"}},\"coloraxis\":{\"colorbar\":{\"outlinewidth\":0,\"ticks\":\"\"}},\"colorscale\":{\"sequential\":[[0.0,\"#0d0887\"],[0.1111111111111111,\"#46039f\"],[0.2222222222222222,\"#7201a8\"],[0.3333333333333333,\"#9c179e\"],[0.4444444444444444,\"#bd3786\"],[0.5555555555555556,\"#d8576b\"],[0.6666666666666666,\"#ed7953\"],[0.7777777777777778,\"#fb9f3a\"],[0.8888888888888888,\"#fdca26\"],[1.0,\"#f0f921\"]],\"sequentialminus\":[[0.0,\"#0d0887\"],[0.1111111111111111,\"#46039f\"],[0.2222222222222222,\"#7201a8\"],[0.3333333333333333,\"#9c179e\"],[0.4444444444444444,\"#bd3786\"],[0.5555555555555556,\"#d8576b\"],[0.6666666666666666,\"#ed7953\"],[0.7777777777777778,\"#fb9f3a\"],[0.8888888888888888,\"#fdca26\"],[1.0,\"#f0f921\"]],\"diverging\":[[0,\"#8e0152\"],[0.1,\"#c51b7d\"],[0.2,\"#de77ae\"],[0.3,\"#f1b6da\"],[0.4,\"#fde0ef\"],[0.5,\"#f7f7f7\"],[0.6,\"#e6f5d0\"],[0.7,\"#b8e186\"],[0.8,\"#7fbc41\"],[0.9,\"#4d9221\"],[1,\"#276419\"]]},\"xaxis\":{\"gridcolor\":\"white\",\"linecolor\":\"white\",\"ticks\":\"\",\"title\":{\"standoff\":15},\"zerolinecolor\":\"white\",\"automargin\":true,\"zerolinewidth\":2},\"yaxis\":{\"gridcolor\":\"white\",\"linecolor\":\"white\",\"ticks\":\"\",\"title\":{\"standoff\":15},\"zerolinecolor\":\"white\",\"automargin\":true,\"zerolinewidth\":2},\"scene\":{\"xaxis\":{\"backgroundcolor\":\"#E5ECF6\",\"gridcolor\":\"white\",\"linecolor\":\"white\",\"showbackground\":true,\"ticks\":\"\",\"zerolinecolor\":\"white\",\"gridwidth\":2},\"yaxis\":{\"backgroundcolor\":\"#E5ECF6\",\"gridcolor\":\"white\",\"linecolor\":\"white\",\"showbackground\":true,\"ticks\":\"\",\"zerolinecolor\":\"white\",\"gridwidth\":2},\"zaxis\":{\"backgroundcolor\":\"#E5ECF6\",\"gridcolor\":\"white\",\"linecolor\":\"white\",\"showbackground\":true,\"ticks\":\"\",\"zerolinecolor\":\"white\",\"gridwidth\":2}},\"shapedefaults\":{\"line\":{\"color\":\"#2a3f5f\"}},\"annotationdefaults\":{\"arrowcolor\":\"#2a3f5f\",\"arrowhead\":0,\"arrowwidth\":1},\"geo\":{\"bgcolor\":\"white\",\"landcolor\":\"#E5ECF6\",\"subunitcolor\":\"white\",\"showland\":true,\"showlakes\":true,\"lakecolor\":\"white\"},\"title\":{\"x\":0.05},\"mapbox\":{\"style\":\"light\"}}}},                        {\"responsive\": true}                    ).then(function(){\n",
       "                            \n",
       "var gd = document.getElementById('62844641-fbe1-42f9-998b-ab5d293308df');\n",
       "var x = new MutationObserver(function (mutations, observer) {{\n",
       "        var display = window.getComputedStyle(gd).display;\n",
       "        if (!display || display === 'none') {{\n",
       "            console.log([gd, 'removed!']);\n",
       "            Plotly.purge(gd);\n",
       "            observer.disconnect();\n",
       "        }}\n",
       "}});\n",
       "\n",
       "// Listen for the removal of the full notebook cells\n",
       "var notebookContainer = gd.closest('#notebook-container');\n",
       "if (notebookContainer) {{\n",
       "    x.observe(notebookContainer, {childList: true});\n",
       "}}\n",
       "\n",
       "// Listen for the clearing of the current output cell\n",
       "var outputEl = gd.closest('.output');\n",
       "if (outputEl) {{\n",
       "    x.observe(outputEl, {childList: true});\n",
       "}}\n",
       "\n",
       "                        })                };                });            </script>        </div>"
      ]
     },
     "metadata": {},
     "output_type": "display_data"
    }
   ],
   "source": [
    "if not config['tune_parameters']:\n",
    "    optuna_study = optuna.load_study(study_name=f'hyperparameters_tuning_{config[\"model\"]}', storage=f'sqlite:///{config[\"database_path\"]}')\n",
    "    \n",
    "fig = optuna.visualization.plot_param_importances(optuna_study)\n",
    "fig.show()"
   ]
  },
  {
   "cell_type": "markdown",
   "id": "dc874ed6",
   "metadata": {
    "papermill": {
     "duration": 0.043544,
     "end_time": "2024-11-19T03:39:45.924362",
     "exception": false,
     "start_time": "2024-11-19T03:39:45.880818",
     "status": "completed"
    },
    "tags": []
   },
   "source": [
    "## Let's train the recommender with best parameter values"
   ]
  },
  {
   "cell_type": "code",
   "execution_count": null,
   "id": "5dfd751c",
   "metadata": {
    "execution": {
     "iopub.execute_input": "2024-11-19T03:39:46.013455Z",
     "iopub.status.busy": "2024-11-19T03:39:46.013088Z",
     "iopub.status.idle": "2024-11-19T03:40:04.373994Z",
     "shell.execute_reply": "2024-11-19T03:40:04.373015Z"
    },
    "papermill": {
     "duration": 18.407999,
     "end_time": "2024-11-19T03:40:04.376198",
     "exception": false,
     "start_time": "2024-11-19T03:39:45.968199",
     "status": "completed"
    },
    "tags": []
   },
   "outputs": [
    {
     "name": "stdout",
     "output_type": "stream",
     "text": [
      "P3alphaRecommender: Similarity column 38121 (100.0%), 2192.24 column/sec. Elapsed time 17.39 sec\n"
     ]
    }
   ],
   "source": [
    "if config['tune_best_params']:\n",
    "\n",
    "    if config['tune_parameters']:\n",
    "        best_params = optuna_study.best_trial.params\n",
    "    else: \n",
    "        with open(f'{K_PATH}/{GH_PATH}/{config[\"model\"]}Recommender/best_params_{config[\"model\"]}.json', 'r') as best_params_json:\n",
    "            best_params = json.load(best_params_json)\n",
    "\n",
    "    recommender_instance = P3alphaRecommender(URM_train + URM_validation)\n",
    "    recommender_instance.fit(**best_params)"
   ]
  },
  {
   "cell_type": "markdown",
   "id": "dd91a78f",
   "metadata": {
    "papermill": {
     "duration": 0.044956,
     "end_time": "2024-11-19T03:40:04.465751",
     "exception": false,
     "start_time": "2024-11-19T03:40:04.420795",
     "status": "completed"
    },
    "tags": []
   },
   "source": [
    "# Testing"
   ]
  },
  {
   "cell_type": "markdown",
   "id": "e14c3dd8",
   "metadata": {
    "papermill": {
     "duration": 0.043651,
     "end_time": "2024-11-19T03:40:04.553007",
     "exception": false,
     "start_time": "2024-11-19T03:40:04.509356",
     "status": "completed"
    },
    "tags": []
   },
   "source": [
    "Create the recommendations for the submission. "
   ]
  },
  {
   "cell_type": "code",
   "execution_count": null,
   "id": "e754ac80",
   "metadata": {
    "execution": {
     "iopub.execute_input": "2024-11-19T03:40:04.740100Z",
     "iopub.status.busy": "2024-11-19T03:40:04.739695Z",
     "iopub.status.idle": "2024-11-19T03:40:22.813876Z",
     "shell.execute_reply": "2024-11-19T03:40:22.812639Z"
    },
    "papermill": {
     "duration": 18.121515,
     "end_time": "2024-11-19T03:40:22.816198",
     "exception": false,
     "start_time": "2024-11-19T03:40:04.694683",
     "status": "completed"
    },
    "tags": []
   },
   "outputs": [
    {
     "name": "stdout",
     "output_type": "stream",
     "text": [
      "Submission file saved as /kaggle/working/submission_P3alpha.csv\n"
     ]
    }
   ],
   "source": [
    "if config['tune_best_params']:\n",
    "\n",
    "    data_target_users_test = pd.read_csv('/kaggle/input/recommender-system-2024-challenge-polimi/data_target_users_test.csv')\n",
    "    create_submission(data_target_users_test, recommender_instance, f'/kaggle/working/submission_{config[\"model\"]}.csv')"
   ]
  },
  {
   "cell_type": "markdown",
   "id": "9d5f647e",
   "metadata": {
    "execution": {
     "iopub.execute_input": "2024-11-14T00:04:16.877791Z",
     "iopub.status.busy": "2024-11-14T00:04:16.877275Z",
     "iopub.status.idle": "2024-11-14T00:04:16.883170Z",
     "shell.execute_reply": "2024-11-14T00:04:16.881889Z",
     "shell.execute_reply.started": "2024-11-14T00:04:16.877743Z"
    },
    "papermill": {
     "duration": 0.044454,
     "end_time": "2024-11-19T03:40:22.905094",
     "exception": false,
     "start_time": "2024-11-19T03:40:22.860640",
     "status": "completed"
    },
    "tags": []
   },
   "source": [
    "# Save Version on GitHub "
   ]
  },
  {
   "cell_type": "markdown",
   "id": "2e6b959f",
   "metadata": {
    "papermill": {
     "duration": 0.044551,
     "end_time": "2024-11-19T03:40:22.993747",
     "exception": false,
     "start_time": "2024-11-19T03:40:22.949196",
     "status": "completed"
    },
    "tags": []
   },
   "source": [
    "Write or import a json file where best hyperparameters are saved. "
   ]
  },
  {
   "cell_type": "code",
   "execution_count": null,
   "id": "6a73bc92",
   "metadata": {
    "execution": {
     "iopub.execute_input": "2024-11-19T03:40:23.090641Z",
     "iopub.status.busy": "2024-11-19T03:40:23.089539Z",
     "iopub.status.idle": "2024-11-19T03:40:24.305466Z",
     "shell.execute_reply": "2024-11-19T03:40:24.304437Z"
    },
    "papermill": {
     "duration": 1.26661,
     "end_time": "2024-11-19T03:40:24.307868",
     "exception": false,
     "start_time": "2024-11-19T03:40:23.041258",
     "status": "completed"
    },
    "tags": []
   },
   "outputs": [
    {
     "name": "stdout",
     "output_type": "stream",
     "text": [
      "File 'TrainedModels/P3alphaRecommender/best_params_P3alpha.json' updated successfully.\n"
     ]
    }
   ],
   "source": [
    "if config['tune_parameters']:\n",
    "    with open(f'/kaggle/working/best_params_{config[\"model\"]}.json', 'w') as params_file:\n",
    "        json.dump(optuna_study.best_params, params_file)\n",
    "        \n",
    "    if config['save_github']:\n",
    "        upload_file(\n",
    "            f'/kaggle/working/best_params_{config[\"model\"]}.json', \n",
    "            f'{GH_PATH}/{config[\"model\"]}Recommender/best_params_{config[\"model\"]}.json', \n",
    "            f'{config[\"model\"]} tuning results (from kaggle notebook)',\n",
    "            repo\n",
    "        )\n",
    "elif config['copy_prev_best_params']:\n",
    "    shutil.copyfile(\n",
    "        f'{K_PATH}/{GH_PATH}/{config[\"model\"]}Recommender/'\\\n",
    "        f'best_params_{config[\"model\"]}.json', \n",
    "        f'/kaggle/working/best_params_{config[\"model\"]}.json'\n",
    "    )"
   ]
  },
  {
   "cell_type": "markdown",
   "id": "64c714cd",
   "metadata": {
    "papermill": {
     "duration": 0.044024,
     "end_time": "2024-11-19T03:40:24.397020",
     "exception": false,
     "start_time": "2024-11-19T03:40:24.352996",
     "status": "completed"
    },
    "tags": []
   },
   "source": [
    "Save the history of the tuned model."
   ]
  },
  {
   "cell_type": "code",
   "execution_count": null,
   "id": "6b2d69b0",
   "metadata": {
    "execution": {
     "iopub.execute_input": "2024-11-19T03:40:24.488140Z",
     "iopub.status.busy": "2024-11-19T03:40:24.487469Z",
     "iopub.status.idle": "2024-11-19T03:40:26.246357Z",
     "shell.execute_reply": "2024-11-19T03:40:26.245340Z"
    },
    "papermill": {
     "duration": 1.806514,
     "end_time": "2024-11-19T03:40:26.248460",
     "exception": false,
     "start_time": "2024-11-19T03:40:24.441946",
     "status": "completed"
    },
    "tags": []
   },
   "outputs": [
    {
     "name": "stdout",
     "output_type": "stream",
     "text": [
      "File 'TrainedModels/P3alphaRecommender/history_P3alpha.db' updated successfully.\n"
     ]
    }
   ],
   "source": [
    "if config['save_github'] and config['tune_parameters']:\n",
    "    upload_file(\n",
    "        config['database_path'], \n",
    "        f'{GH_PATH}/{config[\"model\"]}Recommender/history_{config[\"model\"]}.db',\n",
    "        f'Tuning {config[\"model\"]} db updated results (from kaggle notebook)',\n",
    "        repo\n",
    "    )"
   ]
  },
  {
   "cell_type": "markdown",
   "id": "f22d9278",
   "metadata": {
    "execution": {
     "iopub.execute_input": "2024-11-14T00:41:34.294243Z",
     "iopub.status.busy": "2024-11-14T00:41:34.293739Z",
     "iopub.status.idle": "2024-11-14T00:41:34.301478Z",
     "shell.execute_reply": "2024-11-14T00:41:34.299869Z",
     "shell.execute_reply.started": "2024-11-14T00:41:34.294186Z"
    },
    "papermill": {
     "duration": 0.045066,
     "end_time": "2024-11-19T03:40:26.337679",
     "exception": false,
     "start_time": "2024-11-19T03:40:26.292613",
     "status": "completed"
    },
    "tags": []
   },
   "source": [
    "Save the best trained model and its submission."
   ]
  },
  {
   "cell_type": "code",
   "execution_count": null,
   "id": "de57d5de",
   "metadata": {
    "execution": {
     "iopub.execute_input": "2024-11-19T03:40:26.429332Z",
     "iopub.status.busy": "2024-11-19T03:40:26.428943Z",
     "iopub.status.idle": "2024-11-19T03:40:31.035448Z",
     "shell.execute_reply": "2024-11-19T03:40:31.034278Z"
    },
    "papermill": {
     "duration": 4.655377,
     "end_time": "2024-11-19T03:40:31.037474",
     "exception": false,
     "start_time": "2024-11-19T03:40:26.382097",
     "status": "completed"
    },
    "tags": []
   },
   "outputs": [
    {
     "name": "stdout",
     "output_type": "stream",
     "text": [
      "File 'TrainedModels/P3alphaRecommender/Submission/submission_P3alpha.csv' updated successfully.\n",
      "P3alphaRecommender: Saving model in file '/kaggle/working/best_P3alpha_tuned'\n",
      "P3alphaRecommender: Saving complete\n",
      "File 'TrainedModels/P3alphaRecommender/best_P3alpha_tuned.zip' updated successfully.\n"
     ]
    }
   ],
   "source": [
    "if config['save_github'] and config['tune_best_params']: \n",
    "    upload_file(\n",
    "                f'/kaggle/working/submission_{config[\"model\"]}.csv', \n",
    "                f'{GH_PATH}/{config[\"model\"]}Recommender/Submission/submission_{config[\"model\"]}.csv', \n",
    "                f'New {config[\"model\"]} submission (from kaggle notebook)',\n",
    "                repo\n",
    "            )"
   ]
  }
 ],
 "metadata": {
  "kaggle": {
   "accelerator": "none",
   "dataSources": [
    {
     "databundleVersionId": 9982103,
     "sourceId": 87439,
     "sourceType": "competition"
    }
   ],
   "dockerImageVersionId": 30786,
   "isGpuEnabled": false,
   "isInternetEnabled": true,
   "language": "python",
   "sourceType": "notebook"
  },
  "kernelspec": {
   "display_name": "Python 3",
   "language": "python",
   "name": "python3"
  },
  "language_info": {
   "codemirror_mode": {
    "name": "ipython",
    "version": 3
   },
   "file_extension": ".py",
   "mimetype": "text/x-python",
   "name": "python",
   "nbconvert_exporter": "python",
   "pygments_lexer": "ipython3",
   "version": "3.10.14"
  },
  "papermill": {
   "default_parameters": {},
   "duration": 10632.578777,
   "end_time": "2024-11-19T03:40:32.105472",
   "environment_variables": {},
   "exception": null,
   "input_path": "__notebook__.ipynb",
   "output_path": "__notebook__.ipynb",
   "parameters": {},
   "start_time": "2024-11-19T00:43:19.526695",
   "version": "2.6.0"
  }
 },
 "nbformat": 4,
 "nbformat_minor": 5
}
