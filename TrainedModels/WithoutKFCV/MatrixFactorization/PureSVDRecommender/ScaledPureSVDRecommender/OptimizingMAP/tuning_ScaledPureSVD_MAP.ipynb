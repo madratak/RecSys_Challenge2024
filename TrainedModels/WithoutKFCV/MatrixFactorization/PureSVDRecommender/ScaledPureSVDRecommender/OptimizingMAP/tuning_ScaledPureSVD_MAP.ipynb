{
 "cells": [
  {
   "cell_type": "markdown",
   "id": "33983480",
   "metadata": {
    "papermill": {
     "duration": 0.008121,
     "end_time": "2024-12-04T14:14:07.608189",
     "exception": false,
     "start_time": "2024-12-04T14:14:07.600068",
     "status": "completed"
    },
    "tags": []
   },
   "source": [
    "# Set connection with GitHub"
   ]
  },
  {
   "cell_type": "code",
   "execution_count": 1,
   "id": "db4c283e",
   "metadata": {
    "execution": {
     "iopub.execute_input": "2024-12-04T14:14:07.622520Z",
     "iopub.status.busy": "2024-12-04T14:14:07.621557Z",
     "iopub.status.idle": "2024-12-04T14:14:07.627102Z",
     "shell.execute_reply": "2024-12-04T14:14:07.626067Z"
    },
    "papermill": {
     "duration": 0.014873,
     "end_time": "2024-12-04T14:14:07.629216",
     "exception": false,
     "start_time": "2024-12-04T14:14:07.614343",
     "status": "completed"
    },
    "tags": []
   },
   "outputs": [],
   "source": [
    "# ! cd /kaggle/working && rm -rf RECsys_Challenge2024"
   ]
  },
  {
   "cell_type": "code",
   "execution_count": 2,
   "id": "f32590c8",
   "metadata": {
    "_cell_guid": "b1076dfc-b9ad-4769-8c92-a6c4dae69d19",
    "_uuid": "8f2839f25d086af736a60e9eeb907d3b93b6e0e5",
    "execution": {
     "iopub.execute_input": "2024-12-04T14:14:07.643755Z",
     "iopub.status.busy": "2024-12-04T14:14:07.642800Z",
     "iopub.status.idle": "2024-12-04T14:14:40.744865Z",
     "shell.execute_reply": "2024-12-04T14:14:40.743577Z"
    },
    "papermill": {
     "duration": 33.111779,
     "end_time": "2024-12-04T14:14:40.747463",
     "exception": false,
     "start_time": "2024-12-04T14:14:07.635684",
     "status": "completed"
    },
    "tags": []
   },
   "outputs": [
    {
     "name": "stdout",
     "output_type": "stream",
     "text": [
      "Cloning into 'RECsys_Challenge2024'...\r\n",
      "remote: Enumerating objects: 3954, done.\u001b[K\r\n",
      "remote: Counting objects: 100% (1427/1427), done.\u001b[K\r\n",
      "remote: Compressing objects: 100% (619/619), done.\u001b[K\r\n",
      "remote: Total 3954 (delta 786), reused 1127 (delta 611), pack-reused 2527 (from 1)\u001b[K\r\n",
      "Receiving objects: 100% (3954/3954), 166.91 MiB | 6.11 MiB/s, done.\r\n",
      "Resolving deltas: 100% (2305/2305), done.\r\n",
      "Updating files: 100% (372/372), done.\r\n"
     ]
    }
   ],
   "source": [
    "from kaggle_secrets import UserSecretsClient\n",
    "\n",
    "token = UserSecretsClient().get_secret(\"Token\")\n",
    "\n",
    "! git clone https://{token}@github.com/madratak/RECsys_Challenge2024.git"
   ]
  },
  {
   "cell_type": "code",
   "execution_count": 3,
   "id": "24af81f8",
   "metadata": {
    "execution": {
     "iopub.execute_input": "2024-12-04T14:14:40.772363Z",
     "iopub.status.busy": "2024-12-04T14:14:40.771993Z",
     "iopub.status.idle": "2024-12-04T14:14:53.385874Z",
     "shell.execute_reply": "2024-12-04T14:14:53.384663Z"
    },
    "papermill": {
     "duration": 12.628943,
     "end_time": "2024-12-04T14:14:53.388326",
     "exception": false,
     "start_time": "2024-12-04T14:14:40.759383",
     "status": "completed"
    },
    "tags": []
   },
   "outputs": [
    {
     "name": "stdout",
     "output_type": "stream",
     "text": [
      "Collecting PyGithub\r\n",
      "  Downloading PyGithub-2.5.0-py3-none-any.whl.metadata (3.9 kB)\r\n",
      "Requirement already satisfied: requests in /opt/conda/lib/python3.10/site-packages (2.32.3)\r\n",
      "Collecting pynacl>=1.4.0 (from PyGithub)\r\n",
      "  Downloading PyNaCl-1.5.0-cp36-abi3-manylinux_2_17_x86_64.manylinux2014_x86_64.manylinux_2_24_x86_64.whl.metadata (8.6 kB)\r\n",
      "Requirement already satisfied: pyjwt>=2.4.0 in /opt/conda/lib/python3.10/site-packages (from pyjwt[crypto]>=2.4.0->PyGithub) (2.8.0)\r\n",
      "Requirement already satisfied: typing-extensions>=4.0.0 in /opt/conda/lib/python3.10/site-packages (from PyGithub) (4.12.2)\r\n",
      "Requirement already satisfied: urllib3>=1.26.0 in /opt/conda/lib/python3.10/site-packages (from PyGithub) (1.26.18)\r\n",
      "Requirement already satisfied: Deprecated in /opt/conda/lib/python3.10/site-packages (from PyGithub) (1.2.14)\r\n",
      "Requirement already satisfied: charset-normalizer<4,>=2 in /opt/conda/lib/python3.10/site-packages (from requests) (3.3.2)\r\n",
      "Requirement already satisfied: idna<4,>=2.5 in /opt/conda/lib/python3.10/site-packages (from requests) (3.7)\r\n",
      "Requirement already satisfied: certifi>=2017.4.17 in /opt/conda/lib/python3.10/site-packages (from requests) (2024.8.30)\r\n",
      "Requirement already satisfied: cryptography>=3.4.0 in /opt/conda/lib/python3.10/site-packages (from pyjwt[crypto]>=2.4.0->PyGithub) (42.0.8)\r\n",
      "Requirement already satisfied: cffi>=1.4.1 in /opt/conda/lib/python3.10/site-packages (from pynacl>=1.4.0->PyGithub) (1.16.0)\r\n",
      "Requirement already satisfied: wrapt<2,>=1.10 in /opt/conda/lib/python3.10/site-packages (from Deprecated->PyGithub) (1.16.0)\r\n",
      "Requirement already satisfied: pycparser in /opt/conda/lib/python3.10/site-packages (from cffi>=1.4.1->pynacl>=1.4.0->PyGithub) (2.22)\r\n",
      "Downloading PyGithub-2.5.0-py3-none-any.whl (375 kB)\r\n",
      "\u001b[2K   \u001b[90m━━━━━━━━━━━━━━━━━━━━━━━━━━━━━━━━━━━━━━━━\u001b[0m \u001b[32m375.9/375.9 kB\u001b[0m \u001b[31m11.6 MB/s\u001b[0m eta \u001b[36m0:00:00\u001b[0m\r\n",
      "\u001b[?25hDownloading PyNaCl-1.5.0-cp36-abi3-manylinux_2_17_x86_64.manylinux2014_x86_64.manylinux_2_24_x86_64.whl (856 kB)\r\n",
      "\u001b[2K   \u001b[90m━━━━━━━━━━━━━━━━━━━━━━━━━━━━━━━━━━━━━━━━\u001b[0m \u001b[32m856.7/856.7 kB\u001b[0m \u001b[31m27.2 MB/s\u001b[0m eta \u001b[36m0:00:00\u001b[0m\r\n",
      "\u001b[?25hInstalling collected packages: pynacl, PyGithub\r\n",
      "Successfully installed PyGithub-2.5.0 pynacl-1.5.0\r\n"
     ]
    }
   ],
   "source": [
    "! pip install PyGithub requests"
   ]
  },
  {
   "cell_type": "code",
   "execution_count": 4,
   "id": "cd8a09e3",
   "metadata": {
    "_kg_hide-input": true,
    "execution": {
     "iopub.execute_input": "2024-12-04T14:14:53.412611Z",
     "iopub.status.busy": "2024-12-04T14:14:53.412200Z",
     "iopub.status.idle": "2024-12-04T14:17:24.804107Z",
     "shell.execute_reply": "2024-12-04T14:17:24.802797Z"
    },
    "papermill": {
     "duration": 151.406974,
     "end_time": "2024-12-04T14:17:24.806733",
     "exception": false,
     "start_time": "2024-12-04T14:14:53.399759",
     "status": "completed"
    },
    "tags": []
   },
   "outputs": [
    {
     "name": "stdout",
     "output_type": "stream",
     "text": [
      "/kaggle/working/RECsys_Challenge2024\n",
      "run_compile_all_cython: Found 11 Cython files in 5 folders...\r\n",
      "run_compile_all_cython: All files will be compiled using your current python environment: '/opt/conda/bin/python'\r\n",
      "Compiling [1/11]: MatrixFactorizationImpressions_Cython_Epoch.pyx... \r\n",
      "In file included from \u001b[01m\u001b[K/opt/conda/lib/python3.10/site-packages/numpy/core/include/numpy/ndarraytypes.h:1929\u001b[m\u001b[K,\r\n",
      "                 from \u001b[01m\u001b[K/opt/conda/lib/python3.10/site-packages/numpy/core/include/numpy/ndarrayobject.h:12\u001b[m\u001b[K,\r\n",
      "                 from \u001b[01m\u001b[K/opt/conda/lib/python3.10/site-packages/numpy/core/include/numpy/arrayobject.h:5\u001b[m\u001b[K,\r\n",
      "                 from \u001b[01m\u001b[KMatrixFactorizationImpressions_Cython_Epoch.c:1252\u001b[m\u001b[K:\r\n",
      "\u001b[01m\u001b[K/opt/conda/lib/python3.10/site-packages/numpy/core/include/numpy/npy_1_7_deprecated_api.h:17:2:\u001b[m\u001b[K \u001b[01;35m\u001b[Kwarning: \u001b[m\u001b[K#warning \"Using deprecated NumPy API, disable it with \" \"#define NPY_NO_DEPRECATED_API NPY_1_7_API_VERSION\" [\u001b[01;35m\u001b[K-Wcpp\u001b[m\u001b[K]\r\n",
      "   17 | #\u001b[01;35m\u001b[Kwarning\u001b[m\u001b[K \"Using deprecated NumPy API, disable it with \" \\\r\n",
      "      |  \u001b[01;35m\u001b[K^~~~~~~\u001b[m\u001b[K\r\n",
      "\u001b[01m\u001b[KMatrixFactorizationImpressions_Cython_Epoch.c:\u001b[m\u001b[K In function '\u001b[01m\u001b[K__pyx_f_43MatrixFactorizationImpressions_Cython_Epoch_32MatrixFactorization_Cython_Epoch_sampleBPR_Cython\u001b[m\u001b[K':\r\n",
      "\u001b[01m\u001b[KMatrixFactorizationImpressions_Cython_Epoch.c:30351:17:\u001b[m\u001b[K \u001b[01;35m\u001b[Kwarning: \u001b[m\u001b[K'\u001b[01m\u001b[K__pyx_v_start_pos_impression_items\u001b[m\u001b[K' may be used uninitialized in this function [\u001b[01;35m\u001b[K-Wmaybe-uninitialized\u001b[m\u001b[K]\r\n",
      "30351 |       \u001b[01;35m\u001b[K__pyx_t_4 = (__pyx_v_start_pos_impression_items + __pyx_v_index)\u001b[m\u001b[K;\r\n",
      "      |       \u001b[01;35m\u001b[K~~~~~~~~~~^~~~~~~~~~~~~~~~~~~~~~~~~~~~~~~~~~~~~~~~~~~~~~~~~~~~~~\u001b[m\u001b[K\r\n",
      "\u001b[01m\u001b[KMatrixFactorizationImpressions_Cython_Epoch.c:\u001b[m\u001b[K In function '\u001b[01m\u001b[K__pyx_pf_43MatrixFactorizationImpressions_Cython_Epoch_32MatrixFactorization_Cython_Epoch_10epochIteration_Cython_ASY_SVD_SGD\u001b[m\u001b[K':\r\n",
      "\u001b[01m\u001b[KMatrixFactorizationImpressions_Cython_Epoch.c:26111:7:\u001b[m\u001b[K \u001b[01;35m\u001b[Kwarning: \u001b[m\u001b[K'\u001b[01m\u001b[K__pyx_v_end_pos_seen_items\u001b[m\u001b[K' may be used uninitialized in this function [\u001b[01;35m\u001b[K-Wmaybe-uninitialized\u001b[m\u001b[K]\r\n",
      "26111 |       \u001b[01;35m\u001b[Kfor\u001b[m\u001b[K (__pyx_t_21 = __pyx_v_start_pos_seen_items; __pyx_t_21 < __pyx_t_20; __pyx_t_21+=1) {\r\n",
      "      |       \u001b[01;35m\u001b[K^~~\u001b[m\u001b[K\r\n",
      "\u001b[01m\u001b[KMatrixFactorizationImpressions_Cython_Epoch.c:26111:7:\u001b[m\u001b[K \u001b[01;35m\u001b[Kwarning: \u001b[m\u001b[K'\u001b[01m\u001b[K__pyx_v_start_pos_seen_items\u001b[m\u001b[K' may be used uninitialized in this function [\u001b[01;35m\u001b[K-Wmaybe-uninitialized\u001b[m\u001b[K]\r\n",
      "/opt/conda/lib/python3.10/site-packages/Cython/Compiler/Main.py:381: FutureWarning: Cython directive 'language_level' not set, using '3str' for now (Py3). This has changed from earlier releases! File: /kaggle/working/RECsys_Challenge2024/Recommenders/MatrixFactorization/Cython/MatrixFactorizationImpressions_Cython_Epoch.pyx\r\n",
      "  tree = Parsing.p_module(s, pxd, full_module_name)\r\n",
      "Compiling [1/11]: MatrixFactorizationImpressions_Cython_Epoch.pyx... PASS\r\n",
      "\r\n",
      "Compiling [2/11]: MatrixFactorization_Cython_Epoch.pyx... \r\n",
      "In file included from \u001b[01m\u001b[K/opt/conda/lib/python3.10/site-packages/numpy/core/include/numpy/ndarraytypes.h:1929\u001b[m\u001b[K,\r\n",
      "                 from \u001b[01m\u001b[K/opt/conda/lib/python3.10/site-packages/numpy/core/include/numpy/ndarrayobject.h:12\u001b[m\u001b[K,\r\n",
      "                 from \u001b[01m\u001b[K/opt/conda/lib/python3.10/site-packages/numpy/core/include/numpy/arrayobject.h:5\u001b[m\u001b[K,\r\n",
      "                 from \u001b[01m\u001b[KMatrixFactorization_Cython_Epoch.c:1252\u001b[m\u001b[K:\r\n",
      "\u001b[01m\u001b[K/opt/conda/lib/python3.10/site-packages/numpy/core/include/numpy/npy_1_7_deprecated_api.h:17:2:\u001b[m\u001b[K \u001b[01;35m\u001b[Kwarning: \u001b[m\u001b[K#warning \"Using deprecated NumPy API, disable it with \" \"#define NPY_NO_DEPRECATED_API NPY_1_7_API_VERSION\" [\u001b[01;35m\u001b[K-Wcpp\u001b[m\u001b[K]\r\n",
      "   17 | #\u001b[01;35m\u001b[Kwarning\u001b[m\u001b[K \"Using deprecated NumPy API, disable it with \" \\\r\n",
      "      |  \u001b[01;35m\u001b[K^~~~~~~\u001b[m\u001b[K\r\n",
      "\u001b[01m\u001b[KMatrixFactorization_Cython_Epoch.c:\u001b[m\u001b[K In function '\u001b[01m\u001b[K__pyx_pf_32MatrixFactorization_Cython_Epoch_32MatrixFactorization_Cython_Epoch_10epochIteration_Cython_ASY_SVD_SGD\u001b[m\u001b[K':\r\n",
      "\u001b[01m\u001b[KMatrixFactorization_Cython_Epoch.c:26255:9:\u001b[m\u001b[K \u001b[01;35m\u001b[Kwarning: \u001b[m\u001b[K'\u001b[01m\u001b[K__pyx_v_end_pos_seen_items\u001b[m\u001b[K' may be used uninitialized in this function [\u001b[01;35m\u001b[K-Wmaybe-uninitialized\u001b[m\u001b[K]\r\n",
      "26255 |         \u001b[01;35m\u001b[Kfor\u001b[m\u001b[K (__pyx_t_21 = __pyx_v_start_pos_seen_items; __pyx_t_21 < __pyx_t_20; __pyx_t_21+=1) {\r\n",
      "      |         \u001b[01;35m\u001b[K^~~\u001b[m\u001b[K\r\n",
      "\u001b[01m\u001b[KMatrixFactorization_Cython_Epoch.c:26255:9:\u001b[m\u001b[K \u001b[01;35m\u001b[Kwarning: \u001b[m\u001b[K'\u001b[01m\u001b[K__pyx_v_start_pos_seen_items\u001b[m\u001b[K' may be used uninitialized in this function [\u001b[01;35m\u001b[K-Wmaybe-uninitialized\u001b[m\u001b[K]\r\n",
      "/opt/conda/lib/python3.10/site-packages/Cython/Compiler/Main.py:381: FutureWarning: Cython directive 'language_level' not set, using '3str' for now (Py3). This has changed from earlier releases! File: /kaggle/working/RECsys_Challenge2024/Recommenders/MatrixFactorization/Cython/MatrixFactorization_Cython_Epoch.pyx\r\n",
      "  tree = Parsing.p_module(s, pxd, full_module_name)\r\n",
      "Compiling [2/11]: MatrixFactorization_Cython_Epoch.pyx... PASS\r\n",
      "\r\n",
      "Compiling [3/11]: Compute_Similarity_Cython.pyx... \r\n",
      "warning: Compute_Similarity_Cython.pyx:21:0: The 'IF' statement is deprecated and will be removed in a future Cython version. Consider using runtime conditions or C macros instead. See https://github.com/cython/cython/issues/4310\r\n",
      "In file included from \u001b[01m\u001b[K/opt/conda/lib/python3.10/site-packages/numpy/core/include/numpy/ndarraytypes.h:1929\u001b[m\u001b[K,\r\n",
      "                 from \u001b[01m\u001b[K/opt/conda/lib/python3.10/site-packages/numpy/core/include/numpy/ndarrayobject.h:12\u001b[m\u001b[K,\r\n",
      "                 from \u001b[01m\u001b[K/opt/conda/lib/python3.10/site-packages/numpy/core/include/numpy/arrayobject.h:5\u001b[m\u001b[K,\r\n",
      "                 from \u001b[01m\u001b[KCompute_Similarity_Cython.c:1252\u001b[m\u001b[K:\r\n",
      "\u001b[01m\u001b[K/opt/conda/lib/python3.10/site-packages/numpy/core/include/numpy/npy_1_7_deprecated_api.h:17:2:\u001b[m\u001b[K \u001b[01;35m\u001b[Kwarning: \u001b[m\u001b[K#warning \"Using deprecated NumPy API, disable it with \" \"#define NPY_NO_DEPRECATED_API NPY_1_7_API_VERSION\" [\u001b[01;35m\u001b[K-Wcpp\u001b[m\u001b[K]\r\n",
      "   17 | #\u001b[01;35m\u001b[Kwarning\u001b[m\u001b[K \"Using deprecated NumPy API, disable it with \" \\\r\n",
      "      |  \u001b[01;35m\u001b[K^~~~~~~\u001b[m\u001b[K\r\n",
      "/opt/conda/lib/python3.10/site-packages/Cython/Compiler/Main.py:381: FutureWarning: Cython directive 'language_level' not set, using '3str' for now (Py3). This has changed from earlier releases! File: /kaggle/working/RECsys_Challenge2024/Recommenders/Similarity/Cython/Compute_Similarity_Cython.pyx\r\n",
      "  tree = Parsing.p_module(s, pxd, full_module_name)\r\n",
      "warning: Compute_Similarity_Cython.pyx:21:0: The 'IF' statement is deprecated and will be removed in a future Cython version. Consider using runtime conditions or C macros instead. See https://github.com/cython/cython/issues/4310\r\n",
      "Compiling [3/11]: Compute_Similarity_Cython.pyx... PASS\r\n",
      "\r\n",
      "Compiling [4/11]: Sparse_Matrix_Tree_CSR.pyx... \r\n",
      "warning: Sparse_Matrix_Tree_CSR.pyx:132:34: Non-trivial type declarators in shared declaration (e.g. mix of pointers and values). Each pointer declaration should be on its own line.\r\n",
      "warning: Sparse_Matrix_Tree_CSR.pyx:132:66: Non-trivial type declarators in shared declaration (e.g. mix of pointers and values). Each pointer declaration should be on its own line.\r\n",
      "warning: Sparse_Matrix_Tree_CSR.pyx:343:35: Non-trivial type declarators in shared declaration (e.g. mix of pointers and values). Each pointer declaration should be on its own line.\r\n",
      "warning: Sparse_Matrix_Tree_CSR.pyx:343:52: Non-trivial type declarators in shared declaration (e.g. mix of pointers and values). Each pointer declaration should be on its own line.\r\n",
      "warning: Sparse_Matrix_Tree_CSR.pyx:442:35: Non-trivial type declarators in shared declaration (e.g. mix of pointers and values). Each pointer declaration should be on its own line.\r\n",
      "warning: Sparse_Matrix_Tree_CSR.pyx:442:53: Non-trivial type declarators in shared declaration (e.g. mix of pointers and values). Each pointer declaration should be on its own line.\r\n",
      "warning: Sparse_Matrix_Tree_CSR.pyx:442:69: Non-trivial type declarators in shared declaration (e.g. mix of pointers and values). Each pointer declaration should be on its own line.\r\n",
      "warning: Sparse_Matrix_Tree_CSR.pyx:577:35: Non-trivial type declarators in shared declaration (e.g. mix of pointers and values). Each pointer declaration should be on its own line.\r\n",
      "warning: Sparse_Matrix_Tree_CSR.pyx:577:42: Non-trivial type declarators in shared declaration (e.g. mix of pointers and values). Each pointer declaration should be on its own line.\r\n",
      "warning: Sparse_Matrix_Tree_CSR.pyx:578:35: Non-trivial type declarators in shared declaration (e.g. mix of pointers and values). Each pointer declaration should be on its own line.\r\n",
      "warning: Sparse_Matrix_Tree_CSR.pyx:578:53: Non-trivial type declarators in shared declaration (e.g. mix of pointers and values). Each pointer declaration should be on its own line.\r\n",
      "\r\n",
      "Error compiling Cython file:\r\n",
      "------------------------------------------------------------\r\n",
      "...\r\n",
      "            vector_pointer_to_list_elements[index].head = current_element\r\n",
      "            current_element = current_element.higher\r\n",
      "\r\n",
      "\r\n",
      "        # Sort array elements on their data field\r\n",
      "        qsort(vector_pointer_to_list_elements, list_length, sizeof(head_pointer_tree_s), compare_struct_on_data)\r\n",
      "                                                                                         ^\r\n",
      "------------------------------------------------------------\r\n",
      "\r\n",
      "Sparse_Matrix_Tree_CSR.pyx:516:89: Cannot assign type 'int (const void *, const void *) except? -1' to 'int (*)(const_void *, const_void *) noexcept'. Exception values are incompatible. Suggest adding 'noexcept' to the type of 'compare_struct_on_data'.\r\n",
      "\r\n",
      "Error compiling Cython file:\r\n",
      "------------------------------------------------------------\r\n",
      "...\r\n",
      "        # Sort array elements on their data field\r\n",
      "        qsort(vector_pointer_to_list_elements, list_length, sizeof(head_pointer_tree_s), compare_struct_on_data)\r\n",
      "\r\n",
      "        # Sort only the TopK according to their column field\r\n",
      "        # Sort is from lower to higher, therefore the elements to be considered are from len-topK to len\r\n",
      "        qsort(&vector_pointer_to_list_elements[list_length-TopK], TopK, sizeof(head_pointer_tree_s), compare_struct_on_column)\r\n",
      "                                                                                                     ^\r\n",
      "------------------------------------------------------------\r\n",
      "\r\n",
      "Sparse_Matrix_Tree_CSR.pyx:520:101: Cannot assign type 'int (const void *, const void *) except? -1' to 'int (*)(const_void *, const_void *) noexcept'. Exception values are incompatible. Suggest adding 'noexcept' to the type of 'compare_struct_on_column'.\r\n",
      "Traceback (most recent call last):\r\n",
      "  File \"/kaggle/working/RECsys_Challenge2024/CythonCompiler/compile_script.py\", line 48, in <module>\r\n",
      "    setup(\r\n",
      "  File \"/opt/conda/lib/python3.10/site-packages/setuptools/__init__.py\", line 103, in setup\r\n",
      "    return distutils.core.setup(**attrs)\r\n",
      "  File \"/opt/conda/lib/python3.10/site-packages/setuptools/_distutils/core.py\", line 184, in setup\r\n",
      "    return run_commands(dist)\r\n",
      "  File \"/opt/conda/lib/python3.10/site-packages/setuptools/_distutils/core.py\", line 200, in run_commands\r\n",
      "    dist.run_commands()\r\n",
      "  File \"/opt/conda/lib/python3.10/site-packages/setuptools/_distutils/dist.py\", line 969, in run_commands\r\n",
      "    self.run_command(cmd)\r\n",
      "  File \"/opt/conda/lib/python3.10/site-packages/setuptools/dist.py\", line 968, in run_command\r\n",
      "    super().run_command(command)\r\n",
      "  File \"/opt/conda/lib/python3.10/site-packages/setuptools/_distutils/dist.py\", line 988, in run_command\r\n",
      "    cmd_obj.run()\r\n",
      "  File \"/opt/conda/lib/python3.10/site-packages/setuptools/_distutils/command/build_ext.py\", line 359, in run\r\n",
      "    self.build_extensions()\r\n",
      "  File \"/opt/conda/lib/python3.10/site-packages/setuptools/_distutils/command/build_ext.py\", line 479, in build_extensions\r\n",
      "    self._build_extensions_serial()\r\n",
      "  File \"/opt/conda/lib/python3.10/site-packages/setuptools/_distutils/command/build_ext.py\", line 505, in _build_extensions_serial\r\n",
      "    self.build_extension(ext)\r\n",
      "  File \"/opt/conda/lib/python3.10/site-packages/Cython/Distutils/build_ext.py\", line 130, in build_extension\r\n",
      "    new_ext = cythonize(\r\n",
      "  File \"/opt/conda/lib/python3.10/site-packages/Cython/Build/Dependencies.py\", line 1154, in cythonize\r\n",
      "    cythonize_one(*args)\r\n",
      "  File \"/opt/conda/lib/python3.10/site-packages/Cython/Build/Dependencies.py\", line 1321, in cythonize_one\r\n",
      "    raise CompileError(None, pyx_file)\r\n",
      "Cython.Compiler.Errors.CompileError: Sparse_Matrix_Tree_CSR.pyx\r\n",
      "Traceback (most recent call last):\r\n",
      "  File \"/kaggle/working/RECsys_Challenge2024/run_compile_all_cython.py\", line 60, in <module>\r\n",
      "    run_compile_subprocess(file_path, [file_name])\r\n",
      "  File \"/kaggle/working/RECsys_Challenge2024/CythonCompiler/run_compile_subprocess.py\", line 51, in run_compile_subprocess\r\n",
      "    raise exc\r\n",
      "  File \"/kaggle/working/RECsys_Challenge2024/CythonCompiler/run_compile_subprocess.py\", line 32, in run_compile_subprocess\r\n",
      "    output = subprocess.check_output(' '.join(command),\r\n",
      "  File \"/opt/conda/lib/python3.10/subprocess.py\", line 421, in check_output\r\n",
      "    return run(*popenargs, stdout=PIPE, timeout=timeout, check=True,\r\n",
      "  File \"/opt/conda/lib/python3.10/subprocess.py\", line 526, in run\r\n",
      "    raise CalledProcessError(retcode, process.args,\r\n",
      "subprocess.CalledProcessError: Command '/opt/conda/bin/python /kaggle/working/RECsys_Challenge2024/CythonCompiler/compile_script.py Sparse_Matrix_Tree_CSR.pyx build_ext --inplace' returned non-zero exit status 1.\r\n",
      "Compiling [4/11]: Sparse_Matrix_Tree_CSR.pyx... FAIL: Command '/opt/conda/bin/python /kaggle/working/RECsys_Challenge2024/CythonCompiler/compile_script.py Sparse_Matrix_Tree_CSR.pyx build_ext --inplace' returned non-zero exit status 1.\r\n",
      "\r\n",
      "Compiling [5/11]: Triangular_Matrix.pyx... \r\n",
      "warning: Triangular_Matrix.pyx:22:0: The 'IF' statement is deprecated and will be removed in a future Cython version. Consider using runtime conditions or C macros instead. See https://github.com/cython/cython/issues/4310\r\n",
      "In file included from \u001b[01m\u001b[K/opt/conda/lib/python3.10/site-packages/numpy/core/include/numpy/ndarraytypes.h:1929\u001b[m\u001b[K,\r\n",
      "                 from \u001b[01m\u001b[K/opt/conda/lib/python3.10/site-packages/numpy/core/include/numpy/ndarrayobject.h:12\u001b[m\u001b[K,\r\n",
      "                 from \u001b[01m\u001b[K/opt/conda/lib/python3.10/site-packages/numpy/core/include/numpy/arrayobject.h:5\u001b[m\u001b[K,\r\n",
      "                 from \u001b[01m\u001b[KTriangular_Matrix.c:1252\u001b[m\u001b[K:\r\n",
      "\u001b[01m\u001b[K/opt/conda/lib/python3.10/site-packages/numpy/core/include/numpy/npy_1_7_deprecated_api.h:17:2:\u001b[m\u001b[K \u001b[01;35m\u001b[Kwarning: \u001b[m\u001b[K#warning \"Using deprecated NumPy API, disable it with \" \"#define NPY_NO_DEPRECATED_API NPY_1_7_API_VERSION\" [\u001b[01;35m\u001b[K-Wcpp\u001b[m\u001b[K]\r\n",
      "   17 | #\u001b[01;35m\u001b[Kwarning\u001b[m\u001b[K \"Using deprecated NumPy API, disable it with \" \\\r\n",
      "      |  \u001b[01;35m\u001b[K^~~~~~~\u001b[m\u001b[K\r\n",
      "/opt/conda/lib/python3.10/site-packages/Cython/Compiler/Main.py:381: FutureWarning: Cython directive 'language_level' not set, using '3str' for now (Py3). This has changed from earlier releases! File: /kaggle/working/RECsys_Challenge2024/Recommenders/SLIM/Cython/Triangular_Matrix.pyx\r\n",
      "  tree = Parsing.p_module(s, pxd, full_module_name)\r\n",
      "warning: Triangular_Matrix.pyx:22:0: The 'IF' statement is deprecated and will be removed in a future Cython version. Consider using runtime conditions or C macros instead. See https://github.com/cython/cython/issues/4310\r\n",
      "Compiling [5/11]: Triangular_Matrix.pyx... PASS\r\n",
      "\r\n",
      "Compiling [6/11]: SLIM_BPR_Cython_Epoch.pyx... \r\n",
      "warning: SLIM_BPR_Cython_Epoch.pyx:24:0: The 'IF' statement is deprecated and will be removed in a future Cython version. Consider using runtime conditions or C macros instead. See https://github.com/cython/cython/issues/4310\r\n",
      "warning: SLIM_BPR_Cython_Epoch.pyx:632:34: Non-trivial type declarators in shared declaration (e.g. mix of pointers and values). Each pointer declaration should be on its own line.\r\n",
      "warning: SLIM_BPR_Cython_Epoch.pyx:632:66: Non-trivial type declarators in shared declaration (e.g. mix of pointers and values). Each pointer declaration should be on its own line.\r\n",
      "warning: SLIM_BPR_Cython_Epoch.pyx:817:35: Non-trivial type declarators in shared declaration (e.g. mix of pointers and values). Each pointer declaration should be on its own line.\r\n",
      "warning: SLIM_BPR_Cython_Epoch.pyx:817:52: Non-trivial type declarators in shared declaration (e.g. mix of pointers and values). Each pointer declaration should be on its own line.\r\n",
      "warning: SLIM_BPR_Cython_Epoch.pyx:916:35: Non-trivial type declarators in shared declaration (e.g. mix of pointers and values). Each pointer declaration should be on its own line.\r\n",
      "warning: SLIM_BPR_Cython_Epoch.pyx:916:53: Non-trivial type declarators in shared declaration (e.g. mix of pointers and values). Each pointer declaration should be on its own line.\r\n",
      "warning: SLIM_BPR_Cython_Epoch.pyx:916:69: Non-trivial type declarators in shared declaration (e.g. mix of pointers and values). Each pointer declaration should be on its own line.\r\n",
      "warning: SLIM_BPR_Cython_Epoch.pyx:1051:35: Non-trivial type declarators in shared declaration (e.g. mix of pointers and values). Each pointer declaration should be on its own line.\r\n",
      "warning: SLIM_BPR_Cython_Epoch.pyx:1051:42: Non-trivial type declarators in shared declaration (e.g. mix of pointers and values). Each pointer declaration should be on its own line.\r\n",
      "warning: SLIM_BPR_Cython_Epoch.pyx:1052:35: Non-trivial type declarators in shared declaration (e.g. mix of pointers and values). Each pointer declaration should be on its own line.\r\n",
      "warning: SLIM_BPR_Cython_Epoch.pyx:1052:53: Non-trivial type declarators in shared declaration (e.g. mix of pointers and values). Each pointer declaration should be on its own line.\r\n",
      "\r\n",
      "Error compiling Cython file:\r\n",
      "------------------------------------------------------------\r\n",
      "...\r\n",
      "            vector_pointer_to_list_elements[index].head = current_element\r\n",
      "            current_element = current_element.higher\r\n",
      "\r\n",
      "\r\n",
      "        # Sort array elements on their data field\r\n",
      "        qsort(vector_pointer_to_list_elements, list_length, sizeof(head_pointer_tree_s), compare_struct_on_data)\r\n",
      "                                                                                         ^\r\n",
      "------------------------------------------------------------\r\n",
      "\r\n",
      "SLIM_BPR_Cython_Epoch.pyx:990:89: Cannot assign type 'int (const void *, const void *) except? -1' to 'int (*)(const_void *, const_void *) noexcept'. Exception values are incompatible. Suggest adding 'noexcept' to the type of 'compare_struct_on_data'.\r\n",
      "\r\n",
      "Error compiling Cython file:\r\n",
      "------------------------------------------------------------\r\n",
      "...\r\n",
      "        # Sort array elements on their data field\r\n",
      "        qsort(vector_pointer_to_list_elements, list_length, sizeof(head_pointer_tree_s), compare_struct_on_data)\r\n",
      "\r\n",
      "        # Sort only the TopK according to their column field\r\n",
      "        # Sort is from lower to higher, therefore the elements to be considered are from len-topK to len\r\n",
      "        qsort(&vector_pointer_to_list_elements[list_length-TopK], TopK, sizeof(head_pointer_tree_s), compare_struct_on_column)\r\n",
      "                                                                                                     ^\r\n",
      "------------------------------------------------------------\r\n",
      "\r\n",
      "SLIM_BPR_Cython_Epoch.pyx:994:101: Cannot assign type 'int (const void *, const void *) except? -1' to 'int (*)(const_void *, const_void *) noexcept'. Exception values are incompatible. Suggest adding 'noexcept' to the type of 'compare_struct_on_column'.\r\n",
      "Traceback (most recent call last):\r\n",
      "  File \"/kaggle/working/RECsys_Challenge2024/CythonCompiler/compile_script.py\", line 48, in <module>\r\n",
      "    setup(\r\n",
      "  File \"/opt/conda/lib/python3.10/site-packages/setuptools/__init__.py\", line 103, in setup\r\n",
      "    return distutils.core.setup(**attrs)\r\n",
      "  File \"/opt/conda/lib/python3.10/site-packages/setuptools/_distutils/core.py\", line 184, in setup\r\n",
      "    return run_commands(dist)\r\n",
      "  File \"/opt/conda/lib/python3.10/site-packages/setuptools/_distutils/core.py\", line 200, in run_commands\r\n",
      "    dist.run_commands()\r\n",
      "  File \"/opt/conda/lib/python3.10/site-packages/setuptools/_distutils/dist.py\", line 969, in run_commands\r\n",
      "    self.run_command(cmd)\r\n",
      "  File \"/opt/conda/lib/python3.10/site-packages/setuptools/dist.py\", line 968, in run_command\r\n",
      "    super().run_command(command)\r\n",
      "  File \"/opt/conda/lib/python3.10/site-packages/setuptools/_distutils/dist.py\", line 988, in run_command\r\n",
      "    cmd_obj.run()\r\n",
      "  File \"/opt/conda/lib/python3.10/site-packages/setuptools/_distutils/command/build_ext.py\", line 359, in run\r\n",
      "    self.build_extensions()\r\n",
      "  File \"/opt/conda/lib/python3.10/site-packages/setuptools/_distutils/command/build_ext.py\", line 479, in build_extensions\r\n",
      "    self._build_extensions_serial()\r\n",
      "  File \"/opt/conda/lib/python3.10/site-packages/setuptools/_distutils/command/build_ext.py\", line 505, in _build_extensions_serial\r\n",
      "    self.build_extension(ext)\r\n",
      "  File \"/opt/conda/lib/python3.10/site-packages/Cython/Distutils/build_ext.py\", line 130, in build_extension\r\n",
      "    new_ext = cythonize(\r\n",
      "  File \"/opt/conda/lib/python3.10/site-packages/Cython/Build/Dependencies.py\", line 1154, in cythonize\r\n",
      "    cythonize_one(*args)\r\n",
      "  File \"/opt/conda/lib/python3.10/site-packages/Cython/Build/Dependencies.py\", line 1321, in cythonize_one\r\n",
      "    raise CompileError(None, pyx_file)\r\n",
      "Cython.Compiler.Errors.CompileError: SLIM_BPR_Cython_Epoch.pyx\r\n",
      "Traceback (most recent call last):\r\n",
      "  File \"/kaggle/working/RECsys_Challenge2024/run_compile_all_cython.py\", line 60, in <module>\r\n",
      "    run_compile_subprocess(file_path, [file_name])\r\n",
      "  File \"/kaggle/working/RECsys_Challenge2024/CythonCompiler/run_compile_subprocess.py\", line 51, in run_compile_subprocess\r\n",
      "    raise exc\r\n",
      "  File \"/kaggle/working/RECsys_Challenge2024/CythonCompiler/run_compile_subprocess.py\", line 32, in run_compile_subprocess\r\n",
      "    output = subprocess.check_output(' '.join(command),\r\n",
      "  File \"/opt/conda/lib/python3.10/subprocess.py\", line 421, in check_output\r\n",
      "    return run(*popenargs, stdout=PIPE, timeout=timeout, check=True,\r\n",
      "  File \"/opt/conda/lib/python3.10/subprocess.py\", line 526, in run\r\n",
      "    raise CalledProcessError(retcode, process.args,\r\n",
      "subprocess.CalledProcessError: Command '/opt/conda/bin/python /kaggle/working/RECsys_Challenge2024/CythonCompiler/compile_script.py SLIM_BPR_Cython_Epoch.pyx build_ext --inplace' returned non-zero exit status 1.\r\n",
      "Compiling [6/11]: SLIM_BPR_Cython_Epoch.pyx... FAIL: Command '/opt/conda/bin/python /kaggle/working/RECsys_Challenge2024/CythonCompiler/compile_script.py SLIM_BPR_Cython_Epoch.pyx build_ext --inplace' returned non-zero exit status 1.\r\n",
      "\r\n",
      "Compiling [7/11]: HP3_Similarity_Cython_SGD.pyx... \r\n",
      "performance hint: HP3_Similarity_Cython_SGD.pyx:113:40: Index should be typed for more efficient access\r\n",
      "performance hint: HP3_Similarity_Cython_SGD.pyx:114:40: Index should be typed for more efficient access\r\n",
      "In file included from \u001b[01m\u001b[K/opt/conda/lib/python3.10/site-packages/numpy/core/include/numpy/ndarraytypes.h:1929\u001b[m\u001b[K,\r\n",
      "                 from \u001b[01m\u001b[K/opt/conda/lib/python3.10/site-packages/numpy/core/include/numpy/ndarrayobject.h:12\u001b[m\u001b[K,\r\n",
      "                 from \u001b[01m\u001b[K/opt/conda/lib/python3.10/site-packages/numpy/core/include/numpy/arrayobject.h:5\u001b[m\u001b[K,\r\n",
      "                 from \u001b[01m\u001b[KHP3_Similarity_Cython_SGD.c:1252\u001b[m\u001b[K:\r\n",
      "\u001b[01m\u001b[K/opt/conda/lib/python3.10/site-packages/numpy/core/include/numpy/npy_1_7_deprecated_api.h:17:2:\u001b[m\u001b[K \u001b[01;35m\u001b[Kwarning: \u001b[m\u001b[K#warning \"Using deprecated NumPy API, disable it with \" \"#define NPY_NO_DEPRECATED_API NPY_1_7_API_VERSION\" [\u001b[01;35m\u001b[K-Wcpp\u001b[m\u001b[K]\r\n",
      "   17 | #\u001b[01;35m\u001b[Kwarning\u001b[m\u001b[K \"Using deprecated NumPy API, disable it with \" \\\r\n",
      "      |  \u001b[01;35m\u001b[K^~~~~~~\u001b[m\u001b[K\r\n",
      "\u001b[01m\u001b[KHP3_Similarity_Cython_SGD.c:\u001b[m\u001b[K In function '\u001b[01m\u001b[K__pyx_pf_25HP3_Similarity_Cython_SGD_25HP3_Similarity_Cython_SGD_4fit\u001b[m\u001b[K':\r\n",
      "\u001b[01m\u001b[KHP3_Similarity_Cython_SGD.c:23631:55:\u001b[m\u001b[K \u001b[01;35m\u001b[Kwarning: \u001b[m\u001b[K'\u001b[01m\u001b[K__pyx_v_sample_num\u001b[m\u001b[K' may be used uninitialized in this function [\u001b[01;35m\u001b[K-Wmaybe-uninitialized\u001b[m\u001b[K]\r\n",
      "23631 |   __pyx_t_1 = PyFloat_FromDouble((__pyx_v_cum_loss / \u001b[01;35m\u001b[K((double)__pyx_v_sample_num)\u001b[m\u001b[K)); if (unlikely(!__pyx_t_1)) __PYX_ERR(0, 291, __pyx_L1_error)\r\n",
      "      |                                                      \u001b[01;35m\u001b[K~^~~~~~~~~~~~~~~~~~~~~~~~~~~\u001b[m\u001b[K\r\n",
      "/opt/conda/lib/python3.10/site-packages/Cython/Compiler/Main.py:381: FutureWarning: Cython directive 'language_level' not set, using '3str' for now (Py3). This has changed from earlier releases! File: /kaggle/working/RECsys_Challenge2024/Recommenders/FeatureWeighting/Cython/HP3_Similarity_Cython_SGD.pyx\r\n",
      "  tree = Parsing.p_module(s, pxd, full_module_name)\r\n",
      "performance hint: HP3_Similarity_Cython_SGD.pyx:113:40: Index should be typed for more efficient access\r\n",
      "performance hint: HP3_Similarity_Cython_SGD.pyx:114:40: Index should be typed for more efficient access\r\n",
      "Compiling [7/11]: HP3_Similarity_Cython_SGD.pyx... PASS\r\n",
      "\r\n",
      "Compiling [8/11]: FBSM_Rating_Cython_SGD.pyx... \r\n",
      "In file included from \u001b[01m\u001b[K/opt/conda/lib/python3.10/site-packages/numpy/core/include/numpy/ndarraytypes.h:1929\u001b[m\u001b[K,\r\n",
      "                 from \u001b[01m\u001b[K/opt/conda/lib/python3.10/site-packages/numpy/core/include/numpy/ndarrayobject.h:12\u001b[m\u001b[K,\r\n",
      "                 from \u001b[01m\u001b[K/opt/conda/lib/python3.10/site-packages/numpy/core/include/numpy/arrayobject.h:5\u001b[m\u001b[K,\r\n",
      "                 from \u001b[01m\u001b[KFBSM_Rating_Cython_SGD.c:1252\u001b[m\u001b[K:\r\n",
      "\u001b[01m\u001b[K/opt/conda/lib/python3.10/site-packages/numpy/core/include/numpy/npy_1_7_deprecated_api.h:17:2:\u001b[m\u001b[K \u001b[01;35m\u001b[Kwarning: \u001b[m\u001b[K#warning \"Using deprecated NumPy API, disable it with \" \"#define NPY_NO_DEPRECATED_API NPY_1_7_API_VERSION\" [\u001b[01;35m\u001b[K-Wcpp\u001b[m\u001b[K]\r\n",
      "   17 | #\u001b[01;35m\u001b[Kwarning\u001b[m\u001b[K \"Using deprecated NumPy API, disable it with \" \\\r\n",
      "      |  \u001b[01;35m\u001b[K^~~~~~~\u001b[m\u001b[K\r\n",
      "\u001b[01m\u001b[KFBSM_Rating_Cython_SGD.c:\u001b[m\u001b[K In function '\u001b[01m\u001b[K__pyx_pf_22FBSM_Rating_Cython_SGD_22FBSM_Rating_Cython_SGD_2fit\u001b[m\u001b[K':\r\n",
      "\u001b[01m\u001b[KFBSM_Rating_Cython_SGD.c:26607:55:\u001b[m\u001b[K \u001b[01;35m\u001b[Kwarning: \u001b[m\u001b[K'\u001b[01m\u001b[K__pyx_v_num_sample\u001b[m\u001b[K' may be used uninitialized in this function [\u001b[01;35m\u001b[K-Wmaybe-uninitialized\u001b[m\u001b[K]\r\n",
      "26607 |   __pyx_t_5 = PyFloat_FromDouble((__pyx_v_cum_loss / \u001b[01;35m\u001b[K((double)__pyx_v_num_sample)\u001b[m\u001b[K)); if (unlikely(!__pyx_t_5)) __PYX_ERR(0, 551, __pyx_L1_error)\r\n",
      "      |                                                      \u001b[01;35m\u001b[K~^~~~~~~~~~~~~~~~~~~~~~~~~~~\u001b[m\u001b[K\r\n",
      "/opt/conda/lib/python3.10/site-packages/Cython/Compiler/Main.py:381: FutureWarning: Cython directive 'language_level' not set, using '3str' for now (Py3). This has changed from earlier releases! File: /kaggle/working/RECsys_Challenge2024/Recommenders/FeatureWeighting/Cython/FBSM_Rating_Cython_SGD.pyx\r\n",
      "  tree = Parsing.p_module(s, pxd, full_module_name)\r\n",
      "Compiling [8/11]: FBSM_Rating_Cython_SGD.pyx... PASS\r\n",
      "\r\n",
      "Compiling [9/11]: CFW_D_Similarity_Cython_SGD.pyx... \r\n",
      "In file included from \u001b[01m\u001b[K/opt/conda/lib/python3.10/site-packages/numpy/core/include/numpy/ndarraytypes.h:1929\u001b[m\u001b[K,\r\n",
      "                 from \u001b[01m\u001b[K/opt/conda/lib/python3.10/site-packages/numpy/core/include/numpy/ndarrayobject.h:12\u001b[m\u001b[K,\r\n",
      "                 from \u001b[01m\u001b[K/opt/conda/lib/python3.10/site-packages/numpy/core/include/numpy/arrayobject.h:5\u001b[m\u001b[K,\r\n",
      "                 from \u001b[01m\u001b[KCFW_D_Similarity_Cython_SGD.c:1252\u001b[m\u001b[K:\r\n",
      "\u001b[01m\u001b[K/opt/conda/lib/python3.10/site-packages/numpy/core/include/numpy/npy_1_7_deprecated_api.h:17:2:\u001b[m\u001b[K \u001b[01;35m\u001b[Kwarning: \u001b[m\u001b[K#warning \"Using deprecated NumPy API, disable it with \" \"#define NPY_NO_DEPRECATED_API NPY_1_7_API_VERSION\" [\u001b[01;35m\u001b[K-Wcpp\u001b[m\u001b[K]\r\n",
      "   17 | #\u001b[01;35m\u001b[Kwarning\u001b[m\u001b[K \"Using deprecated NumPy API, disable it with \" \\\r\n",
      "      |  \u001b[01;35m\u001b[K^~~~~~~\u001b[m\u001b[K\r\n",
      "\u001b[01m\u001b[KCFW_D_Similarity_Cython_SGD.c:\u001b[m\u001b[K In function '\u001b[01m\u001b[K__pyx_pf_27CFW_D_Similarity_Cython_SGD_27CFW_D_Similarity_Cython_SGD_6fit\u001b[m\u001b[K':\r\n",
      "\u001b[01m\u001b[KCFW_D_Similarity_Cython_SGD.c:23373:55:\u001b[m\u001b[K \u001b[01;35m\u001b[Kwarning: \u001b[m\u001b[K'\u001b[01m\u001b[K__pyx_v_sample_num\u001b[m\u001b[K' may be used uninitialized in this function [\u001b[01;35m\u001b[K-Wmaybe-uninitialized\u001b[m\u001b[K]\r\n",
      "23373 |   __pyx_t_3 = PyFloat_FromDouble((__pyx_v_cum_loss / \u001b[01;35m\u001b[K((double)__pyx_v_sample_num)\u001b[m\u001b[K)); if (unlikely(!__pyx_t_3)) __PYX_ERR(0, 290, __pyx_L1_error)\r\n",
      "      |                                                      \u001b[01;35m\u001b[K~^~~~~~~~~~~~~~~~~~~~~~~~~~~\u001b[m\u001b[K\r\n",
      "/opt/conda/lib/python3.10/site-packages/Cython/Compiler/Main.py:381: FutureWarning: Cython directive 'language_level' not set, using '3str' for now (Py3). This has changed from earlier releases! File: /kaggle/working/RECsys_Challenge2024/Recommenders/FeatureWeighting/Cython/CFW_D_Similarity_Cython_SGD.pyx\r\n",
      "  tree = Parsing.p_module(s, pxd, full_module_name)\r\n",
      "Compiling [9/11]: CFW_D_Similarity_Cython_SGD.pyx... PASS\r\n",
      "\r\n",
      "Compiling [10/11]: CFW_DVV_Similarity_Cython_SGD.pyx... \r\n",
      "In file included from \u001b[01m\u001b[K/opt/conda/lib/python3.10/site-packages/numpy/core/include/numpy/ndarraytypes.h:1929\u001b[m\u001b[K,\r\n",
      "                 from \u001b[01m\u001b[K/opt/conda/lib/python3.10/site-packages/numpy/core/include/numpy/ndarrayobject.h:12\u001b[m\u001b[K,\r\n",
      "                 from \u001b[01m\u001b[K/opt/conda/lib/python3.10/site-packages/numpy/core/include/numpy/arrayobject.h:5\u001b[m\u001b[K,\r\n",
      "                 from \u001b[01m\u001b[KCFW_DVV_Similarity_Cython_SGD.c:1252\u001b[m\u001b[K:\r\n",
      "\u001b[01m\u001b[K/opt/conda/lib/python3.10/site-packages/numpy/core/include/numpy/npy_1_7_deprecated_api.h:17:2:\u001b[m\u001b[K \u001b[01;35m\u001b[Kwarning: \u001b[m\u001b[K#warning \"Using deprecated NumPy API, disable it with \" \"#define NPY_NO_DEPRECATED_API NPY_1_7_API_VERSION\" [\u001b[01;35m\u001b[K-Wcpp\u001b[m\u001b[K]\r\n",
      "   17 | #\u001b[01;35m\u001b[Kwarning\u001b[m\u001b[K \"Using deprecated NumPy API, disable it with \" \\\r\n",
      "      |  \u001b[01;35m\u001b[K^~~~~~~\u001b[m\u001b[K\r\n",
      "/opt/conda/lib/python3.10/site-packages/Cython/Compiler/Main.py:381: FutureWarning: Cython directive 'language_level' not set, using '3str' for now (Py3). This has changed from earlier releases! File: /kaggle/working/RECsys_Challenge2024/Recommenders/FeatureWeighting/Cython/CFW_DVV_Similarity_Cython_SGD.pyx\r\n",
      "  tree = Parsing.p_module(s, pxd, full_module_name)\r\n",
      "Compiling [10/11]: CFW_DVV_Similarity_Cython_SGD.pyx... PASS\r\n",
      "\r\n",
      "Compiling [11/11]: DataIterator.pyx... \r\n",
      "In file included from \u001b[01m\u001b[K/opt/conda/lib/python3.10/site-packages/numpy/core/include/numpy/ndarraytypes.h:1929\u001b[m\u001b[K,\r\n",
      "                 from \u001b[01m\u001b[K/opt/conda/lib/python3.10/site-packages/numpy/core/include/numpy/ndarrayobject.h:12\u001b[m\u001b[K,\r\n",
      "                 from \u001b[01m\u001b[K/opt/conda/lib/python3.10/site-packages/numpy/core/include/numpy/arrayobject.h:5\u001b[m\u001b[K,\r\n",
      "                 from \u001b[01m\u001b[KDataIterator.c:1252\u001b[m\u001b[K:\r\n",
      "\u001b[01m\u001b[K/opt/conda/lib/python3.10/site-packages/numpy/core/include/numpy/npy_1_7_deprecated_api.h:17:2:\u001b[m\u001b[K \u001b[01;35m\u001b[Kwarning: \u001b[m\u001b[K#warning \"Using deprecated NumPy API, disable it with \" \"#define NPY_NO_DEPRECATED_API NPY_1_7_API_VERSION\" [\u001b[01;35m\u001b[K-Wcpp\u001b[m\u001b[K]\r\n",
      "   17 | #\u001b[01;35m\u001b[Kwarning\u001b[m\u001b[K \"Using deprecated NumPy API, disable it with \" \\\r\n",
      "      |  \u001b[01;35m\u001b[K^~~~~~~\u001b[m\u001b[K\r\n",
      "\u001b[01m\u001b[KDataIterator.c:\u001b[m\u001b[K In function '\u001b[01m\u001b[K__pyx_pf_12DataIterator_30InteractionAndNegativeIterator_6__next__\u001b[m\u001b[K':\r\n",
      "\u001b[01m\u001b[KDataIterator.c:25495:22:\u001b[m\u001b[K \u001b[01;35m\u001b[Kwarning: \u001b[m\u001b[K'\u001b[01m\u001b[K__pyx_v_i_batch\u001b[m\u001b[K' may be used uninitialized in this function [\u001b[01;35m\u001b[K-Wmaybe-uninitialized\u001b[m\u001b[K]\r\n",
      "25495 |     (__pyx_v_i_batch \u001b[01;35m\u001b[K+\u001b[m\u001b[K 1),\r\n",
      "      |                      \u001b[01;35m\u001b[K^\u001b[m\u001b[K\r\n",
      "\u001b[01m\u001b[KDataIterator.c:\u001b[m\u001b[K In function '\u001b[01m\u001b[K__pyx_pf_12DataIterator_11BPRIterator_6__next__\u001b[m\u001b[K':\r\n",
      "\u001b[01m\u001b[KDataIterator.c:23054:22:\u001b[m\u001b[K \u001b[01;35m\u001b[Kwarning: \u001b[m\u001b[K'\u001b[01m\u001b[K__pyx_v_i_batch\u001b[m\u001b[K' may be used uninitialized in this function [\u001b[01;35m\u001b[K-Wmaybe-uninitialized\u001b[m\u001b[K]\r\n",
      "23054 |     (__pyx_v_i_batch \u001b[01;35m\u001b[K+\u001b[m\u001b[K 1),\r\n",
      "      |                      \u001b[01;35m\u001b[K^\u001b[m\u001b[K\r\n",
      "\u001b[01m\u001b[KDataIterator.c:\u001b[m\u001b[K In function '\u001b[01m\u001b[K__pyx_pf_12DataIterator_19InteractionIterator_6__next__\u001b[m\u001b[K':\r\n",
      "\u001b[01m\u001b[KDataIterator.c:20937:22:\u001b[m\u001b[K \u001b[01;35m\u001b[Kwarning: \u001b[m\u001b[K'\u001b[01m\u001b[K__pyx_v_i_batch\u001b[m\u001b[K' may be used uninitialized in this function [\u001b[01;35m\u001b[K-Wmaybe-uninitialized\u001b[m\u001b[K]\r\n",
      "20937 |     (__pyx_v_i_batch \u001b[01;35m\u001b[K+\u001b[m\u001b[K 1),\r\n",
      "      |                      \u001b[01;35m\u001b[K^\u001b[m\u001b[K\r\n",
      "/opt/conda/lib/python3.10/site-packages/Cython/Compiler/Main.py:381: FutureWarning: Cython directive 'language_level' not set, using '3str' for now (Py3). This has changed from earlier releases! File: /kaggle/working/RECsys_Challenge2024/Utils/PyTorch/Cython/DataIterator.pyx\r\n",
      "  tree = Parsing.p_module(s, pxd, full_module_name)\r\n",
      "Compiling [11/11]: DataIterator.pyx... PASS\r\n",
      "\r\n",
      "run_compile_all_cython: Compilation finished. FAILS 2/11.\r\n",
      "Compilation log can be found here: './result_experiments/run_compile_all_cython.txt'\r\n"
     ]
    }
   ],
   "source": [
    "%cd /kaggle/working/RECsys_Challenge2024\n",
    "! python run_compile_all_cython.py"
   ]
  },
  {
   "cell_type": "code",
   "execution_count": 5,
   "id": "6f85d72d",
   "metadata": {
    "execution": {
     "iopub.execute_input": "2024-12-04T14:17:24.838367Z",
     "iopub.status.busy": "2024-12-04T14:17:24.837982Z",
     "iopub.status.idle": "2024-12-04T14:17:26.656942Z",
     "shell.execute_reply": "2024-12-04T14:17:26.655885Z"
    },
    "papermill": {
     "duration": 1.837912,
     "end_time": "2024-12-04T14:17:26.659381",
     "exception": false,
     "start_time": "2024-12-04T14:17:24.821469",
     "status": "completed"
    },
    "tags": []
   },
   "outputs": [],
   "source": [
    "from Utils.notebookFunctions import *\n",
    "import numpy as np\n",
    "import pandas as pd\n",
    "import scipy.sparse as sps\n",
    "import time\n",
    "import shutil\n",
    "import optuna\n",
    "import json\n",
    "import os\n",
    "from Utils.seconds_to_biggest_unit import seconds_to_biggest_unit\n",
    "\n",
    "\n",
    "K_PATH = '/kaggle/working/RECsys_Challenge2024'\n",
    "GH_PATH = 'TrainedModels/WithoutKFCV/MatrixFactorization/PureSVDRecommender'\n",
    "\n",
    "np.random.seed(42)"
   ]
  },
  {
   "cell_type": "markdown",
   "id": "527c0595",
   "metadata": {
    "papermill": {
     "duration": 0.014038,
     "end_time": "2024-12-04T14:17:26.688058",
     "exception": false,
     "start_time": "2024-12-04T14:17:26.674020",
     "status": "completed"
    },
    "tags": []
   },
   "source": [
    "## Import the repository **RECsys_Challenge2024**"
   ]
  },
  {
   "cell_type": "code",
   "execution_count": 6,
   "id": "e7ae7dd7",
   "metadata": {
    "execution": {
     "iopub.execute_input": "2024-12-04T14:17:26.720047Z",
     "iopub.status.busy": "2024-12-04T14:17:26.719472Z",
     "iopub.status.idle": "2024-12-04T14:17:27.350458Z",
     "shell.execute_reply": "2024-12-04T14:17:27.348795Z"
    },
    "papermill": {
     "duration": 0.650922,
     "end_time": "2024-12-04T14:17:27.353281",
     "exception": false,
     "start_time": "2024-12-04T14:17:26.702359",
     "status": "completed"
    },
    "tags": []
   },
   "outputs": [
    {
     "name": "stdout",
     "output_type": "stream",
     "text": [
      "Repository 'RECsys_Challenge2024' found.\n"
     ]
    }
   ],
   "source": [
    "repo = get_repo_from_github(token)"
   ]
  },
  {
   "cell_type": "code",
   "execution_count": 7,
   "id": "a7bc6422",
   "metadata": {
    "execution": {
     "iopub.execute_input": "2024-12-04T14:17:27.384585Z",
     "iopub.status.busy": "2024-12-04T14:17:27.384073Z",
     "iopub.status.idle": "2024-12-04T14:17:27.390028Z",
     "shell.execute_reply": "2024-12-04T14:17:27.388885Z"
    },
    "papermill": {
     "duration": 0.02422,
     "end_time": "2024-12-04T14:17:27.392163",
     "exception": false,
     "start_time": "2024-12-04T14:17:27.367943",
     "status": "completed"
    },
    "tags": []
   },
   "outputs": [],
   "source": [
    "config = {\n",
    "    'model': 'ScaledPureSVD',\n",
    "    'tune_parameters': True,\n",
    "    'database_path': '/kaggle/working/history_ScaledPureSVD.db',\n",
    "    'copy_prev_best_params': False,\n",
    "    'tune_best_params': True,\n",
    "    'save_github': True\n",
    "}"
   ]
  },
  {
   "cell_type": "markdown",
   "id": "32cfb3da",
   "metadata": {
    "papermill": {
     "duration": 0.013851,
     "end_time": "2024-12-04T14:17:27.420479",
     "exception": false,
     "start_time": "2024-12-04T14:17:27.406628",
     "status": "completed"
    },
    "tags": []
   },
   "source": [
    "Import the database where previous tuning trials have been saved."
   ]
  },
  {
   "cell_type": "code",
   "execution_count": 8,
   "id": "65d7f870",
   "metadata": {
    "execution": {
     "iopub.execute_input": "2024-12-04T14:17:27.451305Z",
     "iopub.status.busy": "2024-12-04T14:17:27.450814Z",
     "iopub.status.idle": "2024-12-04T14:17:27.458145Z",
     "shell.execute_reply": "2024-12-04T14:17:27.456898Z"
    },
    "papermill": {
     "duration": 0.026249,
     "end_time": "2024-12-04T14:17:27.461156",
     "exception": false,
     "start_time": "2024-12-04T14:17:27.434907",
     "status": "completed"
    },
    "tags": []
   },
   "outputs": [],
   "source": [
    "try:\n",
    "    shutil.copyfile(\n",
    "        f'{K_PATH}/{GH_PATH}/{config[\"model\"]}Recommender/history_{config[\"model\"]}.db', \n",
    "        config['database_path']\n",
    "    )\n",
    "except FileNotFoundError:\n",
    "    pass # if not present optuna will create it"
   ]
  },
  {
   "cell_type": "markdown",
   "id": "a87737c7",
   "metadata": {
    "papermill": {
     "duration": 0.015601,
     "end_time": "2024-12-04T14:17:27.492967",
     "exception": false,
     "start_time": "2024-12-04T14:17:27.477366",
     "status": "completed"
    },
    "tags": []
   },
   "source": [
    "# Construction of URM and ICM matrices"
   ]
  },
  {
   "cell_type": "code",
   "execution_count": 9,
   "id": "9bdc4c66",
   "metadata": {
    "execution": {
     "iopub.execute_input": "2024-12-04T14:17:27.525960Z",
     "iopub.status.busy": "2024-12-04T14:17:27.525464Z",
     "iopub.status.idle": "2024-12-04T14:17:28.505602Z",
     "shell.execute_reply": "2024-12-04T14:17:28.504610Z"
    },
    "papermill": {
     "duration": 0.999069,
     "end_time": "2024-12-04T14:17:28.507716",
     "exception": false,
     "start_time": "2024-12-04T14:17:27.508647",
     "status": "completed"
    },
    "tags": []
   },
   "outputs": [
    {
     "data": {
      "text/plain": [
       "<Compressed Sparse Row sparse matrix of dtype 'float64'\n",
       "\twith 1764607 stored elements and shape (35736, 38121)>"
      ]
     },
     "execution_count": 9,
     "metadata": {},
     "output_type": "execute_result"
    }
   ],
   "source": [
    "URM_all_dataframe = pd.read_csv(\"/kaggle/input/recommender-system-2024-challenge-polimi/data_train.csv\")\n",
    "\n",
    "n_users = len(URM_all_dataframe[\"user_id\"].unique())\n",
    "n_items = len(URM_all_dataframe[\"item_id\"].unique())\n",
    "\n",
    "URM_all = sps.csr_matrix((URM_all_dataframe[\"data\"].values, \n",
    "                          (URM_all_dataframe[\"user_id\"].values, URM_all_dataframe[\"item_id\"].values)),\n",
    "                        shape = (n_users, n_items))\n",
    "\n",
    "URM_all"
   ]
  },
  {
   "cell_type": "code",
   "execution_count": 10,
   "id": "5bd1abf2",
   "metadata": {
    "execution": {
     "iopub.execute_input": "2024-12-04T14:17:28.538225Z",
     "iopub.status.busy": "2024-12-04T14:17:28.537841Z",
     "iopub.status.idle": "2024-12-04T14:17:29.938675Z",
     "shell.execute_reply": "2024-12-04T14:17:29.937573Z"
    },
    "papermill": {
     "duration": 1.418761,
     "end_time": "2024-12-04T14:17:29.940944",
     "exception": false,
     "start_time": "2024-12-04T14:17:28.522183",
     "status": "completed"
    },
    "tags": []
   },
   "outputs": [
    {
     "data": {
      "text/plain": [
       "<Compressed Sparse Row sparse matrix of dtype 'float64'\n",
       "\twith 2940040 stored elements and shape (38121, 94331)>"
      ]
     },
     "execution_count": 10,
     "metadata": {},
     "output_type": "execute_result"
    }
   ],
   "source": [
    "ICM_dataframe = pd.read_csv(\"/kaggle/input/recommender-system-2024-challenge-polimi/data_ICM_metadata.csv\")\n",
    "\n",
    "n_items = len(ICM_dataframe[\"item_id\"].unique())\n",
    "n_features = len(ICM_dataframe[\"feature_id\"].unique())\n",
    "\n",
    "ICM_all = sps.csr_matrix((ICM_dataframe[\"data\"].values, \n",
    "                          (ICM_dataframe[\"item_id\"].values, ICM_dataframe[\"feature_id\"].values)),\n",
    "                        shape = (n_items, n_features))\n",
    "\n",
    "ICM_all"
   ]
  },
  {
   "cell_type": "markdown",
   "id": "45434936",
   "metadata": {
    "papermill": {
     "duration": 0.014953,
     "end_time": "2024-12-04T14:17:29.970394",
     "exception": false,
     "start_time": "2024-12-04T14:17:29.955441",
     "status": "completed"
    },
    "tags": []
   },
   "source": [
    "# Training"
   ]
  },
  {
   "cell_type": "code",
   "execution_count": 11,
   "id": "8a55487c",
   "metadata": {
    "execution": {
     "iopub.execute_input": "2024-12-04T14:17:30.002682Z",
     "iopub.status.busy": "2024-12-04T14:17:30.002168Z",
     "iopub.status.idle": "2024-12-04T14:17:33.118295Z",
     "shell.execute_reply": "2024-12-04T14:17:33.117208Z"
    },
    "papermill": {
     "duration": 3.135415,
     "end_time": "2024-12-04T14:17:33.120447",
     "exception": false,
     "start_time": "2024-12-04T14:17:29.985032",
     "status": "completed"
    },
    "tags": []
   },
   "outputs": [
    {
     "name": "stdout",
     "output_type": "stream",
     "text": [
      "Warning: 141 (0.39 %) of 35736 users have no sampled items\n",
      "EvaluatorHoldout: Ignoring 141 ( 0.4%) Users that have less than 1 test interactions\n"
     ]
    }
   ],
   "source": [
    "from Evaluation.Evaluator import EvaluatorHoldout\n",
    "from Data_manager.split_functions.split_train_validation_random_holdout import split_train_in_two_percentage_global_sample\n",
    "\n",
    "URM_train, URM_validation = split_train_in_two_percentage_global_sample(URM_all, train_percentage = 0.80)\n",
    "\n",
    "evaluator_validation = EvaluatorHoldout(URM_validation, cutoff_list=[10])"
   ]
  },
  {
   "cell_type": "code",
   "execution_count": 12,
   "id": "d6a5dce9",
   "metadata": {
    "execution": {
     "iopub.execute_input": "2024-12-04T14:17:33.153286Z",
     "iopub.status.busy": "2024-12-04T14:17:33.152886Z",
     "iopub.status.idle": "2024-12-04T14:17:34.364609Z",
     "shell.execute_reply": "2024-12-04T14:17:34.363235Z"
    },
    "papermill": {
     "duration": 1.23164,
     "end_time": "2024-12-04T14:17:34.367111",
     "exception": false,
     "start_time": "2024-12-04T14:17:33.135471",
     "status": "completed"
    },
    "tags": []
   },
   "outputs": [],
   "source": [
    "from Recommenders.MatrixFactorization.PureSVDRecommender import ScaledPureSVDRecommender\n",
    "\n",
    "def objective_function_ScaledPureSVD(optuna_trial):\n",
    "    \n",
    "    recommender_instance = ScaledPureSVDRecommender(URM_train)\n",
    "    \n",
    "    full_hyperp = {\n",
    "                    'num_factors': optuna_trial.suggest_int('num_factors', 1, 2000, log=True),\n",
    "                    'scaling_items': optuna_trial.suggest_float('scaling_items', 1e-2, 2, log=True),\n",
    "                    'scaling_users': optuna_trial.suggest_float('scaling_users', 1e-2, 2, log=True),\n",
    "                  } \n",
    "    \n",
    "    recommender_instance.fit(**full_hyperp)\n",
    "    \n",
    "    result_df, _ = evaluator_validation.evaluateRecommender(recommender_instance)\n",
    "    \n",
    "    return result_df.loc[10][\"MAP\"]"
   ]
  },
  {
   "cell_type": "code",
   "execution_count": 13,
   "id": "9a30e0b8",
   "metadata": {
    "_kg_hide-output": true,
    "execution": {
     "iopub.execute_input": "2024-12-04T14:17:34.399242Z",
     "iopub.status.busy": "2024-12-04T14:17:34.398631Z",
     "iopub.status.idle": "2024-12-04T18:21:11.736277Z",
     "shell.execute_reply": "2024-12-04T18:21:11.734915Z"
    },
    "papermill": {
     "duration": 14617.356318,
     "end_time": "2024-12-04T18:21:11.738829",
     "exception": false,
     "start_time": "2024-12-04T14:17:34.382511",
     "status": "completed"
    },
    "tags": []
   },
   "outputs": [
    {
     "name": "stderr",
     "output_type": "stream",
     "text": [
      "[I 2024-12-04 14:17:36,091] Using an existing study with name 'hyperparameters_tuning_ScaledPureSVD' instead of creating a new one.\n"
     ]
    },
    {
     "name": "stdout",
     "output_type": "stream",
     "text": [
      "ScaledPureSVDRecommender: Computing SVD decomposition...\n",
      "ScaledPureSVDRecommender: Computing SVD decomposition... done in 2.59 min\n",
      "EvaluatorHoldout: Processed 35595 (100.0%) in 2.84 min. Users per second: 209\n"
     ]
    },
    {
     "name": "stderr",
     "output_type": "stream",
     "text": [
      "[I 2024-12-04 14:23:02,186] Trial 243 finished with value: 0.03933124747768531 and parameters: {'num_factors': 1654, 'scaling_items': 0.015631665239072064, 'scaling_users': 0.013209896893690197}. Best is trial 194 with value: 0.0405380961299616.\n"
     ]
    },
    {
     "name": "stdout",
     "output_type": "stream",
     "text": [
      "ScaledPureSVDRecommender: Computing SVD decomposition...\n",
      "ScaledPureSVDRecommender: Computing SVD decomposition... done in 2.53 min\n",
      "EvaluatorHoldout: Processed 35595 (100.0%) in 2.75 min. Users per second: 216\n"
     ]
    },
    {
     "name": "stderr",
     "output_type": "stream",
     "text": [
      "[I 2024-12-04 14:28:19,499] Trial 244 finished with value: 0.039587156658794434 and parameters: {'num_factors': 1724, 'scaling_items': 0.013267193519134477, 'scaling_users': 0.01540082389723616}. Best is trial 194 with value: 0.0405380961299616.\n"
     ]
    },
    {
     "name": "stdout",
     "output_type": "stream",
     "text": [
      "ScaledPureSVDRecommender: Computing SVD decomposition...\n",
      "ScaledPureSVDRecommender: Computing SVD decomposition... done in 2.58 min\n",
      "EvaluatorHoldout: Processed 35595 (100.0%) in 2.82 min. Users per second: 210\n"
     ]
    },
    {
     "name": "stderr",
     "output_type": "stream",
     "text": [
      "[I 2024-12-04 14:33:44,129] Trial 245 finished with value: 0.027417743039529183 and parameters: {'num_factors': 1751, 'scaling_items': 0.010025411700694816, 'scaling_users': 1.4399259418217316}. Best is trial 194 with value: 0.0405380961299616.\n"
     ]
    },
    {
     "name": "stdout",
     "output_type": "stream",
     "text": [
      "ScaledPureSVDRecommender: Computing SVD decomposition...\n",
      "ScaledPureSVDRecommender: Computing SVD decomposition... done in 3.04 min\n",
      "EvaluatorHoldout: Processed 35595 (100.0%) in 3.13 min. Users per second: 190\n"
     ]
    },
    {
     "name": "stderr",
     "output_type": "stream",
     "text": [
      "[I 2024-12-04 14:39:54,381] Trial 246 finished with value: 0.04028763849033409 and parameters: {'num_factors': 1989, 'scaling_items': 0.013315506237990783, 'scaling_users': 0.011642940535023329}. Best is trial 194 with value: 0.0405380961299616.\n"
     ]
    },
    {
     "name": "stdout",
     "output_type": "stream",
     "text": [
      "ScaledPureSVDRecommender: Computing SVD decomposition...\n",
      "ScaledPureSVDRecommender: Computing SVD decomposition... done in 2.04 min\n",
      "EvaluatorHoldout: Processed 35595 (100.0%) in 2.48 min. Users per second: 239\n"
     ]
    },
    {
     "name": "stderr",
     "output_type": "stream",
     "text": [
      "[I 2024-12-04 14:44:25,665] Trial 247 finished with value: 0.038688318985409746 and parameters: {'num_factors': 1464, 'scaling_items': 0.012384081280149676, 'scaling_users': 0.011422417752390689}. Best is trial 194 with value: 0.0405380961299616.\n"
     ]
    },
    {
     "name": "stdout",
     "output_type": "stream",
     "text": [
      "ScaledPureSVDRecommender: Computing SVD decomposition...\n",
      "ScaledPureSVDRecommender: Computing SVD decomposition... done in 2.45 min\n",
      "EvaluatorHoldout: Processed 35595 (100.0%) in 2.73 min. Users per second: 218\n"
     ]
    },
    {
     "name": "stderr",
     "output_type": "stream",
     "text": [
      "[I 2024-12-04 14:49:36,357] Trial 248 finished with value: 0.039546321380075036 and parameters: {'num_factors': 1714, 'scaling_items': 0.0133966179345256, 'scaling_users': 0.014096146415499328}. Best is trial 194 with value: 0.0405380961299616.\n"
     ]
    },
    {
     "name": "stdout",
     "output_type": "stream",
     "text": [
      "ScaledPureSVDRecommender: Computing SVD decomposition...\n",
      "ScaledPureSVDRecommender: Computing SVD decomposition... done in 3.09 min\n",
      "EvaluatorHoldout: Processed 35595 (100.0%) in 3.13 min. Users per second: 190\n"
     ]
    },
    {
     "name": "stderr",
     "output_type": "stream",
     "text": [
      "[I 2024-12-04 14:55:49,730] Trial 249 finished with value: 0.040360939983989506 and parameters: {'num_factors': 1985, 'scaling_items': 0.011363922346717103, 'scaling_users': 0.011469098035623826}. Best is trial 194 with value: 0.0405380961299616.\n"
     ]
    },
    {
     "name": "stdout",
     "output_type": "stream",
     "text": [
      "ScaledPureSVDRecommender: Computing SVD decomposition...\n",
      "ScaledPureSVDRecommender: Computing SVD decomposition... done in 2.05 min\n",
      "EvaluatorHoldout: Processed 35595 (100.0%) in 2.43 min. Users per second: 244\n"
     ]
    },
    {
     "name": "stderr",
     "output_type": "stream",
     "text": [
      "[I 2024-12-04 15:00:18,729] Trial 250 finished with value: 0.03864848594304821 and parameters: {'num_factors': 1457, 'scaling_items': 0.011283087800834962, 'scaling_users': 0.011315695485878394}. Best is trial 194 with value: 0.0405380961299616.\n"
     ]
    },
    {
     "name": "stdout",
     "output_type": "stream",
     "text": [
      "ScaledPureSVDRecommender: Computing SVD decomposition...\n",
      "ScaledPureSVDRecommender: Computing SVD decomposition... done in 2.50 min\n",
      "EvaluatorHoldout: Processed 35595 (100.0%) in 2.70 min. Users per second: 220\n"
     ]
    },
    {
     "name": "stderr",
     "output_type": "stream",
     "text": [
      "[I 2024-12-04 15:05:31,179] Trial 251 finished with value: 0.039459921694012384 and parameters: {'num_factors': 1683, 'scaling_items': 0.010019808617217634, 'scaling_users': 0.012217343283585558}. Best is trial 194 with value: 0.0405380961299616.\n"
     ]
    },
    {
     "name": "stdout",
     "output_type": "stream",
     "text": [
      "ScaledPureSVDRecommender: Computing SVD decomposition...\n",
      "ScaledPureSVDRecommender: Computing SVD decomposition... done in 0.56 sec\n",
      "EvaluatorHoldout: Processed 35595 (100.0%) in 38.78 sec. Users per second: 918\n"
     ]
    },
    {
     "name": "stderr",
     "output_type": "stream",
     "text": [
      "[I 2024-12-04 15:06:10,805] Trial 252 finished with value: 0.0056991284222637035 and parameters: {'num_factors': 6, 'scaling_items': 0.011611667397342222, 'scaling_users': 0.011604208616049941}. Best is trial 194 with value: 0.0405380961299616.\n"
     ]
    },
    {
     "name": "stdout",
     "output_type": "stream",
     "text": [
      "ScaledPureSVDRecommender: Computing SVD decomposition...\n",
      "ScaledPureSVDRecommender: Computing SVD decomposition... done in 3.00 min\n",
      "EvaluatorHoldout: Processed 35595 (100.0%) in 3.16 min. Users per second: 188\n"
     ]
    },
    {
     "name": "stderr",
     "output_type": "stream",
     "text": [
      "[I 2024-12-04 15:12:20,940] Trial 253 finished with value: 0.040272281642907956 and parameters: {'num_factors': 1990, 'scaling_items': 0.012139324953009113, 'scaling_users': 0.013290598026824267}. Best is trial 194 with value: 0.0405380961299616.\n"
     ]
    },
    {
     "name": "stdout",
     "output_type": "stream",
     "text": [
      "ScaledPureSVDRecommender: Computing SVD decomposition...\n",
      "ScaledPureSVDRecommender: Computing SVD decomposition... done in 1.64 min\n",
      "EvaluatorHoldout: Processed 35595 (100.0%) in 2.23 min. Users per second: 266\n"
     ]
    },
    {
     "name": "stderr",
     "output_type": "stream",
     "text": [
      "[I 2024-12-04 15:16:13,608] Trial 254 finished with value: 0.037850477260716144 and parameters: {'num_factors': 1254, 'scaling_items': 0.01248881921152001, 'scaling_users': 0.012980907878472607}. Best is trial 194 with value: 0.0405380961299616.\n"
     ]
    },
    {
     "name": "stdout",
     "output_type": "stream",
     "text": [
      "ScaledPureSVDRecommender: Computing SVD decomposition...\n",
      "ScaledPureSVDRecommender: Computing SVD decomposition... done in 2.42 min\n",
      "EvaluatorHoldout: Processed 35595 (100.0%) in 2.76 min. Users per second: 215\n"
     ]
    },
    {
     "name": "stderr",
     "output_type": "stream",
     "text": [
      "[I 2024-12-04 15:21:24,628] Trial 255 finished with value: 0.03960896505439125 and parameters: {'num_factors': 1694, 'scaling_items': 0.011190076662579138, 'scaling_users': 0.011370319935943594}. Best is trial 194 with value: 0.0405380961299616.\n"
     ]
    },
    {
     "name": "stdout",
     "output_type": "stream",
     "text": [
      "ScaledPureSVDRecommender: Computing SVD decomposition...\n",
      "ScaledPureSVDRecommender: Computing SVD decomposition... done in 3.04 min\n",
      "EvaluatorHoldout: Processed 35595 (100.0%) in 3.13 min. Users per second: 190\n"
     ]
    },
    {
     "name": "stderr",
     "output_type": "stream",
     "text": [
      "[I 2024-12-04 15:27:34,804] Trial 256 finished with value: 0.015594278222597227 and parameters: {'num_factors': 1990, 'scaling_items': 1.8705634238993913, 'scaling_users': 0.0125393604367637}. Best is trial 194 with value: 0.0405380961299616.\n"
     ]
    },
    {
     "name": "stdout",
     "output_type": "stream",
     "text": [
      "ScaledPureSVDRecommender: Computing SVD decomposition...\n",
      "ScaledPureSVDRecommender: Computing SVD decomposition... done in 2.08 min\n",
      "EvaluatorHoldout: Processed 35595 (100.0%) in 2.50 min. Users per second: 237\n"
     ]
    },
    {
     "name": "stderr",
     "output_type": "stream",
     "text": [
      "[I 2024-12-04 15:32:10,358] Trial 257 finished with value: 0.038528227613561186 and parameters: {'num_factors': 1462, 'scaling_items': 0.01223178262613586, 'scaling_users': 0.01369158167299505}. Best is trial 194 with value: 0.0405380961299616.\n"
     ]
    },
    {
     "name": "stdout",
     "output_type": "stream",
     "text": [
      "ScaledPureSVDRecommender: Computing SVD decomposition...\n",
      "ScaledPureSVDRecommender: Computing SVD decomposition... done in 2.52 min\n",
      "EvaluatorHoldout: Processed 35595 (100.0%) in 2.81 min. Users per second: 211\n"
     ]
    },
    {
     "name": "stderr",
     "output_type": "stream",
     "text": [
      "[I 2024-12-04 15:37:30,531] Trial 258 finished with value: 0.03964004998918458 and parameters: {'num_factors': 1700, 'scaling_items': 0.011004202288339444, 'scaling_users': 0.014922898216236756}. Best is trial 194 with value: 0.0405380961299616.\n"
     ]
    },
    {
     "name": "stdout",
     "output_type": "stream",
     "text": [
      "ScaledPureSVDRecommender: Computing SVD decomposition...\n",
      "ScaledPureSVDRecommender: Computing SVD decomposition... done in 2.07 min\n",
      "EvaluatorHoldout: Processed 35595 (100.0%) in 2.46 min. Users per second: 241\n"
     ]
    },
    {
     "name": "stderr",
     "output_type": "stream",
     "text": [
      "[I 2024-12-04 15:42:02,252] Trial 259 finished with value: 0.03863354827345424 and parameters: {'num_factors': 1449, 'scaling_items': 0.013222394609050312, 'scaling_users': 0.010966579145144009}. Best is trial 194 with value: 0.0405380961299616.\n"
     ]
    },
    {
     "name": "stdout",
     "output_type": "stream",
     "text": [
      "ScaledPureSVDRecommender: Computing SVD decomposition...\n",
      "ScaledPureSVDRecommender: Computing SVD decomposition... done in 21.11 sec\n",
      "EvaluatorHoldout: Processed 35595 (100.0%) in 1.04 min. Users per second: 571\n"
     ]
    },
    {
     "name": "stderr",
     "output_type": "stream",
     "text": [
      "[I 2024-12-04 15:43:25,994] Trial 260 finished with value: 0.028575465387727716 and parameters: {'num_factors': 293, 'scaling_items': 0.010038813726100047, 'scaling_users': 0.0112671966243103}. Best is trial 194 with value: 0.0405380961299616.\n"
     ]
    },
    {
     "name": "stdout",
     "output_type": "stream",
     "text": [
      "ScaledPureSVDRecommender: Computing SVD decomposition...\n",
      "ScaledPureSVDRecommender: Computing SVD decomposition... done in 2.70 min\n",
      "EvaluatorHoldout: Processed 35595 (100.0%) in 2.86 min. Users per second: 208\n"
     ]
    },
    {
     "name": "stderr",
     "output_type": "stream",
     "text": [
      "[I 2024-12-04 15:48:59,624] Trial 261 finished with value: 0.03964212358165024 and parameters: {'num_factors': 1740, 'scaling_items': 0.012488918575701294, 'scaling_users': 0.012894545553227544}. Best is trial 194 with value: 0.0405380961299616.\n"
     ]
    },
    {
     "name": "stdout",
     "output_type": "stream",
     "text": [
      "ScaledPureSVDRecommender: Computing SVD decomposition...\n",
      "ScaledPureSVDRecommender: Computing SVD decomposition... done in 3.15 min\n",
      "EvaluatorHoldout: Processed 35595 (100.0%) in 3.13 min. Users per second: 189\n"
     ]
    },
    {
     "name": "stderr",
     "output_type": "stream",
     "text": [
      "[I 2024-12-04 15:55:17,033] Trial 262 finished with value: 0.03417094874659025 and parameters: {'num_factors': 1991, 'scaling_items': 0.23488644971358896, 'scaling_users': 0.013822029012867096}. Best is trial 194 with value: 0.0405380961299616.\n"
     ]
    },
    {
     "name": "stdout",
     "output_type": "stream",
     "text": [
      "ScaledPureSVDRecommender: Computing SVD decomposition...\n",
      "ScaledPureSVDRecommender: Computing SVD decomposition... done in 1.62 min\n",
      "EvaluatorHoldout: Processed 35595 (100.0%) in 2.21 min. Users per second: 268\n"
     ]
    },
    {
     "name": "stderr",
     "output_type": "stream",
     "text": [
      "[I 2024-12-04 15:59:07,286] Trial 263 finished with value: 0.037692213102873386 and parameters: {'num_factors': 1223, 'scaling_items': 0.011360388611606934, 'scaling_users': 0.015635664751363274}. Best is trial 194 with value: 0.0405380961299616.\n"
     ]
    },
    {
     "name": "stdout",
     "output_type": "stream",
     "text": [
      "ScaledPureSVDRecommender: Computing SVD decomposition...\n",
      "ScaledPureSVDRecommender: Computing SVD decomposition... done in 3.22 min\n",
      "EvaluatorHoldout: Processed 35595 (100.0%) in 3.18 min. Users per second: 187\n"
     ]
    },
    {
     "name": "stderr",
     "output_type": "stream",
     "text": [
      "[I 2024-12-04 16:05:31,476] Trial 264 finished with value: 0.04037746963747678 and parameters: {'num_factors': 1996, 'scaling_items': 0.01572756910203356, 'scaling_users': 0.011124755552542694}. Best is trial 194 with value: 0.0405380961299616.\n"
     ]
    },
    {
     "name": "stdout",
     "output_type": "stream",
     "text": [
      "ScaledPureSVDRecommender: Computing SVD decomposition...\n",
      "ScaledPureSVDRecommender: Computing SVD decomposition... done in 2.10 min\n",
      "EvaluatorHoldout: Processed 35595 (100.0%) in 2.52 min. Users per second: 235\n"
     ]
    },
    {
     "name": "stderr",
     "output_type": "stream",
     "text": [
      "[I 2024-12-04 16:10:09,272] Trial 265 finished with value: 0.03891140966383127 and parameters: {'num_factors': 1514, 'scaling_items': 0.013467220589514776, 'scaling_users': 0.011109849897563303}. Best is trial 194 with value: 0.0405380961299616.\n"
     ]
    },
    {
     "name": "stdout",
     "output_type": "stream",
     "text": [
      "ScaledPureSVDRecommender: Computing SVD decomposition...\n",
      "ScaledPureSVDRecommender: Computing SVD decomposition... done in 3.09 min\n",
      "EvaluatorHoldout: Processed 35595 (100.0%) in 3.11 min. Users per second: 191\n"
     ]
    },
    {
     "name": "stderr",
     "output_type": "stream",
     "text": [
      "[I 2024-12-04 16:16:21,418] Trial 266 finished with value: 0.04027406091902364 and parameters: {'num_factors': 1999, 'scaling_items': 0.016138583326505477, 'scaling_users': 0.012139078034575349}. Best is trial 194 with value: 0.0405380961299616.\n"
     ]
    },
    {
     "name": "stdout",
     "output_type": "stream",
     "text": [
      "ScaledPureSVDRecommender: Computing SVD decomposition...\n",
      "ScaledPureSVDRecommender: Computing SVD decomposition... done in 2.33 min\n",
      "EvaluatorHoldout: Processed 35595 (100.0%) in 2.66 min. Users per second: 223\n"
     ]
    },
    {
     "name": "stderr",
     "output_type": "stream",
     "text": [
      "[I 2024-12-04 16:21:21,568] Trial 267 finished with value: 0.03926768072027091 and parameters: {'num_factors': 1643, 'scaling_items': 0.01639863608240399, 'scaling_users': 0.011078195089850229}. Best is trial 194 with value: 0.0405380961299616.\n"
     ]
    },
    {
     "name": "stdout",
     "output_type": "stream",
     "text": [
      "ScaledPureSVDRecommender: Computing SVD decomposition...\n",
      "ScaledPureSVDRecommender: Computing SVD decomposition... done in 3.06 min\n",
      "EvaluatorHoldout: Processed 35595 (100.0%) in 3.11 min. Users per second: 191\n"
     ]
    },
    {
     "name": "stderr",
     "output_type": "stream",
     "text": [
      "[I 2024-12-04 16:27:31,998] Trial 268 finished with value: 0.040278641774636983 and parameters: {'num_factors': 1994, 'scaling_items': 0.016099670470885855, 'scaling_users': 0.012287607023518013}. Best is trial 194 with value: 0.0405380961299616.\n"
     ]
    },
    {
     "name": "stdout",
     "output_type": "stream",
     "text": [
      "ScaledPureSVDRecommender: Computing SVD decomposition...\n",
      "ScaledPureSVDRecommender: Computing SVD decomposition... done in 1.98 min\n",
      "EvaluatorHoldout: Processed 35595 (100.0%) in 2.48 min. Users per second: 239\n"
     ]
    },
    {
     "name": "stderr",
     "output_type": "stream",
     "text": [
      "[I 2024-12-04 16:32:00,188] Trial 269 finished with value: 0.03867352624432128 and parameters: {'num_factors': 1450, 'scaling_items': 0.010901293047830236, 'scaling_users': 0.012174513041889448}. Best is trial 194 with value: 0.0405380961299616.\n"
     ]
    },
    {
     "name": "stdout",
     "output_type": "stream",
     "text": [
      "ScaledPureSVDRecommender: Computing SVD decomposition...\n",
      "ScaledPureSVDRecommender: Computing SVD decomposition... done in 2.52 min\n",
      "EvaluatorHoldout: Processed 35595 (100.0%) in 2.85 min. Users per second: 208\n"
     ]
    },
    {
     "name": "stderr",
     "output_type": "stream",
     "text": [
      "[I 2024-12-04 16:37:22,249] Trial 270 finished with value: 0.039644393385015714 and parameters: {'num_factors': 1734, 'scaling_items': 0.013762956748101154, 'scaling_users': 0.010582653722839591}. Best is trial 194 with value: 0.0405380961299616.\n"
     ]
    },
    {
     "name": "stdout",
     "output_type": "stream",
     "text": [
      "ScaledPureSVDRecommender: Computing SVD decomposition...\n",
      "ScaledPureSVDRecommender: Computing SVD decomposition... done in 1.71 min\n",
      "EvaluatorHoldout: Processed 35595 (100.0%) in 2.25 min. Users per second: 263\n"
     ]
    },
    {
     "name": "stderr",
     "output_type": "stream",
     "text": [
      "[I 2024-12-04 16:41:20,649] Trial 271 finished with value: 0.03790910641542608 and parameters: {'num_factors': 1288, 'scaling_items': 0.015237085896993864, 'scaling_users': 0.012305467943713497}. Best is trial 194 with value: 0.0405380961299616.\n"
     ]
    },
    {
     "name": "stdout",
     "output_type": "stream",
     "text": [
      "ScaledPureSVDRecommender: Computing SVD decomposition...\n",
      "ScaledPureSVDRecommender: Computing SVD decomposition... done in 2.49 min\n",
      "EvaluatorHoldout: Processed 35595 (100.0%) in 2.73 min. Users per second: 218\n"
     ]
    },
    {
     "name": "stderr",
     "output_type": "stream",
     "text": [
      "[I 2024-12-04 16:46:34,105] Trial 272 finished with value: 0.03955510516235205 and parameters: {'num_factors': 1699, 'scaling_items': 0.011897116221837629, 'scaling_users': 0.010081077836840436}. Best is trial 194 with value: 0.0405380961299616.\n"
     ]
    },
    {
     "name": "stdout",
     "output_type": "stream",
     "text": [
      "ScaledPureSVDRecommender: Computing SVD decomposition...\n",
      "ScaledPureSVDRecommender: Computing SVD decomposition... done in 2.17 min\n",
      "EvaluatorHoldout: Processed 35595 (100.0%) in 2.58 min. Users per second: 230\n"
     ]
    },
    {
     "name": "stderr",
     "output_type": "stream",
     "text": [
      "[I 2024-12-04 16:51:19,613] Trial 273 finished with value: 0.03878070198908646 and parameters: {'num_factors': 1494, 'scaling_items': 0.010840981596325829, 'scaling_users': 0.017649122929211503}. Best is trial 194 with value: 0.0405380961299616.\n"
     ]
    },
    {
     "name": "stdout",
     "output_type": "stream",
     "text": [
      "ScaledPureSVDRecommender: Computing SVD decomposition...\n",
      "ScaledPureSVDRecommender: Computing SVD decomposition... done in 1.45 min\n",
      "EvaluatorHoldout: Processed 35595 (100.0%) in 2.02 min. Users per second: 293\n"
     ]
    },
    {
     "name": "stderr",
     "output_type": "stream",
     "text": [
      "[I 2024-12-04 16:54:48,463] Trial 274 finished with value: 0.03705849871905361 and parameters: {'num_factors': 1086, 'scaling_items': 0.01369020862657502, 'scaling_users': 0.011249842767382043}. Best is trial 194 with value: 0.0405380961299616.\n"
     ]
    },
    {
     "name": "stdout",
     "output_type": "stream",
     "text": [
      "ScaledPureSVDRecommender: Computing SVD decomposition...\n",
      "ScaledPureSVDRecommender: Computing SVD decomposition... done in 2.51 min\n",
      "EvaluatorHoldout: Processed 35595 (100.0%) in 2.79 min. Users per second: 213\n"
     ]
    },
    {
     "name": "stderr",
     "output_type": "stream",
     "text": [
      "[I 2024-12-04 17:00:07,008] Trial 275 finished with value: 0.03966701338024432 and parameters: {'num_factors': 1711, 'scaling_items': 0.010012591091887115, 'scaling_users': 0.013420732238014293}. Best is trial 194 with value: 0.0405380961299616.\n"
     ]
    },
    {
     "name": "stdout",
     "output_type": "stream",
     "text": [
      "ScaledPureSVDRecommender: Computing SVD decomposition...\n",
      "ScaledPureSVDRecommender: Computing SVD decomposition... done in 3.16 min\n",
      "EvaluatorHoldout: Processed 35595 (100.0%) in 3.15 min. Users per second: 188\n"
     ]
    },
    {
     "name": "stderr",
     "output_type": "stream",
     "text": [
      "[I 2024-12-04 17:06:26,037] Trial 276 finished with value: 0.040294675326700786 and parameters: {'num_factors': 1995, 'scaling_items': 0.015928219409387066, 'scaling_users': 0.015263814313429238}. Best is trial 194 with value: 0.0405380961299616.\n"
     ]
    },
    {
     "name": "stdout",
     "output_type": "stream",
     "text": [
      "ScaledPureSVDRecommender: Computing SVD decomposition...\n",
      "ScaledPureSVDRecommender: Computing SVD decomposition... done in 2.11 min\n",
      "EvaluatorHoldout: Processed 35595 (100.0%) in 2.52 min. Users per second: 236\n"
     ]
    },
    {
     "name": "stderr",
     "output_type": "stream",
     "text": [
      "[I 2024-12-04 17:11:04,102] Trial 277 finished with value: 0.035868030332420135 and parameters: {'num_factors': 1484, 'scaling_items': 0.1156857718816888, 'scaling_users': 0.02023697090114056}. Best is trial 194 with value: 0.0405380961299616.\n"
     ]
    },
    {
     "name": "stdout",
     "output_type": "stream",
     "text": [
      "ScaledPureSVDRecommender: Computing SVD decomposition...\n",
      "ScaledPureSVDRecommender: Computing SVD decomposition... done in 10.88 sec\n",
      "EvaluatorHoldout: Processed 35595 (100.0%) in 50.45 sec. Users per second: 706\n"
     ]
    },
    {
     "name": "stderr",
     "output_type": "stream",
     "text": [
      "[I 2024-12-04 17:12:05,696] Trial 278 finished with value: 0.022811180453826557 and parameters: {'num_factors': 139, 'scaling_items': 0.012705460507598193, 'scaling_users': 0.015612167062109562}. Best is trial 194 with value: 0.0405380961299616.\n"
     ]
    },
    {
     "name": "stdout",
     "output_type": "stream",
     "text": [
      "ScaledPureSVDRecommender: Computing SVD decomposition...\n",
      "ScaledPureSVDRecommender: Computing SVD decomposition... done in 2.53 min\n",
      "EvaluatorHoldout: Processed 35595 (100.0%) in 2.78 min. Users per second: 213\n"
     ]
    },
    {
     "name": "stderr",
     "output_type": "stream",
     "text": [
      "[I 2024-12-04 17:17:24,796] Trial 279 finished with value: 0.03956511526275405 and parameters: {'num_factors': 1717, 'scaling_items': 0.015277507276447711, 'scaling_users': 0.014925651109014153}. Best is trial 194 with value: 0.0405380961299616.\n"
     ]
    },
    {
     "name": "stdout",
     "output_type": "stream",
     "text": [
      "ScaledPureSVDRecommender: Computing SVD decomposition...\n",
      "ScaledPureSVDRecommender: Computing SVD decomposition... done in 3.11 min\n",
      "EvaluatorHoldout: Processed 35595 (100.0%) in 3.15 min. Users per second: 188\n"
     ]
    },
    {
     "name": "stderr",
     "output_type": "stream",
     "text": [
      "[I 2024-12-04 17:23:40,806] Trial 280 finished with value: 0.04034562215577672 and parameters: {'num_factors': 1987, 'scaling_items': 0.01157844499418631, 'scaling_users': 0.013497894661126041}. Best is trial 194 with value: 0.0405380961299616.\n"
     ]
    },
    {
     "name": "stdout",
     "output_type": "stream",
     "text": [
      "ScaledPureSVDRecommender: Computing SVD decomposition...\n",
      "ScaledPureSVDRecommender: Computing SVD decomposition... done in 1.75 min\n",
      "EvaluatorHoldout: Processed 35595 (100.0%) in 2.24 min. Users per second: 264\n"
     ]
    },
    {
     "name": "stderr",
     "output_type": "stream",
     "text": [
      "[I 2024-12-04 17:27:40,520] Trial 281 finished with value: 0.03788880416145347 and parameters: {'num_factors': 1283, 'scaling_items': 0.011242418439174392, 'scaling_users': 0.01660422079971325}. Best is trial 194 with value: 0.0405380961299616.\n"
     ]
    },
    {
     "name": "stdout",
     "output_type": "stream",
     "text": [
      "ScaledPureSVDRecommender: Computing SVD decomposition...\n",
      "ScaledPureSVDRecommender: Computing SVD decomposition... done in 2.61 min\n",
      "EvaluatorHoldout: Processed 35595 (100.0%) in 2.89 min. Users per second: 205\n"
     ]
    },
    {
     "name": "stderr",
     "output_type": "stream",
     "text": [
      "[I 2024-12-04 17:33:10,398] Trial 282 finished with value: 0.0396291402172131 and parameters: {'num_factors': 1733, 'scaling_items': 0.012162561814963493, 'scaling_users': 0.01406564431593671}. Best is trial 194 with value: 0.0405380961299616.\n"
     ]
    },
    {
     "name": "stdout",
     "output_type": "stream",
     "text": [
      "ScaledPureSVDRecommender: Computing SVD decomposition...\n",
      "ScaledPureSVDRecommender: Computing SVD decomposition... done in 3.20 min\n",
      "EvaluatorHoldout: Processed 35595 (100.0%) in 3.16 min. Users per second: 187\n"
     ]
    },
    {
     "name": "stderr",
     "output_type": "stream",
     "text": [
      "[I 2024-12-04 17:39:32,351] Trial 283 finished with value: 0.0402670887430671 and parameters: {'num_factors': 1979, 'scaling_items': 0.01331290793308305, 'scaling_users': 0.017235028793873258}. Best is trial 194 with value: 0.0405380961299616.\n"
     ]
    },
    {
     "name": "stdout",
     "output_type": "stream",
     "text": [
      "ScaledPureSVDRecommender: Computing SVD decomposition...\n",
      "ScaledPureSVDRecommender: Computing SVD decomposition... done in 1.94 min\n",
      "EvaluatorHoldout: Processed 35595 (100.0%) in 2.46 min. Users per second: 241\n"
     ]
    },
    {
     "name": "stderr",
     "output_type": "stream",
     "text": [
      "[I 2024-12-04 17:43:56,252] Trial 284 finished with value: 0.03843597393070493 and parameters: {'num_factors': 1400, 'scaling_items': 0.011282530710818106, 'scaling_users': 0.013510212012243387}. Best is trial 194 with value: 0.0405380961299616.\n"
     ]
    },
    {
     "name": "stdout",
     "output_type": "stream",
     "text": [
      "ScaledPureSVDRecommender: Computing SVD decomposition...\n",
      "ScaledPureSVDRecommender: Computing SVD decomposition... done in 2.25 min\n",
      "EvaluatorHoldout: Processed 35595 (100.0%) in 2.65 min. Users per second: 224\n"
     ]
    },
    {
     "name": "stderr",
     "output_type": "stream",
     "text": [
      "[I 2024-12-04 17:48:50,609] Trial 285 finished with value: 0.039042583339463505 and parameters: {'num_factors': 1568, 'scaling_items': 0.010030287455504239, 'scaling_users': 0.014800299635120952}. Best is trial 194 with value: 0.0405380961299616.\n"
     ]
    },
    {
     "name": "stdout",
     "output_type": "stream",
     "text": [
      "ScaledPureSVDRecommender: Computing SVD decomposition...\n",
      "ScaledPureSVDRecommender: Computing SVD decomposition... done in 3.13 min\n",
      "EvaluatorHoldout: Processed 35595 (100.0%) in 3.14 min. Users per second: 189\n"
     ]
    },
    {
     "name": "stderr",
     "output_type": "stream",
     "text": [
      "[I 2024-12-04 17:55:06,736] Trial 286 finished with value: 0.04021295348686695 and parameters: {'num_factors': 1985, 'scaling_items': 0.01237400124444789, 'scaling_users': 0.02259895086870665}. Best is trial 194 with value: 0.0405380961299616.\n"
     ]
    },
    {
     "name": "stdout",
     "output_type": "stream",
     "text": [
      "ScaledPureSVDRecommender: Computing SVD decomposition...\n",
      "ScaledPureSVDRecommender: Computing SVD decomposition... done in 1.66 min\n",
      "EvaluatorHoldout: Processed 35595 (100.0%) in 2.22 min. Users per second: 267\n"
     ]
    },
    {
     "name": "stderr",
     "output_type": "stream",
     "text": [
      "[I 2024-12-04 17:58:59,380] Trial 287 finished with value: 0.03747651935241362 and parameters: {'num_factors': 1205, 'scaling_items': 0.014245322640361938, 'scaling_users': 0.012516916984024908}. Best is trial 194 with value: 0.0405380961299616.\n"
     ]
    },
    {
     "name": "stdout",
     "output_type": "stream",
     "text": [
      "ScaledPureSVDRecommender: Computing SVD decomposition...\n",
      "ScaledPureSVDRecommender: Computing SVD decomposition... done in 2.54 min\n",
      "EvaluatorHoldout: Processed 35595 (100.0%) in 2.79 min. Users per second: 212\n"
     ]
    },
    {
     "name": "stderr",
     "output_type": "stream",
     "text": [
      "[I 2024-12-04 18:04:19,364] Trial 288 finished with value: 0.039625930608230185 and parameters: {'num_factors': 1690, 'scaling_items': 0.010938518282803953, 'scaling_users': 0.011280379274100319}. Best is trial 194 with value: 0.0405380961299616.\n"
     ]
    },
    {
     "name": "stdout",
     "output_type": "stream",
     "text": [
      "ScaledPureSVDRecommender: Computing SVD decomposition...\n",
      "ScaledPureSVDRecommender: Computing SVD decomposition... done in 2.07 min\n",
      "EvaluatorHoldout: Processed 35595 (100.0%) in 2.50 min. Users per second: 237\n"
     ]
    },
    {
     "name": "stderr",
     "output_type": "stream",
     "text": [
      "[I 2024-12-04 18:08:53,631] Trial 289 finished with value: 0.038628544895505185 and parameters: {'num_factors': 1460, 'scaling_items': 0.013061548457640019, 'scaling_users': 0.015575920580830372}. Best is trial 194 with value: 0.0405380961299616.\n"
     ]
    },
    {
     "name": "stdout",
     "output_type": "stream",
     "text": [
      "ScaledPureSVDRecommender: Computing SVD decomposition...\n",
      "ScaledPureSVDRecommender: Computing SVD decomposition... done in 2.57 min\n",
      "EvaluatorHoldout: Processed 35595 (100.0%) in 2.79 min. Users per second: 212\n"
     ]
    },
    {
     "name": "stderr",
     "output_type": "stream",
     "text": [
      "[I 2024-12-04 18:14:15,405] Trial 290 finished with value: 0.03958354236483044 and parameters: {'num_factors': 1712, 'scaling_items': 0.01157246758165473, 'scaling_users': 0.018648448946011364}. Best is trial 194 with value: 0.0405380961299616.\n"
     ]
    },
    {
     "name": "stdout",
     "output_type": "stream",
     "text": [
      "ScaledPureSVDRecommender: Computing SVD decomposition...\n",
      "ScaledPureSVDRecommender: Computing SVD decomposition... done in 0.41 sec\n",
      "EvaluatorHoldout: Processed 35595 (100.0%) in 40.12 sec. Users per second: 887\n"
     ]
    },
    {
     "name": "stderr",
     "output_type": "stream",
     "text": [
      "[I 2024-12-04 18:14:56,198] Trial 291 finished with value: 0.004267093202407151 and parameters: {'num_factors': 2, 'scaling_items': 0.010015105948205401, 'scaling_users': 0.013393374022400678}. Best is trial 194 with value: 0.0405380961299616.\n"
     ]
    },
    {
     "name": "stdout",
     "output_type": "stream",
     "text": [
      "ScaledPureSVDRecommender: Computing SVD decomposition...\n",
      "ScaledPureSVDRecommender: Computing SVD decomposition... done in 3.10 min\n",
      "EvaluatorHoldout: Processed 35595 (100.0%) in 3.15 min. Users per second: 188\n"
     ]
    },
    {
     "name": "stderr",
     "output_type": "stream",
     "text": [
      "[I 2024-12-04 18:21:11,731] Trial 292 finished with value: 0.040294849240907586 and parameters: {'num_factors': 1980, 'scaling_items': 0.013934595673411383, 'scaling_users': 0.012213209807098}. Best is trial 194 with value: 0.0405380961299616.\n"
     ]
    }
   ],
   "source": [
    "if config['tune_parameters']:\n",
    "    \n",
    "    optuna_study = optuna.create_study(direction='maximize', study_name=f'hyperparameters_tuning_{config[\"model\"]}',\n",
    "                                storage=f'sqlite:///{config[\"database_path\"]}', load_if_exists=True)\n",
    "\n",
    "    optuna_study.optimize(objective_function_ScaledPureSVD, n_trials=50)"
   ]
  },
  {
   "cell_type": "markdown",
   "id": "3adb20d9",
   "metadata": {
    "papermill": {
     "duration": 0.024991,
     "end_time": "2024-12-04T18:21:11.789884",
     "exception": false,
     "start_time": "2024-12-04T18:21:11.764893",
     "status": "completed"
    },
    "tags": []
   },
   "source": [
    "## Some optuna visualizations on recommender parameters"
   ]
  },
  {
   "cell_type": "code",
   "execution_count": 14,
   "id": "39e6c506",
   "metadata": {
    "execution": {
     "iopub.execute_input": "2024-12-04T18:21:11.842777Z",
     "iopub.status.busy": "2024-12-04T18:21:11.842305Z",
     "iopub.status.idle": "2024-12-04T18:21:13.582026Z",
     "shell.execute_reply": "2024-12-04T18:21:13.580803Z"
    },
    "papermill": {
     "duration": 1.769638,
     "end_time": "2024-12-04T18:21:13.584474",
     "exception": false,
     "start_time": "2024-12-04T18:21:11.814836",
     "status": "completed"
    },
    "tags": []
   },
   "outputs": [
    {
     "data": {
      "text/html": [
       "        <script type=\"text/javascript\">\n",
       "        window.PlotlyConfig = {MathJaxConfig: 'local'};\n",
       "        if (window.MathJax && window.MathJax.Hub && window.MathJax.Hub.Config) {window.MathJax.Hub.Config({SVG: {font: \"STIX-Web\"}});}\n",
       "        if (typeof require !== 'undefined') {\n",
       "        require.undef(\"plotly\");\n",
       "        requirejs.config({\n",
       "            paths: {\n",
       "                'plotly': ['https://cdn.plot.ly/plotly-2.32.0.min']\n",
       "            }\n",
       "        });\n",
       "        require(['plotly'], function(Plotly) {\n",
       "            window._Plotly = Plotly;\n",
       "        });\n",
       "        }\n",
       "        </script>\n",
       "        "
      ]
     },
     "metadata": {},
     "output_type": "display_data"
    },
    {
     "data": {
      "text/html": [
       "<div>                            <div id=\"e42e4493-fc9d-43e4-932c-b5e1ab80d1ea\" class=\"plotly-graph-div\" style=\"height:525px; width:100%;\"></div>            <script type=\"text/javascript\">                require([\"plotly\"], function(Plotly) {                    window.PLOTLYENV=window.PLOTLYENV || {};                                    if (document.getElementById(\"e42e4493-fc9d-43e4-932c-b5e1ab80d1ea\")) {                    Plotly.newPlot(                        \"e42e4493-fc9d-43e4-932c-b5e1ab80d1ea\",                        [{\"marker\":{\"color\":[0,1,2,3,4,5,6,7,8,9,10,11,12,13,14,15,16,17,18,19,20,21,22,23,24,25,26,27,28,29,30,31,32,33,34,35,36,37,38,39,40,41,42,43,44,45,46,47,48,49,50,51,52,53,54,55,56,57,58,59,60,61,62,63,64,65,66,67,68,69,70,71,72,73,74,75,76,77,78,79,80,81,82,83,84,85,86,87,88,89,90,91,92,93,94,95,96,97,98,99,100,101,102,103,104,105,106,107,108,109,110,111,112,113,114,115,116,117,118,119,120,121,122,123,124,125,126,127,128,129,130,131,132,133,134,135,136,137,138,139,140,141,142,143,144,145,146,147,148,149,150,151,152,153,154,155,156,157,158,159,160,161,162,163,164,165,166,167,168,169,170,171,172,173,174,175,176,177,178,179,180,181,182,183,184,185,186,187,188,189,190,191,192,193,194,195,196,197,198,199,200,201,202,203,204,205,206,207,208,209,210,211,212,213,214,215,216,217,218,219,220,221,222,223,224,225,226,227,228,229,230,231,232,233,234,235,236,237,238,239,240,241,242,243,244,245,246,247,248,249,250,251,252,253,254,255,256,257,258,259,260,261,262,263,264,265,266,267,268,269,270,271,272,273,274,275,276,277,278,279,280,281,282,283,284,285,286,287,288,289,290,291,292],\"colorbar\":{\"title\":{\"text\":\"Trial\"},\"x\":1.0,\"xpad\":40},\"colorscale\":[[0.0,\"rgb(247,251,255)\"],[0.125,\"rgb(222,235,247)\"],[0.25,\"rgb(198,219,239)\"],[0.375,\"rgb(158,202,225)\"],[0.5,\"rgb(107,174,214)\"],[0.625,\"rgb(66,146,198)\"],[0.75,\"rgb(33,113,181)\"],[0.875,\"rgb(8,81,156)\"],[1.0,\"rgb(8,48,107)\"]],\"line\":{\"color\":\"Grey\",\"width\":0.5},\"showscale\":true},\"mode\":\"markers\",\"name\":\"Feasible Trial\",\"showlegend\":false,\"x\":[378,2,569,6,165,5,400,13,735,1,1956,1343,1958,98,1871,47,1982,161,66,220,851,1508,969,28,1965,483,290,999,1099,376,108,1206,1448,644,578,1389,256,651,4,25,9,1277,1290,424,822,1559,1,1982,799,1844,2,1749,1878,1888,1091,749,357,558,1382,969,1960,1949,1918,1096,1967,1990,1989,857,1514,492,1078,1991,1996,1384,1504,709,922,1541,1237,1551,52,1566,1522,1201,1543,19,589,1480,883,1577,1021,1584,1573,1217,1575,736,179,1523,487,936,1605,1623,1251,1620,1628,1029,1208,674,1329,780,114,1666,1637,1625,1086,1323,1689,883,1085,1653,1359,1609,1668,1697,1152,1714,4,953,1654,1722,1274,1708,1746,1327,1823,1092,1364,1762,861,1794,1165,1748,1763,1784,1992,1852,1885,1891,1948,1945,1973,1991,1982,1869,1368,1991,1858,1989,1996,2000,1989,1965,1998,1908,1319,1387,1970,1991,1968,1982,1988,1967,1414,1976,1406,1256,1991,1995,1417,1991,1152,1998,1443,1470,1995,1496,1182,1981,1465,1969,1246,1994,39,1474,1988,1509,12,1604,1986,1574,1053,2,1963,1984,1639,1987,1630,1350,1995,1642,1653,1985,1693,1980,1378,1979,1660,1671,1987,1305,1471,70,1970,1680,1990,1666,1989,1676,1998,1422,1618,1956,1666,1992,1988,1443,1700,1985,1236,1660,1400,1998,1981,1654,1724,1751,1989,1464,1714,1985,1457,1683,6,1990,1254,1694,1990,1462,1700,1449,293,1740,1991,1223,1996,1514,1999,1643,1994,1450,1734,1288,1699,1494,1086,1711,1995,1484,139,1717,1987,1283,1733,1979,1400,1568,1985,1205,1690,1460,1712,2,1980],\"y\":[0.012504163907451253,0.004109836855096014,0.018366111701973574,0.005743540090569181,0.023963864864201646,0.0060016454959565015,0.018055264583709683,0.008768748731875678,0.030505450426646437,0.0010437884757311673,0.03618509265390722,0.03489522672392334,0.036068325986571656,0.015774000717953682,0.029679680131638932,0.012771599364098617,0.034111140096811016,0.02127926719688173,0.017058447436660705,0.018873340289901522,0.021494258601506576,0.03506227912338206,0.032997783708697194,0.01214956287333056,0.034651425762043976,0.026207748323845544,0.02362250918066302,0.03325622913865527,0.025777823485998348,0.016256699598882887,0.01806096250365093,0.03359191142861501,0.03463922389670268,0.030946961741103337,0.012405099699663864,0.03596979912909008,0.026123413311571256,0.027910893495385104,0.0006781862531967909,0.012431177912004118,0.007099017384731691,0.03492969072256762,0.03484428212451692,0.02618820304260621,0.03247919607042977,0.03410254918092994,0.0010795802424542486,0.038005579747466385,0.026928095394171403,0.03556347088163237,0.000800163657727926,0.035836361224265506,0.03565934331779115,0.03675816895096173,0.035453603926000506,0.03047254719652446,0.020854497354497088,0.029890901165447428,0.035499424745314645,0.03529367309034276,0.03658165829425718,0.036369808493701,0.03756445862513989,0.03166704236594583,0.03761925609312759,0.03778671094789794,0.03786450076589019,0.03419841269841149,0.03584121632920499,0.028270664017818917,0.034987813742342555,0.037840731376128284,0.037948724294698644,0.03709337966586056,0.037956385438474315,0.033750526759375205,0.0348111882576682,0.0367743585798777,0.03622324898494186,0.03801916512261937,0.016224808638630968,0.03793744662728932,0.03782474241745055,0.03665154504935238,0.038052904478735314,0.010674439293908534,0.032549640242854665,0.0378042528712552,0.034735541151890675,0.03842878993616311,0.03660622367596529,0.03812269870255395,0.03842607977310756,0.036406922454329624,0.038078550135227776,0.03343402631455642,0.02415298541573244,0.03805741732943445,0.031693343545217786,0.035579042892147535,0.038290547093959106,0.03798823960918222,0.0368998454839151,0.038060269076491855,0.03797499314376549,0.035713563301425735,0.03696907225689247,0.033607172400260406,0.037118001904136395,0.03333731329306444,0.020878501974371928,0.03817550953517947,0.037856032481821206,0.03842321130353019,0.03636745619257076,0.03760188808397687,0.021484558425139723,0.03464166649944043,0.036650326535070415,0.03867931335103537,0.03761178893058241,0.038563845466077704,0.03868076375092693,0.03892545435086383,0.03665493526155005,0.038381497535099014,0.005125628488038932,0.03499428535753739,0.03815113701986733,0.039110390927920353,0.03697094629395372,0.03889640398932294,0.03914100986182607,0.03733904574612393,0.031105312856049405,0.036596181245358225,0.03771300476926127,0.038757756462137805,0.03484205022552995,0.039082908023909554,0.03680457728814098,0.038921498917494,0.03899501334456964,0.03940663371215292,0.03983604461122223,0.03985436245950224,0.03982814377799501,0.039807916217944384,0.03984138243956897,0.03996084477710982,0.04007057349324386,0.040245304873832814,0.039970803595117434,0.0398705331362292,0.03818694439427541,0.04004658448105421,0.039816713378237445,0.0401526699175231,0.040239735159876965,0.04019326885129516,0.04023502386860854,0.040275834620966025,0.04018507370171795,0.03995613125617204,0.03782220059442851,0.03822262579236736,0.04019338367926512,0.0402826719019287,0.04023432152277346,0.04027060493158126,0.0403549566663754,0.04019946621716398,0.03842505412522138,0.04026148669890634,0.03834711268971561,0.037750023968943947,0.040367116167999664,0.04032144919586853,0.03849897992628571,0.04041745318251716,0.03741934171242927,0.040373189787221306,0.03855315197202959,0.038620498018937445,0.040294764513473684,0.03876647781367395,0.037545326947559236,0.04022885660327583,0.03870241384000168,0.0401390399489839,0.03789017429324915,0.040488718988085384,0.015161964294075786,0.03863581250264628,0.0405380961299616,0.03893919245836516,0.009034533118393325,0.03914964202658972,0.040305320882858334,0.03922163247468621,0.036958227145330834,0.004265558075081886,0.04022696584369435,0.04039933265997169,0.03934182837343248,0.04039143405641378,0.03942839639952852,0.03826632508132573,0.040267370796235824,0.039382495312118855,0.03936292216001305,0.0401387590106497,0.03939029135088855,0.04038464471334109,0.03828487370038024,0.0403987295344213,0.03937903932467639,0.03951761215793941,0.040396832085832036,0.038183130544907545,0.03879098299431096,0.018330820496012135,0.040301874928927936,0.03953236810948438,0.026964640789124122,0.03947066535561972,0.04028483914050567,0.039419858995711064,0.04036612396515326,0.03850655299812349,0.039228945790048306,0.04014151042258779,0.03946130743349319,0.04028273210300026,0.0402060671531791,0.03857866273352862,0.039441632831433496,0.040257821122547936,0.03773857573183179,0.039306139171498146,0.038429647244015694,0.04036076941428671,0.027385397226736764,0.03933124747768531,0.039587156658794434,0.027417743039529183,0.04028763849033409,0.038688318985409746,0.039546321380075036,0.040360939983989506,0.03864848594304821,0.039459921694012384,0.0056991284222637035,0.040272281642907956,0.037850477260716144,0.03960896505439125,0.015594278222597227,0.038528227613561186,0.03964004998918458,0.03863354827345424,0.028575465387727716,0.03964212358165024,0.03417094874659025,0.037692213102873386,0.04037746963747678,0.03891140966383127,0.04027406091902364,0.03926768072027091,0.040278641774636983,0.03867352624432128,0.039644393385015714,0.03790910641542608,0.03955510516235205,0.03878070198908646,0.03705849871905361,0.03966701338024432,0.040294675326700786,0.035868030332420135,0.022811180453826557,0.03956511526275405,0.04034562215577672,0.03788880416145347,0.0396291402172131,0.0402670887430671,0.03843597393070493,0.039042583339463505,0.04021295348686695,0.03747651935241362,0.039625930608230185,0.038628544895505185,0.03958354236483044,0.004267093202407151,0.040294849240907586],\"type\":\"scatter\",\"xaxis\":\"x\",\"yaxis\":\"y\"},{\"marker\":{\"color\":[0,1,2,3,4,5,6,7,8,9,10,11,12,13,14,15,16,17,18,19,20,21,22,23,24,25,26,27,28,29,30,31,32,33,34,35,36,37,38,39,40,41,42,43,44,45,46,47,48,49,50,51,52,53,54,55,56,57,58,59,60,61,62,63,64,65,66,67,68,69,70,71,72,73,74,75,76,77,78,79,80,81,82,83,84,85,86,87,88,89,90,91,92,93,94,95,96,97,98,99,100,101,102,103,104,105,106,107,108,109,110,111,112,113,114,115,116,117,118,119,120,121,122,123,124,125,126,127,128,129,130,131,132,133,134,135,136,137,138,139,140,141,142,143,144,145,146,147,148,149,150,151,152,153,154,155,156,157,158,159,160,161,162,163,164,165,166,167,168,169,170,171,172,173,174,175,176,177,178,179,180,181,182,183,184,185,186,187,188,189,190,191,192,193,194,195,196,197,198,199,200,201,202,203,204,205,206,207,208,209,210,211,212,213,214,215,216,217,218,219,220,221,222,223,224,225,226,227,228,229,230,231,232,233,234,235,236,237,238,239,240,241,242,243,244,245,246,247,248,249,250,251,252,253,254,255,256,257,258,259,260,261,262,263,264,265,266,267,268,269,270,271,272,273,274,275,276,277,278,279,280,281,282,283,284,285,286,287,288,289,290,291,292],\"colorbar\":{\"title\":{\"text\":\"Trial\"},\"x\":1.0,\"xpad\":40},\"colorscale\":[[0.0,\"rgb(247,251,255)\"],[0.125,\"rgb(222,235,247)\"],[0.25,\"rgb(198,219,239)\"],[0.375,\"rgb(158,202,225)\"],[0.5,\"rgb(107,174,214)\"],[0.625,\"rgb(66,146,198)\"],[0.75,\"rgb(33,113,181)\"],[0.875,\"rgb(8,81,156)\"],[1.0,\"rgb(8,48,107)\"]],\"line\":{\"color\":\"Grey\",\"width\":0.5},\"showscale\":false},\"mode\":\"markers\",\"name\":\"Feasible Trial\",\"showlegend\":false,\"x\":[1.3860255822009073,0.013940120213759044,0.7549771304312893,0.0416380456274757,0.011137371712215634,0.2962999418236704,0.5235237648406552,0.130534060830467,0.1567636554136728,0.023676562786260177,0.09686066733468594,0.07397477136852813,0.06664005122136578,0.046506959940748674,0.1276167577997989,0.2585475324066749,0.07193706438585781,0.027181382083672094,0.08034358697401214,0.3634422464912085,0.17526400691619298,0.08020326488115836,0.04459091172601694,0.09459658213203183,0.0184718508256963,0.049023675782431476,0.1979504424185525,0.09689290428019127,0.031820947261980856,0.788348284709677,0.05835271912813182,0.11489895941785701,0.06422833904026677,0.08480625867207997,1.6038307888039742,0.03540185206053599,0.03510994204652552,0.01704575320502599,0.01045369309895238,0.024396593668256264,0.21496320800773702,0.06088103192739247,0.057624701563848836,0.036323516197895214,0.10351761890371705,0.14913002603961553,0.05447255910183507,0.01927414434729957,0.02876783666981003,0.013348601392227856,0.014126593677523022,0.019819796515371153,0.016229144290888956,0.02117100663672341,0.020802768068008543,0.037784190625589846,0.023033500934471027,0.027428059973475798,0.019233225848835793,0.012559016072706033,0.015692087847326584,0.015547356722967197,0.014988695330522793,0.011776485384678063,0.015159331039882457,0.015160790983150537,0.014854242429403216,0.010596095919691035,0.015723270045117994,0.014061238274767358,0.022802776302529332,0.01556062001396756,0.010151818574805389,0.011957897916752176,0.0113247557083141,0.010034417010641476,0.017884416038661533,0.013192596977278166,0.011542747090221758,0.025404599143662804,0.018037256147513517,0.025361771725271653,0.025888709018566762,0.025418676991677783,0.03142350656440906,0.03071679113379654,0.04316077208714653,0.03251022397863936,0.02176139465110623,0.026302749785330485,0.018517007154601813,0.026169933363066937,0.029431430029236705,0.04883575196712402,0.029322041744534403,0.04120615890609009,0.032190104774021906,0.03939486265989212,0.028965218379935716,0.03732506920236222,0.0395908314353023,0.052352514923306,0.0399667104290461,0.04910428370207577,0.0539635862273629,0.04762178097380664,0.03416020898545254,0.02814011610536387,0.03988717866149203,0.06853831440979745,0.04419127788489709,0.05242257907343918,0.0538326559136914,0.030943099684608805,0.029978520220206833,0.023401399229879445,0.9209142381191958,0.0355375866796498,0.02061110556185444,0.027157664669661706,0.02683112319323327,0.03183240700851267,0.034266735975120144,0.0317898305297231,0.034943168141892425,0.04474544739032398,0.07650206035050149,0.0606413006493673,0.047663097635791844,0.029122046696146035,0.04587433286625236,0.029057000993409177,0.02374079643507545,0.03349680589190065,0.35261171880811415,0.023157788355759445,0.03191742562078568,0.03762542122741997,0.03748010925554066,0.028011055080431377,0.021750094512394378,0.02844030553116874,0.027882502962222225,0.027061982415356605,0.02820731301624503,0.02452610079997693,0.02424163643860209,0.023161017019726098,0.023811356895040343,0.02400184281478662,0.019836201536963985,0.019305543913410182,0.023740096106303055,0.019511451936625655,0.018928188667949743,0.02348057800371527,0.02124622689184401,0.0172285258372049,0.017447402477105137,0.017033465897651066,0.017098856231732653,0.016602275127888023,0.01764173789190153,0.01703936841701792,0.017752331334978753,0.016949401944085826,0.016693962967179156,0.013137753250568124,0.013185544335138622,0.014508354568864672,0.012804626922035107,0.013319631698812505,0.013047871273772394,0.01414194290425773,0.013350065683698292,0.014133228587980077,0.011483440317590942,0.011651240819261272,0.011948414909519093,0.01118758119838961,0.011189645735702627,0.012540749175396609,0.012436350655805391,0.014412481615712272,0.015785598180171796,0.016080507697899028,0.010660151679832948,0.012953461099786486,0.012693462592108512,0.014422519357492277,0.010069755474036244,0.011626451684990352,0.012146324229626143,0.013848533739204362,0.011002412901798484,0.011116086915153646,0.01284227555234377,0.015064666856812617,0.011359558818255466,0.01142366346755238,0.013143744642782978,0.011345615558534845,0.015225368216668004,0.01017418791046295,0.011879483944478778,0.010370303900709752,0.010094067303935538,0.010126730260360086,0.014752563281781041,0.011154697906983832,0.012623806469410245,0.01513383565827614,0.014225116923191256,0.012280766828437024,0.012050238813560835,0.0108511949870692,0.010451627278375083,0.011753403936879396,0.010995998131695196,0.010963156955145367,0.010226062188927349,0.013837882991700858,0.012006158438636874,0.011932224983384422,0.011220930803395425,0.010060990751350819,0.01554110895349766,0.014045973249088602,0.012065454011476517,0.012191563579164576,0.011202955649435842,0.015485769829895463,0.012629785778697769,0.013858938446087352,0.013763275641608053,0.011172855987779801,0.012544817998473153,0.014901117320533622,0.014432401588141337,0.011986276749671869,0.010909276160844996,0.015329417404494849,0.5567776692185834,0.015631665239072064,0.013267193519134477,0.010025411700694816,0.013315506237990783,0.012384081280149676,0.0133966179345256,0.011363922346717103,0.011283087800834962,0.010019808617217634,0.011611667397342222,0.012139324953009113,0.01248881921152001,0.011190076662579138,1.8705634238993913,0.01223178262613586,0.011004202288339444,0.013222394609050312,0.010038813726100047,0.012488918575701294,0.23488644971358896,0.011360388611606934,0.01572756910203356,0.013467220589514776,0.016138583326505477,0.01639863608240399,0.016099670470885855,0.010901293047830236,0.013762956748101154,0.015237085896993864,0.011897116221837629,0.010840981596325829,0.01369020862657502,0.010012591091887115,0.015928219409387066,0.1156857718816888,0.012705460507598193,0.015277507276447711,0.01157844499418631,0.011242418439174392,0.012162561814963493,0.01331290793308305,0.011282530710818106,0.010030287455504239,0.01237400124444789,0.014245322640361938,0.010938518282803953,0.013061548457640019,0.01157246758165473,0.010015105948205401,0.013934595673411383],\"y\":[0.012504163907451253,0.004109836855096014,0.018366111701973574,0.005743540090569181,0.023963864864201646,0.0060016454959565015,0.018055264583709683,0.008768748731875678,0.030505450426646437,0.0010437884757311673,0.03618509265390722,0.03489522672392334,0.036068325986571656,0.015774000717953682,0.029679680131638932,0.012771599364098617,0.034111140096811016,0.02127926719688173,0.017058447436660705,0.018873340289901522,0.021494258601506576,0.03506227912338206,0.032997783708697194,0.01214956287333056,0.034651425762043976,0.026207748323845544,0.02362250918066302,0.03325622913865527,0.025777823485998348,0.016256699598882887,0.01806096250365093,0.03359191142861501,0.03463922389670268,0.030946961741103337,0.012405099699663864,0.03596979912909008,0.026123413311571256,0.027910893495385104,0.0006781862531967909,0.012431177912004118,0.007099017384731691,0.03492969072256762,0.03484428212451692,0.02618820304260621,0.03247919607042977,0.03410254918092994,0.0010795802424542486,0.038005579747466385,0.026928095394171403,0.03556347088163237,0.000800163657727926,0.035836361224265506,0.03565934331779115,0.03675816895096173,0.035453603926000506,0.03047254719652446,0.020854497354497088,0.029890901165447428,0.035499424745314645,0.03529367309034276,0.03658165829425718,0.036369808493701,0.03756445862513989,0.03166704236594583,0.03761925609312759,0.03778671094789794,0.03786450076589019,0.03419841269841149,0.03584121632920499,0.028270664017818917,0.034987813742342555,0.037840731376128284,0.037948724294698644,0.03709337966586056,0.037956385438474315,0.033750526759375205,0.0348111882576682,0.0367743585798777,0.03622324898494186,0.03801916512261937,0.016224808638630968,0.03793744662728932,0.03782474241745055,0.03665154504935238,0.038052904478735314,0.010674439293908534,0.032549640242854665,0.0378042528712552,0.034735541151890675,0.03842878993616311,0.03660622367596529,0.03812269870255395,0.03842607977310756,0.036406922454329624,0.038078550135227776,0.03343402631455642,0.02415298541573244,0.03805741732943445,0.031693343545217786,0.035579042892147535,0.038290547093959106,0.03798823960918222,0.0368998454839151,0.038060269076491855,0.03797499314376549,0.035713563301425735,0.03696907225689247,0.033607172400260406,0.037118001904136395,0.03333731329306444,0.020878501974371928,0.03817550953517947,0.037856032481821206,0.03842321130353019,0.03636745619257076,0.03760188808397687,0.021484558425139723,0.03464166649944043,0.036650326535070415,0.03867931335103537,0.03761178893058241,0.038563845466077704,0.03868076375092693,0.03892545435086383,0.03665493526155005,0.038381497535099014,0.005125628488038932,0.03499428535753739,0.03815113701986733,0.039110390927920353,0.03697094629395372,0.03889640398932294,0.03914100986182607,0.03733904574612393,0.031105312856049405,0.036596181245358225,0.03771300476926127,0.038757756462137805,0.03484205022552995,0.039082908023909554,0.03680457728814098,0.038921498917494,0.03899501334456964,0.03940663371215292,0.03983604461122223,0.03985436245950224,0.03982814377799501,0.039807916217944384,0.03984138243956897,0.03996084477710982,0.04007057349324386,0.040245304873832814,0.039970803595117434,0.0398705331362292,0.03818694439427541,0.04004658448105421,0.039816713378237445,0.0401526699175231,0.040239735159876965,0.04019326885129516,0.04023502386860854,0.040275834620966025,0.04018507370171795,0.03995613125617204,0.03782220059442851,0.03822262579236736,0.04019338367926512,0.0402826719019287,0.04023432152277346,0.04027060493158126,0.0403549566663754,0.04019946621716398,0.03842505412522138,0.04026148669890634,0.03834711268971561,0.037750023968943947,0.040367116167999664,0.04032144919586853,0.03849897992628571,0.04041745318251716,0.03741934171242927,0.040373189787221306,0.03855315197202959,0.038620498018937445,0.040294764513473684,0.03876647781367395,0.037545326947559236,0.04022885660327583,0.03870241384000168,0.0401390399489839,0.03789017429324915,0.040488718988085384,0.015161964294075786,0.03863581250264628,0.0405380961299616,0.03893919245836516,0.009034533118393325,0.03914964202658972,0.040305320882858334,0.03922163247468621,0.036958227145330834,0.004265558075081886,0.04022696584369435,0.04039933265997169,0.03934182837343248,0.04039143405641378,0.03942839639952852,0.03826632508132573,0.040267370796235824,0.039382495312118855,0.03936292216001305,0.0401387590106497,0.03939029135088855,0.04038464471334109,0.03828487370038024,0.0403987295344213,0.03937903932467639,0.03951761215793941,0.040396832085832036,0.038183130544907545,0.03879098299431096,0.018330820496012135,0.040301874928927936,0.03953236810948438,0.026964640789124122,0.03947066535561972,0.04028483914050567,0.039419858995711064,0.04036612396515326,0.03850655299812349,0.039228945790048306,0.04014151042258779,0.03946130743349319,0.04028273210300026,0.0402060671531791,0.03857866273352862,0.039441632831433496,0.040257821122547936,0.03773857573183179,0.039306139171498146,0.038429647244015694,0.04036076941428671,0.027385397226736764,0.03933124747768531,0.039587156658794434,0.027417743039529183,0.04028763849033409,0.038688318985409746,0.039546321380075036,0.040360939983989506,0.03864848594304821,0.039459921694012384,0.0056991284222637035,0.040272281642907956,0.037850477260716144,0.03960896505439125,0.015594278222597227,0.038528227613561186,0.03964004998918458,0.03863354827345424,0.028575465387727716,0.03964212358165024,0.03417094874659025,0.037692213102873386,0.04037746963747678,0.03891140966383127,0.04027406091902364,0.03926768072027091,0.040278641774636983,0.03867352624432128,0.039644393385015714,0.03790910641542608,0.03955510516235205,0.03878070198908646,0.03705849871905361,0.03966701338024432,0.040294675326700786,0.035868030332420135,0.022811180453826557,0.03956511526275405,0.04034562215577672,0.03788880416145347,0.0396291402172131,0.0402670887430671,0.03843597393070493,0.039042583339463505,0.04021295348686695,0.03747651935241362,0.039625930608230185,0.038628544895505185,0.03958354236483044,0.004267093202407151,0.040294849240907586],\"type\":\"scatter\",\"xaxis\":\"x2\",\"yaxis\":\"y2\"},{\"marker\":{\"color\":[0,1,2,3,4,5,6,7,8,9,10,11,12,13,14,15,16,17,18,19,20,21,22,23,24,25,26,27,28,29,30,31,32,33,34,35,36,37,38,39,40,41,42,43,44,45,46,47,48,49,50,51,52,53,54,55,56,57,58,59,60,61,62,63,64,65,66,67,68,69,70,71,72,73,74,75,76,77,78,79,80,81,82,83,84,85,86,87,88,89,90,91,92,93,94,95,96,97,98,99,100,101,102,103,104,105,106,107,108,109,110,111,112,113,114,115,116,117,118,119,120,121,122,123,124,125,126,127,128,129,130,131,132,133,134,135,136,137,138,139,140,141,142,143,144,145,146,147,148,149,150,151,152,153,154,155,156,157,158,159,160,161,162,163,164,165,166,167,168,169,170,171,172,173,174,175,176,177,178,179,180,181,182,183,184,185,186,187,188,189,190,191,192,193,194,195,196,197,198,199,200,201,202,203,204,205,206,207,208,209,210,211,212,213,214,215,216,217,218,219,220,221,222,223,224,225,226,227,228,229,230,231,232,233,234,235,236,237,238,239,240,241,242,243,244,245,246,247,248,249,250,251,252,253,254,255,256,257,258,259,260,261,262,263,264,265,266,267,268,269,270,271,272,273,274,275,276,277,278,279,280,281,282,283,284,285,286,287,288,289,290,291,292],\"colorbar\":{\"title\":{\"text\":\"Trial\"},\"x\":1.0,\"xpad\":40},\"colorscale\":[[0.0,\"rgb(247,251,255)\"],[0.125,\"rgb(222,235,247)\"],[0.25,\"rgb(198,219,239)\"],[0.375,\"rgb(158,202,225)\"],[0.5,\"rgb(107,174,214)\"],[0.625,\"rgb(66,146,198)\"],[0.75,\"rgb(33,113,181)\"],[0.875,\"rgb(8,81,156)\"],[1.0,\"rgb(8,48,107)\"]],\"line\":{\"color\":\"Grey\",\"width\":0.5},\"showscale\":false},\"mode\":\"markers\",\"name\":\"Feasible Trial\",\"showlegend\":false,\"x\":[0.02953751911760641,0.057627549016782034,0.3712382128312589,0.020769885667785783,0.03279372330312549,0.02218535294281642,0.7183314065654812,0.11178164064369422,0.10036183270505158,1.854278571043223,0.2222365335807048,0.20008933000260087,0.30368908107518716,0.37800132757806687,0.9212551848362057,0.23365807973389716,0.5080703252052172,0.19772383801834623,0.01090577588533454,0.0665912418842886,1.3699021124985264,0.24660811334780106,0.2613050754744632,0.13728910688735776,0.545584195358109,0.35751492055028256,0.08529473482910743,0.15488557126834174,1.0364784532839277,0.48975474772076055,0.26498754564467214,0.17323131569152095,0.305038479560487,0.13566479090575814,0.04524569795196544,0.21292721392670363,0.07217588047717659,0.41107196629330867,0.6933498514843909,0.04640933645524042,0.12624443997377588,0.21432581323017788,0.2234824352522707,0.29430962467667726,0.10229610076273611,0.18172784055847557,0.3440866781451237,0.21965041916263048,0.621760651368788,0.43664424103035315,0.8582355830628533,0.37473442818573127,0.434671562552025,0.31963014562506975,0.16209005921445033,0.32200142048779246,0.5719948781321562,0.20671265952376722,0.27447008531535616,0.12010358414461597,0.362309095654508,0.3742567331714062,0.25032392237909873,0.4808233225989637,0.2533042589541799,0.24992615334151,0.24137948244567886,0.1616049950675801,0.3113287640860456,0.25883946804811586,0.1866730738898744,0.24559391790784443,0.2411622097259442,0.149119864362676,0.10859126167042117,0.08697370703838703,0.11377860864260066,0.23727377071703165,0.17872343800952353,0.09057131025972073,0.05683212952399138,0.08962273130275482,0.0903657101638753,0.0860629734345398,0.06492174436474968,0.06577187307133166,0.027636305690802596,0.049417821913517054,0.09921481809499733,0.037735788936811704,0.013467202099718191,0.07650877732549716,0.03643507500456472,0.03834685607174996,0.07601131943364434,0.07419475596200267,0.03699420204076617,0.026801724761270455,0.02279622537908571,0.017010253963518428,0.027943707974345824,0.025529001790488358,0.027894682113042607,0.032546489629383835,0.033019097653734605,0.024889906514271646,0.020478338045853924,0.03163524042358223,0.0407750048881667,0.05646888818909653,0.019626545765766924,0.033405265896837705,0.05185807336554823,0.043617192590416194,0.033704052922926005,0.04271968018418149,0.06410877336631553,0.07396440836977664,0.0358791379412236,0.045368832203147566,0.048691797985758,0.029905882909035196,0.029241946424280553,0.030215287609990916,0.029361964618771757,0.042714952682393025,0.04286914055212841,0.023683396431673984,0.03019883685670445,0.017963357557926767,0.01625902995043192,0.03967872973905492,0.037766230521878816,0.03937380210250354,0.029450326137774308,0.03572912203685199,0.018167036130227552,0.04507176972894226,0.044162384972692745,0.054559955434299486,0.05273951337476926,0.0454631498246905,0.04746804277817975,0.010596286208435174,0.010489393900309257,0.010512286592215071,0.010443820109754833,0.010202463411677302,0.01083485468616563,0.011196501891638363,0.010416264761087916,0.010003985506756132,0.010088227639420447,0.010467375450483912,0.011315933079635543,0.010163078331097721,0.010090221806523867,0.010040185287412006,0.010029872554419285,0.01004689306075029,0.010251322890474144,0.01000381688984726,0.012206027078545609,0.012368860002967207,0.012643452600785154,0.012343917377956664,0.014576590884097074,0.014725366016577424,0.014731357003951687,0.014166247259139354,0.015186637581762091,0.014198204186887468,0.014743137164466333,0.014451539611280272,0.014529525124004463,0.014780260638331181,0.013401140209931436,0.013255326018142354,0.013456445833334123,0.012123204882282667,0.015719379453492423,0.012155351986256597,0.013314764719311265,0.01205051406909128,0.013924583137270444,0.01392372198750058,0.011695365608801743,0.01545347234006315,0.015776602900180122,0.01853744585983043,0.012905675330751919,0.014527775181181424,0.016607149951120417,0.0144510520860809,0.011970466971276433,0.01342970013112215,0.015388515019469981,0.011958382033737568,0.02134409879242873,0.02052407295145918,0.017079267634559477,0.013760877050959509,0.011857429554552688,0.011798286788758744,0.011621673542850243,0.012890935351812212,0.01265000185460633,0.01180947683847394,0.016440029921509593,0.016427691810334776,0.018810490299926402,0.013190341197886491,0.015430578959167138,0.011484583340615587,0.011665004462879889,0.013044025130826824,0.013514789502446866,0.012838813105056801,0.011582288229497051,0.011245394284907373,0.01163566248605031,0.017006062857501534,0.01385778248657816,0.013731092353271065,1.8840094990692813,0.012832205622233259,0.011464026474624049,0.011352771629487127,0.012967868372036243,0.014146759154782754,0.016632477448516984,0.012709525687469494,0.011376397441142093,0.012510586221377186,0.01446626973411108,0.012919166923027654,0.01556904948440445,0.01250463257131783,0.012717747496014798,0.018203211921862077,0.01418267194747161,0.011678440622786794,0.01188715762823452,0.013209896893690197,0.01540082389723616,1.4399259418217316,0.011642940535023329,0.011422417752390689,0.014096146415499328,0.011469098035623826,0.011315695485878394,0.012217343283585558,0.011604208616049941,0.013290598026824267,0.012980907878472607,0.011370319935943594,0.0125393604367637,0.01369158167299505,0.014922898216236756,0.010966579145144009,0.0112671966243103,0.012894545553227544,0.013822029012867096,0.015635664751363274,0.011124755552542694,0.011109849897563303,0.012139078034575349,0.011078195089850229,0.012287607023518013,0.012174513041889448,0.010582653722839591,0.012305467943713497,0.010081077836840436,0.017649122929211503,0.011249842767382043,0.013420732238014293,0.015263814313429238,0.02023697090114056,0.015612167062109562,0.014925651109014153,0.013497894661126041,0.01660422079971325,0.01406564431593671,0.017235028793873258,0.013510212012243387,0.014800299635120952,0.02259895086870665,0.012516916984024908,0.011280379274100319,0.015575920580830372,0.018648448946011364,0.013393374022400678,0.012213209807098],\"y\":[0.012504163907451253,0.004109836855096014,0.018366111701973574,0.005743540090569181,0.023963864864201646,0.0060016454959565015,0.018055264583709683,0.008768748731875678,0.030505450426646437,0.0010437884757311673,0.03618509265390722,0.03489522672392334,0.036068325986571656,0.015774000717953682,0.029679680131638932,0.012771599364098617,0.034111140096811016,0.02127926719688173,0.017058447436660705,0.018873340289901522,0.021494258601506576,0.03506227912338206,0.032997783708697194,0.01214956287333056,0.034651425762043976,0.026207748323845544,0.02362250918066302,0.03325622913865527,0.025777823485998348,0.016256699598882887,0.01806096250365093,0.03359191142861501,0.03463922389670268,0.030946961741103337,0.012405099699663864,0.03596979912909008,0.026123413311571256,0.027910893495385104,0.0006781862531967909,0.012431177912004118,0.007099017384731691,0.03492969072256762,0.03484428212451692,0.02618820304260621,0.03247919607042977,0.03410254918092994,0.0010795802424542486,0.038005579747466385,0.026928095394171403,0.03556347088163237,0.000800163657727926,0.035836361224265506,0.03565934331779115,0.03675816895096173,0.035453603926000506,0.03047254719652446,0.020854497354497088,0.029890901165447428,0.035499424745314645,0.03529367309034276,0.03658165829425718,0.036369808493701,0.03756445862513989,0.03166704236594583,0.03761925609312759,0.03778671094789794,0.03786450076589019,0.03419841269841149,0.03584121632920499,0.028270664017818917,0.034987813742342555,0.037840731376128284,0.037948724294698644,0.03709337966586056,0.037956385438474315,0.033750526759375205,0.0348111882576682,0.0367743585798777,0.03622324898494186,0.03801916512261937,0.016224808638630968,0.03793744662728932,0.03782474241745055,0.03665154504935238,0.038052904478735314,0.010674439293908534,0.032549640242854665,0.0378042528712552,0.034735541151890675,0.03842878993616311,0.03660622367596529,0.03812269870255395,0.03842607977310756,0.036406922454329624,0.038078550135227776,0.03343402631455642,0.02415298541573244,0.03805741732943445,0.031693343545217786,0.035579042892147535,0.038290547093959106,0.03798823960918222,0.0368998454839151,0.038060269076491855,0.03797499314376549,0.035713563301425735,0.03696907225689247,0.033607172400260406,0.037118001904136395,0.03333731329306444,0.020878501974371928,0.03817550953517947,0.037856032481821206,0.03842321130353019,0.03636745619257076,0.03760188808397687,0.021484558425139723,0.03464166649944043,0.036650326535070415,0.03867931335103537,0.03761178893058241,0.038563845466077704,0.03868076375092693,0.03892545435086383,0.03665493526155005,0.038381497535099014,0.005125628488038932,0.03499428535753739,0.03815113701986733,0.039110390927920353,0.03697094629395372,0.03889640398932294,0.03914100986182607,0.03733904574612393,0.031105312856049405,0.036596181245358225,0.03771300476926127,0.038757756462137805,0.03484205022552995,0.039082908023909554,0.03680457728814098,0.038921498917494,0.03899501334456964,0.03940663371215292,0.03983604461122223,0.03985436245950224,0.03982814377799501,0.039807916217944384,0.03984138243956897,0.03996084477710982,0.04007057349324386,0.040245304873832814,0.039970803595117434,0.0398705331362292,0.03818694439427541,0.04004658448105421,0.039816713378237445,0.0401526699175231,0.040239735159876965,0.04019326885129516,0.04023502386860854,0.040275834620966025,0.04018507370171795,0.03995613125617204,0.03782220059442851,0.03822262579236736,0.04019338367926512,0.0402826719019287,0.04023432152277346,0.04027060493158126,0.0403549566663754,0.04019946621716398,0.03842505412522138,0.04026148669890634,0.03834711268971561,0.037750023968943947,0.040367116167999664,0.04032144919586853,0.03849897992628571,0.04041745318251716,0.03741934171242927,0.040373189787221306,0.03855315197202959,0.038620498018937445,0.040294764513473684,0.03876647781367395,0.037545326947559236,0.04022885660327583,0.03870241384000168,0.0401390399489839,0.03789017429324915,0.040488718988085384,0.015161964294075786,0.03863581250264628,0.0405380961299616,0.03893919245836516,0.009034533118393325,0.03914964202658972,0.040305320882858334,0.03922163247468621,0.036958227145330834,0.004265558075081886,0.04022696584369435,0.04039933265997169,0.03934182837343248,0.04039143405641378,0.03942839639952852,0.03826632508132573,0.040267370796235824,0.039382495312118855,0.03936292216001305,0.0401387590106497,0.03939029135088855,0.04038464471334109,0.03828487370038024,0.0403987295344213,0.03937903932467639,0.03951761215793941,0.040396832085832036,0.038183130544907545,0.03879098299431096,0.018330820496012135,0.040301874928927936,0.03953236810948438,0.026964640789124122,0.03947066535561972,0.04028483914050567,0.039419858995711064,0.04036612396515326,0.03850655299812349,0.039228945790048306,0.04014151042258779,0.03946130743349319,0.04028273210300026,0.0402060671531791,0.03857866273352862,0.039441632831433496,0.040257821122547936,0.03773857573183179,0.039306139171498146,0.038429647244015694,0.04036076941428671,0.027385397226736764,0.03933124747768531,0.039587156658794434,0.027417743039529183,0.04028763849033409,0.038688318985409746,0.039546321380075036,0.040360939983989506,0.03864848594304821,0.039459921694012384,0.0056991284222637035,0.040272281642907956,0.037850477260716144,0.03960896505439125,0.015594278222597227,0.038528227613561186,0.03964004998918458,0.03863354827345424,0.028575465387727716,0.03964212358165024,0.03417094874659025,0.037692213102873386,0.04037746963747678,0.03891140966383127,0.04027406091902364,0.03926768072027091,0.040278641774636983,0.03867352624432128,0.039644393385015714,0.03790910641542608,0.03955510516235205,0.03878070198908646,0.03705849871905361,0.03966701338024432,0.040294675326700786,0.035868030332420135,0.022811180453826557,0.03956511526275405,0.04034562215577672,0.03788880416145347,0.0396291402172131,0.0402670887430671,0.03843597393070493,0.039042583339463505,0.04021295348686695,0.03747651935241362,0.039625930608230185,0.038628544895505185,0.03958354236483044,0.004267093202407151,0.040294849240907586],\"type\":\"scatter\",\"xaxis\":\"x3\",\"yaxis\":\"y3\"}],                        {\"template\":{\"data\":{\"histogram2dcontour\":[{\"type\":\"histogram2dcontour\",\"colorbar\":{\"outlinewidth\":0,\"ticks\":\"\"},\"colorscale\":[[0.0,\"#0d0887\"],[0.1111111111111111,\"#46039f\"],[0.2222222222222222,\"#7201a8\"],[0.3333333333333333,\"#9c179e\"],[0.4444444444444444,\"#bd3786\"],[0.5555555555555556,\"#d8576b\"],[0.6666666666666666,\"#ed7953\"],[0.7777777777777778,\"#fb9f3a\"],[0.8888888888888888,\"#fdca26\"],[1.0,\"#f0f921\"]]}],\"choropleth\":[{\"type\":\"choropleth\",\"colorbar\":{\"outlinewidth\":0,\"ticks\":\"\"}}],\"histogram2d\":[{\"type\":\"histogram2d\",\"colorbar\":{\"outlinewidth\":0,\"ticks\":\"\"},\"colorscale\":[[0.0,\"#0d0887\"],[0.1111111111111111,\"#46039f\"],[0.2222222222222222,\"#7201a8\"],[0.3333333333333333,\"#9c179e\"],[0.4444444444444444,\"#bd3786\"],[0.5555555555555556,\"#d8576b\"],[0.6666666666666666,\"#ed7953\"],[0.7777777777777778,\"#fb9f3a\"],[0.8888888888888888,\"#fdca26\"],[1.0,\"#f0f921\"]]}],\"heatmap\":[{\"type\":\"heatmap\",\"colorbar\":{\"outlinewidth\":0,\"ticks\":\"\"},\"colorscale\":[[0.0,\"#0d0887\"],[0.1111111111111111,\"#46039f\"],[0.2222222222222222,\"#7201a8\"],[0.3333333333333333,\"#9c179e\"],[0.4444444444444444,\"#bd3786\"],[0.5555555555555556,\"#d8576b\"],[0.6666666666666666,\"#ed7953\"],[0.7777777777777778,\"#fb9f3a\"],[0.8888888888888888,\"#fdca26\"],[1.0,\"#f0f921\"]]}],\"heatmapgl\":[{\"type\":\"heatmapgl\",\"colorbar\":{\"outlinewidth\":0,\"ticks\":\"\"},\"colorscale\":[[0.0,\"#0d0887\"],[0.1111111111111111,\"#46039f\"],[0.2222222222222222,\"#7201a8\"],[0.3333333333333333,\"#9c179e\"],[0.4444444444444444,\"#bd3786\"],[0.5555555555555556,\"#d8576b\"],[0.6666666666666666,\"#ed7953\"],[0.7777777777777778,\"#fb9f3a\"],[0.8888888888888888,\"#fdca26\"],[1.0,\"#f0f921\"]]}],\"contourcarpet\":[{\"type\":\"contourcarpet\",\"colorbar\":{\"outlinewidth\":0,\"ticks\":\"\"}}],\"contour\":[{\"type\":\"contour\",\"colorbar\":{\"outlinewidth\":0,\"ticks\":\"\"},\"colorscale\":[[0.0,\"#0d0887\"],[0.1111111111111111,\"#46039f\"],[0.2222222222222222,\"#7201a8\"],[0.3333333333333333,\"#9c179e\"],[0.4444444444444444,\"#bd3786\"],[0.5555555555555556,\"#d8576b\"],[0.6666666666666666,\"#ed7953\"],[0.7777777777777778,\"#fb9f3a\"],[0.8888888888888888,\"#fdca26\"],[1.0,\"#f0f921\"]]}],\"surface\":[{\"type\":\"surface\",\"colorbar\":{\"outlinewidth\":0,\"ticks\":\"\"},\"colorscale\":[[0.0,\"#0d0887\"],[0.1111111111111111,\"#46039f\"],[0.2222222222222222,\"#7201a8\"],[0.3333333333333333,\"#9c179e\"],[0.4444444444444444,\"#bd3786\"],[0.5555555555555556,\"#d8576b\"],[0.6666666666666666,\"#ed7953\"],[0.7777777777777778,\"#fb9f3a\"],[0.8888888888888888,\"#fdca26\"],[1.0,\"#f0f921\"]]}],\"mesh3d\":[{\"type\":\"mesh3d\",\"colorbar\":{\"outlinewidth\":0,\"ticks\":\"\"}}],\"scatter\":[{\"fillpattern\":{\"fillmode\":\"overlay\",\"size\":10,\"solidity\":0.2},\"type\":\"scatter\"}],\"parcoords\":[{\"type\":\"parcoords\",\"line\":{\"colorbar\":{\"outlinewidth\":0,\"ticks\":\"\"}}}],\"scatterpolargl\":[{\"type\":\"scatterpolargl\",\"marker\":{\"colorbar\":{\"outlinewidth\":0,\"ticks\":\"\"}}}],\"bar\":[{\"error_x\":{\"color\":\"#2a3f5f\"},\"error_y\":{\"color\":\"#2a3f5f\"},\"marker\":{\"line\":{\"color\":\"#E5ECF6\",\"width\":0.5},\"pattern\":{\"fillmode\":\"overlay\",\"size\":10,\"solidity\":0.2}},\"type\":\"bar\"}],\"scattergeo\":[{\"type\":\"scattergeo\",\"marker\":{\"colorbar\":{\"outlinewidth\":0,\"ticks\":\"\"}}}],\"scatterpolar\":[{\"type\":\"scatterpolar\",\"marker\":{\"colorbar\":{\"outlinewidth\":0,\"ticks\":\"\"}}}],\"histogram\":[{\"marker\":{\"pattern\":{\"fillmode\":\"overlay\",\"size\":10,\"solidity\":0.2}},\"type\":\"histogram\"}],\"scattergl\":[{\"type\":\"scattergl\",\"marker\":{\"colorbar\":{\"outlinewidth\":0,\"ticks\":\"\"}}}],\"scatter3d\":[{\"type\":\"scatter3d\",\"line\":{\"colorbar\":{\"outlinewidth\":0,\"ticks\":\"\"}},\"marker\":{\"colorbar\":{\"outlinewidth\":0,\"ticks\":\"\"}}}],\"scattermapbox\":[{\"type\":\"scattermapbox\",\"marker\":{\"colorbar\":{\"outlinewidth\":0,\"ticks\":\"\"}}}],\"scatterternary\":[{\"type\":\"scatterternary\",\"marker\":{\"colorbar\":{\"outlinewidth\":0,\"ticks\":\"\"}}}],\"scattercarpet\":[{\"type\":\"scattercarpet\",\"marker\":{\"colorbar\":{\"outlinewidth\":0,\"ticks\":\"\"}}}],\"carpet\":[{\"aaxis\":{\"endlinecolor\":\"#2a3f5f\",\"gridcolor\":\"white\",\"linecolor\":\"white\",\"minorgridcolor\":\"white\",\"startlinecolor\":\"#2a3f5f\"},\"baxis\":{\"endlinecolor\":\"#2a3f5f\",\"gridcolor\":\"white\",\"linecolor\":\"white\",\"minorgridcolor\":\"white\",\"startlinecolor\":\"#2a3f5f\"},\"type\":\"carpet\"}],\"table\":[{\"cells\":{\"fill\":{\"color\":\"#EBF0F8\"},\"line\":{\"color\":\"white\"}},\"header\":{\"fill\":{\"color\":\"#C8D4E3\"},\"line\":{\"color\":\"white\"}},\"type\":\"table\"}],\"barpolar\":[{\"marker\":{\"line\":{\"color\":\"#E5ECF6\",\"width\":0.5},\"pattern\":{\"fillmode\":\"overlay\",\"size\":10,\"solidity\":0.2}},\"type\":\"barpolar\"}],\"pie\":[{\"automargin\":true,\"type\":\"pie\"}]},\"layout\":{\"autotypenumbers\":\"strict\",\"colorway\":[\"#636efa\",\"#EF553B\",\"#00cc96\",\"#ab63fa\",\"#FFA15A\",\"#19d3f3\",\"#FF6692\",\"#B6E880\",\"#FF97FF\",\"#FECB52\"],\"font\":{\"color\":\"#2a3f5f\"},\"hovermode\":\"closest\",\"hoverlabel\":{\"align\":\"left\"},\"paper_bgcolor\":\"white\",\"plot_bgcolor\":\"#E5ECF6\",\"polar\":{\"bgcolor\":\"#E5ECF6\",\"angularaxis\":{\"gridcolor\":\"white\",\"linecolor\":\"white\",\"ticks\":\"\"},\"radialaxis\":{\"gridcolor\":\"white\",\"linecolor\":\"white\",\"ticks\":\"\"}},\"ternary\":{\"bgcolor\":\"#E5ECF6\",\"aaxis\":{\"gridcolor\":\"white\",\"linecolor\":\"white\",\"ticks\":\"\"},\"baxis\":{\"gridcolor\":\"white\",\"linecolor\":\"white\",\"ticks\":\"\"},\"caxis\":{\"gridcolor\":\"white\",\"linecolor\":\"white\",\"ticks\":\"\"}},\"coloraxis\":{\"colorbar\":{\"outlinewidth\":0,\"ticks\":\"\"}},\"colorscale\":{\"sequential\":[[0.0,\"#0d0887\"],[0.1111111111111111,\"#46039f\"],[0.2222222222222222,\"#7201a8\"],[0.3333333333333333,\"#9c179e\"],[0.4444444444444444,\"#bd3786\"],[0.5555555555555556,\"#d8576b\"],[0.6666666666666666,\"#ed7953\"],[0.7777777777777778,\"#fb9f3a\"],[0.8888888888888888,\"#fdca26\"],[1.0,\"#f0f921\"]],\"sequentialminus\":[[0.0,\"#0d0887\"],[0.1111111111111111,\"#46039f\"],[0.2222222222222222,\"#7201a8\"],[0.3333333333333333,\"#9c179e\"],[0.4444444444444444,\"#bd3786\"],[0.5555555555555556,\"#d8576b\"],[0.6666666666666666,\"#ed7953\"],[0.7777777777777778,\"#fb9f3a\"],[0.8888888888888888,\"#fdca26\"],[1.0,\"#f0f921\"]],\"diverging\":[[0,\"#8e0152\"],[0.1,\"#c51b7d\"],[0.2,\"#de77ae\"],[0.3,\"#f1b6da\"],[0.4,\"#fde0ef\"],[0.5,\"#f7f7f7\"],[0.6,\"#e6f5d0\"],[0.7,\"#b8e186\"],[0.8,\"#7fbc41\"],[0.9,\"#4d9221\"],[1,\"#276419\"]]},\"xaxis\":{\"gridcolor\":\"white\",\"linecolor\":\"white\",\"ticks\":\"\",\"title\":{\"standoff\":15},\"zerolinecolor\":\"white\",\"automargin\":true,\"zerolinewidth\":2},\"yaxis\":{\"gridcolor\":\"white\",\"linecolor\":\"white\",\"ticks\":\"\",\"title\":{\"standoff\":15},\"zerolinecolor\":\"white\",\"automargin\":true,\"zerolinewidth\":2},\"scene\":{\"xaxis\":{\"backgroundcolor\":\"#E5ECF6\",\"gridcolor\":\"white\",\"linecolor\":\"white\",\"showbackground\":true,\"ticks\":\"\",\"zerolinecolor\":\"white\",\"gridwidth\":2},\"yaxis\":{\"backgroundcolor\":\"#E5ECF6\",\"gridcolor\":\"white\",\"linecolor\":\"white\",\"showbackground\":true,\"ticks\":\"\",\"zerolinecolor\":\"white\",\"gridwidth\":2},\"zaxis\":{\"backgroundcolor\":\"#E5ECF6\",\"gridcolor\":\"white\",\"linecolor\":\"white\",\"showbackground\":true,\"ticks\":\"\",\"zerolinecolor\":\"white\",\"gridwidth\":2}},\"shapedefaults\":{\"line\":{\"color\":\"#2a3f5f\"}},\"annotationdefaults\":{\"arrowcolor\":\"#2a3f5f\",\"arrowhead\":0,\"arrowwidth\":1},\"geo\":{\"bgcolor\":\"white\",\"landcolor\":\"#E5ECF6\",\"subunitcolor\":\"white\",\"showland\":true,\"showlakes\":true,\"lakecolor\":\"white\"},\"title\":{\"x\":0.05},\"mapbox\":{\"style\":\"light\"}}},\"xaxis\":{\"anchor\":\"y\",\"domain\":[0.0,0.2888888888888889],\"title\":{\"text\":\"num_factors\"},\"type\":\"log\"},\"yaxis\":{\"anchor\":\"x\",\"domain\":[0.0,1.0],\"title\":{\"text\":\"Objective Value\"}},\"xaxis2\":{\"anchor\":\"y2\",\"domain\":[0.35555555555555557,0.6444444444444445],\"title\":{\"text\":\"scaling_items\"},\"type\":\"log\"},\"yaxis2\":{\"anchor\":\"x2\",\"domain\":[0.0,1.0],\"matches\":\"y\",\"showticklabels\":false},\"xaxis3\":{\"anchor\":\"y3\",\"domain\":[0.7111111111111111,1.0],\"title\":{\"text\":\"scaling_users\"},\"type\":\"log\"},\"yaxis3\":{\"anchor\":\"x3\",\"domain\":[0.0,1.0],\"matches\":\"y\",\"showticklabels\":false},\"title\":{\"text\":\"Slice Plot\"}},                        {\"responsive\": true}                    ).then(function(){\n",
       "                            \n",
       "var gd = document.getElementById('e42e4493-fc9d-43e4-932c-b5e1ab80d1ea');\n",
       "var x = new MutationObserver(function (mutations, observer) {{\n",
       "        var display = window.getComputedStyle(gd).display;\n",
       "        if (!display || display === 'none') {{\n",
       "            console.log([gd, 'removed!']);\n",
       "            Plotly.purge(gd);\n",
       "            observer.disconnect();\n",
       "        }}\n",
       "}});\n",
       "\n",
       "// Listen for the removal of the full notebook cells\n",
       "var notebookContainer = gd.closest('#notebook-container');\n",
       "if (notebookContainer) {{\n",
       "    x.observe(notebookContainer, {childList: true});\n",
       "}}\n",
       "\n",
       "// Listen for the clearing of the current output cell\n",
       "var outputEl = gd.closest('.output');\n",
       "if (outputEl) {{\n",
       "    x.observe(outputEl, {childList: true});\n",
       "}}\n",
       "\n",
       "                        })                };                });            </script>        </div>"
      ]
     },
     "metadata": {},
     "output_type": "display_data"
    }
   ],
   "source": [
    "if not config['tune_parameters']:\n",
    "    optuna_study = optuna.load_study(study_name=f'hyperparameters_tuning_{config[\"model\"]}', storage=f'sqlite:///{config[\"database_path\"]}')\n",
    "    \n",
    "fig = optuna.visualization.plot_slice(optuna_study)\n",
    "fig.show()"
   ]
  },
  {
   "cell_type": "code",
   "execution_count": 15,
   "id": "600d01a9",
   "metadata": {
    "execution": {
     "iopub.execute_input": "2024-12-04T18:21:13.644613Z",
     "iopub.status.busy": "2024-12-04T18:21:13.644120Z",
     "iopub.status.idle": "2024-12-04T18:21:18.928910Z",
     "shell.execute_reply": "2024-12-04T18:21:18.927833Z"
    },
    "papermill": {
     "duration": 5.319327,
     "end_time": "2024-12-04T18:21:18.931388",
     "exception": false,
     "start_time": "2024-12-04T18:21:13.612061",
     "status": "completed"
    },
    "tags": []
   },
   "outputs": [
    {
     "data": {
      "text/html": [
       "<div>                            <div id=\"54413b80-c325-4f88-af0e-2ad779c2f3a9\" class=\"plotly-graph-div\" style=\"height:525px; width:100%;\"></div>            <script type=\"text/javascript\">                require([\"plotly\"], function(Plotly) {                    window.PLOTLYENV=window.PLOTLYENV || {};                                    if (document.getElementById(\"54413b80-c325-4f88-af0e-2ad779c2f3a9\")) {                    Plotly.newPlot(                        \"54413b80-c325-4f88-af0e-2ad779c2f3a9\",                        [{\"cliponaxis\":false,\"hovertemplate\":[\"scaling_users (FloatDistribution): 0.07436262774004185\\u003cextra\\u003e\\u003c\\u002fextra\\u003e\",\"scaling_items (FloatDistribution): 0.40706744065774164\\u003cextra\\u003e\\u003c\\u002fextra\\u003e\",\"num_factors (IntDistribution): 0.5185699316022165\\u003cextra\\u003e\\u003c\\u002fextra\\u003e\"],\"name\":\"Objective Value\",\"orientation\":\"h\",\"text\":[\"0.07\",\"0.41\",\"0.52\"],\"textposition\":\"outside\",\"x\":[0.07436262774004185,0.40706744065774164,0.5185699316022165],\"y\":[\"scaling_users\",\"scaling_items\",\"num_factors\"],\"type\":\"bar\"}],                        {\"title\":{\"text\":\"Hyperparameter Importances\"},\"xaxis\":{\"title\":{\"text\":\"Hyperparameter Importance\"}},\"yaxis\":{\"title\":{\"text\":\"Hyperparameter\"}},\"template\":{\"data\":{\"histogram2dcontour\":[{\"type\":\"histogram2dcontour\",\"colorbar\":{\"outlinewidth\":0,\"ticks\":\"\"},\"colorscale\":[[0.0,\"#0d0887\"],[0.1111111111111111,\"#46039f\"],[0.2222222222222222,\"#7201a8\"],[0.3333333333333333,\"#9c179e\"],[0.4444444444444444,\"#bd3786\"],[0.5555555555555556,\"#d8576b\"],[0.6666666666666666,\"#ed7953\"],[0.7777777777777778,\"#fb9f3a\"],[0.8888888888888888,\"#fdca26\"],[1.0,\"#f0f921\"]]}],\"choropleth\":[{\"type\":\"choropleth\",\"colorbar\":{\"outlinewidth\":0,\"ticks\":\"\"}}],\"histogram2d\":[{\"type\":\"histogram2d\",\"colorbar\":{\"outlinewidth\":0,\"ticks\":\"\"},\"colorscale\":[[0.0,\"#0d0887\"],[0.1111111111111111,\"#46039f\"],[0.2222222222222222,\"#7201a8\"],[0.3333333333333333,\"#9c179e\"],[0.4444444444444444,\"#bd3786\"],[0.5555555555555556,\"#d8576b\"],[0.6666666666666666,\"#ed7953\"],[0.7777777777777778,\"#fb9f3a\"],[0.8888888888888888,\"#fdca26\"],[1.0,\"#f0f921\"]]}],\"heatmap\":[{\"type\":\"heatmap\",\"colorbar\":{\"outlinewidth\":0,\"ticks\":\"\"},\"colorscale\":[[0.0,\"#0d0887\"],[0.1111111111111111,\"#46039f\"],[0.2222222222222222,\"#7201a8\"],[0.3333333333333333,\"#9c179e\"],[0.4444444444444444,\"#bd3786\"],[0.5555555555555556,\"#d8576b\"],[0.6666666666666666,\"#ed7953\"],[0.7777777777777778,\"#fb9f3a\"],[0.8888888888888888,\"#fdca26\"],[1.0,\"#f0f921\"]]}],\"heatmapgl\":[{\"type\":\"heatmapgl\",\"colorbar\":{\"outlinewidth\":0,\"ticks\":\"\"},\"colorscale\":[[0.0,\"#0d0887\"],[0.1111111111111111,\"#46039f\"],[0.2222222222222222,\"#7201a8\"],[0.3333333333333333,\"#9c179e\"],[0.4444444444444444,\"#bd3786\"],[0.5555555555555556,\"#d8576b\"],[0.6666666666666666,\"#ed7953\"],[0.7777777777777778,\"#fb9f3a\"],[0.8888888888888888,\"#fdca26\"],[1.0,\"#f0f921\"]]}],\"contourcarpet\":[{\"type\":\"contourcarpet\",\"colorbar\":{\"outlinewidth\":0,\"ticks\":\"\"}}],\"contour\":[{\"type\":\"contour\",\"colorbar\":{\"outlinewidth\":0,\"ticks\":\"\"},\"colorscale\":[[0.0,\"#0d0887\"],[0.1111111111111111,\"#46039f\"],[0.2222222222222222,\"#7201a8\"],[0.3333333333333333,\"#9c179e\"],[0.4444444444444444,\"#bd3786\"],[0.5555555555555556,\"#d8576b\"],[0.6666666666666666,\"#ed7953\"],[0.7777777777777778,\"#fb9f3a\"],[0.8888888888888888,\"#fdca26\"],[1.0,\"#f0f921\"]]}],\"surface\":[{\"type\":\"surface\",\"colorbar\":{\"outlinewidth\":0,\"ticks\":\"\"},\"colorscale\":[[0.0,\"#0d0887\"],[0.1111111111111111,\"#46039f\"],[0.2222222222222222,\"#7201a8\"],[0.3333333333333333,\"#9c179e\"],[0.4444444444444444,\"#bd3786\"],[0.5555555555555556,\"#d8576b\"],[0.6666666666666666,\"#ed7953\"],[0.7777777777777778,\"#fb9f3a\"],[0.8888888888888888,\"#fdca26\"],[1.0,\"#f0f921\"]]}],\"mesh3d\":[{\"type\":\"mesh3d\",\"colorbar\":{\"outlinewidth\":0,\"ticks\":\"\"}}],\"scatter\":[{\"fillpattern\":{\"fillmode\":\"overlay\",\"size\":10,\"solidity\":0.2},\"type\":\"scatter\"}],\"parcoords\":[{\"type\":\"parcoords\",\"line\":{\"colorbar\":{\"outlinewidth\":0,\"ticks\":\"\"}}}],\"scatterpolargl\":[{\"type\":\"scatterpolargl\",\"marker\":{\"colorbar\":{\"outlinewidth\":0,\"ticks\":\"\"}}}],\"bar\":[{\"error_x\":{\"color\":\"#2a3f5f\"},\"error_y\":{\"color\":\"#2a3f5f\"},\"marker\":{\"line\":{\"color\":\"#E5ECF6\",\"width\":0.5},\"pattern\":{\"fillmode\":\"overlay\",\"size\":10,\"solidity\":0.2}},\"type\":\"bar\"}],\"scattergeo\":[{\"type\":\"scattergeo\",\"marker\":{\"colorbar\":{\"outlinewidth\":0,\"ticks\":\"\"}}}],\"scatterpolar\":[{\"type\":\"scatterpolar\",\"marker\":{\"colorbar\":{\"outlinewidth\":0,\"ticks\":\"\"}}}],\"histogram\":[{\"marker\":{\"pattern\":{\"fillmode\":\"overlay\",\"size\":10,\"solidity\":0.2}},\"type\":\"histogram\"}],\"scattergl\":[{\"type\":\"scattergl\",\"marker\":{\"colorbar\":{\"outlinewidth\":0,\"ticks\":\"\"}}}],\"scatter3d\":[{\"type\":\"scatter3d\",\"line\":{\"colorbar\":{\"outlinewidth\":0,\"ticks\":\"\"}},\"marker\":{\"colorbar\":{\"outlinewidth\":0,\"ticks\":\"\"}}}],\"scattermapbox\":[{\"type\":\"scattermapbox\",\"marker\":{\"colorbar\":{\"outlinewidth\":0,\"ticks\":\"\"}}}],\"scatterternary\":[{\"type\":\"scatterternary\",\"marker\":{\"colorbar\":{\"outlinewidth\":0,\"ticks\":\"\"}}}],\"scattercarpet\":[{\"type\":\"scattercarpet\",\"marker\":{\"colorbar\":{\"outlinewidth\":0,\"ticks\":\"\"}}}],\"carpet\":[{\"aaxis\":{\"endlinecolor\":\"#2a3f5f\",\"gridcolor\":\"white\",\"linecolor\":\"white\",\"minorgridcolor\":\"white\",\"startlinecolor\":\"#2a3f5f\"},\"baxis\":{\"endlinecolor\":\"#2a3f5f\",\"gridcolor\":\"white\",\"linecolor\":\"white\",\"minorgridcolor\":\"white\",\"startlinecolor\":\"#2a3f5f\"},\"type\":\"carpet\"}],\"table\":[{\"cells\":{\"fill\":{\"color\":\"#EBF0F8\"},\"line\":{\"color\":\"white\"}},\"header\":{\"fill\":{\"color\":\"#C8D4E3\"},\"line\":{\"color\":\"white\"}},\"type\":\"table\"}],\"barpolar\":[{\"marker\":{\"line\":{\"color\":\"#E5ECF6\",\"width\":0.5},\"pattern\":{\"fillmode\":\"overlay\",\"size\":10,\"solidity\":0.2}},\"type\":\"barpolar\"}],\"pie\":[{\"automargin\":true,\"type\":\"pie\"}]},\"layout\":{\"autotypenumbers\":\"strict\",\"colorway\":[\"#636efa\",\"#EF553B\",\"#00cc96\",\"#ab63fa\",\"#FFA15A\",\"#19d3f3\",\"#FF6692\",\"#B6E880\",\"#FF97FF\",\"#FECB52\"],\"font\":{\"color\":\"#2a3f5f\"},\"hovermode\":\"closest\",\"hoverlabel\":{\"align\":\"left\"},\"paper_bgcolor\":\"white\",\"plot_bgcolor\":\"#E5ECF6\",\"polar\":{\"bgcolor\":\"#E5ECF6\",\"angularaxis\":{\"gridcolor\":\"white\",\"linecolor\":\"white\",\"ticks\":\"\"},\"radialaxis\":{\"gridcolor\":\"white\",\"linecolor\":\"white\",\"ticks\":\"\"}},\"ternary\":{\"bgcolor\":\"#E5ECF6\",\"aaxis\":{\"gridcolor\":\"white\",\"linecolor\":\"white\",\"ticks\":\"\"},\"baxis\":{\"gridcolor\":\"white\",\"linecolor\":\"white\",\"ticks\":\"\"},\"caxis\":{\"gridcolor\":\"white\",\"linecolor\":\"white\",\"ticks\":\"\"}},\"coloraxis\":{\"colorbar\":{\"outlinewidth\":0,\"ticks\":\"\"}},\"colorscale\":{\"sequential\":[[0.0,\"#0d0887\"],[0.1111111111111111,\"#46039f\"],[0.2222222222222222,\"#7201a8\"],[0.3333333333333333,\"#9c179e\"],[0.4444444444444444,\"#bd3786\"],[0.5555555555555556,\"#d8576b\"],[0.6666666666666666,\"#ed7953\"],[0.7777777777777778,\"#fb9f3a\"],[0.8888888888888888,\"#fdca26\"],[1.0,\"#f0f921\"]],\"sequentialminus\":[[0.0,\"#0d0887\"],[0.1111111111111111,\"#46039f\"],[0.2222222222222222,\"#7201a8\"],[0.3333333333333333,\"#9c179e\"],[0.4444444444444444,\"#bd3786\"],[0.5555555555555556,\"#d8576b\"],[0.6666666666666666,\"#ed7953\"],[0.7777777777777778,\"#fb9f3a\"],[0.8888888888888888,\"#fdca26\"],[1.0,\"#f0f921\"]],\"diverging\":[[0,\"#8e0152\"],[0.1,\"#c51b7d\"],[0.2,\"#de77ae\"],[0.3,\"#f1b6da\"],[0.4,\"#fde0ef\"],[0.5,\"#f7f7f7\"],[0.6,\"#e6f5d0\"],[0.7,\"#b8e186\"],[0.8,\"#7fbc41\"],[0.9,\"#4d9221\"],[1,\"#276419\"]]},\"xaxis\":{\"gridcolor\":\"white\",\"linecolor\":\"white\",\"ticks\":\"\",\"title\":{\"standoff\":15},\"zerolinecolor\":\"white\",\"automargin\":true,\"zerolinewidth\":2},\"yaxis\":{\"gridcolor\":\"white\",\"linecolor\":\"white\",\"ticks\":\"\",\"title\":{\"standoff\":15},\"zerolinecolor\":\"white\",\"automargin\":true,\"zerolinewidth\":2},\"scene\":{\"xaxis\":{\"backgroundcolor\":\"#E5ECF6\",\"gridcolor\":\"white\",\"linecolor\":\"white\",\"showbackground\":true,\"ticks\":\"\",\"zerolinecolor\":\"white\",\"gridwidth\":2},\"yaxis\":{\"backgroundcolor\":\"#E5ECF6\",\"gridcolor\":\"white\",\"linecolor\":\"white\",\"showbackground\":true,\"ticks\":\"\",\"zerolinecolor\":\"white\",\"gridwidth\":2},\"zaxis\":{\"backgroundcolor\":\"#E5ECF6\",\"gridcolor\":\"white\",\"linecolor\":\"white\",\"showbackground\":true,\"ticks\":\"\",\"zerolinecolor\":\"white\",\"gridwidth\":2}},\"shapedefaults\":{\"line\":{\"color\":\"#2a3f5f\"}},\"annotationdefaults\":{\"arrowcolor\":\"#2a3f5f\",\"arrowhead\":0,\"arrowwidth\":1},\"geo\":{\"bgcolor\":\"white\",\"landcolor\":\"#E5ECF6\",\"subunitcolor\":\"white\",\"showland\":true,\"showlakes\":true,\"lakecolor\":\"white\"},\"title\":{\"x\":0.05},\"mapbox\":{\"style\":\"light\"}}}},                        {\"responsive\": true}                    ).then(function(){\n",
       "                            \n",
       "var gd = document.getElementById('54413b80-c325-4f88-af0e-2ad779c2f3a9');\n",
       "var x = new MutationObserver(function (mutations, observer) {{\n",
       "        var display = window.getComputedStyle(gd).display;\n",
       "        if (!display || display === 'none') {{\n",
       "            console.log([gd, 'removed!']);\n",
       "            Plotly.purge(gd);\n",
       "            observer.disconnect();\n",
       "        }}\n",
       "}});\n",
       "\n",
       "// Listen for the removal of the full notebook cells\n",
       "var notebookContainer = gd.closest('#notebook-container');\n",
       "if (notebookContainer) {{\n",
       "    x.observe(notebookContainer, {childList: true});\n",
       "}}\n",
       "\n",
       "// Listen for the clearing of the current output cell\n",
       "var outputEl = gd.closest('.output');\n",
       "if (outputEl) {{\n",
       "    x.observe(outputEl, {childList: true});\n",
       "}}\n",
       "\n",
       "                        })                };                });            </script>        </div>"
      ]
     },
     "metadata": {},
     "output_type": "display_data"
    }
   ],
   "source": [
    "if not config['tune_parameters']:\n",
    "    optuna_study = optuna.load_study(study_name=f'hyperparameters_tuning_{config[\"model\"]}', storage=f'sqlite:///{config[\"database_path\"]}')\n",
    "    \n",
    "fig = optuna.visualization.plot_param_importances(optuna_study)\n",
    "fig.show()"
   ]
  },
  {
   "cell_type": "markdown",
   "id": "5e9df01a",
   "metadata": {
    "papermill": {
     "duration": 0.028565,
     "end_time": "2024-12-04T18:21:18.989022",
     "exception": false,
     "start_time": "2024-12-04T18:21:18.960457",
     "status": "completed"
    },
    "tags": []
   },
   "source": [
    "## Let's train the recommender with best parameter values"
   ]
  },
  {
   "cell_type": "code",
   "execution_count": 16,
   "id": "3a4a166e",
   "metadata": {
    "execution": {
     "iopub.execute_input": "2024-12-04T18:21:19.045524Z",
     "iopub.status.busy": "2024-12-04T18:21:19.045107Z",
     "iopub.status.idle": "2024-12-04T18:24:37.011012Z",
     "shell.execute_reply": "2024-12-04T18:24:37.009801Z"
    },
    "papermill": {
     "duration": 198.021871,
     "end_time": "2024-12-04T18:24:37.038756",
     "exception": false,
     "start_time": "2024-12-04T18:21:19.016885",
     "status": "completed"
    },
    "tags": []
   },
   "outputs": [
    {
     "name": "stdout",
     "output_type": "stream",
     "text": [
      "ScaledPureSVDRecommender: Computing SVD decomposition...\n",
      "ScaledPureSVDRecommender: Computing SVD decomposition... done in 3.30 min\n"
     ]
    }
   ],
   "source": [
    "if config['tune_best_params']:\n",
    "\n",
    "    if config['tune_parameters']:\n",
    "        best_params = optuna_study.best_trial.params\n",
    "    else: \n",
    "        with open(f'{K_PATH}/{GH_PATH}/{config[\"model\"]}Recommender/best_params_{config[\"model\"]}.json', 'r') as best_params_json:\n",
    "            best_params = json.load(best_params_json)\n",
    "\n",
    "    recommender_instance = ScaledPureSVDRecommender(URM_train + URM_validation)\n",
    "    recommender_instance.fit(**best_params)"
   ]
  },
  {
   "cell_type": "markdown",
   "id": "2beac6e3",
   "metadata": {
    "papermill": {
     "duration": 0.026178,
     "end_time": "2024-12-04T18:24:37.092239",
     "exception": false,
     "start_time": "2024-12-04T18:24:37.066061",
     "status": "completed"
    },
    "tags": []
   },
   "source": [
    "# Testing"
   ]
  },
  {
   "cell_type": "markdown",
   "id": "78183b80",
   "metadata": {
    "papermill": {
     "duration": 0.025771,
     "end_time": "2024-12-04T18:24:37.144190",
     "exception": false,
     "start_time": "2024-12-04T18:24:37.118419",
     "status": "completed"
    },
    "tags": []
   },
   "source": [
    "Create the recommendations for the submission. "
   ]
  },
  {
   "cell_type": "code",
   "execution_count": 17,
   "id": "24417240",
   "metadata": {
    "execution": {
     "iopub.execute_input": "2024-12-04T18:24:37.199014Z",
     "iopub.status.busy": "2024-12-04T18:24:37.198575Z",
     "iopub.status.idle": "2024-12-04T18:26:30.323123Z",
     "shell.execute_reply": "2024-12-04T18:26:30.321985Z"
    },
    "papermill": {
     "duration": 113.182863,
     "end_time": "2024-12-04T18:26:30.353464",
     "exception": false,
     "start_time": "2024-12-04T18:24:37.170601",
     "status": "completed"
    },
    "tags": []
   },
   "outputs": [
    {
     "name": "stdout",
     "output_type": "stream",
     "text": [
      "Submission file saved as /kaggle/working/submission_ScaledPureSVD.csv\n"
     ]
    }
   ],
   "source": [
    "if config['tune_best_params']:\n",
    "\n",
    "    data_target_users_test = pd.read_csv('/kaggle/input/recommender-system-2024-challenge-polimi/data_target_users_test.csv')\n",
    "    create_submission(data_target_users_test, recommender_instance, f'/kaggle/working/submission_{config[\"model\"]}.csv')"
   ]
  },
  {
   "cell_type": "markdown",
   "id": "dea6baa3",
   "metadata": {
    "execution": {
     "iopub.execute_input": "2024-11-14T00:04:16.877791Z",
     "iopub.status.busy": "2024-11-14T00:04:16.877275Z",
     "iopub.status.idle": "2024-11-14T00:04:16.883170Z",
     "shell.execute_reply": "2024-11-14T00:04:16.881889Z",
     "shell.execute_reply.started": "2024-11-14T00:04:16.877743Z"
    },
    "papermill": {
     "duration": 0.026407,
     "end_time": "2024-12-04T18:26:30.406934",
     "exception": false,
     "start_time": "2024-12-04T18:26:30.380527",
     "status": "completed"
    },
    "tags": []
   },
   "source": [
    "# Save Version on GitHub "
   ]
  },
  {
   "cell_type": "markdown",
   "id": "90e9cbba",
   "metadata": {
    "papermill": {
     "duration": 0.026035,
     "end_time": "2024-12-04T18:26:30.459691",
     "exception": false,
     "start_time": "2024-12-04T18:26:30.433656",
     "status": "completed"
    },
    "tags": []
   },
   "source": [
    "Write or import a json file where best hyperparameters are saved. "
   ]
  },
  {
   "cell_type": "code",
   "execution_count": 18,
   "id": "f512d09b",
   "metadata": {
    "execution": {
     "iopub.execute_input": "2024-12-04T18:26:30.515162Z",
     "iopub.status.busy": "2024-12-04T18:26:30.514813Z",
     "iopub.status.idle": "2024-12-04T18:26:31.550738Z",
     "shell.execute_reply": "2024-12-04T18:26:31.549289Z"
    },
    "papermill": {
     "duration": 1.067072,
     "end_time": "2024-12-04T18:26:31.553118",
     "exception": false,
     "start_time": "2024-12-04T18:26:30.486046",
     "status": "completed"
    },
    "tags": []
   },
   "outputs": [
    {
     "name": "stdout",
     "output_type": "stream",
     "text": [
      "File 'TrainedModels/WithoutKFCV/MatrixFactorization/PureSVDRecommender/ScaledPureSVDRecommender/best_params_ScaledPureSVD.json' updated successfully.\n"
     ]
    }
   ],
   "source": [
    "if config['tune_parameters']:\n",
    "    with open(f'/kaggle/working/best_params_{config[\"model\"]}.json', 'w') as params_file:\n",
    "        json.dump(optuna_study.best_params, params_file)\n",
    "        \n",
    "    if config['save_github']:\n",
    "        upload_file(\n",
    "            f'/kaggle/working/best_params_{config[\"model\"]}.json', \n",
    "            f'{GH_PATH}/{config[\"model\"]}Recommender/best_params_{config[\"model\"]}.json', \n",
    "            f'{config[\"model\"]} tuning results (from kaggle notebook)',\n",
    "            repo\n",
    "        )\n",
    "elif config['copy_prev_best_params']:\n",
    "    shutil.copyfile(\n",
    "        f'{K_PATH}/{GH_PATH}/{config[\"model\"]}Recommender/'\\\n",
    "        f'best_params_{config[\"model\"]}.json', \n",
    "        f'/kaggle/working/best_params_{config[\"model\"]}.json'\n",
    "    )"
   ]
  },
  {
   "cell_type": "markdown",
   "id": "b7ff0af6",
   "metadata": {
    "execution": {
     "iopub.execute_input": "2024-11-14T00:41:34.294243Z",
     "iopub.status.busy": "2024-11-14T00:41:34.293739Z",
     "iopub.status.idle": "2024-11-14T00:41:34.301478Z",
     "shell.execute_reply": "2024-11-14T00:41:34.299869Z",
     "shell.execute_reply.started": "2024-11-14T00:41:34.294186Z"
    },
    "papermill": {
     "duration": 0.026787,
     "end_time": "2024-12-04T18:26:31.606388",
     "exception": false,
     "start_time": "2024-12-04T18:26:31.579601",
     "status": "completed"
    },
    "tags": []
   },
   "source": [
    "Save the history of the tuned model."
   ]
  },
  {
   "cell_type": "code",
   "execution_count": 19,
   "id": "75ddd5c8",
   "metadata": {
    "execution": {
     "iopub.execute_input": "2024-12-04T18:26:31.663140Z",
     "iopub.status.busy": "2024-12-04T18:26:31.662666Z",
     "iopub.status.idle": "2024-12-04T18:26:33.250668Z",
     "shell.execute_reply": "2024-12-04T18:26:33.249095Z"
    },
    "papermill": {
     "duration": 1.619764,
     "end_time": "2024-12-04T18:26:33.253332",
     "exception": false,
     "start_time": "2024-12-04T18:26:31.633568",
     "status": "completed"
    },
    "tags": []
   },
   "outputs": [
    {
     "name": "stdout",
     "output_type": "stream",
     "text": [
      "File 'TrainedModels/WithoutKFCV/MatrixFactorization/PureSVDRecommender/ScaledPureSVDRecommender/history_ScaledPureSVD.db' updated successfully.\n"
     ]
    }
   ],
   "source": [
    "if config['save_github'] and config['tune_parameters']:\n",
    "    upload_file(\n",
    "        config['database_path'], \n",
    "        f'{GH_PATH}/{config[\"model\"]}Recommender/history_{config[\"model\"]}.db',\n",
    "        f'Tuning {config[\"model\"]} db updated results (from kaggle notebook)',\n",
    "        repo\n",
    "    )"
   ]
  },
  {
   "cell_type": "markdown",
   "id": "d48b3fde",
   "metadata": {
    "papermill": {
     "duration": 0.026141,
     "end_time": "2024-12-04T18:26:33.306786",
     "exception": false,
     "start_time": "2024-12-04T18:26:33.280645",
     "status": "completed"
    },
    "tags": []
   },
   "source": [
    "Save the best trained model and its submission."
   ]
  },
  {
   "cell_type": "code",
   "execution_count": 20,
   "id": "a9ff8b21",
   "metadata": {
    "execution": {
     "iopub.execute_input": "2024-12-04T18:26:33.363108Z",
     "iopub.status.busy": "2024-12-04T18:26:33.362681Z",
     "iopub.status.idle": "2024-12-04T18:26:35.609830Z",
     "shell.execute_reply": "2024-12-04T18:26:35.608340Z"
    },
    "papermill": {
     "duration": 2.278671,
     "end_time": "2024-12-04T18:26:35.612808",
     "exception": false,
     "start_time": "2024-12-04T18:26:33.334137",
     "status": "completed"
    },
    "tags": []
   },
   "outputs": [
    {
     "name": "stdout",
     "output_type": "stream",
     "text": [
      "File 'TrainedModels/WithoutKFCV/MatrixFactorization/PureSVDRecommender/ScaledPureSVDRecommender/Submission/submission_ScaledPureSVD.csv' created successfully.\n"
     ]
    }
   ],
   "source": [
    "if config['save_github'] and config['tune_best_params']: \n",
    "    upload_file(\n",
    "                f'/kaggle/working/submission_{config[\"model\"]}.csv', \n",
    "                f'{GH_PATH}/{config[\"model\"]}Recommender/Submission/submission_{config[\"model\"]}.csv', \n",
    "                f'New {config[\"model\"]} submission (from kaggle notebook)',\n",
    "                repo\n",
    "            )"
   ]
  }
 ],
 "metadata": {
  "kaggle": {
   "accelerator": "none",
   "dataSources": [
    {
     "databundleVersionId": 9982103,
     "sourceId": 87439,
     "sourceType": "competition"
    }
   ],
   "dockerImageVersionId": 30786,
   "isGpuEnabled": false,
   "isInternetEnabled": true,
   "language": "python",
   "sourceType": "notebook"
  },
  "kernelspec": {
   "display_name": "Python 3",
   "language": "python",
   "name": "python3"
  },
  "language_info": {
   "codemirror_mode": {
    "name": "ipython",
    "version": 3
   },
   "file_extension": ".py",
   "mimetype": "text/x-python",
   "name": "python",
   "nbconvert_exporter": "python",
   "pygments_lexer": "ipython3",
   "version": "3.10.14"
  },
  "papermill": {
   "default_parameters": {},
   "duration": 15152.148534,
   "end_time": "2024-12-04T18:26:36.766005",
   "environment_variables": {},
   "exception": null,
   "input_path": "__notebook__.ipynb",
   "output_path": "__notebook__.ipynb",
   "parameters": {},
   "start_time": "2024-12-04T14:14:04.617471",
   "version": "2.6.0"
  }
 },
 "nbformat": 4,
 "nbformat_minor": 5
}
