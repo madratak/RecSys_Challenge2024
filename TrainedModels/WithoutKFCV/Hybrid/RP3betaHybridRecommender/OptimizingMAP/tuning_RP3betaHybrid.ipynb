{
 "cells": [
  {
   "cell_type": "markdown",
   "id": "a3bdb8d0",
   "metadata": {
    "papermill": {
     "duration": 0.007068,
     "end_time": "2025-01-02T01:12:11.334652",
     "exception": false,
     "start_time": "2025-01-02T01:12:11.327584",
     "status": "completed"
    },
    "tags": []
   },
   "source": [
    "# Set connection with GitHub"
   ]
  },
  {
   "cell_type": "code",
   "execution_count": 1,
   "id": "ba25362b",
   "metadata": {
    "execution": {
     "iopub.execute_input": "2025-01-02T01:12:11.349044Z",
     "iopub.status.busy": "2025-01-02T01:12:11.348665Z",
     "iopub.status.idle": "2025-01-02T01:12:11.353855Z",
     "shell.execute_reply": "2025-01-02T01:12:11.352983Z"
    },
    "papermill": {
     "duration": 0.013862,
     "end_time": "2025-01-02T01:12:11.355413",
     "exception": false,
     "start_time": "2025-01-02T01:12:11.341551",
     "status": "completed"
    },
    "tags": []
   },
   "outputs": [],
   "source": [
    "# ! cd /kaggle/working && rm -rf RECsys_Challenge2024"
   ]
  },
  {
   "cell_type": "code",
   "execution_count": 2,
   "id": "2355600d",
   "metadata": {
    "_cell_guid": "b1076dfc-b9ad-4769-8c92-a6c4dae69d19",
    "_uuid": "8f2839f25d086af736a60e9eeb907d3b93b6e0e5",
    "execution": {
     "iopub.execute_input": "2025-01-02T01:12:11.369131Z",
     "iopub.status.busy": "2025-01-02T01:12:11.368788Z",
     "iopub.status.idle": "2025-01-02T01:12:32.460494Z",
     "shell.execute_reply": "2025-01-02T01:12:32.459111Z"
    },
    "papermill": {
     "duration": 21.100813,
     "end_time": "2025-01-02T01:12:32.462578",
     "exception": false,
     "start_time": "2025-01-02T01:12:11.361765",
     "status": "completed"
    },
    "tags": []
   },
   "outputs": [
    {
     "name": "stdout",
     "output_type": "stream",
     "text": [
      "Cloning into 'RECsys_Challenge2024'...\r\n",
      "remote: Enumerating objects: 5412, done.\u001b[K\r\n",
      "remote: Counting objects: 100% (98/98), done.\u001b[K\r\n",
      "remote: Compressing objects: 100% (67/67), done.\u001b[K\r\n",
      "remote: Total 5412 (delta 42), reused 24 (delta 7), pack-reused 5314 (from 2)\u001b[K\r\n",
      "Receiving objects: 100% (5412/5412), 384.32 MiB | 23.14 MiB/s, done.\r\n",
      "Resolving deltas: 100% (3088/3088), done.\r\n",
      "Updating files: 100% (445/445), done.\r\n"
     ]
    }
   ],
   "source": [
    "from kaggle_secrets import UserSecretsClient\n",
    "\n",
    "token = UserSecretsClient().get_secret(\"Token\")\n",
    "\n",
    "! git clone https://{token}@github.com/madratak/RECsys_Challenge2024.git"
   ]
  },
  {
   "cell_type": "code",
   "execution_count": 3,
   "id": "8af3252e",
   "metadata": {
    "execution": {
     "iopub.execute_input": "2025-01-02T01:12:32.486873Z",
     "iopub.status.busy": "2025-01-02T01:12:32.486500Z",
     "iopub.status.idle": "2025-01-02T01:12:39.098636Z",
     "shell.execute_reply": "2025-01-02T01:12:39.097279Z"
    },
    "papermill": {
     "duration": 6.626979,
     "end_time": "2025-01-02T01:12:39.100721",
     "exception": false,
     "start_time": "2025-01-02T01:12:32.473742",
     "status": "completed"
    },
    "tags": []
   },
   "outputs": [
    {
     "name": "stdout",
     "output_type": "stream",
     "text": [
      "Collecting PyGithub\r\n",
      "  Downloading PyGithub-2.5.0-py3-none-any.whl.metadata (3.9 kB)\r\n",
      "Requirement already satisfied: requests in /usr/local/lib/python3.10/dist-packages (2.32.3)\r\n",
      "Collecting pynacl>=1.4.0 (from PyGithub)\r\n",
      "  Downloading PyNaCl-1.5.0-cp36-abi3-manylinux_2_17_x86_64.manylinux2014_x86_64.manylinux_2_24_x86_64.whl.metadata (8.6 kB)\r\n",
      "Requirement already satisfied: pyjwt>=2.4.0 in /usr/local/lib/python3.10/dist-packages (from pyjwt[crypto]>=2.4.0->PyGithub) (2.9.0)\r\n",
      "Requirement already satisfied: typing-extensions>=4.0.0 in /usr/local/lib/python3.10/dist-packages (from PyGithub) (4.12.2)\r\n",
      "Requirement already satisfied: urllib3>=1.26.0 in /usr/local/lib/python3.10/dist-packages (from PyGithub) (2.2.3)\r\n",
      "Requirement already satisfied: Deprecated in /usr/local/lib/python3.10/dist-packages (from PyGithub) (1.2.15)\r\n",
      "Requirement already satisfied: charset-normalizer<4,>=2 in /usr/local/lib/python3.10/dist-packages (from requests) (3.3.2)\r\n",
      "Requirement already satisfied: idna<4,>=2.5 in /usr/local/lib/python3.10/dist-packages (from requests) (3.10)\r\n",
      "Requirement already satisfied: certifi>=2017.4.17 in /usr/local/lib/python3.10/dist-packages (from requests) (2024.8.30)\r\n",
      "Requirement already satisfied: cryptography>=3.4.0 in /usr/local/lib/python3.10/dist-packages (from pyjwt[crypto]>=2.4.0->PyGithub) (43.0.1)\r\n",
      "Requirement already satisfied: cffi>=1.4.1 in /usr/local/lib/python3.10/dist-packages (from pynacl>=1.4.0->PyGithub) (1.17.1)\r\n",
      "Requirement already satisfied: wrapt<2,>=1.10 in /usr/local/lib/python3.10/dist-packages (from Deprecated->PyGithub) (1.16.0)\r\n",
      "Requirement already satisfied: pycparser in /usr/local/lib/python3.10/dist-packages (from cffi>=1.4.1->pynacl>=1.4.0->PyGithub) (2.22)\r\n",
      "Downloading PyGithub-2.5.0-py3-none-any.whl (375 kB)\r\n",
      "\u001b[2K   \u001b[90m━━━━━━━━━━━━━━━━━━━━━━━━━━━━━━━━━━━━━━━━\u001b[0m \u001b[32m375.9/375.9 kB\u001b[0m \u001b[31m6.7 MB/s\u001b[0m eta \u001b[36m0:00:00\u001b[0m\r\n",
      "\u001b[?25hDownloading PyNaCl-1.5.0-cp36-abi3-manylinux_2_17_x86_64.manylinux2014_x86_64.manylinux_2_24_x86_64.whl (856 kB)\r\n",
      "\u001b[2K   \u001b[90m━━━━━━━━━━━━━━━━━━━━━━━━━━━━━━━━━━━━━━━━\u001b[0m \u001b[32m856.7/856.7 kB\u001b[0m \u001b[31m23.5 MB/s\u001b[0m eta \u001b[36m0:00:00\u001b[0m\r\n",
      "\u001b[?25hInstalling collected packages: pynacl, PyGithub\r\n",
      "Successfully installed PyGithub-2.5.0 pynacl-1.5.0\r\n"
     ]
    }
   ],
   "source": [
    "! pip install PyGithub requests"
   ]
  },
  {
   "cell_type": "code",
   "execution_count": 4,
   "id": "b499620f",
   "metadata": {
    "_kg_hide-input": false,
    "execution": {
     "iopub.execute_input": "2025-01-02T01:12:39.124857Z",
     "iopub.status.busy": "2025-01-02T01:12:39.124399Z",
     "iopub.status.idle": "2025-01-02T01:15:16.210151Z",
     "shell.execute_reply": "2025-01-02T01:15:16.208790Z"
    },
    "papermill": {
     "duration": 157.100418,
     "end_time": "2025-01-02T01:15:16.212323",
     "exception": false,
     "start_time": "2025-01-02T01:12:39.111905",
     "status": "completed"
    },
    "tags": []
   },
   "outputs": [
    {
     "name": "stdout",
     "output_type": "stream",
     "text": [
      "/kaggle/working/RECsys_Challenge2024\n",
      "run_compile_all_cython: Found 11 Cython files in 5 folders...\r\n",
      "run_compile_all_cython: All files will be compiled using your current python environment: '/usr/bin/python3'\r\n",
      "Compiling [1/11]: MatrixFactorization_Cython_Epoch.pyx... \r\n",
      "In file included from \u001b[01m\u001b[K/usr/local/lib/python3.10/dist-packages/numpy/core/include/numpy/ndarraytypes.h:1929\u001b[m\u001b[K,\r\n",
      "                 from \u001b[01m\u001b[K/usr/local/lib/python3.10/dist-packages/numpy/core/include/numpy/ndarrayobject.h:12\u001b[m\u001b[K,\r\n",
      "                 from \u001b[01m\u001b[K/usr/local/lib/python3.10/dist-packages/numpy/core/include/numpy/arrayobject.h:5\u001b[m\u001b[K,\r\n",
      "                 from \u001b[01m\u001b[KMatrixFactorization_Cython_Epoch.c:1252\u001b[m\u001b[K:\r\n",
      "\u001b[01m\u001b[K/usr/local/lib/python3.10/dist-packages/numpy/core/include/numpy/npy_1_7_deprecated_api.h:17:2:\u001b[m\u001b[K \u001b[01;35m\u001b[Kwarning: \u001b[m\u001b[K#warning \"Using deprecated NumPy API, disable it with \" \"#define NPY_NO_DEPRECATED_API NPY_1_7_API_VERSION\" [\u001b[01;35m\u001b[K\u001b]8;;https://gcc.gnu.org/onlinedocs/gcc/Warning-Options.html#index-Wcpp\u0007-Wcpp\u001b]8;;\u0007\u001b[m\u001b[K]\r\n",
      "   17 | #\u001b[01;35m\u001b[Kwarning\u001b[m\u001b[K \"Using deprecated NumPy API, disable it with \" \\\r\n",
      "      |  \u001b[01;35m\u001b[K^~~~~~~\u001b[m\u001b[K\r\n",
      "\u001b[01m\u001b[KMatrixFactorization_Cython_Epoch.c:\u001b[m\u001b[K In function ‘\u001b[01m\u001b[K__pyx_pf_32MatrixFactorization_Cython_Epoch_32MatrixFactorization_Cython_Epoch_10epochIteration_Cython_ASY_SVD_SGD\u001b[m\u001b[K’:\r\n",
      "\u001b[01m\u001b[KMatrixFactorization_Cython_Epoch.c:26256:68:\u001b[m\u001b[K \u001b[01;35m\u001b[Kwarning: \u001b[m\u001b[K‘\u001b[01m\u001b[K__pyx_v_end_pos_seen_items\u001b[m\u001b[K’ may be used uninitialized in this function [\u001b[01;35m\u001b[K\u001b]8;;https://gcc.gnu.org/onlinedocs/gcc/Warning-Options.html#index-Wmaybe-uninitialized\u0007-Wmaybe-uninitialized\u001b]8;;\u0007\u001b[m\u001b[K]\r\n",
      "26256 |         for (__pyx_t_22 = __pyx_v_start_pos_seen_items; \u001b[01;35m\u001b[K__pyx_t_22 < __pyx_t_21\u001b[m\u001b[K; __pyx_t_22+=1) {\r\n",
      "      |                                                         \u001b[01;35m\u001b[K~~~~~~~~~~~^~~~~~~~~~~~\u001b[m\u001b[K\r\n",
      "\u001b[01m\u001b[KMatrixFactorization_Cython_Epoch.c:26256:68:\u001b[m\u001b[K \u001b[01;35m\u001b[Kwarning: \u001b[m\u001b[K‘\u001b[01m\u001b[K__pyx_v_start_pos_seen_items\u001b[m\u001b[K’ may be used uninitialized in this function [\u001b[01;35m\u001b[K\u001b]8;;https://gcc.gnu.org/onlinedocs/gcc/Warning-Options.html#index-Wmaybe-uninitialized\u0007-Wmaybe-uninitialized\u001b]8;;\u0007\u001b[m\u001b[K]\r\n",
      "/usr/local/lib/python3.10/dist-packages/Cython/Compiler/Main.py:381: FutureWarning: Cython directive 'language_level' not set, using '3str' for now (Py3). This has changed from earlier releases! File: /kaggle/working/RECsys_Challenge2024/Recommenders/MatrixFactorization/Cython/MatrixFactorization_Cython_Epoch.pyx\r\n",
      "  tree = Parsing.p_module(s, pxd, full_module_name)\r\n",
      "Compiling [1/11]: MatrixFactorization_Cython_Epoch.pyx... PASS\r\n",
      "\r\n",
      "Compiling [2/11]: MatrixFactorizationImpressions_Cython_Epoch.pyx... \r\n",
      "In file included from \u001b[01m\u001b[K/usr/local/lib/python3.10/dist-packages/numpy/core/include/numpy/ndarraytypes.h:1929\u001b[m\u001b[K,\r\n",
      "                 from \u001b[01m\u001b[K/usr/local/lib/python3.10/dist-packages/numpy/core/include/numpy/ndarrayobject.h:12\u001b[m\u001b[K,\r\n",
      "                 from \u001b[01m\u001b[K/usr/local/lib/python3.10/dist-packages/numpy/core/include/numpy/arrayobject.h:5\u001b[m\u001b[K,\r\n",
      "                 from \u001b[01m\u001b[KMatrixFactorizationImpressions_Cython_Epoch.c:1252\u001b[m\u001b[K:\r\n",
      "\u001b[01m\u001b[K/usr/local/lib/python3.10/dist-packages/numpy/core/include/numpy/npy_1_7_deprecated_api.h:17:2:\u001b[m\u001b[K \u001b[01;35m\u001b[Kwarning: \u001b[m\u001b[K#warning \"Using deprecated NumPy API, disable it with \" \"#define NPY_NO_DEPRECATED_API NPY_1_7_API_VERSION\" [\u001b[01;35m\u001b[K\u001b]8;;https://gcc.gnu.org/onlinedocs/gcc/Warning-Options.html#index-Wcpp\u0007-Wcpp\u001b]8;;\u0007\u001b[m\u001b[K]\r\n",
      "   17 | #\u001b[01;35m\u001b[Kwarning\u001b[m\u001b[K \"Using deprecated NumPy API, disable it with \" \\\r\n",
      "      |  \u001b[01;35m\u001b[K^~~~~~~\u001b[m\u001b[K\r\n",
      "\u001b[01m\u001b[KMatrixFactorizationImpressions_Cython_Epoch.c:\u001b[m\u001b[K In function ‘\u001b[01m\u001b[K__pyx_f_43MatrixFactorizationImpressions_Cython_Epoch_32MatrixFactorization_Cython_Epoch_sampleBPR_Cython\u001b[m\u001b[K’:\r\n",
      "\u001b[01m\u001b[KMatrixFactorizationImpressions_Cython_Epoch.c:30353:17:\u001b[m\u001b[K \u001b[01;35m\u001b[Kwarning: \u001b[m\u001b[K‘\u001b[01m\u001b[K__pyx_v_start_pos_impression_items\u001b[m\u001b[K’ may be used uninitialized in this function [\u001b[01;35m\u001b[K\u001b]8;;https://gcc.gnu.org/onlinedocs/gcc/Warning-Options.html#index-Wmaybe-uninitialized\u0007-Wmaybe-uninitialized\u001b]8;;\u0007\u001b[m\u001b[K]\r\n",
      "30353 |       \u001b[01;35m\u001b[K__pyx_t_4 = (__pyx_v_start_pos_impression_items + __pyx_v_index)\u001b[m\u001b[K;\r\n",
      "      |       \u001b[01;35m\u001b[K~~~~~~~~~~^~~~~~~~~~~~~~~~~~~~~~~~~~~~~~~~~~~~~~~~~~~~~~~~~~~~~~\u001b[m\u001b[K\r\n",
      "\u001b[01m\u001b[KMatrixFactorizationImpressions_Cython_Epoch.c:\u001b[m\u001b[K In function ‘\u001b[01m\u001b[K__pyx_pf_43MatrixFactorizationImpressions_Cython_Epoch_32MatrixFactorization_Cython_Epoch_10epochIteration_Cython_ASY_SVD_SGD\u001b[m\u001b[K’:\r\n",
      "\u001b[01m\u001b[KMatrixFactorizationImpressions_Cython_Epoch.c:26112:66:\u001b[m\u001b[K \u001b[01;35m\u001b[Kwarning: \u001b[m\u001b[K‘\u001b[01m\u001b[K__pyx_v_end_pos_seen_items\u001b[m\u001b[K’ may be used uninitialized in this function [\u001b[01;35m\u001b[K\u001b]8;;https://gcc.gnu.org/onlinedocs/gcc/Warning-Options.html#index-Wmaybe-uninitialized\u0007-Wmaybe-uninitialized\u001b]8;;\u0007\u001b[m\u001b[K]\r\n",
      "26112 |       for (__pyx_t_22 = __pyx_v_start_pos_seen_items; \u001b[01;35m\u001b[K__pyx_t_22 < __pyx_t_21\u001b[m\u001b[K; __pyx_t_22+=1) {\r\n",
      "      |                                                       \u001b[01;35m\u001b[K~~~~~~~~~~~^~~~~~~~~~~~\u001b[m\u001b[K\r\n",
      "\u001b[01m\u001b[KMatrixFactorizationImpressions_Cython_Epoch.c:26112:66:\u001b[m\u001b[K \u001b[01;35m\u001b[Kwarning: \u001b[m\u001b[K‘\u001b[01m\u001b[K__pyx_v_start_pos_seen_items\u001b[m\u001b[K’ may be used uninitialized in this function [\u001b[01;35m\u001b[K\u001b]8;;https://gcc.gnu.org/onlinedocs/gcc/Warning-Options.html#index-Wmaybe-uninitialized\u0007-Wmaybe-uninitialized\u001b]8;;\u0007\u001b[m\u001b[K]\r\n",
      "/usr/local/lib/python3.10/dist-packages/Cython/Compiler/Main.py:381: FutureWarning: Cython directive 'language_level' not set, using '3str' for now (Py3). This has changed from earlier releases! File: /kaggle/working/RECsys_Challenge2024/Recommenders/MatrixFactorization/Cython/MatrixFactorizationImpressions_Cython_Epoch.pyx\r\n",
      "  tree = Parsing.p_module(s, pxd, full_module_name)\r\n",
      "Compiling [2/11]: MatrixFactorizationImpressions_Cython_Epoch.pyx... PASS\r\n",
      "\r\n",
      "Compiling [3/11]: Compute_Similarity_Cython.pyx... \r\n",
      "warning: Compute_Similarity_Cython.pyx:21:0: The 'IF' statement is deprecated and will be removed in a future Cython version. Consider using runtime conditions or C macros instead. See https://github.com/cython/cython/issues/4310\r\n",
      "In file included from \u001b[01m\u001b[K/usr/local/lib/python3.10/dist-packages/numpy/core/include/numpy/ndarraytypes.h:1929\u001b[m\u001b[K,\r\n",
      "                 from \u001b[01m\u001b[K/usr/local/lib/python3.10/dist-packages/numpy/core/include/numpy/ndarrayobject.h:12\u001b[m\u001b[K,\r\n",
      "                 from \u001b[01m\u001b[K/usr/local/lib/python3.10/dist-packages/numpy/core/include/numpy/arrayobject.h:5\u001b[m\u001b[K,\r\n",
      "                 from \u001b[01m\u001b[KCompute_Similarity_Cython.c:1252\u001b[m\u001b[K:\r\n",
      "\u001b[01m\u001b[K/usr/local/lib/python3.10/dist-packages/numpy/core/include/numpy/npy_1_7_deprecated_api.h:17:2:\u001b[m\u001b[K \u001b[01;35m\u001b[Kwarning: \u001b[m\u001b[K#warning \"Using deprecated NumPy API, disable it with \" \"#define NPY_NO_DEPRECATED_API NPY_1_7_API_VERSION\" [\u001b[01;35m\u001b[K\u001b]8;;https://gcc.gnu.org/onlinedocs/gcc/Warning-Options.html#index-Wcpp\u0007-Wcpp\u001b]8;;\u0007\u001b[m\u001b[K]\r\n",
      "   17 | #\u001b[01;35m\u001b[Kwarning\u001b[m\u001b[K \"Using deprecated NumPy API, disable it with \" \\\r\n",
      "      |  \u001b[01;35m\u001b[K^~~~~~~\u001b[m\u001b[K\r\n",
      "/usr/local/lib/python3.10/dist-packages/Cython/Compiler/Main.py:381: FutureWarning: Cython directive 'language_level' not set, using '3str' for now (Py3). This has changed from earlier releases! File: /kaggle/working/RECsys_Challenge2024/Recommenders/Similarity/Cython/Compute_Similarity_Cython.pyx\r\n",
      "  tree = Parsing.p_module(s, pxd, full_module_name)\r\n",
      "warning: Compute_Similarity_Cython.pyx:21:0: The 'IF' statement is deprecated and will be removed in a future Cython version. Consider using runtime conditions or C macros instead. See https://github.com/cython/cython/issues/4310\r\n",
      "Compiling [3/11]: Compute_Similarity_Cython.pyx... PASS\r\n",
      "\r\n",
      "Compiling [4/11]: Sparse_Matrix_Tree_CSR.pyx... \r\n",
      "warning: Sparse_Matrix_Tree_CSR.pyx:132:34: Non-trivial type declarators in shared declaration (e.g. mix of pointers and values). Each pointer declaration should be on its own line.\r\n",
      "warning: Sparse_Matrix_Tree_CSR.pyx:132:66: Non-trivial type declarators in shared declaration (e.g. mix of pointers and values). Each pointer declaration should be on its own line.\r\n",
      "warning: Sparse_Matrix_Tree_CSR.pyx:343:35: Non-trivial type declarators in shared declaration (e.g. mix of pointers and values). Each pointer declaration should be on its own line.\r\n",
      "warning: Sparse_Matrix_Tree_CSR.pyx:343:52: Non-trivial type declarators in shared declaration (e.g. mix of pointers and values). Each pointer declaration should be on its own line.\r\n",
      "warning: Sparse_Matrix_Tree_CSR.pyx:442:35: Non-trivial type declarators in shared declaration (e.g. mix of pointers and values). Each pointer declaration should be on its own line.\r\n",
      "warning: Sparse_Matrix_Tree_CSR.pyx:442:53: Non-trivial type declarators in shared declaration (e.g. mix of pointers and values). Each pointer declaration should be on its own line.\r\n",
      "warning: Sparse_Matrix_Tree_CSR.pyx:442:69: Non-trivial type declarators in shared declaration (e.g. mix of pointers and values). Each pointer declaration should be on its own line.\r\n",
      "warning: Sparse_Matrix_Tree_CSR.pyx:577:35: Non-trivial type declarators in shared declaration (e.g. mix of pointers and values). Each pointer declaration should be on its own line.\r\n",
      "warning: Sparse_Matrix_Tree_CSR.pyx:577:42: Non-trivial type declarators in shared declaration (e.g. mix of pointers and values). Each pointer declaration should be on its own line.\r\n",
      "warning: Sparse_Matrix_Tree_CSR.pyx:578:35: Non-trivial type declarators in shared declaration (e.g. mix of pointers and values). Each pointer declaration should be on its own line.\r\n",
      "warning: Sparse_Matrix_Tree_CSR.pyx:578:53: Non-trivial type declarators in shared declaration (e.g. mix of pointers and values). Each pointer declaration should be on its own line.\r\n",
      "\r\n",
      "Error compiling Cython file:\r\n",
      "------------------------------------------------------------\r\n",
      "...\r\n",
      "            vector_pointer_to_list_elements[index].head = current_element\r\n",
      "            current_element = current_element.higher\r\n",
      "\r\n",
      "\r\n",
      "        # Sort array elements on their data field\r\n",
      "        qsort(vector_pointer_to_list_elements, list_length, sizeof(head_pointer_tree_s), compare_struct_on_data)\r\n",
      "                                                                                         ^\r\n",
      "------------------------------------------------------------\r\n",
      "\r\n",
      "Sparse_Matrix_Tree_CSR.pyx:516:89: Cannot assign type 'int (const void *, const void *) except? -1' to 'int (*)(const_void *, const_void *) noexcept'. Exception values are incompatible. Suggest adding 'noexcept' to the type of 'compare_struct_on_data'.\r\n",
      "\r\n",
      "Error compiling Cython file:\r\n",
      "------------------------------------------------------------\r\n",
      "...\r\n",
      "        # Sort array elements on their data field\r\n",
      "        qsort(vector_pointer_to_list_elements, list_length, sizeof(head_pointer_tree_s), compare_struct_on_data)\r\n",
      "\r\n",
      "        # Sort only the TopK according to their column field\r\n",
      "        # Sort is from lower to higher, therefore the elements to be considered are from len-topK to len\r\n",
      "        qsort(&vector_pointer_to_list_elements[list_length-TopK], TopK, sizeof(head_pointer_tree_s), compare_struct_on_column)\r\n",
      "                                                                                                     ^\r\n",
      "------------------------------------------------------------\r\n",
      "\r\n",
      "Sparse_Matrix_Tree_CSR.pyx:520:101: Cannot assign type 'int (const void *, const void *) except? -1' to 'int (*)(const_void *, const_void *) noexcept'. Exception values are incompatible. Suggest adding 'noexcept' to the type of 'compare_struct_on_column'.\r\n",
      "Traceback (most recent call last):\r\n",
      "  File \"/kaggle/working/RECsys_Challenge2024/CythonCompiler/compile_script.py\", line 48, in <module>\r\n",
      "    setup(\r\n",
      "  File \"/usr/local/lib/python3.10/dist-packages/setuptools/__init__.py\", line 108, in setup\r\n",
      "    return distutils.core.setup(**attrs)\r\n",
      "  File \"/usr/local/lib/python3.10/dist-packages/setuptools/_distutils/core.py\", line 184, in setup\r\n",
      "    return run_commands(dist)\r\n",
      "  File \"/usr/local/lib/python3.10/dist-packages/setuptools/_distutils/core.py\", line 200, in run_commands\r\n",
      "    dist.run_commands()\r\n",
      "  File \"/usr/local/lib/python3.10/dist-packages/setuptools/_distutils/dist.py\", line 970, in run_commands\r\n",
      "    self.run_command(cmd)\r\n",
      "  File \"/usr/local/lib/python3.10/dist-packages/setuptools/dist.py\", line 956, in run_command\r\n",
      "    super().run_command(command)\r\n",
      "  File \"/usr/local/lib/python3.10/dist-packages/setuptools/_distutils/dist.py\", line 989, in run_command\r\n",
      "    cmd_obj.run()\r\n",
      "  File \"/usr/local/lib/python3.10/dist-packages/setuptools/_distutils/command/build_ext.py\", line 359, in run\r\n",
      "    self.build_extensions()\r\n",
      "  File \"/usr/local/lib/python3.10/dist-packages/setuptools/_distutils/command/build_ext.py\", line 479, in build_extensions\r\n",
      "    self._build_extensions_serial()\r\n",
      "  File \"/usr/local/lib/python3.10/dist-packages/setuptools/_distutils/command/build_ext.py\", line 505, in _build_extensions_serial\r\n",
      "    self.build_extension(ext)\r\n",
      "  File \"/usr/local/lib/python3.10/dist-packages/Cython/Distutils/build_ext.py\", line 130, in build_extension\r\n",
      "    new_ext = cythonize(\r\n",
      "  File \"/usr/local/lib/python3.10/dist-packages/Cython/Build/Dependencies.py\", line 1154, in cythonize\r\n",
      "    cythonize_one(*args)\r\n",
      "  File \"/usr/local/lib/python3.10/dist-packages/Cython/Build/Dependencies.py\", line 1321, in cythonize_one\r\n",
      "    raise CompileError(None, pyx_file)\r\n",
      "Cython.Compiler.Errors.CompileError: Sparse_Matrix_Tree_CSR.pyx\r\n",
      "Traceback (most recent call last):\r\n",
      "  File \"/kaggle/working/RECsys_Challenge2024/run_compile_all_cython.py\", line 60, in <module>\r\n",
      "    run_compile_subprocess(file_path, [file_name])\r\n",
      "  File \"/kaggle/working/RECsys_Challenge2024/CythonCompiler/run_compile_subprocess.py\", line 51, in run_compile_subprocess\r\n",
      "    raise exc\r\n",
      "  File \"/kaggle/working/RECsys_Challenge2024/CythonCompiler/run_compile_subprocess.py\", line 32, in run_compile_subprocess\r\n",
      "    output = subprocess.check_output(' '.join(command),\r\n",
      "  File \"/usr/lib/python3.10/subprocess.py\", line 421, in check_output\r\n",
      "    return run(*popenargs, stdout=PIPE, timeout=timeout, check=True,\r\n",
      "  File \"/usr/lib/python3.10/subprocess.py\", line 526, in run\r\n",
      "    raise CalledProcessError(retcode, process.args,\r\n",
      "subprocess.CalledProcessError: Command '/usr/bin/python3 /kaggle/working/RECsys_Challenge2024/CythonCompiler/compile_script.py Sparse_Matrix_Tree_CSR.pyx build_ext --inplace' returned non-zero exit status 1.\r\n",
      "Compiling [4/11]: Sparse_Matrix_Tree_CSR.pyx... FAIL: Command '/usr/bin/python3 /kaggle/working/RECsys_Challenge2024/CythonCompiler/compile_script.py Sparse_Matrix_Tree_CSR.pyx build_ext --inplace' returned non-zero exit status 1.\r\n",
      "\r\n",
      "Compiling [5/11]: SLIM_BPR_Cython_Epoch.pyx... \r\n",
      "warning: SLIM_BPR_Cython_Epoch.pyx:24:0: The 'IF' statement is deprecated and will be removed in a future Cython version. Consider using runtime conditions or C macros instead. See https://github.com/cython/cython/issues/4310\r\n",
      "warning: SLIM_BPR_Cython_Epoch.pyx:632:34: Non-trivial type declarators in shared declaration (e.g. mix of pointers and values). Each pointer declaration should be on its own line.\r\n",
      "warning: SLIM_BPR_Cython_Epoch.pyx:632:66: Non-trivial type declarators in shared declaration (e.g. mix of pointers and values). Each pointer declaration should be on its own line.\r\n",
      "warning: SLIM_BPR_Cython_Epoch.pyx:817:35: Non-trivial type declarators in shared declaration (e.g. mix of pointers and values). Each pointer declaration should be on its own line.\r\n",
      "warning: SLIM_BPR_Cython_Epoch.pyx:817:52: Non-trivial type declarators in shared declaration (e.g. mix of pointers and values). Each pointer declaration should be on its own line.\r\n",
      "warning: SLIM_BPR_Cython_Epoch.pyx:916:35: Non-trivial type declarators in shared declaration (e.g. mix of pointers and values). Each pointer declaration should be on its own line.\r\n",
      "warning: SLIM_BPR_Cython_Epoch.pyx:916:53: Non-trivial type declarators in shared declaration (e.g. mix of pointers and values). Each pointer declaration should be on its own line.\r\n",
      "warning: SLIM_BPR_Cython_Epoch.pyx:916:69: Non-trivial type declarators in shared declaration (e.g. mix of pointers and values). Each pointer declaration should be on its own line.\r\n",
      "warning: SLIM_BPR_Cython_Epoch.pyx:1051:35: Non-trivial type declarators in shared declaration (e.g. mix of pointers and values). Each pointer declaration should be on its own line.\r\n",
      "warning: SLIM_BPR_Cython_Epoch.pyx:1051:42: Non-trivial type declarators in shared declaration (e.g. mix of pointers and values). Each pointer declaration should be on its own line.\r\n",
      "warning: SLIM_BPR_Cython_Epoch.pyx:1052:35: Non-trivial type declarators in shared declaration (e.g. mix of pointers and values). Each pointer declaration should be on its own line.\r\n",
      "warning: SLIM_BPR_Cython_Epoch.pyx:1052:53: Non-trivial type declarators in shared declaration (e.g. mix of pointers and values). Each pointer declaration should be on its own line.\r\n",
      "\r\n",
      "Error compiling Cython file:\r\n",
      "------------------------------------------------------------\r\n",
      "...\r\n",
      "            vector_pointer_to_list_elements[index].head = current_element\r\n",
      "            current_element = current_element.higher\r\n",
      "\r\n",
      "\r\n",
      "        # Sort array elements on their data field\r\n",
      "        qsort(vector_pointer_to_list_elements, list_length, sizeof(head_pointer_tree_s), compare_struct_on_data)\r\n",
      "                                                                                         ^\r\n",
      "------------------------------------------------------------\r\n",
      "\r\n",
      "SLIM_BPR_Cython_Epoch.pyx:990:89: Cannot assign type 'int (const void *, const void *) except? -1' to 'int (*)(const_void *, const_void *) noexcept'. Exception values are incompatible. Suggest adding 'noexcept' to the type of 'compare_struct_on_data'.\r\n",
      "\r\n",
      "Error compiling Cython file:\r\n",
      "------------------------------------------------------------\r\n",
      "...\r\n",
      "        # Sort array elements on their data field\r\n",
      "        qsort(vector_pointer_to_list_elements, list_length, sizeof(head_pointer_tree_s), compare_struct_on_data)\r\n",
      "\r\n",
      "        # Sort only the TopK according to their column field\r\n",
      "        # Sort is from lower to higher, therefore the elements to be considered are from len-topK to len\r\n",
      "        qsort(&vector_pointer_to_list_elements[list_length-TopK], TopK, sizeof(head_pointer_tree_s), compare_struct_on_column)\r\n",
      "                                                                                                     ^\r\n",
      "------------------------------------------------------------\r\n",
      "\r\n",
      "SLIM_BPR_Cython_Epoch.pyx:994:101: Cannot assign type 'int (const void *, const void *) except? -1' to 'int (*)(const_void *, const_void *) noexcept'. Exception values are incompatible. Suggest adding 'noexcept' to the type of 'compare_struct_on_column'.\r\n",
      "Traceback (most recent call last):\r\n",
      "  File \"/kaggle/working/RECsys_Challenge2024/CythonCompiler/compile_script.py\", line 48, in <module>\r\n",
      "    setup(\r\n",
      "  File \"/usr/local/lib/python3.10/dist-packages/setuptools/__init__.py\", line 108, in setup\r\n",
      "    return distutils.core.setup(**attrs)\r\n",
      "  File \"/usr/local/lib/python3.10/dist-packages/setuptools/_distutils/core.py\", line 184, in setup\r\n",
      "    return run_commands(dist)\r\n",
      "  File \"/usr/local/lib/python3.10/dist-packages/setuptools/_distutils/core.py\", line 200, in run_commands\r\n",
      "    dist.run_commands()\r\n",
      "  File \"/usr/local/lib/python3.10/dist-packages/setuptools/_distutils/dist.py\", line 970, in run_commands\r\n",
      "    self.run_command(cmd)\r\n",
      "  File \"/usr/local/lib/python3.10/dist-packages/setuptools/dist.py\", line 956, in run_command\r\n",
      "    super().run_command(command)\r\n",
      "  File \"/usr/local/lib/python3.10/dist-packages/setuptools/_distutils/dist.py\", line 989, in run_command\r\n",
      "    cmd_obj.run()\r\n",
      "  File \"/usr/local/lib/python3.10/dist-packages/setuptools/_distutils/command/build_ext.py\", line 359, in run\r\n",
      "    self.build_extensions()\r\n",
      "  File \"/usr/local/lib/python3.10/dist-packages/setuptools/_distutils/command/build_ext.py\", line 479, in build_extensions\r\n",
      "    self._build_extensions_serial()\r\n",
      "  File \"/usr/local/lib/python3.10/dist-packages/setuptools/_distutils/command/build_ext.py\", line 505, in _build_extensions_serial\r\n",
      "    self.build_extension(ext)\r\n",
      "  File \"/usr/local/lib/python3.10/dist-packages/Cython/Distutils/build_ext.py\", line 130, in build_extension\r\n",
      "    new_ext = cythonize(\r\n",
      "  File \"/usr/local/lib/python3.10/dist-packages/Cython/Build/Dependencies.py\", line 1154, in cythonize\r\n",
      "    cythonize_one(*args)\r\n",
      "  File \"/usr/local/lib/python3.10/dist-packages/Cython/Build/Dependencies.py\", line 1321, in cythonize_one\r\n",
      "    raise CompileError(None, pyx_file)\r\n",
      "Cython.Compiler.Errors.CompileError: SLIM_BPR_Cython_Epoch.pyx\r\n",
      "Traceback (most recent call last):\r\n",
      "  File \"/kaggle/working/RECsys_Challenge2024/run_compile_all_cython.py\", line 60, in <module>\r\n",
      "    run_compile_subprocess(file_path, [file_name])\r\n",
      "  File \"/kaggle/working/RECsys_Challenge2024/CythonCompiler/run_compile_subprocess.py\", line 51, in run_compile_subprocess\r\n",
      "    raise exc\r\n",
      "  File \"/kaggle/working/RECsys_Challenge2024/CythonCompiler/run_compile_subprocess.py\", line 32, in run_compile_subprocess\r\n",
      "    output = subprocess.check_output(' '.join(command),\r\n",
      "  File \"/usr/lib/python3.10/subprocess.py\", line 421, in check_output\r\n",
      "    return run(*popenargs, stdout=PIPE, timeout=timeout, check=True,\r\n",
      "  File \"/usr/lib/python3.10/subprocess.py\", line 526, in run\r\n",
      "    raise CalledProcessError(retcode, process.args,\r\n",
      "subprocess.CalledProcessError: Command '/usr/bin/python3 /kaggle/working/RECsys_Challenge2024/CythonCompiler/compile_script.py SLIM_BPR_Cython_Epoch.pyx build_ext --inplace' returned non-zero exit status 1.\r\n",
      "Compiling [5/11]: SLIM_BPR_Cython_Epoch.pyx... FAIL: Command '/usr/bin/python3 /kaggle/working/RECsys_Challenge2024/CythonCompiler/compile_script.py SLIM_BPR_Cython_Epoch.pyx build_ext --inplace' returned non-zero exit status 1.\r\n",
      "\r\n",
      "Compiling [6/11]: Triangular_Matrix.pyx... \r\n",
      "warning: Triangular_Matrix.pyx:22:0: The 'IF' statement is deprecated and will be removed in a future Cython version. Consider using runtime conditions or C macros instead. See https://github.com/cython/cython/issues/4310\r\n",
      "In file included from \u001b[01m\u001b[K/usr/local/lib/python3.10/dist-packages/numpy/core/include/numpy/ndarraytypes.h:1929\u001b[m\u001b[K,\r\n",
      "                 from \u001b[01m\u001b[K/usr/local/lib/python3.10/dist-packages/numpy/core/include/numpy/ndarrayobject.h:12\u001b[m\u001b[K,\r\n",
      "                 from \u001b[01m\u001b[K/usr/local/lib/python3.10/dist-packages/numpy/core/include/numpy/arrayobject.h:5\u001b[m\u001b[K,\r\n",
      "                 from \u001b[01m\u001b[KTriangular_Matrix.c:1252\u001b[m\u001b[K:\r\n",
      "\u001b[01m\u001b[K/usr/local/lib/python3.10/dist-packages/numpy/core/include/numpy/npy_1_7_deprecated_api.h:17:2:\u001b[m\u001b[K \u001b[01;35m\u001b[Kwarning: \u001b[m\u001b[K#warning \"Using deprecated NumPy API, disable it with \" \"#define NPY_NO_DEPRECATED_API NPY_1_7_API_VERSION\" [\u001b[01;35m\u001b[K\u001b]8;;https://gcc.gnu.org/onlinedocs/gcc/Warning-Options.html#index-Wcpp\u0007-Wcpp\u001b]8;;\u0007\u001b[m\u001b[K]\r\n",
      "   17 | #\u001b[01;35m\u001b[Kwarning\u001b[m\u001b[K \"Using deprecated NumPy API, disable it with \" \\\r\n",
      "      |  \u001b[01;35m\u001b[K^~~~~~~\u001b[m\u001b[K\r\n",
      "In function ‘\u001b[01m\u001b[K__pyx_pf_17Triangular_Matrix_17Triangular_Matrix___init__\u001b[m\u001b[K’,\r\n",
      "    inlined from ‘\u001b[01m\u001b[K__pyx_pw_17Triangular_Matrix_17Triangular_Matrix_1__init__\u001b[m\u001b[K’ at \u001b[01m\u001b[KTriangular_Matrix.c:5541:13\u001b[m\u001b[K:\r\n",
      "\u001b[01m\u001b[KTriangular_Matrix.c:5599:43:\u001b[m\u001b[K \u001b[01;35m\u001b[Kwarning: \u001b[m\u001b[Kargument 1 value ‘\u001b[01m\u001b[K18446744073709551608\u001b[m\u001b[K’ exceeds maximum object size 9223372036854775807 [\u001b[01;35m\u001b[K\u001b]8;;https://gcc.gnu.org/onlinedocs/gcc/Warning-Options.html#index-Walloc-size-larger-than=\u0007-Walloc-size-larger-than=\u001b]8;;\u0007\u001b[m\u001b[K]\r\n",
      " 5599 |   __pyx_v_self->row_pointer = ((double **)\u001b[01;35m\u001b[Kmalloc((__pyx_v_self->num_rows * (sizeof(double *))))\u001b[m\u001b[K);\r\n",
      "      |                                           \u001b[01;35m\u001b[K^~~~~~~~~~~~~~~~~~~~~~~~~~~~~~~~~~~~~~~~~~~~~~~~~~~~~\u001b[m\u001b[K\r\n",
      "In file included from \u001b[01m\u001b[K/usr/include/python3.10/Python.h:34\u001b[m\u001b[K,\r\n",
      "                 from \u001b[01m\u001b[KTriangular_Matrix.c:41\u001b[m\u001b[K:\r\n",
      "\u001b[01m\u001b[KTriangular_Matrix.c:\u001b[m\u001b[K In function ‘\u001b[01m\u001b[K__pyx_pw_17Triangular_Matrix_17Triangular_Matrix_1__init__\u001b[m\u001b[K’:\r\n",
      "\u001b[01m\u001b[K/usr/include/stdlib.h:540:14:\u001b[m\u001b[K \u001b[01;36m\u001b[Knote: \u001b[m\u001b[Kin a call to allocation function ‘\u001b[01m\u001b[Kmalloc\u001b[m\u001b[K’ declared here\r\n",
      "  540 | extern void *\u001b[01;36m\u001b[Kmalloc\u001b[m\u001b[K (size_t __size) __THROW __attribute_malloc__\r\n",
      "      |              \u001b[01;36m\u001b[K^~~~~~\u001b[m\u001b[K\r\n",
      "/usr/local/lib/python3.10/dist-packages/Cython/Compiler/Main.py:381: FutureWarning: Cython directive 'language_level' not set, using '3str' for now (Py3). This has changed from earlier releases! File: /kaggle/working/RECsys_Challenge2024/Recommenders/SLIM/Cython/Triangular_Matrix.pyx\r\n",
      "  tree = Parsing.p_module(s, pxd, full_module_name)\r\n",
      "warning: Triangular_Matrix.pyx:22:0: The 'IF' statement is deprecated and will be removed in a future Cython version. Consider using runtime conditions or C macros instead. See https://github.com/cython/cython/issues/4310\r\n",
      "Compiling [6/11]: Triangular_Matrix.pyx... PASS\r\n",
      "\r\n",
      "Compiling [7/11]: HP3_Similarity_Cython_SGD.pyx... \r\n",
      "performance hint: HP3_Similarity_Cython_SGD.pyx:113:40: Index should be typed for more efficient access\r\n",
      "performance hint: HP3_Similarity_Cython_SGD.pyx:114:40: Index should be typed for more efficient access\r\n",
      "In file included from \u001b[01m\u001b[K/usr/local/lib/python3.10/dist-packages/numpy/core/include/numpy/ndarraytypes.h:1929\u001b[m\u001b[K,\r\n",
      "                 from \u001b[01m\u001b[K/usr/local/lib/python3.10/dist-packages/numpy/core/include/numpy/ndarrayobject.h:12\u001b[m\u001b[K,\r\n",
      "                 from \u001b[01m\u001b[K/usr/local/lib/python3.10/dist-packages/numpy/core/include/numpy/arrayobject.h:5\u001b[m\u001b[K,\r\n",
      "                 from \u001b[01m\u001b[KHP3_Similarity_Cython_SGD.c:1252\u001b[m\u001b[K:\r\n",
      "\u001b[01m\u001b[K/usr/local/lib/python3.10/dist-packages/numpy/core/include/numpy/npy_1_7_deprecated_api.h:17:2:\u001b[m\u001b[K \u001b[01;35m\u001b[Kwarning: \u001b[m\u001b[K#warning \"Using deprecated NumPy API, disable it with \" \"#define NPY_NO_DEPRECATED_API NPY_1_7_API_VERSION\" [\u001b[01;35m\u001b[K\u001b]8;;https://gcc.gnu.org/onlinedocs/gcc/Warning-Options.html#index-Wcpp\u0007-Wcpp\u001b]8;;\u0007\u001b[m\u001b[K]\r\n",
      "   17 | #\u001b[01;35m\u001b[Kwarning\u001b[m\u001b[K \"Using deprecated NumPy API, disable it with \" \\\r\n",
      "      |  \u001b[01;35m\u001b[K^~~~~~~\u001b[m\u001b[K\r\n",
      "\u001b[01m\u001b[KHP3_Similarity_Cython_SGD.c:\u001b[m\u001b[K In function ‘\u001b[01m\u001b[K__pyx_pf_25HP3_Similarity_Cython_SGD_25HP3_Similarity_Cython_SGD_4fit\u001b[m\u001b[K’:\r\n",
      "\u001b[01m\u001b[KHP3_Similarity_Cython_SGD.c:23631:55:\u001b[m\u001b[K \u001b[01;35m\u001b[Kwarning: \u001b[m\u001b[K‘\u001b[01m\u001b[K__pyx_v_sample_num\u001b[m\u001b[K’ may be used uninitialized in this function [\u001b[01;35m\u001b[K\u001b]8;;https://gcc.gnu.org/onlinedocs/gcc/Warning-Options.html#index-Wmaybe-uninitialized\u0007-Wmaybe-uninitialized\u001b]8;;\u0007\u001b[m\u001b[K]\r\n",
      "23631 |   __pyx_t_1 = PyFloat_FromDouble((__pyx_v_cum_loss / \u001b[01;35m\u001b[K((double)__pyx_v_sample_num)\u001b[m\u001b[K)); if (unlikely(!__pyx_t_1)) __PYX_ERR(0, 291, __pyx_L1_error)\r\n",
      "      |                                                      \u001b[01;35m\u001b[K~^~~~~~~~~~~~~~~~~~~~~~~~~~~\u001b[m\u001b[K\r\n",
      "/usr/local/lib/python3.10/dist-packages/Cython/Compiler/Main.py:381: FutureWarning: Cython directive 'language_level' not set, using '3str' for now (Py3). This has changed from earlier releases! File: /kaggle/working/RECsys_Challenge2024/Recommenders/FeatureWeighting/Cython/HP3_Similarity_Cython_SGD.pyx\r\n",
      "  tree = Parsing.p_module(s, pxd, full_module_name)\r\n",
      "performance hint: HP3_Similarity_Cython_SGD.pyx:113:40: Index should be typed for more efficient access\r\n",
      "performance hint: HP3_Similarity_Cython_SGD.pyx:114:40: Index should be typed for more efficient access\r\n",
      "Compiling [7/11]: HP3_Similarity_Cython_SGD.pyx... PASS\r\n",
      "\r\n",
      "Compiling [8/11]: CFW_D_Similarity_Cython_SGD.pyx... \r\n",
      "In file included from \u001b[01m\u001b[K/usr/local/lib/python3.10/dist-packages/numpy/core/include/numpy/ndarraytypes.h:1929\u001b[m\u001b[K,\r\n",
      "                 from \u001b[01m\u001b[K/usr/local/lib/python3.10/dist-packages/numpy/core/include/numpy/ndarrayobject.h:12\u001b[m\u001b[K,\r\n",
      "                 from \u001b[01m\u001b[K/usr/local/lib/python3.10/dist-packages/numpy/core/include/numpy/arrayobject.h:5\u001b[m\u001b[K,\r\n",
      "                 from \u001b[01m\u001b[KCFW_D_Similarity_Cython_SGD.c:1252\u001b[m\u001b[K:\r\n",
      "\u001b[01m\u001b[K/usr/local/lib/python3.10/dist-packages/numpy/core/include/numpy/npy_1_7_deprecated_api.h:17:2:\u001b[m\u001b[K \u001b[01;35m\u001b[Kwarning: \u001b[m\u001b[K#warning \"Using deprecated NumPy API, disable it with \" \"#define NPY_NO_DEPRECATED_API NPY_1_7_API_VERSION\" [\u001b[01;35m\u001b[K\u001b]8;;https://gcc.gnu.org/onlinedocs/gcc/Warning-Options.html#index-Wcpp\u0007-Wcpp\u001b]8;;\u0007\u001b[m\u001b[K]\r\n",
      "   17 | #\u001b[01;35m\u001b[Kwarning\u001b[m\u001b[K \"Using deprecated NumPy API, disable it with \" \\\r\n",
      "      |  \u001b[01;35m\u001b[K^~~~~~~\u001b[m\u001b[K\r\n",
      "\u001b[01m\u001b[KCFW_D_Similarity_Cython_SGD.c:\u001b[m\u001b[K In function ‘\u001b[01m\u001b[K__pyx_pf_27CFW_D_Similarity_Cython_SGD_27CFW_D_Similarity_Cython_SGD_6fit\u001b[m\u001b[K’:\r\n",
      "\u001b[01m\u001b[KCFW_D_Similarity_Cython_SGD.c:23373:55:\u001b[m\u001b[K \u001b[01;35m\u001b[Kwarning: \u001b[m\u001b[K‘\u001b[01m\u001b[K__pyx_v_sample_num\u001b[m\u001b[K’ may be used uninitialized in this function [\u001b[01;35m\u001b[K\u001b]8;;https://gcc.gnu.org/onlinedocs/gcc/Warning-Options.html#index-Wmaybe-uninitialized\u0007-Wmaybe-uninitialized\u001b]8;;\u0007\u001b[m\u001b[K]\r\n",
      "23373 |   __pyx_t_3 = PyFloat_FromDouble((__pyx_v_cum_loss / \u001b[01;35m\u001b[K((double)__pyx_v_sample_num)\u001b[m\u001b[K)); if (unlikely(!__pyx_t_3)) __PYX_ERR(0, 290, __pyx_L1_error)\r\n",
      "      |                                                      \u001b[01;35m\u001b[K~^~~~~~~~~~~~~~~~~~~~~~~~~~~\u001b[m\u001b[K\r\n",
      "/usr/local/lib/python3.10/dist-packages/Cython/Compiler/Main.py:381: FutureWarning: Cython directive 'language_level' not set, using '3str' for now (Py3). This has changed from earlier releases! File: /kaggle/working/RECsys_Challenge2024/Recommenders/FeatureWeighting/Cython/CFW_D_Similarity_Cython_SGD.pyx\r\n",
      "  tree = Parsing.p_module(s, pxd, full_module_name)\r\n",
      "Compiling [8/11]: CFW_D_Similarity_Cython_SGD.pyx... PASS\r\n",
      "\r\n",
      "Compiling [9/11]: FBSM_Rating_Cython_SGD.pyx... \r\n",
      "In file included from \u001b[01m\u001b[K/usr/local/lib/python3.10/dist-packages/numpy/core/include/numpy/ndarraytypes.h:1929\u001b[m\u001b[K,\r\n",
      "                 from \u001b[01m\u001b[K/usr/local/lib/python3.10/dist-packages/numpy/core/include/numpy/ndarrayobject.h:12\u001b[m\u001b[K,\r\n",
      "                 from \u001b[01m\u001b[K/usr/local/lib/python3.10/dist-packages/numpy/core/include/numpy/arrayobject.h:5\u001b[m\u001b[K,\r\n",
      "                 from \u001b[01m\u001b[KFBSM_Rating_Cython_SGD.c:1252\u001b[m\u001b[K:\r\n",
      "\u001b[01m\u001b[K/usr/local/lib/python3.10/dist-packages/numpy/core/include/numpy/npy_1_7_deprecated_api.h:17:2:\u001b[m\u001b[K \u001b[01;35m\u001b[Kwarning: \u001b[m\u001b[K#warning \"Using deprecated NumPy API, disable it with \" \"#define NPY_NO_DEPRECATED_API NPY_1_7_API_VERSION\" [\u001b[01;35m\u001b[K\u001b]8;;https://gcc.gnu.org/onlinedocs/gcc/Warning-Options.html#index-Wcpp\u0007-Wcpp\u001b]8;;\u0007\u001b[m\u001b[K]\r\n",
      "   17 | #\u001b[01;35m\u001b[Kwarning\u001b[m\u001b[K \"Using deprecated NumPy API, disable it with \" \\\r\n",
      "      |  \u001b[01;35m\u001b[K^~~~~~~\u001b[m\u001b[K\r\n",
      "\u001b[01m\u001b[KFBSM_Rating_Cython_SGD.c:\u001b[m\u001b[K In function ‘\u001b[01m\u001b[K__pyx_pf_22FBSM_Rating_Cython_SGD_22FBSM_Rating_Cython_SGD_2fit\u001b[m\u001b[K’:\r\n",
      "\u001b[01m\u001b[KFBSM_Rating_Cython_SGD.c:26607:55:\u001b[m\u001b[K \u001b[01;35m\u001b[Kwarning: \u001b[m\u001b[K‘\u001b[01m\u001b[K__pyx_v_num_sample\u001b[m\u001b[K’ may be used uninitialized in this function [\u001b[01;35m\u001b[K\u001b]8;;https://gcc.gnu.org/onlinedocs/gcc/Warning-Options.html#index-Wmaybe-uninitialized\u0007-Wmaybe-uninitialized\u001b]8;;\u0007\u001b[m\u001b[K]\r\n",
      "26607 |   __pyx_t_5 = PyFloat_FromDouble((__pyx_v_cum_loss / \u001b[01;35m\u001b[K((double)__pyx_v_num_sample)\u001b[m\u001b[K)); if (unlikely(!__pyx_t_5)) __PYX_ERR(0, 551, __pyx_L1_error)\r\n",
      "      |                                                      \u001b[01;35m\u001b[K~^~~~~~~~~~~~~~~~~~~~~~~~~~~\u001b[m\u001b[K\r\n",
      "/usr/local/lib/python3.10/dist-packages/Cython/Compiler/Main.py:381: FutureWarning: Cython directive 'language_level' not set, using '3str' for now (Py3). This has changed from earlier releases! File: /kaggle/working/RECsys_Challenge2024/Recommenders/FeatureWeighting/Cython/FBSM_Rating_Cython_SGD.pyx\r\n",
      "  tree = Parsing.p_module(s, pxd, full_module_name)\r\n",
      "Compiling [9/11]: FBSM_Rating_Cython_SGD.pyx... PASS\r\n",
      "\r\n",
      "Compiling [10/11]: CFW_DVV_Similarity_Cython_SGD.pyx... \r\n",
      "In file included from \u001b[01m\u001b[K/usr/local/lib/python3.10/dist-packages/numpy/core/include/numpy/ndarraytypes.h:1929\u001b[m\u001b[K,\r\n",
      "                 from \u001b[01m\u001b[K/usr/local/lib/python3.10/dist-packages/numpy/core/include/numpy/ndarrayobject.h:12\u001b[m\u001b[K,\r\n",
      "                 from \u001b[01m\u001b[K/usr/local/lib/python3.10/dist-packages/numpy/core/include/numpy/arrayobject.h:5\u001b[m\u001b[K,\r\n",
      "                 from \u001b[01m\u001b[KCFW_DVV_Similarity_Cython_SGD.c:1252\u001b[m\u001b[K:\r\n",
      "\u001b[01m\u001b[K/usr/local/lib/python3.10/dist-packages/numpy/core/include/numpy/npy_1_7_deprecated_api.h:17:2:\u001b[m\u001b[K \u001b[01;35m\u001b[Kwarning: \u001b[m\u001b[K#warning \"Using deprecated NumPy API, disable it with \" \"#define NPY_NO_DEPRECATED_API NPY_1_7_API_VERSION\" [\u001b[01;35m\u001b[K\u001b]8;;https://gcc.gnu.org/onlinedocs/gcc/Warning-Options.html#index-Wcpp\u0007-Wcpp\u001b]8;;\u0007\u001b[m\u001b[K]\r\n",
      "   17 | #\u001b[01;35m\u001b[Kwarning\u001b[m\u001b[K \"Using deprecated NumPy API, disable it with \" \\\r\n",
      "      |  \u001b[01;35m\u001b[K^~~~~~~\u001b[m\u001b[K\r\n",
      "/usr/local/lib/python3.10/dist-packages/Cython/Compiler/Main.py:381: FutureWarning: Cython directive 'language_level' not set, using '3str' for now (Py3). This has changed from earlier releases! File: /kaggle/working/RECsys_Challenge2024/Recommenders/FeatureWeighting/Cython/CFW_DVV_Similarity_Cython_SGD.pyx\r\n",
      "  tree = Parsing.p_module(s, pxd, full_module_name)\r\n",
      "Compiling [10/11]: CFW_DVV_Similarity_Cython_SGD.pyx... PASS\r\n",
      "\r\n",
      "Compiling [11/11]: DataIterator.pyx... \r\n",
      "In file included from \u001b[01m\u001b[K/usr/local/lib/python3.10/dist-packages/numpy/core/include/numpy/ndarraytypes.h:1929\u001b[m\u001b[K,\r\n",
      "                 from \u001b[01m\u001b[K/usr/local/lib/python3.10/dist-packages/numpy/core/include/numpy/ndarrayobject.h:12\u001b[m\u001b[K,\r\n",
      "                 from \u001b[01m\u001b[K/usr/local/lib/python3.10/dist-packages/numpy/core/include/numpy/arrayobject.h:5\u001b[m\u001b[K,\r\n",
      "                 from \u001b[01m\u001b[KDataIterator.c:1252\u001b[m\u001b[K:\r\n",
      "\u001b[01m\u001b[K/usr/local/lib/python3.10/dist-packages/numpy/core/include/numpy/npy_1_7_deprecated_api.h:17:2:\u001b[m\u001b[K \u001b[01;35m\u001b[Kwarning: \u001b[m\u001b[K#warning \"Using deprecated NumPy API, disable it with \" \"#define NPY_NO_DEPRECATED_API NPY_1_7_API_VERSION\" [\u001b[01;35m\u001b[K\u001b]8;;https://gcc.gnu.org/onlinedocs/gcc/Warning-Options.html#index-Wcpp\u0007-Wcpp\u001b]8;;\u0007\u001b[m\u001b[K]\r\n",
      "   17 | #\u001b[01;35m\u001b[Kwarning\u001b[m\u001b[K \"Using deprecated NumPy API, disable it with \" \\\r\n",
      "      |  \u001b[01;35m\u001b[K^~~~~~~\u001b[m\u001b[K\r\n",
      "\u001b[01m\u001b[KDataIterator.c:\u001b[m\u001b[K In function ‘\u001b[01m\u001b[K__pyx_pf_12DataIterator_19InteractionIterator_6__next__\u001b[m\u001b[K’:\r\n",
      "\u001b[01m\u001b[KDataIterator.c:20937:22:\u001b[m\u001b[K \u001b[01;35m\u001b[Kwarning: \u001b[m\u001b[K‘\u001b[01m\u001b[K__pyx_v_i_batch\u001b[m\u001b[K’ may be used uninitialized in this function [\u001b[01;35m\u001b[K\u001b]8;;https://gcc.gnu.org/onlinedocs/gcc/Warning-Options.html#index-Wmaybe-uninitialized\u0007-Wmaybe-uninitialized\u001b]8;;\u0007\u001b[m\u001b[K]\r\n",
      "20937 |     (__pyx_v_i_batch \u001b[01;35m\u001b[K+\u001b[m\u001b[K 1),\r\n",
      "      |                      \u001b[01;35m\u001b[K^\u001b[m\u001b[K\r\n",
      "\u001b[01m\u001b[KDataIterator.c:\u001b[m\u001b[K In function ‘\u001b[01m\u001b[K__pyx_pf_12DataIterator_30InteractionAndNegativeIterator_6__next__\u001b[m\u001b[K’:\r\n",
      "\u001b[01m\u001b[KDataIterator.c:25499:22:\u001b[m\u001b[K \u001b[01;35m\u001b[Kwarning: \u001b[m\u001b[K‘\u001b[01m\u001b[K__pyx_v_i_batch\u001b[m\u001b[K’ may be used uninitialized in this function [\u001b[01;35m\u001b[K\u001b]8;;https://gcc.gnu.org/onlinedocs/gcc/Warning-Options.html#index-Wmaybe-uninitialized\u0007-Wmaybe-uninitialized\u001b]8;;\u0007\u001b[m\u001b[K]\r\n",
      "25499 |     (__pyx_v_i_batch \u001b[01;35m\u001b[K+\u001b[m\u001b[K 1),\r\n",
      "      |                      \u001b[01;35m\u001b[K^\u001b[m\u001b[K\r\n",
      "\u001b[01m\u001b[KDataIterator.c:\u001b[m\u001b[K In function ‘\u001b[01m\u001b[K__pyx_pf_12DataIterator_11BPRIterator_6__next__\u001b[m\u001b[K’:\r\n",
      "\u001b[01m\u001b[KDataIterator.c:23056:22:\u001b[m\u001b[K \u001b[01;35m\u001b[Kwarning: \u001b[m\u001b[K‘\u001b[01m\u001b[K__pyx_v_i_batch\u001b[m\u001b[K’ may be used uninitialized in this function [\u001b[01;35m\u001b[K\u001b]8;;https://gcc.gnu.org/onlinedocs/gcc/Warning-Options.html#index-Wmaybe-uninitialized\u0007-Wmaybe-uninitialized\u001b]8;;\u0007\u001b[m\u001b[K]\r\n",
      "23056 |     (__pyx_v_i_batch \u001b[01;35m\u001b[K+\u001b[m\u001b[K 1),\r\n",
      "      |                      \u001b[01;35m\u001b[K^\u001b[m\u001b[K\r\n",
      "/usr/local/lib/python3.10/dist-packages/Cython/Compiler/Main.py:381: FutureWarning: Cython directive 'language_level' not set, using '3str' for now (Py3). This has changed from earlier releases! File: /kaggle/working/RECsys_Challenge2024/Utils/PyTorch/Cython/DataIterator.pyx\r\n",
      "  tree = Parsing.p_module(s, pxd, full_module_name)\r\n",
      "Compiling [11/11]: DataIterator.pyx... PASS\r\n",
      "\r\n",
      "run_compile_all_cython: Compilation finished. FAILS 2/11.\r\n",
      "Compilation log can be found here: './result_experiments/run_compile_all_cython.txt'\r\n"
     ]
    }
   ],
   "source": [
    "%cd /kaggle/working/RECsys_Challenge2024 \n",
    "! python run_compile_all_cython.py"
   ]
  },
  {
   "cell_type": "code",
   "execution_count": 5,
   "id": "5f098841",
   "metadata": {
    "execution": {
     "iopub.execute_input": "2025-01-02T01:15:16.243664Z",
     "iopub.status.busy": "2025-01-02T01:15:16.243228Z",
     "iopub.status.idle": "2025-01-02T01:15:17.545811Z",
     "shell.execute_reply": "2025-01-02T01:15:17.545025Z"
    },
    "papermill": {
     "duration": 1.320121,
     "end_time": "2025-01-02T01:15:17.547528",
     "exception": false,
     "start_time": "2025-01-02T01:15:16.227407",
     "status": "completed"
    },
    "tags": []
   },
   "outputs": [],
   "source": [
    "from Utils.notebookFunctions import *\n",
    "import numpy as np\n",
    "import pandas as pd\n",
    "import scipy.sparse as sps\n",
    "import time\n",
    "import shutil\n",
    "import optuna\n",
    "import json\n",
    "import os\n",
    "from Utils.seconds_to_biggest_unit import seconds_to_biggest_unit\n",
    "\n",
    "\n",
    "K_PATH = '/kaggle/working/RECsys_Challenge2024'\n",
    "GH_PATH = 'TrainedModels/WithoutKFCV/Hybrid'\n",
    "\n",
    "np.random.seed(42)"
   ]
  },
  {
   "cell_type": "markdown",
   "id": "acf106c6",
   "metadata": {
    "papermill": {
     "duration": 0.013606,
     "end_time": "2025-01-02T01:15:17.575427",
     "exception": false,
     "start_time": "2025-01-02T01:15:17.561821",
     "status": "completed"
    },
    "tags": []
   },
   "source": [
    "## Import the repository"
   ]
  },
  {
   "cell_type": "code",
   "execution_count": 6,
   "id": "e60bde6b",
   "metadata": {
    "execution": {
     "iopub.execute_input": "2025-01-02T01:15:17.604901Z",
     "iopub.status.busy": "2025-01-02T01:15:17.604387Z",
     "iopub.status.idle": "2025-01-02T01:15:18.123773Z",
     "shell.execute_reply": "2025-01-02T01:15:18.122672Z"
    },
    "papermill": {
     "duration": 0.535698,
     "end_time": "2025-01-02T01:15:18.125430",
     "exception": false,
     "start_time": "2025-01-02T01:15:17.589732",
     "status": "completed"
    },
    "tags": []
   },
   "outputs": [
    {
     "name": "stdout",
     "output_type": "stream",
     "text": [
      "Repository 'RECsys_Challenge2024' found.\n"
     ]
    }
   ],
   "source": [
    "repo = get_repo_from_github(token)"
   ]
  },
  {
   "cell_type": "code",
   "execution_count": 7,
   "id": "e4168a4f",
   "metadata": {
    "execution": {
     "iopub.execute_input": "2025-01-02T01:15:18.158595Z",
     "iopub.status.busy": "2025-01-02T01:15:18.158204Z",
     "iopub.status.idle": "2025-01-02T01:15:18.162877Z",
     "shell.execute_reply": "2025-01-02T01:15:18.161843Z"
    },
    "papermill": {
     "duration": 0.024224,
     "end_time": "2025-01-02T01:15:18.164527",
     "exception": false,
     "start_time": "2025-01-02T01:15:18.140303",
     "status": "completed"
    },
    "tags": []
   },
   "outputs": [],
   "source": [
    "config = {\n",
    "    'model': 'RP3betaHybrid',\n",
    "    'metric': 'MAP',\n",
    "    'tune_parameters': True,\n",
    "    'database_path': '/kaggle/working/history_RP3betaHybrid_MAP.db',\n",
    "    'copy_prev_best_params': False,\n",
    "    'tune_best_params': True,\n",
    "    'save_github': True\n",
    "}"
   ]
  },
  {
   "cell_type": "markdown",
   "id": "d26c4462",
   "metadata": {
    "papermill": {
     "duration": 0.013963,
     "end_time": "2025-01-02T01:15:18.192876",
     "exception": false,
     "start_time": "2025-01-02T01:15:18.178913",
     "status": "completed"
    },
    "tags": []
   },
   "source": [
    "Import the database where previous tuning trials have been saved."
   ]
  },
  {
   "cell_type": "code",
   "execution_count": 8,
   "id": "2db4102a",
   "metadata": {
    "execution": {
     "iopub.execute_input": "2025-01-02T01:15:18.222524Z",
     "iopub.status.busy": "2025-01-02T01:15:18.222118Z",
     "iopub.status.idle": "2025-01-02T01:15:18.226918Z",
     "shell.execute_reply": "2025-01-02T01:15:18.226068Z"
    },
    "papermill": {
     "duration": 0.021422,
     "end_time": "2025-01-02T01:15:18.228436",
     "exception": false,
     "start_time": "2025-01-02T01:15:18.207014",
     "status": "completed"
    },
    "tags": []
   },
   "outputs": [],
   "source": [
    "try:\n",
    "    shutil.copyfile(\n",
    "        f'{K_PATH}/{GH_PATH}/{config[\"model\"]}Recommender/Optimizing{config[\"metric\"]}/history_{config[\"model\"]}_{config[\"metric\"]}.db', \n",
    "        config['database_path']\n",
    "    )\n",
    "except FileNotFoundError:\n",
    "    pass # if not present optuna will create it"
   ]
  },
  {
   "cell_type": "markdown",
   "id": "960da373",
   "metadata": {
    "papermill": {
     "duration": 0.013802,
     "end_time": "2025-01-02T01:15:18.256860",
     "exception": false,
     "start_time": "2025-01-02T01:15:18.243058",
     "status": "completed"
    },
    "tags": []
   },
   "source": [
    "# Construction of URM and ICM matrices"
   ]
  },
  {
   "cell_type": "code",
   "execution_count": 9,
   "id": "3ccfddbb",
   "metadata": {
    "execution": {
     "iopub.execute_input": "2025-01-02T01:15:18.286050Z",
     "iopub.status.busy": "2025-01-02T01:15:18.285717Z",
     "iopub.status.idle": "2025-01-02T01:15:19.090486Z",
     "shell.execute_reply": "2025-01-02T01:15:19.089392Z"
    },
    "papermill": {
     "duration": 0.821268,
     "end_time": "2025-01-02T01:15:19.092142",
     "exception": false,
     "start_time": "2025-01-02T01:15:18.270874",
     "status": "completed"
    },
    "tags": []
   },
   "outputs": [
    {
     "data": {
      "text/plain": [
       "<35736x38121 sparse matrix of type '<class 'numpy.float64'>'\n",
       "\twith 1764607 stored elements in Compressed Sparse Row format>"
      ]
     },
     "execution_count": 9,
     "metadata": {},
     "output_type": "execute_result"
    }
   ],
   "source": [
    "URM_all_dataframe = pd.read_csv(\"/kaggle/input/recommender-system-2024-challenge-polimi/data_train.csv\")\n",
    "\n",
    "n_users = len(URM_all_dataframe[\"user_id\"].unique())\n",
    "n_items = len(URM_all_dataframe[\"item_id\"].unique())\n",
    "\n",
    "URM_all = sps.csr_matrix((URM_all_dataframe[\"data\"].values, \n",
    "                          (URM_all_dataframe[\"user_id\"].values, URM_all_dataframe[\"item_id\"].values)),\n",
    "                        shape = (n_users, n_items))\n",
    "\n",
    "URM_all"
   ]
  },
  {
   "cell_type": "code",
   "execution_count": 10,
   "id": "04a43a33",
   "metadata": {
    "execution": {
     "iopub.execute_input": "2025-01-02T01:15:19.123053Z",
     "iopub.status.busy": "2025-01-02T01:15:19.122704Z",
     "iopub.status.idle": "2025-01-02T01:15:20.340885Z",
     "shell.execute_reply": "2025-01-02T01:15:20.339854Z"
    },
    "papermill": {
     "duration": 1.235612,
     "end_time": "2025-01-02T01:15:20.342580",
     "exception": false,
     "start_time": "2025-01-02T01:15:19.106968",
     "status": "completed"
    },
    "tags": []
   },
   "outputs": [
    {
     "data": {
      "text/plain": [
       "<38121x94331 sparse matrix of type '<class 'numpy.float64'>'\n",
       "\twith 2940040 stored elements in Compressed Sparse Row format>"
      ]
     },
     "execution_count": 10,
     "metadata": {},
     "output_type": "execute_result"
    }
   ],
   "source": [
    "ICM_dataframe = pd.read_csv(\"/kaggle/input/recommender-system-2024-challenge-polimi/data_ICM_metadata.csv\")\n",
    "\n",
    "n_items = len(ICM_dataframe[\"item_id\"].unique())\n",
    "n_features = len(ICM_dataframe[\"feature_id\"].unique())\n",
    "\n",
    "ICM_all = sps.csr_matrix((ICM_dataframe[\"data\"].values, \n",
    "                          (ICM_dataframe[\"item_id\"].values, ICM_dataframe[\"feature_id\"].values)),\n",
    "                        shape = (n_items, n_features))\n",
    "\n",
    "ICM_all"
   ]
  },
  {
   "cell_type": "markdown",
   "id": "5b02b0df",
   "metadata": {
    "papermill": {
     "duration": 0.014747,
     "end_time": "2025-01-02T01:15:20.372068",
     "exception": false,
     "start_time": "2025-01-02T01:15:20.357321",
     "status": "completed"
    },
    "tags": []
   },
   "source": [
    "# Training"
   ]
  },
  {
   "cell_type": "code",
   "execution_count": 11,
   "id": "ccfd2758",
   "metadata": {
    "execution": {
     "iopub.execute_input": "2025-01-02T01:15:20.411487Z",
     "iopub.status.busy": "2025-01-02T01:15:20.411068Z",
     "iopub.status.idle": "2025-01-02T01:15:23.524775Z",
     "shell.execute_reply": "2025-01-02T01:15:23.523556Z"
    },
    "papermill": {
     "duration": 3.135529,
     "end_time": "2025-01-02T01:15:23.526372",
     "exception": false,
     "start_time": "2025-01-02T01:15:20.390843",
     "status": "completed"
    },
    "tags": []
   },
   "outputs": [
    {
     "name": "stdout",
     "output_type": "stream",
     "text": [
      "Warning: 141 (0.39 %) of 35736 users have no sampled items\n",
      "EvaluatorHoldout: Ignoring 141 ( 0.4%) Users that have less than 1 test interactions\n"
     ]
    }
   ],
   "source": [
    "from Evaluation.Evaluator import EvaluatorHoldout\n",
    "from Data_manager.split_functions.split_train_validation_random_holdout import split_train_in_two_percentage_global_sample\n",
    "\n",
    "URM_train, URM_validation = split_train_in_two_percentage_global_sample(URM_all, train_percentage = 0.80)\n",
    "\n",
    "evaluator_validation = EvaluatorHoldout(URM_validation, cutoff_list=[10])"
   ]
  },
  {
   "cell_type": "code",
   "execution_count": 12,
   "id": "45e7761a",
   "metadata": {
    "execution": {
     "iopub.execute_input": "2025-01-02T01:15:23.559184Z",
     "iopub.status.busy": "2025-01-02T01:15:23.558843Z",
     "iopub.status.idle": "2025-01-02T01:16:34.886434Z",
     "shell.execute_reply": "2025-01-02T01:16:34.885283Z"
    },
    "papermill": {
     "duration": 71.346747,
     "end_time": "2025-01-02T01:16:34.888369",
     "exception": false,
     "start_time": "2025-01-02T01:15:23.541622",
     "status": "completed"
    },
    "tags": []
   },
   "outputs": [
    {
     "name": "stdout",
     "output_type": "stream",
     "text": [
      "RP3betaRecommender: Similarity column 38121 (100.0%), 2198.62 column/sec. Elapsed time 17.34 sec\n",
      "RP3betaRecommender: Similarity column 38121 (100.0%), 752.74 column/sec. Elapsed time 50.64 sec\n"
     ]
    }
   ],
   "source": [
    "from Recommenders.GraphBased.RP3betaRecommender import RP3betaRecommender\n",
    "\n",
    "with open(f'{K_PATH}/TrainedModels/WithoutKFCV/GraphBased/RP3betaRecommender/Optimizing{config[\"metric\"]}/best_params_RP3beta_{config[\"metric\"]}.json', 'r') as best_params_json:\n",
    "            best_params = json.load(best_params_json)\n",
    "\n",
    "rp3beta_recommender = RP3betaRecommender(URM_train)\n",
    "rp3beta_recommender.fit(**best_params)\n",
    "\n",
    "with open(f'{K_PATH}/TrainedModels/WithoutKFCV/GraphBased/RP3betaICMRecommender/Optimizing{config[\"metric\"]}/best_params_RP3betaICM_{config[\"metric\"]}.json', 'r') as best_params_json:\n",
    "            best_params = json.load(best_params_json)\n",
    "\n",
    "rp3beta_icm_recommender = RP3betaRecommender(ICM_all.T)\n",
    "rp3beta_icm_recommender.fit(**best_params)"
   ]
  },
  {
   "cell_type": "code",
   "execution_count": 13,
   "id": "8ea2f5cb",
   "metadata": {
    "execution": {
     "iopub.execute_input": "2025-01-02T01:16:34.919917Z",
     "iopub.status.busy": "2025-01-02T01:16:34.919325Z",
     "iopub.status.idle": "2025-01-02T01:16:34.926503Z",
     "shell.execute_reply": "2025-01-02T01:16:34.925524Z"
    },
    "papermill": {
     "duration": 0.024444,
     "end_time": "2025-01-02T01:16:34.928065",
     "exception": false,
     "start_time": "2025-01-02T01:16:34.903621",
     "status": "completed"
    },
    "tags": []
   },
   "outputs": [],
   "source": [
    "from Recommenders.KNN.ItemKNNCustomSimilarityRecommender import ItemKNNCustomSimilarityRecommender\n",
    "from sklearn.preprocessing import normalize\n",
    "\n",
    "def objective_function_RP3betaHybrid(optuna_trial):\n",
    "    \n",
    "    icm_weight = optuna_trial.suggest_float(\"icm_weight\", 0.0, 1.0)\n",
    "\n",
    "    # Normalize and combine weight matrices\n",
    "    normalized_rp3beta = normalize(rp3beta_recommender.W_sparse, norm='l1', axis=1)\n",
    "    normalized_rp3beta_icm = normalize(rp3beta_icm_recommender.W_sparse, norm='l1', axis=1)\n",
    "    custom_similarity = normalized_rp3beta + icm_weight * normalized_rp3beta_icm\n",
    "    \n",
    "    recommender_instance = ItemKNNCustomSimilarityRecommender(URM_train)\n",
    "    recommender_instance.fit(custom_similarity)\n",
    "    \n",
    "    result_df, _ = evaluator_validation.evaluateRecommender(recommender_instance)\n",
    "    \n",
    "    return result_df.loc[10][\"MAP\"]"
   ]
  },
  {
   "cell_type": "code",
   "execution_count": 14,
   "id": "6e64f0f6",
   "metadata": {
    "_kg_hide-output": true,
    "execution": {
     "iopub.execute_input": "2025-01-02T01:16:34.959035Z",
     "iopub.status.busy": "2025-01-02T01:16:34.958709Z",
     "iopub.status.idle": "2025-01-02T04:51:53.804030Z",
     "shell.execute_reply": "2025-01-02T04:51:53.803081Z"
    },
    "papermill": {
     "duration": 12918.878667,
     "end_time": "2025-01-02T04:51:53.821846",
     "exception": false,
     "start_time": "2025-01-02T01:16:34.943179",
     "status": "completed"
    },
    "tags": []
   },
   "outputs": [
    {
     "name": "stderr",
     "output_type": "stream",
     "text": [
      "[I 2025-01-02 01:16:36,124] A new study created in RDB with name: hyperparameters_tuning_RP3betaHybrid_MAP\n"
     ]
    },
    {
     "name": "stdout",
     "output_type": "stream",
     "text": [
      "EvaluatorHoldout: Processed 35595 (100.0%) in 31.93 sec. Users per second: 1115\n"
     ]
    },
    {
     "name": "stderr",
     "output_type": "stream",
     "text": [
      "[I 2025-01-02 01:17:08,222] Trial 0 finished with value: 0.044341721349305176 and parameters: {'icm_weight': 0.2641917415710384}. Best is trial 0 with value: 0.044341721349305176.\n"
     ]
    },
    {
     "name": "stdout",
     "output_type": "stream",
     "text": [
      "EvaluatorHoldout: Processed 35595 (100.0%) in 31.76 sec. Users per second: 1121\n"
     ]
    },
    {
     "name": "stderr",
     "output_type": "stream",
     "text": [
      "[I 2025-01-02 01:17:40,108] Trial 1 finished with value: 0.040463805777963976 and parameters: {'icm_weight': 0.6777916987600546}. Best is trial 0 with value: 0.044341721349305176.\n"
     ]
    },
    {
     "name": "stdout",
     "output_type": "stream",
     "text": [
      "EvaluatorHoldout: Processed 35595 (100.0%) in 31.83 sec. Users per second: 1118\n"
     ]
    },
    {
     "name": "stderr",
     "output_type": "stream",
     "text": [
      "[I 2025-01-02 01:18:12,070] Trial 2 finished with value: 0.03592829160507112 and parameters: {'icm_weight': 0.9795025505159362}. Best is trial 0 with value: 0.044341721349305176.\n"
     ]
    },
    {
     "name": "stdout",
     "output_type": "stream",
     "text": [
      "EvaluatorHoldout: Processed 35595 (100.0%) in 31.85 sec. Users per second: 1117\n"
     ]
    },
    {
     "name": "stderr",
     "output_type": "stream",
     "text": [
      "[I 2025-01-02 01:18:44,059] Trial 3 finished with value: 0.03643814228411684 and parameters: {'icm_weight': 0.9440576509054152}. Best is trial 0 with value: 0.044341721349305176.\n"
     ]
    },
    {
     "name": "stdout",
     "output_type": "stream",
     "text": [
      "EvaluatorHoldout: Processed 35595 (100.0%) in 31.90 sec. Users per second: 1116\n"
     ]
    },
    {
     "name": "stderr",
     "output_type": "stream",
     "text": [
      "[I 2025-01-02 01:19:16,098] Trial 4 finished with value: 0.036295521486207336 and parameters: {'icm_weight': 0.9522927338406351}. Best is trial 0 with value: 0.044341721349305176.\n"
     ]
    },
    {
     "name": "stdout",
     "output_type": "stream",
     "text": [
      "EvaluatorHoldout: Processed 35595 (100.0%) in 32.00 sec. Users per second: 1112\n"
     ]
    },
    {
     "name": "stderr",
     "output_type": "stream",
     "text": [
      "[I 2025-01-02 01:19:48,226] Trial 5 finished with value: 0.04199652951970586 and parameters: {'icm_weight': 0.5748108075414476}. Best is trial 0 with value: 0.044341721349305176.\n"
     ]
    },
    {
     "name": "stdout",
     "output_type": "stream",
     "text": [
      "EvaluatorHoldout: Processed 35595 (100.0%) in 32.05 sec. Users per second: 1111\n"
     ]
    },
    {
     "name": "stderr",
     "output_type": "stream",
     "text": [
      "[I 2025-01-02 01:20:20,411] Trial 6 finished with value: 0.04419913511127 and parameters: {'icm_weight': 0.23259553117026777}. Best is trial 0 with value: 0.044341721349305176.\n"
     ]
    },
    {
     "name": "stdout",
     "output_type": "stream",
     "text": [
      "EvaluatorHoldout: Processed 35595 (100.0%) in 32.12 sec. Users per second: 1108\n"
     ]
    },
    {
     "name": "stderr",
     "output_type": "stream",
     "text": [
      "[I 2025-01-02 01:20:52,666] Trial 7 finished with value: 0.04356496476007513 and parameters: {'icm_weight': 0.44091613950874287}. Best is trial 0 with value: 0.044341721349305176.\n"
     ]
    },
    {
     "name": "stdout",
     "output_type": "stream",
     "text": [
      "EvaluatorHoldout: Processed 35595 (100.0%) in 32.14 sec. Users per second: 1108\n"
     ]
    },
    {
     "name": "stderr",
     "output_type": "stream",
     "text": [
      "[I 2025-01-02 01:21:24,939] Trial 8 finished with value: 0.043611121144621706 and parameters: {'icm_weight': 0.1329704015273525}. Best is trial 0 with value: 0.044341721349305176.\n"
     ]
    },
    {
     "name": "stdout",
     "output_type": "stream",
     "text": [
      "EvaluatorHoldout: Processed 35595 (100.0%) in 32.08 sec. Users per second: 1110\n"
     ]
    },
    {
     "name": "stderr",
     "output_type": "stream",
     "text": [
      "[I 2025-01-02 01:21:57,162] Trial 9 finished with value: 0.042729177675657794 and parameters: {'icm_weight': 0.5204853950208206}. Best is trial 0 with value: 0.044341721349305176.\n"
     ]
    },
    {
     "name": "stdout",
     "output_type": "stream",
     "text": [
      "EvaluatorHoldout: Processed 35595 (100.0%) in 32.16 sec. Users per second: 1107\n"
     ]
    },
    {
     "name": "stderr",
     "output_type": "stream",
     "text": [
      "[I 2025-01-02 01:22:29,474] Trial 10 finished with value: 0.04242031830759045 and parameters: {'icm_weight': 0.023952348137782076}. Best is trial 0 with value: 0.044341721349305176.\n"
     ]
    },
    {
     "name": "stdout",
     "output_type": "stream",
     "text": [
      "EvaluatorHoldout: Processed 35595 (100.0%) in 32.05 sec. Users per second: 1110\n"
     ]
    },
    {
     "name": "stderr",
     "output_type": "stream",
     "text": [
      "[I 2025-01-02 01:23:01,663] Trial 11 finished with value: 0.04438762912572283 and parameters: {'icm_weight': 0.2759403552515289}. Best is trial 11 with value: 0.04438762912572283.\n"
     ]
    },
    {
     "name": "stdout",
     "output_type": "stream",
     "text": [
      "EvaluatorHoldout: Processed 35595 (100.0%) in 32.13 sec. Users per second: 1108\n"
     ]
    },
    {
     "name": "stderr",
     "output_type": "stream",
     "text": [
      "[I 2025-01-02 01:23:33,928] Trial 12 finished with value: 0.04429623721005786 and parameters: {'icm_weight': 0.250088604557867}. Best is trial 11 with value: 0.04438762912572283.\n"
     ]
    },
    {
     "name": "stdout",
     "output_type": "stream",
     "text": [
      "EvaluatorHoldout: Processed 35595 (100.0%) in 31.93 sec. Users per second: 1115\n"
     ]
    },
    {
     "name": "stderr",
     "output_type": "stream",
     "text": [
      "[I 2025-01-02 01:24:05,998] Trial 13 finished with value: 0.044236705039274064 and parameters: {'icm_weight': 0.34018833587888275}. Best is trial 11 with value: 0.04438762912572283.\n"
     ]
    },
    {
     "name": "stdout",
     "output_type": "stream",
     "text": [
      "EvaluatorHoldout: Processed 35595 (100.0%) in 32.09 sec. Users per second: 1109\n"
     ]
    },
    {
     "name": "stderr",
     "output_type": "stream",
     "text": [
      "[I 2025-01-02 01:24:38,221] Trial 14 finished with value: 0.044091874639070834 and parameters: {'icm_weight': 0.37567953934076204}. Best is trial 11 with value: 0.04438762912572283.\n"
     ]
    },
    {
     "name": "stdout",
     "output_type": "stream",
     "text": [
      "EvaluatorHoldout: Processed 35595 (100.0%) in 31.91 sec. Users per second: 1115\n"
     ]
    },
    {
     "name": "stderr",
     "output_type": "stream",
     "text": [
      "[I 2025-01-02 01:25:10,264] Trial 15 finished with value: 0.04288331025625452 and parameters: {'icm_weight': 0.06194802389788645}. Best is trial 11 with value: 0.04438762912572283.\n"
     ]
    },
    {
     "name": "stdout",
     "output_type": "stream",
     "text": [
      "EvaluatorHoldout: Processed 35595 (100.0%) in 31.98 sec. Users per second: 1113\n"
     ]
    },
    {
     "name": "stderr",
     "output_type": "stream",
     "text": [
      "[I 2025-01-02 01:25:42,375] Trial 16 finished with value: 0.04413990060134022 and parameters: {'icm_weight': 0.2137754653675445}. Best is trial 11 with value: 0.04438762912572283.\n"
     ]
    },
    {
     "name": "stdout",
     "output_type": "stream",
     "text": [
      "EvaluatorHoldout: Processed 35595 (100.0%) in 32.01 sec. Users per second: 1112\n"
     ]
    },
    {
     "name": "stderr",
     "output_type": "stream",
     "text": [
      "[I 2025-01-02 01:26:14,522] Trial 17 finished with value: 0.04119706820781305 and parameters: {'icm_weight': 0.6310752247670931}. Best is trial 11 with value: 0.04438762912572283.\n"
     ]
    },
    {
     "name": "stdout",
     "output_type": "stream",
     "text": [
      "EvaluatorHoldout: Processed 35595 (100.0%) in 31.79 sec. Users per second: 1120\n"
     ]
    },
    {
     "name": "stderr",
     "output_type": "stream",
     "text": [
      "[I 2025-01-02 01:26:46,441] Trial 18 finished with value: 0.03934091643868209 and parameters: {'icm_weight': 0.751744303939777}. Best is trial 11 with value: 0.04438762912572283.\n"
     ]
    },
    {
     "name": "stdout",
     "output_type": "stream",
     "text": [
      "EvaluatorHoldout: Processed 35595 (100.0%) in 31.74 sec. Users per second: 1121\n"
     ]
    },
    {
     "name": "stderr",
     "output_type": "stream",
     "text": [
      "[I 2025-01-02 01:27:18,309] Trial 19 finished with value: 0.04430119376495117 and parameters: {'icm_weight': 0.3151244085846753}. Best is trial 11 with value: 0.04438762912572283.\n"
     ]
    },
    {
     "name": "stdout",
     "output_type": "stream",
     "text": [
      "EvaluatorHoldout: Processed 35595 (100.0%) in 31.80 sec. Users per second: 1119\n"
     ]
    },
    {
     "name": "stderr",
     "output_type": "stream",
     "text": [
      "[I 2025-01-02 01:27:50,240] Trial 20 finished with value: 0.04354109280552466 and parameters: {'icm_weight': 0.44551164826049644}. Best is trial 11 with value: 0.04438762912572283.\n"
     ]
    },
    {
     "name": "stdout",
     "output_type": "stream",
     "text": [
      "EvaluatorHoldout: Processed 35595 (100.0%) in 31.60 sec. Users per second: 1127\n"
     ]
    },
    {
     "name": "stderr",
     "output_type": "stream",
     "text": [
      "[I 2025-01-02 01:28:21,970] Trial 21 finished with value: 0.0442980811465836 and parameters: {'icm_weight': 0.31545220700789955}. Best is trial 11 with value: 0.04438762912572283.\n"
     ]
    },
    {
     "name": "stdout",
     "output_type": "stream",
     "text": [
      "EvaluatorHoldout: Processed 35595 (100.0%) in 31.68 sec. Users per second: 1124\n"
     ]
    },
    {
     "name": "stderr",
     "output_type": "stream",
     "text": [
      "[I 2025-01-02 01:28:53,785] Trial 22 finished with value: 0.04366018055862 and parameters: {'icm_weight': 0.14101309468938703}. Best is trial 11 with value: 0.04438762912572283.\n"
     ]
    },
    {
     "name": "stdout",
     "output_type": "stream",
     "text": [
      "EvaluatorHoldout: Processed 35595 (100.0%) in 31.59 sec. Users per second: 1127\n"
     ]
    },
    {
     "name": "stderr",
     "output_type": "stream",
     "text": [
      "[I 2025-01-02 01:29:25,509] Trial 23 finished with value: 0.04432837231909977 and parameters: {'icm_weight': 0.310223558783724}. Best is trial 11 with value: 0.04438762912572283.\n"
     ]
    },
    {
     "name": "stdout",
     "output_type": "stream",
     "text": [
      "EvaluatorHoldout: Processed 35595 (100.0%) in 31.62 sec. Users per second: 1126\n"
     ]
    },
    {
     "name": "stderr",
     "output_type": "stream",
     "text": [
      "[I 2025-01-02 01:29:57,253] Trial 24 finished with value: 0.04383985177158233 and parameters: {'icm_weight': 0.16540328667861998}. Best is trial 11 with value: 0.04438762912572283.\n"
     ]
    },
    {
     "name": "stdout",
     "output_type": "stream",
     "text": [
      "EvaluatorHoldout: Processed 35595 (100.0%) in 31.71 sec. Users per second: 1123\n"
     ]
    },
    {
     "name": "stderr",
     "output_type": "stream",
     "text": [
      "[I 2025-01-02 01:30:29,093] Trial 25 finished with value: 0.04399420620427638 and parameters: {'icm_weight': 0.39545573028022385}. Best is trial 11 with value: 0.04438762912572283.\n"
     ]
    },
    {
     "name": "stdout",
     "output_type": "stream",
     "text": [
      "EvaluatorHoldout: Processed 35595 (100.0%) in 31.58 sec. Users per second: 1127\n"
     ]
    },
    {
     "name": "stderr",
     "output_type": "stream",
     "text": [
      "[I 2025-01-02 01:31:00,802] Trial 26 finished with value: 0.04425608866948792 and parameters: {'icm_weight': 0.24369182716479143}. Best is trial 11 with value: 0.04438762912572283.\n"
     ]
    },
    {
     "name": "stdout",
     "output_type": "stream",
     "text": [
      "EvaluatorHoldout: Processed 35595 (100.0%) in 31.68 sec. Users per second: 1124\n"
     ]
    },
    {
     "name": "stderr",
     "output_type": "stream",
     "text": [
      "[I 2025-01-02 01:31:32,623] Trial 27 finished with value: 0.04304735037246484 and parameters: {'icm_weight': 0.4940891596060427}. Best is trial 11 with value: 0.04438762912572283.\n"
     ]
    },
    {
     "name": "stdout",
     "output_type": "stream",
     "text": [
      "EvaluatorHoldout: Processed 35595 (100.0%) in 31.54 sec. Users per second: 1129\n"
     ]
    },
    {
     "name": "stderr",
     "output_type": "stream",
     "text": [
      "[I 2025-01-02 01:32:04,289] Trial 28 finished with value: 0.04310271529129385 and parameters: {'icm_weight': 0.08362946118950138}. Best is trial 11 with value: 0.04438762912572283.\n"
     ]
    },
    {
     "name": "stdout",
     "output_type": "stream",
     "text": [
      "EvaluatorHoldout: Processed 35595 (100.0%) in 31.72 sec. Users per second: 1122\n"
     ]
    },
    {
     "name": "stderr",
     "output_type": "stream",
     "text": [
      "[I 2025-01-02 01:32:36,141] Trial 29 finished with value: 0.04438089775405262 and parameters: {'icm_weight': 0.289244015401806}. Best is trial 11 with value: 0.04438762912572283.\n"
     ]
    },
    {
     "name": "stdout",
     "output_type": "stream",
     "text": [
      "EvaluatorHoldout: Processed 35595 (100.0%) in 32.07 sec. Users per second: 1110\n"
     ]
    },
    {
     "name": "stderr",
     "output_type": "stream",
     "text": [
      "[I 2025-01-02 01:33:08,347] Trial 30 finished with value: 0.0392388488663237 and parameters: {'icm_weight': 0.7593218515070366}. Best is trial 11 with value: 0.04438762912572283.\n"
     ]
    },
    {
     "name": "stdout",
     "output_type": "stream",
     "text": [
      "EvaluatorHoldout: Processed 35595 (100.0%) in 31.69 sec. Users per second: 1123\n"
     ]
    },
    {
     "name": "stderr",
     "output_type": "stream",
     "text": [
      "[I 2025-01-02 01:33:40,171] Trial 31 finished with value: 0.044396716143027364 and parameters: {'icm_weight': 0.28647946017354037}. Best is trial 31 with value: 0.044396716143027364.\n"
     ]
    },
    {
     "name": "stdout",
     "output_type": "stream",
     "text": [
      "EvaluatorHoldout: Processed 35595 (100.0%) in 31.87 sec. Users per second: 1117\n"
     ]
    },
    {
     "name": "stderr",
     "output_type": "stream",
     "text": [
      "[I 2025-01-02 01:34:12,178] Trial 32 finished with value: 0.04399183383612228 and parameters: {'icm_weight': 0.18548498646098055}. Best is trial 31 with value: 0.044396716143027364.\n"
     ]
    },
    {
     "name": "stdout",
     "output_type": "stream",
     "text": [
      "EvaluatorHoldout: Processed 35595 (100.0%) in 31.90 sec. Users per second: 1116\n"
     ]
    },
    {
     "name": "stderr",
     "output_type": "stream",
     "text": [
      "[I 2025-01-02 01:34:44,209] Trial 33 finished with value: 0.04437056992577279 and parameters: {'icm_weight': 0.2735087300985046}. Best is trial 31 with value: 0.044396716143027364.\n"
     ]
    },
    {
     "name": "stdout",
     "output_type": "stream",
     "text": [
      "EvaluatorHoldout: Processed 35595 (100.0%) in 32.03 sec. Users per second: 1111\n"
     ]
    },
    {
     "name": "stderr",
     "output_type": "stream",
     "text": [
      "[I 2025-01-02 01:35:16,370] Trial 34 finished with value: 0.04439232146480203 and parameters: {'icm_weight': 0.27603974753328303}. Best is trial 31 with value: 0.044396716143027364.\n"
     ]
    },
    {
     "name": "stdout",
     "output_type": "stream",
     "text": [
      "EvaluatorHoldout: Processed 35595 (100.0%) in 32.09 sec. Users per second: 1109\n"
     ]
    },
    {
     "name": "stderr",
     "output_type": "stream",
     "text": [
      "[I 2025-01-02 01:35:48,598] Trial 35 finished with value: 0.04398561417356043 and parameters: {'icm_weight': 0.39609758573293563}. Best is trial 31 with value: 0.044396716143027364.\n"
     ]
    },
    {
     "name": "stdout",
     "output_type": "stream",
     "text": [
      "EvaluatorHoldout: Processed 35595 (100.0%) in 31.95 sec. Users per second: 1114\n"
     ]
    },
    {
     "name": "stderr",
     "output_type": "stream",
     "text": [
      "[I 2025-01-02 01:36:20,695] Trial 36 finished with value: 0.04325448888175259 and parameters: {'icm_weight': 0.09816235478597751}. Best is trial 31 with value: 0.044396716143027364.\n"
     ]
    },
    {
     "name": "stdout",
     "output_type": "stream",
     "text": [
      "EvaluatorHoldout: Processed 35595 (100.0%) in 32.19 sec. Users per second: 1106\n"
     ]
    },
    {
     "name": "stderr",
     "output_type": "stream",
     "text": [
      "[I 2025-01-02 01:36:53,021] Trial 37 finished with value: 0.043434122190336606 and parameters: {'icm_weight': 0.4572097105637379}. Best is trial 31 with value: 0.044396716143027364.\n"
     ]
    },
    {
     "name": "stdout",
     "output_type": "stream",
     "text": [
      "EvaluatorHoldout: Processed 35595 (100.0%) in 31.93 sec. Users per second: 1115\n"
     ]
    },
    {
     "name": "stderr",
     "output_type": "stream",
     "text": [
      "[I 2025-01-02 01:37:25,085] Trial 38 finished with value: 0.04227993721251092 and parameters: {'icm_weight': 0.5547541630709665}. Best is trial 31 with value: 0.044396716143027364.\n"
     ]
    },
    {
     "name": "stdout",
     "output_type": "stream",
     "text": [
      "EvaluatorHoldout: Processed 35595 (100.0%) in 32.03 sec. Users per second: 1111\n"
     ]
    },
    {
     "name": "stderr",
     "output_type": "stream",
     "text": [
      "[I 2025-01-02 01:37:57,266] Trial 39 finished with value: 0.0443863515252038 and parameters: {'icm_weight': 0.280142553543361}. Best is trial 31 with value: 0.044396716143027364.\n"
     ]
    },
    {
     "name": "stdout",
     "output_type": "stream",
     "text": [
      "EvaluatorHoldout: Processed 35595 (100.0%) in 32.03 sec. Users per second: 1111\n"
     ]
    },
    {
     "name": "stderr",
     "output_type": "stream",
     "text": [
      "[I 2025-01-02 01:38:29,438] Trial 40 finished with value: 0.04216791862598724 and parameters: {'icm_weight': 0.0003748220164365157}. Best is trial 31 with value: 0.044396716143027364.\n"
     ]
    },
    {
     "name": "stdout",
     "output_type": "stream",
     "text": [
      "EvaluatorHoldout: Processed 35595 (100.0%) in 32.13 sec. Users per second: 1108\n"
     ]
    },
    {
     "name": "stderr",
     "output_type": "stream",
     "text": [
      "[I 2025-01-02 01:39:01,715] Trial 41 finished with value: 0.0443711440656221 and parameters: {'icm_weight': 0.2736953801946891}. Best is trial 31 with value: 0.044396716143027364.\n"
     ]
    },
    {
     "name": "stdout",
     "output_type": "stream",
     "text": [
      "EvaluatorHoldout: Processed 35595 (100.0%) in 32.15 sec. Users per second: 1107\n"
     ]
    },
    {
     "name": "stderr",
     "output_type": "stream",
     "text": [
      "[I 2025-01-02 01:39:34,005] Trial 42 finished with value: 0.044077159936408365 and parameters: {'icm_weight': 0.19779735705324492}. Best is trial 31 with value: 0.044396716143027364.\n"
     ]
    },
    {
     "name": "stdout",
     "output_type": "stream",
     "text": [
      "EvaluatorHoldout: Processed 35595 (100.0%) in 32.13 sec. Users per second: 1108\n"
     ]
    },
    {
     "name": "stderr",
     "output_type": "stream",
     "text": [
      "[I 2025-01-02 01:40:06,271] Trial 43 finished with value: 0.0442203325774738 and parameters: {'icm_weight': 0.34697372041597746}. Best is trial 31 with value: 0.044396716143027364.\n"
     ]
    },
    {
     "name": "stdout",
     "output_type": "stream",
     "text": [
      "EvaluatorHoldout: Processed 35595 (100.0%) in 32.03 sec. Users per second: 1111\n"
     ]
    },
    {
     "name": "stderr",
     "output_type": "stream",
     "text": [
      "[I 2025-01-02 01:40:38,447] Trial 44 finished with value: 0.04390532824076718 and parameters: {'icm_weight': 0.4103762630337041}. Best is trial 31 with value: 0.044396716143027364.\n"
     ]
    },
    {
     "name": "stdout",
     "output_type": "stream",
     "text": [
      "EvaluatorHoldout: Processed 35595 (100.0%) in 32.16 sec. Users per second: 1107\n"
     ]
    },
    {
     "name": "stderr",
     "output_type": "stream",
     "text": [
      "[I 2025-01-02 01:41:10,740] Trial 45 finished with value: 0.04433207802950594 and parameters: {'icm_weight': 0.2578625574596205}. Best is trial 31 with value: 0.044396716143027364.\n"
     ]
    },
    {
     "name": "stdout",
     "output_type": "stream",
     "text": [
      "EvaluatorHoldout: Processed 35595 (100.0%) in 32.12 sec. Users per second: 1108\n"
     ]
    },
    {
     "name": "stderr",
     "output_type": "stream",
     "text": [
      "[I 2025-01-02 01:41:43,003] Trial 46 finished with value: 0.04365944365291048 and parameters: {'icm_weight': 0.1409644026084535}. Best is trial 31 with value: 0.044396716143027364.\n"
     ]
    },
    {
     "name": "stdout",
     "output_type": "stream",
     "text": [
      "EvaluatorHoldout: Processed 35595 (100.0%) in 32.19 sec. Users per second: 1106\n"
     ]
    },
    {
     "name": "stderr",
     "output_type": "stream",
     "text": [
      "[I 2025-01-02 01:42:15,345] Trial 47 finished with value: 0.04418502241932335 and parameters: {'icm_weight': 0.35245761047081353}. Best is trial 31 with value: 0.044396716143027364.\n"
     ]
    },
    {
     "name": "stdout",
     "output_type": "stream",
     "text": [
      "EvaluatorHoldout: Processed 35595 (100.0%) in 31.92 sec. Users per second: 1115\n"
     ]
    },
    {
     "name": "stderr",
     "output_type": "stream",
     "text": [
      "[I 2025-01-02 01:42:47,406] Trial 48 finished with value: 0.04437508277647192 and parameters: {'icm_weight': 0.29410416077362167}. Best is trial 31 with value: 0.044396716143027364.\n"
     ]
    },
    {
     "name": "stdout",
     "output_type": "stream",
     "text": [
      "EvaluatorHoldout: Processed 35595 (100.0%) in 31.96 sec. Users per second: 1114\n"
     ]
    },
    {
     "name": "stderr",
     "output_type": "stream",
     "text": [
      "[I 2025-01-02 01:43:19,502] Trial 49 finished with value: 0.04419019748180982 and parameters: {'icm_weight': 0.22894577793946624}. Best is trial 31 with value: 0.044396716143027364.\n"
     ]
    },
    {
     "name": "stdout",
     "output_type": "stream",
     "text": [
      "EvaluatorHoldout: Processed 35595 (100.0%) in 31.49 sec. Users per second: 1130\n"
     ]
    },
    {
     "name": "stderr",
     "output_type": "stream",
     "text": [
      "[I 2025-01-02 01:43:51,124] Trial 50 finished with value: 0.037170952091094396 and parameters: {'icm_weight': 0.894942628009402}. Best is trial 31 with value: 0.044396716143027364.\n"
     ]
    },
    {
     "name": "stdout",
     "output_type": "stream",
     "text": [
      "EvaluatorHoldout: Processed 35595 (100.0%) in 31.82 sec. Users per second: 1119\n"
     ]
    },
    {
     "name": "stderr",
     "output_type": "stream",
     "text": [
      "[I 2025-01-02 01:44:23,073] Trial 51 finished with value: 0.04439340508409052 and parameters: {'icm_weight': 0.2863798626874206}. Best is trial 31 with value: 0.044396716143027364.\n"
     ]
    },
    {
     "name": "stdout",
     "output_type": "stream",
     "text": [
      "EvaluatorHoldout: Processed 35595 (100.0%) in 31.91 sec. Users per second: 1115\n"
     ]
    },
    {
     "name": "stderr",
     "output_type": "stream",
     "text": [
      "[I 2025-01-02 01:44:55,129] Trial 52 finished with value: 0.044106493465952516 and parameters: {'icm_weight': 0.20483202851742952}. Best is trial 31 with value: 0.044396716143027364.\n"
     ]
    },
    {
     "name": "stdout",
     "output_type": "stream",
     "text": [
      "EvaluatorHoldout: Processed 35595 (100.0%) in 32.16 sec. Users per second: 1107\n"
     ]
    },
    {
     "name": "stderr",
     "output_type": "stream",
     "text": [
      "[I 2025-01-02 01:45:27,430] Trial 53 finished with value: 0.044222095131069485 and parameters: {'icm_weight': 0.3457919660035984}. Best is trial 31 with value: 0.044396716143027364.\n"
     ]
    },
    {
     "name": "stdout",
     "output_type": "stream",
     "text": [
      "EvaluatorHoldout: Processed 35595 (100.0%) in 32.04 sec. Users per second: 1111\n"
     ]
    },
    {
     "name": "stderr",
     "output_type": "stream",
     "text": [
      "[I 2025-01-02 01:45:59,608] Trial 54 finished with value: 0.04323409521133792 and parameters: {'icm_weight': 0.47662787175315374}. Best is trial 31 with value: 0.044396716143027364.\n"
     ]
    },
    {
     "name": "stdout",
     "output_type": "stream",
     "text": [
      "EvaluatorHoldout: Processed 35595 (100.0%) in 32.12 sec. Users per second: 1108\n"
     ]
    },
    {
     "name": "stderr",
     "output_type": "stream",
     "text": [
      "[I 2025-01-02 01:46:31,863] Trial 55 finished with value: 0.043712477452467716 and parameters: {'icm_weight': 0.43047912678856143}. Best is trial 31 with value: 0.044396716143027364.\n"
     ]
    },
    {
     "name": "stdout",
     "output_type": "stream",
     "text": [
      "EvaluatorHoldout: Processed 35595 (100.0%) in 31.86 sec. Users per second: 1117\n"
     ]
    },
    {
     "name": "stderr",
     "output_type": "stream",
     "text": [
      "[I 2025-01-02 01:47:03,858] Trial 56 finished with value: 0.044101198001322964 and parameters: {'icm_weight': 0.3725502150303778}. Best is trial 31 with value: 0.044396716143027364.\n"
     ]
    },
    {
     "name": "stdout",
     "output_type": "stream",
     "text": [
      "EvaluatorHoldout: Processed 35595 (100.0%) in 31.87 sec. Users per second: 1117\n"
     ]
    },
    {
     "name": "stderr",
     "output_type": "stream",
     "text": [
      "[I 2025-01-02 01:47:35,858] Trial 57 finished with value: 0.043850588744181934 and parameters: {'icm_weight': 0.16715575404218452}. Best is trial 31 with value: 0.044396716143027364.\n"
     ]
    },
    {
     "name": "stdout",
     "output_type": "stream",
     "text": [
      "EvaluatorHoldout: Processed 35595 (100.0%) in 31.84 sec. Users per second: 1118\n"
     ]
    },
    {
     "name": "stderr",
     "output_type": "stream",
     "text": [
      "[I 2025-01-02 01:48:07,826] Trial 58 finished with value: 0.04438660459267135 and parameters: {'icm_weight': 0.2934350559863361}. Best is trial 31 with value: 0.044396716143027364.\n"
     ]
    },
    {
     "name": "stdout",
     "output_type": "stream",
     "text": [
      "EvaluatorHoldout: Processed 35595 (100.0%) in 32.07 sec. Users per second: 1110\n"
     ]
    },
    {
     "name": "stderr",
     "output_type": "stream",
     "text": [
      "[I 2025-01-02 01:48:40,032] Trial 59 finished with value: 0.04346937549191943 and parameters: {'icm_weight': 0.11791983146732574}. Best is trial 31 with value: 0.044396716143027364.\n"
     ]
    },
    {
     "name": "stdout",
     "output_type": "stream",
     "text": [
      "EvaluatorHoldout: Processed 35595 (100.0%) in 31.96 sec. Users per second: 1114\n"
     ]
    },
    {
     "name": "stderr",
     "output_type": "stream",
     "text": [
      "[I 2025-01-02 01:49:12,130] Trial 60 finished with value: 0.04277763730860937 and parameters: {'icm_weight': 0.0535640281756421}. Best is trial 31 with value: 0.044396716143027364.\n"
     ]
    },
    {
     "name": "stdout",
     "output_type": "stream",
     "text": [
      "EvaluatorHoldout: Processed 35595 (100.0%) in 32.03 sec. Users per second: 1111\n"
     ]
    },
    {
     "name": "stderr",
     "output_type": "stream",
     "text": [
      "[I 2025-01-02 01:49:44,295] Trial 61 finished with value: 0.044369499684500276 and parameters: {'icm_weight': 0.29666861767031605}. Best is trial 31 with value: 0.044396716143027364.\n"
     ]
    },
    {
     "name": "stdout",
     "output_type": "stream",
     "text": [
      "EvaluatorHoldout: Processed 35595 (100.0%) in 32.05 sec. Users per second: 1110\n"
     ]
    },
    {
     "name": "stderr",
     "output_type": "stream",
     "text": [
      "[I 2025-01-02 01:50:16,493] Trial 62 finished with value: 0.04424711648015333 and parameters: {'icm_weight': 0.24120102476615368}. Best is trial 31 with value: 0.044396716143027364.\n"
     ]
    },
    {
     "name": "stdout",
     "output_type": "stream",
     "text": [
      "EvaluatorHoldout: Processed 35595 (100.0%) in 31.98 sec. Users per second: 1113\n"
     ]
    },
    {
     "name": "stderr",
     "output_type": "stream",
     "text": [
      "[I 2025-01-02 01:50:48,610] Trial 63 finished with value: 0.04427326492707706 and parameters: {'icm_weight': 0.3260738957314464}. Best is trial 31 with value: 0.044396716143027364.\n"
     ]
    },
    {
     "name": "stdout",
     "output_type": "stream",
     "text": [
      "EvaluatorHoldout: Processed 35595 (100.0%) in 32.03 sec. Users per second: 1111\n"
     ]
    },
    {
     "name": "stderr",
     "output_type": "stream",
     "text": [
      "[I 2025-01-02 01:51:20,787] Trial 64 finished with value: 0.04438693569856507 and parameters: {'icm_weight': 0.27841311530479}. Best is trial 31 with value: 0.044396716143027364.\n"
     ]
    },
    {
     "name": "stdout",
     "output_type": "stream",
     "text": [
      "EvaluatorHoldout: Processed 35595 (100.0%) in 32.07 sec. Users per second: 1110\n"
     ]
    },
    {
     "name": "stderr",
     "output_type": "stream",
     "text": [
      "[I 2025-01-02 01:51:52,992] Trial 65 finished with value: 0.043865093857928535 and parameters: {'icm_weight': 0.1691828544020601}. Best is trial 31 with value: 0.044396716143027364.\n"
     ]
    },
    {
     "name": "stdout",
     "output_type": "stream",
     "text": [
      "EvaluatorHoldout: Processed 35595 (100.0%) in 31.95 sec. Users per second: 1114\n"
     ]
    },
    {
     "name": "stderr",
     "output_type": "stream",
     "text": [
      "[I 2025-01-02 01:52:25,082] Trial 66 finished with value: 0.044156815987619266 and parameters: {'icm_weight': 0.22154679221371087}. Best is trial 31 with value: 0.044396716143027364.\n"
     ]
    },
    {
     "name": "stdout",
     "output_type": "stream",
     "text": [
      "EvaluatorHoldout: Processed 35595 (100.0%) in 31.96 sec. Users per second: 1114\n"
     ]
    },
    {
     "name": "stderr",
     "output_type": "stream",
     "text": [
      "[I 2025-01-02 01:52:57,182] Trial 67 finished with value: 0.044126319685525967 and parameters: {'icm_weight': 0.3683566021159612}. Best is trial 31 with value: 0.044396716143027364.\n"
     ]
    },
    {
     "name": "stdout",
     "output_type": "stream",
     "text": [
      "EvaluatorHoldout: Processed 35595 (100.0%) in 32.37 sec. Users per second: 1100\n"
     ]
    },
    {
     "name": "stderr",
     "output_type": "stream",
     "text": [
      "[I 2025-01-02 01:53:29,694] Trial 68 finished with value: 0.04434145378898704 and parameters: {'icm_weight': 0.26737651227957854}. Best is trial 31 with value: 0.044396716143027364.\n"
     ]
    },
    {
     "name": "stdout",
     "output_type": "stream",
     "text": [
      "EvaluatorHoldout: Processed 35595 (100.0%) in 32.11 sec. Users per second: 1109\n"
     ]
    },
    {
     "name": "stderr",
     "output_type": "stream",
     "text": [
      "[I 2025-01-02 01:54:01,949] Trial 69 finished with value: 0.04427922483316338 and parameters: {'icm_weight': 0.32186325820266776}. Best is trial 31 with value: 0.044396716143027364.\n"
     ]
    },
    {
     "name": "stdout",
     "output_type": "stream",
     "text": [
      "EvaluatorHoldout: Processed 35595 (100.0%) in 32.31 sec. Users per second: 1102\n"
     ]
    },
    {
     "name": "stderr",
     "output_type": "stream",
     "text": [
      "[I 2025-01-02 01:54:34,402] Trial 70 finished with value: 0.04251094321701036 and parameters: {'icm_weight': 0.537177143725939}. Best is trial 31 with value: 0.044396716143027364.\n"
     ]
    },
    {
     "name": "stdout",
     "output_type": "stream",
     "text": [
      "EvaluatorHoldout: Processed 35595 (100.0%) in 32.26 sec. Users per second: 1104\n"
     ]
    },
    {
     "name": "stderr",
     "output_type": "stream",
     "text": [
      "[I 2025-01-02 01:55:06,800] Trial 71 finished with value: 0.04438118315172528 and parameters: {'icm_weight': 0.2894878943562014}. Best is trial 31 with value: 0.044396716143027364.\n"
     ]
    },
    {
     "name": "stdout",
     "output_type": "stream",
     "text": [
      "EvaluatorHoldout: Processed 35595 (100.0%) in 32.30 sec. Users per second: 1102\n"
     ]
    },
    {
     "name": "stderr",
     "output_type": "stream",
     "text": [
      "[I 2025-01-02 01:55:39,239] Trial 72 finished with value: 0.044305687663461116 and parameters: {'icm_weight': 0.2532097923470728}. Best is trial 31 with value: 0.044396716143027364.\n"
     ]
    },
    {
     "name": "stdout",
     "output_type": "stream",
     "text": [
      "EvaluatorHoldout: Processed 35595 (100.0%) in 32.24 sec. Users per second: 1104\n"
     ]
    },
    {
     "name": "stderr",
     "output_type": "stream",
     "text": [
      "[I 2025-01-02 01:56:11,613] Trial 73 finished with value: 0.044396556721671136 and parameters: {'icm_weight': 0.2869177551528749}. Best is trial 31 with value: 0.044396716143027364.\n"
     ]
    },
    {
     "name": "stdout",
     "output_type": "stream",
     "text": [
      "EvaluatorHoldout: Processed 35595 (100.0%) in 32.27 sec. Users per second: 1103\n"
     ]
    },
    {
     "name": "stderr",
     "output_type": "stream",
     "text": [
      "[I 2025-01-02 01:56:44,020] Trial 74 finished with value: 0.044121504714634226 and parameters: {'icm_weight': 0.206963885008062}. Best is trial 31 with value: 0.044396716143027364.\n"
     ]
    },
    {
     "name": "stdout",
     "output_type": "stream",
     "text": [
      "EvaluatorHoldout: Processed 35595 (100.0%) in 32.27 sec. Users per second: 1103\n"
     ]
    },
    {
     "name": "stderr",
     "output_type": "stream",
     "text": [
      "[I 2025-01-02 01:57:16,424] Trial 75 finished with value: 0.04428393389476244 and parameters: {'icm_weight': 0.3213817000027215}. Best is trial 31 with value: 0.044396716143027364.\n"
     ]
    },
    {
     "name": "stdout",
     "output_type": "stream",
     "text": [
      "EvaluatorHoldout: Processed 35595 (100.0%) in 32.34 sec. Users per second: 1101\n"
     ]
    },
    {
     "name": "stderr",
     "output_type": "stream",
     "text": [
      "[I 2025-01-02 01:57:48,904] Trial 76 finished with value: 0.043960228273543296 and parameters: {'icm_weight': 0.40329209967657054}. Best is trial 31 with value: 0.044396716143027364.\n"
     ]
    },
    {
     "name": "stdout",
     "output_type": "stream",
     "text": [
      "EvaluatorHoldout: Processed 35595 (100.0%) in 32.23 sec. Users per second: 1104\n"
     ]
    },
    {
     "name": "stderr",
     "output_type": "stream",
     "text": [
      "[I 2025-01-02 01:58:21,278] Trial 77 finished with value: 0.044185754865694246 and parameters: {'icm_weight': 0.2269622924749302}. Best is trial 31 with value: 0.044396716143027364.\n"
     ]
    },
    {
     "name": "stdout",
     "output_type": "stream",
     "text": [
      "EvaluatorHoldout: Processed 35595 (100.0%) in 32.35 sec. Users per second: 1100\n"
     ]
    },
    {
     "name": "stderr",
     "output_type": "stream",
     "text": [
      "[I 2025-01-02 01:58:53,771] Trial 78 finished with value: 0.04438204157441261 and parameters: {'icm_weight': 0.27973862875410693}. Best is trial 31 with value: 0.044396716143027364.\n"
     ]
    },
    {
     "name": "stdout",
     "output_type": "stream",
     "text": [
      "EvaluatorHoldout: Processed 35595 (100.0%) in 32.25 sec. Users per second: 1104\n"
     ]
    },
    {
     "name": "stderr",
     "output_type": "stream",
     "text": [
      "[I 2025-01-02 01:59:26,168] Trial 79 finished with value: 0.04402067349391264 and parameters: {'icm_weight': 0.18866936062648199}. Best is trial 31 with value: 0.044396716143027364.\n"
     ]
    },
    {
     "name": "stdout",
     "output_type": "stream",
     "text": [
      "EvaluatorHoldout: Processed 35595 (100.0%) in 32.73 sec. Users per second: 1087\n"
     ]
    },
    {
     "name": "stderr",
     "output_type": "stream",
     "text": [
      "[I 2025-01-02 01:59:59,043] Trial 80 finished with value: 0.04409218344827136 and parameters: {'icm_weight': 0.3768305444780734}. Best is trial 31 with value: 0.044396716143027364.\n"
     ]
    },
    {
     "name": "stdout",
     "output_type": "stream",
     "text": [
      "EvaluatorHoldout: Processed 35595 (100.0%) in 32.39 sec. Users per second: 1099\n"
     ]
    },
    {
     "name": "stderr",
     "output_type": "stream",
     "text": [
      "[I 2025-01-02 02:00:31,608] Trial 81 finished with value: 0.044373768386409086 and parameters: {'icm_weight': 0.2746969864030635}. Best is trial 31 with value: 0.044396716143027364.\n"
     ]
    },
    {
     "name": "stdout",
     "output_type": "stream",
     "text": [
      "EvaluatorHoldout: Processed 35595 (100.0%) in 32.55 sec. Users per second: 1093\n"
     ]
    },
    {
     "name": "stderr",
     "output_type": "stream",
     "text": [
      "[I 2025-01-02 02:01:04,320] Trial 82 finished with value: 0.044358616668560356 and parameters: {'icm_weight': 0.2996200751594609}. Best is trial 31 with value: 0.044396716143027364.\n"
     ]
    },
    {
     "name": "stdout",
     "output_type": "stream",
     "text": [
      "EvaluatorHoldout: Processed 35595 (100.0%) in 32.52 sec. Users per second: 1095\n"
     ]
    },
    {
     "name": "stderr",
     "output_type": "stream",
     "text": [
      "[I 2025-01-02 02:01:36,990] Trial 83 finished with value: 0.04428481015480445 and parameters: {'icm_weight': 0.24815733200420248}. Best is trial 31 with value: 0.044396716143027364.\n"
     ]
    },
    {
     "name": "stdout",
     "output_type": "stream",
     "text": [
      "EvaluatorHoldout: Processed 35595 (100.0%) in 32.48 sec. Users per second: 1096\n"
     ]
    },
    {
     "name": "stderr",
     "output_type": "stream",
     "text": [
      "[I 2025-01-02 02:02:09,618] Trial 84 finished with value: 0.0442357518556407 and parameters: {'icm_weight': 0.33653098448652363}. Best is trial 31 with value: 0.044396716143027364.\n"
     ]
    },
    {
     "name": "stdout",
     "output_type": "stream",
     "text": [
      "EvaluatorHoldout: Processed 35595 (100.0%) in 32.39 sec. Users per second: 1099\n"
     ]
    },
    {
     "name": "stderr",
     "output_type": "stream",
     "text": [
      "[I 2025-01-02 02:02:42,157] Trial 85 finished with value: 0.044343998956513246 and parameters: {'icm_weight': 0.2677939639423817}. Best is trial 31 with value: 0.044396716143027364.\n"
     ]
    },
    {
     "name": "stdout",
     "output_type": "stream",
     "text": [
      "EvaluatorHoldout: Processed 35595 (100.0%) in 32.37 sec. Users per second: 1100\n"
     ]
    },
    {
     "name": "stderr",
     "output_type": "stream",
     "text": [
      "[I 2025-01-02 02:03:14,678] Trial 86 finished with value: 0.04113366087175504 and parameters: {'icm_weight': 0.635192273739145}. Best is trial 31 with value: 0.044396716143027364.\n"
     ]
    },
    {
     "name": "stdout",
     "output_type": "stream",
     "text": [
      "EvaluatorHoldout: Processed 35595 (100.0%) in 32.49 sec. Users per second: 1096\n"
     ]
    },
    {
     "name": "stderr",
     "output_type": "stream",
     "text": [
      "[I 2025-01-02 02:03:47,317] Trial 87 finished with value: 0.043817026646776606 and parameters: {'icm_weight': 0.41710789516520586}. Best is trial 31 with value: 0.044396716143027364.\n"
     ]
    },
    {
     "name": "stdout",
     "output_type": "stream",
     "text": [
      "EvaluatorHoldout: Processed 35595 (100.0%) in 32.40 sec. Users per second: 1099\n"
     ]
    },
    {
     "name": "stderr",
     "output_type": "stream",
     "text": [
      "[I 2025-01-02 02:04:19,865] Trial 88 finished with value: 0.04374090462143424 and parameters: {'icm_weight': 0.15168204297646434}. Best is trial 31 with value: 0.044396716143027364.\n"
     ]
    },
    {
     "name": "stdout",
     "output_type": "stream",
     "text": [
      "EvaluatorHoldout: Processed 35595 (100.0%) in 32.30 sec. Users per second: 1102\n"
     ]
    },
    {
     "name": "stderr",
     "output_type": "stream",
     "text": [
      "[I 2025-01-02 02:04:52,324] Trial 89 finished with value: 0.044144825940863205 and parameters: {'icm_weight': 0.362369552928677}. Best is trial 31 with value: 0.044396716143027364.\n"
     ]
    },
    {
     "name": "stdout",
     "output_type": "stream",
     "text": [
      "EvaluatorHoldout: Processed 35595 (100.0%) in 32.26 sec. Users per second: 1103\n"
     ]
    },
    {
     "name": "stderr",
     "output_type": "stream",
     "text": [
      "[I 2025-01-02 02:05:24,735] Trial 90 finished with value: 0.04435204471824629 and parameters: {'icm_weight': 0.30497155165347706}. Best is trial 31 with value: 0.044396716143027364.\n"
     ]
    },
    {
     "name": "stdout",
     "output_type": "stream",
     "text": [
      "EvaluatorHoldout: Processed 35595 (100.0%) in 32.18 sec. Users per second: 1106\n"
     ]
    },
    {
     "name": "stderr",
     "output_type": "stream",
     "text": [
      "[I 2025-01-02 02:05:57,061] Trial 91 finished with value: 0.044400295877117 and parameters: {'icm_weight': 0.28755917791437663}. Best is trial 91 with value: 0.044400295877117.\n"
     ]
    },
    {
     "name": "stdout",
     "output_type": "stream",
     "text": [
      "EvaluatorHoldout: Processed 35595 (100.0%) in 32.28 sec. Users per second: 1103\n"
     ]
    },
    {
     "name": "stderr",
     "output_type": "stream",
     "text": [
      "[I 2025-01-02 02:06:29,487] Trial 92 finished with value: 0.0443855934376358 and parameters: {'icm_weight': 0.2806683189858469}. Best is trial 91 with value: 0.044400295877117.\n"
     ]
    },
    {
     "name": "stdout",
     "output_type": "stream",
     "text": [
      "EvaluatorHoldout: Processed 35595 (100.0%) in 32.42 sec. Users per second: 1098\n"
     ]
    },
    {
     "name": "stderr",
     "output_type": "stream",
     "text": [
      "[I 2025-01-02 02:07:02,066] Trial 93 finished with value: 0.04415401552295621 and parameters: {'icm_weight': 0.22357551651648241}. Best is trial 91 with value: 0.044400295877117.\n"
     ]
    },
    {
     "name": "stdout",
     "output_type": "stream",
     "text": [
      "EvaluatorHoldout: Processed 35595 (100.0%) in 32.18 sec. Users per second: 1106\n"
     ]
    },
    {
     "name": "stderr",
     "output_type": "stream",
     "text": [
      "[I 2025-01-02 02:07:34,387] Trial 94 finished with value: 0.04402023536389175 and parameters: {'icm_weight': 0.19037202978838033}. Best is trial 91 with value: 0.044400295877117.\n"
     ]
    },
    {
     "name": "stdout",
     "output_type": "stream",
     "text": [
      "EvaluatorHoldout: Processed 35595 (100.0%) in 32.20 sec. Users per second: 1105\n"
     ]
    },
    {
     "name": "stderr",
     "output_type": "stream",
     "text": [
      "[I 2025-01-02 02:08:06,731] Trial 95 finished with value: 0.044235280280580026 and parameters: {'icm_weight': 0.3389492497009267}. Best is trial 91 with value: 0.044400295877117.\n"
     ]
    },
    {
     "name": "stdout",
     "output_type": "stream",
     "text": [
      "EvaluatorHoldout: Processed 35595 (100.0%) in 32.26 sec. Users per second: 1103\n"
     ]
    },
    {
     "name": "stderr",
     "output_type": "stream",
     "text": [
      "[I 2025-01-02 02:08:39,150] Trial 96 finished with value: 0.044251925876871684 and parameters: {'icm_weight': 0.24354866232455125}. Best is trial 91 with value: 0.044400295877117.\n"
     ]
    },
    {
     "name": "stdout",
     "output_type": "stream",
     "text": [
      "EvaluatorHoldout: Processed 35595 (100.0%) in 32.18 sec. Users per second: 1106\n"
     ]
    },
    {
     "name": "stderr",
     "output_type": "stream",
     "text": [
      "[I 2025-01-02 02:09:11,508] Trial 97 finished with value: 0.04399622628467831 and parameters: {'icm_weight': 0.38673767116588637}. Best is trial 91 with value: 0.044400295877117.\n"
     ]
    },
    {
     "name": "stdout",
     "output_type": "stream",
     "text": [
      "EvaluatorHoldout: Processed 35595 (100.0%) in 32.35 sec. Users per second: 1100\n"
     ]
    },
    {
     "name": "stderr",
     "output_type": "stream",
     "text": [
      "[I 2025-01-02 02:09:44,010] Trial 98 finished with value: 0.04436596565863164 and parameters: {'icm_weight': 0.2998868720152952}. Best is trial 91 with value: 0.044400295877117.\n"
     ]
    },
    {
     "name": "stdout",
     "output_type": "stream",
     "text": [
      "EvaluatorHoldout: Processed 35595 (100.0%) in 32.50 sec. Users per second: 1095\n"
     ]
    },
    {
     "name": "stderr",
     "output_type": "stream",
     "text": [
      "[I 2025-01-02 02:10:16,670] Trial 99 finished with value: 0.044274887011505726 and parameters: {'icm_weight': 0.32362052534726377}. Best is trial 91 with value: 0.044400295877117.\n"
     ]
    },
    {
     "name": "stdout",
     "output_type": "stream",
     "text": [
      "EvaluatorHoldout: Processed 35595 (100.0%) in 32.44 sec. Users per second: 1097\n"
     ]
    },
    {
     "name": "stderr",
     "output_type": "stream",
     "text": [
      "[I 2025-01-02 02:10:49,262] Trial 100 finished with value: 0.04344709552126188 and parameters: {'icm_weight': 0.11610410881902414}. Best is trial 91 with value: 0.044400295877117.\n"
     ]
    },
    {
     "name": "stdout",
     "output_type": "stream",
     "text": [
      "EvaluatorHoldout: Processed 35595 (100.0%) in 32.43 sec. Users per second: 1098\n"
     ]
    },
    {
     "name": "stderr",
     "output_type": "stream",
     "text": [
      "[I 2025-01-02 02:11:21,842] Trial 101 finished with value: 0.04438380412800829 and parameters: {'icm_weight': 0.28009078707709123}. Best is trial 91 with value: 0.044400295877117.\n"
     ]
    },
    {
     "name": "stdout",
     "output_type": "stream",
     "text": [
      "EvaluatorHoldout: Processed 35595 (100.0%) in 32.42 sec. Users per second: 1098\n"
     ]
    },
    {
     "name": "stderr",
     "output_type": "stream",
     "text": [
      "[I 2025-01-02 02:11:54,416] Trial 102 finished with value: 0.04432786506933006 and parameters: {'icm_weight': 0.25986687870513164}. Best is trial 91 with value: 0.044400295877117.\n"
     ]
    },
    {
     "name": "stdout",
     "output_type": "stream",
     "text": [
      "EvaluatorHoldout: Processed 35595 (100.0%) in 32.29 sec. Users per second: 1102\n"
     ]
    },
    {
     "name": "stderr",
     "output_type": "stream",
     "text": [
      "[I 2025-01-02 02:12:26,854] Trial 103 finished with value: 0.04417502681177195 and parameters: {'icm_weight': 0.3540321423101793}. Best is trial 91 with value: 0.044400295877117.\n"
     ]
    },
    {
     "name": "stdout",
     "output_type": "stream",
     "text": [
      "EvaluatorHoldout: Processed 35595 (100.0%) in 32.24 sec. Users per second: 1104\n"
     ]
    },
    {
     "name": "stderr",
     "output_type": "stream",
     "text": [
      "[I 2025-01-02 02:12:59,251] Trial 104 finished with value: 0.04438771608282629 and parameters: {'icm_weight': 0.28438131649945525}. Best is trial 91 with value: 0.044400295877117.\n"
     ]
    },
    {
     "name": "stdout",
     "output_type": "stream",
     "text": [
      "EvaluatorHoldout: Processed 35595 (100.0%) in 32.22 sec. Users per second: 1105\n"
     ]
    },
    {
     "name": "stderr",
     "output_type": "stream",
     "text": [
      "[I 2025-01-02 02:13:31,606] Trial 105 finished with value: 0.04413610458932675 and parameters: {'icm_weight': 0.21349363638222452}. Best is trial 91 with value: 0.044400295877117.\n"
     ]
    },
    {
     "name": "stdout",
     "output_type": "stream",
     "text": [
      "EvaluatorHoldout: Processed 35595 (100.0%) in 32.42 sec. Users per second: 1098\n"
     ]
    },
    {
     "name": "stderr",
     "output_type": "stream",
     "text": [
      "[I 2025-01-02 02:14:04,158] Trial 106 finished with value: 0.04422543963504618 and parameters: {'icm_weight': 0.23757969845490826}. Best is trial 91 with value: 0.044400295877117.\n"
     ]
    },
    {
     "name": "stdout",
     "output_type": "stream",
     "text": [
      "EvaluatorHoldout: Processed 35595 (100.0%) in 32.05 sec. Users per second: 1110\n"
     ]
    },
    {
     "name": "stderr",
     "output_type": "stream",
     "text": [
      "[I 2025-01-02 02:14:36,353] Trial 107 finished with value: 0.044343789367597336 and parameters: {'icm_weight': 0.3068490676621242}. Best is trial 91 with value: 0.044400295877117.\n"
     ]
    },
    {
     "name": "stdout",
     "output_type": "stream",
     "text": [
      "EvaluatorHoldout: Processed 35595 (100.0%) in 32.14 sec. Users per second: 1108\n"
     ]
    },
    {
     "name": "stderr",
     "output_type": "stream",
     "text": [
      "[I 2025-01-02 02:15:08,633] Trial 108 finished with value: 0.04391901952521274 and parameters: {'icm_weight': 0.1778865191401008}. Best is trial 91 with value: 0.044400295877117.\n"
     ]
    },
    {
     "name": "stdout",
     "output_type": "stream",
     "text": [
      "EvaluatorHoldout: Processed 35595 (100.0%) in 32.01 sec. Users per second: 1112\n"
     ]
    },
    {
     "name": "stderr",
     "output_type": "stream",
     "text": [
      "[I 2025-01-02 02:15:40,784] Trial 109 finished with value: 0.04432706573287965 and parameters: {'icm_weight': 0.26079547366958417}. Best is trial 91 with value: 0.044400295877117.\n"
     ]
    },
    {
     "name": "stdout",
     "output_type": "stream",
     "text": [
      "EvaluatorHoldout: Processed 35595 (100.0%) in 32.21 sec. Users per second: 1105\n"
     ]
    },
    {
     "name": "stderr",
     "output_type": "stream",
     "text": [
      "[I 2025-01-02 02:16:13,129] Trial 110 finished with value: 0.044246378459609104 and parameters: {'icm_weight': 0.33835248134694784}. Best is trial 91 with value: 0.044400295877117.\n"
     ]
    },
    {
     "name": "stdout",
     "output_type": "stream",
     "text": [
      "EvaluatorHoldout: Processed 35595 (100.0%) in 32.22 sec. Users per second: 1105\n"
     ]
    },
    {
     "name": "stderr",
     "output_type": "stream",
     "text": [
      "[I 2025-01-02 02:16:45,493] Trial 111 finished with value: 0.04439498034546348 and parameters: {'icm_weight': 0.27782771978172327}. Best is trial 91 with value: 0.044400295877117.\n"
     ]
    },
    {
     "name": "stdout",
     "output_type": "stream",
     "text": [
      "EvaluatorHoldout: Processed 35595 (100.0%) in 32.12 sec. Users per second: 1108\n"
     ]
    },
    {
     "name": "stderr",
     "output_type": "stream",
     "text": [
      "[I 2025-01-02 02:17:17,757] Trial 112 finished with value: 0.04437304820321946 and parameters: {'icm_weight': 0.2920116713973424}. Best is trial 91 with value: 0.044400295877117.\n"
     ]
    },
    {
     "name": "stdout",
     "output_type": "stream",
     "text": [
      "EvaluatorHoldout: Processed 35595 (100.0%) in 32.12 sec. Users per second: 1108\n"
     ]
    },
    {
     "name": "stderr",
     "output_type": "stream",
     "text": [
      "[I 2025-01-02 02:17:50,011] Trial 113 finished with value: 0.04428611339652055 and parameters: {'icm_weight': 0.32067590015694036}. Best is trial 91 with value: 0.044400295877117.\n"
     ]
    },
    {
     "name": "stdout",
     "output_type": "stream",
     "text": [
      "EvaluatorHoldout: Processed 35595 (100.0%) in 32.22 sec. Users per second: 1105\n"
     ]
    },
    {
     "name": "stderr",
     "output_type": "stream",
     "text": [
      "[I 2025-01-02 02:18:22,373] Trial 114 finished with value: 0.04411941885898746 and parameters: {'icm_weight': 0.20572086165194572}. Best is trial 91 with value: 0.044400295877117.\n"
     ]
    },
    {
     "name": "stdout",
     "output_type": "stream",
     "text": [
      "EvaluatorHoldout: Processed 35595 (100.0%) in 32.16 sec. Users per second: 1107\n"
     ]
    },
    {
     "name": "stderr",
     "output_type": "stream",
     "text": [
      "[I 2025-01-02 02:18:54,674] Trial 115 finished with value: 0.044271647301987134 and parameters: {'icm_weight': 0.24627154938212337}. Best is trial 91 with value: 0.044400295877117.\n"
     ]
    },
    {
     "name": "stdout",
     "output_type": "stream",
     "text": [
      "EvaluatorHoldout: Processed 35595 (100.0%) in 32.07 sec. Users per second: 1110\n"
     ]
    },
    {
     "name": "stderr",
     "output_type": "stream",
     "text": [
      "[I 2025-01-02 02:19:26,889] Trial 116 finished with value: 0.044381898875576274 and parameters: {'icm_weight': 0.2799554187336119}. Best is trial 91 with value: 0.044400295877117.\n"
     ]
    },
    {
     "name": "stdout",
     "output_type": "stream",
     "text": [
      "EvaluatorHoldout: Processed 35595 (100.0%) in 32.08 sec. Users per second: 1110\n"
     ]
    },
    {
     "name": "stderr",
     "output_type": "stream",
     "text": [
      "[I 2025-01-02 02:19:59,121] Trial 117 finished with value: 0.04418586300465615 and parameters: {'icm_weight': 0.22805007023467444}. Best is trial 91 with value: 0.044400295877117.\n"
     ]
    },
    {
     "name": "stdout",
     "output_type": "stream",
     "text": [
      "EvaluatorHoldout: Processed 35595 (100.0%) in 32.33 sec. Users per second: 1101\n"
     ]
    },
    {
     "name": "stderr",
     "output_type": "stream",
     "text": [
      "[I 2025-01-02 02:20:31,592] Trial 118 finished with value: 0.04433093197947656 and parameters: {'icm_weight': 0.31164273726482433}. Best is trial 91 with value: 0.044400295877117.\n"
     ]
    },
    {
     "name": "stdout",
     "output_type": "stream",
     "text": [
      "EvaluatorHoldout: Processed 35595 (100.0%) in 32.19 sec. Users per second: 1106\n"
     ]
    },
    {
     "name": "stderr",
     "output_type": "stream",
     "text": [
      "[I 2025-01-02 02:21:03,918] Trial 119 finished with value: 0.04433117055409361 and parameters: {'icm_weight': 0.2638466454712207}. Best is trial 91 with value: 0.044400295877117.\n"
     ]
    },
    {
     "name": "stdout",
     "output_type": "stream",
     "text": [
      "EvaluatorHoldout: Processed 35595 (100.0%) in 31.93 sec. Users per second: 1115\n"
     ]
    },
    {
     "name": "stderr",
     "output_type": "stream",
     "text": [
      "[I 2025-01-02 02:21:35,979] Trial 120 finished with value: 0.04417718847617544 and parameters: {'icm_weight': 0.3521877190900334}. Best is trial 91 with value: 0.044400295877117.\n"
     ]
    },
    {
     "name": "stdout",
     "output_type": "stream",
     "text": [
      "EvaluatorHoldout: Processed 35595 (100.0%) in 32.00 sec. Users per second: 1112\n"
     ]
    },
    {
     "name": "stderr",
     "output_type": "stream",
     "text": [
      "[I 2025-01-02 02:22:08,122] Trial 121 finished with value: 0.044386098457736244 and parameters: {'icm_weight': 0.2827605029588908}. Best is trial 91 with value: 0.044400295877117.\n"
     ]
    },
    {
     "name": "stdout",
     "output_type": "stream",
     "text": [
      "EvaluatorHoldout: Processed 35595 (100.0%) in 32.12 sec. Users per second: 1108\n"
     ]
    },
    {
     "name": "stderr",
     "output_type": "stream",
     "text": [
      "[I 2025-01-02 02:22:40,384] Trial 122 finished with value: 0.04436196451704097 and parameters: {'icm_weight': 0.29695568042809356}. Best is trial 91 with value: 0.044400295877117.\n"
     ]
    },
    {
     "name": "stdout",
     "output_type": "stream",
     "text": [
      "EvaluatorHoldout: Processed 35595 (100.0%) in 32.02 sec. Users per second: 1112\n"
     ]
    },
    {
     "name": "stderr",
     "output_type": "stream",
     "text": [
      "[I 2025-01-02 02:23:12,542] Trial 123 finished with value: 0.04437520094894578 and parameters: {'icm_weight': 0.281964985702823}. Best is trial 91 with value: 0.044400295877117.\n"
     ]
    },
    {
     "name": "stdout",
     "output_type": "stream",
     "text": [
      "EvaluatorHoldout: Processed 35595 (100.0%) in 32.03 sec. Users per second: 1111\n"
     ]
    },
    {
     "name": "stderr",
     "output_type": "stream",
     "text": [
      "[I 2025-01-02 02:23:44,712] Trial 124 finished with value: 0.039641537178620026 and parameters: {'icm_weight': 0.728873782911564}. Best is trial 91 with value: 0.044400295877117.\n"
     ]
    },
    {
     "name": "stdout",
     "output_type": "stream",
     "text": [
      "EvaluatorHoldout: Processed 35595 (100.0%) in 31.92 sec. Users per second: 1115\n"
     ]
    },
    {
     "name": "stderr",
     "output_type": "stream",
     "text": [
      "[I 2025-01-02 02:24:16,765] Trial 125 finished with value: 0.0376113887049402 and parameters: {'icm_weight': 0.8647504844541325}. Best is trial 91 with value: 0.044400295877117.\n"
     ]
    },
    {
     "name": "stdout",
     "output_type": "stream",
     "text": [
      "EvaluatorHoldout: Processed 35595 (100.0%) in 32.10 sec. Users per second: 1109\n"
     ]
    },
    {
     "name": "stderr",
     "output_type": "stream",
     "text": [
      "[I 2025-01-02 02:24:49,001] Trial 126 finished with value: 0.0442831256396348 and parameters: {'icm_weight': 0.3246333697905196}. Best is trial 91 with value: 0.044400295877117.\n"
     ]
    },
    {
     "name": "stdout",
     "output_type": "stream",
     "text": [
      "EvaluatorHoldout: Processed 35595 (100.0%) in 32.00 sec. Users per second: 1112\n"
     ]
    },
    {
     "name": "stderr",
     "output_type": "stream",
     "text": [
      "[I 2025-01-02 02:25:21,142] Trial 127 finished with value: 0.044330091394143824 and parameters: {'icm_weight': 0.25925162041481603}. Best is trial 91 with value: 0.044400295877117.\n"
     ]
    },
    {
     "name": "stdout",
     "output_type": "stream",
     "text": [
      "EvaluatorHoldout: Processed 35595 (100.0%) in 32.13 sec. Users per second: 1108\n"
     ]
    },
    {
     "name": "stderr",
     "output_type": "stream",
     "text": [
      "[I 2025-01-02 02:25:53,412] Trial 128 finished with value: 0.04421675730272292 and parameters: {'icm_weight': 0.23648258036007463}. Best is trial 91 with value: 0.044400295877117.\n"
     ]
    },
    {
     "name": "stdout",
     "output_type": "stream",
     "text": [
      "EvaluatorHoldout: Processed 35595 (100.0%) in 32.17 sec. Users per second: 1107\n"
     ]
    },
    {
     "name": "stderr",
     "output_type": "stream",
     "text": [
      "[I 2025-01-02 02:26:25,726] Trial 129 finished with value: 0.044101536911059246 and parameters: {'icm_weight': 0.37274239390865077}. Best is trial 91 with value: 0.044400295877117.\n"
     ]
    },
    {
     "name": "stdout",
     "output_type": "stream",
     "text": [
      "EvaluatorHoldout: Processed 35595 (100.0%) in 32.15 sec. Users per second: 1107\n"
     ]
    },
    {
     "name": "stderr",
     "output_type": "stream",
     "text": [
      "[I 2025-01-02 02:26:58,019] Trial 130 finished with value: 0.044116947270548795 and parameters: {'icm_weight': 0.2040033645792742}. Best is trial 91 with value: 0.044400295877117.\n"
     ]
    },
    {
     "name": "stdout",
     "output_type": "stream",
     "text": [
      "EvaluatorHoldout: Processed 35595 (100.0%) in 32.27 sec. Users per second: 1103\n"
     ]
    },
    {
     "name": "stderr",
     "output_type": "stream",
     "text": [
      "[I 2025-01-02 02:27:30,432] Trial 131 finished with value: 0.04439447532536302 and parameters: {'icm_weight': 0.2777469384567455}. Best is trial 91 with value: 0.044400295877117.\n"
     ]
    },
    {
     "name": "stdout",
     "output_type": "stream",
     "text": [
      "EvaluatorHoldout: Processed 35595 (100.0%) in 32.02 sec. Users per second: 1112\n"
     ]
    },
    {
     "name": "stderr",
     "output_type": "stream",
     "text": [
      "[I 2025-01-02 02:28:02,592] Trial 132 finished with value: 0.0443784908260241 and parameters: {'icm_weight': 0.28358736718371386}. Best is trial 91 with value: 0.044400295877117.\n"
     ]
    },
    {
     "name": "stdout",
     "output_type": "stream",
     "text": [
      "EvaluatorHoldout: Processed 35595 (100.0%) in 32.17 sec. Users per second: 1106\n"
     ]
    },
    {
     "name": "stderr",
     "output_type": "stream",
     "text": [
      "[I 2025-01-02 02:28:34,907] Trial 133 finished with value: 0.044329780355273934 and parameters: {'icm_weight': 0.31068735334200226}. Best is trial 91 with value: 0.044400295877117.\n"
     ]
    },
    {
     "name": "stdout",
     "output_type": "stream",
     "text": [
      "EvaluatorHoldout: Processed 35595 (100.0%) in 32.01 sec. Users per second: 1112\n"
     ]
    },
    {
     "name": "stderr",
     "output_type": "stream",
     "text": [
      "[I 2025-01-02 02:29:07,053] Trial 134 finished with value: 0.04432983275250297 and parameters: {'icm_weight': 0.25878529183577287}. Best is trial 91 with value: 0.044400295877117.\n"
     ]
    },
    {
     "name": "stdout",
     "output_type": "stream",
     "text": [
      "EvaluatorHoldout: Processed 35595 (100.0%) in 32.03 sec. Users per second: 1111\n"
     ]
    },
    {
     "name": "stderr",
     "output_type": "stream",
     "text": [
      "[I 2025-01-02 02:29:39,215] Trial 135 finished with value: 0.044241089683987364 and parameters: {'icm_weight': 0.34174162984712364}. Best is trial 91 with value: 0.044400295877117.\n"
     ]
    },
    {
     "name": "stdout",
     "output_type": "stream",
     "text": [
      "EvaluatorHoldout: Processed 35595 (100.0%) in 32.14 sec. Users per second: 1108\n"
     ]
    },
    {
     "name": "stderr",
     "output_type": "stream",
     "text": [
      "[I 2025-01-02 02:30:11,490] Trial 136 finished with value: 0.044190995703425585 and parameters: {'icm_weight': 0.22938735245123437}. Best is trial 91 with value: 0.044400295877117.\n"
     ]
    },
    {
     "name": "stdout",
     "output_type": "stream",
     "text": [
      "EvaluatorHoldout: Processed 35595 (100.0%) in 32.04 sec. Users per second: 1111\n"
     ]
    },
    {
     "name": "stderr",
     "output_type": "stream",
     "text": [
      "[I 2025-01-02 02:30:43,667] Trial 137 finished with value: 0.04438361795062026 and parameters: {'icm_weight': 0.28962357520970883}. Best is trial 91 with value: 0.044400295877117.\n"
     ]
    },
    {
     "name": "stdout",
     "output_type": "stream",
     "text": [
      "EvaluatorHoldout: Processed 35595 (100.0%) in 32.02 sec. Users per second: 1112\n"
     ]
    },
    {
     "name": "stderr",
     "output_type": "stream",
     "text": [
      "[I 2025-01-02 02:31:15,823] Trial 138 finished with value: 0.04427320807050946 and parameters: {'icm_weight': 0.3254967716175544}. Best is trial 91 with value: 0.044400295877117.\n"
     ]
    },
    {
     "name": "stdout",
     "output_type": "stream",
     "text": [
      "EvaluatorHoldout: Processed 35595 (100.0%) in 31.97 sec. Users per second: 1113\n"
     ]
    },
    {
     "name": "stderr",
     "output_type": "stream",
     "text": [
      "[I 2025-01-02 02:31:47,932] Trial 139 finished with value: 0.04428340211863028 and parameters: {'icm_weight': 0.24741923261369544}. Best is trial 91 with value: 0.044400295877117.\n"
     ]
    },
    {
     "name": "stdout",
     "output_type": "stream",
     "text": [
      "EvaluatorHoldout: Processed 35595 (100.0%) in 32.04 sec. Users per second: 1111\n"
     ]
    },
    {
     "name": "stderr",
     "output_type": "stream",
     "text": [
      "[I 2025-01-02 02:32:20,113] Trial 140 finished with value: 0.04436283074357091 and parameters: {'icm_weight': 0.272051867391034}. Best is trial 91 with value: 0.044400295877117.\n"
     ]
    },
    {
     "name": "stdout",
     "output_type": "stream",
     "text": [
      "EvaluatorHoldout: Processed 35595 (100.0%) in 31.99 sec. Users per second: 1113\n"
     ]
    },
    {
     "name": "stderr",
     "output_type": "stream",
     "text": [
      "[I 2025-01-02 02:32:52,241] Trial 141 finished with value: 0.044355938835709714 and parameters: {'icm_weight': 0.3043520739258692}. Best is trial 91 with value: 0.044400295877117.\n"
     ]
    },
    {
     "name": "stdout",
     "output_type": "stream",
     "text": [
      "EvaluatorHoldout: Processed 35595 (100.0%) in 31.58 sec. Users per second: 1127\n"
     ]
    },
    {
     "name": "stderr",
     "output_type": "stream",
     "text": [
      "[I 2025-01-02 02:33:23,956] Trial 142 finished with value: 0.044389856565371304 and parameters: {'icm_weight': 0.2785435042293247}. Best is trial 91 with value: 0.044400295877117.\n"
     ]
    },
    {
     "name": "stdout",
     "output_type": "stream",
     "text": [
      "EvaluatorHoldout: Processed 35595 (100.0%) in 31.86 sec. Users per second: 1117\n"
     ]
    },
    {
     "name": "stderr",
     "output_type": "stream",
     "text": [
      "[I 2025-01-02 02:33:55,951] Trial 143 finished with value: 0.04438610626157886 and parameters: {'icm_weight': 0.27808433087634327}. Best is trial 91 with value: 0.044400295877117.\n"
     ]
    },
    {
     "name": "stdout",
     "output_type": "stream",
     "text": [
      "EvaluatorHoldout: Processed 35595 (100.0%) in 32.05 sec. Users per second: 1110\n"
     ]
    },
    {
     "name": "stderr",
     "output_type": "stream",
     "text": [
      "[I 2025-01-02 02:34:28,144] Trial 144 finished with value: 0.04433228873325651 and parameters: {'icm_weight': 0.26195547889935383}. Best is trial 91 with value: 0.044400295877117.\n"
     ]
    },
    {
     "name": "stdout",
     "output_type": "stream",
     "text": [
      "EvaluatorHoldout: Processed 35595 (100.0%) in 31.97 sec. Users per second: 1113\n"
     ]
    },
    {
     "name": "stderr",
     "output_type": "stream",
     "text": [
      "[I 2025-01-02 02:35:00,249] Trial 145 finished with value: 0.04435445945011738 and parameters: {'icm_weight': 0.3037377557096676}. Best is trial 91 with value: 0.044400295877117.\n"
     ]
    },
    {
     "name": "stdout",
     "output_type": "stream",
     "text": [
      "EvaluatorHoldout: Processed 35595 (100.0%) in 31.81 sec. Users per second: 1119\n"
     ]
    },
    {
     "name": "stderr",
     "output_type": "stream",
     "text": [
      "[I 2025-01-02 02:35:32,189] Trial 146 finished with value: 0.044153358885342164 and parameters: {'icm_weight': 0.3605115204544763}. Best is trial 91 with value: 0.044400295877117.\n"
     ]
    },
    {
     "name": "stdout",
     "output_type": "stream",
     "text": [
      "EvaluatorHoldout: Processed 35595 (100.0%) in 31.74 sec. Users per second: 1121\n"
     ]
    },
    {
     "name": "stderr",
     "output_type": "stream",
     "text": [
      "[I 2025-01-02 02:36:04,057] Trial 147 finished with value: 0.04414933990639686 and parameters: {'icm_weight': 0.2155354215804151}. Best is trial 91 with value: 0.044400295877117.\n"
     ]
    },
    {
     "name": "stdout",
     "output_type": "stream",
     "text": [
      "EvaluatorHoldout: Processed 35595 (100.0%) in 31.73 sec. Users per second: 1122\n"
     ]
    },
    {
     "name": "stderr",
     "output_type": "stream",
     "text": [
      "[I 2025-01-02 02:36:35,926] Trial 148 finished with value: 0.04424677868525158 and parameters: {'icm_weight': 0.33187069816362225}. Best is trial 91 with value: 0.044400295877117.\n"
     ]
    },
    {
     "name": "stdout",
     "output_type": "stream",
     "text": [
      "EvaluatorHoldout: Processed 35595 (100.0%) in 31.60 sec. Users per second: 1126\n"
     ]
    },
    {
     "name": "stderr",
     "output_type": "stream",
     "text": [
      "[I 2025-01-02 02:37:07,660] Trial 149 finished with value: 0.04424781548148445 and parameters: {'icm_weight': 0.24126602655850551}. Best is trial 91 with value: 0.044400295877117.\n"
     ]
    },
    {
     "name": "stdout",
     "output_type": "stream",
     "text": [
      "EvaluatorHoldout: Processed 35595 (100.0%) in 31.78 sec. Users per second: 1120\n"
     ]
    },
    {
     "name": "stderr",
     "output_type": "stream",
     "text": [
      "[I 2025-01-02 02:37:39,574] Trial 150 finished with value: 0.044375449557074675 and parameters: {'icm_weight': 0.27531479188356717}. Best is trial 91 with value: 0.044400295877117.\n"
     ]
    },
    {
     "name": "stdout",
     "output_type": "stream",
     "text": [
      "EvaluatorHoldout: Processed 35595 (100.0%) in 31.69 sec. Users per second: 1123\n"
     ]
    },
    {
     "name": "stderr",
     "output_type": "stream",
     "text": [
      "[I 2025-01-02 02:38:11,404] Trial 151 finished with value: 0.04436144165958596 and parameters: {'icm_weight': 0.2969465946472632}. Best is trial 91 with value: 0.044400295877117.\n"
     ]
    },
    {
     "name": "stdout",
     "output_type": "stream",
     "text": [
      "EvaluatorHoldout: Processed 35595 (100.0%) in 31.64 sec. Users per second: 1125\n"
     ]
    },
    {
     "name": "stderr",
     "output_type": "stream",
     "text": [
      "[I 2025-01-02 02:38:43,187] Trial 152 finished with value: 0.04438640503726744 and parameters: {'icm_weight': 0.2783792270317577}. Best is trial 91 with value: 0.044400295877117.\n"
     ]
    },
    {
     "name": "stdout",
     "output_type": "stream",
     "text": [
      "EvaluatorHoldout: Processed 35595 (100.0%) in 31.85 sec. Users per second: 1117\n"
     ]
    },
    {
     "name": "stderr",
     "output_type": "stream",
     "text": [
      "[I 2025-01-02 02:39:15,182] Trial 153 finished with value: 0.04432334887412697 and parameters: {'icm_weight': 0.25610676576024877}. Best is trial 91 with value: 0.044400295877117.\n"
     ]
    },
    {
     "name": "stdout",
     "output_type": "stream",
     "text": [
      "EvaluatorHoldout: Processed 35595 (100.0%) in 31.82 sec. Users per second: 1119\n"
     ]
    },
    {
     "name": "stderr",
     "output_type": "stream",
     "text": [
      "[I 2025-01-02 02:39:47,136] Trial 154 finished with value: 0.04431512919818705 and parameters: {'icm_weight': 0.31397621158231304}. Best is trial 91 with value: 0.044400295877117.\n"
     ]
    },
    {
     "name": "stdout",
     "output_type": "stream",
     "text": [
      "EvaluatorHoldout: Processed 35595 (100.0%) in 31.74 sec. Users per second: 1122\n"
     ]
    },
    {
     "name": "stderr",
     "output_type": "stream",
     "text": [
      "[I 2025-01-02 02:40:19,012] Trial 155 finished with value: 0.044162652147058466 and parameters: {'icm_weight': 0.22466050109120558}. Best is trial 91 with value: 0.044400295877117.\n"
     ]
    },
    {
     "name": "stdout",
     "output_type": "stream",
     "text": [
      "EvaluatorHoldout: Processed 35595 (100.0%) in 31.63 sec. Users per second: 1125\n"
     ]
    },
    {
     "name": "stderr",
     "output_type": "stream",
     "text": [
      "[I 2025-01-02 02:40:50,777] Trial 156 finished with value: 0.04438936603812141 and parameters: {'icm_weight': 0.2847524921812977}. Best is trial 91 with value: 0.044400295877117.\n"
     ]
    },
    {
     "name": "stdout",
     "output_type": "stream",
     "text": [
      "EvaluatorHoldout: Processed 35595 (100.0%) in 31.87 sec. Users per second: 1117\n"
     ]
    },
    {
     "name": "stderr",
     "output_type": "stream",
     "text": [
      "[I 2025-01-02 02:41:22,780] Trial 157 finished with value: 0.044050037123992684 and parameters: {'icm_weight': 0.19481299212112865}. Best is trial 91 with value: 0.044400295877117.\n"
     ]
    },
    {
     "name": "stdout",
     "output_type": "stream",
     "text": [
      "EvaluatorHoldout: Processed 35595 (100.0%) in 31.64 sec. Users per second: 1125\n"
     ]
    },
    {
     "name": "stderr",
     "output_type": "stream",
     "text": [
      "[I 2025-01-02 02:41:54,554] Trial 158 finished with value: 0.04422941179093573 and parameters: {'icm_weight': 0.3391285563091705}. Best is trial 91 with value: 0.044400295877117.\n"
     ]
    },
    {
     "name": "stdout",
     "output_type": "stream",
     "text": [
      "EvaluatorHoldout: Processed 35595 (100.0%) in 31.78 sec. Users per second: 1120\n"
     ]
    },
    {
     "name": "stderr",
     "output_type": "stream",
     "text": [
      "[I 2025-01-02 02:42:26,461] Trial 159 finished with value: 0.04425691922130878 and parameters: {'icm_weight': 0.24521110646633076}. Best is trial 91 with value: 0.044400295877117.\n"
     ]
    },
    {
     "name": "stdout",
     "output_type": "stream",
     "text": [
      "EvaluatorHoldout: Processed 35595 (100.0%) in 31.78 sec. Users per second: 1120\n"
     ]
    },
    {
     "name": "stderr",
     "output_type": "stream",
     "text": [
      "[I 2025-01-02 02:42:58,381] Trial 160 finished with value: 0.04435242153236105 and parameters: {'icm_weight': 0.268852371764459}. Best is trial 91 with value: 0.044400295877117.\n"
     ]
    },
    {
     "name": "stdout",
     "output_type": "stream",
     "text": [
      "EvaluatorHoldout: Processed 35595 (100.0%) in 31.95 sec. Users per second: 1114\n"
     ]
    },
    {
     "name": "stderr",
     "output_type": "stream",
     "text": [
      "[I 2025-01-02 02:43:30,465] Trial 161 finished with value: 0.044384609038631964 and parameters: {'icm_weight': 0.2899883415041594}. Best is trial 91 with value: 0.044400295877117.\n"
     ]
    },
    {
     "name": "stdout",
     "output_type": "stream",
     "text": [
      "EvaluatorHoldout: Processed 35595 (100.0%) in 31.99 sec. Users per second: 1113\n"
     ]
    },
    {
     "name": "stderr",
     "output_type": "stream",
     "text": [
      "[I 2025-01-02 02:44:02,584] Trial 162 finished with value: 0.04439410520025629 and parameters: {'icm_weight': 0.28629835023679656}. Best is trial 91 with value: 0.044400295877117.\n"
     ]
    },
    {
     "name": "stdout",
     "output_type": "stream",
     "text": [
      "EvaluatorHoldout: Processed 35595 (100.0%) in 31.97 sec. Users per second: 1114\n"
     ]
    },
    {
     "name": "stderr",
     "output_type": "stream",
     "text": [
      "[I 2025-01-02 02:44:34,685] Trial 163 finished with value: 0.04431788283979446 and parameters: {'icm_weight': 0.3133487902926954}. Best is trial 91 with value: 0.044400295877117.\n"
     ]
    },
    {
     "name": "stdout",
     "output_type": "stream",
     "text": [
      "EvaluatorHoldout: Processed 35595 (100.0%) in 31.88 sec. Users per second: 1117\n"
     ]
    },
    {
     "name": "stderr",
     "output_type": "stream",
     "text": [
      "[I 2025-01-02 02:45:06,696] Trial 164 finished with value: 0.04436190097146542 and parameters: {'icm_weight': 0.26968308621026815}. Best is trial 91 with value: 0.044400295877117.\n"
     ]
    },
    {
     "name": "stdout",
     "output_type": "stream",
     "text": [
      "EvaluatorHoldout: Processed 35595 (100.0%) in 31.93 sec. Users per second: 1115\n"
     ]
    },
    {
     "name": "stderr",
     "output_type": "stream",
     "text": [
      "[I 2025-01-02 02:45:38,766] Trial 165 finished with value: 0.04436811394501929 and parameters: {'icm_weight': 0.2956093456111689}. Best is trial 91 with value: 0.044400295877117.\n"
     ]
    },
    {
     "name": "stdout",
     "output_type": "stream",
     "text": [
      "EvaluatorHoldout: Processed 35595 (100.0%) in 31.94 sec. Users per second: 1114\n"
     ]
    },
    {
     "name": "stderr",
     "output_type": "stream",
     "text": [
      "[I 2025-01-02 02:46:10,865] Trial 166 finished with value: 0.044256798819165624 and parameters: {'icm_weight': 0.24471840472658185}. Best is trial 91 with value: 0.044400295877117.\n"
     ]
    },
    {
     "name": "stdout",
     "output_type": "stream",
     "text": [
      "EvaluatorHoldout: Processed 35595 (100.0%) in 31.97 sec. Users per second: 1113\n"
     ]
    },
    {
     "name": "stderr",
     "output_type": "stream",
     "text": [
      "[I 2025-01-02 02:46:42,976] Trial 167 finished with value: 0.044279764413138294 and parameters: {'icm_weight': 0.32173578667803543}. Best is trial 91 with value: 0.044400295877117.\n"
     ]
    },
    {
     "name": "stdout",
     "output_type": "stream",
     "text": [
      "EvaluatorHoldout: Processed 35595 (100.0%) in 31.98 sec. Users per second: 1113\n"
     ]
    },
    {
     "name": "stderr",
     "output_type": "stream",
     "text": [
      "[I 2025-01-02 02:47:15,094] Trial 168 finished with value: 0.04439293016452581 and parameters: {'icm_weight': 0.28533704262403614}. Best is trial 91 with value: 0.044400295877117.\n"
     ]
    },
    {
     "name": "stdout",
     "output_type": "stream",
     "text": [
      "EvaluatorHoldout: Processed 35595 (100.0%) in 31.90 sec. Users per second: 1116\n"
     ]
    },
    {
     "name": "stderr",
     "output_type": "stream",
     "text": [
      "[I 2025-01-02 02:47:47,126] Trial 169 finished with value: 0.044204662461508684 and parameters: {'icm_weight': 0.34806604667791924}. Best is trial 91 with value: 0.044400295877117.\n"
     ]
    },
    {
     "name": "stdout",
     "output_type": "stream",
     "text": [
      "EvaluatorHoldout: Processed 35595 (100.0%) in 32.06 sec. Users per second: 1110\n"
     ]
    },
    {
     "name": "stderr",
     "output_type": "stream",
     "text": [
      "[I 2025-01-02 02:48:19,325] Trial 170 finished with value: 0.044144701079381315 and parameters: {'icm_weight': 0.21892050531726634}. Best is trial 91 with value: 0.044400295877117.\n"
     ]
    },
    {
     "name": "stdout",
     "output_type": "stream",
     "text": [
      "EvaluatorHoldout: Processed 35595 (100.0%) in 32.15 sec. Users per second: 1107\n"
     ]
    },
    {
     "name": "stderr",
     "output_type": "stream",
     "text": [
      "[I 2025-01-02 02:48:51,617] Trial 171 finished with value: 0.04438294124598233 and parameters: {'icm_weight': 0.2831696311697523}. Best is trial 91 with value: 0.044400295877117.\n"
     ]
    },
    {
     "name": "stdout",
     "output_type": "stream",
     "text": [
      "EvaluatorHoldout: Processed 35595 (100.0%) in 32.23 sec. Users per second: 1104\n"
     ]
    },
    {
     "name": "stderr",
     "output_type": "stream",
     "text": [
      "[I 2025-01-02 02:49:23,988] Trial 172 finished with value: 0.04432715380481769 and parameters: {'icm_weight': 0.2597885461150668}. Best is trial 91 with value: 0.044400295877117.\n"
     ]
    },
    {
     "name": "stdout",
     "output_type": "stream",
     "text": [
      "EvaluatorHoldout: Processed 35595 (100.0%) in 32.01 sec. Users per second: 1112\n"
     ]
    },
    {
     "name": "stderr",
     "output_type": "stream",
     "text": [
      "[I 2025-01-02 02:49:56,148] Trial 173 finished with value: 0.04435307259580176 and parameters: {'icm_weight': 0.30494091083171554}. Best is trial 91 with value: 0.044400295877117.\n"
     ]
    },
    {
     "name": "stdout",
     "output_type": "stream",
     "text": [
      "EvaluatorHoldout: Processed 35595 (100.0%) in 32.05 sec. Users per second: 1111\n"
     ]
    },
    {
     "name": "stderr",
     "output_type": "stream",
     "text": [
      "[I 2025-01-02 02:50:28,361] Trial 174 finished with value: 0.044383681496195815 and parameters: {'icm_weight': 0.28382849017773226}. Best is trial 91 with value: 0.044400295877117.\n"
     ]
    },
    {
     "name": "stdout",
     "output_type": "stream",
     "text": [
      "EvaluatorHoldout: Processed 35595 (100.0%) in 32.00 sec. Users per second: 1112\n"
     ]
    },
    {
     "name": "stderr",
     "output_type": "stream",
     "text": [
      "[I 2025-01-02 02:51:00,495] Trial 175 finished with value: 0.03580494964291754 and parameters: {'icm_weight': 0.9919910916946645}. Best is trial 91 with value: 0.044400295877117.\n"
     ]
    },
    {
     "name": "stdout",
     "output_type": "stream",
     "text": [
      "EvaluatorHoldout: Processed 35595 (100.0%) in 32.12 sec. Users per second: 1108\n"
     ]
    },
    {
     "name": "stderr",
     "output_type": "stream",
     "text": [
      "[I 2025-01-02 02:51:32,754] Trial 176 finished with value: 0.041811313119150255 and parameters: {'icm_weight': 0.5859785780130873}. Best is trial 91 with value: 0.044400295877117.\n"
     ]
    },
    {
     "name": "stdout",
     "output_type": "stream",
     "text": [
      "EvaluatorHoldout: Processed 35595 (100.0%) in 32.35 sec. Users per second: 1100\n"
     ]
    },
    {
     "name": "stderr",
     "output_type": "stream",
     "text": [
      "[I 2025-01-02 02:52:05,256] Trial 177 finished with value: 0.04436039037050264 and parameters: {'icm_weight': 0.2696728536602752}. Best is trial 91 with value: 0.044400295877117.\n"
     ]
    },
    {
     "name": "stdout",
     "output_type": "stream",
     "text": [
      "EvaluatorHoldout: Processed 35595 (100.0%) in 32.54 sec. Users per second: 1094\n"
     ]
    },
    {
     "name": "stderr",
     "output_type": "stream",
     "text": [
      "[I 2025-01-02 02:52:37,948] Trial 178 finished with value: 0.04425708533167295 and parameters: {'icm_weight': 0.2429880840555673}. Best is trial 91 with value: 0.044400295877117.\n"
     ]
    },
    {
     "name": "stdout",
     "output_type": "stream",
     "text": [
      "EvaluatorHoldout: Processed 35595 (100.0%) in 32.54 sec. Users per second: 1094\n"
     ]
    },
    {
     "name": "stderr",
     "output_type": "stream",
     "text": [
      "[I 2025-01-02 02:53:10,646] Trial 179 finished with value: 0.0442855972280735 and parameters: {'icm_weight': 0.319175675675425}. Best is trial 91 with value: 0.044400295877117.\n"
     ]
    },
    {
     "name": "stdout",
     "output_type": "stream",
     "text": [
      "EvaluatorHoldout: Processed 35595 (100.0%) in 32.49 sec. Users per second: 1096\n"
     ]
    },
    {
     "name": "stderr",
     "output_type": "stream",
     "text": [
      "[I 2025-01-02 02:53:43,287] Trial 180 finished with value: 0.04436594447677312 and parameters: {'icm_weight': 0.29732899524320094}. Best is trial 91 with value: 0.044400295877117.\n"
     ]
    },
    {
     "name": "stdout",
     "output_type": "stream",
     "text": [
      "EvaluatorHoldout: Processed 35595 (100.0%) in 32.47 sec. Users per second: 1096\n"
     ]
    },
    {
     "name": "stderr",
     "output_type": "stream",
     "text": [
      "[I 2025-01-02 02:54:15,899] Trial 181 finished with value: 0.04439709407197673 and parameters: {'icm_weight': 0.2865463749127894}. Best is trial 91 with value: 0.044400295877117.\n"
     ]
    },
    {
     "name": "stdout",
     "output_type": "stream",
     "text": [
      "EvaluatorHoldout: Processed 35595 (100.0%) in 32.28 sec. Users per second: 1103\n"
     ]
    },
    {
     "name": "stderr",
     "output_type": "stream",
     "text": [
      "[I 2025-01-02 02:54:48,329] Trial 182 finished with value: 0.044357371398246435 and parameters: {'icm_weight': 0.270612604262995}. Best is trial 91 with value: 0.044400295877117.\n"
     ]
    },
    {
     "name": "stdout",
     "output_type": "stream",
     "text": [
      "EvaluatorHoldout: Processed 35595 (100.0%) in 32.28 sec. Users per second: 1103\n"
     ]
    },
    {
     "name": "stderr",
     "output_type": "stream",
     "text": [
      "[I 2025-01-02 02:55:20,763] Trial 183 finished with value: 0.04437516861874065 and parameters: {'icm_weight': 0.2947698428450967}. Best is trial 91 with value: 0.044400295877117.\n"
     ]
    },
    {
     "name": "stdout",
     "output_type": "stream",
     "text": [
      "EvaluatorHoldout: Processed 35595 (100.0%) in 32.27 sec. Users per second: 1103\n"
     ]
    },
    {
     "name": "stderr",
     "output_type": "stream",
     "text": [
      "[I 2025-01-02 02:55:53,181] Trial 184 finished with value: 0.04429222380528591 and parameters: {'icm_weight': 0.24947219924922726}. Best is trial 91 with value: 0.044400295877117.\n"
     ]
    },
    {
     "name": "stdout",
     "output_type": "stream",
     "text": [
      "EvaluatorHoldout: Processed 35595 (100.0%) in 32.17 sec. Users per second: 1106\n"
     ]
    },
    {
     "name": "stderr",
     "output_type": "stream",
     "text": [
      "[I 2025-01-02 02:56:25,493] Trial 185 finished with value: 0.04425145653148018 and parameters: {'icm_weight': 0.3312173032184436}. Best is trial 91 with value: 0.044400295877117.\n"
     ]
    },
    {
     "name": "stdout",
     "output_type": "stream",
     "text": [
      "EvaluatorHoldout: Processed 35595 (100.0%) in 32.14 sec. Users per second: 1107\n"
     ]
    },
    {
     "name": "stderr",
     "output_type": "stream",
     "text": [
      "[I 2025-01-02 02:56:57,775] Trial 186 finished with value: 0.044190205285652456 and parameters: {'icm_weight': 0.2297607633391776}. Best is trial 91 with value: 0.044400295877117.\n"
     ]
    },
    {
     "name": "stdout",
     "output_type": "stream",
     "text": [
      "EvaluatorHoldout: Processed 35595 (100.0%) in 32.31 sec. Users per second: 1102\n"
     ]
    },
    {
     "name": "stderr",
     "output_type": "stream",
     "text": [
      "[I 2025-01-02 02:57:30,233] Trial 187 finished with value: 0.04438851095993805 and parameters: {'icm_weight': 0.2792701984053692}. Best is trial 91 with value: 0.044400295877117.\n"
     ]
    },
    {
     "name": "stdout",
     "output_type": "stream",
     "text": [
      "EvaluatorHoldout: Processed 35595 (100.0%) in 32.25 sec. Users per second: 1104\n"
     ]
    },
    {
     "name": "stderr",
     "output_type": "stream",
     "text": [
      "[I 2025-01-02 02:58:02,634] Trial 188 finished with value: 0.04432802337585156 and parameters: {'icm_weight': 0.31005884449505755}. Best is trial 91 with value: 0.044400295877117.\n"
     ]
    },
    {
     "name": "stdout",
     "output_type": "stream",
     "text": [
      "EvaluatorHoldout: Processed 35595 (100.0%) in 32.21 sec. Users per second: 1105\n"
     ]
    },
    {
     "name": "stderr",
     "output_type": "stream",
     "text": [
      "[I 2025-01-02 02:58:34,988] Trial 189 finished with value: 0.0443093019574252 and parameters: {'icm_weight': 0.25304384402963037}. Best is trial 91 with value: 0.044400295877117.\n"
     ]
    },
    {
     "name": "stdout",
     "output_type": "stream",
     "text": [
      "EvaluatorHoldout: Processed 35595 (100.0%) in 32.35 sec. Users per second: 1100\n"
     ]
    },
    {
     "name": "stderr",
     "output_type": "stream",
     "text": [
      "[I 2025-01-02 02:59:07,485] Trial 190 finished with value: 0.044366150721185056 and parameters: {'icm_weight': 0.27284098823314284}. Best is trial 91 with value: 0.044400295877117.\n"
     ]
    },
    {
     "name": "stdout",
     "output_type": "stream",
     "text": [
      "EvaluatorHoldout: Processed 35595 (100.0%) in 32.33 sec. Users per second: 1101\n"
     ]
    },
    {
     "name": "stderr",
     "output_type": "stream",
     "text": [
      "[I 2025-01-02 02:59:39,952] Trial 191 finished with value: 0.04439304833699966 and parameters: {'icm_weight': 0.28618257260661073}. Best is trial 91 with value: 0.044400295877117.\n"
     ]
    },
    {
     "name": "stdout",
     "output_type": "stream",
     "text": [
      "EvaluatorHoldout: Processed 35595 (100.0%) in 32.29 sec. Users per second: 1102\n"
     ]
    },
    {
     "name": "stderr",
     "output_type": "stream",
     "text": [
      "[I 2025-01-02 03:00:12,398] Trial 192 finished with value: 0.04438327235187598 and parameters: {'icm_weight': 0.2928737327445828}. Best is trial 91 with value: 0.044400295877117.\n"
     ]
    },
    {
     "name": "stdout",
     "output_type": "stream",
     "text": [
      "EvaluatorHoldout: Processed 35595 (100.0%) in 32.25 sec. Users per second: 1104\n"
     ]
    },
    {
     "name": "stderr",
     "output_type": "stream",
     "text": [
      "[I 2025-01-02 03:00:44,789] Trial 193 finished with value: 0.04429600420961414 and parameters: {'icm_weight': 0.31646001378122796}. Best is trial 91 with value: 0.044400295877117.\n"
     ]
    },
    {
     "name": "stdout",
     "output_type": "stream",
     "text": [
      "EvaluatorHoldout: Processed 35595 (100.0%) in 32.36 sec. Users per second: 1100\n"
     ]
    },
    {
     "name": "stderr",
     "output_type": "stream",
     "text": [
      "[I 2025-01-02 03:01:17,289] Trial 194 finished with value: 0.044328707884332165 and parameters: {'icm_weight': 0.2630601374099044}. Best is trial 91 with value: 0.044400295877117.\n"
     ]
    },
    {
     "name": "stdout",
     "output_type": "stream",
     "text": [
      "EvaluatorHoldout: Processed 35595 (100.0%) in 32.36 sec. Users per second: 1100\n"
     ]
    },
    {
     "name": "stderr",
     "output_type": "stream",
     "text": [
      "[I 2025-01-02 03:01:49,795] Trial 195 finished with value: 0.04438229129737621 and parameters: {'icm_weight': 0.2894654269415229}. Best is trial 91 with value: 0.044400295877117.\n"
     ]
    },
    {
     "name": "stdout",
     "output_type": "stream",
     "text": [
      "EvaluatorHoldout: Processed 35595 (100.0%) in 32.22 sec. Users per second: 1105\n"
     ]
    },
    {
     "name": "stderr",
     "output_type": "stream",
     "text": [
      "[I 2025-01-02 03:02:22,162] Trial 196 finished with value: 0.04423693581004844 and parameters: {'icm_weight': 0.34115334225321037}. Best is trial 91 with value: 0.044400295877117.\n"
     ]
    },
    {
     "name": "stdout",
     "output_type": "stream",
     "text": [
      "EvaluatorHoldout: Processed 35595 (100.0%) in 32.19 sec. Users per second: 1106\n"
     ]
    },
    {
     "name": "stderr",
     "output_type": "stream",
     "text": [
      "[I 2025-01-02 03:02:54,489] Trial 197 finished with value: 0.04435279500197171 and parameters: {'icm_weight': 0.3062186255020108}. Best is trial 91 with value: 0.044400295877117.\n"
     ]
    },
    {
     "name": "stdout",
     "output_type": "stream",
     "text": [
      "EvaluatorHoldout: Processed 35595 (100.0%) in 32.20 sec. Users per second: 1105\n"
     ]
    },
    {
     "name": "stderr",
     "output_type": "stream",
     "text": [
      "[I 2025-01-02 03:03:26,837] Trial 198 finished with value: 0.044201899901223994 and parameters: {'icm_weight': 0.23158110902282913}. Best is trial 91 with value: 0.044400295877117.\n"
     ]
    },
    {
     "name": "stdout",
     "output_type": "stream",
     "text": [
      "EvaluatorHoldout: Processed 35595 (100.0%) in 32.26 sec. Users per second: 1103\n"
     ]
    },
    {
     "name": "stderr",
     "output_type": "stream",
     "text": [
      "[I 2025-01-02 03:03:59,245] Trial 199 finished with value: 0.04438837049077104 and parameters: {'icm_weight': 0.27932740849098603}. Best is trial 91 with value: 0.044400295877117.\n"
     ]
    },
    {
     "name": "stdout",
     "output_type": "stream",
     "text": [
      "EvaluatorHoldout: Processed 35595 (100.0%) in 32.44 sec. Users per second: 1097\n"
     ]
    },
    {
     "name": "stderr",
     "output_type": "stream",
     "text": [
      "[I 2025-01-02 03:04:31,826] Trial 200 finished with value: 0.044333510592042574 and parameters: {'icm_weight': 0.2582832453881503}. Best is trial 91 with value: 0.044400295877117.\n"
     ]
    },
    {
     "name": "stdout",
     "output_type": "stream",
     "text": [
      "EvaluatorHoldout: Processed 35595 (100.0%) in 32.26 sec. Users per second: 1103\n"
     ]
    },
    {
     "name": "stderr",
     "output_type": "stream",
     "text": [
      "[I 2025-01-02 03:05:04,234] Trial 201 finished with value: 0.04438199252168762 and parameters: {'icm_weight': 0.27993567705441963}. Best is trial 91 with value: 0.044400295877117.\n"
     ]
    },
    {
     "name": "stdout",
     "output_type": "stream",
     "text": [
      "EvaluatorHoldout: Processed 35595 (100.0%) in 32.17 sec. Users per second: 1106\n"
     ]
    },
    {
     "name": "stderr",
     "output_type": "stream",
     "text": [
      "[I 2025-01-02 03:05:36,556] Trial 202 finished with value: 0.04438560570081701 and parameters: {'icm_weight': 0.28992278352592055}. Best is trial 91 with value: 0.044400295877117.\n"
     ]
    },
    {
     "name": "stdout",
     "output_type": "stream",
     "text": [
      "EvaluatorHoldout: Processed 35595 (100.0%) in 32.23 sec. Users per second: 1104\n"
     ]
    },
    {
     "name": "stderr",
     "output_type": "stream",
     "text": [
      "[I 2025-01-02 03:06:08,930] Trial 203 finished with value: 0.04433000666670967 and parameters: {'icm_weight': 0.31055767569632386}. Best is trial 91 with value: 0.044400295877117.\n"
     ]
    },
    {
     "name": "stdout",
     "output_type": "stream",
     "text": [
      "EvaluatorHoldout: Processed 35595 (100.0%) in 32.34 sec. Users per second: 1101\n"
     ]
    },
    {
     "name": "stderr",
     "output_type": "stream",
     "text": [
      "[I 2025-01-02 03:06:41,417] Trial 204 finished with value: 0.044342132723294285 and parameters: {'icm_weight': 0.26740175708542985}. Best is trial 91 with value: 0.044400295877117.\n"
     ]
    },
    {
     "name": "stdout",
     "output_type": "stream",
     "text": [
      "EvaluatorHoldout: Processed 35595 (100.0%) in 32.58 sec. Users per second: 1092\n"
     ]
    },
    {
     "name": "stderr",
     "output_type": "stream",
     "text": [
      "[I 2025-01-02 03:07:14,143] Trial 205 finished with value: 0.04425803517080231 and parameters: {'icm_weight': 0.24414446752510258}. Best is trial 91 with value: 0.044400295877117.\n"
     ]
    },
    {
     "name": "stdout",
     "output_type": "stream",
     "text": [
      "EvaluatorHoldout: Processed 35595 (100.0%) in 32.81 sec. Users per second: 1085\n"
     ]
    },
    {
     "name": "stderr",
     "output_type": "stream",
     "text": [
      "[I 2025-01-02 03:07:47,113] Trial 206 finished with value: 0.04438584984960732 and parameters: {'icm_weight': 0.2803552816696616}. Best is trial 91 with value: 0.044400295877117.\n"
     ]
    },
    {
     "name": "stdout",
     "output_type": "stream",
     "text": [
      "EvaluatorHoldout: Processed 35595 (100.0%) in 32.61 sec. Users per second: 1091\n"
     ]
    },
    {
     "name": "stderr",
     "output_type": "stream",
     "text": [
      "[I 2025-01-02 03:08:19,880] Trial 207 finished with value: 0.044248959301844325 and parameters: {'icm_weight': 0.32790573422484}. Best is trial 91 with value: 0.044400295877117.\n"
     ]
    },
    {
     "name": "stdout",
     "output_type": "stream",
     "text": [
      "EvaluatorHoldout: Processed 35595 (100.0%) in 32.61 sec. Users per second: 1091\n"
     ]
    },
    {
     "name": "stderr",
     "output_type": "stream",
     "text": [
      "[I 2025-01-02 03:08:52,644] Trial 208 finished with value: 0.04436348961085427 and parameters: {'icm_weight': 0.3012783570144183}. Best is trial 91 with value: 0.044400295877117.\n"
     ]
    },
    {
     "name": "stdout",
     "output_type": "stream",
     "text": [
      "EvaluatorHoldout: Processed 35595 (100.0%) in 32.60 sec. Users per second: 1092\n"
     ]
    },
    {
     "name": "stderr",
     "output_type": "stream",
     "text": [
      "[I 2025-01-02 03:09:25,407] Trial 209 finished with value: 0.04432927756484287 and parameters: {'icm_weight': 0.26094730246753434}. Best is trial 91 with value: 0.044400295877117.\n"
     ]
    },
    {
     "name": "stdout",
     "output_type": "stream",
     "text": [
      "EvaluatorHoldout: Processed 35595 (100.0%) in 32.43 sec. Users per second: 1097\n"
     ]
    },
    {
     "name": "stderr",
     "output_type": "stream",
     "text": [
      "[I 2025-01-02 03:09:57,998] Trial 210 finished with value: 0.04438573056229884 and parameters: {'icm_weight': 0.28421824171576926}. Best is trial 91 with value: 0.044400295877117.\n"
     ]
    },
    {
     "name": "stdout",
     "output_type": "stream",
     "text": [
      "EvaluatorHoldout: Processed 35595 (100.0%) in 32.63 sec. Users per second: 1091\n"
     ]
    },
    {
     "name": "stderr",
     "output_type": "stream",
     "text": [
      "[I 2025-01-02 03:10:30,815] Trial 211 finished with value: 0.04439325792591554 and parameters: {'icm_weight': 0.27734328705002836}. Best is trial 91 with value: 0.044400295877117.\n"
     ]
    },
    {
     "name": "stdout",
     "output_type": "stream",
     "text": [
      "EvaluatorHoldout: Processed 35595 (100.0%) in 32.52 sec. Users per second: 1094\n"
     ]
    },
    {
     "name": "stderr",
     "output_type": "stream",
     "text": [
      "[I 2025-01-02 03:11:03,486] Trial 212 finished with value: 0.044356203051523845 and parameters: {'icm_weight': 0.30366175637991355}. Best is trial 91 with value: 0.044400295877117.\n"
     ]
    },
    {
     "name": "stdout",
     "output_type": "stream",
     "text": [
      "EvaluatorHoldout: Processed 35595 (100.0%) in 32.89 sec. Users per second: 1082\n"
     ]
    },
    {
     "name": "stderr",
     "output_type": "stream",
     "text": [
      "[I 2025-01-02 03:11:36,533] Trial 213 finished with value: 0.04432650162654229 and parameters: {'icm_weight': 0.25495568426151644}. Best is trial 91 with value: 0.044400295877117.\n"
     ]
    },
    {
     "name": "stdout",
     "output_type": "stream",
     "text": [
      "EvaluatorHoldout: Processed 35595 (100.0%) in 32.57 sec. Users per second: 1093\n"
     ]
    },
    {
     "name": "stderr",
     "output_type": "stream",
     "text": [
      "[I 2025-01-02 03:12:09,254] Trial 214 finished with value: 0.04437087427563465 and parameters: {'icm_weight': 0.2744594417279547}. Best is trial 91 with value: 0.044400295877117.\n"
     ]
    },
    {
     "name": "stdout",
     "output_type": "stream",
     "text": [
      "EvaluatorHoldout: Processed 35595 (100.0%) in 32.38 sec. Users per second: 1099\n"
     ]
    },
    {
     "name": "stderr",
     "output_type": "stream",
     "text": [
      "[I 2025-01-02 03:12:41,782] Trial 215 finished with value: 0.044260952693104476 and parameters: {'icm_weight': 0.3271251913874922}. Best is trial 91 with value: 0.044400295877117.\n"
     ]
    },
    {
     "name": "stdout",
     "output_type": "stream",
     "text": [
      "EvaluatorHoldout: Processed 35595 (100.0%) in 32.55 sec. Users per second: 1094\n"
     ]
    },
    {
     "name": "stderr",
     "output_type": "stream",
     "text": [
      "[I 2025-01-02 03:13:14,470] Trial 216 finished with value: 0.04437677955482272 and parameters: {'icm_weight': 0.29407114332580164}. Best is trial 91 with value: 0.044400295877117.\n"
     ]
    },
    {
     "name": "stdout",
     "output_type": "stream",
     "text": [
      "EvaluatorHoldout: Processed 35595 (100.0%) in 32.50 sec. Users per second: 1095\n"
     ]
    },
    {
     "name": "stderr",
     "output_type": "stream",
     "text": [
      "[I 2025-01-02 03:13:47,112] Trial 217 finished with value: 0.0442557151998772 and parameters: {'icm_weight': 0.242140545448994}. Best is trial 91 with value: 0.044400295877117.\n"
     ]
    },
    {
     "name": "stdout",
     "output_type": "stream",
     "text": [
      "EvaluatorHoldout: Processed 35595 (100.0%) in 32.41 sec. Users per second: 1098\n"
     ]
    },
    {
     "name": "stderr",
     "output_type": "stream",
     "text": [
      "[I 2025-01-02 03:14:19,674] Trial 218 finished with value: 0.044146397857732105 and parameters: {'icm_weight': 0.2186741272864306}. Best is trial 91 with value: 0.044400295877117.\n"
     ]
    },
    {
     "name": "stdout",
     "output_type": "stream",
     "text": [
      "EvaluatorHoldout: Processed 35595 (100.0%) in 32.38 sec. Users per second: 1099\n"
     ]
    },
    {
     "name": "stderr",
     "output_type": "stream",
     "text": [
      "[I 2025-01-02 03:14:52,202] Trial 219 finished with value: 0.044328274213649856 and parameters: {'icm_weight': 0.26644242476493507}. Best is trial 91 with value: 0.044400295877117.\n"
     ]
    },
    {
     "name": "stdout",
     "output_type": "stream",
     "text": [
      "EvaluatorHoldout: Processed 35595 (100.0%) in 32.35 sec. Users per second: 1100\n"
     ]
    },
    {
     "name": "stderr",
     "output_type": "stream",
     "text": [
      "[I 2025-01-02 03:15:24,703] Trial 220 finished with value: 0.044314678804984874 and parameters: {'icm_weight': 0.3136295727006313}. Best is trial 91 with value: 0.044400295877117.\n"
     ]
    },
    {
     "name": "stdout",
     "output_type": "stream",
     "text": [
      "EvaluatorHoldout: Processed 35595 (100.0%) in 32.21 sec. Users per second: 1105\n"
     ]
    },
    {
     "name": "stderr",
     "output_type": "stream",
     "text": [
      "[I 2025-01-02 03:15:57,065] Trial 221 finished with value: 0.04437946519151596 and parameters: {'icm_weight': 0.28323097022980903}. Best is trial 91 with value: 0.044400295877117.\n"
     ]
    },
    {
     "name": "stdout",
     "output_type": "stream",
     "text": [
      "EvaluatorHoldout: Processed 35595 (100.0%) in 32.36 sec. Users per second: 1100\n"
     ]
    },
    {
     "name": "stderr",
     "output_type": "stream",
     "text": [
      "[I 2025-01-02 03:16:29,573] Trial 222 finished with value: 0.04436292438968226 and parameters: {'icm_weight': 0.27204829856320745}. Best is trial 91 with value: 0.044400295877117.\n"
     ]
    },
    {
     "name": "stdout",
     "output_type": "stream",
     "text": [
      "EvaluatorHoldout: Processed 35595 (100.0%) in 32.19 sec. Users per second: 1106\n"
     ]
    },
    {
     "name": "stderr",
     "output_type": "stream",
     "text": [
      "[I 2025-01-02 03:17:01,903] Trial 223 finished with value: 0.04438522331252902 and parameters: {'icm_weight': 0.2911026881161696}. Best is trial 91 with value: 0.044400295877117.\n"
     ]
    },
    {
     "name": "stdout",
     "output_type": "stream",
     "text": [
      "EvaluatorHoldout: Processed 35595 (100.0%) in 32.32 sec. Users per second: 1101\n"
     ]
    },
    {
     "name": "stderr",
     "output_type": "stream",
     "text": [
      "[I 2025-01-02 03:17:34,369] Trial 224 finished with value: 0.04429520264349441 and parameters: {'icm_weight': 0.24940515832837076}. Best is trial 91 with value: 0.044400295877117.\n"
     ]
    },
    {
     "name": "stdout",
     "output_type": "stream",
     "text": [
      "EvaluatorHoldout: Processed 35595 (100.0%) in 32.37 sec. Users per second: 1100\n"
     ]
    },
    {
     "name": "stderr",
     "output_type": "stream",
     "text": [
      "[I 2025-01-02 03:18:06,911] Trial 225 finished with value: 0.04439305056666898 and parameters: {'icm_weight': 0.2771970976525233}. Best is trial 91 with value: 0.044400295877117.\n"
     ]
    },
    {
     "name": "stdout",
     "output_type": "stream",
     "text": [
      "EvaluatorHoldout: Processed 35595 (100.0%) in 32.40 sec. Users per second: 1099\n"
     ]
    },
    {
     "name": "stderr",
     "output_type": "stream",
     "text": [
      "[I 2025-01-02 03:18:39,453] Trial 226 finished with value: 0.04435425320570547 and parameters: {'icm_weight': 0.3038849653582953}. Best is trial 91 with value: 0.044400295877117.\n"
     ]
    },
    {
     "name": "stdout",
     "output_type": "stream",
     "text": [
      "EvaluatorHoldout: Processed 35595 (100.0%) in 32.38 sec. Users per second: 1099\n"
     ]
    },
    {
     "name": "stderr",
     "output_type": "stream",
     "text": [
      "[I 2025-01-02 03:19:11,974] Trial 227 finished with value: 0.04435801019850595 and parameters: {'icm_weight': 0.2696167572923741}. Best is trial 91 with value: 0.044400295877117.\n"
     ]
    },
    {
     "name": "stdout",
     "output_type": "stream",
     "text": [
      "EvaluatorHoldout: Processed 35595 (100.0%) in 32.56 sec. Users per second: 1093\n"
     ]
    },
    {
     "name": "stderr",
     "output_type": "stream",
     "text": [
      "[I 2025-01-02 03:19:44,682] Trial 228 finished with value: 0.04425142085677114 and parameters: {'icm_weight': 0.328218333174709}. Best is trial 91 with value: 0.044400295877117.\n"
     ]
    },
    {
     "name": "stdout",
     "output_type": "stream",
     "text": [
      "EvaluatorHoldout: Processed 35595 (100.0%) in 32.58 sec. Users per second: 1093\n"
     ]
    },
    {
     "name": "stderr",
     "output_type": "stream",
     "text": [
      "[I 2025-01-02 03:20:17,405] Trial 229 finished with value: 0.04418879279013964 and parameters: {'icm_weight': 0.231065062321959}. Best is trial 91 with value: 0.044400295877117.\n"
     ]
    },
    {
     "name": "stdout",
     "output_type": "stream",
     "text": [
      "EvaluatorHoldout: Processed 35595 (100.0%) in 32.29 sec. Users per second: 1102\n"
     ]
    },
    {
     "name": "stderr",
     "output_type": "stream",
     "text": [
      "[I 2025-01-02 03:20:49,841] Trial 230 finished with value: 0.04437718981397719 and parameters: {'icm_weight': 0.2912093656471439}. Best is trial 91 with value: 0.044400295877117.\n"
     ]
    },
    {
     "name": "stdout",
     "output_type": "stream",
     "text": [
      "EvaluatorHoldout: Processed 35595 (100.0%) in 32.22 sec. Users per second: 1105\n"
     ]
    },
    {
     "name": "stderr",
     "output_type": "stream",
     "text": [
      "[I 2025-01-02 03:21:22,206] Trial 231 finished with value: 0.044364052602357026 and parameters: {'icm_weight': 0.274136932432261}. Best is trial 91 with value: 0.044400295877117.\n"
     ]
    },
    {
     "name": "stdout",
     "output_type": "stream",
     "text": [
      "EvaluatorHoldout: Processed 35595 (100.0%) in 32.41 sec. Users per second: 1098\n"
     ]
    },
    {
     "name": "stderr",
     "output_type": "stream",
     "text": [
      "[I 2025-01-02 03:21:54,758] Trial 232 finished with value: 0.04433029652372106 and parameters: {'icm_weight': 0.25971303058828715}. Best is trial 91 with value: 0.044400295877117.\n"
     ]
    },
    {
     "name": "stdout",
     "output_type": "stream",
     "text": [
      "EvaluatorHoldout: Processed 35595 (100.0%) in 32.55 sec. Users per second: 1094\n"
     ]
    },
    {
     "name": "stderr",
     "output_type": "stream",
     "text": [
      "[I 2025-01-02 03:22:27,456] Trial 233 finished with value: 0.044394609105522106 and parameters: {'icm_weight': 0.28783390418687627}. Best is trial 91 with value: 0.044400295877117.\n"
     ]
    },
    {
     "name": "stdout",
     "output_type": "stream",
     "text": [
      "EvaluatorHoldout: Processed 35595 (100.0%) in 32.42 sec. Users per second: 1098\n"
     ]
    },
    {
     "name": "stderr",
     "output_type": "stream",
     "text": [
      "[I 2025-01-02 03:23:00,036] Trial 234 finished with value: 0.04434655304271669 and parameters: {'icm_weight': 0.3081876788850049}. Best is trial 91 with value: 0.044400295877117.\n"
     ]
    },
    {
     "name": "stdout",
     "output_type": "stream",
     "text": [
      "EvaluatorHoldout: Processed 35595 (100.0%) in 32.22 sec. Users per second: 1105\n"
     ]
    },
    {
     "name": "stderr",
     "output_type": "stream",
     "text": [
      "[I 2025-01-02 03:23:32,405] Trial 235 finished with value: 0.04438970494785771 and parameters: {'icm_weight': 0.28820840740003795}. Best is trial 91 with value: 0.044400295877117.\n"
     ]
    },
    {
     "name": "stdout",
     "output_type": "stream",
     "text": [
      "EvaluatorHoldout: Processed 35595 (100.0%) in 32.26 sec. Users per second: 1103\n"
     ]
    },
    {
     "name": "stderr",
     "output_type": "stream",
     "text": [
      "[I 2025-01-02 03:24:04,825] Trial 236 finished with value: 0.0443860951132323 and parameters: {'icm_weight': 0.2889954129279521}. Best is trial 91 with value: 0.044400295877117.\n"
     ]
    },
    {
     "name": "stdout",
     "output_type": "stream",
     "text": [
      "EvaluatorHoldout: Processed 35595 (100.0%) in 32.14 sec. Users per second: 1108\n"
     ]
    },
    {
     "name": "stderr",
     "output_type": "stream",
     "text": [
      "[I 2025-01-02 03:24:37,111] Trial 237 finished with value: 0.0443449666329971 and parameters: {'icm_weight': 0.3090752690966873}. Best is trial 91 with value: 0.044400295877117.\n"
     ]
    },
    {
     "name": "stdout",
     "output_type": "stream",
     "text": [
      "EvaluatorHoldout: Processed 35595 (100.0%) in 32.41 sec. Users per second: 1098\n"
     ]
    },
    {
     "name": "stderr",
     "output_type": "stream",
     "text": [
      "[I 2025-01-02 03:25:09,663] Trial 238 finished with value: 0.044325869515290696 and parameters: {'icm_weight': 0.25561736204337976}. Best is trial 91 with value: 0.044400295877117.\n"
     ]
    },
    {
     "name": "stdout",
     "output_type": "stream",
     "text": [
      "EvaluatorHoldout: Processed 35595 (100.0%) in 32.12 sec. Users per second: 1108\n"
     ]
    },
    {
     "name": "stderr",
     "output_type": "stream",
     "text": [
      "[I 2025-01-02 03:25:41,922] Trial 239 finished with value: 0.04438492788134443 and parameters: {'icm_weight': 0.28288744117134135}. Best is trial 91 with value: 0.044400295877117.\n"
     ]
    },
    {
     "name": "stdout",
     "output_type": "stream",
     "text": [
      "EvaluatorHoldout: Processed 35595 (100.0%) in 32.19 sec. Users per second: 1106\n"
     ]
    },
    {
     "name": "stderr",
     "output_type": "stream",
     "text": [
      "[I 2025-01-02 03:26:14,254] Trial 240 finished with value: 0.042520536369249684 and parameters: {'icm_weight': 0.03172825650850247}. Best is trial 91 with value: 0.044400295877117.\n"
     ]
    },
    {
     "name": "stdout",
     "output_type": "stream",
     "text": [
      "EvaluatorHoldout: Processed 35595 (100.0%) in 32.15 sec. Users per second: 1107\n"
     ]
    },
    {
     "name": "stderr",
     "output_type": "stream",
     "text": [
      "[I 2025-01-02 03:26:46,542] Trial 241 finished with value: 0.04437823887339117 and parameters: {'icm_weight': 0.29421947233667467}. Best is trial 91 with value: 0.044400295877117.\n"
     ]
    },
    {
     "name": "stdout",
     "output_type": "stream",
     "text": [
      "EvaluatorHoldout: Processed 35595 (100.0%) in 32.14 sec. Users per second: 1107\n"
     ]
    },
    {
     "name": "stderr",
     "output_type": "stream",
     "text": [
      "[I 2025-01-02 03:27:18,842] Trial 242 finished with value: 0.04436137142500245 and parameters: {'icm_weight': 0.2702509697709026}. Best is trial 91 with value: 0.044400295877117.\n"
     ]
    },
    {
     "name": "stdout",
     "output_type": "stream",
     "text": [
      "EvaluatorHoldout: Processed 35595 (100.0%) in 32.10 sec. Users per second: 1109\n"
     ]
    },
    {
     "name": "stderr",
     "output_type": "stream",
     "text": [
      "[I 2025-01-02 03:27:51,089] Trial 243 finished with value: 0.044257764265980194 and parameters: {'icm_weight': 0.24311203725877636}. Best is trial 91 with value: 0.044400295877117.\n"
     ]
    },
    {
     "name": "stdout",
     "output_type": "stream",
     "text": [
      "EvaluatorHoldout: Processed 35595 (100.0%) in 32.13 sec. Users per second: 1108\n"
     ]
    },
    {
     "name": "stderr",
     "output_type": "stream",
     "text": [
      "[I 2025-01-02 03:28:23,379] Trial 244 finished with value: 0.04428367636795626 and parameters: {'icm_weight': 0.322106414531729}. Best is trial 91 with value: 0.044400295877117.\n"
     ]
    },
    {
     "name": "stdout",
     "output_type": "stream",
     "text": [
      "EvaluatorHoldout: Processed 35595 (100.0%) in 32.20 sec. Users per second: 1105\n"
     ]
    },
    {
     "name": "stderr",
     "output_type": "stream",
     "text": [
      "[I 2025-01-02 03:28:55,737] Trial 245 finished with value: 0.04437760341763566 and parameters: {'icm_weight': 0.28112359132779646}. Best is trial 91 with value: 0.044400295877117.\n"
     ]
    },
    {
     "name": "stdout",
     "output_type": "stream",
     "text": [
      "EvaluatorHoldout: Processed 35595 (100.0%) in 32.22 sec. Users per second: 1105\n"
     ]
    },
    {
     "name": "stderr",
     "output_type": "stream",
     "text": [
      "[I 2025-01-02 03:29:28,107] Trial 246 finished with value: 0.04436221869934316 and parameters: {'icm_weight': 0.30064811676544934}. Best is trial 91 with value: 0.044400295877117.\n"
     ]
    },
    {
     "name": "stdout",
     "output_type": "stream",
     "text": [
      "EvaluatorHoldout: Processed 35595 (100.0%) in 32.27 sec. Users per second: 1103\n"
     ]
    },
    {
     "name": "stderr",
     "output_type": "stream",
     "text": [
      "[I 2025-01-02 03:30:00,516] Trial 247 finished with value: 0.0443324760254792 and parameters: {'icm_weight': 0.2619613381327895}. Best is trial 91 with value: 0.044400295877117.\n"
     ]
    },
    {
     "name": "stdout",
     "output_type": "stream",
     "text": [
      "EvaluatorHoldout: Processed 35595 (100.0%) in 32.22 sec. Users per second: 1105\n"
     ]
    },
    {
     "name": "stderr",
     "output_type": "stream",
     "text": [
      "[I 2025-01-02 03:30:32,881] Trial 248 finished with value: 0.04437957667498183 and parameters: {'icm_weight': 0.282233904247688}. Best is trial 91 with value: 0.044400295877117.\n"
     ]
    },
    {
     "name": "stdout",
     "output_type": "stream",
     "text": [
      "EvaluatorHoldout: Processed 35595 (100.0%) in 32.43 sec. Users per second: 1097\n"
     ]
    },
    {
     "name": "stderr",
     "output_type": "stream",
     "text": [
      "[I 2025-01-02 03:31:05,466] Trial 249 finished with value: 0.04292479994291921 and parameters: {'icm_weight': 0.503323865780878}. Best is trial 91 with value: 0.044400295877117.\n"
     ]
    },
    {
     "name": "stdout",
     "output_type": "stream",
     "text": [
      "EvaluatorHoldout: Processed 35595 (100.0%) in 32.21 sec. Users per second: 1105\n"
     ]
    },
    {
     "name": "stderr",
     "output_type": "stream",
     "text": [
      "[I 2025-01-02 03:31:37,823] Trial 250 finished with value: 0.044301310822590347 and parameters: {'icm_weight': 0.31511534150900183}. Best is trial 91 with value: 0.044400295877117.\n"
     ]
    },
    {
     "name": "stdout",
     "output_type": "stream",
     "text": [
      "EvaluatorHoldout: Processed 35595 (100.0%) in 32.21 sec. Users per second: 1105\n"
     ]
    },
    {
     "name": "stderr",
     "output_type": "stream",
     "text": [
      "[I 2025-01-02 03:32:10,177] Trial 251 finished with value: 0.04431171557446163 and parameters: {'icm_weight': 0.25255130372451773}. Best is trial 91 with value: 0.044400295877117.\n"
     ]
    },
    {
     "name": "stdout",
     "output_type": "stream",
     "text": [
      "EvaluatorHoldout: Processed 35595 (100.0%) in 32.24 sec. Users per second: 1104\n"
     ]
    },
    {
     "name": "stderr",
     "output_type": "stream",
     "text": [
      "[I 2025-01-02 03:32:42,567] Trial 252 finished with value: 0.044356873067153885 and parameters: {'icm_weight': 0.299566702140955}. Best is trial 91 with value: 0.044400295877117.\n"
     ]
    },
    {
     "name": "stdout",
     "output_type": "stream",
     "text": [
      "EvaluatorHoldout: Processed 35595 (100.0%) in 32.22 sec. Users per second: 1105\n"
     ]
    },
    {
     "name": "stderr",
     "output_type": "stream",
     "text": [
      "[I 2025-01-02 03:33:14,934] Trial 253 finished with value: 0.04423475965279432 and parameters: {'icm_weight': 0.34098772725058984}. Best is trial 91 with value: 0.044400295877117.\n"
     ]
    },
    {
     "name": "stdout",
     "output_type": "stream",
     "text": [
      "EvaluatorHoldout: Processed 35595 (100.0%) in 32.37 sec. Users per second: 1100\n"
     ]
    },
    {
     "name": "stderr",
     "output_type": "stream",
     "text": [
      "[I 2025-01-02 03:33:47,455] Trial 254 finished with value: 0.04436350856304352 and parameters: {'icm_weight': 0.27220511108297396}. Best is trial 91 with value: 0.044400295877117.\n"
     ]
    },
    {
     "name": "stdout",
     "output_type": "stream",
     "text": [
      "EvaluatorHoldout: Processed 35595 (100.0%) in 32.72 sec. Users per second: 1088\n"
     ]
    },
    {
     "name": "stderr",
     "output_type": "stream",
     "text": [
      "[I 2025-01-02 03:34:20,324] Trial 255 finished with value: 0.04426433064212096 and parameters: {'icm_weight': 0.24573623869831956}. Best is trial 91 with value: 0.044400295877117.\n"
     ]
    },
    {
     "name": "stdout",
     "output_type": "stream",
     "text": [
      "EvaluatorHoldout: Processed 35595 (100.0%) in 32.82 sec. Users per second: 1084\n"
     ]
    },
    {
     "name": "stderr",
     "output_type": "stream",
     "text": [
      "[I 2025-01-02 03:34:53,302] Trial 256 finished with value: 0.044386331458179946 and parameters: {'icm_weight': 0.2898485671756788}. Best is trial 91 with value: 0.044400295877117.\n"
     ]
    },
    {
     "name": "stdout",
     "output_type": "stream",
     "text": [
      "EvaluatorHoldout: Processed 35595 (100.0%) in 32.96 sec. Users per second: 1080\n"
     ]
    },
    {
     "name": "stderr",
     "output_type": "stream",
     "text": [
      "[I 2025-01-02 03:35:26,409] Trial 257 finished with value: 0.044281547033757813 and parameters: {'icm_weight': 0.3221616606708861}. Best is trial 91 with value: 0.044400295877117.\n"
     ]
    },
    {
     "name": "stdout",
     "output_type": "stream",
     "text": [
      "EvaluatorHoldout: Processed 35595 (100.0%) in 32.92 sec. Users per second: 1081\n"
     ]
    },
    {
     "name": "stderr",
     "output_type": "stream",
     "text": [
      "[I 2025-01-02 03:35:59,481] Trial 258 finished with value: 0.04436365906572246 and parameters: {'icm_weight': 0.27073936378360436}. Best is trial 91 with value: 0.044400295877117.\n"
     ]
    },
    {
     "name": "stdout",
     "output_type": "stream",
     "text": [
      "EvaluatorHoldout: Processed 35595 (100.0%) in 32.71 sec. Users per second: 1088\n"
     ]
    },
    {
     "name": "stderr",
     "output_type": "stream",
     "text": [
      "[I 2025-01-02 03:36:32,357] Trial 259 finished with value: 0.04419147285265958 and parameters: {'icm_weight': 0.2311706055501513}. Best is trial 91 with value: 0.044400295877117.\n"
     ]
    },
    {
     "name": "stdout",
     "output_type": "stream",
     "text": [
      "EvaluatorHoldout: Processed 35595 (100.0%) in 32.33 sec. Users per second: 1101\n"
     ]
    },
    {
     "name": "stderr",
     "output_type": "stream",
     "text": [
      "[I 2025-01-02 03:37:04,835] Trial 260 finished with value: 0.04436221869934316 and parameters: {'icm_weight': 0.3006465685475131}. Best is trial 91 with value: 0.044400295877117.\n"
     ]
    },
    {
     "name": "stdout",
     "output_type": "stream",
     "text": [
      "EvaluatorHoldout: Processed 35595 (100.0%) in 32.16 sec. Users per second: 1107\n"
     ]
    },
    {
     "name": "stderr",
     "output_type": "stream",
     "text": [
      "[I 2025-01-02 03:37:37,145] Trial 261 finished with value: 0.04432610140089974 and parameters: {'icm_weight': 0.2557532606303471}. Best is trial 91 with value: 0.044400295877117.\n"
     ]
    },
    {
     "name": "stdout",
     "output_type": "stream",
     "text": [
      "EvaluatorHoldout: Processed 35595 (100.0%) in 32.17 sec. Users per second: 1106\n"
     ]
    },
    {
     "name": "stderr",
     "output_type": "stream",
     "text": [
      "[I 2025-01-02 03:38:09,465] Trial 262 finished with value: 0.044181048033764485 and parameters: {'icm_weight': 0.351434090815516}. Best is trial 91 with value: 0.044400295877117.\n"
     ]
    },
    {
     "name": "stdout",
     "output_type": "stream",
     "text": [
      "EvaluatorHoldout: Processed 35595 (100.0%) in 32.43 sec. Users per second: 1098\n"
     ]
    },
    {
     "name": "stderr",
     "output_type": "stream",
     "text": [
      "[I 2025-01-02 03:38:42,046] Trial 263 finished with value: 0.04438500257526658 and parameters: {'icm_weight': 0.27956423526312335}. Best is trial 91 with value: 0.044400295877117.\n"
     ]
    },
    {
     "name": "stdout",
     "output_type": "stream",
     "text": [
      "EvaluatorHoldout: Processed 35595 (100.0%) in 32.14 sec. Users per second: 1107\n"
     ]
    },
    {
     "name": "stderr",
     "output_type": "stream",
     "text": [
      "[I 2025-01-02 03:39:14,332] Trial 264 finished with value: 0.044345277671866926 and parameters: {'icm_weight': 0.3073940056215594}. Best is trial 91 with value: 0.044400295877117.\n"
     ]
    },
    {
     "name": "stdout",
     "output_type": "stream",
     "text": [
      "EvaluatorHoldout: Processed 35595 (100.0%) in 32.23 sec. Users per second: 1104\n"
     ]
    },
    {
     "name": "stderr",
     "output_type": "stream",
     "text": [
      "[I 2025-01-02 03:39:46,716] Trial 265 finished with value: 0.04438948309576058 and parameters: {'icm_weight': 0.2860747940136452}. Best is trial 91 with value: 0.044400295877117.\n"
     ]
    },
    {
     "name": "stdout",
     "output_type": "stream",
     "text": [
      "EvaluatorHoldout: Processed 35595 (100.0%) in 32.24 sec. Users per second: 1104\n"
     ]
    },
    {
     "name": "stderr",
     "output_type": "stream",
     "text": [
      "[I 2025-01-02 03:40:19,102] Trial 266 finished with value: 0.044270914855616156 and parameters: {'icm_weight': 0.32592004303605715}. Best is trial 91 with value: 0.044400295877117.\n"
     ]
    },
    {
     "name": "stdout",
     "output_type": "stream",
     "text": [
      "EvaluatorHoldout: Processed 35595 (100.0%) in 32.19 sec. Users per second: 1106\n"
     ]
    },
    {
     "name": "stderr",
     "output_type": "stream",
     "text": [
      "[I 2025-01-02 03:40:51,435] Trial 267 finished with value: 0.044386545506434436 and parameters: {'icm_weight': 0.29100725680284617}. Best is trial 91 with value: 0.044400295877117.\n"
     ]
    },
    {
     "name": "stdout",
     "output_type": "stream",
     "text": [
      "EvaluatorHoldout: Processed 35595 (100.0%) in 32.34 sec. Users per second: 1101\n"
     ]
    },
    {
     "name": "stderr",
     "output_type": "stream",
     "text": [
      "[I 2025-01-02 03:41:23,928] Trial 268 finished with value: 0.04438499923076257 and parameters: {'icm_weight': 0.2900110760021757}. Best is trial 91 with value: 0.044400295877117.\n"
     ]
    },
    {
     "name": "stdout",
     "output_type": "stream",
     "text": [
      "EvaluatorHoldout: Processed 35595 (100.0%) in 32.22 sec. Users per second: 1105\n"
     ]
    },
    {
     "name": "stderr",
     "output_type": "stream",
     "text": [
      "[I 2025-01-02 03:41:56,297] Trial 269 finished with value: 0.04433509254242352 and parameters: {'icm_weight': 0.2595090725204594}. Best is trial 91 with value: 0.044400295877117.\n"
     ]
    },
    {
     "name": "stdout",
     "output_type": "stream",
     "text": [
      "EvaluatorHoldout: Processed 35595 (100.0%) in 32.15 sec. Users per second: 1107\n"
     ]
    },
    {
     "name": "stderr",
     "output_type": "stream",
     "text": [
      "[I 2025-01-02 03:42:28,590] Trial 270 finished with value: 0.04435102798903739 and parameters: {'icm_weight': 0.30845218185285506}. Best is trial 91 with value: 0.044400295877117.\n"
     ]
    },
    {
     "name": "stdout",
     "output_type": "stream",
     "text": [
      "EvaluatorHoldout: Processed 35595 (100.0%) in 32.12 sec. Users per second: 1108\n"
     ]
    },
    {
     "name": "stderr",
     "output_type": "stream",
     "text": [
      "[I 2025-01-02 03:43:00,855] Trial 271 finished with value: 0.04419286082180991 and parameters: {'icm_weight': 0.23000921837200922}. Best is trial 91 with value: 0.044400295877117.\n"
     ]
    },
    {
     "name": "stdout",
     "output_type": "stream",
     "text": [
      "EvaluatorHoldout: Processed 35595 (100.0%) in 32.07 sec. Users per second: 1110\n"
     ]
    },
    {
     "name": "stderr",
     "output_type": "stream",
     "text": [
      "[I 2025-01-02 03:43:33,075] Trial 272 finished with value: 0.04438709511992128 and parameters: {'icm_weight': 0.2897740884611788}. Best is trial 91 with value: 0.044400295877117.\n"
     ]
    },
    {
     "name": "stdout",
     "output_type": "stream",
     "text": [
      "EvaluatorHoldout: Processed 35595 (100.0%) in 32.04 sec. Users per second: 1111\n"
     ]
    },
    {
     "name": "stderr",
     "output_type": "stream",
     "text": [
      "[I 2025-01-02 03:44:05,260] Trial 273 finished with value: 0.04423432821178134 and parameters: {'icm_weight': 0.339232396484344}. Best is trial 91 with value: 0.044400295877117.\n"
     ]
    },
    {
     "name": "stdout",
     "output_type": "stream",
     "text": [
      "EvaluatorHoldout: Processed 35595 (100.0%) in 31.93 sec. Users per second: 1115\n"
     ]
    },
    {
     "name": "stderr",
     "output_type": "stream",
     "text": [
      "[I 2025-01-02 03:44:37,333] Trial 274 finished with value: 0.04432841691248624 and parameters: {'icm_weight': 0.26224430479879046}. Best is trial 91 with value: 0.044400295877117.\n"
     ]
    },
    {
     "name": "stdout",
     "output_type": "stream",
     "text": [
      "EvaluatorHoldout: Processed 35595 (100.0%) in 32.05 sec. Users per second: 1111\n"
     ]
    },
    {
     "name": "stderr",
     "output_type": "stream",
     "text": [
      "[I 2025-01-02 03:45:09,517] Trial 275 finished with value: 0.044294632962983714 and parameters: {'icm_weight': 0.31607328524547196}. Best is trial 91 with value: 0.044400295877117.\n"
     ]
    },
    {
     "name": "stdout",
     "output_type": "stream",
     "text": [
      "EvaluatorHoldout: Processed 35595 (100.0%) in 32.17 sec. Users per second: 1106\n"
     ]
    },
    {
     "name": "stderr",
     "output_type": "stream",
     "text": [
      "[I 2025-01-02 03:45:41,828] Trial 276 finished with value: 0.03846933758754148 and parameters: {'icm_weight': 0.81009681833322}. Best is trial 91 with value: 0.044400295877117.\n"
     ]
    },
    {
     "name": "stdout",
     "output_type": "stream",
     "text": [
      "EvaluatorHoldout: Processed 35595 (100.0%) in 32.04 sec. Users per second: 1111\n"
     ]
    },
    {
     "name": "stderr",
     "output_type": "stream",
     "text": [
      "[I 2025-01-02 03:46:14,023] Trial 277 finished with value: 0.04438717873252068 and parameters: {'icm_weight': 0.2767913864735266}. Best is trial 91 with value: 0.044400295877117.\n"
     ]
    },
    {
     "name": "stdout",
     "output_type": "stream",
     "text": [
      "EvaluatorHoldout: Processed 35595 (100.0%) in 32.34 sec. Users per second: 1101\n"
     ]
    },
    {
     "name": "stderr",
     "output_type": "stream",
     "text": [
      "[I 2025-01-02 03:46:46,506] Trial 278 finished with value: 0.04410657038954393 and parameters: {'icm_weight': 0.20935695674606358}. Best is trial 91 with value: 0.044400295877117.\n"
     ]
    },
    {
     "name": "stdout",
     "output_type": "stream",
     "text": [
      "EvaluatorHoldout: Processed 35595 (100.0%) in 32.42 sec. Users per second: 1098\n"
     ]
    },
    {
     "name": "stderr",
     "output_type": "stream",
     "text": [
      "[I 2025-01-02 03:47:19,078] Trial 279 finished with value: 0.04425244984916136 and parameters: {'icm_weight': 0.2421901992146009}. Best is trial 91 with value: 0.044400295877117.\n"
     ]
    },
    {
     "name": "stdout",
     "output_type": "stream",
     "text": [
      "EvaluatorHoldout: Processed 35595 (100.0%) in 32.31 sec. Users per second: 1102\n"
     ]
    },
    {
     "name": "stderr",
     "output_type": "stream",
     "text": [
      "[I 2025-01-02 03:47:51,535] Trial 280 finished with value: 0.044362746016136816 and parameters: {'icm_weight': 0.27173239954735956}. Best is trial 91 with value: 0.044400295877117.\n"
     ]
    },
    {
     "name": "stdout",
     "output_type": "stream",
     "text": [
      "EvaluatorHoldout: Processed 35595 (100.0%) in 32.37 sec. Users per second: 1100\n"
     ]
    },
    {
     "name": "stderr",
     "output_type": "stream",
     "text": [
      "[I 2025-01-02 03:48:24,042] Trial 281 finished with value: 0.044369799575023516 and parameters: {'icm_weight': 0.2917149143438531}. Best is trial 91 with value: 0.044400295877117.\n"
     ]
    },
    {
     "name": "stdout",
     "output_type": "stream",
     "text": [
      "EvaluatorHoldout: Processed 35595 (100.0%) in 32.40 sec. Users per second: 1099\n"
     ]
    },
    {
     "name": "stderr",
     "output_type": "stream",
     "text": [
      "[I 2025-01-02 03:48:56,580] Trial 282 finished with value: 0.04436748294860237 and parameters: {'icm_weight': 0.2733192119824237}. Best is trial 91 with value: 0.044400295877117.\n"
     ]
    },
    {
     "name": "stdout",
     "output_type": "stream",
     "text": [
      "EvaluatorHoldout: Processed 35595 (100.0%) in 32.35 sec. Users per second: 1100\n"
     ]
    },
    {
     "name": "stderr",
     "output_type": "stream",
     "text": [
      "[I 2025-01-02 03:49:29,086] Trial 283 finished with value: 0.0443268148950814 and parameters: {'icm_weight': 0.25647768690081957}. Best is trial 91 with value: 0.044400295877117.\n"
     ]
    },
    {
     "name": "stdout",
     "output_type": "stream",
     "text": [
      "EvaluatorHoldout: Processed 35595 (100.0%) in 32.24 sec. Users per second: 1104\n"
     ]
    },
    {
     "name": "stderr",
     "output_type": "stream",
     "text": [
      "[I 2025-01-02 03:50:01,489] Trial 284 finished with value: 0.04435944164620788 and parameters: {'icm_weight': 0.3025036019359697}. Best is trial 91 with value: 0.044400295877117.\n"
     ]
    },
    {
     "name": "stdout",
     "output_type": "stream",
     "text": [
      "EvaluatorHoldout: Processed 35595 (100.0%) in 32.20 sec. Users per second: 1105\n"
     ]
    },
    {
     "name": "stderr",
     "output_type": "stream",
     "text": [
      "[I 2025-01-02 03:50:33,855] Trial 285 finished with value: 0.04424826030051332 and parameters: {'icm_weight': 0.23982131406125654}. Best is trial 91 with value: 0.044400295877117.\n"
     ]
    },
    {
     "name": "stdout",
     "output_type": "stream",
     "text": [
      "EvaluatorHoldout: Processed 35595 (100.0%) in 32.19 sec. Users per second: 1106\n"
     ]
    },
    {
     "name": "stderr",
     "output_type": "stream",
     "text": [
      "[I 2025-01-02 03:51:06,216] Trial 286 finished with value: 0.04314679585370563 and parameters: {'icm_weight': 0.0871981537129034}. Best is trial 91 with value: 0.044400295877117.\n"
     ]
    },
    {
     "name": "stdout",
     "output_type": "stream",
     "text": [
      "EvaluatorHoldout: Processed 35595 (100.0%) in 32.18 sec. Users per second: 1106\n"
     ]
    },
    {
     "name": "stderr",
     "output_type": "stream",
     "text": [
      "[I 2025-01-02 03:51:38,546] Trial 287 finished with value: 0.0441473254001684 and parameters: {'icm_weight': 0.3621059020769212}. Best is trial 91 with value: 0.044400295877117.\n"
     ]
    },
    {
     "name": "stdout",
     "output_type": "stream",
     "text": [
      "EvaluatorHoldout: Processed 35595 (100.0%) in 32.32 sec. Users per second: 1101\n"
     ]
    },
    {
     "name": "stderr",
     "output_type": "stream",
     "text": [
      "[I 2025-01-02 03:52:11,007] Trial 288 finished with value: 0.04437974501501533 and parameters: {'icm_weight': 0.28328309971855414}. Best is trial 91 with value: 0.044400295877117.\n"
     ]
    },
    {
     "name": "stdout",
     "output_type": "stream",
     "text": [
      "EvaluatorHoldout: Processed 35595 (100.0%) in 32.19 sec. Users per second: 1106\n"
     ]
    },
    {
     "name": "stderr",
     "output_type": "stream",
     "text": [
      "[I 2025-01-02 03:52:43,348] Trial 289 finished with value: 0.04428071090776368 and parameters: {'icm_weight': 0.3241959971677951}. Best is trial 91 with value: 0.044400295877117.\n"
     ]
    },
    {
     "name": "stdout",
     "output_type": "stream",
     "text": [
      "EvaluatorHoldout: Processed 35595 (100.0%) in 32.09 sec. Users per second: 1109\n"
     ]
    },
    {
     "name": "stderr",
     "output_type": "stream",
     "text": [
      "[I 2025-01-02 03:53:15,609] Trial 290 finished with value: 0.04433258193477172 and parameters: {'icm_weight': 0.2666246095811045}. Best is trial 91 with value: 0.044400295877117.\n"
     ]
    },
    {
     "name": "stdout",
     "output_type": "stream",
     "text": [
      "EvaluatorHoldout: Processed 35595 (100.0%) in 32.09 sec. Users per second: 1109\n"
     ]
    },
    {
     "name": "stderr",
     "output_type": "stream",
     "text": [
      "[I 2025-01-02 03:53:47,847] Trial 291 finished with value: 0.044381711583353564 and parameters: {'icm_weight': 0.2951230964527394}. Best is trial 91 with value: 0.044400295877117.\n"
     ]
    },
    {
     "name": "stdout",
     "output_type": "stream",
     "text": [
      "EvaluatorHoldout: Processed 35595 (100.0%) in 32.27 sec. Users per second: 1103\n"
     ]
    },
    {
     "name": "stderr",
     "output_type": "stream",
     "text": [
      "[I 2025-01-02 03:54:20,267] Trial 292 finished with value: 0.04434054519874001 and parameters: {'icm_weight': 0.30771675544005317}. Best is trial 91 with value: 0.044400295877117.\n"
     ]
    },
    {
     "name": "stdout",
     "output_type": "stream",
     "text": [
      "EvaluatorHoldout: Processed 35595 (100.0%) in 32.28 sec. Users per second: 1103\n"
     ]
    },
    {
     "name": "stderr",
     "output_type": "stream",
     "text": [
      "[I 2025-01-02 03:54:52,685] Trial 293 finished with value: 0.04430029855272015 and parameters: {'icm_weight': 0.2510080498946554}. Best is trial 91 with value: 0.044400295877117.\n"
     ]
    },
    {
     "name": "stdout",
     "output_type": "stream",
     "text": [
      "EvaluatorHoldout: Processed 35595 (100.0%) in 32.25 sec. Users per second: 1104\n"
     ]
    },
    {
     "name": "stderr",
     "output_type": "stream",
     "text": [
      "[I 2025-01-02 03:55:25,079] Trial 294 finished with value: 0.044381898875576274 and parameters: {'icm_weight': 0.2797607784558153}. Best is trial 91 with value: 0.044400295877117.\n"
     ]
    },
    {
     "name": "stdout",
     "output_type": "stream",
     "text": [
      "EvaluatorHoldout: Processed 35595 (100.0%) in 32.16 sec. Users per second: 1107\n"
     ]
    },
    {
     "name": "stderr",
     "output_type": "stream",
     "text": [
      "[I 2025-01-02 03:55:57,379] Trial 295 finished with value: 0.04424523129474506 and parameters: {'icm_weight': 0.33034570627104676}. Best is trial 91 with value: 0.044400295877117.\n"
     ]
    },
    {
     "name": "stdout",
     "output_type": "stream",
     "text": [
      "EvaluatorHoldout: Processed 35595 (100.0%) in 32.23 sec. Users per second: 1104\n"
     ]
    },
    {
     "name": "stderr",
     "output_type": "stream",
     "text": [
      "[I 2025-01-02 03:56:29,752] Trial 296 finished with value: 0.04436259885796185 and parameters: {'icm_weight': 0.2718274113151073}. Best is trial 91 with value: 0.044400295877117.\n"
     ]
    },
    {
     "name": "stdout",
     "output_type": "stream",
     "text": [
      "EvaluatorHoldout: Processed 35595 (100.0%) in 32.23 sec. Users per second: 1104\n"
     ]
    },
    {
     "name": "stderr",
     "output_type": "stream",
     "text": [
      "[I 2025-01-02 03:57:02,124] Trial 297 finished with value: 0.044184555303601304 and parameters: {'icm_weight': 0.22829333776016786}. Best is trial 91 with value: 0.044400295877117.\n"
     ]
    },
    {
     "name": "stdout",
     "output_type": "stream",
     "text": [
      "EvaluatorHoldout: Processed 35595 (100.0%) in 32.13 sec. Users per second: 1108\n"
     ]
    },
    {
     "name": "stderr",
     "output_type": "stream",
     "text": [
      "[I 2025-01-02 03:57:34,398] Trial 298 finished with value: 0.04007323906291356 and parameters: {'icm_weight': 0.7014408706308475}. Best is trial 91 with value: 0.044400295877117.\n"
     ]
    },
    {
     "name": "stdout",
     "output_type": "stream",
     "text": [
      "EvaluatorHoldout: Processed 35595 (100.0%) in 32.25 sec. Users per second: 1104\n"
     ]
    },
    {
     "name": "stderr",
     "output_type": "stream",
     "text": [
      "[I 2025-01-02 03:58:06,792] Trial 299 finished with value: 0.0443522208621224 and parameters: {'icm_weight': 0.30501994562801693}. Best is trial 91 with value: 0.044400295877117.\n"
     ]
    },
    {
     "name": "stdout",
     "output_type": "stream",
     "text": [
      "EvaluatorHoldout: Processed 35595 (100.0%) in 32.28 sec. Users per second: 1103\n"
     ]
    },
    {
     "name": "stderr",
     "output_type": "stream",
     "text": [
      "[I 2025-01-02 03:58:39,222] Trial 300 finished with value: 0.0443330925290455 and parameters: {'icm_weight': 0.2567698088153016}. Best is trial 91 with value: 0.044400295877117.\n"
     ]
    },
    {
     "name": "stdout",
     "output_type": "stream",
     "text": [
      "EvaluatorHoldout: Processed 35595 (100.0%) in 32.37 sec. Users per second: 1100\n"
     ]
    },
    {
     "name": "stderr",
     "output_type": "stream",
     "text": [
      "[I 2025-01-02 03:59:11,741] Trial 301 finished with value: 0.0443713179798289 and parameters: {'icm_weight': 0.2958122734922846}. Best is trial 91 with value: 0.044400295877117.\n"
     ]
    },
    {
     "name": "stdout",
     "output_type": "stream",
     "text": [
      "EvaluatorHoldout: Processed 35595 (100.0%) in 32.31 sec. Users per second: 1102\n"
     ]
    },
    {
     "name": "stderr",
     "output_type": "stream",
     "text": [
      "[I 2025-01-02 03:59:44,205] Trial 302 finished with value: 0.044389328133742995 and parameters: {'icm_weight': 0.28024740784201296}. Best is trial 91 with value: 0.044400295877117.\n"
     ]
    },
    {
     "name": "stdout",
     "output_type": "stream",
     "text": [
      "EvaluatorHoldout: Processed 35595 (100.0%) in 32.28 sec. Users per second: 1103\n"
     ]
    },
    {
     "name": "stderr",
     "output_type": "stream",
     "text": [
      "[I 2025-01-02 04:00:16,638] Trial 303 finished with value: 0.04348689734825296 and parameters: {'icm_weight': 0.45330025582842504}. Best is trial 91 with value: 0.044400295877117.\n"
     ]
    },
    {
     "name": "stdout",
     "output_type": "stream",
     "text": [
      "EvaluatorHoldout: Processed 35595 (100.0%) in 32.23 sec. Users per second: 1105\n"
     ]
    },
    {
     "name": "stderr",
     "output_type": "stream",
     "text": [
      "[I 2025-01-02 04:00:49,013] Trial 304 finished with value: 0.0364759374087219 and parameters: {'icm_weight': 0.9418825373675752}. Best is trial 91 with value: 0.044400295877117.\n"
     ]
    },
    {
     "name": "stdout",
     "output_type": "stream",
     "text": [
      "EvaluatorHoldout: Processed 35595 (100.0%) in 32.27 sec. Users per second: 1103\n"
     ]
    },
    {
     "name": "stderr",
     "output_type": "stream",
     "text": [
      "[I 2025-01-02 04:01:21,426] Trial 305 finished with value: 0.04429223160912852 and parameters: {'icm_weight': 0.3171207844987073}. Best is trial 91 with value: 0.044400295877117.\n"
     ]
    },
    {
     "name": "stdout",
     "output_type": "stream",
     "text": [
      "EvaluatorHoldout: Processed 35595 (100.0%) in 32.34 sec. Users per second: 1101\n"
     ]
    },
    {
     "name": "stderr",
     "output_type": "stream",
     "text": [
      "[I 2025-01-02 04:01:53,916] Trial 306 finished with value: 0.04438042952349587 and parameters: {'icm_weight': 0.28225457519011565}. Best is trial 91 with value: 0.044400295877117.\n"
     ]
    },
    {
     "name": "stdout",
     "output_type": "stream",
     "text": [
      "EvaluatorHoldout: Processed 35595 (100.0%) in 32.63 sec. Users per second: 1091\n"
     ]
    },
    {
     "name": "stderr",
     "output_type": "stream",
     "text": [
      "[I 2025-01-02 04:02:26,693] Trial 307 finished with value: 0.044234611379784745 and parameters: {'icm_weight': 0.2381161330869221}. Best is trial 91 with value: 0.044400295877117.\n"
     ]
    },
    {
     "name": "stdout",
     "output_type": "stream",
     "text": [
      "EvaluatorHoldout: Processed 35595 (100.0%) in 32.38 sec. Users per second: 1099\n"
     ]
    },
    {
     "name": "stderr",
     "output_type": "stream",
     "text": [
      "[I 2025-01-02 04:02:59,221] Trial 308 finished with value: 0.04433029429405175 and parameters: {'icm_weight': 0.26074563272137385}. Best is trial 91 with value: 0.044400295877117.\n"
     ]
    },
    {
     "name": "stdout",
     "output_type": "stream",
     "text": [
      "EvaluatorHoldout: Processed 35595 (100.0%) in 32.36 sec. Users per second: 1100\n"
     ]
    },
    {
     "name": "stderr",
     "output_type": "stream",
     "text": [
      "[I 2025-01-02 04:03:31,725] Trial 309 finished with value: 0.044246363966758476 and parameters: {'icm_weight': 0.33466610982881806}. Best is trial 91 with value: 0.044400295877117.\n"
     ]
    },
    {
     "name": "stdout",
     "output_type": "stream",
     "text": [
      "EvaluatorHoldout: Processed 35595 (100.0%) in 32.20 sec. Users per second: 1105\n"
     ]
    },
    {
     "name": "stderr",
     "output_type": "stream",
     "text": [
      "[I 2025-01-02 04:04:04,078] Trial 310 finished with value: 0.041471240610304036 and parameters: {'icm_weight': 0.611633379731011}. Best is trial 91 with value: 0.044400295877117.\n"
     ]
    },
    {
     "name": "stdout",
     "output_type": "stream",
     "text": [
      "EvaluatorHoldout: Processed 35595 (100.0%) in 32.29 sec. Users per second: 1102\n"
     ]
    },
    {
     "name": "stderr",
     "output_type": "stream",
     "text": [
      "[I 2025-01-02 04:04:36,528] Trial 311 finished with value: 0.04412821713411525 and parameters: {'icm_weight': 0.21282872901389577}. Best is trial 91 with value: 0.044400295877117.\n"
     ]
    },
    {
     "name": "stdout",
     "output_type": "stream",
     "text": [
      "EvaluatorHoldout: Processed 35595 (100.0%) in 32.38 sec. Users per second: 1099\n"
     ]
    },
    {
     "name": "stderr",
     "output_type": "stream",
     "text": [
      "[I 2025-01-02 04:05:09,060] Trial 312 finished with value: 0.044393994831625025 and parameters: {'icm_weight': 0.2856640577018297}. Best is trial 91 with value: 0.044400295877117.\n"
     ]
    },
    {
     "name": "stdout",
     "output_type": "stream",
     "text": [
      "EvaluatorHoldout: Processed 35595 (100.0%) in 32.16 sec. Users per second: 1107\n"
     ]
    },
    {
     "name": "stderr",
     "output_type": "stream",
     "text": [
      "[I 2025-01-02 04:05:41,381] Trial 313 finished with value: 0.04439010851800421 and parameters: {'icm_weight': 0.27702552508210276}. Best is trial 91 with value: 0.044400295877117.\n"
     ]
    },
    {
     "name": "stdout",
     "output_type": "stream",
     "text": [
      "EvaluatorHoldout: Processed 35595 (100.0%) in 32.42 sec. Users per second: 1098\n"
     ]
    },
    {
     "name": "stderr",
     "output_type": "stream",
     "text": [
      "[I 2025-01-02 04:06:13,960] Trial 314 finished with value: 0.04432908023910816 and parameters: {'icm_weight': 0.31115209941817107}. Best is trial 91 with value: 0.044400295877117.\n"
     ]
    },
    {
     "name": "stdout",
     "output_type": "stream",
     "text": [
      "EvaluatorHoldout: Processed 35595 (100.0%) in 32.23 sec. Users per second: 1104\n"
     ]
    },
    {
     "name": "stderr",
     "output_type": "stream",
     "text": [
      "[I 2025-01-02 04:06:46,339] Trial 315 finished with value: 0.04429449695315535 and parameters: {'icm_weight': 0.24909968425009626}. Best is trial 91 with value: 0.044400295877117.\n"
     ]
    },
    {
     "name": "stdout",
     "output_type": "stream",
     "text": [
      "EvaluatorHoldout: Processed 35595 (100.0%) in 32.26 sec. Users per second: 1104\n"
     ]
    },
    {
     "name": "stderr",
     "output_type": "stream",
     "text": [
      "[I 2025-01-02 04:07:18,750] Trial 316 finished with value: 0.0443791630713234 and parameters: {'icm_weight': 0.2927923698842645}. Best is trial 91 with value: 0.044400295877117.\n"
     ]
    },
    {
     "name": "stdout",
     "output_type": "stream",
     "text": [
      "EvaluatorHoldout: Processed 35595 (100.0%) in 32.32 sec. Users per second: 1101\n"
     ]
    },
    {
     "name": "stderr",
     "output_type": "stream",
     "text": [
      "[I 2025-01-02 04:07:51,246] Trial 317 finished with value: 0.04432762426504373 and parameters: {'icm_weight': 0.263530340829718}. Best is trial 91 with value: 0.044400295877117.\n"
     ]
    },
    {
     "name": "stdout",
     "output_type": "stream",
     "text": [
      "EvaluatorHoldout: Processed 35595 (100.0%) in 32.27 sec. Users per second: 1103\n"
     ]
    },
    {
     "name": "stderr",
     "output_type": "stream",
     "text": [
      "[I 2025-01-02 04:08:23,668] Trial 318 finished with value: 0.044314678804984874 and parameters: {'icm_weight': 0.31363618256395603}. Best is trial 91 with value: 0.044400295877117.\n"
     ]
    },
    {
     "name": "stdout",
     "output_type": "stream",
     "text": [
      "EvaluatorHoldout: Processed 35595 (100.0%) in 32.27 sec. Users per second: 1103\n"
     ]
    },
    {
     "name": "stderr",
     "output_type": "stream",
     "text": [
      "[I 2025-01-02 04:08:56,090] Trial 319 finished with value: 0.04439684657868243 and parameters: {'icm_weight': 0.2776385216773967}. Best is trial 91 with value: 0.044400295877117.\n"
     ]
    },
    {
     "name": "stdout",
     "output_type": "stream",
     "text": [
      "EvaluatorHoldout: Processed 35595 (100.0%) in 32.33 sec. Users per second: 1101\n"
     ]
    },
    {
     "name": "stderr",
     "output_type": "stream",
     "text": [
      "[I 2025-01-02 04:09:28,569] Trial 320 finished with value: 0.04437107383103859 and parameters: {'icm_weight': 0.27442019236985077}. Best is trial 91 with value: 0.044400295877117.\n"
     ]
    },
    {
     "name": "stdout",
     "output_type": "stream",
     "text": [
      "EvaluatorHoldout: Processed 35595 (100.0%) in 32.60 sec. Users per second: 1092\n"
     ]
    },
    {
     "name": "stderr",
     "output_type": "stream",
     "text": [
      "[I 2025-01-02 04:10:01,323] Trial 321 finished with value: 0.04423622789004012 and parameters: {'icm_weight': 0.2403264470565584}. Best is trial 91 with value: 0.044400295877117.\n"
     ]
    },
    {
     "name": "stdout",
     "output_type": "stream",
     "text": [
      "EvaluatorHoldout: Processed 35595 (100.0%) in 32.35 sec. Users per second: 1100\n"
     ]
    },
    {
     "name": "stderr",
     "output_type": "stream",
     "text": [
      "[I 2025-01-02 04:10:33,821] Trial 322 finished with value: 0.04423382653618485 and parameters: {'icm_weight': 0.3393019798279912}. Best is trial 91 with value: 0.044400295877117.\n"
     ]
    },
    {
     "name": "stdout",
     "output_type": "stream",
     "text": [
      "EvaluatorHoldout: Processed 35595 (100.0%) in 32.21 sec. Users per second: 1105\n"
     ]
    },
    {
     "name": "stderr",
     "output_type": "stream",
     "text": [
      "[I 2025-01-02 04:11:06,175] Trial 323 finished with value: 0.04437647409012617 and parameters: {'icm_weight': 0.29231414141816264}. Best is trial 91 with value: 0.044400295877117.\n"
     ]
    },
    {
     "name": "stdout",
     "output_type": "stream",
     "text": [
      "EvaluatorHoldout: Processed 35595 (100.0%) in 32.41 sec. Users per second: 1098\n"
     ]
    },
    {
     "name": "stderr",
     "output_type": "stream",
     "text": [
      "[I 2025-01-02 04:11:38,733] Trial 324 finished with value: 0.04434383284614909 and parameters: {'icm_weight': 0.2640996537082685}. Best is trial 91 with value: 0.044400295877117.\n"
     ]
    },
    {
     "name": "stdout",
     "output_type": "stream",
     "text": [
      "EvaluatorHoldout: Processed 35595 (100.0%) in 32.50 sec. Users per second: 1095\n"
     ]
    },
    {
     "name": "stderr",
     "output_type": "stream",
     "text": [
      "[I 2025-01-02 04:12:11,403] Trial 325 finished with value: 0.04436122092232345 and parameters: {'icm_weight': 0.3028085192209586}. Best is trial 91 with value: 0.044400295877117.\n"
     ]
    },
    {
     "name": "stdout",
     "output_type": "stream",
     "text": [
      "EvaluatorHoldout: Processed 35595 (100.0%) in 32.56 sec. Users per second: 1093\n"
     ]
    },
    {
     "name": "stderr",
     "output_type": "stream",
     "text": [
      "[I 2025-01-02 04:12:44,117] Trial 326 finished with value: 0.0441448727639188 and parameters: {'icm_weight': 0.22224601491156415}. Best is trial 91 with value: 0.044400295877117.\n"
     ]
    },
    {
     "name": "stdout",
     "output_type": "stream",
     "text": [
      "EvaluatorHoldout: Processed 35595 (100.0%) in 32.14 sec. Users per second: 1108\n"
     ]
    },
    {
     "name": "stderr",
     "output_type": "stream",
     "text": [
      "[I 2025-01-02 04:13:16,405] Trial 327 finished with value: 0.04417929328401145 and parameters: {'icm_weight': 0.3534474153905256}. Best is trial 91 with value: 0.044400295877117.\n"
     ]
    },
    {
     "name": "stdout",
     "output_type": "stream",
     "text": [
      "EvaluatorHoldout: Processed 35595 (100.0%) in 32.30 sec. Users per second: 1102\n"
     ]
    },
    {
     "name": "stderr",
     "output_type": "stream",
     "text": [
      "[I 2025-01-02 04:13:48,877] Trial 328 finished with value: 0.04438654773610378 and parameters: {'icm_weight': 0.28038741565652125}. Best is trial 91 with value: 0.044400295877117.\n"
     ]
    },
    {
     "name": "stdout",
     "output_type": "stream",
     "text": [
      "EvaluatorHoldout: Processed 35595 (100.0%) in 32.63 sec. Users per second: 1091\n"
     ]
    },
    {
     "name": "stderr",
     "output_type": "stream",
     "text": [
      "[I 2025-01-02 04:14:21,661] Trial 329 finished with value: 0.0442847376905515 and parameters: {'icm_weight': 0.3197494355988296}. Best is trial 91 with value: 0.044400295877117.\n"
     ]
    },
    {
     "name": "stdout",
     "output_type": "stream",
     "text": [
      "EvaluatorHoldout: Processed 35595 (100.0%) in 32.69 sec. Users per second: 1089\n"
     ]
    },
    {
     "name": "stderr",
     "output_type": "stream",
     "text": [
      "[I 2025-01-02 04:14:54,505] Trial 330 finished with value: 0.044307406738505105 and parameters: {'icm_weight': 0.2531737625956516}. Best is trial 91 with value: 0.044400295877117.\n"
     ]
    },
    {
     "name": "stdout",
     "output_type": "stream",
     "text": [
      "EvaluatorHoldout: Processed 35595 (100.0%) in 32.38 sec. Users per second: 1099\n"
     ]
    },
    {
     "name": "stderr",
     "output_type": "stream",
     "text": [
      "[I 2025-01-02 04:15:27,036] Trial 331 finished with value: 0.04439293016452581 and parameters: {'icm_weight': 0.2853339983880263}. Best is trial 91 with value: 0.044400295877117.\n"
     ]
    },
    {
     "name": "stdout",
     "output_type": "stream",
     "text": [
      "EvaluatorHoldout: Processed 35595 (100.0%) in 32.36 sec. Users per second: 1100\n"
     ]
    },
    {
     "name": "stderr",
     "output_type": "stream",
     "text": [
      "[I 2025-01-02 04:15:59,548] Trial 332 finished with value: 0.04437729906777375 and parameters: {'icm_weight': 0.2948256430107921}. Best is trial 91 with value: 0.044400295877117.\n"
     ]
    },
    {
     "name": "stdout",
     "output_type": "stream",
     "text": [
      "EvaluatorHoldout: Processed 35595 (100.0%) in 32.42 sec. Users per second: 1098\n"
     ]
    },
    {
     "name": "stderr",
     "output_type": "stream",
     "text": [
      "[I 2025-01-02 04:16:32,118] Trial 333 finished with value: 0.044366078256932194 and parameters: {'icm_weight': 0.27165809638933325}. Best is trial 91 with value: 0.044400295877117.\n"
     ]
    },
    {
     "name": "stdout",
     "output_type": "stream",
     "text": [
      "EvaluatorHoldout: Processed 35595 (100.0%) in 32.15 sec. Users per second: 1107\n"
     ]
    },
    {
     "name": "stderr",
     "output_type": "stream",
     "text": [
      "[I 2025-01-02 04:17:04,425] Trial 334 finished with value: 0.044297735547839355 and parameters: {'icm_weight': 0.31744391383695847}. Best is trial 91 with value: 0.044400295877117.\n"
     ]
    },
    {
     "name": "stdout",
     "output_type": "stream",
     "text": [
      "EvaluatorHoldout: Processed 35595 (100.0%) in 32.19 sec. Users per second: 1106\n"
     ]
    },
    {
     "name": "stderr",
     "output_type": "stream",
     "text": [
      "[I 2025-01-02 04:17:36,765] Trial 335 finished with value: 0.044241605852434515 and parameters: {'icm_weight': 0.24006227797333435}. Best is trial 91 with value: 0.044400295877117.\n"
     ]
    },
    {
     "name": "stdout",
     "output_type": "stream",
     "text": [
      "EvaluatorHoldout: Processed 35595 (100.0%) in 32.22 sec. Users per second: 1105\n"
     ]
    },
    {
     "name": "stderr",
     "output_type": "stream",
     "text": [
      "[I 2025-01-02 04:18:09,129] Trial 336 finished with value: 0.04437897354943142 and parameters: {'icm_weight': 0.28149689858896454}. Best is trial 91 with value: 0.044400295877117.\n"
     ]
    },
    {
     "name": "stdout",
     "output_type": "stream",
     "text": [
      "EvaluatorHoldout: Processed 35595 (100.0%) in 32.26 sec. Users per second: 1103\n"
     ]
    },
    {
     "name": "stderr",
     "output_type": "stream",
     "text": [
      "[I 2025-01-02 04:18:41,537] Trial 337 finished with value: 0.044323815989849025 and parameters: {'icm_weight': 0.2600803656389704}. Best is trial 91 with value: 0.044400295877117.\n"
     ]
    },
    {
     "name": "stdout",
     "output_type": "stream",
     "text": [
      "EvaluatorHoldout: Processed 35595 (100.0%) in 32.22 sec. Users per second: 1105\n"
     ]
    },
    {
     "name": "stderr",
     "output_type": "stream",
     "text": [
      "[I 2025-01-02 04:19:13,905] Trial 338 finished with value: 0.04400940363034612 and parameters: {'icm_weight': 0.18678181387620552}. Best is trial 91 with value: 0.044400295877117.\n"
     ]
    },
    {
     "name": "stdout",
     "output_type": "stream",
     "text": [
      "EvaluatorHoldout: Processed 35595 (100.0%) in 32.37 sec. Users per second: 1100\n"
     ]
    },
    {
     "name": "stderr",
     "output_type": "stream",
     "text": [
      "[I 2025-01-02 04:19:46,421] Trial 339 finished with value: 0.04436897236770664 and parameters: {'icm_weight': 0.29639520426177013}. Best is trial 91 with value: 0.044400295877117.\n"
     ]
    },
    {
     "name": "stdout",
     "output_type": "stream",
     "text": [
      "EvaluatorHoldout: Processed 35595 (100.0%) in 32.18 sec. Users per second: 1106\n"
     ]
    },
    {
     "name": "stderr",
     "output_type": "stream",
     "text": [
      "[I 2025-01-02 04:20:18,746] Trial 340 finished with value: 0.044244164397976515 and parameters: {'icm_weight': 0.3310303794033785}. Best is trial 91 with value: 0.044400295877117.\n"
     ]
    },
    {
     "name": "stdout",
     "output_type": "stream",
     "text": [
      "EvaluatorHoldout: Processed 35595 (100.0%) in 32.22 sec. Users per second: 1105\n"
     ]
    },
    {
     "name": "stderr",
     "output_type": "stream",
     "text": [
      "[I 2025-01-02 04:20:51,121] Trial 341 finished with value: 0.04434095322822518 and parameters: {'icm_weight': 0.3065360821764229}. Best is trial 91 with value: 0.044400295877117.\n"
     ]
    },
    {
     "name": "stdout",
     "output_type": "stream",
     "text": [
      "EvaluatorHoldout: Processed 35595 (100.0%) in 32.09 sec. Users per second: 1109\n"
     ]
    },
    {
     "name": "stderr",
     "output_type": "stream",
     "text": [
      "[I 2025-01-02 04:21:23,363] Trial 342 finished with value: 0.04437142500395613 and parameters: {'icm_weight': 0.27379693550523454}. Best is trial 91 with value: 0.044400295877117.\n"
     ]
    },
    {
     "name": "stdout",
     "output_type": "stream",
     "text": [
      "EvaluatorHoldout: Processed 35595 (100.0%) in 32.10 sec. Users per second: 1109\n"
     ]
    },
    {
     "name": "stderr",
     "output_type": "stream",
     "text": [
      "[I 2025-01-02 04:21:55,624] Trial 343 finished with value: 0.04430087715190811 and parameters: {'icm_weight': 0.2504076215995606}. Best is trial 91 with value: 0.044400295877117.\n"
     ]
    },
    {
     "name": "stdout",
     "output_type": "stream",
     "text": [
      "EvaluatorHoldout: Processed 35595 (100.0%) in 32.18 sec. Users per second: 1106\n"
     ]
    },
    {
     "name": "stderr",
     "output_type": "stream",
     "text": [
      "[I 2025-01-02 04:22:27,975] Trial 344 finished with value: 0.04438470602924735 and parameters: {'icm_weight': 0.2887673966464059}. Best is trial 91 with value: 0.044400295877117.\n"
     ]
    },
    {
     "name": "stdout",
     "output_type": "stream",
     "text": [
      "EvaluatorHoldout: Processed 35595 (100.0%) in 32.23 sec. Users per second: 1104\n"
     ]
    },
    {
     "name": "stderr",
     "output_type": "stream",
     "text": [
      "[I 2025-01-02 04:23:00,377] Trial 345 finished with value: 0.04435128663067832 and parameters: {'icm_weight': 0.26842477822227007}. Best is trial 91 with value: 0.044400295877117.\n"
     ]
    },
    {
     "name": "stdout",
     "output_type": "stream",
     "text": [
      "EvaluatorHoldout: Processed 35595 (100.0%) in 32.35 sec. Users per second: 1100\n"
     ]
    },
    {
     "name": "stderr",
     "output_type": "stream",
     "text": [
      "[I 2025-01-02 04:23:32,889] Trial 346 finished with value: 0.04416022961134476 and parameters: {'icm_weight': 0.22439131385375927}. Best is trial 91 with value: 0.044400295877117.\n"
     ]
    },
    {
     "name": "stdout",
     "output_type": "stream",
     "text": [
      "EvaluatorHoldout: Processed 35595 (100.0%) in 32.23 sec. Users per second: 1104\n"
     ]
    },
    {
     "name": "stderr",
     "output_type": "stream",
     "text": [
      "[I 2025-01-02 04:24:05,271] Trial 347 finished with value: 0.044336293219351085 and parameters: {'icm_weight': 0.3098722600233021}. Best is trial 91 with value: 0.044400295877117.\n"
     ]
    },
    {
     "name": "stdout",
     "output_type": "stream",
     "text": [
      "EvaluatorHoldout: Processed 35595 (100.0%) in 32.15 sec. Users per second: 1107\n"
     ]
    },
    {
     "name": "stderr",
     "output_type": "stream",
     "text": [
      "[I 2025-01-02 04:24:37,567] Trial 348 finished with value: 0.04401980615254809 and parameters: {'icm_weight': 0.38536941776994316}. Best is trial 91 with value: 0.044400295877117.\n"
     ]
    },
    {
     "name": "stdout",
     "output_type": "stream",
     "text": [
      "EvaluatorHoldout: Processed 35595 (100.0%) in 32.38 sec. Users per second: 1099\n"
     ]
    },
    {
     "name": "stderr",
     "output_type": "stream",
     "text": [
      "[I 2025-01-02 04:25:10,096] Trial 349 finished with value: 0.04439304053315705 and parameters: {'icm_weight': 0.28452285800149485}. Best is trial 91 with value: 0.044400295877117.\n"
     ]
    },
    {
     "name": "stdout",
     "output_type": "stream",
     "text": [
      "EvaluatorHoldout: Processed 35595 (100.0%) in 32.21 sec. Users per second: 1105\n"
     ]
    },
    {
     "name": "stderr",
     "output_type": "stream",
     "text": [
      "[I 2025-01-02 04:25:42,451] Trial 350 finished with value: 0.04421923112083086 and parameters: {'icm_weight': 0.3449448832378683}. Best is trial 91 with value: 0.044400295877117.\n"
     ]
    },
    {
     "name": "stdout",
     "output_type": "stream",
     "text": [
      "EvaluatorHoldout: Processed 35595 (100.0%) in 32.46 sec. Users per second: 1097\n"
     ]
    },
    {
     "name": "stderr",
     "output_type": "stream",
     "text": [
      "[I 2025-01-02 04:26:15,058] Trial 351 finished with value: 0.044386604592671346 and parameters: {'icm_weight': 0.29345015298548865}. Best is trial 91 with value: 0.044400295877117.\n"
     ]
    },
    {
     "name": "stdout",
     "output_type": "stream",
     "text": [
      "EvaluatorHoldout: Processed 35595 (100.0%) in 32.52 sec. Users per second: 1094\n"
     ]
    },
    {
     "name": "stderr",
     "output_type": "stream",
     "text": [
      "[I 2025-01-02 04:26:47,735] Trial 352 finished with value: 0.04427898737338105 and parameters: {'icm_weight': 0.3230207983458433}. Best is trial 91 with value: 0.044400295877117.\n"
     ]
    },
    {
     "name": "stdout",
     "output_type": "stream",
     "text": [
      "EvaluatorHoldout: Processed 35595 (100.0%) in 32.72 sec. Users per second: 1088\n"
     ]
    },
    {
     "name": "stderr",
     "output_type": "stream",
     "text": [
      "[I 2025-01-02 04:27:20,607] Trial 353 finished with value: 0.04426307645312974 and parameters: {'icm_weight': 0.24603134805172222}. Best is trial 91 with value: 0.044400295877117.\n"
     ]
    },
    {
     "name": "stdout",
     "output_type": "stream",
     "text": [
      "EvaluatorHoldout: Processed 35595 (100.0%) in 32.76 sec. Users per second: 1087\n"
     ]
    },
    {
     "name": "stderr",
     "output_type": "stream",
     "text": [
      "[I 2025-01-02 04:27:53,517] Trial 354 finished with value: 0.044330042341418845 and parameters: {'icm_weight': 0.26121589012702817}. Best is trial 91 with value: 0.044400295877117.\n"
     ]
    },
    {
     "name": "stdout",
     "output_type": "stream",
     "text": [
      "EvaluatorHoldout: Processed 35595 (100.0%) in 32.64 sec. Users per second: 1091\n"
     ]
    },
    {
     "name": "stderr",
     "output_type": "stream",
     "text": [
      "[I 2025-01-02 04:28:26,303] Trial 355 finished with value: 0.042409301511491686 and parameters: {'icm_weight': 0.5443590725167267}. Best is trial 91 with value: 0.044400295877117.\n"
     ]
    },
    {
     "name": "stdout",
     "output_type": "stream",
     "text": [
      "EvaluatorHoldout: Processed 35595 (100.0%) in 32.10 sec. Users per second: 1109\n"
     ]
    },
    {
     "name": "stderr",
     "output_type": "stream",
     "text": [
      "[I 2025-01-02 04:28:58,549] Trial 356 finished with value: 0.044346643344324074 and parameters: {'icm_weight': 0.30536205613694245}. Best is trial 91 with value: 0.044400295877117.\n"
     ]
    },
    {
     "name": "stdout",
     "output_type": "stream",
     "text": [
      "EvaluatorHoldout: Processed 35595 (100.0%) in 32.12 sec. Users per second: 1108\n"
     ]
    },
    {
     "name": "stderr",
     "output_type": "stream",
     "text": [
      "[I 2025-01-02 04:29:30,811] Trial 357 finished with value: 0.044386607937175346 and parameters: {'icm_weight': 0.27951490716954247}. Best is trial 91 with value: 0.044400295877117.\n"
     ]
    },
    {
     "name": "stdout",
     "output_type": "stream",
     "text": [
      "EvaluatorHoldout: Processed 35595 (100.0%) in 32.25 sec. Users per second: 1104\n"
     ]
    },
    {
     "name": "stderr",
     "output_type": "stream",
     "text": [
      "[I 2025-01-02 04:30:03,207] Trial 358 finished with value: 0.044400217838690886 and parameters: {'icm_weight': 0.2875474611545639}. Best is trial 91 with value: 0.044400295877117.\n"
     ]
    },
    {
     "name": "stdout",
     "output_type": "stream",
     "text": [
      "EvaluatorHoldout: Processed 35595 (100.0%) in 32.20 sec. Users per second: 1105\n"
     ]
    },
    {
     "name": "stderr",
     "output_type": "stream",
     "text": [
      "[I 2025-01-02 04:30:35,564] Trial 359 finished with value: 0.04425559145322997 and parameters: {'icm_weight': 0.3288439036282533}. Best is trial 91 with value: 0.044400295877117.\n"
     ]
    },
    {
     "name": "stdout",
     "output_type": "stream",
     "text": [
      "EvaluatorHoldout: Processed 35595 (100.0%) in 32.06 sec. Users per second: 1110\n"
     ]
    },
    {
     "name": "stderr",
     "output_type": "stream",
     "text": [
      "[I 2025-01-02 04:31:07,770] Trial 360 finished with value: 0.0443869613397622 and parameters: {'icm_weight': 0.29102544670214453}. Best is trial 91 with value: 0.044400295877117.\n"
     ]
    },
    {
     "name": "stdout",
     "output_type": "stream",
     "text": [
      "EvaluatorHoldout: Processed 35595 (100.0%) in 32.16 sec. Users per second: 1107\n"
     ]
    },
    {
     "name": "stderr",
     "output_type": "stream",
     "text": [
      "[I 2025-01-02 04:31:40,075] Trial 361 finished with value: 0.043218985857206196 and parameters: {'icm_weight': 0.4775704362130112}. Best is trial 91 with value: 0.044400295877117.\n"
     ]
    },
    {
     "name": "stdout",
     "output_type": "stream",
     "text": [
      "EvaluatorHoldout: Processed 35595 (100.0%) in 32.10 sec. Users per second: 1109\n"
     ]
    },
    {
     "name": "stderr",
     "output_type": "stream",
     "text": [
      "[I 2025-01-02 04:32:12,319] Trial 362 finished with value: 0.04421438716423813 and parameters: {'icm_weight': 0.23626320562330103}. Best is trial 91 with value: 0.044400295877117.\n"
     ]
    },
    {
     "name": "stdout",
     "output_type": "stream",
     "text": [
      "EvaluatorHoldout: Processed 35595 (100.0%) in 31.95 sec. Users per second: 1114\n"
     ]
    },
    {
     "name": "stderr",
     "output_type": "stream",
     "text": [
      "[I 2025-01-02 04:32:44,411] Trial 363 finished with value: 0.04432693306755518 and parameters: {'icm_weight': 0.310112059389792}. Best is trial 91 with value: 0.044400295877117.\n"
     ]
    },
    {
     "name": "stdout",
     "output_type": "stream",
     "text": [
      "EvaluatorHoldout: Processed 35595 (100.0%) in 32.27 sec. Users per second: 1103\n"
     ]
    },
    {
     "name": "stderr",
     "output_type": "stream",
     "text": [
      "[I 2025-01-02 04:33:16,826] Trial 364 finished with value: 0.044333442587128395 and parameters: {'icm_weight': 0.25790192203496076}. Best is trial 91 with value: 0.044400295877117.\n"
     ]
    },
    {
     "name": "stdout",
     "output_type": "stream",
     "text": [
      "EvaluatorHoldout: Processed 35595 (100.0%) in 32.15 sec. Users per second: 1107\n"
     ]
    },
    {
     "name": "stderr",
     "output_type": "stream",
     "text": [
      "[I 2025-01-02 04:33:49,131] Trial 365 finished with value: 0.044140141405626644 and parameters: {'icm_weight': 0.36386528380071453}. Best is trial 91 with value: 0.044400295877117.\n"
     ]
    },
    {
     "name": "stdout",
     "output_type": "stream",
     "text": [
      "EvaluatorHoldout: Processed 35595 (100.0%) in 32.21 sec. Users per second: 1105\n"
     ]
    },
    {
     "name": "stderr",
     "output_type": "stream",
     "text": [
      "[I 2025-01-02 04:34:21,494] Trial 366 finished with value: 0.04412548355953174 and parameters: {'icm_weight': 0.20745314222184758}. Best is trial 91 with value: 0.044400295877117.\n"
     ]
    },
    {
     "name": "stdout",
     "output_type": "stream",
     "text": [
      "EvaluatorHoldout: Processed 35595 (100.0%) in 32.13 sec. Users per second: 1108\n"
     ]
    },
    {
     "name": "stderr",
     "output_type": "stream",
     "text": [
      "[I 2025-01-02 04:34:53,767] Trial 367 finished with value: 0.04438282195867378 and parameters: {'icm_weight': 0.27574100277076324}. Best is trial 91 with value: 0.044400295877117.\n"
     ]
    },
    {
     "name": "stdout",
     "output_type": "stream",
     "text": [
      "EvaluatorHoldout: Processed 35595 (100.0%) in 32.08 sec. Users per second: 1109\n"
     ]
    },
    {
     "name": "stderr",
     "output_type": "stream",
     "text": [
      "[I 2025-01-02 04:35:25,999] Trial 368 finished with value: 0.04435092207974483 and parameters: {'icm_weight': 0.29797467348083806}. Best is trial 91 with value: 0.044400295877117.\n"
     ]
    },
    {
     "name": "stdout",
     "output_type": "stream",
     "text": [
      "EvaluatorHoldout: Processed 35595 (100.0%) in 32.08 sec. Users per second: 1110\n"
     ]
    },
    {
     "name": "stderr",
     "output_type": "stream",
     "text": [
      "[I 2025-01-02 04:35:58,224] Trial 369 finished with value: 0.04433181158402247 and parameters: {'icm_weight': 0.25969433255972196}. Best is trial 91 with value: 0.044400295877117.\n"
     ]
    },
    {
     "name": "stdout",
     "output_type": "stream",
     "text": [
      "EvaluatorHoldout: Processed 35595 (100.0%) in 32.12 sec. Users per second: 1108\n"
     ]
    },
    {
     "name": "stderr",
     "output_type": "stream",
     "text": [
      "[I 2025-01-02 04:36:30,488] Trial 370 finished with value: 0.044312450250501775 and parameters: {'icm_weight': 0.31387834212174076}. Best is trial 91 with value: 0.044400295877117.\n"
     ]
    },
    {
     "name": "stdout",
     "output_type": "stream",
     "text": [
      "EvaluatorHoldout: Processed 35595 (100.0%) in 32.04 sec. Users per second: 1111\n"
     ]
    },
    {
     "name": "stderr",
     "output_type": "stream",
     "text": [
      "[I 2025-01-02 04:37:02,676] Trial 371 finished with value: 0.044394573430813 and parameters: {'icm_weight': 0.2867935320706449}. Best is trial 91 with value: 0.044400295877117.\n"
     ]
    },
    {
     "name": "stdout",
     "output_type": "stream",
     "text": [
      "EvaluatorHoldout: Processed 35595 (100.0%) in 32.10 sec. Users per second: 1109\n"
     ]
    },
    {
     "name": "stderr",
     "output_type": "stream",
     "text": [
      "[I 2025-01-02 04:37:34,928] Trial 372 finished with value: 0.04424965941801009 and parameters: {'icm_weight': 0.3324760136879917}. Best is trial 91 with value: 0.044400295877117.\n"
     ]
    },
    {
     "name": "stdout",
     "output_type": "stream",
     "text": [
      "EvaluatorHoldout: Processed 35595 (100.0%) in 31.70 sec. Users per second: 1123\n"
     ]
    },
    {
     "name": "stderr",
     "output_type": "stream",
     "text": [
      "[I 2025-01-02 04:38:06,763] Trial 373 finished with value: 0.044361859722583025 and parameters: {'icm_weight': 0.2975688806225383}. Best is trial 91 with value: 0.044400295877117.\n"
     ]
    },
    {
     "name": "stdout",
     "output_type": "stream",
     "text": [
      "EvaluatorHoldout: Processed 35595 (100.0%) in 31.70 sec. Users per second: 1123\n"
     ]
    },
    {
     "name": "stderr",
     "output_type": "stream",
     "text": [
      "[I 2025-01-02 04:38:38,592] Trial 374 finished with value: 0.04423475407862108 and parameters: {'icm_weight': 0.23791174124045666}. Best is trial 91 with value: 0.044400295877117.\n"
     ]
    },
    {
     "name": "stdout",
     "output_type": "stream",
     "text": [
      "EvaluatorHoldout: Processed 35595 (100.0%) in 31.80 sec. Users per second: 1119\n"
     ]
    },
    {
     "name": "stderr",
     "output_type": "stream",
     "text": [
      "[I 2025-01-02 04:39:10,534] Trial 375 finished with value: 0.04439684657868243 and parameters: {'icm_weight': 0.27763765805882723}. Best is trial 91 with value: 0.044400295877117.\n"
     ]
    },
    {
     "name": "stdout",
     "output_type": "stream",
     "text": [
      "EvaluatorHoldout: Processed 35595 (100.0%) in 31.70 sec. Users per second: 1123\n"
     ]
    },
    {
     "name": "stderr",
     "output_type": "stream",
     "text": [
      "[I 2025-01-02 04:39:42,370] Trial 376 finished with value: 0.04433008024579725 and parameters: {'icm_weight': 0.2613134855815926}. Best is trial 91 with value: 0.044400295877117.\n"
     ]
    },
    {
     "name": "stdout",
     "output_type": "stream",
     "text": [
      "EvaluatorHoldout: Processed 35595 (100.0%) in 31.92 sec. Users per second: 1115\n"
     ]
    },
    {
     "name": "stderr",
     "output_type": "stream",
     "text": [
      "[I 2025-01-02 04:40:14,428] Trial 377 finished with value: 0.04439198701440442 and parameters: {'icm_weight': 0.2773004954463197}. Best is trial 91 with value: 0.044400295877117.\n"
     ]
    },
    {
     "name": "stdout",
     "output_type": "stream",
     "text": [
      "EvaluatorHoldout: Processed 35595 (100.0%) in 31.63 sec. Users per second: 1126\n"
     ]
    },
    {
     "name": "stderr",
     "output_type": "stream",
     "text": [
      "[I 2025-01-02 04:40:46,197] Trial 378 finished with value: 0.04428461282906983 and parameters: {'icm_weight': 0.2482151549197749}. Best is trial 91 with value: 0.044400295877117.\n"
     ]
    },
    {
     "name": "stdout",
     "output_type": "stream",
     "text": [
      "EvaluatorHoldout: Processed 35595 (100.0%) in 31.72 sec. Users per second: 1122\n"
     ]
    },
    {
     "name": "stderr",
     "output_type": "stream",
     "text": [
      "[I 2025-01-02 04:41:18,058] Trial 379 finished with value: 0.044361900971465404 and parameters: {'icm_weight': 0.27197090894695364}. Best is trial 91 with value: 0.044400295877117.\n"
     ]
    },
    {
     "name": "stdout",
     "output_type": "stream",
     "text": [
      "EvaluatorHoldout: Processed 35595 (100.0%) in 31.72 sec. Users per second: 1122\n"
     ]
    },
    {
     "name": "stderr",
     "output_type": "stream",
     "text": [
      "[I 2025-01-02 04:41:49,912] Trial 380 finished with value: 0.044190268831228 and parameters: {'icm_weight': 0.22791164966383912}. Best is trial 91 with value: 0.044400295877117.\n"
     ]
    },
    {
     "name": "stdout",
     "output_type": "stream",
     "text": [
      "EvaluatorHoldout: Processed 35595 (100.0%) in 31.61 sec. Users per second: 1126\n"
     ]
    },
    {
     "name": "stderr",
     "output_type": "stream",
     "text": [
      "[I 2025-01-02 04:42:21,654] Trial 381 finished with value: 0.044359830723503815 and parameters: {'icm_weight': 0.3035084598265003}. Best is trial 91 with value: 0.044400295877117.\n"
     ]
    },
    {
     "name": "stdout",
     "output_type": "stream",
     "text": [
      "EvaluatorHoldout: Processed 35595 (100.0%) in 31.57 sec. Users per second: 1128\n"
     ]
    },
    {
     "name": "stderr",
     "output_type": "stream",
     "text": [
      "[I 2025-01-02 04:42:53,357] Trial 382 finished with value: 0.04427520696905282 and parameters: {'icm_weight': 0.32327993624268364}. Best is trial 91 with value: 0.044400295877117.\n"
     ]
    },
    {
     "name": "stdout",
     "output_type": "stream",
     "text": [
      "EvaluatorHoldout: Processed 35595 (100.0%) in 31.61 sec. Users per second: 1126\n"
     ]
    },
    {
     "name": "stderr",
     "output_type": "stream",
     "text": [
      "[I 2025-01-02 04:43:25,108] Trial 383 finished with value: 0.0441809008755895 and parameters: {'icm_weight': 0.3500910689759934}. Best is trial 91 with value: 0.044400295877117.\n"
     ]
    },
    {
     "name": "stdout",
     "output_type": "stream",
     "text": [
      "EvaluatorHoldout: Processed 35595 (100.0%) in 31.60 sec. Users per second: 1126\n"
     ]
    },
    {
     "name": "stderr",
     "output_type": "stream",
     "text": [
      "[I 2025-01-02 04:43:56,838] Trial 384 finished with value: 0.04436090319444572 and parameters: {'icm_weight': 0.2701818522064236}. Best is trial 91 with value: 0.044400295877117.\n"
     ]
    },
    {
     "name": "stdout",
     "output_type": "stream",
     "text": [
      "EvaluatorHoldout: Processed 35595 (100.0%) in 31.60 sec. Users per second: 1126\n"
     ]
    },
    {
     "name": "stderr",
     "output_type": "stream",
     "text": [
      "[I 2025-01-02 04:44:28,573] Trial 385 finished with value: 0.04438069262447535 and parameters: {'icm_weight': 0.2927154246110887}. Best is trial 91 with value: 0.044400295877117.\n"
     ]
    },
    {
     "name": "stdout",
     "output_type": "stream",
     "text": [
      "EvaluatorHoldout: Processed 35595 (100.0%) in 31.53 sec. Users per second: 1129\n"
     ]
    },
    {
     "name": "stderr",
     "output_type": "stream",
     "text": [
      "[I 2025-01-02 04:45:00,237] Trial 386 finished with value: 0.0443003431461065 and parameters: {'icm_weight': 0.25049394191225083}. Best is trial 91 with value: 0.044400295877117.\n"
     ]
    },
    {
     "name": "stdout",
     "output_type": "stream",
     "text": [
      "EvaluatorHoldout: Processed 35595 (100.0%) in 31.62 sec. Users per second: 1126\n"
     ]
    },
    {
     "name": "stderr",
     "output_type": "stream",
     "text": [
      "[I 2025-01-02 04:45:31,994] Trial 387 finished with value: 0.04437485200569755 and parameters: {'icm_weight': 0.2818388661585437}. Best is trial 91 with value: 0.044400295877117.\n"
     ]
    },
    {
     "name": "stdout",
     "output_type": "stream",
     "text": [
      "EvaluatorHoldout: Processed 35595 (100.0%) in 31.53 sec. Users per second: 1129\n"
     ]
    },
    {
     "name": "stderr",
     "output_type": "stream",
     "text": [
      "[I 2025-01-02 04:46:03,661] Trial 388 finished with value: 0.044298774573741415 and parameters: {'icm_weight': 0.3154266705662648}. Best is trial 91 with value: 0.044400295877117.\n"
     ]
    },
    {
     "name": "stdout",
     "output_type": "stream",
     "text": [
      "EvaluatorHoldout: Processed 35595 (100.0%) in 31.44 sec. Users per second: 1132\n"
     ]
    },
    {
     "name": "stderr",
     "output_type": "stream",
     "text": [
      "[I 2025-01-02 04:46:35,235] Trial 389 finished with value: 0.043741766388625494 and parameters: {'icm_weight': 0.15455775623480178}. Best is trial 91 with value: 0.044400295877117.\n"
     ]
    },
    {
     "name": "stdout",
     "output_type": "stream",
     "text": [
      "EvaluatorHoldout: Processed 35595 (100.0%) in 31.70 sec. Users per second: 1123\n"
     ]
    },
    {
     "name": "stderr",
     "output_type": "stream",
     "text": [
      "[I 2025-01-02 04:47:07,066] Trial 390 finished with value: 0.04358656914092939 and parameters: {'icm_weight': 0.12938014171075662}. Best is trial 91 with value: 0.044400295877117.\n"
     ]
    },
    {
     "name": "stdout",
     "output_type": "stream",
     "text": [
      "EvaluatorHoldout: Processed 35595 (100.0%) in 31.60 sec. Users per second: 1126\n"
     ]
    },
    {
     "name": "stderr",
     "output_type": "stream",
     "text": [
      "[I 2025-01-02 04:47:38,817] Trial 391 finished with value: 0.04415550940139909 and parameters: {'icm_weight': 0.22091893364938014}. Best is trial 91 with value: 0.044400295877117.\n"
     ]
    },
    {
     "name": "stdout",
     "output_type": "stream",
     "text": [
      "EvaluatorHoldout: Processed 35595 (100.0%) in 31.55 sec. Users per second: 1128\n"
     ]
    },
    {
     "name": "stderr",
     "output_type": "stream",
     "text": [
      "[I 2025-01-02 04:48:10,515] Trial 392 finished with value: 0.044329896298078514 and parameters: {'icm_weight': 0.26610686728388383}. Best is trial 91 with value: 0.044400295877117.\n"
     ]
    },
    {
     "name": "stdout",
     "output_type": "stream",
     "text": [
      "EvaluatorHoldout: Processed 35595 (100.0%) in 31.47 sec. Users per second: 1131\n"
     ]
    },
    {
     "name": "stderr",
     "output_type": "stream",
     "text": [
      "[I 2025-01-02 04:48:42,138] Trial 393 finished with value: 0.044353106040841556 and parameters: {'icm_weight': 0.29813671641427825}. Best is trial 91 with value: 0.044400295877117.\n"
     ]
    },
    {
     "name": "stdout",
     "output_type": "stream",
     "text": [
      "EvaluatorHoldout: Processed 35595 (100.0%) in 31.56 sec. Users per second: 1128\n"
     ]
    },
    {
     "name": "stderr",
     "output_type": "stream",
     "text": [
      "[I 2025-01-02 04:49:13,832] Trial 394 finished with value: 0.0442729471991994 and parameters: {'icm_weight': 0.2466751700646331}. Best is trial 91 with value: 0.044400295877117.\n"
     ]
    },
    {
     "name": "stdout",
     "output_type": "stream",
     "text": [
      "EvaluatorHoldout: Processed 35595 (100.0%) in 31.62 sec. Users per second: 1126\n"
     ]
    },
    {
     "name": "stderr",
     "output_type": "stream",
     "text": [
      "[I 2025-01-02 04:49:45,598] Trial 395 finished with value: 0.044396148692185965 and parameters: {'icm_weight': 0.285382295247575}. Best is trial 91 with value: 0.044400295877117.\n"
     ]
    },
    {
     "name": "stdout",
     "output_type": "stream",
     "text": [
      "EvaluatorHoldout: Processed 35595 (100.0%) in 31.80 sec. Users per second: 1119\n"
     ]
    },
    {
     "name": "stderr",
     "output_type": "stream",
     "text": [
      "[I 2025-01-02 04:50:17,537] Trial 396 finished with value: 0.04424978539432654 and parameters: {'icm_weight': 0.331728433699583}. Best is trial 91 with value: 0.044400295877117.\n"
     ]
    },
    {
     "name": "stdout",
     "output_type": "stream",
     "text": [
      "EvaluatorHoldout: Processed 35595 (100.0%) in 31.91 sec. Users per second: 1115\n"
     ]
    },
    {
     "name": "stderr",
     "output_type": "stream",
     "text": [
      "[I 2025-01-02 04:50:49,587] Trial 397 finished with value: 0.04381854728125131 and parameters: {'icm_weight': 0.41798923294549795}. Best is trial 91 with value: 0.044400295877117.\n"
     ]
    },
    {
     "name": "stdout",
     "output_type": "stream",
     "text": [
      "EvaluatorHoldout: Processed 35595 (100.0%) in 31.92 sec. Users per second: 1115\n"
     ]
    },
    {
     "name": "stderr",
     "output_type": "stream",
     "text": [
      "[I 2025-01-02 04:51:21,651] Trial 398 finished with value: 0.044077159936408365 and parameters: {'icm_weight': 0.19780956316458512}. Best is trial 91 with value: 0.044400295877117.\n"
     ]
    },
    {
     "name": "stdout",
     "output_type": "stream",
     "text": [
      "EvaluatorHoldout: Processed 35595 (100.0%) in 32.00 sec. Users per second: 1112\n"
     ]
    },
    {
     "name": "stderr",
     "output_type": "stream",
     "text": [
      "[I 2025-01-02 04:51:53,800] Trial 399 finished with value: 0.04435931901439548 and parameters: {'icm_weight': 0.27058345117234617}. Best is trial 91 with value: 0.044400295877117.\n"
     ]
    }
   ],
   "source": [
    "if config['tune_parameters']:\n",
    "    \n",
    "    optuna_study = optuna.create_study(direction='maximize', study_name=f'hyperparameters_tuning_{config[\"model\"]}_{config[\"metric\"]}',\n",
    "                                storage=f'sqlite:///{config[\"database_path\"]}', load_if_exists=True)\n",
    "\n",
    "    optuna_study.optimize(objective_function_RP3betaHybrid, n_trials=400)"
   ]
  },
  {
   "cell_type": "markdown",
   "id": "92b5c605",
   "metadata": {
    "papermill": {
     "duration": 0.056744,
     "end_time": "2025-01-02T04:51:53.937104",
     "exception": false,
     "start_time": "2025-01-02T04:51:53.880360",
     "status": "completed"
    },
    "tags": []
   },
   "source": [
    "## Some optuna visualizations on recommender parameters"
   ]
  },
  {
   "cell_type": "code",
   "execution_count": 15,
   "id": "5e552545",
   "metadata": {
    "execution": {
     "iopub.execute_input": "2025-01-02T04:51:54.054380Z",
     "iopub.status.busy": "2025-01-02T04:51:54.054022Z",
     "iopub.status.idle": "2025-01-02T04:51:55.293649Z",
     "shell.execute_reply": "2025-01-02T04:51:55.292635Z"
    },
    "papermill": {
     "duration": 1.300893,
     "end_time": "2025-01-02T04:51:55.295175",
     "exception": false,
     "start_time": "2025-01-02T04:51:53.994282",
     "status": "completed"
    },
    "tags": []
   },
   "outputs": [
    {
     "data": {
      "text/html": [
       "<html>\n",
       "<head><meta charset=\"utf-8\" /></head>\n",
       "<body>\n",
       "    <div>            <script src=\"https://cdnjs.cloudflare.com/ajax/libs/mathjax/2.7.5/MathJax.js?config=TeX-AMS-MML_SVG\"></script><script type=\"text/javascript\">if (window.MathJax && window.MathJax.Hub && window.MathJax.Hub.Config) {window.MathJax.Hub.Config({SVG: {font: \"STIX-Web\"}});}</script>                <script type=\"text/javascript\">window.PlotlyConfig = {MathJaxConfig: 'local'};</script>\n",
       "        <script charset=\"utf-8\" src=\"https://cdn.plot.ly/plotly-2.35.2.min.js\"></script>                <div id=\"33ed9d52-1092-4db9-b43c-d5c0dff831d6\" class=\"plotly-graph-div\" style=\"height:525px; width:100%;\"></div>            <script type=\"text/javascript\">                                    window.PLOTLYENV=window.PLOTLYENV || {};                                    if (document.getElementById(\"33ed9d52-1092-4db9-b43c-d5c0dff831d6\")) {                    Plotly.newPlot(                        \"33ed9d52-1092-4db9-b43c-d5c0dff831d6\",                        [{\"marker\":{\"color\":[0,1,2,3,4,5,6,7,8,9,10,11,12,13,14,15,16,17,18,19,20,21,22,23,24,25,26,27,28,29,30,31,32,33,34,35,36,37,38,39,40,41,42,43,44,45,46,47,48,49,50,51,52,53,54,55,56,57,58,59,60,61,62,63,64,65,66,67,68,69,70,71,72,73,74,75,76,77,78,79,80,81,82,83,84,85,86,87,88,89,90,91,92,93,94,95,96,97,98,99,100,101,102,103,104,105,106,107,108,109,110,111,112,113,114,115,116,117,118,119,120,121,122,123,124,125,126,127,128,129,130,131,132,133,134,135,136,137,138,139,140,141,142,143,144,145,146,147,148,149,150,151,152,153,154,155,156,157,158,159,160,161,162,163,164,165,166,167,168,169,170,171,172,173,174,175,176,177,178,179,180,181,182,183,184,185,186,187,188,189,190,191,192,193,194,195,196,197,198,199,200,201,202,203,204,205,206,207,208,209,210,211,212,213,214,215,216,217,218,219,220,221,222,223,224,225,226,227,228,229,230,231,232,233,234,235,236,237,238,239,240,241,242,243,244,245,246,247,248,249,250,251,252,253,254,255,256,257,258,259,260,261,262,263,264,265,266,267,268,269,270,271,272,273,274,275,276,277,278,279,280,281,282,283,284,285,286,287,288,289,290,291,292,293,294,295,296,297,298,299,300,301,302,303,304,305,306,307,308,309,310,311,312,313,314,315,316,317,318,319,320,321,322,323,324,325,326,327,328,329,330,331,332,333,334,335,336,337,338,339,340,341,342,343,344,345,346,347,348,349,350,351,352,353,354,355,356,357,358,359,360,361,362,363,364,365,366,367,368,369,370,371,372,373,374,375,376,377,378,379,380,381,382,383,384,385,386,387,388,389,390,391,392,393,394,395,396,397,398,399],\"colorbar\":{\"title\":{\"text\":\"Trial\"},\"x\":1.0,\"xpad\":40},\"colorscale\":[[0.0,\"rgb(247,251,255)\"],[0.125,\"rgb(222,235,247)\"],[0.25,\"rgb(198,219,239)\"],[0.375,\"rgb(158,202,225)\"],[0.5,\"rgb(107,174,214)\"],[0.625,\"rgb(66,146,198)\"],[0.75,\"rgb(33,113,181)\"],[0.875,\"rgb(8,81,156)\"],[1.0,\"rgb(8,48,107)\"]],\"line\":{\"color\":\"Grey\",\"width\":0.5}},\"mode\":\"markers\",\"name\":\"Feasible Trial\",\"showlegend\":false,\"x\":[0.2641917415710384,0.6777916987600546,0.9795025505159362,0.9440576509054152,0.9522927338406351,0.5748108075414476,0.23259553117026777,0.44091613950874287,0.1329704015273525,0.5204853950208206,0.023952348137782076,0.2759403552515289,0.250088604557867,0.34018833587888275,0.37567953934076204,0.06194802389788645,0.2137754653675445,0.6310752247670931,0.751744303939777,0.3151244085846753,0.44551164826049644,0.31545220700789955,0.14101309468938703,0.310223558783724,0.16540328667861998,0.39545573028022385,0.24369182716479143,0.4940891596060427,0.08362946118950138,0.289244015401806,0.7593218515070366,0.28647946017354037,0.18548498646098055,0.2735087300985046,0.27603974753328303,0.39609758573293563,0.09816235478597751,0.4572097105637379,0.5547541630709665,0.280142553543361,0.0003748220164365157,0.2736953801946891,0.19779735705324492,0.34697372041597746,0.4103762630337041,0.2578625574596205,0.1409644026084535,0.35245761047081353,0.29410416077362167,0.22894577793946624,0.894942628009402,0.2863798626874206,0.20483202851742952,0.3457919660035984,0.47662787175315374,0.43047912678856143,0.3725502150303778,0.16715575404218452,0.2934350559863361,0.11791983146732574,0.0535640281756421,0.29666861767031605,0.24120102476615368,0.3260738957314464,0.27841311530479,0.1691828544020601,0.22154679221371087,0.3683566021159612,0.26737651227957854,0.32186325820266776,0.537177143725939,0.2894878943562014,0.2532097923470728,0.2869177551528749,0.206963885008062,0.3213817000027215,0.40329209967657054,0.2269622924749302,0.27973862875410693,0.18866936062648199,0.3768305444780734,0.2746969864030635,0.2996200751594609,0.24815733200420248,0.33653098448652363,0.2677939639423817,0.635192273739145,0.41710789516520586,0.15168204297646434,0.362369552928677,0.30497155165347706,0.28755917791437663,0.2806683189858469,0.22357551651648241,0.19037202978838033,0.3389492497009267,0.24354866232455125,0.38673767116588637,0.2998868720152952,0.32362052534726377,0.11610410881902414,0.28009078707709123,0.25986687870513164,0.3540321423101793,0.28438131649945525,0.21349363638222452,0.23757969845490826,0.3068490676621242,0.1778865191401008,0.26079547366958417,0.33835248134694784,0.27782771978172327,0.2920116713973424,0.32067590015694036,0.20572086165194572,0.24627154938212337,0.2799554187336119,0.22805007023467444,0.31164273726482433,0.2638466454712207,0.3521877190900334,0.2827605029588908,0.29695568042809356,0.281964985702823,0.728873782911564,0.8647504844541325,0.3246333697905196,0.25925162041481603,0.23648258036007463,0.37274239390865077,0.2040033645792742,0.2777469384567455,0.28358736718371386,0.31068735334200226,0.25878529183577287,0.34174162984712364,0.22938735245123437,0.28962357520970883,0.3254967716175544,0.24741923261369544,0.272051867391034,0.3043520739258692,0.2785435042293247,0.27808433087634327,0.26195547889935383,0.3037377557096676,0.3605115204544763,0.2155354215804151,0.33187069816362225,0.24126602655850551,0.27531479188356717,0.2969465946472632,0.2783792270317577,0.25610676576024877,0.31397621158231304,0.22466050109120558,0.2847524921812977,0.19481299212112865,0.3391285563091705,0.24521110646633076,0.268852371764459,0.2899883415041594,0.28629835023679656,0.3133487902926954,0.26968308621026815,0.2956093456111689,0.24471840472658185,0.32173578667803543,0.28533704262403614,0.34806604667791924,0.21892050531726634,0.2831696311697523,0.2597885461150668,0.30494091083171554,0.28382849017773226,0.9919910916946645,0.5859785780130873,0.2696728536602752,0.2429880840555673,0.319175675675425,0.29732899524320094,0.2865463749127894,0.270612604262995,0.2947698428450967,0.24947219924922726,0.3312173032184436,0.2297607633391776,0.2792701984053692,0.31005884449505755,0.25304384402963037,0.27284098823314284,0.28618257260661073,0.2928737327445828,0.31646001378122796,0.2630601374099044,0.2894654269415229,0.34115334225321037,0.3062186255020108,0.23158110902282913,0.27932740849098603,0.2582832453881503,0.27993567705441963,0.28992278352592055,0.31055767569632386,0.26740175708542985,0.24414446752510258,0.2803552816696616,0.32790573422484,0.3012783570144183,0.26094730246753434,0.28421824171576926,0.27734328705002836,0.30366175637991355,0.25495568426151644,0.2744594417279547,0.3271251913874922,0.29407114332580164,0.242140545448994,0.2186741272864306,0.26644242476493507,0.3136295727006313,0.28323097022980903,0.27204829856320745,0.2911026881161696,0.24940515832837076,0.2771970976525233,0.3038849653582953,0.2696167572923741,0.328218333174709,0.231065062321959,0.2912093656471439,0.274136932432261,0.25971303058828715,0.28783390418687627,0.3081876788850049,0.28820840740003795,0.2889954129279521,0.3090752690966873,0.25561736204337976,0.28288744117134135,0.03172825650850247,0.29421947233667467,0.2702509697709026,0.24311203725877636,0.322106414531729,0.28112359132779646,0.30064811676544934,0.2619613381327895,0.282233904247688,0.503323865780878,0.31511534150900183,0.25255130372451773,0.299566702140955,0.34098772725058984,0.27220511108297396,0.24573623869831956,0.2898485671756788,0.3221616606708861,0.27073936378360436,0.2311706055501513,0.3006465685475131,0.2557532606303471,0.351434090815516,0.27956423526312335,0.3073940056215594,0.2860747940136452,0.32592004303605715,0.29100725680284617,0.2900110760021757,0.2595090725204594,0.30845218185285506,0.23000921837200922,0.2897740884611788,0.339232396484344,0.26224430479879046,0.31607328524547196,0.81009681833322,0.2767913864735266,0.20935695674606358,0.2421901992146009,0.27173239954735956,0.2917149143438531,0.2733192119824237,0.25647768690081957,0.3025036019359697,0.23982131406125654,0.0871981537129034,0.3621059020769212,0.28328309971855414,0.3241959971677951,0.2666246095811045,0.2951230964527394,0.30771675544005317,0.2510080498946554,0.2797607784558153,0.33034570627104676,0.2718274113151073,0.22829333776016786,0.7014408706308475,0.30501994562801693,0.2567698088153016,0.2958122734922846,0.28024740784201296,0.45330025582842504,0.9418825373675752,0.3171207844987073,0.28225457519011565,0.2381161330869221,0.26074563272137385,0.33466610982881806,0.611633379731011,0.21282872901389577,0.2856640577018297,0.27702552508210276,0.31115209941817107,0.24909968425009626,0.2927923698842645,0.263530340829718,0.31363618256395603,0.2776385216773967,0.27442019236985077,0.2403264470565584,0.3393019798279912,0.29231414141816264,0.2640996537082685,0.3028085192209586,0.22224601491156415,0.3534474153905256,0.28038741565652125,0.3197494355988296,0.2531737625956516,0.2853339983880263,0.2948256430107921,0.27165809638933325,0.31744391383695847,0.24006227797333435,0.28149689858896454,0.2600803656389704,0.18678181387620552,0.29639520426177013,0.3310303794033785,0.3065360821764229,0.27379693550523454,0.2504076215995606,0.2887673966464059,0.26842477822227007,0.22439131385375927,0.3098722600233021,0.38536941776994316,0.28452285800149485,0.3449448832378683,0.29345015298548865,0.3230207983458433,0.24603134805172222,0.26121589012702817,0.5443590725167267,0.30536205613694245,0.27951490716954247,0.2875474611545639,0.3288439036282533,0.29102544670214453,0.4775704362130112,0.23626320562330103,0.310112059389792,0.25790192203496076,0.36386528380071453,0.20745314222184758,0.27574100277076324,0.29797467348083806,0.25969433255972196,0.31387834212174076,0.2867935320706449,0.3324760136879917,0.2975688806225383,0.23791174124045666,0.27763765805882723,0.2613134855815926,0.2773004954463197,0.2482151549197749,0.27197090894695364,0.22791164966383912,0.3035084598265003,0.32327993624268364,0.3500910689759934,0.2701818522064236,0.2927154246110887,0.25049394191225083,0.2818388661585437,0.3154266705662648,0.15455775623480178,0.12938014171075662,0.22091893364938014,0.26610686728388383,0.29813671641427825,0.2466751700646331,0.285382295247575,0.331728433699583,0.41798923294549795,0.19780956316458512,0.27058345117234617],\"y\":[0.044341721349305176,0.040463805777963976,0.03592829160507112,0.03643814228411684,0.036295521486207336,0.04199652951970586,0.04419913511127,0.04356496476007513,0.043611121144621706,0.042729177675657794,0.04242031830759045,0.04438762912572283,0.04429623721005786,0.044236705039274064,0.044091874639070834,0.04288331025625452,0.04413990060134022,0.04119706820781305,0.03934091643868209,0.04430119376495117,0.04354109280552466,0.0442980811465836,0.04366018055862,0.04432837231909977,0.04383985177158233,0.04399420620427638,0.04425608866948792,0.04304735037246484,0.04310271529129385,0.04438089775405262,0.0392388488663237,0.044396716143027364,0.04399183383612228,0.04437056992577279,0.04439232146480203,0.04398561417356043,0.04325448888175259,0.043434122190336606,0.04227993721251092,0.0443863515252038,0.04216791862598724,0.0443711440656221,0.044077159936408365,0.0442203325774738,0.04390532824076718,0.04433207802950594,0.04365944365291048,0.04418502241932335,0.04437508277647192,0.04419019748180982,0.037170952091094396,0.04439340508409052,0.044106493465952516,0.044222095131069485,0.04323409521133792,0.043712477452467716,0.044101198001322964,0.043850588744181934,0.04438660459267135,0.04346937549191943,0.04277763730860937,0.044369499684500276,0.04424711648015333,0.04427326492707706,0.04438693569856507,0.043865093857928535,0.044156815987619266,0.044126319685525967,0.04434145378898704,0.04427922483316338,0.04251094321701036,0.04438118315172528,0.044305687663461116,0.044396556721671136,0.044121504714634226,0.04428393389476244,0.043960228273543296,0.044185754865694246,0.04438204157441261,0.04402067349391264,0.04409218344827136,0.044373768386409086,0.044358616668560356,0.04428481015480445,0.0442357518556407,0.044343998956513246,0.04113366087175504,0.043817026646776606,0.04374090462143424,0.044144825940863205,0.04435204471824629,0.044400295877117,0.0443855934376358,0.04415401552295621,0.04402023536389175,0.044235280280580026,0.044251925876871684,0.04399622628467831,0.04436596565863164,0.044274887011505726,0.04344709552126188,0.04438380412800829,0.04432786506933006,0.04417502681177195,0.04438771608282629,0.04413610458932675,0.04422543963504618,0.044343789367597336,0.04391901952521274,0.04432706573287965,0.044246378459609104,0.04439498034546348,0.04437304820321946,0.04428611339652055,0.04411941885898746,0.044271647301987134,0.044381898875576274,0.04418586300465615,0.04433093197947656,0.04433117055409361,0.04417718847617544,0.044386098457736244,0.04436196451704097,0.04437520094894578,0.039641537178620026,0.0376113887049402,0.0442831256396348,0.044330091394143824,0.04421675730272292,0.044101536911059246,0.044116947270548795,0.04439447532536302,0.0443784908260241,0.044329780355273934,0.04432983275250297,0.044241089683987364,0.044190995703425585,0.04438361795062026,0.04427320807050946,0.04428340211863028,0.04436283074357091,0.044355938835709714,0.044389856565371304,0.04438610626157886,0.04433228873325651,0.04435445945011738,0.044153358885342164,0.04414933990639686,0.04424677868525158,0.04424781548148445,0.044375449557074675,0.04436144165958596,0.04438640503726744,0.04432334887412697,0.04431512919818705,0.044162652147058466,0.04438936603812141,0.044050037123992684,0.04422941179093573,0.04425691922130878,0.04435242153236105,0.044384609038631964,0.04439410520025629,0.04431788283979446,0.04436190097146542,0.04436811394501929,0.044256798819165624,0.044279764413138294,0.04439293016452581,0.044204662461508684,0.044144701079381315,0.04438294124598233,0.04432715380481769,0.04435307259580176,0.044383681496195815,0.03580494964291754,0.041811313119150255,0.04436039037050264,0.04425708533167295,0.0442855972280735,0.04436594447677312,0.04439709407197673,0.044357371398246435,0.04437516861874065,0.04429222380528591,0.04425145653148018,0.044190205285652456,0.04438851095993805,0.04432802337585156,0.0443093019574252,0.044366150721185056,0.04439304833699966,0.04438327235187598,0.04429600420961414,0.044328707884332165,0.04438229129737621,0.04423693581004844,0.04435279500197171,0.044201899901223994,0.04438837049077104,0.044333510592042574,0.04438199252168762,0.04438560570081701,0.04433000666670967,0.044342132723294285,0.04425803517080231,0.04438584984960732,0.044248959301844325,0.04436348961085427,0.04432927756484287,0.04438573056229884,0.04439325792591554,0.044356203051523845,0.04432650162654229,0.04437087427563465,0.044260952693104476,0.04437677955482272,0.0442557151998772,0.044146397857732105,0.044328274213649856,0.044314678804984874,0.04437946519151596,0.04436292438968226,0.04438522331252902,0.04429520264349441,0.04439305056666898,0.04435425320570547,0.04435801019850595,0.04425142085677114,0.04418879279013964,0.04437718981397719,0.044364052602357026,0.04433029652372106,0.044394609105522106,0.04434655304271669,0.04438970494785771,0.0443860951132323,0.0443449666329971,0.044325869515290696,0.04438492788134443,0.042520536369249684,0.04437823887339117,0.04436137142500245,0.044257764265980194,0.04428367636795626,0.04437760341763566,0.04436221869934316,0.0443324760254792,0.04437957667498183,0.04292479994291921,0.044301310822590347,0.04431171557446163,0.044356873067153885,0.04423475965279432,0.04436350856304352,0.04426433064212096,0.044386331458179946,0.044281547033757813,0.04436365906572246,0.04419147285265958,0.04436221869934316,0.04432610140089974,0.044181048033764485,0.04438500257526658,0.044345277671866926,0.04438948309576058,0.044270914855616156,0.044386545506434436,0.04438499923076257,0.04433509254242352,0.04435102798903739,0.04419286082180991,0.04438709511992128,0.04423432821178134,0.04432841691248624,0.044294632962983714,0.03846933758754148,0.04438717873252068,0.04410657038954393,0.04425244984916136,0.044362746016136816,0.044369799575023516,0.04436748294860237,0.0443268148950814,0.04435944164620788,0.04424826030051332,0.04314679585370563,0.0441473254001684,0.04437974501501533,0.04428071090776368,0.04433258193477172,0.044381711583353564,0.04434054519874001,0.04430029855272015,0.044381898875576274,0.04424523129474506,0.04436259885796185,0.044184555303601304,0.04007323906291356,0.0443522208621224,0.0443330925290455,0.0443713179798289,0.044389328133742995,0.04348689734825296,0.0364759374087219,0.04429223160912852,0.04438042952349587,0.044234611379784745,0.04433029429405175,0.044246363966758476,0.041471240610304036,0.04412821713411525,0.044393994831625025,0.04439010851800421,0.04432908023910816,0.04429449695315535,0.0443791630713234,0.04432762426504373,0.044314678804984874,0.04439684657868243,0.04437107383103859,0.04423622789004012,0.04423382653618485,0.04437647409012617,0.04434383284614909,0.04436122092232345,0.0441448727639188,0.04417929328401145,0.04438654773610378,0.0442847376905515,0.044307406738505105,0.04439293016452581,0.04437729906777375,0.044366078256932194,0.044297735547839355,0.044241605852434515,0.04437897354943142,0.044323815989849025,0.04400940363034612,0.04436897236770664,0.044244164397976515,0.04434095322822518,0.04437142500395613,0.04430087715190811,0.04438470602924735,0.04435128663067832,0.04416022961134476,0.044336293219351085,0.04401980615254809,0.04439304053315705,0.04421923112083086,0.044386604592671346,0.04427898737338105,0.04426307645312974,0.044330042341418845,0.042409301511491686,0.044346643344324074,0.044386607937175346,0.044400217838690886,0.04425559145322997,0.0443869613397622,0.043218985857206196,0.04421438716423813,0.04432693306755518,0.044333442587128395,0.044140141405626644,0.04412548355953174,0.04438282195867378,0.04435092207974483,0.04433181158402247,0.044312450250501775,0.044394573430813,0.04424965941801009,0.044361859722583025,0.04423475407862108,0.04439684657868243,0.04433008024579725,0.04439198701440442,0.04428461282906983,0.044361900971465404,0.044190268831228,0.044359830723503815,0.04427520696905282,0.0441809008755895,0.04436090319444572,0.04438069262447535,0.0443003431461065,0.04437485200569755,0.044298774573741415,0.043741766388625494,0.04358656914092939,0.04415550940139909,0.044329896298078514,0.044353106040841556,0.0442729471991994,0.044396148692185965,0.04424978539432654,0.04381854728125131,0.044077159936408365,0.04435931901439548],\"type\":\"scatter\"}],                        {\"title\":{\"text\":\"Slice Plot\"},\"template\":{\"data\":{\"histogram2dcontour\":[{\"type\":\"histogram2dcontour\",\"colorbar\":{\"outlinewidth\":0,\"ticks\":\"\"},\"colorscale\":[[0.0,\"#0d0887\"],[0.1111111111111111,\"#46039f\"],[0.2222222222222222,\"#7201a8\"],[0.3333333333333333,\"#9c179e\"],[0.4444444444444444,\"#bd3786\"],[0.5555555555555556,\"#d8576b\"],[0.6666666666666666,\"#ed7953\"],[0.7777777777777778,\"#fb9f3a\"],[0.8888888888888888,\"#fdca26\"],[1.0,\"#f0f921\"]]}],\"choropleth\":[{\"type\":\"choropleth\",\"colorbar\":{\"outlinewidth\":0,\"ticks\":\"\"}}],\"histogram2d\":[{\"type\":\"histogram2d\",\"colorbar\":{\"outlinewidth\":0,\"ticks\":\"\"},\"colorscale\":[[0.0,\"#0d0887\"],[0.1111111111111111,\"#46039f\"],[0.2222222222222222,\"#7201a8\"],[0.3333333333333333,\"#9c179e\"],[0.4444444444444444,\"#bd3786\"],[0.5555555555555556,\"#d8576b\"],[0.6666666666666666,\"#ed7953\"],[0.7777777777777778,\"#fb9f3a\"],[0.8888888888888888,\"#fdca26\"],[1.0,\"#f0f921\"]]}],\"heatmap\":[{\"type\":\"heatmap\",\"colorbar\":{\"outlinewidth\":0,\"ticks\":\"\"},\"colorscale\":[[0.0,\"#0d0887\"],[0.1111111111111111,\"#46039f\"],[0.2222222222222222,\"#7201a8\"],[0.3333333333333333,\"#9c179e\"],[0.4444444444444444,\"#bd3786\"],[0.5555555555555556,\"#d8576b\"],[0.6666666666666666,\"#ed7953\"],[0.7777777777777778,\"#fb9f3a\"],[0.8888888888888888,\"#fdca26\"],[1.0,\"#f0f921\"]]}],\"heatmapgl\":[{\"type\":\"heatmapgl\",\"colorbar\":{\"outlinewidth\":0,\"ticks\":\"\"},\"colorscale\":[[0.0,\"#0d0887\"],[0.1111111111111111,\"#46039f\"],[0.2222222222222222,\"#7201a8\"],[0.3333333333333333,\"#9c179e\"],[0.4444444444444444,\"#bd3786\"],[0.5555555555555556,\"#d8576b\"],[0.6666666666666666,\"#ed7953\"],[0.7777777777777778,\"#fb9f3a\"],[0.8888888888888888,\"#fdca26\"],[1.0,\"#f0f921\"]]}],\"contourcarpet\":[{\"type\":\"contourcarpet\",\"colorbar\":{\"outlinewidth\":0,\"ticks\":\"\"}}],\"contour\":[{\"type\":\"contour\",\"colorbar\":{\"outlinewidth\":0,\"ticks\":\"\"},\"colorscale\":[[0.0,\"#0d0887\"],[0.1111111111111111,\"#46039f\"],[0.2222222222222222,\"#7201a8\"],[0.3333333333333333,\"#9c179e\"],[0.4444444444444444,\"#bd3786\"],[0.5555555555555556,\"#d8576b\"],[0.6666666666666666,\"#ed7953\"],[0.7777777777777778,\"#fb9f3a\"],[0.8888888888888888,\"#fdca26\"],[1.0,\"#f0f921\"]]}],\"surface\":[{\"type\":\"surface\",\"colorbar\":{\"outlinewidth\":0,\"ticks\":\"\"},\"colorscale\":[[0.0,\"#0d0887\"],[0.1111111111111111,\"#46039f\"],[0.2222222222222222,\"#7201a8\"],[0.3333333333333333,\"#9c179e\"],[0.4444444444444444,\"#bd3786\"],[0.5555555555555556,\"#d8576b\"],[0.6666666666666666,\"#ed7953\"],[0.7777777777777778,\"#fb9f3a\"],[0.8888888888888888,\"#fdca26\"],[1.0,\"#f0f921\"]]}],\"mesh3d\":[{\"type\":\"mesh3d\",\"colorbar\":{\"outlinewidth\":0,\"ticks\":\"\"}}],\"scatter\":[{\"fillpattern\":{\"fillmode\":\"overlay\",\"size\":10,\"solidity\":0.2},\"type\":\"scatter\"}],\"parcoords\":[{\"type\":\"parcoords\",\"line\":{\"colorbar\":{\"outlinewidth\":0,\"ticks\":\"\"}}}],\"scatterpolargl\":[{\"type\":\"scatterpolargl\",\"marker\":{\"colorbar\":{\"outlinewidth\":0,\"ticks\":\"\"}}}],\"bar\":[{\"error_x\":{\"color\":\"#2a3f5f\"},\"error_y\":{\"color\":\"#2a3f5f\"},\"marker\":{\"line\":{\"color\":\"#E5ECF6\",\"width\":0.5},\"pattern\":{\"fillmode\":\"overlay\",\"size\":10,\"solidity\":0.2}},\"type\":\"bar\"}],\"scattergeo\":[{\"type\":\"scattergeo\",\"marker\":{\"colorbar\":{\"outlinewidth\":0,\"ticks\":\"\"}}}],\"scatterpolar\":[{\"type\":\"scatterpolar\",\"marker\":{\"colorbar\":{\"outlinewidth\":0,\"ticks\":\"\"}}}],\"histogram\":[{\"marker\":{\"pattern\":{\"fillmode\":\"overlay\",\"size\":10,\"solidity\":0.2}},\"type\":\"histogram\"}],\"scattergl\":[{\"type\":\"scattergl\",\"marker\":{\"colorbar\":{\"outlinewidth\":0,\"ticks\":\"\"}}}],\"scatter3d\":[{\"type\":\"scatter3d\",\"line\":{\"colorbar\":{\"outlinewidth\":0,\"ticks\":\"\"}},\"marker\":{\"colorbar\":{\"outlinewidth\":0,\"ticks\":\"\"}}}],\"scattermapbox\":[{\"type\":\"scattermapbox\",\"marker\":{\"colorbar\":{\"outlinewidth\":0,\"ticks\":\"\"}}}],\"scatterternary\":[{\"type\":\"scatterternary\",\"marker\":{\"colorbar\":{\"outlinewidth\":0,\"ticks\":\"\"}}}],\"scattercarpet\":[{\"type\":\"scattercarpet\",\"marker\":{\"colorbar\":{\"outlinewidth\":0,\"ticks\":\"\"}}}],\"carpet\":[{\"aaxis\":{\"endlinecolor\":\"#2a3f5f\",\"gridcolor\":\"white\",\"linecolor\":\"white\",\"minorgridcolor\":\"white\",\"startlinecolor\":\"#2a3f5f\"},\"baxis\":{\"endlinecolor\":\"#2a3f5f\",\"gridcolor\":\"white\",\"linecolor\":\"white\",\"minorgridcolor\":\"white\",\"startlinecolor\":\"#2a3f5f\"},\"type\":\"carpet\"}],\"table\":[{\"cells\":{\"fill\":{\"color\":\"#EBF0F8\"},\"line\":{\"color\":\"white\"}},\"header\":{\"fill\":{\"color\":\"#C8D4E3\"},\"line\":{\"color\":\"white\"}},\"type\":\"table\"}],\"barpolar\":[{\"marker\":{\"line\":{\"color\":\"#E5ECF6\",\"width\":0.5},\"pattern\":{\"fillmode\":\"overlay\",\"size\":10,\"solidity\":0.2}},\"type\":\"barpolar\"}],\"pie\":[{\"automargin\":true,\"type\":\"pie\"}]},\"layout\":{\"autotypenumbers\":\"strict\",\"colorway\":[\"#636efa\",\"#EF553B\",\"#00cc96\",\"#ab63fa\",\"#FFA15A\",\"#19d3f3\",\"#FF6692\",\"#B6E880\",\"#FF97FF\",\"#FECB52\"],\"font\":{\"color\":\"#2a3f5f\"},\"hovermode\":\"closest\",\"hoverlabel\":{\"align\":\"left\"},\"paper_bgcolor\":\"white\",\"plot_bgcolor\":\"#E5ECF6\",\"polar\":{\"bgcolor\":\"#E5ECF6\",\"angularaxis\":{\"gridcolor\":\"white\",\"linecolor\":\"white\",\"ticks\":\"\"},\"radialaxis\":{\"gridcolor\":\"white\",\"linecolor\":\"white\",\"ticks\":\"\"}},\"ternary\":{\"bgcolor\":\"#E5ECF6\",\"aaxis\":{\"gridcolor\":\"white\",\"linecolor\":\"white\",\"ticks\":\"\"},\"baxis\":{\"gridcolor\":\"white\",\"linecolor\":\"white\",\"ticks\":\"\"},\"caxis\":{\"gridcolor\":\"white\",\"linecolor\":\"white\",\"ticks\":\"\"}},\"coloraxis\":{\"colorbar\":{\"outlinewidth\":0,\"ticks\":\"\"}},\"colorscale\":{\"sequential\":[[0.0,\"#0d0887\"],[0.1111111111111111,\"#46039f\"],[0.2222222222222222,\"#7201a8\"],[0.3333333333333333,\"#9c179e\"],[0.4444444444444444,\"#bd3786\"],[0.5555555555555556,\"#d8576b\"],[0.6666666666666666,\"#ed7953\"],[0.7777777777777778,\"#fb9f3a\"],[0.8888888888888888,\"#fdca26\"],[1.0,\"#f0f921\"]],\"sequentialminus\":[[0.0,\"#0d0887\"],[0.1111111111111111,\"#46039f\"],[0.2222222222222222,\"#7201a8\"],[0.3333333333333333,\"#9c179e\"],[0.4444444444444444,\"#bd3786\"],[0.5555555555555556,\"#d8576b\"],[0.6666666666666666,\"#ed7953\"],[0.7777777777777778,\"#fb9f3a\"],[0.8888888888888888,\"#fdca26\"],[1.0,\"#f0f921\"]],\"diverging\":[[0,\"#8e0152\"],[0.1,\"#c51b7d\"],[0.2,\"#de77ae\"],[0.3,\"#f1b6da\"],[0.4,\"#fde0ef\"],[0.5,\"#f7f7f7\"],[0.6,\"#e6f5d0\"],[0.7,\"#b8e186\"],[0.8,\"#7fbc41\"],[0.9,\"#4d9221\"],[1,\"#276419\"]]},\"xaxis\":{\"gridcolor\":\"white\",\"linecolor\":\"white\",\"ticks\":\"\",\"title\":{\"standoff\":15},\"zerolinecolor\":\"white\",\"automargin\":true,\"zerolinewidth\":2},\"yaxis\":{\"gridcolor\":\"white\",\"linecolor\":\"white\",\"ticks\":\"\",\"title\":{\"standoff\":15},\"zerolinecolor\":\"white\",\"automargin\":true,\"zerolinewidth\":2},\"scene\":{\"xaxis\":{\"backgroundcolor\":\"#E5ECF6\",\"gridcolor\":\"white\",\"linecolor\":\"white\",\"showbackground\":true,\"ticks\":\"\",\"zerolinecolor\":\"white\",\"gridwidth\":2},\"yaxis\":{\"backgroundcolor\":\"#E5ECF6\",\"gridcolor\":\"white\",\"linecolor\":\"white\",\"showbackground\":true,\"ticks\":\"\",\"zerolinecolor\":\"white\",\"gridwidth\":2},\"zaxis\":{\"backgroundcolor\":\"#E5ECF6\",\"gridcolor\":\"white\",\"linecolor\":\"white\",\"showbackground\":true,\"ticks\":\"\",\"zerolinecolor\":\"white\",\"gridwidth\":2}},\"shapedefaults\":{\"line\":{\"color\":\"#2a3f5f\"}},\"annotationdefaults\":{\"arrowcolor\":\"#2a3f5f\",\"arrowhead\":0,\"arrowwidth\":1},\"geo\":{\"bgcolor\":\"white\",\"landcolor\":\"#E5ECF6\",\"subunitcolor\":\"white\",\"showland\":true,\"showlakes\":true,\"lakecolor\":\"white\"},\"title\":{\"x\":0.05},\"mapbox\":{\"style\":\"light\"}}},\"xaxis\":{\"title\":{\"text\":\"icm_weight\"}},\"yaxis\":{\"title\":{\"text\":\"Objective Value\"}}},                        {\"responsive\": true}                    ).then(function(){\n",
       "                            \n",
       "var gd = document.getElementById('33ed9d52-1092-4db9-b43c-d5c0dff831d6');\n",
       "var x = new MutationObserver(function (mutations, observer) {{\n",
       "        var display = window.getComputedStyle(gd).display;\n",
       "        if (!display || display === 'none') {{\n",
       "            console.log([gd, 'removed!']);\n",
       "            Plotly.purge(gd);\n",
       "            observer.disconnect();\n",
       "        }}\n",
       "}});\n",
       "\n",
       "// Listen for the removal of the full notebook cells\n",
       "var notebookContainer = gd.closest('#notebook-container');\n",
       "if (notebookContainer) {{\n",
       "    x.observe(notebookContainer, {childList: true});\n",
       "}}\n",
       "\n",
       "// Listen for the clearing of the current output cell\n",
       "var outputEl = gd.closest('.output');\n",
       "if (outputEl) {{\n",
       "    x.observe(outputEl, {childList: true});\n",
       "}}\n",
       "\n",
       "                        })                };                            </script>        </div>\n",
       "</body>\n",
       "</html>"
      ]
     },
     "metadata": {},
     "output_type": "display_data"
    }
   ],
   "source": [
    "if not config['tune_parameters']:\n",
    "    optuna_study = optuna.load_study(study_name=f'hyperparameters_tuning_{config[\"model\"]}_{config[\"metric\"]}', storage=f'sqlite:///{config[\"database_path\"]}')\n",
    "    \n",
    "fig = optuna.visualization.plot_slice(optuna_study)\n",
    "fig.show()"
   ]
  },
  {
   "cell_type": "code",
   "execution_count": 16,
   "id": "b11bda80",
   "metadata": {
    "execution": {
     "iopub.execute_input": "2025-01-02T04:51:55.411314Z",
     "iopub.status.busy": "2025-01-02T04:51:55.410999Z",
     "iopub.status.idle": "2025-01-02T04:51:58.492883Z",
     "shell.execute_reply": "2025-01-02T04:51:58.491953Z"
    },
    "papermill": {
     "duration": 3.142364,
     "end_time": "2025-01-02T04:51:58.494526",
     "exception": false,
     "start_time": "2025-01-02T04:51:55.352162",
     "status": "completed"
    },
    "tags": []
   },
   "outputs": [
    {
     "data": {
      "text/html": [
       "<html>\n",
       "<head><meta charset=\"utf-8\" /></head>\n",
       "<body>\n",
       "    <div>            <script src=\"https://cdnjs.cloudflare.com/ajax/libs/mathjax/2.7.5/MathJax.js?config=TeX-AMS-MML_SVG\"></script><script type=\"text/javascript\">if (window.MathJax && window.MathJax.Hub && window.MathJax.Hub.Config) {window.MathJax.Hub.Config({SVG: {font: \"STIX-Web\"}});}</script>                <script type=\"text/javascript\">window.PlotlyConfig = {MathJaxConfig: 'local'};</script>\n",
       "        <script charset=\"utf-8\" src=\"https://cdn.plot.ly/plotly-2.35.2.min.js\"></script>                <div id=\"421637f9-f827-415e-a5f6-3a4491a064d9\" class=\"plotly-graph-div\" style=\"height:525px; width:100%;\"></div>            <script type=\"text/javascript\">                                    window.PLOTLYENV=window.PLOTLYENV || {};                                    if (document.getElementById(\"421637f9-f827-415e-a5f6-3a4491a064d9\")) {                    Plotly.newPlot(                        \"421637f9-f827-415e-a5f6-3a4491a064d9\",                        [{\"cliponaxis\":false,\"hovertemplate\":[\"icm_weight (FloatDistribution): 1.0\\u003cextra\\u003e\\u003c\\u002fextra\\u003e\"],\"name\":\"Objective Value\",\"orientation\":\"h\",\"text\":[\"1.00\"],\"textposition\":\"outside\",\"x\":[1.0],\"y\":[\"icm_weight\"],\"type\":\"bar\"}],                        {\"title\":{\"text\":\"Hyperparameter Importances\"},\"xaxis\":{\"title\":{\"text\":\"Hyperparameter Importance\"}},\"yaxis\":{\"title\":{\"text\":\"Hyperparameter\"}},\"template\":{\"data\":{\"histogram2dcontour\":[{\"type\":\"histogram2dcontour\",\"colorbar\":{\"outlinewidth\":0,\"ticks\":\"\"},\"colorscale\":[[0.0,\"#0d0887\"],[0.1111111111111111,\"#46039f\"],[0.2222222222222222,\"#7201a8\"],[0.3333333333333333,\"#9c179e\"],[0.4444444444444444,\"#bd3786\"],[0.5555555555555556,\"#d8576b\"],[0.6666666666666666,\"#ed7953\"],[0.7777777777777778,\"#fb9f3a\"],[0.8888888888888888,\"#fdca26\"],[1.0,\"#f0f921\"]]}],\"choropleth\":[{\"type\":\"choropleth\",\"colorbar\":{\"outlinewidth\":0,\"ticks\":\"\"}}],\"histogram2d\":[{\"type\":\"histogram2d\",\"colorbar\":{\"outlinewidth\":0,\"ticks\":\"\"},\"colorscale\":[[0.0,\"#0d0887\"],[0.1111111111111111,\"#46039f\"],[0.2222222222222222,\"#7201a8\"],[0.3333333333333333,\"#9c179e\"],[0.4444444444444444,\"#bd3786\"],[0.5555555555555556,\"#d8576b\"],[0.6666666666666666,\"#ed7953\"],[0.7777777777777778,\"#fb9f3a\"],[0.8888888888888888,\"#fdca26\"],[1.0,\"#f0f921\"]]}],\"heatmap\":[{\"type\":\"heatmap\",\"colorbar\":{\"outlinewidth\":0,\"ticks\":\"\"},\"colorscale\":[[0.0,\"#0d0887\"],[0.1111111111111111,\"#46039f\"],[0.2222222222222222,\"#7201a8\"],[0.3333333333333333,\"#9c179e\"],[0.4444444444444444,\"#bd3786\"],[0.5555555555555556,\"#d8576b\"],[0.6666666666666666,\"#ed7953\"],[0.7777777777777778,\"#fb9f3a\"],[0.8888888888888888,\"#fdca26\"],[1.0,\"#f0f921\"]]}],\"heatmapgl\":[{\"type\":\"heatmapgl\",\"colorbar\":{\"outlinewidth\":0,\"ticks\":\"\"},\"colorscale\":[[0.0,\"#0d0887\"],[0.1111111111111111,\"#46039f\"],[0.2222222222222222,\"#7201a8\"],[0.3333333333333333,\"#9c179e\"],[0.4444444444444444,\"#bd3786\"],[0.5555555555555556,\"#d8576b\"],[0.6666666666666666,\"#ed7953\"],[0.7777777777777778,\"#fb9f3a\"],[0.8888888888888888,\"#fdca26\"],[1.0,\"#f0f921\"]]}],\"contourcarpet\":[{\"type\":\"contourcarpet\",\"colorbar\":{\"outlinewidth\":0,\"ticks\":\"\"}}],\"contour\":[{\"type\":\"contour\",\"colorbar\":{\"outlinewidth\":0,\"ticks\":\"\"},\"colorscale\":[[0.0,\"#0d0887\"],[0.1111111111111111,\"#46039f\"],[0.2222222222222222,\"#7201a8\"],[0.3333333333333333,\"#9c179e\"],[0.4444444444444444,\"#bd3786\"],[0.5555555555555556,\"#d8576b\"],[0.6666666666666666,\"#ed7953\"],[0.7777777777777778,\"#fb9f3a\"],[0.8888888888888888,\"#fdca26\"],[1.0,\"#f0f921\"]]}],\"surface\":[{\"type\":\"surface\",\"colorbar\":{\"outlinewidth\":0,\"ticks\":\"\"},\"colorscale\":[[0.0,\"#0d0887\"],[0.1111111111111111,\"#46039f\"],[0.2222222222222222,\"#7201a8\"],[0.3333333333333333,\"#9c179e\"],[0.4444444444444444,\"#bd3786\"],[0.5555555555555556,\"#d8576b\"],[0.6666666666666666,\"#ed7953\"],[0.7777777777777778,\"#fb9f3a\"],[0.8888888888888888,\"#fdca26\"],[1.0,\"#f0f921\"]]}],\"mesh3d\":[{\"type\":\"mesh3d\",\"colorbar\":{\"outlinewidth\":0,\"ticks\":\"\"}}],\"scatter\":[{\"fillpattern\":{\"fillmode\":\"overlay\",\"size\":10,\"solidity\":0.2},\"type\":\"scatter\"}],\"parcoords\":[{\"type\":\"parcoords\",\"line\":{\"colorbar\":{\"outlinewidth\":0,\"ticks\":\"\"}}}],\"scatterpolargl\":[{\"type\":\"scatterpolargl\",\"marker\":{\"colorbar\":{\"outlinewidth\":0,\"ticks\":\"\"}}}],\"bar\":[{\"error_x\":{\"color\":\"#2a3f5f\"},\"error_y\":{\"color\":\"#2a3f5f\"},\"marker\":{\"line\":{\"color\":\"#E5ECF6\",\"width\":0.5},\"pattern\":{\"fillmode\":\"overlay\",\"size\":10,\"solidity\":0.2}},\"type\":\"bar\"}],\"scattergeo\":[{\"type\":\"scattergeo\",\"marker\":{\"colorbar\":{\"outlinewidth\":0,\"ticks\":\"\"}}}],\"scatterpolar\":[{\"type\":\"scatterpolar\",\"marker\":{\"colorbar\":{\"outlinewidth\":0,\"ticks\":\"\"}}}],\"histogram\":[{\"marker\":{\"pattern\":{\"fillmode\":\"overlay\",\"size\":10,\"solidity\":0.2}},\"type\":\"histogram\"}],\"scattergl\":[{\"type\":\"scattergl\",\"marker\":{\"colorbar\":{\"outlinewidth\":0,\"ticks\":\"\"}}}],\"scatter3d\":[{\"type\":\"scatter3d\",\"line\":{\"colorbar\":{\"outlinewidth\":0,\"ticks\":\"\"}},\"marker\":{\"colorbar\":{\"outlinewidth\":0,\"ticks\":\"\"}}}],\"scattermapbox\":[{\"type\":\"scattermapbox\",\"marker\":{\"colorbar\":{\"outlinewidth\":0,\"ticks\":\"\"}}}],\"scatterternary\":[{\"type\":\"scatterternary\",\"marker\":{\"colorbar\":{\"outlinewidth\":0,\"ticks\":\"\"}}}],\"scattercarpet\":[{\"type\":\"scattercarpet\",\"marker\":{\"colorbar\":{\"outlinewidth\":0,\"ticks\":\"\"}}}],\"carpet\":[{\"aaxis\":{\"endlinecolor\":\"#2a3f5f\",\"gridcolor\":\"white\",\"linecolor\":\"white\",\"minorgridcolor\":\"white\",\"startlinecolor\":\"#2a3f5f\"},\"baxis\":{\"endlinecolor\":\"#2a3f5f\",\"gridcolor\":\"white\",\"linecolor\":\"white\",\"minorgridcolor\":\"white\",\"startlinecolor\":\"#2a3f5f\"},\"type\":\"carpet\"}],\"table\":[{\"cells\":{\"fill\":{\"color\":\"#EBF0F8\"},\"line\":{\"color\":\"white\"}},\"header\":{\"fill\":{\"color\":\"#C8D4E3\"},\"line\":{\"color\":\"white\"}},\"type\":\"table\"}],\"barpolar\":[{\"marker\":{\"line\":{\"color\":\"#E5ECF6\",\"width\":0.5},\"pattern\":{\"fillmode\":\"overlay\",\"size\":10,\"solidity\":0.2}},\"type\":\"barpolar\"}],\"pie\":[{\"automargin\":true,\"type\":\"pie\"}]},\"layout\":{\"autotypenumbers\":\"strict\",\"colorway\":[\"#636efa\",\"#EF553B\",\"#00cc96\",\"#ab63fa\",\"#FFA15A\",\"#19d3f3\",\"#FF6692\",\"#B6E880\",\"#FF97FF\",\"#FECB52\"],\"font\":{\"color\":\"#2a3f5f\"},\"hovermode\":\"closest\",\"hoverlabel\":{\"align\":\"left\"},\"paper_bgcolor\":\"white\",\"plot_bgcolor\":\"#E5ECF6\",\"polar\":{\"bgcolor\":\"#E5ECF6\",\"angularaxis\":{\"gridcolor\":\"white\",\"linecolor\":\"white\",\"ticks\":\"\"},\"radialaxis\":{\"gridcolor\":\"white\",\"linecolor\":\"white\",\"ticks\":\"\"}},\"ternary\":{\"bgcolor\":\"#E5ECF6\",\"aaxis\":{\"gridcolor\":\"white\",\"linecolor\":\"white\",\"ticks\":\"\"},\"baxis\":{\"gridcolor\":\"white\",\"linecolor\":\"white\",\"ticks\":\"\"},\"caxis\":{\"gridcolor\":\"white\",\"linecolor\":\"white\",\"ticks\":\"\"}},\"coloraxis\":{\"colorbar\":{\"outlinewidth\":0,\"ticks\":\"\"}},\"colorscale\":{\"sequential\":[[0.0,\"#0d0887\"],[0.1111111111111111,\"#46039f\"],[0.2222222222222222,\"#7201a8\"],[0.3333333333333333,\"#9c179e\"],[0.4444444444444444,\"#bd3786\"],[0.5555555555555556,\"#d8576b\"],[0.6666666666666666,\"#ed7953\"],[0.7777777777777778,\"#fb9f3a\"],[0.8888888888888888,\"#fdca26\"],[1.0,\"#f0f921\"]],\"sequentialminus\":[[0.0,\"#0d0887\"],[0.1111111111111111,\"#46039f\"],[0.2222222222222222,\"#7201a8\"],[0.3333333333333333,\"#9c179e\"],[0.4444444444444444,\"#bd3786\"],[0.5555555555555556,\"#d8576b\"],[0.6666666666666666,\"#ed7953\"],[0.7777777777777778,\"#fb9f3a\"],[0.8888888888888888,\"#fdca26\"],[1.0,\"#f0f921\"]],\"diverging\":[[0,\"#8e0152\"],[0.1,\"#c51b7d\"],[0.2,\"#de77ae\"],[0.3,\"#f1b6da\"],[0.4,\"#fde0ef\"],[0.5,\"#f7f7f7\"],[0.6,\"#e6f5d0\"],[0.7,\"#b8e186\"],[0.8,\"#7fbc41\"],[0.9,\"#4d9221\"],[1,\"#276419\"]]},\"xaxis\":{\"gridcolor\":\"white\",\"linecolor\":\"white\",\"ticks\":\"\",\"title\":{\"standoff\":15},\"zerolinecolor\":\"white\",\"automargin\":true,\"zerolinewidth\":2},\"yaxis\":{\"gridcolor\":\"white\",\"linecolor\":\"white\",\"ticks\":\"\",\"title\":{\"standoff\":15},\"zerolinecolor\":\"white\",\"automargin\":true,\"zerolinewidth\":2},\"scene\":{\"xaxis\":{\"backgroundcolor\":\"#E5ECF6\",\"gridcolor\":\"white\",\"linecolor\":\"white\",\"showbackground\":true,\"ticks\":\"\",\"zerolinecolor\":\"white\",\"gridwidth\":2},\"yaxis\":{\"backgroundcolor\":\"#E5ECF6\",\"gridcolor\":\"white\",\"linecolor\":\"white\",\"showbackground\":true,\"ticks\":\"\",\"zerolinecolor\":\"white\",\"gridwidth\":2},\"zaxis\":{\"backgroundcolor\":\"#E5ECF6\",\"gridcolor\":\"white\",\"linecolor\":\"white\",\"showbackground\":true,\"ticks\":\"\",\"zerolinecolor\":\"white\",\"gridwidth\":2}},\"shapedefaults\":{\"line\":{\"color\":\"#2a3f5f\"}},\"annotationdefaults\":{\"arrowcolor\":\"#2a3f5f\",\"arrowhead\":0,\"arrowwidth\":1},\"geo\":{\"bgcolor\":\"white\",\"landcolor\":\"#E5ECF6\",\"subunitcolor\":\"white\",\"showland\":true,\"showlakes\":true,\"lakecolor\":\"white\"},\"title\":{\"x\":0.05},\"mapbox\":{\"style\":\"light\"}}}},                        {\"responsive\": true}                    ).then(function(){\n",
       "                            \n",
       "var gd = document.getElementById('421637f9-f827-415e-a5f6-3a4491a064d9');\n",
       "var x = new MutationObserver(function (mutations, observer) {{\n",
       "        var display = window.getComputedStyle(gd).display;\n",
       "        if (!display || display === 'none') {{\n",
       "            console.log([gd, 'removed!']);\n",
       "            Plotly.purge(gd);\n",
       "            observer.disconnect();\n",
       "        }}\n",
       "}});\n",
       "\n",
       "// Listen for the removal of the full notebook cells\n",
       "var notebookContainer = gd.closest('#notebook-container');\n",
       "if (notebookContainer) {{\n",
       "    x.observe(notebookContainer, {childList: true});\n",
       "}}\n",
       "\n",
       "// Listen for the clearing of the current output cell\n",
       "var outputEl = gd.closest('.output');\n",
       "if (outputEl) {{\n",
       "    x.observe(outputEl, {childList: true});\n",
       "}}\n",
       "\n",
       "                        })                };                            </script>        </div>\n",
       "</body>\n",
       "</html>"
      ]
     },
     "metadata": {},
     "output_type": "display_data"
    }
   ],
   "source": [
    "if not config['tune_parameters']:\n",
    "    optuna_study = optuna.load_study(study_name=f'hyperparameters_tuning_{config[\"model\"]}_{config[\"metric\"]}', storage=f'sqlite:///{config[\"database_path\"]}')\n",
    "    \n",
    "fig = optuna.visualization.plot_param_importances(optuna_study)\n",
    "fig.show()"
   ]
  },
  {
   "cell_type": "markdown",
   "id": "f1e13a7b",
   "metadata": {
    "papermill": {
     "duration": 0.058046,
     "end_time": "2025-01-02T04:51:58.612817",
     "exception": false,
     "start_time": "2025-01-02T04:51:58.554771",
     "status": "completed"
    },
    "tags": []
   },
   "source": [
    "## Let's train the recommender with best parameter values"
   ]
  },
  {
   "cell_type": "code",
   "execution_count": 17,
   "id": "cafb84f8",
   "metadata": {
    "execution": {
     "iopub.execute_input": "2025-01-02T04:51:58.736627Z",
     "iopub.status.busy": "2025-01-02T04:51:58.736244Z",
     "iopub.status.idle": "2025-01-02T04:52:19.498433Z",
     "shell.execute_reply": "2025-01-02T04:52:19.497523Z"
    },
    "papermill": {
     "duration": 20.822545,
     "end_time": "2025-01-02T04:52:19.500274",
     "exception": false,
     "start_time": "2025-01-02T04:51:58.677729",
     "status": "completed"
    },
    "tags": []
   },
   "outputs": [
    {
     "name": "stdout",
     "output_type": "stream",
     "text": [
      "RP3betaRecommender: Similarity column 38121 (100.0%), 1953.21 column/sec. Elapsed time 19.52 sec\n"
     ]
    }
   ],
   "source": [
    "with open(f'{K_PATH}/TrainedModels/WithoutKFCV/GraphBased/RP3betaRecommender/Optimizing{config[\"metric\"]}/best_params_RP3beta_{config[\"metric\"]}.json', 'r') as best_params_json:\n",
    "            best_params = json.load(best_params_json)\n",
    "\n",
    "rp3beta_recommender = RP3betaRecommender(URM_train + URM_validation)\n",
    "rp3beta_recommender.fit(**best_params)"
   ]
  },
  {
   "cell_type": "code",
   "execution_count": 18,
   "id": "bba7fc35",
   "metadata": {
    "execution": {
     "iopub.execute_input": "2025-01-02T04:52:19.620376Z",
     "iopub.status.busy": "2025-01-02T04:52:19.620061Z",
     "iopub.status.idle": "2025-01-02T04:52:19.694363Z",
     "shell.execute_reply": "2025-01-02T04:52:19.693552Z"
    },
    "papermill": {
     "duration": 0.135071,
     "end_time": "2025-01-02T04:52:19.696085",
     "exception": false,
     "start_time": "2025-01-02T04:52:19.561014",
     "status": "completed"
    },
    "tags": []
   },
   "outputs": [],
   "source": [
    "if config['tune_best_params']:\n",
    "\n",
    "    if config['tune_parameters']:\n",
    "        best_params = optuna_study.best_trial.params\n",
    "    else: \n",
    "        with open(f'{K_PATH}/{GH_PATH}/{config[\"model\"]}Recommender/Optimizing{config[\"metric\"]}/best_params_{config[\"model\"]}_{config[\"metric\"]}.json', 'r') as best_params_json:\n",
    "            best_params = json.load(best_params_json)\n",
    "\n",
    "    # Normalize and combine weight matrices\n",
    "    normalized_rp3beta = normalize(rp3beta_recommender.W_sparse, norm='l1', axis=1)\n",
    "    normalized_rp3beta_icm = normalize(rp3beta_icm_recommender.W_sparse, norm='l1', axis=1)\n",
    "    custom_similarity = normalized_rp3beta + best_params[\"icm_weight\"] * normalized_rp3beta_icm\n",
    "    \n",
    "    recommender_instance = ItemKNNCustomSimilarityRecommender(URM_train + URM_validation)\n",
    "    recommender_instance.fit(custom_similarity)"
   ]
  },
  {
   "cell_type": "markdown",
   "id": "6f8d955d",
   "metadata": {
    "papermill": {
     "duration": 0.057951,
     "end_time": "2025-01-02T04:52:19.813668",
     "exception": false,
     "start_time": "2025-01-02T04:52:19.755717",
     "status": "completed"
    },
    "tags": []
   },
   "source": [
    "# Testing"
   ]
  },
  {
   "cell_type": "markdown",
   "id": "6400474b",
   "metadata": {
    "papermill": {
     "duration": 0.151735,
     "end_time": "2025-01-02T04:52:20.024575",
     "exception": false,
     "start_time": "2025-01-02T04:52:19.872840",
     "status": "completed"
    },
    "tags": []
   },
   "source": [
    "Create the recommendations for the submission. "
   ]
  },
  {
   "cell_type": "code",
   "execution_count": 19,
   "id": "d16ed064",
   "metadata": {
    "execution": {
     "iopub.execute_input": "2025-01-02T04:52:20.142379Z",
     "iopub.status.busy": "2025-01-02T04:52:20.142044Z",
     "iopub.status.idle": "2025-01-02T04:52:40.301045Z",
     "shell.execute_reply": "2025-01-02T04:52:40.299778Z"
    },
    "papermill": {
     "duration": 20.219357,
     "end_time": "2025-01-02T04:52:40.302680",
     "exception": false,
     "start_time": "2025-01-02T04:52:20.083323",
     "status": "completed"
    },
    "tags": []
   },
   "outputs": [
    {
     "name": "stdout",
     "output_type": "stream",
     "text": [
      "Submission file saved as /kaggle/working/submission_RP3betaHybrid_MAP.csv\n"
     ]
    }
   ],
   "source": [
    "if config['tune_best_params']:\n",
    "\n",
    "    data_target_users_test = pd.read_csv('/kaggle/input/recommender-system-2024-challenge-polimi/data_target_users_test.csv')\n",
    "    create_submission(data_target_users_test, recommender_instance, f'/kaggle/working/submission_{config[\"model\"]}_{config[\"metric\"]}.csv')"
   ]
  },
  {
   "cell_type": "markdown",
   "id": "ef418c88",
   "metadata": {
    "execution": {
     "iopub.execute_input": "2024-11-14T00:04:16.877791Z",
     "iopub.status.busy": "2024-11-14T00:04:16.877275Z",
     "iopub.status.idle": "2024-11-14T00:04:16.883170Z",
     "shell.execute_reply": "2024-11-14T00:04:16.881889Z",
     "shell.execute_reply.started": "2024-11-14T00:04:16.877743Z"
    },
    "papermill": {
     "duration": 0.057686,
     "end_time": "2025-01-02T04:52:40.418984",
     "exception": false,
     "start_time": "2025-01-02T04:52:40.361298",
     "status": "completed"
    },
    "tags": []
   },
   "source": [
    "# Save Version on GitHub "
   ]
  },
  {
   "cell_type": "markdown",
   "id": "9a640538",
   "metadata": {
    "papermill": {
     "duration": 0.058177,
     "end_time": "2025-01-02T04:52:40.535258",
     "exception": false,
     "start_time": "2025-01-02T04:52:40.477081",
     "status": "completed"
    },
    "tags": []
   },
   "source": [
    "Write or import a json file where best hyperparameters are saved. "
   ]
  },
  {
   "cell_type": "code",
   "execution_count": 20,
   "id": "9587248c",
   "metadata": {
    "execution": {
     "iopub.execute_input": "2025-01-02T04:52:40.653269Z",
     "iopub.status.busy": "2025-01-02T04:52:40.652917Z",
     "iopub.status.idle": "2025-01-02T04:52:41.956748Z",
     "shell.execute_reply": "2025-01-02T04:52:41.955553Z"
    },
    "papermill": {
     "duration": 1.364714,
     "end_time": "2025-01-02T04:52:41.958324",
     "exception": false,
     "start_time": "2025-01-02T04:52:40.593610",
     "status": "completed"
    },
    "tags": []
   },
   "outputs": [
    {
     "name": "stdout",
     "output_type": "stream",
     "text": [
      "File 'TrainedModels/WithoutKFCV/Hybrid/RP3betaHybridRecommender/OptimizingMAP/best_params_RP3betaHybrid_MAP.json' created successfully.\n"
     ]
    }
   ],
   "source": [
    "if config['tune_parameters']:\n",
    "    with open(f'/kaggle/working/best_params_{config[\"model\"]}_{config[\"metric\"]}.json', 'w') as params_file:\n",
    "        json.dump(optuna_study.best_params, params_file)\n",
    "        \n",
    "    if config['save_github']:\n",
    "        upload_file(\n",
    "            f'/kaggle/working/best_params_{config[\"model\"]}_{config[\"metric\"]}.json', \n",
    "            f'{GH_PATH}/{config[\"model\"]}Recommender/Optimizing{config[\"metric\"]}/best_params_{config[\"model\"]}_{config[\"metric\"]}.json', \n",
    "            f'{config[\"model\"]}_{config[\"metric\"]} tuning results (from kaggle notebook)',\n",
    "            repo\n",
    "        )\n",
    "elif config['copy_prev_best_params']:\n",
    "    shutil.copyfile(\n",
    "        f'{K_PATH}/{GH_PATH}/{config[\"model\"]}Recommender/Optimizing{config[\"metric\"]}/'\\\n",
    "        f'best_params_{config[\"model\"]}_{config[\"metric\"]}.json', \n",
    "        f'/kaggle/working/best_params_{config[\"model\"]}_{config[\"metric\"]}.json'\n",
    "    )"
   ]
  },
  {
   "cell_type": "markdown",
   "id": "0a2b9e4b",
   "metadata": {
    "execution": {
     "iopub.execute_input": "2024-11-14T00:41:34.294243Z",
     "iopub.status.busy": "2024-11-14T00:41:34.293739Z",
     "iopub.status.idle": "2024-11-14T00:41:34.301478Z",
     "shell.execute_reply": "2024-11-14T00:41:34.299869Z",
     "shell.execute_reply.started": "2024-11-14T00:41:34.294186Z"
    },
    "papermill": {
     "duration": 0.058328,
     "end_time": "2025-01-02T04:52:42.075218",
     "exception": false,
     "start_time": "2025-01-02T04:52:42.016890",
     "status": "completed"
    },
    "tags": []
   },
   "source": [
    "Save the history of the tuned model."
   ]
  },
  {
   "cell_type": "code",
   "execution_count": 21,
   "id": "d5827201",
   "metadata": {
    "execution": {
     "iopub.execute_input": "2025-01-02T04:52:42.192800Z",
     "iopub.status.busy": "2025-01-02T04:52:42.192387Z",
     "iopub.status.idle": "2025-01-02T04:52:44.281770Z",
     "shell.execute_reply": "2025-01-02T04:52:44.280690Z"
    },
    "papermill": {
     "duration": 2.150004,
     "end_time": "2025-01-02T04:52:44.283413",
     "exception": false,
     "start_time": "2025-01-02T04:52:42.133409",
     "status": "completed"
    },
    "tags": []
   },
   "outputs": [
    {
     "name": "stdout",
     "output_type": "stream",
     "text": [
      "File 'TrainedModels/WithoutKFCV/Hybrid/RP3betaHybridRecommender/OptimizingMAP/history_RP3betaHybrid_MAP.db' created successfully.\n"
     ]
    }
   ],
   "source": [
    "if config['save_github'] and config['tune_parameters']:\n",
    "    upload_file(\n",
    "        config['database_path'], \n",
    "        f'{GH_PATH}/{config[\"model\"]}Recommender/Optimizing{config[\"metric\"]}/history_{config[\"model\"]}_{config[\"metric\"]}.db',\n",
    "        f'Tuning {config[\"model\"]}_{config[\"metric\"]} db updated results (from kaggle notebook)',\n",
    "        repo\n",
    "    )"
   ]
  },
  {
   "cell_type": "markdown",
   "id": "fa6d38c7",
   "metadata": {
    "papermill": {
     "duration": 0.057394,
     "end_time": "2025-01-02T04:52:44.399138",
     "exception": false,
     "start_time": "2025-01-02T04:52:44.341744",
     "status": "completed"
    },
    "tags": []
   },
   "source": [
    "Save the best trained model and its submission."
   ]
  },
  {
   "cell_type": "code",
   "execution_count": 22,
   "id": "9170651d",
   "metadata": {
    "execution": {
     "iopub.execute_input": "2025-01-02T04:52:44.537764Z",
     "iopub.status.busy": "2025-01-02T04:52:44.537276Z",
     "iopub.status.idle": "2025-01-02T04:52:46.936821Z",
     "shell.execute_reply": "2025-01-02T04:52:46.935688Z"
    },
    "papermill": {
     "duration": 2.480825,
     "end_time": "2025-01-02T04:52:46.938304",
     "exception": false,
     "start_time": "2025-01-02T04:52:44.457479",
     "status": "completed"
    },
    "tags": []
   },
   "outputs": [
    {
     "name": "stdout",
     "output_type": "stream",
     "text": [
      "File 'TrainedModels/WithoutKFCV/Hybrid/RP3betaHybridRecommender/OptimizingMAP/Submission/submission_RP3betaHybrid_MAP.csv' created successfully.\n"
     ]
    }
   ],
   "source": [
    "if config['save_github'] and config['tune_best_params']: \n",
    "    upload_file(\n",
    "                f'/kaggle/working/submission_{config[\"model\"]}_{config[\"metric\"]}.csv', \n",
    "                f'{GH_PATH}/{config[\"model\"]}Recommender/Optimizing{config[\"metric\"]}/Submission/submission_{config[\"model\"]}_{config[\"metric\"]}.csv', \n",
    "                f'New {config[\"model\"]}_{config[\"metric\"]} submission (from kaggle notebook)',\n",
    "                repo\n",
    "            )"
   ]
  }
 ],
 "metadata": {
  "kaggle": {
   "accelerator": "none",
   "dataSources": [
    {
     "databundleVersionId": 9982103,
     "sourceId": 87439,
     "sourceType": "competition"
    }
   ],
   "isGpuEnabled": false,
   "isInternetEnabled": true,
   "language": "python",
   "sourceType": "notebook"
  },
  "kernelspec": {
   "display_name": "Python 3",
   "language": "python",
   "name": "python3"
  },
  "language_info": {
   "codemirror_mode": {
    "name": "ipython",
    "version": 3
   },
   "file_extension": ".py",
   "mimetype": "text/x-python",
   "name": "python",
   "nbconvert_exporter": "python",
   "pygments_lexer": "ipython3",
   "version": "3.10.12"
  },
  "papermill": {
   "default_parameters": {},
   "duration": 13238.911879,
   "end_time": "2025-01-02T04:52:48.036832",
   "environment_variables": {},
   "exception": null,
   "input_path": "__notebook__.ipynb",
   "output_path": "__notebook__.ipynb",
   "parameters": {},
   "start_time": "2025-01-02T01:12:09.124953",
   "version": "2.6.0"
  }
 },
 "nbformat": 4,
 "nbformat_minor": 5
}
