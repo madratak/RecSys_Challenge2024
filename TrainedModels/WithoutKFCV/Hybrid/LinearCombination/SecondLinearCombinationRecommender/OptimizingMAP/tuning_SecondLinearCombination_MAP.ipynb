{
 "cells": [
  {
   "cell_type": "markdown",
   "id": "a0bbbcaa",
   "metadata": {
    "papermill": {
     "duration": 0.006169,
     "end_time": "2024-12-03T16:58:16.408372",
     "exception": false,
     "start_time": "2024-12-03T16:58:16.402203",
     "status": "completed"
    },
    "tags": []
   },
   "source": [
    "# Set connection with GitHub"
   ]
  },
  {
   "cell_type": "code",
   "execution_count": 1,
   "id": "2d54dc16",
   "metadata": {
    "execution": {
     "iopub.execute_input": "2024-12-03T16:58:16.421416Z",
     "iopub.status.busy": "2024-12-03T16:58:16.421027Z",
     "iopub.status.idle": "2024-12-03T16:58:16.426298Z",
     "shell.execute_reply": "2024-12-03T16:58:16.425413Z"
    },
    "papermill": {
     "duration": 0.014611,
     "end_time": "2024-12-03T16:58:16.428625",
     "exception": false,
     "start_time": "2024-12-03T16:58:16.414014",
     "status": "completed"
    },
    "tags": []
   },
   "outputs": [],
   "source": [
    "# ! cd /kaggle/working && rm -rf RECsys_Challenge2024"
   ]
  },
  {
   "cell_type": "code",
   "execution_count": 2,
   "id": "0d000edb",
   "metadata": {
    "_cell_guid": "b1076dfc-b9ad-4769-8c92-a6c4dae69d19",
    "_uuid": "8f2839f25d086af736a60e9eeb907d3b93b6e0e5",
    "execution": {
     "iopub.execute_input": "2024-12-03T16:58:16.443369Z",
     "iopub.status.busy": "2024-12-03T16:58:16.442978Z",
     "iopub.status.idle": "2024-12-03T16:58:27.882307Z",
     "shell.execute_reply": "2024-12-03T16:58:27.880988Z"
    },
    "papermill": {
     "duration": 11.450283,
     "end_time": "2024-12-03T16:58:27.884822",
     "exception": false,
     "start_time": "2024-12-03T16:58:16.434539",
     "status": "completed"
    },
    "tags": []
   },
   "outputs": [
    {
     "name": "stdout",
     "output_type": "stream",
     "text": [
      "Cloning into 'RECsys_Challenge2024'...\r\n",
      "remote: Enumerating objects: 3897, done.\u001b[K\r\n",
      "remote: Counting objects: 100% (1370/1370), done.\u001b[K\r\n",
      "remote: Compressing objects: 100% (573/573), done.\u001b[K\r\n",
      "remote: Total 3897 (delta 755), reused 1116 (delta 606), pack-reused 2527 (from 1)\u001b[K\r\n",
      "Receiving objects: 100% (3897/3897), 166.01 MiB | 31.05 MiB/s, done.\r\n",
      "Resolving deltas: 100% (2274/2274), done.\r\n",
      "Updating files: 100% (371/371), done.\r\n"
     ]
    }
   ],
   "source": [
    "from kaggle_secrets import UserSecretsClient\n",
    "\n",
    "token = UserSecretsClient().get_secret(\"Token\")\n",
    "\n",
    "! git clone https://{token}@github.com/madratak/RECsys_Challenge2024.git"
   ]
  },
  {
   "cell_type": "code",
   "execution_count": 3,
   "id": "89b1ad1a",
   "metadata": {
    "execution": {
     "iopub.execute_input": "2024-12-03T16:58:27.905204Z",
     "iopub.status.busy": "2024-12-03T16:58:27.904735Z",
     "iopub.status.idle": "2024-12-03T16:58:40.507989Z",
     "shell.execute_reply": "2024-12-03T16:58:40.506734Z"
    },
    "papermill": {
     "duration": 12.61624,
     "end_time": "2024-12-03T16:58:40.510573",
     "exception": false,
     "start_time": "2024-12-03T16:58:27.894333",
     "status": "completed"
    },
    "tags": []
   },
   "outputs": [
    {
     "name": "stdout",
     "output_type": "stream",
     "text": [
      "Collecting PyGithub\r\n",
      "  Downloading PyGithub-2.5.0-py3-none-any.whl.metadata (3.9 kB)\r\n",
      "Requirement already satisfied: requests in /opt/conda/lib/python3.10/site-packages (2.32.3)\r\n",
      "Collecting pynacl>=1.4.0 (from PyGithub)\r\n",
      "  Downloading PyNaCl-1.5.0-cp36-abi3-manylinux_2_17_x86_64.manylinux2014_x86_64.manylinux_2_24_x86_64.whl.metadata (8.6 kB)\r\n",
      "Requirement already satisfied: pyjwt>=2.4.0 in /opt/conda/lib/python3.10/site-packages (from pyjwt[crypto]>=2.4.0->PyGithub) (2.8.0)\r\n",
      "Requirement already satisfied: typing-extensions>=4.0.0 in /opt/conda/lib/python3.10/site-packages (from PyGithub) (4.12.2)\r\n",
      "Requirement already satisfied: urllib3>=1.26.0 in /opt/conda/lib/python3.10/site-packages (from PyGithub) (1.26.18)\r\n",
      "Requirement already satisfied: Deprecated in /opt/conda/lib/python3.10/site-packages (from PyGithub) (1.2.14)\r\n",
      "Requirement already satisfied: charset-normalizer<4,>=2 in /opt/conda/lib/python3.10/site-packages (from requests) (3.3.2)\r\n",
      "Requirement already satisfied: idna<4,>=2.5 in /opt/conda/lib/python3.10/site-packages (from requests) (3.7)\r\n",
      "Requirement already satisfied: certifi>=2017.4.17 in /opt/conda/lib/python3.10/site-packages (from requests) (2024.6.2)\r\n",
      "Requirement already satisfied: cryptography>=3.4.0 in /opt/conda/lib/python3.10/site-packages (from pyjwt[crypto]>=2.4.0->PyGithub) (42.0.8)\r\n",
      "Requirement already satisfied: cffi>=1.4.1 in /opt/conda/lib/python3.10/site-packages (from pynacl>=1.4.0->PyGithub) (1.16.0)\r\n",
      "Requirement already satisfied: wrapt<2,>=1.10 in /opt/conda/lib/python3.10/site-packages (from Deprecated->PyGithub) (1.16.0)\r\n",
      "Requirement already satisfied: pycparser in /opt/conda/lib/python3.10/site-packages (from cffi>=1.4.1->pynacl>=1.4.0->PyGithub) (2.22)\r\n",
      "Downloading PyGithub-2.5.0-py3-none-any.whl (375 kB)\r\n",
      "\u001b[2K   \u001b[90m━━━━━━━━━━━━━━━━━━━━━━━━━━━━━━━━━━━━━━━━\u001b[0m \u001b[32m375.9/375.9 kB\u001b[0m \u001b[31m7.5 MB/s\u001b[0m eta \u001b[36m0:00:00\u001b[0m\r\n",
      "\u001b[?25hDownloading PyNaCl-1.5.0-cp36-abi3-manylinux_2_17_x86_64.manylinux2014_x86_64.manylinux_2_24_x86_64.whl (856 kB)\r\n",
      "\u001b[2K   \u001b[90m━━━━━━━━━━━━━━━━━━━━━━━━━━━━━━━━━━━━━━━━\u001b[0m \u001b[32m856.7/856.7 kB\u001b[0m \u001b[31m25.6 MB/s\u001b[0m eta \u001b[36m0:00:00\u001b[0m\r\n",
      "\u001b[?25hInstalling collected packages: pynacl, PyGithub\r\n",
      "Successfully installed PyGithub-2.5.0 pynacl-1.5.0\r\n"
     ]
    }
   ],
   "source": [
    "! pip install PyGithub requests"
   ]
  },
  {
   "cell_type": "code",
   "execution_count": 4,
   "id": "6c382f77",
   "metadata": {
    "_kg_hide-input": false,
    "execution": {
     "iopub.execute_input": "2024-12-03T16:58:40.531373Z",
     "iopub.status.busy": "2024-12-03T16:58:40.530958Z",
     "iopub.status.idle": "2024-12-03T17:01:11.994352Z",
     "shell.execute_reply": "2024-12-03T17:01:11.992929Z"
    },
    "papermill": {
     "duration": 151.477325,
     "end_time": "2024-12-03T17:01:11.997560",
     "exception": false,
     "start_time": "2024-12-03T16:58:40.520235",
     "status": "completed"
    },
    "tags": []
   },
   "outputs": [
    {
     "name": "stdout",
     "output_type": "stream",
     "text": [
      "/kaggle/working/RECsys_Challenge2024\n",
      "run_compile_all_cython: Found 11 Cython files in 5 folders...\r\n",
      "run_compile_all_cython: All files will be compiled using your current python environment: '/opt/conda/bin/python'\r\n",
      "Compiling [1/11]: MatrixFactorizationImpressions_Cython_Epoch.pyx... \r\n",
      "In file included from \u001b[01m\u001b[K/opt/conda/lib/python3.10/site-packages/numpy/core/include/numpy/ndarraytypes.h:1929\u001b[m\u001b[K,\r\n",
      "                 from \u001b[01m\u001b[K/opt/conda/lib/python3.10/site-packages/numpy/core/include/numpy/ndarrayobject.h:12\u001b[m\u001b[K,\r\n",
      "                 from \u001b[01m\u001b[K/opt/conda/lib/python3.10/site-packages/numpy/core/include/numpy/arrayobject.h:5\u001b[m\u001b[K,\r\n",
      "                 from \u001b[01m\u001b[KMatrixFactorizationImpressions_Cython_Epoch.c:1252\u001b[m\u001b[K:\r\n",
      "\u001b[01m\u001b[K/opt/conda/lib/python3.10/site-packages/numpy/core/include/numpy/npy_1_7_deprecated_api.h:17:2:\u001b[m\u001b[K \u001b[01;35m\u001b[Kwarning: \u001b[m\u001b[K#warning \"Using deprecated NumPy API, disable it with \" \"#define NPY_NO_DEPRECATED_API NPY_1_7_API_VERSION\" [\u001b[01;35m\u001b[K-Wcpp\u001b[m\u001b[K]\r\n",
      "   17 | #\u001b[01;35m\u001b[Kwarning\u001b[m\u001b[K \"Using deprecated NumPy API, disable it with \" \\\r\n",
      "      |  \u001b[01;35m\u001b[K^~~~~~~\u001b[m\u001b[K\r\n",
      "\u001b[01m\u001b[KMatrixFactorizationImpressions_Cython_Epoch.c:\u001b[m\u001b[K In function '\u001b[01m\u001b[K__pyx_f_43MatrixFactorizationImpressions_Cython_Epoch_32MatrixFactorization_Cython_Epoch_sampleBPR_Cython\u001b[m\u001b[K':\r\n",
      "\u001b[01m\u001b[KMatrixFactorizationImpressions_Cython_Epoch.c:30351:17:\u001b[m\u001b[K \u001b[01;35m\u001b[Kwarning: \u001b[m\u001b[K'\u001b[01m\u001b[K__pyx_v_start_pos_impression_items\u001b[m\u001b[K' may be used uninitialized in this function [\u001b[01;35m\u001b[K-Wmaybe-uninitialized\u001b[m\u001b[K]\r\n",
      "30351 |       \u001b[01;35m\u001b[K__pyx_t_4 = (__pyx_v_start_pos_impression_items + __pyx_v_index)\u001b[m\u001b[K;\r\n",
      "      |       \u001b[01;35m\u001b[K~~~~~~~~~~^~~~~~~~~~~~~~~~~~~~~~~~~~~~~~~~~~~~~~~~~~~~~~~~~~~~~~\u001b[m\u001b[K\r\n",
      "\u001b[01m\u001b[KMatrixFactorizationImpressions_Cython_Epoch.c:\u001b[m\u001b[K In function '\u001b[01m\u001b[K__pyx_pf_43MatrixFactorizationImpressions_Cython_Epoch_32MatrixFactorization_Cython_Epoch_10epochIteration_Cython_ASY_SVD_SGD\u001b[m\u001b[K':\r\n",
      "\u001b[01m\u001b[KMatrixFactorizationImpressions_Cython_Epoch.c:26111:7:\u001b[m\u001b[K \u001b[01;35m\u001b[Kwarning: \u001b[m\u001b[K'\u001b[01m\u001b[K__pyx_v_end_pos_seen_items\u001b[m\u001b[K' may be used uninitialized in this function [\u001b[01;35m\u001b[K-Wmaybe-uninitialized\u001b[m\u001b[K]\r\n",
      "26111 |       \u001b[01;35m\u001b[Kfor\u001b[m\u001b[K (__pyx_t_21 = __pyx_v_start_pos_seen_items; __pyx_t_21 < __pyx_t_20; __pyx_t_21+=1) {\r\n",
      "      |       \u001b[01;35m\u001b[K^~~\u001b[m\u001b[K\r\n",
      "\u001b[01m\u001b[KMatrixFactorizationImpressions_Cython_Epoch.c:26111:7:\u001b[m\u001b[K \u001b[01;35m\u001b[Kwarning: \u001b[m\u001b[K'\u001b[01m\u001b[K__pyx_v_start_pos_seen_items\u001b[m\u001b[K' may be used uninitialized in this function [\u001b[01;35m\u001b[K-Wmaybe-uninitialized\u001b[m\u001b[K]\r\n",
      "/opt/conda/lib/python3.10/site-packages/Cython/Compiler/Main.py:381: FutureWarning: Cython directive 'language_level' not set, using '3str' for now (Py3). This has changed from earlier releases! File: /kaggle/working/RECsys_Challenge2024/Recommenders/MatrixFactorization/Cython/MatrixFactorizationImpressions_Cython_Epoch.pyx\r\n",
      "  tree = Parsing.p_module(s, pxd, full_module_name)\r\n",
      "Compiling [1/11]: MatrixFactorizationImpressions_Cython_Epoch.pyx... PASS\r\n",
      "\r\n",
      "Compiling [2/11]: MatrixFactorization_Cython_Epoch.pyx... \r\n",
      "In file included from \u001b[01m\u001b[K/opt/conda/lib/python3.10/site-packages/numpy/core/include/numpy/ndarraytypes.h:1929\u001b[m\u001b[K,\r\n",
      "                 from \u001b[01m\u001b[K/opt/conda/lib/python3.10/site-packages/numpy/core/include/numpy/ndarrayobject.h:12\u001b[m\u001b[K,\r\n",
      "                 from \u001b[01m\u001b[K/opt/conda/lib/python3.10/site-packages/numpy/core/include/numpy/arrayobject.h:5\u001b[m\u001b[K,\r\n",
      "                 from \u001b[01m\u001b[KMatrixFactorization_Cython_Epoch.c:1252\u001b[m\u001b[K:\r\n",
      "\u001b[01m\u001b[K/opt/conda/lib/python3.10/site-packages/numpy/core/include/numpy/npy_1_7_deprecated_api.h:17:2:\u001b[m\u001b[K \u001b[01;35m\u001b[Kwarning: \u001b[m\u001b[K#warning \"Using deprecated NumPy API, disable it with \" \"#define NPY_NO_DEPRECATED_API NPY_1_7_API_VERSION\" [\u001b[01;35m\u001b[K-Wcpp\u001b[m\u001b[K]\r\n",
      "   17 | #\u001b[01;35m\u001b[Kwarning\u001b[m\u001b[K \"Using deprecated NumPy API, disable it with \" \\\r\n",
      "      |  \u001b[01;35m\u001b[K^~~~~~~\u001b[m\u001b[K\r\n",
      "\u001b[01m\u001b[KMatrixFactorization_Cython_Epoch.c:\u001b[m\u001b[K In function '\u001b[01m\u001b[K__pyx_pf_32MatrixFactorization_Cython_Epoch_32MatrixFactorization_Cython_Epoch_10epochIteration_Cython_ASY_SVD_SGD\u001b[m\u001b[K':\r\n",
      "\u001b[01m\u001b[KMatrixFactorization_Cython_Epoch.c:26255:9:\u001b[m\u001b[K \u001b[01;35m\u001b[Kwarning: \u001b[m\u001b[K'\u001b[01m\u001b[K__pyx_v_end_pos_seen_items\u001b[m\u001b[K' may be used uninitialized in this function [\u001b[01;35m\u001b[K-Wmaybe-uninitialized\u001b[m\u001b[K]\r\n",
      "26255 |         \u001b[01;35m\u001b[Kfor\u001b[m\u001b[K (__pyx_t_21 = __pyx_v_start_pos_seen_items; __pyx_t_21 < __pyx_t_20; __pyx_t_21+=1) {\r\n",
      "      |         \u001b[01;35m\u001b[K^~~\u001b[m\u001b[K\r\n",
      "\u001b[01m\u001b[KMatrixFactorization_Cython_Epoch.c:26255:9:\u001b[m\u001b[K \u001b[01;35m\u001b[Kwarning: \u001b[m\u001b[K'\u001b[01m\u001b[K__pyx_v_start_pos_seen_items\u001b[m\u001b[K' may be used uninitialized in this function [\u001b[01;35m\u001b[K-Wmaybe-uninitialized\u001b[m\u001b[K]\r\n",
      "/opt/conda/lib/python3.10/site-packages/Cython/Compiler/Main.py:381: FutureWarning: Cython directive 'language_level' not set, using '3str' for now (Py3). This has changed from earlier releases! File: /kaggle/working/RECsys_Challenge2024/Recommenders/MatrixFactorization/Cython/MatrixFactorization_Cython_Epoch.pyx\r\n",
      "  tree = Parsing.p_module(s, pxd, full_module_name)\r\n",
      "Compiling [2/11]: MatrixFactorization_Cython_Epoch.pyx... PASS\r\n",
      "\r\n",
      "Compiling [3/11]: Compute_Similarity_Cython.pyx... \r\n",
      "warning: Compute_Similarity_Cython.pyx:21:0: The 'IF' statement is deprecated and will be removed in a future Cython version. Consider using runtime conditions or C macros instead. See https://github.com/cython/cython/issues/4310\r\n",
      "In file included from \u001b[01m\u001b[K/opt/conda/lib/python3.10/site-packages/numpy/core/include/numpy/ndarraytypes.h:1929\u001b[m\u001b[K,\r\n",
      "                 from \u001b[01m\u001b[K/opt/conda/lib/python3.10/site-packages/numpy/core/include/numpy/ndarrayobject.h:12\u001b[m\u001b[K,\r\n",
      "                 from \u001b[01m\u001b[K/opt/conda/lib/python3.10/site-packages/numpy/core/include/numpy/arrayobject.h:5\u001b[m\u001b[K,\r\n",
      "                 from \u001b[01m\u001b[KCompute_Similarity_Cython.c:1252\u001b[m\u001b[K:\r\n",
      "\u001b[01m\u001b[K/opt/conda/lib/python3.10/site-packages/numpy/core/include/numpy/npy_1_7_deprecated_api.h:17:2:\u001b[m\u001b[K \u001b[01;35m\u001b[Kwarning: \u001b[m\u001b[K#warning \"Using deprecated NumPy API, disable it with \" \"#define NPY_NO_DEPRECATED_API NPY_1_7_API_VERSION\" [\u001b[01;35m\u001b[K-Wcpp\u001b[m\u001b[K]\r\n",
      "   17 | #\u001b[01;35m\u001b[Kwarning\u001b[m\u001b[K \"Using deprecated NumPy API, disable it with \" \\\r\n",
      "      |  \u001b[01;35m\u001b[K^~~~~~~\u001b[m\u001b[K\r\n",
      "/opt/conda/lib/python3.10/site-packages/Cython/Compiler/Main.py:381: FutureWarning: Cython directive 'language_level' not set, using '3str' for now (Py3). This has changed from earlier releases! File: /kaggle/working/RECsys_Challenge2024/Recommenders/Similarity/Cython/Compute_Similarity_Cython.pyx\r\n",
      "  tree = Parsing.p_module(s, pxd, full_module_name)\r\n",
      "warning: Compute_Similarity_Cython.pyx:21:0: The 'IF' statement is deprecated and will be removed in a future Cython version. Consider using runtime conditions or C macros instead. See https://github.com/cython/cython/issues/4310\r\n",
      "Compiling [3/11]: Compute_Similarity_Cython.pyx... PASS\r\n",
      "\r\n",
      "Compiling [4/11]: Sparse_Matrix_Tree_CSR.pyx... \r\n",
      "warning: Sparse_Matrix_Tree_CSR.pyx:132:34: Non-trivial type declarators in shared declaration (e.g. mix of pointers and values). Each pointer declaration should be on its own line.\r\n",
      "warning: Sparse_Matrix_Tree_CSR.pyx:132:66: Non-trivial type declarators in shared declaration (e.g. mix of pointers and values). Each pointer declaration should be on its own line.\r\n",
      "warning: Sparse_Matrix_Tree_CSR.pyx:343:35: Non-trivial type declarators in shared declaration (e.g. mix of pointers and values). Each pointer declaration should be on its own line.\r\n",
      "warning: Sparse_Matrix_Tree_CSR.pyx:343:52: Non-trivial type declarators in shared declaration (e.g. mix of pointers and values). Each pointer declaration should be on its own line.\r\n",
      "warning: Sparse_Matrix_Tree_CSR.pyx:442:35: Non-trivial type declarators in shared declaration (e.g. mix of pointers and values). Each pointer declaration should be on its own line.\r\n",
      "warning: Sparse_Matrix_Tree_CSR.pyx:442:53: Non-trivial type declarators in shared declaration (e.g. mix of pointers and values). Each pointer declaration should be on its own line.\r\n",
      "warning: Sparse_Matrix_Tree_CSR.pyx:442:69: Non-trivial type declarators in shared declaration (e.g. mix of pointers and values). Each pointer declaration should be on its own line.\r\n",
      "warning: Sparse_Matrix_Tree_CSR.pyx:577:35: Non-trivial type declarators in shared declaration (e.g. mix of pointers and values). Each pointer declaration should be on its own line.\r\n",
      "warning: Sparse_Matrix_Tree_CSR.pyx:577:42: Non-trivial type declarators in shared declaration (e.g. mix of pointers and values). Each pointer declaration should be on its own line.\r\n",
      "warning: Sparse_Matrix_Tree_CSR.pyx:578:35: Non-trivial type declarators in shared declaration (e.g. mix of pointers and values). Each pointer declaration should be on its own line.\r\n",
      "warning: Sparse_Matrix_Tree_CSR.pyx:578:53: Non-trivial type declarators in shared declaration (e.g. mix of pointers and values). Each pointer declaration should be on its own line.\r\n",
      "\r\n",
      "Error compiling Cython file:\r\n",
      "------------------------------------------------------------\r\n",
      "...\r\n",
      "            vector_pointer_to_list_elements[index].head = current_element\r\n",
      "            current_element = current_element.higher\r\n",
      "\r\n",
      "\r\n",
      "        # Sort array elements on their data field\r\n",
      "        qsort(vector_pointer_to_list_elements, list_length, sizeof(head_pointer_tree_s), compare_struct_on_data)\r\n",
      "                                                                                         ^\r\n",
      "------------------------------------------------------------\r\n",
      "\r\n",
      "Sparse_Matrix_Tree_CSR.pyx:516:89: Cannot assign type 'int (const void *, const void *) except? -1' to 'int (*)(const_void *, const_void *) noexcept'. Exception values are incompatible. Suggest adding 'noexcept' to the type of 'compare_struct_on_data'.\r\n",
      "\r\n",
      "Error compiling Cython file:\r\n",
      "------------------------------------------------------------\r\n",
      "...\r\n",
      "        # Sort array elements on their data field\r\n",
      "        qsort(vector_pointer_to_list_elements, list_length, sizeof(head_pointer_tree_s), compare_struct_on_data)\r\n",
      "\r\n",
      "        # Sort only the TopK according to their column field\r\n",
      "        # Sort is from lower to higher, therefore the elements to be considered are from len-topK to len\r\n",
      "        qsort(&vector_pointer_to_list_elements[list_length-TopK], TopK, sizeof(head_pointer_tree_s), compare_struct_on_column)\r\n",
      "                                                                                                     ^\r\n",
      "------------------------------------------------------------\r\n",
      "\r\n",
      "Sparse_Matrix_Tree_CSR.pyx:520:101: Cannot assign type 'int (const void *, const void *) except? -1' to 'int (*)(const_void *, const_void *) noexcept'. Exception values are incompatible. Suggest adding 'noexcept' to the type of 'compare_struct_on_column'.\r\n",
      "Traceback (most recent call last):\r\n",
      "  File \"/kaggle/working/RECsys_Challenge2024/CythonCompiler/compile_script.py\", line 48, in <module>\r\n",
      "    setup(\r\n",
      "  File \"/opt/conda/lib/python3.10/site-packages/setuptools/__init__.py\", line 103, in setup\r\n",
      "    return distutils.core.setup(**attrs)\r\n",
      "  File \"/opt/conda/lib/python3.10/site-packages/setuptools/_distutils/core.py\", line 184, in setup\r\n",
      "    return run_commands(dist)\r\n",
      "  File \"/opt/conda/lib/python3.10/site-packages/setuptools/_distutils/core.py\", line 200, in run_commands\r\n",
      "    dist.run_commands()\r\n",
      "  File \"/opt/conda/lib/python3.10/site-packages/setuptools/_distutils/dist.py\", line 969, in run_commands\r\n",
      "    self.run_command(cmd)\r\n",
      "  File \"/opt/conda/lib/python3.10/site-packages/setuptools/dist.py\", line 968, in run_command\r\n",
      "    super().run_command(command)\r\n",
      "  File \"/opt/conda/lib/python3.10/site-packages/setuptools/_distutils/dist.py\", line 988, in run_command\r\n",
      "    cmd_obj.run()\r\n",
      "  File \"/opt/conda/lib/python3.10/site-packages/setuptools/_distutils/command/build_ext.py\", line 359, in run\r\n",
      "    self.build_extensions()\r\n",
      "  File \"/opt/conda/lib/python3.10/site-packages/setuptools/_distutils/command/build_ext.py\", line 479, in build_extensions\r\n",
      "    self._build_extensions_serial()\r\n",
      "  File \"/opt/conda/lib/python3.10/site-packages/setuptools/_distutils/command/build_ext.py\", line 505, in _build_extensions_serial\r\n",
      "    self.build_extension(ext)\r\n",
      "  File \"/opt/conda/lib/python3.10/site-packages/Cython/Distutils/build_ext.py\", line 130, in build_extension\r\n",
      "    new_ext = cythonize(\r\n",
      "  File \"/opt/conda/lib/python3.10/site-packages/Cython/Build/Dependencies.py\", line 1154, in cythonize\r\n",
      "    cythonize_one(*args)\r\n",
      "  File \"/opt/conda/lib/python3.10/site-packages/Cython/Build/Dependencies.py\", line 1321, in cythonize_one\r\n",
      "    raise CompileError(None, pyx_file)\r\n",
      "Cython.Compiler.Errors.CompileError: Sparse_Matrix_Tree_CSR.pyx\r\n",
      "Traceback (most recent call last):\r\n",
      "  File \"/kaggle/working/RECsys_Challenge2024/run_compile_all_cython.py\", line 60, in <module>\r\n",
      "    run_compile_subprocess(file_path, [file_name])\r\n",
      "  File \"/kaggle/working/RECsys_Challenge2024/CythonCompiler/run_compile_subprocess.py\", line 51, in run_compile_subprocess\r\n",
      "    raise exc\r\n",
      "  File \"/kaggle/working/RECsys_Challenge2024/CythonCompiler/run_compile_subprocess.py\", line 32, in run_compile_subprocess\r\n",
      "    output = subprocess.check_output(' '.join(command),\r\n",
      "  File \"/opt/conda/lib/python3.10/subprocess.py\", line 421, in check_output\r\n",
      "    return run(*popenargs, stdout=PIPE, timeout=timeout, check=True,\r\n",
      "  File \"/opt/conda/lib/python3.10/subprocess.py\", line 526, in run\r\n",
      "    raise CalledProcessError(retcode, process.args,\r\n",
      "subprocess.CalledProcessError: Command '/opt/conda/bin/python /kaggle/working/RECsys_Challenge2024/CythonCompiler/compile_script.py Sparse_Matrix_Tree_CSR.pyx build_ext --inplace' returned non-zero exit status 1.\r\n",
      "Compiling [4/11]: Sparse_Matrix_Tree_CSR.pyx... FAIL: Command '/opt/conda/bin/python /kaggle/working/RECsys_Challenge2024/CythonCompiler/compile_script.py Sparse_Matrix_Tree_CSR.pyx build_ext --inplace' returned non-zero exit status 1.\r\n",
      "\r\n",
      "Compiling [5/11]: Triangular_Matrix.pyx... \r\n",
      "warning: Triangular_Matrix.pyx:22:0: The 'IF' statement is deprecated and will be removed in a future Cython version. Consider using runtime conditions or C macros instead. See https://github.com/cython/cython/issues/4310\r\n",
      "In file included from \u001b[01m\u001b[K/opt/conda/lib/python3.10/site-packages/numpy/core/include/numpy/ndarraytypes.h:1929\u001b[m\u001b[K,\r\n",
      "                 from \u001b[01m\u001b[K/opt/conda/lib/python3.10/site-packages/numpy/core/include/numpy/ndarrayobject.h:12\u001b[m\u001b[K,\r\n",
      "                 from \u001b[01m\u001b[K/opt/conda/lib/python3.10/site-packages/numpy/core/include/numpy/arrayobject.h:5\u001b[m\u001b[K,\r\n",
      "                 from \u001b[01m\u001b[KTriangular_Matrix.c:1252\u001b[m\u001b[K:\r\n",
      "\u001b[01m\u001b[K/opt/conda/lib/python3.10/site-packages/numpy/core/include/numpy/npy_1_7_deprecated_api.h:17:2:\u001b[m\u001b[K \u001b[01;35m\u001b[Kwarning: \u001b[m\u001b[K#warning \"Using deprecated NumPy API, disable it with \" \"#define NPY_NO_DEPRECATED_API NPY_1_7_API_VERSION\" [\u001b[01;35m\u001b[K-Wcpp\u001b[m\u001b[K]\r\n",
      "   17 | #\u001b[01;35m\u001b[Kwarning\u001b[m\u001b[K \"Using deprecated NumPy API, disable it with \" \\\r\n",
      "      |  \u001b[01;35m\u001b[K^~~~~~~\u001b[m\u001b[K\r\n",
      "/opt/conda/lib/python3.10/site-packages/Cython/Compiler/Main.py:381: FutureWarning: Cython directive 'language_level' not set, using '3str' for now (Py3). This has changed from earlier releases! File: /kaggle/working/RECsys_Challenge2024/Recommenders/SLIM/Cython/Triangular_Matrix.pyx\r\n",
      "  tree = Parsing.p_module(s, pxd, full_module_name)\r\n",
      "warning: Triangular_Matrix.pyx:22:0: The 'IF' statement is deprecated and will be removed in a future Cython version. Consider using runtime conditions or C macros instead. See https://github.com/cython/cython/issues/4310\r\n",
      "Compiling [5/11]: Triangular_Matrix.pyx... PASS\r\n",
      "\r\n",
      "Compiling [6/11]: SLIM_BPR_Cython_Epoch.pyx... \r\n",
      "warning: SLIM_BPR_Cython_Epoch.pyx:24:0: The 'IF' statement is deprecated and will be removed in a future Cython version. Consider using runtime conditions or C macros instead. See https://github.com/cython/cython/issues/4310\r\n",
      "warning: SLIM_BPR_Cython_Epoch.pyx:632:34: Non-trivial type declarators in shared declaration (e.g. mix of pointers and values). Each pointer declaration should be on its own line.\r\n",
      "warning: SLIM_BPR_Cython_Epoch.pyx:632:66: Non-trivial type declarators in shared declaration (e.g. mix of pointers and values). Each pointer declaration should be on its own line.\r\n",
      "warning: SLIM_BPR_Cython_Epoch.pyx:817:35: Non-trivial type declarators in shared declaration (e.g. mix of pointers and values). Each pointer declaration should be on its own line.\r\n",
      "warning: SLIM_BPR_Cython_Epoch.pyx:817:52: Non-trivial type declarators in shared declaration (e.g. mix of pointers and values). Each pointer declaration should be on its own line.\r\n",
      "warning: SLIM_BPR_Cython_Epoch.pyx:916:35: Non-trivial type declarators in shared declaration (e.g. mix of pointers and values). Each pointer declaration should be on its own line.\r\n",
      "warning: SLIM_BPR_Cython_Epoch.pyx:916:53: Non-trivial type declarators in shared declaration (e.g. mix of pointers and values). Each pointer declaration should be on its own line.\r\n",
      "warning: SLIM_BPR_Cython_Epoch.pyx:916:69: Non-trivial type declarators in shared declaration (e.g. mix of pointers and values). Each pointer declaration should be on its own line.\r\n",
      "warning: SLIM_BPR_Cython_Epoch.pyx:1051:35: Non-trivial type declarators in shared declaration (e.g. mix of pointers and values). Each pointer declaration should be on its own line.\r\n",
      "warning: SLIM_BPR_Cython_Epoch.pyx:1051:42: Non-trivial type declarators in shared declaration (e.g. mix of pointers and values). Each pointer declaration should be on its own line.\r\n",
      "warning: SLIM_BPR_Cython_Epoch.pyx:1052:35: Non-trivial type declarators in shared declaration (e.g. mix of pointers and values). Each pointer declaration should be on its own line.\r\n",
      "warning: SLIM_BPR_Cython_Epoch.pyx:1052:53: Non-trivial type declarators in shared declaration (e.g. mix of pointers and values). Each pointer declaration should be on its own line.\r\n",
      "\r\n",
      "Error compiling Cython file:\r\n",
      "------------------------------------------------------------\r\n",
      "...\r\n",
      "            vector_pointer_to_list_elements[index].head = current_element\r\n",
      "            current_element = current_element.higher\r\n",
      "\r\n",
      "\r\n",
      "        # Sort array elements on their data field\r\n",
      "        qsort(vector_pointer_to_list_elements, list_length, sizeof(head_pointer_tree_s), compare_struct_on_data)\r\n",
      "                                                                                         ^\r\n",
      "------------------------------------------------------------\r\n",
      "\r\n",
      "SLIM_BPR_Cython_Epoch.pyx:990:89: Cannot assign type 'int (const void *, const void *) except? -1' to 'int (*)(const_void *, const_void *) noexcept'. Exception values are incompatible. Suggest adding 'noexcept' to the type of 'compare_struct_on_data'.\r\n",
      "\r\n",
      "Error compiling Cython file:\r\n",
      "------------------------------------------------------------\r\n",
      "...\r\n",
      "        # Sort array elements on their data field\r\n",
      "        qsort(vector_pointer_to_list_elements, list_length, sizeof(head_pointer_tree_s), compare_struct_on_data)\r\n",
      "\r\n",
      "        # Sort only the TopK according to their column field\r\n",
      "        # Sort is from lower to higher, therefore the elements to be considered are from len-topK to len\r\n",
      "        qsort(&vector_pointer_to_list_elements[list_length-TopK], TopK, sizeof(head_pointer_tree_s), compare_struct_on_column)\r\n",
      "                                                                                                     ^\r\n",
      "------------------------------------------------------------\r\n",
      "\r\n",
      "SLIM_BPR_Cython_Epoch.pyx:994:101: Cannot assign type 'int (const void *, const void *) except? -1' to 'int (*)(const_void *, const_void *) noexcept'. Exception values are incompatible. Suggest adding 'noexcept' to the type of 'compare_struct_on_column'.\r\n",
      "Traceback (most recent call last):\r\n",
      "  File \"/kaggle/working/RECsys_Challenge2024/CythonCompiler/compile_script.py\", line 48, in <module>\r\n",
      "    setup(\r\n",
      "  File \"/opt/conda/lib/python3.10/site-packages/setuptools/__init__.py\", line 103, in setup\r\n",
      "    return distutils.core.setup(**attrs)\r\n",
      "  File \"/opt/conda/lib/python3.10/site-packages/setuptools/_distutils/core.py\", line 184, in setup\r\n",
      "    return run_commands(dist)\r\n",
      "  File \"/opt/conda/lib/python3.10/site-packages/setuptools/_distutils/core.py\", line 200, in run_commands\r\n",
      "    dist.run_commands()\r\n",
      "  File \"/opt/conda/lib/python3.10/site-packages/setuptools/_distutils/dist.py\", line 969, in run_commands\r\n",
      "    self.run_command(cmd)\r\n",
      "  File \"/opt/conda/lib/python3.10/site-packages/setuptools/dist.py\", line 968, in run_command\r\n",
      "    super().run_command(command)\r\n",
      "  File \"/opt/conda/lib/python3.10/site-packages/setuptools/_distutils/dist.py\", line 988, in run_command\r\n",
      "    cmd_obj.run()\r\n",
      "  File \"/opt/conda/lib/python3.10/site-packages/setuptools/_distutils/command/build_ext.py\", line 359, in run\r\n",
      "    self.build_extensions()\r\n",
      "  File \"/opt/conda/lib/python3.10/site-packages/setuptools/_distutils/command/build_ext.py\", line 479, in build_extensions\r\n",
      "    self._build_extensions_serial()\r\n",
      "  File \"/opt/conda/lib/python3.10/site-packages/setuptools/_distutils/command/build_ext.py\", line 505, in _build_extensions_serial\r\n",
      "    self.build_extension(ext)\r\n",
      "  File \"/opt/conda/lib/python3.10/site-packages/Cython/Distutils/build_ext.py\", line 130, in build_extension\r\n",
      "    new_ext = cythonize(\r\n",
      "  File \"/opt/conda/lib/python3.10/site-packages/Cython/Build/Dependencies.py\", line 1154, in cythonize\r\n",
      "    cythonize_one(*args)\r\n",
      "  File \"/opt/conda/lib/python3.10/site-packages/Cython/Build/Dependencies.py\", line 1321, in cythonize_one\r\n",
      "    raise CompileError(None, pyx_file)\r\n",
      "Cython.Compiler.Errors.CompileError: SLIM_BPR_Cython_Epoch.pyx\r\n",
      "Traceback (most recent call last):\r\n",
      "  File \"/kaggle/working/RECsys_Challenge2024/run_compile_all_cython.py\", line 60, in <module>\r\n",
      "    run_compile_subprocess(file_path, [file_name])\r\n",
      "  File \"/kaggle/working/RECsys_Challenge2024/CythonCompiler/run_compile_subprocess.py\", line 51, in run_compile_subprocess\r\n",
      "    raise exc\r\n",
      "  File \"/kaggle/working/RECsys_Challenge2024/CythonCompiler/run_compile_subprocess.py\", line 32, in run_compile_subprocess\r\n",
      "    output = subprocess.check_output(' '.join(command),\r\n",
      "  File \"/opt/conda/lib/python3.10/subprocess.py\", line 421, in check_output\r\n",
      "    return run(*popenargs, stdout=PIPE, timeout=timeout, check=True,\r\n",
      "  File \"/opt/conda/lib/python3.10/subprocess.py\", line 526, in run\r\n",
      "    raise CalledProcessError(retcode, process.args,\r\n",
      "subprocess.CalledProcessError: Command '/opt/conda/bin/python /kaggle/working/RECsys_Challenge2024/CythonCompiler/compile_script.py SLIM_BPR_Cython_Epoch.pyx build_ext --inplace' returned non-zero exit status 1.\r\n",
      "Compiling [6/11]: SLIM_BPR_Cython_Epoch.pyx... FAIL: Command '/opt/conda/bin/python /kaggle/working/RECsys_Challenge2024/CythonCompiler/compile_script.py SLIM_BPR_Cython_Epoch.pyx build_ext --inplace' returned non-zero exit status 1.\r\n",
      "\r\n",
      "Compiling [7/11]: FBSM_Rating_Cython_SGD.pyx... \r\n",
      "In file included from \u001b[01m\u001b[K/opt/conda/lib/python3.10/site-packages/numpy/core/include/numpy/ndarraytypes.h:1929\u001b[m\u001b[K,\r\n",
      "                 from \u001b[01m\u001b[K/opt/conda/lib/python3.10/site-packages/numpy/core/include/numpy/ndarrayobject.h:12\u001b[m\u001b[K,\r\n",
      "                 from \u001b[01m\u001b[K/opt/conda/lib/python3.10/site-packages/numpy/core/include/numpy/arrayobject.h:5\u001b[m\u001b[K,\r\n",
      "                 from \u001b[01m\u001b[KFBSM_Rating_Cython_SGD.c:1252\u001b[m\u001b[K:\r\n",
      "\u001b[01m\u001b[K/opt/conda/lib/python3.10/site-packages/numpy/core/include/numpy/npy_1_7_deprecated_api.h:17:2:\u001b[m\u001b[K \u001b[01;35m\u001b[Kwarning: \u001b[m\u001b[K#warning \"Using deprecated NumPy API, disable it with \" \"#define NPY_NO_DEPRECATED_API NPY_1_7_API_VERSION\" [\u001b[01;35m\u001b[K-Wcpp\u001b[m\u001b[K]\r\n",
      "   17 | #\u001b[01;35m\u001b[Kwarning\u001b[m\u001b[K \"Using deprecated NumPy API, disable it with \" \\\r\n",
      "      |  \u001b[01;35m\u001b[K^~~~~~~\u001b[m\u001b[K\r\n",
      "\u001b[01m\u001b[KFBSM_Rating_Cython_SGD.c:\u001b[m\u001b[K In function '\u001b[01m\u001b[K__pyx_pf_22FBSM_Rating_Cython_SGD_22FBSM_Rating_Cython_SGD_2fit\u001b[m\u001b[K':\r\n",
      "\u001b[01m\u001b[KFBSM_Rating_Cython_SGD.c:26607:55:\u001b[m\u001b[K \u001b[01;35m\u001b[Kwarning: \u001b[m\u001b[K'\u001b[01m\u001b[K__pyx_v_num_sample\u001b[m\u001b[K' may be used uninitialized in this function [\u001b[01;35m\u001b[K-Wmaybe-uninitialized\u001b[m\u001b[K]\r\n",
      "26607 |   __pyx_t_5 = PyFloat_FromDouble((__pyx_v_cum_loss / \u001b[01;35m\u001b[K((double)__pyx_v_num_sample)\u001b[m\u001b[K)); if (unlikely(!__pyx_t_5)) __PYX_ERR(0, 551, __pyx_L1_error)\r\n",
      "      |                                                      \u001b[01;35m\u001b[K~^~~~~~~~~~~~~~~~~~~~~~~~~~~\u001b[m\u001b[K\r\n",
      "/opt/conda/lib/python3.10/site-packages/Cython/Compiler/Main.py:381: FutureWarning: Cython directive 'language_level' not set, using '3str' for now (Py3). This has changed from earlier releases! File: /kaggle/working/RECsys_Challenge2024/Recommenders/FeatureWeighting/Cython/FBSM_Rating_Cython_SGD.pyx\r\n",
      "  tree = Parsing.p_module(s, pxd, full_module_name)\r\n",
      "Compiling [7/11]: FBSM_Rating_Cython_SGD.pyx... PASS\r\n",
      "\r\n",
      "Compiling [8/11]: CFW_D_Similarity_Cython_SGD.pyx... \r\n",
      "In file included from \u001b[01m\u001b[K/opt/conda/lib/python3.10/site-packages/numpy/core/include/numpy/ndarraytypes.h:1929\u001b[m\u001b[K,\r\n",
      "                 from \u001b[01m\u001b[K/opt/conda/lib/python3.10/site-packages/numpy/core/include/numpy/ndarrayobject.h:12\u001b[m\u001b[K,\r\n",
      "                 from \u001b[01m\u001b[K/opt/conda/lib/python3.10/site-packages/numpy/core/include/numpy/arrayobject.h:5\u001b[m\u001b[K,\r\n",
      "                 from \u001b[01m\u001b[KCFW_D_Similarity_Cython_SGD.c:1252\u001b[m\u001b[K:\r\n",
      "\u001b[01m\u001b[K/opt/conda/lib/python3.10/site-packages/numpy/core/include/numpy/npy_1_7_deprecated_api.h:17:2:\u001b[m\u001b[K \u001b[01;35m\u001b[Kwarning: \u001b[m\u001b[K#warning \"Using deprecated NumPy API, disable it with \" \"#define NPY_NO_DEPRECATED_API NPY_1_7_API_VERSION\" [\u001b[01;35m\u001b[K-Wcpp\u001b[m\u001b[K]\r\n",
      "   17 | #\u001b[01;35m\u001b[Kwarning\u001b[m\u001b[K \"Using deprecated NumPy API, disable it with \" \\\r\n",
      "      |  \u001b[01;35m\u001b[K^~~~~~~\u001b[m\u001b[K\r\n",
      "\u001b[01m\u001b[KCFW_D_Similarity_Cython_SGD.c:\u001b[m\u001b[K In function '\u001b[01m\u001b[K__pyx_pf_27CFW_D_Similarity_Cython_SGD_27CFW_D_Similarity_Cython_SGD_6fit\u001b[m\u001b[K':\r\n",
      "\u001b[01m\u001b[KCFW_D_Similarity_Cython_SGD.c:23373:55:\u001b[m\u001b[K \u001b[01;35m\u001b[Kwarning: \u001b[m\u001b[K'\u001b[01m\u001b[K__pyx_v_sample_num\u001b[m\u001b[K' may be used uninitialized in this function [\u001b[01;35m\u001b[K-Wmaybe-uninitialized\u001b[m\u001b[K]\r\n",
      "23373 |   __pyx_t_3 = PyFloat_FromDouble((__pyx_v_cum_loss / \u001b[01;35m\u001b[K((double)__pyx_v_sample_num)\u001b[m\u001b[K)); if (unlikely(!__pyx_t_3)) __PYX_ERR(0, 290, __pyx_L1_error)\r\n",
      "      |                                                      \u001b[01;35m\u001b[K~^~~~~~~~~~~~~~~~~~~~~~~~~~~\u001b[m\u001b[K\r\n",
      "/opt/conda/lib/python3.10/site-packages/Cython/Compiler/Main.py:381: FutureWarning: Cython directive 'language_level' not set, using '3str' for now (Py3). This has changed from earlier releases! File: /kaggle/working/RECsys_Challenge2024/Recommenders/FeatureWeighting/Cython/CFW_D_Similarity_Cython_SGD.pyx\r\n",
      "  tree = Parsing.p_module(s, pxd, full_module_name)\r\n",
      "Compiling [8/11]: CFW_D_Similarity_Cython_SGD.pyx... PASS\r\n",
      "\r\n",
      "Compiling [9/11]: HP3_Similarity_Cython_SGD.pyx... \r\n",
      "performance hint: HP3_Similarity_Cython_SGD.pyx:113:40: Index should be typed for more efficient access\r\n",
      "performance hint: HP3_Similarity_Cython_SGD.pyx:114:40: Index should be typed for more efficient access\r\n",
      "In file included from \u001b[01m\u001b[K/opt/conda/lib/python3.10/site-packages/numpy/core/include/numpy/ndarraytypes.h:1929\u001b[m\u001b[K,\r\n",
      "                 from \u001b[01m\u001b[K/opt/conda/lib/python3.10/site-packages/numpy/core/include/numpy/ndarrayobject.h:12\u001b[m\u001b[K,\r\n",
      "                 from \u001b[01m\u001b[K/opt/conda/lib/python3.10/site-packages/numpy/core/include/numpy/arrayobject.h:5\u001b[m\u001b[K,\r\n",
      "                 from \u001b[01m\u001b[KHP3_Similarity_Cython_SGD.c:1252\u001b[m\u001b[K:\r\n",
      "\u001b[01m\u001b[K/opt/conda/lib/python3.10/site-packages/numpy/core/include/numpy/npy_1_7_deprecated_api.h:17:2:\u001b[m\u001b[K \u001b[01;35m\u001b[Kwarning: \u001b[m\u001b[K#warning \"Using deprecated NumPy API, disable it with \" \"#define NPY_NO_DEPRECATED_API NPY_1_7_API_VERSION\" [\u001b[01;35m\u001b[K-Wcpp\u001b[m\u001b[K]\r\n",
      "   17 | #\u001b[01;35m\u001b[Kwarning\u001b[m\u001b[K \"Using deprecated NumPy API, disable it with \" \\\r\n",
      "      |  \u001b[01;35m\u001b[K^~~~~~~\u001b[m\u001b[K\r\n",
      "\u001b[01m\u001b[KHP3_Similarity_Cython_SGD.c:\u001b[m\u001b[K In function '\u001b[01m\u001b[K__pyx_pf_25HP3_Similarity_Cython_SGD_25HP3_Similarity_Cython_SGD_4fit\u001b[m\u001b[K':\r\n",
      "\u001b[01m\u001b[KHP3_Similarity_Cython_SGD.c:23631:55:\u001b[m\u001b[K \u001b[01;35m\u001b[Kwarning: \u001b[m\u001b[K'\u001b[01m\u001b[K__pyx_v_sample_num\u001b[m\u001b[K' may be used uninitialized in this function [\u001b[01;35m\u001b[K-Wmaybe-uninitialized\u001b[m\u001b[K]\r\n",
      "23631 |   __pyx_t_1 = PyFloat_FromDouble((__pyx_v_cum_loss / \u001b[01;35m\u001b[K((double)__pyx_v_sample_num)\u001b[m\u001b[K)); if (unlikely(!__pyx_t_1)) __PYX_ERR(0, 291, __pyx_L1_error)\r\n",
      "      |                                                      \u001b[01;35m\u001b[K~^~~~~~~~~~~~~~~~~~~~~~~~~~~\u001b[m\u001b[K\r\n",
      "/opt/conda/lib/python3.10/site-packages/Cython/Compiler/Main.py:381: FutureWarning: Cython directive 'language_level' not set, using '3str' for now (Py3). This has changed from earlier releases! File: /kaggle/working/RECsys_Challenge2024/Recommenders/FeatureWeighting/Cython/HP3_Similarity_Cython_SGD.pyx\r\n",
      "  tree = Parsing.p_module(s, pxd, full_module_name)\r\n",
      "performance hint: HP3_Similarity_Cython_SGD.pyx:113:40: Index should be typed for more efficient access\r\n",
      "performance hint: HP3_Similarity_Cython_SGD.pyx:114:40: Index should be typed for more efficient access\r\n",
      "Compiling [9/11]: HP3_Similarity_Cython_SGD.pyx... PASS\r\n",
      "\r\n",
      "Compiling [10/11]: CFW_DVV_Similarity_Cython_SGD.pyx... \r\n",
      "In file included from \u001b[01m\u001b[K/opt/conda/lib/python3.10/site-packages/numpy/core/include/numpy/ndarraytypes.h:1929\u001b[m\u001b[K,\r\n",
      "                 from \u001b[01m\u001b[K/opt/conda/lib/python3.10/site-packages/numpy/core/include/numpy/ndarrayobject.h:12\u001b[m\u001b[K,\r\n",
      "                 from \u001b[01m\u001b[K/opt/conda/lib/python3.10/site-packages/numpy/core/include/numpy/arrayobject.h:5\u001b[m\u001b[K,\r\n",
      "                 from \u001b[01m\u001b[KCFW_DVV_Similarity_Cython_SGD.c:1252\u001b[m\u001b[K:\r\n",
      "\u001b[01m\u001b[K/opt/conda/lib/python3.10/site-packages/numpy/core/include/numpy/npy_1_7_deprecated_api.h:17:2:\u001b[m\u001b[K \u001b[01;35m\u001b[Kwarning: \u001b[m\u001b[K#warning \"Using deprecated NumPy API, disable it with \" \"#define NPY_NO_DEPRECATED_API NPY_1_7_API_VERSION\" [\u001b[01;35m\u001b[K-Wcpp\u001b[m\u001b[K]\r\n",
      "   17 | #\u001b[01;35m\u001b[Kwarning\u001b[m\u001b[K \"Using deprecated NumPy API, disable it with \" \\\r\n",
      "      |  \u001b[01;35m\u001b[K^~~~~~~\u001b[m\u001b[K\r\n",
      "/opt/conda/lib/python3.10/site-packages/Cython/Compiler/Main.py:381: FutureWarning: Cython directive 'language_level' not set, using '3str' for now (Py3). This has changed from earlier releases! File: /kaggle/working/RECsys_Challenge2024/Recommenders/FeatureWeighting/Cython/CFW_DVV_Similarity_Cython_SGD.pyx\r\n",
      "  tree = Parsing.p_module(s, pxd, full_module_name)\r\n",
      "Compiling [10/11]: CFW_DVV_Similarity_Cython_SGD.pyx... PASS\r\n",
      "\r\n",
      "Compiling [11/11]: DataIterator.pyx... \r\n",
      "In file included from \u001b[01m\u001b[K/opt/conda/lib/python3.10/site-packages/numpy/core/include/numpy/ndarraytypes.h:1929\u001b[m\u001b[K,\r\n",
      "                 from \u001b[01m\u001b[K/opt/conda/lib/python3.10/site-packages/numpy/core/include/numpy/ndarrayobject.h:12\u001b[m\u001b[K,\r\n",
      "                 from \u001b[01m\u001b[K/opt/conda/lib/python3.10/site-packages/numpy/core/include/numpy/arrayobject.h:5\u001b[m\u001b[K,\r\n",
      "                 from \u001b[01m\u001b[KDataIterator.c:1252\u001b[m\u001b[K:\r\n",
      "\u001b[01m\u001b[K/opt/conda/lib/python3.10/site-packages/numpy/core/include/numpy/npy_1_7_deprecated_api.h:17:2:\u001b[m\u001b[K \u001b[01;35m\u001b[Kwarning: \u001b[m\u001b[K#warning \"Using deprecated NumPy API, disable it with \" \"#define NPY_NO_DEPRECATED_API NPY_1_7_API_VERSION\" [\u001b[01;35m\u001b[K-Wcpp\u001b[m\u001b[K]\r\n",
      "   17 | #\u001b[01;35m\u001b[Kwarning\u001b[m\u001b[K \"Using deprecated NumPy API, disable it with \" \\\r\n",
      "      |  \u001b[01;35m\u001b[K^~~~~~~\u001b[m\u001b[K\r\n",
      "\u001b[01m\u001b[KDataIterator.c:\u001b[m\u001b[K In function '\u001b[01m\u001b[K__pyx_pf_12DataIterator_30InteractionAndNegativeIterator_6__next__\u001b[m\u001b[K':\r\n",
      "\u001b[01m\u001b[KDataIterator.c:25495:22:\u001b[m\u001b[K \u001b[01;35m\u001b[Kwarning: \u001b[m\u001b[K'\u001b[01m\u001b[K__pyx_v_i_batch\u001b[m\u001b[K' may be used uninitialized in this function [\u001b[01;35m\u001b[K-Wmaybe-uninitialized\u001b[m\u001b[K]\r\n",
      "25495 |     (__pyx_v_i_batch \u001b[01;35m\u001b[K+\u001b[m\u001b[K 1),\r\n",
      "      |                      \u001b[01;35m\u001b[K^\u001b[m\u001b[K\r\n",
      "\u001b[01m\u001b[KDataIterator.c:\u001b[m\u001b[K In function '\u001b[01m\u001b[K__pyx_pf_12DataIterator_11BPRIterator_6__next__\u001b[m\u001b[K':\r\n",
      "\u001b[01m\u001b[KDataIterator.c:23054:22:\u001b[m\u001b[K \u001b[01;35m\u001b[Kwarning: \u001b[m\u001b[K'\u001b[01m\u001b[K__pyx_v_i_batch\u001b[m\u001b[K' may be used uninitialized in this function [\u001b[01;35m\u001b[K-Wmaybe-uninitialized\u001b[m\u001b[K]\r\n",
      "23054 |     (__pyx_v_i_batch \u001b[01;35m\u001b[K+\u001b[m\u001b[K 1),\r\n",
      "      |                      \u001b[01;35m\u001b[K^\u001b[m\u001b[K\r\n",
      "\u001b[01m\u001b[KDataIterator.c:\u001b[m\u001b[K In function '\u001b[01m\u001b[K__pyx_pf_12DataIterator_19InteractionIterator_6__next__\u001b[m\u001b[K':\r\n",
      "\u001b[01m\u001b[KDataIterator.c:20937:22:\u001b[m\u001b[K \u001b[01;35m\u001b[Kwarning: \u001b[m\u001b[K'\u001b[01m\u001b[K__pyx_v_i_batch\u001b[m\u001b[K' may be used uninitialized in this function [\u001b[01;35m\u001b[K-Wmaybe-uninitialized\u001b[m\u001b[K]\r\n",
      "20937 |     (__pyx_v_i_batch \u001b[01;35m\u001b[K+\u001b[m\u001b[K 1),\r\n",
      "      |                      \u001b[01;35m\u001b[K^\u001b[m\u001b[K\r\n",
      "/opt/conda/lib/python3.10/site-packages/Cython/Compiler/Main.py:381: FutureWarning: Cython directive 'language_level' not set, using '3str' for now (Py3). This has changed from earlier releases! File: /kaggle/working/RECsys_Challenge2024/Utils/PyTorch/Cython/DataIterator.pyx\r\n",
      "  tree = Parsing.p_module(s, pxd, full_module_name)\r\n",
      "Compiling [11/11]: DataIterator.pyx... PASS\r\n",
      "\r\n",
      "run_compile_all_cython: Compilation finished. FAILS 2/11.\r\n",
      "Compilation log can be found here: './result_experiments/run_compile_all_cython.txt'\r\n"
     ]
    }
   ],
   "source": [
    "%cd /kaggle/working/RECsys_Challenge2024\n",
    "! python run_compile_all_cython.py"
   ]
  },
  {
   "cell_type": "code",
   "execution_count": 5,
   "id": "cb3c9451",
   "metadata": {
    "execution": {
     "iopub.execute_input": "2024-12-03T17:01:12.032870Z",
     "iopub.status.busy": "2024-12-03T17:01:12.032409Z",
     "iopub.status.idle": "2024-12-03T17:01:13.889313Z",
     "shell.execute_reply": "2024-12-03T17:01:13.888014Z"
    },
    "papermill": {
     "duration": 1.873867,
     "end_time": "2024-12-03T17:01:13.891814",
     "exception": false,
     "start_time": "2024-12-03T17:01:12.017947",
     "status": "completed"
    },
    "tags": []
   },
   "outputs": [],
   "source": [
    "from Utils.notebookFunctions import *\n",
    "import numpy as np\n",
    "import pandas as pd\n",
    "import scipy.sparse as sps\n",
    "import time\n",
    "import shutil\n",
    "import optuna\n",
    "import json\n",
    "import os\n",
    "from Utils.seconds_to_biggest_unit import seconds_to_biggest_unit\n",
    "\n",
    "\n",
    "K_PATH = '/kaggle/working/RECsys_Challenge2024'\n",
    "GH_PATH = 'TrainedModels/WithoutKFCV'\n",
    "D_PATH = 'Hybrid/LinearCombination'\n",
    "\n",
    "np.random.seed(42)"
   ]
  },
  {
   "cell_type": "markdown",
   "id": "6c79dbda",
   "metadata": {
    "papermill": {
     "duration": 0.013447,
     "end_time": "2024-12-03T17:01:13.918461",
     "exception": false,
     "start_time": "2024-12-03T17:01:13.905014",
     "status": "completed"
    },
    "tags": []
   },
   "source": [
    "## Import the repository"
   ]
  },
  {
   "cell_type": "code",
   "execution_count": 6,
   "id": "a7eff756",
   "metadata": {
    "execution": {
     "iopub.execute_input": "2024-12-03T17:01:13.946675Z",
     "iopub.status.busy": "2024-12-03T17:01:13.946142Z",
     "iopub.status.idle": "2024-12-03T17:01:14.383632Z",
     "shell.execute_reply": "2024-12-03T17:01:14.382460Z"
    },
    "papermill": {
     "duration": 0.453765,
     "end_time": "2024-12-03T17:01:14.385804",
     "exception": false,
     "start_time": "2024-12-03T17:01:13.932039",
     "status": "completed"
    },
    "tags": []
   },
   "outputs": [
    {
     "name": "stdout",
     "output_type": "stream",
     "text": [
      "Repository 'RECsys_Challenge2024' found.\n"
     ]
    }
   ],
   "source": [
    "repo = get_repo_from_github(token)"
   ]
  },
  {
   "cell_type": "code",
   "execution_count": 7,
   "id": "70b2a782",
   "metadata": {
    "execution": {
     "iopub.execute_input": "2024-12-03T17:01:14.414138Z",
     "iopub.status.busy": "2024-12-03T17:01:14.412960Z",
     "iopub.status.idle": "2024-12-03T17:01:14.418664Z",
     "shell.execute_reply": "2024-12-03T17:01:14.417672Z"
    },
    "papermill": {
     "duration": 0.022196,
     "end_time": "2024-12-03T17:01:14.420943",
     "exception": false,
     "start_time": "2024-12-03T17:01:14.398747",
     "status": "completed"
    },
    "tags": []
   },
   "outputs": [],
   "source": [
    "config = {\n",
    "    'model': 'SecondLinearCombination',\n",
    "    'tune_parameters': True,\n",
    "    'database_path': '/kaggle/working/history_SecondLinearCombination.db',\n",
    "    'copy_prev_best_params': False,\n",
    "    'tune_best_params': True,\n",
    "    'save_github': True\n",
    "}"
   ]
  },
  {
   "cell_type": "markdown",
   "id": "8dd6fa7d",
   "metadata": {
    "papermill": {
     "duration": 0.012755,
     "end_time": "2024-12-03T17:01:14.446842",
     "exception": false,
     "start_time": "2024-12-03T17:01:14.434087",
     "status": "completed"
    },
    "tags": []
   },
   "source": [
    "Import the database where previous tuning trials have been saved."
   ]
  },
  {
   "cell_type": "code",
   "execution_count": 8,
   "id": "ed1cbb36",
   "metadata": {
    "execution": {
     "iopub.execute_input": "2024-12-03T17:01:14.475068Z",
     "iopub.status.busy": "2024-12-03T17:01:14.474636Z",
     "iopub.status.idle": "2024-12-03T17:01:14.481178Z",
     "shell.execute_reply": "2024-12-03T17:01:14.480036Z"
    },
    "papermill": {
     "duration": 0.023004,
     "end_time": "2024-12-03T17:01:14.483417",
     "exception": false,
     "start_time": "2024-12-03T17:01:14.460413",
     "status": "completed"
    },
    "tags": []
   },
   "outputs": [],
   "source": [
    "try:\n",
    "    shutil.copyfile(\n",
    "        f'{K_PATH}/{GH_PATH}/{D_PATH}/{config[\"model\"]}Recommender/history_{config[\"model\"]}.db', \n",
    "        config['database_path']\n",
    "    )\n",
    "except FileNotFoundError:\n",
    "    pass # if not present optuna will create it"
   ]
  },
  {
   "cell_type": "markdown",
   "id": "5b4a64d5",
   "metadata": {
    "papermill": {
     "duration": 0.01264,
     "end_time": "2024-12-03T17:01:14.509237",
     "exception": false,
     "start_time": "2024-12-03T17:01:14.496597",
     "status": "completed"
    },
    "tags": []
   },
   "source": [
    "# Construction of URM and ICM matrices"
   ]
  },
  {
   "cell_type": "code",
   "execution_count": 9,
   "id": "2aecbb24",
   "metadata": {
    "execution": {
     "iopub.execute_input": "2024-12-03T17:01:14.536977Z",
     "iopub.status.busy": "2024-12-03T17:01:14.536562Z",
     "iopub.status.idle": "2024-12-03T17:01:15.400430Z",
     "shell.execute_reply": "2024-12-03T17:01:15.399326Z"
    },
    "papermill": {
     "duration": 0.880466,
     "end_time": "2024-12-03T17:01:15.402861",
     "exception": false,
     "start_time": "2024-12-03T17:01:14.522395",
     "status": "completed"
    },
    "tags": []
   },
   "outputs": [
    {
     "data": {
      "text/plain": [
       "<Compressed Sparse Row sparse matrix of dtype 'float64'\n",
       "\twith 1764607 stored elements and shape (35736, 38121)>"
      ]
     },
     "execution_count": 9,
     "metadata": {},
     "output_type": "execute_result"
    }
   ],
   "source": [
    "URM_all_dataframe = pd.read_csv(\"/kaggle/input/recommender-system-2024-challenge-polimi/data_train.csv\")\n",
    "\n",
    "n_users = len(URM_all_dataframe[\"user_id\"].unique())\n",
    "n_items = len(URM_all_dataframe[\"item_id\"].unique())\n",
    "\n",
    "URM_all = sps.csr_matrix((URM_all_dataframe[\"data\"].values, \n",
    "                          (URM_all_dataframe[\"user_id\"].values, URM_all_dataframe[\"item_id\"].values)),\n",
    "                        shape = (n_users, n_items))\n",
    "\n",
    "URM_all"
   ]
  },
  {
   "cell_type": "code",
   "execution_count": 10,
   "id": "3a498e34",
   "metadata": {
    "execution": {
     "iopub.execute_input": "2024-12-03T17:01:15.430601Z",
     "iopub.status.busy": "2024-12-03T17:01:15.430220Z",
     "iopub.status.idle": "2024-12-03T17:01:16.718003Z",
     "shell.execute_reply": "2024-12-03T17:01:16.716853Z"
    },
    "papermill": {
     "duration": 1.304189,
     "end_time": "2024-12-03T17:01:16.720267",
     "exception": false,
     "start_time": "2024-12-03T17:01:15.416078",
     "status": "completed"
    },
    "tags": []
   },
   "outputs": [
    {
     "data": {
      "text/plain": [
       "<Compressed Sparse Row sparse matrix of dtype 'float64'\n",
       "\twith 2940040 stored elements and shape (38121, 94331)>"
      ]
     },
     "execution_count": 10,
     "metadata": {},
     "output_type": "execute_result"
    }
   ],
   "source": [
    "ICM_dataframe = pd.read_csv(\"/kaggle/input/recommender-system-2024-challenge-polimi/data_ICM_metadata.csv\")\n",
    "\n",
    "n_items = len(ICM_dataframe[\"item_id\"].unique())\n",
    "n_features = len(ICM_dataframe[\"feature_id\"].unique())\n",
    "\n",
    "ICM_all = sps.csr_matrix((ICM_dataframe[\"data\"].values, \n",
    "                          (ICM_dataframe[\"item_id\"].values, ICM_dataframe[\"feature_id\"].values)),\n",
    "                        shape = (n_items, n_features))\n",
    "\n",
    "ICM_all"
   ]
  },
  {
   "cell_type": "markdown",
   "id": "7b27bca0",
   "metadata": {
    "papermill": {
     "duration": 0.012771,
     "end_time": "2024-12-03T17:01:16.746195",
     "exception": false,
     "start_time": "2024-12-03T17:01:16.733424",
     "status": "completed"
    },
    "tags": []
   },
   "source": [
    "# Training"
   ]
  },
  {
   "cell_type": "code",
   "execution_count": 11,
   "id": "118f6aa3",
   "metadata": {
    "execution": {
     "iopub.execute_input": "2024-12-03T17:01:16.773996Z",
     "iopub.status.busy": "2024-12-03T17:01:16.773584Z",
     "iopub.status.idle": "2024-12-03T17:01:19.682305Z",
     "shell.execute_reply": "2024-12-03T17:01:19.681149Z"
    },
    "papermill": {
     "duration": 2.925473,
     "end_time": "2024-12-03T17:01:19.684684",
     "exception": false,
     "start_time": "2024-12-03T17:01:16.759211",
     "status": "completed"
    },
    "tags": []
   },
   "outputs": [
    {
     "name": "stdout",
     "output_type": "stream",
     "text": [
      "Warning: 141 (0.39 %) of 35736 users have no sampled items\n",
      "EvaluatorHoldout: Ignoring 141 ( 0.4%) Users that have less than 1 test interactions\n"
     ]
    }
   ],
   "source": [
    "from Evaluation.Evaluator import EvaluatorHoldout\n",
    "from Data_manager.split_functions.split_train_validation_random_holdout import split_train_in_two_percentage_global_sample\n",
    "\n",
    "URM_train, URM_validation = split_train_in_two_percentage_global_sample(URM_all, train_percentage = 0.80)\n",
    "\n",
    "evaluator_validation = EvaluatorHoldout(URM_validation, cutoff_list=[10])"
   ]
  },
  {
   "cell_type": "markdown",
   "id": "c8ea8d77",
   "metadata": {
    "papermill": {
     "duration": 0.013068,
     "end_time": "2024-12-03T17:01:19.713128",
     "exception": false,
     "start_time": "2024-12-03T17:01:19.700060",
     "status": "completed"
    },
    "tags": []
   },
   "source": [
    "## Import the best recommeders previously trained."
   ]
  },
  {
   "cell_type": "code",
   "execution_count": 12,
   "id": "afd9f818",
   "metadata": {
    "execution": {
     "iopub.execute_input": "2024-12-03T17:01:19.741238Z",
     "iopub.status.busy": "2024-12-03T17:01:19.740881Z",
     "iopub.status.idle": "2024-12-03T18:17:21.374232Z",
     "shell.execute_reply": "2024-12-03T18:17:21.373162Z"
    },
    "papermill": {
     "duration": 4561.649989,
     "end_time": "2024-12-03T18:17:21.376406",
     "exception": false,
     "start_time": "2024-12-03T17:01:19.726417",
     "status": "completed"
    },
    "tags": []
   },
   "outputs": [
    {
     "name": "stdout",
     "output_type": "stream",
     "text": [
      "ItemKNNCF Model - TRAINING with its best parameters.\n",
      "Similarity column 38121 (100.0%), 2793.30 column/sec. Elapsed time 13.65 sec\n",
      "Training done in 13.874400sec.\n",
      "\n",
      "SLIMElasticNet Model - TRAINING with its best parameters.\n",
      "SLIMElasticNetRecommender: Processed 2510 ( 6.6%) in 5.00 min. Items per second: 8.36\n",
      "SLIMElasticNetRecommender: Processed 5042 (13.2%) in 10.00 min. Items per second: 8.40\n",
      "SLIMElasticNetRecommender: Processed 7590 (19.9%) in 15.00 min. Items per second: 8.43\n",
      "SLIMElasticNetRecommender: Processed 10140 (26.6%) in 20.00 min. Items per second: 8.45\n",
      "SLIMElasticNetRecommender: Processed 12643 (33.2%) in 25.00 min. Items per second: 8.43\n",
      "SLIMElasticNetRecommender: Processed 15082 (39.6%) in 30.01 min. Items per second: 8.38\n",
      "SLIMElasticNetRecommender: Processed 17478 (45.8%) in 35.01 min. Items per second: 8.32\n",
      "SLIMElasticNetRecommender: Processed 19966 (52.4%) in 40.01 min. Items per second: 8.32\n",
      "SLIMElasticNetRecommender: Processed 22515 (59.1%) in 45.01 min. Items per second: 8.34\n",
      "SLIMElasticNetRecommender: Processed 25104 (65.9%) in 50.01 min. Items per second: 8.37\n",
      "SLIMElasticNetRecommender: Processed 27623 (72.5%) in 55.01 min. Items per second: 8.37\n",
      "SLIMElasticNetRecommender: Processed 30052 (78.8%) in 1.00 hour. Items per second: 8.35\n",
      "SLIMElasticNetRecommender: Processed 32677 (85.7%) in 1.08 hour. Items per second: 8.38\n",
      "SLIMElasticNetRecommender: Processed 35346 (92.7%) in 1.17 hour. Items per second: 8.41\n",
      "SLIMElasticNetRecommender: Processed 37902 (99.4%) in 1.25 hour. Items per second: 8.42\n",
      "SLIMElasticNetRecommender: Processed 38121 (100.0%) in 1.26 hour. Items per second: 8.42\n",
      "Training done in 1.257632hour.\n",
      "\n",
      "RP3beta Model - TRAINING with its best parameters.\n",
      "RP3betaRecommender: Similarity column 38121 (100.0%), 2160.89 column/sec. Elapsed time 17.64 sec\n",
      "Training done in 18.834749sec.\n",
      "\n"
     ]
    }
   ],
   "source": [
    "from Recommenders.KNN.ItemKNNCFRecommender import ItemKNNCFRecommender\n",
    "from Recommenders.SLIM.SLIMElasticNetRecommender import SLIMElasticNetRecommender\n",
    "from Recommenders.GraphBased.RP3betaRecommender import RP3betaRecommender\n",
    "\n",
    "recommenders = {\n",
    "    \"ItemKNNCF\": ItemKNNCFRecommender,\n",
    "    \"SLIMElasticNet\": SLIMElasticNetRecommender,\n",
    "    \"RP3beta\": RP3betaRecommender\n",
    "}\n",
    "\n",
    "paths_to_best_params = {\n",
    "    \"ItemKNNCF\": \"KNN\",\n",
    "    \"SLIMElasticNet\": \"SLIM\",\n",
    "    \"RP3beta\": \"GraphBased\"\n",
    "}\n",
    "\n",
    "\n",
    "loaded_recommenders = {}\n",
    "\n",
    "for recommender_name, recommender_class in recommenders.items():\n",
    "    \n",
    "    start_time = time.time()\n",
    "    \n",
    "    print(f\"{recommender_name} Model - TRAINING with its best parameters.\")\n",
    "    try:\n",
    "        recommender = recommender_class(URM_train)\n",
    "    except Exception as e:\n",
    "        recommender = recommender_class(URM_train, ICM_all)\n",
    "\n",
    "    # Extract best parameter values of the relative recommender model.\n",
    "    with open(f'{GH_PATH}/{paths_to_best_params[recommender_name]}/{recommender_name}Recommender/best_params_{recommender_name}.json', 'r') as best_params_json:\n",
    "            best_params = json.load(best_params_json)\n",
    "    \n",
    "    recommender.fit(**best_params)\n",
    "    \n",
    "    loaded_recommenders[recommender_name] = recommender\n",
    "    \n",
    "    new_time_value, new_time_unit = seconds_to_biggest_unit(time.time() - start_time)\n",
    "    print(\"Training done in {:2f}{}.\\n\".format(new_time_value, new_time_unit))"
   ]
  },
  {
   "cell_type": "code",
   "execution_count": 13,
   "id": "648fe8ae",
   "metadata": {
    "execution": {
     "iopub.execute_input": "2024-12-03T18:17:21.407532Z",
     "iopub.status.busy": "2024-12-03T18:17:21.406917Z",
     "iopub.status.idle": "2024-12-03T18:17:21.416988Z",
     "shell.execute_reply": "2024-12-03T18:17:21.416033Z"
    },
    "papermill": {
     "duration": 0.02839,
     "end_time": "2024-12-03T18:17:21.419304",
     "exception": false,
     "start_time": "2024-12-03T18:17:21.390914",
     "status": "completed"
    },
    "tags": []
   },
   "outputs": [],
   "source": [
    "from Recommenders.Hybrid.LinearCombinationRecommender import LinearCombinationRecommender \n",
    "\n",
    "def objective_function_(optuna_trial):\n",
    "    \n",
    "    recommender_instance = LinearCombinationRecommender(URM_train, loaded_recommenders.values())\n",
    "    \n",
    "    norm = optuna_trial.suggest_categorical('norm', [1, 2, np.inf, -np.inf])\n",
    "    itemknn_weight = optuna_trial.suggest_float('itemknn_weight', 0.0, 1.0)\n",
    "    slim_weight = optuna_trial.suggest_float('slim_weight', 0.0, 1.0)\n",
    "    rp3beta_weight = optuna_trial.suggest_float('rp3beta_weight', 0.0, 1.0)\n",
    "\n",
    "    # Ensure the weights sum to 1 (Normalization)\n",
    "    total_weight = itemknn_weight + slim_weight + rp3beta_weight\n",
    "    itemknn_weight /= total_weight\n",
    "    slim_weight /= total_weight\n",
    "    rp3beta_weight /= total_weight\n",
    "    \n",
    "    full_hyperp = {\n",
    "                    \"weights\": [itemknn_weight, slim_weight,rp3beta_weight],\n",
    "                    \"norm\": norm\n",
    "                  }        \n",
    "    \n",
    "    recommender_instance.fit(**full_hyperp)\n",
    "    \n",
    "    result_df, _ = evaluator_validation.evaluateRecommender(recommender_instance)\n",
    "    \n",
    "    return result_df.loc[10][\"MAP\"]"
   ]
  },
  {
   "cell_type": "code",
   "execution_count": 14,
   "id": "1da57a9f",
   "metadata": {
    "_kg_hide-output": true,
    "execution": {
     "iopub.execute_input": "2024-12-03T18:17:21.450402Z",
     "iopub.status.busy": "2024-12-03T18:17:21.449468Z",
     "iopub.status.idle": "2024-12-03T19:39:58.237415Z",
     "shell.execute_reply": "2024-12-03T19:39:58.236247Z"
    },
    "papermill": {
     "duration": 4956.805995,
     "end_time": "2024-12-03T19:39:58.239930",
     "exception": false,
     "start_time": "2024-12-03T18:17:21.433935",
     "status": "completed"
    },
    "tags": []
   },
   "outputs": [
    {
     "name": "stderr",
     "output_type": "stream",
     "text": [
      "[I 2024-12-03 18:17:23,132] Using an existing study with name 'hyperparameters_tuning_SecondLinearCombination' instead of creating a new one.\n"
     ]
    },
    {
     "name": "stdout",
     "output_type": "stream",
     "text": [
      "LinearCombinationRecommender: Fit completed in 0.00 seconds.\n",
      "EvaluatorHoldout: Processed 35595 (100.0%) in 1.65 min. Users per second: 360\n"
     ]
    },
    {
     "name": "stderr",
     "output_type": "stream",
     "text": [
      "[I 2024-12-03 18:19:02,585] Trial 200 finished with value: 0.05933510034626593 and parameters: {'norm': 2, 'itemknn_weight': 0.46828733754698926, 'slim_weight': 0.7995396230439465, 'rp3beta_weight': 0.0862444659385102}. Best is trial 124 with value: 0.06076377879896466.\n"
     ]
    },
    {
     "name": "stdout",
     "output_type": "stream",
     "text": [
      "LinearCombinationRecommender: Fit completed in 0.00 seconds.\n",
      "EvaluatorHoldout: Processed 35595 (100.0%) in 1.64 min. Users per second: 362\n"
     ]
    },
    {
     "name": "stderr",
     "output_type": "stream",
     "text": [
      "[I 2024-12-03 18:20:41,230] Trial 201 finished with value: 0.06068103688541793 and parameters: {'norm': 2, 'itemknn_weight': 0.05701674310823511, 'slim_weight': 0.723033143800891, 'rp3beta_weight': 0.10879960059304565}. Best is trial 124 with value: 0.06076377879896466.\n"
     ]
    },
    {
     "name": "stdout",
     "output_type": "stream",
     "text": [
      "LinearCombinationRecommender: Fit completed in 0.00 seconds.\n",
      "EvaluatorHoldout: Processed 35595 (100.0%) in 1.64 min. Users per second: 361\n"
     ]
    },
    {
     "name": "stderr",
     "output_type": "stream",
     "text": [
      "[I 2024-12-03 18:22:20,051] Trial 202 finished with value: 0.06069077608099776 and parameters: {'norm': 2, 'itemknn_weight': 0.05530054003330073, 'slim_weight': 0.8230030697721338, 'rp3beta_weight': 0.13681355079051025}. Best is trial 124 with value: 0.06076377879896466.\n"
     ]
    },
    {
     "name": "stdout",
     "output_type": "stream",
     "text": [
      "LinearCombinationRecommender: Fit completed in 0.00 seconds.\n",
      "EvaluatorHoldout: Processed 35595 (100.0%) in 1.64 min. Users per second: 361\n"
     ]
    },
    {
     "name": "stderr",
     "output_type": "stream",
     "text": [
      "[I 2024-12-03 18:23:58,924] Trial 203 finished with value: 0.060731111913790124 and parameters: {'norm': 2, 'itemknn_weight': 0.032734630560229454, 'slim_weight': 0.7848231754707613, 'rp3beta_weight': 0.10494403148311067}. Best is trial 124 with value: 0.06076377879896466.\n"
     ]
    },
    {
     "name": "stdout",
     "output_type": "stream",
     "text": [
      "LinearCombinationRecommender: Fit completed in 0.00 seconds.\n",
      "EvaluatorHoldout: Processed 35595 (100.0%) in 1.65 min. Users per second: 360\n"
     ]
    },
    {
     "name": "stderr",
     "output_type": "stream",
     "text": [
      "[I 2024-12-03 18:25:37,956] Trial 204 finished with value: 0.06063109229270035 and parameters: {'norm': 2, 'itemknn_weight': 0.017081494084999864, 'slim_weight': 0.8018340431877594, 'rp3beta_weight': 0.061675785368598204}. Best is trial 124 with value: 0.06076377879896466.\n"
     ]
    },
    {
     "name": "stdout",
     "output_type": "stream",
     "text": [
      "LinearCombinationRecommender: Fit completed in 0.00 seconds.\n",
      "EvaluatorHoldout: Processed 35595 (100.0%) in 1.64 min. Users per second: 361\n"
     ]
    },
    {
     "name": "stderr",
     "output_type": "stream",
     "text": [
      "[I 2024-12-03 18:27:16,703] Trial 205 finished with value: 0.060635862670205584 and parameters: {'norm': 2, 'itemknn_weight': 0.0009161309187878733, 'slim_weight': 0.7811431713245741, 'rp3beta_weight': 0.09427652234441733}. Best is trial 124 with value: 0.06076377879896466.\n"
     ]
    },
    {
     "name": "stdout",
     "output_type": "stream",
     "text": [
      "LinearCombinationRecommender: Fit completed in 0.00 seconds.\n",
      "EvaluatorHoldout: Processed 35595 (100.0%) in 1.64 min. Users per second: 361\n"
     ]
    },
    {
     "name": "stderr",
     "output_type": "stream",
     "text": [
      "[I 2024-12-03 18:28:55,604] Trial 206 finished with value: 0.060709504188431906 and parameters: {'norm': 2, 'itemknn_weight': 0.030661594229444564, 'slim_weight': 0.7704559544632352, 'rp3beta_weight': 0.10113632593509411}. Best is trial 124 with value: 0.06076377879896466.\n"
     ]
    },
    {
     "name": "stdout",
     "output_type": "stream",
     "text": [
      "LinearCombinationRecommender: Fit completed in 0.00 seconds.\n",
      "EvaluatorHoldout: Processed 35595 (100.0%) in 1.65 min. Users per second: 360\n"
     ]
    },
    {
     "name": "stderr",
     "output_type": "stream",
     "text": [
      "[I 2024-12-03 18:30:34,643] Trial 207 finished with value: 0.06067484286405321 and parameters: {'norm': 2, 'itemknn_weight': 0.07323009384217016, 'slim_weight': 0.8198581873659557, 'rp3beta_weight': 0.0804797163796856}. Best is trial 124 with value: 0.06076377879896466.\n"
     ]
    },
    {
     "name": "stdout",
     "output_type": "stream",
     "text": [
      "LinearCombinationRecommender: Fit completed in 0.00 seconds.\n",
      "EvaluatorHoldout: Processed 35595 (100.0%) in 1.65 min. Users per second: 361\n"
     ]
    },
    {
     "name": "stderr",
     "output_type": "stream",
     "text": [
      "[I 2024-12-03 18:32:13,561] Trial 208 finished with value: 0.060732342691253764 and parameters: {'norm': 2, 'itemknn_weight': 0.036321040781375206, 'slim_weight': 0.7369802550560581, 'rp3beta_weight': 0.1289699105831966}. Best is trial 124 with value: 0.06076377879896466.\n"
     ]
    },
    {
     "name": "stdout",
     "output_type": "stream",
     "text": [
      "LinearCombinationRecommender: Fit completed in 0.00 seconds.\n",
      "EvaluatorHoldout: Processed 35595 (100.0%) in 1.65 min. Users per second: 360\n"
     ]
    },
    {
     "name": "stderr",
     "output_type": "stream",
     "text": [
      "[I 2024-12-03 18:33:52,579] Trial 209 finished with value: 0.06071725340414586 and parameters: {'norm': 2, 'itemknn_weight': 0.04048422412364222, 'slim_weight': 0.7348592366083294, 'rp3beta_weight': 0.12453547988786634}. Best is trial 124 with value: 0.06076377879896466.\n"
     ]
    },
    {
     "name": "stdout",
     "output_type": "stream",
     "text": [
      "LinearCombinationRecommender: Fit completed in 0.00 seconds.\n",
      "EvaluatorHoldout: Processed 35595 (100.0%) in 1.64 min. Users per second: 361\n"
     ]
    },
    {
     "name": "stderr",
     "output_type": "stream",
     "text": [
      "[I 2024-12-03 18:35:31,450] Trial 210 finished with value: 0.060664526184120014 and parameters: {'norm': 2, 'itemknn_weight': 0.06501110324691449, 'slim_weight': 0.760471646993534, 'rp3beta_weight': 0.052433953752056714}. Best is trial 124 with value: 0.06076377879896466.\n"
     ]
    },
    {
     "name": "stdout",
     "output_type": "stream",
     "text": [
      "LinearCombinationRecommender: Fit completed in 0.00 seconds.\n",
      "EvaluatorHoldout: Processed 35595 (100.0%) in 1.64 min. Users per second: 361\n"
     ]
    },
    {
     "name": "stderr",
     "output_type": "stream",
     "text": [
      "[I 2024-12-03 18:37:10,296] Trial 211 finished with value: 0.06072558790805557 and parameters: {'norm': 2, 'itemknn_weight': 0.029074403721673008, 'slim_weight': 0.8392855139490878, 'rp3beta_weight': 0.14859389312768284}. Best is trial 124 with value: 0.06076377879896466.\n"
     ]
    },
    {
     "name": "stdout",
     "output_type": "stream",
     "text": [
      "LinearCombinationRecommender: Fit completed in 0.00 seconds.\n",
      "EvaluatorHoldout: Processed 35595 (100.0%) in 1.65 min. Users per second: 360\n"
     ]
    },
    {
     "name": "stderr",
     "output_type": "stream",
     "text": [
      "[I 2024-12-03 18:38:49,448] Trial 212 finished with value: 0.06069087641611684 and parameters: {'norm': 2, 'itemknn_weight': 0.016515000411699416, 'slim_weight': 0.7978886686524035, 'rp3beta_weight': 0.10620979483174132}. Best is trial 124 with value: 0.06076377879896466.\n"
     ]
    },
    {
     "name": "stdout",
     "output_type": "stream",
     "text": [
      "LinearCombinationRecommender: Fit completed in 0.00 seconds.\n",
      "EvaluatorHoldout: Processed 35595 (100.0%) in 1.65 min. Users per second: 360\n"
     ]
    },
    {
     "name": "stderr",
     "output_type": "stream",
     "text": [
      "[I 2024-12-03 18:40:28,459] Trial 213 finished with value: 0.060730813138101726 and parameters: {'norm': 2, 'itemknn_weight': 0.044972470034536326, 'slim_weight': 0.8301710499613454, 'rp3beta_weight': 0.13194075899114455}. Best is trial 124 with value: 0.06076377879896466.\n"
     ]
    },
    {
     "name": "stdout",
     "output_type": "stream",
     "text": [
      "LinearCombinationRecommender: Fit completed in 0.00 seconds.\n",
      "EvaluatorHoldout: Processed 35595 (100.0%) in 1.65 min. Users per second: 360\n"
     ]
    },
    {
     "name": "stderr",
     "output_type": "stream",
     "text": [
      "[I 2024-12-03 18:42:07,478] Trial 214 finished with value: 0.06072341509530548 and parameters: {'norm': 2, 'itemknn_weight': 0.047128977238212716, 'slim_weight': 0.8248253990040855, 'rp3beta_weight': 0.1296616408218472}. Best is trial 124 with value: 0.06076377879896466.\n"
     ]
    },
    {
     "name": "stdout",
     "output_type": "stream",
     "text": [
      "LinearCombinationRecommender: Fit completed in 0.00 seconds.\n",
      "EvaluatorHoldout: Processed 35595 (100.0%) in 1.65 min. Users per second: 360\n"
     ]
    },
    {
     "name": "stderr",
     "output_type": "stream",
     "text": [
      "[I 2024-12-03 18:43:46,545] Trial 215 finished with value: 0.06068816402339199 and parameters: {'norm': 2, 'itemknn_weight': 0.08590216423925999, 'slim_weight': 0.7819343880971231, 'rp3beta_weight': 0.11518065829742562}. Best is trial 124 with value: 0.06076377879896466.\n"
     ]
    },
    {
     "name": "stdout",
     "output_type": "stream",
     "text": [
      "LinearCombinationRecommender: Fit completed in 0.00 seconds.\n",
      "EvaluatorHoldout: Processed 35595 (100.0%) in 1.65 min. Users per second: 359\n"
     ]
    },
    {
     "name": "stderr",
     "output_type": "stream",
     "text": [
      "[I 2024-12-03 18:45:26,025] Trial 216 finished with value: 0.0606717949060957 and parameters: {'norm': 2, 'itemknn_weight': 0.058938841970938335, 'slim_weight': 0.8115010763775676, 'rp3beta_weight': 0.15041669307554198}. Best is trial 124 with value: 0.06076377879896466.\n"
     ]
    },
    {
     "name": "stdout",
     "output_type": "stream",
     "text": [
      "LinearCombinationRecommender: Fit completed in 0.00 seconds.\n",
      "EvaluatorHoldout: Processed 35595 (100.0%) in 1.65 min. Users per second: 361\n"
     ]
    },
    {
     "name": "stderr",
     "output_type": "stream",
     "text": [
      "[I 2024-12-03 18:47:04,968] Trial 217 finished with value: 0.060709567734007625 and parameters: {'norm': 2, 'itemknn_weight': 0.04138448811586837, 'slim_weight': 0.7523213368923427, 'rp3beta_weight': 0.0752334933017639}. Best is trial 124 with value: 0.06076377879896466.\n"
     ]
    },
    {
     "name": "stdout",
     "output_type": "stream",
     "text": [
      "LinearCombinationRecommender: Fit completed in 0.00 seconds.\n",
      "EvaluatorHoldout: Processed 35595 (100.0%) in 1.65 min. Users per second: 360\n"
     ]
    },
    {
     "name": "stderr",
     "output_type": "stream",
     "text": [
      "[I 2024-12-03 18:48:43,969] Trial 218 finished with value: 0.06068871698138262 and parameters: {'norm': 2, 'itemknn_weight': 0.01630568773916855, 'slim_weight': 0.8442011066318275, 'rp3beta_weight': 0.13214312043135656}. Best is trial 124 with value: 0.06076377879896466.\n"
     ]
    },
    {
     "name": "stdout",
     "output_type": "stream",
     "text": [
      "LinearCombinationRecommender: Fit completed in 0.00 seconds.\n",
      "EvaluatorHoldout: Processed 35595 (100.0%) in 1.65 min. Users per second: 360\n"
     ]
    },
    {
     "name": "stderr",
     "output_type": "stream",
     "text": [
      "[I 2024-12-03 18:50:23,065] Trial 219 finished with value: 0.06065414595861115 and parameters: {'norm': 2, 'itemknn_weight': 0.07472851727562824, 'slim_weight': 0.8273679710655197, 'rp3beta_weight': 0.1650883867629002}. Best is trial 124 with value: 0.06076377879896466.\n"
     ]
    },
    {
     "name": "stdout",
     "output_type": "stream",
     "text": [
      "LinearCombinationRecommender: Fit completed in 0.00 seconds.\n",
      "EvaluatorHoldout: Processed 35595 (100.0%) in 1.63 min. Users per second: 363\n"
     ]
    },
    {
     "name": "stderr",
     "output_type": "stream",
     "text": [
      "[I 2024-12-03 18:52:01,333] Trial 220 finished with value: 0.060628976336517724 and parameters: {'norm': 1, 'itemknn_weight': 0.0004471155667187185, 'slim_weight': 0.7958597465469957, 'rp3beta_weight': 0.09634105659885686}. Best is trial 124 with value: 0.06076377879896466.\n"
     ]
    },
    {
     "name": "stdout",
     "output_type": "stream",
     "text": [
      "LinearCombinationRecommender: Fit completed in 0.00 seconds.\n",
      "EvaluatorHoldout: Processed 35595 (100.0%) in 1.65 min. Users per second: 361\n"
     ]
    },
    {
     "name": "stderr",
     "output_type": "stream",
     "text": [
      "[I 2024-12-03 18:53:40,257] Trial 221 finished with value: 0.060738307056678695 and parameters: {'norm': 2, 'itemknn_weight': 0.035755526381815096, 'slim_weight': 0.8417671208330729, 'rp3beta_weight': 0.1476280799295499}. Best is trial 124 with value: 0.06076377879896466.\n"
     ]
    },
    {
     "name": "stdout",
     "output_type": "stream",
     "text": [
      "LinearCombinationRecommender: Fit completed in 0.00 seconds.\n",
      "EvaluatorHoldout: Processed 35595 (100.0%) in 1.65 min. Users per second: 360\n"
     ]
    },
    {
     "name": "stderr",
     "output_type": "stream",
     "text": [
      "[I 2024-12-03 18:55:19,436] Trial 222 finished with value: 0.06074828259720627 and parameters: {'norm': 2, 'itemknn_weight': 0.03780936299544535, 'slim_weight': 0.8495376679222613, 'rp3beta_weight': 0.13915750887525194}. Best is trial 124 with value: 0.06076377879896466.\n"
     ]
    },
    {
     "name": "stdout",
     "output_type": "stream",
     "text": [
      "LinearCombinationRecommender: Fit completed in 0.00 seconds.\n",
      "EvaluatorHoldout: Processed 35595 (100.0%) in 1.65 min. Users per second: 360\n"
     ]
    },
    {
     "name": "stderr",
     "output_type": "stream",
     "text": [
      "[I 2024-12-03 18:56:58,399] Trial 223 finished with value: 0.06066776923814249 and parameters: {'norm': 2, 'itemknn_weight': 0.03410856319400864, 'slim_weight': 0.7122570988788305, 'rp3beta_weight': 0.1573556555240736}. Best is trial 124 with value: 0.06076377879896466.\n"
     ]
    },
    {
     "name": "stdout",
     "output_type": "stream",
     "text": [
      "LinearCombinationRecommender: Fit completed in 0.00 seconds.\n",
      "EvaluatorHoldout: Processed 35595 (100.0%) in 1.65 min. Users per second: 361\n"
     ]
    },
    {
     "name": "stderr",
     "output_type": "stream",
     "text": [
      "[I 2024-12-03 18:58:37,354] Trial 224 finished with value: 0.06072248532320009 and parameters: {'norm': 2, 'itemknn_weight': 0.05562638866285649, 'slim_weight': 0.8571057503291284, 'rp3beta_weight': 0.11746585101898538}. Best is trial 124 with value: 0.06076377879896466.\n"
     ]
    },
    {
     "name": "stdout",
     "output_type": "stream",
     "text": [
      "LinearCombinationRecommender: Fit completed in 0.00 seconds.\n",
      "EvaluatorHoldout: Processed 35595 (100.0%) in 1.65 min. Users per second: 359\n"
     ]
    },
    {
     "name": "stderr",
     "output_type": "stream",
     "text": [
      "[I 2024-12-03 19:00:16,850] Trial 225 finished with value: 0.06066178034635508 and parameters: {'norm': 2, 'itemknn_weight': 0.02784776571505647, 'slim_weight': 0.8060768287989, 'rp3beta_weight': 0.17564594948457304}. Best is trial 124 with value: 0.06076377879896466.\n"
     ]
    },
    {
     "name": "stdout",
     "output_type": "stream",
     "text": [
      "LinearCombinationRecommender: Fit completed in 0.00 seconds.\n",
      "EvaluatorHoldout: Processed 35595 (100.0%) in 1.65 min. Users per second: 359\n"
     ]
    },
    {
     "name": "stderr",
     "output_type": "stream",
     "text": [
      "[I 2024-12-03 19:01:56,147] Trial 226 finished with value: 0.060692879773999085 and parameters: {'norm': 2, 'itemknn_weight': 0.06720813429406601, 'slim_weight': 0.8511231442497881, 'rp3beta_weight': 0.1338969517349276}. Best is trial 124 with value: 0.06076377879896466.\n"
     ]
    },
    {
     "name": "stdout",
     "output_type": "stream",
     "text": [
      "LinearCombinationRecommender: Fit completed in 0.00 seconds.\n",
      "EvaluatorHoldout: Processed 35595 (100.0%) in 1.64 min. Users per second: 362\n"
     ]
    },
    {
     "name": "stderr",
     "output_type": "stream",
     "text": [
      "[I 2024-12-03 19:03:34,647] Trial 227 finished with value: 0.060222871055991695 and parameters: {'norm': -inf, 'itemknn_weight': 0.020506433384333528, 'slim_weight': 0.781120737070108, 'rp3beta_weight': 0.15319727723945573}. Best is trial 124 with value: 0.06076377879896466.\n"
     ]
    },
    {
     "name": "stdout",
     "output_type": "stream",
     "text": [
      "LinearCombinationRecommender: Fit completed in 0.00 seconds.\n",
      "EvaluatorHoldout: Processed 35595 (100.0%) in 1.65 min. Users per second: 360\n"
     ]
    },
    {
     "name": "stderr",
     "output_type": "stream",
     "text": [
      "[I 2024-12-03 19:05:13,738] Trial 228 finished with value: 0.060747004996687066 and parameters: {'norm': 2, 'itemknn_weight': 0.042643209557101436, 'slim_weight': 0.8388016379145855, 'rp3beta_weight': 0.10864545868524246}. Best is trial 124 with value: 0.06076377879896466.\n"
     ]
    },
    {
     "name": "stdout",
     "output_type": "stream",
     "text": [
      "LinearCombinationRecommender: Fit completed in 0.00 seconds.\n",
      "EvaluatorHoldout: Processed 35595 (100.0%) in 1.65 min. Users per second: 360\n"
     ]
    },
    {
     "name": "stderr",
     "output_type": "stream",
     "text": [
      "[I 2024-12-03 19:06:52,902] Trial 229 finished with value: 0.060674179537431115 and parameters: {'norm': 2, 'itemknn_weight': 0.0956288252870495, 'slim_weight': 0.8451301656527894, 'rp3beta_weight': 0.1483145455482133}. Best is trial 124 with value: 0.06076377879896466.\n"
     ]
    },
    {
     "name": "stdout",
     "output_type": "stream",
     "text": [
      "LinearCombinationRecommender: Fit completed in 0.00 seconds.\n",
      "EvaluatorHoldout: Processed 35595 (100.0%) in 1.65 min. Users per second: 360\n"
     ]
    },
    {
     "name": "stderr",
     "output_type": "stream",
     "text": [
      "[I 2024-12-03 19:08:32,101] Trial 230 finished with value: 0.06066598438785366 and parameters: {'norm': 2, 'itemknn_weight': 0.055090582062599244, 'slim_weight': 0.8578897954630034, 'rp3beta_weight': 0.18245827542192772}. Best is trial 124 with value: 0.06076377879896466.\n"
     ]
    },
    {
     "name": "stdout",
     "output_type": "stream",
     "text": [
      "LinearCombinationRecommender: Fit completed in 0.00 seconds.\n",
      "EvaluatorHoldout: Processed 35595 (100.0%) in 1.65 min. Users per second: 359\n"
     ]
    },
    {
     "name": "stderr",
     "output_type": "stream",
     "text": [
      "[I 2024-12-03 19:10:11,469] Trial 231 finished with value: 0.0607312746796504 and parameters: {'norm': 2, 'itemknn_weight': 0.0394005860183903, 'slim_weight': 0.8384839126280402, 'rp3beta_weight': 0.1106156497469671}. Best is trial 124 with value: 0.06076377879896466.\n"
     ]
    },
    {
     "name": "stdout",
     "output_type": "stream",
     "text": [
      "LinearCombinationRecommender: Fit completed in 0.00 seconds.\n",
      "EvaluatorHoldout: Processed 35595 (100.0%) in 1.64 min. Users per second: 361\n"
     ]
    },
    {
     "name": "stderr",
     "output_type": "stream",
     "text": [
      "[I 2024-12-03 19:11:50,335] Trial 232 finished with value: 0.06070228117467738 and parameters: {'norm': 2, 'itemknn_weight': 0.03923314955859241, 'slim_weight': 0.6563405518083566, 'rp3beta_weight': 0.11702957178004593}. Best is trial 124 with value: 0.06076377879896466.\n"
     ]
    },
    {
     "name": "stdout",
     "output_type": "stream",
     "text": [
      "LinearCombinationRecommender: Fit completed in 0.00 seconds.\n",
      "EvaluatorHoldout: Processed 35595 (100.0%) in 1.64 min. Users per second: 361\n"
     ]
    },
    {
     "name": "stderr",
     "output_type": "stream",
     "text": [
      "[I 2024-12-03 19:13:29,235] Trial 233 finished with value: 0.06010620583860988 and parameters: {'norm': 2, 'itemknn_weight': 0.019440660351445187, 'slim_weight': 0.8164207398096014, 'rp3beta_weight': 0.4749252004162464}. Best is trial 124 with value: 0.06076377879896466.\n"
     ]
    },
    {
     "name": "stdout",
     "output_type": "stream",
     "text": [
      "LinearCombinationRecommender: Fit completed in 0.00 seconds.\n",
      "EvaluatorHoldout: Processed 35595 (100.0%) in 1.65 min. Users per second: 359\n"
     ]
    },
    {
     "name": "stderr",
     "output_type": "stream",
     "text": [
      "[I 2024-12-03 19:15:08,572] Trial 234 finished with value: 0.06069510721364754 and parameters: {'norm': 2, 'itemknn_weight': 0.05363041335652803, 'slim_weight': 0.8276528706845109, 'rp3beta_weight': 0.13353884094446142}. Best is trial 124 with value: 0.06076377879896466.\n"
     ]
    },
    {
     "name": "stdout",
     "output_type": "stream",
     "text": [
      "LinearCombinationRecommender: Fit completed in 0.00 seconds.\n",
      "EvaluatorHoldout: Processed 35595 (100.0%) in 1.65 min. Users per second: 360\n"
     ]
    },
    {
     "name": "stderr",
     "output_type": "stream",
     "text": [
      "[I 2024-12-03 19:16:47,684] Trial 235 finished with value: 0.05950675255352672 and parameters: {'norm': 2, 'itemknn_weight': 0.06366584736464247, 'slim_weight': 0.8378687160139598, 'rp3beta_weight': 0.730823834928476}. Best is trial 124 with value: 0.06076377879896466.\n"
     ]
    },
    {
     "name": "stdout",
     "output_type": "stream",
     "text": [
      "LinearCombinationRecommender: Fit completed in 0.00 seconds.\n",
      "EvaluatorHoldout: Processed 35595 (100.0%) in 1.65 min. Users per second: 360\n"
     ]
    },
    {
     "name": "stderr",
     "output_type": "stream",
     "text": [
      "[I 2024-12-03 19:18:26,872] Trial 236 finished with value: 0.06070895234527599 and parameters: {'norm': 2, 'itemknn_weight': 0.039201677413493244, 'slim_weight': 0.864432993823031, 'rp3beta_weight': 0.10148822979484065}. Best is trial 124 with value: 0.06076377879896466.\n"
     ]
    },
    {
     "name": "stdout",
     "output_type": "stream",
     "text": [
      "LinearCombinationRecommender: Fit completed in 0.00 seconds.\n",
      "EvaluatorHoldout: Processed 35595 (100.0%) in 1.65 min. Users per second: 360\n"
     ]
    },
    {
     "name": "stderr",
     "output_type": "stream",
     "text": [
      "[I 2024-12-03 19:20:05,956] Trial 237 finished with value: 0.060624985228438996 and parameters: {'norm': 2, 'itemknn_weight': 0.013336569828238654, 'slim_weight': 0.8345471198496118, 'rp3beta_weight': 0.0808501301783991}. Best is trial 124 with value: 0.06076377879896466.\n"
     ]
    },
    {
     "name": "stdout",
     "output_type": "stream",
     "text": [
      "LinearCombinationRecommender: Fit completed in 0.00 seconds.\n",
      "EvaluatorHoldout: Processed 35595 (100.0%) in 1.65 min. Users per second: 360\n"
     ]
    },
    {
     "name": "stderr",
     "output_type": "stream",
     "text": [
      "[I 2024-12-03 19:21:45,154] Trial 238 finished with value: 0.06047310015451386 and parameters: {'norm': 2, 'itemknn_weight': 0.0783329567353497, 'slim_weight': 0.5136411931915602, 'rp3beta_weight': 0.15906090840228124}. Best is trial 124 with value: 0.06076377879896466.\n"
     ]
    },
    {
     "name": "stdout",
     "output_type": "stream",
     "text": [
      "LinearCombinationRecommender: Fit completed in 0.00 seconds.\n",
      "EvaluatorHoldout: Processed 35595 (100.0%) in 1.65 min. Users per second: 360\n"
     ]
    },
    {
     "name": "stderr",
     "output_type": "stream",
     "text": [
      "[I 2024-12-03 19:23:24,151] Trial 239 finished with value: 0.06071990559579939 and parameters: {'norm': 2, 'itemknn_weight': 0.046098005445040696, 'slim_weight': 0.8167111414057553, 'rp3beta_weight': 0.13414056518452436}. Best is trial 124 with value: 0.06076377879896466.\n"
     ]
    },
    {
     "name": "stdout",
     "output_type": "stream",
     "text": [
      "LinearCombinationRecommender: Fit completed in 0.00 seconds.\n",
      "EvaluatorHoldout: Processed 35595 (100.0%) in 1.66 min. Users per second: 357\n"
     ]
    },
    {
     "name": "stderr",
     "output_type": "stream",
     "text": [
      "[I 2024-12-03 19:25:04,026] Trial 240 finished with value: 0.06069911950358455 and parameters: {'norm': 2, 'itemknn_weight': 0.017563409577734015, 'slim_weight': 0.8725715653986317, 'rp3beta_weight': 0.11518055315168496}. Best is trial 124 with value: 0.06076377879896466.\n"
     ]
    },
    {
     "name": "stdout",
     "output_type": "stream",
     "text": [
      "LinearCombinationRecommender: Fit completed in 0.00 seconds.\n",
      "EvaluatorHoldout: Processed 35595 (100.0%) in 1.67 min. Users per second: 355\n"
     ]
    },
    {
     "name": "stderr",
     "output_type": "stream",
     "text": [
      "[I 2024-12-03 19:26:44,542] Trial 241 finished with value: 0.06072128018693363 and parameters: {'norm': 2, 'itemknn_weight': 0.033164377312520775, 'slim_weight': 0.7865740541673547, 'rp3beta_weight': 0.10065271932438319}. Best is trial 124 with value: 0.06076377879896466.\n"
     ]
    },
    {
     "name": "stdout",
     "output_type": "stream",
     "text": [
      "LinearCombinationRecommender: Fit completed in 0.00 seconds.\n",
      "EvaluatorHoldout: Processed 35595 (100.0%) in 1.66 min. Users per second: 358\n"
     ]
    },
    {
     "name": "stderr",
     "output_type": "stream",
     "text": [
      "[I 2024-12-03 19:28:24,257] Trial 242 finished with value: 0.06074793588362724 and parameters: {'norm': 2, 'itemknn_weight': 0.029372892178473744, 'slim_weight': 0.7943401653031386, 'rp3beta_weight': 0.11833698679459478}. Best is trial 124 with value: 0.06076377879896466.\n"
     ]
    },
    {
     "name": "stdout",
     "output_type": "stream",
     "text": [
      "LinearCombinationRecommender: Fit completed in 0.00 seconds.\n",
      "EvaluatorHoldout: Processed 35595 (100.0%) in 1.65 min. Users per second: 360\n"
     ]
    },
    {
     "name": "stderr",
     "output_type": "stream",
     "text": [
      "[I 2024-12-03 19:30:03,451] Trial 243 finished with value: 0.060673209631277765 and parameters: {'norm': 2, 'itemknn_weight': 0.00011139360708311771, 'slim_weight': 0.8251284005290112, 'rp3beta_weight': 0.13906075931905662}. Best is trial 124 with value: 0.06076377879896466.\n"
     ]
    },
    {
     "name": "stdout",
     "output_type": "stream",
     "text": [
      "LinearCombinationRecommender: Fit completed in 0.00 seconds.\n",
      "EvaluatorHoldout: Processed 35595 (100.0%) in 1.65 min. Users per second: 360\n"
     ]
    },
    {
     "name": "stderr",
     "output_type": "stream",
     "text": [
      "[I 2024-12-03 19:31:42,513] Trial 244 finished with value: 0.060664001096995504 and parameters: {'norm': 2, 'itemknn_weight': 0.05012532150667425, 'slim_weight': 0.8032269881887713, 'rp3beta_weight': 0.16414417417055008}. Best is trial 124 with value: 0.06076377879896466.\n"
     ]
    },
    {
     "name": "stdout",
     "output_type": "stream",
     "text": [
      "LinearCombinationRecommender: Fit completed in 0.00 seconds.\n",
      "EvaluatorHoldout: Processed 35595 (100.0%) in 1.65 min. Users per second: 360\n"
     ]
    },
    {
     "name": "stderr",
     "output_type": "stream",
     "text": [
      "[I 2024-12-03 19:33:21,526] Trial 245 finished with value: 0.06074936175715591 and parameters: {'norm': 2, 'itemknn_weight': 0.029753701505484186, 'slim_weight': 0.8038869693583334, 'rp3beta_weight': 0.11931374360241905}. Best is trial 124 with value: 0.06076377879896466.\n"
     ]
    },
    {
     "name": "stdout",
     "output_type": "stream",
     "text": [
      "LinearCombinationRecommender: Fit completed in 0.00 seconds.\n",
      "EvaluatorHoldout: Processed 35595 (100.0%) in 1.65 min. Users per second: 360\n"
     ]
    },
    {
     "name": "stderr",
     "output_type": "stream",
     "text": [
      "[I 2024-12-03 19:35:00,653] Trial 246 finished with value: 0.06074148990962958 and parameters: {'norm': 2, 'itemknn_weight': 0.020658859882543366, 'slim_weight': 0.8056771131667451, 'rp3beta_weight': 0.13966535505987143}. Best is trial 124 with value: 0.06076377879896466.\n"
     ]
    },
    {
     "name": "stdout",
     "output_type": "stream",
     "text": [
      "LinearCombinationRecommender: Fit completed in 0.00 seconds.\n",
      "EvaluatorHoldout: Processed 35595 (100.0%) in 1.64 min. Users per second: 362\n"
     ]
    },
    {
     "name": "stderr",
     "output_type": "stream",
     "text": [
      "[I 2024-12-03 19:36:39,298] Trial 247 finished with value: 0.059175137180402515 and parameters: {'norm': inf, 'itemknn_weight': 0.015998402859782927, 'slim_weight': 0.8020160840019942, 'rp3beta_weight': 0.9500281321489791}. Best is trial 124 with value: 0.06076377879896466.\n"
     ]
    },
    {
     "name": "stdout",
     "output_type": "stream",
     "text": [
      "LinearCombinationRecommender: Fit completed in 0.00 seconds.\n",
      "EvaluatorHoldout: Processed 35595 (100.0%) in 1.66 min. Users per second: 358\n"
     ]
    },
    {
     "name": "stderr",
     "output_type": "stream",
     "text": [
      "[I 2024-12-03 19:38:18,882] Trial 248 finished with value: 0.06066249384053687 and parameters: {'norm': 2, 'itemknn_weight': 0.07636302743264253, 'slim_weight': 0.8134023359324513, 'rp3beta_weight': 0.1550899964094792}. Best is trial 124 with value: 0.06076377879896466.\n"
     ]
    },
    {
     "name": "stdout",
     "output_type": "stream",
     "text": [
      "LinearCombinationRecommender: Fit completed in 0.00 seconds.\n",
      "EvaluatorHoldout: Processed 35595 (100.0%) in 1.65 min. Users per second: 359\n"
     ]
    },
    {
     "name": "stderr",
     "output_type": "stream",
     "text": [
      "[I 2024-12-03 19:39:58,233] Trial 249 finished with value: 0.06069701023641004 and parameters: {'norm': 2, 'itemknn_weight': 0.0011766805576060475, 'slim_weight': 0.7676642169708324, 'rp3beta_weight': 0.14320360065904808}. Best is trial 124 with value: 0.06076377879896466.\n"
     ]
    }
   ],
   "source": [
    "if config['tune_parameters']:\n",
    "    \n",
    "    optuna_study = optuna.create_study(direction='maximize', study_name=f'hyperparameters_tuning_{config[\"model\"]}',\n",
    "                                storage=f'sqlite:///{config[\"database_path\"]}', load_if_exists=True)\n",
    "\n",
    "    optuna_study.optimize(objective_function_, n_trials=50)"
   ]
  },
  {
   "cell_type": "markdown",
   "id": "ac9d6a79",
   "metadata": {
    "papermill": {
     "duration": 0.022175,
     "end_time": "2024-12-03T19:39:58.284906",
     "exception": false,
     "start_time": "2024-12-03T19:39:58.262731",
     "status": "completed"
    },
    "tags": []
   },
   "source": [
    "## Some optuna visualizations on recommender parameters"
   ]
  },
  {
   "cell_type": "code",
   "execution_count": 15,
   "id": "0e9be9c5",
   "metadata": {
    "execution": {
     "iopub.execute_input": "2024-12-03T19:39:58.332046Z",
     "iopub.status.busy": "2024-12-03T19:39:58.331020Z",
     "iopub.status.idle": "2024-12-03T19:39:59.521588Z",
     "shell.execute_reply": "2024-12-03T19:39:59.520385Z"
    },
    "papermill": {
     "duration": 1.217169,
     "end_time": "2024-12-03T19:39:59.524422",
     "exception": false,
     "start_time": "2024-12-03T19:39:58.307253",
     "status": "completed"
    },
    "tags": []
   },
   "outputs": [
    {
     "data": {
      "text/html": [
       "        <script type=\"text/javascript\">\n",
       "        window.PlotlyConfig = {MathJaxConfig: 'local'};\n",
       "        if (window.MathJax && window.MathJax.Hub && window.MathJax.Hub.Config) {window.MathJax.Hub.Config({SVG: {font: \"STIX-Web\"}});}\n",
       "        if (typeof require !== 'undefined') {\n",
       "        require.undef(\"plotly\");\n",
       "        requirejs.config({\n",
       "            paths: {\n",
       "                'plotly': ['https://cdn.plot.ly/plotly-2.32.0.min']\n",
       "            }\n",
       "        });\n",
       "        require(['plotly'], function(Plotly) {\n",
       "            window._Plotly = Plotly;\n",
       "        });\n",
       "        }\n",
       "        </script>\n",
       "        "
      ]
     },
     "metadata": {},
     "output_type": "display_data"
    },
    {
     "data": {
      "text/html": [
       "<div>                            <div id=\"34825a12-1089-4286-910d-cb0b94cba662\" class=\"plotly-graph-div\" style=\"height:525px; width:1200px;\"></div>            <script type=\"text/javascript\">                require([\"plotly\"], function(Plotly) {                    window.PLOTLYENV=window.PLOTLYENV || {};                                    if (document.getElementById(\"34825a12-1089-4286-910d-cb0b94cba662\")) {                    Plotly.newPlot(                        \"34825a12-1089-4286-910d-cb0b94cba662\",                        [{\"marker\":{\"color\":[0,1,2,3,4,5,6,7,8,9,10,11,12,13,14,15,16,17,18,19,20,21,22,23,24,25,26,27,28,29,30,31,32,33,34,35,36,37,38,39,40,41,42,43,44,45,46,47,48,49,50,51,52,53,54,55,56,57,58,59,60,61,62,63,64,65,66,67,68,69,70,71,72,73,74,75,76,77,78,79,80,81,82,83,84,85,86,87,88,89,90,91,92,93,94,95,96,97,98,99,100,101,102,103,104,105,106,107,108,109,110,111,112,113,114,115,116,117,118,119,120,121,122,123,124,125,126,127,128,129,130,131,132,133,134,135,136,137,138,139,140,141,142,143,144,145,146,147,148,149,150,151,152,153,154,155,156,157,158,159,160,161,162,163,164,165,166,167,168,169,170,171,172,173,174,175,176,177,178,179,180,181,182,183,184,185,186,187,188,189,190,191,192,193,194,195,196,197,198,199,200,201,202,203,204,205,206,207,208,209,210,211,212,213,214,215,216,217,218,219,220,221,222,223,224,225,226,227,228,229,230,231,232,233,234,235,236,237,238,239,240,241,242,243,244,245,246,247,248,249],\"colorbar\":{\"title\":{\"text\":\"Trial\"},\"x\":1.0,\"xpad\":40},\"colorscale\":[[0.0,\"rgb(247,251,255)\"],[0.125,\"rgb(222,235,247)\"],[0.25,\"rgb(198,219,239)\"],[0.375,\"rgb(158,202,225)\"],[0.5,\"rgb(107,174,214)\"],[0.625,\"rgb(66,146,198)\"],[0.75,\"rgb(33,113,181)\"],[0.875,\"rgb(8,81,156)\"],[1.0,\"rgb(8,48,107)\"]],\"line\":{\"color\":\"Grey\",\"width\":0.5},\"showscale\":true},\"mode\":\"markers\",\"name\":\"Feasible Trial\",\"showlegend\":false,\"x\":[0.18407633825550507,0.33486501435544613,0.27263111361950787,0.7313914491969451,0.6507402079808057,0.39402578620034534,0.19333378818367053,0.11871651625386648,0.11366966687316815,0.7367734694930907,0.9563166237184901,0.008076793715719621,0.0038187965024023083,0.010489544101503661,0.011909051380117028,0.46686998215804887,0.023265959924455498,0.5661947251698205,0.27180525256697147,0.9268799752749638,0.12327568942689293,0.01697830034023031,0.09751592507833785,0.2095052803080889,0.08470819165236641,0.09335596817292752,0.38177581211362216,0.3021740140088794,0.20232344389339257,0.20282430515359362,0.15311927575644182,0.15546904751263094,0.08619181493013336,0.07105982945688503,0.08519881380638417,0.2611050771818979,0.06851873243041437,0.36744264352141953,0.44893396875405017,0.23492489893016427,0.06411617581876287,0.05529411608062691,0.06684357575498977,0.1404363471576465,0.049500353017653695,0.15428483583149843,0.7612949618056443,0.3210208844579115,0.05714479173737848,0.16595396195494086,0.5645615170672367,0.05124281274441474,0.11902764734076815,0.038968025720489824,0.10973927977956478,0.03914333584562384,0.0005137431607650095,0.24079595861990044,0.03805085799982759,0.03969904569881876,0.12344980687138637,0.17812417204998582,0.09525544000226896,0.04484709980355729,0.02212709734292386,0.08562529247418763,0.13121781195270119,0.17930526179946307,0.8597851920017615,0.21859218587687856,0.0026316974966722334,0.04576733325602195,0.07185022774586458,0.03634991202687646,0.033502332397328694,0.11101529597274308,0.04726466673272635,0.021271991538972197,0.14187536426653752,0.06974185394962858,0.09794549346468545,0.06474577033517676,0.05470747880861695,0.02596677689906685,0.0010152172647801133,0.02952323490690455,0.08742076436372687,0.6947589476903497,0.1107432722205269,0.02791873781757888,0.13967884013651044,0.06311934146320275,0.059141715493291835,0.08156798156351998,0.08565518273693434,0.02336265248923726,0.16926136987071186,0.042563827446106636,0.11454092894310482,0.5313025998968908,0.0007648851337543755,0.06885223884445899,0.054648751611602944,0.09903102832236838,0.08130720040332852,0.018200381277744957,0.04253021343753532,0.1345460810760135,0.18873703995260263,0.09896016930310265,0.4219646238930952,0.07414430027620451,0.0833928491071004,0.046846583398474834,0.024687921362064533,0.01480779486697715,0.6173476600690047,0.15431820717936234,0.03609497840273069,0.07846894885853459,0.12793135228046598,0.04960429290995422,0.028060162503508335,0.05031811441797329,0.050196859379022365,0.01022070205393072,0.0003139184419122566,0.07899504902315779,0.1030489477233833,0.049865576911785586,0.028214822321458225,0.0278986867249727,0.02230253559019245,0.029723476506482348,0.05989904964396847,0.06591717045711389,0.056185466906791985,0.01863024482192366,0.1151587774347093,0.053007176943608174,0.0036585746327374297,0.034017728548977486,0.04261540463303654,0.06955317460103452,0.09111754444737194,0.032192687243103306,0.06105610865892208,0.016900774672038887,0.9892209714651117,0.35384845298609796,0.09904412832781548,0.034038118978174624,0.037180101041017335,0.0008018207483391701,0.07519584268482016,0.04950286373101348,0.028626844498447702,0.020712011673699314,0.8433512960306492,0.04290199685932877,0.020004744309073213,0.023723485920320916,0.00021836146220234956,0.05516575728831773,0.03320053651413336,0.06205406034985612,0.02073966548186717,0.0934254641907548,0.04354458320833413,0.0751546632950806,0.0163842131347135,0.0707923030476025,0.03823869388987145,0.039253440005119496,0.29347013299214736,0.0501326849011288,0.04150264899211193,0.002432175991736011,0.11096166755002669,0.05894937297356602,0.08873867733752855,0.02941979409573006,0.026726449197668624,0.040440246513550916,0.06834915573839145,0.03377360600424599,0.054749981902143294,0.018679874135649872,0.08113151882907609,0.03519992144240509,0.014569881470348475,0.03991562855000571,0.03502534953395742,0.03460405165974822,0.03653161828786334,0.0005898592480198112,0.03642544948078807,0.04173099887865642,0.05707202250065098,0.03476067908623501,0.46828733754698926,0.05701674310823511,0.05530054003330073,0.032734630560229454,0.017081494084999864,0.0009161309187878733,0.030661594229444564,0.07323009384217016,0.036321040781375206,0.04048422412364222,0.06501110324691449,0.029074403721673008,0.016515000411699416,0.044972470034536326,0.047128977238212716,0.08590216423925999,0.058938841970938335,0.04138448811586837,0.01630568773916855,0.07472851727562824,0.0004471155667187185,0.035755526381815096,0.03780936299544535,0.03410856319400864,0.05562638866285649,0.02784776571505647,0.06720813429406601,0.020506433384333528,0.042643209557101436,0.0956288252870495,0.055090582062599244,0.0394005860183903,0.03923314955859241,0.019440660351445187,0.05363041335652803,0.06366584736464247,0.039201677413493244,0.013336569828238654,0.0783329567353497,0.046098005445040696,0.017563409577734015,0.033164377312520775,0.029372892178473744,0.00011139360708311771,0.05012532150667425,0.029753701505484186,0.020658859882543366,0.015998402859782927,0.07636302743264253,0.0011766805576060475],\"y\":[0.05919548179809244,0.05781476018791448,0.0596222561131938,0.056819019971146134,0.05360905647083326,0.055972823675518917,0.057227871089436895,0.05962045788488898,0.057806980871664845,0.056808841530710655,0.05891920904710422,0.059978256264810986,0.059919125434504346,0.05782761423153133,0.06004226115224615,0.05403167356749167,0.05984527767186639,0.05408495820484702,0.05585557539961074,0.05720468698787072,0.05619737478734342,0.06016774471177961,0.06009670856215107,0.05935024537510621,0.060686789432257665,0.06066025971188052,0.05991358247658085,0.05993096274891275,0.06043018459432111,0.06036042938971544,0.060648866101666664,0.060656382316936854,0.060706243297054936,0.06068059652572753,0.06054714970222583,0.05926224924581215,0.06060882792972793,0.060104740945868304,0.056958695375886916,0.06039237051752671,0.060695199744924176,0.060695341328925824,0.06062886262338268,0.060460292933953254,0.06066056517657706,0.060235883406129974,0.058241368392651795,0.059751669464899716,0.059945930519042484,0.06036014733654655,0.05638706724905429,0.06070211171980916,0.06063802099010526,0.060748808799165124,0.06067749728537595,0.06066778596066251,0.06065248039563068,0.05978682912037108,0.06071052537697966,0.0606837492781428,0.06047790063255542,0.06028855599925795,0.06004436818975175,0.060658011090373436,0.060220212175330044,0.058156740178862076,0.060261488928575156,0.060292418901351,0.058673272062018514,0.05932972572837513,0.060348118270577504,0.060715862090491735,0.06068747728524222,0.06074634167006506,0.06067668903024824,0.060290014202991585,0.05934093427603544,0.06060735969248235,0.05683421405271192,0.05982914824402186,0.06056226128602683,0.0606990983217263,0.06069970256211141,0.06073039730477387,0.06069311388927726,0.06064793075538789,0.060690160692266,0.058793872645745975,0.060608577091929815,0.0600338932032966,0.06058247212355764,0.06069935696336713,0.06069021977850301,0.0607164473786877,0.06067847276570247,0.060676654470373646,0.060504392448554115,0.060566760758710106,0.06059645326501448,0.05965553727226528,0.060678612120034676,0.06069330006666547,0.060750782056511486,0.06057347094852197,0.06071118981843634,0.06065044470754363,0.05997109902630144,0.06054546741672575,0.060604571491000465,0.0606157889573381,0.05963243566846406,0.06071375505298655,0.060695917698444554,0.06070810841543924,0.06071317533896365,0.06061939210295562,0.057607043079439,0.05696927181229559,0.05695447795637233,0.06045443001848189,0.060654829352257064,0.06070764018488246,0.060656747982704935,0.06072579861180623,0.06076377879896466,0.06066071233475183,0.06055807173737884,0.05942024026916346,0.060469250630436906,0.060753205707059874,0.060748289286214105,0.06075380994744487,0.0607203782856946,0.06069210050457249,0.060720633582831675,0.06069833354515033,0.06069814290842358,0.060696243230164655,0.06066152393438368,0.06063528964519109,0.060623262808891,0.06073313533869613,0.06066261424267988,0.060693091592584306,0.06067941926032786,0.060712040437280956,0.06067092979440051,0.06069613397636808,0.05816015714709155,0.05517874367052463,0.06002877388254337,0.060733739579081195,0.060713378238871636,0.06059329159392184,0.060690981210575035,0.06066203675832656,0.06071495238540983,0.06071046071656918,0.05845857608857843,0.06069958996381083,0.06071584425313692,0.060704723777414704,0.06065415599212298,0.06070372823006456,0.060618182507350696,0.06065391853234071,0.06069537477396539,0.06067962104540111,0.06070704709284399,0.060684201901014374,0.06066301223865303,0.060706733824304956,0.06074187006824844,0.06073729590164311,0.05994991828261743,0.06070338040165102,0.06070055206612138,0.06066589520108096,0.060696241000495504,0.05888221660345359,0.06063433980606162,0.06072505724675788,0.06075403737371521,0.06070913517816007,0.0606874048209893,0.06070455209287734,0.05914123505842653,0.060181840681206356,0.060678191827368444,0.06075623917216665,0.06065635667573954,0.06074609752127484,0.06076224144196995,0.06075623359799328,0.06074572516649879,0.06064089391902109,0.06075086120977226,0.06068943270523388,0.06074403061781734,0.06063713581138604,0.05933510034626593,0.06068103688541793,0.06069077608099776,0.060731111913790124,0.06063109229270035,0.060635862670205584,0.060709504188431906,0.06067484286405321,0.060732342691253764,0.06071725340414586,0.060664526184120014,0.06072558790805557,0.06069087641611684,0.060730813138101726,0.06072341509530548,0.06068816402339199,0.0606717949060957,0.060709567734007625,0.06068871698138262,0.06065414595861115,0.060628976336517724,0.060738307056678695,0.06074828259720627,0.06066776923814249,0.06072248532320009,0.06066178034635508,0.060692879773999085,0.060222871055991695,0.060747004996687066,0.060674179537431115,0.06066598438785366,0.0607312746796504,0.06070228117467738,0.06010620583860988,0.06069510721364754,0.05950675255352672,0.06070895234527599,0.060624985228438996,0.06047310015451386,0.06071990559579939,0.06069911950358455,0.06072128018693363,0.06074793588362724,0.060673209631277765,0.060664001096995504,0.06074936175715591,0.06074148990962958,0.059175137180402515,0.06066249384053687,0.06069701023641004],\"type\":\"scatter\",\"xaxis\":\"x\",\"yaxis\":\"y\"},{\"marker\":{\"color\":[0,1,2,3,4,5,6,7,8,9,10,11,12,13,14,15,16,17,18,19,20,21,22,23,24,25,26,27,28,29,30,31,32,33,34,35,36,37,38,39,40,41,42,43,44,45,46,47,48,49,50,51,52,53,54,55,56,57,58,59,60,61,62,63,64,65,66,67,68,69,70,71,72,73,74,75,76,77,78,79,80,81,82,83,84,85,86,87,88,89,90,91,92,93,94,95,96,97,98,99,100,101,102,103,104,105,106,107,108,109,110,111,112,113,114,115,116,117,118,119,120,121,122,123,124,125,126,127,128,129,130,131,132,133,134,135,136,137,138,139,140,141,142,143,144,145,146,147,148,149,150,151,152,153,154,155,156,157,158,159,160,161,162,163,164,165,166,167,168,169,170,171,172,173,174,175,176,177,178,179,180,181,182,183,184,185,186,187,188,189,190,191,192,193,194,195,196,197,198,199,200,201,202,203,204,205,206,207,208,209,210,211,212,213,214,215,216,217,218,219,220,221,222,223,224,225,226,227,228,229,230,231,232,233,234,235,236,237,238,239,240,241,242,243,244,245,246,247,248,249],\"colorbar\":{\"title\":{\"text\":\"Trial\"},\"x\":1.0,\"xpad\":40},\"colorscale\":[[0.0,\"rgb(247,251,255)\"],[0.125,\"rgb(222,235,247)\"],[0.25,\"rgb(198,219,239)\"],[0.375,\"rgb(158,202,225)\"],[0.5,\"rgb(107,174,214)\"],[0.625,\"rgb(66,146,198)\"],[0.75,\"rgb(33,113,181)\"],[0.875,\"rgb(8,81,156)\"],[1.0,\"rgb(8,48,107)\"]],\"line\":{\"color\":\"Grey\",\"width\":0.5},\"showscale\":false},\"mode\":\"markers\",\"name\":\"Feasible Trial\",\"showlegend\":false,\"x\":[2,2,null,1,null,1,null,null,1,1,null,null,null,null,null,null,null,null,null,2,null,null,null,null,null,null,null,null,null,2,null,null,null,null,2,null,null,null,1,null,2,2,2,2,2,2,2,2,1,2,2,2,2,2,2,2,2,2,2,2,2,2,1,2,2,null,2,2,2,1,2,2,2,2,2,2,2,2,null,2,2,2,2,2,2,2,2,2,2,null,2,2,2,2,2,2,2,1,2,null,2,2,2,2,2,2,2,2,null,2,2,2,2,2,2,2,1,null,2,2,null,2,2,2,2,2,2,2,2,2,2,2,2,2,2,2,2,2,2,2,2,2,2,2,2,2,2,2,2,null,1,2,2,2,2,2,2,2,2,2,2,2,2,2,2,2,2,2,2,2,2,2,2,2,2,2,2,2,2,1,2,2,2,2,2,2,null,2,2,2,2,2,2,2,2,2,2,2,2,2,2,2,2,2,2,2,2,2,2,2,2,2,2,2,2,2,2,2,2,2,1,2,2,2,2,2,2,null,2,2,2,2,2,2,2,2,2,2,2,2,2,2,2,2,2,2,2,null,2,2],\"y\":[0.05919548179809244,0.05781476018791448,0.0596222561131938,0.056819019971146134,0.05360905647083326,0.055972823675518917,0.057227871089436895,0.05962045788488898,0.057806980871664845,0.056808841530710655,0.05891920904710422,0.059978256264810986,0.059919125434504346,0.05782761423153133,0.06004226115224615,0.05403167356749167,0.05984527767186639,0.05408495820484702,0.05585557539961074,0.05720468698787072,0.05619737478734342,0.06016774471177961,0.06009670856215107,0.05935024537510621,0.060686789432257665,0.06066025971188052,0.05991358247658085,0.05993096274891275,0.06043018459432111,0.06036042938971544,0.060648866101666664,0.060656382316936854,0.060706243297054936,0.06068059652572753,0.06054714970222583,0.05926224924581215,0.06060882792972793,0.060104740945868304,0.056958695375886916,0.06039237051752671,0.060695199744924176,0.060695341328925824,0.06062886262338268,0.060460292933953254,0.06066056517657706,0.060235883406129974,0.058241368392651795,0.059751669464899716,0.059945930519042484,0.06036014733654655,0.05638706724905429,0.06070211171980916,0.06063802099010526,0.060748808799165124,0.06067749728537595,0.06066778596066251,0.06065248039563068,0.05978682912037108,0.06071052537697966,0.0606837492781428,0.06047790063255542,0.06028855599925795,0.06004436818975175,0.060658011090373436,0.060220212175330044,0.058156740178862076,0.060261488928575156,0.060292418901351,0.058673272062018514,0.05932972572837513,0.060348118270577504,0.060715862090491735,0.06068747728524222,0.06074634167006506,0.06067668903024824,0.060290014202991585,0.05934093427603544,0.06060735969248235,0.05683421405271192,0.05982914824402186,0.06056226128602683,0.0606990983217263,0.06069970256211141,0.06073039730477387,0.06069311388927726,0.06064793075538789,0.060690160692266,0.058793872645745975,0.060608577091929815,0.0600338932032966,0.06058247212355764,0.06069935696336713,0.06069021977850301,0.0607164473786877,0.06067847276570247,0.060676654470373646,0.060504392448554115,0.060566760758710106,0.06059645326501448,0.05965553727226528,0.060678612120034676,0.06069330006666547,0.060750782056511486,0.06057347094852197,0.06071118981843634,0.06065044470754363,0.05997109902630144,0.06054546741672575,0.060604571491000465,0.0606157889573381,0.05963243566846406,0.06071375505298655,0.060695917698444554,0.06070810841543924,0.06071317533896365,0.06061939210295562,0.057607043079439,0.05696927181229559,0.05695447795637233,0.06045443001848189,0.060654829352257064,0.06070764018488246,0.060656747982704935,0.06072579861180623,0.06076377879896466,0.06066071233475183,0.06055807173737884,0.05942024026916346,0.060469250630436906,0.060753205707059874,0.060748289286214105,0.06075380994744487,0.0607203782856946,0.06069210050457249,0.060720633582831675,0.06069833354515033,0.06069814290842358,0.060696243230164655,0.06066152393438368,0.06063528964519109,0.060623262808891,0.06073313533869613,0.06066261424267988,0.060693091592584306,0.06067941926032786,0.060712040437280956,0.06067092979440051,0.06069613397636808,0.05816015714709155,0.05517874367052463,0.06002877388254337,0.060733739579081195,0.060713378238871636,0.06059329159392184,0.060690981210575035,0.06066203675832656,0.06071495238540983,0.06071046071656918,0.05845857608857843,0.06069958996381083,0.06071584425313692,0.060704723777414704,0.06065415599212298,0.06070372823006456,0.060618182507350696,0.06065391853234071,0.06069537477396539,0.06067962104540111,0.06070704709284399,0.060684201901014374,0.06066301223865303,0.060706733824304956,0.06074187006824844,0.06073729590164311,0.05994991828261743,0.06070338040165102,0.06070055206612138,0.06066589520108096,0.060696241000495504,0.05888221660345359,0.06063433980606162,0.06072505724675788,0.06075403737371521,0.06070913517816007,0.0606874048209893,0.06070455209287734,0.05914123505842653,0.060181840681206356,0.060678191827368444,0.06075623917216665,0.06065635667573954,0.06074609752127484,0.06076224144196995,0.06075623359799328,0.06074572516649879,0.06064089391902109,0.06075086120977226,0.06068943270523388,0.06074403061781734,0.06063713581138604,0.05933510034626593,0.06068103688541793,0.06069077608099776,0.060731111913790124,0.06063109229270035,0.060635862670205584,0.060709504188431906,0.06067484286405321,0.060732342691253764,0.06071725340414586,0.060664526184120014,0.06072558790805557,0.06069087641611684,0.060730813138101726,0.06072341509530548,0.06068816402339199,0.0606717949060957,0.060709567734007625,0.06068871698138262,0.06065414595861115,0.060628976336517724,0.060738307056678695,0.06074828259720627,0.06066776923814249,0.06072248532320009,0.06066178034635508,0.060692879773999085,0.060222871055991695,0.060747004996687066,0.060674179537431115,0.06066598438785366,0.0607312746796504,0.06070228117467738,0.06010620583860988,0.06069510721364754,0.05950675255352672,0.06070895234527599,0.060624985228438996,0.06047310015451386,0.06071990559579939,0.06069911950358455,0.06072128018693363,0.06074793588362724,0.060673209631277765,0.060664001096995504,0.06074936175715591,0.06074148990962958,0.059175137180402515,0.06066249384053687,0.06069701023641004],\"type\":\"scatter\",\"xaxis\":\"x2\",\"yaxis\":\"y2\"},{\"marker\":{\"color\":[0,1,2,3,4,5,6,7,8,9,10,11,12,13,14,15,16,17,18,19,20,21,22,23,24,25,26,27,28,29,30,31,32,33,34,35,36,37,38,39,40,41,42,43,44,45,46,47,48,49,50,51,52,53,54,55,56,57,58,59,60,61,62,63,64,65,66,67,68,69,70,71,72,73,74,75,76,77,78,79,80,81,82,83,84,85,86,87,88,89,90,91,92,93,94,95,96,97,98,99,100,101,102,103,104,105,106,107,108,109,110,111,112,113,114,115,116,117,118,119,120,121,122,123,124,125,126,127,128,129,130,131,132,133,134,135,136,137,138,139,140,141,142,143,144,145,146,147,148,149,150,151,152,153,154,155,156,157,158,159,160,161,162,163,164,165,166,167,168,169,170,171,172,173,174,175,176,177,178,179,180,181,182,183,184,185,186,187,188,189,190,191,192,193,194,195,196,197,198,199,200,201,202,203,204,205,206,207,208,209,210,211,212,213,214,215,216,217,218,219,220,221,222,223,224,225,226,227,228,229,230,231,232,233,234,235,236,237,238,239,240,241,242,243,244,245,246,247,248,249],\"colorbar\":{\"title\":{\"text\":\"Trial\"},\"x\":1.0,\"xpad\":40},\"colorscale\":[[0.0,\"rgb(247,251,255)\"],[0.125,\"rgb(222,235,247)\"],[0.25,\"rgb(198,219,239)\"],[0.375,\"rgb(158,202,225)\"],[0.5,\"rgb(107,174,214)\"],[0.625,\"rgb(66,146,198)\"],[0.75,\"rgb(33,113,181)\"],[0.875,\"rgb(8,81,156)\"],[1.0,\"rgb(8,48,107)\"]],\"line\":{\"color\":\"Grey\",\"width\":0.5},\"showscale\":false},\"mode\":\"markers\",\"name\":\"Feasible Trial\",\"showlegend\":false,\"x\":[0.8846451650010237,0.19760465213234824,0.5570228576408808,0.8972595757595578,0.34841568168763837,0.14058431735780796,0.5281552071776284,0.29056238600381334,0.5845019531729686,0.5512679477856419,0.7524841408042768,0.33023382882918545,0.39377484440168775,0.03426993870887396,0.3966280494953967,0.4038287316981189,0.2018494860638652,0.7355915684009668,0.6806539004004459,0.007734850493273493,0.45222715574002004,0.3022386723659505,0.29577188744753036,0.2495821837168463,0.12213880168404356,0.10056394452028139,0.10008934988008997,0.12269258212219626,0.0760887496372922,0.06914309714703379,0.17811822296316218,0.1678601882246965,0.18162767695170956,0.22967799380240728,0.2322736002809147,0.9711878481076289,0.2202882794572929,0.14802297815603774,0.032554367889455746,0.2560735943030327,0.08979953168376878,0.10368651650218606,0.17499879649329236,0.000011735618957370297,0.06611792982012697,0.1307683617412427,0.3499859568575206,0.046510929625994124,0.2588468045971987,0.19823456587592325,0.49412863886391056,0.07938064425941271,0.10156558526742938,0.14115483981578023,0.13916250787719497,0.04631110458416998,0.09731973665894374,0.5963389335914184,0.16079164353709163,0.17789646280658944,0.025850808844304102,0.13069324529067983,0.09059928361112946,0.15951891704641016,0.2787487480614839,0.20718476157285834,0.059631344469782854,0.12130150249421072,0.3174464959711416,0.18714691126116287,0.010367191699290818,0.1594752830895111,0.1468832562959366,0.15387567765070095,0.07870197181067651,0.37320341037998567,0.7835017756962238,0.236558019774609,0.11018175214968084,0.2731710388808968,0.20152086421132537,0.14413730585094597,0.156961233077764,0.14956163593528218,0.1643199747954464,0.21791154895798268,0.15352584522128146,0.18725470664955754,0.25249189478665596,0.4372885329273721,0.0669089927745322,0.11868264822992844,0.14016329778510458,0.11925884793937422,0.17017198548859547,0.11323344689659774,0.04963161357047155,0.08253250401352812,0.22308171380110128,0.11954002576745035,0.19377175497543075,0.1543254979920733,0.1311686533180208,0.018103735527841974,0.128080402801301,0.08888254520594911,0.17152913704731107,0.04448991325883858,0.1316206833479005,0.2039244307809439,0.06862496209592196,0.10906996913071634,0.1050113011882024,0.1822260371036932,0.1788770892883611,0.23784696246202447,0.6392368324923556,0.21414043562789695,0.18112421212610186,0.26800482025789274,0.13858606914185656,0.162700539424199,0.18891849817944212,0.17084420767231331,0.13200495195196793,0.1266903759991584,0.09542742915912977,0.8580899481423909,0.2965771606141462,0.14151555712239314,0.1444581080221795,0.14928486717143738,0.13937687613553076,0.10735705574576865,0.14310418952319665,0.14268092066278557,0.08708704690995704,0.15255729556268796,0.1235338903614584,0.057776063778325615,0.10597794473379024,0.16479924288959638,0.20611609153584232,0.1466482464139673,0.17021934599669436,0.12082189702516857,0.0775109208773117,0.14076763128924882,0.22691412906764497,0.1559449299101403,0.1938288686637028,0.1714334855006142,0.16703557573395736,0.1052209539804514,0.13313008652595615,0.20148733131295338,0.1154216888858007,0.16297900120660214,0.14004416263858357,0.08875692569935428,0.17818843538703455,0.18161817288244153,0.13056901163300738,0.15264080706286626,0.24500477218283195,0.21409226678930887,0.11539296381824615,0.17148586624406204,0.1915436367422653,0.1531593563680425,0.11913153881107064,0.09775481784235854,0.1394334082886131,0.13829234265897344,0.16823825953631077,0.14155091759768584,0.18020605943483403,0.13525008489465012,0.15576241527014226,0.5308856507371855,0.20295297527473416,0.1193828038229389,0.12930590843395112,0.07383058327335315,0.12941566535173826,0.09755248379208276,0.14621213663605892,0.11610289148835516,0.15960421811912331,0.13280740045597011,0.09385916266215895,0.12782018235112602,0.1289437994452132,0.13391993154550424,0.13040765408675398,0.12518430490358184,0.0843409379070065,0.0683830708318529,0.09923699895719275,0.038939999578766066,0.0862444659385102,0.10879960059304565,0.13681355079051025,0.10494403148311067,0.061675785368598204,0.09427652234441733,0.10113632593509411,0.0804797163796856,0.1289699105831966,0.12453547988786634,0.052433953752056714,0.14859389312768284,0.10620979483174132,0.13194075899114455,0.1296616408218472,0.11518065829742562,0.15041669307554198,0.0752334933017639,0.13214312043135656,0.1650883867629002,0.09634105659885686,0.1476280799295499,0.13915750887525194,0.1573556555240736,0.11746585101898538,0.17564594948457304,0.1338969517349276,0.15319727723945573,0.10864545868524246,0.1483145455482133,0.18245827542192772,0.1106156497469671,0.11702957178004593,0.4749252004162464,0.13353884094446142,0.730823834928476,0.10148822979484065,0.0808501301783991,0.15906090840228124,0.13414056518452436,0.11518055315168496,0.10065271932438319,0.11833698679459478,0.13906075931905662,0.16414417417055008,0.11931374360241905,0.13966535505987143,0.9500281321489791,0.1550899964094792,0.14320360065904808],\"y\":[0.05919548179809244,0.05781476018791448,0.0596222561131938,0.056819019971146134,0.05360905647083326,0.055972823675518917,0.057227871089436895,0.05962045788488898,0.057806980871664845,0.056808841530710655,0.05891920904710422,0.059978256264810986,0.059919125434504346,0.05782761423153133,0.06004226115224615,0.05403167356749167,0.05984527767186639,0.05408495820484702,0.05585557539961074,0.05720468698787072,0.05619737478734342,0.06016774471177961,0.06009670856215107,0.05935024537510621,0.060686789432257665,0.06066025971188052,0.05991358247658085,0.05993096274891275,0.06043018459432111,0.06036042938971544,0.060648866101666664,0.060656382316936854,0.060706243297054936,0.06068059652572753,0.06054714970222583,0.05926224924581215,0.06060882792972793,0.060104740945868304,0.056958695375886916,0.06039237051752671,0.060695199744924176,0.060695341328925824,0.06062886262338268,0.060460292933953254,0.06066056517657706,0.060235883406129974,0.058241368392651795,0.059751669464899716,0.059945930519042484,0.06036014733654655,0.05638706724905429,0.06070211171980916,0.06063802099010526,0.060748808799165124,0.06067749728537595,0.06066778596066251,0.06065248039563068,0.05978682912037108,0.06071052537697966,0.0606837492781428,0.06047790063255542,0.06028855599925795,0.06004436818975175,0.060658011090373436,0.060220212175330044,0.058156740178862076,0.060261488928575156,0.060292418901351,0.058673272062018514,0.05932972572837513,0.060348118270577504,0.060715862090491735,0.06068747728524222,0.06074634167006506,0.06067668903024824,0.060290014202991585,0.05934093427603544,0.06060735969248235,0.05683421405271192,0.05982914824402186,0.06056226128602683,0.0606990983217263,0.06069970256211141,0.06073039730477387,0.06069311388927726,0.06064793075538789,0.060690160692266,0.058793872645745975,0.060608577091929815,0.0600338932032966,0.06058247212355764,0.06069935696336713,0.06069021977850301,0.0607164473786877,0.06067847276570247,0.060676654470373646,0.060504392448554115,0.060566760758710106,0.06059645326501448,0.05965553727226528,0.060678612120034676,0.06069330006666547,0.060750782056511486,0.06057347094852197,0.06071118981843634,0.06065044470754363,0.05997109902630144,0.06054546741672575,0.060604571491000465,0.0606157889573381,0.05963243566846406,0.06071375505298655,0.060695917698444554,0.06070810841543924,0.06071317533896365,0.06061939210295562,0.057607043079439,0.05696927181229559,0.05695447795637233,0.06045443001848189,0.060654829352257064,0.06070764018488246,0.060656747982704935,0.06072579861180623,0.06076377879896466,0.06066071233475183,0.06055807173737884,0.05942024026916346,0.060469250630436906,0.060753205707059874,0.060748289286214105,0.06075380994744487,0.0607203782856946,0.06069210050457249,0.060720633582831675,0.06069833354515033,0.06069814290842358,0.060696243230164655,0.06066152393438368,0.06063528964519109,0.060623262808891,0.06073313533869613,0.06066261424267988,0.060693091592584306,0.06067941926032786,0.060712040437280956,0.06067092979440051,0.06069613397636808,0.05816015714709155,0.05517874367052463,0.06002877388254337,0.060733739579081195,0.060713378238871636,0.06059329159392184,0.060690981210575035,0.06066203675832656,0.06071495238540983,0.06071046071656918,0.05845857608857843,0.06069958996381083,0.06071584425313692,0.060704723777414704,0.06065415599212298,0.06070372823006456,0.060618182507350696,0.06065391853234071,0.06069537477396539,0.06067962104540111,0.06070704709284399,0.060684201901014374,0.06066301223865303,0.060706733824304956,0.06074187006824844,0.06073729590164311,0.05994991828261743,0.06070338040165102,0.06070055206612138,0.06066589520108096,0.060696241000495504,0.05888221660345359,0.06063433980606162,0.06072505724675788,0.06075403737371521,0.06070913517816007,0.0606874048209893,0.06070455209287734,0.05914123505842653,0.060181840681206356,0.060678191827368444,0.06075623917216665,0.06065635667573954,0.06074609752127484,0.06076224144196995,0.06075623359799328,0.06074572516649879,0.06064089391902109,0.06075086120977226,0.06068943270523388,0.06074403061781734,0.06063713581138604,0.05933510034626593,0.06068103688541793,0.06069077608099776,0.060731111913790124,0.06063109229270035,0.060635862670205584,0.060709504188431906,0.06067484286405321,0.060732342691253764,0.06071725340414586,0.060664526184120014,0.06072558790805557,0.06069087641611684,0.060730813138101726,0.06072341509530548,0.06068816402339199,0.0606717949060957,0.060709567734007625,0.06068871698138262,0.06065414595861115,0.060628976336517724,0.060738307056678695,0.06074828259720627,0.06066776923814249,0.06072248532320009,0.06066178034635508,0.060692879773999085,0.060222871055991695,0.060747004996687066,0.060674179537431115,0.06066598438785366,0.0607312746796504,0.06070228117467738,0.06010620583860988,0.06069510721364754,0.05950675255352672,0.06070895234527599,0.060624985228438996,0.06047310015451386,0.06071990559579939,0.06069911950358455,0.06072128018693363,0.06074793588362724,0.060673209631277765,0.060664001096995504,0.06074936175715591,0.06074148990962958,0.059175137180402515,0.06066249384053687,0.06069701023641004],\"type\":\"scatter\",\"xaxis\":\"x3\",\"yaxis\":\"y3\"},{\"marker\":{\"color\":[0,1,2,3,4,5,6,7,8,9,10,11,12,13,14,15,16,17,18,19,20,21,22,23,24,25,26,27,28,29,30,31,32,33,34,35,36,37,38,39,40,41,42,43,44,45,46,47,48,49,50,51,52,53,54,55,56,57,58,59,60,61,62,63,64,65,66,67,68,69,70,71,72,73,74,75,76,77,78,79,80,81,82,83,84,85,86,87,88,89,90,91,92,93,94,95,96,97,98,99,100,101,102,103,104,105,106,107,108,109,110,111,112,113,114,115,116,117,118,119,120,121,122,123,124,125,126,127,128,129,130,131,132,133,134,135,136,137,138,139,140,141,142,143,144,145,146,147,148,149,150,151,152,153,154,155,156,157,158,159,160,161,162,163,164,165,166,167,168,169,170,171,172,173,174,175,176,177,178,179,180,181,182,183,184,185,186,187,188,189,190,191,192,193,194,195,196,197,198,199,200,201,202,203,204,205,206,207,208,209,210,211,212,213,214,215,216,217,218,219,220,221,222,223,224,225,226,227,228,229,230,231,232,233,234,235,236,237,238,239,240,241,242,243,244,245,246,247,248,249],\"colorbar\":{\"title\":{\"text\":\"Trial\"},\"x\":1.0,\"xpad\":40},\"colorscale\":[[0.0,\"rgb(247,251,255)\"],[0.125,\"rgb(222,235,247)\"],[0.25,\"rgb(198,219,239)\"],[0.375,\"rgb(158,202,225)\"],[0.5,\"rgb(107,174,214)\"],[0.625,\"rgb(66,146,198)\"],[0.75,\"rgb(33,113,181)\"],[0.875,\"rgb(8,81,156)\"],[1.0,\"rgb(8,48,107)\"]],\"line\":{\"color\":\"Grey\",\"width\":0.5},\"showscale\":false},\"mode\":\"markers\",\"name\":\"Feasible Trial\",\"showlegend\":false,\"x\":[0.8414622729125448,0.23945033702990515,0.7033880645743561,0.7135990135791926,0.36948652240944924,0.26245073978090394,0.15060023252299004,0.3537887485619946,0.5449731950170983,0.7098521576975315,0.9944468947847904,0.49417297603020566,0.5709647839898018,0.013536619028757246,0.5317230414761719,0.44140710828016694,0.5878947450554085,0.4614756297502685,0.8489724397825975,0.638550997865169,0.42575918661973794,0.5360559188143548,0.5126868921496464,0.32630168272096427,0.6228447128623491,0.641438938712605,0.8257168031207609,0.6434074643685719,0.7466920985153737,0.8547755884917275,0.9268927976645873,0.9697250510035971,0.9899433776091664,0.9692092580333972,0.7957377349618633,0.8946561610960522,0.7692750298933791,0.9252488118279721,0.6451077778751788,0.9507893497692887,0.6952158361889265,0.6720426249853382,0.7095910413614872,0.9955086772491624,0.888181188285058,0.5958637091243617,0.6836059370657829,0.76338859308029,0.881919046761307,0.8082459519250502,0.1413008409750932,0.8925965321885168,0.9426254990944776,0.9963767362707919,0.9983489142344593,0.5977866840236807,0.695875974111354,0.9042052176313613,0.84487574761383,0.8457064858201047,0.8679981812234664,0.7386747463985482,0.789880740902285,0.6742805841614085,0.558373644238673,0.8291556663766556,0.4843314735866037,0.7378206717978385,0.9694472971093789,0.9203959306840326,0.6186134278833173,0.844825464212551,0.9576323653998107,0.935577619201285,0.9169238173084882,0.8678174065326648,0.8129542637588871,0.9464786329797072,0.8395658922311482,0.40000638186882614,0.7756534334721663,0.9664498289142505,0.8989944031435776,0.8922199085834056,0.9009273958005107,0.9826058042720791,0.9383070882933758,0.8769068131140162,0.9748889035854387,0.9009983278278926,0.9233678672142298,0.8524566367347931,0.8541428614485306,0.9970145789400643,0.945495230245295,0.9901804757462552,0.8880967139637241,0.8270874213857192,0.9122738069949299,0.8632121351121029,0.996637707891275,0.9622363297472872,0.9333493456965236,0.9331910036205737,0.8903326687920369,0.8940662789581106,0.2824221426859535,0.8100660697777393,0.9561403289975091,0.9335249144602317,0.8772055277462034,0.8568412321599972,0.9816500226171655,0.9184845552413277,0.9127452110448661,0.9462158289424049,0.9997108582155648,0.9173952752302207,0.0465965502700737,0.7835987044635975,0.8398392370237926,0.8681396066199326,0.8792404662576954,0.971711886605203,0.913619713884121,0.9186285341488264,0.9665957989503563,0.9341313888574853,0.9062106700274275,0.9502039305354342,0.9543396017409197,0.9565382603595985,0.956034554594975,0.9725263759441176,0.9536130851289856,0.9558147825492354,0.9826813625812941,0.9454863926114521,0.9728978841415477,0.9992553293959374,0.9507976841702545,0.931109453621666,0.9392070463693003,0.9681312964576123,0.935399204119123,0.9601098499515224,0.9770224337489425,0.9309668534813444,0.9073276247934232,0.9843072977246718,0.9453934401162589,0.91063167856302,0.8925297069496255,0.9597466076233702,0.998813055260068,0.9238827370247127,0.8639340361996861,0.8781262180065683,0.9112476084226385,0.9534731621227122,0.9271730015506231,0.9314202307622352,0.977963819827531,0.8980586062497782,0.9275145234210069,0.9621506026586543,0.8832837469504673,0.9456462433878113,0.9993269707465692,0.905296349142541,0.9748426682594357,0.8508665356288635,0.8591726350204462,0.82203451643559,0.8049814488553836,0.832802602189152,0.9205582013313676,0.9502835740768899,0.929831949075035,0.885447791931899,0.9771786702050135,0.8670744452615328,0.8238699522946727,0.7532677922082669,0.8141235954288237,0.8393238923193973,0.8703051209931134,0.214521738386788,0.8949684015409102,0.7936370168391682,0.7881916218490436,0.8184363673009852,0.8135110293261227,0.8255176451254922,0.8168745542660533,0.8197451413122276,0.7241661952681222,0.792052170833838,0.8209709622164788,0.7653418749690175,0.7995396230439465,0.723033143800891,0.8230030697721338,0.7848231754707613,0.8018340431877594,0.7811431713245741,0.7704559544632352,0.8198581873659557,0.7369802550560581,0.7348592366083294,0.760471646993534,0.8392855139490878,0.7978886686524035,0.8301710499613454,0.8248253990040855,0.7819343880971231,0.8115010763775676,0.7523213368923427,0.8442011066318275,0.8273679710655197,0.7958597465469957,0.8417671208330729,0.8495376679222613,0.7122570988788305,0.8571057503291284,0.8060768287989,0.8511231442497881,0.781120737070108,0.8388016379145855,0.8451301656527894,0.8578897954630034,0.8384839126280402,0.6563405518083566,0.8164207398096014,0.8276528706845109,0.8378687160139598,0.864432993823031,0.8345471198496118,0.5136411931915602,0.8167111414057553,0.8725715653986317,0.7865740541673547,0.7943401653031386,0.8251284005290112,0.8032269881887713,0.8038869693583334,0.8056771131667451,0.8020160840019942,0.8134023359324513,0.7676642169708324],\"y\":[0.05919548179809244,0.05781476018791448,0.0596222561131938,0.056819019971146134,0.05360905647083326,0.055972823675518917,0.057227871089436895,0.05962045788488898,0.057806980871664845,0.056808841530710655,0.05891920904710422,0.059978256264810986,0.059919125434504346,0.05782761423153133,0.06004226115224615,0.05403167356749167,0.05984527767186639,0.05408495820484702,0.05585557539961074,0.05720468698787072,0.05619737478734342,0.06016774471177961,0.06009670856215107,0.05935024537510621,0.060686789432257665,0.06066025971188052,0.05991358247658085,0.05993096274891275,0.06043018459432111,0.06036042938971544,0.060648866101666664,0.060656382316936854,0.060706243297054936,0.06068059652572753,0.06054714970222583,0.05926224924581215,0.06060882792972793,0.060104740945868304,0.056958695375886916,0.06039237051752671,0.060695199744924176,0.060695341328925824,0.06062886262338268,0.060460292933953254,0.06066056517657706,0.060235883406129974,0.058241368392651795,0.059751669464899716,0.059945930519042484,0.06036014733654655,0.05638706724905429,0.06070211171980916,0.06063802099010526,0.060748808799165124,0.06067749728537595,0.06066778596066251,0.06065248039563068,0.05978682912037108,0.06071052537697966,0.0606837492781428,0.06047790063255542,0.06028855599925795,0.06004436818975175,0.060658011090373436,0.060220212175330044,0.058156740178862076,0.060261488928575156,0.060292418901351,0.058673272062018514,0.05932972572837513,0.060348118270577504,0.060715862090491735,0.06068747728524222,0.06074634167006506,0.06067668903024824,0.060290014202991585,0.05934093427603544,0.06060735969248235,0.05683421405271192,0.05982914824402186,0.06056226128602683,0.0606990983217263,0.06069970256211141,0.06073039730477387,0.06069311388927726,0.06064793075538789,0.060690160692266,0.058793872645745975,0.060608577091929815,0.0600338932032966,0.06058247212355764,0.06069935696336713,0.06069021977850301,0.0607164473786877,0.06067847276570247,0.060676654470373646,0.060504392448554115,0.060566760758710106,0.06059645326501448,0.05965553727226528,0.060678612120034676,0.06069330006666547,0.060750782056511486,0.06057347094852197,0.06071118981843634,0.06065044470754363,0.05997109902630144,0.06054546741672575,0.060604571491000465,0.0606157889573381,0.05963243566846406,0.06071375505298655,0.060695917698444554,0.06070810841543924,0.06071317533896365,0.06061939210295562,0.057607043079439,0.05696927181229559,0.05695447795637233,0.06045443001848189,0.060654829352257064,0.06070764018488246,0.060656747982704935,0.06072579861180623,0.06076377879896466,0.06066071233475183,0.06055807173737884,0.05942024026916346,0.060469250630436906,0.060753205707059874,0.060748289286214105,0.06075380994744487,0.0607203782856946,0.06069210050457249,0.060720633582831675,0.06069833354515033,0.06069814290842358,0.060696243230164655,0.06066152393438368,0.06063528964519109,0.060623262808891,0.06073313533869613,0.06066261424267988,0.060693091592584306,0.06067941926032786,0.060712040437280956,0.06067092979440051,0.06069613397636808,0.05816015714709155,0.05517874367052463,0.06002877388254337,0.060733739579081195,0.060713378238871636,0.06059329159392184,0.060690981210575035,0.06066203675832656,0.06071495238540983,0.06071046071656918,0.05845857608857843,0.06069958996381083,0.06071584425313692,0.060704723777414704,0.06065415599212298,0.06070372823006456,0.060618182507350696,0.06065391853234071,0.06069537477396539,0.06067962104540111,0.06070704709284399,0.060684201901014374,0.06066301223865303,0.060706733824304956,0.06074187006824844,0.06073729590164311,0.05994991828261743,0.06070338040165102,0.06070055206612138,0.06066589520108096,0.060696241000495504,0.05888221660345359,0.06063433980606162,0.06072505724675788,0.06075403737371521,0.06070913517816007,0.0606874048209893,0.06070455209287734,0.05914123505842653,0.060181840681206356,0.060678191827368444,0.06075623917216665,0.06065635667573954,0.06074609752127484,0.06076224144196995,0.06075623359799328,0.06074572516649879,0.06064089391902109,0.06075086120977226,0.06068943270523388,0.06074403061781734,0.06063713581138604,0.05933510034626593,0.06068103688541793,0.06069077608099776,0.060731111913790124,0.06063109229270035,0.060635862670205584,0.060709504188431906,0.06067484286405321,0.060732342691253764,0.06071725340414586,0.060664526184120014,0.06072558790805557,0.06069087641611684,0.060730813138101726,0.06072341509530548,0.06068816402339199,0.0606717949060957,0.060709567734007625,0.06068871698138262,0.06065414595861115,0.060628976336517724,0.060738307056678695,0.06074828259720627,0.06066776923814249,0.06072248532320009,0.06066178034635508,0.060692879773999085,0.060222871055991695,0.060747004996687066,0.060674179537431115,0.06066598438785366,0.0607312746796504,0.06070228117467738,0.06010620583860988,0.06069510721364754,0.05950675255352672,0.06070895234527599,0.060624985228438996,0.06047310015451386,0.06071990559579939,0.06069911950358455,0.06072128018693363,0.06074793588362724,0.060673209631277765,0.060664001096995504,0.06074936175715591,0.06074148990962958,0.059175137180402515,0.06066249384053687,0.06069701023641004],\"type\":\"scatter\",\"xaxis\":\"x4\",\"yaxis\":\"y4\"}],                        {\"template\":{\"data\":{\"histogram2dcontour\":[{\"type\":\"histogram2dcontour\",\"colorbar\":{\"outlinewidth\":0,\"ticks\":\"\"},\"colorscale\":[[0.0,\"#0d0887\"],[0.1111111111111111,\"#46039f\"],[0.2222222222222222,\"#7201a8\"],[0.3333333333333333,\"#9c179e\"],[0.4444444444444444,\"#bd3786\"],[0.5555555555555556,\"#d8576b\"],[0.6666666666666666,\"#ed7953\"],[0.7777777777777778,\"#fb9f3a\"],[0.8888888888888888,\"#fdca26\"],[1.0,\"#f0f921\"]]}],\"choropleth\":[{\"type\":\"choropleth\",\"colorbar\":{\"outlinewidth\":0,\"ticks\":\"\"}}],\"histogram2d\":[{\"type\":\"histogram2d\",\"colorbar\":{\"outlinewidth\":0,\"ticks\":\"\"},\"colorscale\":[[0.0,\"#0d0887\"],[0.1111111111111111,\"#46039f\"],[0.2222222222222222,\"#7201a8\"],[0.3333333333333333,\"#9c179e\"],[0.4444444444444444,\"#bd3786\"],[0.5555555555555556,\"#d8576b\"],[0.6666666666666666,\"#ed7953\"],[0.7777777777777778,\"#fb9f3a\"],[0.8888888888888888,\"#fdca26\"],[1.0,\"#f0f921\"]]}],\"heatmap\":[{\"type\":\"heatmap\",\"colorbar\":{\"outlinewidth\":0,\"ticks\":\"\"},\"colorscale\":[[0.0,\"#0d0887\"],[0.1111111111111111,\"#46039f\"],[0.2222222222222222,\"#7201a8\"],[0.3333333333333333,\"#9c179e\"],[0.4444444444444444,\"#bd3786\"],[0.5555555555555556,\"#d8576b\"],[0.6666666666666666,\"#ed7953\"],[0.7777777777777778,\"#fb9f3a\"],[0.8888888888888888,\"#fdca26\"],[1.0,\"#f0f921\"]]}],\"heatmapgl\":[{\"type\":\"heatmapgl\",\"colorbar\":{\"outlinewidth\":0,\"ticks\":\"\"},\"colorscale\":[[0.0,\"#0d0887\"],[0.1111111111111111,\"#46039f\"],[0.2222222222222222,\"#7201a8\"],[0.3333333333333333,\"#9c179e\"],[0.4444444444444444,\"#bd3786\"],[0.5555555555555556,\"#d8576b\"],[0.6666666666666666,\"#ed7953\"],[0.7777777777777778,\"#fb9f3a\"],[0.8888888888888888,\"#fdca26\"],[1.0,\"#f0f921\"]]}],\"contourcarpet\":[{\"type\":\"contourcarpet\",\"colorbar\":{\"outlinewidth\":0,\"ticks\":\"\"}}],\"contour\":[{\"type\":\"contour\",\"colorbar\":{\"outlinewidth\":0,\"ticks\":\"\"},\"colorscale\":[[0.0,\"#0d0887\"],[0.1111111111111111,\"#46039f\"],[0.2222222222222222,\"#7201a8\"],[0.3333333333333333,\"#9c179e\"],[0.4444444444444444,\"#bd3786\"],[0.5555555555555556,\"#d8576b\"],[0.6666666666666666,\"#ed7953\"],[0.7777777777777778,\"#fb9f3a\"],[0.8888888888888888,\"#fdca26\"],[1.0,\"#f0f921\"]]}],\"surface\":[{\"type\":\"surface\",\"colorbar\":{\"outlinewidth\":0,\"ticks\":\"\"},\"colorscale\":[[0.0,\"#0d0887\"],[0.1111111111111111,\"#46039f\"],[0.2222222222222222,\"#7201a8\"],[0.3333333333333333,\"#9c179e\"],[0.4444444444444444,\"#bd3786\"],[0.5555555555555556,\"#d8576b\"],[0.6666666666666666,\"#ed7953\"],[0.7777777777777778,\"#fb9f3a\"],[0.8888888888888888,\"#fdca26\"],[1.0,\"#f0f921\"]]}],\"mesh3d\":[{\"type\":\"mesh3d\",\"colorbar\":{\"outlinewidth\":0,\"ticks\":\"\"}}],\"scatter\":[{\"fillpattern\":{\"fillmode\":\"overlay\",\"size\":10,\"solidity\":0.2},\"type\":\"scatter\"}],\"parcoords\":[{\"type\":\"parcoords\",\"line\":{\"colorbar\":{\"outlinewidth\":0,\"ticks\":\"\"}}}],\"scatterpolargl\":[{\"type\":\"scatterpolargl\",\"marker\":{\"colorbar\":{\"outlinewidth\":0,\"ticks\":\"\"}}}],\"bar\":[{\"error_x\":{\"color\":\"#2a3f5f\"},\"error_y\":{\"color\":\"#2a3f5f\"},\"marker\":{\"line\":{\"color\":\"#E5ECF6\",\"width\":0.5},\"pattern\":{\"fillmode\":\"overlay\",\"size\":10,\"solidity\":0.2}},\"type\":\"bar\"}],\"scattergeo\":[{\"type\":\"scattergeo\",\"marker\":{\"colorbar\":{\"outlinewidth\":0,\"ticks\":\"\"}}}],\"scatterpolar\":[{\"type\":\"scatterpolar\",\"marker\":{\"colorbar\":{\"outlinewidth\":0,\"ticks\":\"\"}}}],\"histogram\":[{\"marker\":{\"pattern\":{\"fillmode\":\"overlay\",\"size\":10,\"solidity\":0.2}},\"type\":\"histogram\"}],\"scattergl\":[{\"type\":\"scattergl\",\"marker\":{\"colorbar\":{\"outlinewidth\":0,\"ticks\":\"\"}}}],\"scatter3d\":[{\"type\":\"scatter3d\",\"line\":{\"colorbar\":{\"outlinewidth\":0,\"ticks\":\"\"}},\"marker\":{\"colorbar\":{\"outlinewidth\":0,\"ticks\":\"\"}}}],\"scattermapbox\":[{\"type\":\"scattermapbox\",\"marker\":{\"colorbar\":{\"outlinewidth\":0,\"ticks\":\"\"}}}],\"scatterternary\":[{\"type\":\"scatterternary\",\"marker\":{\"colorbar\":{\"outlinewidth\":0,\"ticks\":\"\"}}}],\"scattercarpet\":[{\"type\":\"scattercarpet\",\"marker\":{\"colorbar\":{\"outlinewidth\":0,\"ticks\":\"\"}}}],\"carpet\":[{\"aaxis\":{\"endlinecolor\":\"#2a3f5f\",\"gridcolor\":\"white\",\"linecolor\":\"white\",\"minorgridcolor\":\"white\",\"startlinecolor\":\"#2a3f5f\"},\"baxis\":{\"endlinecolor\":\"#2a3f5f\",\"gridcolor\":\"white\",\"linecolor\":\"white\",\"minorgridcolor\":\"white\",\"startlinecolor\":\"#2a3f5f\"},\"type\":\"carpet\"}],\"table\":[{\"cells\":{\"fill\":{\"color\":\"#EBF0F8\"},\"line\":{\"color\":\"white\"}},\"header\":{\"fill\":{\"color\":\"#C8D4E3\"},\"line\":{\"color\":\"white\"}},\"type\":\"table\"}],\"barpolar\":[{\"marker\":{\"line\":{\"color\":\"#E5ECF6\",\"width\":0.5},\"pattern\":{\"fillmode\":\"overlay\",\"size\":10,\"solidity\":0.2}},\"type\":\"barpolar\"}],\"pie\":[{\"automargin\":true,\"type\":\"pie\"}]},\"layout\":{\"autotypenumbers\":\"strict\",\"colorway\":[\"#636efa\",\"#EF553B\",\"#00cc96\",\"#ab63fa\",\"#FFA15A\",\"#19d3f3\",\"#FF6692\",\"#B6E880\",\"#FF97FF\",\"#FECB52\"],\"font\":{\"color\":\"#2a3f5f\"},\"hovermode\":\"closest\",\"hoverlabel\":{\"align\":\"left\"},\"paper_bgcolor\":\"white\",\"plot_bgcolor\":\"#E5ECF6\",\"polar\":{\"bgcolor\":\"#E5ECF6\",\"angularaxis\":{\"gridcolor\":\"white\",\"linecolor\":\"white\",\"ticks\":\"\"},\"radialaxis\":{\"gridcolor\":\"white\",\"linecolor\":\"white\",\"ticks\":\"\"}},\"ternary\":{\"bgcolor\":\"#E5ECF6\",\"aaxis\":{\"gridcolor\":\"white\",\"linecolor\":\"white\",\"ticks\":\"\"},\"baxis\":{\"gridcolor\":\"white\",\"linecolor\":\"white\",\"ticks\":\"\"},\"caxis\":{\"gridcolor\":\"white\",\"linecolor\":\"white\",\"ticks\":\"\"}},\"coloraxis\":{\"colorbar\":{\"outlinewidth\":0,\"ticks\":\"\"}},\"colorscale\":{\"sequential\":[[0.0,\"#0d0887\"],[0.1111111111111111,\"#46039f\"],[0.2222222222222222,\"#7201a8\"],[0.3333333333333333,\"#9c179e\"],[0.4444444444444444,\"#bd3786\"],[0.5555555555555556,\"#d8576b\"],[0.6666666666666666,\"#ed7953\"],[0.7777777777777778,\"#fb9f3a\"],[0.8888888888888888,\"#fdca26\"],[1.0,\"#f0f921\"]],\"sequentialminus\":[[0.0,\"#0d0887\"],[0.1111111111111111,\"#46039f\"],[0.2222222222222222,\"#7201a8\"],[0.3333333333333333,\"#9c179e\"],[0.4444444444444444,\"#bd3786\"],[0.5555555555555556,\"#d8576b\"],[0.6666666666666666,\"#ed7953\"],[0.7777777777777778,\"#fb9f3a\"],[0.8888888888888888,\"#fdca26\"],[1.0,\"#f0f921\"]],\"diverging\":[[0,\"#8e0152\"],[0.1,\"#c51b7d\"],[0.2,\"#de77ae\"],[0.3,\"#f1b6da\"],[0.4,\"#fde0ef\"],[0.5,\"#f7f7f7\"],[0.6,\"#e6f5d0\"],[0.7,\"#b8e186\"],[0.8,\"#7fbc41\"],[0.9,\"#4d9221\"],[1,\"#276419\"]]},\"xaxis\":{\"gridcolor\":\"white\",\"linecolor\":\"white\",\"ticks\":\"\",\"title\":{\"standoff\":15},\"zerolinecolor\":\"white\",\"automargin\":true,\"zerolinewidth\":2},\"yaxis\":{\"gridcolor\":\"white\",\"linecolor\":\"white\",\"ticks\":\"\",\"title\":{\"standoff\":15},\"zerolinecolor\":\"white\",\"automargin\":true,\"zerolinewidth\":2},\"scene\":{\"xaxis\":{\"backgroundcolor\":\"#E5ECF6\",\"gridcolor\":\"white\",\"linecolor\":\"white\",\"showbackground\":true,\"ticks\":\"\",\"zerolinecolor\":\"white\",\"gridwidth\":2},\"yaxis\":{\"backgroundcolor\":\"#E5ECF6\",\"gridcolor\":\"white\",\"linecolor\":\"white\",\"showbackground\":true,\"ticks\":\"\",\"zerolinecolor\":\"white\",\"gridwidth\":2},\"zaxis\":{\"backgroundcolor\":\"#E5ECF6\",\"gridcolor\":\"white\",\"linecolor\":\"white\",\"showbackground\":true,\"ticks\":\"\",\"zerolinecolor\":\"white\",\"gridwidth\":2}},\"shapedefaults\":{\"line\":{\"color\":\"#2a3f5f\"}},\"annotationdefaults\":{\"arrowcolor\":\"#2a3f5f\",\"arrowhead\":0,\"arrowwidth\":1},\"geo\":{\"bgcolor\":\"white\",\"landcolor\":\"#E5ECF6\",\"subunitcolor\":\"white\",\"showland\":true,\"showlakes\":true,\"lakecolor\":\"white\"},\"title\":{\"x\":0.05},\"mapbox\":{\"style\":\"light\"}}},\"xaxis\":{\"anchor\":\"y\",\"domain\":[0.0,0.2125],\"title\":{\"text\":\"itemknn_weight\"}},\"yaxis\":{\"anchor\":\"x\",\"domain\":[0.0,1.0],\"title\":{\"text\":\"Objective Value\"}},\"xaxis2\":{\"anchor\":\"y2\",\"domain\":[0.2625,0.475],\"title\":{\"text\":\"norm\"},\"type\":\"category\",\"categoryorder\":\"array\",\"categoryarray\":[1,2,null,null]},\"yaxis2\":{\"anchor\":\"x2\",\"domain\":[0.0,1.0],\"matches\":\"y\",\"showticklabels\":false},\"xaxis3\":{\"anchor\":\"y3\",\"domain\":[0.525,0.7375],\"title\":{\"text\":\"rp3beta_weight\"}},\"yaxis3\":{\"anchor\":\"x3\",\"domain\":[0.0,1.0],\"matches\":\"y\",\"showticklabels\":false},\"xaxis4\":{\"anchor\":\"y4\",\"domain\":[0.7875,1.0],\"title\":{\"text\":\"slim_weight\"}},\"yaxis4\":{\"anchor\":\"x4\",\"domain\":[0.0,1.0],\"matches\":\"y\",\"showticklabels\":false},\"title\":{\"text\":\"Slice Plot\"},\"width\":1200},                        {\"responsive\": true}                    ).then(function(){\n",
       "                            \n",
       "var gd = document.getElementById('34825a12-1089-4286-910d-cb0b94cba662');\n",
       "var x = new MutationObserver(function (mutations, observer) {{\n",
       "        var display = window.getComputedStyle(gd).display;\n",
       "        if (!display || display === 'none') {{\n",
       "            console.log([gd, 'removed!']);\n",
       "            Plotly.purge(gd);\n",
       "            observer.disconnect();\n",
       "        }}\n",
       "}});\n",
       "\n",
       "// Listen for the removal of the full notebook cells\n",
       "var notebookContainer = gd.closest('#notebook-container');\n",
       "if (notebookContainer) {{\n",
       "    x.observe(notebookContainer, {childList: true});\n",
       "}}\n",
       "\n",
       "// Listen for the clearing of the current output cell\n",
       "var outputEl = gd.closest('.output');\n",
       "if (outputEl) {{\n",
       "    x.observe(outputEl, {childList: true});\n",
       "}}\n",
       "\n",
       "                        })                };                });            </script>        </div>"
      ]
     },
     "metadata": {},
     "output_type": "display_data"
    }
   ],
   "source": [
    "if not config['tune_parameters']:\n",
    "    optuna_study = optuna.load_study(study_name=f'hyperparameters_tuning_{config[\"model\"]}', storage=f'sqlite:///{config[\"database_path\"]}')\n",
    "    \n",
    "fig = optuna.visualization.plot_slice(optuna_study)\n",
    "fig.show()"
   ]
  },
  {
   "cell_type": "code",
   "execution_count": 16,
   "id": "effa9ba3",
   "metadata": {
    "execution": {
     "iopub.execute_input": "2024-12-03T19:39:59.574692Z",
     "iopub.status.busy": "2024-12-03T19:39:59.574304Z",
     "iopub.status.idle": "2024-12-03T19:40:04.194178Z",
     "shell.execute_reply": "2024-12-03T19:40:04.192973Z"
    },
    "papermill": {
     "duration": 4.646745,
     "end_time": "2024-12-03T19:40:04.196509",
     "exception": false,
     "start_time": "2024-12-03T19:39:59.549764",
     "status": "completed"
    },
    "tags": []
   },
   "outputs": [
    {
     "data": {
      "text/html": [
       "<div>                            <div id=\"21005716-2a92-490e-93c9-d2cd8459921e\" class=\"plotly-graph-div\" style=\"height:525px; width:100%;\"></div>            <script type=\"text/javascript\">                require([\"plotly\"], function(Plotly) {                    window.PLOTLYENV=window.PLOTLYENV || {};                                    if (document.getElementById(\"21005716-2a92-490e-93c9-d2cd8459921e\")) {                    Plotly.newPlot(                        \"21005716-2a92-490e-93c9-d2cd8459921e\",                        [{\"cliponaxis\":false,\"hovertemplate\":[\"rp3beta_weight (FloatDistribution): 0.019954278188735956\\u003cextra\\u003e\\u003c\\u002fextra\\u003e\",\"slim_weight (FloatDistribution): 0.13561823868430506\\u003cextra\\u003e\\u003c\\u002fextra\\u003e\",\"itemknn_weight (FloatDistribution): 0.3870355432967951\\u003cextra\\u003e\\u003c\\u002fextra\\u003e\",\"norm (CategoricalDistribution): 0.4573919398301637\\u003cextra\\u003e\\u003c\\u002fextra\\u003e\"],\"name\":\"Objective Value\",\"orientation\":\"h\",\"text\":[\"0.02\",\"0.14\",\"0.39\",\"0.46\"],\"textposition\":\"outside\",\"x\":[0.019954278188735956,0.13561823868430506,0.3870355432967951,0.4573919398301637],\"y\":[\"rp3beta_weight\",\"slim_weight\",\"itemknn_weight\",\"norm\"],\"type\":\"bar\"}],                        {\"title\":{\"text\":\"Hyperparameter Importances\"},\"xaxis\":{\"title\":{\"text\":\"Hyperparameter Importance\"}},\"yaxis\":{\"title\":{\"text\":\"Hyperparameter\"}},\"template\":{\"data\":{\"histogram2dcontour\":[{\"type\":\"histogram2dcontour\",\"colorbar\":{\"outlinewidth\":0,\"ticks\":\"\"},\"colorscale\":[[0.0,\"#0d0887\"],[0.1111111111111111,\"#46039f\"],[0.2222222222222222,\"#7201a8\"],[0.3333333333333333,\"#9c179e\"],[0.4444444444444444,\"#bd3786\"],[0.5555555555555556,\"#d8576b\"],[0.6666666666666666,\"#ed7953\"],[0.7777777777777778,\"#fb9f3a\"],[0.8888888888888888,\"#fdca26\"],[1.0,\"#f0f921\"]]}],\"choropleth\":[{\"type\":\"choropleth\",\"colorbar\":{\"outlinewidth\":0,\"ticks\":\"\"}}],\"histogram2d\":[{\"type\":\"histogram2d\",\"colorbar\":{\"outlinewidth\":0,\"ticks\":\"\"},\"colorscale\":[[0.0,\"#0d0887\"],[0.1111111111111111,\"#46039f\"],[0.2222222222222222,\"#7201a8\"],[0.3333333333333333,\"#9c179e\"],[0.4444444444444444,\"#bd3786\"],[0.5555555555555556,\"#d8576b\"],[0.6666666666666666,\"#ed7953\"],[0.7777777777777778,\"#fb9f3a\"],[0.8888888888888888,\"#fdca26\"],[1.0,\"#f0f921\"]]}],\"heatmap\":[{\"type\":\"heatmap\",\"colorbar\":{\"outlinewidth\":0,\"ticks\":\"\"},\"colorscale\":[[0.0,\"#0d0887\"],[0.1111111111111111,\"#46039f\"],[0.2222222222222222,\"#7201a8\"],[0.3333333333333333,\"#9c179e\"],[0.4444444444444444,\"#bd3786\"],[0.5555555555555556,\"#d8576b\"],[0.6666666666666666,\"#ed7953\"],[0.7777777777777778,\"#fb9f3a\"],[0.8888888888888888,\"#fdca26\"],[1.0,\"#f0f921\"]]}],\"heatmapgl\":[{\"type\":\"heatmapgl\",\"colorbar\":{\"outlinewidth\":0,\"ticks\":\"\"},\"colorscale\":[[0.0,\"#0d0887\"],[0.1111111111111111,\"#46039f\"],[0.2222222222222222,\"#7201a8\"],[0.3333333333333333,\"#9c179e\"],[0.4444444444444444,\"#bd3786\"],[0.5555555555555556,\"#d8576b\"],[0.6666666666666666,\"#ed7953\"],[0.7777777777777778,\"#fb9f3a\"],[0.8888888888888888,\"#fdca26\"],[1.0,\"#f0f921\"]]}],\"contourcarpet\":[{\"type\":\"contourcarpet\",\"colorbar\":{\"outlinewidth\":0,\"ticks\":\"\"}}],\"contour\":[{\"type\":\"contour\",\"colorbar\":{\"outlinewidth\":0,\"ticks\":\"\"},\"colorscale\":[[0.0,\"#0d0887\"],[0.1111111111111111,\"#46039f\"],[0.2222222222222222,\"#7201a8\"],[0.3333333333333333,\"#9c179e\"],[0.4444444444444444,\"#bd3786\"],[0.5555555555555556,\"#d8576b\"],[0.6666666666666666,\"#ed7953\"],[0.7777777777777778,\"#fb9f3a\"],[0.8888888888888888,\"#fdca26\"],[1.0,\"#f0f921\"]]}],\"surface\":[{\"type\":\"surface\",\"colorbar\":{\"outlinewidth\":0,\"ticks\":\"\"},\"colorscale\":[[0.0,\"#0d0887\"],[0.1111111111111111,\"#46039f\"],[0.2222222222222222,\"#7201a8\"],[0.3333333333333333,\"#9c179e\"],[0.4444444444444444,\"#bd3786\"],[0.5555555555555556,\"#d8576b\"],[0.6666666666666666,\"#ed7953\"],[0.7777777777777778,\"#fb9f3a\"],[0.8888888888888888,\"#fdca26\"],[1.0,\"#f0f921\"]]}],\"mesh3d\":[{\"type\":\"mesh3d\",\"colorbar\":{\"outlinewidth\":0,\"ticks\":\"\"}}],\"scatter\":[{\"fillpattern\":{\"fillmode\":\"overlay\",\"size\":10,\"solidity\":0.2},\"type\":\"scatter\"}],\"parcoords\":[{\"type\":\"parcoords\",\"line\":{\"colorbar\":{\"outlinewidth\":0,\"ticks\":\"\"}}}],\"scatterpolargl\":[{\"type\":\"scatterpolargl\",\"marker\":{\"colorbar\":{\"outlinewidth\":0,\"ticks\":\"\"}}}],\"bar\":[{\"error_x\":{\"color\":\"#2a3f5f\"},\"error_y\":{\"color\":\"#2a3f5f\"},\"marker\":{\"line\":{\"color\":\"#E5ECF6\",\"width\":0.5},\"pattern\":{\"fillmode\":\"overlay\",\"size\":10,\"solidity\":0.2}},\"type\":\"bar\"}],\"scattergeo\":[{\"type\":\"scattergeo\",\"marker\":{\"colorbar\":{\"outlinewidth\":0,\"ticks\":\"\"}}}],\"scatterpolar\":[{\"type\":\"scatterpolar\",\"marker\":{\"colorbar\":{\"outlinewidth\":0,\"ticks\":\"\"}}}],\"histogram\":[{\"marker\":{\"pattern\":{\"fillmode\":\"overlay\",\"size\":10,\"solidity\":0.2}},\"type\":\"histogram\"}],\"scattergl\":[{\"type\":\"scattergl\",\"marker\":{\"colorbar\":{\"outlinewidth\":0,\"ticks\":\"\"}}}],\"scatter3d\":[{\"type\":\"scatter3d\",\"line\":{\"colorbar\":{\"outlinewidth\":0,\"ticks\":\"\"}},\"marker\":{\"colorbar\":{\"outlinewidth\":0,\"ticks\":\"\"}}}],\"scattermapbox\":[{\"type\":\"scattermapbox\",\"marker\":{\"colorbar\":{\"outlinewidth\":0,\"ticks\":\"\"}}}],\"scatterternary\":[{\"type\":\"scatterternary\",\"marker\":{\"colorbar\":{\"outlinewidth\":0,\"ticks\":\"\"}}}],\"scattercarpet\":[{\"type\":\"scattercarpet\",\"marker\":{\"colorbar\":{\"outlinewidth\":0,\"ticks\":\"\"}}}],\"carpet\":[{\"aaxis\":{\"endlinecolor\":\"#2a3f5f\",\"gridcolor\":\"white\",\"linecolor\":\"white\",\"minorgridcolor\":\"white\",\"startlinecolor\":\"#2a3f5f\"},\"baxis\":{\"endlinecolor\":\"#2a3f5f\",\"gridcolor\":\"white\",\"linecolor\":\"white\",\"minorgridcolor\":\"white\",\"startlinecolor\":\"#2a3f5f\"},\"type\":\"carpet\"}],\"table\":[{\"cells\":{\"fill\":{\"color\":\"#EBF0F8\"},\"line\":{\"color\":\"white\"}},\"header\":{\"fill\":{\"color\":\"#C8D4E3\"},\"line\":{\"color\":\"white\"}},\"type\":\"table\"}],\"barpolar\":[{\"marker\":{\"line\":{\"color\":\"#E5ECF6\",\"width\":0.5},\"pattern\":{\"fillmode\":\"overlay\",\"size\":10,\"solidity\":0.2}},\"type\":\"barpolar\"}],\"pie\":[{\"automargin\":true,\"type\":\"pie\"}]},\"layout\":{\"autotypenumbers\":\"strict\",\"colorway\":[\"#636efa\",\"#EF553B\",\"#00cc96\",\"#ab63fa\",\"#FFA15A\",\"#19d3f3\",\"#FF6692\",\"#B6E880\",\"#FF97FF\",\"#FECB52\"],\"font\":{\"color\":\"#2a3f5f\"},\"hovermode\":\"closest\",\"hoverlabel\":{\"align\":\"left\"},\"paper_bgcolor\":\"white\",\"plot_bgcolor\":\"#E5ECF6\",\"polar\":{\"bgcolor\":\"#E5ECF6\",\"angularaxis\":{\"gridcolor\":\"white\",\"linecolor\":\"white\",\"ticks\":\"\"},\"radialaxis\":{\"gridcolor\":\"white\",\"linecolor\":\"white\",\"ticks\":\"\"}},\"ternary\":{\"bgcolor\":\"#E5ECF6\",\"aaxis\":{\"gridcolor\":\"white\",\"linecolor\":\"white\",\"ticks\":\"\"},\"baxis\":{\"gridcolor\":\"white\",\"linecolor\":\"white\",\"ticks\":\"\"},\"caxis\":{\"gridcolor\":\"white\",\"linecolor\":\"white\",\"ticks\":\"\"}},\"coloraxis\":{\"colorbar\":{\"outlinewidth\":0,\"ticks\":\"\"}},\"colorscale\":{\"sequential\":[[0.0,\"#0d0887\"],[0.1111111111111111,\"#46039f\"],[0.2222222222222222,\"#7201a8\"],[0.3333333333333333,\"#9c179e\"],[0.4444444444444444,\"#bd3786\"],[0.5555555555555556,\"#d8576b\"],[0.6666666666666666,\"#ed7953\"],[0.7777777777777778,\"#fb9f3a\"],[0.8888888888888888,\"#fdca26\"],[1.0,\"#f0f921\"]],\"sequentialminus\":[[0.0,\"#0d0887\"],[0.1111111111111111,\"#46039f\"],[0.2222222222222222,\"#7201a8\"],[0.3333333333333333,\"#9c179e\"],[0.4444444444444444,\"#bd3786\"],[0.5555555555555556,\"#d8576b\"],[0.6666666666666666,\"#ed7953\"],[0.7777777777777778,\"#fb9f3a\"],[0.8888888888888888,\"#fdca26\"],[1.0,\"#f0f921\"]],\"diverging\":[[0,\"#8e0152\"],[0.1,\"#c51b7d\"],[0.2,\"#de77ae\"],[0.3,\"#f1b6da\"],[0.4,\"#fde0ef\"],[0.5,\"#f7f7f7\"],[0.6,\"#e6f5d0\"],[0.7,\"#b8e186\"],[0.8,\"#7fbc41\"],[0.9,\"#4d9221\"],[1,\"#276419\"]]},\"xaxis\":{\"gridcolor\":\"white\",\"linecolor\":\"white\",\"ticks\":\"\",\"title\":{\"standoff\":15},\"zerolinecolor\":\"white\",\"automargin\":true,\"zerolinewidth\":2},\"yaxis\":{\"gridcolor\":\"white\",\"linecolor\":\"white\",\"ticks\":\"\",\"title\":{\"standoff\":15},\"zerolinecolor\":\"white\",\"automargin\":true,\"zerolinewidth\":2},\"scene\":{\"xaxis\":{\"backgroundcolor\":\"#E5ECF6\",\"gridcolor\":\"white\",\"linecolor\":\"white\",\"showbackground\":true,\"ticks\":\"\",\"zerolinecolor\":\"white\",\"gridwidth\":2},\"yaxis\":{\"backgroundcolor\":\"#E5ECF6\",\"gridcolor\":\"white\",\"linecolor\":\"white\",\"showbackground\":true,\"ticks\":\"\",\"zerolinecolor\":\"white\",\"gridwidth\":2},\"zaxis\":{\"backgroundcolor\":\"#E5ECF6\",\"gridcolor\":\"white\",\"linecolor\":\"white\",\"showbackground\":true,\"ticks\":\"\",\"zerolinecolor\":\"white\",\"gridwidth\":2}},\"shapedefaults\":{\"line\":{\"color\":\"#2a3f5f\"}},\"annotationdefaults\":{\"arrowcolor\":\"#2a3f5f\",\"arrowhead\":0,\"arrowwidth\":1},\"geo\":{\"bgcolor\":\"white\",\"landcolor\":\"#E5ECF6\",\"subunitcolor\":\"white\",\"showland\":true,\"showlakes\":true,\"lakecolor\":\"white\"},\"title\":{\"x\":0.05},\"mapbox\":{\"style\":\"light\"}}}},                        {\"responsive\": true}                    ).then(function(){\n",
       "                            \n",
       "var gd = document.getElementById('21005716-2a92-490e-93c9-d2cd8459921e');\n",
       "var x = new MutationObserver(function (mutations, observer) {{\n",
       "        var display = window.getComputedStyle(gd).display;\n",
       "        if (!display || display === 'none') {{\n",
       "            console.log([gd, 'removed!']);\n",
       "            Plotly.purge(gd);\n",
       "            observer.disconnect();\n",
       "        }}\n",
       "}});\n",
       "\n",
       "// Listen for the removal of the full notebook cells\n",
       "var notebookContainer = gd.closest('#notebook-container');\n",
       "if (notebookContainer) {{\n",
       "    x.observe(notebookContainer, {childList: true});\n",
       "}}\n",
       "\n",
       "// Listen for the clearing of the current output cell\n",
       "var outputEl = gd.closest('.output');\n",
       "if (outputEl) {{\n",
       "    x.observe(outputEl, {childList: true});\n",
       "}}\n",
       "\n",
       "                        })                };                });            </script>        </div>"
      ]
     },
     "metadata": {},
     "output_type": "display_data"
    }
   ],
   "source": [
    "if not config['tune_parameters']:\n",
    "    optuna_study = optuna.load_study(study_name=f'hyperparameters_tuning_{config[\"model\"]}', storage=f'sqlite:///{config[\"database_path\"]}')\n",
    "    \n",
    "fig = optuna.visualization.plot_param_importances(optuna_study)\n",
    "fig.show()"
   ]
  },
  {
   "cell_type": "markdown",
   "id": "7279a291",
   "metadata": {
    "papermill": {
     "duration": 0.023271,
     "end_time": "2024-12-03T19:40:04.244799",
     "exception": false,
     "start_time": "2024-12-03T19:40:04.221528",
     "status": "completed"
    },
    "tags": []
   },
   "source": [
    "## Let's train the recommender with best parameter values"
   ]
  },
  {
   "cell_type": "code",
   "execution_count": 17,
   "id": "781b250a",
   "metadata": {
    "execution": {
     "iopub.execute_input": "2024-12-03T19:40:04.293886Z",
     "iopub.status.busy": "2024-12-03T19:40:04.293482Z",
     "iopub.status.idle": "2024-12-03T21:15:46.557219Z",
     "shell.execute_reply": "2024-12-03T21:15:46.556032Z"
    },
    "papermill": {
     "duration": 5742.290912,
     "end_time": "2024-12-03T21:15:46.559599",
     "exception": false,
     "start_time": "2024-12-03T19:40:04.268687",
     "status": "completed"
    },
    "tags": []
   },
   "outputs": [
    {
     "name": "stdout",
     "output_type": "stream",
     "text": [
      "ItemKNNCF Model - TRAINING with its best parameters.\n",
      "Similarity column 38121 (100.0%), 2509.40 column/sec. Elapsed time 15.19 sec\n",
      "Training done in 15.506526sec.\n",
      "\n",
      "SLIMElasticNet Model - TRAINING with its best parameters.\n",
      "SLIMElasticNetRecommender: Processed 1978 ( 5.2%) in 5.00 min. Items per second: 6.59\n",
      "SLIMElasticNetRecommender: Processed 3951 (10.4%) in 10.00 min. Items per second: 6.58\n",
      "SLIMElasticNetRecommender: Processed 5939 (15.6%) in 15.00 min. Items per second: 6.60\n",
      "SLIMElasticNetRecommender: Processed 7926 (20.8%) in 20.00 min. Items per second: 6.60\n",
      "SLIMElasticNetRecommender: Processed 9941 (26.1%) in 25.01 min. Items per second: 6.63\n",
      "SLIMElasticNetRecommender: Processed 11938 (31.3%) in 30.01 min. Items per second: 6.63\n",
      "SLIMElasticNetRecommender: Processed 13967 (36.6%) in 35.01 min. Items per second: 6.65\n",
      "SLIMElasticNetRecommender: Processed 16003 (42.0%) in 40.01 min. Items per second: 6.67\n",
      "SLIMElasticNetRecommender: Processed 17982 (47.2%) in 45.01 min. Items per second: 6.66\n",
      "SLIMElasticNetRecommender: Processed 20048 (52.6%) in 50.01 min. Items per second: 6.68\n",
      "SLIMElasticNetRecommender: Processed 22079 (57.9%) in 55.01 min. Items per second: 6.69\n",
      "SLIMElasticNetRecommender: Processed 24040 (63.1%) in 1.00 hour. Items per second: 6.68\n",
      "SLIMElasticNetRecommender: Processed 26005 (68.2%) in 1.08 hour. Items per second: 6.67\n",
      "SLIMElasticNetRecommender: Processed 28001 (73.5%) in 1.17 hour. Items per second: 6.67\n",
      "SLIMElasticNetRecommender: Processed 29994 (78.7%) in 1.25 hour. Items per second: 6.66\n",
      "SLIMElasticNetRecommender: Processed 32016 (84.0%) in 1.33 hour. Items per second: 6.67\n",
      "SLIMElasticNetRecommender: Processed 34102 (89.5%) in 1.42 hour. Items per second: 6.68\n",
      "SLIMElasticNetRecommender: Processed 36130 (94.8%) in 1.50 hour. Items per second: 6.69\n",
      "SLIMElasticNetRecommender: Processed 38099 (99.9%) in 1.58 hour. Items per second: 6.68\n",
      "SLIMElasticNetRecommender: Processed 38121 (100.0%) in 1.58 hour. Items per second: 6.68\n",
      "Training done in 1.584832hour.\n",
      "\n",
      "RP3beta Model - TRAINING with its best parameters.\n",
      "RP3betaRecommender: Similarity column 38121 (100.0%), 1895.70 column/sec. Elapsed time 20.11 sec\n",
      "Training done in 21.352846sec.\n",
      "\n"
     ]
    }
   ],
   "source": [
    "if config['tune_best_params']:\n",
    "    \n",
    "    loaded_recommenders = {}\n",
    "    \n",
    "    for recommender_name, recommender_class in recommenders.items():\n",
    "        \n",
    "        start_time = time.time()\n",
    "        \n",
    "        print(f\"{recommender_name} Model - TRAINING with its best parameters.\")\n",
    "        try:\n",
    "            recommender = recommender_class(URM_train + URM_validation)\n",
    "        except Exception as e:\n",
    "            recommender = recommender_class(URM_train + URM_validation, ICM_all)\n",
    "    \n",
    "        # Extract best parameter values of the relative recommender model.\n",
    "        with open(f'{GH_PATH}/{paths_to_best_params[recommender_name]}/{recommender_name}Recommender/best_params_{recommender_name}.json', 'r') as best_params_json:\n",
    "                best_params = json.load(best_params_json)\n",
    "        \n",
    "        recommender.fit(**best_params)\n",
    "        \n",
    "        loaded_recommenders[recommender_name] = recommender\n",
    "        \n",
    "        new_time_value, new_time_unit = seconds_to_biggest_unit(time.time() - start_time)\n",
    "        print(\"Training done in {:2f}{}.\\n\".format(new_time_value, new_time_unit))"
   ]
  },
  {
   "cell_type": "code",
   "execution_count": 18,
   "id": "235a5156",
   "metadata": {
    "execution": {
     "iopub.execute_input": "2024-12-03T21:15:46.610879Z",
     "iopub.status.busy": "2024-12-03T21:15:46.610454Z",
     "iopub.status.idle": "2024-12-03T21:15:46.686995Z",
     "shell.execute_reply": "2024-12-03T21:15:46.685825Z"
    },
    "papermill": {
     "duration": 0.104764,
     "end_time": "2024-12-03T21:15:46.689276",
     "exception": false,
     "start_time": "2024-12-03T21:15:46.584512",
     "status": "completed"
    },
    "tags": []
   },
   "outputs": [
    {
     "name": "stdout",
     "output_type": "stream",
     "text": [
      "LinearCombinationRecommender: Fit completed in 0.00 seconds.\n"
     ]
    }
   ],
   "source": [
    "if config['tune_best_params']:\n",
    "\n",
    "    if config['tune_parameters']:\n",
    "        best_params = optuna_study.best_trial.params\n",
    "    else: \n",
    "        with open(f'{K_PATH}/{GH_PATH}/{D_PATH}/{config[\"model\"]}Recommender/best_params_{config[\"model\"]}.json', 'r') as best_params_json:\n",
    "            best_params = json.load(best_params_json)\n",
    "            \n",
    "    fit_params = {\n",
    "    \"weights\": list(best_params.values())[1:], \n",
    "    \"norm\": best_params[\"norm\"]\n",
    "    }\n",
    "    \n",
    "    recommender_instance = LinearCombinationRecommender(URM_train + URM_validation, loaded_recommenders.values())\n",
    "    recommender_instance.fit(**fit_params)"
   ]
  },
  {
   "cell_type": "markdown",
   "id": "ef240a02",
   "metadata": {
    "papermill": {
     "duration": 0.024873,
     "end_time": "2024-12-03T21:15:46.739310",
     "exception": false,
     "start_time": "2024-12-03T21:15:46.714437",
     "status": "completed"
    },
    "tags": []
   },
   "source": [
    "# Testing"
   ]
  },
  {
   "cell_type": "markdown",
   "id": "d41cffac",
   "metadata": {
    "papermill": {
     "duration": 0.024608,
     "end_time": "2024-12-03T21:15:46.788929",
     "exception": false,
     "start_time": "2024-12-03T21:15:46.764321",
     "status": "completed"
    },
    "tags": []
   },
   "source": [
    "Create the recommendations for the submission. "
   ]
  },
  {
   "cell_type": "code",
   "execution_count": 19,
   "id": "2a27ad08",
   "metadata": {
    "execution": {
     "iopub.execute_input": "2024-12-03T21:15:46.840423Z",
     "iopub.status.busy": "2024-12-03T21:15:46.840016Z",
     "iopub.status.idle": "2024-12-03T21:16:59.717537Z",
     "shell.execute_reply": "2024-12-03T21:16:59.716250Z"
    },
    "papermill": {
     "duration": 72.93261,
     "end_time": "2024-12-03T21:16:59.746383",
     "exception": false,
     "start_time": "2024-12-03T21:15:46.813773",
     "status": "completed"
    },
    "tags": []
   },
   "outputs": [
    {
     "name": "stdout",
     "output_type": "stream",
     "text": [
      "Submission file saved as /kaggle/working/submission_SecondLinearCombination.csv\n"
     ]
    }
   ],
   "source": [
    "if config['tune_best_params']:\n",
    "\n",
    "    data_target_users_test = pd.read_csv('/kaggle/input/recommender-system-2024-challenge-polimi/data_target_users_test.csv')\n",
    "    create_submission(data_target_users_test, recommender_instance, f'/kaggle/working/submission_{config[\"model\"]}.csv')"
   ]
  },
  {
   "cell_type": "markdown",
   "id": "a8d5931e",
   "metadata": {
    "execution": {
     "iopub.execute_input": "2024-11-14T00:04:16.877791Z",
     "iopub.status.busy": "2024-11-14T00:04:16.877275Z",
     "iopub.status.idle": "2024-11-14T00:04:16.883170Z",
     "shell.execute_reply": "2024-11-14T00:04:16.881889Z",
     "shell.execute_reply.started": "2024-11-14T00:04:16.877743Z"
    },
    "papermill": {
     "duration": 0.025199,
     "end_time": "2024-12-03T21:16:59.796806",
     "exception": false,
     "start_time": "2024-12-03T21:16:59.771607",
     "status": "completed"
    },
    "tags": []
   },
   "source": [
    "# Save Version on GitHub "
   ]
  },
  {
   "cell_type": "markdown",
   "id": "359386e7",
   "metadata": {
    "papermill": {
     "duration": 0.026215,
     "end_time": "2024-12-03T21:16:59.848200",
     "exception": false,
     "start_time": "2024-12-03T21:16:59.821985",
     "status": "completed"
    },
    "tags": []
   },
   "source": [
    "Write or import a json file where best hyperparameters are saved. "
   ]
  },
  {
   "cell_type": "code",
   "execution_count": 20,
   "id": "924f9022",
   "metadata": {
    "execution": {
     "iopub.execute_input": "2024-12-03T21:16:59.900766Z",
     "iopub.status.busy": "2024-12-03T21:16:59.900352Z",
     "iopub.status.idle": "2024-12-03T21:17:00.872702Z",
     "shell.execute_reply": "2024-12-03T21:17:00.871405Z"
    },
    "papermill": {
     "duration": 1.001758,
     "end_time": "2024-12-03T21:17:00.874973",
     "exception": false,
     "start_time": "2024-12-03T21:16:59.873215",
     "status": "completed"
    },
    "tags": []
   },
   "outputs": [
    {
     "name": "stdout",
     "output_type": "stream",
     "text": [
      "File 'TrainedModels/WithoutKFCV/Hybrid/LinearCombination/SecondLinearCombinationRecommender/best_params_SecondLinearCombination.json' updated successfully.\n"
     ]
    }
   ],
   "source": [
    "if config['tune_parameters']:\n",
    "    with open(f'/kaggle/working/best_params_{config[\"model\"]}.json', 'w') as params_file:\n",
    "        json.dump(optuna_study.best_params, params_file)\n",
    "        \n",
    "    if config['save_github']:\n",
    "        upload_file(\n",
    "            f'/kaggle/working/best_params_{config[\"model\"]}.json', \n",
    "            f'{GH_PATH}/{D_PATH}/{config[\"model\"]}Recommender/best_params_{config[\"model\"]}.json', \n",
    "            f'{config[\"model\"]} tuning results (from kaggle notebook)',\n",
    "            repo\n",
    "        )\n",
    "elif config['copy_prev_best_params']:\n",
    "    shutil.copyfile(\n",
    "        f'{K_PATH}/{GH_PATH}/{D_PATH}/{config[\"model\"]}Recommender/'\\\n",
    "        f'best_params_{config[\"model\"]}.json', \n",
    "        f'/kaggle/working/best_params_{config[\"model\"]}.json'\n",
    "    )"
   ]
  },
  {
   "cell_type": "markdown",
   "id": "15ea85ae",
   "metadata": {
    "execution": {
     "iopub.execute_input": "2024-11-14T00:41:34.294243Z",
     "iopub.status.busy": "2024-11-14T00:41:34.293739Z",
     "iopub.status.idle": "2024-11-14T00:41:34.301478Z",
     "shell.execute_reply": "2024-11-14T00:41:34.299869Z",
     "shell.execute_reply.started": "2024-11-14T00:41:34.294186Z"
    },
    "papermill": {
     "duration": 0.02513,
     "end_time": "2024-12-03T21:17:00.926704",
     "exception": false,
     "start_time": "2024-12-03T21:17:00.901574",
     "status": "completed"
    },
    "tags": []
   },
   "source": [
    "Save the history of the tuned model."
   ]
  },
  {
   "cell_type": "code",
   "execution_count": 21,
   "id": "ca0fae8e",
   "metadata": {
    "execution": {
     "iopub.execute_input": "2024-12-03T21:17:00.979452Z",
     "iopub.status.busy": "2024-12-03T21:17:00.979084Z",
     "iopub.status.idle": "2024-12-03T21:17:02.657271Z",
     "shell.execute_reply": "2024-12-03T21:17:02.655799Z"
    },
    "papermill": {
     "duration": 1.707462,
     "end_time": "2024-12-03T21:17:02.659541",
     "exception": false,
     "start_time": "2024-12-03T21:17:00.952079",
     "status": "completed"
    },
    "tags": []
   },
   "outputs": [
    {
     "name": "stdout",
     "output_type": "stream",
     "text": [
      "File 'TrainedModels/WithoutKFCV/Hybrid/LinearCombination/SecondLinearCombinationRecommender/history_SecondLinearCombination.db' updated successfully.\n"
     ]
    }
   ],
   "source": [
    "if config['save_github'] and config['tune_parameters']:\n",
    "    upload_file(\n",
    "        config['database_path'], \n",
    "        f'{GH_PATH}/{D_PATH}/{config[\"model\"]}Recommender/history_{config[\"model\"]}.db',\n",
    "        f'Tuning {config[\"model\"]} db updated results (from kaggle notebook)',\n",
    "        repo\n",
    "    )"
   ]
  },
  {
   "cell_type": "markdown",
   "id": "ca7cd347",
   "metadata": {
    "papermill": {
     "duration": 0.025323,
     "end_time": "2024-12-03T21:17:02.710167",
     "exception": false,
     "start_time": "2024-12-03T21:17:02.684844",
     "status": "completed"
    },
    "tags": []
   },
   "source": [
    "Save the best trained model and its submission."
   ]
  },
  {
   "cell_type": "code",
   "execution_count": 22,
   "id": "ab972f98",
   "metadata": {
    "execution": {
     "iopub.execute_input": "2024-12-03T21:17:02.764236Z",
     "iopub.status.busy": "2024-12-03T21:17:02.763821Z",
     "iopub.status.idle": "2024-12-03T21:17:04.728997Z",
     "shell.execute_reply": "2024-12-03T21:17:04.727831Z"
    },
    "papermill": {
     "duration": 1.995817,
     "end_time": "2024-12-03T21:17:04.731440",
     "exception": false,
     "start_time": "2024-12-03T21:17:02.735623",
     "status": "completed"
    },
    "tags": []
   },
   "outputs": [
    {
     "name": "stdout",
     "output_type": "stream",
     "text": [
      "File 'TrainedModels/WithoutKFCV/Hybrid/LinearCombination/SecondLinearCombinationRecommender/Submission/submission_SecondLinearCombination.csv' updated successfully.\n"
     ]
    }
   ],
   "source": [
    "if config['save_github'] and config['tune_best_params']: \n",
    "    upload_file(\n",
    "                f'/kaggle/working/submission_{config[\"model\"]}.csv', \n",
    "                f'{GH_PATH}/{D_PATH}/{config[\"model\"]}Recommender/Submission/submission_{config[\"model\"]}.csv', \n",
    "                f'New {config[\"model\"]} submission (from kaggle notebook)',\n",
    "                repo\n",
    "            )"
   ]
  }
 ],
 "metadata": {
  "kaggle": {
   "accelerator": "none",
   "dataSources": [
    {
     "databundleVersionId": 9982103,
     "sourceId": 87439,
     "sourceType": "competition"
    }
   ],
   "dockerImageVersionId": 30804,
   "isGpuEnabled": false,
   "isInternetEnabled": true,
   "language": "python",
   "sourceType": "notebook"
  },
  "kernelspec": {
   "display_name": "Python 3",
   "language": "python",
   "name": "python3"
  },
  "language_info": {
   "codemirror_mode": {
    "name": "ipython",
    "version": 3
   },
   "file_extension": ".py",
   "mimetype": "text/x-python",
   "name": "python",
   "nbconvert_exporter": "python",
   "pygments_lexer": "ipython3",
   "version": "3.10.14"
  },
  "papermill": {
   "default_parameters": {},
   "duration": 15532.285029,
   "end_time": "2024-12-03T21:17:05.882968",
   "environment_variables": {},
   "exception": null,
   "input_path": "__notebook__.ipynb",
   "output_path": "__notebook__.ipynb",
   "parameters": {},
   "start_time": "2024-12-03T16:58:13.597939",
   "version": "2.6.0"
  }
 },
 "nbformat": 4,
 "nbformat_minor": 5
}
