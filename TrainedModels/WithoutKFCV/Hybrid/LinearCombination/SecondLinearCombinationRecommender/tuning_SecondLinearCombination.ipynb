{
 "cells": [
  {
   "cell_type": "markdown",
   "id": "e309b0db",
   "metadata": {
    "papermill": {
     "duration": 0.006101,
     "end_time": "2024-12-03T00:09:32.502182",
     "exception": false,
     "start_time": "2024-12-03T00:09:32.496081",
     "status": "completed"
    },
    "tags": []
   },
   "source": [
    "# Set connection with GitHub"
   ]
  },
  {
   "cell_type": "code",
   "execution_count": 1,
   "id": "552a679e",
   "metadata": {
    "execution": {
     "iopub.execute_input": "2024-12-03T00:09:32.515727Z",
     "iopub.status.busy": "2024-12-03T00:09:32.515203Z",
     "iopub.status.idle": "2024-12-03T00:09:32.521442Z",
     "shell.execute_reply": "2024-12-03T00:09:32.520407Z"
    },
    "papermill": {
     "duration": 0.015974,
     "end_time": "2024-12-03T00:09:32.523948",
     "exception": false,
     "start_time": "2024-12-03T00:09:32.507974",
     "status": "completed"
    },
    "tags": []
   },
   "outputs": [],
   "source": [
    "# ! cd /kaggle/working && rm -rf RECsys_Challenge2024"
   ]
  },
  {
   "cell_type": "code",
   "execution_count": 2,
   "id": "7f0a15a4",
   "metadata": {
    "_cell_guid": "b1076dfc-b9ad-4769-8c92-a6c4dae69d19",
    "_uuid": "8f2839f25d086af736a60e9eeb907d3b93b6e0e5",
    "execution": {
     "iopub.execute_input": "2024-12-03T00:09:32.538155Z",
     "iopub.status.busy": "2024-12-03T00:09:32.537749Z",
     "iopub.status.idle": "2024-12-03T00:09:47.775659Z",
     "shell.execute_reply": "2024-12-03T00:09:47.774361Z"
    },
    "papermill": {
     "duration": 15.248655,
     "end_time": "2024-12-03T00:09:47.778365",
     "exception": false,
     "start_time": "2024-12-03T00:09:32.529710",
     "status": "completed"
    },
    "tags": []
   },
   "outputs": [
    {
     "name": "stdout",
     "output_type": "stream",
     "text": [
      "Cloning into 'RECsys_Challenge2024'...\r\n",
      "remote: Enumerating objects: 3831, done.\u001b[K\r\n",
      "remote: Counting objects: 100% (1304/1304), done.\u001b[K\r\n",
      "remote: Compressing objects: 100% (515/515), done.\u001b[K\r\n",
      "remote: Total 3831 (delta 713), reused 1119 (delta 606), pack-reused 2527 (from 1)\u001b[K\r\n",
      "Receiving objects: 100% (3831/3831), 165.06 MiB | 18.48 MiB/s, done.\r\n",
      "Resolving deltas: 100% (2232/2232), done.\r\n",
      "Updating files: 100% (366/366), done.\r\n"
     ]
    }
   ],
   "source": [
    "from kaggle_secrets import UserSecretsClient\n",
    "\n",
    "token = UserSecretsClient().get_secret(\"Token\")\n",
    "\n",
    "! git clone https://{token}@github.com/madratak/RECsys_Challenge2024.git"
   ]
  },
  {
   "cell_type": "code",
   "execution_count": 3,
   "id": "e49112ee",
   "metadata": {
    "execution": {
     "iopub.execute_input": "2024-12-03T00:09:47.799174Z",
     "iopub.status.busy": "2024-12-03T00:09:47.798763Z",
     "iopub.status.idle": "2024-12-03T00:10:00.192760Z",
     "shell.execute_reply": "2024-12-03T00:10:00.191312Z"
    },
    "papermill": {
     "duration": 12.407933,
     "end_time": "2024-12-03T00:10:00.195960",
     "exception": false,
     "start_time": "2024-12-03T00:09:47.788027",
     "status": "completed"
    },
    "tags": []
   },
   "outputs": [
    {
     "name": "stdout",
     "output_type": "stream",
     "text": [
      "Collecting PyGithub\r\n",
      "  Downloading PyGithub-2.5.0-py3-none-any.whl.metadata (3.9 kB)\r\n",
      "Requirement already satisfied: requests in /opt/conda/lib/python3.10/site-packages (2.32.3)\r\n",
      "Collecting pynacl>=1.4.0 (from PyGithub)\r\n",
      "  Downloading PyNaCl-1.5.0-cp36-abi3-manylinux_2_17_x86_64.manylinux2014_x86_64.manylinux_2_24_x86_64.whl.metadata (8.6 kB)\r\n",
      "Requirement already satisfied: pyjwt>=2.4.0 in /opt/conda/lib/python3.10/site-packages (from pyjwt[crypto]>=2.4.0->PyGithub) (2.8.0)\r\n",
      "Requirement already satisfied: typing-extensions>=4.0.0 in /opt/conda/lib/python3.10/site-packages (from PyGithub) (4.12.2)\r\n",
      "Requirement already satisfied: urllib3>=1.26.0 in /opt/conda/lib/python3.10/site-packages (from PyGithub) (1.26.18)\r\n",
      "Requirement already satisfied: Deprecated in /opt/conda/lib/python3.10/site-packages (from PyGithub) (1.2.14)\r\n",
      "Requirement already satisfied: charset-normalizer<4,>=2 in /opt/conda/lib/python3.10/site-packages (from requests) (3.3.2)\r\n",
      "Requirement already satisfied: idna<4,>=2.5 in /opt/conda/lib/python3.10/site-packages (from requests) (3.7)\r\n",
      "Requirement already satisfied: certifi>=2017.4.17 in /opt/conda/lib/python3.10/site-packages (from requests) (2024.6.2)\r\n",
      "Requirement already satisfied: cryptography>=3.4.0 in /opt/conda/lib/python3.10/site-packages (from pyjwt[crypto]>=2.4.0->PyGithub) (42.0.8)\r\n",
      "Requirement already satisfied: cffi>=1.4.1 in /opt/conda/lib/python3.10/site-packages (from pynacl>=1.4.0->PyGithub) (1.16.0)\r\n",
      "Requirement already satisfied: wrapt<2,>=1.10 in /opt/conda/lib/python3.10/site-packages (from Deprecated->PyGithub) (1.16.0)\r\n",
      "Requirement already satisfied: pycparser in /opt/conda/lib/python3.10/site-packages (from cffi>=1.4.1->pynacl>=1.4.0->PyGithub) (2.22)\r\n",
      "Downloading PyGithub-2.5.0-py3-none-any.whl (375 kB)\r\n",
      "\u001b[2K   \u001b[90m━━━━━━━━━━━━━━━━━━━━━━━━━━━━━━━━━━━━━━━━\u001b[0m \u001b[32m375.9/375.9 kB\u001b[0m \u001b[31m14.2 MB/s\u001b[0m eta \u001b[36m0:00:00\u001b[0m\r\n",
      "\u001b[?25hDownloading PyNaCl-1.5.0-cp36-abi3-manylinux_2_17_x86_64.manylinux2014_x86_64.manylinux_2_24_x86_64.whl (856 kB)\r\n",
      "\u001b[2K   \u001b[90m━━━━━━━━━━━━━━━━━━━━━━━━━━━━━━━━━━━━━━━━\u001b[0m \u001b[32m856.7/856.7 kB\u001b[0m \u001b[31m31.5 MB/s\u001b[0m eta \u001b[36m0:00:00\u001b[0m\r\n",
      "\u001b[?25hInstalling collected packages: pynacl, PyGithub\r\n",
      "Successfully installed PyGithub-2.5.0 pynacl-1.5.0\r\n"
     ]
    }
   ],
   "source": [
    "! pip install PyGithub requests"
   ]
  },
  {
   "cell_type": "code",
   "execution_count": 4,
   "id": "839f0471",
   "metadata": {
    "_kg_hide-input": false,
    "execution": {
     "iopub.execute_input": "2024-12-03T00:10:00.221053Z",
     "iopub.status.busy": "2024-12-03T00:10:00.219675Z",
     "iopub.status.idle": "2024-12-03T00:12:33.535675Z",
     "shell.execute_reply": "2024-12-03T00:12:33.534321Z"
    },
    "papermill": {
     "duration": 153.331703,
     "end_time": "2024-12-03T00:12:33.538279",
     "exception": false,
     "start_time": "2024-12-03T00:10:00.206576",
     "status": "completed"
    },
    "tags": []
   },
   "outputs": [
    {
     "name": "stdout",
     "output_type": "stream",
     "text": [
      "/kaggle/working/RECsys_Challenge2024\n",
      "run_compile_all_cython: Found 11 Cython files in 5 folders...\r\n",
      "run_compile_all_cython: All files will be compiled using your current python environment: '/opt/conda/bin/python'\r\n",
      "Compiling [1/11]: MatrixFactorizationImpressions_Cython_Epoch.pyx... \r\n",
      "In file included from \u001b[01m\u001b[K/opt/conda/lib/python3.10/site-packages/numpy/core/include/numpy/ndarraytypes.h:1929\u001b[m\u001b[K,\r\n",
      "                 from \u001b[01m\u001b[K/opt/conda/lib/python3.10/site-packages/numpy/core/include/numpy/ndarrayobject.h:12\u001b[m\u001b[K,\r\n",
      "                 from \u001b[01m\u001b[K/opt/conda/lib/python3.10/site-packages/numpy/core/include/numpy/arrayobject.h:5\u001b[m\u001b[K,\r\n",
      "                 from \u001b[01m\u001b[KMatrixFactorizationImpressions_Cython_Epoch.c:1252\u001b[m\u001b[K:\r\n",
      "\u001b[01m\u001b[K/opt/conda/lib/python3.10/site-packages/numpy/core/include/numpy/npy_1_7_deprecated_api.h:17:2:\u001b[m\u001b[K \u001b[01;35m\u001b[Kwarning: \u001b[m\u001b[K#warning \"Using deprecated NumPy API, disable it with \" \"#define NPY_NO_DEPRECATED_API NPY_1_7_API_VERSION\" [\u001b[01;35m\u001b[K-Wcpp\u001b[m\u001b[K]\r\n",
      "   17 | #\u001b[01;35m\u001b[Kwarning\u001b[m\u001b[K \"Using deprecated NumPy API, disable it with \" \\\r\n",
      "      |  \u001b[01;35m\u001b[K^~~~~~~\u001b[m\u001b[K\r\n",
      "\u001b[01m\u001b[KMatrixFactorizationImpressions_Cython_Epoch.c:\u001b[m\u001b[K In function '\u001b[01m\u001b[K__pyx_f_43MatrixFactorizationImpressions_Cython_Epoch_32MatrixFactorization_Cython_Epoch_sampleBPR_Cython\u001b[m\u001b[K':\r\n",
      "\u001b[01m\u001b[KMatrixFactorizationImpressions_Cython_Epoch.c:30351:17:\u001b[m\u001b[K \u001b[01;35m\u001b[Kwarning: \u001b[m\u001b[K'\u001b[01m\u001b[K__pyx_v_start_pos_impression_items\u001b[m\u001b[K' may be used uninitialized in this function [\u001b[01;35m\u001b[K-Wmaybe-uninitialized\u001b[m\u001b[K]\r\n",
      "30351 |       \u001b[01;35m\u001b[K__pyx_t_4 = (__pyx_v_start_pos_impression_items + __pyx_v_index)\u001b[m\u001b[K;\r\n",
      "      |       \u001b[01;35m\u001b[K~~~~~~~~~~^~~~~~~~~~~~~~~~~~~~~~~~~~~~~~~~~~~~~~~~~~~~~~~~~~~~~~\u001b[m\u001b[K\r\n",
      "\u001b[01m\u001b[KMatrixFactorizationImpressions_Cython_Epoch.c:\u001b[m\u001b[K In function '\u001b[01m\u001b[K__pyx_pf_43MatrixFactorizationImpressions_Cython_Epoch_32MatrixFactorization_Cython_Epoch_10epochIteration_Cython_ASY_SVD_SGD\u001b[m\u001b[K':\r\n",
      "\u001b[01m\u001b[KMatrixFactorizationImpressions_Cython_Epoch.c:26111:7:\u001b[m\u001b[K \u001b[01;35m\u001b[Kwarning: \u001b[m\u001b[K'\u001b[01m\u001b[K__pyx_v_end_pos_seen_items\u001b[m\u001b[K' may be used uninitialized in this function [\u001b[01;35m\u001b[K-Wmaybe-uninitialized\u001b[m\u001b[K]\r\n",
      "26111 |       \u001b[01;35m\u001b[Kfor\u001b[m\u001b[K (__pyx_t_21 = __pyx_v_start_pos_seen_items; __pyx_t_21 < __pyx_t_20; __pyx_t_21+=1) {\r\n",
      "      |       \u001b[01;35m\u001b[K^~~\u001b[m\u001b[K\r\n",
      "\u001b[01m\u001b[KMatrixFactorizationImpressions_Cython_Epoch.c:26111:7:\u001b[m\u001b[K \u001b[01;35m\u001b[Kwarning: \u001b[m\u001b[K'\u001b[01m\u001b[K__pyx_v_start_pos_seen_items\u001b[m\u001b[K' may be used uninitialized in this function [\u001b[01;35m\u001b[K-Wmaybe-uninitialized\u001b[m\u001b[K]\r\n",
      "/opt/conda/lib/python3.10/site-packages/Cython/Compiler/Main.py:381: FutureWarning: Cython directive 'language_level' not set, using '3str' for now (Py3). This has changed from earlier releases! File: /kaggle/working/RECsys_Challenge2024/Recommenders/MatrixFactorization/Cython/MatrixFactorizationImpressions_Cython_Epoch.pyx\r\n",
      "  tree = Parsing.p_module(s, pxd, full_module_name)\r\n",
      "Compiling [1/11]: MatrixFactorizationImpressions_Cython_Epoch.pyx... PASS\r\n",
      "\r\n",
      "Compiling [2/11]: MatrixFactorization_Cython_Epoch.pyx... \r\n",
      "In file included from \u001b[01m\u001b[K/opt/conda/lib/python3.10/site-packages/numpy/core/include/numpy/ndarraytypes.h:1929\u001b[m\u001b[K,\r\n",
      "                 from \u001b[01m\u001b[K/opt/conda/lib/python3.10/site-packages/numpy/core/include/numpy/ndarrayobject.h:12\u001b[m\u001b[K,\r\n",
      "                 from \u001b[01m\u001b[K/opt/conda/lib/python3.10/site-packages/numpy/core/include/numpy/arrayobject.h:5\u001b[m\u001b[K,\r\n",
      "                 from \u001b[01m\u001b[KMatrixFactorization_Cython_Epoch.c:1252\u001b[m\u001b[K:\r\n",
      "\u001b[01m\u001b[K/opt/conda/lib/python3.10/site-packages/numpy/core/include/numpy/npy_1_7_deprecated_api.h:17:2:\u001b[m\u001b[K \u001b[01;35m\u001b[Kwarning: \u001b[m\u001b[K#warning \"Using deprecated NumPy API, disable it with \" \"#define NPY_NO_DEPRECATED_API NPY_1_7_API_VERSION\" [\u001b[01;35m\u001b[K-Wcpp\u001b[m\u001b[K]\r\n",
      "   17 | #\u001b[01;35m\u001b[Kwarning\u001b[m\u001b[K \"Using deprecated NumPy API, disable it with \" \\\r\n",
      "      |  \u001b[01;35m\u001b[K^~~~~~~\u001b[m\u001b[K\r\n",
      "\u001b[01m\u001b[KMatrixFactorization_Cython_Epoch.c:\u001b[m\u001b[K In function '\u001b[01m\u001b[K__pyx_pf_32MatrixFactorization_Cython_Epoch_32MatrixFactorization_Cython_Epoch_10epochIteration_Cython_ASY_SVD_SGD\u001b[m\u001b[K':\r\n",
      "\u001b[01m\u001b[KMatrixFactorization_Cython_Epoch.c:26255:9:\u001b[m\u001b[K \u001b[01;35m\u001b[Kwarning: \u001b[m\u001b[K'\u001b[01m\u001b[K__pyx_v_end_pos_seen_items\u001b[m\u001b[K' may be used uninitialized in this function [\u001b[01;35m\u001b[K-Wmaybe-uninitialized\u001b[m\u001b[K]\r\n",
      "26255 |         \u001b[01;35m\u001b[Kfor\u001b[m\u001b[K (__pyx_t_21 = __pyx_v_start_pos_seen_items; __pyx_t_21 < __pyx_t_20; __pyx_t_21+=1) {\r\n",
      "      |         \u001b[01;35m\u001b[K^~~\u001b[m\u001b[K\r\n",
      "\u001b[01m\u001b[KMatrixFactorization_Cython_Epoch.c:26255:9:\u001b[m\u001b[K \u001b[01;35m\u001b[Kwarning: \u001b[m\u001b[K'\u001b[01m\u001b[K__pyx_v_start_pos_seen_items\u001b[m\u001b[K' may be used uninitialized in this function [\u001b[01;35m\u001b[K-Wmaybe-uninitialized\u001b[m\u001b[K]\r\n",
      "/opt/conda/lib/python3.10/site-packages/Cython/Compiler/Main.py:381: FutureWarning: Cython directive 'language_level' not set, using '3str' for now (Py3). This has changed from earlier releases! File: /kaggle/working/RECsys_Challenge2024/Recommenders/MatrixFactorization/Cython/MatrixFactorization_Cython_Epoch.pyx\r\n",
      "  tree = Parsing.p_module(s, pxd, full_module_name)\r\n",
      "Compiling [2/11]: MatrixFactorization_Cython_Epoch.pyx... PASS\r\n",
      "\r\n",
      "Compiling [3/11]: Compute_Similarity_Cython.pyx... \r\n",
      "warning: Compute_Similarity_Cython.pyx:21:0: The 'IF' statement is deprecated and will be removed in a future Cython version. Consider using runtime conditions or C macros instead. See https://github.com/cython/cython/issues/4310\r\n",
      "In file included from \u001b[01m\u001b[K/opt/conda/lib/python3.10/site-packages/numpy/core/include/numpy/ndarraytypes.h:1929\u001b[m\u001b[K,\r\n",
      "                 from \u001b[01m\u001b[K/opt/conda/lib/python3.10/site-packages/numpy/core/include/numpy/ndarrayobject.h:12\u001b[m\u001b[K,\r\n",
      "                 from \u001b[01m\u001b[K/opt/conda/lib/python3.10/site-packages/numpy/core/include/numpy/arrayobject.h:5\u001b[m\u001b[K,\r\n",
      "                 from \u001b[01m\u001b[KCompute_Similarity_Cython.c:1252\u001b[m\u001b[K:\r\n",
      "\u001b[01m\u001b[K/opt/conda/lib/python3.10/site-packages/numpy/core/include/numpy/npy_1_7_deprecated_api.h:17:2:\u001b[m\u001b[K \u001b[01;35m\u001b[Kwarning: \u001b[m\u001b[K#warning \"Using deprecated NumPy API, disable it with \" \"#define NPY_NO_DEPRECATED_API NPY_1_7_API_VERSION\" [\u001b[01;35m\u001b[K-Wcpp\u001b[m\u001b[K]\r\n",
      "   17 | #\u001b[01;35m\u001b[Kwarning\u001b[m\u001b[K \"Using deprecated NumPy API, disable it with \" \\\r\n",
      "      |  \u001b[01;35m\u001b[K^~~~~~~\u001b[m\u001b[K\r\n",
      "/opt/conda/lib/python3.10/site-packages/Cython/Compiler/Main.py:381: FutureWarning: Cython directive 'language_level' not set, using '3str' for now (Py3). This has changed from earlier releases! File: /kaggle/working/RECsys_Challenge2024/Recommenders/Similarity/Cython/Compute_Similarity_Cython.pyx\r\n",
      "  tree = Parsing.p_module(s, pxd, full_module_name)\r\n",
      "warning: Compute_Similarity_Cython.pyx:21:0: The 'IF' statement is deprecated and will be removed in a future Cython version. Consider using runtime conditions or C macros instead. See https://github.com/cython/cython/issues/4310\r\n",
      "Compiling [3/11]: Compute_Similarity_Cython.pyx... PASS\r\n",
      "\r\n",
      "Compiling [4/11]: Sparse_Matrix_Tree_CSR.pyx... \r\n",
      "warning: Sparse_Matrix_Tree_CSR.pyx:132:34: Non-trivial type declarators in shared declaration (e.g. mix of pointers and values). Each pointer declaration should be on its own line.\r\n",
      "warning: Sparse_Matrix_Tree_CSR.pyx:132:66: Non-trivial type declarators in shared declaration (e.g. mix of pointers and values). Each pointer declaration should be on its own line.\r\n",
      "warning: Sparse_Matrix_Tree_CSR.pyx:343:35: Non-trivial type declarators in shared declaration (e.g. mix of pointers and values). Each pointer declaration should be on its own line.\r\n",
      "warning: Sparse_Matrix_Tree_CSR.pyx:343:52: Non-trivial type declarators in shared declaration (e.g. mix of pointers and values). Each pointer declaration should be on its own line.\r\n",
      "warning: Sparse_Matrix_Tree_CSR.pyx:442:35: Non-trivial type declarators in shared declaration (e.g. mix of pointers and values). Each pointer declaration should be on its own line.\r\n",
      "warning: Sparse_Matrix_Tree_CSR.pyx:442:53: Non-trivial type declarators in shared declaration (e.g. mix of pointers and values). Each pointer declaration should be on its own line.\r\n",
      "warning: Sparse_Matrix_Tree_CSR.pyx:442:69: Non-trivial type declarators in shared declaration (e.g. mix of pointers and values). Each pointer declaration should be on its own line.\r\n",
      "warning: Sparse_Matrix_Tree_CSR.pyx:577:35: Non-trivial type declarators in shared declaration (e.g. mix of pointers and values). Each pointer declaration should be on its own line.\r\n",
      "warning: Sparse_Matrix_Tree_CSR.pyx:577:42: Non-trivial type declarators in shared declaration (e.g. mix of pointers and values). Each pointer declaration should be on its own line.\r\n",
      "warning: Sparse_Matrix_Tree_CSR.pyx:578:35: Non-trivial type declarators in shared declaration (e.g. mix of pointers and values). Each pointer declaration should be on its own line.\r\n",
      "warning: Sparse_Matrix_Tree_CSR.pyx:578:53: Non-trivial type declarators in shared declaration (e.g. mix of pointers and values). Each pointer declaration should be on its own line.\r\n",
      "\r\n",
      "Error compiling Cython file:\r\n",
      "------------------------------------------------------------\r\n",
      "...\r\n",
      "            vector_pointer_to_list_elements[index].head = current_element\r\n",
      "            current_element = current_element.higher\r\n",
      "\r\n",
      "\r\n",
      "        # Sort array elements on their data field\r\n",
      "        qsort(vector_pointer_to_list_elements, list_length, sizeof(head_pointer_tree_s), compare_struct_on_data)\r\n",
      "                                                                                         ^\r\n",
      "------------------------------------------------------------\r\n",
      "\r\n",
      "Sparse_Matrix_Tree_CSR.pyx:516:89: Cannot assign type 'int (const void *, const void *) except? -1' to 'int (*)(const_void *, const_void *) noexcept'. Exception values are incompatible. Suggest adding 'noexcept' to the type of 'compare_struct_on_data'.\r\n",
      "\r\n",
      "Error compiling Cython file:\r\n",
      "------------------------------------------------------------\r\n",
      "...\r\n",
      "        # Sort array elements on their data field\r\n",
      "        qsort(vector_pointer_to_list_elements, list_length, sizeof(head_pointer_tree_s), compare_struct_on_data)\r\n",
      "\r\n",
      "        # Sort only the TopK according to their column field\r\n",
      "        # Sort is from lower to higher, therefore the elements to be considered are from len-topK to len\r\n",
      "        qsort(&vector_pointer_to_list_elements[list_length-TopK], TopK, sizeof(head_pointer_tree_s), compare_struct_on_column)\r\n",
      "                                                                                                     ^\r\n",
      "------------------------------------------------------------\r\n",
      "\r\n",
      "Sparse_Matrix_Tree_CSR.pyx:520:101: Cannot assign type 'int (const void *, const void *) except? -1' to 'int (*)(const_void *, const_void *) noexcept'. Exception values are incompatible. Suggest adding 'noexcept' to the type of 'compare_struct_on_column'.\r\n",
      "Traceback (most recent call last):\r\n",
      "  File \"/kaggle/working/RECsys_Challenge2024/CythonCompiler/compile_script.py\", line 48, in <module>\r\n",
      "    setup(\r\n",
      "  File \"/opt/conda/lib/python3.10/site-packages/setuptools/__init__.py\", line 103, in setup\r\n",
      "    return distutils.core.setup(**attrs)\r\n",
      "  File \"/opt/conda/lib/python3.10/site-packages/setuptools/_distutils/core.py\", line 184, in setup\r\n",
      "    return run_commands(dist)\r\n",
      "  File \"/opt/conda/lib/python3.10/site-packages/setuptools/_distutils/core.py\", line 200, in run_commands\r\n",
      "    dist.run_commands()\r\n",
      "  File \"/opt/conda/lib/python3.10/site-packages/setuptools/_distutils/dist.py\", line 969, in run_commands\r\n",
      "    self.run_command(cmd)\r\n",
      "  File \"/opt/conda/lib/python3.10/site-packages/setuptools/dist.py\", line 968, in run_command\r\n",
      "    super().run_command(command)\r\n",
      "  File \"/opt/conda/lib/python3.10/site-packages/setuptools/_distutils/dist.py\", line 988, in run_command\r\n",
      "    cmd_obj.run()\r\n",
      "  File \"/opt/conda/lib/python3.10/site-packages/setuptools/_distutils/command/build_ext.py\", line 359, in run\r\n",
      "    self.build_extensions()\r\n",
      "  File \"/opt/conda/lib/python3.10/site-packages/setuptools/_distutils/command/build_ext.py\", line 479, in build_extensions\r\n",
      "    self._build_extensions_serial()\r\n",
      "  File \"/opt/conda/lib/python3.10/site-packages/setuptools/_distutils/command/build_ext.py\", line 505, in _build_extensions_serial\r\n",
      "    self.build_extension(ext)\r\n",
      "  File \"/opt/conda/lib/python3.10/site-packages/Cython/Distutils/build_ext.py\", line 130, in build_extension\r\n",
      "    new_ext = cythonize(\r\n",
      "  File \"/opt/conda/lib/python3.10/site-packages/Cython/Build/Dependencies.py\", line 1154, in cythonize\r\n",
      "    cythonize_one(*args)\r\n",
      "  File \"/opt/conda/lib/python3.10/site-packages/Cython/Build/Dependencies.py\", line 1321, in cythonize_one\r\n",
      "    raise CompileError(None, pyx_file)\r\n",
      "Cython.Compiler.Errors.CompileError: Sparse_Matrix_Tree_CSR.pyx\r\n",
      "Traceback (most recent call last):\r\n",
      "  File \"/kaggle/working/RECsys_Challenge2024/run_compile_all_cython.py\", line 60, in <module>\r\n",
      "    run_compile_subprocess(file_path, [file_name])\r\n",
      "  File \"/kaggle/working/RECsys_Challenge2024/CythonCompiler/run_compile_subprocess.py\", line 51, in run_compile_subprocess\r\n",
      "    raise exc\r\n",
      "  File \"/kaggle/working/RECsys_Challenge2024/CythonCompiler/run_compile_subprocess.py\", line 32, in run_compile_subprocess\r\n",
      "    output = subprocess.check_output(' '.join(command),\r\n",
      "  File \"/opt/conda/lib/python3.10/subprocess.py\", line 421, in check_output\r\n",
      "    return run(*popenargs, stdout=PIPE, timeout=timeout, check=True,\r\n",
      "  File \"/opt/conda/lib/python3.10/subprocess.py\", line 526, in run\r\n",
      "    raise CalledProcessError(retcode, process.args,\r\n",
      "subprocess.CalledProcessError: Command '/opt/conda/bin/python /kaggle/working/RECsys_Challenge2024/CythonCompiler/compile_script.py Sparse_Matrix_Tree_CSR.pyx build_ext --inplace' returned non-zero exit status 1.\r\n",
      "Compiling [4/11]: Sparse_Matrix_Tree_CSR.pyx... FAIL: Command '/opt/conda/bin/python /kaggle/working/RECsys_Challenge2024/CythonCompiler/compile_script.py Sparse_Matrix_Tree_CSR.pyx build_ext --inplace' returned non-zero exit status 1.\r\n",
      "\r\n",
      "Compiling [5/11]: SLIM_BPR_Cython_Epoch.pyx... \r\n",
      "warning: SLIM_BPR_Cython_Epoch.pyx:24:0: The 'IF' statement is deprecated and will be removed in a future Cython version. Consider using runtime conditions or C macros instead. See https://github.com/cython/cython/issues/4310\r\n",
      "warning: SLIM_BPR_Cython_Epoch.pyx:632:34: Non-trivial type declarators in shared declaration (e.g. mix of pointers and values). Each pointer declaration should be on its own line.\r\n",
      "warning: SLIM_BPR_Cython_Epoch.pyx:632:66: Non-trivial type declarators in shared declaration (e.g. mix of pointers and values). Each pointer declaration should be on its own line.\r\n",
      "warning: SLIM_BPR_Cython_Epoch.pyx:817:35: Non-trivial type declarators in shared declaration (e.g. mix of pointers and values). Each pointer declaration should be on its own line.\r\n",
      "warning: SLIM_BPR_Cython_Epoch.pyx:817:52: Non-trivial type declarators in shared declaration (e.g. mix of pointers and values). Each pointer declaration should be on its own line.\r\n",
      "warning: SLIM_BPR_Cython_Epoch.pyx:916:35: Non-trivial type declarators in shared declaration (e.g. mix of pointers and values). Each pointer declaration should be on its own line.\r\n",
      "warning: SLIM_BPR_Cython_Epoch.pyx:916:53: Non-trivial type declarators in shared declaration (e.g. mix of pointers and values). Each pointer declaration should be on its own line.\r\n",
      "warning: SLIM_BPR_Cython_Epoch.pyx:916:69: Non-trivial type declarators in shared declaration (e.g. mix of pointers and values). Each pointer declaration should be on its own line.\r\n",
      "warning: SLIM_BPR_Cython_Epoch.pyx:1051:35: Non-trivial type declarators in shared declaration (e.g. mix of pointers and values). Each pointer declaration should be on its own line.\r\n",
      "warning: SLIM_BPR_Cython_Epoch.pyx:1051:42: Non-trivial type declarators in shared declaration (e.g. mix of pointers and values). Each pointer declaration should be on its own line.\r\n",
      "warning: SLIM_BPR_Cython_Epoch.pyx:1052:35: Non-trivial type declarators in shared declaration (e.g. mix of pointers and values). Each pointer declaration should be on its own line.\r\n",
      "warning: SLIM_BPR_Cython_Epoch.pyx:1052:53: Non-trivial type declarators in shared declaration (e.g. mix of pointers and values). Each pointer declaration should be on its own line.\r\n",
      "\r\n",
      "Error compiling Cython file:\r\n",
      "------------------------------------------------------------\r\n",
      "...\r\n",
      "            vector_pointer_to_list_elements[index].head = current_element\r\n",
      "            current_element = current_element.higher\r\n",
      "\r\n",
      "\r\n",
      "        # Sort array elements on their data field\r\n",
      "        qsort(vector_pointer_to_list_elements, list_length, sizeof(head_pointer_tree_s), compare_struct_on_data)\r\n",
      "                                                                                         ^\r\n",
      "------------------------------------------------------------\r\n",
      "\r\n",
      "SLIM_BPR_Cython_Epoch.pyx:990:89: Cannot assign type 'int (const void *, const void *) except? -1' to 'int (*)(const_void *, const_void *) noexcept'. Exception values are incompatible. Suggest adding 'noexcept' to the type of 'compare_struct_on_data'.\r\n",
      "\r\n",
      "Error compiling Cython file:\r\n",
      "------------------------------------------------------------\r\n",
      "...\r\n",
      "        # Sort array elements on their data field\r\n",
      "        qsort(vector_pointer_to_list_elements, list_length, sizeof(head_pointer_tree_s), compare_struct_on_data)\r\n",
      "\r\n",
      "        # Sort only the TopK according to their column field\r\n",
      "        # Sort is from lower to higher, therefore the elements to be considered are from len-topK to len\r\n",
      "        qsort(&vector_pointer_to_list_elements[list_length-TopK], TopK, sizeof(head_pointer_tree_s), compare_struct_on_column)\r\n",
      "                                                                                                     ^\r\n",
      "------------------------------------------------------------\r\n",
      "\r\n",
      "SLIM_BPR_Cython_Epoch.pyx:994:101: Cannot assign type 'int (const void *, const void *) except? -1' to 'int (*)(const_void *, const_void *) noexcept'. Exception values are incompatible. Suggest adding 'noexcept' to the type of 'compare_struct_on_column'.\r\n",
      "Traceback (most recent call last):\r\n",
      "  File \"/kaggle/working/RECsys_Challenge2024/CythonCompiler/compile_script.py\", line 48, in <module>\r\n",
      "    setup(\r\n",
      "  File \"/opt/conda/lib/python3.10/site-packages/setuptools/__init__.py\", line 103, in setup\r\n",
      "    return distutils.core.setup(**attrs)\r\n",
      "  File \"/opt/conda/lib/python3.10/site-packages/setuptools/_distutils/core.py\", line 184, in setup\r\n",
      "    return run_commands(dist)\r\n",
      "  File \"/opt/conda/lib/python3.10/site-packages/setuptools/_distutils/core.py\", line 200, in run_commands\r\n",
      "    dist.run_commands()\r\n",
      "  File \"/opt/conda/lib/python3.10/site-packages/setuptools/_distutils/dist.py\", line 969, in run_commands\r\n",
      "    self.run_command(cmd)\r\n",
      "  File \"/opt/conda/lib/python3.10/site-packages/setuptools/dist.py\", line 968, in run_command\r\n",
      "    super().run_command(command)\r\n",
      "  File \"/opt/conda/lib/python3.10/site-packages/setuptools/_distutils/dist.py\", line 988, in run_command\r\n",
      "    cmd_obj.run()\r\n",
      "  File \"/opt/conda/lib/python3.10/site-packages/setuptools/_distutils/command/build_ext.py\", line 359, in run\r\n",
      "    self.build_extensions()\r\n",
      "  File \"/opt/conda/lib/python3.10/site-packages/setuptools/_distutils/command/build_ext.py\", line 479, in build_extensions\r\n",
      "    self._build_extensions_serial()\r\n",
      "  File \"/opt/conda/lib/python3.10/site-packages/setuptools/_distutils/command/build_ext.py\", line 505, in _build_extensions_serial\r\n",
      "    self.build_extension(ext)\r\n",
      "  File \"/opt/conda/lib/python3.10/site-packages/Cython/Distutils/build_ext.py\", line 130, in build_extension\r\n",
      "    new_ext = cythonize(\r\n",
      "  File \"/opt/conda/lib/python3.10/site-packages/Cython/Build/Dependencies.py\", line 1154, in cythonize\r\n",
      "    cythonize_one(*args)\r\n",
      "  File \"/opt/conda/lib/python3.10/site-packages/Cython/Build/Dependencies.py\", line 1321, in cythonize_one\r\n",
      "    raise CompileError(None, pyx_file)\r\n",
      "Cython.Compiler.Errors.CompileError: SLIM_BPR_Cython_Epoch.pyx\r\n",
      "Traceback (most recent call last):\r\n",
      "  File \"/kaggle/working/RECsys_Challenge2024/run_compile_all_cython.py\", line 60, in <module>\r\n",
      "    run_compile_subprocess(file_path, [file_name])\r\n",
      "  File \"/kaggle/working/RECsys_Challenge2024/CythonCompiler/run_compile_subprocess.py\", line 51, in run_compile_subprocess\r\n",
      "    raise exc\r\n",
      "  File \"/kaggle/working/RECsys_Challenge2024/CythonCompiler/run_compile_subprocess.py\", line 32, in run_compile_subprocess\r\n",
      "    output = subprocess.check_output(' '.join(command),\r\n",
      "  File \"/opt/conda/lib/python3.10/subprocess.py\", line 421, in check_output\r\n",
      "    return run(*popenargs, stdout=PIPE, timeout=timeout, check=True,\r\n",
      "  File \"/opt/conda/lib/python3.10/subprocess.py\", line 526, in run\r\n",
      "    raise CalledProcessError(retcode, process.args,\r\n",
      "subprocess.CalledProcessError: Command '/opt/conda/bin/python /kaggle/working/RECsys_Challenge2024/CythonCompiler/compile_script.py SLIM_BPR_Cython_Epoch.pyx build_ext --inplace' returned non-zero exit status 1.\r\n",
      "Compiling [5/11]: SLIM_BPR_Cython_Epoch.pyx... FAIL: Command '/opt/conda/bin/python /kaggle/working/RECsys_Challenge2024/CythonCompiler/compile_script.py SLIM_BPR_Cython_Epoch.pyx build_ext --inplace' returned non-zero exit status 1.\r\n",
      "\r\n",
      "Compiling [6/11]: Triangular_Matrix.pyx... \r\n",
      "warning: Triangular_Matrix.pyx:22:0: The 'IF' statement is deprecated and will be removed in a future Cython version. Consider using runtime conditions or C macros instead. See https://github.com/cython/cython/issues/4310\r\n",
      "In file included from \u001b[01m\u001b[K/opt/conda/lib/python3.10/site-packages/numpy/core/include/numpy/ndarraytypes.h:1929\u001b[m\u001b[K,\r\n",
      "                 from \u001b[01m\u001b[K/opt/conda/lib/python3.10/site-packages/numpy/core/include/numpy/ndarrayobject.h:12\u001b[m\u001b[K,\r\n",
      "                 from \u001b[01m\u001b[K/opt/conda/lib/python3.10/site-packages/numpy/core/include/numpy/arrayobject.h:5\u001b[m\u001b[K,\r\n",
      "                 from \u001b[01m\u001b[KTriangular_Matrix.c:1252\u001b[m\u001b[K:\r\n",
      "\u001b[01m\u001b[K/opt/conda/lib/python3.10/site-packages/numpy/core/include/numpy/npy_1_7_deprecated_api.h:17:2:\u001b[m\u001b[K \u001b[01;35m\u001b[Kwarning: \u001b[m\u001b[K#warning \"Using deprecated NumPy API, disable it with \" \"#define NPY_NO_DEPRECATED_API NPY_1_7_API_VERSION\" [\u001b[01;35m\u001b[K-Wcpp\u001b[m\u001b[K]\r\n",
      "   17 | #\u001b[01;35m\u001b[Kwarning\u001b[m\u001b[K \"Using deprecated NumPy API, disable it with \" \\\r\n",
      "      |  \u001b[01;35m\u001b[K^~~~~~~\u001b[m\u001b[K\r\n",
      "/opt/conda/lib/python3.10/site-packages/Cython/Compiler/Main.py:381: FutureWarning: Cython directive 'language_level' not set, using '3str' for now (Py3). This has changed from earlier releases! File: /kaggle/working/RECsys_Challenge2024/Recommenders/SLIM/Cython/Triangular_Matrix.pyx\r\n",
      "  tree = Parsing.p_module(s, pxd, full_module_name)\r\n",
      "warning: Triangular_Matrix.pyx:22:0: The 'IF' statement is deprecated and will be removed in a future Cython version. Consider using runtime conditions or C macros instead. See https://github.com/cython/cython/issues/4310\r\n",
      "Compiling [6/11]: Triangular_Matrix.pyx... PASS\r\n",
      "\r\n",
      "Compiling [7/11]: CFW_DVV_Similarity_Cython_SGD.pyx... \r\n",
      "In file included from \u001b[01m\u001b[K/opt/conda/lib/python3.10/site-packages/numpy/core/include/numpy/ndarraytypes.h:1929\u001b[m\u001b[K,\r\n",
      "                 from \u001b[01m\u001b[K/opt/conda/lib/python3.10/site-packages/numpy/core/include/numpy/ndarrayobject.h:12\u001b[m\u001b[K,\r\n",
      "                 from \u001b[01m\u001b[K/opt/conda/lib/python3.10/site-packages/numpy/core/include/numpy/arrayobject.h:5\u001b[m\u001b[K,\r\n",
      "                 from \u001b[01m\u001b[KCFW_DVV_Similarity_Cython_SGD.c:1252\u001b[m\u001b[K:\r\n",
      "\u001b[01m\u001b[K/opt/conda/lib/python3.10/site-packages/numpy/core/include/numpy/npy_1_7_deprecated_api.h:17:2:\u001b[m\u001b[K \u001b[01;35m\u001b[Kwarning: \u001b[m\u001b[K#warning \"Using deprecated NumPy API, disable it with \" \"#define NPY_NO_DEPRECATED_API NPY_1_7_API_VERSION\" [\u001b[01;35m\u001b[K-Wcpp\u001b[m\u001b[K]\r\n",
      "   17 | #\u001b[01;35m\u001b[Kwarning\u001b[m\u001b[K \"Using deprecated NumPy API, disable it with \" \\\r\n",
      "      |  \u001b[01;35m\u001b[K^~~~~~~\u001b[m\u001b[K\r\n",
      "/opt/conda/lib/python3.10/site-packages/Cython/Compiler/Main.py:381: FutureWarning: Cython directive 'language_level' not set, using '3str' for now (Py3). This has changed from earlier releases! File: /kaggle/working/RECsys_Challenge2024/Recommenders/FeatureWeighting/Cython/CFW_DVV_Similarity_Cython_SGD.pyx\r\n",
      "  tree = Parsing.p_module(s, pxd, full_module_name)\r\n",
      "Compiling [7/11]: CFW_DVV_Similarity_Cython_SGD.pyx... PASS\r\n",
      "\r\n",
      "Compiling [8/11]: CFW_D_Similarity_Cython_SGD.pyx... \r\n",
      "In file included from \u001b[01m\u001b[K/opt/conda/lib/python3.10/site-packages/numpy/core/include/numpy/ndarraytypes.h:1929\u001b[m\u001b[K,\r\n",
      "                 from \u001b[01m\u001b[K/opt/conda/lib/python3.10/site-packages/numpy/core/include/numpy/ndarrayobject.h:12\u001b[m\u001b[K,\r\n",
      "                 from \u001b[01m\u001b[K/opt/conda/lib/python3.10/site-packages/numpy/core/include/numpy/arrayobject.h:5\u001b[m\u001b[K,\r\n",
      "                 from \u001b[01m\u001b[KCFW_D_Similarity_Cython_SGD.c:1252\u001b[m\u001b[K:\r\n",
      "\u001b[01m\u001b[K/opt/conda/lib/python3.10/site-packages/numpy/core/include/numpy/npy_1_7_deprecated_api.h:17:2:\u001b[m\u001b[K \u001b[01;35m\u001b[Kwarning: \u001b[m\u001b[K#warning \"Using deprecated NumPy API, disable it with \" \"#define NPY_NO_DEPRECATED_API NPY_1_7_API_VERSION\" [\u001b[01;35m\u001b[K-Wcpp\u001b[m\u001b[K]\r\n",
      "   17 | #\u001b[01;35m\u001b[Kwarning\u001b[m\u001b[K \"Using deprecated NumPy API, disable it with \" \\\r\n",
      "      |  \u001b[01;35m\u001b[K^~~~~~~\u001b[m\u001b[K\r\n",
      "\u001b[01m\u001b[KCFW_D_Similarity_Cython_SGD.c:\u001b[m\u001b[K In function '\u001b[01m\u001b[K__pyx_pf_27CFW_D_Similarity_Cython_SGD_27CFW_D_Similarity_Cython_SGD_6fit\u001b[m\u001b[K':\r\n",
      "\u001b[01m\u001b[KCFW_D_Similarity_Cython_SGD.c:23373:55:\u001b[m\u001b[K \u001b[01;35m\u001b[Kwarning: \u001b[m\u001b[K'\u001b[01m\u001b[K__pyx_v_sample_num\u001b[m\u001b[K' may be used uninitialized in this function [\u001b[01;35m\u001b[K-Wmaybe-uninitialized\u001b[m\u001b[K]\r\n",
      "23373 |   __pyx_t_3 = PyFloat_FromDouble((__pyx_v_cum_loss / \u001b[01;35m\u001b[K((double)__pyx_v_sample_num)\u001b[m\u001b[K)); if (unlikely(!__pyx_t_3)) __PYX_ERR(0, 290, __pyx_L1_error)\r\n",
      "      |                                                      \u001b[01;35m\u001b[K~^~~~~~~~~~~~~~~~~~~~~~~~~~~\u001b[m\u001b[K\r\n",
      "/opt/conda/lib/python3.10/site-packages/Cython/Compiler/Main.py:381: FutureWarning: Cython directive 'language_level' not set, using '3str' for now (Py3). This has changed from earlier releases! File: /kaggle/working/RECsys_Challenge2024/Recommenders/FeatureWeighting/Cython/CFW_D_Similarity_Cython_SGD.pyx\r\n",
      "  tree = Parsing.p_module(s, pxd, full_module_name)\r\n",
      "Compiling [8/11]: CFW_D_Similarity_Cython_SGD.pyx... PASS\r\n",
      "\r\n",
      "Compiling [9/11]: FBSM_Rating_Cython_SGD.pyx... \r\n",
      "In file included from \u001b[01m\u001b[K/opt/conda/lib/python3.10/site-packages/numpy/core/include/numpy/ndarraytypes.h:1929\u001b[m\u001b[K,\r\n",
      "                 from \u001b[01m\u001b[K/opt/conda/lib/python3.10/site-packages/numpy/core/include/numpy/ndarrayobject.h:12\u001b[m\u001b[K,\r\n",
      "                 from \u001b[01m\u001b[K/opt/conda/lib/python3.10/site-packages/numpy/core/include/numpy/arrayobject.h:5\u001b[m\u001b[K,\r\n",
      "                 from \u001b[01m\u001b[KFBSM_Rating_Cython_SGD.c:1252\u001b[m\u001b[K:\r\n",
      "\u001b[01m\u001b[K/opt/conda/lib/python3.10/site-packages/numpy/core/include/numpy/npy_1_7_deprecated_api.h:17:2:\u001b[m\u001b[K \u001b[01;35m\u001b[Kwarning: \u001b[m\u001b[K#warning \"Using deprecated NumPy API, disable it with \" \"#define NPY_NO_DEPRECATED_API NPY_1_7_API_VERSION\" [\u001b[01;35m\u001b[K-Wcpp\u001b[m\u001b[K]\r\n",
      "   17 | #\u001b[01;35m\u001b[Kwarning\u001b[m\u001b[K \"Using deprecated NumPy API, disable it with \" \\\r\n",
      "      |  \u001b[01;35m\u001b[K^~~~~~~\u001b[m\u001b[K\r\n",
      "\u001b[01m\u001b[KFBSM_Rating_Cython_SGD.c:\u001b[m\u001b[K In function '\u001b[01m\u001b[K__pyx_pf_22FBSM_Rating_Cython_SGD_22FBSM_Rating_Cython_SGD_2fit\u001b[m\u001b[K':\r\n",
      "\u001b[01m\u001b[KFBSM_Rating_Cython_SGD.c:26607:55:\u001b[m\u001b[K \u001b[01;35m\u001b[Kwarning: \u001b[m\u001b[K'\u001b[01m\u001b[K__pyx_v_num_sample\u001b[m\u001b[K' may be used uninitialized in this function [\u001b[01;35m\u001b[K-Wmaybe-uninitialized\u001b[m\u001b[K]\r\n",
      "26607 |   __pyx_t_5 = PyFloat_FromDouble((__pyx_v_cum_loss / \u001b[01;35m\u001b[K((double)__pyx_v_num_sample)\u001b[m\u001b[K)); if (unlikely(!__pyx_t_5)) __PYX_ERR(0, 551, __pyx_L1_error)\r\n",
      "      |                                                      \u001b[01;35m\u001b[K~^~~~~~~~~~~~~~~~~~~~~~~~~~~\u001b[m\u001b[K\r\n",
      "/opt/conda/lib/python3.10/site-packages/Cython/Compiler/Main.py:381: FutureWarning: Cython directive 'language_level' not set, using '3str' for now (Py3). This has changed from earlier releases! File: /kaggle/working/RECsys_Challenge2024/Recommenders/FeatureWeighting/Cython/FBSM_Rating_Cython_SGD.pyx\r\n",
      "  tree = Parsing.p_module(s, pxd, full_module_name)\r\n",
      "Compiling [9/11]: FBSM_Rating_Cython_SGD.pyx... PASS\r\n",
      "\r\n",
      "Compiling [10/11]: HP3_Similarity_Cython_SGD.pyx... \r\n",
      "performance hint: HP3_Similarity_Cython_SGD.pyx:113:40: Index should be typed for more efficient access\r\n",
      "performance hint: HP3_Similarity_Cython_SGD.pyx:114:40: Index should be typed for more efficient access\r\n",
      "In file included from \u001b[01m\u001b[K/opt/conda/lib/python3.10/site-packages/numpy/core/include/numpy/ndarraytypes.h:1929\u001b[m\u001b[K,\r\n",
      "                 from \u001b[01m\u001b[K/opt/conda/lib/python3.10/site-packages/numpy/core/include/numpy/ndarrayobject.h:12\u001b[m\u001b[K,\r\n",
      "                 from \u001b[01m\u001b[K/opt/conda/lib/python3.10/site-packages/numpy/core/include/numpy/arrayobject.h:5\u001b[m\u001b[K,\r\n",
      "                 from \u001b[01m\u001b[KHP3_Similarity_Cython_SGD.c:1252\u001b[m\u001b[K:\r\n",
      "\u001b[01m\u001b[K/opt/conda/lib/python3.10/site-packages/numpy/core/include/numpy/npy_1_7_deprecated_api.h:17:2:\u001b[m\u001b[K \u001b[01;35m\u001b[Kwarning: \u001b[m\u001b[K#warning \"Using deprecated NumPy API, disable it with \" \"#define NPY_NO_DEPRECATED_API NPY_1_7_API_VERSION\" [\u001b[01;35m\u001b[K-Wcpp\u001b[m\u001b[K]\r\n",
      "   17 | #\u001b[01;35m\u001b[Kwarning\u001b[m\u001b[K \"Using deprecated NumPy API, disable it with \" \\\r\n",
      "      |  \u001b[01;35m\u001b[K^~~~~~~\u001b[m\u001b[K\r\n",
      "\u001b[01m\u001b[KHP3_Similarity_Cython_SGD.c:\u001b[m\u001b[K In function '\u001b[01m\u001b[K__pyx_pf_25HP3_Similarity_Cython_SGD_25HP3_Similarity_Cython_SGD_4fit\u001b[m\u001b[K':\r\n",
      "\u001b[01m\u001b[KHP3_Similarity_Cython_SGD.c:23631:55:\u001b[m\u001b[K \u001b[01;35m\u001b[Kwarning: \u001b[m\u001b[K'\u001b[01m\u001b[K__pyx_v_sample_num\u001b[m\u001b[K' may be used uninitialized in this function [\u001b[01;35m\u001b[K-Wmaybe-uninitialized\u001b[m\u001b[K]\r\n",
      "23631 |   __pyx_t_1 = PyFloat_FromDouble((__pyx_v_cum_loss / \u001b[01;35m\u001b[K((double)__pyx_v_sample_num)\u001b[m\u001b[K)); if (unlikely(!__pyx_t_1)) __PYX_ERR(0, 291, __pyx_L1_error)\r\n",
      "      |                                                      \u001b[01;35m\u001b[K~^~~~~~~~~~~~~~~~~~~~~~~~~~~\u001b[m\u001b[K\r\n",
      "/opt/conda/lib/python3.10/site-packages/Cython/Compiler/Main.py:381: FutureWarning: Cython directive 'language_level' not set, using '3str' for now (Py3). This has changed from earlier releases! File: /kaggle/working/RECsys_Challenge2024/Recommenders/FeatureWeighting/Cython/HP3_Similarity_Cython_SGD.pyx\r\n",
      "  tree = Parsing.p_module(s, pxd, full_module_name)\r\n",
      "performance hint: HP3_Similarity_Cython_SGD.pyx:113:40: Index should be typed for more efficient access\r\n",
      "performance hint: HP3_Similarity_Cython_SGD.pyx:114:40: Index should be typed for more efficient access\r\n",
      "Compiling [10/11]: HP3_Similarity_Cython_SGD.pyx... PASS\r\n",
      "\r\n",
      "Compiling [11/11]: DataIterator.pyx... \r\n",
      "In file included from \u001b[01m\u001b[K/opt/conda/lib/python3.10/site-packages/numpy/core/include/numpy/ndarraytypes.h:1929\u001b[m\u001b[K,\r\n",
      "                 from \u001b[01m\u001b[K/opt/conda/lib/python3.10/site-packages/numpy/core/include/numpy/ndarrayobject.h:12\u001b[m\u001b[K,\r\n",
      "                 from \u001b[01m\u001b[K/opt/conda/lib/python3.10/site-packages/numpy/core/include/numpy/arrayobject.h:5\u001b[m\u001b[K,\r\n",
      "                 from \u001b[01m\u001b[KDataIterator.c:1252\u001b[m\u001b[K:\r\n",
      "\u001b[01m\u001b[K/opt/conda/lib/python3.10/site-packages/numpy/core/include/numpy/npy_1_7_deprecated_api.h:17:2:\u001b[m\u001b[K \u001b[01;35m\u001b[Kwarning: \u001b[m\u001b[K#warning \"Using deprecated NumPy API, disable it with \" \"#define NPY_NO_DEPRECATED_API NPY_1_7_API_VERSION\" [\u001b[01;35m\u001b[K-Wcpp\u001b[m\u001b[K]\r\n",
      "   17 | #\u001b[01;35m\u001b[Kwarning\u001b[m\u001b[K \"Using deprecated NumPy API, disable it with \" \\\r\n",
      "      |  \u001b[01;35m\u001b[K^~~~~~~\u001b[m\u001b[K\r\n",
      "\u001b[01m\u001b[KDataIterator.c:\u001b[m\u001b[K In function '\u001b[01m\u001b[K__pyx_pf_12DataIterator_30InteractionAndNegativeIterator_6__next__\u001b[m\u001b[K':\r\n",
      "\u001b[01m\u001b[KDataIterator.c:25495:22:\u001b[m\u001b[K \u001b[01;35m\u001b[Kwarning: \u001b[m\u001b[K'\u001b[01m\u001b[K__pyx_v_i_batch\u001b[m\u001b[K' may be used uninitialized in this function [\u001b[01;35m\u001b[K-Wmaybe-uninitialized\u001b[m\u001b[K]\r\n",
      "25495 |     (__pyx_v_i_batch \u001b[01;35m\u001b[K+\u001b[m\u001b[K 1),\r\n",
      "      |                      \u001b[01;35m\u001b[K^\u001b[m\u001b[K\r\n",
      "\u001b[01m\u001b[KDataIterator.c:\u001b[m\u001b[K In function '\u001b[01m\u001b[K__pyx_pf_12DataIterator_11BPRIterator_6__next__\u001b[m\u001b[K':\r\n",
      "\u001b[01m\u001b[KDataIterator.c:23054:22:\u001b[m\u001b[K \u001b[01;35m\u001b[Kwarning: \u001b[m\u001b[K'\u001b[01m\u001b[K__pyx_v_i_batch\u001b[m\u001b[K' may be used uninitialized in this function [\u001b[01;35m\u001b[K-Wmaybe-uninitialized\u001b[m\u001b[K]\r\n",
      "23054 |     (__pyx_v_i_batch \u001b[01;35m\u001b[K+\u001b[m\u001b[K 1),\r\n",
      "      |                      \u001b[01;35m\u001b[K^\u001b[m\u001b[K\r\n",
      "\u001b[01m\u001b[KDataIterator.c:\u001b[m\u001b[K In function '\u001b[01m\u001b[K__pyx_pf_12DataIterator_19InteractionIterator_6__next__\u001b[m\u001b[K':\r\n",
      "\u001b[01m\u001b[KDataIterator.c:20937:22:\u001b[m\u001b[K \u001b[01;35m\u001b[Kwarning: \u001b[m\u001b[K'\u001b[01m\u001b[K__pyx_v_i_batch\u001b[m\u001b[K' may be used uninitialized in this function [\u001b[01;35m\u001b[K-Wmaybe-uninitialized\u001b[m\u001b[K]\r\n",
      "20937 |     (__pyx_v_i_batch \u001b[01;35m\u001b[K+\u001b[m\u001b[K 1),\r\n",
      "      |                      \u001b[01;35m\u001b[K^\u001b[m\u001b[K\r\n",
      "/opt/conda/lib/python3.10/site-packages/Cython/Compiler/Main.py:381: FutureWarning: Cython directive 'language_level' not set, using '3str' for now (Py3). This has changed from earlier releases! File: /kaggle/working/RECsys_Challenge2024/Utils/PyTorch/Cython/DataIterator.pyx\r\n",
      "  tree = Parsing.p_module(s, pxd, full_module_name)\r\n",
      "Compiling [11/11]: DataIterator.pyx... PASS\r\n",
      "\r\n",
      "run_compile_all_cython: Compilation finished. FAILS 2/11.\r\n",
      "Compilation log can be found here: './result_experiments/run_compile_all_cython.txt'\r\n"
     ]
    }
   ],
   "source": [
    "%cd /kaggle/working/RECsys_Challenge2024\n",
    "! python run_compile_all_cython.py"
   ]
  },
  {
   "cell_type": "code",
   "execution_count": 5,
   "id": "ba4fcc81",
   "metadata": {
    "execution": {
     "iopub.execute_input": "2024-12-03T00:12:33.576278Z",
     "iopub.status.busy": "2024-12-03T00:12:33.575493Z",
     "iopub.status.idle": "2024-12-03T00:12:35.546747Z",
     "shell.execute_reply": "2024-12-03T00:12:35.545585Z"
    },
    "papermill": {
     "duration": 1.997072,
     "end_time": "2024-12-03T00:12:35.549313",
     "exception": false,
     "start_time": "2024-12-03T00:12:33.552241",
     "status": "completed"
    },
    "tags": []
   },
   "outputs": [],
   "source": [
    "from Utils.notebookFunctions import *\n",
    "import numpy as np\n",
    "import pandas as pd\n",
    "import scipy.sparse as sps\n",
    "import time\n",
    "import shutil\n",
    "import optuna\n",
    "import json\n",
    "import os\n",
    "from Utils.seconds_to_biggest_unit import seconds_to_biggest_unit\n",
    "\n",
    "\n",
    "K_PATH = '/kaggle/working/RECsys_Challenge2024'\n",
    "GH_PATH = 'TrainedModels/WithoutKFCV'\n",
    "D_PATH = 'Hybrid/LinearCombination'\n",
    "\n",
    "np.random.seed(42)"
   ]
  },
  {
   "cell_type": "markdown",
   "id": "94014d83",
   "metadata": {
    "papermill": {
     "duration": 0.012768,
     "end_time": "2024-12-03T00:12:35.575406",
     "exception": false,
     "start_time": "2024-12-03T00:12:35.562638",
     "status": "completed"
    },
    "tags": []
   },
   "source": [
    "## Import the repository"
   ]
  },
  {
   "cell_type": "code",
   "execution_count": 6,
   "id": "a360d997",
   "metadata": {
    "execution": {
     "iopub.execute_input": "2024-12-03T00:12:35.603199Z",
     "iopub.status.busy": "2024-12-03T00:12:35.602526Z",
     "iopub.status.idle": "2024-12-03T00:12:35.980315Z",
     "shell.execute_reply": "2024-12-03T00:12:35.979172Z"
    },
    "papermill": {
     "duration": 0.394148,
     "end_time": "2024-12-03T00:12:35.982525",
     "exception": false,
     "start_time": "2024-12-03T00:12:35.588377",
     "status": "completed"
    },
    "tags": []
   },
   "outputs": [
    {
     "name": "stdout",
     "output_type": "stream",
     "text": [
      "Repository 'RECsys_Challenge2024' found.\n"
     ]
    }
   ],
   "source": [
    "repo = get_repo_from_github(token)"
   ]
  },
  {
   "cell_type": "code",
   "execution_count": 7,
   "id": "1279abf3",
   "metadata": {
    "execution": {
     "iopub.execute_input": "2024-12-03T00:12:36.010652Z",
     "iopub.status.busy": "2024-12-03T00:12:36.010245Z",
     "iopub.status.idle": "2024-12-03T00:12:36.015870Z",
     "shell.execute_reply": "2024-12-03T00:12:36.014821Z"
    },
    "papermill": {
     "duration": 0.022384,
     "end_time": "2024-12-03T00:12:36.018037",
     "exception": false,
     "start_time": "2024-12-03T00:12:35.995653",
     "status": "completed"
    },
    "tags": []
   },
   "outputs": [],
   "source": [
    "config = {\n",
    "    'model': 'SecondLinearCombination',\n",
    "    'tune_parameters': True,\n",
    "    'database_path': '/kaggle/working/history_SecondLinearCombination.db',\n",
    "    'copy_prev_best_params': False,\n",
    "    'tune_best_params': False,\n",
    "    'save_github': True\n",
    "}"
   ]
  },
  {
   "cell_type": "markdown",
   "id": "b29cfeaa",
   "metadata": {
    "papermill": {
     "duration": 0.013022,
     "end_time": "2024-12-03T00:12:36.044107",
     "exception": false,
     "start_time": "2024-12-03T00:12:36.031085",
     "status": "completed"
    },
    "tags": []
   },
   "source": [
    "Import the database where previous tuning trials have been saved."
   ]
  },
  {
   "cell_type": "code",
   "execution_count": 8,
   "id": "3709524d",
   "metadata": {
    "execution": {
     "iopub.execute_input": "2024-12-03T00:12:36.072031Z",
     "iopub.status.busy": "2024-12-03T00:12:36.071627Z",
     "iopub.status.idle": "2024-12-03T00:12:36.077111Z",
     "shell.execute_reply": "2024-12-03T00:12:36.075924Z"
    },
    "papermill": {
     "duration": 0.022249,
     "end_time": "2024-12-03T00:12:36.079478",
     "exception": false,
     "start_time": "2024-12-03T00:12:36.057229",
     "status": "completed"
    },
    "tags": []
   },
   "outputs": [],
   "source": [
    "try:\n",
    "    shutil.copyfile(\n",
    "        f'{K_PATH}/{GH_PATH}/{D_PATH}/{config[\"model\"]}Recommender/history_{config[\"model\"]}.db', \n",
    "        config['database_path']\n",
    "    )\n",
    "except FileNotFoundError:\n",
    "    pass # if not present optuna will create it"
   ]
  },
  {
   "cell_type": "markdown",
   "id": "fb6127f2",
   "metadata": {
    "papermill": {
     "duration": 0.013531,
     "end_time": "2024-12-03T00:12:36.106746",
     "exception": false,
     "start_time": "2024-12-03T00:12:36.093215",
     "status": "completed"
    },
    "tags": []
   },
   "source": [
    "# Construction of URM and ICM matrices"
   ]
  },
  {
   "cell_type": "code",
   "execution_count": 9,
   "id": "e3fc7bf7",
   "metadata": {
    "execution": {
     "iopub.execute_input": "2024-12-03T00:12:36.135633Z",
     "iopub.status.busy": "2024-12-03T00:12:36.135206Z",
     "iopub.status.idle": "2024-12-03T00:12:36.946968Z",
     "shell.execute_reply": "2024-12-03T00:12:36.945912Z"
    },
    "papermill": {
     "duration": 0.829076,
     "end_time": "2024-12-03T00:12:36.949438",
     "exception": false,
     "start_time": "2024-12-03T00:12:36.120362",
     "status": "completed"
    },
    "tags": []
   },
   "outputs": [
    {
     "data": {
      "text/plain": [
       "<Compressed Sparse Row sparse matrix of dtype 'float64'\n",
       "\twith 1764607 stored elements and shape (35736, 38121)>"
      ]
     },
     "execution_count": 9,
     "metadata": {},
     "output_type": "execute_result"
    }
   ],
   "source": [
    "URM_all_dataframe = pd.read_csv(\"/kaggle/input/recommender-system-2024-challenge-polimi/data_train.csv\")\n",
    "\n",
    "n_users = len(URM_all_dataframe[\"user_id\"].unique())\n",
    "n_items = len(URM_all_dataframe[\"item_id\"].unique())\n",
    "\n",
    "URM_all = sps.csr_matrix((URM_all_dataframe[\"data\"].values, \n",
    "                          (URM_all_dataframe[\"user_id\"].values, URM_all_dataframe[\"item_id\"].values)),\n",
    "                        shape = (n_users, n_items))\n",
    "\n",
    "URM_all"
   ]
  },
  {
   "cell_type": "code",
   "execution_count": 10,
   "id": "4908503d",
   "metadata": {
    "execution": {
     "iopub.execute_input": "2024-12-03T00:12:36.979017Z",
     "iopub.status.busy": "2024-12-03T00:12:36.978590Z",
     "iopub.status.idle": "2024-12-03T00:12:38.181249Z",
     "shell.execute_reply": "2024-12-03T00:12:38.180200Z"
    },
    "papermill": {
     "duration": 1.220011,
     "end_time": "2024-12-03T00:12:38.183527",
     "exception": false,
     "start_time": "2024-12-03T00:12:36.963516",
     "status": "completed"
    },
    "tags": []
   },
   "outputs": [
    {
     "data": {
      "text/plain": [
       "<Compressed Sparse Row sparse matrix of dtype 'float64'\n",
       "\twith 2940040 stored elements and shape (38121, 94331)>"
      ]
     },
     "execution_count": 10,
     "metadata": {},
     "output_type": "execute_result"
    }
   ],
   "source": [
    "ICM_dataframe = pd.read_csv(\"/kaggle/input/recommender-system-2024-challenge-polimi/data_ICM_metadata.csv\")\n",
    "\n",
    "n_items = len(ICM_dataframe[\"item_id\"].unique())\n",
    "n_features = len(ICM_dataframe[\"feature_id\"].unique())\n",
    "\n",
    "ICM_all = sps.csr_matrix((ICM_dataframe[\"data\"].values, \n",
    "                          (ICM_dataframe[\"item_id\"].values, ICM_dataframe[\"feature_id\"].values)),\n",
    "                        shape = (n_items, n_features))\n",
    "\n",
    "ICM_all"
   ]
  },
  {
   "cell_type": "markdown",
   "id": "b7aa8514",
   "metadata": {
    "papermill": {
     "duration": 0.013169,
     "end_time": "2024-12-03T00:12:38.211437",
     "exception": false,
     "start_time": "2024-12-03T00:12:38.198268",
     "status": "completed"
    },
    "tags": []
   },
   "source": [
    "# Training"
   ]
  },
  {
   "cell_type": "code",
   "execution_count": 11,
   "id": "67a45ad1",
   "metadata": {
    "execution": {
     "iopub.execute_input": "2024-12-03T00:12:38.239356Z",
     "iopub.status.busy": "2024-12-03T00:12:38.238978Z",
     "iopub.status.idle": "2024-12-03T00:12:41.286786Z",
     "shell.execute_reply": "2024-12-03T00:12:41.285452Z"
    },
    "papermill": {
     "duration": 3.064555,
     "end_time": "2024-12-03T00:12:41.289128",
     "exception": false,
     "start_time": "2024-12-03T00:12:38.224573",
     "status": "completed"
    },
    "tags": []
   },
   "outputs": [
    {
     "name": "stdout",
     "output_type": "stream",
     "text": [
      "Warning: 141 (0.39 %) of 35736 users have no sampled items\n",
      "EvaluatorHoldout: Ignoring 141 ( 0.4%) Users that have less than 1 test interactions\n"
     ]
    }
   ],
   "source": [
    "from Evaluation.Evaluator import EvaluatorHoldout\n",
    "from Data_manager.split_functions.split_train_validation_random_holdout import split_train_in_two_percentage_global_sample\n",
    "\n",
    "URM_train, URM_validation = split_train_in_two_percentage_global_sample(URM_all, train_percentage = 0.80)\n",
    "\n",
    "evaluator_validation = EvaluatorHoldout(URM_validation, cutoff_list=[10])"
   ]
  },
  {
   "cell_type": "markdown",
   "id": "8a1deb41",
   "metadata": {
    "papermill": {
     "duration": 0.013651,
     "end_time": "2024-12-03T00:12:41.318142",
     "exception": false,
     "start_time": "2024-12-03T00:12:41.304491",
     "status": "completed"
    },
    "tags": []
   },
   "source": [
    "## Import the best recommeders previously trained."
   ]
  },
  {
   "cell_type": "code",
   "execution_count": 12,
   "id": "160fd660",
   "metadata": {
    "execution": {
     "iopub.execute_input": "2024-12-03T00:12:41.346482Z",
     "iopub.status.busy": "2024-12-03T00:12:41.346095Z",
     "iopub.status.idle": "2024-12-03T01:29:49.132964Z",
     "shell.execute_reply": "2024-12-03T01:29:49.131708Z"
    },
    "papermill": {
     "duration": 4627.803587,
     "end_time": "2024-12-03T01:29:49.135061",
     "exception": false,
     "start_time": "2024-12-03T00:12:41.331474",
     "status": "completed"
    },
    "tags": []
   },
   "outputs": [
    {
     "name": "stdout",
     "output_type": "stream",
     "text": [
      "ItemKNNCF Model - TRAINING with its best parameters.\n",
      "Similarity column 38121 (100.0%), 2764.74 column/sec. Elapsed time 13.79 sec\n",
      "Training done in 14.024479sec.\n",
      "\n",
      "SLIMElasticNet Model - TRAINING with its best parameters.\n",
      "SLIMElasticNetRecommender: Processed 2419 ( 6.3%) in 5.00 min. Items per second: 8.06\n",
      "SLIMElasticNetRecommender: Processed 4886 (12.8%) in 10.00 min. Items per second: 8.14\n",
      "SLIMElasticNetRecommender: Processed 7370 (19.3%) in 15.00 min. Items per second: 8.19\n",
      "SLIMElasticNetRecommender: Processed 9874 (25.9%) in 20.00 min. Items per second: 8.23\n",
      "SLIMElasticNetRecommender: Processed 12243 (32.1%) in 25.01 min. Items per second: 8.16\n",
      "SLIMElasticNetRecommender: Processed 14724 (38.6%) in 30.01 min. Items per second: 8.18\n",
      "SLIMElasticNetRecommender: Processed 17189 (45.1%) in 35.01 min. Items per second: 8.18\n",
      "SLIMElasticNetRecommender: Processed 19650 (51.5%) in 40.01 min. Items per second: 8.19\n",
      "SLIMElasticNetRecommender: Processed 22134 (58.1%) in 45.01 min. Items per second: 8.20\n",
      "SLIMElasticNetRecommender: Processed 24621 (64.6%) in 50.01 min. Items per second: 8.20\n",
      "SLIMElasticNetRecommender: Processed 27146 (71.2%) in 55.01 min. Items per second: 8.22\n",
      "SLIMElasticNetRecommender: Processed 29556 (77.5%) in 1.00 hour. Items per second: 8.21\n",
      "SLIMElasticNetRecommender: Processed 32135 (84.3%) in 1.08 hour. Items per second: 8.24\n",
      "SLIMElasticNetRecommender: Processed 34804 (91.3%) in 1.17 hour. Items per second: 8.28\n",
      "SLIMElasticNetRecommender: Processed 37359 (98.0%) in 1.25 hour. Items per second: 8.30\n",
      "SLIMElasticNetRecommender: Processed 38121 (100.0%) in 1.28 hour. Items per second: 8.30\n",
      "Training done in 1.276056hour.\n",
      "\n",
      "RP3beta Model - TRAINING with its best parameters.\n",
      "RP3betaRecommender: Similarity column 38121 (100.0%), 2194.27 column/sec. Elapsed time 17.37 sec\n",
      "Training done in 18.544997sec.\n",
      "\n"
     ]
    }
   ],
   "source": [
    "from Recommenders.KNN.ItemKNNCFRecommender import ItemKNNCFRecommender\n",
    "from Recommenders.SLIM.SLIMElasticNetRecommender import SLIMElasticNetRecommender\n",
    "from Recommenders.GraphBased.RP3betaRecommender import RP3betaRecommender\n",
    "\n",
    "recommenders = {\n",
    "    \"ItemKNNCF\": ItemKNNCFRecommender,\n",
    "    \"SLIMElasticNet\": SLIMElasticNetRecommender,\n",
    "    \"RP3beta\": RP3betaRecommender\n",
    "}\n",
    "\n",
    "paths_to_best_params = {\n",
    "    \"ItemKNNCF\": \"KNN\",\n",
    "    \"SLIMElasticNet\": \"SLIM\",\n",
    "    \"RP3beta\": \"GraphBased\"\n",
    "}\n",
    "\n",
    "\n",
    "loaded_recommenders = {}\n",
    "\n",
    "for recommender_name, recommender_class in recommenders.items():\n",
    "    \n",
    "    start_time = time.time()\n",
    "    \n",
    "    print(f\"{recommender_name} Model - TRAINING with its best parameters.\")\n",
    "    try:\n",
    "        recommender = recommender_class(URM_train)\n",
    "    except Exception as e:\n",
    "        recommender = recommender_class(URM_train, ICM_all)\n",
    "\n",
    "    # Extract best parameter values of the relative recommender model.\n",
    "    with open(f'{GH_PATH}/{paths_to_best_params[recommender_name]}/{recommender_name}Recommender/best_params_{recommender_name}.json', 'r') as best_params_json:\n",
    "            best_params = json.load(best_params_json)\n",
    "    \n",
    "    recommender.fit(**best_params)\n",
    "    \n",
    "    loaded_recommenders[recommender_name] = recommender\n",
    "    \n",
    "    new_time_value, new_time_unit = seconds_to_biggest_unit(time.time() - start_time)\n",
    "    print(\"Training done in {:2f}{}.\\n\".format(new_time_value, new_time_unit))"
   ]
  },
  {
   "cell_type": "code",
   "execution_count": 13,
   "id": "36de1c7c",
   "metadata": {
    "execution": {
     "iopub.execute_input": "2024-12-03T01:29:49.167909Z",
     "iopub.status.busy": "2024-12-03T01:29:49.167053Z",
     "iopub.status.idle": "2024-12-03T01:29:49.177991Z",
     "shell.execute_reply": "2024-12-03T01:29:49.176941Z"
    },
    "papermill": {
     "duration": 0.030101,
     "end_time": "2024-12-03T01:29:49.180200",
     "exception": false,
     "start_time": "2024-12-03T01:29:49.150099",
     "status": "completed"
    },
    "tags": []
   },
   "outputs": [],
   "source": [
    "from Recommenders.Hybrid.LinearCombinationRecommender import LinearCombinationRecommender \n",
    "\n",
    "def objective_function_(optuna_trial):\n",
    "    \n",
    "    recommender_instance = LinearCombinationRecommender(URM_train, loaded_recommenders.values())\n",
    "    \n",
    "    norm = optuna_trial.suggest_categorical('norm', [1, 2, np.inf, -np.inf])\n",
    "    itemknn_weight = optuna_trial.suggest_float('itemknn_weight', 0.0, 1.0)\n",
    "    slim_weight = optuna_trial.suggest_float('slim_weight', 0.0, 1.0)\n",
    "    rp3beta_weight = optuna_trial.suggest_float('rp3beta_weight', 0.0, 1.0)\n",
    "\n",
    "    # Ensure the weights sum to 1 (Normalization)\n",
    "    total_weight = itemknn_weight + slim_weight + rp3beta_weight\n",
    "    itemknn_weight /= total_weight\n",
    "    slim_weight /= total_weight\n",
    "    rp3beta_weight /= total_weight\n",
    "    \n",
    "    full_hyperp = {\n",
    "                    \"weights\": [itemknn_weight, slim_weight,rp3beta_weight],\n",
    "                    \"norm\": norm\n",
    "                  }        \n",
    "    \n",
    "    recommender_instance.fit(**full_hyperp)\n",
    "    \n",
    "    result_df, _ = evaluator_validation.evaluateRecommender(recommender_instance)\n",
    "    \n",
    "    return result_df.loc[10][\"MAP\"]"
   ]
  },
  {
   "cell_type": "code",
   "execution_count": 14,
   "id": "dcce763c",
   "metadata": {
    "_kg_hide-output": true,
    "execution": {
     "iopub.execute_input": "2024-12-03T01:29:49.212691Z",
     "iopub.status.busy": "2024-12-03T01:29:49.212311Z",
     "iopub.status.idle": "2024-12-03T05:20:45.265790Z",
     "shell.execute_reply": "2024-12-03T05:20:45.264435Z"
    },
    "papermill": {
     "duration": 13856.073537,
     "end_time": "2024-12-03T05:20:45.268570",
     "exception": false,
     "start_time": "2024-12-03T01:29:49.195033",
     "status": "completed"
    },
    "tags": []
   },
   "outputs": [
    {
     "name": "stderr",
     "output_type": "stream",
     "text": [
      "[I 2024-12-03 01:29:51,151] A new study created in RDB with name: hyperparameters_tuning_SecondLinearCombination\n"
     ]
    },
    {
     "name": "stdout",
     "output_type": "stream",
     "text": [
      "LinearCombinationRecommender: Fit completed in 0.00 seconds.\n",
      "EvaluatorHoldout: Processed 35595 (100.0%) in 1.56 min. Users per second: 381\n"
     ]
    },
    {
     "name": "stderr",
     "output_type": "stream",
     "text": [
      "[I 2024-12-03 01:31:24,970] Trial 0 finished with value: 0.05919548179809244 and parameters: {'norm': 2, 'itemknn_weight': 0.18407633825550507, 'slim_weight': 0.8414622729125448, 'rp3beta_weight': 0.8846451650010237}. Best is trial 0 with value: 0.05919548179809244.\n"
     ]
    },
    {
     "name": "stdout",
     "output_type": "stream",
     "text": [
      "LinearCombinationRecommender: Fit completed in 0.00 seconds.\n",
      "EvaluatorHoldout: Processed 35595 (100.0%) in 1.53 min. Users per second: 389\n"
     ]
    },
    {
     "name": "stderr",
     "output_type": "stream",
     "text": [
      "[I 2024-12-03 01:32:56,666] Trial 1 finished with value: 0.05781476018791448 and parameters: {'norm': 2, 'itemknn_weight': 0.33486501435544613, 'slim_weight': 0.23945033702990515, 'rp3beta_weight': 0.19760465213234824}. Best is trial 0 with value: 0.05919548179809244.\n"
     ]
    },
    {
     "name": "stdout",
     "output_type": "stream",
     "text": [
      "LinearCombinationRecommender: Fit completed in 0.00 seconds.\n",
      "EvaluatorHoldout: Processed 35595 (100.0%) in 1.53 min. Users per second: 389\n"
     ]
    },
    {
     "name": "stderr",
     "output_type": "stream",
     "text": [
      "[I 2024-12-03 01:34:28,400] Trial 2 finished with value: 0.0596222561131938 and parameters: {'norm': inf, 'itemknn_weight': 0.27263111361950787, 'slim_weight': 0.7033880645743561, 'rp3beta_weight': 0.5570228576408808}. Best is trial 2 with value: 0.0596222561131938.\n"
     ]
    },
    {
     "name": "stdout",
     "output_type": "stream",
     "text": [
      "LinearCombinationRecommender: Fit completed in 0.00 seconds.\n",
      "EvaluatorHoldout: Processed 35595 (100.0%) in 1.52 min. Users per second: 391\n"
     ]
    },
    {
     "name": "stderr",
     "output_type": "stream",
     "text": [
      "[I 2024-12-03 01:35:59,680] Trial 3 finished with value: 0.056819019971146134 and parameters: {'norm': 1, 'itemknn_weight': 0.7313914491969451, 'slim_weight': 0.7135990135791926, 'rp3beta_weight': 0.8972595757595578}. Best is trial 2 with value: 0.0596222561131938.\n"
     ]
    },
    {
     "name": "stdout",
     "output_type": "stream",
     "text": [
      "LinearCombinationRecommender: Fit completed in 0.00 seconds.\n",
      "EvaluatorHoldout: Processed 35595 (100.0%) in 1.52 min. Users per second: 391\n"
     ]
    },
    {
     "name": "stderr",
     "output_type": "stream",
     "text": [
      "[I 2024-12-03 01:37:30,948] Trial 4 finished with value: 0.05360905647083326 and parameters: {'norm': -inf, 'itemknn_weight': 0.6507402079808057, 'slim_weight': 0.36948652240944924, 'rp3beta_weight': 0.34841568168763837}. Best is trial 2 with value: 0.0596222561131938.\n"
     ]
    },
    {
     "name": "stdout",
     "output_type": "stream",
     "text": [
      "LinearCombinationRecommender: Fit completed in 0.00 seconds.\n",
      "EvaluatorHoldout: Processed 35595 (100.0%) in 1.53 min. Users per second: 389\n"
     ]
    },
    {
     "name": "stderr",
     "output_type": "stream",
     "text": [
      "[I 2024-12-03 01:39:02,717] Trial 5 finished with value: 0.055972823675518917 and parameters: {'norm': 1, 'itemknn_weight': 0.39402578620034534, 'slim_weight': 0.26245073978090394, 'rp3beta_weight': 0.14058431735780796}. Best is trial 2 with value: 0.0596222561131938.\n"
     ]
    },
    {
     "name": "stdout",
     "output_type": "stream",
     "text": [
      "LinearCombinationRecommender: Fit completed in 0.00 seconds.\n",
      "EvaluatorHoldout: Processed 35595 (100.0%) in 1.52 min. Users per second: 391\n"
     ]
    },
    {
     "name": "stderr",
     "output_type": "stream",
     "text": [
      "[I 2024-12-03 01:40:33,942] Trial 6 finished with value: 0.057227871089436895 and parameters: {'norm': inf, 'itemknn_weight': 0.19333378818367053, 'slim_weight': 0.15060023252299004, 'rp3beta_weight': 0.5281552071776284}. Best is trial 2 with value: 0.0596222561131938.\n"
     ]
    },
    {
     "name": "stdout",
     "output_type": "stream",
     "text": [
      "LinearCombinationRecommender: Fit completed in 0.00 seconds.\n",
      "EvaluatorHoldout: Processed 35595 (100.0%) in 1.54 min. Users per second: 385\n"
     ]
    },
    {
     "name": "stderr",
     "output_type": "stream",
     "text": [
      "[I 2024-12-03 01:42:06,648] Trial 7 finished with value: 0.05962045788488898 and parameters: {'norm': inf, 'itemknn_weight': 0.11871651625386648, 'slim_weight': 0.3537887485619946, 'rp3beta_weight': 0.29056238600381334}. Best is trial 2 with value: 0.0596222561131938.\n"
     ]
    },
    {
     "name": "stdout",
     "output_type": "stream",
     "text": [
      "LinearCombinationRecommender: Fit completed in 0.00 seconds.\n",
      "EvaluatorHoldout: Processed 35595 (100.0%) in 1.53 min. Users per second: 388\n"
     ]
    },
    {
     "name": "stderr",
     "output_type": "stream",
     "text": [
      "[I 2024-12-03 01:43:38,677] Trial 8 finished with value: 0.057806980871664845 and parameters: {'norm': 1, 'itemknn_weight': 0.11366966687316815, 'slim_weight': 0.5449731950170983, 'rp3beta_weight': 0.5845019531729686}. Best is trial 2 with value: 0.0596222561131938.\n"
     ]
    },
    {
     "name": "stdout",
     "output_type": "stream",
     "text": [
      "LinearCombinationRecommender: Fit completed in 0.00 seconds.\n",
      "EvaluatorHoldout: Processed 35595 (100.0%) in 1.52 min. Users per second: 390\n"
     ]
    },
    {
     "name": "stderr",
     "output_type": "stream",
     "text": [
      "[I 2024-12-03 01:45:10,012] Trial 9 finished with value: 0.056808841530710655 and parameters: {'norm': 1, 'itemknn_weight': 0.7367734694930907, 'slim_weight': 0.7098521576975315, 'rp3beta_weight': 0.5512679477856419}. Best is trial 2 with value: 0.0596222561131938.\n"
     ]
    },
    {
     "name": "stdout",
     "output_type": "stream",
     "text": [
      "LinearCombinationRecommender: Fit completed in 0.00 seconds.\n",
      "EvaluatorHoldout: Processed 35595 (100.0%) in 1.52 min. Users per second: 390\n"
     ]
    },
    {
     "name": "stderr",
     "output_type": "stream",
     "text": [
      "[I 2024-12-03 01:46:41,481] Trial 10 finished with value: 0.05891920904710422 and parameters: {'norm': inf, 'itemknn_weight': 0.9563166237184901, 'slim_weight': 0.9944468947847904, 'rp3beta_weight': 0.7524841408042768}. Best is trial 2 with value: 0.0596222561131938.\n"
     ]
    },
    {
     "name": "stdout",
     "output_type": "stream",
     "text": [
      "LinearCombinationRecommender: Fit completed in 0.00 seconds.\n",
      "EvaluatorHoldout: Processed 35595 (100.0%) in 1.52 min. Users per second: 391\n"
     ]
    },
    {
     "name": "stderr",
     "output_type": "stream",
     "text": [
      "[I 2024-12-03 01:48:12,696] Trial 11 finished with value: 0.059978256264810986 and parameters: {'norm': inf, 'itemknn_weight': 0.008076793715719621, 'slim_weight': 0.49417297603020566, 'rp3beta_weight': 0.33023382882918545}. Best is trial 11 with value: 0.059978256264810986.\n"
     ]
    },
    {
     "name": "stdout",
     "output_type": "stream",
     "text": [
      "LinearCombinationRecommender: Fit completed in 0.00 seconds.\n",
      "EvaluatorHoldout: Processed 35595 (100.0%) in 1.52 min. Users per second: 390\n"
     ]
    },
    {
     "name": "stderr",
     "output_type": "stream",
     "text": [
      "[I 2024-12-03 01:49:44,080] Trial 12 finished with value: 0.059919125434504346 and parameters: {'norm': inf, 'itemknn_weight': 0.0038187965024023083, 'slim_weight': 0.5709647839898018, 'rp3beta_weight': 0.39377484440168775}. Best is trial 11 with value: 0.059978256264810986.\n"
     ]
    },
    {
     "name": "stdout",
     "output_type": "stream",
     "text": [
      "LinearCombinationRecommender: Fit completed in 0.00 seconds.\n",
      "EvaluatorHoldout: Processed 35595 (100.0%) in 1.53 min. Users per second: 388\n"
     ]
    },
    {
     "name": "stderr",
     "output_type": "stream",
     "text": [
      "[I 2024-12-03 01:51:15,986] Trial 13 finished with value: 0.05782761423153133 and parameters: {'norm': inf, 'itemknn_weight': 0.010489544101503661, 'slim_weight': 0.013536619028757246, 'rp3beta_weight': 0.03426993870887396}. Best is trial 11 with value: 0.059978256264810986.\n"
     ]
    },
    {
     "name": "stdout",
     "output_type": "stream",
     "text": [
      "LinearCombinationRecommender: Fit completed in 0.00 seconds.\n",
      "EvaluatorHoldout: Processed 35595 (100.0%) in 1.53 min. Users per second: 389\n"
     ]
    },
    {
     "name": "stderr",
     "output_type": "stream",
     "text": [
      "[I 2024-12-03 01:52:47,758] Trial 14 finished with value: 0.06004226115224615 and parameters: {'norm': -inf, 'itemknn_weight': 0.011909051380117028, 'slim_weight': 0.5317230414761719, 'rp3beta_weight': 0.3966280494953967}. Best is trial 14 with value: 0.06004226115224615.\n"
     ]
    },
    {
     "name": "stdout",
     "output_type": "stream",
     "text": [
      "LinearCombinationRecommender: Fit completed in 0.00 seconds.\n",
      "EvaluatorHoldout: Processed 35595 (100.0%) in 1.52 min. Users per second: 390\n"
     ]
    },
    {
     "name": "stderr",
     "output_type": "stream",
     "text": [
      "[I 2024-12-03 01:54:19,280] Trial 15 finished with value: 0.05403167356749167 and parameters: {'norm': -inf, 'itemknn_weight': 0.46686998215804887, 'slim_weight': 0.44140710828016694, 'rp3beta_weight': 0.4038287316981189}. Best is trial 14 with value: 0.06004226115224615.\n"
     ]
    },
    {
     "name": "stdout",
     "output_type": "stream",
     "text": [
      "LinearCombinationRecommender: Fit completed in 0.00 seconds.\n",
      "EvaluatorHoldout: Processed 35595 (100.0%) in 1.53 min. Users per second: 388\n"
     ]
    },
    {
     "name": "stderr",
     "output_type": "stream",
     "text": [
      "[I 2024-12-03 01:55:51,118] Trial 16 finished with value: 0.05984527767186639 and parameters: {'norm': -inf, 'itemknn_weight': 0.023265959924455498, 'slim_weight': 0.5878947450554085, 'rp3beta_weight': 0.2018494860638652}. Best is trial 14 with value: 0.06004226115224615.\n"
     ]
    },
    {
     "name": "stdout",
     "output_type": "stream",
     "text": [
      "LinearCombinationRecommender: Fit completed in 0.00 seconds.\n",
      "EvaluatorHoldout: Processed 35595 (100.0%) in 1.52 min. Users per second: 389\n"
     ]
    },
    {
     "name": "stderr",
     "output_type": "stream",
     "text": [
      "[I 2024-12-03 01:57:22,768] Trial 17 finished with value: 0.05408495820484702 and parameters: {'norm': -inf, 'itemknn_weight': 0.5661947251698205, 'slim_weight': 0.4614756297502685, 'rp3beta_weight': 0.7355915684009668}. Best is trial 14 with value: 0.06004226115224615.\n"
     ]
    },
    {
     "name": "stdout",
     "output_type": "stream",
     "text": [
      "LinearCombinationRecommender: Fit completed in 0.00 seconds.\n",
      "EvaluatorHoldout: Processed 35595 (100.0%) in 1.52 min. Users per second: 390\n"
     ]
    },
    {
     "name": "stderr",
     "output_type": "stream",
     "text": [
      "[I 2024-12-03 01:58:54,345] Trial 18 finished with value: 0.05585557539961074 and parameters: {'norm': -inf, 'itemknn_weight': 0.27180525256697147, 'slim_weight': 0.8489724397825975, 'rp3beta_weight': 0.6806539004004459}. Best is trial 14 with value: 0.06004226115224615.\n"
     ]
    },
    {
     "name": "stdout",
     "output_type": "stream",
     "text": [
      "LinearCombinationRecommender: Fit completed in 0.00 seconds.\n",
      "EvaluatorHoldout: Processed 35595 (100.0%) in 1.54 min. Users per second: 386\n"
     ]
    },
    {
     "name": "stderr",
     "output_type": "stream",
     "text": [
      "[I 2024-12-03 02:00:26,695] Trial 19 finished with value: 0.05720468698787072 and parameters: {'norm': 2, 'itemknn_weight': 0.9268799752749638, 'slim_weight': 0.638550997865169, 'rp3beta_weight': 0.007734850493273493}. Best is trial 14 with value: 0.06004226115224615.\n"
     ]
    },
    {
     "name": "stdout",
     "output_type": "stream",
     "text": [
      "LinearCombinationRecommender: Fit completed in 0.00 seconds.\n",
      "EvaluatorHoldout: Processed 35595 (100.0%) in 1.53 min. Users per second: 389\n"
     ]
    },
    {
     "name": "stderr",
     "output_type": "stream",
     "text": [
      "[I 2024-12-03 02:01:58,478] Trial 20 finished with value: 0.05619737478734342 and parameters: {'norm': -inf, 'itemknn_weight': 0.12327568942689293, 'slim_weight': 0.42575918661973794, 'rp3beta_weight': 0.45222715574002004}. Best is trial 14 with value: 0.06004226115224615.\n"
     ]
    },
    {
     "name": "stdout",
     "output_type": "stream",
     "text": [
      "LinearCombinationRecommender: Fit completed in 0.00 seconds.\n",
      "EvaluatorHoldout: Processed 35595 (100.0%) in 1.53 min. Users per second: 388\n"
     ]
    },
    {
     "name": "stderr",
     "output_type": "stream",
     "text": [
      "[I 2024-12-03 02:03:30,338] Trial 21 finished with value: 0.06016774471177961 and parameters: {'norm': inf, 'itemknn_weight': 0.01697830034023031, 'slim_weight': 0.5360559188143548, 'rp3beta_weight': 0.3022386723659505}. Best is trial 21 with value: 0.06016774471177961.\n"
     ]
    },
    {
     "name": "stdout",
     "output_type": "stream",
     "text": [
      "LinearCombinationRecommender: Fit completed in 0.00 seconds.\n",
      "EvaluatorHoldout: Processed 35595 (100.0%) in 1.53 min. Users per second: 387\n"
     ]
    },
    {
     "name": "stderr",
     "output_type": "stream",
     "text": [
      "[I 2024-12-03 02:05:02,569] Trial 22 finished with value: 0.06009670856215107 and parameters: {'norm': inf, 'itemknn_weight': 0.09751592507833785, 'slim_weight': 0.5126868921496464, 'rp3beta_weight': 0.29577188744753036}. Best is trial 21 with value: 0.06016774471177961.\n"
     ]
    },
    {
     "name": "stdout",
     "output_type": "stream",
     "text": [
      "LinearCombinationRecommender: Fit completed in 0.00 seconds.\n",
      "EvaluatorHoldout: Processed 35595 (100.0%) in 1.54 min. Users per second: 386\n"
     ]
    },
    {
     "name": "stderr",
     "output_type": "stream",
     "text": [
      "[I 2024-12-03 02:06:34,954] Trial 23 finished with value: 0.05935024537510621 and parameters: {'norm': inf, 'itemknn_weight': 0.2095052803080889, 'slim_weight': 0.32630168272096427, 'rp3beta_weight': 0.2495821837168463}. Best is trial 21 with value: 0.06016774471177961.\n"
     ]
    },
    {
     "name": "stdout",
     "output_type": "stream",
     "text": [
      "LinearCombinationRecommender: Fit completed in 0.00 seconds.\n",
      "EvaluatorHoldout: Processed 35595 (100.0%) in 1.53 min. Users per second: 387\n"
     ]
    },
    {
     "name": "stderr",
     "output_type": "stream",
     "text": [
      "[I 2024-12-03 02:08:07,152] Trial 24 finished with value: 0.060686789432257665 and parameters: {'norm': inf, 'itemknn_weight': 0.08470819165236641, 'slim_weight': 0.6228447128623491, 'rp3beta_weight': 0.12213880168404356}. Best is trial 24 with value: 0.060686789432257665.\n"
     ]
    },
    {
     "name": "stdout",
     "output_type": "stream",
     "text": [
      "LinearCombinationRecommender: Fit completed in 0.00 seconds.\n",
      "EvaluatorHoldout: Processed 35595 (100.0%) in 1.53 min. Users per second: 388\n"
     ]
    },
    {
     "name": "stderr",
     "output_type": "stream",
     "text": [
      "[I 2024-12-03 02:09:39,170] Trial 25 finished with value: 0.06066025971188052 and parameters: {'norm': inf, 'itemknn_weight': 0.09335596817292752, 'slim_weight': 0.641438938712605, 'rp3beta_weight': 0.10056394452028139}. Best is trial 24 with value: 0.060686789432257665.\n"
     ]
    },
    {
     "name": "stdout",
     "output_type": "stream",
     "text": [
      "LinearCombinationRecommender: Fit completed in 0.00 seconds.\n",
      "EvaluatorHoldout: Processed 35595 (100.0%) in 1.53 min. Users per second: 387\n"
     ]
    },
    {
     "name": "stderr",
     "output_type": "stream",
     "text": [
      "[I 2024-12-03 02:11:11,319] Trial 26 finished with value: 0.05991358247658085 and parameters: {'norm': inf, 'itemknn_weight': 0.38177581211362216, 'slim_weight': 0.8257168031207609, 'rp3beta_weight': 0.10008934988008997}. Best is trial 24 with value: 0.060686789432257665.\n"
     ]
    },
    {
     "name": "stdout",
     "output_type": "stream",
     "text": [
      "LinearCombinationRecommender: Fit completed in 0.00 seconds.\n",
      "EvaluatorHoldout: Processed 35595 (100.0%) in 1.53 min. Users per second: 387\n"
     ]
    },
    {
     "name": "stderr",
     "output_type": "stream",
     "text": [
      "[I 2024-12-03 02:12:43,525] Trial 27 finished with value: 0.05993096274891275 and parameters: {'norm': inf, 'itemknn_weight': 0.3021740140088794, 'slim_weight': 0.6434074643685719, 'rp3beta_weight': 0.12269258212219626}. Best is trial 24 with value: 0.060686789432257665.\n"
     ]
    },
    {
     "name": "stdout",
     "output_type": "stream",
     "text": [
      "LinearCombinationRecommender: Fit completed in 0.00 seconds.\n",
      "EvaluatorHoldout: Processed 35595 (100.0%) in 1.53 min. Users per second: 387\n"
     ]
    },
    {
     "name": "stderr",
     "output_type": "stream",
     "text": [
      "[I 2024-12-03 02:14:15,592] Trial 28 finished with value: 0.06043018459432111 and parameters: {'norm': inf, 'itemknn_weight': 0.20232344389339257, 'slim_weight': 0.7466920985153737, 'rp3beta_weight': 0.0760887496372922}. Best is trial 24 with value: 0.060686789432257665.\n"
     ]
    },
    {
     "name": "stdout",
     "output_type": "stream",
     "text": [
      "LinearCombinationRecommender: Fit completed in 0.00 seconds.\n",
      "EvaluatorHoldout: Processed 35595 (100.0%) in 1.54 min. Users per second: 385\n"
     ]
    },
    {
     "name": "stderr",
     "output_type": "stream",
     "text": [
      "[I 2024-12-03 02:15:48,349] Trial 29 finished with value: 0.06036042938971544 and parameters: {'norm': 2, 'itemknn_weight': 0.20282430515359362, 'slim_weight': 0.8547755884917275, 'rp3beta_weight': 0.06914309714703379}. Best is trial 24 with value: 0.060686789432257665.\n"
     ]
    },
    {
     "name": "stdout",
     "output_type": "stream",
     "text": [
      "LinearCombinationRecommender: Fit completed in 0.00 seconds.\n",
      "EvaluatorHoldout: Processed 35595 (100.0%) in 1.53 min. Users per second: 388\n"
     ]
    },
    {
     "name": "stderr",
     "output_type": "stream",
     "text": [
      "[I 2024-12-03 02:17:20,183] Trial 30 finished with value: 0.060648866101666664 and parameters: {'norm': inf, 'itemknn_weight': 0.15311927575644182, 'slim_weight': 0.9268927976645873, 'rp3beta_weight': 0.17811822296316218}. Best is trial 24 with value: 0.060686789432257665.\n"
     ]
    },
    {
     "name": "stdout",
     "output_type": "stream",
     "text": [
      "LinearCombinationRecommender: Fit completed in 0.00 seconds.\n",
      "EvaluatorHoldout: Processed 35595 (100.0%) in 1.53 min. Users per second: 388\n"
     ]
    },
    {
     "name": "stderr",
     "output_type": "stream",
     "text": [
      "[I 2024-12-03 02:18:52,175] Trial 31 finished with value: 0.060656382316936854 and parameters: {'norm': inf, 'itemknn_weight': 0.15546904751263094, 'slim_weight': 0.9697250510035971, 'rp3beta_weight': 0.1678601882246965}. Best is trial 24 with value: 0.060686789432257665.\n"
     ]
    },
    {
     "name": "stdout",
     "output_type": "stream",
     "text": [
      "LinearCombinationRecommender: Fit completed in 0.00 seconds.\n",
      "EvaluatorHoldout: Processed 35595 (100.0%) in 1.54 min. Users per second: 385\n"
     ]
    },
    {
     "name": "stderr",
     "output_type": "stream",
     "text": [
      "[I 2024-12-03 02:20:24,710] Trial 32 finished with value: 0.060706243297054936 and parameters: {'norm': inf, 'itemknn_weight': 0.08619181493013336, 'slim_weight': 0.9899433776091664, 'rp3beta_weight': 0.18162767695170956}. Best is trial 32 with value: 0.060706243297054936.\n"
     ]
    },
    {
     "name": "stdout",
     "output_type": "stream",
     "text": [
      "LinearCombinationRecommender: Fit completed in 0.00 seconds.\n",
      "EvaluatorHoldout: Processed 35595 (100.0%) in 1.56 min. Users per second: 381\n"
     ]
    },
    {
     "name": "stderr",
     "output_type": "stream",
     "text": [
      "[I 2024-12-03 02:21:58,414] Trial 33 finished with value: 0.06068059652572753 and parameters: {'norm': inf, 'itemknn_weight': 0.07105982945688503, 'slim_weight': 0.9692092580333972, 'rp3beta_weight': 0.22967799380240728}. Best is trial 32 with value: 0.060706243297054936.\n"
     ]
    },
    {
     "name": "stdout",
     "output_type": "stream",
     "text": [
      "LinearCombinationRecommender: Fit completed in 0.00 seconds.\n",
      "EvaluatorHoldout: Processed 35595 (100.0%) in 1.56 min. Users per second: 381\n"
     ]
    },
    {
     "name": "stderr",
     "output_type": "stream",
     "text": [
      "[I 2024-12-03 02:23:32,054] Trial 34 finished with value: 0.06054714970222583 and parameters: {'norm': 2, 'itemknn_weight': 0.08519881380638417, 'slim_weight': 0.7957377349618633, 'rp3beta_weight': 0.2322736002809147}. Best is trial 32 with value: 0.060706243297054936.\n"
     ]
    },
    {
     "name": "stdout",
     "output_type": "stream",
     "text": [
      "LinearCombinationRecommender: Fit completed in 0.00 seconds.\n",
      "EvaluatorHoldout: Processed 35595 (100.0%) in 1.54 min. Users per second: 386\n"
     ]
    },
    {
     "name": "stderr",
     "output_type": "stream",
     "text": [
      "[I 2024-12-03 02:25:04,422] Trial 35 finished with value: 0.05926224924581215 and parameters: {'norm': inf, 'itemknn_weight': 0.2611050771818979, 'slim_weight': 0.8946561610960522, 'rp3beta_weight': 0.9711878481076289}. Best is trial 32 with value: 0.060706243297054936.\n"
     ]
    },
    {
     "name": "stdout",
     "output_type": "stream",
     "text": [
      "LinearCombinationRecommender: Fit completed in 0.00 seconds.\n",
      "EvaluatorHoldout: Processed 35595 (100.0%) in 1.53 min. Users per second: 388\n"
     ]
    },
    {
     "name": "stderr",
     "output_type": "stream",
     "text": [
      "[I 2024-12-03 02:26:36,370] Trial 36 finished with value: 0.06060882792972793 and parameters: {'norm': inf, 'itemknn_weight': 0.06851873243041437, 'slim_weight': 0.7692750298933791, 'rp3beta_weight': 0.2202882794572929}. Best is trial 32 with value: 0.060706243297054936.\n"
     ]
    },
    {
     "name": "stdout",
     "output_type": "stream",
     "text": [
      "LinearCombinationRecommender: Fit completed in 0.00 seconds.\n",
      "EvaluatorHoldout: Processed 35595 (100.0%) in 1.53 min. Users per second: 389\n"
     ]
    },
    {
     "name": "stderr",
     "output_type": "stream",
     "text": [
      "[I 2024-12-03 02:28:08,130] Trial 37 finished with value: 0.060104740945868304 and parameters: {'norm': inf, 'itemknn_weight': 0.36744264352141953, 'slim_weight': 0.9252488118279721, 'rp3beta_weight': 0.14802297815603774}. Best is trial 32 with value: 0.060706243297054936.\n"
     ]
    },
    {
     "name": "stdout",
     "output_type": "stream",
     "text": [
      "LinearCombinationRecommender: Fit completed in 0.00 seconds.\n",
      "EvaluatorHoldout: Processed 35595 (100.0%) in 1.53 min. Users per second: 389\n"
     ]
    },
    {
     "name": "stderr",
     "output_type": "stream",
     "text": [
      "[I 2024-12-03 02:29:39,900] Trial 38 finished with value: 0.056958695375886916 and parameters: {'norm': 1, 'itemknn_weight': 0.44893396875405017, 'slim_weight': 0.6451077778751788, 'rp3beta_weight': 0.032554367889455746}. Best is trial 32 with value: 0.060706243297054936.\n"
     ]
    },
    {
     "name": "stdout",
     "output_type": "stream",
     "text": [
      "LinearCombinationRecommender: Fit completed in 0.00 seconds.\n",
      "EvaluatorHoldout: Processed 35595 (100.0%) in 1.53 min. Users per second: 387\n"
     ]
    },
    {
     "name": "stderr",
     "output_type": "stream",
     "text": [
      "[I 2024-12-03 02:31:12,014] Trial 39 finished with value: 0.06039237051752671 and parameters: {'norm': inf, 'itemknn_weight': 0.23492489893016427, 'slim_weight': 0.9507893497692887, 'rp3beta_weight': 0.2560735943030327}. Best is trial 32 with value: 0.060706243297054936.\n"
     ]
    },
    {
     "name": "stdout",
     "output_type": "stream",
     "text": [
      "LinearCombinationRecommender: Fit completed in 0.00 seconds.\n",
      "EvaluatorHoldout: Processed 35595 (100.0%) in 1.53 min. Users per second: 388\n"
     ]
    },
    {
     "name": "stderr",
     "output_type": "stream",
     "text": [
      "[I 2024-12-03 02:32:43,944] Trial 40 finished with value: 0.060695199744924176 and parameters: {'norm': 2, 'itemknn_weight': 0.06411617581876287, 'slim_weight': 0.6952158361889265, 'rp3beta_weight': 0.08979953168376878}. Best is trial 32 with value: 0.060706243297054936.\n"
     ]
    },
    {
     "name": "stdout",
     "output_type": "stream",
     "text": [
      "LinearCombinationRecommender: Fit completed in 0.00 seconds.\n",
      "EvaluatorHoldout: Processed 35595 (100.0%) in 1.54 min. Users per second: 386\n"
     ]
    },
    {
     "name": "stderr",
     "output_type": "stream",
     "text": [
      "[I 2024-12-03 02:34:16,330] Trial 41 finished with value: 0.060695341328925824 and parameters: {'norm': 2, 'itemknn_weight': 0.05529411608062691, 'slim_weight': 0.6720426249853382, 'rp3beta_weight': 0.10368651650218606}. Best is trial 32 with value: 0.060706243297054936.\n"
     ]
    },
    {
     "name": "stdout",
     "output_type": "stream",
     "text": [
      "LinearCombinationRecommender: Fit completed in 0.00 seconds.\n",
      "EvaluatorHoldout: Processed 35595 (100.0%) in 1.54 min. Users per second: 386\n"
     ]
    },
    {
     "name": "stderr",
     "output_type": "stream",
     "text": [
      "[I 2024-12-03 02:35:48,832] Trial 42 finished with value: 0.06062886262338268 and parameters: {'norm': 2, 'itemknn_weight': 0.06684357575498977, 'slim_weight': 0.7095910413614872, 'rp3beta_weight': 0.17499879649329236}. Best is trial 32 with value: 0.060706243297054936.\n"
     ]
    },
    {
     "name": "stdout",
     "output_type": "stream",
     "text": [
      "LinearCombinationRecommender: Fit completed in 0.00 seconds.\n",
      "EvaluatorHoldout: Processed 35595 (100.0%) in 1.54 min. Users per second: 385\n"
     ]
    },
    {
     "name": "stderr",
     "output_type": "stream",
     "text": [
      "[I 2024-12-03 02:37:21,391] Trial 43 finished with value: 0.060460292933953254 and parameters: {'norm': 2, 'itemknn_weight': 0.1404363471576465, 'slim_weight': 0.9955086772491624, 'rp3beta_weight': 1.1735618957370297e-05}. Best is trial 32 with value: 0.060706243297054936.\n"
     ]
    },
    {
     "name": "stdout",
     "output_type": "stream",
     "text": [
      "LinearCombinationRecommender: Fit completed in 0.00 seconds.\n",
      "EvaluatorHoldout: Processed 35595 (100.0%) in 1.53 min. Users per second: 388\n"
     ]
    },
    {
     "name": "stderr",
     "output_type": "stream",
     "text": [
      "[I 2024-12-03 02:38:53,346] Trial 44 finished with value: 0.06066056517657706 and parameters: {'norm': 2, 'itemknn_weight': 0.049500353017653695, 'slim_weight': 0.888181188285058, 'rp3beta_weight': 0.06611792982012697}. Best is trial 32 with value: 0.060706243297054936.\n"
     ]
    },
    {
     "name": "stdout",
     "output_type": "stream",
     "text": [
      "LinearCombinationRecommender: Fit completed in 0.00 seconds.\n",
      "EvaluatorHoldout: Processed 35595 (100.0%) in 1.53 min. Users per second: 387\n"
     ]
    },
    {
     "name": "stderr",
     "output_type": "stream",
     "text": [
      "[I 2024-12-03 02:40:25,456] Trial 45 finished with value: 0.060235883406129974 and parameters: {'norm': 2, 'itemknn_weight': 0.15428483583149843, 'slim_weight': 0.5958637091243617, 'rp3beta_weight': 0.1307683617412427}. Best is trial 32 with value: 0.060706243297054936.\n"
     ]
    },
    {
     "name": "stdout",
     "output_type": "stream",
     "text": [
      "LinearCombinationRecommender: Fit completed in 0.00 seconds.\n",
      "EvaluatorHoldout: Processed 35595 (100.0%) in 1.53 min. Users per second: 388\n"
     ]
    },
    {
     "name": "stderr",
     "output_type": "stream",
     "text": [
      "[I 2024-12-03 02:41:57,315] Trial 46 finished with value: 0.058241368392651795 and parameters: {'norm': 2, 'itemknn_weight': 0.7612949618056443, 'slim_weight': 0.6836059370657829, 'rp3beta_weight': 0.3499859568575206}. Best is trial 32 with value: 0.060706243297054936.\n"
     ]
    },
    {
     "name": "stdout",
     "output_type": "stream",
     "text": [
      "LinearCombinationRecommender: Fit completed in 0.00 seconds.\n",
      "EvaluatorHoldout: Processed 35595 (100.0%) in 1.53 min. Users per second: 388\n"
     ]
    },
    {
     "name": "stderr",
     "output_type": "stream",
     "text": [
      "[I 2024-12-03 02:43:29,165] Trial 47 finished with value: 0.059751669464899716 and parameters: {'norm': 2, 'itemknn_weight': 0.3210208844579115, 'slim_weight': 0.76338859308029, 'rp3beta_weight': 0.046510929625994124}. Best is trial 32 with value: 0.060706243297054936.\n"
     ]
    },
    {
     "name": "stdout",
     "output_type": "stream",
     "text": [
      "LinearCombinationRecommender: Fit completed in 0.00 seconds.\n",
      "EvaluatorHoldout: Processed 35595 (100.0%) in 1.53 min. Users per second: 388\n"
     ]
    },
    {
     "name": "stderr",
     "output_type": "stream",
     "text": [
      "[I 2024-12-03 02:45:00,997] Trial 48 finished with value: 0.059945930519042484 and parameters: {'norm': 1, 'itemknn_weight': 0.05714479173737848, 'slim_weight': 0.881919046761307, 'rp3beta_weight': 0.2588468045971987}. Best is trial 32 with value: 0.060706243297054936.\n"
     ]
    },
    {
     "name": "stdout",
     "output_type": "stream",
     "text": [
      "LinearCombinationRecommender: Fit completed in 0.00 seconds.\n",
      "EvaluatorHoldout: Processed 35595 (100.0%) in 1.53 min. Users per second: 388\n"
     ]
    },
    {
     "name": "stderr",
     "output_type": "stream",
     "text": [
      "[I 2024-12-03 02:46:32,993] Trial 49 finished with value: 0.06036014733654655 and parameters: {'norm': 2, 'itemknn_weight': 0.16595396195494086, 'slim_weight': 0.8082459519250502, 'rp3beta_weight': 0.19823456587592325}. Best is trial 32 with value: 0.060706243297054936.\n"
     ]
    },
    {
     "name": "stdout",
     "output_type": "stream",
     "text": [
      "LinearCombinationRecommender: Fit completed in 0.00 seconds.\n",
      "EvaluatorHoldout: Processed 35595 (100.0%) in 1.53 min. Users per second: 387\n"
     ]
    },
    {
     "name": "stderr",
     "output_type": "stream",
     "text": [
      "[I 2024-12-03 02:48:05,224] Trial 50 finished with value: 0.05638706724905429 and parameters: {'norm': 2, 'itemknn_weight': 0.5645615170672367, 'slim_weight': 0.1413008409750932, 'rp3beta_weight': 0.49412863886391056}. Best is trial 32 with value: 0.060706243297054936.\n"
     ]
    },
    {
     "name": "stdout",
     "output_type": "stream",
     "text": [
      "LinearCombinationRecommender: Fit completed in 0.00 seconds.\n",
      "EvaluatorHoldout: Processed 35595 (100.0%) in 1.53 min. Users per second: 387\n"
     ]
    },
    {
     "name": "stderr",
     "output_type": "stream",
     "text": [
      "[I 2024-12-03 02:49:37,394] Trial 51 finished with value: 0.06070211171980916 and parameters: {'norm': 2, 'itemknn_weight': 0.05124281274441474, 'slim_weight': 0.8925965321885168, 'rp3beta_weight': 0.07938064425941271}. Best is trial 32 with value: 0.060706243297054936.\n"
     ]
    },
    {
     "name": "stdout",
     "output_type": "stream",
     "text": [
      "LinearCombinationRecommender: Fit completed in 0.00 seconds.\n",
      "EvaluatorHoldout: Processed 35595 (100.0%) in 1.54 min. Users per second: 385\n"
     ]
    },
    {
     "name": "stderr",
     "output_type": "stream",
     "text": [
      "[I 2024-12-03 02:51:10,056] Trial 52 finished with value: 0.06063802099010526 and parameters: {'norm': 2, 'itemknn_weight': 0.11902764734076815, 'slim_weight': 0.9426254990944776, 'rp3beta_weight': 0.10156558526742938}. Best is trial 32 with value: 0.060706243297054936.\n"
     ]
    },
    {
     "name": "stdout",
     "output_type": "stream",
     "text": [
      "LinearCombinationRecommender: Fit completed in 0.00 seconds.\n",
      "EvaluatorHoldout: Processed 35595 (100.0%) in 1.53 min. Users per second: 387\n"
     ]
    },
    {
     "name": "stderr",
     "output_type": "stream",
     "text": [
      "[I 2024-12-03 02:52:42,163] Trial 53 finished with value: 0.060748808799165124 and parameters: {'norm': 2, 'itemknn_weight': 0.038968025720489824, 'slim_weight': 0.9963767362707919, 'rp3beta_weight': 0.14115483981578023}. Best is trial 53 with value: 0.060748808799165124.\n"
     ]
    },
    {
     "name": "stdout",
     "output_type": "stream",
     "text": [
      "LinearCombinationRecommender: Fit completed in 0.00 seconds.\n",
      "EvaluatorHoldout: Processed 35595 (100.0%) in 1.53 min. Users per second: 388\n"
     ]
    },
    {
     "name": "stderr",
     "output_type": "stream",
     "text": [
      "[I 2024-12-03 02:54:14,129] Trial 54 finished with value: 0.06067749728537595 and parameters: {'norm': 2, 'itemknn_weight': 0.10973927977956478, 'slim_weight': 0.9983489142344593, 'rp3beta_weight': 0.13916250787719497}. Best is trial 53 with value: 0.060748808799165124.\n"
     ]
    },
    {
     "name": "stdout",
     "output_type": "stream",
     "text": [
      "LinearCombinationRecommender: Fit completed in 0.00 seconds.\n",
      "EvaluatorHoldout: Processed 35595 (100.0%) in 1.53 min. Users per second: 389\n"
     ]
    },
    {
     "name": "stderr",
     "output_type": "stream",
     "text": [
      "[I 2024-12-03 02:55:45,926] Trial 55 finished with value: 0.06066778596066251 and parameters: {'norm': 2, 'itemknn_weight': 0.03914333584562384, 'slim_weight': 0.5977866840236807, 'rp3beta_weight': 0.04631110458416998}. Best is trial 53 with value: 0.060748808799165124.\n"
     ]
    },
    {
     "name": "stdout",
     "output_type": "stream",
     "text": [
      "LinearCombinationRecommender: Fit completed in 0.00 seconds.\n",
      "EvaluatorHoldout: Processed 35595 (100.0%) in 1.54 min. Users per second: 386\n"
     ]
    },
    {
     "name": "stderr",
     "output_type": "stream",
     "text": [
      "[I 2024-12-03 02:57:18,313] Trial 56 finished with value: 0.06065248039563068 and parameters: {'norm': 2, 'itemknn_weight': 0.0005137431607650095, 'slim_weight': 0.695875974111354, 'rp3beta_weight': 0.09731973665894374}. Best is trial 53 with value: 0.060748808799165124.\n"
     ]
    },
    {
     "name": "stdout",
     "output_type": "stream",
     "text": [
      "LinearCombinationRecommender: Fit completed in 0.00 seconds.\n",
      "EvaluatorHoldout: Processed 35595 (100.0%) in 1.53 min. Users per second: 388\n"
     ]
    },
    {
     "name": "stderr",
     "output_type": "stream",
     "text": [
      "[I 2024-12-03 02:58:50,155] Trial 57 finished with value: 0.05978682912037108 and parameters: {'norm': 2, 'itemknn_weight': 0.24079595861990044, 'slim_weight': 0.9042052176313613, 'rp3beta_weight': 0.5963389335914184}. Best is trial 53 with value: 0.060748808799165124.\n"
     ]
    },
    {
     "name": "stdout",
     "output_type": "stream",
     "text": [
      "LinearCombinationRecommender: Fit completed in 0.00 seconds.\n",
      "EvaluatorHoldout: Processed 35595 (100.0%) in 1.55 min. Users per second: 382\n"
     ]
    },
    {
     "name": "stderr",
     "output_type": "stream",
     "text": [
      "[I 2024-12-03 03:00:23,573] Trial 58 finished with value: 0.06071052537697966 and parameters: {'norm': 2, 'itemknn_weight': 0.03805085799982759, 'slim_weight': 0.84487574761383, 'rp3beta_weight': 0.16079164353709163}. Best is trial 53 with value: 0.060748808799165124.\n"
     ]
    },
    {
     "name": "stdout",
     "output_type": "stream",
     "text": [
      "LinearCombinationRecommender: Fit completed in 0.00 seconds.\n",
      "EvaluatorHoldout: Processed 35595 (100.0%) in 1.55 min. Users per second: 384\n"
     ]
    },
    {
     "name": "stderr",
     "output_type": "stream",
     "text": [
      "[I 2024-12-03 03:01:56,537] Trial 59 finished with value: 0.0606837492781428 and parameters: {'norm': 2, 'itemknn_weight': 0.03969904569881876, 'slim_weight': 0.8457064858201047, 'rp3beta_weight': 0.17789646280658944}. Best is trial 53 with value: 0.060748808799165124.\n"
     ]
    },
    {
     "name": "stdout",
     "output_type": "stream",
     "text": [
      "LinearCombinationRecommender: Fit completed in 0.00 seconds.\n",
      "EvaluatorHoldout: Processed 35595 (100.0%) in 1.54 min. Users per second: 384\n"
     ]
    },
    {
     "name": "stderr",
     "output_type": "stream",
     "text": [
      "[I 2024-12-03 03:03:29,346] Trial 60 finished with value: 0.06047790063255542 and parameters: {'norm': 2, 'itemknn_weight': 0.12344980687138637, 'slim_weight': 0.8679981812234664, 'rp3beta_weight': 0.025850808844304102}. Best is trial 53 with value: 0.060748808799165124.\n"
     ]
    },
    {
     "name": "stdout",
     "output_type": "stream",
     "text": [
      "LinearCombinationRecommender: Fit completed in 0.00 seconds.\n",
      "EvaluatorHoldout: Processed 35595 (100.0%) in 1.53 min. Users per second: 387\n"
     ]
    },
    {
     "name": "stderr",
     "output_type": "stream",
     "text": [
      "[I 2024-12-03 03:05:01,597] Trial 61 finished with value: 0.06028855599925795 and parameters: {'norm': 2, 'itemknn_weight': 0.17812417204998582, 'slim_weight': 0.7386747463985482, 'rp3beta_weight': 0.13069324529067983}. Best is trial 53 with value: 0.060748808799165124.\n"
     ]
    },
    {
     "name": "stdout",
     "output_type": "stream",
     "text": [
      "LinearCombinationRecommender: Fit completed in 0.00 seconds.\n",
      "EvaluatorHoldout: Processed 35595 (100.0%) in 1.53 min. Users per second: 387\n"
     ]
    },
    {
     "name": "stderr",
     "output_type": "stream",
     "text": [
      "[I 2024-12-03 03:06:33,728] Trial 62 finished with value: 0.06004436818975175 and parameters: {'norm': 1, 'itemknn_weight': 0.09525544000226896, 'slim_weight': 0.789880740902285, 'rp3beta_weight': 0.09059928361112946}. Best is trial 53 with value: 0.060748808799165124.\n"
     ]
    },
    {
     "name": "stdout",
     "output_type": "stream",
     "text": [
      "LinearCombinationRecommender: Fit completed in 0.00 seconds.\n",
      "EvaluatorHoldout: Processed 35595 (100.0%) in 1.53 min. Users per second: 387\n"
     ]
    },
    {
     "name": "stderr",
     "output_type": "stream",
     "text": [
      "[I 2024-12-03 03:08:05,915] Trial 63 finished with value: 0.060658011090373436 and parameters: {'norm': 2, 'itemknn_weight': 0.04484709980355729, 'slim_weight': 0.6742805841614085, 'rp3beta_weight': 0.15951891704641016}. Best is trial 53 with value: 0.060748808799165124.\n"
     ]
    },
    {
     "name": "stdout",
     "output_type": "stream",
     "text": [
      "LinearCombinationRecommender: Fit completed in 0.00 seconds.\n",
      "EvaluatorHoldout: Processed 35595 (100.0%) in 1.53 min. Users per second: 387\n"
     ]
    },
    {
     "name": "stderr",
     "output_type": "stream",
     "text": [
      "[I 2024-12-03 03:09:38,076] Trial 64 finished with value: 0.060220212175330044 and parameters: {'norm': 2, 'itemknn_weight': 0.02212709734292386, 'slim_weight': 0.558373644238673, 'rp3beta_weight': 0.2787487480614839}. Best is trial 53 with value: 0.060748808799165124.\n"
     ]
    },
    {
     "name": "stdout",
     "output_type": "stream",
     "text": [
      "LinearCombinationRecommender: Fit completed in 0.00 seconds.\n",
      "EvaluatorHoldout: Processed 35595 (100.0%) in 1.54 min. Users per second: 386\n"
     ]
    },
    {
     "name": "stderr",
     "output_type": "stream",
     "text": [
      "[I 2024-12-03 03:11:10,464] Trial 65 finished with value: 0.058156740178862076 and parameters: {'norm': -inf, 'itemknn_weight': 0.08562529247418763, 'slim_weight': 0.8291556663766556, 'rp3beta_weight': 0.20718476157285834}. Best is trial 53 with value: 0.060748808799165124.\n"
     ]
    },
    {
     "name": "stdout",
     "output_type": "stream",
     "text": [
      "LinearCombinationRecommender: Fit completed in 0.00 seconds.\n",
      "EvaluatorHoldout: Processed 35595 (100.0%) in 1.54 min. Users per second: 386\n"
     ]
    },
    {
     "name": "stderr",
     "output_type": "stream",
     "text": [
      "[I 2024-12-03 03:12:42,906] Trial 66 finished with value: 0.060261488928575156 and parameters: {'norm': 2, 'itemknn_weight': 0.13121781195270119, 'slim_weight': 0.4843314735866037, 'rp3beta_weight': 0.059631344469782854}. Best is trial 53 with value: 0.060748808799165124.\n"
     ]
    },
    {
     "name": "stdout",
     "output_type": "stream",
     "text": [
      "LinearCombinationRecommender: Fit completed in 0.00 seconds.\n",
      "EvaluatorHoldout: Processed 35595 (100.0%) in 1.53 min. Users per second: 387\n"
     ]
    },
    {
     "name": "stderr",
     "output_type": "stream",
     "text": [
      "[I 2024-12-03 03:14:15,076] Trial 67 finished with value: 0.060292418901351 and parameters: {'norm': 2, 'itemknn_weight': 0.17930526179946307, 'slim_weight': 0.7378206717978385, 'rp3beta_weight': 0.12130150249421072}. Best is trial 53 with value: 0.060748808799165124.\n"
     ]
    },
    {
     "name": "stdout",
     "output_type": "stream",
     "text": [
      "LinearCombinationRecommender: Fit completed in 0.00 seconds.\n",
      "EvaluatorHoldout: Processed 35595 (100.0%) in 1.53 min. Users per second: 387\n"
     ]
    },
    {
     "name": "stderr",
     "output_type": "stream",
     "text": [
      "[I 2024-12-03 03:15:47,258] Trial 68 finished with value: 0.058673272062018514 and parameters: {'norm': 2, 'itemknn_weight': 0.8597851920017615, 'slim_weight': 0.9694472971093789, 'rp3beta_weight': 0.3174464959711416}. Best is trial 53 with value: 0.060748808799165124.\n"
     ]
    },
    {
     "name": "stdout",
     "output_type": "stream",
     "text": [
      "LinearCombinationRecommender: Fit completed in 0.00 seconds.\n",
      "EvaluatorHoldout: Processed 35595 (100.0%) in 1.53 min. Users per second: 388\n"
     ]
    },
    {
     "name": "stderr",
     "output_type": "stream",
     "text": [
      "[I 2024-12-03 03:17:19,263] Trial 69 finished with value: 0.05932972572837513 and parameters: {'norm': 1, 'itemknn_weight': 0.21859218587687856, 'slim_weight': 0.9203959306840326, 'rp3beta_weight': 0.18714691126116287}. Best is trial 53 with value: 0.060748808799165124.\n"
     ]
    },
    {
     "name": "stdout",
     "output_type": "stream",
     "text": [
      "LinearCombinationRecommender: Fit completed in 0.00 seconds.\n",
      "EvaluatorHoldout: Processed 35595 (100.0%) in 1.54 min. Users per second: 386\n"
     ]
    },
    {
     "name": "stderr",
     "output_type": "stream",
     "text": [
      "[I 2024-12-03 03:18:51,572] Trial 70 finished with value: 0.060348118270577504 and parameters: {'norm': 2, 'itemknn_weight': 0.0026316974966722334, 'slim_weight': 0.6186134278833173, 'rp3beta_weight': 0.010367191699290818}. Best is trial 53 with value: 0.060748808799165124.\n"
     ]
    },
    {
     "name": "stdout",
     "output_type": "stream",
     "text": [
      "LinearCombinationRecommender: Fit completed in 0.00 seconds.\n",
      "EvaluatorHoldout: Processed 35595 (100.0%) in 1.55 min. Users per second: 383\n"
     ]
    },
    {
     "name": "stderr",
     "output_type": "stream",
     "text": [
      "[I 2024-12-03 03:20:24,620] Trial 71 finished with value: 0.060715862090491735 and parameters: {'norm': 2, 'itemknn_weight': 0.04576733325602195, 'slim_weight': 0.844825464212551, 'rp3beta_weight': 0.1594752830895111}. Best is trial 53 with value: 0.060748808799165124.\n"
     ]
    },
    {
     "name": "stdout",
     "output_type": "stream",
     "text": [
      "LinearCombinationRecommender: Fit completed in 0.00 seconds.\n",
      "EvaluatorHoldout: Processed 35595 (100.0%) in 1.54 min. Users per second: 384\n"
     ]
    },
    {
     "name": "stderr",
     "output_type": "stream",
     "text": [
      "[I 2024-12-03 03:21:57,469] Trial 72 finished with value: 0.06068747728524222 and parameters: {'norm': 2, 'itemknn_weight': 0.07185022774586458, 'slim_weight': 0.9576323653998107, 'rp3beta_weight': 0.1468832562959366}. Best is trial 53 with value: 0.060748808799165124.\n"
     ]
    },
    {
     "name": "stdout",
     "output_type": "stream",
     "text": [
      "LinearCombinationRecommender: Fit completed in 0.00 seconds.\n",
      "EvaluatorHoldout: Processed 35595 (100.0%) in 1.54 min. Users per second: 385\n"
     ]
    },
    {
     "name": "stderr",
     "output_type": "stream",
     "text": [
      "[I 2024-12-03 03:23:30,242] Trial 73 finished with value: 0.06074634167006506 and parameters: {'norm': 2, 'itemknn_weight': 0.03634991202687646, 'slim_weight': 0.935577619201285, 'rp3beta_weight': 0.15387567765070095}. Best is trial 53 with value: 0.060748808799165124.\n"
     ]
    },
    {
     "name": "stdout",
     "output_type": "stream",
     "text": [
      "LinearCombinationRecommender: Fit completed in 0.00 seconds.\n",
      "EvaluatorHoldout: Processed 35595 (100.0%) in 1.53 min. Users per second: 388\n"
     ]
    },
    {
     "name": "stderr",
     "output_type": "stream",
     "text": [
      "[I 2024-12-03 03:25:02,245] Trial 74 finished with value: 0.06067668903024824 and parameters: {'norm': 2, 'itemknn_weight': 0.033502332397328694, 'slim_weight': 0.9169238173084882, 'rp3beta_weight': 0.07870197181067651}. Best is trial 53 with value: 0.060748808799165124.\n"
     ]
    },
    {
     "name": "stdout",
     "output_type": "stream",
     "text": [
      "LinearCombinationRecommender: Fit completed in 0.00 seconds.\n",
      "EvaluatorHoldout: Processed 35595 (100.0%) in 1.54 min. Users per second: 384\n"
     ]
    },
    {
     "name": "stderr",
     "output_type": "stream",
     "text": [
      "[I 2024-12-03 03:26:35,062] Trial 75 finished with value: 0.060290014202991585 and parameters: {'norm': 2, 'itemknn_weight': 0.11101529597274308, 'slim_weight': 0.8678174065326648, 'rp3beta_weight': 0.37320341037998567}. Best is trial 53 with value: 0.060748808799165124.\n"
     ]
    },
    {
     "name": "stdout",
     "output_type": "stream",
     "text": [
      "LinearCombinationRecommender: Fit completed in 0.00 seconds.\n",
      "EvaluatorHoldout: Processed 35595 (100.0%) in 1.55 min. Users per second: 383\n"
     ]
    },
    {
     "name": "stderr",
     "output_type": "stream",
     "text": [
      "[I 2024-12-03 03:28:08,137] Trial 76 finished with value: 0.05934093427603544 and parameters: {'norm': 2, 'itemknn_weight': 0.04726466673272635, 'slim_weight': 0.8129542637588871, 'rp3beta_weight': 0.7835017756962238}. Best is trial 53 with value: 0.060748808799165124.\n"
     ]
    },
    {
     "name": "stdout",
     "output_type": "stream",
     "text": [
      "LinearCombinationRecommender: Fit completed in 0.00 seconds.\n",
      "EvaluatorHoldout: Processed 35595 (100.0%) in 1.54 min. Users per second: 384\n"
     ]
    },
    {
     "name": "stderr",
     "output_type": "stream",
     "text": [
      "[I 2024-12-03 03:29:41,001] Trial 77 finished with value: 0.06060735969248235 and parameters: {'norm': 2, 'itemknn_weight': 0.021271991538972197, 'slim_weight': 0.9464786329797072, 'rp3beta_weight': 0.236558019774609}. Best is trial 53 with value: 0.060748808799165124.\n"
     ]
    },
    {
     "name": "stdout",
     "output_type": "stream",
     "text": [
      "LinearCombinationRecommender: Fit completed in 0.00 seconds.\n",
      "EvaluatorHoldout: Processed 35595 (100.0%) in 1.53 min. Users per second: 389\n"
     ]
    },
    {
     "name": "stderr",
     "output_type": "stream",
     "text": [
      "[I 2024-12-03 03:31:12,797] Trial 78 finished with value: 0.05683421405271192 and parameters: {'norm': -inf, 'itemknn_weight': 0.14187536426653752, 'slim_weight': 0.8395658922311482, 'rp3beta_weight': 0.11018175214968084}. Best is trial 53 with value: 0.060748808799165124.\n"
     ]
    },
    {
     "name": "stdout",
     "output_type": "stream",
     "text": [
      "LinearCombinationRecommender: Fit completed in 0.00 seconds.\n",
      "EvaluatorHoldout: Processed 35595 (100.0%) in 1.55 min. Users per second: 383\n"
     ]
    },
    {
     "name": "stderr",
     "output_type": "stream",
     "text": [
      "[I 2024-12-03 03:32:45,877] Trial 79 finished with value: 0.05982914824402186 and parameters: {'norm': 2, 'itemknn_weight': 0.06974185394962858, 'slim_weight': 0.40000638186882614, 'rp3beta_weight': 0.2731710388808968}. Best is trial 53 with value: 0.060748808799165124.\n"
     ]
    },
    {
     "name": "stdout",
     "output_type": "stream",
     "text": [
      "LinearCombinationRecommender: Fit completed in 0.00 seconds.\n",
      "EvaluatorHoldout: Processed 35595 (100.0%) in 1.54 min. Users per second: 385\n"
     ]
    },
    {
     "name": "stderr",
     "output_type": "stream",
     "text": [
      "[I 2024-12-03 03:34:18,585] Trial 80 finished with value: 0.06056226128602683 and parameters: {'norm': 2, 'itemknn_weight': 0.09794549346468545, 'slim_weight': 0.7756534334721663, 'rp3beta_weight': 0.20152086421132537}. Best is trial 53 with value: 0.060748808799165124.\n"
     ]
    },
    {
     "name": "stdout",
     "output_type": "stream",
     "text": [
      "LinearCombinationRecommender: Fit completed in 0.00 seconds.\n",
      "EvaluatorHoldout: Processed 35595 (100.0%) in 1.55 min. Users per second: 383\n"
     ]
    },
    {
     "name": "stderr",
     "output_type": "stream",
     "text": [
      "[I 2024-12-03 03:35:51,628] Trial 81 finished with value: 0.0606990983217263 and parameters: {'norm': 2, 'itemknn_weight': 0.06474577033517676, 'slim_weight': 0.9664498289142505, 'rp3beta_weight': 0.14413730585094597}. Best is trial 53 with value: 0.060748808799165124.\n"
     ]
    },
    {
     "name": "stdout",
     "output_type": "stream",
     "text": [
      "LinearCombinationRecommender: Fit completed in 0.00 seconds.\n",
      "EvaluatorHoldout: Processed 35595 (100.0%) in 1.54 min. Users per second: 385\n"
     ]
    },
    {
     "name": "stderr",
     "output_type": "stream",
     "text": [
      "[I 2024-12-03 03:37:24,238] Trial 82 finished with value: 0.06069970256211141 and parameters: {'norm': 2, 'itemknn_weight': 0.05470747880861695, 'slim_weight': 0.8989944031435776, 'rp3beta_weight': 0.156961233077764}. Best is trial 53 with value: 0.060748808799165124.\n"
     ]
    },
    {
     "name": "stdout",
     "output_type": "stream",
     "text": [
      "LinearCombinationRecommender: Fit completed in 0.00 seconds.\n",
      "EvaluatorHoldout: Processed 35595 (100.0%) in 1.54 min. Users per second: 386\n"
     ]
    },
    {
     "name": "stderr",
     "output_type": "stream",
     "text": [
      "[I 2024-12-03 03:38:56,775] Trial 83 finished with value: 0.06073039730477387 and parameters: {'norm': 2, 'itemknn_weight': 0.02596677689906685, 'slim_weight': 0.8922199085834056, 'rp3beta_weight': 0.14956163593528218}. Best is trial 53 with value: 0.060748808799165124.\n"
     ]
    },
    {
     "name": "stdout",
     "output_type": "stream",
     "text": [
      "LinearCombinationRecommender: Fit completed in 0.00 seconds.\n",
      "EvaluatorHoldout: Processed 35595 (100.0%) in 1.54 min. Users per second: 385\n"
     ]
    },
    {
     "name": "stderr",
     "output_type": "stream",
     "text": [
      "[I 2024-12-03 03:40:29,458] Trial 84 finished with value: 0.06069311388927726 and parameters: {'norm': 2, 'itemknn_weight': 0.0010152172647801133, 'slim_weight': 0.9009273958005107, 'rp3beta_weight': 0.1643199747954464}. Best is trial 53 with value: 0.060748808799165124.\n"
     ]
    },
    {
     "name": "stdout",
     "output_type": "stream",
     "text": [
      "LinearCombinationRecommender: Fit completed in 0.00 seconds.\n",
      "EvaluatorHoldout: Processed 35595 (100.0%) in 1.55 min. Users per second: 384\n"
     ]
    },
    {
     "name": "stderr",
     "output_type": "stream",
     "text": [
      "[I 2024-12-03 03:42:02,377] Trial 85 finished with value: 0.06064793075538789 and parameters: {'norm': 2, 'itemknn_weight': 0.02952323490690455, 'slim_weight': 0.9826058042720791, 'rp3beta_weight': 0.21791154895798268}. Best is trial 53 with value: 0.060748808799165124.\n"
     ]
    },
    {
     "name": "stdout",
     "output_type": "stream",
     "text": [
      "LinearCombinationRecommender: Fit completed in 0.00 seconds.\n",
      "EvaluatorHoldout: Processed 35595 (100.0%) in 1.55 min. Users per second: 382\n"
     ]
    },
    {
     "name": "stderr",
     "output_type": "stream",
     "text": [
      "[I 2024-12-03 03:43:35,795] Trial 86 finished with value: 0.060690160692266 and parameters: {'norm': 2, 'itemknn_weight': 0.08742076436372687, 'slim_weight': 0.9383070882933758, 'rp3beta_weight': 0.15352584522128146}. Best is trial 53 with value: 0.060748808799165124.\n"
     ]
    },
    {
     "name": "stdout",
     "output_type": "stream",
     "text": [
      "LinearCombinationRecommender: Fit completed in 0.00 seconds.\n",
      "EvaluatorHoldout: Processed 35595 (100.0%) in 1.54 min. Users per second: 386\n"
     ]
    },
    {
     "name": "stderr",
     "output_type": "stream",
     "text": [
      "[I 2024-12-03 03:45:08,161] Trial 87 finished with value: 0.058793872645745975 and parameters: {'norm': 2, 'itemknn_weight': 0.6947589476903497, 'slim_weight': 0.8769068131140162, 'rp3beta_weight': 0.18725470664955754}. Best is trial 53 with value: 0.060748808799165124.\n"
     ]
    },
    {
     "name": "stdout",
     "output_type": "stream",
     "text": [
      "LinearCombinationRecommender: Fit completed in 0.00 seconds.\n",
      "EvaluatorHoldout: Processed 35595 (100.0%) in 1.54 min. Users per second: 385\n"
     ]
    },
    {
     "name": "stderr",
     "output_type": "stream",
     "text": [
      "[I 2024-12-03 03:46:40,917] Trial 88 finished with value: 0.060608577091929815 and parameters: {'norm': 2, 'itemknn_weight': 0.1107432722205269, 'slim_weight': 0.9748889035854387, 'rp3beta_weight': 0.25249189478665596}. Best is trial 53 with value: 0.060748808799165124.\n"
     ]
    },
    {
     "name": "stdout",
     "output_type": "stream",
     "text": [
      "LinearCombinationRecommender: Fit completed in 0.00 seconds.\n",
      "EvaluatorHoldout: Processed 35595 (100.0%) in 1.53 min. Users per second: 388\n"
     ]
    },
    {
     "name": "stderr",
     "output_type": "stream",
     "text": [
      "[I 2024-12-03 03:48:12,876] Trial 89 finished with value: 0.0600338932032966 and parameters: {'norm': -inf, 'itemknn_weight': 0.02791873781757888, 'slim_weight': 0.9009983278278926, 'rp3beta_weight': 0.4372885329273721}. Best is trial 53 with value: 0.060748808799165124.\n"
     ]
    },
    {
     "name": "stdout",
     "output_type": "stream",
     "text": [
      "LinearCombinationRecommender: Fit completed in 0.00 seconds.\n",
      "EvaluatorHoldout: Processed 35595 (100.0%) in 1.54 min. Users per second: 385\n"
     ]
    },
    {
     "name": "stderr",
     "output_type": "stream",
     "text": [
      "[I 2024-12-03 03:49:45,474] Trial 90 finished with value: 0.06058247212355764 and parameters: {'norm': 2, 'itemknn_weight': 0.13967884013651044, 'slim_weight': 0.9233678672142298, 'rp3beta_weight': 0.0669089927745322}. Best is trial 53 with value: 0.060748808799165124.\n"
     ]
    },
    {
     "name": "stdout",
     "output_type": "stream",
     "text": [
      "LinearCombinationRecommender: Fit completed in 0.00 seconds.\n",
      "EvaluatorHoldout: Processed 35595 (100.0%) in 1.53 min. Users per second: 387\n"
     ]
    },
    {
     "name": "stderr",
     "output_type": "stream",
     "text": [
      "[I 2024-12-03 03:51:17,706] Trial 91 finished with value: 0.06069935696336713 and parameters: {'norm': 2, 'itemknn_weight': 0.06311934146320275, 'slim_weight': 0.8524566367347931, 'rp3beta_weight': 0.11868264822992844}. Best is trial 53 with value: 0.060748808799165124.\n"
     ]
    },
    {
     "name": "stdout",
     "output_type": "stream",
     "text": [
      "LinearCombinationRecommender: Fit completed in 0.00 seconds.\n",
      "EvaluatorHoldout: Processed 35595 (100.0%) in 1.53 min. Users per second: 388\n"
     ]
    },
    {
     "name": "stderr",
     "output_type": "stream",
     "text": [
      "[I 2024-12-03 03:52:49,575] Trial 92 finished with value: 0.06069021977850301 and parameters: {'norm': 2, 'itemknn_weight': 0.059141715493291835, 'slim_weight': 0.8541428614485306, 'rp3beta_weight': 0.14016329778510458}. Best is trial 53 with value: 0.060748808799165124.\n"
     ]
    },
    {
     "name": "stdout",
     "output_type": "stream",
     "text": [
      "LinearCombinationRecommender: Fit completed in 0.00 seconds.\n",
      "EvaluatorHoldout: Processed 35595 (100.0%) in 1.55 min. Users per second: 384\n"
     ]
    },
    {
     "name": "stderr",
     "output_type": "stream",
     "text": [
      "[I 2024-12-03 03:54:22,470] Trial 93 finished with value: 0.0607164473786877 and parameters: {'norm': 2, 'itemknn_weight': 0.08156798156351998, 'slim_weight': 0.9970145789400643, 'rp3beta_weight': 0.11925884793937422}. Best is trial 53 with value: 0.060748808799165124.\n"
     ]
    },
    {
     "name": "stdout",
     "output_type": "stream",
     "text": [
      "LinearCombinationRecommender: Fit completed in 0.00 seconds.\n",
      "EvaluatorHoldout: Processed 35595 (100.0%) in 1.54 min. Users per second: 385\n"
     ]
    },
    {
     "name": "stderr",
     "output_type": "stream",
     "text": [
      "[I 2024-12-03 03:55:55,144] Trial 94 finished with value: 0.06067847276570247 and parameters: {'norm': 2, 'itemknn_weight': 0.08565518273693434, 'slim_weight': 0.945495230245295, 'rp3beta_weight': 0.17017198548859547}. Best is trial 53 with value: 0.060748808799165124.\n"
     ]
    },
    {
     "name": "stdout",
     "output_type": "stream",
     "text": [
      "LinearCombinationRecommender: Fit completed in 0.00 seconds.\n",
      "EvaluatorHoldout: Processed 35595 (100.0%) in 1.54 min. Users per second: 386\n"
     ]
    },
    {
     "name": "stderr",
     "output_type": "stream",
     "text": [
      "[I 2024-12-03 03:57:27,461] Trial 95 finished with value: 0.060676654470373646 and parameters: {'norm': 2, 'itemknn_weight': 0.02336265248923726, 'slim_weight': 0.9901804757462552, 'rp3beta_weight': 0.11323344689659774}. Best is trial 53 with value: 0.060748808799165124.\n"
     ]
    },
    {
     "name": "stdout",
     "output_type": "stream",
     "text": [
      "LinearCombinationRecommender: Fit completed in 0.00 seconds.\n",
      "EvaluatorHoldout: Processed 35595 (100.0%) in 1.54 min. Users per second: 385\n"
     ]
    },
    {
     "name": "stderr",
     "output_type": "stream",
     "text": [
      "[I 2024-12-03 03:59:00,033] Trial 96 finished with value: 0.060504392448554115 and parameters: {'norm': 2, 'itemknn_weight': 0.16926136987071186, 'slim_weight': 0.8880967139637241, 'rp3beta_weight': 0.04963161357047155}. Best is trial 53 with value: 0.060748808799165124.\n"
     ]
    },
    {
     "name": "stdout",
     "output_type": "stream",
     "text": [
      "LinearCombinationRecommender: Fit completed in 0.00 seconds.\n",
      "EvaluatorHoldout: Processed 35595 (100.0%) in 1.54 min. Users per second: 385\n"
     ]
    },
    {
     "name": "stderr",
     "output_type": "stream",
     "text": [
      "[I 2024-12-03 04:00:32,620] Trial 97 finished with value: 0.060566760758710106 and parameters: {'norm': 1, 'itemknn_weight': 0.042563827446106636, 'slim_weight': 0.8270874213857192, 'rp3beta_weight': 0.08253250401352812}. Best is trial 53 with value: 0.060748808799165124.\n"
     ]
    },
    {
     "name": "stdout",
     "output_type": "stream",
     "text": [
      "LinearCombinationRecommender: Fit completed in 0.00 seconds.\n",
      "EvaluatorHoldout: Processed 35595 (100.0%) in 1.53 min. Users per second: 387\n"
     ]
    },
    {
     "name": "stderr",
     "output_type": "stream",
     "text": [
      "[I 2024-12-03 04:02:04,843] Trial 98 finished with value: 0.06059645326501448 and parameters: {'norm': 2, 'itemknn_weight': 0.11454092894310482, 'slim_weight': 0.9122738069949299, 'rp3beta_weight': 0.22308171380110128}. Best is trial 53 with value: 0.060748808799165124.\n"
     ]
    },
    {
     "name": "stdout",
     "output_type": "stream",
     "text": [
      "LinearCombinationRecommender: Fit completed in 0.00 seconds.\n",
      "EvaluatorHoldout: Processed 35595 (100.0%) in 1.54 min. Users per second: 386\n"
     ]
    },
    {
     "name": "stderr",
     "output_type": "stream",
     "text": [
      "[I 2024-12-03 04:03:37,201] Trial 99 finished with value: 0.05965553727226528 and parameters: {'norm': inf, 'itemknn_weight': 0.5313025998968908, 'slim_weight': 0.8632121351121029, 'rp3beta_weight': 0.11954002576745035}. Best is trial 53 with value: 0.060748808799165124.\n"
     ]
    },
    {
     "name": "stdout",
     "output_type": "stream",
     "text": [
      "LinearCombinationRecommender: Fit completed in 0.00 seconds.\n",
      "EvaluatorHoldout: Processed 35595 (100.0%) in 1.53 min. Users per second: 387\n"
     ]
    },
    {
     "name": "stderr",
     "output_type": "stream",
     "text": [
      "[I 2024-12-03 04:05:09,491] Trial 100 finished with value: 0.060678612120034676 and parameters: {'norm': 2, 'itemknn_weight': 0.0007648851337543755, 'slim_weight': 0.996637707891275, 'rp3beta_weight': 0.19377175497543075}. Best is trial 53 with value: 0.060748808799165124.\n"
     ]
    },
    {
     "name": "stdout",
     "output_type": "stream",
     "text": [
      "LinearCombinationRecommender: Fit completed in 0.00 seconds.\n",
      "EvaluatorHoldout: Processed 35595 (100.0%) in 1.53 min. Users per second: 387\n"
     ]
    },
    {
     "name": "stderr",
     "output_type": "stream",
     "text": [
      "[I 2024-12-03 04:06:41,676] Trial 101 finished with value: 0.06069330006666547 and parameters: {'norm': 2, 'itemknn_weight': 0.06885223884445899, 'slim_weight': 0.9622363297472872, 'rp3beta_weight': 0.1543254979920733}. Best is trial 53 with value: 0.060748808799165124.\n"
     ]
    },
    {
     "name": "stdout",
     "output_type": "stream",
     "text": [
      "LinearCombinationRecommender: Fit completed in 0.00 seconds.\n",
      "EvaluatorHoldout: Processed 35595 (100.0%) in 1.54 min. Users per second: 386\n"
     ]
    },
    {
     "name": "stderr",
     "output_type": "stream",
     "text": [
      "[I 2024-12-03 04:08:14,113] Trial 102 finished with value: 0.060750782056511486 and parameters: {'norm': 2, 'itemknn_weight': 0.054648751611602944, 'slim_weight': 0.9333493456965236, 'rp3beta_weight': 0.1311686533180208}. Best is trial 102 with value: 0.060750782056511486.\n"
     ]
    },
    {
     "name": "stdout",
     "output_type": "stream",
     "text": [
      "LinearCombinationRecommender: Fit completed in 0.00 seconds.\n",
      "EvaluatorHoldout: Processed 35595 (100.0%) in 1.53 min. Users per second: 387\n"
     ]
    },
    {
     "name": "stderr",
     "output_type": "stream",
     "text": [
      "[I 2024-12-03 04:09:46,308] Trial 103 finished with value: 0.06057347094852197 and parameters: {'norm': 2, 'itemknn_weight': 0.09903102832236838, 'slim_weight': 0.9331910036205737, 'rp3beta_weight': 0.018103735527841974}. Best is trial 102 with value: 0.060750782056511486.\n"
     ]
    },
    {
     "name": "stdout",
     "output_type": "stream",
     "text": [
      "LinearCombinationRecommender: Fit completed in 0.00 seconds.\n",
      "EvaluatorHoldout: Processed 35595 (100.0%) in 1.54 min. Users per second: 386\n"
     ]
    },
    {
     "name": "stderr",
     "output_type": "stream",
     "text": [
      "[I 2024-12-03 04:11:18,769] Trial 104 finished with value: 0.06071118981843634 and parameters: {'norm': 2, 'itemknn_weight': 0.08130720040332852, 'slim_weight': 0.8903326687920369, 'rp3beta_weight': 0.128080402801301}. Best is trial 102 with value: 0.060750782056511486.\n"
     ]
    },
    {
     "name": "stdout",
     "output_type": "stream",
     "text": [
      "LinearCombinationRecommender: Fit completed in 0.00 seconds.\n",
      "EvaluatorHoldout: Processed 35595 (100.0%) in 1.53 min. Users per second: 388\n"
     ]
    },
    {
     "name": "stderr",
     "output_type": "stream",
     "text": [
      "[I 2024-12-03 04:12:50,682] Trial 105 finished with value: 0.06065044470754363 and parameters: {'norm': 2, 'itemknn_weight': 0.018200381277744957, 'slim_weight': 0.8940662789581106, 'rp3beta_weight': 0.08888254520594911}. Best is trial 102 with value: 0.060750782056511486.\n"
     ]
    },
    {
     "name": "stdout",
     "output_type": "stream",
     "text": [
      "LinearCombinationRecommender: Fit completed in 0.00 seconds.\n",
      "EvaluatorHoldout: Processed 35595 (100.0%) in 1.53 min. Users per second: 387\n"
     ]
    },
    {
     "name": "stderr",
     "output_type": "stream",
     "text": [
      "[I 2024-12-03 04:14:22,945] Trial 106 finished with value: 0.05997109902630144 and parameters: {'norm': 2, 'itemknn_weight': 0.04253021343753532, 'slim_weight': 0.2824221426859535, 'rp3beta_weight': 0.17152913704731107}. Best is trial 102 with value: 0.060750782056511486.\n"
     ]
    },
    {
     "name": "stdout",
     "output_type": "stream",
     "text": [
      "LinearCombinationRecommender: Fit completed in 0.00 seconds.\n",
      "EvaluatorHoldout: Processed 35595 (100.0%) in 1.53 min. Users per second: 387\n"
     ]
    },
    {
     "name": "stderr",
     "output_type": "stream",
     "text": [
      "[I 2024-12-03 04:15:55,195] Trial 107 finished with value: 0.06054546741672575 and parameters: {'norm': 2, 'itemknn_weight': 0.1345460810760135, 'slim_weight': 0.8100660697777393, 'rp3beta_weight': 0.04448991325883858}. Best is trial 102 with value: 0.060750782056511486.\n"
     ]
    },
    {
     "name": "stdout",
     "output_type": "stream",
     "text": [
      "LinearCombinationRecommender: Fit completed in 0.00 seconds.\n",
      "EvaluatorHoldout: Processed 35595 (100.0%) in 1.53 min. Users per second: 388\n"
     ]
    },
    {
     "name": "stderr",
     "output_type": "stream",
     "text": [
      "[I 2024-12-03 04:17:27,242] Trial 108 finished with value: 0.060604571491000465 and parameters: {'norm': inf, 'itemknn_weight': 0.18873703995260263, 'slim_weight': 0.9561403289975091, 'rp3beta_weight': 0.1316206833479005}. Best is trial 102 with value: 0.060750782056511486.\n"
     ]
    },
    {
     "name": "stdout",
     "output_type": "stream",
     "text": [
      "LinearCombinationRecommender: Fit completed in 0.00 seconds.\n",
      "EvaluatorHoldout: Processed 35595 (100.0%) in 1.53 min. Users per second: 388\n"
     ]
    },
    {
     "name": "stderr",
     "output_type": "stream",
     "text": [
      "[I 2024-12-03 04:18:59,210] Trial 109 finished with value: 0.0606157889573381 and parameters: {'norm': 2, 'itemknn_weight': 0.09896016930310265, 'slim_weight': 0.9335249144602317, 'rp3beta_weight': 0.2039244307809439}. Best is trial 102 with value: 0.060750782056511486.\n"
     ]
    },
    {
     "name": "stdout",
     "output_type": "stream",
     "text": [
      "LinearCombinationRecommender: Fit completed in 0.00 seconds.\n",
      "EvaluatorHoldout: Processed 35595 (100.0%) in 1.54 min. Users per second: 384\n"
     ]
    },
    {
     "name": "stderr",
     "output_type": "stream",
     "text": [
      "[I 2024-12-03 04:20:32,100] Trial 110 finished with value: 0.05963243566846406 and parameters: {'norm': 2, 'itemknn_weight': 0.4219646238930952, 'slim_weight': 0.8772055277462034, 'rp3beta_weight': 0.06862496209592196}. Best is trial 102 with value: 0.060750782056511486.\n"
     ]
    },
    {
     "name": "stdout",
     "output_type": "stream",
     "text": [
      "LinearCombinationRecommender: Fit completed in 0.00 seconds.\n",
      "EvaluatorHoldout: Processed 35595 (100.0%) in 1.53 min. Users per second: 387\n"
     ]
    },
    {
     "name": "stderr",
     "output_type": "stream",
     "text": [
      "[I 2024-12-03 04:22:04,382] Trial 111 finished with value: 0.06071375505298655 and parameters: {'norm': 2, 'itemknn_weight': 0.07414430027620451, 'slim_weight': 0.8568412321599972, 'rp3beta_weight': 0.10906996913071634}. Best is trial 102 with value: 0.060750782056511486.\n"
     ]
    },
    {
     "name": "stdout",
     "output_type": "stream",
     "text": [
      "LinearCombinationRecommender: Fit completed in 0.00 seconds.\n",
      "EvaluatorHoldout: Processed 35595 (100.0%) in 1.53 min. Users per second: 388\n"
     ]
    },
    {
     "name": "stderr",
     "output_type": "stream",
     "text": [
      "[I 2024-12-03 04:23:36,435] Trial 112 finished with value: 0.060695917698444554 and parameters: {'norm': 2, 'itemknn_weight': 0.0833928491071004, 'slim_weight': 0.9816500226171655, 'rp3beta_weight': 0.1050113011882024}. Best is trial 102 with value: 0.060750782056511486.\n"
     ]
    },
    {
     "name": "stdout",
     "output_type": "stream",
     "text": [
      "LinearCombinationRecommender: Fit completed in 0.00 seconds.\n",
      "EvaluatorHoldout: Processed 35595 (100.0%) in 1.54 min. Users per second: 386\n"
     ]
    },
    {
     "name": "stderr",
     "output_type": "stream",
     "text": [
      "[I 2024-12-03 04:25:08,755] Trial 113 finished with value: 0.06070810841543924 and parameters: {'norm': 2, 'itemknn_weight': 0.046846583398474834, 'slim_weight': 0.9184845552413277, 'rp3beta_weight': 0.1822260371036932}. Best is trial 102 with value: 0.060750782056511486.\n"
     ]
    },
    {
     "name": "stdout",
     "output_type": "stream",
     "text": [
      "LinearCombinationRecommender: Fit completed in 0.00 seconds.\n",
      "EvaluatorHoldout: Processed 35595 (100.0%) in 1.55 min. Users per second: 382\n"
     ]
    },
    {
     "name": "stderr",
     "output_type": "stream",
     "text": [
      "[I 2024-12-03 04:26:42,090] Trial 114 finished with value: 0.06071317533896365 and parameters: {'norm': 2, 'itemknn_weight': 0.024687921362064533, 'slim_weight': 0.9127452110448661, 'rp3beta_weight': 0.1788770892883611}. Best is trial 102 with value: 0.060750782056511486.\n"
     ]
    },
    {
     "name": "stdout",
     "output_type": "stream",
     "text": [
      "LinearCombinationRecommender: Fit completed in 0.00 seconds.\n",
      "EvaluatorHoldout: Processed 35595 (100.0%) in 1.54 min. Users per second: 385\n"
     ]
    },
    {
     "name": "stderr",
     "output_type": "stream",
     "text": [
      "[I 2024-12-03 04:28:14,627] Trial 115 finished with value: 0.06061939210295562 and parameters: {'norm': 2, 'itemknn_weight': 0.01480779486697715, 'slim_weight': 0.9462158289424049, 'rp3beta_weight': 0.23784696246202447}. Best is trial 102 with value: 0.060750782056511486.\n"
     ]
    },
    {
     "name": "stdout",
     "output_type": "stream",
     "text": [
      "LinearCombinationRecommender: Fit completed in 0.00 seconds.\n",
      "EvaluatorHoldout: Processed 35595 (100.0%) in 1.54 min. Users per second: 385\n"
     ]
    },
    {
     "name": "stderr",
     "output_type": "stream",
     "text": [
      "[I 2024-12-03 04:29:47,167] Trial 116 finished with value: 0.057607043079439 and parameters: {'norm': 1, 'itemknn_weight': 0.6173476600690047, 'slim_weight': 0.9997108582155648, 'rp3beta_weight': 0.6392368324923556}. Best is trial 102 with value: 0.060750782056511486.\n"
     ]
    },
    {
     "name": "stdout",
     "output_type": "stream",
     "text": [
      "LinearCombinationRecommender: Fit completed in 0.00 seconds.\n",
      "EvaluatorHoldout: Processed 35595 (100.0%) in 1.53 min. Users per second: 387\n"
     ]
    },
    {
     "name": "stderr",
     "output_type": "stream",
     "text": [
      "[I 2024-12-03 04:31:19,378] Trial 117 finished with value: 0.05696927181229559 and parameters: {'norm': -inf, 'itemknn_weight': 0.15431820717936234, 'slim_weight': 0.9173952752302207, 'rp3beta_weight': 0.21414043562789695}. Best is trial 102 with value: 0.060750782056511486.\n"
     ]
    },
    {
     "name": "stdout",
     "output_type": "stream",
     "text": [
      "LinearCombinationRecommender: Fit completed in 0.00 seconds.\n",
      "EvaluatorHoldout: Processed 35595 (100.0%) in 1.54 min. Users per second: 386\n"
     ]
    },
    {
     "name": "stderr",
     "output_type": "stream",
     "text": [
      "[I 2024-12-03 04:32:51,910] Trial 118 finished with value: 0.05695447795637233 and parameters: {'norm': 2, 'itemknn_weight': 0.03609497840273069, 'slim_weight': 0.0465965502700737, 'rp3beta_weight': 0.18112421212610186}. Best is trial 102 with value: 0.060750782056511486.\n"
     ]
    },
    {
     "name": "stdout",
     "output_type": "stream",
     "text": [
      "LinearCombinationRecommender: Fit completed in 0.00 seconds.\n",
      "EvaluatorHoldout: Processed 35595 (100.0%) in 1.54 min. Users per second: 385\n"
     ]
    },
    {
     "name": "stderr",
     "output_type": "stream",
     "text": [
      "[I 2024-12-03 04:34:24,679] Trial 119 finished with value: 0.06045443001848189 and parameters: {'norm': 2, 'itemknn_weight': 0.07846894885853459, 'slim_weight': 0.7835987044635975, 'rp3beta_weight': 0.26800482025789274}. Best is trial 102 with value: 0.060750782056511486.\n"
     ]
    },
    {
     "name": "stdout",
     "output_type": "stream",
     "text": [
      "LinearCombinationRecommender: Fit completed in 0.00 seconds.\n",
      "EvaluatorHoldout: Processed 35595 (100.0%) in 1.53 min. Users per second: 387\n"
     ]
    },
    {
     "name": "stderr",
     "output_type": "stream",
     "text": [
      "[I 2024-12-03 04:35:56,843] Trial 120 finished with value: 0.060654829352257064 and parameters: {'norm': inf, 'itemknn_weight': 0.12793135228046598, 'slim_weight': 0.8398392370237926, 'rp3beta_weight': 0.13858606914185656}. Best is trial 102 with value: 0.060750782056511486.\n"
     ]
    },
    {
     "name": "stdout",
     "output_type": "stream",
     "text": [
      "LinearCombinationRecommender: Fit completed in 0.00 seconds.\n",
      "EvaluatorHoldout: Processed 35595 (100.0%) in 1.55 min. Users per second: 383\n"
     ]
    },
    {
     "name": "stderr",
     "output_type": "stream",
     "text": [
      "[I 2024-12-03 04:37:30,101] Trial 121 finished with value: 0.06070764018488246 and parameters: {'norm': 2, 'itemknn_weight': 0.04960429290995422, 'slim_weight': 0.8681396066199326, 'rp3beta_weight': 0.162700539424199}. Best is trial 102 with value: 0.060750782056511486.\n"
     ]
    },
    {
     "name": "stdout",
     "output_type": "stream",
     "text": [
      "LinearCombinationRecommender: Fit completed in 0.00 seconds.\n",
      "EvaluatorHoldout: Processed 35595 (100.0%) in 1.55 min. Users per second: 383\n"
     ]
    },
    {
     "name": "stderr",
     "output_type": "stream",
     "text": [
      "[I 2024-12-03 04:39:03,152] Trial 122 finished with value: 0.060656747982704935 and parameters: {'norm': 2, 'itemknn_weight': 0.028060162503508335, 'slim_weight': 0.8792404662576954, 'rp3beta_weight': 0.18891849817944212}. Best is trial 102 with value: 0.060750782056511486.\n"
     ]
    },
    {
     "name": "stdout",
     "output_type": "stream",
     "text": [
      "LinearCombinationRecommender: Fit completed in 0.00 seconds.\n",
      "EvaluatorHoldout: Processed 35595 (100.0%) in 1.54 min. Users per second: 386\n"
     ]
    },
    {
     "name": "stderr",
     "output_type": "stream",
     "text": [
      "[I 2024-12-03 04:40:35,476] Trial 123 finished with value: 0.06072579861180623 and parameters: {'norm': 2, 'itemknn_weight': 0.05031811441797329, 'slim_weight': 0.971711886605203, 'rp3beta_weight': 0.17084420767231331}. Best is trial 102 with value: 0.060750782056511486.\n"
     ]
    },
    {
     "name": "stdout",
     "output_type": "stream",
     "text": [
      "LinearCombinationRecommender: Fit completed in 0.00 seconds.\n",
      "EvaluatorHoldout: Processed 35595 (100.0%) in 1.54 min. Users per second: 385\n"
     ]
    },
    {
     "name": "stderr",
     "output_type": "stream",
     "text": [
      "[I 2024-12-03 04:42:08,192] Trial 124 finished with value: 0.06076377879896466 and parameters: {'norm': 2, 'itemknn_weight': 0.050196859379022365, 'slim_weight': 0.913619713884121, 'rp3beta_weight': 0.13200495195196793}. Best is trial 124 with value: 0.06076377879896466.\n"
     ]
    },
    {
     "name": "stdout",
     "output_type": "stream",
     "text": [
      "LinearCombinationRecommender: Fit completed in 0.00 seconds.\n",
      "EvaluatorHoldout: Processed 35595 (100.0%) in 1.54 min. Users per second: 385\n"
     ]
    },
    {
     "name": "stderr",
     "output_type": "stream",
     "text": [
      "[I 2024-12-03 04:43:40,822] Trial 125 finished with value: 0.06066071233475183 and parameters: {'norm': 2, 'itemknn_weight': 0.01022070205393072, 'slim_weight': 0.9186285341488264, 'rp3beta_weight': 0.1266903759991584}. Best is trial 124 with value: 0.06076377879896466.\n"
     ]
    },
    {
     "name": "stdout",
     "output_type": "stream",
     "text": [
      "LinearCombinationRecommender: Fit completed in 0.00 seconds.\n",
      "EvaluatorHoldout: Processed 35595 (100.0%) in 1.53 min. Users per second: 387\n"
     ]
    },
    {
     "name": "stderr",
     "output_type": "stream",
     "text": [
      "[I 2024-12-03 04:45:13,074] Trial 126 finished with value: 0.06055807173737884 and parameters: {'norm': 2, 'itemknn_weight': 0.0003139184419122566, 'slim_weight': 0.9665957989503563, 'rp3beta_weight': 0.09542742915912977}. Best is trial 124 with value: 0.06076377879896466.\n"
     ]
    },
    {
     "name": "stdout",
     "output_type": "stream",
     "text": [
      "LinearCombinationRecommender: Fit completed in 0.00 seconds.\n",
      "EvaluatorHoldout: Processed 35595 (100.0%) in 1.54 min. Users per second: 385\n"
     ]
    },
    {
     "name": "stderr",
     "output_type": "stream",
     "text": [
      "[I 2024-12-03 04:46:45,824] Trial 127 finished with value: 0.05942024026916346 and parameters: {'norm': 2, 'itemknn_weight': 0.07899504902315779, 'slim_weight': 0.9341313888574853, 'rp3beta_weight': 0.8580899481423909}. Best is trial 124 with value: 0.06076377879896466.\n"
     ]
    },
    {
     "name": "stdout",
     "output_type": "stream",
     "text": [
      "LinearCombinationRecommender: Fit completed in 0.00 seconds.\n",
      "EvaluatorHoldout: Processed 35595 (100.0%) in 1.53 min. Users per second: 387\n"
     ]
    },
    {
     "name": "stderr",
     "output_type": "stream",
     "text": [
      "[I 2024-12-03 04:48:18,047] Trial 128 finished with value: 0.060469250630436906 and parameters: {'norm': 2, 'itemknn_weight': 0.1030489477233833, 'slim_weight': 0.9062106700274275, 'rp3beta_weight': 0.2965771606141462}. Best is trial 124 with value: 0.06076377879896466.\n"
     ]
    },
    {
     "name": "stdout",
     "output_type": "stream",
     "text": [
      "LinearCombinationRecommender: Fit completed in 0.00 seconds.\n",
      "EvaluatorHoldout: Processed 35595 (100.0%) in 1.55 min. Users per second: 382\n"
     ]
    },
    {
     "name": "stderr",
     "output_type": "stream",
     "text": [
      "[I 2024-12-03 04:49:51,384] Trial 129 finished with value: 0.060753205707059874 and parameters: {'norm': 2, 'itemknn_weight': 0.049865576911785586, 'slim_weight': 0.9502039305354342, 'rp3beta_weight': 0.14151555712239314}. Best is trial 124 with value: 0.06076377879896466.\n"
     ]
    },
    {
     "name": "stdout",
     "output_type": "stream",
     "text": [
      "LinearCombinationRecommender: Fit completed in 0.00 seconds.\n",
      "EvaluatorHoldout: Processed 35595 (100.0%) in 1.54 min. Users per second: 386\n"
     ]
    },
    {
     "name": "stderr",
     "output_type": "stream",
     "text": [
      "[I 2024-12-03 04:51:23,889] Trial 130 finished with value: 0.060748289286214105 and parameters: {'norm': 2, 'itemknn_weight': 0.028214822321458225, 'slim_weight': 0.9543396017409197, 'rp3beta_weight': 0.1444581080221795}. Best is trial 124 with value: 0.06076377879896466.\n"
     ]
    },
    {
     "name": "stdout",
     "output_type": "stream",
     "text": [
      "LinearCombinationRecommender: Fit completed in 0.00 seconds.\n",
      "EvaluatorHoldout: Processed 35595 (100.0%) in 1.54 min. Users per second: 384\n"
     ]
    },
    {
     "name": "stderr",
     "output_type": "stream",
     "text": [
      "[I 2024-12-03 04:52:56,687] Trial 131 finished with value: 0.06075380994744487 and parameters: {'norm': 2, 'itemknn_weight': 0.0278986867249727, 'slim_weight': 0.9565382603595985, 'rp3beta_weight': 0.14928486717143738}. Best is trial 124 with value: 0.06076377879896466.\n"
     ]
    },
    {
     "name": "stdout",
     "output_type": "stream",
     "text": [
      "LinearCombinationRecommender: Fit completed in 0.00 seconds.\n",
      "EvaluatorHoldout: Processed 35595 (100.0%) in 1.54 min. Users per second: 385\n"
     ]
    },
    {
     "name": "stderr",
     "output_type": "stream",
     "text": [
      "[I 2024-12-03 04:54:29,289] Trial 132 finished with value: 0.0607203782856946 and parameters: {'norm': 2, 'itemknn_weight': 0.02230253559019245, 'slim_weight': 0.956034554594975, 'rp3beta_weight': 0.13937687613553076}. Best is trial 124 with value: 0.06076377879896466.\n"
     ]
    },
    {
     "name": "stdout",
     "output_type": "stream",
     "text": [
      "LinearCombinationRecommender: Fit completed in 0.00 seconds.\n",
      "EvaluatorHoldout: Processed 35595 (100.0%) in 1.54 min. Users per second: 386\n"
     ]
    },
    {
     "name": "stderr",
     "output_type": "stream",
     "text": [
      "[I 2024-12-03 04:56:01,605] Trial 133 finished with value: 0.06069210050457249 and parameters: {'norm': 2, 'itemknn_weight': 0.029723476506482348, 'slim_weight': 0.9725263759441176, 'rp3beta_weight': 0.10735705574576865}. Best is trial 124 with value: 0.06076377879896466.\n"
     ]
    },
    {
     "name": "stdout",
     "output_type": "stream",
     "text": [
      "LinearCombinationRecommender: Fit completed in 0.00 seconds.\n",
      "EvaluatorHoldout: Processed 35595 (100.0%) in 1.53 min. Users per second: 388\n"
     ]
    },
    {
     "name": "stderr",
     "output_type": "stream",
     "text": [
      "[I 2024-12-03 04:57:33,650] Trial 134 finished with value: 0.060720633582831675 and parameters: {'norm': 2, 'itemknn_weight': 0.05989904964396847, 'slim_weight': 0.9536130851289856, 'rp3beta_weight': 0.14310418952319665}. Best is trial 124 with value: 0.06076377879896466.\n"
     ]
    },
    {
     "name": "stdout",
     "output_type": "stream",
     "text": [
      "LinearCombinationRecommender: Fit completed in 0.00 seconds.\n",
      "EvaluatorHoldout: Processed 35595 (100.0%) in 1.53 min. Users per second: 388\n"
     ]
    },
    {
     "name": "stderr",
     "output_type": "stream",
     "text": [
      "[I 2024-12-03 04:59:05,533] Trial 135 finished with value: 0.06069833354515033 and parameters: {'norm': 2, 'itemknn_weight': 0.06591717045711389, 'slim_weight': 0.9558147825492354, 'rp3beta_weight': 0.14268092066278557}. Best is trial 124 with value: 0.06076377879896466.\n"
     ]
    },
    {
     "name": "stdout",
     "output_type": "stream",
     "text": [
      "LinearCombinationRecommender: Fit completed in 0.00 seconds.\n",
      "EvaluatorHoldout: Processed 35595 (100.0%) in 1.55 min. Users per second: 384\n"
     ]
    },
    {
     "name": "stderr",
     "output_type": "stream",
     "text": [
      "[I 2024-12-03 05:00:38,509] Trial 136 finished with value: 0.06069814290842358 and parameters: {'norm': 2, 'itemknn_weight': 0.056185466906791985, 'slim_weight': 0.9826813625812941, 'rp3beta_weight': 0.08708704690995704}. Best is trial 124 with value: 0.06076377879896466.\n"
     ]
    },
    {
     "name": "stdout",
     "output_type": "stream",
     "text": [
      "LinearCombinationRecommender: Fit completed in 0.00 seconds.\n",
      "EvaluatorHoldout: Processed 35595 (100.0%) in 1.54 min. Users per second: 384\n"
     ]
    },
    {
     "name": "stderr",
     "output_type": "stream",
     "text": [
      "[I 2024-12-03 05:02:11,357] Trial 137 finished with value: 0.060696243230164655 and parameters: {'norm': 2, 'itemknn_weight': 0.01863024482192366, 'slim_weight': 0.9454863926114521, 'rp3beta_weight': 0.15255729556268796}. Best is trial 124 with value: 0.06076377879896466.\n"
     ]
    },
    {
     "name": "stdout",
     "output_type": "stream",
     "text": [
      "LinearCombinationRecommender: Fit completed in 0.00 seconds.\n",
      "EvaluatorHoldout: Processed 35595 (100.0%) in 1.55 min. Users per second: 382\n"
     ]
    },
    {
     "name": "stderr",
     "output_type": "stream",
     "text": [
      "[I 2024-12-03 05:03:44,622] Trial 138 finished with value: 0.06066152393438368 and parameters: {'norm': 2, 'itemknn_weight': 0.1151587774347093, 'slim_weight': 0.9728978841415477, 'rp3beta_weight': 0.1235338903614584}. Best is trial 124 with value: 0.06076377879896466.\n"
     ]
    },
    {
     "name": "stdout",
     "output_type": "stream",
     "text": [
      "LinearCombinationRecommender: Fit completed in 0.00 seconds.\n",
      "EvaluatorHoldout: Processed 35595 (100.0%) in 1.54 min. Users per second: 386\n"
     ]
    },
    {
     "name": "stderr",
     "output_type": "stream",
     "text": [
      "[I 2024-12-03 05:05:17,155] Trial 139 finished with value: 0.06063528964519109 and parameters: {'norm': 2, 'itemknn_weight': 0.053007176943608174, 'slim_weight': 0.9992553293959374, 'rp3beta_weight': 0.057776063778325615}. Best is trial 124 with value: 0.06076377879896466.\n"
     ]
    },
    {
     "name": "stdout",
     "output_type": "stream",
     "text": [
      "LinearCombinationRecommender: Fit completed in 0.00 seconds.\n",
      "EvaluatorHoldout: Processed 35595 (100.0%) in 1.54 min. Users per second: 384\n"
     ]
    },
    {
     "name": "stderr",
     "output_type": "stream",
     "text": [
      "[I 2024-12-03 05:06:49,978] Trial 140 finished with value: 0.060623262808891 and parameters: {'norm': 2, 'itemknn_weight': 0.0036585746327374297, 'slim_weight': 0.9507976841702545, 'rp3beta_weight': 0.10597794473379024}. Best is trial 124 with value: 0.06076377879896466.\n"
     ]
    },
    {
     "name": "stdout",
     "output_type": "stream",
     "text": [
      "LinearCombinationRecommender: Fit completed in 0.00 seconds.\n",
      "EvaluatorHoldout: Processed 35595 (100.0%) in 1.54 min. Users per second: 386\n"
     ]
    },
    {
     "name": "stderr",
     "output_type": "stream",
     "text": [
      "[I 2024-12-03 05:08:22,486] Trial 141 finished with value: 0.06073313533869613 and parameters: {'norm': 2, 'itemknn_weight': 0.034017728548977486, 'slim_weight': 0.931109453621666, 'rp3beta_weight': 0.16479924288959638}. Best is trial 124 with value: 0.06076377879896466.\n"
     ]
    },
    {
     "name": "stdout",
     "output_type": "stream",
     "text": [
      "LinearCombinationRecommender: Fit completed in 0.00 seconds.\n",
      "EvaluatorHoldout: Processed 35595 (100.0%) in 1.55 min. Users per second: 384\n"
     ]
    },
    {
     "name": "stderr",
     "output_type": "stream",
     "text": [
      "[I 2024-12-03 05:09:55,469] Trial 142 finished with value: 0.06066261424267988 and parameters: {'norm': 2, 'itemknn_weight': 0.04261540463303654, 'slim_weight': 0.9392070463693003, 'rp3beta_weight': 0.20611609153584232}. Best is trial 124 with value: 0.06076377879896466.\n"
     ]
    },
    {
     "name": "stdout",
     "output_type": "stream",
     "text": [
      "LinearCombinationRecommender: Fit completed in 0.00 seconds.\n",
      "EvaluatorHoldout: Processed 35595 (100.0%) in 1.54 min. Users per second: 386\n"
     ]
    },
    {
     "name": "stderr",
     "output_type": "stream",
     "text": [
      "[I 2024-12-03 05:11:27,936] Trial 143 finished with value: 0.060693091592584306 and parameters: {'norm': 2, 'itemknn_weight': 0.06955317460103452, 'slim_weight': 0.9681312964576123, 'rp3beta_weight': 0.1466482464139673}. Best is trial 124 with value: 0.06076377879896466.\n"
     ]
    },
    {
     "name": "stdout",
     "output_type": "stream",
     "text": [
      "LinearCombinationRecommender: Fit completed in 0.00 seconds.\n",
      "EvaluatorHoldout: Processed 35595 (100.0%) in 1.53 min. Users per second: 387\n"
     ]
    },
    {
     "name": "stderr",
     "output_type": "stream",
     "text": [
      "[I 2024-12-03 05:13:00,164] Trial 144 finished with value: 0.06067941926032786 and parameters: {'norm': 2, 'itemknn_weight': 0.09111754444737194, 'slim_weight': 0.935399204119123, 'rp3beta_weight': 0.17021934599669436}. Best is trial 124 with value: 0.06076377879896466.\n"
     ]
    },
    {
     "name": "stdout",
     "output_type": "stream",
     "text": [
      "LinearCombinationRecommender: Fit completed in 0.00 seconds.\n",
      "EvaluatorHoldout: Processed 35595 (100.0%) in 1.55 min. Users per second: 383\n"
     ]
    },
    {
     "name": "stderr",
     "output_type": "stream",
     "text": [
      "[I 2024-12-03 05:14:33,191] Trial 145 finished with value: 0.060712040437280956 and parameters: {'norm': 2, 'itemknn_weight': 0.032192687243103306, 'slim_weight': 0.9601098499515224, 'rp3beta_weight': 0.12082189702516857}. Best is trial 124 with value: 0.06076377879896466.\n"
     ]
    },
    {
     "name": "stdout",
     "output_type": "stream",
     "text": [
      "LinearCombinationRecommender: Fit completed in 0.00 seconds.\n",
      "EvaluatorHoldout: Processed 35595 (100.0%) in 1.54 min. Users per second: 384\n"
     ]
    },
    {
     "name": "stderr",
     "output_type": "stream",
     "text": [
      "[I 2024-12-03 05:16:06,048] Trial 146 finished with value: 0.06067092979440051 and parameters: {'norm': 2, 'itemknn_weight': 0.06105610865892208, 'slim_weight': 0.9770224337489425, 'rp3beta_weight': 0.0775109208773117}. Best is trial 124 with value: 0.06076377879896466.\n"
     ]
    },
    {
     "name": "stdout",
     "output_type": "stream",
     "text": [
      "LinearCombinationRecommender: Fit completed in 0.00 seconds.\n",
      "EvaluatorHoldout: Processed 35595 (100.0%) in 1.54 min. Users per second: 385\n"
     ]
    },
    {
     "name": "stderr",
     "output_type": "stream",
     "text": [
      "[I 2024-12-03 05:17:38,739] Trial 147 finished with value: 0.06069613397636808 and parameters: {'norm': 2, 'itemknn_weight': 0.016900774672038887, 'slim_weight': 0.9309668534813444, 'rp3beta_weight': 0.14076763128924882}. Best is trial 124 with value: 0.06076377879896466.\n"
     ]
    },
    {
     "name": "stdout",
     "output_type": "stream",
     "text": [
      "LinearCombinationRecommender: Fit completed in 0.00 seconds.\n",
      "EvaluatorHoldout: Processed 35595 (100.0%) in 1.56 min. Users per second: 380\n"
     ]
    },
    {
     "name": "stderr",
     "output_type": "stream",
     "text": [
      "[I 2024-12-03 05:19:12,561] Trial 148 finished with value: 0.05816015714709155 and parameters: {'norm': 2, 'itemknn_weight': 0.9892209714651117, 'slim_weight': 0.9073276247934232, 'rp3beta_weight': 0.22691412906764497}. Best is trial 124 with value: 0.06076377879896466.\n"
     ]
    },
    {
     "name": "stdout",
     "output_type": "stream",
     "text": [
      "LinearCombinationRecommender: Fit completed in 0.00 seconds.\n",
      "EvaluatorHoldout: Processed 35595 (100.0%) in 1.54 min. Users per second: 385\n"
     ]
    },
    {
     "name": "stderr",
     "output_type": "stream",
     "text": [
      "[I 2024-12-03 05:20:45,258] Trial 149 finished with value: 0.05517874367052463 and parameters: {'norm': -inf, 'itemknn_weight': 0.35384845298609796, 'slim_weight': 0.9843072977246718, 'rp3beta_weight': 0.1559449299101403}. Best is trial 124 with value: 0.06076377879896466.\n"
     ]
    }
   ],
   "source": [
    "if config['tune_parameters']:\n",
    "    \n",
    "    optuna_study = optuna.create_study(direction='maximize', study_name=f'hyperparameters_tuning_{config[\"model\"]}',\n",
    "                                storage=f'sqlite:///{config[\"database_path\"]}', load_if_exists=True)\n",
    "\n",
    "    optuna_study.optimize(objective_function_, n_trials=150)"
   ]
  },
  {
   "cell_type": "markdown",
   "id": "cb6eb0e7",
   "metadata": {
    "papermill": {
     "duration": 0.038537,
     "end_time": "2024-12-03T05:20:45.346235",
     "exception": false,
     "start_time": "2024-12-03T05:20:45.307698",
     "status": "completed"
    },
    "tags": []
   },
   "source": [
    "## Some optuna visualizations on recommender parameters"
   ]
  },
  {
   "cell_type": "code",
   "execution_count": 15,
   "id": "3b232c64",
   "metadata": {
    "execution": {
     "iopub.execute_input": "2024-12-03T05:20:45.427460Z",
     "iopub.status.busy": "2024-12-03T05:20:45.427069Z",
     "iopub.status.idle": "2024-12-03T05:20:46.895922Z",
     "shell.execute_reply": "2024-12-03T05:20:46.894641Z"
    },
    "papermill": {
     "duration": 1.513293,
     "end_time": "2024-12-03T05:20:46.898200",
     "exception": false,
     "start_time": "2024-12-03T05:20:45.384907",
     "status": "completed"
    },
    "tags": []
   },
   "outputs": [
    {
     "data": {
      "text/html": [
       "        <script type=\"text/javascript\">\n",
       "        window.PlotlyConfig = {MathJaxConfig: 'local'};\n",
       "        if (window.MathJax && window.MathJax.Hub && window.MathJax.Hub.Config) {window.MathJax.Hub.Config({SVG: {font: \"STIX-Web\"}});}\n",
       "        if (typeof require !== 'undefined') {\n",
       "        require.undef(\"plotly\");\n",
       "        requirejs.config({\n",
       "            paths: {\n",
       "                'plotly': ['https://cdn.plot.ly/plotly-2.32.0.min']\n",
       "            }\n",
       "        });\n",
       "        require(['plotly'], function(Plotly) {\n",
       "            window._Plotly = Plotly;\n",
       "        });\n",
       "        }\n",
       "        </script>\n",
       "        "
      ]
     },
     "metadata": {},
     "output_type": "display_data"
    },
    {
     "data": {
      "text/html": [
       "<div>                            <div id=\"74b802b2-3ed2-4f34-b388-2f086c36a99e\" class=\"plotly-graph-div\" style=\"height:525px; width:1200px;\"></div>            <script type=\"text/javascript\">                require([\"plotly\"], function(Plotly) {                    window.PLOTLYENV=window.PLOTLYENV || {};                                    if (document.getElementById(\"74b802b2-3ed2-4f34-b388-2f086c36a99e\")) {                    Plotly.newPlot(                        \"74b802b2-3ed2-4f34-b388-2f086c36a99e\",                        [{\"marker\":{\"color\":[0,1,2,3,4,5,6,7,8,9,10,11,12,13,14,15,16,17,18,19,20,21,22,23,24,25,26,27,28,29,30,31,32,33,34,35,36,37,38,39,40,41,42,43,44,45,46,47,48,49,50,51,52,53,54,55,56,57,58,59,60,61,62,63,64,65,66,67,68,69,70,71,72,73,74,75,76,77,78,79,80,81,82,83,84,85,86,87,88,89,90,91,92,93,94,95,96,97,98,99,100,101,102,103,104,105,106,107,108,109,110,111,112,113,114,115,116,117,118,119,120,121,122,123,124,125,126,127,128,129,130,131,132,133,134,135,136,137,138,139,140,141,142,143,144,145,146,147,148,149],\"colorbar\":{\"title\":{\"text\":\"Trial\"},\"x\":1.0,\"xpad\":40},\"colorscale\":[[0.0,\"rgb(247,251,255)\"],[0.125,\"rgb(222,235,247)\"],[0.25,\"rgb(198,219,239)\"],[0.375,\"rgb(158,202,225)\"],[0.5,\"rgb(107,174,214)\"],[0.625,\"rgb(66,146,198)\"],[0.75,\"rgb(33,113,181)\"],[0.875,\"rgb(8,81,156)\"],[1.0,\"rgb(8,48,107)\"]],\"line\":{\"color\":\"Grey\",\"width\":0.5},\"showscale\":true},\"mode\":\"markers\",\"name\":\"Feasible Trial\",\"showlegend\":false,\"x\":[0.18407633825550507,0.33486501435544613,0.27263111361950787,0.7313914491969451,0.6507402079808057,0.39402578620034534,0.19333378818367053,0.11871651625386648,0.11366966687316815,0.7367734694930907,0.9563166237184901,0.008076793715719621,0.0038187965024023083,0.010489544101503661,0.011909051380117028,0.46686998215804887,0.023265959924455498,0.5661947251698205,0.27180525256697147,0.9268799752749638,0.12327568942689293,0.01697830034023031,0.09751592507833785,0.2095052803080889,0.08470819165236641,0.09335596817292752,0.38177581211362216,0.3021740140088794,0.20232344389339257,0.20282430515359362,0.15311927575644182,0.15546904751263094,0.08619181493013336,0.07105982945688503,0.08519881380638417,0.2611050771818979,0.06851873243041437,0.36744264352141953,0.44893396875405017,0.23492489893016427,0.06411617581876287,0.05529411608062691,0.06684357575498977,0.1404363471576465,0.049500353017653695,0.15428483583149843,0.7612949618056443,0.3210208844579115,0.05714479173737848,0.16595396195494086,0.5645615170672367,0.05124281274441474,0.11902764734076815,0.038968025720489824,0.10973927977956478,0.03914333584562384,0.0005137431607650095,0.24079595861990044,0.03805085799982759,0.03969904569881876,0.12344980687138637,0.17812417204998582,0.09525544000226896,0.04484709980355729,0.02212709734292386,0.08562529247418763,0.13121781195270119,0.17930526179946307,0.8597851920017615,0.21859218587687856,0.0026316974966722334,0.04576733325602195,0.07185022774586458,0.03634991202687646,0.033502332397328694,0.11101529597274308,0.04726466673272635,0.021271991538972197,0.14187536426653752,0.06974185394962858,0.09794549346468545,0.06474577033517676,0.05470747880861695,0.02596677689906685,0.0010152172647801133,0.02952323490690455,0.08742076436372687,0.6947589476903497,0.1107432722205269,0.02791873781757888,0.13967884013651044,0.06311934146320275,0.059141715493291835,0.08156798156351998,0.08565518273693434,0.02336265248923726,0.16926136987071186,0.042563827446106636,0.11454092894310482,0.5313025998968908,0.0007648851337543755,0.06885223884445899,0.054648751611602944,0.09903102832236838,0.08130720040332852,0.018200381277744957,0.04253021343753532,0.1345460810760135,0.18873703995260263,0.09896016930310265,0.4219646238930952,0.07414430027620451,0.0833928491071004,0.046846583398474834,0.024687921362064533,0.01480779486697715,0.6173476600690047,0.15431820717936234,0.03609497840273069,0.07846894885853459,0.12793135228046598,0.04960429290995422,0.028060162503508335,0.05031811441797329,0.050196859379022365,0.01022070205393072,0.0003139184419122566,0.07899504902315779,0.1030489477233833,0.049865576911785586,0.028214822321458225,0.0278986867249727,0.02230253559019245,0.029723476506482348,0.05989904964396847,0.06591717045711389,0.056185466906791985,0.01863024482192366,0.1151587774347093,0.053007176943608174,0.0036585746327374297,0.034017728548977486,0.04261540463303654,0.06955317460103452,0.09111754444737194,0.032192687243103306,0.06105610865892208,0.016900774672038887,0.9892209714651117,0.35384845298609796],\"y\":[0.05919548179809244,0.05781476018791448,0.0596222561131938,0.056819019971146134,0.05360905647083326,0.055972823675518917,0.057227871089436895,0.05962045788488898,0.057806980871664845,0.056808841530710655,0.05891920904710422,0.059978256264810986,0.059919125434504346,0.05782761423153133,0.06004226115224615,0.05403167356749167,0.05984527767186639,0.05408495820484702,0.05585557539961074,0.05720468698787072,0.05619737478734342,0.06016774471177961,0.06009670856215107,0.05935024537510621,0.060686789432257665,0.06066025971188052,0.05991358247658085,0.05993096274891275,0.06043018459432111,0.06036042938971544,0.060648866101666664,0.060656382316936854,0.060706243297054936,0.06068059652572753,0.06054714970222583,0.05926224924581215,0.06060882792972793,0.060104740945868304,0.056958695375886916,0.06039237051752671,0.060695199744924176,0.060695341328925824,0.06062886262338268,0.060460292933953254,0.06066056517657706,0.060235883406129974,0.058241368392651795,0.059751669464899716,0.059945930519042484,0.06036014733654655,0.05638706724905429,0.06070211171980916,0.06063802099010526,0.060748808799165124,0.06067749728537595,0.06066778596066251,0.06065248039563068,0.05978682912037108,0.06071052537697966,0.0606837492781428,0.06047790063255542,0.06028855599925795,0.06004436818975175,0.060658011090373436,0.060220212175330044,0.058156740178862076,0.060261488928575156,0.060292418901351,0.058673272062018514,0.05932972572837513,0.060348118270577504,0.060715862090491735,0.06068747728524222,0.06074634167006506,0.06067668903024824,0.060290014202991585,0.05934093427603544,0.06060735969248235,0.05683421405271192,0.05982914824402186,0.06056226128602683,0.0606990983217263,0.06069970256211141,0.06073039730477387,0.06069311388927726,0.06064793075538789,0.060690160692266,0.058793872645745975,0.060608577091929815,0.0600338932032966,0.06058247212355764,0.06069935696336713,0.06069021977850301,0.0607164473786877,0.06067847276570247,0.060676654470373646,0.060504392448554115,0.060566760758710106,0.06059645326501448,0.05965553727226528,0.060678612120034676,0.06069330006666547,0.060750782056511486,0.06057347094852197,0.06071118981843634,0.06065044470754363,0.05997109902630144,0.06054546741672575,0.060604571491000465,0.0606157889573381,0.05963243566846406,0.06071375505298655,0.060695917698444554,0.06070810841543924,0.06071317533896365,0.06061939210295562,0.057607043079439,0.05696927181229559,0.05695447795637233,0.06045443001848189,0.060654829352257064,0.06070764018488246,0.060656747982704935,0.06072579861180623,0.06076377879896466,0.06066071233475183,0.06055807173737884,0.05942024026916346,0.060469250630436906,0.060753205707059874,0.060748289286214105,0.06075380994744487,0.0607203782856946,0.06069210050457249,0.060720633582831675,0.06069833354515033,0.06069814290842358,0.060696243230164655,0.06066152393438368,0.06063528964519109,0.060623262808891,0.06073313533869613,0.06066261424267988,0.060693091592584306,0.06067941926032786,0.060712040437280956,0.06067092979440051,0.06069613397636808,0.05816015714709155,0.05517874367052463],\"type\":\"scatter\",\"xaxis\":\"x\",\"yaxis\":\"y\"},{\"marker\":{\"color\":[0,1,2,3,4,5,6,7,8,9,10,11,12,13,14,15,16,17,18,19,20,21,22,23,24,25,26,27,28,29,30,31,32,33,34,35,36,37,38,39,40,41,42,43,44,45,46,47,48,49,50,51,52,53,54,55,56,57,58,59,60,61,62,63,64,65,66,67,68,69,70,71,72,73,74,75,76,77,78,79,80,81,82,83,84,85,86,87,88,89,90,91,92,93,94,95,96,97,98,99,100,101,102,103,104,105,106,107,108,109,110,111,112,113,114,115,116,117,118,119,120,121,122,123,124,125,126,127,128,129,130,131,132,133,134,135,136,137,138,139,140,141,142,143,144,145,146,147,148,149],\"colorbar\":{\"title\":{\"text\":\"Trial\"},\"x\":1.0,\"xpad\":40},\"colorscale\":[[0.0,\"rgb(247,251,255)\"],[0.125,\"rgb(222,235,247)\"],[0.25,\"rgb(198,219,239)\"],[0.375,\"rgb(158,202,225)\"],[0.5,\"rgb(107,174,214)\"],[0.625,\"rgb(66,146,198)\"],[0.75,\"rgb(33,113,181)\"],[0.875,\"rgb(8,81,156)\"],[1.0,\"rgb(8,48,107)\"]],\"line\":{\"color\":\"Grey\",\"width\":0.5},\"showscale\":false},\"mode\":\"markers\",\"name\":\"Feasible Trial\",\"showlegend\":false,\"x\":[2,2,null,1,null,1,null,null,1,1,null,null,null,null,null,null,null,null,null,2,null,null,null,null,null,null,null,null,null,2,null,null,null,null,2,null,null,null,1,null,2,2,2,2,2,2,2,2,1,2,2,2,2,2,2,2,2,2,2,2,2,2,1,2,2,null,2,2,2,1,2,2,2,2,2,2,2,2,null,2,2,2,2,2,2,2,2,2,2,null,2,2,2,2,2,2,2,1,2,null,2,2,2,2,2,2,2,2,null,2,2,2,2,2,2,2,1,null,2,2,null,2,2,2,2,2,2,2,2,2,2,2,2,2,2,2,2,2,2,2,2,2,2,2,2,2,2,2,2,null],\"y\":[0.05919548179809244,0.05781476018791448,0.0596222561131938,0.056819019971146134,0.05360905647083326,0.055972823675518917,0.057227871089436895,0.05962045788488898,0.057806980871664845,0.056808841530710655,0.05891920904710422,0.059978256264810986,0.059919125434504346,0.05782761423153133,0.06004226115224615,0.05403167356749167,0.05984527767186639,0.05408495820484702,0.05585557539961074,0.05720468698787072,0.05619737478734342,0.06016774471177961,0.06009670856215107,0.05935024537510621,0.060686789432257665,0.06066025971188052,0.05991358247658085,0.05993096274891275,0.06043018459432111,0.06036042938971544,0.060648866101666664,0.060656382316936854,0.060706243297054936,0.06068059652572753,0.06054714970222583,0.05926224924581215,0.06060882792972793,0.060104740945868304,0.056958695375886916,0.06039237051752671,0.060695199744924176,0.060695341328925824,0.06062886262338268,0.060460292933953254,0.06066056517657706,0.060235883406129974,0.058241368392651795,0.059751669464899716,0.059945930519042484,0.06036014733654655,0.05638706724905429,0.06070211171980916,0.06063802099010526,0.060748808799165124,0.06067749728537595,0.06066778596066251,0.06065248039563068,0.05978682912037108,0.06071052537697966,0.0606837492781428,0.06047790063255542,0.06028855599925795,0.06004436818975175,0.060658011090373436,0.060220212175330044,0.058156740178862076,0.060261488928575156,0.060292418901351,0.058673272062018514,0.05932972572837513,0.060348118270577504,0.060715862090491735,0.06068747728524222,0.06074634167006506,0.06067668903024824,0.060290014202991585,0.05934093427603544,0.06060735969248235,0.05683421405271192,0.05982914824402186,0.06056226128602683,0.0606990983217263,0.06069970256211141,0.06073039730477387,0.06069311388927726,0.06064793075538789,0.060690160692266,0.058793872645745975,0.060608577091929815,0.0600338932032966,0.06058247212355764,0.06069935696336713,0.06069021977850301,0.0607164473786877,0.06067847276570247,0.060676654470373646,0.060504392448554115,0.060566760758710106,0.06059645326501448,0.05965553727226528,0.060678612120034676,0.06069330006666547,0.060750782056511486,0.06057347094852197,0.06071118981843634,0.06065044470754363,0.05997109902630144,0.06054546741672575,0.060604571491000465,0.0606157889573381,0.05963243566846406,0.06071375505298655,0.060695917698444554,0.06070810841543924,0.06071317533896365,0.06061939210295562,0.057607043079439,0.05696927181229559,0.05695447795637233,0.06045443001848189,0.060654829352257064,0.06070764018488246,0.060656747982704935,0.06072579861180623,0.06076377879896466,0.06066071233475183,0.06055807173737884,0.05942024026916346,0.060469250630436906,0.060753205707059874,0.060748289286214105,0.06075380994744487,0.0607203782856946,0.06069210050457249,0.060720633582831675,0.06069833354515033,0.06069814290842358,0.060696243230164655,0.06066152393438368,0.06063528964519109,0.060623262808891,0.06073313533869613,0.06066261424267988,0.060693091592584306,0.06067941926032786,0.060712040437280956,0.06067092979440051,0.06069613397636808,0.05816015714709155,0.05517874367052463],\"type\":\"scatter\",\"xaxis\":\"x2\",\"yaxis\":\"y2\"},{\"marker\":{\"color\":[0,1,2,3,4,5,6,7,8,9,10,11,12,13,14,15,16,17,18,19,20,21,22,23,24,25,26,27,28,29,30,31,32,33,34,35,36,37,38,39,40,41,42,43,44,45,46,47,48,49,50,51,52,53,54,55,56,57,58,59,60,61,62,63,64,65,66,67,68,69,70,71,72,73,74,75,76,77,78,79,80,81,82,83,84,85,86,87,88,89,90,91,92,93,94,95,96,97,98,99,100,101,102,103,104,105,106,107,108,109,110,111,112,113,114,115,116,117,118,119,120,121,122,123,124,125,126,127,128,129,130,131,132,133,134,135,136,137,138,139,140,141,142,143,144,145,146,147,148,149],\"colorbar\":{\"title\":{\"text\":\"Trial\"},\"x\":1.0,\"xpad\":40},\"colorscale\":[[0.0,\"rgb(247,251,255)\"],[0.125,\"rgb(222,235,247)\"],[0.25,\"rgb(198,219,239)\"],[0.375,\"rgb(158,202,225)\"],[0.5,\"rgb(107,174,214)\"],[0.625,\"rgb(66,146,198)\"],[0.75,\"rgb(33,113,181)\"],[0.875,\"rgb(8,81,156)\"],[1.0,\"rgb(8,48,107)\"]],\"line\":{\"color\":\"Grey\",\"width\":0.5},\"showscale\":false},\"mode\":\"markers\",\"name\":\"Feasible Trial\",\"showlegend\":false,\"x\":[0.8846451650010237,0.19760465213234824,0.5570228576408808,0.8972595757595578,0.34841568168763837,0.14058431735780796,0.5281552071776284,0.29056238600381334,0.5845019531729686,0.5512679477856419,0.7524841408042768,0.33023382882918545,0.39377484440168775,0.03426993870887396,0.3966280494953967,0.4038287316981189,0.2018494860638652,0.7355915684009668,0.6806539004004459,0.007734850493273493,0.45222715574002004,0.3022386723659505,0.29577188744753036,0.2495821837168463,0.12213880168404356,0.10056394452028139,0.10008934988008997,0.12269258212219626,0.0760887496372922,0.06914309714703379,0.17811822296316218,0.1678601882246965,0.18162767695170956,0.22967799380240728,0.2322736002809147,0.9711878481076289,0.2202882794572929,0.14802297815603774,0.032554367889455746,0.2560735943030327,0.08979953168376878,0.10368651650218606,0.17499879649329236,0.000011735618957370297,0.06611792982012697,0.1307683617412427,0.3499859568575206,0.046510929625994124,0.2588468045971987,0.19823456587592325,0.49412863886391056,0.07938064425941271,0.10156558526742938,0.14115483981578023,0.13916250787719497,0.04631110458416998,0.09731973665894374,0.5963389335914184,0.16079164353709163,0.17789646280658944,0.025850808844304102,0.13069324529067983,0.09059928361112946,0.15951891704641016,0.2787487480614839,0.20718476157285834,0.059631344469782854,0.12130150249421072,0.3174464959711416,0.18714691126116287,0.010367191699290818,0.1594752830895111,0.1468832562959366,0.15387567765070095,0.07870197181067651,0.37320341037998567,0.7835017756962238,0.236558019774609,0.11018175214968084,0.2731710388808968,0.20152086421132537,0.14413730585094597,0.156961233077764,0.14956163593528218,0.1643199747954464,0.21791154895798268,0.15352584522128146,0.18725470664955754,0.25249189478665596,0.4372885329273721,0.0669089927745322,0.11868264822992844,0.14016329778510458,0.11925884793937422,0.17017198548859547,0.11323344689659774,0.04963161357047155,0.08253250401352812,0.22308171380110128,0.11954002576745035,0.19377175497543075,0.1543254979920733,0.1311686533180208,0.018103735527841974,0.128080402801301,0.08888254520594911,0.17152913704731107,0.04448991325883858,0.1316206833479005,0.2039244307809439,0.06862496209592196,0.10906996913071634,0.1050113011882024,0.1822260371036932,0.1788770892883611,0.23784696246202447,0.6392368324923556,0.21414043562789695,0.18112421212610186,0.26800482025789274,0.13858606914185656,0.162700539424199,0.18891849817944212,0.17084420767231331,0.13200495195196793,0.1266903759991584,0.09542742915912977,0.8580899481423909,0.2965771606141462,0.14151555712239314,0.1444581080221795,0.14928486717143738,0.13937687613553076,0.10735705574576865,0.14310418952319665,0.14268092066278557,0.08708704690995704,0.15255729556268796,0.1235338903614584,0.057776063778325615,0.10597794473379024,0.16479924288959638,0.20611609153584232,0.1466482464139673,0.17021934599669436,0.12082189702516857,0.0775109208773117,0.14076763128924882,0.22691412906764497,0.1559449299101403],\"y\":[0.05919548179809244,0.05781476018791448,0.0596222561131938,0.056819019971146134,0.05360905647083326,0.055972823675518917,0.057227871089436895,0.05962045788488898,0.057806980871664845,0.056808841530710655,0.05891920904710422,0.059978256264810986,0.059919125434504346,0.05782761423153133,0.06004226115224615,0.05403167356749167,0.05984527767186639,0.05408495820484702,0.05585557539961074,0.05720468698787072,0.05619737478734342,0.06016774471177961,0.06009670856215107,0.05935024537510621,0.060686789432257665,0.06066025971188052,0.05991358247658085,0.05993096274891275,0.06043018459432111,0.06036042938971544,0.060648866101666664,0.060656382316936854,0.060706243297054936,0.06068059652572753,0.06054714970222583,0.05926224924581215,0.06060882792972793,0.060104740945868304,0.056958695375886916,0.06039237051752671,0.060695199744924176,0.060695341328925824,0.06062886262338268,0.060460292933953254,0.06066056517657706,0.060235883406129974,0.058241368392651795,0.059751669464899716,0.059945930519042484,0.06036014733654655,0.05638706724905429,0.06070211171980916,0.06063802099010526,0.060748808799165124,0.06067749728537595,0.06066778596066251,0.06065248039563068,0.05978682912037108,0.06071052537697966,0.0606837492781428,0.06047790063255542,0.06028855599925795,0.06004436818975175,0.060658011090373436,0.060220212175330044,0.058156740178862076,0.060261488928575156,0.060292418901351,0.058673272062018514,0.05932972572837513,0.060348118270577504,0.060715862090491735,0.06068747728524222,0.06074634167006506,0.06067668903024824,0.060290014202991585,0.05934093427603544,0.06060735969248235,0.05683421405271192,0.05982914824402186,0.06056226128602683,0.0606990983217263,0.06069970256211141,0.06073039730477387,0.06069311388927726,0.06064793075538789,0.060690160692266,0.058793872645745975,0.060608577091929815,0.0600338932032966,0.06058247212355764,0.06069935696336713,0.06069021977850301,0.0607164473786877,0.06067847276570247,0.060676654470373646,0.060504392448554115,0.060566760758710106,0.06059645326501448,0.05965553727226528,0.060678612120034676,0.06069330006666547,0.060750782056511486,0.06057347094852197,0.06071118981843634,0.06065044470754363,0.05997109902630144,0.06054546741672575,0.060604571491000465,0.0606157889573381,0.05963243566846406,0.06071375505298655,0.060695917698444554,0.06070810841543924,0.06071317533896365,0.06061939210295562,0.057607043079439,0.05696927181229559,0.05695447795637233,0.06045443001848189,0.060654829352257064,0.06070764018488246,0.060656747982704935,0.06072579861180623,0.06076377879896466,0.06066071233475183,0.06055807173737884,0.05942024026916346,0.060469250630436906,0.060753205707059874,0.060748289286214105,0.06075380994744487,0.0607203782856946,0.06069210050457249,0.060720633582831675,0.06069833354515033,0.06069814290842358,0.060696243230164655,0.06066152393438368,0.06063528964519109,0.060623262808891,0.06073313533869613,0.06066261424267988,0.060693091592584306,0.06067941926032786,0.060712040437280956,0.06067092979440051,0.06069613397636808,0.05816015714709155,0.05517874367052463],\"type\":\"scatter\",\"xaxis\":\"x3\",\"yaxis\":\"y3\"},{\"marker\":{\"color\":[0,1,2,3,4,5,6,7,8,9,10,11,12,13,14,15,16,17,18,19,20,21,22,23,24,25,26,27,28,29,30,31,32,33,34,35,36,37,38,39,40,41,42,43,44,45,46,47,48,49,50,51,52,53,54,55,56,57,58,59,60,61,62,63,64,65,66,67,68,69,70,71,72,73,74,75,76,77,78,79,80,81,82,83,84,85,86,87,88,89,90,91,92,93,94,95,96,97,98,99,100,101,102,103,104,105,106,107,108,109,110,111,112,113,114,115,116,117,118,119,120,121,122,123,124,125,126,127,128,129,130,131,132,133,134,135,136,137,138,139,140,141,142,143,144,145,146,147,148,149],\"colorbar\":{\"title\":{\"text\":\"Trial\"},\"x\":1.0,\"xpad\":40},\"colorscale\":[[0.0,\"rgb(247,251,255)\"],[0.125,\"rgb(222,235,247)\"],[0.25,\"rgb(198,219,239)\"],[0.375,\"rgb(158,202,225)\"],[0.5,\"rgb(107,174,214)\"],[0.625,\"rgb(66,146,198)\"],[0.75,\"rgb(33,113,181)\"],[0.875,\"rgb(8,81,156)\"],[1.0,\"rgb(8,48,107)\"]],\"line\":{\"color\":\"Grey\",\"width\":0.5},\"showscale\":false},\"mode\":\"markers\",\"name\":\"Feasible Trial\",\"showlegend\":false,\"x\":[0.8414622729125448,0.23945033702990515,0.7033880645743561,0.7135990135791926,0.36948652240944924,0.26245073978090394,0.15060023252299004,0.3537887485619946,0.5449731950170983,0.7098521576975315,0.9944468947847904,0.49417297603020566,0.5709647839898018,0.013536619028757246,0.5317230414761719,0.44140710828016694,0.5878947450554085,0.4614756297502685,0.8489724397825975,0.638550997865169,0.42575918661973794,0.5360559188143548,0.5126868921496464,0.32630168272096427,0.6228447128623491,0.641438938712605,0.8257168031207609,0.6434074643685719,0.7466920985153737,0.8547755884917275,0.9268927976645873,0.9697250510035971,0.9899433776091664,0.9692092580333972,0.7957377349618633,0.8946561610960522,0.7692750298933791,0.9252488118279721,0.6451077778751788,0.9507893497692887,0.6952158361889265,0.6720426249853382,0.7095910413614872,0.9955086772491624,0.888181188285058,0.5958637091243617,0.6836059370657829,0.76338859308029,0.881919046761307,0.8082459519250502,0.1413008409750932,0.8925965321885168,0.9426254990944776,0.9963767362707919,0.9983489142344593,0.5977866840236807,0.695875974111354,0.9042052176313613,0.84487574761383,0.8457064858201047,0.8679981812234664,0.7386747463985482,0.789880740902285,0.6742805841614085,0.558373644238673,0.8291556663766556,0.4843314735866037,0.7378206717978385,0.9694472971093789,0.9203959306840326,0.6186134278833173,0.844825464212551,0.9576323653998107,0.935577619201285,0.9169238173084882,0.8678174065326648,0.8129542637588871,0.9464786329797072,0.8395658922311482,0.40000638186882614,0.7756534334721663,0.9664498289142505,0.8989944031435776,0.8922199085834056,0.9009273958005107,0.9826058042720791,0.9383070882933758,0.8769068131140162,0.9748889035854387,0.9009983278278926,0.9233678672142298,0.8524566367347931,0.8541428614485306,0.9970145789400643,0.945495230245295,0.9901804757462552,0.8880967139637241,0.8270874213857192,0.9122738069949299,0.8632121351121029,0.996637707891275,0.9622363297472872,0.9333493456965236,0.9331910036205737,0.8903326687920369,0.8940662789581106,0.2824221426859535,0.8100660697777393,0.9561403289975091,0.9335249144602317,0.8772055277462034,0.8568412321599972,0.9816500226171655,0.9184845552413277,0.9127452110448661,0.9462158289424049,0.9997108582155648,0.9173952752302207,0.0465965502700737,0.7835987044635975,0.8398392370237926,0.8681396066199326,0.8792404662576954,0.971711886605203,0.913619713884121,0.9186285341488264,0.9665957989503563,0.9341313888574853,0.9062106700274275,0.9502039305354342,0.9543396017409197,0.9565382603595985,0.956034554594975,0.9725263759441176,0.9536130851289856,0.9558147825492354,0.9826813625812941,0.9454863926114521,0.9728978841415477,0.9992553293959374,0.9507976841702545,0.931109453621666,0.9392070463693003,0.9681312964576123,0.935399204119123,0.9601098499515224,0.9770224337489425,0.9309668534813444,0.9073276247934232,0.9843072977246718],\"y\":[0.05919548179809244,0.05781476018791448,0.0596222561131938,0.056819019971146134,0.05360905647083326,0.055972823675518917,0.057227871089436895,0.05962045788488898,0.057806980871664845,0.056808841530710655,0.05891920904710422,0.059978256264810986,0.059919125434504346,0.05782761423153133,0.06004226115224615,0.05403167356749167,0.05984527767186639,0.05408495820484702,0.05585557539961074,0.05720468698787072,0.05619737478734342,0.06016774471177961,0.06009670856215107,0.05935024537510621,0.060686789432257665,0.06066025971188052,0.05991358247658085,0.05993096274891275,0.06043018459432111,0.06036042938971544,0.060648866101666664,0.060656382316936854,0.060706243297054936,0.06068059652572753,0.06054714970222583,0.05926224924581215,0.06060882792972793,0.060104740945868304,0.056958695375886916,0.06039237051752671,0.060695199744924176,0.060695341328925824,0.06062886262338268,0.060460292933953254,0.06066056517657706,0.060235883406129974,0.058241368392651795,0.059751669464899716,0.059945930519042484,0.06036014733654655,0.05638706724905429,0.06070211171980916,0.06063802099010526,0.060748808799165124,0.06067749728537595,0.06066778596066251,0.06065248039563068,0.05978682912037108,0.06071052537697966,0.0606837492781428,0.06047790063255542,0.06028855599925795,0.06004436818975175,0.060658011090373436,0.060220212175330044,0.058156740178862076,0.060261488928575156,0.060292418901351,0.058673272062018514,0.05932972572837513,0.060348118270577504,0.060715862090491735,0.06068747728524222,0.06074634167006506,0.06067668903024824,0.060290014202991585,0.05934093427603544,0.06060735969248235,0.05683421405271192,0.05982914824402186,0.06056226128602683,0.0606990983217263,0.06069970256211141,0.06073039730477387,0.06069311388927726,0.06064793075538789,0.060690160692266,0.058793872645745975,0.060608577091929815,0.0600338932032966,0.06058247212355764,0.06069935696336713,0.06069021977850301,0.0607164473786877,0.06067847276570247,0.060676654470373646,0.060504392448554115,0.060566760758710106,0.06059645326501448,0.05965553727226528,0.060678612120034676,0.06069330006666547,0.060750782056511486,0.06057347094852197,0.06071118981843634,0.06065044470754363,0.05997109902630144,0.06054546741672575,0.060604571491000465,0.0606157889573381,0.05963243566846406,0.06071375505298655,0.060695917698444554,0.06070810841543924,0.06071317533896365,0.06061939210295562,0.057607043079439,0.05696927181229559,0.05695447795637233,0.06045443001848189,0.060654829352257064,0.06070764018488246,0.060656747982704935,0.06072579861180623,0.06076377879896466,0.06066071233475183,0.06055807173737884,0.05942024026916346,0.060469250630436906,0.060753205707059874,0.060748289286214105,0.06075380994744487,0.0607203782856946,0.06069210050457249,0.060720633582831675,0.06069833354515033,0.06069814290842358,0.060696243230164655,0.06066152393438368,0.06063528964519109,0.060623262808891,0.06073313533869613,0.06066261424267988,0.060693091592584306,0.06067941926032786,0.060712040437280956,0.06067092979440051,0.06069613397636808,0.05816015714709155,0.05517874367052463],\"type\":\"scatter\",\"xaxis\":\"x4\",\"yaxis\":\"y4\"}],                        {\"template\":{\"data\":{\"histogram2dcontour\":[{\"type\":\"histogram2dcontour\",\"colorbar\":{\"outlinewidth\":0,\"ticks\":\"\"},\"colorscale\":[[0.0,\"#0d0887\"],[0.1111111111111111,\"#46039f\"],[0.2222222222222222,\"#7201a8\"],[0.3333333333333333,\"#9c179e\"],[0.4444444444444444,\"#bd3786\"],[0.5555555555555556,\"#d8576b\"],[0.6666666666666666,\"#ed7953\"],[0.7777777777777778,\"#fb9f3a\"],[0.8888888888888888,\"#fdca26\"],[1.0,\"#f0f921\"]]}],\"choropleth\":[{\"type\":\"choropleth\",\"colorbar\":{\"outlinewidth\":0,\"ticks\":\"\"}}],\"histogram2d\":[{\"type\":\"histogram2d\",\"colorbar\":{\"outlinewidth\":0,\"ticks\":\"\"},\"colorscale\":[[0.0,\"#0d0887\"],[0.1111111111111111,\"#46039f\"],[0.2222222222222222,\"#7201a8\"],[0.3333333333333333,\"#9c179e\"],[0.4444444444444444,\"#bd3786\"],[0.5555555555555556,\"#d8576b\"],[0.6666666666666666,\"#ed7953\"],[0.7777777777777778,\"#fb9f3a\"],[0.8888888888888888,\"#fdca26\"],[1.0,\"#f0f921\"]]}],\"heatmap\":[{\"type\":\"heatmap\",\"colorbar\":{\"outlinewidth\":0,\"ticks\":\"\"},\"colorscale\":[[0.0,\"#0d0887\"],[0.1111111111111111,\"#46039f\"],[0.2222222222222222,\"#7201a8\"],[0.3333333333333333,\"#9c179e\"],[0.4444444444444444,\"#bd3786\"],[0.5555555555555556,\"#d8576b\"],[0.6666666666666666,\"#ed7953\"],[0.7777777777777778,\"#fb9f3a\"],[0.8888888888888888,\"#fdca26\"],[1.0,\"#f0f921\"]]}],\"heatmapgl\":[{\"type\":\"heatmapgl\",\"colorbar\":{\"outlinewidth\":0,\"ticks\":\"\"},\"colorscale\":[[0.0,\"#0d0887\"],[0.1111111111111111,\"#46039f\"],[0.2222222222222222,\"#7201a8\"],[0.3333333333333333,\"#9c179e\"],[0.4444444444444444,\"#bd3786\"],[0.5555555555555556,\"#d8576b\"],[0.6666666666666666,\"#ed7953\"],[0.7777777777777778,\"#fb9f3a\"],[0.8888888888888888,\"#fdca26\"],[1.0,\"#f0f921\"]]}],\"contourcarpet\":[{\"type\":\"contourcarpet\",\"colorbar\":{\"outlinewidth\":0,\"ticks\":\"\"}}],\"contour\":[{\"type\":\"contour\",\"colorbar\":{\"outlinewidth\":0,\"ticks\":\"\"},\"colorscale\":[[0.0,\"#0d0887\"],[0.1111111111111111,\"#46039f\"],[0.2222222222222222,\"#7201a8\"],[0.3333333333333333,\"#9c179e\"],[0.4444444444444444,\"#bd3786\"],[0.5555555555555556,\"#d8576b\"],[0.6666666666666666,\"#ed7953\"],[0.7777777777777778,\"#fb9f3a\"],[0.8888888888888888,\"#fdca26\"],[1.0,\"#f0f921\"]]}],\"surface\":[{\"type\":\"surface\",\"colorbar\":{\"outlinewidth\":0,\"ticks\":\"\"},\"colorscale\":[[0.0,\"#0d0887\"],[0.1111111111111111,\"#46039f\"],[0.2222222222222222,\"#7201a8\"],[0.3333333333333333,\"#9c179e\"],[0.4444444444444444,\"#bd3786\"],[0.5555555555555556,\"#d8576b\"],[0.6666666666666666,\"#ed7953\"],[0.7777777777777778,\"#fb9f3a\"],[0.8888888888888888,\"#fdca26\"],[1.0,\"#f0f921\"]]}],\"mesh3d\":[{\"type\":\"mesh3d\",\"colorbar\":{\"outlinewidth\":0,\"ticks\":\"\"}}],\"scatter\":[{\"fillpattern\":{\"fillmode\":\"overlay\",\"size\":10,\"solidity\":0.2},\"type\":\"scatter\"}],\"parcoords\":[{\"type\":\"parcoords\",\"line\":{\"colorbar\":{\"outlinewidth\":0,\"ticks\":\"\"}}}],\"scatterpolargl\":[{\"type\":\"scatterpolargl\",\"marker\":{\"colorbar\":{\"outlinewidth\":0,\"ticks\":\"\"}}}],\"bar\":[{\"error_x\":{\"color\":\"#2a3f5f\"},\"error_y\":{\"color\":\"#2a3f5f\"},\"marker\":{\"line\":{\"color\":\"#E5ECF6\",\"width\":0.5},\"pattern\":{\"fillmode\":\"overlay\",\"size\":10,\"solidity\":0.2}},\"type\":\"bar\"}],\"scattergeo\":[{\"type\":\"scattergeo\",\"marker\":{\"colorbar\":{\"outlinewidth\":0,\"ticks\":\"\"}}}],\"scatterpolar\":[{\"type\":\"scatterpolar\",\"marker\":{\"colorbar\":{\"outlinewidth\":0,\"ticks\":\"\"}}}],\"histogram\":[{\"marker\":{\"pattern\":{\"fillmode\":\"overlay\",\"size\":10,\"solidity\":0.2}},\"type\":\"histogram\"}],\"scattergl\":[{\"type\":\"scattergl\",\"marker\":{\"colorbar\":{\"outlinewidth\":0,\"ticks\":\"\"}}}],\"scatter3d\":[{\"type\":\"scatter3d\",\"line\":{\"colorbar\":{\"outlinewidth\":0,\"ticks\":\"\"}},\"marker\":{\"colorbar\":{\"outlinewidth\":0,\"ticks\":\"\"}}}],\"scattermapbox\":[{\"type\":\"scattermapbox\",\"marker\":{\"colorbar\":{\"outlinewidth\":0,\"ticks\":\"\"}}}],\"scatterternary\":[{\"type\":\"scatterternary\",\"marker\":{\"colorbar\":{\"outlinewidth\":0,\"ticks\":\"\"}}}],\"scattercarpet\":[{\"type\":\"scattercarpet\",\"marker\":{\"colorbar\":{\"outlinewidth\":0,\"ticks\":\"\"}}}],\"carpet\":[{\"aaxis\":{\"endlinecolor\":\"#2a3f5f\",\"gridcolor\":\"white\",\"linecolor\":\"white\",\"minorgridcolor\":\"white\",\"startlinecolor\":\"#2a3f5f\"},\"baxis\":{\"endlinecolor\":\"#2a3f5f\",\"gridcolor\":\"white\",\"linecolor\":\"white\",\"minorgridcolor\":\"white\",\"startlinecolor\":\"#2a3f5f\"},\"type\":\"carpet\"}],\"table\":[{\"cells\":{\"fill\":{\"color\":\"#EBF0F8\"},\"line\":{\"color\":\"white\"}},\"header\":{\"fill\":{\"color\":\"#C8D4E3\"},\"line\":{\"color\":\"white\"}},\"type\":\"table\"}],\"barpolar\":[{\"marker\":{\"line\":{\"color\":\"#E5ECF6\",\"width\":0.5},\"pattern\":{\"fillmode\":\"overlay\",\"size\":10,\"solidity\":0.2}},\"type\":\"barpolar\"}],\"pie\":[{\"automargin\":true,\"type\":\"pie\"}]},\"layout\":{\"autotypenumbers\":\"strict\",\"colorway\":[\"#636efa\",\"#EF553B\",\"#00cc96\",\"#ab63fa\",\"#FFA15A\",\"#19d3f3\",\"#FF6692\",\"#B6E880\",\"#FF97FF\",\"#FECB52\"],\"font\":{\"color\":\"#2a3f5f\"},\"hovermode\":\"closest\",\"hoverlabel\":{\"align\":\"left\"},\"paper_bgcolor\":\"white\",\"plot_bgcolor\":\"#E5ECF6\",\"polar\":{\"bgcolor\":\"#E5ECF6\",\"angularaxis\":{\"gridcolor\":\"white\",\"linecolor\":\"white\",\"ticks\":\"\"},\"radialaxis\":{\"gridcolor\":\"white\",\"linecolor\":\"white\",\"ticks\":\"\"}},\"ternary\":{\"bgcolor\":\"#E5ECF6\",\"aaxis\":{\"gridcolor\":\"white\",\"linecolor\":\"white\",\"ticks\":\"\"},\"baxis\":{\"gridcolor\":\"white\",\"linecolor\":\"white\",\"ticks\":\"\"},\"caxis\":{\"gridcolor\":\"white\",\"linecolor\":\"white\",\"ticks\":\"\"}},\"coloraxis\":{\"colorbar\":{\"outlinewidth\":0,\"ticks\":\"\"}},\"colorscale\":{\"sequential\":[[0.0,\"#0d0887\"],[0.1111111111111111,\"#46039f\"],[0.2222222222222222,\"#7201a8\"],[0.3333333333333333,\"#9c179e\"],[0.4444444444444444,\"#bd3786\"],[0.5555555555555556,\"#d8576b\"],[0.6666666666666666,\"#ed7953\"],[0.7777777777777778,\"#fb9f3a\"],[0.8888888888888888,\"#fdca26\"],[1.0,\"#f0f921\"]],\"sequentialminus\":[[0.0,\"#0d0887\"],[0.1111111111111111,\"#46039f\"],[0.2222222222222222,\"#7201a8\"],[0.3333333333333333,\"#9c179e\"],[0.4444444444444444,\"#bd3786\"],[0.5555555555555556,\"#d8576b\"],[0.6666666666666666,\"#ed7953\"],[0.7777777777777778,\"#fb9f3a\"],[0.8888888888888888,\"#fdca26\"],[1.0,\"#f0f921\"]],\"diverging\":[[0,\"#8e0152\"],[0.1,\"#c51b7d\"],[0.2,\"#de77ae\"],[0.3,\"#f1b6da\"],[0.4,\"#fde0ef\"],[0.5,\"#f7f7f7\"],[0.6,\"#e6f5d0\"],[0.7,\"#b8e186\"],[0.8,\"#7fbc41\"],[0.9,\"#4d9221\"],[1,\"#276419\"]]},\"xaxis\":{\"gridcolor\":\"white\",\"linecolor\":\"white\",\"ticks\":\"\",\"title\":{\"standoff\":15},\"zerolinecolor\":\"white\",\"automargin\":true,\"zerolinewidth\":2},\"yaxis\":{\"gridcolor\":\"white\",\"linecolor\":\"white\",\"ticks\":\"\",\"title\":{\"standoff\":15},\"zerolinecolor\":\"white\",\"automargin\":true,\"zerolinewidth\":2},\"scene\":{\"xaxis\":{\"backgroundcolor\":\"#E5ECF6\",\"gridcolor\":\"white\",\"linecolor\":\"white\",\"showbackground\":true,\"ticks\":\"\",\"zerolinecolor\":\"white\",\"gridwidth\":2},\"yaxis\":{\"backgroundcolor\":\"#E5ECF6\",\"gridcolor\":\"white\",\"linecolor\":\"white\",\"showbackground\":true,\"ticks\":\"\",\"zerolinecolor\":\"white\",\"gridwidth\":2},\"zaxis\":{\"backgroundcolor\":\"#E5ECF6\",\"gridcolor\":\"white\",\"linecolor\":\"white\",\"showbackground\":true,\"ticks\":\"\",\"zerolinecolor\":\"white\",\"gridwidth\":2}},\"shapedefaults\":{\"line\":{\"color\":\"#2a3f5f\"}},\"annotationdefaults\":{\"arrowcolor\":\"#2a3f5f\",\"arrowhead\":0,\"arrowwidth\":1},\"geo\":{\"bgcolor\":\"white\",\"landcolor\":\"#E5ECF6\",\"subunitcolor\":\"white\",\"showland\":true,\"showlakes\":true,\"lakecolor\":\"white\"},\"title\":{\"x\":0.05},\"mapbox\":{\"style\":\"light\"}}},\"xaxis\":{\"anchor\":\"y\",\"domain\":[0.0,0.2125],\"title\":{\"text\":\"itemknn_weight\"}},\"yaxis\":{\"anchor\":\"x\",\"domain\":[0.0,1.0],\"title\":{\"text\":\"Objective Value\"}},\"xaxis2\":{\"anchor\":\"y2\",\"domain\":[0.2625,0.475],\"title\":{\"text\":\"norm\"},\"type\":\"category\",\"categoryorder\":\"array\",\"categoryarray\":[1,2,null,null]},\"yaxis2\":{\"anchor\":\"x2\",\"domain\":[0.0,1.0],\"matches\":\"y\",\"showticklabels\":false},\"xaxis3\":{\"anchor\":\"y3\",\"domain\":[0.525,0.7375],\"title\":{\"text\":\"rp3beta_weight\"}},\"yaxis3\":{\"anchor\":\"x3\",\"domain\":[0.0,1.0],\"matches\":\"y\",\"showticklabels\":false},\"xaxis4\":{\"anchor\":\"y4\",\"domain\":[0.7875,1.0],\"title\":{\"text\":\"slim_weight\"}},\"yaxis4\":{\"anchor\":\"x4\",\"domain\":[0.0,1.0],\"matches\":\"y\",\"showticklabels\":false},\"title\":{\"text\":\"Slice Plot\"},\"width\":1200},                        {\"responsive\": true}                    ).then(function(){\n",
       "                            \n",
       "var gd = document.getElementById('74b802b2-3ed2-4f34-b388-2f086c36a99e');\n",
       "var x = new MutationObserver(function (mutations, observer) {{\n",
       "        var display = window.getComputedStyle(gd).display;\n",
       "        if (!display || display === 'none') {{\n",
       "            console.log([gd, 'removed!']);\n",
       "            Plotly.purge(gd);\n",
       "            observer.disconnect();\n",
       "        }}\n",
       "}});\n",
       "\n",
       "// Listen for the removal of the full notebook cells\n",
       "var notebookContainer = gd.closest('#notebook-container');\n",
       "if (notebookContainer) {{\n",
       "    x.observe(notebookContainer, {childList: true});\n",
       "}}\n",
       "\n",
       "// Listen for the clearing of the current output cell\n",
       "var outputEl = gd.closest('.output');\n",
       "if (outputEl) {{\n",
       "    x.observe(outputEl, {childList: true});\n",
       "}}\n",
       "\n",
       "                        })                };                });            </script>        </div>"
      ]
     },
     "metadata": {},
     "output_type": "display_data"
    }
   ],
   "source": [
    "if not config['tune_parameters']:\n",
    "    optuna_study = optuna.load_study(study_name=f'hyperparameters_tuning_{config[\"model\"]}', storage=f'sqlite:///{config[\"database_path\"]}')\n",
    "    \n",
    "fig = optuna.visualization.plot_slice(optuna_study)\n",
    "fig.show()"
   ]
  },
  {
   "cell_type": "code",
   "execution_count": 16,
   "id": "45426f05",
   "metadata": {
    "execution": {
     "iopub.execute_input": "2024-12-03T05:20:46.978401Z",
     "iopub.status.busy": "2024-12-03T05:20:46.978012Z",
     "iopub.status.idle": "2024-12-03T05:20:49.234230Z",
     "shell.execute_reply": "2024-12-03T05:20:49.233025Z"
    },
    "papermill": {
     "duration": 2.298716,
     "end_time": "2024-12-03T05:20:49.236364",
     "exception": false,
     "start_time": "2024-12-03T05:20:46.937648",
     "status": "completed"
    },
    "tags": []
   },
   "outputs": [
    {
     "data": {
      "text/html": [
       "<div>                            <div id=\"61636498-23e2-4f7c-860e-272a377fbedf\" class=\"plotly-graph-div\" style=\"height:525px; width:100%;\"></div>            <script type=\"text/javascript\">                require([\"plotly\"], function(Plotly) {                    window.PLOTLYENV=window.PLOTLYENV || {};                                    if (document.getElementById(\"61636498-23e2-4f7c-860e-272a377fbedf\")) {                    Plotly.newPlot(                        \"61636498-23e2-4f7c-860e-272a377fbedf\",                        [{\"cliponaxis\":false,\"hovertemplate\":[\"rp3beta_weight (FloatDistribution): 0.028508871558856442\\u003cextra\\u003e\\u003c\\u002fextra\\u003e\",\"slim_weight (FloatDistribution): 0.1375437198552667\\u003cextra\\u003e\\u003c\\u002fextra\\u003e\",\"itemknn_weight (FloatDistribution): 0.3586321997211882\\u003cextra\\u003e\\u003c\\u002fextra\\u003e\",\"norm (CategoricalDistribution): 0.47531520886468875\\u003cextra\\u003e\\u003c\\u002fextra\\u003e\"],\"name\":\"Objective Value\",\"orientation\":\"h\",\"text\":[\"0.03\",\"0.14\",\"0.36\",\"0.48\"],\"textposition\":\"outside\",\"x\":[0.028508871558856442,0.1375437198552667,0.3586321997211882,0.47531520886468875],\"y\":[\"rp3beta_weight\",\"slim_weight\",\"itemknn_weight\",\"norm\"],\"type\":\"bar\"}],                        {\"title\":{\"text\":\"Hyperparameter Importances\"},\"xaxis\":{\"title\":{\"text\":\"Hyperparameter Importance\"}},\"yaxis\":{\"title\":{\"text\":\"Hyperparameter\"}},\"template\":{\"data\":{\"histogram2dcontour\":[{\"type\":\"histogram2dcontour\",\"colorbar\":{\"outlinewidth\":0,\"ticks\":\"\"},\"colorscale\":[[0.0,\"#0d0887\"],[0.1111111111111111,\"#46039f\"],[0.2222222222222222,\"#7201a8\"],[0.3333333333333333,\"#9c179e\"],[0.4444444444444444,\"#bd3786\"],[0.5555555555555556,\"#d8576b\"],[0.6666666666666666,\"#ed7953\"],[0.7777777777777778,\"#fb9f3a\"],[0.8888888888888888,\"#fdca26\"],[1.0,\"#f0f921\"]]}],\"choropleth\":[{\"type\":\"choropleth\",\"colorbar\":{\"outlinewidth\":0,\"ticks\":\"\"}}],\"histogram2d\":[{\"type\":\"histogram2d\",\"colorbar\":{\"outlinewidth\":0,\"ticks\":\"\"},\"colorscale\":[[0.0,\"#0d0887\"],[0.1111111111111111,\"#46039f\"],[0.2222222222222222,\"#7201a8\"],[0.3333333333333333,\"#9c179e\"],[0.4444444444444444,\"#bd3786\"],[0.5555555555555556,\"#d8576b\"],[0.6666666666666666,\"#ed7953\"],[0.7777777777777778,\"#fb9f3a\"],[0.8888888888888888,\"#fdca26\"],[1.0,\"#f0f921\"]]}],\"heatmap\":[{\"type\":\"heatmap\",\"colorbar\":{\"outlinewidth\":0,\"ticks\":\"\"},\"colorscale\":[[0.0,\"#0d0887\"],[0.1111111111111111,\"#46039f\"],[0.2222222222222222,\"#7201a8\"],[0.3333333333333333,\"#9c179e\"],[0.4444444444444444,\"#bd3786\"],[0.5555555555555556,\"#d8576b\"],[0.6666666666666666,\"#ed7953\"],[0.7777777777777778,\"#fb9f3a\"],[0.8888888888888888,\"#fdca26\"],[1.0,\"#f0f921\"]]}],\"heatmapgl\":[{\"type\":\"heatmapgl\",\"colorbar\":{\"outlinewidth\":0,\"ticks\":\"\"},\"colorscale\":[[0.0,\"#0d0887\"],[0.1111111111111111,\"#46039f\"],[0.2222222222222222,\"#7201a8\"],[0.3333333333333333,\"#9c179e\"],[0.4444444444444444,\"#bd3786\"],[0.5555555555555556,\"#d8576b\"],[0.6666666666666666,\"#ed7953\"],[0.7777777777777778,\"#fb9f3a\"],[0.8888888888888888,\"#fdca26\"],[1.0,\"#f0f921\"]]}],\"contourcarpet\":[{\"type\":\"contourcarpet\",\"colorbar\":{\"outlinewidth\":0,\"ticks\":\"\"}}],\"contour\":[{\"type\":\"contour\",\"colorbar\":{\"outlinewidth\":0,\"ticks\":\"\"},\"colorscale\":[[0.0,\"#0d0887\"],[0.1111111111111111,\"#46039f\"],[0.2222222222222222,\"#7201a8\"],[0.3333333333333333,\"#9c179e\"],[0.4444444444444444,\"#bd3786\"],[0.5555555555555556,\"#d8576b\"],[0.6666666666666666,\"#ed7953\"],[0.7777777777777778,\"#fb9f3a\"],[0.8888888888888888,\"#fdca26\"],[1.0,\"#f0f921\"]]}],\"surface\":[{\"type\":\"surface\",\"colorbar\":{\"outlinewidth\":0,\"ticks\":\"\"},\"colorscale\":[[0.0,\"#0d0887\"],[0.1111111111111111,\"#46039f\"],[0.2222222222222222,\"#7201a8\"],[0.3333333333333333,\"#9c179e\"],[0.4444444444444444,\"#bd3786\"],[0.5555555555555556,\"#d8576b\"],[0.6666666666666666,\"#ed7953\"],[0.7777777777777778,\"#fb9f3a\"],[0.8888888888888888,\"#fdca26\"],[1.0,\"#f0f921\"]]}],\"mesh3d\":[{\"type\":\"mesh3d\",\"colorbar\":{\"outlinewidth\":0,\"ticks\":\"\"}}],\"scatter\":[{\"fillpattern\":{\"fillmode\":\"overlay\",\"size\":10,\"solidity\":0.2},\"type\":\"scatter\"}],\"parcoords\":[{\"type\":\"parcoords\",\"line\":{\"colorbar\":{\"outlinewidth\":0,\"ticks\":\"\"}}}],\"scatterpolargl\":[{\"type\":\"scatterpolargl\",\"marker\":{\"colorbar\":{\"outlinewidth\":0,\"ticks\":\"\"}}}],\"bar\":[{\"error_x\":{\"color\":\"#2a3f5f\"},\"error_y\":{\"color\":\"#2a3f5f\"},\"marker\":{\"line\":{\"color\":\"#E5ECF6\",\"width\":0.5},\"pattern\":{\"fillmode\":\"overlay\",\"size\":10,\"solidity\":0.2}},\"type\":\"bar\"}],\"scattergeo\":[{\"type\":\"scattergeo\",\"marker\":{\"colorbar\":{\"outlinewidth\":0,\"ticks\":\"\"}}}],\"scatterpolar\":[{\"type\":\"scatterpolar\",\"marker\":{\"colorbar\":{\"outlinewidth\":0,\"ticks\":\"\"}}}],\"histogram\":[{\"marker\":{\"pattern\":{\"fillmode\":\"overlay\",\"size\":10,\"solidity\":0.2}},\"type\":\"histogram\"}],\"scattergl\":[{\"type\":\"scattergl\",\"marker\":{\"colorbar\":{\"outlinewidth\":0,\"ticks\":\"\"}}}],\"scatter3d\":[{\"type\":\"scatter3d\",\"line\":{\"colorbar\":{\"outlinewidth\":0,\"ticks\":\"\"}},\"marker\":{\"colorbar\":{\"outlinewidth\":0,\"ticks\":\"\"}}}],\"scattermapbox\":[{\"type\":\"scattermapbox\",\"marker\":{\"colorbar\":{\"outlinewidth\":0,\"ticks\":\"\"}}}],\"scatterternary\":[{\"type\":\"scatterternary\",\"marker\":{\"colorbar\":{\"outlinewidth\":0,\"ticks\":\"\"}}}],\"scattercarpet\":[{\"type\":\"scattercarpet\",\"marker\":{\"colorbar\":{\"outlinewidth\":0,\"ticks\":\"\"}}}],\"carpet\":[{\"aaxis\":{\"endlinecolor\":\"#2a3f5f\",\"gridcolor\":\"white\",\"linecolor\":\"white\",\"minorgridcolor\":\"white\",\"startlinecolor\":\"#2a3f5f\"},\"baxis\":{\"endlinecolor\":\"#2a3f5f\",\"gridcolor\":\"white\",\"linecolor\":\"white\",\"minorgridcolor\":\"white\",\"startlinecolor\":\"#2a3f5f\"},\"type\":\"carpet\"}],\"table\":[{\"cells\":{\"fill\":{\"color\":\"#EBF0F8\"},\"line\":{\"color\":\"white\"}},\"header\":{\"fill\":{\"color\":\"#C8D4E3\"},\"line\":{\"color\":\"white\"}},\"type\":\"table\"}],\"barpolar\":[{\"marker\":{\"line\":{\"color\":\"#E5ECF6\",\"width\":0.5},\"pattern\":{\"fillmode\":\"overlay\",\"size\":10,\"solidity\":0.2}},\"type\":\"barpolar\"}],\"pie\":[{\"automargin\":true,\"type\":\"pie\"}]},\"layout\":{\"autotypenumbers\":\"strict\",\"colorway\":[\"#636efa\",\"#EF553B\",\"#00cc96\",\"#ab63fa\",\"#FFA15A\",\"#19d3f3\",\"#FF6692\",\"#B6E880\",\"#FF97FF\",\"#FECB52\"],\"font\":{\"color\":\"#2a3f5f\"},\"hovermode\":\"closest\",\"hoverlabel\":{\"align\":\"left\"},\"paper_bgcolor\":\"white\",\"plot_bgcolor\":\"#E5ECF6\",\"polar\":{\"bgcolor\":\"#E5ECF6\",\"angularaxis\":{\"gridcolor\":\"white\",\"linecolor\":\"white\",\"ticks\":\"\"},\"radialaxis\":{\"gridcolor\":\"white\",\"linecolor\":\"white\",\"ticks\":\"\"}},\"ternary\":{\"bgcolor\":\"#E5ECF6\",\"aaxis\":{\"gridcolor\":\"white\",\"linecolor\":\"white\",\"ticks\":\"\"},\"baxis\":{\"gridcolor\":\"white\",\"linecolor\":\"white\",\"ticks\":\"\"},\"caxis\":{\"gridcolor\":\"white\",\"linecolor\":\"white\",\"ticks\":\"\"}},\"coloraxis\":{\"colorbar\":{\"outlinewidth\":0,\"ticks\":\"\"}},\"colorscale\":{\"sequential\":[[0.0,\"#0d0887\"],[0.1111111111111111,\"#46039f\"],[0.2222222222222222,\"#7201a8\"],[0.3333333333333333,\"#9c179e\"],[0.4444444444444444,\"#bd3786\"],[0.5555555555555556,\"#d8576b\"],[0.6666666666666666,\"#ed7953\"],[0.7777777777777778,\"#fb9f3a\"],[0.8888888888888888,\"#fdca26\"],[1.0,\"#f0f921\"]],\"sequentialminus\":[[0.0,\"#0d0887\"],[0.1111111111111111,\"#46039f\"],[0.2222222222222222,\"#7201a8\"],[0.3333333333333333,\"#9c179e\"],[0.4444444444444444,\"#bd3786\"],[0.5555555555555556,\"#d8576b\"],[0.6666666666666666,\"#ed7953\"],[0.7777777777777778,\"#fb9f3a\"],[0.8888888888888888,\"#fdca26\"],[1.0,\"#f0f921\"]],\"diverging\":[[0,\"#8e0152\"],[0.1,\"#c51b7d\"],[0.2,\"#de77ae\"],[0.3,\"#f1b6da\"],[0.4,\"#fde0ef\"],[0.5,\"#f7f7f7\"],[0.6,\"#e6f5d0\"],[0.7,\"#b8e186\"],[0.8,\"#7fbc41\"],[0.9,\"#4d9221\"],[1,\"#276419\"]]},\"xaxis\":{\"gridcolor\":\"white\",\"linecolor\":\"white\",\"ticks\":\"\",\"title\":{\"standoff\":15},\"zerolinecolor\":\"white\",\"automargin\":true,\"zerolinewidth\":2},\"yaxis\":{\"gridcolor\":\"white\",\"linecolor\":\"white\",\"ticks\":\"\",\"title\":{\"standoff\":15},\"zerolinecolor\":\"white\",\"automargin\":true,\"zerolinewidth\":2},\"scene\":{\"xaxis\":{\"backgroundcolor\":\"#E5ECF6\",\"gridcolor\":\"white\",\"linecolor\":\"white\",\"showbackground\":true,\"ticks\":\"\",\"zerolinecolor\":\"white\",\"gridwidth\":2},\"yaxis\":{\"backgroundcolor\":\"#E5ECF6\",\"gridcolor\":\"white\",\"linecolor\":\"white\",\"showbackground\":true,\"ticks\":\"\",\"zerolinecolor\":\"white\",\"gridwidth\":2},\"zaxis\":{\"backgroundcolor\":\"#E5ECF6\",\"gridcolor\":\"white\",\"linecolor\":\"white\",\"showbackground\":true,\"ticks\":\"\",\"zerolinecolor\":\"white\",\"gridwidth\":2}},\"shapedefaults\":{\"line\":{\"color\":\"#2a3f5f\"}},\"annotationdefaults\":{\"arrowcolor\":\"#2a3f5f\",\"arrowhead\":0,\"arrowwidth\":1},\"geo\":{\"bgcolor\":\"white\",\"landcolor\":\"#E5ECF6\",\"subunitcolor\":\"white\",\"showland\":true,\"showlakes\":true,\"lakecolor\":\"white\"},\"title\":{\"x\":0.05},\"mapbox\":{\"style\":\"light\"}}}},                        {\"responsive\": true}                    ).then(function(){\n",
       "                            \n",
       "var gd = document.getElementById('61636498-23e2-4f7c-860e-272a377fbedf');\n",
       "var x = new MutationObserver(function (mutations, observer) {{\n",
       "        var display = window.getComputedStyle(gd).display;\n",
       "        if (!display || display === 'none') {{\n",
       "            console.log([gd, 'removed!']);\n",
       "            Plotly.purge(gd);\n",
       "            observer.disconnect();\n",
       "        }}\n",
       "}});\n",
       "\n",
       "// Listen for the removal of the full notebook cells\n",
       "var notebookContainer = gd.closest('#notebook-container');\n",
       "if (notebookContainer) {{\n",
       "    x.observe(notebookContainer, {childList: true});\n",
       "}}\n",
       "\n",
       "// Listen for the clearing of the current output cell\n",
       "var outputEl = gd.closest('.output');\n",
       "if (outputEl) {{\n",
       "    x.observe(outputEl, {childList: true});\n",
       "}}\n",
       "\n",
       "                        })                };                });            </script>        </div>"
      ]
     },
     "metadata": {},
     "output_type": "display_data"
    }
   ],
   "source": [
    "if not config['tune_parameters']:\n",
    "    optuna_study = optuna.load_study(study_name=f'hyperparameters_tuning_{config[\"model\"]}', storage=f'sqlite:///{config[\"database_path\"]}')\n",
    "    \n",
    "fig = optuna.visualization.plot_param_importances(optuna_study)\n",
    "fig.show()"
   ]
  },
  {
   "cell_type": "markdown",
   "id": "4738382a",
   "metadata": {
    "papermill": {
     "duration": 0.039588,
     "end_time": "2024-12-03T05:20:49.315164",
     "exception": false,
     "start_time": "2024-12-03T05:20:49.275576",
     "status": "completed"
    },
    "tags": []
   },
   "source": [
    "## Let's train the recommender with best parameter values"
   ]
  },
  {
   "cell_type": "code",
   "execution_count": 17,
   "id": "736d0c8a",
   "metadata": {
    "execution": {
     "iopub.execute_input": "2024-12-03T05:20:49.396779Z",
     "iopub.status.busy": "2024-12-03T05:20:49.396368Z",
     "iopub.status.idle": "2024-12-03T05:20:49.403874Z",
     "shell.execute_reply": "2024-12-03T05:20:49.402698Z"
    },
    "papermill": {
     "duration": 0.051819,
     "end_time": "2024-12-03T05:20:49.406015",
     "exception": false,
     "start_time": "2024-12-03T05:20:49.354196",
     "status": "completed"
    },
    "tags": []
   },
   "outputs": [],
   "source": [
    "if config['tune_best_params']:\n",
    "    \n",
    "    loaded_recommenders = {}\n",
    "    \n",
    "    for recommender_name, recommender_class in recommenders.items():\n",
    "        \n",
    "        start_time = time.time()\n",
    "        \n",
    "        print(f\"{recommender_name} Model - TRAINING with its best parameters.\")\n",
    "        try:\n",
    "            recommender = recommender_class(URM_train + URM_validation)\n",
    "        except Exception as e:\n",
    "            recommender = recommender_class(URM_train + URM_validation, ICM_all)\n",
    "    \n",
    "        # Extract best parameter values of the relative recommender model.\n",
    "        with open(f'{GH_PATH}/{paths_to_best_params[recommender_name]}/{recommender_name}Recommender/best_params_{recommender_name}.json', 'r') as best_params_json:\n",
    "                best_params = json.load(best_params_json)\n",
    "        \n",
    "        recommender.fit(**best_params)\n",
    "        \n",
    "        loaded_recommenders[recommender_name] = recommender\n",
    "        \n",
    "        new_time_value, new_time_unit = seconds_to_biggest_unit(time.time() - start_time)\n",
    "        print(\"Training done in {:2f}{}.\\n\".format(new_time_value, new_time_unit))"
   ]
  },
  {
   "cell_type": "code",
   "execution_count": 18,
   "id": "c4dab0e4",
   "metadata": {
    "execution": {
     "iopub.execute_input": "2024-12-03T05:20:49.487266Z",
     "iopub.status.busy": "2024-12-03T05:20:49.486871Z",
     "iopub.status.idle": "2024-12-03T05:20:49.493889Z",
     "shell.execute_reply": "2024-12-03T05:20:49.492707Z"
    },
    "papermill": {
     "duration": 0.050718,
     "end_time": "2024-12-03T05:20:49.496291",
     "exception": false,
     "start_time": "2024-12-03T05:20:49.445573",
     "status": "completed"
    },
    "tags": []
   },
   "outputs": [],
   "source": [
    "if config['tune_best_params']:\n",
    "\n",
    "    if config['tune_parameters']:\n",
    "        best_params = optuna_study.best_trial.params\n",
    "    else: \n",
    "        with open(f'{K_PATH}/{GH_PATH}/{D_PATH}/{config[\"model\"]}Recommender/best_params_{config[\"model\"]}.json', 'r') as best_params_json:\n",
    "            best_params = json.load(best_params_json)\n",
    "            \n",
    "    fit_params = {\n",
    "    \"weights\": list(best_params.values())[1:], \n",
    "    \"norm\": best_params[\"norm\"]\n",
    "    }\n",
    "    \n",
    "    recommender_instance = LinearCombinationRecommender(URM_train + URM_validation, loaded_recommenders.values())\n",
    "    recommender_instance.fit(**fit_params)"
   ]
  },
  {
   "cell_type": "markdown",
   "id": "efdca3f0",
   "metadata": {
    "papermill": {
     "duration": 0.0407,
     "end_time": "2024-12-03T05:20:49.576701",
     "exception": false,
     "start_time": "2024-12-03T05:20:49.536001",
     "status": "completed"
    },
    "tags": []
   },
   "source": [
    "# Testing"
   ]
  },
  {
   "cell_type": "markdown",
   "id": "0fee4e8b",
   "metadata": {
    "papermill": {
     "duration": 0.043748,
     "end_time": "2024-12-03T05:20:49.660255",
     "exception": false,
     "start_time": "2024-12-03T05:20:49.616507",
     "status": "completed"
    },
    "tags": []
   },
   "source": [
    "Create the recommendations for the submission. "
   ]
  },
  {
   "cell_type": "code",
   "execution_count": 19,
   "id": "ed94f667",
   "metadata": {
    "execution": {
     "iopub.execute_input": "2024-12-03T05:20:49.742904Z",
     "iopub.status.busy": "2024-12-03T05:20:49.742478Z",
     "iopub.status.idle": "2024-12-03T05:20:49.747641Z",
     "shell.execute_reply": "2024-12-03T05:20:49.746652Z"
    },
    "papermill": {
     "duration": 0.049926,
     "end_time": "2024-12-03T05:20:49.749855",
     "exception": false,
     "start_time": "2024-12-03T05:20:49.699929",
     "status": "completed"
    },
    "tags": []
   },
   "outputs": [],
   "source": [
    "if config['tune_best_params']:\n",
    "\n",
    "    data_target_users_test = pd.read_csv('/kaggle/input/recommender-system-2024-challenge-polimi/data_target_users_test.csv')\n",
    "    create_submission(data_target_users_test, recommender_instance, f'/kaggle/working/submission_{config[\"model\"]}.csv')"
   ]
  },
  {
   "cell_type": "markdown",
   "id": "93c141d8",
   "metadata": {
    "execution": {
     "iopub.execute_input": "2024-11-14T00:04:16.877791Z",
     "iopub.status.busy": "2024-11-14T00:04:16.877275Z",
     "iopub.status.idle": "2024-11-14T00:04:16.883170Z",
     "shell.execute_reply": "2024-11-14T00:04:16.881889Z",
     "shell.execute_reply.started": "2024-11-14T00:04:16.877743Z"
    },
    "papermill": {
     "duration": 0.051783,
     "end_time": "2024-12-03T05:20:49.853548",
     "exception": false,
     "start_time": "2024-12-03T05:20:49.801765",
     "status": "completed"
    },
    "tags": []
   },
   "source": [
    "# Save Version on GitHub "
   ]
  },
  {
   "cell_type": "markdown",
   "id": "24c64c9d",
   "metadata": {
    "papermill": {
     "duration": 0.039386,
     "end_time": "2024-12-03T05:20:49.932929",
     "exception": false,
     "start_time": "2024-12-03T05:20:49.893543",
     "status": "completed"
    },
    "tags": []
   },
   "source": [
    "Write or import a json file where best hyperparameters are saved. "
   ]
  },
  {
   "cell_type": "code",
   "execution_count": 20,
   "id": "5d7b0419",
   "metadata": {
    "execution": {
     "iopub.execute_input": "2024-12-03T05:20:50.013463Z",
     "iopub.status.busy": "2024-12-03T05:20:50.013087Z",
     "iopub.status.idle": "2024-12-03T05:20:51.335023Z",
     "shell.execute_reply": "2024-12-03T05:20:51.333652Z"
    },
    "papermill": {
     "duration": 1.364809,
     "end_time": "2024-12-03T05:20:51.337432",
     "exception": false,
     "start_time": "2024-12-03T05:20:49.972623",
     "status": "completed"
    },
    "tags": []
   },
   "outputs": [
    {
     "name": "stdout",
     "output_type": "stream",
     "text": [
      "File 'TrainedModels/WithoutKFCV/Hybrid/LinearCombination/SecondLinearCombinationRecommender/best_params_SecondLinearCombination.json' created successfully.\n"
     ]
    }
   ],
   "source": [
    "if config['tune_parameters']:\n",
    "    with open(f'/kaggle/working/best_params_{config[\"model\"]}.json', 'w') as params_file:\n",
    "        json.dump(optuna_study.best_params, params_file)\n",
    "        \n",
    "    if config['save_github']:\n",
    "        upload_file(\n",
    "            f'/kaggle/working/best_params_{config[\"model\"]}.json', \n",
    "            f'{GH_PATH}/{D_PATH}/{config[\"model\"]}Recommender/best_params_{config[\"model\"]}.json', \n",
    "            f'{config[\"model\"]} tuning results (from kaggle notebook)',\n",
    "            repo\n",
    "        )\n",
    "elif config['copy_prev_best_params']:\n",
    "    shutil.copyfile(\n",
    "        f'{K_PATH}/{GH_PATH}/{D_PATH}/{config[\"model\"]}Recommender/'\\\n",
    "        f'best_params_{config[\"model\"]}.json', \n",
    "        f'/kaggle/working/best_params_{config[\"model\"]}.json'\n",
    "    )"
   ]
  },
  {
   "cell_type": "markdown",
   "id": "a1150633",
   "metadata": {
    "execution": {
     "iopub.execute_input": "2024-11-14T00:41:34.294243Z",
     "iopub.status.busy": "2024-11-14T00:41:34.293739Z",
     "iopub.status.idle": "2024-11-14T00:41:34.301478Z",
     "shell.execute_reply": "2024-11-14T00:41:34.299869Z",
     "shell.execute_reply.started": "2024-11-14T00:41:34.294186Z"
    },
    "papermill": {
     "duration": 0.042762,
     "end_time": "2024-12-03T05:20:51.421355",
     "exception": false,
     "start_time": "2024-12-03T05:20:51.378593",
     "status": "completed"
    },
    "tags": []
   },
   "source": [
    "Save the history of the tuned model."
   ]
  },
  {
   "cell_type": "code",
   "execution_count": 21,
   "id": "b586cb42",
   "metadata": {
    "execution": {
     "iopub.execute_input": "2024-12-03T05:20:51.503345Z",
     "iopub.status.busy": "2024-12-03T05:20:51.502913Z",
     "iopub.status.idle": "2024-12-03T05:20:53.272006Z",
     "shell.execute_reply": "2024-12-03T05:20:53.270671Z"
    },
    "papermill": {
     "duration": 1.813244,
     "end_time": "2024-12-03T05:20:53.274441",
     "exception": false,
     "start_time": "2024-12-03T05:20:51.461197",
     "status": "completed"
    },
    "tags": []
   },
   "outputs": [
    {
     "name": "stdout",
     "output_type": "stream",
     "text": [
      "File 'TrainedModels/WithoutKFCV/Hybrid/LinearCombination/SecondLinearCombinationRecommender/history_SecondLinearCombination.db' created successfully.\n"
     ]
    }
   ],
   "source": [
    "if config['save_github'] and config['tune_parameters']:\n",
    "    upload_file(\n",
    "        config['database_path'], \n",
    "        f'{GH_PATH}/{D_PATH}/{config[\"model\"]}Recommender/history_{config[\"model\"]}.db',\n",
    "        f'Tuning {config[\"model\"]} db updated results (from kaggle notebook)',\n",
    "        repo\n",
    "    )"
   ]
  },
  {
   "cell_type": "markdown",
   "id": "fd8ab8f1",
   "metadata": {
    "papermill": {
     "duration": 0.039445,
     "end_time": "2024-12-03T05:20:53.355178",
     "exception": false,
     "start_time": "2024-12-03T05:20:53.315733",
     "status": "completed"
    },
    "tags": []
   },
   "source": [
    "Save the best trained model and its submission."
   ]
  },
  {
   "cell_type": "code",
   "execution_count": 22,
   "id": "fbc7546f",
   "metadata": {
    "execution": {
     "iopub.execute_input": "2024-12-03T05:20:53.438473Z",
     "iopub.status.busy": "2024-12-03T05:20:53.438072Z",
     "iopub.status.idle": "2024-12-03T05:20:53.443462Z",
     "shell.execute_reply": "2024-12-03T05:20:53.442399Z"
    },
    "papermill": {
     "duration": 0.050526,
     "end_time": "2024-12-03T05:20:53.445561",
     "exception": false,
     "start_time": "2024-12-03T05:20:53.395035",
     "status": "completed"
    },
    "tags": []
   },
   "outputs": [],
   "source": [
    "if config['save_github'] and config['tune_best_params']: \n",
    "    upload_file(\n",
    "                f'/kaggle/working/submission_{config[\"model\"]}.csv', \n",
    "                f'{GH_PATH}/{D_PATH}/{config[\"model\"]}Recommender/Submission/submission_{config[\"model\"]}.csv', \n",
    "                f'New {config[\"model\"]} submission (from kaggle notebook)',\n",
    "                repo\n",
    "            )"
   ]
  }
 ],
 "metadata": {
  "kaggle": {
   "accelerator": "none",
   "dataSources": [
    {
     "databundleVersionId": 9982103,
     "sourceId": 87439,
     "sourceType": "competition"
    }
   ],
   "isGpuEnabled": false,
   "isInternetEnabled": true,
   "language": "python",
   "sourceType": "notebook"
  },
  "kernelspec": {
   "display_name": "Python 3",
   "language": "python",
   "name": "python3"
  },
  "language_info": {
   "codemirror_mode": {
    "name": "ipython",
    "version": 3
   },
   "file_extension": ".py",
   "mimetype": "text/x-python",
   "name": "python",
   "nbconvert_exporter": "python",
   "pygments_lexer": "ipython3",
   "version": "3.10.14"
  },
  "papermill": {
   "default_parameters": {},
   "duration": 18684.793088,
   "end_time": "2024-12-03T05:20:54.509369",
   "environment_variables": {},
   "exception": null,
   "input_path": "__notebook__.ipynb",
   "output_path": "__notebook__.ipynb",
   "parameters": {},
   "start_time": "2024-12-03T00:09:29.716281",
   "version": "2.6.0"
  }
 },
 "nbformat": 4,
 "nbformat_minor": 5
}
