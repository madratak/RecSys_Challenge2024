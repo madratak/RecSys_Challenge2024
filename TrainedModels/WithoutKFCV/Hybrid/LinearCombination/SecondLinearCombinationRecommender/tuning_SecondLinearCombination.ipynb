{
 "cells": [
  {
   "cell_type": "markdown",
   "id": "6ca59b1a",
   "metadata": {
    "papermill": {
     "duration": 0.006771,
     "end_time": "2024-12-03T09:43:11.854738",
     "exception": false,
     "start_time": "2024-12-03T09:43:11.847967",
     "status": "completed"
    },
    "tags": []
   },
   "source": [
    "# Set connection with GitHub"
   ]
  },
  {
   "cell_type": "code",
   "execution_count": 1,
   "id": "00c3c1ba",
   "metadata": {
    "execution": {
     "iopub.execute_input": "2024-12-03T09:43:11.868051Z",
     "iopub.status.busy": "2024-12-03T09:43:11.867670Z",
     "iopub.status.idle": "2024-12-03T09:43:11.872770Z",
     "shell.execute_reply": "2024-12-03T09:43:11.871796Z"
    },
    "papermill": {
     "duration": 0.013799,
     "end_time": "2024-12-03T09:43:11.874855",
     "exception": false,
     "start_time": "2024-12-03T09:43:11.861056",
     "status": "completed"
    },
    "tags": []
   },
   "outputs": [],
   "source": [
    "# ! cd /kaggle/working && rm -rf RECsys_Challenge2024"
   ]
  },
  {
   "cell_type": "code",
   "execution_count": 2,
   "id": "8dcd852a",
   "metadata": {
    "_cell_guid": "b1076dfc-b9ad-4769-8c92-a6c4dae69d19",
    "_uuid": "8f2839f25d086af736a60e9eeb907d3b93b6e0e5",
    "execution": {
     "iopub.execute_input": "2024-12-03T09:43:11.889287Z",
     "iopub.status.busy": "2024-12-03T09:43:11.888428Z",
     "iopub.status.idle": "2024-12-03T09:43:25.724694Z",
     "shell.execute_reply": "2024-12-03T09:43:25.723414Z"
    },
    "papermill": {
     "duration": 13.846716,
     "end_time": "2024-12-03T09:43:25.727136",
     "exception": false,
     "start_time": "2024-12-03T09:43:11.880420",
     "status": "completed"
    },
    "tags": []
   },
   "outputs": [
    {
     "name": "stdout",
     "output_type": "stream",
     "text": [
      "Cloning into 'RECsys_Challenge2024'...\r\n",
      "remote: Enumerating objects: 3871, done.\u001b[K\r\n",
      "remote: Counting objects: 100% (1344/1344), done.\u001b[K\r\n",
      "remote: Compressing objects: 100% (550/550), done.\u001b[K\r\n",
      "remote: Total 3871 (delta 737), reused 1116 (delta 606), pack-reused 2527 (from 1)\u001b[K\r\n",
      "Receiving objects: 100% (3871/3871), 165.12 MiB | 21.58 MiB/s, done.\r\n",
      "Resolving deltas: 100% (2256/2256), done.\r\n",
      "Updating files: 100% (370/370), done.\r\n"
     ]
    }
   ],
   "source": [
    "from kaggle_secrets import UserSecretsClient\n",
    "\n",
    "token = UserSecretsClient().get_secret(\"Token\")\n",
    "\n",
    "! git clone https://{token}@github.com/madratak/RECsys_Challenge2024.git"
   ]
  },
  {
   "cell_type": "code",
   "execution_count": 3,
   "id": "9582d6bb",
   "metadata": {
    "execution": {
     "iopub.execute_input": "2024-12-03T09:43:25.747731Z",
     "iopub.status.busy": "2024-12-03T09:43:25.746765Z",
     "iopub.status.idle": "2024-12-03T09:43:37.474662Z",
     "shell.execute_reply": "2024-12-03T09:43:37.473293Z"
    },
    "papermill": {
     "duration": 11.74115,
     "end_time": "2024-12-03T09:43:37.477504",
     "exception": false,
     "start_time": "2024-12-03T09:43:25.736354",
     "status": "completed"
    },
    "tags": []
   },
   "outputs": [
    {
     "name": "stdout",
     "output_type": "stream",
     "text": [
      "Collecting PyGithub\r\n",
      "  Downloading PyGithub-2.5.0-py3-none-any.whl.metadata (3.9 kB)\r\n",
      "Requirement already satisfied: requests in /opt/conda/lib/python3.10/site-packages (2.32.3)\r\n",
      "Collecting pynacl>=1.4.0 (from PyGithub)\r\n",
      "  Downloading PyNaCl-1.5.0-cp36-abi3-manylinux_2_17_x86_64.manylinux2014_x86_64.manylinux_2_24_x86_64.whl.metadata (8.6 kB)\r\n",
      "Requirement already satisfied: pyjwt>=2.4.0 in /opt/conda/lib/python3.10/site-packages (from pyjwt[crypto]>=2.4.0->PyGithub) (2.8.0)\r\n",
      "Requirement already satisfied: typing-extensions>=4.0.0 in /opt/conda/lib/python3.10/site-packages (from PyGithub) (4.12.2)\r\n",
      "Requirement already satisfied: urllib3>=1.26.0 in /opt/conda/lib/python3.10/site-packages (from PyGithub) (1.26.18)\r\n",
      "Requirement already satisfied: Deprecated in /opt/conda/lib/python3.10/site-packages (from PyGithub) (1.2.14)\r\n",
      "Requirement already satisfied: charset-normalizer<4,>=2 in /opt/conda/lib/python3.10/site-packages (from requests) (3.3.2)\r\n",
      "Requirement already satisfied: idna<4,>=2.5 in /opt/conda/lib/python3.10/site-packages (from requests) (3.7)\r\n",
      "Requirement already satisfied: certifi>=2017.4.17 in /opt/conda/lib/python3.10/site-packages (from requests) (2024.6.2)\r\n",
      "Requirement already satisfied: cryptography>=3.4.0 in /opt/conda/lib/python3.10/site-packages (from pyjwt[crypto]>=2.4.0->PyGithub) (42.0.8)\r\n",
      "Requirement already satisfied: cffi>=1.4.1 in /opt/conda/lib/python3.10/site-packages (from pynacl>=1.4.0->PyGithub) (1.16.0)\r\n",
      "Requirement already satisfied: wrapt<2,>=1.10 in /opt/conda/lib/python3.10/site-packages (from Deprecated->PyGithub) (1.16.0)\r\n",
      "Requirement already satisfied: pycparser in /opt/conda/lib/python3.10/site-packages (from cffi>=1.4.1->pynacl>=1.4.0->PyGithub) (2.22)\r\n",
      "Downloading PyGithub-2.5.0-py3-none-any.whl (375 kB)\r\n",
      "\u001b[2K   \u001b[90m━━━━━━━━━━━━━━━━━━━━━━━━━━━━━━━━━━━━━━━━\u001b[0m \u001b[32m375.9/375.9 kB\u001b[0m \u001b[31m6.2 MB/s\u001b[0m eta \u001b[36m0:00:00\u001b[0m\r\n",
      "\u001b[?25hDownloading PyNaCl-1.5.0-cp36-abi3-manylinux_2_17_x86_64.manylinux2014_x86_64.manylinux_2_24_x86_64.whl (856 kB)\r\n",
      "\u001b[2K   \u001b[90m━━━━━━━━━━━━━━━━━━━━━━━━━━━━━━━━━━━━━━━━\u001b[0m \u001b[32m856.7/856.7 kB\u001b[0m \u001b[31m23.7 MB/s\u001b[0m eta \u001b[36m0:00:00\u001b[0m\r\n",
      "\u001b[?25hInstalling collected packages: pynacl, PyGithub\r\n",
      "Successfully installed PyGithub-2.5.0 pynacl-1.5.0\r\n"
     ]
    }
   ],
   "source": [
    "! pip install PyGithub requests"
   ]
  },
  {
   "cell_type": "code",
   "execution_count": 4,
   "id": "e14b64ac",
   "metadata": {
    "_kg_hide-input": false,
    "execution": {
     "iopub.execute_input": "2024-12-03T09:43:37.499406Z",
     "iopub.status.busy": "2024-12-03T09:43:37.498983Z",
     "iopub.status.idle": "2024-12-03T09:46:01.050517Z",
     "shell.execute_reply": "2024-12-03T09:46:01.049246Z"
    },
    "papermill": {
     "duration": 143.565503,
     "end_time": "2024-12-03T09:46:01.053076",
     "exception": false,
     "start_time": "2024-12-03T09:43:37.487573",
     "status": "completed"
    },
    "tags": []
   },
   "outputs": [
    {
     "name": "stdout",
     "output_type": "stream",
     "text": [
      "/kaggle/working/RECsys_Challenge2024\n",
      "run_compile_all_cython: Found 11 Cython files in 5 folders...\r\n",
      "run_compile_all_cython: All files will be compiled using your current python environment: '/opt/conda/bin/python'\r\n",
      "Compiling [1/11]: MatrixFactorization_Cython_Epoch.pyx... \r\n",
      "In file included from \u001b[01m\u001b[K/opt/conda/lib/python3.10/site-packages/numpy/core/include/numpy/ndarraytypes.h:1929\u001b[m\u001b[K,\r\n",
      "                 from \u001b[01m\u001b[K/opt/conda/lib/python3.10/site-packages/numpy/core/include/numpy/ndarrayobject.h:12\u001b[m\u001b[K,\r\n",
      "                 from \u001b[01m\u001b[K/opt/conda/lib/python3.10/site-packages/numpy/core/include/numpy/arrayobject.h:5\u001b[m\u001b[K,\r\n",
      "                 from \u001b[01m\u001b[KMatrixFactorization_Cython_Epoch.c:1252\u001b[m\u001b[K:\r\n",
      "\u001b[01m\u001b[K/opt/conda/lib/python3.10/site-packages/numpy/core/include/numpy/npy_1_7_deprecated_api.h:17:2:\u001b[m\u001b[K \u001b[01;35m\u001b[Kwarning: \u001b[m\u001b[K#warning \"Using deprecated NumPy API, disable it with \" \"#define NPY_NO_DEPRECATED_API NPY_1_7_API_VERSION\" [\u001b[01;35m\u001b[K-Wcpp\u001b[m\u001b[K]\r\n",
      "   17 | #\u001b[01;35m\u001b[Kwarning\u001b[m\u001b[K \"Using deprecated NumPy API, disable it with \" \\\r\n",
      "      |  \u001b[01;35m\u001b[K^~~~~~~\u001b[m\u001b[K\r\n",
      "\u001b[01m\u001b[KMatrixFactorization_Cython_Epoch.c:\u001b[m\u001b[K In function '\u001b[01m\u001b[K__pyx_pf_32MatrixFactorization_Cython_Epoch_32MatrixFactorization_Cython_Epoch_10epochIteration_Cython_ASY_SVD_SGD\u001b[m\u001b[K':\r\n",
      "\u001b[01m\u001b[KMatrixFactorization_Cython_Epoch.c:26255:9:\u001b[m\u001b[K \u001b[01;35m\u001b[Kwarning: \u001b[m\u001b[K'\u001b[01m\u001b[K__pyx_v_end_pos_seen_items\u001b[m\u001b[K' may be used uninitialized in this function [\u001b[01;35m\u001b[K-Wmaybe-uninitialized\u001b[m\u001b[K]\r\n",
      "26255 |         \u001b[01;35m\u001b[Kfor\u001b[m\u001b[K (__pyx_t_21 = __pyx_v_start_pos_seen_items; __pyx_t_21 < __pyx_t_20; __pyx_t_21+=1) {\r\n",
      "      |         \u001b[01;35m\u001b[K^~~\u001b[m\u001b[K\r\n",
      "\u001b[01m\u001b[KMatrixFactorization_Cython_Epoch.c:26255:9:\u001b[m\u001b[K \u001b[01;35m\u001b[Kwarning: \u001b[m\u001b[K'\u001b[01m\u001b[K__pyx_v_start_pos_seen_items\u001b[m\u001b[K' may be used uninitialized in this function [\u001b[01;35m\u001b[K-Wmaybe-uninitialized\u001b[m\u001b[K]\r\n",
      "/opt/conda/lib/python3.10/site-packages/Cython/Compiler/Main.py:381: FutureWarning: Cython directive 'language_level' not set, using '3str' for now (Py3). This has changed from earlier releases! File: /kaggle/working/RECsys_Challenge2024/Recommenders/MatrixFactorization/Cython/MatrixFactorization_Cython_Epoch.pyx\r\n",
      "  tree = Parsing.p_module(s, pxd, full_module_name)\r\n",
      "Compiling [1/11]: MatrixFactorization_Cython_Epoch.pyx... PASS\r\n",
      "\r\n",
      "Compiling [2/11]: MatrixFactorizationImpressions_Cython_Epoch.pyx... \r\n",
      "In file included from \u001b[01m\u001b[K/opt/conda/lib/python3.10/site-packages/numpy/core/include/numpy/ndarraytypes.h:1929\u001b[m\u001b[K,\r\n",
      "                 from \u001b[01m\u001b[K/opt/conda/lib/python3.10/site-packages/numpy/core/include/numpy/ndarrayobject.h:12\u001b[m\u001b[K,\r\n",
      "                 from \u001b[01m\u001b[K/opt/conda/lib/python3.10/site-packages/numpy/core/include/numpy/arrayobject.h:5\u001b[m\u001b[K,\r\n",
      "                 from \u001b[01m\u001b[KMatrixFactorizationImpressions_Cython_Epoch.c:1252\u001b[m\u001b[K:\r\n",
      "\u001b[01m\u001b[K/opt/conda/lib/python3.10/site-packages/numpy/core/include/numpy/npy_1_7_deprecated_api.h:17:2:\u001b[m\u001b[K \u001b[01;35m\u001b[Kwarning: \u001b[m\u001b[K#warning \"Using deprecated NumPy API, disable it with \" \"#define NPY_NO_DEPRECATED_API NPY_1_7_API_VERSION\" [\u001b[01;35m\u001b[K-Wcpp\u001b[m\u001b[K]\r\n",
      "   17 | #\u001b[01;35m\u001b[Kwarning\u001b[m\u001b[K \"Using deprecated NumPy API, disable it with \" \\\r\n",
      "      |  \u001b[01;35m\u001b[K^~~~~~~\u001b[m\u001b[K\r\n",
      "\u001b[01m\u001b[KMatrixFactorizationImpressions_Cython_Epoch.c:\u001b[m\u001b[K In function '\u001b[01m\u001b[K__pyx_f_43MatrixFactorizationImpressions_Cython_Epoch_32MatrixFactorization_Cython_Epoch_sampleBPR_Cython\u001b[m\u001b[K':\r\n",
      "\u001b[01m\u001b[KMatrixFactorizationImpressions_Cython_Epoch.c:30351:17:\u001b[m\u001b[K \u001b[01;35m\u001b[Kwarning: \u001b[m\u001b[K'\u001b[01m\u001b[K__pyx_v_start_pos_impression_items\u001b[m\u001b[K' may be used uninitialized in this function [\u001b[01;35m\u001b[K-Wmaybe-uninitialized\u001b[m\u001b[K]\r\n",
      "30351 |       \u001b[01;35m\u001b[K__pyx_t_4 = (__pyx_v_start_pos_impression_items + __pyx_v_index)\u001b[m\u001b[K;\r\n",
      "      |       \u001b[01;35m\u001b[K~~~~~~~~~~^~~~~~~~~~~~~~~~~~~~~~~~~~~~~~~~~~~~~~~~~~~~~~~~~~~~~~\u001b[m\u001b[K\r\n",
      "\u001b[01m\u001b[KMatrixFactorizationImpressions_Cython_Epoch.c:\u001b[m\u001b[K In function '\u001b[01m\u001b[K__pyx_pf_43MatrixFactorizationImpressions_Cython_Epoch_32MatrixFactorization_Cython_Epoch_10epochIteration_Cython_ASY_SVD_SGD\u001b[m\u001b[K':\r\n",
      "\u001b[01m\u001b[KMatrixFactorizationImpressions_Cython_Epoch.c:26111:7:\u001b[m\u001b[K \u001b[01;35m\u001b[Kwarning: \u001b[m\u001b[K'\u001b[01m\u001b[K__pyx_v_end_pos_seen_items\u001b[m\u001b[K' may be used uninitialized in this function [\u001b[01;35m\u001b[K-Wmaybe-uninitialized\u001b[m\u001b[K]\r\n",
      "26111 |       \u001b[01;35m\u001b[Kfor\u001b[m\u001b[K (__pyx_t_21 = __pyx_v_start_pos_seen_items; __pyx_t_21 < __pyx_t_20; __pyx_t_21+=1) {\r\n",
      "      |       \u001b[01;35m\u001b[K^~~\u001b[m\u001b[K\r\n",
      "\u001b[01m\u001b[KMatrixFactorizationImpressions_Cython_Epoch.c:26111:7:\u001b[m\u001b[K \u001b[01;35m\u001b[Kwarning: \u001b[m\u001b[K'\u001b[01m\u001b[K__pyx_v_start_pos_seen_items\u001b[m\u001b[K' may be used uninitialized in this function [\u001b[01;35m\u001b[K-Wmaybe-uninitialized\u001b[m\u001b[K]\r\n",
      "/opt/conda/lib/python3.10/site-packages/Cython/Compiler/Main.py:381: FutureWarning: Cython directive 'language_level' not set, using '3str' for now (Py3). This has changed from earlier releases! File: /kaggle/working/RECsys_Challenge2024/Recommenders/MatrixFactorization/Cython/MatrixFactorizationImpressions_Cython_Epoch.pyx\r\n",
      "  tree = Parsing.p_module(s, pxd, full_module_name)\r\n",
      "Compiling [2/11]: MatrixFactorizationImpressions_Cython_Epoch.pyx... PASS\r\n",
      "\r\n",
      "Compiling [3/11]: Compute_Similarity_Cython.pyx... \r\n",
      "warning: Compute_Similarity_Cython.pyx:21:0: The 'IF' statement is deprecated and will be removed in a future Cython version. Consider using runtime conditions or C macros instead. See https://github.com/cython/cython/issues/4310\r\n",
      "In file included from \u001b[01m\u001b[K/opt/conda/lib/python3.10/site-packages/numpy/core/include/numpy/ndarraytypes.h:1929\u001b[m\u001b[K,\r\n",
      "                 from \u001b[01m\u001b[K/opt/conda/lib/python3.10/site-packages/numpy/core/include/numpy/ndarrayobject.h:12\u001b[m\u001b[K,\r\n",
      "                 from \u001b[01m\u001b[K/opt/conda/lib/python3.10/site-packages/numpy/core/include/numpy/arrayobject.h:5\u001b[m\u001b[K,\r\n",
      "                 from \u001b[01m\u001b[KCompute_Similarity_Cython.c:1252\u001b[m\u001b[K:\r\n",
      "\u001b[01m\u001b[K/opt/conda/lib/python3.10/site-packages/numpy/core/include/numpy/npy_1_7_deprecated_api.h:17:2:\u001b[m\u001b[K \u001b[01;35m\u001b[Kwarning: \u001b[m\u001b[K#warning \"Using deprecated NumPy API, disable it with \" \"#define NPY_NO_DEPRECATED_API NPY_1_7_API_VERSION\" [\u001b[01;35m\u001b[K-Wcpp\u001b[m\u001b[K]\r\n",
      "   17 | #\u001b[01;35m\u001b[Kwarning\u001b[m\u001b[K \"Using deprecated NumPy API, disable it with \" \\\r\n",
      "      |  \u001b[01;35m\u001b[K^~~~~~~\u001b[m\u001b[K\r\n",
      "/opt/conda/lib/python3.10/site-packages/Cython/Compiler/Main.py:381: FutureWarning: Cython directive 'language_level' not set, using '3str' for now (Py3). This has changed from earlier releases! File: /kaggle/working/RECsys_Challenge2024/Recommenders/Similarity/Cython/Compute_Similarity_Cython.pyx\r\n",
      "  tree = Parsing.p_module(s, pxd, full_module_name)\r\n",
      "warning: Compute_Similarity_Cython.pyx:21:0: The 'IF' statement is deprecated and will be removed in a future Cython version. Consider using runtime conditions or C macros instead. See https://github.com/cython/cython/issues/4310\r\n",
      "Compiling [3/11]: Compute_Similarity_Cython.pyx... PASS\r\n",
      "\r\n",
      "Compiling [4/11]: Sparse_Matrix_Tree_CSR.pyx... \r\n",
      "warning: Sparse_Matrix_Tree_CSR.pyx:132:34: Non-trivial type declarators in shared declaration (e.g. mix of pointers and values). Each pointer declaration should be on its own line.\r\n",
      "warning: Sparse_Matrix_Tree_CSR.pyx:132:66: Non-trivial type declarators in shared declaration (e.g. mix of pointers and values). Each pointer declaration should be on its own line.\r\n",
      "warning: Sparse_Matrix_Tree_CSR.pyx:343:35: Non-trivial type declarators in shared declaration (e.g. mix of pointers and values). Each pointer declaration should be on its own line.\r\n",
      "warning: Sparse_Matrix_Tree_CSR.pyx:343:52: Non-trivial type declarators in shared declaration (e.g. mix of pointers and values). Each pointer declaration should be on its own line.\r\n",
      "warning: Sparse_Matrix_Tree_CSR.pyx:442:35: Non-trivial type declarators in shared declaration (e.g. mix of pointers and values). Each pointer declaration should be on its own line.\r\n",
      "warning: Sparse_Matrix_Tree_CSR.pyx:442:53: Non-trivial type declarators in shared declaration (e.g. mix of pointers and values). Each pointer declaration should be on its own line.\r\n",
      "warning: Sparse_Matrix_Tree_CSR.pyx:442:69: Non-trivial type declarators in shared declaration (e.g. mix of pointers and values). Each pointer declaration should be on its own line.\r\n",
      "warning: Sparse_Matrix_Tree_CSR.pyx:577:35: Non-trivial type declarators in shared declaration (e.g. mix of pointers and values). Each pointer declaration should be on its own line.\r\n",
      "warning: Sparse_Matrix_Tree_CSR.pyx:577:42: Non-trivial type declarators in shared declaration (e.g. mix of pointers and values). Each pointer declaration should be on its own line.\r\n",
      "warning: Sparse_Matrix_Tree_CSR.pyx:578:35: Non-trivial type declarators in shared declaration (e.g. mix of pointers and values). Each pointer declaration should be on its own line.\r\n",
      "warning: Sparse_Matrix_Tree_CSR.pyx:578:53: Non-trivial type declarators in shared declaration (e.g. mix of pointers and values). Each pointer declaration should be on its own line.\r\n",
      "\r\n",
      "Error compiling Cython file:\r\n",
      "------------------------------------------------------------\r\n",
      "...\r\n",
      "            vector_pointer_to_list_elements[index].head = current_element\r\n",
      "            current_element = current_element.higher\r\n",
      "\r\n",
      "\r\n",
      "        # Sort array elements on their data field\r\n",
      "        qsort(vector_pointer_to_list_elements, list_length, sizeof(head_pointer_tree_s), compare_struct_on_data)\r\n",
      "                                                                                         ^\r\n",
      "------------------------------------------------------------\r\n",
      "\r\n",
      "Sparse_Matrix_Tree_CSR.pyx:516:89: Cannot assign type 'int (const void *, const void *) except? -1' to 'int (*)(const_void *, const_void *) noexcept'. Exception values are incompatible. Suggest adding 'noexcept' to the type of 'compare_struct_on_data'.\r\n",
      "\r\n",
      "Error compiling Cython file:\r\n",
      "------------------------------------------------------------\r\n",
      "...\r\n",
      "        # Sort array elements on their data field\r\n",
      "        qsort(vector_pointer_to_list_elements, list_length, sizeof(head_pointer_tree_s), compare_struct_on_data)\r\n",
      "\r\n",
      "        # Sort only the TopK according to their column field\r\n",
      "        # Sort is from lower to higher, therefore the elements to be considered are from len-topK to len\r\n",
      "        qsort(&vector_pointer_to_list_elements[list_length-TopK], TopK, sizeof(head_pointer_tree_s), compare_struct_on_column)\r\n",
      "                                                                                                     ^\r\n",
      "------------------------------------------------------------\r\n",
      "\r\n",
      "Sparse_Matrix_Tree_CSR.pyx:520:101: Cannot assign type 'int (const void *, const void *) except? -1' to 'int (*)(const_void *, const_void *) noexcept'. Exception values are incompatible. Suggest adding 'noexcept' to the type of 'compare_struct_on_column'.\r\n",
      "Traceback (most recent call last):\r\n",
      "  File \"/kaggle/working/RECsys_Challenge2024/CythonCompiler/compile_script.py\", line 48, in <module>\r\n",
      "    setup(\r\n",
      "  File \"/opt/conda/lib/python3.10/site-packages/setuptools/__init__.py\", line 103, in setup\r\n",
      "    return distutils.core.setup(**attrs)\r\n",
      "  File \"/opt/conda/lib/python3.10/site-packages/setuptools/_distutils/core.py\", line 184, in setup\r\n",
      "    return run_commands(dist)\r\n",
      "  File \"/opt/conda/lib/python3.10/site-packages/setuptools/_distutils/core.py\", line 200, in run_commands\r\n",
      "    dist.run_commands()\r\n",
      "  File \"/opt/conda/lib/python3.10/site-packages/setuptools/_distutils/dist.py\", line 969, in run_commands\r\n",
      "    self.run_command(cmd)\r\n",
      "  File \"/opt/conda/lib/python3.10/site-packages/setuptools/dist.py\", line 968, in run_command\r\n",
      "    super().run_command(command)\r\n",
      "  File \"/opt/conda/lib/python3.10/site-packages/setuptools/_distutils/dist.py\", line 988, in run_command\r\n",
      "    cmd_obj.run()\r\n",
      "  File \"/opt/conda/lib/python3.10/site-packages/setuptools/_distutils/command/build_ext.py\", line 359, in run\r\n",
      "    self.build_extensions()\r\n",
      "  File \"/opt/conda/lib/python3.10/site-packages/setuptools/_distutils/command/build_ext.py\", line 479, in build_extensions\r\n",
      "    self._build_extensions_serial()\r\n",
      "  File \"/opt/conda/lib/python3.10/site-packages/setuptools/_distutils/command/build_ext.py\", line 505, in _build_extensions_serial\r\n",
      "    self.build_extension(ext)\r\n",
      "  File \"/opt/conda/lib/python3.10/site-packages/Cython/Distutils/build_ext.py\", line 130, in build_extension\r\n",
      "    new_ext = cythonize(\r\n",
      "  File \"/opt/conda/lib/python3.10/site-packages/Cython/Build/Dependencies.py\", line 1154, in cythonize\r\n",
      "    cythonize_one(*args)\r\n",
      "  File \"/opt/conda/lib/python3.10/site-packages/Cython/Build/Dependencies.py\", line 1321, in cythonize_one\r\n",
      "    raise CompileError(None, pyx_file)\r\n",
      "Cython.Compiler.Errors.CompileError: Sparse_Matrix_Tree_CSR.pyx\r\n",
      "Traceback (most recent call last):\r\n",
      "  File \"/kaggle/working/RECsys_Challenge2024/run_compile_all_cython.py\", line 60, in <module>\r\n",
      "    run_compile_subprocess(file_path, [file_name])\r\n",
      "  File \"/kaggle/working/RECsys_Challenge2024/CythonCompiler/run_compile_subprocess.py\", line 51, in run_compile_subprocess\r\n",
      "    raise exc\r\n",
      "  File \"/kaggle/working/RECsys_Challenge2024/CythonCompiler/run_compile_subprocess.py\", line 32, in run_compile_subprocess\r\n",
      "    output = subprocess.check_output(' '.join(command),\r\n",
      "  File \"/opt/conda/lib/python3.10/subprocess.py\", line 421, in check_output\r\n",
      "    return run(*popenargs, stdout=PIPE, timeout=timeout, check=True,\r\n",
      "  File \"/opt/conda/lib/python3.10/subprocess.py\", line 526, in run\r\n",
      "    raise CalledProcessError(retcode, process.args,\r\n",
      "subprocess.CalledProcessError: Command '/opt/conda/bin/python /kaggle/working/RECsys_Challenge2024/CythonCompiler/compile_script.py Sparse_Matrix_Tree_CSR.pyx build_ext --inplace' returned non-zero exit status 1.\r\n",
      "Compiling [4/11]: Sparse_Matrix_Tree_CSR.pyx... FAIL: Command '/opt/conda/bin/python /kaggle/working/RECsys_Challenge2024/CythonCompiler/compile_script.py Sparse_Matrix_Tree_CSR.pyx build_ext --inplace' returned non-zero exit status 1.\r\n",
      "\r\n",
      "Compiling [5/11]: Triangular_Matrix.pyx... \r\n",
      "warning: Triangular_Matrix.pyx:22:0: The 'IF' statement is deprecated and will be removed in a future Cython version. Consider using runtime conditions or C macros instead. See https://github.com/cython/cython/issues/4310\r\n",
      "In file included from \u001b[01m\u001b[K/opt/conda/lib/python3.10/site-packages/numpy/core/include/numpy/ndarraytypes.h:1929\u001b[m\u001b[K,\r\n",
      "                 from \u001b[01m\u001b[K/opt/conda/lib/python3.10/site-packages/numpy/core/include/numpy/ndarrayobject.h:12\u001b[m\u001b[K,\r\n",
      "                 from \u001b[01m\u001b[K/opt/conda/lib/python3.10/site-packages/numpy/core/include/numpy/arrayobject.h:5\u001b[m\u001b[K,\r\n",
      "                 from \u001b[01m\u001b[KTriangular_Matrix.c:1252\u001b[m\u001b[K:\r\n",
      "\u001b[01m\u001b[K/opt/conda/lib/python3.10/site-packages/numpy/core/include/numpy/npy_1_7_deprecated_api.h:17:2:\u001b[m\u001b[K \u001b[01;35m\u001b[Kwarning: \u001b[m\u001b[K#warning \"Using deprecated NumPy API, disable it with \" \"#define NPY_NO_DEPRECATED_API NPY_1_7_API_VERSION\" [\u001b[01;35m\u001b[K-Wcpp\u001b[m\u001b[K]\r\n",
      "   17 | #\u001b[01;35m\u001b[Kwarning\u001b[m\u001b[K \"Using deprecated NumPy API, disable it with \" \\\r\n",
      "      |  \u001b[01;35m\u001b[K^~~~~~~\u001b[m\u001b[K\r\n",
      "/opt/conda/lib/python3.10/site-packages/Cython/Compiler/Main.py:381: FutureWarning: Cython directive 'language_level' not set, using '3str' for now (Py3). This has changed from earlier releases! File: /kaggle/working/RECsys_Challenge2024/Recommenders/SLIM/Cython/Triangular_Matrix.pyx\r\n",
      "  tree = Parsing.p_module(s, pxd, full_module_name)\r\n",
      "warning: Triangular_Matrix.pyx:22:0: The 'IF' statement is deprecated and will be removed in a future Cython version. Consider using runtime conditions or C macros instead. See https://github.com/cython/cython/issues/4310\r\n",
      "Compiling [5/11]: Triangular_Matrix.pyx... PASS\r\n",
      "\r\n",
      "Compiling [6/11]: SLIM_BPR_Cython_Epoch.pyx... \r\n",
      "warning: SLIM_BPR_Cython_Epoch.pyx:24:0: The 'IF' statement is deprecated and will be removed in a future Cython version. Consider using runtime conditions or C macros instead. See https://github.com/cython/cython/issues/4310\r\n",
      "warning: SLIM_BPR_Cython_Epoch.pyx:632:34: Non-trivial type declarators in shared declaration (e.g. mix of pointers and values). Each pointer declaration should be on its own line.\r\n",
      "warning: SLIM_BPR_Cython_Epoch.pyx:632:66: Non-trivial type declarators in shared declaration (e.g. mix of pointers and values). Each pointer declaration should be on its own line.\r\n",
      "warning: SLIM_BPR_Cython_Epoch.pyx:817:35: Non-trivial type declarators in shared declaration (e.g. mix of pointers and values). Each pointer declaration should be on its own line.\r\n",
      "warning: SLIM_BPR_Cython_Epoch.pyx:817:52: Non-trivial type declarators in shared declaration (e.g. mix of pointers and values). Each pointer declaration should be on its own line.\r\n",
      "warning: SLIM_BPR_Cython_Epoch.pyx:916:35: Non-trivial type declarators in shared declaration (e.g. mix of pointers and values). Each pointer declaration should be on its own line.\r\n",
      "warning: SLIM_BPR_Cython_Epoch.pyx:916:53: Non-trivial type declarators in shared declaration (e.g. mix of pointers and values). Each pointer declaration should be on its own line.\r\n",
      "warning: SLIM_BPR_Cython_Epoch.pyx:916:69: Non-trivial type declarators in shared declaration (e.g. mix of pointers and values). Each pointer declaration should be on its own line.\r\n",
      "warning: SLIM_BPR_Cython_Epoch.pyx:1051:35: Non-trivial type declarators in shared declaration (e.g. mix of pointers and values). Each pointer declaration should be on its own line.\r\n",
      "warning: SLIM_BPR_Cython_Epoch.pyx:1051:42: Non-trivial type declarators in shared declaration (e.g. mix of pointers and values). Each pointer declaration should be on its own line.\r\n",
      "warning: SLIM_BPR_Cython_Epoch.pyx:1052:35: Non-trivial type declarators in shared declaration (e.g. mix of pointers and values). Each pointer declaration should be on its own line.\r\n",
      "warning: SLIM_BPR_Cython_Epoch.pyx:1052:53: Non-trivial type declarators in shared declaration (e.g. mix of pointers and values). Each pointer declaration should be on its own line.\r\n",
      "\r\n",
      "Error compiling Cython file:\r\n",
      "------------------------------------------------------------\r\n",
      "...\r\n",
      "            vector_pointer_to_list_elements[index].head = current_element\r\n",
      "            current_element = current_element.higher\r\n",
      "\r\n",
      "\r\n",
      "        # Sort array elements on their data field\r\n",
      "        qsort(vector_pointer_to_list_elements, list_length, sizeof(head_pointer_tree_s), compare_struct_on_data)\r\n",
      "                                                                                         ^\r\n",
      "------------------------------------------------------------\r\n",
      "\r\n",
      "SLIM_BPR_Cython_Epoch.pyx:990:89: Cannot assign type 'int (const void *, const void *) except? -1' to 'int (*)(const_void *, const_void *) noexcept'. Exception values are incompatible. Suggest adding 'noexcept' to the type of 'compare_struct_on_data'.\r\n",
      "\r\n",
      "Error compiling Cython file:\r\n",
      "------------------------------------------------------------\r\n",
      "...\r\n",
      "        # Sort array elements on their data field\r\n",
      "        qsort(vector_pointer_to_list_elements, list_length, sizeof(head_pointer_tree_s), compare_struct_on_data)\r\n",
      "\r\n",
      "        # Sort only the TopK according to their column field\r\n",
      "        # Sort is from lower to higher, therefore the elements to be considered are from len-topK to len\r\n",
      "        qsort(&vector_pointer_to_list_elements[list_length-TopK], TopK, sizeof(head_pointer_tree_s), compare_struct_on_column)\r\n",
      "                                                                                                     ^\r\n",
      "------------------------------------------------------------\r\n",
      "\r\n",
      "SLIM_BPR_Cython_Epoch.pyx:994:101: Cannot assign type 'int (const void *, const void *) except? -1' to 'int (*)(const_void *, const_void *) noexcept'. Exception values are incompatible. Suggest adding 'noexcept' to the type of 'compare_struct_on_column'.\r\n",
      "Traceback (most recent call last):\r\n",
      "  File \"/kaggle/working/RECsys_Challenge2024/CythonCompiler/compile_script.py\", line 48, in <module>\r\n",
      "    setup(\r\n",
      "  File \"/opt/conda/lib/python3.10/site-packages/setuptools/__init__.py\", line 103, in setup\r\n",
      "    return distutils.core.setup(**attrs)\r\n",
      "  File \"/opt/conda/lib/python3.10/site-packages/setuptools/_distutils/core.py\", line 184, in setup\r\n",
      "    return run_commands(dist)\r\n",
      "  File \"/opt/conda/lib/python3.10/site-packages/setuptools/_distutils/core.py\", line 200, in run_commands\r\n",
      "    dist.run_commands()\r\n",
      "  File \"/opt/conda/lib/python3.10/site-packages/setuptools/_distutils/dist.py\", line 969, in run_commands\r\n",
      "    self.run_command(cmd)\r\n",
      "  File \"/opt/conda/lib/python3.10/site-packages/setuptools/dist.py\", line 968, in run_command\r\n",
      "    super().run_command(command)\r\n",
      "  File \"/opt/conda/lib/python3.10/site-packages/setuptools/_distutils/dist.py\", line 988, in run_command\r\n",
      "    cmd_obj.run()\r\n",
      "  File \"/opt/conda/lib/python3.10/site-packages/setuptools/_distutils/command/build_ext.py\", line 359, in run\r\n",
      "    self.build_extensions()\r\n",
      "  File \"/opt/conda/lib/python3.10/site-packages/setuptools/_distutils/command/build_ext.py\", line 479, in build_extensions\r\n",
      "    self._build_extensions_serial()\r\n",
      "  File \"/opt/conda/lib/python3.10/site-packages/setuptools/_distutils/command/build_ext.py\", line 505, in _build_extensions_serial\r\n",
      "    self.build_extension(ext)\r\n",
      "  File \"/opt/conda/lib/python3.10/site-packages/Cython/Distutils/build_ext.py\", line 130, in build_extension\r\n",
      "    new_ext = cythonize(\r\n",
      "  File \"/opt/conda/lib/python3.10/site-packages/Cython/Build/Dependencies.py\", line 1154, in cythonize\r\n",
      "    cythonize_one(*args)\r\n",
      "  File \"/opt/conda/lib/python3.10/site-packages/Cython/Build/Dependencies.py\", line 1321, in cythonize_one\r\n",
      "    raise CompileError(None, pyx_file)\r\n",
      "Cython.Compiler.Errors.CompileError: SLIM_BPR_Cython_Epoch.pyx\r\n",
      "Traceback (most recent call last):\r\n",
      "  File \"/kaggle/working/RECsys_Challenge2024/run_compile_all_cython.py\", line 60, in <module>\r\n",
      "    run_compile_subprocess(file_path, [file_name])\r\n",
      "  File \"/kaggle/working/RECsys_Challenge2024/CythonCompiler/run_compile_subprocess.py\", line 51, in run_compile_subprocess\r\n",
      "    raise exc\r\n",
      "  File \"/kaggle/working/RECsys_Challenge2024/CythonCompiler/run_compile_subprocess.py\", line 32, in run_compile_subprocess\r\n",
      "    output = subprocess.check_output(' '.join(command),\r\n",
      "  File \"/opt/conda/lib/python3.10/subprocess.py\", line 421, in check_output\r\n",
      "    return run(*popenargs, stdout=PIPE, timeout=timeout, check=True,\r\n",
      "  File \"/opt/conda/lib/python3.10/subprocess.py\", line 526, in run\r\n",
      "    raise CalledProcessError(retcode, process.args,\r\n",
      "subprocess.CalledProcessError: Command '/opt/conda/bin/python /kaggle/working/RECsys_Challenge2024/CythonCompiler/compile_script.py SLIM_BPR_Cython_Epoch.pyx build_ext --inplace' returned non-zero exit status 1.\r\n",
      "Compiling [6/11]: SLIM_BPR_Cython_Epoch.pyx... FAIL: Command '/opt/conda/bin/python /kaggle/working/RECsys_Challenge2024/CythonCompiler/compile_script.py SLIM_BPR_Cython_Epoch.pyx build_ext --inplace' returned non-zero exit status 1.\r\n",
      "\r\n",
      "Compiling [7/11]: FBSM_Rating_Cython_SGD.pyx... \r\n",
      "In file included from \u001b[01m\u001b[K/opt/conda/lib/python3.10/site-packages/numpy/core/include/numpy/ndarraytypes.h:1929\u001b[m\u001b[K,\r\n",
      "                 from \u001b[01m\u001b[K/opt/conda/lib/python3.10/site-packages/numpy/core/include/numpy/ndarrayobject.h:12\u001b[m\u001b[K,\r\n",
      "                 from \u001b[01m\u001b[K/opt/conda/lib/python3.10/site-packages/numpy/core/include/numpy/arrayobject.h:5\u001b[m\u001b[K,\r\n",
      "                 from \u001b[01m\u001b[KFBSM_Rating_Cython_SGD.c:1252\u001b[m\u001b[K:\r\n",
      "\u001b[01m\u001b[K/opt/conda/lib/python3.10/site-packages/numpy/core/include/numpy/npy_1_7_deprecated_api.h:17:2:\u001b[m\u001b[K \u001b[01;35m\u001b[Kwarning: \u001b[m\u001b[K#warning \"Using deprecated NumPy API, disable it with \" \"#define NPY_NO_DEPRECATED_API NPY_1_7_API_VERSION\" [\u001b[01;35m\u001b[K-Wcpp\u001b[m\u001b[K]\r\n",
      "   17 | #\u001b[01;35m\u001b[Kwarning\u001b[m\u001b[K \"Using deprecated NumPy API, disable it with \" \\\r\n",
      "      |  \u001b[01;35m\u001b[K^~~~~~~\u001b[m\u001b[K\r\n",
      "\u001b[01m\u001b[KFBSM_Rating_Cython_SGD.c:\u001b[m\u001b[K In function '\u001b[01m\u001b[K__pyx_pf_22FBSM_Rating_Cython_SGD_22FBSM_Rating_Cython_SGD_2fit\u001b[m\u001b[K':\r\n",
      "\u001b[01m\u001b[KFBSM_Rating_Cython_SGD.c:26607:55:\u001b[m\u001b[K \u001b[01;35m\u001b[Kwarning: \u001b[m\u001b[K'\u001b[01m\u001b[K__pyx_v_num_sample\u001b[m\u001b[K' may be used uninitialized in this function [\u001b[01;35m\u001b[K-Wmaybe-uninitialized\u001b[m\u001b[K]\r\n",
      "26607 |   __pyx_t_5 = PyFloat_FromDouble((__pyx_v_cum_loss / \u001b[01;35m\u001b[K((double)__pyx_v_num_sample)\u001b[m\u001b[K)); if (unlikely(!__pyx_t_5)) __PYX_ERR(0, 551, __pyx_L1_error)\r\n",
      "      |                                                      \u001b[01;35m\u001b[K~^~~~~~~~~~~~~~~~~~~~~~~~~~~\u001b[m\u001b[K\r\n",
      "/opt/conda/lib/python3.10/site-packages/Cython/Compiler/Main.py:381: FutureWarning: Cython directive 'language_level' not set, using '3str' for now (Py3). This has changed from earlier releases! File: /kaggle/working/RECsys_Challenge2024/Recommenders/FeatureWeighting/Cython/FBSM_Rating_Cython_SGD.pyx\r\n",
      "  tree = Parsing.p_module(s, pxd, full_module_name)\r\n",
      "Compiling [7/11]: FBSM_Rating_Cython_SGD.pyx... PASS\r\n",
      "\r\n",
      "Compiling [8/11]: CFW_DVV_Similarity_Cython_SGD.pyx... \r\n",
      "In file included from \u001b[01m\u001b[K/opt/conda/lib/python3.10/site-packages/numpy/core/include/numpy/ndarraytypes.h:1929\u001b[m\u001b[K,\r\n",
      "                 from \u001b[01m\u001b[K/opt/conda/lib/python3.10/site-packages/numpy/core/include/numpy/ndarrayobject.h:12\u001b[m\u001b[K,\r\n",
      "                 from \u001b[01m\u001b[K/opt/conda/lib/python3.10/site-packages/numpy/core/include/numpy/arrayobject.h:5\u001b[m\u001b[K,\r\n",
      "                 from \u001b[01m\u001b[KCFW_DVV_Similarity_Cython_SGD.c:1252\u001b[m\u001b[K:\r\n",
      "\u001b[01m\u001b[K/opt/conda/lib/python3.10/site-packages/numpy/core/include/numpy/npy_1_7_deprecated_api.h:17:2:\u001b[m\u001b[K \u001b[01;35m\u001b[Kwarning: \u001b[m\u001b[K#warning \"Using deprecated NumPy API, disable it with \" \"#define NPY_NO_DEPRECATED_API NPY_1_7_API_VERSION\" [\u001b[01;35m\u001b[K-Wcpp\u001b[m\u001b[K]\r\n",
      "   17 | #\u001b[01;35m\u001b[Kwarning\u001b[m\u001b[K \"Using deprecated NumPy API, disable it with \" \\\r\n",
      "      |  \u001b[01;35m\u001b[K^~~~~~~\u001b[m\u001b[K\r\n",
      "/opt/conda/lib/python3.10/site-packages/Cython/Compiler/Main.py:381: FutureWarning: Cython directive 'language_level' not set, using '3str' for now (Py3). This has changed from earlier releases! File: /kaggle/working/RECsys_Challenge2024/Recommenders/FeatureWeighting/Cython/CFW_DVV_Similarity_Cython_SGD.pyx\r\n",
      "  tree = Parsing.p_module(s, pxd, full_module_name)\r\n",
      "Compiling [8/11]: CFW_DVV_Similarity_Cython_SGD.pyx... PASS\r\n",
      "\r\n",
      "Compiling [9/11]: HP3_Similarity_Cython_SGD.pyx... \r\n",
      "performance hint: HP3_Similarity_Cython_SGD.pyx:113:40: Index should be typed for more efficient access\r\n",
      "performance hint: HP3_Similarity_Cython_SGD.pyx:114:40: Index should be typed for more efficient access\r\n",
      "In file included from \u001b[01m\u001b[K/opt/conda/lib/python3.10/site-packages/numpy/core/include/numpy/ndarraytypes.h:1929\u001b[m\u001b[K,\r\n",
      "                 from \u001b[01m\u001b[K/opt/conda/lib/python3.10/site-packages/numpy/core/include/numpy/ndarrayobject.h:12\u001b[m\u001b[K,\r\n",
      "                 from \u001b[01m\u001b[K/opt/conda/lib/python3.10/site-packages/numpy/core/include/numpy/arrayobject.h:5\u001b[m\u001b[K,\r\n",
      "                 from \u001b[01m\u001b[KHP3_Similarity_Cython_SGD.c:1252\u001b[m\u001b[K:\r\n",
      "\u001b[01m\u001b[K/opt/conda/lib/python3.10/site-packages/numpy/core/include/numpy/npy_1_7_deprecated_api.h:17:2:\u001b[m\u001b[K \u001b[01;35m\u001b[Kwarning: \u001b[m\u001b[K#warning \"Using deprecated NumPy API, disable it with \" \"#define NPY_NO_DEPRECATED_API NPY_1_7_API_VERSION\" [\u001b[01;35m\u001b[K-Wcpp\u001b[m\u001b[K]\r\n",
      "   17 | #\u001b[01;35m\u001b[Kwarning\u001b[m\u001b[K \"Using deprecated NumPy API, disable it with \" \\\r\n",
      "      |  \u001b[01;35m\u001b[K^~~~~~~\u001b[m\u001b[K\r\n",
      "\u001b[01m\u001b[KHP3_Similarity_Cython_SGD.c:\u001b[m\u001b[K In function '\u001b[01m\u001b[K__pyx_pf_25HP3_Similarity_Cython_SGD_25HP3_Similarity_Cython_SGD_4fit\u001b[m\u001b[K':\r\n",
      "\u001b[01m\u001b[KHP3_Similarity_Cython_SGD.c:23631:55:\u001b[m\u001b[K \u001b[01;35m\u001b[Kwarning: \u001b[m\u001b[K'\u001b[01m\u001b[K__pyx_v_sample_num\u001b[m\u001b[K' may be used uninitialized in this function [\u001b[01;35m\u001b[K-Wmaybe-uninitialized\u001b[m\u001b[K]\r\n",
      "23631 |   __pyx_t_1 = PyFloat_FromDouble((__pyx_v_cum_loss / \u001b[01;35m\u001b[K((double)__pyx_v_sample_num)\u001b[m\u001b[K)); if (unlikely(!__pyx_t_1)) __PYX_ERR(0, 291, __pyx_L1_error)\r\n",
      "      |                                                      \u001b[01;35m\u001b[K~^~~~~~~~~~~~~~~~~~~~~~~~~~~\u001b[m\u001b[K\r\n",
      "/opt/conda/lib/python3.10/site-packages/Cython/Compiler/Main.py:381: FutureWarning: Cython directive 'language_level' not set, using '3str' for now (Py3). This has changed from earlier releases! File: /kaggle/working/RECsys_Challenge2024/Recommenders/FeatureWeighting/Cython/HP3_Similarity_Cython_SGD.pyx\r\n",
      "  tree = Parsing.p_module(s, pxd, full_module_name)\r\n",
      "performance hint: HP3_Similarity_Cython_SGD.pyx:113:40: Index should be typed for more efficient access\r\n",
      "performance hint: HP3_Similarity_Cython_SGD.pyx:114:40: Index should be typed for more efficient access\r\n",
      "Compiling [9/11]: HP3_Similarity_Cython_SGD.pyx... PASS\r\n",
      "\r\n",
      "Compiling [10/11]: CFW_D_Similarity_Cython_SGD.pyx... \r\n",
      "In file included from \u001b[01m\u001b[K/opt/conda/lib/python3.10/site-packages/numpy/core/include/numpy/ndarraytypes.h:1929\u001b[m\u001b[K,\r\n",
      "                 from \u001b[01m\u001b[K/opt/conda/lib/python3.10/site-packages/numpy/core/include/numpy/ndarrayobject.h:12\u001b[m\u001b[K,\r\n",
      "                 from \u001b[01m\u001b[K/opt/conda/lib/python3.10/site-packages/numpy/core/include/numpy/arrayobject.h:5\u001b[m\u001b[K,\r\n",
      "                 from \u001b[01m\u001b[KCFW_D_Similarity_Cython_SGD.c:1252\u001b[m\u001b[K:\r\n",
      "\u001b[01m\u001b[K/opt/conda/lib/python3.10/site-packages/numpy/core/include/numpy/npy_1_7_deprecated_api.h:17:2:\u001b[m\u001b[K \u001b[01;35m\u001b[Kwarning: \u001b[m\u001b[K#warning \"Using deprecated NumPy API, disable it with \" \"#define NPY_NO_DEPRECATED_API NPY_1_7_API_VERSION\" [\u001b[01;35m\u001b[K-Wcpp\u001b[m\u001b[K]\r\n",
      "   17 | #\u001b[01;35m\u001b[Kwarning\u001b[m\u001b[K \"Using deprecated NumPy API, disable it with \" \\\r\n",
      "      |  \u001b[01;35m\u001b[K^~~~~~~\u001b[m\u001b[K\r\n",
      "\u001b[01m\u001b[KCFW_D_Similarity_Cython_SGD.c:\u001b[m\u001b[K In function '\u001b[01m\u001b[K__pyx_pf_27CFW_D_Similarity_Cython_SGD_27CFW_D_Similarity_Cython_SGD_6fit\u001b[m\u001b[K':\r\n",
      "\u001b[01m\u001b[KCFW_D_Similarity_Cython_SGD.c:23373:55:\u001b[m\u001b[K \u001b[01;35m\u001b[Kwarning: \u001b[m\u001b[K'\u001b[01m\u001b[K__pyx_v_sample_num\u001b[m\u001b[K' may be used uninitialized in this function [\u001b[01;35m\u001b[K-Wmaybe-uninitialized\u001b[m\u001b[K]\r\n",
      "23373 |   __pyx_t_3 = PyFloat_FromDouble((__pyx_v_cum_loss / \u001b[01;35m\u001b[K((double)__pyx_v_sample_num)\u001b[m\u001b[K)); if (unlikely(!__pyx_t_3)) __PYX_ERR(0, 290, __pyx_L1_error)\r\n",
      "      |                                                      \u001b[01;35m\u001b[K~^~~~~~~~~~~~~~~~~~~~~~~~~~~\u001b[m\u001b[K\r\n",
      "/opt/conda/lib/python3.10/site-packages/Cython/Compiler/Main.py:381: FutureWarning: Cython directive 'language_level' not set, using '3str' for now (Py3). This has changed from earlier releases! File: /kaggle/working/RECsys_Challenge2024/Recommenders/FeatureWeighting/Cython/CFW_D_Similarity_Cython_SGD.pyx\r\n",
      "  tree = Parsing.p_module(s, pxd, full_module_name)\r\n",
      "Compiling [10/11]: CFW_D_Similarity_Cython_SGD.pyx... PASS\r\n",
      "\r\n",
      "Compiling [11/11]: DataIterator.pyx... \r\n",
      "In file included from \u001b[01m\u001b[K/opt/conda/lib/python3.10/site-packages/numpy/core/include/numpy/ndarraytypes.h:1929\u001b[m\u001b[K,\r\n",
      "                 from \u001b[01m\u001b[K/opt/conda/lib/python3.10/site-packages/numpy/core/include/numpy/ndarrayobject.h:12\u001b[m\u001b[K,\r\n",
      "                 from \u001b[01m\u001b[K/opt/conda/lib/python3.10/site-packages/numpy/core/include/numpy/arrayobject.h:5\u001b[m\u001b[K,\r\n",
      "                 from \u001b[01m\u001b[KDataIterator.c:1252\u001b[m\u001b[K:\r\n",
      "\u001b[01m\u001b[K/opt/conda/lib/python3.10/site-packages/numpy/core/include/numpy/npy_1_7_deprecated_api.h:17:2:\u001b[m\u001b[K \u001b[01;35m\u001b[Kwarning: \u001b[m\u001b[K#warning \"Using deprecated NumPy API, disable it with \" \"#define NPY_NO_DEPRECATED_API NPY_1_7_API_VERSION\" [\u001b[01;35m\u001b[K-Wcpp\u001b[m\u001b[K]\r\n",
      "   17 | #\u001b[01;35m\u001b[Kwarning\u001b[m\u001b[K \"Using deprecated NumPy API, disable it with \" \\\r\n",
      "      |  \u001b[01;35m\u001b[K^~~~~~~\u001b[m\u001b[K\r\n",
      "\u001b[01m\u001b[KDataIterator.c:\u001b[m\u001b[K In function '\u001b[01m\u001b[K__pyx_pf_12DataIterator_30InteractionAndNegativeIterator_6__next__\u001b[m\u001b[K':\r\n",
      "\u001b[01m\u001b[KDataIterator.c:25495:22:\u001b[m\u001b[K \u001b[01;35m\u001b[Kwarning: \u001b[m\u001b[K'\u001b[01m\u001b[K__pyx_v_i_batch\u001b[m\u001b[K' may be used uninitialized in this function [\u001b[01;35m\u001b[K-Wmaybe-uninitialized\u001b[m\u001b[K]\r\n",
      "25495 |     (__pyx_v_i_batch \u001b[01;35m\u001b[K+\u001b[m\u001b[K 1),\r\n",
      "      |                      \u001b[01;35m\u001b[K^\u001b[m\u001b[K\r\n",
      "\u001b[01m\u001b[KDataIterator.c:\u001b[m\u001b[K In function '\u001b[01m\u001b[K__pyx_pf_12DataIterator_11BPRIterator_6__next__\u001b[m\u001b[K':\r\n",
      "\u001b[01m\u001b[KDataIterator.c:23054:22:\u001b[m\u001b[K \u001b[01;35m\u001b[Kwarning: \u001b[m\u001b[K'\u001b[01m\u001b[K__pyx_v_i_batch\u001b[m\u001b[K' may be used uninitialized in this function [\u001b[01;35m\u001b[K-Wmaybe-uninitialized\u001b[m\u001b[K]\r\n",
      "23054 |     (__pyx_v_i_batch \u001b[01;35m\u001b[K+\u001b[m\u001b[K 1),\r\n",
      "      |                      \u001b[01;35m\u001b[K^\u001b[m\u001b[K\r\n",
      "\u001b[01m\u001b[KDataIterator.c:\u001b[m\u001b[K In function '\u001b[01m\u001b[K__pyx_pf_12DataIterator_19InteractionIterator_6__next__\u001b[m\u001b[K':\r\n",
      "\u001b[01m\u001b[KDataIterator.c:20937:22:\u001b[m\u001b[K \u001b[01;35m\u001b[Kwarning: \u001b[m\u001b[K'\u001b[01m\u001b[K__pyx_v_i_batch\u001b[m\u001b[K' may be used uninitialized in this function [\u001b[01;35m\u001b[K-Wmaybe-uninitialized\u001b[m\u001b[K]\r\n",
      "20937 |     (__pyx_v_i_batch \u001b[01;35m\u001b[K+\u001b[m\u001b[K 1),\r\n",
      "      |                      \u001b[01;35m\u001b[K^\u001b[m\u001b[K\r\n",
      "/opt/conda/lib/python3.10/site-packages/Cython/Compiler/Main.py:381: FutureWarning: Cython directive 'language_level' not set, using '3str' for now (Py3). This has changed from earlier releases! File: /kaggle/working/RECsys_Challenge2024/Utils/PyTorch/Cython/DataIterator.pyx\r\n",
      "  tree = Parsing.p_module(s, pxd, full_module_name)\r\n",
      "Compiling [11/11]: DataIterator.pyx... PASS\r\n",
      "\r\n",
      "run_compile_all_cython: Compilation finished. FAILS 2/11.\r\n",
      "Compilation log can be found here: './result_experiments/run_compile_all_cython.txt'\r\n"
     ]
    }
   ],
   "source": [
    "%cd /kaggle/working/RECsys_Challenge2024\n",
    "! python run_compile_all_cython.py"
   ]
  },
  {
   "cell_type": "code",
   "execution_count": 5,
   "id": "45d2431d",
   "metadata": {
    "execution": {
     "iopub.execute_input": "2024-12-03T09:46:01.080849Z",
     "iopub.status.busy": "2024-12-03T09:46:01.080399Z",
     "iopub.status.idle": "2024-12-03T09:46:02.637943Z",
     "shell.execute_reply": "2024-12-03T09:46:02.636959Z"
    },
    "papermill": {
     "duration": 1.574293,
     "end_time": "2024-12-03T09:46:02.640401",
     "exception": false,
     "start_time": "2024-12-03T09:46:01.066108",
     "status": "completed"
    },
    "tags": []
   },
   "outputs": [],
   "source": [
    "from Utils.notebookFunctions import *\n",
    "import numpy as np\n",
    "import pandas as pd\n",
    "import scipy.sparse as sps\n",
    "import time\n",
    "import shutil\n",
    "import optuna\n",
    "import json\n",
    "import os\n",
    "from Utils.seconds_to_biggest_unit import seconds_to_biggest_unit\n",
    "\n",
    "\n",
    "K_PATH = '/kaggle/working/RECsys_Challenge2024'\n",
    "GH_PATH = 'TrainedModels/WithoutKFCV'\n",
    "D_PATH = 'Hybrid/LinearCombination'\n",
    "\n",
    "np.random.seed(42)"
   ]
  },
  {
   "cell_type": "markdown",
   "id": "d0ffe802",
   "metadata": {
    "papermill": {
     "duration": 0.012501,
     "end_time": "2024-12-03T09:46:02.667698",
     "exception": false,
     "start_time": "2024-12-03T09:46:02.655197",
     "status": "completed"
    },
    "tags": []
   },
   "source": [
    "## Import the repository"
   ]
  },
  {
   "cell_type": "code",
   "execution_count": 6,
   "id": "d2b27965",
   "metadata": {
    "execution": {
     "iopub.execute_input": "2024-12-03T09:46:02.695775Z",
     "iopub.status.busy": "2024-12-03T09:46:02.694665Z",
     "iopub.status.idle": "2024-12-03T09:46:03.167320Z",
     "shell.execute_reply": "2024-12-03T09:46:03.166182Z"
    },
    "papermill": {
     "duration": 0.488806,
     "end_time": "2024-12-03T09:46:03.169459",
     "exception": false,
     "start_time": "2024-12-03T09:46:02.680653",
     "status": "completed"
    },
    "tags": []
   },
   "outputs": [
    {
     "name": "stdout",
     "output_type": "stream",
     "text": [
      "Repository 'RECsys_Challenge2024' found.\n"
     ]
    }
   ],
   "source": [
    "repo = get_repo_from_github(token)"
   ]
  },
  {
   "cell_type": "code",
   "execution_count": 7,
   "id": "74234e02",
   "metadata": {
    "execution": {
     "iopub.execute_input": "2024-12-03T09:46:03.198730Z",
     "iopub.status.busy": "2024-12-03T09:46:03.198238Z",
     "iopub.status.idle": "2024-12-03T09:46:03.204449Z",
     "shell.execute_reply": "2024-12-03T09:46:03.203277Z"
    },
    "papermill": {
     "duration": 0.023733,
     "end_time": "2024-12-03T09:46:03.206533",
     "exception": false,
     "start_time": "2024-12-03T09:46:03.182800",
     "status": "completed"
    },
    "tags": []
   },
   "outputs": [],
   "source": [
    "config = {\n",
    "    'model': 'SecondLinearCombination',\n",
    "    'tune_parameters': True,\n",
    "    'database_path': '/kaggle/working/history_SecondLinearCombination.db',\n",
    "    'copy_prev_best_params': False,\n",
    "    'tune_best_params': True,\n",
    "    'save_github': True\n",
    "}"
   ]
  },
  {
   "cell_type": "markdown",
   "id": "34c32cfc",
   "metadata": {
    "papermill": {
     "duration": 0.012873,
     "end_time": "2024-12-03T09:46:03.232995",
     "exception": false,
     "start_time": "2024-12-03T09:46:03.220122",
     "status": "completed"
    },
    "tags": []
   },
   "source": [
    "Import the database where previous tuning trials have been saved."
   ]
  },
  {
   "cell_type": "code",
   "execution_count": 8,
   "id": "d0fe8d38",
   "metadata": {
    "execution": {
     "iopub.execute_input": "2024-12-03T09:46:03.266641Z",
     "iopub.status.busy": "2024-12-03T09:46:03.263215Z",
     "iopub.status.idle": "2024-12-03T09:46:03.273995Z",
     "shell.execute_reply": "2024-12-03T09:46:03.272686Z"
    },
    "papermill": {
     "duration": 0.030065,
     "end_time": "2024-12-03T09:46:03.276189",
     "exception": false,
     "start_time": "2024-12-03T09:46:03.246124",
     "status": "completed"
    },
    "tags": []
   },
   "outputs": [],
   "source": [
    "try:\n",
    "    shutil.copyfile(\n",
    "        f'{K_PATH}/{GH_PATH}/{D_PATH}/{config[\"model\"]}Recommender/history_{config[\"model\"]}.db', \n",
    "        config['database_path']\n",
    "    )\n",
    "except FileNotFoundError:\n",
    "    pass # if not present optuna will create it"
   ]
  },
  {
   "cell_type": "markdown",
   "id": "64d0265e",
   "metadata": {
    "papermill": {
     "duration": 0.015382,
     "end_time": "2024-12-03T09:46:03.304843",
     "exception": false,
     "start_time": "2024-12-03T09:46:03.289461",
     "status": "completed"
    },
    "tags": []
   },
   "source": [
    "# Construction of URM and ICM matrices"
   ]
  },
  {
   "cell_type": "code",
   "execution_count": 9,
   "id": "91d332bc",
   "metadata": {
    "execution": {
     "iopub.execute_input": "2024-12-03T09:46:03.345124Z",
     "iopub.status.busy": "2024-12-03T09:46:03.344392Z",
     "iopub.status.idle": "2024-12-03T09:46:04.273177Z",
     "shell.execute_reply": "2024-12-03T09:46:04.272115Z"
    },
    "papermill": {
     "duration": 0.954124,
     "end_time": "2024-12-03T09:46:04.275945",
     "exception": false,
     "start_time": "2024-12-03T09:46:03.321821",
     "status": "completed"
    },
    "tags": []
   },
   "outputs": [
    {
     "data": {
      "text/plain": [
       "<Compressed Sparse Row sparse matrix of dtype 'float64'\n",
       "\twith 1764607 stored elements and shape (35736, 38121)>"
      ]
     },
     "execution_count": 9,
     "metadata": {},
     "output_type": "execute_result"
    }
   ],
   "source": [
    "URM_all_dataframe = pd.read_csv(\"/kaggle/input/recommender-system-2024-challenge-polimi/data_train.csv\")\n",
    "\n",
    "n_users = len(URM_all_dataframe[\"user_id\"].unique())\n",
    "n_items = len(URM_all_dataframe[\"item_id\"].unique())\n",
    "\n",
    "URM_all = sps.csr_matrix((URM_all_dataframe[\"data\"].values, \n",
    "                          (URM_all_dataframe[\"user_id\"].values, URM_all_dataframe[\"item_id\"].values)),\n",
    "                        shape = (n_users, n_items))\n",
    "\n",
    "URM_all"
   ]
  },
  {
   "cell_type": "code",
   "execution_count": 10,
   "id": "68bf84dc",
   "metadata": {
    "execution": {
     "iopub.execute_input": "2024-12-03T09:46:04.310934Z",
     "iopub.status.busy": "2024-12-03T09:46:04.309927Z",
     "iopub.status.idle": "2024-12-03T09:46:05.608386Z",
     "shell.execute_reply": "2024-12-03T09:46:05.607234Z"
    },
    "papermill": {
     "duration": 1.31498,
     "end_time": "2024-12-03T09:46:05.610538",
     "exception": false,
     "start_time": "2024-12-03T09:46:04.295558",
     "status": "completed"
    },
    "tags": []
   },
   "outputs": [
    {
     "data": {
      "text/plain": [
       "<Compressed Sparse Row sparse matrix of dtype 'float64'\n",
       "\twith 2940040 stored elements and shape (38121, 94331)>"
      ]
     },
     "execution_count": 10,
     "metadata": {},
     "output_type": "execute_result"
    }
   ],
   "source": [
    "ICM_dataframe = pd.read_csv(\"/kaggle/input/recommender-system-2024-challenge-polimi/data_ICM_metadata.csv\")\n",
    "\n",
    "n_items = len(ICM_dataframe[\"item_id\"].unique())\n",
    "n_features = len(ICM_dataframe[\"feature_id\"].unique())\n",
    "\n",
    "ICM_all = sps.csr_matrix((ICM_dataframe[\"data\"].values, \n",
    "                          (ICM_dataframe[\"item_id\"].values, ICM_dataframe[\"feature_id\"].values)),\n",
    "                        shape = (n_items, n_features))\n",
    "\n",
    "ICM_all"
   ]
  },
  {
   "cell_type": "markdown",
   "id": "9acd635a",
   "metadata": {
    "papermill": {
     "duration": 0.012821,
     "end_time": "2024-12-03T09:46:05.636614",
     "exception": false,
     "start_time": "2024-12-03T09:46:05.623793",
     "status": "completed"
    },
    "tags": []
   },
   "source": [
    "# Training"
   ]
  },
  {
   "cell_type": "code",
   "execution_count": 11,
   "id": "e8854328",
   "metadata": {
    "execution": {
     "iopub.execute_input": "2024-12-03T09:46:05.666198Z",
     "iopub.status.busy": "2024-12-03T09:46:05.665439Z",
     "iopub.status.idle": "2024-12-03T09:46:08.555582Z",
     "shell.execute_reply": "2024-12-03T09:46:08.554306Z"
    },
    "papermill": {
     "duration": 2.908129,
     "end_time": "2024-12-03T09:46:08.557816",
     "exception": false,
     "start_time": "2024-12-03T09:46:05.649687",
     "status": "completed"
    },
    "tags": []
   },
   "outputs": [
    {
     "name": "stdout",
     "output_type": "stream",
     "text": [
      "Warning: 141 (0.39 %) of 35736 users have no sampled items\n",
      "EvaluatorHoldout: Ignoring 141 ( 0.4%) Users that have less than 1 test interactions\n"
     ]
    }
   ],
   "source": [
    "from Evaluation.Evaluator import EvaluatorHoldout\n",
    "from Data_manager.split_functions.split_train_validation_random_holdout import split_train_in_two_percentage_global_sample\n",
    "\n",
    "URM_train, URM_validation = split_train_in_two_percentage_global_sample(URM_all, train_percentage = 0.80)\n",
    "\n",
    "evaluator_validation = EvaluatorHoldout(URM_validation, cutoff_list=[10])"
   ]
  },
  {
   "cell_type": "markdown",
   "id": "5a7e31d5",
   "metadata": {
    "papermill": {
     "duration": 0.012919,
     "end_time": "2024-12-03T09:46:08.584409",
     "exception": false,
     "start_time": "2024-12-03T09:46:08.571490",
     "status": "completed"
    },
    "tags": []
   },
   "source": [
    "## Import the best recommeders previously trained."
   ]
  },
  {
   "cell_type": "code",
   "execution_count": 12,
   "id": "60cf6f4b",
   "metadata": {
    "execution": {
     "iopub.execute_input": "2024-12-03T09:46:08.612388Z",
     "iopub.status.busy": "2024-12-03T09:46:08.612006Z",
     "iopub.status.idle": "2024-12-03T10:47:32.127835Z",
     "shell.execute_reply": "2024-12-03T10:47:32.126707Z"
    },
    "papermill": {
     "duration": 3683.532364,
     "end_time": "2024-12-03T10:47:32.129961",
     "exception": false,
     "start_time": "2024-12-03T09:46:08.597597",
     "status": "completed"
    },
    "tags": []
   },
   "outputs": [
    {
     "name": "stdout",
     "output_type": "stream",
     "text": [
      "ItemKNNCF Model - TRAINING with its best parameters.\n",
      "Similarity column 38121 (100.0%), 2740.83 column/sec. Elapsed time 13.91 sec\n",
      "Training done in 14.119500sec.\n",
      "\n",
      "SLIMElasticNet Model - TRAINING with its best parameters.\n",
      "SLIMElasticNetRecommender: Processed 3181 ( 8.3%) in 5.00 min. Items per second: 10.60\n",
      "SLIMElasticNetRecommender: Processed 6320 (16.6%) in 10.00 min. Items per second: 10.53\n",
      "SLIMElasticNetRecommender: Processed 9527 (25.0%) in 15.00 min. Items per second: 10.58\n",
      "SLIMElasticNetRecommender: Processed 12601 (33.1%) in 20.00 min. Items per second: 10.50\n",
      "SLIMElasticNetRecommender: Processed 15727 (41.3%) in 25.00 min. Items per second: 10.48\n",
      "SLIMElasticNetRecommender: Processed 18737 (49.2%) in 30.01 min. Items per second: 10.41\n",
      "SLIMElasticNetRecommender: Processed 21829 (57.3%) in 35.01 min. Items per second: 10.39\n",
      "SLIMElasticNetRecommender: Processed 24900 (65.3%) in 40.01 min. Items per second: 10.37\n",
      "SLIMElasticNetRecommender: Processed 28037 (73.5%) in 45.01 min. Items per second: 10.38\n",
      "SLIMElasticNetRecommender: Processed 31124 (81.6%) in 50.01 min. Items per second: 10.37\n",
      "SLIMElasticNetRecommender: Processed 34377 (90.2%) in 55.01 min. Items per second: 10.42\n",
      "SLIMElasticNetRecommender: Processed 37618 (98.7%) in 1.00 hour. Items per second: 10.45\n",
      "SLIMElasticNetRecommender: Processed 38121 (100.0%) in 1.01 hour. Items per second: 10.45\n",
      "Training done in 1.013786hour.\n",
      "\n",
      "RP3beta Model - TRAINING with its best parameters.\n",
      "RP3betaRecommender: Similarity column 38121 (100.0%), 2203.53 column/sec. Elapsed time 17.30 sec\n",
      "Training done in 18.483640sec.\n",
      "\n"
     ]
    }
   ],
   "source": [
    "from Recommenders.KNN.ItemKNNCFRecommender import ItemKNNCFRecommender\n",
    "from Recommenders.SLIM.SLIMElasticNetRecommender import SLIMElasticNetRecommender\n",
    "from Recommenders.GraphBased.RP3betaRecommender import RP3betaRecommender\n",
    "\n",
    "recommenders = {\n",
    "    \"ItemKNNCF\": ItemKNNCFRecommender,\n",
    "    \"SLIMElasticNet\": SLIMElasticNetRecommender,\n",
    "    \"RP3beta\": RP3betaRecommender\n",
    "}\n",
    "\n",
    "paths_to_best_params = {\n",
    "    \"ItemKNNCF\": \"KNN\",\n",
    "    \"SLIMElasticNet\": \"SLIM\",\n",
    "    \"RP3beta\": \"GraphBased\"\n",
    "}\n",
    "\n",
    "\n",
    "loaded_recommenders = {}\n",
    "\n",
    "for recommender_name, recommender_class in recommenders.items():\n",
    "    \n",
    "    start_time = time.time()\n",
    "    \n",
    "    print(f\"{recommender_name} Model - TRAINING with its best parameters.\")\n",
    "    try:\n",
    "        recommender = recommender_class(URM_train)\n",
    "    except Exception as e:\n",
    "        recommender = recommender_class(URM_train, ICM_all)\n",
    "\n",
    "    # Extract best parameter values of the relative recommender model.\n",
    "    with open(f'{GH_PATH}/{paths_to_best_params[recommender_name]}/{recommender_name}Recommender/best_params_{recommender_name}.json', 'r') as best_params_json:\n",
    "            best_params = json.load(best_params_json)\n",
    "    \n",
    "    recommender.fit(**best_params)\n",
    "    \n",
    "    loaded_recommenders[recommender_name] = recommender\n",
    "    \n",
    "    new_time_value, new_time_unit = seconds_to_biggest_unit(time.time() - start_time)\n",
    "    print(\"Training done in {:2f}{}.\\n\".format(new_time_value, new_time_unit))"
   ]
  },
  {
   "cell_type": "code",
   "execution_count": 13,
   "id": "299b186d",
   "metadata": {
    "execution": {
     "iopub.execute_input": "2024-12-03T10:47:32.161620Z",
     "iopub.status.busy": "2024-12-03T10:47:32.161021Z",
     "iopub.status.idle": "2024-12-03T10:47:32.171154Z",
     "shell.execute_reply": "2024-12-03T10:47:32.170288Z"
    },
    "papermill": {
     "duration": 0.028962,
     "end_time": "2024-12-03T10:47:32.173267",
     "exception": false,
     "start_time": "2024-12-03T10:47:32.144305",
     "status": "completed"
    },
    "tags": []
   },
   "outputs": [],
   "source": [
    "from Recommenders.Hybrid.LinearCombinationRecommender import LinearCombinationRecommender \n",
    "\n",
    "def objective_function_(optuna_trial):\n",
    "    \n",
    "    recommender_instance = LinearCombinationRecommender(URM_train, loaded_recommenders.values())\n",
    "    \n",
    "    norm = optuna_trial.suggest_categorical('norm', [1, 2, np.inf, -np.inf])\n",
    "    itemknn_weight = optuna_trial.suggest_float('itemknn_weight', 0.0, 1.0)\n",
    "    slim_weight = optuna_trial.suggest_float('slim_weight', 0.0, 1.0)\n",
    "    rp3beta_weight = optuna_trial.suggest_float('rp3beta_weight', 0.0, 1.0)\n",
    "\n",
    "    # Ensure the weights sum to 1 (Normalization)\n",
    "    total_weight = itemknn_weight + slim_weight + rp3beta_weight\n",
    "    itemknn_weight /= total_weight\n",
    "    slim_weight /= total_weight\n",
    "    rp3beta_weight /= total_weight\n",
    "    \n",
    "    full_hyperp = {\n",
    "                    \"weights\": [itemknn_weight, slim_weight,rp3beta_weight],\n",
    "                    \"norm\": norm\n",
    "                  }        \n",
    "    \n",
    "    recommender_instance.fit(**full_hyperp)\n",
    "    \n",
    "    result_df, _ = evaluator_validation.evaluateRecommender(recommender_instance)\n",
    "    \n",
    "    return result_df.loc[10][\"MAP\"]"
   ]
  },
  {
   "cell_type": "code",
   "execution_count": 14,
   "id": "fd4be41c",
   "metadata": {
    "_kg_hide-output": true,
    "execution": {
     "iopub.execute_input": "2024-12-03T10:47:32.204016Z",
     "iopub.status.busy": "2024-12-03T10:47:32.203118Z",
     "iopub.status.idle": "2024-12-03T12:03:36.500777Z",
     "shell.execute_reply": "2024-12-03T12:03:36.499825Z"
    },
    "papermill": {
     "duration": 4564.315241,
     "end_time": "2024-12-03T12:03:36.502942",
     "exception": false,
     "start_time": "2024-12-03T10:47:32.187701",
     "status": "completed"
    },
    "tags": []
   },
   "outputs": [
    {
     "name": "stderr",
     "output_type": "stream",
     "text": [
      "[I 2024-12-03 10:47:33,744] Using an existing study with name 'hyperparameters_tuning_SecondLinearCombination' instead of creating a new one.\n"
     ]
    },
    {
     "name": "stdout",
     "output_type": "stream",
     "text": [
      "LinearCombinationRecommender: Fit completed in 0.00 seconds.\n",
      "EvaluatorHoldout: Processed 35595 (100.0%) in 1.52 min. Users per second: 391\n"
     ]
    },
    {
     "name": "stderr",
     "output_type": "stream",
     "text": [
      "[I 2024-12-03 10:49:05,065] Trial 150 finished with value: 0.06002877388254337 and parameters: {'norm': 1, 'itemknn_weight': 0.09904412832781548, 'slim_weight': 0.9453934401162589, 'rp3beta_weight': 0.1938288686637028}. Best is trial 124 with value: 0.06076377879896466.\n"
     ]
    },
    {
     "name": "stdout",
     "output_type": "stream",
     "text": [
      "LinearCombinationRecommender: Fit completed in 0.00 seconds.\n",
      "EvaluatorHoldout: Processed 35595 (100.0%) in 1.52 min. Users per second: 391\n"
     ]
    },
    {
     "name": "stderr",
     "output_type": "stream",
     "text": [
      "[I 2024-12-03 10:50:36,394] Trial 151 finished with value: 0.060733739579081195 and parameters: {'norm': 2, 'itemknn_weight': 0.034038118978174624, 'slim_weight': 0.91063167856302, 'rp3beta_weight': 0.1714334855006142}. Best is trial 124 with value: 0.06076377879896466.\n"
     ]
    },
    {
     "name": "stdout",
     "output_type": "stream",
     "text": [
      "LinearCombinationRecommender: Fit completed in 0.00 seconds.\n",
      "EvaluatorHoldout: Processed 35595 (100.0%) in 1.52 min. Users per second: 391\n"
     ]
    },
    {
     "name": "stderr",
     "output_type": "stream",
     "text": [
      "[I 2024-12-03 10:52:07,708] Trial 152 finished with value: 0.060713378238871636 and parameters: {'norm': 2, 'itemknn_weight': 0.037180101041017335, 'slim_weight': 0.8925297069496255, 'rp3beta_weight': 0.16703557573395736}. Best is trial 124 with value: 0.06076377879896466.\n"
     ]
    },
    {
     "name": "stdout",
     "output_type": "stream",
     "text": [
      "LinearCombinationRecommender: Fit completed in 0.00 seconds.\n",
      "EvaluatorHoldout: Processed 35595 (100.0%) in 1.52 min. Users per second: 391\n"
     ]
    },
    {
     "name": "stderr",
     "output_type": "stream",
     "text": [
      "[I 2024-12-03 10:53:38,935] Trial 153 finished with value: 0.06059329159392184 and parameters: {'norm': 2, 'itemknn_weight': 0.0008018207483391701, 'slim_weight': 0.9597466076233702, 'rp3beta_weight': 0.1052209539804514}. Best is trial 124 with value: 0.06076377879896466.\n"
     ]
    },
    {
     "name": "stdout",
     "output_type": "stream",
     "text": [
      "LinearCombinationRecommender: Fit completed in 0.00 seconds.\n",
      "EvaluatorHoldout: Processed 35595 (100.0%) in 1.52 min. Users per second: 391\n"
     ]
    },
    {
     "name": "stderr",
     "output_type": "stream",
     "text": [
      "[I 2024-12-03 10:55:10,156] Trial 154 finished with value: 0.060690981210575035 and parameters: {'norm': 2, 'itemknn_weight': 0.07519584268482016, 'slim_weight': 0.998813055260068, 'rp3beta_weight': 0.13313008652595615}. Best is trial 124 with value: 0.06076377879896466.\n"
     ]
    },
    {
     "name": "stdout",
     "output_type": "stream",
     "text": [
      "LinearCombinationRecommender: Fit completed in 0.00 seconds.\n",
      "EvaluatorHoldout: Processed 35595 (100.0%) in 1.51 min. Users per second: 392\n"
     ]
    },
    {
     "name": "stderr",
     "output_type": "stream",
     "text": [
      "[I 2024-12-03 10:56:41,215] Trial 155 finished with value: 0.06066203675832656 and parameters: {'norm': 2, 'itemknn_weight': 0.04950286373101348, 'slim_weight': 0.9238827370247127, 'rp3beta_weight': 0.20148733131295338}. Best is trial 124 with value: 0.06076377879896466.\n"
     ]
    },
    {
     "name": "stdout",
     "output_type": "stream",
     "text": [
      "LinearCombinationRecommender: Fit completed in 0.00 seconds.\n",
      "EvaluatorHoldout: Processed 35595 (100.0%) in 1.52 min. Users per second: 391\n"
     ]
    },
    {
     "name": "stderr",
     "output_type": "stream",
     "text": [
      "[I 2024-12-03 10:58:12,379] Trial 156 finished with value: 0.06071495238540983 and parameters: {'norm': 2, 'itemknn_weight': 0.028626844498447702, 'slim_weight': 0.8639340361996861, 'rp3beta_weight': 0.1154216888858007}. Best is trial 124 with value: 0.06076377879896466.\n"
     ]
    },
    {
     "name": "stdout",
     "output_type": "stream",
     "text": [
      "LinearCombinationRecommender: Fit completed in 0.00 seconds.\n",
      "EvaluatorHoldout: Processed 35595 (100.0%) in 1.52 min. Users per second: 392\n"
     ]
    },
    {
     "name": "stderr",
     "output_type": "stream",
     "text": [
      "[I 2024-12-03 10:59:43,479] Trial 157 finished with value: 0.06071046071656918 and parameters: {'norm': 2, 'itemknn_weight': 0.020712011673699314, 'slim_weight': 0.8781262180065683, 'rp3beta_weight': 0.16297900120660214}. Best is trial 124 with value: 0.06076377879896466.\n"
     ]
    },
    {
     "name": "stdout",
     "output_type": "stream",
     "text": [
      "LinearCombinationRecommender: Fit completed in 0.00 seconds.\n",
      "EvaluatorHoldout: Processed 35595 (100.0%) in 1.52 min. Users per second: 391\n"
     ]
    },
    {
     "name": "stderr",
     "output_type": "stream",
     "text": [
      "[I 2024-12-03 11:01:14,729] Trial 158 finished with value: 0.05845857608857843 and parameters: {'norm': 2, 'itemknn_weight': 0.8433512960306492, 'slim_weight': 0.9112476084226385, 'rp3beta_weight': 0.14004416263858357}. Best is trial 124 with value: 0.06076377879896466.\n"
     ]
    },
    {
     "name": "stdout",
     "output_type": "stream",
     "text": [
      "LinearCombinationRecommender: Fit completed in 0.00 seconds.\n",
      "EvaluatorHoldout: Processed 35595 (100.0%) in 1.52 min. Users per second: 390\n"
     ]
    },
    {
     "name": "stderr",
     "output_type": "stream",
     "text": [
      "[I 2024-12-03 11:02:46,145] Trial 159 finished with value: 0.06069958996381083 and parameters: {'norm': 2, 'itemknn_weight': 0.04290199685932877, 'slim_weight': 0.9534731621227122, 'rp3beta_weight': 0.08875692569935428}. Best is trial 124 with value: 0.06076377879896466.\n"
     ]
    },
    {
     "name": "stdout",
     "output_type": "stream",
     "text": [
      "LinearCombinationRecommender: Fit completed in 0.00 seconds.\n",
      "EvaluatorHoldout: Processed 35595 (100.0%) in 1.52 min. Users per second: 390\n"
     ]
    },
    {
     "name": "stderr",
     "output_type": "stream",
     "text": [
      "[I 2024-12-03 11:04:17,521] Trial 160 finished with value: 0.06071584425313692 and parameters: {'norm': 2, 'itemknn_weight': 0.020004744309073213, 'slim_weight': 0.9271730015506231, 'rp3beta_weight': 0.17818843538703455}. Best is trial 124 with value: 0.06076377879896466.\n"
     ]
    },
    {
     "name": "stdout",
     "output_type": "stream",
     "text": [
      "LinearCombinationRecommender: Fit completed in 0.00 seconds.\n",
      "EvaluatorHoldout: Processed 35595 (100.0%) in 1.52 min. Users per second: 390\n"
     ]
    },
    {
     "name": "stderr",
     "output_type": "stream",
     "text": [
      "[I 2024-12-03 11:05:48,899] Trial 161 finished with value: 0.060704723777414704 and parameters: {'norm': 2, 'itemknn_weight': 0.023723485920320916, 'slim_weight': 0.9314202307622352, 'rp3beta_weight': 0.18161817288244153}. Best is trial 124 with value: 0.06076377879896466.\n"
     ]
    },
    {
     "name": "stdout",
     "output_type": "stream",
     "text": [
      "LinearCombinationRecommender: Fit completed in 0.00 seconds.\n",
      "EvaluatorHoldout: Processed 35595 (100.0%) in 1.52 min. Users per second: 391\n"
     ]
    },
    {
     "name": "stderr",
     "output_type": "stream",
     "text": [
      "[I 2024-12-03 11:07:20,138] Trial 162 finished with value: 0.06065415599212298 and parameters: {'norm': 2, 'itemknn_weight': 0.00021836146220234956, 'slim_weight': 0.977963819827531, 'rp3beta_weight': 0.13056901163300738}. Best is trial 124 with value: 0.06076377879896466.\n"
     ]
    },
    {
     "name": "stdout",
     "output_type": "stream",
     "text": [
      "LinearCombinationRecommender: Fit completed in 0.00 seconds.\n",
      "EvaluatorHoldout: Processed 35595 (100.0%) in 1.52 min. Users per second: 391\n"
     ]
    },
    {
     "name": "stderr",
     "output_type": "stream",
     "text": [
      "[I 2024-12-03 11:08:51,329] Trial 163 finished with value: 0.06070372823006456 and parameters: {'norm': 2, 'itemknn_weight': 0.05516575728831773, 'slim_weight': 0.8980586062497782, 'rp3beta_weight': 0.15264080706286626}. Best is trial 124 with value: 0.06076377879896466.\n"
     ]
    },
    {
     "name": "stdout",
     "output_type": "stream",
     "text": [
      "LinearCombinationRecommender: Fit completed in 0.00 seconds.\n",
      "EvaluatorHoldout: Processed 35595 (100.0%) in 1.51 min. Users per second: 392\n"
     ]
    },
    {
     "name": "stderr",
     "output_type": "stream",
     "text": [
      "[I 2024-12-03 11:10:22,399] Trial 164 finished with value: 0.060618182507350696 and parameters: {'norm': 2, 'itemknn_weight': 0.03320053651413336, 'slim_weight': 0.9275145234210069, 'rp3beta_weight': 0.24500477218283195}. Best is trial 124 with value: 0.06076377879896466.\n"
     ]
    },
    {
     "name": "stdout",
     "output_type": "stream",
     "text": [
      "LinearCombinationRecommender: Fit completed in 0.00 seconds.\n",
      "EvaluatorHoldout: Processed 35595 (100.0%) in 1.51 min. Users per second: 392\n"
     ]
    },
    {
     "name": "stderr",
     "output_type": "stream",
     "text": [
      "[I 2024-12-03 11:11:53,460] Trial 165 finished with value: 0.06065391853234071 and parameters: {'norm': 2, 'itemknn_weight': 0.06205406034985612, 'slim_weight': 0.9621506026586543, 'rp3beta_weight': 0.21409226678930887}. Best is trial 124 with value: 0.06076377879896466.\n"
     ]
    },
    {
     "name": "stdout",
     "output_type": "stream",
     "text": [
      "LinearCombinationRecommender: Fit completed in 0.00 seconds.\n",
      "EvaluatorHoldout: Processed 35595 (100.0%) in 1.51 min. Users per second: 392\n"
     ]
    },
    {
     "name": "stderr",
     "output_type": "stream",
     "text": [
      "[I 2024-12-03 11:13:24,507] Trial 166 finished with value: 0.06069537477396539 and parameters: {'norm': 2, 'itemknn_weight': 0.02073966548186717, 'slim_weight': 0.8832837469504673, 'rp3beta_weight': 0.11539296381824615}. Best is trial 124 with value: 0.06076377879896466.\n"
     ]
    },
    {
     "name": "stdout",
     "output_type": "stream",
     "text": [
      "LinearCombinationRecommender: Fit completed in 0.00 seconds.\n",
      "EvaluatorHoldout: Processed 35595 (100.0%) in 1.52 min. Users per second: 391\n"
     ]
    },
    {
     "name": "stderr",
     "output_type": "stream",
     "text": [
      "[I 2024-12-03 11:14:55,803] Trial 167 finished with value: 0.06067962104540111 and parameters: {'norm': 2, 'itemknn_weight': 0.0934254641907548, 'slim_weight': 0.9456462433878113, 'rp3beta_weight': 0.17148586624406204}. Best is trial 124 with value: 0.06076377879896466.\n"
     ]
    },
    {
     "name": "stdout",
     "output_type": "stream",
     "text": [
      "LinearCombinationRecommender: Fit completed in 0.00 seconds.\n",
      "EvaluatorHoldout: Processed 35595 (100.0%) in 1.52 min. Users per second: 390\n"
     ]
    },
    {
     "name": "stderr",
     "output_type": "stream",
     "text": [
      "[I 2024-12-03 11:16:27,143] Trial 168 finished with value: 0.06070704709284399 and parameters: {'norm': 2, 'itemknn_weight': 0.04354458320833413, 'slim_weight': 0.9993269707465692, 'rp3beta_weight': 0.1915436367422653}. Best is trial 124 with value: 0.06076377879896466.\n"
     ]
    },
    {
     "name": "stdout",
     "output_type": "stream",
     "text": [
      "LinearCombinationRecommender: Fit completed in 0.00 seconds.\n",
      "EvaluatorHoldout: Processed 35595 (100.0%) in 1.51 min. Users per second: 392\n"
     ]
    },
    {
     "name": "stderr",
     "output_type": "stream",
     "text": [
      "[I 2024-12-03 11:17:58,209] Trial 169 finished with value: 0.060684201901014374 and parameters: {'norm': 2, 'itemknn_weight': 0.0751546632950806, 'slim_weight': 0.905296349142541, 'rp3beta_weight': 0.1531593563680425}. Best is trial 124 with value: 0.06076377879896466.\n"
     ]
    },
    {
     "name": "stdout",
     "output_type": "stream",
     "text": [
      "LinearCombinationRecommender: Fit completed in 0.00 seconds.\n",
      "EvaluatorHoldout: Processed 35595 (100.0%) in 1.52 min. Users per second: 390\n"
     ]
    },
    {
     "name": "stderr",
     "output_type": "stream",
     "text": [
      "[I 2024-12-03 11:19:29,737] Trial 170 finished with value: 0.06066301223865303 and parameters: {'norm': 2, 'itemknn_weight': 0.0163842131347135, 'slim_weight': 0.9748426682594357, 'rp3beta_weight': 0.11913153881107064}. Best is trial 124 with value: 0.06076377879896466.\n"
     ]
    },
    {
     "name": "stdout",
     "output_type": "stream",
     "text": [
      "LinearCombinationRecommender: Fit completed in 0.00 seconds.\n",
      "EvaluatorHoldout: Processed 35595 (100.0%) in 1.52 min. Users per second: 391\n"
     ]
    },
    {
     "name": "stderr",
     "output_type": "stream",
     "text": [
      "[I 2024-12-03 11:21:00,947] Trial 171 finished with value: 0.060706733824304956 and parameters: {'norm': 2, 'itemknn_weight': 0.0707923030476025, 'slim_weight': 0.8508665356288635, 'rp3beta_weight': 0.09775481784235854}. Best is trial 124 with value: 0.06076377879896466.\n"
     ]
    },
    {
     "name": "stdout",
     "output_type": "stream",
     "text": [
      "LinearCombinationRecommender: Fit completed in 0.00 seconds.\n",
      "EvaluatorHoldout: Processed 35595 (100.0%) in 1.52 min. Users per second: 391\n"
     ]
    },
    {
     "name": "stderr",
     "output_type": "stream",
     "text": [
      "[I 2024-12-03 11:22:32,204] Trial 172 finished with value: 0.06074187006824844 and parameters: {'norm': 2, 'itemknn_weight': 0.03823869388987145, 'slim_weight': 0.8591726350204462, 'rp3beta_weight': 0.1394334082886131}. Best is trial 124 with value: 0.06076377879896466.\n"
     ]
    },
    {
     "name": "stdout",
     "output_type": "stream",
     "text": [
      "LinearCombinationRecommender: Fit completed in 0.00 seconds.\n",
      "EvaluatorHoldout: Processed 35595 (100.0%) in 1.52 min. Users per second: 389\n"
     ]
    },
    {
     "name": "stderr",
     "output_type": "stream",
     "text": [
      "[I 2024-12-03 11:24:03,776] Trial 173 finished with value: 0.06073729590164311 and parameters: {'norm': 2, 'itemknn_weight': 0.039253440005119496, 'slim_weight': 0.82203451643559, 'rp3beta_weight': 0.13829234265897344}. Best is trial 124 with value: 0.06076377879896466.\n"
     ]
    },
    {
     "name": "stdout",
     "output_type": "stream",
     "text": [
      "LinearCombinationRecommender: Fit completed in 0.00 seconds.\n",
      "EvaluatorHoldout: Processed 35595 (100.0%) in 1.52 min. Users per second: 390\n"
     ]
    },
    {
     "name": "stderr",
     "output_type": "stream",
     "text": [
      "[I 2024-12-03 11:25:35,129] Trial 174 finished with value: 0.05994991828261743 and parameters: {'norm': 2, 'itemknn_weight': 0.29347013299214736, 'slim_weight': 0.8049814488553836, 'rp3beta_weight': 0.16823825953631077}. Best is trial 124 with value: 0.06076377879896466.\n"
     ]
    },
    {
     "name": "stdout",
     "output_type": "stream",
     "text": [
      "LinearCombinationRecommender: Fit completed in 0.00 seconds.\n",
      "EvaluatorHoldout: Processed 35595 (100.0%) in 1.52 min. Users per second: 389\n"
     ]
    },
    {
     "name": "stderr",
     "output_type": "stream",
     "text": [
      "[I 2024-12-03 11:27:06,762] Trial 175 finished with value: 0.06070338040165102 and parameters: {'norm': 2, 'itemknn_weight': 0.0501326849011288, 'slim_weight': 0.832802602189152, 'rp3beta_weight': 0.14155091759768584}. Best is trial 124 with value: 0.06076377879896466.\n"
     ]
    },
    {
     "name": "stdout",
     "output_type": "stream",
     "text": [
      "LinearCombinationRecommender: Fit completed in 0.00 seconds.\n",
      "EvaluatorHoldout: Processed 35595 (100.0%) in 1.52 min. Users per second: 390\n"
     ]
    },
    {
     "name": "stderr",
     "output_type": "stream",
     "text": [
      "[I 2024-12-03 11:28:38,179] Trial 176 finished with value: 0.06070055206612138 and parameters: {'norm': 2, 'itemknn_weight': 0.04150264899211193, 'slim_weight': 0.9205582013313676, 'rp3beta_weight': 0.18020605943483403}. Best is trial 124 with value: 0.06076377879896466.\n"
     ]
    },
    {
     "name": "stdout",
     "output_type": "stream",
     "text": [
      "LinearCombinationRecommender: Fit completed in 0.00 seconds.\n",
      "EvaluatorHoldout: Processed 35595 (100.0%) in 1.52 min. Users per second: 391\n"
     ]
    },
    {
     "name": "stderr",
     "output_type": "stream",
     "text": [
      "[I 2024-12-03 11:30:09,447] Trial 177 finished with value: 0.06066589520108096 and parameters: {'norm': 2, 'itemknn_weight': 0.002432175991736011, 'slim_weight': 0.9502835740768899, 'rp3beta_weight': 0.13525008489465012}. Best is trial 124 with value: 0.06076377879896466.\n"
     ]
    },
    {
     "name": "stdout",
     "output_type": "stream",
     "text": [
      "LinearCombinationRecommender: Fit completed in 0.00 seconds.\n",
      "EvaluatorHoldout: Processed 35595 (100.0%) in 1.52 min. Users per second: 390\n"
     ]
    },
    {
     "name": "stderr",
     "output_type": "stream",
     "text": [
      "[I 2024-12-03 11:31:40,956] Trial 178 finished with value: 0.060696241000495504 and parameters: {'norm': 2, 'itemknn_weight': 0.11096166755002669, 'slim_weight': 0.929831949075035, 'rp3beta_weight': 0.15576241527014226}. Best is trial 124 with value: 0.06076377879896466.\n"
     ]
    },
    {
     "name": "stdout",
     "output_type": "stream",
     "text": [
      "LinearCombinationRecommender: Fit completed in 0.00 seconds.\n",
      "EvaluatorHoldout: Processed 35595 (100.0%) in 1.52 min. Users per second: 391\n"
     ]
    },
    {
     "name": "stderr",
     "output_type": "stream",
     "text": [
      "[I 2024-12-03 11:33:12,106] Trial 179 finished with value: 0.05888221660345359 and parameters: {'norm': 1, 'itemknn_weight': 0.05894937297356602, 'slim_weight': 0.885447791931899, 'rp3beta_weight': 0.5308856507371855}. Best is trial 124 with value: 0.06076377879896466.\n"
     ]
    },
    {
     "name": "stdout",
     "output_type": "stream",
     "text": [
      "LinearCombinationRecommender: Fit completed in 0.00 seconds.\n",
      "EvaluatorHoldout: Processed 35595 (100.0%) in 1.52 min. Users per second: 391\n"
     ]
    },
    {
     "name": "stderr",
     "output_type": "stream",
     "text": [
      "[I 2024-12-03 11:34:43,399] Trial 180 finished with value: 0.06063433980606162 and parameters: {'norm': 2, 'itemknn_weight': 0.08873867733752855, 'slim_weight': 0.9771786702050135, 'rp3beta_weight': 0.20295297527473416}. Best is trial 124 with value: 0.06076377879896466.\n"
     ]
    },
    {
     "name": "stdout",
     "output_type": "stream",
     "text": [
      "LinearCombinationRecommender: Fit completed in 0.00 seconds.\n",
      "EvaluatorHoldout: Processed 35595 (100.0%) in 1.52 min. Users per second: 391\n"
     ]
    },
    {
     "name": "stderr",
     "output_type": "stream",
     "text": [
      "[I 2024-12-03 11:36:14,596] Trial 181 finished with value: 0.06072505724675788 and parameters: {'norm': 2, 'itemknn_weight': 0.02941979409573006, 'slim_weight': 0.8670744452615328, 'rp3beta_weight': 0.1193828038229389}. Best is trial 124 with value: 0.06076377879896466.\n"
     ]
    },
    {
     "name": "stdout",
     "output_type": "stream",
     "text": [
      "LinearCombinationRecommender: Fit completed in 0.00 seconds.\n",
      "EvaluatorHoldout: Processed 35595 (100.0%) in 1.51 min. Users per second: 392\n"
     ]
    },
    {
     "name": "stderr",
     "output_type": "stream",
     "text": [
      "[I 2024-12-03 11:37:45,638] Trial 182 finished with value: 0.06075403737371521 and parameters: {'norm': 2, 'itemknn_weight': 0.026726449197668624, 'slim_weight': 0.8238699522946727, 'rp3beta_weight': 0.12930590843395112}. Best is trial 124 with value: 0.06076377879896466.\n"
     ]
    },
    {
     "name": "stdout",
     "output_type": "stream",
     "text": [
      "LinearCombinationRecommender: Fit completed in 0.00 seconds.\n",
      "EvaluatorHoldout: Processed 35595 (100.0%) in 1.51 min. Users per second: 393\n"
     ]
    },
    {
     "name": "stderr",
     "output_type": "stream",
     "text": [
      "[I 2024-12-03 11:39:16,354] Trial 183 finished with value: 0.06070913517816007 and parameters: {'norm': 2, 'itemknn_weight': 0.040440246513550916, 'slim_weight': 0.7532677922082669, 'rp3beta_weight': 0.07383058327335315}. Best is trial 124 with value: 0.06076377879896466.\n"
     ]
    },
    {
     "name": "stdout",
     "output_type": "stream",
     "text": [
      "LinearCombinationRecommender: Fit completed in 0.00 seconds.\n",
      "EvaluatorHoldout: Processed 35595 (100.0%) in 1.52 min. Users per second: 391\n"
     ]
    },
    {
     "name": "stderr",
     "output_type": "stream",
     "text": [
      "[I 2024-12-03 11:40:47,504] Trial 184 finished with value: 0.0606874048209893 and parameters: {'norm': 2, 'itemknn_weight': 0.06834915573839145, 'slim_weight': 0.8141235954288237, 'rp3beta_weight': 0.12941566535173826}. Best is trial 124 with value: 0.06076377879896466.\n"
     ]
    },
    {
     "name": "stdout",
     "output_type": "stream",
     "text": [
      "LinearCombinationRecommender: Fit completed in 0.00 seconds.\n",
      "EvaluatorHoldout: Processed 35595 (100.0%) in 1.52 min. Users per second: 390\n"
     ]
    },
    {
     "name": "stderr",
     "output_type": "stream",
     "text": [
      "[I 2024-12-03 11:42:18,950] Trial 185 finished with value: 0.06070455209287734 and parameters: {'norm': 2, 'itemknn_weight': 0.03377360600424599, 'slim_weight': 0.8393238923193973, 'rp3beta_weight': 0.09755248379208276}. Best is trial 124 with value: 0.06076377879896466.\n"
     ]
    },
    {
     "name": "stdout",
     "output_type": "stream",
     "text": [
      "LinearCombinationRecommender: Fit completed in 0.00 seconds.\n",
      "EvaluatorHoldout: Processed 35595 (100.0%) in 1.51 min. Users per second: 393\n"
     ]
    },
    {
     "name": "stderr",
     "output_type": "stream",
     "text": [
      "[I 2024-12-03 11:43:49,803] Trial 186 finished with value: 0.05914123505842653 and parameters: {'norm': -inf, 'itemknn_weight': 0.054749981902143294, 'slim_weight': 0.8703051209931134, 'rp3beta_weight': 0.14621213663605892}. Best is trial 124 with value: 0.06076377879896466.\n"
     ]
    },
    {
     "name": "stdout",
     "output_type": "stream",
     "text": [
      "LinearCombinationRecommender: Fit completed in 0.00 seconds.\n",
      "EvaluatorHoldout: Processed 35595 (100.0%) in 1.52 min. Users per second: 390\n"
     ]
    },
    {
     "name": "stderr",
     "output_type": "stream",
     "text": [
      "[I 2024-12-03 11:45:21,177] Trial 187 finished with value: 0.060181840681206356 and parameters: {'norm': 2, 'itemknn_weight': 0.018679874135649872, 'slim_weight': 0.214521738386788, 'rp3beta_weight': 0.11610289148835516}. Best is trial 124 with value: 0.06076377879896466.\n"
     ]
    },
    {
     "name": "stdout",
     "output_type": "stream",
     "text": [
      "LinearCombinationRecommender: Fit completed in 0.00 seconds.\n",
      "EvaluatorHoldout: Processed 35595 (100.0%) in 1.52 min. Users per second: 390\n"
     ]
    },
    {
     "name": "stderr",
     "output_type": "stream",
     "text": [
      "[I 2024-12-03 11:46:52,614] Trial 188 finished with value: 0.060678191827368444 and parameters: {'norm': 2, 'itemknn_weight': 0.08113151882907609, 'slim_weight': 0.8949684015409102, 'rp3beta_weight': 0.15960421811912331}. Best is trial 124 with value: 0.06076377879896466.\n"
     ]
    },
    {
     "name": "stdout",
     "output_type": "stream",
     "text": [
      "LinearCombinationRecommender: Fit completed in 0.00 seconds.\n",
      "EvaluatorHoldout: Processed 35595 (100.0%) in 1.51 min. Users per second: 392\n"
     ]
    },
    {
     "name": "stderr",
     "output_type": "stream",
     "text": [
      "[I 2024-12-03 11:48:23,500] Trial 189 finished with value: 0.06075623917216665 and parameters: {'norm': 2, 'itemknn_weight': 0.03519992144240509, 'slim_weight': 0.7936370168391682, 'rp3beta_weight': 0.13280740045597011}. Best is trial 124 with value: 0.06076377879896466.\n"
     ]
    },
    {
     "name": "stdout",
     "output_type": "stream",
     "text": [
      "LinearCombinationRecommender: Fit completed in 0.00 seconds.\n",
      "EvaluatorHoldout: Processed 35595 (100.0%) in 1.52 min. Users per second: 391\n"
     ]
    },
    {
     "name": "stderr",
     "output_type": "stream",
     "text": [
      "[I 2024-12-03 11:49:54,732] Trial 190 finished with value: 0.06065635667573954 and parameters: {'norm': 2, 'itemknn_weight': 0.014569881470348475, 'slim_weight': 0.7881916218490436, 'rp3beta_weight': 0.09385916266215895}. Best is trial 124 with value: 0.06076377879896466.\n"
     ]
    },
    {
     "name": "stdout",
     "output_type": "stream",
     "text": [
      "LinearCombinationRecommender: Fit completed in 0.00 seconds.\n",
      "EvaluatorHoldout: Processed 35595 (100.0%) in 1.52 min. Users per second: 391\n"
     ]
    },
    {
     "name": "stderr",
     "output_type": "stream",
     "text": [
      "[I 2024-12-03 11:51:25,932] Trial 191 finished with value: 0.06074609752127484 and parameters: {'norm': 2, 'itemknn_weight': 0.03991562855000571, 'slim_weight': 0.8184363673009852, 'rp3beta_weight': 0.12782018235112602}. Best is trial 124 with value: 0.06076377879896466.\n"
     ]
    },
    {
     "name": "stdout",
     "output_type": "stream",
     "text": [
      "LinearCombinationRecommender: Fit completed in 0.00 seconds.\n",
      "EvaluatorHoldout: Processed 35595 (100.0%) in 1.52 min. Users per second: 391\n"
     ]
    },
    {
     "name": "stderr",
     "output_type": "stream",
     "text": [
      "[I 2024-12-03 11:52:57,231] Trial 192 finished with value: 0.06076224144196995 and parameters: {'norm': 2, 'itemknn_weight': 0.03502534953395742, 'slim_weight': 0.8135110293261227, 'rp3beta_weight': 0.1289437994452132}. Best is trial 124 with value: 0.06076377879896466.\n"
     ]
    },
    {
     "name": "stdout",
     "output_type": "stream",
     "text": [
      "LinearCombinationRecommender: Fit completed in 0.00 seconds.\n",
      "EvaluatorHoldout: Processed 35595 (100.0%) in 1.52 min. Users per second: 390\n"
     ]
    },
    {
     "name": "stderr",
     "output_type": "stream",
     "text": [
      "[I 2024-12-03 11:54:28,751] Trial 193 finished with value: 0.06075623359799328 and parameters: {'norm': 2, 'itemknn_weight': 0.03460405165974822, 'slim_weight': 0.8255176451254922, 'rp3beta_weight': 0.13391993154550424}. Best is trial 124 with value: 0.06076377879896466.\n"
     ]
    },
    {
     "name": "stdout",
     "output_type": "stream",
     "text": [
      "LinearCombinationRecommender: Fit completed in 0.00 seconds.\n",
      "EvaluatorHoldout: Processed 35595 (100.0%) in 1.52 min. Users per second: 390\n"
     ]
    },
    {
     "name": "stderr",
     "output_type": "stream",
     "text": [
      "[I 2024-12-03 11:56:00,145] Trial 194 finished with value: 0.06074572516649879 and parameters: {'norm': 2, 'itemknn_weight': 0.03653161828786334, 'slim_weight': 0.8168745542660533, 'rp3beta_weight': 0.13040765408675398}. Best is trial 124 with value: 0.06076377879896466.\n"
     ]
    },
    {
     "name": "stdout",
     "output_type": "stream",
     "text": [
      "LinearCombinationRecommender: Fit completed in 0.00 seconds.\n",
      "EvaluatorHoldout: Processed 35595 (100.0%) in 1.52 min. Users per second: 390\n"
     ]
    },
    {
     "name": "stderr",
     "output_type": "stream",
     "text": [
      "[I 2024-12-03 11:57:31,587] Trial 195 finished with value: 0.06064089391902109 and parameters: {'norm': 2, 'itemknn_weight': 0.0005898592480198112, 'slim_weight': 0.8197451413122276, 'rp3beta_weight': 0.12518430490358184}. Best is trial 124 with value: 0.06076377879896466.\n"
     ]
    },
    {
     "name": "stdout",
     "output_type": "stream",
     "text": [
      "LinearCombinationRecommender: Fit completed in 0.00 seconds.\n",
      "EvaluatorHoldout: Processed 35595 (100.0%) in 1.52 min. Users per second: 391\n"
     ]
    },
    {
     "name": "stderr",
     "output_type": "stream",
     "text": [
      "[I 2024-12-03 11:59:02,731] Trial 196 finished with value: 0.06075086120977226 and parameters: {'norm': 2, 'itemknn_weight': 0.03642544948078807, 'slim_weight': 0.7241661952681222, 'rp3beta_weight': 0.0843409379070065}. Best is trial 124 with value: 0.06076377879896466.\n"
     ]
    },
    {
     "name": "stdout",
     "output_type": "stream",
     "text": [
      "LinearCombinationRecommender: Fit completed in 0.00 seconds.\n",
      "EvaluatorHoldout: Processed 35595 (100.0%) in 1.52 min. Users per second: 390\n"
     ]
    },
    {
     "name": "stderr",
     "output_type": "stream",
     "text": [
      "[I 2024-12-03 12:00:34,167] Trial 197 finished with value: 0.06068943270523388 and parameters: {'norm': 2, 'itemknn_weight': 0.04173099887865642, 'slim_weight': 0.792052170833838, 'rp3beta_weight': 0.0683830708318529}. Best is trial 124 with value: 0.06076377879896466.\n"
     ]
    },
    {
     "name": "stdout",
     "output_type": "stream",
     "text": [
      "LinearCombinationRecommender: Fit completed in 0.00 seconds.\n",
      "EvaluatorHoldout: Processed 35595 (100.0%) in 1.52 min. Users per second: 391\n"
     ]
    },
    {
     "name": "stderr",
     "output_type": "stream",
     "text": [
      "[I 2024-12-03 12:02:05,304] Trial 198 finished with value: 0.06074403061781734 and parameters: {'norm': 2, 'itemknn_weight': 0.05707202250065098, 'slim_weight': 0.8209709622164788, 'rp3beta_weight': 0.09923699895719275}. Best is trial 124 with value: 0.06076377879896466.\n"
     ]
    },
    {
     "name": "stdout",
     "output_type": "stream",
     "text": [
      "LinearCombinationRecommender: Fit completed in 0.00 seconds.\n",
      "EvaluatorHoldout: Processed 35595 (100.0%) in 1.52 min. Users per second: 391\n"
     ]
    },
    {
     "name": "stderr",
     "output_type": "stream",
     "text": [
      "[I 2024-12-03 12:03:36,497] Trial 199 finished with value: 0.06063713581138604 and parameters: {'norm': 2, 'itemknn_weight': 0.03476067908623501, 'slim_weight': 0.7653418749690175, 'rp3beta_weight': 0.038939999578766066}. Best is trial 124 with value: 0.06076377879896466.\n"
     ]
    }
   ],
   "source": [
    "if config['tune_parameters']:\n",
    "    \n",
    "    optuna_study = optuna.create_study(direction='maximize', study_name=f'hyperparameters_tuning_{config[\"model\"]}',\n",
    "                                storage=f'sqlite:///{config[\"database_path\"]}', load_if_exists=True)\n",
    "\n",
    "    optuna_study.optimize(objective_function_, n_trials=50)"
   ]
  },
  {
   "cell_type": "markdown",
   "id": "6cbfcaf3",
   "metadata": {
    "papermill": {
     "duration": 0.022441,
     "end_time": "2024-12-03T12:03:36.548068",
     "exception": false,
     "start_time": "2024-12-03T12:03:36.525627",
     "status": "completed"
    },
    "tags": []
   },
   "source": [
    "## Some optuna visualizations on recommender parameters"
   ]
  },
  {
   "cell_type": "code",
   "execution_count": 15,
   "id": "405a1966",
   "metadata": {
    "execution": {
     "iopub.execute_input": "2024-12-03T12:03:36.594143Z",
     "iopub.status.busy": "2024-12-03T12:03:36.593758Z",
     "iopub.status.idle": "2024-12-03T12:03:37.763243Z",
     "shell.execute_reply": "2024-12-03T12:03:37.762145Z"
    },
    "papermill": {
     "duration": 1.195089,
     "end_time": "2024-12-03T12:03:37.765364",
     "exception": false,
     "start_time": "2024-12-03T12:03:36.570275",
     "status": "completed"
    },
    "tags": []
   },
   "outputs": [
    {
     "data": {
      "text/html": [
       "        <script type=\"text/javascript\">\n",
       "        window.PlotlyConfig = {MathJaxConfig: 'local'};\n",
       "        if (window.MathJax && window.MathJax.Hub && window.MathJax.Hub.Config) {window.MathJax.Hub.Config({SVG: {font: \"STIX-Web\"}});}\n",
       "        if (typeof require !== 'undefined') {\n",
       "        require.undef(\"plotly\");\n",
       "        requirejs.config({\n",
       "            paths: {\n",
       "                'plotly': ['https://cdn.plot.ly/plotly-2.32.0.min']\n",
       "            }\n",
       "        });\n",
       "        require(['plotly'], function(Plotly) {\n",
       "            window._Plotly = Plotly;\n",
       "        });\n",
       "        }\n",
       "        </script>\n",
       "        "
      ]
     },
     "metadata": {},
     "output_type": "display_data"
    },
    {
     "data": {
      "text/html": [
       "<div>                            <div id=\"9d99f782-f9a3-4ea7-a286-9c01092c3725\" class=\"plotly-graph-div\" style=\"height:525px; width:1200px;\"></div>            <script type=\"text/javascript\">                require([\"plotly\"], function(Plotly) {                    window.PLOTLYENV=window.PLOTLYENV || {};                                    if (document.getElementById(\"9d99f782-f9a3-4ea7-a286-9c01092c3725\")) {                    Plotly.newPlot(                        \"9d99f782-f9a3-4ea7-a286-9c01092c3725\",                        [{\"marker\":{\"color\":[0,1,2,3,4,5,6,7,8,9,10,11,12,13,14,15,16,17,18,19,20,21,22,23,24,25,26,27,28,29,30,31,32,33,34,35,36,37,38,39,40,41,42,43,44,45,46,47,48,49,50,51,52,53,54,55,56,57,58,59,60,61,62,63,64,65,66,67,68,69,70,71,72,73,74,75,76,77,78,79,80,81,82,83,84,85,86,87,88,89,90,91,92,93,94,95,96,97,98,99,100,101,102,103,104,105,106,107,108,109,110,111,112,113,114,115,116,117,118,119,120,121,122,123,124,125,126,127,128,129,130,131,132,133,134,135,136,137,138,139,140,141,142,143,144,145,146,147,148,149,150,151,152,153,154,155,156,157,158,159,160,161,162,163,164,165,166,167,168,169,170,171,172,173,174,175,176,177,178,179,180,181,182,183,184,185,186,187,188,189,190,191,192,193,194,195,196,197,198,199],\"colorbar\":{\"title\":{\"text\":\"Trial\"},\"x\":1.0,\"xpad\":40},\"colorscale\":[[0.0,\"rgb(247,251,255)\"],[0.125,\"rgb(222,235,247)\"],[0.25,\"rgb(198,219,239)\"],[0.375,\"rgb(158,202,225)\"],[0.5,\"rgb(107,174,214)\"],[0.625,\"rgb(66,146,198)\"],[0.75,\"rgb(33,113,181)\"],[0.875,\"rgb(8,81,156)\"],[1.0,\"rgb(8,48,107)\"]],\"line\":{\"color\":\"Grey\",\"width\":0.5},\"showscale\":true},\"mode\":\"markers\",\"name\":\"Feasible Trial\",\"showlegend\":false,\"x\":[0.18407633825550507,0.33486501435544613,0.27263111361950787,0.7313914491969451,0.6507402079808057,0.39402578620034534,0.19333378818367053,0.11871651625386648,0.11366966687316815,0.7367734694930907,0.9563166237184901,0.008076793715719621,0.0038187965024023083,0.010489544101503661,0.011909051380117028,0.46686998215804887,0.023265959924455498,0.5661947251698205,0.27180525256697147,0.9268799752749638,0.12327568942689293,0.01697830034023031,0.09751592507833785,0.2095052803080889,0.08470819165236641,0.09335596817292752,0.38177581211362216,0.3021740140088794,0.20232344389339257,0.20282430515359362,0.15311927575644182,0.15546904751263094,0.08619181493013336,0.07105982945688503,0.08519881380638417,0.2611050771818979,0.06851873243041437,0.36744264352141953,0.44893396875405017,0.23492489893016427,0.06411617581876287,0.05529411608062691,0.06684357575498977,0.1404363471576465,0.049500353017653695,0.15428483583149843,0.7612949618056443,0.3210208844579115,0.05714479173737848,0.16595396195494086,0.5645615170672367,0.05124281274441474,0.11902764734076815,0.038968025720489824,0.10973927977956478,0.03914333584562384,0.0005137431607650095,0.24079595861990044,0.03805085799982759,0.03969904569881876,0.12344980687138637,0.17812417204998582,0.09525544000226896,0.04484709980355729,0.02212709734292386,0.08562529247418763,0.13121781195270119,0.17930526179946307,0.8597851920017615,0.21859218587687856,0.0026316974966722334,0.04576733325602195,0.07185022774586458,0.03634991202687646,0.033502332397328694,0.11101529597274308,0.04726466673272635,0.021271991538972197,0.14187536426653752,0.06974185394962858,0.09794549346468545,0.06474577033517676,0.05470747880861695,0.02596677689906685,0.0010152172647801133,0.02952323490690455,0.08742076436372687,0.6947589476903497,0.1107432722205269,0.02791873781757888,0.13967884013651044,0.06311934146320275,0.059141715493291835,0.08156798156351998,0.08565518273693434,0.02336265248923726,0.16926136987071186,0.042563827446106636,0.11454092894310482,0.5313025998968908,0.0007648851337543755,0.06885223884445899,0.054648751611602944,0.09903102832236838,0.08130720040332852,0.018200381277744957,0.04253021343753532,0.1345460810760135,0.18873703995260263,0.09896016930310265,0.4219646238930952,0.07414430027620451,0.0833928491071004,0.046846583398474834,0.024687921362064533,0.01480779486697715,0.6173476600690047,0.15431820717936234,0.03609497840273069,0.07846894885853459,0.12793135228046598,0.04960429290995422,0.028060162503508335,0.05031811441797329,0.050196859379022365,0.01022070205393072,0.0003139184419122566,0.07899504902315779,0.1030489477233833,0.049865576911785586,0.028214822321458225,0.0278986867249727,0.02230253559019245,0.029723476506482348,0.05989904964396847,0.06591717045711389,0.056185466906791985,0.01863024482192366,0.1151587774347093,0.053007176943608174,0.0036585746327374297,0.034017728548977486,0.04261540463303654,0.06955317460103452,0.09111754444737194,0.032192687243103306,0.06105610865892208,0.016900774672038887,0.9892209714651117,0.35384845298609796,0.09904412832781548,0.034038118978174624,0.037180101041017335,0.0008018207483391701,0.07519584268482016,0.04950286373101348,0.028626844498447702,0.020712011673699314,0.8433512960306492,0.04290199685932877,0.020004744309073213,0.023723485920320916,0.00021836146220234956,0.05516575728831773,0.03320053651413336,0.06205406034985612,0.02073966548186717,0.0934254641907548,0.04354458320833413,0.0751546632950806,0.0163842131347135,0.0707923030476025,0.03823869388987145,0.039253440005119496,0.29347013299214736,0.0501326849011288,0.04150264899211193,0.002432175991736011,0.11096166755002669,0.05894937297356602,0.08873867733752855,0.02941979409573006,0.026726449197668624,0.040440246513550916,0.06834915573839145,0.03377360600424599,0.054749981902143294,0.018679874135649872,0.08113151882907609,0.03519992144240509,0.014569881470348475,0.03991562855000571,0.03502534953395742,0.03460405165974822,0.03653161828786334,0.0005898592480198112,0.03642544948078807,0.04173099887865642,0.05707202250065098,0.03476067908623501],\"y\":[0.05919548179809244,0.05781476018791448,0.0596222561131938,0.056819019971146134,0.05360905647083326,0.055972823675518917,0.057227871089436895,0.05962045788488898,0.057806980871664845,0.056808841530710655,0.05891920904710422,0.059978256264810986,0.059919125434504346,0.05782761423153133,0.06004226115224615,0.05403167356749167,0.05984527767186639,0.05408495820484702,0.05585557539961074,0.05720468698787072,0.05619737478734342,0.06016774471177961,0.06009670856215107,0.05935024537510621,0.060686789432257665,0.06066025971188052,0.05991358247658085,0.05993096274891275,0.06043018459432111,0.06036042938971544,0.060648866101666664,0.060656382316936854,0.060706243297054936,0.06068059652572753,0.06054714970222583,0.05926224924581215,0.06060882792972793,0.060104740945868304,0.056958695375886916,0.06039237051752671,0.060695199744924176,0.060695341328925824,0.06062886262338268,0.060460292933953254,0.06066056517657706,0.060235883406129974,0.058241368392651795,0.059751669464899716,0.059945930519042484,0.06036014733654655,0.05638706724905429,0.06070211171980916,0.06063802099010526,0.060748808799165124,0.06067749728537595,0.06066778596066251,0.06065248039563068,0.05978682912037108,0.06071052537697966,0.0606837492781428,0.06047790063255542,0.06028855599925795,0.06004436818975175,0.060658011090373436,0.060220212175330044,0.058156740178862076,0.060261488928575156,0.060292418901351,0.058673272062018514,0.05932972572837513,0.060348118270577504,0.060715862090491735,0.06068747728524222,0.06074634167006506,0.06067668903024824,0.060290014202991585,0.05934093427603544,0.06060735969248235,0.05683421405271192,0.05982914824402186,0.06056226128602683,0.0606990983217263,0.06069970256211141,0.06073039730477387,0.06069311388927726,0.06064793075538789,0.060690160692266,0.058793872645745975,0.060608577091929815,0.0600338932032966,0.06058247212355764,0.06069935696336713,0.06069021977850301,0.0607164473786877,0.06067847276570247,0.060676654470373646,0.060504392448554115,0.060566760758710106,0.06059645326501448,0.05965553727226528,0.060678612120034676,0.06069330006666547,0.060750782056511486,0.06057347094852197,0.06071118981843634,0.06065044470754363,0.05997109902630144,0.06054546741672575,0.060604571491000465,0.0606157889573381,0.05963243566846406,0.06071375505298655,0.060695917698444554,0.06070810841543924,0.06071317533896365,0.06061939210295562,0.057607043079439,0.05696927181229559,0.05695447795637233,0.06045443001848189,0.060654829352257064,0.06070764018488246,0.060656747982704935,0.06072579861180623,0.06076377879896466,0.06066071233475183,0.06055807173737884,0.05942024026916346,0.060469250630436906,0.060753205707059874,0.060748289286214105,0.06075380994744487,0.0607203782856946,0.06069210050457249,0.060720633582831675,0.06069833354515033,0.06069814290842358,0.060696243230164655,0.06066152393438368,0.06063528964519109,0.060623262808891,0.06073313533869613,0.06066261424267988,0.060693091592584306,0.06067941926032786,0.060712040437280956,0.06067092979440051,0.06069613397636808,0.05816015714709155,0.05517874367052463,0.06002877388254337,0.060733739579081195,0.060713378238871636,0.06059329159392184,0.060690981210575035,0.06066203675832656,0.06071495238540983,0.06071046071656918,0.05845857608857843,0.06069958996381083,0.06071584425313692,0.060704723777414704,0.06065415599212298,0.06070372823006456,0.060618182507350696,0.06065391853234071,0.06069537477396539,0.06067962104540111,0.06070704709284399,0.060684201901014374,0.06066301223865303,0.060706733824304956,0.06074187006824844,0.06073729590164311,0.05994991828261743,0.06070338040165102,0.06070055206612138,0.06066589520108096,0.060696241000495504,0.05888221660345359,0.06063433980606162,0.06072505724675788,0.06075403737371521,0.06070913517816007,0.0606874048209893,0.06070455209287734,0.05914123505842653,0.060181840681206356,0.060678191827368444,0.06075623917216665,0.06065635667573954,0.06074609752127484,0.06076224144196995,0.06075623359799328,0.06074572516649879,0.06064089391902109,0.06075086120977226,0.06068943270523388,0.06074403061781734,0.06063713581138604],\"type\":\"scatter\",\"xaxis\":\"x\",\"yaxis\":\"y\"},{\"marker\":{\"color\":[0,1,2,3,4,5,6,7,8,9,10,11,12,13,14,15,16,17,18,19,20,21,22,23,24,25,26,27,28,29,30,31,32,33,34,35,36,37,38,39,40,41,42,43,44,45,46,47,48,49,50,51,52,53,54,55,56,57,58,59,60,61,62,63,64,65,66,67,68,69,70,71,72,73,74,75,76,77,78,79,80,81,82,83,84,85,86,87,88,89,90,91,92,93,94,95,96,97,98,99,100,101,102,103,104,105,106,107,108,109,110,111,112,113,114,115,116,117,118,119,120,121,122,123,124,125,126,127,128,129,130,131,132,133,134,135,136,137,138,139,140,141,142,143,144,145,146,147,148,149,150,151,152,153,154,155,156,157,158,159,160,161,162,163,164,165,166,167,168,169,170,171,172,173,174,175,176,177,178,179,180,181,182,183,184,185,186,187,188,189,190,191,192,193,194,195,196,197,198,199],\"colorbar\":{\"title\":{\"text\":\"Trial\"},\"x\":1.0,\"xpad\":40},\"colorscale\":[[0.0,\"rgb(247,251,255)\"],[0.125,\"rgb(222,235,247)\"],[0.25,\"rgb(198,219,239)\"],[0.375,\"rgb(158,202,225)\"],[0.5,\"rgb(107,174,214)\"],[0.625,\"rgb(66,146,198)\"],[0.75,\"rgb(33,113,181)\"],[0.875,\"rgb(8,81,156)\"],[1.0,\"rgb(8,48,107)\"]],\"line\":{\"color\":\"Grey\",\"width\":0.5},\"showscale\":false},\"mode\":\"markers\",\"name\":\"Feasible Trial\",\"showlegend\":false,\"x\":[2,2,null,1,null,1,null,null,1,1,null,null,null,null,null,null,null,null,null,2,null,null,null,null,null,null,null,null,null,2,null,null,null,null,2,null,null,null,1,null,2,2,2,2,2,2,2,2,1,2,2,2,2,2,2,2,2,2,2,2,2,2,1,2,2,null,2,2,2,1,2,2,2,2,2,2,2,2,null,2,2,2,2,2,2,2,2,2,2,null,2,2,2,2,2,2,2,1,2,null,2,2,2,2,2,2,2,2,null,2,2,2,2,2,2,2,1,null,2,2,null,2,2,2,2,2,2,2,2,2,2,2,2,2,2,2,2,2,2,2,2,2,2,2,2,2,2,2,2,null,1,2,2,2,2,2,2,2,2,2,2,2,2,2,2,2,2,2,2,2,2,2,2,2,2,2,2,2,2,1,2,2,2,2,2,2,null,2,2,2,2,2,2,2,2,2,2,2,2,2],\"y\":[0.05919548179809244,0.05781476018791448,0.0596222561131938,0.056819019971146134,0.05360905647083326,0.055972823675518917,0.057227871089436895,0.05962045788488898,0.057806980871664845,0.056808841530710655,0.05891920904710422,0.059978256264810986,0.059919125434504346,0.05782761423153133,0.06004226115224615,0.05403167356749167,0.05984527767186639,0.05408495820484702,0.05585557539961074,0.05720468698787072,0.05619737478734342,0.06016774471177961,0.06009670856215107,0.05935024537510621,0.060686789432257665,0.06066025971188052,0.05991358247658085,0.05993096274891275,0.06043018459432111,0.06036042938971544,0.060648866101666664,0.060656382316936854,0.060706243297054936,0.06068059652572753,0.06054714970222583,0.05926224924581215,0.06060882792972793,0.060104740945868304,0.056958695375886916,0.06039237051752671,0.060695199744924176,0.060695341328925824,0.06062886262338268,0.060460292933953254,0.06066056517657706,0.060235883406129974,0.058241368392651795,0.059751669464899716,0.059945930519042484,0.06036014733654655,0.05638706724905429,0.06070211171980916,0.06063802099010526,0.060748808799165124,0.06067749728537595,0.06066778596066251,0.06065248039563068,0.05978682912037108,0.06071052537697966,0.0606837492781428,0.06047790063255542,0.06028855599925795,0.06004436818975175,0.060658011090373436,0.060220212175330044,0.058156740178862076,0.060261488928575156,0.060292418901351,0.058673272062018514,0.05932972572837513,0.060348118270577504,0.060715862090491735,0.06068747728524222,0.06074634167006506,0.06067668903024824,0.060290014202991585,0.05934093427603544,0.06060735969248235,0.05683421405271192,0.05982914824402186,0.06056226128602683,0.0606990983217263,0.06069970256211141,0.06073039730477387,0.06069311388927726,0.06064793075538789,0.060690160692266,0.058793872645745975,0.060608577091929815,0.0600338932032966,0.06058247212355764,0.06069935696336713,0.06069021977850301,0.0607164473786877,0.06067847276570247,0.060676654470373646,0.060504392448554115,0.060566760758710106,0.06059645326501448,0.05965553727226528,0.060678612120034676,0.06069330006666547,0.060750782056511486,0.06057347094852197,0.06071118981843634,0.06065044470754363,0.05997109902630144,0.06054546741672575,0.060604571491000465,0.0606157889573381,0.05963243566846406,0.06071375505298655,0.060695917698444554,0.06070810841543924,0.06071317533896365,0.06061939210295562,0.057607043079439,0.05696927181229559,0.05695447795637233,0.06045443001848189,0.060654829352257064,0.06070764018488246,0.060656747982704935,0.06072579861180623,0.06076377879896466,0.06066071233475183,0.06055807173737884,0.05942024026916346,0.060469250630436906,0.060753205707059874,0.060748289286214105,0.06075380994744487,0.0607203782856946,0.06069210050457249,0.060720633582831675,0.06069833354515033,0.06069814290842358,0.060696243230164655,0.06066152393438368,0.06063528964519109,0.060623262808891,0.06073313533869613,0.06066261424267988,0.060693091592584306,0.06067941926032786,0.060712040437280956,0.06067092979440051,0.06069613397636808,0.05816015714709155,0.05517874367052463,0.06002877388254337,0.060733739579081195,0.060713378238871636,0.06059329159392184,0.060690981210575035,0.06066203675832656,0.06071495238540983,0.06071046071656918,0.05845857608857843,0.06069958996381083,0.06071584425313692,0.060704723777414704,0.06065415599212298,0.06070372823006456,0.060618182507350696,0.06065391853234071,0.06069537477396539,0.06067962104540111,0.06070704709284399,0.060684201901014374,0.06066301223865303,0.060706733824304956,0.06074187006824844,0.06073729590164311,0.05994991828261743,0.06070338040165102,0.06070055206612138,0.06066589520108096,0.060696241000495504,0.05888221660345359,0.06063433980606162,0.06072505724675788,0.06075403737371521,0.06070913517816007,0.0606874048209893,0.06070455209287734,0.05914123505842653,0.060181840681206356,0.060678191827368444,0.06075623917216665,0.06065635667573954,0.06074609752127484,0.06076224144196995,0.06075623359799328,0.06074572516649879,0.06064089391902109,0.06075086120977226,0.06068943270523388,0.06074403061781734,0.06063713581138604],\"type\":\"scatter\",\"xaxis\":\"x2\",\"yaxis\":\"y2\"},{\"marker\":{\"color\":[0,1,2,3,4,5,6,7,8,9,10,11,12,13,14,15,16,17,18,19,20,21,22,23,24,25,26,27,28,29,30,31,32,33,34,35,36,37,38,39,40,41,42,43,44,45,46,47,48,49,50,51,52,53,54,55,56,57,58,59,60,61,62,63,64,65,66,67,68,69,70,71,72,73,74,75,76,77,78,79,80,81,82,83,84,85,86,87,88,89,90,91,92,93,94,95,96,97,98,99,100,101,102,103,104,105,106,107,108,109,110,111,112,113,114,115,116,117,118,119,120,121,122,123,124,125,126,127,128,129,130,131,132,133,134,135,136,137,138,139,140,141,142,143,144,145,146,147,148,149,150,151,152,153,154,155,156,157,158,159,160,161,162,163,164,165,166,167,168,169,170,171,172,173,174,175,176,177,178,179,180,181,182,183,184,185,186,187,188,189,190,191,192,193,194,195,196,197,198,199],\"colorbar\":{\"title\":{\"text\":\"Trial\"},\"x\":1.0,\"xpad\":40},\"colorscale\":[[0.0,\"rgb(247,251,255)\"],[0.125,\"rgb(222,235,247)\"],[0.25,\"rgb(198,219,239)\"],[0.375,\"rgb(158,202,225)\"],[0.5,\"rgb(107,174,214)\"],[0.625,\"rgb(66,146,198)\"],[0.75,\"rgb(33,113,181)\"],[0.875,\"rgb(8,81,156)\"],[1.0,\"rgb(8,48,107)\"]],\"line\":{\"color\":\"Grey\",\"width\":0.5},\"showscale\":false},\"mode\":\"markers\",\"name\":\"Feasible Trial\",\"showlegend\":false,\"x\":[0.8846451650010237,0.19760465213234824,0.5570228576408808,0.8972595757595578,0.34841568168763837,0.14058431735780796,0.5281552071776284,0.29056238600381334,0.5845019531729686,0.5512679477856419,0.7524841408042768,0.33023382882918545,0.39377484440168775,0.03426993870887396,0.3966280494953967,0.4038287316981189,0.2018494860638652,0.7355915684009668,0.6806539004004459,0.007734850493273493,0.45222715574002004,0.3022386723659505,0.29577188744753036,0.2495821837168463,0.12213880168404356,0.10056394452028139,0.10008934988008997,0.12269258212219626,0.0760887496372922,0.06914309714703379,0.17811822296316218,0.1678601882246965,0.18162767695170956,0.22967799380240728,0.2322736002809147,0.9711878481076289,0.2202882794572929,0.14802297815603774,0.032554367889455746,0.2560735943030327,0.08979953168376878,0.10368651650218606,0.17499879649329236,0.000011735618957370297,0.06611792982012697,0.1307683617412427,0.3499859568575206,0.046510929625994124,0.2588468045971987,0.19823456587592325,0.49412863886391056,0.07938064425941271,0.10156558526742938,0.14115483981578023,0.13916250787719497,0.04631110458416998,0.09731973665894374,0.5963389335914184,0.16079164353709163,0.17789646280658944,0.025850808844304102,0.13069324529067983,0.09059928361112946,0.15951891704641016,0.2787487480614839,0.20718476157285834,0.059631344469782854,0.12130150249421072,0.3174464959711416,0.18714691126116287,0.010367191699290818,0.1594752830895111,0.1468832562959366,0.15387567765070095,0.07870197181067651,0.37320341037998567,0.7835017756962238,0.236558019774609,0.11018175214968084,0.2731710388808968,0.20152086421132537,0.14413730585094597,0.156961233077764,0.14956163593528218,0.1643199747954464,0.21791154895798268,0.15352584522128146,0.18725470664955754,0.25249189478665596,0.4372885329273721,0.0669089927745322,0.11868264822992844,0.14016329778510458,0.11925884793937422,0.17017198548859547,0.11323344689659774,0.04963161357047155,0.08253250401352812,0.22308171380110128,0.11954002576745035,0.19377175497543075,0.1543254979920733,0.1311686533180208,0.018103735527841974,0.128080402801301,0.08888254520594911,0.17152913704731107,0.04448991325883858,0.1316206833479005,0.2039244307809439,0.06862496209592196,0.10906996913071634,0.1050113011882024,0.1822260371036932,0.1788770892883611,0.23784696246202447,0.6392368324923556,0.21414043562789695,0.18112421212610186,0.26800482025789274,0.13858606914185656,0.162700539424199,0.18891849817944212,0.17084420767231331,0.13200495195196793,0.1266903759991584,0.09542742915912977,0.8580899481423909,0.2965771606141462,0.14151555712239314,0.1444581080221795,0.14928486717143738,0.13937687613553076,0.10735705574576865,0.14310418952319665,0.14268092066278557,0.08708704690995704,0.15255729556268796,0.1235338903614584,0.057776063778325615,0.10597794473379024,0.16479924288959638,0.20611609153584232,0.1466482464139673,0.17021934599669436,0.12082189702516857,0.0775109208773117,0.14076763128924882,0.22691412906764497,0.1559449299101403,0.1938288686637028,0.1714334855006142,0.16703557573395736,0.1052209539804514,0.13313008652595615,0.20148733131295338,0.1154216888858007,0.16297900120660214,0.14004416263858357,0.08875692569935428,0.17818843538703455,0.18161817288244153,0.13056901163300738,0.15264080706286626,0.24500477218283195,0.21409226678930887,0.11539296381824615,0.17148586624406204,0.1915436367422653,0.1531593563680425,0.11913153881107064,0.09775481784235854,0.1394334082886131,0.13829234265897344,0.16823825953631077,0.14155091759768584,0.18020605943483403,0.13525008489465012,0.15576241527014226,0.5308856507371855,0.20295297527473416,0.1193828038229389,0.12930590843395112,0.07383058327335315,0.12941566535173826,0.09755248379208276,0.14621213663605892,0.11610289148835516,0.15960421811912331,0.13280740045597011,0.09385916266215895,0.12782018235112602,0.1289437994452132,0.13391993154550424,0.13040765408675398,0.12518430490358184,0.0843409379070065,0.0683830708318529,0.09923699895719275,0.038939999578766066],\"y\":[0.05919548179809244,0.05781476018791448,0.0596222561131938,0.056819019971146134,0.05360905647083326,0.055972823675518917,0.057227871089436895,0.05962045788488898,0.057806980871664845,0.056808841530710655,0.05891920904710422,0.059978256264810986,0.059919125434504346,0.05782761423153133,0.06004226115224615,0.05403167356749167,0.05984527767186639,0.05408495820484702,0.05585557539961074,0.05720468698787072,0.05619737478734342,0.06016774471177961,0.06009670856215107,0.05935024537510621,0.060686789432257665,0.06066025971188052,0.05991358247658085,0.05993096274891275,0.06043018459432111,0.06036042938971544,0.060648866101666664,0.060656382316936854,0.060706243297054936,0.06068059652572753,0.06054714970222583,0.05926224924581215,0.06060882792972793,0.060104740945868304,0.056958695375886916,0.06039237051752671,0.060695199744924176,0.060695341328925824,0.06062886262338268,0.060460292933953254,0.06066056517657706,0.060235883406129974,0.058241368392651795,0.059751669464899716,0.059945930519042484,0.06036014733654655,0.05638706724905429,0.06070211171980916,0.06063802099010526,0.060748808799165124,0.06067749728537595,0.06066778596066251,0.06065248039563068,0.05978682912037108,0.06071052537697966,0.0606837492781428,0.06047790063255542,0.06028855599925795,0.06004436818975175,0.060658011090373436,0.060220212175330044,0.058156740178862076,0.060261488928575156,0.060292418901351,0.058673272062018514,0.05932972572837513,0.060348118270577504,0.060715862090491735,0.06068747728524222,0.06074634167006506,0.06067668903024824,0.060290014202991585,0.05934093427603544,0.06060735969248235,0.05683421405271192,0.05982914824402186,0.06056226128602683,0.0606990983217263,0.06069970256211141,0.06073039730477387,0.06069311388927726,0.06064793075538789,0.060690160692266,0.058793872645745975,0.060608577091929815,0.0600338932032966,0.06058247212355764,0.06069935696336713,0.06069021977850301,0.0607164473786877,0.06067847276570247,0.060676654470373646,0.060504392448554115,0.060566760758710106,0.06059645326501448,0.05965553727226528,0.060678612120034676,0.06069330006666547,0.060750782056511486,0.06057347094852197,0.06071118981843634,0.06065044470754363,0.05997109902630144,0.06054546741672575,0.060604571491000465,0.0606157889573381,0.05963243566846406,0.06071375505298655,0.060695917698444554,0.06070810841543924,0.06071317533896365,0.06061939210295562,0.057607043079439,0.05696927181229559,0.05695447795637233,0.06045443001848189,0.060654829352257064,0.06070764018488246,0.060656747982704935,0.06072579861180623,0.06076377879896466,0.06066071233475183,0.06055807173737884,0.05942024026916346,0.060469250630436906,0.060753205707059874,0.060748289286214105,0.06075380994744487,0.0607203782856946,0.06069210050457249,0.060720633582831675,0.06069833354515033,0.06069814290842358,0.060696243230164655,0.06066152393438368,0.06063528964519109,0.060623262808891,0.06073313533869613,0.06066261424267988,0.060693091592584306,0.06067941926032786,0.060712040437280956,0.06067092979440051,0.06069613397636808,0.05816015714709155,0.05517874367052463,0.06002877388254337,0.060733739579081195,0.060713378238871636,0.06059329159392184,0.060690981210575035,0.06066203675832656,0.06071495238540983,0.06071046071656918,0.05845857608857843,0.06069958996381083,0.06071584425313692,0.060704723777414704,0.06065415599212298,0.06070372823006456,0.060618182507350696,0.06065391853234071,0.06069537477396539,0.06067962104540111,0.06070704709284399,0.060684201901014374,0.06066301223865303,0.060706733824304956,0.06074187006824844,0.06073729590164311,0.05994991828261743,0.06070338040165102,0.06070055206612138,0.06066589520108096,0.060696241000495504,0.05888221660345359,0.06063433980606162,0.06072505724675788,0.06075403737371521,0.06070913517816007,0.0606874048209893,0.06070455209287734,0.05914123505842653,0.060181840681206356,0.060678191827368444,0.06075623917216665,0.06065635667573954,0.06074609752127484,0.06076224144196995,0.06075623359799328,0.06074572516649879,0.06064089391902109,0.06075086120977226,0.06068943270523388,0.06074403061781734,0.06063713581138604],\"type\":\"scatter\",\"xaxis\":\"x3\",\"yaxis\":\"y3\"},{\"marker\":{\"color\":[0,1,2,3,4,5,6,7,8,9,10,11,12,13,14,15,16,17,18,19,20,21,22,23,24,25,26,27,28,29,30,31,32,33,34,35,36,37,38,39,40,41,42,43,44,45,46,47,48,49,50,51,52,53,54,55,56,57,58,59,60,61,62,63,64,65,66,67,68,69,70,71,72,73,74,75,76,77,78,79,80,81,82,83,84,85,86,87,88,89,90,91,92,93,94,95,96,97,98,99,100,101,102,103,104,105,106,107,108,109,110,111,112,113,114,115,116,117,118,119,120,121,122,123,124,125,126,127,128,129,130,131,132,133,134,135,136,137,138,139,140,141,142,143,144,145,146,147,148,149,150,151,152,153,154,155,156,157,158,159,160,161,162,163,164,165,166,167,168,169,170,171,172,173,174,175,176,177,178,179,180,181,182,183,184,185,186,187,188,189,190,191,192,193,194,195,196,197,198,199],\"colorbar\":{\"title\":{\"text\":\"Trial\"},\"x\":1.0,\"xpad\":40},\"colorscale\":[[0.0,\"rgb(247,251,255)\"],[0.125,\"rgb(222,235,247)\"],[0.25,\"rgb(198,219,239)\"],[0.375,\"rgb(158,202,225)\"],[0.5,\"rgb(107,174,214)\"],[0.625,\"rgb(66,146,198)\"],[0.75,\"rgb(33,113,181)\"],[0.875,\"rgb(8,81,156)\"],[1.0,\"rgb(8,48,107)\"]],\"line\":{\"color\":\"Grey\",\"width\":0.5},\"showscale\":false},\"mode\":\"markers\",\"name\":\"Feasible Trial\",\"showlegend\":false,\"x\":[0.8414622729125448,0.23945033702990515,0.7033880645743561,0.7135990135791926,0.36948652240944924,0.26245073978090394,0.15060023252299004,0.3537887485619946,0.5449731950170983,0.7098521576975315,0.9944468947847904,0.49417297603020566,0.5709647839898018,0.013536619028757246,0.5317230414761719,0.44140710828016694,0.5878947450554085,0.4614756297502685,0.8489724397825975,0.638550997865169,0.42575918661973794,0.5360559188143548,0.5126868921496464,0.32630168272096427,0.6228447128623491,0.641438938712605,0.8257168031207609,0.6434074643685719,0.7466920985153737,0.8547755884917275,0.9268927976645873,0.9697250510035971,0.9899433776091664,0.9692092580333972,0.7957377349618633,0.8946561610960522,0.7692750298933791,0.9252488118279721,0.6451077778751788,0.9507893497692887,0.6952158361889265,0.6720426249853382,0.7095910413614872,0.9955086772491624,0.888181188285058,0.5958637091243617,0.6836059370657829,0.76338859308029,0.881919046761307,0.8082459519250502,0.1413008409750932,0.8925965321885168,0.9426254990944776,0.9963767362707919,0.9983489142344593,0.5977866840236807,0.695875974111354,0.9042052176313613,0.84487574761383,0.8457064858201047,0.8679981812234664,0.7386747463985482,0.789880740902285,0.6742805841614085,0.558373644238673,0.8291556663766556,0.4843314735866037,0.7378206717978385,0.9694472971093789,0.9203959306840326,0.6186134278833173,0.844825464212551,0.9576323653998107,0.935577619201285,0.9169238173084882,0.8678174065326648,0.8129542637588871,0.9464786329797072,0.8395658922311482,0.40000638186882614,0.7756534334721663,0.9664498289142505,0.8989944031435776,0.8922199085834056,0.9009273958005107,0.9826058042720791,0.9383070882933758,0.8769068131140162,0.9748889035854387,0.9009983278278926,0.9233678672142298,0.8524566367347931,0.8541428614485306,0.9970145789400643,0.945495230245295,0.9901804757462552,0.8880967139637241,0.8270874213857192,0.9122738069949299,0.8632121351121029,0.996637707891275,0.9622363297472872,0.9333493456965236,0.9331910036205737,0.8903326687920369,0.8940662789581106,0.2824221426859535,0.8100660697777393,0.9561403289975091,0.9335249144602317,0.8772055277462034,0.8568412321599972,0.9816500226171655,0.9184845552413277,0.9127452110448661,0.9462158289424049,0.9997108582155648,0.9173952752302207,0.0465965502700737,0.7835987044635975,0.8398392370237926,0.8681396066199326,0.8792404662576954,0.971711886605203,0.913619713884121,0.9186285341488264,0.9665957989503563,0.9341313888574853,0.9062106700274275,0.9502039305354342,0.9543396017409197,0.9565382603595985,0.956034554594975,0.9725263759441176,0.9536130851289856,0.9558147825492354,0.9826813625812941,0.9454863926114521,0.9728978841415477,0.9992553293959374,0.9507976841702545,0.931109453621666,0.9392070463693003,0.9681312964576123,0.935399204119123,0.9601098499515224,0.9770224337489425,0.9309668534813444,0.9073276247934232,0.9843072977246718,0.9453934401162589,0.91063167856302,0.8925297069496255,0.9597466076233702,0.998813055260068,0.9238827370247127,0.8639340361996861,0.8781262180065683,0.9112476084226385,0.9534731621227122,0.9271730015506231,0.9314202307622352,0.977963819827531,0.8980586062497782,0.9275145234210069,0.9621506026586543,0.8832837469504673,0.9456462433878113,0.9993269707465692,0.905296349142541,0.9748426682594357,0.8508665356288635,0.8591726350204462,0.82203451643559,0.8049814488553836,0.832802602189152,0.9205582013313676,0.9502835740768899,0.929831949075035,0.885447791931899,0.9771786702050135,0.8670744452615328,0.8238699522946727,0.7532677922082669,0.8141235954288237,0.8393238923193973,0.8703051209931134,0.214521738386788,0.8949684015409102,0.7936370168391682,0.7881916218490436,0.8184363673009852,0.8135110293261227,0.8255176451254922,0.8168745542660533,0.8197451413122276,0.7241661952681222,0.792052170833838,0.8209709622164788,0.7653418749690175],\"y\":[0.05919548179809244,0.05781476018791448,0.0596222561131938,0.056819019971146134,0.05360905647083326,0.055972823675518917,0.057227871089436895,0.05962045788488898,0.057806980871664845,0.056808841530710655,0.05891920904710422,0.059978256264810986,0.059919125434504346,0.05782761423153133,0.06004226115224615,0.05403167356749167,0.05984527767186639,0.05408495820484702,0.05585557539961074,0.05720468698787072,0.05619737478734342,0.06016774471177961,0.06009670856215107,0.05935024537510621,0.060686789432257665,0.06066025971188052,0.05991358247658085,0.05993096274891275,0.06043018459432111,0.06036042938971544,0.060648866101666664,0.060656382316936854,0.060706243297054936,0.06068059652572753,0.06054714970222583,0.05926224924581215,0.06060882792972793,0.060104740945868304,0.056958695375886916,0.06039237051752671,0.060695199744924176,0.060695341328925824,0.06062886262338268,0.060460292933953254,0.06066056517657706,0.060235883406129974,0.058241368392651795,0.059751669464899716,0.059945930519042484,0.06036014733654655,0.05638706724905429,0.06070211171980916,0.06063802099010526,0.060748808799165124,0.06067749728537595,0.06066778596066251,0.06065248039563068,0.05978682912037108,0.06071052537697966,0.0606837492781428,0.06047790063255542,0.06028855599925795,0.06004436818975175,0.060658011090373436,0.060220212175330044,0.058156740178862076,0.060261488928575156,0.060292418901351,0.058673272062018514,0.05932972572837513,0.060348118270577504,0.060715862090491735,0.06068747728524222,0.06074634167006506,0.06067668903024824,0.060290014202991585,0.05934093427603544,0.06060735969248235,0.05683421405271192,0.05982914824402186,0.06056226128602683,0.0606990983217263,0.06069970256211141,0.06073039730477387,0.06069311388927726,0.06064793075538789,0.060690160692266,0.058793872645745975,0.060608577091929815,0.0600338932032966,0.06058247212355764,0.06069935696336713,0.06069021977850301,0.0607164473786877,0.06067847276570247,0.060676654470373646,0.060504392448554115,0.060566760758710106,0.06059645326501448,0.05965553727226528,0.060678612120034676,0.06069330006666547,0.060750782056511486,0.06057347094852197,0.06071118981843634,0.06065044470754363,0.05997109902630144,0.06054546741672575,0.060604571491000465,0.0606157889573381,0.05963243566846406,0.06071375505298655,0.060695917698444554,0.06070810841543924,0.06071317533896365,0.06061939210295562,0.057607043079439,0.05696927181229559,0.05695447795637233,0.06045443001848189,0.060654829352257064,0.06070764018488246,0.060656747982704935,0.06072579861180623,0.06076377879896466,0.06066071233475183,0.06055807173737884,0.05942024026916346,0.060469250630436906,0.060753205707059874,0.060748289286214105,0.06075380994744487,0.0607203782856946,0.06069210050457249,0.060720633582831675,0.06069833354515033,0.06069814290842358,0.060696243230164655,0.06066152393438368,0.06063528964519109,0.060623262808891,0.06073313533869613,0.06066261424267988,0.060693091592584306,0.06067941926032786,0.060712040437280956,0.06067092979440051,0.06069613397636808,0.05816015714709155,0.05517874367052463,0.06002877388254337,0.060733739579081195,0.060713378238871636,0.06059329159392184,0.060690981210575035,0.06066203675832656,0.06071495238540983,0.06071046071656918,0.05845857608857843,0.06069958996381083,0.06071584425313692,0.060704723777414704,0.06065415599212298,0.06070372823006456,0.060618182507350696,0.06065391853234071,0.06069537477396539,0.06067962104540111,0.06070704709284399,0.060684201901014374,0.06066301223865303,0.060706733824304956,0.06074187006824844,0.06073729590164311,0.05994991828261743,0.06070338040165102,0.06070055206612138,0.06066589520108096,0.060696241000495504,0.05888221660345359,0.06063433980606162,0.06072505724675788,0.06075403737371521,0.06070913517816007,0.0606874048209893,0.06070455209287734,0.05914123505842653,0.060181840681206356,0.060678191827368444,0.06075623917216665,0.06065635667573954,0.06074609752127484,0.06076224144196995,0.06075623359799328,0.06074572516649879,0.06064089391902109,0.06075086120977226,0.06068943270523388,0.06074403061781734,0.06063713581138604],\"type\":\"scatter\",\"xaxis\":\"x4\",\"yaxis\":\"y4\"}],                        {\"template\":{\"data\":{\"histogram2dcontour\":[{\"type\":\"histogram2dcontour\",\"colorbar\":{\"outlinewidth\":0,\"ticks\":\"\"},\"colorscale\":[[0.0,\"#0d0887\"],[0.1111111111111111,\"#46039f\"],[0.2222222222222222,\"#7201a8\"],[0.3333333333333333,\"#9c179e\"],[0.4444444444444444,\"#bd3786\"],[0.5555555555555556,\"#d8576b\"],[0.6666666666666666,\"#ed7953\"],[0.7777777777777778,\"#fb9f3a\"],[0.8888888888888888,\"#fdca26\"],[1.0,\"#f0f921\"]]}],\"choropleth\":[{\"type\":\"choropleth\",\"colorbar\":{\"outlinewidth\":0,\"ticks\":\"\"}}],\"histogram2d\":[{\"type\":\"histogram2d\",\"colorbar\":{\"outlinewidth\":0,\"ticks\":\"\"},\"colorscale\":[[0.0,\"#0d0887\"],[0.1111111111111111,\"#46039f\"],[0.2222222222222222,\"#7201a8\"],[0.3333333333333333,\"#9c179e\"],[0.4444444444444444,\"#bd3786\"],[0.5555555555555556,\"#d8576b\"],[0.6666666666666666,\"#ed7953\"],[0.7777777777777778,\"#fb9f3a\"],[0.8888888888888888,\"#fdca26\"],[1.0,\"#f0f921\"]]}],\"heatmap\":[{\"type\":\"heatmap\",\"colorbar\":{\"outlinewidth\":0,\"ticks\":\"\"},\"colorscale\":[[0.0,\"#0d0887\"],[0.1111111111111111,\"#46039f\"],[0.2222222222222222,\"#7201a8\"],[0.3333333333333333,\"#9c179e\"],[0.4444444444444444,\"#bd3786\"],[0.5555555555555556,\"#d8576b\"],[0.6666666666666666,\"#ed7953\"],[0.7777777777777778,\"#fb9f3a\"],[0.8888888888888888,\"#fdca26\"],[1.0,\"#f0f921\"]]}],\"heatmapgl\":[{\"type\":\"heatmapgl\",\"colorbar\":{\"outlinewidth\":0,\"ticks\":\"\"},\"colorscale\":[[0.0,\"#0d0887\"],[0.1111111111111111,\"#46039f\"],[0.2222222222222222,\"#7201a8\"],[0.3333333333333333,\"#9c179e\"],[0.4444444444444444,\"#bd3786\"],[0.5555555555555556,\"#d8576b\"],[0.6666666666666666,\"#ed7953\"],[0.7777777777777778,\"#fb9f3a\"],[0.8888888888888888,\"#fdca26\"],[1.0,\"#f0f921\"]]}],\"contourcarpet\":[{\"type\":\"contourcarpet\",\"colorbar\":{\"outlinewidth\":0,\"ticks\":\"\"}}],\"contour\":[{\"type\":\"contour\",\"colorbar\":{\"outlinewidth\":0,\"ticks\":\"\"},\"colorscale\":[[0.0,\"#0d0887\"],[0.1111111111111111,\"#46039f\"],[0.2222222222222222,\"#7201a8\"],[0.3333333333333333,\"#9c179e\"],[0.4444444444444444,\"#bd3786\"],[0.5555555555555556,\"#d8576b\"],[0.6666666666666666,\"#ed7953\"],[0.7777777777777778,\"#fb9f3a\"],[0.8888888888888888,\"#fdca26\"],[1.0,\"#f0f921\"]]}],\"surface\":[{\"type\":\"surface\",\"colorbar\":{\"outlinewidth\":0,\"ticks\":\"\"},\"colorscale\":[[0.0,\"#0d0887\"],[0.1111111111111111,\"#46039f\"],[0.2222222222222222,\"#7201a8\"],[0.3333333333333333,\"#9c179e\"],[0.4444444444444444,\"#bd3786\"],[0.5555555555555556,\"#d8576b\"],[0.6666666666666666,\"#ed7953\"],[0.7777777777777778,\"#fb9f3a\"],[0.8888888888888888,\"#fdca26\"],[1.0,\"#f0f921\"]]}],\"mesh3d\":[{\"type\":\"mesh3d\",\"colorbar\":{\"outlinewidth\":0,\"ticks\":\"\"}}],\"scatter\":[{\"fillpattern\":{\"fillmode\":\"overlay\",\"size\":10,\"solidity\":0.2},\"type\":\"scatter\"}],\"parcoords\":[{\"type\":\"parcoords\",\"line\":{\"colorbar\":{\"outlinewidth\":0,\"ticks\":\"\"}}}],\"scatterpolargl\":[{\"type\":\"scatterpolargl\",\"marker\":{\"colorbar\":{\"outlinewidth\":0,\"ticks\":\"\"}}}],\"bar\":[{\"error_x\":{\"color\":\"#2a3f5f\"},\"error_y\":{\"color\":\"#2a3f5f\"},\"marker\":{\"line\":{\"color\":\"#E5ECF6\",\"width\":0.5},\"pattern\":{\"fillmode\":\"overlay\",\"size\":10,\"solidity\":0.2}},\"type\":\"bar\"}],\"scattergeo\":[{\"type\":\"scattergeo\",\"marker\":{\"colorbar\":{\"outlinewidth\":0,\"ticks\":\"\"}}}],\"scatterpolar\":[{\"type\":\"scatterpolar\",\"marker\":{\"colorbar\":{\"outlinewidth\":0,\"ticks\":\"\"}}}],\"histogram\":[{\"marker\":{\"pattern\":{\"fillmode\":\"overlay\",\"size\":10,\"solidity\":0.2}},\"type\":\"histogram\"}],\"scattergl\":[{\"type\":\"scattergl\",\"marker\":{\"colorbar\":{\"outlinewidth\":0,\"ticks\":\"\"}}}],\"scatter3d\":[{\"type\":\"scatter3d\",\"line\":{\"colorbar\":{\"outlinewidth\":0,\"ticks\":\"\"}},\"marker\":{\"colorbar\":{\"outlinewidth\":0,\"ticks\":\"\"}}}],\"scattermapbox\":[{\"type\":\"scattermapbox\",\"marker\":{\"colorbar\":{\"outlinewidth\":0,\"ticks\":\"\"}}}],\"scatterternary\":[{\"type\":\"scatterternary\",\"marker\":{\"colorbar\":{\"outlinewidth\":0,\"ticks\":\"\"}}}],\"scattercarpet\":[{\"type\":\"scattercarpet\",\"marker\":{\"colorbar\":{\"outlinewidth\":0,\"ticks\":\"\"}}}],\"carpet\":[{\"aaxis\":{\"endlinecolor\":\"#2a3f5f\",\"gridcolor\":\"white\",\"linecolor\":\"white\",\"minorgridcolor\":\"white\",\"startlinecolor\":\"#2a3f5f\"},\"baxis\":{\"endlinecolor\":\"#2a3f5f\",\"gridcolor\":\"white\",\"linecolor\":\"white\",\"minorgridcolor\":\"white\",\"startlinecolor\":\"#2a3f5f\"},\"type\":\"carpet\"}],\"table\":[{\"cells\":{\"fill\":{\"color\":\"#EBF0F8\"},\"line\":{\"color\":\"white\"}},\"header\":{\"fill\":{\"color\":\"#C8D4E3\"},\"line\":{\"color\":\"white\"}},\"type\":\"table\"}],\"barpolar\":[{\"marker\":{\"line\":{\"color\":\"#E5ECF6\",\"width\":0.5},\"pattern\":{\"fillmode\":\"overlay\",\"size\":10,\"solidity\":0.2}},\"type\":\"barpolar\"}],\"pie\":[{\"automargin\":true,\"type\":\"pie\"}]},\"layout\":{\"autotypenumbers\":\"strict\",\"colorway\":[\"#636efa\",\"#EF553B\",\"#00cc96\",\"#ab63fa\",\"#FFA15A\",\"#19d3f3\",\"#FF6692\",\"#B6E880\",\"#FF97FF\",\"#FECB52\"],\"font\":{\"color\":\"#2a3f5f\"},\"hovermode\":\"closest\",\"hoverlabel\":{\"align\":\"left\"},\"paper_bgcolor\":\"white\",\"plot_bgcolor\":\"#E5ECF6\",\"polar\":{\"bgcolor\":\"#E5ECF6\",\"angularaxis\":{\"gridcolor\":\"white\",\"linecolor\":\"white\",\"ticks\":\"\"},\"radialaxis\":{\"gridcolor\":\"white\",\"linecolor\":\"white\",\"ticks\":\"\"}},\"ternary\":{\"bgcolor\":\"#E5ECF6\",\"aaxis\":{\"gridcolor\":\"white\",\"linecolor\":\"white\",\"ticks\":\"\"},\"baxis\":{\"gridcolor\":\"white\",\"linecolor\":\"white\",\"ticks\":\"\"},\"caxis\":{\"gridcolor\":\"white\",\"linecolor\":\"white\",\"ticks\":\"\"}},\"coloraxis\":{\"colorbar\":{\"outlinewidth\":0,\"ticks\":\"\"}},\"colorscale\":{\"sequential\":[[0.0,\"#0d0887\"],[0.1111111111111111,\"#46039f\"],[0.2222222222222222,\"#7201a8\"],[0.3333333333333333,\"#9c179e\"],[0.4444444444444444,\"#bd3786\"],[0.5555555555555556,\"#d8576b\"],[0.6666666666666666,\"#ed7953\"],[0.7777777777777778,\"#fb9f3a\"],[0.8888888888888888,\"#fdca26\"],[1.0,\"#f0f921\"]],\"sequentialminus\":[[0.0,\"#0d0887\"],[0.1111111111111111,\"#46039f\"],[0.2222222222222222,\"#7201a8\"],[0.3333333333333333,\"#9c179e\"],[0.4444444444444444,\"#bd3786\"],[0.5555555555555556,\"#d8576b\"],[0.6666666666666666,\"#ed7953\"],[0.7777777777777778,\"#fb9f3a\"],[0.8888888888888888,\"#fdca26\"],[1.0,\"#f0f921\"]],\"diverging\":[[0,\"#8e0152\"],[0.1,\"#c51b7d\"],[0.2,\"#de77ae\"],[0.3,\"#f1b6da\"],[0.4,\"#fde0ef\"],[0.5,\"#f7f7f7\"],[0.6,\"#e6f5d0\"],[0.7,\"#b8e186\"],[0.8,\"#7fbc41\"],[0.9,\"#4d9221\"],[1,\"#276419\"]]},\"xaxis\":{\"gridcolor\":\"white\",\"linecolor\":\"white\",\"ticks\":\"\",\"title\":{\"standoff\":15},\"zerolinecolor\":\"white\",\"automargin\":true,\"zerolinewidth\":2},\"yaxis\":{\"gridcolor\":\"white\",\"linecolor\":\"white\",\"ticks\":\"\",\"title\":{\"standoff\":15},\"zerolinecolor\":\"white\",\"automargin\":true,\"zerolinewidth\":2},\"scene\":{\"xaxis\":{\"backgroundcolor\":\"#E5ECF6\",\"gridcolor\":\"white\",\"linecolor\":\"white\",\"showbackground\":true,\"ticks\":\"\",\"zerolinecolor\":\"white\",\"gridwidth\":2},\"yaxis\":{\"backgroundcolor\":\"#E5ECF6\",\"gridcolor\":\"white\",\"linecolor\":\"white\",\"showbackground\":true,\"ticks\":\"\",\"zerolinecolor\":\"white\",\"gridwidth\":2},\"zaxis\":{\"backgroundcolor\":\"#E5ECF6\",\"gridcolor\":\"white\",\"linecolor\":\"white\",\"showbackground\":true,\"ticks\":\"\",\"zerolinecolor\":\"white\",\"gridwidth\":2}},\"shapedefaults\":{\"line\":{\"color\":\"#2a3f5f\"}},\"annotationdefaults\":{\"arrowcolor\":\"#2a3f5f\",\"arrowhead\":0,\"arrowwidth\":1},\"geo\":{\"bgcolor\":\"white\",\"landcolor\":\"#E5ECF6\",\"subunitcolor\":\"white\",\"showland\":true,\"showlakes\":true,\"lakecolor\":\"white\"},\"title\":{\"x\":0.05},\"mapbox\":{\"style\":\"light\"}}},\"xaxis\":{\"anchor\":\"y\",\"domain\":[0.0,0.2125],\"title\":{\"text\":\"itemknn_weight\"}},\"yaxis\":{\"anchor\":\"x\",\"domain\":[0.0,1.0],\"title\":{\"text\":\"Objective Value\"}},\"xaxis2\":{\"anchor\":\"y2\",\"domain\":[0.2625,0.475],\"title\":{\"text\":\"norm\"},\"type\":\"category\",\"categoryorder\":\"array\",\"categoryarray\":[1,2,null,null]},\"yaxis2\":{\"anchor\":\"x2\",\"domain\":[0.0,1.0],\"matches\":\"y\",\"showticklabels\":false},\"xaxis3\":{\"anchor\":\"y3\",\"domain\":[0.525,0.7375],\"title\":{\"text\":\"rp3beta_weight\"}},\"yaxis3\":{\"anchor\":\"x3\",\"domain\":[0.0,1.0],\"matches\":\"y\",\"showticklabels\":false},\"xaxis4\":{\"anchor\":\"y4\",\"domain\":[0.7875,1.0],\"title\":{\"text\":\"slim_weight\"}},\"yaxis4\":{\"anchor\":\"x4\",\"domain\":[0.0,1.0],\"matches\":\"y\",\"showticklabels\":false},\"title\":{\"text\":\"Slice Plot\"},\"width\":1200},                        {\"responsive\": true}                    ).then(function(){\n",
       "                            \n",
       "var gd = document.getElementById('9d99f782-f9a3-4ea7-a286-9c01092c3725');\n",
       "var x = new MutationObserver(function (mutations, observer) {{\n",
       "        var display = window.getComputedStyle(gd).display;\n",
       "        if (!display || display === 'none') {{\n",
       "            console.log([gd, 'removed!']);\n",
       "            Plotly.purge(gd);\n",
       "            observer.disconnect();\n",
       "        }}\n",
       "}});\n",
       "\n",
       "// Listen for the removal of the full notebook cells\n",
       "var notebookContainer = gd.closest('#notebook-container');\n",
       "if (notebookContainer) {{\n",
       "    x.observe(notebookContainer, {childList: true});\n",
       "}}\n",
       "\n",
       "// Listen for the clearing of the current output cell\n",
       "var outputEl = gd.closest('.output');\n",
       "if (outputEl) {{\n",
       "    x.observe(outputEl, {childList: true});\n",
       "}}\n",
       "\n",
       "                        })                };                });            </script>        </div>"
      ]
     },
     "metadata": {},
     "output_type": "display_data"
    }
   ],
   "source": [
    "if not config['tune_parameters']:\n",
    "    optuna_study = optuna.load_study(study_name=f'hyperparameters_tuning_{config[\"model\"]}', storage=f'sqlite:///{config[\"database_path\"]}')\n",
    "    \n",
    "fig = optuna.visualization.plot_slice(optuna_study)\n",
    "fig.show()"
   ]
  },
  {
   "cell_type": "code",
   "execution_count": 16,
   "id": "5f0afbd8",
   "metadata": {
    "execution": {
     "iopub.execute_input": "2024-12-03T12:03:37.813695Z",
     "iopub.status.busy": "2024-12-03T12:03:37.813298Z",
     "iopub.status.idle": "2024-12-03T12:03:40.993079Z",
     "shell.execute_reply": "2024-12-03T12:03:40.992127Z"
    },
    "papermill": {
     "duration": 3.206034,
     "end_time": "2024-12-03T12:03:40.995168",
     "exception": false,
     "start_time": "2024-12-03T12:03:37.789134",
     "status": "completed"
    },
    "tags": []
   },
   "outputs": [
    {
     "data": {
      "text/html": [
       "<div>                            <div id=\"abde6aa5-9e62-4dbd-ab43-3ee8f423a733\" class=\"plotly-graph-div\" style=\"height:525px; width:100%;\"></div>            <script type=\"text/javascript\">                require([\"plotly\"], function(Plotly) {                    window.PLOTLYENV=window.PLOTLYENV || {};                                    if (document.getElementById(\"abde6aa5-9e62-4dbd-ab43-3ee8f423a733\")) {                    Plotly.newPlot(                        \"abde6aa5-9e62-4dbd-ab43-3ee8f423a733\",                        [{\"cliponaxis\":false,\"hovertemplate\":[\"rp3beta_weight (FloatDistribution): 0.017854166734144\\u003cextra\\u003e\\u003c\\u002fextra\\u003e\",\"slim_weight (FloatDistribution): 0.11897307363411569\\u003cextra\\u003e\\u003c\\u002fextra\\u003e\",\"itemknn_weight (FloatDistribution): 0.36270939916133993\\u003cextra\\u003e\\u003c\\u002fextra\\u003e\",\"norm (CategoricalDistribution): 0.5004633604704003\\u003cextra\\u003e\\u003c\\u002fextra\\u003e\"],\"name\":\"Objective Value\",\"orientation\":\"h\",\"text\":[\"0.02\",\"0.12\",\"0.36\",\"0.50\"],\"textposition\":\"outside\",\"x\":[0.017854166734144,0.11897307363411569,0.36270939916133993,0.5004633604704003],\"y\":[\"rp3beta_weight\",\"slim_weight\",\"itemknn_weight\",\"norm\"],\"type\":\"bar\"}],                        {\"title\":{\"text\":\"Hyperparameter Importances\"},\"xaxis\":{\"title\":{\"text\":\"Hyperparameter Importance\"}},\"yaxis\":{\"title\":{\"text\":\"Hyperparameter\"}},\"template\":{\"data\":{\"histogram2dcontour\":[{\"type\":\"histogram2dcontour\",\"colorbar\":{\"outlinewidth\":0,\"ticks\":\"\"},\"colorscale\":[[0.0,\"#0d0887\"],[0.1111111111111111,\"#46039f\"],[0.2222222222222222,\"#7201a8\"],[0.3333333333333333,\"#9c179e\"],[0.4444444444444444,\"#bd3786\"],[0.5555555555555556,\"#d8576b\"],[0.6666666666666666,\"#ed7953\"],[0.7777777777777778,\"#fb9f3a\"],[0.8888888888888888,\"#fdca26\"],[1.0,\"#f0f921\"]]}],\"choropleth\":[{\"type\":\"choropleth\",\"colorbar\":{\"outlinewidth\":0,\"ticks\":\"\"}}],\"histogram2d\":[{\"type\":\"histogram2d\",\"colorbar\":{\"outlinewidth\":0,\"ticks\":\"\"},\"colorscale\":[[0.0,\"#0d0887\"],[0.1111111111111111,\"#46039f\"],[0.2222222222222222,\"#7201a8\"],[0.3333333333333333,\"#9c179e\"],[0.4444444444444444,\"#bd3786\"],[0.5555555555555556,\"#d8576b\"],[0.6666666666666666,\"#ed7953\"],[0.7777777777777778,\"#fb9f3a\"],[0.8888888888888888,\"#fdca26\"],[1.0,\"#f0f921\"]]}],\"heatmap\":[{\"type\":\"heatmap\",\"colorbar\":{\"outlinewidth\":0,\"ticks\":\"\"},\"colorscale\":[[0.0,\"#0d0887\"],[0.1111111111111111,\"#46039f\"],[0.2222222222222222,\"#7201a8\"],[0.3333333333333333,\"#9c179e\"],[0.4444444444444444,\"#bd3786\"],[0.5555555555555556,\"#d8576b\"],[0.6666666666666666,\"#ed7953\"],[0.7777777777777778,\"#fb9f3a\"],[0.8888888888888888,\"#fdca26\"],[1.0,\"#f0f921\"]]}],\"heatmapgl\":[{\"type\":\"heatmapgl\",\"colorbar\":{\"outlinewidth\":0,\"ticks\":\"\"},\"colorscale\":[[0.0,\"#0d0887\"],[0.1111111111111111,\"#46039f\"],[0.2222222222222222,\"#7201a8\"],[0.3333333333333333,\"#9c179e\"],[0.4444444444444444,\"#bd3786\"],[0.5555555555555556,\"#d8576b\"],[0.6666666666666666,\"#ed7953\"],[0.7777777777777778,\"#fb9f3a\"],[0.8888888888888888,\"#fdca26\"],[1.0,\"#f0f921\"]]}],\"contourcarpet\":[{\"type\":\"contourcarpet\",\"colorbar\":{\"outlinewidth\":0,\"ticks\":\"\"}}],\"contour\":[{\"type\":\"contour\",\"colorbar\":{\"outlinewidth\":0,\"ticks\":\"\"},\"colorscale\":[[0.0,\"#0d0887\"],[0.1111111111111111,\"#46039f\"],[0.2222222222222222,\"#7201a8\"],[0.3333333333333333,\"#9c179e\"],[0.4444444444444444,\"#bd3786\"],[0.5555555555555556,\"#d8576b\"],[0.6666666666666666,\"#ed7953\"],[0.7777777777777778,\"#fb9f3a\"],[0.8888888888888888,\"#fdca26\"],[1.0,\"#f0f921\"]]}],\"surface\":[{\"type\":\"surface\",\"colorbar\":{\"outlinewidth\":0,\"ticks\":\"\"},\"colorscale\":[[0.0,\"#0d0887\"],[0.1111111111111111,\"#46039f\"],[0.2222222222222222,\"#7201a8\"],[0.3333333333333333,\"#9c179e\"],[0.4444444444444444,\"#bd3786\"],[0.5555555555555556,\"#d8576b\"],[0.6666666666666666,\"#ed7953\"],[0.7777777777777778,\"#fb9f3a\"],[0.8888888888888888,\"#fdca26\"],[1.0,\"#f0f921\"]]}],\"mesh3d\":[{\"type\":\"mesh3d\",\"colorbar\":{\"outlinewidth\":0,\"ticks\":\"\"}}],\"scatter\":[{\"fillpattern\":{\"fillmode\":\"overlay\",\"size\":10,\"solidity\":0.2},\"type\":\"scatter\"}],\"parcoords\":[{\"type\":\"parcoords\",\"line\":{\"colorbar\":{\"outlinewidth\":0,\"ticks\":\"\"}}}],\"scatterpolargl\":[{\"type\":\"scatterpolargl\",\"marker\":{\"colorbar\":{\"outlinewidth\":0,\"ticks\":\"\"}}}],\"bar\":[{\"error_x\":{\"color\":\"#2a3f5f\"},\"error_y\":{\"color\":\"#2a3f5f\"},\"marker\":{\"line\":{\"color\":\"#E5ECF6\",\"width\":0.5},\"pattern\":{\"fillmode\":\"overlay\",\"size\":10,\"solidity\":0.2}},\"type\":\"bar\"}],\"scattergeo\":[{\"type\":\"scattergeo\",\"marker\":{\"colorbar\":{\"outlinewidth\":0,\"ticks\":\"\"}}}],\"scatterpolar\":[{\"type\":\"scatterpolar\",\"marker\":{\"colorbar\":{\"outlinewidth\":0,\"ticks\":\"\"}}}],\"histogram\":[{\"marker\":{\"pattern\":{\"fillmode\":\"overlay\",\"size\":10,\"solidity\":0.2}},\"type\":\"histogram\"}],\"scattergl\":[{\"type\":\"scattergl\",\"marker\":{\"colorbar\":{\"outlinewidth\":0,\"ticks\":\"\"}}}],\"scatter3d\":[{\"type\":\"scatter3d\",\"line\":{\"colorbar\":{\"outlinewidth\":0,\"ticks\":\"\"}},\"marker\":{\"colorbar\":{\"outlinewidth\":0,\"ticks\":\"\"}}}],\"scattermapbox\":[{\"type\":\"scattermapbox\",\"marker\":{\"colorbar\":{\"outlinewidth\":0,\"ticks\":\"\"}}}],\"scatterternary\":[{\"type\":\"scatterternary\",\"marker\":{\"colorbar\":{\"outlinewidth\":0,\"ticks\":\"\"}}}],\"scattercarpet\":[{\"type\":\"scattercarpet\",\"marker\":{\"colorbar\":{\"outlinewidth\":0,\"ticks\":\"\"}}}],\"carpet\":[{\"aaxis\":{\"endlinecolor\":\"#2a3f5f\",\"gridcolor\":\"white\",\"linecolor\":\"white\",\"minorgridcolor\":\"white\",\"startlinecolor\":\"#2a3f5f\"},\"baxis\":{\"endlinecolor\":\"#2a3f5f\",\"gridcolor\":\"white\",\"linecolor\":\"white\",\"minorgridcolor\":\"white\",\"startlinecolor\":\"#2a3f5f\"},\"type\":\"carpet\"}],\"table\":[{\"cells\":{\"fill\":{\"color\":\"#EBF0F8\"},\"line\":{\"color\":\"white\"}},\"header\":{\"fill\":{\"color\":\"#C8D4E3\"},\"line\":{\"color\":\"white\"}},\"type\":\"table\"}],\"barpolar\":[{\"marker\":{\"line\":{\"color\":\"#E5ECF6\",\"width\":0.5},\"pattern\":{\"fillmode\":\"overlay\",\"size\":10,\"solidity\":0.2}},\"type\":\"barpolar\"}],\"pie\":[{\"automargin\":true,\"type\":\"pie\"}]},\"layout\":{\"autotypenumbers\":\"strict\",\"colorway\":[\"#636efa\",\"#EF553B\",\"#00cc96\",\"#ab63fa\",\"#FFA15A\",\"#19d3f3\",\"#FF6692\",\"#B6E880\",\"#FF97FF\",\"#FECB52\"],\"font\":{\"color\":\"#2a3f5f\"},\"hovermode\":\"closest\",\"hoverlabel\":{\"align\":\"left\"},\"paper_bgcolor\":\"white\",\"plot_bgcolor\":\"#E5ECF6\",\"polar\":{\"bgcolor\":\"#E5ECF6\",\"angularaxis\":{\"gridcolor\":\"white\",\"linecolor\":\"white\",\"ticks\":\"\"},\"radialaxis\":{\"gridcolor\":\"white\",\"linecolor\":\"white\",\"ticks\":\"\"}},\"ternary\":{\"bgcolor\":\"#E5ECF6\",\"aaxis\":{\"gridcolor\":\"white\",\"linecolor\":\"white\",\"ticks\":\"\"},\"baxis\":{\"gridcolor\":\"white\",\"linecolor\":\"white\",\"ticks\":\"\"},\"caxis\":{\"gridcolor\":\"white\",\"linecolor\":\"white\",\"ticks\":\"\"}},\"coloraxis\":{\"colorbar\":{\"outlinewidth\":0,\"ticks\":\"\"}},\"colorscale\":{\"sequential\":[[0.0,\"#0d0887\"],[0.1111111111111111,\"#46039f\"],[0.2222222222222222,\"#7201a8\"],[0.3333333333333333,\"#9c179e\"],[0.4444444444444444,\"#bd3786\"],[0.5555555555555556,\"#d8576b\"],[0.6666666666666666,\"#ed7953\"],[0.7777777777777778,\"#fb9f3a\"],[0.8888888888888888,\"#fdca26\"],[1.0,\"#f0f921\"]],\"sequentialminus\":[[0.0,\"#0d0887\"],[0.1111111111111111,\"#46039f\"],[0.2222222222222222,\"#7201a8\"],[0.3333333333333333,\"#9c179e\"],[0.4444444444444444,\"#bd3786\"],[0.5555555555555556,\"#d8576b\"],[0.6666666666666666,\"#ed7953\"],[0.7777777777777778,\"#fb9f3a\"],[0.8888888888888888,\"#fdca26\"],[1.0,\"#f0f921\"]],\"diverging\":[[0,\"#8e0152\"],[0.1,\"#c51b7d\"],[0.2,\"#de77ae\"],[0.3,\"#f1b6da\"],[0.4,\"#fde0ef\"],[0.5,\"#f7f7f7\"],[0.6,\"#e6f5d0\"],[0.7,\"#b8e186\"],[0.8,\"#7fbc41\"],[0.9,\"#4d9221\"],[1,\"#276419\"]]},\"xaxis\":{\"gridcolor\":\"white\",\"linecolor\":\"white\",\"ticks\":\"\",\"title\":{\"standoff\":15},\"zerolinecolor\":\"white\",\"automargin\":true,\"zerolinewidth\":2},\"yaxis\":{\"gridcolor\":\"white\",\"linecolor\":\"white\",\"ticks\":\"\",\"title\":{\"standoff\":15},\"zerolinecolor\":\"white\",\"automargin\":true,\"zerolinewidth\":2},\"scene\":{\"xaxis\":{\"backgroundcolor\":\"#E5ECF6\",\"gridcolor\":\"white\",\"linecolor\":\"white\",\"showbackground\":true,\"ticks\":\"\",\"zerolinecolor\":\"white\",\"gridwidth\":2},\"yaxis\":{\"backgroundcolor\":\"#E5ECF6\",\"gridcolor\":\"white\",\"linecolor\":\"white\",\"showbackground\":true,\"ticks\":\"\",\"zerolinecolor\":\"white\",\"gridwidth\":2},\"zaxis\":{\"backgroundcolor\":\"#E5ECF6\",\"gridcolor\":\"white\",\"linecolor\":\"white\",\"showbackground\":true,\"ticks\":\"\",\"zerolinecolor\":\"white\",\"gridwidth\":2}},\"shapedefaults\":{\"line\":{\"color\":\"#2a3f5f\"}},\"annotationdefaults\":{\"arrowcolor\":\"#2a3f5f\",\"arrowhead\":0,\"arrowwidth\":1},\"geo\":{\"bgcolor\":\"white\",\"landcolor\":\"#E5ECF6\",\"subunitcolor\":\"white\",\"showland\":true,\"showlakes\":true,\"lakecolor\":\"white\"},\"title\":{\"x\":0.05},\"mapbox\":{\"style\":\"light\"}}}},                        {\"responsive\": true}                    ).then(function(){\n",
       "                            \n",
       "var gd = document.getElementById('abde6aa5-9e62-4dbd-ab43-3ee8f423a733');\n",
       "var x = new MutationObserver(function (mutations, observer) {{\n",
       "        var display = window.getComputedStyle(gd).display;\n",
       "        if (!display || display === 'none') {{\n",
       "            console.log([gd, 'removed!']);\n",
       "            Plotly.purge(gd);\n",
       "            observer.disconnect();\n",
       "        }}\n",
       "}});\n",
       "\n",
       "// Listen for the removal of the full notebook cells\n",
       "var notebookContainer = gd.closest('#notebook-container');\n",
       "if (notebookContainer) {{\n",
       "    x.observe(notebookContainer, {childList: true});\n",
       "}}\n",
       "\n",
       "// Listen for the clearing of the current output cell\n",
       "var outputEl = gd.closest('.output');\n",
       "if (outputEl) {{\n",
       "    x.observe(outputEl, {childList: true});\n",
       "}}\n",
       "\n",
       "                        })                };                });            </script>        </div>"
      ]
     },
     "metadata": {},
     "output_type": "display_data"
    }
   ],
   "source": [
    "if not config['tune_parameters']:\n",
    "    optuna_study = optuna.load_study(study_name=f'hyperparameters_tuning_{config[\"model\"]}', storage=f'sqlite:///{config[\"database_path\"]}')\n",
    "    \n",
    "fig = optuna.visualization.plot_param_importances(optuna_study)\n",
    "fig.show()"
   ]
  },
  {
   "cell_type": "markdown",
   "id": "39245abf",
   "metadata": {
    "papermill": {
     "duration": 0.022801,
     "end_time": "2024-12-03T12:03:41.041491",
     "exception": false,
     "start_time": "2024-12-03T12:03:41.018690",
     "status": "completed"
    },
    "tags": []
   },
   "source": [
    "## Let's train the recommender with best parameter values"
   ]
  },
  {
   "cell_type": "code",
   "execution_count": 17,
   "id": "03e53da7",
   "metadata": {
    "execution": {
     "iopub.execute_input": "2024-12-03T12:03:41.090027Z",
     "iopub.status.busy": "2024-12-03T12:03:41.089606Z",
     "iopub.status.idle": "2024-12-03T13:21:27.212464Z",
     "shell.execute_reply": "2024-12-03T13:21:27.211298Z"
    },
    "papermill": {
     "duration": 4666.149642,
     "end_time": "2024-12-03T13:21:27.214718",
     "exception": false,
     "start_time": "2024-12-03T12:03:41.065076",
     "status": "completed"
    },
    "tags": []
   },
   "outputs": [
    {
     "name": "stdout",
     "output_type": "stream",
     "text": [
      "ItemKNNCF Model - TRAINING with its best parameters.\n",
      "Similarity column 38121 (100.0%), 2546.14 column/sec. Elapsed time 14.97 sec\n",
      "Training done in 15.232244sec.\n",
      "\n",
      "SLIMElasticNet Model - TRAINING with its best parameters.\n",
      "SLIMElasticNetRecommender: Processed 2512 ( 6.6%) in 5.00 min. Items per second: 8.37\n",
      "SLIMElasticNetRecommender: Processed 5028 (13.2%) in 10.00 min. Items per second: 8.38\n",
      "SLIMElasticNetRecommender: Processed 7489 (19.6%) in 15.00 min. Items per second: 8.32\n",
      "SLIMElasticNetRecommender: Processed 9900 (26.0%) in 20.00 min. Items per second: 8.25\n",
      "SLIMElasticNetRecommender: Processed 12276 (32.2%) in 25.00 min. Items per second: 8.18\n",
      "SLIMElasticNetRecommender: Processed 14759 (38.7%) in 30.01 min. Items per second: 8.20\n",
      "SLIMElasticNetRecommender: Processed 17249 (45.2%) in 35.01 min. Items per second: 8.21\n",
      "SLIMElasticNetRecommender: Processed 19736 (51.8%) in 40.01 min. Items per second: 8.22\n",
      "SLIMElasticNetRecommender: Processed 22207 (58.3%) in 45.01 min. Items per second: 8.22\n",
      "SLIMElasticNetRecommender: Processed 24677 (64.7%) in 50.01 min. Items per second: 8.22\n",
      "SLIMElasticNetRecommender: Processed 27151 (71.2%) in 55.01 min. Items per second: 8.23\n",
      "SLIMElasticNetRecommender: Processed 29617 (77.7%) in 1.00 hour. Items per second: 8.23\n",
      "SLIMElasticNetRecommender: Processed 32148 (84.3%) in 1.08 hour. Items per second: 8.24\n",
      "SLIMElasticNetRecommender: Processed 34731 (91.1%) in 1.17 hour. Items per second: 8.27\n",
      "SLIMElasticNetRecommender: Processed 37161 (97.5%) in 1.25 hour. Items per second: 8.26\n",
      "SLIMElasticNetRecommender: Processed 38121 (100.0%) in 1.29 hour. Items per second: 8.23\n",
      "Training done in 1.286236hour.\n",
      "\n",
      "RP3beta Model - TRAINING with its best parameters.\n",
      "RP3betaRecommender: Similarity column 38121 (100.0%), 1980.46 column/sec. Elapsed time 19.25 sec\n",
      "Training done in 20.431592sec.\n",
      "\n"
     ]
    }
   ],
   "source": [
    "if config['tune_best_params']:\n",
    "    \n",
    "    loaded_recommenders = {}\n",
    "    \n",
    "    for recommender_name, recommender_class in recommenders.items():\n",
    "        \n",
    "        start_time = time.time()\n",
    "        \n",
    "        print(f\"{recommender_name} Model - TRAINING with its best parameters.\")\n",
    "        try:\n",
    "            recommender = recommender_class(URM_train + URM_validation)\n",
    "        except Exception as e:\n",
    "            recommender = recommender_class(URM_train + URM_validation, ICM_all)\n",
    "    \n",
    "        # Extract best parameter values of the relative recommender model.\n",
    "        with open(f'{GH_PATH}/{paths_to_best_params[recommender_name]}/{recommender_name}Recommender/best_params_{recommender_name}.json', 'r') as best_params_json:\n",
    "                best_params = json.load(best_params_json)\n",
    "        \n",
    "        recommender.fit(**best_params)\n",
    "        \n",
    "        loaded_recommenders[recommender_name] = recommender\n",
    "        \n",
    "        new_time_value, new_time_unit = seconds_to_biggest_unit(time.time() - start_time)\n",
    "        print(\"Training done in {:2f}{}.\\n\".format(new_time_value, new_time_unit))"
   ]
  },
  {
   "cell_type": "code",
   "execution_count": 18,
   "id": "fe0deff3",
   "metadata": {
    "execution": {
     "iopub.execute_input": "2024-12-03T13:21:27.267110Z",
     "iopub.status.busy": "2024-12-03T13:21:27.266724Z",
     "iopub.status.idle": "2024-12-03T13:21:27.341863Z",
     "shell.execute_reply": "2024-12-03T13:21:27.340747Z"
    },
    "papermill": {
     "duration": 0.104642,
     "end_time": "2024-12-03T13:21:27.344225",
     "exception": false,
     "start_time": "2024-12-03T13:21:27.239583",
     "status": "completed"
    },
    "tags": []
   },
   "outputs": [
    {
     "name": "stdout",
     "output_type": "stream",
     "text": [
      "LinearCombinationRecommender: Fit completed in 0.00 seconds.\n"
     ]
    }
   ],
   "source": [
    "if config['tune_best_params']:\n",
    "\n",
    "    if config['tune_parameters']:\n",
    "        best_params = optuna_study.best_trial.params\n",
    "    else: \n",
    "        with open(f'{K_PATH}/{GH_PATH}/{D_PATH}/{config[\"model\"]}Recommender/best_params_{config[\"model\"]}.json', 'r') as best_params_json:\n",
    "            best_params = json.load(best_params_json)\n",
    "            \n",
    "    fit_params = {\n",
    "    \"weights\": list(best_params.values())[1:], \n",
    "    \"norm\": best_params[\"norm\"]\n",
    "    }\n",
    "    \n",
    "    recommender_instance = LinearCombinationRecommender(URM_train + URM_validation, loaded_recommenders.values())\n",
    "    recommender_instance.fit(**fit_params)"
   ]
  },
  {
   "cell_type": "markdown",
   "id": "5bc7450a",
   "metadata": {
    "papermill": {
     "duration": 0.024931,
     "end_time": "2024-12-03T13:21:27.394082",
     "exception": false,
     "start_time": "2024-12-03T13:21:27.369151",
     "status": "completed"
    },
    "tags": []
   },
   "source": [
    "# Testing"
   ]
  },
  {
   "cell_type": "markdown",
   "id": "4bbcf99a",
   "metadata": {
    "papermill": {
     "duration": 0.024743,
     "end_time": "2024-12-03T13:21:27.443931",
     "exception": false,
     "start_time": "2024-12-03T13:21:27.419188",
     "status": "completed"
    },
    "tags": []
   },
   "source": [
    "Create the recommendations for the submission. "
   ]
  },
  {
   "cell_type": "code",
   "execution_count": 19,
   "id": "7f7ab627",
   "metadata": {
    "execution": {
     "iopub.execute_input": "2024-12-03T13:21:27.494803Z",
     "iopub.status.busy": "2024-12-03T13:21:27.494425Z",
     "iopub.status.idle": "2024-12-03T13:22:30.713372Z",
     "shell.execute_reply": "2024-12-03T13:22:30.712276Z"
    },
    "papermill": {
     "duration": 63.271788,
     "end_time": "2024-12-03T13:22:30.740352",
     "exception": false,
     "start_time": "2024-12-03T13:21:27.468564",
     "status": "completed"
    },
    "tags": []
   },
   "outputs": [
    {
     "name": "stdout",
     "output_type": "stream",
     "text": [
      "Submission file saved as /kaggle/working/submission_SecondLinearCombination.csv\n"
     ]
    }
   ],
   "source": [
    "if config['tune_best_params']:\n",
    "\n",
    "    data_target_users_test = pd.read_csv('/kaggle/input/recommender-system-2024-challenge-polimi/data_target_users_test.csv')\n",
    "    create_submission(data_target_users_test, recommender_instance, f'/kaggle/working/submission_{config[\"model\"]}.csv')"
   ]
  },
  {
   "cell_type": "markdown",
   "id": "8c28c8ad",
   "metadata": {
    "execution": {
     "iopub.execute_input": "2024-11-14T00:04:16.877791Z",
     "iopub.status.busy": "2024-11-14T00:04:16.877275Z",
     "iopub.status.idle": "2024-11-14T00:04:16.883170Z",
     "shell.execute_reply": "2024-11-14T00:04:16.881889Z",
     "shell.execute_reply.started": "2024-11-14T00:04:16.877743Z"
    },
    "papermill": {
     "duration": 0.024409,
     "end_time": "2024-12-03T13:22:30.789271",
     "exception": false,
     "start_time": "2024-12-03T13:22:30.764862",
     "status": "completed"
    },
    "tags": []
   },
   "source": [
    "# Save Version on GitHub "
   ]
  },
  {
   "cell_type": "markdown",
   "id": "4d344c25",
   "metadata": {
    "papermill": {
     "duration": 0.024586,
     "end_time": "2024-12-03T13:22:30.838681",
     "exception": false,
     "start_time": "2024-12-03T13:22:30.814095",
     "status": "completed"
    },
    "tags": []
   },
   "source": [
    "Write or import a json file where best hyperparameters are saved. "
   ]
  },
  {
   "cell_type": "code",
   "execution_count": 20,
   "id": "30003bdf",
   "metadata": {
    "execution": {
     "iopub.execute_input": "2024-12-03T13:22:30.889603Z",
     "iopub.status.busy": "2024-12-03T13:22:30.889218Z",
     "iopub.status.idle": "2024-12-03T13:22:32.227358Z",
     "shell.execute_reply": "2024-12-03T13:22:32.226180Z"
    },
    "papermill": {
     "duration": 1.366125,
     "end_time": "2024-12-03T13:22:32.229426",
     "exception": false,
     "start_time": "2024-12-03T13:22:30.863301",
     "status": "completed"
    },
    "tags": []
   },
   "outputs": [
    {
     "name": "stdout",
     "output_type": "stream",
     "text": [
      "File 'TrainedModels/WithoutKFCV/Hybrid/LinearCombination/SecondLinearCombinationRecommender/best_params_SecondLinearCombination.json' updated successfully.\n"
     ]
    }
   ],
   "source": [
    "if config['tune_parameters']:\n",
    "    with open(f'/kaggle/working/best_params_{config[\"model\"]}.json', 'w') as params_file:\n",
    "        json.dump(optuna_study.best_params, params_file)\n",
    "        \n",
    "    if config['save_github']:\n",
    "        upload_file(\n",
    "            f'/kaggle/working/best_params_{config[\"model\"]}.json', \n",
    "            f'{GH_PATH}/{D_PATH}/{config[\"model\"]}Recommender/best_params_{config[\"model\"]}.json', \n",
    "            f'{config[\"model\"]} tuning results (from kaggle notebook)',\n",
    "            repo\n",
    "        )\n",
    "elif config['copy_prev_best_params']:\n",
    "    shutil.copyfile(\n",
    "        f'{K_PATH}/{GH_PATH}/{D_PATH}/{config[\"model\"]}Recommender/'\\\n",
    "        f'best_params_{config[\"model\"]}.json', \n",
    "        f'/kaggle/working/best_params_{config[\"model\"]}.json'\n",
    "    )"
   ]
  },
  {
   "cell_type": "markdown",
   "id": "44d98dd3",
   "metadata": {
    "execution": {
     "iopub.execute_input": "2024-11-14T00:41:34.294243Z",
     "iopub.status.busy": "2024-11-14T00:41:34.293739Z",
     "iopub.status.idle": "2024-11-14T00:41:34.301478Z",
     "shell.execute_reply": "2024-11-14T00:41:34.299869Z",
     "shell.execute_reply.started": "2024-11-14T00:41:34.294186Z"
    },
    "papermill": {
     "duration": 0.024474,
     "end_time": "2024-12-03T13:22:32.279122",
     "exception": false,
     "start_time": "2024-12-03T13:22:32.254648",
     "status": "completed"
    },
    "tags": []
   },
   "source": [
    "Save the history of the tuned model."
   ]
  },
  {
   "cell_type": "code",
   "execution_count": 21,
   "id": "e7adf3cc",
   "metadata": {
    "execution": {
     "iopub.execute_input": "2024-12-03T13:22:32.330790Z",
     "iopub.status.busy": "2024-12-03T13:22:32.330382Z",
     "iopub.status.idle": "2024-12-03T13:22:34.432223Z",
     "shell.execute_reply": "2024-12-03T13:22:34.431279Z"
    },
    "papermill": {
     "duration": 2.130113,
     "end_time": "2024-12-03T13:22:34.434278",
     "exception": false,
     "start_time": "2024-12-03T13:22:32.304165",
     "status": "completed"
    },
    "tags": []
   },
   "outputs": [
    {
     "name": "stdout",
     "output_type": "stream",
     "text": [
      "File 'TrainedModels/WithoutKFCV/Hybrid/LinearCombination/SecondLinearCombinationRecommender/history_SecondLinearCombination.db' updated successfully.\n"
     ]
    }
   ],
   "source": [
    "if config['save_github'] and config['tune_parameters']:\n",
    "    upload_file(\n",
    "        config['database_path'], \n",
    "        f'{GH_PATH}/{D_PATH}/{config[\"model\"]}Recommender/history_{config[\"model\"]}.db',\n",
    "        f'Tuning {config[\"model\"]} db updated results (from kaggle notebook)',\n",
    "        repo\n",
    "    )"
   ]
  },
  {
   "cell_type": "markdown",
   "id": "94679c04",
   "metadata": {
    "papermill": {
     "duration": 0.024393,
     "end_time": "2024-12-03T13:22:34.484005",
     "exception": false,
     "start_time": "2024-12-03T13:22:34.459612",
     "status": "completed"
    },
    "tags": []
   },
   "source": [
    "Save the best trained model and its submission."
   ]
  },
  {
   "cell_type": "code",
   "execution_count": 22,
   "id": "723a02e8",
   "metadata": {
    "execution": {
     "iopub.execute_input": "2024-12-03T13:22:34.535284Z",
     "iopub.status.busy": "2024-12-03T13:22:34.534423Z",
     "iopub.status.idle": "2024-12-03T13:22:37.110625Z",
     "shell.execute_reply": "2024-12-03T13:22:37.109554Z"
    },
    "papermill": {
     "duration": 2.604026,
     "end_time": "2024-12-03T13:22:37.112570",
     "exception": false,
     "start_time": "2024-12-03T13:22:34.508544",
     "status": "completed"
    },
    "tags": []
   },
   "outputs": [
    {
     "name": "stdout",
     "output_type": "stream",
     "text": [
      "File 'TrainedModels/WithoutKFCV/Hybrid/LinearCombination/SecondLinearCombinationRecommender/Submission/submission_SecondLinearCombination.csv' created successfully.\n"
     ]
    }
   ],
   "source": [
    "if config['save_github'] and config['tune_best_params']: \n",
    "    upload_file(\n",
    "                f'/kaggle/working/submission_{config[\"model\"]}.csv', \n",
    "                f'{GH_PATH}/{D_PATH}/{config[\"model\"]}Recommender/Submission/submission_{config[\"model\"]}.csv', \n",
    "                f'New {config[\"model\"]} submission (from kaggle notebook)',\n",
    "                repo\n",
    "            )"
   ]
  }
 ],
 "metadata": {
  "kaggle": {
   "accelerator": "none",
   "dataSources": [
    {
     "databundleVersionId": 9982103,
     "sourceId": 87439,
     "sourceType": "competition"
    }
   ],
   "isGpuEnabled": false,
   "isInternetEnabled": true,
   "language": "python",
   "sourceType": "notebook"
  },
  "kernelspec": {
   "display_name": "Python 3",
   "language": "python",
   "name": "python3"
  },
  "language_info": {
   "codemirror_mode": {
    "name": "ipython",
    "version": 3
   },
   "file_extension": ".py",
   "mimetype": "text/x-python",
   "name": "python",
   "nbconvert_exporter": "python",
   "pygments_lexer": "ipython3",
   "version": "3.10.14"
  },
  "papermill": {
   "default_parameters": {},
   "duration": 13168.834866,
   "end_time": "2024-12-03T13:22:38.161554",
   "environment_variables": {},
   "exception": null,
   "input_path": "__notebook__.ipynb",
   "output_path": "__notebook__.ipynb",
   "parameters": {},
   "start_time": "2024-12-03T09:43:09.326688",
   "version": "2.6.0"
  }
 },
 "nbformat": 4,
 "nbformat_minor": 5
}
