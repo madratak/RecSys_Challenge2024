{
 "cells": [
  {
   "cell_type": "markdown",
   "id": "2af1d66d",
   "metadata": {
    "papermill": {
     "duration": 0.006697,
     "end_time": "2024-12-31T01:35:10.407886",
     "exception": false,
     "start_time": "2024-12-31T01:35:10.401189",
     "status": "completed"
    },
    "tags": []
   },
   "source": [
    "# Set connection with GitHub"
   ]
  },
  {
   "cell_type": "code",
   "execution_count": 1,
   "id": "bf79bb7f",
   "metadata": {
    "execution": {
     "iopub.execute_input": "2024-12-31T01:35:10.422064Z",
     "iopub.status.busy": "2024-12-31T01:35:10.421623Z",
     "iopub.status.idle": "2024-12-31T01:35:10.427613Z",
     "shell.execute_reply": "2024-12-31T01:35:10.426169Z"
    },
    "papermill": {
     "duration": 0.015254,
     "end_time": "2024-12-31T01:35:10.429510",
     "exception": false,
     "start_time": "2024-12-31T01:35:10.414256",
     "status": "completed"
    },
    "tags": []
   },
   "outputs": [],
   "source": [
    "# ! cd /kaggle/working && rm -rf RECsys_Challenge2024"
   ]
  },
  {
   "cell_type": "code",
   "execution_count": 2,
   "id": "d5c6fc69",
   "metadata": {
    "_cell_guid": "b1076dfc-b9ad-4769-8c92-a6c4dae69d19",
    "_uuid": "8f2839f25d086af736a60e9eeb907d3b93b6e0e5",
    "execution": {
     "iopub.execute_input": "2024-12-31T01:35:10.442724Z",
     "iopub.status.busy": "2024-12-31T01:35:10.442297Z",
     "iopub.status.idle": "2024-12-31T01:35:26.071980Z",
     "shell.execute_reply": "2024-12-31T01:35:26.070207Z"
    },
    "papermill": {
     "duration": 15.639079,
     "end_time": "2024-12-31T01:35:26.074513",
     "exception": false,
     "start_time": "2024-12-31T01:35:10.435434",
     "status": "completed"
    },
    "tags": []
   },
   "outputs": [
    {
     "name": "stdout",
     "output_type": "stream",
     "text": [
      "Cloning into 'RECsys_Challenge2024'...\r\n",
      "remote: Enumerating objects: 5194, done.\u001b[K\r\n",
      "remote: Counting objects: 100% (266/266), done.\u001b[K\r\n",
      "remote: Compressing objects: 100% (182/182), done.\u001b[K\r\n",
      "remote: Total 5194 (delta 129), reused 102 (delta 40), pack-reused 4928 (from 3)\u001b[K\r\n",
      "Receiving objects: 100% (5194/5194), 381.93 MiB | 36.29 MiB/s, done.\r\n",
      "Resolving deltas: 100% (2978/2978), done.\r\n",
      "Updating files: 100% (432/432), done.\r\n"
     ]
    }
   ],
   "source": [
    "from kaggle_secrets import UserSecretsClient\n",
    "\n",
    "token = UserSecretsClient().get_secret(\"Token\")\n",
    "\n",
    "! git clone https://{token}@github.com/madratak/RECsys_Challenge2024.git"
   ]
  },
  {
   "cell_type": "code",
   "execution_count": 3,
   "id": "164bfb06",
   "metadata": {
    "execution": {
     "iopub.execute_input": "2024-12-31T01:35:26.099450Z",
     "iopub.status.busy": "2024-12-31T01:35:26.099062Z",
     "iopub.status.idle": "2024-12-31T01:35:32.962401Z",
     "shell.execute_reply": "2024-12-31T01:35:32.960946Z"
    },
    "papermill": {
     "duration": 6.878282,
     "end_time": "2024-12-31T01:35:32.964884",
     "exception": false,
     "start_time": "2024-12-31T01:35:26.086602",
     "status": "completed"
    },
    "tags": []
   },
   "outputs": [
    {
     "name": "stdout",
     "output_type": "stream",
     "text": [
      "Collecting PyGithub\r\n",
      "  Downloading PyGithub-2.5.0-py3-none-any.whl.metadata (3.9 kB)\r\n",
      "Requirement already satisfied: requests in /usr/local/lib/python3.10/dist-packages (2.32.3)\r\n",
      "Collecting pynacl>=1.4.0 (from PyGithub)\r\n",
      "  Downloading PyNaCl-1.5.0-cp36-abi3-manylinux_2_17_x86_64.manylinux2014_x86_64.manylinux_2_24_x86_64.whl.metadata (8.6 kB)\r\n",
      "Requirement already satisfied: pyjwt>=2.4.0 in /usr/local/lib/python3.10/dist-packages (from pyjwt[crypto]>=2.4.0->PyGithub) (2.9.0)\r\n",
      "Requirement already satisfied: typing-extensions>=4.0.0 in /usr/local/lib/python3.10/dist-packages (from PyGithub) (4.12.2)\r\n",
      "Requirement already satisfied: urllib3>=1.26.0 in /usr/local/lib/python3.10/dist-packages (from PyGithub) (2.2.3)\r\n",
      "Requirement already satisfied: Deprecated in /usr/local/lib/python3.10/dist-packages (from PyGithub) (1.2.15)\r\n",
      "Requirement already satisfied: charset-normalizer<4,>=2 in /usr/local/lib/python3.10/dist-packages (from requests) (3.3.2)\r\n",
      "Requirement already satisfied: idna<4,>=2.5 in /usr/local/lib/python3.10/dist-packages (from requests) (3.10)\r\n",
      "Requirement already satisfied: certifi>=2017.4.17 in /usr/local/lib/python3.10/dist-packages (from requests) (2024.8.30)\r\n",
      "Requirement already satisfied: cryptography>=3.4.0 in /usr/local/lib/python3.10/dist-packages (from pyjwt[crypto]>=2.4.0->PyGithub) (43.0.1)\r\n",
      "Requirement already satisfied: cffi>=1.4.1 in /usr/local/lib/python3.10/dist-packages (from pynacl>=1.4.0->PyGithub) (1.17.1)\r\n",
      "Requirement already satisfied: wrapt<2,>=1.10 in /usr/local/lib/python3.10/dist-packages (from Deprecated->PyGithub) (1.16.0)\r\n",
      "Requirement already satisfied: pycparser in /usr/local/lib/python3.10/dist-packages (from cffi>=1.4.1->pynacl>=1.4.0->PyGithub) (2.22)\r\n",
      "Downloading PyGithub-2.5.0-py3-none-any.whl (375 kB)\r\n",
      "\u001b[2K   \u001b[90m━━━━━━━━━━━━━━━━━━━━━━━━━━━━━━━━━━━━━━━━\u001b[0m \u001b[32m375.9/375.9 kB\u001b[0m \u001b[31m8.8 MB/s\u001b[0m eta \u001b[36m0:00:00\u001b[0m\r\n",
      "\u001b[?25hDownloading PyNaCl-1.5.0-cp36-abi3-manylinux_2_17_x86_64.manylinux2014_x86_64.manylinux_2_24_x86_64.whl (856 kB)\r\n",
      "\u001b[2K   \u001b[90m━━━━━━━━━━━━━━━━━━━━━━━━━━━━━━━━━━━━━━━━\u001b[0m \u001b[32m856.7/856.7 kB\u001b[0m \u001b[31m29.9 MB/s\u001b[0m eta \u001b[36m0:00:00\u001b[0m\r\n",
      "\u001b[?25hInstalling collected packages: pynacl, PyGithub\r\n",
      "Successfully installed PyGithub-2.5.0 pynacl-1.5.0\r\n"
     ]
    }
   ],
   "source": [
    "! pip install PyGithub requests"
   ]
  },
  {
   "cell_type": "code",
   "execution_count": 4,
   "id": "21c26cee",
   "metadata": {
    "_kg_hide-input": false,
    "execution": {
     "iopub.execute_input": "2024-12-31T01:35:32.990322Z",
     "iopub.status.busy": "2024-12-31T01:35:32.989849Z",
     "iopub.status.idle": "2024-12-31T01:38:15.374336Z",
     "shell.execute_reply": "2024-12-31T01:38:15.372952Z"
    },
    "papermill": {
     "duration": 162.399619,
     "end_time": "2024-12-31T01:38:15.376533",
     "exception": false,
     "start_time": "2024-12-31T01:35:32.976914",
     "status": "completed"
    },
    "tags": []
   },
   "outputs": [
    {
     "name": "stdout",
     "output_type": "stream",
     "text": [
      "/kaggle/working/RECsys_Challenge2024\n",
      "run_compile_all_cython: Found 11 Cython files in 5 folders...\r\n",
      "run_compile_all_cython: All files will be compiled using your current python environment: '/usr/bin/python3'\r\n",
      "Compiling [1/11]: MatrixFactorizationImpressions_Cython_Epoch.pyx... \r\n",
      "In file included from \u001b[01m\u001b[K/usr/local/lib/python3.10/dist-packages/numpy/core/include/numpy/ndarraytypes.h:1929\u001b[m\u001b[K,\r\n",
      "                 from \u001b[01m\u001b[K/usr/local/lib/python3.10/dist-packages/numpy/core/include/numpy/ndarrayobject.h:12\u001b[m\u001b[K,\r\n",
      "                 from \u001b[01m\u001b[K/usr/local/lib/python3.10/dist-packages/numpy/core/include/numpy/arrayobject.h:5\u001b[m\u001b[K,\r\n",
      "                 from \u001b[01m\u001b[KMatrixFactorizationImpressions_Cython_Epoch.c:1252\u001b[m\u001b[K:\r\n",
      "\u001b[01m\u001b[K/usr/local/lib/python3.10/dist-packages/numpy/core/include/numpy/npy_1_7_deprecated_api.h:17:2:\u001b[m\u001b[K \u001b[01;35m\u001b[Kwarning: \u001b[m\u001b[K#warning \"Using deprecated NumPy API, disable it with \" \"#define NPY_NO_DEPRECATED_API NPY_1_7_API_VERSION\" [\u001b[01;35m\u001b[K\u001b]8;;https://gcc.gnu.org/onlinedocs/gcc/Warning-Options.html#index-Wcpp\u0007-Wcpp\u001b]8;;\u0007\u001b[m\u001b[K]\r\n",
      "   17 | #\u001b[01;35m\u001b[Kwarning\u001b[m\u001b[K \"Using deprecated NumPy API, disable it with \" \\\r\n",
      "      |  \u001b[01;35m\u001b[K^~~~~~~\u001b[m\u001b[K\r\n",
      "\u001b[01m\u001b[KMatrixFactorizationImpressions_Cython_Epoch.c:\u001b[m\u001b[K In function ‘\u001b[01m\u001b[K__pyx_f_43MatrixFactorizationImpressions_Cython_Epoch_32MatrixFactorization_Cython_Epoch_sampleBPR_Cython\u001b[m\u001b[K’:\r\n",
      "\u001b[01m\u001b[KMatrixFactorizationImpressions_Cython_Epoch.c:30353:17:\u001b[m\u001b[K \u001b[01;35m\u001b[Kwarning: \u001b[m\u001b[K‘\u001b[01m\u001b[K__pyx_v_start_pos_impression_items\u001b[m\u001b[K’ may be used uninitialized in this function [\u001b[01;35m\u001b[K\u001b]8;;https://gcc.gnu.org/onlinedocs/gcc/Warning-Options.html#index-Wmaybe-uninitialized\u0007-Wmaybe-uninitialized\u001b]8;;\u0007\u001b[m\u001b[K]\r\n",
      "30353 |       \u001b[01;35m\u001b[K__pyx_t_4 = (__pyx_v_start_pos_impression_items + __pyx_v_index)\u001b[m\u001b[K;\r\n",
      "      |       \u001b[01;35m\u001b[K~~~~~~~~~~^~~~~~~~~~~~~~~~~~~~~~~~~~~~~~~~~~~~~~~~~~~~~~~~~~~~~~\u001b[m\u001b[K\r\n",
      "\u001b[01m\u001b[KMatrixFactorizationImpressions_Cython_Epoch.c:\u001b[m\u001b[K In function ‘\u001b[01m\u001b[K__pyx_pf_43MatrixFactorizationImpressions_Cython_Epoch_32MatrixFactorization_Cython_Epoch_10epochIteration_Cython_ASY_SVD_SGD\u001b[m\u001b[K’:\r\n",
      "\u001b[01m\u001b[KMatrixFactorizationImpressions_Cython_Epoch.c:26112:66:\u001b[m\u001b[K \u001b[01;35m\u001b[Kwarning: \u001b[m\u001b[K‘\u001b[01m\u001b[K__pyx_v_end_pos_seen_items\u001b[m\u001b[K’ may be used uninitialized in this function [\u001b[01;35m\u001b[K\u001b]8;;https://gcc.gnu.org/onlinedocs/gcc/Warning-Options.html#index-Wmaybe-uninitialized\u0007-Wmaybe-uninitialized\u001b]8;;\u0007\u001b[m\u001b[K]\r\n",
      "26112 |       for (__pyx_t_22 = __pyx_v_start_pos_seen_items; \u001b[01;35m\u001b[K__pyx_t_22 < __pyx_t_21\u001b[m\u001b[K; __pyx_t_22+=1) {\r\n",
      "      |                                                       \u001b[01;35m\u001b[K~~~~~~~~~~~^~~~~~~~~~~~\u001b[m\u001b[K\r\n",
      "\u001b[01m\u001b[KMatrixFactorizationImpressions_Cython_Epoch.c:26112:66:\u001b[m\u001b[K \u001b[01;35m\u001b[Kwarning: \u001b[m\u001b[K‘\u001b[01m\u001b[K__pyx_v_start_pos_seen_items\u001b[m\u001b[K’ may be used uninitialized in this function [\u001b[01;35m\u001b[K\u001b]8;;https://gcc.gnu.org/onlinedocs/gcc/Warning-Options.html#index-Wmaybe-uninitialized\u0007-Wmaybe-uninitialized\u001b]8;;\u0007\u001b[m\u001b[K]\r\n",
      "/usr/local/lib/python3.10/dist-packages/Cython/Compiler/Main.py:381: FutureWarning: Cython directive 'language_level' not set, using '3str' for now (Py3). This has changed from earlier releases! File: /kaggle/working/RECsys_Challenge2024/Recommenders/MatrixFactorization/Cython/MatrixFactorizationImpressions_Cython_Epoch.pyx\r\n",
      "  tree = Parsing.p_module(s, pxd, full_module_name)\r\n",
      "Compiling [1/11]: MatrixFactorizationImpressions_Cython_Epoch.pyx... PASS\r\n",
      "\r\n",
      "Compiling [2/11]: MatrixFactorization_Cython_Epoch.pyx... \r\n",
      "In file included from \u001b[01m\u001b[K/usr/local/lib/python3.10/dist-packages/numpy/core/include/numpy/ndarraytypes.h:1929\u001b[m\u001b[K,\r\n",
      "                 from \u001b[01m\u001b[K/usr/local/lib/python3.10/dist-packages/numpy/core/include/numpy/ndarrayobject.h:12\u001b[m\u001b[K,\r\n",
      "                 from \u001b[01m\u001b[K/usr/local/lib/python3.10/dist-packages/numpy/core/include/numpy/arrayobject.h:5\u001b[m\u001b[K,\r\n",
      "                 from \u001b[01m\u001b[KMatrixFactorization_Cython_Epoch.c:1252\u001b[m\u001b[K:\r\n",
      "\u001b[01m\u001b[K/usr/local/lib/python3.10/dist-packages/numpy/core/include/numpy/npy_1_7_deprecated_api.h:17:2:\u001b[m\u001b[K \u001b[01;35m\u001b[Kwarning: \u001b[m\u001b[K#warning \"Using deprecated NumPy API, disable it with \" \"#define NPY_NO_DEPRECATED_API NPY_1_7_API_VERSION\" [\u001b[01;35m\u001b[K\u001b]8;;https://gcc.gnu.org/onlinedocs/gcc/Warning-Options.html#index-Wcpp\u0007-Wcpp\u001b]8;;\u0007\u001b[m\u001b[K]\r\n",
      "   17 | #\u001b[01;35m\u001b[Kwarning\u001b[m\u001b[K \"Using deprecated NumPy API, disable it with \" \\\r\n",
      "      |  \u001b[01;35m\u001b[K^~~~~~~\u001b[m\u001b[K\r\n",
      "\u001b[01m\u001b[KMatrixFactorization_Cython_Epoch.c:\u001b[m\u001b[K In function ‘\u001b[01m\u001b[K__pyx_pf_32MatrixFactorization_Cython_Epoch_32MatrixFactorization_Cython_Epoch_10epochIteration_Cython_ASY_SVD_SGD\u001b[m\u001b[K’:\r\n",
      "\u001b[01m\u001b[KMatrixFactorization_Cython_Epoch.c:26256:68:\u001b[m\u001b[K \u001b[01;35m\u001b[Kwarning: \u001b[m\u001b[K‘\u001b[01m\u001b[K__pyx_v_end_pos_seen_items\u001b[m\u001b[K’ may be used uninitialized in this function [\u001b[01;35m\u001b[K\u001b]8;;https://gcc.gnu.org/onlinedocs/gcc/Warning-Options.html#index-Wmaybe-uninitialized\u0007-Wmaybe-uninitialized\u001b]8;;\u0007\u001b[m\u001b[K]\r\n",
      "26256 |         for (__pyx_t_22 = __pyx_v_start_pos_seen_items; \u001b[01;35m\u001b[K__pyx_t_22 < __pyx_t_21\u001b[m\u001b[K; __pyx_t_22+=1) {\r\n",
      "      |                                                         \u001b[01;35m\u001b[K~~~~~~~~~~~^~~~~~~~~~~~\u001b[m\u001b[K\r\n",
      "\u001b[01m\u001b[KMatrixFactorization_Cython_Epoch.c:26256:68:\u001b[m\u001b[K \u001b[01;35m\u001b[Kwarning: \u001b[m\u001b[K‘\u001b[01m\u001b[K__pyx_v_start_pos_seen_items\u001b[m\u001b[K’ may be used uninitialized in this function [\u001b[01;35m\u001b[K\u001b]8;;https://gcc.gnu.org/onlinedocs/gcc/Warning-Options.html#index-Wmaybe-uninitialized\u0007-Wmaybe-uninitialized\u001b]8;;\u0007\u001b[m\u001b[K]\r\n",
      "/usr/local/lib/python3.10/dist-packages/Cython/Compiler/Main.py:381: FutureWarning: Cython directive 'language_level' not set, using '3str' for now (Py3). This has changed from earlier releases! File: /kaggle/working/RECsys_Challenge2024/Recommenders/MatrixFactorization/Cython/MatrixFactorization_Cython_Epoch.pyx\r\n",
      "  tree = Parsing.p_module(s, pxd, full_module_name)\r\n",
      "Compiling [2/11]: MatrixFactorization_Cython_Epoch.pyx... PASS\r\n",
      "\r\n",
      "Compiling [3/11]: Compute_Similarity_Cython.pyx... \r\n",
      "warning: Compute_Similarity_Cython.pyx:21:0: The 'IF' statement is deprecated and will be removed in a future Cython version. Consider using runtime conditions or C macros instead. See https://github.com/cython/cython/issues/4310\r\n",
      "In file included from \u001b[01m\u001b[K/usr/local/lib/python3.10/dist-packages/numpy/core/include/numpy/ndarraytypes.h:1929\u001b[m\u001b[K,\r\n",
      "                 from \u001b[01m\u001b[K/usr/local/lib/python3.10/dist-packages/numpy/core/include/numpy/ndarrayobject.h:12\u001b[m\u001b[K,\r\n",
      "                 from \u001b[01m\u001b[K/usr/local/lib/python3.10/dist-packages/numpy/core/include/numpy/arrayobject.h:5\u001b[m\u001b[K,\r\n",
      "                 from \u001b[01m\u001b[KCompute_Similarity_Cython.c:1252\u001b[m\u001b[K:\r\n",
      "\u001b[01m\u001b[K/usr/local/lib/python3.10/dist-packages/numpy/core/include/numpy/npy_1_7_deprecated_api.h:17:2:\u001b[m\u001b[K \u001b[01;35m\u001b[Kwarning: \u001b[m\u001b[K#warning \"Using deprecated NumPy API, disable it with \" \"#define NPY_NO_DEPRECATED_API NPY_1_7_API_VERSION\" [\u001b[01;35m\u001b[K\u001b]8;;https://gcc.gnu.org/onlinedocs/gcc/Warning-Options.html#index-Wcpp\u0007-Wcpp\u001b]8;;\u0007\u001b[m\u001b[K]\r\n",
      "   17 | #\u001b[01;35m\u001b[Kwarning\u001b[m\u001b[K \"Using deprecated NumPy API, disable it with \" \\\r\n",
      "      |  \u001b[01;35m\u001b[K^~~~~~~\u001b[m\u001b[K\r\n",
      "/usr/local/lib/python3.10/dist-packages/Cython/Compiler/Main.py:381: FutureWarning: Cython directive 'language_level' not set, using '3str' for now (Py3). This has changed from earlier releases! File: /kaggle/working/RECsys_Challenge2024/Recommenders/Similarity/Cython/Compute_Similarity_Cython.pyx\r\n",
      "  tree = Parsing.p_module(s, pxd, full_module_name)\r\n",
      "warning: Compute_Similarity_Cython.pyx:21:0: The 'IF' statement is deprecated and will be removed in a future Cython version. Consider using runtime conditions or C macros instead. See https://github.com/cython/cython/issues/4310\r\n",
      "Compiling [3/11]: Compute_Similarity_Cython.pyx... PASS\r\n",
      "\r\n",
      "Compiling [4/11]: SLIM_BPR_Cython_Epoch.pyx... \r\n",
      "warning: SLIM_BPR_Cython_Epoch.pyx:24:0: The 'IF' statement is deprecated and will be removed in a future Cython version. Consider using runtime conditions or C macros instead. See https://github.com/cython/cython/issues/4310\r\n",
      "warning: SLIM_BPR_Cython_Epoch.pyx:632:34: Non-trivial type declarators in shared declaration (e.g. mix of pointers and values). Each pointer declaration should be on its own line.\r\n",
      "warning: SLIM_BPR_Cython_Epoch.pyx:632:66: Non-trivial type declarators in shared declaration (e.g. mix of pointers and values). Each pointer declaration should be on its own line.\r\n",
      "warning: SLIM_BPR_Cython_Epoch.pyx:817:35: Non-trivial type declarators in shared declaration (e.g. mix of pointers and values). Each pointer declaration should be on its own line.\r\n",
      "warning: SLIM_BPR_Cython_Epoch.pyx:817:52: Non-trivial type declarators in shared declaration (e.g. mix of pointers and values). Each pointer declaration should be on its own line.\r\n",
      "warning: SLIM_BPR_Cython_Epoch.pyx:916:35: Non-trivial type declarators in shared declaration (e.g. mix of pointers and values). Each pointer declaration should be on its own line.\r\n",
      "warning: SLIM_BPR_Cython_Epoch.pyx:916:53: Non-trivial type declarators in shared declaration (e.g. mix of pointers and values). Each pointer declaration should be on its own line.\r\n",
      "warning: SLIM_BPR_Cython_Epoch.pyx:916:69: Non-trivial type declarators in shared declaration (e.g. mix of pointers and values). Each pointer declaration should be on its own line.\r\n",
      "warning: SLIM_BPR_Cython_Epoch.pyx:1051:35: Non-trivial type declarators in shared declaration (e.g. mix of pointers and values). Each pointer declaration should be on its own line.\r\n",
      "warning: SLIM_BPR_Cython_Epoch.pyx:1051:42: Non-trivial type declarators in shared declaration (e.g. mix of pointers and values). Each pointer declaration should be on its own line.\r\n",
      "warning: SLIM_BPR_Cython_Epoch.pyx:1052:35: Non-trivial type declarators in shared declaration (e.g. mix of pointers and values). Each pointer declaration should be on its own line.\r\n",
      "warning: SLIM_BPR_Cython_Epoch.pyx:1052:53: Non-trivial type declarators in shared declaration (e.g. mix of pointers and values). Each pointer declaration should be on its own line.\r\n",
      "\r\n",
      "Error compiling Cython file:\r\n",
      "------------------------------------------------------------\r\n",
      "...\r\n",
      "            vector_pointer_to_list_elements[index].head = current_element\r\n",
      "            current_element = current_element.higher\r\n",
      "\r\n",
      "\r\n",
      "        # Sort array elements on their data field\r\n",
      "        qsort(vector_pointer_to_list_elements, list_length, sizeof(head_pointer_tree_s), compare_struct_on_data)\r\n",
      "                                                                                         ^\r\n",
      "------------------------------------------------------------\r\n",
      "\r\n",
      "SLIM_BPR_Cython_Epoch.pyx:990:89: Cannot assign type 'int (const void *, const void *) except? -1' to 'int (*)(const_void *, const_void *) noexcept'. Exception values are incompatible. Suggest adding 'noexcept' to the type of 'compare_struct_on_data'.\r\n",
      "\r\n",
      "Error compiling Cython file:\r\n",
      "------------------------------------------------------------\r\n",
      "...\r\n",
      "        # Sort array elements on their data field\r\n",
      "        qsort(vector_pointer_to_list_elements, list_length, sizeof(head_pointer_tree_s), compare_struct_on_data)\r\n",
      "\r\n",
      "        # Sort only the TopK according to their column field\r\n",
      "        # Sort is from lower to higher, therefore the elements to be considered are from len-topK to len\r\n",
      "        qsort(&vector_pointer_to_list_elements[list_length-TopK], TopK, sizeof(head_pointer_tree_s), compare_struct_on_column)\r\n",
      "                                                                                                     ^\r\n",
      "------------------------------------------------------------\r\n",
      "\r\n",
      "SLIM_BPR_Cython_Epoch.pyx:994:101: Cannot assign type 'int (const void *, const void *) except? -1' to 'int (*)(const_void *, const_void *) noexcept'. Exception values are incompatible. Suggest adding 'noexcept' to the type of 'compare_struct_on_column'.\r\n",
      "Traceback (most recent call last):\r\n",
      "  File \"/kaggle/working/RECsys_Challenge2024/CythonCompiler/compile_script.py\", line 48, in <module>\r\n",
      "    setup(\r\n",
      "  File \"/usr/local/lib/python3.10/dist-packages/setuptools/__init__.py\", line 108, in setup\r\n",
      "    return distutils.core.setup(**attrs)\r\n",
      "  File \"/usr/local/lib/python3.10/dist-packages/setuptools/_distutils/core.py\", line 184, in setup\r\n",
      "    return run_commands(dist)\r\n",
      "  File \"/usr/local/lib/python3.10/dist-packages/setuptools/_distutils/core.py\", line 200, in run_commands\r\n",
      "    dist.run_commands()\r\n",
      "  File \"/usr/local/lib/python3.10/dist-packages/setuptools/_distutils/dist.py\", line 970, in run_commands\r\n",
      "    self.run_command(cmd)\r\n",
      "  File \"/usr/local/lib/python3.10/dist-packages/setuptools/dist.py\", line 956, in run_command\r\n",
      "    super().run_command(command)\r\n",
      "  File \"/usr/local/lib/python3.10/dist-packages/setuptools/_distutils/dist.py\", line 989, in run_command\r\n",
      "    cmd_obj.run()\r\n",
      "  File \"/usr/local/lib/python3.10/dist-packages/setuptools/_distutils/command/build_ext.py\", line 359, in run\r\n",
      "    self.build_extensions()\r\n",
      "  File \"/usr/local/lib/python3.10/dist-packages/setuptools/_distutils/command/build_ext.py\", line 479, in build_extensions\r\n",
      "    self._build_extensions_serial()\r\n",
      "  File \"/usr/local/lib/python3.10/dist-packages/setuptools/_distutils/command/build_ext.py\", line 505, in _build_extensions_serial\r\n",
      "    self.build_extension(ext)\r\n",
      "  File \"/usr/local/lib/python3.10/dist-packages/Cython/Distutils/build_ext.py\", line 130, in build_extension\r\n",
      "    new_ext = cythonize(\r\n",
      "  File \"/usr/local/lib/python3.10/dist-packages/Cython/Build/Dependencies.py\", line 1154, in cythonize\r\n",
      "    cythonize_one(*args)\r\n",
      "  File \"/usr/local/lib/python3.10/dist-packages/Cython/Build/Dependencies.py\", line 1321, in cythonize_one\r\n",
      "    raise CompileError(None, pyx_file)\r\n",
      "Cython.Compiler.Errors.CompileError: SLIM_BPR_Cython_Epoch.pyx\r\n",
      "Traceback (most recent call last):\r\n",
      "  File \"/kaggle/working/RECsys_Challenge2024/run_compile_all_cython.py\", line 60, in <module>\r\n",
      "    run_compile_subprocess(file_path, [file_name])\r\n",
      "  File \"/kaggle/working/RECsys_Challenge2024/CythonCompiler/run_compile_subprocess.py\", line 51, in run_compile_subprocess\r\n",
      "    raise exc\r\n",
      "  File \"/kaggle/working/RECsys_Challenge2024/CythonCompiler/run_compile_subprocess.py\", line 32, in run_compile_subprocess\r\n",
      "    output = subprocess.check_output(' '.join(command),\r\n",
      "  File \"/usr/lib/python3.10/subprocess.py\", line 421, in check_output\r\n",
      "    return run(*popenargs, stdout=PIPE, timeout=timeout, check=True,\r\n",
      "  File \"/usr/lib/python3.10/subprocess.py\", line 526, in run\r\n",
      "    raise CalledProcessError(retcode, process.args,\r\n",
      "subprocess.CalledProcessError: Command '/usr/bin/python3 /kaggle/working/RECsys_Challenge2024/CythonCompiler/compile_script.py SLIM_BPR_Cython_Epoch.pyx build_ext --inplace' returned non-zero exit status 1.\r\n",
      "Compiling [4/11]: SLIM_BPR_Cython_Epoch.pyx... FAIL: Command '/usr/bin/python3 /kaggle/working/RECsys_Challenge2024/CythonCompiler/compile_script.py SLIM_BPR_Cython_Epoch.pyx build_ext --inplace' returned non-zero exit status 1.\r\n",
      "\r\n",
      "Compiling [5/11]: Sparse_Matrix_Tree_CSR.pyx... \r\n",
      "warning: Sparse_Matrix_Tree_CSR.pyx:132:34: Non-trivial type declarators in shared declaration (e.g. mix of pointers and values). Each pointer declaration should be on its own line.\r\n",
      "warning: Sparse_Matrix_Tree_CSR.pyx:132:66: Non-trivial type declarators in shared declaration (e.g. mix of pointers and values). Each pointer declaration should be on its own line.\r\n",
      "warning: Sparse_Matrix_Tree_CSR.pyx:343:35: Non-trivial type declarators in shared declaration (e.g. mix of pointers and values). Each pointer declaration should be on its own line.\r\n",
      "warning: Sparse_Matrix_Tree_CSR.pyx:343:52: Non-trivial type declarators in shared declaration (e.g. mix of pointers and values). Each pointer declaration should be on its own line.\r\n",
      "warning: Sparse_Matrix_Tree_CSR.pyx:442:35: Non-trivial type declarators in shared declaration (e.g. mix of pointers and values). Each pointer declaration should be on its own line.\r\n",
      "warning: Sparse_Matrix_Tree_CSR.pyx:442:53: Non-trivial type declarators in shared declaration (e.g. mix of pointers and values). Each pointer declaration should be on its own line.\r\n",
      "warning: Sparse_Matrix_Tree_CSR.pyx:442:69: Non-trivial type declarators in shared declaration (e.g. mix of pointers and values). Each pointer declaration should be on its own line.\r\n",
      "warning: Sparse_Matrix_Tree_CSR.pyx:577:35: Non-trivial type declarators in shared declaration (e.g. mix of pointers and values). Each pointer declaration should be on its own line.\r\n",
      "warning: Sparse_Matrix_Tree_CSR.pyx:577:42: Non-trivial type declarators in shared declaration (e.g. mix of pointers and values). Each pointer declaration should be on its own line.\r\n",
      "warning: Sparse_Matrix_Tree_CSR.pyx:578:35: Non-trivial type declarators in shared declaration (e.g. mix of pointers and values). Each pointer declaration should be on its own line.\r\n",
      "warning: Sparse_Matrix_Tree_CSR.pyx:578:53: Non-trivial type declarators in shared declaration (e.g. mix of pointers and values). Each pointer declaration should be on its own line.\r\n",
      "\r\n",
      "Error compiling Cython file:\r\n",
      "------------------------------------------------------------\r\n",
      "...\r\n",
      "            vector_pointer_to_list_elements[index].head = current_element\r\n",
      "            current_element = current_element.higher\r\n",
      "\r\n",
      "\r\n",
      "        # Sort array elements on their data field\r\n",
      "        qsort(vector_pointer_to_list_elements, list_length, sizeof(head_pointer_tree_s), compare_struct_on_data)\r\n",
      "                                                                                         ^\r\n",
      "------------------------------------------------------------\r\n",
      "\r\n",
      "Sparse_Matrix_Tree_CSR.pyx:516:89: Cannot assign type 'int (const void *, const void *) except? -1' to 'int (*)(const_void *, const_void *) noexcept'. Exception values are incompatible. Suggest adding 'noexcept' to the type of 'compare_struct_on_data'.\r\n",
      "\r\n",
      "Error compiling Cython file:\r\n",
      "------------------------------------------------------------\r\n",
      "...\r\n",
      "        # Sort array elements on their data field\r\n",
      "        qsort(vector_pointer_to_list_elements, list_length, sizeof(head_pointer_tree_s), compare_struct_on_data)\r\n",
      "\r\n",
      "        # Sort only the TopK according to their column field\r\n",
      "        # Sort is from lower to higher, therefore the elements to be considered are from len-topK to len\r\n",
      "        qsort(&vector_pointer_to_list_elements[list_length-TopK], TopK, sizeof(head_pointer_tree_s), compare_struct_on_column)\r\n",
      "                                                                                                     ^\r\n",
      "------------------------------------------------------------\r\n",
      "\r\n",
      "Sparse_Matrix_Tree_CSR.pyx:520:101: Cannot assign type 'int (const void *, const void *) except? -1' to 'int (*)(const_void *, const_void *) noexcept'. Exception values are incompatible. Suggest adding 'noexcept' to the type of 'compare_struct_on_column'.\r\n",
      "Traceback (most recent call last):\r\n",
      "  File \"/kaggle/working/RECsys_Challenge2024/CythonCompiler/compile_script.py\", line 48, in <module>\r\n",
      "    setup(\r\n",
      "  File \"/usr/local/lib/python3.10/dist-packages/setuptools/__init__.py\", line 108, in setup\r\n",
      "    return distutils.core.setup(**attrs)\r\n",
      "  File \"/usr/local/lib/python3.10/dist-packages/setuptools/_distutils/core.py\", line 184, in setup\r\n",
      "    return run_commands(dist)\r\n",
      "  File \"/usr/local/lib/python3.10/dist-packages/setuptools/_distutils/core.py\", line 200, in run_commands\r\n",
      "    dist.run_commands()\r\n",
      "  File \"/usr/local/lib/python3.10/dist-packages/setuptools/_distutils/dist.py\", line 970, in run_commands\r\n",
      "    self.run_command(cmd)\r\n",
      "  File \"/usr/local/lib/python3.10/dist-packages/setuptools/dist.py\", line 956, in run_command\r\n",
      "    super().run_command(command)\r\n",
      "  File \"/usr/local/lib/python3.10/dist-packages/setuptools/_distutils/dist.py\", line 989, in run_command\r\n",
      "    cmd_obj.run()\r\n",
      "  File \"/usr/local/lib/python3.10/dist-packages/setuptools/_distutils/command/build_ext.py\", line 359, in run\r\n",
      "    self.build_extensions()\r\n",
      "  File \"/usr/local/lib/python3.10/dist-packages/setuptools/_distutils/command/build_ext.py\", line 479, in build_extensions\r\n",
      "    self._build_extensions_serial()\r\n",
      "  File \"/usr/local/lib/python3.10/dist-packages/setuptools/_distutils/command/build_ext.py\", line 505, in _build_extensions_serial\r\n",
      "    self.build_extension(ext)\r\n",
      "  File \"/usr/local/lib/python3.10/dist-packages/Cython/Distutils/build_ext.py\", line 130, in build_extension\r\n",
      "    new_ext = cythonize(\r\n",
      "  File \"/usr/local/lib/python3.10/dist-packages/Cython/Build/Dependencies.py\", line 1154, in cythonize\r\n",
      "    cythonize_one(*args)\r\n",
      "  File \"/usr/local/lib/python3.10/dist-packages/Cython/Build/Dependencies.py\", line 1321, in cythonize_one\r\n",
      "    raise CompileError(None, pyx_file)\r\n",
      "Cython.Compiler.Errors.CompileError: Sparse_Matrix_Tree_CSR.pyx\r\n",
      "Traceback (most recent call last):\r\n",
      "  File \"/kaggle/working/RECsys_Challenge2024/run_compile_all_cython.py\", line 60, in <module>\r\n",
      "    run_compile_subprocess(file_path, [file_name])\r\n",
      "  File \"/kaggle/working/RECsys_Challenge2024/CythonCompiler/run_compile_subprocess.py\", line 51, in run_compile_subprocess\r\n",
      "    raise exc\r\n",
      "  File \"/kaggle/working/RECsys_Challenge2024/CythonCompiler/run_compile_subprocess.py\", line 32, in run_compile_subprocess\r\n",
      "    output = subprocess.check_output(' '.join(command),\r\n",
      "  File \"/usr/lib/python3.10/subprocess.py\", line 421, in check_output\r\n",
      "    return run(*popenargs, stdout=PIPE, timeout=timeout, check=True,\r\n",
      "  File \"/usr/lib/python3.10/subprocess.py\", line 526, in run\r\n",
      "    raise CalledProcessError(retcode, process.args,\r\n",
      "subprocess.CalledProcessError: Command '/usr/bin/python3 /kaggle/working/RECsys_Challenge2024/CythonCompiler/compile_script.py Sparse_Matrix_Tree_CSR.pyx build_ext --inplace' returned non-zero exit status 1.\r\n",
      "Compiling [5/11]: Sparse_Matrix_Tree_CSR.pyx... FAIL: Command '/usr/bin/python3 /kaggle/working/RECsys_Challenge2024/CythonCompiler/compile_script.py Sparse_Matrix_Tree_CSR.pyx build_ext --inplace' returned non-zero exit status 1.\r\n",
      "\r\n",
      "Compiling [6/11]: Triangular_Matrix.pyx... \r\n",
      "warning: Triangular_Matrix.pyx:22:0: The 'IF' statement is deprecated and will be removed in a future Cython version. Consider using runtime conditions or C macros instead. See https://github.com/cython/cython/issues/4310\r\n",
      "In file included from \u001b[01m\u001b[K/usr/local/lib/python3.10/dist-packages/numpy/core/include/numpy/ndarraytypes.h:1929\u001b[m\u001b[K,\r\n",
      "                 from \u001b[01m\u001b[K/usr/local/lib/python3.10/dist-packages/numpy/core/include/numpy/ndarrayobject.h:12\u001b[m\u001b[K,\r\n",
      "                 from \u001b[01m\u001b[K/usr/local/lib/python3.10/dist-packages/numpy/core/include/numpy/arrayobject.h:5\u001b[m\u001b[K,\r\n",
      "                 from \u001b[01m\u001b[KTriangular_Matrix.c:1252\u001b[m\u001b[K:\r\n",
      "\u001b[01m\u001b[K/usr/local/lib/python3.10/dist-packages/numpy/core/include/numpy/npy_1_7_deprecated_api.h:17:2:\u001b[m\u001b[K \u001b[01;35m\u001b[Kwarning: \u001b[m\u001b[K#warning \"Using deprecated NumPy API, disable it with \" \"#define NPY_NO_DEPRECATED_API NPY_1_7_API_VERSION\" [\u001b[01;35m\u001b[K\u001b]8;;https://gcc.gnu.org/onlinedocs/gcc/Warning-Options.html#index-Wcpp\u0007-Wcpp\u001b]8;;\u0007\u001b[m\u001b[K]\r\n",
      "   17 | #\u001b[01;35m\u001b[Kwarning\u001b[m\u001b[K \"Using deprecated NumPy API, disable it with \" \\\r\n",
      "      |  \u001b[01;35m\u001b[K^~~~~~~\u001b[m\u001b[K\r\n",
      "In function ‘\u001b[01m\u001b[K__pyx_pf_17Triangular_Matrix_17Triangular_Matrix___init__\u001b[m\u001b[K’,\r\n",
      "    inlined from ‘\u001b[01m\u001b[K__pyx_pw_17Triangular_Matrix_17Triangular_Matrix_1__init__\u001b[m\u001b[K’ at \u001b[01m\u001b[KTriangular_Matrix.c:5541:13\u001b[m\u001b[K:\r\n",
      "\u001b[01m\u001b[KTriangular_Matrix.c:5599:43:\u001b[m\u001b[K \u001b[01;35m\u001b[Kwarning: \u001b[m\u001b[Kargument 1 value ‘\u001b[01m\u001b[K18446744073709551608\u001b[m\u001b[K’ exceeds maximum object size 9223372036854775807 [\u001b[01;35m\u001b[K\u001b]8;;https://gcc.gnu.org/onlinedocs/gcc/Warning-Options.html#index-Walloc-size-larger-than=\u0007-Walloc-size-larger-than=\u001b]8;;\u0007\u001b[m\u001b[K]\r\n",
      " 5599 |   __pyx_v_self->row_pointer = ((double **)\u001b[01;35m\u001b[Kmalloc((__pyx_v_self->num_rows * (sizeof(double *))))\u001b[m\u001b[K);\r\n",
      "      |                                           \u001b[01;35m\u001b[K^~~~~~~~~~~~~~~~~~~~~~~~~~~~~~~~~~~~~~~~~~~~~~~~~~~~~\u001b[m\u001b[K\r\n",
      "In file included from \u001b[01m\u001b[K/usr/include/python3.10/Python.h:34\u001b[m\u001b[K,\r\n",
      "                 from \u001b[01m\u001b[KTriangular_Matrix.c:41\u001b[m\u001b[K:\r\n",
      "\u001b[01m\u001b[KTriangular_Matrix.c:\u001b[m\u001b[K In function ‘\u001b[01m\u001b[K__pyx_pw_17Triangular_Matrix_17Triangular_Matrix_1__init__\u001b[m\u001b[K’:\r\n",
      "\u001b[01m\u001b[K/usr/include/stdlib.h:540:14:\u001b[m\u001b[K \u001b[01;36m\u001b[Knote: \u001b[m\u001b[Kin a call to allocation function ‘\u001b[01m\u001b[Kmalloc\u001b[m\u001b[K’ declared here\r\n",
      "  540 | extern void *\u001b[01;36m\u001b[Kmalloc\u001b[m\u001b[K (size_t __size) __THROW __attribute_malloc__\r\n",
      "      |              \u001b[01;36m\u001b[K^~~~~~\u001b[m\u001b[K\r\n",
      "/usr/local/lib/python3.10/dist-packages/Cython/Compiler/Main.py:381: FutureWarning: Cython directive 'language_level' not set, using '3str' for now (Py3). This has changed from earlier releases! File: /kaggle/working/RECsys_Challenge2024/Recommenders/SLIM/Cython/Triangular_Matrix.pyx\r\n",
      "  tree = Parsing.p_module(s, pxd, full_module_name)\r\n",
      "warning: Triangular_Matrix.pyx:22:0: The 'IF' statement is deprecated and will be removed in a future Cython version. Consider using runtime conditions or C macros instead. See https://github.com/cython/cython/issues/4310\r\n",
      "Compiling [6/11]: Triangular_Matrix.pyx... PASS\r\n",
      "\r\n",
      "Compiling [7/11]: CFW_DVV_Similarity_Cython_SGD.pyx... \r\n",
      "In file included from \u001b[01m\u001b[K/usr/local/lib/python3.10/dist-packages/numpy/core/include/numpy/ndarraytypes.h:1929\u001b[m\u001b[K,\r\n",
      "                 from \u001b[01m\u001b[K/usr/local/lib/python3.10/dist-packages/numpy/core/include/numpy/ndarrayobject.h:12\u001b[m\u001b[K,\r\n",
      "                 from \u001b[01m\u001b[K/usr/local/lib/python3.10/dist-packages/numpy/core/include/numpy/arrayobject.h:5\u001b[m\u001b[K,\r\n",
      "                 from \u001b[01m\u001b[KCFW_DVV_Similarity_Cython_SGD.c:1252\u001b[m\u001b[K:\r\n",
      "\u001b[01m\u001b[K/usr/local/lib/python3.10/dist-packages/numpy/core/include/numpy/npy_1_7_deprecated_api.h:17:2:\u001b[m\u001b[K \u001b[01;35m\u001b[Kwarning: \u001b[m\u001b[K#warning \"Using deprecated NumPy API, disable it with \" \"#define NPY_NO_DEPRECATED_API NPY_1_7_API_VERSION\" [\u001b[01;35m\u001b[K\u001b]8;;https://gcc.gnu.org/onlinedocs/gcc/Warning-Options.html#index-Wcpp\u0007-Wcpp\u001b]8;;\u0007\u001b[m\u001b[K]\r\n",
      "   17 | #\u001b[01;35m\u001b[Kwarning\u001b[m\u001b[K \"Using deprecated NumPy API, disable it with \" \\\r\n",
      "      |  \u001b[01;35m\u001b[K^~~~~~~\u001b[m\u001b[K\r\n",
      "/usr/local/lib/python3.10/dist-packages/Cython/Compiler/Main.py:381: FutureWarning: Cython directive 'language_level' not set, using '3str' for now (Py3). This has changed from earlier releases! File: /kaggle/working/RECsys_Challenge2024/Recommenders/FeatureWeighting/Cython/CFW_DVV_Similarity_Cython_SGD.pyx\r\n",
      "  tree = Parsing.p_module(s, pxd, full_module_name)\r\n",
      "Compiling [7/11]: CFW_DVV_Similarity_Cython_SGD.pyx... PASS\r\n",
      "\r\n",
      "Compiling [8/11]: CFW_D_Similarity_Cython_SGD.pyx... \r\n",
      "In file included from \u001b[01m\u001b[K/usr/local/lib/python3.10/dist-packages/numpy/core/include/numpy/ndarraytypes.h:1929\u001b[m\u001b[K,\r\n",
      "                 from \u001b[01m\u001b[K/usr/local/lib/python3.10/dist-packages/numpy/core/include/numpy/ndarrayobject.h:12\u001b[m\u001b[K,\r\n",
      "                 from \u001b[01m\u001b[K/usr/local/lib/python3.10/dist-packages/numpy/core/include/numpy/arrayobject.h:5\u001b[m\u001b[K,\r\n",
      "                 from \u001b[01m\u001b[KCFW_D_Similarity_Cython_SGD.c:1252\u001b[m\u001b[K:\r\n",
      "\u001b[01m\u001b[K/usr/local/lib/python3.10/dist-packages/numpy/core/include/numpy/npy_1_7_deprecated_api.h:17:2:\u001b[m\u001b[K \u001b[01;35m\u001b[Kwarning: \u001b[m\u001b[K#warning \"Using deprecated NumPy API, disable it with \" \"#define NPY_NO_DEPRECATED_API NPY_1_7_API_VERSION\" [\u001b[01;35m\u001b[K\u001b]8;;https://gcc.gnu.org/onlinedocs/gcc/Warning-Options.html#index-Wcpp\u0007-Wcpp\u001b]8;;\u0007\u001b[m\u001b[K]\r\n",
      "   17 | #\u001b[01;35m\u001b[Kwarning\u001b[m\u001b[K \"Using deprecated NumPy API, disable it with \" \\\r\n",
      "      |  \u001b[01;35m\u001b[K^~~~~~~\u001b[m\u001b[K\r\n",
      "\u001b[01m\u001b[KCFW_D_Similarity_Cython_SGD.c:\u001b[m\u001b[K In function ‘\u001b[01m\u001b[K__pyx_pf_27CFW_D_Similarity_Cython_SGD_27CFW_D_Similarity_Cython_SGD_6fit\u001b[m\u001b[K’:\r\n",
      "\u001b[01m\u001b[KCFW_D_Similarity_Cython_SGD.c:23373:55:\u001b[m\u001b[K \u001b[01;35m\u001b[Kwarning: \u001b[m\u001b[K‘\u001b[01m\u001b[K__pyx_v_sample_num\u001b[m\u001b[K’ may be used uninitialized in this function [\u001b[01;35m\u001b[K\u001b]8;;https://gcc.gnu.org/onlinedocs/gcc/Warning-Options.html#index-Wmaybe-uninitialized\u0007-Wmaybe-uninitialized\u001b]8;;\u0007\u001b[m\u001b[K]\r\n",
      "23373 |   __pyx_t_3 = PyFloat_FromDouble((__pyx_v_cum_loss / \u001b[01;35m\u001b[K((double)__pyx_v_sample_num)\u001b[m\u001b[K)); if (unlikely(!__pyx_t_3)) __PYX_ERR(0, 290, __pyx_L1_error)\r\n",
      "      |                                                      \u001b[01;35m\u001b[K~^~~~~~~~~~~~~~~~~~~~~~~~~~~\u001b[m\u001b[K\r\n",
      "/usr/local/lib/python3.10/dist-packages/Cython/Compiler/Main.py:381: FutureWarning: Cython directive 'language_level' not set, using '3str' for now (Py3). This has changed from earlier releases! File: /kaggle/working/RECsys_Challenge2024/Recommenders/FeatureWeighting/Cython/CFW_D_Similarity_Cython_SGD.pyx\r\n",
      "  tree = Parsing.p_module(s, pxd, full_module_name)\r\n",
      "Compiling [8/11]: CFW_D_Similarity_Cython_SGD.pyx... PASS\r\n",
      "\r\n",
      "Compiling [9/11]: FBSM_Rating_Cython_SGD.pyx... \r\n",
      "In file included from \u001b[01m\u001b[K/usr/local/lib/python3.10/dist-packages/numpy/core/include/numpy/ndarraytypes.h:1929\u001b[m\u001b[K,\r\n",
      "                 from \u001b[01m\u001b[K/usr/local/lib/python3.10/dist-packages/numpy/core/include/numpy/ndarrayobject.h:12\u001b[m\u001b[K,\r\n",
      "                 from \u001b[01m\u001b[K/usr/local/lib/python3.10/dist-packages/numpy/core/include/numpy/arrayobject.h:5\u001b[m\u001b[K,\r\n",
      "                 from \u001b[01m\u001b[KFBSM_Rating_Cython_SGD.c:1252\u001b[m\u001b[K:\r\n",
      "\u001b[01m\u001b[K/usr/local/lib/python3.10/dist-packages/numpy/core/include/numpy/npy_1_7_deprecated_api.h:17:2:\u001b[m\u001b[K \u001b[01;35m\u001b[Kwarning: \u001b[m\u001b[K#warning \"Using deprecated NumPy API, disable it with \" \"#define NPY_NO_DEPRECATED_API NPY_1_7_API_VERSION\" [\u001b[01;35m\u001b[K\u001b]8;;https://gcc.gnu.org/onlinedocs/gcc/Warning-Options.html#index-Wcpp\u0007-Wcpp\u001b]8;;\u0007\u001b[m\u001b[K]\r\n",
      "   17 | #\u001b[01;35m\u001b[Kwarning\u001b[m\u001b[K \"Using deprecated NumPy API, disable it with \" \\\r\n",
      "      |  \u001b[01;35m\u001b[K^~~~~~~\u001b[m\u001b[K\r\n",
      "\u001b[01m\u001b[KFBSM_Rating_Cython_SGD.c:\u001b[m\u001b[K In function ‘\u001b[01m\u001b[K__pyx_pf_22FBSM_Rating_Cython_SGD_22FBSM_Rating_Cython_SGD_2fit\u001b[m\u001b[K’:\r\n",
      "\u001b[01m\u001b[KFBSM_Rating_Cython_SGD.c:26607:55:\u001b[m\u001b[K \u001b[01;35m\u001b[Kwarning: \u001b[m\u001b[K‘\u001b[01m\u001b[K__pyx_v_num_sample\u001b[m\u001b[K’ may be used uninitialized in this function [\u001b[01;35m\u001b[K\u001b]8;;https://gcc.gnu.org/onlinedocs/gcc/Warning-Options.html#index-Wmaybe-uninitialized\u0007-Wmaybe-uninitialized\u001b]8;;\u0007\u001b[m\u001b[K]\r\n",
      "26607 |   __pyx_t_5 = PyFloat_FromDouble((__pyx_v_cum_loss / \u001b[01;35m\u001b[K((double)__pyx_v_num_sample)\u001b[m\u001b[K)); if (unlikely(!__pyx_t_5)) __PYX_ERR(0, 551, __pyx_L1_error)\r\n",
      "      |                                                      \u001b[01;35m\u001b[K~^~~~~~~~~~~~~~~~~~~~~~~~~~~\u001b[m\u001b[K\r\n",
      "/usr/local/lib/python3.10/dist-packages/Cython/Compiler/Main.py:381: FutureWarning: Cython directive 'language_level' not set, using '3str' for now (Py3). This has changed from earlier releases! File: /kaggle/working/RECsys_Challenge2024/Recommenders/FeatureWeighting/Cython/FBSM_Rating_Cython_SGD.pyx\r\n",
      "  tree = Parsing.p_module(s, pxd, full_module_name)\r\n",
      "Compiling [9/11]: FBSM_Rating_Cython_SGD.pyx... PASS\r\n",
      "\r\n",
      "Compiling [10/11]: HP3_Similarity_Cython_SGD.pyx... \r\n",
      "performance hint: HP3_Similarity_Cython_SGD.pyx:113:40: Index should be typed for more efficient access\r\n",
      "performance hint: HP3_Similarity_Cython_SGD.pyx:114:40: Index should be typed for more efficient access\r\n",
      "In file included from \u001b[01m\u001b[K/usr/local/lib/python3.10/dist-packages/numpy/core/include/numpy/ndarraytypes.h:1929\u001b[m\u001b[K,\r\n",
      "                 from \u001b[01m\u001b[K/usr/local/lib/python3.10/dist-packages/numpy/core/include/numpy/ndarrayobject.h:12\u001b[m\u001b[K,\r\n",
      "                 from \u001b[01m\u001b[K/usr/local/lib/python3.10/dist-packages/numpy/core/include/numpy/arrayobject.h:5\u001b[m\u001b[K,\r\n",
      "                 from \u001b[01m\u001b[KHP3_Similarity_Cython_SGD.c:1252\u001b[m\u001b[K:\r\n",
      "\u001b[01m\u001b[K/usr/local/lib/python3.10/dist-packages/numpy/core/include/numpy/npy_1_7_deprecated_api.h:17:2:\u001b[m\u001b[K \u001b[01;35m\u001b[Kwarning: \u001b[m\u001b[K#warning \"Using deprecated NumPy API, disable it with \" \"#define NPY_NO_DEPRECATED_API NPY_1_7_API_VERSION\" [\u001b[01;35m\u001b[K\u001b]8;;https://gcc.gnu.org/onlinedocs/gcc/Warning-Options.html#index-Wcpp\u0007-Wcpp\u001b]8;;\u0007\u001b[m\u001b[K]\r\n",
      "   17 | #\u001b[01;35m\u001b[Kwarning\u001b[m\u001b[K \"Using deprecated NumPy API, disable it with \" \\\r\n",
      "      |  \u001b[01;35m\u001b[K^~~~~~~\u001b[m\u001b[K\r\n",
      "\u001b[01m\u001b[KHP3_Similarity_Cython_SGD.c:\u001b[m\u001b[K In function ‘\u001b[01m\u001b[K__pyx_pf_25HP3_Similarity_Cython_SGD_25HP3_Similarity_Cython_SGD_4fit\u001b[m\u001b[K’:\r\n",
      "\u001b[01m\u001b[KHP3_Similarity_Cython_SGD.c:23631:55:\u001b[m\u001b[K \u001b[01;35m\u001b[Kwarning: \u001b[m\u001b[K‘\u001b[01m\u001b[K__pyx_v_sample_num\u001b[m\u001b[K’ may be used uninitialized in this function [\u001b[01;35m\u001b[K\u001b]8;;https://gcc.gnu.org/onlinedocs/gcc/Warning-Options.html#index-Wmaybe-uninitialized\u0007-Wmaybe-uninitialized\u001b]8;;\u0007\u001b[m\u001b[K]\r\n",
      "23631 |   __pyx_t_1 = PyFloat_FromDouble((__pyx_v_cum_loss / \u001b[01;35m\u001b[K((double)__pyx_v_sample_num)\u001b[m\u001b[K)); if (unlikely(!__pyx_t_1)) __PYX_ERR(0, 291, __pyx_L1_error)\r\n",
      "      |                                                      \u001b[01;35m\u001b[K~^~~~~~~~~~~~~~~~~~~~~~~~~~~\u001b[m\u001b[K\r\n",
      "/usr/local/lib/python3.10/dist-packages/Cython/Compiler/Main.py:381: FutureWarning: Cython directive 'language_level' not set, using '3str' for now (Py3). This has changed from earlier releases! File: /kaggle/working/RECsys_Challenge2024/Recommenders/FeatureWeighting/Cython/HP3_Similarity_Cython_SGD.pyx\r\n",
      "  tree = Parsing.p_module(s, pxd, full_module_name)\r\n",
      "performance hint: HP3_Similarity_Cython_SGD.pyx:113:40: Index should be typed for more efficient access\r\n",
      "performance hint: HP3_Similarity_Cython_SGD.pyx:114:40: Index should be typed for more efficient access\r\n",
      "Compiling [10/11]: HP3_Similarity_Cython_SGD.pyx... PASS\r\n",
      "\r\n",
      "Compiling [11/11]: DataIterator.pyx... \r\n",
      "In file included from \u001b[01m\u001b[K/usr/local/lib/python3.10/dist-packages/numpy/core/include/numpy/ndarraytypes.h:1929\u001b[m\u001b[K,\r\n",
      "                 from \u001b[01m\u001b[K/usr/local/lib/python3.10/dist-packages/numpy/core/include/numpy/ndarrayobject.h:12\u001b[m\u001b[K,\r\n",
      "                 from \u001b[01m\u001b[K/usr/local/lib/python3.10/dist-packages/numpy/core/include/numpy/arrayobject.h:5\u001b[m\u001b[K,\r\n",
      "                 from \u001b[01m\u001b[KDataIterator.c:1252\u001b[m\u001b[K:\r\n",
      "\u001b[01m\u001b[K/usr/local/lib/python3.10/dist-packages/numpy/core/include/numpy/npy_1_7_deprecated_api.h:17:2:\u001b[m\u001b[K \u001b[01;35m\u001b[Kwarning: \u001b[m\u001b[K#warning \"Using deprecated NumPy API, disable it with \" \"#define NPY_NO_DEPRECATED_API NPY_1_7_API_VERSION\" [\u001b[01;35m\u001b[K\u001b]8;;https://gcc.gnu.org/onlinedocs/gcc/Warning-Options.html#index-Wcpp\u0007-Wcpp\u001b]8;;\u0007\u001b[m\u001b[K]\r\n",
      "   17 | #\u001b[01;35m\u001b[Kwarning\u001b[m\u001b[K \"Using deprecated NumPy API, disable it with \" \\\r\n",
      "      |  \u001b[01;35m\u001b[K^~~~~~~\u001b[m\u001b[K\r\n",
      "\u001b[01m\u001b[KDataIterator.c:\u001b[m\u001b[K In function ‘\u001b[01m\u001b[K__pyx_pf_12DataIterator_19InteractionIterator_6__next__\u001b[m\u001b[K’:\r\n",
      "\u001b[01m\u001b[KDataIterator.c:20937:22:\u001b[m\u001b[K \u001b[01;35m\u001b[Kwarning: \u001b[m\u001b[K‘\u001b[01m\u001b[K__pyx_v_i_batch\u001b[m\u001b[K’ may be used uninitialized in this function [\u001b[01;35m\u001b[K\u001b]8;;https://gcc.gnu.org/onlinedocs/gcc/Warning-Options.html#index-Wmaybe-uninitialized\u0007-Wmaybe-uninitialized\u001b]8;;\u0007\u001b[m\u001b[K]\r\n",
      "20937 |     (__pyx_v_i_batch \u001b[01;35m\u001b[K+\u001b[m\u001b[K 1),\r\n",
      "      |                      \u001b[01;35m\u001b[K^\u001b[m\u001b[K\r\n",
      "\u001b[01m\u001b[KDataIterator.c:\u001b[m\u001b[K In function ‘\u001b[01m\u001b[K__pyx_pf_12DataIterator_30InteractionAndNegativeIterator_6__next__\u001b[m\u001b[K’:\r\n",
      "\u001b[01m\u001b[KDataIterator.c:25499:22:\u001b[m\u001b[K \u001b[01;35m\u001b[Kwarning: \u001b[m\u001b[K‘\u001b[01m\u001b[K__pyx_v_i_batch\u001b[m\u001b[K’ may be used uninitialized in this function [\u001b[01;35m\u001b[K\u001b]8;;https://gcc.gnu.org/onlinedocs/gcc/Warning-Options.html#index-Wmaybe-uninitialized\u0007-Wmaybe-uninitialized\u001b]8;;\u0007\u001b[m\u001b[K]\r\n",
      "25499 |     (__pyx_v_i_batch \u001b[01;35m\u001b[K+\u001b[m\u001b[K 1),\r\n",
      "      |                      \u001b[01;35m\u001b[K^\u001b[m\u001b[K\r\n",
      "\u001b[01m\u001b[KDataIterator.c:\u001b[m\u001b[K In function ‘\u001b[01m\u001b[K__pyx_pf_12DataIterator_11BPRIterator_6__next__\u001b[m\u001b[K’:\r\n",
      "\u001b[01m\u001b[KDataIterator.c:23056:22:\u001b[m\u001b[K \u001b[01;35m\u001b[Kwarning: \u001b[m\u001b[K‘\u001b[01m\u001b[K__pyx_v_i_batch\u001b[m\u001b[K’ may be used uninitialized in this function [\u001b[01;35m\u001b[K\u001b]8;;https://gcc.gnu.org/onlinedocs/gcc/Warning-Options.html#index-Wmaybe-uninitialized\u0007-Wmaybe-uninitialized\u001b]8;;\u0007\u001b[m\u001b[K]\r\n",
      "23056 |     (__pyx_v_i_batch \u001b[01;35m\u001b[K+\u001b[m\u001b[K 1),\r\n",
      "      |                      \u001b[01;35m\u001b[K^\u001b[m\u001b[K\r\n",
      "/usr/local/lib/python3.10/dist-packages/Cython/Compiler/Main.py:381: FutureWarning: Cython directive 'language_level' not set, using '3str' for now (Py3). This has changed from earlier releases! File: /kaggle/working/RECsys_Challenge2024/Utils/PyTorch/Cython/DataIterator.pyx\r\n",
      "  tree = Parsing.p_module(s, pxd, full_module_name)\r\n",
      "Compiling [11/11]: DataIterator.pyx... PASS\r\n",
      "\r\n",
      "run_compile_all_cython: Compilation finished. FAILS 2/11.\r\n",
      "Compilation log can be found here: './result_experiments/run_compile_all_cython.txt'\r\n"
     ]
    }
   ],
   "source": [
    "%cd /kaggle/working/RECsys_Challenge2024\n",
    "! python run_compile_all_cython.py"
   ]
  },
  {
   "cell_type": "code",
   "execution_count": 5,
   "id": "92c74fd7",
   "metadata": {
    "execution": {
     "iopub.execute_input": "2024-12-31T01:38:15.408654Z",
     "iopub.status.busy": "2024-12-31T01:38:15.408152Z",
     "iopub.status.idle": "2024-12-31T01:38:16.928832Z",
     "shell.execute_reply": "2024-12-31T01:38:16.927666Z"
    },
    "papermill": {
     "duration": 1.538621,
     "end_time": "2024-12-31T01:38:16.930790",
     "exception": false,
     "start_time": "2024-12-31T01:38:15.392169",
     "status": "completed"
    },
    "tags": []
   },
   "outputs": [],
   "source": [
    "from Utils.notebookFunctions import *\n",
    "import numpy as np\n",
    "import pandas as pd\n",
    "import scipy.sparse as sps\n",
    "import time\n",
    "import shutil\n",
    "import optuna\n",
    "import json\n",
    "import os\n",
    "from Utils.seconds_to_biggest_unit import seconds_to_biggest_unit\n",
    "\n",
    "\n",
    "K_PATH = '/kaggle/working/RECsys_Challenge2024'\n",
    "GH_PATH = 'TrainedModels/WithoutKFCV'\n",
    "D_PATH = 'Hybrid/LinearCombination'\n",
    "\n",
    "np.random.seed(42)"
   ]
  },
  {
   "cell_type": "markdown",
   "id": "946aa6ee",
   "metadata": {
    "papermill": {
     "duration": 0.0144,
     "end_time": "2024-12-31T01:38:16.960900",
     "exception": false,
     "start_time": "2024-12-31T01:38:16.946500",
     "status": "completed"
    },
    "tags": []
   },
   "source": [
    "## Import the repository"
   ]
  },
  {
   "cell_type": "code",
   "execution_count": 6,
   "id": "bbc31af3",
   "metadata": {
    "execution": {
     "iopub.execute_input": "2024-12-31T01:38:16.991723Z",
     "iopub.status.busy": "2024-12-31T01:38:16.991051Z",
     "iopub.status.idle": "2024-12-31T01:38:17.271814Z",
     "shell.execute_reply": "2024-12-31T01:38:17.270376Z"
    },
    "papermill": {
     "duration": 0.298266,
     "end_time": "2024-12-31T01:38:17.273734",
     "exception": false,
     "start_time": "2024-12-31T01:38:16.975468",
     "status": "completed"
    },
    "tags": []
   },
   "outputs": [
    {
     "name": "stdout",
     "output_type": "stream",
     "text": [
      "Repository 'RECsys_Challenge2024' found.\n"
     ]
    }
   ],
   "source": [
    "repo = get_repo_from_github(token)"
   ]
  },
  {
   "cell_type": "code",
   "execution_count": 7,
   "id": "f4b02703",
   "metadata": {
    "execution": {
     "iopub.execute_input": "2024-12-31T01:38:17.305776Z",
     "iopub.status.busy": "2024-12-31T01:38:17.305291Z",
     "iopub.status.idle": "2024-12-31T01:38:17.310514Z",
     "shell.execute_reply": "2024-12-31T01:38:17.309268Z"
    },
    "papermill": {
     "duration": 0.023669,
     "end_time": "2024-12-31T01:38:17.312651",
     "exception": false,
     "start_time": "2024-12-31T01:38:17.288982",
     "status": "completed"
    },
    "tags": []
   },
   "outputs": [],
   "source": [
    "config = {\n",
    "    'model': 'SecondLinearCombination_Recall',\n",
    "    'metric': 'Recall',\n",
    "    'tune_parameters': True,\n",
    "    'database_path': '/kaggle/working/history_SecondLinearCombination_Recall.db',\n",
    "    'copy_prev_best_params': False,\n",
    "    'tune_best_params': True,\n",
    "    'save_github': True\n",
    "}"
   ]
  },
  {
   "cell_type": "markdown",
   "id": "18cd0df7",
   "metadata": {
    "papermill": {
     "duration": 0.014522,
     "end_time": "2024-12-31T01:38:17.342075",
     "exception": false,
     "start_time": "2024-12-31T01:38:17.327553",
     "status": "completed"
    },
    "tags": []
   },
   "source": [
    "Import the database where previous tuning trials have been saved."
   ]
  },
  {
   "cell_type": "code",
   "execution_count": 8,
   "id": "66750015",
   "metadata": {
    "execution": {
     "iopub.execute_input": "2024-12-31T01:38:17.373703Z",
     "iopub.status.busy": "2024-12-31T01:38:17.373251Z",
     "iopub.status.idle": "2024-12-31T01:38:17.379253Z",
     "shell.execute_reply": "2024-12-31T01:38:17.378121Z"
    },
    "papermill": {
     "duration": 0.024181,
     "end_time": "2024-12-31T01:38:17.381229",
     "exception": false,
     "start_time": "2024-12-31T01:38:17.357048",
     "status": "completed"
    },
    "tags": []
   },
   "outputs": [],
   "source": [
    "try:\n",
    "    shutil.copyfile(\n",
    "        f'{K_PATH}/{GH_PATH}/{D_PATH}/{config[\"model\"]}Recommender/Optimizing{config[\"metric\"]}/history_{config[\"model\"]}_{config[\"metric\"]}.db', \n",
    "        config['database_path']\n",
    "    )\n",
    "except FileNotFoundError:\n",
    "    pass # if not present optuna will create it"
   ]
  },
  {
   "cell_type": "markdown",
   "id": "0ffe15a4",
   "metadata": {
    "papermill": {
     "duration": 0.015211,
     "end_time": "2024-12-31T01:38:17.412343",
     "exception": false,
     "start_time": "2024-12-31T01:38:17.397132",
     "status": "completed"
    },
    "tags": []
   },
   "source": [
    "# Construction of URM and ICM matrices"
   ]
  },
  {
   "cell_type": "code",
   "execution_count": 9,
   "id": "160f15f2",
   "metadata": {
    "execution": {
     "iopub.execute_input": "2024-12-31T01:38:17.445127Z",
     "iopub.status.busy": "2024-12-31T01:38:17.444677Z",
     "iopub.status.idle": "2024-12-31T01:38:18.297290Z",
     "shell.execute_reply": "2024-12-31T01:38:18.296341Z"
    },
    "papermill": {
     "duration": 0.871007,
     "end_time": "2024-12-31T01:38:18.299040",
     "exception": false,
     "start_time": "2024-12-31T01:38:17.428033",
     "status": "completed"
    },
    "tags": []
   },
   "outputs": [
    {
     "data": {
      "text/plain": [
       "<35736x38121 sparse matrix of type '<class 'numpy.float64'>'\n",
       "\twith 1764607 stored elements in Compressed Sparse Row format>"
      ]
     },
     "execution_count": 9,
     "metadata": {},
     "output_type": "execute_result"
    }
   ],
   "source": [
    "URM_all_dataframe = pd.read_csv(\"/kaggle/input/recommender-system-2024-challenge-polimi/data_train.csv\")\n",
    "\n",
    "n_users = len(URM_all_dataframe[\"user_id\"].unique())\n",
    "n_items = len(URM_all_dataframe[\"item_id\"].unique())\n",
    "\n",
    "URM_all = sps.csr_matrix((URM_all_dataframe[\"data\"].values, \n",
    "                          (URM_all_dataframe[\"user_id\"].values, URM_all_dataframe[\"item_id\"].values)),\n",
    "                        shape = (n_users, n_items))\n",
    "\n",
    "URM_all"
   ]
  },
  {
   "cell_type": "code",
   "execution_count": 10,
   "id": "41c31f2a",
   "metadata": {
    "execution": {
     "iopub.execute_input": "2024-12-31T01:38:18.331250Z",
     "iopub.status.busy": "2024-12-31T01:38:18.330853Z",
     "iopub.status.idle": "2024-12-31T01:38:19.559185Z",
     "shell.execute_reply": "2024-12-31T01:38:19.558184Z"
    },
    "papermill": {
     "duration": 1.246329,
     "end_time": "2024-12-31T01:38:19.560870",
     "exception": false,
     "start_time": "2024-12-31T01:38:18.314541",
     "status": "completed"
    },
    "tags": []
   },
   "outputs": [
    {
     "data": {
      "text/plain": [
       "<38121x94331 sparse matrix of type '<class 'numpy.float64'>'\n",
       "\twith 2940040 stored elements in Compressed Sparse Row format>"
      ]
     },
     "execution_count": 10,
     "metadata": {},
     "output_type": "execute_result"
    }
   ],
   "source": [
    "ICM_dataframe = pd.read_csv(\"/kaggle/input/recommender-system-2024-challenge-polimi/data_ICM_metadata.csv\")\n",
    "\n",
    "n_items = len(ICM_dataframe[\"item_id\"].unique())\n",
    "n_features = len(ICM_dataframe[\"feature_id\"].unique())\n",
    "\n",
    "ICM_all = sps.csr_matrix((ICM_dataframe[\"data\"].values, \n",
    "                          (ICM_dataframe[\"item_id\"].values, ICM_dataframe[\"feature_id\"].values)),\n",
    "                        shape = (n_items, n_features))\n",
    "\n",
    "ICM_all"
   ]
  },
  {
   "cell_type": "markdown",
   "id": "10f1347e",
   "metadata": {
    "papermill": {
     "duration": 0.015399,
     "end_time": "2024-12-31T01:38:19.592078",
     "exception": false,
     "start_time": "2024-12-31T01:38:19.576679",
     "status": "completed"
    },
    "tags": []
   },
   "source": [
    "# Training"
   ]
  },
  {
   "cell_type": "code",
   "execution_count": 11,
   "id": "4d121524",
   "metadata": {
    "execution": {
     "iopub.execute_input": "2024-12-31T01:38:19.624721Z",
     "iopub.status.busy": "2024-12-31T01:38:19.624325Z",
     "iopub.status.idle": "2024-12-31T01:38:22.710240Z",
     "shell.execute_reply": "2024-12-31T01:38:22.708873Z"
    },
    "papermill": {
     "duration": 3.104362,
     "end_time": "2024-12-31T01:38:22.712050",
     "exception": false,
     "start_time": "2024-12-31T01:38:19.607688",
     "status": "completed"
    },
    "tags": []
   },
   "outputs": [
    {
     "name": "stdout",
     "output_type": "stream",
     "text": [
      "Warning: 141 (0.39 %) of 35736 users have no sampled items\n",
      "EvaluatorHoldout: Ignoring 141 ( 0.4%) Users that have less than 1 test interactions\n"
     ]
    }
   ],
   "source": [
    "from Evaluation.Evaluator import EvaluatorHoldout\n",
    "from Data_manager.split_functions.split_train_validation_random_holdout import split_train_in_two_percentage_global_sample\n",
    "\n",
    "URM_train, URM_validation = split_train_in_two_percentage_global_sample(URM_all, train_percentage = 0.80)\n",
    "\n",
    "evaluator_validation = EvaluatorHoldout(URM_validation, cutoff_list=[50])"
   ]
  },
  {
   "cell_type": "markdown",
   "id": "40c31bf8",
   "metadata": {
    "papermill": {
     "duration": 0.014819,
     "end_time": "2024-12-31T01:38:22.742181",
     "exception": false,
     "start_time": "2024-12-31T01:38:22.727362",
     "status": "completed"
    },
    "tags": []
   },
   "source": [
    "## Import the best recommeders previously trained."
   ]
  },
  {
   "cell_type": "code",
   "execution_count": 12,
   "id": "29c28dab",
   "metadata": {
    "execution": {
     "iopub.execute_input": "2024-12-31T01:38:22.774342Z",
     "iopub.status.busy": "2024-12-31T01:38:22.773905Z",
     "iopub.status.idle": "2024-12-31T02:38:42.758408Z",
     "shell.execute_reply": "2024-12-31T02:38:42.757393Z"
    },
    "papermill": {
     "duration": 3620.002878,
     "end_time": "2024-12-31T02:38:42.760146",
     "exception": false,
     "start_time": "2024-12-31T01:38:22.757268",
     "status": "completed"
    },
    "tags": []
   },
   "outputs": [
    {
     "name": "stdout",
     "output_type": "stream",
     "text": [
      "ItemKNNCF Model - TRAINING with its best parameters.\n",
      "Similarity column 38121 (100.0%), 2703.71 column/sec. Elapsed time 14.10 sec\n",
      "Training done in 14.608015sec.\n",
      "\n",
      "SLIMElasticNet Model - TRAINING with its best parameters.\n",
      "SLIMElasticNetRecommender: Processed 3109 ( 8.2%) in 5.00 min. Items per second: 10.36\n",
      "SLIMElasticNetRecommender: Processed 6112 (16.0%) in 10.00 min. Items per second: 10.18\n",
      "SLIMElasticNetRecommender: Processed 9332 (24.5%) in 15.00 min. Items per second: 10.37\n",
      "SLIMElasticNetRecommender: Processed 12535 (32.9%) in 20.00 min. Items per second: 10.44\n",
      "SLIMElasticNetRecommender: Processed 15709 (41.2%) in 25.00 min. Items per second: 10.47\n",
      "SLIMElasticNetRecommender: Processed 18841 (49.4%) in 30.00 min. Items per second: 10.46\n",
      "SLIMElasticNetRecommender: Processed 22073 (57.9%) in 35.01 min. Items per second: 10.51\n",
      "SLIMElasticNetRecommender: Processed 25276 (66.3%) in 40.01 min. Items per second: 10.53\n",
      "SLIMElasticNetRecommender: Processed 28531 (74.8%) in 45.01 min. Items per second: 10.56\n",
      "SLIMElasticNetRecommender: Processed 31765 (83.3%) in 50.01 min. Items per second: 10.59\n",
      "SLIMElasticNetRecommender: Processed 35117 (92.1%) in 55.01 min. Items per second: 10.64\n",
      "SLIMElasticNetRecommender: Processed 38121 (100.0%) in 59.66 min. Items per second: 10.65\n",
      "Training done in 59.661393min.\n",
      "\n",
      "RP3beta Model - TRAINING with its best parameters.\n",
      "RP3betaRecommender: Similarity column 38121 (100.0%), 1813.54 column/sec. Elapsed time 21.02 sec\n",
      "Training done in 24.220606sec.\n",
      "\n"
     ]
    }
   ],
   "source": [
    "from Recommenders.KNN.ItemKNNCFRecommender import ItemKNNCFRecommender\n",
    "from Recommenders.SLIM.SLIMElasticNetRecommender import SLIMElasticNetRecommender\n",
    "from Recommenders.GraphBased.RP3betaRecommender import RP3betaRecommender\n",
    "\n",
    "recommenders = {\n",
    "    \"ItemKNNCF\": ItemKNNCFRecommender,\n",
    "    \"SLIMElasticNet\": SLIMElasticNetRecommender,\n",
    "    \"RP3beta\": RP3betaRecommender\n",
    "}\n",
    "\n",
    "paths_to_best_params = {\n",
    "    \"ItemKNNCF\": \"KNN\",\n",
    "    \"SLIMElasticNet\": \"SLIM\",\n",
    "    \"RP3beta\": \"GraphBased\"\n",
    "}\n",
    "\n",
    "\n",
    "loaded_recommenders = {}\n",
    "\n",
    "for recommender_name, recommender_class in recommenders.items():\n",
    "    \n",
    "    start_time = time.time()\n",
    "    \n",
    "    print(f\"{recommender_name} Model - TRAINING with its best parameters.\")\n",
    "    try:\n",
    "        recommender = recommender_class(URM_train)\n",
    "    except Exception as e:\n",
    "        recommender = recommender_class(URM_train, ICM_all)\n",
    "\n",
    "    # Extract best parameter values of the relative recommender model.\n",
    "    with open(f'{GH_PATH}/{paths_to_best_params[recommender_name]}/{recommender_name}Recommender/Optimizing{config[\"metric\"]}/best_params_{recommender_name}_{config[\"metric\"]}.json', 'r') as best_params_json:\n",
    "            best_params = json.load(best_params_json)\n",
    "    \n",
    "    recommender.fit(**best_params)\n",
    "    \n",
    "    loaded_recommenders[recommender_name] = recommender\n",
    "    \n",
    "    new_time_value, new_time_unit = seconds_to_biggest_unit(time.time() - start_time)\n",
    "    print(\"Training done in {:2f}{}.\\n\".format(new_time_value, new_time_unit))"
   ]
  },
  {
   "cell_type": "code",
   "execution_count": 13,
   "id": "517b30c1",
   "metadata": {
    "execution": {
     "iopub.execute_input": "2024-12-31T02:38:42.794805Z",
     "iopub.status.busy": "2024-12-31T02:38:42.794230Z",
     "iopub.status.idle": "2024-12-31T02:38:42.803204Z",
     "shell.execute_reply": "2024-12-31T02:38:42.802163Z"
    },
    "papermill": {
     "duration": 0.028168,
     "end_time": "2024-12-31T02:38:42.804885",
     "exception": false,
     "start_time": "2024-12-31T02:38:42.776717",
     "status": "completed"
    },
    "tags": []
   },
   "outputs": [],
   "source": [
    "from Recommenders.Hybrid.LinearCombinationRecommender import LinearCombinationRecommender \n",
    "\n",
    "def objective_function_(optuna_trial):\n",
    "    \n",
    "    recommender_instance = LinearCombinationRecommender(URM_train, loaded_recommenders.values())\n",
    "    \n",
    "    norm = optuna_trial.suggest_categorical('norm', [1, 2, np.inf, -np.inf])\n",
    "    itemknn_weight = optuna_trial.suggest_float('itemknn_weight', 0.0, 1.0)\n",
    "    slim_weight = optuna_trial.suggest_float('slim_weight', 0.0, 1.0)\n",
    "    rp3beta_weight = optuna_trial.suggest_float('rp3beta_weight', 0.0, 1.0)\n",
    "\n",
    "    # Ensure the weights sum to 1 (Normalization)\n",
    "    total_weight = itemknn_weight + slim_weight + rp3beta_weight\n",
    "    itemknn_weight /= total_weight\n",
    "    slim_weight /= total_weight\n",
    "    rp3beta_weight /= total_weight\n",
    "    \n",
    "    full_hyperp = {\n",
    "                    \"weights\": [itemknn_weight, slim_weight,rp3beta_weight],\n",
    "                    \"norm\": norm\n",
    "                  }        \n",
    "    \n",
    "    recommender_instance.fit(**full_hyperp)\n",
    "    \n",
    "    result_df, _ = evaluator_validation.evaluateRecommender(recommender_instance)\n",
    "    \n",
    "    return result_df.loc[50][\"RECALL\"]"
   ]
  },
  {
   "cell_type": "code",
   "execution_count": 14,
   "id": "bbc4a027",
   "metadata": {
    "_kg_hide-output": true,
    "execution": {
     "iopub.execute_input": "2024-12-31T02:38:42.900412Z",
     "iopub.status.busy": "2024-12-31T02:38:42.900088Z",
     "iopub.status.idle": "2024-12-31T05:52:22.363496Z",
     "shell.execute_reply": "2024-12-31T05:52:22.362529Z"
    },
    "papermill": {
     "duration": 11619.482284,
     "end_time": "2024-12-31T05:52:22.365195",
     "exception": false,
     "start_time": "2024-12-31T02:38:42.882911",
     "status": "completed"
    },
    "tags": []
   },
   "outputs": [
    {
     "name": "stderr",
     "output_type": "stream",
     "text": [
      "[I 2024-12-31 02:38:43,885] Using an existing study with name 'hyperparameters_tuning_SecondLinearCombination_Recall_Recall' instead of creating a new one.\n"
     ]
    },
    {
     "name": "stdout",
     "output_type": "stream",
     "text": [
      "LinearCombinationRecommender: Fit completed in 0.00 seconds.\n",
      "EvaluatorHoldout: Processed 35595 (100.0%) in 1.84 min. Users per second: 322\n"
     ]
    },
    {
     "name": "stderr",
     "output_type": "stream",
     "text": [
      "[I 2024-12-31 02:40:34,729] Trial 50 finished with value: 0.2864708527359306 and parameters: {'norm': 2, 'itemknn_weight': 0.24525868146450577, 'slim_weight': 0.877901273646617, 'rp3beta_weight': 0.9583437054878754}. Best is trial 35 with value: 0.28721344892443607.\n"
     ]
    },
    {
     "name": "stdout",
     "output_type": "stream",
     "text": [
      "LinearCombinationRecommender: Fit completed in 0.00 seconds.\n",
      "EvaluatorHoldout: Processed 35595 (100.0%) in 1.85 min. Users per second: 320\n"
     ]
    },
    {
     "name": "stderr",
     "output_type": "stream",
     "text": [
      "[I 2024-12-31 02:42:26,137] Trial 51 finished with value: 0.28700212243553147 and parameters: {'norm': 2, 'itemknn_weight': 0.18585131365688107, 'slim_weight': 0.9400289999711476, 'rp3beta_weight': 0.7033575669293866}. Best is trial 35 with value: 0.28721344892443607.\n"
     ]
    },
    {
     "name": "stdout",
     "output_type": "stream",
     "text": [
      "LinearCombinationRecommender: Fit completed in 0.00 seconds.\n",
      "EvaluatorHoldout: Processed 35595 (100.0%) in 1.86 min. Users per second: 319\n"
     ]
    },
    {
     "name": "stderr",
     "output_type": "stream",
     "text": [
      "[I 2024-12-31 02:44:17,999] Trial 52 finished with value: 0.2871834896167217 and parameters: {'norm': 2, 'itemknn_weight': 0.19040975299462978, 'slim_weight': 0.9416073769976815, 'rp3beta_weight': 0.650086876597801}. Best is trial 35 with value: 0.28721344892443607.\n"
     ]
    },
    {
     "name": "stdout",
     "output_type": "stream",
     "text": [
      "LinearCombinationRecommender: Fit completed in 0.00 seconds.\n",
      "EvaluatorHoldout: Processed 35595 (100.0%) in 1.88 min. Users per second: 315\n"
     ]
    },
    {
     "name": "stderr",
     "output_type": "stream",
     "text": [
      "[I 2024-12-31 02:46:11,200] Trial 53 finished with value: 0.2870732400357829 and parameters: {'norm': 2, 'itemknn_weight': 0.11276081367086713, 'slim_weight': 0.9987345779268203, 'rp3beta_weight': 0.6370737717155706}. Best is trial 35 with value: 0.28721344892443607.\n"
     ]
    },
    {
     "name": "stdout",
     "output_type": "stream",
     "text": [
      "LinearCombinationRecommender: Fit completed in 0.00 seconds.\n",
      "EvaluatorHoldout: Processed 35595 (100.0%) in 1.87 min. Users per second: 316\n"
     ]
    },
    {
     "name": "stderr",
     "output_type": "stream",
     "text": [
      "[I 2024-12-31 02:48:03,950] Trial 54 finished with value: 0.2860139123917898 and parameters: {'norm': 2, 'itemknn_weight': 0.2929492923622396, 'slim_weight': 0.8424364644044762, 'rp3beta_weight': 0.7521579954688431}. Best is trial 35 with value: 0.28721344892443607.\n"
     ]
    },
    {
     "name": "stdout",
     "output_type": "stream",
     "text": [
      "LinearCombinationRecommender: Fit completed in 0.00 seconds.\n",
      "EvaluatorHoldout: Processed 35595 (100.0%) in 1.85 min. Users per second: 320\n"
     ]
    },
    {
     "name": "stderr",
     "output_type": "stream",
     "text": [
      "[I 2024-12-31 02:49:55,321] Trial 55 finished with value: 0.2867882844531252 and parameters: {'norm': 2, 'itemknn_weight': 0.21570405607485527, 'slim_weight': 0.8228310538509842, 'rp3beta_weight': 0.6131335615669236}. Best is trial 35 with value: 0.28721344892443607.\n"
     ]
    },
    {
     "name": "stdout",
     "output_type": "stream",
     "text": [
      "LinearCombinationRecommender: Fit completed in 0.00 seconds.\n",
      "EvaluatorHoldout: Processed 35595 (100.0%) in 1.86 min. Users per second: 320\n"
     ]
    },
    {
     "name": "stderr",
     "output_type": "stream",
     "text": [
      "[I 2024-12-31 02:51:46,867] Trial 56 finished with value: 0.287040551712494 and parameters: {'norm': 2, 'itemknn_weight': 0.1563434843846938, 'slim_weight': 0.8868732962739493, 'rp3beta_weight': 0.6648906090712527}. Best is trial 35 with value: 0.28721344892443607.\n"
     ]
    },
    {
     "name": "stdout",
     "output_type": "stream",
     "text": [
      "LinearCombinationRecommender: Fit completed in 0.00 seconds.\n",
      "EvaluatorHoldout: Processed 35595 (100.0%) in 1.87 min. Users per second: 317\n"
     ]
    },
    {
     "name": "stderr",
     "output_type": "stream",
     "text": [
      "[I 2024-12-31 02:53:39,379] Trial 57 finished with value: 0.286789361609891 and parameters: {'norm': 2, 'itemknn_weight': 0.05072767236372058, 'slim_weight': 0.9313756573450477, 'rp3beta_weight': 0.8760462144392593}. Best is trial 35 with value: 0.28721344892443607.\n"
     ]
    },
    {
     "name": "stdout",
     "output_type": "stream",
     "text": [
      "LinearCombinationRecommender: Fit completed in 0.00 seconds.\n",
      "EvaluatorHoldout: Processed 35595 (100.0%) in 1.85 min. Users per second: 321\n"
     ]
    },
    {
     "name": "stderr",
     "output_type": "stream",
     "text": [
      "[I 2024-12-31 02:55:30,465] Trial 58 finished with value: 0.28246732168048116 and parameters: {'norm': 2, 'itemknn_weight': 0.9614097625884614, 'slim_weight': 0.9696710266362693, 'rp3beta_weight': 0.7878218805597925}. Best is trial 35 with value: 0.28721344892443607.\n"
     ]
    },
    {
     "name": "stdout",
     "output_type": "stream",
     "text": [
      "LinearCombinationRecommender: Fit completed in 0.00 seconds.\n",
      "EvaluatorHoldout: Processed 35595 (100.0%) in 1.87 min. Users per second: 318\n"
     ]
    },
    {
     "name": "stderr",
     "output_type": "stream",
     "text": [
      "[I 2024-12-31 02:57:22,765] Trial 59 finished with value: 0.2857817569327104 and parameters: {'norm': 1, 'itemknn_weight': 0.1150618574816117, 'slim_weight': 0.7628982718529221, 'rp3beta_weight': 0.7266425199482509}. Best is trial 35 with value: 0.28721344892443607.\n"
     ]
    },
    {
     "name": "stdout",
     "output_type": "stream",
     "text": [
      "LinearCombinationRecommender: Fit completed in 0.00 seconds.\n",
      "EvaluatorHoldout: Processed 35595 (100.0%) in 1.85 min. Users per second: 321\n"
     ]
    },
    {
     "name": "stderr",
     "output_type": "stream",
     "text": [
      "[I 2024-12-31 02:59:13,849] Trial 60 finished with value: 0.28671092443571583 and parameters: {'norm': inf, 'itemknn_weight': 0.23119364801848788, 'slim_weight': 0.998898892055841, 'rp3beta_weight': 0.6629099966509776}. Best is trial 35 with value: 0.28721344892443607.\n"
     ]
    },
    {
     "name": "stdout",
     "output_type": "stream",
     "text": [
      "LinearCombinationRecommender: Fit completed in 0.00 seconds.\n",
      "EvaluatorHoldout: Processed 35595 (100.0%) in 1.89 min. Users per second: 314\n"
     ]
    },
    {
     "name": "stderr",
     "output_type": "stream",
     "text": [
      "[I 2024-12-31 03:01:07,414] Trial 61 finished with value: 0.28704319843770304 and parameters: {'norm': 2, 'itemknn_weight': 0.11658327122393222, 'slim_weight': 0.9884061430246084, 'rp3beta_weight': 0.6369769310812363}. Best is trial 35 with value: 0.28721344892443607.\n"
     ]
    },
    {
     "name": "stdout",
     "output_type": "stream",
     "text": [
      "LinearCombinationRecommender: Fit completed in 0.00 seconds.\n",
      "EvaluatorHoldout: Processed 35595 (100.0%) in 1.89 min. Users per second: 314\n"
     ]
    },
    {
     "name": "stderr",
     "output_type": "stream",
     "text": [
      "[I 2024-12-31 03:03:00,918] Trial 62 finished with value: 0.2869361865579304 and parameters: {'norm': 2, 'itemknn_weight': 0.17185612537603379, 'slim_weight': 0.9209185196357998, 'rp3beta_weight': 0.5099039208768752}. Best is trial 35 with value: 0.28721344892443607.\n"
     ]
    },
    {
     "name": "stdout",
     "output_type": "stream",
     "text": [
      "LinearCombinationRecommender: Fit completed in 0.00 seconds.\n",
      "EvaluatorHoldout: Processed 35595 (100.0%) in 1.91 min. Users per second: 310\n"
     ]
    },
    {
     "name": "stderr",
     "output_type": "stream",
     "text": [
      "[I 2024-12-31 03:04:55,921] Trial 63 finished with value: 0.2870111921314195 and parameters: {'norm': 2, 'itemknn_weight': 0.09525749535270063, 'slim_weight': 0.8754767774973222, 'rp3beta_weight': 0.541088258326746}. Best is trial 35 with value: 0.28721344892443607.\n"
     ]
    },
    {
     "name": "stdout",
     "output_type": "stream",
     "text": [
      "LinearCombinationRecommender: Fit completed in 0.00 seconds.\n",
      "EvaluatorHoldout: Processed 35595 (100.0%) in 1.89 min. Users per second: 313\n"
     ]
    },
    {
     "name": "stderr",
     "output_type": "stream",
     "text": [
      "[I 2024-12-31 03:06:49,771] Trial 64 finished with value: 0.2871218236211875 and parameters: {'norm': 2, 'itemknn_weight': 0.14520234623925318, 'slim_weight': 0.9591867446435961, 'rp3beta_weight': 0.6065200693514552}. Best is trial 35 with value: 0.28721344892443607.\n"
     ]
    },
    {
     "name": "stdout",
     "output_type": "stream",
     "text": [
      "LinearCombinationRecommender: Fit completed in 0.00 seconds.\n",
      "EvaluatorHoldout: Processed 35595 (100.0%) in 1.87 min. Users per second: 317\n"
     ]
    },
    {
     "name": "stderr",
     "output_type": "stream",
     "text": [
      "[I 2024-12-31 03:08:42,319] Trial 65 finished with value: 0.2871657404578732 and parameters: {'norm': 2, 'itemknn_weight': 0.04905921465565692, 'slim_weight': 0.9148293544145684, 'rp3beta_weight': 0.5953335410972277}. Best is trial 35 with value: 0.28721344892443607.\n"
     ]
    },
    {
     "name": "stdout",
     "output_type": "stream",
     "text": [
      "LinearCombinationRecommender: Fit completed in 0.00 seconds.\n",
      "EvaluatorHoldout: Processed 35595 (100.0%) in 1.84 min. Users per second: 322\n"
     ]
    },
    {
     "name": "stderr",
     "output_type": "stream",
     "text": [
      "[I 2024-12-31 03:10:33,188] Trial 66 finished with value: 0.2869611101621252 and parameters: {'norm': 2, 'itemknn_weight': 0.052528260456187206, 'slim_weight': 0.813706012310291, 'rp3beta_weight': 0.47921345820720657}. Best is trial 35 with value: 0.28721344892443607.\n"
     ]
    },
    {
     "name": "stdout",
     "output_type": "stream",
     "text": [
      "LinearCombinationRecommender: Fit completed in 0.00 seconds.\n",
      "EvaluatorHoldout: Processed 35595 (100.0%) in 1.89 min. Users per second: 313\n"
     ]
    },
    {
     "name": "stderr",
     "output_type": "stream",
     "text": [
      "[I 2024-12-31 03:12:27,012] Trial 67 finished with value: 0.2871534670910183 and parameters: {'norm': 2, 'itemknn_weight': 0.03606217227071992, 'slim_weight': 0.904909414591318, 'rp3beta_weight': 0.6005660073277428}. Best is trial 35 with value: 0.28721344892443607.\n"
     ]
    },
    {
     "name": "stdout",
     "output_type": "stream",
     "text": [
      "LinearCombinationRecommender: Fit completed in 0.00 seconds.\n",
      "EvaluatorHoldout: Processed 35595 (100.0%) in 1.90 min. Users per second: 312\n"
     ]
    },
    {
     "name": "stderr",
     "output_type": "stream",
     "text": [
      "[I 2024-12-31 03:14:21,201] Trial 68 finished with value: 0.2869069974061555 and parameters: {'norm': 1, 'itemknn_weight': 0.03771647677425341, 'slim_weight': 0.9018340354362054, 'rp3beta_weight': 0.533864271088222}. Best is trial 35 with value: 0.28721344892443607.\n"
     ]
    },
    {
     "name": "stdout",
     "output_type": "stream",
     "text": [
      "LinearCombinationRecommender: Fit completed in 0.00 seconds.\n",
      "EvaluatorHoldout: Processed 35595 (100.0%) in 1.84 min. Users per second: 322\n"
     ]
    },
    {
     "name": "stderr",
     "output_type": "stream",
     "text": [
      "[I 2024-12-31 03:16:11,947] Trial 69 finished with value: 0.2866300096176104 and parameters: {'norm': inf, 'itemknn_weight': 0.19823496934707205, 'slim_weight': 0.8225004028376544, 'rp3beta_weight': 0.5935374362989991}. Best is trial 35 with value: 0.28721344892443607.\n"
     ]
    },
    {
     "name": "stdout",
     "output_type": "stream",
     "text": [
      "LinearCombinationRecommender: Fit completed in 0.00 seconds.\n",
      "EvaluatorHoldout: Processed 35595 (100.0%) in 1.86 min. Users per second: 320\n"
     ]
    },
    {
     "name": "stderr",
     "output_type": "stream",
     "text": [
      "[I 2024-12-31 03:18:03,485] Trial 70 finished with value: 0.2855994622589946 and parameters: {'norm': 2, 'itemknn_weight': 0.3501730655594489, 'slim_weight': 0.7213684444288846, 'rp3beta_weight': 0.7424107043007488}. Best is trial 35 with value: 0.28721344892443607.\n"
     ]
    },
    {
     "name": "stdout",
     "output_type": "stream",
     "text": [
      "LinearCombinationRecommender: Fit completed in 0.00 seconds.\n",
      "EvaluatorHoldout: Processed 35595 (100.0%) in 1.90 min. Users per second: 312\n"
     ]
    },
    {
     "name": "stderr",
     "output_type": "stream",
     "text": [
      "[I 2024-12-31 03:19:57,858] Trial 71 finished with value: 0.2871944052149148 and parameters: {'norm': 2, 'itemknn_weight': 0.08595522071997411, 'slim_weight': 0.9338884127676332, 'rp3beta_weight': 0.5966450128414083}. Best is trial 35 with value: 0.28721344892443607.\n"
     ]
    },
    {
     "name": "stdout",
     "output_type": "stream",
     "text": [
      "LinearCombinationRecommender: Fit completed in 0.00 seconds.\n",
      "EvaluatorHoldout: Processed 35595 (100.0%) in 1.91 min. Users per second: 310\n"
     ]
    },
    {
     "name": "stderr",
     "output_type": "stream",
     "text": [
      "[I 2024-12-31 03:21:52,948] Trial 72 finished with value: 0.28712936560810076 and parameters: {'norm': 2, 'itemknn_weight': 0.07726336727294128, 'slim_weight': 0.9231650040512688, 'rp3beta_weight': 0.6438253504456817}. Best is trial 35 with value: 0.28721344892443607.\n"
     ]
    },
    {
     "name": "stdout",
     "output_type": "stream",
     "text": [
      "LinearCombinationRecommender: Fit completed in 0.00 seconds.\n",
      "EvaluatorHoldout: Processed 35595 (100.0%) in 1.91 min. Users per second: 311\n"
     ]
    },
    {
     "name": "stderr",
     "output_type": "stream",
     "text": [
      "[I 2024-12-31 03:23:47,693] Trial 73 finished with value: 0.2871573230002769 and parameters: {'norm': 2, 'itemknn_weight': 0.03446575852746596, 'slim_weight': 0.8781895405698736, 'rp3beta_weight': 0.5899965970419236}. Best is trial 35 with value: 0.28721344892443607.\n"
     ]
    },
    {
     "name": "stdout",
     "output_type": "stream",
     "text": [
      "LinearCombinationRecommender: Fit completed in 0.00 seconds.\n",
      "EvaluatorHoldout: Processed 35595 (100.0%) in 1.87 min. Users per second: 317\n"
     ]
    },
    {
     "name": "stderr",
     "output_type": "stream",
     "text": [
      "[I 2024-12-31 03:25:40,041] Trial 74 finished with value: 0.28708347969885334 and parameters: {'norm': 2, 'itemknn_weight': 0.030554399754264466, 'slim_weight': 0.7822127691129337, 'rp3beta_weight': 0.47765820840684586}. Best is trial 35 with value: 0.28721344892443607.\n"
     ]
    },
    {
     "name": "stdout",
     "output_type": "stream",
     "text": [
      "LinearCombinationRecommender: Fit completed in 0.00 seconds.\n",
      "EvaluatorHoldout: Processed 35595 (100.0%) in 1.93 min. Users per second: 308\n"
     ]
    },
    {
     "name": "stderr",
     "output_type": "stream",
     "text": [
      "[I 2024-12-31 03:27:35,817] Trial 75 finished with value: 0.2858469210349435 and parameters: {'norm': 2, 'itemknn_weight': 0.0876786910234775, 'slim_weight': 0.39996277445768946, 'rp3beta_weight': 0.584840526499931}. Best is trial 35 with value: 0.28721344892443607.\n"
     ]
    },
    {
     "name": "stdout",
     "output_type": "stream",
     "text": [
      "LinearCombinationRecommender: Fit completed in 0.00 seconds.\n",
      "EvaluatorHoldout: Processed 35595 (100.0%) in 1.94 min. Users per second: 305\n"
     ]
    },
    {
     "name": "stderr",
     "output_type": "stream",
     "text": [
      "[I 2024-12-31 03:29:32,582] Trial 76 finished with value: 0.2871202927869128 and parameters: {'norm': 2, 'itemknn_weight': 0.05170776992302058, 'slim_weight': 0.8945496779897236, 'rp3beta_weight': 0.6083816433828764}. Best is trial 35 with value: 0.28721344892443607.\n"
     ]
    },
    {
     "name": "stdout",
     "output_type": "stream",
     "text": [
      "LinearCombinationRecommender: Fit completed in 0.00 seconds.\n",
      "EvaluatorHoldout: Processed 35595 (100.0%) in 1.87 min. Users per second: 318\n"
     ]
    },
    {
     "name": "stderr",
     "output_type": "stream",
     "text": [
      "[I 2024-12-31 03:31:24,920] Trial 77 finished with value: 0.2870693723120949 and parameters: {'norm': 2, 'itemknn_weight': 0.024091735556596466, 'slim_weight': 0.9442774801775007, 'rp3beta_weight': 0.5558381024653498}. Best is trial 35 with value: 0.28721344892443607.\n"
     ]
    },
    {
     "name": "stdout",
     "output_type": "stream",
     "text": [
      "LinearCombinationRecommender: Fit completed in 0.00 seconds.\n",
      "EvaluatorHoldout: Processed 35595 (100.0%) in 1.90 min. Users per second: 312\n"
     ]
    },
    {
     "name": "stderr",
     "output_type": "stream",
     "text": [
      "[I 2024-12-31 03:33:19,388] Trial 78 finished with value: 0.2868034181535041 and parameters: {'norm': 2, 'itemknn_weight': 0.16570567618120316, 'slim_weight': 0.6400780164358528, 'rp3beta_weight': 0.4280590894140241}. Best is trial 35 with value: 0.28721344892443607.\n"
     ]
    },
    {
     "name": "stdout",
     "output_type": "stream",
     "text": [
      "LinearCombinationRecommender: Fit completed in 0.00 seconds.\n",
      "EvaluatorHoldout: Processed 35595 (100.0%) in 1.97 min. Users per second: 301\n"
     ]
    },
    {
     "name": "stderr",
     "output_type": "stream",
     "text": [
      "[I 2024-12-31 03:35:17,894] Trial 79 finished with value: 0.2866877078136422 and parameters: {'norm': 2, 'itemknn_weight': 0.06430714027618696, 'slim_weight': 0.914055338562956, 'rp3beta_weight': 0.38153896890838057}. Best is trial 35 with value: 0.28721344892443607.\n"
     ]
    },
    {
     "name": "stdout",
     "output_type": "stream",
     "text": [
      "LinearCombinationRecommender: Fit completed in 0.00 seconds.\n",
      "EvaluatorHoldout: Processed 35595 (100.0%) in 1.97 min. Users per second: 300\n"
     ]
    },
    {
     "name": "stderr",
     "output_type": "stream",
     "text": [
      "[I 2024-12-31 03:37:16,644] Trial 80 finished with value: 0.2818870043870313 and parameters: {'norm': 1, 'itemknn_weight': 0.09899321990829932, 'slim_weight': 0.11672080990592759, 'rp3beta_weight': 0.5195895263054148}. Best is trial 35 with value: 0.28721344892443607.\n"
     ]
    },
    {
     "name": "stdout",
     "output_type": "stream",
     "text": [
      "LinearCombinationRecommender: Fit completed in 0.00 seconds.\n",
      "EvaluatorHoldout: Processed 35595 (100.0%) in 1.92 min. Users per second: 310\n"
     ]
    },
    {
     "name": "stderr",
     "output_type": "stream",
     "text": [
      "[I 2024-12-31 03:39:11,793] Trial 81 finished with value: 0.28318462395952804 and parameters: {'norm': 2, 'itemknn_weight': 0.730421817175622, 'slim_weight': 0.8680575525976009, 'rp3beta_weight': 0.6806671480655246}. Best is trial 35 with value: 0.28721344892443607.\n"
     ]
    },
    {
     "name": "stdout",
     "output_type": "stream",
     "text": [
      "LinearCombinationRecommender: Fit completed in 0.00 seconds.\n",
      "EvaluatorHoldout: Processed 35595 (100.0%) in 1.90 min. Users per second: 313\n"
     ]
    },
    {
     "name": "stderr",
     "output_type": "stream",
     "text": [
      "[I 2024-12-31 03:41:05,764] Trial 82 finished with value: 0.28709260877009884 and parameters: {'norm': 2, 'itemknn_weight': 0.14755462392838276, 'slim_weight': 0.864496226035761, 'rp3beta_weight': 0.7153072467914703}. Best is trial 35 with value: 0.28721344892443607.\n"
     ]
    },
    {
     "name": "stdout",
     "output_type": "stream",
     "text": [
      "LinearCombinationRecommender: Fit completed in 0.00 seconds.\n",
      "EvaluatorHoldout: Processed 35595 (100.0%) in 1.89 min. Users per second: 314\n"
     ]
    },
    {
     "name": "stderr",
     "output_type": "stream",
     "text": [
      "[I 2024-12-31 03:42:59,402] Trial 83 finished with value: 0.28629443476706246 and parameters: {'norm': 2, 'itemknn_weight': 0.2635668284080135, 'slim_weight': 0.8411325605740193, 'rp3beta_weight': 0.6590145611811074}. Best is trial 35 with value: 0.28721344892443607.\n"
     ]
    },
    {
     "name": "stdout",
     "output_type": "stream",
     "text": [
      "LinearCombinationRecommender: Fit completed in 0.00 seconds.\n",
      "EvaluatorHoldout: Processed 35595 (100.0%) in 1.94 min. Users per second: 306\n"
     ]
    },
    {
     "name": "stderr",
     "output_type": "stream",
     "text": [
      "[I 2024-12-31 03:44:56,075] Trial 84 finished with value: 0.2871469916133161 and parameters: {'norm': 2, 'itemknn_weight': 0.020927543160237858, 'slim_weight': 0.9685389046577672, 'rp3beta_weight': 0.6895305977959738}. Best is trial 35 with value: 0.28721344892443607.\n"
     ]
    },
    {
     "name": "stdout",
     "output_type": "stream",
     "text": [
      "LinearCombinationRecommender: Fit completed in 0.00 seconds.\n",
      "EvaluatorHoldout: Processed 35595 (100.0%) in 1.94 min. Users per second: 305\n"
     ]
    },
    {
     "name": "stderr",
     "output_type": "stream",
     "text": [
      "[I 2024-12-31 03:46:52,924] Trial 85 finished with value: 0.28424514934020784 and parameters: {'norm': 2, 'itemknn_weight': 0.02520380632334862, 'slim_weight': 0.9590231862675438, 'rp3beta_weight': 0.07078780988873956}. Best is trial 35 with value: 0.28721344892443607.\n"
     ]
    },
    {
     "name": "stdout",
     "output_type": "stream",
     "text": [
      "LinearCombinationRecommender: Fit completed in 0.00 seconds.\n",
      "EvaluatorHoldout: Processed 35595 (100.0%) in 1.84 min. Users per second: 323\n"
     ]
    },
    {
     "name": "stderr",
     "output_type": "stream",
     "text": [
      "[I 2024-12-31 03:48:43,398] Trial 86 finished with value: 0.28661152807923007 and parameters: {'norm': inf, 'itemknn_weight': 0.0723301314713489, 'slim_weight': 0.9784263421281529, 'rp3beta_weight': 0.8083386546820838}. Best is trial 35 with value: 0.28721344892443607.\n"
     ]
    },
    {
     "name": "stdout",
     "output_type": "stream",
     "text": [
      "LinearCombinationRecommender: Fit completed in 0.00 seconds.\n",
      "EvaluatorHoldout: Processed 35595 (100.0%) in 2.02 min. Users per second: 294\n"
     ]
    },
    {
     "name": "stderr",
     "output_type": "stream",
     "text": [
      "[I 2024-12-31 03:50:44,686] Trial 87 finished with value: 0.28715928284911274 and parameters: {'norm': 2, 'itemknn_weight': 0.0092887940551823, 'slim_weight': 0.9312997512952175, 'rp3beta_weight': 0.6276263549911576}. Best is trial 35 with value: 0.28721344892443607.\n"
     ]
    },
    {
     "name": "stdout",
     "output_type": "stream",
     "text": [
      "LinearCombinationRecommender: Fit completed in 0.00 seconds.\n",
      "EvaluatorHoldout: Processed 35595 (100.0%) in 2.05 min. Users per second: 289\n"
     ]
    },
    {
     "name": "stderr",
     "output_type": "stream",
     "text": [
      "[I 2024-12-31 03:52:48,192] Trial 88 finished with value: 0.2871694572620904 and parameters: {'norm': 2, 'itemknn_weight': 0.0031375287934053003, 'slim_weight': 0.9324422335942265, 'rp3beta_weight': 0.5743691774384995}. Best is trial 35 with value: 0.28721344892443607.\n"
     ]
    },
    {
     "name": "stdout",
     "output_type": "stream",
     "text": [
      "LinearCombinationRecommender: Fit completed in 0.00 seconds.\n",
      "EvaluatorHoldout: Processed 35595 (100.0%) in 2.00 min. Users per second: 297\n"
     ]
    },
    {
     "name": "stderr",
     "output_type": "stream",
     "text": [
      "[I 2024-12-31 03:54:48,447] Trial 89 finished with value: 0.2852941699008397 and parameters: {'norm': 2, 'itemknn_weight': 0.09114515694142528, 'slim_weight': 0.34085317061098586, 'rp3beta_weight': 0.6247727548221895}. Best is trial 35 with value: 0.28721344892443607.\n"
     ]
    },
    {
     "name": "stdout",
     "output_type": "stream",
     "text": [
      "LinearCombinationRecommender: Fit completed in 0.00 seconds.\n",
      "EvaluatorHoldout: Processed 35595 (100.0%) in 1.99 min. Users per second: 298\n"
     ]
    },
    {
     "name": "stderr",
     "output_type": "stream",
     "text": [
      "[I 2024-12-31 03:56:47,923] Trial 90 finished with value: 0.28716229094325363 and parameters: {'norm': 2, 'itemknn_weight': 0.008238759767790645, 'slim_weight': 0.9386934531846424, 'rp3beta_weight': 0.5656821641965522}. Best is trial 35 with value: 0.28721344892443607.\n"
     ]
    },
    {
     "name": "stdout",
     "output_type": "stream",
     "text": [
      "LinearCombinationRecommender: Fit completed in 0.00 seconds.\n",
      "EvaluatorHoldout: Processed 35595 (100.0%) in 2.00 min. Users per second: 297\n"
     ]
    },
    {
     "name": "stderr",
     "output_type": "stream",
     "text": [
      "[I 2024-12-31 03:58:48,129] Trial 91 finished with value: 0.2869926896527922 and parameters: {'norm': 2, 'itemknn_weight': 0.05374607981893131, 'slim_weight': 0.9381101917579006, 'rp3beta_weight': 0.5713602079766193}. Best is trial 35 with value: 0.28721344892443607.\n"
     ]
    },
    {
     "name": "stdout",
     "output_type": "stream",
     "text": [
      "LinearCombinationRecommender: Fit completed in 0.00 seconds.\n",
      "EvaluatorHoldout: Processed 35595 (100.0%) in 2.02 min. Users per second: 293\n"
     ]
    },
    {
     "name": "stderr",
     "output_type": "stream",
     "text": [
      "[I 2024-12-31 04:00:49,801] Trial 92 finished with value: 0.28704505320670315 and parameters: {'norm': 2, 'itemknn_weight': 0.00323519506201401, 'slim_weight': 0.9291854021627157, 'rp3beta_weight': 0.5332484286485879}. Best is trial 35 with value: 0.28721344892443607.\n"
     ]
    },
    {
     "name": "stdout",
     "output_type": "stream",
     "text": [
      "LinearCombinationRecommender: Fit completed in 0.00 seconds.\n",
      "EvaluatorHoldout: Processed 35595 (100.0%) in 1.88 min. Users per second: 315\n"
     ]
    },
    {
     "name": "stderr",
     "output_type": "stream",
     "text": [
      "[I 2024-12-31 04:02:42,986] Trial 93 finished with value: 0.2870088472229995 and parameters: {'norm': 2, 'itemknn_weight': 0.002035705217605133, 'slim_weight': 0.8856219724930328, 'rp3beta_weight': 0.646681374399612}. Best is trial 35 with value: 0.28721344892443607.\n"
     ]
    },
    {
     "name": "stdout",
     "output_type": "stream",
     "text": [
      "LinearCombinationRecommender: Fit completed in 0.00 seconds.\n",
      "EvaluatorHoldout: Processed 35595 (100.0%) in 1.89 min. Users per second: 314\n"
     ]
    },
    {
     "name": "stderr",
     "output_type": "stream",
     "text": [
      "[I 2024-12-31 04:04:36,730] Trial 94 finished with value: 0.2870009112481508 and parameters: {'norm': 2, 'itemknn_weight': 0.09282364342752679, 'slim_weight': 0.9491677759518188, 'rp3beta_weight': 0.4559609538417978}. Best is trial 35 with value: 0.28721344892443607.\n"
     ]
    },
    {
     "name": "stdout",
     "output_type": "stream",
     "text": [
      "LinearCombinationRecommender: Fit completed in 0.00 seconds.\n",
      "EvaluatorHoldout: Processed 35595 (100.0%) in 1.91 min. Users per second: 310\n"
     ]
    },
    {
     "name": "stderr",
     "output_type": "stream",
     "text": [
      "[I 2024-12-31 04:06:31,728] Trial 95 finished with value: 0.28699223364607196 and parameters: {'norm': 2, 'itemknn_weight': 0.12459346683994, 'slim_weight': 0.9843363435788202, 'rp3beta_weight': 0.5711970141439178}. Best is trial 35 with value: 0.28721344892443607.\n"
     ]
    },
    {
     "name": "stdout",
     "output_type": "stream",
     "text": [
      "LinearCombinationRecommender: Fit completed in 0.00 seconds.\n",
      "EvaluatorHoldout: Processed 35595 (100.0%) in 1.86 min. Users per second: 318\n"
     ]
    },
    {
     "name": "stderr",
     "output_type": "stream",
     "text": [
      "[I 2024-12-31 04:08:23,843] Trial 96 finished with value: 0.2869827709612861 and parameters: {'norm': 2, 'itemknn_weight': 0.06245169208017711, 'slim_weight': 0.9102633695438285, 'rp3beta_weight': 0.49395731116210856}. Best is trial 35 with value: 0.28721344892443607.\n"
     ]
    },
    {
     "name": "stdout",
     "output_type": "stream",
     "text": [
      "LinearCombinationRecommender: Fit completed in 0.00 seconds.\n",
      "EvaluatorHoldout: Processed 35595 (100.0%) in 1.88 min. Users per second: 316\n"
     ]
    },
    {
     "name": "stderr",
     "output_type": "stream",
     "text": [
      "[I 2024-12-31 04:10:16,776] Trial 97 finished with value: 0.28683515444379626 and parameters: {'norm': 2, 'itemknn_weight': 0.20671444154219398, 'slim_weight': 0.8417177225940832, 'rp3beta_weight': 0.7732464058487373}. Best is trial 35 with value: 0.28721344892443607.\n"
     ]
    },
    {
     "name": "stdout",
     "output_type": "stream",
     "text": [
      "LinearCombinationRecommender: Fit completed in 0.00 seconds.\n",
      "EvaluatorHoldout: Processed 35595 (100.0%) in 1.98 min. Users per second: 300\n"
     ]
    },
    {
     "name": "stderr",
     "output_type": "stream",
     "text": [
      "[I 2024-12-31 04:12:15,622] Trial 98 finished with value: 0.28698288625062096 and parameters: {'norm': 2, 'itemknn_weight': 0.0370935628146772, 'slim_weight': 0.7923857022422033, 'rp3beta_weight': 0.6241274133961032}. Best is trial 35 with value: 0.28721344892443607.\n"
     ]
    },
    {
     "name": "stdout",
     "output_type": "stream",
     "text": [
      "LinearCombinationRecommender: Fit completed in 0.00 seconds.\n",
      "EvaluatorHoldout: Processed 35595 (100.0%) in 1.85 min. Users per second: 321\n"
     ]
    },
    {
     "name": "stderr",
     "output_type": "stream",
     "text": [
      "[I 2024-12-31 04:14:06,885] Trial 99 finished with value: 0.2862172159471432 and parameters: {'norm': 2, 'itemknn_weight': 0.17458101275422502, 'slim_weight': 0.5176567060909867, 'rp3beta_weight': 0.5496504965930519}. Best is trial 35 with value: 0.28721344892443607.\n"
     ]
    },
    {
     "name": "stdout",
     "output_type": "stream",
     "text": [
      "LinearCombinationRecommender: Fit completed in 0.00 seconds.\n",
      "EvaluatorHoldout: Processed 35595 (100.0%) in 1.85 min. Users per second: 320\n"
     ]
    },
    {
     "name": "stderr",
     "output_type": "stream",
     "text": [
      "[I 2024-12-31 04:15:58,201] Trial 100 finished with value: 0.28602008681428576 and parameters: {'norm': 1, 'itemknn_weight': 0.1351098634465817, 'slim_weight': 0.8820102807331144, 'rp3beta_weight': 0.7130693870418385}. Best is trial 35 with value: 0.28721344892443607.\n"
     ]
    },
    {
     "name": "stdout",
     "output_type": "stream",
     "text": [
      "LinearCombinationRecommender: Fit completed in 0.00 seconds.\n",
      "EvaluatorHoldout: Processed 35595 (100.0%) in 1.86 min. Users per second: 319\n"
     ]
    },
    {
     "name": "stderr",
     "output_type": "stream",
     "text": [
      "[I 2024-12-31 04:17:49,869] Trial 101 finished with value: 0.28717140862805723 and parameters: {'norm': 2, 'itemknn_weight': 0.03353333318734976, 'slim_weight': 0.9053451591773263, 'rp3beta_weight': 0.5953643601068511}. Best is trial 35 with value: 0.28721344892443607.\n"
     ]
    },
    {
     "name": "stdout",
     "output_type": "stream",
     "text": [
      "LinearCombinationRecommender: Fit completed in 0.00 seconds.\n",
      "EvaluatorHoldout: Processed 35595 (100.0%) in 1.84 min. Users per second: 323\n"
     ]
    },
    {
     "name": "stderr",
     "output_type": "stream",
     "text": [
      "[I 2024-12-31 04:19:40,240] Trial 102 finished with value: 0.2870814613783577 and parameters: {'norm': 2, 'itemknn_weight': 0.10473618677107506, 'slim_weight': 0.9282956701173409, 'rp3beta_weight': 0.5998533849919326}. Best is trial 35 with value: 0.28721344892443607.\n"
     ]
    },
    {
     "name": "stdout",
     "output_type": "stream",
     "text": [
      "LinearCombinationRecommender: Fit completed in 0.00 seconds.\n",
      "EvaluatorHoldout: Processed 35595 (100.0%) in 1.86 min. Users per second: 319\n"
     ]
    },
    {
     "name": "stderr",
     "output_type": "stream",
     "text": [
      "[I 2024-12-31 04:21:32,054] Trial 103 finished with value: 0.2872257611387223 and parameters: {'norm': 2, 'itemknn_weight': 0.017299620849617694, 'slim_weight': 0.9748612647441139, 'rp3beta_weight': 0.6443092162022601}. Best is trial 103 with value: 0.2872257611387223.\n"
     ]
    },
    {
     "name": "stdout",
     "output_type": "stream",
     "text": [
      "LinearCombinationRecommender: Fit completed in 0.00 seconds.\n",
      "EvaluatorHoldout: Processed 35595 (100.0%) in 1.87 min. Users per second: 317\n"
     ]
    },
    {
     "name": "stderr",
     "output_type": "stream",
     "text": [
      "[I 2024-12-31 04:23:24,499] Trial 104 finished with value: 0.28717109098469173 and parameters: {'norm': 2, 'itemknn_weight': 0.07112999999695423, 'slim_weight': 0.9708226469521257, 'rp3beta_weight': 0.6541128556678867}. Best is trial 103 with value: 0.2872257611387223.\n"
     ]
    },
    {
     "name": "stdout",
     "output_type": "stream",
     "text": [
      "LinearCombinationRecommender: Fit completed in 0.00 seconds.\n",
      "EvaluatorHoldout: Processed 35595 (100.0%) in 1.91 min. Users per second: 311\n"
     ]
    },
    {
     "name": "stderr",
     "output_type": "stream",
     "text": [
      "[I 2024-12-31 04:25:19,313] Trial 105 finished with value: 0.28712091977401255 and parameters: {'norm': 2, 'itemknn_weight': 0.0641035126959593, 'slim_weight': 0.997343835011629, 'rp3beta_weight': 0.7484508591200444}. Best is trial 103 with value: 0.2872257611387223.\n"
     ]
    },
    {
     "name": "stdout",
     "output_type": "stream",
     "text": [
      "LinearCombinationRecommender: Fit completed in 0.00 seconds.\n",
      "EvaluatorHoldout: Processed 35595 (100.0%) in 2.04 min. Users per second: 291\n"
     ]
    },
    {
     "name": "stderr",
     "output_type": "stream",
     "text": [
      "[I 2024-12-31 04:27:21,878] Trial 106 finished with value: 0.2869664271441513 and parameters: {'norm': inf, 'itemknn_weight': 0.10555312702262795, 'slim_weight': 0.9727849816399896, 'rp3beta_weight': 0.6562794341443806}. Best is trial 103 with value: 0.2872257611387223.\n"
     ]
    },
    {
     "name": "stdout",
     "output_type": "stream",
     "text": [
      "LinearCombinationRecommender: Fit completed in 0.00 seconds.\n",
      "EvaluatorHoldout: Processed 35595 (100.0%) in 1.98 min. Users per second: 299\n"
     ]
    },
    {
     "name": "stderr",
     "output_type": "stream",
     "text": [
      "[I 2024-12-31 04:29:21,034] Trial 107 finished with value: 0.2870210792316712 and parameters: {'norm': 2, 'itemknn_weight': 0.0810208538021525, 'slim_weight': 0.9661075041919498, 'rp3beta_weight': 0.6913952140643048}. Best is trial 103 with value: 0.2872257611387223.\n"
     ]
    },
    {
     "name": "stdout",
     "output_type": "stream",
     "text": [
      "LinearCombinationRecommender: Fit completed in 0.00 seconds.\n",
      "EvaluatorHoldout: Processed 35595 (100.0%) in 1.86 min. Users per second: 319\n"
     ]
    },
    {
     "name": "stderr",
     "output_type": "stream",
     "text": [
      "[I 2024-12-31 04:31:12,834] Trial 108 finished with value: 0.2871691514484497 and parameters: {'norm': 2, 'itemknn_weight': 0.04765115954753844, 'slim_weight': 0.9503266147950229, 'rp3beta_weight': 0.6715519789098149}. Best is trial 103 with value: 0.2872257611387223.\n"
     ]
    },
    {
     "name": "stdout",
     "output_type": "stream",
     "text": [
      "LinearCombinationRecommender: Fit completed in 0.00 seconds.\n",
      "EvaluatorHoldout: Processed 35595 (100.0%) in 1.97 min. Users per second: 302\n"
     ]
    },
    {
     "name": "stderr",
     "output_type": "stream",
     "text": [
      "[I 2024-12-31 04:33:11,010] Trial 109 finished with value: 0.2870303630806243 and parameters: {'norm': 2, 'itemknn_weight': 0.15971577513818097, 'slim_weight': 0.9089985851126872, 'rp3beta_weight': 0.6726786739586402}. Best is trial 103 with value: 0.2872257611387223.\n"
     ]
    },
    {
     "name": "stdout",
     "output_type": "stream",
     "text": [
      "LinearCombinationRecommender: Fit completed in 0.00 seconds.\n",
      "EvaluatorHoldout: Processed 35595 (100.0%) in 1.99 min. Users per second: 298\n"
     ]
    },
    {
     "name": "stderr",
     "output_type": "stream",
     "text": [
      "[I 2024-12-31 04:35:10,704] Trial 110 finished with value: 0.28705788110396047 and parameters: {'norm': 2, 'itemknn_weight': 0.04629879627831782, 'slim_weight': 0.9539709921989955, 'rp3beta_weight': 0.7283461869835903}. Best is trial 103 with value: 0.2872257611387223.\n"
     ]
    },
    {
     "name": "stdout",
     "output_type": "stream",
     "text": [
      "LinearCombinationRecommender: Fit completed in 0.00 seconds.\n",
      "EvaluatorHoldout: Processed 35595 (100.0%) in 2.05 min. Users per second: 289\n"
     ]
    },
    {
     "name": "stderr",
     "output_type": "stream",
     "text": [
      "[I 2024-12-31 04:37:13,929] Trial 111 finished with value: 0.28710976248473274 and parameters: {'norm': 2, 'itemknn_weight': 0.01960752866621121, 'slim_weight': 0.9441631978665839, 'rp3beta_weight': 0.6356819041007731}. Best is trial 103 with value: 0.2872257611387223.\n"
     ]
    },
    {
     "name": "stdout",
     "output_type": "stream",
     "text": [
      "LinearCombinationRecommender: Fit completed in 0.00 seconds.\n",
      "EvaluatorHoldout: Processed 35595 (100.0%) in 2.00 min. Users per second: 297\n"
     ]
    },
    {
     "name": "stderr",
     "output_type": "stream",
     "text": [
      "[I 2024-12-31 04:39:14,027] Trial 112 finished with value: 0.28696898683577576 and parameters: {'norm': 2, 'itemknn_weight': 0.06697661172551637, 'slim_weight': 0.9826784958987529, 'rp3beta_weight': 0.5765068941496191}. Best is trial 103 with value: 0.2872257611387223.\n"
     ]
    },
    {
     "name": "stdout",
     "output_type": "stream",
     "text": [
      "LinearCombinationRecommender: Fit completed in 0.00 seconds.\n",
      "EvaluatorHoldout: Processed 35595 (100.0%) in 2.02 min. Users per second: 293\n"
     ]
    },
    {
     "name": "stderr",
     "output_type": "stream",
     "text": [
      "[I 2024-12-31 04:41:15,727] Trial 113 finished with value: 0.28720717466626267 and parameters: {'norm': 2, 'itemknn_weight': 0.13311966518807253, 'slim_weight': 0.8999080633033344, 'rp3beta_weight': 0.6094481646699964}. Best is trial 103 with value: 0.2872257611387223.\n"
     ]
    },
    {
     "name": "stdout",
     "output_type": "stream",
     "text": [
      "LinearCombinationRecommender: Fit completed in 0.00 seconds.\n",
      "EvaluatorHoldout: Processed 35595 (100.0%) in 2.01 min. Users per second: 295\n"
     ]
    },
    {
     "name": "stderr",
     "output_type": "stream",
     "text": [
      "[I 2024-12-31 04:43:16,712] Trial 114 finished with value: 0.28720625985918424 and parameters: {'norm': 2, 'itemknn_weight': 0.18816246719333335, 'slim_weight': 0.8969049044419902, 'rp3beta_weight': 0.6115989308633162}. Best is trial 103 with value: 0.2872257611387223.\n"
     ]
    },
    {
     "name": "stdout",
     "output_type": "stream",
     "text": [
      "LinearCombinationRecommender: Fit completed in 0.00 seconds.\n",
      "EvaluatorHoldout: Processed 35595 (100.0%) in 2.02 min. Users per second: 293\n"
     ]
    },
    {
     "name": "stderr",
     "output_type": "stream",
     "text": [
      "[I 2024-12-31 04:45:18,435] Trial 115 finished with value: 0.28714050005301256 and parameters: {'norm': 2, 'itemknn_weight': 0.1856348199285035, 'slim_weight': 0.8912340460847584, 'rp3beta_weight': 0.615309232197705}. Best is trial 103 with value: 0.2872257611387223.\n"
     ]
    },
    {
     "name": "stdout",
     "output_type": "stream",
     "text": [
      "LinearCombinationRecommender: Fit completed in 0.00 seconds.\n",
      "EvaluatorHoldout: Processed 35595 (100.0%) in 1.98 min. Users per second: 300\n"
     ]
    },
    {
     "name": "stderr",
     "output_type": "stream",
     "text": [
      "[I 2024-12-31 04:47:17,296] Trial 116 finished with value: 0.28659198110853873 and parameters: {'norm': 2, 'itemknn_weight': 0.22110713924728295, 'slim_weight': 0.8284621590199454, 'rp3beta_weight': 0.7056048692646918}. Best is trial 103 with value: 0.2872257611387223.\n"
     ]
    },
    {
     "name": "stdout",
     "output_type": "stream",
     "text": [
      "LinearCombinationRecommender: Fit completed in 0.00 seconds.\n",
      "EvaluatorHoldout: Processed 35595 (100.0%) in 1.90 min. Users per second: 313\n"
     ]
    },
    {
     "name": "stderr",
     "output_type": "stream",
     "text": [
      "[I 2024-12-31 04:49:11,297] Trial 117 finished with value: 0.28712439716979027 and parameters: {'norm': 2, 'itemknn_weight': 0.1407372227520876, 'slim_weight': 0.9803132835335475, 'rp3beta_weight': 0.6517119788806798}. Best is trial 103 with value: 0.2872257611387223.\n"
     ]
    },
    {
     "name": "stdout",
     "output_type": "stream",
     "text": [
      "LinearCombinationRecommender: Fit completed in 0.00 seconds.\n",
      "EvaluatorHoldout: Processed 35595 (100.0%) in 2.00 min. Users per second: 297\n"
     ]
    },
    {
     "name": "stderr",
     "output_type": "stream",
     "text": [
      "[I 2024-12-31 04:51:11,561] Trial 118 finished with value: 0.2872165284198926 and parameters: {'norm': 2, 'itemknn_weight': 0.12316106800966323, 'slim_weight': 0.9590385142093201, 'rp3beta_weight': 0.7617859082759516}. Best is trial 103 with value: 0.2872257611387223.\n"
     ]
    },
    {
     "name": "stdout",
     "output_type": "stream",
     "text": [
      "LinearCombinationRecommender: Fit completed in 0.00 seconds.\n",
      "EvaluatorHoldout: Processed 35595 (100.0%) in 1.99 min. Users per second: 298\n"
     ]
    },
    {
     "name": "stderr",
     "output_type": "stream",
     "text": [
      "[I 2024-12-31 04:53:11,365] Trial 119 finished with value: 0.287123066519169 and parameters: {'norm': 2, 'itemknn_weight': 0.12216572822810791, 'slim_weight': 0.9964388574643167, 'rp3beta_weight': 0.7671454786039321}. Best is trial 103 with value: 0.2872257611387223.\n"
     ]
    },
    {
     "name": "stdout",
     "output_type": "stream",
     "text": [
      "LinearCombinationRecommender: Fit completed in 0.00 seconds.\n",
      "EvaluatorHoldout: Processed 35595 (100.0%) in 1.91 min. Users per second: 310\n"
     ]
    },
    {
     "name": "stderr",
     "output_type": "stream",
     "text": [
      "[I 2024-12-31 04:55:06,323] Trial 120 finished with value: 0.28701635718105706 and parameters: {'norm': 2, 'itemknn_weight': 0.16138787390948467, 'slim_weight': 0.9006057747206571, 'rp3beta_weight': 0.7398160135346266}. Best is trial 103 with value: 0.2872257611387223.\n"
     ]
    },
    {
     "name": "stdout",
     "output_type": "stream",
     "text": [
      "LinearCombinationRecommender: Fit completed in 0.00 seconds.\n",
      "EvaluatorHoldout: Processed 35595 (100.0%) in 1.91 min. Users per second: 311\n"
     ]
    },
    {
     "name": "stderr",
     "output_type": "stream",
     "text": [
      "[I 2024-12-31 04:57:00,997] Trial 121 finished with value: 0.2870972113860273 and parameters: {'norm': 2, 'itemknn_weight': 0.1256440982423322, 'slim_weight': 0.9609931366175866, 'rp3beta_weight': 0.6798617383433894}. Best is trial 103 with value: 0.2872257611387223.\n"
     ]
    },
    {
     "name": "stdout",
     "output_type": "stream",
     "text": [
      "LinearCombinationRecommender: Fit completed in 0.00 seconds.\n",
      "EvaluatorHoldout: Processed 35595 (100.0%) in 1.85 min. Users per second: 321\n"
     ]
    },
    {
     "name": "stderr",
     "output_type": "stream",
     "text": [
      "[I 2024-12-31 04:58:52,199] Trial 122 finished with value: 0.28703076676096084 and parameters: {'norm': 2, 'itemknn_weight': 0.09452662624568398, 'slim_weight': 0.9227806174246577, 'rp3beta_weight': 0.8110126006268346}. Best is trial 103 with value: 0.2872257611387223.\n"
     ]
    },
    {
     "name": "stdout",
     "output_type": "stream",
     "text": [
      "LinearCombinationRecommender: Fit completed in 0.00 seconds.\n",
      "EvaluatorHoldout: Processed 35595 (100.0%) in 1.96 min. Users per second: 303\n"
     ]
    },
    {
     "name": "stderr",
     "output_type": "stream",
     "text": [
      "[I 2024-12-31 05:00:50,034] Trial 123 finished with value: 0.2856611100598108 and parameters: {'norm': 2, 'itemknn_weight': 0.4148695625970935, 'slim_weight': 0.9488989963841035, 'rp3beta_weight': 0.6676480579373196}. Best is trial 103 with value: 0.2872257611387223.\n"
     ]
    },
    {
     "name": "stdout",
     "output_type": "stream",
     "text": [
      "LinearCombinationRecommender: Fit completed in 0.00 seconds.\n",
      "EvaluatorHoldout: Processed 35595 (100.0%) in 2.02 min. Users per second: 294\n"
     ]
    },
    {
     "name": "stderr",
     "output_type": "stream",
     "text": [
      "[I 2024-12-31 05:02:51,498] Trial 124 finished with value: 0.2869739665102932 and parameters: {'norm': 2, 'itemknn_weight': 0.18876114848528508, 'slim_weight': 0.8577405530450064, 'rp3beta_weight': 0.7877481186523558}. Best is trial 103 with value: 0.2872257611387223.\n"
     ]
    },
    {
     "name": "stdout",
     "output_type": "stream",
     "text": [
      "LinearCombinationRecommender: Fit completed in 0.00 seconds.\n",
      "EvaluatorHoldout: Processed 35595 (100.0%) in 1.88 min. Users per second: 316\n"
     ]
    },
    {
     "name": "stderr",
     "output_type": "stream",
     "text": [
      "[I 2024-12-31 05:04:44,299] Trial 125 finished with value: 0.2816430731265169 and parameters: {'norm': 1, 'itemknn_weight': 0.5927282334848161, 'slim_weight': 0.961434865704631, 'rp3beta_weight': 0.6408957080506738}. Best is trial 103 with value: 0.2872257611387223.\n"
     ]
    },
    {
     "name": "stdout",
     "output_type": "stream",
     "text": [
      "LinearCombinationRecommender: Fit completed in 0.00 seconds.\n",
      "EvaluatorHoldout: Processed 35595 (100.0%) in 1.87 min. Users per second: 317\n"
     ]
    },
    {
     "name": "stderr",
     "output_type": "stream",
     "text": [
      "[I 2024-12-31 05:06:36,903] Trial 126 finished with value: 0.285057895209961 and parameters: {'norm': 2, 'itemknn_weight': 0.5411300772487077, 'slim_weight': 0.9208673656414968, 'rp3beta_weight': 0.8431667008159313}. Best is trial 103 with value: 0.2872257611387223.\n"
     ]
    },
    {
     "name": "stdout",
     "output_type": "stream",
     "text": [
      "LinearCombinationRecommender: Fit completed in 0.00 seconds.\n",
      "EvaluatorHoldout: Processed 35595 (100.0%) in 1.85 min. Users per second: 321\n"
     ]
    },
    {
     "name": "stderr",
     "output_type": "stream",
     "text": [
      "[I 2024-12-31 05:08:28,113] Trial 127 finished with value: 0.2864518788981633 and parameters: {'norm': inf, 'itemknn_weight': 0.26211346064649166, 'slim_weight': 0.9766446701078779, 'rp3beta_weight': 0.7079543685986209}. Best is trial 103 with value: 0.2872257611387223.\n"
     ]
    },
    {
     "name": "stdout",
     "output_type": "stream",
     "text": [
      "LinearCombinationRecommender: Fit completed in 0.00 seconds.\n",
      "EvaluatorHoldout: Processed 35595 (100.0%) in 1.88 min. Users per second: 315\n"
     ]
    },
    {
     "name": "stderr",
     "output_type": "stream",
     "text": [
      "[I 2024-12-31 05:10:21,250] Trial 128 finished with value: 0.28710531769369885 and parameters: {'norm': 2, 'itemknn_weight': 0.1479688476142928, 'slim_weight': 0.871541652561193, 'rp3beta_weight': 0.6898207833811159}. Best is trial 103 with value: 0.2872257611387223.\n"
     ]
    },
    {
     "name": "stdout",
     "output_type": "stream",
     "text": [
      "LinearCombinationRecommender: Fit completed in 0.00 seconds.\n",
      "EvaluatorHoldout: Processed 35595 (100.0%) in 1.89 min. Users per second: 315\n"
     ]
    },
    {
     "name": "stderr",
     "output_type": "stream",
     "text": [
      "[I 2024-12-31 05:12:14,647] Trial 129 finished with value: 0.2866568732441158 and parameters: {'norm': 2, 'itemknn_weight': 0.2406055050345606, 'slim_weight': 0.895645543346304, 'rp3beta_weight': 0.6141690650187225}. Best is trial 103 with value: 0.2872257611387223.\n"
     ]
    },
    {
     "name": "stdout",
     "output_type": "stream",
     "text": [
      "LinearCombinationRecommender: Fit completed in 0.00 seconds.\n",
      "EvaluatorHoldout: Processed 35595 (100.0%) in 1.87 min. Users per second: 317\n"
     ]
    },
    {
     "name": "stderr",
     "output_type": "stream",
     "text": [
      "[I 2024-12-31 05:14:07,343] Trial 130 finished with value: 0.28622097670359326 and parameters: {'norm': 2, 'itemknn_weight': 0.10777946912342601, 'slim_weight': 0.5844429788373646, 'rp3beta_weight': 0.7553197598556118}. Best is trial 103 with value: 0.2872257611387223.\n"
     ]
    },
    {
     "name": "stdout",
     "output_type": "stream",
     "text": [
      "LinearCombinationRecommender: Fit completed in 0.00 seconds.\n",
      "EvaluatorHoldout: Processed 35595 (100.0%) in 1.86 min. Users per second: 319\n"
     ]
    },
    {
     "name": "stderr",
     "output_type": "stream",
     "text": [
      "[I 2024-12-31 05:15:59,286] Trial 131 finished with value: 0.2872012132756375 and parameters: {'norm': 2, 'itemknn_weight': 0.0789423712297863, 'slim_weight': 0.9115489488714416, 'rp3beta_weight': 0.5945480545392029}. Best is trial 103 with value: 0.2872257611387223.\n"
     ]
    },
    {
     "name": "stdout",
     "output_type": "stream",
     "text": [
      "LinearCombinationRecommender: Fit completed in 0.00 seconds.\n",
      "EvaluatorHoldout: Processed 35595 (100.0%) in 1.86 min. Users per second: 319\n"
     ]
    },
    {
     "name": "stderr",
     "output_type": "stream",
     "text": [
      "[I 2024-12-31 05:17:50,948] Trial 132 finished with value: 0.28616733278189826 and parameters: {'norm': 2, 'itemknn_weight': 0.07830381603140804, 'slim_weight': 0.45188712730818614, 'rp3beta_weight': 0.5876324054788893}. Best is trial 103 with value: 0.2872257611387223.\n"
     ]
    },
    {
     "name": "stdout",
     "output_type": "stream",
     "text": [
      "LinearCombinationRecommender: Fit completed in 0.00 seconds.\n",
      "EvaluatorHoldout: Processed 35595 (100.0%) in 1.90 min. Users per second: 312\n"
     ]
    },
    {
     "name": "stderr",
     "output_type": "stream",
     "text": [
      "[I 2024-12-31 05:19:45,151] Trial 133 finished with value: 0.2869424175444677 and parameters: {'norm': 2, 'itemknn_weight': 0.1309710290387165, 'slim_weight': 0.9434895765097724, 'rp3beta_weight': 0.5218390770938319}. Best is trial 103 with value: 0.2872257611387223.\n"
     ]
    },
    {
     "name": "stdout",
     "output_type": "stream",
     "text": [
      "LinearCombinationRecommender: Fit completed in 0.00 seconds.\n",
      "EvaluatorHoldout: Processed 35595 (100.0%) in 1.84 min. Users per second: 322\n"
     ]
    },
    {
     "name": "stderr",
     "output_type": "stream",
     "text": [
      "[I 2024-12-31 05:21:35,914] Trial 134 finished with value: 0.2870583242098082 and parameters: {'norm': 2, 'itemknn_weight': 0.08338599657823449, 'slim_weight': 0.9137247218355177, 'rp3beta_weight': 0.6522678350020977}. Best is trial 103 with value: 0.2872257611387223.\n"
     ]
    },
    {
     "name": "stdout",
     "output_type": "stream",
     "text": [
      "LinearCombinationRecommender: Fit completed in 0.00 seconds.\n",
      "EvaluatorHoldout: Processed 35595 (100.0%) in 1.85 min. Users per second: 320\n"
     ]
    },
    {
     "name": "stderr",
     "output_type": "stream",
     "text": [
      "[I 2024-12-31 05:23:27,340] Trial 135 finished with value: 0.2836672960052507 and parameters: {'norm': 2, 'itemknn_weight': 0.6729262373791727, 'slim_weight': 0.9986165199655359, 'rp3beta_weight': 0.6134517587082489}. Best is trial 103 with value: 0.2872257611387223.\n"
     ]
    },
    {
     "name": "stdout",
     "output_type": "stream",
     "text": [
      "LinearCombinationRecommender: Fit completed in 0.00 seconds.\n",
      "EvaluatorHoldout: Processed 35595 (100.0%) in 1.85 min. Users per second: 320\n"
     ]
    },
    {
     "name": "stderr",
     "output_type": "stream",
     "text": [
      "[I 2024-12-31 05:25:18,860] Trial 136 finished with value: 0.286944880253325 and parameters: {'norm': 2, 'itemknn_weight': 0.04679298665505727, 'slim_weight': 0.9587117174174498, 'rp3beta_weight': 0.5430995701139247}. Best is trial 103 with value: 0.2872257611387223.\n"
     ]
    },
    {
     "name": "stdout",
     "output_type": "stream",
     "text": [
      "LinearCombinationRecommender: Fit completed in 0.00 seconds.\n",
      "EvaluatorHoldout: Processed 35595 (100.0%) in 1.87 min. Users per second: 317\n"
     ]
    },
    {
     "name": "stderr",
     "output_type": "stream",
     "text": [
      "[I 2024-12-31 05:27:11,213] Trial 137 finished with value: 0.28360290267475813 and parameters: {'norm': 2, 'itemknn_weight': 0.2002447684269983, 'slim_weight': 0.9304526120471639, 'rp3beta_weight': 0.0029577698265345065}. Best is trial 103 with value: 0.2872257611387223.\n"
     ]
    },
    {
     "name": "stdout",
     "output_type": "stream",
     "text": [
      "LinearCombinationRecommender: Fit completed in 0.00 seconds.\n",
      "EvaluatorHoldout: Processed 35595 (100.0%) in 1.98 min. Users per second: 300\n"
     ]
    },
    {
     "name": "stderr",
     "output_type": "stream",
     "text": [
      "[I 2024-12-31 05:29:10,093] Trial 138 finished with value: 0.28702117244183256 and parameters: {'norm': 2, 'itemknn_weight': 0.16878438406437626, 'slim_weight': 0.8840058782987104, 'rp3beta_weight': 0.7274542053984422}. Best is trial 103 with value: 0.2872257611387223.\n"
     ]
    },
    {
     "name": "stdout",
     "output_type": "stream",
     "text": [
      "LinearCombinationRecommender: Fit completed in 0.00 seconds.\n",
      "EvaluatorHoldout: Processed 35595 (100.0%) in 1.90 min. Users per second: 312\n"
     ]
    },
    {
     "name": "stderr",
     "output_type": "stream",
     "text": [
      "[I 2024-12-31 05:31:04,417] Trial 139 finished with value: 0.287193636371116 and parameters: {'norm': 2, 'itemknn_weight': 0.09993192241263862, 'slim_weight': 0.9782287145203158, 'rp3beta_weight': 0.6317804381409995}. Best is trial 103 with value: 0.2872257611387223.\n"
     ]
    },
    {
     "name": "stdout",
     "output_type": "stream",
     "text": [
      "LinearCombinationRecommender: Fit completed in 0.00 seconds.\n",
      "EvaluatorHoldout: Processed 35595 (100.0%) in 1.92 min. Users per second: 309\n"
     ]
    },
    {
     "name": "stderr",
     "output_type": "stream",
     "text": [
      "[I 2024-12-31 05:32:59,931] Trial 140 finished with value: 0.28419973850436453 and parameters: {'norm': 2, 'itemknn_weight': 0.11811716360505953, 'slim_weight': 0.23264921574070185, 'rp3beta_weight': 0.6250706954200917}. Best is trial 103 with value: 0.2872257611387223.\n"
     ]
    },
    {
     "name": "stdout",
     "output_type": "stream",
     "text": [
      "LinearCombinationRecommender: Fit completed in 0.00 seconds.\n",
      "EvaluatorHoldout: Processed 35595 (100.0%) in 1.88 min. Users per second: 316\n"
     ]
    },
    {
     "name": "stderr",
     "output_type": "stream",
     "text": [
      "[I 2024-12-31 05:34:52,697] Trial 141 finished with value: 0.2872035945580307 and parameters: {'norm': 2, 'itemknn_weight': 0.07123533758422809, 'slim_weight': 0.9724525898363224, 'rp3beta_weight': 0.6752362197276085}. Best is trial 103 with value: 0.2872257611387223.\n"
     ]
    },
    {
     "name": "stdout",
     "output_type": "stream",
     "text": [
      "LinearCombinationRecommender: Fit completed in 0.00 seconds.\n",
      "EvaluatorHoldout: Processed 35595 (100.0%) in 2.10 min. Users per second: 282\n"
     ]
    },
    {
     "name": "stderr",
     "output_type": "stream",
     "text": [
      "[I 2024-12-31 05:36:59,142] Trial 142 finished with value: 0.28706015601648416 and parameters: {'norm': 2, 'itemknn_weight': 0.09815117124547433, 'slim_weight': 0.9774125772715729, 'rp3beta_weight': 0.5974977922147173}. Best is trial 103 with value: 0.2872257611387223.\n"
     ]
    },
    {
     "name": "stdout",
     "output_type": "stream",
     "text": [
      "LinearCombinationRecommender: Fit completed in 0.00 seconds.\n",
      "EvaluatorHoldout: Processed 35595 (100.0%) in 2.21 min. Users per second: 268\n"
     ]
    },
    {
     "name": "stderr",
     "output_type": "stream",
     "text": [
      "[I 2024-12-31 05:39:11,962] Trial 143 finished with value: 0.28250816005258655 and parameters: {'norm': 2, 'itemknn_weight': 0.8737124318466816, 'slim_weight': 0.9753200805394213, 'rp3beta_weight': 0.6383083875617622}. Best is trial 103 with value: 0.2872257611387223.\n"
     ]
    },
    {
     "name": "stdout",
     "output_type": "stream",
     "text": [
      "LinearCombinationRecommender: Fit completed in 0.00 seconds.\n",
      "EvaluatorHoldout: Processed 35595 (100.0%) in 2.20 min. Users per second: 270\n"
     ]
    },
    {
     "name": "stderr",
     "output_type": "stream",
     "text": [
      "[I 2024-12-31 05:41:24,196] Trial 144 finished with value: 0.2869963788175774 and parameters: {'norm': 2, 'itemknn_weight': 0.06867725463762052, 'slim_weight': 0.9984770050223907, 'rp3beta_weight': 0.5571999423485469}. Best is trial 103 with value: 0.2872257611387223.\n"
     ]
    },
    {
     "name": "stdout",
     "output_type": "stream",
     "text": [
      "LinearCombinationRecommender: Fit completed in 0.00 seconds.\n",
      "EvaluatorHoldout: Processed 35595 (100.0%) in 2.20 min. Users per second: 270\n"
     ]
    },
    {
     "name": "stderr",
     "output_type": "stream",
     "text": [
      "[I 2024-12-31 05:43:36,229] Trial 145 finished with value: 0.28716775727534316 and parameters: {'norm': 2, 'itemknn_weight': 0.13920866902693466, 'slim_weight': 0.9334476018515634, 'rp3beta_weight': 0.5767342989493323}. Best is trial 103 with value: 0.2872257611387223.\n"
     ]
    },
    {
     "name": "stdout",
     "output_type": "stream",
     "text": [
      "LinearCombinationRecommender: Fit completed in 0.00 seconds.\n",
      "EvaluatorHoldout: Processed 35595 (100.0%) in 2.21 min. Users per second: 269\n"
     ]
    },
    {
     "name": "stderr",
     "output_type": "stream",
     "text": [
      "[I 2024-12-31 05:45:48,861] Trial 146 finished with value: 0.28709237692857204 and parameters: {'norm': 2, 'itemknn_weight': 0.030100182933179925, 'slim_weight': 0.909156429359223, 'rp3beta_weight': 0.686007934941719}. Best is trial 103 with value: 0.2872257611387223.\n"
     ]
    },
    {
     "name": "stdout",
     "output_type": "stream",
     "text": [
      "LinearCombinationRecommender: Fit completed in 0.00 seconds.\n",
      "EvaluatorHoldout: Processed 35595 (100.0%) in 2.20 min. Users per second: 270\n"
     ]
    },
    {
     "name": "stderr",
     "output_type": "stream",
     "text": [
      "[I 2024-12-31 05:48:01,105] Trial 147 finished with value: 0.2871272446044627 and parameters: {'norm': 2, 'itemknn_weight': 0.10300739943919132, 'slim_weight': 0.9597234413087751, 'rp3beta_weight': 0.6291764745159595}. Best is trial 103 with value: 0.2872257611387223.\n"
     ]
    },
    {
     "name": "stdout",
     "output_type": "stream",
     "text": [
      "LinearCombinationRecommender: Fit completed in 0.00 seconds.\n",
      "EvaluatorHoldout: Processed 35595 (100.0%) in 2.20 min. Users per second: 269\n"
     ]
    },
    {
     "name": "stderr",
     "output_type": "stream",
     "text": [
      "[I 2024-12-31 05:50:13,527] Trial 148 finished with value: 0.28430942074197957 and parameters: {'norm': -inf, 'itemknn_weight': 0.1566625241047429, 'slim_weight': 0.9371453944176876, 'rp3beta_weight': 0.6546828631195927}. Best is trial 103 with value: 0.2872257611387223.\n"
     ]
    },
    {
     "name": "stdout",
     "output_type": "stream",
     "text": [
      "LinearCombinationRecommender: Fit completed in 0.00 seconds.\n",
      "EvaluatorHoldout: Processed 35595 (100.0%) in 2.14 min. Users per second: 277\n"
     ]
    },
    {
     "name": "stderr",
     "output_type": "stream",
     "text": [
      "[I 2024-12-31 05:52:22,359] Trial 149 finished with value: 0.2871913971008685 and parameters: {'norm': 2, 'itemknn_weight': 0.07076997950751263, 'slim_weight': 0.8981311404269211, 'rp3beta_weight': 0.5985561519185562}. Best is trial 103 with value: 0.2872257611387223.\n"
     ]
    }
   ],
   "source": [
    "if config['tune_parameters']:\n",
    "    \n",
    "    optuna_study = optuna.create_study(direction='maximize', study_name=f'hyperparameters_tuning_{config[\"model\"]}_{config[\"metric\"]}',\n",
    "                                storage=f'sqlite:///{config[\"database_path\"]}', load_if_exists=True)\n",
    "\n",
    "    optuna_study.optimize(objective_function_, n_trials=100)"
   ]
  },
  {
   "cell_type": "markdown",
   "id": "66bf0dc0",
   "metadata": {
    "papermill": {
     "duration": 0.033227,
     "end_time": "2024-12-31T05:52:22.431108",
     "exception": false,
     "start_time": "2024-12-31T05:52:22.397881",
     "status": "completed"
    },
    "tags": []
   },
   "source": [
    "## Some optuna visualizations on recommender parameters"
   ]
  },
  {
   "cell_type": "code",
   "execution_count": 15,
   "id": "fd32178b",
   "metadata": {
    "execution": {
     "iopub.execute_input": "2024-12-31T05:52:22.498365Z",
     "iopub.status.busy": "2024-12-31T05:52:22.498033Z",
     "iopub.status.idle": "2024-12-31T05:52:23.489149Z",
     "shell.execute_reply": "2024-12-31T05:52:23.487920Z"
    },
    "papermill": {
     "duration": 1.026646,
     "end_time": "2024-12-31T05:52:23.490879",
     "exception": false,
     "start_time": "2024-12-31T05:52:22.464233",
     "status": "completed"
    },
    "tags": []
   },
   "outputs": [
    {
     "data": {
      "text/html": [
       "<html>\n",
       "<head><meta charset=\"utf-8\" /></head>\n",
       "<body>\n",
       "    <div>            <script src=\"https://cdnjs.cloudflare.com/ajax/libs/mathjax/2.7.5/MathJax.js?config=TeX-AMS-MML_SVG\"></script><script type=\"text/javascript\">if (window.MathJax && window.MathJax.Hub && window.MathJax.Hub.Config) {window.MathJax.Hub.Config({SVG: {font: \"STIX-Web\"}});}</script>                <script type=\"text/javascript\">window.PlotlyConfig = {MathJaxConfig: 'local'};</script>\n",
       "        <script charset=\"utf-8\" src=\"https://cdn.plot.ly/plotly-2.35.2.min.js\"></script>                <div id=\"acd2b547-b9bc-41f5-8155-c012bab83e72\" class=\"plotly-graph-div\" style=\"height:525px; width:1200px;\"></div>            <script type=\"text/javascript\">                                    window.PLOTLYENV=window.PLOTLYENV || {};                                    if (document.getElementById(\"acd2b547-b9bc-41f5-8155-c012bab83e72\")) {                    Plotly.newPlot(                        \"acd2b547-b9bc-41f5-8155-c012bab83e72\",                        [{\"marker\":{\"color\":[0,1,2,3,4,5,6,7,8,9,10,11,12,13,14,15,16,17,18,19,20,21,22,23,24,25,26,27,28,29,30,31,32,33,34,35,36,37,38,39,40,41,42,43,44,45,46,47,48,49,50,51,52,53,54,55,56,57,58,59,60,61,62,63,64,65,66,67,68,69,70,71,72,73,74,75,76,77,78,79,80,81,82,83,84,85,86,87,88,89,90,91,92,93,94,95,96,97,98,99,100,101,102,103,104,105,106,107,108,109,110,111,112,113,114,115,116,117,118,119,120,121,122,123,124,125,126,127,128,129,130,131,132,133,134,135,136,137,138,139,140,141,142,143,144,145,146,147,148,149],\"colorbar\":{\"title\":{\"text\":\"Trial\"},\"x\":1.0,\"xpad\":40},\"colorscale\":[[0.0,\"rgb(247,251,255)\"],[0.125,\"rgb(222,235,247)\"],[0.25,\"rgb(198,219,239)\"],[0.375,\"rgb(158,202,225)\"],[0.5,\"rgb(107,174,214)\"],[0.625,\"rgb(66,146,198)\"],[0.75,\"rgb(33,113,181)\"],[0.875,\"rgb(8,81,156)\"],[1.0,\"rgb(8,48,107)\"]],\"line\":{\"color\":\"Grey\",\"width\":0.5},\"showscale\":true},\"mode\":\"markers\",\"name\":\"Feasible Trial\",\"showlegend\":false,\"x\":[0.8017727686768834,0.8083539714554404,0.5000509896454106,0.313637694261203,0.00895418505395984,0.3755849491922407,0.24178957084040154,0.47482964311656894,0.5984604664568852,0.7699889989607855,0.07935019420489842,0.003535787779213444,0.02527560794102638,0.1516693392000785,0.9932920152356056,0.002446702646846412,0.20621954691008249,0.12220489287585018,0.32351837012544027,0.22112881667661513,0.07767379592199819,0.02594160485205798,0.003603094061744796,0.15846810103690265,0.08305876709446895,0.27146536997224785,0.39539012714742916,0.1751653124904663,0.07764749620136542,0.004904397911291561,0.6392670047019483,0.0003998246058797908,0.1077219439749195,0.05093102684040978,0.06958794741045823,0.14764146476671322,0.2873911473694052,0.19219698936158064,0.1340557797664313,0.38246213750965186,0.49866867065484466,0.1280965456553857,0.13160315316009874,0.24604773937667246,0.13658000933500927,0.14184789794653097,0.3221539474966364,0.12438425460031531,0.4480307272556454,0.5835796962184489,0.24525868146450577,0.18585131365688107,0.19040975299462978,0.11276081367086713,0.2929492923622396,0.21570405607485527,0.1563434843846938,0.05072767236372058,0.9614097625884614,0.1150618574816117,0.23119364801848788,0.11658327122393222,0.17185612537603379,0.09525749535270063,0.14520234623925318,0.04905921465565692,0.052528260456187206,0.03606217227071992,0.03771647677425341,0.19823496934707205,0.3501730655594489,0.08595522071997411,0.07726336727294128,0.03446575852746596,0.030554399754264466,0.0876786910234775,0.05170776992302058,0.024091735556596466,0.16570567618120316,0.06430714027618696,0.09899321990829932,0.730421817175622,0.14755462392838276,0.2635668284080135,0.020927543160237858,0.02520380632334862,0.0723301314713489,0.0092887940551823,0.0031375287934053003,0.09114515694142528,0.008238759767790645,0.05374607981893131,0.00323519506201401,0.002035705217605133,0.09282364342752679,0.12459346683994,0.06245169208017711,0.20671444154219398,0.0370935628146772,0.17458101275422502,0.1351098634465817,0.03353333318734976,0.10473618677107506,0.017299620849617694,0.07112999999695423,0.0641035126959593,0.10555312702262795,0.0810208538021525,0.04765115954753844,0.15971577513818097,0.04629879627831782,0.01960752866621121,0.06697661172551637,0.13311966518807253,0.18816246719333335,0.1856348199285035,0.22110713924728295,0.1407372227520876,0.12316106800966323,0.12216572822810791,0.16138787390948467,0.1256440982423322,0.09452662624568398,0.4148695625970935,0.18876114848528508,0.5927282334848161,0.5411300772487077,0.26211346064649166,0.1479688476142928,0.2406055050345606,0.10777946912342601,0.0789423712297863,0.07830381603140804,0.1309710290387165,0.08338599657823449,0.6729262373791727,0.04679298665505727,0.2002447684269983,0.16878438406437626,0.09993192241263862,0.11811716360505953,0.07123533758422809,0.09815117124547433,0.8737124318466816,0.06867725463762052,0.13920866902693466,0.030100182933179925,0.10300739943919132,0.1566625241047429,0.07076997950751263],\"y\":[0.2786669523180989,0.2798327233738146,0.28132168929217505,0.2829492536978141,0.28677552896728864,0.2738988440590412,0.28114332308373646,0.28227774854922827,0.2786982407112404,0.2764816330129587,0.2862756916829647,0.2869598351585682,0.28685592276919547,0.2834423818096713,0.2703595806158202,0.2864468983531747,0.27940470733595274,0.28491856908186763,0.27974474155151474,0.28325573669297066,0.28646312767266296,0.286988783056549,0.28696190578100983,0.28390745728241257,0.2861413849656841,0.281093708722353,0.27559020533174644,0.2867427893483177,0.2862567768227967,0.2846254462665733,0.2709003214487181,0.2869742311391852,0.2853356885385396,0.2870006038649443,0.2863818330146268,0.28721344892443607,0.28653135132982227,0.2866816188946735,0.28718195784440764,0.28327945028338253,0.27933926552418975,0.2871009786277772,0.2871992819654387,0.28683021897891503,0.2871362421450292,0.2869472482944987,0.2857288477477511,0.2857649385222292,0.2848871590727443,0.28488609606180826,0.2864708527359306,0.28700212243553147,0.2871834896167217,0.2870732400357829,0.2860139123917898,0.2867882844531252,0.287040551712494,0.286789361609891,0.28246732168048116,0.2857817569327104,0.28671092443571583,0.28704319843770304,0.2869361865579304,0.2870111921314195,0.2871218236211875,0.2871657404578732,0.2869611101621252,0.2871534670910183,0.2869069974061555,0.2866300096176104,0.2855994622589946,0.2871944052149148,0.28712936560810076,0.2871573230002769,0.28708347969885334,0.2858469210349435,0.2871202927869128,0.2870693723120949,0.2868034181535041,0.2866877078136422,0.2818870043870313,0.28318462395952804,0.28709260877009884,0.28629443476706246,0.2871469916133161,0.28424514934020784,0.28661152807923007,0.28715928284911274,0.2871694572620904,0.2852941699008397,0.28716229094325363,0.2869926896527922,0.28704505320670315,0.2870088472229995,0.2870009112481508,0.28699223364607196,0.2869827709612861,0.28683515444379626,0.28698288625062096,0.2862172159471432,0.28602008681428576,0.28717140862805723,0.2870814613783577,0.2872257611387223,0.28717109098469173,0.28712091977401255,0.2869664271441513,0.2870210792316712,0.2871691514484497,0.2870303630806243,0.28705788110396047,0.28710976248473274,0.28696898683577576,0.28720717466626267,0.28720625985918424,0.28714050005301256,0.28659198110853873,0.28712439716979027,0.2872165284198926,0.287123066519169,0.28701635718105706,0.2870972113860273,0.28703076676096084,0.2856611100598108,0.2869739665102932,0.2816430731265169,0.285057895209961,0.2864518788981633,0.28710531769369885,0.2866568732441158,0.28622097670359326,0.2872012132756375,0.28616733278189826,0.2869424175444677,0.2870583242098082,0.2836672960052507,0.286944880253325,0.28360290267475813,0.28702117244183256,0.287193636371116,0.28419973850436453,0.2872035945580307,0.28706015601648416,0.28250816005258655,0.2869963788175774,0.28716775727534316,0.28709237692857204,0.2871272446044627,0.28430942074197957,0.2871913971008685],\"type\":\"scatter\",\"xaxis\":\"x\",\"yaxis\":\"y\"},{\"marker\":{\"color\":[0,1,2,3,4,5,6,7,8,9,10,11,12,13,14,15,16,17,18,19,20,21,22,23,24,25,26,27,28,29,30,31,32,33,34,35,36,37,38,39,40,41,42,43,44,45,46,47,48,49,50,51,52,53,54,55,56,57,58,59,60,61,62,63,64,65,66,67,68,69,70,71,72,73,74,75,76,77,78,79,80,81,82,83,84,85,86,87,88,89,90,91,92,93,94,95,96,97,98,99,100,101,102,103,104,105,106,107,108,109,110,111,112,113,114,115,116,117,118,119,120,121,122,123,124,125,126,127,128,129,130,131,132,133,134,135,136,137,138,139,140,141,142,143,144,145,146,147,148,149],\"colorbar\":{\"title\":{\"text\":\"Trial\"},\"x\":1.0,\"xpad\":40},\"colorscale\":[[0.0,\"rgb(247,251,255)\"],[0.125,\"rgb(222,235,247)\"],[0.25,\"rgb(198,219,239)\"],[0.375,\"rgb(158,202,225)\"],[0.5,\"rgb(107,174,214)\"],[0.625,\"rgb(66,146,198)\"],[0.75,\"rgb(33,113,181)\"],[0.875,\"rgb(8,81,156)\"],[1.0,\"rgb(8,48,107)\"]],\"line\":{\"color\":\"Grey\",\"width\":0.5},\"showscale\":false},\"mode\":\"markers\",\"name\":\"Feasible Trial\",\"showlegend\":false,\"x\":[null,2,null,1,null,null,2,2,null,2,null,null,null,null,null,1,null,null,null,1,null,null,null,null,null,null,null,null,1,null,null,null,null,null,null,2,2,2,2,2,2,2,2,2,2,2,2,2,2,2,2,2,2,2,2,2,2,2,2,1,null,2,2,2,2,2,2,2,1,null,2,2,2,2,2,2,2,2,2,2,1,2,2,2,2,2,null,2,2,2,2,2,2,2,2,2,2,2,2,2,1,2,2,2,2,2,null,2,2,2,2,2,2,2,2,2,2,2,2,2,2,2,2,2,2,1,2,null,2,2,2,2,2,2,2,2,2,2,2,2,2,2,2,2,2,2,2,2,null,2],\"y\":[0.2786669523180989,0.2798327233738146,0.28132168929217505,0.2829492536978141,0.28677552896728864,0.2738988440590412,0.28114332308373646,0.28227774854922827,0.2786982407112404,0.2764816330129587,0.2862756916829647,0.2869598351585682,0.28685592276919547,0.2834423818096713,0.2703595806158202,0.2864468983531747,0.27940470733595274,0.28491856908186763,0.27974474155151474,0.28325573669297066,0.28646312767266296,0.286988783056549,0.28696190578100983,0.28390745728241257,0.2861413849656841,0.281093708722353,0.27559020533174644,0.2867427893483177,0.2862567768227967,0.2846254462665733,0.2709003214487181,0.2869742311391852,0.2853356885385396,0.2870006038649443,0.2863818330146268,0.28721344892443607,0.28653135132982227,0.2866816188946735,0.28718195784440764,0.28327945028338253,0.27933926552418975,0.2871009786277772,0.2871992819654387,0.28683021897891503,0.2871362421450292,0.2869472482944987,0.2857288477477511,0.2857649385222292,0.2848871590727443,0.28488609606180826,0.2864708527359306,0.28700212243553147,0.2871834896167217,0.2870732400357829,0.2860139123917898,0.2867882844531252,0.287040551712494,0.286789361609891,0.28246732168048116,0.2857817569327104,0.28671092443571583,0.28704319843770304,0.2869361865579304,0.2870111921314195,0.2871218236211875,0.2871657404578732,0.2869611101621252,0.2871534670910183,0.2869069974061555,0.2866300096176104,0.2855994622589946,0.2871944052149148,0.28712936560810076,0.2871573230002769,0.28708347969885334,0.2858469210349435,0.2871202927869128,0.2870693723120949,0.2868034181535041,0.2866877078136422,0.2818870043870313,0.28318462395952804,0.28709260877009884,0.28629443476706246,0.2871469916133161,0.28424514934020784,0.28661152807923007,0.28715928284911274,0.2871694572620904,0.2852941699008397,0.28716229094325363,0.2869926896527922,0.28704505320670315,0.2870088472229995,0.2870009112481508,0.28699223364607196,0.2869827709612861,0.28683515444379626,0.28698288625062096,0.2862172159471432,0.28602008681428576,0.28717140862805723,0.2870814613783577,0.2872257611387223,0.28717109098469173,0.28712091977401255,0.2869664271441513,0.2870210792316712,0.2871691514484497,0.2870303630806243,0.28705788110396047,0.28710976248473274,0.28696898683577576,0.28720717466626267,0.28720625985918424,0.28714050005301256,0.28659198110853873,0.28712439716979027,0.2872165284198926,0.287123066519169,0.28701635718105706,0.2870972113860273,0.28703076676096084,0.2856611100598108,0.2869739665102932,0.2816430731265169,0.285057895209961,0.2864518788981633,0.28710531769369885,0.2866568732441158,0.28622097670359326,0.2872012132756375,0.28616733278189826,0.2869424175444677,0.2870583242098082,0.2836672960052507,0.286944880253325,0.28360290267475813,0.28702117244183256,0.287193636371116,0.28419973850436453,0.2872035945580307,0.28706015601648416,0.28250816005258655,0.2869963788175774,0.28716775727534316,0.28709237692857204,0.2871272446044627,0.28430942074197957,0.2871913971008685],\"type\":\"scatter\",\"xaxis\":\"x2\",\"yaxis\":\"y2\"},{\"marker\":{\"color\":[0,1,2,3,4,5,6,7,8,9,10,11,12,13,14,15,16,17,18,19,20,21,22,23,24,25,26,27,28,29,30,31,32,33,34,35,36,37,38,39,40,41,42,43,44,45,46,47,48,49,50,51,52,53,54,55,56,57,58,59,60,61,62,63,64,65,66,67,68,69,70,71,72,73,74,75,76,77,78,79,80,81,82,83,84,85,86,87,88,89,90,91,92,93,94,95,96,97,98,99,100,101,102,103,104,105,106,107,108,109,110,111,112,113,114,115,116,117,118,119,120,121,122,123,124,125,126,127,128,129,130,131,132,133,134,135,136,137,138,139,140,141,142,143,144,145,146,147,148,149],\"colorbar\":{\"title\":{\"text\":\"Trial\"},\"x\":1.0,\"xpad\":40},\"colorscale\":[[0.0,\"rgb(247,251,255)\"],[0.125,\"rgb(222,235,247)\"],[0.25,\"rgb(198,219,239)\"],[0.375,\"rgb(158,202,225)\"],[0.5,\"rgb(107,174,214)\"],[0.625,\"rgb(66,146,198)\"],[0.75,\"rgb(33,113,181)\"],[0.875,\"rgb(8,81,156)\"],[1.0,\"rgb(8,48,107)\"]],\"line\":{\"color\":\"Grey\",\"width\":0.5},\"showscale\":false},\"mode\":\"markers\",\"name\":\"Feasible Trial\",\"showlegend\":false,\"x\":[0.9307542841476057,0.7235596186873365,0.8645180341763296,0.9956052800407162,0.6261053069090143,0.46366497264153117,0.7507218881854908,0.34661459257857363,0.11713013018899499,0.05273149037333291,0.6239086083091625,0.5925674588925747,0.4991298785732343,0.33609388077812885,0.3628971458805211,0.5183899477543434,0.18997752649398414,0.5032871191463861,0.6421317489542888,0.21374605308955374,0.7974990310891047,0.6203116989754509,0.5817284920608365,0.5798793603204341,0.7289291095298283,0.6724943628804272,0.4181329226551922,0.553902255205988,0.8018503912688544,0.43835422799405177,0.26334632514422146,0.558337351577856,0.5696739994705858,0.6987604626586648,0.9041713650704739,0.6723675826025292,0.6941602558780239,0.8450028267401128,0.7730254610910653,0.771647683937844,0.9524357681516783,0.7019042256316014,0.7071643062389888,0.8510122691809919,0.6816476998107995,0.7662919676472666,0.6670327985451188,0.7301332682139754,0.9081073750481905,0.8232349277498803,0.9583437054878754,0.7033575669293866,0.650086876597801,0.6370737717155706,0.7521579954688431,0.6131335615669236,0.6648906090712527,0.8760462144392593,0.7878218805597925,0.7266425199482509,0.6629099966509776,0.6369769310812363,0.5099039208768752,0.541088258326746,0.6065200693514552,0.5953335410972277,0.47921345820720657,0.6005660073277428,0.533864271088222,0.5935374362989991,0.7424107043007488,0.5966450128414083,0.6438253504456817,0.5899965970419236,0.47765820840684586,0.584840526499931,0.6083816433828764,0.5558381024653498,0.4280590894140241,0.38153896890838057,0.5195895263054148,0.6806671480655246,0.7153072467914703,0.6590145611811074,0.6895305977959738,0.07078780988873956,0.8083386546820838,0.6276263549911576,0.5743691774384995,0.6247727548221895,0.5656821641965522,0.5713602079766193,0.5332484286485879,0.646681374399612,0.4559609538417978,0.5711970141439178,0.49395731116210856,0.7732464058487373,0.6241274133961032,0.5496504965930519,0.7130693870418385,0.5953643601068511,0.5998533849919326,0.6443092162022601,0.6541128556678867,0.7484508591200444,0.6562794341443806,0.6913952140643048,0.6715519789098149,0.6726786739586402,0.7283461869835903,0.6356819041007731,0.5765068941496191,0.6094481646699964,0.6115989308633162,0.615309232197705,0.7056048692646918,0.6517119788806798,0.7617859082759516,0.7671454786039321,0.7398160135346266,0.6798617383433894,0.8110126006268346,0.6676480579373196,0.7877481186523558,0.6408957080506738,0.8431667008159313,0.7079543685986209,0.6898207833811159,0.6141690650187225,0.7553197598556118,0.5945480545392029,0.5876324054788893,0.5218390770938319,0.6522678350020977,0.6134517587082489,0.5430995701139247,0.0029577698265345065,0.7274542053984422,0.6317804381409995,0.6250706954200917,0.6752362197276085,0.5974977922147173,0.6383083875617622,0.5571999423485469,0.5767342989493323,0.686007934941719,0.6291764745159595,0.6546828631195927,0.5985561519185562],\"y\":[0.2786669523180989,0.2798327233738146,0.28132168929217505,0.2829492536978141,0.28677552896728864,0.2738988440590412,0.28114332308373646,0.28227774854922827,0.2786982407112404,0.2764816330129587,0.2862756916829647,0.2869598351585682,0.28685592276919547,0.2834423818096713,0.2703595806158202,0.2864468983531747,0.27940470733595274,0.28491856908186763,0.27974474155151474,0.28325573669297066,0.28646312767266296,0.286988783056549,0.28696190578100983,0.28390745728241257,0.2861413849656841,0.281093708722353,0.27559020533174644,0.2867427893483177,0.2862567768227967,0.2846254462665733,0.2709003214487181,0.2869742311391852,0.2853356885385396,0.2870006038649443,0.2863818330146268,0.28721344892443607,0.28653135132982227,0.2866816188946735,0.28718195784440764,0.28327945028338253,0.27933926552418975,0.2871009786277772,0.2871992819654387,0.28683021897891503,0.2871362421450292,0.2869472482944987,0.2857288477477511,0.2857649385222292,0.2848871590727443,0.28488609606180826,0.2864708527359306,0.28700212243553147,0.2871834896167217,0.2870732400357829,0.2860139123917898,0.2867882844531252,0.287040551712494,0.286789361609891,0.28246732168048116,0.2857817569327104,0.28671092443571583,0.28704319843770304,0.2869361865579304,0.2870111921314195,0.2871218236211875,0.2871657404578732,0.2869611101621252,0.2871534670910183,0.2869069974061555,0.2866300096176104,0.2855994622589946,0.2871944052149148,0.28712936560810076,0.2871573230002769,0.28708347969885334,0.2858469210349435,0.2871202927869128,0.2870693723120949,0.2868034181535041,0.2866877078136422,0.2818870043870313,0.28318462395952804,0.28709260877009884,0.28629443476706246,0.2871469916133161,0.28424514934020784,0.28661152807923007,0.28715928284911274,0.2871694572620904,0.2852941699008397,0.28716229094325363,0.2869926896527922,0.28704505320670315,0.2870088472229995,0.2870009112481508,0.28699223364607196,0.2869827709612861,0.28683515444379626,0.28698288625062096,0.2862172159471432,0.28602008681428576,0.28717140862805723,0.2870814613783577,0.2872257611387223,0.28717109098469173,0.28712091977401255,0.2869664271441513,0.2870210792316712,0.2871691514484497,0.2870303630806243,0.28705788110396047,0.28710976248473274,0.28696898683577576,0.28720717466626267,0.28720625985918424,0.28714050005301256,0.28659198110853873,0.28712439716979027,0.2872165284198926,0.287123066519169,0.28701635718105706,0.2870972113860273,0.28703076676096084,0.2856611100598108,0.2869739665102932,0.2816430731265169,0.285057895209961,0.2864518788981633,0.28710531769369885,0.2866568732441158,0.28622097670359326,0.2872012132756375,0.28616733278189826,0.2869424175444677,0.2870583242098082,0.2836672960052507,0.286944880253325,0.28360290267475813,0.28702117244183256,0.287193636371116,0.28419973850436453,0.2872035945580307,0.28706015601648416,0.28250816005258655,0.2869963788175774,0.28716775727534316,0.28709237692857204,0.2871272446044627,0.28430942074197957,0.2871913971008685],\"type\":\"scatter\",\"xaxis\":\"x3\",\"yaxis\":\"y3\"},{\"marker\":{\"color\":[0,1,2,3,4,5,6,7,8,9,10,11,12,13,14,15,16,17,18,19,20,21,22,23,24,25,26,27,28,29,30,31,32,33,34,35,36,37,38,39,40,41,42,43,44,45,46,47,48,49,50,51,52,53,54,55,56,57,58,59,60,61,62,63,64,65,66,67,68,69,70,71,72,73,74,75,76,77,78,79,80,81,82,83,84,85,86,87,88,89,90,91,92,93,94,95,96,97,98,99,100,101,102,103,104,105,106,107,108,109,110,111,112,113,114,115,116,117,118,119,120,121,122,123,124,125,126,127,128,129,130,131,132,133,134,135,136,137,138,139,140,141,142,143,144,145,146,147,148,149],\"colorbar\":{\"title\":{\"text\":\"Trial\"},\"x\":1.0,\"xpad\":40},\"colorscale\":[[0.0,\"rgb(247,251,255)\"],[0.125,\"rgb(222,235,247)\"],[0.25,\"rgb(198,219,239)\"],[0.375,\"rgb(158,202,225)\"],[0.5,\"rgb(107,174,214)\"],[0.625,\"rgb(66,146,198)\"],[0.75,\"rgb(33,113,181)\"],[0.875,\"rgb(8,81,156)\"],[1.0,\"rgb(8,48,107)\"]],\"line\":{\"color\":\"Grey\",\"width\":0.5},\"showscale\":false},\"mode\":\"markers\",\"name\":\"Feasible Trial\",\"showlegend\":false,\"x\":[0.06805974943560078,0.3302456909514888,0.16666809466611943,0.4216987111189996,0.4294937855765637,0.3841634177993525,0.06676115292015639,0.4849586782571773,0.5292810716399091,0.5983854447861612,0.894142137563047,0.9371999408391409,0.9645125061805467,0.9679090709788495,0.8016582139584779,0.7286051936416741,0.7026661282352165,0.9988458870270168,0.8477079730103438,0.6486114121721113,0.8161662761280853,0.8994715831658237,0.9178852084574608,0.8971336308623911,0.7534539821205087,0.9043662831971244,0.6534357463205853,0.8009254640147296,0.9165263906444441,0.25350045708929736,0.5706806502813644,0.95648527952069,0.8580775343820929,0.9530568928490322,0.7845100621196431,0.9888439113534109,0.9767221361646804,0.8542565856481682,0.9910446054377802,0.2753781932181986,0.0045101760109323985,0.9707476332796675,0.8584233384022477,0.9977308960442981,0.8617270072466775,0.8516859249796722,0.7571746675815916,0.48023001805246496,0.7028281045298339,0.9439109357216166,0.877901273646617,0.9400289999711476,0.9416073769976815,0.9987345779268203,0.8424364644044762,0.8228310538509842,0.8868732962739493,0.9313756573450477,0.9696710266362693,0.7628982718529221,0.998898892055841,0.9884061430246084,0.9209185196357998,0.8754767774973222,0.9591867446435961,0.9148293544145684,0.813706012310291,0.904909414591318,0.9018340354362054,0.8225004028376544,0.7213684444288846,0.9338884127676332,0.9231650040512688,0.8781895405698736,0.7822127691129337,0.39996277445768946,0.8945496779897236,0.9442774801775007,0.6400780164358528,0.914055338562956,0.11672080990592759,0.8680575525976009,0.864496226035761,0.8411325605740193,0.9685389046577672,0.9590231862675438,0.9784263421281529,0.9312997512952175,0.9324422335942265,0.34085317061098586,0.9386934531846424,0.9381101917579006,0.9291854021627157,0.8856219724930328,0.9491677759518188,0.9843363435788202,0.9102633695438285,0.8417177225940832,0.7923857022422033,0.5176567060909867,0.8820102807331144,0.9053451591773263,0.9282956701173409,0.9748612647441139,0.9708226469521257,0.997343835011629,0.9727849816399896,0.9661075041919498,0.9503266147950229,0.9089985851126872,0.9539709921989955,0.9441631978665839,0.9826784958987529,0.8999080633033344,0.8969049044419902,0.8912340460847584,0.8284621590199454,0.9803132835335475,0.9590385142093201,0.9964388574643167,0.9006057747206571,0.9609931366175866,0.9227806174246577,0.9488989963841035,0.8577405530450064,0.961434865704631,0.9208673656414968,0.9766446701078779,0.871541652561193,0.895645543346304,0.5844429788373646,0.9115489488714416,0.45188712730818614,0.9434895765097724,0.9137247218355177,0.9986165199655359,0.9587117174174498,0.9304526120471639,0.8840058782987104,0.9782287145203158,0.23264921574070185,0.9724525898363224,0.9774125772715729,0.9753200805394213,0.9984770050223907,0.9334476018515634,0.909156429359223,0.9597234413087751,0.9371453944176876,0.8981311404269211],\"y\":[0.2786669523180989,0.2798327233738146,0.28132168929217505,0.2829492536978141,0.28677552896728864,0.2738988440590412,0.28114332308373646,0.28227774854922827,0.2786982407112404,0.2764816330129587,0.2862756916829647,0.2869598351585682,0.28685592276919547,0.2834423818096713,0.2703595806158202,0.2864468983531747,0.27940470733595274,0.28491856908186763,0.27974474155151474,0.28325573669297066,0.28646312767266296,0.286988783056549,0.28696190578100983,0.28390745728241257,0.2861413849656841,0.281093708722353,0.27559020533174644,0.2867427893483177,0.2862567768227967,0.2846254462665733,0.2709003214487181,0.2869742311391852,0.2853356885385396,0.2870006038649443,0.2863818330146268,0.28721344892443607,0.28653135132982227,0.2866816188946735,0.28718195784440764,0.28327945028338253,0.27933926552418975,0.2871009786277772,0.2871992819654387,0.28683021897891503,0.2871362421450292,0.2869472482944987,0.2857288477477511,0.2857649385222292,0.2848871590727443,0.28488609606180826,0.2864708527359306,0.28700212243553147,0.2871834896167217,0.2870732400357829,0.2860139123917898,0.2867882844531252,0.287040551712494,0.286789361609891,0.28246732168048116,0.2857817569327104,0.28671092443571583,0.28704319843770304,0.2869361865579304,0.2870111921314195,0.2871218236211875,0.2871657404578732,0.2869611101621252,0.2871534670910183,0.2869069974061555,0.2866300096176104,0.2855994622589946,0.2871944052149148,0.28712936560810076,0.2871573230002769,0.28708347969885334,0.2858469210349435,0.2871202927869128,0.2870693723120949,0.2868034181535041,0.2866877078136422,0.2818870043870313,0.28318462395952804,0.28709260877009884,0.28629443476706246,0.2871469916133161,0.28424514934020784,0.28661152807923007,0.28715928284911274,0.2871694572620904,0.2852941699008397,0.28716229094325363,0.2869926896527922,0.28704505320670315,0.2870088472229995,0.2870009112481508,0.28699223364607196,0.2869827709612861,0.28683515444379626,0.28698288625062096,0.2862172159471432,0.28602008681428576,0.28717140862805723,0.2870814613783577,0.2872257611387223,0.28717109098469173,0.28712091977401255,0.2869664271441513,0.2870210792316712,0.2871691514484497,0.2870303630806243,0.28705788110396047,0.28710976248473274,0.28696898683577576,0.28720717466626267,0.28720625985918424,0.28714050005301256,0.28659198110853873,0.28712439716979027,0.2872165284198926,0.287123066519169,0.28701635718105706,0.2870972113860273,0.28703076676096084,0.2856611100598108,0.2869739665102932,0.2816430731265169,0.285057895209961,0.2864518788981633,0.28710531769369885,0.2866568732441158,0.28622097670359326,0.2872012132756375,0.28616733278189826,0.2869424175444677,0.2870583242098082,0.2836672960052507,0.286944880253325,0.28360290267475813,0.28702117244183256,0.287193636371116,0.28419973850436453,0.2872035945580307,0.28706015601648416,0.28250816005258655,0.2869963788175774,0.28716775727534316,0.28709237692857204,0.2871272446044627,0.28430942074197957,0.2871913971008685],\"type\":\"scatter\",\"xaxis\":\"x4\",\"yaxis\":\"y4\"}],                        {\"template\":{\"data\":{\"histogram2dcontour\":[{\"type\":\"histogram2dcontour\",\"colorbar\":{\"outlinewidth\":0,\"ticks\":\"\"},\"colorscale\":[[0.0,\"#0d0887\"],[0.1111111111111111,\"#46039f\"],[0.2222222222222222,\"#7201a8\"],[0.3333333333333333,\"#9c179e\"],[0.4444444444444444,\"#bd3786\"],[0.5555555555555556,\"#d8576b\"],[0.6666666666666666,\"#ed7953\"],[0.7777777777777778,\"#fb9f3a\"],[0.8888888888888888,\"#fdca26\"],[1.0,\"#f0f921\"]]}],\"choropleth\":[{\"type\":\"choropleth\",\"colorbar\":{\"outlinewidth\":0,\"ticks\":\"\"}}],\"histogram2d\":[{\"type\":\"histogram2d\",\"colorbar\":{\"outlinewidth\":0,\"ticks\":\"\"},\"colorscale\":[[0.0,\"#0d0887\"],[0.1111111111111111,\"#46039f\"],[0.2222222222222222,\"#7201a8\"],[0.3333333333333333,\"#9c179e\"],[0.4444444444444444,\"#bd3786\"],[0.5555555555555556,\"#d8576b\"],[0.6666666666666666,\"#ed7953\"],[0.7777777777777778,\"#fb9f3a\"],[0.8888888888888888,\"#fdca26\"],[1.0,\"#f0f921\"]]}],\"heatmap\":[{\"type\":\"heatmap\",\"colorbar\":{\"outlinewidth\":0,\"ticks\":\"\"},\"colorscale\":[[0.0,\"#0d0887\"],[0.1111111111111111,\"#46039f\"],[0.2222222222222222,\"#7201a8\"],[0.3333333333333333,\"#9c179e\"],[0.4444444444444444,\"#bd3786\"],[0.5555555555555556,\"#d8576b\"],[0.6666666666666666,\"#ed7953\"],[0.7777777777777778,\"#fb9f3a\"],[0.8888888888888888,\"#fdca26\"],[1.0,\"#f0f921\"]]}],\"heatmapgl\":[{\"type\":\"heatmapgl\",\"colorbar\":{\"outlinewidth\":0,\"ticks\":\"\"},\"colorscale\":[[0.0,\"#0d0887\"],[0.1111111111111111,\"#46039f\"],[0.2222222222222222,\"#7201a8\"],[0.3333333333333333,\"#9c179e\"],[0.4444444444444444,\"#bd3786\"],[0.5555555555555556,\"#d8576b\"],[0.6666666666666666,\"#ed7953\"],[0.7777777777777778,\"#fb9f3a\"],[0.8888888888888888,\"#fdca26\"],[1.0,\"#f0f921\"]]}],\"contourcarpet\":[{\"type\":\"contourcarpet\",\"colorbar\":{\"outlinewidth\":0,\"ticks\":\"\"}}],\"contour\":[{\"type\":\"contour\",\"colorbar\":{\"outlinewidth\":0,\"ticks\":\"\"},\"colorscale\":[[0.0,\"#0d0887\"],[0.1111111111111111,\"#46039f\"],[0.2222222222222222,\"#7201a8\"],[0.3333333333333333,\"#9c179e\"],[0.4444444444444444,\"#bd3786\"],[0.5555555555555556,\"#d8576b\"],[0.6666666666666666,\"#ed7953\"],[0.7777777777777778,\"#fb9f3a\"],[0.8888888888888888,\"#fdca26\"],[1.0,\"#f0f921\"]]}],\"surface\":[{\"type\":\"surface\",\"colorbar\":{\"outlinewidth\":0,\"ticks\":\"\"},\"colorscale\":[[0.0,\"#0d0887\"],[0.1111111111111111,\"#46039f\"],[0.2222222222222222,\"#7201a8\"],[0.3333333333333333,\"#9c179e\"],[0.4444444444444444,\"#bd3786\"],[0.5555555555555556,\"#d8576b\"],[0.6666666666666666,\"#ed7953\"],[0.7777777777777778,\"#fb9f3a\"],[0.8888888888888888,\"#fdca26\"],[1.0,\"#f0f921\"]]}],\"mesh3d\":[{\"type\":\"mesh3d\",\"colorbar\":{\"outlinewidth\":0,\"ticks\":\"\"}}],\"scatter\":[{\"fillpattern\":{\"fillmode\":\"overlay\",\"size\":10,\"solidity\":0.2},\"type\":\"scatter\"}],\"parcoords\":[{\"type\":\"parcoords\",\"line\":{\"colorbar\":{\"outlinewidth\":0,\"ticks\":\"\"}}}],\"scatterpolargl\":[{\"type\":\"scatterpolargl\",\"marker\":{\"colorbar\":{\"outlinewidth\":0,\"ticks\":\"\"}}}],\"bar\":[{\"error_x\":{\"color\":\"#2a3f5f\"},\"error_y\":{\"color\":\"#2a3f5f\"},\"marker\":{\"line\":{\"color\":\"#E5ECF6\",\"width\":0.5},\"pattern\":{\"fillmode\":\"overlay\",\"size\":10,\"solidity\":0.2}},\"type\":\"bar\"}],\"scattergeo\":[{\"type\":\"scattergeo\",\"marker\":{\"colorbar\":{\"outlinewidth\":0,\"ticks\":\"\"}}}],\"scatterpolar\":[{\"type\":\"scatterpolar\",\"marker\":{\"colorbar\":{\"outlinewidth\":0,\"ticks\":\"\"}}}],\"histogram\":[{\"marker\":{\"pattern\":{\"fillmode\":\"overlay\",\"size\":10,\"solidity\":0.2}},\"type\":\"histogram\"}],\"scattergl\":[{\"type\":\"scattergl\",\"marker\":{\"colorbar\":{\"outlinewidth\":0,\"ticks\":\"\"}}}],\"scatter3d\":[{\"type\":\"scatter3d\",\"line\":{\"colorbar\":{\"outlinewidth\":0,\"ticks\":\"\"}},\"marker\":{\"colorbar\":{\"outlinewidth\":0,\"ticks\":\"\"}}}],\"scattermapbox\":[{\"type\":\"scattermapbox\",\"marker\":{\"colorbar\":{\"outlinewidth\":0,\"ticks\":\"\"}}}],\"scatterternary\":[{\"type\":\"scatterternary\",\"marker\":{\"colorbar\":{\"outlinewidth\":0,\"ticks\":\"\"}}}],\"scattercarpet\":[{\"type\":\"scattercarpet\",\"marker\":{\"colorbar\":{\"outlinewidth\":0,\"ticks\":\"\"}}}],\"carpet\":[{\"aaxis\":{\"endlinecolor\":\"#2a3f5f\",\"gridcolor\":\"white\",\"linecolor\":\"white\",\"minorgridcolor\":\"white\",\"startlinecolor\":\"#2a3f5f\"},\"baxis\":{\"endlinecolor\":\"#2a3f5f\",\"gridcolor\":\"white\",\"linecolor\":\"white\",\"minorgridcolor\":\"white\",\"startlinecolor\":\"#2a3f5f\"},\"type\":\"carpet\"}],\"table\":[{\"cells\":{\"fill\":{\"color\":\"#EBF0F8\"},\"line\":{\"color\":\"white\"}},\"header\":{\"fill\":{\"color\":\"#C8D4E3\"},\"line\":{\"color\":\"white\"}},\"type\":\"table\"}],\"barpolar\":[{\"marker\":{\"line\":{\"color\":\"#E5ECF6\",\"width\":0.5},\"pattern\":{\"fillmode\":\"overlay\",\"size\":10,\"solidity\":0.2}},\"type\":\"barpolar\"}],\"pie\":[{\"automargin\":true,\"type\":\"pie\"}]},\"layout\":{\"autotypenumbers\":\"strict\",\"colorway\":[\"#636efa\",\"#EF553B\",\"#00cc96\",\"#ab63fa\",\"#FFA15A\",\"#19d3f3\",\"#FF6692\",\"#B6E880\",\"#FF97FF\",\"#FECB52\"],\"font\":{\"color\":\"#2a3f5f\"},\"hovermode\":\"closest\",\"hoverlabel\":{\"align\":\"left\"},\"paper_bgcolor\":\"white\",\"plot_bgcolor\":\"#E5ECF6\",\"polar\":{\"bgcolor\":\"#E5ECF6\",\"angularaxis\":{\"gridcolor\":\"white\",\"linecolor\":\"white\",\"ticks\":\"\"},\"radialaxis\":{\"gridcolor\":\"white\",\"linecolor\":\"white\",\"ticks\":\"\"}},\"ternary\":{\"bgcolor\":\"#E5ECF6\",\"aaxis\":{\"gridcolor\":\"white\",\"linecolor\":\"white\",\"ticks\":\"\"},\"baxis\":{\"gridcolor\":\"white\",\"linecolor\":\"white\",\"ticks\":\"\"},\"caxis\":{\"gridcolor\":\"white\",\"linecolor\":\"white\",\"ticks\":\"\"}},\"coloraxis\":{\"colorbar\":{\"outlinewidth\":0,\"ticks\":\"\"}},\"colorscale\":{\"sequential\":[[0.0,\"#0d0887\"],[0.1111111111111111,\"#46039f\"],[0.2222222222222222,\"#7201a8\"],[0.3333333333333333,\"#9c179e\"],[0.4444444444444444,\"#bd3786\"],[0.5555555555555556,\"#d8576b\"],[0.6666666666666666,\"#ed7953\"],[0.7777777777777778,\"#fb9f3a\"],[0.8888888888888888,\"#fdca26\"],[1.0,\"#f0f921\"]],\"sequentialminus\":[[0.0,\"#0d0887\"],[0.1111111111111111,\"#46039f\"],[0.2222222222222222,\"#7201a8\"],[0.3333333333333333,\"#9c179e\"],[0.4444444444444444,\"#bd3786\"],[0.5555555555555556,\"#d8576b\"],[0.6666666666666666,\"#ed7953\"],[0.7777777777777778,\"#fb9f3a\"],[0.8888888888888888,\"#fdca26\"],[1.0,\"#f0f921\"]],\"diverging\":[[0,\"#8e0152\"],[0.1,\"#c51b7d\"],[0.2,\"#de77ae\"],[0.3,\"#f1b6da\"],[0.4,\"#fde0ef\"],[0.5,\"#f7f7f7\"],[0.6,\"#e6f5d0\"],[0.7,\"#b8e186\"],[0.8,\"#7fbc41\"],[0.9,\"#4d9221\"],[1,\"#276419\"]]},\"xaxis\":{\"gridcolor\":\"white\",\"linecolor\":\"white\",\"ticks\":\"\",\"title\":{\"standoff\":15},\"zerolinecolor\":\"white\",\"automargin\":true,\"zerolinewidth\":2},\"yaxis\":{\"gridcolor\":\"white\",\"linecolor\":\"white\",\"ticks\":\"\",\"title\":{\"standoff\":15},\"zerolinecolor\":\"white\",\"automargin\":true,\"zerolinewidth\":2},\"scene\":{\"xaxis\":{\"backgroundcolor\":\"#E5ECF6\",\"gridcolor\":\"white\",\"linecolor\":\"white\",\"showbackground\":true,\"ticks\":\"\",\"zerolinecolor\":\"white\",\"gridwidth\":2},\"yaxis\":{\"backgroundcolor\":\"#E5ECF6\",\"gridcolor\":\"white\",\"linecolor\":\"white\",\"showbackground\":true,\"ticks\":\"\",\"zerolinecolor\":\"white\",\"gridwidth\":2},\"zaxis\":{\"backgroundcolor\":\"#E5ECF6\",\"gridcolor\":\"white\",\"linecolor\":\"white\",\"showbackground\":true,\"ticks\":\"\",\"zerolinecolor\":\"white\",\"gridwidth\":2}},\"shapedefaults\":{\"line\":{\"color\":\"#2a3f5f\"}},\"annotationdefaults\":{\"arrowcolor\":\"#2a3f5f\",\"arrowhead\":0,\"arrowwidth\":1},\"geo\":{\"bgcolor\":\"white\",\"landcolor\":\"#E5ECF6\",\"subunitcolor\":\"white\",\"showland\":true,\"showlakes\":true,\"lakecolor\":\"white\"},\"title\":{\"x\":0.05},\"mapbox\":{\"style\":\"light\"}}},\"xaxis\":{\"anchor\":\"y\",\"domain\":[0.0,0.2125],\"title\":{\"text\":\"itemknn_weight\"}},\"yaxis\":{\"anchor\":\"x\",\"domain\":[0.0,1.0],\"title\":{\"text\":\"Objective Value\"}},\"xaxis2\":{\"anchor\":\"y2\",\"domain\":[0.2625,0.475],\"title\":{\"text\":\"norm\"},\"type\":\"category\",\"categoryorder\":\"array\",\"categoryarray\":[1,2,null,null]},\"yaxis2\":{\"anchor\":\"x2\",\"domain\":[0.0,1.0],\"matches\":\"y\",\"showticklabels\":false},\"xaxis3\":{\"anchor\":\"y3\",\"domain\":[0.525,0.7375],\"title\":{\"text\":\"rp3beta_weight\"}},\"yaxis3\":{\"anchor\":\"x3\",\"domain\":[0.0,1.0],\"matches\":\"y\",\"showticklabels\":false},\"xaxis4\":{\"anchor\":\"y4\",\"domain\":[0.7875,1.0],\"title\":{\"text\":\"slim_weight\"}},\"yaxis4\":{\"anchor\":\"x4\",\"domain\":[0.0,1.0],\"matches\":\"y\",\"showticklabels\":false},\"title\":{\"text\":\"Slice Plot\"},\"width\":1200},                        {\"responsive\": true}                    ).then(function(){\n",
       "                            \n",
       "var gd = document.getElementById('acd2b547-b9bc-41f5-8155-c012bab83e72');\n",
       "var x = new MutationObserver(function (mutations, observer) {{\n",
       "        var display = window.getComputedStyle(gd).display;\n",
       "        if (!display || display === 'none') {{\n",
       "            console.log([gd, 'removed!']);\n",
       "            Plotly.purge(gd);\n",
       "            observer.disconnect();\n",
       "        }}\n",
       "}});\n",
       "\n",
       "// Listen for the removal of the full notebook cells\n",
       "var notebookContainer = gd.closest('#notebook-container');\n",
       "if (notebookContainer) {{\n",
       "    x.observe(notebookContainer, {childList: true});\n",
       "}}\n",
       "\n",
       "// Listen for the clearing of the current output cell\n",
       "var outputEl = gd.closest('.output');\n",
       "if (outputEl) {{\n",
       "    x.observe(outputEl, {childList: true});\n",
       "}}\n",
       "\n",
       "                        })                };                            </script>        </div>\n",
       "</body>\n",
       "</html>"
      ]
     },
     "metadata": {},
     "output_type": "display_data"
    }
   ],
   "source": [
    "if not config['tune_parameters']:\n",
    "    optuna_study = optuna.load_study(study_name=f'hyperparameters_tuning_{config[\"model\"]}_{config[\"metric\"]}', storage=f'sqlite:///{config[\"database_path\"]}')\n",
    "    \n",
    "fig = optuna.visualization.plot_slice(optuna_study)\n",
    "fig.show()"
   ]
  },
  {
   "cell_type": "code",
   "execution_count": 16,
   "id": "2be5fb7d",
   "metadata": {
    "execution": {
     "iopub.execute_input": "2024-12-31T05:52:23.562367Z",
     "iopub.status.busy": "2024-12-31T05:52:23.562025Z",
     "iopub.status.idle": "2024-12-31T05:52:25.864280Z",
     "shell.execute_reply": "2024-12-31T05:52:25.862889Z"
    },
    "papermill": {
     "duration": 2.339735,
     "end_time": "2024-12-31T05:52:25.866156",
     "exception": false,
     "start_time": "2024-12-31T05:52:23.526421",
     "status": "completed"
    },
    "tags": []
   },
   "outputs": [
    {
     "data": {
      "text/html": [
       "<html>\n",
       "<head><meta charset=\"utf-8\" /></head>\n",
       "<body>\n",
       "    <div>            <script src=\"https://cdnjs.cloudflare.com/ajax/libs/mathjax/2.7.5/MathJax.js?config=TeX-AMS-MML_SVG\"></script><script type=\"text/javascript\">if (window.MathJax && window.MathJax.Hub && window.MathJax.Hub.Config) {window.MathJax.Hub.Config({SVG: {font: \"STIX-Web\"}});}</script>                <script type=\"text/javascript\">window.PlotlyConfig = {MathJaxConfig: 'local'};</script>\n",
       "        <script charset=\"utf-8\" src=\"https://cdn.plot.ly/plotly-2.35.2.min.js\"></script>                <div id=\"216d6ecf-22f5-456e-a53d-3da33565d957\" class=\"plotly-graph-div\" style=\"height:525px; width:100%;\"></div>            <script type=\"text/javascript\">                                    window.PLOTLYENV=window.PLOTLYENV || {};                                    if (document.getElementById(\"216d6ecf-22f5-456e-a53d-3da33565d957\")) {                    Plotly.newPlot(                        \"216d6ecf-22f5-456e-a53d-3da33565d957\",                        [{\"cliponaxis\":false,\"hovertemplate\":[\"slim_weight (FloatDistribution): 0.06153822734489054\\u003cextra\\u003e\\u003c\\u002fextra\\u003e\",\"norm (CategoricalDistribution): 0.18977970635485425\\u003cextra\\u003e\\u003c\\u002fextra\\u003e\",\"rp3beta_weight (FloatDistribution): 0.22101221581246916\\u003cextra\\u003e\\u003c\\u002fextra\\u003e\",\"itemknn_weight (FloatDistribution): 0.5276698504877859\\u003cextra\\u003e\\u003c\\u002fextra\\u003e\"],\"name\":\"Objective Value\",\"orientation\":\"h\",\"text\":[\"0.06\",\"0.19\",\"0.22\",\"0.53\"],\"textposition\":\"outside\",\"x\":[0.06153822734489054,0.18977970635485425,0.22101221581246916,0.5276698504877859],\"y\":[\"slim_weight\",\"norm\",\"rp3beta_weight\",\"itemknn_weight\"],\"type\":\"bar\"}],                        {\"title\":{\"text\":\"Hyperparameter Importances\"},\"xaxis\":{\"title\":{\"text\":\"Hyperparameter Importance\"}},\"yaxis\":{\"title\":{\"text\":\"Hyperparameter\"}},\"template\":{\"data\":{\"histogram2dcontour\":[{\"type\":\"histogram2dcontour\",\"colorbar\":{\"outlinewidth\":0,\"ticks\":\"\"},\"colorscale\":[[0.0,\"#0d0887\"],[0.1111111111111111,\"#46039f\"],[0.2222222222222222,\"#7201a8\"],[0.3333333333333333,\"#9c179e\"],[0.4444444444444444,\"#bd3786\"],[0.5555555555555556,\"#d8576b\"],[0.6666666666666666,\"#ed7953\"],[0.7777777777777778,\"#fb9f3a\"],[0.8888888888888888,\"#fdca26\"],[1.0,\"#f0f921\"]]}],\"choropleth\":[{\"type\":\"choropleth\",\"colorbar\":{\"outlinewidth\":0,\"ticks\":\"\"}}],\"histogram2d\":[{\"type\":\"histogram2d\",\"colorbar\":{\"outlinewidth\":0,\"ticks\":\"\"},\"colorscale\":[[0.0,\"#0d0887\"],[0.1111111111111111,\"#46039f\"],[0.2222222222222222,\"#7201a8\"],[0.3333333333333333,\"#9c179e\"],[0.4444444444444444,\"#bd3786\"],[0.5555555555555556,\"#d8576b\"],[0.6666666666666666,\"#ed7953\"],[0.7777777777777778,\"#fb9f3a\"],[0.8888888888888888,\"#fdca26\"],[1.0,\"#f0f921\"]]}],\"heatmap\":[{\"type\":\"heatmap\",\"colorbar\":{\"outlinewidth\":0,\"ticks\":\"\"},\"colorscale\":[[0.0,\"#0d0887\"],[0.1111111111111111,\"#46039f\"],[0.2222222222222222,\"#7201a8\"],[0.3333333333333333,\"#9c179e\"],[0.4444444444444444,\"#bd3786\"],[0.5555555555555556,\"#d8576b\"],[0.6666666666666666,\"#ed7953\"],[0.7777777777777778,\"#fb9f3a\"],[0.8888888888888888,\"#fdca26\"],[1.0,\"#f0f921\"]]}],\"heatmapgl\":[{\"type\":\"heatmapgl\",\"colorbar\":{\"outlinewidth\":0,\"ticks\":\"\"},\"colorscale\":[[0.0,\"#0d0887\"],[0.1111111111111111,\"#46039f\"],[0.2222222222222222,\"#7201a8\"],[0.3333333333333333,\"#9c179e\"],[0.4444444444444444,\"#bd3786\"],[0.5555555555555556,\"#d8576b\"],[0.6666666666666666,\"#ed7953\"],[0.7777777777777778,\"#fb9f3a\"],[0.8888888888888888,\"#fdca26\"],[1.0,\"#f0f921\"]]}],\"contourcarpet\":[{\"type\":\"contourcarpet\",\"colorbar\":{\"outlinewidth\":0,\"ticks\":\"\"}}],\"contour\":[{\"type\":\"contour\",\"colorbar\":{\"outlinewidth\":0,\"ticks\":\"\"},\"colorscale\":[[0.0,\"#0d0887\"],[0.1111111111111111,\"#46039f\"],[0.2222222222222222,\"#7201a8\"],[0.3333333333333333,\"#9c179e\"],[0.4444444444444444,\"#bd3786\"],[0.5555555555555556,\"#d8576b\"],[0.6666666666666666,\"#ed7953\"],[0.7777777777777778,\"#fb9f3a\"],[0.8888888888888888,\"#fdca26\"],[1.0,\"#f0f921\"]]}],\"surface\":[{\"type\":\"surface\",\"colorbar\":{\"outlinewidth\":0,\"ticks\":\"\"},\"colorscale\":[[0.0,\"#0d0887\"],[0.1111111111111111,\"#46039f\"],[0.2222222222222222,\"#7201a8\"],[0.3333333333333333,\"#9c179e\"],[0.4444444444444444,\"#bd3786\"],[0.5555555555555556,\"#d8576b\"],[0.6666666666666666,\"#ed7953\"],[0.7777777777777778,\"#fb9f3a\"],[0.8888888888888888,\"#fdca26\"],[1.0,\"#f0f921\"]]}],\"mesh3d\":[{\"type\":\"mesh3d\",\"colorbar\":{\"outlinewidth\":0,\"ticks\":\"\"}}],\"scatter\":[{\"fillpattern\":{\"fillmode\":\"overlay\",\"size\":10,\"solidity\":0.2},\"type\":\"scatter\"}],\"parcoords\":[{\"type\":\"parcoords\",\"line\":{\"colorbar\":{\"outlinewidth\":0,\"ticks\":\"\"}}}],\"scatterpolargl\":[{\"type\":\"scatterpolargl\",\"marker\":{\"colorbar\":{\"outlinewidth\":0,\"ticks\":\"\"}}}],\"bar\":[{\"error_x\":{\"color\":\"#2a3f5f\"},\"error_y\":{\"color\":\"#2a3f5f\"},\"marker\":{\"line\":{\"color\":\"#E5ECF6\",\"width\":0.5},\"pattern\":{\"fillmode\":\"overlay\",\"size\":10,\"solidity\":0.2}},\"type\":\"bar\"}],\"scattergeo\":[{\"type\":\"scattergeo\",\"marker\":{\"colorbar\":{\"outlinewidth\":0,\"ticks\":\"\"}}}],\"scatterpolar\":[{\"type\":\"scatterpolar\",\"marker\":{\"colorbar\":{\"outlinewidth\":0,\"ticks\":\"\"}}}],\"histogram\":[{\"marker\":{\"pattern\":{\"fillmode\":\"overlay\",\"size\":10,\"solidity\":0.2}},\"type\":\"histogram\"}],\"scattergl\":[{\"type\":\"scattergl\",\"marker\":{\"colorbar\":{\"outlinewidth\":0,\"ticks\":\"\"}}}],\"scatter3d\":[{\"type\":\"scatter3d\",\"line\":{\"colorbar\":{\"outlinewidth\":0,\"ticks\":\"\"}},\"marker\":{\"colorbar\":{\"outlinewidth\":0,\"ticks\":\"\"}}}],\"scattermapbox\":[{\"type\":\"scattermapbox\",\"marker\":{\"colorbar\":{\"outlinewidth\":0,\"ticks\":\"\"}}}],\"scatterternary\":[{\"type\":\"scatterternary\",\"marker\":{\"colorbar\":{\"outlinewidth\":0,\"ticks\":\"\"}}}],\"scattercarpet\":[{\"type\":\"scattercarpet\",\"marker\":{\"colorbar\":{\"outlinewidth\":0,\"ticks\":\"\"}}}],\"carpet\":[{\"aaxis\":{\"endlinecolor\":\"#2a3f5f\",\"gridcolor\":\"white\",\"linecolor\":\"white\",\"minorgridcolor\":\"white\",\"startlinecolor\":\"#2a3f5f\"},\"baxis\":{\"endlinecolor\":\"#2a3f5f\",\"gridcolor\":\"white\",\"linecolor\":\"white\",\"minorgridcolor\":\"white\",\"startlinecolor\":\"#2a3f5f\"},\"type\":\"carpet\"}],\"table\":[{\"cells\":{\"fill\":{\"color\":\"#EBF0F8\"},\"line\":{\"color\":\"white\"}},\"header\":{\"fill\":{\"color\":\"#C8D4E3\"},\"line\":{\"color\":\"white\"}},\"type\":\"table\"}],\"barpolar\":[{\"marker\":{\"line\":{\"color\":\"#E5ECF6\",\"width\":0.5},\"pattern\":{\"fillmode\":\"overlay\",\"size\":10,\"solidity\":0.2}},\"type\":\"barpolar\"}],\"pie\":[{\"automargin\":true,\"type\":\"pie\"}]},\"layout\":{\"autotypenumbers\":\"strict\",\"colorway\":[\"#636efa\",\"#EF553B\",\"#00cc96\",\"#ab63fa\",\"#FFA15A\",\"#19d3f3\",\"#FF6692\",\"#B6E880\",\"#FF97FF\",\"#FECB52\"],\"font\":{\"color\":\"#2a3f5f\"},\"hovermode\":\"closest\",\"hoverlabel\":{\"align\":\"left\"},\"paper_bgcolor\":\"white\",\"plot_bgcolor\":\"#E5ECF6\",\"polar\":{\"bgcolor\":\"#E5ECF6\",\"angularaxis\":{\"gridcolor\":\"white\",\"linecolor\":\"white\",\"ticks\":\"\"},\"radialaxis\":{\"gridcolor\":\"white\",\"linecolor\":\"white\",\"ticks\":\"\"}},\"ternary\":{\"bgcolor\":\"#E5ECF6\",\"aaxis\":{\"gridcolor\":\"white\",\"linecolor\":\"white\",\"ticks\":\"\"},\"baxis\":{\"gridcolor\":\"white\",\"linecolor\":\"white\",\"ticks\":\"\"},\"caxis\":{\"gridcolor\":\"white\",\"linecolor\":\"white\",\"ticks\":\"\"}},\"coloraxis\":{\"colorbar\":{\"outlinewidth\":0,\"ticks\":\"\"}},\"colorscale\":{\"sequential\":[[0.0,\"#0d0887\"],[0.1111111111111111,\"#46039f\"],[0.2222222222222222,\"#7201a8\"],[0.3333333333333333,\"#9c179e\"],[0.4444444444444444,\"#bd3786\"],[0.5555555555555556,\"#d8576b\"],[0.6666666666666666,\"#ed7953\"],[0.7777777777777778,\"#fb9f3a\"],[0.8888888888888888,\"#fdca26\"],[1.0,\"#f0f921\"]],\"sequentialminus\":[[0.0,\"#0d0887\"],[0.1111111111111111,\"#46039f\"],[0.2222222222222222,\"#7201a8\"],[0.3333333333333333,\"#9c179e\"],[0.4444444444444444,\"#bd3786\"],[0.5555555555555556,\"#d8576b\"],[0.6666666666666666,\"#ed7953\"],[0.7777777777777778,\"#fb9f3a\"],[0.8888888888888888,\"#fdca26\"],[1.0,\"#f0f921\"]],\"diverging\":[[0,\"#8e0152\"],[0.1,\"#c51b7d\"],[0.2,\"#de77ae\"],[0.3,\"#f1b6da\"],[0.4,\"#fde0ef\"],[0.5,\"#f7f7f7\"],[0.6,\"#e6f5d0\"],[0.7,\"#b8e186\"],[0.8,\"#7fbc41\"],[0.9,\"#4d9221\"],[1,\"#276419\"]]},\"xaxis\":{\"gridcolor\":\"white\",\"linecolor\":\"white\",\"ticks\":\"\",\"title\":{\"standoff\":15},\"zerolinecolor\":\"white\",\"automargin\":true,\"zerolinewidth\":2},\"yaxis\":{\"gridcolor\":\"white\",\"linecolor\":\"white\",\"ticks\":\"\",\"title\":{\"standoff\":15},\"zerolinecolor\":\"white\",\"automargin\":true,\"zerolinewidth\":2},\"scene\":{\"xaxis\":{\"backgroundcolor\":\"#E5ECF6\",\"gridcolor\":\"white\",\"linecolor\":\"white\",\"showbackground\":true,\"ticks\":\"\",\"zerolinecolor\":\"white\",\"gridwidth\":2},\"yaxis\":{\"backgroundcolor\":\"#E5ECF6\",\"gridcolor\":\"white\",\"linecolor\":\"white\",\"showbackground\":true,\"ticks\":\"\",\"zerolinecolor\":\"white\",\"gridwidth\":2},\"zaxis\":{\"backgroundcolor\":\"#E5ECF6\",\"gridcolor\":\"white\",\"linecolor\":\"white\",\"showbackground\":true,\"ticks\":\"\",\"zerolinecolor\":\"white\",\"gridwidth\":2}},\"shapedefaults\":{\"line\":{\"color\":\"#2a3f5f\"}},\"annotationdefaults\":{\"arrowcolor\":\"#2a3f5f\",\"arrowhead\":0,\"arrowwidth\":1},\"geo\":{\"bgcolor\":\"white\",\"landcolor\":\"#E5ECF6\",\"subunitcolor\":\"white\",\"showland\":true,\"showlakes\":true,\"lakecolor\":\"white\"},\"title\":{\"x\":0.05},\"mapbox\":{\"style\":\"light\"}}}},                        {\"responsive\": true}                    ).then(function(){\n",
       "                            \n",
       "var gd = document.getElementById('216d6ecf-22f5-456e-a53d-3da33565d957');\n",
       "var x = new MutationObserver(function (mutations, observer) {{\n",
       "        var display = window.getComputedStyle(gd).display;\n",
       "        if (!display || display === 'none') {{\n",
       "            console.log([gd, 'removed!']);\n",
       "            Plotly.purge(gd);\n",
       "            observer.disconnect();\n",
       "        }}\n",
       "}});\n",
       "\n",
       "// Listen for the removal of the full notebook cells\n",
       "var notebookContainer = gd.closest('#notebook-container');\n",
       "if (notebookContainer) {{\n",
       "    x.observe(notebookContainer, {childList: true});\n",
       "}}\n",
       "\n",
       "// Listen for the clearing of the current output cell\n",
       "var outputEl = gd.closest('.output');\n",
       "if (outputEl) {{\n",
       "    x.observe(outputEl, {childList: true});\n",
       "}}\n",
       "\n",
       "                        })                };                            </script>        </div>\n",
       "</body>\n",
       "</html>"
      ]
     },
     "metadata": {},
     "output_type": "display_data"
    }
   ],
   "source": [
    "if not config['tune_parameters']:\n",
    "    optuna_study = optuna.load_study(study_name=f'hyperparameters_tuning_{config[\"model\"]}_{config[\"metric\"]}', storage=f'sqlite:///{config[\"database_path\"]}')\n",
    "    \n",
    "fig = optuna.visualization.plot_param_importances(optuna_study)\n",
    "fig.show()"
   ]
  },
  {
   "cell_type": "markdown",
   "id": "2ea7ea59",
   "metadata": {
    "papermill": {
     "duration": 0.03397,
     "end_time": "2024-12-31T05:52:25.934762",
     "exception": false,
     "start_time": "2024-12-31T05:52:25.900792",
     "status": "completed"
    },
    "tags": []
   },
   "source": [
    "## Let's train the recommender with best parameter values"
   ]
  },
  {
   "cell_type": "code",
   "execution_count": 17,
   "id": "e654dccb",
   "metadata": {
    "execution": {
     "iopub.execute_input": "2024-12-31T05:52:26.005904Z",
     "iopub.status.busy": "2024-12-31T05:52:26.005316Z",
     "iopub.status.idle": "2024-12-31T07:15:59.401929Z",
     "shell.execute_reply": "2024-12-31T07:15:59.399096Z"
    },
    "papermill": {
     "duration": 5013.436113,
     "end_time": "2024-12-31T07:15:59.406124",
     "exception": false,
     "start_time": "2024-12-31T05:52:25.970011",
     "status": "completed"
    },
    "tags": []
   },
   "outputs": [
    {
     "name": "stdout",
     "output_type": "stream",
     "text": [
      "ItemKNNCF Model - TRAINING with its best parameters.\n",
      "Similarity column 38121 (100.0%), 2420.17 column/sec. Elapsed time 15.75 sec\n",
      "Training done in 16.412582sec.\n",
      "\n",
      "SLIMElasticNet Model - TRAINING with its best parameters.\n",
      "SLIMElasticNetRecommender: Processed 1834 ( 4.8%) in 5.00 min. Items per second: 6.11\n",
      "SLIMElasticNetRecommender: Processed 4192 (11.0%) in 10.00 min. Items per second: 6.98\n",
      "SLIMElasticNetRecommender: Processed 6145 (16.1%) in 15.00 min. Items per second: 6.83\n",
      "SLIMElasticNetRecommender: Processed 8196 (21.5%) in 20.00 min. Items per second: 6.83\n",
      "SLIMElasticNetRecommender: Processed 10592 (27.8%) in 25.01 min. Items per second: 7.06\n",
      "SLIMElasticNetRecommender: Processed 13034 (34.2%) in 30.01 min. Items per second: 7.24\n",
      "SLIMElasticNetRecommender: Processed 15210 (39.9%) in 35.01 min. Items per second: 7.24\n",
      "SLIMElasticNetRecommender: Processed 17516 (45.9%) in 40.01 min. Items per second: 7.30\n",
      "SLIMElasticNetRecommender: Processed 19903 (52.2%) in 45.01 min. Items per second: 7.37\n",
      "SLIMElasticNetRecommender: Processed 22342 (58.6%) in 50.01 min. Items per second: 7.44\n",
      "SLIMElasticNetRecommender: Processed 24793 (65.0%) in 55.02 min. Items per second: 7.51\n",
      "SLIMElasticNetRecommender: Processed 27340 (71.7%) in 1.00 hour. Items per second: 7.59\n",
      "SLIMElasticNetRecommender: Processed 29738 (78.0%) in 1.08 hour. Items per second: 7.62\n",
      "SLIMElasticNetRecommender: Processed 32197 (84.5%) in 1.17 hour. Items per second: 7.66\n",
      "SLIMElasticNetRecommender: Processed 34563 (90.7%) in 1.25 hour. Items per second: 7.68\n",
      "SLIMElasticNetRecommender: Processed 36842 (96.6%) in 1.33 hour. Items per second: 7.67\n",
      "SLIMElasticNetRecommender: Processed 38121 (100.0%) in 1.38 hour. Items per second: 7.67\n",
      "Training done in 1.380515hour.\n",
      "\n",
      "RP3beta Model - TRAINING with its best parameters.\n",
      "RP3betaRecommender: Similarity column 38121 (100.0%), 1600.87 column/sec. Elapsed time 23.81 sec\n",
      "Training done in 27.117005sec.\n",
      "\n"
     ]
    }
   ],
   "source": [
    "if config['tune_best_params']:\n",
    "    \n",
    "    loaded_recommenders = {}\n",
    "    \n",
    "    for recommender_name, recommender_class in recommenders.items():\n",
    "        \n",
    "        start_time = time.time()\n",
    "        \n",
    "        print(f\"{recommender_name} Model - TRAINING with its best parameters.\")\n",
    "        try:\n",
    "            recommender = recommender_class(URM_train + URM_validation)\n",
    "        except Exception as e:\n",
    "            recommender = recommender_class(URM_train + URM_validation, ICM_all)\n",
    "    \n",
    "        # Extract best parameter values of the relative recommender model.\n",
    "        with open(f'{GH_PATH}/{paths_to_best_params[recommender_name]}/{recommender_name}Recommender/Optimizing{config[\"metric\"]}/best_params_{recommender_name}_{config[\"metric\"]}.json', 'r') as best_params_json:\n",
    "                best_params = json.load(best_params_json)\n",
    "        \n",
    "        recommender.fit(**best_params)\n",
    "        \n",
    "        loaded_recommenders[recommender_name] = recommender\n",
    "        \n",
    "        new_time_value, new_time_unit = seconds_to_biggest_unit(time.time() - start_time)\n",
    "        print(\"Training done in {:2f}{}.\\n\".format(new_time_value, new_time_unit))"
   ]
  },
  {
   "cell_type": "code",
   "execution_count": 18,
   "id": "d1d16452",
   "metadata": {
    "execution": {
     "iopub.execute_input": "2024-12-31T07:15:59.481347Z",
     "iopub.status.busy": "2024-12-31T07:15:59.480687Z",
     "iopub.status.idle": "2024-12-31T07:15:59.644875Z",
     "shell.execute_reply": "2024-12-31T07:15:59.643269Z"
    },
    "papermill": {
     "duration": 0.204747,
     "end_time": "2024-12-31T07:15:59.647002",
     "exception": false,
     "start_time": "2024-12-31T07:15:59.442255",
     "status": "completed"
    },
    "tags": []
   },
   "outputs": [
    {
     "name": "stdout",
     "output_type": "stream",
     "text": [
      "LinearCombinationRecommender: Fit completed in 0.00 seconds.\n"
     ]
    }
   ],
   "source": [
    "if config['tune_best_params']:\n",
    "\n",
    "    if config['tune_parameters']:\n",
    "        best_params = optuna_study.best_trial.params\n",
    "    else: \n",
    "        with open(f'{K_PATH}/{GH_PATH}/{D_PATH}/{config[\"model\"]}Recommender/Optimizing{config[\"metric\"]}/best_params_{config[\"model\"]}_{config[\"metric\"]}.json', 'r') as best_params_json:\n",
    "            best_params = json.load(best_params_json)\n",
    "            \n",
    "    fit_params = {\n",
    "    \"weights\": list(best_params.values())[1:], \n",
    "    \"norm\": best_params[\"norm\"]\n",
    "    }\n",
    "    \n",
    "    recommender_instance = LinearCombinationRecommender(URM_train + URM_validation, loaded_recommenders.values())\n",
    "    recommender_instance.fit(**fit_params)"
   ]
  },
  {
   "cell_type": "markdown",
   "id": "d8524636",
   "metadata": {
    "papermill": {
     "duration": 0.036069,
     "end_time": "2024-12-31T07:15:59.718799",
     "exception": false,
     "start_time": "2024-12-31T07:15:59.682730",
     "status": "completed"
    },
    "tags": []
   },
   "source": [
    "# Testing"
   ]
  },
  {
   "cell_type": "markdown",
   "id": "33997e8c",
   "metadata": {
    "papermill": {
     "duration": 0.035614,
     "end_time": "2024-12-31T07:15:59.790283",
     "exception": false,
     "start_time": "2024-12-31T07:15:59.754669",
     "status": "completed"
    },
    "tags": []
   },
   "source": [
    "Create the recommendations for the submission. "
   ]
  },
  {
   "cell_type": "code",
   "execution_count": 19,
   "id": "db82aaf7",
   "metadata": {
    "execution": {
     "iopub.execute_input": "2024-12-31T07:15:59.866177Z",
     "iopub.status.busy": "2024-12-31T07:15:59.865707Z",
     "iopub.status.idle": "2024-12-31T07:18:06.942168Z",
     "shell.execute_reply": "2024-12-31T07:18:06.940867Z"
    },
    "papermill": {
     "duration": 127.152815,
     "end_time": "2024-12-31T07:18:06.979431",
     "exception": false,
     "start_time": "2024-12-31T07:15:59.826616",
     "status": "completed"
    },
    "tags": []
   },
   "outputs": [
    {
     "name": "stdout",
     "output_type": "stream",
     "text": [
      "Submission file saved as /kaggle/working/submission_SecondLinearCombination_Recall_Recall.csv\n"
     ]
    }
   ],
   "source": [
    "if config['tune_best_params']:\n",
    "\n",
    "    data_target_users_test = pd.read_csv('/kaggle/input/recommender-system-2024-challenge-polimi/data_target_users_test.csv')\n",
    "    create_submission(data_target_users_test, recommender_instance, f'/kaggle/working/submission_{config[\"model\"]}_{config[\"metric\"]}.csv')"
   ]
  },
  {
   "cell_type": "markdown",
   "id": "04e0293a",
   "metadata": {
    "execution": {
     "iopub.execute_input": "2024-11-14T00:04:16.877791Z",
     "iopub.status.busy": "2024-11-14T00:04:16.877275Z",
     "iopub.status.idle": "2024-11-14T00:04:16.883170Z",
     "shell.execute_reply": "2024-11-14T00:04:16.881889Z",
     "shell.execute_reply.started": "2024-11-14T00:04:16.877743Z"
    },
    "papermill": {
     "duration": 0.036191,
     "end_time": "2024-12-31T07:18:07.051550",
     "exception": false,
     "start_time": "2024-12-31T07:18:07.015359",
     "status": "completed"
    },
    "tags": []
   },
   "source": [
    "# Save Version on GitHub "
   ]
  },
  {
   "cell_type": "markdown",
   "id": "4bb0c6b1",
   "metadata": {
    "papermill": {
     "duration": 0.035235,
     "end_time": "2024-12-31T07:18:07.122278",
     "exception": false,
     "start_time": "2024-12-31T07:18:07.087043",
     "status": "completed"
    },
    "tags": []
   },
   "source": [
    "Write or import a json file where best hyperparameters are saved. "
   ]
  },
  {
   "cell_type": "code",
   "execution_count": 20,
   "id": "250c3b66",
   "metadata": {
    "execution": {
     "iopub.execute_input": "2024-12-31T07:18:07.195725Z",
     "iopub.status.busy": "2024-12-31T07:18:07.195283Z",
     "iopub.status.idle": "2024-12-31T07:18:08.448553Z",
     "shell.execute_reply": "2024-12-31T07:18:08.447179Z"
    },
    "papermill": {
     "duration": 1.292697,
     "end_time": "2024-12-31T07:18:08.450941",
     "exception": false,
     "start_time": "2024-12-31T07:18:07.158244",
     "status": "completed"
    },
    "tags": []
   },
   "outputs": [
    {
     "name": "stdout",
     "output_type": "stream",
     "text": [
      "File 'TrainedModels/WithoutKFCV/Hybrid/LinearCombination/SecondLinearCombination_RecallRecommender/OptimizingRecall/best_params_SecondLinearCombination_Recall_Recall.json' updated successfully.\n"
     ]
    }
   ],
   "source": [
    "if config['tune_parameters']:\n",
    "    with open(f'/kaggle/working/best_params_{config[\"model\"]}_{config[\"metric\"]}.json', 'w') as params_file:\n",
    "        json.dump(optuna_study.best_params, params_file)\n",
    "        \n",
    "    if config['save_github']:\n",
    "        upload_file(\n",
    "            f'/kaggle/working/best_params_{config[\"model\"]}_{config[\"metric\"]}.json', \n",
    "            f'{GH_PATH}/{D_PATH}/{config[\"model\"]}Recommender/Optimizing{config[\"metric\"]}/best_params_{config[\"model\"]}_{config[\"metric\"]}.json', \n",
    "            f'{config[\"model\"]}_{config[\"metric\"]} tuning results (from kaggle notebook)',\n",
    "            repo\n",
    "        )\n",
    "elif config['copy_prev_best_params']:\n",
    "    shutil.copyfile(\n",
    "        f'{K_PATH}/{GH_PATH}/{D_PATH}/{config[\"model\"]}Recommender/'\\\n",
    "        f'best_params_{config[\"model\"]}_{config[\"metric\"]}.json', \n",
    "        f'/kaggle/working/best_params_{config[\"model\"]}_{config[\"metric\"]}.json'\n",
    "    )"
   ]
  },
  {
   "cell_type": "markdown",
   "id": "d28d4f41",
   "metadata": {
    "execution": {
     "iopub.execute_input": "2024-11-14T00:41:34.294243Z",
     "iopub.status.busy": "2024-11-14T00:41:34.293739Z",
     "iopub.status.idle": "2024-11-14T00:41:34.301478Z",
     "shell.execute_reply": "2024-11-14T00:41:34.299869Z",
     "shell.execute_reply.started": "2024-11-14T00:41:34.294186Z"
    },
    "papermill": {
     "duration": 0.036776,
     "end_time": "2024-12-31T07:18:08.523877",
     "exception": false,
     "start_time": "2024-12-31T07:18:08.487101",
     "status": "completed"
    },
    "tags": []
   },
   "source": [
    "Save the history of the tuned model."
   ]
  },
  {
   "cell_type": "code",
   "execution_count": 21,
   "id": "294546b8",
   "metadata": {
    "execution": {
     "iopub.execute_input": "2024-12-31T07:18:08.600345Z",
     "iopub.status.busy": "2024-12-31T07:18:08.599986Z",
     "iopub.status.idle": "2024-12-31T07:18:09.964129Z",
     "shell.execute_reply": "2024-12-31T07:18:09.962290Z"
    },
    "papermill": {
     "duration": 1.406288,
     "end_time": "2024-12-31T07:18:09.966698",
     "exception": false,
     "start_time": "2024-12-31T07:18:08.560410",
     "status": "completed"
    },
    "tags": []
   },
   "outputs": [
    {
     "name": "stdout",
     "output_type": "stream",
     "text": [
      "File 'TrainedModels/WithoutKFCV/Hybrid/LinearCombination/SecondLinearCombination_RecallRecommender/OptimizingRecall/history_SecondLinearCombination_Recall_Recall.db' updated successfully.\n"
     ]
    }
   ],
   "source": [
    "if config['save_github'] and config['tune_parameters']:\n",
    "    upload_file(\n",
    "        config['database_path'], \n",
    "        f'{GH_PATH}/{D_PATH}/{config[\"model\"]}Recommender/Optimizing{config[\"metric\"]}/history_{config[\"model\"]}_{config[\"metric\"]}.db',\n",
    "        f'Tuning {config[\"model\"]}_{config[\"metric\"]} db updated results (from kaggle notebook)',\n",
    "        repo\n",
    "    )"
   ]
  },
  {
   "cell_type": "markdown",
   "id": "add97fdf",
   "metadata": {
    "papermill": {
     "duration": 0.039974,
     "end_time": "2024-12-31T07:18:10.047419",
     "exception": false,
     "start_time": "2024-12-31T07:18:10.007445",
     "status": "completed"
    },
    "tags": []
   },
   "source": [
    "Save the best trained model and its submission."
   ]
  },
  {
   "cell_type": "code",
   "execution_count": 22,
   "id": "f8a0ebd6",
   "metadata": {
    "execution": {
     "iopub.execute_input": "2024-12-31T07:18:10.135511Z",
     "iopub.status.busy": "2024-12-31T07:18:10.134964Z",
     "iopub.status.idle": "2024-12-31T07:18:11.956591Z",
     "shell.execute_reply": "2024-12-31T07:18:11.954856Z"
    },
    "papermill": {
     "duration": 1.868356,
     "end_time": "2024-12-31T07:18:11.959244",
     "exception": false,
     "start_time": "2024-12-31T07:18:10.090888",
     "status": "completed"
    },
    "tags": []
   },
   "outputs": [
    {
     "name": "stdout",
     "output_type": "stream",
     "text": [
      "File 'TrainedModels/WithoutKFCV/Hybrid/LinearCombination/SecondLinearCombination_RecallRecommender/OptimizingRecall/Submission/submission_SecondLinearCombination_Recall_Recall.csv' updated successfully.\n"
     ]
    }
   ],
   "source": [
    "if config['save_github'] and config['tune_best_params']: \n",
    "    upload_file(\n",
    "                f'/kaggle/working/submission_{config[\"model\"]}_{config[\"metric\"]}.csv', \n",
    "                f'{GH_PATH}/{D_PATH}/{config[\"model\"]}Recommender/Optimizing{config[\"metric\"]}/Submission/submission_{config[\"model\"]}_{config[\"metric\"]}.csv', \n",
    "                f'New {config[\"model\"]}_{config[\"metric\"]} submission (from kaggle notebook)',\n",
    "                repo\n",
    "            )"
   ]
  }
 ],
 "metadata": {
  "kaggle": {
   "accelerator": "none",
   "dataSources": [
    {
     "databundleVersionId": 9982103,
     "sourceId": 87439,
     "sourceType": "competition"
    }
   ],
   "dockerImageVersionId": 30822,
   "isGpuEnabled": false,
   "isInternetEnabled": true,
   "language": "python",
   "sourceType": "notebook"
  },
  "kernelspec": {
   "display_name": "Python 3",
   "language": "python",
   "name": "python3"
  },
  "language_info": {
   "codemirror_mode": {
    "name": "ipython",
    "version": 3
   },
   "file_extension": ".py",
   "mimetype": "text/x-python",
   "name": "python",
   "nbconvert_exporter": "python",
   "pygments_lexer": "ipython3",
   "version": "3.10.12"
  },
  "papermill": {
   "default_parameters": {},
   "duration": 20585.456813,
   "end_time": "2024-12-31T07:18:13.478488",
   "environment_variables": {},
   "exception": null,
   "input_path": "__notebook__.ipynb",
   "output_path": "__notebook__.ipynb",
   "parameters": {},
   "start_time": "2024-12-31T01:35:08.021675",
   "version": "2.6.0"
  }
 },
 "nbformat": 4,
 "nbformat_minor": 5
}
