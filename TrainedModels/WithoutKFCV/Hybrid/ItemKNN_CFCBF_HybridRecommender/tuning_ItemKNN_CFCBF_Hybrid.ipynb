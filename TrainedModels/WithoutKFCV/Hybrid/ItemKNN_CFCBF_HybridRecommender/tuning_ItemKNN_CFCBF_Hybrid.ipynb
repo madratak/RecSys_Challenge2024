{
 "cells": [
  {
   "cell_type": "markdown",
   "id": "44c0ff12",
   "metadata": {
    "papermill": {
     "duration": 0.007386,
     "end_time": "2024-11-19T18:48:53.237840",
     "exception": false,
     "start_time": "2024-11-19T18:48:53.230454",
     "status": "completed"
    },
    "tags": []
   },
   "source": [
    "# Set connection with GitHub"
   ]
  },
  {
   "cell_type": "code",
   "execution_count": 1,
   "id": "5d67987f",
   "metadata": {
    "execution": {
     "iopub.execute_input": "2024-11-19T18:48:53.253388Z",
     "iopub.status.busy": "2024-11-19T18:48:53.252916Z",
     "iopub.status.idle": "2024-11-19T18:48:53.260269Z",
     "shell.execute_reply": "2024-11-19T18:48:53.259016Z"
    },
    "papermill": {
     "duration": 0.018313,
     "end_time": "2024-11-19T18:48:53.262891",
     "exception": false,
     "start_time": "2024-11-19T18:48:53.244578",
     "status": "completed"
    },
    "tags": []
   },
   "outputs": [],
   "source": [
    "# ! cd /kaggle/working && rm -rf RECsys_Challenge2024"
   ]
  },
  {
   "cell_type": "code",
   "execution_count": 2,
   "id": "e58cdbeb",
   "metadata": {
    "_cell_guid": "b1076dfc-b9ad-4769-8c92-a6c4dae69d19",
    "_uuid": "8f2839f25d086af736a60e9eeb907d3b93b6e0e5",
    "execution": {
     "iopub.execute_input": "2024-11-19T18:48:53.278871Z",
     "iopub.status.busy": "2024-11-19T18:48:53.278468Z",
     "iopub.status.idle": "2024-11-19T18:49:04.013302Z",
     "shell.execute_reply": "2024-11-19T18:49:04.011680Z"
    },
    "papermill": {
     "duration": 10.746234,
     "end_time": "2024-11-19T18:49:04.016292",
     "exception": false,
     "start_time": "2024-11-19T18:48:53.270058",
     "status": "completed"
    },
    "tags": []
   },
   "outputs": [
    {
     "name": "stdout",
     "output_type": "stream",
     "text": [
      "Cloning into 'RECsys_Challenge2024'...\r\n",
      "remote: Enumerating objects: 2102, done.\u001b[K\r\n",
      "remote: Counting objects: 100% (484/484), done.\u001b[K\r\n",
      "remote: Compressing objects: 100% (275/275), done.\u001b[K\r\n",
      "remote: Total 2102 (delta 308), reused 342 (delta 201), pack-reused 1618 (from 1)\u001b[K\r\n",
      "Receiving objects: 100% (2102/2102), 144.72 MiB | 29.85 MiB/s, done.\r\n",
      "Resolving deltas: 100% (1253/1253), done.\r\n",
      "Updating files: 100% (238/238), done.\r\n"
     ]
    }
   ],
   "source": [
    "from kaggle_secrets import UserSecretsClient\n",
    "\n",
    "token = UserSecretsClient().get_secret(\"Token\")\n",
    "\n",
    "! git clone https://{token}@github.com/madratak/RECsys_Challenge2024.git"
   ]
  },
  {
   "cell_type": "code",
   "execution_count": 3,
   "id": "c46f5b6f",
   "metadata": {
    "execution": {
     "iopub.execute_input": "2024-11-19T18:49:04.039211Z",
     "iopub.status.busy": "2024-11-19T18:49:04.038679Z",
     "iopub.status.idle": "2024-11-19T18:49:17.434786Z",
     "shell.execute_reply": "2024-11-19T18:49:17.433356Z"
    },
    "papermill": {
     "duration": 13.411505,
     "end_time": "2024-11-19T18:49:17.437568",
     "exception": false,
     "start_time": "2024-11-19T18:49:04.026063",
     "status": "completed"
    },
    "tags": []
   },
   "outputs": [
    {
     "name": "stdout",
     "output_type": "stream",
     "text": [
      "Collecting PyGithub\r\n",
      "  Downloading PyGithub-2.5.0-py3-none-any.whl.metadata (3.9 kB)\r\n",
      "Requirement already satisfied: requests in /opt/conda/lib/python3.10/site-packages (2.32.3)\r\n",
      "Collecting pynacl>=1.4.0 (from PyGithub)\r\n",
      "  Downloading PyNaCl-1.5.0-cp36-abi3-manylinux_2_17_x86_64.manylinux2014_x86_64.manylinux_2_24_x86_64.whl.metadata (8.6 kB)\r\n",
      "Requirement already satisfied: pyjwt>=2.4.0 in /opt/conda/lib/python3.10/site-packages (from pyjwt[crypto]>=2.4.0->PyGithub) (2.8.0)\r\n",
      "Requirement already satisfied: typing-extensions>=4.0.0 in /opt/conda/lib/python3.10/site-packages (from PyGithub) (4.12.2)\r\n",
      "Requirement already satisfied: urllib3>=1.26.0 in /opt/conda/lib/python3.10/site-packages (from PyGithub) (1.26.18)\r\n",
      "Requirement already satisfied: Deprecated in /opt/conda/lib/python3.10/site-packages (from PyGithub) (1.2.14)\r\n",
      "Requirement already satisfied: charset-normalizer<4,>=2 in /opt/conda/lib/python3.10/site-packages (from requests) (3.3.2)\r\n",
      "Requirement already satisfied: idna<4,>=2.5 in /opt/conda/lib/python3.10/site-packages (from requests) (3.7)\r\n",
      "Requirement already satisfied: certifi>=2017.4.17 in /opt/conda/lib/python3.10/site-packages (from requests) (2024.8.30)\r\n",
      "Requirement already satisfied: cryptography>=3.4.0 in /opt/conda/lib/python3.10/site-packages (from pyjwt[crypto]>=2.4.0->PyGithub) (42.0.8)\r\n",
      "Requirement already satisfied: cffi>=1.4.1 in /opt/conda/lib/python3.10/site-packages (from pynacl>=1.4.0->PyGithub) (1.16.0)\r\n",
      "Requirement already satisfied: wrapt<2,>=1.10 in /opt/conda/lib/python3.10/site-packages (from Deprecated->PyGithub) (1.16.0)\r\n",
      "Requirement already satisfied: pycparser in /opt/conda/lib/python3.10/site-packages (from cffi>=1.4.1->pynacl>=1.4.0->PyGithub) (2.22)\r\n",
      "Downloading PyGithub-2.5.0-py3-none-any.whl (375 kB)\r\n",
      "\u001b[2K   \u001b[90m━━━━━━━━━━━━━━━━━━━━━━━━━━━━━━━━━━━━━━━━\u001b[0m \u001b[32m375.9/375.9 kB\u001b[0m \u001b[31m9.4 MB/s\u001b[0m eta \u001b[36m0:00:00\u001b[0m\r\n",
      "\u001b[?25hDownloading PyNaCl-1.5.0-cp36-abi3-manylinux_2_17_x86_64.manylinux2014_x86_64.manylinux_2_24_x86_64.whl (856 kB)\r\n",
      "\u001b[2K   \u001b[90m━━━━━━━━━━━━━━━━━━━━━━━━━━━━━━━━━━━━━━━━\u001b[0m \u001b[32m856.7/856.7 kB\u001b[0m \u001b[31m26.9 MB/s\u001b[0m eta \u001b[36m0:00:00\u001b[0m\r\n",
      "\u001b[?25hInstalling collected packages: pynacl, PyGithub\r\n",
      "Successfully installed PyGithub-2.5.0 pynacl-1.5.0\r\n"
     ]
    }
   ],
   "source": [
    "! pip install PyGithub requests"
   ]
  },
  {
   "cell_type": "code",
   "execution_count": null,
   "id": "0214efc4",
   "metadata": {
    "_kg_hide-input": false,
    "execution": {
     "iopub.execute_input": "2024-11-19T18:49:17.460581Z",
     "iopub.status.busy": "2024-11-19T18:49:17.459966Z",
     "iopub.status.idle": "2024-11-19T18:52:10.023883Z",
     "shell.execute_reply": "2024-11-19T18:52:10.022218Z"
    },
    "papermill": {
     "duration": 172.578883,
     "end_time": "2024-11-19T18:52:10.026697",
     "exception": false,
     "start_time": "2024-11-19T18:49:17.447814",
     "status": "completed"
    },
    "tags": []
   },
   "outputs": [
    {
     "name": "stdout",
     "output_type": "stream",
     "text": [
      "run_compile_all_cython: Found 11 Cython files in 5 folders...\r\n",
      "run_compile_all_cython: All files will be compiled using your current python environment: '/opt/conda/bin/python'\r\n",
      "Compiling [1/11]: MatrixFactorizationImpressions_Cython_Epoch.pyx... \r\n",
      "In file included from \u001b[01m\u001b[K/opt/conda/lib/python3.10/site-packages/numpy/core/include/numpy/ndarraytypes.h:1929\u001b[m\u001b[K,\r\n",
      "                 from \u001b[01m\u001b[K/opt/conda/lib/python3.10/site-packages/numpy/core/include/numpy/ndarrayobject.h:12\u001b[m\u001b[K,\r\n",
      "                 from \u001b[01m\u001b[K/opt/conda/lib/python3.10/site-packages/numpy/core/include/numpy/arrayobject.h:5\u001b[m\u001b[K,\r\n",
      "                 from \u001b[01m\u001b[KMatrixFactorizationImpressions_Cython_Epoch.c:1252\u001b[m\u001b[K:\r\n",
      "\u001b[01m\u001b[K/opt/conda/lib/python3.10/site-packages/numpy/core/include/numpy/npy_1_7_deprecated_api.h:17:2:\u001b[m\u001b[K \u001b[01;35m\u001b[Kwarning: \u001b[m\u001b[K#warning \"Using deprecated NumPy API, disable it with \" \"#define NPY_NO_DEPRECATED_API NPY_1_7_API_VERSION\" [\u001b[01;35m\u001b[K-Wcpp\u001b[m\u001b[K]\r\n",
      "   17 | #\u001b[01;35m\u001b[Kwarning\u001b[m\u001b[K \"Using deprecated NumPy API, disable it with \" \\\r\n",
      "      |  \u001b[01;35m\u001b[K^~~~~~~\u001b[m\u001b[K\r\n",
      "\u001b[01m\u001b[KMatrixFactorizationImpressions_Cython_Epoch.c:\u001b[m\u001b[K In function '\u001b[01m\u001b[K__pyx_f_43MatrixFactorizationImpressions_Cython_Epoch_32MatrixFactorization_Cython_Epoch_sampleBPR_Cython\u001b[m\u001b[K':\r\n",
      "\u001b[01m\u001b[KMatrixFactorizationImpressions_Cython_Epoch.c:30351:17:\u001b[m\u001b[K \u001b[01;35m\u001b[Kwarning: \u001b[m\u001b[K'\u001b[01m\u001b[K__pyx_v_start_pos_impression_items\u001b[m\u001b[K' may be used uninitialized in this function [\u001b[01;35m\u001b[K-Wmaybe-uninitialized\u001b[m\u001b[K]\r\n",
      "30351 |       \u001b[01;35m\u001b[K__pyx_t_4 = (__pyx_v_start_pos_impression_items + __pyx_v_index)\u001b[m\u001b[K;\r\n",
      "      |       \u001b[01;35m\u001b[K~~~~~~~~~~^~~~~~~~~~~~~~~~~~~~~~~~~~~~~~~~~~~~~~~~~~~~~~~~~~~~~~\u001b[m\u001b[K\r\n",
      "\u001b[01m\u001b[KMatrixFactorizationImpressions_Cython_Epoch.c:\u001b[m\u001b[K In function '\u001b[01m\u001b[K__pyx_pf_43MatrixFactorizationImpressions_Cython_Epoch_32MatrixFactorization_Cython_Epoch_10epochIteration_Cython_ASY_SVD_SGD\u001b[m\u001b[K':\r\n",
      "\u001b[01m\u001b[KMatrixFactorizationImpressions_Cython_Epoch.c:26111:7:\u001b[m\u001b[K \u001b[01;35m\u001b[Kwarning: \u001b[m\u001b[K'\u001b[01m\u001b[K__pyx_v_end_pos_seen_items\u001b[m\u001b[K' may be used uninitialized in this function [\u001b[01;35m\u001b[K-Wmaybe-uninitialized\u001b[m\u001b[K]\r\n",
      "26111 |       \u001b[01;35m\u001b[Kfor\u001b[m\u001b[K (__pyx_t_21 = __pyx_v_start_pos_seen_items; __pyx_t_21 < __pyx_t_20; __pyx_t_21+=1) {\r\n",
      "      |       \u001b[01;35m\u001b[K^~~\u001b[m\u001b[K\r\n",
      "\u001b[01m\u001b[KMatrixFactorizationImpressions_Cython_Epoch.c:26111:7:\u001b[m\u001b[K \u001b[01;35m\u001b[Kwarning: \u001b[m\u001b[K'\u001b[01m\u001b[K__pyx_v_start_pos_seen_items\u001b[m\u001b[K' may be used uninitialized in this function [\u001b[01;35m\u001b[K-Wmaybe-uninitialized\u001b[m\u001b[K]\r\n",
      "/opt/conda/lib/python3.10/site-packages/Cython/Compiler/Main.py:381: FutureWarning: Cython directive 'language_level' not set, using '3str' for now (Py3). This has changed from earlier releases! File: /kaggle/working/RECsys_Challenge2024/Recommenders/MatrixFactorization/Cython/MatrixFactorizationImpressions_Cython_Epoch.pyx\r\n",
      "  tree = Parsing.p_module(s, pxd, full_module_name)\r\n",
      "Compiling [1/11]: MatrixFactorizationImpressions_Cython_Epoch.pyx... PASS\r\n",
      "\r\n",
      "Compiling [2/11]: MatrixFactorization_Cython_Epoch.pyx... \r\n",
      "In file included from \u001b[01m\u001b[K/opt/conda/lib/python3.10/site-packages/numpy/core/include/numpy/ndarraytypes.h:1929\u001b[m\u001b[K,\r\n",
      "                 from \u001b[01m\u001b[K/opt/conda/lib/python3.10/site-packages/numpy/core/include/numpy/ndarrayobject.h:12\u001b[m\u001b[K,\r\n",
      "                 from \u001b[01m\u001b[K/opt/conda/lib/python3.10/site-packages/numpy/core/include/numpy/arrayobject.h:5\u001b[m\u001b[K,\r\n",
      "                 from \u001b[01m\u001b[KMatrixFactorization_Cython_Epoch.c:1252\u001b[m\u001b[K:\r\n",
      "\u001b[01m\u001b[K/opt/conda/lib/python3.10/site-packages/numpy/core/include/numpy/npy_1_7_deprecated_api.h:17:2:\u001b[m\u001b[K \u001b[01;35m\u001b[Kwarning: \u001b[m\u001b[K#warning \"Using deprecated NumPy API, disable it with \" \"#define NPY_NO_DEPRECATED_API NPY_1_7_API_VERSION\" [\u001b[01;35m\u001b[K-Wcpp\u001b[m\u001b[K]\r\n",
      "   17 | #\u001b[01;35m\u001b[Kwarning\u001b[m\u001b[K \"Using deprecated NumPy API, disable it with \" \\\r\n",
      "      |  \u001b[01;35m\u001b[K^~~~~~~\u001b[m\u001b[K\r\n",
      "\u001b[01m\u001b[KMatrixFactorization_Cython_Epoch.c:\u001b[m\u001b[K In function '\u001b[01m\u001b[K__pyx_pf_32MatrixFactorization_Cython_Epoch_32MatrixFactorization_Cython_Epoch_10epochIteration_Cython_ASY_SVD_SGD\u001b[m\u001b[K':\r\n",
      "\u001b[01m\u001b[KMatrixFactorization_Cython_Epoch.c:26255:9:\u001b[m\u001b[K \u001b[01;35m\u001b[Kwarning: \u001b[m\u001b[K'\u001b[01m\u001b[K__pyx_v_end_pos_seen_items\u001b[m\u001b[K' may be used uninitialized in this function [\u001b[01;35m\u001b[K-Wmaybe-uninitialized\u001b[m\u001b[K]\r\n",
      "26255 |         \u001b[01;35m\u001b[Kfor\u001b[m\u001b[K (__pyx_t_21 = __pyx_v_start_pos_seen_items; __pyx_t_21 < __pyx_t_20; __pyx_t_21+=1) {\r\n",
      "      |         \u001b[01;35m\u001b[K^~~\u001b[m\u001b[K\r\n",
      "\u001b[01m\u001b[KMatrixFactorization_Cython_Epoch.c:26255:9:\u001b[m\u001b[K \u001b[01;35m\u001b[Kwarning: \u001b[m\u001b[K'\u001b[01m\u001b[K__pyx_v_start_pos_seen_items\u001b[m\u001b[K' may be used uninitialized in this function [\u001b[01;35m\u001b[K-Wmaybe-uninitialized\u001b[m\u001b[K]\r\n",
      "/opt/conda/lib/python3.10/site-packages/Cython/Compiler/Main.py:381: FutureWarning: Cython directive 'language_level' not set, using '3str' for now (Py3). This has changed from earlier releases! File: /kaggle/working/RECsys_Challenge2024/Recommenders/MatrixFactorization/Cython/MatrixFactorization_Cython_Epoch.pyx\r\n",
      "  tree = Parsing.p_module(s, pxd, full_module_name)\r\n",
      "Compiling [2/11]: MatrixFactorization_Cython_Epoch.pyx... PASS\r\n",
      "\r\n",
      "Compiling [3/11]: Compute_Similarity_Cython.pyx... \r\n",
      "warning: Compute_Similarity_Cython.pyx:21:0: The 'IF' statement is deprecated and will be removed in a future Cython version. Consider using runtime conditions or C macros instead. See https://github.com/cython/cython/issues/4310\r\n",
      "In file included from \u001b[01m\u001b[K/opt/conda/lib/python3.10/site-packages/numpy/core/include/numpy/ndarraytypes.h:1929\u001b[m\u001b[K,\r\n",
      "                 from \u001b[01m\u001b[K/opt/conda/lib/python3.10/site-packages/numpy/core/include/numpy/ndarrayobject.h:12\u001b[m\u001b[K,\r\n",
      "                 from \u001b[01m\u001b[K/opt/conda/lib/python3.10/site-packages/numpy/core/include/numpy/arrayobject.h:5\u001b[m\u001b[K,\r\n",
      "                 from \u001b[01m\u001b[KCompute_Similarity_Cython.c:1252\u001b[m\u001b[K:\r\n",
      "\u001b[01m\u001b[K/opt/conda/lib/python3.10/site-packages/numpy/core/include/numpy/npy_1_7_deprecated_api.h:17:2:\u001b[m\u001b[K \u001b[01;35m\u001b[Kwarning: \u001b[m\u001b[K#warning \"Using deprecated NumPy API, disable it with \" \"#define NPY_NO_DEPRECATED_API NPY_1_7_API_VERSION\" [\u001b[01;35m\u001b[K-Wcpp\u001b[m\u001b[K]\r\n",
      "   17 | #\u001b[01;35m\u001b[Kwarning\u001b[m\u001b[K \"Using deprecated NumPy API, disable it with \" \\\r\n",
      "      |  \u001b[01;35m\u001b[K^~~~~~~\u001b[m\u001b[K\r\n",
      "/opt/conda/lib/python3.10/site-packages/Cython/Compiler/Main.py:381: FutureWarning: Cython directive 'language_level' not set, using '3str' for now (Py3). This has changed from earlier releases! File: /kaggle/working/RECsys_Challenge2024/Recommenders/Similarity/Cython/Compute_Similarity_Cython.pyx\r\n",
      "  tree = Parsing.p_module(s, pxd, full_module_name)\r\n",
      "warning: Compute_Similarity_Cython.pyx:21:0: The 'IF' statement is deprecated and will be removed in a future Cython version. Consider using runtime conditions or C macros instead. See https://github.com/cython/cython/issues/4310\r\n",
      "Compiling [3/11]: Compute_Similarity_Cython.pyx... PASS\r\n",
      "\r\n",
      "Compiling [4/11]: SLIM_BPR_Cython_Epoch.pyx... \r\n",
      "warning: SLIM_BPR_Cython_Epoch.pyx:24:0: The 'IF' statement is deprecated and will be removed in a future Cython version. Consider using runtime conditions or C macros instead. See https://github.com/cython/cython/issues/4310\r\n",
      "warning: SLIM_BPR_Cython_Epoch.pyx:632:34: Non-trivial type declarators in shared declaration (e.g. mix of pointers and values). Each pointer declaration should be on its own line.\r\n",
      "warning: SLIM_BPR_Cython_Epoch.pyx:632:66: Non-trivial type declarators in shared declaration (e.g. mix of pointers and values). Each pointer declaration should be on its own line.\r\n",
      "warning: SLIM_BPR_Cython_Epoch.pyx:817:35: Non-trivial type declarators in shared declaration (e.g. mix of pointers and values). Each pointer declaration should be on its own line.\r\n",
      "warning: SLIM_BPR_Cython_Epoch.pyx:817:52: Non-trivial type declarators in shared declaration (e.g. mix of pointers and values). Each pointer declaration should be on its own line.\r\n",
      "warning: SLIM_BPR_Cython_Epoch.pyx:916:35: Non-trivial type declarators in shared declaration (e.g. mix of pointers and values). Each pointer declaration should be on its own line.\r\n",
      "warning: SLIM_BPR_Cython_Epoch.pyx:916:53: Non-trivial type declarators in shared declaration (e.g. mix of pointers and values). Each pointer declaration should be on its own line.\r\n",
      "warning: SLIM_BPR_Cython_Epoch.pyx:916:69: Non-trivial type declarators in shared declaration (e.g. mix of pointers and values). Each pointer declaration should be on its own line.\r\n",
      "warning: SLIM_BPR_Cython_Epoch.pyx:1051:35: Non-trivial type declarators in shared declaration (e.g. mix of pointers and values). Each pointer declaration should be on its own line.\r\n",
      "warning: SLIM_BPR_Cython_Epoch.pyx:1051:42: Non-trivial type declarators in shared declaration (e.g. mix of pointers and values). Each pointer declaration should be on its own line.\r\n",
      "warning: SLIM_BPR_Cython_Epoch.pyx:1052:35: Non-trivial type declarators in shared declaration (e.g. mix of pointers and values). Each pointer declaration should be on its own line.\r\n",
      "warning: SLIM_BPR_Cython_Epoch.pyx:1052:53: Non-trivial type declarators in shared declaration (e.g. mix of pointers and values). Each pointer declaration should be on its own line.\r\n",
      "\r\n",
      "Error compiling Cython file:\r\n",
      "------------------------------------------------------------\r\n",
      "...\r\n",
      "            vector_pointer_to_list_elements[index].head = current_element\r\n",
      "            current_element = current_element.higher\r\n",
      "\r\n",
      "\r\n",
      "        # Sort array elements on their data field\r\n",
      "        qsort(vector_pointer_to_list_elements, list_length, sizeof(head_pointer_tree_s), compare_struct_on_data)\r\n",
      "                                                                                         ^\r\n",
      "------------------------------------------------------------\r\n",
      "\r\n",
      "SLIM_BPR_Cython_Epoch.pyx:990:89: Cannot assign type 'int (const void *, const void *) except? -1' to 'int (*)(const_void *, const_void *) noexcept'. Exception values are incompatible. Suggest adding 'noexcept' to the type of 'compare_struct_on_data'.\r\n",
      "\r\n",
      "Error compiling Cython file:\r\n",
      "------------------------------------------------------------\r\n",
      "...\r\n",
      "        # Sort array elements on their data field\r\n",
      "        qsort(vector_pointer_to_list_elements, list_length, sizeof(head_pointer_tree_s), compare_struct_on_data)\r\n",
      "\r\n",
      "        # Sort only the TopK according to their column field\r\n",
      "        # Sort is from lower to higher, therefore the elements to be considered are from len-topK to len\r\n",
      "        qsort(&vector_pointer_to_list_elements[list_length-TopK], TopK, sizeof(head_pointer_tree_s), compare_struct_on_column)\r\n",
      "                                                                                                     ^\r\n",
      "------------------------------------------------------------\r\n",
      "\r\n",
      "SLIM_BPR_Cython_Epoch.pyx:994:101: Cannot assign type 'int (const void *, const void *) except? -1' to 'int (*)(const_void *, const_void *) noexcept'. Exception values are incompatible. Suggest adding 'noexcept' to the type of 'compare_struct_on_column'.\r\n",
      "Traceback (most recent call last):\r\n",
      "  File \"/kaggle/working/RECsys_Challenge2024/CythonCompiler/compile_script.py\", line 48, in <module>\r\n",
      "    setup(\r\n",
      "  File \"/opt/conda/lib/python3.10/site-packages/setuptools/__init__.py\", line 103, in setup\r\n",
      "    return distutils.core.setup(**attrs)\r\n",
      "  File \"/opt/conda/lib/python3.10/site-packages/setuptools/_distutils/core.py\", line 184, in setup\r\n",
      "    return run_commands(dist)\r\n",
      "  File \"/opt/conda/lib/python3.10/site-packages/setuptools/_distutils/core.py\", line 200, in run_commands\r\n",
      "    dist.run_commands()\r\n",
      "  File \"/opt/conda/lib/python3.10/site-packages/setuptools/_distutils/dist.py\", line 969, in run_commands\r\n",
      "    self.run_command(cmd)\r\n",
      "  File \"/opt/conda/lib/python3.10/site-packages/setuptools/dist.py\", line 968, in run_command\r\n",
      "    super().run_command(command)\r\n",
      "  File \"/opt/conda/lib/python3.10/site-packages/setuptools/_distutils/dist.py\", line 988, in run_command\r\n",
      "    cmd_obj.run()\r\n",
      "  File \"/opt/conda/lib/python3.10/site-packages/setuptools/_distutils/command/build_ext.py\", line 359, in run\r\n",
      "    self.build_extensions()\r\n",
      "  File \"/opt/conda/lib/python3.10/site-packages/setuptools/_distutils/command/build_ext.py\", line 479, in build_extensions\r\n",
      "    self._build_extensions_serial()\r\n",
      "  File \"/opt/conda/lib/python3.10/site-packages/setuptools/_distutils/command/build_ext.py\", line 505, in _build_extensions_serial\r\n",
      "    self.build_extension(ext)\r\n",
      "  File \"/opt/conda/lib/python3.10/site-packages/Cython/Distutils/build_ext.py\", line 130, in build_extension\r\n",
      "    new_ext = cythonize(\r\n",
      "  File \"/opt/conda/lib/python3.10/site-packages/Cython/Build/Dependencies.py\", line 1154, in cythonize\r\n",
      "    cythonize_one(*args)\r\n",
      "  File \"/opt/conda/lib/python3.10/site-packages/Cython/Build/Dependencies.py\", line 1321, in cythonize_one\r\n",
      "    raise CompileError(None, pyx_file)\r\n",
      "Cython.Compiler.Errors.CompileError: SLIM_BPR_Cython_Epoch.pyx\r\n",
      "Traceback (most recent call last):\r\n",
      "  File \"/kaggle/working/RECsys_Challenge2024/run_compile_all_cython.py\", line 60, in <module>\r\n",
      "    run_compile_subprocess(file_path, [file_name])\r\n",
      "  File \"/kaggle/working/RECsys_Challenge2024/CythonCompiler/run_compile_subprocess.py\", line 51, in run_compile_subprocess\r\n",
      "    raise exc\r\n",
      "  File \"/kaggle/working/RECsys_Challenge2024/CythonCompiler/run_compile_subprocess.py\", line 32, in run_compile_subprocess\r\n",
      "    output = subprocess.check_output(' '.join(command),\r\n",
      "  File \"/opt/conda/lib/python3.10/subprocess.py\", line 421, in check_output\r\n",
      "    return run(*popenargs, stdout=PIPE, timeout=timeout, check=True,\r\n",
      "  File \"/opt/conda/lib/python3.10/subprocess.py\", line 526, in run\r\n",
      "    raise CalledProcessError(retcode, process.args,\r\n",
      "subprocess.CalledProcessError: Command '/opt/conda/bin/python /kaggle/working/RECsys_Challenge2024/CythonCompiler/compile_script.py SLIM_BPR_Cython_Epoch.pyx build_ext --inplace' returned non-zero exit status 1.\r\n",
      "Compiling [4/11]: SLIM_BPR_Cython_Epoch.pyx... FAIL: Command '/opt/conda/bin/python /kaggle/working/RECsys_Challenge2024/CythonCompiler/compile_script.py SLIM_BPR_Cython_Epoch.pyx build_ext --inplace' returned non-zero exit status 1.\r\n",
      "\r\n",
      "Compiling [5/11]: Triangular_Matrix.pyx... \r\n",
      "warning: Triangular_Matrix.pyx:22:0: The 'IF' statement is deprecated and will be removed in a future Cython version. Consider using runtime conditions or C macros instead. See https://github.com/cython/cython/issues/4310\r\n",
      "In file included from \u001b[01m\u001b[K/opt/conda/lib/python3.10/site-packages/numpy/core/include/numpy/ndarraytypes.h:1929\u001b[m\u001b[K,\r\n",
      "                 from \u001b[01m\u001b[K/opt/conda/lib/python3.10/site-packages/numpy/core/include/numpy/ndarrayobject.h:12\u001b[m\u001b[K,\r\n",
      "                 from \u001b[01m\u001b[K/opt/conda/lib/python3.10/site-packages/numpy/core/include/numpy/arrayobject.h:5\u001b[m\u001b[K,\r\n",
      "                 from \u001b[01m\u001b[KTriangular_Matrix.c:1252\u001b[m\u001b[K:\r\n",
      "\u001b[01m\u001b[K/opt/conda/lib/python3.10/site-packages/numpy/core/include/numpy/npy_1_7_deprecated_api.h:17:2:\u001b[m\u001b[K \u001b[01;35m\u001b[Kwarning: \u001b[m\u001b[K#warning \"Using deprecated NumPy API, disable it with \" \"#define NPY_NO_DEPRECATED_API NPY_1_7_API_VERSION\" [\u001b[01;35m\u001b[K-Wcpp\u001b[m\u001b[K]\r\n",
      "   17 | #\u001b[01;35m\u001b[Kwarning\u001b[m\u001b[K \"Using deprecated NumPy API, disable it with \" \\\r\n",
      "      |  \u001b[01;35m\u001b[K^~~~~~~\u001b[m\u001b[K\r\n",
      "/opt/conda/lib/python3.10/site-packages/Cython/Compiler/Main.py:381: FutureWarning: Cython directive 'language_level' not set, using '3str' for now (Py3). This has changed from earlier releases! File: /kaggle/working/RECsys_Challenge2024/Recommenders/SLIM/Cython/Triangular_Matrix.pyx\r\n",
      "  tree = Parsing.p_module(s, pxd, full_module_name)\r\n",
      "warning: Triangular_Matrix.pyx:22:0: The 'IF' statement is deprecated and will be removed in a future Cython version. Consider using runtime conditions or C macros instead. See https://github.com/cython/cython/issues/4310\r\n",
      "Compiling [5/11]: Triangular_Matrix.pyx... PASS\r\n",
      "\r\n",
      "Compiling [6/11]: Sparse_Matrix_Tree_CSR.pyx... \r\n",
      "warning: Sparse_Matrix_Tree_CSR.pyx:132:34: Non-trivial type declarators in shared declaration (e.g. mix of pointers and values). Each pointer declaration should be on its own line.\r\n",
      "warning: Sparse_Matrix_Tree_CSR.pyx:132:66: Non-trivial type declarators in shared declaration (e.g. mix of pointers and values). Each pointer declaration should be on its own line.\r\n",
      "warning: Sparse_Matrix_Tree_CSR.pyx:343:35: Non-trivial type declarators in shared declaration (e.g. mix of pointers and values). Each pointer declaration should be on its own line.\r\n",
      "warning: Sparse_Matrix_Tree_CSR.pyx:343:52: Non-trivial type declarators in shared declaration (e.g. mix of pointers and values). Each pointer declaration should be on its own line.\r\n",
      "warning: Sparse_Matrix_Tree_CSR.pyx:442:35: Non-trivial type declarators in shared declaration (e.g. mix of pointers and values). Each pointer declaration should be on its own line.\r\n",
      "warning: Sparse_Matrix_Tree_CSR.pyx:442:53: Non-trivial type declarators in shared declaration (e.g. mix of pointers and values). Each pointer declaration should be on its own line.\r\n",
      "warning: Sparse_Matrix_Tree_CSR.pyx:442:69: Non-trivial type declarators in shared declaration (e.g. mix of pointers and values). Each pointer declaration should be on its own line.\r\n",
      "warning: Sparse_Matrix_Tree_CSR.pyx:577:35: Non-trivial type declarators in shared declaration (e.g. mix of pointers and values). Each pointer declaration should be on its own line.\r\n",
      "warning: Sparse_Matrix_Tree_CSR.pyx:577:42: Non-trivial type declarators in shared declaration (e.g. mix of pointers and values). Each pointer declaration should be on its own line.\r\n",
      "warning: Sparse_Matrix_Tree_CSR.pyx:578:35: Non-trivial type declarators in shared declaration (e.g. mix of pointers and values). Each pointer declaration should be on its own line.\r\n",
      "warning: Sparse_Matrix_Tree_CSR.pyx:578:53: Non-trivial type declarators in shared declaration (e.g. mix of pointers and values). Each pointer declaration should be on its own line.\r\n",
      "\r\n",
      "Error compiling Cython file:\r\n",
      "------------------------------------------------------------\r\n",
      "...\r\n",
      "            vector_pointer_to_list_elements[index].head = current_element\r\n",
      "            current_element = current_element.higher\r\n",
      "\r\n",
      "\r\n",
      "        # Sort array elements on their data field\r\n",
      "        qsort(vector_pointer_to_list_elements, list_length, sizeof(head_pointer_tree_s), compare_struct_on_data)\r\n",
      "                                                                                         ^\r\n",
      "------------------------------------------------------------\r\n",
      "\r\n",
      "Sparse_Matrix_Tree_CSR.pyx:516:89: Cannot assign type 'int (const void *, const void *) except? -1' to 'int (*)(const_void *, const_void *) noexcept'. Exception values are incompatible. Suggest adding 'noexcept' to the type of 'compare_struct_on_data'.\r\n",
      "\r\n",
      "Error compiling Cython file:\r\n",
      "------------------------------------------------------------\r\n",
      "...\r\n",
      "        # Sort array elements on their data field\r\n",
      "        qsort(vector_pointer_to_list_elements, list_length, sizeof(head_pointer_tree_s), compare_struct_on_data)\r\n",
      "\r\n",
      "        # Sort only the TopK according to their column field\r\n",
      "        # Sort is from lower to higher, therefore the elements to be considered are from len-topK to len\r\n",
      "        qsort(&vector_pointer_to_list_elements[list_length-TopK], TopK, sizeof(head_pointer_tree_s), compare_struct_on_column)\r\n",
      "                                                                                                     ^\r\n",
      "------------------------------------------------------------\r\n",
      "\r\n",
      "Sparse_Matrix_Tree_CSR.pyx:520:101: Cannot assign type 'int (const void *, const void *) except? -1' to 'int (*)(const_void *, const_void *) noexcept'. Exception values are incompatible. Suggest adding 'noexcept' to the type of 'compare_struct_on_column'.\r\n",
      "Traceback (most recent call last):\r\n",
      "  File \"/kaggle/working/RECsys_Challenge2024/CythonCompiler/compile_script.py\", line 48, in <module>\r\n",
      "    setup(\r\n",
      "  File \"/opt/conda/lib/python3.10/site-packages/setuptools/__init__.py\", line 103, in setup\r\n",
      "    return distutils.core.setup(**attrs)\r\n",
      "  File \"/opt/conda/lib/python3.10/site-packages/setuptools/_distutils/core.py\", line 184, in setup\r\n",
      "    return run_commands(dist)\r\n",
      "  File \"/opt/conda/lib/python3.10/site-packages/setuptools/_distutils/core.py\", line 200, in run_commands\r\n",
      "    dist.run_commands()\r\n",
      "  File \"/opt/conda/lib/python3.10/site-packages/setuptools/_distutils/dist.py\", line 969, in run_commands\r\n",
      "    self.run_command(cmd)\r\n",
      "  File \"/opt/conda/lib/python3.10/site-packages/setuptools/dist.py\", line 968, in run_command\r\n",
      "    super().run_command(command)\r\n",
      "  File \"/opt/conda/lib/python3.10/site-packages/setuptools/_distutils/dist.py\", line 988, in run_command\r\n",
      "    cmd_obj.run()\r\n",
      "  File \"/opt/conda/lib/python3.10/site-packages/setuptools/_distutils/command/build_ext.py\", line 359, in run\r\n",
      "    self.build_extensions()\r\n",
      "  File \"/opt/conda/lib/python3.10/site-packages/setuptools/_distutils/command/build_ext.py\", line 479, in build_extensions\r\n",
      "    self._build_extensions_serial()\r\n",
      "  File \"/opt/conda/lib/python3.10/site-packages/setuptools/_distutils/command/build_ext.py\", line 505, in _build_extensions_serial\r\n",
      "    self.build_extension(ext)\r\n",
      "  File \"/opt/conda/lib/python3.10/site-packages/Cython/Distutils/build_ext.py\", line 130, in build_extension\r\n",
      "    new_ext = cythonize(\r\n",
      "  File \"/opt/conda/lib/python3.10/site-packages/Cython/Build/Dependencies.py\", line 1154, in cythonize\r\n",
      "    cythonize_one(*args)\r\n",
      "  File \"/opt/conda/lib/python3.10/site-packages/Cython/Build/Dependencies.py\", line 1321, in cythonize_one\r\n",
      "    raise CompileError(None, pyx_file)\r\n",
      "Cython.Compiler.Errors.CompileError: Sparse_Matrix_Tree_CSR.pyx\r\n",
      "Traceback (most recent call last):\r\n",
      "  File \"/kaggle/working/RECsys_Challenge2024/run_compile_all_cython.py\", line 60, in <module>\r\n",
      "    run_compile_subprocess(file_path, [file_name])\r\n",
      "  File \"/kaggle/working/RECsys_Challenge2024/CythonCompiler/run_compile_subprocess.py\", line 51, in run_compile_subprocess\r\n",
      "    raise exc\r\n",
      "  File \"/kaggle/working/RECsys_Challenge2024/CythonCompiler/run_compile_subprocess.py\", line 32, in run_compile_subprocess\r\n",
      "    output = subprocess.check_output(' '.join(command),\r\n",
      "  File \"/opt/conda/lib/python3.10/subprocess.py\", line 421, in check_output\r\n",
      "    return run(*popenargs, stdout=PIPE, timeout=timeout, check=True,\r\n",
      "  File \"/opt/conda/lib/python3.10/subprocess.py\", line 526, in run\r\n",
      "    raise CalledProcessError(retcode, process.args,\r\n",
      "subprocess.CalledProcessError: Command '/opt/conda/bin/python /kaggle/working/RECsys_Challenge2024/CythonCompiler/compile_script.py Sparse_Matrix_Tree_CSR.pyx build_ext --inplace' returned non-zero exit status 1.\r\n",
      "Compiling [6/11]: Sparse_Matrix_Tree_CSR.pyx... FAIL: Command '/opt/conda/bin/python /kaggle/working/RECsys_Challenge2024/CythonCompiler/compile_script.py Sparse_Matrix_Tree_CSR.pyx build_ext --inplace' returned non-zero exit status 1.\r\n",
      "\r\n",
      "Compiling [7/11]: CFW_D_Similarity_Cython_SGD.pyx... \r\n",
      "In file included from \u001b[01m\u001b[K/opt/conda/lib/python3.10/site-packages/numpy/core/include/numpy/ndarraytypes.h:1929\u001b[m\u001b[K,\r\n",
      "                 from \u001b[01m\u001b[K/opt/conda/lib/python3.10/site-packages/numpy/core/include/numpy/ndarrayobject.h:12\u001b[m\u001b[K,\r\n",
      "                 from \u001b[01m\u001b[K/opt/conda/lib/python3.10/site-packages/numpy/core/include/numpy/arrayobject.h:5\u001b[m\u001b[K,\r\n",
      "                 from \u001b[01m\u001b[KCFW_D_Similarity_Cython_SGD.c:1252\u001b[m\u001b[K:\r\n",
      "\u001b[01m\u001b[K/opt/conda/lib/python3.10/site-packages/numpy/core/include/numpy/npy_1_7_deprecated_api.h:17:2:\u001b[m\u001b[K \u001b[01;35m\u001b[Kwarning: \u001b[m\u001b[K#warning \"Using deprecated NumPy API, disable it with \" \"#define NPY_NO_DEPRECATED_API NPY_1_7_API_VERSION\" [\u001b[01;35m\u001b[K-Wcpp\u001b[m\u001b[K]\r\n",
      "   17 | #\u001b[01;35m\u001b[Kwarning\u001b[m\u001b[K \"Using deprecated NumPy API, disable it with \" \\\r\n",
      "      |  \u001b[01;35m\u001b[K^~~~~~~\u001b[m\u001b[K\r\n",
      "\u001b[01m\u001b[KCFW_D_Similarity_Cython_SGD.c:\u001b[m\u001b[K In function '\u001b[01m\u001b[K__pyx_pf_27CFW_D_Similarity_Cython_SGD_27CFW_D_Similarity_Cython_SGD_6fit\u001b[m\u001b[K':\r\n",
      "\u001b[01m\u001b[KCFW_D_Similarity_Cython_SGD.c:23373:55:\u001b[m\u001b[K \u001b[01;35m\u001b[Kwarning: \u001b[m\u001b[K'\u001b[01m\u001b[K__pyx_v_sample_num\u001b[m\u001b[K' may be used uninitialized in this function [\u001b[01;35m\u001b[K-Wmaybe-uninitialized\u001b[m\u001b[K]\r\n",
      "23373 |   __pyx_t_3 = PyFloat_FromDouble((__pyx_v_cum_loss / \u001b[01;35m\u001b[K((double)__pyx_v_sample_num)\u001b[m\u001b[K)); if (unlikely(!__pyx_t_3)) __PYX_ERR(0, 290, __pyx_L1_error)\r\n",
      "      |                                                      \u001b[01;35m\u001b[K~^~~~~~~~~~~~~~~~~~~~~~~~~~~\u001b[m\u001b[K\r\n",
      "/opt/conda/lib/python3.10/site-packages/Cython/Compiler/Main.py:381: FutureWarning: Cython directive 'language_level' not set, using '3str' for now (Py3). This has changed from earlier releases! File: /kaggle/working/RECsys_Challenge2024/Recommenders/FeatureWeighting/Cython/CFW_D_Similarity_Cython_SGD.pyx\r\n",
      "  tree = Parsing.p_module(s, pxd, full_module_name)\r\n",
      "Compiling [7/11]: CFW_D_Similarity_Cython_SGD.pyx... PASS\r\n",
      "\r\n",
      "Compiling [8/11]: HP3_Similarity_Cython_SGD.pyx... \r\n",
      "performance hint: HP3_Similarity_Cython_SGD.pyx:113:40: Index should be typed for more efficient access\r\n",
      "performance hint: HP3_Similarity_Cython_SGD.pyx:114:40: Index should be typed for more efficient access\r\n",
      "In file included from \u001b[01m\u001b[K/opt/conda/lib/python3.10/site-packages/numpy/core/include/numpy/ndarraytypes.h:1929\u001b[m\u001b[K,\r\n",
      "                 from \u001b[01m\u001b[K/opt/conda/lib/python3.10/site-packages/numpy/core/include/numpy/ndarrayobject.h:12\u001b[m\u001b[K,\r\n",
      "                 from \u001b[01m\u001b[K/opt/conda/lib/python3.10/site-packages/numpy/core/include/numpy/arrayobject.h:5\u001b[m\u001b[K,\r\n",
      "                 from \u001b[01m\u001b[KHP3_Similarity_Cython_SGD.c:1252\u001b[m\u001b[K:\r\n",
      "\u001b[01m\u001b[K/opt/conda/lib/python3.10/site-packages/numpy/core/include/numpy/npy_1_7_deprecated_api.h:17:2:\u001b[m\u001b[K \u001b[01;35m\u001b[Kwarning: \u001b[m\u001b[K#warning \"Using deprecated NumPy API, disable it with \" \"#define NPY_NO_DEPRECATED_API NPY_1_7_API_VERSION\" [\u001b[01;35m\u001b[K-Wcpp\u001b[m\u001b[K]\r\n",
      "   17 | #\u001b[01;35m\u001b[Kwarning\u001b[m\u001b[K \"Using deprecated NumPy API, disable it with \" \\\r\n",
      "      |  \u001b[01;35m\u001b[K^~~~~~~\u001b[m\u001b[K\r\n",
      "\u001b[01m\u001b[KHP3_Similarity_Cython_SGD.c:\u001b[m\u001b[K In function '\u001b[01m\u001b[K__pyx_pf_25HP3_Similarity_Cython_SGD_25HP3_Similarity_Cython_SGD_4fit\u001b[m\u001b[K':\r\n",
      "\u001b[01m\u001b[KHP3_Similarity_Cython_SGD.c:23631:55:\u001b[m\u001b[K \u001b[01;35m\u001b[Kwarning: \u001b[m\u001b[K'\u001b[01m\u001b[K__pyx_v_sample_num\u001b[m\u001b[K' may be used uninitialized in this function [\u001b[01;35m\u001b[K-Wmaybe-uninitialized\u001b[m\u001b[K]\r\n",
      "23631 |   __pyx_t_1 = PyFloat_FromDouble((__pyx_v_cum_loss / \u001b[01;35m\u001b[K((double)__pyx_v_sample_num)\u001b[m\u001b[K)); if (unlikely(!__pyx_t_1)) __PYX_ERR(0, 291, __pyx_L1_error)\r\n",
      "      |                                                      \u001b[01;35m\u001b[K~^~~~~~~~~~~~~~~~~~~~~~~~~~~\u001b[m\u001b[K\r\n",
      "/opt/conda/lib/python3.10/site-packages/Cython/Compiler/Main.py:381: FutureWarning: Cython directive 'language_level' not set, using '3str' for now (Py3). This has changed from earlier releases! File: /kaggle/working/RECsys_Challenge2024/Recommenders/FeatureWeighting/Cython/HP3_Similarity_Cython_SGD.pyx\r\n",
      "  tree = Parsing.p_module(s, pxd, full_module_name)\r\n",
      "performance hint: HP3_Similarity_Cython_SGD.pyx:113:40: Index should be typed for more efficient access\r\n",
      "performance hint: HP3_Similarity_Cython_SGD.pyx:114:40: Index should be typed for more efficient access\r\n",
      "Compiling [8/11]: HP3_Similarity_Cython_SGD.pyx... PASS\r\n",
      "\r\n",
      "Compiling [9/11]: FBSM_Rating_Cython_SGD.pyx... \r\n",
      "In file included from \u001b[01m\u001b[K/opt/conda/lib/python3.10/site-packages/numpy/core/include/numpy/ndarraytypes.h:1929\u001b[m\u001b[K,\r\n",
      "                 from \u001b[01m\u001b[K/opt/conda/lib/python3.10/site-packages/numpy/core/include/numpy/ndarrayobject.h:12\u001b[m\u001b[K,\r\n",
      "                 from \u001b[01m\u001b[K/opt/conda/lib/python3.10/site-packages/numpy/core/include/numpy/arrayobject.h:5\u001b[m\u001b[K,\r\n",
      "                 from \u001b[01m\u001b[KFBSM_Rating_Cython_SGD.c:1252\u001b[m\u001b[K:\r\n",
      "\u001b[01m\u001b[K/opt/conda/lib/python3.10/site-packages/numpy/core/include/numpy/npy_1_7_deprecated_api.h:17:2:\u001b[m\u001b[K \u001b[01;35m\u001b[Kwarning: \u001b[m\u001b[K#warning \"Using deprecated NumPy API, disable it with \" \"#define NPY_NO_DEPRECATED_API NPY_1_7_API_VERSION\" [\u001b[01;35m\u001b[K-Wcpp\u001b[m\u001b[K]\r\n",
      "   17 | #\u001b[01;35m\u001b[Kwarning\u001b[m\u001b[K \"Using deprecated NumPy API, disable it with \" \\\r\n",
      "      |  \u001b[01;35m\u001b[K^~~~~~~\u001b[m\u001b[K\r\n",
      "\u001b[01m\u001b[KFBSM_Rating_Cython_SGD.c:\u001b[m\u001b[K In function '\u001b[01m\u001b[K__pyx_pf_22FBSM_Rating_Cython_SGD_22FBSM_Rating_Cython_SGD_2fit\u001b[m\u001b[K':\r\n",
      "\u001b[01m\u001b[KFBSM_Rating_Cython_SGD.c:26607:55:\u001b[m\u001b[K \u001b[01;35m\u001b[Kwarning: \u001b[m\u001b[K'\u001b[01m\u001b[K__pyx_v_num_sample\u001b[m\u001b[K' may be used uninitialized in this function [\u001b[01;35m\u001b[K-Wmaybe-uninitialized\u001b[m\u001b[K]\r\n",
      "26607 |   __pyx_t_5 = PyFloat_FromDouble((__pyx_v_cum_loss / \u001b[01;35m\u001b[K((double)__pyx_v_num_sample)\u001b[m\u001b[K)); if (unlikely(!__pyx_t_5)) __PYX_ERR(0, 551, __pyx_L1_error)\r\n",
      "      |                                                      \u001b[01;35m\u001b[K~^~~~~~~~~~~~~~~~~~~~~~~~~~~\u001b[m\u001b[K\r\n",
      "/opt/conda/lib/python3.10/site-packages/Cython/Compiler/Main.py:381: FutureWarning: Cython directive 'language_level' not set, using '3str' for now (Py3). This has changed from earlier releases! File: /kaggle/working/RECsys_Challenge2024/Recommenders/FeatureWeighting/Cython/FBSM_Rating_Cython_SGD.pyx\r\n",
      "  tree = Parsing.p_module(s, pxd, full_module_name)\r\n",
      "Compiling [9/11]: FBSM_Rating_Cython_SGD.pyx... PASS\r\n",
      "\r\n",
      "Compiling [10/11]: CFW_DVV_Similarity_Cython_SGD.pyx... \r\n",
      "In file included from \u001b[01m\u001b[K/opt/conda/lib/python3.10/site-packages/numpy/core/include/numpy/ndarraytypes.h:1929\u001b[m\u001b[K,\r\n",
      "                 from \u001b[01m\u001b[K/opt/conda/lib/python3.10/site-packages/numpy/core/include/numpy/ndarrayobject.h:12\u001b[m\u001b[K,\r\n",
      "                 from \u001b[01m\u001b[K/opt/conda/lib/python3.10/site-packages/numpy/core/include/numpy/arrayobject.h:5\u001b[m\u001b[K,\r\n",
      "                 from \u001b[01m\u001b[KCFW_DVV_Similarity_Cython_SGD.c:1252\u001b[m\u001b[K:\r\n",
      "\u001b[01m\u001b[K/opt/conda/lib/python3.10/site-packages/numpy/core/include/numpy/npy_1_7_deprecated_api.h:17:2:\u001b[m\u001b[K \u001b[01;35m\u001b[Kwarning: \u001b[m\u001b[K#warning \"Using deprecated NumPy API, disable it with \" \"#define NPY_NO_DEPRECATED_API NPY_1_7_API_VERSION\" [\u001b[01;35m\u001b[K-Wcpp\u001b[m\u001b[K]\r\n",
      "   17 | #\u001b[01;35m\u001b[Kwarning\u001b[m\u001b[K \"Using deprecated NumPy API, disable it with \" \\\r\n",
      "      |  \u001b[01;35m\u001b[K^~~~~~~\u001b[m\u001b[K\r\n",
      "/opt/conda/lib/python3.10/site-packages/Cython/Compiler/Main.py:381: FutureWarning: Cython directive 'language_level' not set, using '3str' for now (Py3). This has changed from earlier releases! File: /kaggle/working/RECsys_Challenge2024/Recommenders/FeatureWeighting/Cython/CFW_DVV_Similarity_Cython_SGD.pyx\r\n",
      "  tree = Parsing.p_module(s, pxd, full_module_name)\r\n",
      "Compiling [10/11]: CFW_DVV_Similarity_Cython_SGD.pyx... PASS\r\n",
      "\r\n",
      "Compiling [11/11]: DataIterator.pyx... \r\n",
      "In file included from \u001b[01m\u001b[K/opt/conda/lib/python3.10/site-packages/numpy/core/include/numpy/ndarraytypes.h:1929\u001b[m\u001b[K,\r\n",
      "                 from \u001b[01m\u001b[K/opt/conda/lib/python3.10/site-packages/numpy/core/include/numpy/ndarrayobject.h:12\u001b[m\u001b[K,\r\n",
      "                 from \u001b[01m\u001b[K/opt/conda/lib/python3.10/site-packages/numpy/core/include/numpy/arrayobject.h:5\u001b[m\u001b[K,\r\n",
      "                 from \u001b[01m\u001b[KDataIterator.c:1252\u001b[m\u001b[K:\r\n",
      "\u001b[01m\u001b[K/opt/conda/lib/python3.10/site-packages/numpy/core/include/numpy/npy_1_7_deprecated_api.h:17:2:\u001b[m\u001b[K \u001b[01;35m\u001b[Kwarning: \u001b[m\u001b[K#warning \"Using deprecated NumPy API, disable it with \" \"#define NPY_NO_DEPRECATED_API NPY_1_7_API_VERSION\" [\u001b[01;35m\u001b[K-Wcpp\u001b[m\u001b[K]\r\n",
      "   17 | #\u001b[01;35m\u001b[Kwarning\u001b[m\u001b[K \"Using deprecated NumPy API, disable it with \" \\\r\n",
      "      |  \u001b[01;35m\u001b[K^~~~~~~\u001b[m\u001b[K\r\n",
      "\u001b[01m\u001b[KDataIterator.c:\u001b[m\u001b[K In function '\u001b[01m\u001b[K__pyx_pf_12DataIterator_30InteractionAndNegativeIterator_6__next__\u001b[m\u001b[K':\r\n",
      "\u001b[01m\u001b[KDataIterator.c:25495:22:\u001b[m\u001b[K \u001b[01;35m\u001b[Kwarning: \u001b[m\u001b[K'\u001b[01m\u001b[K__pyx_v_i_batch\u001b[m\u001b[K' may be used uninitialized in this function [\u001b[01;35m\u001b[K-Wmaybe-uninitialized\u001b[m\u001b[K]\r\n",
      "25495 |     (__pyx_v_i_batch \u001b[01;35m\u001b[K+\u001b[m\u001b[K 1),\r\n",
      "      |                      \u001b[01;35m\u001b[K^\u001b[m\u001b[K\r\n",
      "\u001b[01m\u001b[KDataIterator.c:\u001b[m\u001b[K In function '\u001b[01m\u001b[K__pyx_pf_12DataIterator_11BPRIterator_6__next__\u001b[m\u001b[K':\r\n",
      "\u001b[01m\u001b[KDataIterator.c:23054:22:\u001b[m\u001b[K \u001b[01;35m\u001b[Kwarning: \u001b[m\u001b[K'\u001b[01m\u001b[K__pyx_v_i_batch\u001b[m\u001b[K' may be used uninitialized in this function [\u001b[01;35m\u001b[K-Wmaybe-uninitialized\u001b[m\u001b[K]\r\n",
      "23054 |     (__pyx_v_i_batch \u001b[01;35m\u001b[K+\u001b[m\u001b[K 1),\r\n",
      "      |                      \u001b[01;35m\u001b[K^\u001b[m\u001b[K\r\n",
      "\u001b[01m\u001b[KDataIterator.c:\u001b[m\u001b[K In function '\u001b[01m\u001b[K__pyx_pf_12DataIterator_19InteractionIterator_6__next__\u001b[m\u001b[K':\r\n",
      "\u001b[01m\u001b[KDataIterator.c:20937:22:\u001b[m\u001b[K \u001b[01;35m\u001b[Kwarning: \u001b[m\u001b[K'\u001b[01m\u001b[K__pyx_v_i_batch\u001b[m\u001b[K' may be used uninitialized in this function [\u001b[01;35m\u001b[K-Wmaybe-uninitialized\u001b[m\u001b[K]\r\n",
      "20937 |     (__pyx_v_i_batch \u001b[01;35m\u001b[K+\u001b[m\u001b[K 1),\r\n",
      "      |                      \u001b[01;35m\u001b[K^\u001b[m\u001b[K\r\n",
      "/opt/conda/lib/python3.10/site-packages/Cython/Compiler/Main.py:381: FutureWarning: Cython directive 'language_level' not set, using '3str' for now (Py3). This has changed from earlier releases! File: /kaggle/working/RECsys_Challenge2024/Utils/PyTorch/Cython/DataIterator.pyx\r\n",
      "  tree = Parsing.p_module(s, pxd, full_module_name)\r\n",
      "Compiling [11/11]: DataIterator.pyx... PASS\r\n",
      "\r\n",
      "run_compile_all_cython: Compilation finished. FAILS 2/11.\r\n",
      "Compilation log can be found here: './result_experiments/run_compile_all_cython.txt'\r\n"
     ]
    }
   ],
   "source": [
    "%cd /kaggle/working/RECsys_Challenge2024\n",
    "! python run_compile_all_cython.py"
   ]
  },
  {
   "cell_type": "code",
   "execution_count": null,
   "id": "b1a4e91b",
   "metadata": {
    "execution": {
     "iopub.execute_input": "2024-11-19T18:52:10.055599Z",
     "iopub.status.busy": "2024-11-19T18:52:10.054898Z",
     "iopub.status.idle": "2024-11-19T18:52:11.803660Z",
     "shell.execute_reply": "2024-11-19T18:52:11.802272Z"
    },
    "papermill": {
     "duration": 1.76641,
     "end_time": "2024-11-19T18:52:11.806380",
     "exception": false,
     "start_time": "2024-11-19T18:52:10.039970",
     "status": "completed"
    },
    "tags": []
   },
   "outputs": [],
   "source": [
    "from Utils.notebookFunctions import *\n",
    "import numpy as np\n",
    "import pandas as pd\n",
    "import scipy.sparse as sps\n",
    "import time\n",
    "import shutil\n",
    "import optuna\n",
    "import json\n",
    "import os\n",
    "\n",
    "\n",
    "K_PATH = '/kaggle/working/RECsys_Challenge2024'\n",
    "GH_PATH = 'TrainedModels/WithoutKFCV/Hybrid'\n",
    "\n",
    "np.random.seed(42)"
   ]
  },
  {
   "cell_type": "markdown",
   "id": "30772972",
   "metadata": {
    "papermill": {
     "duration": 0.013179,
     "end_time": "2024-11-19T18:52:11.833181",
     "exception": false,
     "start_time": "2024-11-19T18:52:11.820002",
     "status": "completed"
    },
    "tags": []
   },
   "source": [
    "## Import the repository **RECsys_Challenge2024**"
   ]
  },
  {
   "cell_type": "code",
   "execution_count": null,
   "id": "72006dcc",
   "metadata": {
    "execution": {
     "iopub.execute_input": "2024-11-19T18:52:11.862294Z",
     "iopub.status.busy": "2024-11-19T18:52:11.861593Z",
     "iopub.status.idle": "2024-11-19T18:52:12.444477Z",
     "shell.execute_reply": "2024-11-19T18:52:12.442618Z"
    },
    "papermill": {
     "duration": 0.600371,
     "end_time": "2024-11-19T18:52:12.447391",
     "exception": false,
     "start_time": "2024-11-19T18:52:11.847020",
     "status": "completed"
    },
    "tags": []
   },
   "outputs": [
    {
     "name": "stdout",
     "output_type": "stream",
     "text": [
      "Repository 'RECsys_Challenge2024' found.\n"
     ]
    }
   ],
   "source": [
    "repo = get_repo_from_github(token)"
   ]
  },
  {
   "cell_type": "code",
   "execution_count": 8,
   "id": "0a591f5a",
   "metadata": {
    "execution": {
     "iopub.execute_input": "2024-11-19T18:52:12.516768Z",
     "iopub.status.busy": "2024-11-19T18:52:12.516224Z",
     "iopub.status.idle": "2024-11-19T18:52:12.522962Z",
     "shell.execute_reply": "2024-11-19T18:52:12.521733Z"
    },
    "papermill": {
     "duration": 0.024023,
     "end_time": "2024-11-19T18:52:12.525371",
     "exception": false,
     "start_time": "2024-11-19T18:52:12.501348",
     "status": "completed"
    },
    "tags": []
   },
   "outputs": [],
   "source": [
    "config = {\n",
    "    'model': 'ItemKNN_CFCBF_Hybrid',\n",
    "    'tune_parameters': True,\n",
    "    'database_path': '/kaggle/working/history_ItemKNN_CFCBF_Hybrid.db',\n",
    "    'copy_prev_best_params': False,\n",
    "    'tune_best_params': True,\n",
    "    'save_github': True\n",
    "}"
   ]
  },
  {
   "cell_type": "markdown",
   "id": "604a9d57",
   "metadata": {
    "papermill": {
     "duration": 0.012584,
     "end_time": "2024-11-19T18:52:12.550741",
     "exception": false,
     "start_time": "2024-11-19T18:52:12.538157",
     "status": "completed"
    },
    "tags": []
   },
   "source": [
    "Import the database where previous tuning trials have been saved."
   ]
  },
  {
   "cell_type": "code",
   "execution_count": null,
   "id": "8bb71169",
   "metadata": {
    "execution": {
     "iopub.execute_input": "2024-11-19T18:52:12.578879Z",
     "iopub.status.busy": "2024-11-19T18:52:12.578386Z",
     "iopub.status.idle": "2024-11-19T18:52:12.585241Z",
     "shell.execute_reply": "2024-11-19T18:52:12.584053Z"
    },
    "papermill": {
     "duration": 0.023798,
     "end_time": "2024-11-19T18:52:12.587607",
     "exception": false,
     "start_time": "2024-11-19T18:52:12.563809",
     "status": "completed"
    },
    "tags": []
   },
   "outputs": [],
   "source": [
    "try:\n",
    "    shutil.copyfile(\n",
    "        f'{K_PATH}/{GH_PATH}/{config[\"model\"]}Recommender/history_{config[\"model\"]}.db', \n",
    "        config['database_path']\n",
    "    )\n",
    "except FileNotFoundError:\n",
    "    pass # if not present optuna will create it"
   ]
  },
  {
   "cell_type": "markdown",
   "id": "b9226401",
   "metadata": {
    "papermill": {
     "duration": 0.013194,
     "end_time": "2024-11-19T18:52:12.613711",
     "exception": false,
     "start_time": "2024-11-19T18:52:12.600517",
     "status": "completed"
    },
    "tags": []
   },
   "source": [
    "# Construction of URM and ICM matrices"
   ]
  },
  {
   "cell_type": "code",
   "execution_count": 10,
   "id": "d5030734",
   "metadata": {
    "execution": {
     "iopub.execute_input": "2024-11-19T18:52:12.643242Z",
     "iopub.status.busy": "2024-11-19T18:52:12.642723Z",
     "iopub.status.idle": "2024-11-19T18:52:13.560684Z",
     "shell.execute_reply": "2024-11-19T18:52:13.559369Z"
    },
    "papermill": {
     "duration": 0.935323,
     "end_time": "2024-11-19T18:52:13.563368",
     "exception": false,
     "start_time": "2024-11-19T18:52:12.628045",
     "status": "completed"
    },
    "tags": []
   },
   "outputs": [
    {
     "data": {
      "text/plain": [
       "<Compressed Sparse Row sparse matrix of dtype 'float64'\n",
       "\twith 1764607 stored elements and shape (35736, 38121)>"
      ]
     },
     "execution_count": 10,
     "metadata": {},
     "output_type": "execute_result"
    }
   ],
   "source": [
    "URM_all_dataframe = pd.read_csv(\"/kaggle/input/recommender-system-2024-challenge-polimi/data_train.csv\")\n",
    "\n",
    "n_users = len(URM_all_dataframe[\"user_id\"].unique())\n",
    "n_items = len(URM_all_dataframe[\"item_id\"].unique())\n",
    "\n",
    "URM_all = sps.csr_matrix((URM_all_dataframe[\"data\"].values, \n",
    "                          (URM_all_dataframe[\"user_id\"].values, URM_all_dataframe[\"item_id\"].values)),\n",
    "                        shape = (n_users, n_items))\n",
    "\n",
    "URM_all"
   ]
  },
  {
   "cell_type": "code",
   "execution_count": 11,
   "id": "b3ea20b5",
   "metadata": {
    "execution": {
     "iopub.execute_input": "2024-11-19T18:52:13.593256Z",
     "iopub.status.busy": "2024-11-19T18:52:13.592388Z",
     "iopub.status.idle": "2024-11-19T18:52:15.042073Z",
     "shell.execute_reply": "2024-11-19T18:52:15.040721Z"
    },
    "papermill": {
     "duration": 1.467782,
     "end_time": "2024-11-19T18:52:15.044840",
     "exception": false,
     "start_time": "2024-11-19T18:52:13.577058",
     "status": "completed"
    },
    "tags": []
   },
   "outputs": [
    {
     "data": {
      "text/plain": [
       "<Compressed Sparse Row sparse matrix of dtype 'float64'\n",
       "\twith 2940040 stored elements and shape (38121, 94331)>"
      ]
     },
     "execution_count": 11,
     "metadata": {},
     "output_type": "execute_result"
    }
   ],
   "source": [
    "ICM_dataframe = pd.read_csv(\"/kaggle/input/recommender-system-2024-challenge-polimi/data_ICM_metadata.csv\")\n",
    "\n",
    "n_items = len(ICM_dataframe[\"item_id\"].unique())\n",
    "n_features = len(ICM_dataframe[\"feature_id\"].unique())\n",
    "\n",
    "ICM_all = sps.csr_matrix((ICM_dataframe[\"data\"].values, \n",
    "                          (ICM_dataframe[\"item_id\"].values, ICM_dataframe[\"feature_id\"].values)),\n",
    "                        shape = (n_items, n_features))\n",
    "\n",
    "ICM_all"
   ]
  },
  {
   "cell_type": "markdown",
   "id": "96639588",
   "metadata": {
    "papermill": {
     "duration": 0.013511,
     "end_time": "2024-11-19T18:52:15.072934",
     "exception": false,
     "start_time": "2024-11-19T18:52:15.059423",
     "status": "completed"
    },
    "tags": []
   },
   "source": [
    "# Training"
   ]
  },
  {
   "cell_type": "code",
   "execution_count": 13,
   "id": "02b862ee",
   "metadata": {
    "execution": {
     "iopub.execute_input": "2024-11-19T18:52:15.144900Z",
     "iopub.status.busy": "2024-11-19T18:52:15.144508Z",
     "iopub.status.idle": "2024-11-19T18:52:18.283332Z",
     "shell.execute_reply": "2024-11-19T18:52:18.282006Z"
    },
    "papermill": {
     "duration": 3.156793,
     "end_time": "2024-11-19T18:52:18.285914",
     "exception": false,
     "start_time": "2024-11-19T18:52:15.129121",
     "status": "completed"
    },
    "tags": []
   },
   "outputs": [
    {
     "name": "stdout",
     "output_type": "stream",
     "text": [
      "Warning: 141 (0.39 %) of 35736 users have no sampled items\n",
      "EvaluatorHoldout: Ignoring 141 ( 0.4%) Users that have less than 1 test interactions\n"
     ]
    }
   ],
   "source": [
    "from Evaluation.Evaluator import EvaluatorHoldout\n",
    "from Data_manager.split_functions.split_train_validation_random_holdout import split_train_in_two_percentage_global_sample\n",
    "\n",
    "URM_train, URM_validation = split_train_in_two_percentage_global_sample(URM_all, train_percentage = 0.80)\n",
    "\n",
    "evaluator_validation = EvaluatorHoldout(URM_validation, cutoff_list=[10])"
   ]
  },
  {
   "cell_type": "code",
   "execution_count": 14,
   "id": "8f41d58d",
   "metadata": {
    "execution": {
     "iopub.execute_input": "2024-11-19T18:52:18.316891Z",
     "iopub.status.busy": "2024-11-19T18:52:18.315934Z",
     "iopub.status.idle": "2024-11-19T18:52:18.337274Z",
     "shell.execute_reply": "2024-11-19T18:52:18.336166Z"
    },
    "papermill": {
     "duration": 0.039884,
     "end_time": "2024-11-19T18:52:18.339745",
     "exception": false,
     "start_time": "2024-11-19T18:52:18.299861",
     "status": "completed"
    },
    "tags": []
   },
   "outputs": [],
   "source": [
    "from Recommenders.KNN.ItemKNN_CFCBF_Hybrid_Recommender import ItemKNN_CFCBF_Hybrid_Recommender\n",
    "\n",
    "def objective_function_ItemKNN_CFCBF_Hybrid(optuna_trial):\n",
    "    \n",
    "    recommender_instance = ItemKNN_CFCBF_Hybrid_Recommender(URM_train, ICM_all)\n",
    "    similarity = optuna_trial.suggest_categorical(\"similarity\", ['cosine', 'dice', 'jaccard', 'asymmetric', 'tversky', 'euclidean'])\n",
    "    \n",
    "    full_hyperp = {\"similarity\": similarity,\n",
    "                   \"topK\": optuna_trial.suggest_int(\"topK\", 0, 750),\n",
    "                   \"shrink\": optuna_trial.suggest_int(\"shrink\", 0, 1000),\n",
    "                   'feature_weighting': optuna_trial.suggest_categorical('feature_weighting', [\"BM25\", \"TF-IDF\", \"none\"]),\n",
    "                   \"ICM_weight\": optuna_trial.suggest_float(\"ICM_weight\", 0.1, 20.0, log=True)\n",
    "                  }\n",
    "    \n",
    "    if similarity == \"asymmetric\":\n",
    "        full_hyperp[\"asymmetric_alpha\"] = optuna_trial.suggest_float(\"asymmetric_alpha\", 0, 2, log=False)\n",
    "        full_hyperp[\"normalize\"] = True     \n",
    "\n",
    "    elif similarity == \"tversky\":\n",
    "        full_hyperp[\"tversky_alpha\"] = optuna_trial.suggest_float(\"tversky_alpha\", 0, 2, log=False)\n",
    "        full_hyperp[\"tversky_beta\"] = optuna_trial.suggest_float(\"tversky_beta\", 0, 2, log=False)\n",
    "        full_hyperp[\"normalize\"] = True \n",
    "\n",
    "    elif similarity == \"euclidean\":\n",
    "        full_hyperp[\"normalize_avg_row\"] = optuna_trial.suggest_categorical(\"normalize_avg_row\", [True, False])\n",
    "        full_hyperp[\"similarity_from_distance_mode\"] = optuna_trial.suggest_categorical(\"similarity_from_distance_mode\", [\"lin\", \"log\", \"exp\"])\n",
    "        full_hyperp[\"normalize\"] = optuna_trial.suggest_categorical(\"normalize\", [True, False])        \n",
    "    \n",
    "    recommender_instance.fit(**full_hyperp)\n",
    "    \n",
    "    result_df, _ = evaluator_validation.evaluateRecommender(recommender_instance)\n",
    "    \n",
    "    return result_df.loc[10][\"MAP\"]"
   ]
  },
  {
   "cell_type": "code",
   "execution_count": 15,
   "id": "f3ce8656",
   "metadata": {
    "_kg_hide-output": true,
    "execution": {
     "iopub.execute_input": "2024-11-19T18:52:18.368911Z",
     "iopub.status.busy": "2024-11-19T18:52:18.368384Z",
     "iopub.status.idle": "2024-11-19T22:21:13.373889Z",
     "shell.execute_reply": "2024-11-19T22:21:13.372422Z"
    },
    "papermill": {
     "duration": 12535.023616,
     "end_time": "2024-11-19T22:21:13.376772",
     "exception": false,
     "start_time": "2024-11-19T18:52:18.353156",
     "status": "completed"
    },
    "tags": []
   },
   "outputs": [
    {
     "name": "stderr",
     "output_type": "stream",
     "text": [
      "[I 2024-11-19 18:52:20,568] A new study created in RDB with name: hyperparameters_tuning_ItemKNN_CFCBF_Hybrid\n"
     ]
    },
    {
     "name": "stdout",
     "output_type": "stream",
     "text": [
      "Similarity column 38121 (100.0%), 627.52 column/sec. Elapsed time 1.01 min\n",
      "EvaluatorHoldout: Processed 35595 (100.0%) in 55.19 sec. Users per second: 645\n"
     ]
    },
    {
     "name": "stderr",
     "output_type": "stream",
     "text": [
      "[I 2024-11-19 18:54:17,980] Trial 0 finished with value: 0.02207286224879953 and parameters: {'similarity': 'asymmetric', 'topK': 243, 'shrink': 21, 'feature_weighting': 'TF-IDF', 'ICM_weight': 0.3112772787354627, 'asymmetric_alpha': 1.0525560849843292}. Best is trial 0 with value: 0.02207286224879953.\n"
     ]
    },
    {
     "name": "stdout",
     "output_type": "stream",
     "text": [
      "Similarity column 26200 (68.7%), 87.00 column/sec. Elapsed time 5.02 min\n",
      "Similarity column 38121 (100.0%), 87.17 column/sec. Elapsed time 7.29 min\n",
      "EvaluatorHoldout: Processed 35595 (100.0%) in 43.09 sec. Users per second: 826\n"
     ]
    },
    {
     "name": "stderr",
     "output_type": "stream",
     "text": [
      "[I 2024-11-19 19:02:19,996] Trial 1 finished with value: 0.033098978365517805 and parameters: {'similarity': 'euclidean', 'topK': 582, 'shrink': 364, 'feature_weighting': 'BM25', 'ICM_weight': 0.44284718944886264, 'normalize_avg_row': True, 'similarity_from_distance_mode': 'log', 'normalize': False}. Best is trial 1 with value: 0.033098978365517805.\n"
     ]
    },
    {
     "name": "stdout",
     "output_type": "stream",
     "text": [
      "Similarity column 38121 (100.0%), 633.96 column/sec. Elapsed time 1.00 min\n",
      "EvaluatorHoldout: Processed 35595 (100.0%) in 48.37 sec. Users per second: 736\n"
     ]
    },
    {
     "name": "stderr",
     "output_type": "stream",
     "text": [
      "[I 2024-11-19 19:04:10,591] Trial 2 finished with value: 0.03091009192926515 and parameters: {'similarity': 'dice', 'topK': 304, 'shrink': 675, 'feature_weighting': 'TF-IDF', 'ICM_weight': 1.7817792291826682}. Best is trial 1 with value: 0.033098978365517805.\n"
     ]
    },
    {
     "name": "stdout",
     "output_type": "stream",
     "text": [
      "Similarity column 38121 (100.0%), 636.13 column/sec. Elapsed time 59.93 sec\n",
      "EvaluatorHoldout: Processed 35595 (100.0%) in 48.44 sec. Users per second: 735\n"
     ]
    },
    {
     "name": "stderr",
     "output_type": "stream",
     "text": [
      "[I 2024-11-19 19:06:00,754] Trial 3 finished with value: 0.03057319001018882 and parameters: {'similarity': 'jaccard', 'topK': 318, 'shrink': 726, 'feature_weighting': 'none', 'ICM_weight': 3.934675036738022}. Best is trial 1 with value: 0.033098978365517805.\n"
     ]
    },
    {
     "name": "stdout",
     "output_type": "stream",
     "text": [
      "Similarity column 38121 (100.0%), 634.22 column/sec. Elapsed time 1.00 min\n",
      "EvaluatorHoldout: Processed 35595 (100.0%) in 48.53 sec. Users per second: 733\n"
     ]
    },
    {
     "name": "stderr",
     "output_type": "stream",
     "text": [
      "[I 2024-11-19 19:07:51,021] Trial 4 finished with value: 0.026629733309252505 and parameters: {'similarity': 'cosine', 'topK': 314, 'shrink': 713, 'feature_weighting': 'TF-IDF', 'ICM_weight': 11.755398138291278}. Best is trial 1 with value: 0.033098978365517805.\n"
     ]
    },
    {
     "name": "stdout",
     "output_type": "stream",
     "text": [
      "Similarity column 38121 (100.0%), 619.11 column/sec. Elapsed time 1.03 min\n",
      "EvaluatorHoldout: Processed 35595 (100.0%) in 50.78 sec. Users per second: 701\n"
     ]
    },
    {
     "name": "stderr",
     "output_type": "stream",
     "text": [
      "[I 2024-11-19 19:09:45,474] Trial 5 finished with value: 0.03002635580616961 and parameters: {'similarity': 'tversky', 'topK': 385, 'shrink': 858, 'feature_weighting': 'BM25', 'ICM_weight': 0.152955138782811, 'tversky_alpha': 1.2509612782579305, 'tversky_beta': 0.8177768511130263}. Best is trial 1 with value: 0.033098978365517805.\n"
     ]
    },
    {
     "name": "stdout",
     "output_type": "stream",
     "text": [
      "Similarity column 38121 (100.0%), 628.44 column/sec. Elapsed time 1.01 min\n",
      "EvaluatorHoldout: Processed 35595 (100.0%) in 54.58 sec. Users per second: 652\n"
     ]
    },
    {
     "name": "stderr",
     "output_type": "stream",
     "text": [
      "[I 2024-11-19 19:11:42,968] Trial 6 finished with value: 0.03502069579060616 and parameters: {'similarity': 'asymmetric', 'topK': 662, 'shrink': 874, 'feature_weighting': 'TF-IDF', 'ICM_weight': 3.4743837163431155, 'asymmetric_alpha': 0.1636663388582551}. Best is trial 6 with value: 0.03502069579060616.\n"
     ]
    },
    {
     "name": "stdout",
     "output_type": "stream",
     "text": [
      "Similarity column 38121 (100.0%), 626.30 column/sec. Elapsed time 1.01 min\n",
      "EvaluatorHoldout: Processed 35595 (100.0%) in 59.83 sec. Users per second: 595\n"
     ]
    },
    {
     "name": "stderr",
     "output_type": "stream",
     "text": [
      "[I 2024-11-19 19:13:46,114] Trial 7 finished with value: 0.028265542467396054 and parameters: {'similarity': 'asymmetric', 'topK': 691, 'shrink': 121, 'feature_weighting': 'BM25', 'ICM_weight': 3.842854923922256, 'asymmetric_alpha': 1.0026082248717516}. Best is trial 6 with value: 0.03502069579060616.\n"
     ]
    },
    {
     "name": "stdout",
     "output_type": "stream",
     "text": [
      "Similarity column 38121 (100.0%), 622.39 column/sec. Elapsed time 1.02 min\n",
      "EvaluatorHoldout: Processed 35595 (100.0%) in 47.49 sec. Users per second: 750\n"
     ]
    },
    {
     "name": "stderr",
     "output_type": "stream",
     "text": [
      "[I 2024-11-19 19:15:36,722] Trial 8 finished with value: 0.03215853283299453 and parameters: {'similarity': 'tversky', 'topK': 293, 'shrink': 56, 'feature_weighting': 'none', 'ICM_weight': 17.048545043050023, 'tversky_alpha': 1.0436185719707491, 'tversky_beta': 0.4031235835164395}. Best is trial 6 with value: 0.03502069579060616.\n"
     ]
    },
    {
     "name": "stdout",
     "output_type": "stream",
     "text": [
      "Similarity column 38121 (100.0%), 621.65 column/sec. Elapsed time 1.02 min\n",
      "EvaluatorHoldout: Processed 35595 (100.0%) in 44.16 sec. Users per second: 806\n"
     ]
    },
    {
     "name": "stderr",
     "output_type": "stream",
     "text": [
      "[I 2024-11-19 19:17:23,882] Trial 9 finished with value: 0.030842905303713673 and parameters: {'similarity': 'tversky', 'topK': 140, 'shrink': 666, 'feature_weighting': 'TF-IDF', 'ICM_weight': 3.437646417813053, 'tversky_alpha': 0.2885590943603238, 'tversky_beta': 0.8069322186724457}. Best is trial 6 with value: 0.03502069579060616.\n"
     ]
    },
    {
     "name": "stdout",
     "output_type": "stream",
     "text": [
      "Similarity column 38121 (100.0%), 628.06 column/sec. Elapsed time 1.01 min\n",
      "EvaluatorHoldout: Processed 35595 (100.0%) in 51.71 sec. Users per second: 688\n"
     ]
    },
    {
     "name": "stderr",
     "output_type": "stream",
     "text": [
      "[I 2024-11-19 19:19:18,211] Trial 10 finished with value: 0.03938140388898763 and parameters: {'similarity': 'asymmetric', 'topK': 548, 'shrink': 968, 'feature_weighting': 'TF-IDF', 'ICM_weight': 0.7134734917584097, 'asymmetric_alpha': 0.1298903009168667}. Best is trial 10 with value: 0.03938140388898763.\n"
     ]
    },
    {
     "name": "stdout",
     "output_type": "stream",
     "text": [
      "Similarity column 38121 (100.0%), 629.39 column/sec. Elapsed time 1.01 min\n",
      "EvaluatorHoldout: Processed 35595 (100.0%) in 51.79 sec. Users per second: 687\n"
     ]
    },
    {
     "name": "stderr",
     "output_type": "stream",
     "text": [
      "[I 2024-11-19 19:21:12,578] Trial 11 finished with value: 0.03755551207700259 and parameters: {'similarity': 'asymmetric', 'topK': 550, 'shrink': 980, 'feature_weighting': 'TF-IDF', 'ICM_weight': 0.9291367813740339, 'asymmetric_alpha': 0.017970709983976152}. Best is trial 10 with value: 0.03938140388898763.\n"
     ]
    },
    {
     "name": "stdout",
     "output_type": "stream",
     "text": [
      "Similarity column 38121 (100.0%), 618.25 column/sec. Elapsed time 1.03 min\n",
      "EvaluatorHoldout: Processed 35595 (100.0%) in 51.25 sec. Users per second: 694\n"
     ]
    },
    {
     "name": "stderr",
     "output_type": "stream",
     "text": [
      "[I 2024-11-19 19:23:07,721] Trial 12 finished with value: 0.03801579943678405 and parameters: {'similarity': 'asymmetric', 'topK': 526, 'shrink': 972, 'feature_weighting': 'TF-IDF', 'ICM_weight': 0.6771982302232866, 'asymmetric_alpha': 0.022168283053468824}. Best is trial 10 with value: 0.03938140388898763.\n"
     ]
    },
    {
     "name": "stdout",
     "output_type": "stream",
     "text": [
      "Similarity column 38121 (100.0%), 619.35 column/sec. Elapsed time 1.03 min\n",
      "EvaluatorHoldout: Processed 35595 (100.0%) in 1.07 min. Users per second: 554\n"
     ]
    },
    {
     "name": "stderr",
     "output_type": "stream",
     "text": [
      "[I 2024-11-19 19:25:15,656] Trial 13 finished with value: 0.021343723592353724 and parameters: {'similarity': 'asymmetric', 'topK': 500, 'shrink': 996, 'feature_weighting': 'TF-IDF', 'ICM_weight': 0.761584804855989, 'asymmetric_alpha': 1.8726067832722688}. Best is trial 10 with value: 0.03938140388898763.\n"
     ]
    },
    {
     "name": "stdout",
     "output_type": "stream",
     "text": [
      "Similarity column 38121 (100.0%), 628.36 column/sec. Elapsed time 1.01 min\n",
      "EvaluatorHoldout: Processed 35595 (100.0%) in 51.05 sec. Users per second: 697\n"
     ]
    },
    {
     "name": "stderr",
     "output_type": "stream",
     "text": [
      "[I 2024-11-19 19:27:09,321] Trial 14 finished with value: 0.03133512041329079 and parameters: {'similarity': 'dice', 'topK': 438, 'shrink': 380, 'feature_weighting': 'none', 'ICM_weight': 0.20790877366762353}. Best is trial 10 with value: 0.03938140388898763.\n"
     ]
    },
    {
     "name": "stdout",
     "output_type": "stream",
     "text": [
      "Similarity column 25600 (67.2%), 85.19 column/sec. Elapsed time 5.01 min\n",
      "Similarity column 38121 (100.0%), 86.05 column/sec. Elapsed time 7.38 min\n",
      "EvaluatorHoldout: Processed 35595 (100.0%) in 56.15 sec. Users per second: 634\n"
     ]
    },
    {
     "name": "stderr",
     "output_type": "stream",
     "text": [
      "[I 2024-11-19 19:35:30,449] Trial 15 finished with value: 0.01805843517347941 and parameters: {'similarity': 'euclidean', 'topK': 749, 'shrink': 526, 'feature_weighting': 'TF-IDF', 'ICM_weight': 0.4963799194916607, 'normalize_avg_row': False, 'similarity_from_distance_mode': 'lin', 'normalize': True}. Best is trial 10 with value: 0.03938140388898763.\n"
     ]
    },
    {
     "name": "stdout",
     "output_type": "stream",
     "text": [
      "Similarity column 38121 (100.0%), 629.18 column/sec. Elapsed time 1.01 min\n",
      "EvaluatorHoldout: Processed 35595 (100.0%) in 54.20 sec. Users per second: 657\n"
     ]
    },
    {
     "name": "stderr",
     "output_type": "stream",
     "text": [
      "[I 2024-11-19 19:37:26,726] Trial 16 finished with value: 0.04441651783623822 and parameters: {'similarity': 'cosine', 'topK': 477, 'shrink': 860, 'feature_weighting': 'TF-IDF', 'ICM_weight': 0.10567010857190823}. Best is trial 16 with value: 0.04441651783623822.\n"
     ]
    },
    {
     "name": "stdout",
     "output_type": "stream",
     "text": [
      "Similarity column 38121 (100.0%), 642.60 column/sec. Elapsed time 59.32 sec\n",
      "EvaluatorHoldout: Processed 35595 (100.0%) in 37.73 sec. Users per second: 943\n"
     ]
    },
    {
     "name": "stderr",
     "output_type": "stream",
     "text": [
      "[I 2024-11-19 19:39:04,653] Trial 17 finished with value: 0.04916891194366774 and parameters: {'similarity': 'cosine', 'topK': 21, 'shrink': 828, 'feature_weighting': 'TF-IDF', 'ICM_weight': 0.10429040589027133}. Best is trial 17 with value: 0.04916891194366774.\n"
     ]
    },
    {
     "name": "stdout",
     "output_type": "stream",
     "text": [
      "Similarity column 38121 (100.0%), 636.36 column/sec. Elapsed time 59.91 sec\n",
      "EvaluatorHoldout: Processed 35595 (100.0%) in 34.01 sec. Users per second: 1047\n"
     ]
    },
    {
     "name": "stderr",
     "output_type": "stream",
     "text": [
      "[I 2024-11-19 19:40:39,634] Trial 18 finished with value: 0.05078664628748769 and parameters: {'similarity': 'cosine', 'topK': 4, 'shrink': 558, 'feature_weighting': 'BM25', 'ICM_weight': 0.10065599937842569}. Best is trial 18 with value: 0.05078664628748769.\n"
     ]
    },
    {
     "name": "stdout",
     "output_type": "stream",
     "text": [
      "Similarity column 38121 (100.0%), 688.98 column/sec. Elapsed time 55.33 sec\n",
      "EvaluatorHoldout: Processed 35595 (100.0%) in 33.70 sec. Users per second: 1056\n"
     ]
    },
    {
     "name": "stderr",
     "output_type": "stream",
     "text": [
      "[I 2024-11-19 19:42:09,593] Trial 19 finished with value: 0.05047409458703057 and parameters: {'similarity': 'cosine', 'topK': 3, 'shrink': 535, 'feature_weighting': 'BM25', 'ICM_weight': 0.10562012378980232}. Best is trial 18 with value: 0.05078664628748769.\n"
     ]
    },
    {
     "name": "stdout",
     "output_type": "stream",
     "text": [
      "Similarity column 38121 (100.0%), 636.94 column/sec. Elapsed time 59.85 sec\n",
      "EvaluatorHoldout: Processed 35595 (100.0%) in 35.63 sec. Users per second: 999\n"
     ]
    },
    {
     "name": "stderr",
     "output_type": "stream",
     "text": [
      "[I 2024-11-19 19:43:46,202] Trial 20 finished with value: 0.050114355279966744 and parameters: {'similarity': 'cosine', 'topK': 9, 'shrink': 485, 'feature_weighting': 'BM25', 'ICM_weight': 0.24283356639556103}. Best is trial 18 with value: 0.05078664628748769.\n"
     ]
    },
    {
     "name": "stdout",
     "output_type": "stream",
     "text": [
      "Similarity column 38121 (100.0%), 636.64 column/sec. Elapsed time 59.88 sec\n",
      "EvaluatorHoldout: Processed 35595 (100.0%) in 34.72 sec. Users per second: 1025\n"
     ]
    },
    {
     "name": "stderr",
     "output_type": "stream",
     "text": [
      "[I 2024-11-19 19:45:21,782] Trial 21 finished with value: 0.050922948202550194 and parameters: {'similarity': 'cosine', 'topK': 6, 'shrink': 511, 'feature_weighting': 'BM25', 'ICM_weight': 0.24115797725894528}. Best is trial 21 with value: 0.050922948202550194.\n"
     ]
    },
    {
     "name": "stdout",
     "output_type": "stream",
     "text": [
      "Similarity column 38121 (100.0%), 628.76 column/sec. Elapsed time 1.01 min\n",
      "EvaluatorHoldout: Processed 35595 (100.0%) in 43.24 sec. Users per second: 823\n"
     ]
    },
    {
     "name": "stderr",
     "output_type": "stream",
     "text": [
      "[I 2024-11-19 19:47:06,882] Trial 22 finished with value: 0.046470132464652536 and parameters: {'similarity': 'cosine', 'topK': 107, 'shrink': 546, 'feature_weighting': 'BM25', 'ICM_weight': 0.16567562966508267}. Best is trial 21 with value: 0.050922948202550194.\n"
     ]
    },
    {
     "name": "stdout",
     "output_type": "stream",
     "text": [
      "Similarity column 38121 (100.0%), 624.86 column/sec. Elapsed time 1.02 min\n",
      "EvaluatorHoldout: Processed 35595 (100.0%) in 42.15 sec. Users per second: 844\n"
     ]
    },
    {
     "name": "stderr",
     "output_type": "stream",
     "text": [
      "[I 2024-11-19 19:48:51,218] Trial 23 finished with value: 0.0464104732027176 and parameters: {'similarity': 'cosine', 'topK': 99, 'shrink': 333, 'feature_weighting': 'BM25', 'ICM_weight': 0.14064877445341442}. Best is trial 21 with value: 0.050922948202550194.\n"
     ]
    },
    {
     "name": "stdout",
     "output_type": "stream",
     "text": [
      "Similarity column 38121 (100.0%), 627.02 column/sec. Elapsed time 1.01 min\n",
      "EvaluatorHoldout: Processed 35595 (100.0%) in 45.32 sec. Users per second: 785\n"
     ]
    },
    {
     "name": "stderr",
     "output_type": "stream",
     "text": [
      "[I 2024-11-19 19:50:38,734] Trial 24 finished with value: 0.04624268278271459 and parameters: {'similarity': 'cosine', 'topK': 173, 'shrink': 273, 'feature_weighting': 'BM25', 'ICM_weight': 0.30064055801353234}. Best is trial 21 with value: 0.050922948202550194.\n"
     ]
    },
    {
     "name": "stdout",
     "output_type": "stream",
     "text": [
      "Similarity column 38121 (100.0%), 630.24 column/sec. Elapsed time 1.01 min\n",
      "EvaluatorHoldout: Processed 35595 (100.0%) in 41.03 sec. Users per second: 867\n"
     ]
    },
    {
     "name": "stderr",
     "output_type": "stream",
     "text": [
      "[I 2024-11-19 19:52:21,912] Trial 25 finished with value: 0.03416066662653158 and parameters: {'similarity': 'jaccard', 'topK': 66, 'shrink': 611, 'feature_weighting': 'BM25', 'ICM_weight': 0.11165488259948964}. Best is trial 21 with value: 0.050922948202550194.\n"
     ]
    },
    {
     "name": "stdout",
     "output_type": "stream",
     "text": [
      "Similarity column 38121 (100.0%), 627.47 column/sec. Elapsed time 1.01 min\n",
      "EvaluatorHoldout: Processed 35595 (100.0%) in 46.39 sec. Users per second: 767\n"
     ]
    },
    {
     "name": "stderr",
     "output_type": "stream",
     "text": [
      "[I 2024-11-19 19:54:10,549] Trial 26 finished with value: 0.046154937491218885 and parameters: {'similarity': 'cosine', 'topK': 212, 'shrink': 454, 'feature_weighting': 'BM25', 'ICM_weight': 0.3519841717312788}. Best is trial 21 with value: 0.050922948202550194.\n"
     ]
    },
    {
     "name": "stdout",
     "output_type": "stream",
     "text": [
      "Similarity column 38121 (100.0%), 633.41 column/sec. Elapsed time 1.00 min\n",
      "EvaluatorHoldout: Processed 35595 (100.0%) in 40.20 sec. Users per second: 886\n"
     ]
    },
    {
     "name": "stderr",
     "output_type": "stream",
     "text": [
      "[I 2024-11-19 19:55:52,193] Trial 27 finished with value: 0.043196421603710435 and parameters: {'similarity': 'cosine', 'topK': 55, 'shrink': 232, 'feature_weighting': 'BM25', 'ICM_weight': 1.5056843052298696}. Best is trial 21 with value: 0.050922948202550194.\n"
     ]
    },
    {
     "name": "stdout",
     "output_type": "stream",
     "text": [
      "Similarity column 38121 (100.0%), 635.13 column/sec. Elapsed time 1.00 min\n",
      "EvaluatorHoldout: Processed 35595 (100.0%) in 34.28 sec. Users per second: 1038\n"
     ]
    },
    {
     "name": "stderr",
     "output_type": "stream",
     "text": [
      "[I 2024-11-19 19:57:27,471] Trial 28 finished with value: 0.051176340087000304 and parameters: {'similarity': 'cosine', 'topK': 5, 'shrink': 569, 'feature_weighting': 'BM25', 'ICM_weight': 0.18482335849666967}. Best is trial 28 with value: 0.051176340087000304.\n"
     ]
    },
    {
     "name": "stdout",
     "output_type": "stream",
     "text": [
      "Similarity column 38121 (100.0%), 629.30 column/sec. Elapsed time 1.01 min\n",
      "EvaluatorHoldout: Processed 35595 (100.0%) in 46.19 sec. Users per second: 771\n"
     ]
    },
    {
     "name": "stderr",
     "output_type": "stream",
     "text": [
      "[I 2024-11-19 19:59:15,505] Trial 29 finished with value: 0.04597429860177257 and parameters: {'similarity': 'cosine', 'topK': 215, 'shrink': 444, 'feature_weighting': 'BM25', 'ICM_weight': 0.25562815794692906}. Best is trial 28 with value: 0.051176340087000304.\n"
     ]
    },
    {
     "name": "stdout",
     "output_type": "stream",
     "text": [
      "Similarity column 26700 (70.0%), 88.83 column/sec. Elapsed time 5.01 min\n",
      "Similarity column 38121 (100.0%), 89.74 column/sec. Elapsed time 7.08 min\n",
      "EvaluatorHoldout: Processed 35595 (100.0%) in 37.82 sec. Users per second: 941\n"
     ]
    },
    {
     "name": "stderr",
     "output_type": "stream",
     "text": [
      "[I 2024-11-19 20:06:59,012] Trial 30 finished with value: 0.021214598982824795 and parameters: {'similarity': 'euclidean', 'topK': 150, 'shrink': 646, 'feature_weighting': 'BM25', 'ICM_weight': 0.19063725874437443, 'normalize_avg_row': False, 'similarity_from_distance_mode': 'exp', 'normalize': False}. Best is trial 28 with value: 0.051176340087000304.\n"
     ]
    },
    {
     "name": "stdout",
     "output_type": "stream",
     "text": [
      "Similarity column 38121 (100.0%), 641.49 column/sec. Elapsed time 59.43 sec\n",
      "EvaluatorHoldout: Processed 35595 (100.0%) in 35.02 sec. Users per second: 1016\n"
     ]
    },
    {
     "name": "stderr",
     "output_type": "stream",
     "text": [
      "[I 2024-11-19 20:08:34,551] Trial 31 finished with value: 0.050251322751321256 and parameters: {'similarity': 'cosine', 'topK': 8, 'shrink': 521, 'feature_weighting': 'BM25', 'ICM_weight': 0.14695033491541243}. Best is trial 28 with value: 0.051176340087000304.\n"
     ]
    },
    {
     "name": "stdout",
     "output_type": "stream",
     "text": [
      "Similarity column 38121 (100.0%), 637.54 column/sec. Elapsed time 59.79 sec\n",
      "EvaluatorHoldout: Processed 35595 (100.0%) in 40.95 sec. Users per second: 869\n"
     ]
    },
    {
     "name": "stderr",
     "output_type": "stream",
     "text": [
      "[I 2024-11-19 20:10:16,475] Trial 32 finished with value: 0.047368127323035 and parameters: {'similarity': 'cosine', 'topK': 75, 'shrink': 591, 'feature_weighting': 'BM25', 'ICM_weight': 0.3659673352014763}. Best is trial 28 with value: 0.051176340087000304.\n"
     ]
    },
    {
     "name": "stdout",
     "output_type": "stream",
     "text": [
      "Similarity column 38121 (100.0%), 643.72 column/sec. Elapsed time 59.22 sec\n",
      "EvaluatorHoldout: Processed 35595 (100.0%) in 39.65 sec. Users per second: 898\n"
     ]
    },
    {
     "name": "stderr",
     "output_type": "stream",
     "text": [
      "[I 2024-11-19 20:11:56,931] Trial 33 finished with value: 0.03560150346601957 and parameters: {'similarity': 'dice', 'topK': 51, 'shrink': 407, 'feature_weighting': 'BM25', 'ICM_weight': 0.46263519917736345}. Best is trial 28 with value: 0.051176340087000304.\n"
     ]
    },
    {
     "name": "stdout",
     "output_type": "stream",
     "text": [
      "Similarity column 38121 (100.0%), 637.25 column/sec. Elapsed time 59.82 sec\n",
      "EvaluatorHoldout: Processed 35595 (100.0%) in 42.50 sec. Users per second: 838\n"
     ]
    },
    {
     "name": "stderr",
     "output_type": "stream",
     "text": [
      "[I 2024-11-19 20:13:41,053] Trial 34 finished with value: 0.033469591769843654 and parameters: {'similarity': 'jaccard', 'topK': 111, 'shrink': 575, 'feature_weighting': 'BM25', 'ICM_weight': 0.20726880127558292}. Best is trial 28 with value: 0.051176340087000304.\n"
     ]
    },
    {
     "name": "stdout",
     "output_type": "stream",
     "text": [
      "Similarity column 38121 (100.0%), 758.01 column/sec. Elapsed time 50.29 sec\n",
      "EvaluatorHoldout: Processed 35595 (100.0%) in 34.24 sec. Users per second: 1039\n"
     ]
    },
    {
     "name": "stderr",
     "output_type": "stream",
     "text": [
      "[I 2024-11-19 20:15:06,219] Trial 35 finished with value: 0.03368459989698816 and parameters: {'similarity': 'cosine', 'topK': 2, 'shrink': 768, 'feature_weighting': 'none', 'ICM_weight': 0.133732637126558}. Best is trial 28 with value: 0.051176340087000304.\n"
     ]
    },
    {
     "name": "stdout",
     "output_type": "stream",
     "text": [
      "Similarity column 38121 (100.0%), 631.88 column/sec. Elapsed time 1.01 min\n",
      "EvaluatorHoldout: Processed 35595 (100.0%) in 45.83 sec. Users per second: 777\n"
     ]
    },
    {
     "name": "stderr",
     "output_type": "stream",
     "text": [
      "[I 2024-11-19 20:16:53,753] Trial 36 finished with value: 0.046121154656551124 and parameters: {'similarity': 'cosine', 'topK': 184, 'shrink': 339, 'feature_weighting': 'BM25', 'ICM_weight': 0.2718054715405088}. Best is trial 28 with value: 0.051176340087000304.\n"
     ]
    },
    {
     "name": "stdout",
     "output_type": "stream",
     "text": [
      "Similarity column 28300 (74.2%), 94.06 column/sec. Elapsed time 5.01 min\n",
      "Similarity column 38121 (100.0%), 94.27 column/sec. Elapsed time 6.74 min\n",
      "EvaluatorHoldout: Processed 35595 (100.0%) in 39.11 sec. Users per second: 910\n"
     ]
    },
    {
     "name": "stderr",
     "output_type": "stream",
     "text": [
      "[I 2024-11-19 20:24:18,131] Trial 37 finished with value: 0.034606593801072116 and parameters: {'similarity': 'euclidean', 'topK': 43, 'shrink': 749, 'feature_weighting': 'BM25', 'ICM_weight': 0.17274097390889046, 'normalize_avg_row': True, 'similarity_from_distance_mode': 'lin', 'normalize': True}. Best is trial 28 with value: 0.051176340087000304.\n"
     ]
    },
    {
     "name": "stdout",
     "output_type": "stream",
     "text": [
      "Similarity column 38121 (100.0%), 628.65 column/sec. Elapsed time 1.01 min\n",
      "EvaluatorHoldout: Processed 35595 (100.0%) in 47.80 sec. Users per second: 745\n"
     ]
    },
    {
     "name": "stderr",
     "output_type": "stream",
     "text": [
      "[I 2024-11-19 20:26:08,260] Trial 38 finished with value: 0.040747039556561844 and parameters: {'similarity': 'cosine', 'topK': 263, 'shrink': 630, 'feature_weighting': 'BM25', 'ICM_weight': 2.3343433133397244}. Best is trial 28 with value: 0.051176340087000304.\n"
     ]
    },
    {
     "name": "stdout",
     "output_type": "stream",
     "text": [
      "Similarity column 38121 (100.0%), 633.39 column/sec. Elapsed time 1.00 min\n",
      "EvaluatorHoldout: Processed 35595 (100.0%) in 43.04 sec. Users per second: 827\n"
     ]
    },
    {
     "name": "stderr",
     "output_type": "stream",
     "text": [
      "[I 2024-11-19 20:27:52,945] Trial 39 finished with value: 0.03301486966467911 and parameters: {'similarity': 'dice', 'topK': 120, 'shrink': 689, 'feature_weighting': 'none', 'ICM_weight': 0.10171136959119412}. Best is trial 28 with value: 0.051176340087000304.\n"
     ]
    },
    {
     "name": "stdout",
     "output_type": "stream",
     "text": [
      "Similarity column 38121 (100.0%), 624.32 column/sec. Elapsed time 1.02 min\n",
      "EvaluatorHoldout: Processed 35595 (100.0%) in 48.29 sec. Users per second: 737\n"
     ]
    },
    {
     "name": "stderr",
     "output_type": "stream",
     "text": [
      "[I 2024-11-19 20:29:44,618] Trial 40 finished with value: 0.032841209640197176 and parameters: {'similarity': 'tversky', 'topK': 351, 'shrink': 433, 'feature_weighting': 'BM25', 'ICM_weight': 0.1342231058009735, 'tversky_alpha': 1.9292987179528651, 'tversky_beta': 1.9902597435017206}. Best is trial 28 with value: 0.051176340087000304.\n"
     ]
    },
    {
     "name": "stdout",
     "output_type": "stream",
     "text": [
      "Similarity column 38121 (100.0%), 642.14 column/sec. Elapsed time 59.37 sec\n",
      "EvaluatorHoldout: Processed 35595 (100.0%) in 33.98 sec. Users per second: 1047\n"
     ]
    },
    {
     "name": "stderr",
     "output_type": "stream",
     "text": [
      "[I 2024-11-19 20:31:19,079] Trial 41 finished with value: 0.05105325565165274 and parameters: {'similarity': 'cosine', 'topK': 5, 'shrink': 516, 'feature_weighting': 'BM25', 'ICM_weight': 0.13954691597035654}. Best is trial 28 with value: 0.051176340087000304.\n"
     ]
    },
    {
     "name": "stdout",
     "output_type": "stream",
     "text": [
      "Similarity column 38121 (100.0%), 643.55 column/sec. Elapsed time 59.24 sec\n",
      "EvaluatorHoldout: Processed 35595 (100.0%) in 40.96 sec. Users per second: 869\n"
     ]
    },
    {
     "name": "stderr",
     "output_type": "stream",
     "text": [
      "[I 2024-11-19 20:33:00,332] Trial 42 finished with value: 0.03742265723070484 and parameters: {'similarity': 'cosine', 'topK': 78, 'shrink': 497, 'feature_weighting': 'BM25', 'ICM_weight': 7.415467580024546}. Best is trial 28 with value: 0.051176340087000304.\n"
     ]
    },
    {
     "name": "stdout",
     "output_type": "stream",
     "text": [
      "Similarity column 38121 (100.0%), 641.99 column/sec. Elapsed time 59.38 sec\n",
      "EvaluatorHoldout: Processed 35595 (100.0%) in 37.74 sec. Users per second: 943\n"
     ]
    },
    {
     "name": "stderr",
     "output_type": "stream",
     "text": [
      "[I 2024-11-19 20:34:38,542] Trial 43 finished with value: 0.048264140005394016 and parameters: {'similarity': 'cosine', 'topK': 31, 'shrink': 580, 'feature_weighting': 'BM25', 'ICM_weight': 0.224351795143524}. Best is trial 28 with value: 0.051176340087000304.\n"
     ]
    },
    {
     "name": "stdout",
     "output_type": "stream",
     "text": [
      "Similarity column 38121 (100.0%), 639.59 column/sec. Elapsed time 59.60 sec\n",
      "EvaluatorHoldout: Processed 35595 (100.0%) in 40.92 sec. Users per second: 870\n"
     ]
    },
    {
     "name": "stderr",
     "output_type": "stream",
     "text": [
      "[I 2024-11-19 20:36:20,809] Trial 44 finished with value: 0.03442906084098537 and parameters: {'similarity': 'jaccard', 'topK': 78, 'shrink': 490, 'feature_weighting': 'BM25', 'ICM_weight': 0.13080053732905814}. Best is trial 28 with value: 0.051176340087000304.\n"
     ]
    },
    {
     "name": "stdout",
     "output_type": "stream",
     "text": [
      "Similarity column 38121 (100.0%), 643.29 column/sec. Elapsed time 59.26 sec\n",
      "EvaluatorHoldout: Processed 35595 (100.0%) in 33.67 sec. Users per second: 1057\n"
     ]
    },
    {
     "name": "stderr",
     "output_type": "stream",
     "text": [
      "[I 2024-11-19 20:37:54,832] Trial 45 finished with value: 0.051142299725526176 and parameters: {'similarity': 'cosine', 'topK': 4, 'shrink': 556, 'feature_weighting': 'BM25', 'ICM_weight': 0.17395873065056786}. Best is trial 28 with value: 0.051176340087000304.\n"
     ]
    },
    {
     "name": "stdout",
     "output_type": "stream",
     "text": [
      "Similarity column 38121 (100.0%), 631.56 column/sec. Elapsed time 1.01 min\n",
      "EvaluatorHoldout: Processed 35595 (100.0%) in 47.92 sec. Users per second: 743\n"
     ]
    },
    {
     "name": "stderr",
     "output_type": "stream",
     "text": [
      "[I 2024-11-19 20:39:44,110] Trial 46 finished with value: 0.03495362399302431 and parameters: {'similarity': 'cosine', 'topK': 160, 'shrink': 682, 'feature_weighting': 'none', 'ICM_weight': 0.3775381968438932}. Best is trial 28 with value: 0.051176340087000304.\n"
     ]
    },
    {
     "name": "stdout",
     "output_type": "stream",
     "text": [
      "Similarity column 38121 (100.0%), 629.88 column/sec. Elapsed time 1.01 min\n",
      "EvaluatorHoldout: Processed 35595 (100.0%) in 38.63 sec. Users per second: 921\n"
     ]
    },
    {
     "name": "stderr",
     "output_type": "stream",
     "text": [
      "[I 2024-11-19 20:41:24,902] Trial 47 finished with value: 0.033581241346095005 and parameters: {'similarity': 'tversky', 'topK': 50, 'shrink': 792, 'feature_weighting': 'BM25', 'ICM_weight': 0.18320512860035093, 'tversky_alpha': 0.08337365810473107, 'tversky_beta': 1.8648751242811732}. Best is trial 28 with value: 0.051176340087000304.\n"
     ]
    },
    {
     "name": "stdout",
     "output_type": "stream",
     "text": [
      "Similarity column 38121 (100.0%), 628.59 column/sec. Elapsed time 1.01 min\n",
      "EvaluatorHoldout: Processed 35595 (100.0%) in 54.67 sec. Users per second: 651\n"
     ]
    },
    {
     "name": "stderr",
     "output_type": "stream",
     "text": [
      "[I 2024-11-19 20:43:22,127] Trial 48 finished with value: 0.04339510074760621 and parameters: {'similarity': 'cosine', 'topK': 622, 'shrink': 575, 'feature_weighting': 'BM25', 'ICM_weight': 1.0289989057659668}. Best is trial 28 with value: 0.051176340087000304.\n"
     ]
    },
    {
     "name": "stdout",
     "output_type": "stream",
     "text": [
      "Similarity column 38121 (100.0%), 639.72 column/sec. Elapsed time 59.59 sec\n",
      "EvaluatorHoldout: Processed 35595 (100.0%) in 41.55 sec. Users per second: 857\n"
     ]
    },
    {
     "name": "stderr",
     "output_type": "stream",
     "text": [
      "[I 2024-11-19 20:45:04,513] Trial 49 finished with value: 0.04676324813766695 and parameters: {'similarity': 'cosine', 'topK': 94, 'shrink': 715, 'feature_weighting': 'BM25', 'ICM_weight': 0.5781308555318807}. Best is trial 28 with value: 0.051176340087000304.\n"
     ]
    },
    {
     "name": "stdout",
     "output_type": "stream",
     "text": [
      "Similarity column 29200 (76.6%), 97.12 column/sec. Elapsed time 5.01 min\n",
      "Similarity column 38121 (100.0%), 97.25 column/sec. Elapsed time 6.53 min\n",
      "EvaluatorHoldout: Processed 35595 (100.0%) in 31.48 sec. Users per second: 1131\n"
     ]
    },
    {
     "name": "stderr",
     "output_type": "stream",
     "text": [
      "[I 2024-11-19 20:52:08,869] Trial 50 finished with value: 0.019659306528248877 and parameters: {'similarity': 'euclidean', 'topK': 131, 'shrink': 393, 'feature_weighting': 'BM25', 'ICM_weight': 6.052197793177692, 'normalize_avg_row': True, 'similarity_from_distance_mode': 'log', 'normalize': False}. Best is trial 28 with value: 0.051176340087000304.\n"
     ]
    },
    {
     "name": "stdout",
     "output_type": "stream",
     "text": [
      "Similarity column 38121 (100.0%), 641.19 column/sec. Elapsed time 59.45 sec\n",
      "EvaluatorHoldout: Processed 35595 (100.0%) in 34.62 sec. Users per second: 1028\n"
     ]
    },
    {
     "name": "stderr",
     "output_type": "stream",
     "text": [
      "[I 2024-11-19 20:53:44,054] Trial 51 finished with value: 0.050344151688861485 and parameters: {'similarity': 'cosine', 'topK': 7, 'shrink': 540, 'feature_weighting': 'BM25', 'ICM_weight': 0.11913722902495018}. Best is trial 28 with value: 0.051176340087000304.\n"
     ]
    },
    {
     "name": "stdout",
     "output_type": "stream",
     "text": [
      "Similarity column 38121 (100.0%), 643.57 column/sec. Elapsed time 59.23 sec\n",
      "EvaluatorHoldout: Processed 35595 (100.0%) in 37.77 sec. Users per second: 942\n"
     ]
    },
    {
     "name": "stderr",
     "output_type": "stream",
     "text": [
      "[I 2024-11-19 20:55:22,184] Trial 52 finished with value: 0.04780289946197912 and parameters: {'similarity': 'cosine', 'topK': 34, 'shrink': 473, 'feature_weighting': 'BM25', 'ICM_weight': 0.15981935570035524}. Best is trial 28 with value: 0.051176340087000304.\n"
     ]
    },
    {
     "name": "stdout",
     "output_type": "stream",
     "text": [
      "Similarity column 38121 (100.0%), 890.73 column/sec. Elapsed time 42.80 sec\n",
      "EvaluatorHoldout: Processed 35595 (100.0%) in 27.92 sec. Users per second: 1275\n"
     ]
    },
    {
     "name": "stderr",
     "output_type": "stream",
     "text": [
      "[I 2024-11-19 20:56:33,899] Trial 53 finished with value: 0.00028209999175022335 and parameters: {'similarity': 'cosine', 'topK': 0, 'shrink': 631, 'feature_weighting': 'BM25', 'ICM_weight': 0.3079864442276722}. Best is trial 28 with value: 0.051176340087000304.\n"
     ]
    },
    {
     "name": "stdout",
     "output_type": "stream",
     "text": [
      "Similarity column 38121 (100.0%), 642.54 column/sec. Elapsed time 59.33 sec\n",
      "EvaluatorHoldout: Processed 35595 (100.0%) in 37.71 sec. Users per second: 944\n"
     ]
    },
    {
     "name": "stderr",
     "output_type": "stream",
     "text": [
      "[I 2024-11-19 20:58:12,043] Trial 54 finished with value: 0.04810626046550864 and parameters: {'similarity': 'cosine', 'topK': 32, 'shrink': 528, 'feature_weighting': 'BM25', 'ICM_weight': 0.22342552002669835}. Best is trial 28 with value: 0.051176340087000304.\n"
     ]
    },
    {
     "name": "stdout",
     "output_type": "stream",
     "text": [
      "Similarity column 38121 (100.0%), 634.90 column/sec. Elapsed time 1.00 min\n",
      "EvaluatorHoldout: Processed 35595 (100.0%) in 47.14 sec. Users per second: 755\n"
     ]
    },
    {
     "name": "stderr",
     "output_type": "stream",
     "text": [
      "[I 2024-11-19 21:00:00,133] Trial 55 finished with value: 0.03598648040009057 and parameters: {'similarity': 'asymmetric', 'topK': 86, 'shrink': 554, 'feature_weighting': 'none', 'ICM_weight': 0.10294256210344074, 'asymmetric_alpha': 1.9746161803773963}. Best is trial 28 with value: 0.051176340087000304.\n"
     ]
    },
    {
     "name": "stdout",
     "output_type": "stream",
     "text": [
      "Similarity column 38121 (100.0%), 646.38 column/sec. Elapsed time 58.98 sec\n",
      "EvaluatorHoldout: Processed 35595 (100.0%) in 38.59 sec. Users per second: 922\n"
     ]
    },
    {
     "name": "stderr",
     "output_type": "stream",
     "text": [
      "[I 2024-11-19 21:01:39,374] Trial 56 finished with value: 0.0350310369969016 and parameters: {'similarity': 'dice', 'topK': 39, 'shrink': 611, 'feature_weighting': 'BM25', 'ICM_weight': 0.1646465194338939}. Best is trial 28 with value: 0.051176340087000304.\n"
     ]
    },
    {
     "name": "stdout",
     "output_type": "stream",
     "text": [
      "Similarity column 38121 (100.0%), 645.24 column/sec. Elapsed time 59.08 sec\n",
      "EvaluatorHoldout: Processed 35595 (100.0%) in 40.16 sec. Users per second: 886\n"
     ]
    },
    {
     "name": "stderr",
     "output_type": "stream",
     "text": [
      "[I 2024-11-19 21:03:19,609] Trial 57 finished with value: 0.046775937185754 and parameters: {'similarity': 'cosine', 'topK': 68, 'shrink': 423, 'feature_weighting': 'BM25', 'ICM_weight': 0.12730976177131328}. Best is trial 28 with value: 0.051176340087000304.\n"
     ]
    },
    {
     "name": "stdout",
     "output_type": "stream",
     "text": [
      "Similarity column 38121 (100.0%), 633.68 column/sec. Elapsed time 1.00 min\n",
      "EvaluatorHoldout: Processed 35595 (100.0%) in 49.71 sec. Users per second: 716\n"
     ]
    },
    {
     "name": "stderr",
     "output_type": "stream",
     "text": [
      "[I 2024-11-19 21:05:11,326] Trial 58 finished with value: 0.04534787300695237 and parameters: {'similarity': 'cosine', 'topK': 393, 'shrink': 301, 'feature_weighting': 'BM25', 'ICM_weight': 0.26577428998529107}. Best is trial 28 with value: 0.051176340087000304.\n"
     ]
    },
    {
     "name": "stdout",
     "output_type": "stream",
     "text": [
      "Similarity column 38121 (100.0%), 626.49 column/sec. Elapsed time 1.01 min\n",
      "EvaluatorHoldout: Processed 35595 (100.0%) in 44.36 sec. Users per second: 802\n"
     ]
    },
    {
     "name": "stderr",
     "output_type": "stream",
     "text": [
      "[I 2024-11-19 21:06:58,277] Trial 59 finished with value: 0.032175879660286795 and parameters: {'similarity': 'tversky', 'topK': 131, 'shrink': 660, 'feature_weighting': 'TF-IDF', 'ICM_weight': 0.18542148332739103, 'tversky_alpha': 1.9026629450296695, 'tversky_beta': 0.09261013478714619}. Best is trial 28 with value: 0.051176340087000304.\n"
     ]
    },
    {
     "name": "stdout",
     "output_type": "stream",
     "text": [
      "Similarity column 38121 (100.0%), 638.09 column/sec. Elapsed time 59.74 sec\n",
      "EvaluatorHoldout: Processed 35595 (100.0%) in 37.03 sec. Users per second: 961\n"
     ]
    },
    {
     "name": "stderr",
     "output_type": "stream",
     "text": [
      "[I 2024-11-19 21:08:36,716] Trial 60 finished with value: 0.03578058493144767 and parameters: {'similarity': 'jaccard', 'topK': 21, 'shrink': 458, 'feature_weighting': 'BM25', 'ICM_weight': 0.40546376907786197}. Best is trial 28 with value: 0.051176340087000304.\n"
     ]
    },
    {
     "name": "stdout",
     "output_type": "stream",
     "text": [
      "Similarity column 38121 (100.0%), 695.50 column/sec. Elapsed time 54.81 sec\n",
      "EvaluatorHoldout: Processed 35595 (100.0%) in 33.12 sec. Users per second: 1075\n"
     ]
    },
    {
     "name": "stderr",
     "output_type": "stream",
     "text": [
      "[I 2024-11-19 21:10:05,709] Trial 61 finished with value: 0.05051442261598059 and parameters: {'similarity': 'cosine', 'topK': 3, 'shrink': 541, 'feature_weighting': 'BM25', 'ICM_weight': 0.118386888635847}. Best is trial 28 with value: 0.051176340087000304.\n"
     ]
    },
    {
     "name": "stdout",
     "output_type": "stream",
     "text": [
      "Similarity column 38121 (100.0%), 820.30 column/sec. Elapsed time 46.47 sec\n",
      "EvaluatorHoldout: Processed 35595 (100.0%) in 31.29 sec. Users per second: 1138\n"
     ]
    },
    {
     "name": "stderr",
     "output_type": "stream",
     "text": [
      "[I 2024-11-19 21:11:24,533] Trial 62 finished with value: 0.041422335043488114 and parameters: {'similarity': 'cosine', 'topK': 1, 'shrink': 501, 'feature_weighting': 'BM25', 'ICM_weight': 0.1495918683157767}. Best is trial 28 with value: 0.051176340087000304.\n"
     ]
    },
    {
     "name": "stdout",
     "output_type": "stream",
     "text": [
      "Similarity column 38121 (100.0%), 642.51 column/sec. Elapsed time 59.33 sec\n",
      "EvaluatorHoldout: Processed 35595 (100.0%) in 39.11 sec. Users per second: 910\n"
     ]
    },
    {
     "name": "stderr",
     "output_type": "stream",
     "text": [
      "[I 2024-11-19 21:13:04,139] Trial 63 finished with value: 0.046940579312680475 and parameters: {'similarity': 'cosine', 'topK': 56, 'shrink': 551, 'feature_weighting': 'BM25', 'ICM_weight': 0.11895474586414255}. Best is trial 28 with value: 0.051176340087000304.\n"
     ]
    },
    {
     "name": "stdout",
     "output_type": "stream",
     "text": [
      "Similarity column 38121 (100.0%), 645.55 column/sec. Elapsed time 59.05 sec\n",
      "EvaluatorHoldout: Processed 35595 (100.0%) in 37.76 sec. Users per second: 943\n"
     ]
    },
    {
     "name": "stderr",
     "output_type": "stream",
     "text": [
      "[I 2024-11-19 21:14:42,010] Trial 64 finished with value: 0.04763580358396898 and parameters: {'similarity': 'cosine', 'topK': 33, 'shrink': 509, 'feature_weighting': 'BM25', 'ICM_weight': 0.10000435263081353}. Best is trial 28 with value: 0.051176340087000304.\n"
     ]
    },
    {
     "name": "stdout",
     "output_type": "stream",
     "text": [
      "Similarity column 38121 (100.0%), 642.97 column/sec. Elapsed time 59.29 sec\n",
      "EvaluatorHoldout: Processed 35595 (100.0%) in 41.62 sec. Users per second: 855\n"
     ]
    },
    {
     "name": "stderr",
     "output_type": "stream",
     "text": [
      "[I 2024-11-19 21:16:24,180] Trial 65 finished with value: 0.04671455327460212 and parameters: {'similarity': 'cosine', 'topK': 104, 'shrink': 608, 'feature_weighting': 'BM25', 'ICM_weight': 0.21043913664749023}. Best is trial 28 with value: 0.051176340087000304.\n"
     ]
    },
    {
     "name": "stdout",
     "output_type": "stream",
     "text": [
      "Similarity column 38121 (100.0%), 644.31 column/sec. Elapsed time 59.17 sec\n",
      "EvaluatorHoldout: Processed 35595 (100.0%) in 39.85 sec. Users per second: 893\n"
     ]
    },
    {
     "name": "stderr",
     "output_type": "stream",
     "text": [
      "[I 2024-11-19 21:18:04,133] Trial 66 finished with value: 0.04685922425344919 and parameters: {'similarity': 'cosine', 'topK': 68, 'shrink': 563, 'feature_weighting': 'BM25', 'ICM_weight': 0.14696924276280202}. Best is trial 28 with value: 0.051176340087000304.\n"
     ]
    },
    {
     "name": "stdout",
     "output_type": "stream",
     "text": [
      "Similarity column 38121 (100.0%), 643.67 column/sec. Elapsed time 59.22 sec\n",
      "EvaluatorHoldout: Processed 35595 (100.0%) in 37.21 sec. Users per second: 957\n"
     ]
    },
    {
     "name": "stderr",
     "output_type": "stream",
     "text": [
      "[I 2024-11-19 21:19:41,605] Trial 67 finished with value: 0.04869108934953667 and parameters: {'similarity': 'cosine', 'topK': 24, 'shrink': 152, 'feature_weighting': 'BM25', 'ICM_weight': 0.30480566908766}. Best is trial 28 with value: 0.051176340087000304.\n"
     ]
    },
    {
     "name": "stdout",
     "output_type": "stream",
     "text": [
      "Similarity column 38121 (100.0%), 635.85 column/sec. Elapsed time 59.95 sec\n",
      "EvaluatorHoldout: Processed 35595 (100.0%) in 47.02 sec. Users per second: 757\n"
     ]
    },
    {
     "name": "stderr",
     "output_type": "stream",
     "text": [
      "[I 2024-11-19 21:21:29,546] Trial 68 finished with value: 0.020338395797519 and parameters: {'similarity': 'asymmetric', 'topK': 53, 'shrink': 355, 'feature_weighting': 'TF-IDF', 'ICM_weight': 0.1234319729815472, 'asymmetric_alpha': 1.5124594582231354}. Best is trial 28 with value: 0.051176340087000304.\n"
     ]
    },
    {
     "name": "stdout",
     "output_type": "stream",
     "text": [
      "Similarity column 38121 (100.0%), 634.89 column/sec. Elapsed time 1.00 min\n",
      "EvaluatorHoldout: Processed 35595 (100.0%) in 45.58 sec. Users per second: 781\n"
     ]
    },
    {
     "name": "stderr",
     "output_type": "stream",
     "text": [
      "[I 2024-11-19 21:23:16,610] Trial 69 finished with value: 0.04583166331101252 and parameters: {'similarity': 'cosine', 'topK': 193, 'shrink': 466, 'feature_weighting': 'BM25', 'ICM_weight': 0.17619239602932796}. Best is trial 28 with value: 0.051176340087000304.\n"
     ]
    },
    {
     "name": "stdout",
     "output_type": "stream",
     "text": [
      "Similarity column 38121 (100.0%), 206.70 column/sec. Elapsed time 3.07 min\n",
      "EvaluatorHoldout: Processed 35595 (100.0%) in 31.26 sec. Users per second: 1139\n"
     ]
    },
    {
     "name": "stderr",
     "output_type": "stream",
     "text": [
      "[I 2024-11-19 21:26:52,814] Trial 70 finished with value: 0.04108776647335279 and parameters: {'similarity': 'euclidean', 'topK': 1, 'shrink': 595, 'feature_weighting': 'none', 'ICM_weight': 0.23823642600680484, 'normalize_avg_row': False, 'similarity_from_distance_mode': 'exp', 'normalize': True}. Best is trial 28 with value: 0.051176340087000304.\n"
     ]
    },
    {
     "name": "stdout",
     "output_type": "stream",
     "text": [
      "Similarity column 38121 (100.0%), 824.44 column/sec. Elapsed time 46.24 sec\n",
      "EvaluatorHoldout: Processed 35595 (100.0%) in 31.53 sec. Users per second: 1129\n"
     ]
    },
    {
     "name": "stderr",
     "output_type": "stream",
     "text": [
      "[I 2024-11-19 21:28:11,446] Trial 71 finished with value: 0.04140166712374721 and parameters: {'similarity': 'cosine', 'topK': 1, 'shrink': 535, 'feature_weighting': 'BM25', 'ICM_weight': 0.128927940155802}. Best is trial 28 with value: 0.051176340087000304.\n"
     ]
    },
    {
     "name": "stdout",
     "output_type": "stream",
     "text": [
      "Similarity column 38121 (100.0%), 636.15 column/sec. Elapsed time 59.92 sec\n",
      "EvaluatorHoldout: Processed 35595 (100.0%) in 37.54 sec. Users per second: 948\n"
     ]
    },
    {
     "name": "stderr",
     "output_type": "stream",
     "text": [
      "[I 2024-11-19 21:29:50,084] Trial 72 finished with value: 0.048206556565594215 and parameters: {'similarity': 'cosine', 'topK': 23, 'shrink': 526, 'feature_weighting': 'BM25', 'ICM_weight': 0.11575877633995638}. Best is trial 28 with value: 0.051176340087000304.\n"
     ]
    },
    {
     "name": "stdout",
     "output_type": "stream",
     "text": [
      "Similarity column 38121 (100.0%), 634.52 column/sec. Elapsed time 1.00 min\n",
      "EvaluatorHoldout: Processed 35595 (100.0%) in 37.20 sec. Users per second: 957\n"
     ]
    },
    {
     "name": "stderr",
     "output_type": "stream",
     "text": [
      "[I 2024-11-19 21:31:28,564] Trial 73 finished with value: 0.0484950100000654 and parameters: {'similarity': 'cosine', 'topK': 20, 'shrink': 650, 'feature_weighting': 'BM25', 'ICM_weight': 0.15209424754989115}. Best is trial 28 with value: 0.051176340087000304.\n"
     ]
    },
    {
     "name": "stdout",
     "output_type": "stream",
     "text": [
      "Similarity column 38121 (100.0%), 635.66 column/sec. Elapsed time 59.97 sec\n",
      "EvaluatorHoldout: Processed 35595 (100.0%) in 41.34 sec. Users per second: 861\n"
     ]
    },
    {
     "name": "stderr",
     "output_type": "stream",
     "text": [
      "[I 2024-11-19 21:33:11,113] Trial 74 finished with value: 0.03625918790984 and parameters: {'similarity': 'cosine', 'topK': 86, 'shrink': 416, 'feature_weighting': 'BM25', 'ICM_weight': 19.81297272711474}. Best is trial 28 with value: 0.051176340087000304.\n"
     ]
    },
    {
     "name": "stdout",
     "output_type": "stream",
     "text": [
      "Similarity column 38121 (100.0%), 638.43 column/sec. Elapsed time 59.71 sec\n",
      "EvaluatorHoldout: Processed 35595 (100.0%) in 39.59 sec. Users per second: 899\n"
     ]
    },
    {
     "name": "stderr",
     "output_type": "stream",
     "text": [
      "[I 2024-11-19 21:34:51,529] Trial 75 finished with value: 0.04694245000523807 and parameters: {'similarity': 'cosine', 'topK': 53, 'shrink': 482, 'feature_weighting': 'BM25', 'ICM_weight': 0.11329756303353368}. Best is trial 28 with value: 0.051176340087000304.\n"
     ]
    },
    {
     "name": "stdout",
     "output_type": "stream",
     "text": [
      "Similarity column 38121 (100.0%), 637.64 column/sec. Elapsed time 59.78 sec\n",
      "EvaluatorHoldout: Processed 35595 (100.0%) in 42.52 sec. Users per second: 837\n"
     ]
    },
    {
     "name": "stderr",
     "output_type": "stream",
     "text": [
      "[I 2024-11-19 21:36:35,662] Trial 76 finished with value: 0.033716868786189395 and parameters: {'similarity': 'dice', 'topK': 110, 'shrink': 549, 'feature_weighting': 'BM25', 'ICM_weight': 0.18537574700912052}. Best is trial 28 with value: 0.051176340087000304.\n"
     ]
    },
    {
     "name": "stdout",
     "output_type": "stream",
     "text": [
      "Similarity column 38121 (100.0%), 642.11 column/sec. Elapsed time 59.37 sec\n",
      "EvaluatorHoldout: Processed 35595 (100.0%) in 38.85 sec. Users per second: 916\n"
     ]
    },
    {
     "name": "stderr",
     "output_type": "stream",
     "text": [
      "[I 2024-11-19 21:38:14,817] Trial 77 finished with value: 0.04771237377284395 and parameters: {'similarity': 'cosine', 'topK': 41, 'shrink': 621, 'feature_weighting': 'BM25', 'ICM_weight': 0.2054537493177338}. Best is trial 28 with value: 0.051176340087000304.\n"
     ]
    },
    {
     "name": "stdout",
     "output_type": "stream",
     "text": [
      "Similarity column 38121 (100.0%), 639.45 column/sec. Elapsed time 59.62 sec\n",
      "EvaluatorHoldout: Processed 35595 (100.0%) in 37.09 sec. Users per second: 960\n"
     ]
    },
    {
     "name": "stderr",
     "output_type": "stream",
     "text": [
      "[I 2024-11-19 21:39:52,674] Trial 78 finished with value: 0.03934556752887871 and parameters: {'similarity': 'cosine', 'topK': 17, 'shrink': 13, 'feature_weighting': 'BM25', 'ICM_weight': 2.6043860291672165}. Best is trial 28 with value: 0.051176340087000304.\n"
     ]
    },
    {
     "name": "stdout",
     "output_type": "stream",
     "text": [
      "Similarity column 38121 (100.0%), 635.74 column/sec. Elapsed time 59.96 sec\n",
      "EvaluatorHoldout: Processed 35595 (100.0%) in 40.10 sec. Users per second: 888\n"
     ]
    },
    {
     "name": "stderr",
     "output_type": "stream",
     "text": [
      "[I 2024-11-19 21:41:34,487] Trial 79 finished with value: 0.034914612583806445 and parameters: {'similarity': 'jaccard', 'topK': 67, 'shrink': 442, 'feature_weighting': 'BM25', 'ICM_weight': 0.1140397522299771}. Best is trial 28 with value: 0.051176340087000304.\n"
     ]
    },
    {
     "name": "stdout",
     "output_type": "stream",
     "text": [
      "Similarity column 38121 (100.0%), 621.05 column/sec. Elapsed time 1.02 min\n",
      "EvaluatorHoldout: Processed 35595 (100.0%) in 1.01 min. Users per second: 588\n"
     ]
    },
    {
     "name": "stderr",
     "output_type": "stream",
     "text": [
      "[I 2024-11-19 21:43:39,024] Trial 80 finished with value: 0.043992543985799895 and parameters: {'similarity': 'cosine', 'topK': 741, 'shrink': 694, 'feature_weighting': 'TF-IDF', 'ICM_weight': 0.14217336389425855}. Best is trial 28 with value: 0.051176340087000304.\n"
     ]
    },
    {
     "name": "stdout",
     "output_type": "stream",
     "text": [
      "Similarity column 38121 (100.0%), 640.43 column/sec. Elapsed time 59.52 sec\n",
      "EvaluatorHoldout: Processed 35595 (100.0%) in 36.04 sec. Users per second: 988\n"
     ]
    },
    {
     "name": "stderr",
     "output_type": "stream",
     "text": [
      "[I 2024-11-19 21:45:15,716] Trial 81 finished with value: 0.04975486904037113 and parameters: {'similarity': 'cosine', 'topK': 10, 'shrink': 506, 'feature_weighting': 'BM25', 'ICM_weight': 0.15661300226420313}. Best is trial 28 with value: 0.051176340087000304.\n"
     ]
    },
    {
     "name": "stdout",
     "output_type": "stream",
     "text": [
      "Similarity column 38121 (100.0%), 639.17 column/sec. Elapsed time 59.64 sec\n",
      "EvaluatorHoldout: Processed 35595 (100.0%) in 37.14 sec. Users per second: 958\n"
     ]
    },
    {
     "name": "stderr",
     "output_type": "stream",
     "text": [
      "[I 2024-11-19 21:46:53,457] Trial 82 finished with value: 0.04844184019067972 and parameters: {'similarity': 'cosine', 'topK': 20, 'shrink': 584, 'feature_weighting': 'BM25', 'ICM_weight': 0.13728461759213437}. Best is trial 28 with value: 0.051176340087000304.\n"
     ]
    },
    {
     "name": "stdout",
     "output_type": "stream",
     "text": [
      "Similarity column 38121 (100.0%), 638.44 column/sec. Elapsed time 59.71 sec\n",
      "EvaluatorHoldout: Processed 35595 (100.0%) in 39.21 sec. Users per second: 908\n"
     ]
    },
    {
     "name": "stderr",
     "output_type": "stream",
     "text": [
      "[I 2024-11-19 21:48:33,565] Trial 83 finished with value: 0.04771496910792976 and parameters: {'similarity': 'cosine', 'topK': 48, 'shrink': 515, 'feature_weighting': 'BM25', 'ICM_weight': 0.26590837772644116}. Best is trial 28 with value: 0.051176340087000304.\n"
     ]
    },
    {
     "name": "stdout",
     "output_type": "stream",
     "text": [
      "Similarity column 38121 (100.0%), 636.55 column/sec. Elapsed time 59.89 sec\n",
      "EvaluatorHoldout: Processed 35595 (100.0%) in 41.56 sec. Users per second: 857\n"
     ]
    },
    {
     "name": "stderr",
     "output_type": "stream",
     "text": [
      "[I 2024-11-19 21:50:16,017] Trial 84 finished with value: 0.04664630086711662 and parameters: {'similarity': 'cosine', 'topK': 93, 'shrink': 382, 'feature_weighting': 'BM25', 'ICM_weight': 0.1728283966560544}. Best is trial 28 with value: 0.051176340087000304.\n"
     ]
    },
    {
     "name": "stdout",
     "output_type": "stream",
     "text": [
      "Similarity column 38121 (100.0%), 635.92 column/sec. Elapsed time 59.95 sec\n",
      "EvaluatorHoldout: Processed 35595 (100.0%) in 38.49 sec. Users per second: 925\n"
     ]
    },
    {
     "name": "stderr",
     "output_type": "stream",
     "text": [
      "[I 2024-11-19 21:51:55,625] Trial 85 finished with value: 0.047318310936303544 and parameters: {'similarity': 'cosine', 'topK': 38, 'shrink': 559, 'feature_weighting': 'BM25', 'ICM_weight': 0.11115547348385228}. Best is trial 28 with value: 0.051176340087000304.\n"
     ]
    },
    {
     "name": "stdout",
     "output_type": "stream",
     "text": [
      "Similarity column 38121 (100.0%), 621.01 column/sec. Elapsed time 1.02 min\n",
      "EvaluatorHoldout: Processed 35595 (100.0%) in 40.19 sec. Users per second: 886\n"
     ]
    },
    {
     "name": "stderr",
     "output_type": "stream",
     "text": [
      "[I 2024-11-19 21:53:39,028] Trial 86 finished with value: 0.034583947049811735 and parameters: {'similarity': 'tversky', 'topK': 71, 'shrink': 476, 'feature_weighting': 'BM25', 'ICM_weight': 1.0525579049088518, 'tversky_alpha': 0.5262022545196658, 'tversky_beta': 1.4308045157336124}. Best is trial 28 with value: 0.051176340087000304.\n"
     ]
    },
    {
     "name": "stdout",
     "output_type": "stream",
     "text": [
      "Similarity column 38121 (100.0%), 634.71 column/sec. Elapsed time 1.00 min\n",
      "EvaluatorHoldout: Processed 35595 (100.0%) in 38.41 sec. Users per second: 927\n"
     ]
    },
    {
     "name": "stderr",
     "output_type": "stream",
     "text": [
      "[I 2024-11-19 21:55:18,338] Trial 87 finished with value: 0.039089048533210616 and parameters: {'similarity': 'asymmetric', 'topK': 15, 'shrink': 532, 'feature_weighting': 'none', 'ICM_weight': 0.19756274569271262, 'asymmetric_alpha': 0.6067628729749083}. Best is trial 28 with value: 0.051176340087000304.\n"
     ]
    },
    {
     "name": "stdout",
     "output_type": "stream",
     "text": [
      "Similarity column 38121 (100.0%), 887.61 column/sec. Elapsed time 42.95 sec\n",
      "EvaluatorHoldout: Processed 35595 (100.0%) in 28.04 sec. Users per second: 1269\n"
     ]
    },
    {
     "name": "stderr",
     "output_type": "stream",
     "text": [
      "[I 2024-11-19 21:56:30,381] Trial 88 finished with value: 0.00028209999175022335 and parameters: {'similarity': 'cosine', 'topK': 0, 'shrink': 592, 'feature_weighting': 'BM25', 'ICM_weight': 0.12424697193133706}. Best is trial 28 with value: 0.051176340087000304.\n"
     ]
    },
    {
     "name": "stdout",
     "output_type": "stream",
     "text": [
      "Similarity column 28300 (74.2%), 94.08 column/sec. Elapsed time 5.01 min\n",
      "Similarity column 38121 (100.0%), 94.31 column/sec. Elapsed time 6.74 min\n",
      "EvaluatorHoldout: Processed 35595 (100.0%) in 42.67 sec. Users per second: 834\n"
     ]
    },
    {
     "name": "stderr",
     "output_type": "stream",
     "text": [
      "[I 2024-11-19 22:03:58,199] Trial 89 finished with value: 0.029064993745776604 and parameters: {'similarity': 'euclidean', 'topK': 124, 'shrink': 901, 'feature_weighting': 'BM25', 'ICM_weight': 0.10223925167575872, 'normalize_avg_row': False, 'similarity_from_distance_mode': 'lin', 'normalize': True}. Best is trial 28 with value: 0.051176340087000304.\n"
     ]
    },
    {
     "name": "stdout",
     "output_type": "stream",
     "text": [
      "Similarity column 38121 (100.0%), 631.48 column/sec. Elapsed time 1.01 min\n",
      "EvaluatorHoldout: Processed 35595 (100.0%) in 47.82 sec. Users per second: 744\n"
     ]
    },
    {
     "name": "stderr",
     "output_type": "stream",
     "text": [
      "[I 2024-11-19 22:05:47,916] Trial 90 finished with value: 0.04559605638387585 and parameters: {'similarity': 'cosine', 'topK': 290, 'shrink': 578, 'feature_weighting': 'BM25', 'ICM_weight': 0.23616276401067748}. Best is trial 28 with value: 0.051176340087000304.\n"
     ]
    },
    {
     "name": "stdout",
     "output_type": "stream",
     "text": [
      "Similarity column 38121 (100.0%), 637.92 column/sec. Elapsed time 59.76 sec\n",
      "EvaluatorHoldout: Processed 35595 (100.0%) in 38.83 sec. Users per second: 917\n"
     ]
    },
    {
     "name": "stderr",
     "output_type": "stream",
     "text": [
      "[I 2024-11-19 22:07:27,712] Trial 91 finished with value: 0.048173044635748286 and parameters: {'similarity': 'cosine', 'topK': 38, 'shrink': 490, 'feature_weighting': 'BM25', 'ICM_weight': 0.3463576322163512}. Best is trial 28 with value: 0.051176340087000304.\n"
     ]
    },
    {
     "name": "stdout",
     "output_type": "stream",
     "text": [
      "Similarity column 38121 (100.0%), 638.41 column/sec. Elapsed time 59.71 sec\n",
      "EvaluatorHoldout: Processed 35595 (100.0%) in 40.05 sec. Users per second: 889\n"
     ]
    },
    {
     "name": "stderr",
     "output_type": "stream",
     "text": [
      "[I 2024-11-19 22:09:08,680] Trial 92 finished with value: 0.04707620229343596 and parameters: {'similarity': 'cosine', 'topK': 59, 'shrink': 521, 'feature_weighting': 'BM25', 'ICM_weight': 0.15855389086752403}. Best is trial 28 with value: 0.051176340087000304.\n"
     ]
    },
    {
     "name": "stdout",
     "output_type": "stream",
     "text": [
      "Similarity column 38121 (100.0%), 626.27 column/sec. Elapsed time 1.01 min\n",
      "EvaluatorHoldout: Processed 35595 (100.0%) in 51.58 sec. Users per second: 690\n"
     ]
    },
    {
     "name": "stderr",
     "output_type": "stream",
     "text": [
      "[I 2024-11-19 22:11:03,093] Trial 93 finished with value: 0.045099175691251346 and parameters: {'similarity': 'cosine', 'topK': 454, 'shrink': 441, 'feature_weighting': 'BM25', 'ICM_weight': 0.5558419175613543}. Best is trial 28 with value: 0.051176340087000304.\n"
     ]
    },
    {
     "name": "stdout",
     "output_type": "stream",
     "text": [
      "Similarity column 38121 (100.0%), 636.75 column/sec. Elapsed time 59.87 sec\n",
      "EvaluatorHoldout: Processed 35595 (100.0%) in 37.36 sec. Users per second: 953\n"
     ]
    },
    {
     "name": "stderr",
     "output_type": "stream",
     "text": [
      "[I 2024-11-19 22:12:41,242] Trial 94 finished with value: 0.04826264724178606 and parameters: {'similarity': 'cosine', 'topK': 23, 'shrink': 638, 'feature_weighting': 'BM25', 'ICM_weight': 0.13382898984987318}. Best is trial 28 with value: 0.051176340087000304.\n"
     ]
    },
    {
     "name": "stdout",
     "output_type": "stream",
     "text": [
      "Similarity column 38121 (100.0%), 640.22 column/sec. Elapsed time 59.54 sec\n",
      "EvaluatorHoldout: Processed 35595 (100.0%) in 36.21 sec. Users per second: 983\n"
     ]
    },
    {
     "name": "stderr",
     "output_type": "stream",
     "text": [
      "[I 2024-11-19 22:14:18,595] Trial 95 finished with value: 0.03554115635110035 and parameters: {'similarity': 'dice', 'topK': 12, 'shrink': 547, 'feature_weighting': 'BM25', 'ICM_weight': 0.24273599955716293}. Best is trial 28 with value: 0.051176340087000304.\n"
     ]
    },
    {
     "name": "stdout",
     "output_type": "stream",
     "text": [
      "Similarity column 38121 (100.0%), 633.74 column/sec. Elapsed time 1.00 min\n",
      "EvaluatorHoldout: Processed 35595 (100.0%) in 41.34 sec. Users per second: 861\n"
     ]
    },
    {
     "name": "stderr",
     "output_type": "stream",
     "text": [
      "[I 2024-11-19 22:16:01,086] Trial 96 finished with value: 0.04690386780736369 and parameters: {'similarity': 'cosine', 'topK': 79, 'shrink': 608, 'feature_weighting': 'BM25', 'ICM_weight': 0.20007390114610338}. Best is trial 28 with value: 0.051176340087000304.\n"
     ]
    },
    {
     "name": "stdout",
     "output_type": "stream",
     "text": [
      "Similarity column 38121 (100.0%), 631.32 column/sec. Elapsed time 1.01 min\n",
      "EvaluatorHoldout: Processed 35595 (100.0%) in 38.87 sec. Users per second: 916\n"
     ]
    },
    {
     "name": "stderr",
     "output_type": "stream",
     "text": [
      "[I 2024-11-19 22:17:41,484] Trial 97 finished with value: 0.04759566284724133 and parameters: {'similarity': 'cosine', 'topK': 41, 'shrink': 398, 'feature_weighting': 'BM25', 'ICM_weight': 0.17044288498786464}. Best is trial 28 with value: 0.051176340087000304.\n"
     ]
    },
    {
     "name": "stdout",
     "output_type": "stream",
     "text": [
      "Similarity column 38121 (100.0%), 634.61 column/sec. Elapsed time 1.00 min\n",
      "EvaluatorHoldout: Processed 35595 (100.0%) in 40.08 sec. Users per second: 888\n"
     ]
    },
    {
     "name": "stderr",
     "output_type": "stream",
     "text": [
      "[I 2024-11-19 22:19:23,393] Trial 98 finished with value: 0.03498101659542734 and parameters: {'similarity': 'jaccard', 'topK': 57, 'shrink': 456, 'feature_weighting': 'BM25', 'ICM_weight': 0.14133022098751763}. Best is trial 28 with value: 0.051176340087000304.\n"
     ]
    },
    {
     "name": "stdout",
     "output_type": "stream",
     "text": [
      "Similarity column 38121 (100.0%), 627.35 column/sec. Elapsed time 1.01 min\n",
      "EvaluatorHoldout: Processed 35595 (100.0%) in 48.16 sec. Users per second: 739\n"
     ]
    },
    {
     "name": "stderr",
     "output_type": "stream",
     "text": [
      "[I 2024-11-19 22:21:13,368] Trial 99 finished with value: 0.03611153140377611 and parameters: {'similarity': 'cosine', 'topK': 152, 'shrink': 493, 'feature_weighting': 'none', 'ICM_weight': 0.32870558303849406}. Best is trial 28 with value: 0.051176340087000304.\n"
     ]
    }
   ],
   "source": [
    "if config['tune_parameters']:\n",
    "    \n",
    "    optuna_study = optuna.create_study(direction='maximize', study_name=f'hyperparameters_tuning_{config[\"model\"]}',\n",
    "                                storage=f'sqlite:///{config[\"database_path\"]}', load_if_exists=True)\n",
    "\n",
    "    optuna_study.optimize(objective_function_ItemKNN_CFCBF_Hybrid, n_trials=100)"
   ]
  },
  {
   "cell_type": "markdown",
   "id": "768c75c0",
   "metadata": {
    "papermill": {
     "duration": 0.028778,
     "end_time": "2024-11-19T22:21:13.434954",
     "exception": false,
     "start_time": "2024-11-19T22:21:13.406176",
     "status": "completed"
    },
    "tags": []
   },
   "source": [
    "## Some optuna visualizations on recommender parameters"
   ]
  },
  {
   "cell_type": "code",
   "execution_count": 16,
   "id": "ffcd2bee",
   "metadata": {
    "execution": {
     "iopub.execute_input": "2024-11-19T22:21:13.496334Z",
     "iopub.status.busy": "2024-11-19T22:21:13.495666Z",
     "iopub.status.idle": "2024-11-19T22:21:16.543477Z",
     "shell.execute_reply": "2024-11-19T22:21:16.541944Z"
    },
    "papermill": {
     "duration": 3.08162,
     "end_time": "2024-11-19T22:21:16.546311",
     "exception": false,
     "start_time": "2024-11-19T22:21:13.464691",
     "status": "completed"
    },
    "tags": []
   },
   "outputs": [
    {
     "data": {
      "text/html": [
       "        <script type=\"text/javascript\">\n",
       "        window.PlotlyConfig = {MathJaxConfig: 'local'};\n",
       "        if (window.MathJax && window.MathJax.Hub && window.MathJax.Hub.Config) {window.MathJax.Hub.Config({SVG: {font: \"STIX-Web\"}});}\n",
       "        if (typeof require !== 'undefined') {\n",
       "        require.undef(\"plotly\");\n",
       "        requirejs.config({\n",
       "            paths: {\n",
       "                'plotly': ['https://cdn.plot.ly/plotly-2.32.0.min']\n",
       "            }\n",
       "        });\n",
       "        require(['plotly'], function(Plotly) {\n",
       "            window._Plotly = Plotly;\n",
       "        });\n",
       "        }\n",
       "        </script>\n",
       "        "
      ]
     },
     "metadata": {},
     "output_type": "display_data"
    },
    {
     "data": {
      "text/html": [
       "<div>                            <div id=\"0ee7d572-467e-4970-a988-1e81dea98f35\" class=\"plotly-graph-div\" style=\"height:525px; width:3300px;\"></div>            <script type=\"text/javascript\">                require([\"plotly\"], function(Plotly) {                    window.PLOTLYENV=window.PLOTLYENV || {};                                    if (document.getElementById(\"0ee7d572-467e-4970-a988-1e81dea98f35\")) {                    Plotly.newPlot(                        \"0ee7d572-467e-4970-a988-1e81dea98f35\",                        [{\"marker\":{\"color\":[0,1,2,3,4,5,6,7,8,9,10,11,12,13,14,15,16,17,18,19,20,21,22,23,24,25,26,27,28,29,30,31,32,33,34,35,36,37,38,39,40,41,42,43,44,45,46,47,48,49,50,51,52,53,54,55,56,57,58,59,60,61,62,63,64,65,66,67,68,69,70,71,72,73,74,75,76,77,78,79,80,81,82,83,84,85,86,87,88,89,90,91,92,93,94,95,96,97,98,99],\"colorbar\":{\"title\":{\"text\":\"Trial\"},\"x\":1.0,\"xpad\":40},\"colorscale\":[[0.0,\"rgb(247,251,255)\"],[0.125,\"rgb(222,235,247)\"],[0.25,\"rgb(198,219,239)\"],[0.375,\"rgb(158,202,225)\"],[0.5,\"rgb(107,174,214)\"],[0.625,\"rgb(66,146,198)\"],[0.75,\"rgb(33,113,181)\"],[0.875,\"rgb(8,81,156)\"],[1.0,\"rgb(8,48,107)\"]],\"line\":{\"color\":\"Grey\",\"width\":0.5},\"showscale\":true},\"mode\":\"markers\",\"name\":\"Feasible Trial\",\"showlegend\":false,\"x\":[0.3112772787354627,0.44284718944886264,1.7817792291826682,3.934675036738022,11.755398138291278,0.152955138782811,3.4743837163431155,3.842854923922256,17.048545043050023,3.437646417813053,0.7134734917584097,0.9291367813740339,0.6771982302232866,0.761584804855989,0.20790877366762353,0.4963799194916607,0.10567010857190823,0.10429040589027133,0.10065599937842569,0.10562012378980232,0.24283356639556103,0.24115797725894528,0.16567562966508267,0.14064877445341442,0.30064055801353234,0.11165488259948964,0.3519841717312788,1.5056843052298696,0.18482335849666967,0.25562815794692906,0.19063725874437443,0.14695033491541243,0.3659673352014763,0.46263519917736345,0.20726880127558292,0.133732637126558,0.2718054715405088,0.17274097390889046,2.3343433133397244,0.10171136959119412,0.1342231058009735,0.13954691597035654,7.415467580024546,0.224351795143524,0.13080053732905814,0.17395873065056786,0.3775381968438932,0.18320512860035093,1.0289989057659668,0.5781308555318807,6.052197793177692,0.11913722902495018,0.15981935570035524,0.3079864442276722,0.22342552002669835,0.10294256210344074,0.1646465194338939,0.12730976177131328,0.26577428998529107,0.18542148332739103,0.40546376907786197,0.118386888635847,0.1495918683157767,0.11895474586414255,0.10000435263081353,0.21043913664749023,0.14696924276280202,0.30480566908766,0.1234319729815472,0.17619239602932796,0.23823642600680484,0.128927940155802,0.11575877633995638,0.15209424754989115,19.81297272711474,0.11329756303353368,0.18537574700912052,0.2054537493177338,2.6043860291672165,0.1140397522299771,0.14217336389425855,0.15661300226420313,0.13728461759213437,0.26590837772644116,0.1728283966560544,0.11115547348385228,1.0525579049088518,0.19756274569271262,0.12424697193133706,0.10223925167575872,0.23616276401067748,0.3463576322163512,0.15855389086752403,0.5558419175613543,0.13382898984987318,0.24273599955716293,0.20007390114610338,0.17044288498786464,0.14133022098751763,0.32870558303849406],\"y\":[0.02207286224879953,0.033098978365517805,0.03091009192926515,0.03057319001018882,0.026629733309252505,0.03002635580616961,0.03502069579060616,0.028265542467396054,0.03215853283299453,0.030842905303713673,0.03938140388898763,0.03755551207700259,0.03801579943678405,0.021343723592353724,0.03133512041329079,0.01805843517347941,0.04441651783623822,0.04916891194366774,0.05078664628748769,0.05047409458703057,0.050114355279966744,0.050922948202550194,0.046470132464652536,0.0464104732027176,0.04624268278271459,0.03416066662653158,0.046154937491218885,0.043196421603710435,0.051176340087000304,0.04597429860177257,0.021214598982824795,0.050251322751321256,0.047368127323035,0.03560150346601957,0.033469591769843654,0.03368459989698816,0.046121154656551124,0.034606593801072116,0.040747039556561844,0.03301486966467911,0.032841209640197176,0.05105325565165274,0.03742265723070484,0.048264140005394016,0.03442906084098537,0.051142299725526176,0.03495362399302431,0.033581241346095005,0.04339510074760621,0.04676324813766695,0.019659306528248877,0.050344151688861485,0.04780289946197912,0.00028209999175022335,0.04810626046550864,0.03598648040009057,0.0350310369969016,0.046775937185754,0.04534787300695237,0.032175879660286795,0.03578058493144767,0.05051442261598059,0.041422335043488114,0.046940579312680475,0.04763580358396898,0.04671455327460212,0.04685922425344919,0.04869108934953667,0.020338395797519,0.04583166331101252,0.04108776647335279,0.04140166712374721,0.048206556565594215,0.0484950100000654,0.03625918790984,0.04694245000523807,0.033716868786189395,0.04771237377284395,0.03934556752887871,0.034914612583806445,0.043992543985799895,0.04975486904037113,0.04844184019067972,0.04771496910792976,0.04664630086711662,0.047318310936303544,0.034583947049811735,0.039089048533210616,0.00028209999175022335,0.029064993745776604,0.04559605638387585,0.048173044635748286,0.04707620229343596,0.045099175691251346,0.04826264724178606,0.03554115635110035,0.04690386780736369,0.04759566284724133,0.03498101659542734,0.03611153140377611],\"type\":\"scatter\",\"xaxis\":\"x\",\"yaxis\":\"y\"},{\"marker\":{\"color\":[0,6,7,10,11,12,13,55,68,87],\"colorbar\":{\"title\":{\"text\":\"Trial\"},\"x\":1.0,\"xpad\":40},\"colorscale\":[[0.0,\"rgb(247,251,255)\"],[0.125,\"rgb(222,235,247)\"],[0.25,\"rgb(198,219,239)\"],[0.375,\"rgb(158,202,225)\"],[0.5,\"rgb(107,174,214)\"],[0.625,\"rgb(66,146,198)\"],[0.75,\"rgb(33,113,181)\"],[0.875,\"rgb(8,81,156)\"],[1.0,\"rgb(8,48,107)\"]],\"line\":{\"color\":\"Grey\",\"width\":0.5},\"showscale\":false},\"mode\":\"markers\",\"name\":\"Feasible Trial\",\"showlegend\":false,\"x\":[1.0525560849843292,0.1636663388582551,1.0026082248717516,0.1298903009168667,0.017970709983976152,0.022168283053468824,1.8726067832722688,1.9746161803773963,1.5124594582231354,0.6067628729749083],\"y\":[0.02207286224879953,0.03502069579060616,0.028265542467396054,0.03938140388898763,0.03755551207700259,0.03801579943678405,0.021343723592353724,0.03598648040009057,0.020338395797519,0.039089048533210616],\"type\":\"scatter\",\"xaxis\":\"x2\",\"yaxis\":\"y2\"},{\"marker\":{\"color\":[0,1,2,3,4,5,6,7,8,9,10,11,12,13,14,15,16,17,18,19,20,21,22,23,24,25,26,27,28,29,30,31,32,33,34,35,36,37,38,39,40,41,42,43,44,45,46,47,48,49,50,51,52,53,54,55,56,57,58,59,60,61,62,63,64,65,66,67,68,69,70,71,72,73,74,75,76,77,78,79,80,81,82,83,84,85,86,87,88,89,90,91,92,93,94,95,96,97,98,99],\"colorbar\":{\"title\":{\"text\":\"Trial\"},\"x\":1.0,\"xpad\":40},\"colorscale\":[[0.0,\"rgb(247,251,255)\"],[0.125,\"rgb(222,235,247)\"],[0.25,\"rgb(198,219,239)\"],[0.375,\"rgb(158,202,225)\"],[0.5,\"rgb(107,174,214)\"],[0.625,\"rgb(66,146,198)\"],[0.75,\"rgb(33,113,181)\"],[0.875,\"rgb(8,81,156)\"],[1.0,\"rgb(8,48,107)\"]],\"line\":{\"color\":\"Grey\",\"width\":0.5},\"showscale\":false},\"mode\":\"markers\",\"name\":\"Feasible Trial\",\"showlegend\":false,\"x\":[\"TF-IDF\",\"BM25\",\"TF-IDF\",\"none\",\"TF-IDF\",\"BM25\",\"TF-IDF\",\"BM25\",\"none\",\"TF-IDF\",\"TF-IDF\",\"TF-IDF\",\"TF-IDF\",\"TF-IDF\",\"none\",\"TF-IDF\",\"TF-IDF\",\"TF-IDF\",\"BM25\",\"BM25\",\"BM25\",\"BM25\",\"BM25\",\"BM25\",\"BM25\",\"BM25\",\"BM25\",\"BM25\",\"BM25\",\"BM25\",\"BM25\",\"BM25\",\"BM25\",\"BM25\",\"BM25\",\"none\",\"BM25\",\"BM25\",\"BM25\",\"none\",\"BM25\",\"BM25\",\"BM25\",\"BM25\",\"BM25\",\"BM25\",\"none\",\"BM25\",\"BM25\",\"BM25\",\"BM25\",\"BM25\",\"BM25\",\"BM25\",\"BM25\",\"none\",\"BM25\",\"BM25\",\"BM25\",\"TF-IDF\",\"BM25\",\"BM25\",\"BM25\",\"BM25\",\"BM25\",\"BM25\",\"BM25\",\"BM25\",\"TF-IDF\",\"BM25\",\"none\",\"BM25\",\"BM25\",\"BM25\",\"BM25\",\"BM25\",\"BM25\",\"BM25\",\"BM25\",\"BM25\",\"TF-IDF\",\"BM25\",\"BM25\",\"BM25\",\"BM25\",\"BM25\",\"BM25\",\"none\",\"BM25\",\"BM25\",\"BM25\",\"BM25\",\"BM25\",\"BM25\",\"BM25\",\"BM25\",\"BM25\",\"BM25\",\"BM25\",\"none\"],\"y\":[0.02207286224879953,0.033098978365517805,0.03091009192926515,0.03057319001018882,0.026629733309252505,0.03002635580616961,0.03502069579060616,0.028265542467396054,0.03215853283299453,0.030842905303713673,0.03938140388898763,0.03755551207700259,0.03801579943678405,0.021343723592353724,0.03133512041329079,0.01805843517347941,0.04441651783623822,0.04916891194366774,0.05078664628748769,0.05047409458703057,0.050114355279966744,0.050922948202550194,0.046470132464652536,0.0464104732027176,0.04624268278271459,0.03416066662653158,0.046154937491218885,0.043196421603710435,0.051176340087000304,0.04597429860177257,0.021214598982824795,0.050251322751321256,0.047368127323035,0.03560150346601957,0.033469591769843654,0.03368459989698816,0.046121154656551124,0.034606593801072116,0.040747039556561844,0.03301486966467911,0.032841209640197176,0.05105325565165274,0.03742265723070484,0.048264140005394016,0.03442906084098537,0.051142299725526176,0.03495362399302431,0.033581241346095005,0.04339510074760621,0.04676324813766695,0.019659306528248877,0.050344151688861485,0.04780289946197912,0.00028209999175022335,0.04810626046550864,0.03598648040009057,0.0350310369969016,0.046775937185754,0.04534787300695237,0.032175879660286795,0.03578058493144767,0.05051442261598059,0.041422335043488114,0.046940579312680475,0.04763580358396898,0.04671455327460212,0.04685922425344919,0.04869108934953667,0.020338395797519,0.04583166331101252,0.04108776647335279,0.04140166712374721,0.048206556565594215,0.0484950100000654,0.03625918790984,0.04694245000523807,0.033716868786189395,0.04771237377284395,0.03934556752887871,0.034914612583806445,0.043992543985799895,0.04975486904037113,0.04844184019067972,0.04771496910792976,0.04664630086711662,0.047318310936303544,0.034583947049811735,0.039089048533210616,0.00028209999175022335,0.029064993745776604,0.04559605638387585,0.048173044635748286,0.04707620229343596,0.045099175691251346,0.04826264724178606,0.03554115635110035,0.04690386780736369,0.04759566284724133,0.03498101659542734,0.03611153140377611],\"type\":\"scatter\",\"xaxis\":\"x3\",\"yaxis\":\"y3\"},{\"marker\":{\"color\":[1,15,30,37,50,70,89],\"colorbar\":{\"title\":{\"text\":\"Trial\"},\"x\":1.0,\"xpad\":40},\"colorscale\":[[0.0,\"rgb(247,251,255)\"],[0.125,\"rgb(222,235,247)\"],[0.25,\"rgb(198,219,239)\"],[0.375,\"rgb(158,202,225)\"],[0.5,\"rgb(107,174,214)\"],[0.625,\"rgb(66,146,198)\"],[0.75,\"rgb(33,113,181)\"],[0.875,\"rgb(8,81,156)\"],[1.0,\"rgb(8,48,107)\"]],\"line\":{\"color\":\"Grey\",\"width\":0.5},\"showscale\":false},\"mode\":\"markers\",\"name\":\"Feasible Trial\",\"showlegend\":false,\"x\":[false,true,false,true,false,true,true],\"y\":[0.033098978365517805,0.01805843517347941,0.021214598982824795,0.034606593801072116,0.019659306528248877,0.04108776647335279,0.029064993745776604],\"type\":\"scatter\",\"xaxis\":\"x4\",\"yaxis\":\"y4\"},{\"marker\":{\"color\":[1,15,30,37,50,70,89],\"colorbar\":{\"title\":{\"text\":\"Trial\"},\"x\":1.0,\"xpad\":40},\"colorscale\":[[0.0,\"rgb(247,251,255)\"],[0.125,\"rgb(222,235,247)\"],[0.25,\"rgb(198,219,239)\"],[0.375,\"rgb(158,202,225)\"],[0.5,\"rgb(107,174,214)\"],[0.625,\"rgb(66,146,198)\"],[0.75,\"rgb(33,113,181)\"],[0.875,\"rgb(8,81,156)\"],[1.0,\"rgb(8,48,107)\"]],\"line\":{\"color\":\"Grey\",\"width\":0.5},\"showscale\":false},\"mode\":\"markers\",\"name\":\"Feasible Trial\",\"showlegend\":false,\"x\":[true,false,false,true,true,false,false],\"y\":[0.033098978365517805,0.01805843517347941,0.021214598982824795,0.034606593801072116,0.019659306528248877,0.04108776647335279,0.029064993745776604],\"type\":\"scatter\",\"xaxis\":\"x5\",\"yaxis\":\"y5\"},{\"marker\":{\"color\":[0,1,2,3,4,5,6,7,8,9,10,11,12,13,14,15,16,17,18,19,20,21,22,23,24,25,26,27,28,29,30,31,32,33,34,35,36,37,38,39,40,41,42,43,44,45,46,47,48,49,50,51,52,53,54,55,56,57,58,59,60,61,62,63,64,65,66,67,68,69,70,71,72,73,74,75,76,77,78,79,80,81,82,83,84,85,86,87,88,89,90,91,92,93,94,95,96,97,98,99],\"colorbar\":{\"title\":{\"text\":\"Trial\"},\"x\":1.0,\"xpad\":40},\"colorscale\":[[0.0,\"rgb(247,251,255)\"],[0.125,\"rgb(222,235,247)\"],[0.25,\"rgb(198,219,239)\"],[0.375,\"rgb(158,202,225)\"],[0.5,\"rgb(107,174,214)\"],[0.625,\"rgb(66,146,198)\"],[0.75,\"rgb(33,113,181)\"],[0.875,\"rgb(8,81,156)\"],[1.0,\"rgb(8,48,107)\"]],\"line\":{\"color\":\"Grey\",\"width\":0.5},\"showscale\":false},\"mode\":\"markers\",\"name\":\"Feasible Trial\",\"showlegend\":false,\"x\":[21,364,675,726,713,858,874,121,56,666,968,980,972,996,380,526,860,828,558,535,485,511,546,333,273,611,454,232,569,444,646,521,591,407,575,768,339,749,630,689,433,516,497,580,490,556,682,792,575,715,393,540,473,631,528,554,611,423,301,660,458,541,501,551,509,608,563,152,355,466,595,535,526,650,416,482,549,621,13,442,694,506,584,515,382,559,476,532,592,901,578,490,521,441,638,547,608,398,456,493],\"y\":[0.02207286224879953,0.033098978365517805,0.03091009192926515,0.03057319001018882,0.026629733309252505,0.03002635580616961,0.03502069579060616,0.028265542467396054,0.03215853283299453,0.030842905303713673,0.03938140388898763,0.03755551207700259,0.03801579943678405,0.021343723592353724,0.03133512041329079,0.01805843517347941,0.04441651783623822,0.04916891194366774,0.05078664628748769,0.05047409458703057,0.050114355279966744,0.050922948202550194,0.046470132464652536,0.0464104732027176,0.04624268278271459,0.03416066662653158,0.046154937491218885,0.043196421603710435,0.051176340087000304,0.04597429860177257,0.021214598982824795,0.050251322751321256,0.047368127323035,0.03560150346601957,0.033469591769843654,0.03368459989698816,0.046121154656551124,0.034606593801072116,0.040747039556561844,0.03301486966467911,0.032841209640197176,0.05105325565165274,0.03742265723070484,0.048264140005394016,0.03442906084098537,0.051142299725526176,0.03495362399302431,0.033581241346095005,0.04339510074760621,0.04676324813766695,0.019659306528248877,0.050344151688861485,0.04780289946197912,0.00028209999175022335,0.04810626046550864,0.03598648040009057,0.0350310369969016,0.046775937185754,0.04534787300695237,0.032175879660286795,0.03578058493144767,0.05051442261598059,0.041422335043488114,0.046940579312680475,0.04763580358396898,0.04671455327460212,0.04685922425344919,0.04869108934953667,0.020338395797519,0.04583166331101252,0.04108776647335279,0.04140166712374721,0.048206556565594215,0.0484950100000654,0.03625918790984,0.04694245000523807,0.033716868786189395,0.04771237377284395,0.03934556752887871,0.034914612583806445,0.043992543985799895,0.04975486904037113,0.04844184019067972,0.04771496910792976,0.04664630086711662,0.047318310936303544,0.034583947049811735,0.039089048533210616,0.00028209999175022335,0.029064993745776604,0.04559605638387585,0.048173044635748286,0.04707620229343596,0.045099175691251346,0.04826264724178606,0.03554115635110035,0.04690386780736369,0.04759566284724133,0.03498101659542734,0.03611153140377611],\"type\":\"scatter\",\"xaxis\":\"x6\",\"yaxis\":\"y6\"},{\"marker\":{\"color\":[0,1,2,3,4,5,6,7,8,9,10,11,12,13,14,15,16,17,18,19,20,21,22,23,24,25,26,27,28,29,30,31,32,33,34,35,36,37,38,39,40,41,42,43,44,45,46,47,48,49,50,51,52,53,54,55,56,57,58,59,60,61,62,63,64,65,66,67,68,69,70,71,72,73,74,75,76,77,78,79,80,81,82,83,84,85,86,87,88,89,90,91,92,93,94,95,96,97,98,99],\"colorbar\":{\"title\":{\"text\":\"Trial\"},\"x\":1.0,\"xpad\":40},\"colorscale\":[[0.0,\"rgb(247,251,255)\"],[0.125,\"rgb(222,235,247)\"],[0.25,\"rgb(198,219,239)\"],[0.375,\"rgb(158,202,225)\"],[0.5,\"rgb(107,174,214)\"],[0.625,\"rgb(66,146,198)\"],[0.75,\"rgb(33,113,181)\"],[0.875,\"rgb(8,81,156)\"],[1.0,\"rgb(8,48,107)\"]],\"line\":{\"color\":\"Grey\",\"width\":0.5},\"showscale\":false},\"mode\":\"markers\",\"name\":\"Feasible Trial\",\"showlegend\":false,\"x\":[\"asymmetric\",\"euclidean\",\"dice\",\"jaccard\",\"cosine\",\"tversky\",\"asymmetric\",\"asymmetric\",\"tversky\",\"tversky\",\"asymmetric\",\"asymmetric\",\"asymmetric\",\"asymmetric\",\"dice\",\"euclidean\",\"cosine\",\"cosine\",\"cosine\",\"cosine\",\"cosine\",\"cosine\",\"cosine\",\"cosine\",\"cosine\",\"jaccard\",\"cosine\",\"cosine\",\"cosine\",\"cosine\",\"euclidean\",\"cosine\",\"cosine\",\"dice\",\"jaccard\",\"cosine\",\"cosine\",\"euclidean\",\"cosine\",\"dice\",\"tversky\",\"cosine\",\"cosine\",\"cosine\",\"jaccard\",\"cosine\",\"cosine\",\"tversky\",\"cosine\",\"cosine\",\"euclidean\",\"cosine\",\"cosine\",\"cosine\",\"cosine\",\"asymmetric\",\"dice\",\"cosine\",\"cosine\",\"tversky\",\"jaccard\",\"cosine\",\"cosine\",\"cosine\",\"cosine\",\"cosine\",\"cosine\",\"cosine\",\"asymmetric\",\"cosine\",\"euclidean\",\"cosine\",\"cosine\",\"cosine\",\"cosine\",\"cosine\",\"dice\",\"cosine\",\"cosine\",\"jaccard\",\"cosine\",\"cosine\",\"cosine\",\"cosine\",\"cosine\",\"cosine\",\"tversky\",\"asymmetric\",\"cosine\",\"euclidean\",\"cosine\",\"cosine\",\"cosine\",\"cosine\",\"cosine\",\"dice\",\"cosine\",\"cosine\",\"jaccard\",\"cosine\"],\"y\":[0.02207286224879953,0.033098978365517805,0.03091009192926515,0.03057319001018882,0.026629733309252505,0.03002635580616961,0.03502069579060616,0.028265542467396054,0.03215853283299453,0.030842905303713673,0.03938140388898763,0.03755551207700259,0.03801579943678405,0.021343723592353724,0.03133512041329079,0.01805843517347941,0.04441651783623822,0.04916891194366774,0.05078664628748769,0.05047409458703057,0.050114355279966744,0.050922948202550194,0.046470132464652536,0.0464104732027176,0.04624268278271459,0.03416066662653158,0.046154937491218885,0.043196421603710435,0.051176340087000304,0.04597429860177257,0.021214598982824795,0.050251322751321256,0.047368127323035,0.03560150346601957,0.033469591769843654,0.03368459989698816,0.046121154656551124,0.034606593801072116,0.040747039556561844,0.03301486966467911,0.032841209640197176,0.05105325565165274,0.03742265723070484,0.048264140005394016,0.03442906084098537,0.051142299725526176,0.03495362399302431,0.033581241346095005,0.04339510074760621,0.04676324813766695,0.019659306528248877,0.050344151688861485,0.04780289946197912,0.00028209999175022335,0.04810626046550864,0.03598648040009057,0.0350310369969016,0.046775937185754,0.04534787300695237,0.032175879660286795,0.03578058493144767,0.05051442261598059,0.041422335043488114,0.046940579312680475,0.04763580358396898,0.04671455327460212,0.04685922425344919,0.04869108934953667,0.020338395797519,0.04583166331101252,0.04108776647335279,0.04140166712374721,0.048206556565594215,0.0484950100000654,0.03625918790984,0.04694245000523807,0.033716868786189395,0.04771237377284395,0.03934556752887871,0.034914612583806445,0.043992543985799895,0.04975486904037113,0.04844184019067972,0.04771496910792976,0.04664630086711662,0.047318310936303544,0.034583947049811735,0.039089048533210616,0.00028209999175022335,0.029064993745776604,0.04559605638387585,0.048173044635748286,0.04707620229343596,0.045099175691251346,0.04826264724178606,0.03554115635110035,0.04690386780736369,0.04759566284724133,0.03498101659542734,0.03611153140377611],\"type\":\"scatter\",\"xaxis\":\"x7\",\"yaxis\":\"y7\"},{\"marker\":{\"color\":[1,15,30,37,50,70,89],\"colorbar\":{\"title\":{\"text\":\"Trial\"},\"x\":1.0,\"xpad\":40},\"colorscale\":[[0.0,\"rgb(247,251,255)\"],[0.125,\"rgb(222,235,247)\"],[0.25,\"rgb(198,219,239)\"],[0.375,\"rgb(158,202,225)\"],[0.5,\"rgb(107,174,214)\"],[0.625,\"rgb(66,146,198)\"],[0.75,\"rgb(33,113,181)\"],[0.875,\"rgb(8,81,156)\"],[1.0,\"rgb(8,48,107)\"]],\"line\":{\"color\":\"Grey\",\"width\":0.5},\"showscale\":false},\"mode\":\"markers\",\"name\":\"Feasible Trial\",\"showlegend\":false,\"x\":[\"log\",\"lin\",\"exp\",\"lin\",\"log\",\"exp\",\"lin\"],\"y\":[0.033098978365517805,0.01805843517347941,0.021214598982824795,0.034606593801072116,0.019659306528248877,0.04108776647335279,0.029064993745776604],\"type\":\"scatter\",\"xaxis\":\"x8\",\"yaxis\":\"y8\"},{\"marker\":{\"color\":[0,1,2,3,4,5,6,7,8,9,10,11,12,13,14,15,16,17,18,19,20,21,22,23,24,25,26,27,28,29,30,31,32,33,34,35,36,37,38,39,40,41,42,43,44,45,46,47,48,49,50,51,52,53,54,55,56,57,58,59,60,61,62,63,64,65,66,67,68,69,70,71,72,73,74,75,76,77,78,79,80,81,82,83,84,85,86,87,88,89,90,91,92,93,94,95,96,97,98,99],\"colorbar\":{\"title\":{\"text\":\"Trial\"},\"x\":1.0,\"xpad\":40},\"colorscale\":[[0.0,\"rgb(247,251,255)\"],[0.125,\"rgb(222,235,247)\"],[0.25,\"rgb(198,219,239)\"],[0.375,\"rgb(158,202,225)\"],[0.5,\"rgb(107,174,214)\"],[0.625,\"rgb(66,146,198)\"],[0.75,\"rgb(33,113,181)\"],[0.875,\"rgb(8,81,156)\"],[1.0,\"rgb(8,48,107)\"]],\"line\":{\"color\":\"Grey\",\"width\":0.5},\"showscale\":false},\"mode\":\"markers\",\"name\":\"Feasible Trial\",\"showlegend\":false,\"x\":[243,582,304,318,314,385,662,691,293,140,548,550,526,500,438,749,477,21,4,3,9,6,107,99,173,66,212,55,5,215,150,8,75,51,111,2,184,43,263,120,351,5,78,31,78,4,160,50,622,94,131,7,34,0,32,86,39,68,393,131,21,3,1,56,33,104,68,24,53,193,1,1,23,20,86,53,110,41,17,67,741,10,20,48,93,38,71,15,0,124,290,38,59,454,23,12,79,41,57,152],\"y\":[0.02207286224879953,0.033098978365517805,0.03091009192926515,0.03057319001018882,0.026629733309252505,0.03002635580616961,0.03502069579060616,0.028265542467396054,0.03215853283299453,0.030842905303713673,0.03938140388898763,0.03755551207700259,0.03801579943678405,0.021343723592353724,0.03133512041329079,0.01805843517347941,0.04441651783623822,0.04916891194366774,0.05078664628748769,0.05047409458703057,0.050114355279966744,0.050922948202550194,0.046470132464652536,0.0464104732027176,0.04624268278271459,0.03416066662653158,0.046154937491218885,0.043196421603710435,0.051176340087000304,0.04597429860177257,0.021214598982824795,0.050251322751321256,0.047368127323035,0.03560150346601957,0.033469591769843654,0.03368459989698816,0.046121154656551124,0.034606593801072116,0.040747039556561844,0.03301486966467911,0.032841209640197176,0.05105325565165274,0.03742265723070484,0.048264140005394016,0.03442906084098537,0.051142299725526176,0.03495362399302431,0.033581241346095005,0.04339510074760621,0.04676324813766695,0.019659306528248877,0.050344151688861485,0.04780289946197912,0.00028209999175022335,0.04810626046550864,0.03598648040009057,0.0350310369969016,0.046775937185754,0.04534787300695237,0.032175879660286795,0.03578058493144767,0.05051442261598059,0.041422335043488114,0.046940579312680475,0.04763580358396898,0.04671455327460212,0.04685922425344919,0.04869108934953667,0.020338395797519,0.04583166331101252,0.04108776647335279,0.04140166712374721,0.048206556565594215,0.0484950100000654,0.03625918790984,0.04694245000523807,0.033716868786189395,0.04771237377284395,0.03934556752887871,0.034914612583806445,0.043992543985799895,0.04975486904037113,0.04844184019067972,0.04771496910792976,0.04664630086711662,0.047318310936303544,0.034583947049811735,0.039089048533210616,0.00028209999175022335,0.029064993745776604,0.04559605638387585,0.048173044635748286,0.04707620229343596,0.045099175691251346,0.04826264724178606,0.03554115635110035,0.04690386780736369,0.04759566284724133,0.03498101659542734,0.03611153140377611],\"type\":\"scatter\",\"xaxis\":\"x9\",\"yaxis\":\"y9\"},{\"marker\":{\"color\":[5,8,9,40,47,59,86],\"colorbar\":{\"title\":{\"text\":\"Trial\"},\"x\":1.0,\"xpad\":40},\"colorscale\":[[0.0,\"rgb(247,251,255)\"],[0.125,\"rgb(222,235,247)\"],[0.25,\"rgb(198,219,239)\"],[0.375,\"rgb(158,202,225)\"],[0.5,\"rgb(107,174,214)\"],[0.625,\"rgb(66,146,198)\"],[0.75,\"rgb(33,113,181)\"],[0.875,\"rgb(8,81,156)\"],[1.0,\"rgb(8,48,107)\"]],\"line\":{\"color\":\"Grey\",\"width\":0.5},\"showscale\":false},\"mode\":\"markers\",\"name\":\"Feasible Trial\",\"showlegend\":false,\"x\":[1.2509612782579305,1.0436185719707491,0.2885590943603238,1.9292987179528651,0.08337365810473107,1.9026629450296695,0.5262022545196658],\"y\":[0.03002635580616961,0.03215853283299453,0.030842905303713673,0.032841209640197176,0.033581241346095005,0.032175879660286795,0.034583947049811735],\"type\":\"scatter\",\"xaxis\":\"x10\",\"yaxis\":\"y10\"},{\"marker\":{\"color\":[5,8,9,40,47,59,86],\"colorbar\":{\"title\":{\"text\":\"Trial\"},\"x\":1.0,\"xpad\":40},\"colorscale\":[[0.0,\"rgb(247,251,255)\"],[0.125,\"rgb(222,235,247)\"],[0.25,\"rgb(198,219,239)\"],[0.375,\"rgb(158,202,225)\"],[0.5,\"rgb(107,174,214)\"],[0.625,\"rgb(66,146,198)\"],[0.75,\"rgb(33,113,181)\"],[0.875,\"rgb(8,81,156)\"],[1.0,\"rgb(8,48,107)\"]],\"line\":{\"color\":\"Grey\",\"width\":0.5},\"showscale\":false},\"mode\":\"markers\",\"name\":\"Feasible Trial\",\"showlegend\":false,\"x\":[0.8177768511130263,0.4031235835164395,0.8069322186724457,1.9902597435017206,1.8648751242811732,0.09261013478714619,1.4308045157336124],\"y\":[0.03002635580616961,0.03215853283299453,0.030842905303713673,0.032841209640197176,0.033581241346095005,0.032175879660286795,0.034583947049811735],\"type\":\"scatter\",\"xaxis\":\"x11\",\"yaxis\":\"y11\"}],                        {\"template\":{\"data\":{\"histogram2dcontour\":[{\"type\":\"histogram2dcontour\",\"colorbar\":{\"outlinewidth\":0,\"ticks\":\"\"},\"colorscale\":[[0.0,\"#0d0887\"],[0.1111111111111111,\"#46039f\"],[0.2222222222222222,\"#7201a8\"],[0.3333333333333333,\"#9c179e\"],[0.4444444444444444,\"#bd3786\"],[0.5555555555555556,\"#d8576b\"],[0.6666666666666666,\"#ed7953\"],[0.7777777777777778,\"#fb9f3a\"],[0.8888888888888888,\"#fdca26\"],[1.0,\"#f0f921\"]]}],\"choropleth\":[{\"type\":\"choropleth\",\"colorbar\":{\"outlinewidth\":0,\"ticks\":\"\"}}],\"histogram2d\":[{\"type\":\"histogram2d\",\"colorbar\":{\"outlinewidth\":0,\"ticks\":\"\"},\"colorscale\":[[0.0,\"#0d0887\"],[0.1111111111111111,\"#46039f\"],[0.2222222222222222,\"#7201a8\"],[0.3333333333333333,\"#9c179e\"],[0.4444444444444444,\"#bd3786\"],[0.5555555555555556,\"#d8576b\"],[0.6666666666666666,\"#ed7953\"],[0.7777777777777778,\"#fb9f3a\"],[0.8888888888888888,\"#fdca26\"],[1.0,\"#f0f921\"]]}],\"heatmap\":[{\"type\":\"heatmap\",\"colorbar\":{\"outlinewidth\":0,\"ticks\":\"\"},\"colorscale\":[[0.0,\"#0d0887\"],[0.1111111111111111,\"#46039f\"],[0.2222222222222222,\"#7201a8\"],[0.3333333333333333,\"#9c179e\"],[0.4444444444444444,\"#bd3786\"],[0.5555555555555556,\"#d8576b\"],[0.6666666666666666,\"#ed7953\"],[0.7777777777777778,\"#fb9f3a\"],[0.8888888888888888,\"#fdca26\"],[1.0,\"#f0f921\"]]}],\"heatmapgl\":[{\"type\":\"heatmapgl\",\"colorbar\":{\"outlinewidth\":0,\"ticks\":\"\"},\"colorscale\":[[0.0,\"#0d0887\"],[0.1111111111111111,\"#46039f\"],[0.2222222222222222,\"#7201a8\"],[0.3333333333333333,\"#9c179e\"],[0.4444444444444444,\"#bd3786\"],[0.5555555555555556,\"#d8576b\"],[0.6666666666666666,\"#ed7953\"],[0.7777777777777778,\"#fb9f3a\"],[0.8888888888888888,\"#fdca26\"],[1.0,\"#f0f921\"]]}],\"contourcarpet\":[{\"type\":\"contourcarpet\",\"colorbar\":{\"outlinewidth\":0,\"ticks\":\"\"}}],\"contour\":[{\"type\":\"contour\",\"colorbar\":{\"outlinewidth\":0,\"ticks\":\"\"},\"colorscale\":[[0.0,\"#0d0887\"],[0.1111111111111111,\"#46039f\"],[0.2222222222222222,\"#7201a8\"],[0.3333333333333333,\"#9c179e\"],[0.4444444444444444,\"#bd3786\"],[0.5555555555555556,\"#d8576b\"],[0.6666666666666666,\"#ed7953\"],[0.7777777777777778,\"#fb9f3a\"],[0.8888888888888888,\"#fdca26\"],[1.0,\"#f0f921\"]]}],\"surface\":[{\"type\":\"surface\",\"colorbar\":{\"outlinewidth\":0,\"ticks\":\"\"},\"colorscale\":[[0.0,\"#0d0887\"],[0.1111111111111111,\"#46039f\"],[0.2222222222222222,\"#7201a8\"],[0.3333333333333333,\"#9c179e\"],[0.4444444444444444,\"#bd3786\"],[0.5555555555555556,\"#d8576b\"],[0.6666666666666666,\"#ed7953\"],[0.7777777777777778,\"#fb9f3a\"],[0.8888888888888888,\"#fdca26\"],[1.0,\"#f0f921\"]]}],\"mesh3d\":[{\"type\":\"mesh3d\",\"colorbar\":{\"outlinewidth\":0,\"ticks\":\"\"}}],\"scatter\":[{\"fillpattern\":{\"fillmode\":\"overlay\",\"size\":10,\"solidity\":0.2},\"type\":\"scatter\"}],\"parcoords\":[{\"type\":\"parcoords\",\"line\":{\"colorbar\":{\"outlinewidth\":0,\"ticks\":\"\"}}}],\"scatterpolargl\":[{\"type\":\"scatterpolargl\",\"marker\":{\"colorbar\":{\"outlinewidth\":0,\"ticks\":\"\"}}}],\"bar\":[{\"error_x\":{\"color\":\"#2a3f5f\"},\"error_y\":{\"color\":\"#2a3f5f\"},\"marker\":{\"line\":{\"color\":\"#E5ECF6\",\"width\":0.5},\"pattern\":{\"fillmode\":\"overlay\",\"size\":10,\"solidity\":0.2}},\"type\":\"bar\"}],\"scattergeo\":[{\"type\":\"scattergeo\",\"marker\":{\"colorbar\":{\"outlinewidth\":0,\"ticks\":\"\"}}}],\"scatterpolar\":[{\"type\":\"scatterpolar\",\"marker\":{\"colorbar\":{\"outlinewidth\":0,\"ticks\":\"\"}}}],\"histogram\":[{\"marker\":{\"pattern\":{\"fillmode\":\"overlay\",\"size\":10,\"solidity\":0.2}},\"type\":\"histogram\"}],\"scattergl\":[{\"type\":\"scattergl\",\"marker\":{\"colorbar\":{\"outlinewidth\":0,\"ticks\":\"\"}}}],\"scatter3d\":[{\"type\":\"scatter3d\",\"line\":{\"colorbar\":{\"outlinewidth\":0,\"ticks\":\"\"}},\"marker\":{\"colorbar\":{\"outlinewidth\":0,\"ticks\":\"\"}}}],\"scattermapbox\":[{\"type\":\"scattermapbox\",\"marker\":{\"colorbar\":{\"outlinewidth\":0,\"ticks\":\"\"}}}],\"scatterternary\":[{\"type\":\"scatterternary\",\"marker\":{\"colorbar\":{\"outlinewidth\":0,\"ticks\":\"\"}}}],\"scattercarpet\":[{\"type\":\"scattercarpet\",\"marker\":{\"colorbar\":{\"outlinewidth\":0,\"ticks\":\"\"}}}],\"carpet\":[{\"aaxis\":{\"endlinecolor\":\"#2a3f5f\",\"gridcolor\":\"white\",\"linecolor\":\"white\",\"minorgridcolor\":\"white\",\"startlinecolor\":\"#2a3f5f\"},\"baxis\":{\"endlinecolor\":\"#2a3f5f\",\"gridcolor\":\"white\",\"linecolor\":\"white\",\"minorgridcolor\":\"white\",\"startlinecolor\":\"#2a3f5f\"},\"type\":\"carpet\"}],\"table\":[{\"cells\":{\"fill\":{\"color\":\"#EBF0F8\"},\"line\":{\"color\":\"white\"}},\"header\":{\"fill\":{\"color\":\"#C8D4E3\"},\"line\":{\"color\":\"white\"}},\"type\":\"table\"}],\"barpolar\":[{\"marker\":{\"line\":{\"color\":\"#E5ECF6\",\"width\":0.5},\"pattern\":{\"fillmode\":\"overlay\",\"size\":10,\"solidity\":0.2}},\"type\":\"barpolar\"}],\"pie\":[{\"automargin\":true,\"type\":\"pie\"}]},\"layout\":{\"autotypenumbers\":\"strict\",\"colorway\":[\"#636efa\",\"#EF553B\",\"#00cc96\",\"#ab63fa\",\"#FFA15A\",\"#19d3f3\",\"#FF6692\",\"#B6E880\",\"#FF97FF\",\"#FECB52\"],\"font\":{\"color\":\"#2a3f5f\"},\"hovermode\":\"closest\",\"hoverlabel\":{\"align\":\"left\"},\"paper_bgcolor\":\"white\",\"plot_bgcolor\":\"#E5ECF6\",\"polar\":{\"bgcolor\":\"#E5ECF6\",\"angularaxis\":{\"gridcolor\":\"white\",\"linecolor\":\"white\",\"ticks\":\"\"},\"radialaxis\":{\"gridcolor\":\"white\",\"linecolor\":\"white\",\"ticks\":\"\"}},\"ternary\":{\"bgcolor\":\"#E5ECF6\",\"aaxis\":{\"gridcolor\":\"white\",\"linecolor\":\"white\",\"ticks\":\"\"},\"baxis\":{\"gridcolor\":\"white\",\"linecolor\":\"white\",\"ticks\":\"\"},\"caxis\":{\"gridcolor\":\"white\",\"linecolor\":\"white\",\"ticks\":\"\"}},\"coloraxis\":{\"colorbar\":{\"outlinewidth\":0,\"ticks\":\"\"}},\"colorscale\":{\"sequential\":[[0.0,\"#0d0887\"],[0.1111111111111111,\"#46039f\"],[0.2222222222222222,\"#7201a8\"],[0.3333333333333333,\"#9c179e\"],[0.4444444444444444,\"#bd3786\"],[0.5555555555555556,\"#d8576b\"],[0.6666666666666666,\"#ed7953\"],[0.7777777777777778,\"#fb9f3a\"],[0.8888888888888888,\"#fdca26\"],[1.0,\"#f0f921\"]],\"sequentialminus\":[[0.0,\"#0d0887\"],[0.1111111111111111,\"#46039f\"],[0.2222222222222222,\"#7201a8\"],[0.3333333333333333,\"#9c179e\"],[0.4444444444444444,\"#bd3786\"],[0.5555555555555556,\"#d8576b\"],[0.6666666666666666,\"#ed7953\"],[0.7777777777777778,\"#fb9f3a\"],[0.8888888888888888,\"#fdca26\"],[1.0,\"#f0f921\"]],\"diverging\":[[0,\"#8e0152\"],[0.1,\"#c51b7d\"],[0.2,\"#de77ae\"],[0.3,\"#f1b6da\"],[0.4,\"#fde0ef\"],[0.5,\"#f7f7f7\"],[0.6,\"#e6f5d0\"],[0.7,\"#b8e186\"],[0.8,\"#7fbc41\"],[0.9,\"#4d9221\"],[1,\"#276419\"]]},\"xaxis\":{\"gridcolor\":\"white\",\"linecolor\":\"white\",\"ticks\":\"\",\"title\":{\"standoff\":15},\"zerolinecolor\":\"white\",\"automargin\":true,\"zerolinewidth\":2},\"yaxis\":{\"gridcolor\":\"white\",\"linecolor\":\"white\",\"ticks\":\"\",\"title\":{\"standoff\":15},\"zerolinecolor\":\"white\",\"automargin\":true,\"zerolinewidth\":2},\"scene\":{\"xaxis\":{\"backgroundcolor\":\"#E5ECF6\",\"gridcolor\":\"white\",\"linecolor\":\"white\",\"showbackground\":true,\"ticks\":\"\",\"zerolinecolor\":\"white\",\"gridwidth\":2},\"yaxis\":{\"backgroundcolor\":\"#E5ECF6\",\"gridcolor\":\"white\",\"linecolor\":\"white\",\"showbackground\":true,\"ticks\":\"\",\"zerolinecolor\":\"white\",\"gridwidth\":2},\"zaxis\":{\"backgroundcolor\":\"#E5ECF6\",\"gridcolor\":\"white\",\"linecolor\":\"white\",\"showbackground\":true,\"ticks\":\"\",\"zerolinecolor\":\"white\",\"gridwidth\":2}},\"shapedefaults\":{\"line\":{\"color\":\"#2a3f5f\"}},\"annotationdefaults\":{\"arrowcolor\":\"#2a3f5f\",\"arrowhead\":0,\"arrowwidth\":1},\"geo\":{\"bgcolor\":\"white\",\"landcolor\":\"#E5ECF6\",\"subunitcolor\":\"white\",\"showland\":true,\"showlakes\":true,\"lakecolor\":\"white\"},\"title\":{\"x\":0.05},\"mapbox\":{\"style\":\"light\"}}},\"xaxis\":{\"anchor\":\"y\",\"domain\":[0.0,0.07438016528925619],\"title\":{\"text\":\"ICM_weight\"},\"type\":\"log\"},\"yaxis\":{\"anchor\":\"x\",\"domain\":[0.0,1.0],\"title\":{\"text\":\"Objective Value\"}},\"xaxis2\":{\"anchor\":\"y2\",\"domain\":[0.09256198347107437,0.16694214876033056],\"title\":{\"text\":\"asymmetric_alpha\"}},\"yaxis2\":{\"anchor\":\"x2\",\"domain\":[0.0,1.0],\"matches\":\"y\",\"showticklabels\":false},\"xaxis3\":{\"anchor\":\"y3\",\"domain\":[0.18512396694214875,0.25950413223140495],\"title\":{\"text\":\"feature_weighting\"},\"type\":\"category\",\"categoryorder\":\"array\",\"categoryarray\":[\"BM25\",\"TF-IDF\",\"none\"]},\"yaxis3\":{\"anchor\":\"x3\",\"domain\":[0.0,1.0],\"matches\":\"y\",\"showticklabels\":false},\"xaxis4\":{\"anchor\":\"y4\",\"domain\":[0.27768595041322314,0.3520661157024793],\"title\":{\"text\":\"normalize\"},\"type\":\"category\",\"categoryorder\":\"array\",\"categoryarray\":[true,false]},\"yaxis4\":{\"anchor\":\"x4\",\"domain\":[0.0,1.0],\"matches\":\"y\",\"showticklabels\":false},\"xaxis5\":{\"anchor\":\"y5\",\"domain\":[0.3702479338842975,0.44462809917355367],\"title\":{\"text\":\"normalize_avg_row\"},\"type\":\"category\",\"categoryorder\":\"array\",\"categoryarray\":[true,false]},\"yaxis5\":{\"anchor\":\"x5\",\"domain\":[0.0,1.0],\"matches\":\"y\",\"showticklabels\":false},\"xaxis6\":{\"anchor\":\"y6\",\"domain\":[0.46280991735537186,0.5371900826446281],\"title\":{\"text\":\"shrink\"}},\"yaxis6\":{\"anchor\":\"x6\",\"domain\":[0.0,1.0],\"matches\":\"y\",\"showticklabels\":false},\"xaxis7\":{\"anchor\":\"y7\",\"domain\":[0.5553719008264462,0.6297520661157023],\"title\":{\"text\":\"similarity\"},\"type\":\"category\",\"categoryorder\":\"array\",\"categoryarray\":[\"cosine\",\"dice\",\"jaccard\",\"asymmetric\",\"tversky\",\"euclidean\"]},\"yaxis7\":{\"anchor\":\"x7\",\"domain\":[0.0,1.0],\"matches\":\"y\",\"showticklabels\":false},\"xaxis8\":{\"anchor\":\"y8\",\"domain\":[0.6479338842975206,0.7223140495867768],\"title\":{\"text\":\"similarity_from_distance_mode\"},\"type\":\"category\",\"categoryorder\":\"array\",\"categoryarray\":[\"lin\",\"log\",\"exp\"]},\"yaxis8\":{\"anchor\":\"x8\",\"domain\":[0.0,1.0],\"matches\":\"y\",\"showticklabels\":false},\"xaxis9\":{\"anchor\":\"y9\",\"domain\":[0.740495867768595,0.8148760330578512],\"title\":{\"text\":\"topK\"}},\"yaxis9\":{\"anchor\":\"x9\",\"domain\":[0.0,1.0],\"matches\":\"y\",\"showticklabels\":false},\"xaxis10\":{\"anchor\":\"y10\",\"domain\":[0.8330578512396694,0.9074380165289255],\"title\":{\"text\":\"tversky_alpha\"}},\"yaxis10\":{\"anchor\":\"x10\",\"domain\":[0.0,1.0],\"matches\":\"y\",\"showticklabels\":false},\"xaxis11\":{\"anchor\":\"y11\",\"domain\":[0.9256198347107437,0.9999999999999999],\"title\":{\"text\":\"tversky_beta\"}},\"yaxis11\":{\"anchor\":\"x11\",\"domain\":[0.0,1.0],\"matches\":\"y\",\"showticklabels\":false},\"title\":{\"text\":\"Slice Plot\"},\"width\":3300},                        {\"responsive\": true}                    ).then(function(){\n",
       "                            \n",
       "var gd = document.getElementById('0ee7d572-467e-4970-a988-1e81dea98f35');\n",
       "var x = new MutationObserver(function (mutations, observer) {{\n",
       "        var display = window.getComputedStyle(gd).display;\n",
       "        if (!display || display === 'none') {{\n",
       "            console.log([gd, 'removed!']);\n",
       "            Plotly.purge(gd);\n",
       "            observer.disconnect();\n",
       "        }}\n",
       "}});\n",
       "\n",
       "// Listen for the removal of the full notebook cells\n",
       "var notebookContainer = gd.closest('#notebook-container');\n",
       "if (notebookContainer) {{\n",
       "    x.observe(notebookContainer, {childList: true});\n",
       "}}\n",
       "\n",
       "// Listen for the clearing of the current output cell\n",
       "var outputEl = gd.closest('.output');\n",
       "if (outputEl) {{\n",
       "    x.observe(outputEl, {childList: true});\n",
       "}}\n",
       "\n",
       "                        })                };                });            </script>        </div>"
      ]
     },
     "metadata": {},
     "output_type": "display_data"
    }
   ],
   "source": [
    "if not config['tune_parameters']:\n",
    "    optuna_study = optuna.load_study(study_name=f'hyperparameters_tuning_{config[\"model\"]}', storage=f'sqlite:///{config[\"database_path\"]}')\n",
    "    \n",
    "fig = optuna.visualization.plot_slice(optuna_study)\n",
    "fig.show()"
   ]
  },
  {
   "cell_type": "code",
   "execution_count": 17,
   "id": "fe4f8e49",
   "metadata": {
    "execution": {
     "iopub.execute_input": "2024-11-19T22:21:16.612992Z",
     "iopub.status.busy": "2024-11-19T22:21:16.611436Z",
     "iopub.status.idle": "2024-11-19T22:21:18.307512Z",
     "shell.execute_reply": "2024-11-19T22:21:18.306039Z"
    },
    "papermill": {
     "duration": 1.732468,
     "end_time": "2024-11-19T22:21:18.310414",
     "exception": false,
     "start_time": "2024-11-19T22:21:16.577946",
     "status": "completed"
    },
    "tags": []
   },
   "outputs": [
    {
     "data": {
      "text/html": [
       "<div>                            <div id=\"3ad3c486-e87d-497d-9656-f31373b41ecc\" class=\"plotly-graph-div\" style=\"height:525px; width:100%;\"></div>            <script type=\"text/javascript\">                require([\"plotly\"], function(Plotly) {                    window.PLOTLYENV=window.PLOTLYENV || {};                                    if (document.getElementById(\"3ad3c486-e87d-497d-9656-f31373b41ecc\")) {                    Plotly.newPlot(                        \"3ad3c486-e87d-497d-9656-f31373b41ecc\",                        [{\"cliponaxis\":false,\"hovertemplate\":[\"ICM_weight (FloatDistribution): 0.08506813932526296\\u003cextra\\u003e\\u003c\\u002fextra\\u003e\",\"feature_weighting (CategoricalDistribution): 0.09640315733667769\\u003cextra\\u003e\\u003c\\u002fextra\\u003e\",\"shrink (IntDistribution): 0.10916809769313329\\u003cextra\\u003e\\u003c\\u002fextra\\u003e\",\"topK (IntDistribution): 0.12840578000978167\\u003cextra\\u003e\\u003c\\u002fextra\\u003e\",\"similarity (CategoricalDistribution): 0.5809548256351446\\u003cextra\\u003e\\u003c\\u002fextra\\u003e\"],\"name\":\"Objective Value\",\"orientation\":\"h\",\"text\":[\"0.09\",\"0.10\",\"0.11\",\"0.13\",\"0.58\"],\"textposition\":\"outside\",\"x\":[0.08506813932526296,0.09640315733667769,0.10916809769313329,0.12840578000978167,0.5809548256351446],\"y\":[\"ICM_weight\",\"feature_weighting\",\"shrink\",\"topK\",\"similarity\"],\"type\":\"bar\"}],                        {\"title\":{\"text\":\"Hyperparameter Importances\"},\"xaxis\":{\"title\":{\"text\":\"Hyperparameter Importance\"}},\"yaxis\":{\"title\":{\"text\":\"Hyperparameter\"}},\"template\":{\"data\":{\"histogram2dcontour\":[{\"type\":\"histogram2dcontour\",\"colorbar\":{\"outlinewidth\":0,\"ticks\":\"\"},\"colorscale\":[[0.0,\"#0d0887\"],[0.1111111111111111,\"#46039f\"],[0.2222222222222222,\"#7201a8\"],[0.3333333333333333,\"#9c179e\"],[0.4444444444444444,\"#bd3786\"],[0.5555555555555556,\"#d8576b\"],[0.6666666666666666,\"#ed7953\"],[0.7777777777777778,\"#fb9f3a\"],[0.8888888888888888,\"#fdca26\"],[1.0,\"#f0f921\"]]}],\"choropleth\":[{\"type\":\"choropleth\",\"colorbar\":{\"outlinewidth\":0,\"ticks\":\"\"}}],\"histogram2d\":[{\"type\":\"histogram2d\",\"colorbar\":{\"outlinewidth\":0,\"ticks\":\"\"},\"colorscale\":[[0.0,\"#0d0887\"],[0.1111111111111111,\"#46039f\"],[0.2222222222222222,\"#7201a8\"],[0.3333333333333333,\"#9c179e\"],[0.4444444444444444,\"#bd3786\"],[0.5555555555555556,\"#d8576b\"],[0.6666666666666666,\"#ed7953\"],[0.7777777777777778,\"#fb9f3a\"],[0.8888888888888888,\"#fdca26\"],[1.0,\"#f0f921\"]]}],\"heatmap\":[{\"type\":\"heatmap\",\"colorbar\":{\"outlinewidth\":0,\"ticks\":\"\"},\"colorscale\":[[0.0,\"#0d0887\"],[0.1111111111111111,\"#46039f\"],[0.2222222222222222,\"#7201a8\"],[0.3333333333333333,\"#9c179e\"],[0.4444444444444444,\"#bd3786\"],[0.5555555555555556,\"#d8576b\"],[0.6666666666666666,\"#ed7953\"],[0.7777777777777778,\"#fb9f3a\"],[0.8888888888888888,\"#fdca26\"],[1.0,\"#f0f921\"]]}],\"heatmapgl\":[{\"type\":\"heatmapgl\",\"colorbar\":{\"outlinewidth\":0,\"ticks\":\"\"},\"colorscale\":[[0.0,\"#0d0887\"],[0.1111111111111111,\"#46039f\"],[0.2222222222222222,\"#7201a8\"],[0.3333333333333333,\"#9c179e\"],[0.4444444444444444,\"#bd3786\"],[0.5555555555555556,\"#d8576b\"],[0.6666666666666666,\"#ed7953\"],[0.7777777777777778,\"#fb9f3a\"],[0.8888888888888888,\"#fdca26\"],[1.0,\"#f0f921\"]]}],\"contourcarpet\":[{\"type\":\"contourcarpet\",\"colorbar\":{\"outlinewidth\":0,\"ticks\":\"\"}}],\"contour\":[{\"type\":\"contour\",\"colorbar\":{\"outlinewidth\":0,\"ticks\":\"\"},\"colorscale\":[[0.0,\"#0d0887\"],[0.1111111111111111,\"#46039f\"],[0.2222222222222222,\"#7201a8\"],[0.3333333333333333,\"#9c179e\"],[0.4444444444444444,\"#bd3786\"],[0.5555555555555556,\"#d8576b\"],[0.6666666666666666,\"#ed7953\"],[0.7777777777777778,\"#fb9f3a\"],[0.8888888888888888,\"#fdca26\"],[1.0,\"#f0f921\"]]}],\"surface\":[{\"type\":\"surface\",\"colorbar\":{\"outlinewidth\":0,\"ticks\":\"\"},\"colorscale\":[[0.0,\"#0d0887\"],[0.1111111111111111,\"#46039f\"],[0.2222222222222222,\"#7201a8\"],[0.3333333333333333,\"#9c179e\"],[0.4444444444444444,\"#bd3786\"],[0.5555555555555556,\"#d8576b\"],[0.6666666666666666,\"#ed7953\"],[0.7777777777777778,\"#fb9f3a\"],[0.8888888888888888,\"#fdca26\"],[1.0,\"#f0f921\"]]}],\"mesh3d\":[{\"type\":\"mesh3d\",\"colorbar\":{\"outlinewidth\":0,\"ticks\":\"\"}}],\"scatter\":[{\"fillpattern\":{\"fillmode\":\"overlay\",\"size\":10,\"solidity\":0.2},\"type\":\"scatter\"}],\"parcoords\":[{\"type\":\"parcoords\",\"line\":{\"colorbar\":{\"outlinewidth\":0,\"ticks\":\"\"}}}],\"scatterpolargl\":[{\"type\":\"scatterpolargl\",\"marker\":{\"colorbar\":{\"outlinewidth\":0,\"ticks\":\"\"}}}],\"bar\":[{\"error_x\":{\"color\":\"#2a3f5f\"},\"error_y\":{\"color\":\"#2a3f5f\"},\"marker\":{\"line\":{\"color\":\"#E5ECF6\",\"width\":0.5},\"pattern\":{\"fillmode\":\"overlay\",\"size\":10,\"solidity\":0.2}},\"type\":\"bar\"}],\"scattergeo\":[{\"type\":\"scattergeo\",\"marker\":{\"colorbar\":{\"outlinewidth\":0,\"ticks\":\"\"}}}],\"scatterpolar\":[{\"type\":\"scatterpolar\",\"marker\":{\"colorbar\":{\"outlinewidth\":0,\"ticks\":\"\"}}}],\"histogram\":[{\"marker\":{\"pattern\":{\"fillmode\":\"overlay\",\"size\":10,\"solidity\":0.2}},\"type\":\"histogram\"}],\"scattergl\":[{\"type\":\"scattergl\",\"marker\":{\"colorbar\":{\"outlinewidth\":0,\"ticks\":\"\"}}}],\"scatter3d\":[{\"type\":\"scatter3d\",\"line\":{\"colorbar\":{\"outlinewidth\":0,\"ticks\":\"\"}},\"marker\":{\"colorbar\":{\"outlinewidth\":0,\"ticks\":\"\"}}}],\"scattermapbox\":[{\"type\":\"scattermapbox\",\"marker\":{\"colorbar\":{\"outlinewidth\":0,\"ticks\":\"\"}}}],\"scatterternary\":[{\"type\":\"scatterternary\",\"marker\":{\"colorbar\":{\"outlinewidth\":0,\"ticks\":\"\"}}}],\"scattercarpet\":[{\"type\":\"scattercarpet\",\"marker\":{\"colorbar\":{\"outlinewidth\":0,\"ticks\":\"\"}}}],\"carpet\":[{\"aaxis\":{\"endlinecolor\":\"#2a3f5f\",\"gridcolor\":\"white\",\"linecolor\":\"white\",\"minorgridcolor\":\"white\",\"startlinecolor\":\"#2a3f5f\"},\"baxis\":{\"endlinecolor\":\"#2a3f5f\",\"gridcolor\":\"white\",\"linecolor\":\"white\",\"minorgridcolor\":\"white\",\"startlinecolor\":\"#2a3f5f\"},\"type\":\"carpet\"}],\"table\":[{\"cells\":{\"fill\":{\"color\":\"#EBF0F8\"},\"line\":{\"color\":\"white\"}},\"header\":{\"fill\":{\"color\":\"#C8D4E3\"},\"line\":{\"color\":\"white\"}},\"type\":\"table\"}],\"barpolar\":[{\"marker\":{\"line\":{\"color\":\"#E5ECF6\",\"width\":0.5},\"pattern\":{\"fillmode\":\"overlay\",\"size\":10,\"solidity\":0.2}},\"type\":\"barpolar\"}],\"pie\":[{\"automargin\":true,\"type\":\"pie\"}]},\"layout\":{\"autotypenumbers\":\"strict\",\"colorway\":[\"#636efa\",\"#EF553B\",\"#00cc96\",\"#ab63fa\",\"#FFA15A\",\"#19d3f3\",\"#FF6692\",\"#B6E880\",\"#FF97FF\",\"#FECB52\"],\"font\":{\"color\":\"#2a3f5f\"},\"hovermode\":\"closest\",\"hoverlabel\":{\"align\":\"left\"},\"paper_bgcolor\":\"white\",\"plot_bgcolor\":\"#E5ECF6\",\"polar\":{\"bgcolor\":\"#E5ECF6\",\"angularaxis\":{\"gridcolor\":\"white\",\"linecolor\":\"white\",\"ticks\":\"\"},\"radialaxis\":{\"gridcolor\":\"white\",\"linecolor\":\"white\",\"ticks\":\"\"}},\"ternary\":{\"bgcolor\":\"#E5ECF6\",\"aaxis\":{\"gridcolor\":\"white\",\"linecolor\":\"white\",\"ticks\":\"\"},\"baxis\":{\"gridcolor\":\"white\",\"linecolor\":\"white\",\"ticks\":\"\"},\"caxis\":{\"gridcolor\":\"white\",\"linecolor\":\"white\",\"ticks\":\"\"}},\"coloraxis\":{\"colorbar\":{\"outlinewidth\":0,\"ticks\":\"\"}},\"colorscale\":{\"sequential\":[[0.0,\"#0d0887\"],[0.1111111111111111,\"#46039f\"],[0.2222222222222222,\"#7201a8\"],[0.3333333333333333,\"#9c179e\"],[0.4444444444444444,\"#bd3786\"],[0.5555555555555556,\"#d8576b\"],[0.6666666666666666,\"#ed7953\"],[0.7777777777777778,\"#fb9f3a\"],[0.8888888888888888,\"#fdca26\"],[1.0,\"#f0f921\"]],\"sequentialminus\":[[0.0,\"#0d0887\"],[0.1111111111111111,\"#46039f\"],[0.2222222222222222,\"#7201a8\"],[0.3333333333333333,\"#9c179e\"],[0.4444444444444444,\"#bd3786\"],[0.5555555555555556,\"#d8576b\"],[0.6666666666666666,\"#ed7953\"],[0.7777777777777778,\"#fb9f3a\"],[0.8888888888888888,\"#fdca26\"],[1.0,\"#f0f921\"]],\"diverging\":[[0,\"#8e0152\"],[0.1,\"#c51b7d\"],[0.2,\"#de77ae\"],[0.3,\"#f1b6da\"],[0.4,\"#fde0ef\"],[0.5,\"#f7f7f7\"],[0.6,\"#e6f5d0\"],[0.7,\"#b8e186\"],[0.8,\"#7fbc41\"],[0.9,\"#4d9221\"],[1,\"#276419\"]]},\"xaxis\":{\"gridcolor\":\"white\",\"linecolor\":\"white\",\"ticks\":\"\",\"title\":{\"standoff\":15},\"zerolinecolor\":\"white\",\"automargin\":true,\"zerolinewidth\":2},\"yaxis\":{\"gridcolor\":\"white\",\"linecolor\":\"white\",\"ticks\":\"\",\"title\":{\"standoff\":15},\"zerolinecolor\":\"white\",\"automargin\":true,\"zerolinewidth\":2},\"scene\":{\"xaxis\":{\"backgroundcolor\":\"#E5ECF6\",\"gridcolor\":\"white\",\"linecolor\":\"white\",\"showbackground\":true,\"ticks\":\"\",\"zerolinecolor\":\"white\",\"gridwidth\":2},\"yaxis\":{\"backgroundcolor\":\"#E5ECF6\",\"gridcolor\":\"white\",\"linecolor\":\"white\",\"showbackground\":true,\"ticks\":\"\",\"zerolinecolor\":\"white\",\"gridwidth\":2},\"zaxis\":{\"backgroundcolor\":\"#E5ECF6\",\"gridcolor\":\"white\",\"linecolor\":\"white\",\"showbackground\":true,\"ticks\":\"\",\"zerolinecolor\":\"white\",\"gridwidth\":2}},\"shapedefaults\":{\"line\":{\"color\":\"#2a3f5f\"}},\"annotationdefaults\":{\"arrowcolor\":\"#2a3f5f\",\"arrowhead\":0,\"arrowwidth\":1},\"geo\":{\"bgcolor\":\"white\",\"landcolor\":\"#E5ECF6\",\"subunitcolor\":\"white\",\"showland\":true,\"showlakes\":true,\"lakecolor\":\"white\"},\"title\":{\"x\":0.05},\"mapbox\":{\"style\":\"light\"}}}},                        {\"responsive\": true}                    ).then(function(){\n",
       "                            \n",
       "var gd = document.getElementById('3ad3c486-e87d-497d-9656-f31373b41ecc');\n",
       "var x = new MutationObserver(function (mutations, observer) {{\n",
       "        var display = window.getComputedStyle(gd).display;\n",
       "        if (!display || display === 'none') {{\n",
       "            console.log([gd, 'removed!']);\n",
       "            Plotly.purge(gd);\n",
       "            observer.disconnect();\n",
       "        }}\n",
       "}});\n",
       "\n",
       "// Listen for the removal of the full notebook cells\n",
       "var notebookContainer = gd.closest('#notebook-container');\n",
       "if (notebookContainer) {{\n",
       "    x.observe(notebookContainer, {childList: true});\n",
       "}}\n",
       "\n",
       "// Listen for the clearing of the current output cell\n",
       "var outputEl = gd.closest('.output');\n",
       "if (outputEl) {{\n",
       "    x.observe(outputEl, {childList: true});\n",
       "}}\n",
       "\n",
       "                        })                };                });            </script>        </div>"
      ]
     },
     "metadata": {},
     "output_type": "display_data"
    }
   ],
   "source": [
    "if not config['tune_parameters']:\n",
    "    optuna_study = optuna.load_study(study_name=f'hyperparameters_tuning_{config[\"model\"]}', storage=f'sqlite:///{config[\"database_path\"]}')\n",
    "    \n",
    "fig = optuna.visualization.plot_param_importances(optuna_study)\n",
    "fig.show()"
   ]
  },
  {
   "cell_type": "markdown",
   "id": "6d18f28f",
   "metadata": {
    "papermill": {
     "duration": 0.034253,
     "end_time": "2024-11-19T22:21:18.377928",
     "exception": false,
     "start_time": "2024-11-19T22:21:18.343675",
     "status": "completed"
    },
    "tags": []
   },
   "source": [
    "## Let's train the recommender with best parameter values"
   ]
  },
  {
   "cell_type": "code",
   "execution_count": null,
   "id": "ecd4a557",
   "metadata": {
    "execution": {
     "iopub.execute_input": "2024-11-19T22:21:18.452030Z",
     "iopub.status.busy": "2024-11-19T22:21:18.451570Z",
     "iopub.status.idle": "2024-11-19T22:22:19.888200Z",
     "shell.execute_reply": "2024-11-19T22:22:19.887042Z"
    },
    "papermill": {
     "duration": 61.497344,
     "end_time": "2024-11-19T22:22:19.915720",
     "exception": false,
     "start_time": "2024-11-19T22:21:18.418376",
     "status": "completed"
    },
    "tags": []
   },
   "outputs": [
    {
     "name": "stdout",
     "output_type": "stream",
     "text": [
      "Similarity column 38121 (100.0%), 632.02 column/sec. Elapsed time 1.01 min\n"
     ]
    }
   ],
   "source": [
    "if config['tune_best_params']:\n",
    "\n",
    "    if config['tune_parameters']:\n",
    "        best_params = optuna_study.best_trial.params\n",
    "    else: \n",
    "        with open(f'{K_PATH + '/' + GH_PATH}/{config[\"model\"]}Recommender/best_params_{config[\"model\"]}.json', 'r') as best_params_json:\n",
    "            best_params = json.load(best_params_json)\n",
    "\n",
    "    recommender_instance = ItemKNN_CFCBF_Hybrid_Recommender(URM_train + URM_validation, ICM_all)\n",
    "    recommender_instance.fit(**best_params)"
   ]
  },
  {
   "cell_type": "markdown",
   "id": "24ccad82",
   "metadata": {
    "papermill": {
     "duration": 0.033421,
     "end_time": "2024-11-19T22:22:19.982860",
     "exception": false,
     "start_time": "2024-11-19T22:22:19.949439",
     "status": "completed"
    },
    "tags": []
   },
   "source": [
    "# Testing"
   ]
  },
  {
   "cell_type": "markdown",
   "id": "7c15bd9f",
   "metadata": {
    "papermill": {
     "duration": 0.033272,
     "end_time": "2024-11-19T22:22:20.049414",
     "exception": false,
     "start_time": "2024-11-19T22:22:20.016142",
     "status": "completed"
    },
    "tags": []
   },
   "source": [
    "Create the recommendations for the submission. "
   ]
  },
  {
   "cell_type": "code",
   "execution_count": null,
   "id": "79449614",
   "metadata": {
    "execution": {
     "iopub.execute_input": "2024-11-19T22:22:20.194349Z",
     "iopub.status.busy": "2024-11-19T22:22:20.193848Z",
     "iopub.status.idle": "2024-11-19T22:22:39.362983Z",
     "shell.execute_reply": "2024-11-19T22:22:39.361392Z"
    },
    "papermill": {
     "duration": 19.204253,
     "end_time": "2024-11-19T22:22:39.365760",
     "exception": false,
     "start_time": "2024-11-19T22:22:20.161507",
     "status": "completed"
    },
    "tags": []
   },
   "outputs": [
    {
     "name": "stdout",
     "output_type": "stream",
     "text": [
      "Submission file saved as /kaggle/working/submission_ItemKNN_CFCBF_Hybrid.csv\n"
     ]
    }
   ],
   "source": [
    "if config['tune_best_params']:\n",
    "\n",
    "    data_target_users_test = pd.read_csv('/kaggle/input/recommender-system-2024-challenge-polimi/data_target_users_test.csv')\n",
    "    create_submission(data_target_users_test, recommender_instance, f'/kaggle/working/submission_{config[\"model\"]}.csv')"
   ]
  },
  {
   "cell_type": "markdown",
   "id": "4522958b",
   "metadata": {
    "execution": {
     "iopub.execute_input": "2024-11-14T00:04:16.877791Z",
     "iopub.status.busy": "2024-11-14T00:04:16.877275Z",
     "iopub.status.idle": "2024-11-14T00:04:16.883170Z",
     "shell.execute_reply": "2024-11-14T00:04:16.881889Z",
     "shell.execute_reply.started": "2024-11-14T00:04:16.877743Z"
    },
    "papermill": {
     "duration": 0.031522,
     "end_time": "2024-11-19T22:22:39.429467",
     "exception": false,
     "start_time": "2024-11-19T22:22:39.397945",
     "status": "completed"
    },
    "tags": []
   },
   "source": [
    "# Save Version on GitHub "
   ]
  },
  {
   "cell_type": "markdown",
   "id": "fba88d06",
   "metadata": {
    "papermill": {
     "duration": 0.031351,
     "end_time": "2024-11-19T22:22:39.492643",
     "exception": false,
     "start_time": "2024-11-19T22:22:39.461292",
     "status": "completed"
    },
    "tags": []
   },
   "source": [
    "Write or import a json file where best hyperparameters are saved. "
   ]
  },
  {
   "cell_type": "code",
   "execution_count": null,
   "id": "b38e382a",
   "metadata": {
    "execution": {
     "iopub.execute_input": "2024-11-19T22:22:39.558069Z",
     "iopub.status.busy": "2024-11-19T22:22:39.557608Z",
     "iopub.status.idle": "2024-11-19T22:22:40.541432Z",
     "shell.execute_reply": "2024-11-19T22:22:40.539917Z"
    },
    "papermill": {
     "duration": 1.019629,
     "end_time": "2024-11-19T22:22:40.543951",
     "exception": false,
     "start_time": "2024-11-19T22:22:39.524322",
     "status": "completed"
    },
    "tags": []
   },
   "outputs": [
    {
     "name": "stdout",
     "output_type": "stream",
     "text": [
      "File 'TrainedModels/ItemKNN_CFCBF_HybridRecommender/best_params_ItemKNN_CFCBF_Hybrid.json' created successfully.\n"
     ]
    }
   ],
   "source": [
    "if config['tune_parameters']:\n",
    "    with open(f'/kaggle/working/best_params_{config[\"model\"]}.json', 'w') as params_file:\n",
    "        json.dump(optuna_study.best_params, params_file)\n",
    "        \n",
    "    if config['save_github']:\n",
    "        upload_file(\n",
    "            f'/kaggle/working/best_params_{config[\"model\"]}.json', \n",
    "            f'{GH_PATH}/{config[\"model\"]}Recommender/best_params_{config[\"model\"]}.json', \n",
    "            f'{config[\"model\"]} tuning results (from kaggle notebook)',\n",
    "            repo\n",
    "        )\n",
    "elif config['copy_prev_best_params']:\n",
    "    shutil.copyfile(\n",
    "        f'{K_PATH}/{GH_PATH}/{config[\"model\"]}Recommender/'\\\n",
    "        f'best_params_{config[\"model\"]}.json', \n",
    "        f'/kaggle/working/best_params_{config[\"model\"]}.json'\n",
    "    )"
   ]
  },
  {
   "cell_type": "markdown",
   "id": "be1ae217",
   "metadata": {
    "execution": {
     "iopub.execute_input": "2024-11-14T00:41:34.294243Z",
     "iopub.status.busy": "2024-11-14T00:41:34.293739Z",
     "iopub.status.idle": "2024-11-14T00:41:34.301478Z",
     "shell.execute_reply": "2024-11-14T00:41:34.299869Z",
     "shell.execute_reply.started": "2024-11-14T00:41:34.294186Z"
    },
    "papermill": {
     "duration": 0.03209,
     "end_time": "2024-11-19T22:22:40.608347",
     "exception": false,
     "start_time": "2024-11-19T22:22:40.576257",
     "status": "completed"
    },
    "tags": []
   },
   "source": [
    "Save the history of the tuned model."
   ]
  },
  {
   "cell_type": "code",
   "execution_count": null,
   "id": "65557e9a",
   "metadata": {
    "execution": {
     "iopub.execute_input": "2024-11-19T22:22:40.674652Z",
     "iopub.status.busy": "2024-11-19T22:22:40.674220Z",
     "iopub.status.idle": "2024-11-19T22:22:42.522346Z",
     "shell.execute_reply": "2024-11-19T22:22:42.520778Z"
    },
    "papermill": {
     "duration": 1.884412,
     "end_time": "2024-11-19T22:22:42.524876",
     "exception": false,
     "start_time": "2024-11-19T22:22:40.640464",
     "status": "completed"
    },
    "tags": []
   },
   "outputs": [
    {
     "name": "stdout",
     "output_type": "stream",
     "text": [
      "File 'TrainedModels/ItemKNN_CFCBF_HybridRecommender/history_ItemKNN_CFCBF_Hybrid.db' created successfully.\n"
     ]
    }
   ],
   "source": [
    "if config['save_github'] and config['tune_parameters']:\n",
    "    upload_file(\n",
    "        config['database_path'], \n",
    "        f'{GH_PATH}/{config[\"model\"]}Recommender/history_{config[\"model\"]}.db',\n",
    "        f'Tuning {config[\"model\"]} db updated results (from kaggle notebook)',\n",
    "        repo\n",
    "    )"
   ]
  },
  {
   "cell_type": "markdown",
   "id": "ab58e3a0",
   "metadata": {
    "papermill": {
     "duration": 0.030255,
     "end_time": "2024-11-19T22:22:42.586237",
     "exception": false,
     "start_time": "2024-11-19T22:22:42.555982",
     "status": "completed"
    },
    "tags": []
   },
   "source": [
    "Save the best trained model and its submission."
   ]
  },
  {
   "cell_type": "code",
   "execution_count": null,
   "id": "9477e7b3",
   "metadata": {
    "execution": {
     "iopub.execute_input": "2024-11-19T22:22:42.651479Z",
     "iopub.status.busy": "2024-11-19T22:22:42.650012Z",
     "iopub.status.idle": "2024-11-19T22:22:46.590950Z",
     "shell.execute_reply": "2024-11-19T22:22:46.589217Z"
    },
    "papermill": {
     "duration": 3.976436,
     "end_time": "2024-11-19T22:22:46.593722",
     "exception": false,
     "start_time": "2024-11-19T22:22:42.617286",
     "status": "completed"
    },
    "tags": []
   },
   "outputs": [
    {
     "name": "stdout",
     "output_type": "stream",
     "text": [
      "File 'TrainedModels/ItemKNN_CFCBF_HybridRecommender/Submission/submission_ItemKNN_CFCBF_Hybrid.csv' created successfully.\n",
      "ItemKNN_CFCBF_HybridRecommender: Saving model in file '/kaggle/working/best_ItemKNN_CFCBF_Hybrid_tuned'\n",
      "ItemKNN_CFCBF_HybridRecommender: Saving complete\n",
      "File 'TrainedModels/ItemKNN_CFCBF_HybridRecommender/best_ItemKNN_CFCBF_Hybrid_tuned.zip' created successfully.\n"
     ]
    }
   ],
   "source": [
    "if config['save_github'] and config['tune_best_params']: \n",
    "    upload_file(\n",
    "                f'/kaggle/working/submission_{config[\"model\"]}.csv', \n",
    "                f'{GH_PATH}/{config[\"model\"]}Recommender/Submission/submission_{config[\"model\"]}.csv', \n",
    "                f'New {config[\"model\"]} submission (from kaggle notebook)',\n",
    "                repo\n",
    "            )"
   ]
  }
 ],
 "metadata": {
  "kaggle": {
   "accelerator": "none",
   "dataSources": [
    {
     "databundleVersionId": 9982103,
     "sourceId": 87439,
     "sourceType": "competition"
    }
   ],
   "dockerImageVersionId": 30786,
   "isGpuEnabled": false,
   "isInternetEnabled": true,
   "language": "python",
   "sourceType": "notebook"
  },
  "kernelspec": {
   "display_name": "Python 3",
   "language": "python",
   "name": "python3"
  },
  "language_info": {
   "codemirror_mode": {
    "name": "ipython",
    "version": 3
   },
   "file_extension": ".py",
   "mimetype": "text/x-python",
   "name": "python",
   "nbconvert_exporter": "python",
   "pygments_lexer": "ipython3",
   "version": "3.10.14"
  },
  "papermill": {
   "default_parameters": {},
   "duration": 12837.93532,
   "end_time": "2024-11-19T22:22:48.153957",
   "environment_variables": {},
   "exception": null,
   "input_path": "__notebook__.ipynb",
   "output_path": "__notebook__.ipynb",
   "parameters": {},
   "start_time": "2024-11-19T18:48:50.218637",
   "version": "2.6.0"
  }
 },
 "nbformat": 4,
 "nbformat_minor": 5
}
