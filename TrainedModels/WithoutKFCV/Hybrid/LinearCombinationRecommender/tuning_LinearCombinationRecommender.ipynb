{
 "cells": [
  {
   "cell_type": "markdown",
   "id": "ad0de05c",
   "metadata": {
    "papermill": {
     "duration": 0.007854,
     "end_time": "2024-11-20T16:41:01.847127",
     "exception": false,
     "start_time": "2024-11-20T16:41:01.839273",
     "status": "completed"
    },
    "tags": []
   },
   "source": [
    "# Set connection with GitHub"
   ]
  },
  {
   "cell_type": "code",
   "execution_count": 1,
   "id": "3f5d36f0",
   "metadata": {
    "execution": {
     "iopub.execute_input": "2024-11-20T16:41:01.862987Z",
     "iopub.status.busy": "2024-11-20T16:41:01.862583Z",
     "iopub.status.idle": "2024-11-20T16:41:01.868654Z",
     "shell.execute_reply": "2024-11-20T16:41:01.867413Z"
    },
    "papermill": {
     "duration": 0.016083,
     "end_time": "2024-11-20T16:41:01.870806",
     "exception": false,
     "start_time": "2024-11-20T16:41:01.854723",
     "status": "completed"
    },
    "tags": []
   },
   "outputs": [],
   "source": [
    "# ! cd /kaggle/working && rm -rf RECsys_Challenge2024"
   ]
  },
  {
   "cell_type": "code",
   "execution_count": 2,
   "id": "f9f26b5c",
   "metadata": {
    "_cell_guid": "b1076dfc-b9ad-4769-8c92-a6c4dae69d19",
    "_uuid": "8f2839f25d086af736a60e9eeb907d3b93b6e0e5",
    "execution": {
     "iopub.execute_input": "2024-11-20T16:41:01.887176Z",
     "iopub.status.busy": "2024-11-20T16:41:01.886793Z",
     "iopub.status.idle": "2024-11-20T16:41:09.893138Z",
     "shell.execute_reply": "2024-11-20T16:41:09.891859Z"
    },
    "papermill": {
     "duration": 8.016837,
     "end_time": "2024-11-20T16:41:09.895746",
     "exception": false,
     "start_time": "2024-11-20T16:41:01.878909",
     "status": "completed"
    },
    "tags": []
   },
   "outputs": [
    {
     "name": "stdout",
     "output_type": "stream",
     "text": [
      "Cloning into 'RECsys_Challenge2024'...\r\n",
      "remote: Enumerating objects: 2214, done.\u001b[K\r\n",
      "remote: Counting objects: 100% (596/596), done.\u001b[K\r\n",
      "remote: Compressing objects: 100% (218/218), done.\u001b[K\r\n",
      "remote: Total 2214 (delta 381), reused 584 (delta 370), pack-reused 1618 (from 1)\u001b[K\r\n",
      "Receiving objects: 100% (2214/2214), 147.58 MiB | 34.29 MiB/s, done.\r\n",
      "Resolving deltas: 100% (1326/1326), done.\r\n",
      "Updating files: 100% (246/246), done.\r\n"
     ]
    }
   ],
   "source": [
    "from kaggle_secrets import UserSecretsClient\n",
    "\n",
    "token = UserSecretsClient().get_secret(\"Token\")\n",
    "\n",
    "! git clone https://{token}@github.com/madratak/RECsys_Challenge2024.git"
   ]
  },
  {
   "cell_type": "code",
   "execution_count": 3,
   "id": "cb566a27",
   "metadata": {
    "execution": {
     "iopub.execute_input": "2024-11-20T16:41:09.919606Z",
     "iopub.status.busy": "2024-11-20T16:41:09.918758Z",
     "iopub.status.idle": "2024-11-20T16:41:21.953441Z",
     "shell.execute_reply": "2024-11-20T16:41:21.951962Z"
    },
    "papermill": {
     "duration": 12.049229,
     "end_time": "2024-11-20T16:41:21.956035",
     "exception": false,
     "start_time": "2024-11-20T16:41:09.906806",
     "status": "completed"
    },
    "tags": []
   },
   "outputs": [
    {
     "name": "stdout",
     "output_type": "stream",
     "text": [
      "Collecting PyGithub\r\n",
      "  Downloading PyGithub-2.5.0-py3-none-any.whl.metadata (3.9 kB)\r\n",
      "Requirement already satisfied: requests in /opt/conda/lib/python3.10/site-packages (2.32.3)\r\n",
      "Collecting pynacl>=1.4.0 (from PyGithub)\r\n",
      "  Downloading PyNaCl-1.5.0-cp36-abi3-manylinux_2_17_x86_64.manylinux2014_x86_64.manylinux_2_24_x86_64.whl.metadata (8.6 kB)\r\n",
      "Requirement already satisfied: pyjwt>=2.4.0 in /opt/conda/lib/python3.10/site-packages (from pyjwt[crypto]>=2.4.0->PyGithub) (2.8.0)\r\n",
      "Requirement already satisfied: typing-extensions>=4.0.0 in /opt/conda/lib/python3.10/site-packages (from PyGithub) (4.12.2)\r\n",
      "Requirement already satisfied: urllib3>=1.26.0 in /opt/conda/lib/python3.10/site-packages (from PyGithub) (1.26.18)\r\n",
      "Requirement already satisfied: Deprecated in /opt/conda/lib/python3.10/site-packages (from PyGithub) (1.2.14)\r\n",
      "Requirement already satisfied: charset-normalizer<4,>=2 in /opt/conda/lib/python3.10/site-packages (from requests) (3.3.2)\r\n",
      "Requirement already satisfied: idna<4,>=2.5 in /opt/conda/lib/python3.10/site-packages (from requests) (3.7)\r\n",
      "Requirement already satisfied: certifi>=2017.4.17 in /opt/conda/lib/python3.10/site-packages (from requests) (2024.8.30)\r\n",
      "Requirement already satisfied: cryptography>=3.4.0 in /opt/conda/lib/python3.10/site-packages (from pyjwt[crypto]>=2.4.0->PyGithub) (42.0.8)\r\n",
      "Requirement already satisfied: cffi>=1.4.1 in /opt/conda/lib/python3.10/site-packages (from pynacl>=1.4.0->PyGithub) (1.16.0)\r\n",
      "Requirement already satisfied: wrapt<2,>=1.10 in /opt/conda/lib/python3.10/site-packages (from Deprecated->PyGithub) (1.16.0)\r\n",
      "Requirement already satisfied: pycparser in /opt/conda/lib/python3.10/site-packages (from cffi>=1.4.1->pynacl>=1.4.0->PyGithub) (2.22)\r\n",
      "Downloading PyGithub-2.5.0-py3-none-any.whl (375 kB)\r\n",
      "\u001b[2K   \u001b[90m━━━━━━━━━━━━━━━━━━━━━━━━━━━━━━━━━━━━━━━━\u001b[0m \u001b[32m375.9/375.9 kB\u001b[0m \u001b[31m6.8 MB/s\u001b[0m eta \u001b[36m0:00:00\u001b[0m\r\n",
      "\u001b[?25hDownloading PyNaCl-1.5.0-cp36-abi3-manylinux_2_17_x86_64.manylinux2014_x86_64.manylinux_2_24_x86_64.whl (856 kB)\r\n",
      "\u001b[2K   \u001b[90m━━━━━━━━━━━━━━━━━━━━━━━━━━━━━━━━━━━━━━━━\u001b[0m \u001b[32m856.7/856.7 kB\u001b[0m \u001b[31m27.1 MB/s\u001b[0m eta \u001b[36m0:00:00\u001b[0m\r\n",
      "\u001b[?25hInstalling collected packages: pynacl, PyGithub\r\n",
      "Successfully installed PyGithub-2.5.0 pynacl-1.5.0\r\n"
     ]
    }
   ],
   "source": [
    "! pip install PyGithub requests"
   ]
  },
  {
   "cell_type": "code",
   "execution_count": null,
   "id": "34582805",
   "metadata": {
    "_kg_hide-input": false,
    "execution": {
     "iopub.execute_input": "2024-11-20T16:41:21.978007Z",
     "iopub.status.busy": "2024-11-20T16:41:21.977547Z",
     "iopub.status.idle": "2024-11-20T16:43:49.256761Z",
     "shell.execute_reply": "2024-11-20T16:43:49.255707Z"
    },
    "papermill": {
     "duration": 147.293112,
     "end_time": "2024-11-20T16:43:49.259281",
     "exception": false,
     "start_time": "2024-11-20T16:41:21.966169",
     "status": "completed"
    },
    "tags": []
   },
   "outputs": [
    {
     "name": "stdout",
     "output_type": "stream",
     "text": [
      "run_compile_all_cython: Found 11 Cython files in 5 folders...\r\n",
      "run_compile_all_cython: All files will be compiled using your current python environment: '/opt/conda/bin/python'\r\n",
      "Compiling [1/11]: MatrixFactorization_Cython_Epoch.pyx... \r\n",
      "In file included from \u001b[01m\u001b[K/opt/conda/lib/python3.10/site-packages/numpy/core/include/numpy/ndarraytypes.h:1929\u001b[m\u001b[K,\r\n",
      "                 from \u001b[01m\u001b[K/opt/conda/lib/python3.10/site-packages/numpy/core/include/numpy/ndarrayobject.h:12\u001b[m\u001b[K,\r\n",
      "                 from \u001b[01m\u001b[K/opt/conda/lib/python3.10/site-packages/numpy/core/include/numpy/arrayobject.h:5\u001b[m\u001b[K,\r\n",
      "                 from \u001b[01m\u001b[KMatrixFactorization_Cython_Epoch.c:1252\u001b[m\u001b[K:\r\n",
      "\u001b[01m\u001b[K/opt/conda/lib/python3.10/site-packages/numpy/core/include/numpy/npy_1_7_deprecated_api.h:17:2:\u001b[m\u001b[K \u001b[01;35m\u001b[Kwarning: \u001b[m\u001b[K#warning \"Using deprecated NumPy API, disable it with \" \"#define NPY_NO_DEPRECATED_API NPY_1_7_API_VERSION\" [\u001b[01;35m\u001b[K-Wcpp\u001b[m\u001b[K]\r\n",
      "   17 | #\u001b[01;35m\u001b[Kwarning\u001b[m\u001b[K \"Using deprecated NumPy API, disable it with \" \\\r\n",
      "      |  \u001b[01;35m\u001b[K^~~~~~~\u001b[m\u001b[K\r\n",
      "\u001b[01m\u001b[KMatrixFactorization_Cython_Epoch.c:\u001b[m\u001b[K In function '\u001b[01m\u001b[K__pyx_pf_32MatrixFactorization_Cython_Epoch_32MatrixFactorization_Cython_Epoch_10epochIteration_Cython_ASY_SVD_SGD\u001b[m\u001b[K':\r\n",
      "\u001b[01m\u001b[KMatrixFactorization_Cython_Epoch.c:26255:9:\u001b[m\u001b[K \u001b[01;35m\u001b[Kwarning: \u001b[m\u001b[K'\u001b[01m\u001b[K__pyx_v_end_pos_seen_items\u001b[m\u001b[K' may be used uninitialized in this function [\u001b[01;35m\u001b[K-Wmaybe-uninitialized\u001b[m\u001b[K]\r\n",
      "26255 |         \u001b[01;35m\u001b[Kfor\u001b[m\u001b[K (__pyx_t_21 = __pyx_v_start_pos_seen_items; __pyx_t_21 < __pyx_t_20; __pyx_t_21+=1) {\r\n",
      "      |         \u001b[01;35m\u001b[K^~~\u001b[m\u001b[K\r\n",
      "\u001b[01m\u001b[KMatrixFactorization_Cython_Epoch.c:26255:9:\u001b[m\u001b[K \u001b[01;35m\u001b[Kwarning: \u001b[m\u001b[K'\u001b[01m\u001b[K__pyx_v_start_pos_seen_items\u001b[m\u001b[K' may be used uninitialized in this function [\u001b[01;35m\u001b[K-Wmaybe-uninitialized\u001b[m\u001b[K]\r\n",
      "/opt/conda/lib/python3.10/site-packages/Cython/Compiler/Main.py:381: FutureWarning: Cython directive 'language_level' not set, using '3str' for now (Py3). This has changed from earlier releases! File: /kaggle/working/RECsys_Challenge2024/Recommenders/MatrixFactorization/Cython/MatrixFactorization_Cython_Epoch.pyx\r\n",
      "  tree = Parsing.p_module(s, pxd, full_module_name)\r\n",
      "Compiling [1/11]: MatrixFactorization_Cython_Epoch.pyx... PASS\r\n",
      "\r\n",
      "Compiling [2/11]: MatrixFactorizationImpressions_Cython_Epoch.pyx... \r\n",
      "In file included from \u001b[01m\u001b[K/opt/conda/lib/python3.10/site-packages/numpy/core/include/numpy/ndarraytypes.h:1929\u001b[m\u001b[K,\r\n",
      "                 from \u001b[01m\u001b[K/opt/conda/lib/python3.10/site-packages/numpy/core/include/numpy/ndarrayobject.h:12\u001b[m\u001b[K,\r\n",
      "                 from \u001b[01m\u001b[K/opt/conda/lib/python3.10/site-packages/numpy/core/include/numpy/arrayobject.h:5\u001b[m\u001b[K,\r\n",
      "                 from \u001b[01m\u001b[KMatrixFactorizationImpressions_Cython_Epoch.c:1252\u001b[m\u001b[K:\r\n",
      "\u001b[01m\u001b[K/opt/conda/lib/python3.10/site-packages/numpy/core/include/numpy/npy_1_7_deprecated_api.h:17:2:\u001b[m\u001b[K \u001b[01;35m\u001b[Kwarning: \u001b[m\u001b[K#warning \"Using deprecated NumPy API, disable it with \" \"#define NPY_NO_DEPRECATED_API NPY_1_7_API_VERSION\" [\u001b[01;35m\u001b[K-Wcpp\u001b[m\u001b[K]\r\n",
      "   17 | #\u001b[01;35m\u001b[Kwarning\u001b[m\u001b[K \"Using deprecated NumPy API, disable it with \" \\\r\n",
      "      |  \u001b[01;35m\u001b[K^~~~~~~\u001b[m\u001b[K\r\n",
      "\u001b[01m\u001b[KMatrixFactorizationImpressions_Cython_Epoch.c:\u001b[m\u001b[K In function '\u001b[01m\u001b[K__pyx_f_43MatrixFactorizationImpressions_Cython_Epoch_32MatrixFactorization_Cython_Epoch_sampleBPR_Cython\u001b[m\u001b[K':\r\n",
      "\u001b[01m\u001b[KMatrixFactorizationImpressions_Cython_Epoch.c:30351:17:\u001b[m\u001b[K \u001b[01;35m\u001b[Kwarning: \u001b[m\u001b[K'\u001b[01m\u001b[K__pyx_v_start_pos_impression_items\u001b[m\u001b[K' may be used uninitialized in this function [\u001b[01;35m\u001b[K-Wmaybe-uninitialized\u001b[m\u001b[K]\r\n",
      "30351 |       \u001b[01;35m\u001b[K__pyx_t_4 = (__pyx_v_start_pos_impression_items + __pyx_v_index)\u001b[m\u001b[K;\r\n",
      "      |       \u001b[01;35m\u001b[K~~~~~~~~~~^~~~~~~~~~~~~~~~~~~~~~~~~~~~~~~~~~~~~~~~~~~~~~~~~~~~~~\u001b[m\u001b[K\r\n",
      "\u001b[01m\u001b[KMatrixFactorizationImpressions_Cython_Epoch.c:\u001b[m\u001b[K In function '\u001b[01m\u001b[K__pyx_pf_43MatrixFactorizationImpressions_Cython_Epoch_32MatrixFactorization_Cython_Epoch_10epochIteration_Cython_ASY_SVD_SGD\u001b[m\u001b[K':\r\n",
      "\u001b[01m\u001b[KMatrixFactorizationImpressions_Cython_Epoch.c:26111:7:\u001b[m\u001b[K \u001b[01;35m\u001b[Kwarning: \u001b[m\u001b[K'\u001b[01m\u001b[K__pyx_v_end_pos_seen_items\u001b[m\u001b[K' may be used uninitialized in this function [\u001b[01;35m\u001b[K-Wmaybe-uninitialized\u001b[m\u001b[K]\r\n",
      "26111 |       \u001b[01;35m\u001b[Kfor\u001b[m\u001b[K (__pyx_t_21 = __pyx_v_start_pos_seen_items; __pyx_t_21 < __pyx_t_20; __pyx_t_21+=1) {\r\n",
      "      |       \u001b[01;35m\u001b[K^~~\u001b[m\u001b[K\r\n",
      "\u001b[01m\u001b[KMatrixFactorizationImpressions_Cython_Epoch.c:26111:7:\u001b[m\u001b[K \u001b[01;35m\u001b[Kwarning: \u001b[m\u001b[K'\u001b[01m\u001b[K__pyx_v_start_pos_seen_items\u001b[m\u001b[K' may be used uninitialized in this function [\u001b[01;35m\u001b[K-Wmaybe-uninitialized\u001b[m\u001b[K]\r\n",
      "/opt/conda/lib/python3.10/site-packages/Cython/Compiler/Main.py:381: FutureWarning: Cython directive 'language_level' not set, using '3str' for now (Py3). This has changed from earlier releases! File: /kaggle/working/RECsys_Challenge2024/Recommenders/MatrixFactorization/Cython/MatrixFactorizationImpressions_Cython_Epoch.pyx\r\n",
      "  tree = Parsing.p_module(s, pxd, full_module_name)\r\n",
      "Compiling [2/11]: MatrixFactorizationImpressions_Cython_Epoch.pyx... PASS\r\n",
      "\r\n",
      "Compiling [3/11]: Compute_Similarity_Cython.pyx... \r\n",
      "warning: Compute_Similarity_Cython.pyx:21:0: The 'IF' statement is deprecated and will be removed in a future Cython version. Consider using runtime conditions or C macros instead. See https://github.com/cython/cython/issues/4310\r\n",
      "In file included from \u001b[01m\u001b[K/opt/conda/lib/python3.10/site-packages/numpy/core/include/numpy/ndarraytypes.h:1929\u001b[m\u001b[K,\r\n",
      "                 from \u001b[01m\u001b[K/opt/conda/lib/python3.10/site-packages/numpy/core/include/numpy/ndarrayobject.h:12\u001b[m\u001b[K,\r\n",
      "                 from \u001b[01m\u001b[K/opt/conda/lib/python3.10/site-packages/numpy/core/include/numpy/arrayobject.h:5\u001b[m\u001b[K,\r\n",
      "                 from \u001b[01m\u001b[KCompute_Similarity_Cython.c:1252\u001b[m\u001b[K:\r\n",
      "\u001b[01m\u001b[K/opt/conda/lib/python3.10/site-packages/numpy/core/include/numpy/npy_1_7_deprecated_api.h:17:2:\u001b[m\u001b[K \u001b[01;35m\u001b[Kwarning: \u001b[m\u001b[K#warning \"Using deprecated NumPy API, disable it with \" \"#define NPY_NO_DEPRECATED_API NPY_1_7_API_VERSION\" [\u001b[01;35m\u001b[K-Wcpp\u001b[m\u001b[K]\r\n",
      "   17 | #\u001b[01;35m\u001b[Kwarning\u001b[m\u001b[K \"Using deprecated NumPy API, disable it with \" \\\r\n",
      "      |  \u001b[01;35m\u001b[K^~~~~~~\u001b[m\u001b[K\r\n",
      "/opt/conda/lib/python3.10/site-packages/Cython/Compiler/Main.py:381: FutureWarning: Cython directive 'language_level' not set, using '3str' for now (Py3). This has changed from earlier releases! File: /kaggle/working/RECsys_Challenge2024/Recommenders/Similarity/Cython/Compute_Similarity_Cython.pyx\r\n",
      "  tree = Parsing.p_module(s, pxd, full_module_name)\r\n",
      "warning: Compute_Similarity_Cython.pyx:21:0: The 'IF' statement is deprecated and will be removed in a future Cython version. Consider using runtime conditions or C macros instead. See https://github.com/cython/cython/issues/4310\r\n",
      "Compiling [3/11]: Compute_Similarity_Cython.pyx... PASS\r\n",
      "\r\n",
      "Compiling [4/11]: Triangular_Matrix.pyx... \r\n",
      "warning: Triangular_Matrix.pyx:22:0: The 'IF' statement is deprecated and will be removed in a future Cython version. Consider using runtime conditions or C macros instead. See https://github.com/cython/cython/issues/4310\r\n",
      "In file included from \u001b[01m\u001b[K/opt/conda/lib/python3.10/site-packages/numpy/core/include/numpy/ndarraytypes.h:1929\u001b[m\u001b[K,\r\n",
      "                 from \u001b[01m\u001b[K/opt/conda/lib/python3.10/site-packages/numpy/core/include/numpy/ndarrayobject.h:12\u001b[m\u001b[K,\r\n",
      "                 from \u001b[01m\u001b[K/opt/conda/lib/python3.10/site-packages/numpy/core/include/numpy/arrayobject.h:5\u001b[m\u001b[K,\r\n",
      "                 from \u001b[01m\u001b[KTriangular_Matrix.c:1252\u001b[m\u001b[K:\r\n",
      "\u001b[01m\u001b[K/opt/conda/lib/python3.10/site-packages/numpy/core/include/numpy/npy_1_7_deprecated_api.h:17:2:\u001b[m\u001b[K \u001b[01;35m\u001b[Kwarning: \u001b[m\u001b[K#warning \"Using deprecated NumPy API, disable it with \" \"#define NPY_NO_DEPRECATED_API NPY_1_7_API_VERSION\" [\u001b[01;35m\u001b[K-Wcpp\u001b[m\u001b[K]\r\n",
      "   17 | #\u001b[01;35m\u001b[Kwarning\u001b[m\u001b[K \"Using deprecated NumPy API, disable it with \" \\\r\n",
      "      |  \u001b[01;35m\u001b[K^~~~~~~\u001b[m\u001b[K\r\n",
      "/opt/conda/lib/python3.10/site-packages/Cython/Compiler/Main.py:381: FutureWarning: Cython directive 'language_level' not set, using '3str' for now (Py3). This has changed from earlier releases! File: /kaggle/working/RECsys_Challenge2024/Recommenders/SLIM/Cython/Triangular_Matrix.pyx\r\n",
      "  tree = Parsing.p_module(s, pxd, full_module_name)\r\n",
      "warning: Triangular_Matrix.pyx:22:0: The 'IF' statement is deprecated and will be removed in a future Cython version. Consider using runtime conditions or C macros instead. See https://github.com/cython/cython/issues/4310\r\n",
      "Compiling [4/11]: Triangular_Matrix.pyx... PASS\r\n",
      "\r\n",
      "Compiling [5/11]: SLIM_BPR_Cython_Epoch.pyx... \r\n",
      "warning: SLIM_BPR_Cython_Epoch.pyx:24:0: The 'IF' statement is deprecated and will be removed in a future Cython version. Consider using runtime conditions or C macros instead. See https://github.com/cython/cython/issues/4310\r\n",
      "warning: SLIM_BPR_Cython_Epoch.pyx:632:34: Non-trivial type declarators in shared declaration (e.g. mix of pointers and values). Each pointer declaration should be on its own line.\r\n",
      "warning: SLIM_BPR_Cython_Epoch.pyx:632:66: Non-trivial type declarators in shared declaration (e.g. mix of pointers and values). Each pointer declaration should be on its own line.\r\n",
      "warning: SLIM_BPR_Cython_Epoch.pyx:817:35: Non-trivial type declarators in shared declaration (e.g. mix of pointers and values). Each pointer declaration should be on its own line.\r\n",
      "warning: SLIM_BPR_Cython_Epoch.pyx:817:52: Non-trivial type declarators in shared declaration (e.g. mix of pointers and values). Each pointer declaration should be on its own line.\r\n",
      "warning: SLIM_BPR_Cython_Epoch.pyx:916:35: Non-trivial type declarators in shared declaration (e.g. mix of pointers and values). Each pointer declaration should be on its own line.\r\n",
      "warning: SLIM_BPR_Cython_Epoch.pyx:916:53: Non-trivial type declarators in shared declaration (e.g. mix of pointers and values). Each pointer declaration should be on its own line.\r\n",
      "warning: SLIM_BPR_Cython_Epoch.pyx:916:69: Non-trivial type declarators in shared declaration (e.g. mix of pointers and values). Each pointer declaration should be on its own line.\r\n",
      "warning: SLIM_BPR_Cython_Epoch.pyx:1051:35: Non-trivial type declarators in shared declaration (e.g. mix of pointers and values). Each pointer declaration should be on its own line.\r\n",
      "warning: SLIM_BPR_Cython_Epoch.pyx:1051:42: Non-trivial type declarators in shared declaration (e.g. mix of pointers and values). Each pointer declaration should be on its own line.\r\n",
      "warning: SLIM_BPR_Cython_Epoch.pyx:1052:35: Non-trivial type declarators in shared declaration (e.g. mix of pointers and values). Each pointer declaration should be on its own line.\r\n",
      "warning: SLIM_BPR_Cython_Epoch.pyx:1052:53: Non-trivial type declarators in shared declaration (e.g. mix of pointers and values). Each pointer declaration should be on its own line.\r\n",
      "\r\n",
      "Error compiling Cython file:\r\n",
      "------------------------------------------------------------\r\n",
      "...\r\n",
      "            vector_pointer_to_list_elements[index].head = current_element\r\n",
      "            current_element = current_element.higher\r\n",
      "\r\n",
      "\r\n",
      "        # Sort array elements on their data field\r\n",
      "        qsort(vector_pointer_to_list_elements, list_length, sizeof(head_pointer_tree_s), compare_struct_on_data)\r\n",
      "                                                                                         ^\r\n",
      "------------------------------------------------------------\r\n",
      "\r\n",
      "SLIM_BPR_Cython_Epoch.pyx:990:89: Cannot assign type 'int (const void *, const void *) except? -1' to 'int (*)(const_void *, const_void *) noexcept'. Exception values are incompatible. Suggest adding 'noexcept' to the type of 'compare_struct_on_data'.\r\n",
      "\r\n",
      "Error compiling Cython file:\r\n",
      "------------------------------------------------------------\r\n",
      "...\r\n",
      "        # Sort array elements on their data field\r\n",
      "        qsort(vector_pointer_to_list_elements, list_length, sizeof(head_pointer_tree_s), compare_struct_on_data)\r\n",
      "\r\n",
      "        # Sort only the TopK according to their column field\r\n",
      "        # Sort is from lower to higher, therefore the elements to be considered are from len-topK to len\r\n",
      "        qsort(&vector_pointer_to_list_elements[list_length-TopK], TopK, sizeof(head_pointer_tree_s), compare_struct_on_column)\r\n",
      "                                                                                                     ^\r\n",
      "------------------------------------------------------------\r\n",
      "\r\n",
      "SLIM_BPR_Cython_Epoch.pyx:994:101: Cannot assign type 'int (const void *, const void *) except? -1' to 'int (*)(const_void *, const_void *) noexcept'. Exception values are incompatible. Suggest adding 'noexcept' to the type of 'compare_struct_on_column'.\r\n",
      "Traceback (most recent call last):\r\n",
      "  File \"/kaggle/working/RECsys_Challenge2024/CythonCompiler/compile_script.py\", line 48, in <module>\r\n",
      "    setup(\r\n",
      "  File \"/opt/conda/lib/python3.10/site-packages/setuptools/__init__.py\", line 103, in setup\r\n",
      "    return distutils.core.setup(**attrs)\r\n",
      "  File \"/opt/conda/lib/python3.10/site-packages/setuptools/_distutils/core.py\", line 184, in setup\r\n",
      "    return run_commands(dist)\r\n",
      "  File \"/opt/conda/lib/python3.10/site-packages/setuptools/_distutils/core.py\", line 200, in run_commands\r\n",
      "    dist.run_commands()\r\n",
      "  File \"/opt/conda/lib/python3.10/site-packages/setuptools/_distutils/dist.py\", line 969, in run_commands\r\n",
      "    self.run_command(cmd)\r\n",
      "  File \"/opt/conda/lib/python3.10/site-packages/setuptools/dist.py\", line 968, in run_command\r\n",
      "    super().run_command(command)\r\n",
      "  File \"/opt/conda/lib/python3.10/site-packages/setuptools/_distutils/dist.py\", line 988, in run_command\r\n",
      "    cmd_obj.run()\r\n",
      "  File \"/opt/conda/lib/python3.10/site-packages/setuptools/_distutils/command/build_ext.py\", line 359, in run\r\n",
      "    self.build_extensions()\r\n",
      "  File \"/opt/conda/lib/python3.10/site-packages/setuptools/_distutils/command/build_ext.py\", line 479, in build_extensions\r\n",
      "    self._build_extensions_serial()\r\n",
      "  File \"/opt/conda/lib/python3.10/site-packages/setuptools/_distutils/command/build_ext.py\", line 505, in _build_extensions_serial\r\n",
      "    self.build_extension(ext)\r\n",
      "  File \"/opt/conda/lib/python3.10/site-packages/Cython/Distutils/build_ext.py\", line 130, in build_extension\r\n",
      "    new_ext = cythonize(\r\n",
      "  File \"/opt/conda/lib/python3.10/site-packages/Cython/Build/Dependencies.py\", line 1154, in cythonize\r\n",
      "    cythonize_one(*args)\r\n",
      "  File \"/opt/conda/lib/python3.10/site-packages/Cython/Build/Dependencies.py\", line 1321, in cythonize_one\r\n",
      "    raise CompileError(None, pyx_file)\r\n",
      "Cython.Compiler.Errors.CompileError: SLIM_BPR_Cython_Epoch.pyx\r\n",
      "Traceback (most recent call last):\r\n",
      "  File \"/kaggle/working/RECsys_Challenge2024/run_compile_all_cython.py\", line 60, in <module>\r\n",
      "    run_compile_subprocess(file_path, [file_name])\r\n",
      "  File \"/kaggle/working/RECsys_Challenge2024/CythonCompiler/run_compile_subprocess.py\", line 51, in run_compile_subprocess\r\n",
      "    raise exc\r\n",
      "  File \"/kaggle/working/RECsys_Challenge2024/CythonCompiler/run_compile_subprocess.py\", line 32, in run_compile_subprocess\r\n",
      "    output = subprocess.check_output(' '.join(command),\r\n",
      "  File \"/opt/conda/lib/python3.10/subprocess.py\", line 421, in check_output\r\n",
      "    return run(*popenargs, stdout=PIPE, timeout=timeout, check=True,\r\n",
      "  File \"/opt/conda/lib/python3.10/subprocess.py\", line 526, in run\r\n",
      "    raise CalledProcessError(retcode, process.args,\r\n",
      "subprocess.CalledProcessError: Command '/opt/conda/bin/python /kaggle/working/RECsys_Challenge2024/CythonCompiler/compile_script.py SLIM_BPR_Cython_Epoch.pyx build_ext --inplace' returned non-zero exit status 1.\r\n",
      "Compiling [5/11]: SLIM_BPR_Cython_Epoch.pyx... FAIL: Command '/opt/conda/bin/python /kaggle/working/RECsys_Challenge2024/CythonCompiler/compile_script.py SLIM_BPR_Cython_Epoch.pyx build_ext --inplace' returned non-zero exit status 1.\r\n",
      "\r\n",
      "Compiling [6/11]: Sparse_Matrix_Tree_CSR.pyx... \r\n",
      "warning: Sparse_Matrix_Tree_CSR.pyx:132:34: Non-trivial type declarators in shared declaration (e.g. mix of pointers and values). Each pointer declaration should be on its own line.\r\n",
      "warning: Sparse_Matrix_Tree_CSR.pyx:132:66: Non-trivial type declarators in shared declaration (e.g. mix of pointers and values). Each pointer declaration should be on its own line.\r\n",
      "warning: Sparse_Matrix_Tree_CSR.pyx:343:35: Non-trivial type declarators in shared declaration (e.g. mix of pointers and values). Each pointer declaration should be on its own line.\r\n",
      "warning: Sparse_Matrix_Tree_CSR.pyx:343:52: Non-trivial type declarators in shared declaration (e.g. mix of pointers and values). Each pointer declaration should be on its own line.\r\n",
      "warning: Sparse_Matrix_Tree_CSR.pyx:442:35: Non-trivial type declarators in shared declaration (e.g. mix of pointers and values). Each pointer declaration should be on its own line.\r\n",
      "warning: Sparse_Matrix_Tree_CSR.pyx:442:53: Non-trivial type declarators in shared declaration (e.g. mix of pointers and values). Each pointer declaration should be on its own line.\r\n",
      "warning: Sparse_Matrix_Tree_CSR.pyx:442:69: Non-trivial type declarators in shared declaration (e.g. mix of pointers and values). Each pointer declaration should be on its own line.\r\n",
      "warning: Sparse_Matrix_Tree_CSR.pyx:577:35: Non-trivial type declarators in shared declaration (e.g. mix of pointers and values). Each pointer declaration should be on its own line.\r\n",
      "warning: Sparse_Matrix_Tree_CSR.pyx:577:42: Non-trivial type declarators in shared declaration (e.g. mix of pointers and values). Each pointer declaration should be on its own line.\r\n",
      "warning: Sparse_Matrix_Tree_CSR.pyx:578:35: Non-trivial type declarators in shared declaration (e.g. mix of pointers and values). Each pointer declaration should be on its own line.\r\n",
      "warning: Sparse_Matrix_Tree_CSR.pyx:578:53: Non-trivial type declarators in shared declaration (e.g. mix of pointers and values). Each pointer declaration should be on its own line.\r\n",
      "\r\n",
      "Error compiling Cython file:\r\n",
      "------------------------------------------------------------\r\n",
      "...\r\n",
      "            vector_pointer_to_list_elements[index].head = current_element\r\n",
      "            current_element = current_element.higher\r\n",
      "\r\n",
      "\r\n",
      "        # Sort array elements on their data field\r\n",
      "        qsort(vector_pointer_to_list_elements, list_length, sizeof(head_pointer_tree_s), compare_struct_on_data)\r\n",
      "                                                                                         ^\r\n",
      "------------------------------------------------------------\r\n",
      "\r\n",
      "Sparse_Matrix_Tree_CSR.pyx:516:89: Cannot assign type 'int (const void *, const void *) except? -1' to 'int (*)(const_void *, const_void *) noexcept'. Exception values are incompatible. Suggest adding 'noexcept' to the type of 'compare_struct_on_data'.\r\n",
      "\r\n",
      "Error compiling Cython file:\r\n",
      "------------------------------------------------------------\r\n",
      "...\r\n",
      "        # Sort array elements on their data field\r\n",
      "        qsort(vector_pointer_to_list_elements, list_length, sizeof(head_pointer_tree_s), compare_struct_on_data)\r\n",
      "\r\n",
      "        # Sort only the TopK according to their column field\r\n",
      "        # Sort is from lower to higher, therefore the elements to be considered are from len-topK to len\r\n",
      "        qsort(&vector_pointer_to_list_elements[list_length-TopK], TopK, sizeof(head_pointer_tree_s), compare_struct_on_column)\r\n",
      "                                                                                                     ^\r\n",
      "------------------------------------------------------------\r\n",
      "\r\n",
      "Sparse_Matrix_Tree_CSR.pyx:520:101: Cannot assign type 'int (const void *, const void *) except? -1' to 'int (*)(const_void *, const_void *) noexcept'. Exception values are incompatible. Suggest adding 'noexcept' to the type of 'compare_struct_on_column'.\r\n",
      "Traceback (most recent call last):\r\n",
      "  File \"/kaggle/working/RECsys_Challenge2024/CythonCompiler/compile_script.py\", line 48, in <module>\r\n",
      "    setup(\r\n",
      "  File \"/opt/conda/lib/python3.10/site-packages/setuptools/__init__.py\", line 103, in setup\r\n",
      "    return distutils.core.setup(**attrs)\r\n",
      "  File \"/opt/conda/lib/python3.10/site-packages/setuptools/_distutils/core.py\", line 184, in setup\r\n",
      "    return run_commands(dist)\r\n",
      "  File \"/opt/conda/lib/python3.10/site-packages/setuptools/_distutils/core.py\", line 200, in run_commands\r\n",
      "    dist.run_commands()\r\n",
      "  File \"/opt/conda/lib/python3.10/site-packages/setuptools/_distutils/dist.py\", line 969, in run_commands\r\n",
      "    self.run_command(cmd)\r\n",
      "  File \"/opt/conda/lib/python3.10/site-packages/setuptools/dist.py\", line 968, in run_command\r\n",
      "    super().run_command(command)\r\n",
      "  File \"/opt/conda/lib/python3.10/site-packages/setuptools/_distutils/dist.py\", line 988, in run_command\r\n",
      "    cmd_obj.run()\r\n",
      "  File \"/opt/conda/lib/python3.10/site-packages/setuptools/_distutils/command/build_ext.py\", line 359, in run\r\n",
      "    self.build_extensions()\r\n",
      "  File \"/opt/conda/lib/python3.10/site-packages/setuptools/_distutils/command/build_ext.py\", line 479, in build_extensions\r\n",
      "    self._build_extensions_serial()\r\n",
      "  File \"/opt/conda/lib/python3.10/site-packages/setuptools/_distutils/command/build_ext.py\", line 505, in _build_extensions_serial\r\n",
      "    self.build_extension(ext)\r\n",
      "  File \"/opt/conda/lib/python3.10/site-packages/Cython/Distutils/build_ext.py\", line 130, in build_extension\r\n",
      "    new_ext = cythonize(\r\n",
      "  File \"/opt/conda/lib/python3.10/site-packages/Cython/Build/Dependencies.py\", line 1154, in cythonize\r\n",
      "    cythonize_one(*args)\r\n",
      "  File \"/opt/conda/lib/python3.10/site-packages/Cython/Build/Dependencies.py\", line 1321, in cythonize_one\r\n",
      "    raise CompileError(None, pyx_file)\r\n",
      "Cython.Compiler.Errors.CompileError: Sparse_Matrix_Tree_CSR.pyx\r\n",
      "Traceback (most recent call last):\r\n",
      "  File \"/kaggle/working/RECsys_Challenge2024/run_compile_all_cython.py\", line 60, in <module>\r\n",
      "    run_compile_subprocess(file_path, [file_name])\r\n",
      "  File \"/kaggle/working/RECsys_Challenge2024/CythonCompiler/run_compile_subprocess.py\", line 51, in run_compile_subprocess\r\n",
      "    raise exc\r\n",
      "  File \"/kaggle/working/RECsys_Challenge2024/CythonCompiler/run_compile_subprocess.py\", line 32, in run_compile_subprocess\r\n",
      "    output = subprocess.check_output(' '.join(command),\r\n",
      "  File \"/opt/conda/lib/python3.10/subprocess.py\", line 421, in check_output\r\n",
      "    return run(*popenargs, stdout=PIPE, timeout=timeout, check=True,\r\n",
      "  File \"/opt/conda/lib/python3.10/subprocess.py\", line 526, in run\r\n",
      "    raise CalledProcessError(retcode, process.args,\r\n",
      "subprocess.CalledProcessError: Command '/opt/conda/bin/python /kaggle/working/RECsys_Challenge2024/CythonCompiler/compile_script.py Sparse_Matrix_Tree_CSR.pyx build_ext --inplace' returned non-zero exit status 1.\r\n",
      "Compiling [6/11]: Sparse_Matrix_Tree_CSR.pyx... FAIL: Command '/opt/conda/bin/python /kaggle/working/RECsys_Challenge2024/CythonCompiler/compile_script.py Sparse_Matrix_Tree_CSR.pyx build_ext --inplace' returned non-zero exit status 1.\r\n",
      "\r\n",
      "Compiling [7/11]: FBSM_Rating_Cython_SGD.pyx... \r\n",
      "In file included from \u001b[01m\u001b[K/opt/conda/lib/python3.10/site-packages/numpy/core/include/numpy/ndarraytypes.h:1929\u001b[m\u001b[K,\r\n",
      "                 from \u001b[01m\u001b[K/opt/conda/lib/python3.10/site-packages/numpy/core/include/numpy/ndarrayobject.h:12\u001b[m\u001b[K,\r\n",
      "                 from \u001b[01m\u001b[K/opt/conda/lib/python3.10/site-packages/numpy/core/include/numpy/arrayobject.h:5\u001b[m\u001b[K,\r\n",
      "                 from \u001b[01m\u001b[KFBSM_Rating_Cython_SGD.c:1252\u001b[m\u001b[K:\r\n",
      "\u001b[01m\u001b[K/opt/conda/lib/python3.10/site-packages/numpy/core/include/numpy/npy_1_7_deprecated_api.h:17:2:\u001b[m\u001b[K \u001b[01;35m\u001b[Kwarning: \u001b[m\u001b[K#warning \"Using deprecated NumPy API, disable it with \" \"#define NPY_NO_DEPRECATED_API NPY_1_7_API_VERSION\" [\u001b[01;35m\u001b[K-Wcpp\u001b[m\u001b[K]\r\n",
      "   17 | #\u001b[01;35m\u001b[Kwarning\u001b[m\u001b[K \"Using deprecated NumPy API, disable it with \" \\\r\n",
      "      |  \u001b[01;35m\u001b[K^~~~~~~\u001b[m\u001b[K\r\n",
      "\u001b[01m\u001b[KFBSM_Rating_Cython_SGD.c:\u001b[m\u001b[K In function '\u001b[01m\u001b[K__pyx_pf_22FBSM_Rating_Cython_SGD_22FBSM_Rating_Cython_SGD_2fit\u001b[m\u001b[K':\r\n",
      "\u001b[01m\u001b[KFBSM_Rating_Cython_SGD.c:26607:55:\u001b[m\u001b[K \u001b[01;35m\u001b[Kwarning: \u001b[m\u001b[K'\u001b[01m\u001b[K__pyx_v_num_sample\u001b[m\u001b[K' may be used uninitialized in this function [\u001b[01;35m\u001b[K-Wmaybe-uninitialized\u001b[m\u001b[K]\r\n",
      "26607 |   __pyx_t_5 = PyFloat_FromDouble((__pyx_v_cum_loss / \u001b[01;35m\u001b[K((double)__pyx_v_num_sample)\u001b[m\u001b[K)); if (unlikely(!__pyx_t_5)) __PYX_ERR(0, 551, __pyx_L1_error)\r\n",
      "      |                                                      \u001b[01;35m\u001b[K~^~~~~~~~~~~~~~~~~~~~~~~~~~~\u001b[m\u001b[K\r\n",
      "/opt/conda/lib/python3.10/site-packages/Cython/Compiler/Main.py:381: FutureWarning: Cython directive 'language_level' not set, using '3str' for now (Py3). This has changed from earlier releases! File: /kaggle/working/RECsys_Challenge2024/Recommenders/FeatureWeighting/Cython/FBSM_Rating_Cython_SGD.pyx\r\n",
      "  tree = Parsing.p_module(s, pxd, full_module_name)\r\n",
      "Compiling [7/11]: FBSM_Rating_Cython_SGD.pyx... PASS\r\n",
      "\r\n",
      "Compiling [8/11]: CFW_D_Similarity_Cython_SGD.pyx... \r\n",
      "In file included from \u001b[01m\u001b[K/opt/conda/lib/python3.10/site-packages/numpy/core/include/numpy/ndarraytypes.h:1929\u001b[m\u001b[K,\r\n",
      "                 from \u001b[01m\u001b[K/opt/conda/lib/python3.10/site-packages/numpy/core/include/numpy/ndarrayobject.h:12\u001b[m\u001b[K,\r\n",
      "                 from \u001b[01m\u001b[K/opt/conda/lib/python3.10/site-packages/numpy/core/include/numpy/arrayobject.h:5\u001b[m\u001b[K,\r\n",
      "                 from \u001b[01m\u001b[KCFW_D_Similarity_Cython_SGD.c:1252\u001b[m\u001b[K:\r\n",
      "\u001b[01m\u001b[K/opt/conda/lib/python3.10/site-packages/numpy/core/include/numpy/npy_1_7_deprecated_api.h:17:2:\u001b[m\u001b[K \u001b[01;35m\u001b[Kwarning: \u001b[m\u001b[K#warning \"Using deprecated NumPy API, disable it with \" \"#define NPY_NO_DEPRECATED_API NPY_1_7_API_VERSION\" [\u001b[01;35m\u001b[K-Wcpp\u001b[m\u001b[K]\r\n",
      "   17 | #\u001b[01;35m\u001b[Kwarning\u001b[m\u001b[K \"Using deprecated NumPy API, disable it with \" \\\r\n",
      "      |  \u001b[01;35m\u001b[K^~~~~~~\u001b[m\u001b[K\r\n",
      "\u001b[01m\u001b[KCFW_D_Similarity_Cython_SGD.c:\u001b[m\u001b[K In function '\u001b[01m\u001b[K__pyx_pf_27CFW_D_Similarity_Cython_SGD_27CFW_D_Similarity_Cython_SGD_6fit\u001b[m\u001b[K':\r\n",
      "\u001b[01m\u001b[KCFW_D_Similarity_Cython_SGD.c:23373:55:\u001b[m\u001b[K \u001b[01;35m\u001b[Kwarning: \u001b[m\u001b[K'\u001b[01m\u001b[K__pyx_v_sample_num\u001b[m\u001b[K' may be used uninitialized in this function [\u001b[01;35m\u001b[K-Wmaybe-uninitialized\u001b[m\u001b[K]\r\n",
      "23373 |   __pyx_t_3 = PyFloat_FromDouble((__pyx_v_cum_loss / \u001b[01;35m\u001b[K((double)__pyx_v_sample_num)\u001b[m\u001b[K)); if (unlikely(!__pyx_t_3)) __PYX_ERR(0, 290, __pyx_L1_error)\r\n",
      "      |                                                      \u001b[01;35m\u001b[K~^~~~~~~~~~~~~~~~~~~~~~~~~~~\u001b[m\u001b[K\r\n",
      "/opt/conda/lib/python3.10/site-packages/Cython/Compiler/Main.py:381: FutureWarning: Cython directive 'language_level' not set, using '3str' for now (Py3). This has changed from earlier releases! File: /kaggle/working/RECsys_Challenge2024/Recommenders/FeatureWeighting/Cython/CFW_D_Similarity_Cython_SGD.pyx\r\n",
      "  tree = Parsing.p_module(s, pxd, full_module_name)\r\n",
      "Compiling [8/11]: CFW_D_Similarity_Cython_SGD.pyx... PASS\r\n",
      "\r\n",
      "Compiling [9/11]: HP3_Similarity_Cython_SGD.pyx... \r\n",
      "performance hint: HP3_Similarity_Cython_SGD.pyx:113:40: Index should be typed for more efficient access\r\n",
      "performance hint: HP3_Similarity_Cython_SGD.pyx:114:40: Index should be typed for more efficient access\r\n",
      "In file included from \u001b[01m\u001b[K/opt/conda/lib/python3.10/site-packages/numpy/core/include/numpy/ndarraytypes.h:1929\u001b[m\u001b[K,\r\n",
      "                 from \u001b[01m\u001b[K/opt/conda/lib/python3.10/site-packages/numpy/core/include/numpy/ndarrayobject.h:12\u001b[m\u001b[K,\r\n",
      "                 from \u001b[01m\u001b[K/opt/conda/lib/python3.10/site-packages/numpy/core/include/numpy/arrayobject.h:5\u001b[m\u001b[K,\r\n",
      "                 from \u001b[01m\u001b[KHP3_Similarity_Cython_SGD.c:1252\u001b[m\u001b[K:\r\n",
      "\u001b[01m\u001b[K/opt/conda/lib/python3.10/site-packages/numpy/core/include/numpy/npy_1_7_deprecated_api.h:17:2:\u001b[m\u001b[K \u001b[01;35m\u001b[Kwarning: \u001b[m\u001b[K#warning \"Using deprecated NumPy API, disable it with \" \"#define NPY_NO_DEPRECATED_API NPY_1_7_API_VERSION\" [\u001b[01;35m\u001b[K-Wcpp\u001b[m\u001b[K]\r\n",
      "   17 | #\u001b[01;35m\u001b[Kwarning\u001b[m\u001b[K \"Using deprecated NumPy API, disable it with \" \\\r\n",
      "      |  \u001b[01;35m\u001b[K^~~~~~~\u001b[m\u001b[K\r\n",
      "\u001b[01m\u001b[KHP3_Similarity_Cython_SGD.c:\u001b[m\u001b[K In function '\u001b[01m\u001b[K__pyx_pf_25HP3_Similarity_Cython_SGD_25HP3_Similarity_Cython_SGD_4fit\u001b[m\u001b[K':\r\n",
      "\u001b[01m\u001b[KHP3_Similarity_Cython_SGD.c:23631:55:\u001b[m\u001b[K \u001b[01;35m\u001b[Kwarning: \u001b[m\u001b[K'\u001b[01m\u001b[K__pyx_v_sample_num\u001b[m\u001b[K' may be used uninitialized in this function [\u001b[01;35m\u001b[K-Wmaybe-uninitialized\u001b[m\u001b[K]\r\n",
      "23631 |   __pyx_t_1 = PyFloat_FromDouble((__pyx_v_cum_loss / \u001b[01;35m\u001b[K((double)__pyx_v_sample_num)\u001b[m\u001b[K)); if (unlikely(!__pyx_t_1)) __PYX_ERR(0, 291, __pyx_L1_error)\r\n",
      "      |                                                      \u001b[01;35m\u001b[K~^~~~~~~~~~~~~~~~~~~~~~~~~~~\u001b[m\u001b[K\r\n",
      "/opt/conda/lib/python3.10/site-packages/Cython/Compiler/Main.py:381: FutureWarning: Cython directive 'language_level' not set, using '3str' for now (Py3). This has changed from earlier releases! File: /kaggle/working/RECsys_Challenge2024/Recommenders/FeatureWeighting/Cython/HP3_Similarity_Cython_SGD.pyx\r\n",
      "  tree = Parsing.p_module(s, pxd, full_module_name)\r\n",
      "performance hint: HP3_Similarity_Cython_SGD.pyx:113:40: Index should be typed for more efficient access\r\n",
      "performance hint: HP3_Similarity_Cython_SGD.pyx:114:40: Index should be typed for more efficient access\r\n",
      "Compiling [9/11]: HP3_Similarity_Cython_SGD.pyx... PASS\r\n",
      "\r\n",
      "Compiling [10/11]: CFW_DVV_Similarity_Cython_SGD.pyx... \r\n",
      "In file included from \u001b[01m\u001b[K/opt/conda/lib/python3.10/site-packages/numpy/core/include/numpy/ndarraytypes.h:1929\u001b[m\u001b[K,\r\n",
      "                 from \u001b[01m\u001b[K/opt/conda/lib/python3.10/site-packages/numpy/core/include/numpy/ndarrayobject.h:12\u001b[m\u001b[K,\r\n",
      "                 from \u001b[01m\u001b[K/opt/conda/lib/python3.10/site-packages/numpy/core/include/numpy/arrayobject.h:5\u001b[m\u001b[K,\r\n",
      "                 from \u001b[01m\u001b[KCFW_DVV_Similarity_Cython_SGD.c:1252\u001b[m\u001b[K:\r\n",
      "\u001b[01m\u001b[K/opt/conda/lib/python3.10/site-packages/numpy/core/include/numpy/npy_1_7_deprecated_api.h:17:2:\u001b[m\u001b[K \u001b[01;35m\u001b[Kwarning: \u001b[m\u001b[K#warning \"Using deprecated NumPy API, disable it with \" \"#define NPY_NO_DEPRECATED_API NPY_1_7_API_VERSION\" [\u001b[01;35m\u001b[K-Wcpp\u001b[m\u001b[K]\r\n",
      "   17 | #\u001b[01;35m\u001b[Kwarning\u001b[m\u001b[K \"Using deprecated NumPy API, disable it with \" \\\r\n",
      "      |  \u001b[01;35m\u001b[K^~~~~~~\u001b[m\u001b[K\r\n",
      "/opt/conda/lib/python3.10/site-packages/Cython/Compiler/Main.py:381: FutureWarning: Cython directive 'language_level' not set, using '3str' for now (Py3). This has changed from earlier releases! File: /kaggle/working/RECsys_Challenge2024/Recommenders/FeatureWeighting/Cython/CFW_DVV_Similarity_Cython_SGD.pyx\r\n",
      "  tree = Parsing.p_module(s, pxd, full_module_name)\r\n",
      "Compiling [10/11]: CFW_DVV_Similarity_Cython_SGD.pyx... PASS\r\n",
      "\r\n",
      "Compiling [11/11]: DataIterator.pyx... \r\n",
      "In file included from \u001b[01m\u001b[K/opt/conda/lib/python3.10/site-packages/numpy/core/include/numpy/ndarraytypes.h:1929\u001b[m\u001b[K,\r\n",
      "                 from \u001b[01m\u001b[K/opt/conda/lib/python3.10/site-packages/numpy/core/include/numpy/ndarrayobject.h:12\u001b[m\u001b[K,\r\n",
      "                 from \u001b[01m\u001b[K/opt/conda/lib/python3.10/site-packages/numpy/core/include/numpy/arrayobject.h:5\u001b[m\u001b[K,\r\n",
      "                 from \u001b[01m\u001b[KDataIterator.c:1252\u001b[m\u001b[K:\r\n",
      "\u001b[01m\u001b[K/opt/conda/lib/python3.10/site-packages/numpy/core/include/numpy/npy_1_7_deprecated_api.h:17:2:\u001b[m\u001b[K \u001b[01;35m\u001b[Kwarning: \u001b[m\u001b[K#warning \"Using deprecated NumPy API, disable it with \" \"#define NPY_NO_DEPRECATED_API NPY_1_7_API_VERSION\" [\u001b[01;35m\u001b[K-Wcpp\u001b[m\u001b[K]\r\n",
      "   17 | #\u001b[01;35m\u001b[Kwarning\u001b[m\u001b[K \"Using deprecated NumPy API, disable it with \" \\\r\n",
      "      |  \u001b[01;35m\u001b[K^~~~~~~\u001b[m\u001b[K\r\n",
      "\u001b[01m\u001b[KDataIterator.c:\u001b[m\u001b[K In function '\u001b[01m\u001b[K__pyx_pf_12DataIterator_30InteractionAndNegativeIterator_6__next__\u001b[m\u001b[K':\r\n",
      "\u001b[01m\u001b[KDataIterator.c:25495:22:\u001b[m\u001b[K \u001b[01;35m\u001b[Kwarning: \u001b[m\u001b[K'\u001b[01m\u001b[K__pyx_v_i_batch\u001b[m\u001b[K' may be used uninitialized in this function [\u001b[01;35m\u001b[K-Wmaybe-uninitialized\u001b[m\u001b[K]\r\n",
      "25495 |     (__pyx_v_i_batch \u001b[01;35m\u001b[K+\u001b[m\u001b[K 1),\r\n",
      "      |                      \u001b[01;35m\u001b[K^\u001b[m\u001b[K\r\n",
      "\u001b[01m\u001b[KDataIterator.c:\u001b[m\u001b[K In function '\u001b[01m\u001b[K__pyx_pf_12DataIterator_11BPRIterator_6__next__\u001b[m\u001b[K':\r\n",
      "\u001b[01m\u001b[KDataIterator.c:23054:22:\u001b[m\u001b[K \u001b[01;35m\u001b[Kwarning: \u001b[m\u001b[K'\u001b[01m\u001b[K__pyx_v_i_batch\u001b[m\u001b[K' may be used uninitialized in this function [\u001b[01;35m\u001b[K-Wmaybe-uninitialized\u001b[m\u001b[K]\r\n",
      "23054 |     (__pyx_v_i_batch \u001b[01;35m\u001b[K+\u001b[m\u001b[K 1),\r\n",
      "      |                      \u001b[01;35m\u001b[K^\u001b[m\u001b[K\r\n",
      "\u001b[01m\u001b[KDataIterator.c:\u001b[m\u001b[K In function '\u001b[01m\u001b[K__pyx_pf_12DataIterator_19InteractionIterator_6__next__\u001b[m\u001b[K':\r\n",
      "\u001b[01m\u001b[KDataIterator.c:20937:22:\u001b[m\u001b[K \u001b[01;35m\u001b[Kwarning: \u001b[m\u001b[K'\u001b[01m\u001b[K__pyx_v_i_batch\u001b[m\u001b[K' may be used uninitialized in this function [\u001b[01;35m\u001b[K-Wmaybe-uninitialized\u001b[m\u001b[K]\r\n",
      "20937 |     (__pyx_v_i_batch \u001b[01;35m\u001b[K+\u001b[m\u001b[K 1),\r\n",
      "      |                      \u001b[01;35m\u001b[K^\u001b[m\u001b[K\r\n",
      "/opt/conda/lib/python3.10/site-packages/Cython/Compiler/Main.py:381: FutureWarning: Cython directive 'language_level' not set, using '3str' for now (Py3). This has changed from earlier releases! File: /kaggle/working/RECsys_Challenge2024/Utils/PyTorch/Cython/DataIterator.pyx\r\n",
      "  tree = Parsing.p_module(s, pxd, full_module_name)\r\n",
      "Compiling [11/11]: DataIterator.pyx... PASS\r\n",
      "\r\n",
      "run_compile_all_cython: Compilation finished. FAILS 2/11.\r\n",
      "Compilation log can be found here: './result_experiments/run_compile_all_cython.txt'\r\n"
     ]
    }
   ],
   "source": [
    "%cd /kaggle/working/RECsys_Challenge2024\n",
    "!python run_compile_all_cython.py"
   ]
  },
  {
   "cell_type": "code",
   "execution_count": null,
   "id": "a1d98224",
   "metadata": {
    "execution": {
     "iopub.execute_input": "2024-11-20T16:43:49.286939Z",
     "iopub.status.busy": "2024-11-20T16:43:49.286492Z",
     "iopub.status.idle": "2024-11-20T16:43:50.712466Z",
     "shell.execute_reply": "2024-11-20T16:43:50.711381Z"
    },
    "papermill": {
     "duration": 1.442674,
     "end_time": "2024-11-20T16:43:50.714835",
     "exception": false,
     "start_time": "2024-11-20T16:43:49.272161",
     "status": "completed"
    },
    "tags": []
   },
   "outputs": [],
   "source": [
    "from Utils.notebookFunctions import *\n",
    "import numpy as np\n",
    "import pandas as pd\n",
    "import scipy.sparse as sps\n",
    "import time\n",
    "import shutil\n",
    "import optuna\n",
    "import json\n",
    "import os\n",
    "from RECsys_Challenge2024.Utils.seconds_to_biggest_unit import seconds_to_biggest_unit\n",
    "\n",
    "\n",
    "K_PATH = '/kaggle/working/RecSys_Challenge2024'\n",
    "GH_PATH = 'TrainedModels/KFCV' # add rith or without KFCV\n",
    "\n",
    "np.random.seed(42)"
   ]
  },
  {
   "cell_type": "markdown",
   "id": "f31c45c5",
   "metadata": {
    "papermill": {
     "duration": 0.012437,
     "end_time": "2024-11-20T16:43:50.740215",
     "exception": false,
     "start_time": "2024-11-20T16:43:50.727778",
     "status": "completed"
    },
    "tags": []
   },
   "source": [
    "## Import the repository"
   ]
  },
  {
   "cell_type": "code",
   "execution_count": null,
   "id": "7cc52603",
   "metadata": {
    "execution": {
     "iopub.execute_input": "2024-11-20T16:43:50.767247Z",
     "iopub.status.busy": "2024-11-20T16:43:50.766723Z",
     "iopub.status.idle": "2024-11-20T16:43:51.175004Z",
     "shell.execute_reply": "2024-11-20T16:43:51.173789Z"
    },
    "papermill": {
     "duration": 0.424305,
     "end_time": "2024-11-20T16:43:51.177173",
     "exception": false,
     "start_time": "2024-11-20T16:43:50.752868",
     "status": "completed"
    },
    "tags": []
   },
   "outputs": [
    {
     "name": "stdout",
     "output_type": "stream",
     "text": [
      "Repository 'RECsys_Challenge2024' found.\n"
     ]
    }
   ],
   "source": [
    "repo = get_repo_from_github(token)"
   ]
  },
  {
   "cell_type": "code",
   "execution_count": 8,
   "id": "8abba962",
   "metadata": {
    "execution": {
     "iopub.execute_input": "2024-11-20T16:43:51.240245Z",
     "iopub.status.busy": "2024-11-20T16:43:51.239807Z",
     "iopub.status.idle": "2024-11-20T16:43:51.245356Z",
     "shell.execute_reply": "2024-11-20T16:43:51.244213Z"
    },
    "papermill": {
     "duration": 0.021837,
     "end_time": "2024-11-20T16:43:51.247722",
     "exception": false,
     "start_time": "2024-11-20T16:43:51.225885",
     "status": "completed"
    },
    "tags": []
   },
   "outputs": [],
   "source": [
    "config = {\n",
    "    'model': 'LinearCombination',\n",
    "    'tune_parameters': True,\n",
    "    'database_path': '/kaggle/working/history_LinearCombination.db',\n",
    "    'copy_prev_best_params': False,\n",
    "    'tune_best_params': True,\n",
    "    'save_github': True\n",
    "}"
   ]
  },
  {
   "cell_type": "markdown",
   "id": "b58aca9f",
   "metadata": {
    "papermill": {
     "duration": 0.012422,
     "end_time": "2024-11-20T16:43:51.273069",
     "exception": false,
     "start_time": "2024-11-20T16:43:51.260647",
     "status": "completed"
    },
    "tags": []
   },
   "source": [
    "Import the database where previous tuning trials have been saved."
   ]
  },
  {
   "cell_type": "code",
   "execution_count": null,
   "id": "8b0bca08",
   "metadata": {
    "execution": {
     "iopub.execute_input": "2024-11-20T16:43:51.300345Z",
     "iopub.status.busy": "2024-11-20T16:43:51.299950Z",
     "iopub.status.idle": "2024-11-20T16:43:51.305510Z",
     "shell.execute_reply": "2024-11-20T16:43:51.304622Z"
    },
    "papermill": {
     "duration": 0.021816,
     "end_time": "2024-11-20T16:43:51.307563",
     "exception": false,
     "start_time": "2024-11-20T16:43:51.285747",
     "status": "completed"
    },
    "tags": []
   },
   "outputs": [],
   "source": [
    "try:\n",
    "    shutil.copyfile(\n",
    "        f'{K_PATH}/{config[\"model\"]}Recommender/history_{config[\"model\"]}.db', \n",
    "        config['database_path']\n",
    "    )\n",
    "except FileNotFoundError:\n",
    "    pass # if not present optuna will create it"
   ]
  },
  {
   "cell_type": "markdown",
   "id": "d2375084",
   "metadata": {
    "papermill": {
     "duration": 0.012442,
     "end_time": "2024-11-20T16:43:51.332911",
     "exception": false,
     "start_time": "2024-11-20T16:43:51.320469",
     "status": "completed"
    },
    "tags": []
   },
   "source": [
    "# Construction of URM and ICM matrices"
   ]
  },
  {
   "cell_type": "code",
   "execution_count": 10,
   "id": "ab23668e",
   "metadata": {
    "execution": {
     "iopub.execute_input": "2024-11-20T16:43:51.360625Z",
     "iopub.status.busy": "2024-11-20T16:43:51.360086Z",
     "iopub.status.idle": "2024-11-20T16:43:52.179537Z",
     "shell.execute_reply": "2024-11-20T16:43:52.178432Z"
    },
    "papermill": {
     "duration": 0.836251,
     "end_time": "2024-11-20T16:43:52.181859",
     "exception": false,
     "start_time": "2024-11-20T16:43:51.345608",
     "status": "completed"
    },
    "tags": []
   },
   "outputs": [
    {
     "data": {
      "text/plain": [
       "<Compressed Sparse Row sparse matrix of dtype 'float64'\n",
       "\twith 1764607 stored elements and shape (35736, 38121)>"
      ]
     },
     "execution_count": 10,
     "metadata": {},
     "output_type": "execute_result"
    }
   ],
   "source": [
    "URM_all_dataframe = pd.read_csv(\"/kaggle/input/recommender-system-2024-challenge-polimi/data_train.csv\")\n",
    "\n",
    "n_users = len(URM_all_dataframe[\"user_id\"].unique())\n",
    "n_items = len(URM_all_dataframe[\"item_id\"].unique())\n",
    "\n",
    "URM_all = sps.csr_matrix((URM_all_dataframe[\"data\"].values, \n",
    "                          (URM_all_dataframe[\"user_id\"].values, URM_all_dataframe[\"item_id\"].values)),\n",
    "                        shape = (n_users, n_items))\n",
    "\n",
    "URM_all"
   ]
  },
  {
   "cell_type": "code",
   "execution_count": 11,
   "id": "c9d81bf8",
   "metadata": {
    "execution": {
     "iopub.execute_input": "2024-11-20T16:43:52.211812Z",
     "iopub.status.busy": "2024-11-20T16:43:52.210616Z",
     "iopub.status.idle": "2024-11-20T16:43:53.554297Z",
     "shell.execute_reply": "2024-11-20T16:43:53.553197Z"
    },
    "papermill": {
     "duration": 1.360699,
     "end_time": "2024-11-20T16:43:53.556821",
     "exception": false,
     "start_time": "2024-11-20T16:43:52.196122",
     "status": "completed"
    },
    "tags": []
   },
   "outputs": [
    {
     "data": {
      "text/plain": [
       "<Compressed Sparse Row sparse matrix of dtype 'float64'\n",
       "\twith 2940040 stored elements and shape (38121, 94331)>"
      ]
     },
     "execution_count": 11,
     "metadata": {},
     "output_type": "execute_result"
    }
   ],
   "source": [
    "ICM_dataframe = pd.read_csv(\"/kaggle/input/recommender-system-2024-challenge-polimi/data_ICM_metadata.csv\")\n",
    "\n",
    "n_items = len(ICM_dataframe[\"item_id\"].unique())\n",
    "n_features = len(ICM_dataframe[\"feature_id\"].unique())\n",
    "\n",
    "ICM_all = sps.csr_matrix((ICM_dataframe[\"data\"].values, \n",
    "                          (ICM_dataframe[\"item_id\"].values, ICM_dataframe[\"feature_id\"].values)),\n",
    "                        shape = (n_items, n_features))\n",
    "\n",
    "ICM_all"
   ]
  },
  {
   "cell_type": "markdown",
   "id": "7cc9965e",
   "metadata": {
    "papermill": {
     "duration": 0.012516,
     "end_time": "2024-11-20T16:43:53.582368",
     "exception": false,
     "start_time": "2024-11-20T16:43:53.569852",
     "status": "completed"
    },
    "tags": []
   },
   "source": [
    "# Training"
   ]
  },
  {
   "cell_type": "code",
   "execution_count": 12,
   "id": "884ea46e",
   "metadata": {
    "execution": {
     "iopub.execute_input": "2024-11-20T16:43:53.610491Z",
     "iopub.status.busy": "2024-11-20T16:43:53.609355Z",
     "iopub.status.idle": "2024-11-20T16:43:53.616450Z",
     "shell.execute_reply": "2024-11-20T16:43:53.615237Z"
    },
    "papermill": {
     "duration": 0.023303,
     "end_time": "2024-11-20T16:43:53.618553",
     "exception": false,
     "start_time": "2024-11-20T16:43:53.595250",
     "status": "completed"
    },
    "tags": []
   },
   "outputs": [
    {
     "name": "stdout",
     "output_type": "stream",
     "text": [
      "/kaggle/working/RECsys_Challenge2024\n"
     ]
    }
   ],
   "source": [
    "%cd /kaggle/working/RECsys_Challenge2024/"
   ]
  },
  {
   "cell_type": "code",
   "execution_count": 13,
   "id": "6284f6e6",
   "metadata": {
    "execution": {
     "iopub.execute_input": "2024-11-20T16:43:53.647041Z",
     "iopub.status.busy": "2024-11-20T16:43:53.646128Z",
     "iopub.status.idle": "2024-11-20T16:43:56.572669Z",
     "shell.execute_reply": "2024-11-20T16:43:56.571554Z"
    },
    "papermill": {
     "duration": 2.943192,
     "end_time": "2024-11-20T16:43:56.574869",
     "exception": false,
     "start_time": "2024-11-20T16:43:53.631677",
     "status": "completed"
    },
    "tags": []
   },
   "outputs": [
    {
     "name": "stdout",
     "output_type": "stream",
     "text": [
      "Warning: 141 (0.39 %) of 35736 users have no sampled items\n",
      "EvaluatorHoldout: Ignoring 141 ( 0.4%) Users that have less than 1 test interactions\n"
     ]
    }
   ],
   "source": [
    "from Evaluation.Evaluator import EvaluatorHoldout\n",
    "from Data_manager.split_functions.split_train_validation_random_holdout import split_train_in_two_percentage_global_sample\n",
    "\n",
    "URM_train, URM_validation = split_train_in_two_percentage_global_sample(URM_all, train_percentage = 0.80)\n",
    "\n",
    "evaluator_validation = EvaluatorHoldout(URM_validation, cutoff_list=[10])"
   ]
  },
  {
   "cell_type": "markdown",
   "id": "f3064682",
   "metadata": {
    "papermill": {
     "duration": 0.012725,
     "end_time": "2024-11-20T16:43:56.600617",
     "exception": false,
     "start_time": "2024-11-20T16:43:56.587892",
     "status": "completed"
    },
    "tags": []
   },
   "source": [
    "## Import the best recommeders previously trained."
   ]
  },
  {
   "cell_type": "code",
   "execution_count": 14,
   "id": "9790d89f",
   "metadata": {
    "execution": {
     "iopub.execute_input": "2024-11-20T16:43:56.628531Z",
     "iopub.status.busy": "2024-11-20T16:43:56.627594Z",
     "iopub.status.idle": "2024-11-20T17:54:31.512611Z",
     "shell.execute_reply": "2024-11-20T17:54:31.511414Z"
    },
    "papermill": {
     "duration": 4234.901197,
     "end_time": "2024-11-20T17:54:31.514782",
     "exception": false,
     "start_time": "2024-11-20T16:43:56.613585",
     "status": "completed"
    },
    "tags": []
   },
   "outputs": [
    {
     "name": "stdout",
     "output_type": "stream",
     "text": [
      "ItemKNN_CFCBF_Hybrid Model - TRAINING with its best parameters.\n",
      "Similarity column 38121 (100.0%), 658.53 column/sec. Elapsed time 57.89 sec\n",
      "Training done in 58.568434sec.\n",
      "\n",
      "SLIMElasticNet Model - TRAINING with its best parameters.\n",
      "SLIMElasticNetRecommender: Processed 2732 ( 7.2%) in 5.00 min. Items per second: 9.10\n",
      "SLIMElasticNetRecommender: Processed 5292 (13.9%) in 10.00 min. Items per second: 8.82\n",
      "SLIMElasticNetRecommender: Processed 7987 (21.0%) in 15.00 min. Items per second: 8.87\n",
      "SLIMElasticNetRecommender: Processed 10648 (27.9%) in 20.00 min. Items per second: 8.87\n",
      "SLIMElasticNetRecommender: Processed 13296 (34.9%) in 25.00 min. Items per second: 8.86\n",
      "SLIMElasticNetRecommender: Processed 16061 (42.1%) in 30.00 min. Items per second: 8.92\n",
      "SLIMElasticNetRecommender: Processed 18818 (49.4%) in 35.00 min. Items per second: 8.96\n",
      "SLIMElasticNetRecommender: Processed 21558 (56.6%) in 40.01 min. Items per second: 8.98\n",
      "SLIMElasticNetRecommender: Processed 24376 (63.9%) in 45.01 min. Items per second: 9.03\n",
      "SLIMElasticNetRecommender: Processed 27279 (71.6%) in 50.01 min. Items per second: 9.09\n",
      "SLIMElasticNetRecommender: Processed 30013 (78.7%) in 55.01 min. Items per second: 9.09\n",
      "SLIMElasticNetRecommender: Processed 32843 (86.2%) in 1.00 hour. Items per second: 9.12\n",
      "SLIMElasticNetRecommender: Processed 35694 (93.6%) in 1.08 hour. Items per second: 9.15\n",
      "SLIMElasticNetRecommender: Processed 38121 (100.0%) in 1.15 hour. Items per second: 9.17\n",
      "Training done in 1.154687hour.\n",
      "\n",
      "RP3beta Model - TRAINING with its best parameters.\n",
      "RP3betaRecommender: Similarity column 38121 (100.0%), 2229.50 column/sec. Elapsed time 17.10 sec\n",
      "Training done in 18.240542sec.\n",
      "\n"
     ]
    }
   ],
   "source": [
    "from Recommenders.KNN.ItemKNN_CFCBF_Hybrid_Recommender import ItemKNN_CFCBF_Hybrid_Recommender\n",
    "from Recommenders.SLIM.SLIMElasticNetRecommender import SLIMElasticNetRecommender\n",
    "from Recommenders.GraphBased.RP3betaRecommender import RP3betaRecommender\n",
    "\n",
    "recommenders = {\n",
    "    \"ItemKNN_CFCBF_Hybrid\": ItemKNN_CFCBF_Hybrid_Recommender,\n",
    "    \"SLIMElasticNet\": SLIMElasticNetRecommender,\n",
    "    \"RP3beta\": RP3betaRecommender\n",
    "}\n",
    "\n",
    "loaded_recommenders = {}\n",
    "\n",
    "for recommender_name, recommender_class in recommenders.items():\n",
    "    \n",
    "    start_time = time.time()\n",
    "    \n",
    "    print(f\"{recommender_name} Model - TRAINING with its best parameters.\")\n",
    "    try:\n",
    "        recommender = recommender_class(URM_train)\n",
    "    except Exception as e:\n",
    "        recommender = recommender_class(URM_train, ICM_all)\n",
    "\n",
    "    # Extract best parameter values of the relative recommender model.\n",
    "    with open(f'TrainedModels/{recommender_name}Recommender/best_params_{recommender_name}.json', 'r') as best_params_json:\n",
    "            best_params = json.load(best_params_json)\n",
    "    \n",
    "    recommender.fit(**best_params)\n",
    "    \n",
    "    loaded_recommenders[recommender_name] = recommender\n",
    "    \n",
    "    new_time_value, new_time_unit = seconds_to_biggest_unit(time.time() - start_time)\n",
    "    print(\"Training done in {:2f}{}.\\n\".format(new_time_value, new_time_unit))"
   ]
  },
  {
   "cell_type": "code",
   "execution_count": 15,
   "id": "e47bbb0e",
   "metadata": {
    "execution": {
     "iopub.execute_input": "2024-11-20T17:54:31.545423Z",
     "iopub.status.busy": "2024-11-20T17:54:31.544465Z",
     "iopub.status.idle": "2024-11-20T17:54:31.553431Z",
     "shell.execute_reply": "2024-11-20T17:54:31.552648Z"
    },
    "papermill": {
     "duration": 0.02612,
     "end_time": "2024-11-20T17:54:31.555497",
     "exception": false,
     "start_time": "2024-11-20T17:54:31.529377",
     "status": "completed"
    },
    "tags": []
   },
   "outputs": [],
   "source": [
    "from Recommenders.Hybrid.LinearCombinationRecommender import LinearCombinationRecommender \n",
    "\n",
    "def objective_function_(optuna_trial):\n",
    "    \n",
    "    recommender_instance = LinearCombinationRecommender(URM_train, loaded_recommenders.values())\n",
    "    \n",
    "    norm = optuna_trial.suggest_categorical('norm', [1, 2, np.inf, -np.inf])\n",
    "    itemknn_weight = optuna_trial.suggest_float('itemknn_weight', 0.0, 1.0)\n",
    "    slim_weight = optuna_trial.suggest_float('slim_weight', 0.0, 1.0)\n",
    "    rp3beta_weight = optuna_trial.suggest_float('rp3beta_weight', 0.0, 1.0)\n",
    "\n",
    "    # Ensure the weights sum to 1 (Normalization)\n",
    "    total_weight = itemknn_weight + slim_weight + rp3beta_weight\n",
    "    itemknn_weight /= total_weight\n",
    "    slim_weight /= total_weight\n",
    "    rp3beta_weight /= total_weight\n",
    "    \n",
    "    full_hyperp = {\n",
    "                    \"weights\": [itemknn_weight, slim_weight,rp3beta_weight],\n",
    "                    \"norm\": norm\n",
    "                  }        \n",
    "    \n",
    "    recommender_instance.fit(**full_hyperp)\n",
    "    \n",
    "    result_df, _ = evaluator_validation.evaluateRecommender(recommender_instance)\n",
    "    \n",
    "    return result_df.loc[10][\"MAP\"]"
   ]
  },
  {
   "cell_type": "code",
   "execution_count": 16,
   "id": "e9d5e403",
   "metadata": {
    "_kg_hide-output": true,
    "execution": {
     "iopub.execute_input": "2024-11-20T17:54:31.585344Z",
     "iopub.status.busy": "2024-11-20T17:54:31.584674Z",
     "iopub.status.idle": "2024-11-20T19:14:34.166959Z",
     "shell.execute_reply": "2024-11-20T19:14:34.165664Z"
    },
    "papermill": {
     "duration": 4802.599379,
     "end_time": "2024-11-20T19:14:34.169301",
     "exception": false,
     "start_time": "2024-11-20T17:54:31.569922",
     "status": "completed"
    },
    "tags": []
   },
   "outputs": [
    {
     "name": "stderr",
     "output_type": "stream",
     "text": [
      "[I 2024-11-20 17:54:33,349] A new study created in RDB with name: hyperparameters_tuning_LinearCombination\n"
     ]
    },
    {
     "name": "stdout",
     "output_type": "stream",
     "text": [
      "LinearCombinationRecommender: Fit completed in 0.00 seconds.\n",
      "EvaluatorHoldout: Processed 35595 (100.0%) in 1.58 min. Users per second: 374\n"
     ]
    },
    {
     "name": "stderr",
     "output_type": "stream",
     "text": [
      "[I 2024-11-20 17:56:08,626] Trial 0 finished with value: 0.060810731175457905 and parameters: {'norm': 2, 'itemknn_weight': 0.04839102714240118, 'slim_weight': 0.4714419234144599, 'rp3beta_weight': 0.0007093145438766824}. Best is trial 0 with value: 0.060810731175457905.\n"
     ]
    },
    {
     "name": "stdout",
     "output_type": "stream",
     "text": [
      "LinearCombinationRecommender: Fit completed in 0.00 seconds.\n",
      "EvaluatorHoldout: Processed 35595 (100.0%) in 1.58 min. Users per second: 376\n"
     ]
    },
    {
     "name": "stderr",
     "output_type": "stream",
     "text": [
      "[I 2024-11-20 17:57:43,491] Trial 1 finished with value: 0.05822511856266403 and parameters: {'norm': 1, 'itemknn_weight': 0.22525755778879286, 'slim_weight': 0.592857769651083, 'rp3beta_weight': 0.26827303332013097}. Best is trial 0 with value: 0.060810731175457905.\n"
     ]
    },
    {
     "name": "stdout",
     "output_type": "stream",
     "text": [
      "LinearCombinationRecommender: Fit completed in 0.00 seconds.\n",
      "EvaluatorHoldout: Processed 35595 (100.0%) in 1.57 min. Users per second: 378\n"
     ]
    },
    {
     "name": "stderr",
     "output_type": "stream",
     "text": [
      "[I 2024-11-20 17:59:17,927] Trial 2 finished with value: 0.058320058997048375 and parameters: {'norm': -inf, 'itemknn_weight': 0.6432492946694525, 'slim_weight': 0.727266903400412, 'rp3beta_weight': 0.2102366253102811}. Best is trial 0 with value: 0.060810731175457905.\n"
     ]
    },
    {
     "name": "stdout",
     "output_type": "stream",
     "text": [
      "LinearCombinationRecommender: Fit completed in 0.00 seconds.\n",
      "EvaluatorHoldout: Processed 35595 (100.0%) in 1.57 min. Users per second: 378\n"
     ]
    },
    {
     "name": "stderr",
     "output_type": "stream",
     "text": [
      "[I 2024-11-20 18:00:52,340] Trial 3 finished with value: 0.055997240784217354 and parameters: {'norm': inf, 'itemknn_weight': 0.06934927351322939, 'slim_weight': 0.09799018494839873, 'rp3beta_weight': 0.7859203364350316}. Best is trial 0 with value: 0.060810731175457905.\n"
     ]
    },
    {
     "name": "stdout",
     "output_type": "stream",
     "text": [
      "LinearCombinationRecommender: Fit completed in 0.00 seconds.\n",
      "EvaluatorHoldout: Processed 35595 (100.0%) in 1.58 min. Users per second: 375\n"
     ]
    },
    {
     "name": "stderr",
     "output_type": "stream",
     "text": [
      "[I 2024-11-20 18:02:27,523] Trial 4 finished with value: 0.058477323148201775 and parameters: {'norm': -inf, 'itemknn_weight': 0.6101269650823264, 'slim_weight': 0.6886016364841502, 'rp3beta_weight': 0.46458669276509057}. Best is trial 0 with value: 0.060810731175457905.\n"
     ]
    },
    {
     "name": "stdout",
     "output_type": "stream",
     "text": [
      "LinearCombinationRecommender: Fit completed in 0.00 seconds.\n",
      "EvaluatorHoldout: Processed 35595 (100.0%) in 1.58 min. Users per second: 376\n"
     ]
    },
    {
     "name": "stderr",
     "output_type": "stream",
     "text": [
      "[I 2024-11-20 18:04:02,450] Trial 5 finished with value: 0.058894567856639254 and parameters: {'norm': inf, 'itemknn_weight': 0.19867309322400806, 'slim_weight': 0.45907636159417176, 'rp3beta_weight': 0.7302706572869135}. Best is trial 0 with value: 0.060810731175457905.\n"
     ]
    },
    {
     "name": "stdout",
     "output_type": "stream",
     "text": [
      "LinearCombinationRecommender: Fit completed in 0.00 seconds.\n",
      "EvaluatorHoldout: Processed 35595 (100.0%) in 1.59 min. Users per second: 374\n"
     ]
    },
    {
     "name": "stderr",
     "output_type": "stream",
     "text": [
      "[I 2024-11-20 18:05:37,795] Trial 6 finished with value: 0.05671849310028651 and parameters: {'norm': 1, 'itemknn_weight': 0.3288281380902458, 'slim_weight': 0.2731306785469324, 'rp3beta_weight': 0.6702151772171667}. Best is trial 0 with value: 0.060810731175457905.\n"
     ]
    },
    {
     "name": "stdout",
     "output_type": "stream",
     "text": [
      "LinearCombinationRecommender: Fit completed in 0.00 seconds.\n",
      "EvaluatorHoldout: Processed 35595 (100.0%) in 1.60 min. Users per second: 372\n"
     ]
    },
    {
     "name": "stderr",
     "output_type": "stream",
     "text": [
      "[I 2024-11-20 18:07:13,722] Trial 7 finished with value: 0.05976530166310854 and parameters: {'norm': 2, 'itemknn_weight': 0.29474547157778275, 'slim_weight': 0.8606555001429231, 'rp3beta_weight': 0.6191223914895924}. Best is trial 0 with value: 0.060810731175457905.\n"
     ]
    },
    {
     "name": "stdout",
     "output_type": "stream",
     "text": [
      "LinearCombinationRecommender: Fit completed in 0.00 seconds.\n",
      "EvaluatorHoldout: Processed 35595 (100.0%) in 1.59 min. Users per second: 374\n"
     ]
    },
    {
     "name": "stderr",
     "output_type": "stream",
     "text": [
      "[I 2024-11-20 18:08:49,031] Trial 8 finished with value: 0.06033128649689828 and parameters: {'norm': -inf, 'itemknn_weight': 0.1223527926685799, 'slim_weight': 0.5542971391971991, 'rp3beta_weight': 0.3715341243308009}. Best is trial 0 with value: 0.060810731175457905.\n"
     ]
    },
    {
     "name": "stdout",
     "output_type": "stream",
     "text": [
      "LinearCombinationRecommender: Fit completed in 0.00 seconds.\n",
      "EvaluatorHoldout: Processed 35595 (100.0%) in 1.58 min. Users per second: 375\n"
     ]
    },
    {
     "name": "stderr",
     "output_type": "stream",
     "text": [
      "[I 2024-11-20 18:10:24,114] Trial 9 finished with value: 0.05819795784587005 and parameters: {'norm': -inf, 'itemknn_weight': 0.3925220881630357, 'slim_weight': 0.3722862017144426, 'rp3beta_weight': 0.4800444293438646}. Best is trial 0 with value: 0.060810731175457905.\n"
     ]
    },
    {
     "name": "stdout",
     "output_type": "stream",
     "text": [
      "LinearCombinationRecommender: Fit completed in 0.00 seconds.\n",
      "EvaluatorHoldout: Processed 35595 (100.0%) in 1.59 min. Users per second: 373\n"
     ]
    },
    {
     "name": "stderr",
     "output_type": "stream",
     "text": [
      "[I 2024-11-20 18:11:59,667] Trial 10 finished with value: 0.051707776194711216 and parameters: {'norm': 2, 'itemknn_weight': 0.9537487379130569, 'slim_weight': 0.017684562202038956, 'rp3beta_weight': 0.02707788307021985}. Best is trial 0 with value: 0.060810731175457905.\n"
     ]
    },
    {
     "name": "stdout",
     "output_type": "stream",
     "text": [
      "LinearCombinationRecommender: Fit completed in 0.00 seconds.\n",
      "EvaluatorHoldout: Processed 35595 (100.0%) in 1.60 min. Users per second: 371\n"
     ]
    },
    {
     "name": "stderr",
     "output_type": "stream",
     "text": [
      "[I 2024-11-20 18:13:35,755] Trial 11 finished with value: 0.06086529229849746 and parameters: {'norm': 2, 'itemknn_weight': 0.014030163589050293, 'slim_weight': 0.2498981484521517, 'rp3beta_weight': 0.02854856469446654}. Best is trial 11 with value: 0.06086529229849746.\n"
     ]
    },
    {
     "name": "stdout",
     "output_type": "stream",
     "text": [
      "LinearCombinationRecommender: Fit completed in 0.00 seconds.\n",
      "EvaluatorHoldout: Processed 35595 (100.0%) in 1.59 min. Users per second: 372\n"
     ]
    },
    {
     "name": "stderr",
     "output_type": "stream",
     "text": [
      "[I 2024-11-20 18:15:11,513] Trial 12 finished with value: 0.06061746009449187 and parameters: {'norm': 2, 'itemknn_weight': 0.009501255383778903, 'slim_weight': 0.23065749871262797, 'rp3beta_weight': 0.006232668788242485}. Best is trial 11 with value: 0.06086529229849746.\n"
     ]
    },
    {
     "name": "stdout",
     "output_type": "stream",
     "text": [
      "LinearCombinationRecommender: Fit completed in 0.00 seconds.\n",
      "EvaluatorHoldout: Processed 35595 (100.0%) in 1.60 min. Users per second: 370\n"
     ]
    },
    {
     "name": "stderr",
     "output_type": "stream",
     "text": [
      "[I 2024-11-20 18:16:47,993] Trial 13 finished with value: 0.059933077590260536 and parameters: {'norm': 2, 'itemknn_weight': 0.012325802942820496, 'slim_weight': 0.2334323577409061, 'rp3beta_weight': 0.14223950318680356}. Best is trial 11 with value: 0.06086529229849746.\n"
     ]
    },
    {
     "name": "stdout",
     "output_type": "stream",
     "text": [
      "LinearCombinationRecommender: Fit completed in 0.00 seconds.\n",
      "EvaluatorHoldout: Processed 35595 (100.0%) in 1.61 min. Users per second: 368\n"
     ]
    },
    {
     "name": "stderr",
     "output_type": "stream",
     "text": [
      "[I 2024-11-20 18:18:24,822] Trial 14 finished with value: 0.057561243441983156 and parameters: {'norm': 2, 'itemknn_weight': 0.5074426568790298, 'slim_weight': 0.3885971673558575, 'rp3beta_weight': 0.13417243981153493}. Best is trial 11 with value: 0.06086529229849746.\n"
     ]
    },
    {
     "name": "stdout",
     "output_type": "stream",
     "text": [
      "LinearCombinationRecommender: Fit completed in 0.00 seconds.\n",
      "EvaluatorHoldout: Processed 35595 (100.0%) in 1.60 min. Users per second: 370\n"
     ]
    },
    {
     "name": "stderr",
     "output_type": "stream",
     "text": [
      "[I 2024-11-20 18:20:01,195] Trial 15 finished with value: 0.05853918197891875 and parameters: {'norm': 2, 'itemknn_weight': 0.837115490230956, 'slim_weight': 0.93434138058445, 'rp3beta_weight': 0.3195602688401754}. Best is trial 11 with value: 0.06086529229849746.\n"
     ]
    },
    {
     "name": "stdout",
     "output_type": "stream",
     "text": [
      "LinearCombinationRecommender: Fit completed in 0.00 seconds.\n",
      "EvaluatorHoldout: Processed 35595 (100.0%) in 1.61 min. Users per second: 369\n"
     ]
    },
    {
     "name": "stderr",
     "output_type": "stream",
     "text": [
      "[I 2024-11-20 18:21:37,942] Trial 16 finished with value: 0.056723750660537586 and parameters: {'norm': 2, 'itemknn_weight': 0.1754080009530517, 'slim_weight': 0.14325658091653737, 'rp3beta_weight': 0.8892579766226341}. Best is trial 11 with value: 0.06086529229849746.\n"
     ]
    },
    {
     "name": "stdout",
     "output_type": "stream",
     "text": [
      "LinearCombinationRecommender: Fit completed in 0.00 seconds.\n",
      "EvaluatorHoldout: Processed 35595 (100.0%) in 1.60 min. Users per second: 370\n"
     ]
    },
    {
     "name": "stderr",
     "output_type": "stream",
     "text": [
      "[I 2024-11-20 18:23:14,304] Trial 17 finished with value: 0.057011821706720714 and parameters: {'norm': 2, 'itemknn_weight': 0.4706864512396022, 'slim_weight': 0.3398207225653512, 'rp3beta_weight': 0.05073677652145462}. Best is trial 11 with value: 0.06086529229849746.\n"
     ]
    },
    {
     "name": "stdout",
     "output_type": "stream",
     "text": [
      "LinearCombinationRecommender: Fit completed in 0.00 seconds.\n",
      "EvaluatorHoldout: Processed 35595 (100.0%) in 1.59 min. Users per second: 373\n"
     ]
    },
    {
     "name": "stderr",
     "output_type": "stream",
     "text": [
      "[I 2024-11-20 18:24:49,956] Trial 18 finished with value: 0.05878701752742864 and parameters: {'norm': 1, 'itemknn_weight': 0.13533043050929272, 'slim_weight': 0.47570952386194604, 'rp3beta_weight': 0.15044222411566976}. Best is trial 11 with value: 0.06086529229849746.\n"
     ]
    },
    {
     "name": "stdout",
     "output_type": "stream",
     "text": [
      "LinearCombinationRecommender: Fit completed in 0.00 seconds.\n",
      "EvaluatorHoldout: Processed 35595 (100.0%) in 1.59 min. Users per second: 372\n"
     ]
    },
    {
     "name": "stderr",
     "output_type": "stream",
     "text": [
      "[I 2024-11-20 18:26:25,725] Trial 19 finished with value: 0.05901979165969701 and parameters: {'norm': inf, 'itemknn_weight': 0.27675693390347544, 'slim_weight': 0.6566264603767473, 'rp3beta_weight': 0.970040474204904}. Best is trial 11 with value: 0.06086529229849746.\n"
     ]
    },
    {
     "name": "stdout",
     "output_type": "stream",
     "text": [
      "LinearCombinationRecommender: Fit completed in 0.00 seconds.\n",
      "EvaluatorHoldout: Processed 35595 (100.0%) in 1.60 min. Users per second: 372\n"
     ]
    },
    {
     "name": "stderr",
     "output_type": "stream",
     "text": [
      "[I 2024-11-20 18:28:01,694] Trial 20 finished with value: 0.05779355603270272 and parameters: {'norm': 2, 'itemknn_weight': 0.07492554296623087, 'slim_weight': 0.14940735065595526, 'rp3beta_weight': 0.39479725097296814}. Best is trial 11 with value: 0.06086529229849746.\n"
     ]
    },
    {
     "name": "stdout",
     "output_type": "stream",
     "text": [
      "LinearCombinationRecommender: Fit completed in 0.00 seconds.\n",
      "EvaluatorHoldout: Processed 35595 (100.0%) in 1.61 min. Users per second: 369\n"
     ]
    },
    {
     "name": "stderr",
     "output_type": "stream",
     "text": [
      "[I 2024-11-20 18:29:38,270] Trial 21 finished with value: 0.0607023580982689 and parameters: {'norm': 2, 'itemknn_weight': 0.004761004644580478, 'slim_weight': 0.28351335722161514, 'rp3beta_weight': 0.0313888491500785}. Best is trial 11 with value: 0.06086529229849746.\n"
     ]
    },
    {
     "name": "stdout",
     "output_type": "stream",
     "text": [
      "LinearCombinationRecommender: Fit completed in 0.00 seconds.\n",
      "EvaluatorHoldout: Processed 35595 (100.0%) in 1.61 min. Users per second: 368\n"
     ]
    },
    {
     "name": "stderr",
     "output_type": "stream",
     "text": [
      "[I 2024-11-20 18:31:15,109] Trial 22 finished with value: 0.06056326129271596 and parameters: {'norm': 2, 'itemknn_weight': 0.039623988106817054, 'slim_weight': 0.3026874116141727, 'rp3beta_weight': 0.11332084144763657}. Best is trial 11 with value: 0.06086529229849746.\n"
     ]
    },
    {
     "name": "stdout",
     "output_type": "stream",
     "text": [
      "LinearCombinationRecommender: Fit completed in 0.00 seconds.\n",
      "EvaluatorHoldout: Processed 35595 (100.0%) in 1.61 min. Users per second: 368\n"
     ]
    },
    {
     "name": "stderr",
     "output_type": "stream",
     "text": [
      "[I 2024-11-20 18:32:52,122] Trial 23 finished with value: 0.06016018947729697 and parameters: {'norm': 2, 'itemknn_weight': 0.12779007982443932, 'slim_weight': 0.4366709865082766, 'rp3beta_weight': 0.2390486067205928}. Best is trial 11 with value: 0.06086529229849746.\n"
     ]
    },
    {
     "name": "stdout",
     "output_type": "stream",
     "text": [
      "LinearCombinationRecommender: Fit completed in 0.00 seconds.\n",
      "EvaluatorHoldout: Processed 35595 (100.0%) in 1.61 min. Users per second: 369\n"
     ]
    },
    {
     "name": "stderr",
     "output_type": "stream",
     "text": [
      "[I 2024-11-20 18:34:28,908] Trial 24 finished with value: 0.0603195985703345 and parameters: {'norm': 2, 'itemknn_weight': 0.1931475575984507, 'slim_weight': 0.5453611536575308, 'rp3beta_weight': 0.004611451287437451}. Best is trial 11 with value: 0.06086529229849746.\n"
     ]
    },
    {
     "name": "stdout",
     "output_type": "stream",
     "text": [
      "LinearCombinationRecommender: Fit completed in 0.00 seconds.\n",
      "EvaluatorHoldout: Processed 35595 (100.0%) in 1.61 min. Users per second: 368\n"
     ]
    },
    {
     "name": "stderr",
     "output_type": "stream",
     "text": [
      "[I 2024-11-20 18:36:05,799] Trial 25 finished with value: 0.060497942015217764 and parameters: {'norm': 2, 'itemknn_weight': 0.0028501380735016296, 'slim_weight': 0.2592776476942067, 'rp3beta_weight': 0.07759097979828522}. Best is trial 11 with value: 0.06086529229849746.\n"
     ]
    },
    {
     "name": "stdout",
     "output_type": "stream",
     "text": [
      "LinearCombinationRecommender: Fit completed in 0.00 seconds.\n",
      "EvaluatorHoldout: Processed 35595 (100.0%) in 1.60 min. Users per second: 371\n"
     ]
    },
    {
     "name": "stderr",
     "output_type": "stream",
     "text": [
      "[I 2024-11-20 18:37:41,885] Trial 26 finished with value: 0.05517106580422898 and parameters: {'norm': 2, 'itemknn_weight': 0.3849923500261588, 'slim_weight': 0.02159680207271103, 'rp3beta_weight': 0.22167915734932359}. Best is trial 11 with value: 0.06086529229849746.\n"
     ]
    },
    {
     "name": "stdout",
     "output_type": "stream",
     "text": [
      "LinearCombinationRecommender: Fit completed in 0.00 seconds.\n",
      "EvaluatorHoldout: Processed 35595 (100.0%) in 1.60 min. Users per second: 370\n"
     ]
    },
    {
     "name": "stderr",
     "output_type": "stream",
     "text": [
      "[I 2024-11-20 18:39:18,188] Trial 27 finished with value: 0.05889498591963642 and parameters: {'norm': 1, 'itemknn_weight': 0.10024588571777371, 'slim_weight': 0.40950444829112664, 'rp3beta_weight': 0.16699354376726194}. Best is trial 11 with value: 0.06086529229849746.\n"
     ]
    },
    {
     "name": "stdout",
     "output_type": "stream",
     "text": [
      "LinearCombinationRecommender: Fit completed in 0.00 seconds.\n",
      "EvaluatorHoldout: Processed 35595 (100.0%) in 1.60 min. Users per second: 371\n"
     ]
    },
    {
     "name": "stderr",
     "output_type": "stream",
     "text": [
      "[I 2024-11-20 18:40:54,440] Trial 28 finished with value: 0.057788195907663084 and parameters: {'norm': inf, 'itemknn_weight': 0.2438692705595471, 'slim_weight': 0.17576873739985766, 'rp3beta_weight': 0.5488531247546857}. Best is trial 11 with value: 0.06086529229849746.\n"
     ]
    },
    {
     "name": "stdout",
     "output_type": "stream",
     "text": [
      "LinearCombinationRecommender: Fit completed in 0.00 seconds.\n",
      "EvaluatorHoldout: Processed 35595 (100.0%) in 1.59 min. Users per second: 372\n"
     ]
    },
    {
     "name": "stderr",
     "output_type": "stream",
     "text": [
      "[I 2024-11-20 18:42:30,300] Trial 29 finished with value: 0.05608688686880674 and parameters: {'norm': 1, 'itemknn_weight': 0.6565455772626673, 'slim_weight': 0.6233093927428501, 'rp3beta_weight': 0.3206197674651893}. Best is trial 11 with value: 0.06086529229849746.\n"
     ]
    },
    {
     "name": "stdout",
     "output_type": "stream",
     "text": [
      "LinearCombinationRecommender: Fit completed in 0.00 seconds.\n",
      "EvaluatorHoldout: Processed 35595 (100.0%) in 1.60 min. Users per second: 371\n"
     ]
    },
    {
     "name": "stderr",
     "output_type": "stream",
     "text": [
      "[I 2024-11-20 18:44:06,365] Trial 30 finished with value: 0.05839227129724196 and parameters: {'norm': 2, 'itemknn_weight': 0.7405046071423772, 'slim_weight': 0.7827750455200508, 'rp3beta_weight': 0.29437465606638913}. Best is trial 11 with value: 0.06086529229849746.\n"
     ]
    },
    {
     "name": "stdout",
     "output_type": "stream",
     "text": [
      "LinearCombinationRecommender: Fit completed in 0.00 seconds.\n",
      "EvaluatorHoldout: Processed 35595 (100.0%) in 1.60 min. Users per second: 370\n"
     ]
    },
    {
     "name": "stderr",
     "output_type": "stream",
     "text": [
      "[I 2024-11-20 18:45:42,827] Trial 31 finished with value: 0.06055042731612309 and parameters: {'norm': 2, 'itemknn_weight': 0.0024980125372562577, 'slim_weight': 0.19870530876374437, 'rp3beta_weight': 0.009778034738781048}. Best is trial 11 with value: 0.06086529229849746.\n"
     ]
    },
    {
     "name": "stdout",
     "output_type": "stream",
     "text": [
      "LinearCombinationRecommender: Fit completed in 0.00 seconds.\n",
      "EvaluatorHoldout: Processed 35595 (100.0%) in 1.61 min. Users per second: 368\n"
     ]
    },
    {
     "name": "stderr",
     "output_type": "stream",
     "text": [
      "[I 2024-11-20 18:47:19,666] Trial 32 finished with value: 0.06052371587769664 and parameters: {'norm': 2, 'itemknn_weight': 0.08670751927554081, 'slim_weight': 0.3013076084257233, 'rp3beta_weight': 0.06819312007514067}. Best is trial 11 with value: 0.06086529229849746.\n"
     ]
    },
    {
     "name": "stdout",
     "output_type": "stream",
     "text": [
      "LinearCombinationRecommender: Fit completed in 0.00 seconds.\n",
      "EvaluatorHoldout: Processed 35595 (100.0%) in 1.61 min. Users per second: 370\n"
     ]
    },
    {
     "name": "stderr",
     "output_type": "stream",
     "text": [
      "[I 2024-11-20 18:48:56,185] Trial 33 finished with value: 0.05862588935934724 and parameters: {'norm': 2, 'itemknn_weight': 0.058227592646589055, 'slim_weight': 0.0670588305927505, 'rp3beta_weight': 0.08148950146663102}. Best is trial 11 with value: 0.06086529229849746.\n"
     ]
    },
    {
     "name": "stdout",
     "output_type": "stream",
     "text": [
      "LinearCombinationRecommender: Fit completed in 0.00 seconds.\n",
      "EvaluatorHoldout: Processed 35595 (100.0%) in 1.60 min. Users per second: 371\n"
     ]
    },
    {
     "name": "stderr",
     "output_type": "stream",
     "text": [
      "[I 2024-11-20 18:50:32,211] Trial 34 finished with value: 0.05967213270099705 and parameters: {'norm': -inf, 'itemknn_weight': 0.17336528159694492, 'slim_weight': 0.33277580209456875, 'rp3beta_weight': 0.19522864633481918}. Best is trial 11 with value: 0.06086529229849746.\n"
     ]
    },
    {
     "name": "stdout",
     "output_type": "stream",
     "text": [
      "LinearCombinationRecommender: Fit completed in 0.00 seconds.\n",
      "EvaluatorHoldout: Processed 35595 (100.0%) in 1.61 min. Users per second: 369\n"
     ]
    },
    {
     "name": "stderr",
     "output_type": "stream",
     "text": [
      "[I 2024-11-20 18:52:08,800] Trial 35 finished with value: 0.06086073485441203 and parameters: {'norm': 2, 'itemknn_weight': 0.06280384396171663, 'slim_weight': 0.5170879718118307, 'rp3beta_weight': 0.10134211027680617}. Best is trial 11 with value: 0.06086529229849746.\n"
     ]
    },
    {
     "name": "stdout",
     "output_type": "stream",
     "text": [
      "LinearCombinationRecommender: Fit completed in 0.00 seconds.\n",
      "EvaluatorHoldout: Processed 35595 (100.0%) in 1.60 min. Users per second: 370\n"
     ]
    },
    {
     "name": "stderr",
     "output_type": "stream",
     "text": [
      "[I 2024-11-20 18:53:45,145] Trial 36 finished with value: 0.06021979188266408 and parameters: {'norm': inf, 'itemknn_weight': 0.250894177663891, 'slim_weight': 0.5306055041441866, 'rp3beta_weight': 0.08976795561099693}. Best is trial 11 with value: 0.06086529229849746.\n"
     ]
    },
    {
     "name": "stdout",
     "output_type": "stream",
     "text": [
      "LinearCombinationRecommender: Fit completed in 0.00 seconds.\n",
      "EvaluatorHoldout: Processed 35595 (100.0%) in 1.61 min. Users per second: 369\n"
     ]
    },
    {
     "name": "stderr",
     "output_type": "stream",
     "text": [
      "[I 2024-11-20 18:55:21,731] Trial 37 finished with value: 0.06029318925210055 and parameters: {'norm': 2, 'itemknn_weight': 0.15395089481943056, 'slim_weight': 0.49297289962576035, 'rp3beta_weight': 0.19710994678385246}. Best is trial 11 with value: 0.06086529229849746.\n"
     ]
    },
    {
     "name": "stdout",
     "output_type": "stream",
     "text": [
      "LinearCombinationRecommender: Fit completed in 0.00 seconds.\n",
      "EvaluatorHoldout: Processed 35595 (100.0%) in 1.61 min. Users per second: 369\n"
     ]
    },
    {
     "name": "stderr",
     "output_type": "stream",
     "text": [
      "[I 2024-11-20 18:56:58,424] Trial 38 finished with value: 0.0607301486966448 and parameters: {'norm': -inf, 'itemknn_weight': 0.07383032550605031, 'slim_weight': 0.7186290736528992, 'rp3beta_weight': 0.26645252396900343}. Best is trial 11 with value: 0.06086529229849746.\n"
     ]
    },
    {
     "name": "stdout",
     "output_type": "stream",
     "text": [
      "LinearCombinationRecommender: Fit completed in 0.00 seconds.\n",
      "EvaluatorHoldout: Processed 35595 (100.0%) in 1.61 min. Users per second: 368\n"
     ]
    },
    {
     "name": "stderr",
     "output_type": "stream",
     "text": [
      "[I 2024-11-20 18:58:35,287] Trial 39 finished with value: 0.060017145042216856 and parameters: {'norm': -inf, 'itemknn_weight': 0.3573376301766952, 'slim_weight': 0.8408266101441054, 'rp3beta_weight': 0.25806065175521287}. Best is trial 11 with value: 0.06086529229849746.\n"
     ]
    },
    {
     "name": "stdout",
     "output_type": "stream",
     "text": [
      "LinearCombinationRecommender: Fit completed in 0.00 seconds.\n",
      "EvaluatorHoldout: Processed 35595 (100.0%) in 1.60 min. Users per second: 370\n"
     ]
    },
    {
     "name": "stderr",
     "output_type": "stream",
     "text": [
      "[I 2024-11-20 19:00:11,633] Trial 40 finished with value: 0.06009771971718713 and parameters: {'norm': -inf, 'itemknn_weight': 0.23227070703550512, 'slim_weight': 0.6754060106473809, 'rp3beta_weight': 0.4208955675603838}. Best is trial 11 with value: 0.06086529229849746.\n"
     ]
    },
    {
     "name": "stdout",
     "output_type": "stream",
     "text": [
      "LinearCombinationRecommender: Fit completed in 0.00 seconds.\n",
      "EvaluatorHoldout: Processed 35595 (100.0%) in 1.59 min. Users per second: 373\n"
     ]
    },
    {
     "name": "stderr",
     "output_type": "stream",
     "text": [
      "[I 2024-11-20 19:01:47,215] Trial 41 finished with value: 0.06092930164527146 and parameters: {'norm': -inf, 'itemknn_weight': 0.07246307620697619, 'slim_weight': 0.7505575301741138, 'rp3beta_weight': 0.11003777987867452}. Best is trial 41 with value: 0.06092930164527146.\n"
     ]
    },
    {
     "name": "stdout",
     "output_type": "stream",
     "text": [
      "LinearCombinationRecommender: Fit completed in 0.00 seconds.\n",
      "EvaluatorHoldout: Processed 35595 (100.0%) in 1.60 min. Users per second: 372\n"
     ]
    },
    {
     "name": "stderr",
     "output_type": "stream",
     "text": [
      "[I 2024-11-20 19:03:23,139] Trial 42 finished with value: 0.06094151465895933 and parameters: {'norm': -inf, 'itemknn_weight': 0.07597305000217477, 'slim_weight': 0.7740825395544235, 'rp3beta_weight': 0.12494359026821118}. Best is trial 42 with value: 0.06094151465895933.\n"
     ]
    },
    {
     "name": "stdout",
     "output_type": "stream",
     "text": [
      "LinearCombinationRecommender: Fit completed in 0.00 seconds.\n",
      "EvaluatorHoldout: Processed 35595 (100.0%) in 1.59 min. Users per second: 372\n"
     ]
    },
    {
     "name": "stderr",
     "output_type": "stream",
     "text": [
      "[I 2024-11-20 19:04:58,921] Trial 43 finished with value: 0.06089599818950693 and parameters: {'norm': -inf, 'itemknn_weight': 0.11362906757204286, 'slim_weight': 0.7847958489036125, 'rp3beta_weight': 0.1120211269012182}. Best is trial 42 with value: 0.06094151465895933.\n"
     ]
    },
    {
     "name": "stdout",
     "output_type": "stream",
     "text": [
      "LinearCombinationRecommender: Fit completed in 0.00 seconds.\n",
      "EvaluatorHoldout: Processed 35595 (100.0%) in 1.59 min. Users per second: 372\n"
     ]
    },
    {
     "name": "stderr",
     "output_type": "stream",
     "text": [
      "[I 2024-11-20 19:06:34,782] Trial 44 finished with value: 0.06092937745402824 and parameters: {'norm': -inf, 'itemknn_weight': 0.11227313914029693, 'slim_weight': 0.9811544035321462, 'rp3beta_weight': 0.17201492528487697}. Best is trial 42 with value: 0.06094151465895933.\n"
     ]
    },
    {
     "name": "stdout",
     "output_type": "stream",
     "text": [
      "LinearCombinationRecommender: Fit completed in 0.00 seconds.\n",
      "EvaluatorHoldout: Processed 35595 (100.0%) in 1.59 min. Users per second: 373\n"
     ]
    },
    {
     "name": "stderr",
     "output_type": "stream",
     "text": [
      "[I 2024-11-20 19:08:10,513] Trial 45 finished with value: 0.06033771240387151 and parameters: {'norm': -inf, 'itemknn_weight': 0.31464209744592553, 'slim_weight': 0.9813471156211333, 'rp3beta_weight': 0.17420963601259967}. Best is trial 42 with value: 0.06094151465895933.\n"
     ]
    },
    {
     "name": "stdout",
     "output_type": "stream",
     "text": [
      "LinearCombinationRecommender: Fit completed in 0.00 seconds.\n",
      "EvaluatorHoldout: Processed 35595 (100.0%) in 1.60 min. Users per second: 371\n"
     ]
    },
    {
     "name": "stderr",
     "output_type": "stream",
     "text": [
      "[I 2024-11-20 19:09:46,660] Trial 46 finished with value: 0.06090891354903005 and parameters: {'norm': -inf, 'itemknn_weight': 0.11504636796860238, 'slim_weight': 0.8856282195083748, 'rp3beta_weight': 0.13171548217302698}. Best is trial 42 with value: 0.06094151465895933.\n"
     ]
    },
    {
     "name": "stdout",
     "output_type": "stream",
     "text": [
      "LinearCombinationRecommender: Fit completed in 0.00 seconds.\n",
      "EvaluatorHoldout: Processed 35595 (100.0%) in 1.60 min. Users per second: 370\n"
     ]
    },
    {
     "name": "stderr",
     "output_type": "stream",
     "text": [
      "[I 2024-11-20 19:11:23,152] Trial 47 finished with value: 0.06037430462188024 and parameters: {'norm': -inf, 'itemknn_weight': 0.20261575704540807, 'slim_weight': 0.8862987832477116, 'rp3beta_weight': 0.563001492042273}. Best is trial 42 with value: 0.06094151465895933.\n"
     ]
    },
    {
     "name": "stdout",
     "output_type": "stream",
     "text": [
      "LinearCombinationRecommender: Fit completed in 0.00 seconds.\n",
      "EvaluatorHoldout: Processed 35595 (100.0%) in 1.59 min. Users per second: 373\n"
     ]
    },
    {
     "name": "stderr",
     "output_type": "stream",
     "text": [
      "[I 2024-11-20 19:12:58,845] Trial 48 finished with value: 0.06067225310314076 and parameters: {'norm': -inf, 'itemknn_weight': 0.1191787100928837, 'slim_weight': 0.7781325191771746, 'rp3beta_weight': 0.3484640644536699}. Best is trial 42 with value: 0.06094151465895933.\n"
     ]
    },
    {
     "name": "stdout",
     "output_type": "stream",
     "text": [
      "LinearCombinationRecommender: Fit completed in 0.00 seconds.\n",
      "EvaluatorHoldout: Processed 35595 (100.0%) in 1.59 min. Users per second: 374\n"
     ]
    },
    {
     "name": "stderr",
     "output_type": "stream",
     "text": [
      "[I 2024-11-20 19:14:34,162] Trial 49 finished with value: 0.060776465617382744 and parameters: {'norm': -inf, 'itemknn_weight': 0.15082913221236485, 'slim_weight': 0.8158840353186733, 'rp3beta_weight': 0.1325839762190068}. Best is trial 42 with value: 0.06094151465895933.\n"
     ]
    }
   ],
   "source": [
    "if config['tune_parameters']:\n",
    "    \n",
    "    optuna_study = optuna.create_study(direction='maximize', study_name=f'hyperparameters_tuning_{config[\"model\"]}',\n",
    "                                storage=f'sqlite:///{config[\"database_path\"]}', load_if_exists=True)\n",
    "\n",
    "    optuna_study.optimize(objective_function_, n_trials=50)"
   ]
  },
  {
   "cell_type": "markdown",
   "id": "bc0aeeca",
   "metadata": {
    "papermill": {
     "duration": 0.022427,
     "end_time": "2024-11-20T19:14:34.213731",
     "exception": false,
     "start_time": "2024-11-20T19:14:34.191304",
     "status": "completed"
    },
    "tags": []
   },
   "source": [
    "## Some optuna visualizations on recommender parameters"
   ]
  },
  {
   "cell_type": "code",
   "execution_count": 17,
   "id": "bc665d5a",
   "metadata": {
    "execution": {
     "iopub.execute_input": "2024-11-20T19:14:34.258969Z",
     "iopub.status.busy": "2024-11-20T19:14:34.258566Z",
     "iopub.status.idle": "2024-11-20T19:14:35.423262Z",
     "shell.execute_reply": "2024-11-20T19:14:35.422294Z"
    },
    "papermill": {
     "duration": 1.1901,
     "end_time": "2024-11-20T19:14:35.425611",
     "exception": false,
     "start_time": "2024-11-20T19:14:34.235511",
     "status": "completed"
    },
    "tags": []
   },
   "outputs": [
    {
     "data": {
      "text/html": [
       "        <script type=\"text/javascript\">\n",
       "        window.PlotlyConfig = {MathJaxConfig: 'local'};\n",
       "        if (window.MathJax && window.MathJax.Hub && window.MathJax.Hub.Config) {window.MathJax.Hub.Config({SVG: {font: \"STIX-Web\"}});}\n",
       "        if (typeof require !== 'undefined') {\n",
       "        require.undef(\"plotly\");\n",
       "        requirejs.config({\n",
       "            paths: {\n",
       "                'plotly': ['https://cdn.plot.ly/plotly-2.32.0.min']\n",
       "            }\n",
       "        });\n",
       "        require(['plotly'], function(Plotly) {\n",
       "            window._Plotly = Plotly;\n",
       "        });\n",
       "        }\n",
       "        </script>\n",
       "        "
      ]
     },
     "metadata": {},
     "output_type": "display_data"
    },
    {
     "data": {
      "text/html": [
       "<div>                            <div id=\"c9214b39-3db5-4bcc-9805-069930ce55f2\" class=\"plotly-graph-div\" style=\"height:525px; width:1200px;\"></div>            <script type=\"text/javascript\">                require([\"plotly\"], function(Plotly) {                    window.PLOTLYENV=window.PLOTLYENV || {};                                    if (document.getElementById(\"c9214b39-3db5-4bcc-9805-069930ce55f2\")) {                    Plotly.newPlot(                        \"c9214b39-3db5-4bcc-9805-069930ce55f2\",                        [{\"marker\":{\"color\":[0,1,2,3,4,5,6,7,8,9,10,11,12,13,14,15,16,17,18,19,20,21,22,23,24,25,26,27,28,29,30,31,32,33,34,35,36,37,38,39,40,41,42,43,44,45,46,47,48,49],\"colorbar\":{\"title\":{\"text\":\"Trial\"},\"x\":1.0,\"xpad\":40},\"colorscale\":[[0.0,\"rgb(247,251,255)\"],[0.125,\"rgb(222,235,247)\"],[0.25,\"rgb(198,219,239)\"],[0.375,\"rgb(158,202,225)\"],[0.5,\"rgb(107,174,214)\"],[0.625,\"rgb(66,146,198)\"],[0.75,\"rgb(33,113,181)\"],[0.875,\"rgb(8,81,156)\"],[1.0,\"rgb(8,48,107)\"]],\"line\":{\"color\":\"Grey\",\"width\":0.5},\"showscale\":true},\"mode\":\"markers\",\"name\":\"Feasible Trial\",\"showlegend\":false,\"x\":[0.04839102714240118,0.22525755778879286,0.6432492946694525,0.06934927351322939,0.6101269650823264,0.19867309322400806,0.3288281380902458,0.29474547157778275,0.1223527926685799,0.3925220881630357,0.9537487379130569,0.014030163589050293,0.009501255383778903,0.012325802942820496,0.5074426568790298,0.837115490230956,0.1754080009530517,0.4706864512396022,0.13533043050929272,0.27675693390347544,0.07492554296623087,0.004761004644580478,0.039623988106817054,0.12779007982443932,0.1931475575984507,0.0028501380735016296,0.3849923500261588,0.10024588571777371,0.2438692705595471,0.6565455772626673,0.7405046071423772,0.0024980125372562577,0.08670751927554081,0.058227592646589055,0.17336528159694492,0.06280384396171663,0.250894177663891,0.15395089481943056,0.07383032550605031,0.3573376301766952,0.23227070703550512,0.07246307620697619,0.07597305000217477,0.11362906757204286,0.11227313914029693,0.31464209744592553,0.11504636796860238,0.20261575704540807,0.1191787100928837,0.15082913221236485],\"y\":[0.060810731175457905,0.05822511856266403,0.058320058997048375,0.055997240784217354,0.058477323148201775,0.058894567856639254,0.05671849310028651,0.05976530166310854,0.06033128649689828,0.05819795784587005,0.051707776194711216,0.06086529229849746,0.06061746009449187,0.059933077590260536,0.057561243441983156,0.05853918197891875,0.056723750660537586,0.057011821706720714,0.05878701752742864,0.05901979165969701,0.05779355603270272,0.0607023580982689,0.06056326129271596,0.06016018947729697,0.0603195985703345,0.060497942015217764,0.05517106580422898,0.05889498591963642,0.057788195907663084,0.05608688686880674,0.05839227129724196,0.06055042731612309,0.06052371587769664,0.05862588935934724,0.05967213270099705,0.06086073485441203,0.06021979188266408,0.06029318925210055,0.0607301486966448,0.060017145042216856,0.06009771971718713,0.06092930164527146,0.06094151465895933,0.06089599818950693,0.06092937745402824,0.06033771240387151,0.06090891354903005,0.06037430462188024,0.06067225310314076,0.060776465617382744],\"type\":\"scatter\",\"xaxis\":\"x\",\"yaxis\":\"y\"},{\"marker\":{\"color\":[0,1,2,3,4,5,6,7,8,9,10,11,12,13,14,15,16,17,18,19,20,21,22,23,24,25,26,27,28,29,30,31,32,33,34,35,36,37,38,39,40,41,42,43,44,45,46,47,48,49],\"colorbar\":{\"title\":{\"text\":\"Trial\"},\"x\":1.0,\"xpad\":40},\"colorscale\":[[0.0,\"rgb(247,251,255)\"],[0.125,\"rgb(222,235,247)\"],[0.25,\"rgb(198,219,239)\"],[0.375,\"rgb(158,202,225)\"],[0.5,\"rgb(107,174,214)\"],[0.625,\"rgb(66,146,198)\"],[0.75,\"rgb(33,113,181)\"],[0.875,\"rgb(8,81,156)\"],[1.0,\"rgb(8,48,107)\"]],\"line\":{\"color\":\"Grey\",\"width\":0.5},\"showscale\":false},\"mode\":\"markers\",\"name\":\"Feasible Trial\",\"showlegend\":false,\"x\":[2,1,null,null,null,null,1,2,null,null,2,2,2,2,2,2,2,2,1,null,2,2,2,2,2,2,2,1,null,1,2,2,2,2,null,2,null,2,null,null,null,null,null,null,null,null,null,null,null,null],\"y\":[0.060810731175457905,0.05822511856266403,0.058320058997048375,0.055997240784217354,0.058477323148201775,0.058894567856639254,0.05671849310028651,0.05976530166310854,0.06033128649689828,0.05819795784587005,0.051707776194711216,0.06086529229849746,0.06061746009449187,0.059933077590260536,0.057561243441983156,0.05853918197891875,0.056723750660537586,0.057011821706720714,0.05878701752742864,0.05901979165969701,0.05779355603270272,0.0607023580982689,0.06056326129271596,0.06016018947729697,0.0603195985703345,0.060497942015217764,0.05517106580422898,0.05889498591963642,0.057788195907663084,0.05608688686880674,0.05839227129724196,0.06055042731612309,0.06052371587769664,0.05862588935934724,0.05967213270099705,0.06086073485441203,0.06021979188266408,0.06029318925210055,0.0607301486966448,0.060017145042216856,0.06009771971718713,0.06092930164527146,0.06094151465895933,0.06089599818950693,0.06092937745402824,0.06033771240387151,0.06090891354903005,0.06037430462188024,0.06067225310314076,0.060776465617382744],\"type\":\"scatter\",\"xaxis\":\"x2\",\"yaxis\":\"y2\"},{\"marker\":{\"color\":[0,1,2,3,4,5,6,7,8,9,10,11,12,13,14,15,16,17,18,19,20,21,22,23,24,25,26,27,28,29,30,31,32,33,34,35,36,37,38,39,40,41,42,43,44,45,46,47,48,49],\"colorbar\":{\"title\":{\"text\":\"Trial\"},\"x\":1.0,\"xpad\":40},\"colorscale\":[[0.0,\"rgb(247,251,255)\"],[0.125,\"rgb(222,235,247)\"],[0.25,\"rgb(198,219,239)\"],[0.375,\"rgb(158,202,225)\"],[0.5,\"rgb(107,174,214)\"],[0.625,\"rgb(66,146,198)\"],[0.75,\"rgb(33,113,181)\"],[0.875,\"rgb(8,81,156)\"],[1.0,\"rgb(8,48,107)\"]],\"line\":{\"color\":\"Grey\",\"width\":0.5},\"showscale\":false},\"mode\":\"markers\",\"name\":\"Feasible Trial\",\"showlegend\":false,\"x\":[0.0007093145438766824,0.26827303332013097,0.2102366253102811,0.7859203364350316,0.46458669276509057,0.7302706572869135,0.6702151772171667,0.6191223914895924,0.3715341243308009,0.4800444293438646,0.02707788307021985,0.02854856469446654,0.006232668788242485,0.14223950318680356,0.13417243981153493,0.3195602688401754,0.8892579766226341,0.05073677652145462,0.15044222411566976,0.970040474204904,0.39479725097296814,0.0313888491500785,0.11332084144763657,0.2390486067205928,0.004611451287437451,0.07759097979828522,0.22167915734932359,0.16699354376726194,0.5488531247546857,0.3206197674651893,0.29437465606638913,0.009778034738781048,0.06819312007514067,0.08148950146663102,0.19522864633481918,0.10134211027680617,0.08976795561099693,0.19710994678385246,0.26645252396900343,0.25806065175521287,0.4208955675603838,0.11003777987867452,0.12494359026821118,0.1120211269012182,0.17201492528487697,0.17420963601259967,0.13171548217302698,0.563001492042273,0.3484640644536699,0.1325839762190068],\"y\":[0.060810731175457905,0.05822511856266403,0.058320058997048375,0.055997240784217354,0.058477323148201775,0.058894567856639254,0.05671849310028651,0.05976530166310854,0.06033128649689828,0.05819795784587005,0.051707776194711216,0.06086529229849746,0.06061746009449187,0.059933077590260536,0.057561243441983156,0.05853918197891875,0.056723750660537586,0.057011821706720714,0.05878701752742864,0.05901979165969701,0.05779355603270272,0.0607023580982689,0.06056326129271596,0.06016018947729697,0.0603195985703345,0.060497942015217764,0.05517106580422898,0.05889498591963642,0.057788195907663084,0.05608688686880674,0.05839227129724196,0.06055042731612309,0.06052371587769664,0.05862588935934724,0.05967213270099705,0.06086073485441203,0.06021979188266408,0.06029318925210055,0.0607301486966448,0.060017145042216856,0.06009771971718713,0.06092930164527146,0.06094151465895933,0.06089599818950693,0.06092937745402824,0.06033771240387151,0.06090891354903005,0.06037430462188024,0.06067225310314076,0.060776465617382744],\"type\":\"scatter\",\"xaxis\":\"x3\",\"yaxis\":\"y3\"},{\"marker\":{\"color\":[0,1,2,3,4,5,6,7,8,9,10,11,12,13,14,15,16,17,18,19,20,21,22,23,24,25,26,27,28,29,30,31,32,33,34,35,36,37,38,39,40,41,42,43,44,45,46,47,48,49],\"colorbar\":{\"title\":{\"text\":\"Trial\"},\"x\":1.0,\"xpad\":40},\"colorscale\":[[0.0,\"rgb(247,251,255)\"],[0.125,\"rgb(222,235,247)\"],[0.25,\"rgb(198,219,239)\"],[0.375,\"rgb(158,202,225)\"],[0.5,\"rgb(107,174,214)\"],[0.625,\"rgb(66,146,198)\"],[0.75,\"rgb(33,113,181)\"],[0.875,\"rgb(8,81,156)\"],[1.0,\"rgb(8,48,107)\"]],\"line\":{\"color\":\"Grey\",\"width\":0.5},\"showscale\":false},\"mode\":\"markers\",\"name\":\"Feasible Trial\",\"showlegend\":false,\"x\":[0.4714419234144599,0.592857769651083,0.727266903400412,0.09799018494839873,0.6886016364841502,0.45907636159417176,0.2731306785469324,0.8606555001429231,0.5542971391971991,0.3722862017144426,0.017684562202038956,0.2498981484521517,0.23065749871262797,0.2334323577409061,0.3885971673558575,0.93434138058445,0.14325658091653737,0.3398207225653512,0.47570952386194604,0.6566264603767473,0.14940735065595526,0.28351335722161514,0.3026874116141727,0.4366709865082766,0.5453611536575308,0.2592776476942067,0.02159680207271103,0.40950444829112664,0.17576873739985766,0.6233093927428501,0.7827750455200508,0.19870530876374437,0.3013076084257233,0.0670588305927505,0.33277580209456875,0.5170879718118307,0.5306055041441866,0.49297289962576035,0.7186290736528992,0.8408266101441054,0.6754060106473809,0.7505575301741138,0.7740825395544235,0.7847958489036125,0.9811544035321462,0.9813471156211333,0.8856282195083748,0.8862987832477116,0.7781325191771746,0.8158840353186733],\"y\":[0.060810731175457905,0.05822511856266403,0.058320058997048375,0.055997240784217354,0.058477323148201775,0.058894567856639254,0.05671849310028651,0.05976530166310854,0.06033128649689828,0.05819795784587005,0.051707776194711216,0.06086529229849746,0.06061746009449187,0.059933077590260536,0.057561243441983156,0.05853918197891875,0.056723750660537586,0.057011821706720714,0.05878701752742864,0.05901979165969701,0.05779355603270272,0.0607023580982689,0.06056326129271596,0.06016018947729697,0.0603195985703345,0.060497942015217764,0.05517106580422898,0.05889498591963642,0.057788195907663084,0.05608688686880674,0.05839227129724196,0.06055042731612309,0.06052371587769664,0.05862588935934724,0.05967213270099705,0.06086073485441203,0.06021979188266408,0.06029318925210055,0.0607301486966448,0.060017145042216856,0.06009771971718713,0.06092930164527146,0.06094151465895933,0.06089599818950693,0.06092937745402824,0.06033771240387151,0.06090891354903005,0.06037430462188024,0.06067225310314076,0.060776465617382744],\"type\":\"scatter\",\"xaxis\":\"x4\",\"yaxis\":\"y4\"}],                        {\"template\":{\"data\":{\"histogram2dcontour\":[{\"type\":\"histogram2dcontour\",\"colorbar\":{\"outlinewidth\":0,\"ticks\":\"\"},\"colorscale\":[[0.0,\"#0d0887\"],[0.1111111111111111,\"#46039f\"],[0.2222222222222222,\"#7201a8\"],[0.3333333333333333,\"#9c179e\"],[0.4444444444444444,\"#bd3786\"],[0.5555555555555556,\"#d8576b\"],[0.6666666666666666,\"#ed7953\"],[0.7777777777777778,\"#fb9f3a\"],[0.8888888888888888,\"#fdca26\"],[1.0,\"#f0f921\"]]}],\"choropleth\":[{\"type\":\"choropleth\",\"colorbar\":{\"outlinewidth\":0,\"ticks\":\"\"}}],\"histogram2d\":[{\"type\":\"histogram2d\",\"colorbar\":{\"outlinewidth\":0,\"ticks\":\"\"},\"colorscale\":[[0.0,\"#0d0887\"],[0.1111111111111111,\"#46039f\"],[0.2222222222222222,\"#7201a8\"],[0.3333333333333333,\"#9c179e\"],[0.4444444444444444,\"#bd3786\"],[0.5555555555555556,\"#d8576b\"],[0.6666666666666666,\"#ed7953\"],[0.7777777777777778,\"#fb9f3a\"],[0.8888888888888888,\"#fdca26\"],[1.0,\"#f0f921\"]]}],\"heatmap\":[{\"type\":\"heatmap\",\"colorbar\":{\"outlinewidth\":0,\"ticks\":\"\"},\"colorscale\":[[0.0,\"#0d0887\"],[0.1111111111111111,\"#46039f\"],[0.2222222222222222,\"#7201a8\"],[0.3333333333333333,\"#9c179e\"],[0.4444444444444444,\"#bd3786\"],[0.5555555555555556,\"#d8576b\"],[0.6666666666666666,\"#ed7953\"],[0.7777777777777778,\"#fb9f3a\"],[0.8888888888888888,\"#fdca26\"],[1.0,\"#f0f921\"]]}],\"heatmapgl\":[{\"type\":\"heatmapgl\",\"colorbar\":{\"outlinewidth\":0,\"ticks\":\"\"},\"colorscale\":[[0.0,\"#0d0887\"],[0.1111111111111111,\"#46039f\"],[0.2222222222222222,\"#7201a8\"],[0.3333333333333333,\"#9c179e\"],[0.4444444444444444,\"#bd3786\"],[0.5555555555555556,\"#d8576b\"],[0.6666666666666666,\"#ed7953\"],[0.7777777777777778,\"#fb9f3a\"],[0.8888888888888888,\"#fdca26\"],[1.0,\"#f0f921\"]]}],\"contourcarpet\":[{\"type\":\"contourcarpet\",\"colorbar\":{\"outlinewidth\":0,\"ticks\":\"\"}}],\"contour\":[{\"type\":\"contour\",\"colorbar\":{\"outlinewidth\":0,\"ticks\":\"\"},\"colorscale\":[[0.0,\"#0d0887\"],[0.1111111111111111,\"#46039f\"],[0.2222222222222222,\"#7201a8\"],[0.3333333333333333,\"#9c179e\"],[0.4444444444444444,\"#bd3786\"],[0.5555555555555556,\"#d8576b\"],[0.6666666666666666,\"#ed7953\"],[0.7777777777777778,\"#fb9f3a\"],[0.8888888888888888,\"#fdca26\"],[1.0,\"#f0f921\"]]}],\"surface\":[{\"type\":\"surface\",\"colorbar\":{\"outlinewidth\":0,\"ticks\":\"\"},\"colorscale\":[[0.0,\"#0d0887\"],[0.1111111111111111,\"#46039f\"],[0.2222222222222222,\"#7201a8\"],[0.3333333333333333,\"#9c179e\"],[0.4444444444444444,\"#bd3786\"],[0.5555555555555556,\"#d8576b\"],[0.6666666666666666,\"#ed7953\"],[0.7777777777777778,\"#fb9f3a\"],[0.8888888888888888,\"#fdca26\"],[1.0,\"#f0f921\"]]}],\"mesh3d\":[{\"type\":\"mesh3d\",\"colorbar\":{\"outlinewidth\":0,\"ticks\":\"\"}}],\"scatter\":[{\"fillpattern\":{\"fillmode\":\"overlay\",\"size\":10,\"solidity\":0.2},\"type\":\"scatter\"}],\"parcoords\":[{\"type\":\"parcoords\",\"line\":{\"colorbar\":{\"outlinewidth\":0,\"ticks\":\"\"}}}],\"scatterpolargl\":[{\"type\":\"scatterpolargl\",\"marker\":{\"colorbar\":{\"outlinewidth\":0,\"ticks\":\"\"}}}],\"bar\":[{\"error_x\":{\"color\":\"#2a3f5f\"},\"error_y\":{\"color\":\"#2a3f5f\"},\"marker\":{\"line\":{\"color\":\"#E5ECF6\",\"width\":0.5},\"pattern\":{\"fillmode\":\"overlay\",\"size\":10,\"solidity\":0.2}},\"type\":\"bar\"}],\"scattergeo\":[{\"type\":\"scattergeo\",\"marker\":{\"colorbar\":{\"outlinewidth\":0,\"ticks\":\"\"}}}],\"scatterpolar\":[{\"type\":\"scatterpolar\",\"marker\":{\"colorbar\":{\"outlinewidth\":0,\"ticks\":\"\"}}}],\"histogram\":[{\"marker\":{\"pattern\":{\"fillmode\":\"overlay\",\"size\":10,\"solidity\":0.2}},\"type\":\"histogram\"}],\"scattergl\":[{\"type\":\"scattergl\",\"marker\":{\"colorbar\":{\"outlinewidth\":0,\"ticks\":\"\"}}}],\"scatter3d\":[{\"type\":\"scatter3d\",\"line\":{\"colorbar\":{\"outlinewidth\":0,\"ticks\":\"\"}},\"marker\":{\"colorbar\":{\"outlinewidth\":0,\"ticks\":\"\"}}}],\"scattermapbox\":[{\"type\":\"scattermapbox\",\"marker\":{\"colorbar\":{\"outlinewidth\":0,\"ticks\":\"\"}}}],\"scatterternary\":[{\"type\":\"scatterternary\",\"marker\":{\"colorbar\":{\"outlinewidth\":0,\"ticks\":\"\"}}}],\"scattercarpet\":[{\"type\":\"scattercarpet\",\"marker\":{\"colorbar\":{\"outlinewidth\":0,\"ticks\":\"\"}}}],\"carpet\":[{\"aaxis\":{\"endlinecolor\":\"#2a3f5f\",\"gridcolor\":\"white\",\"linecolor\":\"white\",\"minorgridcolor\":\"white\",\"startlinecolor\":\"#2a3f5f\"},\"baxis\":{\"endlinecolor\":\"#2a3f5f\",\"gridcolor\":\"white\",\"linecolor\":\"white\",\"minorgridcolor\":\"white\",\"startlinecolor\":\"#2a3f5f\"},\"type\":\"carpet\"}],\"table\":[{\"cells\":{\"fill\":{\"color\":\"#EBF0F8\"},\"line\":{\"color\":\"white\"}},\"header\":{\"fill\":{\"color\":\"#C8D4E3\"},\"line\":{\"color\":\"white\"}},\"type\":\"table\"}],\"barpolar\":[{\"marker\":{\"line\":{\"color\":\"#E5ECF6\",\"width\":0.5},\"pattern\":{\"fillmode\":\"overlay\",\"size\":10,\"solidity\":0.2}},\"type\":\"barpolar\"}],\"pie\":[{\"automargin\":true,\"type\":\"pie\"}]},\"layout\":{\"autotypenumbers\":\"strict\",\"colorway\":[\"#636efa\",\"#EF553B\",\"#00cc96\",\"#ab63fa\",\"#FFA15A\",\"#19d3f3\",\"#FF6692\",\"#B6E880\",\"#FF97FF\",\"#FECB52\"],\"font\":{\"color\":\"#2a3f5f\"},\"hovermode\":\"closest\",\"hoverlabel\":{\"align\":\"left\"},\"paper_bgcolor\":\"white\",\"plot_bgcolor\":\"#E5ECF6\",\"polar\":{\"bgcolor\":\"#E5ECF6\",\"angularaxis\":{\"gridcolor\":\"white\",\"linecolor\":\"white\",\"ticks\":\"\"},\"radialaxis\":{\"gridcolor\":\"white\",\"linecolor\":\"white\",\"ticks\":\"\"}},\"ternary\":{\"bgcolor\":\"#E5ECF6\",\"aaxis\":{\"gridcolor\":\"white\",\"linecolor\":\"white\",\"ticks\":\"\"},\"baxis\":{\"gridcolor\":\"white\",\"linecolor\":\"white\",\"ticks\":\"\"},\"caxis\":{\"gridcolor\":\"white\",\"linecolor\":\"white\",\"ticks\":\"\"}},\"coloraxis\":{\"colorbar\":{\"outlinewidth\":0,\"ticks\":\"\"}},\"colorscale\":{\"sequential\":[[0.0,\"#0d0887\"],[0.1111111111111111,\"#46039f\"],[0.2222222222222222,\"#7201a8\"],[0.3333333333333333,\"#9c179e\"],[0.4444444444444444,\"#bd3786\"],[0.5555555555555556,\"#d8576b\"],[0.6666666666666666,\"#ed7953\"],[0.7777777777777778,\"#fb9f3a\"],[0.8888888888888888,\"#fdca26\"],[1.0,\"#f0f921\"]],\"sequentialminus\":[[0.0,\"#0d0887\"],[0.1111111111111111,\"#46039f\"],[0.2222222222222222,\"#7201a8\"],[0.3333333333333333,\"#9c179e\"],[0.4444444444444444,\"#bd3786\"],[0.5555555555555556,\"#d8576b\"],[0.6666666666666666,\"#ed7953\"],[0.7777777777777778,\"#fb9f3a\"],[0.8888888888888888,\"#fdca26\"],[1.0,\"#f0f921\"]],\"diverging\":[[0,\"#8e0152\"],[0.1,\"#c51b7d\"],[0.2,\"#de77ae\"],[0.3,\"#f1b6da\"],[0.4,\"#fde0ef\"],[0.5,\"#f7f7f7\"],[0.6,\"#e6f5d0\"],[0.7,\"#b8e186\"],[0.8,\"#7fbc41\"],[0.9,\"#4d9221\"],[1,\"#276419\"]]},\"xaxis\":{\"gridcolor\":\"white\",\"linecolor\":\"white\",\"ticks\":\"\",\"title\":{\"standoff\":15},\"zerolinecolor\":\"white\",\"automargin\":true,\"zerolinewidth\":2},\"yaxis\":{\"gridcolor\":\"white\",\"linecolor\":\"white\",\"ticks\":\"\",\"title\":{\"standoff\":15},\"zerolinecolor\":\"white\",\"automargin\":true,\"zerolinewidth\":2},\"scene\":{\"xaxis\":{\"backgroundcolor\":\"#E5ECF6\",\"gridcolor\":\"white\",\"linecolor\":\"white\",\"showbackground\":true,\"ticks\":\"\",\"zerolinecolor\":\"white\",\"gridwidth\":2},\"yaxis\":{\"backgroundcolor\":\"#E5ECF6\",\"gridcolor\":\"white\",\"linecolor\":\"white\",\"showbackground\":true,\"ticks\":\"\",\"zerolinecolor\":\"white\",\"gridwidth\":2},\"zaxis\":{\"backgroundcolor\":\"#E5ECF6\",\"gridcolor\":\"white\",\"linecolor\":\"white\",\"showbackground\":true,\"ticks\":\"\",\"zerolinecolor\":\"white\",\"gridwidth\":2}},\"shapedefaults\":{\"line\":{\"color\":\"#2a3f5f\"}},\"annotationdefaults\":{\"arrowcolor\":\"#2a3f5f\",\"arrowhead\":0,\"arrowwidth\":1},\"geo\":{\"bgcolor\":\"white\",\"landcolor\":\"#E5ECF6\",\"subunitcolor\":\"white\",\"showland\":true,\"showlakes\":true,\"lakecolor\":\"white\"},\"title\":{\"x\":0.05},\"mapbox\":{\"style\":\"light\"}}},\"xaxis\":{\"anchor\":\"y\",\"domain\":[0.0,0.2125],\"title\":{\"text\":\"itemknn_weight\"}},\"yaxis\":{\"anchor\":\"x\",\"domain\":[0.0,1.0],\"title\":{\"text\":\"Objective Value\"}},\"xaxis2\":{\"anchor\":\"y2\",\"domain\":[0.2625,0.475],\"title\":{\"text\":\"norm\"},\"type\":\"category\",\"categoryorder\":\"array\",\"categoryarray\":[1,2,null,null]},\"yaxis2\":{\"anchor\":\"x2\",\"domain\":[0.0,1.0],\"matches\":\"y\",\"showticklabels\":false},\"xaxis3\":{\"anchor\":\"y3\",\"domain\":[0.525,0.7375],\"title\":{\"text\":\"rp3beta_weight\"}},\"yaxis3\":{\"anchor\":\"x3\",\"domain\":[0.0,1.0],\"matches\":\"y\",\"showticklabels\":false},\"xaxis4\":{\"anchor\":\"y4\",\"domain\":[0.7875,1.0],\"title\":{\"text\":\"slim_weight\"}},\"yaxis4\":{\"anchor\":\"x4\",\"domain\":[0.0,1.0],\"matches\":\"y\",\"showticklabels\":false},\"title\":{\"text\":\"Slice Plot\"},\"width\":1200},                        {\"responsive\": true}                    ).then(function(){\n",
       "                            \n",
       "var gd = document.getElementById('c9214b39-3db5-4bcc-9805-069930ce55f2');\n",
       "var x = new MutationObserver(function (mutations, observer) {{\n",
       "        var display = window.getComputedStyle(gd).display;\n",
       "        if (!display || display === 'none') {{\n",
       "            console.log([gd, 'removed!']);\n",
       "            Plotly.purge(gd);\n",
       "            observer.disconnect();\n",
       "        }}\n",
       "}});\n",
       "\n",
       "// Listen for the removal of the full notebook cells\n",
       "var notebookContainer = gd.closest('#notebook-container');\n",
       "if (notebookContainer) {{\n",
       "    x.observe(notebookContainer, {childList: true});\n",
       "}}\n",
       "\n",
       "// Listen for the clearing of the current output cell\n",
       "var outputEl = gd.closest('.output');\n",
       "if (outputEl) {{\n",
       "    x.observe(outputEl, {childList: true});\n",
       "}}\n",
       "\n",
       "                        })                };                });            </script>        </div>"
      ]
     },
     "metadata": {},
     "output_type": "display_data"
    }
   ],
   "source": [
    "if not config['tune_parameters']:\n",
    "    optuna_study = optuna.load_study(study_name=f'hyperparameters_tuning_{config[\"model\"]}', storage=f'sqlite:///{config[\"database_path\"]}')\n",
    "    \n",
    "fig = optuna.visualization.plot_slice(optuna_study)\n",
    "fig.show()"
   ]
  },
  {
   "cell_type": "code",
   "execution_count": 18,
   "id": "bc0993f7",
   "metadata": {
    "execution": {
     "iopub.execute_input": "2024-11-20T19:14:35.472431Z",
     "iopub.status.busy": "2024-11-20T19:14:35.472026Z",
     "iopub.status.idle": "2024-11-20T19:14:36.108723Z",
     "shell.execute_reply": "2024-11-20T19:14:36.107658Z"
    },
    "papermill": {
     "duration": 0.662837,
     "end_time": "2024-11-20T19:14:36.110913",
     "exception": false,
     "start_time": "2024-11-20T19:14:35.448076",
     "status": "completed"
    },
    "tags": []
   },
   "outputs": [
    {
     "data": {
      "text/html": [
       "<div>                            <div id=\"24561e85-6f0e-449c-89b8-efa02de1d97a\" class=\"plotly-graph-div\" style=\"height:525px; width:100%;\"></div>            <script type=\"text/javascript\">                require([\"plotly\"], function(Plotly) {                    window.PLOTLYENV=window.PLOTLYENV || {};                                    if (document.getElementById(\"24561e85-6f0e-449c-89b8-efa02de1d97a\")) {                    Plotly.newPlot(                        \"24561e85-6f0e-449c-89b8-efa02de1d97a\",                        [{\"cliponaxis\":false,\"hovertemplate\":[\"rp3beta_weight (FloatDistribution): 0.06096136173177905\\u003cextra\\u003e\\u003c\\u002fextra\\u003e\",\"norm (CategoricalDistribution): 0.09928123921434456\\u003cextra\\u003e\\u003c\\u002fextra\\u003e\",\"itemknn_weight (FloatDistribution): 0.35744392148631904\\u003cextra\\u003e\\u003c\\u002fextra\\u003e\",\"slim_weight (FloatDistribution): 0.48231347756755716\\u003cextra\\u003e\\u003c\\u002fextra\\u003e\"],\"name\":\"Objective Value\",\"orientation\":\"h\",\"text\":[\"0.06\",\"0.10\",\"0.36\",\"0.48\"],\"textposition\":\"outside\",\"x\":[0.06096136173177905,0.09928123921434456,0.35744392148631904,0.48231347756755716],\"y\":[\"rp3beta_weight\",\"norm\",\"itemknn_weight\",\"slim_weight\"],\"type\":\"bar\"}],                        {\"title\":{\"text\":\"Hyperparameter Importances\"},\"xaxis\":{\"title\":{\"text\":\"Hyperparameter Importance\"}},\"yaxis\":{\"title\":{\"text\":\"Hyperparameter\"}},\"template\":{\"data\":{\"histogram2dcontour\":[{\"type\":\"histogram2dcontour\",\"colorbar\":{\"outlinewidth\":0,\"ticks\":\"\"},\"colorscale\":[[0.0,\"#0d0887\"],[0.1111111111111111,\"#46039f\"],[0.2222222222222222,\"#7201a8\"],[0.3333333333333333,\"#9c179e\"],[0.4444444444444444,\"#bd3786\"],[0.5555555555555556,\"#d8576b\"],[0.6666666666666666,\"#ed7953\"],[0.7777777777777778,\"#fb9f3a\"],[0.8888888888888888,\"#fdca26\"],[1.0,\"#f0f921\"]]}],\"choropleth\":[{\"type\":\"choropleth\",\"colorbar\":{\"outlinewidth\":0,\"ticks\":\"\"}}],\"histogram2d\":[{\"type\":\"histogram2d\",\"colorbar\":{\"outlinewidth\":0,\"ticks\":\"\"},\"colorscale\":[[0.0,\"#0d0887\"],[0.1111111111111111,\"#46039f\"],[0.2222222222222222,\"#7201a8\"],[0.3333333333333333,\"#9c179e\"],[0.4444444444444444,\"#bd3786\"],[0.5555555555555556,\"#d8576b\"],[0.6666666666666666,\"#ed7953\"],[0.7777777777777778,\"#fb9f3a\"],[0.8888888888888888,\"#fdca26\"],[1.0,\"#f0f921\"]]}],\"heatmap\":[{\"type\":\"heatmap\",\"colorbar\":{\"outlinewidth\":0,\"ticks\":\"\"},\"colorscale\":[[0.0,\"#0d0887\"],[0.1111111111111111,\"#46039f\"],[0.2222222222222222,\"#7201a8\"],[0.3333333333333333,\"#9c179e\"],[0.4444444444444444,\"#bd3786\"],[0.5555555555555556,\"#d8576b\"],[0.6666666666666666,\"#ed7953\"],[0.7777777777777778,\"#fb9f3a\"],[0.8888888888888888,\"#fdca26\"],[1.0,\"#f0f921\"]]}],\"heatmapgl\":[{\"type\":\"heatmapgl\",\"colorbar\":{\"outlinewidth\":0,\"ticks\":\"\"},\"colorscale\":[[0.0,\"#0d0887\"],[0.1111111111111111,\"#46039f\"],[0.2222222222222222,\"#7201a8\"],[0.3333333333333333,\"#9c179e\"],[0.4444444444444444,\"#bd3786\"],[0.5555555555555556,\"#d8576b\"],[0.6666666666666666,\"#ed7953\"],[0.7777777777777778,\"#fb9f3a\"],[0.8888888888888888,\"#fdca26\"],[1.0,\"#f0f921\"]]}],\"contourcarpet\":[{\"type\":\"contourcarpet\",\"colorbar\":{\"outlinewidth\":0,\"ticks\":\"\"}}],\"contour\":[{\"type\":\"contour\",\"colorbar\":{\"outlinewidth\":0,\"ticks\":\"\"},\"colorscale\":[[0.0,\"#0d0887\"],[0.1111111111111111,\"#46039f\"],[0.2222222222222222,\"#7201a8\"],[0.3333333333333333,\"#9c179e\"],[0.4444444444444444,\"#bd3786\"],[0.5555555555555556,\"#d8576b\"],[0.6666666666666666,\"#ed7953\"],[0.7777777777777778,\"#fb9f3a\"],[0.8888888888888888,\"#fdca26\"],[1.0,\"#f0f921\"]]}],\"surface\":[{\"type\":\"surface\",\"colorbar\":{\"outlinewidth\":0,\"ticks\":\"\"},\"colorscale\":[[0.0,\"#0d0887\"],[0.1111111111111111,\"#46039f\"],[0.2222222222222222,\"#7201a8\"],[0.3333333333333333,\"#9c179e\"],[0.4444444444444444,\"#bd3786\"],[0.5555555555555556,\"#d8576b\"],[0.6666666666666666,\"#ed7953\"],[0.7777777777777778,\"#fb9f3a\"],[0.8888888888888888,\"#fdca26\"],[1.0,\"#f0f921\"]]}],\"mesh3d\":[{\"type\":\"mesh3d\",\"colorbar\":{\"outlinewidth\":0,\"ticks\":\"\"}}],\"scatter\":[{\"fillpattern\":{\"fillmode\":\"overlay\",\"size\":10,\"solidity\":0.2},\"type\":\"scatter\"}],\"parcoords\":[{\"type\":\"parcoords\",\"line\":{\"colorbar\":{\"outlinewidth\":0,\"ticks\":\"\"}}}],\"scatterpolargl\":[{\"type\":\"scatterpolargl\",\"marker\":{\"colorbar\":{\"outlinewidth\":0,\"ticks\":\"\"}}}],\"bar\":[{\"error_x\":{\"color\":\"#2a3f5f\"},\"error_y\":{\"color\":\"#2a3f5f\"},\"marker\":{\"line\":{\"color\":\"#E5ECF6\",\"width\":0.5},\"pattern\":{\"fillmode\":\"overlay\",\"size\":10,\"solidity\":0.2}},\"type\":\"bar\"}],\"scattergeo\":[{\"type\":\"scattergeo\",\"marker\":{\"colorbar\":{\"outlinewidth\":0,\"ticks\":\"\"}}}],\"scatterpolar\":[{\"type\":\"scatterpolar\",\"marker\":{\"colorbar\":{\"outlinewidth\":0,\"ticks\":\"\"}}}],\"histogram\":[{\"marker\":{\"pattern\":{\"fillmode\":\"overlay\",\"size\":10,\"solidity\":0.2}},\"type\":\"histogram\"}],\"scattergl\":[{\"type\":\"scattergl\",\"marker\":{\"colorbar\":{\"outlinewidth\":0,\"ticks\":\"\"}}}],\"scatter3d\":[{\"type\":\"scatter3d\",\"line\":{\"colorbar\":{\"outlinewidth\":0,\"ticks\":\"\"}},\"marker\":{\"colorbar\":{\"outlinewidth\":0,\"ticks\":\"\"}}}],\"scattermapbox\":[{\"type\":\"scattermapbox\",\"marker\":{\"colorbar\":{\"outlinewidth\":0,\"ticks\":\"\"}}}],\"scatterternary\":[{\"type\":\"scatterternary\",\"marker\":{\"colorbar\":{\"outlinewidth\":0,\"ticks\":\"\"}}}],\"scattercarpet\":[{\"type\":\"scattercarpet\",\"marker\":{\"colorbar\":{\"outlinewidth\":0,\"ticks\":\"\"}}}],\"carpet\":[{\"aaxis\":{\"endlinecolor\":\"#2a3f5f\",\"gridcolor\":\"white\",\"linecolor\":\"white\",\"minorgridcolor\":\"white\",\"startlinecolor\":\"#2a3f5f\"},\"baxis\":{\"endlinecolor\":\"#2a3f5f\",\"gridcolor\":\"white\",\"linecolor\":\"white\",\"minorgridcolor\":\"white\",\"startlinecolor\":\"#2a3f5f\"},\"type\":\"carpet\"}],\"table\":[{\"cells\":{\"fill\":{\"color\":\"#EBF0F8\"},\"line\":{\"color\":\"white\"}},\"header\":{\"fill\":{\"color\":\"#C8D4E3\"},\"line\":{\"color\":\"white\"}},\"type\":\"table\"}],\"barpolar\":[{\"marker\":{\"line\":{\"color\":\"#E5ECF6\",\"width\":0.5},\"pattern\":{\"fillmode\":\"overlay\",\"size\":10,\"solidity\":0.2}},\"type\":\"barpolar\"}],\"pie\":[{\"automargin\":true,\"type\":\"pie\"}]},\"layout\":{\"autotypenumbers\":\"strict\",\"colorway\":[\"#636efa\",\"#EF553B\",\"#00cc96\",\"#ab63fa\",\"#FFA15A\",\"#19d3f3\",\"#FF6692\",\"#B6E880\",\"#FF97FF\",\"#FECB52\"],\"font\":{\"color\":\"#2a3f5f\"},\"hovermode\":\"closest\",\"hoverlabel\":{\"align\":\"left\"},\"paper_bgcolor\":\"white\",\"plot_bgcolor\":\"#E5ECF6\",\"polar\":{\"bgcolor\":\"#E5ECF6\",\"angularaxis\":{\"gridcolor\":\"white\",\"linecolor\":\"white\",\"ticks\":\"\"},\"radialaxis\":{\"gridcolor\":\"white\",\"linecolor\":\"white\",\"ticks\":\"\"}},\"ternary\":{\"bgcolor\":\"#E5ECF6\",\"aaxis\":{\"gridcolor\":\"white\",\"linecolor\":\"white\",\"ticks\":\"\"},\"baxis\":{\"gridcolor\":\"white\",\"linecolor\":\"white\",\"ticks\":\"\"},\"caxis\":{\"gridcolor\":\"white\",\"linecolor\":\"white\",\"ticks\":\"\"}},\"coloraxis\":{\"colorbar\":{\"outlinewidth\":0,\"ticks\":\"\"}},\"colorscale\":{\"sequential\":[[0.0,\"#0d0887\"],[0.1111111111111111,\"#46039f\"],[0.2222222222222222,\"#7201a8\"],[0.3333333333333333,\"#9c179e\"],[0.4444444444444444,\"#bd3786\"],[0.5555555555555556,\"#d8576b\"],[0.6666666666666666,\"#ed7953\"],[0.7777777777777778,\"#fb9f3a\"],[0.8888888888888888,\"#fdca26\"],[1.0,\"#f0f921\"]],\"sequentialminus\":[[0.0,\"#0d0887\"],[0.1111111111111111,\"#46039f\"],[0.2222222222222222,\"#7201a8\"],[0.3333333333333333,\"#9c179e\"],[0.4444444444444444,\"#bd3786\"],[0.5555555555555556,\"#d8576b\"],[0.6666666666666666,\"#ed7953\"],[0.7777777777777778,\"#fb9f3a\"],[0.8888888888888888,\"#fdca26\"],[1.0,\"#f0f921\"]],\"diverging\":[[0,\"#8e0152\"],[0.1,\"#c51b7d\"],[0.2,\"#de77ae\"],[0.3,\"#f1b6da\"],[0.4,\"#fde0ef\"],[0.5,\"#f7f7f7\"],[0.6,\"#e6f5d0\"],[0.7,\"#b8e186\"],[0.8,\"#7fbc41\"],[0.9,\"#4d9221\"],[1,\"#276419\"]]},\"xaxis\":{\"gridcolor\":\"white\",\"linecolor\":\"white\",\"ticks\":\"\",\"title\":{\"standoff\":15},\"zerolinecolor\":\"white\",\"automargin\":true,\"zerolinewidth\":2},\"yaxis\":{\"gridcolor\":\"white\",\"linecolor\":\"white\",\"ticks\":\"\",\"title\":{\"standoff\":15},\"zerolinecolor\":\"white\",\"automargin\":true,\"zerolinewidth\":2},\"scene\":{\"xaxis\":{\"backgroundcolor\":\"#E5ECF6\",\"gridcolor\":\"white\",\"linecolor\":\"white\",\"showbackground\":true,\"ticks\":\"\",\"zerolinecolor\":\"white\",\"gridwidth\":2},\"yaxis\":{\"backgroundcolor\":\"#E5ECF6\",\"gridcolor\":\"white\",\"linecolor\":\"white\",\"showbackground\":true,\"ticks\":\"\",\"zerolinecolor\":\"white\",\"gridwidth\":2},\"zaxis\":{\"backgroundcolor\":\"#E5ECF6\",\"gridcolor\":\"white\",\"linecolor\":\"white\",\"showbackground\":true,\"ticks\":\"\",\"zerolinecolor\":\"white\",\"gridwidth\":2}},\"shapedefaults\":{\"line\":{\"color\":\"#2a3f5f\"}},\"annotationdefaults\":{\"arrowcolor\":\"#2a3f5f\",\"arrowhead\":0,\"arrowwidth\":1},\"geo\":{\"bgcolor\":\"white\",\"landcolor\":\"#E5ECF6\",\"subunitcolor\":\"white\",\"showland\":true,\"showlakes\":true,\"lakecolor\":\"white\"},\"title\":{\"x\":0.05},\"mapbox\":{\"style\":\"light\"}}}},                        {\"responsive\": true}                    ).then(function(){\n",
       "                            \n",
       "var gd = document.getElementById('24561e85-6f0e-449c-89b8-efa02de1d97a');\n",
       "var x = new MutationObserver(function (mutations, observer) {{\n",
       "        var display = window.getComputedStyle(gd).display;\n",
       "        if (!display || display === 'none') {{\n",
       "            console.log([gd, 'removed!']);\n",
       "            Plotly.purge(gd);\n",
       "            observer.disconnect();\n",
       "        }}\n",
       "}});\n",
       "\n",
       "// Listen for the removal of the full notebook cells\n",
       "var notebookContainer = gd.closest('#notebook-container');\n",
       "if (notebookContainer) {{\n",
       "    x.observe(notebookContainer, {childList: true});\n",
       "}}\n",
       "\n",
       "// Listen for the clearing of the current output cell\n",
       "var outputEl = gd.closest('.output');\n",
       "if (outputEl) {{\n",
       "    x.observe(outputEl, {childList: true});\n",
       "}}\n",
       "\n",
       "                        })                };                });            </script>        </div>"
      ]
     },
     "metadata": {},
     "output_type": "display_data"
    }
   ],
   "source": [
    "if not config['tune_parameters']:\n",
    "    optuna_study = optuna.load_study(study_name=f'hyperparameters_tuning_{config[\"model\"]}', storage=f'sqlite:///{config[\"database_path\"]}')\n",
    "    \n",
    "fig = optuna.visualization.plot_param_importances(optuna_study)\n",
    "fig.show()"
   ]
  },
  {
   "cell_type": "markdown",
   "id": "b44eb607",
   "metadata": {
    "papermill": {
     "duration": 0.022241,
     "end_time": "2024-11-20T19:14:36.155863",
     "exception": false,
     "start_time": "2024-11-20T19:14:36.133622",
     "status": "completed"
    },
    "tags": []
   },
   "source": [
    "## Let's train the recommender with best parameter values"
   ]
  },
  {
   "cell_type": "code",
   "execution_count": null,
   "id": "8e818208",
   "metadata": {
    "execution": {
     "iopub.execute_input": "2024-11-20T19:14:36.202489Z",
     "iopub.status.busy": "2024-11-20T19:14:36.202079Z",
     "iopub.status.idle": "2024-11-20T19:14:36.273499Z",
     "shell.execute_reply": "2024-11-20T19:14:36.272470Z"
    },
    "papermill": {
     "duration": 0.09713,
     "end_time": "2024-11-20T19:14:36.275747",
     "exception": false,
     "start_time": "2024-11-20T19:14:36.178617",
     "status": "completed"
    },
    "tags": []
   },
   "outputs": [
    {
     "name": "stdout",
     "output_type": "stream",
     "text": [
      "LinearCombinationRecommender: Fit completed in 0.00 seconds.\n"
     ]
    }
   ],
   "source": [
    "if config['tune_best_params']:\n",
    "\n",
    "    if config['tune_parameters']:\n",
    "        best_params = optuna_study.best_trial.params\n",
    "    else: \n",
    "        with open(f'{K_PATH}/{GH_PATH}/{config[\"model\"]}Recommender/best_params_{config[\"model\"]}.json', 'r') as best_params_json:\n",
    "            best_params = json.load(best_params_json)\n",
    "            \n",
    "    fit_params = {\n",
    "    \"weights\": list(best_params.values())[1:], \n",
    "    \"norm\": best_params[\"norm\"]\n",
    "    }\n",
    "    \n",
    "    recommender_instance = LinearCombinationRecommender(URM_train + URM_validation, loaded_recommenders.values())\n",
    "    recommender_instance.fit(**fit_params)"
   ]
  },
  {
   "cell_type": "markdown",
   "id": "2e5e567c",
   "metadata": {
    "papermill": {
     "duration": 0.022457,
     "end_time": "2024-11-20T19:14:36.320789",
     "exception": false,
     "start_time": "2024-11-20T19:14:36.298332",
     "status": "completed"
    },
    "tags": []
   },
   "source": [
    "# Testing"
   ]
  },
  {
   "cell_type": "markdown",
   "id": "33210a11",
   "metadata": {
    "papermill": {
     "duration": 0.022439,
     "end_time": "2024-11-20T19:14:36.365865",
     "exception": false,
     "start_time": "2024-11-20T19:14:36.343426",
     "status": "completed"
    },
    "tags": []
   },
   "source": [
    "Create the recommendations for the submission. "
   ]
  },
  {
   "cell_type": "code",
   "execution_count": null,
   "id": "269e3033",
   "metadata": {
    "execution": {
     "iopub.execute_input": "2024-11-20T19:14:36.467593Z",
     "iopub.status.busy": "2024-11-20T19:14:36.466911Z",
     "iopub.status.idle": "2024-11-20T19:15:40.200636Z",
     "shell.execute_reply": "2024-11-20T19:15:40.199588Z"
    },
    "papermill": {
     "duration": 63.837393,
     "end_time": "2024-11-20T19:15:40.280867",
     "exception": false,
     "start_time": "2024-11-20T19:14:36.443474",
     "status": "completed"
    },
    "tags": []
   },
   "outputs": [
    {
     "name": "stdout",
     "output_type": "stream",
     "text": [
      "Submission file saved as /kaggle/working/submission_LinearCombination.csv\n"
     ]
    }
   ],
   "source": [
    "if config['tune_best_params']:\n",
    "\n",
    "    data_target_users_test = pd.read_csv('/kaggle/input/recommender-system-2024-challenge-polimi/data_target_users_test.csv')\n",
    "    create_submission(data_target_users_test, recommender_instance, f'/kaggle/working/submission_{config['model']}.csv')"
   ]
  },
  {
   "cell_type": "markdown",
   "id": "dfb521fa",
   "metadata": {
    "execution": {
     "iopub.execute_input": "2024-11-14T00:04:16.877791Z",
     "iopub.status.busy": "2024-11-14T00:04:16.877275Z",
     "iopub.status.idle": "2024-11-14T00:04:16.883170Z",
     "shell.execute_reply": "2024-11-14T00:04:16.881889Z",
     "shell.execute_reply.started": "2024-11-14T00:04:16.877743Z"
    },
    "papermill": {
     "duration": 0.023156,
     "end_time": "2024-11-20T19:15:40.326760",
     "exception": false,
     "start_time": "2024-11-20T19:15:40.303604",
     "status": "completed"
    },
    "tags": []
   },
   "source": [
    "# Save Version on GitHub "
   ]
  },
  {
   "cell_type": "markdown",
   "id": "94aab39d",
   "metadata": {
    "papermill": {
     "duration": 0.022613,
     "end_time": "2024-11-20T19:15:40.372082",
     "exception": false,
     "start_time": "2024-11-20T19:15:40.349469",
     "status": "completed"
    },
    "tags": []
   },
   "source": [
    "Write or import a json file where best hyperparameters are saved. "
   ]
  },
  {
   "cell_type": "code",
   "execution_count": null,
   "id": "736ba32c",
   "metadata": {
    "execution": {
     "iopub.execute_input": "2024-11-20T19:15:40.419946Z",
     "iopub.status.busy": "2024-11-20T19:15:40.419160Z",
     "iopub.status.idle": "2024-11-20T19:15:41.416267Z",
     "shell.execute_reply": "2024-11-20T19:15:41.415173Z"
    },
    "papermill": {
     "duration": 1.02353,
     "end_time": "2024-11-20T19:15:41.418664",
     "exception": false,
     "start_time": "2024-11-20T19:15:40.395134",
     "status": "completed"
    },
    "tags": []
   },
   "outputs": [
    {
     "name": "stdout",
     "output_type": "stream",
     "text": [
      "File 'TrainedModels/LinearCombinationRecommender/best_params_LinearCombination.json' created successfully.\n"
     ]
    }
   ],
   "source": [
    "if config['tune_parameters']:\n",
    "    with open(f'/kaggle/working/best_params_{config[\"model\"]}.json', 'w') as params_file:\n",
    "        json.dump(optuna_study.best_params, params_file)\n",
    "        \n",
    "    if config['save_github']:\n",
    "        upload_file(\n",
    "            f'/kaggle/working/best_params_{config[\"model\"]}.json', \n",
    "            f'{GH_PATH}/{config[\"model\"]}Recommender/best_params_{config[\"model\"]}.json', \n",
    "            f'{config[\"model\"]} tuning results (from kaggle notebook)'\n",
    "        )\n",
    "elif config['copy_prev_best_params']:\n",
    "    shutil.copyfile(\n",
    "        f'{K_PATH}/{GH_PATH}/{config[\"model\"]}Recommender/'\\\n",
    "        f'best_params_{config[\"model\"]}.json', \n",
    "        f'/kaggle/working/best_params_{config[\"model\"]}.json'\n",
    "    )"
   ]
  },
  {
   "cell_type": "markdown",
   "id": "219cc9a3",
   "metadata": {
    "execution": {
     "iopub.execute_input": "2024-11-14T00:41:34.294243Z",
     "iopub.status.busy": "2024-11-14T00:41:34.293739Z",
     "iopub.status.idle": "2024-11-14T00:41:34.301478Z",
     "shell.execute_reply": "2024-11-14T00:41:34.299869Z",
     "shell.execute_reply.started": "2024-11-14T00:41:34.294186Z"
    },
    "papermill": {
     "duration": 0.022443,
     "end_time": "2024-11-20T19:15:41.464404",
     "exception": false,
     "start_time": "2024-11-20T19:15:41.441961",
     "status": "completed"
    },
    "tags": []
   },
   "source": [
    "Save the history of the tuned model."
   ]
  },
  {
   "cell_type": "code",
   "execution_count": null,
   "id": "90cfef06",
   "metadata": {
    "execution": {
     "iopub.execute_input": "2024-11-20T19:15:41.512396Z",
     "iopub.status.busy": "2024-11-20T19:15:41.511984Z",
     "iopub.status.idle": "2024-11-20T19:15:42.932173Z",
     "shell.execute_reply": "2024-11-20T19:15:42.931076Z"
    },
    "papermill": {
     "duration": 1.44712,
     "end_time": "2024-11-20T19:15:42.934427",
     "exception": false,
     "start_time": "2024-11-20T19:15:41.487307",
     "status": "completed"
    },
    "tags": []
   },
   "outputs": [
    {
     "name": "stdout",
     "output_type": "stream",
     "text": [
      "File 'TrainedModels/LinearCombinationRecommender/history_LinearCombination.db' created successfully.\n"
     ]
    }
   ],
   "source": [
    "if config['save_github'] and config['tune_parameters']:\n",
    "    upload_file(\n",
    "        config['database_path'], \n",
    "        f'{GH_PATH}/{config[\"model\"]}Recommender/history_{config[\"model\"]}.db',\n",
    "        f'Tuning {config[\"model\"]} db updated results (from kaggle notebook)',\n",
    "        repo\n",
    "    )"
   ]
  },
  {
   "cell_type": "markdown",
   "id": "e58397af",
   "metadata": {
    "papermill": {
     "duration": 0.02245,
     "end_time": "2024-11-20T19:15:42.980239",
     "exception": false,
     "start_time": "2024-11-20T19:15:42.957789",
     "status": "completed"
    },
    "tags": []
   },
   "source": [
    "Save the best trained model and its submission."
   ]
  },
  {
   "cell_type": "code",
   "execution_count": null,
   "id": "f0a4c1af",
   "metadata": {
    "execution": {
     "iopub.execute_input": "2024-11-20T19:15:43.026977Z",
     "iopub.status.busy": "2024-11-20T19:15:43.026579Z",
     "iopub.status.idle": "2024-11-20T19:15:44.856624Z",
     "shell.execute_reply": "2024-11-20T19:15:44.855422Z"
    },
    "papermill": {
     "duration": 1.85595,
     "end_time": "2024-11-20T19:15:44.858741",
     "exception": false,
     "start_time": "2024-11-20T19:15:43.002791",
     "status": "completed"
    },
    "tags": []
   },
   "outputs": [
    {
     "name": "stdout",
     "output_type": "stream",
     "text": [
      "File 'TrainedModels/LinearCombinationRecommender/Submission/submission_LinearCombination.csv' created successfully.\n"
     ]
    }
   ],
   "source": [
    "if config['save_github'] and config['tune_best_params']: \n",
    "    upload_file(\n",
    "                f'/kaggle/working/submission_{config[\"model\"]}.csv', \n",
    "                f'{GH_PATH}/{config[\"model\"]}Recommender/Submission/submission_{config[\"model\"]}.csv', \n",
    "                f'New {config[\"model\"]} submission (from kaggle notebook)',\n",
    "                repo\n",
    "            )"
   ]
  }
 ],
 "metadata": {
  "kaggle": {
   "accelerator": "none",
   "dataSources": [
    {
     "databundleVersionId": 9982103,
     "sourceId": 87439,
     "sourceType": "competition"
    }
   ],
   "dockerImageVersionId": 30786,
   "isGpuEnabled": false,
   "isInternetEnabled": true,
   "language": "python",
   "sourceType": "notebook"
  },
  "kernelspec": {
   "display_name": "Python 3",
   "language": "python",
   "name": "python3"
  },
  "language_info": {
   "codemirror_mode": {
    "name": "ipython",
    "version": 3
   },
   "file_extension": ".py",
   "mimetype": "text/x-python",
   "name": "python",
   "nbconvert_exporter": "python",
   "pygments_lexer": "ipython3",
   "version": "3.10.14"
  },
  "papermill": {
   "default_parameters": {},
   "duration": 9286.698184,
   "end_time": "2024-11-20T19:15:45.904016",
   "environment_variables": {},
   "exception": null,
   "input_path": "__notebook__.ipynb",
   "output_path": "__notebook__.ipynb",
   "parameters": {},
   "start_time": "2024-11-20T16:40:59.205832",
   "version": "2.6.0"
  }
 },
 "nbformat": 4,
 "nbformat_minor": 5
}
