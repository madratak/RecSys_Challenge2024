{
 "cells": [
  {
   "cell_type": "markdown",
   "metadata": {},
   "source": [
    "# Set connection with GitHub"
   ]
  },
  {
   "cell_type": "code",
   "execution_count": 1,
   "metadata": {
    "execution": {
     "iopub.execute_input": "2024-11-14T11:18:53.461706Z",
     "iopub.status.busy": "2024-11-14T11:18:53.461347Z",
     "iopub.status.idle": "2024-11-14T11:18:53.466707Z",
     "shell.execute_reply": "2024-11-14T11:18:53.465747Z",
     "shell.execute_reply.started": "2024-11-14T11:18:53.461650Z"
    },
    "trusted": true
   },
   "outputs": [],
   "source": [
    "# ! cd /kaggle/working && rm -rf RECsys_Challenge2024"
   ]
  },
  {
   "cell_type": "code",
   "execution_count": 2,
   "metadata": {
    "_cell_guid": "b1076dfc-b9ad-4769-8c92-a6c4dae69d19",
    "_uuid": "8f2839f25d086af736a60e9eeb907d3b93b6e0e5",
    "execution": {
     "iopub.execute_input": "2024-11-15T12:53:34.257541Z",
     "iopub.status.busy": "2024-11-15T12:53:34.256439Z",
     "iopub.status.idle": "2024-11-15T12:53:40.064536Z",
     "shell.execute_reply": "2024-11-15T12:53:40.063182Z",
     "shell.execute_reply.started": "2024-11-15T12:53:34.257492Z"
    },
    "trusted": true
   },
   "outputs": [
    {
     "name": "stdout",
     "output_type": "stream",
     "text": [
      "Cloning into 'RECsys_Challenge2024'...\n",
      "remote: Enumerating objects: 1721, done.\u001b[K\n",
      "remote: Counting objects: 100% (103/103), done.\u001b[K\n",
      "remote: Compressing objects: 100% (82/82), done.\u001b[K\n",
      "remote: Total 1721 (delta 56), reused 35 (delta 16), pack-reused 1618 (from 1)\u001b[K\n",
      "Receiving objects: 100% (1721/1721), 68.81 MiB | 24.64 MiB/s, done.\n",
      "Resolving deltas: 100% (1001/1001), done.\n"
     ]
    }
   ],
   "source": [
    "from kaggle_secrets import UserSecretsClient\n",
    "\n",
    "token = UserSecretsClient().get_secret(\"Token\")\n",
    "\n",
    "! git clone https://{token}@github.com/madratak/RECsys_Challenge2024.git"
   ]
  },
  {
   "cell_type": "code",
   "execution_count": 3,
   "metadata": {
    "execution": {
     "iopub.execute_input": "2024-11-15T12:53:59.936832Z",
     "iopub.status.busy": "2024-11-15T12:53:59.935707Z",
     "iopub.status.idle": "2024-11-15T12:54:14.023096Z",
     "shell.execute_reply": "2024-11-15T12:54:14.021494Z",
     "shell.execute_reply.started": "2024-11-15T12:53:59.936764Z"
    },
    "trusted": true
   },
   "outputs": [
    {
     "name": "stdout",
     "output_type": "stream",
     "text": [
      "Collecting PyGithub\n",
      "  Downloading PyGithub-2.5.0-py3-none-any.whl.metadata (3.9 kB)\n",
      "Requirement already satisfied: requests in /opt/conda/lib/python3.10/site-packages (2.32.3)\n",
      "Collecting pynacl>=1.4.0 (from PyGithub)\n",
      "  Downloading PyNaCl-1.5.0-cp36-abi3-manylinux_2_17_x86_64.manylinux2014_x86_64.manylinux_2_24_x86_64.whl.metadata (8.6 kB)\n",
      "Requirement already satisfied: pyjwt>=2.4.0 in /opt/conda/lib/python3.10/site-packages (from pyjwt[crypto]>=2.4.0->PyGithub) (2.8.0)\n",
      "Requirement already satisfied: typing-extensions>=4.0.0 in /opt/conda/lib/python3.10/site-packages (from PyGithub) (4.12.2)\n",
      "Requirement already satisfied: urllib3>=1.26.0 in /opt/conda/lib/python3.10/site-packages (from PyGithub) (1.26.18)\n",
      "Requirement already satisfied: Deprecated in /opt/conda/lib/python3.10/site-packages (from PyGithub) (1.2.14)\n",
      "Requirement already satisfied: charset-normalizer<4,>=2 in /opt/conda/lib/python3.10/site-packages (from requests) (3.3.2)\n",
      "Requirement already satisfied: idna<4,>=2.5 in /opt/conda/lib/python3.10/site-packages (from requests) (3.7)\n",
      "Requirement already satisfied: certifi>=2017.4.17 in /opt/conda/lib/python3.10/site-packages (from requests) (2024.8.30)\n",
      "Requirement already satisfied: cryptography>=3.4.0 in /opt/conda/lib/python3.10/site-packages (from pyjwt[crypto]>=2.4.0->PyGithub) (42.0.8)\n",
      "Requirement already satisfied: cffi>=1.4.1 in /opt/conda/lib/python3.10/site-packages (from pynacl>=1.4.0->PyGithub) (1.16.0)\n",
      "Requirement already satisfied: wrapt<2,>=1.10 in /opt/conda/lib/python3.10/site-packages (from Deprecated->PyGithub) (1.16.0)\n",
      "Requirement already satisfied: pycparser in /opt/conda/lib/python3.10/site-packages (from cffi>=1.4.1->pynacl>=1.4.0->PyGithub) (2.22)\n",
      "Downloading PyGithub-2.5.0-py3-none-any.whl (375 kB)\n",
      "\u001b[2K   \u001b[90m━━━━━━━━━━━━━━━━━━━━━━━━━━━━━━━━━━━━━━━━\u001b[0m \u001b[32m375.9/375.9 kB\u001b[0m \u001b[31m6.0 MB/s\u001b[0m eta \u001b[36m0:00:00\u001b[0ma \u001b[36m0:00:01\u001b[0m\n",
      "\u001b[?25hDownloading PyNaCl-1.5.0-cp36-abi3-manylinux_2_17_x86_64.manylinux2014_x86_64.manylinux_2_24_x86_64.whl (856 kB)\n",
      "\u001b[2K   \u001b[90m━━━━━━━━━━━━━━━━━━━━━━━━━━━━━━━━━━━━━━━━\u001b[0m \u001b[32m856.7/856.7 kB\u001b[0m \u001b[31m25.8 MB/s\u001b[0m eta \u001b[36m0:00:00\u001b[0m\n",
      "\u001b[?25hInstalling collected packages: pynacl, PyGithub\n",
      "Successfully installed PyGithub-2.5.0 pynacl-1.5.0\n"
     ]
    }
   ],
   "source": [
    "! pip install PyGithub requests"
   ]
  },
  {
   "cell_type": "code",
   "execution_count": 4,
   "metadata": {
    "_kg_hide-input": false,
    "execution": {
     "iopub.execute_input": "2024-11-15T12:54:14.026010Z",
     "iopub.status.busy": "2024-11-15T12:54:14.025610Z",
     "iopub.status.idle": "2024-11-15T12:56:53.042619Z",
     "shell.execute_reply": "2024-11-15T12:56:53.041312Z",
     "shell.execute_reply.started": "2024-11-15T12:54:14.025970Z"
    },
    "trusted": true
   },
   "outputs": [
    {
     "name": "stdout",
     "output_type": "stream",
     "text": [
      "run_compile_all_cython: Found 11 Cython files in 5 folders...\n",
      "run_compile_all_cython: All files will be compiled using your current python environment: '/opt/conda/bin/python'\n",
      "Compiling [1/11]: MatrixFactorization_Cython_Epoch.pyx... \n",
      "In file included from \u001b[01m\u001b[K/opt/conda/lib/python3.10/site-packages/numpy/core/include/numpy/ndarraytypes.h:1929\u001b[m\u001b[K,\n",
      "                 from \u001b[01m\u001b[K/opt/conda/lib/python3.10/site-packages/numpy/core/include/numpy/ndarrayobject.h:12\u001b[m\u001b[K,\n",
      "                 from \u001b[01m\u001b[K/opt/conda/lib/python3.10/site-packages/numpy/core/include/numpy/arrayobject.h:5\u001b[m\u001b[K,\n",
      "                 from \u001b[01m\u001b[KMatrixFactorization_Cython_Epoch.c:1252\u001b[m\u001b[K:\n",
      "\u001b[01m\u001b[K/opt/conda/lib/python3.10/site-packages/numpy/core/include/numpy/npy_1_7_deprecated_api.h:17:2:\u001b[m\u001b[K \u001b[01;35m\u001b[Kwarning: \u001b[m\u001b[K#warning \"Using deprecated NumPy API, disable it with \" \"#define NPY_NO_DEPRECATED_API NPY_1_7_API_VERSION\" [\u001b[01;35m\u001b[K-Wcpp\u001b[m\u001b[K]\n",
      "   17 | #\u001b[01;35m\u001b[Kwarning\u001b[m\u001b[K \"Using deprecated NumPy API, disable it with \" \\\n",
      "      |  \u001b[01;35m\u001b[K^~~~~~~\u001b[m\u001b[K\n",
      "\u001b[01m\u001b[KMatrixFactorization_Cython_Epoch.c:\u001b[m\u001b[K In function '\u001b[01m\u001b[K__pyx_pf_32MatrixFactorization_Cython_Epoch_32MatrixFactorization_Cython_Epoch_10epochIteration_Cython_ASY_SVD_SGD\u001b[m\u001b[K':\n",
      "\u001b[01m\u001b[KMatrixFactorization_Cython_Epoch.c:26255:9:\u001b[m\u001b[K \u001b[01;35m\u001b[Kwarning: \u001b[m\u001b[K'\u001b[01m\u001b[K__pyx_v_end_pos_seen_items\u001b[m\u001b[K' may be used uninitialized in this function [\u001b[01;35m\u001b[K-Wmaybe-uninitialized\u001b[m\u001b[K]\n",
      "26255 |         \u001b[01;35m\u001b[Kfor\u001b[m\u001b[K (__pyx_t_21 = __pyx_v_start_pos_seen_items; __pyx_t_21 < __pyx_t_20; __pyx_t_21+=1) {\n",
      "      |         \u001b[01;35m\u001b[K^~~\u001b[m\u001b[K\n",
      "\u001b[01m\u001b[KMatrixFactorization_Cython_Epoch.c:26255:9:\u001b[m\u001b[K \u001b[01;35m\u001b[Kwarning: \u001b[m\u001b[K'\u001b[01m\u001b[K__pyx_v_start_pos_seen_items\u001b[m\u001b[K' may be used uninitialized in this function [\u001b[01;35m\u001b[K-Wmaybe-uninitialized\u001b[m\u001b[K]\n",
      "/opt/conda/lib/python3.10/site-packages/Cython/Compiler/Main.py:381: FutureWarning: Cython directive 'language_level' not set, using '3str' for now (Py3). This has changed from earlier releases! File: /kaggle/working/RECsys_Challenge2024/Recommenders/MatrixFactorization/Cython/MatrixFactorization_Cython_Epoch.pyx\n",
      "  tree = Parsing.p_module(s, pxd, full_module_name)\n",
      "Compiling [1/11]: MatrixFactorization_Cython_Epoch.pyx... PASS\n",
      "\n",
      "Compiling [2/11]: MatrixFactorizationImpressions_Cython_Epoch.pyx... \n",
      "In file included from \u001b[01m\u001b[K/opt/conda/lib/python3.10/site-packages/numpy/core/include/numpy/ndarraytypes.h:1929\u001b[m\u001b[K,\n",
      "                 from \u001b[01m\u001b[K/opt/conda/lib/python3.10/site-packages/numpy/core/include/numpy/ndarrayobject.h:12\u001b[m\u001b[K,\n",
      "                 from \u001b[01m\u001b[K/opt/conda/lib/python3.10/site-packages/numpy/core/include/numpy/arrayobject.h:5\u001b[m\u001b[K,\n",
      "                 from \u001b[01m\u001b[KMatrixFactorizationImpressions_Cython_Epoch.c:1252\u001b[m\u001b[K:\n",
      "\u001b[01m\u001b[K/opt/conda/lib/python3.10/site-packages/numpy/core/include/numpy/npy_1_7_deprecated_api.h:17:2:\u001b[m\u001b[K \u001b[01;35m\u001b[Kwarning: \u001b[m\u001b[K#warning \"Using deprecated NumPy API, disable it with \" \"#define NPY_NO_DEPRECATED_API NPY_1_7_API_VERSION\" [\u001b[01;35m\u001b[K-Wcpp\u001b[m\u001b[K]\n",
      "   17 | #\u001b[01;35m\u001b[Kwarning\u001b[m\u001b[K \"Using deprecated NumPy API, disable it with \" \\\n",
      "      |  \u001b[01;35m\u001b[K^~~~~~~\u001b[m\u001b[K\n",
      "\u001b[01m\u001b[KMatrixFactorizationImpressions_Cython_Epoch.c:\u001b[m\u001b[K In function '\u001b[01m\u001b[K__pyx_f_43MatrixFactorizationImpressions_Cython_Epoch_32MatrixFactorization_Cython_Epoch_sampleBPR_Cython\u001b[m\u001b[K':\n",
      "\u001b[01m\u001b[KMatrixFactorizationImpressions_Cython_Epoch.c:30351:17:\u001b[m\u001b[K \u001b[01;35m\u001b[Kwarning: \u001b[m\u001b[K'\u001b[01m\u001b[K__pyx_v_start_pos_impression_items\u001b[m\u001b[K' may be used uninitialized in this function [\u001b[01;35m\u001b[K-Wmaybe-uninitialized\u001b[m\u001b[K]\n",
      "30351 |       \u001b[01;35m\u001b[K__pyx_t_4 = (__pyx_v_start_pos_impression_items + __pyx_v_index)\u001b[m\u001b[K;\n",
      "      |       \u001b[01;35m\u001b[K~~~~~~~~~~^~~~~~~~~~~~~~~~~~~~~~~~~~~~~~~~~~~~~~~~~~~~~~~~~~~~~~\u001b[m\u001b[K\n",
      "\u001b[01m\u001b[KMatrixFactorizationImpressions_Cython_Epoch.c:\u001b[m\u001b[K In function '\u001b[01m\u001b[K__pyx_pf_43MatrixFactorizationImpressions_Cython_Epoch_32MatrixFactorization_Cython_Epoch_10epochIteration_Cython_ASY_SVD_SGD\u001b[m\u001b[K':\n",
      "\u001b[01m\u001b[KMatrixFactorizationImpressions_Cython_Epoch.c:26111:7:\u001b[m\u001b[K \u001b[01;35m\u001b[Kwarning: \u001b[m\u001b[K'\u001b[01m\u001b[K__pyx_v_end_pos_seen_items\u001b[m\u001b[K' may be used uninitialized in this function [\u001b[01;35m\u001b[K-Wmaybe-uninitialized\u001b[m\u001b[K]\n",
      "26111 |       \u001b[01;35m\u001b[Kfor\u001b[m\u001b[K (__pyx_t_21 = __pyx_v_start_pos_seen_items; __pyx_t_21 < __pyx_t_20; __pyx_t_21+=1) {\n",
      "      |       \u001b[01;35m\u001b[K^~~\u001b[m\u001b[K\n",
      "\u001b[01m\u001b[KMatrixFactorizationImpressions_Cython_Epoch.c:26111:7:\u001b[m\u001b[K \u001b[01;35m\u001b[Kwarning: \u001b[m\u001b[K'\u001b[01m\u001b[K__pyx_v_start_pos_seen_items\u001b[m\u001b[K' may be used uninitialized in this function [\u001b[01;35m\u001b[K-Wmaybe-uninitialized\u001b[m\u001b[K]\n",
      "/opt/conda/lib/python3.10/site-packages/Cython/Compiler/Main.py:381: FutureWarning: Cython directive 'language_level' not set, using '3str' for now (Py3). This has changed from earlier releases! File: /kaggle/working/RECsys_Challenge2024/Recommenders/MatrixFactorization/Cython/MatrixFactorizationImpressions_Cython_Epoch.pyx\n",
      "  tree = Parsing.p_module(s, pxd, full_module_name)\n",
      "Compiling [2/11]: MatrixFactorizationImpressions_Cython_Epoch.pyx... PASS\n",
      "\n",
      "Compiling [3/11]: Compute_Similarity_Cython.pyx... \n",
      "warning: Compute_Similarity_Cython.pyx:21:0: The 'IF' statement is deprecated and will be removed in a future Cython version. Consider using runtime conditions or C macros instead. See https://github.com/cython/cython/issues/4310\n",
      "In file included from \u001b[01m\u001b[K/opt/conda/lib/python3.10/site-packages/numpy/core/include/numpy/ndarraytypes.h:1929\u001b[m\u001b[K,\n",
      "                 from \u001b[01m\u001b[K/opt/conda/lib/python3.10/site-packages/numpy/core/include/numpy/ndarrayobject.h:12\u001b[m\u001b[K,\n",
      "                 from \u001b[01m\u001b[K/opt/conda/lib/python3.10/site-packages/numpy/core/include/numpy/arrayobject.h:5\u001b[m\u001b[K,\n",
      "                 from \u001b[01m\u001b[KCompute_Similarity_Cython.c:1252\u001b[m\u001b[K:\n",
      "\u001b[01m\u001b[K/opt/conda/lib/python3.10/site-packages/numpy/core/include/numpy/npy_1_7_deprecated_api.h:17:2:\u001b[m\u001b[K \u001b[01;35m\u001b[Kwarning: \u001b[m\u001b[K#warning \"Using deprecated NumPy API, disable it with \" \"#define NPY_NO_DEPRECATED_API NPY_1_7_API_VERSION\" [\u001b[01;35m\u001b[K-Wcpp\u001b[m\u001b[K]\n",
      "   17 | #\u001b[01;35m\u001b[Kwarning\u001b[m\u001b[K \"Using deprecated NumPy API, disable it with \" \\\n",
      "      |  \u001b[01;35m\u001b[K^~~~~~~\u001b[m\u001b[K\n",
      "/opt/conda/lib/python3.10/site-packages/Cython/Compiler/Main.py:381: FutureWarning: Cython directive 'language_level' not set, using '3str' for now (Py3). This has changed from earlier releases! File: /kaggle/working/RECsys_Challenge2024/Recommenders/Similarity/Cython/Compute_Similarity_Cython.pyx\n",
      "  tree = Parsing.p_module(s, pxd, full_module_name)\n",
      "warning: Compute_Similarity_Cython.pyx:21:0: The 'IF' statement is deprecated and will be removed in a future Cython version. Consider using runtime conditions or C macros instead. See https://github.com/cython/cython/issues/4310\n",
      "Compiling [3/11]: Compute_Similarity_Cython.pyx... PASS\n",
      "\n",
      "Compiling [4/11]: Sparse_Matrix_Tree_CSR.pyx... \n",
      "warning: Sparse_Matrix_Tree_CSR.pyx:132:34: Non-trivial type declarators in shared declaration (e.g. mix of pointers and values). Each pointer declaration should be on its own line.\n",
      "warning: Sparse_Matrix_Tree_CSR.pyx:132:66: Non-trivial type declarators in shared declaration (e.g. mix of pointers and values). Each pointer declaration should be on its own line.\n",
      "warning: Sparse_Matrix_Tree_CSR.pyx:343:35: Non-trivial type declarators in shared declaration (e.g. mix of pointers and values). Each pointer declaration should be on its own line.\n",
      "warning: Sparse_Matrix_Tree_CSR.pyx:343:52: Non-trivial type declarators in shared declaration (e.g. mix of pointers and values). Each pointer declaration should be on its own line.\n",
      "warning: Sparse_Matrix_Tree_CSR.pyx:442:35: Non-trivial type declarators in shared declaration (e.g. mix of pointers and values). Each pointer declaration should be on its own line.\n",
      "warning: Sparse_Matrix_Tree_CSR.pyx:442:53: Non-trivial type declarators in shared declaration (e.g. mix of pointers and values). Each pointer declaration should be on its own line.\n",
      "warning: Sparse_Matrix_Tree_CSR.pyx:442:69: Non-trivial type declarators in shared declaration (e.g. mix of pointers and values). Each pointer declaration should be on its own line.\n",
      "warning: Sparse_Matrix_Tree_CSR.pyx:577:35: Non-trivial type declarators in shared declaration (e.g. mix of pointers and values). Each pointer declaration should be on its own line.\n",
      "warning: Sparse_Matrix_Tree_CSR.pyx:577:42: Non-trivial type declarators in shared declaration (e.g. mix of pointers and values). Each pointer declaration should be on its own line.\n",
      "warning: Sparse_Matrix_Tree_CSR.pyx:578:35: Non-trivial type declarators in shared declaration (e.g. mix of pointers and values). Each pointer declaration should be on its own line.\n",
      "warning: Sparse_Matrix_Tree_CSR.pyx:578:53: Non-trivial type declarators in shared declaration (e.g. mix of pointers and values). Each pointer declaration should be on its own line.\n",
      "\n",
      "Error compiling Cython file:\n",
      "------------------------------------------------------------\n",
      "...\n",
      "            vector_pointer_to_list_elements[index].head = current_element\n",
      "            current_element = current_element.higher\n",
      "\n",
      "\n",
      "        # Sort array elements on their data field\n",
      "        qsort(vector_pointer_to_list_elements, list_length, sizeof(head_pointer_tree_s), compare_struct_on_data)\n",
      "                                                                                         ^\n",
      "------------------------------------------------------------\n",
      "\n",
      "Sparse_Matrix_Tree_CSR.pyx:516:89: Cannot assign type 'int (const void *, const void *) except? -1' to 'int (*)(const_void *, const_void *) noexcept'. Exception values are incompatible. Suggest adding 'noexcept' to the type of 'compare_struct_on_data'.\n",
      "\n",
      "Error compiling Cython file:\n",
      "------------------------------------------------------------\n",
      "...\n",
      "        # Sort array elements on their data field\n",
      "        qsort(vector_pointer_to_list_elements, list_length, sizeof(head_pointer_tree_s), compare_struct_on_data)\n",
      "\n",
      "        # Sort only the TopK according to their column field\n",
      "        # Sort is from lower to higher, therefore the elements to be considered are from len-topK to len\n",
      "        qsort(&vector_pointer_to_list_elements[list_length-TopK], TopK, sizeof(head_pointer_tree_s), compare_struct_on_column)\n",
      "                                                                                                     ^\n",
      "------------------------------------------------------------\n",
      "\n",
      "Sparse_Matrix_Tree_CSR.pyx:520:101: Cannot assign type 'int (const void *, const void *) except? -1' to 'int (*)(const_void *, const_void *) noexcept'. Exception values are incompatible. Suggest adding 'noexcept' to the type of 'compare_struct_on_column'.\n",
      "Traceback (most recent call last):\n",
      "  File \"/kaggle/working/RECsys_Challenge2024/CythonCompiler/compile_script.py\", line 48, in <module>\n",
      "    setup(\n",
      "  File \"/opt/conda/lib/python3.10/site-packages/setuptools/__init__.py\", line 103, in setup\n",
      "    return distutils.core.setup(**attrs)\n",
      "  File \"/opt/conda/lib/python3.10/site-packages/setuptools/_distutils/core.py\", line 184, in setup\n",
      "    return run_commands(dist)\n",
      "  File \"/opt/conda/lib/python3.10/site-packages/setuptools/_distutils/core.py\", line 200, in run_commands\n",
      "    dist.run_commands()\n",
      "  File \"/opt/conda/lib/python3.10/site-packages/setuptools/_distutils/dist.py\", line 969, in run_commands\n",
      "    self.run_command(cmd)\n",
      "  File \"/opt/conda/lib/python3.10/site-packages/setuptools/dist.py\", line 968, in run_command\n",
      "    super().run_command(command)\n",
      "  File \"/opt/conda/lib/python3.10/site-packages/setuptools/_distutils/dist.py\", line 988, in run_command\n",
      "    cmd_obj.run()\n",
      "  File \"/opt/conda/lib/python3.10/site-packages/setuptools/_distutils/command/build_ext.py\", line 359, in run\n",
      "    self.build_extensions()\n",
      "  File \"/opt/conda/lib/python3.10/site-packages/setuptools/_distutils/command/build_ext.py\", line 479, in build_extensions\n",
      "    self._build_extensions_serial()\n",
      "  File \"/opt/conda/lib/python3.10/site-packages/setuptools/_distutils/command/build_ext.py\", line 505, in _build_extensions_serial\n",
      "    self.build_extension(ext)\n",
      "  File \"/opt/conda/lib/python3.10/site-packages/Cython/Distutils/build_ext.py\", line 130, in build_extension\n",
      "    new_ext = cythonize(\n",
      "  File \"/opt/conda/lib/python3.10/site-packages/Cython/Build/Dependencies.py\", line 1154, in cythonize\n",
      "    cythonize_one(*args)\n",
      "  File \"/opt/conda/lib/python3.10/site-packages/Cython/Build/Dependencies.py\", line 1321, in cythonize_one\n",
      "    raise CompileError(None, pyx_file)\n",
      "Cython.Compiler.Errors.CompileError: Sparse_Matrix_Tree_CSR.pyx\n",
      "Traceback (most recent call last):\n",
      "  File \"/kaggle/working/RECsys_Challenge2024/run_compile_all_cython.py\", line 60, in <module>\n",
      "    run_compile_subprocess(file_path, [file_name])\n",
      "  File \"/kaggle/working/RECsys_Challenge2024/CythonCompiler/run_compile_subprocess.py\", line 51, in run_compile_subprocess\n",
      "    raise exc\n",
      "  File \"/kaggle/working/RECsys_Challenge2024/CythonCompiler/run_compile_subprocess.py\", line 32, in run_compile_subprocess\n",
      "    output = subprocess.check_output(' '.join(command),\n",
      "  File \"/opt/conda/lib/python3.10/subprocess.py\", line 421, in check_output\n",
      "    return run(*popenargs, stdout=PIPE, timeout=timeout, check=True,\n",
      "  File \"/opt/conda/lib/python3.10/subprocess.py\", line 526, in run\n",
      "    raise CalledProcessError(retcode, process.args,\n",
      "subprocess.CalledProcessError: Command '/opt/conda/bin/python /kaggle/working/RECsys_Challenge2024/CythonCompiler/compile_script.py Sparse_Matrix_Tree_CSR.pyx build_ext --inplace' returned non-zero exit status 1.\n",
      "Compiling [4/11]: Sparse_Matrix_Tree_CSR.pyx... FAIL: Command '/opt/conda/bin/python /kaggle/working/RECsys_Challenge2024/CythonCompiler/compile_script.py Sparse_Matrix_Tree_CSR.pyx build_ext --inplace' returned non-zero exit status 1.\n",
      "\n",
      "Compiling [5/11]: SLIM_BPR_Cython_Epoch.pyx... \n",
      "warning: SLIM_BPR_Cython_Epoch.pyx:24:0: The 'IF' statement is deprecated and will be removed in a future Cython version. Consider using runtime conditions or C macros instead. See https://github.com/cython/cython/issues/4310\n",
      "warning: SLIM_BPR_Cython_Epoch.pyx:632:34: Non-trivial type declarators in shared declaration (e.g. mix of pointers and values). Each pointer declaration should be on its own line.\n",
      "warning: SLIM_BPR_Cython_Epoch.pyx:632:66: Non-trivial type declarators in shared declaration (e.g. mix of pointers and values). Each pointer declaration should be on its own line.\n",
      "warning: SLIM_BPR_Cython_Epoch.pyx:817:35: Non-trivial type declarators in shared declaration (e.g. mix of pointers and values). Each pointer declaration should be on its own line.\n",
      "warning: SLIM_BPR_Cython_Epoch.pyx:817:52: Non-trivial type declarators in shared declaration (e.g. mix of pointers and values). Each pointer declaration should be on its own line.\n",
      "warning: SLIM_BPR_Cython_Epoch.pyx:916:35: Non-trivial type declarators in shared declaration (e.g. mix of pointers and values). Each pointer declaration should be on its own line.\n",
      "warning: SLIM_BPR_Cython_Epoch.pyx:916:53: Non-trivial type declarators in shared declaration (e.g. mix of pointers and values). Each pointer declaration should be on its own line.\n",
      "warning: SLIM_BPR_Cython_Epoch.pyx:916:69: Non-trivial type declarators in shared declaration (e.g. mix of pointers and values). Each pointer declaration should be on its own line.\n",
      "warning: SLIM_BPR_Cython_Epoch.pyx:1051:35: Non-trivial type declarators in shared declaration (e.g. mix of pointers and values). Each pointer declaration should be on its own line.\n",
      "warning: SLIM_BPR_Cython_Epoch.pyx:1051:42: Non-trivial type declarators in shared declaration (e.g. mix of pointers and values). Each pointer declaration should be on its own line.\n",
      "warning: SLIM_BPR_Cython_Epoch.pyx:1052:35: Non-trivial type declarators in shared declaration (e.g. mix of pointers and values). Each pointer declaration should be on its own line.\n",
      "warning: SLIM_BPR_Cython_Epoch.pyx:1052:53: Non-trivial type declarators in shared declaration (e.g. mix of pointers and values). Each pointer declaration should be on its own line.\n",
      "\n",
      "Error compiling Cython file:\n",
      "------------------------------------------------------------\n",
      "...\n",
      "            vector_pointer_to_list_elements[index].head = current_element\n",
      "            current_element = current_element.higher\n",
      "\n",
      "\n",
      "        # Sort array elements on their data field\n",
      "        qsort(vector_pointer_to_list_elements, list_length, sizeof(head_pointer_tree_s), compare_struct_on_data)\n",
      "                                                                                         ^\n",
      "------------------------------------------------------------\n",
      "\n",
      "SLIM_BPR_Cython_Epoch.pyx:990:89: Cannot assign type 'int (const void *, const void *) except? -1' to 'int (*)(const_void *, const_void *) noexcept'. Exception values are incompatible. Suggest adding 'noexcept' to the type of 'compare_struct_on_data'.\n",
      "\n",
      "Error compiling Cython file:\n",
      "------------------------------------------------------------\n",
      "...\n",
      "        # Sort array elements on their data field\n",
      "        qsort(vector_pointer_to_list_elements, list_length, sizeof(head_pointer_tree_s), compare_struct_on_data)\n",
      "\n",
      "        # Sort only the TopK according to their column field\n",
      "        # Sort is from lower to higher, therefore the elements to be considered are from len-topK to len\n",
      "        qsort(&vector_pointer_to_list_elements[list_length-TopK], TopK, sizeof(head_pointer_tree_s), compare_struct_on_column)\n",
      "                                                                                                     ^\n",
      "------------------------------------------------------------\n",
      "\n",
      "SLIM_BPR_Cython_Epoch.pyx:994:101: Cannot assign type 'int (const void *, const void *) except? -1' to 'int (*)(const_void *, const_void *) noexcept'. Exception values are incompatible. Suggest adding 'noexcept' to the type of 'compare_struct_on_column'.\n",
      "Traceback (most recent call last):\n",
      "  File \"/kaggle/working/RECsys_Challenge2024/CythonCompiler/compile_script.py\", line 48, in <module>\n",
      "    setup(\n",
      "  File \"/opt/conda/lib/python3.10/site-packages/setuptools/__init__.py\", line 103, in setup\n",
      "    return distutils.core.setup(**attrs)\n",
      "  File \"/opt/conda/lib/python3.10/site-packages/setuptools/_distutils/core.py\", line 184, in setup\n",
      "    return run_commands(dist)\n",
      "  File \"/opt/conda/lib/python3.10/site-packages/setuptools/_distutils/core.py\", line 200, in run_commands\n",
      "    dist.run_commands()\n",
      "  File \"/opt/conda/lib/python3.10/site-packages/setuptools/_distutils/dist.py\", line 969, in run_commands\n",
      "    self.run_command(cmd)\n",
      "  File \"/opt/conda/lib/python3.10/site-packages/setuptools/dist.py\", line 968, in run_command\n",
      "    super().run_command(command)\n",
      "  File \"/opt/conda/lib/python3.10/site-packages/setuptools/_distutils/dist.py\", line 988, in run_command\n",
      "    cmd_obj.run()\n",
      "  File \"/opt/conda/lib/python3.10/site-packages/setuptools/_distutils/command/build_ext.py\", line 359, in run\n",
      "    self.build_extensions()\n",
      "  File \"/opt/conda/lib/python3.10/site-packages/setuptools/_distutils/command/build_ext.py\", line 479, in build_extensions\n",
      "    self._build_extensions_serial()\n",
      "  File \"/opt/conda/lib/python3.10/site-packages/setuptools/_distutils/command/build_ext.py\", line 505, in _build_extensions_serial\n",
      "    self.build_extension(ext)\n",
      "  File \"/opt/conda/lib/python3.10/site-packages/Cython/Distutils/build_ext.py\", line 130, in build_extension\n",
      "    new_ext = cythonize(\n",
      "  File \"/opt/conda/lib/python3.10/site-packages/Cython/Build/Dependencies.py\", line 1154, in cythonize\n",
      "    cythonize_one(*args)\n",
      "  File \"/opt/conda/lib/python3.10/site-packages/Cython/Build/Dependencies.py\", line 1321, in cythonize_one\n",
      "    raise CompileError(None, pyx_file)\n",
      "Cython.Compiler.Errors.CompileError: SLIM_BPR_Cython_Epoch.pyx\n",
      "Traceback (most recent call last):\n",
      "  File \"/kaggle/working/RECsys_Challenge2024/run_compile_all_cython.py\", line 60, in <module>\n",
      "    run_compile_subprocess(file_path, [file_name])\n",
      "  File \"/kaggle/working/RECsys_Challenge2024/CythonCompiler/run_compile_subprocess.py\", line 51, in run_compile_subprocess\n",
      "    raise exc\n",
      "  File \"/kaggle/working/RECsys_Challenge2024/CythonCompiler/run_compile_subprocess.py\", line 32, in run_compile_subprocess\n",
      "    output = subprocess.check_output(' '.join(command),\n",
      "  File \"/opt/conda/lib/python3.10/subprocess.py\", line 421, in check_output\n",
      "    return run(*popenargs, stdout=PIPE, timeout=timeout, check=True,\n",
      "  File \"/opt/conda/lib/python3.10/subprocess.py\", line 526, in run\n",
      "    raise CalledProcessError(retcode, process.args,\n",
      "subprocess.CalledProcessError: Command '/opt/conda/bin/python /kaggle/working/RECsys_Challenge2024/CythonCompiler/compile_script.py SLIM_BPR_Cython_Epoch.pyx build_ext --inplace' returned non-zero exit status 1.\n",
      "Compiling [5/11]: SLIM_BPR_Cython_Epoch.pyx... FAIL: Command '/opt/conda/bin/python /kaggle/working/RECsys_Challenge2024/CythonCompiler/compile_script.py SLIM_BPR_Cython_Epoch.pyx build_ext --inplace' returned non-zero exit status 1.\n",
      "\n",
      "Compiling [6/11]: Triangular_Matrix.pyx... \n",
      "warning: Triangular_Matrix.pyx:22:0: The 'IF' statement is deprecated and will be removed in a future Cython version. Consider using runtime conditions or C macros instead. See https://github.com/cython/cython/issues/4310\n",
      "In file included from \u001b[01m\u001b[K/opt/conda/lib/python3.10/site-packages/numpy/core/include/numpy/ndarraytypes.h:1929\u001b[m\u001b[K,\n",
      "                 from \u001b[01m\u001b[K/opt/conda/lib/python3.10/site-packages/numpy/core/include/numpy/ndarrayobject.h:12\u001b[m\u001b[K,\n",
      "                 from \u001b[01m\u001b[K/opt/conda/lib/python3.10/site-packages/numpy/core/include/numpy/arrayobject.h:5\u001b[m\u001b[K,\n",
      "                 from \u001b[01m\u001b[KTriangular_Matrix.c:1252\u001b[m\u001b[K:\n",
      "\u001b[01m\u001b[K/opt/conda/lib/python3.10/site-packages/numpy/core/include/numpy/npy_1_7_deprecated_api.h:17:2:\u001b[m\u001b[K \u001b[01;35m\u001b[Kwarning: \u001b[m\u001b[K#warning \"Using deprecated NumPy API, disable it with \" \"#define NPY_NO_DEPRECATED_API NPY_1_7_API_VERSION\" [\u001b[01;35m\u001b[K-Wcpp\u001b[m\u001b[K]\n",
      "   17 | #\u001b[01;35m\u001b[Kwarning\u001b[m\u001b[K \"Using deprecated NumPy API, disable it with \" \\\n",
      "      |  \u001b[01;35m\u001b[K^~~~~~~\u001b[m\u001b[K\n",
      "/opt/conda/lib/python3.10/site-packages/Cython/Compiler/Main.py:381: FutureWarning: Cython directive 'language_level' not set, using '3str' for now (Py3). This has changed from earlier releases! File: /kaggle/working/RECsys_Challenge2024/Recommenders/SLIM/Cython/Triangular_Matrix.pyx\n",
      "  tree = Parsing.p_module(s, pxd, full_module_name)\n",
      "warning: Triangular_Matrix.pyx:22:0: The 'IF' statement is deprecated and will be removed in a future Cython version. Consider using runtime conditions or C macros instead. See https://github.com/cython/cython/issues/4310\n",
      "Compiling [6/11]: Triangular_Matrix.pyx... PASS\n",
      "\n",
      "Compiling [7/11]: HP3_Similarity_Cython_SGD.pyx... \n",
      "performance hint: HP3_Similarity_Cython_SGD.pyx:113:40: Index should be typed for more efficient access\n",
      "performance hint: HP3_Similarity_Cython_SGD.pyx:114:40: Index should be typed for more efficient access\n",
      "In file included from \u001b[01m\u001b[K/opt/conda/lib/python3.10/site-packages/numpy/core/include/numpy/ndarraytypes.h:1929\u001b[m\u001b[K,\n",
      "                 from \u001b[01m\u001b[K/opt/conda/lib/python3.10/site-packages/numpy/core/include/numpy/ndarrayobject.h:12\u001b[m\u001b[K,\n",
      "                 from \u001b[01m\u001b[K/opt/conda/lib/python3.10/site-packages/numpy/core/include/numpy/arrayobject.h:5\u001b[m\u001b[K,\n",
      "                 from \u001b[01m\u001b[KHP3_Similarity_Cython_SGD.c:1252\u001b[m\u001b[K:\n",
      "\u001b[01m\u001b[K/opt/conda/lib/python3.10/site-packages/numpy/core/include/numpy/npy_1_7_deprecated_api.h:17:2:\u001b[m\u001b[K \u001b[01;35m\u001b[Kwarning: \u001b[m\u001b[K#warning \"Using deprecated NumPy API, disable it with \" \"#define NPY_NO_DEPRECATED_API NPY_1_7_API_VERSION\" [\u001b[01;35m\u001b[K-Wcpp\u001b[m\u001b[K]\n",
      "   17 | #\u001b[01;35m\u001b[Kwarning\u001b[m\u001b[K \"Using deprecated NumPy API, disable it with \" \\\n",
      "      |  \u001b[01;35m\u001b[K^~~~~~~\u001b[m\u001b[K\n",
      "\u001b[01m\u001b[KHP3_Similarity_Cython_SGD.c:\u001b[m\u001b[K In function '\u001b[01m\u001b[K__pyx_pf_25HP3_Similarity_Cython_SGD_25HP3_Similarity_Cython_SGD_4fit\u001b[m\u001b[K':\n",
      "\u001b[01m\u001b[KHP3_Similarity_Cython_SGD.c:23631:55:\u001b[m\u001b[K \u001b[01;35m\u001b[Kwarning: \u001b[m\u001b[K'\u001b[01m\u001b[K__pyx_v_sample_num\u001b[m\u001b[K' may be used uninitialized in this function [\u001b[01;35m\u001b[K-Wmaybe-uninitialized\u001b[m\u001b[K]\n",
      "23631 |   __pyx_t_1 = PyFloat_FromDouble((__pyx_v_cum_loss / \u001b[01;35m\u001b[K((double)__pyx_v_sample_num)\u001b[m\u001b[K)); if (unlikely(!__pyx_t_1)) __PYX_ERR(0, 291, __pyx_L1_error)\n",
      "      |                                                      \u001b[01;35m\u001b[K~^~~~~~~~~~~~~~~~~~~~~~~~~~~\u001b[m\u001b[K\n",
      "/opt/conda/lib/python3.10/site-packages/Cython/Compiler/Main.py:381: FutureWarning: Cython directive 'language_level' not set, using '3str' for now (Py3). This has changed from earlier releases! File: /kaggle/working/RECsys_Challenge2024/Recommenders/FeatureWeighting/Cython/HP3_Similarity_Cython_SGD.pyx\n",
      "  tree = Parsing.p_module(s, pxd, full_module_name)\n",
      "performance hint: HP3_Similarity_Cython_SGD.pyx:113:40: Index should be typed for more efficient access\n",
      "performance hint: HP3_Similarity_Cython_SGD.pyx:114:40: Index should be typed for more efficient access\n",
      "Compiling [7/11]: HP3_Similarity_Cython_SGD.pyx... PASS\n",
      "\n",
      "Compiling [8/11]: FBSM_Rating_Cython_SGD.pyx... \n",
      "In file included from \u001b[01m\u001b[K/opt/conda/lib/python3.10/site-packages/numpy/core/include/numpy/ndarraytypes.h:1929\u001b[m\u001b[K,\n",
      "                 from \u001b[01m\u001b[K/opt/conda/lib/python3.10/site-packages/numpy/core/include/numpy/ndarrayobject.h:12\u001b[m\u001b[K,\n",
      "                 from \u001b[01m\u001b[K/opt/conda/lib/python3.10/site-packages/numpy/core/include/numpy/arrayobject.h:5\u001b[m\u001b[K,\n",
      "                 from \u001b[01m\u001b[KFBSM_Rating_Cython_SGD.c:1252\u001b[m\u001b[K:\n",
      "\u001b[01m\u001b[K/opt/conda/lib/python3.10/site-packages/numpy/core/include/numpy/npy_1_7_deprecated_api.h:17:2:\u001b[m\u001b[K \u001b[01;35m\u001b[Kwarning: \u001b[m\u001b[K#warning \"Using deprecated NumPy API, disable it with \" \"#define NPY_NO_DEPRECATED_API NPY_1_7_API_VERSION\" [\u001b[01;35m\u001b[K-Wcpp\u001b[m\u001b[K]\n",
      "   17 | #\u001b[01;35m\u001b[Kwarning\u001b[m\u001b[K \"Using deprecated NumPy API, disable it with \" \\\n",
      "      |  \u001b[01;35m\u001b[K^~~~~~~\u001b[m\u001b[K\n",
      "\u001b[01m\u001b[KFBSM_Rating_Cython_SGD.c:\u001b[m\u001b[K In function '\u001b[01m\u001b[K__pyx_pf_22FBSM_Rating_Cython_SGD_22FBSM_Rating_Cython_SGD_2fit\u001b[m\u001b[K':\n",
      "\u001b[01m\u001b[KFBSM_Rating_Cython_SGD.c:26607:55:\u001b[m\u001b[K \u001b[01;35m\u001b[Kwarning: \u001b[m\u001b[K'\u001b[01m\u001b[K__pyx_v_num_sample\u001b[m\u001b[K' may be used uninitialized in this function [\u001b[01;35m\u001b[K-Wmaybe-uninitialized\u001b[m\u001b[K]\n",
      "26607 |   __pyx_t_5 = PyFloat_FromDouble((__pyx_v_cum_loss / \u001b[01;35m\u001b[K((double)__pyx_v_num_sample)\u001b[m\u001b[K)); if (unlikely(!__pyx_t_5)) __PYX_ERR(0, 551, __pyx_L1_error)\n",
      "      |                                                      \u001b[01;35m\u001b[K~^~~~~~~~~~~~~~~~~~~~~~~~~~~\u001b[m\u001b[K\n",
      "/opt/conda/lib/python3.10/site-packages/Cython/Compiler/Main.py:381: FutureWarning: Cython directive 'language_level' not set, using '3str' for now (Py3). This has changed from earlier releases! File: /kaggle/working/RECsys_Challenge2024/Recommenders/FeatureWeighting/Cython/FBSM_Rating_Cython_SGD.pyx\n",
      "  tree = Parsing.p_module(s, pxd, full_module_name)\n",
      "Compiling [8/11]: FBSM_Rating_Cython_SGD.pyx... PASS\n",
      "\n",
      "Compiling [9/11]: CFW_D_Similarity_Cython_SGD.pyx... \n",
      "In file included from \u001b[01m\u001b[K/opt/conda/lib/python3.10/site-packages/numpy/core/include/numpy/ndarraytypes.h:1929\u001b[m\u001b[K,\n",
      "                 from \u001b[01m\u001b[K/opt/conda/lib/python3.10/site-packages/numpy/core/include/numpy/ndarrayobject.h:12\u001b[m\u001b[K,\n",
      "                 from \u001b[01m\u001b[K/opt/conda/lib/python3.10/site-packages/numpy/core/include/numpy/arrayobject.h:5\u001b[m\u001b[K,\n",
      "                 from \u001b[01m\u001b[KCFW_D_Similarity_Cython_SGD.c:1252\u001b[m\u001b[K:\n",
      "\u001b[01m\u001b[K/opt/conda/lib/python3.10/site-packages/numpy/core/include/numpy/npy_1_7_deprecated_api.h:17:2:\u001b[m\u001b[K \u001b[01;35m\u001b[Kwarning: \u001b[m\u001b[K#warning \"Using deprecated NumPy API, disable it with \" \"#define NPY_NO_DEPRECATED_API NPY_1_7_API_VERSION\" [\u001b[01;35m\u001b[K-Wcpp\u001b[m\u001b[K]\n",
      "   17 | #\u001b[01;35m\u001b[Kwarning\u001b[m\u001b[K \"Using deprecated NumPy API, disable it with \" \\\n",
      "      |  \u001b[01;35m\u001b[K^~~~~~~\u001b[m\u001b[K\n",
      "\u001b[01m\u001b[KCFW_D_Similarity_Cython_SGD.c:\u001b[m\u001b[K In function '\u001b[01m\u001b[K__pyx_pf_27CFW_D_Similarity_Cython_SGD_27CFW_D_Similarity_Cython_SGD_6fit\u001b[m\u001b[K':\n",
      "\u001b[01m\u001b[KCFW_D_Similarity_Cython_SGD.c:23373:55:\u001b[m\u001b[K \u001b[01;35m\u001b[Kwarning: \u001b[m\u001b[K'\u001b[01m\u001b[K__pyx_v_sample_num\u001b[m\u001b[K' may be used uninitialized in this function [\u001b[01;35m\u001b[K-Wmaybe-uninitialized\u001b[m\u001b[K]\n",
      "23373 |   __pyx_t_3 = PyFloat_FromDouble((__pyx_v_cum_loss / \u001b[01;35m\u001b[K((double)__pyx_v_sample_num)\u001b[m\u001b[K)); if (unlikely(!__pyx_t_3)) __PYX_ERR(0, 290, __pyx_L1_error)\n",
      "      |                                                      \u001b[01;35m\u001b[K~^~~~~~~~~~~~~~~~~~~~~~~~~~~\u001b[m\u001b[K\n",
      "/opt/conda/lib/python3.10/site-packages/Cython/Compiler/Main.py:381: FutureWarning: Cython directive 'language_level' not set, using '3str' for now (Py3). This has changed from earlier releases! File: /kaggle/working/RECsys_Challenge2024/Recommenders/FeatureWeighting/Cython/CFW_D_Similarity_Cython_SGD.pyx\n",
      "  tree = Parsing.p_module(s, pxd, full_module_name)\n",
      "Compiling [9/11]: CFW_D_Similarity_Cython_SGD.pyx... PASS\n",
      "\n",
      "Compiling [10/11]: CFW_DVV_Similarity_Cython_SGD.pyx... \n",
      "In file included from \u001b[01m\u001b[K/opt/conda/lib/python3.10/site-packages/numpy/core/include/numpy/ndarraytypes.h:1929\u001b[m\u001b[K,\n",
      "                 from \u001b[01m\u001b[K/opt/conda/lib/python3.10/site-packages/numpy/core/include/numpy/ndarrayobject.h:12\u001b[m\u001b[K,\n",
      "                 from \u001b[01m\u001b[K/opt/conda/lib/python3.10/site-packages/numpy/core/include/numpy/arrayobject.h:5\u001b[m\u001b[K,\n",
      "                 from \u001b[01m\u001b[KCFW_DVV_Similarity_Cython_SGD.c:1252\u001b[m\u001b[K:\n",
      "\u001b[01m\u001b[K/opt/conda/lib/python3.10/site-packages/numpy/core/include/numpy/npy_1_7_deprecated_api.h:17:2:\u001b[m\u001b[K \u001b[01;35m\u001b[Kwarning: \u001b[m\u001b[K#warning \"Using deprecated NumPy API, disable it with \" \"#define NPY_NO_DEPRECATED_API NPY_1_7_API_VERSION\" [\u001b[01;35m\u001b[K-Wcpp\u001b[m\u001b[K]\n",
      "   17 | #\u001b[01;35m\u001b[Kwarning\u001b[m\u001b[K \"Using deprecated NumPy API, disable it with \" \\\n",
      "      |  \u001b[01;35m\u001b[K^~~~~~~\u001b[m\u001b[K\n",
      "/opt/conda/lib/python3.10/site-packages/Cython/Compiler/Main.py:381: FutureWarning: Cython directive 'language_level' not set, using '3str' for now (Py3). This has changed from earlier releases! File: /kaggle/working/RECsys_Challenge2024/Recommenders/FeatureWeighting/Cython/CFW_DVV_Similarity_Cython_SGD.pyx\n",
      "  tree = Parsing.p_module(s, pxd, full_module_name)\n",
      "Compiling [10/11]: CFW_DVV_Similarity_Cython_SGD.pyx... PASS\n",
      "\n",
      "Compiling [11/11]: DataIterator.pyx... \n",
      "In file included from \u001b[01m\u001b[K/opt/conda/lib/python3.10/site-packages/numpy/core/include/numpy/ndarraytypes.h:1929\u001b[m\u001b[K,\n",
      "                 from \u001b[01m\u001b[K/opt/conda/lib/python3.10/site-packages/numpy/core/include/numpy/ndarrayobject.h:12\u001b[m\u001b[K,\n",
      "                 from \u001b[01m\u001b[K/opt/conda/lib/python3.10/site-packages/numpy/core/include/numpy/arrayobject.h:5\u001b[m\u001b[K,\n",
      "                 from \u001b[01m\u001b[KDataIterator.c:1252\u001b[m\u001b[K:\n",
      "\u001b[01m\u001b[K/opt/conda/lib/python3.10/site-packages/numpy/core/include/numpy/npy_1_7_deprecated_api.h:17:2:\u001b[m\u001b[K \u001b[01;35m\u001b[Kwarning: \u001b[m\u001b[K#warning \"Using deprecated NumPy API, disable it with \" \"#define NPY_NO_DEPRECATED_API NPY_1_7_API_VERSION\" [\u001b[01;35m\u001b[K-Wcpp\u001b[m\u001b[K]\n",
      "   17 | #\u001b[01;35m\u001b[Kwarning\u001b[m\u001b[K \"Using deprecated NumPy API, disable it with \" \\\n",
      "      |  \u001b[01;35m\u001b[K^~~~~~~\u001b[m\u001b[K\n",
      "\u001b[01m\u001b[KDataIterator.c:\u001b[m\u001b[K In function '\u001b[01m\u001b[K__pyx_pf_12DataIterator_30InteractionAndNegativeIterator_6__next__\u001b[m\u001b[K':\n",
      "\u001b[01m\u001b[KDataIterator.c:25495:22:\u001b[m\u001b[K \u001b[01;35m\u001b[Kwarning: \u001b[m\u001b[K'\u001b[01m\u001b[K__pyx_v_i_batch\u001b[m\u001b[K' may be used uninitialized in this function [\u001b[01;35m\u001b[K-Wmaybe-uninitialized\u001b[m\u001b[K]\n",
      "25495 |     (__pyx_v_i_batch \u001b[01;35m\u001b[K+\u001b[m\u001b[K 1),\n",
      "      |                      \u001b[01;35m\u001b[K^\u001b[m\u001b[K\n",
      "\u001b[01m\u001b[KDataIterator.c:\u001b[m\u001b[K In function '\u001b[01m\u001b[K__pyx_pf_12DataIterator_11BPRIterator_6__next__\u001b[m\u001b[K':\n",
      "\u001b[01m\u001b[KDataIterator.c:23054:22:\u001b[m\u001b[K \u001b[01;35m\u001b[Kwarning: \u001b[m\u001b[K'\u001b[01m\u001b[K__pyx_v_i_batch\u001b[m\u001b[K' may be used uninitialized in this function [\u001b[01;35m\u001b[K-Wmaybe-uninitialized\u001b[m\u001b[K]\n",
      "23054 |     (__pyx_v_i_batch \u001b[01;35m\u001b[K+\u001b[m\u001b[K 1),\n",
      "      |                      \u001b[01;35m\u001b[K^\u001b[m\u001b[K\n",
      "\u001b[01m\u001b[KDataIterator.c:\u001b[m\u001b[K In function '\u001b[01m\u001b[K__pyx_pf_12DataIterator_19InteractionIterator_6__next__\u001b[m\u001b[K':\n",
      "\u001b[01m\u001b[KDataIterator.c:20937:22:\u001b[m\u001b[K \u001b[01;35m\u001b[Kwarning: \u001b[m\u001b[K'\u001b[01m\u001b[K__pyx_v_i_batch\u001b[m\u001b[K' may be used uninitialized in this function [\u001b[01;35m\u001b[K-Wmaybe-uninitialized\u001b[m\u001b[K]\n",
      "20937 |     (__pyx_v_i_batch \u001b[01;35m\u001b[K+\u001b[m\u001b[K 1),\n",
      "      |                      \u001b[01;35m\u001b[K^\u001b[m\u001b[K\n",
      "/opt/conda/lib/python3.10/site-packages/Cython/Compiler/Main.py:381: FutureWarning: Cython directive 'language_level' not set, using '3str' for now (Py3). This has changed from earlier releases! File: /kaggle/working/RECsys_Challenge2024/Utils/PyTorch/Cython/DataIterator.pyx\n",
      "  tree = Parsing.p_module(s, pxd, full_module_name)\n",
      "Compiling [11/11]: DataIterator.pyx... PASS\n",
      "\n",
      "run_compile_all_cython: Compilation finished. FAILS 2/11.\n",
      "Compilation log can be found here: './result_experiments/run_compile_all_cython.txt'\n"
     ]
    }
   ],
   "source": [
    "! cd /kaggle/working/RECsys_Challenge2024 && python run_compile_all_cython.py"
   ]
  },
  {
   "cell_type": "code",
   "execution_count": 5,
   "metadata": {
    "execution": {
     "iopub.execute_input": "2024-11-15T12:56:53.044976Z",
     "iopub.status.busy": "2024-11-15T12:56:53.044540Z",
     "iopub.status.idle": "2024-11-15T12:56:53.562272Z",
     "shell.execute_reply": "2024-11-15T12:56:53.561190Z",
     "shell.execute_reply.started": "2024-11-15T12:56:53.044930Z"
    },
    "trusted": true
   },
   "outputs": [],
   "source": [
    "import numpy as np\n",
    "import pandas as pd\n",
    "import scipy.sparse as sps\n",
    "import time\n",
    "import shutil\n",
    "\n",
    "np.random.seed(42)"
   ]
  },
  {
   "cell_type": "markdown",
   "metadata": {},
   "source": [
    "## Import the repository"
   ]
  },
  {
   "cell_type": "code",
   "execution_count": 6,
   "metadata": {
    "execution": {
     "iopub.execute_input": "2024-11-15T12:56:53.566136Z",
     "iopub.status.busy": "2024-11-15T12:56:53.565185Z",
     "iopub.status.idle": "2024-11-15T12:56:54.150183Z",
     "shell.execute_reply": "2024-11-15T12:56:54.149013Z",
     "shell.execute_reply.started": "2024-11-15T12:56:53.566083Z"
    },
    "trusted": true
   },
   "outputs": [
    {
     "name": "stdout",
     "output_type": "stream",
     "text": [
      "Repository 'RECsys_Challenge2024' found.\n"
     ]
    }
   ],
   "source": [
    "from github import Github, Auth\n",
    "\n",
    "# Authenticate using a personal access token\n",
    "auth_token = Auth.Token(token)\n",
    "github_client = Github(auth=auth_token)\n",
    "\n",
    "# Define the repository name you want to find\n",
    "target_repo_name = 'RECsys_Challenge2024'\n",
    "repo = None\n",
    "\n",
    "# Search for the repository in the user's repositories\n",
    "try:\n",
    "    for repository in github_client.get_user().get_repos():\n",
    "        if repository.name == target_repo_name:\n",
    "            repo = repository\n",
    "            print(f\"Repository '{target_repo_name}' found.\")\n",
    "            break\n",
    "    if repo is None:\n",
    "        print(f\"Repository '{target_repo_name}' not found.\")\n",
    "except Exception as e:\n",
    "    print(\"An error occurred while accessing the repositories:\", e)"
   ]
  },
  {
   "cell_type": "code",
   "execution_count": 7,
   "metadata": {
    "execution": {
     "iopub.execute_input": "2024-11-15T12:56:54.152215Z",
     "iopub.status.busy": "2024-11-15T12:56:54.151627Z",
     "iopub.status.idle": "2024-11-15T12:56:54.160387Z",
     "shell.execute_reply": "2024-11-15T12:56:54.159276Z",
     "shell.execute_reply.started": "2024-11-15T12:56:54.152173Z"
    },
    "trusted": true
   },
   "outputs": [],
   "source": [
    "def upload_file(filepath_kaggle, filepath_github, commit_message):\n",
    "    \"\"\"\n",
    "    Uploads a file from Kaggle to GitHub, updating it if it already exists in the repository,\n",
    "    or creating it if it does not.\n",
    "\n",
    "    Parameters:\n",
    "    - filepath_kaggle: Path to the file in the Kaggle environment.\n",
    "    - filepath_github: Target path in the GitHub repository where the file should be uploaded.\n",
    "    - commit_message: Message for the commit on GitHub.\n",
    "    \"\"\"\n",
    "    try:\n",
    "        \n",
    "        # Check if the file already exists in the GitHub repository\n",
    "        contents = repo.get_contents(filepath_github)\n",
    "        \n",
    "        # If it exists, update the file\n",
    "        with open(filepath_kaggle, \"rb\") as file:\n",
    "            repo.update_file(\n",
    "                contents.path, commit_message, file.read(), contents.sha\n",
    "            )\n",
    "        print(f\"File '{filepath_github}' updated successfully.\")\n",
    "    \n",
    "    except Exception as e:\n",
    "        \n",
    "        # If the file does not exist, create it\n",
    "        with open(filepath_kaggle, \"rb\") as file:\n",
    "            repo.create_file(\n",
    "                filepath_github, commit_message, file.read()\n",
    "            )\n",
    "        print(f\"File '{filepath_github}' created successfully.\")"
   ]
  },
  {
   "cell_type": "code",
   "execution_count": 8,
   "metadata": {
    "execution": {
     "iopub.execute_input": "2024-11-15T12:56:54.162231Z",
     "iopub.status.busy": "2024-11-15T12:56:54.161885Z",
     "iopub.status.idle": "2024-11-15T12:56:54.177057Z",
     "shell.execute_reply": "2024-11-15T12:56:54.175888Z",
     "shell.execute_reply.started": "2024-11-15T12:56:54.162193Z"
    },
    "trusted": true
   },
   "outputs": [],
   "source": [
    "config = {\n",
    "    'model': 'ItemKNNCF',\n",
    "    'tune_parameters': True,\n",
    "    'database_path': '/kaggle/working/history_ItemKNNCF.db',\n",
    "    'copy_prev_best_params': False,\n",
    "    'save_github': True\n",
    "}"
   ]
  },
  {
   "cell_type": "markdown",
   "metadata": {},
   "source": [
    "Import the database where previous tuning trials have been saved."
   ]
  },
  {
   "cell_type": "code",
   "execution_count": 9,
   "metadata": {
    "execution": {
     "iopub.execute_input": "2024-11-15T12:56:54.179091Z",
     "iopub.status.busy": "2024-11-15T12:56:54.178684Z",
     "iopub.status.idle": "2024-11-15T12:56:54.188613Z",
     "shell.execute_reply": "2024-11-15T12:56:54.187476Z",
     "shell.execute_reply.started": "2024-11-15T12:56:54.179038Z"
    },
    "trusted": true
   },
   "outputs": [],
   "source": [
    "try:\n",
    "    shutil.copyfile(\n",
    "        f'/kaggle/working/RECsys_Challenge2024/TrainedModels/' \\\n",
    "        f'{config[\"model\"]}Recommender/history_{config[\"model\"]}.db', \n",
    "        config['database_path']\n",
    "    )\n",
    "except FileNotFoundError:\n",
    "    pass # if not present optuna will create it"
   ]
  },
  {
   "cell_type": "markdown",
   "metadata": {},
   "source": [
    "# Construction of URM and ICM matrices"
   ]
  },
  {
   "cell_type": "code",
   "execution_count": 10,
   "metadata": {
    "execution": {
     "iopub.execute_input": "2024-11-15T12:56:54.190450Z",
     "iopub.status.busy": "2024-11-15T12:56:54.190071Z",
     "iopub.status.idle": "2024-11-15T12:56:55.064967Z",
     "shell.execute_reply": "2024-11-15T12:56:55.063808Z",
     "shell.execute_reply.started": "2024-11-15T12:56:54.190406Z"
    },
    "trusted": true
   },
   "outputs": [
    {
     "data": {
      "text/plain": [
       "<Compressed Sparse Row sparse matrix of dtype 'float64'\n",
       "\twith 1764607 stored elements and shape (35736, 38121)>"
      ]
     },
     "execution_count": 10,
     "metadata": {},
     "output_type": "execute_result"
    }
   ],
   "source": [
    "URM_all_dataframe = pd.read_csv(\"/kaggle/input/recommender-system-2024-challenge-polimi/data_train.csv\")\n",
    "\n",
    "n_users = len(URM_all_dataframe[\"user_id\"].unique())\n",
    "n_items = len(URM_all_dataframe[\"item_id\"].unique())\n",
    "\n",
    "URM_all = sps.csr_matrix((URM_all_dataframe[\"data\"].values, \n",
    "                          (URM_all_dataframe[\"user_id\"].values, URM_all_dataframe[\"item_id\"].values)),\n",
    "                        shape = (n_users, n_items))\n",
    "\n",
    "URM_all"
   ]
  },
  {
   "cell_type": "code",
   "execution_count": 11,
   "metadata": {
    "execution": {
     "iopub.execute_input": "2024-11-15T12:56:55.066902Z",
     "iopub.status.busy": "2024-11-15T12:56:55.066459Z",
     "iopub.status.idle": "2024-11-15T12:56:56.328118Z",
     "shell.execute_reply": "2024-11-15T12:56:56.326944Z",
     "shell.execute_reply.started": "2024-11-15T12:56:55.066852Z"
    },
    "trusted": true
   },
   "outputs": [
    {
     "data": {
      "text/plain": [
       "<Compressed Sparse Row sparse matrix of dtype 'float64'\n",
       "\twith 2940040 stored elements and shape (38121, 94331)>"
      ]
     },
     "execution_count": 11,
     "metadata": {},
     "output_type": "execute_result"
    }
   ],
   "source": [
    "ICM_dataframe = pd.read_csv(\"/kaggle/input/recommender-system-2024-challenge-polimi/data_ICM_metadata.csv\")\n",
    "\n",
    "n_items = len(ICM_dataframe[\"item_id\"].unique())\n",
    "n_features = len(ICM_dataframe[\"feature_id\"].unique())\n",
    "\n",
    "ICM_all = sps.csr_matrix((ICM_dataframe[\"data\"].values, \n",
    "                          (ICM_dataframe[\"item_id\"].values, ICM_dataframe[\"feature_id\"].values)),\n",
    "                        shape = (n_items, n_features))\n",
    "\n",
    "ICM_all"
   ]
  },
  {
   "cell_type": "markdown",
   "metadata": {},
   "source": [
    "# Training"
   ]
  },
  {
   "cell_type": "code",
   "execution_count": 14,
   "metadata": {
    "execution": {
     "iopub.execute_input": "2024-11-15T12:57:37.256400Z",
     "iopub.status.busy": "2024-11-15T12:57:37.255868Z",
     "iopub.status.idle": "2024-11-15T12:57:37.264461Z",
     "shell.execute_reply": "2024-11-15T12:57:37.263246Z",
     "shell.execute_reply.started": "2024-11-15T12:57:37.256351Z"
    },
    "trusted": true
   },
   "outputs": [
    {
     "name": "stdout",
     "output_type": "stream",
     "text": [
      "/kaggle/working/RECsys_Challenge2024\n"
     ]
    }
   ],
   "source": [
    "%cd /kaggle/working/RECsys_Challenge2024/"
   ]
  },
  {
   "cell_type": "code",
   "execution_count": 15,
   "metadata": {
    "execution": {
     "iopub.execute_input": "2024-11-15T12:57:39.607688Z",
     "iopub.status.busy": "2024-11-15T12:57:39.607256Z",
     "iopub.status.idle": "2024-11-15T12:57:43.031944Z",
     "shell.execute_reply": "2024-11-15T12:57:43.030727Z",
     "shell.execute_reply.started": "2024-11-15T12:57:39.607650Z"
    },
    "trusted": true
   },
   "outputs": [
    {
     "name": "stdout",
     "output_type": "stream",
     "text": [
      "Warning: 141 (0.39 %) of 35736 users have no sampled items\n",
      "EvaluatorHoldout: Ignoring 141 ( 0.4%) Users that have less than 1 test interactions\n"
     ]
    }
   ],
   "source": [
    "from Evaluation.Evaluator import EvaluatorHoldout\n",
    "from Data_manager.split_functions.split_train_validation_random_holdout import split_train_in_two_percentage_global_sample\n",
    "\n",
    "URM_train, URM_validation = split_train_in_two_percentage_global_sample(URM_all, train_percentage = 0.80)\n",
    "\n",
    "evaluator_validation = EvaluatorHoldout(URM_validation, cutoff_list=[10])"
   ]
  },
  {
   "cell_type": "code",
   "execution_count": 18,
   "metadata": {
    "execution": {
     "iopub.execute_input": "2024-11-15T12:58:20.534449Z",
     "iopub.status.busy": "2024-11-15T12:58:20.533953Z",
     "iopub.status.idle": "2024-11-15T12:58:20.545933Z",
     "shell.execute_reply": "2024-11-15T12:58:20.544783Z",
     "shell.execute_reply.started": "2024-11-15T12:58:20.534406Z"
    },
    "trusted": true
   },
   "outputs": [],
   "source": [
    "import optuna\n",
    "import pandas as pd\n",
    "from Recommenders.KNN.ItemKNNCFRecommender import ItemKNNCFRecommender\n",
    "\n",
    "def objective_function_ItemKNNCF(optuna_trial):\n",
    "    \n",
    "    recommender_instance = ItemKNNCFRecommender(URM_train)\n",
    "    similarity = optuna_trial.suggest_categorical(\"similarity\", ['cosine', 'dice', 'jaccard', 'asymmetric', 'tversky', 'euclidean'])\n",
    "    \n",
    "    full_hyperp = {\"similarity\": similarity,\n",
    "                   \"topK\": optuna_trial.suggest_int(\"topK\", 0, 1500),\n",
    "                   \"shrink\": optuna_trial.suggest_int(\"shrink\", 0, 1000),\n",
    "                   'feature_weighting': optuna_trial.suggest_categorical('feature_weighting', [\"BM25\", \"TF-IDF\", \"none\"])\n",
    "                  }\n",
    "    \n",
    "    if similarity == \"asymmetric\":\n",
    "        full_hyperp[\"asymmetric_alpha\"] = optuna_trial.suggest_float(\"asymmetric_alpha\", 0, 2, log=False)\n",
    "        full_hyperp[\"normalize\"] = True     \n",
    "\n",
    "    elif similarity == \"tversky\":\n",
    "        full_hyperp[\"tversky_alpha\"] = optuna_trial.suggest_float(\"tversky_alpha\", 0, 2, log=False)\n",
    "        full_hyperp[\"tversky_beta\"] = optuna_trial.suggest_float(\"tversky_beta\", 0, 2, log=False)\n",
    "        full_hyperp[\"normalize\"] = True \n",
    "\n",
    "    elif similarity == \"euclidean\":\n",
    "        full_hyperp[\"normalize_avg_row\"] = optuna_trial.suggest_categorical(\"normalize_avg_row\", [True, False])\n",
    "        full_hyperp[\"similarity_from_distance_mode\"] = optuna_trial.suggest_categorical(\"similarity_from_distance_mode\", [\"lin\", \"log\", \"exp\"])\n",
    "        full_hyperp[\"normalize\"] = optuna_trial.suggest_categorical(\"normalize\", [True, False])\n",
    "        \n",
    "    \n",
    "    recommender_instance.fit(**full_hyperp)\n",
    "    \n",
    "    result_df, _ = evaluator_validation.evaluateRecommender(recommender_instance)\n",
    "    \n",
    "    return result_df.loc[10][\"MAP\"]"
   ]
  },
  {
   "cell_type": "code",
   "execution_count": 19,
   "metadata": {
    "_kg_hide-output": true,
    "execution": {
     "iopub.execute_input": "2024-11-15T12:58:21.406831Z",
     "iopub.status.busy": "2024-11-15T12:58:21.405743Z",
     "iopub.status.idle": "2024-11-15T14:49:15.814250Z",
     "shell.execute_reply": "2024-11-15T14:49:15.812803Z",
     "shell.execute_reply.started": "2024-11-15T12:58:21.406658Z"
    },
    "trusted": true
   },
   "outputs": [
    {
     "name": "stderr",
     "output_type": "stream",
     "text": [
      "[I 2024-11-15 12:58:21,461] Using an existing study with name 'hyperparameters_tuning_ItemKNNCF' instead of creating a new one.\n"
     ]
    },
    {
     "name": "stdout",
     "output_type": "stream",
     "text": [
      "Similarity column 38121 (100.0%), 279.81 column/sec. Elapsed time 2.27 min\n",
      "EvaluatorHoldout: Processed 35595 (100.0%) in 1.07 min. Users per second: 553\n"
     ]
    },
    {
     "name": "stderr",
     "output_type": "stream",
     "text": [
      "[I 2024-11-15 13:01:43,775] Trial 1 finished with value: 0.013831576353911232 and parameters: {'similarity': 'euclidean', 'topK': 1083, 'shrink': 87, 'feature_weighting': 'BM25', 'normalize_avg_row': False, 'similarity_from_distance_mode': 'log', 'normalize': True}. Best is trial 1 with value: 0.013831576353911232.\n"
     ]
    },
    {
     "name": "stdout",
     "output_type": "stream",
     "text": [
      "Similarity column 38121 (100.0%), 2624.27 column/sec. Elapsed time 14.53 sec\n",
      "EvaluatorHoldout: Processed 35595 (100.0%) in 58.19 sec. Users per second: 612\n"
     ]
    },
    {
     "name": "stderr",
     "output_type": "stream",
     "text": [
      "[I 2024-11-15 13:02:57,912] Trial 2 finished with value: 0.03496261179004422 and parameters: {'similarity': 'dice', 'topK': 653, 'shrink': 427, 'feature_weighting': 'TF-IDF'}. Best is trial 2 with value: 0.03496261179004422.\n"
     ]
    },
    {
     "name": "stdout",
     "output_type": "stream",
     "text": [
      "Similarity column 38121 (100.0%), 2450.22 column/sec. Elapsed time 15.56 sec\n",
      "EvaluatorHoldout: Processed 35595 (100.0%) in 1.02 min. Users per second: 579\n"
     ]
    },
    {
     "name": "stderr",
     "output_type": "stream",
     "text": [
      "[I 2024-11-15 13:04:16,547] Trial 3 finished with value: 0.037970905045071515 and parameters: {'similarity': 'asymmetric', 'topK': 940, 'shrink': 246, 'feature_weighting': 'BM25', 'asymmetric_alpha': 1.095938761735912}. Best is trial 3 with value: 0.037970905045071515.\n"
     ]
    },
    {
     "name": "stdout",
     "output_type": "stream",
     "text": [
      "Similarity column 38121 (100.0%), 386.21 column/sec. Elapsed time 1.65 min\n",
      "EvaluatorHoldout: Processed 35595 (100.0%) in 33.85 sec. Users per second: 1051\n"
     ]
    },
    {
     "name": "stderr",
     "output_type": "stream",
     "text": [
      "[I 2024-11-15 13:06:29,757] Trial 4 finished with value: 0.01916516163987733 and parameters: {'similarity': 'euclidean', 'topK': 379, 'shrink': 725, 'feature_weighting': 'none', 'normalize_avg_row': False, 'similarity_from_distance_mode': 'exp', 'normalize': False}. Best is trial 3 with value: 0.037970905045071515.\n"
     ]
    },
    {
     "name": "stdout",
     "output_type": "stream",
     "text": [
      "Similarity column 38121 (100.0%), 377.85 column/sec. Elapsed time 1.68 min\n",
      "EvaluatorHoldout: Processed 35595 (100.0%) in 1.02 min. Users per second: 582\n"
     ]
    },
    {
     "name": "stderr",
     "output_type": "stream",
     "text": [
      "[I 2024-11-15 13:09:12,819] Trial 5 finished with value: 0.029883539912195015 and parameters: {'similarity': 'euclidean', 'topK': 590, 'shrink': 131, 'feature_weighting': 'BM25', 'normalize_avg_row': False, 'similarity_from_distance_mode': 'lin', 'normalize': False}. Best is trial 3 with value: 0.037970905045071515.\n"
     ]
    },
    {
     "name": "stdout",
     "output_type": "stream",
     "text": [
      "Similarity column 38121 (100.0%), 2472.82 column/sec. Elapsed time 15.42 sec\n",
      "EvaluatorHoldout: Processed 35595 (100.0%) in 1.15 min. Users per second: 515\n"
     ]
    },
    {
     "name": "stderr",
     "output_type": "stream",
     "text": [
      "[I 2024-11-15 13:10:38,357] Trial 6 finished with value: 0.03370695344673329 and parameters: {'similarity': 'asymmetric', 'topK': 586, 'shrink': 750, 'feature_weighting': 'none', 'asymmetric_alpha': 1.322272438988854}. Best is trial 3 with value: 0.037970905045071515.\n"
     ]
    },
    {
     "name": "stdout",
     "output_type": "stream",
     "text": [
      "Similarity column 38121 (100.0%), 2410.39 column/sec. Elapsed time 15.82 sec\n",
      "EvaluatorHoldout: Processed 35595 (100.0%) in 50.00 sec. Users per second: 712\n"
     ]
    },
    {
     "name": "stderr",
     "output_type": "stream",
     "text": [
      "[I 2024-11-15 13:11:45,471] Trial 7 finished with value: 0.04213755387438386 and parameters: {'similarity': 'tversky', 'topK': 526, 'shrink': 46, 'feature_weighting': 'BM25', 'tversky_alpha': 1.7971795977334728, 'tversky_beta': 1.7591021101338662}. Best is trial 7 with value: 0.04213755387438386.\n"
     ]
    },
    {
     "name": "stdout",
     "output_type": "stream",
     "text": [
      "Similarity column 38121 (100.0%), 2319.99 column/sec. Elapsed time 16.43 sec\n",
      "EvaluatorHoldout: Processed 35595 (100.0%) in 1.20 min. Users per second: 494\n"
     ]
    },
    {
     "name": "stderr",
     "output_type": "stream",
     "text": [
      "[I 2024-11-15 13:13:16,238] Trial 8 finished with value: 0.03498778587147621 and parameters: {'similarity': 'tversky', 'topK': 1396, 'shrink': 775, 'feature_weighting': 'BM25', 'tversky_alpha': 1.0844586410673038, 'tversky_beta': 0.5794629340326964}. Best is trial 7 with value: 0.04213755387438386.\n"
     ]
    },
    {
     "name": "stdout",
     "output_type": "stream",
     "text": [
      "Similarity column 38121 (100.0%), 2535.71 column/sec. Elapsed time 15.03 sec\n",
      "EvaluatorHoldout: Processed 35595 (100.0%) in 1.10 min. Users per second: 539\n"
     ]
    },
    {
     "name": "stderr",
     "output_type": "stream",
     "text": [
      "[I 2024-11-15 13:14:38,211] Trial 9 finished with value: 0.020637333137122182 and parameters: {'similarity': 'asymmetric', 'topK': 425, 'shrink': 791, 'feature_weighting': 'TF-IDF', 'asymmetric_alpha': 1.9944400940206595}. Best is trial 7 with value: 0.04213755387438386.\n"
     ]
    },
    {
     "name": "stdout",
     "output_type": "stream",
     "text": [
      "Similarity column 38121 (100.0%), 2609.58 column/sec. Elapsed time 14.61 sec\n",
      "EvaluatorHoldout: Processed 35595 (100.0%) in 53.44 sec. Users per second: 666\n"
     ]
    },
    {
     "name": "stderr",
     "output_type": "stream",
     "text": [
      "[I 2024-11-15 13:15:47,477] Trial 10 finished with value: 0.04045828734640226 and parameters: {'similarity': 'dice', 'topK': 604, 'shrink': 76, 'feature_weighting': 'none'}. Best is trial 7 with value: 0.04213755387438386.\n"
     ]
    },
    {
     "name": "stdout",
     "output_type": "stream",
     "text": [
      "Similarity column 38121 (100.0%), 2532.87 column/sec. Elapsed time 15.05 sec\n",
      "EvaluatorHoldout: Processed 35595 (100.0%) in 32.83 sec. Users per second: 1084\n"
     ]
    },
    {
     "name": "stderr",
     "output_type": "stream",
     "text": [
      "[I 2024-11-15 13:16:35,945] Trial 11 finished with value: 0.05031688617760919 and parameters: {'similarity': 'tversky', 'topK': 12, 'shrink': 433, 'feature_weighting': 'BM25', 'tversky_alpha': 1.9810653173397732, 'tversky_beta': 1.9747412745860602}. Best is trial 11 with value: 0.05031688617760919.\n"
     ]
    },
    {
     "name": "stdout",
     "output_type": "stream",
     "text": [
      "Similarity column 38121 (100.0%), 2526.37 column/sec. Elapsed time 15.09 sec\n",
      "EvaluatorHoldout: Processed 35595 (100.0%) in 37.92 sec. Users per second: 939\n"
     ]
    },
    {
     "name": "stderr",
     "output_type": "stream",
     "text": [
      "[I 2024-11-15 13:17:29,641] Trial 12 finished with value: 0.04719205814085553 and parameters: {'similarity': 'tversky', 'topK': 66, 'shrink': 460, 'feature_weighting': 'BM25', 'tversky_alpha': 1.9874403949501185, 'tversky_beta': 1.9868853634136243}. Best is trial 11 with value: 0.05031688617760919.\n"
     ]
    },
    {
     "name": "stdout",
     "output_type": "stream",
     "text": [
      "Similarity column 38121 (100.0%), 2531.84 column/sec. Elapsed time 15.06 sec\n",
      "EvaluatorHoldout: Processed 35595 (100.0%) in 32.44 sec. Users per second: 1097\n"
     ]
    },
    {
     "name": "stderr",
     "output_type": "stream",
     "text": [
      "[I 2024-11-15 13:18:17,746] Trial 13 finished with value: 0.05091212538768189 and parameters: {'similarity': 'tversky', 'topK': 10, 'shrink': 515, 'feature_weighting': 'BM25', 'tversky_alpha': 1.7901350129820508, 'tversky_beta': 1.9752432471394596}. Best is trial 13 with value: 0.05091212538768189.\n"
     ]
    },
    {
     "name": "stdout",
     "output_type": "stream",
     "text": [
      "Similarity column 38121 (100.0%), 2679.52 column/sec. Elapsed time 14.23 sec\n",
      "EvaluatorHoldout: Processed 35595 (100.0%) in 34.19 sec. Users per second: 1041\n"
     ]
    },
    {
     "name": "stderr",
     "output_type": "stream",
     "text": [
      "[I 2024-11-15 13:19:06,584] Trial 14 finished with value: 0.04238023108292668 and parameters: {'similarity': 'cosine', 'topK': 40, 'shrink': 565, 'feature_weighting': 'BM25'}. Best is trial 13 with value: 0.05091212538768189.\n"
     ]
    },
    {
     "name": "stdout",
     "output_type": "stream",
     "text": [
      "Similarity column 38121 (100.0%), 2676.80 column/sec. Elapsed time 14.24 sec\n",
      "EvaluatorHoldout: Processed 35595 (100.0%) in 47.59 sec. Users per second: 748\n"
     ]
    },
    {
     "name": "stderr",
     "output_type": "stream",
     "text": [
      "[I 2024-11-15 13:20:09,300] Trial 15 finished with value: 0.041256015090400354 and parameters: {'similarity': 'jaccard', 'topK': 230, 'shrink': 960, 'feature_weighting': 'BM25'}. Best is trial 13 with value: 0.05091212538768189.\n"
     ]
    },
    {
     "name": "stdout",
     "output_type": "stream",
     "text": [
      "Similarity column 38121 (100.0%), 2469.14 column/sec. Elapsed time 15.44 sec\n",
      "EvaluatorHoldout: Processed 35595 (100.0%) in 44.79 sec. Users per second: 795\n"
     ]
    },
    {
     "name": "stderr",
     "output_type": "stream",
     "text": [
      "[I 2024-11-15 13:21:10,370] Trial 16 finished with value: 0.04103912735202096 and parameters: {'similarity': 'tversky', 'topK': 209, 'shrink': 292, 'feature_weighting': 'TF-IDF', 'tversky_alpha': 1.550165126888654, 'tversky_beta': 1.4324358371869392}. Best is trial 13 with value: 0.05091212538768189.\n"
     ]
    },
    {
     "name": "stdout",
     "output_type": "stream",
     "text": [
      "Similarity column 38121 (100.0%), 1789.96 column/sec. Elapsed time 21.30 sec\n",
      "EvaluatorHoldout: Processed 35595 (100.0%) in 31.01 sec. Users per second: 1148\n"
     ]
    },
    {
     "name": "stderr",
     "output_type": "stream",
     "text": [
      "[I 2024-11-15 13:22:03,268] Trial 17 finished with value: 0.05161769755427387 and parameters: {'similarity': 'tversky', 'topK': 3, 'shrink': 611, 'feature_weighting': 'BM25', 'tversky_alpha': 0.3345825602636454, 'tversky_beta': 1.1540400137943267}. Best is trial 17 with value: 0.05161769755427387.\n"
     ]
    },
    {
     "name": "stdout",
     "output_type": "stream",
     "text": [
      "Similarity column 38121 (100.0%), 2471.24 column/sec. Elapsed time 15.43 sec\n",
      "EvaluatorHoldout: Processed 35595 (100.0%) in 1.01 min. Users per second: 590\n"
     ]
    },
    {
     "name": "stderr",
     "output_type": "stream",
     "text": [
      "[I 2024-11-15 13:23:20,650] Trial 18 finished with value: 0.04081636554982371 and parameters: {'similarity': 'cosine', 'topK': 889, 'shrink': 587, 'feature_weighting': 'BM25'}. Best is trial 17 with value: 0.05161769755427387.\n"
     ]
    },
    {
     "name": "stdout",
     "output_type": "stream",
     "text": [
      "Similarity column 38121 (100.0%), 2676.06 column/sec. Elapsed time 14.25 sec\n",
      "EvaluatorHoldout: Processed 35595 (100.0%) in 46.38 sec. Users per second: 767\n"
     ]
    },
    {
     "name": "stderr",
     "output_type": "stream",
     "text": [
      "[I 2024-11-15 13:24:21,968] Trial 19 finished with value: 0.03644253250300331 and parameters: {'similarity': 'jaccard', 'topK': 201, 'shrink': 632, 'feature_weighting': 'none'}. Best is trial 17 with value: 0.05161769755427387.\n"
     ]
    },
    {
     "name": "stdout",
     "output_type": "stream",
     "text": [
      "Similarity column 38121 (100.0%), 2427.86 column/sec. Elapsed time 15.70 sec\n",
      "EvaluatorHoldout: Processed 35595 (100.0%) in 51.28 sec. Users per second: 694\n"
     ]
    },
    {
     "name": "stderr",
     "output_type": "stream",
     "text": [
      "[I 2024-11-15 13:25:29,976] Trial 20 finished with value: 0.02974840968835846 and parameters: {'similarity': 'tversky', 'topK': 350, 'shrink': 975, 'feature_weighting': 'TF-IDF', 'tversky_alpha': 0.05231455526696849, 'tversky_beta': 1.0214948373621293}. Best is trial 17 with value: 0.05161769755427387.\n"
     ]
    },
    {
     "name": "stdout",
     "output_type": "stream",
     "text": [
      "Similarity column 38121 (100.0%), 2316.45 column/sec. Elapsed time 16.46 sec\n",
      "EvaluatorHoldout: Processed 35595 (100.0%) in 1.19 min. Users per second: 497\n"
     ]
    },
    {
     "name": "stderr",
     "output_type": "stream",
     "text": [
      "[I 2024-11-15 13:27:00,396] Trial 21 finished with value: 0.031016930993963344 and parameters: {'similarity': 'tversky', 'topK': 1383, 'shrink': 336, 'feature_weighting': 'BM25', 'tversky_alpha': 0.13530548647104745, 'tversky_beta': 0.22944638703009002}. Best is trial 17 with value: 0.05161769755427387.\n"
     ]
    },
    {
     "name": "stdout",
     "output_type": "stream",
     "text": [
      "Similarity column 38121 (100.0%), 3187.87 column/sec. Elapsed time 11.96 sec\n",
      "EvaluatorHoldout: Processed 35595 (100.0%) in 25.73 sec. Users per second: 1383\n"
     ]
    },
    {
     "name": "stderr",
     "output_type": "stream",
     "text": [
      "[I 2024-11-15 13:27:38,659] Trial 22 finished with value: 0.00028209999175022335 and parameters: {'similarity': 'tversky', 'topK': 0, 'shrink': 408, 'feature_weighting': 'BM25', 'tversky_alpha': 0.6060619023354439, 'tversky_beta': 1.465635272336576}. Best is trial 17 with value: 0.05161769755427387.\n"
     ]
    },
    {
     "name": "stdout",
     "output_type": "stream",
     "text": [
      "Similarity column 38121 (100.0%), 2498.03 column/sec. Elapsed time 15.26 sec\n",
      "EvaluatorHoldout: Processed 35595 (100.0%) in 42.79 sec. Users per second: 832\n"
     ]
    },
    {
     "name": "stderr",
     "output_type": "stream",
     "text": [
      "[I 2024-11-15 13:28:37,483] Trial 23 finished with value: 0.04501176373531889 and parameters: {'similarity': 'tversky', 'topK': 153, 'shrink': 497, 'feature_weighting': 'BM25', 'tversky_alpha': 1.3895037566827795, 'tversky_beta': 1.9682867294487798}. Best is trial 17 with value: 0.05161769755427387.\n"
     ]
    },
    {
     "name": "stdout",
     "output_type": "stream",
     "text": [
      "Similarity column 38121 (100.0%), 2457.78 column/sec. Elapsed time 15.51 sec\n",
      "EvaluatorHoldout: Processed 35595 (100.0%) in 48.51 sec. Users per second: 734\n"
     ]
    },
    {
     "name": "stderr",
     "output_type": "stream",
     "text": [
      "[I 2024-11-15 13:29:42,464] Trial 24 finished with value: 0.040008787126779834 and parameters: {'similarity': 'tversky', 'topK': 283, 'shrink': 642, 'feature_weighting': 'BM25', 'tversky_alpha': 0.4989500088642008, 'tversky_beta': 1.4827289546155873}. Best is trial 17 with value: 0.05161769755427387.\n"
     ]
    },
    {
     "name": "stdout",
     "output_type": "stream",
     "text": [
      "Similarity column 38121 (100.0%), 2469.69 column/sec. Elapsed time 15.44 sec\n",
      "EvaluatorHoldout: Processed 35595 (100.0%) in 42.32 sec. Users per second: 841\n"
     ]
    },
    {
     "name": "stderr",
     "output_type": "stream",
     "text": [
      "[I 2024-11-15 13:30:40,987] Trial 25 finished with value: 0.044812781356395416 and parameters: {'similarity': 'tversky', 'topK': 142, 'shrink': 191, 'feature_weighting': 'BM25', 'tversky_alpha': 1.9743678622696987, 'tversky_beta': 0.9929138366042736}. Best is trial 17 with value: 0.05161769755427387.\n"
     ]
    },
    {
     "name": "stdout",
     "output_type": "stream",
     "text": [
      "Similarity column 38121 (100.0%), 2519.61 column/sec. Elapsed time 15.13 sec\n",
      "EvaluatorHoldout: Processed 35595 (100.0%) in 34.60 sec. Users per second: 1029\n"
     ]
    },
    {
     "name": "stderr",
     "output_type": "stream",
     "text": [
      "[I 2024-11-15 13:31:31,352] Trial 26 finished with value: 0.04925075418564501 and parameters: {'similarity': 'tversky', 'topK': 24, 'shrink': 359, 'feature_weighting': 'BM25', 'tversky_alpha': 1.5712641369360254, 'tversky_beta': 1.6406950876866848}. Best is trial 17 with value: 0.05161769755427387.\n"
     ]
    },
    {
     "name": "stdout",
     "output_type": "stream",
     "text": [
      "Similarity column 38121 (100.0%), 2498.53 column/sec. Elapsed time 15.26 sec\n",
      "EvaluatorHoldout: Processed 35595 (100.0%) in 1.15 min. Users per second: 516\n"
     ]
    },
    {
     "name": "stderr",
     "output_type": "stream",
     "text": [
      "[I 2024-11-15 13:32:57,684] Trial 27 finished with value: 0.03658685899794086 and parameters: {'similarity': 'jaccard', 'topK': 1216, 'shrink': 533, 'feature_weighting': 'BM25'}. Best is trial 17 with value: 0.05161769755427387.\n"
     ]
    },
    {
     "name": "stdout",
     "output_type": "stream",
     "text": [
      "Similarity column 38121 (100.0%), 2556.84 column/sec. Elapsed time 14.91 sec\n",
      "EvaluatorHoldout: Processed 35595 (100.0%) in 49.25 sec. Users per second: 723\n"
     ]
    },
    {
     "name": "stderr",
     "output_type": "stream",
     "text": [
      "[I 2024-11-15 13:34:02,878] Trial 28 finished with value: 0.041088906949208914 and parameters: {'similarity': 'cosine', 'topK': 471, 'shrink': 870, 'feature_weighting': 'BM25'}. Best is trial 17 with value: 0.05161769755427387.\n"
     ]
    },
    {
     "name": "stdout",
     "output_type": "stream",
     "text": [
      "Similarity column 38121 (100.0%), 2697.58 column/sec. Elapsed time 14.13 sec\n",
      "EvaluatorHoldout: Processed 35595 (100.0%) in 49.67 sec. Users per second: 717\n"
     ]
    },
    {
     "name": "stderr",
     "output_type": "stream",
     "text": [
      "[I 2024-11-15 13:35:07,602] Trial 29 finished with value: 0.03510718800794538 and parameters: {'similarity': 'dice', 'topK': 300, 'shrink': 691, 'feature_weighting': 'TF-IDF'}. Best is trial 17 with value: 0.05161769755427387.\n"
     ]
    },
    {
     "name": "stdout",
     "output_type": "stream",
     "text": [
      "Similarity column 38121 (100.0%), 2336.85 column/sec. Elapsed time 16.31 sec\n",
      "EvaluatorHoldout: Processed 35595 (100.0%) in 1.01 min. Users per second: 586\n"
     ]
    },
    {
     "name": "stderr",
     "output_type": "stream",
     "text": [
      "[I 2024-11-15 13:36:26,189] Trial 30 finished with value: 0.03361512451588196 and parameters: {'similarity': 'tversky', 'topK': 753, 'shrink': 611, 'feature_weighting': 'none', 'tversky_alpha': 1.033041624810307, 'tversky_beta': 1.118216867101797}. Best is trial 17 with value: 0.05161769755427387.\n"
     ]
    },
    {
     "name": "stdout",
     "output_type": "stream",
     "text": [
      "Similarity column 38121 (100.0%), 422.35 column/sec. Elapsed time 1.50 min\n",
      "EvaluatorHoldout: Processed 35595 (100.0%) in 36.87 sec. Users per second: 965\n"
     ]
    },
    {
     "name": "stderr",
     "output_type": "stream",
     "text": [
      "[I 2024-11-15 13:38:33,797] Trial 31 finished with value: 0.024264391958028 and parameters: {'similarity': 'euclidean', 'topK': 89, 'shrink': 490, 'feature_weighting': 'BM25', 'normalize_avg_row': True, 'similarity_from_distance_mode': 'log', 'normalize': True}. Best is trial 17 with value: 0.05161769755427387.\n"
     ]
    },
    {
     "name": "stdout",
     "output_type": "stream",
     "text": [
      "Similarity column 38121 (100.0%), 2498.41 column/sec. Elapsed time 15.26 sec\n",
      "EvaluatorHoldout: Processed 35595 (100.0%) in 34.24 sec. Users per second: 1040\n"
     ]
    },
    {
     "name": "stderr",
     "output_type": "stream",
     "text": [
      "[I 2024-11-15 13:39:23,922] Trial 32 finished with value: 0.04954325112542398 and parameters: {'similarity': 'tversky', 'topK': 21, 'shrink': 385, 'feature_weighting': 'BM25', 'tversky_alpha': 1.6072676631776197, 'tversky_beta': 1.7197063868901936}. Best is trial 17 with value: 0.05161769755427387.\n"
     ]
    },
    {
     "name": "stdout",
     "output_type": "stream",
     "text": [
      "Similarity column 38121 (100.0%), 2479.09 column/sec. Elapsed time 15.38 sec\n",
      "EvaluatorHoldout: Processed 35595 (100.0%) in 41.82 sec. Users per second: 851\n"
     ]
    },
    {
     "name": "stderr",
     "output_type": "stream",
     "text": [
      "[I 2024-11-15 13:40:21,899] Trial 33 finished with value: 0.045699859753798366 and parameters: {'similarity': 'tversky', 'topK': 134, 'shrink': 397, 'feature_weighting': 'BM25', 'tversky_alpha': 1.719203312637189, 'tversky_beta': 1.9932588107811953}. Best is trial 17 with value: 0.05161769755427387.\n"
     ]
    },
    {
     "name": "stdout",
     "output_type": "stream",
     "text": [
      "Similarity column 38121 (100.0%), 2509.11 column/sec. Elapsed time 15.19 sec\n",
      "EvaluatorHoldout: Processed 35595 (100.0%) in 32.29 sec. Users per second: 1102\n"
     ]
    },
    {
     "name": "stderr",
     "output_type": "stream",
     "text": [
      "[I 2024-11-15 13:41:10,001] Trial 34 finished with value: 0.05121349083717205 and parameters: {'similarity': 'tversky', 'topK': 9, 'shrink': 322, 'feature_weighting': 'BM25', 'tversky_alpha': 1.2858581218850778, 'tversky_beta': 1.74766353653443}. Best is trial 17 with value: 0.05161769755427387.\n"
     ]
    },
    {
     "name": "stdout",
     "output_type": "stream",
     "text": [
      "Similarity column 38121 (100.0%), 2754.01 column/sec. Elapsed time 13.84 sec\n",
      "EvaluatorHoldout: Processed 35595 (100.0%) in 41.19 sec. Users per second: 864\n"
     ]
    },
    {
     "name": "stderr",
     "output_type": "stream",
     "text": [
      "[I 2024-11-15 13:42:05,735] Trial 35 finished with value: 0.0450242498834983 and parameters: {'similarity': 'dice', 'topK': 116, 'shrink': 270, 'feature_weighting': 'BM25'}. Best is trial 17 with value: 0.05161769755427387.\n"
     ]
    },
    {
     "name": "stdout",
     "output_type": "stream",
     "text": [
      "Similarity column 38121 (100.0%), 2435.54 column/sec. Elapsed time 15.65 sec\n",
      "EvaluatorHoldout: Processed 35595 (100.0%) in 47.44 sec. Users per second: 750\n"
     ]
    },
    {
     "name": "stderr",
     "output_type": "stream",
     "text": [
      "[I 2024-11-15 13:43:09,810] Trial 36 finished with value: 0.04286239261354998 and parameters: {'similarity': 'tversky', 'topK': 287, 'shrink': 452, 'feature_weighting': 'BM25', 'tversky_alpha': 1.3095527701262322, 'tversky_beta': 1.765290322766042}. Best is trial 17 with value: 0.05161769755427387.\n"
     ]
    },
    {
     "name": "stdout",
     "output_type": "stream",
     "text": [
      "Similarity column 38121 (100.0%), 2463.01 column/sec. Elapsed time 15.48 sec\n",
      "EvaluatorHoldout: Processed 35595 (100.0%) in 56.84 sec. Users per second: 626\n"
     ]
    },
    {
     "name": "stderr",
     "output_type": "stream",
     "text": [
      "[I 2024-11-15 13:44:23,536] Trial 37 finished with value: 0.04061496175002148 and parameters: {'similarity': 'asymmetric', 'topK': 750, 'shrink': 194, 'feature_weighting': 'BM25', 'asymmetric_alpha': 0.10787781692235687}. Best is trial 17 with value: 0.05161769755427387.\n"
     ]
    },
    {
     "name": "stdout",
     "output_type": "stream",
     "text": [
      "Similarity column 38121 (100.0%), 397.92 column/sec. Elapsed time 1.60 min\n",
      "EvaluatorHoldout: Processed 35595 (100.0%) in 41.48 sec. Users per second: 858\n"
     ]
    },
    {
     "name": "stderr",
     "output_type": "stream",
     "text": [
      "[I 2024-11-15 13:46:41,310] Trial 38 finished with value: 0.022324832719058975 and parameters: {'similarity': 'euclidean', 'topK': 207, 'shrink': 515, 'feature_weighting': 'none', 'normalize_avg_row': True, 'similarity_from_distance_mode': 'lin', 'normalize': True}. Best is trial 17 with value: 0.05161769755427387.\n"
     ]
    },
    {
     "name": "stdout",
     "output_type": "stream",
     "text": [
      "Similarity column 38121 (100.0%), 2378.72 column/sec. Elapsed time 16.03 sec\n",
      "EvaluatorHoldout: Processed 35595 (100.0%) in 50.19 sec. Users per second: 709\n"
     ]
    },
    {
     "name": "stderr",
     "output_type": "stream",
     "text": [
      "[I 2024-11-15 13:47:48,606] Trial 39 finished with value: 0.03669459773420898 and parameters: {'similarity': 'tversky', 'topK': 376, 'shrink': 324, 'feature_weighting': 'TF-IDF', 'tversky_alpha': 0.7307439970458911, 'tversky_beta': 1.271295875468453}. Best is trial 17 with value: 0.05161769755427387.\n"
     ]
    },
    {
     "name": "stdout",
     "output_type": "stream",
     "text": [
      "Similarity column 38121 (100.0%), 2491.78 column/sec. Elapsed time 15.30 sec\n",
      "EvaluatorHoldout: Processed 35595 (100.0%) in 41.36 sec. Users per second: 861\n"
     ]
    },
    {
     "name": "stderr",
     "output_type": "stream",
     "text": [
      "[I 2024-11-15 13:48:46,000] Trial 40 finished with value: 0.04560686805039762 and parameters: {'similarity': 'tversky', 'topK': 91, 'shrink': 670, 'feature_weighting': 'BM25', 'tversky_alpha': 1.2117232886502216, 'tversky_beta': 0.7477861490861788}. Best is trial 17 with value: 0.05161769755427387.\n"
     ]
    },
    {
     "name": "stdout",
     "output_type": "stream",
     "text": [
      "Similarity column 38121 (100.0%), 2425.26 column/sec. Elapsed time 15.72 sec\n",
      "EvaluatorHoldout: Processed 35595 (100.0%) in 1.06 min. Users per second: 560\n"
     ]
    },
    {
     "name": "stderr",
     "output_type": "stream",
     "text": [
      "[I 2024-11-15 13:50:07,010] Trial 41 finished with value: 0.04035734575704933 and parameters: {'similarity': 'asymmetric', 'topK': 1020, 'shrink': 226, 'feature_weighting': 'BM25', 'asymmetric_alpha': 0.002855685859458168}. Best is trial 17 with value: 0.05161769755427387.\n"
     ]
    },
    {
     "name": "stdout",
     "output_type": "stream",
     "text": [
      "Similarity column 38121 (100.0%), 3167.77 column/sec. Elapsed time 12.03 sec\n",
      "EvaluatorHoldout: Processed 35595 (100.0%) in 25.73 sec. Users per second: 1383\n"
     ]
    },
    {
     "name": "stderr",
     "output_type": "stream",
     "text": [
      "[I 2024-11-15 13:50:45,389] Trial 42 finished with value: 0.00028209999175022335 and parameters: {'similarity': 'tversky', 'topK': 0, 'shrink': 385, 'feature_weighting': 'BM25', 'tversky_alpha': 1.7729258578941427, 'tversky_beta': 1.7545103994936297}. Best is trial 17 with value: 0.05161769755427387.\n"
     ]
    },
    {
     "name": "stdout",
     "output_type": "stream",
     "text": [
      "Similarity column 38121 (100.0%), 2943.50 column/sec. Elapsed time 12.95 sec\n",
      "EvaluatorHoldout: Processed 35595 (100.0%) in 29.34 sec. Users per second: 1213\n"
     ]
    },
    {
     "name": "stderr",
     "output_type": "stream",
     "text": [
      "[I 2024-11-15 13:51:28,284] Trial 43 finished with value: 0.04296214690399144 and parameters: {'similarity': 'tversky', 'topK': 1, 'shrink': 427, 'feature_weighting': 'BM25', 'tversky_alpha': 1.5314547369099525, 'tversky_beta': 1.8142238333401879}. Best is trial 17 with value: 0.05161769755427387.\n"
     ]
    },
    {
     "name": "stdout",
     "output_type": "stream",
     "text": [
      "Similarity column 38121 (100.0%), 2478.62 column/sec. Elapsed time 15.38 sec\n",
      "EvaluatorHoldout: Processed 35595 (100.0%) in 39.39 sec. Users per second: 904\n"
     ]
    },
    {
     "name": "stderr",
     "output_type": "stream",
     "text": [
      "[I 2024-11-15 13:52:23,743] Trial 44 finished with value: 0.0466677993386786 and parameters: {'similarity': 'tversky', 'topK': 76, 'shrink': 555, 'feature_weighting': 'BM25', 'tversky_alpha': 1.8325870478895259, 'tversky_beta': 1.6049940912587117}. Best is trial 17 with value: 0.05161769755427387.\n"
     ]
    },
    {
     "name": "stdout",
     "output_type": "stream",
     "text": [
      "Similarity column 38121 (100.0%), 2475.19 column/sec. Elapsed time 15.40 sec\n",
      "EvaluatorHoldout: Processed 35595 (100.0%) in 43.78 sec. Users per second: 813\n"
     ]
    },
    {
     "name": "stderr",
     "output_type": "stream",
     "text": [
      "[I 2024-11-15 13:53:23,738] Trial 45 finished with value: 0.04499424522348929 and parameters: {'similarity': 'tversky', 'topK': 166, 'shrink': 459, 'feature_weighting': 'BM25', 'tversky_alpha': 1.6046478150048051, 'tversky_beta': 1.8554298520136232}. Best is trial 17 with value: 0.05161769755427387.\n"
     ]
    },
    {
     "name": "stdout",
     "output_type": "stream",
     "text": [
      "Similarity column 38121 (100.0%), 393.05 column/sec. Elapsed time 1.62 min\n",
      "EvaluatorHoldout: Processed 35595 (100.0%) in 56.06 sec. Users per second: 635\n"
     ]
    },
    {
     "name": "stderr",
     "output_type": "stream",
     "text": [
      "[I 2024-11-15 13:55:57,478] Trial 46 finished with value: 0.030907741857804462 and parameters: {'similarity': 'euclidean', 'topK': 280, 'shrink': 300, 'feature_weighting': 'BM25', 'normalize_avg_row': True, 'similarity_from_distance_mode': 'exp', 'normalize': False}. Best is trial 17 with value: 0.05161769755427387.\n"
     ]
    },
    {
     "name": "stdout",
     "output_type": "stream",
     "text": [
      "Similarity column 38121 (100.0%), 2619.98 column/sec. Elapsed time 14.55 sec\n",
      "EvaluatorHoldout: Processed 35595 (100.0%) in 39.76 sec. Users per second: 895\n"
     ]
    },
    {
     "name": "stderr",
     "output_type": "stream",
     "text": [
      "[I 2024-11-15 13:56:52,162] Trial 47 finished with value: 0.041844390263478415 and parameters: {'similarity': 'cosine', 'topK': 67, 'shrink': 145, 'feature_weighting': 'none'}. Best is trial 17 with value: 0.05161769755427387.\n"
     ]
    },
    {
     "name": "stdout",
     "output_type": "stream",
     "text": [
      "Similarity column 38121 (100.0%), 2624.40 column/sec. Elapsed time 14.53 sec\n",
      "EvaluatorHoldout: Processed 35595 (100.0%) in 53.77 sec. Users per second: 662\n"
     ]
    },
    {
     "name": "stderr",
     "output_type": "stream",
     "text": [
      "[I 2024-11-15 13:58:01,658] Trial 48 finished with value: 0.04043991933056262 and parameters: {'similarity': 'dice', 'topK': 464, 'shrink': 373, 'feature_weighting': 'BM25'}. Best is trial 17 with value: 0.05161769755427387.\n"
     ]
    },
    {
     "name": "stdout",
     "output_type": "stream",
     "text": [
      "Similarity column 38121 (100.0%), 2681.25 column/sec. Elapsed time 14.22 sec\n",
      "EvaluatorHoldout: Processed 35595 (100.0%) in 47.86 sec. Users per second: 744\n"
     ]
    },
    {
     "name": "stderr",
     "output_type": "stream",
     "text": [
      "[I 2024-11-15 13:59:04,612] Trial 49 finished with value: 0.03553430234761781 and parameters: {'similarity': 'jaccard', 'topK': 237, 'shrink': 719, 'feature_weighting': 'TF-IDF'}. Best is trial 17 with value: 0.05161769755427387.\n"
     ]
    },
    {
     "name": "stdout",
     "output_type": "stream",
     "text": [
      "Similarity column 38121 (100.0%), 2490.98 column/sec. Elapsed time 15.30 sec\n",
      "EvaluatorHoldout: Processed 35595 (100.0%) in 39.18 sec. Users per second: 909\n"
     ]
    },
    {
     "name": "stderr",
     "output_type": "stream",
     "text": [
      "[I 2024-11-15 13:59:59,800] Trial 50 finished with value: 0.0460562813129167 and parameters: {'similarity': 'tversky', 'topK': 70, 'shrink': 805, 'feature_weighting': 'BM25', 'tversky_alpha': 0.8128539874566407, 'tversky_beta': 1.6028430845511972}. Best is trial 17 with value: 0.05161769755427387.\n"
     ]
    },
    {
     "name": "stdout",
     "output_type": "stream",
     "text": [
      "Similarity column 38121 (100.0%), 2357.94 column/sec. Elapsed time 16.17 sec\n",
      "EvaluatorHoldout: Processed 35595 (100.0%) in 58.19 sec. Users per second: 612\n"
     ]
    },
    {
     "name": "stderr",
     "output_type": "stream",
     "text": [
      "[I 2024-11-15 14:01:15,723] Trial 51 finished with value: 0.039426681783823095 and parameters: {'similarity': 'tversky', 'topK': 676, 'shrink': 565, 'feature_weighting': 'BM25', 'tversky_alpha': 1.3988443522613943, 'tversky_beta': 1.8580160041283136}. Best is trial 17 with value: 0.05161769755427387.\n"
     ]
    },
    {
     "name": "stdout",
     "output_type": "stream",
     "text": [
      "Similarity column 38121 (100.0%), 2512.18 column/sec. Elapsed time 15.17 sec\n",
      "EvaluatorHoldout: Processed 35595 (100.0%) in 35.54 sec. Users per second: 1001\n"
     ]
    },
    {
     "name": "stderr",
     "output_type": "stream",
     "text": [
      "[I 2024-11-15 14:02:07,099] Trial 52 finished with value: 0.04870819202803869 and parameters: {'similarity': 'tversky', 'topK': 32, 'shrink': 350, 'feature_weighting': 'BM25', 'tversky_alpha': 1.6304015120627318, 'tversky_beta': 1.6048635308339847}. Best is trial 17 with value: 0.05161769755427387.\n"
     ]
    },
    {
     "name": "stdout",
     "output_type": "stream",
     "text": [
      "Similarity column 38121 (100.0%), 2477.31 column/sec. Elapsed time 15.39 sec\n",
      "EvaluatorHoldout: Processed 35595 (100.0%) in 42.77 sec. Users per second: 832\n"
     ]
    },
    {
     "name": "stderr",
     "output_type": "stream",
     "text": [
      "[I 2024-11-15 14:03:06,077] Trial 53 finished with value: 0.045271515751497377 and parameters: {'similarity': 'tversky', 'topK': 165, 'shrink': 257, 'feature_weighting': 'BM25', 'tversky_alpha': 1.888921900727691, 'tversky_beta': 1.649745831863684}. Best is trial 17 with value: 0.05161769755427387.\n"
     ]
    },
    {
     "name": "stdout",
     "output_type": "stream",
     "text": [
      "Similarity column 38121 (100.0%), 2502.94 column/sec. Elapsed time 15.23 sec\n",
      "EvaluatorHoldout: Processed 35595 (100.0%) in 36.08 sec. Users per second: 986\n"
     ]
    },
    {
     "name": "stderr",
     "output_type": "stream",
     "text": [
      "[I 2024-11-15 14:03:58,053] Trial 54 finished with value: 0.04781852832906185 and parameters: {'similarity': 'tversky', 'topK': 42, 'shrink': 474, 'feature_weighting': 'BM25', 'tversky_alpha': 0.27706301999846095, 'tversky_beta': 1.992613891297061}. Best is trial 17 with value: 0.05161769755427387.\n"
     ]
    },
    {
     "name": "stdout",
     "output_type": "stream",
     "text": [
      "Similarity column 38121 (100.0%), 2505.41 column/sec. Elapsed time 15.22 sec\n",
      "EvaluatorHoldout: Processed 35595 (100.0%) in 41.53 sec. Users per second: 857\n"
     ]
    },
    {
     "name": "stderr",
     "output_type": "stream",
     "text": [
      "[I 2024-11-15 14:04:55,532] Trial 55 finished with value: 0.04559385681509411 and parameters: {'similarity': 'tversky', 'topK': 117, 'shrink': 419, 'feature_weighting': 'BM25', 'tversky_alpha': 1.486168782765245, 'tversky_beta': 1.3415690789529688}. Best is trial 17 with value: 0.05161769755427387.\n"
     ]
    },
    {
     "name": "stdout",
     "output_type": "stream",
     "text": [
      "Similarity column 38121 (100.0%), 2600.47 column/sec. Elapsed time 14.66 sec\n",
      "EvaluatorHoldout: Processed 35595 (100.0%) in 40.78 sec. Users per second: 873\n"
     ]
    },
    {
     "name": "stderr",
     "output_type": "stream",
     "text": [
      "[I 2024-11-15 14:05:51,600] Trial 56 finished with value: 0.041067673808296026 and parameters: {'similarity': 'asymmetric', 'topK': 182, 'shrink': 338, 'feature_weighting': 'BM25', 'asymmetric_alpha': 0.6714026688817581}. Best is trial 17 with value: 0.05161769755427387.\n"
     ]
    },
    {
     "name": "stdout",
     "output_type": "stream",
     "text": [
      "Similarity column 38121 (100.0%), 2531.76 column/sec. Elapsed time 15.06 sec\n",
      "EvaluatorHoldout: Processed 35595 (100.0%) in 33.61 sec. Users per second: 1059\n"
     ]
    },
    {
     "name": "stderr",
     "output_type": "stream",
     "text": [
      "[I 2024-11-15 14:06:40,909] Trial 57 finished with value: 0.05041181211914278 and parameters: {'similarity': 'tversky', 'topK': 13, 'shrink': 594, 'feature_weighting': 'BM25', 'tversky_alpha': 1.6975384381917937, 'tversky_beta': 1.7122048850834588}. Best is trial 17 with value: 0.05161769755427387.\n"
     ]
    },
    {
     "name": "stdout",
     "output_type": "stream",
     "text": [
      "Similarity column 38121 (100.0%), 2293.46 column/sec. Elapsed time 16.62 sec\n",
      "EvaluatorHoldout: Processed 35595 (100.0%) in 1.21 min. Users per second: 488\n"
     ]
    },
    {
     "name": "stderr",
     "output_type": "stream",
     "text": [
      "[I 2024-11-15 14:08:13,839] Trial 58 finished with value: 0.034509558592364 and parameters: {'similarity': 'tversky', 'topK': 1489, 'shrink': 613, 'feature_weighting': 'none', 'tversky_alpha': 1.74053085657654, 'tversky_beta': 1.7719194440063313}. Best is trial 17 with value: 0.05161769755427387.\n"
     ]
    },
    {
     "name": "stdout",
     "output_type": "stream",
     "text": [
      "Similarity column 38121 (100.0%), 2610.64 column/sec. Elapsed time 14.60 sec\n",
      "EvaluatorHoldout: Processed 35595 (100.0%) in 42.71 sec. Users per second: 833\n"
     ]
    },
    {
     "name": "stderr",
     "output_type": "stream",
     "text": [
      "[I 2024-11-15 14:09:11,863] Trial 59 finished with value: 0.04110913562409417 and parameters: {'similarity': 'cosine', 'topK': 247, 'shrink': 532, 'feature_weighting': 'BM25'}. Best is trial 17 with value: 0.05161769755427387.\n"
     ]
    },
    {
     "name": "stdout",
     "output_type": "stream",
     "text": [
      "Similarity column 38121 (100.0%), 2485.15 column/sec. Elapsed time 15.34 sec\n",
      "EvaluatorHoldout: Processed 35595 (100.0%) in 42.01 sec. Users per second: 847\n"
     ]
    },
    {
     "name": "stderr",
     "output_type": "stream",
     "text": [
      "[I 2024-11-15 14:10:09,954] Trial 60 finished with value: 0.040058974753452645 and parameters: {'similarity': 'tversky', 'topK': 117, 'shrink': 649, 'feature_weighting': 'TF-IDF', 'tversky_alpha': 1.840560431740111, 'tversky_beta': 1.878829408744843}. Best is trial 17 with value: 0.05161769755427387.\n"
     ]
    },
    {
     "name": "stdout",
     "output_type": "stream",
     "text": [
      "Similarity column 38121 (100.0%), 2501.85 column/sec. Elapsed time 15.24 sec\n",
      "EvaluatorHoldout: Processed 35595 (100.0%) in 1.14 min. Users per second: 522\n"
     ]
    },
    {
     "name": "stderr",
     "output_type": "stream",
     "text": [
      "[I 2024-11-15 14:11:35,555] Trial 61 finished with value: 0.03729678570871025 and parameters: {'similarity': 'jaccard', 'topK': 1176, 'shrink': 443, 'feature_weighting': 'BM25'}. Best is trial 17 with value: 0.05161769755427387.\n"
     ]
    },
    {
     "name": "stdout",
     "output_type": "stream",
     "text": [
      "Similarity column 38121 (100.0%), 2494.97 column/sec. Elapsed time 15.28 sec\n",
      "EvaluatorHoldout: Processed 35595 (100.0%) in 36.21 sec. Users per second: 983\n"
     ]
    },
    {
     "name": "stderr",
     "output_type": "stream",
     "text": [
      "[I 2024-11-15 14:12:27,708] Trial 62 finished with value: 0.047988403489876645 and parameters: {'similarity': 'tversky', 'topK': 46, 'shrink': 366, 'feature_weighting': 'BM25', 'tversky_alpha': 1.7305390700306653, 'tversky_beta': 1.7349226213303433}. Best is trial 17 with value: 0.05161769755427387.\n"
     ]
    },
    {
     "name": "stdout",
     "output_type": "stream",
     "text": [
      "Similarity column 38121 (100.0%), 2526.12 column/sec. Elapsed time 15.09 sec\n",
      "EvaluatorHoldout: Processed 35595 (100.0%) in 33.98 sec. Users per second: 1048\n"
     ]
    },
    {
     "name": "stderr",
     "output_type": "stream",
     "text": [
      "[I 2024-11-15 14:13:17,390] Trial 63 finished with value: 0.05004167697888586 and parameters: {'similarity': 'tversky', 'topK': 17, 'shrink': 577, 'feature_weighting': 'BM25', 'tversky_alpha': 1.1915414905637616, 'tversky_beta': 1.6576662840758978}. Best is trial 17 with value: 0.05161769755427387.\n"
     ]
    },
    {
     "name": "stdout",
     "output_type": "stream",
     "text": [
      "Similarity column 38121 (100.0%), 3191.42 column/sec. Elapsed time 11.94 sec\n",
      "EvaluatorHoldout: Processed 35595 (100.0%) in 25.62 sec. Users per second: 1389\n"
     ]
    },
    {
     "name": "stderr",
     "output_type": "stream",
     "text": [
      "[I 2024-11-15 14:13:55,548] Trial 64 finished with value: 0.00028209999175022335 and parameters: {'similarity': 'tversky', 'topK': 0, 'shrink': 569, 'feature_weighting': 'BM25', 'tversky_alpha': 1.187922394912016, 'tversky_beta': 1.88910377262988}. Best is trial 17 with value: 0.05161769755427387.\n"
     ]
    },
    {
     "name": "stdout",
     "output_type": "stream",
     "text": [
      "Similarity column 38121 (100.0%), 2444.09 column/sec. Elapsed time 15.60 sec\n",
      "EvaluatorHoldout: Processed 35595 (100.0%) in 49.19 sec. Users per second: 724\n"
     ]
    },
    {
     "name": "stderr",
     "output_type": "stream",
     "text": [
      "[I 2024-11-15 14:15:01,364] Trial 65 finished with value: 0.04110422812192565 and parameters: {'similarity': 'tversky', 'topK': 326, 'shrink': 602, 'feature_weighting': 'BM25', 'tversky_alpha': 0.9632795701547263, 'tversky_beta': 1.7030729400729827}. Best is trial 17 with value: 0.05161769755427387.\n"
     ]
    },
    {
     "name": "stdout",
     "output_type": "stream",
     "text": [
      "Similarity column 38121 (100.0%), 2350.11 column/sec. Elapsed time 16.22 sec\n",
      "EvaluatorHoldout: Processed 35595 (100.0%) in 1.05 min. Users per second: 564\n"
     ]
    },
    {
     "name": "stderr",
     "output_type": "stream",
     "text": [
      "[I 2024-11-15 14:16:22,506] Trial 66 finished with value: 0.040068415173344085 and parameters: {'similarity': 'tversky', 'topK': 872, 'shrink': 493, 'feature_weighting': 'BM25', 'tversky_alpha': 1.9538070962424121, 'tversky_beta': 0.5587398131480832}. Best is trial 17 with value: 0.05161769755427387.\n"
     ]
    },
    {
     "name": "stdout",
     "output_type": "stream",
     "text": [
      "Similarity column 38121 (100.0%), 2490.31 column/sec. Elapsed time 15.31 sec\n",
      "EvaluatorHoldout: Processed 35595 (100.0%) in 41.19 sec. Users per second: 864\n"
     ]
    },
    {
     "name": "stderr",
     "output_type": "stream",
     "text": [
      "[I 2024-11-15 14:17:19,771] Trial 67 finished with value: 0.0453023688006813 and parameters: {'similarity': 'tversky', 'topK': 101, 'shrink': 718, 'feature_weighting': 'BM25', 'tversky_alpha': 1.1457222372113227, 'tversky_beta': 1.5156515953972616}. Best is trial 17 with value: 0.05161769755427387.\n"
     ]
    },
    {
     "name": "stdout",
     "output_type": "stream",
     "text": [
      "Similarity column 38121 (100.0%), 2741.99 column/sec. Elapsed time 13.90 sec\n",
      "EvaluatorHoldout: Processed 35595 (100.0%) in 44.06 sec. Users per second: 808\n"
     ]
    },
    {
     "name": "stderr",
     "output_type": "stream",
     "text": [
      "[I 2024-11-15 14:18:18,478] Trial 68 finished with value: 0.04389744635972886 and parameters: {'similarity': 'dice', 'topK': 152, 'shrink': 526, 'feature_weighting': 'BM25'}. Best is trial 17 with value: 0.05161769755427387.\n"
     ]
    },
    {
     "name": "stdout",
     "output_type": "stream",
     "text": [
      "Similarity column 38121 (100.0%), 458.78 column/sec. Elapsed time 1.38 min\n",
      "EvaluatorHoldout: Processed 35595 (100.0%) in 44.20 sec. Users per second: 805\n"
     ]
    },
    {
     "name": "stderr",
     "output_type": "stream",
     "text": [
      "[I 2024-11-15 14:20:26,192] Trial 69 finished with value: 0.03381664871782803 and parameters: {'similarity': 'euclidean', 'topK': 56, 'shrink': 667, 'feature_weighting': 'BM25', 'normalize_avg_row': False, 'similarity_from_distance_mode': 'lin', 'normalize': False}. Best is trial 17 with value: 0.05161769755427387.\n"
     ]
    },
    {
     "name": "stdout",
     "output_type": "stream",
     "text": [
      "Similarity column 38121 (100.0%), 2442.08 column/sec. Elapsed time 15.61 sec\n",
      "EvaluatorHoldout: Processed 35595 (100.0%) in 41.28 sec. Users per second: 862\n"
     ]
    },
    {
     "name": "stderr",
     "output_type": "stream",
     "text": [
      "[I 2024-11-15 14:21:23,835] Trial 70 finished with value: 0.04474928706323398 and parameters: {'similarity': 'tversky', 'topK': 205, 'shrink': 19, 'feature_weighting': 'none', 'tversky_alpha': 1.293050322279085, 'tversky_beta': 1.3160863991320677}. Best is trial 17 with value: 0.05161769755427387.\n"
     ]
    },
    {
     "name": "stdout",
     "output_type": "stream",
     "text": [
      "Similarity column 38121 (100.0%), 2479.90 column/sec. Elapsed time 15.37 sec\n",
      "EvaluatorHoldout: Processed 35595 (100.0%) in 41.57 sec. Users per second: 856\n"
     ]
    },
    {
     "name": "stderr",
     "output_type": "stream",
     "text": [
      "[I 2024-11-15 14:22:21,520] Trial 71 finished with value: 0.04493223700492812 and parameters: {'similarity': 'tversky', 'topK': 119, 'shrink': 586, 'feature_weighting': 'BM25', 'tversky_alpha': 0.9303203092321136, 'tversky_beta': 1.9022632478972958}. Best is trial 17 with value: 0.05161769755427387.\n"
     ]
    },
    {
     "name": "stdout",
     "output_type": "stream",
     "text": [
      "Similarity column 38121 (100.0%), 2532.31 column/sec. Elapsed time 15.05 sec\n",
      "EvaluatorHoldout: Processed 35595 (100.0%) in 35.60 sec. Users per second: 1000\n"
     ]
    },
    {
     "name": "stderr",
     "output_type": "stream",
     "text": [
      "[I 2024-11-15 14:23:12,823] Trial 72 finished with value: 0.04824240295921554 and parameters: {'similarity': 'tversky', 'topK': 37, 'shrink': 300, 'feature_weighting': 'BM25', 'tversky_alpha': 1.650209529323279, 'tversky_beta': 1.5511002298861463}. Best is trial 17 with value: 0.05161769755427387.\n"
     ]
    },
    {
     "name": "stdout",
     "output_type": "stream",
     "text": [
      "Similarity column 38121 (100.0%), 2529.59 column/sec. Elapsed time 15.07 sec\n",
      "EvaluatorHoldout: Processed 35595 (100.0%) in 32.50 sec. Users per second: 1095\n"
     ]
    },
    {
     "name": "stderr",
     "output_type": "stream",
     "text": [
      "[I 2024-11-15 14:24:01,027] Trial 73 finished with value: 0.05089205724898772 and parameters: {'similarity': 'tversky', 'topK': 10, 'shrink': 401, 'feature_weighting': 'BM25', 'tversky_alpha': 1.4706479839783362, 'tversky_beta': 1.7007462163401423}. Best is trial 17 with value: 0.05161769755427387.\n"
     ]
    },
    {
     "name": "stdout",
     "output_type": "stream",
     "text": [
      "Similarity column 38121 (100.0%), 2503.22 column/sec. Elapsed time 15.23 sec\n",
      "EvaluatorHoldout: Processed 35595 (100.0%) in 39.38 sec. Users per second: 904\n"
     ]
    },
    {
     "name": "stderr",
     "output_type": "stream",
     "text": [
      "[I 2024-11-15 14:24:56,337] Trial 74 finished with value: 0.0463933905912398 and parameters: {'similarity': 'tversky', 'topK': 85, 'shrink': 421, 'feature_weighting': 'BM25', 'tversky_alpha': 1.4397230140876243, 'tversky_beta': 1.4205061441474371}. Best is trial 17 with value: 0.05161769755427387.\n"
     ]
    },
    {
     "name": "stdout",
     "output_type": "stream",
     "text": [
      "Similarity column 38121 (100.0%), 2538.30 column/sec. Elapsed time 15.02 sec\n",
      "EvaluatorHoldout: Processed 35595 (100.0%) in 33.60 sec. Users per second: 1059\n"
     ]
    },
    {
     "name": "stderr",
     "output_type": "stream",
     "text": [
      "[I 2024-11-15 14:25:45,603] Trial 75 finished with value: 0.05016692530830612 and parameters: {'similarity': 'tversky', 'topK': 16, 'shrink': 509, 'feature_weighting': 'BM25', 'tversky_alpha': 1.3131890318899435, 'tversky_beta': 1.6964634649646244}. Best is trial 17 with value: 0.05161769755427387.\n"
     ]
    },
    {
     "name": "stdout",
     "output_type": "stream",
     "text": [
      "Similarity column 38121 (100.0%), 2943.88 column/sec. Elapsed time 12.95 sec\n",
      "EvaluatorHoldout: Processed 35595 (100.0%) in 30.00 sec. Users per second: 1187\n"
     ]
    },
    {
     "name": "stderr",
     "output_type": "stream",
     "text": [
      "[I 2024-11-15 14:26:29,152] Trial 76 finished with value: 0.03990265932659396 and parameters: {'similarity': 'tversky', 'topK': 1, 'shrink': 504, 'feature_weighting': 'BM25', 'tversky_alpha': 1.281319753318321, 'tversky_beta': 0.006728388240836436}. Best is trial 17 with value: 0.05161769755427387.\n"
     ]
    },
    {
     "name": "stdout",
     "output_type": "stream",
     "text": [
      "Similarity column 38121 (100.0%), 2630.25 column/sec. Elapsed time 14.49 sec\n",
      "EvaluatorHoldout: Processed 35595 (100.0%) in 53.21 sec. Users per second: 669\n"
     ]
    },
    {
     "name": "stderr",
     "output_type": "stream",
     "text": [
      "[I 2024-11-15 14:27:37,406] Trial 77 finished with value: 0.01944379895517679 and parameters: {'similarity': 'asymmetric', 'topK': 143, 'shrink': 633, 'feature_weighting': 'TF-IDF', 'asymmetric_alpha': 1.9947806633222271}. Best is trial 17 with value: 0.05161769755427387.\n"
     ]
    },
    {
     "name": "stdout",
     "output_type": "stream",
     "text": [
      "Similarity column 38121 (100.0%), 2527.09 column/sec. Elapsed time 15.08 sec\n",
      "EvaluatorHoldout: Processed 35595 (100.0%) in 39.10 sec. Users per second: 910\n"
     ]
    },
    {
     "name": "stderr",
     "output_type": "stream",
     "text": [
      "[I 2024-11-15 14:28:32,276] Trial 78 finished with value: 0.04660077547898707 and parameters: {'similarity': 'tversky', 'topK': 71, 'shrink': 451, 'feature_weighting': 'BM25', 'tversky_alpha': 1.1062765393183756, 'tversky_beta': 1.1757483344162105}. Best is trial 17 with value: 0.05161769755427387.\n"
     ]
    },
    {
     "name": "stdout",
     "output_type": "stream",
     "text": [
      "Similarity column 38121 (100.0%), 2630.63 column/sec. Elapsed time 14.49 sec\n",
      "EvaluatorHoldout: Processed 35595 (100.0%) in 40.94 sec. Users per second: 869\n"
     ]
    },
    {
     "name": "stderr",
     "output_type": "stream",
     "text": [
      "[I 2024-11-15 14:29:28,305] Trial 79 finished with value: 0.04123985333235069 and parameters: {'similarity': 'cosine', 'topK': 188, 'shrink': 481, 'feature_weighting': 'BM25'}. Best is trial 17 with value: 0.05161769755427387.\n"
     ]
    },
    {
     "name": "stdout",
     "output_type": "stream",
     "text": [
      "Similarity column 38121 (100.0%), 2755.97 column/sec. Elapsed time 13.83 sec\n",
      "EvaluatorHoldout: Processed 35595 (100.0%) in 36.24 sec. Users per second: 982\n"
     ]
    },
    {
     "name": "stderr",
     "output_type": "stream",
     "text": [
      "[I 2024-11-15 14:30:18,971] Trial 80 finished with value: 0.048472722225565056 and parameters: {'similarity': 'jaccard', 'topK': 35, 'shrink': 524, 'feature_weighting': 'BM25'}. Best is trial 17 with value: 0.05161769755427387.\n"
     ]
    },
    {
     "name": "stdout",
     "output_type": "stream",
     "text": [
      "Similarity column 38121 (100.0%), 2469.76 column/sec. Elapsed time 15.44 sec\n",
      "EvaluatorHoldout: Processed 35595 (100.0%) in 46.08 sec. Users per second: 772\n"
     ]
    },
    {
     "name": "stderr",
     "output_type": "stream",
     "text": [
      "[I 2024-11-15 14:31:21,411] Trial 81 finished with value: 0.04325966728874271 and parameters: {'similarity': 'tversky', 'topK': 238, 'shrink': 551, 'feature_weighting': 'BM25', 'tversky_alpha': 1.3587698807119635, 'tversky_beta': 1.9283796142335492}. Best is trial 17 with value: 0.05161769755427387.\n"
     ]
    },
    {
     "name": "stdout",
     "output_type": "stream",
     "text": [
      "Similarity column 38121 (100.0%), 2960.14 column/sec. Elapsed time 12.88 sec\n",
      "EvaluatorHoldout: Processed 35595 (100.0%) in 29.03 sec. Users per second: 1226\n"
     ]
    },
    {
     "name": "stderr",
     "output_type": "stream",
     "text": [
      "[I 2024-11-15 14:32:03,929] Trial 82 finished with value: 0.04288301259540072 and parameters: {'similarity': 'tversky', 'topK': 1, 'shrink': 381, 'feature_weighting': 'BM25', 'tversky_alpha': 1.492182746277373, 'tversky_beta': 1.702944521140242}. Best is trial 17 with value: 0.05161769755427387.\n"
     ]
    },
    {
     "name": "stdout",
     "output_type": "stream",
     "text": [
      "Similarity column 38121 (100.0%), 2490.85 column/sec. Elapsed time 15.30 sec\n",
      "EvaluatorHoldout: Processed 35595 (100.0%) in 39.76 sec. Users per second: 895\n"
     ]
    },
    {
     "name": "stderr",
     "output_type": "stream",
     "text": [
      "[I 2024-11-15 14:32:59,709] Trial 83 finished with value: 0.04638017199668959 and parameters: {'similarity': 'tversky', 'topK': 97, 'shrink': 329, 'feature_weighting': 'BM25', 'tversky_alpha': 1.6620095572064992, 'tversky_beta': 1.8045338152618209}. Best is trial 17 with value: 0.05161769755427387.\n"
     ]
    },
    {
     "name": "stdout",
     "output_type": "stream",
     "text": [
      "Similarity column 38121 (100.0%), 2499.77 column/sec. Elapsed time 15.25 sec\n",
      "EvaluatorHoldout: Processed 35595 (100.0%) in 37.32 sec. Users per second: 954\n"
     ]
    },
    {
     "name": "stderr",
     "output_type": "stream",
     "text": [
      "[I 2024-11-15 14:33:52,958] Trial 84 finished with value: 0.04755438386432734 and parameters: {'similarity': 'tversky', 'topK': 53, 'shrink': 399, 'feature_weighting': 'BM25', 'tversky_alpha': 1.9975852143889798, 'tversky_beta': 1.5349953505299967}. Best is trial 17 with value: 0.05161769755427387.\n"
     ]
    },
    {
     "name": "stdout",
     "output_type": "stream",
     "text": [
      "Similarity column 38121 (100.0%), 2478.48 column/sec. Elapsed time 15.38 sec\n",
      "EvaluatorHoldout: Processed 35595 (100.0%) in 42.83 sec. Users per second: 831\n"
     ]
    },
    {
     "name": "stderr",
     "output_type": "stream",
     "text": [
      "[I 2024-11-15 14:34:51,948] Trial 85 finished with value: 0.04529044787367445 and parameters: {'similarity': 'tversky', 'topK': 136, 'shrink': 589, 'feature_weighting': 'BM25', 'tversky_alpha': 1.8999737791574287, 'tversky_beta': 1.7025143972135763}. Best is trial 17 with value: 0.05161769755427387.\n"
     ]
    },
    {
     "name": "stdout",
     "output_type": "stream",
     "text": [
      "Similarity column 38121 (100.0%), 2521.10 column/sec. Elapsed time 15.12 sec\n",
      "EvaluatorHoldout: Processed 35595 (100.0%) in 36.35 sec. Users per second: 979\n"
     ]
    },
    {
     "name": "stderr",
     "output_type": "stream",
     "text": [
      "[I 2024-11-15 14:35:44,088] Trial 86 finished with value: 0.0480227058374956 and parameters: {'similarity': 'tversky', 'topK': 35, 'shrink': 693, 'feature_weighting': 'BM25', 'tversky_alpha': 0.29687211593555274, 'tversky_beta': 1.4236622482089079}. Best is trial 17 with value: 0.05161769755427387.\n"
     ]
    },
    {
     "name": "stdout",
     "output_type": "stream",
     "text": [
      "Similarity column 38121 (100.0%), 415.58 column/sec. Elapsed time 1.53 min\n",
      "EvaluatorHoldout: Processed 35595 (100.0%) in 36.83 sec. Users per second: 966\n"
     ]
    },
    {
     "name": "stderr",
     "output_type": "stream",
     "text": [
      "[I 2024-11-15 14:37:53,125] Trial 87 finished with value: 0.024460692044762217 and parameters: {'similarity': 'euclidean', 'topK': 88, 'shrink': 431, 'feature_weighting': 'BM25', 'normalize_avg_row': True, 'similarity_from_distance_mode': 'log', 'normalize': True}. Best is trial 17 with value: 0.05161769755427387.\n"
     ]
    },
    {
     "name": "stdout",
     "output_type": "stream",
     "text": [
      "Similarity column 38121 (100.0%), 2770.37 column/sec. Elapsed time 13.76 sec\n",
      "EvaluatorHoldout: Processed 35595 (100.0%) in 35.61 sec. Users per second: 1000\n"
     ]
    },
    {
     "name": "stderr",
     "output_type": "stream",
     "text": [
      "[I 2024-11-15 14:38:42,981] Trial 88 finished with value: 0.04136517747052781 and parameters: {'similarity': 'dice', 'topK': 31, 'shrink': 471, 'feature_weighting': 'none'}. Best is trial 17 with value: 0.05161769755427387.\n"
     ]
    },
    {
     "name": "stdout",
     "output_type": "stream",
     "text": [
      "Similarity column 38121 (100.0%), 2486.29 column/sec. Elapsed time 15.33 sec\n",
      "EvaluatorHoldout: Processed 35595 (100.0%) in 43.33 sec. Users per second: 821\n"
     ]
    },
    {
     "name": "stderr",
     "output_type": "stream",
     "text": [
      "[I 2024-11-15 14:39:42,453] Trial 89 finished with value: 0.04489278189151595 and parameters: {'similarity': 'tversky', 'topK': 182, 'shrink': 280, 'feature_weighting': 'BM25', 'tversky_alpha': 1.2713702506917117, 'tversky_beta': 1.6635853989561964}. Best is trial 17 with value: 0.05161769755427387.\n"
     ]
    },
    {
     "name": "stdout",
     "output_type": "stream",
     "text": [
      "Similarity column 38121 (100.0%), 2503.30 column/sec. Elapsed time 15.23 sec\n",
      "EvaluatorHoldout: Processed 35595 (100.0%) in 42.12 sec. Users per second: 845\n"
     ]
    },
    {
     "name": "stderr",
     "output_type": "stream",
     "text": [
      "[I 2024-11-15 14:40:40,540] Trial 90 finished with value: 0.03959412771991614 and parameters: {'similarity': 'tversky', 'topK': 116, 'shrink': 504, 'feature_weighting': 'TF-IDF', 'tversky_alpha': 1.4287596154555884, 'tversky_beta': 0.9296763238858963}. Best is trial 17 with value: 0.05161769755427387.\n"
     ]
    },
    {
     "name": "stdout",
     "output_type": "stream",
     "text": [
      "Similarity column 38121 (100.0%), 2519.93 column/sec. Elapsed time 15.13 sec\n",
      "EvaluatorHoldout: Processed 35595 (100.0%) in 37.27 sec. Users per second: 955\n"
     ]
    },
    {
     "name": "stderr",
     "output_type": "stream",
     "text": [
      "[I 2024-11-15 14:41:33,619] Trial 91 finished with value: 0.04713699311254993 and parameters: {'similarity': 'tversky', 'topK': 66, 'shrink': 238, 'feature_weighting': 'BM25', 'tversky_alpha': 1.5508638077016477, 'tversky_beta': 1.8019552464439286}. Best is trial 17 with value: 0.05161769755427387.\n"
     ]
    },
    {
     "name": "stdout",
     "output_type": "stream",
     "text": [
      "Similarity column 38121 (100.0%), 2518.48 column/sec. Elapsed time 15.14 sec\n",
      "EvaluatorHoldout: Processed 35595 (100.0%) in 34.32 sec. Users per second: 1037\n"
     ]
    },
    {
     "name": "stderr",
     "output_type": "stream",
     "text": [
      "[I 2024-11-15 14:42:23,723] Trial 92 finished with value: 0.0494150986517173 and parameters: {'similarity': 'tversky', 'topK': 23, 'shrink': 358, 'feature_weighting': 'BM25', 'tversky_alpha': 1.5655161182063384, 'tversky_beta': 1.998701785571224}. Best is trial 17 with value: 0.05161769755427387.\n"
     ]
    },
    {
     "name": "stdout",
     "output_type": "stream",
     "text": [
      "Similarity column 38121 (100.0%), 3187.80 column/sec. Elapsed time 11.96 sec\n",
      "EvaluatorHoldout: Processed 35595 (100.0%) in 25.70 sec. Users per second: 1385\n"
     ]
    },
    {
     "name": "stderr",
     "output_type": "stream",
     "text": [
      "[I 2024-11-15 14:43:01,976] Trial 93 finished with value: 0.00028209999175022335 and parameters: {'similarity': 'tversky', 'topK': 0, 'shrink': 408, 'feature_weighting': 'BM25', 'tversky_alpha': 1.6869164918569155, 'tversky_beta': 1.9898082616338229}. Best is trial 17 with value: 0.05161769755427387.\n"
     ]
    },
    {
     "name": "stdout",
     "output_type": "stream",
     "text": [
      "Similarity column 38121 (100.0%), 2492.23 column/sec. Elapsed time 15.30 sec\n",
      "EvaluatorHoldout: Processed 35595 (100.0%) in 38.32 sec. Users per second: 929\n"
     ]
    },
    {
     "name": "stderr",
     "output_type": "stream",
     "text": [
      "[I 2024-11-15 14:43:56,288] Trial 94 finished with value: 0.0468475508197362 and parameters: {'similarity': 'tversky', 'topK': 79, 'shrink': 310, 'feature_weighting': 'BM25', 'tversky_alpha': 1.5859104464024874, 'tversky_beta': 1.927537626298864}. Best is trial 17 with value: 0.05161769755427387.\n"
     ]
    },
    {
     "name": "stdout",
     "output_type": "stream",
     "text": [
      "Similarity column 38121 (100.0%), 2523.50 column/sec. Elapsed time 15.11 sec\n",
      "EvaluatorHoldout: Processed 35595 (100.0%) in 35.49 sec. Users per second: 1003\n"
     ]
    },
    {
     "name": "stderr",
     "output_type": "stream",
     "text": [
      "[I 2024-11-15 14:44:47,579] Trial 95 finished with value: 0.04895357048096049 and parameters: {'similarity': 'tversky', 'topK': 32, 'shrink': 546, 'feature_weighting': 'BM25', 'tversky_alpha': 1.812893124104506, 'tversky_beta': 1.938646826121001}. Best is trial 17 with value: 0.05161769755427387.\n"
     ]
    },
    {
     "name": "stdout",
     "output_type": "stream",
     "text": [
      "Similarity column 38121 (100.0%), 2482.41 column/sec. Elapsed time 15.36 sec\n",
      "EvaluatorHoldout: Processed 35595 (100.0%) in 42.14 sec. Users per second: 845\n"
     ]
    },
    {
     "name": "stderr",
     "output_type": "stream",
     "text": [
      "[I 2024-11-15 14:45:45,900] Trial 96 finished with value: 0.04532111363063582 and parameters: {'similarity': 'tversky', 'topK': 155, 'shrink': 345, 'feature_weighting': 'BM25', 'tversky_alpha': 1.3451806316257346, 'tversky_beta': 1.8368629826013398}. Best is trial 17 with value: 0.05161769755427387.\n"
     ]
    },
    {
     "name": "stdout",
     "output_type": "stream",
     "text": [
      "Similarity column 38121 (100.0%), 2610.05 column/sec. Elapsed time 14.61 sec\n",
      "EvaluatorHoldout: Processed 35595 (100.0%) in 38.10 sec. Users per second: 934\n"
     ]
    },
    {
     "name": "stderr",
     "output_type": "stream",
     "text": [
      "[I 2024-11-15 14:46:39,178] Trial 97 finished with value: 0.0414534021409269 and parameters: {'similarity': 'asymmetric', 'topK': 120, 'shrink': 621, 'feature_weighting': 'BM25', 'asymmetric_alpha': 0.608297202391369}. Best is trial 17 with value: 0.05161769755427387.\n"
     ]
    },
    {
     "name": "stdout",
     "output_type": "stream",
     "text": [
      "Similarity column 38121 (100.0%), 2510.34 column/sec. Elapsed time 15.19 sec\n",
      "EvaluatorHoldout: Processed 35595 (100.0%) in 37.73 sec. Users per second: 943\n"
     ]
    },
    {
     "name": "stderr",
     "output_type": "stream",
     "text": [
      "[I 2024-11-15 14:47:32,769] Trial 98 finished with value: 0.04737162010002132 and parameters: {'similarity': 'tversky', 'topK': 62, 'shrink': 362, 'feature_weighting': 'BM25', 'tversky_alpha': 1.2349592073597655, 'tversky_beta': 1.7505445852322037}. Best is trial 17 with value: 0.05161769755427387.\n"
     ]
    },
    {
     "name": "stdout",
     "output_type": "stream",
     "text": [
      "Similarity column 38121 (100.0%), 2522.55 column/sec. Elapsed time 15.11 sec\n",
      "EvaluatorHoldout: Processed 35595 (100.0%) in 35.38 sec. Users per second: 1006\n"
     ]
    },
    {
     "name": "stderr",
     "output_type": "stream",
     "text": [
      "[I 2024-11-15 14:48:23,928] Trial 99 finished with value: 0.049133616278368104 and parameters: {'similarity': 'tversky', 'topK': 28, 'shrink': 574, 'feature_weighting': 'BM25', 'tversky_alpha': 1.0506092035328631, 'tversky_beta': 1.5660235235456121}. Best is trial 17 with value: 0.05161769755427387.\n"
     ]
    },
    {
     "name": "stdout",
     "output_type": "stream",
     "text": [
      "Similarity column 38121 (100.0%), 2635.77 column/sec. Elapsed time 14.46 sec\n",
      "EvaluatorHoldout: Processed 35595 (100.0%) in 36.90 sec. Users per second: 965\n"
     ]
    },
    {
     "name": "stderr",
     "output_type": "stream",
     "text": [
      "[I 2024-11-15 14:49:15,809] Trial 100 finished with value: 0.041664031197531724 and parameters: {'similarity': 'cosine', 'topK': 86, 'shrink': 389, 'feature_weighting': 'BM25'}. Best is trial 17 with value: 0.05161769755427387.\n"
     ]
    }
   ],
   "source": [
    "if config['tune_parameters']:\n",
    "    \n",
    "    study = optuna.create_study(direction='maximize', study_name=f'hyperparameters_tuning_{config[\"model\"]}',\n",
    "                                storage=f'sqlite:///{config[\"database_path\"]}', load_if_exists=True)\n",
    "\n",
    "    study.optimize(objective_function_ItemKNNCF, n_trials=100)"
   ]
  },
  {
   "cell_type": "code",
   "execution_count": 22,
   "metadata": {
    "execution": {
     "iopub.execute_input": "2024-11-15T15:01:45.411469Z",
     "iopub.status.busy": "2024-11-15T15:01:45.410558Z",
     "iopub.status.idle": "2024-11-15T15:02:08.839959Z",
     "shell.execute_reply": "2024-11-15T15:02:08.838549Z",
     "shell.execute_reply.started": "2024-11-15T15:01:45.411418Z"
    },
    "trusted": true
   },
   "outputs": [
    {
     "name": "stdout",
     "output_type": "stream",
     "text": [
      "Similarity column 38121 (100.0%), 1664.39 column/sec. Elapsed time 22.90 sec\n"
     ]
    }
   ],
   "source": [
    "recommender_instance = ItemKNNCFRecommender(URM_train + URM_validation)\n",
    "recommender_instance.fit(**study.best_trial.params)"
   ]
  },
  {
   "cell_type": "markdown",
   "metadata": {},
   "source": [
    "# Testing"
   ]
  },
  {
   "cell_type": "markdown",
   "metadata": {},
   "source": [
    "Create the recommendations for the submission. "
   ]
  },
  {
   "cell_type": "code",
   "execution_count": 23,
   "metadata": {
    "execution": {
     "iopub.execute_input": "2024-11-15T15:03:39.968778Z",
     "iopub.status.busy": "2024-11-15T15:03:39.968276Z",
     "iopub.status.idle": "2024-11-15T15:03:39.977147Z",
     "shell.execute_reply": "2024-11-15T15:03:39.975790Z",
     "shell.execute_reply.started": "2024-11-15T15:03:39.968735Z"
    },
    "trusted": true
   },
   "outputs": [],
   "source": [
    "def create_submission(data_target_users_test, recommender_instance, cutoff=10, output_file=f\"/kaggle/working/submission_{config['model']}.csv\"):\n",
    "    \n",
    "    target_result = []\n",
    "\n",
    "    for target in data_target_users_test[\"user_id\"]:\n",
    "        target_result.append(recommender_instance.recommend(target, cutoff=cutoff, remove_seen_flag=True))\n",
    "\n",
    "    user_ids = data_target_users_test[\"user_id\"]\n",
    "    formatted_data = {\n",
    "        \"user_id\": user_ids,\n",
    "        \"item_list\": [\" \".join(map(str, items)) for items in target_result]\n",
    "    }\n",
    "\n",
    "    submission_df = pd.DataFrame(formatted_data)\n",
    "    submission_df.to_csv(output_file, index=False, header=[\"user_id\", \"item_list\"])\n",
    "\n",
    "    print(f\"Submission file saved as {output_file}\")"
   ]
  },
  {
   "cell_type": "code",
   "execution_count": 24,
   "metadata": {
    "execution": {
     "iopub.execute_input": "2024-11-15T15:03:41.914940Z",
     "iopub.status.busy": "2024-11-15T15:03:41.914516Z",
     "iopub.status.idle": "2024-11-15T15:04:02.353580Z",
     "shell.execute_reply": "2024-11-15T15:04:02.352375Z",
     "shell.execute_reply.started": "2024-11-15T15:03:41.914900Z"
    },
    "trusted": true
   },
   "outputs": [
    {
     "name": "stdout",
     "output_type": "stream",
     "text": [
      "Submission file saved as /kaggle/working/submission_ItemKNNCF.csv\n"
     ]
    }
   ],
   "source": [
    "data_target_users_test = pd.read_csv('/kaggle/input/recommender-system-2024-challenge-polimi/data_target_users_test.csv')\n",
    "\n",
    "create_submission(data_target_users_test, recommender_instance)"
   ]
  },
  {
   "cell_type": "markdown",
   "metadata": {
    "execution": {
     "iopub.execute_input": "2024-11-14T00:04:16.877791Z",
     "iopub.status.busy": "2024-11-14T00:04:16.877275Z",
     "iopub.status.idle": "2024-11-14T00:04:16.883170Z",
     "shell.execute_reply": "2024-11-14T00:04:16.881889Z",
     "shell.execute_reply.started": "2024-11-14T00:04:16.877743Z"
    }
   },
   "source": [
    "# Save Version on GitHub "
   ]
  },
  {
   "cell_type": "markdown",
   "metadata": {},
   "source": [
    "Write or import a json file where best hyperparameters are saved. "
   ]
  },
  {
   "cell_type": "code",
   "execution_count": 25,
   "metadata": {
    "execution": {
     "iopub.execute_input": "2024-11-15T15:04:13.208223Z",
     "iopub.status.busy": "2024-11-15T15:04:13.207103Z",
     "iopub.status.idle": "2024-11-15T15:04:14.121694Z",
     "shell.execute_reply": "2024-11-15T15:04:14.120383Z",
     "shell.execute_reply.started": "2024-11-15T15:04:13.208176Z"
    },
    "trusted": true
   },
   "outputs": [
    {
     "name": "stdout",
     "output_type": "stream",
     "text": [
      "File 'TrainedModels/ItemKNNCFRecommender/best_params_ItemKNNCF.json' created successfully.\n"
     ]
    }
   ],
   "source": [
    "import json\n",
    "\n",
    "if config['tune_parameters']:\n",
    "    with open(f'/kaggle/working/best_params_{config[\"model\"]}.json', 'w') as params_file:\n",
    "        json.dump(study.best_params, params_file)\n",
    "        \n",
    "    if config['save_github']:\n",
    "        upload_file(\n",
    "            f'/kaggle/working/best_params_{config[\"model\"]}.json', \n",
    "            f'TrainedModels/{config[\"model\"]}Recommender/best_params_{config[\"model\"]}.json', \n",
    "            f'{config[\"model\"]} tuning results (from kaggle notebook)'\n",
    "        )\n",
    "elif config['copy_prev_best_params']:\n",
    "    shutil.copyfile(\n",
    "        f'/kaggle/working/RECsys_Challenge2024/TrainedModels/{config[\"model\"]}Recommender/'\\\n",
    "        f'best_params_{config[\"model\"]}.json', \n",
    "        f'/kaggle/working/best_params_{config[\"model\"]}.json'\n",
    "    )"
   ]
  },
  {
   "cell_type": "code",
   "execution_count": 26,
   "metadata": {
    "execution": {
     "iopub.execute_input": "2024-11-15T15:06:00.474769Z",
     "iopub.status.busy": "2024-11-15T15:06:00.474261Z",
     "iopub.status.idle": "2024-11-15T15:06:02.399337Z",
     "shell.execute_reply": "2024-11-15T15:06:02.397955Z",
     "shell.execute_reply.started": "2024-11-15T15:06:00.474726Z"
    },
    "trusted": true
   },
   "outputs": [
    {
     "name": "stdout",
     "output_type": "stream",
     "text": [
      "File 'TrainedModels/ItemKNNCFRecommender/Submission/submission_ItemKNNCF.csv' created successfully.\n"
     ]
    }
   ],
   "source": [
    "if config['save_github']:\n",
    "    upload_file(\n",
    "                f'/kaggle/working/submission_{config[\"model\"]}.csv', \n",
    "                f'TrainedModels/{config[\"model\"]}Recommender/Submission/'\\\n",
    "                    f'submission_{config[\"model\"]}.csv', \n",
    "                f'New {config[\"model\"]} submission (from kaggle notebook)'\n",
    "            )"
   ]
  },
  {
   "cell_type": "markdown",
   "metadata": {
    "execution": {
     "iopub.execute_input": "2024-11-14T00:41:34.294243Z",
     "iopub.status.busy": "2024-11-14T00:41:34.293739Z",
     "iopub.status.idle": "2024-11-14T00:41:34.301478Z",
     "shell.execute_reply": "2024-11-14T00:41:34.299869Z",
     "shell.execute_reply.started": "2024-11-14T00:41:34.294186Z"
    }
   },
   "source": [
    "Save the history of the tuned model."
   ]
  },
  {
   "cell_type": "code",
   "execution_count": 30,
   "metadata": {
    "execution": {
     "iopub.execute_input": "2024-11-15T15:07:44.781348Z",
     "iopub.status.busy": "2024-11-15T15:07:44.780905Z",
     "iopub.status.idle": "2024-11-15T15:07:45.728086Z",
     "shell.execute_reply": "2024-11-15T15:07:45.726881Z",
     "shell.execute_reply.started": "2024-11-15T15:07:44.781309Z"
    },
    "trusted": true
   },
   "outputs": [
    {
     "name": "stdout",
     "output_type": "stream",
     "text": [
      "File 'TrainedModels/ItemKNNCFRecommender/history_ItemKNNCF.db' created successfully.\n"
     ]
    }
   ],
   "source": [
    "if config['save_github'] and config['tune_parameters']:\n",
    "    upload_file(\n",
    "        config['database_path'], \n",
    "        f'TrainedModels/{config[\"model\"]}Recommender/history_{config[\"model\"]}.db',\n",
    "        f'Tuning {config[\"model\"]} db updated results (from kaggle notebook)'\n",
    "    )"
   ]
  }
 ],
 "metadata": {
  "kaggle": {
   "accelerator": "none",
   "dataSources": [
    {
     "databundleVersionId": 9982103,
     "sourceId": 87439,
     "sourceType": "competition"
    },
    {
     "datasetId": 6086661,
     "sourceId": 9907007,
     "sourceType": "datasetVersion"
    }
   ],
   "dockerImageVersionId": 30786,
   "isGpuEnabled": false,
   "isInternetEnabled": true,
   "language": "python",
   "sourceType": "notebook"
  },
  "kernelspec": {
   "display_name": "Python 3",
   "language": "python",
   "name": "python3"
  },
  "language_info": {
   "codemirror_mode": {
    "name": "ipython",
    "version": 3
   },
   "file_extension": ".py",
   "mimetype": "text/x-python",
   "name": "python",
   "nbconvert_exporter": "python",
   "pygments_lexer": "ipython3",
   "version": "3.10.14"
  }
 },
 "nbformat": 4,
 "nbformat_minor": 4
}
