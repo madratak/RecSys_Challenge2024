{
 "cells": [
  {
   "cell_type": "markdown",
   "id": "1396e5f9",
   "metadata": {
    "papermill": {
     "duration": 0.006943,
     "end_time": "2024-11-18T16:55:22.820258",
     "exception": false,
     "start_time": "2024-11-18T16:55:22.813315",
     "status": "completed"
    },
    "tags": []
   },
   "source": [
    "# Set connection with GitHub"
   ]
  },
  {
   "cell_type": "code",
   "execution_count": 1,
   "id": "d0eb86b0",
   "metadata": {
    "execution": {
     "iopub.execute_input": "2024-11-18T16:55:22.833947Z",
     "iopub.status.busy": "2024-11-18T16:55:22.833569Z",
     "iopub.status.idle": "2024-11-18T16:55:22.839465Z",
     "shell.execute_reply": "2024-11-18T16:55:22.838262Z"
    },
    "papermill": {
     "duration": 0.015134,
     "end_time": "2024-11-18T16:55:22.841668",
     "exception": false,
     "start_time": "2024-11-18T16:55:22.826534",
     "status": "completed"
    },
    "tags": []
   },
   "outputs": [],
   "source": [
    "# ! cd /kaggle/working && rm -rf RECsys_Challenge2024"
   ]
  },
  {
   "cell_type": "code",
   "execution_count": 2,
   "id": "5ce0d25c",
   "metadata": {
    "_cell_guid": "b1076dfc-b9ad-4769-8c92-a6c4dae69d19",
    "_uuid": "8f2839f25d086af736a60e9eeb907d3b93b6e0e5",
    "execution": {
     "iopub.execute_input": "2024-11-18T16:55:22.855699Z",
     "iopub.status.busy": "2024-11-18T16:55:22.855328Z",
     "iopub.status.idle": "2024-11-18T16:55:32.144339Z",
     "shell.execute_reply": "2024-11-18T16:55:32.143214Z"
    },
    "papermill": {
     "duration": 9.298965,
     "end_time": "2024-11-18T16:55:32.147046",
     "exception": false,
     "start_time": "2024-11-18T16:55:22.848081",
     "status": "completed"
    },
    "tags": []
   },
   "outputs": [
    {
     "name": "stdout",
     "output_type": "stream",
     "text": [
      "Cloning into 'RECsys_Challenge2024'...\r\n",
      "remote: Enumerating objects: 1943, done.\u001b[K\r\n",
      "remote: Counting objects: 100% (325/325), done.\u001b[K\r\n",
      "remote: Compressing objects: 100% (137/137), done.\u001b[K\r\n",
      "remote: Total 1943 (delta 193), reused 311 (delta 180), pack-reused 1618 (from 1)\u001b[K\r\n",
      "Receiving objects: 100% (1943/1943), 128.18 MiB | 31.10 MiB/s, done.\r\n",
      "Resolving deltas: 100% (1138/1138), done.\r\n",
      "Updating files: 100% (227/227), done.\r\n"
     ]
    }
   ],
   "source": [
    "from kaggle_secrets import UserSecretsClient\n",
    "\n",
    "token = UserSecretsClient().get_secret(\"Token\")\n",
    "\n",
    "! git clone https://{token}@github.com/madratak/RECsys_Challenge2024.git"
   ]
  },
  {
   "cell_type": "code",
   "execution_count": 3,
   "id": "6ae9d122",
   "metadata": {
    "execution": {
     "iopub.execute_input": "2024-11-18T16:55:32.167788Z",
     "iopub.status.busy": "2024-11-18T16:55:32.167326Z",
     "iopub.status.idle": "2024-11-18T16:55:44.501103Z",
     "shell.execute_reply": "2024-11-18T16:55:44.500028Z"
    },
    "papermill": {
     "duration": 12.347833,
     "end_time": "2024-11-18T16:55:44.503954",
     "exception": false,
     "start_time": "2024-11-18T16:55:32.156121",
     "status": "completed"
    },
    "tags": []
   },
   "outputs": [
    {
     "name": "stdout",
     "output_type": "stream",
     "text": [
      "Collecting PyGithub\r\n",
      "  Downloading PyGithub-2.5.0-py3-none-any.whl.metadata (3.9 kB)\r\n",
      "Requirement already satisfied: requests in /opt/conda/lib/python3.10/site-packages (2.32.3)\r\n",
      "Collecting pynacl>=1.4.0 (from PyGithub)\r\n",
      "  Downloading PyNaCl-1.5.0-cp36-abi3-manylinux_2_17_x86_64.manylinux2014_x86_64.manylinux_2_24_x86_64.whl.metadata (8.6 kB)\r\n",
      "Requirement already satisfied: pyjwt>=2.4.0 in /opt/conda/lib/python3.10/site-packages (from pyjwt[crypto]>=2.4.0->PyGithub) (2.8.0)\r\n",
      "Requirement already satisfied: typing-extensions>=4.0.0 in /opt/conda/lib/python3.10/site-packages (from PyGithub) (4.12.2)\r\n",
      "Requirement already satisfied: urllib3>=1.26.0 in /opt/conda/lib/python3.10/site-packages (from PyGithub) (1.26.18)\r\n",
      "Requirement already satisfied: Deprecated in /opt/conda/lib/python3.10/site-packages (from PyGithub) (1.2.14)\r\n",
      "Requirement already satisfied: charset-normalizer<4,>=2 in /opt/conda/lib/python3.10/site-packages (from requests) (3.3.2)\r\n",
      "Requirement already satisfied: idna<4,>=2.5 in /opt/conda/lib/python3.10/site-packages (from requests) (3.7)\r\n",
      "Requirement already satisfied: certifi>=2017.4.17 in /opt/conda/lib/python3.10/site-packages (from requests) (2024.8.30)\r\n",
      "Requirement already satisfied: cryptography>=3.4.0 in /opt/conda/lib/python3.10/site-packages (from pyjwt[crypto]>=2.4.0->PyGithub) (42.0.8)\r\n",
      "Requirement already satisfied: cffi>=1.4.1 in /opt/conda/lib/python3.10/site-packages (from pynacl>=1.4.0->PyGithub) (1.16.0)\r\n",
      "Requirement already satisfied: wrapt<2,>=1.10 in /opt/conda/lib/python3.10/site-packages (from Deprecated->PyGithub) (1.16.0)\r\n",
      "Requirement already satisfied: pycparser in /opt/conda/lib/python3.10/site-packages (from cffi>=1.4.1->pynacl>=1.4.0->PyGithub) (2.22)\r\n",
      "Downloading PyGithub-2.5.0-py3-none-any.whl (375 kB)\r\n",
      "\u001b[2K   \u001b[90m━━━━━━━━━━━━━━━━━━━━━━━━━━━━━━━━━━━━━━━━\u001b[0m \u001b[32m375.9/375.9 kB\u001b[0m \u001b[31m7.2 MB/s\u001b[0m eta \u001b[36m0:00:00\u001b[0m\r\n",
      "\u001b[?25hDownloading PyNaCl-1.5.0-cp36-abi3-manylinux_2_17_x86_64.manylinux2014_x86_64.manylinux_2_24_x86_64.whl (856 kB)\r\n",
      "\u001b[2K   \u001b[90m━━━━━━━━━━━━━━━━━━━━━━━━━━━━━━━━━━━━━━━━\u001b[0m \u001b[32m856.7/856.7 kB\u001b[0m \u001b[31m27.7 MB/s\u001b[0m eta \u001b[36m0:00:00\u001b[0m\r\n",
      "\u001b[?25hInstalling collected packages: pynacl, PyGithub\r\n",
      "Successfully installed PyGithub-2.5.0 pynacl-1.5.0\r\n"
     ]
    }
   ],
   "source": [
    "! pip install PyGithub requests"
   ]
  },
  {
   "cell_type": "code",
   "execution_count": 4,
   "id": "1c3b64d7",
   "metadata": {
    "_kg_hide-input": false,
    "execution": {
     "iopub.execute_input": "2024-11-18T16:55:44.524532Z",
     "iopub.status.busy": "2024-11-18T16:55:44.524139Z",
     "iopub.status.idle": "2024-11-18T16:58:14.036846Z",
     "shell.execute_reply": "2024-11-18T16:58:14.035343Z"
    },
    "papermill": {
     "duration": 149.526062,
     "end_time": "2024-11-18T16:58:14.039503",
     "exception": false,
     "start_time": "2024-11-18T16:55:44.513441",
     "status": "completed"
    },
    "tags": []
   },
   "outputs": [
    {
     "name": "stdout",
     "output_type": "stream",
     "text": [
      "run_compile_all_cython: Found 11 Cython files in 5 folders...\r\n",
      "run_compile_all_cython: All files will be compiled using your current python environment: '/opt/conda/bin/python'\r\n",
      "Compiling [1/11]: MatrixFactorization_Cython_Epoch.pyx... \r\n",
      "In file included from \u001b[01m\u001b[K/opt/conda/lib/python3.10/site-packages/numpy/core/include/numpy/ndarraytypes.h:1929\u001b[m\u001b[K,\r\n",
      "                 from \u001b[01m\u001b[K/opt/conda/lib/python3.10/site-packages/numpy/core/include/numpy/ndarrayobject.h:12\u001b[m\u001b[K,\r\n",
      "                 from \u001b[01m\u001b[K/opt/conda/lib/python3.10/site-packages/numpy/core/include/numpy/arrayobject.h:5\u001b[m\u001b[K,\r\n",
      "                 from \u001b[01m\u001b[KMatrixFactorization_Cython_Epoch.c:1252\u001b[m\u001b[K:\r\n",
      "\u001b[01m\u001b[K/opt/conda/lib/python3.10/site-packages/numpy/core/include/numpy/npy_1_7_deprecated_api.h:17:2:\u001b[m\u001b[K \u001b[01;35m\u001b[Kwarning: \u001b[m\u001b[K#warning \"Using deprecated NumPy API, disable it with \" \"#define NPY_NO_DEPRECATED_API NPY_1_7_API_VERSION\" [\u001b[01;35m\u001b[K-Wcpp\u001b[m\u001b[K]\r\n",
      "   17 | #\u001b[01;35m\u001b[Kwarning\u001b[m\u001b[K \"Using deprecated NumPy API, disable it with \" \\\r\n",
      "      |  \u001b[01;35m\u001b[K^~~~~~~\u001b[m\u001b[K\r\n",
      "\u001b[01m\u001b[KMatrixFactorization_Cython_Epoch.c:\u001b[m\u001b[K In function '\u001b[01m\u001b[K__pyx_pf_32MatrixFactorization_Cython_Epoch_32MatrixFactorization_Cython_Epoch_10epochIteration_Cython_ASY_SVD_SGD\u001b[m\u001b[K':\r\n",
      "\u001b[01m\u001b[KMatrixFactorization_Cython_Epoch.c:26255:9:\u001b[m\u001b[K \u001b[01;35m\u001b[Kwarning: \u001b[m\u001b[K'\u001b[01m\u001b[K__pyx_v_end_pos_seen_items\u001b[m\u001b[K' may be used uninitialized in this function [\u001b[01;35m\u001b[K-Wmaybe-uninitialized\u001b[m\u001b[K]\r\n",
      "26255 |         \u001b[01;35m\u001b[Kfor\u001b[m\u001b[K (__pyx_t_21 = __pyx_v_start_pos_seen_items; __pyx_t_21 < __pyx_t_20; __pyx_t_21+=1) {\r\n",
      "      |         \u001b[01;35m\u001b[K^~~\u001b[m\u001b[K\r\n",
      "\u001b[01m\u001b[KMatrixFactorization_Cython_Epoch.c:26255:9:\u001b[m\u001b[K \u001b[01;35m\u001b[Kwarning: \u001b[m\u001b[K'\u001b[01m\u001b[K__pyx_v_start_pos_seen_items\u001b[m\u001b[K' may be used uninitialized in this function [\u001b[01;35m\u001b[K-Wmaybe-uninitialized\u001b[m\u001b[K]\r\n",
      "/opt/conda/lib/python3.10/site-packages/Cython/Compiler/Main.py:381: FutureWarning: Cython directive 'language_level' not set, using '3str' for now (Py3). This has changed from earlier releases! File: /kaggle/working/RECsys_Challenge2024/Recommenders/MatrixFactorization/Cython/MatrixFactorization_Cython_Epoch.pyx\r\n",
      "  tree = Parsing.p_module(s, pxd, full_module_name)\r\n",
      "Compiling [1/11]: MatrixFactorization_Cython_Epoch.pyx... PASS\r\n",
      "\r\n",
      "Compiling [2/11]: MatrixFactorizationImpressions_Cython_Epoch.pyx... \r\n",
      "In file included from \u001b[01m\u001b[K/opt/conda/lib/python3.10/site-packages/numpy/core/include/numpy/ndarraytypes.h:1929\u001b[m\u001b[K,\r\n",
      "                 from \u001b[01m\u001b[K/opt/conda/lib/python3.10/site-packages/numpy/core/include/numpy/ndarrayobject.h:12\u001b[m\u001b[K,\r\n",
      "                 from \u001b[01m\u001b[K/opt/conda/lib/python3.10/site-packages/numpy/core/include/numpy/arrayobject.h:5\u001b[m\u001b[K,\r\n",
      "                 from \u001b[01m\u001b[KMatrixFactorizationImpressions_Cython_Epoch.c:1252\u001b[m\u001b[K:\r\n",
      "\u001b[01m\u001b[K/opt/conda/lib/python3.10/site-packages/numpy/core/include/numpy/npy_1_7_deprecated_api.h:17:2:\u001b[m\u001b[K \u001b[01;35m\u001b[Kwarning: \u001b[m\u001b[K#warning \"Using deprecated NumPy API, disable it with \" \"#define NPY_NO_DEPRECATED_API NPY_1_7_API_VERSION\" [\u001b[01;35m\u001b[K-Wcpp\u001b[m\u001b[K]\r\n",
      "   17 | #\u001b[01;35m\u001b[Kwarning\u001b[m\u001b[K \"Using deprecated NumPy API, disable it with \" \\\r\n",
      "      |  \u001b[01;35m\u001b[K^~~~~~~\u001b[m\u001b[K\r\n",
      "\u001b[01m\u001b[KMatrixFactorizationImpressions_Cython_Epoch.c:\u001b[m\u001b[K In function '\u001b[01m\u001b[K__pyx_f_43MatrixFactorizationImpressions_Cython_Epoch_32MatrixFactorization_Cython_Epoch_sampleBPR_Cython\u001b[m\u001b[K':\r\n",
      "\u001b[01m\u001b[KMatrixFactorizationImpressions_Cython_Epoch.c:30351:17:\u001b[m\u001b[K \u001b[01;35m\u001b[Kwarning: \u001b[m\u001b[K'\u001b[01m\u001b[K__pyx_v_start_pos_impression_items\u001b[m\u001b[K' may be used uninitialized in this function [\u001b[01;35m\u001b[K-Wmaybe-uninitialized\u001b[m\u001b[K]\r\n",
      "30351 |       \u001b[01;35m\u001b[K__pyx_t_4 = (__pyx_v_start_pos_impression_items + __pyx_v_index)\u001b[m\u001b[K;\r\n",
      "      |       \u001b[01;35m\u001b[K~~~~~~~~~~^~~~~~~~~~~~~~~~~~~~~~~~~~~~~~~~~~~~~~~~~~~~~~~~~~~~~~\u001b[m\u001b[K\r\n",
      "\u001b[01m\u001b[KMatrixFactorizationImpressions_Cython_Epoch.c:\u001b[m\u001b[K In function '\u001b[01m\u001b[K__pyx_pf_43MatrixFactorizationImpressions_Cython_Epoch_32MatrixFactorization_Cython_Epoch_10epochIteration_Cython_ASY_SVD_SGD\u001b[m\u001b[K':\r\n",
      "\u001b[01m\u001b[KMatrixFactorizationImpressions_Cython_Epoch.c:26111:7:\u001b[m\u001b[K \u001b[01;35m\u001b[Kwarning: \u001b[m\u001b[K'\u001b[01m\u001b[K__pyx_v_end_pos_seen_items\u001b[m\u001b[K' may be used uninitialized in this function [\u001b[01;35m\u001b[K-Wmaybe-uninitialized\u001b[m\u001b[K]\r\n",
      "26111 |       \u001b[01;35m\u001b[Kfor\u001b[m\u001b[K (__pyx_t_21 = __pyx_v_start_pos_seen_items; __pyx_t_21 < __pyx_t_20; __pyx_t_21+=1) {\r\n",
      "      |       \u001b[01;35m\u001b[K^~~\u001b[m\u001b[K\r\n",
      "\u001b[01m\u001b[KMatrixFactorizationImpressions_Cython_Epoch.c:26111:7:\u001b[m\u001b[K \u001b[01;35m\u001b[Kwarning: \u001b[m\u001b[K'\u001b[01m\u001b[K__pyx_v_start_pos_seen_items\u001b[m\u001b[K' may be used uninitialized in this function [\u001b[01;35m\u001b[K-Wmaybe-uninitialized\u001b[m\u001b[K]\r\n",
      "/opt/conda/lib/python3.10/site-packages/Cython/Compiler/Main.py:381: FutureWarning: Cython directive 'language_level' not set, using '3str' for now (Py3). This has changed from earlier releases! File: /kaggle/working/RECsys_Challenge2024/Recommenders/MatrixFactorization/Cython/MatrixFactorizationImpressions_Cython_Epoch.pyx\r\n",
      "  tree = Parsing.p_module(s, pxd, full_module_name)\r\n",
      "Compiling [2/11]: MatrixFactorizationImpressions_Cython_Epoch.pyx... PASS\r\n",
      "\r\n",
      "Compiling [3/11]: Compute_Similarity_Cython.pyx... \r\n",
      "warning: Compute_Similarity_Cython.pyx:21:0: The 'IF' statement is deprecated and will be removed in a future Cython version. Consider using runtime conditions or C macros instead. See https://github.com/cython/cython/issues/4310\r\n",
      "In file included from \u001b[01m\u001b[K/opt/conda/lib/python3.10/site-packages/numpy/core/include/numpy/ndarraytypes.h:1929\u001b[m\u001b[K,\r\n",
      "                 from \u001b[01m\u001b[K/opt/conda/lib/python3.10/site-packages/numpy/core/include/numpy/ndarrayobject.h:12\u001b[m\u001b[K,\r\n",
      "                 from \u001b[01m\u001b[K/opt/conda/lib/python3.10/site-packages/numpy/core/include/numpy/arrayobject.h:5\u001b[m\u001b[K,\r\n",
      "                 from \u001b[01m\u001b[KCompute_Similarity_Cython.c:1252\u001b[m\u001b[K:\r\n",
      "\u001b[01m\u001b[K/opt/conda/lib/python3.10/site-packages/numpy/core/include/numpy/npy_1_7_deprecated_api.h:17:2:\u001b[m\u001b[K \u001b[01;35m\u001b[Kwarning: \u001b[m\u001b[K#warning \"Using deprecated NumPy API, disable it with \" \"#define NPY_NO_DEPRECATED_API NPY_1_7_API_VERSION\" [\u001b[01;35m\u001b[K-Wcpp\u001b[m\u001b[K]\r\n",
      "   17 | #\u001b[01;35m\u001b[Kwarning\u001b[m\u001b[K \"Using deprecated NumPy API, disable it with \" \\\r\n",
      "      |  \u001b[01;35m\u001b[K^~~~~~~\u001b[m\u001b[K\r\n",
      "/opt/conda/lib/python3.10/site-packages/Cython/Compiler/Main.py:381: FutureWarning: Cython directive 'language_level' not set, using '3str' for now (Py3). This has changed from earlier releases! File: /kaggle/working/RECsys_Challenge2024/Recommenders/Similarity/Cython/Compute_Similarity_Cython.pyx\r\n",
      "  tree = Parsing.p_module(s, pxd, full_module_name)\r\n",
      "warning: Compute_Similarity_Cython.pyx:21:0: The 'IF' statement is deprecated and will be removed in a future Cython version. Consider using runtime conditions or C macros instead. See https://github.com/cython/cython/issues/4310\r\n",
      "Compiling [3/11]: Compute_Similarity_Cython.pyx... PASS\r\n",
      "\r\n",
      "Compiling [4/11]: SLIM_BPR_Cython_Epoch.pyx... \r\n",
      "warning: SLIM_BPR_Cython_Epoch.pyx:24:0: The 'IF' statement is deprecated and will be removed in a future Cython version. Consider using runtime conditions or C macros instead. See https://github.com/cython/cython/issues/4310\r\n",
      "warning: SLIM_BPR_Cython_Epoch.pyx:632:34: Non-trivial type declarators in shared declaration (e.g. mix of pointers and values). Each pointer declaration should be on its own line.\r\n",
      "warning: SLIM_BPR_Cython_Epoch.pyx:632:66: Non-trivial type declarators in shared declaration (e.g. mix of pointers and values). Each pointer declaration should be on its own line.\r\n",
      "warning: SLIM_BPR_Cython_Epoch.pyx:817:35: Non-trivial type declarators in shared declaration (e.g. mix of pointers and values). Each pointer declaration should be on its own line.\r\n",
      "warning: SLIM_BPR_Cython_Epoch.pyx:817:52: Non-trivial type declarators in shared declaration (e.g. mix of pointers and values). Each pointer declaration should be on its own line.\r\n",
      "warning: SLIM_BPR_Cython_Epoch.pyx:916:35: Non-trivial type declarators in shared declaration (e.g. mix of pointers and values). Each pointer declaration should be on its own line.\r\n",
      "warning: SLIM_BPR_Cython_Epoch.pyx:916:53: Non-trivial type declarators in shared declaration (e.g. mix of pointers and values). Each pointer declaration should be on its own line.\r\n",
      "warning: SLIM_BPR_Cython_Epoch.pyx:916:69: Non-trivial type declarators in shared declaration (e.g. mix of pointers and values). Each pointer declaration should be on its own line.\r\n",
      "warning: SLIM_BPR_Cython_Epoch.pyx:1051:35: Non-trivial type declarators in shared declaration (e.g. mix of pointers and values). Each pointer declaration should be on its own line.\r\n",
      "warning: SLIM_BPR_Cython_Epoch.pyx:1051:42: Non-trivial type declarators in shared declaration (e.g. mix of pointers and values). Each pointer declaration should be on its own line.\r\n",
      "warning: SLIM_BPR_Cython_Epoch.pyx:1052:35: Non-trivial type declarators in shared declaration (e.g. mix of pointers and values). Each pointer declaration should be on its own line.\r\n",
      "warning: SLIM_BPR_Cython_Epoch.pyx:1052:53: Non-trivial type declarators in shared declaration (e.g. mix of pointers and values). Each pointer declaration should be on its own line.\r\n",
      "\r\n",
      "Error compiling Cython file:\r\n",
      "------------------------------------------------------------\r\n",
      "...\r\n",
      "            vector_pointer_to_list_elements[index].head = current_element\r\n",
      "            current_element = current_element.higher\r\n",
      "\r\n",
      "\r\n",
      "        # Sort array elements on their data field\r\n",
      "        qsort(vector_pointer_to_list_elements, list_length, sizeof(head_pointer_tree_s), compare_struct_on_data)\r\n",
      "                                                                                         ^\r\n",
      "------------------------------------------------------------\r\n",
      "\r\n",
      "SLIM_BPR_Cython_Epoch.pyx:990:89: Cannot assign type 'int (const void *, const void *) except? -1' to 'int (*)(const_void *, const_void *) noexcept'. Exception values are incompatible. Suggest adding 'noexcept' to the type of 'compare_struct_on_data'.\r\n",
      "\r\n",
      "Error compiling Cython file:\r\n",
      "------------------------------------------------------------\r\n",
      "...\r\n",
      "        # Sort array elements on their data field\r\n",
      "        qsort(vector_pointer_to_list_elements, list_length, sizeof(head_pointer_tree_s), compare_struct_on_data)\r\n",
      "\r\n",
      "        # Sort only the TopK according to their column field\r\n",
      "        # Sort is from lower to higher, therefore the elements to be considered are from len-topK to len\r\n",
      "        qsort(&vector_pointer_to_list_elements[list_length-TopK], TopK, sizeof(head_pointer_tree_s), compare_struct_on_column)\r\n",
      "                                                                                                     ^\r\n",
      "------------------------------------------------------------\r\n",
      "\r\n",
      "SLIM_BPR_Cython_Epoch.pyx:994:101: Cannot assign type 'int (const void *, const void *) except? -1' to 'int (*)(const_void *, const_void *) noexcept'. Exception values are incompatible. Suggest adding 'noexcept' to the type of 'compare_struct_on_column'.\r\n",
      "Traceback (most recent call last):\r\n",
      "  File \"/kaggle/working/RECsys_Challenge2024/CythonCompiler/compile_script.py\", line 48, in <module>\r\n",
      "    setup(\r\n",
      "  File \"/opt/conda/lib/python3.10/site-packages/setuptools/__init__.py\", line 103, in setup\r\n",
      "    return distutils.core.setup(**attrs)\r\n",
      "  File \"/opt/conda/lib/python3.10/site-packages/setuptools/_distutils/core.py\", line 184, in setup\r\n",
      "    return run_commands(dist)\r\n",
      "  File \"/opt/conda/lib/python3.10/site-packages/setuptools/_distutils/core.py\", line 200, in run_commands\r\n",
      "    dist.run_commands()\r\n",
      "  File \"/opt/conda/lib/python3.10/site-packages/setuptools/_distutils/dist.py\", line 969, in run_commands\r\n",
      "    self.run_command(cmd)\r\n",
      "  File \"/opt/conda/lib/python3.10/site-packages/setuptools/dist.py\", line 968, in run_command\r\n",
      "    super().run_command(command)\r\n",
      "  File \"/opt/conda/lib/python3.10/site-packages/setuptools/_distutils/dist.py\", line 988, in run_command\r\n",
      "    cmd_obj.run()\r\n",
      "  File \"/opt/conda/lib/python3.10/site-packages/setuptools/_distutils/command/build_ext.py\", line 359, in run\r\n",
      "    self.build_extensions()\r\n",
      "  File \"/opt/conda/lib/python3.10/site-packages/setuptools/_distutils/command/build_ext.py\", line 479, in build_extensions\r\n",
      "    self._build_extensions_serial()\r\n",
      "  File \"/opt/conda/lib/python3.10/site-packages/setuptools/_distutils/command/build_ext.py\", line 505, in _build_extensions_serial\r\n",
      "    self.build_extension(ext)\r\n",
      "  File \"/opt/conda/lib/python3.10/site-packages/Cython/Distutils/build_ext.py\", line 130, in build_extension\r\n",
      "    new_ext = cythonize(\r\n",
      "  File \"/opt/conda/lib/python3.10/site-packages/Cython/Build/Dependencies.py\", line 1154, in cythonize\r\n",
      "    cythonize_one(*args)\r\n",
      "  File \"/opt/conda/lib/python3.10/site-packages/Cython/Build/Dependencies.py\", line 1321, in cythonize_one\r\n",
      "    raise CompileError(None, pyx_file)\r\n",
      "Cython.Compiler.Errors.CompileError: SLIM_BPR_Cython_Epoch.pyx\r\n",
      "Traceback (most recent call last):\r\n",
      "  File \"/kaggle/working/RECsys_Challenge2024/run_compile_all_cython.py\", line 60, in <module>\r\n",
      "    run_compile_subprocess(file_path, [file_name])\r\n",
      "  File \"/kaggle/working/RECsys_Challenge2024/CythonCompiler/run_compile_subprocess.py\", line 51, in run_compile_subprocess\r\n",
      "    raise exc\r\n",
      "  File \"/kaggle/working/RECsys_Challenge2024/CythonCompiler/run_compile_subprocess.py\", line 32, in run_compile_subprocess\r\n",
      "    output = subprocess.check_output(' '.join(command),\r\n",
      "  File \"/opt/conda/lib/python3.10/subprocess.py\", line 421, in check_output\r\n",
      "    return run(*popenargs, stdout=PIPE, timeout=timeout, check=True,\r\n",
      "  File \"/opt/conda/lib/python3.10/subprocess.py\", line 526, in run\r\n",
      "    raise CalledProcessError(retcode, process.args,\r\n",
      "subprocess.CalledProcessError: Command '/opt/conda/bin/python /kaggle/working/RECsys_Challenge2024/CythonCompiler/compile_script.py SLIM_BPR_Cython_Epoch.pyx build_ext --inplace' returned non-zero exit status 1.\r\n",
      "Compiling [4/11]: SLIM_BPR_Cython_Epoch.pyx... FAIL: Command '/opt/conda/bin/python /kaggle/working/RECsys_Challenge2024/CythonCompiler/compile_script.py SLIM_BPR_Cython_Epoch.pyx build_ext --inplace' returned non-zero exit status 1.\r\n",
      "\r\n",
      "Compiling [5/11]: Triangular_Matrix.pyx... \r\n",
      "warning: Triangular_Matrix.pyx:22:0: The 'IF' statement is deprecated and will be removed in a future Cython version. Consider using runtime conditions or C macros instead. See https://github.com/cython/cython/issues/4310\r\n",
      "In file included from \u001b[01m\u001b[K/opt/conda/lib/python3.10/site-packages/numpy/core/include/numpy/ndarraytypes.h:1929\u001b[m\u001b[K,\r\n",
      "                 from \u001b[01m\u001b[K/opt/conda/lib/python3.10/site-packages/numpy/core/include/numpy/ndarrayobject.h:12\u001b[m\u001b[K,\r\n",
      "                 from \u001b[01m\u001b[K/opt/conda/lib/python3.10/site-packages/numpy/core/include/numpy/arrayobject.h:5\u001b[m\u001b[K,\r\n",
      "                 from \u001b[01m\u001b[KTriangular_Matrix.c:1252\u001b[m\u001b[K:\r\n",
      "\u001b[01m\u001b[K/opt/conda/lib/python3.10/site-packages/numpy/core/include/numpy/npy_1_7_deprecated_api.h:17:2:\u001b[m\u001b[K \u001b[01;35m\u001b[Kwarning: \u001b[m\u001b[K#warning \"Using deprecated NumPy API, disable it with \" \"#define NPY_NO_DEPRECATED_API NPY_1_7_API_VERSION\" [\u001b[01;35m\u001b[K-Wcpp\u001b[m\u001b[K]\r\n",
      "   17 | #\u001b[01;35m\u001b[Kwarning\u001b[m\u001b[K \"Using deprecated NumPy API, disable it with \" \\\r\n",
      "      |  \u001b[01;35m\u001b[K^~~~~~~\u001b[m\u001b[K\r\n",
      "/opt/conda/lib/python3.10/site-packages/Cython/Compiler/Main.py:381: FutureWarning: Cython directive 'language_level' not set, using '3str' for now (Py3). This has changed from earlier releases! File: /kaggle/working/RECsys_Challenge2024/Recommenders/SLIM/Cython/Triangular_Matrix.pyx\r\n",
      "  tree = Parsing.p_module(s, pxd, full_module_name)\r\n",
      "warning: Triangular_Matrix.pyx:22:0: The 'IF' statement is deprecated and will be removed in a future Cython version. Consider using runtime conditions or C macros instead. See https://github.com/cython/cython/issues/4310\r\n",
      "Compiling [5/11]: Triangular_Matrix.pyx... PASS\r\n",
      "\r\n",
      "Compiling [6/11]: Sparse_Matrix_Tree_CSR.pyx... \r\n",
      "warning: Sparse_Matrix_Tree_CSR.pyx:132:34: Non-trivial type declarators in shared declaration (e.g. mix of pointers and values). Each pointer declaration should be on its own line.\r\n",
      "warning: Sparse_Matrix_Tree_CSR.pyx:132:66: Non-trivial type declarators in shared declaration (e.g. mix of pointers and values). Each pointer declaration should be on its own line.\r\n",
      "warning: Sparse_Matrix_Tree_CSR.pyx:343:35: Non-trivial type declarators in shared declaration (e.g. mix of pointers and values). Each pointer declaration should be on its own line.\r\n",
      "warning: Sparse_Matrix_Tree_CSR.pyx:343:52: Non-trivial type declarators in shared declaration (e.g. mix of pointers and values). Each pointer declaration should be on its own line.\r\n",
      "warning: Sparse_Matrix_Tree_CSR.pyx:442:35: Non-trivial type declarators in shared declaration (e.g. mix of pointers and values). Each pointer declaration should be on its own line.\r\n",
      "warning: Sparse_Matrix_Tree_CSR.pyx:442:53: Non-trivial type declarators in shared declaration (e.g. mix of pointers and values). Each pointer declaration should be on its own line.\r\n",
      "warning: Sparse_Matrix_Tree_CSR.pyx:442:69: Non-trivial type declarators in shared declaration (e.g. mix of pointers and values). Each pointer declaration should be on its own line.\r\n",
      "warning: Sparse_Matrix_Tree_CSR.pyx:577:35: Non-trivial type declarators in shared declaration (e.g. mix of pointers and values). Each pointer declaration should be on its own line.\r\n",
      "warning: Sparse_Matrix_Tree_CSR.pyx:577:42: Non-trivial type declarators in shared declaration (e.g. mix of pointers and values). Each pointer declaration should be on its own line.\r\n",
      "warning: Sparse_Matrix_Tree_CSR.pyx:578:35: Non-trivial type declarators in shared declaration (e.g. mix of pointers and values). Each pointer declaration should be on its own line.\r\n",
      "warning: Sparse_Matrix_Tree_CSR.pyx:578:53: Non-trivial type declarators in shared declaration (e.g. mix of pointers and values). Each pointer declaration should be on its own line.\r\n",
      "\r\n",
      "Error compiling Cython file:\r\n",
      "------------------------------------------------------------\r\n",
      "...\r\n",
      "            vector_pointer_to_list_elements[index].head = current_element\r\n",
      "            current_element = current_element.higher\r\n",
      "\r\n",
      "\r\n",
      "        # Sort array elements on their data field\r\n",
      "        qsort(vector_pointer_to_list_elements, list_length, sizeof(head_pointer_tree_s), compare_struct_on_data)\r\n",
      "                                                                                         ^\r\n",
      "------------------------------------------------------------\r\n",
      "\r\n",
      "Sparse_Matrix_Tree_CSR.pyx:516:89: Cannot assign type 'int (const void *, const void *) except? -1' to 'int (*)(const_void *, const_void *) noexcept'. Exception values are incompatible. Suggest adding 'noexcept' to the type of 'compare_struct_on_data'.\r\n",
      "\r\n",
      "Error compiling Cython file:\r\n",
      "------------------------------------------------------------\r\n",
      "...\r\n",
      "        # Sort array elements on their data field\r\n",
      "        qsort(vector_pointer_to_list_elements, list_length, sizeof(head_pointer_tree_s), compare_struct_on_data)\r\n",
      "\r\n",
      "        # Sort only the TopK according to their column field\r\n",
      "        # Sort is from lower to higher, therefore the elements to be considered are from len-topK to len\r\n",
      "        qsort(&vector_pointer_to_list_elements[list_length-TopK], TopK, sizeof(head_pointer_tree_s), compare_struct_on_column)\r\n",
      "                                                                                                     ^\r\n",
      "------------------------------------------------------------\r\n",
      "\r\n",
      "Sparse_Matrix_Tree_CSR.pyx:520:101: Cannot assign type 'int (const void *, const void *) except? -1' to 'int (*)(const_void *, const_void *) noexcept'. Exception values are incompatible. Suggest adding 'noexcept' to the type of 'compare_struct_on_column'.\r\n",
      "Traceback (most recent call last):\r\n",
      "  File \"/kaggle/working/RECsys_Challenge2024/CythonCompiler/compile_script.py\", line 48, in <module>\r\n",
      "    setup(\r\n",
      "  File \"/opt/conda/lib/python3.10/site-packages/setuptools/__init__.py\", line 103, in setup\r\n",
      "    return distutils.core.setup(**attrs)\r\n",
      "  File \"/opt/conda/lib/python3.10/site-packages/setuptools/_distutils/core.py\", line 184, in setup\r\n",
      "    return run_commands(dist)\r\n",
      "  File \"/opt/conda/lib/python3.10/site-packages/setuptools/_distutils/core.py\", line 200, in run_commands\r\n",
      "    dist.run_commands()\r\n",
      "  File \"/opt/conda/lib/python3.10/site-packages/setuptools/_distutils/dist.py\", line 969, in run_commands\r\n",
      "    self.run_command(cmd)\r\n",
      "  File \"/opt/conda/lib/python3.10/site-packages/setuptools/dist.py\", line 968, in run_command\r\n",
      "    super().run_command(command)\r\n",
      "  File \"/opt/conda/lib/python3.10/site-packages/setuptools/_distutils/dist.py\", line 988, in run_command\r\n",
      "    cmd_obj.run()\r\n",
      "  File \"/opt/conda/lib/python3.10/site-packages/setuptools/_distutils/command/build_ext.py\", line 359, in run\r\n",
      "    self.build_extensions()\r\n",
      "  File \"/opt/conda/lib/python3.10/site-packages/setuptools/_distutils/command/build_ext.py\", line 479, in build_extensions\r\n",
      "    self._build_extensions_serial()\r\n",
      "  File \"/opt/conda/lib/python3.10/site-packages/setuptools/_distutils/command/build_ext.py\", line 505, in _build_extensions_serial\r\n",
      "    self.build_extension(ext)\r\n",
      "  File \"/opt/conda/lib/python3.10/site-packages/Cython/Distutils/build_ext.py\", line 130, in build_extension\r\n",
      "    new_ext = cythonize(\r\n",
      "  File \"/opt/conda/lib/python3.10/site-packages/Cython/Build/Dependencies.py\", line 1154, in cythonize\r\n",
      "    cythonize_one(*args)\r\n",
      "  File \"/opt/conda/lib/python3.10/site-packages/Cython/Build/Dependencies.py\", line 1321, in cythonize_one\r\n",
      "    raise CompileError(None, pyx_file)\r\n",
      "Cython.Compiler.Errors.CompileError: Sparse_Matrix_Tree_CSR.pyx\r\n",
      "Traceback (most recent call last):\r\n",
      "  File \"/kaggle/working/RECsys_Challenge2024/run_compile_all_cython.py\", line 60, in <module>\r\n",
      "    run_compile_subprocess(file_path, [file_name])\r\n",
      "  File \"/kaggle/working/RECsys_Challenge2024/CythonCompiler/run_compile_subprocess.py\", line 51, in run_compile_subprocess\r\n",
      "    raise exc\r\n",
      "  File \"/kaggle/working/RECsys_Challenge2024/CythonCompiler/run_compile_subprocess.py\", line 32, in run_compile_subprocess\r\n",
      "    output = subprocess.check_output(' '.join(command),\r\n",
      "  File \"/opt/conda/lib/python3.10/subprocess.py\", line 421, in check_output\r\n",
      "    return run(*popenargs, stdout=PIPE, timeout=timeout, check=True,\r\n",
      "  File \"/opt/conda/lib/python3.10/subprocess.py\", line 526, in run\r\n",
      "    raise CalledProcessError(retcode, process.args,\r\n",
      "subprocess.CalledProcessError: Command '/opt/conda/bin/python /kaggle/working/RECsys_Challenge2024/CythonCompiler/compile_script.py Sparse_Matrix_Tree_CSR.pyx build_ext --inplace' returned non-zero exit status 1.\r\n",
      "Compiling [6/11]: Sparse_Matrix_Tree_CSR.pyx... FAIL: Command '/opt/conda/bin/python /kaggle/working/RECsys_Challenge2024/CythonCompiler/compile_script.py Sparse_Matrix_Tree_CSR.pyx build_ext --inplace' returned non-zero exit status 1.\r\n",
      "\r\n",
      "Compiling [7/11]: HP3_Similarity_Cython_SGD.pyx... \r\n",
      "performance hint: HP3_Similarity_Cython_SGD.pyx:113:40: Index should be typed for more efficient access\r\n",
      "performance hint: HP3_Similarity_Cython_SGD.pyx:114:40: Index should be typed for more efficient access\r\n",
      "In file included from \u001b[01m\u001b[K/opt/conda/lib/python3.10/site-packages/numpy/core/include/numpy/ndarraytypes.h:1929\u001b[m\u001b[K,\r\n",
      "                 from \u001b[01m\u001b[K/opt/conda/lib/python3.10/site-packages/numpy/core/include/numpy/ndarrayobject.h:12\u001b[m\u001b[K,\r\n",
      "                 from \u001b[01m\u001b[K/opt/conda/lib/python3.10/site-packages/numpy/core/include/numpy/arrayobject.h:5\u001b[m\u001b[K,\r\n",
      "                 from \u001b[01m\u001b[KHP3_Similarity_Cython_SGD.c:1252\u001b[m\u001b[K:\r\n",
      "\u001b[01m\u001b[K/opt/conda/lib/python3.10/site-packages/numpy/core/include/numpy/npy_1_7_deprecated_api.h:17:2:\u001b[m\u001b[K \u001b[01;35m\u001b[Kwarning: \u001b[m\u001b[K#warning \"Using deprecated NumPy API, disable it with \" \"#define NPY_NO_DEPRECATED_API NPY_1_7_API_VERSION\" [\u001b[01;35m\u001b[K-Wcpp\u001b[m\u001b[K]\r\n",
      "   17 | #\u001b[01;35m\u001b[Kwarning\u001b[m\u001b[K \"Using deprecated NumPy API, disable it with \" \\\r\n",
      "      |  \u001b[01;35m\u001b[K^~~~~~~\u001b[m\u001b[K\r\n",
      "\u001b[01m\u001b[KHP3_Similarity_Cython_SGD.c:\u001b[m\u001b[K In function '\u001b[01m\u001b[K__pyx_pf_25HP3_Similarity_Cython_SGD_25HP3_Similarity_Cython_SGD_4fit\u001b[m\u001b[K':\r\n",
      "\u001b[01m\u001b[KHP3_Similarity_Cython_SGD.c:23631:55:\u001b[m\u001b[K \u001b[01;35m\u001b[Kwarning: \u001b[m\u001b[K'\u001b[01m\u001b[K__pyx_v_sample_num\u001b[m\u001b[K' may be used uninitialized in this function [\u001b[01;35m\u001b[K-Wmaybe-uninitialized\u001b[m\u001b[K]\r\n",
      "23631 |   __pyx_t_1 = PyFloat_FromDouble((__pyx_v_cum_loss / \u001b[01;35m\u001b[K((double)__pyx_v_sample_num)\u001b[m\u001b[K)); if (unlikely(!__pyx_t_1)) __PYX_ERR(0, 291, __pyx_L1_error)\r\n",
      "      |                                                      \u001b[01;35m\u001b[K~^~~~~~~~~~~~~~~~~~~~~~~~~~~\u001b[m\u001b[K\r\n",
      "/opt/conda/lib/python3.10/site-packages/Cython/Compiler/Main.py:381: FutureWarning: Cython directive 'language_level' not set, using '3str' for now (Py3). This has changed from earlier releases! File: /kaggle/working/RECsys_Challenge2024/Recommenders/FeatureWeighting/Cython/HP3_Similarity_Cython_SGD.pyx\r\n",
      "  tree = Parsing.p_module(s, pxd, full_module_name)\r\n",
      "performance hint: HP3_Similarity_Cython_SGD.pyx:113:40: Index should be typed for more efficient access\r\n",
      "performance hint: HP3_Similarity_Cython_SGD.pyx:114:40: Index should be typed for more efficient access\r\n",
      "Compiling [7/11]: HP3_Similarity_Cython_SGD.pyx... PASS\r\n",
      "\r\n",
      "Compiling [8/11]: CFW_DVV_Similarity_Cython_SGD.pyx... \r\n",
      "In file included from \u001b[01m\u001b[K/opt/conda/lib/python3.10/site-packages/numpy/core/include/numpy/ndarraytypes.h:1929\u001b[m\u001b[K,\r\n",
      "                 from \u001b[01m\u001b[K/opt/conda/lib/python3.10/site-packages/numpy/core/include/numpy/ndarrayobject.h:12\u001b[m\u001b[K,\r\n",
      "                 from \u001b[01m\u001b[K/opt/conda/lib/python3.10/site-packages/numpy/core/include/numpy/arrayobject.h:5\u001b[m\u001b[K,\r\n",
      "                 from \u001b[01m\u001b[KCFW_DVV_Similarity_Cython_SGD.c:1252\u001b[m\u001b[K:\r\n",
      "\u001b[01m\u001b[K/opt/conda/lib/python3.10/site-packages/numpy/core/include/numpy/npy_1_7_deprecated_api.h:17:2:\u001b[m\u001b[K \u001b[01;35m\u001b[Kwarning: \u001b[m\u001b[K#warning \"Using deprecated NumPy API, disable it with \" \"#define NPY_NO_DEPRECATED_API NPY_1_7_API_VERSION\" [\u001b[01;35m\u001b[K-Wcpp\u001b[m\u001b[K]\r\n",
      "   17 | #\u001b[01;35m\u001b[Kwarning\u001b[m\u001b[K \"Using deprecated NumPy API, disable it with \" \\\r\n",
      "      |  \u001b[01;35m\u001b[K^~~~~~~\u001b[m\u001b[K\r\n",
      "/opt/conda/lib/python3.10/site-packages/Cython/Compiler/Main.py:381: FutureWarning: Cython directive 'language_level' not set, using '3str' for now (Py3). This has changed from earlier releases! File: /kaggle/working/RECsys_Challenge2024/Recommenders/FeatureWeighting/Cython/CFW_DVV_Similarity_Cython_SGD.pyx\r\n",
      "  tree = Parsing.p_module(s, pxd, full_module_name)\r\n",
      "Compiling [8/11]: CFW_DVV_Similarity_Cython_SGD.pyx... PASS\r\n",
      "\r\n",
      "Compiling [9/11]: CFW_D_Similarity_Cython_SGD.pyx... \r\n",
      "In file included from \u001b[01m\u001b[K/opt/conda/lib/python3.10/site-packages/numpy/core/include/numpy/ndarraytypes.h:1929\u001b[m\u001b[K,\r\n",
      "                 from \u001b[01m\u001b[K/opt/conda/lib/python3.10/site-packages/numpy/core/include/numpy/ndarrayobject.h:12\u001b[m\u001b[K,\r\n",
      "                 from \u001b[01m\u001b[K/opt/conda/lib/python3.10/site-packages/numpy/core/include/numpy/arrayobject.h:5\u001b[m\u001b[K,\r\n",
      "                 from \u001b[01m\u001b[KCFW_D_Similarity_Cython_SGD.c:1252\u001b[m\u001b[K:\r\n",
      "\u001b[01m\u001b[K/opt/conda/lib/python3.10/site-packages/numpy/core/include/numpy/npy_1_7_deprecated_api.h:17:2:\u001b[m\u001b[K \u001b[01;35m\u001b[Kwarning: \u001b[m\u001b[K#warning \"Using deprecated NumPy API, disable it with \" \"#define NPY_NO_DEPRECATED_API NPY_1_7_API_VERSION\" [\u001b[01;35m\u001b[K-Wcpp\u001b[m\u001b[K]\r\n",
      "   17 | #\u001b[01;35m\u001b[Kwarning\u001b[m\u001b[K \"Using deprecated NumPy API, disable it with \" \\\r\n",
      "      |  \u001b[01;35m\u001b[K^~~~~~~\u001b[m\u001b[K\r\n",
      "\u001b[01m\u001b[KCFW_D_Similarity_Cython_SGD.c:\u001b[m\u001b[K In function '\u001b[01m\u001b[K__pyx_pf_27CFW_D_Similarity_Cython_SGD_27CFW_D_Similarity_Cython_SGD_6fit\u001b[m\u001b[K':\r\n",
      "\u001b[01m\u001b[KCFW_D_Similarity_Cython_SGD.c:23373:55:\u001b[m\u001b[K \u001b[01;35m\u001b[Kwarning: \u001b[m\u001b[K'\u001b[01m\u001b[K__pyx_v_sample_num\u001b[m\u001b[K' may be used uninitialized in this function [\u001b[01;35m\u001b[K-Wmaybe-uninitialized\u001b[m\u001b[K]\r\n",
      "23373 |   __pyx_t_3 = PyFloat_FromDouble((__pyx_v_cum_loss / \u001b[01;35m\u001b[K((double)__pyx_v_sample_num)\u001b[m\u001b[K)); if (unlikely(!__pyx_t_3)) __PYX_ERR(0, 290, __pyx_L1_error)\r\n",
      "      |                                                      \u001b[01;35m\u001b[K~^~~~~~~~~~~~~~~~~~~~~~~~~~~\u001b[m\u001b[K\r\n",
      "/opt/conda/lib/python3.10/site-packages/Cython/Compiler/Main.py:381: FutureWarning: Cython directive 'language_level' not set, using '3str' for now (Py3). This has changed from earlier releases! File: /kaggle/working/RECsys_Challenge2024/Recommenders/FeatureWeighting/Cython/CFW_D_Similarity_Cython_SGD.pyx\r\n",
      "  tree = Parsing.p_module(s, pxd, full_module_name)\r\n",
      "Compiling [9/11]: CFW_D_Similarity_Cython_SGD.pyx... PASS\r\n",
      "\r\n",
      "Compiling [10/11]: FBSM_Rating_Cython_SGD.pyx... \r\n",
      "In file included from \u001b[01m\u001b[K/opt/conda/lib/python3.10/site-packages/numpy/core/include/numpy/ndarraytypes.h:1929\u001b[m\u001b[K,\r\n",
      "                 from \u001b[01m\u001b[K/opt/conda/lib/python3.10/site-packages/numpy/core/include/numpy/ndarrayobject.h:12\u001b[m\u001b[K,\r\n",
      "                 from \u001b[01m\u001b[K/opt/conda/lib/python3.10/site-packages/numpy/core/include/numpy/arrayobject.h:5\u001b[m\u001b[K,\r\n",
      "                 from \u001b[01m\u001b[KFBSM_Rating_Cython_SGD.c:1252\u001b[m\u001b[K:\r\n",
      "\u001b[01m\u001b[K/opt/conda/lib/python3.10/site-packages/numpy/core/include/numpy/npy_1_7_deprecated_api.h:17:2:\u001b[m\u001b[K \u001b[01;35m\u001b[Kwarning: \u001b[m\u001b[K#warning \"Using deprecated NumPy API, disable it with \" \"#define NPY_NO_DEPRECATED_API NPY_1_7_API_VERSION\" [\u001b[01;35m\u001b[K-Wcpp\u001b[m\u001b[K]\r\n",
      "   17 | #\u001b[01;35m\u001b[Kwarning\u001b[m\u001b[K \"Using deprecated NumPy API, disable it with \" \\\r\n",
      "      |  \u001b[01;35m\u001b[K^~~~~~~\u001b[m\u001b[K\r\n",
      "\u001b[01m\u001b[KFBSM_Rating_Cython_SGD.c:\u001b[m\u001b[K In function '\u001b[01m\u001b[K__pyx_pf_22FBSM_Rating_Cython_SGD_22FBSM_Rating_Cython_SGD_2fit\u001b[m\u001b[K':\r\n",
      "\u001b[01m\u001b[KFBSM_Rating_Cython_SGD.c:26607:55:\u001b[m\u001b[K \u001b[01;35m\u001b[Kwarning: \u001b[m\u001b[K'\u001b[01m\u001b[K__pyx_v_num_sample\u001b[m\u001b[K' may be used uninitialized in this function [\u001b[01;35m\u001b[K-Wmaybe-uninitialized\u001b[m\u001b[K]\r\n",
      "26607 |   __pyx_t_5 = PyFloat_FromDouble((__pyx_v_cum_loss / \u001b[01;35m\u001b[K((double)__pyx_v_num_sample)\u001b[m\u001b[K)); if (unlikely(!__pyx_t_5)) __PYX_ERR(0, 551, __pyx_L1_error)\r\n",
      "      |                                                      \u001b[01;35m\u001b[K~^~~~~~~~~~~~~~~~~~~~~~~~~~~\u001b[m\u001b[K\r\n",
      "/opt/conda/lib/python3.10/site-packages/Cython/Compiler/Main.py:381: FutureWarning: Cython directive 'language_level' not set, using '3str' for now (Py3). This has changed from earlier releases! File: /kaggle/working/RECsys_Challenge2024/Recommenders/FeatureWeighting/Cython/FBSM_Rating_Cython_SGD.pyx\r\n",
      "  tree = Parsing.p_module(s, pxd, full_module_name)\r\n",
      "Compiling [10/11]: FBSM_Rating_Cython_SGD.pyx... PASS\r\n",
      "\r\n",
      "Compiling [11/11]: DataIterator.pyx... \r\n",
      "In file included from \u001b[01m\u001b[K/opt/conda/lib/python3.10/site-packages/numpy/core/include/numpy/ndarraytypes.h:1929\u001b[m\u001b[K,\r\n",
      "                 from \u001b[01m\u001b[K/opt/conda/lib/python3.10/site-packages/numpy/core/include/numpy/ndarrayobject.h:12\u001b[m\u001b[K,\r\n",
      "                 from \u001b[01m\u001b[K/opt/conda/lib/python3.10/site-packages/numpy/core/include/numpy/arrayobject.h:5\u001b[m\u001b[K,\r\n",
      "                 from \u001b[01m\u001b[KDataIterator.c:1252\u001b[m\u001b[K:\r\n",
      "\u001b[01m\u001b[K/opt/conda/lib/python3.10/site-packages/numpy/core/include/numpy/npy_1_7_deprecated_api.h:17:2:\u001b[m\u001b[K \u001b[01;35m\u001b[Kwarning: \u001b[m\u001b[K#warning \"Using deprecated NumPy API, disable it with \" \"#define NPY_NO_DEPRECATED_API NPY_1_7_API_VERSION\" [\u001b[01;35m\u001b[K-Wcpp\u001b[m\u001b[K]\r\n",
      "   17 | #\u001b[01;35m\u001b[Kwarning\u001b[m\u001b[K \"Using deprecated NumPy API, disable it with \" \\\r\n",
      "      |  \u001b[01;35m\u001b[K^~~~~~~\u001b[m\u001b[K\r\n",
      "\u001b[01m\u001b[KDataIterator.c:\u001b[m\u001b[K In function '\u001b[01m\u001b[K__pyx_pf_12DataIterator_30InteractionAndNegativeIterator_6__next__\u001b[m\u001b[K':\r\n",
      "\u001b[01m\u001b[KDataIterator.c:25495:22:\u001b[m\u001b[K \u001b[01;35m\u001b[Kwarning: \u001b[m\u001b[K'\u001b[01m\u001b[K__pyx_v_i_batch\u001b[m\u001b[K' may be used uninitialized in this function [\u001b[01;35m\u001b[K-Wmaybe-uninitialized\u001b[m\u001b[K]\r\n",
      "25495 |     (__pyx_v_i_batch \u001b[01;35m\u001b[K+\u001b[m\u001b[K 1),\r\n",
      "      |                      \u001b[01;35m\u001b[K^\u001b[m\u001b[K\r\n",
      "\u001b[01m\u001b[KDataIterator.c:\u001b[m\u001b[K In function '\u001b[01m\u001b[K__pyx_pf_12DataIterator_11BPRIterator_6__next__\u001b[m\u001b[K':\r\n",
      "\u001b[01m\u001b[KDataIterator.c:23054:22:\u001b[m\u001b[K \u001b[01;35m\u001b[Kwarning: \u001b[m\u001b[K'\u001b[01m\u001b[K__pyx_v_i_batch\u001b[m\u001b[K' may be used uninitialized in this function [\u001b[01;35m\u001b[K-Wmaybe-uninitialized\u001b[m\u001b[K]\r\n",
      "23054 |     (__pyx_v_i_batch \u001b[01;35m\u001b[K+\u001b[m\u001b[K 1),\r\n",
      "      |                      \u001b[01;35m\u001b[K^\u001b[m\u001b[K\r\n",
      "\u001b[01m\u001b[KDataIterator.c:\u001b[m\u001b[K In function '\u001b[01m\u001b[K__pyx_pf_12DataIterator_19InteractionIterator_6__next__\u001b[m\u001b[K':\r\n",
      "\u001b[01m\u001b[KDataIterator.c:20937:22:\u001b[m\u001b[K \u001b[01;35m\u001b[Kwarning: \u001b[m\u001b[K'\u001b[01m\u001b[K__pyx_v_i_batch\u001b[m\u001b[K' may be used uninitialized in this function [\u001b[01;35m\u001b[K-Wmaybe-uninitialized\u001b[m\u001b[K]\r\n",
      "20937 |     (__pyx_v_i_batch \u001b[01;35m\u001b[K+\u001b[m\u001b[K 1),\r\n",
      "      |                      \u001b[01;35m\u001b[K^\u001b[m\u001b[K\r\n",
      "/opt/conda/lib/python3.10/site-packages/Cython/Compiler/Main.py:381: FutureWarning: Cython directive 'language_level' not set, using '3str' for now (Py3). This has changed from earlier releases! File: /kaggle/working/RECsys_Challenge2024/Utils/PyTorch/Cython/DataIterator.pyx\r\n",
      "  tree = Parsing.p_module(s, pxd, full_module_name)\r\n",
      "Compiling [11/11]: DataIterator.pyx... PASS\r\n",
      "\r\n",
      "run_compile_all_cython: Compilation finished. FAILS 2/11.\r\n",
      "Compilation log can be found here: './result_experiments/run_compile_all_cython.txt'\r\n"
     ]
    }
   ],
   "source": [
    "! cd /kaggle/working/RECsys_Challenge2024 && python run_compile_all_cython.py"
   ]
  },
  {
   "cell_type": "code",
   "execution_count": 5,
   "id": "e3729694",
   "metadata": {
    "execution": {
     "iopub.execute_input": "2024-11-18T16:58:14.068276Z",
     "iopub.status.busy": "2024-11-18T16:58:14.067867Z",
     "iopub.status.idle": "2024-11-18T16:58:15.543324Z",
     "shell.execute_reply": "2024-11-18T16:58:15.541881Z"
    },
    "papermill": {
     "duration": 1.492901,
     "end_time": "2024-11-18T16:58:15.546326",
     "exception": false,
     "start_time": "2024-11-18T16:58:14.053425",
     "status": "completed"
    },
    "tags": []
   },
   "outputs": [],
   "source": [
    "import numpy as np\n",
    "import pandas as pd\n",
    "import scipy.sparse as sps\n",
    "import time\n",
    "import shutil\n",
    "import optuna\n",
    "import json\n",
    "import os\n",
    "\n",
    "np.random.seed(42)"
   ]
  },
  {
   "cell_type": "markdown",
   "id": "c486451d",
   "metadata": {
    "papermill": {
     "duration": 0.012584,
     "end_time": "2024-11-18T16:58:15.573551",
     "exception": false,
     "start_time": "2024-11-18T16:58:15.560967",
     "status": "completed"
    },
    "tags": []
   },
   "source": [
    "## Import the repository **RECsys_Challenge2024**"
   ]
  },
  {
   "cell_type": "code",
   "execution_count": 6,
   "id": "f8e3f8c9",
   "metadata": {
    "execution": {
     "iopub.execute_input": "2024-11-18T16:58:15.601691Z",
     "iopub.status.busy": "2024-11-18T16:58:15.601045Z",
     "iopub.status.idle": "2024-11-18T16:58:16.036103Z",
     "shell.execute_reply": "2024-11-18T16:58:16.034825Z"
    },
    "papermill": {
     "duration": 0.451962,
     "end_time": "2024-11-18T16:58:16.038518",
     "exception": false,
     "start_time": "2024-11-18T16:58:15.586556",
     "status": "completed"
    },
    "tags": []
   },
   "outputs": [
    {
     "name": "stdout",
     "output_type": "stream",
     "text": [
      "Repository 'RECsys_Challenge2024' found.\n"
     ]
    }
   ],
   "source": [
    "from github import Github, Auth\n",
    "\n",
    "# Authenticate using a personal access token\n",
    "auth_token = Auth.Token(token)\n",
    "github_client = Github(auth=auth_token)\n",
    "\n",
    "# Define the repository name you want to find\n",
    "target_repo_name = 'RECsys_Challenge2024'\n",
    "repo = None\n",
    "\n",
    "# Search for the repository in the user's repositories\n",
    "try:\n",
    "    for repository in github_client.get_user().get_repos():\n",
    "        if repository.name == target_repo_name:\n",
    "            repo = repository\n",
    "            print(f\"Repository '{target_repo_name}' found.\")\n",
    "            break\n",
    "    if repo is None:\n",
    "        print(f\"Repository '{target_repo_name}' not found.\")\n",
    "except Exception as e:\n",
    "    print(\"An error occurred while accessing the repositories:\", e)"
   ]
  },
  {
   "cell_type": "code",
   "execution_count": 7,
   "id": "6f33aea2",
   "metadata": {
    "execution": {
     "iopub.execute_input": "2024-11-18T16:58:16.068054Z",
     "iopub.status.busy": "2024-11-18T16:58:16.067472Z",
     "iopub.status.idle": "2024-11-18T16:58:16.075043Z",
     "shell.execute_reply": "2024-11-18T16:58:16.073976Z"
    },
    "papermill": {
     "duration": 0.025954,
     "end_time": "2024-11-18T16:58:16.077215",
     "exception": false,
     "start_time": "2024-11-18T16:58:16.051261",
     "status": "completed"
    },
    "tags": []
   },
   "outputs": [],
   "source": [
    "def upload_file(filepath_kaggle, filepath_github, commit_message):\n",
    "    \"\"\"\n",
    "    Uploads a file from Kaggle to GitHub, updating it if it already exists in the repository,\n",
    "    or creating it if it does not.\n",
    "\n",
    "    Parameters:\n",
    "    - filepath_kaggle: Path to the file in the Kaggle environment.\n",
    "    - filepath_github: Target path in the GitHub repository where the file should be uploaded.\n",
    "    - commit_message: Message for the commit on GitHub.\n",
    "    \"\"\"\n",
    "    try:\n",
    "        \n",
    "        # Check if the file already exists in the GitHub repository\n",
    "        contents = repo.get_contents(filepath_github)\n",
    "        \n",
    "        # If it exists, update the file\n",
    "        with open(filepath_kaggle, \"rb\") as file:\n",
    "            repo.update_file(\n",
    "                contents.path, commit_message, file.read(), contents.sha\n",
    "            )\n",
    "        print(f\"File '{filepath_github}' updated successfully.\")\n",
    "    \n",
    "    except Exception as e:\n",
    "        \n",
    "        # If the file does not exist, create it\n",
    "        with open(filepath_kaggle, \"rb\") as file:\n",
    "            repo.create_file(\n",
    "                filepath_github, commit_message, file.read()\n",
    "            )\n",
    "        print(f\"File '{filepath_github}' created successfully.\")"
   ]
  },
  {
   "cell_type": "code",
   "execution_count": 8,
   "id": "108edc30",
   "metadata": {
    "execution": {
     "iopub.execute_input": "2024-11-18T16:58:16.104165Z",
     "iopub.status.busy": "2024-11-18T16:58:16.103743Z",
     "iopub.status.idle": "2024-11-18T16:58:16.109057Z",
     "shell.execute_reply": "2024-11-18T16:58:16.108057Z"
    },
    "papermill": {
     "duration": 0.021586,
     "end_time": "2024-11-18T16:58:16.111448",
     "exception": false,
     "start_time": "2024-11-18T16:58:16.089862",
     "status": "completed"
    },
    "tags": []
   },
   "outputs": [],
   "source": [
    "config = {\n",
    "    'model': 'ItemKNNCF',\n",
    "    'tune_parameters': True,\n",
    "    'database_path': '/kaggle/working/history_ItemKNNCF.db',\n",
    "    'copy_prev_best_params': False,\n",
    "    'tune_best_params': True,\n",
    "    'save_github': True\n",
    "}"
   ]
  },
  {
   "cell_type": "markdown",
   "id": "07010b50",
   "metadata": {
    "papermill": {
     "duration": 0.012979,
     "end_time": "2024-11-18T16:58:16.198714",
     "exception": false,
     "start_time": "2024-11-18T16:58:16.185735",
     "status": "completed"
    },
    "tags": []
   },
   "source": [
    "Import the database where previous tuning trials have been saved."
   ]
  },
  {
   "cell_type": "code",
   "execution_count": 10,
   "id": "1c16afea",
   "metadata": {
    "execution": {
     "iopub.execute_input": "2024-11-18T16:58:16.226274Z",
     "iopub.status.busy": "2024-11-18T16:58:16.225856Z",
     "iopub.status.idle": "2024-11-18T16:58:16.232447Z",
     "shell.execute_reply": "2024-11-18T16:58:16.231282Z"
    },
    "papermill": {
     "duration": 0.023224,
     "end_time": "2024-11-18T16:58:16.234798",
     "exception": false,
     "start_time": "2024-11-18T16:58:16.211574",
     "status": "completed"
    },
    "tags": []
   },
   "outputs": [],
   "source": [
    "try:\n",
    "    shutil.copyfile(\n",
    "        f'/kaggle/working/RECsys_Challenge2024/TrainedModels/' \\\n",
    "        f'{config[\"model\"]}Recommender/history_{config[\"model\"]}.db', \n",
    "        config['database_path']\n",
    "    )\n",
    "except FileNotFoundError:\n",
    "    pass # If not present optuna will create it"
   ]
  },
  {
   "cell_type": "markdown",
   "id": "81a0cdf3",
   "metadata": {
    "papermill": {
     "duration": 0.012389,
     "end_time": "2024-11-18T16:58:16.260133",
     "exception": false,
     "start_time": "2024-11-18T16:58:16.247744",
     "status": "completed"
    },
    "tags": []
   },
   "source": [
    "# Construction of URM and ICM matrices"
   ]
  },
  {
   "cell_type": "code",
   "execution_count": 11,
   "id": "8a445b3c",
   "metadata": {
    "execution": {
     "iopub.execute_input": "2024-11-18T16:58:16.287505Z",
     "iopub.status.busy": "2024-11-18T16:58:16.287112Z",
     "iopub.status.idle": "2024-11-18T16:58:17.205393Z",
     "shell.execute_reply": "2024-11-18T16:58:17.204050Z"
    },
    "papermill": {
     "duration": 0.934817,
     "end_time": "2024-11-18T16:58:17.207843",
     "exception": false,
     "start_time": "2024-11-18T16:58:16.273026",
     "status": "completed"
    },
    "tags": []
   },
   "outputs": [
    {
     "data": {
      "text/plain": [
       "<Compressed Sparse Row sparse matrix of dtype 'float64'\n",
       "\twith 1764607 stored elements and shape (35736, 38121)>"
      ]
     },
     "execution_count": 11,
     "metadata": {},
     "output_type": "execute_result"
    }
   ],
   "source": [
    "URM_all_dataframe = pd.read_csv(\"/kaggle/input/recommender-system-2024-challenge-polimi/data_train.csv\")\n",
    "\n",
    "n_users = len(URM_all_dataframe[\"user_id\"].unique())\n",
    "n_items = len(URM_all_dataframe[\"item_id\"].unique())\n",
    "\n",
    "URM_all = sps.csr_matrix((URM_all_dataframe[\"data\"].values, \n",
    "                          (URM_all_dataframe[\"user_id\"].values, URM_all_dataframe[\"item_id\"].values)),\n",
    "                        shape = (n_users, n_items))\n",
    "\n",
    "URM_all"
   ]
  },
  {
   "cell_type": "code",
   "execution_count": 12,
   "id": "da56b713",
   "metadata": {
    "execution": {
     "iopub.execute_input": "2024-11-18T16:58:17.236649Z",
     "iopub.status.busy": "2024-11-18T16:58:17.236173Z",
     "iopub.status.idle": "2024-11-18T16:58:18.656493Z",
     "shell.execute_reply": "2024-11-18T16:58:18.655174Z"
    },
    "papermill": {
     "duration": 1.437145,
     "end_time": "2024-11-18T16:58:18.658745",
     "exception": false,
     "start_time": "2024-11-18T16:58:17.221600",
     "status": "completed"
    },
    "tags": []
   },
   "outputs": [
    {
     "data": {
      "text/plain": [
       "<Compressed Sparse Row sparse matrix of dtype 'float64'\n",
       "\twith 2940040 stored elements and shape (38121, 94331)>"
      ]
     },
     "execution_count": 12,
     "metadata": {},
     "output_type": "execute_result"
    }
   ],
   "source": [
    "ICM_dataframe = pd.read_csv(\"/kaggle/input/recommender-system-2024-challenge-polimi/data_ICM_metadata.csv\")\n",
    "\n",
    "n_items = len(ICM_dataframe[\"item_id\"].unique())\n",
    "n_features = len(ICM_dataframe[\"feature_id\"].unique())\n",
    "\n",
    "ICM_all = sps.csr_matrix((ICM_dataframe[\"data\"].values, \n",
    "                          (ICM_dataframe[\"item_id\"].values, ICM_dataframe[\"feature_id\"].values)),\n",
    "                        shape = (n_items, n_features))\n",
    "\n",
    "ICM_all"
   ]
  },
  {
   "cell_type": "markdown",
   "id": "6a585e79",
   "metadata": {
    "papermill": {
     "duration": 0.012408,
     "end_time": "2024-11-18T16:58:18.683919",
     "exception": false,
     "start_time": "2024-11-18T16:58:18.671511",
     "status": "completed"
    },
    "tags": []
   },
   "source": [
    "# Training"
   ]
  },
  {
   "cell_type": "code",
   "execution_count": 13,
   "id": "14d1975b",
   "metadata": {
    "execution": {
     "iopub.execute_input": "2024-11-18T16:58:18.721890Z",
     "iopub.status.busy": "2024-11-18T16:58:18.721221Z",
     "iopub.status.idle": "2024-11-18T16:58:18.729026Z",
     "shell.execute_reply": "2024-11-18T16:58:18.727788Z"
    },
    "papermill": {
     "duration": 0.034732,
     "end_time": "2024-11-18T16:58:18.732201",
     "exception": false,
     "start_time": "2024-11-18T16:58:18.697469",
     "status": "completed"
    },
    "tags": []
   },
   "outputs": [
    {
     "name": "stdout",
     "output_type": "stream",
     "text": [
      "/kaggle/working/RECsys_Challenge2024\n"
     ]
    }
   ],
   "source": [
    "%cd /kaggle/working/RECsys_Challenge2024/"
   ]
  },
  {
   "cell_type": "code",
   "execution_count": 14,
   "id": "62f384f2",
   "metadata": {
    "execution": {
     "iopub.execute_input": "2024-11-18T16:58:18.773426Z",
     "iopub.status.busy": "2024-11-18T16:58:18.771520Z",
     "iopub.status.idle": "2024-11-18T16:58:21.797105Z",
     "shell.execute_reply": "2024-11-18T16:58:21.796000Z"
    },
    "papermill": {
     "duration": 3.044455,
     "end_time": "2024-11-18T16:58:21.799286",
     "exception": false,
     "start_time": "2024-11-18T16:58:18.754831",
     "status": "completed"
    },
    "tags": []
   },
   "outputs": [
    {
     "name": "stdout",
     "output_type": "stream",
     "text": [
      "Warning: 141 (0.39 %) of 35736 users have no sampled items\n",
      "EvaluatorHoldout: Ignoring 141 ( 0.4%) Users that have less than 1 test interactions\n"
     ]
    }
   ],
   "source": [
    "from Evaluation.Evaluator import EvaluatorHoldout\n",
    "from Data_manager.split_functions.split_train_validation_random_holdout import split_train_in_two_percentage_global_sample\n",
    "\n",
    "URM_train, URM_validation = split_train_in_two_percentage_global_sample(URM_all, train_percentage = 0.80)\n",
    "\n",
    "evaluator_validation = EvaluatorHoldout(URM_validation, cutoff_list=[10])"
   ]
  },
  {
   "cell_type": "code",
   "execution_count": 15,
   "id": "bfae30d9",
   "metadata": {
    "execution": {
     "iopub.execute_input": "2024-11-18T16:58:21.827188Z",
     "iopub.status.busy": "2024-11-18T16:58:21.826837Z",
     "iopub.status.idle": "2024-11-18T16:58:21.845731Z",
     "shell.execute_reply": "2024-11-18T16:58:21.844562Z"
    },
    "papermill": {
     "duration": 0.035761,
     "end_time": "2024-11-18T16:58:21.848310",
     "exception": false,
     "start_time": "2024-11-18T16:58:21.812549",
     "status": "completed"
    },
    "tags": []
   },
   "outputs": [],
   "source": [
    "from Recommenders.KNN.ItemKNNCFRecommender import ItemKNNCFRecommender\n",
    "\n",
    "def objective_function_ItemKNNCF(optuna_trial):\n",
    "    \n",
    "    recommender_instance = ItemKNNCFRecommender(URM_train)\n",
    "    similarity = optuna_trial.suggest_categorical(\"similarity\", ['cosine', 'dice', 'jaccard', 'asymmetric', 'tversky', 'euclidean'])\n",
    "    \n",
    "    full_hyperp = {\"similarity\": similarity,\n",
    "                   \"topK\": optuna_trial.suggest_int(\"topK\", 10, 1500),\n",
    "                   \"shrink\": optuna_trial.suggest_int(\"shrink\", 0, 1000),\n",
    "                   'feature_weighting': optuna_trial.suggest_categorical('feature_weighting', [\"BM25\", \"TF-IDF\", \"none\"])\n",
    "                  }\n",
    "    \n",
    "    if similarity == \"asymmetric\":\n",
    "        full_hyperp[\"asymmetric_alpha\"] = optuna_trial.suggest_float(\"asymmetric_alpha\", 0, 2, log=False)\n",
    "        full_hyperp[\"normalize\"] = True     \n",
    "\n",
    "    elif similarity == \"tversky\":\n",
    "        full_hyperp[\"tversky_alpha\"] = optuna_trial.suggest_float(\"tversky_alpha\", 0, 2, log=False)\n",
    "        full_hyperp[\"tversky_beta\"] = optuna_trial.suggest_float(\"tversky_beta\", 0, 2, log=False)\n",
    "        full_hyperp[\"normalize\"] = True \n",
    "\n",
    "    elif similarity == \"euclidean\":\n",
    "        full_hyperp[\"normalize_avg_row\"] = optuna_trial.suggest_categorical(\"normalize_avg_row\", [True, False])\n",
    "        full_hyperp[\"similarity_from_distance_mode\"] = optuna_trial.suggest_categorical(\"similarity_from_distance_mode\", [\"lin\", \"log\", \"exp\"])\n",
    "        full_hyperp[\"normalize\"] = optuna_trial.suggest_categorical(\"normalize\", [True, False])\n",
    "        \n",
    "    \n",
    "    recommender_instance.fit(**full_hyperp)\n",
    "    \n",
    "    result_df, _ = evaluator_validation.evaluateRecommender(recommender_instance)\n",
    "    \n",
    "    return result_df.loc[10][\"MAP\"]"
   ]
  },
  {
   "cell_type": "code",
   "execution_count": 16,
   "id": "7e8965bc",
   "metadata": {
    "_kg_hide-output": true,
    "execution": {
     "iopub.execute_input": "2024-11-18T16:58:21.876945Z",
     "iopub.status.busy": "2024-11-18T16:58:21.876509Z",
     "iopub.status.idle": "2024-11-18T19:56:09.970449Z",
     "shell.execute_reply": "2024-11-18T19:56:09.969165Z"
    },
    "papermill": {
     "duration": 10668.111583,
     "end_time": "2024-11-18T19:56:09.972962",
     "exception": false,
     "start_time": "2024-11-18T16:58:21.861379",
     "status": "completed"
    },
    "tags": []
   },
   "outputs": [
    {
     "name": "stderr",
     "output_type": "stream",
     "text": [
      "[I 2024-11-18 16:58:23,584] Using an existing study with name 'hyperparameters_tuning_ItemKNNCF' instead of creating a new one.\n"
     ]
    },
    {
     "name": "stdout",
     "output_type": "stream",
     "text": [
      "Similarity column 38121 (100.0%), 2816.57 column/sec. Elapsed time 13.53 sec\n",
      "EvaluatorHoldout: Processed 35595 (100.0%) in 39.29 sec. Users per second: 906\n"
     ]
    },
    {
     "name": "stderr",
     "output_type": "stream",
     "text": [
      "[I 2024-11-18 16:59:17,086] Trial 200 finished with value: 0.046223529923275414 and parameters: {'similarity': 'cosine', 'topK': 107, 'shrink': 940, 'feature_weighting': 'TF-IDF'}. Best is trial 121 with value: 0.04994933299442155.\n"
     ]
    },
    {
     "name": "stdout",
     "output_type": "stream",
     "text": [
      "Similarity column 38121 (100.0%), 2893.73 column/sec. Elapsed time 13.17 sec\n",
      "EvaluatorHoldout: Processed 35595 (100.0%) in 36.88 sec. Users per second: 965\n"
     ]
    },
    {
     "name": "stderr",
     "output_type": "stream",
     "text": [
      "[I 2024-11-18 17:00:07,592] Trial 201 finished with value: 0.04784513162852644 and parameters: {'similarity': 'cosine', 'topK': 39, 'shrink': 887, 'feature_weighting': 'TF-IDF'}. Best is trial 121 with value: 0.04994933299442155.\n"
     ]
    },
    {
     "name": "stdout",
     "output_type": "stream",
     "text": [
      "Similarity column 38121 (100.0%), 2863.26 column/sec. Elapsed time 13.31 sec\n",
      "EvaluatorHoldout: Processed 35595 (100.0%) in 33.17 sec. Users per second: 1073\n"
     ]
    },
    {
     "name": "stderr",
     "output_type": "stream",
     "text": [
      "[I 2024-11-18 17:00:54,466] Trial 202 finished with value: 0.0496052058319212 and parameters: {'similarity': 'cosine', 'topK': 11, 'shrink': 959, 'feature_weighting': 'TF-IDF'}. Best is trial 121 with value: 0.04994933299442155.\n"
     ]
    },
    {
     "name": "stdout",
     "output_type": "stream",
     "text": [
      "Similarity column 38121 (100.0%), 2905.77 column/sec. Elapsed time 13.12 sec\n",
      "EvaluatorHoldout: Processed 35595 (100.0%) in 36.72 sec. Users per second: 969\n"
     ]
    },
    {
     "name": "stderr",
     "output_type": "stream",
     "text": [
      "[I 2024-11-18 17:01:44,766] Trial 203 finished with value: 0.047072919105365825 and parameters: {'similarity': 'cosine', 'topK': 64, 'shrink': 955, 'feature_weighting': 'TF-IDF'}. Best is trial 121 with value: 0.04994933299442155.\n"
     ]
    },
    {
     "name": "stdout",
     "output_type": "stream",
     "text": [
      "Similarity column 38121 (100.0%), 2920.30 column/sec. Elapsed time 13.05 sec\n",
      "EvaluatorHoldout: Processed 35595 (100.0%) in 32.29 sec. Users per second: 1102\n"
     ]
    },
    {
     "name": "stderr",
     "output_type": "stream",
     "text": [
      "[I 2024-11-18 17:02:30,512] Trial 204 finished with value: 0.04982159969854696 and parameters: {'similarity': 'cosine', 'topK': 10, 'shrink': 954, 'feature_weighting': 'TF-IDF'}. Best is trial 121 with value: 0.04994933299442155.\n"
     ]
    },
    {
     "name": "stdout",
     "output_type": "stream",
     "text": [
      "Similarity column 38121 (100.0%), 2943.26 column/sec. Elapsed time 12.95 sec\n",
      "EvaluatorHoldout: Processed 35595 (100.0%) in 36.55 sec. Users per second: 974\n"
     ]
    },
    {
     "name": "stderr",
     "output_type": "stream",
     "text": [
      "[I 2024-11-18 17:03:20,617] Trial 205 finished with value: 0.03855078406321408 and parameters: {'similarity': 'dice', 'topK': 38, 'shrink': 949, 'feature_weighting': 'TF-IDF'}. Best is trial 121 with value: 0.04994933299442155.\n"
     ]
    },
    {
     "name": "stdout",
     "output_type": "stream",
     "text": [
      "Similarity column 38121 (100.0%), 2903.42 column/sec. Elapsed time 13.13 sec\n",
      "EvaluatorHoldout: Processed 35595 (100.0%) in 33.42 sec. Users per second: 1065\n"
     ]
    },
    {
     "name": "stderr",
     "output_type": "stream",
     "text": [
      "[I 2024-11-18 17:04:07,565] Trial 206 finished with value: 0.04959879664746728 and parameters: {'similarity': 'cosine', 'topK': 11, 'shrink': 911, 'feature_weighting': 'TF-IDF'}. Best is trial 121 with value: 0.04994933299442155.\n"
     ]
    },
    {
     "name": "stdout",
     "output_type": "stream",
     "text": [
      "Similarity column 38121 (100.0%), 2862.27 column/sec. Elapsed time 13.32 sec\n",
      "EvaluatorHoldout: Processed 35595 (100.0%) in 40.29 sec. Users per second: 883\n"
     ]
    },
    {
     "name": "stderr",
     "output_type": "stream",
     "text": [
      "[I 2024-11-18 17:05:01,826] Trial 207 finished with value: 0.037138225004848154 and parameters: {'similarity': 'jaccard', 'topK': 85, 'shrink': 915, 'feature_weighting': 'TF-IDF'}. Best is trial 121 with value: 0.04994933299442155.\n"
     ]
    },
    {
     "name": "stdout",
     "output_type": "stream",
     "text": [
      "Similarity column 38121 (100.0%), 2905.74 column/sec. Elapsed time 13.12 sec\n",
      "EvaluatorHoldout: Processed 35595 (100.0%) in 31.69 sec. Users per second: 1123\n"
     ]
    },
    {
     "name": "stderr",
     "output_type": "stream",
     "text": [
      "[I 2024-11-18 17:05:47,049] Trial 208 finished with value: 0.04989037384865253 and parameters: {'similarity': 'cosine', 'topK': 10, 'shrink': 893, 'feature_weighting': 'TF-IDF'}. Best is trial 121 with value: 0.04994933299442155.\n"
     ]
    },
    {
     "name": "stdout",
     "output_type": "stream",
     "text": [
      "Similarity column 38121 (100.0%), 2886.30 column/sec. Elapsed time 13.21 sec\n",
      "EvaluatorHoldout: Processed 35595 (100.0%) in 36.42 sec. Users per second: 977\n"
     ]
    },
    {
     "name": "stderr",
     "output_type": "stream",
     "text": [
      "[I 2024-11-18 17:06:37,199] Trial 209 finished with value: 0.04726728606880146 and parameters: {'similarity': 'cosine', 'topK': 54, 'shrink': 889, 'feature_weighting': 'TF-IDF'}. Best is trial 121 with value: 0.04994933299442155.\n"
     ]
    },
    {
     "name": "stdout",
     "output_type": "stream",
     "text": [
      "Similarity column 38121 (100.0%), 2903.65 column/sec. Elapsed time 13.13 sec\n",
      "EvaluatorHoldout: Processed 35595 (100.0%) in 32.51 sec. Users per second: 1095\n"
     ]
    },
    {
     "name": "stderr",
     "output_type": "stream",
     "text": [
      "[I 2024-11-18 17:07:23,298] Trial 210 finished with value: 0.04983274470063162 and parameters: {'similarity': 'cosine', 'topK': 10, 'shrink': 932, 'feature_weighting': 'TF-IDF'}. Best is trial 121 with value: 0.04994933299442155.\n"
     ]
    },
    {
     "name": "stdout",
     "output_type": "stream",
     "text": [
      "Similarity column 38121 (100.0%), 2901.06 column/sec. Elapsed time 13.14 sec\n",
      "EvaluatorHoldout: Processed 35595 (100.0%) in 35.48 sec. Users per second: 1003\n"
     ]
    },
    {
     "name": "stderr",
     "output_type": "stream",
     "text": [
      "[I 2024-11-18 17:08:12,353] Trial 211 finished with value: 0.04770897575680381 and parameters: {'similarity': 'cosine', 'topK': 42, 'shrink': 930, 'feature_weighting': 'TF-IDF'}. Best is trial 121 with value: 0.04994933299442155.\n"
     ]
    },
    {
     "name": "stdout",
     "output_type": "stream",
     "text": [
      "Similarity column 38121 (100.0%), 2922.25 column/sec. Elapsed time 13.05 sec\n",
      "EvaluatorHoldout: Processed 35595 (100.0%) in 33.20 sec. Users per second: 1072\n"
     ]
    },
    {
     "name": "stderr",
     "output_type": "stream",
     "text": [
      "[I 2024-11-18 17:08:58,987] Trial 212 finished with value: 0.04949320731242169 and parameters: {'similarity': 'cosine', 'topK': 12, 'shrink': 966, 'feature_weighting': 'TF-IDF'}. Best is trial 121 with value: 0.04994933299442155.\n"
     ]
    },
    {
     "name": "stdout",
     "output_type": "stream",
     "text": [
      "Similarity column 38121 (100.0%), 2900.47 column/sec. Elapsed time 13.14 sec\n",
      "EvaluatorHoldout: Processed 35595 (100.0%) in 35.63 sec. Users per second: 999\n"
     ]
    },
    {
     "name": "stderr",
     "output_type": "stream",
     "text": [
      "[I 2024-11-18 17:09:48,185] Trial 213 finished with value: 0.047869821871716546 and parameters: {'similarity': 'cosine', 'topK': 40, 'shrink': 902, 'feature_weighting': 'TF-IDF'}. Best is trial 121 with value: 0.04994933299442155.\n"
     ]
    },
    {
     "name": "stdout",
     "output_type": "stream",
     "text": [
      "Similarity column 38121 (100.0%), 2874.66 column/sec. Elapsed time 13.26 sec\n",
      "EvaluatorHoldout: Processed 35595 (100.0%) in 37.54 sec. Users per second: 948\n"
     ]
    },
    {
     "name": "stderr",
     "output_type": "stream",
     "text": [
      "[I 2024-11-18 17:10:39,503] Trial 214 finished with value: 0.04699137229457346 and parameters: {'similarity': 'cosine', 'topK': 71, 'shrink': 948, 'feature_weighting': 'TF-IDF'}. Best is trial 121 with value: 0.04994933299442155.\n"
     ]
    },
    {
     "name": "stdout",
     "output_type": "stream",
     "text": [
      "Similarity column 38121 (100.0%), 2890.02 column/sec. Elapsed time 13.19 sec\n",
      "EvaluatorHoldout: Processed 35595 (100.0%) in 35.02 sec. Users per second: 1016\n"
     ]
    },
    {
     "name": "stderr",
     "output_type": "stream",
     "text": [
      "[I 2024-11-18 17:11:28,142] Trial 215 finished with value: 0.04794841214099339 and parameters: {'similarity': 'cosine', 'topK': 35, 'shrink': 878, 'feature_weighting': 'TF-IDF'}. Best is trial 121 with value: 0.04994933299442155.\n"
     ]
    },
    {
     "name": "stdout",
     "output_type": "stream",
     "text": [
      "Similarity column 38121 (100.0%), 2913.84 column/sec. Elapsed time 13.08 sec\n",
      "EvaluatorHoldout: Processed 35595 (100.0%) in 32.18 sec. Users per second: 1106\n"
     ]
    },
    {
     "name": "stderr",
     "output_type": "stream",
     "text": [
      "[I 2024-11-18 17:12:13,797] Trial 216 finished with value: 0.049839740288116004 and parameters: {'similarity': 'cosine', 'topK': 10, 'shrink': 926, 'feature_weighting': 'TF-IDF'}. Best is trial 121 with value: 0.04994933299442155.\n"
     ]
    },
    {
     "name": "stdout",
     "output_type": "stream",
     "text": [
      "Similarity column 38121 (100.0%), 2903.90 column/sec. Elapsed time 13.13 sec\n",
      "EvaluatorHoldout: Processed 35595 (100.0%) in 32.25 sec. Users per second: 1104\n"
     ]
    },
    {
     "name": "stderr",
     "output_type": "stream",
     "text": [
      "[I 2024-11-18 17:12:59,675] Trial 217 finished with value: 0.04983492308755505 and parameters: {'similarity': 'cosine', 'topK': 10, 'shrink': 928, 'feature_weighting': 'TF-IDF'}. Best is trial 121 with value: 0.04994933299442155.\n"
     ]
    },
    {
     "name": "stdout",
     "output_type": "stream",
     "text": [
      "Similarity column 38121 (100.0%), 2850.86 column/sec. Elapsed time 13.37 sec\n",
      "EvaluatorHoldout: Processed 35595 (100.0%) in 39.77 sec. Users per second: 895\n"
     ]
    },
    {
     "name": "stderr",
     "output_type": "stream",
     "text": [
      "[I 2024-11-18 17:13:53,199] Trial 218 finished with value: 0.03564598202440494 and parameters: {'similarity': 'cosine', 'topK': 65, 'shrink': 932, 'feature_weighting': 'none'}. Best is trial 121 with value: 0.04994933299442155.\n"
     ]
    },
    {
     "name": "stdout",
     "output_type": "stream",
     "text": [
      "Similarity column 38121 (100.0%), 2858.34 column/sec. Elapsed time 13.34 sec\n",
      "EvaluatorHoldout: Processed 35595 (100.0%) in 37.86 sec. Users per second: 940\n"
     ]
    },
    {
     "name": "stderr",
     "output_type": "stream",
     "text": [
      "[I 2024-11-18 17:14:44,904] Trial 219 finished with value: 0.04654776174645384 and parameters: {'similarity': 'cosine', 'topK': 94, 'shrink': 899, 'feature_weighting': 'TF-IDF'}. Best is trial 121 with value: 0.04994933299442155.\n"
     ]
    },
    {
     "name": "stdout",
     "output_type": "stream",
     "text": [
      "Similarity column 38121 (100.0%), 456.91 column/sec. Elapsed time 1.39 min\n",
      "EvaluatorHoldout: Processed 35595 (100.0%) in 38.64 sec. Users per second: 921\n"
     ]
    },
    {
     "name": "stderr",
     "output_type": "stream",
     "text": [
      "[I 2024-11-18 17:16:47,416] Trial 220 finished with value: 0.03401599899218879 and parameters: {'similarity': 'euclidean', 'topK': 43, 'shrink': 877, 'feature_weighting': 'BM25', 'normalize_avg_row': False, 'similarity_from_distance_mode': 'lin', 'normalize': False}. Best is trial 121 with value: 0.04994933299442155.\n"
     ]
    },
    {
     "name": "stdout",
     "output_type": "stream",
     "text": [
      "Similarity column 38121 (100.0%), 2855.50 column/sec. Elapsed time 13.35 sec\n",
      "EvaluatorHoldout: Processed 35595 (100.0%) in 36.88 sec. Users per second: 965\n"
     ]
    },
    {
     "name": "stderr",
     "output_type": "stream",
     "text": [
      "[I 2024-11-18 17:17:38,197] Trial 221 finished with value: 0.047679371322437436 and parameters: {'similarity': 'cosine', 'topK': 44, 'shrink': 924, 'feature_weighting': 'TF-IDF'}. Best is trial 121 with value: 0.04994933299442155.\n"
     ]
    },
    {
     "name": "stdout",
     "output_type": "stream",
     "text": [
      "Similarity column 38121 (100.0%), 2908.12 column/sec. Elapsed time 13.11 sec\n",
      "EvaluatorHoldout: Processed 35595 (100.0%) in 32.50 sec. Users per second: 1095\n"
     ]
    },
    {
     "name": "stderr",
     "output_type": "stream",
     "text": [
      "[I 2024-11-18 17:18:24,212] Trial 222 finished with value: 0.049876711549908144 and parameters: {'similarity': 'cosine', 'topK': 10, 'shrink': 906, 'feature_weighting': 'TF-IDF'}. Best is trial 121 with value: 0.04994933299442155.\n"
     ]
    },
    {
     "name": "stdout",
     "output_type": "stream",
     "text": [
      "Similarity column 38121 (100.0%), 2907.93 column/sec. Elapsed time 13.11 sec\n",
      "EvaluatorHoldout: Processed 35595 (100.0%) in 32.45 sec. Users per second: 1097\n"
     ]
    },
    {
     "name": "stderr",
     "output_type": "stream",
     "text": [
      "[I 2024-11-18 17:19:10,161] Trial 223 finished with value: 0.0498932412033952 and parameters: {'similarity': 'cosine', 'topK': 10, 'shrink': 898, 'feature_weighting': 'TF-IDF'}. Best is trial 121 with value: 0.04994933299442155.\n"
     ]
    },
    {
     "name": "stdout",
     "output_type": "stream",
     "text": [
      "Similarity column 38121 (100.0%), 2878.38 column/sec. Elapsed time 13.24 sec\n",
      "EvaluatorHoldout: Processed 35595 (100.0%) in 36.02 sec. Users per second: 988\n"
     ]
    },
    {
     "name": "stderr",
     "output_type": "stream",
     "text": [
      "[I 2024-11-18 17:19:59,870] Trial 224 finished with value: 0.04781848930984878 and parameters: {'similarity': 'cosine', 'topK': 41, 'shrink': 896, 'feature_weighting': 'TF-IDF'}. Best is trial 121 with value: 0.04994933299442155.\n"
     ]
    },
    {
     "name": "stdout",
     "output_type": "stream",
     "text": [
      "Similarity column 38121 (100.0%), 2700.46 column/sec. Elapsed time 14.12 sec\n",
      "EvaluatorHoldout: Processed 35595 (100.0%) in 53.95 sec. Users per second: 660\n"
     ]
    },
    {
     "name": "stderr",
     "output_type": "stream",
     "text": [
      "[I 2024-11-18 17:21:09,252] Trial 225 finished with value: 0.043576516676809916 and parameters: {'similarity': 'cosine', 'topK': 624, 'shrink': 847, 'feature_weighting': 'TF-IDF'}. Best is trial 121 with value: 0.04994933299442155.\n"
     ]
    },
    {
     "name": "stdout",
     "output_type": "stream",
     "text": [
      "Similarity column 38121 (100.0%), 2892.14 column/sec. Elapsed time 13.18 sec\n",
      "EvaluatorHoldout: Processed 35595 (100.0%) in 32.83 sec. Users per second: 1084\n"
     ]
    },
    {
     "name": "stderr",
     "output_type": "stream",
     "text": [
      "[I 2024-11-18 17:21:55,668] Trial 226 finished with value: 0.04960045329177033 and parameters: {'similarity': 'cosine', 'topK': 11, 'shrink': 908, 'feature_weighting': 'TF-IDF'}. Best is trial 121 with value: 0.04994933299442155.\n"
     ]
    },
    {
     "name": "stdout",
     "output_type": "stream",
     "text": [
      "Similarity column 38121 (100.0%), 2859.39 column/sec. Elapsed time 13.33 sec\n",
      "EvaluatorHoldout: Processed 35595 (100.0%) in 37.59 sec. Users per second: 947\n"
     ]
    },
    {
     "name": "stderr",
     "output_type": "stream",
     "text": [
      "[I 2024-11-18 17:22:47,159] Trial 227 finished with value: 0.0469845718031542 and parameters: {'similarity': 'cosine', 'topK': 73, 'shrink': 871, 'feature_weighting': 'TF-IDF'}. Best is trial 121 with value: 0.04994933299442155.\n"
     ]
    },
    {
     "name": "stdout",
     "output_type": "stream",
     "text": [
      "Similarity column 38121 (100.0%), 2898.40 column/sec. Elapsed time 13.15 sec\n",
      "EvaluatorHoldout: Processed 35595 (100.0%) in 35.38 sec. Users per second: 1006\n"
     ]
    },
    {
     "name": "stderr",
     "output_type": "stream",
     "text": [
      "[I 2024-11-18 17:23:36,131] Trial 228 finished with value: 0.04783291638516917 and parameters: {'similarity': 'cosine', 'topK': 37, 'shrink': 886, 'feature_weighting': 'TF-IDF'}. Best is trial 121 with value: 0.04994933299442155.\n"
     ]
    },
    {
     "name": "stdout",
     "output_type": "stream",
     "text": [
      "Similarity column 38121 (100.0%), 2874.65 column/sec. Elapsed time 13.26 sec\n",
      "EvaluatorHoldout: Processed 35595 (100.0%) in 38.02 sec. Users per second: 936\n"
     ]
    },
    {
     "name": "stderr",
     "output_type": "stream",
     "text": [
      "[I 2024-11-18 17:24:27,898] Trial 229 finished with value: 0.04699631212694691 and parameters: {'similarity': 'cosine', 'topK': 71, 'shrink': 933, 'feature_weighting': 'TF-IDF'}. Best is trial 121 with value: 0.04994933299442155.\n"
     ]
    },
    {
     "name": "stdout",
     "output_type": "stream",
     "text": [
      "Similarity column 38121 (100.0%), 2917.29 column/sec. Elapsed time 13.07 sec\n",
      "EvaluatorHoldout: Processed 35595 (100.0%) in 32.21 sec. Users per second: 1105\n"
     ]
    },
    {
     "name": "stderr",
     "output_type": "stream",
     "text": [
      "[I 2024-11-18 17:25:13,571] Trial 230 finished with value: 0.04960773316209277 and parameters: {'similarity': 'cosine', 'topK': 11, 'shrink': 904, 'feature_weighting': 'TF-IDF'}. Best is trial 121 with value: 0.04994933299442155.\n"
     ]
    },
    {
     "name": "stdout",
     "output_type": "stream",
     "text": [
      "Similarity column 38121 (100.0%), 2927.59 column/sec. Elapsed time 13.02 sec\n",
      "EvaluatorHoldout: Processed 35595 (100.0%) in 32.49 sec. Users per second: 1096\n"
     ]
    },
    {
     "name": "stderr",
     "output_type": "stream",
     "text": [
      "[I 2024-11-18 17:25:59,471] Trial 231 finished with value: 0.049891370510837627 and parameters: {'similarity': 'cosine', 'topK': 10, 'shrink': 902, 'feature_weighting': 'TF-IDF'}. Best is trial 121 with value: 0.04994933299442155.\n"
     ]
    },
    {
     "name": "stdout",
     "output_type": "stream",
     "text": [
      "Similarity column 38121 (100.0%), 2903.19 column/sec. Elapsed time 13.13 sec\n",
      "EvaluatorHoldout: Processed 35595 (100.0%) in 32.44 sec. Users per second: 1097\n"
     ]
    },
    {
     "name": "stderr",
     "output_type": "stream",
     "text": [
      "[I 2024-11-18 17:26:45,438] Trial 232 finished with value: 0.049839740288116004 and parameters: {'similarity': 'cosine', 'topK': 10, 'shrink': 926, 'feature_weighting': 'TF-IDF'}. Best is trial 121 with value: 0.04994933299442155.\n"
     ]
    },
    {
     "name": "stdout",
     "output_type": "stream",
     "text": [
      "Similarity column 38121 (100.0%), 2692.49 column/sec. Elapsed time 14.16 sec\n",
      "EvaluatorHoldout: Processed 35595 (100.0%) in 59.86 sec. Users per second: 595\n"
     ]
    },
    {
     "name": "stderr",
     "output_type": "stream",
     "text": [
      "[I 2024-11-18 17:28:01,815] Trial 233 finished with value: 0.042753741942530905 and parameters: {'similarity': 'cosine', 'topK': 961, 'shrink': 887, 'feature_weighting': 'TF-IDF'}. Best is trial 121 with value: 0.04994933299442155.\n"
     ]
    },
    {
     "name": "stdout",
     "output_type": "stream",
     "text": [
      "Similarity column 38121 (100.0%), 2866.02 column/sec. Elapsed time 13.30 sec\n",
      "EvaluatorHoldout: Processed 35595 (100.0%) in 35.19 sec. Users per second: 1011\n"
     ]
    },
    {
     "name": "stderr",
     "output_type": "stream",
     "text": [
      "[I 2024-11-18 17:28:50,756] Trial 234 finished with value: 0.04778610224817374 and parameters: {'similarity': 'cosine', 'topK': 42, 'shrink': 858, 'feature_weighting': 'TF-IDF'}. Best is trial 121 with value: 0.04994933299442155.\n"
     ]
    },
    {
     "name": "stdout",
     "output_type": "stream",
     "text": [
      "Similarity column 38121 (100.0%), 2893.66 column/sec. Elapsed time 13.17 sec\n",
      "EvaluatorHoldout: Processed 35595 (100.0%) in 36.69 sec. Users per second: 970\n"
     ]
    },
    {
     "name": "stderr",
     "output_type": "stream",
     "text": [
      "[I 2024-11-18 17:29:41,083] Trial 235 finished with value: 0.04771773501271849 and parameters: {'similarity': 'cosine', 'topK': 43, 'shrink': 925, 'feature_weighting': 'TF-IDF'}. Best is trial 121 with value: 0.04994933299442155.\n"
     ]
    },
    {
     "name": "stdout",
     "output_type": "stream",
     "text": [
      "Similarity column 38121 (100.0%), 2825.73 column/sec. Elapsed time 13.49 sec\n",
      "EvaluatorHoldout: Processed 35595 (100.0%) in 38.28 sec. Users per second: 930\n"
     ]
    },
    {
     "name": "stderr",
     "output_type": "stream",
     "text": [
      "[I 2024-11-18 17:30:33,369] Trial 236 finished with value: 0.047227781902664294 and parameters: {'similarity': 'cosine', 'topK': 60, 'shrink': 905, 'feature_weighting': 'TF-IDF'}. Best is trial 121 with value: 0.04994933299442155.\n"
     ]
    },
    {
     "name": "stdout",
     "output_type": "stream",
     "text": [
      "Similarity column 38121 (100.0%), 2908.62 column/sec. Elapsed time 13.11 sec\n",
      "EvaluatorHoldout: Processed 35595 (100.0%) in 35.10 sec. Users per second: 1014\n"
     ]
    },
    {
     "name": "stderr",
     "output_type": "stream",
     "text": [
      "[I 2024-11-18 17:31:22,015] Trial 237 finished with value: 0.04790619446729666 and parameters: {'similarity': 'cosine', 'topK': 36, 'shrink': 841, 'feature_weighting': 'TF-IDF'}. Best is trial 121 with value: 0.04994933299442155.\n"
     ]
    },
    {
     "name": "stdout",
     "output_type": "stream",
     "text": [
      "Similarity column 38121 (100.0%), 2879.62 column/sec. Elapsed time 13.24 sec\n",
      "EvaluatorHoldout: Processed 35595 (100.0%) in 32.04 sec. Users per second: 1111\n"
     ]
    },
    {
     "name": "stderr",
     "output_type": "stream",
     "text": [
      "[I 2024-11-18 17:32:07,679] Trial 238 finished with value: 0.049922257005061546 and parameters: {'similarity': 'cosine', 'topK': 10, 'shrink': 873, 'feature_weighting': 'TF-IDF'}. Best is trial 121 with value: 0.04994933299442155.\n"
     ]
    },
    {
     "name": "stdout",
     "output_type": "stream",
     "text": [
      "Similarity column 38121 (100.0%), 2878.48 column/sec. Elapsed time 13.24 sec\n",
      "EvaluatorHoldout: Processed 35595 (100.0%) in 36.73 sec. Users per second: 969\n"
     ]
    },
    {
     "name": "stderr",
     "output_type": "stream",
     "text": [
      "[I 2024-11-18 17:32:58,132] Trial 239 finished with value: 0.047126517011260284 and parameters: {'similarity': 'cosine', 'topK': 63, 'shrink': 875, 'feature_weighting': 'TF-IDF'}. Best is trial 121 with value: 0.04994933299442155.\n"
     ]
    },
    {
     "name": "stdout",
     "output_type": "stream",
     "text": [
      "Similarity column 38121 (100.0%), 2653.96 column/sec. Elapsed time 14.36 sec\n",
      "EvaluatorHoldout: Processed 35595 (100.0%) in 33.94 sec. Users per second: 1049\n"
     ]
    },
    {
     "name": "stderr",
     "output_type": "stream",
     "text": [
      "[I 2024-11-18 17:33:47,127] Trial 240 finished with value: 0.03752938815644112 and parameters: {'similarity': 'tversky', 'topK': 12, 'shrink': 917, 'feature_weighting': 'TF-IDF', 'tversky_alpha': 0.6871436320493574, 'tversky_beta': 0.4548823816200258}. Best is trial 121 with value: 0.04994933299442155.\n"
     ]
    },
    {
     "name": "stdout",
     "output_type": "stream",
     "text": [
      "Similarity column 38121 (100.0%), 2892.36 column/sec. Elapsed time 13.18 sec\n",
      "EvaluatorHoldout: Processed 35595 (100.0%) in 35.57 sec. Users per second: 1001\n"
     ]
    },
    {
     "name": "stderr",
     "output_type": "stream",
     "text": [
      "[I 2024-11-18 17:34:36,317] Trial 241 finished with value: 0.04798966994204884 and parameters: {'similarity': 'cosine', 'topK': 34, 'shrink': 891, 'feature_weighting': 'TF-IDF'}. Best is trial 121 with value: 0.04994933299442155.\n"
     ]
    },
    {
     "name": "stdout",
     "output_type": "stream",
     "text": [
      "Similarity column 38121 (100.0%), 2905.51 column/sec. Elapsed time 13.12 sec\n",
      "EvaluatorHoldout: Processed 35595 (100.0%) in 32.86 sec. Users per second: 1083\n"
     ]
    },
    {
     "name": "stderr",
     "output_type": "stream",
     "text": [
      "[I 2024-11-18 17:35:22,684] Trial 242 finished with value: 0.04958462152477983 and parameters: {'similarity': 'cosine', 'topK': 12, 'shrink': 859, 'feature_weighting': 'TF-IDF'}. Best is trial 121 with value: 0.04994933299442155.\n"
     ]
    },
    {
     "name": "stdout",
     "output_type": "stream",
     "text": [
      "Similarity column 38121 (100.0%), 2889.38 column/sec. Elapsed time 13.19 sec\n",
      "EvaluatorHoldout: Processed 35595 (100.0%) in 35.20 sec. Users per second: 1011\n"
     ]
    },
    {
     "name": "stderr",
     "output_type": "stream",
     "text": [
      "[I 2024-11-18 17:36:11,531] Trial 243 finished with value: 0.04781723735052673 and parameters: {'similarity': 'cosine', 'topK': 39, 'shrink': 822, 'feature_weighting': 'TF-IDF'}. Best is trial 121 with value: 0.04994933299442155.\n"
     ]
    },
    {
     "name": "stdout",
     "output_type": "stream",
     "text": [
      "Similarity column 38121 (100.0%), 2897.24 column/sec. Elapsed time 13.16 sec\n",
      "EvaluatorHoldout: Processed 35595 (100.0%) in 32.35 sec. Users per second: 1100\n"
     ]
    },
    {
     "name": "stderr",
     "output_type": "stream",
     "text": [
      "[I 2024-11-18 17:36:57,433] Trial 244 finished with value: 0.049841190688007284 and parameters: {'similarity': 'cosine', 'topK': 10, 'shrink': 936, 'feature_weighting': 'TF-IDF'}. Best is trial 121 with value: 0.04994933299442155.\n"
     ]
    },
    {
     "name": "stdout",
     "output_type": "stream",
     "text": [
      "Similarity column 38121 (100.0%), 2893.84 column/sec. Elapsed time 13.17 sec\n",
      "EvaluatorHoldout: Processed 35595 (100.0%) in 36.29 sec. Users per second: 981\n"
     ]
    },
    {
     "name": "stderr",
     "output_type": "stream",
     "text": [
      "[I 2024-11-18 17:37:47,358] Trial 245 finished with value: 0.04720709837523838 and parameters: {'similarity': 'cosine', 'topK': 60, 'shrink': 942, 'feature_weighting': 'TF-IDF'}. Best is trial 121 with value: 0.04994933299442155.\n"
     ]
    },
    {
     "name": "stdout",
     "output_type": "stream",
     "text": [
      "Similarity column 38121 (100.0%), 2892.50 column/sec. Elapsed time 13.18 sec\n",
      "EvaluatorHoldout: Processed 35595 (100.0%) in 35.75 sec. Users per second: 996\n"
     ]
    },
    {
     "name": "stderr",
     "output_type": "stream",
     "text": [
      "[I 2024-11-18 17:38:36,731] Trial 246 finished with value: 0.04794431623845675 and parameters: {'similarity': 'cosine', 'topK': 35, 'shrink': 938, 'feature_weighting': 'TF-IDF'}. Best is trial 121 with value: 0.04994933299442155.\n"
     ]
    },
    {
     "name": "stdout",
     "output_type": "stream",
     "text": [
      "Similarity column 38121 (100.0%), 2874.56 column/sec. Elapsed time 13.26 sec\n",
      "EvaluatorHoldout: Processed 35595 (100.0%) in 32.82 sec. Users per second: 1085\n"
     ]
    },
    {
     "name": "stderr",
     "output_type": "stream",
     "text": [
      "[I 2024-11-18 17:39:23,215] Trial 247 finished with value: 0.04959987246291307 and parameters: {'similarity': 'cosine', 'topK': 11, 'shrink': 906, 'feature_weighting': 'TF-IDF'}. Best is trial 121 with value: 0.04994933299442155.\n"
     ]
    },
    {
     "name": "stdout",
     "output_type": "stream",
     "text": [
      "Similarity column 38121 (100.0%), 2891.46 column/sec. Elapsed time 13.18 sec\n",
      "EvaluatorHoldout: Processed 35595 (100.0%) in 37.88 sec. Users per second: 940\n"
     ]
    },
    {
     "name": "stderr",
     "output_type": "stream",
     "text": [
      "[I 2024-11-18 17:40:14,766] Trial 248 finished with value: 0.046775688577625436 and parameters: {'similarity': 'cosine', 'topK': 80, 'shrink': 924, 'feature_weighting': 'TF-IDF'}. Best is trial 121 with value: 0.04994933299442155.\n"
     ]
    },
    {
     "name": "stdout",
     "output_type": "stream",
     "text": [
      "Similarity column 38121 (100.0%), 2856.97 column/sec. Elapsed time 13.34 sec\n",
      "EvaluatorHoldout: Processed 35595 (100.0%) in 35.20 sec. Users per second: 1011\n"
     ]
    },
    {
     "name": "stderr",
     "output_type": "stream",
     "text": [
      "[I 2024-11-18 17:41:03,899] Trial 249 finished with value: 0.0487287150192735 and parameters: {'similarity': 'asymmetric', 'topK': 39, 'shrink': 887, 'feature_weighting': 'TF-IDF', 'asymmetric_alpha': 0.32236043097524303}. Best is trial 121 with value: 0.04994933299442155.\n"
     ]
    },
    {
     "name": "stdout",
     "output_type": "stream",
     "text": [
      "Similarity column 38121 (100.0%), 2948.57 column/sec. Elapsed time 12.93 sec\n",
      "EvaluatorHoldout: Processed 35595 (100.0%) in 33.10 sec. Users per second: 1075\n"
     ]
    },
    {
     "name": "stderr",
     "output_type": "stream",
     "text": [
      "[I 2024-11-18 17:41:50,506] Trial 250 finished with value: 0.03921865363647783 and parameters: {'similarity': 'dice', 'topK': 11, 'shrink': 944, 'feature_weighting': 'TF-IDF'}. Best is trial 121 with value: 0.04994933299442155.\n"
     ]
    },
    {
     "name": "stdout",
     "output_type": "stream",
     "text": [
      "Similarity column 38121 (100.0%), 2858.16 column/sec. Elapsed time 13.34 sec\n",
      "EvaluatorHoldout: Processed 35595 (100.0%) in 38.21 sec. Users per second: 932\n"
     ]
    },
    {
     "name": "stderr",
     "output_type": "stream",
     "text": [
      "[I 2024-11-18 17:42:42,558] Trial 251 finished with value: 0.04654642171519377 and parameters: {'similarity': 'cosine', 'topK': 93, 'shrink': 915, 'feature_weighting': 'TF-IDF'}. Best is trial 121 with value: 0.04994933299442155.\n"
     ]
    },
    {
     "name": "stdout",
     "output_type": "stream",
     "text": [
      "Similarity column 38121 (100.0%), 2909.94 column/sec. Elapsed time 13.10 sec\n",
      "EvaluatorHoldout: Processed 35595 (100.0%) in 32.00 sec. Users per second: 1112\n"
     ]
    },
    {
     "name": "stderr",
     "output_type": "stream",
     "text": [
      "[I 2024-11-18 17:43:28,067] Trial 252 finished with value: 0.04991914550152862 and parameters: {'similarity': 'cosine', 'topK': 10, 'shrink': 871, 'feature_weighting': 'TF-IDF'}. Best is trial 121 with value: 0.04994933299442155.\n"
     ]
    },
    {
     "name": "stdout",
     "output_type": "stream",
     "text": [
      "Similarity column 38121 (100.0%), 2884.72 column/sec. Elapsed time 13.21 sec\n",
      "EvaluatorHoldout: Processed 35595 (100.0%) in 36.93 sec. Users per second: 964\n"
     ]
    },
    {
     "name": "stderr",
     "output_type": "stream",
     "text": [
      "[I 2024-11-18 17:44:18,667] Trial 253 finished with value: 0.04716087510061216 and parameters: {'similarity': 'cosine', 'topK': 61, 'shrink': 900, 'feature_weighting': 'TF-IDF'}. Best is trial 121 with value: 0.04994933299442155.\n"
     ]
    },
    {
     "name": "stdout",
     "output_type": "stream",
     "text": [
      "Similarity column 38121 (100.0%), 2879.59 column/sec. Elapsed time 13.24 sec\n",
      "EvaluatorHoldout: Processed 35595 (100.0%) in 36.69 sec. Users per second: 970\n"
     ]
    },
    {
     "name": "stderr",
     "output_type": "stream",
     "text": [
      "[I 2024-11-18 17:45:09,230] Trial 254 finished with value: 0.03869163450368519 and parameters: {'similarity': 'jaccard', 'topK': 38, 'shrink': 875, 'feature_weighting': 'TF-IDF'}. Best is trial 121 with value: 0.04994933299442155.\n"
     ]
    },
    {
     "name": "stdout",
     "output_type": "stream",
     "text": [
      "Similarity column 38121 (100.0%), 2875.45 column/sec. Elapsed time 13.26 sec\n",
      "EvaluatorHoldout: Processed 35595 (100.0%) in 33.67 sec. Users per second: 1057\n"
     ]
    },
    {
     "name": "stderr",
     "output_type": "stream",
     "text": [
      "[I 2024-11-18 17:45:56,451] Trial 255 finished with value: 0.03726155358898585 and parameters: {'similarity': 'cosine', 'topK': 11, 'shrink': 925, 'feature_weighting': 'none'}. Best is trial 121 with value: 0.04994933299442155.\n"
     ]
    },
    {
     "name": "stdout",
     "output_type": "stream",
     "text": [
      "Similarity column 38121 (100.0%), 2846.31 column/sec. Elapsed time 13.39 sec\n",
      "EvaluatorHoldout: Processed 35595 (100.0%) in 36.06 sec. Users per second: 987\n"
     ]
    },
    {
     "name": "stderr",
     "output_type": "stream",
     "text": [
      "[I 2024-11-18 17:46:46,440] Trial 256 finished with value: 0.046845421485537664 and parameters: {'similarity': 'cosine', 'topK': 67, 'shrink': 164, 'feature_weighting': 'TF-IDF'}. Best is trial 121 with value: 0.04994933299442155.\n"
     ]
    },
    {
     "name": "stdout",
     "output_type": "stream",
     "text": [
      "Similarity column 38121 (100.0%), 2908.96 column/sec. Elapsed time 13.10 sec\n",
      "EvaluatorHoldout: Processed 35595 (100.0%) in 31.48 sec. Users per second: 1131\n"
     ]
    },
    {
     "name": "stderr",
     "output_type": "stream",
     "text": [
      "[I 2024-11-18 17:47:31,426] Trial 257 finished with value: 0.04442570853316567 and parameters: {'similarity': 'cosine', 'topK': 10, 'shrink': 942, 'feature_weighting': 'BM25'}. Best is trial 121 with value: 0.04994933299442155.\n"
     ]
    },
    {
     "name": "stdout",
     "output_type": "stream",
     "text": [
      "Similarity column 38121 (100.0%), 2872.39 column/sec. Elapsed time 13.27 sec\n",
      "EvaluatorHoldout: Processed 35595 (100.0%) in 36.21 sec. Users per second: 983\n"
     ]
    },
    {
     "name": "stderr",
     "output_type": "stream",
     "text": [
      "[I 2024-11-18 17:48:21,354] Trial 258 finished with value: 0.047282264987277965 and parameters: {'similarity': 'cosine', 'topK': 53, 'shrink': 878, 'feature_weighting': 'TF-IDF'}. Best is trial 121 with value: 0.04994933299442155.\n"
     ]
    },
    {
     "name": "stdout",
     "output_type": "stream",
     "text": [
      "Similarity column 38121 (100.0%), 2876.02 column/sec. Elapsed time 13.25 sec\n",
      "EvaluatorHoldout: Processed 35595 (100.0%) in 38.23 sec. Users per second: 931\n"
     ]
    },
    {
     "name": "stderr",
     "output_type": "stream",
     "text": [
      "[I 2024-11-18 17:49:13,340] Trial 259 finished with value: 0.046554255658341676 and parameters: {'similarity': 'cosine', 'topK': 92, 'shrink': 906, 'feature_weighting': 'TF-IDF'}. Best is trial 121 with value: 0.04994933299442155.\n"
     ]
    },
    {
     "name": "stdout",
     "output_type": "stream",
     "text": [
      "Similarity column 38121 (100.0%), 2886.42 column/sec. Elapsed time 13.21 sec\n",
      "EvaluatorHoldout: Processed 35595 (100.0%) in 35.22 sec. Users per second: 1011\n"
     ]
    },
    {
     "name": "stderr",
     "output_type": "stream",
     "text": [
      "[I 2024-11-18 17:50:02,193] Trial 260 finished with value: 0.04781072448644982 and parameters: {'similarity': 'cosine', 'topK': 38, 'shrink': 926, 'feature_weighting': 'TF-IDF'}. Best is trial 121 with value: 0.04994933299442155.\n"
     ]
    },
    {
     "name": "stdout",
     "output_type": "stream",
     "text": [
      "Similarity column 38121 (100.0%), 2890.39 column/sec. Elapsed time 13.19 sec\n",
      "EvaluatorHoldout: Processed 35595 (100.0%) in 31.82 sec. Users per second: 1119\n"
     ]
    },
    {
     "name": "stderr",
     "output_type": "stream",
     "text": [
      "[I 2024-11-18 17:50:47,668] Trial 261 finished with value: 0.0497992662158258 and parameters: {'similarity': 'cosine', 'topK': 10, 'shrink': 974, 'feature_weighting': 'TF-IDF'}. Best is trial 121 with value: 0.04994933299442155.\n"
     ]
    },
    {
     "name": "stdout",
     "output_type": "stream",
     "text": [
      "Similarity column 38121 (100.0%), 463.03 column/sec. Elapsed time 1.37 min\n",
      "EvaluatorHoldout: Processed 35595 (100.0%) in 34.51 sec. Users per second: 1031\n"
     ]
    },
    {
     "name": "stderr",
     "output_type": "stream",
     "text": [
      "[I 2024-11-18 17:52:44,936] Trial 262 finished with value: 0.03184703799579367 and parameters: {'similarity': 'euclidean', 'topK': 43, 'shrink': 859, 'feature_weighting': 'TF-IDF', 'normalize_avg_row': False, 'similarity_from_distance_mode': 'exp', 'normalize': True}. Best is trial 121 with value: 0.04994933299442155.\n"
     ]
    },
    {
     "name": "stdout",
     "output_type": "stream",
     "text": [
      "Similarity column 38121 (100.0%), 2887.51 column/sec. Elapsed time 13.20 sec\n",
      "EvaluatorHoldout: Processed 35595 (100.0%) in 37.56 sec. Users per second: 948\n"
     ]
    },
    {
     "name": "stderr",
     "output_type": "stream",
     "text": [
      "[I 2024-11-18 17:53:36,155] Trial 263 finished with value: 0.04713369766129812 and parameters: {'similarity': 'cosine', 'topK': 62, 'shrink': 894, 'feature_weighting': 'TF-IDF'}. Best is trial 121 with value: 0.04994933299442155.\n"
     ]
    },
    {
     "name": "stdout",
     "output_type": "stream",
     "text": [
      "Similarity column 38121 (100.0%), 2846.97 column/sec. Elapsed time 13.39 sec\n",
      "EvaluatorHoldout: Processed 35595 (100.0%) in 39.84 sec. Users per second: 893\n"
     ]
    },
    {
     "name": "stderr",
     "output_type": "stream",
     "text": [
      "[I 2024-11-18 17:54:29,992] Trial 264 finished with value: 0.04617743262496576 and parameters: {'similarity': 'cosine', 'topK': 118, 'shrink': 952, 'feature_weighting': 'TF-IDF'}. Best is trial 121 with value: 0.04994933299442155.\n"
     ]
    },
    {
     "name": "stdout",
     "output_type": "stream",
     "text": [
      "Similarity column 38121 (100.0%), 2914.76 column/sec. Elapsed time 13.08 sec\n",
      "EvaluatorHoldout: Processed 35595 (100.0%) in 32.38 sec. Users per second: 1099\n"
     ]
    },
    {
     "name": "stderr",
     "output_type": "stream",
     "text": [
      "[I 2024-11-18 17:55:15,853] Trial 265 finished with value: 0.04984070350526126 and parameters: {'similarity': 'cosine', 'topK': 10, 'shrink': 921, 'feature_weighting': 'TF-IDF'}. Best is trial 121 with value: 0.04994933299442155.\n"
     ]
    },
    {
     "name": "stdout",
     "output_type": "stream",
     "text": [
      "Similarity column 38121 (100.0%), 2878.18 column/sec. Elapsed time 13.24 sec\n",
      "EvaluatorHoldout: Processed 35595 (100.0%) in 35.23 sec. Users per second: 1010\n"
     ]
    },
    {
     "name": "stderr",
     "output_type": "stream",
     "text": [
      "[I 2024-11-18 17:56:04,769] Trial 266 finished with value: 0.048027089367374085 and parameters: {'similarity': 'cosine', 'topK': 38, 'shrink': 566, 'feature_weighting': 'TF-IDF'}. Best is trial 121 with value: 0.04994933299442155.\n"
     ]
    },
    {
     "name": "stdout",
     "output_type": "stream",
     "text": [
      "Similarity column 38121 (100.0%), 2856.09 column/sec. Elapsed time 13.35 sec\n",
      "EvaluatorHoldout: Processed 35595 (100.0%) in 38.81 sec. Users per second: 917\n"
     ]
    },
    {
     "name": "stderr",
     "output_type": "stream",
     "text": [
      "[I 2024-11-18 17:56:57,520] Trial 267 finished with value: 0.04667624644088867 and parameters: {'similarity': 'cosine', 'topK': 89, 'shrink': 904, 'feature_weighting': 'TF-IDF'}. Best is trial 121 with value: 0.04994933299442155.\n"
     ]
    },
    {
     "name": "stdout",
     "output_type": "stream",
     "text": [
      "Similarity column 38121 (100.0%), 2889.04 column/sec. Elapsed time 13.20 sec\n",
      "EvaluatorHoldout: Processed 35595 (100.0%) in 37.57 sec. Users per second: 947\n"
     ]
    },
    {
     "name": "stderr",
     "output_type": "stream",
     "text": [
      "[I 2024-11-18 17:57:48,761] Trial 268 finished with value: 0.047160021137263454 and parameters: {'similarity': 'cosine', 'topK': 62, 'shrink': 873, 'feature_weighting': 'TF-IDF'}. Best is trial 121 with value: 0.04994933299442155.\n"
     ]
    },
    {
     "name": "stdout",
     "output_type": "stream",
     "text": [
      "Similarity column 38121 (100.0%), 2919.47 column/sec. Elapsed time 13.06 sec\n",
      "EvaluatorHoldout: Processed 35595 (100.0%) in 32.22 sec. Users per second: 1105\n"
     ]
    },
    {
     "name": "stderr",
     "output_type": "stream",
     "text": [
      "[I 2024-11-18 17:58:34,458] Trial 269 finished with value: 0.04984681168435722 and parameters: {'similarity': 'cosine', 'topK': 10, 'shrink': 918, 'feature_weighting': 'TF-IDF'}. Best is trial 121 with value: 0.04994933299442155.\n"
     ]
    },
    {
     "name": "stdout",
     "output_type": "stream",
     "text": [
      "Similarity column 38121 (100.0%), 2891.34 column/sec. Elapsed time 13.18 sec\n",
      "EvaluatorHoldout: Processed 35595 (100.0%) in 35.53 sec. Users per second: 1002\n"
     ]
    },
    {
     "name": "stderr",
     "output_type": "stream",
     "text": [
      "[I 2024-11-18 17:59:23,605] Trial 270 finished with value: 0.04793105305052016 and parameters: {'similarity': 'cosine', 'topK': 35, 'shrink': 885, 'feature_weighting': 'TF-IDF'}. Best is trial 121 with value: 0.04994933299442155.\n"
     ]
    },
    {
     "name": "stdout",
     "output_type": "stream",
     "text": [
      "Similarity column 38121 (100.0%), 2871.69 column/sec. Elapsed time 13.27 sec\n",
      "EvaluatorHoldout: Processed 35595 (100.0%) in 37.09 sec. Users per second: 960\n"
     ]
    },
    {
     "name": "stderr",
     "output_type": "stream",
     "text": [
      "[I 2024-11-18 18:00:14,455] Trial 271 finished with value: 0.04699879374889738 and parameters: {'similarity': 'cosine', 'topK': 73, 'shrink': 840, 'feature_weighting': 'TF-IDF'}. Best is trial 121 with value: 0.04994933299442155.\n"
     ]
    },
    {
     "name": "stdout",
     "output_type": "stream",
     "text": [
      "Similarity column 38121 (100.0%), 2651.79 column/sec. Elapsed time 14.38 sec\n",
      "EvaluatorHoldout: Processed 35595 (100.0%) in 37.03 sec. Users per second: 961\n"
     ]
    },
    {
     "name": "stderr",
     "output_type": "stream",
     "text": [
      "[I 2024-11-18 18:01:06,503] Trial 272 finished with value: 0.035521332361196284 and parameters: {'similarity': 'tversky', 'topK': 41, 'shrink': 903, 'feature_weighting': 'TF-IDF', 'tversky_alpha': 0.02482438887548466, 'tversky_beta': 0.8153567477413055}. Best is trial 121 with value: 0.04994933299442155.\n"
     ]
    },
    {
     "name": "stdout",
     "output_type": "stream",
     "text": [
      "Similarity column 38121 (100.0%), 2866.23 column/sec. Elapsed time 13.30 sec\n",
      "EvaluatorHoldout: Processed 35595 (100.0%) in 35.71 sec. Users per second: 997\n"
     ]
    },
    {
     "name": "stderr",
     "output_type": "stream",
     "text": [
      "[I 2024-11-18 18:01:56,033] Trial 273 finished with value: 0.04793104078733903 and parameters: {'similarity': 'cosine', 'topK': 36, 'shrink': 924, 'feature_weighting': 'TF-IDF'}. Best is trial 121 with value: 0.04994933299442155.\n"
     ]
    },
    {
     "name": "stdout",
     "output_type": "stream",
     "text": [
      "Similarity column 38121 (100.0%), 2767.97 column/sec. Elapsed time 13.77 sec\n",
      "EvaluatorHoldout: Processed 35595 (100.0%) in 47.01 sec. Users per second: 757\n"
     ]
    },
    {
     "name": "stderr",
     "output_type": "stream",
     "text": [
      "[I 2024-11-18 18:02:57,871] Trial 274 finished with value: 0.04454054319203769 and parameters: {'similarity': 'cosine', 'topK': 357, 'shrink': 861, 'feature_weighting': 'TF-IDF'}. Best is trial 121 with value: 0.04994933299442155.\n"
     ]
    },
    {
     "name": "stdout",
     "output_type": "stream",
     "text": [
      "Similarity column 38121 (100.0%), 2896.50 column/sec. Elapsed time 13.16 sec\n",
      "EvaluatorHoldout: Processed 35595 (100.0%) in 33.06 sec. Users per second: 1077\n"
     ]
    },
    {
     "name": "stderr",
     "output_type": "stream",
     "text": [
      "[I 2024-11-18 18:03:44,485] Trial 275 finished with value: 0.04985138027678925 and parameters: {'similarity': 'cosine', 'topK': 10, 'shrink': 914, 'feature_weighting': 'TF-IDF'}. Best is trial 121 with value: 0.04994933299442155.\n"
     ]
    },
    {
     "name": "stdout",
     "output_type": "stream",
     "text": [
      "Similarity column 38121 (100.0%), 2836.69 column/sec. Elapsed time 13.44 sec\n",
      "EvaluatorHoldout: Processed 35595 (100.0%) in 38.98 sec. Users per second: 913\n"
     ]
    },
    {
     "name": "stderr",
     "output_type": "stream",
     "text": [
      "[I 2024-11-18 18:04:37,450] Trial 276 finished with value: 0.046743104190215726 and parameters: {'similarity': 'cosine', 'topK': 84, 'shrink': 892, 'feature_weighting': 'TF-IDF'}. Best is trial 121 with value: 0.04994933299442155.\n"
     ]
    },
    {
     "name": "stdout",
     "output_type": "stream",
     "text": [
      "Similarity column 38121 (100.0%), 2811.40 column/sec. Elapsed time 13.56 sec\n",
      "EvaluatorHoldout: Processed 35595 (100.0%) in 38.23 sec. Users per second: 931\n"
     ]
    },
    {
     "name": "stderr",
     "output_type": "stream",
     "text": [
      "[I 2024-11-18 18:05:29,725] Trial 277 finished with value: 0.04286203475162412 and parameters: {'similarity': 'asymmetric', 'topK': 59, 'shrink': 398, 'feature_weighting': 'TF-IDF', 'asymmetric_alpha': 0.7368488854786798}. Best is trial 121 with value: 0.04994933299442155.\n"
     ]
    },
    {
     "name": "stdout",
     "output_type": "stream",
     "text": [
      "Similarity column 38121 (100.0%), 2837.47 column/sec. Elapsed time 13.43 sec\n",
      "EvaluatorHoldout: Processed 35595 (100.0%) in 33.84 sec. Users per second: 1052\n"
     ]
    },
    {
     "name": "stderr",
     "output_type": "stream",
     "text": [
      "[I 2024-11-18 18:06:17,308] Trial 278 finished with value: 0.03732658969848043 and parameters: {'similarity': 'cosine', 'topK': 10, 'shrink': 912, 'feature_weighting': 'none'}. Best is trial 121 with value: 0.04994933299442155.\n"
     ]
    },
    {
     "name": "stdout",
     "output_type": "stream",
     "text": [
      "Similarity column 38121 (100.0%), 2945.07 column/sec. Elapsed time 12.94 sec\n",
      "EvaluatorHoldout: Processed 35595 (100.0%) in 37.14 sec. Users per second: 958\n"
     ]
    },
    {
     "name": "stderr",
     "output_type": "stream",
     "text": [
      "[I 2024-11-18 18:07:07,999] Trial 279 finished with value: 0.04774713877684623 and parameters: {'similarity': 'dice', 'topK': 40, 'shrink': 828, 'feature_weighting': 'BM25'}. Best is trial 121 with value: 0.04994933299442155.\n"
     ]
    },
    {
     "name": "stdout",
     "output_type": "stream",
     "text": [
      "Similarity column 38121 (100.0%), 2898.21 column/sec. Elapsed time 13.15 sec\n",
      "EvaluatorHoldout: Processed 35595 (100.0%) in 31.98 sec. Users per second: 1113\n"
     ]
    },
    {
     "name": "stderr",
     "output_type": "stream",
     "text": [
      "[I 2024-11-18 18:07:53,517] Trial 280 finished with value: 0.04992362602202267 and parameters: {'similarity': 'cosine', 'topK': 10, 'shrink': 876, 'feature_weighting': 'TF-IDF'}. Best is trial 121 with value: 0.04994933299442155.\n"
     ]
    },
    {
     "name": "stdout",
     "output_type": "stream",
     "text": [
      "Similarity column 38121 (100.0%), 2872.82 column/sec. Elapsed time 13.27 sec\n",
      "EvaluatorHoldout: Processed 35595 (100.0%) in 40.70 sec. Users per second: 874\n"
     ]
    },
    {
     "name": "stderr",
     "output_type": "stream",
     "text": [
      "[I 2024-11-18 18:08:48,165] Trial 281 finished with value: 0.036958753347289916 and parameters: {'similarity': 'jaccard', 'topK': 96, 'shrink': 870, 'feature_weighting': 'TF-IDF'}. Best is trial 121 with value: 0.04994933299442155.\n"
     ]
    },
    {
     "name": "stdout",
     "output_type": "stream",
     "text": [
      "Similarity column 38121 (100.0%), 2835.80 column/sec. Elapsed time 13.44 sec\n",
      "EvaluatorHoldout: Processed 35595 (100.0%) in 35.33 sec. Users per second: 1007\n"
     ]
    },
    {
     "name": "stderr",
     "output_type": "stream",
     "text": [
      "[I 2024-11-18 18:09:37,415] Trial 282 finished with value: 0.04665704118422019 and parameters: {'similarity': 'cosine', 'topK': 59, 'shrink': 31, 'feature_weighting': 'TF-IDF'}. Best is trial 121 with value: 0.04994933299442155.\n"
     ]
    },
    {
     "name": "stdout",
     "output_type": "stream",
     "text": [
      "Similarity column 38121 (100.0%), 2895.29 column/sec. Elapsed time 13.17 sec\n",
      "EvaluatorHoldout: Processed 35595 (100.0%) in 34.91 sec. Users per second: 1020\n"
     ]
    },
    {
     "name": "stderr",
     "output_type": "stream",
     "text": [
      "[I 2024-11-18 18:10:25,924] Trial 283 finished with value: 0.0478389844302174 and parameters: {'similarity': 'cosine', 'topK': 40, 'shrink': 849, 'feature_weighting': 'TF-IDF'}. Best is trial 121 with value: 0.04994933299442155.\n"
     ]
    },
    {
     "name": "stdout",
     "output_type": "stream",
     "text": [
      "Similarity column 38121 (100.0%), 2863.94 column/sec. Elapsed time 13.31 sec\n",
      "EvaluatorHoldout: Processed 35595 (100.0%) in 35.45 sec. Users per second: 1004\n"
     ]
    },
    {
     "name": "stderr",
     "output_type": "stream",
     "text": [
      "[I 2024-11-18 18:11:15,167] Trial 284 finished with value: 0.0479255413079667 and parameters: {'similarity': 'cosine', 'topK': 36, 'shrink': 886, 'feature_weighting': 'TF-IDF'}. Best is trial 121 with value: 0.04994933299442155.\n"
     ]
    },
    {
     "name": "stdout",
     "output_type": "stream",
     "text": [
      "Similarity column 38121 (100.0%), 2852.88 column/sec. Elapsed time 13.36 sec\n",
      "EvaluatorHoldout: Processed 35595 (100.0%) in 40.05 sec. Users per second: 889\n"
     ]
    },
    {
     "name": "stderr",
     "output_type": "stream",
     "text": [
      "[I 2024-11-18 18:12:09,187] Trial 285 finished with value: 0.04616927872427092 and parameters: {'similarity': 'cosine', 'topK': 122, 'shrink': 870, 'feature_weighting': 'TF-IDF'}. Best is trial 121 with value: 0.04994933299442155.\n"
     ]
    },
    {
     "name": "stdout",
     "output_type": "stream",
     "text": [
      "Similarity column 38121 (100.0%), 2872.39 column/sec. Elapsed time 13.27 sec\n",
      "EvaluatorHoldout: Processed 35595 (100.0%) in 37.80 sec. Users per second: 942\n"
     ]
    },
    {
     "name": "stderr",
     "output_type": "stream",
     "text": [
      "[I 2024-11-18 18:13:00,755] Trial 286 finished with value: 0.04700468565006971 and parameters: {'similarity': 'cosine', 'topK': 71, 'shrink': 905, 'feature_weighting': 'TF-IDF'}. Best is trial 121 with value: 0.04994933299442155.\n"
     ]
    },
    {
     "name": "stdout",
     "output_type": "stream",
     "text": [
      "Similarity column 38121 (100.0%), 2878.32 column/sec. Elapsed time 13.24 sec\n",
      "EvaluatorHoldout: Processed 35595 (100.0%) in 35.48 sec. Users per second: 1003\n"
     ]
    },
    {
     "name": "stderr",
     "output_type": "stream",
     "text": [
      "[I 2024-11-18 18:13:49,923] Trial 287 finished with value: 0.047823019997902276 and parameters: {'similarity': 'cosine', 'topK': 39, 'shrink': 816, 'feature_weighting': 'TF-IDF'}. Best is trial 121 with value: 0.04994933299442155.\n"
     ]
    },
    {
     "name": "stdout",
     "output_type": "stream",
     "text": [
      "Similarity column 38121 (100.0%), 2909.62 column/sec. Elapsed time 13.10 sec\n",
      "EvaluatorHoldout: Processed 35595 (100.0%) in 34.54 sec. Users per second: 1030\n"
     ]
    },
    {
     "name": "stderr",
     "output_type": "stream",
     "text": [
      "[I 2024-11-18 18:14:38,003] Trial 288 finished with value: 0.048008279877009404 and parameters: {'similarity': 'cosine', 'topK': 34, 'shrink': 857, 'feature_weighting': 'TF-IDF'}. Best is trial 121 with value: 0.04994933299442155.\n"
     ]
    },
    {
     "name": "stdout",
     "output_type": "stream",
     "text": [
      "Similarity column 38121 (100.0%), 462.44 column/sec. Elapsed time 1.37 min\n",
      "EvaluatorHoldout: Processed 35595 (100.0%) in 27.68 sec. Users per second: 1286\n"
     ]
    },
    {
     "name": "stderr",
     "output_type": "stream",
     "text": [
      "[I 2024-11-18 18:16:28,526] Trial 289 finished with value: 0.02786422094239185 and parameters: {'similarity': 'euclidean', 'topK': 68, 'shrink': 886, 'feature_weighting': 'TF-IDF', 'normalize_avg_row': True, 'similarity_from_distance_mode': 'log', 'normalize': False}. Best is trial 121 with value: 0.04994933299442155.\n"
     ]
    },
    {
     "name": "stdout",
     "output_type": "stream",
     "text": [
      "Similarity column 38121 (100.0%), 2916.97 column/sec. Elapsed time 13.07 sec\n",
      "EvaluatorHoldout: Processed 35595 (100.0%) in 32.19 sec. Users per second: 1106\n"
     ]
    },
    {
     "name": "stderr",
     "output_type": "stream",
     "text": [
      "[I 2024-11-18 18:17:14,275] Trial 290 finished with value: 0.04937769817858145 and parameters: {'similarity': 'cosine', 'topK': 13, 'shrink': 842, 'feature_weighting': 'TF-IDF'}. Best is trial 121 with value: 0.04994933299442155.\n"
     ]
    },
    {
     "name": "stdout",
     "output_type": "stream",
     "text": [
      "Similarity column 38121 (100.0%), 2835.83 column/sec. Elapsed time 13.44 sec\n",
      "EvaluatorHoldout: Processed 35595 (100.0%) in 38.62 sec. Users per second: 922\n"
     ]
    },
    {
     "name": "stderr",
     "output_type": "stream",
     "text": [
      "[I 2024-11-18 18:18:06,833] Trial 291 finished with value: 0.04656114310686431 and parameters: {'similarity': 'cosine', 'topK': 95, 'shrink': 915, 'feature_weighting': 'TF-IDF'}. Best is trial 121 with value: 0.04994933299442155.\n"
     ]
    },
    {
     "name": "stdout",
     "output_type": "stream",
     "text": [
      "Similarity column 38121 (100.0%), 2908.35 column/sec. Elapsed time 13.11 sec\n",
      "EvaluatorHoldout: Processed 35595 (100.0%) in 32.38 sec. Users per second: 1099\n"
     ]
    },
    {
     "name": "stderr",
     "output_type": "stream",
     "text": [
      "[I 2024-11-18 18:18:52,721] Trial 292 finished with value: 0.04961626499173696 and parameters: {'similarity': 'cosine', 'topK': 11, 'shrink': 887, 'feature_weighting': 'TF-IDF'}. Best is trial 121 with value: 0.04994933299442155.\n"
     ]
    },
    {
     "name": "stdout",
     "output_type": "stream",
     "text": [
      "Similarity column 38121 (100.0%), 2911.26 column/sec. Elapsed time 13.09 sec\n",
      "EvaluatorHoldout: Processed 35595 (100.0%) in 36.42 sec. Users per second: 977\n"
     ]
    },
    {
     "name": "stderr",
     "output_type": "stream",
     "text": [
      "[I 2024-11-18 18:19:42,696] Trial 293 finished with value: 0.04711250353959838 and parameters: {'similarity': 'cosine', 'topK': 63, 'shrink': 915, 'feature_weighting': 'TF-IDF'}. Best is trial 121 with value: 0.04994933299442155.\n"
     ]
    },
    {
     "name": "stdout",
     "output_type": "stream",
     "text": [
      "Similarity column 38121 (100.0%), 2906.84 column/sec. Elapsed time 13.11 sec\n",
      "EvaluatorHoldout: Processed 35595 (100.0%) in 35.02 sec. Users per second: 1016\n"
     ]
    },
    {
     "name": "stderr",
     "output_type": "stream",
     "text": [
      "[I 2024-11-18 18:20:31,276] Trial 294 finished with value: 0.047818091313875516 and parameters: {'similarity': 'cosine', 'topK': 39, 'shrink': 873, 'feature_weighting': 'TF-IDF'}. Best is trial 121 with value: 0.04994933299442155.\n"
     ]
    },
    {
     "name": "stdout",
     "output_type": "stream",
     "text": [
      "Similarity column 38121 (100.0%), 2901.56 column/sec. Elapsed time 13.14 sec\n",
      "EvaluatorHoldout: Processed 35595 (100.0%) in 35.11 sec. Users per second: 1014\n"
     ]
    },
    {
     "name": "stderr",
     "output_type": "stream",
     "text": [
      "[I 2024-11-18 18:21:19,960] Trial 295 finished with value: 0.047909463162516375 and parameters: {'similarity': 'cosine', 'topK': 36, 'shrink': 795, 'feature_weighting': 'TF-IDF'}. Best is trial 121 with value: 0.04994933299442155.\n"
     ]
    },
    {
     "name": "stdout",
     "output_type": "stream",
     "text": [
      "Similarity column 38121 (100.0%), 2894.90 column/sec. Elapsed time 13.17 sec\n",
      "EvaluatorHoldout: Processed 35595 (100.0%) in 32.16 sec. Users per second: 1107\n"
     ]
    },
    {
     "name": "stderr",
     "output_type": "stream",
     "text": [
      "[I 2024-11-18 18:22:05,703] Trial 296 finished with value: 0.050162974334274815 and parameters: {'similarity': 'cosine', 'topK': 10, 'shrink': 487, 'feature_weighting': 'TF-IDF'}. Best is trial 296 with value: 0.050162974334274815.\n"
     ]
    },
    {
     "name": "stdout",
     "output_type": "stream",
     "text": [
      "Similarity column 38121 (100.0%), 2888.92 column/sec. Elapsed time 13.20 sec\n",
      "EvaluatorHoldout: Processed 35595 (100.0%) in 37.31 sec. Users per second: 954\n"
     ]
    },
    {
     "name": "stderr",
     "output_type": "stream",
     "text": [
      "[I 2024-11-18 18:22:56,765] Trial 297 finished with value: 0.04714728861062439 and parameters: {'similarity': 'cosine', 'topK': 69, 'shrink': 550, 'feature_weighting': 'TF-IDF'}. Best is trial 296 with value: 0.050162974334274815.\n"
     ]
    },
    {
     "name": "stdout",
     "output_type": "stream",
     "text": [
      "Similarity column 38121 (100.0%), 2867.47 column/sec. Elapsed time 13.29 sec\n",
      "EvaluatorHoldout: Processed 35595 (100.0%) in 35.80 sec. Users per second: 994\n"
     ]
    },
    {
     "name": "stderr",
     "output_type": "stream",
     "text": [
      "[I 2024-11-18 18:23:46,292] Trial 298 finished with value: 0.04783431215816197 and parameters: {'similarity': 'cosine', 'topK': 38, 'shrink': 826, 'feature_weighting': 'TF-IDF'}. Best is trial 296 with value: 0.050162974334274815.\n"
     ]
    },
    {
     "name": "stdout",
     "output_type": "stream",
     "text": [
      "Similarity column 38121 (100.0%), 2693.84 column/sec. Elapsed time 14.15 sec\n",
      "EvaluatorHoldout: Processed 35595 (100.0%) in 58.19 sec. Users per second: 612\n"
     ]
    },
    {
     "name": "stderr",
     "output_type": "stream",
     "text": [
      "[I 2024-11-18 18:25:00,567] Trial 299 finished with value: 0.04353304927346051 and parameters: {'similarity': 'cosine', 'topK': 878, 'shrink': 495, 'feature_weighting': 'TF-IDF'}. Best is trial 296 with value: 0.050162974334274815.\n"
     ]
    },
    {
     "name": "stdout",
     "output_type": "stream",
     "text": [
      "Similarity column 38121 (100.0%), 2676.37 column/sec. Elapsed time 14.24 sec\n",
      "EvaluatorHoldout: Processed 35595 (100.0%) in 33.58 sec. Users per second: 1060\n"
     ]
    },
    {
     "name": "stderr",
     "output_type": "stream",
     "text": [
      "[I 2024-11-18 18:25:48,909] Trial 300 finished with value: 0.041301690981208984 and parameters: {'similarity': 'tversky', 'topK': 12, 'shrink': 514, 'feature_weighting': 'none', 'tversky_alpha': 0.4188810514047818, 'tversky_beta': 1.2946150095193443}. Best is trial 296 with value: 0.050162974334274815.\n"
     ]
    },
    {
     "name": "stdout",
     "output_type": "stream",
     "text": [
      "Similarity column 38121 (100.0%), 2858.00 column/sec. Elapsed time 13.34 sec\n",
      "EvaluatorHoldout: Processed 35595 (100.0%) in 38.85 sec. Users per second: 916\n"
     ]
    },
    {
     "name": "stderr",
     "output_type": "stream",
     "text": [
      "[I 2024-11-18 18:26:41,624] Trial 301 finished with value: 0.04646627290706358 and parameters: {'similarity': 'cosine', 'topK': 111, 'shrink': 501, 'feature_weighting': 'TF-IDF'}. Best is trial 296 with value: 0.050162974334274815.\n"
     ]
    },
    {
     "name": "stdout",
     "output_type": "stream",
     "text": [
      "Similarity column 38121 (100.0%), 2870.78 column/sec. Elapsed time 13.28 sec\n",
      "EvaluatorHoldout: Processed 35595 (100.0%) in 35.34 sec. Users per second: 1007\n"
     ]
    },
    {
     "name": "stderr",
     "output_type": "stream",
     "text": [
      "[I 2024-11-18 18:27:30,718] Trial 302 finished with value: 0.042093668408037015 and parameters: {'similarity': 'cosine', 'topK': 61, 'shrink': 861, 'feature_weighting': 'BM25'}. Best is trial 296 with value: 0.050162974334274815.\n"
     ]
    },
    {
     "name": "stdout",
     "output_type": "stream",
     "text": [
      "Similarity column 38121 (100.0%), 2894.47 column/sec. Elapsed time 13.17 sec\n",
      "EvaluatorHoldout: Processed 35595 (100.0%) in 32.03 sec. Users per second: 1111\n"
     ]
    },
    {
     "name": "stderr",
     "output_type": "stream",
     "text": [
      "[I 2024-11-18 18:28:16,312] Trial 303 finished with value: 0.050059829831635996 and parameters: {'similarity': 'cosine', 'topK': 11, 'shrink': 476, 'feature_weighting': 'TF-IDF'}. Best is trial 296 with value: 0.050162974334274815.\n"
     ]
    },
    {
     "name": "stdout",
     "output_type": "stream",
     "text": [
      "Similarity column 38121 (100.0%), 2870.97 column/sec. Elapsed time 13.28 sec\n",
      "EvaluatorHoldout: Processed 35595 (100.0%) in 32.08 sec. Users per second: 1110\n"
     ]
    },
    {
     "name": "stderr",
     "output_type": "stream",
     "text": [
      "[I 2024-11-18 18:29:02,074] Trial 304 finished with value: 0.05017742928046168 and parameters: {'similarity': 'cosine', 'topK': 10, 'shrink': 521, 'feature_weighting': 'TF-IDF'}. Best is trial 304 with value: 0.05017742928046168.\n"
     ]
    },
    {
     "name": "stdout",
     "output_type": "stream",
     "text": [
      "Similarity column 38121 (100.0%), 2863.54 column/sec. Elapsed time 13.31 sec\n",
      "EvaluatorHoldout: Processed 35595 (100.0%) in 38.01 sec. Users per second: 936\n"
     ]
    },
    {
     "name": "stderr",
     "output_type": "stream",
     "text": [
      "[I 2024-11-18 18:29:53,895] Trial 305 finished with value: 0.04675033277814398 and parameters: {'similarity': 'cosine', 'topK': 87, 'shrink': 834, 'feature_weighting': 'TF-IDF'}. Best is trial 304 with value: 0.05017742928046168.\n"
     ]
    },
    {
     "name": "stdout",
     "output_type": "stream",
     "text": [
      "Similarity column 38121 (100.0%), 2857.33 column/sec. Elapsed time 13.34 sec\n",
      "EvaluatorHoldout: Processed 35595 (100.0%) in 41.48 sec. Users per second: 858\n"
     ]
    },
    {
     "name": "stderr",
     "output_type": "stream",
     "text": [
      "[I 2024-11-18 18:30:49,185] Trial 306 finished with value: 0.01991731605785529 and parameters: {'similarity': 'asymmetric', 'topK': 46, 'shrink': 449, 'feature_weighting': 'TF-IDF', 'asymmetric_alpha': 1.6216612744076107}. Best is trial 304 with value: 0.05017742928046168.\n"
     ]
    },
    {
     "name": "stdout",
     "output_type": "stream",
     "text": [
      "Similarity column 38121 (100.0%), 2973.27 column/sec. Elapsed time 12.82 sec\n",
      "EvaluatorHoldout: Processed 35595 (100.0%) in 32.62 sec. Users per second: 1091\n"
     ]
    },
    {
     "name": "stderr",
     "output_type": "stream",
     "text": [
      "[I 2024-11-18 18:31:35,204] Trial 307 finished with value: 0.04188282864768165 and parameters: {'similarity': 'dice', 'topK': 10, 'shrink': 469, 'feature_weighting': 'TF-IDF'}. Best is trial 304 with value: 0.05017742928046168.\n"
     ]
    },
    {
     "name": "stdout",
     "output_type": "stream",
     "text": [
      "Similarity column 38121 (100.0%), 2838.53 column/sec. Elapsed time 13.43 sec\n",
      "EvaluatorHoldout: Processed 35595 (100.0%) in 36.35 sec. Users per second: 979\n"
     ]
    },
    {
     "name": "stderr",
     "output_type": "stream",
     "text": [
      "[I 2024-11-18 18:32:25,446] Trial 308 finished with value: 0.04728393389476257 and parameters: {'similarity': 'cosine', 'topK': 60, 'shrink': 478, 'feature_weighting': 'TF-IDF'}. Best is trial 304 with value: 0.05017742928046168.\n"
     ]
    },
    {
     "name": "stdout",
     "output_type": "stream",
     "text": [
      "Similarity column 38121 (100.0%), 2758.01 column/sec. Elapsed time 13.82 sec\n",
      "EvaluatorHoldout: Processed 35595 (100.0%) in 49.05 sec. Users per second: 726\n"
     ]
    },
    {
     "name": "stderr",
     "output_type": "stream",
     "text": [
      "[I 2024-11-18 18:33:29,349] Trial 309 finished with value: 0.044369952307371646 and parameters: {'similarity': 'cosine', 'topK': 447, 'shrink': 531, 'feature_weighting': 'TF-IDF'}. Best is trial 304 with value: 0.05017742928046168.\n"
     ]
    },
    {
     "name": "stdout",
     "output_type": "stream",
     "text": [
      "Similarity column 38121 (100.0%), 2875.90 column/sec. Elapsed time 13.26 sec\n",
      "EvaluatorHoldout: Processed 35595 (100.0%) in 36.49 sec. Users per second: 975\n"
     ]
    },
    {
     "name": "stderr",
     "output_type": "stream",
     "text": [
      "[I 2024-11-18 18:34:19,712] Trial 310 finished with value: 0.04048520279957126 and parameters: {'similarity': 'jaccard', 'topK': 40, 'shrink': 504, 'feature_weighting': 'TF-IDF'}. Best is trial 304 with value: 0.05017742928046168.\n"
     ]
    },
    {
     "name": "stdout",
     "output_type": "stream",
     "text": [
      "Similarity column 38121 (100.0%), 2921.41 column/sec. Elapsed time 13.05 sec\n",
      "EvaluatorHoldout: Processed 35595 (100.0%) in 31.97 sec. Users per second: 1113\n"
     ]
    },
    {
     "name": "stderr",
     "output_type": "stream",
     "text": [
      "[I 2024-11-18 18:35:05,132] Trial 311 finished with value: 0.04992678211894203 and parameters: {'similarity': 'cosine', 'topK': 10, 'shrink': 805, 'feature_weighting': 'TF-IDF'}. Best is trial 304 with value: 0.05017742928046168.\n"
     ]
    },
    {
     "name": "stdout",
     "output_type": "stream",
     "text": [
      "Similarity column 38121 (100.0%), 2866.65 column/sec. Elapsed time 13.30 sec\n",
      "EvaluatorHoldout: Processed 35595 (100.0%) in 38.38 sec. Users per second: 927\n"
     ]
    },
    {
     "name": "stderr",
     "output_type": "stream",
     "text": [
      "[I 2024-11-18 18:35:57,385] Trial 312 finished with value: 0.0467714611245989 and parameters: {'similarity': 'cosine', 'topK': 93, 'shrink': 487, 'feature_weighting': 'TF-IDF'}. Best is trial 304 with value: 0.05017742928046168.\n"
     ]
    },
    {
     "name": "stdout",
     "output_type": "stream",
     "text": [
      "Similarity column 38121 (100.0%), 2857.63 column/sec. Elapsed time 13.34 sec\n",
      "EvaluatorHoldout: Processed 35595 (100.0%) in 40.54 sec. Users per second: 878\n"
     ]
    },
    {
     "name": "stderr",
     "output_type": "stream",
     "text": [
      "[I 2024-11-18 18:36:51,826] Trial 313 finished with value: 0.04600632891635682 and parameters: {'similarity': 'cosine', 'topK': 136, 'shrink': 808, 'feature_weighting': 'TF-IDF'}. Best is trial 304 with value: 0.05017742928046168.\n"
     ]
    },
    {
     "name": "stdout",
     "output_type": "stream",
     "text": [
      "Similarity column 38121 (100.0%), 2876.40 column/sec. Elapsed time 13.25 sec\n",
      "EvaluatorHoldout: Processed 35595 (100.0%) in 34.35 sec. Users per second: 1036\n"
     ]
    },
    {
     "name": "stderr",
     "output_type": "stream",
     "text": [
      "[I 2024-11-18 18:37:39,871] Trial 314 finished with value: 0.047480200536456595 and parameters: {'similarity': 'cosine', 'topK': 38, 'shrink': 95, 'feature_weighting': 'TF-IDF'}. Best is trial 304 with value: 0.05017742928046168.\n"
     ]
    },
    {
     "name": "stdout",
     "output_type": "stream",
     "text": [
      "Similarity column 38121 (100.0%), 2892.90 column/sec. Elapsed time 13.18 sec\n",
      "EvaluatorHoldout: Processed 35595 (100.0%) in 32.39 sec. Users per second: 1099\n"
     ]
    },
    {
     "name": "stderr",
     "output_type": "stream",
     "text": [
      "[I 2024-11-18 18:38:25,839] Trial 315 finished with value: 0.050232338231915176 and parameters: {'similarity': 'cosine', 'topK': 10, 'shrink': 459, 'feature_weighting': 'TF-IDF'}. Best is trial 315 with value: 0.050232338231915176.\n"
     ]
    },
    {
     "name": "stdout",
     "output_type": "stream",
     "text": [
      "Similarity column 38121 (100.0%), 2848.67 column/sec. Elapsed time 13.38 sec\n",
      "EvaluatorHoldout: Processed 35595 (100.0%) in 36.43 sec. Users per second: 977\n"
     ]
    },
    {
     "name": "stderr",
     "output_type": "stream",
     "text": [
      "[I 2024-11-18 18:39:16,134] Trial 316 finished with value: 0.04725691030263145 and parameters: {'similarity': 'cosine', 'topK': 61, 'shrink': 438, 'feature_weighting': 'TF-IDF'}. Best is trial 315 with value: 0.050232338231915176.\n"
     ]
    },
    {
     "name": "stdout",
     "output_type": "stream",
     "text": [
      "Similarity column 38121 (100.0%), 2855.11 column/sec. Elapsed time 13.35 sec\n",
      "EvaluatorHoldout: Processed 35595 (100.0%) in 36.77 sec. Users per second: 968\n"
     ]
    },
    {
     "name": "stderr",
     "output_type": "stream",
     "text": [
      "[I 2024-11-18 18:40:06,808] Trial 317 finished with value: 0.047917116502449786 and parameters: {'similarity': 'cosine', 'topK': 43, 'shrink': 453, 'feature_weighting': 'TF-IDF'}. Best is trial 315 with value: 0.050232338231915176.\n"
     ]
    },
    {
     "name": "stdout",
     "output_type": "stream",
     "text": [
      "Similarity column 38121 (100.0%), 415.22 column/sec. Elapsed time 1.53 min\n",
      "EvaluatorHoldout: Processed 35595 (100.0%) in 37.09 sec. Users per second: 960\n"
     ]
    },
    {
     "name": "stderr",
     "output_type": "stream",
     "text": [
      "[I 2024-11-18 18:42:16,197] Trial 318 finished with value: 0.027957140181538873 and parameters: {'similarity': 'euclidean', 'topK': 83, 'shrink': 461, 'feature_weighting': 'TF-IDF', 'normalize_avg_row': False, 'similarity_from_distance_mode': 'exp', 'normalize': True}. Best is trial 315 with value: 0.050232338231915176.\n"
     ]
    },
    {
     "name": "stdout",
     "output_type": "stream",
     "text": [
      "Similarity column 38121 (100.0%), 2878.02 column/sec. Elapsed time 13.25 sec\n",
      "EvaluatorHoldout: Processed 35595 (100.0%) in 35.17 sec. Users per second: 1012\n"
     ]
    },
    {
     "name": "stderr",
     "output_type": "stream",
     "text": [
      "[I 2024-11-18 18:43:05,049] Trial 319 finished with value: 0.0480567762995051 and parameters: {'similarity': 'cosine', 'topK': 37, 'shrink': 424, 'feature_weighting': 'TF-IDF'}. Best is trial 315 with value: 0.050232338231915176.\n"
     ]
    },
    {
     "name": "stdout",
     "output_type": "stream",
     "text": [
      "Similarity column 38121 (100.0%), 2842.87 column/sec. Elapsed time 13.41 sec\n",
      "EvaluatorHoldout: Processed 35595 (100.0%) in 36.30 sec. Users per second: 981\n"
     ]
    },
    {
     "name": "stderr",
     "output_type": "stream",
     "text": [
      "[I 2024-11-18 18:43:55,269] Trial 320 finished with value: 0.04711755262576847 and parameters: {'similarity': 'cosine', 'topK': 68, 'shrink': 413, 'feature_weighting': 'TF-IDF'}. Best is trial 315 with value: 0.050232338231915176.\n"
     ]
    },
    {
     "name": "stdout",
     "output_type": "stream",
     "text": [
      "Similarity column 38121 (100.0%), 2894.42 column/sec. Elapsed time 13.17 sec\n",
      "EvaluatorHoldout: Processed 35595 (100.0%) in 32.67 sec. Users per second: 1089\n"
     ]
    },
    {
     "name": "stderr",
     "output_type": "stream",
     "text": [
      "[I 2024-11-18 18:44:41,508] Trial 321 finished with value: 0.049686207488565406 and parameters: {'similarity': 'cosine', 'topK': 11, 'shrink': 787, 'feature_weighting': 'TF-IDF'}. Best is trial 315 with value: 0.050232338231915176.\n"
     ]
    },
    {
     "name": "stdout",
     "output_type": "stream",
     "text": [
      "Similarity column 38121 (100.0%), 2880.46 column/sec. Elapsed time 13.23 sec\n",
      "EvaluatorHoldout: Processed 35595 (100.0%) in 35.37 sec. Users per second: 1006\n"
     ]
    },
    {
     "name": "stderr",
     "output_type": "stream",
     "text": [
      "[I 2024-11-18 18:45:30,550] Trial 322 finished with value: 0.048049530989057065 and parameters: {'similarity': 'cosine', 'topK': 36, 'shrink': 459, 'feature_weighting': 'TF-IDF'}. Best is trial 315 with value: 0.050232338231915176.\n"
     ]
    },
    {
     "name": "stdout",
     "output_type": "stream",
     "text": [
      "Similarity column 38121 (100.0%), 2839.98 column/sec. Elapsed time 13.42 sec\n",
      "EvaluatorHoldout: Processed 35595 (100.0%) in 37.97 sec. Users per second: 937\n"
     ]
    },
    {
     "name": "stderr",
     "output_type": "stream",
     "text": [
      "[I 2024-11-18 18:46:22,468] Trial 323 finished with value: 0.04653595118807746 and parameters: {'similarity': 'cosine', 'topK': 105, 'shrink': 347, 'feature_weighting': 'TF-IDF'}. Best is trial 315 with value: 0.050232338231915176.\n"
     ]
    },
    {
     "name": "stdout",
     "output_type": "stream",
     "text": [
      "Similarity column 38121 (100.0%), 2837.01 column/sec. Elapsed time 13.44 sec\n",
      "EvaluatorHoldout: Processed 35595 (100.0%) in 34.28 sec. Users per second: 1038\n"
     ]
    },
    {
     "name": "stderr",
     "output_type": "stream",
     "text": [
      "[I 2024-11-18 18:47:10,490] Trial 324 finished with value: 0.04169842719126168 and parameters: {'similarity': 'cosine', 'topK': 10, 'shrink': 241, 'feature_weighting': 'none'}. Best is trial 315 with value: 0.050232338231915176.\n"
     ]
    },
    {
     "name": "stdout",
     "output_type": "stream",
     "text": [
      "Similarity column 38121 (100.0%), 2879.06 column/sec. Elapsed time 13.24 sec\n",
      "EvaluatorHoldout: Processed 35595 (100.0%) in 36.62 sec. Users per second: 972\n"
     ]
    },
    {
     "name": "stderr",
     "output_type": "stream",
     "text": [
      "[I 2024-11-18 18:48:00,853] Trial 325 finished with value: 0.04200254070818617 and parameters: {'similarity': 'cosine', 'topK': 61, 'shrink': 494, 'feature_weighting': 'BM25'}. Best is trial 315 with value: 0.050232338231915176.\n"
     ]
    },
    {
     "name": "stdout",
     "output_type": "stream",
     "text": [
      "Similarity column 38121 (100.0%), 2849.98 column/sec. Elapsed time 13.38 sec\n",
      "EvaluatorHoldout: Processed 35595 (100.0%) in 35.11 sec. Users per second: 1014\n"
     ]
    },
    {
     "name": "stderr",
     "output_type": "stream",
     "text": [
      "[I 2024-11-18 18:48:49,859] Trial 326 finished with value: 0.04806544302414315 and parameters: {'similarity': 'cosine', 'topK': 36, 'shrink': 435, 'feature_weighting': 'TF-IDF'}. Best is trial 315 with value: 0.050232338231915176.\n"
     ]
    },
    {
     "name": "stdout",
     "output_type": "stream",
     "text": [
      "Similarity column 38121 (100.0%), 2919.84 column/sec. Elapsed time 13.06 sec\n",
      "EvaluatorHoldout: Processed 35595 (100.0%) in 31.78 sec. Users per second: 1120\n"
     ]
    },
    {
     "name": "stderr",
     "output_type": "stream",
     "text": [
      "[I 2024-11-18 18:49:35,096] Trial 327 finished with value: 0.0499307397819809 and parameters: {'similarity': 'cosine', 'topK': 10, 'shrink': 843, 'feature_weighting': 'TF-IDF'}. Best is trial 315 with value: 0.050232338231915176.\n"
     ]
    },
    {
     "name": "stdout",
     "output_type": "stream",
     "text": [
      "Similarity column 38121 (100.0%), 2852.55 column/sec. Elapsed time 13.36 sec\n",
      "EvaluatorHoldout: Processed 35595 (100.0%) in 39.18 sec. Users per second: 908\n"
     ]
    },
    {
     "name": "stderr",
     "output_type": "stream",
     "text": [
      "[I 2024-11-18 18:50:28,148] Trial 328 finished with value: 0.046850165107011156 and parameters: {'similarity': 'cosine', 'topK': 83, 'shrink': 821, 'feature_weighting': 'TF-IDF'}. Best is trial 315 with value: 0.050232338231915176.\n"
     ]
    },
    {
     "name": "stdout",
     "output_type": "stream",
     "text": [
      "Similarity column 38121 (100.0%), 2632.74 column/sec. Elapsed time 14.48 sec\n",
      "EvaluatorHoldout: Processed 35595 (100.0%) in 1.07 min. Users per second: 555\n"
     ]
    },
    {
     "name": "stderr",
     "output_type": "stream",
     "text": [
      "[I 2024-11-18 18:51:49,473] Trial 329 finished with value: 0.04264243462051979 and parameters: {'similarity': 'cosine', 'topK': 1230, 'shrink': 770, 'feature_weighting': 'TF-IDF'}. Best is trial 315 with value: 0.050232338231915176.\n"
     ]
    },
    {
     "name": "stdout",
     "output_type": "stream",
     "text": [
      "Similarity column 38121 (100.0%), 2885.85 column/sec. Elapsed time 13.21 sec\n",
      "EvaluatorHoldout: Processed 35595 (100.0%) in 34.59 sec. Users per second: 1029\n"
     ]
    },
    {
     "name": "stderr",
     "output_type": "stream",
     "text": [
      "[I 2024-11-18 18:52:37,706] Trial 330 finished with value: 0.047939016314488304 and parameters: {'similarity': 'cosine', 'topK': 39, 'shrink': 476, 'feature_weighting': 'TF-IDF'}. Best is trial 315 with value: 0.050232338231915176.\n"
     ]
    },
    {
     "name": "stdout",
     "output_type": "stream",
     "text": [
      "Similarity column 38121 (100.0%), 2647.70 column/sec. Elapsed time 14.40 sec\n",
      "EvaluatorHoldout: Processed 35595 (100.0%) in 39.23 sec. Users per second: 907\n"
     ]
    },
    {
     "name": "stderr",
     "output_type": "stream",
     "text": [
      "[I 2024-11-18 18:53:32,009] Trial 331 finished with value: 0.03830173891909947 and parameters: {'similarity': 'tversky', 'topK': 61, 'shrink': 842, 'feature_weighting': 'TF-IDF', 'tversky_alpha': 1.524283550828847, 'tversky_beta': 0.34119954779799766}. Best is trial 315 with value: 0.050232338231915176.\n"
     ]
    },
    {
     "name": "stdout",
     "output_type": "stream",
     "text": [
      "Similarity column 38121 (100.0%), 2687.64 column/sec. Elapsed time 14.18 sec\n",
      "EvaluatorHoldout: Processed 35595 (100.0%) in 1.01 min. Users per second: 588\n"
     ]
    },
    {
     "name": "stderr",
     "output_type": "stream",
     "text": [
      "[I 2024-11-18 18:54:48,584] Trial 332 finished with value: 0.04300625756693852 and parameters: {'similarity': 'cosine', 'topK': 1030, 'shrink': 688, 'feature_weighting': 'TF-IDF'}. Best is trial 315 with value: 0.050232338231915176.\n"
     ]
    },
    {
     "name": "stdout",
     "output_type": "stream",
     "text": [
      "Similarity column 38121 (100.0%), 2858.95 column/sec. Elapsed time 13.33 sec\n",
      "EvaluatorHoldout: Processed 35595 (100.0%) in 34.86 sec. Users per second: 1021\n"
     ]
    },
    {
     "name": "stderr",
     "output_type": "stream",
     "text": [
      "[I 2024-11-18 18:55:37,240] Trial 333 finished with value: 0.04803477169300822 and parameters: {'similarity': 'cosine', 'topK': 36, 'shrink': 657, 'feature_weighting': 'TF-IDF'}. Best is trial 315 with value: 0.050232338231915176.\n"
     ]
    },
    {
     "name": "stdout",
     "output_type": "stream",
     "text": [
      "Similarity column 38121 (100.0%), 2895.63 column/sec. Elapsed time 13.17 sec\n",
      "EvaluatorHoldout: Processed 35595 (100.0%) in 32.49 sec. Users per second: 1096\n"
     ]
    },
    {
     "name": "stderr",
     "output_type": "stream",
     "text": [
      "[I 2024-11-18 18:56:23,289] Trial 334 finished with value: 0.04992604967257115 and parameters: {'similarity': 'cosine', 'topK': 10, 'shrink': 804, 'feature_weighting': 'TF-IDF'}. Best is trial 315 with value: 0.050232338231915176.\n"
     ]
    },
    {
     "name": "stdout",
     "output_type": "stream",
     "text": [
      "Similarity column 38121 (100.0%), 2889.83 column/sec. Elapsed time 13.19 sec\n",
      "EvaluatorHoldout: Processed 35595 (100.0%) in 34.68 sec. Users per second: 1026\n"
     ]
    },
    {
     "name": "stderr",
     "output_type": "stream",
     "text": [
      "[I 2024-11-18 18:57:11,583] Trial 335 finished with value: 0.039861042548778335 and parameters: {'similarity': 'asymmetric', 'topK': 10, 'shrink': 789, 'feature_weighting': 'TF-IDF', 'asymmetric_alpha': 0.9633293491534307}. Best is trial 315 with value: 0.050232338231915176.\n"
     ]
    },
    {
     "name": "stdout",
     "output_type": "stream",
     "text": [
      "Similarity column 38121 (100.0%), 2944.84 column/sec. Elapsed time 12.95 sec\n",
      "EvaluatorHoldout: Processed 35595 (100.0%) in 38.63 sec. Users per second: 921\n"
     ]
    },
    {
     "name": "stderr",
     "output_type": "stream",
     "text": [
      "[I 2024-11-18 18:58:03,845] Trial 336 finished with value: 0.03829865194192891 and parameters: {'similarity': 'dice', 'topK': 64, 'shrink': 795, 'feature_weighting': 'TF-IDF'}. Best is trial 315 with value: 0.050232338231915176.\n"
     ]
    },
    {
     "name": "stdout",
     "output_type": "stream",
     "text": [
      "Similarity column 38121 (100.0%), 2852.62 column/sec. Elapsed time 13.36 sec\n",
      "EvaluatorHoldout: Processed 35595 (100.0%) in 40.67 sec. Users per second: 875\n"
     ]
    },
    {
     "name": "stderr",
     "output_type": "stream",
     "text": [
      "[I 2024-11-18 18:58:58,453] Trial 337 finished with value: 0.0459246204545387 and parameters: {'similarity': 'cosine', 'topK': 143, 'shrink': 806, 'feature_weighting': 'TF-IDF'}. Best is trial 315 with value: 0.050232338231915176.\n"
     ]
    },
    {
     "name": "stdout",
     "output_type": "stream",
     "text": [
      "Similarity column 38121 (100.0%), 2882.75 column/sec. Elapsed time 13.22 sec\n",
      "EvaluatorHoldout: Processed 35595 (100.0%) in 35.95 sec. Users per second: 990\n"
     ]
    },
    {
     "name": "stderr",
     "output_type": "stream",
     "text": [
      "[I 2024-11-18 18:59:48,095] Trial 338 finished with value: 0.04782007237506429 and parameters: {'similarity': 'cosine', 'topK': 39, 'shrink': 843, 'feature_weighting': 'TF-IDF'}. Best is trial 315 with value: 0.050232338231915176.\n"
     ]
    },
    {
     "name": "stdout",
     "output_type": "stream",
     "text": [
      "Similarity column 38121 (100.0%), 2853.13 column/sec. Elapsed time 13.36 sec\n",
      "EvaluatorHoldout: Processed 35595 (100.0%) in 41.18 sec. Users per second: 864\n"
     ]
    },
    {
     "name": "stderr",
     "output_type": "stream",
     "text": [
      "[I 2024-11-18 19:00:43,396] Trial 339 finished with value: 0.03867653964240434 and parameters: {'similarity': 'jaccard', 'topK': 106, 'shrink': 522, 'feature_weighting': 'TF-IDF'}. Best is trial 315 with value: 0.050232338231915176.\n"
     ]
    },
    {
     "name": "stdout",
     "output_type": "stream",
     "text": [
      "Similarity column 38121 (100.0%), 2887.57 column/sec. Elapsed time 13.20 sec\n",
      "EvaluatorHoldout: Processed 35595 (100.0%) in 37.86 sec. Users per second: 940\n"
     ]
    },
    {
     "name": "stderr",
     "output_type": "stream",
     "text": [
      "[I 2024-11-18 19:01:34,950] Trial 340 finished with value: 0.046904817646493076 and parameters: {'similarity': 'cosine', 'topK': 77, 'shrink': 851, 'feature_weighting': 'TF-IDF'}. Best is trial 315 with value: 0.050232338231915176.\n"
     ]
    },
    {
     "name": "stdout",
     "output_type": "stream",
     "text": [
      "Similarity column 38121 (100.0%), 2781.94 column/sec. Elapsed time 13.70 sec\n",
      "EvaluatorHoldout: Processed 35595 (100.0%) in 45.15 sec. Users per second: 788\n"
     ]
    },
    {
     "name": "stderr",
     "output_type": "stream",
     "text": [
      "[I 2024-11-18 19:02:34,684] Trial 341 finished with value: 0.04482561198848429 and parameters: {'similarity': 'cosine', 'topK': 286, 'shrink': 820, 'feature_weighting': 'TF-IDF'}. Best is trial 315 with value: 0.050232338231915176.\n"
     ]
    },
    {
     "name": "stdout",
     "output_type": "stream",
     "text": [
      "Similarity column 38121 (100.0%), 2905.92 column/sec. Elapsed time 13.12 sec\n",
      "EvaluatorHoldout: Processed 35595 (100.0%) in 32.03 sec. Users per second: 1111\n"
     ]
    },
    {
     "name": "stderr",
     "output_type": "stream",
     "text": [
      "[I 2024-11-18 19:03:20,346] Trial 342 finished with value: 0.050234773030810226 and parameters: {'similarity': 'cosine', 'topK': 10, 'shrink': 392, 'feature_weighting': 'TF-IDF'}. Best is trial 342 with value: 0.050234773030810226.\n"
     ]
    },
    {
     "name": "stdout",
     "output_type": "stream",
     "text": [
      "Similarity column 38121 (100.0%), 2886.03 column/sec. Elapsed time 13.21 sec\n",
      "EvaluatorHoldout: Processed 35595 (100.0%) in 32.81 sec. Users per second: 1085\n"
     ]
    },
    {
     "name": "stderr",
     "output_type": "stream",
     "text": [
      "[I 2024-11-18 19:04:06,803] Trial 343 finished with value: 0.0499758002840579 and parameters: {'similarity': 'cosine', 'topK': 10, 'shrink': 748, 'feature_weighting': 'TF-IDF'}. Best is trial 342 with value: 0.050234773030810226.\n"
     ]
    },
    {
     "name": "stdout",
     "output_type": "stream",
     "text": [
      "Similarity column 38121 (100.0%), 2871.18 column/sec. Elapsed time 13.28 sec\n",
      "EvaluatorHoldout: Processed 35595 (100.0%) in 35.70 sec. Users per second: 997\n"
     ]
    },
    {
     "name": "stderr",
     "output_type": "stream",
     "text": [
      "[I 2024-11-18 19:04:56,244] Trial 344 finished with value: 0.04791684671246223 and parameters: {'similarity': 'cosine', 'topK': 39, 'shrink': 743, 'feature_weighting': 'TF-IDF'}. Best is trial 342 with value: 0.050234773030810226.\n"
     ]
    },
    {
     "name": "stdout",
     "output_type": "stream",
     "text": [
      "Similarity column 38121 (100.0%), 2886.68 column/sec. Elapsed time 13.21 sec\n",
      "EvaluatorHoldout: Processed 35595 (100.0%) in 36.75 sec. Users per second: 969\n"
     ]
    },
    {
     "name": "stderr",
     "output_type": "stream",
     "text": [
      "[I 2024-11-18 19:05:46,697] Trial 345 finished with value: 0.047185257649436416 and parameters: {'similarity': 'cosine', 'topK': 61, 'shrink': 830, 'feature_weighting': 'TF-IDF'}. Best is trial 342 with value: 0.050234773030810226.\n"
     ]
    },
    {
     "name": "stdout",
     "output_type": "stream",
     "text": [
      "Similarity column 38121 (100.0%), 2889.28 column/sec. Elapsed time 13.19 sec\n",
      "EvaluatorHoldout: Processed 35595 (100.0%) in 32.02 sec. Users per second: 1112\n"
     ]
    },
    {
     "name": "stderr",
     "output_type": "stream",
     "text": [
      "[I 2024-11-18 19:06:32,327] Trial 346 finished with value: 0.05023720114069726 and parameters: {'similarity': 'cosine', 'topK': 10, 'shrink': 390, 'feature_weighting': 'TF-IDF'}. Best is trial 346 with value: 0.05023720114069726.\n"
     ]
    },
    {
     "name": "stdout",
     "output_type": "stream",
     "text": [
      "Similarity column 38121 (100.0%), 2877.43 column/sec. Elapsed time 13.25 sec\n",
      "EvaluatorHoldout: Processed 35595 (100.0%) in 35.57 sec. Users per second: 1001\n"
     ]
    },
    {
     "name": "stderr",
     "output_type": "stream",
     "text": [
      "[I 2024-11-18 19:07:21,604] Trial 347 finished with value: 0.04792758479989635 and parameters: {'similarity': 'cosine', 'topK': 39, 'shrink': 711, 'feature_weighting': 'TF-IDF'}. Best is trial 346 with value: 0.05023720114069726.\n"
     ]
    },
    {
     "name": "stdout",
     "output_type": "stream",
     "text": [
      "Similarity column 38121 (100.0%), 445.65 column/sec. Elapsed time 1.43 min\n",
      "EvaluatorHoldout: Processed 35595 (100.0%) in 28.38 sec. Users per second: 1254\n"
     ]
    },
    {
     "name": "stderr",
     "output_type": "stream",
     "text": [
      "[I 2024-11-18 19:09:15,961] Trial 348 finished with value: 0.0279084743041758 and parameters: {'similarity': 'euclidean', 'topK': 91, 'shrink': 402, 'feature_weighting': 'TF-IDF', 'normalize_avg_row': True, 'similarity_from_distance_mode': 'log', 'normalize': False}. Best is trial 346 with value: 0.05023720114069726.\n"
     ]
    },
    {
     "name": "stdout",
     "output_type": "stream",
     "text": [
      "Similarity column 38121 (100.0%), 2878.46 column/sec. Elapsed time 13.24 sec\n",
      "EvaluatorHoldout: Processed 35595 (100.0%) in 34.21 sec. Users per second: 1041\n"
     ]
    },
    {
     "name": "stderr",
     "output_type": "stream",
     "text": [
      "[I 2024-11-18 19:10:03,872] Trial 349 finished with value: 0.04248813369988957 and parameters: {'similarity': 'cosine', 'topK': 36, 'shrink': 312, 'feature_weighting': 'BM25'}. Best is trial 346 with value: 0.05023720114069726.\n"
     ]
    },
    {
     "name": "stdout",
     "output_type": "stream",
     "text": [
      "Similarity column 38121 (100.0%), 2810.15 column/sec. Elapsed time 13.57 sec\n",
      "EvaluatorHoldout: Processed 35595 (100.0%) in 39.24 sec. Users per second: 907\n"
     ]
    },
    {
     "name": "stderr",
     "output_type": "stream",
     "text": [
      "[I 2024-11-18 19:10:57,116] Trial 350 finished with value: 0.03890101494547179 and parameters: {'similarity': 'cosine', 'topK': 59, 'shrink': 351, 'feature_weighting': 'none'}. Best is trial 346 with value: 0.05023720114069726.\n"
     ]
    },
    {
     "name": "stdout",
     "output_type": "stream",
     "text": [
      "Similarity column 38121 (100.0%), 2878.16 column/sec. Elapsed time 13.24 sec\n",
      "EvaluatorHoldout: Processed 35595 (100.0%) in 34.43 sec. Users per second: 1034\n"
     ]
    },
    {
     "name": "stderr",
     "output_type": "stream",
     "text": [
      "[I 2024-11-18 19:11:45,238] Trial 351 finished with value: 0.048208082774242086 and parameters: {'similarity': 'cosine', 'topK': 34, 'shrink': 361, 'feature_weighting': 'TF-IDF'}. Best is trial 346 with value: 0.05023720114069726.\n"
     ]
    },
    {
     "name": "stdout",
     "output_type": "stream",
     "text": [
      "Similarity column 38121 (100.0%), 2836.25 column/sec. Elapsed time 13.44 sec\n",
      "EvaluatorHoldout: Processed 35595 (100.0%) in 34.58 sec. Users per second: 1029\n"
     ]
    },
    {
     "name": "stderr",
     "output_type": "stream",
     "text": [
      "[I 2024-11-18 19:12:33,649] Trial 352 finished with value: 0.0502402490986546 and parameters: {'similarity': 'cosine', 'topK': 10, 'shrink': 318, 'feature_weighting': 'TF-IDF'}. Best is trial 352 with value: 0.0502402490986546.\n"
     ]
    },
    {
     "name": "stdout",
     "output_type": "stream",
     "text": [
      "Similarity column 38121 (100.0%), 2761.24 column/sec. Elapsed time 13.81 sec\n",
      "EvaluatorHoldout: Processed 35595 (100.0%) in 38.14 sec. Users per second: 933\n"
     ]
    },
    {
     "name": "stderr",
     "output_type": "stream",
     "text": [
      "[I 2024-11-18 19:13:26,172] Trial 353 finished with value: 0.04678151804805659 and parameters: {'similarity': 'cosine', 'topK': 82, 'shrink': 276, 'feature_weighting': 'TF-IDF'}. Best is trial 352 with value: 0.0502402490986546.\n"
     ]
    },
    {
     "name": "stdout",
     "output_type": "stream",
     "text": [
      "Similarity column 38121 (100.0%), 2853.29 column/sec. Elapsed time 13.36 sec\n",
      "EvaluatorHoldout: Processed 35595 (100.0%) in 32.89 sec. Users per second: 1082\n"
     ]
    },
    {
     "name": "stderr",
     "output_type": "stream",
     "text": [
      "[I 2024-11-18 19:14:12,845] Trial 354 finished with value: 0.050244874547654264 and parameters: {'similarity': 'cosine', 'topK': 10, 'shrink': 291, 'feature_weighting': 'TF-IDF'}. Best is trial 354 with value: 0.050244874547654264.\n"
     ]
    },
    {
     "name": "stdout",
     "output_type": "stream",
     "text": [
      "Similarity column 38121 (100.0%), 2833.74 column/sec. Elapsed time 13.45 sec\n",
      "EvaluatorHoldout: Processed 35595 (100.0%) in 39.58 sec. Users per second: 899\n"
     ]
    },
    {
     "name": "stderr",
     "output_type": "stream",
     "text": [
      "[I 2024-11-18 19:15:06,445] Trial 355 finished with value: 0.04619565013812629 and parameters: {'similarity': 'cosine', 'topK': 118, 'shrink': 271, 'feature_weighting': 'TF-IDF'}. Best is trial 354 with value: 0.050244874547654264.\n"
     ]
    },
    {
     "name": "stdout",
     "output_type": "stream",
     "text": [
      "Similarity column 38121 (100.0%), 2835.03 column/sec. Elapsed time 13.45 sec\n",
      "EvaluatorHoldout: Processed 35595 (100.0%) in 37.09 sec. Users per second: 960\n"
     ]
    },
    {
     "name": "stderr",
     "output_type": "stream",
     "text": [
      "[I 2024-11-18 19:15:57,487] Trial 356 finished with value: 0.04731299763431907 and parameters: {'similarity': 'cosine', 'topK': 58, 'shrink': 313, 'feature_weighting': 'TF-IDF'}. Best is trial 354 with value: 0.050244874547654264.\n"
     ]
    },
    {
     "name": "stdout",
     "output_type": "stream",
     "text": [
      "Similarity column 38121 (100.0%), 2837.72 column/sec. Elapsed time 13.43 sec\n",
      "EvaluatorHoldout: Processed 35595 (100.0%) in 35.05 sec. Users per second: 1016\n"
     ]
    },
    {
     "name": "stderr",
     "output_type": "stream",
     "text": [
      "[I 2024-11-18 19:16:46,408] Trial 357 finished with value: 0.048155151539473424 and parameters: {'similarity': 'cosine', 'topK': 35, 'shrink': 384, 'feature_weighting': 'TF-IDF'}. Best is trial 354 with value: 0.050244874547654264.\n"
     ]
    },
    {
     "name": "stdout",
     "output_type": "stream",
     "text": [
      "Similarity column 38121 (100.0%), 2864.04 column/sec. Elapsed time 13.31 sec\n",
      "EvaluatorHoldout: Processed 35595 (100.0%) in 35.17 sec. Users per second: 1012\n"
     ]
    },
    {
     "name": "stderr",
     "output_type": "stream",
     "text": [
      "[I 2024-11-18 19:17:35,315] Trial 358 finished with value: 0.04814683821742212 and parameters: {'similarity': 'cosine', 'topK': 35, 'shrink': 284, 'feature_weighting': 'TF-IDF'}. Best is trial 354 with value: 0.050244874547654264.\n"
     ]
    },
    {
     "name": "stdout",
     "output_type": "stream",
     "text": [
      "Similarity column 38121 (100.0%), 2478.83 column/sec. Elapsed time 15.38 sec\n",
      "EvaluatorHoldout: Processed 35595 (100.0%) in 55.58 sec. Users per second: 640\n"
     ]
    },
    {
     "name": "stderr",
     "output_type": "stream",
     "text": [
      "[I 2024-11-18 19:18:47,933] Trial 359 finished with value: 0.035079569094106415 and parameters: {'similarity': 'tversky', 'topK': 729, 'shrink': 381, 'feature_weighting': 'TF-IDF', 'tversky_alpha': 0.8643136869944861, 'tversky_beta': 1.536676355051346}. Best is trial 354 with value: 0.050244874547654264.\n"
     ]
    },
    {
     "name": "stdout",
     "output_type": "stream",
     "text": [
      "Similarity column 38121 (100.0%), 2894.40 column/sec. Elapsed time 13.17 sec\n",
      "EvaluatorHoldout: Processed 35595 (100.0%) in 32.97 sec. Users per second: 1080\n"
     ]
    },
    {
     "name": "stderr",
     "output_type": "stream",
     "text": [
      "[I 2024-11-18 19:19:34,485] Trial 360 finished with value: 0.04999021844070141 and parameters: {'similarity': 'cosine', 'topK': 11, 'shrink': 306, 'feature_weighting': 'TF-IDF'}. Best is trial 354 with value: 0.050244874547654264.\n"
     ]
    },
    {
     "name": "stdout",
     "output_type": "stream",
     "text": [
      "Similarity column 38121 (100.0%), 2841.45 column/sec. Elapsed time 13.42 sec\n",
      "EvaluatorHoldout: Processed 35595 (100.0%) in 37.20 sec. Users per second: 957\n"
     ]
    },
    {
     "name": "stderr",
     "output_type": "stream",
     "text": [
      "[I 2024-11-18 19:20:25,595] Trial 361 finished with value: 0.04702152188308767 and parameters: {'similarity': 'cosine', 'topK': 69, 'shrink': 292, 'feature_weighting': 'TF-IDF'}. Best is trial 354 with value: 0.050244874547654264.\n"
     ]
    },
    {
     "name": "stdout",
     "output_type": "stream",
     "text": [
      "Similarity column 38121 (100.0%), 2843.55 column/sec. Elapsed time 13.41 sec\n",
      "EvaluatorHoldout: Processed 35595 (100.0%) in 33.61 sec. Users per second: 1059\n"
     ]
    },
    {
     "name": "stderr",
     "output_type": "stream",
     "text": [
      "[I 2024-11-18 19:21:13,016] Trial 362 finished with value: 0.050186830681139945 and parameters: {'similarity': 'cosine', 'topK': 10, 'shrink': 568, 'feature_weighting': 'TF-IDF'}. Best is trial 354 with value: 0.050244874547654264.\n"
     ]
    },
    {
     "name": "stdout",
     "output_type": "stream",
     "text": [
      "Similarity column 38121 (100.0%), 2793.74 column/sec. Elapsed time 13.65 sec\n",
      "EvaluatorHoldout: Processed 35595 (100.0%) in 37.73 sec. Users per second: 944\n"
     ]
    },
    {
     "name": "stderr",
     "output_type": "stream",
     "text": [
      "[I 2024-11-18 19:22:04,892] Trial 363 finished with value: 0.047824749106458266 and parameters: {'similarity': 'cosine', 'topK': 41, 'shrink': 323, 'feature_weighting': 'TF-IDF'}. Best is trial 354 with value: 0.050244874547654264.\n"
     ]
    },
    {
     "name": "stdout",
     "output_type": "stream",
     "text": [
      "Similarity column 38121 (100.0%), 2781.31 column/sec. Elapsed time 13.71 sec\n",
      "EvaluatorHoldout: Processed 35595 (100.0%) in 39.02 sec. Users per second: 912\n"
     ]
    },
    {
     "name": "stderr",
     "output_type": "stream",
     "text": [
      "[I 2024-11-18 19:22:58,203] Trial 364 finished with value: 0.04670318084624698 and parameters: {'similarity': 'cosine', 'topK': 90, 'shrink': 261, 'feature_weighting': 'TF-IDF'}. Best is trial 354 with value: 0.050244874547654264.\n"
     ]
    },
    {
     "name": "stdout",
     "output_type": "stream",
     "text": [
      "Similarity column 38121 (100.0%), 2897.16 column/sec. Elapsed time 13.16 sec\n",
      "EvaluatorHoldout: Processed 35595 (100.0%) in 33.99 sec. Users per second: 1047\n"
     ]
    },
    {
     "name": "stderr",
     "output_type": "stream",
     "text": [
      "[I 2024-11-18 19:23:45,754] Trial 365 finished with value: 0.04986284189191714 and parameters: {'similarity': 'cosine', 'topK': 12, 'shrink': 314, 'feature_weighting': 'TF-IDF'}. Best is trial 354 with value: 0.050244874547654264.\n"
     ]
    },
    {
     "name": "stdout",
     "output_type": "stream",
     "text": [
      "Similarity column 38121 (100.0%), 2838.16 column/sec. Elapsed time 13.43 sec\n",
      "EvaluatorHoldout: Processed 35595 (100.0%) in 34.82 sec. Users per second: 1022\n"
     ]
    },
    {
     "name": "stderr",
     "output_type": "stream",
     "text": [
      "[I 2024-11-18 19:24:34,588] Trial 366 finished with value: 0.043199344700185785 and parameters: {'similarity': 'dice', 'topK': 10, 'shrink': 348, 'feature_weighting': 'TF-IDF'}. Best is trial 354 with value: 0.050244874547654264.\n"
     ]
    },
    {
     "name": "stdout",
     "output_type": "stream",
     "text": [
      "Similarity column 38121 (100.0%), 2726.29 column/sec. Elapsed time 13.98 sec\n",
      "EvaluatorHoldout: Processed 35595 (100.0%) in 45.93 sec. Users per second: 775\n"
     ]
    },
    {
     "name": "stderr",
     "output_type": "stream",
     "text": [
      "[I 2024-11-18 19:25:35,445] Trial 367 finished with value: 0.0452460807987548 and parameters: {'similarity': 'cosine', 'topK': 241, 'shrink': 535, 'feature_weighting': 'TF-IDF'}. Best is trial 354 with value: 0.050244874547654264.\n"
     ]
    },
    {
     "name": "stdout",
     "output_type": "stream",
     "text": [
      "Similarity column 38121 (100.0%), 2827.61 column/sec. Elapsed time 13.48 sec\n",
      "EvaluatorHoldout: Processed 35595 (100.0%) in 37.37 sec. Users per second: 953\n"
     ]
    },
    {
     "name": "stderr",
     "output_type": "stream",
     "text": [
      "[I 2024-11-18 19:26:26,878] Trial 368 finished with value: 0.04732027861947637 and parameters: {'similarity': 'cosine', 'topK': 57, 'shrink': 582, 'feature_weighting': 'TF-IDF'}. Best is trial 354 with value: 0.050244874547654264.\n"
     ]
    },
    {
     "name": "stdout",
     "output_type": "stream",
     "text": [
      "Similarity column 38121 (100.0%), 2826.54 column/sec. Elapsed time 13.49 sec\n",
      "EvaluatorHoldout: Processed 35595 (100.0%) in 42.01 sec. Users per second: 847\n"
     ]
    },
    {
     "name": "stderr",
     "output_type": "stream",
     "text": [
      "[I 2024-11-18 19:27:22,857] Trial 369 finished with value: 0.02150385955758865 and parameters: {'similarity': 'asymmetric', 'topK': 38, 'shrink': 296, 'feature_weighting': 'TF-IDF', 'asymmetric_alpha': 1.3409404229581403}. Best is trial 354 with value: 0.050244874547654264.\n"
     ]
    },
    {
     "name": "stdout",
     "output_type": "stream",
     "text": [
      "Similarity column 38121 (100.0%), 2829.35 column/sec. Elapsed time 13.47 sec\n",
      "EvaluatorHoldout: Processed 35595 (100.0%) in 40.51 sec. Users per second: 879\n"
     ]
    },
    {
     "name": "stderr",
     "output_type": "stream",
     "text": [
      "[I 2024-11-18 19:28:17,531] Trial 370 finished with value: 0.03808101169015483 and parameters: {'similarity': 'jaccard', 'topK': 72, 'shrink': 771, 'feature_weighting': 'TF-IDF'}. Best is trial 354 with value: 0.050244874547654264.\n"
     ]
    },
    {
     "name": "stdout",
     "output_type": "stream",
     "text": [
      "Similarity column 38121 (100.0%), 2839.69 column/sec. Elapsed time 13.42 sec\n",
      "EvaluatorHoldout: Processed 35595 (100.0%) in 34.89 sec. Users per second: 1020\n"
     ]
    },
    {
     "name": "stderr",
     "output_type": "stream",
     "text": [
      "[I 2024-11-18 19:29:06,186] Trial 371 finished with value: 0.039461509218566324 and parameters: {'similarity': 'cosine', 'topK': 10, 'shrink': 427, 'feature_weighting': 'none'}. Best is trial 354 with value: 0.050244874547654264.\n"
     ]
    },
    {
     "name": "stdout",
     "output_type": "stream",
     "text": [
      "Similarity column 38121 (100.0%), 2831.46 column/sec. Elapsed time 13.46 sec\n",
      "EvaluatorHoldout: Processed 35595 (100.0%) in 33.46 sec. Users per second: 1064\n"
     ]
    },
    {
     "name": "stderr",
     "output_type": "stream",
     "text": [
      "[I 2024-11-18 19:29:53,618] Trial 372 finished with value: 0.05024410977107824 and parameters: {'similarity': 'cosine', 'topK': 10, 'shrink': 302, 'feature_weighting': 'TF-IDF'}. Best is trial 354 with value: 0.050244874547654264.\n"
     ]
    },
    {
     "name": "stdout",
     "output_type": "stream",
     "text": [
      "Similarity column 38121 (100.0%), 2641.63 column/sec. Elapsed time 14.43 sec\n",
      "EvaluatorHoldout: Processed 35595 (100.0%) in 52.08 sec. Users per second: 684\n"
     ]
    },
    {
     "name": "stderr",
     "output_type": "stream",
     "text": [
      "[I 2024-11-18 19:31:01,370] Trial 373 finished with value: 0.04421671939834431 and parameters: {'similarity': 'cosine', 'topK': 519, 'shrink': 336, 'feature_weighting': 'TF-IDF'}. Best is trial 354 with value: 0.050244874547654264.\n"
     ]
    },
    {
     "name": "stdout",
     "output_type": "stream",
     "text": [
      "Similarity column 38121 (100.0%), 2680.95 column/sec. Elapsed time 14.22 sec\n",
      "EvaluatorHoldout: Processed 35595 (100.0%) in 56.01 sec. Users per second: 636\n"
     ]
    },
    {
     "name": "stderr",
     "output_type": "stream",
     "text": [
      "[I 2024-11-18 19:32:13,242] Trial 374 finished with value: 0.040711889934602265 and parameters: {'similarity': 'cosine', 'topK': 820, 'shrink': 244, 'feature_weighting': 'BM25'}. Best is trial 354 with value: 0.050244874547654264.\n"
     ]
    },
    {
     "name": "stdout",
     "output_type": "stream",
     "text": [
      "Similarity column 38121 (100.0%), 2841.11 column/sec. Elapsed time 13.42 sec\n",
      "EvaluatorHoldout: Processed 35595 (100.0%) in 38.95 sec. Users per second: 914\n"
     ]
    },
    {
     "name": "stderr",
     "output_type": "stream",
     "text": [
      "[I 2024-11-18 19:33:06,142] Trial 375 finished with value: 0.046260912559056684 and parameters: {'similarity': 'cosine', 'topK': 114, 'shrink': 292, 'feature_weighting': 'TF-IDF'}. Best is trial 354 with value: 0.050244874547654264.\n"
     ]
    },
    {
     "name": "stdout",
     "output_type": "stream",
     "text": [
      "Similarity column 38121 (100.0%), 2884.90 column/sec. Elapsed time 13.21 sec\n",
      "EvaluatorHoldout: Processed 35595 (100.0%) in 36.19 sec. Users per second: 983\n"
     ]
    },
    {
     "name": "stderr",
     "output_type": "stream",
     "text": [
      "[I 2024-11-18 19:33:56,005] Trial 376 finished with value: 0.04732151051177439 and parameters: {'similarity': 'cosine', 'topK': 58, 'shrink': 569, 'feature_weighting': 'TF-IDF'}. Best is trial 354 with value: 0.050244874547654264.\n"
     ]
    },
    {
     "name": "stdout",
     "output_type": "stream",
     "text": [
      "Similarity column 38121 (100.0%), 2841.94 column/sec. Elapsed time 13.41 sec\n",
      "EvaluatorHoldout: Processed 35595 (100.0%) in 34.65 sec. Users per second: 1027\n"
     ]
    },
    {
     "name": "stderr",
     "output_type": "stream",
     "text": [
      "[I 2024-11-18 19:34:44,515] Trial 377 finished with value: 0.047946819042265956 and parameters: {'similarity': 'cosine', 'topK': 36, 'shrink': 229, 'feature_weighting': 'TF-IDF'}. Best is trial 354 with value: 0.050244874547654264.\n"
     ]
    },
    {
     "name": "stdout",
     "output_type": "stream",
     "text": [
      "Similarity column 38121 (100.0%), 420.58 column/sec. Elapsed time 1.51 min\n",
      "EvaluatorHoldout: Processed 35595 (100.0%) in 38.82 sec. Users per second: 917\n"
     ]
    },
    {
     "name": "stderr",
     "output_type": "stream",
     "text": [
      "[I 2024-11-18 19:36:54,523] Trial 378 finished with value: 0.028006635495888783 and parameters: {'similarity': 'euclidean', 'topK': 83, 'shrink': 329, 'feature_weighting': 'TF-IDF', 'normalize_avg_row': False, 'similarity_from_distance_mode': 'lin', 'normalize': True}. Best is trial 354 with value: 0.050244874547654264.\n"
     ]
    },
    {
     "name": "stdout",
     "output_type": "stream",
     "text": [
      "Similarity column 38121 (100.0%), 2862.82 column/sec. Elapsed time 13.32 sec\n",
      "EvaluatorHoldout: Processed 35595 (100.0%) in 34.96 sec. Users per second: 1018\n"
     ]
    },
    {
     "name": "stderr",
     "output_type": "stream",
     "text": [
      "[I 2024-11-18 19:37:43,342] Trial 379 finished with value: 0.047983650949725724 and parameters: {'similarity': 'cosine', 'topK': 37, 'shrink': 298, 'feature_weighting': 'TF-IDF'}. Best is trial 354 with value: 0.050244874547654264.\n"
     ]
    },
    {
     "name": "stdout",
     "output_type": "stream",
     "text": [
      "Similarity column 38121 (100.0%), 2897.88 column/sec. Elapsed time 13.15 sec\n",
      "EvaluatorHoldout: Processed 35595 (100.0%) in 32.14 sec. Users per second: 1108\n"
     ]
    },
    {
     "name": "stderr",
     "output_type": "stream",
     "text": [
      "[I 2024-11-18 19:38:29,043] Trial 380 finished with value: 0.05026688472832435 and parameters: {'similarity': 'cosine', 'topK': 10, 'shrink': 365, 'feature_weighting': 'TF-IDF'}. Best is trial 380 with value: 0.05026688472832435.\n"
     ]
    },
    {
     "name": "stdout",
     "output_type": "stream",
     "text": [
      "Similarity column 38121 (100.0%), 2869.78 column/sec. Elapsed time 13.28 sec\n",
      "EvaluatorHoldout: Processed 35595 (100.0%) in 36.13 sec. Users per second: 985\n"
     ]
    },
    {
     "name": "stderr",
     "output_type": "stream",
     "text": [
      "[I 2024-11-18 19:39:18,944] Trial 381 finished with value: 0.047252597007336285 and parameters: {'similarity': 'cosine', 'topK': 60, 'shrink': 405, 'feature_weighting': 'TF-IDF'}. Best is trial 380 with value: 0.05026688472832435.\n"
     ]
    },
    {
     "name": "stdout",
     "output_type": "stream",
     "text": [
      "Similarity column 38121 (100.0%), 2681.23 column/sec. Elapsed time 14.22 sec\n",
      "EvaluatorHoldout: Processed 35595 (100.0%) in 1.05 min. Users per second: 568\n"
     ]
    },
    {
     "name": "stderr",
     "output_type": "stream",
     "text": [
      "[I 2024-11-18 19:40:38,811] Trial 382 finished with value: 0.043308226141979135 and parameters: {'similarity': 'cosine', 'topK': 1125, 'shrink': 394, 'feature_weighting': 'TF-IDF'}. Best is trial 380 with value: 0.05026688472832435.\n"
     ]
    },
    {
     "name": "stdout",
     "output_type": "stream",
     "text": [
      "Similarity column 38121 (100.0%), 2726.30 column/sec. Elapsed time 13.98 sec\n",
      "EvaluatorHoldout: Processed 35595 (100.0%) in 53.65 sec. Users per second: 664\n"
     ]
    },
    {
     "name": "stderr",
     "output_type": "stream",
     "text": [
      "[I 2024-11-18 19:41:47,870] Trial 383 finished with value: 0.043912482134772904 and parameters: {'similarity': 'cosine', 'topK': 669, 'shrink': 370, 'feature_weighting': 'TF-IDF'}. Best is trial 380 with value: 0.05026688472832435.\n"
     ]
    },
    {
     "name": "stdout",
     "output_type": "stream",
     "text": [
      "Similarity column 38121 (100.0%), 2886.38 column/sec. Elapsed time 13.21 sec\n",
      "EvaluatorHoldout: Processed 35595 (100.0%) in 32.93 sec. Users per second: 1081\n"
     ]
    },
    {
     "name": "stderr",
     "output_type": "stream",
     "text": [
      "[I 2024-11-18 19:42:34,404] Trial 384 finished with value: 0.04999271232583328 and parameters: {'similarity': 'cosine', 'topK': 11, 'shrink': 336, 'feature_weighting': 'TF-IDF'}. Best is trial 380 with value: 0.05026688472832435.\n"
     ]
    },
    {
     "name": "stdout",
     "output_type": "stream",
     "text": [
      "Similarity column 38121 (100.0%), 2889.50 column/sec. Elapsed time 13.19 sec\n",
      "EvaluatorHoldout: Processed 35595 (100.0%) in 32.48 sec. Users per second: 1096\n"
     ]
    },
    {
     "name": "stderr",
     "output_type": "stream",
     "text": [
      "[I 2024-11-18 19:43:20,479] Trial 385 finished with value: 0.050256474402279865 and parameters: {'similarity': 'cosine', 'topK': 10, 'shrink': 348, 'feature_weighting': 'TF-IDF'}. Best is trial 380 with value: 0.05026688472832435.\n"
     ]
    },
    {
     "name": "stdout",
     "output_type": "stream",
     "text": [
      "Similarity column 38121 (100.0%), 2890.00 column/sec. Elapsed time 13.19 sec\n",
      "EvaluatorHoldout: Processed 35595 (100.0%) in 36.12 sec. Users per second: 986\n"
     ]
    },
    {
     "name": "stderr",
     "output_type": "stream",
     "text": [
      "[I 2024-11-18 19:44:10,223] Trial 386 finished with value: 0.04784084062992422 and parameters: {'similarity': 'cosine', 'topK': 39, 'shrink': 341, 'feature_weighting': 'TF-IDF'}. Best is trial 380 with value: 0.05026688472832435.\n"
     ]
    },
    {
     "name": "stdout",
     "output_type": "stream",
     "text": [
      "Similarity column 38121 (100.0%), 2846.14 column/sec. Elapsed time 13.39 sec\n",
      "EvaluatorHoldout: Processed 35595 (100.0%) in 39.35 sec. Users per second: 905\n"
     ]
    },
    {
     "name": "stderr",
     "output_type": "stream",
     "text": [
      "[I 2024-11-18 19:45:03,505] Trial 387 finished with value: 0.04664311021032273 and parameters: {'similarity': 'cosine', 'topK': 99, 'shrink': 320, 'feature_weighting': 'TF-IDF'}. Best is trial 380 with value: 0.05026688472832435.\n"
     ]
    },
    {
     "name": "stdout",
     "output_type": "stream",
     "text": [
      "Similarity column 38121 (100.0%), 2861.35 column/sec. Elapsed time 13.32 sec\n",
      "EvaluatorHoldout: Processed 35595 (100.0%) in 32.33 sec. Users per second: 1101\n"
     ]
    },
    {
     "name": "stderr",
     "output_type": "stream",
     "text": [
      "[I 2024-11-18 19:45:49,575] Trial 388 finished with value: 0.05027369636809012 and parameters: {'similarity': 'cosine', 'topK': 10, 'shrink': 334, 'feature_weighting': 'TF-IDF'}. Best is trial 388 with value: 0.05027369636809012.\n"
     ]
    },
    {
     "name": "stdout",
     "output_type": "stream",
     "text": [
      "Similarity column 38121 (100.0%), 2855.06 column/sec. Elapsed time 13.35 sec\n",
      "EvaluatorHoldout: Processed 35595 (100.0%) in 37.15 sec. Users per second: 958\n"
     ]
    },
    {
     "name": "stderr",
     "output_type": "stream",
     "text": [
      "[I 2024-11-18 19:46:40,593] Trial 389 finished with value: 0.04706450656302998 and parameters: {'similarity': 'cosine', 'topK': 66, 'shrink': 360, 'feature_weighting': 'TF-IDF'}. Best is trial 388 with value: 0.05027369636809012.\n"
     ]
    },
    {
     "name": "stdout",
     "output_type": "stream",
     "text": [
      "Similarity column 38121 (100.0%), 2431.14 column/sec. Elapsed time 15.68 sec\n",
      "EvaluatorHoldout: Processed 35595 (100.0%) in 1.11 min. Users per second: 536\n"
     ]
    },
    {
     "name": "stderr",
     "output_type": "stream",
     "text": [
      "[I 2024-11-18 19:48:05,304] Trial 390 finished with value: 0.03648499432549027 and parameters: {'similarity': 'tversky', 'topK': 1442, 'shrink': 374, 'feature_weighting': 'TF-IDF', 'tversky_alpha': 1.690110589670352, 'tversky_beta': 0.8262428946276577}. Best is trial 388 with value: 0.05027369636809012.\n"
     ]
    },
    {
     "name": "stdout",
     "output_type": "stream",
     "text": [
      "Similarity column 38121 (100.0%), 2814.91 column/sec. Elapsed time 13.54 sec\n",
      "EvaluatorHoldout: Processed 35595 (100.0%) in 37.55 sec. Users per second: 948\n"
     ]
    },
    {
     "name": "stderr",
     "output_type": "stream",
     "text": [
      "[I 2024-11-18 19:48:56,909] Trial 391 finished with value: 0.04733004903042649 and parameters: {'similarity': 'cosine', 'topK': 56, 'shrink': 328, 'feature_weighting': 'TF-IDF'}. Best is trial 388 with value: 0.05027369636809012.\n"
     ]
    },
    {
     "name": "stdout",
     "output_type": "stream",
     "text": [
      "Similarity column 38121 (100.0%), 2861.57 column/sec. Elapsed time 13.32 sec\n",
      "EvaluatorHoldout: Processed 35595 (100.0%) in 34.54 sec. Users per second: 1030\n"
     ]
    },
    {
     "name": "stderr",
     "output_type": "stream",
     "text": [
      "[I 2024-11-18 19:49:45,236] Trial 392 finished with value: 0.04822117204797194 and parameters: {'similarity': 'cosine', 'topK': 33, 'shrink': 345, 'feature_weighting': 'TF-IDF'}. Best is trial 388 with value: 0.05027369636809012.\n"
     ]
    },
    {
     "name": "stdout",
     "output_type": "stream",
     "text": [
      "Similarity column 38121 (100.0%), 2581.35 column/sec. Elapsed time 14.77 sec\n",
      "EvaluatorHoldout: Processed 35595 (100.0%) in 1.11 min. Users per second: 537\n"
     ]
    },
    {
     "name": "stderr",
     "output_type": "stream",
     "text": [
      "[I 2024-11-18 19:51:09,207] Trial 393 finished with value: 0.04315358408194302 and parameters: {'similarity': 'cosine', 'topK': 1320, 'shrink': 314, 'feature_weighting': 'TF-IDF'}. Best is trial 388 with value: 0.05027369636809012.\n"
     ]
    },
    {
     "name": "stdout",
     "output_type": "stream",
     "text": [
      "Similarity column 38121 (100.0%), 2875.05 column/sec. Elapsed time 13.26 sec\n",
      "EvaluatorHoldout: Processed 35595 (100.0%) in 32.49 sec. Users per second: 1096\n"
     ]
    },
    {
     "name": "stderr",
     "output_type": "stream",
     "text": [
      "[I 2024-11-18 19:51:55,372] Trial 394 finished with value: 0.05024410977107824 and parameters: {'similarity': 'cosine', 'topK': 10, 'shrink': 302, 'feature_weighting': 'TF-IDF'}. Best is trial 388 with value: 0.05027369636809012.\n"
     ]
    },
    {
     "name": "stdout",
     "output_type": "stream",
     "text": [
      "Similarity column 38121 (100.0%), 2858.47 column/sec. Elapsed time 13.34 sec\n",
      "EvaluatorHoldout: Processed 35595 (100.0%) in 33.29 sec. Users per second: 1069\n"
     ]
    },
    {
     "name": "stderr",
     "output_type": "stream",
     "text": [
      "[I 2024-11-18 19:52:42,399] Trial 395 finished with value: 0.050242880108449496 and parameters: {'similarity': 'cosine', 'topK': 10, 'shrink': 303, 'feature_weighting': 'TF-IDF'}. Best is trial 388 with value: 0.05027369636809012.\n"
     ]
    },
    {
     "name": "stdout",
     "output_type": "stream",
     "text": [
      "Similarity column 38121 (100.0%), 2823.62 column/sec. Elapsed time 13.50 sec\n",
      "EvaluatorHoldout: Processed 35595 (100.0%) in 34.42 sec. Users per second: 1034\n"
     ]
    },
    {
     "name": "stderr",
     "output_type": "stream",
     "text": [
      "[I 2024-11-18 19:53:30,640] Trial 396 finished with value: 0.04075289020885151 and parameters: {'similarity': 'cosine', 'topK': 10, 'shrink': 303, 'feature_weighting': 'none'}. Best is trial 388 with value: 0.05027369636809012.\n"
     ]
    },
    {
     "name": "stdout",
     "output_type": "stream",
     "text": [
      "Similarity column 38121 (100.0%), 2776.79 column/sec. Elapsed time 13.73 sec\n",
      "EvaluatorHoldout: Processed 35595 (100.0%) in 38.48 sec. Users per second: 925\n"
     ]
    },
    {
     "name": "stderr",
     "output_type": "stream",
     "text": [
      "[I 2024-11-18 19:54:23,380] Trial 397 finished with value: 0.047252773151212145 and parameters: {'similarity': 'asymmetric', 'topK': 89, 'shrink': 330, 'feature_weighting': 'TF-IDF', 'asymmetric_alpha': 0.37571053596827864}. Best is trial 388 with value: 0.05027369636809012.\n"
     ]
    },
    {
     "name": "stdout",
     "output_type": "stream",
     "text": [
      "Similarity column 38121 (100.0%), 2920.07 column/sec. Elapsed time 13.05 sec\n",
      "EvaluatorHoldout: Processed 35595 (100.0%) in 37.55 sec. Users per second: 948\n"
     ]
    },
    {
     "name": "stderr",
     "output_type": "stream",
     "text": [
      "[I 2024-11-18 19:55:14,622] Trial 398 finished with value: 0.04293838531807183 and parameters: {'similarity': 'dice', 'topK': 41, 'shrink': 259, 'feature_weighting': 'TF-IDF'}. Best is trial 388 with value: 0.05027369636809012.\n"
     ]
    },
    {
     "name": "stdout",
     "output_type": "stream",
     "text": [
      "Similarity column 38121 (100.0%), 2781.05 column/sec. Elapsed time 13.71 sec\n",
      "EvaluatorHoldout: Processed 35595 (100.0%) in 40.90 sec. Users per second: 870\n"
     ]
    },
    {
     "name": "stderr",
     "output_type": "stream",
     "text": [
      "[I 2024-11-18 19:56:09,965] Trial 399 finished with value: 0.041376904416304566 and parameters: {'similarity': 'cosine', 'topK': 150, 'shrink': 364, 'feature_weighting': 'BM25'}. Best is trial 388 with value: 0.05027369636809012.\n"
     ]
    }
   ],
   "source": [
    "if config['tune_parameters']:\n",
    "    \n",
    "    optuna_study = optuna.create_study(direction='maximize', study_name=f'hyperparameters_tuning_{config[\"model\"]}',\n",
    "                                storage=f'sqlite:///{config[\"database_path\"]}', load_if_exists=True)\n",
    "\n",
    "    optuna_study.optimize(objective_function_ItemKNNCF, n_trials=200)"
   ]
  },
  {
   "cell_type": "markdown",
   "id": "9f9806d0",
   "metadata": {
    "papermill": {
     "duration": 0.044113,
     "end_time": "2024-11-18T19:56:10.061744",
     "exception": false,
     "start_time": "2024-11-18T19:56:10.017631",
     "status": "completed"
    },
    "tags": []
   },
   "source": [
    "## Some optuna visualizations on recommender parameters"
   ]
  },
  {
   "cell_type": "code",
   "execution_count": 17,
   "id": "b19aab0d",
   "metadata": {
    "execution": {
     "iopub.execute_input": "2024-11-18T19:56:10.153990Z",
     "iopub.status.busy": "2024-11-18T19:56:10.153351Z",
     "iopub.status.idle": "2024-11-18T19:56:12.801430Z",
     "shell.execute_reply": "2024-11-18T19:56:12.800195Z"
    },
    "papermill": {
     "duration": 2.69761,
     "end_time": "2024-11-18T19:56:12.803999",
     "exception": false,
     "start_time": "2024-11-18T19:56:10.106389",
     "status": "completed"
    },
    "tags": []
   },
   "outputs": [
    {
     "data": {
      "text/html": [
       "        <script type=\"text/javascript\">\n",
       "        window.PlotlyConfig = {MathJaxConfig: 'local'};\n",
       "        if (window.MathJax && window.MathJax.Hub && window.MathJax.Hub.Config) {window.MathJax.Hub.Config({SVG: {font: \"STIX-Web\"}});}\n",
       "        if (typeof require !== 'undefined') {\n",
       "        require.undef(\"plotly\");\n",
       "        requirejs.config({\n",
       "            paths: {\n",
       "                'plotly': ['https://cdn.plot.ly/plotly-2.32.0.min']\n",
       "            }\n",
       "        });\n",
       "        require(['plotly'], function(Plotly) {\n",
       "            window._Plotly = Plotly;\n",
       "        });\n",
       "        }\n",
       "        </script>\n",
       "        "
      ]
     },
     "metadata": {},
     "output_type": "display_data"
    },
    {
     "data": {
      "text/html": [
       "<div>                            <div id=\"9a58ec88-9922-4256-8a76-2447a0e35eee\" class=\"plotly-graph-div\" style=\"height:525px; width:3000px;\"></div>            <script type=\"text/javascript\">                require([\"plotly\"], function(Plotly) {                    window.PLOTLYENV=window.PLOTLYENV || {};                                    if (document.getElementById(\"9a58ec88-9922-4256-8a76-2447a0e35eee\")) {                    Plotly.newPlot(                        \"9a58ec88-9922-4256-8a76-2447a0e35eee\",                        [{\"marker\":{\"color\":[2,3,7,35,39,49,78,97,128,160,199,249,277,306,335,369,397],\"colorbar\":{\"title\":{\"text\":\"Trial\"},\"x\":1.0,\"xpad\":40},\"colorscale\":[[0.0,\"rgb(247,251,255)\"],[0.125,\"rgb(222,235,247)\"],[0.25,\"rgb(198,219,239)\"],[0.375,\"rgb(158,202,225)\"],[0.5,\"rgb(107,174,214)\"],[0.625,\"rgb(66,146,198)\"],[0.75,\"rgb(33,113,181)\"],[0.875,\"rgb(8,81,156)\"],[1.0,\"rgb(8,48,107)\"]],\"line\":{\"color\":\"Grey\",\"width\":0.5},\"showscale\":true},\"mode\":\"markers\",\"name\":\"Feasible Trial\",\"showlegend\":false,\"x\":[0.7191418693824498,1.4910434152658711,1.5846022966325468,0.012635744304884788,1.996733777536354,0.005100603760291422,0.7343048266037115,1.1114106433854172,0.4284210498398733,1.9468879395865366,1.2559896952128466,0.32236043097524303,0.7368488854786798,1.6216612744076107,0.9633293491534307,1.3409404229581403,0.37571053596827864],\"y\":[0.03659388580079572,0.03654694011331058,0.03454623442297158,0.04092732838792521,0.011591760925937264,0.041887212177560584,0.04178191938853411,0.034041091690690126,0.04705453436700623,0.020721504268701677,0.032028948911586114,0.0487287150192735,0.04286203475162412,0.01991731605785529,0.039861042548778335,0.02150385955758865,0.047252773151212145],\"type\":\"scatter\",\"xaxis\":\"x\",\"yaxis\":\"y\"},{\"marker\":{\"color\":[0,1,2,3,4,5,6,7,8,9,10,11,12,13,14,15,16,17,18,19,20,21,22,23,24,25,26,27,28,29,30,31,32,33,34,35,36,37,38,39,40,41,42,43,44,45,46,47,48,49,50,51,52,53,54,55,56,57,58,59,60,61,62,63,64,65,66,67,68,69,70,71,72,73,74,75,76,77,78,79,80,81,82,83,84,85,86,87,88,89,90,91,92,93,94,95,96,97,98,99,100,101,102,103,104,105,106,107,108,109,110,111,112,113,114,115,116,117,118,119,120,121,122,123,124,125,126,127,128,129,130,131,132,133,134,135,136,137,138,139,140,141,142,143,144,145,146,147,148,149,150,151,152,153,154,155,156,157,158,159,160,161,162,163,164,165,166,167,168,169,170,171,172,173,174,175,176,177,178,179,180,181,182,183,184,185,186,187,188,189,190,191,192,193,194,195,196,197,198,199,200,201,202,203,204,205,206,207,208,209,210,211,212,213,214,215,216,217,218,219,220,221,222,223,224,225,226,227,228,229,230,231,232,233,234,235,236,237,238,239,240,241,242,243,244,245,246,247,248,249,250,251,252,253,254,255,256,257,258,259,260,261,262,263,264,265,266,267,268,269,270,271,272,273,274,275,276,277,278,279,280,281,282,283,284,285,286,287,288,289,290,291,292,293,294,295,296,297,298,299,300,301,302,303,304,305,306,307,308,309,310,311,312,313,314,315,316,317,318,319,320,321,322,323,324,325,326,327,328,329,330,331,332,333,334,335,336,337,338,339,340,341,342,343,344,345,346,347,348,349,350,351,352,353,354,355,356,357,358,359,360,361,362,363,364,365,366,367,368,369,370,371,372,373,374,375,376,377,378,379,380,381,382,383,384,385,386,387,388,389,390,391,392,393,394,395,396,397,398,399],\"colorbar\":{\"title\":{\"text\":\"Trial\"},\"x\":1.0,\"xpad\":40},\"colorscale\":[[0.0,\"rgb(247,251,255)\"],[0.125,\"rgb(222,235,247)\"],[0.25,\"rgb(198,219,239)\"],[0.375,\"rgb(158,202,225)\"],[0.5,\"rgb(107,174,214)\"],[0.625,\"rgb(66,146,198)\"],[0.75,\"rgb(33,113,181)\"],[0.875,\"rgb(8,81,156)\"],[1.0,\"rgb(8,48,107)\"]],\"line\":{\"color\":\"Grey\",\"width\":0.5},\"showscale\":false},\"mode\":\"markers\",\"name\":\"Feasible Trial\",\"showlegend\":false,\"x\":[\"BM25\",\"none\",\"none\",\"BM25\",\"BM25\",\"TF-IDF\",\"none\",\"none\",\"TF-IDF\",\"BM25\",\"TF-IDF\",\"TF-IDF\",\"TF-IDF\",\"TF-IDF\",\"TF-IDF\",\"TF-IDF\",\"TF-IDF\",\"TF-IDF\",\"TF-IDF\",\"TF-IDF\",\"TF-IDF\",\"TF-IDF\",\"TF-IDF\",\"TF-IDF\",\"TF-IDF\",\"TF-IDF\",\"TF-IDF\",\"TF-IDF\",\"none\",\"BM25\",\"BM25\",\"TF-IDF\",\"TF-IDF\",\"TF-IDF\",\"none\",\"TF-IDF\",\"TF-IDF\",\"BM25\",\"none\",\"TF-IDF\",\"TF-IDF\",\"TF-IDF\",\"TF-IDF\",\"TF-IDF\",\"TF-IDF\",\"TF-IDF\",\"none\",\"BM25\",\"TF-IDF\",\"TF-IDF\",\"TF-IDF\",\"TF-IDF\",\"TF-IDF\",\"TF-IDF\",\"TF-IDF\",\"TF-IDF\",\"TF-IDF\",\"TF-IDF\",\"TF-IDF\",\"TF-IDF\",\"none\",\"TF-IDF\",\"TF-IDF\",\"TF-IDF\",\"TF-IDF\",\"TF-IDF\",\"TF-IDF\",\"BM25\",\"TF-IDF\",\"TF-IDF\",\"TF-IDF\",\"TF-IDF\",\"TF-IDF\",\"TF-IDF\",\"TF-IDF\",\"TF-IDF\",\"TF-IDF\",\"TF-IDF\",\"BM25\",\"TF-IDF\",\"none\",\"TF-IDF\",\"TF-IDF\",\"TF-IDF\",\"TF-IDF\",\"TF-IDF\",\"TF-IDF\",\"TF-IDF\",\"TF-IDF\",\"TF-IDF\",\"TF-IDF\",\"TF-IDF\",\"TF-IDF\",\"TF-IDF\",\"TF-IDF\",\"TF-IDF\",\"TF-IDF\",\"TF-IDF\",\"none\",\"BM25\",\"TF-IDF\",\"TF-IDF\",\"TF-IDF\",\"TF-IDF\",\"TF-IDF\",\"TF-IDF\",\"TF-IDF\",\"TF-IDF\",\"TF-IDF\",\"TF-IDF\",\"TF-IDF\",\"TF-IDF\",\"TF-IDF\",\"TF-IDF\",\"TF-IDF\",\"TF-IDF\",\"TF-IDF\",\"TF-IDF\",\"TF-IDF\",\"none\",\"BM25\",\"TF-IDF\",\"TF-IDF\",\"TF-IDF\",\"TF-IDF\",\"TF-IDF\",\"TF-IDF\",\"TF-IDF\",\"TF-IDF\",\"TF-IDF\",\"TF-IDF\",\"TF-IDF\",\"TF-IDF\",\"TF-IDF\",\"TF-IDF\",\"TF-IDF\",\"TF-IDF\",\"TF-IDF\",\"TF-IDF\",\"TF-IDF\",\"TF-IDF\",\"TF-IDF\",\"TF-IDF\",\"TF-IDF\",\"TF-IDF\",\"TF-IDF\",\"TF-IDF\",\"none\",\"TF-IDF\",\"BM25\",\"TF-IDF\",\"TF-IDF\",\"TF-IDF\",\"TF-IDF\",\"TF-IDF\",\"TF-IDF\",\"TF-IDF\",\"TF-IDF\",\"TF-IDF\",\"TF-IDF\",\"TF-IDF\",\"TF-IDF\",\"TF-IDF\",\"TF-IDF\",\"TF-IDF\",\"TF-IDF\",\"TF-IDF\",\"TF-IDF\",\"TF-IDF\",\"TF-IDF\",\"TF-IDF\",\"TF-IDF\",\"TF-IDF\",\"TF-IDF\",\"TF-IDF\",\"TF-IDF\",\"TF-IDF\",\"TF-IDF\",\"none\",\"TF-IDF\",\"TF-IDF\",\"TF-IDF\",\"TF-IDF\",\"TF-IDF\",\"TF-IDF\",\"BM25\",\"TF-IDF\",\"TF-IDF\",\"TF-IDF\",\"TF-IDF\",\"TF-IDF\",\"TF-IDF\",\"TF-IDF\",\"TF-IDF\",\"TF-IDF\",\"TF-IDF\",\"TF-IDF\",\"TF-IDF\",\"TF-IDF\",\"TF-IDF\",\"TF-IDF\",\"TF-IDF\",\"TF-IDF\",\"TF-IDF\",\"TF-IDF\",\"TF-IDF\",\"TF-IDF\",\"TF-IDF\",\"TF-IDF\",\"TF-IDF\",\"TF-IDF\",\"TF-IDF\",\"TF-IDF\",\"TF-IDF\",\"TF-IDF\",\"TF-IDF\",\"TF-IDF\",\"TF-IDF\",\"none\",\"TF-IDF\",\"BM25\",\"TF-IDF\",\"TF-IDF\",\"TF-IDF\",\"TF-IDF\",\"TF-IDF\",\"TF-IDF\",\"TF-IDF\",\"TF-IDF\",\"TF-IDF\",\"TF-IDF\",\"TF-IDF\",\"TF-IDF\",\"TF-IDF\",\"TF-IDF\",\"TF-IDF\",\"TF-IDF\",\"TF-IDF\",\"TF-IDF\",\"TF-IDF\",\"TF-IDF\",\"TF-IDF\",\"TF-IDF\",\"TF-IDF\",\"TF-IDF\",\"TF-IDF\",\"TF-IDF\",\"TF-IDF\",\"TF-IDF\",\"TF-IDF\",\"TF-IDF\",\"TF-IDF\",\"TF-IDF\",\"TF-IDF\",\"TF-IDF\",\"none\",\"TF-IDF\",\"BM25\",\"TF-IDF\",\"TF-IDF\",\"TF-IDF\",\"TF-IDF\",\"TF-IDF\",\"TF-IDF\",\"TF-IDF\",\"TF-IDF\",\"TF-IDF\",\"TF-IDF\",\"TF-IDF\",\"TF-IDF\",\"TF-IDF\",\"TF-IDF\",\"TF-IDF\",\"TF-IDF\",\"TF-IDF\",\"TF-IDF\",\"TF-IDF\",\"TF-IDF\",\"none\",\"BM25\",\"TF-IDF\",\"TF-IDF\",\"TF-IDF\",\"TF-IDF\",\"TF-IDF\",\"TF-IDF\",\"TF-IDF\",\"TF-IDF\",\"TF-IDF\",\"TF-IDF\",\"TF-IDF\",\"TF-IDF\",\"TF-IDF\",\"TF-IDF\",\"TF-IDF\",\"TF-IDF\",\"TF-IDF\",\"TF-IDF\",\"TF-IDF\",\"TF-IDF\",\"none\",\"TF-IDF\",\"BM25\",\"TF-IDF\",\"TF-IDF\",\"TF-IDF\",\"TF-IDF\",\"TF-IDF\",\"TF-IDF\",\"TF-IDF\",\"TF-IDF\",\"TF-IDF\",\"TF-IDF\",\"TF-IDF\",\"TF-IDF\",\"TF-IDF\",\"TF-IDF\",\"TF-IDF\",\"TF-IDF\",\"TF-IDF\",\"TF-IDF\",\"TF-IDF\",\"TF-IDF\",\"TF-IDF\",\"none\",\"BM25\",\"TF-IDF\",\"TF-IDF\",\"TF-IDF\",\"TF-IDF\",\"TF-IDF\",\"TF-IDF\",\"TF-IDF\",\"TF-IDF\",\"TF-IDF\",\"TF-IDF\",\"TF-IDF\",\"TF-IDF\",\"TF-IDF\",\"TF-IDF\",\"TF-IDF\",\"TF-IDF\",\"TF-IDF\",\"TF-IDF\",\"TF-IDF\",\"TF-IDF\",\"TF-IDF\",\"TF-IDF\",\"TF-IDF\",\"BM25\",\"none\",\"TF-IDF\",\"TF-IDF\",\"TF-IDF\",\"TF-IDF\",\"TF-IDF\",\"TF-IDF\",\"TF-IDF\",\"TF-IDF\",\"TF-IDF\",\"TF-IDF\",\"TF-IDF\",\"TF-IDF\",\"TF-IDF\",\"TF-IDF\",\"TF-IDF\",\"TF-IDF\",\"TF-IDF\",\"TF-IDF\",\"TF-IDF\",\"TF-IDF\",\"none\",\"TF-IDF\",\"TF-IDF\",\"BM25\",\"TF-IDF\",\"TF-IDF\",\"TF-IDF\",\"TF-IDF\",\"TF-IDF\",\"TF-IDF\",\"TF-IDF\",\"TF-IDF\",\"TF-IDF\",\"TF-IDF\",\"TF-IDF\",\"TF-IDF\",\"TF-IDF\",\"TF-IDF\",\"TF-IDF\",\"TF-IDF\",\"TF-IDF\",\"TF-IDF\",\"TF-IDF\",\"TF-IDF\",\"TF-IDF\",\"none\",\"TF-IDF\",\"TF-IDF\",\"BM25\"],\"y\":[0.03693410769748605,0.02950565890072772,0.03659388580079572,0.03654694011331058,0.03780927185688956,0.0394110428832288,0.024006979979799066,0.03454623442297158,0.03826173976637384,0.036433943816791194,0.041522422669492146,0.04131477022142686,0.04362394620253716,0.043617225979213074,0.04339865261082951,0.043702796228289695,0.04360893160935133,0.0432735570137575,0.043445371986879006,0.043007080314916686,0.016478841553009393,0.04360525822915029,0.04371697358064655,0.04376835296556982,0.043749756408625315,0.04333191637848008,0.0436234556752871,0.04380381028189539,0.03640595812234979,0.01400613716479738,0.03822558567838665,0.04387137483639633,0.04385864230975724,0.04390049654735531,0.03476588918097434,0.04092732838792521,0.044148636445727155,0.03706749431991632,0.03209564835439163,0.011591760925937264,0.04357808078983646,0.04379978461394221,0.04385834576373801,0.04407368276710715,0.02664175345654471,0.04409705304606093,0.03395454150194877,0.041960781231533836,0.043791258358471294,0.041887212177560584,0.044148536110607775,0.04427531956735329,0.04416902788647253,0.04425917118731959,0.04423339732484115,0.04454130908344809,0.034599044140762536,0.0351619341935386,0.04498923069719356,0.04564349259861089,0.026123542632391486,0.04501886188759169,0.045815864989061414,0.04582322401264476,0.04585618744383831,0.04589327910777384,0.046648907350549156,0.04147025286679578,0.047004881860969336,0.040136277388698786,0.03795062174328781,0.047033718174255966,0.04706022225343587,0.04662457385444997,0.04730033980160257,0.04710087246960237,0.03733892311431149,0.04712724834279667,0.04178191938853411,0.0470467204908823,0.03729530186377906,0.046471053318080775,0.04728495396847546,0.04843907986006404,0.04769853867472737,0.028051728328171495,0.049890490906291725,0.04603569477610609,0.047727137528231385,0.0478646300867101,0.04929765973908228,0.048944583798775025,0.04811644002077834,0.04928062283582542,0.036526392595712706,0.04619822652102311,0.0495917932561403,0.034041091690690126,0.037363637883864154,0.04376502518411324,0.038940388675954084,0.04990843528496086,0.04621956780089785,0.04537196792843485,0.04208870516413552,0.04815071003819207,0.045927074205622864,0.0491778763291599,0.049169851749285315,0.026130944019691776,0.04959505637718693,0.049204049302446054,0.04653824440297099,0.04923222228911028,0.049630018706923754,0.049163671105936585,0.04598442464497911,0.04659938639500214,0.03889954670822616,0.03753201470689754,0.041501527323481016,0.04994933299442155,0.04731299317498052,0.04958215774018373,0.0469154576284774,0.04958890471953923,0.038527291152447664,0.04628601640590519,0.04705453436700623,0.03853470703259859,0.04300299890523063,0.04934406919109634,0.047456965152496595,0.04936614291734233,0.046291718785185655,0.04691905074058289,0.04990779314019738,0.04750510482790124,0.04557724243417271,0.027839313306443386,0.045828794841435455,0.049178870761675396,0.04990601943825513,0.047479724502057466,0.047791412205653895,0.04639345190714603,0.04994261946010584,0.03555692011317694,0.04965573348316518,0.041714290173622895,0.04768739590231192,0.04937826005524956,0.04735551631337386,0.04955581085269061,0.049890490906291725,0.036165744698402495,0.04775906193352281,0.0461564882262297,0.04676283118950449,0.038704727121919094,0.020721504268701677,0.04266998218494037,0.049368361438313337,0.049891370510837627,0.047042289023113325,0.04769802362111488,0.03691360142877094,0.049847380250033324,0.04706535829670938,0.047753553535473406,0.046548871006939496,0.049369569919083554,0.04769689540844034,0.04211797626293863,0.04985111606097521,0.049833714606784874,0.04704128009774709,0.03216165771454326,0.03513438997362186,0.049599267107693364,0.042075960374315144,0.047679371322437436,0.047767542480773,0.04961234634791127,0.04704922775403017,0.04429842340082375,0.04235441820123484,0.04706412751924592,0.04647413026173918,0.047812290829145336,0.04783566556743799,0.04986886980291764,0.049604045289041235,0.04706217767342759,0.047862567642591385,0.04067031886500772,0.04984269348512744,0.046984877267850875,0.0476645573994904,0.032028948911586114,0.046223529923275414,0.04784513162852644,0.0496052058319212,0.047072919105365825,0.04982159969854696,0.03855078406321408,0.04959879664746728,0.037138225004848154,0.04989037384865253,0.04726728606880146,0.04983274470063162,0.04770897575680381,0.04949320731242169,0.047869821871716546,0.04699137229457346,0.04794841214099339,0.049839740288116004,0.04983492308755505,0.03564598202440494,0.04654776174645384,0.03401599899218879,0.047679371322437436,0.049876711549908144,0.0498932412033952,0.04781848930984878,0.043576516676809916,0.04960045329177033,0.0469845718031542,0.04783291638516917,0.04699631212694691,0.04960773316209277,0.049891370510837627,0.049839740288116004,0.042753741942530905,0.04778610224817374,0.04771773501271849,0.047227781902664294,0.04790619446729666,0.049922257005061546,0.047126517011260284,0.03752938815644112,0.04798966994204884,0.04958462152477983,0.04781723735052673,0.049841190688007284,0.04720709837523838,0.04794431623845675,0.04959987246291307,0.046775688577625436,0.0487287150192735,0.03921865363647783,0.04654642171519377,0.04991914550152862,0.04716087510061216,0.03869163450368519,0.03726155358898585,0.046845421485537664,0.04442570853316567,0.047282264987277965,0.046554255658341676,0.04781072448644982,0.0497992662158258,0.03184703799579367,0.04713369766129812,0.04617743262496576,0.04984070350526126,0.048027089367374085,0.04667624644088867,0.047160021137263454,0.04984681168435722,0.04793105305052016,0.04699879374889738,0.035521332361196284,0.04793104078733903,0.04454054319203769,0.04985138027678925,0.046743104190215726,0.04286203475162412,0.03732658969848043,0.04774713877684623,0.04992362602202267,0.036958753347289916,0.04665704118422019,0.0478389844302174,0.0479255413079667,0.04616927872427092,0.04700468565006971,0.047823019997902276,0.048008279877009404,0.02786422094239185,0.04937769817858145,0.04656114310686431,0.04961626499173696,0.04711250353959838,0.047818091313875516,0.047909463162516375,0.050162974334274815,0.04714728861062439,0.04783431215816197,0.04353304927346051,0.041301690981208984,0.04646627290706358,0.042093668408037015,0.050059829831635996,0.05017742928046168,0.04675033277814398,0.01991731605785529,0.04188282864768165,0.04728393389476257,0.044369952307371646,0.04048520279957126,0.04992678211894203,0.0467714611245989,0.04600632891635682,0.047480200536456595,0.050232338231915176,0.04725691030263145,0.047917116502449786,0.027957140181538873,0.0480567762995051,0.04711755262576847,0.049686207488565406,0.048049530989057065,0.04653595118807746,0.04169842719126168,0.04200254070818617,0.04806544302414315,0.0499307397819809,0.046850165107011156,0.04264243462051979,0.047939016314488304,0.03830173891909947,0.04300625756693852,0.04803477169300822,0.04992604967257115,0.039861042548778335,0.03829865194192891,0.0459246204545387,0.04782007237506429,0.03867653964240434,0.046904817646493076,0.04482561198848429,0.050234773030810226,0.0499758002840579,0.04791684671246223,0.047185257649436416,0.05023720114069726,0.04792758479989635,0.0279084743041758,0.04248813369988957,0.03890101494547179,0.048208082774242086,0.0502402490986546,0.04678151804805659,0.050244874547654264,0.04619565013812629,0.04731299763431907,0.048155151539473424,0.04814683821742212,0.035079569094106415,0.04999021844070141,0.04702152188308767,0.050186830681139945,0.047824749106458266,0.04670318084624698,0.04986284189191714,0.043199344700185785,0.0452460807987548,0.04732027861947637,0.02150385955758865,0.03808101169015483,0.039461509218566324,0.05024410977107824,0.04421671939834431,0.040711889934602265,0.046260912559056684,0.04732151051177439,0.047946819042265956,0.028006635495888783,0.047983650949725724,0.05026688472832435,0.047252597007336285,0.043308226141979135,0.043912482134772904,0.04999271232583328,0.050256474402279865,0.04784084062992422,0.04664311021032273,0.05027369636809012,0.04706450656302998,0.03648499432549027,0.04733004903042649,0.04822117204797194,0.04315358408194302,0.05024410977107824,0.050242880108449496,0.04075289020885151,0.047252773151212145,0.04293838531807183,0.041376904416304566],\"type\":\"scatter\",\"xaxis\":\"x2\",\"yaxis\":\"y2\"},{\"marker\":{\"color\":[6,20,29,44,60,85,109,139,177,220,262,289,318,348,378],\"colorbar\":{\"title\":{\"text\":\"Trial\"},\"x\":1.0,\"xpad\":40},\"colorscale\":[[0.0,\"rgb(247,251,255)\"],[0.125,\"rgb(222,235,247)\"],[0.25,\"rgb(198,219,239)\"],[0.375,\"rgb(158,202,225)\"],[0.5,\"rgb(107,174,214)\"],[0.625,\"rgb(66,146,198)\"],[0.75,\"rgb(33,113,181)\"],[0.875,\"rgb(8,81,156)\"],[1.0,\"rgb(8,48,107)\"]],\"line\":{\"color\":\"Grey\",\"width\":0.5},\"showscale\":false},\"mode\":\"markers\",\"name\":\"Feasible Trial\",\"showlegend\":false,\"x\":[false,true,true,false,true,false,true,false,true,false,true,false,true,false,true],\"y\":[0.024006979979799066,0.016478841553009393,0.01400613716479738,0.02664175345654471,0.026123542632391486,0.028051728328171495,0.026130944019691776,0.027839313306443386,0.03216165771454326,0.03401599899218879,0.03184703799579367,0.02786422094239185,0.027957140181538873,0.0279084743041758,0.028006635495888783],\"type\":\"scatter\",\"xaxis\":\"x3\",\"yaxis\":\"y3\"},{\"marker\":{\"color\":[6,20,29,44,60,85,109,139,177,220,262,289,318,348,378],\"colorbar\":{\"title\":{\"text\":\"Trial\"},\"x\":1.0,\"xpad\":40},\"colorscale\":[[0.0,\"rgb(247,251,255)\"],[0.125,\"rgb(222,235,247)\"],[0.25,\"rgb(198,219,239)\"],[0.375,\"rgb(158,202,225)\"],[0.5,\"rgb(107,174,214)\"],[0.625,\"rgb(66,146,198)\"],[0.75,\"rgb(33,113,181)\"],[0.875,\"rgb(8,81,156)\"],[1.0,\"rgb(8,48,107)\"]],\"line\":{\"color\":\"Grey\",\"width\":0.5},\"showscale\":false},\"mode\":\"markers\",\"name\":\"Feasible Trial\",\"showlegend\":false,\"x\":[true,false,false,true,false,true,true,false,true,false,false,true,false,true,false],\"y\":[0.024006979979799066,0.016478841553009393,0.01400613716479738,0.02664175345654471,0.026123542632391486,0.028051728328171495,0.026130944019691776,0.027839313306443386,0.03216165771454326,0.03401599899218879,0.03184703799579367,0.02786422094239185,0.027957140181538873,0.0279084743041758,0.028006635495888783],\"type\":\"scatter\",\"xaxis\":\"x4\",\"yaxis\":\"y4\"},{\"marker\":{\"color\":[0,1,2,3,4,5,6,7,8,9,10,11,12,13,14,15,16,17,18,19,20,21,22,23,24,25,26,27,28,29,30,31,32,33,34,35,36,37,38,39,40,41,42,43,44,45,46,47,48,49,50,51,52,53,54,55,56,57,58,59,60,61,62,63,64,65,66,67,68,69,70,71,72,73,74,75,76,77,78,79,80,81,82,83,84,85,86,87,88,89,90,91,92,93,94,95,96,97,98,99,100,101,102,103,104,105,106,107,108,109,110,111,112,113,114,115,116,117,118,119,120,121,122,123,124,125,126,127,128,129,130,131,132,133,134,135,136,137,138,139,140,141,142,143,144,145,146,147,148,149,150,151,152,153,154,155,156,157,158,159,160,161,162,163,164,165,166,167,168,169,170,171,172,173,174,175,176,177,178,179,180,181,182,183,184,185,186,187,188,189,190,191,192,193,194,195,196,197,198,199,200,201,202,203,204,205,206,207,208,209,210,211,212,213,214,215,216,217,218,219,220,221,222,223,224,225,226,227,228,229,230,231,232,233,234,235,236,237,238,239,240,241,242,243,244,245,246,247,248,249,250,251,252,253,254,255,256,257,258,259,260,261,262,263,264,265,266,267,268,269,270,271,272,273,274,275,276,277,278,279,280,281,282,283,284,285,286,287,288,289,290,291,292,293,294,295,296,297,298,299,300,301,302,303,304,305,306,307,308,309,310,311,312,313,314,315,316,317,318,319,320,321,322,323,324,325,326,327,328,329,330,331,332,333,334,335,336,337,338,339,340,341,342,343,344,345,346,347,348,349,350,351,352,353,354,355,356,357,358,359,360,361,362,363,364,365,366,367,368,369,370,371,372,373,374,375,376,377,378,379,380,381,382,383,384,385,386,387,388,389,390,391,392,393,394,395,396,397,398,399],\"colorbar\":{\"title\":{\"text\":\"Trial\"},\"x\":1.0,\"xpad\":40},\"colorscale\":[[0.0,\"rgb(247,251,255)\"],[0.125,\"rgb(222,235,247)\"],[0.25,\"rgb(198,219,239)\"],[0.375,\"rgb(158,202,225)\"],[0.5,\"rgb(107,174,214)\"],[0.625,\"rgb(66,146,198)\"],[0.75,\"rgb(33,113,181)\"],[0.875,\"rgb(8,81,156)\"],[1.0,\"rgb(8,48,107)\"]],\"line\":{\"color\":\"Grey\",\"width\":0.5},\"showscale\":false},\"mode\":\"markers\",\"name\":\"Feasible Trial\",\"showlegend\":false,\"x\":[896,500,323,446,438,165,410,803,546,614,13,51,1,36,222,132,171,227,685,335,116,9,97,280,295,293,250,371,375,561,974,292,274,358,475,378,363,500,428,205,333,372,407,436,541,467,620,461,709,524,588,589,594,599,605,609,669,778,631,752,772,647,636,711,729,849,849,854,729,723,852,735,927,950,967,977,971,931,935,907,906,941,997,995,992,999,892,896,912,995,993,996,992,998,877,962,978,990,883,917,954,817,979,821,999,877,826,875,870,879,800,819,800,824,763,789,794,825,765,833,792,862,754,863,853,865,808,891,859,837,920,870,947,812,819,839,814,689,767,897,805,861,813,777,805,747,848,931,848,845,785,865,865,899,892,899,838,890,919,852,810,873,885,902,907,893,838,937,940,919,863,887,960,903,938,942,947,938,908,966,960,924,975,957,963,949,937,975,923,830,850,907,919,932,960,916,940,938,973,915,940,887,959,955,954,949,911,915,893,889,932,930,966,902,948,878,926,928,932,899,877,924,906,898,896,847,908,871,886,933,904,902,926,887,858,925,905,841,873,875,917,891,859,822,936,942,938,906,924,887,944,915,871,900,875,925,164,942,878,906,926,974,859,894,952,921,566,904,873,918,885,840,903,924,861,914,892,398,912,828,876,870,31,849,886,870,905,816,857,886,842,915,887,915,873,795,487,550,826,495,514,501,861,476,521,834,449,469,478,531,504,805,487,808,95,459,438,453,461,424,413,787,459,347,241,494,435,843,821,770,476,842,688,657,804,789,795,806,843,522,851,820,392,748,743,830,390,711,402,312,351,361,318,276,291,271,313,384,284,381,306,292,568,323,261,314,348,535,582,296,771,427,302,336,244,292,569,229,329,298,365,405,394,370,336,348,341,320,334,360,374,328,345,314,302,303,303,330,259,364],\"y\":[0.03693410769748605,0.02950565890072772,0.03659388580079572,0.03654694011331058,0.03780927185688956,0.0394110428832288,0.024006979979799066,0.03454623442297158,0.03826173976637384,0.036433943816791194,0.041522422669492146,0.04131477022142686,0.04362394620253716,0.043617225979213074,0.04339865261082951,0.043702796228289695,0.04360893160935133,0.0432735570137575,0.043445371986879006,0.043007080314916686,0.016478841553009393,0.04360525822915029,0.04371697358064655,0.04376835296556982,0.043749756408625315,0.04333191637848008,0.0436234556752871,0.04380381028189539,0.03640595812234979,0.01400613716479738,0.03822558567838665,0.04387137483639633,0.04385864230975724,0.04390049654735531,0.03476588918097434,0.04092732838792521,0.044148636445727155,0.03706749431991632,0.03209564835439163,0.011591760925937264,0.04357808078983646,0.04379978461394221,0.04385834576373801,0.04407368276710715,0.02664175345654471,0.04409705304606093,0.03395454150194877,0.041960781231533836,0.043791258358471294,0.041887212177560584,0.044148536110607775,0.04427531956735329,0.04416902788647253,0.04425917118731959,0.04423339732484115,0.04454130908344809,0.034599044140762536,0.0351619341935386,0.04498923069719356,0.04564349259861089,0.026123542632391486,0.04501886188759169,0.045815864989061414,0.04582322401264476,0.04585618744383831,0.04589327910777384,0.046648907350549156,0.04147025286679578,0.047004881860969336,0.040136277388698786,0.03795062174328781,0.047033718174255966,0.04706022225343587,0.04662457385444997,0.04730033980160257,0.04710087246960237,0.03733892311431149,0.04712724834279667,0.04178191938853411,0.0470467204908823,0.03729530186377906,0.046471053318080775,0.04728495396847546,0.04843907986006404,0.04769853867472737,0.028051728328171495,0.049890490906291725,0.04603569477610609,0.047727137528231385,0.0478646300867101,0.04929765973908228,0.048944583798775025,0.04811644002077834,0.04928062283582542,0.036526392595712706,0.04619822652102311,0.0495917932561403,0.034041091690690126,0.037363637883864154,0.04376502518411324,0.038940388675954084,0.04990843528496086,0.04621956780089785,0.04537196792843485,0.04208870516413552,0.04815071003819207,0.045927074205622864,0.0491778763291599,0.049169851749285315,0.026130944019691776,0.04959505637718693,0.049204049302446054,0.04653824440297099,0.04923222228911028,0.049630018706923754,0.049163671105936585,0.04598442464497911,0.04659938639500214,0.03889954670822616,0.03753201470689754,0.041501527323481016,0.04994933299442155,0.04731299317498052,0.04958215774018373,0.0469154576284774,0.04958890471953923,0.038527291152447664,0.04628601640590519,0.04705453436700623,0.03853470703259859,0.04300299890523063,0.04934406919109634,0.047456965152496595,0.04936614291734233,0.046291718785185655,0.04691905074058289,0.04990779314019738,0.04750510482790124,0.04557724243417271,0.027839313306443386,0.045828794841435455,0.049178870761675396,0.04990601943825513,0.047479724502057466,0.047791412205653895,0.04639345190714603,0.04994261946010584,0.03555692011317694,0.04965573348316518,0.041714290173622895,0.04768739590231192,0.04937826005524956,0.04735551631337386,0.04955581085269061,0.049890490906291725,0.036165744698402495,0.04775906193352281,0.0461564882262297,0.04676283118950449,0.038704727121919094,0.020721504268701677,0.04266998218494037,0.049368361438313337,0.049891370510837627,0.047042289023113325,0.04769802362111488,0.03691360142877094,0.049847380250033324,0.04706535829670938,0.047753553535473406,0.046548871006939496,0.049369569919083554,0.04769689540844034,0.04211797626293863,0.04985111606097521,0.049833714606784874,0.04704128009774709,0.03216165771454326,0.03513438997362186,0.049599267107693364,0.042075960374315144,0.047679371322437436,0.047767542480773,0.04961234634791127,0.04704922775403017,0.04429842340082375,0.04235441820123484,0.04706412751924592,0.04647413026173918,0.047812290829145336,0.04783566556743799,0.04986886980291764,0.049604045289041235,0.04706217767342759,0.047862567642591385,0.04067031886500772,0.04984269348512744,0.046984877267850875,0.0476645573994904,0.032028948911586114,0.046223529923275414,0.04784513162852644,0.0496052058319212,0.047072919105365825,0.04982159969854696,0.03855078406321408,0.04959879664746728,0.037138225004848154,0.04989037384865253,0.04726728606880146,0.04983274470063162,0.04770897575680381,0.04949320731242169,0.047869821871716546,0.04699137229457346,0.04794841214099339,0.049839740288116004,0.04983492308755505,0.03564598202440494,0.04654776174645384,0.03401599899218879,0.047679371322437436,0.049876711549908144,0.0498932412033952,0.04781848930984878,0.043576516676809916,0.04960045329177033,0.0469845718031542,0.04783291638516917,0.04699631212694691,0.04960773316209277,0.049891370510837627,0.049839740288116004,0.042753741942530905,0.04778610224817374,0.04771773501271849,0.047227781902664294,0.04790619446729666,0.049922257005061546,0.047126517011260284,0.03752938815644112,0.04798966994204884,0.04958462152477983,0.04781723735052673,0.049841190688007284,0.04720709837523838,0.04794431623845675,0.04959987246291307,0.046775688577625436,0.0487287150192735,0.03921865363647783,0.04654642171519377,0.04991914550152862,0.04716087510061216,0.03869163450368519,0.03726155358898585,0.046845421485537664,0.04442570853316567,0.047282264987277965,0.046554255658341676,0.04781072448644982,0.0497992662158258,0.03184703799579367,0.04713369766129812,0.04617743262496576,0.04984070350526126,0.048027089367374085,0.04667624644088867,0.047160021137263454,0.04984681168435722,0.04793105305052016,0.04699879374889738,0.035521332361196284,0.04793104078733903,0.04454054319203769,0.04985138027678925,0.046743104190215726,0.04286203475162412,0.03732658969848043,0.04774713877684623,0.04992362602202267,0.036958753347289916,0.04665704118422019,0.0478389844302174,0.0479255413079667,0.04616927872427092,0.04700468565006971,0.047823019997902276,0.048008279877009404,0.02786422094239185,0.04937769817858145,0.04656114310686431,0.04961626499173696,0.04711250353959838,0.047818091313875516,0.047909463162516375,0.050162974334274815,0.04714728861062439,0.04783431215816197,0.04353304927346051,0.041301690981208984,0.04646627290706358,0.042093668408037015,0.050059829831635996,0.05017742928046168,0.04675033277814398,0.01991731605785529,0.04188282864768165,0.04728393389476257,0.044369952307371646,0.04048520279957126,0.04992678211894203,0.0467714611245989,0.04600632891635682,0.047480200536456595,0.050232338231915176,0.04725691030263145,0.047917116502449786,0.027957140181538873,0.0480567762995051,0.04711755262576847,0.049686207488565406,0.048049530989057065,0.04653595118807746,0.04169842719126168,0.04200254070818617,0.04806544302414315,0.0499307397819809,0.046850165107011156,0.04264243462051979,0.047939016314488304,0.03830173891909947,0.04300625756693852,0.04803477169300822,0.04992604967257115,0.039861042548778335,0.03829865194192891,0.0459246204545387,0.04782007237506429,0.03867653964240434,0.046904817646493076,0.04482561198848429,0.050234773030810226,0.0499758002840579,0.04791684671246223,0.047185257649436416,0.05023720114069726,0.04792758479989635,0.0279084743041758,0.04248813369988957,0.03890101494547179,0.048208082774242086,0.0502402490986546,0.04678151804805659,0.050244874547654264,0.04619565013812629,0.04731299763431907,0.048155151539473424,0.04814683821742212,0.035079569094106415,0.04999021844070141,0.04702152188308767,0.050186830681139945,0.047824749106458266,0.04670318084624698,0.04986284189191714,0.043199344700185785,0.0452460807987548,0.04732027861947637,0.02150385955758865,0.03808101169015483,0.039461509218566324,0.05024410977107824,0.04421671939834431,0.040711889934602265,0.046260912559056684,0.04732151051177439,0.047946819042265956,0.028006635495888783,0.047983650949725724,0.05026688472832435,0.047252597007336285,0.043308226141979135,0.043912482134772904,0.04999271232583328,0.050256474402279865,0.04784084062992422,0.04664311021032273,0.05027369636809012,0.04706450656302998,0.03648499432549027,0.04733004903042649,0.04822117204797194,0.04315358408194302,0.05024410977107824,0.050242880108449496,0.04075289020885151,0.047252773151212145,0.04293838531807183,0.041376904416304566],\"type\":\"scatter\",\"xaxis\":\"x5\",\"yaxis\":\"y5\"},{\"marker\":{\"color\":[0,1,2,3,4,5,6,7,8,9,10,11,12,13,14,15,16,17,18,19,20,21,22,23,24,25,26,27,28,29,30,31,32,33,34,35,36,37,38,39,40,41,42,43,44,45,46,47,48,49,50,51,52,53,54,55,56,57,58,59,60,61,62,63,64,65,66,67,68,69,70,71,72,73,74,75,76,77,78,79,80,81,82,83,84,85,86,87,88,89,90,91,92,93,94,95,96,97,98,99,100,101,102,103,104,105,106,107,108,109,110,111,112,113,114,115,116,117,118,119,120,121,122,123,124,125,126,127,128,129,130,131,132,133,134,135,136,137,138,139,140,141,142,143,144,145,146,147,148,149,150,151,152,153,154,155,156,157,158,159,160,161,162,163,164,165,166,167,168,169,170,171,172,173,174,175,176,177,178,179,180,181,182,183,184,185,186,187,188,189,190,191,192,193,194,195,196,197,198,199,200,201,202,203,204,205,206,207,208,209,210,211,212,213,214,215,216,217,218,219,220,221,222,223,224,225,226,227,228,229,230,231,232,233,234,235,236,237,238,239,240,241,242,243,244,245,246,247,248,249,250,251,252,253,254,255,256,257,258,259,260,261,262,263,264,265,266,267,268,269,270,271,272,273,274,275,276,277,278,279,280,281,282,283,284,285,286,287,288,289,290,291,292,293,294,295,296,297,298,299,300,301,302,303,304,305,306,307,308,309,310,311,312,313,314,315,316,317,318,319,320,321,322,323,324,325,326,327,328,329,330,331,332,333,334,335,336,337,338,339,340,341,342,343,344,345,346,347,348,349,350,351,352,353,354,355,356,357,358,359,360,361,362,363,364,365,366,367,368,369,370,371,372,373,374,375,376,377,378,379,380,381,382,383,384,385,386,387,388,389,390,391,392,393,394,395,396,397,398,399],\"colorbar\":{\"title\":{\"text\":\"Trial\"},\"x\":1.0,\"xpad\":40},\"colorscale\":[[0.0,\"rgb(247,251,255)\"],[0.125,\"rgb(222,235,247)\"],[0.25,\"rgb(198,219,239)\"],[0.375,\"rgb(158,202,225)\"],[0.5,\"rgb(107,174,214)\"],[0.625,\"rgb(66,146,198)\"],[0.75,\"rgb(33,113,181)\"],[0.875,\"rgb(8,81,156)\"],[1.0,\"rgb(8,48,107)\"]],\"line\":{\"color\":\"Grey\",\"width\":0.5},\"showscale\":false},\"mode\":\"markers\",\"name\":\"Feasible Trial\",\"showlegend\":false,\"x\":[\"jaccard\",\"tversky\",\"asymmetric\",\"asymmetric\",\"dice\",\"dice\",\"euclidean\",\"asymmetric\",\"dice\",\"tversky\",\"dice\",\"dice\",\"cosine\",\"cosine\",\"cosine\",\"cosine\",\"cosine\",\"cosine\",\"cosine\",\"jaccard\",\"euclidean\",\"cosine\",\"cosine\",\"cosine\",\"cosine\",\"cosine\",\"cosine\",\"cosine\",\"jaccard\",\"euclidean\",\"tversky\",\"cosine\",\"cosine\",\"cosine\",\"jaccard\",\"asymmetric\",\"cosine\",\"tversky\",\"cosine\",\"asymmetric\",\"cosine\",\"cosine\",\"cosine\",\"cosine\",\"euclidean\",\"cosine\",\"dice\",\"tversky\",\"cosine\",\"asymmetric\",\"cosine\",\"cosine\",\"cosine\",\"cosine\",\"cosine\",\"cosine\",\"dice\",\"jaccard\",\"cosine\",\"cosine\",\"euclidean\",\"cosine\",\"cosine\",\"cosine\",\"cosine\",\"cosine\",\"cosine\",\"cosine\",\"cosine\",\"dice\",\"tversky\",\"cosine\",\"cosine\",\"cosine\",\"cosine\",\"cosine\",\"jaccard\",\"cosine\",\"asymmetric\",\"cosine\",\"cosine\",\"cosine\",\"cosine\",\"cosine\",\"cosine\",\"euclidean\",\"cosine\",\"cosine\",\"cosine\",\"cosine\",\"cosine\",\"cosine\",\"cosine\",\"cosine\",\"tversky\",\"cosine\",\"cosine\",\"asymmetric\",\"cosine\",\"jaccard\",\"dice\",\"cosine\",\"cosine\",\"cosine\",\"cosine\",\"cosine\",\"cosine\",\"cosine\",\"cosine\",\"euclidean\",\"cosine\",\"cosine\",\"cosine\",\"cosine\",\"cosine\",\"cosine\",\"cosine\",\"cosine\",\"tversky\",\"cosine\",\"cosine\",\"cosine\",\"cosine\",\"cosine\",\"cosine\",\"cosine\",\"dice\",\"cosine\",\"asymmetric\",\"jaccard\",\"cosine\",\"cosine\",\"cosine\",\"cosine\",\"cosine\",\"cosine\",\"cosine\",\"cosine\",\"cosine\",\"euclidean\",\"cosine\",\"cosine\",\"cosine\",\"cosine\",\"cosine\",\"cosine\",\"cosine\",\"cosine\",\"cosine\",\"cosine\",\"cosine\",\"cosine\",\"cosine\",\"cosine\",\"cosine\",\"tversky\",\"cosine\",\"cosine\",\"cosine\",\"dice\",\"asymmetric\",\"cosine\",\"cosine\",\"cosine\",\"cosine\",\"cosine\",\"jaccard\",\"cosine\",\"cosine\",\"cosine\",\"cosine\",\"cosine\",\"cosine\",\"cosine\",\"cosine\",\"cosine\",\"cosine\",\"euclidean\",\"cosine\",\"cosine\",\"cosine\",\"cosine\",\"cosine\",\"cosine\",\"cosine\",\"cosine\",\"cosine\",\"cosine\",\"cosine\",\"cosine\",\"cosine\",\"cosine\",\"cosine\",\"cosine\",\"cosine\",\"tversky\",\"cosine\",\"cosine\",\"cosine\",\"asymmetric\",\"cosine\",\"cosine\",\"cosine\",\"cosine\",\"cosine\",\"dice\",\"cosine\",\"jaccard\",\"cosine\",\"cosine\",\"cosine\",\"cosine\",\"cosine\",\"cosine\",\"cosine\",\"cosine\",\"cosine\",\"cosine\",\"cosine\",\"cosine\",\"euclidean\",\"cosine\",\"cosine\",\"cosine\",\"cosine\",\"cosine\",\"cosine\",\"cosine\",\"cosine\",\"cosine\",\"cosine\",\"cosine\",\"cosine\",\"cosine\",\"cosine\",\"cosine\",\"cosine\",\"cosine\",\"cosine\",\"cosine\",\"tversky\",\"cosine\",\"cosine\",\"cosine\",\"cosine\",\"cosine\",\"cosine\",\"cosine\",\"cosine\",\"asymmetric\",\"dice\",\"cosine\",\"cosine\",\"cosine\",\"jaccard\",\"cosine\",\"cosine\",\"cosine\",\"cosine\",\"cosine\",\"cosine\",\"cosine\",\"euclidean\",\"cosine\",\"cosine\",\"cosine\",\"cosine\",\"cosine\",\"cosine\",\"cosine\",\"cosine\",\"cosine\",\"tversky\",\"cosine\",\"cosine\",\"cosine\",\"cosine\",\"asymmetric\",\"cosine\",\"dice\",\"cosine\",\"jaccard\",\"cosine\",\"cosine\",\"cosine\",\"cosine\",\"cosine\",\"cosine\",\"cosine\",\"euclidean\",\"cosine\",\"cosine\",\"cosine\",\"cosine\",\"cosine\",\"cosine\",\"cosine\",\"cosine\",\"cosine\",\"cosine\",\"tversky\",\"cosine\",\"cosine\",\"cosine\",\"cosine\",\"cosine\",\"asymmetric\",\"dice\",\"cosine\",\"cosine\",\"jaccard\",\"cosine\",\"cosine\",\"cosine\",\"cosine\",\"cosine\",\"cosine\",\"cosine\",\"euclidean\",\"cosine\",\"cosine\",\"cosine\",\"cosine\",\"cosine\",\"cosine\",\"cosine\",\"cosine\",\"cosine\",\"cosine\",\"cosine\",\"cosine\",\"tversky\",\"cosine\",\"cosine\",\"cosine\",\"asymmetric\",\"dice\",\"cosine\",\"cosine\",\"jaccard\",\"cosine\",\"cosine\",\"cosine\",\"cosine\",\"cosine\",\"cosine\",\"cosine\",\"cosine\",\"euclidean\",\"cosine\",\"cosine\",\"cosine\",\"cosine\",\"cosine\",\"cosine\",\"cosine\",\"cosine\",\"cosine\",\"cosine\",\"tversky\",\"cosine\",\"cosine\",\"cosine\",\"cosine\",\"cosine\",\"cosine\",\"dice\",\"cosine\",\"cosine\",\"asymmetric\",\"jaccard\",\"cosine\",\"cosine\",\"cosine\",\"cosine\",\"cosine\",\"cosine\",\"cosine\",\"euclidean\",\"cosine\",\"cosine\",\"cosine\",\"cosine\",\"cosine\",\"cosine\",\"cosine\",\"cosine\",\"cosine\",\"cosine\",\"cosine\",\"tversky\",\"cosine\",\"cosine\",\"cosine\",\"cosine\",\"cosine\",\"cosine\",\"asymmetric\",\"dice\",\"cosine\"],\"y\":[0.03693410769748605,0.02950565890072772,0.03659388580079572,0.03654694011331058,0.03780927185688956,0.0394110428832288,0.024006979979799066,0.03454623442297158,0.03826173976637384,0.036433943816791194,0.041522422669492146,0.04131477022142686,0.04362394620253716,0.043617225979213074,0.04339865261082951,0.043702796228289695,0.04360893160935133,0.0432735570137575,0.043445371986879006,0.043007080314916686,0.016478841553009393,0.04360525822915029,0.04371697358064655,0.04376835296556982,0.043749756408625315,0.04333191637848008,0.0436234556752871,0.04380381028189539,0.03640595812234979,0.01400613716479738,0.03822558567838665,0.04387137483639633,0.04385864230975724,0.04390049654735531,0.03476588918097434,0.04092732838792521,0.044148636445727155,0.03706749431991632,0.03209564835439163,0.011591760925937264,0.04357808078983646,0.04379978461394221,0.04385834576373801,0.04407368276710715,0.02664175345654471,0.04409705304606093,0.03395454150194877,0.041960781231533836,0.043791258358471294,0.041887212177560584,0.044148536110607775,0.04427531956735329,0.04416902788647253,0.04425917118731959,0.04423339732484115,0.04454130908344809,0.034599044140762536,0.0351619341935386,0.04498923069719356,0.04564349259861089,0.026123542632391486,0.04501886188759169,0.045815864989061414,0.04582322401264476,0.04585618744383831,0.04589327910777384,0.046648907350549156,0.04147025286679578,0.047004881860969336,0.040136277388698786,0.03795062174328781,0.047033718174255966,0.04706022225343587,0.04662457385444997,0.04730033980160257,0.04710087246960237,0.03733892311431149,0.04712724834279667,0.04178191938853411,0.0470467204908823,0.03729530186377906,0.046471053318080775,0.04728495396847546,0.04843907986006404,0.04769853867472737,0.028051728328171495,0.049890490906291725,0.04603569477610609,0.047727137528231385,0.0478646300867101,0.04929765973908228,0.048944583798775025,0.04811644002077834,0.04928062283582542,0.036526392595712706,0.04619822652102311,0.0495917932561403,0.034041091690690126,0.037363637883864154,0.04376502518411324,0.038940388675954084,0.04990843528496086,0.04621956780089785,0.04537196792843485,0.04208870516413552,0.04815071003819207,0.045927074205622864,0.0491778763291599,0.049169851749285315,0.026130944019691776,0.04959505637718693,0.049204049302446054,0.04653824440297099,0.04923222228911028,0.049630018706923754,0.049163671105936585,0.04598442464497911,0.04659938639500214,0.03889954670822616,0.03753201470689754,0.041501527323481016,0.04994933299442155,0.04731299317498052,0.04958215774018373,0.0469154576284774,0.04958890471953923,0.038527291152447664,0.04628601640590519,0.04705453436700623,0.03853470703259859,0.04300299890523063,0.04934406919109634,0.047456965152496595,0.04936614291734233,0.046291718785185655,0.04691905074058289,0.04990779314019738,0.04750510482790124,0.04557724243417271,0.027839313306443386,0.045828794841435455,0.049178870761675396,0.04990601943825513,0.047479724502057466,0.047791412205653895,0.04639345190714603,0.04994261946010584,0.03555692011317694,0.04965573348316518,0.041714290173622895,0.04768739590231192,0.04937826005524956,0.04735551631337386,0.04955581085269061,0.049890490906291725,0.036165744698402495,0.04775906193352281,0.0461564882262297,0.04676283118950449,0.038704727121919094,0.020721504268701677,0.04266998218494037,0.049368361438313337,0.049891370510837627,0.047042289023113325,0.04769802362111488,0.03691360142877094,0.049847380250033324,0.04706535829670938,0.047753553535473406,0.046548871006939496,0.049369569919083554,0.04769689540844034,0.04211797626293863,0.04985111606097521,0.049833714606784874,0.04704128009774709,0.03216165771454326,0.03513438997362186,0.049599267107693364,0.042075960374315144,0.047679371322437436,0.047767542480773,0.04961234634791127,0.04704922775403017,0.04429842340082375,0.04235441820123484,0.04706412751924592,0.04647413026173918,0.047812290829145336,0.04783566556743799,0.04986886980291764,0.049604045289041235,0.04706217767342759,0.047862567642591385,0.04067031886500772,0.04984269348512744,0.046984877267850875,0.0476645573994904,0.032028948911586114,0.046223529923275414,0.04784513162852644,0.0496052058319212,0.047072919105365825,0.04982159969854696,0.03855078406321408,0.04959879664746728,0.037138225004848154,0.04989037384865253,0.04726728606880146,0.04983274470063162,0.04770897575680381,0.04949320731242169,0.047869821871716546,0.04699137229457346,0.04794841214099339,0.049839740288116004,0.04983492308755505,0.03564598202440494,0.04654776174645384,0.03401599899218879,0.047679371322437436,0.049876711549908144,0.0498932412033952,0.04781848930984878,0.043576516676809916,0.04960045329177033,0.0469845718031542,0.04783291638516917,0.04699631212694691,0.04960773316209277,0.049891370510837627,0.049839740288116004,0.042753741942530905,0.04778610224817374,0.04771773501271849,0.047227781902664294,0.04790619446729666,0.049922257005061546,0.047126517011260284,0.03752938815644112,0.04798966994204884,0.04958462152477983,0.04781723735052673,0.049841190688007284,0.04720709837523838,0.04794431623845675,0.04959987246291307,0.046775688577625436,0.0487287150192735,0.03921865363647783,0.04654642171519377,0.04991914550152862,0.04716087510061216,0.03869163450368519,0.03726155358898585,0.046845421485537664,0.04442570853316567,0.047282264987277965,0.046554255658341676,0.04781072448644982,0.0497992662158258,0.03184703799579367,0.04713369766129812,0.04617743262496576,0.04984070350526126,0.048027089367374085,0.04667624644088867,0.047160021137263454,0.04984681168435722,0.04793105305052016,0.04699879374889738,0.035521332361196284,0.04793104078733903,0.04454054319203769,0.04985138027678925,0.046743104190215726,0.04286203475162412,0.03732658969848043,0.04774713877684623,0.04992362602202267,0.036958753347289916,0.04665704118422019,0.0478389844302174,0.0479255413079667,0.04616927872427092,0.04700468565006971,0.047823019997902276,0.048008279877009404,0.02786422094239185,0.04937769817858145,0.04656114310686431,0.04961626499173696,0.04711250353959838,0.047818091313875516,0.047909463162516375,0.050162974334274815,0.04714728861062439,0.04783431215816197,0.04353304927346051,0.041301690981208984,0.04646627290706358,0.042093668408037015,0.050059829831635996,0.05017742928046168,0.04675033277814398,0.01991731605785529,0.04188282864768165,0.04728393389476257,0.044369952307371646,0.04048520279957126,0.04992678211894203,0.0467714611245989,0.04600632891635682,0.047480200536456595,0.050232338231915176,0.04725691030263145,0.047917116502449786,0.027957140181538873,0.0480567762995051,0.04711755262576847,0.049686207488565406,0.048049530989057065,0.04653595118807746,0.04169842719126168,0.04200254070818617,0.04806544302414315,0.0499307397819809,0.046850165107011156,0.04264243462051979,0.047939016314488304,0.03830173891909947,0.04300625756693852,0.04803477169300822,0.04992604967257115,0.039861042548778335,0.03829865194192891,0.0459246204545387,0.04782007237506429,0.03867653964240434,0.046904817646493076,0.04482561198848429,0.050234773030810226,0.0499758002840579,0.04791684671246223,0.047185257649436416,0.05023720114069726,0.04792758479989635,0.0279084743041758,0.04248813369988957,0.03890101494547179,0.048208082774242086,0.0502402490986546,0.04678151804805659,0.050244874547654264,0.04619565013812629,0.04731299763431907,0.048155151539473424,0.04814683821742212,0.035079569094106415,0.04999021844070141,0.04702152188308767,0.050186830681139945,0.047824749106458266,0.04670318084624698,0.04986284189191714,0.043199344700185785,0.0452460807987548,0.04732027861947637,0.02150385955758865,0.03808101169015483,0.039461509218566324,0.05024410977107824,0.04421671939834431,0.040711889934602265,0.046260912559056684,0.04732151051177439,0.047946819042265956,0.028006635495888783,0.047983650949725724,0.05026688472832435,0.047252597007336285,0.043308226141979135,0.043912482134772904,0.04999271232583328,0.050256474402279865,0.04784084062992422,0.04664311021032273,0.05027369636809012,0.04706450656302998,0.03648499432549027,0.04733004903042649,0.04822117204797194,0.04315358408194302,0.05024410977107824,0.050242880108449496,0.04075289020885151,0.047252773151212145,0.04293838531807183,0.041376904416304566],\"type\":\"scatter\",\"xaxis\":\"x6\",\"yaxis\":\"y6\"},{\"marker\":{\"color\":[6,20,29,44,60,85,109,139,177,220,262,289,318,348,378],\"colorbar\":{\"title\":{\"text\":\"Trial\"},\"x\":1.0,\"xpad\":40},\"colorscale\":[[0.0,\"rgb(247,251,255)\"],[0.125,\"rgb(222,235,247)\"],[0.25,\"rgb(198,219,239)\"],[0.375,\"rgb(158,202,225)\"],[0.5,\"rgb(107,174,214)\"],[0.625,\"rgb(66,146,198)\"],[0.75,\"rgb(33,113,181)\"],[0.875,\"rgb(8,81,156)\"],[1.0,\"rgb(8,48,107)\"]],\"line\":{\"color\":\"Grey\",\"width\":0.5},\"showscale\":false},\"mode\":\"markers\",\"name\":\"Feasible Trial\",\"showlegend\":false,\"x\":[\"exp\",\"lin\",\"log\",\"log\",\"lin\",\"exp\",\"log\",\"lin\",\"exp\",\"lin\",\"exp\",\"log\",\"exp\",\"log\",\"lin\"],\"y\":[0.024006979979799066,0.016478841553009393,0.01400613716479738,0.02664175345654471,0.026123542632391486,0.028051728328171495,0.026130944019691776,0.027839313306443386,0.03216165771454326,0.03401599899218879,0.03184703799579367,0.02786422094239185,0.027957140181538873,0.0279084743041758,0.028006635495888783],\"type\":\"scatter\",\"xaxis\":\"x7\",\"yaxis\":\"y7\"},{\"marker\":{\"color\":[0,1,2,3,4,5,6,7,8,9,10,11,12,13,14,15,16,17,18,19,20,21,22,23,24,25,26,27,28,29,30,31,32,33,34,35,36,37,38,39,40,41,42,43,44,45,46,47,48,49,50,51,52,53,54,55,56,57,58,59,60,61,62,63,64,65,66,67,68,69,70,71,72,73,74,75,76,77,78,79,80,81,82,83,84,85,86,87,88,89,90,91,92,93,94,95,96,97,98,99,100,101,102,103,104,105,106,107,108,109,110,111,112,113,114,115,116,117,118,119,120,121,122,123,124,125,126,127,128,129,130,131,132,133,134,135,136,137,138,139,140,141,142,143,144,145,146,147,148,149,150,151,152,153,154,155,156,157,158,159,160,161,162,163,164,165,166,167,168,169,170,171,172,173,174,175,176,177,178,179,180,181,182,183,184,185,186,187,188,189,190,191,192,193,194,195,196,197,198,199,200,201,202,203,204,205,206,207,208,209,210,211,212,213,214,215,216,217,218,219,220,221,222,223,224,225,226,227,228,229,230,231,232,233,234,235,236,237,238,239,240,241,242,243,244,245,246,247,248,249,250,251,252,253,254,255,256,257,258,259,260,261,262,263,264,265,266,267,268,269,270,271,272,273,274,275,276,277,278,279,280,281,282,283,284,285,286,287,288,289,290,291,292,293,294,295,296,297,298,299,300,301,302,303,304,305,306,307,308,309,310,311,312,313,314,315,316,317,318,319,320,321,322,323,324,325,326,327,328,329,330,331,332,333,334,335,336,337,338,339,340,341,342,343,344,345,346,347,348,349,350,351,352,353,354,355,356,357,358,359,360,361,362,363,364,365,366,367,368,369,370,371,372,373,374,375,376,377,378,379,380,381,382,383,384,385,386,387,388,389,390,391,392,393,394,395,396,397,398,399],\"colorbar\":{\"title\":{\"text\":\"Trial\"},\"x\":1.0,\"xpad\":40},\"colorscale\":[[0.0,\"rgb(247,251,255)\"],[0.125,\"rgb(222,235,247)\"],[0.25,\"rgb(198,219,239)\"],[0.375,\"rgb(158,202,225)\"],[0.5,\"rgb(107,174,214)\"],[0.625,\"rgb(66,146,198)\"],[0.75,\"rgb(33,113,181)\"],[0.875,\"rgb(8,81,156)\"],[1.0,\"rgb(8,48,107)\"]],\"line\":{\"color\":\"Grey\",\"width\":0.5},\"showscale\":false},\"mode\":\"markers\",\"name\":\"Feasible Trial\",\"showlegend\":false,\"x\":[677,1482,241,1000,851,410,1465,349,123,1365,539,494,592,658,1085,776,862,1188,758,12,951,621,690,777,785,1168,899,741,477,1028,788,697,716,690,650,332,556,405,547,217,921,735,698,574,437,563,547,331,581,244,497,477,493,485,485,402,389,241,276,184,110,289,172,169,164,153,90,135,78,18,173,71,65,87,52,63,71,63,68,68,23,97,52,25,41,45,10,127,45,36,13,18,31,14,16,116,11,209,11,131,31,10,109,204,1334,31,144,15,15,104,12,16,98,17,12,15,142,94,90,10,134,10,54,12,78,12,54,107,80,49,822,14,48,13,118,79,10,51,191,76,156,16,10,50,43,114,10,69,11,92,46,13,52,12,10,78,43,122,83,41,12,1082,13,10,69,45,109,10,64,41,94,13,42,1492,10,10,66,41,84,11,1412,44,38,11,66,11,1234,64,100,39,39,10,11,68,37,11,10,71,42,10,107,39,11,64,10,38,11,85,10,54,10,42,12,40,71,35,10,10,65,94,43,44,10,10,41,624,11,73,37,71,11,10,10,961,42,43,60,36,10,63,12,34,12,39,10,60,35,11,80,39,11,93,10,61,38,11,67,10,53,92,38,10,43,62,118,10,38,89,62,10,35,73,41,36,357,10,84,59,10,40,10,96,59,40,36,122,71,39,34,68,13,95,11,63,39,36,10,69,38,878,12,111,61,11,10,87,46,10,60,447,40,10,93,136,38,10,61,43,83,37,68,11,36,105,10,61,36,10,83,1230,39,61,1030,36,10,10,64,143,39,106,77,286,10,10,39,61,10,39,91,36,59,34,10,82,10,118,58,35,35,729,11,69,10,41,90,12,10,241,57,38,72,10,10,519,820,114,58,36,83,37,10,60,1125,669,11,10,39,99,10,66,1442,56,33,1320,10,10,10,89,41,150],\"y\":[0.03693410769748605,0.02950565890072772,0.03659388580079572,0.03654694011331058,0.03780927185688956,0.0394110428832288,0.024006979979799066,0.03454623442297158,0.03826173976637384,0.036433943816791194,0.041522422669492146,0.04131477022142686,0.04362394620253716,0.043617225979213074,0.04339865261082951,0.043702796228289695,0.04360893160935133,0.0432735570137575,0.043445371986879006,0.043007080314916686,0.016478841553009393,0.04360525822915029,0.04371697358064655,0.04376835296556982,0.043749756408625315,0.04333191637848008,0.0436234556752871,0.04380381028189539,0.03640595812234979,0.01400613716479738,0.03822558567838665,0.04387137483639633,0.04385864230975724,0.04390049654735531,0.03476588918097434,0.04092732838792521,0.044148636445727155,0.03706749431991632,0.03209564835439163,0.011591760925937264,0.04357808078983646,0.04379978461394221,0.04385834576373801,0.04407368276710715,0.02664175345654471,0.04409705304606093,0.03395454150194877,0.041960781231533836,0.043791258358471294,0.041887212177560584,0.044148536110607775,0.04427531956735329,0.04416902788647253,0.04425917118731959,0.04423339732484115,0.04454130908344809,0.034599044140762536,0.0351619341935386,0.04498923069719356,0.04564349259861089,0.026123542632391486,0.04501886188759169,0.045815864989061414,0.04582322401264476,0.04585618744383831,0.04589327910777384,0.046648907350549156,0.04147025286679578,0.047004881860969336,0.040136277388698786,0.03795062174328781,0.047033718174255966,0.04706022225343587,0.04662457385444997,0.04730033980160257,0.04710087246960237,0.03733892311431149,0.04712724834279667,0.04178191938853411,0.0470467204908823,0.03729530186377906,0.046471053318080775,0.04728495396847546,0.04843907986006404,0.04769853867472737,0.028051728328171495,0.049890490906291725,0.04603569477610609,0.047727137528231385,0.0478646300867101,0.04929765973908228,0.048944583798775025,0.04811644002077834,0.04928062283582542,0.036526392595712706,0.04619822652102311,0.0495917932561403,0.034041091690690126,0.037363637883864154,0.04376502518411324,0.038940388675954084,0.04990843528496086,0.04621956780089785,0.04537196792843485,0.04208870516413552,0.04815071003819207,0.045927074205622864,0.0491778763291599,0.049169851749285315,0.026130944019691776,0.04959505637718693,0.049204049302446054,0.04653824440297099,0.04923222228911028,0.049630018706923754,0.049163671105936585,0.04598442464497911,0.04659938639500214,0.03889954670822616,0.03753201470689754,0.041501527323481016,0.04994933299442155,0.04731299317498052,0.04958215774018373,0.0469154576284774,0.04958890471953923,0.038527291152447664,0.04628601640590519,0.04705453436700623,0.03853470703259859,0.04300299890523063,0.04934406919109634,0.047456965152496595,0.04936614291734233,0.046291718785185655,0.04691905074058289,0.04990779314019738,0.04750510482790124,0.04557724243417271,0.027839313306443386,0.045828794841435455,0.049178870761675396,0.04990601943825513,0.047479724502057466,0.047791412205653895,0.04639345190714603,0.04994261946010584,0.03555692011317694,0.04965573348316518,0.041714290173622895,0.04768739590231192,0.04937826005524956,0.04735551631337386,0.04955581085269061,0.049890490906291725,0.036165744698402495,0.04775906193352281,0.0461564882262297,0.04676283118950449,0.038704727121919094,0.020721504268701677,0.04266998218494037,0.049368361438313337,0.049891370510837627,0.047042289023113325,0.04769802362111488,0.03691360142877094,0.049847380250033324,0.04706535829670938,0.047753553535473406,0.046548871006939496,0.049369569919083554,0.04769689540844034,0.04211797626293863,0.04985111606097521,0.049833714606784874,0.04704128009774709,0.03216165771454326,0.03513438997362186,0.049599267107693364,0.042075960374315144,0.047679371322437436,0.047767542480773,0.04961234634791127,0.04704922775403017,0.04429842340082375,0.04235441820123484,0.04706412751924592,0.04647413026173918,0.047812290829145336,0.04783566556743799,0.04986886980291764,0.049604045289041235,0.04706217767342759,0.047862567642591385,0.04067031886500772,0.04984269348512744,0.046984877267850875,0.0476645573994904,0.032028948911586114,0.046223529923275414,0.04784513162852644,0.0496052058319212,0.047072919105365825,0.04982159969854696,0.03855078406321408,0.04959879664746728,0.037138225004848154,0.04989037384865253,0.04726728606880146,0.04983274470063162,0.04770897575680381,0.04949320731242169,0.047869821871716546,0.04699137229457346,0.04794841214099339,0.049839740288116004,0.04983492308755505,0.03564598202440494,0.04654776174645384,0.03401599899218879,0.047679371322437436,0.049876711549908144,0.0498932412033952,0.04781848930984878,0.043576516676809916,0.04960045329177033,0.0469845718031542,0.04783291638516917,0.04699631212694691,0.04960773316209277,0.049891370510837627,0.049839740288116004,0.042753741942530905,0.04778610224817374,0.04771773501271849,0.047227781902664294,0.04790619446729666,0.049922257005061546,0.047126517011260284,0.03752938815644112,0.04798966994204884,0.04958462152477983,0.04781723735052673,0.049841190688007284,0.04720709837523838,0.04794431623845675,0.04959987246291307,0.046775688577625436,0.0487287150192735,0.03921865363647783,0.04654642171519377,0.04991914550152862,0.04716087510061216,0.03869163450368519,0.03726155358898585,0.046845421485537664,0.04442570853316567,0.047282264987277965,0.046554255658341676,0.04781072448644982,0.0497992662158258,0.03184703799579367,0.04713369766129812,0.04617743262496576,0.04984070350526126,0.048027089367374085,0.04667624644088867,0.047160021137263454,0.04984681168435722,0.04793105305052016,0.04699879374889738,0.035521332361196284,0.04793104078733903,0.04454054319203769,0.04985138027678925,0.046743104190215726,0.04286203475162412,0.03732658969848043,0.04774713877684623,0.04992362602202267,0.036958753347289916,0.04665704118422019,0.0478389844302174,0.0479255413079667,0.04616927872427092,0.04700468565006971,0.047823019997902276,0.048008279877009404,0.02786422094239185,0.04937769817858145,0.04656114310686431,0.04961626499173696,0.04711250353959838,0.047818091313875516,0.047909463162516375,0.050162974334274815,0.04714728861062439,0.04783431215816197,0.04353304927346051,0.041301690981208984,0.04646627290706358,0.042093668408037015,0.050059829831635996,0.05017742928046168,0.04675033277814398,0.01991731605785529,0.04188282864768165,0.04728393389476257,0.044369952307371646,0.04048520279957126,0.04992678211894203,0.0467714611245989,0.04600632891635682,0.047480200536456595,0.050232338231915176,0.04725691030263145,0.047917116502449786,0.027957140181538873,0.0480567762995051,0.04711755262576847,0.049686207488565406,0.048049530989057065,0.04653595118807746,0.04169842719126168,0.04200254070818617,0.04806544302414315,0.0499307397819809,0.046850165107011156,0.04264243462051979,0.047939016314488304,0.03830173891909947,0.04300625756693852,0.04803477169300822,0.04992604967257115,0.039861042548778335,0.03829865194192891,0.0459246204545387,0.04782007237506429,0.03867653964240434,0.046904817646493076,0.04482561198848429,0.050234773030810226,0.0499758002840579,0.04791684671246223,0.047185257649436416,0.05023720114069726,0.04792758479989635,0.0279084743041758,0.04248813369988957,0.03890101494547179,0.048208082774242086,0.0502402490986546,0.04678151804805659,0.050244874547654264,0.04619565013812629,0.04731299763431907,0.048155151539473424,0.04814683821742212,0.035079569094106415,0.04999021844070141,0.04702152188308767,0.050186830681139945,0.047824749106458266,0.04670318084624698,0.04986284189191714,0.043199344700185785,0.0452460807987548,0.04732027861947637,0.02150385955758865,0.03808101169015483,0.039461509218566324,0.05024410977107824,0.04421671939834431,0.040711889934602265,0.046260912559056684,0.04732151051177439,0.047946819042265956,0.028006635495888783,0.047983650949725724,0.05026688472832435,0.047252597007336285,0.043308226141979135,0.043912482134772904,0.04999271232583328,0.050256474402279865,0.04784084062992422,0.04664311021032273,0.05027369636809012,0.04706450656302998,0.03648499432549027,0.04733004903042649,0.04822117204797194,0.04315358408194302,0.05024410977107824,0.050242880108449496,0.04075289020885151,0.047252773151212145,0.04293838531807183,0.041376904416304566],\"type\":\"scatter\",\"xaxis\":\"x8\",\"yaxis\":\"y8\"},{\"marker\":{\"color\":[1,9,30,37,47,70,94,118,155,195,240,272,300,331,359,390],\"colorbar\":{\"title\":{\"text\":\"Trial\"},\"x\":1.0,\"xpad\":40},\"colorscale\":[[0.0,\"rgb(247,251,255)\"],[0.125,\"rgb(222,235,247)\"],[0.25,\"rgb(198,219,239)\"],[0.375,\"rgb(158,202,225)\"],[0.5,\"rgb(107,174,214)\"],[0.625,\"rgb(66,146,198)\"],[0.75,\"rgb(33,113,181)\"],[0.875,\"rgb(8,81,156)\"],[1.0,\"rgb(8,48,107)\"]],\"line\":{\"color\":\"Grey\",\"width\":0.5},\"showscale\":false},\"mode\":\"markers\",\"name\":\"Feasible Trial\",\"showlegend\":false,\"x\":[0.32270059557383357,1.2303564826790012,1.9478721458151993,0.13265596871599628,1.1272377819295536,1.9697540471760904,0.68328175705964,1.5034034722282184,0.6994420243962102,1.539836993078731,0.6871436320493574,0.02482438887548466,0.4188810514047818,1.524283550828847,0.8643136869944861,1.690110589670352],\"y\":[0.02950565890072772,0.036433943816791194,0.03822558567838665,0.03706749431991632,0.041960781231533836,0.03795062174328781,0.036526392595712706,0.03889954670822616,0.036165744698402495,0.04067031886500772,0.03752938815644112,0.035521332361196284,0.041301690981208984,0.03830173891909947,0.035079569094106415,0.03648499432549027],\"type\":\"scatter\",\"xaxis\":\"x9\",\"yaxis\":\"y9\"},{\"marker\":{\"color\":[1,9,30,37,47,70,94,118,155,195,240,272,300,331,359,390],\"colorbar\":{\"title\":{\"text\":\"Trial\"},\"x\":1.0,\"xpad\":40},\"colorscale\":[[0.0,\"rgb(247,251,255)\"],[0.125,\"rgb(222,235,247)\"],[0.25,\"rgb(198,219,239)\"],[0.375,\"rgb(158,202,225)\"],[0.5,\"rgb(107,174,214)\"],[0.625,\"rgb(66,146,198)\"],[0.75,\"rgb(33,113,181)\"],[0.875,\"rgb(8,81,156)\"],[1.0,\"rgb(8,48,107)\"]],\"line\":{\"color\":\"Grey\",\"width\":0.5},\"showscale\":false},\"mode\":\"markers\",\"name\":\"Feasible Trial\",\"showlegend\":false,\"x\":[1.755974280134404,0.08973139198772029,0.5442079468381121,1.9603667862892429,1.3051907215920802,0.9700403752320141,0.0024468586884378585,1.284385729850481,0.6051450396956476,1.5646358305346668,0.4548823816200258,0.8153567477413055,1.2946150095193443,0.34119954779799766,1.536676355051346,0.8262428946276577],\"y\":[0.02950565890072772,0.036433943816791194,0.03822558567838665,0.03706749431991632,0.041960781231533836,0.03795062174328781,0.036526392595712706,0.03889954670822616,0.036165744698402495,0.04067031886500772,0.03752938815644112,0.035521332361196284,0.041301690981208984,0.03830173891909947,0.035079569094106415,0.03648499432549027],\"type\":\"scatter\",\"xaxis\":\"x10\",\"yaxis\":\"y10\"}],                        {\"template\":{\"data\":{\"histogram2dcontour\":[{\"type\":\"histogram2dcontour\",\"colorbar\":{\"outlinewidth\":0,\"ticks\":\"\"},\"colorscale\":[[0.0,\"#0d0887\"],[0.1111111111111111,\"#46039f\"],[0.2222222222222222,\"#7201a8\"],[0.3333333333333333,\"#9c179e\"],[0.4444444444444444,\"#bd3786\"],[0.5555555555555556,\"#d8576b\"],[0.6666666666666666,\"#ed7953\"],[0.7777777777777778,\"#fb9f3a\"],[0.8888888888888888,\"#fdca26\"],[1.0,\"#f0f921\"]]}],\"choropleth\":[{\"type\":\"choropleth\",\"colorbar\":{\"outlinewidth\":0,\"ticks\":\"\"}}],\"histogram2d\":[{\"type\":\"histogram2d\",\"colorbar\":{\"outlinewidth\":0,\"ticks\":\"\"},\"colorscale\":[[0.0,\"#0d0887\"],[0.1111111111111111,\"#46039f\"],[0.2222222222222222,\"#7201a8\"],[0.3333333333333333,\"#9c179e\"],[0.4444444444444444,\"#bd3786\"],[0.5555555555555556,\"#d8576b\"],[0.6666666666666666,\"#ed7953\"],[0.7777777777777778,\"#fb9f3a\"],[0.8888888888888888,\"#fdca26\"],[1.0,\"#f0f921\"]]}],\"heatmap\":[{\"type\":\"heatmap\",\"colorbar\":{\"outlinewidth\":0,\"ticks\":\"\"},\"colorscale\":[[0.0,\"#0d0887\"],[0.1111111111111111,\"#46039f\"],[0.2222222222222222,\"#7201a8\"],[0.3333333333333333,\"#9c179e\"],[0.4444444444444444,\"#bd3786\"],[0.5555555555555556,\"#d8576b\"],[0.6666666666666666,\"#ed7953\"],[0.7777777777777778,\"#fb9f3a\"],[0.8888888888888888,\"#fdca26\"],[1.0,\"#f0f921\"]]}],\"heatmapgl\":[{\"type\":\"heatmapgl\",\"colorbar\":{\"outlinewidth\":0,\"ticks\":\"\"},\"colorscale\":[[0.0,\"#0d0887\"],[0.1111111111111111,\"#46039f\"],[0.2222222222222222,\"#7201a8\"],[0.3333333333333333,\"#9c179e\"],[0.4444444444444444,\"#bd3786\"],[0.5555555555555556,\"#d8576b\"],[0.6666666666666666,\"#ed7953\"],[0.7777777777777778,\"#fb9f3a\"],[0.8888888888888888,\"#fdca26\"],[1.0,\"#f0f921\"]]}],\"contourcarpet\":[{\"type\":\"contourcarpet\",\"colorbar\":{\"outlinewidth\":0,\"ticks\":\"\"}}],\"contour\":[{\"type\":\"contour\",\"colorbar\":{\"outlinewidth\":0,\"ticks\":\"\"},\"colorscale\":[[0.0,\"#0d0887\"],[0.1111111111111111,\"#46039f\"],[0.2222222222222222,\"#7201a8\"],[0.3333333333333333,\"#9c179e\"],[0.4444444444444444,\"#bd3786\"],[0.5555555555555556,\"#d8576b\"],[0.6666666666666666,\"#ed7953\"],[0.7777777777777778,\"#fb9f3a\"],[0.8888888888888888,\"#fdca26\"],[1.0,\"#f0f921\"]]}],\"surface\":[{\"type\":\"surface\",\"colorbar\":{\"outlinewidth\":0,\"ticks\":\"\"},\"colorscale\":[[0.0,\"#0d0887\"],[0.1111111111111111,\"#46039f\"],[0.2222222222222222,\"#7201a8\"],[0.3333333333333333,\"#9c179e\"],[0.4444444444444444,\"#bd3786\"],[0.5555555555555556,\"#d8576b\"],[0.6666666666666666,\"#ed7953\"],[0.7777777777777778,\"#fb9f3a\"],[0.8888888888888888,\"#fdca26\"],[1.0,\"#f0f921\"]]}],\"mesh3d\":[{\"type\":\"mesh3d\",\"colorbar\":{\"outlinewidth\":0,\"ticks\":\"\"}}],\"scatter\":[{\"fillpattern\":{\"fillmode\":\"overlay\",\"size\":10,\"solidity\":0.2},\"type\":\"scatter\"}],\"parcoords\":[{\"type\":\"parcoords\",\"line\":{\"colorbar\":{\"outlinewidth\":0,\"ticks\":\"\"}}}],\"scatterpolargl\":[{\"type\":\"scatterpolargl\",\"marker\":{\"colorbar\":{\"outlinewidth\":0,\"ticks\":\"\"}}}],\"bar\":[{\"error_x\":{\"color\":\"#2a3f5f\"},\"error_y\":{\"color\":\"#2a3f5f\"},\"marker\":{\"line\":{\"color\":\"#E5ECF6\",\"width\":0.5},\"pattern\":{\"fillmode\":\"overlay\",\"size\":10,\"solidity\":0.2}},\"type\":\"bar\"}],\"scattergeo\":[{\"type\":\"scattergeo\",\"marker\":{\"colorbar\":{\"outlinewidth\":0,\"ticks\":\"\"}}}],\"scatterpolar\":[{\"type\":\"scatterpolar\",\"marker\":{\"colorbar\":{\"outlinewidth\":0,\"ticks\":\"\"}}}],\"histogram\":[{\"marker\":{\"pattern\":{\"fillmode\":\"overlay\",\"size\":10,\"solidity\":0.2}},\"type\":\"histogram\"}],\"scattergl\":[{\"type\":\"scattergl\",\"marker\":{\"colorbar\":{\"outlinewidth\":0,\"ticks\":\"\"}}}],\"scatter3d\":[{\"type\":\"scatter3d\",\"line\":{\"colorbar\":{\"outlinewidth\":0,\"ticks\":\"\"}},\"marker\":{\"colorbar\":{\"outlinewidth\":0,\"ticks\":\"\"}}}],\"scattermapbox\":[{\"type\":\"scattermapbox\",\"marker\":{\"colorbar\":{\"outlinewidth\":0,\"ticks\":\"\"}}}],\"scatterternary\":[{\"type\":\"scatterternary\",\"marker\":{\"colorbar\":{\"outlinewidth\":0,\"ticks\":\"\"}}}],\"scattercarpet\":[{\"type\":\"scattercarpet\",\"marker\":{\"colorbar\":{\"outlinewidth\":0,\"ticks\":\"\"}}}],\"carpet\":[{\"aaxis\":{\"endlinecolor\":\"#2a3f5f\",\"gridcolor\":\"white\",\"linecolor\":\"white\",\"minorgridcolor\":\"white\",\"startlinecolor\":\"#2a3f5f\"},\"baxis\":{\"endlinecolor\":\"#2a3f5f\",\"gridcolor\":\"white\",\"linecolor\":\"white\",\"minorgridcolor\":\"white\",\"startlinecolor\":\"#2a3f5f\"},\"type\":\"carpet\"}],\"table\":[{\"cells\":{\"fill\":{\"color\":\"#EBF0F8\"},\"line\":{\"color\":\"white\"}},\"header\":{\"fill\":{\"color\":\"#C8D4E3\"},\"line\":{\"color\":\"white\"}},\"type\":\"table\"}],\"barpolar\":[{\"marker\":{\"line\":{\"color\":\"#E5ECF6\",\"width\":0.5},\"pattern\":{\"fillmode\":\"overlay\",\"size\":10,\"solidity\":0.2}},\"type\":\"barpolar\"}],\"pie\":[{\"automargin\":true,\"type\":\"pie\"}]},\"layout\":{\"autotypenumbers\":\"strict\",\"colorway\":[\"#636efa\",\"#EF553B\",\"#00cc96\",\"#ab63fa\",\"#FFA15A\",\"#19d3f3\",\"#FF6692\",\"#B6E880\",\"#FF97FF\",\"#FECB52\"],\"font\":{\"color\":\"#2a3f5f\"},\"hovermode\":\"closest\",\"hoverlabel\":{\"align\":\"left\"},\"paper_bgcolor\":\"white\",\"plot_bgcolor\":\"#E5ECF6\",\"polar\":{\"bgcolor\":\"#E5ECF6\",\"angularaxis\":{\"gridcolor\":\"white\",\"linecolor\":\"white\",\"ticks\":\"\"},\"radialaxis\":{\"gridcolor\":\"white\",\"linecolor\":\"white\",\"ticks\":\"\"}},\"ternary\":{\"bgcolor\":\"#E5ECF6\",\"aaxis\":{\"gridcolor\":\"white\",\"linecolor\":\"white\",\"ticks\":\"\"},\"baxis\":{\"gridcolor\":\"white\",\"linecolor\":\"white\",\"ticks\":\"\"},\"caxis\":{\"gridcolor\":\"white\",\"linecolor\":\"white\",\"ticks\":\"\"}},\"coloraxis\":{\"colorbar\":{\"outlinewidth\":0,\"ticks\":\"\"}},\"colorscale\":{\"sequential\":[[0.0,\"#0d0887\"],[0.1111111111111111,\"#46039f\"],[0.2222222222222222,\"#7201a8\"],[0.3333333333333333,\"#9c179e\"],[0.4444444444444444,\"#bd3786\"],[0.5555555555555556,\"#d8576b\"],[0.6666666666666666,\"#ed7953\"],[0.7777777777777778,\"#fb9f3a\"],[0.8888888888888888,\"#fdca26\"],[1.0,\"#f0f921\"]],\"sequentialminus\":[[0.0,\"#0d0887\"],[0.1111111111111111,\"#46039f\"],[0.2222222222222222,\"#7201a8\"],[0.3333333333333333,\"#9c179e\"],[0.4444444444444444,\"#bd3786\"],[0.5555555555555556,\"#d8576b\"],[0.6666666666666666,\"#ed7953\"],[0.7777777777777778,\"#fb9f3a\"],[0.8888888888888888,\"#fdca26\"],[1.0,\"#f0f921\"]],\"diverging\":[[0,\"#8e0152\"],[0.1,\"#c51b7d\"],[0.2,\"#de77ae\"],[0.3,\"#f1b6da\"],[0.4,\"#fde0ef\"],[0.5,\"#f7f7f7\"],[0.6,\"#e6f5d0\"],[0.7,\"#b8e186\"],[0.8,\"#7fbc41\"],[0.9,\"#4d9221\"],[1,\"#276419\"]]},\"xaxis\":{\"gridcolor\":\"white\",\"linecolor\":\"white\",\"ticks\":\"\",\"title\":{\"standoff\":15},\"zerolinecolor\":\"white\",\"automargin\":true,\"zerolinewidth\":2},\"yaxis\":{\"gridcolor\":\"white\",\"linecolor\":\"white\",\"ticks\":\"\",\"title\":{\"standoff\":15},\"zerolinecolor\":\"white\",\"automargin\":true,\"zerolinewidth\":2},\"scene\":{\"xaxis\":{\"backgroundcolor\":\"#E5ECF6\",\"gridcolor\":\"white\",\"linecolor\":\"white\",\"showbackground\":true,\"ticks\":\"\",\"zerolinecolor\":\"white\",\"gridwidth\":2},\"yaxis\":{\"backgroundcolor\":\"#E5ECF6\",\"gridcolor\":\"white\",\"linecolor\":\"white\",\"showbackground\":true,\"ticks\":\"\",\"zerolinecolor\":\"white\",\"gridwidth\":2},\"zaxis\":{\"backgroundcolor\":\"#E5ECF6\",\"gridcolor\":\"white\",\"linecolor\":\"white\",\"showbackground\":true,\"ticks\":\"\",\"zerolinecolor\":\"white\",\"gridwidth\":2}},\"shapedefaults\":{\"line\":{\"color\":\"#2a3f5f\"}},\"annotationdefaults\":{\"arrowcolor\":\"#2a3f5f\",\"arrowhead\":0,\"arrowwidth\":1},\"geo\":{\"bgcolor\":\"white\",\"landcolor\":\"#E5ECF6\",\"subunitcolor\":\"white\",\"showland\":true,\"showlakes\":true,\"lakecolor\":\"white\"},\"title\":{\"x\":0.05},\"mapbox\":{\"style\":\"light\"}}},\"xaxis\":{\"anchor\":\"y\",\"domain\":[0.0,0.082],\"title\":{\"text\":\"asymmetric_alpha\"}},\"yaxis\":{\"anchor\":\"x\",\"domain\":[0.0,1.0],\"title\":{\"text\":\"Objective Value\"}},\"xaxis2\":{\"anchor\":\"y2\",\"domain\":[0.10200000000000001,0.184],\"title\":{\"text\":\"feature_weighting\"},\"type\":\"category\",\"categoryorder\":\"array\",\"categoryarray\":[\"BM25\",\"TF-IDF\",\"none\"]},\"yaxis2\":{\"anchor\":\"x2\",\"domain\":[0.0,1.0],\"matches\":\"y\",\"showticklabels\":false},\"xaxis3\":{\"anchor\":\"y3\",\"domain\":[0.20400000000000001,0.28600000000000003],\"title\":{\"text\":\"normalize\"},\"type\":\"category\",\"categoryorder\":\"array\",\"categoryarray\":[true,false]},\"yaxis3\":{\"anchor\":\"x3\",\"domain\":[0.0,1.0],\"matches\":\"y\",\"showticklabels\":false},\"xaxis4\":{\"anchor\":\"y4\",\"domain\":[0.306,0.388],\"title\":{\"text\":\"normalize_avg_row\"},\"type\":\"category\",\"categoryorder\":\"array\",\"categoryarray\":[true,false]},\"yaxis4\":{\"anchor\":\"x4\",\"domain\":[0.0,1.0],\"matches\":\"y\",\"showticklabels\":false},\"xaxis5\":{\"anchor\":\"y5\",\"domain\":[0.40800000000000003,0.49000000000000005],\"title\":{\"text\":\"shrink\"}},\"yaxis5\":{\"anchor\":\"x5\",\"domain\":[0.0,1.0],\"matches\":\"y\",\"showticklabels\":false},\"xaxis6\":{\"anchor\":\"y6\",\"domain\":[0.51,0.592],\"title\":{\"text\":\"similarity\"},\"type\":\"category\",\"categoryorder\":\"array\",\"categoryarray\":[\"cosine\",\"dice\",\"jaccard\",\"asymmetric\",\"tversky\",\"euclidean\"]},\"yaxis6\":{\"anchor\":\"x6\",\"domain\":[0.0,1.0],\"matches\":\"y\",\"showticklabels\":false},\"xaxis7\":{\"anchor\":\"y7\",\"domain\":[0.6120000000000001,0.6940000000000001],\"title\":{\"text\":\"similarity_from_distance_mode\"},\"type\":\"category\",\"categoryorder\":\"array\",\"categoryarray\":[\"lin\",\"log\",\"exp\"]},\"yaxis7\":{\"anchor\":\"x7\",\"domain\":[0.0,1.0],\"matches\":\"y\",\"showticklabels\":false},\"xaxis8\":{\"anchor\":\"y8\",\"domain\":[0.7140000000000001,0.796],\"title\":{\"text\":\"topK\"}},\"yaxis8\":{\"anchor\":\"x8\",\"domain\":[0.0,1.0],\"matches\":\"y\",\"showticklabels\":false},\"xaxis9\":{\"anchor\":\"y9\",\"domain\":[0.8160000000000001,0.898],\"title\":{\"text\":\"tversky_alpha\"}},\"yaxis9\":{\"anchor\":\"x9\",\"domain\":[0.0,1.0],\"matches\":\"y\",\"showticklabels\":false},\"xaxis10\":{\"anchor\":\"y10\",\"domain\":[0.9179999999999999,0.9999999999999999],\"title\":{\"text\":\"tversky_beta\"}},\"yaxis10\":{\"anchor\":\"x10\",\"domain\":[0.0,1.0],\"matches\":\"y\",\"showticklabels\":false},\"title\":{\"text\":\"Slice Plot\"},\"width\":3000},                        {\"responsive\": true}                    ).then(function(){\n",
       "                            \n",
       "var gd = document.getElementById('9a58ec88-9922-4256-8a76-2447a0e35eee');\n",
       "var x = new MutationObserver(function (mutations, observer) {{\n",
       "        var display = window.getComputedStyle(gd).display;\n",
       "        if (!display || display === 'none') {{\n",
       "            console.log([gd, 'removed!']);\n",
       "            Plotly.purge(gd);\n",
       "            observer.disconnect();\n",
       "        }}\n",
       "}});\n",
       "\n",
       "// Listen for the removal of the full notebook cells\n",
       "var notebookContainer = gd.closest('#notebook-container');\n",
       "if (notebookContainer) {{\n",
       "    x.observe(notebookContainer, {childList: true});\n",
       "}}\n",
       "\n",
       "// Listen for the clearing of the current output cell\n",
       "var outputEl = gd.closest('.output');\n",
       "if (outputEl) {{\n",
       "    x.observe(outputEl, {childList: true});\n",
       "}}\n",
       "\n",
       "                        })                };                });            </script>        </div>"
      ]
     },
     "metadata": {},
     "output_type": "display_data"
    }
   ],
   "source": [
    "if not config['tune_parameters']:\n",
    "    optuna_study = optuna.load_study(study_name=f'hyperparameters_tuning_{config[\"model\"]}', storage=f'sqlite:///{config[\"database_path\"]}')\n",
    "    \n",
    "fig = optuna.visualization.plot_slice(optuna_study)\n",
    "fig.show()"
   ]
  },
  {
   "cell_type": "code",
   "execution_count": 18,
   "id": "9bedf544",
   "metadata": {
    "execution": {
     "iopub.execute_input": "2024-11-18T19:56:12.900737Z",
     "iopub.status.busy": "2024-11-18T19:56:12.900342Z",
     "iopub.status.idle": "2024-11-18T19:56:21.794284Z",
     "shell.execute_reply": "2024-11-18T19:56:21.793038Z"
    },
    "papermill": {
     "duration": 8.945319,
     "end_time": "2024-11-18T19:56:21.796600",
     "exception": false,
     "start_time": "2024-11-18T19:56:12.851281",
     "status": "completed"
    },
    "tags": []
   },
   "outputs": [
    {
     "data": {
      "text/html": [
       "<div>                            <div id=\"3949dd4a-586f-4ff2-9783-46d17e1a5a5b\" class=\"plotly-graph-div\" style=\"height:525px; width:100%;\"></div>            <script type=\"text/javascript\">                require([\"plotly\"], function(Plotly) {                    window.PLOTLYENV=window.PLOTLYENV || {};                                    if (document.getElementById(\"3949dd4a-586f-4ff2-9783-46d17e1a5a5b\")) {                    Plotly.newPlot(                        \"3949dd4a-586f-4ff2-9783-46d17e1a5a5b\",                        [{\"cliponaxis\":false,\"hovertemplate\":[\"shrink (IntDistribution): 0.021971385177440555\\u003cextra\\u003e\\u003c\\u002fextra\\u003e\",\"topK (IntDistribution): 0.0337472039682204\\u003cextra\\u003e\\u003c\\u002fextra\\u003e\",\"feature_weighting (CategoricalDistribution): 0.05761960493929693\\u003cextra\\u003e\\u003c\\u002fextra\\u003e\",\"similarity (CategoricalDistribution): 0.8866618059150421\\u003cextra\\u003e\\u003c\\u002fextra\\u003e\"],\"name\":\"Objective Value\",\"orientation\":\"h\",\"text\":[\"0.02\",\"0.03\",\"0.06\",\"0.89\"],\"textposition\":\"outside\",\"x\":[0.021971385177440555,0.0337472039682204,0.05761960493929693,0.8866618059150421],\"y\":[\"shrink\",\"topK\",\"feature_weighting\",\"similarity\"],\"type\":\"bar\"}],                        {\"title\":{\"text\":\"Hyperparameter Importances\"},\"xaxis\":{\"title\":{\"text\":\"Hyperparameter Importance\"}},\"yaxis\":{\"title\":{\"text\":\"Hyperparameter\"}},\"template\":{\"data\":{\"histogram2dcontour\":[{\"type\":\"histogram2dcontour\",\"colorbar\":{\"outlinewidth\":0,\"ticks\":\"\"},\"colorscale\":[[0.0,\"#0d0887\"],[0.1111111111111111,\"#46039f\"],[0.2222222222222222,\"#7201a8\"],[0.3333333333333333,\"#9c179e\"],[0.4444444444444444,\"#bd3786\"],[0.5555555555555556,\"#d8576b\"],[0.6666666666666666,\"#ed7953\"],[0.7777777777777778,\"#fb9f3a\"],[0.8888888888888888,\"#fdca26\"],[1.0,\"#f0f921\"]]}],\"choropleth\":[{\"type\":\"choropleth\",\"colorbar\":{\"outlinewidth\":0,\"ticks\":\"\"}}],\"histogram2d\":[{\"type\":\"histogram2d\",\"colorbar\":{\"outlinewidth\":0,\"ticks\":\"\"},\"colorscale\":[[0.0,\"#0d0887\"],[0.1111111111111111,\"#46039f\"],[0.2222222222222222,\"#7201a8\"],[0.3333333333333333,\"#9c179e\"],[0.4444444444444444,\"#bd3786\"],[0.5555555555555556,\"#d8576b\"],[0.6666666666666666,\"#ed7953\"],[0.7777777777777778,\"#fb9f3a\"],[0.8888888888888888,\"#fdca26\"],[1.0,\"#f0f921\"]]}],\"heatmap\":[{\"type\":\"heatmap\",\"colorbar\":{\"outlinewidth\":0,\"ticks\":\"\"},\"colorscale\":[[0.0,\"#0d0887\"],[0.1111111111111111,\"#46039f\"],[0.2222222222222222,\"#7201a8\"],[0.3333333333333333,\"#9c179e\"],[0.4444444444444444,\"#bd3786\"],[0.5555555555555556,\"#d8576b\"],[0.6666666666666666,\"#ed7953\"],[0.7777777777777778,\"#fb9f3a\"],[0.8888888888888888,\"#fdca26\"],[1.0,\"#f0f921\"]]}],\"heatmapgl\":[{\"type\":\"heatmapgl\",\"colorbar\":{\"outlinewidth\":0,\"ticks\":\"\"},\"colorscale\":[[0.0,\"#0d0887\"],[0.1111111111111111,\"#46039f\"],[0.2222222222222222,\"#7201a8\"],[0.3333333333333333,\"#9c179e\"],[0.4444444444444444,\"#bd3786\"],[0.5555555555555556,\"#d8576b\"],[0.6666666666666666,\"#ed7953\"],[0.7777777777777778,\"#fb9f3a\"],[0.8888888888888888,\"#fdca26\"],[1.0,\"#f0f921\"]]}],\"contourcarpet\":[{\"type\":\"contourcarpet\",\"colorbar\":{\"outlinewidth\":0,\"ticks\":\"\"}}],\"contour\":[{\"type\":\"contour\",\"colorbar\":{\"outlinewidth\":0,\"ticks\":\"\"},\"colorscale\":[[0.0,\"#0d0887\"],[0.1111111111111111,\"#46039f\"],[0.2222222222222222,\"#7201a8\"],[0.3333333333333333,\"#9c179e\"],[0.4444444444444444,\"#bd3786\"],[0.5555555555555556,\"#d8576b\"],[0.6666666666666666,\"#ed7953\"],[0.7777777777777778,\"#fb9f3a\"],[0.8888888888888888,\"#fdca26\"],[1.0,\"#f0f921\"]]}],\"surface\":[{\"type\":\"surface\",\"colorbar\":{\"outlinewidth\":0,\"ticks\":\"\"},\"colorscale\":[[0.0,\"#0d0887\"],[0.1111111111111111,\"#46039f\"],[0.2222222222222222,\"#7201a8\"],[0.3333333333333333,\"#9c179e\"],[0.4444444444444444,\"#bd3786\"],[0.5555555555555556,\"#d8576b\"],[0.6666666666666666,\"#ed7953\"],[0.7777777777777778,\"#fb9f3a\"],[0.8888888888888888,\"#fdca26\"],[1.0,\"#f0f921\"]]}],\"mesh3d\":[{\"type\":\"mesh3d\",\"colorbar\":{\"outlinewidth\":0,\"ticks\":\"\"}}],\"scatter\":[{\"fillpattern\":{\"fillmode\":\"overlay\",\"size\":10,\"solidity\":0.2},\"type\":\"scatter\"}],\"parcoords\":[{\"type\":\"parcoords\",\"line\":{\"colorbar\":{\"outlinewidth\":0,\"ticks\":\"\"}}}],\"scatterpolargl\":[{\"type\":\"scatterpolargl\",\"marker\":{\"colorbar\":{\"outlinewidth\":0,\"ticks\":\"\"}}}],\"bar\":[{\"error_x\":{\"color\":\"#2a3f5f\"},\"error_y\":{\"color\":\"#2a3f5f\"},\"marker\":{\"line\":{\"color\":\"#E5ECF6\",\"width\":0.5},\"pattern\":{\"fillmode\":\"overlay\",\"size\":10,\"solidity\":0.2}},\"type\":\"bar\"}],\"scattergeo\":[{\"type\":\"scattergeo\",\"marker\":{\"colorbar\":{\"outlinewidth\":0,\"ticks\":\"\"}}}],\"scatterpolar\":[{\"type\":\"scatterpolar\",\"marker\":{\"colorbar\":{\"outlinewidth\":0,\"ticks\":\"\"}}}],\"histogram\":[{\"marker\":{\"pattern\":{\"fillmode\":\"overlay\",\"size\":10,\"solidity\":0.2}},\"type\":\"histogram\"}],\"scattergl\":[{\"type\":\"scattergl\",\"marker\":{\"colorbar\":{\"outlinewidth\":0,\"ticks\":\"\"}}}],\"scatter3d\":[{\"type\":\"scatter3d\",\"line\":{\"colorbar\":{\"outlinewidth\":0,\"ticks\":\"\"}},\"marker\":{\"colorbar\":{\"outlinewidth\":0,\"ticks\":\"\"}}}],\"scattermapbox\":[{\"type\":\"scattermapbox\",\"marker\":{\"colorbar\":{\"outlinewidth\":0,\"ticks\":\"\"}}}],\"scatterternary\":[{\"type\":\"scatterternary\",\"marker\":{\"colorbar\":{\"outlinewidth\":0,\"ticks\":\"\"}}}],\"scattercarpet\":[{\"type\":\"scattercarpet\",\"marker\":{\"colorbar\":{\"outlinewidth\":0,\"ticks\":\"\"}}}],\"carpet\":[{\"aaxis\":{\"endlinecolor\":\"#2a3f5f\",\"gridcolor\":\"white\",\"linecolor\":\"white\",\"minorgridcolor\":\"white\",\"startlinecolor\":\"#2a3f5f\"},\"baxis\":{\"endlinecolor\":\"#2a3f5f\",\"gridcolor\":\"white\",\"linecolor\":\"white\",\"minorgridcolor\":\"white\",\"startlinecolor\":\"#2a3f5f\"},\"type\":\"carpet\"}],\"table\":[{\"cells\":{\"fill\":{\"color\":\"#EBF0F8\"},\"line\":{\"color\":\"white\"}},\"header\":{\"fill\":{\"color\":\"#C8D4E3\"},\"line\":{\"color\":\"white\"}},\"type\":\"table\"}],\"barpolar\":[{\"marker\":{\"line\":{\"color\":\"#E5ECF6\",\"width\":0.5},\"pattern\":{\"fillmode\":\"overlay\",\"size\":10,\"solidity\":0.2}},\"type\":\"barpolar\"}],\"pie\":[{\"automargin\":true,\"type\":\"pie\"}]},\"layout\":{\"autotypenumbers\":\"strict\",\"colorway\":[\"#636efa\",\"#EF553B\",\"#00cc96\",\"#ab63fa\",\"#FFA15A\",\"#19d3f3\",\"#FF6692\",\"#B6E880\",\"#FF97FF\",\"#FECB52\"],\"font\":{\"color\":\"#2a3f5f\"},\"hovermode\":\"closest\",\"hoverlabel\":{\"align\":\"left\"},\"paper_bgcolor\":\"white\",\"plot_bgcolor\":\"#E5ECF6\",\"polar\":{\"bgcolor\":\"#E5ECF6\",\"angularaxis\":{\"gridcolor\":\"white\",\"linecolor\":\"white\",\"ticks\":\"\"},\"radialaxis\":{\"gridcolor\":\"white\",\"linecolor\":\"white\",\"ticks\":\"\"}},\"ternary\":{\"bgcolor\":\"#E5ECF6\",\"aaxis\":{\"gridcolor\":\"white\",\"linecolor\":\"white\",\"ticks\":\"\"},\"baxis\":{\"gridcolor\":\"white\",\"linecolor\":\"white\",\"ticks\":\"\"},\"caxis\":{\"gridcolor\":\"white\",\"linecolor\":\"white\",\"ticks\":\"\"}},\"coloraxis\":{\"colorbar\":{\"outlinewidth\":0,\"ticks\":\"\"}},\"colorscale\":{\"sequential\":[[0.0,\"#0d0887\"],[0.1111111111111111,\"#46039f\"],[0.2222222222222222,\"#7201a8\"],[0.3333333333333333,\"#9c179e\"],[0.4444444444444444,\"#bd3786\"],[0.5555555555555556,\"#d8576b\"],[0.6666666666666666,\"#ed7953\"],[0.7777777777777778,\"#fb9f3a\"],[0.8888888888888888,\"#fdca26\"],[1.0,\"#f0f921\"]],\"sequentialminus\":[[0.0,\"#0d0887\"],[0.1111111111111111,\"#46039f\"],[0.2222222222222222,\"#7201a8\"],[0.3333333333333333,\"#9c179e\"],[0.4444444444444444,\"#bd3786\"],[0.5555555555555556,\"#d8576b\"],[0.6666666666666666,\"#ed7953\"],[0.7777777777777778,\"#fb9f3a\"],[0.8888888888888888,\"#fdca26\"],[1.0,\"#f0f921\"]],\"diverging\":[[0,\"#8e0152\"],[0.1,\"#c51b7d\"],[0.2,\"#de77ae\"],[0.3,\"#f1b6da\"],[0.4,\"#fde0ef\"],[0.5,\"#f7f7f7\"],[0.6,\"#e6f5d0\"],[0.7,\"#b8e186\"],[0.8,\"#7fbc41\"],[0.9,\"#4d9221\"],[1,\"#276419\"]]},\"xaxis\":{\"gridcolor\":\"white\",\"linecolor\":\"white\",\"ticks\":\"\",\"title\":{\"standoff\":15},\"zerolinecolor\":\"white\",\"automargin\":true,\"zerolinewidth\":2},\"yaxis\":{\"gridcolor\":\"white\",\"linecolor\":\"white\",\"ticks\":\"\",\"title\":{\"standoff\":15},\"zerolinecolor\":\"white\",\"automargin\":true,\"zerolinewidth\":2},\"scene\":{\"xaxis\":{\"backgroundcolor\":\"#E5ECF6\",\"gridcolor\":\"white\",\"linecolor\":\"white\",\"showbackground\":true,\"ticks\":\"\",\"zerolinecolor\":\"white\",\"gridwidth\":2},\"yaxis\":{\"backgroundcolor\":\"#E5ECF6\",\"gridcolor\":\"white\",\"linecolor\":\"white\",\"showbackground\":true,\"ticks\":\"\",\"zerolinecolor\":\"white\",\"gridwidth\":2},\"zaxis\":{\"backgroundcolor\":\"#E5ECF6\",\"gridcolor\":\"white\",\"linecolor\":\"white\",\"showbackground\":true,\"ticks\":\"\",\"zerolinecolor\":\"white\",\"gridwidth\":2}},\"shapedefaults\":{\"line\":{\"color\":\"#2a3f5f\"}},\"annotationdefaults\":{\"arrowcolor\":\"#2a3f5f\",\"arrowhead\":0,\"arrowwidth\":1},\"geo\":{\"bgcolor\":\"white\",\"landcolor\":\"#E5ECF6\",\"subunitcolor\":\"white\",\"showland\":true,\"showlakes\":true,\"lakecolor\":\"white\"},\"title\":{\"x\":0.05},\"mapbox\":{\"style\":\"light\"}}}},                        {\"responsive\": true}                    ).then(function(){\n",
       "                            \n",
       "var gd = document.getElementById('3949dd4a-586f-4ff2-9783-46d17e1a5a5b');\n",
       "var x = new MutationObserver(function (mutations, observer) {{\n",
       "        var display = window.getComputedStyle(gd).display;\n",
       "        if (!display || display === 'none') {{\n",
       "            console.log([gd, 'removed!']);\n",
       "            Plotly.purge(gd);\n",
       "            observer.disconnect();\n",
       "        }}\n",
       "}});\n",
       "\n",
       "// Listen for the removal of the full notebook cells\n",
       "var notebookContainer = gd.closest('#notebook-container');\n",
       "if (notebookContainer) {{\n",
       "    x.observe(notebookContainer, {childList: true});\n",
       "}}\n",
       "\n",
       "// Listen for the clearing of the current output cell\n",
       "var outputEl = gd.closest('.output');\n",
       "if (outputEl) {{\n",
       "    x.observe(outputEl, {childList: true});\n",
       "}}\n",
       "\n",
       "                        })                };                });            </script>        </div>"
      ]
     },
     "metadata": {},
     "output_type": "display_data"
    }
   ],
   "source": [
    "if not config['tune_parameters']:\n",
    "    optuna_study = optuna.load_study(study_name=f'hyperparameters_tuning_{config[\"model\"]}', storage=f'sqlite:///{config[\"database_path\"]}')\n",
    "    \n",
    "fig = optuna.visualization.plot_param_importances(optuna_study)\n",
    "fig.show()"
   ]
  },
  {
   "cell_type": "markdown",
   "id": "de5f118a",
   "metadata": {
    "papermill": {
     "duration": 0.045432,
     "end_time": "2024-11-18T19:56:21.890043",
     "exception": false,
     "start_time": "2024-11-18T19:56:21.844611",
     "status": "completed"
    },
    "tags": []
   },
   "source": [
    "## Let's train the recommender with best parameter values"
   ]
  },
  {
   "cell_type": "code",
   "execution_count": 19,
   "id": "12163935",
   "metadata": {
    "execution": {
     "iopub.execute_input": "2024-11-18T19:56:21.986177Z",
     "iopub.status.busy": "2024-11-18T19:56:21.985792Z",
     "iopub.status.idle": "2024-11-18T19:56:37.129623Z",
     "shell.execute_reply": "2024-11-18T19:56:37.128523Z"
    },
    "papermill": {
     "duration": 15.195252,
     "end_time": "2024-11-18T19:56:37.132623",
     "exception": false,
     "start_time": "2024-11-18T19:56:21.937371",
     "status": "completed"
    },
    "tags": []
   },
   "outputs": [
    {
     "name": "stdout",
     "output_type": "stream",
     "text": [
      "Similarity column 38121 (100.0%), 2570.35 column/sec. Elapsed time 14.83 sec\n"
     ]
    }
   ],
   "source": [
    "if config['tune_best_params']:\n",
    "\n",
    "    if config['tune_parameters']:\n",
    "        best_params = optuna_study.best_trial.params\n",
    "    else: \n",
    "        with open(f'/kaggle/working/TrainedModels/{config[\"model\"]}Recommender/best_params_{config[\"model\"]}.json', 'r') as best_params_json:\n",
    "            best_params = json.load(best_params_json)\n",
    "\n",
    "    recommender_instance = ItemKNNCFRecommender(URM_train + URM_validation)\n",
    "    recommender_instance.fit(**best_params)"
   ]
  },
  {
   "cell_type": "markdown",
   "id": "087f0059",
   "metadata": {
    "papermill": {
     "duration": 0.046919,
     "end_time": "2024-11-18T19:56:37.227156",
     "exception": false,
     "start_time": "2024-11-18T19:56:37.180237",
     "status": "completed"
    },
    "tags": []
   },
   "source": [
    "# Testing"
   ]
  },
  {
   "cell_type": "markdown",
   "id": "4c72ff6f",
   "metadata": {
    "papermill": {
     "duration": 0.046769,
     "end_time": "2024-11-18T19:56:37.321548",
     "exception": false,
     "start_time": "2024-11-18T19:56:37.274779",
     "status": "completed"
    },
    "tags": []
   },
   "source": [
    "Create the recommendations for the submission. "
   ]
  },
  {
   "cell_type": "code",
   "execution_count": 20,
   "id": "5281a467",
   "metadata": {
    "execution": {
     "iopub.execute_input": "2024-11-18T19:56:37.415361Z",
     "iopub.status.busy": "2024-11-18T19:56:37.415012Z",
     "iopub.status.idle": "2024-11-18T19:56:37.421982Z",
     "shell.execute_reply": "2024-11-18T19:56:37.420934Z"
    },
    "papermill": {
     "duration": 0.057102,
     "end_time": "2024-11-18T19:56:37.424120",
     "exception": false,
     "start_time": "2024-11-18T19:56:37.367018",
     "status": "completed"
    },
    "tags": []
   },
   "outputs": [],
   "source": [
    "def create_submission(data_target_users_test, recommender_instance, cutoff=10, output_file=f\"/kaggle/working/submission_{config['model']}.csv\"):\n",
    "    \n",
    "    target_result = []\n",
    "\n",
    "    for target in data_target_users_test[\"user_id\"]:\n",
    "        target_result.append(recommender_instance.recommend(target, cutoff=cutoff, remove_seen_flag=True))\n",
    "\n",
    "    user_ids = data_target_users_test[\"user_id\"]\n",
    "    formatted_data = {\n",
    "        \"user_id\": user_ids,\n",
    "        \"item_list\": [\" \".join(map(str, items)) for items in target_result]\n",
    "    }\n",
    "\n",
    "    submission_df = pd.DataFrame(formatted_data)\n",
    "    submission_df.to_csv(output_file, index=False, header=[\"user_id\", \"item_list\"])\n",
    "\n",
    "    print(f\"Submission file saved as {output_file}\")"
   ]
  },
  {
   "cell_type": "code",
   "execution_count": 21,
   "id": "f804f43d",
   "metadata": {
    "execution": {
     "iopub.execute_input": "2024-11-18T19:56:37.520480Z",
     "iopub.status.busy": "2024-11-18T19:56:37.520102Z",
     "iopub.status.idle": "2024-11-18T19:56:57.363402Z",
     "shell.execute_reply": "2024-11-18T19:56:57.362180Z"
    },
    "papermill": {
     "duration": 19.894403,
     "end_time": "2024-11-18T19:56:57.365645",
     "exception": false,
     "start_time": "2024-11-18T19:56:37.471242",
     "status": "completed"
    },
    "tags": []
   },
   "outputs": [
    {
     "name": "stdout",
     "output_type": "stream",
     "text": [
      "Submission file saved as /kaggle/working/submission_ItemKNNCF.csv\n"
     ]
    }
   ],
   "source": [
    "if config['tune_best_params']:\n",
    "\n",
    "    data_target_users_test = pd.read_csv('/kaggle/input/recommender-system-2024-challenge-polimi/data_target_users_test.csv')\n",
    "    create_submission(data_target_users_test, recommender_instance)"
   ]
  },
  {
   "cell_type": "markdown",
   "id": "cebf367c",
   "metadata": {
    "execution": {
     "iopub.execute_input": "2024-11-14T00:04:16.877791Z",
     "iopub.status.busy": "2024-11-14T00:04:16.877275Z",
     "iopub.status.idle": "2024-11-14T00:04:16.883170Z",
     "shell.execute_reply": "2024-11-14T00:04:16.881889Z",
     "shell.execute_reply.started": "2024-11-14T00:04:16.877743Z"
    },
    "papermill": {
     "duration": 0.045578,
     "end_time": "2024-11-18T19:56:57.457078",
     "exception": false,
     "start_time": "2024-11-18T19:56:57.411500",
     "status": "completed"
    },
    "tags": []
   },
   "source": [
    "# Save Version on GitHub "
   ]
  },
  {
   "cell_type": "markdown",
   "id": "d114cb39",
   "metadata": {
    "papermill": {
     "duration": 0.046935,
     "end_time": "2024-11-18T19:56:57.550006",
     "exception": false,
     "start_time": "2024-11-18T19:56:57.503071",
     "status": "completed"
    },
    "tags": []
   },
   "source": [
    "Write or import a json file where best hyperparameters are saved. "
   ]
  },
  {
   "cell_type": "code",
   "execution_count": 22,
   "id": "203d5c9d",
   "metadata": {
    "execution": {
     "iopub.execute_input": "2024-11-18T19:56:57.646512Z",
     "iopub.status.busy": "2024-11-18T19:56:57.646155Z",
     "iopub.status.idle": "2024-11-18T19:56:58.666810Z",
     "shell.execute_reply": "2024-11-18T19:56:58.665487Z"
    },
    "papermill": {
     "duration": 1.072008,
     "end_time": "2024-11-18T19:56:58.669673",
     "exception": false,
     "start_time": "2024-11-18T19:56:57.597665",
     "status": "completed"
    },
    "tags": []
   },
   "outputs": [
    {
     "name": "stdout",
     "output_type": "stream",
     "text": [
      "File 'TrainedModels/ItemKNNCFRecommender/best_params_ItemKNNCF.json' created successfully.\n"
     ]
    }
   ],
   "source": [
    "if config['tune_parameters']:\n",
    "    with open(f'/kaggle/working/best_params_{config[\"model\"]}.json', 'w') as params_file:\n",
    "        json.dump(optuna_study.best_params, params_file)\n",
    "        \n",
    "    if config['save_github']:\n",
    "        upload_file(\n",
    "            f'/kaggle/working/best_params_{config[\"model\"]}.json', \n",
    "            f'TrainedModels/{config[\"model\"]}Recommender/best_params_{config[\"model\"]}.json', \n",
    "            f'{config[\"model\"]} tuning results (from kaggle notebook)'\n",
    "        )\n",
    "elif config['copy_prev_best_params']:\n",
    "    shutil.copyfile(\n",
    "        f'/kaggle/working/RECsys_Challenge2024/TrainedModels/{config[\"model\"]}Recommender/'\\\n",
    "        f'best_params_{config[\"model\"]}.json', \n",
    "        f'/kaggle/working/best_params_{config[\"model\"]}.json'\n",
    "    )"
   ]
  },
  {
   "cell_type": "markdown",
   "id": "d39fba9a",
   "metadata": {
    "papermill": {
     "duration": 0.073417,
     "end_time": "2024-11-18T19:56:58.803293",
     "exception": false,
     "start_time": "2024-11-18T19:56:58.729876",
     "status": "completed"
    },
    "tags": []
   },
   "source": [
    "Save the history of the tuned model."
   ]
  },
  {
   "cell_type": "code",
   "execution_count": 23,
   "id": "e910470d",
   "metadata": {
    "execution": {
     "iopub.execute_input": "2024-11-18T19:56:58.902585Z",
     "iopub.status.busy": "2024-11-18T19:56:58.902120Z",
     "iopub.status.idle": "2024-11-18T19:57:00.282657Z",
     "shell.execute_reply": "2024-11-18T19:57:00.281224Z"
    },
    "papermill": {
     "duration": 1.434,
     "end_time": "2024-11-18T19:57:00.285064",
     "exception": false,
     "start_time": "2024-11-18T19:56:58.851064",
     "status": "completed"
    },
    "tags": []
   },
   "outputs": [
    {
     "name": "stdout",
     "output_type": "stream",
     "text": [
      "File 'TrainedModels/ItemKNNCFRecommender/history_ItemKNNCF.db' updated successfully.\n"
     ]
    }
   ],
   "source": [
    "if config['save_github'] and config['tune_parameters']:\n",
    "    upload_file(\n",
    "        config['database_path'], \n",
    "        f'TrainedModels/{config[\"model\"]}Recommender/history_{config[\"model\"]}.db',\n",
    "        f'Tuning {config[\"model\"]} db updated results (from kaggle notebook)'\n",
    "    )"
   ]
  },
  {
   "cell_type": "markdown",
   "id": "b7205546",
   "metadata": {
    "execution": {
     "iopub.execute_input": "2024-11-14T00:41:34.294243Z",
     "iopub.status.busy": "2024-11-14T00:41:34.293739Z",
     "iopub.status.idle": "2024-11-14T00:41:34.301478Z",
     "shell.execute_reply": "2024-11-14T00:41:34.299869Z",
     "shell.execute_reply.started": "2024-11-14T00:41:34.294186Z"
    },
    "papermill": {
     "duration": 0.046817,
     "end_time": "2024-11-18T19:57:00.378495",
     "exception": false,
     "start_time": "2024-11-18T19:57:00.331678",
     "status": "completed"
    },
    "tags": []
   },
   "source": [
    "Save the best trained model and its submission."
   ]
  },
  {
   "cell_type": "code",
   "execution_count": null,
   "id": "7f94dccc",
   "metadata": {
    "execution": {
     "iopub.execute_input": "2024-11-18T19:57:00.473308Z",
     "iopub.status.busy": "2024-11-18T19:57:00.472874Z",
     "iopub.status.idle": "2024-11-18T19:57:04.020448Z",
     "shell.execute_reply": "2024-11-18T19:57:04.019064Z"
    },
    "papermill": {
     "duration": 3.598507,
     "end_time": "2024-11-18T19:57:04.023130",
     "exception": false,
     "start_time": "2024-11-18T19:57:00.424623",
     "status": "completed"
    },
    "tags": []
   },
   "outputs": [
    {
     "name": "stdout",
     "output_type": "stream",
     "text": [
      "File 'TrainedModels/ItemKNNCFRecommender/Submission/submission_ItemKNNCF.csv' updated successfully.\n",
      "ItemKNNCFRecommender: Saving model in file '/kaggle/working/best_ItemKNNCF_tuned'\n",
      "ItemKNNCFRecommender: Saving complete\n",
      "File 'TrainedModels/ItemKNNCFRecommender/best_ItemKNNCF_tuned.zip' created successfully.\n"
     ]
    }
   ],
   "source": [
    "if config['save_github'] and config['tune_best_params']:\n",
    "    \n",
    "    upload_file(\n",
    "                f'/kaggle/working/submission_{config[\"model\"]}.csv', \n",
    "                f'TrainedModels/{config[\"model\"]}Recommender/Submission/'\\\n",
    "                    f'submission_{config[\"model\"]}.csv', \n",
    "                f'New {config[\"model\"]} submission (from kaggle notebook)'\n",
    "            )\n",
    "    \n",
    "    recommender_instance.save_model(folder_path='/kaggle/working/', file_name=f'best_{config[\"model\"]}_tuned')\n",
    "\n",
    "    try:\n",
    "        upload_file(\n",
    "            f'/kaggle/working/best_{config[\"model\"]}_tuned.zip',  \n",
    "            f'TrainedModels/{config[\"model\"]}Recommender/best_{config[\"model\"]}_tuned.zip', \n",
    "            f'New {config[\"model\"]} recommender tuned with best parameters (from kaggle notebook)'\n",
    "        )\n",
    "    except Exception as e:\n",
    "        print(f\"\\nThe best recommender was not saved on GitHub because its size is more than 50 MB.\")"
   ]
  }
 ],
 "metadata": {
  "kaggle": {
   "accelerator": "none",
   "dataSources": [
    {
     "databundleVersionId": 9982103,
     "sourceId": 87439,
     "sourceType": "competition"
    }
   ],
   "dockerImageVersionId": 30786,
   "isGpuEnabled": false,
   "isInternetEnabled": true,
   "language": "python",
   "sourceType": "notebook"
  },
  "kernelspec": {
   "display_name": "Python 3",
   "language": "python",
   "name": "python3"
  },
  "language_info": {
   "codemirror_mode": {
    "name": "ipython",
    "version": 3
   },
   "file_extension": ".py",
   "mimetype": "text/x-python",
   "name": "python",
   "nbconvert_exporter": "python",
   "pygments_lexer": "ipython3",
   "version": "3.10.14"
  },
  "papermill": {
   "default_parameters": {},
   "duration": 10905.513702,
   "end_time": "2024-11-18T19:57:05.603442",
   "environment_variables": {},
   "exception": null,
   "input_path": "__notebook__.ipynb",
   "output_path": "__notebook__.ipynb",
   "parameters": {},
   "start_time": "2024-11-18T16:55:20.089740",
   "version": "2.6.0"
  }
 },
 "nbformat": 4,
 "nbformat_minor": 5
}
