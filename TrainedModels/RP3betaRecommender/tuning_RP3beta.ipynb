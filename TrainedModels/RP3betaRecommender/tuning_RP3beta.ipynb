{
 "cells": [
  {
   "cell_type": "markdown",
   "id": "fb454144",
   "metadata": {
    "papermill": {
     "duration": 0.007167,
     "end_time": "2024-11-18T18:34:26.862205",
     "exception": false,
     "start_time": "2024-11-18T18:34:26.855038",
     "status": "completed"
    },
    "tags": []
   },
   "source": [
    "# Set connection with GitHub"
   ]
  },
  {
   "cell_type": "code",
   "execution_count": 1,
   "id": "7a4e9739",
   "metadata": {
    "execution": {
     "iopub.execute_input": "2024-11-18T18:34:26.876808Z",
     "iopub.status.busy": "2024-11-18T18:34:26.876275Z",
     "iopub.status.idle": "2024-11-18T18:34:26.881740Z",
     "shell.execute_reply": "2024-11-18T18:34:26.880765Z"
    },
    "papermill": {
     "duration": 0.014943,
     "end_time": "2024-11-18T18:34:26.883667",
     "exception": false,
     "start_time": "2024-11-18T18:34:26.868724",
     "status": "completed"
    },
    "tags": []
   },
   "outputs": [],
   "source": [
    "# ! cd /kaggle/working && rm -rf RECsys_Challenge2024"
   ]
  },
  {
   "cell_type": "code",
   "execution_count": 2,
   "id": "0f8c664e",
   "metadata": {
    "_cell_guid": "b1076dfc-b9ad-4769-8c92-a6c4dae69d19",
    "_uuid": "8f2839f25d086af736a60e9eeb907d3b93b6e0e5",
    "execution": {
     "iopub.execute_input": "2024-11-18T18:34:26.897704Z",
     "iopub.status.busy": "2024-11-18T18:34:26.897370Z",
     "iopub.status.idle": "2024-11-18T18:34:38.300559Z",
     "shell.execute_reply": "2024-11-18T18:34:38.299253Z"
    },
    "papermill": {
     "duration": 11.413219,
     "end_time": "2024-11-18T18:34:38.303360",
     "exception": false,
     "start_time": "2024-11-18T18:34:26.890141",
     "status": "completed"
    },
    "tags": []
   },
   "outputs": [
    {
     "name": "stdout",
     "output_type": "stream",
     "text": [
      "Cloning into 'RECsys_Challenge2024'...\r\n",
      "remote: Enumerating objects: 1943, done.\u001b[K\r\n",
      "remote: Counting objects: 100% (325/325), done.\u001b[K\r\n",
      "remote: Compressing objects: 100% (137/137), done.\u001b[K\r\n",
      "remote: Total 1943 (delta 193), reused 311 (delta 180), pack-reused 1618 (from 1)\u001b[K\r\n",
      "Receiving objects: 100% (1943/1943), 128.18 MiB | 22.14 MiB/s, done.\r\n",
      "Resolving deltas: 100% (1138/1138), done.\r\n"
     ]
    }
   ],
   "source": [
    "from kaggle_secrets import UserSecretsClient\n",
    "\n",
    "token = UserSecretsClient().get_secret(\"Token\")\n",
    "\n",
    "! git clone https://{token}@github.com/madratak/RECsys_Challenge2024.git"
   ]
  },
  {
   "cell_type": "code",
   "execution_count": 3,
   "id": "f75c9d29",
   "metadata": {
    "execution": {
     "iopub.execute_input": "2024-11-18T18:34:38.325268Z",
     "iopub.status.busy": "2024-11-18T18:34:38.324871Z",
     "iopub.status.idle": "2024-11-18T18:34:50.190765Z",
     "shell.execute_reply": "2024-11-18T18:34:50.189712Z"
    },
    "papermill": {
     "duration": 11.880023,
     "end_time": "2024-11-18T18:34:50.193060",
     "exception": false,
     "start_time": "2024-11-18T18:34:38.313037",
     "status": "completed"
    },
    "tags": []
   },
   "outputs": [
    {
     "name": "stdout",
     "output_type": "stream",
     "text": [
      "Collecting PyGithub\r\n",
      "  Downloading PyGithub-2.5.0-py3-none-any.whl.metadata (3.9 kB)\r\n",
      "Requirement already satisfied: requests in /opt/conda/lib/python3.10/site-packages (2.32.3)\r\n",
      "Collecting pynacl>=1.4.0 (from PyGithub)\r\n",
      "  Downloading PyNaCl-1.5.0-cp36-abi3-manylinux_2_17_x86_64.manylinux2014_x86_64.manylinux_2_24_x86_64.whl.metadata (8.6 kB)\r\n",
      "Requirement already satisfied: pyjwt>=2.4.0 in /opt/conda/lib/python3.10/site-packages (from pyjwt[crypto]>=2.4.0->PyGithub) (2.8.0)\r\n",
      "Requirement already satisfied: typing-extensions>=4.0.0 in /opt/conda/lib/python3.10/site-packages (from PyGithub) (4.12.2)\r\n",
      "Requirement already satisfied: urllib3>=1.26.0 in /opt/conda/lib/python3.10/site-packages (from PyGithub) (1.26.18)\r\n",
      "Requirement already satisfied: Deprecated in /opt/conda/lib/python3.10/site-packages (from PyGithub) (1.2.14)\r\n",
      "Requirement already satisfied: charset-normalizer<4,>=2 in /opt/conda/lib/python3.10/site-packages (from requests) (3.3.2)\r\n",
      "Requirement already satisfied: idna<4,>=2.5 in /opt/conda/lib/python3.10/site-packages (from requests) (3.7)\r\n",
      "Requirement already satisfied: certifi>=2017.4.17 in /opt/conda/lib/python3.10/site-packages (from requests) (2024.8.30)\r\n",
      "Requirement already satisfied: cryptography>=3.4.0 in /opt/conda/lib/python3.10/site-packages (from pyjwt[crypto]>=2.4.0->PyGithub) (42.0.8)\r\n",
      "Requirement already satisfied: cffi>=1.4.1 in /opt/conda/lib/python3.10/site-packages (from pynacl>=1.4.0->PyGithub) (1.16.0)\r\n",
      "Requirement already satisfied: wrapt<2,>=1.10 in /opt/conda/lib/python3.10/site-packages (from Deprecated->PyGithub) (1.16.0)\r\n",
      "Requirement already satisfied: pycparser in /opt/conda/lib/python3.10/site-packages (from cffi>=1.4.1->pynacl>=1.4.0->PyGithub) (2.22)\r\n",
      "Downloading PyGithub-2.5.0-py3-none-any.whl (375 kB)\r\n",
      "\u001b[2K   \u001b[90m━━━━━━━━━━━━━━━━━━━━━━━━━━━━━━━━━━━━━━━━\u001b[0m \u001b[32m375.9/375.9 kB\u001b[0m \u001b[31m7.3 MB/s\u001b[0m eta \u001b[36m0:00:00\u001b[0m\r\n",
      "\u001b[?25hDownloading PyNaCl-1.5.0-cp36-abi3-manylinux_2_17_x86_64.manylinux2014_x86_64.manylinux_2_24_x86_64.whl (856 kB)\r\n",
      "\u001b[2K   \u001b[90m━━━━━━━━━━━━━━━━━━━━━━━━━━━━━━━━━━━━━━━━\u001b[0m \u001b[32m856.7/856.7 kB\u001b[0m \u001b[31m26.9 MB/s\u001b[0m eta \u001b[36m0:00:00\u001b[0m\r\n",
      "\u001b[?25hInstalling collected packages: pynacl, PyGithub\r\n",
      "Successfully installed PyGithub-2.5.0 pynacl-1.5.0\r\n"
     ]
    }
   ],
   "source": [
    "! pip install PyGithub requests"
   ]
  },
  {
   "cell_type": "code",
   "execution_count": 4,
   "id": "aebf7905",
   "metadata": {
    "_kg_hide-input": false,
    "execution": {
     "iopub.execute_input": "2024-11-18T18:34:50.214212Z",
     "iopub.status.busy": "2024-11-18T18:34:50.213284Z",
     "iopub.status.idle": "2024-11-18T18:37:13.432181Z",
     "shell.execute_reply": "2024-11-18T18:37:13.431033Z"
    },
    "papermill": {
     "duration": 143.232015,
     "end_time": "2024-11-18T18:37:13.434604",
     "exception": false,
     "start_time": "2024-11-18T18:34:50.202589",
     "status": "completed"
    },
    "tags": []
   },
   "outputs": [
    {
     "name": "stdout",
     "output_type": "stream",
     "text": [
      "run_compile_all_cython: Found 11 Cython files in 5 folders...\r\n",
      "run_compile_all_cython: All files will be compiled using your current python environment: '/opt/conda/bin/python'\r\n",
      "Compiling [1/11]: MatrixFactorization_Cython_Epoch.pyx... \r\n",
      "In file included from \u001b[01m\u001b[K/opt/conda/lib/python3.10/site-packages/numpy/core/include/numpy/ndarraytypes.h:1929\u001b[m\u001b[K,\r\n",
      "                 from \u001b[01m\u001b[K/opt/conda/lib/python3.10/site-packages/numpy/core/include/numpy/ndarrayobject.h:12\u001b[m\u001b[K,\r\n",
      "                 from \u001b[01m\u001b[K/opt/conda/lib/python3.10/site-packages/numpy/core/include/numpy/arrayobject.h:5\u001b[m\u001b[K,\r\n",
      "                 from \u001b[01m\u001b[KMatrixFactorization_Cython_Epoch.c:1252\u001b[m\u001b[K:\r\n",
      "\u001b[01m\u001b[K/opt/conda/lib/python3.10/site-packages/numpy/core/include/numpy/npy_1_7_deprecated_api.h:17:2:\u001b[m\u001b[K \u001b[01;35m\u001b[Kwarning: \u001b[m\u001b[K#warning \"Using deprecated NumPy API, disable it with \" \"#define NPY_NO_DEPRECATED_API NPY_1_7_API_VERSION\" [\u001b[01;35m\u001b[K-Wcpp\u001b[m\u001b[K]\r\n",
      "   17 | #\u001b[01;35m\u001b[Kwarning\u001b[m\u001b[K \"Using deprecated NumPy API, disable it with \" \\\r\n",
      "      |  \u001b[01;35m\u001b[K^~~~~~~\u001b[m\u001b[K\r\n",
      "\u001b[01m\u001b[KMatrixFactorization_Cython_Epoch.c:\u001b[m\u001b[K In function '\u001b[01m\u001b[K__pyx_pf_32MatrixFactorization_Cython_Epoch_32MatrixFactorization_Cython_Epoch_10epochIteration_Cython_ASY_SVD_SGD\u001b[m\u001b[K':\r\n",
      "\u001b[01m\u001b[KMatrixFactorization_Cython_Epoch.c:26255:9:\u001b[m\u001b[K \u001b[01;35m\u001b[Kwarning: \u001b[m\u001b[K'\u001b[01m\u001b[K__pyx_v_end_pos_seen_items\u001b[m\u001b[K' may be used uninitialized in this function [\u001b[01;35m\u001b[K-Wmaybe-uninitialized\u001b[m\u001b[K]\r\n",
      "26255 |         \u001b[01;35m\u001b[Kfor\u001b[m\u001b[K (__pyx_t_21 = __pyx_v_start_pos_seen_items; __pyx_t_21 < __pyx_t_20; __pyx_t_21+=1) {\r\n",
      "      |         \u001b[01;35m\u001b[K^~~\u001b[m\u001b[K\r\n",
      "\u001b[01m\u001b[KMatrixFactorization_Cython_Epoch.c:26255:9:\u001b[m\u001b[K \u001b[01;35m\u001b[Kwarning: \u001b[m\u001b[K'\u001b[01m\u001b[K__pyx_v_start_pos_seen_items\u001b[m\u001b[K' may be used uninitialized in this function [\u001b[01;35m\u001b[K-Wmaybe-uninitialized\u001b[m\u001b[K]\r\n",
      "/opt/conda/lib/python3.10/site-packages/Cython/Compiler/Main.py:381: FutureWarning: Cython directive 'language_level' not set, using '3str' for now (Py3). This has changed from earlier releases! File: /kaggle/working/RECsys_Challenge2024/Recommenders/MatrixFactorization/Cython/MatrixFactorization_Cython_Epoch.pyx\r\n",
      "  tree = Parsing.p_module(s, pxd, full_module_name)\r\n",
      "Compiling [1/11]: MatrixFactorization_Cython_Epoch.pyx... PASS\r\n",
      "\r\n",
      "Compiling [2/11]: MatrixFactorizationImpressions_Cython_Epoch.pyx... \r\n",
      "In file included from \u001b[01m\u001b[K/opt/conda/lib/python3.10/site-packages/numpy/core/include/numpy/ndarraytypes.h:1929\u001b[m\u001b[K,\r\n",
      "                 from \u001b[01m\u001b[K/opt/conda/lib/python3.10/site-packages/numpy/core/include/numpy/ndarrayobject.h:12\u001b[m\u001b[K,\r\n",
      "                 from \u001b[01m\u001b[K/opt/conda/lib/python3.10/site-packages/numpy/core/include/numpy/arrayobject.h:5\u001b[m\u001b[K,\r\n",
      "                 from \u001b[01m\u001b[KMatrixFactorizationImpressions_Cython_Epoch.c:1252\u001b[m\u001b[K:\r\n",
      "\u001b[01m\u001b[K/opt/conda/lib/python3.10/site-packages/numpy/core/include/numpy/npy_1_7_deprecated_api.h:17:2:\u001b[m\u001b[K \u001b[01;35m\u001b[Kwarning: \u001b[m\u001b[K#warning \"Using deprecated NumPy API, disable it with \" \"#define NPY_NO_DEPRECATED_API NPY_1_7_API_VERSION\" [\u001b[01;35m\u001b[K-Wcpp\u001b[m\u001b[K]\r\n",
      "   17 | #\u001b[01;35m\u001b[Kwarning\u001b[m\u001b[K \"Using deprecated NumPy API, disable it with \" \\\r\n",
      "      |  \u001b[01;35m\u001b[K^~~~~~~\u001b[m\u001b[K\r\n",
      "\u001b[01m\u001b[KMatrixFactorizationImpressions_Cython_Epoch.c:\u001b[m\u001b[K In function '\u001b[01m\u001b[K__pyx_f_43MatrixFactorizationImpressions_Cython_Epoch_32MatrixFactorization_Cython_Epoch_sampleBPR_Cython\u001b[m\u001b[K':\r\n",
      "\u001b[01m\u001b[KMatrixFactorizationImpressions_Cython_Epoch.c:30351:17:\u001b[m\u001b[K \u001b[01;35m\u001b[Kwarning: \u001b[m\u001b[K'\u001b[01m\u001b[K__pyx_v_start_pos_impression_items\u001b[m\u001b[K' may be used uninitialized in this function [\u001b[01;35m\u001b[K-Wmaybe-uninitialized\u001b[m\u001b[K]\r\n",
      "30351 |       \u001b[01;35m\u001b[K__pyx_t_4 = (__pyx_v_start_pos_impression_items + __pyx_v_index)\u001b[m\u001b[K;\r\n",
      "      |       \u001b[01;35m\u001b[K~~~~~~~~~~^~~~~~~~~~~~~~~~~~~~~~~~~~~~~~~~~~~~~~~~~~~~~~~~~~~~~~\u001b[m\u001b[K\r\n",
      "\u001b[01m\u001b[KMatrixFactorizationImpressions_Cython_Epoch.c:\u001b[m\u001b[K In function '\u001b[01m\u001b[K__pyx_pf_43MatrixFactorizationImpressions_Cython_Epoch_32MatrixFactorization_Cython_Epoch_10epochIteration_Cython_ASY_SVD_SGD\u001b[m\u001b[K':\r\n",
      "\u001b[01m\u001b[KMatrixFactorizationImpressions_Cython_Epoch.c:26111:7:\u001b[m\u001b[K \u001b[01;35m\u001b[Kwarning: \u001b[m\u001b[K'\u001b[01m\u001b[K__pyx_v_end_pos_seen_items\u001b[m\u001b[K' may be used uninitialized in this function [\u001b[01;35m\u001b[K-Wmaybe-uninitialized\u001b[m\u001b[K]\r\n",
      "26111 |       \u001b[01;35m\u001b[Kfor\u001b[m\u001b[K (__pyx_t_21 = __pyx_v_start_pos_seen_items; __pyx_t_21 < __pyx_t_20; __pyx_t_21+=1) {\r\n",
      "      |       \u001b[01;35m\u001b[K^~~\u001b[m\u001b[K\r\n",
      "\u001b[01m\u001b[KMatrixFactorizationImpressions_Cython_Epoch.c:26111:7:\u001b[m\u001b[K \u001b[01;35m\u001b[Kwarning: \u001b[m\u001b[K'\u001b[01m\u001b[K__pyx_v_start_pos_seen_items\u001b[m\u001b[K' may be used uninitialized in this function [\u001b[01;35m\u001b[K-Wmaybe-uninitialized\u001b[m\u001b[K]\r\n",
      "/opt/conda/lib/python3.10/site-packages/Cython/Compiler/Main.py:381: FutureWarning: Cython directive 'language_level' not set, using '3str' for now (Py3). This has changed from earlier releases! File: /kaggle/working/RECsys_Challenge2024/Recommenders/MatrixFactorization/Cython/MatrixFactorizationImpressions_Cython_Epoch.pyx\r\n",
      "  tree = Parsing.p_module(s, pxd, full_module_name)\r\n",
      "Compiling [2/11]: MatrixFactorizationImpressions_Cython_Epoch.pyx... PASS\r\n",
      "\r\n",
      "Compiling [3/11]: Compute_Similarity_Cython.pyx... \r\n",
      "warning: Compute_Similarity_Cython.pyx:21:0: The 'IF' statement is deprecated and will be removed in a future Cython version. Consider using runtime conditions or C macros instead. See https://github.com/cython/cython/issues/4310\r\n",
      "In file included from \u001b[01m\u001b[K/opt/conda/lib/python3.10/site-packages/numpy/core/include/numpy/ndarraytypes.h:1929\u001b[m\u001b[K,\r\n",
      "                 from \u001b[01m\u001b[K/opt/conda/lib/python3.10/site-packages/numpy/core/include/numpy/ndarrayobject.h:12\u001b[m\u001b[K,\r\n",
      "                 from \u001b[01m\u001b[K/opt/conda/lib/python3.10/site-packages/numpy/core/include/numpy/arrayobject.h:5\u001b[m\u001b[K,\r\n",
      "                 from \u001b[01m\u001b[KCompute_Similarity_Cython.c:1252\u001b[m\u001b[K:\r\n",
      "\u001b[01m\u001b[K/opt/conda/lib/python3.10/site-packages/numpy/core/include/numpy/npy_1_7_deprecated_api.h:17:2:\u001b[m\u001b[K \u001b[01;35m\u001b[Kwarning: \u001b[m\u001b[K#warning \"Using deprecated NumPy API, disable it with \" \"#define NPY_NO_DEPRECATED_API NPY_1_7_API_VERSION\" [\u001b[01;35m\u001b[K-Wcpp\u001b[m\u001b[K]\r\n",
      "   17 | #\u001b[01;35m\u001b[Kwarning\u001b[m\u001b[K \"Using deprecated NumPy API, disable it with \" \\\r\n",
      "      |  \u001b[01;35m\u001b[K^~~~~~~\u001b[m\u001b[K\r\n",
      "/opt/conda/lib/python3.10/site-packages/Cython/Compiler/Main.py:381: FutureWarning: Cython directive 'language_level' not set, using '3str' for now (Py3). This has changed from earlier releases! File: /kaggle/working/RECsys_Challenge2024/Recommenders/Similarity/Cython/Compute_Similarity_Cython.pyx\r\n",
      "  tree = Parsing.p_module(s, pxd, full_module_name)\r\n",
      "warning: Compute_Similarity_Cython.pyx:21:0: The 'IF' statement is deprecated and will be removed in a future Cython version. Consider using runtime conditions or C macros instead. See https://github.com/cython/cython/issues/4310\r\n",
      "Compiling [3/11]: Compute_Similarity_Cython.pyx... PASS\r\n",
      "\r\n",
      "Compiling [4/11]: Triangular_Matrix.pyx... \r\n",
      "warning: Triangular_Matrix.pyx:22:0: The 'IF' statement is deprecated and will be removed in a future Cython version. Consider using runtime conditions or C macros instead. See https://github.com/cython/cython/issues/4310\r\n",
      "In file included from \u001b[01m\u001b[K/opt/conda/lib/python3.10/site-packages/numpy/core/include/numpy/ndarraytypes.h:1929\u001b[m\u001b[K,\r\n",
      "                 from \u001b[01m\u001b[K/opt/conda/lib/python3.10/site-packages/numpy/core/include/numpy/ndarrayobject.h:12\u001b[m\u001b[K,\r\n",
      "                 from \u001b[01m\u001b[K/opt/conda/lib/python3.10/site-packages/numpy/core/include/numpy/arrayobject.h:5\u001b[m\u001b[K,\r\n",
      "                 from \u001b[01m\u001b[KTriangular_Matrix.c:1252\u001b[m\u001b[K:\r\n",
      "\u001b[01m\u001b[K/opt/conda/lib/python3.10/site-packages/numpy/core/include/numpy/npy_1_7_deprecated_api.h:17:2:\u001b[m\u001b[K \u001b[01;35m\u001b[Kwarning: \u001b[m\u001b[K#warning \"Using deprecated NumPy API, disable it with \" \"#define NPY_NO_DEPRECATED_API NPY_1_7_API_VERSION\" [\u001b[01;35m\u001b[K-Wcpp\u001b[m\u001b[K]\r\n",
      "   17 | #\u001b[01;35m\u001b[Kwarning\u001b[m\u001b[K \"Using deprecated NumPy API, disable it with \" \\\r\n",
      "      |  \u001b[01;35m\u001b[K^~~~~~~\u001b[m\u001b[K\r\n",
      "/opt/conda/lib/python3.10/site-packages/Cython/Compiler/Main.py:381: FutureWarning: Cython directive 'language_level' not set, using '3str' for now (Py3). This has changed from earlier releases! File: /kaggle/working/RECsys_Challenge2024/Recommenders/SLIM/Cython/Triangular_Matrix.pyx\r\n",
      "  tree = Parsing.p_module(s, pxd, full_module_name)\r\n",
      "warning: Triangular_Matrix.pyx:22:0: The 'IF' statement is deprecated and will be removed in a future Cython version. Consider using runtime conditions or C macros instead. See https://github.com/cython/cython/issues/4310\r\n",
      "Compiling [4/11]: Triangular_Matrix.pyx... PASS\r\n",
      "\r\n",
      "Compiling [5/11]: SLIM_BPR_Cython_Epoch.pyx... \r\n",
      "warning: SLIM_BPR_Cython_Epoch.pyx:24:0: The 'IF' statement is deprecated and will be removed in a future Cython version. Consider using runtime conditions or C macros instead. See https://github.com/cython/cython/issues/4310\r\n",
      "warning: SLIM_BPR_Cython_Epoch.pyx:632:34: Non-trivial type declarators in shared declaration (e.g. mix of pointers and values). Each pointer declaration should be on its own line.\r\n",
      "warning: SLIM_BPR_Cython_Epoch.pyx:632:66: Non-trivial type declarators in shared declaration (e.g. mix of pointers and values). Each pointer declaration should be on its own line.\r\n",
      "warning: SLIM_BPR_Cython_Epoch.pyx:817:35: Non-trivial type declarators in shared declaration (e.g. mix of pointers and values). Each pointer declaration should be on its own line.\r\n",
      "warning: SLIM_BPR_Cython_Epoch.pyx:817:52: Non-trivial type declarators in shared declaration (e.g. mix of pointers and values). Each pointer declaration should be on its own line.\r\n",
      "warning: SLIM_BPR_Cython_Epoch.pyx:916:35: Non-trivial type declarators in shared declaration (e.g. mix of pointers and values). Each pointer declaration should be on its own line.\r\n",
      "warning: SLIM_BPR_Cython_Epoch.pyx:916:53: Non-trivial type declarators in shared declaration (e.g. mix of pointers and values). Each pointer declaration should be on its own line.\r\n",
      "warning: SLIM_BPR_Cython_Epoch.pyx:916:69: Non-trivial type declarators in shared declaration (e.g. mix of pointers and values). Each pointer declaration should be on its own line.\r\n",
      "warning: SLIM_BPR_Cython_Epoch.pyx:1051:35: Non-trivial type declarators in shared declaration (e.g. mix of pointers and values). Each pointer declaration should be on its own line.\r\n",
      "warning: SLIM_BPR_Cython_Epoch.pyx:1051:42: Non-trivial type declarators in shared declaration (e.g. mix of pointers and values). Each pointer declaration should be on its own line.\r\n",
      "warning: SLIM_BPR_Cython_Epoch.pyx:1052:35: Non-trivial type declarators in shared declaration (e.g. mix of pointers and values). Each pointer declaration should be on its own line.\r\n",
      "warning: SLIM_BPR_Cython_Epoch.pyx:1052:53: Non-trivial type declarators in shared declaration (e.g. mix of pointers and values). Each pointer declaration should be on its own line.\r\n",
      "\r\n",
      "Error compiling Cython file:\r\n",
      "------------------------------------------------------------\r\n",
      "...\r\n",
      "            vector_pointer_to_list_elements[index].head = current_element\r\n",
      "            current_element = current_element.higher\r\n",
      "\r\n",
      "\r\n",
      "        # Sort array elements on their data field\r\n",
      "        qsort(vector_pointer_to_list_elements, list_length, sizeof(head_pointer_tree_s), compare_struct_on_data)\r\n",
      "                                                                                         ^\r\n",
      "------------------------------------------------------------\r\n",
      "\r\n",
      "SLIM_BPR_Cython_Epoch.pyx:990:89: Cannot assign type 'int (const void *, const void *) except? -1' to 'int (*)(const_void *, const_void *) noexcept'. Exception values are incompatible. Suggest adding 'noexcept' to the type of 'compare_struct_on_data'.\r\n",
      "\r\n",
      "Error compiling Cython file:\r\n",
      "------------------------------------------------------------\r\n",
      "...\r\n",
      "        # Sort array elements on their data field\r\n",
      "        qsort(vector_pointer_to_list_elements, list_length, sizeof(head_pointer_tree_s), compare_struct_on_data)\r\n",
      "\r\n",
      "        # Sort only the TopK according to their column field\r\n",
      "        # Sort is from lower to higher, therefore the elements to be considered are from len-topK to len\r\n",
      "        qsort(&vector_pointer_to_list_elements[list_length-TopK], TopK, sizeof(head_pointer_tree_s), compare_struct_on_column)\r\n",
      "                                                                                                     ^\r\n",
      "------------------------------------------------------------\r\n",
      "\r\n",
      "SLIM_BPR_Cython_Epoch.pyx:994:101: Cannot assign type 'int (const void *, const void *) except? -1' to 'int (*)(const_void *, const_void *) noexcept'. Exception values are incompatible. Suggest adding 'noexcept' to the type of 'compare_struct_on_column'.\r\n",
      "Traceback (most recent call last):\r\n",
      "  File \"/kaggle/working/RECsys_Challenge2024/CythonCompiler/compile_script.py\", line 48, in <module>\r\n",
      "    setup(\r\n",
      "  File \"/opt/conda/lib/python3.10/site-packages/setuptools/__init__.py\", line 103, in setup\r\n",
      "    return distutils.core.setup(**attrs)\r\n",
      "  File \"/opt/conda/lib/python3.10/site-packages/setuptools/_distutils/core.py\", line 184, in setup\r\n",
      "    return run_commands(dist)\r\n",
      "  File \"/opt/conda/lib/python3.10/site-packages/setuptools/_distutils/core.py\", line 200, in run_commands\r\n",
      "    dist.run_commands()\r\n",
      "  File \"/opt/conda/lib/python3.10/site-packages/setuptools/_distutils/dist.py\", line 969, in run_commands\r\n",
      "    self.run_command(cmd)\r\n",
      "  File \"/opt/conda/lib/python3.10/site-packages/setuptools/dist.py\", line 968, in run_command\r\n",
      "    super().run_command(command)\r\n",
      "  File \"/opt/conda/lib/python3.10/site-packages/setuptools/_distutils/dist.py\", line 988, in run_command\r\n",
      "    cmd_obj.run()\r\n",
      "  File \"/opt/conda/lib/python3.10/site-packages/setuptools/_distutils/command/build_ext.py\", line 359, in run\r\n",
      "    self.build_extensions()\r\n",
      "  File \"/opt/conda/lib/python3.10/site-packages/setuptools/_distutils/command/build_ext.py\", line 479, in build_extensions\r\n",
      "    self._build_extensions_serial()\r\n",
      "  File \"/opt/conda/lib/python3.10/site-packages/setuptools/_distutils/command/build_ext.py\", line 505, in _build_extensions_serial\r\n",
      "    self.build_extension(ext)\r\n",
      "  File \"/opt/conda/lib/python3.10/site-packages/Cython/Distutils/build_ext.py\", line 130, in build_extension\r\n",
      "    new_ext = cythonize(\r\n",
      "  File \"/opt/conda/lib/python3.10/site-packages/Cython/Build/Dependencies.py\", line 1154, in cythonize\r\n",
      "    cythonize_one(*args)\r\n",
      "  File \"/opt/conda/lib/python3.10/site-packages/Cython/Build/Dependencies.py\", line 1321, in cythonize_one\r\n",
      "    raise CompileError(None, pyx_file)\r\n",
      "Cython.Compiler.Errors.CompileError: SLIM_BPR_Cython_Epoch.pyx\r\n",
      "Traceback (most recent call last):\r\n",
      "  File \"/kaggle/working/RECsys_Challenge2024/run_compile_all_cython.py\", line 60, in <module>\r\n",
      "    run_compile_subprocess(file_path, [file_name])\r\n",
      "  File \"/kaggle/working/RECsys_Challenge2024/CythonCompiler/run_compile_subprocess.py\", line 51, in run_compile_subprocess\r\n",
      "    raise exc\r\n",
      "  File \"/kaggle/working/RECsys_Challenge2024/CythonCompiler/run_compile_subprocess.py\", line 32, in run_compile_subprocess\r\n",
      "    output = subprocess.check_output(' '.join(command),\r\n",
      "  File \"/opt/conda/lib/python3.10/subprocess.py\", line 421, in check_output\r\n",
      "    return run(*popenargs, stdout=PIPE, timeout=timeout, check=True,\r\n",
      "  File \"/opt/conda/lib/python3.10/subprocess.py\", line 526, in run\r\n",
      "    raise CalledProcessError(retcode, process.args,\r\n",
      "subprocess.CalledProcessError: Command '/opt/conda/bin/python /kaggle/working/RECsys_Challenge2024/CythonCompiler/compile_script.py SLIM_BPR_Cython_Epoch.pyx build_ext --inplace' returned non-zero exit status 1.\r\n",
      "Compiling [5/11]: SLIM_BPR_Cython_Epoch.pyx... FAIL: Command '/opt/conda/bin/python /kaggle/working/RECsys_Challenge2024/CythonCompiler/compile_script.py SLIM_BPR_Cython_Epoch.pyx build_ext --inplace' returned non-zero exit status 1.\r\n",
      "\r\n",
      "Compiling [6/11]: Sparse_Matrix_Tree_CSR.pyx... \r\n",
      "warning: Sparse_Matrix_Tree_CSR.pyx:132:34: Non-trivial type declarators in shared declaration (e.g. mix of pointers and values). Each pointer declaration should be on its own line.\r\n",
      "warning: Sparse_Matrix_Tree_CSR.pyx:132:66: Non-trivial type declarators in shared declaration (e.g. mix of pointers and values). Each pointer declaration should be on its own line.\r\n",
      "warning: Sparse_Matrix_Tree_CSR.pyx:343:35: Non-trivial type declarators in shared declaration (e.g. mix of pointers and values). Each pointer declaration should be on its own line.\r\n",
      "warning: Sparse_Matrix_Tree_CSR.pyx:343:52: Non-trivial type declarators in shared declaration (e.g. mix of pointers and values). Each pointer declaration should be on its own line.\r\n",
      "warning: Sparse_Matrix_Tree_CSR.pyx:442:35: Non-trivial type declarators in shared declaration (e.g. mix of pointers and values). Each pointer declaration should be on its own line.\r\n",
      "warning: Sparse_Matrix_Tree_CSR.pyx:442:53: Non-trivial type declarators in shared declaration (e.g. mix of pointers and values). Each pointer declaration should be on its own line.\r\n",
      "warning: Sparse_Matrix_Tree_CSR.pyx:442:69: Non-trivial type declarators in shared declaration (e.g. mix of pointers and values). Each pointer declaration should be on its own line.\r\n",
      "warning: Sparse_Matrix_Tree_CSR.pyx:577:35: Non-trivial type declarators in shared declaration (e.g. mix of pointers and values). Each pointer declaration should be on its own line.\r\n",
      "warning: Sparse_Matrix_Tree_CSR.pyx:577:42: Non-trivial type declarators in shared declaration (e.g. mix of pointers and values). Each pointer declaration should be on its own line.\r\n",
      "warning: Sparse_Matrix_Tree_CSR.pyx:578:35: Non-trivial type declarators in shared declaration (e.g. mix of pointers and values). Each pointer declaration should be on its own line.\r\n",
      "warning: Sparse_Matrix_Tree_CSR.pyx:578:53: Non-trivial type declarators in shared declaration (e.g. mix of pointers and values). Each pointer declaration should be on its own line.\r\n",
      "\r\n",
      "Error compiling Cython file:\r\n",
      "------------------------------------------------------------\r\n",
      "...\r\n",
      "            vector_pointer_to_list_elements[index].head = current_element\r\n",
      "            current_element = current_element.higher\r\n",
      "\r\n",
      "\r\n",
      "        # Sort array elements on their data field\r\n",
      "        qsort(vector_pointer_to_list_elements, list_length, sizeof(head_pointer_tree_s), compare_struct_on_data)\r\n",
      "                                                                                         ^\r\n",
      "------------------------------------------------------------\r\n",
      "\r\n",
      "Sparse_Matrix_Tree_CSR.pyx:516:89: Cannot assign type 'int (const void *, const void *) except? -1' to 'int (*)(const_void *, const_void *) noexcept'. Exception values are incompatible. Suggest adding 'noexcept' to the type of 'compare_struct_on_data'.\r\n",
      "\r\n",
      "Error compiling Cython file:\r\n",
      "------------------------------------------------------------\r\n",
      "...\r\n",
      "        # Sort array elements on their data field\r\n",
      "        qsort(vector_pointer_to_list_elements, list_length, sizeof(head_pointer_tree_s), compare_struct_on_data)\r\n",
      "\r\n",
      "        # Sort only the TopK according to their column field\r\n",
      "        # Sort is from lower to higher, therefore the elements to be considered are from len-topK to len\r\n",
      "        qsort(&vector_pointer_to_list_elements[list_length-TopK], TopK, sizeof(head_pointer_tree_s), compare_struct_on_column)\r\n",
      "                                                                                                     ^\r\n",
      "------------------------------------------------------------\r\n",
      "\r\n",
      "Sparse_Matrix_Tree_CSR.pyx:520:101: Cannot assign type 'int (const void *, const void *) except? -1' to 'int (*)(const_void *, const_void *) noexcept'. Exception values are incompatible. Suggest adding 'noexcept' to the type of 'compare_struct_on_column'.\r\n",
      "Traceback (most recent call last):\r\n",
      "  File \"/kaggle/working/RECsys_Challenge2024/CythonCompiler/compile_script.py\", line 48, in <module>\r\n",
      "    setup(\r\n",
      "  File \"/opt/conda/lib/python3.10/site-packages/setuptools/__init__.py\", line 103, in setup\r\n",
      "    return distutils.core.setup(**attrs)\r\n",
      "  File \"/opt/conda/lib/python3.10/site-packages/setuptools/_distutils/core.py\", line 184, in setup\r\n",
      "    return run_commands(dist)\r\n",
      "  File \"/opt/conda/lib/python3.10/site-packages/setuptools/_distutils/core.py\", line 200, in run_commands\r\n",
      "    dist.run_commands()\r\n",
      "  File \"/opt/conda/lib/python3.10/site-packages/setuptools/_distutils/dist.py\", line 969, in run_commands\r\n",
      "    self.run_command(cmd)\r\n",
      "  File \"/opt/conda/lib/python3.10/site-packages/setuptools/dist.py\", line 968, in run_command\r\n",
      "    super().run_command(command)\r\n",
      "  File \"/opt/conda/lib/python3.10/site-packages/setuptools/_distutils/dist.py\", line 988, in run_command\r\n",
      "    cmd_obj.run()\r\n",
      "  File \"/opt/conda/lib/python3.10/site-packages/setuptools/_distutils/command/build_ext.py\", line 359, in run\r\n",
      "    self.build_extensions()\r\n",
      "  File \"/opt/conda/lib/python3.10/site-packages/setuptools/_distutils/command/build_ext.py\", line 479, in build_extensions\r\n",
      "    self._build_extensions_serial()\r\n",
      "  File \"/opt/conda/lib/python3.10/site-packages/setuptools/_distutils/command/build_ext.py\", line 505, in _build_extensions_serial\r\n",
      "    self.build_extension(ext)\r\n",
      "  File \"/opt/conda/lib/python3.10/site-packages/Cython/Distutils/build_ext.py\", line 130, in build_extension\r\n",
      "    new_ext = cythonize(\r\n",
      "  File \"/opt/conda/lib/python3.10/site-packages/Cython/Build/Dependencies.py\", line 1154, in cythonize\r\n",
      "    cythonize_one(*args)\r\n",
      "  File \"/opt/conda/lib/python3.10/site-packages/Cython/Build/Dependencies.py\", line 1321, in cythonize_one\r\n",
      "    raise CompileError(None, pyx_file)\r\n",
      "Cython.Compiler.Errors.CompileError: Sparse_Matrix_Tree_CSR.pyx\r\n",
      "Traceback (most recent call last):\r\n",
      "  File \"/kaggle/working/RECsys_Challenge2024/run_compile_all_cython.py\", line 60, in <module>\r\n",
      "    run_compile_subprocess(file_path, [file_name])\r\n",
      "  File \"/kaggle/working/RECsys_Challenge2024/CythonCompiler/run_compile_subprocess.py\", line 51, in run_compile_subprocess\r\n",
      "    raise exc\r\n",
      "  File \"/kaggle/working/RECsys_Challenge2024/CythonCompiler/run_compile_subprocess.py\", line 32, in run_compile_subprocess\r\n",
      "    output = subprocess.check_output(' '.join(command),\r\n",
      "  File \"/opt/conda/lib/python3.10/subprocess.py\", line 421, in check_output\r\n",
      "    return run(*popenargs, stdout=PIPE, timeout=timeout, check=True,\r\n",
      "  File \"/opt/conda/lib/python3.10/subprocess.py\", line 526, in run\r\n",
      "    raise CalledProcessError(retcode, process.args,\r\n",
      "subprocess.CalledProcessError: Command '/opt/conda/bin/python /kaggle/working/RECsys_Challenge2024/CythonCompiler/compile_script.py Sparse_Matrix_Tree_CSR.pyx build_ext --inplace' returned non-zero exit status 1.\r\n",
      "Compiling [6/11]: Sparse_Matrix_Tree_CSR.pyx... FAIL: Command '/opt/conda/bin/python /kaggle/working/RECsys_Challenge2024/CythonCompiler/compile_script.py Sparse_Matrix_Tree_CSR.pyx build_ext --inplace' returned non-zero exit status 1.\r\n",
      "\r\n",
      "Compiling [7/11]: FBSM_Rating_Cython_SGD.pyx... \r\n",
      "In file included from \u001b[01m\u001b[K/opt/conda/lib/python3.10/site-packages/numpy/core/include/numpy/ndarraytypes.h:1929\u001b[m\u001b[K,\r\n",
      "                 from \u001b[01m\u001b[K/opt/conda/lib/python3.10/site-packages/numpy/core/include/numpy/ndarrayobject.h:12\u001b[m\u001b[K,\r\n",
      "                 from \u001b[01m\u001b[K/opt/conda/lib/python3.10/site-packages/numpy/core/include/numpy/arrayobject.h:5\u001b[m\u001b[K,\r\n",
      "                 from \u001b[01m\u001b[KFBSM_Rating_Cython_SGD.c:1252\u001b[m\u001b[K:\r\n",
      "\u001b[01m\u001b[K/opt/conda/lib/python3.10/site-packages/numpy/core/include/numpy/npy_1_7_deprecated_api.h:17:2:\u001b[m\u001b[K \u001b[01;35m\u001b[Kwarning: \u001b[m\u001b[K#warning \"Using deprecated NumPy API, disable it with \" \"#define NPY_NO_DEPRECATED_API NPY_1_7_API_VERSION\" [\u001b[01;35m\u001b[K-Wcpp\u001b[m\u001b[K]\r\n",
      "   17 | #\u001b[01;35m\u001b[Kwarning\u001b[m\u001b[K \"Using deprecated NumPy API, disable it with \" \\\r\n",
      "      |  \u001b[01;35m\u001b[K^~~~~~~\u001b[m\u001b[K\r\n",
      "\u001b[01m\u001b[KFBSM_Rating_Cython_SGD.c:\u001b[m\u001b[K In function '\u001b[01m\u001b[K__pyx_pf_22FBSM_Rating_Cython_SGD_22FBSM_Rating_Cython_SGD_2fit\u001b[m\u001b[K':\r\n",
      "\u001b[01m\u001b[KFBSM_Rating_Cython_SGD.c:26607:55:\u001b[m\u001b[K \u001b[01;35m\u001b[Kwarning: \u001b[m\u001b[K'\u001b[01m\u001b[K__pyx_v_num_sample\u001b[m\u001b[K' may be used uninitialized in this function [\u001b[01;35m\u001b[K-Wmaybe-uninitialized\u001b[m\u001b[K]\r\n",
      "26607 |   __pyx_t_5 = PyFloat_FromDouble((__pyx_v_cum_loss / \u001b[01;35m\u001b[K((double)__pyx_v_num_sample)\u001b[m\u001b[K)); if (unlikely(!__pyx_t_5)) __PYX_ERR(0, 551, __pyx_L1_error)\r\n",
      "      |                                                      \u001b[01;35m\u001b[K~^~~~~~~~~~~~~~~~~~~~~~~~~~~\u001b[m\u001b[K\r\n",
      "/opt/conda/lib/python3.10/site-packages/Cython/Compiler/Main.py:381: FutureWarning: Cython directive 'language_level' not set, using '3str' for now (Py3). This has changed from earlier releases! File: /kaggle/working/RECsys_Challenge2024/Recommenders/FeatureWeighting/Cython/FBSM_Rating_Cython_SGD.pyx\r\n",
      "  tree = Parsing.p_module(s, pxd, full_module_name)\r\n",
      "Compiling [7/11]: FBSM_Rating_Cython_SGD.pyx... PASS\r\n",
      "\r\n",
      "Compiling [8/11]: HP3_Similarity_Cython_SGD.pyx... \r\n",
      "performance hint: HP3_Similarity_Cython_SGD.pyx:113:40: Index should be typed for more efficient access\r\n",
      "performance hint: HP3_Similarity_Cython_SGD.pyx:114:40: Index should be typed for more efficient access\r\n",
      "In file included from \u001b[01m\u001b[K/opt/conda/lib/python3.10/site-packages/numpy/core/include/numpy/ndarraytypes.h:1929\u001b[m\u001b[K,\r\n",
      "                 from \u001b[01m\u001b[K/opt/conda/lib/python3.10/site-packages/numpy/core/include/numpy/ndarrayobject.h:12\u001b[m\u001b[K,\r\n",
      "                 from \u001b[01m\u001b[K/opt/conda/lib/python3.10/site-packages/numpy/core/include/numpy/arrayobject.h:5\u001b[m\u001b[K,\r\n",
      "                 from \u001b[01m\u001b[KHP3_Similarity_Cython_SGD.c:1252\u001b[m\u001b[K:\r\n",
      "\u001b[01m\u001b[K/opt/conda/lib/python3.10/site-packages/numpy/core/include/numpy/npy_1_7_deprecated_api.h:17:2:\u001b[m\u001b[K \u001b[01;35m\u001b[Kwarning: \u001b[m\u001b[K#warning \"Using deprecated NumPy API, disable it with \" \"#define NPY_NO_DEPRECATED_API NPY_1_7_API_VERSION\" [\u001b[01;35m\u001b[K-Wcpp\u001b[m\u001b[K]\r\n",
      "   17 | #\u001b[01;35m\u001b[Kwarning\u001b[m\u001b[K \"Using deprecated NumPy API, disable it with \" \\\r\n",
      "      |  \u001b[01;35m\u001b[K^~~~~~~\u001b[m\u001b[K\r\n",
      "\u001b[01m\u001b[KHP3_Similarity_Cython_SGD.c:\u001b[m\u001b[K In function '\u001b[01m\u001b[K__pyx_pf_25HP3_Similarity_Cython_SGD_25HP3_Similarity_Cython_SGD_4fit\u001b[m\u001b[K':\r\n",
      "\u001b[01m\u001b[KHP3_Similarity_Cython_SGD.c:23631:55:\u001b[m\u001b[K \u001b[01;35m\u001b[Kwarning: \u001b[m\u001b[K'\u001b[01m\u001b[K__pyx_v_sample_num\u001b[m\u001b[K' may be used uninitialized in this function [\u001b[01;35m\u001b[K-Wmaybe-uninitialized\u001b[m\u001b[K]\r\n",
      "23631 |   __pyx_t_1 = PyFloat_FromDouble((__pyx_v_cum_loss / \u001b[01;35m\u001b[K((double)__pyx_v_sample_num)\u001b[m\u001b[K)); if (unlikely(!__pyx_t_1)) __PYX_ERR(0, 291, __pyx_L1_error)\r\n",
      "      |                                                      \u001b[01;35m\u001b[K~^~~~~~~~~~~~~~~~~~~~~~~~~~~\u001b[m\u001b[K\r\n",
      "/opt/conda/lib/python3.10/site-packages/Cython/Compiler/Main.py:381: FutureWarning: Cython directive 'language_level' not set, using '3str' for now (Py3). This has changed from earlier releases! File: /kaggle/working/RECsys_Challenge2024/Recommenders/FeatureWeighting/Cython/HP3_Similarity_Cython_SGD.pyx\r\n",
      "  tree = Parsing.p_module(s, pxd, full_module_name)\r\n",
      "performance hint: HP3_Similarity_Cython_SGD.pyx:113:40: Index should be typed for more efficient access\r\n",
      "performance hint: HP3_Similarity_Cython_SGD.pyx:114:40: Index should be typed for more efficient access\r\n",
      "Compiling [8/11]: HP3_Similarity_Cython_SGD.pyx... PASS\r\n",
      "\r\n",
      "Compiling [9/11]: CFW_D_Similarity_Cython_SGD.pyx... \r\n",
      "In file included from \u001b[01m\u001b[K/opt/conda/lib/python3.10/site-packages/numpy/core/include/numpy/ndarraytypes.h:1929\u001b[m\u001b[K,\r\n",
      "                 from \u001b[01m\u001b[K/opt/conda/lib/python3.10/site-packages/numpy/core/include/numpy/ndarrayobject.h:12\u001b[m\u001b[K,\r\n",
      "                 from \u001b[01m\u001b[K/opt/conda/lib/python3.10/site-packages/numpy/core/include/numpy/arrayobject.h:5\u001b[m\u001b[K,\r\n",
      "                 from \u001b[01m\u001b[KCFW_D_Similarity_Cython_SGD.c:1252\u001b[m\u001b[K:\r\n",
      "\u001b[01m\u001b[K/opt/conda/lib/python3.10/site-packages/numpy/core/include/numpy/npy_1_7_deprecated_api.h:17:2:\u001b[m\u001b[K \u001b[01;35m\u001b[Kwarning: \u001b[m\u001b[K#warning \"Using deprecated NumPy API, disable it with \" \"#define NPY_NO_DEPRECATED_API NPY_1_7_API_VERSION\" [\u001b[01;35m\u001b[K-Wcpp\u001b[m\u001b[K]\r\n",
      "   17 | #\u001b[01;35m\u001b[Kwarning\u001b[m\u001b[K \"Using deprecated NumPy API, disable it with \" \\\r\n",
      "      |  \u001b[01;35m\u001b[K^~~~~~~\u001b[m\u001b[K\r\n",
      "\u001b[01m\u001b[KCFW_D_Similarity_Cython_SGD.c:\u001b[m\u001b[K In function '\u001b[01m\u001b[K__pyx_pf_27CFW_D_Similarity_Cython_SGD_27CFW_D_Similarity_Cython_SGD_6fit\u001b[m\u001b[K':\r\n",
      "\u001b[01m\u001b[KCFW_D_Similarity_Cython_SGD.c:23373:55:\u001b[m\u001b[K \u001b[01;35m\u001b[Kwarning: \u001b[m\u001b[K'\u001b[01m\u001b[K__pyx_v_sample_num\u001b[m\u001b[K' may be used uninitialized in this function [\u001b[01;35m\u001b[K-Wmaybe-uninitialized\u001b[m\u001b[K]\r\n",
      "23373 |   __pyx_t_3 = PyFloat_FromDouble((__pyx_v_cum_loss / \u001b[01;35m\u001b[K((double)__pyx_v_sample_num)\u001b[m\u001b[K)); if (unlikely(!__pyx_t_3)) __PYX_ERR(0, 290, __pyx_L1_error)\r\n",
      "      |                                                      \u001b[01;35m\u001b[K~^~~~~~~~~~~~~~~~~~~~~~~~~~~\u001b[m\u001b[K\r\n",
      "/opt/conda/lib/python3.10/site-packages/Cython/Compiler/Main.py:381: FutureWarning: Cython directive 'language_level' not set, using '3str' for now (Py3). This has changed from earlier releases! File: /kaggle/working/RECsys_Challenge2024/Recommenders/FeatureWeighting/Cython/CFW_D_Similarity_Cython_SGD.pyx\r\n",
      "  tree = Parsing.p_module(s, pxd, full_module_name)\r\n",
      "Compiling [9/11]: CFW_D_Similarity_Cython_SGD.pyx... PASS\r\n",
      "\r\n",
      "Compiling [10/11]: CFW_DVV_Similarity_Cython_SGD.pyx... \r\n",
      "In file included from \u001b[01m\u001b[K/opt/conda/lib/python3.10/site-packages/numpy/core/include/numpy/ndarraytypes.h:1929\u001b[m\u001b[K,\r\n",
      "                 from \u001b[01m\u001b[K/opt/conda/lib/python3.10/site-packages/numpy/core/include/numpy/ndarrayobject.h:12\u001b[m\u001b[K,\r\n",
      "                 from \u001b[01m\u001b[K/opt/conda/lib/python3.10/site-packages/numpy/core/include/numpy/arrayobject.h:5\u001b[m\u001b[K,\r\n",
      "                 from \u001b[01m\u001b[KCFW_DVV_Similarity_Cython_SGD.c:1252\u001b[m\u001b[K:\r\n",
      "\u001b[01m\u001b[K/opt/conda/lib/python3.10/site-packages/numpy/core/include/numpy/npy_1_7_deprecated_api.h:17:2:\u001b[m\u001b[K \u001b[01;35m\u001b[Kwarning: \u001b[m\u001b[K#warning \"Using deprecated NumPy API, disable it with \" \"#define NPY_NO_DEPRECATED_API NPY_1_7_API_VERSION\" [\u001b[01;35m\u001b[K-Wcpp\u001b[m\u001b[K]\r\n",
      "   17 | #\u001b[01;35m\u001b[Kwarning\u001b[m\u001b[K \"Using deprecated NumPy API, disable it with \" \\\r\n",
      "      |  \u001b[01;35m\u001b[K^~~~~~~\u001b[m\u001b[K\r\n",
      "/opt/conda/lib/python3.10/site-packages/Cython/Compiler/Main.py:381: FutureWarning: Cython directive 'language_level' not set, using '3str' for now (Py3). This has changed from earlier releases! File: /kaggle/working/RECsys_Challenge2024/Recommenders/FeatureWeighting/Cython/CFW_DVV_Similarity_Cython_SGD.pyx\r\n",
      "  tree = Parsing.p_module(s, pxd, full_module_name)\r\n",
      "Compiling [10/11]: CFW_DVV_Similarity_Cython_SGD.pyx... PASS\r\n",
      "\r\n",
      "Compiling [11/11]: DataIterator.pyx... \r\n",
      "In file included from \u001b[01m\u001b[K/opt/conda/lib/python3.10/site-packages/numpy/core/include/numpy/ndarraytypes.h:1929\u001b[m\u001b[K,\r\n",
      "                 from \u001b[01m\u001b[K/opt/conda/lib/python3.10/site-packages/numpy/core/include/numpy/ndarrayobject.h:12\u001b[m\u001b[K,\r\n",
      "                 from \u001b[01m\u001b[K/opt/conda/lib/python3.10/site-packages/numpy/core/include/numpy/arrayobject.h:5\u001b[m\u001b[K,\r\n",
      "                 from \u001b[01m\u001b[KDataIterator.c:1252\u001b[m\u001b[K:\r\n",
      "\u001b[01m\u001b[K/opt/conda/lib/python3.10/site-packages/numpy/core/include/numpy/npy_1_7_deprecated_api.h:17:2:\u001b[m\u001b[K \u001b[01;35m\u001b[Kwarning: \u001b[m\u001b[K#warning \"Using deprecated NumPy API, disable it with \" \"#define NPY_NO_DEPRECATED_API NPY_1_7_API_VERSION\" [\u001b[01;35m\u001b[K-Wcpp\u001b[m\u001b[K]\r\n",
      "   17 | #\u001b[01;35m\u001b[Kwarning\u001b[m\u001b[K \"Using deprecated NumPy API, disable it with \" \\\r\n",
      "      |  \u001b[01;35m\u001b[K^~~~~~~\u001b[m\u001b[K\r\n",
      "\u001b[01m\u001b[KDataIterator.c:\u001b[m\u001b[K In function '\u001b[01m\u001b[K__pyx_pf_12DataIterator_30InteractionAndNegativeIterator_6__next__\u001b[m\u001b[K':\r\n",
      "\u001b[01m\u001b[KDataIterator.c:25495:22:\u001b[m\u001b[K \u001b[01;35m\u001b[Kwarning: \u001b[m\u001b[K'\u001b[01m\u001b[K__pyx_v_i_batch\u001b[m\u001b[K' may be used uninitialized in this function [\u001b[01;35m\u001b[K-Wmaybe-uninitialized\u001b[m\u001b[K]\r\n",
      "25495 |     (__pyx_v_i_batch \u001b[01;35m\u001b[K+\u001b[m\u001b[K 1),\r\n",
      "      |                      \u001b[01;35m\u001b[K^\u001b[m\u001b[K\r\n",
      "\u001b[01m\u001b[KDataIterator.c:\u001b[m\u001b[K In function '\u001b[01m\u001b[K__pyx_pf_12DataIterator_11BPRIterator_6__next__\u001b[m\u001b[K':\r\n",
      "\u001b[01m\u001b[KDataIterator.c:23054:22:\u001b[m\u001b[K \u001b[01;35m\u001b[Kwarning: \u001b[m\u001b[K'\u001b[01m\u001b[K__pyx_v_i_batch\u001b[m\u001b[K' may be used uninitialized in this function [\u001b[01;35m\u001b[K-Wmaybe-uninitialized\u001b[m\u001b[K]\r\n",
      "23054 |     (__pyx_v_i_batch \u001b[01;35m\u001b[K+\u001b[m\u001b[K 1),\r\n",
      "      |                      \u001b[01;35m\u001b[K^\u001b[m\u001b[K\r\n",
      "\u001b[01m\u001b[KDataIterator.c:\u001b[m\u001b[K In function '\u001b[01m\u001b[K__pyx_pf_12DataIterator_19InteractionIterator_6__next__\u001b[m\u001b[K':\r\n",
      "\u001b[01m\u001b[KDataIterator.c:20937:22:\u001b[m\u001b[K \u001b[01;35m\u001b[Kwarning: \u001b[m\u001b[K'\u001b[01m\u001b[K__pyx_v_i_batch\u001b[m\u001b[K' may be used uninitialized in this function [\u001b[01;35m\u001b[K-Wmaybe-uninitialized\u001b[m\u001b[K]\r\n",
      "20937 |     (__pyx_v_i_batch \u001b[01;35m\u001b[K+\u001b[m\u001b[K 1),\r\n",
      "      |                      \u001b[01;35m\u001b[K^\u001b[m\u001b[K\r\n",
      "/opt/conda/lib/python3.10/site-packages/Cython/Compiler/Main.py:381: FutureWarning: Cython directive 'language_level' not set, using '3str' for now (Py3). This has changed from earlier releases! File: /kaggle/working/RECsys_Challenge2024/Utils/PyTorch/Cython/DataIterator.pyx\r\n",
      "  tree = Parsing.p_module(s, pxd, full_module_name)\r\n",
      "Compiling [11/11]: DataIterator.pyx... PASS\r\n",
      "\r\n",
      "run_compile_all_cython: Compilation finished. FAILS 2/11.\r\n",
      "Compilation log can be found here: './result_experiments/run_compile_all_cython.txt'\r\n"
     ]
    }
   ],
   "source": [
    "! cd /kaggle/working/RECsys_Challenge2024 && python run_compile_all_cython.py"
   ]
  },
  {
   "cell_type": "code",
   "execution_count": 5,
   "id": "64d2ba44",
   "metadata": {
    "execution": {
     "iopub.execute_input": "2024-11-18T18:37:13.461214Z",
     "iopub.status.busy": "2024-11-18T18:37:13.460807Z",
     "iopub.status.idle": "2024-11-18T18:37:14.901170Z",
     "shell.execute_reply": "2024-11-18T18:37:14.900346Z"
    },
    "papermill": {
     "duration": 1.456522,
     "end_time": "2024-11-18T18:37:14.903571",
     "exception": false,
     "start_time": "2024-11-18T18:37:13.447049",
     "status": "completed"
    },
    "tags": []
   },
   "outputs": [],
   "source": [
    "import numpy as np\n",
    "import pandas as pd\n",
    "import scipy.sparse as sps\n",
    "import time\n",
    "import shutil\n",
    "import optuna\n",
    "import json\n",
    "import os\n",
    "\n",
    "np.random.seed(42)"
   ]
  },
  {
   "cell_type": "markdown",
   "id": "5ad81386",
   "metadata": {
    "papermill": {
     "duration": 0.012009,
     "end_time": "2024-11-18T18:37:14.928129",
     "exception": false,
     "start_time": "2024-11-18T18:37:14.916120",
     "status": "completed"
    },
    "tags": []
   },
   "source": [
    "## Import the repository"
   ]
  },
  {
   "cell_type": "code",
   "execution_count": 6,
   "id": "13450515",
   "metadata": {
    "execution": {
     "iopub.execute_input": "2024-11-18T18:37:14.955164Z",
     "iopub.status.busy": "2024-11-18T18:37:14.954656Z",
     "iopub.status.idle": "2024-11-18T18:37:15.593239Z",
     "shell.execute_reply": "2024-11-18T18:37:15.592232Z"
    },
    "papermill": {
     "duration": 0.654923,
     "end_time": "2024-11-18T18:37:15.595409",
     "exception": false,
     "start_time": "2024-11-18T18:37:14.940486",
     "status": "completed"
    },
    "tags": []
   },
   "outputs": [
    {
     "name": "stdout",
     "output_type": "stream",
     "text": [
      "Repository 'RECsys_Challenge2024' found.\n"
     ]
    }
   ],
   "source": [
    "from github import Github, Auth\n",
    "\n",
    "# Authenticate using a personal access token\n",
    "auth_token = Auth.Token(token)\n",
    "github_client = Github(auth=auth_token)\n",
    "\n",
    "# Define the repository name you want to find\n",
    "target_repo_name = 'RECsys_Challenge2024'\n",
    "repo = None\n",
    "\n",
    "# Search for the repository in the user's repositories\n",
    "try:\n",
    "    for repository in github_client.get_user().get_repos():\n",
    "        if repository.name == target_repo_name:\n",
    "            repo = repository\n",
    "            print(f\"Repository '{target_repo_name}' found.\")\n",
    "            break\n",
    "    if repo is None:\n",
    "        print(f\"Repository '{target_repo_name}' not found.\")\n",
    "except Exception as e:\n",
    "    print(\"An error occurred while accessing the repositories:\", e)"
   ]
  },
  {
   "cell_type": "code",
   "execution_count": 7,
   "id": "94a6b5ed",
   "metadata": {
    "execution": {
     "iopub.execute_input": "2024-11-18T18:37:15.622351Z",
     "iopub.status.busy": "2024-11-18T18:37:15.621254Z",
     "iopub.status.idle": "2024-11-18T18:37:15.628408Z",
     "shell.execute_reply": "2024-11-18T18:37:15.627490Z"
    },
    "papermill": {
     "duration": 0.022512,
     "end_time": "2024-11-18T18:37:15.630257",
     "exception": false,
     "start_time": "2024-11-18T18:37:15.607745",
     "status": "completed"
    },
    "tags": []
   },
   "outputs": [],
   "source": [
    "def upload_file(filepath_kaggle, filepath_github, commit_message):\n",
    "    \"\"\"\n",
    "    Uploads a file from Kaggle to GitHub, updating it if it already exists in the repository,\n",
    "    or creating it if it does not.\n",
    "\n",
    "    Parameters:\n",
    "    - filepath_kaggle: Path to the file in the Kaggle environment.\n",
    "    - filepath_github: Target path in the GitHub repository where the file should be uploaded.\n",
    "    - commit_message: Message for the commit on GitHub.\n",
    "    \"\"\"\n",
    "    try:\n",
    "        \n",
    "        # Check if the file already exists in the GitHub repository\n",
    "        contents = repo.get_contents(filepath_github)\n",
    "        \n",
    "        # If it exists, update the file\n",
    "        with open(filepath_kaggle, \"rb\") as file:\n",
    "            repo.update_file(\n",
    "                contents.path, commit_message, file.read(), contents.sha\n",
    "            )\n",
    "        print(f\"File '{filepath_github}' updated successfully.\")\n",
    "    \n",
    "    except Exception as e:\n",
    "        \n",
    "        # If the file does not exist, create it\n",
    "        with open(filepath_kaggle, \"rb\") as file:\n",
    "            repo.create_file(\n",
    "                filepath_github, commit_message, file.read()\n",
    "            )\n",
    "        print(f\"File '{filepath_github}' created successfully.\")"
   ]
  },
  {
   "cell_type": "code",
   "execution_count": 8,
   "id": "1e77aae9",
   "metadata": {
    "execution": {
     "iopub.execute_input": "2024-11-18T18:37:15.657203Z",
     "iopub.status.busy": "2024-11-18T18:37:15.656243Z",
     "iopub.status.idle": "2024-11-18T18:37:15.661281Z",
     "shell.execute_reply": "2024-11-18T18:37:15.660366Z"
    },
    "papermill": {
     "duration": 0.020719,
     "end_time": "2024-11-18T18:37:15.663356",
     "exception": false,
     "start_time": "2024-11-18T18:37:15.642637",
     "status": "completed"
    },
    "tags": []
   },
   "outputs": [],
   "source": [
    "config = {\n",
    "    'model': 'RP3beta',\n",
    "    'tune_parameters': True,\n",
    "    'database_path': '/kaggle/working/history_RP3beta.db',\n",
    "    'copy_prev_best_params': False,\n",
    "    'tune_best_params': True,\n",
    "    'save_github': True\n",
    "}"
   ]
  },
  {
   "cell_type": "markdown",
   "id": "421134c3",
   "metadata": {
    "papermill": {
     "duration": 0.01258,
     "end_time": "2024-11-18T18:37:15.747381",
     "exception": false,
     "start_time": "2024-11-18T18:37:15.734801",
     "status": "completed"
    },
    "tags": []
   },
   "source": [
    "Import the database where previous tuning trials have been saved."
   ]
  },
  {
   "cell_type": "code",
   "execution_count": 10,
   "id": "37725199",
   "metadata": {
    "execution": {
     "iopub.execute_input": "2024-11-18T18:37:15.774375Z",
     "iopub.status.busy": "2024-11-18T18:37:15.773453Z",
     "iopub.status.idle": "2024-11-18T18:37:15.778425Z",
     "shell.execute_reply": "2024-11-18T18:37:15.777527Z"
    },
    "papermill": {
     "duration": 0.020307,
     "end_time": "2024-11-18T18:37:15.780231",
     "exception": false,
     "start_time": "2024-11-18T18:37:15.759924",
     "status": "completed"
    },
    "tags": []
   },
   "outputs": [],
   "source": [
    "try:\n",
    "    shutil.copyfile(\n",
    "        f'/kaggle/working/RECsys_Challenge2024/TrainedModels/' \\\n",
    "        f'{config[\"model\"]}Recommender/history_{config[\"model\"]}.db', \n",
    "        config['database_path']\n",
    "    )\n",
    "except FileNotFoundError:\n",
    "    pass # if not present optuna will create it"
   ]
  },
  {
   "cell_type": "markdown",
   "id": "89c07d0a",
   "metadata": {
    "papermill": {
     "duration": 0.011993,
     "end_time": "2024-11-18T18:37:15.804850",
     "exception": false,
     "start_time": "2024-11-18T18:37:15.792857",
     "status": "completed"
    },
    "tags": []
   },
   "source": [
    "# Construction of URM and ICM matrices"
   ]
  },
  {
   "cell_type": "code",
   "execution_count": 11,
   "id": "6e3522d4",
   "metadata": {
    "execution": {
     "iopub.execute_input": "2024-11-18T18:37:15.831566Z",
     "iopub.status.busy": "2024-11-18T18:37:15.830821Z",
     "iopub.status.idle": "2024-11-18T18:37:16.754236Z",
     "shell.execute_reply": "2024-11-18T18:37:16.753254Z"
    },
    "papermill": {
     "duration": 0.938982,
     "end_time": "2024-11-18T18:37:16.756318",
     "exception": false,
     "start_time": "2024-11-18T18:37:15.817336",
     "status": "completed"
    },
    "tags": []
   },
   "outputs": [
    {
     "data": {
      "text/plain": [
       "<Compressed Sparse Row sparse matrix of dtype 'float64'\n",
       "\twith 1764607 stored elements and shape (35736, 38121)>"
      ]
     },
     "execution_count": 11,
     "metadata": {},
     "output_type": "execute_result"
    }
   ],
   "source": [
    "URM_all_dataframe = pd.read_csv(\"/kaggle/input/recommender-system-2024-challenge-polimi/data_train.csv\")\n",
    "\n",
    "n_users = len(URM_all_dataframe[\"user_id\"].unique())\n",
    "n_items = len(URM_all_dataframe[\"item_id\"].unique())\n",
    "\n",
    "URM_all = sps.csr_matrix((URM_all_dataframe[\"data\"].values, \n",
    "                          (URM_all_dataframe[\"user_id\"].values, URM_all_dataframe[\"item_id\"].values)),\n",
    "                        shape = (n_users, n_items))\n",
    "\n",
    "URM_all"
   ]
  },
  {
   "cell_type": "code",
   "execution_count": 12,
   "id": "c7600529",
   "metadata": {
    "execution": {
     "iopub.execute_input": "2024-11-18T18:37:16.783115Z",
     "iopub.status.busy": "2024-11-18T18:37:16.782735Z",
     "iopub.status.idle": "2024-11-18T18:37:18.180680Z",
     "shell.execute_reply": "2024-11-18T18:37:18.179635Z"
    },
    "papermill": {
     "duration": 1.413985,
     "end_time": "2024-11-18T18:37:18.182990",
     "exception": false,
     "start_time": "2024-11-18T18:37:16.769005",
     "status": "completed"
    },
    "tags": []
   },
   "outputs": [
    {
     "data": {
      "text/plain": [
       "<Compressed Sparse Row sparse matrix of dtype 'float64'\n",
       "\twith 2940040 stored elements and shape (38121, 94331)>"
      ]
     },
     "execution_count": 12,
     "metadata": {},
     "output_type": "execute_result"
    }
   ],
   "source": [
    "ICM_dataframe = pd.read_csv(\"/kaggle/input/recommender-system-2024-challenge-polimi/data_ICM_metadata.csv\")\n",
    "\n",
    "n_items = len(ICM_dataframe[\"item_id\"].unique())\n",
    "n_features = len(ICM_dataframe[\"feature_id\"].unique())\n",
    "\n",
    "ICM_all = sps.csr_matrix((ICM_dataframe[\"data\"].values, \n",
    "                          (ICM_dataframe[\"item_id\"].values, ICM_dataframe[\"feature_id\"].values)),\n",
    "                        shape = (n_items, n_features))\n",
    "\n",
    "ICM_all"
   ]
  },
  {
   "cell_type": "markdown",
   "id": "56400d6a",
   "metadata": {
    "papermill": {
     "duration": 0.012463,
     "end_time": "2024-11-18T18:37:18.208281",
     "exception": false,
     "start_time": "2024-11-18T18:37:18.195818",
     "status": "completed"
    },
    "tags": []
   },
   "source": [
    "# Training"
   ]
  },
  {
   "cell_type": "code",
   "execution_count": 13,
   "id": "664f40f6",
   "metadata": {
    "execution": {
     "iopub.execute_input": "2024-11-18T18:37:18.235250Z",
     "iopub.status.busy": "2024-11-18T18:37:18.234407Z",
     "iopub.status.idle": "2024-11-18T18:37:18.240984Z",
     "shell.execute_reply": "2024-11-18T18:37:18.239925Z"
    },
    "papermill": {
     "duration": 0.022188,
     "end_time": "2024-11-18T18:37:18.242917",
     "exception": false,
     "start_time": "2024-11-18T18:37:18.220729",
     "status": "completed"
    },
    "tags": []
   },
   "outputs": [
    {
     "name": "stdout",
     "output_type": "stream",
     "text": [
      "/kaggle/working/RECsys_Challenge2024\n"
     ]
    }
   ],
   "source": [
    "%cd /kaggle/working/RECsys_Challenge2024/"
   ]
  },
  {
   "cell_type": "code",
   "execution_count": 14,
   "id": "b794b3ac",
   "metadata": {
    "execution": {
     "iopub.execute_input": "2024-11-18T18:37:18.269659Z",
     "iopub.status.busy": "2024-11-18T18:37:18.269283Z",
     "iopub.status.idle": "2024-11-18T18:37:21.236110Z",
     "shell.execute_reply": "2024-11-18T18:37:21.234989Z"
    },
    "papermill": {
     "duration": 2.982783,
     "end_time": "2024-11-18T18:37:21.238440",
     "exception": false,
     "start_time": "2024-11-18T18:37:18.255657",
     "status": "completed"
    },
    "tags": []
   },
   "outputs": [
    {
     "name": "stdout",
     "output_type": "stream",
     "text": [
      "Warning: 141 (0.39 %) of 35736 users have no sampled items\n",
      "EvaluatorHoldout: Ignoring 141 ( 0.4%) Users that have less than 1 test interactions\n"
     ]
    }
   ],
   "source": [
    "from Evaluation.Evaluator import EvaluatorHoldout\n",
    "from Data_manager.split_functions.split_train_validation_random_holdout import split_train_in_two_percentage_global_sample\n",
    "\n",
    "URM_train, URM_validation = split_train_in_two_percentage_global_sample(URM_all, train_percentage = 0.80)\n",
    "\n",
    "evaluator_validation = EvaluatorHoldout(URM_validation, cutoff_list=[10])"
   ]
  },
  {
   "cell_type": "code",
   "execution_count": 15,
   "id": "e15ed315",
   "metadata": {
    "execution": {
     "iopub.execute_input": "2024-11-18T18:37:21.265886Z",
     "iopub.status.busy": "2024-11-18T18:37:21.265479Z",
     "iopub.status.idle": "2024-11-18T18:37:22.282136Z",
     "shell.execute_reply": "2024-11-18T18:37:22.281083Z"
    },
    "papermill": {
     "duration": 1.033211,
     "end_time": "2024-11-18T18:37:22.284585",
     "exception": false,
     "start_time": "2024-11-18T18:37:21.251374",
     "status": "completed"
    },
    "tags": []
   },
   "outputs": [],
   "source": [
    "from Recommenders.GraphBased.RP3betaRecommender import RP3betaRecommender\n",
    "\n",
    "def objective_function_RP3beta(optuna_trial):\n",
    "    \n",
    "    recommender_instance = RP3betaRecommender(URM_train)\n",
    "    \n",
    "    full_hyperp = {\n",
    "                    \"topK\": optuna_trial.suggest_int(\"topK\", 0, 1500),\n",
    "                   \"alpha\": optuna_trial.suggest_float(\"alpha\", 0, 3, log=False),\n",
    "                   \"beta\": optuna_trial.suggest_float(\"beta\", 0, 3, log=False),\n",
    "                   \"normalize_similarity\": optuna_trial.suggest_categorical(\"normalize_similarity\", [True, False]),\n",
    "                   \"implicit\": optuna_trial.suggest_categorical(\"implicit\", [True, False]),\n",
    "                  }        \n",
    "    \n",
    "    recommender_instance.fit(**full_hyperp)\n",
    "    \n",
    "    result_df, _ = evaluator_validation.evaluateRecommender(recommender_instance)\n",
    "    \n",
    "    return result_df.loc[10][\"MAP\"]"
   ]
  },
  {
   "cell_type": "code",
   "execution_count": 16,
   "id": "6c2ec13a",
   "metadata": {
    "_kg_hide-output": true,
    "execution": {
     "iopub.execute_input": "2024-11-18T18:37:22.313070Z",
     "iopub.status.busy": "2024-11-18T18:37:22.312131Z",
     "iopub.status.idle": "2024-11-18T20:54:11.014351Z",
     "shell.execute_reply": "2024-11-18T20:54:11.013259Z"
    },
    "papermill": {
     "duration": 8208.71831,
     "end_time": "2024-11-18T20:54:11.016292",
     "exception": false,
     "start_time": "2024-11-18T18:37:22.297982",
     "status": "completed"
    },
    "tags": []
   },
   "outputs": [
    {
     "name": "stderr",
     "output_type": "stream",
     "text": [
      "[I 2024-11-18 18:37:24,073] A new study created in RDB with name: hyperparameters_tuning_RP3beta\n"
     ]
    },
    {
     "name": "stdout",
     "output_type": "stream",
     "text": [
      "RP3betaRecommender: Similarity column 38121 (100.0%), 685.29 column/sec. Elapsed time 55.63 sec\n",
      "EvaluatorHoldout: Processed 35595 (100.0%) in 48.14 sec. Users per second: 739\n"
     ]
    },
    {
     "name": "stderr",
     "output_type": "stream",
     "text": [
      "[I 2024-11-18 18:39:36,570] Trial 0 finished with value: 0.007690281094410925 and parameters: {'topK': 835, 'alpha': 0.06938129724222086, 'beta': 2.0140764224340613, 'normalize_similarity': False, 'implicit': False}. Best is trial 0 with value: 0.007690281094410925.\n"
     ]
    },
    {
     "name": "stdout",
     "output_type": "stream",
     "text": [
      "RP3betaRecommender: Similarity column 38121 (100.0%), 668.87 column/sec. Elapsed time 56.99 sec\n",
      "EvaluatorHoldout: Processed 35595 (100.0%) in 50.44 sec. Users per second: 706\n"
     ]
    },
    {
     "name": "stderr",
     "output_type": "stream",
     "text": [
      "[I 2024-11-18 18:41:56,939] Trial 1 finished with value: 0.014469873823013657 and parameters: {'topK': 883, 'alpha': 2.371255680611651, 'beta': 0.5580901837342789, 'normalize_similarity': False, 'implicit': False}. Best is trial 1 with value: 0.014469873823013657.\n"
     ]
    },
    {
     "name": "stdout",
     "output_type": "stream",
     "text": [
      "RP3betaRecommender: Similarity column 38121 (100.0%), 483.14 column/sec. Elapsed time 1.32 min\n",
      "EvaluatorHoldout: Processed 35595 (100.0%) in 59.17 sec. Users per second: 602\n"
     ]
    },
    {
     "name": "stderr",
     "output_type": "stream",
     "text": [
      "[I 2024-11-18 18:45:07,118] Trial 2 finished with value: 0.013573137612960898 and parameters: {'topK': 1458, 'alpha': 2.8186757745871986, 'beta': 1.0751598003613152, 'normalize_similarity': True, 'implicit': False}. Best is trial 1 with value: 0.014469873823013657.\n"
     ]
    },
    {
     "name": "stdout",
     "output_type": "stream",
     "text": [
      "RP3betaRecommender: Similarity column 38121 (100.0%), 733.02 column/sec. Elapsed time 52.01 sec\n",
      "EvaluatorHoldout: Processed 35595 (100.0%) in 47.74 sec. Users per second: 746\n"
     ]
    },
    {
     "name": "stderr",
     "output_type": "stream",
     "text": [
      "[I 2024-11-18 18:47:13,805] Trial 3 finished with value: 0.008924297152489465 and parameters: {'topK': 761, 'alpha': 0.44411119641106134, 'beta': 2.454525527142742, 'normalize_similarity': False, 'implicit': True}. Best is trial 1 with value: 0.014469873823013657.\n"
     ]
    },
    {
     "name": "stdout",
     "output_type": "stream",
     "text": [
      "RP3betaRecommender: Similarity column 38121 (100.0%), 777.13 column/sec. Elapsed time 49.05 sec\n",
      "EvaluatorHoldout: Processed 35595 (100.0%) in 50.61 sec. Users per second: 703\n"
     ]
    },
    {
     "name": "stderr",
     "output_type": "stream",
     "text": [
      "[I 2024-11-18 18:49:23,349] Trial 4 finished with value: 0.006255244739652682 and parameters: {'topK': 698, 'alpha': 2.65772703585949, 'beta': 2.6144256840710787, 'normalize_similarity': True, 'implicit': True}. Best is trial 1 with value: 0.014469873823013657.\n"
     ]
    },
    {
     "name": "stdout",
     "output_type": "stream",
     "text": [
      "RP3betaRecommender: Similarity column 38121 (100.0%), 520.88 column/sec. Elapsed time 1.22 min\n",
      "EvaluatorHoldout: Processed 35595 (100.0%) in 54.97 sec. Users per second: 648\n"
     ]
    },
    {
     "name": "stderr",
     "output_type": "stream",
     "text": [
      "[I 2024-11-18 18:52:16,650] Trial 5 finished with value: 0.015284872585547199 and parameters: {'topK': 1294, 'alpha': 2.648281312455077, 'beta': 0.24989717973293624, 'normalize_similarity': False, 'implicit': False}. Best is trial 5 with value: 0.015284872585547199.\n"
     ]
    },
    {
     "name": "stdout",
     "output_type": "stream",
     "text": [
      "RP3betaRecommender: Similarity column 38121 (100.0%), 776.50 column/sec. Elapsed time 49.09 sec\n",
      "EvaluatorHoldout: Processed 35595 (100.0%) in 49.26 sec. Users per second: 723\n"
     ]
    },
    {
     "name": "stderr",
     "output_type": "stream",
     "text": [
      "[I 2024-11-18 18:54:24,057] Trial 6 finished with value: 0.0125617205912194 and parameters: {'topK': 704, 'alpha': 1.292254991742394, 'beta': 1.8217878745716998, 'normalize_similarity': False, 'implicit': True}. Best is trial 5 with value: 0.015284872585547199.\n"
     ]
    },
    {
     "name": "stdout",
     "output_type": "stream",
     "text": [
      "RP3betaRecommender: Similarity column 38121 (100.0%), 601.44 column/sec. Elapsed time 1.06 min\n",
      "EvaluatorHoldout: Processed 35595 (100.0%) in 55.31 sec. Users per second: 644\n"
     ]
    },
    {
     "name": "stderr",
     "output_type": "stream",
     "text": [
      "[I 2024-11-18 18:57:04,645] Trial 7 finished with value: 0.030369586641604482 and parameters: {'topK': 1034, 'alpha': 0.7583748718960671, 'beta': 0.8820406988542648, 'normalize_similarity': False, 'implicit': True}. Best is trial 7 with value: 0.030369586641604482.\n"
     ]
    },
    {
     "name": "stdout",
     "output_type": "stream",
     "text": [
      "RP3betaRecommender: Similarity column 38121 (100.0%), 567.61 column/sec. Elapsed time 1.12 min\n",
      "EvaluatorHoldout: Processed 35595 (100.0%) in 54.74 sec. Users per second: 650\n"
     ]
    },
    {
     "name": "stderr",
     "output_type": "stream",
     "text": [
      "[I 2024-11-18 18:59:46,563] Trial 8 finished with value: 0.031518091536843366 and parameters: {'topK': 1130, 'alpha': 2.9262580427681653, 'beta': 0.1035435689030959, 'normalize_similarity': True, 'implicit': True}. Best is trial 8 with value: 0.031518091536843366.\n"
     ]
    },
    {
     "name": "stdout",
     "output_type": "stream",
     "text": [
      "RP3betaRecommender: Similarity column 38121 (100.0%), 576.86 column/sec. Elapsed time 1.10 min\n",
      "EvaluatorHoldout: Processed 35595 (100.0%) in 56.05 sec. Users per second: 635\n"
     ]
    },
    {
     "name": "stderr",
     "output_type": "stream",
     "text": [
      "[I 2024-11-18 19:02:31,496] Trial 9 finished with value: 0.011183957752225967 and parameters: {'topK': 1103, 'alpha': 2.661376794029957, 'beta': 1.3956876354416856, 'normalize_similarity': True, 'implicit': True}. Best is trial 8 with value: 0.031518091536843366.\n"
     ]
    },
    {
     "name": "stdout",
     "output_type": "stream",
     "text": [
      "RP3betaRecommender: Similarity column 38121 (100.0%), 1280.75 column/sec. Elapsed time 29.76 sec\n",
      "EvaluatorHoldout: Processed 35595 (100.0%) in 40.15 sec. Users per second: 887\n"
     ]
    },
    {
     "name": "stderr",
     "output_type": "stream",
     "text": [
      "[I 2024-11-18 19:03:51,961] Trial 10 finished with value: 0.04060552467463382 and parameters: {'topK': 276, 'alpha': 1.8806760738987958, 'beta': 0.14532764331626197, 'normalize_similarity': True, 'implicit': True}. Best is trial 10 with value: 0.04060552467463382.\n"
     ]
    },
    {
     "name": "stdout",
     "output_type": "stream",
     "text": [
      "RP3betaRecommender: Similarity column 38121 (100.0%), 1613.76 column/sec. Elapsed time 23.62 sec\n",
      "EvaluatorHoldout: Processed 35595 (100.0%) in 36.21 sec. Users per second: 983\n"
     ]
    },
    {
     "name": "stderr",
     "output_type": "stream",
     "text": [
      "[I 2024-11-18 19:04:57,485] Trial 11 finished with value: 0.04075160034515132 and parameters: {'topK': 147, 'alpha': 1.9919562217990499, 'beta': 0.05265884060717364, 'normalize_similarity': True, 'implicit': True}. Best is trial 11 with value: 0.04075160034515132.\n"
     ]
    },
    {
     "name": "stdout",
     "output_type": "stream",
     "text": [
      "RP3betaRecommender: Similarity column 38121 (100.0%), 1733.77 column/sec. Elapsed time 21.99 sec\n",
      "EvaluatorHoldout: Processed 35595 (100.0%) in 35.55 sec. Users per second: 1001\n"
     ]
    },
    {
     "name": "stderr",
     "output_type": "stream",
     "text": [
      "[I 2024-11-18 19:05:59,755] Trial 12 finished with value: 0.04190627919473087 and parameters: {'topK': 115, 'alpha': 1.930785392678299, 'beta': 0.09103229215733104, 'normalize_similarity': True, 'implicit': True}. Best is trial 12 with value: 0.04190627919473087.\n"
     ]
    },
    {
     "name": "stdout",
     "output_type": "stream",
     "text": [
      "RP3betaRecommender: Similarity column 38121 (100.0%), 2124.19 column/sec. Elapsed time 17.95 sec\n",
      "EvaluatorHoldout: Processed 35595 (100.0%) in 31.53 sec. Users per second: 1129\n"
     ]
    },
    {
     "name": "stderr",
     "output_type": "stream",
     "text": [
      "[I 2024-11-18 19:06:50,928] Trial 13 finished with value: 0.03193688920996045 and parameters: {'topK': 23, 'alpha': 1.8844259008185482, 'beta': 0.6994562806220757, 'normalize_similarity': True, 'implicit': True}. Best is trial 12 with value: 0.04190627919473087.\n"
     ]
    },
    {
     "name": "stdout",
     "output_type": "stream",
     "text": [
      "RP3betaRecommender: Similarity column 38121 (100.0%), 1189.09 column/sec. Elapsed time 32.06 sec\n",
      "EvaluatorHoldout: Processed 35595 (100.0%) in 42.61 sec. Users per second: 835\n"
     ]
    },
    {
     "name": "stderr",
     "output_type": "stream",
     "text": [
      "[I 2024-11-18 19:08:19,421] Trial 14 finished with value: 0.04256307623016273 and parameters: {'topK': 331, 'alpha': 1.419568302222062, 'beta': 0.4817786296431929, 'normalize_similarity': True, 'implicit': True}. Best is trial 14 with value: 0.04256307623016273.\n"
     ]
    },
    {
     "name": "stdout",
     "output_type": "stream",
     "text": [
      "RP3betaRecommender: Similarity column 38121 (100.0%), 1044.50 column/sec. Elapsed time 36.50 sec\n",
      "EvaluatorHoldout: Processed 35595 (100.0%) in 44.82 sec. Users per second: 794\n"
     ]
    },
    {
     "name": "stderr",
     "output_type": "stream",
     "text": [
      "[I 2024-11-18 19:09:58,067] Trial 15 finished with value: 0.04239784881504089 and parameters: {'topK': 416, 'alpha': 1.2826568224150903, 'beta': 0.5447067580176834, 'normalize_similarity': True, 'implicit': True}. Best is trial 14 with value: 0.04256307623016273.\n"
     ]
    },
    {
     "name": "stdout",
     "output_type": "stream",
     "text": [
      "RP3betaRecommender: Similarity column 38121 (100.0%), 979.04 column/sec. Elapsed time 38.94 sec\n",
      "EvaluatorHoldout: Processed 35595 (100.0%) in 46.19 sec. Users per second: 771\n"
     ]
    },
    {
     "name": "stderr",
     "output_type": "stream",
     "text": [
      "[I 2024-11-18 19:11:44,403] Trial 16 finished with value: 0.018958664160518335 and parameters: {'topK': 483, 'alpha': 1.2392019323561194, 'beta': 1.2653263419565708, 'normalize_similarity': True, 'implicit': True}. Best is trial 14 with value: 0.04256307623016273.\n"
     ]
    },
    {
     "name": "stdout",
     "output_type": "stream",
     "text": [
      "RP3betaRecommender: Similarity column 38121 (100.0%), 1033.52 column/sec. Elapsed time 36.88 sec\n",
      "EvaluatorHoldout: Processed 35595 (100.0%) in 45.03 sec. Users per second: 790\n"
     ]
    },
    {
     "name": "stderr",
     "output_type": "stream",
     "text": [
      "[I 2024-11-18 19:13:25,137] Trial 17 finished with value: 0.045300126868182584 and parameters: {'topK': 441, 'alpha': 0.8812039432120247, 'beta': 0.5343375567534111, 'normalize_similarity': True, 'implicit': True}. Best is trial 17 with value: 0.045300126868182584.\n"
     ]
    },
    {
     "name": "stdout",
     "output_type": "stream",
     "text": [
      "RP3betaRecommender: Similarity column 38121 (100.0%), 966.28 column/sec. Elapsed time 39.45 sec\n",
      "EvaluatorHoldout: Processed 35595 (100.0%) in 44.52 sec. Users per second: 800\n"
     ]
    },
    {
     "name": "stderr",
     "output_type": "stream",
     "text": [
      "[I 2024-11-18 19:15:07,761] Trial 18 finished with value: 0.014686972265143731 and parameters: {'topK': 475, 'alpha': 0.9148390313904293, 'beta': 1.676907420544703, 'normalize_similarity': True, 'implicit': False}. Best is trial 17 with value: 0.045300126868182584.\n"
     ]
    },
    {
     "name": "stdout",
     "output_type": "stream",
     "text": [
      "RP3betaRecommender: Similarity column 38121 (100.0%), 870.49 column/sec. Elapsed time 43.79 sec\n",
      "EvaluatorHoldout: Processed 35595 (100.0%) in 48.17 sec. Users per second: 739\n"
     ]
    },
    {
     "name": "stderr",
     "output_type": "stream",
     "text": [
      "[I 2024-11-18 19:17:04,487] Trial 19 finished with value: 0.032115817943040074 and parameters: {'topK': 560, 'alpha': 0.835013219359038, 'beta': 0.8597207815077663, 'normalize_similarity': True, 'implicit': True}. Best is trial 17 with value: 0.045300126868182584.\n"
     ]
    },
    {
     "name": "stdout",
     "output_type": "stream",
     "text": [
      "RP3betaRecommender: Similarity column 38121 (100.0%), 1221.48 column/sec. Elapsed time 31.21 sec\n",
      "EvaluatorHoldout: Processed 35595 (100.0%) in 40.25 sec. Users per second: 884\n"
     ]
    },
    {
     "name": "stderr",
     "output_type": "stream",
     "text": [
      "[I 2024-11-18 19:18:27,012] Trial 20 finished with value: 0.006976451347500675 and parameters: {'topK': 302, 'alpha': 1.6180844794928608, 'beta': 2.966539142203463, 'normalize_similarity': True, 'implicit': True}. Best is trial 17 with value: 0.045300126868182584.\n"
     ]
    },
    {
     "name": "stdout",
     "output_type": "stream",
     "text": [
      "RP3betaRecommender: Similarity column 38121 (100.0%), 1159.72 column/sec. Elapsed time 32.87 sec\n",
      "EvaluatorHoldout: Processed 35595 (100.0%) in 42.99 sec. Users per second: 828\n"
     ]
    },
    {
     "name": "stderr",
     "output_type": "stream",
     "text": [
      "[I 2024-11-18 19:19:57,100] Trial 21 finished with value: 0.044445633973023854 and parameters: {'topK': 341, 'alpha': 1.1827832816594928, 'beta': 0.46661904397331155, 'normalize_similarity': True, 'implicit': True}. Best is trial 17 with value: 0.045300126868182584.\n"
     ]
    },
    {
     "name": "stdout",
     "output_type": "stream",
     "text": [
      "RP3betaRecommender: Similarity column 38121 (100.0%), 1236.89 column/sec. Elapsed time 30.82 sec\n",
      "EvaluatorHoldout: Processed 35595 (100.0%) in 41.43 sec. Users per second: 859\n"
     ]
    },
    {
     "name": "stderr",
     "output_type": "stream",
     "text": [
      "[I 2024-11-18 19:21:22,523] Trial 22 finished with value: 0.0469401255749742 and parameters: {'topK': 296, 'alpha': 0.5065451618587894, 'beta': 0.48254992618431247, 'normalize_similarity': True, 'implicit': True}. Best is trial 22 with value: 0.0469401255749742.\n"
     ]
    },
    {
     "name": "stdout",
     "output_type": "stream",
     "text": [
      "RP3betaRecommender: Similarity column 38121 (100.0%), 865.01 column/sec. Elapsed time 44.07 sec\n",
      "EvaluatorHoldout: Processed 35595 (100.0%) in 46.77 sec. Users per second: 761\n"
     ]
    },
    {
     "name": "stderr",
     "output_type": "stream",
     "text": [
      "[I 2024-11-18 19:23:16,781] Trial 23 finished with value: 0.04569320196121547 and parameters: {'topK': 566, 'alpha': 0.4658118441275824, 'beta': 0.3953354110551781, 'normalize_similarity': True, 'implicit': True}. Best is trial 22 with value: 0.0469401255749742.\n"
     ]
    },
    {
     "name": "stdout",
     "output_type": "stream",
     "text": [
      "RP3betaRecommender: Similarity column 38121 (100.0%), 843.25 column/sec. Elapsed time 45.21 sec\n",
      "EvaluatorHoldout: Processed 35595 (100.0%) in 47.25 sec. Users per second: 753\n"
     ]
    },
    {
     "name": "stderr",
     "output_type": "stream",
     "text": [
      "[I 2024-11-18 19:25:14,016] Trial 24 finished with value: 0.02397848257624871 and parameters: {'topK': 612, 'alpha': 0.374045087096221, 'beta': 1.036644825604093, 'normalize_similarity': True, 'implicit': True}. Best is trial 22 with value: 0.0469401255749742.\n"
     ]
    },
    {
     "name": "stdout",
     "output_type": "stream",
     "text": [
      "RP3betaRecommender: Similarity column 38121 (100.0%), 1400.07 column/sec. Elapsed time 27.23 sec\n",
      "EvaluatorHoldout: Processed 35595 (100.0%) in 38.74 sec. Users per second: 919\n"
     ]
    },
    {
     "name": "stderr",
     "output_type": "stream",
     "text": [
      "[I 2024-11-18 19:26:29,553] Trial 25 finished with value: 0.04722735046165127 and parameters: {'topK': 223, 'alpha': 0.41924858846546237, 'beta': 0.32693646854084435, 'normalize_similarity': True, 'implicit': True}. Best is trial 25 with value: 0.04722735046165127.\n"
     ]
    },
    {
     "name": "stdout",
     "output_type": "stream",
     "text": [
      "RP3betaRecommender: Similarity column 38121 (100.0%), 1436.16 column/sec. Elapsed time 26.54 sec\n",
      "EvaluatorHoldout: Processed 35595 (100.0%) in 37.62 sec. Users per second: 946\n"
     ]
    },
    {
     "name": "stderr",
     "output_type": "stream",
     "text": [
      "[I 2024-11-18 19:27:41,823] Trial 26 finished with value: 0.04526143653134644 and parameters: {'topK': 209, 'alpha': 0.022735482136226837, 'beta': 0.3667340034572917, 'normalize_similarity': True, 'implicit': False}. Best is trial 25 with value: 0.04722735046165127.\n"
     ]
    },
    {
     "name": "stdout",
     "output_type": "stream",
     "text": [
      "RP3betaRecommender: Similarity column 38121 (100.0%), 2266.10 column/sec. Elapsed time 16.82 sec\n",
      "EvaluatorHoldout: Processed 35595 (100.0%) in 30.54 sec. Users per second: 1165\n"
     ]
    },
    {
     "name": "stderr",
     "output_type": "stream",
     "text": [
      "[I 2024-11-18 19:28:30,473] Trial 27 finished with value: 0.04511583578039391 and parameters: {'topK': 13, 'alpha': 0.42843071479513806, 'beta': 0.7150398253177987, 'normalize_similarity': True, 'implicit': True}. Best is trial 25 with value: 0.04722735046165127.\n"
     ]
    },
    {
     "name": "stdout",
     "output_type": "stream",
     "text": [
      "RP3betaRecommender: Similarity column 38121 (100.0%), 856.98 column/sec. Elapsed time 44.48 sec\n",
      "EvaluatorHoldout: Processed 35595 (100.0%) in 47.57 sec. Users per second: 748\n"
     ]
    },
    {
     "name": "stderr",
     "output_type": "stream",
     "text": [
      "[I 2024-11-18 19:30:26,433] Trial 28 finished with value: 0.022331313252931147 and parameters: {'topK': 589, 'alpha': 0.6123041171126009, 'beta': 1.144289267993789, 'normalize_similarity': True, 'implicit': True}. Best is trial 25 with value: 0.04722735046165127.\n"
     ]
    },
    {
     "name": "stdout",
     "output_type": "stream",
     "text": [
      "RP3betaRecommender: Similarity column 38121 (100.0%), 1683.63 column/sec. Elapsed time 22.64 sec\n",
      "EvaluatorHoldout: Processed 35595 (100.0%) in 33.56 sec. Users per second: 1061\n"
     ]
    },
    {
     "name": "stderr",
     "output_type": "stream",
     "text": [
      "[I 2024-11-18 19:31:26,153] Trial 29 finished with value: 0.011015072564588215 and parameters: {'topK': 131, 'alpha': 0.20633074525032313, 'beta': 2.1198545797223574, 'normalize_similarity': False, 'implicit': False}. Best is trial 25 with value: 0.04722735046165127.\n"
     ]
    },
    {
     "name": "stdout",
     "output_type": "stream",
     "text": [
      "RP3betaRecommender: Similarity column 38121 (100.0%), 661.94 column/sec. Elapsed time 57.59 sec\n",
      "EvaluatorHoldout: Processed 35595 (100.0%) in 53.11 sec. Users per second: 670\n"
     ]
    },
    {
     "name": "stderr",
     "output_type": "stream",
     "text": [
      "[I 2024-11-18 19:33:53,308] Trial 30 finished with value: 0.03883306688784867 and parameters: {'topK': 868, 'alpha': 0.6415642570973924, 'beta': 0.7423800226983261, 'normalize_similarity': True, 'implicit': True}. Best is trial 25 with value: 0.04722735046165127.\n"
     ]
    },
    {
     "name": "stdout",
     "output_type": "stream",
     "text": [
      "RP3betaRecommender: Similarity column 38121 (100.0%), 1034.47 column/sec. Elapsed time 36.85 sec\n",
      "EvaluatorHoldout: Processed 35595 (100.0%) in 43.20 sec. Users per second: 824\n"
     ]
    },
    {
     "name": "stderr",
     "output_type": "stream",
     "text": [
      "[I 2024-11-18 19:35:29,480] Trial 31 finished with value: 0.04417558311426664 and parameters: {'topK': 417, 'alpha': 0.9476707892177318, 'beta': 0.2496709796250952, 'normalize_similarity': True, 'implicit': True}. Best is trial 25 with value: 0.04722735046165127.\n"
     ]
    },
    {
     "name": "stdout",
     "output_type": "stream",
     "text": [
      "RP3betaRecommender: Similarity column 38121 (100.0%), 1426.46 column/sec. Elapsed time 26.72 sec\n",
      "EvaluatorHoldout: Processed 35595 (100.0%) in 38.12 sec. Users per second: 934\n"
     ]
    },
    {
     "name": "stderr",
     "output_type": "stream",
     "text": [
      "[I 2024-11-18 19:36:43,087] Trial 32 finished with value: 0.04643481004332083 and parameters: {'topK': 216, 'alpha': 0.17075752269386646, 'beta': 0.33911290256328125, 'normalize_similarity': True, 'implicit': True}. Best is trial 25 with value: 0.04722735046165127.\n"
     ]
    },
    {
     "name": "stdout",
     "output_type": "stream",
     "text": [
      "RP3betaRecommender: Similarity column 38121 (100.0%), 1412.60 column/sec. Elapsed time 26.99 sec\n",
      "EvaluatorHoldout: Processed 35595 (100.0%) in 38.74 sec. Users per second: 919\n"
     ]
    },
    {
     "name": "stderr",
     "output_type": "stream",
     "text": [
      "[I 2024-11-18 19:37:58,155] Trial 33 finished with value: 0.04688176398058251 and parameters: {'topK': 223, 'alpha': 0.2739982430485612, 'beta': 0.3556823643726509, 'normalize_similarity': True, 'implicit': True}. Best is trial 25 with value: 0.04722735046165127.\n"
     ]
    },
    {
     "name": "stdout",
     "output_type": "stream",
     "text": [
      "RP3betaRecommender: Similarity column 38121 (100.0%), 1309.79 column/sec. Elapsed time 29.10 sec\n",
      "EvaluatorHoldout: Processed 35595 (100.0%) in 37.28 sec. Users per second: 955\n"
     ]
    },
    {
     "name": "stderr",
     "output_type": "stream",
     "text": [
      "[I 2024-11-18 19:39:13,055] Trial 34 finished with value: 0.031773151213942544 and parameters: {'topK': 258, 'alpha': 0.2019940894001882, 'beta': 0.004721890145511609, 'normalize_similarity': False, 'implicit': False}. Best is trial 25 with value: 0.04722735046165127.\n"
     ]
    },
    {
     "name": "stdout",
     "output_type": "stream",
     "text": [
      "RP3betaRecommender: Similarity column 38121 (100.0%), 1454.99 column/sec. Elapsed time 26.20 sec\n",
      "EvaluatorHoldout: Processed 35595 (100.0%) in 37.65 sec. Users per second: 945\n"
     ]
    },
    {
     "name": "stderr",
     "output_type": "stream",
     "text": [
      "[I 2024-11-18 19:40:25,300] Trial 35 finished with value: 0.04672474286338416 and parameters: {'topK': 206, 'alpha': 0.23113020024048925, 'beta': 0.3084264202466711, 'normalize_similarity': True, 'implicit': True}. Best is trial 25 with value: 0.04722735046165127.\n"
     ]
    },
    {
     "name": "stdout",
     "output_type": "stream",
     "text": [
      "RP3betaRecommender: Similarity column 38121 (100.0%), 1833.43 column/sec. Elapsed time 20.79 sec\n",
      "EvaluatorHoldout: Processed 35595 (100.0%) in 34.93 sec. Users per second: 1019\n"
     ]
    },
    {
     "name": "stderr",
     "output_type": "stream",
     "text": [
      "[I 2024-11-18 19:41:25,176] Trial 36 finished with value: 0.041408640414538775 and parameters: {'topK': 89, 'alpha': 0.31639246231517926, 'beta': 0.6974443116253758, 'normalize_similarity': True, 'implicit': True}. Best is trial 25 with value: 0.04722735046165127.\n"
     ]
    },
    {
     "name": "stdout",
     "output_type": "stream",
     "text": [
      "RP3betaRecommender: Similarity column 38121 (100.0%), 1449.32 column/sec. Elapsed time 26.30 sec\n",
      "EvaluatorHoldout: Processed 35595 (100.0%) in 30.60 sec. Users per second: 1163\n"
     ]
    },
    {
     "name": "stderr",
     "output_type": "stream",
     "text": [
      "[I 2024-11-18 19:42:30,442] Trial 37 finished with value: 0.044796698751606294 and parameters: {'topK': 206, 'alpha': 0.5916002180174589, 'beta': 0.25881502730257155, 'normalize_similarity': False, 'implicit': False}. Best is trial 25 with value: 0.04722735046165127.\n"
     ]
    },
    {
     "name": "stdout",
     "output_type": "stream",
     "text": [
      "RP3betaRecommender: Similarity column 38121 (100.0%), 1184.60 column/sec. Elapsed time 32.18 sec\n",
      "EvaluatorHoldout: Processed 35595 (100.0%) in 40.57 sec. Users per second: 877\n"
     ]
    },
    {
     "name": "stderr",
     "output_type": "stream",
     "text": [
      "[I 2024-11-18 19:43:55,130] Trial 38 finished with value: 0.026181038000253516 and parameters: {'topK': 334, 'alpha': 0.09724517169955155, 'beta': 0.9109218644378009, 'normalize_similarity': True, 'implicit': True}. Best is trial 25 with value: 0.04722735046165127.\n"
     ]
    },
    {
     "name": "stdout",
     "output_type": "stream",
     "text": [
      "RP3betaRecommender: Similarity column 38121 (100.0%), 726.45 column/sec. Elapsed time 52.48 sec\n",
      "EvaluatorHoldout: Processed 35595 (100.0%) in 50.45 sec. Users per second: 706\n"
     ]
    },
    {
     "name": "stderr",
     "output_type": "stream",
     "text": [
      "[I 2024-11-18 19:46:09,690] Trial 39 finished with value: 0.03565628421148766 and parameters: {'topK': 773, 'alpha': 1.0549118216716136, 'beta': 0.6049781556543851, 'normalize_similarity': False, 'implicit': True}. Best is trial 25 with value: 0.04722735046165127.\n"
     ]
    },
    {
     "name": "stdout",
     "output_type": "stream",
     "text": [
      "RP3betaRecommender: Similarity column 38121 (100.0%), 494.06 column/sec. Elapsed time 1.29 min\n",
      "EvaluatorHoldout: Processed 35595 (100.0%) in 57.29 sec. Users per second: 621\n"
     ]
    },
    {
     "name": "stderr",
     "output_type": "stream",
     "text": [
      "[I 2024-11-18 19:49:13,189] Trial 40 finished with value: 0.041158685565342065 and parameters: {'topK': 1409, 'alpha': 0.7082512743762734, 'beta': 0.23315483263725645, 'normalize_similarity': True, 'implicit': True}. Best is trial 25 with value: 0.04722735046165127.\n"
     ]
    },
    {
     "name": "stdout",
     "output_type": "stream",
     "text": [
      "RP3betaRecommender: Similarity column 38121 (100.0%), 1478.85 column/sec. Elapsed time 25.78 sec\n",
      "EvaluatorHoldout: Processed 35595 (100.0%) in 37.60 sec. Users per second: 947\n"
     ]
    },
    {
     "name": "stderr",
     "output_type": "stream",
     "text": [
      "[I 2024-11-18 19:50:24,803] Trial 41 finished with value: 0.046913921386317656 and parameters: {'topK': 198, 'alpha': 0.2064105611779245, 'beta': 0.33253692036526983, 'normalize_similarity': True, 'implicit': True}. Best is trial 25 with value: 0.04722735046165127.\n"
     ]
    },
    {
     "name": "stdout",
     "output_type": "stream",
     "text": [
      "RP3betaRecommender: Similarity column 38121 (100.0%), 1525.16 column/sec. Elapsed time 24.99 sec\n",
      "EvaluatorHoldout: Processed 35595 (100.0%) in 37.70 sec. Users per second: 944\n"
     ]
    },
    {
     "name": "stderr",
     "output_type": "stream",
     "text": [
      "[I 2024-11-18 19:51:34,997] Trial 42 finished with value: 0.047908246877903744 and parameters: {'topK': 174, 'alpha': 0.29589955979317667, 'beta': 0.38514563980609584, 'normalize_similarity': True, 'implicit': True}. Best is trial 42 with value: 0.047908246877903744.\n"
     ]
    },
    {
     "name": "stdout",
     "output_type": "stream",
     "text": [
      "RP3betaRecommender: Similarity column 38121 (100.0%), 1880.13 column/sec. Elapsed time 20.28 sec\n",
      "EvaluatorHoldout: Processed 35595 (100.0%) in 33.96 sec. Users per second: 1048\n"
     ]
    },
    {
     "name": "stderr",
     "output_type": "stream",
     "text": [
      "[I 2024-11-18 19:52:32,744] Trial 43 finished with value: 0.031124931716376304 and parameters: {'topK': 80, 'alpha': 0.5329789717406903, 'beta': 0.9386174779004149, 'normalize_similarity': True, 'implicit': True}. Best is trial 42 with value: 0.047908246877903744.\n"
     ]
    },
    {
     "name": "stdout",
     "output_type": "stream",
     "text": [
      "RP3betaRecommender: Similarity column 38121 (100.0%), 1108.35 column/sec. Elapsed time 34.39 sec\n",
      "EvaluatorHoldout: Processed 35595 (100.0%) in 40.51 sec. Users per second: 879\n"
     ]
    },
    {
     "name": "stderr",
     "output_type": "stream",
     "text": [
      "[I 2024-11-18 19:54:01,377] Trial 44 finished with value: 0.04206558683781447 and parameters: {'topK': 378, 'alpha': 0.3236693529400789, 'beta': 0.13680031221336986, 'normalize_similarity': True, 'implicit': True}. Best is trial 42 with value: 0.047908246877903744.\n"
     ]
    },
    {
     "name": "stdout",
     "output_type": "stream",
     "text": [
      "RP3betaRecommender: Similarity column 38121 (100.0%), 1650.76 column/sec. Elapsed time 23.09 sec\n",
      "EvaluatorHoldout: Processed 35595 (100.0%) in 36.04 sec. Users per second: 988\n"
     ]
    },
    {
     "name": "stderr",
     "output_type": "stream",
     "text": [
      "[I 2024-11-18 19:55:06,376] Trial 45 finished with value: 0.04311270978401059 and parameters: {'topK': 142, 'alpha': 0.0006198122422005348, 'beta': 0.5602082747767942, 'normalize_similarity': True, 'implicit': True}. Best is trial 42 with value: 0.047908246877903744.\n"
     ]
    },
    {
     "name": "stdout",
     "output_type": "stream",
     "text": [
      "RP3betaRecommender: Similarity column 38121 (100.0%), 630.09 column/sec. Elapsed time 1.01 min\n",
      "EvaluatorHoldout: Processed 35595 (100.0%) in 52.71 sec. Users per second: 675\n"
     ]
    },
    {
     "name": "stderr",
     "output_type": "stream",
     "text": [
      "[I 2024-11-18 19:57:36,682] Trial 46 finished with value: 0.016132052165343656 and parameters: {'topK': 955, 'alpha': 0.4590885610334876, 'beta': 1.4919381842765989, 'normalize_similarity': True, 'implicit': True}. Best is trial 42 with value: 0.047908246877903744.\n"
     ]
    },
    {
     "name": "stdout",
     "output_type": "stream",
     "text": [
      "RP3betaRecommender: Similarity column 38121 (100.0%), 2032.57 column/sec. Elapsed time 18.76 sec\n",
      "EvaluatorHoldout: Processed 35595 (100.0%) in 31.06 sec. Users per second: 1146\n"
     ]
    },
    {
     "name": "stderr",
     "output_type": "stream",
     "text": [
      "[I 2024-11-18 19:58:28,216] Trial 47 finished with value: 0.013049731659297929 and parameters: {'topK': 50, 'alpha': 0.2922800833881636, 'beta': 2.155503367665351, 'normalize_similarity': False, 'implicit': True}. Best is trial 42 with value: 0.047908246877903744.\n"
     ]
    },
    {
     "name": "stdout",
     "output_type": "stream",
     "text": [
      "RP3betaRecommender: Similarity column 38121 (100.0%), 1304.33 column/sec. Elapsed time 29.23 sec\n",
      "EvaluatorHoldout: Processed 35595 (100.0%) in 40.87 sec. Users per second: 871\n"
     ]
    },
    {
     "name": "stderr",
     "output_type": "stream",
     "text": [
      "[I 2024-11-18 19:59:49,974] Trial 48 finished with value: 0.03561248793191384 and parameters: {'topK': 267, 'alpha': 0.7514608747679974, 'beta': 0.786677061465003, 'normalize_similarity': True, 'implicit': False}. Best is trial 42 with value: 0.047908246877903744.\n"
     ]
    },
    {
     "name": "stdout",
     "output_type": "stream",
     "text": [
      "RP3betaRecommender: Similarity column 38121 (100.0%), 1515.39 column/sec. Elapsed time 25.16 sec\n",
      "EvaluatorHoldout: Processed 35595 (100.0%) in 38.43 sec. Users per second: 926\n"
     ]
    },
    {
     "name": "stderr",
     "output_type": "stream",
     "text": [
      "[I 2024-11-18 20:01:01,512] Trial 49 finished with value: 0.02893719021531857 and parameters: {'topK': 182, 'alpha': 2.275595516540088, 'beta': 0.6373598852493775, 'normalize_similarity': True, 'implicit': True}. Best is trial 42 with value: 0.047908246877903744.\n"
     ]
    },
    {
     "name": "stdout",
     "output_type": "stream",
     "text": [
      "RP3betaRecommender: Similarity column 38121 (100.0%), 932.30 column/sec. Elapsed time 40.89 sec\n",
      "EvaluatorHoldout: Processed 35595 (100.0%) in 44.98 sec. Users per second: 791\n"
     ]
    },
    {
     "name": "stderr",
     "output_type": "stream",
     "text": [
      "[I 2024-11-18 20:02:47,854] Trial 50 finished with value: 0.04383458529265356 and parameters: {'topK': 506, 'alpha': 0.10933046036538663, 'beta': 0.45223237418225926, 'normalize_similarity': True, 'implicit': True}. Best is trial 42 with value: 0.047908246877903744.\n"
     ]
    },
    {
     "name": "stdout",
     "output_type": "stream",
     "text": [
      "RP3betaRecommender: Similarity column 38121 (100.0%), 1356.69 column/sec. Elapsed time 28.10 sec\n",
      "EvaluatorHoldout: Processed 35595 (100.0%) in 38.17 sec. Users per second: 933\n"
     ]
    },
    {
     "name": "stderr",
     "output_type": "stream",
     "text": [
      "[I 2024-11-18 20:04:03,600] Trial 51 finished with value: 0.04512453372040241 and parameters: {'topK': 248, 'alpha': 0.26315437195973096, 'beta': 0.21558842695054747, 'normalize_similarity': True, 'implicit': True}. Best is trial 42 with value: 0.047908246877903744.\n"
     ]
    },
    {
     "name": "stdout",
     "output_type": "stream",
     "text": [
      "RP3betaRecommender: Similarity column 38121 (100.0%), 3009.76 column/sec. Elapsed time 12.67 sec\n",
      "EvaluatorHoldout: Processed 35595 (100.0%) in 24.34 sec. Users per second: 1462\n"
     ]
    },
    {
     "name": "stderr",
     "output_type": "stream",
     "text": [
      "[I 2024-11-18 20:04:40,889] Trial 52 finished with value: 0.00028209999175022335 and parameters: {'topK': 0, 'alpha': 0.521569445565168, 'beta': 0.3382368402231266, 'normalize_similarity': True, 'implicit': True}. Best is trial 42 with value: 0.047908246877903744.\n"
     ]
    },
    {
     "name": "stdout",
     "output_type": "stream",
     "text": [
      "RP3betaRecommender: Similarity column 38121 (100.0%), 1603.58 column/sec. Elapsed time 23.77 sec\n",
      "EvaluatorHoldout: Processed 35595 (100.0%) in 35.13 sec. Users per second: 1013\n"
     ]
    },
    {
     "name": "stderr",
     "output_type": "stream",
     "text": [
      "[I 2024-11-18 20:05:45,606] Trial 53 finished with value: 0.0453105238162111 and parameters: {'topK': 160, 'alpha': 0.13522089137223636, 'beta': 0.11061568956761539, 'normalize_similarity': True, 'implicit': True}. Best is trial 42 with value: 0.047908246877903744.\n"
     ]
    },
    {
     "name": "stdout",
     "output_type": "stream",
     "text": [
      "RP3betaRecommender: Similarity column 38121 (100.0%), 1143.69 column/sec. Elapsed time 33.33 sec\n",
      "EvaluatorHoldout: Processed 35595 (100.0%) in 39.50 sec. Users per second: 901\n"
     ]
    },
    {
     "name": "stderr",
     "output_type": "stream",
     "text": [
      "[I 2024-11-18 20:07:10,635] Trial 54 finished with value: 0.040036057097370535 and parameters: {'topK': 360, 'alpha': 0.39042054859392084, 'beta': 0.02626469465333192, 'normalize_similarity': True, 'implicit': True}. Best is trial 42 with value: 0.047908246877903744.\n"
     ]
    },
    {
     "name": "stdout",
     "output_type": "stream",
     "text": [
      "RP3betaRecommender: Similarity column 38121 (100.0%), 1353.11 column/sec. Elapsed time 28.17 sec\n",
      "EvaluatorHoldout: Processed 35595 (100.0%) in 39.66 sec. Users per second: 897\n"
     ]
    },
    {
     "name": "stderr",
     "output_type": "stream",
     "text": [
      "[I 2024-11-18 20:08:29,471] Trial 55 finished with value: 0.04669298679812608 and parameters: {'topK': 258, 'alpha': 0.2643535208947848, 'beta': 0.3980087372137056, 'normalize_similarity': True, 'implicit': True}. Best is trial 42 with value: 0.047908246877903744.\n"
     ]
    },
    {
     "name": "stdout",
     "output_type": "stream",
     "text": [
      "RP3betaRecommender: Similarity column 38121 (100.0%), 1856.89 column/sec. Elapsed time 20.53 sec\n",
      "EvaluatorHoldout: Processed 35595 (100.0%) in 35.04 sec. Users per second: 1016\n"
     ]
    },
    {
     "name": "stderr",
     "output_type": "stream",
     "text": [
      "[I 2024-11-18 20:09:29,621] Trial 56 finished with value: 0.04827584130997334 and parameters: {'topK': 91, 'alpha': 0.5402820305465224, 'beta': 0.5184066240429308, 'normalize_similarity': True, 'implicit': True}. Best is trial 56 with value: 0.04827584130997334.\n"
     ]
    },
    {
     "name": "stdout",
     "output_type": "stream",
     "text": [
      "RP3betaRecommender: Similarity column 38121 (100.0%), 1891.30 column/sec. Elapsed time 20.16 sec\n",
      "EvaluatorHoldout: Processed 35595 (100.0%) in 34.93 sec. Users per second: 1019\n"
     ]
    },
    {
     "name": "stderr",
     "output_type": "stream",
     "text": [
      "[I 2024-11-18 20:10:28,766] Trial 57 finished with value: 0.04850664775906888 and parameters: {'topK': 81, 'alpha': 0.711754132652396, 'beta': 0.4848557795104007, 'normalize_similarity': True, 'implicit': True}. Best is trial 57 with value: 0.04850664775906888.\n"
     ]
    },
    {
     "name": "stdout",
     "output_type": "stream",
     "text": [
      "RP3betaRecommender: Similarity column 38121 (100.0%), 1945.54 column/sec. Elapsed time 19.59 sec\n",
      "EvaluatorHoldout: Processed 35595 (100.0%) in 33.87 sec. Users per second: 1051\n"
     ]
    },
    {
     "name": "stderr",
     "output_type": "stream",
     "text": [
      "[I 2024-11-18 20:11:25,434] Trial 58 finished with value: 0.02502660218462957 and parameters: {'topK': 69, 'alpha': 1.0972539343498824, 'beta': 1.0377318965550515, 'normalize_similarity': True, 'implicit': True}. Best is trial 57 with value: 0.04850664775906888.\n"
     ]
    },
    {
     "name": "stdout",
     "output_type": "stream",
     "text": [
      "RP3betaRecommender: Similarity column 38121 (100.0%), 1749.75 column/sec. Elapsed time 21.79 sec\n",
      "EvaluatorHoldout: Processed 35595 (100.0%) in 36.47 sec. Users per second: 976\n"
     ]
    },
    {
     "name": "stderr",
     "output_type": "stream",
     "text": [
      "[I 2024-11-18 20:12:29,333] Trial 59 finished with value: 0.04681197198643294 and parameters: {'topK': 115, 'alpha': 0.8027993908091999, 'beta': 0.5223593715035041, 'normalize_similarity': True, 'implicit': True}. Best is trial 57 with value: 0.04850664775906888.\n"
     ]
    },
    {
     "name": "stdout",
     "output_type": "stream",
     "text": [
      "RP3betaRecommender: Similarity column 38121 (100.0%), 799.90 column/sec. Elapsed time 47.66 sec\n",
      "EvaluatorHoldout: Processed 35595 (100.0%) in 48.96 sec. Users per second: 727\n"
     ]
    },
    {
     "name": "stderr",
     "output_type": "stream",
     "text": [
      "[I 2024-11-18 20:14:32,273] Trial 60 finished with value: 0.01900801789086661 and parameters: {'topK': 661, 'alpha': 0.6533761954878698, 'beta': 1.3232859817965847, 'normalize_similarity': True, 'implicit': True}. Best is trial 57 with value: 0.04850664775906888.\n"
     ]
    },
    {
     "name": "stdout",
     "output_type": "stream",
     "text": [
      "RP3betaRecommender: Similarity column 38121 (100.0%), 1254.38 column/sec. Elapsed time 30.39 sec\n",
      "EvaluatorHoldout: Processed 35595 (100.0%) in 41.31 sec. Users per second: 862\n"
     ]
    },
    {
     "name": "stderr",
     "output_type": "stream",
     "text": [
      "[I 2024-11-18 20:15:57,174] Trial 61 finished with value: 0.04709185122754249 and parameters: {'topK': 299, 'alpha': 0.5301935012368035, 'beta': 0.4608550575582072, 'normalize_similarity': True, 'implicit': True}. Best is trial 57 with value: 0.04850664775906888.\n"
     ]
    },
    {
     "name": "stdout",
     "output_type": "stream",
     "text": [
      "RP3betaRecommender: Similarity column 38121 (100.0%), 1258.33 column/sec. Elapsed time 30.29 sec\n",
      "EvaluatorHoldout: Processed 35595 (100.0%) in 41.26 sec. Users per second: 863\n"
     ]
    },
    {
     "name": "stderr",
     "output_type": "stream",
     "text": [
      "[I 2024-11-18 20:17:21,300] Trial 62 finished with value: 0.03409142201619964 and parameters: {'topK': 296, 'alpha': 0.554489058142531, 'beta': 0.8194415633671804, 'normalize_similarity': True, 'implicit': True}. Best is trial 57 with value: 0.04850664775906888.\n"
     ]
    },
    {
     "name": "stdout",
     "output_type": "stream",
     "text": [
      "RP3betaRecommender: Similarity column 38121 (100.0%), 1626.88 column/sec. Elapsed time 23.43 sec\n",
      "EvaluatorHoldout: Processed 35595 (100.0%) in 37.70 sec. Users per second: 944\n"
     ]
    },
    {
     "name": "stderr",
     "output_type": "stream",
     "text": [
      "[I 2024-11-18 20:18:29,225] Trial 63 finished with value: 0.03557113425507748 and parameters: {'topK': 152, 'alpha': 1.7132885335915051, 'beta': 0.620653599406427, 'normalize_similarity': True, 'implicit': True}. Best is trial 57 with value: 0.04850664775906888.\n"
     ]
    },
    {
     "name": "stdout",
     "output_type": "stream",
     "text": [
      "RP3betaRecommender: Similarity column 38121 (100.0%), 2023.76 column/sec. Elapsed time 18.84 sec\n",
      "EvaluatorHoldout: Processed 35595 (100.0%) in 32.60 sec. Users per second: 1092\n"
     ]
    },
    {
     "name": "stderr",
     "output_type": "stream",
     "text": [
      "[I 2024-11-18 20:19:23,245] Trial 64 finished with value: 0.051379680354604974 and parameters: {'topK': 55, 'alpha': 0.4080869077260763, 'beta': 0.17034805628928884, 'normalize_similarity': True, 'implicit': True}. Best is trial 64 with value: 0.051379680354604974.\n"
     ]
    },
    {
     "name": "stdout",
     "output_type": "stream",
     "text": [
      "RP3betaRecommender: Similarity column 38121 (100.0%), 2080.01 column/sec. Elapsed time 18.33 sec\n",
      "EvaluatorHoldout: Processed 35595 (100.0%) in 32.40 sec. Users per second: 1099\n"
     ]
    },
    {
     "name": "stderr",
     "output_type": "stream",
     "text": [
      "[I 2024-11-18 20:20:16,389] Trial 65 finished with value: 0.051635156979866606 and parameters: {'topK': 46, 'alpha': 0.7018096105858859, 'beta': 0.1865496775404918, 'normalize_similarity': True, 'implicit': True}. Best is trial 65 with value: 0.051635156979866606.\n"
     ]
    },
    {
     "name": "stdout",
     "output_type": "stream",
     "text": [
      "RP3betaRecommender: Similarity column 38121 (100.0%), 2091.60 column/sec. Elapsed time 18.23 sec\n",
      "EvaluatorHoldout: Processed 35595 (100.0%) in 32.54 sec. Users per second: 1094\n"
     ]
    },
    {
     "name": "stderr",
     "output_type": "stream",
     "text": [
      "[I 2024-11-18 20:21:09,445] Trial 66 finished with value: 0.05032382490852609 and parameters: {'topK': 43, 'alpha': 0.9811162196299656, 'beta': 0.1757413056189374, 'normalize_similarity': True, 'implicit': False}. Best is trial 65 with value: 0.051635156979866606.\n"
     ]
    },
    {
     "name": "stdout",
     "output_type": "stream",
     "text": [
      "RP3betaRecommender: Similarity column 38121 (100.0%), 2099.77 column/sec. Elapsed time 18.15 sec\n",
      "EvaluatorHoldout: Processed 35595 (100.0%) in 32.11 sec. Users per second: 1109\n"
     ]
    },
    {
     "name": "stderr",
     "output_type": "stream",
     "text": [
      "[I 2024-11-18 20:22:01,984] Trial 67 finished with value: 0.043989015534104677 and parameters: {'topK': 41, 'alpha': 1.0075110179377667, 'beta': 0.20273558735992842, 'normalize_similarity': False, 'implicit': False}. Best is trial 65 with value: 0.051635156979866606.\n"
     ]
    },
    {
     "name": "stdout",
     "output_type": "stream",
     "text": [
      "RP3betaRecommender: Similarity column 38121 (100.0%), 1822.83 column/sec. Elapsed time 20.91 sec\n",
      "EvaluatorHoldout: Processed 35595 (100.0%) in 34.57 sec. Users per second: 1030\n"
     ]
    },
    {
     "name": "stderr",
     "output_type": "stream",
     "text": [
      "[I 2024-11-18 20:23:01,599] Trial 68 finished with value: 0.048346366865328644 and parameters: {'topK': 96, 'alpha': 0.8463553913326246, 'beta': 0.16333965035635947, 'normalize_similarity': True, 'implicit': False}. Best is trial 65 with value: 0.051635156979866606.\n"
     ]
    },
    {
     "name": "stdout",
     "output_type": "stream",
     "text": [
      "RP3betaRecommender: Similarity column 38121 (100.0%), 1837.82 column/sec. Elapsed time 20.74 sec\n",
      "EvaluatorHoldout: Processed 35595 (100.0%) in 34.05 sec. Users per second: 1045\n"
     ]
    },
    {
     "name": "stderr",
     "output_type": "stream",
     "text": [
      "[I 2024-11-18 20:24:00,301] Trial 69 finished with value: 0.0477486449184702 and parameters: {'topK': 96, 'alpha': 0.8600003939562066, 'beta': 0.09714800930509612, 'normalize_similarity': True, 'implicit': False}. Best is trial 65 with value: 0.051635156979866606.\n"
     ]
    },
    {
     "name": "stdout",
     "output_type": "stream",
     "text": [
      "RP3betaRecommender: Similarity column 38121 (100.0%), 1998.04 column/sec. Elapsed time 19.08 sec\n",
      "EvaluatorHoldout: Processed 35595 (100.0%) in 33.08 sec. Users per second: 1076\n"
     ]
    },
    {
     "name": "stderr",
     "output_type": "stream",
     "text": [
      "[I 2024-11-18 20:24:55,316] Trial 70 finished with value: 0.04949848716936618 and parameters: {'topK': 60, 'alpha': 0.9615588024692193, 'beta': 0.17039534544951582, 'normalize_similarity': True, 'implicit': False}. Best is trial 65 with value: 0.051635156979866606.\n"
     ]
    },
    {
     "name": "stdout",
     "output_type": "stream",
     "text": [
      "RP3betaRecommender: Similarity column 38121 (100.0%), 2144.66 column/sec. Elapsed time 17.77 sec\n",
      "EvaluatorHoldout: Processed 35595 (100.0%) in 31.09 sec. Users per second: 1145\n"
     ]
    },
    {
     "name": "stderr",
     "output_type": "stream",
     "text": [
      "[I 2024-11-18 20:25:45,847] Trial 71 finished with value: 0.0482561421815512 and parameters: {'topK': 28, 'alpha': 1.37937549572273, 'beta': 0.0051800423600753265, 'normalize_similarity': True, 'implicit': False}. Best is trial 65 with value: 0.051635156979866606.\n"
     ]
    },
    {
     "name": "stdout",
     "output_type": "stream",
     "text": [
      "RP3betaRecommender: Similarity column 38121 (100.0%), 2263.54 column/sec. Elapsed time 16.84 sec\n",
      "EvaluatorHoldout: Processed 35595 (100.0%) in 29.40 sec. Users per second: 1211\n"
     ]
    },
    {
     "name": "stderr",
     "output_type": "stream",
     "text": [
      "[I 2024-11-18 20:26:33,237] Trial 72 finished with value: 0.04918339253105198 and parameters: {'topK': 8, 'alpha': 1.3529318084633557, 'beta': 0.17074044336196512, 'normalize_similarity': True, 'implicit': False}. Best is trial 65 with value: 0.051635156979866606.\n"
     ]
    },
    {
     "name": "stdout",
     "output_type": "stream",
     "text": [
      "RP3betaRecommender: Similarity column 38121 (100.0%), 1815.51 column/sec. Elapsed time 21.00 sec\n",
      "EvaluatorHoldout: Processed 35595 (100.0%) in 27.66 sec. Users per second: 1287\n"
     ]
    },
    {
     "name": "stderr",
     "output_type": "stream",
     "text": [
      "[I 2024-11-18 20:27:22,852] Trial 73 finished with value: 0.0403882969116837 and parameters: {'topK': 3, 'alpha': 1.2274540156231777, 'beta': 0.1798186716233261, 'normalize_similarity': True, 'implicit': False}. Best is trial 65 with value: 0.051635156979866606.\n"
     ]
    },
    {
     "name": "stdout",
     "output_type": "stream",
     "text": [
      "RP3betaRecommender: Similarity column 38121 (100.0%), 1968.02 column/sec. Elapsed time 19.37 sec\n",
      "EvaluatorHoldout: Processed 35595 (100.0%) in 33.19 sec. Users per second: 1072\n"
     ]
    },
    {
     "name": "stderr",
     "output_type": "stream",
     "text": [
      "[I 2024-11-18 20:28:18,362] Trial 74 finished with value: 0.05020223212195237 and parameters: {'topK': 65, 'alpha': 0.7015334493962782, 'beta': 0.13185740225081385, 'normalize_similarity': True, 'implicit': False}. Best is trial 65 with value: 0.051635156979866606.\n"
     ]
    },
    {
     "name": "stdout",
     "output_type": "stream",
     "text": [
      "RP3betaRecommender: Similarity column 38121 (100.0%), 2017.71 column/sec. Elapsed time 18.89 sec\n",
      "EvaluatorHoldout: Processed 35595 (100.0%) in 32.94 sec. Users per second: 1081\n"
     ]
    },
    {
     "name": "stderr",
     "output_type": "stream",
     "text": [
      "[I 2024-11-18 20:29:12,845] Trial 75 finished with value: 0.04609927937087463 and parameters: {'topK': 55, 'alpha': 1.545909879072728, 'beta': 0.11253296595952197, 'normalize_similarity': True, 'implicit': False}. Best is trial 65 with value: 0.051635156979866606.\n"
     ]
    },
    {
     "name": "stdout",
     "output_type": "stream",
     "text": [
      "RP3betaRecommender: Similarity column 38121 (100.0%), 1712.72 column/sec. Elapsed time 22.26 sec\n",
      "EvaluatorHoldout: Processed 35595 (100.0%) in 35.63 sec. Users per second: 999\n"
     ]
    },
    {
     "name": "stderr",
     "output_type": "stream",
     "text": [
      "[I 2024-11-18 20:30:15,975] Trial 76 finished with value: 0.04681712921156513 and parameters: {'topK': 128, 'alpha': 0.9674470904263668, 'beta': 0.17277617659622094, 'normalize_similarity': True, 'implicit': False}. Best is trial 65 with value: 0.051635156979866606.\n"
     ]
    },
    {
     "name": "stdout",
     "output_type": "stream",
     "text": [
      "RP3betaRecommender: Similarity column 38121 (100.0%), 547.50 column/sec. Elapsed time 1.16 min\n",
      "EvaluatorHoldout: Processed 35595 (100.0%) in 55.77 sec. Users per second: 638\n"
     ]
    },
    {
     "name": "stderr",
     "output_type": "stream",
     "text": [
      "[I 2024-11-18 20:33:04,346] Trial 77 finished with value: 0.042118980728966346 and parameters: {'topK': 1193, 'alpha': 1.1356811116701835, 'beta': 0.26350521897785567, 'normalize_similarity': True, 'implicit': False}. Best is trial 65 with value: 0.051635156979866606.\n"
     ]
    },
    {
     "name": "stdout",
     "output_type": "stream",
     "text": [
      "RP3betaRecommender: Similarity column 38121 (100.0%), 2068.51 column/sec. Elapsed time 18.43 sec\n",
      "EvaluatorHoldout: Processed 35595 (100.0%) in 32.73 sec. Users per second: 1088\n"
     ]
    },
    {
     "name": "stderr",
     "output_type": "stream",
     "text": [
      "[I 2024-11-18 20:33:57,804] Trial 78 finished with value: 0.04727425935959277 and parameters: {'topK': 47, 'alpha': 1.3626142509706676, 'beta': 0.0504206354200073, 'normalize_similarity': True, 'implicit': False}. Best is trial 65 with value: 0.051635156979866606.\n"
     ]
    },
    {
     "name": "stdout",
     "output_type": "stream",
     "text": [
      "RP3betaRecommender: Similarity column 38121 (100.0%), 1797.88 column/sec. Elapsed time 21.20 sec\n",
      "EvaluatorHoldout: Processed 35595 (100.0%) in 35.12 sec. Users per second: 1014\n"
     ]
    },
    {
     "name": "stderr",
     "output_type": "stream",
     "text": [
      "[I 2024-11-18 20:34:59,027] Trial 79 finished with value: 0.04666603455541334 and parameters: {'topK': 106, 'alpha': 0.6949638836249208, 'beta': 0.25648276796560776, 'normalize_similarity': False, 'implicit': False}. Best is trial 65 with value: 0.051635156979866606.\n"
     ]
    },
    {
     "name": "stdout",
     "output_type": "stream",
     "text": [
      "RP3betaRecommender: Similarity column 38121 (100.0%), 2339.91 column/sec. Elapsed time 16.29 sec\n",
      "EvaluatorHoldout: Processed 35595 (100.0%) in 28.14 sec. Users per second: 1265\n"
     ]
    },
    {
     "name": "stderr",
     "output_type": "stream",
     "text": [
      "[I 2024-11-18 20:35:44,430] Trial 80 finished with value: 0.048335628777894206 and parameters: {'topK': 5, 'alpha': 0.8949319854320412, 'beta': 0.09180836533162458, 'normalize_similarity': True, 'implicit': False}. Best is trial 65 with value: 0.051635156979866606.\n"
     ]
    },
    {
     "name": "stdout",
     "output_type": "stream",
     "text": [
      "RP3betaRecommender: Similarity column 38121 (100.0%), 2327.22 column/sec. Elapsed time 16.38 sec\n",
      "EvaluatorHoldout: Processed 35595 (100.0%) in 28.01 sec. Users per second: 1271\n"
     ]
    },
    {
     "name": "stderr",
     "output_type": "stream",
     "text": [
      "[I 2024-11-18 20:36:29,771] Trial 81 finished with value: 0.04582550273468747 and parameters: {'topK': 4, 'alpha': 0.907703870942518, 'beta': 0.12794299512392165, 'normalize_similarity': True, 'implicit': False}. Best is trial 65 with value: 0.051635156979866606.\n"
     ]
    },
    {
     "name": "stdout",
     "output_type": "stream",
     "text": [
      "RP3betaRecommender: Similarity column 38121 (100.0%), 1971.23 column/sec. Elapsed time 19.34 sec\n",
      "EvaluatorHoldout: Processed 35595 (100.0%) in 32.64 sec. Users per second: 1091\n"
     ]
    },
    {
     "name": "stderr",
     "output_type": "stream",
     "text": [
      "[I 2024-11-18 20:37:24,529] Trial 82 finished with value: 0.04824088232474075 and parameters: {'topK': 69, 'alpha': 0.8109394339001105, 'beta': 0.004697467385720633, 'normalize_similarity': True, 'implicit': False}. Best is trial 65 with value: 0.051635156979866606.\n"
     ]
    },
    {
     "name": "stdout",
     "output_type": "stream",
     "text": [
      "RP3betaRecommender: Similarity column 38121 (100.0%), 1673.14 column/sec. Elapsed time 22.78 sec\n",
      "EvaluatorHoldout: Processed 35595 (100.0%) in 31.63 sec. Users per second: 1125\n"
     ]
    },
    {
     "name": "stderr",
     "output_type": "stream",
     "text": [
      "[I 2024-11-18 20:38:23,922] Trial 83 finished with value: 0.013630629636318971 and parameters: {'topK': 134, 'alpha': 1.0547381395185966, 'beta': 1.7859610116942648, 'normalize_similarity': True, 'implicit': False}. Best is trial 65 with value: 0.051635156979866606.\n"
     ]
    },
    {
     "name": "stdout",
     "output_type": "stream",
     "text": [
      "RP3betaRecommender: Similarity column 38121 (100.0%), 1995.03 column/sec. Elapsed time 19.11 sec\n",
      "EvaluatorHoldout: Processed 35595 (100.0%) in 33.35 sec. Users per second: 1067\n"
     ]
    },
    {
     "name": "stderr",
     "output_type": "stream",
     "text": [
      "[I 2024-11-18 20:39:19,336] Trial 84 finished with value: 0.05046142895047078 and parameters: {'topK': 61, 'alpha': 0.7667087203490479, 'beta': 0.1700745675928771, 'normalize_similarity': True, 'implicit': False}. Best is trial 65 with value: 0.051635156979866606.\n"
     ]
    },
    {
     "name": "stdout",
     "output_type": "stream",
     "text": [
      "RP3betaRecommender: Similarity column 38121 (100.0%), 1592.05 column/sec. Elapsed time 23.94 sec\n",
      "EvaluatorHoldout: Processed 35595 (100.0%) in 37.71 sec. Users per second: 944\n"
     ]
    },
    {
     "name": "stderr",
     "output_type": "stream",
     "text": [
      "[I 2024-11-18 20:40:28,348] Trial 85 finished with value: 0.047684268791093755 and parameters: {'topK': 162, 'alpha': 0.7490875816425666, 'beta': 0.42627180745000204, 'normalize_similarity': True, 'implicit': False}. Best is trial 65 with value: 0.051635156979866606.\n"
     ]
    },
    {
     "name": "stdout",
     "output_type": "stream",
     "text": [
      "RP3betaRecommender: Similarity column 38121 (100.0%), 2040.06 column/sec. Elapsed time 18.69 sec\n",
      "EvaluatorHoldout: Processed 35595 (100.0%) in 32.98 sec. Users per second: 1079\n"
     ]
    },
    {
     "name": "stderr",
     "output_type": "stream",
     "text": [
      "[I 2024-11-18 20:41:22,749] Trial 86 finished with value: 0.0514501089193443 and parameters: {'topK': 52, 'alpha': 0.6470458864171513, 'beta': 0.29770128942327295, 'normalize_similarity': True, 'implicit': False}. Best is trial 65 with value: 0.051635156979866606.\n"
     ]
    },
    {
     "name": "stdout",
     "output_type": "stream",
     "text": [
      "RP3betaRecommender: Similarity column 38121 (100.0%), 2126.81 column/sec. Elapsed time 17.92 sec\n",
      "EvaluatorHoldout: Processed 35595 (100.0%) in 32.73 sec. Users per second: 1088\n"
     ]
    },
    {
     "name": "stderr",
     "output_type": "stream",
     "text": [
      "[I 2024-11-18 20:42:15,637] Trial 87 finished with value: 0.05209358813994126 and parameters: {'topK': 38, 'alpha': 0.6571789969434795, 'beta': 0.3170638175983739, 'normalize_similarity': True, 'implicit': False}. Best is trial 87 with value: 0.05209358813994126.\n"
     ]
    },
    {
     "name": "stdout",
     "output_type": "stream",
     "text": [
      "RP3betaRecommender: Similarity column 38121 (100.0%), 2129.78 column/sec. Elapsed time 17.90 sec\n",
      "EvaluatorHoldout: Processed 35595 (100.0%) in 30.57 sec. Users per second: 1164\n"
     ]
    },
    {
     "name": "stderr",
     "output_type": "stream",
     "text": [
      "[I 2024-11-18 20:43:05,586] Trial 88 finished with value: 0.011162040102832593 and parameters: {'topK': 35, 'alpha': 0.6627171941051234, 'beta': 2.686557229828865, 'normalize_similarity': True, 'implicit': False}. Best is trial 87 with value: 0.05209358813994126.\n"
     ]
    },
    {
     "name": "stdout",
     "output_type": "stream",
     "text": [
      "RP3betaRecommender: Similarity column 38121 (100.0%), 2112.35 column/sec. Elapsed time 18.05 sec\n",
      "EvaluatorHoldout: Processed 35595 (100.0%) in 32.71 sec. Users per second: 1088\n"
     ]
    },
    {
     "name": "stderr",
     "output_type": "stream",
     "text": [
      "[I 2024-11-18 20:43:58,852] Trial 89 finished with value: 0.052120791220452205 and parameters: {'topK': 43, 'alpha': 0.6092627517273463, 'beta': 0.28089858149459224, 'normalize_similarity': True, 'implicit': False}. Best is trial 89 with value: 0.052120791220452205.\n"
     ]
    },
    {
     "name": "stdout",
     "output_type": "stream",
     "text": [
      "RP3betaRecommender: Similarity column 38121 (100.0%), 1709.17 column/sec. Elapsed time 22.30 sec\n",
      "EvaluatorHoldout: Processed 35595 (100.0%) in 36.19 sec. Users per second: 983\n"
     ]
    },
    {
     "name": "stderr",
     "output_type": "stream",
     "text": [
      "[I 2024-11-18 20:45:03,086] Trial 90 finished with value: 0.048767088743066934 and parameters: {'topK': 129, 'alpha': 0.6066873926029952, 'beta': 0.3020018945746128, 'normalize_similarity': True, 'implicit': False}. Best is trial 89 with value: 0.052120791220452205.\n"
     ]
    },
    {
     "name": "stdout",
     "output_type": "stream",
     "text": [
      "RP3betaRecommender: Similarity column 38121 (100.0%), 2059.85 column/sec. Elapsed time 18.51 sec\n",
      "EvaluatorHoldout: Processed 35595 (100.0%) in 33.01 sec. Users per second: 1078\n"
     ]
    },
    {
     "name": "stderr",
     "output_type": "stream",
     "text": [
      "[I 2024-11-18 20:45:57,342] Trial 91 finished with value: 0.0510442790029793 and parameters: {'topK': 51, 'alpha': 0.7749024863195357, 'beta': 0.21270666557234608, 'normalize_similarity': True, 'implicit': False}. Best is trial 89 with value: 0.052120791220452205.\n"
     ]
    },
    {
     "name": "stdout",
     "output_type": "stream",
     "text": [
      "RP3betaRecommender: Similarity column 38121 (100.0%), 2042.82 column/sec. Elapsed time 18.66 sec\n",
      "EvaluatorHoldout: Processed 35595 (100.0%) in 33.32 sec. Users per second: 1068\n"
     ]
    },
    {
     "name": "stderr",
     "output_type": "stream",
     "text": [
      "[I 2024-11-18 20:46:52,255] Trial 92 finished with value: 0.05064734100785326 and parameters: {'topK': 55, 'alpha': 0.7974718073992941, 'beta': 0.3039290881222534, 'normalize_similarity': True, 'implicit': False}. Best is trial 89 with value: 0.052120791220452205.\n"
     ]
    },
    {
     "name": "stdout",
     "output_type": "stream",
     "text": [
      "RP3betaRecommender: Similarity column 38121 (100.0%), 1584.49 column/sec. Elapsed time 24.06 sec\n",
      "EvaluatorHoldout: Processed 35595 (100.0%) in 37.19 sec. Users per second: 957\n"
     ]
    },
    {
     "name": "stderr",
     "output_type": "stream",
     "text": [
      "[I 2024-11-18 20:48:00,385] Trial 93 finished with value: 0.04718271582641412 and parameters: {'topK': 167, 'alpha': 0.7917124741276657, 'beta': 0.2675099695885474, 'normalize_similarity': True, 'implicit': False}. Best is trial 89 with value: 0.052120791220452205.\n"
     ]
    },
    {
     "name": "stdout",
     "output_type": "stream",
     "text": [
      "RP3betaRecommender: Similarity column 38121 (100.0%), 2071.80 column/sec. Elapsed time 18.40 sec\n",
      "EvaluatorHoldout: Processed 35595 (100.0%) in 33.10 sec. Users per second: 1075\n"
     ]
    },
    {
     "name": "stderr",
     "output_type": "stream",
     "text": [
      "[I 2024-11-18 20:48:54,522] Trial 94 finished with value: 0.05154169258657075 and parameters: {'topK': 47, 'alpha': 0.44997063368331935, 'beta': 0.3787342706590415, 'normalize_similarity': True, 'implicit': False}. Best is trial 89 with value: 0.052120791220452205.\n"
     ]
    },
    {
     "name": "stdout",
     "output_type": "stream",
     "text": [
      "RP3betaRecommender: Similarity column 38121 (100.0%), 2128.20 column/sec. Elapsed time 17.91 sec\n",
      "EvaluatorHoldout: Processed 35595 (100.0%) in 32.57 sec. Users per second: 1093\n"
     ]
    },
    {
     "name": "stderr",
     "output_type": "stream",
     "text": [
      "[I 2024-11-18 20:49:47,337] Trial 95 finished with value: 0.051892855470603495 and parameters: {'topK': 39, 'alpha': 0.44140327039487814, 'beta': 0.406859355296856, 'normalize_similarity': True, 'implicit': False}. Best is trial 89 with value: 0.052120791220452205.\n"
     ]
    },
    {
     "name": "stdout",
     "output_type": "stream",
     "text": [
      "RP3betaRecommender: Similarity column 38121 (100.0%), 1516.41 column/sec. Elapsed time 25.14 sec\n",
      "EvaluatorHoldout: Processed 35595 (100.0%) in 31.83 sec. Users per second: 1118\n"
     ]
    },
    {
     "name": "stderr",
     "output_type": "stream",
     "text": [
      "[I 2024-11-18 20:50:52,811] Trial 96 finished with value: 0.045365336891884 and parameters: {'topK': 192, 'alpha': 0.4622187186895268, 'beta': 0.38758796777911203, 'normalize_similarity': False, 'implicit': False}. Best is trial 89 with value: 0.052120791220452205.\n"
     ]
    },
    {
     "name": "stdout",
     "output_type": "stream",
     "text": [
      "RP3betaRecommender: Similarity column 38121 (100.0%), 1785.24 column/sec. Elapsed time 21.35 sec\n",
      "EvaluatorHoldout: Processed 35595 (100.0%) in 36.07 sec. Users per second: 987\n"
     ]
    },
    {
     "name": "stderr",
     "output_type": "stream",
     "text": [
      "[I 2024-11-18 20:51:55,310] Trial 97 finished with value: 0.04283332441465471 and parameters: {'topK': 110, 'alpha': 0.3763014514896862, 'beta': 0.6650081927009336, 'normalize_similarity': True, 'implicit': False}. Best is trial 89 with value: 0.052120791220452205.\n"
     ]
    },
    {
     "name": "stdout",
     "output_type": "stream",
     "text": [
      "RP3betaRecommender: Similarity column 38121 (100.0%), 1407.26 column/sec. Elapsed time 27.09 sec\n",
      "EvaluatorHoldout: Processed 35595 (100.0%) in 39.25 sec. Users per second: 907\n"
     ]
    },
    {
     "name": "stderr",
     "output_type": "stream",
     "text": [
      "[I 2024-11-18 20:53:11,443] Trial 98 finished with value: 0.04703403478729877 and parameters: {'topK': 232, 'alpha': 0.6273888968477916, 'beta': 0.3246106967182855, 'normalize_similarity': True, 'implicit': False}. Best is trial 89 with value: 0.052120791220452205.\n"
     ]
    },
    {
     "name": "stdout",
     "output_type": "stream",
     "text": [
      "RP3betaRecommender: Similarity column 38121 (100.0%), 1886.55 column/sec. Elapsed time 20.21 sec\n",
      "EvaluatorHoldout: Processed 35595 (100.0%) in 34.96 sec. Users per second: 1018\n"
     ]
    },
    {
     "name": "stderr",
     "output_type": "stream",
     "text": [
      "[I 2024-11-18 20:54:11,010] Trial 99 finished with value: 0.04614372113971604 and parameters: {'topK': 90, 'alpha': 0.447625270274625, 'beta': 0.5983962013529263, 'normalize_similarity': True, 'implicit': False}. Best is trial 89 with value: 0.052120791220452205.\n"
     ]
    }
   ],
   "source": [
    "if config['tune_parameters']:\n",
    "    \n",
    "    optuna_study = optuna.create_study(direction='maximize', study_name=f'hyperparameters_tuning_{config[\"model\"]}',\n",
    "                                storage=f'sqlite:///{config[\"database_path\"]}', load_if_exists=True)\n",
    "\n",
    "    optuna_study.optimize(objective_function_RP3beta, n_trials=100)"
   ]
  },
  {
   "cell_type": "markdown",
   "id": "5e0fe400",
   "metadata": {
    "papermill": {
     "duration": 0.027938,
     "end_time": "2024-11-18T20:54:11.072184",
     "exception": false,
     "start_time": "2024-11-18T20:54:11.044246",
     "status": "completed"
    },
    "tags": []
   },
   "source": [
    "## Some optuna visualizations on recommender parameters"
   ]
  },
  {
   "cell_type": "code",
   "execution_count": 17,
   "id": "f8b61016",
   "metadata": {
    "execution": {
     "iopub.execute_input": "2024-11-18T20:54:11.131534Z",
     "iopub.status.busy": "2024-11-18T20:54:11.130636Z",
     "iopub.status.idle": "2024-11-18T20:54:12.626586Z",
     "shell.execute_reply": "2024-11-18T20:54:12.625629Z"
    },
    "papermill": {
     "duration": 1.528178,
     "end_time": "2024-11-18T20:54:12.628631",
     "exception": false,
     "start_time": "2024-11-18T20:54:11.100453",
     "status": "completed"
    },
    "tags": []
   },
   "outputs": [
    {
     "data": {
      "text/html": [
       "        <script type=\"text/javascript\">\n",
       "        window.PlotlyConfig = {MathJaxConfig: 'local'};\n",
       "        if (window.MathJax && window.MathJax.Hub && window.MathJax.Hub.Config) {window.MathJax.Hub.Config({SVG: {font: \"STIX-Web\"}});}\n",
       "        if (typeof require !== 'undefined') {\n",
       "        require.undef(\"plotly\");\n",
       "        requirejs.config({\n",
       "            paths: {\n",
       "                'plotly': ['https://cdn.plot.ly/plotly-2.32.0.min']\n",
       "            }\n",
       "        });\n",
       "        require(['plotly'], function(Plotly) {\n",
       "            window._Plotly = Plotly;\n",
       "        });\n",
       "        }\n",
       "        </script>\n",
       "        "
      ]
     },
     "metadata": {},
     "output_type": "display_data"
    },
    {
     "data": {
      "text/html": [
       "<div>                            <div id=\"4cb319f0-da56-475a-898f-73b17a438868\" class=\"plotly-graph-div\" style=\"height:525px; width:1500px;\"></div>            <script type=\"text/javascript\">                require([\"plotly\"], function(Plotly) {                    window.PLOTLYENV=window.PLOTLYENV || {};                                    if (document.getElementById(\"4cb319f0-da56-475a-898f-73b17a438868\")) {                    Plotly.newPlot(                        \"4cb319f0-da56-475a-898f-73b17a438868\",                        [{\"marker\":{\"color\":[0,1,2,3,4,5,6,7,8,9,10,11,12,13,14,15,16,17,18,19,20,21,22,23,24,25,26,27,28,29,30,31,32,33,34,35,36,37,38,39,40,41,42,43,44,45,46,47,48,49,50,51,52,53,54,55,56,57,58,59,60,61,62,63,64,65,66,67,68,69,70,71,72,73,74,75,76,77,78,79,80,81,82,83,84,85,86,87,88,89,90,91,92,93,94,95,96,97,98,99],\"colorbar\":{\"title\":{\"text\":\"Trial\"},\"x\":1.0,\"xpad\":40},\"colorscale\":[[0.0,\"rgb(247,251,255)\"],[0.125,\"rgb(222,235,247)\"],[0.25,\"rgb(198,219,239)\"],[0.375,\"rgb(158,202,225)\"],[0.5,\"rgb(107,174,214)\"],[0.625,\"rgb(66,146,198)\"],[0.75,\"rgb(33,113,181)\"],[0.875,\"rgb(8,81,156)\"],[1.0,\"rgb(8,48,107)\"]],\"line\":{\"color\":\"Grey\",\"width\":0.5},\"showscale\":true},\"mode\":\"markers\",\"name\":\"Feasible Trial\",\"showlegend\":false,\"x\":[0.06938129724222086,2.371255680611651,2.8186757745871986,0.44411119641106134,2.65772703585949,2.648281312455077,1.292254991742394,0.7583748718960671,2.9262580427681653,2.661376794029957,1.8806760738987958,1.9919562217990499,1.930785392678299,1.8844259008185482,1.419568302222062,1.2826568224150903,1.2392019323561194,0.8812039432120247,0.9148390313904293,0.835013219359038,1.6180844794928608,1.1827832816594928,0.5065451618587894,0.4658118441275824,0.374045087096221,0.41924858846546237,0.022735482136226837,0.42843071479513806,0.6123041171126009,0.20633074525032313,0.6415642570973924,0.9476707892177318,0.17075752269386646,0.2739982430485612,0.2019940894001882,0.23113020024048925,0.31639246231517926,0.5916002180174589,0.09724517169955155,1.0549118216716136,0.7082512743762734,0.2064105611779245,0.29589955979317667,0.5329789717406903,0.3236693529400789,0.0006198122422005348,0.4590885610334876,0.2922800833881636,0.7514608747679974,2.275595516540088,0.10933046036538663,0.26315437195973096,0.521569445565168,0.13522089137223636,0.39042054859392084,0.2643535208947848,0.5402820305465224,0.711754132652396,1.0972539343498824,0.8027993908091999,0.6533761954878698,0.5301935012368035,0.554489058142531,1.7132885335915051,0.4080869077260763,0.7018096105858859,0.9811162196299656,1.0075110179377667,0.8463553913326246,0.8600003939562066,0.9615588024692193,1.37937549572273,1.3529318084633557,1.2274540156231777,0.7015334493962782,1.545909879072728,0.9674470904263668,1.1356811116701835,1.3626142509706676,0.6949638836249208,0.8949319854320412,0.907703870942518,0.8109394339001105,1.0547381395185966,0.7667087203490479,0.7490875816425666,0.6470458864171513,0.6571789969434795,0.6627171941051234,0.6092627517273463,0.6066873926029952,0.7749024863195357,0.7974718073992941,0.7917124741276657,0.44997063368331935,0.44140327039487814,0.4622187186895268,0.3763014514896862,0.6273888968477916,0.447625270274625],\"y\":[0.007690281094410925,0.014469873823013657,0.013573137612960898,0.008924297152489465,0.006255244739652682,0.015284872585547199,0.0125617205912194,0.030369586641604482,0.031518091536843366,0.011183957752225967,0.04060552467463382,0.04075160034515132,0.04190627919473087,0.03193688920996045,0.04256307623016273,0.04239784881504089,0.018958664160518335,0.045300126868182584,0.014686972265143731,0.032115817943040074,0.006976451347500675,0.044445633973023854,0.0469401255749742,0.04569320196121547,0.02397848257624871,0.04722735046165127,0.04526143653134644,0.04511583578039391,0.022331313252931147,0.011015072564588215,0.03883306688784867,0.04417558311426664,0.04643481004332083,0.04688176398058251,0.031773151213942544,0.04672474286338416,0.041408640414538775,0.044796698751606294,0.026181038000253516,0.03565628421148766,0.041158685565342065,0.046913921386317656,0.047908246877903744,0.031124931716376304,0.04206558683781447,0.04311270978401059,0.016132052165343656,0.013049731659297929,0.03561248793191384,0.02893719021531857,0.04383458529265356,0.04512453372040241,0.00028209999175022335,0.0453105238162111,0.040036057097370535,0.04669298679812608,0.04827584130997334,0.04850664775906888,0.02502660218462957,0.04681197198643294,0.01900801789086661,0.04709185122754249,0.03409142201619964,0.03557113425507748,0.051379680354604974,0.051635156979866606,0.05032382490852609,0.043989015534104677,0.048346366865328644,0.0477486449184702,0.04949848716936618,0.0482561421815512,0.04918339253105198,0.0403882969116837,0.05020223212195237,0.04609927937087463,0.04681712921156513,0.042118980728966346,0.04727425935959277,0.04666603455541334,0.048335628777894206,0.04582550273468747,0.04824088232474075,0.013630629636318971,0.05046142895047078,0.047684268791093755,0.0514501089193443,0.05209358813994126,0.011162040102832593,0.052120791220452205,0.048767088743066934,0.0510442790029793,0.05064734100785326,0.04718271582641412,0.05154169258657075,0.051892855470603495,0.045365336891884,0.04283332441465471,0.04703403478729877,0.04614372113971604],\"type\":\"scatter\",\"xaxis\":\"x\",\"yaxis\":\"y\"},{\"marker\":{\"color\":[0,1,2,3,4,5,6,7,8,9,10,11,12,13,14,15,16,17,18,19,20,21,22,23,24,25,26,27,28,29,30,31,32,33,34,35,36,37,38,39,40,41,42,43,44,45,46,47,48,49,50,51,52,53,54,55,56,57,58,59,60,61,62,63,64,65,66,67,68,69,70,71,72,73,74,75,76,77,78,79,80,81,82,83,84,85,86,87,88,89,90,91,92,93,94,95,96,97,98,99],\"colorbar\":{\"title\":{\"text\":\"Trial\"},\"x\":1.0,\"xpad\":40},\"colorscale\":[[0.0,\"rgb(247,251,255)\"],[0.125,\"rgb(222,235,247)\"],[0.25,\"rgb(198,219,239)\"],[0.375,\"rgb(158,202,225)\"],[0.5,\"rgb(107,174,214)\"],[0.625,\"rgb(66,146,198)\"],[0.75,\"rgb(33,113,181)\"],[0.875,\"rgb(8,81,156)\"],[1.0,\"rgb(8,48,107)\"]],\"line\":{\"color\":\"Grey\",\"width\":0.5},\"showscale\":false},\"mode\":\"markers\",\"name\":\"Feasible Trial\",\"showlegend\":false,\"x\":[2.0140764224340613,0.5580901837342789,1.0751598003613152,2.454525527142742,2.6144256840710787,0.24989717973293624,1.8217878745716998,0.8820406988542648,0.1035435689030959,1.3956876354416856,0.14532764331626197,0.05265884060717364,0.09103229215733104,0.6994562806220757,0.4817786296431929,0.5447067580176834,1.2653263419565708,0.5343375567534111,1.676907420544703,0.8597207815077663,2.966539142203463,0.46661904397331155,0.48254992618431247,0.3953354110551781,1.036644825604093,0.32693646854084435,0.3667340034572917,0.7150398253177987,1.144289267993789,2.1198545797223574,0.7423800226983261,0.2496709796250952,0.33911290256328125,0.3556823643726509,0.004721890145511609,0.3084264202466711,0.6974443116253758,0.25881502730257155,0.9109218644378009,0.6049781556543851,0.23315483263725645,0.33253692036526983,0.38514563980609584,0.9386174779004149,0.13680031221336986,0.5602082747767942,1.4919381842765989,2.155503367665351,0.786677061465003,0.6373598852493775,0.45223237418225926,0.21558842695054747,0.3382368402231266,0.11061568956761539,0.02626469465333192,0.3980087372137056,0.5184066240429308,0.4848557795104007,1.0377318965550515,0.5223593715035041,1.3232859817965847,0.4608550575582072,0.8194415633671804,0.620653599406427,0.17034805628928884,0.1865496775404918,0.1757413056189374,0.20273558735992842,0.16333965035635947,0.09714800930509612,0.17039534544951582,0.0051800423600753265,0.17074044336196512,0.1798186716233261,0.13185740225081385,0.11253296595952197,0.17277617659622094,0.26350521897785567,0.0504206354200073,0.25648276796560776,0.09180836533162458,0.12794299512392165,0.004697467385720633,1.7859610116942648,0.1700745675928771,0.42627180745000204,0.29770128942327295,0.3170638175983739,2.686557229828865,0.28089858149459224,0.3020018945746128,0.21270666557234608,0.3039290881222534,0.2675099695885474,0.3787342706590415,0.406859355296856,0.38758796777911203,0.6650081927009336,0.3246106967182855,0.5983962013529263],\"y\":[0.007690281094410925,0.014469873823013657,0.013573137612960898,0.008924297152489465,0.006255244739652682,0.015284872585547199,0.0125617205912194,0.030369586641604482,0.031518091536843366,0.011183957752225967,0.04060552467463382,0.04075160034515132,0.04190627919473087,0.03193688920996045,0.04256307623016273,0.04239784881504089,0.018958664160518335,0.045300126868182584,0.014686972265143731,0.032115817943040074,0.006976451347500675,0.044445633973023854,0.0469401255749742,0.04569320196121547,0.02397848257624871,0.04722735046165127,0.04526143653134644,0.04511583578039391,0.022331313252931147,0.011015072564588215,0.03883306688784867,0.04417558311426664,0.04643481004332083,0.04688176398058251,0.031773151213942544,0.04672474286338416,0.041408640414538775,0.044796698751606294,0.026181038000253516,0.03565628421148766,0.041158685565342065,0.046913921386317656,0.047908246877903744,0.031124931716376304,0.04206558683781447,0.04311270978401059,0.016132052165343656,0.013049731659297929,0.03561248793191384,0.02893719021531857,0.04383458529265356,0.04512453372040241,0.00028209999175022335,0.0453105238162111,0.040036057097370535,0.04669298679812608,0.04827584130997334,0.04850664775906888,0.02502660218462957,0.04681197198643294,0.01900801789086661,0.04709185122754249,0.03409142201619964,0.03557113425507748,0.051379680354604974,0.051635156979866606,0.05032382490852609,0.043989015534104677,0.048346366865328644,0.0477486449184702,0.04949848716936618,0.0482561421815512,0.04918339253105198,0.0403882969116837,0.05020223212195237,0.04609927937087463,0.04681712921156513,0.042118980728966346,0.04727425935959277,0.04666603455541334,0.048335628777894206,0.04582550273468747,0.04824088232474075,0.013630629636318971,0.05046142895047078,0.047684268791093755,0.0514501089193443,0.05209358813994126,0.011162040102832593,0.052120791220452205,0.048767088743066934,0.0510442790029793,0.05064734100785326,0.04718271582641412,0.05154169258657075,0.051892855470603495,0.045365336891884,0.04283332441465471,0.04703403478729877,0.04614372113971604],\"type\":\"scatter\",\"xaxis\":\"x2\",\"yaxis\":\"y2\"},{\"marker\":{\"color\":[0,1,2,3,4,5,6,7,8,9,10,11,12,13,14,15,16,17,18,19,20,21,22,23,24,25,26,27,28,29,30,31,32,33,34,35,36,37,38,39,40,41,42,43,44,45,46,47,48,49,50,51,52,53,54,55,56,57,58,59,60,61,62,63,64,65,66,67,68,69,70,71,72,73,74,75,76,77,78,79,80,81,82,83,84,85,86,87,88,89,90,91,92,93,94,95,96,97,98,99],\"colorbar\":{\"title\":{\"text\":\"Trial\"},\"x\":1.0,\"xpad\":40},\"colorscale\":[[0.0,\"rgb(247,251,255)\"],[0.125,\"rgb(222,235,247)\"],[0.25,\"rgb(198,219,239)\"],[0.375,\"rgb(158,202,225)\"],[0.5,\"rgb(107,174,214)\"],[0.625,\"rgb(66,146,198)\"],[0.75,\"rgb(33,113,181)\"],[0.875,\"rgb(8,81,156)\"],[1.0,\"rgb(8,48,107)\"]],\"line\":{\"color\":\"Grey\",\"width\":0.5},\"showscale\":false},\"mode\":\"markers\",\"name\":\"Feasible Trial\",\"showlegend\":false,\"x\":[false,false,false,true,true,false,true,true,true,true,true,true,true,true,true,true,true,true,false,true,true,true,true,true,true,true,false,true,true,false,true,true,true,true,false,true,true,false,true,true,true,true,true,true,true,true,true,true,false,true,true,true,true,true,true,true,true,true,true,true,true,true,true,true,true,true,false,false,false,false,false,false,false,false,false,false,false,false,false,false,false,false,false,false,false,false,false,false,false,false,false,false,false,false,false,false,false,false,false,false],\"y\":[0.007690281094410925,0.014469873823013657,0.013573137612960898,0.008924297152489465,0.006255244739652682,0.015284872585547199,0.0125617205912194,0.030369586641604482,0.031518091536843366,0.011183957752225967,0.04060552467463382,0.04075160034515132,0.04190627919473087,0.03193688920996045,0.04256307623016273,0.04239784881504089,0.018958664160518335,0.045300126868182584,0.014686972265143731,0.032115817943040074,0.006976451347500675,0.044445633973023854,0.0469401255749742,0.04569320196121547,0.02397848257624871,0.04722735046165127,0.04526143653134644,0.04511583578039391,0.022331313252931147,0.011015072564588215,0.03883306688784867,0.04417558311426664,0.04643481004332083,0.04688176398058251,0.031773151213942544,0.04672474286338416,0.041408640414538775,0.044796698751606294,0.026181038000253516,0.03565628421148766,0.041158685565342065,0.046913921386317656,0.047908246877903744,0.031124931716376304,0.04206558683781447,0.04311270978401059,0.016132052165343656,0.013049731659297929,0.03561248793191384,0.02893719021531857,0.04383458529265356,0.04512453372040241,0.00028209999175022335,0.0453105238162111,0.040036057097370535,0.04669298679812608,0.04827584130997334,0.04850664775906888,0.02502660218462957,0.04681197198643294,0.01900801789086661,0.04709185122754249,0.03409142201619964,0.03557113425507748,0.051379680354604974,0.051635156979866606,0.05032382490852609,0.043989015534104677,0.048346366865328644,0.0477486449184702,0.04949848716936618,0.0482561421815512,0.04918339253105198,0.0403882969116837,0.05020223212195237,0.04609927937087463,0.04681712921156513,0.042118980728966346,0.04727425935959277,0.04666603455541334,0.048335628777894206,0.04582550273468747,0.04824088232474075,0.013630629636318971,0.05046142895047078,0.047684268791093755,0.0514501089193443,0.05209358813994126,0.011162040102832593,0.052120791220452205,0.048767088743066934,0.0510442790029793,0.05064734100785326,0.04718271582641412,0.05154169258657075,0.051892855470603495,0.045365336891884,0.04283332441465471,0.04703403478729877,0.04614372113971604],\"type\":\"scatter\",\"xaxis\":\"x3\",\"yaxis\":\"y3\"},{\"marker\":{\"color\":[0,1,2,3,4,5,6,7,8,9,10,11,12,13,14,15,16,17,18,19,20,21,22,23,24,25,26,27,28,29,30,31,32,33,34,35,36,37,38,39,40,41,42,43,44,45,46,47,48,49,50,51,52,53,54,55,56,57,58,59,60,61,62,63,64,65,66,67,68,69,70,71,72,73,74,75,76,77,78,79,80,81,82,83,84,85,86,87,88,89,90,91,92,93,94,95,96,97,98,99],\"colorbar\":{\"title\":{\"text\":\"Trial\"},\"x\":1.0,\"xpad\":40},\"colorscale\":[[0.0,\"rgb(247,251,255)\"],[0.125,\"rgb(222,235,247)\"],[0.25,\"rgb(198,219,239)\"],[0.375,\"rgb(158,202,225)\"],[0.5,\"rgb(107,174,214)\"],[0.625,\"rgb(66,146,198)\"],[0.75,\"rgb(33,113,181)\"],[0.875,\"rgb(8,81,156)\"],[1.0,\"rgb(8,48,107)\"]],\"line\":{\"color\":\"Grey\",\"width\":0.5},\"showscale\":false},\"mode\":\"markers\",\"name\":\"Feasible Trial\",\"showlegend\":false,\"x\":[false,false,true,false,true,false,false,false,true,true,true,true,true,true,true,true,true,true,true,true,true,true,true,true,true,true,true,true,true,false,true,true,true,true,false,true,true,false,true,false,true,true,true,true,true,true,true,false,true,true,true,true,true,true,true,true,true,true,true,true,true,true,true,true,true,true,true,false,true,true,true,true,true,true,true,true,true,true,true,false,true,true,true,true,true,true,true,true,true,true,true,true,true,true,true,true,false,true,true,true],\"y\":[0.007690281094410925,0.014469873823013657,0.013573137612960898,0.008924297152489465,0.006255244739652682,0.015284872585547199,0.0125617205912194,0.030369586641604482,0.031518091536843366,0.011183957752225967,0.04060552467463382,0.04075160034515132,0.04190627919473087,0.03193688920996045,0.04256307623016273,0.04239784881504089,0.018958664160518335,0.045300126868182584,0.014686972265143731,0.032115817943040074,0.006976451347500675,0.044445633973023854,0.0469401255749742,0.04569320196121547,0.02397848257624871,0.04722735046165127,0.04526143653134644,0.04511583578039391,0.022331313252931147,0.011015072564588215,0.03883306688784867,0.04417558311426664,0.04643481004332083,0.04688176398058251,0.031773151213942544,0.04672474286338416,0.041408640414538775,0.044796698751606294,0.026181038000253516,0.03565628421148766,0.041158685565342065,0.046913921386317656,0.047908246877903744,0.031124931716376304,0.04206558683781447,0.04311270978401059,0.016132052165343656,0.013049731659297929,0.03561248793191384,0.02893719021531857,0.04383458529265356,0.04512453372040241,0.00028209999175022335,0.0453105238162111,0.040036057097370535,0.04669298679812608,0.04827584130997334,0.04850664775906888,0.02502660218462957,0.04681197198643294,0.01900801789086661,0.04709185122754249,0.03409142201619964,0.03557113425507748,0.051379680354604974,0.051635156979866606,0.05032382490852609,0.043989015534104677,0.048346366865328644,0.0477486449184702,0.04949848716936618,0.0482561421815512,0.04918339253105198,0.0403882969116837,0.05020223212195237,0.04609927937087463,0.04681712921156513,0.042118980728966346,0.04727425935959277,0.04666603455541334,0.048335628777894206,0.04582550273468747,0.04824088232474075,0.013630629636318971,0.05046142895047078,0.047684268791093755,0.0514501089193443,0.05209358813994126,0.011162040102832593,0.052120791220452205,0.048767088743066934,0.0510442790029793,0.05064734100785326,0.04718271582641412,0.05154169258657075,0.051892855470603495,0.045365336891884,0.04283332441465471,0.04703403478729877,0.04614372113971604],\"type\":\"scatter\",\"xaxis\":\"x4\",\"yaxis\":\"y4\"},{\"marker\":{\"color\":[0,1,2,3,4,5,6,7,8,9,10,11,12,13,14,15,16,17,18,19,20,21,22,23,24,25,26,27,28,29,30,31,32,33,34,35,36,37,38,39,40,41,42,43,44,45,46,47,48,49,50,51,52,53,54,55,56,57,58,59,60,61,62,63,64,65,66,67,68,69,70,71,72,73,74,75,76,77,78,79,80,81,82,83,84,85,86,87,88,89,90,91,92,93,94,95,96,97,98,99],\"colorbar\":{\"title\":{\"text\":\"Trial\"},\"x\":1.0,\"xpad\":40},\"colorscale\":[[0.0,\"rgb(247,251,255)\"],[0.125,\"rgb(222,235,247)\"],[0.25,\"rgb(198,219,239)\"],[0.375,\"rgb(158,202,225)\"],[0.5,\"rgb(107,174,214)\"],[0.625,\"rgb(66,146,198)\"],[0.75,\"rgb(33,113,181)\"],[0.875,\"rgb(8,81,156)\"],[1.0,\"rgb(8,48,107)\"]],\"line\":{\"color\":\"Grey\",\"width\":0.5},\"showscale\":false},\"mode\":\"markers\",\"name\":\"Feasible Trial\",\"showlegend\":false,\"x\":[835,883,1458,761,698,1294,704,1034,1130,1103,276,147,115,23,331,416,483,441,475,560,302,341,296,566,612,223,209,13,589,131,868,417,216,223,258,206,89,206,334,773,1409,198,174,80,378,142,955,50,267,182,506,248,0,160,360,258,91,81,69,115,661,299,296,152,55,46,43,41,96,96,60,28,8,3,65,55,128,1193,47,106,5,4,69,134,61,162,52,38,35,43,129,51,55,167,47,39,192,110,232,90],\"y\":[0.007690281094410925,0.014469873823013657,0.013573137612960898,0.008924297152489465,0.006255244739652682,0.015284872585547199,0.0125617205912194,0.030369586641604482,0.031518091536843366,0.011183957752225967,0.04060552467463382,0.04075160034515132,0.04190627919473087,0.03193688920996045,0.04256307623016273,0.04239784881504089,0.018958664160518335,0.045300126868182584,0.014686972265143731,0.032115817943040074,0.006976451347500675,0.044445633973023854,0.0469401255749742,0.04569320196121547,0.02397848257624871,0.04722735046165127,0.04526143653134644,0.04511583578039391,0.022331313252931147,0.011015072564588215,0.03883306688784867,0.04417558311426664,0.04643481004332083,0.04688176398058251,0.031773151213942544,0.04672474286338416,0.041408640414538775,0.044796698751606294,0.026181038000253516,0.03565628421148766,0.041158685565342065,0.046913921386317656,0.047908246877903744,0.031124931716376304,0.04206558683781447,0.04311270978401059,0.016132052165343656,0.013049731659297929,0.03561248793191384,0.02893719021531857,0.04383458529265356,0.04512453372040241,0.00028209999175022335,0.0453105238162111,0.040036057097370535,0.04669298679812608,0.04827584130997334,0.04850664775906888,0.02502660218462957,0.04681197198643294,0.01900801789086661,0.04709185122754249,0.03409142201619964,0.03557113425507748,0.051379680354604974,0.051635156979866606,0.05032382490852609,0.043989015534104677,0.048346366865328644,0.0477486449184702,0.04949848716936618,0.0482561421815512,0.04918339253105198,0.0403882969116837,0.05020223212195237,0.04609927937087463,0.04681712921156513,0.042118980728966346,0.04727425935959277,0.04666603455541334,0.048335628777894206,0.04582550273468747,0.04824088232474075,0.013630629636318971,0.05046142895047078,0.047684268791093755,0.0514501089193443,0.05209358813994126,0.011162040102832593,0.052120791220452205,0.048767088743066934,0.0510442790029793,0.05064734100785326,0.04718271582641412,0.05154169258657075,0.051892855470603495,0.045365336891884,0.04283332441465471,0.04703403478729877,0.04614372113971604],\"type\":\"scatter\",\"xaxis\":\"x5\",\"yaxis\":\"y5\"}],                        {\"template\":{\"data\":{\"histogram2dcontour\":[{\"type\":\"histogram2dcontour\",\"colorbar\":{\"outlinewidth\":0,\"ticks\":\"\"},\"colorscale\":[[0.0,\"#0d0887\"],[0.1111111111111111,\"#46039f\"],[0.2222222222222222,\"#7201a8\"],[0.3333333333333333,\"#9c179e\"],[0.4444444444444444,\"#bd3786\"],[0.5555555555555556,\"#d8576b\"],[0.6666666666666666,\"#ed7953\"],[0.7777777777777778,\"#fb9f3a\"],[0.8888888888888888,\"#fdca26\"],[1.0,\"#f0f921\"]]}],\"choropleth\":[{\"type\":\"choropleth\",\"colorbar\":{\"outlinewidth\":0,\"ticks\":\"\"}}],\"histogram2d\":[{\"type\":\"histogram2d\",\"colorbar\":{\"outlinewidth\":0,\"ticks\":\"\"},\"colorscale\":[[0.0,\"#0d0887\"],[0.1111111111111111,\"#46039f\"],[0.2222222222222222,\"#7201a8\"],[0.3333333333333333,\"#9c179e\"],[0.4444444444444444,\"#bd3786\"],[0.5555555555555556,\"#d8576b\"],[0.6666666666666666,\"#ed7953\"],[0.7777777777777778,\"#fb9f3a\"],[0.8888888888888888,\"#fdca26\"],[1.0,\"#f0f921\"]]}],\"heatmap\":[{\"type\":\"heatmap\",\"colorbar\":{\"outlinewidth\":0,\"ticks\":\"\"},\"colorscale\":[[0.0,\"#0d0887\"],[0.1111111111111111,\"#46039f\"],[0.2222222222222222,\"#7201a8\"],[0.3333333333333333,\"#9c179e\"],[0.4444444444444444,\"#bd3786\"],[0.5555555555555556,\"#d8576b\"],[0.6666666666666666,\"#ed7953\"],[0.7777777777777778,\"#fb9f3a\"],[0.8888888888888888,\"#fdca26\"],[1.0,\"#f0f921\"]]}],\"heatmapgl\":[{\"type\":\"heatmapgl\",\"colorbar\":{\"outlinewidth\":0,\"ticks\":\"\"},\"colorscale\":[[0.0,\"#0d0887\"],[0.1111111111111111,\"#46039f\"],[0.2222222222222222,\"#7201a8\"],[0.3333333333333333,\"#9c179e\"],[0.4444444444444444,\"#bd3786\"],[0.5555555555555556,\"#d8576b\"],[0.6666666666666666,\"#ed7953\"],[0.7777777777777778,\"#fb9f3a\"],[0.8888888888888888,\"#fdca26\"],[1.0,\"#f0f921\"]]}],\"contourcarpet\":[{\"type\":\"contourcarpet\",\"colorbar\":{\"outlinewidth\":0,\"ticks\":\"\"}}],\"contour\":[{\"type\":\"contour\",\"colorbar\":{\"outlinewidth\":0,\"ticks\":\"\"},\"colorscale\":[[0.0,\"#0d0887\"],[0.1111111111111111,\"#46039f\"],[0.2222222222222222,\"#7201a8\"],[0.3333333333333333,\"#9c179e\"],[0.4444444444444444,\"#bd3786\"],[0.5555555555555556,\"#d8576b\"],[0.6666666666666666,\"#ed7953\"],[0.7777777777777778,\"#fb9f3a\"],[0.8888888888888888,\"#fdca26\"],[1.0,\"#f0f921\"]]}],\"surface\":[{\"type\":\"surface\",\"colorbar\":{\"outlinewidth\":0,\"ticks\":\"\"},\"colorscale\":[[0.0,\"#0d0887\"],[0.1111111111111111,\"#46039f\"],[0.2222222222222222,\"#7201a8\"],[0.3333333333333333,\"#9c179e\"],[0.4444444444444444,\"#bd3786\"],[0.5555555555555556,\"#d8576b\"],[0.6666666666666666,\"#ed7953\"],[0.7777777777777778,\"#fb9f3a\"],[0.8888888888888888,\"#fdca26\"],[1.0,\"#f0f921\"]]}],\"mesh3d\":[{\"type\":\"mesh3d\",\"colorbar\":{\"outlinewidth\":0,\"ticks\":\"\"}}],\"scatter\":[{\"fillpattern\":{\"fillmode\":\"overlay\",\"size\":10,\"solidity\":0.2},\"type\":\"scatter\"}],\"parcoords\":[{\"type\":\"parcoords\",\"line\":{\"colorbar\":{\"outlinewidth\":0,\"ticks\":\"\"}}}],\"scatterpolargl\":[{\"type\":\"scatterpolargl\",\"marker\":{\"colorbar\":{\"outlinewidth\":0,\"ticks\":\"\"}}}],\"bar\":[{\"error_x\":{\"color\":\"#2a3f5f\"},\"error_y\":{\"color\":\"#2a3f5f\"},\"marker\":{\"line\":{\"color\":\"#E5ECF6\",\"width\":0.5},\"pattern\":{\"fillmode\":\"overlay\",\"size\":10,\"solidity\":0.2}},\"type\":\"bar\"}],\"scattergeo\":[{\"type\":\"scattergeo\",\"marker\":{\"colorbar\":{\"outlinewidth\":0,\"ticks\":\"\"}}}],\"scatterpolar\":[{\"type\":\"scatterpolar\",\"marker\":{\"colorbar\":{\"outlinewidth\":0,\"ticks\":\"\"}}}],\"histogram\":[{\"marker\":{\"pattern\":{\"fillmode\":\"overlay\",\"size\":10,\"solidity\":0.2}},\"type\":\"histogram\"}],\"scattergl\":[{\"type\":\"scattergl\",\"marker\":{\"colorbar\":{\"outlinewidth\":0,\"ticks\":\"\"}}}],\"scatter3d\":[{\"type\":\"scatter3d\",\"line\":{\"colorbar\":{\"outlinewidth\":0,\"ticks\":\"\"}},\"marker\":{\"colorbar\":{\"outlinewidth\":0,\"ticks\":\"\"}}}],\"scattermapbox\":[{\"type\":\"scattermapbox\",\"marker\":{\"colorbar\":{\"outlinewidth\":0,\"ticks\":\"\"}}}],\"scatterternary\":[{\"type\":\"scatterternary\",\"marker\":{\"colorbar\":{\"outlinewidth\":0,\"ticks\":\"\"}}}],\"scattercarpet\":[{\"type\":\"scattercarpet\",\"marker\":{\"colorbar\":{\"outlinewidth\":0,\"ticks\":\"\"}}}],\"carpet\":[{\"aaxis\":{\"endlinecolor\":\"#2a3f5f\",\"gridcolor\":\"white\",\"linecolor\":\"white\",\"minorgridcolor\":\"white\",\"startlinecolor\":\"#2a3f5f\"},\"baxis\":{\"endlinecolor\":\"#2a3f5f\",\"gridcolor\":\"white\",\"linecolor\":\"white\",\"minorgridcolor\":\"white\",\"startlinecolor\":\"#2a3f5f\"},\"type\":\"carpet\"}],\"table\":[{\"cells\":{\"fill\":{\"color\":\"#EBF0F8\"},\"line\":{\"color\":\"white\"}},\"header\":{\"fill\":{\"color\":\"#C8D4E3\"},\"line\":{\"color\":\"white\"}},\"type\":\"table\"}],\"barpolar\":[{\"marker\":{\"line\":{\"color\":\"#E5ECF6\",\"width\":0.5},\"pattern\":{\"fillmode\":\"overlay\",\"size\":10,\"solidity\":0.2}},\"type\":\"barpolar\"}],\"pie\":[{\"automargin\":true,\"type\":\"pie\"}]},\"layout\":{\"autotypenumbers\":\"strict\",\"colorway\":[\"#636efa\",\"#EF553B\",\"#00cc96\",\"#ab63fa\",\"#FFA15A\",\"#19d3f3\",\"#FF6692\",\"#B6E880\",\"#FF97FF\",\"#FECB52\"],\"font\":{\"color\":\"#2a3f5f\"},\"hovermode\":\"closest\",\"hoverlabel\":{\"align\":\"left\"},\"paper_bgcolor\":\"white\",\"plot_bgcolor\":\"#E5ECF6\",\"polar\":{\"bgcolor\":\"#E5ECF6\",\"angularaxis\":{\"gridcolor\":\"white\",\"linecolor\":\"white\",\"ticks\":\"\"},\"radialaxis\":{\"gridcolor\":\"white\",\"linecolor\":\"white\",\"ticks\":\"\"}},\"ternary\":{\"bgcolor\":\"#E5ECF6\",\"aaxis\":{\"gridcolor\":\"white\",\"linecolor\":\"white\",\"ticks\":\"\"},\"baxis\":{\"gridcolor\":\"white\",\"linecolor\":\"white\",\"ticks\":\"\"},\"caxis\":{\"gridcolor\":\"white\",\"linecolor\":\"white\",\"ticks\":\"\"}},\"coloraxis\":{\"colorbar\":{\"outlinewidth\":0,\"ticks\":\"\"}},\"colorscale\":{\"sequential\":[[0.0,\"#0d0887\"],[0.1111111111111111,\"#46039f\"],[0.2222222222222222,\"#7201a8\"],[0.3333333333333333,\"#9c179e\"],[0.4444444444444444,\"#bd3786\"],[0.5555555555555556,\"#d8576b\"],[0.6666666666666666,\"#ed7953\"],[0.7777777777777778,\"#fb9f3a\"],[0.8888888888888888,\"#fdca26\"],[1.0,\"#f0f921\"]],\"sequentialminus\":[[0.0,\"#0d0887\"],[0.1111111111111111,\"#46039f\"],[0.2222222222222222,\"#7201a8\"],[0.3333333333333333,\"#9c179e\"],[0.4444444444444444,\"#bd3786\"],[0.5555555555555556,\"#d8576b\"],[0.6666666666666666,\"#ed7953\"],[0.7777777777777778,\"#fb9f3a\"],[0.8888888888888888,\"#fdca26\"],[1.0,\"#f0f921\"]],\"diverging\":[[0,\"#8e0152\"],[0.1,\"#c51b7d\"],[0.2,\"#de77ae\"],[0.3,\"#f1b6da\"],[0.4,\"#fde0ef\"],[0.5,\"#f7f7f7\"],[0.6,\"#e6f5d0\"],[0.7,\"#b8e186\"],[0.8,\"#7fbc41\"],[0.9,\"#4d9221\"],[1,\"#276419\"]]},\"xaxis\":{\"gridcolor\":\"white\",\"linecolor\":\"white\",\"ticks\":\"\",\"title\":{\"standoff\":15},\"zerolinecolor\":\"white\",\"automargin\":true,\"zerolinewidth\":2},\"yaxis\":{\"gridcolor\":\"white\",\"linecolor\":\"white\",\"ticks\":\"\",\"title\":{\"standoff\":15},\"zerolinecolor\":\"white\",\"automargin\":true,\"zerolinewidth\":2},\"scene\":{\"xaxis\":{\"backgroundcolor\":\"#E5ECF6\",\"gridcolor\":\"white\",\"linecolor\":\"white\",\"showbackground\":true,\"ticks\":\"\",\"zerolinecolor\":\"white\",\"gridwidth\":2},\"yaxis\":{\"backgroundcolor\":\"#E5ECF6\",\"gridcolor\":\"white\",\"linecolor\":\"white\",\"showbackground\":true,\"ticks\":\"\",\"zerolinecolor\":\"white\",\"gridwidth\":2},\"zaxis\":{\"backgroundcolor\":\"#E5ECF6\",\"gridcolor\":\"white\",\"linecolor\":\"white\",\"showbackground\":true,\"ticks\":\"\",\"zerolinecolor\":\"white\",\"gridwidth\":2}},\"shapedefaults\":{\"line\":{\"color\":\"#2a3f5f\"}},\"annotationdefaults\":{\"arrowcolor\":\"#2a3f5f\",\"arrowhead\":0,\"arrowwidth\":1},\"geo\":{\"bgcolor\":\"white\",\"landcolor\":\"#E5ECF6\",\"subunitcolor\":\"white\",\"showland\":true,\"showlakes\":true,\"lakecolor\":\"white\"},\"title\":{\"x\":0.05},\"mapbox\":{\"style\":\"light\"}}},\"xaxis\":{\"anchor\":\"y\",\"domain\":[0.0,0.16799999999999998],\"title\":{\"text\":\"alpha\"}},\"yaxis\":{\"anchor\":\"x\",\"domain\":[0.0,1.0],\"title\":{\"text\":\"Objective Value\"}},\"xaxis2\":{\"anchor\":\"y2\",\"domain\":[0.208,0.376],\"title\":{\"text\":\"beta\"}},\"yaxis2\":{\"anchor\":\"x2\",\"domain\":[0.0,1.0],\"matches\":\"y\",\"showticklabels\":false},\"xaxis3\":{\"anchor\":\"y3\",\"domain\":[0.416,0.584],\"title\":{\"text\":\"implicit\"},\"type\":\"category\",\"categoryorder\":\"array\",\"categoryarray\":[true,false]},\"yaxis3\":{\"anchor\":\"x3\",\"domain\":[0.0,1.0],\"matches\":\"y\",\"showticklabels\":false},\"xaxis4\":{\"anchor\":\"y4\",\"domain\":[0.624,0.792],\"title\":{\"text\":\"normalize_similarity\"},\"type\":\"category\",\"categoryorder\":\"array\",\"categoryarray\":[true,false]},\"yaxis4\":{\"anchor\":\"x4\",\"domain\":[0.0,1.0],\"matches\":\"y\",\"showticklabels\":false},\"xaxis5\":{\"anchor\":\"y5\",\"domain\":[0.832,1.0],\"title\":{\"text\":\"topK\"}},\"yaxis5\":{\"anchor\":\"x5\",\"domain\":[0.0,1.0],\"matches\":\"y\",\"showticklabels\":false},\"title\":{\"text\":\"Slice Plot\"},\"width\":1500},                        {\"responsive\": true}                    ).then(function(){\n",
       "                            \n",
       "var gd = document.getElementById('4cb319f0-da56-475a-898f-73b17a438868');\n",
       "var x = new MutationObserver(function (mutations, observer) {{\n",
       "        var display = window.getComputedStyle(gd).display;\n",
       "        if (!display || display === 'none') {{\n",
       "            console.log([gd, 'removed!']);\n",
       "            Plotly.purge(gd);\n",
       "            observer.disconnect();\n",
       "        }}\n",
       "}});\n",
       "\n",
       "// Listen for the removal of the full notebook cells\n",
       "var notebookContainer = gd.closest('#notebook-container');\n",
       "if (notebookContainer) {{\n",
       "    x.observe(notebookContainer, {childList: true});\n",
       "}}\n",
       "\n",
       "// Listen for the clearing of the current output cell\n",
       "var outputEl = gd.closest('.output');\n",
       "if (outputEl) {{\n",
       "    x.observe(outputEl, {childList: true});\n",
       "}}\n",
       "\n",
       "                        })                };                });            </script>        </div>"
      ]
     },
     "metadata": {},
     "output_type": "display_data"
    }
   ],
   "source": [
    "if not config['tune_parameters']:\n",
    "    optuna_study = optuna.load_study(study_name=f'hyperparameters_tuning_{config[\"model\"]}', storage=f'sqlite:///{config[\"database_path\"]}')\n",
    "    \n",
    "fig = optuna.visualization.plot_slice(optuna_study)\n",
    "fig.show()"
   ]
  },
  {
   "cell_type": "code",
   "execution_count": 18,
   "id": "2433b34a",
   "metadata": {
    "execution": {
     "iopub.execute_input": "2024-11-18T20:54:12.688231Z",
     "iopub.status.busy": "2024-11-18T20:54:12.687538Z",
     "iopub.status.idle": "2024-11-18T20:54:13.864912Z",
     "shell.execute_reply": "2024-11-18T20:54:13.863879Z"
    },
    "papermill": {
     "duration": 1.209245,
     "end_time": "2024-11-18T20:54:13.867147",
     "exception": false,
     "start_time": "2024-11-18T20:54:12.657902",
     "status": "completed"
    },
    "tags": []
   },
   "outputs": [
    {
     "data": {
      "text/html": [
       "<div>                            <div id=\"9f005e5b-53ff-4375-a23f-e689ceceddd9\" class=\"plotly-graph-div\" style=\"height:525px; width:100%;\"></div>            <script type=\"text/javascript\">                require([\"plotly\"], function(Plotly) {                    window.PLOTLYENV=window.PLOTLYENV || {};                                    if (document.getElementById(\"9f005e5b-53ff-4375-a23f-e689ceceddd9\")) {                    Plotly.newPlot(                        \"9f005e5b-53ff-4375-a23f-e689ceceddd9\",                        [{\"cliponaxis\":false,\"hovertemplate\":[\"normalize_similarity (CategoricalDistribution): 0.0014759226515239352\\u003cextra\\u003e\\u003c\\u002fextra\\u003e\",\"implicit (CategoricalDistribution): 0.0026319607602515054\\u003cextra\\u003e\\u003c\\u002fextra\\u003e\",\"topK (IntDistribution): 0.012167807481698193\\u003cextra\\u003e\\u003c\\u002fextra\\u003e\",\"alpha (FloatDistribution): 0.04613172723861343\\u003cextra\\u003e\\u003c\\u002fextra\\u003e\",\"beta (FloatDistribution): 0.9375925818679129\\u003cextra\\u003e\\u003c\\u002fextra\\u003e\"],\"name\":\"Objective Value\",\"orientation\":\"h\",\"text\":[\"\\u003c0.01\",\"\\u003c0.01\",\"0.01\",\"0.05\",\"0.94\"],\"textposition\":\"outside\",\"x\":[0.0014759226515239352,0.0026319607602515054,0.012167807481698193,0.04613172723861343,0.9375925818679129],\"y\":[\"normalize_similarity\",\"implicit\",\"topK\",\"alpha\",\"beta\"],\"type\":\"bar\"}],                        {\"title\":{\"text\":\"Hyperparameter Importances\"},\"xaxis\":{\"title\":{\"text\":\"Hyperparameter Importance\"}},\"yaxis\":{\"title\":{\"text\":\"Hyperparameter\"}},\"template\":{\"data\":{\"histogram2dcontour\":[{\"type\":\"histogram2dcontour\",\"colorbar\":{\"outlinewidth\":0,\"ticks\":\"\"},\"colorscale\":[[0.0,\"#0d0887\"],[0.1111111111111111,\"#46039f\"],[0.2222222222222222,\"#7201a8\"],[0.3333333333333333,\"#9c179e\"],[0.4444444444444444,\"#bd3786\"],[0.5555555555555556,\"#d8576b\"],[0.6666666666666666,\"#ed7953\"],[0.7777777777777778,\"#fb9f3a\"],[0.8888888888888888,\"#fdca26\"],[1.0,\"#f0f921\"]]}],\"choropleth\":[{\"type\":\"choropleth\",\"colorbar\":{\"outlinewidth\":0,\"ticks\":\"\"}}],\"histogram2d\":[{\"type\":\"histogram2d\",\"colorbar\":{\"outlinewidth\":0,\"ticks\":\"\"},\"colorscale\":[[0.0,\"#0d0887\"],[0.1111111111111111,\"#46039f\"],[0.2222222222222222,\"#7201a8\"],[0.3333333333333333,\"#9c179e\"],[0.4444444444444444,\"#bd3786\"],[0.5555555555555556,\"#d8576b\"],[0.6666666666666666,\"#ed7953\"],[0.7777777777777778,\"#fb9f3a\"],[0.8888888888888888,\"#fdca26\"],[1.0,\"#f0f921\"]]}],\"heatmap\":[{\"type\":\"heatmap\",\"colorbar\":{\"outlinewidth\":0,\"ticks\":\"\"},\"colorscale\":[[0.0,\"#0d0887\"],[0.1111111111111111,\"#46039f\"],[0.2222222222222222,\"#7201a8\"],[0.3333333333333333,\"#9c179e\"],[0.4444444444444444,\"#bd3786\"],[0.5555555555555556,\"#d8576b\"],[0.6666666666666666,\"#ed7953\"],[0.7777777777777778,\"#fb9f3a\"],[0.8888888888888888,\"#fdca26\"],[1.0,\"#f0f921\"]]}],\"heatmapgl\":[{\"type\":\"heatmapgl\",\"colorbar\":{\"outlinewidth\":0,\"ticks\":\"\"},\"colorscale\":[[0.0,\"#0d0887\"],[0.1111111111111111,\"#46039f\"],[0.2222222222222222,\"#7201a8\"],[0.3333333333333333,\"#9c179e\"],[0.4444444444444444,\"#bd3786\"],[0.5555555555555556,\"#d8576b\"],[0.6666666666666666,\"#ed7953\"],[0.7777777777777778,\"#fb9f3a\"],[0.8888888888888888,\"#fdca26\"],[1.0,\"#f0f921\"]]}],\"contourcarpet\":[{\"type\":\"contourcarpet\",\"colorbar\":{\"outlinewidth\":0,\"ticks\":\"\"}}],\"contour\":[{\"type\":\"contour\",\"colorbar\":{\"outlinewidth\":0,\"ticks\":\"\"},\"colorscale\":[[0.0,\"#0d0887\"],[0.1111111111111111,\"#46039f\"],[0.2222222222222222,\"#7201a8\"],[0.3333333333333333,\"#9c179e\"],[0.4444444444444444,\"#bd3786\"],[0.5555555555555556,\"#d8576b\"],[0.6666666666666666,\"#ed7953\"],[0.7777777777777778,\"#fb9f3a\"],[0.8888888888888888,\"#fdca26\"],[1.0,\"#f0f921\"]]}],\"surface\":[{\"type\":\"surface\",\"colorbar\":{\"outlinewidth\":0,\"ticks\":\"\"},\"colorscale\":[[0.0,\"#0d0887\"],[0.1111111111111111,\"#46039f\"],[0.2222222222222222,\"#7201a8\"],[0.3333333333333333,\"#9c179e\"],[0.4444444444444444,\"#bd3786\"],[0.5555555555555556,\"#d8576b\"],[0.6666666666666666,\"#ed7953\"],[0.7777777777777778,\"#fb9f3a\"],[0.8888888888888888,\"#fdca26\"],[1.0,\"#f0f921\"]]}],\"mesh3d\":[{\"type\":\"mesh3d\",\"colorbar\":{\"outlinewidth\":0,\"ticks\":\"\"}}],\"scatter\":[{\"fillpattern\":{\"fillmode\":\"overlay\",\"size\":10,\"solidity\":0.2},\"type\":\"scatter\"}],\"parcoords\":[{\"type\":\"parcoords\",\"line\":{\"colorbar\":{\"outlinewidth\":0,\"ticks\":\"\"}}}],\"scatterpolargl\":[{\"type\":\"scatterpolargl\",\"marker\":{\"colorbar\":{\"outlinewidth\":0,\"ticks\":\"\"}}}],\"bar\":[{\"error_x\":{\"color\":\"#2a3f5f\"},\"error_y\":{\"color\":\"#2a3f5f\"},\"marker\":{\"line\":{\"color\":\"#E5ECF6\",\"width\":0.5},\"pattern\":{\"fillmode\":\"overlay\",\"size\":10,\"solidity\":0.2}},\"type\":\"bar\"}],\"scattergeo\":[{\"type\":\"scattergeo\",\"marker\":{\"colorbar\":{\"outlinewidth\":0,\"ticks\":\"\"}}}],\"scatterpolar\":[{\"type\":\"scatterpolar\",\"marker\":{\"colorbar\":{\"outlinewidth\":0,\"ticks\":\"\"}}}],\"histogram\":[{\"marker\":{\"pattern\":{\"fillmode\":\"overlay\",\"size\":10,\"solidity\":0.2}},\"type\":\"histogram\"}],\"scattergl\":[{\"type\":\"scattergl\",\"marker\":{\"colorbar\":{\"outlinewidth\":0,\"ticks\":\"\"}}}],\"scatter3d\":[{\"type\":\"scatter3d\",\"line\":{\"colorbar\":{\"outlinewidth\":0,\"ticks\":\"\"}},\"marker\":{\"colorbar\":{\"outlinewidth\":0,\"ticks\":\"\"}}}],\"scattermapbox\":[{\"type\":\"scattermapbox\",\"marker\":{\"colorbar\":{\"outlinewidth\":0,\"ticks\":\"\"}}}],\"scatterternary\":[{\"type\":\"scatterternary\",\"marker\":{\"colorbar\":{\"outlinewidth\":0,\"ticks\":\"\"}}}],\"scattercarpet\":[{\"type\":\"scattercarpet\",\"marker\":{\"colorbar\":{\"outlinewidth\":0,\"ticks\":\"\"}}}],\"carpet\":[{\"aaxis\":{\"endlinecolor\":\"#2a3f5f\",\"gridcolor\":\"white\",\"linecolor\":\"white\",\"minorgridcolor\":\"white\",\"startlinecolor\":\"#2a3f5f\"},\"baxis\":{\"endlinecolor\":\"#2a3f5f\",\"gridcolor\":\"white\",\"linecolor\":\"white\",\"minorgridcolor\":\"white\",\"startlinecolor\":\"#2a3f5f\"},\"type\":\"carpet\"}],\"table\":[{\"cells\":{\"fill\":{\"color\":\"#EBF0F8\"},\"line\":{\"color\":\"white\"}},\"header\":{\"fill\":{\"color\":\"#C8D4E3\"},\"line\":{\"color\":\"white\"}},\"type\":\"table\"}],\"barpolar\":[{\"marker\":{\"line\":{\"color\":\"#E5ECF6\",\"width\":0.5},\"pattern\":{\"fillmode\":\"overlay\",\"size\":10,\"solidity\":0.2}},\"type\":\"barpolar\"}],\"pie\":[{\"automargin\":true,\"type\":\"pie\"}]},\"layout\":{\"autotypenumbers\":\"strict\",\"colorway\":[\"#636efa\",\"#EF553B\",\"#00cc96\",\"#ab63fa\",\"#FFA15A\",\"#19d3f3\",\"#FF6692\",\"#B6E880\",\"#FF97FF\",\"#FECB52\"],\"font\":{\"color\":\"#2a3f5f\"},\"hovermode\":\"closest\",\"hoverlabel\":{\"align\":\"left\"},\"paper_bgcolor\":\"white\",\"plot_bgcolor\":\"#E5ECF6\",\"polar\":{\"bgcolor\":\"#E5ECF6\",\"angularaxis\":{\"gridcolor\":\"white\",\"linecolor\":\"white\",\"ticks\":\"\"},\"radialaxis\":{\"gridcolor\":\"white\",\"linecolor\":\"white\",\"ticks\":\"\"}},\"ternary\":{\"bgcolor\":\"#E5ECF6\",\"aaxis\":{\"gridcolor\":\"white\",\"linecolor\":\"white\",\"ticks\":\"\"},\"baxis\":{\"gridcolor\":\"white\",\"linecolor\":\"white\",\"ticks\":\"\"},\"caxis\":{\"gridcolor\":\"white\",\"linecolor\":\"white\",\"ticks\":\"\"}},\"coloraxis\":{\"colorbar\":{\"outlinewidth\":0,\"ticks\":\"\"}},\"colorscale\":{\"sequential\":[[0.0,\"#0d0887\"],[0.1111111111111111,\"#46039f\"],[0.2222222222222222,\"#7201a8\"],[0.3333333333333333,\"#9c179e\"],[0.4444444444444444,\"#bd3786\"],[0.5555555555555556,\"#d8576b\"],[0.6666666666666666,\"#ed7953\"],[0.7777777777777778,\"#fb9f3a\"],[0.8888888888888888,\"#fdca26\"],[1.0,\"#f0f921\"]],\"sequentialminus\":[[0.0,\"#0d0887\"],[0.1111111111111111,\"#46039f\"],[0.2222222222222222,\"#7201a8\"],[0.3333333333333333,\"#9c179e\"],[0.4444444444444444,\"#bd3786\"],[0.5555555555555556,\"#d8576b\"],[0.6666666666666666,\"#ed7953\"],[0.7777777777777778,\"#fb9f3a\"],[0.8888888888888888,\"#fdca26\"],[1.0,\"#f0f921\"]],\"diverging\":[[0,\"#8e0152\"],[0.1,\"#c51b7d\"],[0.2,\"#de77ae\"],[0.3,\"#f1b6da\"],[0.4,\"#fde0ef\"],[0.5,\"#f7f7f7\"],[0.6,\"#e6f5d0\"],[0.7,\"#b8e186\"],[0.8,\"#7fbc41\"],[0.9,\"#4d9221\"],[1,\"#276419\"]]},\"xaxis\":{\"gridcolor\":\"white\",\"linecolor\":\"white\",\"ticks\":\"\",\"title\":{\"standoff\":15},\"zerolinecolor\":\"white\",\"automargin\":true,\"zerolinewidth\":2},\"yaxis\":{\"gridcolor\":\"white\",\"linecolor\":\"white\",\"ticks\":\"\",\"title\":{\"standoff\":15},\"zerolinecolor\":\"white\",\"automargin\":true,\"zerolinewidth\":2},\"scene\":{\"xaxis\":{\"backgroundcolor\":\"#E5ECF6\",\"gridcolor\":\"white\",\"linecolor\":\"white\",\"showbackground\":true,\"ticks\":\"\",\"zerolinecolor\":\"white\",\"gridwidth\":2},\"yaxis\":{\"backgroundcolor\":\"#E5ECF6\",\"gridcolor\":\"white\",\"linecolor\":\"white\",\"showbackground\":true,\"ticks\":\"\",\"zerolinecolor\":\"white\",\"gridwidth\":2},\"zaxis\":{\"backgroundcolor\":\"#E5ECF6\",\"gridcolor\":\"white\",\"linecolor\":\"white\",\"showbackground\":true,\"ticks\":\"\",\"zerolinecolor\":\"white\",\"gridwidth\":2}},\"shapedefaults\":{\"line\":{\"color\":\"#2a3f5f\"}},\"annotationdefaults\":{\"arrowcolor\":\"#2a3f5f\",\"arrowhead\":0,\"arrowwidth\":1},\"geo\":{\"bgcolor\":\"white\",\"landcolor\":\"#E5ECF6\",\"subunitcolor\":\"white\",\"showland\":true,\"showlakes\":true,\"lakecolor\":\"white\"},\"title\":{\"x\":0.05},\"mapbox\":{\"style\":\"light\"}}}},                        {\"responsive\": true}                    ).then(function(){\n",
       "                            \n",
       "var gd = document.getElementById('9f005e5b-53ff-4375-a23f-e689ceceddd9');\n",
       "var x = new MutationObserver(function (mutations, observer) {{\n",
       "        var display = window.getComputedStyle(gd).display;\n",
       "        if (!display || display === 'none') {{\n",
       "            console.log([gd, 'removed!']);\n",
       "            Plotly.purge(gd);\n",
       "            observer.disconnect();\n",
       "        }}\n",
       "}});\n",
       "\n",
       "// Listen for the removal of the full notebook cells\n",
       "var notebookContainer = gd.closest('#notebook-container');\n",
       "if (notebookContainer) {{\n",
       "    x.observe(notebookContainer, {childList: true});\n",
       "}}\n",
       "\n",
       "// Listen for the clearing of the current output cell\n",
       "var outputEl = gd.closest('.output');\n",
       "if (outputEl) {{\n",
       "    x.observe(outputEl, {childList: true});\n",
       "}}\n",
       "\n",
       "                        })                };                });            </script>        </div>"
      ]
     },
     "metadata": {},
     "output_type": "display_data"
    }
   ],
   "source": [
    "if not config['tune_parameters']:\n",
    "    optuna_study = optuna.load_study(study_name=f'hyperparameters_tuning_{config[\"model\"]}', storage=f'sqlite:///{config[\"database_path\"]}')\n",
    "    \n",
    "fig = optuna.visualization.plot_param_importances(optuna_study)\n",
    "fig.show()"
   ]
  },
  {
   "cell_type": "markdown",
   "id": "057cdce2",
   "metadata": {
    "papermill": {
     "duration": 0.02877,
     "end_time": "2024-11-18T20:54:13.925512",
     "exception": false,
     "start_time": "2024-11-18T20:54:13.896742",
     "status": "completed"
    },
    "tags": []
   },
   "source": [
    "## Let's train the recommender with best parameter values"
   ]
  },
  {
   "cell_type": "code",
   "execution_count": 19,
   "id": "8b65e931",
   "metadata": {
    "execution": {
     "iopub.execute_input": "2024-11-18T20:54:13.986312Z",
     "iopub.status.busy": "2024-11-18T20:54:13.985236Z",
     "iopub.status.idle": "2024-11-18T20:54:37.100236Z",
     "shell.execute_reply": "2024-11-18T20:54:37.099336Z"
    },
    "papermill": {
     "duration": 23.14845,
     "end_time": "2024-11-18T20:54:37.102675",
     "exception": false,
     "start_time": "2024-11-18T20:54:13.954225",
     "status": "completed"
    },
    "tags": []
   },
   "outputs": [
    {
     "name": "stdout",
     "output_type": "stream",
     "text": [
      "RP3betaRecommender: Similarity column 38121 (100.0%), 1829.28 column/sec. Elapsed time 20.84 sec\n"
     ]
    }
   ],
   "source": [
    "if config['tune_best_params']:\n",
    "\n",
    "    if config['tune_parameters']:\n",
    "        best_params = optuna_study.best_trial.params\n",
    "    else: \n",
    "        with open(f'/kaggle/working/TrainedModels/{config[\"model\"]}Recommender/best_params_{config[\"model\"]}.json', 'r') as best_params_json:\n",
    "            best_params = json.load(best_params_json)\n",
    "\n",
    "    recommender_instance = RP3betaRecommender(URM_train + URM_validation)\n",
    "    recommender_instance.fit(**best_params)"
   ]
  },
  {
   "cell_type": "markdown",
   "id": "e048a9f6",
   "metadata": {
    "papermill": {
     "duration": 0.031055,
     "end_time": "2024-11-18T20:54:37.163551",
     "exception": false,
     "start_time": "2024-11-18T20:54:37.132496",
     "status": "completed"
    },
    "tags": []
   },
   "source": [
    "# Testing"
   ]
  },
  {
   "cell_type": "markdown",
   "id": "3f2cb90a",
   "metadata": {
    "papermill": {
     "duration": 0.029103,
     "end_time": "2024-11-18T20:54:37.223726",
     "exception": false,
     "start_time": "2024-11-18T20:54:37.194623",
     "status": "completed"
    },
    "tags": []
   },
   "source": [
    "Create the recommendations for the submission. "
   ]
  },
  {
   "cell_type": "code",
   "execution_count": 20,
   "id": "8eef2274",
   "metadata": {
    "execution": {
     "iopub.execute_input": "2024-11-18T20:54:37.284585Z",
     "iopub.status.busy": "2024-11-18T20:54:37.283741Z",
     "iopub.status.idle": "2024-11-18T20:54:37.290772Z",
     "shell.execute_reply": "2024-11-18T20:54:37.289662Z"
    },
    "papermill": {
     "duration": 0.039725,
     "end_time": "2024-11-18T20:54:37.292734",
     "exception": false,
     "start_time": "2024-11-18T20:54:37.253009",
     "status": "completed"
    },
    "tags": []
   },
   "outputs": [],
   "source": [
    "def create_submission(data_target_users_test, recommender_instance, cutoff=10, output_file=f\"/kaggle/working/submission_{config['model']}.csv\"):\n",
    "    \n",
    "    target_result = []\n",
    "\n",
    "    for target in data_target_users_test[\"user_id\"]:\n",
    "        target_result.append(recommender_instance.recommend(target, cutoff=cutoff, remove_seen_flag=True))\n",
    "\n",
    "    user_ids = data_target_users_test[\"user_id\"]\n",
    "    formatted_data = {\n",
    "        \"user_id\": user_ids,\n",
    "        \"item_list\": [\" \".join(map(str, items)) for items in target_result]\n",
    "    }\n",
    "\n",
    "    submission_df = pd.DataFrame(formatted_data)\n",
    "    submission_df.to_csv(output_file, index=False, header=[\"user_id\", \"item_list\"])\n",
    "\n",
    "    print(f\"Submission file saved as {output_file}\")"
   ]
  },
  {
   "cell_type": "code",
   "execution_count": 21,
   "id": "5d09c48e",
   "metadata": {
    "execution": {
     "iopub.execute_input": "2024-11-18T20:54:37.352434Z",
     "iopub.status.busy": "2024-11-18T20:54:37.352056Z",
     "iopub.status.idle": "2024-11-18T20:54:57.824868Z",
     "shell.execute_reply": "2024-11-18T20:54:57.823381Z"
    },
    "papermill": {
     "duration": 20.505154,
     "end_time": "2024-11-18T20:54:57.827000",
     "exception": false,
     "start_time": "2024-11-18T20:54:37.321846",
     "status": "completed"
    },
    "tags": []
   },
   "outputs": [
    {
     "name": "stdout",
     "output_type": "stream",
     "text": [
      "Submission file saved as /kaggle/working/submission_RP3beta.csv\n"
     ]
    }
   ],
   "source": [
    "if config['tune_best_params']:\n",
    "\n",
    "    data_target_users_test = pd.read_csv('/kaggle/input/recommender-system-2024-challenge-polimi/data_target_users_test.csv')\n",
    "    create_submission(data_target_users_test, recommender_instance)"
   ]
  },
  {
   "cell_type": "markdown",
   "id": "19c718db",
   "metadata": {
    "execution": {
     "iopub.execute_input": "2024-11-14T00:04:16.877791Z",
     "iopub.status.busy": "2024-11-14T00:04:16.877275Z",
     "iopub.status.idle": "2024-11-14T00:04:16.883170Z",
     "shell.execute_reply": "2024-11-14T00:04:16.881889Z",
     "shell.execute_reply.started": "2024-11-14T00:04:16.877743Z"
    },
    "papermill": {
     "duration": 0.028641,
     "end_time": "2024-11-18T20:54:57.884879",
     "exception": false,
     "start_time": "2024-11-18T20:54:57.856238",
     "status": "completed"
    },
    "tags": []
   },
   "source": [
    "# Save Version on GitHub "
   ]
  },
  {
   "cell_type": "markdown",
   "id": "476ed080",
   "metadata": {
    "papermill": {
     "duration": 0.028709,
     "end_time": "2024-11-18T20:54:57.942609",
     "exception": false,
     "start_time": "2024-11-18T20:54:57.913900",
     "status": "completed"
    },
    "tags": []
   },
   "source": [
    "Write or import a json file where best hyperparameters are saved. "
   ]
  },
  {
   "cell_type": "code",
   "execution_count": 22,
   "id": "2ed1fb6f",
   "metadata": {
    "execution": {
     "iopub.execute_input": "2024-11-18T20:54:58.002736Z",
     "iopub.status.busy": "2024-11-18T20:54:58.002325Z",
     "iopub.status.idle": "2024-11-18T20:54:59.331076Z",
     "shell.execute_reply": "2024-11-18T20:54:59.330034Z"
    },
    "papermill": {
     "duration": 1.361486,
     "end_time": "2024-11-18T20:54:59.333090",
     "exception": false,
     "start_time": "2024-11-18T20:54:57.971604",
     "status": "completed"
    },
    "tags": []
   },
   "outputs": [
    {
     "name": "stdout",
     "output_type": "stream",
     "text": [
      "File 'TrainedModels/RP3betaRecommender/best_params_RP3beta.json' created successfully.\n"
     ]
    }
   ],
   "source": [
    "if config['tune_parameters']:\n",
    "    with open(f'/kaggle/working/best_params_{config[\"model\"]}.json', 'w') as params_file:\n",
    "        json.dump(optuna_study.best_params, params_file)\n",
    "        \n",
    "    if config['save_github']:\n",
    "        upload_file(\n",
    "            f'/kaggle/working/best_params_{config[\"model\"]}.json', \n",
    "            f'TrainedModels/{config[\"model\"]}Recommender/best_params_{config[\"model\"]}.json', \n",
    "            f'{config[\"model\"]} tuning results (from kaggle notebook)'\n",
    "        )\n",
    "elif config['copy_prev_best_params']:\n",
    "    shutil.copyfile(\n",
    "        f'/kaggle/working/RECsys_Challenge2024/TrainedModels/{config[\"model\"]}Recommender/'\\\n",
    "        f'best_params_{config[\"model\"]}.json', \n",
    "        f'/kaggle/working/best_params_{config[\"model\"]}.json'\n",
    "    )"
   ]
  },
  {
   "cell_type": "markdown",
   "id": "fcff1cbe",
   "metadata": {
    "execution": {
     "iopub.execute_input": "2024-11-14T00:41:34.294243Z",
     "iopub.status.busy": "2024-11-14T00:41:34.293739Z",
     "iopub.status.idle": "2024-11-14T00:41:34.301478Z",
     "shell.execute_reply": "2024-11-14T00:41:34.299869Z",
     "shell.execute_reply.started": "2024-11-14T00:41:34.294186Z"
    },
    "papermill": {
     "duration": 0.028627,
     "end_time": "2024-11-18T20:54:59.390916",
     "exception": false,
     "start_time": "2024-11-18T20:54:59.362289",
     "status": "completed"
    },
    "tags": []
   },
   "source": [
    "Save the history of the tuned model."
   ]
  },
  {
   "cell_type": "code",
   "execution_count": 23,
   "id": "1f134224",
   "metadata": {
    "execution": {
     "iopub.execute_input": "2024-11-18T20:54:59.450880Z",
     "iopub.status.busy": "2024-11-18T20:54:59.450475Z",
     "iopub.status.idle": "2024-11-18T20:55:01.164709Z",
     "shell.execute_reply": "2024-11-18T20:55:01.163555Z"
    },
    "papermill": {
     "duration": 1.746692,
     "end_time": "2024-11-18T20:55:01.166845",
     "exception": false,
     "start_time": "2024-11-18T20:54:59.420153",
     "status": "completed"
    },
    "tags": []
   },
   "outputs": [
    {
     "name": "stdout",
     "output_type": "stream",
     "text": [
      "File 'TrainedModels/RP3betaRecommender/history_RP3beta.db' created successfully.\n"
     ]
    }
   ],
   "source": [
    "if config['save_github'] and config['tune_parameters']:\n",
    "    upload_file(\n",
    "        config['database_path'], \n",
    "        f'TrainedModels/{config[\"model\"]}Recommender/history_{config[\"model\"]}.db',\n",
    "        f'Tuning {config[\"model\"]} db updated results (from kaggle notebook)'\n",
    "    )"
   ]
  },
  {
   "cell_type": "markdown",
   "id": "d28e320f",
   "metadata": {
    "papermill": {
     "duration": 0.028663,
     "end_time": "2024-11-18T20:55:01.224587",
     "exception": false,
     "start_time": "2024-11-18T20:55:01.195924",
     "status": "completed"
    },
    "tags": []
   },
   "source": [
    "Save the best trained model and its submission."
   ]
  },
  {
   "cell_type": "code",
   "execution_count": null,
   "id": "b69205a9",
   "metadata": {
    "execution": {
     "iopub.execute_input": "2024-11-18T20:55:01.284560Z",
     "iopub.status.busy": "2024-11-18T20:55:01.284043Z",
     "iopub.status.idle": "2024-11-18T20:55:08.858071Z",
     "shell.execute_reply": "2024-11-18T20:55:08.857030Z"
    },
    "papermill": {
     "duration": 7.606363,
     "end_time": "2024-11-18T20:55:08.860091",
     "exception": false,
     "start_time": "2024-11-18T20:55:01.253728",
     "status": "completed"
    },
    "tags": []
   },
   "outputs": [
    {
     "name": "stdout",
     "output_type": "stream",
     "text": [
      "File 'TrainedModels/RP3betaRecommender/Submission/submission_RP3beta.csv' created successfully.\n",
      "RP3betaRecommender: Saving model in file '/kaggle/working/best_RP3beta_tuned'\n",
      "RP3betaRecommender: Saving complete\n",
      "File 'TrainedModels/RP3betaRecommender/best_RP3beta_tuned.zip' created successfully.\n"
     ]
    }
   ],
   "source": [
    "if config['save_github'] and config['tune_best_params']:\n",
    "    \n",
    "    upload_file(\n",
    "                f'/kaggle/working/submission_{config[\"model\"]}.csv', \n",
    "                f'TrainedModels/{config[\"model\"]}Recommender/Submission/'\\\n",
    "                    f'submission_{config[\"model\"]}.csv', \n",
    "                f'New {config[\"model\"]} submission (from kaggle notebook)'\n",
    "            )\n",
    "    \n",
    "    recommender_instance.save_model(folder_path='/kaggle/working/', file_name=f'best_{config[\"model\"]}_tuned')\n",
    "\n",
    "    try:\n",
    "        upload_file(\n",
    "            f'/kaggle/working/best_{config[\"model\"]}_tuned.zip',  \n",
    "            f'TrainedModels/{config[\"model\"]}Recommender/best_{config[\"model\"]}_tuned.zip', \n",
    "            f'New {config[\"model\"]} recommender tuned with best parameters (from kaggle notebook)'\n",
    "        )\n",
    "    except Exception as e:\n",
    "        print(f\"\\nThe best recommender was not saved on GitHub because its size is more than 50 MB.\")"
   ]
  }
 ],
 "metadata": {
  "kaggle": {
   "accelerator": "none",
   "dataSources": [
    {
     "databundleVersionId": 9982103,
     "sourceId": 87439,
     "sourceType": "competition"
    }
   ],
   "isGpuEnabled": false,
   "isInternetEnabled": true,
   "language": "python",
   "sourceType": "notebook"
  },
  "kernelspec": {
   "display_name": "Python 3",
   "language": "python",
   "name": "python3"
  },
  "language_info": {
   "codemirror_mode": {
    "name": "ipython",
    "version": 3
   },
   "file_extension": ".py",
   "mimetype": "text/x-python",
   "name": "python",
   "nbconvert_exporter": "python",
   "pygments_lexer": "ipython3",
   "version": "3.10.14"
  },
  "papermill": {
   "default_parameters": {},
   "duration": 8445.600422,
   "end_time": "2024-11-18T20:55:09.811673",
   "environment_variables": {},
   "exception": null,
   "input_path": "__notebook__.ipynb",
   "output_path": "__notebook__.ipynb",
   "parameters": {},
   "start_time": "2024-11-18T18:34:24.211251",
   "version": "2.6.0"
  }
 },
 "nbformat": 4,
 "nbformat_minor": 5
}
